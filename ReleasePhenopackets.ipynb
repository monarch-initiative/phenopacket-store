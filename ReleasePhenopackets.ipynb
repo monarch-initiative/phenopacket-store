{
 "cells": [
  {
   "cell_type": "markdown",
   "metadata": {},
   "source": [
    "**Prepare Phenopacket store release**\n",
    "\n",
    "This notebook shows how to pack all phenopackets in this repository into a TAR or ZIP archive.\n",
    "\n",
    "To do so, the code looks in the *notebooks* directory for all subfolders called \"phenopackets\", copies all of the\n",
    "\"*.json\" files in those directories to a temporary folder, and creates a TAR or ZIP archive from the folder.\n",
    "\n",
    "The code also provides two pandas dataframes that can be used to extract files from the archives that satisfy certain criteria, e.g., having a minimum number of HPO terms, having a certain disease diagnosis, etc."
   ]
  },
  {
   "cell_type": "code",
   "execution_count": 1,
   "metadata": {},
   "outputs": [],
   "source": [
    "from ppktstore.model import PhenopacketStore\n",
    "\n",
    "notebook_dir = \"notebooks\"\n",
    "store = PhenopacketStore.from_notebook_dir(notebook_dir)"
   ]
  },
  {
   "cell_type": "markdown",
   "metadata": {},
   "source": [
    "We show a table with gene and variant summary for each phenopacket:"
   ]
  },
  {
   "cell_type": "code",
   "execution_count": 2,
   "metadata": {},
   "outputs": [
    {
     "data": {
      "text/html": [
       "<div>\n",
       "<style scoped>\n",
       "    .dataframe tbody tr th:only-of-type {\n",
       "        vertical-align: middle;\n",
       "    }\n",
       "\n",
       "    .dataframe tbody tr th {\n",
       "        vertical-align: top;\n",
       "    }\n",
       "\n",
       "    .dataframe thead th {\n",
       "        text-align: right;\n",
       "    }\n",
       "</style>\n",
       "<table border=\"1\" class=\"dataframe\">\n",
       "  <thead>\n",
       "    <tr style=\"text-align: right;\">\n",
       "      <th></th>\n",
       "      <th>disease</th>\n",
       "      <th>disease_id</th>\n",
       "      <th>patient_id</th>\n",
       "      <th>gene</th>\n",
       "      <th>allele_1</th>\n",
       "      <th>allele_2</th>\n",
       "      <th>PMID</th>\n",
       "      <th>cohort</th>\n",
       "      <th>filename</th>\n",
       "    </tr>\n",
       "  </thead>\n",
       "  <tbody>\n",
       "    <tr>\n",
       "      <th>0</th>\n",
       "      <td>Fanconi anemia, complementation group C</td>\n",
       "      <td>OMIM:227645</td>\n",
       "      <td>proband</td>\n",
       "      <td>FANCC</td>\n",
       "      <td>NM_000136.3:c.67del</td>\n",
       "      <td>NM_000136.3:c.67del</td>\n",
       "      <td>PMID:22701786</td>\n",
       "      <td>FANCC</td>\n",
       "      <td>FANCC/phenopackets/PMID_22701786_proband.json</td>\n",
       "    </tr>\n",
       "    <tr>\n",
       "      <th>1</th>\n",
       "      <td>Fanconi anemia, complementation group C</td>\n",
       "      <td>OMIM:227645</td>\n",
       "      <td>first patient</td>\n",
       "      <td>FANCC</td>\n",
       "      <td>NM_000136.3:c.455dup</td>\n",
       "      <td>NM_000136.3:c.1393C&gt;T</td>\n",
       "      <td>PMID:16429406</td>\n",
       "      <td>FANCC</td>\n",
       "      <td>FANCC/phenopackets/PMID_16429406_firstpatient....</td>\n",
       "    </tr>\n",
       "  </tbody>\n",
       "</table>\n",
       "</div>"
      ],
      "text/plain": [
       "                                   disease   disease_id     patient_id   gene  \\\n",
       "0  Fanconi anemia, complementation group C  OMIM:227645        proband  FANCC   \n",
       "1  Fanconi anemia, complementation group C  OMIM:227645  first patient  FANCC   \n",
       "\n",
       "               allele_1               allele_2           PMID cohort  \\\n",
       "0   NM_000136.3:c.67del    NM_000136.3:c.67del  PMID:22701786  FANCC   \n",
       "1  NM_000136.3:c.455dup  NM_000136.3:c.1393C>T  PMID:16429406  FANCC   \n",
       "\n",
       "                                            filename  \n",
       "0      FANCC/phenopackets/PMID_22701786_proband.json  \n",
       "1  FANCC/phenopackets/PMID_16429406_firstpatient....  "
      ]
     },
     "execution_count": 2,
     "metadata": {},
     "output_type": "execute_result"
    }
   ],
   "source": [
    "from ppktstore.stats import summarize_diseases_and_genotype\n",
    "\n",
    "df = summarize_diseases_and_genotype(store)\n",
    "df.head(2)"
   ]
  },
  {
   "cell_type": "markdown",
   "metadata": {},
   "source": [
    "We show the number of phenotypic features, variants, alleles, and encounters for each phenopacket:"
   ]
  },
  {
   "cell_type": "code",
   "execution_count": 3,
   "metadata": {},
   "outputs": [
    {
     "data": {
      "text/html": [
       "<div>\n",
       "<style scoped>\n",
       "    .dataframe tbody tr th:only-of-type {\n",
       "        vertical-align: middle;\n",
       "    }\n",
       "\n",
       "    .dataframe tbody tr th {\n",
       "        vertical-align: top;\n",
       "    }\n",
       "\n",
       "    .dataframe thead th {\n",
       "        text-align: right;\n",
       "    }\n",
       "</style>\n",
       "<table border=\"1\" class=\"dataframe\">\n",
       "  <thead>\n",
       "    <tr style=\"text-align: right;\">\n",
       "      <th></th>\n",
       "      <th>cohort</th>\n",
       "      <th>directory</th>\n",
       "      <th>filename</th>\n",
       "      <th>phenopacket.id</th>\n",
       "      <th>disease</th>\n",
       "      <th>n_hpo</th>\n",
       "      <th>n_var</th>\n",
       "      <th>n_alleles</th>\n",
       "      <th>n_encounters</th>\n",
       "    </tr>\n",
       "  </thead>\n",
       "  <tbody>\n",
       "    <tr>\n",
       "      <th>0</th>\n",
       "      <td>FANCC</td>\n",
       "      <td>FANCC/phenopackets</td>\n",
       "      <td>PMID_22701786_proband.json</td>\n",
       "      <td>PMID_22701786_proband</td>\n",
       "      <td>Fanconi anemia, complementation group C (OMIM:...</td>\n",
       "      <td>11</td>\n",
       "      <td>1</td>\n",
       "      <td>2</td>\n",
       "      <td>2</td>\n",
       "    </tr>\n",
       "    <tr>\n",
       "      <th>1</th>\n",
       "      <td>FANCC</td>\n",
       "      <td>FANCC/phenopackets</td>\n",
       "      <td>PMID_16429406_firstpatient.json</td>\n",
       "      <td>PMID_16429406_first_patient</td>\n",
       "      <td>Fanconi anemia, complementation group C (OMIM:...</td>\n",
       "      <td>4</td>\n",
       "      <td>2</td>\n",
       "      <td>2</td>\n",
       "      <td>1</td>\n",
       "    </tr>\n",
       "    <tr>\n",
       "      <th>2</th>\n",
       "      <td>FANCC</td>\n",
       "      <td>FANCC/phenopackets</td>\n",
       "      <td>PMID_31044565_proband.json</td>\n",
       "      <td>PMID_31044565_proband</td>\n",
       "      <td>Fanconi anemia, complementation group C (OMIM:...</td>\n",
       "      <td>12</td>\n",
       "      <td>1</td>\n",
       "      <td>2</td>\n",
       "      <td>3</td>\n",
       "    </tr>\n",
       "    <tr>\n",
       "      <th>3</th>\n",
       "      <td>FANCC</td>\n",
       "      <td>FANCC/phenopackets</td>\n",
       "      <td>PMID_16429406_secondpatient.json</td>\n",
       "      <td>PMID_16429406_second_patient</td>\n",
       "      <td>Fanconi anemia, complementation group C (OMIM:...</td>\n",
       "      <td>10</td>\n",
       "      <td>2</td>\n",
       "      <td>2</td>\n",
       "      <td>2</td>\n",
       "    </tr>\n",
       "    <tr>\n",
       "      <th>4</th>\n",
       "      <td>SAMD7</td>\n",
       "      <td>SAMD7/phenopackets</td>\n",
       "      <td>PMID_38272031_Individual1-1.json</td>\n",
       "      <td>PMID_38272031_Individual_1_1</td>\n",
       "      <td>Macular dystrophy with or without cone dysfunc...</td>\n",
       "      <td>7</td>\n",
       "      <td>1</td>\n",
       "      <td>2</td>\n",
       "      <td>1</td>\n",
       "    </tr>\n",
       "  </tbody>\n",
       "</table>\n",
       "</div>"
      ],
      "text/plain": [
       "  cohort           directory                          filename  \\\n",
       "0  FANCC  FANCC/phenopackets        PMID_22701786_proband.json   \n",
       "1  FANCC  FANCC/phenopackets   PMID_16429406_firstpatient.json   \n",
       "2  FANCC  FANCC/phenopackets        PMID_31044565_proband.json   \n",
       "3  FANCC  FANCC/phenopackets  PMID_16429406_secondpatient.json   \n",
       "4  SAMD7  SAMD7/phenopackets  PMID_38272031_Individual1-1.json   \n",
       "\n",
       "                 phenopacket.id  \\\n",
       "0         PMID_22701786_proband   \n",
       "1   PMID_16429406_first_patient   \n",
       "2         PMID_31044565_proband   \n",
       "3  PMID_16429406_second_patient   \n",
       "4  PMID_38272031_Individual_1_1   \n",
       "\n",
       "                                             disease  n_hpo  n_var  n_alleles  \\\n",
       "0  Fanconi anemia, complementation group C (OMIM:...     11      1          2   \n",
       "1  Fanconi anemia, complementation group C (OMIM:...      4      2          2   \n",
       "2  Fanconi anemia, complementation group C (OMIM:...     12      1          2   \n",
       "3  Fanconi anemia, complementation group C (OMIM:...     10      2          2   \n",
       "4  Macular dystrophy with or without cone dysfunc...      7      1          2   \n",
       "\n",
       "   n_encounters  \n",
       "0             2  \n",
       "1             1  \n",
       "2             3  \n",
       "3             2  \n",
       "4             1  "
      ]
     },
     "execution_count": 3,
     "metadata": {},
     "output_type": "execute_result"
    }
   ],
   "source": [
    "from ppktstore.stats import summarize_genotype_phenotype\n",
    "\n",
    "df = summarize_genotype_phenotype(store)\n",
    "df.head()"
   ]
  },
  {
   "cell_type": "markdown",
   "metadata": {},
   "source": [
    "# Create release archives"
   ]
  },
  {
   "cell_type": "code",
   "execution_count": 4,
   "metadata": {},
   "outputs": [],
   "source": [
    "\n",
    "from ppktstore.archive import PhenopacketStoreArchiver, ArchiveFormat\n",
    "\n",
    "archiver = PhenopacketStoreArchiver()"
   ]
  },
  {
   "cell_type": "markdown",
   "metadata": {},
   "source": [
    "## Export TAR GZ archive\n",
    "\n",
    "Write phenopackets into a TAR GZ archive `all_phenopackets.tar.gz`."
   ]
  },
  {
   "cell_type": "code",
   "execution_count": 5,
   "metadata": {},
   "outputs": [],
   "source": [
    "archiver.prepare_archive(\n",
    "    store=store,\n",
    "    format=ArchiveFormat.TGZ,\n",
    "    filename=\"all_phenopackets\",\n",
    ")"
   ]
  },
  {
   "cell_type": "markdown",
   "metadata": {},
   "source": [
    "## Export ZIP archive\n",
    "\n",
    "Write phenopackets into a TAR GZ archive `all_phenopackets.zip`."
   ]
  },
  {
   "cell_type": "code",
   "execution_count": null,
   "metadata": {},
   "outputs": [],
   "source": [
    "archiver.prepare_archive(\n",
    "    store=store,\n",
    "    format=ArchiveFormat.ZIP,\n",
    "    filename=\"all_phenopackets\",\n",
    ")"
   ]
  },
  {
   "cell_type": "markdown",
   "metadata": {},
   "source": [
    "EOF"
   ]
  }
 ],
 "metadata": {
  "kernelspec": {
   "display_name": "Python 3",
   "language": "python",
   "name": "python3"
  },
  "language_info": {
   "codemirror_mode": {
    "name": "ipython",
    "version": 3
   },
   "file_extension": ".py",
   "mimetype": "text/x-python",
   "name": "python",
   "nbconvert_exporter": "python",
   "pygments_lexer": "ipython3",
   "version": "3.12.3"
  }
 },
 "nbformat": 4,
 "nbformat_minor": 4
}
