{
 "cells": [
  {
   "cell_type": "markdown",
   "metadata": {},
   "source": [
    "# AAGAB\n",
    "[punctate palmoplantar keratoderma type IA (PPKP1A)](https://omim.org/entry/148600) is caused by heterozygous mutation in the AAGAB gene."
   ]
  },
  {
   "cell_type": "code",
   "execution_count": 3,
   "metadata": {},
   "outputs": [
    {
     "name": "stdout",
     "output_type": "stream",
     "text": [
      "Using pyphetools version 0.9.86\n"
     ]
    }
   ],
   "source": [
    "from pyphetools.creation import TemplateImporter\n",
    "from pyphetools.visualization import IndividualTable, QcVisualizer\n",
    "from IPython.display import display, HTML\n",
    "import pyphetools\n",
    "print(f\"Using pyphetools version {pyphetools.__version__}\")"
   ]
  },
  {
   "cell_type": "code",
   "execution_count": 5,
   "metadata": {},
   "outputs": [],
   "source": [
    "template = \"input/AAGAB_PPKP1A_individuals.xlsx\"\n",
    "created_by = \"0000-0002-0736-9199\""
   ]
  },
  {
   "cell_type": "code",
   "execution_count": 10,
   "metadata": {},
   "outputs": [
    {
     "name": "stdout",
     "output_type": "stream",
     "text": [
      "HPO version 2024-04-26\n",
      "Created encoders for 21 fields\n",
      "Importing OMIM:148600, Keratoderma, palmoplantar, punctate type IA, HGNC:25662, AAGAB,  NM_024666.5\n",
      "We output 3 GA4GH phenopackets to the directory phenopackets\n"
     ]
    }
   ],
   "source": [
    "timporter = TemplateImporter(template=template,  created_by=created_by)\n",
    "individual_list, cvalidator = timporter.import_phenopackets_from_template()"
   ]
  },
  {
   "cell_type": "code",
   "execution_count": 11,
   "metadata": {},
   "outputs": [
    {
     "data": {
      "text/html": [
       "<h2>Cohort validation</h2>\n",
       "<p>No errors found for the cohort with 3 individuals</p>"
      ],
      "text/plain": [
       "<IPython.core.display.HTML object>"
      ]
     },
     "metadata": {},
     "output_type": "display_data"
    }
   ],
   "source": [
    "qc = QcVisualizer(cohort_validator=cvalidator)\n",
    "display(HTML(qc.to_summary_html()))"
   ]
  },
  {
   "cell_type": "code",
   "execution_count": 12,
   "metadata": {},
   "outputs": [
    {
     "data": {
      "text/html": [
       "<table style=\"border: 2px solid black; align: \"left\">\n",
       "<caption>3 phenopackets - PMID:28239884 (n=3)</caption>\n",
       "<tr><th style=\"text-align: left;font-weight: bold;\">Individual</th><th style=\"text-align: left;font-weight: bold;\">Disease</th><th style=\"text-align: left;font-weight: bold;\">Genotype</th><th style=\"text-align: left;font-weight: bold;\">Phenotypic features</th></tr>\n",
       "<tr><td style=\"text-align: left;\">Family 1 proband (FEMALE; P43Y)</td><td style=\"text-align: left;\">Keratoderma, palmoplantar, punctate type IA (OMIM:148600)</td><td style=\"text-align: left;\">NM_024666.5:c.505_506dup (heterozygous)</td><td style=\"text-align: left;\"><b>P18Y</b>: Punctate palmoplantar hyperkeratosis (HP:0007530)<br/>excluded: Abnormal dental morphology (HP:0006482); excluded: Abnormality of the nail (HP:0001597); excluded: Abnormal hair morphology (HP:0001595)</td></tr>\n",
       "<tr><td style=\"text-align: left;\">Family 2 proband (FEMALE; P45Y)</td><td style=\"text-align: left;\">Keratoderma, palmoplantar, punctate type IA (OMIM:148600)</td><td style=\"text-align: left;\">NM_024666.5:c.473del (heterozygous)</td><td style=\"text-align: left;\"><b>P41Y</b>: Punctate palmoplantar hyperkeratosis (HP:0007530)<br/>excluded: Abnormal dental morphology (HP:0006482); excluded: Abnormality of the nail (HP:0001597); excluded: Abnormal hair morphology (HP:0001595)</td></tr>\n",
       "<tr><td style=\"text-align: left;\">Family 3 proband (FEMALE; P53Y)</td><td style=\"text-align: left;\">Keratoderma, palmoplantar, punctate type IA (OMIM:148600)</td><td style=\"text-align: left;\">NM_024666.5:c.870+1G>A (heterozygous)</td><td style=\"text-align: left;\"><b>P26Y</b>: Punctate palmoplantar hyperkeratosis (HP:0007530)<br/>excluded: Abnormal dental morphology (HP:0006482); excluded: Abnormality of the nail (HP:0001597); excluded: Abnormal hair morphology (HP:0001595)</td></tr>\n",
       "</table>"
      ],
      "text/plain": [
       "<IPython.core.display.HTML object>"
      ]
     },
     "metadata": {},
     "output_type": "display_data"
    }
   ],
   "source": [
    "table = IndividualTable(cvalidator.get_error_free_individual_list())\n",
    "display(HTML(table.to_html()))"
   ]
  },
  {
   "cell_type": "code",
   "execution_count": 13,
   "metadata": {},
   "outputs": [
    {
     "name": "stdout",
     "output_type": "stream",
     "text": [
      "[pyphetools] Ingested 3 GA4GH phenopackets.\n",
      "[INFO] Extracted 3 from 3 phenopackets with OMIM:148600\n",
      "\n",
      "\tKeratoderma, palmoplantar, punctate type IA (OMIM:148600): n=3\n",
      "We found a total of 4 unique HPO terms\n",
      "Extracted disease: Keratoderma, palmoplantar, punctate type IA (OMIM:148600)\n",
      "Wrote HPOA disease file to OMIM-148600.tab\n"
     ]
    },
    {
     "data": {
      "text/html": [
       "<div>\n",
       "<style scoped>\n",
       "    .dataframe tbody tr th:only-of-type {\n",
       "        vertical-align: middle;\n",
       "    }\n",
       "\n",
       "    .dataframe tbody tr th {\n",
       "        vertical-align: top;\n",
       "    }\n",
       "\n",
       "    .dataframe thead th {\n",
       "        text-align: right;\n",
       "    }\n",
       "</style>\n",
       "<table border=\"1\" class=\"dataframe\">\n",
       "  <thead>\n",
       "    <tr style=\"text-align: right;\">\n",
       "      <th></th>\n",
       "      <th>#diseaseID</th>\n",
       "      <th>diseaseName</th>\n",
       "      <th>phenotypeID</th>\n",
       "      <th>phenotypeName</th>\n",
       "      <th>onsetID</th>\n",
       "      <th>onsetName</th>\n",
       "      <th>frequency</th>\n",
       "      <th>sex</th>\n",
       "      <th>negation</th>\n",
       "      <th>modifier</th>\n",
       "      <th>description</th>\n",
       "      <th>publication</th>\n",
       "      <th>evidence</th>\n",
       "      <th>biocuration</th>\n",
       "    </tr>\n",
       "  </thead>\n",
       "  <tbody>\n",
       "    <tr>\n",
       "      <th>0</th>\n",
       "      <td>OMIM:148600</td>\n",
       "      <td>Keratoderma, palmoplantar, punctate type IA</td>\n",
       "      <td>HP:0007530</td>\n",
       "      <td>Punctate palmoplantar hyperkeratosis</td>\n",
       "      <td></td>\n",
       "      <td></td>\n",
       "      <td>3/3</td>\n",
       "      <td></td>\n",
       "      <td></td>\n",
       "      <td></td>\n",
       "      <td></td>\n",
       "      <td>PMID:28239884</td>\n",
       "      <td>PCS</td>\n",
       "      <td>ORCID:0000-0002-0736-9199[2024-05-25]</td>\n",
       "    </tr>\n",
       "    <tr>\n",
       "      <th>1</th>\n",
       "      <td>OMIM:148600</td>\n",
       "      <td>Keratoderma, palmoplantar, punctate type IA</td>\n",
       "      <td>HP:0006482</td>\n",
       "      <td>Abnormal dental morphology</td>\n",
       "      <td></td>\n",
       "      <td></td>\n",
       "      <td>0/3</td>\n",
       "      <td></td>\n",
       "      <td></td>\n",
       "      <td></td>\n",
       "      <td></td>\n",
       "      <td>PMID:28239884</td>\n",
       "      <td>PCS</td>\n",
       "      <td>ORCID:0000-0002-0736-9199[2024-05-25]</td>\n",
       "    </tr>\n",
       "    <tr>\n",
       "      <th>2</th>\n",
       "      <td>OMIM:148600</td>\n",
       "      <td>Keratoderma, palmoplantar, punctate type IA</td>\n",
       "      <td>HP:0001597</td>\n",
       "      <td>Abnormality of the nail</td>\n",
       "      <td></td>\n",
       "      <td></td>\n",
       "      <td>0/3</td>\n",
       "      <td></td>\n",
       "      <td></td>\n",
       "      <td></td>\n",
       "      <td></td>\n",
       "      <td>PMID:28239884</td>\n",
       "      <td>PCS</td>\n",
       "      <td>ORCID:0000-0002-0736-9199[2024-05-25]</td>\n",
       "    </tr>\n",
       "    <tr>\n",
       "      <th>3</th>\n",
       "      <td>OMIM:148600</td>\n",
       "      <td>Keratoderma, palmoplantar, punctate type IA</td>\n",
       "      <td>HP:0001595</td>\n",
       "      <td>Abnormal hair morphology</td>\n",
       "      <td></td>\n",
       "      <td></td>\n",
       "      <td>0/3</td>\n",
       "      <td></td>\n",
       "      <td></td>\n",
       "      <td></td>\n",
       "      <td></td>\n",
       "      <td>PMID:28239884</td>\n",
       "      <td>PCS</td>\n",
       "      <td>ORCID:0000-0002-0736-9199[2024-05-25]</td>\n",
       "    </tr>\n",
       "    <tr>\n",
       "      <th>4</th>\n",
       "      <td>OMIM:148600</td>\n",
       "      <td>Keratoderma, palmoplantar, punctate type IA</td>\n",
       "      <td>HP:0003596</td>\n",
       "      <td>Middle age onset</td>\n",
       "      <td></td>\n",
       "      <td></td>\n",
       "      <td>1/3</td>\n",
       "      <td></td>\n",
       "      <td></td>\n",
       "      <td></td>\n",
       "      <td></td>\n",
       "      <td>PMID:28239884</td>\n",
       "      <td>PCS</td>\n",
       "      <td>ORCID:0000-0002-0736-9199[2024-05-25]</td>\n",
       "    </tr>\n",
       "    <tr>\n",
       "      <th>5</th>\n",
       "      <td>OMIM:148600</td>\n",
       "      <td>Keratoderma, palmoplantar, punctate type IA</td>\n",
       "      <td>HP:0011462</td>\n",
       "      <td>Young adult onset</td>\n",
       "      <td></td>\n",
       "      <td></td>\n",
       "      <td>2/3</td>\n",
       "      <td></td>\n",
       "      <td></td>\n",
       "      <td></td>\n",
       "      <td></td>\n",
       "      <td>PMID:28239884</td>\n",
       "      <td>PCS</td>\n",
       "      <td>ORCID:0000-0002-0736-9199[2024-05-25]</td>\n",
       "    </tr>\n",
       "    <tr>\n",
       "      <th>6</th>\n",
       "      <td>OMIM:148600</td>\n",
       "      <td>Keratoderma, palmoplantar, punctate type IA</td>\n",
       "      <td>HP:0000006</td>\n",
       "      <td>Autosomal dominant inheritance</td>\n",
       "      <td></td>\n",
       "      <td></td>\n",
       "      <td></td>\n",
       "      <td></td>\n",
       "      <td></td>\n",
       "      <td></td>\n",
       "      <td></td>\n",
       "      <td>PMID:28239884</td>\n",
       "      <td>PCS</td>\n",
       "      <td>ORCID:0000-0002-0736-9199[2024-05-25]</td>\n",
       "    </tr>\n",
       "  </tbody>\n",
       "</table>\n",
       "</div>"
      ],
      "text/plain": [
       "    #diseaseID  ...                            biocuration\n",
       "0  OMIM:148600  ...  ORCID:0000-0002-0736-9199[2024-05-25]\n",
       "1  OMIM:148600  ...  ORCID:0000-0002-0736-9199[2024-05-25]\n",
       "2  OMIM:148600  ...  ORCID:0000-0002-0736-9199[2024-05-25]\n",
       "3  OMIM:148600  ...  ORCID:0000-0002-0736-9199[2024-05-25]\n",
       "4  OMIM:148600  ...  ORCID:0000-0002-0736-9199[2024-05-25]\n",
       "5  OMIM:148600  ...  ORCID:0000-0002-0736-9199[2024-05-25]\n",
       "6  OMIM:148600  ...  ORCID:0000-0002-0736-9199[2024-05-25]\n",
       "\n",
       "[7 rows x 14 columns]"
      ]
     },
     "execution_count": 13,
     "metadata": {},
     "output_type": "execute_result"
    }
   ],
   "source": [
    "pmid = \"PMID:28239884\"\n",
    "timporter.create_hpoa_from_phenopackets(pmid=pmid, moi=\"Autosomal dominant\", target=\"OMIM:148600\")"
   ]
  }
 ],
 "metadata": {
  "kernelspec": {
   "display_name": "ps24venv",
   "language": "python",
   "name": "python3"
  },
  "language_info": {
   "codemirror_mode": {
    "name": "ipython",
    "version": 3
   },
   "file_extension": ".py",
   "mimetype": "text/x-python",
   "name": "python",
   "nbconvert_exporter": "python",
   "pygments_lexer": "ipython3",
   "version": "3.9.6"
  }
 },
 "nbformat": 4,
 "nbformat_minor": 2
}
