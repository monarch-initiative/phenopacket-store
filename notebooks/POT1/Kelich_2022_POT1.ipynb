{
 "cells": [
  {
   "cell_type": "markdown",
   "id": "cfc2c2f7-426d-4894-bca6-823128c8ee42",
   "metadata": {},
   "source": [
    "# POT1\n",
    "\n",
    "Pathogenic variants in POT1 were shown to cause Pulmonary fibrosis and/or bone marrow failure syndrome, telomere-related, 8.\n",
    "Date taken from [Kelich J, et al(2022) Telomere dysfunction implicates POT1 in patients with idiopathic pulmonary fibrosis. J Exp Med. 2022 May 2;219(5):e20211681](https://pubmed.ncbi.nlm.nih.gov/35420632/)."
   ]
  },
  {
   "cell_type": "code",
   "execution_count": 5,
   "id": "d31bccf5-d610-434e-8374-f40918205ed2",
   "metadata": {},
   "outputs": [
    {
     "name": "stdout",
     "output_type": "stream",
     "text": [
      "Using pyphetools version 0.9.66\n"
     ]
    }
   ],
   "source": [
    "from pyphetools.creation import TemplateImporter\n",
    "from pyphetools.visualization import IndividualTable, QcVisualizer\n",
    "from IPython.display import display, HTML\n",
    "import pyphetools\n",
    "print(f\"Using pyphetools version {pyphetools.__version__}\")"
   ]
  },
  {
   "cell_type": "code",
   "execution_count": 7,
   "id": "48ce3514-d72f-4e61-9153-7b2e187816f3",
   "metadata": {},
   "outputs": [],
   "source": [
    "template = \"input/POT1_620367_individuals.xlsx\"\n",
    "hp_json = \"../hp.json\"\n",
    "created_by = \"0000-0002-0736-9199\""
   ]
  },
  {
   "cell_type": "code",
   "execution_count": 8,
   "id": "0ed55753-4236-468c-abe1-e5d87df48366",
   "metadata": {},
   "outputs": [
    {
     "name": "stdout",
     "output_type": "stream",
     "text": [
      "HPO version 2024-03-06\n",
      "Created encoders for 34 fields\n",
      " we got OMIM:620367  NM_015450.2\n",
      "[INFO] encoding variant \"c.776T>C\"\n",
      "https://rest.variantvalidator.org/VariantValidator/variantvalidator/hg38/NM_015450.2%3Ac.776T>C/NM_015450.2?content-type=application%2Fjson\n",
      "We output 4 GA4GH phenopackets to the directory phenopackets\n"
     ]
    }
   ],
   "source": [
    "timporter = TemplateImporter(template=template, hp_json=hp_json, created_by=created_by)\n",
    "individual_list, cvalidator = timporter.import_phenopackets_from_template()"
   ]
  },
  {
   "cell_type": "code",
   "execution_count": 9,
   "id": "9e3c0edd-2fb5-4e4d-a701-27a3ce4c2169",
   "metadata": {},
   "outputs": [
    {
     "data": {
      "text/html": [
       "<h2>Cohort validation</h2>\n",
       "<p>No errors found for the cohort with 4 individuals</p>"
      ],
      "text/plain": [
       "<IPython.core.display.HTML object>"
      ]
     },
     "metadata": {},
     "output_type": "display_data"
    }
   ],
   "source": [
    "qc = QcVisualizer(cohort_validator=cvalidator)\n",
    "display(HTML(qc.to_summary_html()))"
   ]
  },
  {
   "cell_type": "code",
   "execution_count": 10,
   "id": "9ab831c5-9c02-43b0-9071-a926c52cf2ac",
   "metadata": {},
   "outputs": [
    {
     "data": {
      "text/html": [
       "<table style=\"border: 2px solid black; align: \"left\">\n",
       "<caption>4 phenopackets - PMID:35420632 (n=4)</caption>\n",
       "<tr><th style=\"text-align: left;font-weight: bold;\">Individual</th><th style=\"text-align: left;font-weight: bold;\">Disease</th><th style=\"text-align: left;font-weight: bold;\">Genotype</th><th style=\"text-align: left;font-weight: bold;\">Phenotypic features</th></tr>\n",
       "<tr><td style=\"text-align: left;\">patient 1 V-1 (MALE; P32Y)</td><td style=\"text-align: left;\">Pulmonary fibrosis and/or bone marrow failure syndrome, telomere-related, 8 (OMIM:620367)</td><td style=\"text-align: left;\">NM_015450.2:c.776T>C (heterozygous)</td><td style=\"text-align: left;\"><b>P23Y</b>: Nodular regenerative hyperplasia of liver (HP:0011954); Gastric varix (HP:0030169); Esophageal varix (HP:0002040); Splenomegaly (HP:0001744); Portal hypertension (HP:0001409); Thrombocytopenia (HP:0001873)<br/><b>P32Y</b>: Hepatic failure (HP:0001399); Short telomere length (HP:0031413); Decreased DLCO (HP:0045051); Usual interstitial pneumonia (HP:0031950); Pulmonary fibrosis (HP:0002206); Inspiratory crackles (HP:0031996); Clubbing (HP:0001217)</td></tr>\n",
       "<tr><td style=\"text-align: left;\">patient21 IV-2 (MALE; P60Y)</td><td style=\"text-align: left;\">Pulmonary fibrosis and/or bone marrow failure syndrome, telomere-related, 8 (OMIM:620367)</td><td style=\"text-align: left;\">NM_015450.2:c.776T>C (heterozygous)</td><td style=\"text-align: left;\"><b>P27Y</b>: Premature graying of hair (HP:0002216)<br/><b>P57Y</b>: Short telomere length (HP:0031413); Decreased DLCO (HP:0045051); Usual interstitial pneumonia (HP:0031950); Pulmonary fibrosis (HP:0002206); Inspiratory crackles (HP:0031996); Clubbing (HP:0001217)<br/>Exertional dyspnea (HP:0002875)</td></tr>\n",
       "<tr><td style=\"text-align: left;\">Patient 3 III-3 (MALE; P72Y)</td><td style=\"text-align: left;\">Pulmonary fibrosis and/or bone marrow failure syndrome, telomere-related, 8 (OMIM:620367)</td><td style=\"text-align: left;\">NM_015450.2:c.776T>C (heterozygous)</td><td style=\"text-align: left;\"><b>P72Y</b>: Short telomere length (HP:0031413); Decreased DLCO (HP:0045051); Usual interstitial pneumonia (HP:0031950); Pulmonary fibrosis (HP:0002206); Thrombocytopenia (HP:0001873); Increased mean corpuscular volume (HP:0005518)<br/>Exertional dyspnea (HP:0002875); excluded: Hepatic failure (HP:0001399); excluded: Inspiratory crackles (HP:0031996); excluded: Clubbing (HP:0001217)</td></tr>\n",
       "<tr><td style=\"text-align: left;\">Patient 4 IV-4 (MALE; P62Y)</td><td style=\"text-align: left;\">Pulmonary fibrosis and/or bone marrow failure syndrome, telomere-related, 8 (OMIM:620367)</td><td style=\"text-align: left;\">NM_015450.2:c.776T>C (heterozygous)</td><td style=\"text-align: left;\"><b>P52Y</b>: Short telomere length (HP:0031413); Decreased DLCO (HP:0045051); Usual interstitial pneumonia (HP:0031950); Pulmonary fibrosis (HP:0002206); Inspiratory crackles (HP:0031996); Clubbing (HP:0001217); Exertional dyspnea (HP:0002875); Nonproductive cough (HP:0031246)</td></tr>\n",
       "</table>"
      ],
      "text/plain": [
       "<IPython.core.display.HTML object>"
      ]
     },
     "metadata": {},
     "output_type": "display_data"
    }
   ],
   "source": [
    "table = IndividualTable(cvalidator.get_error_free_individual_list())\n",
    "display(HTML(table.to_html()))"
   ]
  },
  {
   "cell_type": "code",
   "execution_count": null,
   "id": "26fdd8ce-78b3-42ac-b989-f12bf0b154a2",
   "metadata": {},
   "outputs": [],
   "source": []
  }
 ],
 "metadata": {
  "kernelspec": {
   "display_name": "ps24venv",
   "language": "python",
   "name": "ps24venv"
  },
  "language_info": {
   "codemirror_mode": {
    "name": "ipython",
    "version": 3
   },
   "file_extension": ".py",
   "mimetype": "text/x-python",
   "name": "python",
   "nbconvert_exporter": "python",
   "pygments_lexer": "ipython3",
   "version": "3.8.10"
  }
 },
 "nbformat": 4,
 "nbformat_minor": 5
}
