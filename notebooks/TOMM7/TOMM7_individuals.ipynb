{
 "cells": [
  {
   "cell_type": "markdown",
   "id": "88113a3c-6e5f-4169-a9e8-37a118484e43",
   "metadata": {},
   "source": [
    "# TOMM7\n",
    "Pathogenic variants in TOMM7 have been pobserved in individuals with [Garg-Mishra progeroid syndrome ](https://omim.org/entry/620601)."
   ]
  },
  {
   "cell_type": "code",
   "execution_count": 1,
   "id": "15e4bb0f-ac7f-43e0-87d8-0a1e99832fc9",
   "metadata": {},
   "outputs": [
    {
     "name": "stdout",
     "output_type": "stream",
     "text": [
      "Using pyphetools version 0.9.56\n"
     ]
    }
   ],
   "source": [
    "import pandas as pd\n",
    "from IPython.display import display, HTML\n",
    "pd.set_option('display.max_colwidth', None) # show entire column contents, important!\n",
    "from collections import defaultdict\n",
    "from pyphetools.creation import *\n",
    "from pyphetools.visualization import *\n",
    "from pyphetools.validation import *\n",
    "import pyphetools\n",
    "print(f\"Using pyphetools version {pyphetools.__version__}\")"
   ]
  },
  {
   "cell_type": "code",
   "execution_count": 2,
   "id": "15aa5014-4a66-4712-8d97-57692ebeb48e",
   "metadata": {},
   "outputs": [
    {
     "name": "stdout",
     "output_type": "stream",
     "text": [
      "HPO version 2024-02-27\n"
     ]
    }
   ],
   "source": [
    "parser = HpoParser(hpo_json_file=\"../hp.json\")\n",
    "hpo_cr = parser.get_hpo_concept_recognizer()\n",
    "hpo_version = parser.get_version()\n",
    "hpo_ontology = parser.get_ontology()\n",
    "created_by=\"ORCID:0000-0002-0736-9199\"\n",
    "print(f\"HPO version {hpo_version}\")"
   ]
  },
  {
   "cell_type": "code",
   "execution_count": 3,
   "id": "9f9d63d1-c09b-40c4-901d-3a4a64ec2c03",
   "metadata": {},
   "outputs": [
    {
     "data": {
      "text/html": [
       "<div>\n",
       "<style scoped>\n",
       "    .dataframe tbody tr th:only-of-type {\n",
       "        vertical-align: middle;\n",
       "    }\n",
       "\n",
       "    .dataframe tbody tr th {\n",
       "        vertical-align: top;\n",
       "    }\n",
       "\n",
       "    .dataframe thead th {\n",
       "        text-align: right;\n",
       "    }\n",
       "</style>\n",
       "<table border=\"1\" class=\"dataframe\">\n",
       "  <thead>\n",
       "    <tr style=\"text-align: right;\">\n",
       "      <th></th>\n",
       "      <th>PMID</th>\n",
       "      <th>title</th>\n",
       "      <th>individual_id</th>\n",
       "      <th>comment</th>\n",
       "      <th>disease_id</th>\n",
       "      <th>disease_label</th>\n",
       "      <th>transcript</th>\n",
       "      <th>allele_1</th>\n",
       "      <th>allele_2</th>\n",
       "      <th>variant.comment</th>\n",
       "      <th>...</th>\n",
       "      <th>Hypotonia</th>\n",
       "      <th>Increased circulating lactate dehydrogenase concentration</th>\n",
       "      <th>Persistent open anterior fontanelle</th>\n",
       "      <th>Thin ribs</th>\n",
       "      <th>Ovoid vertebral bodies</th>\n",
       "      <th>Platyspondyly</th>\n",
       "      <th>Slender long bone</th>\n",
       "      <th>Coxa valga</th>\n",
       "      <th>Slender metacarpals</th>\n",
       "      <th>Microvesicular hepatic steatosis</th>\n",
       "    </tr>\n",
       "  </thead>\n",
       "  <tbody>\n",
       "    <tr>\n",
       "      <th>0</th>\n",
       "      <td>str</td>\n",
       "      <td>str</td>\n",
       "      <td>str</td>\n",
       "      <td>optional str</td>\n",
       "      <td>str</td>\n",
       "      <td>str</td>\n",
       "      <td>str</td>\n",
       "      <td>str</td>\n",
       "      <td>str</td>\n",
       "      <td>optional str</td>\n",
       "      <td>...</td>\n",
       "      <td>HP:0001252</td>\n",
       "      <td>HP:0025435</td>\n",
       "      <td>HP:0004474</td>\n",
       "      <td>HP:0000883</td>\n",
       "      <td>HP:0003300</td>\n",
       "      <td>HP:0000926</td>\n",
       "      <td>HP:0003100</td>\n",
       "      <td>HP:0002673</td>\n",
       "      <td>HP:0006236</td>\n",
       "      <td>HP:0001414</td>\n",
       "    </tr>\n",
       "    <tr>\n",
       "      <th>1</th>\n",
       "      <td>PMID:36282599</td>\n",
       "      <td>Autosomal recessive progeroid syndrome due to homozygosity for a TOMM7 variant</td>\n",
       "      <td>21-year-old man</td>\n",
       "      <td>NaN</td>\n",
       "      <td>OMIM:620601</td>\n",
       "      <td>Garg-Mishra progeroid syndrome</td>\n",
       "      <td>NM_019059.5</td>\n",
       "      <td>c.86C&gt;T</td>\n",
       "      <td>c.86C&gt;T</td>\n",
       "      <td>NP_061932.1:p.Pro29Leu</td>\n",
       "      <td>...</td>\n",
       "      <td>na</td>\n",
       "      <td>na</td>\n",
       "      <td>na</td>\n",
       "      <td>na</td>\n",
       "      <td>na</td>\n",
       "      <td>na</td>\n",
       "      <td>na</td>\n",
       "      <td>na</td>\n",
       "      <td>na</td>\n",
       "      <td>na</td>\n",
       "    </tr>\n",
       "  </tbody>\n",
       "</table>\n",
       "<p>2 rows × 42 columns</p>\n",
       "</div>"
      ],
      "text/plain": [
       "            PMID  \\\n",
       "0            str   \n",
       "1  PMID:36282599   \n",
       "\n",
       "                                                                            title  \\\n",
       "0                                                                             str   \n",
       "1  Autosomal recessive progeroid syndrome due to homozygosity for a TOMM7 variant   \n",
       "\n",
       "     individual_id       comment   disease_id                   disease_label  \\\n",
       "0              str  optional str          str                             str   \n",
       "1  21-year-old man           NaN  OMIM:620601  Garg-Mishra progeroid syndrome   \n",
       "\n",
       "    transcript allele_1 allele_2         variant.comment  ...   Hypotonia  \\\n",
       "0          str      str      str            optional str  ...  HP:0001252   \n",
       "1  NM_019059.5  c.86C>T  c.86C>T  NP_061932.1:p.Pro29Leu  ...          na   \n",
       "\n",
       "  Increased circulating lactate dehydrogenase concentration  \\\n",
       "0                                                HP:0025435   \n",
       "1                                                        na   \n",
       "\n",
       "  Persistent open anterior fontanelle   Thin ribs Ovoid vertebral bodies  \\\n",
       "0                          HP:0004474  HP:0000883             HP:0003300   \n",
       "1                                  na          na                     na   \n",
       "\n",
       "  Platyspondyly Slender long bone  Coxa valga Slender metacarpals  \\\n",
       "0    HP:0000926        HP:0003100  HP:0002673          HP:0006236   \n",
       "1            na                na          na                  na   \n",
       "\n",
       "  Microvesicular hepatic steatosis  \n",
       "0                       HP:0001414  \n",
       "1                               na  \n",
       "\n",
       "[2 rows x 42 columns]"
      ]
     },
     "execution_count": 3,
     "metadata": {},
     "output_type": "execute_result"
    }
   ],
   "source": [
    "df = pd.read_excel(\"input/TOMM7_individuals.xlsx\")\n",
    "df.head(2)"
   ]
  },
  {
   "cell_type": "code",
   "execution_count": 4,
   "id": "2d513e16-5b8f-49cc-9a3e-e70908c03867",
   "metadata": {},
   "outputs": [
    {
     "name": "stdout",
     "output_type": "stream",
     "text": [
      "Created encoders for 42 fields\n"
     ]
    }
   ],
   "source": [
    "encoder = CaseTemplateEncoder(df=df, hpo_cr=hpo_cr, created_by=created_by)\n",
    "individuals = encoder.get_individuals()"
   ]
  },
  {
   "cell_type": "code",
   "execution_count": 5,
   "id": "b224b79e-17e2-4495-b5a1-fa523af03691",
   "metadata": {},
   "outputs": [
    {
     "name": "stdout",
     "output_type": "stream",
     "text": [
      "[INFO] encoding variant \"c.86C>T\"\n",
      "https://rest.variantvalidator.org/VariantValidator/variantvalidator/hg38/NM_019059.5%3Ac.86C>T/NM_019059.5?content-type=application%2Fjson\n",
      "[INFO] encoding variant \"c.73T>C\"\n",
      "https://rest.variantvalidator.org/VariantValidator/variantvalidator/hg38/NM_019059.5%3Ac.73T>C/NM_019059.5?content-type=application%2Fjson\n"
     ]
    }
   ],
   "source": [
    "TOMM7_transcript = \"NM_019059.5\"\n",
    "vmanager = VariantManager(df=df,\n",
    "                          individual_column_name=\"individual_id\",\n",
    "                          gene_symbol=\"TOMM7\",\n",
    "                          transcript=TOMM7_transcript,\n",
    "                          allele_1_column_name=\"allele_1\",\n",
    "                          allele_2_column_name=\"allele_2\")"
   ]
  },
  {
   "cell_type": "code",
   "execution_count": 6,
   "id": "a029133b-f70f-48ab-a789-a4d3ba8032e2",
   "metadata": {},
   "outputs": [
    {
     "data": {
      "text/html": [
       "<div>\n",
       "<style scoped>\n",
       "    .dataframe tbody tr th:only-of-type {\n",
       "        vertical-align: middle;\n",
       "    }\n",
       "\n",
       "    .dataframe tbody tr th {\n",
       "        vertical-align: top;\n",
       "    }\n",
       "\n",
       "    .dataframe thead th {\n",
       "        text-align: right;\n",
       "    }\n",
       "</style>\n",
       "<table border=\"1\" class=\"dataframe\">\n",
       "  <thead>\n",
       "    <tr style=\"text-align: right;\">\n",
       "      <th></th>\n",
       "      <th>status</th>\n",
       "      <th>count</th>\n",
       "      <th>alleles</th>\n",
       "    </tr>\n",
       "  </thead>\n",
       "  <tbody>\n",
       "    <tr>\n",
       "      <th>0</th>\n",
       "      <td>mapped</td>\n",
       "      <td>2</td>\n",
       "      <td>c.86C&gt;T, c.73T&gt;C</td>\n",
       "    </tr>\n",
       "    <tr>\n",
       "      <th>1</th>\n",
       "      <td>unmapped</td>\n",
       "      <td>0</td>\n",
       "      <td></td>\n",
       "    </tr>\n",
       "  </tbody>\n",
       "</table>\n",
       "</div>"
      ],
      "text/plain": [
       "     status  count           alleles\n",
       "0    mapped      2  c.86C>T, c.73T>C\n",
       "1  unmapped      0                  "
      ]
     },
     "execution_count": 6,
     "metadata": {},
     "output_type": "execute_result"
    }
   ],
   "source": [
    "vmanager.to_summary()"
   ]
  },
  {
   "cell_type": "code",
   "execution_count": 7,
   "id": "f434c777-3d5c-44fe-b710-ad1e508100a6",
   "metadata": {},
   "outputs": [
    {
     "data": {
      "text/html": [
       "<h2>Cohort validation</h2>\n",
       "<p>No errors found for the cohort with 2 individuals</p>"
      ],
      "text/plain": [
       "<IPython.core.display.HTML object>"
      ]
     },
     "metadata": {},
     "output_type": "display_data"
    }
   ],
   "source": [
    "vmanager.add_variants_to_individuals(individuals)\n",
    "cvalidator = CohortValidator(cohort=individuals, ontology=hpo_ontology, min_hpo=1,\n",
    "                                allelic_requirement=AllelicRequirement.BI_ALLELIC)\n",
    "qc = QcVisualizer(cohort_validator=cvalidator)\n",
    "display(HTML(qc.to_summary_html()))"
   ]
  },
  {
   "cell_type": "code",
   "execution_count": 8,
   "id": "79e2f1d9-5c9f-41c6-b3de-c576f92694a6",
   "metadata": {},
   "outputs": [
    {
     "data": {
      "text/html": [
       "<table style=\"border: 2px solid black; align: \"left\">\n",
       "<caption>2 phenopackets - PMID:36282599 (n=1); PMID:36299998 (n=1)</caption>\n",
       "<tr><th style=\"text-align: left;font-weight: bold;\">Individual</th><th style=\"text-align: left;font-weight: bold;\">Disease</th><th style=\"text-align: left;font-weight: bold;\">Genotype</th><th style=\"text-align: left;font-weight: bold;\">Phenotypic features</th></tr>\n",
       "<tr><td style=\"text-align: left;\">21-year-old man (MALE; P21Y)</td><td style=\"text-align: left;\">Garg-Mishra progeroid syndrome (OMIM:620601)</td><td style=\"text-align: left;\">NM_019059.5:c.86C>T (homozygous)</td><td style=\"text-align: left;\">Postnatal growth retardation (HP:0008897); Short stature (HP:0004322); Reduced visual acuity (HP:0007663); Secondary microcephaly (HP:0005484); Triangular face (HP:0000325); Broad forehead (HP:0000337); Prominent nasal bridge (HP:0000426); Bulbous nose (HP:0000414); Micrognathia (HP:0000347); Dental crowding (HP:0000678); Nystagmus (HP:0000639); High hypermetropia (HP:0008499); Microphthalmia (HP:0000568); Cafe-au-lait spot (HP:0000957); Sparse hair (HP:0008070)</td></tr>\n",
       "<tr><td style=\"text-align: left;\">affected individual (MALE; P2Y7M)</td><td style=\"text-align: left;\">Garg-Mishra progeroid syndrome (OMIM:620601)</td><td style=\"text-align: left;\">NM_019059.5:c.73T>C (homozygous)</td><td style=\"text-align: left;\">Postnatal growth retardation (HP:0008897); Short stature (HP:0004322); Nystagmus (HP:0000639); Narrow chest (HP:0000774); Broad palm (HP:0001169); Small nail (HP:0001792); Hypotonia (HP:0001252); Increased circulating lactate dehydrogenase concentration (HP:0025435); Persistent open anterior fontanelle (HP:0004474); Thin ribs (HP:0000883); Ovoid vertebral bodies (HP:0003300); Platyspondyly (HP:0000926); Slender long bone (HP:0003100); Coxa valga (HP:0002673); Slender metacarpals (HP:0006236); Microvesicular hepatic steatosis (HP:0001414)</td></tr>\n",
       "</table>"
      ],
      "text/plain": [
       "<IPython.core.display.HTML object>"
      ]
     },
     "metadata": {},
     "output_type": "display_data"
    }
   ],
   "source": [
    "individuals = cvalidator.get_error_free_individual_list()\n",
    "table = IndividualTable(individuals)\n",
    "display(HTML(table.to_html()))"
   ]
  },
  {
   "cell_type": "code",
   "execution_count": 9,
   "id": "a919e8da-5fb5-45bb-9404-f513f6eb222e",
   "metadata": {},
   "outputs": [
    {
     "name": "stdout",
     "output_type": "stream",
     "text": [
      "We output 2 GA4GH phenopackets to the directory phenopackets\n"
     ]
    }
   ],
   "source": [
    "encoder.output_individuals_as_phenopackets(individual_list=individuals)"
   ]
  },
  {
   "cell_type": "markdown",
   "id": "c0e33664-77fe-4379-a47e-8cad45ad13b0",
   "metadata": {},
   "source": [
    "# HPOA file"
   ]
  },
  {
   "cell_type": "code",
   "execution_count": 10,
   "id": "68fdc65f-ba74-400b-b10d-5f341552e174",
   "metadata": {},
   "outputs": [
    {
     "name": "stdout",
     "output_type": "stream",
     "text": [
      "[pyphetools] Ingested 2 GA4GH phenopackets.\n"
     ]
    }
   ],
   "source": [
    "ingestor = PhenopacketIngestor(indir=\"phenopackets\")\n",
    "ppkt_d = ingestor.get_phenopacket_dictionary()\n",
    "ppkt_list = list(ppkt_d.values())"
   ]
  },
  {
   "cell_type": "code",
   "execution_count": 11,
   "id": "f27f5c15-91bb-4430-abca-91dbd67a8f55",
   "metadata": {},
   "outputs": [
    {
     "name": "stdout",
     "output_type": "stream",
     "text": [
      "We found a total of 28 unique HPO terms\n",
      "Extracted disease: Garg-Mishra progeroid syndrome (OMIM:620601)\n"
     ]
    }
   ],
   "source": [
    "builder = HpoaTableBuilder(phenopacket_list=ppkt_list)\n",
    "PMID = \"PMID:36282599\"\n",
    "hpoa_table_creator = builder.autosomal_recessive(PMID).build()"
   ]
  },
  {
   "cell_type": "code",
   "execution_count": 12,
   "id": "74bc16c0-9617-4b38-a964-a598c111bfbb",
   "metadata": {},
   "outputs": [
    {
     "data": {
      "text/html": [
       "<div>\n",
       "<style scoped>\n",
       "    .dataframe tbody tr th:only-of-type {\n",
       "        vertical-align: middle;\n",
       "    }\n",
       "\n",
       "    .dataframe tbody tr th {\n",
       "        vertical-align: top;\n",
       "    }\n",
       "\n",
       "    .dataframe thead th {\n",
       "        text-align: right;\n",
       "    }\n",
       "</style>\n",
       "<table border=\"1\" class=\"dataframe\">\n",
       "  <thead>\n",
       "    <tr style=\"text-align: right;\">\n",
       "      <th></th>\n",
       "      <th>#diseaseID</th>\n",
       "      <th>diseaseName</th>\n",
       "      <th>phenotypeID</th>\n",
       "      <th>phenotypeName</th>\n",
       "      <th>onsetID</th>\n",
       "      <th>onsetName</th>\n",
       "      <th>frequency</th>\n",
       "      <th>sex</th>\n",
       "      <th>negation</th>\n",
       "      <th>modifier</th>\n",
       "      <th>description</th>\n",
       "      <th>publication</th>\n",
       "      <th>evidence</th>\n",
       "      <th>biocuration</th>\n",
       "    </tr>\n",
       "  </thead>\n",
       "  <tbody>\n",
       "    <tr>\n",
       "      <th>0</th>\n",
       "      <td>OMIM:620601</td>\n",
       "      <td>Garg-Mishra progeroid syndrome</td>\n",
       "      <td>HP:0008897</td>\n",
       "      <td>Postnatal growth retardation</td>\n",
       "      <td></td>\n",
       "      <td></td>\n",
       "      <td>1/1</td>\n",
       "      <td></td>\n",
       "      <td></td>\n",
       "      <td></td>\n",
       "      <td></td>\n",
       "      <td>PMID:36299998</td>\n",
       "      <td>PCS</td>\n",
       "      <td>ORCID:0000-0002-0736-9199</td>\n",
       "    </tr>\n",
       "    <tr>\n",
       "      <th>1</th>\n",
       "      <td>OMIM:620601</td>\n",
       "      <td>Garg-Mishra progeroid syndrome</td>\n",
       "      <td>HP:0004322</td>\n",
       "      <td>Short stature</td>\n",
       "      <td></td>\n",
       "      <td></td>\n",
       "      <td>1/1</td>\n",
       "      <td></td>\n",
       "      <td></td>\n",
       "      <td></td>\n",
       "      <td></td>\n",
       "      <td>PMID:36299998</td>\n",
       "      <td>PCS</td>\n",
       "      <td>ORCID:0000-0002-0736-9199</td>\n",
       "    </tr>\n",
       "    <tr>\n",
       "      <th>2</th>\n",
       "      <td>OMIM:620601</td>\n",
       "      <td>Garg-Mishra progeroid syndrome</td>\n",
       "      <td>HP:0000639</td>\n",
       "      <td>Nystagmus</td>\n",
       "      <td></td>\n",
       "      <td></td>\n",
       "      <td>1/1</td>\n",
       "      <td></td>\n",
       "      <td></td>\n",
       "      <td></td>\n",
       "      <td></td>\n",
       "      <td>PMID:36299998</td>\n",
       "      <td>PCS</td>\n",
       "      <td>ORCID:0000-0002-0736-9199</td>\n",
       "    </tr>\n",
       "    <tr>\n",
       "      <th>3</th>\n",
       "      <td>OMIM:620601</td>\n",
       "      <td>Garg-Mishra progeroid syndrome</td>\n",
       "      <td>HP:0000774</td>\n",
       "      <td>Narrow chest</td>\n",
       "      <td></td>\n",
       "      <td></td>\n",
       "      <td>1/1</td>\n",
       "      <td></td>\n",
       "      <td></td>\n",
       "      <td></td>\n",
       "      <td></td>\n",
       "      <td>PMID:36299998</td>\n",
       "      <td>PCS</td>\n",
       "      <td>ORCID:0000-0002-0736-9199</td>\n",
       "    </tr>\n",
       "    <tr>\n",
       "      <th>4</th>\n",
       "      <td>OMIM:620601</td>\n",
       "      <td>Garg-Mishra progeroid syndrome</td>\n",
       "      <td>HP:0001169</td>\n",
       "      <td>Broad palm</td>\n",
       "      <td></td>\n",
       "      <td></td>\n",
       "      <td>1/1</td>\n",
       "      <td></td>\n",
       "      <td></td>\n",
       "      <td></td>\n",
       "      <td></td>\n",
       "      <td>PMID:36299998</td>\n",
       "      <td>PCS</td>\n",
       "      <td>ORCID:0000-0002-0736-9199</td>\n",
       "    </tr>\n",
       "  </tbody>\n",
       "</table>\n",
       "</div>"
      ],
      "text/plain": [
       "    #diseaseID                     diseaseName phenotypeID  \\\n",
       "0  OMIM:620601  Garg-Mishra progeroid syndrome  HP:0008897   \n",
       "1  OMIM:620601  Garg-Mishra progeroid syndrome  HP:0004322   \n",
       "2  OMIM:620601  Garg-Mishra progeroid syndrome  HP:0000639   \n",
       "3  OMIM:620601  Garg-Mishra progeroid syndrome  HP:0000774   \n",
       "4  OMIM:620601  Garg-Mishra progeroid syndrome  HP:0001169   \n",
       "\n",
       "                  phenotypeName onsetID onsetName frequency sex negation  \\\n",
       "0  Postnatal growth retardation                         1/1                \n",
       "1                 Short stature                         1/1                \n",
       "2                     Nystagmus                         1/1                \n",
       "3                  Narrow chest                         1/1                \n",
       "4                    Broad palm                         1/1                \n",
       "\n",
       "  modifier description    publication evidence                biocuration  \n",
       "0                       PMID:36299998      PCS  ORCID:0000-0002-0736-9199  \n",
       "1                       PMID:36299998      PCS  ORCID:0000-0002-0736-9199  \n",
       "2                       PMID:36299998      PCS  ORCID:0000-0002-0736-9199  \n",
       "3                       PMID:36299998      PCS  ORCID:0000-0002-0736-9199  \n",
       "4                       PMID:36299998      PCS  ORCID:0000-0002-0736-9199  "
      ]
     },
     "execution_count": 12,
     "metadata": {},
     "output_type": "execute_result"
    }
   ],
   "source": [
    "df = hpoa_table_creator.get_dataframe()\n",
    "df.head()"
   ]
  },
  {
   "cell_type": "code",
   "execution_count": 13,
   "id": "9643746e-fd06-4f15-b51b-a18975d2092d",
   "metadata": {},
   "outputs": [
    {
     "name": "stdout",
     "output_type": "stream",
     "text": [
      "Wrote HPOA disease file to OMIM-620601.tab\n"
     ]
    }
   ],
   "source": [
    "hpoa_table_creator.write_data_frame()"
   ]
  },
  {
   "cell_type": "code",
   "execution_count": null,
   "id": "0bddd8fb-7db3-49ca-a28a-d2f94d9d7c5d",
   "metadata": {},
   "outputs": [],
   "source": []
  }
 ],
 "metadata": {
  "kernelspec": {
   "display_name": "Python 3 (ipykernel)",
   "language": "python",
   "name": "python3"
  },
  "language_info": {
   "codemirror_mode": {
    "name": "ipython",
    "version": 3
   },
   "file_extension": ".py",
   "mimetype": "text/x-python",
   "name": "python",
   "nbconvert_exporter": "python",
   "pygments_lexer": "ipython3",
   "version": "3.8.10"
  }
 },
 "nbformat": 4,
 "nbformat_minor": 5
}
