{
 "cells": [
  {
   "cell_type": "markdown",
   "id": "88113a3c-6e5f-4169-a9e8-37a118484e43",
   "metadata": {},
   "source": [
    "# TOMM7\n",
    "Pathogenic variants in TOMM7 have been pobserved in individuals with [Garg-Mishra progeroid syndrome ](https://omim.org/entry/620601)."
   ]
  },
  {
   "cell_type": "code",
   "execution_count": 1,
   "id": "15e4bb0f-ac7f-43e0-87d8-0a1e99832fc9",
   "metadata": {},
   "outputs": [
    {
     "name": "stdout",
     "output_type": "stream",
     "text": [
      "Using pyphetools version 0.9.71\n"
     ]
    }
   ],
   "source": [
    "from pyphetools.creation import TemplateImporter\n",
    "from pyphetools.visualization import IndividualTable, QcVisualizer\n",
    "from IPython.display import display, HTML\n",
    "import pyphetools\n",
    "print(f\"Using pyphetools version {pyphetools.__version__}\")"
   ]
  },
  {
   "cell_type": "code",
   "execution_count": 3,
   "id": "15aa5014-4a66-4712-8d97-57692ebeb48e",
   "metadata": {},
   "outputs": [],
   "source": [
    "template = \"input/TOMM7_individuals.xlsx\"\n",
    "hp_json = \"../hp.json\"\n",
    "created_by = \"0000-0002-0736-9199\""
   ]
  },
  {
   "cell_type": "code",
   "execution_count": 5,
   "id": "9f9d63d1-c09b-40c4-901d-3a4a64ec2c03",
   "metadata": {},
   "outputs": [
    {
     "name": "stdout",
     "output_type": "stream",
     "text": [
      "HPO version 2024-03-06\n",
      "Created encoders for 44 fields\n",
      "Importing OMIM:620601, Garg-Mishra progeroid syndrome, HGNC:21648, TOMM7,  NM_019059.5\n",
      "We output 2 GA4GH phenopackets to the directory phenopackets\n"
     ]
    }
   ],
   "source": [
    "timporter = TemplateImporter(template=template, hp_json=hp_json, created_by=created_by)\n",
    "individual_list, cvalidator = timporter.import_phenopackets_from_template()"
   ]
  },
  {
   "cell_type": "code",
   "execution_count": 6,
   "id": "b224b79e-17e2-4495-b5a1-fa523af03691",
   "metadata": {},
   "outputs": [
    {
     "data": {
      "text/html": [
       "<h2>Cohort validation</h2>\n",
       "<p>No errors found for the cohort with 2 individuals</p>"
      ],
      "text/plain": [
       "<IPython.core.display.HTML object>"
      ]
     },
     "metadata": {},
     "output_type": "display_data"
    }
   ],
   "source": [
    "qc = QcVisualizer(cohort_validator=cvalidator)\n",
    "display(HTML(qc.to_summary_html()))"
   ]
  },
  {
   "cell_type": "code",
   "execution_count": 7,
   "id": "79e2f1d9-5c9f-41c6-b3de-c576f92694a6",
   "metadata": {},
   "outputs": [
    {
     "data": {
      "text/html": [
       "<table style=\"border: 2px solid black; align: \"left\">\n",
       "<caption>2 phenopackets - PMID:36282599 (n=1); PMID:36299998 (n=1)</caption>\n",
       "<tr><th style=\"text-align: left;font-weight: bold;\">Individual</th><th style=\"text-align: left;font-weight: bold;\">Disease</th><th style=\"text-align: left;font-weight: bold;\">Genotype</th><th style=\"text-align: left;font-weight: bold;\">Phenotypic features</th></tr>\n",
       "<tr><td style=\"text-align: left;\">21-year-old man (MALE; P21Y)</td><td style=\"text-align: left;\">Garg-Mishra progeroid syndrome (OMIM:620601)</td><td style=\"text-align: left;\">NM_019059.5:c.86C>T (homozygous)</td><td style=\"text-align: left;\">Postnatal growth retardation (HP:0008897); Short stature (HP:0004322); Reduced visual acuity (HP:0007663); Secondary microcephaly (HP:0005484); Triangular face (HP:0000325); Broad forehead (HP:0000337); Prominent nasal bridge (HP:0000426); Bulbous nose (HP:0000414); Micrognathia (HP:0000347); Dental crowding (HP:0000678); Nystagmus (HP:0000639); High hypermetropia (HP:0008499); Microphthalmia (HP:0000568); Cafe-au-lait spot (HP:0000957); Sparse hair (HP:0008070)</td></tr>\n",
       "<tr><td style=\"text-align: left;\">affected individual (MALE; P2Y7M)</td><td style=\"text-align: left;\">Garg-Mishra progeroid syndrome (OMIM:620601)</td><td style=\"text-align: left;\">NM_019059.5:c.73T>C (homozygous)</td><td style=\"text-align: left;\">Postnatal growth retardation (HP:0008897); Short stature (HP:0004322); Nystagmus (HP:0000639); Narrow chest (HP:0000774); Broad palm (HP:0001169); Small nail (HP:0001792); Hypotonia (HP:0001252); Increased circulating lactate dehydrogenase concentration (HP:0025435); Persistent open anterior fontanelle (HP:0004474); Thin ribs (HP:0000883); Ovoid vertebral bodies (HP:0003300); Platyspondyly (HP:0000926); Slender long bone (HP:0003100); Coxa valga (HP:0002673); Slender metacarpals (HP:0006236); Microvesicular hepatic steatosis (HP:0001414)</td></tr>\n",
       "</table>"
      ],
      "text/plain": [
       "<IPython.core.display.HTML object>"
      ]
     },
     "metadata": {},
     "output_type": "display_data"
    }
   ],
   "source": [
    "table = IndividualTable(cvalidator.get_error_free_individual_list())\n",
    "display(HTML(table.to_html()))"
   ]
  },
  {
   "cell_type": "markdown",
   "id": "c0e33664-77fe-4379-a47e-8cad45ad13b0",
   "metadata": {},
   "source": [
    "# HPOA file"
   ]
  },
  {
   "cell_type": "code",
   "execution_count": 11,
   "id": "f27f5c15-91bb-4430-abca-91dbd67a8f55",
   "metadata": {},
   "outputs": [
    {
     "name": "stdout",
     "output_type": "stream",
     "text": [
      "We found a total of 28 unique HPO terms\n",
      "Extracted disease: Garg-Mishra progeroid syndrome (OMIM:620601)\n"
     ]
    }
   ],
   "source": [
    "#PMID = \"PMID:36282599\"\n",
    "#timporter.create_hpoa_from_phenopackets(pmid=pmid, moi=\"Autosomal recessive\")"
   ]
  },
  {
   "cell_type": "code",
   "execution_count": null,
   "id": "0bddd8fb-7db3-49ca-a28a-d2f94d9d7c5d",
   "metadata": {},
   "outputs": [],
   "source": []
  }
 ],
 "metadata": {
  "kernelspec": {
   "display_name": "Python 3 (ipykernel)",
   "language": "python",
   "name": "python3"
  },
  "language_info": {
   "codemirror_mode": {
    "name": "ipython",
    "version": 3
   },
   "file_extension": ".py",
   "mimetype": "text/x-python",
   "name": "python",
   "nbconvert_exporter": "python",
   "pygments_lexer": "ipython3",
   "version": "3.8.10"
  }
 },
 "nbformat": 4,
 "nbformat_minor": 5
}
