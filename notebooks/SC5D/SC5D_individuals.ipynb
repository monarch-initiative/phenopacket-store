{
 "cells": [
  {
   "cell_type": "markdown",
   "id": "489e0681-91eb-400f-a408-dd751f478f8b",
   "metadata": {},
   "source": [
    "# SC5D individuals"
   ]
  },
  {
   "cell_type": "code",
   "execution_count": 1,
   "id": "9bc0c86b-1f6d-49ca-9acb-367a6923aad5",
   "metadata": {},
   "outputs": [
    {
     "name": "stdout",
     "output_type": "stream",
     "text": [
      "Using pyphetools version 0.9.48\n"
     ]
    }
   ],
   "source": [
    "import pandas as pd\n",
    "from IPython.display import display, HTML\n",
    "pd.set_option('display.max_colwidth', None) # show entire column contents, important!\n",
    "from collections import defaultdict\n",
    "from pyphetools.creation import HpoParser,CaseTemplateEncoder,VariantManager,AllelicRequirement\n",
    "from pyphetools.visualization import QcVisualizer,IndividualTable\n",
    "from pyphetools.validation import CohortValidator\n",
    "import pyphetools\n",
    "print(f\"Using pyphetools version {pyphetools.__version__}\")"
   ]
  },
  {
   "cell_type": "code",
   "execution_count": 2,
   "id": "d32fb943-3d5f-43e4-a74c-98c123044e6e",
   "metadata": {},
   "outputs": [
    {
     "name": "stdout",
     "output_type": "stream",
     "text": [
      "HPO version 2024-02-27\n"
     ]
    }
   ],
   "source": [
    "parser = HpoParser(hpo_json_file=\"../hp.json\")\n",
    "hpo_cr = parser.get_hpo_concept_recognizer()\n",
    "hpo_version = parser.get_version()\n",
    "hpo_ontology = parser.get_ontology()\n",
    "created_by=\"ORCID:0000-0002-0736-9199\"\n",
    "print(f\"HPO version {hpo_version}\")"
   ]
  },
  {
   "cell_type": "code",
   "execution_count": 3,
   "id": "eb170117-d920-45bd-a5a8-5e1a9ec6e58c",
   "metadata": {},
   "outputs": [
    {
     "data": {
      "text/html": [
       "<div>\n",
       "<style scoped>\n",
       "    .dataframe tbody tr th:only-of-type {\n",
       "        vertical-align: middle;\n",
       "    }\n",
       "\n",
       "    .dataframe tbody tr th {\n",
       "        vertical-align: top;\n",
       "    }\n",
       "\n",
       "    .dataframe thead th {\n",
       "        text-align: right;\n",
       "    }\n",
       "</style>\n",
       "<table border=\"1\" class=\"dataframe\">\n",
       "  <thead>\n",
       "    <tr style=\"text-align: right;\">\n",
       "      <th></th>\n",
       "      <th>PMID</th>\n",
       "      <th>title</th>\n",
       "      <th>individual_id</th>\n",
       "      <th>comment</th>\n",
       "      <th>disease_id</th>\n",
       "      <th>disease_label</th>\n",
       "      <th>transcript</th>\n",
       "      <th>allele_1</th>\n",
       "      <th>allele_2</th>\n",
       "      <th>variant.comment</th>\n",
       "      <th>...</th>\n",
       "      <th>Elevated circulating alkaline phosphatase concentration</th>\n",
       "      <th>Hyperbilirubinemia</th>\n",
       "      <th>Hyperammonemia</th>\n",
       "      <th>Osteoporosis</th>\n",
       "      <th>Elevated circulating lathosterol concentration</th>\n",
       "      <th>Abnormal circulating cholesterol concentration</th>\n",
       "      <th>Anisopoikilocytosis</th>\n",
       "      <th>Butterfly vertebrae</th>\n",
       "      <th>High palate</th>\n",
       "      <th>Axial hypotonia</th>\n",
       "    </tr>\n",
       "  </thead>\n",
       "  <tbody>\n",
       "    <tr>\n",
       "      <th>0</th>\n",
       "      <td>str</td>\n",
       "      <td>str</td>\n",
       "      <td>str</td>\n",
       "      <td>optional str</td>\n",
       "      <td>str</td>\n",
       "      <td>str</td>\n",
       "      <td>str</td>\n",
       "      <td>HGVS str</td>\n",
       "      <td>HGVS str</td>\n",
       "      <td>optional str</td>\n",
       "      <td>...</td>\n",
       "      <td>HP:0003155</td>\n",
       "      <td>HP:0002904</td>\n",
       "      <td>HP:0001987</td>\n",
       "      <td>HP:0000939</td>\n",
       "      <td>HP:0034936</td>\n",
       "      <td>HP:0003107</td>\n",
       "      <td>HP:0004823</td>\n",
       "      <td>HP:0003316</td>\n",
       "      <td>HP:0000218</td>\n",
       "      <td>HP:0008936</td>\n",
       "    </tr>\n",
       "    <tr>\n",
       "      <th>1</th>\n",
       "      <td>PMID:12812989</td>\n",
       "      <td>Lathosterolosis: an inborn error of human and murine cholesterol synthesis due to lathosterol 5-desaturase deficiency</td>\n",
       "      <td>atypical SLOS patient</td>\n",
       "      <td>NaN</td>\n",
       "      <td>OMIM:607330</td>\n",
       "      <td>Lathosterolosis</td>\n",
       "      <td>NM_006918.5</td>\n",
       "      <td>c.137A&gt;C</td>\n",
       "      <td>c.137A&gt;C</td>\n",
       "      <td>p.Tyr46Ser; VCV000007356.1</td>\n",
       "      <td>...</td>\n",
       "      <td>na</td>\n",
       "      <td>na</td>\n",
       "      <td>na</td>\n",
       "      <td>na</td>\n",
       "      <td>na</td>\n",
       "      <td>na</td>\n",
       "      <td>na</td>\n",
       "      <td>na</td>\n",
       "      <td>na</td>\n",
       "      <td>NaN</td>\n",
       "    </tr>\n",
       "  </tbody>\n",
       "</table>\n",
       "<p>2 rows × 53 columns</p>\n",
       "</div>"
      ],
      "text/plain": [
       "            PMID  \\\n",
       "0            str   \n",
       "1  PMID:12812989   \n",
       "\n",
       "                                                                                                                   title  \\\n",
       "0                                                                                                                    str   \n",
       "1  Lathosterolosis: an inborn error of human and murine cholesterol synthesis due to lathosterol 5-desaturase deficiency   \n",
       "\n",
       "           individual_id       comment   disease_id    disease_label  \\\n",
       "0                    str  optional str          str              str   \n",
       "1  atypical SLOS patient           NaN  OMIM:607330  Lathosterolosis   \n",
       "\n",
       "    transcript  allele_1  allele_2             variant.comment  ...  \\\n",
       "0          str  HGVS str  HGVS str                optional str  ...   \n",
       "1  NM_006918.5  c.137A>C  c.137A>C  p.Tyr46Ser; VCV000007356.1  ...   \n",
       "\n",
       "  Elevated circulating alkaline phosphatase concentration Hyperbilirubinemia  \\\n",
       "0                                              HP:0003155         HP:0002904   \n",
       "1                                                      na                 na   \n",
       "\n",
       "  Hyperammonemia Osteoporosis Elevated circulating lathosterol concentration  \\\n",
       "0     HP:0001987   HP:0000939                                     HP:0034936   \n",
       "1             na           na                                             na   \n",
       "\n",
       "  Abnormal circulating cholesterol concentration Anisopoikilocytosis  \\\n",
       "0                                     HP:0003107          HP:0004823   \n",
       "1                                             na                  na   \n",
       "\n",
       "  Butterfly vertebrae High palate Axial hypotonia  \n",
       "0          HP:0003316  HP:0000218      HP:0008936  \n",
       "1                  na          na             NaN  \n",
       "\n",
       "[2 rows x 53 columns]"
      ]
     },
     "execution_count": 3,
     "metadata": {},
     "output_type": "execute_result"
    }
   ],
   "source": [
    "df = pd.read_excel(\"input/SC5D_individuals.xlsx\")\n",
    "df.head(2)"
   ]
  },
  {
   "cell_type": "code",
   "execution_count": 4,
   "id": "de2bae12-a9f8-4a6e-806b-f76354dbbdbb",
   "metadata": {},
   "outputs": [
    {
     "name": "stdout",
     "output_type": "stream",
     "text": [
      "Created encoders for 53 fields\n"
     ]
    }
   ],
   "source": [
    "encoder = CaseTemplateEncoder(df=df, hpo_cr=hpo_cr, created_by=created_by)\n",
    "individuals = encoder.get_individuals()"
   ]
  },
  {
   "cell_type": "code",
   "execution_count": 5,
   "id": "3e252682-9a60-4e6d-98b1-89f633e0fdae",
   "metadata": {},
   "outputs": [
    {
     "name": "stdout",
     "output_type": "stream",
     "text": [
      "[INFO] encoding variant \"c.632G>A\"\n",
      "https://rest.variantvalidator.org/VariantValidator/variantvalidator/hg38/NM_006918.5%3Ac.632G>A/NM_006918.5?content-type=application%2Fjson\n",
      "[INFO] encoding variant \"c.86G>A\"\n",
      "https://rest.variantvalidator.org/VariantValidator/variantvalidator/hg38/NM_006918.5%3Ac.86G>A/NM_006918.5?content-type=application%2Fjson\n"
     ]
    }
   ],
   "source": [
    "SC5D_transcript = \"NM_006918.5\"\n",
    "vmanager = VariantManager(df=df,\n",
    "                          individual_column_name=\"individual_id\",\n",
    "                          gene_symbol=\"SC5D\",\n",
    "                          transcript=SC5D_transcript,\n",
    "                          allele_1_column_name=\"allele_1\",\n",
    "                          allele_2_column_name=\"allele_2\")"
   ]
  },
  {
   "cell_type": "code",
   "execution_count": 6,
   "id": "74bc6a16-af91-4b12-9577-7fa112cce30c",
   "metadata": {},
   "outputs": [
    {
     "data": {
      "text/html": [
       "<div>\n",
       "<style scoped>\n",
       "    .dataframe tbody tr th:only-of-type {\n",
       "        vertical-align: middle;\n",
       "    }\n",
       "\n",
       "    .dataframe tbody tr th {\n",
       "        vertical-align: top;\n",
       "    }\n",
       "\n",
       "    .dataframe thead th {\n",
       "        text-align: right;\n",
       "    }\n",
       "</style>\n",
       "<table border=\"1\" class=\"dataframe\">\n",
       "  <thead>\n",
       "    <tr style=\"text-align: right;\">\n",
       "      <th></th>\n",
       "      <th>status</th>\n",
       "      <th>count</th>\n",
       "      <th>alleles</th>\n",
       "    </tr>\n",
       "  </thead>\n",
       "  <tbody>\n",
       "    <tr>\n",
       "      <th>0</th>\n",
       "      <td>mapped</td>\n",
       "      <td>3</td>\n",
       "      <td>c.137A&gt;C, c.632G&gt;A, c.86G&gt;A</td>\n",
       "    </tr>\n",
       "    <tr>\n",
       "      <th>1</th>\n",
       "      <td>unmapped</td>\n",
       "      <td>0</td>\n",
       "      <td></td>\n",
       "    </tr>\n",
       "  </tbody>\n",
       "</table>\n",
       "</div>"
      ],
      "text/plain": [
       "     status  count                      alleles\n",
       "0    mapped      3  c.137A>C, c.632G>A, c.86G>A\n",
       "1  unmapped      0                             "
      ]
     },
     "execution_count": 6,
     "metadata": {},
     "output_type": "execute_result"
    }
   ],
   "source": [
    "vmanager.to_summary()"
   ]
  },
  {
   "cell_type": "code",
   "execution_count": 7,
   "id": "1b0ed79a-10be-4c78-89d8-7e09c1982d2c",
   "metadata": {},
   "outputs": [],
   "source": [
    "vmanager.add_variants_to_individuals(individuals)"
   ]
  },
  {
   "cell_type": "code",
   "execution_count": 8,
   "id": "f3392225-3f00-4ea9-a36f-a26bb9d7f7da",
   "metadata": {},
   "outputs": [
    {
     "data": {
      "text/html": [
       "<h2>Cohort validation</h2>\n",
       "<p>Errors found with 1 of 3 phenopackets.</p>\n",
       "<table style=\"border: 2px solid black; align: \"left\">\n",
       "<caption>Error counts</caption>\n",
       "<tr><th style=\"text-align: left;font-weight: bold;\">Level</th><th style=\"text-align: left;font-weight: bold;\">Error category</th><th style=\"text-align: left;font-weight: bold;\">Count</th></tr>\n",
       "<tr><td style=\"text-align: left;\">ERROR</td><td style=\"text-align: left;\">CONFLICT</td><td style=\"text-align: left;\">1</td></tr>\n",
       "</table>\n",
       "<p>A total of 1 issues were fixed and no individual was removed from the cohort.</p>"
      ],
      "text/plain": [
       "<IPython.core.display.HTML object>"
      ]
     },
     "metadata": {},
     "output_type": "display_data"
    }
   ],
   "source": [
    "cvalidator = CohortValidator(cohort=individuals, ontology=hpo_ontology, min_hpo=1, allelic_requirement=AllelicRequirement.BI_ALLELIC)\n",
    "qc = QcVisualizer(cohort_validator=cvalidator)\n",
    "display(HTML(qc.to_summary_html()))"
   ]
  },
  {
   "cell_type": "code",
   "execution_count": 9,
   "id": "527cedb1-2d23-4a2f-8cf8-329f8baa97f9",
   "metadata": {},
   "outputs": [
    {
     "data": {
      "text/html": [
       "<table style=\"border: 2px solid black; align: \"left\">\n",
       "<caption>3 phenopackets - PMID:12812989 (n=1); PMID:17853487 (n=2)</caption>\n",
       "<tr><th style=\"text-align: left;font-weight: bold;\">Individual</th><th style=\"text-align: left;font-weight: bold;\">Disease</th><th style=\"text-align: left;font-weight: bold;\">Genotype</th><th style=\"text-align: left;font-weight: bold;\">Phenotypic features</th></tr>\n",
       "<tr><td style=\"text-align: left;\">atypical SLOS patient (UNKNOWN; P0D)</td><td style=\"text-align: left;\">Lathosterolosis (OMIM:607330)</td><td style=\"text-align: left;\">NM_006918.5:c.137A>C (homozygous)</td><td style=\"text-align: left;\"><b>P0D</b>: Microcephaly (HP:0000252); Cataract (HP:0000518); Short nose (HP:0003196); Micrognathia (HP:0000347); Alveolar ridge overgrowth (HP:0009085); Ambiguous genitalia, male (HP:0000033); 2-3 toe cutaneous syndactyly (HP:0005709)<br/>Postaxial foot polydactyly (HP:0001830); Reduced 3-beta-hydroxysteroid-delta-5-desaturase activity in cultured fibroblasts (HP:6000199); excluded: Postaxial hand polydactyly (HP:0001162); excluded: Talipes equinovarus (HP:0001762); excluded: Lumbosacral meningocele (HP:0200133); excluded: 2-4 toe cutaneous syndactyly (HP:0005768)</td></tr>\n",
       "<tr><td style=\"text-align: left;\">Patient 1 (UNKNOWN; )</td><td style=\"text-align: left;\">Lathosterolosis (OMIM:607330)</td><td style=\"text-align: left;\"><ul> <li>NM_006918.5:c.86G>A (heterozygous)</li> <li>NM_006918.5:c.632G>A (heterozygous)</li> </ul></td><td style=\"text-align: left;\">Microcephaly (HP:0000252); Postaxial hand polydactyly (HP:0001162); Chiari type II malformation (HP:0025660); Talipes equinovarus (HP:0001762); Lumbosacral meningocele (HP:0200133); excluded: 2-3 toe cutaneous syndactyly (HP:0005709); excluded: Postaxial foot polydactyly (HP:0001830); excluded: Foam cells with lamellar inclusion bodies (HP:0003609); excluded: 2-4 toe cutaneous syndactyly (HP:0005768); excluded: Horseshoe kidney (HP:0000085); excluded: Bilobate gallbladder (HP:0005608); excluded: Intrahepatic cholestasis (HP:0001406)</td></tr>\n",
       "<tr><td style=\"text-align: left;\">Patient 2 (FEMALE; P0D)</td><td style=\"text-align: left;\">Lathosterolosis (OMIM:607330)</td><td style=\"text-align: left;\"><ul> <li>NM_006918.5:c.86G>A (heterozygous)</li> <li>NM_006918.5:c.632G>A (heterozygous)</li> </ul></td><td style=\"text-align: left;\"><b>P6Y</b>: Cataract (HP:0000518)<br/><b>P7Y</b>: Micrognathia (HP:0000347)<br/>Microcephaly (HP:0000252); Postaxial foot polydactyly (HP:0001830); 2-4 toe cutaneous syndactyly (HP:0005768); Horseshoe kidney (HP:0000085); Bilobate gallbladder (HP:0005608); Intrahepatic cholestasis (HP:0001406); Ptosis (HP:0000508); Prominent nasal tip (HP:0005274); Thick upper lip vermilion (HP:0000215); Narrow forehead (HP:0000341); Epicanthus (HP:0000286); Anteverted nares (HP:0000463); Long philtrum (HP:0000343); Hepatic fibrosis (HP:0001395); Elevated gamma-glutamyltransferase level (HP:0030948); Elevated circulating alanine aminotransferase concentration (HP:0031964); Elevated circulating aspartate aminotransferase concentration (HP:0031956); Elevated circulating alkaline phosphatase concentration (HP:0003155); Hyperbilirubinemia (HP:0002904); Hyperammonemia (HP:0001987); Osteoporosis (HP:0000939); Elevated circulating lathosterol concentration (HP:0034936); Anisopoikilocytosis (HP:0004823); Butterfly vertebrae (HP:0003316); excluded: Short nose (HP:0003196); excluded: 2-3 toe cutaneous syndactyly (HP:0005709); excluded: Postaxial hand polydactyly (HP:0001162); excluded: Chiari type II malformation (HP:0025660); excluded: Talipes equinovarus (HP:0001762); excluded: Lumbosacral meningocele (HP:0200133)</td></tr>\n",
       "</table>"
      ],
      "text/plain": [
       "<IPython.core.display.HTML object>"
      ]
     },
     "metadata": {},
     "output_type": "display_data"
    }
   ],
   "source": [
    "individuals = cvalidator.get_error_free_individual_list()\n",
    "table = IndividualTable(individuals)\n",
    "display(HTML(table.to_html()))"
   ]
  },
  {
   "cell_type": "code",
   "execution_count": 10,
   "id": "cea603fc-8bcd-46d1-a411-67e1683b54a7",
   "metadata": {},
   "outputs": [
    {
     "name": "stdout",
     "output_type": "stream",
     "text": [
      "We output 3 GA4GH phenopackets to the directory phenopackets\n"
     ]
    }
   ],
   "source": [
    "encoder.output_individuals_as_phenopackets(individual_list=individuals)"
   ]
  },
  {
   "cell_type": "code",
   "execution_count": 11,
   "id": "cfd4520e-9d4f-4070-90af-b38c807a57e4",
   "metadata": {},
   "outputs": [
    {
     "name": "stdout",
     "output_type": "stream",
     "text": [
      "[pyphetools] Ingested 3 GA4GH phenopackets.\n"
     ]
    }
   ],
   "source": [
    "from pyphetools.visualization import PhenopacketIngestor,HpoaTableBuilder\n",
    "ingestor = PhenopacketIngestor(indir=\"phenopackets\")\n",
    "ppkt_d = ingestor.get_phenopacket_dictionary()\n",
    "ppkt_list = list(ppkt_d.values())"
   ]
  },
  {
   "cell_type": "code",
   "execution_count": 13,
   "id": "95b1d011-62c2-49d9-8887-d1326dd16441",
   "metadata": {},
   "outputs": [],
   "source": [
    "builder = HpoaTableBuilder(phenopacket_list=ppkt_list)\n",
    "PMID = \"PMID:12812989\"\n",
    "builder.autosomal_recessive(PMID);"
   ]
  },
  {
   "cell_type": "code",
   "execution_count": 15,
   "id": "49f21f5c-0ced-41ea-9044-7a20764f2875",
   "metadata": {},
   "outputs": [
    {
     "name": "stdout",
     "output_type": "stream",
     "text": [
      "We found a total of 36 unique HPO terms\n",
      "Extracted disease: Lathosterolosis (OMIM:607330)\n"
     ]
    },
    {
     "data": {
      "text/html": [
       "<div>\n",
       "<style scoped>\n",
       "    .dataframe tbody tr th:only-of-type {\n",
       "        vertical-align: middle;\n",
       "    }\n",
       "\n",
       "    .dataframe tbody tr th {\n",
       "        vertical-align: top;\n",
       "    }\n",
       "\n",
       "    .dataframe thead th {\n",
       "        text-align: right;\n",
       "    }\n",
       "</style>\n",
       "<table border=\"1\" class=\"dataframe\">\n",
       "  <thead>\n",
       "    <tr style=\"text-align: right;\">\n",
       "      <th></th>\n",
       "      <th>#diseaseID</th>\n",
       "      <th>diseaseName</th>\n",
       "      <th>phenotypeID</th>\n",
       "      <th>phenotypeName</th>\n",
       "      <th>onsetID</th>\n",
       "      <th>onsetName</th>\n",
       "      <th>frequency</th>\n",
       "      <th>sex</th>\n",
       "      <th>negation</th>\n",
       "      <th>modifier</th>\n",
       "      <th>description</th>\n",
       "      <th>publication</th>\n",
       "      <th>evidence</th>\n",
       "      <th>biocuration</th>\n",
       "    </tr>\n",
       "  </thead>\n",
       "  <tbody>\n",
       "    <tr>\n",
       "      <th>0</th>\n",
       "      <td>OMIM:607330</td>\n",
       "      <td>Lathosterolosis</td>\n",
       "      <td>HP:0000252</td>\n",
       "      <td>Microcephaly</td>\n",
       "      <td></td>\n",
       "      <td></td>\n",
       "      <td>2/2</td>\n",
       "      <td></td>\n",
       "      <td></td>\n",
       "      <td></td>\n",
       "      <td></td>\n",
       "      <td>PMID:17853487</td>\n",
       "      <td>PCS</td>\n",
       "      <td>ORCID:0000-0002-0736-9199</td>\n",
       "    </tr>\n",
       "    <tr>\n",
       "      <th>1</th>\n",
       "      <td>OMIM:607330</td>\n",
       "      <td>Lathosterolosis</td>\n",
       "      <td>HP:0001162</td>\n",
       "      <td>Postaxial hand polydactyly</td>\n",
       "      <td></td>\n",
       "      <td></td>\n",
       "      <td>1/2</td>\n",
       "      <td></td>\n",
       "      <td></td>\n",
       "      <td></td>\n",
       "      <td></td>\n",
       "      <td>PMID:17853487</td>\n",
       "      <td>PCS</td>\n",
       "      <td>ORCID:0000-0002-0736-9199</td>\n",
       "    </tr>\n",
       "    <tr>\n",
       "      <th>2</th>\n",
       "      <td>OMIM:607330</td>\n",
       "      <td>Lathosterolosis</td>\n",
       "      <td>HP:0025660</td>\n",
       "      <td>Chiari type II malformation</td>\n",
       "      <td></td>\n",
       "      <td></td>\n",
       "      <td>1/2</td>\n",
       "      <td></td>\n",
       "      <td></td>\n",
       "      <td></td>\n",
       "      <td></td>\n",
       "      <td>PMID:17853487</td>\n",
       "      <td>PCS</td>\n",
       "      <td>ORCID:0000-0002-0736-9199</td>\n",
       "    </tr>\n",
       "    <tr>\n",
       "      <th>3</th>\n",
       "      <td>OMIM:607330</td>\n",
       "      <td>Lathosterolosis</td>\n",
       "      <td>HP:0001762</td>\n",
       "      <td>Talipes equinovarus</td>\n",
       "      <td></td>\n",
       "      <td></td>\n",
       "      <td>1/2</td>\n",
       "      <td></td>\n",
       "      <td></td>\n",
       "      <td></td>\n",
       "      <td></td>\n",
       "      <td>PMID:17853487</td>\n",
       "      <td>PCS</td>\n",
       "      <td>ORCID:0000-0002-0736-9199</td>\n",
       "    </tr>\n",
       "    <tr>\n",
       "      <th>4</th>\n",
       "      <td>OMIM:607330</td>\n",
       "      <td>Lathosterolosis</td>\n",
       "      <td>HP:0200133</td>\n",
       "      <td>Lumbosacral meningocele</td>\n",
       "      <td></td>\n",
       "      <td></td>\n",
       "      <td>1/2</td>\n",
       "      <td></td>\n",
       "      <td></td>\n",
       "      <td></td>\n",
       "      <td></td>\n",
       "      <td>PMID:17853487</td>\n",
       "      <td>PCS</td>\n",
       "      <td>ORCID:0000-0002-0736-9199</td>\n",
       "    </tr>\n",
       "  </tbody>\n",
       "</table>\n",
       "</div>"
      ],
      "text/plain": [
       "    #diseaseID      diseaseName phenotypeID                phenotypeName  \\\n",
       "0  OMIM:607330  Lathosterolosis  HP:0000252                 Microcephaly   \n",
       "1  OMIM:607330  Lathosterolosis  HP:0001162   Postaxial hand polydactyly   \n",
       "2  OMIM:607330  Lathosterolosis  HP:0025660  Chiari type II malformation   \n",
       "3  OMIM:607330  Lathosterolosis  HP:0001762          Talipes equinovarus   \n",
       "4  OMIM:607330  Lathosterolosis  HP:0200133      Lumbosacral meningocele   \n",
       "\n",
       "  onsetID onsetName frequency sex negation modifier description  \\\n",
       "0                         2/2                                     \n",
       "1                         1/2                                     \n",
       "2                         1/2                                     \n",
       "3                         1/2                                     \n",
       "4                         1/2                                     \n",
       "\n",
       "     publication evidence                biocuration  \n",
       "0  PMID:17853487      PCS  ORCID:0000-0002-0736-9199  \n",
       "1  PMID:17853487      PCS  ORCID:0000-0002-0736-9199  \n",
       "2  PMID:17853487      PCS  ORCID:0000-0002-0736-9199  \n",
       "3  PMID:17853487      PCS  ORCID:0000-0002-0736-9199  \n",
       "4  PMID:17853487      PCS  ORCID:0000-0002-0736-9199  "
      ]
     },
     "execution_count": 15,
     "metadata": {},
     "output_type": "execute_result"
    }
   ],
   "source": [
    "hpoa_table_creator = builder.build()\n",
    "df = hpoa_table_creator.get_dataframe()\n",
    "df.head(5)"
   ]
  },
  {
   "cell_type": "code",
   "execution_count": 16,
   "id": "6c49068b-6988-435e-a197-a5d955b65f12",
   "metadata": {},
   "outputs": [
    {
     "name": "stdout",
     "output_type": "stream",
     "text": [
      "Wrote HPOA disease file to OMIM-607330.tab\n"
     ]
    }
   ],
   "source": [
    "hpoa_table_creator.write_data_frame()"
   ]
  },
  {
   "cell_type": "code",
   "execution_count": null,
   "id": "34309b1b-4f26-4b34-a36c-953199cb7310",
   "metadata": {},
   "outputs": [],
   "source": []
  }
 ],
 "metadata": {
  "kernelspec": {
   "display_name": "Python 3 (ipykernel)",
   "language": "python",
   "name": "python3"
  },
  "language_info": {
   "codemirror_mode": {
    "name": "ipython",
    "version": 3
   },
   "file_extension": ".py",
   "mimetype": "text/x-python",
   "name": "python",
   "nbconvert_exporter": "python",
   "pygments_lexer": "ipython3",
   "version": "3.8.10"
  }
 },
 "nbformat": 4,
 "nbformat_minor": 5
}
