{
 "cells": [
  {
   "cell_type": "markdown",
   "id": "489e0681-91eb-400f-a408-dd751f478f8b",
   "metadata": {},
   "source": [
    "# SC5D individuals"
   ]
  },
  {
   "cell_type": "code",
   "execution_count": 1,
   "id": "9bc0c86b-1f6d-49ca-9acb-367a6923aad5",
   "metadata": {},
   "outputs": [
    {
     "name": "stdout",
     "output_type": "stream",
     "text": [
      "Using pyphetools version 0.9.66\n"
     ]
    }
   ],
   "source": [
    "from pyphetools.creation import TemplateImporter\n",
    "from pyphetools.visualization import IndividualTable, QcVisualizer\n",
    "from IPython.display import display, HTML\n",
    "import pyphetools\n",
    "print(f\"Using pyphetools version {pyphetools.__version__}\")"
   ]
  },
  {
   "cell_type": "code",
   "execution_count": 2,
   "id": "d32fb943-3d5f-43e4-a74c-98c123044e6e",
   "metadata": {},
   "outputs": [],
   "source": [
    "template = \"input/SC5D_individuals.xlsx\"\n",
    "hp_json = \"../hp.json\"\n",
    "created_by = \"0000-0002-0736-9199\""
   ]
  },
  {
   "cell_type": "code",
   "execution_count": 4,
   "id": "eb170117-d920-45bd-a5a8-5e1a9ec6e58c",
   "metadata": {},
   "outputs": [
    {
     "name": "stdout",
     "output_type": "stream",
     "text": [
      "HPO version 2024-03-06\n",
      "Created encoders for 55 fields\n",
      " we got OMIM:607330  NM_006918.5\n",
      "We output 3 GA4GH phenopackets to the directory phenopackets\n"
     ]
    }
   ],
   "source": [
    "timporter = TemplateImporter(template=template, hp_json=hp_json, created_by=created_by)\n",
    "individual_list, cvalidator = timporter.import_phenopackets_from_template()"
   ]
  },
  {
   "cell_type": "code",
   "execution_count": 5,
   "id": "de2bae12-a9f8-4a6e-806b-f76354dbbdbb",
   "metadata": {},
   "outputs": [
    {
     "data": {
      "text/html": [
       "<h2>Cohort validation</h2>\n",
       "<p>Errors found with 1 of 3 phenopackets.</p>\n",
       "<table style=\"border: 2px solid black; align: \"left\">\n",
       "<caption>Error counts</caption>\n",
       "<tr><th style=\"text-align: left;font-weight: bold;\">Level</th><th style=\"text-align: left;font-weight: bold;\">Error category</th><th style=\"text-align: left;font-weight: bold;\">Count</th></tr>\n",
       "<tr><td style=\"text-align: left;\">ERROR</td><td style=\"text-align: left;\">CONFLICT</td><td style=\"text-align: left;\">1</td></tr>\n",
       "</table>\n",
       "<p>A total of 1 issues were fixed and no individual was removed from the cohort.</p>"
      ],
      "text/plain": [
       "<IPython.core.display.HTML object>"
      ]
     },
     "metadata": {},
     "output_type": "display_data"
    }
   ],
   "source": [
    "qc = QcVisualizer(cohort_validator=cvalidator)\n",
    "display(HTML(qc.to_summary_html()))"
   ]
  },
  {
   "cell_type": "code",
   "execution_count": 6,
   "id": "3e252682-9a60-4e6d-98b1-89f633e0fdae",
   "metadata": {},
   "outputs": [
    {
     "data": {
      "text/html": [
       "<table style=\"border: 2px solid black; align: \"left\">\n",
       "<caption>3 phenopackets - PMID:12812989 (n=1); PMID:17853487 (n=2)</caption>\n",
       "<tr><th style=\"text-align: left;font-weight: bold;\">Individual</th><th style=\"text-align: left;font-weight: bold;\">Disease</th><th style=\"text-align: left;font-weight: bold;\">Genotype</th><th style=\"text-align: left;font-weight: bold;\">Phenotypic features</th></tr>\n",
       "<tr><td style=\"text-align: left;\">atypical SLOS patient (UNKNOWN; P4M)</td><td style=\"text-align: left;\">Lathosterolosis (OMIM:607330)</td><td style=\"text-align: left;\">NM_006918.5:c.137A>C (homozygous)</td><td style=\"text-align: left;\"><b>P0D</b>: Microcephaly (HP:0000252); Cataract (HP:0000518); Short nose (HP:0003196); Micrognathia (HP:0000347); Alveolar ridge overgrowth (HP:0009085); Ambiguous genitalia, male (HP:0000033); 2-3 toe cutaneous syndactyly (HP:0005709)<br/>Postaxial foot polydactyly (HP:0001830); Reduced 3-beta-hydroxysteroid-delta-5-desaturase activity in cultured fibroblasts (HP:6000199); excluded: Postaxial hand polydactyly (HP:0001162); excluded: Talipes equinovarus (HP:0001762); excluded: Lumbosacral meningocele (HP:0200133); excluded: 2-4 toe cutaneous syndactyly (HP:0005768)</td></tr>\n",
       "<tr><td style=\"text-align: left;\">Patient 1 (UNKNOWN; n/a)</td><td style=\"text-align: left;\">Lathosterolosis (OMIM:607330)</td><td style=\"text-align: left;\"><ul> <li>NM_006918.5:c.86G>A (heterozygous)</li> <li>NM_006918.5:c.632G>A (heterozygous)</li> </ul></td><td style=\"text-align: left;\">Microcephaly (HP:0000252); Postaxial hand polydactyly (HP:0001162); Chiari type II malformation (HP:0025660); Talipes equinovarus (HP:0001762); Lumbosacral meningocele (HP:0200133); excluded: 2-3 toe cutaneous syndactyly (HP:0005709); excluded: Postaxial foot polydactyly (HP:0001830); excluded: Foam cells with lamellar inclusion bodies (HP:0003609); excluded: 2-4 toe cutaneous syndactyly (HP:0005768); excluded: Horseshoe kidney (HP:0000085); excluded: Bilobate gallbladder (HP:0005608); excluded: Intrahepatic cholestasis (HP:0001406)</td></tr>\n",
       "<tr><td style=\"text-align: left;\">Patient 2 (FEMALE; P7Y)</td><td style=\"text-align: left;\">Lathosterolosis (OMIM:607330)</td><td style=\"text-align: left;\"><ul> <li>NM_006918.5:c.86G>A (heterozygous)</li> <li>NM_006918.5:c.632G>A (heterozygous)</li> </ul></td><td style=\"text-align: left;\"><b>P6Y</b>: Cataract (HP:0000518)<br/><b>P7Y</b>: Micrognathia (HP:0000347)<br/>Microcephaly (HP:0000252); Postaxial foot polydactyly (HP:0001830); 2-4 toe cutaneous syndactyly (HP:0005768); Horseshoe kidney (HP:0000085); Bilobate gallbladder (HP:0005608); Intrahepatic cholestasis (HP:0001406); Ptosis (HP:0000508); Prominent nasal tip (HP:0005274); Thick upper lip vermilion (HP:0000215); Narrow forehead (HP:0000341); Epicanthus (HP:0000286); Anteverted nares (HP:0000463); Long philtrum (HP:0000343); Hepatic fibrosis (HP:0001395); Elevated gamma-glutamyltransferase level (HP:0030948); Elevated circulating alanine aminotransferase concentration (HP:0031964); Elevated circulating aspartate aminotransferase concentration (HP:0031956); Elevated circulating alkaline phosphatase concentration (HP:0003155); Hyperbilirubinemia (HP:0002904); Hyperammonemia (HP:0001987); Osteoporosis (HP:0000939); Elevated circulating lathosterol concentration (HP:0034936); Anisopoikilocytosis (HP:0004823); Butterfly vertebrae (HP:0003316); excluded: Short nose (HP:0003196); excluded: 2-3 toe cutaneous syndactyly (HP:0005709); excluded: Postaxial hand polydactyly (HP:0001162); excluded: Chiari type II malformation (HP:0025660); excluded: Talipes equinovarus (HP:0001762); excluded: Lumbosacral meningocele (HP:0200133)</td></tr>\n",
       "</table>"
      ],
      "text/plain": [
       "<IPython.core.display.HTML object>"
      ]
     },
     "metadata": {},
     "output_type": "display_data"
    }
   ],
   "source": [
    "table = IndividualTable(cvalidator.get_error_free_individual_list())\n",
    "display(HTML(table.to_html()))"
   ]
  },
  {
   "cell_type": "code",
   "execution_count": null,
   "id": "34309b1b-4f26-4b34-a36c-953199cb7310",
   "metadata": {},
   "outputs": [],
   "source": []
  }
 ],
 "metadata": {
  "kernelspec": {
   "display_name": "Python 3 (ipykernel)",
   "language": "python",
   "name": "python3"
  },
  "language_info": {
   "codemirror_mode": {
    "name": "ipython",
    "version": 3
   },
   "file_extension": ".py",
   "mimetype": "text/x-python",
   "name": "python",
   "nbconvert_exporter": "python",
   "pygments_lexer": "ipython3",
   "version": "3.8.10"
  }
 },
 "nbformat": 4,
 "nbformat_minor": 5
}
