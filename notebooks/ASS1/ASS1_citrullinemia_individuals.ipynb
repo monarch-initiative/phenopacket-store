{
 "cells": [
  {
   "cell_type": "markdown",
   "metadata": {},
   "source": [
    "[citrullinemia](https://omim.org/entry/215700) is caused by homozygous or compound heterozygous mutation in the ASS1 gene."
   ]
  },
  {
   "cell_type": "code",
   "execution_count": 1,
   "metadata": {},
   "outputs": [
    {
     "name": "stdout",
     "output_type": "stream",
     "text": [
      "Using pyphetools version 0.9.78\n"
     ]
    },
    {
     "name": "stderr",
     "output_type": "stream",
     "text": [
      "/Users/robin/GIT/phenopacket-store/ps24venv/lib/python3.9/site-packages/urllib3/__init__.py:35: NotOpenSSLWarning: urllib3 v2 only supports OpenSSL 1.1.1+, currently the 'ssl' module is compiled with 'LibreSSL 2.8.3'. See: https://github.com/urllib3/urllib3/issues/3020\n",
      "  warnings.warn(\n"
     ]
    }
   ],
   "source": [
    "from pyphetools.creation import TemplateImporter\n",
    "from pyphetools.visualization import IndividualTable, QcVisualizer\n",
    "from IPython.display import display, HTML\n",
    "import pyphetools\n",
    "print(f\"Using pyphetools version {pyphetools.__version__}\")"
   ]
  },
  {
   "cell_type": "code",
   "execution_count": 2,
   "metadata": {},
   "outputs": [],
   "source": [
    "template = \"input/ASS1_Citrullinemia_individuals.xlsx\"\n",
    "hp_json = \"../hp.json\"\n",
    "created_by = \"0000-0002-0736-9199\""
   ]
  },
  {
   "cell_type": "code",
   "execution_count": 3,
   "metadata": {},
   "outputs": [
    {
     "name": "stdout",
     "output_type": "stream",
     "text": [
      "HPO version 2024-04-04\n",
      "Created encoders for 46 fields\n",
      "Importing OMIM:215700, Citrullinemia, HGNC:758, ASS1,  NM_054012.4\n",
      "We output 5 GA4GH phenopackets to the directory phenopackets\n"
     ]
    }
   ],
   "source": [
    "timporter = TemplateImporter(template=template, hp_json=hp_json, created_by=created_by)\n",
    "individual_list, cvalidator = timporter.import_phenopackets_from_template()"
   ]
  },
  {
   "cell_type": "code",
   "execution_count": 4,
   "metadata": {},
   "outputs": [
    {
     "data": {
      "text/html": [
       "<h2>Cohort validation</h2>\n",
       "<p>No errors found for the cohort with 5 individuals</p>"
      ],
      "text/plain": [
       "<IPython.core.display.HTML object>"
      ]
     },
     "metadata": {},
     "output_type": "display_data"
    }
   ],
   "source": [
    "qc = QcVisualizer(cohort_validator=cvalidator)\n",
    "display(HTML(qc.to_summary_html()))"
   ]
  },
  {
   "cell_type": "code",
   "execution_count": 5,
   "metadata": {},
   "outputs": [
    {
     "data": {
      "text/html": [
       "<table style=\"border: 2px solid black; align: \"left\">\n",
       "<caption>5 phenopackets - PMID:23099195 (n=5)</caption>\n",
       "<tr><th style=\"text-align: left;font-weight: bold;\">Individual</th><th style=\"text-align: left;font-weight: bold;\">Disease</th><th style=\"text-align: left;font-weight: bold;\">Genotype</th><th style=\"text-align: left;font-weight: bold;\">Phenotypic features</th></tr>\n",
       "<tr><td style=\"text-align: left;\">Patient 1 (FEMALE; P8Y)</td><td style=\"text-align: left;\">Citrullinemia (OMIM:215700)</td><td style=\"text-align: left;\"><ul> <li>NM_054012.4:c.836G>A (heterozygous)</li> <li>NM_054012.4:c.970G>A (heterozygous)</li> </ul></td><td style=\"text-align: left;\"><b>P8D</b>: Seizure (HP:0001250); Lethargy (HP:0001254)<br/><b>P12D</b>: Elevated plasma citrulline (HP:0011966); Hyperammonemia (HP:0001987)<br/>Abdominal pain (HP:0002027)</td></tr>\n",
       "<tr><td style=\"text-align: left;\">Patient 2 (FEMALE; P3Y3M)</td><td style=\"text-align: left;\">Citrullinemia (OMIM:215700)</td><td style=\"text-align: left;\"><ul> <li>NM_054012.4:c.970G>A (heterozygous)</li> <li>NM_054012.4:c.1128-6_1188dup (heterozygous)</li> </ul></td><td style=\"text-align: left;\"><b>P18D</b>: Elevated plasma citrulline (HP:0011966); Hyperammonemia (HP:0001987); Increased circulating lactate concentration (HP:0002151); Methylmalonic aciduria (HP:0012120)<br/>excluded: Oroticaciduria (HP:0003218)</td></tr>\n",
       "<tr><td style=\"text-align: left;\">Patient 3 (MALE; P1M)</td><td style=\"text-align: left;\">Citrullinemia (OMIM:215700)</td><td style=\"text-align: left;\"><ul> <li>NM_054012.4:c.421-2A>G (heterozygous)</li> <li>NM_054012.4:c.970G>A (heterozygous)</li> </ul></td><td style=\"text-align: left;\"><b>P3D</b>: Elevated plasma citrulline (HP:0011966); Hypermethioninemia (HP:0003235)<br/><b>P5D</b>: Hyperglutaminemia (HP:0003217); Hyperammonemia (HP:0001987); Hypoargininemia (HP:0005961); Seizure (HP:0001250); Lethargy (HP:0001254); Oroticaciduria (HP:0003218); Lacticaciduria (HP:0003648); Uraciluria (HP:0012127); 2-hydroxyglutarate aciduria (HP:0032278); Increased level of hippuric acid in urine (HP:0410066); Elevated urinary 2-hydroxybutyric acid (HP:0033409); Hyperoxaluria (HP:0003159); Elevated urine 3-hydroxypropionic acid level (HP:0034661)</td></tr>\n",
       "<tr><td style=\"text-align: left;\">Patient 4 (FEMALE; P1Y2M)</td><td style=\"text-align: left;\">Citrullinemia (OMIM:215700)</td><td style=\"text-align: left;\"><ul> <li>NM_054012.4:c.380G>A (heterozygous)</li> <li>NM_054012.4:c.970G>A (heterozygous)</li> </ul></td><td style=\"text-align: left;\">Elevated plasma citrulline (HP:0011966); excluded: Oroticaciduria (HP:0003218)</td></tr>\n",
       "<tr><td style=\"text-align: left;\">Patient 5 (FEMALE; P3M)</td><td style=\"text-align: left;\">Citrullinemia (OMIM:215700)</td><td style=\"text-align: left;\">NM_054012.4:c.421-2A>G (homozygous)</td><td style=\"text-align: left;\"><b>P3D</b>: Hyperglutaminemia (HP:0003217); Hyperammonemia (HP:0001987); Hypoargininemia (HP:0005961); Seizure (HP:0001250)<br/>Elevated plasma citrulline (HP:0011966); Cerebral edema (HP:0002181); Oroticaciduria (HP:0003218); excluded: Increased circulating lactate concentration (HP:0002151)</td></tr>\n",
       "</table>"
      ],
      "text/plain": [
       "<IPython.core.display.HTML object>"
      ]
     },
     "metadata": {},
     "output_type": "display_data"
    }
   ],
   "source": [
    "table = IndividualTable(cvalidator.get_error_free_individual_list())\n",
    "display(HTML(table.to_html()))"
   ]
  }
 ],
 "metadata": {
  "kernelspec": {
   "display_name": "ps24venv",
   "language": "python",
   "name": "python3"
  },
  "language_info": {
   "codemirror_mode": {
    "name": "ipython",
    "version": 3
   },
   "file_extension": ".py",
   "mimetype": "text/x-python",
   "name": "python",
   "nbconvert_exporter": "python",
   "pygments_lexer": "ipython3",
   "version": "3.9.6"
  }
 },
 "nbformat": 4,
 "nbformat_minor": 2
}
