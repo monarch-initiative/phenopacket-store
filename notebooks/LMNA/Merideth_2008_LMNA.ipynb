{
 "cells": [
  {
   "cell_type": "markdown",
   "id": "4c086459-34d3-4e55-b5bc-93862eac18df",
   "metadata": {},
   "source": [
    "# LMNA\n",
    "\n",
    "\n",
    "The data in this workbook were derived from Table 1 of [Merideth MA, et al (2008) Phenotype and course of Hutchinson-Gilford progeria syndrome. N Engl J Med. 358(6):592-604. PMID:18256394](https://pubmed.ncbi.nlm.nih.gov/18256394/).\n",
    "\n",
    "The authors state: Every patient was heterozygous for the G608G mutation in LMNA\n",
    "We mapped this to NM_170707.4(LMNA):c.1824C>T (p.Gly608=), see ClinVar VCV000014500.25"
   ]
  },
  {
   "cell_type": "code",
   "execution_count": 1,
   "id": "efd7883a-b56e-45b0-bd0b-941566e02624",
   "metadata": {},
   "outputs": [
    {
     "name": "stdout",
     "output_type": "stream",
     "text": [
      "Using pyphetools version 0.9.65\n"
     ]
    }
   ],
   "source": [
    "import pandas as pd\n",
    "pd.set_option('display.max_colwidth', None) # show entire column contents, important!\n",
    "from IPython.display import display, HTML\n",
    "from pyphetools.creation import *\n",
    "from pyphetools.visualization import *\n",
    "from pyphetools.validation import *\n",
    "import pyphetools\n",
    "print(f\"Using pyphetools version {pyphetools.__version__}\")"
   ]
  },
  {
   "cell_type": "code",
   "execution_count": 2,
   "id": "05b8722f-2ed3-440c-99a3-f4749451e77c",
   "metadata": {},
   "outputs": [
    {
     "name": "stdout",
     "output_type": "stream",
     "text": [
      "HPO version 2024-02-27\n"
     ]
    }
   ],
   "source": [
    "PMID = \"PMID:18256394\"\n",
    "title = \"Phenotype and course of Hutchinson-Gilford progeria syndrome\"\n",
    "cite = Citation(pmid=PMID, title=title)\n",
    "parser = HpoParser(hpo_json_file=\"../hp.json\")\n",
    "hpo_cr = parser.get_hpo_concept_recognizer()\n",
    "hpo_version = parser.get_version()\n",
    "hpo_ontology = parser.get_ontology()\n",
    "metadata = MetaData(created_by=\"ORCID:0000-0002-0736-9199\", citation=cite)\n",
    "metadata.default_versions_with_hpo(version=hpo_version)\n",
    "print(f\"HPO version {hpo_version}\")"
   ]
  },
  {
   "cell_type": "code",
   "execution_count": 3,
   "id": "32c20e25-b107-488c-ad70-24abb13a876b",
   "metadata": {},
   "outputs": [
    {
     "data": {
      "text/html": [
       "<div>\n",
       "<style scoped>\n",
       "    .dataframe tbody tr th:only-of-type {\n",
       "        vertical-align: middle;\n",
       "    }\n",
       "\n",
       "    .dataframe tbody tr th {\n",
       "        vertical-align: top;\n",
       "    }\n",
       "\n",
       "    .dataframe thead th {\n",
       "        text-align: right;\n",
       "    }\n",
       "</style>\n",
       "<table border=\"1\" class=\"dataframe\">\n",
       "  <thead>\n",
       "    <tr style=\"text-align: right;\">\n",
       "      <th></th>\n",
       "      <th>Patient</th>\n",
       "      <th>Sex</th>\n",
       "      <th>Age</th>\n",
       "      <th>Lipodystrophy</th>\n",
       "      <th>Alopecia</th>\n",
       "      <th>FingertipTufting</th>\n",
       "      <th>AlteredSkinPigment</th>\n",
       "      <th>Circumoral cyanosis</th>\n",
       "      <th>ScleroticSkin</th>\n",
       "      <th>Hypodontia</th>\n",
       "      <th>...</th>\n",
       "      <th>systolic</th>\n",
       "      <th>diastolic</th>\n",
       "      <th>pulse</th>\n",
       "      <th>ECG</th>\n",
       "      <th>resting echo</th>\n",
       "      <th>intima right</th>\n",
       "      <th>intima left</th>\n",
       "      <th>ABI left</th>\n",
       "      <th>ABI right</th>\n",
       "      <th>neurological</th>\n",
       "    </tr>\n",
       "  </thead>\n",
       "  <tbody>\n",
       "    <tr>\n",
       "      <th>0</th>\n",
       "      <td>1</td>\n",
       "      <td>F</td>\n",
       "      <td>1,6</td>\n",
       "      <td>Yes</td>\n",
       "      <td>Yes</td>\n",
       "      <td>Yes</td>\n",
       "      <td>Yes</td>\n",
       "      <td>Yes</td>\n",
       "      <td>Yes</td>\n",
       "      <td>ND</td>\n",
       "      <td>...</td>\n",
       "      <td>108</td>\n",
       "      <td>76</td>\n",
       "      <td>103-150</td>\n",
       "      <td>Normal</td>\n",
       "      <td>Normal</td>\n",
       "      <td>0.29</td>\n",
       "      <td>0.28</td>\n",
       "      <td>ND</td>\n",
       "      <td>ND</td>\n",
       "      <td>NaN</td>\n",
       "    </tr>\n",
       "    <tr>\n",
       "      <th>1</th>\n",
       "      <td>2</td>\n",
       "      <td>M</td>\n",
       "      <td>1,9</td>\n",
       "      <td>Yes</td>\n",
       "      <td>Yes</td>\n",
       "      <td>Yes</td>\n",
       "      <td>Yes</td>\n",
       "      <td>Yes</td>\n",
       "      <td>Yes</td>\n",
       "      <td>ND</td>\n",
       "      <td>...</td>\n",
       "      <td>123</td>\n",
       "      <td>78</td>\n",
       "      <td>115-143</td>\n",
       "      <td>Normal</td>\n",
       "      <td>Normal</td>\n",
       "      <td>ND</td>\n",
       "      <td>0.36</td>\n",
       "      <td>ND</td>\n",
       "      <td>ND</td>\n",
       "      <td>Increased intracranial pressure</td>\n",
       "    </tr>\n",
       "    <tr>\n",
       "      <th>2</th>\n",
       "      <td>3</td>\n",
       "      <td>F</td>\n",
       "      <td>2,1</td>\n",
       "      <td>Yes</td>\n",
       "      <td>Yes</td>\n",
       "      <td>Yes</td>\n",
       "      <td>Yes</td>\n",
       "      <td>Yes</td>\n",
       "      <td>Yes</td>\n",
       "      <td>ND</td>\n",
       "      <td>...</td>\n",
       "      <td>108</td>\n",
       "      <td>60</td>\n",
       "      <td>118-129</td>\n",
       "      <td>Normal</td>\n",
       "      <td>Normal</td>\n",
       "      <td>0.39</td>\n",
       "      <td>0.47</td>\n",
       "      <td>ND</td>\n",
       "      <td>ND</td>\n",
       "      <td>NaN</td>\n",
       "    </tr>\n",
       "    <tr>\n",
       "      <th>3</th>\n",
       "      <td>4</td>\n",
       "      <td>F</td>\n",
       "      <td>2,3</td>\n",
       "      <td>Yes</td>\n",
       "      <td>Yes</td>\n",
       "      <td>Yes</td>\n",
       "      <td>No</td>\n",
       "      <td>Yes</td>\n",
       "      <td>Yes</td>\n",
       "      <td>ND</td>\n",
       "      <td>...</td>\n",
       "      <td>136*</td>\n",
       "      <td>85*</td>\n",
       "      <td>125-142</td>\n",
       "      <td>QT,463msec</td>\n",
       "      <td>Normal</td>\n",
       "      <td>0.32</td>\n",
       "      <td>0.32</td>\n",
       "      <td>1.17</td>\n",
       "      <td>1.37</td>\n",
       "      <td>NaN</td>\n",
       "    </tr>\n",
       "    <tr>\n",
       "      <th>4</th>\n",
       "      <td>5</td>\n",
       "      <td>F</td>\n",
       "      <td>4,8</td>\n",
       "      <td>Yes</td>\n",
       "      <td>Yes</td>\n",
       "      <td>Yes</td>\n",
       "      <td>Yes</td>\n",
       "      <td>Yes</td>\n",
       "      <td>No</td>\n",
       "      <td>Yes</td>\n",
       "      <td>...</td>\n",
       "      <td>107</td>\n",
       "      <td>79*</td>\n",
       "      <td>95-119</td>\n",
       "      <td>Normal</td>\n",
       "      <td>Normal</td>\n",
       "      <td>0.46</td>\n",
       "      <td>0.36</td>\n",
       "      <td>1.08</td>\n",
       "      <td>1</td>\n",
       "      <td>NaN</td>\n",
       "    </tr>\n",
       "  </tbody>\n",
       "</table>\n",
       "<p>5 rows × 28 columns</p>\n",
       "</div>"
      ],
      "text/plain": [
       "   Patient Sex  Age Lipodystrophy Alopecia FingertipTufting  \\\n",
       "0        1   F  1,6           Yes      Yes              Yes   \n",
       "1        2   M  1,9           Yes      Yes              Yes   \n",
       "2        3   F  2,1           Yes      Yes              Yes   \n",
       "3        4   F  2,3           Yes      Yes              Yes   \n",
       "4        5   F  4,8           Yes      Yes              Yes   \n",
       "\n",
       "  AlteredSkinPigment Circumoral cyanosis ScleroticSkin Hypodontia  ...  \\\n",
       "0                Yes                 Yes           Yes         ND  ...   \n",
       "1                Yes                 Yes           Yes         ND  ...   \n",
       "2                Yes                 Yes           Yes         ND  ...   \n",
       "3                 No                 Yes           Yes         ND  ...   \n",
       "4                Yes                 Yes            No        Yes  ...   \n",
       "\n",
       "  systolic diastolic    pulse         ECG resting echo intima right  \\\n",
       "0      108        76  103-150      Normal       Normal         0.29   \n",
       "1      123        78  115-143      Normal       Normal           ND   \n",
       "2      108        60  118-129      Normal       Normal         0.39   \n",
       "3     136*       85*  125-142  QT,463msec       Normal         0.32   \n",
       "4      107       79*   95-119      Normal       Normal         0.46   \n",
       "\n",
       "  intima left ABI left ABI right                     neurological  \n",
       "0        0.28       ND        ND                              NaN  \n",
       "1        0.36       ND        ND  Increased intracranial pressure  \n",
       "2        0.47       ND        ND                              NaN  \n",
       "3        0.32     1.17      1.37                              NaN  \n",
       "4        0.36     1.08         1                              NaN  \n",
       "\n",
       "[5 rows x 28 columns]"
      ]
     },
     "execution_count": 3,
     "metadata": {},
     "output_type": "execute_result"
    }
   ],
   "source": [
    "df = pd.read_csv(\"input/meridith2008.tsv\", sep='\\t')\n",
    "df.head()"
   ]
  },
  {
   "cell_type": "code",
   "execution_count": 4,
   "id": "c9e74f80-67a6-4991-9406-0a8aab680869",
   "metadata": {},
   "outputs": [
    {
     "data": {
      "text/html": [
       "<table style=\"border: 2px solid black;\">\n",
       "\n",
       "<tr>\n",
       "            <th>Result</th>\n",
       "            <th>Columns</th>\n",
       "        </tr>\n",
       "        \n",
       "<tr><td>Mapped</td><td>Lipodystrophy; Alopecia; Circumoral cyanosis; Hypodontia; Ankyloglossia; Ogival palate; Delayed tooth eruption</td></tr>\n",
       "<tr><td>Unmapped</td><td><q>Patient</q>; <q>Sex</q>; <q>Age</q>; <q>FingertipTufting</q>; <q>AlteredSkinPigment</q>; <q>ScleroticSkin</q>; <q>Double row of teeth</q>; <q>Sight</q>; <q>Glasses</q>; <q>IntraocularPressure</q>; <q>Corneal dryness</q>; <q>systolic</q>; <q>diastolic</q>; <q>pulse</q>; <q>ECG</q>; <q>resting echo</q>; <q>intima right</q>; <q>intima left</q>; <q>ABI left</q>; <q>ABI right</q>; <q>neurological</q></td></tr>\n",
       "</table>\n"
      ],
      "text/plain": [
       "<IPython.core.display.HTML object>"
      ]
     },
     "metadata": {},
     "output_type": "display_data"
    }
   ],
   "source": [
    "generator = SimpleColumnMapperGenerator(df=df, observed=\"Yes\", excluded=\"No\", hpo_cr=hpo_cr)\n",
    "column_mapper_list = generator.try_mapping_columns()\n",
    "display(HTML(generator.to_html()))"
   ]
  },
  {
   "cell_type": "code",
   "execution_count": 5,
   "id": "458adaa3-a552-4332-a8c7-77cf87ee6c92",
   "metadata": {},
   "outputs": [],
   "source": [
    "# \"FingertipTufting\" needs new HPO term"
   ]
  },
  {
   "cell_type": "code",
   "execution_count": 6,
   "id": "b70f0ee8-fef7-4618-b55f-2b80029b9814",
   "metadata": {},
   "outputs": [
    {
     "data": {
      "text/html": [
       "<div>\n",
       "<style scoped>\n",
       "    .dataframe tbody tr th:only-of-type {\n",
       "        vertical-align: middle;\n",
       "    }\n",
       "\n",
       "    .dataframe tbody tr th {\n",
       "        vertical-align: top;\n",
       "    }\n",
       "\n",
       "    .dataframe thead th {\n",
       "        text-align: right;\n",
       "    }\n",
       "</style>\n",
       "<table border=\"1\" class=\"dataframe\">\n",
       "  <thead>\n",
       "    <tr style=\"text-align: right;\">\n",
       "      <th></th>\n",
       "      <th>mapping</th>\n",
       "      <th>count</th>\n",
       "    </tr>\n",
       "  </thead>\n",
       "  <tbody>\n",
       "    <tr>\n",
       "      <th>0</th>\n",
       "      <td>original value: \"Yes\" -&gt; HP: Mottled pigmentation (HP:0001070) (observed)</td>\n",
       "      <td>14</td>\n",
       "    </tr>\n",
       "    <tr>\n",
       "      <th>1</th>\n",
       "      <td>original value: \"No\" -&gt; HP: Mottled pigmentation (HP:0001070) (excluded)</td>\n",
       "      <td>1</td>\n",
       "    </tr>\n",
       "  </tbody>\n",
       "</table>\n",
       "</div>"
      ],
      "text/plain": [
       "                                                                     mapping  \\\n",
       "0  original value: \"Yes\" -> HP: Mottled pigmentation (HP:0001070) (observed)   \n",
       "1   original value: \"No\" -> HP: Mottled pigmentation (HP:0001070) (excluded)   \n",
       "\n",
       "  count  \n",
       "0    14  \n",
       "1     1  "
      ]
     },
     "execution_count": 6,
     "metadata": {},
     "output_type": "execute_result"
    }
   ],
   "source": [
    "# Mottled pigmentation HP:0001070 (See figure 1)\n",
    "pgMapper = SimpleColumnMapper(column_name=\"AlteredSkinPigment\",\n",
    "                              hpo_id=\"HP:0001070\", hpo_label=\"Mottled pigmentation\", observed=\"Yes\", excluded=\"No\")\n",
    "column_mapper_list.append(pgMapper)\n",
    "pgMapper.preview_column(df)"
   ]
  },
  {
   "cell_type": "code",
   "execution_count": 7,
   "id": "49d49b7a-07f4-4d7d-b350-9ac0e2d8a858",
   "metadata": {},
   "outputs": [
    {
     "data": {
      "text/html": [
       "<div>\n",
       "<style scoped>\n",
       "    .dataframe tbody tr th:only-of-type {\n",
       "        vertical-align: middle;\n",
       "    }\n",
       "\n",
       "    .dataframe tbody tr th {\n",
       "        vertical-align: top;\n",
       "    }\n",
       "\n",
       "    .dataframe thead th {\n",
       "        text-align: right;\n",
       "    }\n",
       "</style>\n",
       "<table border=\"1\" class=\"dataframe\">\n",
       "  <thead>\n",
       "    <tr style=\"text-align: right;\">\n",
       "      <th></th>\n",
       "      <th>mapping</th>\n",
       "      <th>count</th>\n",
       "    </tr>\n",
       "  </thead>\n",
       "  <tbody>\n",
       "    <tr>\n",
       "      <th>0</th>\n",
       "      <td>original value: \"Yes\" -&gt; HP: Scleroderma (HP:0100324) (observed)</td>\n",
       "      <td>12</td>\n",
       "    </tr>\n",
       "    <tr>\n",
       "      <th>1</th>\n",
       "      <td>original value: \"No\" -&gt; HP: Scleroderma (HP:0100324) (excluded)</td>\n",
       "      <td>3</td>\n",
       "    </tr>\n",
       "  </tbody>\n",
       "</table>\n",
       "</div>"
      ],
      "text/plain": [
       "                                                            mapping count\n",
       "0  original value: \"Yes\" -> HP: Scleroderma (HP:0100324) (observed)    12\n",
       "1   original value: \"No\" -> HP: Scleroderma (HP:0100324) (excluded)     3"
      ]
     },
     "execution_count": 7,
     "metadata": {},
     "output_type": "execute_result"
    }
   ],
   "source": [
    "# The changes are scleroderma-like\n",
    "# Scleroderma HP:0100324\n",
    "skinMapper = SimpleColumnMapper(column_name=\"ScleroticSkin\",hpo_id=\"HP:0100324\", hpo_label=\"Scleroderma\", observed=\"Yes\", excluded=\"No\")\n",
    "column_mapper_list.append(skinMapper)\n",
    "skinMapper.preview_column(df)"
   ]
  },
  {
   "cell_type": "code",
   "execution_count": 8,
   "id": "14694a1f-66ee-4a66-b246-8d75d7c9a743",
   "metadata": {},
   "outputs": [
    {
     "data": {
      "text/html": [
       "<div>\n",
       "<style scoped>\n",
       "    .dataframe tbody tr th:only-of-type {\n",
       "        vertical-align: middle;\n",
       "    }\n",
       "\n",
       "    .dataframe tbody tr th {\n",
       "        vertical-align: top;\n",
       "    }\n",
       "\n",
       "    .dataframe thead th {\n",
       "        text-align: right;\n",
       "    }\n",
       "</style>\n",
       "<table border=\"1\" class=\"dataframe\">\n",
       "  <thead>\n",
       "    <tr style=\"text-align: right;\">\n",
       "      <th></th>\n",
       "      <th>mapping</th>\n",
       "      <th>count</th>\n",
       "    </tr>\n",
       "  </thead>\n",
       "  <tbody>\n",
       "    <tr>\n",
       "      <th>0</th>\n",
       "      <td>original value: \"No\" -&gt; HP: Shark teeth (HP:4000168) (excluded)</td>\n",
       "      <td>12</td>\n",
       "    </tr>\n",
       "    <tr>\n",
       "      <th>1</th>\n",
       "      <td>original value: \"Yes\" -&gt; HP: Shark teeth (HP:4000168) (observed)</td>\n",
       "      <td>3</td>\n",
       "    </tr>\n",
       "  </tbody>\n",
       "</table>\n",
       "</div>"
      ],
      "text/plain": [
       "                                                            mapping count\n",
       "0   original value: \"No\" -> HP: Shark teeth (HP:4000168) (excluded)    12\n",
       "1  original value: \"Yes\" -> HP: Shark teeth (HP:4000168) (observed)     3"
      ]
     },
     "execution_count": 8,
     "metadata": {},
     "output_type": "execute_result"
    }
   ],
   "source": [
    "# Shark teeth HP:4000168\n",
    "drtMapper = SimpleColumnMapper(column_name=\"Double row of teeth\",hpo_id=\"HP:4000168\", hpo_label=\"Shark teeth\", observed=\"Yes\", excluded=\"No\")\n",
    "column_mapper_list.append(drtMapper)\n",
    "drtMapper.preview_column(df)"
   ]
  },
  {
   "cell_type": "code",
   "execution_count": 9,
   "id": "6befbaa6-2ee9-49c6-9d8e-4d83b2675236",
   "metadata": {},
   "outputs": [],
   "source": [
    "# only needed for creating of templates\n",
    "#res = OptionColumnMapper.autoformat(df=df, concept_recognizer=hpo_cr)\n",
    "#print(res)"
   ]
  },
  {
   "cell_type": "code",
   "execution_count": 10,
   "id": "c12d7d6b-0aa3-471d-8b40-f75f1b459053",
   "metadata": {},
   "outputs": [
    {
     "data": {
      "text/html": [
       "<div>\n",
       "<style scoped>\n",
       "    .dataframe tbody tr th:only-of-type {\n",
       "        vertical-align: middle;\n",
       "    }\n",
       "\n",
       "    .dataframe tbody tr th {\n",
       "        vertical-align: top;\n",
       "    }\n",
       "\n",
       "    .dataframe thead th {\n",
       "        text-align: right;\n",
       "    }\n",
       "</style>\n",
       "<table border=\"1\" class=\"dataframe\">\n",
       "  <thead>\n",
       "    <tr style=\"text-align: right;\">\n",
       "      <th></th>\n",
       "      <th>mapping</th>\n",
       "      <th>count</th>\n",
       "    </tr>\n",
       "  </thead>\n",
       "  <tbody>\n",
       "    <tr>\n",
       "      <th>0</th>\n",
       "      <td>Hypermetropia (HP:0000540) (observed)</td>\n",
       "      <td>8</td>\n",
       "    </tr>\n",
       "    <tr>\n",
       "      <th>1</th>\n",
       "      <td>Abnormality of vision (HP:0000504) (excluded)</td>\n",
       "      <td>3</td>\n",
       "    </tr>\n",
       "  </tbody>\n",
       "</table>\n",
       "</div>"
      ],
      "text/plain": [
       "                                         mapping count\n",
       "0          Hypermetropia (HP:0000540) (observed)     8\n",
       "1  Abnormality of vision (HP:0000504) (excluded)     3"
      ]
     },
     "execution_count": 10,
     "metadata": {},
     "output_type": "execute_result"
    }
   ],
   "source": [
    "sight_d = {\n",
    " 'Hyperopic': 'Hypermetropia'}\n",
    "excluded = { 'Normal': 'Abnormality of vision'}\n",
    "sightMapper = OptionColumnMapper(column_name='Sight',concept_recognizer=hpo_cr, option_d=sight_d, excluded_d=excluded)\n",
    "column_mapper_list.append(sightMapper)\n",
    "sightMapper.preview_column(df)"
   ]
  },
  {
   "cell_type": "code",
   "execution_count": 11,
   "id": "9cdf05b6-33d6-4102-963b-54f05acc316a",
   "metadata": {},
   "outputs": [
    {
     "data": {
      "text/html": [
       "<div>\n",
       "<style scoped>\n",
       "    .dataframe tbody tr th:only-of-type {\n",
       "        vertical-align: middle;\n",
       "    }\n",
       "\n",
       "    .dataframe tbody tr th {\n",
       "        vertical-align: top;\n",
       "    }\n",
       "\n",
       "    .dataframe thead th {\n",
       "        text-align: right;\n",
       "    }\n",
       "</style>\n",
       "<table border=\"1\" class=\"dataframe\">\n",
       "  <thead>\n",
       "    <tr style=\"text-align: right;\">\n",
       "      <th></th>\n",
       "      <th>mapping</th>\n",
       "      <th>count</th>\n",
       "    </tr>\n",
       "  </thead>\n",
       "  <tbody>\n",
       "    <tr>\n",
       "      <th>0</th>\n",
       "      <td>Abnormal intraocular pressure (HP:0012632) (excluded)</td>\n",
       "      <td>8</td>\n",
       "    </tr>\n",
       "  </tbody>\n",
       "</table>\n",
       "</div>"
      ],
      "text/plain": [
       "                                                 mapping count\n",
       "0  Abnormal intraocular pressure (HP:0012632) (excluded)     8"
      ]
     },
     "execution_count": 11,
     "metadata": {},
     "output_type": "execute_result"
    }
   ],
   "source": [
    "iop_d = {}\n",
    "exclude = {'Normal': 'Abnormal intraocular pressure',}\n",
    "iopMapper = OptionColumnMapper(column_name='IntraocularPressure',\n",
    "                            concept_recognizer=hpo_cr, option_d=iop_d, excluded_d=exclude)\n",
    "column_mapper_list.append(iopMapper)\n",
    "iopMapper.preview_column(df)"
   ]
  },
  {
   "cell_type": "code",
   "execution_count": 12,
   "id": "abc64df7-14eb-42ca-9cca-a53301a94f81",
   "metadata": {},
   "outputs": [],
   "source": [
    "# Corneal dryness --  is this different from Keratoconjunctivitis sicca HP:0001097 - unclear from description, omit"
   ]
  },
  {
   "cell_type": "code",
   "execution_count": 13,
   "id": "8c433582-4299-4c09-ad69-d0df9a3e4af5",
   "metadata": {},
   "outputs": [
    {
     "data": {
      "text/html": [
       "<div>\n",
       "<style scoped>\n",
       "    .dataframe tbody tr th:only-of-type {\n",
       "        vertical-align: middle;\n",
       "    }\n",
       "\n",
       "    .dataframe tbody tr th {\n",
       "        vertical-align: top;\n",
       "    }\n",
       "\n",
       "    .dataframe thead th {\n",
       "        text-align: right;\n",
       "    }\n",
       "</style>\n",
       "<table border=\"1\" class=\"dataframe\">\n",
       "  <thead>\n",
       "    <tr style=\"text-align: right;\">\n",
       "      <th></th>\n",
       "      <th>mapping</th>\n",
       "      <th>count</th>\n",
       "    </tr>\n",
       "  </thead>\n",
       "  <tbody>\n",
       "    <tr>\n",
       "      <th>0</th>\n",
       "      <td>Elevated systolic blood pressure (HP:0004421) (observed)</td>\n",
       "      <td>5</td>\n",
       "    </tr>\n",
       "  </tbody>\n",
       "</table>\n",
       "</div>"
      ],
      "text/plain": [
       "                                                    mapping count\n",
       "0  Elevated systolic blood pressure (HP:0004421) (observed)     5"
      ]
     },
     "execution_count": 13,
     "metadata": {},
     "output_type": "execute_result"
    }
   ],
   "source": [
    "#  \"systolic\"; \"diastolic\";\n",
    "# Seven children (Patients 4, 5, 6, 7, 10, 12, and 14)\n",
    "# had systolic or diastolic blood pressures that were elevated \n",
    "# Elevated systolic blood pressure HP:0004421\n",
    "# Elevated diastolic blood pressure HP:0005117\n",
    "\n",
    "systolic_d = {\n",
    " '136*': 'Elevated systolic blood pressure',\n",
    " '128*': 'Elevated systolic blood pressure',\n",
    " '124*': 'Elevated systolic blood pressure',\n",
    " '169*': 'Elevated systolic blood pressure',}\n",
    "systolicMapper = OptionColumnMapper(column_name='systolic',concept_recognizer=hpo_cr, option_d=systolic_d)\n",
    "column_mapper_list.append(systolicMapper)\n",
    "systolicMapper.preview_column(df)"
   ]
  },
  {
   "cell_type": "code",
   "execution_count": 14,
   "id": "9471c568-dbc3-4c5c-a158-a741ed14eafa",
   "metadata": {},
   "outputs": [
    {
     "data": {
      "text/html": [
       "<div>\n",
       "<style scoped>\n",
       "    .dataframe tbody tr th:only-of-type {\n",
       "        vertical-align: middle;\n",
       "    }\n",
       "\n",
       "    .dataframe tbody tr th {\n",
       "        vertical-align: top;\n",
       "    }\n",
       "\n",
       "    .dataframe thead th {\n",
       "        text-align: right;\n",
       "    }\n",
       "</style>\n",
       "<table border=\"1\" class=\"dataframe\">\n",
       "  <thead>\n",
       "    <tr style=\"text-align: right;\">\n",
       "      <th></th>\n",
       "      <th>mapping</th>\n",
       "      <th>count</th>\n",
       "    </tr>\n",
       "  </thead>\n",
       "  <tbody>\n",
       "    <tr>\n",
       "      <th>0</th>\n",
       "      <td>Elevated diastolic blood pressure (HP:0005117) (observed)</td>\n",
       "      <td>4</td>\n",
       "    </tr>\n",
       "  </tbody>\n",
       "</table>\n",
       "</div>"
      ],
      "text/plain": [
       "                                                     mapping count\n",
       "0  Elevated diastolic blood pressure (HP:0005117) (observed)     4"
      ]
     },
     "execution_count": 14,
     "metadata": {},
     "output_type": "execute_result"
    }
   ],
   "source": [
    "diastolic_d = {\n",
    " '85*': 'Elevated diastolic blood pressure',\n",
    " '79*': 'Elevated diastolic blood pressure',\n",
    " '64*': 'Elevated diastolic blood pressure',\n",
    " '100*': 'Elevated diastolic blood pressure'}\n",
    "diastolicMapper = OptionColumnMapper(column_name='diastolic',concept_recognizer=hpo_cr, option_d=diastolic_d)\n",
    "column_mapper_list.append(diastolicMapper)\n",
    "diastolicMapper.preview_column(df)"
   ]
  },
  {
   "cell_type": "code",
   "execution_count": 15,
   "id": "9ccef7a8-67c1-47b8-a705-5f0ddbb02088",
   "metadata": {},
   "outputs": [
    {
     "data": {
      "text/html": [
       "<div>\n",
       "<style scoped>\n",
       "    .dataframe tbody tr th:only-of-type {\n",
       "        vertical-align: middle;\n",
       "    }\n",
       "\n",
       "    .dataframe tbody tr th {\n",
       "        vertical-align: top;\n",
       "    }\n",
       "\n",
       "    .dataframe thead th {\n",
       "        text-align: right;\n",
       "    }\n",
       "</style>\n",
       "<table border=\"1\" class=\"dataframe\">\n",
       "  <thead>\n",
       "    <tr style=\"text-align: right;\">\n",
       "      <th></th>\n",
       "      <th>mapping</th>\n",
       "      <th>count</th>\n",
       "    </tr>\n",
       "  </thead>\n",
       "  <tbody>\n",
       "    <tr>\n",
       "      <th>0</th>\n",
       "      <td>Prolonged QT interval (HP:0001657) (observed)</td>\n",
       "      <td>5</td>\n",
       "    </tr>\n",
       "  </tbody>\n",
       "</table>\n",
       "</div>"
      ],
      "text/plain": [
       "                                         mapping count\n",
       "0  Prolonged QT interval (HP:0001657) (observed)     5"
      ]
     },
     "execution_count": 15,
     "metadata": {},
     "output_type": "execute_result"
    }
   ],
   "source": [
    "# Prolonged QT interval HP:0001657\n",
    "# normal is less than 440 msec\n",
    "ecg_d = {\n",
    " '463msec': 'Prolonged QT interval',\n",
    " '458msec': 'Prolonged QT interval',\n",
    " '452msec': 'Prolonged QT interval',\n",
    " '456msec': 'Prolonged QT interval'}\n",
    "ecgMapper = OptionColumnMapper(column_name='ECG',concept_recognizer=hpo_cr, option_d=ecg_d)\n",
    "column_mapper_list.append(ecgMapper)\n",
    "ecgMapper.preview_column(df)"
   ]
  },
  {
   "cell_type": "code",
   "execution_count": 16,
   "id": "aa9a1aaa-f1ec-4cba-bb7d-81f00e00d496",
   "metadata": {},
   "outputs": [
    {
     "data": {
      "text/html": [
       "<div>\n",
       "<style scoped>\n",
       "    .dataframe tbody tr th:only-of-type {\n",
       "        vertical-align: middle;\n",
       "    }\n",
       "\n",
       "    .dataframe tbody tr th {\n",
       "        vertical-align: top;\n",
       "    }\n",
       "\n",
       "    .dataframe thead th {\n",
       "        text-align: right;\n",
       "    }\n",
       "</style>\n",
       "<table border=\"1\" class=\"dataframe\">\n",
       "  <thead>\n",
       "    <tr style=\"text-align: right;\">\n",
       "      <th></th>\n",
       "      <th>mapping</th>\n",
       "      <th>count</th>\n",
       "    </tr>\n",
       "  </thead>\n",
       "  <tbody>\n",
       "    <tr>\n",
       "      <th>0</th>\n",
       "      <td>Increased intracranial pressure (HP:0002516) (observed)</td>\n",
       "      <td>1</td>\n",
       "    </tr>\n",
       "    <tr>\n",
       "      <th>1</th>\n",
       "      <td>Carotid artery occlusion (HP:0012474) (observed)</td>\n",
       "      <td>1</td>\n",
       "    </tr>\n",
       "    <tr>\n",
       "      <th>2</th>\n",
       "      <td>Arteriosclerosis (HP:0002634) (observed)</td>\n",
       "      <td>1</td>\n",
       "    </tr>\n",
       "    <tr>\n",
       "      <th>3</th>\n",
       "      <td>Transient ischemic attack (HP:0002326) (observed)</td>\n",
       "      <td>1</td>\n",
       "    </tr>\n",
       "    <tr>\n",
       "      <th>4</th>\n",
       "      <td>Cerebral artery stenosis (HP:0012492) (observed)</td>\n",
       "      <td>1</td>\n",
       "    </tr>\n",
       "    <tr>\n",
       "      <th>5</th>\n",
       "      <td>Carotid artery stenosis (HP:0100546) (observed)</td>\n",
       "      <td>1</td>\n",
       "    </tr>\n",
       "  </tbody>\n",
       "</table>\n",
       "</div>"
      ],
      "text/plain": [
       "                                                   mapping count\n",
       "0  Increased intracranial pressure (HP:0002516) (observed)     1\n",
       "1         Carotid artery occlusion (HP:0012474) (observed)     1\n",
       "2                 Arteriosclerosis (HP:0002634) (observed)     1\n",
       "3        Transient ischemic attack (HP:0002326) (observed)     1\n",
       "4         Cerebral artery stenosis (HP:0012492) (observed)     1\n",
       "5          Carotid artery stenosis (HP:0100546) (observed)     1"
      ]
     },
     "execution_count": 16,
     "metadata": {},
     "output_type": "execute_result"
    }
   ],
   "source": [
    "neuro_d = {\n",
    " 'Increased intracranial pressure': 'Increased intracranial pressure',\n",
    " 'Carotid artery occlusion': 'Carotid artery occlusion',\n",
    " 'Arteriosclerosis': 'Arteriosclerosis',\n",
    " 'Transient ischemic attack': 'Transient ischemic attack',\n",
    " 'Cerebral artery stenosis': 'Cerebral artery stenosis',\n",
    " 'Carotid artery stenosis': 'Carotid artery stenosis'}\n",
    "neurologicalMapper = OptionColumnMapper(column_name='neurological',concept_recognizer=hpo_cr, option_d=neuro_d)\n",
    "column_mapper_list.append(neurologicalMapper)\n",
    "neurologicalMapper.preview_column(df)"
   ]
  },
  {
   "cell_type": "code",
   "execution_count": 17,
   "id": "bf7e57a8-ff84-4d7b-a576-bdcb80cc0835",
   "metadata": {},
   "outputs": [],
   "source": [
    "sexMapper = SexColumnMapper(male_symbol=\"M\", female_symbol=\"F\", column_name=\"Sex\")\n",
    "#sexMapper.preview_column(df)"
   ]
  },
  {
   "cell_type": "code",
   "execution_count": 18,
   "id": "d6eca3f0-9394-4ee0-b8cf-139312a1ab6d",
   "metadata": {},
   "outputs": [],
   "source": [
    "def to_iso(year_month):\n",
    "    fields = year_month.split(\",\")\n",
    "    if len(fields) != 2:\n",
    "        raise ValueError(f\"Malformed age {year_month}\")\n",
    "    y = fields[0]\n",
    "    m = fields[1]\n",
    "    return f\"P{y}Y{m}M\"\n",
    "df['iso_age'] = df[\"Age\"].apply(lambda x: to_iso(x))\n",
    "ageMapper = AgeColumnMapper.iso8601(column_name='iso_age')\n",
    "#ageMapper.preview_column(df)"
   ]
  },
  {
   "cell_type": "code",
   "execution_count": 19,
   "id": "260682e6-169f-4d1d-8188-810b7edce4cd",
   "metadata": {},
   "outputs": [
    {
     "name": "stdout",
     "output_type": "stream",
     "text": [
      "https://rest.variantvalidator.org/VariantValidator/variantvalidator/hg38/NM_170707.4%3Ac.1824C>T/NM_170707.4?content-type=application%2Fjson\n"
     ]
    }
   ],
   "source": [
    "LMNA_transcript = \"NM_170707.4\"\n",
    "vvalidator = VariantValidator(genome_build=\"hg38\", transcript=LMNA_transcript)\n",
    "# heterozygosity in affected members for a 1-bp deletion (del959T) deletion in exon 6 of the LMNA gene\n",
    "# NM_170707.4(LMNA):c.960del (p.Arg321fs) \n",
    "var = vvalidator.encode_hgvs(\"c.1824C>T\")\n",
    "var.set_heterozygous()"
   ]
  },
  {
   "cell_type": "code",
   "execution_count": 20,
   "id": "975ee49c-1e33-4ac7-be5a-03a1433d823c",
   "metadata": {},
   "outputs": [],
   "source": [
    "encoder = CohortEncoder(df=df, \n",
    "                        hpo_cr=hpo_cr, \n",
    "                        column_mapper_list=column_mapper_list, \n",
    "                        individual_column_name=\"Patient\", \n",
    "                        age_at_last_encounter_mapper=ageMapper, \n",
    "                        sexmapper=sexMapper,\n",
    "                        metadata=metadata)\n",
    "omim_id = \"OMIM:176670\"\n",
    "omim_label = \"Hutchinson-Gilford progeria\"\n",
    " \t \n",
    "cmp1a = Disease(disease_id=omim_id, disease_label=omim_label)\n",
    "encoder.set_disease(disease=cmp1a)"
   ]
  },
  {
   "cell_type": "code",
   "execution_count": 21,
   "id": "5b2aa9fe-770e-4a25-a7c2-3095aaafc248",
   "metadata": {},
   "outputs": [],
   "source": [
    "individuals = encoder.get_individuals()\n",
    "for i in individuals:\n",
    "    i.add_variant(var)"
   ]
  },
  {
   "cell_type": "code",
   "execution_count": 22,
   "id": "28e2fac2-e2f4-4760-b7a6-8261aa50b8d9",
   "metadata": {},
   "outputs": [],
   "source": [
    "## All 15 children appeared aged and had \n",
    "## prominent eyes  = Proptosis HP:0000520\n",
    "## micrognathia = Micrognathia HP:0000347\n",
    "## decreased subcutaneous fat = Reduced subcutaneous adipose tissue HP:0003758\n",
    "## alopecia, = Alopecia HP:0001596\n",
    "## skin dimpling and mottling, \n",
    "## prominent cutaneous vasculature, = Prominent superficial blood vessels HP:0007394\n",
    "## fingertip tufting, and distal-joint abnormalities\n",
    "## Mean weight, which was normal at birth for all 15 children, decreased below the third percentile by 2 months of age \n",
    "## Failure to thrive HP:0001508\n",
    "## Height for children with Hutchinson–Gilford progeria syndrome decreased below the third percentile for normal height by 15 months of age \n",
    "## Short stature HP:0004322\n",
    "## Bone mineral density of the lumbar spine was decreased in all 14 children tested (assume true for all, since details not given)\n",
    "## Reduced bone mineral density HP:0004349\n",
    "for i in individuals:\n",
    "    proptosis = HpTerm(hpo_id=\"HP:0000520\", label=\"Proptosis\")\n",
    "    i.add_hpo_term(proptosis)\n",
    "    micrognathia = HpTerm(hpo_id=\"HP:0000347\", label=\"Micrognathia\")\n",
    "    i.add_hpo_term(micrognathia)\n",
    "    sqfat = HpTerm(hpo_id=\"HP:0003758\", label=\"Reduced subcutaneous adipose tissue\")\n",
    "    i.add_hpo_term(sqfat)\n",
    "    alopecia = HpTerm(hpo_id=\"HP:0001596\", label=\"Alopecia\")\n",
    "    i.add_hpo_term(alopecia)\n",
    "    vessels = HpTerm(hpo_id=\"HP:0007394\", label=\"Prominent superficial blood vessels\")\n",
    "    i.add_hpo_term(vessels)\n",
    "    ftt = HpTerm(hpo_id=\"HP:0001508\", label=\"Failure to thrive\")\n",
    "    i.add_hpo_term(ftt)\n",
    "    sst = HpTerm(hpo_id=\"HP:0004322\", label=\"Short stature\")\n",
    "    i.add_hpo_term(sst)\n",
    "    bmt = HpTerm(hpo_id=\"HP:0004349\", label=\"Reduced bone mineral density\")\n",
    "    i.add_hpo_term(bmt)"
   ]
  },
  {
   "cell_type": "code",
   "execution_count": 23,
   "id": "3d78f02a-95bb-4a36-804d-66e8d4d6ac4b",
   "metadata": {},
   "outputs": [],
   "source": [
    "## Radiologic examinations showed acro-osteolysis = Osteolytic defects of the phalanges of the hand HP:0009771\n",
    "## clavicular resorption, = Progressive clavicular acroosteolysis HP:0000905\n",
    "## and coxa valga = Coxa valga HP:0002673\n",
    "## in all 15 children\n",
    "for i in individuals:\n",
    "    acroost = HpTerm(hpo_id=\"HP:0009771\", label=\"Osteolytic defects of the phalanges of the hand\")\n",
    "    i.add_hpo_term(acroost)\n",
    "    cvalga = HpTerm(hpo_id=\"HP:0002673\", label=\"Coxa valga\")\n",
    "    i.add_hpo_term(cvalga)\n",
    "    cr = HpTerm(hpo_id=\"HP:0000905\", label=\"Progressive clavicular acroosteolysis\")\n",
    "    i.add_hpo_term(cr)"
   ]
  },
  {
   "cell_type": "code",
   "execution_count": 24,
   "id": "63f2f7db-42d8-4326-8fa6-de51412830cd",
   "metadata": {},
   "outputs": [
    {
     "data": {
      "text/html": [
       "<h2>Cohort validation</h2>\n",
       "<p>Errors found with 15 of 15 phenopackets.</p>\n",
       "<table style=\"border: 2px solid black; align: \"left\">\n",
       "<caption>Error counts</caption>\n",
       "<tr><th style=\"text-align: left;font-weight: bold;\">Level</th><th style=\"text-align: left;font-weight: bold;\">Error category</th><th style=\"text-align: left;font-weight: bold;\">Count</th></tr>\n",
       "<tr><td style=\"text-align: left;\">INFORMATION</td><td style=\"text-align: left;\">NOT_MEASURED</td><td style=\"text-align: left;\">5</td></tr>\n",
       "</table>\n",
       "<p>A total of 20 issues were fixed and no individual was removed from the cohort.</p>"
      ],
      "text/plain": [
       "<IPython.core.display.HTML object>"
      ]
     },
     "metadata": {},
     "output_type": "display_data"
    }
   ],
   "source": [
    "cvalidator = CohortValidator(cohort=individuals, ontology=hpo_ontology, min_hpo=1, allelic_requirement=AllelicRequirement.MONO_ALLELIC)\n",
    "qc = QcVisualizer(cohort_validator=cvalidator)\n",
    "display(HTML(qc.to_summary_html()))"
   ]
  },
  {
   "cell_type": "code",
   "execution_count": 25,
   "id": "1065ca92-5f63-4a24-b90b-d23b091a0c09",
   "metadata": {},
   "outputs": [
    {
     "data": {
      "text/html": [
       "<table style=\"border: 2px solid black; align: \"left\">\n",
       "<caption>15 phenopackets - PMID:18256394 (n=15)</caption>\n",
       "<tr><th style=\"text-align: left;font-weight: bold;\">Individual</th><th style=\"text-align: left;font-weight: bold;\">Disease</th><th style=\"text-align: left;font-weight: bold;\">Genotype</th><th style=\"text-align: left;font-weight: bold;\">Phenotypic features</th></tr>\n",
       "<tr><td style=\"text-align: left;\">1 (FEMALE; P1Y6M)</td><td style=\"text-align: left;\">Hutchinson-Gilford progeria (OMIM:176670)</td><td style=\"text-align: left;\">NM_170707.4:c.1824C>T (heterozygous)</td><td style=\"text-align: left;\">Short stature (HP:0004322); Delayed eruption of teeth (HP:0000684); Reduced bone mineral density (HP:0004349); Lipodystrophy (HP:0009125); Alopecia (HP:0001596); Reduced subcutaneous adipose tissue (HP:0003758); Scleroderma (HP:0100324); Proptosis (HP:0000520); Progressive clavicular acroosteolysis (HP:0000905); Osteolytic defects of the phalanges of the hand (HP:0009771); Prominent superficial blood vessels (HP:0007394); Circumoral cyanosis (HP:0032556); Failure to thrive (HP:0001508); Micrognathia (HP:0000347); Mottled pigmentation (HP:0001070); Coxa valga (HP:0002673); excluded: Ankyloglossia (HP:0010296); excluded: High palate (HP:0000218); excluded: Shark teeth (HP:4000168); excluded: Abnormal intraocular pressure (HP:0012632)</td></tr>\n",
       "<tr><td style=\"text-align: left;\">2 (MALE; P1Y9M)</td><td style=\"text-align: left;\">Hutchinson-Gilford progeria (OMIM:176670)</td><td style=\"text-align: left;\">NM_170707.4:c.1824C>T (heterozygous)</td><td style=\"text-align: left;\">Increased intracranial pressure (HP:0002516); Hypermetropia (HP:0000540); Ankyloglossia (HP:0010296); Prominent superficial blood vessels (HP:0007394); Progressive clavicular acroosteolysis (HP:0000905); Alopecia (HP:0001596); Circumoral cyanosis (HP:0032556); Failure to thrive (HP:0001508); Coxa valga (HP:0002673); Delayed eruption of teeth (HP:0000684); Reduced bone mineral density (HP:0004349); Reduced subcutaneous adipose tissue (HP:0003758); Scleroderma (HP:0100324); Micrognathia (HP:0000347); Short stature (HP:0004322); Lipodystrophy (HP:0009125); Proptosis (HP:0000520); Osteolytic defects of the phalanges of the hand (HP:0009771); Mottled pigmentation (HP:0001070); excluded: High palate (HP:0000218); excluded: Shark teeth (HP:4000168)</td></tr>\n",
       "<tr><td style=\"text-align: left;\">3 (FEMALE; P2Y1M)</td><td style=\"text-align: left;\">Hutchinson-Gilford progeria (OMIM:176670)</td><td style=\"text-align: left;\">NM_170707.4:c.1824C>T (heterozygous)</td><td style=\"text-align: left;\">Short stature (HP:0004322); Delayed eruption of teeth (HP:0000684); Reduced bone mineral density (HP:0004349); Lipodystrophy (HP:0009125); Alopecia (HP:0001596); Reduced subcutaneous adipose tissue (HP:0003758); Scleroderma (HP:0100324); Proptosis (HP:0000520); Progressive clavicular acroosteolysis (HP:0000905); Osteolytic defects of the phalanges of the hand (HP:0009771); Prominent superficial blood vessels (HP:0007394); Circumoral cyanosis (HP:0032556); Failure to thrive (HP:0001508); Micrognathia (HP:0000347); Mottled pigmentation (HP:0001070); Coxa valga (HP:0002673); excluded: Ankyloglossia (HP:0010296); excluded: High palate (HP:0000218); excluded: Shark teeth (HP:4000168); excluded: Abnormality of vision (HP:0000504); excluded: Abnormal intraocular pressure (HP:0012632)</td></tr>\n",
       "<tr><td style=\"text-align: left;\">4 (FEMALE; P2Y3M)</td><td style=\"text-align: left;\">Hutchinson-Gilford progeria (OMIM:176670)</td><td style=\"text-align: left;\">NM_170707.4:c.1824C>T (heterozygous)</td><td style=\"text-align: left;\">Elevated diastolic blood pressure (HP:0005117); Elevated systolic blood pressure (HP:0004421); Ankyloglossia (HP:0010296); Prominent superficial blood vessels (HP:0007394); Progressive clavicular acroosteolysis (HP:0000905); Alopecia (HP:0001596); High palate (HP:0000218); Circumoral cyanosis (HP:0032556); Failure to thrive (HP:0001508); Coxa valga (HP:0002673); Delayed eruption of teeth (HP:0000684); Reduced bone mineral density (HP:0004349); Reduced subcutaneous adipose tissue (HP:0003758); Scleroderma (HP:0100324); Micrognathia (HP:0000347); Short stature (HP:0004322); Lipodystrophy (HP:0009125); Prolonged QT interval (HP:0001657); Proptosis (HP:0000520); Osteolytic defects of the phalanges of the hand (HP:0009771); excluded: Mottled pigmentation (HP:0001070); excluded: Shark teeth (HP:4000168); excluded: Abnormality of vision (HP:0000504)</td></tr>\n",
       "<tr><td style=\"text-align: left;\">5 (FEMALE; P4Y8M)</td><td style=\"text-align: left;\">Hutchinson-Gilford progeria (OMIM:176670)</td><td style=\"text-align: left;\">NM_170707.4:c.1824C>T (heterozygous)</td><td style=\"text-align: left;\">Short stature (HP:0004322); Elevated diastolic blood pressure (HP:0005117); Reduced bone mineral density (HP:0004349); Lipodystrophy (HP:0009125); Alopecia (HP:0001596); Reduced subcutaneous adipose tissue (HP:0003758); Hypodontia (HP:0000668); Hypermetropia (HP:0000540); Proptosis (HP:0000520); Progressive clavicular acroosteolysis (HP:0000905); Osteolytic defects of the phalanges of the hand (HP:0009771); Prominent superficial blood vessels (HP:0007394); Circumoral cyanosis (HP:0032556); Failure to thrive (HP:0001508); Micrognathia (HP:0000347); Mottled pigmentation (HP:0001070); Coxa valga (HP:0002673); excluded: Ankyloglossia (HP:0010296); excluded: High palate (HP:0000218); excluded: Delayed eruption of teeth (HP:0000684); excluded: Scleroderma (HP:0100324); excluded: Shark teeth (HP:4000168)</td></tr>\n",
       "<tr><td style=\"text-align: left;\">6 (FEMALE; P5Y)</td><td style=\"text-align: left;\">Hutchinson-Gilford progeria (OMIM:176670)</td><td style=\"text-align: left;\">NM_170707.4:c.1824C>T (heterozygous)</td><td style=\"text-align: left;\">Short stature (HP:0004322); Elevated diastolic blood pressure (HP:0005117); Reduced bone mineral density (HP:0004349); Lipodystrophy (HP:0009125); Alopecia (HP:0001596); Reduced subcutaneous adipose tissue (HP:0003758); Hypodontia (HP:0000668); Scleroderma (HP:0100324); Proptosis (HP:0000520); Progressive clavicular acroosteolysis (HP:0000905); Osteolytic defects of the phalanges of the hand (HP:0009771); Prominent superficial blood vessels (HP:0007394); Circumoral cyanosis (HP:0032556); Failure to thrive (HP:0001508); Micrognathia (HP:0000347); Mottled pigmentation (HP:0001070); Coxa valga (HP:0002673); excluded: Ankyloglossia (HP:0010296); excluded: High palate (HP:0000218); excluded: Delayed eruption of teeth (HP:0000684); excluded: Shark teeth (HP:4000168); excluded: Abnormality of vision (HP:0000504)</td></tr>\n",
       "<tr><td style=\"text-align: left;\">7 (MALE; P6Y10M)</td><td style=\"text-align: left;\">Hutchinson-Gilford progeria (OMIM:176670)</td><td style=\"text-align: left;\">NM_170707.4:c.1824C>T (heterozygous)</td><td style=\"text-align: left;\">Elevated systolic blood pressure (HP:0004421); Ankyloglossia (HP:0010296); Prominent superficial blood vessels (HP:0007394); Progressive clavicular acroosteolysis (HP:0000905); Alopecia (HP:0001596); High palate (HP:0000218); Circumoral cyanosis (HP:0032556); Failure to thrive (HP:0001508); Coxa valga (HP:0002673); Delayed eruption of teeth (HP:0000684); Reduced bone mineral density (HP:0004349); Reduced subcutaneous adipose tissue (HP:0003758); Scleroderma (HP:0100324); Micrognathia (HP:0000347); Short stature (HP:0004322); Lipodystrophy (HP:0009125); Prolonged QT interval (HP:0001657); Proptosis (HP:0000520); Osteolytic defects of the phalanges of the hand (HP:0009771); Mottled pigmentation (HP:0001070); excluded: Hypodontia (HP:0000668); excluded: Shark teeth (HP:4000168)</td></tr>\n",
       "<tr><td style=\"text-align: left;\">8 (FEMALE; P6Y11M)</td><td style=\"text-align: left;\">Hutchinson-Gilford progeria (OMIM:176670)</td><td style=\"text-align: left;\">NM_170707.4:c.1824C>T (heterozygous)</td><td style=\"text-align: left;\">Mottled pigmentation (HP:0001070); Short stature (HP:0004322); Reduced bone mineral density (HP:0004349); Lipodystrophy (HP:0009125); High palate (HP:0000218); Reduced subcutaneous adipose tissue (HP:0003758); Hypodontia (HP:0000668); Scleroderma (HP:0100324); Hypermetropia (HP:0000540); Proptosis (HP:0000520); Progressive clavicular acroosteolysis (HP:0000905); Osteolytic defects of the phalanges of the hand (HP:0009771); Prominent superficial blood vessels (HP:0007394); Circumoral cyanosis (HP:0032556); Failure to thrive (HP:0001508); Micrognathia (HP:0000347); Alopecia (HP:0001596); Coxa valga (HP:0002673); excluded: Ankyloglossia (HP:0010296); excluded: Delayed eruption of teeth (HP:0000684); excluded: Shark teeth (HP:4000168)</td></tr>\n",
       "<tr><td style=\"text-align: left;\">9 (FEMALE; P7Y3M)</td><td style=\"text-align: left;\">Hutchinson-Gilford progeria (OMIM:176670)</td><td style=\"text-align: left;\">NM_170707.4:c.1824C>T (heterozygous)</td><td style=\"text-align: left;\">Hypermetropia (HP:0000540); Prominent superficial blood vessels (HP:0007394); Progressive clavicular acroosteolysis (HP:0000905); Alopecia (HP:0001596); High palate (HP:0000218); Circumoral cyanosis (HP:0032556); Failure to thrive (HP:0001508); Coxa valga (HP:0002673); Delayed eruption of teeth (HP:0000684); Reduced bone mineral density (HP:0004349); Reduced subcutaneous adipose tissue (HP:0003758); Carotid artery occlusion (HP:0012474); Micrognathia (HP:0000347); Short stature (HP:0004322); Lipodystrophy (HP:0009125); Hypodontia (HP:0000668); Proptosis (HP:0000520); Osteolytic defects of the phalanges of the hand (HP:0009771); Mottled pigmentation (HP:0001070); excluded: Ankyloglossia (HP:0010296); excluded: Scleroderma (HP:0100324); excluded: Shark teeth (HP:4000168); excluded: Abnormal intraocular pressure (HP:0012632)</td></tr>\n",
       "<tr><td style=\"text-align: left;\">10 (MALE; P8Y5M)</td><td style=\"text-align: left;\">Hutchinson-Gilford progeria (OMIM:176670)</td><td style=\"text-align: left;\">NM_170707.4:c.1824C>T (heterozygous)</td><td style=\"text-align: left;\">Elevated systolic blood pressure (HP:0004421); Hypermetropia (HP:0000540); Ankyloglossia (HP:0010296); Prominent superficial blood vessels (HP:0007394); Progressive clavicular acroosteolysis (HP:0000905); Alopecia (HP:0001596); High palate (HP:0000218); Arteriosclerosis (HP:0002634); Circumoral cyanosis (HP:0032556); Failure to thrive (HP:0001508); Coxa valga (HP:0002673); Delayed eruption of teeth (HP:0000684); Reduced bone mineral density (HP:0004349); Reduced subcutaneous adipose tissue (HP:0003758); Scleroderma (HP:0100324); Micrognathia (HP:0000347); Short stature (HP:0004322); Lipodystrophy (HP:0009125); Hypodontia (HP:0000668); Proptosis (HP:0000520); Osteolytic defects of the phalanges of the hand (HP:0009771); Mottled pigmentation (HP:0001070); excluded: Shark teeth (HP:4000168); excluded: Abnormal intraocular pressure (HP:0012632)</td></tr>\n",
       "<tr><td style=\"text-align: left;\">11 (MALE; P8Y5M)</td><td style=\"text-align: left;\">Hutchinson-Gilford progeria (OMIM:176670)</td><td style=\"text-align: left;\">NM_170707.4:c.1824C>T (heterozygous)</td><td style=\"text-align: left;\">Hypermetropia (HP:0000540); Ankyloglossia (HP:0010296); Prominent superficial blood vessels (HP:0007394); Progressive clavicular acroosteolysis (HP:0000905); Alopecia (HP:0001596); Circumoral cyanosis (HP:0032556); Failure to thrive (HP:0001508); Coxa valga (HP:0002673); Shark teeth (HP:4000168); Delayed eruption of teeth (HP:0000684); Reduced bone mineral density (HP:0004349); Reduced subcutaneous adipose tissue (HP:0003758); Scleroderma (HP:0100324); Micrognathia (HP:0000347); Short stature (HP:0004322); Lipodystrophy (HP:0009125); Hypodontia (HP:0000668); Proptosis (HP:0000520); Osteolytic defects of the phalanges of the hand (HP:0009771); Mottled pigmentation (HP:0001070); excluded: High palate (HP:0000218); excluded: Abnormal intraocular pressure (HP:0012632)</td></tr>\n",
       "<tr><td style=\"text-align: left;\">12 (MALE; P8Y7M)</td><td style=\"text-align: left;\">Hutchinson-Gilford progeria (OMIM:176670)</td><td style=\"text-align: left;\">NM_170707.4:c.1824C>T (heterozygous)</td><td style=\"text-align: left;\">Elevated systolic blood pressure (HP:0004421); Hypermetropia (HP:0000540); Cerebral artery stenosis (HP:0012492); Ankyloglossia (HP:0010296); Prominent superficial blood vessels (HP:0007394); Progressive clavicular acroosteolysis (HP:0000905); Alopecia (HP:0001596); High palate (HP:0000218); Circumoral cyanosis (HP:0032556); Failure to thrive (HP:0001508); Coxa valga (HP:0002673); Transient ischemic attack (HP:0002326); Shark teeth (HP:4000168); Delayed eruption of teeth (HP:0000684); Reduced bone mineral density (HP:0004349); Reduced subcutaneous adipose tissue (HP:0003758); Scleroderma (HP:0100324); Micrognathia (HP:0000347); Short stature (HP:0004322); Lipodystrophy (HP:0009125); Hypodontia (HP:0000668); Proptosis (HP:0000520); Osteolytic defects of the phalanges of the hand (HP:0009771); Mottled pigmentation (HP:0001070); excluded: Abnormal intraocular pressure (HP:0012632)</td></tr>\n",
       "<tr><td style=\"text-align: left;\">13 (MALE; P10Y2M)</td><td style=\"text-align: left;\">Hutchinson-Gilford progeria (OMIM:176670)</td><td style=\"text-align: left;\">NM_170707.4:c.1824C>T (heterozygous)</td><td style=\"text-align: left;\">Hypermetropia (HP:0000540); Ankyloglossia (HP:0010296); Prominent superficial blood vessels (HP:0007394); Progressive clavicular acroosteolysis (HP:0000905); Alopecia (HP:0001596); High palate (HP:0000218); Circumoral cyanosis (HP:0032556); Failure to thrive (HP:0001508); Coxa valga (HP:0002673); Shark teeth (HP:4000168); Delayed eruption of teeth (HP:0000684); Reduced bone mineral density (HP:0004349); Reduced subcutaneous adipose tissue (HP:0003758); Scleroderma (HP:0100324); Micrognathia (HP:0000347); Short stature (HP:0004322); Lipodystrophy (HP:0009125); Prolonged QT interval (HP:0001657); Proptosis (HP:0000520); Osteolytic defects of the phalanges of the hand (HP:0009771); Mottled pigmentation (HP:0001070); excluded: Hypodontia (HP:0000668); excluded: Abnormal intraocular pressure (HP:0012632)</td></tr>\n",
       "<tr><td style=\"text-align: left;\">14 (FEMALE; P12Y1M)</td><td style=\"text-align: left;\">Hutchinson-Gilford progeria (OMIM:176670)</td><td style=\"text-align: left;\">NM_170707.4:c.1824C>T (heterozygous)</td><td style=\"text-align: left;\">Elevated diastolic blood pressure (HP:0005117); Elevated systolic blood pressure (HP:0004421); Prominent superficial blood vessels (HP:0007394); Progressive clavicular acroosteolysis (HP:0000905); Alopecia (HP:0001596); High palate (HP:0000218); Failure to thrive (HP:0001508); Coxa valga (HP:0002673); Delayed eruption of teeth (HP:0000684); Reduced bone mineral density (HP:0004349); Reduced subcutaneous adipose tissue (HP:0003758); Micrognathia (HP:0000347); Short stature (HP:0004322); Lipodystrophy (HP:0009125); Prolonged QT interval (HP:0001657); Proptosis (HP:0000520); Osteolytic defects of the phalanges of the hand (HP:0009771); Carotid artery stenosis (HP:0100546); Mottled pigmentation (HP:0001070); excluded: Circumoral cyanosis (HP:0032556); excluded: Hypodontia (HP:0000668); excluded: Ankyloglossia (HP:0010296); excluded: Scleroderma (HP:0100324); excluded: Shark teeth (HP:4000168)</td></tr>\n",
       "<tr><td style=\"text-align: left;\">15 (MALE; P17Y8M)</td><td style=\"text-align: left;\">Hutchinson-Gilford progeria (OMIM:176670)</td><td style=\"text-align: left;\">NM_170707.4:c.1824C>T (heterozygous)</td><td style=\"text-align: left;\">Short stature (HP:0004322); Delayed eruption of teeth (HP:0000684); Reduced bone mineral density (HP:0004349); Lipodystrophy (HP:0009125); Alopecia (HP:0001596); Prolonged QT interval (HP:0001657); Reduced subcutaneous adipose tissue (HP:0003758); Scleroderma (HP:0100324); Proptosis (HP:0000520); Progressive clavicular acroosteolysis (HP:0000905); Osteolytic defects of the phalanges of the hand (HP:0009771); Prominent superficial blood vessels (HP:0007394); Failure to thrive (HP:0001508); Micrognathia (HP:0000347); Mottled pigmentation (HP:0001070); Coxa valga (HP:0002673); excluded: Circumoral cyanosis (HP:0032556); excluded: Hypodontia (HP:0000668); excluded: High palate (HP:0000218); excluded: Shark teeth (HP:4000168); excluded: Abnormal intraocular pressure (HP:0012632)</td></tr>\n",
       "</table>"
      ],
      "text/plain": [
       "<IPython.core.display.HTML object>"
      ]
     },
     "metadata": {},
     "output_type": "display_data"
    }
   ],
   "source": [
    "individuals = cvalidator.get_error_free_individual_list()\n",
    "table = PhenopacketTable(individual_list=individuals, metadata=metadata)\n",
    "display(HTML(table.to_html()))"
   ]
  },
  {
   "cell_type": "code",
   "execution_count": 26,
   "id": "33617274-3808-48f1-b70c-fdbbf812ebe9",
   "metadata": {},
   "outputs": [
    {
     "name": "stdout",
     "output_type": "stream",
     "text": [
      "We output 15 GA4GH phenopackets to the directory phenopackets\n"
     ]
    }
   ],
   "source": [
    "Individual.output_individuals_as_phenopackets(individual_list=individuals, metadata=metadata)"
   ]
  },
  {
   "cell_type": "code",
   "execution_count": null,
   "id": "b141802b-96e1-4e0b-8659-5775a698d7f7",
   "metadata": {},
   "outputs": [],
   "source": []
  }
 ],
 "metadata": {
  "kernelspec": {
   "display_name": "ps24venv",
   "language": "python",
   "name": "ps24venv"
  },
  "language_info": {
   "codemirror_mode": {
    "name": "ipython",
    "version": 3
   },
   "file_extension": ".py",
   "mimetype": "text/x-python",
   "name": "python",
   "nbconvert_exporter": "python",
   "pygments_lexer": "ipython3",
   "version": "3.8.10"
  }
 },
 "nbformat": 4,
 "nbformat_minor": 5
}
