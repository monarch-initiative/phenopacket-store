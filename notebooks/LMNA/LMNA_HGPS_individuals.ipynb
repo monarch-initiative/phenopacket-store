{
 "cells": [
  {
   "cell_type": "markdown",
   "metadata": {},
   "source": [
    "# LMNA\n",
    "[Hutchinson-Gilford progeria syndrome (HGPS)](https://omim.org/entry/176670) are caused by de novo heterozygous mutation in the lamin A gene (LMNA).\n",
    "\n",
    "The data in this workbook were derived from Table 1 of [Merideth MA, et al (2008) Phenotype and course of Hutchinson-Gilford progeria syndrome. N Engl J Med. 358(6):592-604. PMID:18256394](https://pubmed.ncbi.nlm.nih.gov/18256394/).\n",
    "\n",
    "The authors state: Every patient was heterozygous for the G608G mutation in LMNA\n",
    "We mapped this to NM_170707.4(LMNA):c.1824C>T (p.Gly608=), see ClinVar VCV000014500.25"
   ]
  },
  {
   "cell_type": "code",
   "execution_count": 1,
   "metadata": {},
   "outputs": [
    {
     "name": "stdout",
     "output_type": "stream",
     "text": [
      "Using pyphetools version 0.9.113\n"
     ]
    }
   ],
   "source": [
    "from pyphetools.creation import TemplateImporter, Moi\n",
    "from pyphetools.visualization import IndividualTable, QcVisualizer\n",
    "from IPython.display import display, HTML\n",
    "import pyphetools\n",
    "print(f\"Using pyphetools version {pyphetools.__version__}\")"
   ]
  },
  {
   "cell_type": "code",
   "execution_count": 2,
   "metadata": {},
   "outputs": [
    {
     "name": "stdout",
     "output_type": "stream",
     "text": [
      "HPO version 2024-08-13\n",
      "Created encoders for 79 fields\n",
      "Importing OMIM:176670, Hutchinson-Gilford progeria, HGNC:6636, LMNA,  NM_170707.4\n",
      "We output 15 GA4GH phenopackets to the directory phenopackets\n"
     ]
    }
   ],
   "source": [
    "template = \"input/LMNA_HGPS_individuals.xlsx\"\n",
    "created_by = \"0000-0002-0736-9199\"\n",
    "timporter = TemplateImporter(template=template, created_by=created_by)\n",
    "individual_list, cvalidator = timporter.import_phenopackets_from_template()"
   ]
  },
  {
   "cell_type": "code",
   "execution_count": 3,
   "metadata": {},
   "outputs": [
    {
     "data": {
      "text/html": [
       "<h2>Cohort validation</h2>\n",
       "<p>No errors found for the cohort with 15 individuals</p>"
      ],
      "text/plain": [
       "<IPython.core.display.HTML object>"
      ]
     },
     "metadata": {},
     "output_type": "display_data"
    }
   ],
   "source": [
    "qc = QcVisualizer(cohort_validator=cvalidator)\n",
    "display(HTML(qc.to_summary_html()))"
   ]
  },
  {
   "cell_type": "code",
   "execution_count": 4,
   "metadata": {},
   "outputs": [
    {
     "data": {
      "text/html": [
       "<table style=\"border: 2px solid black; align: \"left\">\n",
       "<caption>15 phenopackets - PMID:18256394 (n=15)</caption>\n",
       "<tr><th style=\"text-align: left;font-weight: bold;\">Individual</th><th style=\"text-align: left;font-weight: bold;\">Disease</th><th style=\"text-align: left;font-weight: bold;\">Genotype</th><th style=\"text-align: left;font-weight: bold;\">Phenotypic features</th></tr>\n",
       "<tr><td style=\"text-align: left;\">Patient 1 (FEMALE; P1Y6M)</td><td style=\"text-align: left;\">Hutchinson-Gilford progeria (OMIM:176670)</td><td style=\"text-align: left;\">NM_170707.4:c.1824C>T (heterozygous)</td><td style=\"text-align: left;\">Proptosis (HP:0000520): onset ; Failure to thrive (HP:0001508): onset ; Lipodystrophy (HP:0009125): onset ; Short stature (HP:0004322): onset ; Delayed eruption of teeth (HP:0000684): onset ; Circumoral cyanosis (HP:0032556): onset ; Micrognathia (HP:0000347): onset ; Alopecia (HP:0001596): onset ; Mottled pigmentation (HP:0001070): onset ; Reduced subcutaneous adipose tissue (HP:0003758): onset ; Prominent superficial blood vessels (HP:0007394): onset ; Reduced bone mineral density (HP:0004349): onset ; excluded: Elevated diastolic blood pressure (HP:0005117): onset ; excluded: Abnormal intraocular pressure (HP:0012632): onset ; excluded: High palate (HP:0000218): onset ; excluded: Elevated systolic blood pressure (HP:0004421): onset ; excluded: Myocardial infarction (HP:0001658): onset ; excluded: Prolonged QT interval (HP:0001657): onset ; excluded: Shortened PR interval (HP:0005165): onset ; excluded: Muscle weakness (HP:0001324): onset ; excluded: Transient ischemic attack (HP:0002326): onset ; excluded: Shark teeth (HP:4000168): onset ; excluded: Ankyloglossia (HP:0010296): onset ; excluded: Abnormal left ventricular ejection fraction (HP:0034314): onset ; excluded: Elevated hemoglobin A1c (HP:0040217): onset ; excluded: Abnormal circulating C-reactive protein concentration (HP:0032436): onset ; excluded: Elevated circulating aspartate aminotransferase concentration (HP:0031956): onset ; excluded: Abnormal circulating creatine kinase concentration (HP:0040081): onset </td></tr>\n",
       "<tr><td style=\"text-align: left;\">Patient 2 (MALE; P1Y9M)</td><td style=\"text-align: left;\">Hutchinson-Gilford progeria (OMIM:176670)</td><td style=\"text-align: left;\">NM_170707.4:c.1824C>T (heterozygous)</td><td style=\"text-align: left;\">Proptosis (HP:0000520): onset ; Hypermetropia (HP:0000540): onset ; Failure to thrive (HP:0001508): onset ; Lipodystrophy (HP:0009125): onset ; Short stature (HP:0004322): onset ; Delayed eruption of teeth (HP:0000684): onset ; Circumoral cyanosis (HP:0032556): onset ; Micrognathia (HP:0000347): onset ; Alopecia (HP:0001596): onset ; Mottled pigmentation (HP:0001070): onset ; Reduced subcutaneous adipose tissue (HP:0003758): onset ; Prominent superficial blood vessels (HP:0007394): onset ; Reduced bone mineral density (HP:0004349): onset ; Ankyloglossia (HP:0010296): onset ; excluded: Elevated diastolic blood pressure (HP:0005117): onset ; excluded: High palate (HP:0000218): onset ; excluded: Elevated systolic blood pressure (HP:0004421): onset ; excluded: Myocardial infarction (HP:0001658): onset ; excluded: Prolonged QT interval (HP:0001657): onset ; excluded: Shortened PR interval (HP:0005165): onset ; excluded: Muscle weakness (HP:0001324): onset ; excluded: Transient ischemic attack (HP:0002326): onset ; excluded: Shark teeth (HP:4000168): onset ; excluded: Abnormal left ventricular ejection fraction (HP:0034314): onset ; excluded: Elevated hemoglobin A1c (HP:0040217): onset ; excluded: Abnormal circulating C-reactive protein concentration (HP:0032436): onset ; excluded: Elevated circulating aspartate aminotransferase concentration (HP:0031956): onset ; excluded: Abnormal circulating creatine kinase concentration (HP:0040081): onset </td></tr>\n",
       "<tr><td style=\"text-align: left;\">Patient 3 (FEMALE; P2Y1M)</td><td style=\"text-align: left;\">Hutchinson-Gilford progeria (OMIM:176670)</td><td style=\"text-align: left;\">NM_170707.4:c.1824C>T (heterozygous)</td><td style=\"text-align: left;\">Proptosis (HP:0000520): onset ; Failure to thrive (HP:0001508): onset ; Lipodystrophy (HP:0009125): onset ; Short stature (HP:0004322): onset ; Delayed eruption of teeth (HP:0000684): onset ; Circumoral cyanosis (HP:0032556): onset ; Micrognathia (HP:0000347): onset ; Alopecia (HP:0001596): onset ; Mottled pigmentation (HP:0001070): onset ; Reduced subcutaneous adipose tissue (HP:0003758): onset ; Prominent superficial blood vessels (HP:0007394): onset ; Reduced bone mineral density (HP:0004349): onset ; excluded: Elevated diastolic blood pressure (HP:0005117): onset ; excluded: Hypermetropia (HP:0000540): onset ; excluded: Abnormal intraocular pressure (HP:0012632): onset ; excluded: High palate (HP:0000218): onset ; excluded: Elevated systolic blood pressure (HP:0004421): onset ; excluded: Myocardial infarction (HP:0001658): onset ; excluded: Prolonged QT interval (HP:0001657): onset ; excluded: Shortened PR interval (HP:0005165): onset ; excluded: Muscle weakness (HP:0001324): onset ; excluded: Transient ischemic attack (HP:0002326): onset ; excluded: Shark teeth (HP:4000168): onset ; excluded: Ankyloglossia (HP:0010296): onset ; excluded: Abnormal left ventricular ejection fraction (HP:0034314): onset ; excluded: Elevated hemoglobin A1c (HP:0040217): onset ; excluded: Abnormal circulating C-reactive protein concentration (HP:0032436): onset ; excluded: Elevated circulating aspartate aminotransferase concentration (HP:0031956): onset ; excluded: Abnormal circulating creatine kinase concentration (HP:0040081): onset </td></tr>\n",
       "<tr><td style=\"text-align: left;\">Patient 4 (FEMALE; P2Y3M)</td><td style=\"text-align: left;\">Hutchinson-Gilford progeria (OMIM:176670)</td><td style=\"text-align: left;\">NM_170707.4:c.1824C>T (heterozygous)</td><td style=\"text-align: left;\">Proptosis (HP:0000520): onset ; Elevated diastolic blood pressure (HP:0005117): onset ; High palate (HP:0000218): onset ; Failure to thrive (HP:0001508): onset ; Lipodystrophy (HP:0009125): onset ; Elevated systolic blood pressure (HP:0004421): onset ; Short stature (HP:0004322): onset ; Prolonged QT interval (HP:0001657): onset ; Delayed eruption of teeth (HP:0000684): onset ; Circumoral cyanosis (HP:0032556): onset ; Micrognathia (HP:0000347): onset ; Alopecia (HP:0001596): onset ; Mottled pigmentation (HP:0001070): onset ; Reduced subcutaneous adipose tissue (HP:0003758): onset ; Prominent superficial blood vessels (HP:0007394): onset ; Reduced bone mineral density (HP:0004349): onset ; Ankyloglossia (HP:0010296): onset ; excluded: Hypermetropia (HP:0000540): onset ; excluded: Myocardial infarction (HP:0001658): onset ; excluded: Shortened PR interval (HP:0005165): onset ; excluded: Muscle weakness (HP:0001324): onset ; excluded: Transient ischemic attack (HP:0002326): onset ; excluded: Shark teeth (HP:4000168): onset ; excluded: Abnormal left ventricular ejection fraction (HP:0034314): onset ; excluded: Elevated hemoglobin A1c (HP:0040217): onset ; excluded: Abnormal circulating C-reactive protein concentration (HP:0032436): onset ; excluded: Elevated circulating aspartate aminotransferase concentration (HP:0031956): onset ; excluded: Abnormal circulating creatine kinase concentration (HP:0040081): onset </td></tr>\n",
       "<tr><td style=\"text-align: left;\">Patient 5 (FEMALE; P4Y8M)</td><td style=\"text-align: left;\">Hutchinson-Gilford progeria (OMIM:176670)</td><td style=\"text-align: left;\">NM_170707.4:c.1824C>T (heterozygous)</td><td style=\"text-align: left;\">Proptosis (HP:0000520): onset ; Elevated diastolic blood pressure (HP:0005117): onset ; Hypermetropia (HP:0000540): onset ; Failure to thrive (HP:0001508): onset ; Lipodystrophy (HP:0009125): onset ; Hypodontia (HP:0000668): onset ; Short stature (HP:0004322): onset ; Circumoral cyanosis (HP:0032556): onset ; Micrognathia (HP:0000347): onset ; Alopecia (HP:0001596): onset ; Mottled pigmentation (HP:0001070): onset ; Reduced subcutaneous adipose tissue (HP:0003758): onset ; Prominent superficial blood vessels (HP:0007394): onset ; Reduced bone mineral density (HP:0004349): onset ; excluded: High palate (HP:0000218): onset ; excluded: Elevated systolic blood pressure (HP:0004421): onset ; excluded: Myocardial infarction (HP:0001658): onset ; excluded: Prolonged QT interval (HP:0001657): onset ; excluded: Shortened PR interval (HP:0005165): onset ; excluded: Muscle weakness (HP:0001324): onset ; excluded: Transient ischemic attack (HP:0002326): onset ; excluded: Delayed eruption of teeth (HP:0000684): onset ; excluded: Shark teeth (HP:4000168): onset ; excluded: Ankyloglossia (HP:0010296): onset ; excluded: Abnormal left ventricular ejection fraction (HP:0034314): onset ; excluded: Elevated hemoglobin A1c (HP:0040217): onset ; excluded: Abnormal circulating C-reactive protein concentration (HP:0032436): onset ; excluded: Elevated circulating aspartate aminotransferase concentration (HP:0031956): onset ; excluded: Abnormal circulating creatine kinase concentration (HP:0040081): onset </td></tr>\n",
       "<tr><td style=\"text-align: left;\">Patient 6 (FEMALE; P5Y0M)</td><td style=\"text-align: left;\">Hutchinson-Gilford progeria (OMIM:176670)</td><td style=\"text-align: left;\">NM_170707.4:c.1824C>T (heterozygous)</td><td style=\"text-align: left;\">Proptosis (HP:0000520): onset ; Elevated diastolic blood pressure (HP:0005117): onset ; Failure to thrive (HP:0001508): onset ; Lipodystrophy (HP:0009125): onset ; Hypodontia (HP:0000668): onset ; Short stature (HP:0004322): onset ; Circumoral cyanosis (HP:0032556): onset ; Micrognathia (HP:0000347): onset ; Alopecia (HP:0001596): onset ; Mottled pigmentation (HP:0001070): onset ; Reduced subcutaneous adipose tissue (HP:0003758): onset ; Prominent superficial blood vessels (HP:0007394): onset ; Reduced bone mineral density (HP:0004349): onset ; excluded: Hypermetropia (HP:0000540): onset ; excluded: High palate (HP:0000218): onset ; excluded: Elevated systolic blood pressure (HP:0004421): onset ; excluded: Myocardial infarction (HP:0001658): onset ; excluded: Prolonged QT interval (HP:0001657): onset ; excluded: Shortened PR interval (HP:0005165): onset ; excluded: Muscle weakness (HP:0001324): onset ; excluded: Transient ischemic attack (HP:0002326): onset ; excluded: Delayed eruption of teeth (HP:0000684): onset ; excluded: Shark teeth (HP:4000168): onset ; excluded: Ankyloglossia (HP:0010296): onset ; excluded: Abnormal left ventricular ejection fraction (HP:0034314): onset ; excluded: Elevated hemoglobin A1c (HP:0040217): onset ; excluded: Abnormal circulating C-reactive protein concentration (HP:0032436): onset ; excluded: Elevated circulating aspartate aminotransferase concentration (HP:0031956): onset ; excluded: Abnormal circulating creatine kinase concentration (HP:0040081): onset </td></tr>\n",
       "<tr><td style=\"text-align: left;\">Patient 7 (MALE; P6Y10M)</td><td style=\"text-align: left;\">Hutchinson-Gilford progeria (OMIM:176670)</td><td style=\"text-align: left;\">NM_170707.4:c.1824C>T (heterozygous)</td><td style=\"text-align: left;\">Proptosis (HP:0000520): onset ; High palate (HP:0000218): onset ; Failure to thrive (HP:0001508): onset ; Lipodystrophy (HP:0009125): onset ; Elevated systolic blood pressure (HP:0004421): onset ; Short stature (HP:0004322): onset ; Prolonged QT interval (HP:0001657): onset ; Delayed eruption of teeth (HP:0000684): onset ; Circumoral cyanosis (HP:0032556): onset ; Micrognathia (HP:0000347): onset ; Alopecia (HP:0001596): onset ; Mottled pigmentation (HP:0001070): onset ; Reduced subcutaneous adipose tissue (HP:0003758): onset ; Prominent superficial blood vessels (HP:0007394): onset ; Reduced bone mineral density (HP:0004349): onset ; Ankyloglossia (HP:0010296): onset ; excluded: Elevated diastolic blood pressure (HP:0005117): onset ; excluded: Hypodontia (HP:0000668): onset ; excluded: Myocardial infarction (HP:0001658): onset ; excluded: Shortened PR interval (HP:0005165): onset ; excluded: Muscle weakness (HP:0001324): onset ; excluded: Transient ischemic attack (HP:0002326): onset ; excluded: Shark teeth (HP:4000168): onset ; excluded: Abnormal left ventricular ejection fraction (HP:0034314): onset ; excluded: Elevated hemoglobin A1c (HP:0040217): onset ; excluded: Abnormal circulating C-reactive protein concentration (HP:0032436): onset ; excluded: Elevated circulating aspartate aminotransferase concentration (HP:0031956): onset ; excluded: Abnormal circulating creatine kinase concentration (HP:0040081): onset </td></tr>\n",
       "<tr><td style=\"text-align: left;\">Patient 8 (FEMALE; P6Y11M)</td><td style=\"text-align: left;\">Hutchinson-Gilford progeria (OMIM:176670)</td><td style=\"text-align: left;\">NM_170707.4:c.1824C>T (heterozygous)</td><td style=\"text-align: left;\">Proptosis (HP:0000520): onset ; Hypermetropia (HP:0000540): onset ; High palate (HP:0000218): onset ; Failure to thrive (HP:0001508): onset ; Lipodystrophy (HP:0009125): onset ; Hypodontia (HP:0000668): onset ; Short stature (HP:0004322): onset ; Circumoral cyanosis (HP:0032556): onset ; Micrognathia (HP:0000347): onset ; Alopecia (HP:0001596): onset ; Mottled pigmentation (HP:0001070): onset ; Reduced subcutaneous adipose tissue (HP:0003758): onset ; Prominent superficial blood vessels (HP:0007394): onset ; Reduced bone mineral density (HP:0004349): onset ; excluded: Elevated diastolic blood pressure (HP:0005117): onset ; excluded: Elevated systolic blood pressure (HP:0004421): onset ; excluded: Myocardial infarction (HP:0001658): onset ; excluded: Prolonged QT interval (HP:0001657): onset ; excluded: Shortened PR interval (HP:0005165): onset ; excluded: Muscle weakness (HP:0001324): onset ; excluded: Transient ischemic attack (HP:0002326): onset ; excluded: Delayed eruption of teeth (HP:0000684): onset ; excluded: Shark teeth (HP:4000168): onset ; excluded: Ankyloglossia (HP:0010296): onset ; excluded: Abnormal left ventricular ejection fraction (HP:0034314): onset ; excluded: Elevated hemoglobin A1c (HP:0040217): onset ; excluded: Abnormal circulating C-reactive protein concentration (HP:0032436): onset ; excluded: Elevated circulating aspartate aminotransferase concentration (HP:0031956): onset ; excluded: Abnormal circulating creatine kinase concentration (HP:0040081): onset </td></tr>\n",
       "<tr><td style=\"text-align: left;\">Patient 9 (FEMALE; P7Y3M)</td><td style=\"text-align: left;\">Hutchinson-Gilford progeria (OMIM:176670)</td><td style=\"text-align: left;\">NM_170707.4:c.1824C>T (heterozygous)</td><td style=\"text-align: left;\">Proptosis (HP:0000520): onset ; Hypermetropia (HP:0000540): onset ; High palate (HP:0000218): onset ; Failure to thrive (HP:0001508): onset ; Lipodystrophy (HP:0009125): onset ; Hypodontia (HP:0000668): onset ; Short stature (HP:0004322): onset ; Delayed eruption of teeth (HP:0000684): onset ; Circumoral cyanosis (HP:0032556): onset ; Micrognathia (HP:0000347): onset ; Alopecia (HP:0001596): onset ; Mottled pigmentation (HP:0001070): onset ; Reduced subcutaneous adipose tissue (HP:0003758): onset ; Prominent superficial blood vessels (HP:0007394): onset ; Reduced bone mineral density (HP:0004349): onset ; Carotid artery stenosis (HP:0100546): onset ; excluded: Elevated diastolic blood pressure (HP:0005117): onset ; excluded: Abnormal intraocular pressure (HP:0012632): onset ; excluded: Elevated systolic blood pressure (HP:0004421): onset ; excluded: Myocardial infarction (HP:0001658): onset ; excluded: Prolonged QT interval (HP:0001657): onset ; excluded: Shortened PR interval (HP:0005165): onset ; excluded: Muscle weakness (HP:0001324): onset ; excluded: Transient ischemic attack (HP:0002326): onset ; excluded: Shark teeth (HP:4000168): onset ; excluded: Ankyloglossia (HP:0010296): onset ; excluded: Abnormal left ventricular ejection fraction (HP:0034314): onset ; excluded: Elevated hemoglobin A1c (HP:0040217): onset ; excluded: Abnormal circulating C-reactive protein concentration (HP:0032436): onset ; excluded: Elevated circulating aspartate aminotransferase concentration (HP:0031956): onset ; excluded: Abnormal circulating creatine kinase concentration (HP:0040081): onset </td></tr>\n",
       "<tr><td style=\"text-align: left;\">Patient 10 (MALE; P8Y5M)</td><td style=\"text-align: left;\">Hutchinson-Gilford progeria (OMIM:176670)</td><td style=\"text-align: left;\">NM_170707.4:c.1824C>T (heterozygous)</td><td style=\"text-align: left;\">Proptosis (HP:0000520): onset ; Hypermetropia (HP:0000540): onset ; High palate (HP:0000218): onset ; Failure to thrive (HP:0001508): onset ; Lipodystrophy (HP:0009125): onset ; Hypodontia (HP:0000668): onset ; Elevated systolic blood pressure (HP:0004421): onset ; Short stature (HP:0004322): onset ; Delayed eruption of teeth (HP:0000684): onset ; Circumoral cyanosis (HP:0032556): onset ; Micrognathia (HP:0000347): onset ; Alopecia (HP:0001596): onset ; Mottled pigmentation (HP:0001070): onset ; Reduced subcutaneous adipose tissue (HP:0003758): onset ; Prominent superficial blood vessels (HP:0007394): onset ; Reduced bone mineral density (HP:0004349): onset ; Ankyloglossia (HP:0010296): onset ; excluded: Elevated diastolic blood pressure (HP:0005117): onset ; excluded: Abnormal intraocular pressure (HP:0012632): onset ; excluded: Myocardial infarction (HP:0001658): onset ; excluded: Prolonged QT interval (HP:0001657): onset ; excluded: Shortened PR interval (HP:0005165): onset ; excluded: Muscle weakness (HP:0001324): onset ; excluded: Transient ischemic attack (HP:0002326): onset ; excluded: Shark teeth (HP:4000168): onset ; excluded: Abnormal left ventricular ejection fraction (HP:0034314): onset ; excluded: Elevated hemoglobin A1c (HP:0040217): onset ; excluded: Abnormal circulating C-reactive protein concentration (HP:0032436): onset ; excluded: Elevated circulating aspartate aminotransferase concentration (HP:0031956): onset ; excluded: Abnormal circulating creatine kinase concentration (HP:0040081): onset </td></tr>\n",
       "<tr><td style=\"text-align: left;\">Patient 11 (MALE; P8Y5M)</td><td style=\"text-align: left;\">Hutchinson-Gilford progeria (OMIM:176670)</td><td style=\"text-align: left;\">NM_170707.4:c.1824C>T (heterozygous)</td><td style=\"text-align: left;\">Proptosis (HP:0000520): onset ; Hypermetropia (HP:0000540): onset ; Failure to thrive (HP:0001508): onset ; Lipodystrophy (HP:0009125): onset ; Hypodontia (HP:0000668): onset ; Short stature (HP:0004322): onset ; Delayed eruption of teeth (HP:0000684): onset ; Shark teeth (HP:4000168): onset ; Circumoral cyanosis (HP:0032556): onset ; Micrognathia (HP:0000347): onset ; Alopecia (HP:0001596): onset ; Mottled pigmentation (HP:0001070): onset ; Reduced subcutaneous adipose tissue (HP:0003758): onset ; Prominent superficial blood vessels (HP:0007394): onset ; Reduced bone mineral density (HP:0004349): onset ; Ankyloglossia (HP:0010296): onset ; excluded: Elevated diastolic blood pressure (HP:0005117): onset ; excluded: Abnormal intraocular pressure (HP:0012632): onset ; excluded: High palate (HP:0000218): onset ; excluded: Elevated systolic blood pressure (HP:0004421): onset ; excluded: Myocardial infarction (HP:0001658): onset ; excluded: Prolonged QT interval (HP:0001657): onset ; excluded: Shortened PR interval (HP:0005165): onset ; excluded: Muscle weakness (HP:0001324): onset ; excluded: Transient ischemic attack (HP:0002326): onset ; excluded: Abnormal left ventricular ejection fraction (HP:0034314): onset ; excluded: Elevated hemoglobin A1c (HP:0040217): onset ; excluded: Abnormal circulating C-reactive protein concentration (HP:0032436): onset ; excluded: Elevated circulating aspartate aminotransferase concentration (HP:0031956): onset ; excluded: Abnormal circulating creatine kinase concentration (HP:0040081): onset </td></tr>\n",
       "<tr><td style=\"text-align: left;\">Patient 12 (MALE; P8Y7M)</td><td style=\"text-align: left;\">Hutchinson-Gilford progeria (OMIM:176670)</td><td style=\"text-align: left;\">NM_170707.4:c.1824C>T (heterozygous)</td><td style=\"text-align: left;\">Proptosis (HP:0000520): onset ; Hypermetropia (HP:0000540): onset ; High palate (HP:0000218): onset ; Failure to thrive (HP:0001508): onset ; Lipodystrophy (HP:0009125): onset ; Hypodontia (HP:0000668): onset ; Elevated systolic blood pressure (HP:0004421): onset ; Short stature (HP:0004322): onset ; Delayed eruption of teeth (HP:0000684): onset ; Shark teeth (HP:4000168): onset ; Circumoral cyanosis (HP:0032556): onset ; Micrognathia (HP:0000347): onset ; Alopecia (HP:0001596): onset ; Mottled pigmentation (HP:0001070): onset ; Reduced subcutaneous adipose tissue (HP:0003758): onset ; Prominent superficial blood vessels (HP:0007394): onset ; Reduced bone mineral density (HP:0004349): onset ; Ankyloglossia (HP:0010296): onset ; excluded: Elevated diastolic blood pressure (HP:0005117): onset ; excluded: Abnormal intraocular pressure (HP:0012632): onset ; excluded: Myocardial infarction (HP:0001658): onset ; excluded: Prolonged QT interval (HP:0001657): onset ; excluded: Shortened PR interval (HP:0005165): onset ; excluded: Muscle weakness (HP:0001324): onset ; excluded: Transient ischemic attack (HP:0002326): onset ; excluded: Abnormal left ventricular ejection fraction (HP:0034314): onset ; excluded: Elevated hemoglobin A1c (HP:0040217): onset ; excluded: Abnormal circulating C-reactive protein concentration (HP:0032436): onset ; excluded: Elevated circulating aspartate aminotransferase concentration (HP:0031956): onset ; excluded: Abnormal circulating creatine kinase concentration (HP:0040081): onset </td></tr>\n",
       "<tr><td style=\"text-align: left;\">Patient 13 (MALE; P10Y2M)</td><td style=\"text-align: left;\">Hutchinson-Gilford progeria (OMIM:176670)</td><td style=\"text-align: left;\">NM_170707.4:c.1824C>T (heterozygous)</td><td style=\"text-align: left;\">Proptosis (HP:0000520): onset ; Hypermetropia (HP:0000540): onset ; High palate (HP:0000218): onset ; Failure to thrive (HP:0001508): onset ; Lipodystrophy (HP:0009125): onset ; Short stature (HP:0004322): onset ; Prolonged QT interval (HP:0001657): onset ; Delayed eruption of teeth (HP:0000684): onset ; Shark teeth (HP:4000168): onset ; Circumoral cyanosis (HP:0032556): onset ; Micrognathia (HP:0000347): onset ; Alopecia (HP:0001596): onset ; Mottled pigmentation (HP:0001070): onset ; Reduced subcutaneous adipose tissue (HP:0003758): onset ; Prominent superficial blood vessels (HP:0007394): onset ; Reduced bone mineral density (HP:0004349): onset ; Ankyloglossia (HP:0010296): onset ; excluded: Elevated diastolic blood pressure (HP:0005117): onset ; excluded: Abnormal intraocular pressure (HP:0012632): onset ; excluded: Hypodontia (HP:0000668): onset ; excluded: Elevated systolic blood pressure (HP:0004421): onset ; excluded: Myocardial infarction (HP:0001658): onset ; excluded: Shortened PR interval (HP:0005165): onset ; excluded: Muscle weakness (HP:0001324): onset ; excluded: Transient ischemic attack (HP:0002326): onset ; excluded: Abnormal left ventricular ejection fraction (HP:0034314): onset ; excluded: Elevated hemoglobin A1c (HP:0040217): onset ; excluded: Abnormal circulating C-reactive protein concentration (HP:0032436): onset ; excluded: Elevated circulating aspartate aminotransferase concentration (HP:0031956): onset ; excluded: Abnormal circulating creatine kinase concentration (HP:0040081): onset </td></tr>\n",
       "<tr><td style=\"text-align: left;\">Patient 14 (FEMALE; P12Y1M)</td><td style=\"text-align: left;\">Hutchinson-Gilford progeria (OMIM:176670)</td><td style=\"text-align: left;\">NM_170707.4:c.1824C>T (heterozygous)</td><td style=\"text-align: left;\">Proptosis (HP:0000520): onset ; Elevated diastolic blood pressure (HP:0005117): onset ; High palate (HP:0000218): onset ; Failure to thrive (HP:0001508): onset ; Lipodystrophy (HP:0009125): onset ; Elevated systolic blood pressure (HP:0004421): onset ; Short stature (HP:0004322): onset ; Prolonged QT interval (HP:0001657): onset ; Delayed eruption of teeth (HP:0000684): onset ; Circumoral cyanosis (HP:0032556): onset ; Micrognathia (HP:0000347): onset ; Alopecia (HP:0001596): onset ; Mottled pigmentation (HP:0001070): onset ; Reduced subcutaneous adipose tissue (HP:0003758): onset ; Prominent superficial blood vessels (HP:0007394): onset ; Reduced bone mineral density (HP:0004349): onset ; Carotid artery stenosis (HP:0100546): onset ; excluded: Hypodontia (HP:0000668): onset ; excluded: Shortened PR interval (HP:0005165): onset ; excluded: Muscle weakness (HP:0001324): onset ; excluded: Shark teeth (HP:4000168): onset ; excluded: Ankyloglossia (HP:0010296): onset ; excluded: Abnormal left ventricular ejection fraction (HP:0034314): onset ; excluded: Elevated hemoglobin A1c (HP:0040217): onset ; excluded: Abnormal circulating C-reactive protein concentration (HP:0032436): onset ; excluded: Elevated circulating aspartate aminotransferase concentration (HP:0031956): onset ; excluded: Abnormal circulating creatine kinase concentration (HP:0040081): onset <br/><b>TimeElement(element=Age(iso8601duration=P5Y))</b>: Transient ischemic attack (HP:0002326): onset age {\n",
       "  iso8601duration: \"P5Y\"\n",
       "}\n",
       "<br/><b>TimeElement(element=Age(iso8601duration=P13Y5M))</b>: Myocardial infarction (HP:0001658): onset age {\n",
       "  iso8601duration: \"P13Y5M\"\n",
       "}\n",
       "</td></tr>\n",
       "<tr><td style=\"text-align: left;\">Patient 15 (MALE; P17Y8M)</td><td style=\"text-align: left;\">Hutchinson-Gilford progeria (OMIM:176670)</td><td style=\"text-align: left;\">NM_170707.4:c.1824C>T (heterozygous)</td><td style=\"text-align: left;\">Proptosis (HP:0000520): onset ; Failure to thrive (HP:0001508): onset ; Lipodystrophy (HP:0009125): onset ; Short stature (HP:0004322): onset ; Prolonged QT interval (HP:0001657): onset ; Shortened PR interval (HP:0005165): onset ; Delayed eruption of teeth (HP:0000684): onset ; Circumoral cyanosis (HP:0032556): onset ; Micrognathia (HP:0000347): onset ; Alopecia (HP:0001596): onset ; Mottled pigmentation (HP:0001070): onset ; Reduced subcutaneous adipose tissue (HP:0003758): onset ; Prominent superficial blood vessels (HP:0007394): onset ; Reduced bone mineral density (HP:0004349): onset ; excluded: Elevated diastolic blood pressure (HP:0005117): onset ; excluded: Abnormal intraocular pressure (HP:0012632): onset ; excluded: High palate (HP:0000218): onset ; excluded: Hypodontia (HP:0000668): onset ; excluded: Elevated systolic blood pressure (HP:0004421): onset ; excluded: Muscle weakness (HP:0001324): onset ; excluded: Transient ischemic attack (HP:0002326): onset ; excluded: Shark teeth (HP:4000168): onset ; excluded: Abnormal left ventricular ejection fraction (HP:0034314): onset ; excluded: Elevated hemoglobin A1c (HP:0040217): onset ; excluded: Abnormal circulating C-reactive protein concentration (HP:0032436): onset ; excluded: Elevated circulating aspartate aminotransferase concentration (HP:0031956): onset ; excluded: Abnormal circulating creatine kinase concentration (HP:0040081): onset <br/><b>TimeElement(element=Age(iso8601duration=P17Y11M))</b>: Myocardial infarction (HP:0001658): onset age {\n",
       "  iso8601duration: \"P17Y11M\"\n",
       "}\n",
       "</td></tr>\n",
       "</table>"
      ],
      "text/plain": [
       "<IPython.core.display.HTML object>"
      ]
     },
     "metadata": {},
     "output_type": "display_data"
    }
   ],
   "source": [
    "table = IndividualTable(cvalidator.get_error_free_individual_list())\n",
    "display(HTML(table.to_html()))"
   ]
  }
 ],
 "metadata": {
  "kernelspec": {
   "display_name": "ps24venv",
   "language": "python",
   "name": "python3"
  },
  "language_info": {
   "codemirror_mode": {
    "name": "ipython",
    "version": 3
   },
   "file_extension": ".py",
   "mimetype": "text/x-python",
   "name": "python",
   "nbconvert_exporter": "python",
   "pygments_lexer": "ipython3",
   "version": "3.12.4"
  }
 },
 "nbformat": 4,
 "nbformat_minor": 2
}
