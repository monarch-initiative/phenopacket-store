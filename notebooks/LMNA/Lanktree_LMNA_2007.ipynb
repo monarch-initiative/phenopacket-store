{
 "cells": [
  {
   "cell_type": "markdown",
   "id": "64c1c9b4-830a-4ff8-9032-0c185184f1f7",
   "metadata": {},
   "source": [
    "# LMNA Lipodystrophy, familial partial, type 2 \t151660 \n",
    "Data taken from  [Lanktree M, et al. (2007) Novel LMNA mutations seen in patients with familial partial lipodystrophy subtype 2 (FPLD2; MIM 151660). Clin Genet ;71(2):183-6. PMID:17250669](https://pubmed.ncbi.nlm.nih.gov/17250669/).\n",
    "\n",
    "The authors write:\n",
    "The clinical and biochemical attributes of the three patients are shown in Table 1. Each had typical loss of subcutaneous adipose in the limbs and gluteal region, although these findings were less pronounced for patient C, as often is the case with men. Each had insulin resistance and type 2 diabetes mellitus although none had acanthosis nigricans. Each had high triglycerides and depressed high-density lipoprotein cholesterol. No findings of other laminopathies were present in any patient."
   ]
  },
  {
   "cell_type": "code",
   "execution_count": 1,
   "id": "ecda4608-168a-4a7f-b3cd-81631a47fcf2",
   "metadata": {},
   "outputs": [
    {
     "name": "stdout",
     "output_type": "stream",
     "text": [
      "Using pyphetools version 0.9.65\n"
     ]
    }
   ],
   "source": [
    "import pandas as pd\n",
    "pd.set_option('display.max_colwidth', None) # show entire column contents, important!\n",
    "from IPython.display import display, HTML\n",
    "from pyphetools.creation import *\n",
    "from pyphetools.visualization import *\n",
    "from pyphetools.validation import *\n",
    "import pyphetools\n",
    "print(f\"Using pyphetools version {pyphetools.__version__}\")"
   ]
  },
  {
   "cell_type": "code",
   "execution_count": 2,
   "id": "bb08b402-7f30-4f67-b41d-3be99756a53a",
   "metadata": {},
   "outputs": [
    {
     "name": "stdout",
     "output_type": "stream",
     "text": [
      "HPO version 2024-02-27\n"
     ]
    }
   ],
   "source": [
    "PMID = \"PMID:18256394\"\n",
    "title = \"Phenotype and course of Hutchinson-Gilford progeria syndrome\"\n",
    "cite = Citation(pmid=PMID, title=title)\n",
    "parser = HpoParser(hpo_json_file=\"../hp.json\")\n",
    "hpo_cr = parser.get_hpo_concept_recognizer()\n",
    "hpo_version = parser.get_version()\n",
    "hpo_ontology = parser.get_ontology()\n",
    "metadata = MetaData(created_by=\"ORCID:0000-0002-0736-9199\", citation=cite)\n",
    "metadata.default_versions_with_hpo(version=hpo_version)\n",
    "print(f\"HPO version {hpo_version}\")"
   ]
  },
  {
   "cell_type": "code",
   "execution_count": 3,
   "id": "641f5667-9597-4917-bc89-7770d6b891b4",
   "metadata": {},
   "outputs": [
    {
     "data": {
      "text/html": [
       "<div>\n",
       "<style scoped>\n",
       "    .dataframe tbody tr th:only-of-type {\n",
       "        vertical-align: middle;\n",
       "    }\n",
       "\n",
       "    .dataframe tbody tr th {\n",
       "        vertical-align: top;\n",
       "    }\n",
       "\n",
       "    .dataframe thead th {\n",
       "        text-align: right;\n",
       "    }\n",
       "</style>\n",
       "<table border=\"1\" class=\"dataframe\">\n",
       "  <thead>\n",
       "    <tr style=\"text-align: right;\">\n",
       "      <th></th>\n",
       "      <th>Patient</th>\n",
       "      <th>Age</th>\n",
       "      <th>Variant</th>\n",
       "      <th>Onset</th>\n",
       "      <th>Onset term</th>\n",
       "      <th>Sex</th>\n",
       "      <th>BMI</th>\n",
       "      <th>Waist</th>\n",
       "      <th>Facial fat</th>\n",
       "      <th>lipodystrophy.arm</th>\n",
       "      <th>...</th>\n",
       "      <th>Diabetes.onset</th>\n",
       "      <th>HTN</th>\n",
       "      <th>NM_170707.4</th>\n",
       "      <th>Acanthosis nigricans</th>\n",
       "      <th>cholesterol.total</th>\n",
       "      <th>HDL</th>\n",
       "      <th>LDL</th>\n",
       "      <th>triglycerides</th>\n",
       "      <th>blood.glucose</th>\n",
       "      <th>HBA1Cg</th>\n",
       "    </tr>\n",
       "  </thead>\n",
       "  <tbody>\n",
       "    <tr>\n",
       "      <th>0</th>\n",
       "      <td>A</td>\n",
       "      <td>46</td>\n",
       "      <td>p.D230N</td>\n",
       "      <td>Youth</td>\n",
       "      <td>Juvenile onset</td>\n",
       "      <td>F</td>\n",
       "      <td>29.3</td>\n",
       "      <td>86</td>\n",
       "      <td>excess</td>\n",
       "      <td>loss</td>\n",
       "      <td>...</td>\n",
       "      <td>44</td>\n",
       "      <td>No</td>\n",
       "      <td>c.688G&gt;A</td>\n",
       "      <td>No</td>\n",
       "      <td>5.13</td>\n",
       "      <td>0.93</td>\n",
       "      <td>2.75</td>\n",
       "      <td>3.20</td>\n",
       "      <td>9.8</td>\n",
       "      <td>7.2</td>\n",
       "    </tr>\n",
       "    <tr>\n",
       "      <th>1</th>\n",
       "      <td>B</td>\n",
       "      <td>50</td>\n",
       "      <td>p.R399C</td>\n",
       "      <td>Puberty</td>\n",
       "      <td>Juvenile onset</td>\n",
       "      <td>F</td>\n",
       "      <td>35.0</td>\n",
       "      <td>80</td>\n",
       "      <td>excess</td>\n",
       "      <td>loss</td>\n",
       "      <td>...</td>\n",
       "      <td>48</td>\n",
       "      <td>No</td>\n",
       "      <td>c.1195C&gt;T</td>\n",
       "      <td>No</td>\n",
       "      <td>4.50</td>\n",
       "      <td>1.12</td>\n",
       "      <td>2.32</td>\n",
       "      <td>2.35</td>\n",
       "      <td>6.5</td>\n",
       "      <td>7.0</td>\n",
       "    </tr>\n",
       "    <tr>\n",
       "      <th>2</th>\n",
       "      <td>C</td>\n",
       "      <td>75</td>\n",
       "      <td>p.S573L</td>\n",
       "      <td>Adulthood</td>\n",
       "      <td>Adult onset</td>\n",
       "      <td>M</td>\n",
       "      <td>35.6</td>\n",
       "      <td>100</td>\n",
       "      <td>excess</td>\n",
       "      <td>loss</td>\n",
       "      <td>...</td>\n",
       "      <td>57</td>\n",
       "      <td>Yes(71)</td>\n",
       "      <td>c.1718C&gt;T</td>\n",
       "      <td>No</td>\n",
       "      <td>6.04</td>\n",
       "      <td>1.14</td>\n",
       "      <td>4.10</td>\n",
       "      <td>1.75</td>\n",
       "      <td>22.7</td>\n",
       "      <td>9.5</td>\n",
       "    </tr>\n",
       "  </tbody>\n",
       "</table>\n",
       "<p>3 rows × 23 columns</p>\n",
       "</div>"
      ],
      "text/plain": [
       "  Patient  Age  Variant      Onset      Onset term Sex   BMI  Waist  \\\n",
       "0       A   46  p.D230N      Youth  Juvenile onset   F  29.3     86   \n",
       "1       B   50  p.R399C    Puberty  Juvenile onset   F  35.0     80   \n",
       "2       C   75  p.S573L  Adulthood     Adult onset   M  35.6    100   \n",
       "\n",
       "  Facial fat lipodystrophy.arm  ... Diabetes.onset      HTN NM_170707.4  \\\n",
       "0     excess              loss  ...             44       No    c.688G>A   \n",
       "1     excess              loss  ...             48       No   c.1195C>T   \n",
       "2     excess              loss  ...             57  Yes(71)   c.1718C>T   \n",
       "\n",
       "   Acanthosis nigricans cholesterol.total   HDL   LDL  triglycerides  \\\n",
       "0                    No              5.13  0.93  2.75           3.20   \n",
       "1                    No              4.50  1.12  2.32           2.35   \n",
       "2                    No              6.04  1.14  4.10           1.75   \n",
       "\n",
       "   blood.glucose  HBA1Cg  \n",
       "0            9.8     7.2  \n",
       "1            6.5     7.0  \n",
       "2           22.7     9.5  \n",
       "\n",
       "[3 rows x 23 columns]"
      ]
     },
     "execution_count": 3,
     "metadata": {},
     "output_type": "execute_result"
    }
   ],
   "source": [
    "df = pd.read_csv(\"input/lanktree.tsv\", sep='\\t')\n",
    "df.head()"
   ]
  },
  {
   "cell_type": "code",
   "execution_count": 4,
   "id": "7af4bb14-2c8d-4c3d-a8b5-119143a91ea9",
   "metadata": {},
   "outputs": [],
   "source": [
    "#res = OptionColumnMapper.autoformat(df=df, concept_recognizer=hpo_cr)\n",
    "#print(res)"
   ]
  },
  {
   "cell_type": "code",
   "execution_count": 5,
   "id": "a87810ab-2067-4fc6-820d-ab8ff0421453",
   "metadata": {},
   "outputs": [
    {
     "data": {
      "text/html": [
       "<div>\n",
       "<style scoped>\n",
       "    .dataframe tbody tr th:only-of-type {\n",
       "        vertical-align: middle;\n",
       "    }\n",
       "\n",
       "    .dataframe tbody tr th {\n",
       "        vertical-align: top;\n",
       "    }\n",
       "\n",
       "    .dataframe thead th {\n",
       "        text-align: right;\n",
       "    }\n",
       "</style>\n",
       "<table border=\"1\" class=\"dataframe\">\n",
       "  <thead>\n",
       "    <tr style=\"text-align: right;\">\n",
       "      <th></th>\n",
       "      <th>mapping</th>\n",
       "      <th>count</th>\n",
       "    </tr>\n",
       "  </thead>\n",
       "  <tbody>\n",
       "    <tr>\n",
       "      <th>0</th>\n",
       "      <td>Obesity (HP:0001513) (observed)</td>\n",
       "      <td>3</td>\n",
       "    </tr>\n",
       "  </tbody>\n",
       "</table>\n",
       "</div>"
      ],
      "text/plain": [
       "                           mapping count\n",
       "0  Obesity (HP:0001513) (observed)     3"
      ]
     },
     "execution_count": 5,
     "metadata": {},
     "output_type": "execute_result"
    }
   ],
   "source": [
    "column_mapper_list = list()\n",
    "# Each value is above normal limit\n",
    "bmi_d = {'29.3': 'Obesity',\n",
    " '35.0': 'Obesity',\n",
    " '35.6': 'Obesity'}\n",
    "bmiMapper = OptionColumnMapper(column_name='BMI',concept_recognizer=hpo_cr, option_d=bmi_d)\n",
    "column_mapper_list.append(bmiMapper)\n",
    "bmiMapper.preview_column(df)"
   ]
  },
  {
   "cell_type": "code",
   "execution_count": 6,
   "id": "0a579992-932f-4f7b-a0d1-bccbef428fc7",
   "metadata": {},
   "outputs": [
    {
     "data": {
      "text/html": [
       "<div>\n",
       "<style scoped>\n",
       "    .dataframe tbody tr th:only-of-type {\n",
       "        vertical-align: middle;\n",
       "    }\n",
       "\n",
       "    .dataframe tbody tr th {\n",
       "        vertical-align: top;\n",
       "    }\n",
       "\n",
       "    .dataframe thead th {\n",
       "        text-align: right;\n",
       "    }\n",
       "</style>\n",
       "<table border=\"1\" class=\"dataframe\">\n",
       "  <thead>\n",
       "    <tr style=\"text-align: right;\">\n",
       "      <th></th>\n",
       "      <th>mapping</th>\n",
       "      <th>count</th>\n",
       "    </tr>\n",
       "  </thead>\n",
       "  <tbody>\n",
       "    <tr>\n",
       "      <th>0</th>\n",
       "      <td>excess -&gt; observed</td>\n",
       "      <td>3</td>\n",
       "    </tr>\n",
       "  </tbody>\n",
       "</table>\n",
       "</div>"
      ],
      "text/plain": [
       "              mapping count\n",
       "0  excess -> observed     3"
      ]
     },
     "execution_count": 6,
     "metadata": {},
     "output_type": "execute_result"
    }
   ],
   "source": [
    "# Facial fat = Increased facial adipose tissue HP:0000287\n",
    "facialFatMapper = ConstantColumnMapper(column_name=\"Facial fat\",hpo_id=\"HP:0000287\", hpo_label=\"Increased facial adipose tissue\")\n",
    "column_mapper_list.append(facialFatMapper)\n",
    "facialFatMapper.preview_column(df)"
   ]
  },
  {
   "cell_type": "code",
   "execution_count": 7,
   "id": "9a28a3e7-a65a-475e-816b-851cd09896f3",
   "metadata": {},
   "outputs": [],
   "source": [
    "# Loss of subcutaneous adipose tissue in limbs HP:0003635\n",
    "subqArmsMapper = ConstantColumnMapper(column_name=\"lipodystrophy.arm\",\n",
    "                                      hpo_id=\"HP:0003635\", hpo_label=\"Loss of subcutaneous adipose tissue in limbs\")\n",
    "column_mapper_list.append(subqArmsMapper)\n",
    "#subqArmsMapper.preview_column(df)"
   ]
  },
  {
   "cell_type": "code",
   "execution_count": 8,
   "id": "69330a83-593b-41a7-8e69-69e9b1f3514b",
   "metadata": {},
   "outputs": [],
   "source": [
    "# Lipodystrophy HP:0009125\n",
    "# Currently no more detail available\n",
    "ldMapper = ConstantColumnMapper(column_name=\"lipodystrophy.arm\",hpo_id=\"HP:0009125\", hpo_label=\"Lipodystrophy\")\n",
    "column_mapper_list.append(ldMapper)\n",
    "#ldMapper.preview_column(df)"
   ]
  },
  {
   "cell_type": "code",
   "execution_count": 9,
   "id": "5af7cf77-20e3-47f7-a949-f85cfe8a1caf",
   "metadata": {},
   "outputs": [],
   "source": [
    "# Acanthosis nigricans HP:0000956\n",
    "anMapper = ConstantColumnMapper(column_name=\"Acanthosis nigricans\",hpo_id=\"HP:0000956\", hpo_label=\"Acanthosis nigricans\", excluded=True)\n",
    "column_mapper_list.append(anMapper)\n",
    "#anMapper.preview_column(df)"
   ]
  },
  {
   "cell_type": "code",
   "execution_count": 10,
   "id": "a327610a-d846-44c4-a0df-252036d27aae",
   "metadata": {},
   "outputs": [],
   "source": [
    "# Type II diabetes mellitus  HP:0005978\n",
    "dmMapper = ConstantColumnMapper(column_name=\"Diabetes.onset\",hpo_id=\"HP:0005978\", hpo_label=\"Type II diabetes mellitus\")\n",
    "column_mapper_list.append(dmMapper)\n",
    "#dmMapper.preview_column(df)"
   ]
  },
  {
   "cell_type": "code",
   "execution_count": 11,
   "id": "e9679474-4db7-481c-8753-554a714226a3",
   "metadata": {},
   "outputs": [],
   "source": [
    "# Hypertriglyceridemia HP:0002155\n",
    "htMapper = ConstantColumnMapper(column_name=\"triglycerides\",hpo_id=\"HP:0002155\", hpo_label=\"Hypertriglyceridemia\")\n",
    "column_mapper_list.append(htMapper)\n",
    "# htMapper.preview_column(df)"
   ]
  },
  {
   "cell_type": "code",
   "execution_count": 12,
   "id": "90d73cc3-fc37-488d-8405-6de2563047ee",
   "metadata": {},
   "outputs": [],
   "source": [
    "# Hypercholesterolemia HP:0003124\n",
    "cholMapper = ConstantColumnMapper(column_name='cholesterol.total',hpo_id=\"HP:0003124\", hpo_label=\"Hypercholesterolemia\")\n",
    "column_mapper_list.append(cholMapper)\n",
    "# cholMapper.preview_column(df)"
   ]
  },
  {
   "cell_type": "code",
   "execution_count": 13,
   "id": "422367a1-c20b-49bf-a38f-565149cfbead",
   "metadata": {},
   "outputs": [],
   "source": [
    "# Decreased HDL cholesterol concentration HP:0003233\n",
    "hdlMapper = ConstantColumnMapper(column_name=\"HDL\",hpo_id=\"HP:0003233\", hpo_label=\"Decreased HDL cholesterol concentration\")\n",
    "column_mapper_list.append(hdlMapper)\n",
    "# hdlMapper.preview_column(df)"
   ]
  },
  {
   "cell_type": "code",
   "execution_count": 14,
   "id": "116b05c8-3231-4757-98dd-0ceee978561f",
   "metadata": {},
   "outputs": [],
   "source": [
    "# Hyperglycemia HP:0003074 -- assume upper limit of normal of 5.6 mmol/L\n",
    "glucoseMapper = ConstantColumnMapper(column_name='blood.glucose',hpo_id=\"HP:0003074\", hpo_label=\"Hyperglycemia\")\n",
    "column_mapper_list.append(glucoseMapper)\n",
    "#glucoseMapper.preview_column(df)"
   ]
  },
  {
   "cell_type": "code",
   "execution_count": 15,
   "id": "48016922-7a5c-455e-9241-dfb6cfd90cd3",
   "metadata": {},
   "outputs": [
    {
     "data": {
      "text/html": [
       "<div>\n",
       "<style scoped>\n",
       "    .dataframe tbody tr th:only-of-type {\n",
       "        vertical-align: middle;\n",
       "    }\n",
       "\n",
       "    .dataframe tbody tr th {\n",
       "        vertical-align: top;\n",
       "    }\n",
       "\n",
       "    .dataframe thead th {\n",
       "        text-align: right;\n",
       "    }\n",
       "</style>\n",
       "<table border=\"1\" class=\"dataframe\">\n",
       "  <thead>\n",
       "    <tr style=\"text-align: right;\">\n",
       "      <th></th>\n",
       "      <th>mapping</th>\n",
       "      <th>count</th>\n",
       "    </tr>\n",
       "  </thead>\n",
       "  <tbody>\n",
       "    <tr>\n",
       "      <th>0</th>\n",
       "      <td>Elevated hemoglobin A1c (HP:0040217) (observed)</td>\n",
       "      <td>3</td>\n",
       "    </tr>\n",
       "  </tbody>\n",
       "</table>\n",
       "</div>"
      ],
      "text/plain": [
       "                                           mapping count\n",
       "0  Elevated hemoglobin A1c (HP:0040217) (observed)     3"
      ]
     },
     "execution_count": 15,
     "metadata": {},
     "output_type": "execute_result"
    }
   ],
   "source": [
    "# Elevated hemoglobin A1c HP:0040217 -- assume normal range at 4.5-5.7%\n",
    "hba1cg_d = {'7.2': 'Elevated hemoglobin A1c',\n",
    " '7.0': 'Elevated hemoglobin A1c',\n",
    " '9.5': 'Elevated hemoglobin A1c'}\n",
    "hba1cgMapper = OptionColumnMapper(column_name='HBA1Cg',concept_recognizer=hpo_cr, option_d=hba1cg_d)\n",
    "column_mapper_list.append(hba1cgMapper)\n",
    "hba1cgMapper.preview_column(df)"
   ]
  },
  {
   "cell_type": "code",
   "execution_count": 16,
   "id": "fad7c8ad-ebd7-468f-9c35-a8cdebbb15fe",
   "metadata": {},
   "outputs": [],
   "source": [
    "ageMapper = AgeColumnMapper.by_year(column_name=\"Age\")\n",
    "#ageMapper.preview_column(df)\n",
    "sexMapper = SexColumnMapper(male_symbol=\"M\", female_symbol=\"F\", column_name=\"Sex\")\n",
    "#sexMapper.preview_column(df)"
   ]
  },
  {
   "cell_type": "code",
   "execution_count": 17,
   "id": "2d0e7695-de90-4b47-aeb7-fef087436400",
   "metadata": {},
   "outputs": [
    {
     "data": {
      "text/html": [
       "<div>\n",
       "<style scoped>\n",
       "    .dataframe tbody tr th:only-of-type {\n",
       "        vertical-align: middle;\n",
       "    }\n",
       "\n",
       "    .dataframe tbody tr th {\n",
       "        vertical-align: top;\n",
       "    }\n",
       "\n",
       "    .dataframe thead th {\n",
       "        text-align: right;\n",
       "    }\n",
       "</style>\n",
       "<table border=\"1\" class=\"dataframe\">\n",
       "  <thead>\n",
       "    <tr style=\"text-align: right;\">\n",
       "      <th></th>\n",
       "      <th>original column contents</th>\n",
       "      <th>age</th>\n",
       "    </tr>\n",
       "  </thead>\n",
       "  <tbody>\n",
       "    <tr>\n",
       "      <th>0</th>\n",
       "      <td>Juvenile onset</td>\n",
       "      <td>Juvenile onset</td>\n",
       "    </tr>\n",
       "    <tr>\n",
       "      <th>1</th>\n",
       "      <td>Adult onset</td>\n",
       "      <td>Adult onset</td>\n",
       "    </tr>\n",
       "  </tbody>\n",
       "</table>\n",
       "</div>"
      ],
      "text/plain": [
       "  original column contents             age\n",
       "0           Juvenile onset  Juvenile onset\n",
       "1              Adult onset     Adult onset"
      ]
     },
     "execution_count": 17,
     "metadata": {},
     "output_type": "execute_result"
    }
   ],
   "source": [
    "onsetMapper = AgeColumnMapper.hpo_onset(column_name=\"Onset term\")\n",
    "onsetMapper.preview_column(df)"
   ]
  },
  {
   "cell_type": "code",
   "execution_count": 18,
   "id": "71945e36-283b-4a13-aecb-e2eb513c9533",
   "metadata": {},
   "outputs": [],
   "source": [
    "LMNA_transcript = \"NM_170707.4\"\n",
    "vman = VariantManager(df=df, individual_column_name=\"Patient\",allele_1_column_name=\"NM_170707.4\",\n",
    "                      gene_symbol=\"LMNA\", transcript=LMNA_transcript)"
   ]
  },
  {
   "cell_type": "code",
   "execution_count": 19,
   "id": "8e2a82d9-e5ad-42d7-818b-74d66fe8382e",
   "metadata": {},
   "outputs": [],
   "source": [
    "var_d = vman.get_variant_d()"
   ]
  },
  {
   "cell_type": "code",
   "execution_count": 21,
   "id": "8241e3b7-d38c-4daf-8c20-98db25ae9a06",
   "metadata": {},
   "outputs": [],
   "source": [
    "varMapper = VariantColumnMapper(variant_d=var_d,\n",
    "                                variant_column_name=\"NM_170707.4\",\n",
    "                                default_genotype=\"heterozygous\")\n",
    "encoder = CohortEncoder(df=df, \n",
    "                        hpo_cr=hpo_cr, \n",
    "                        column_mapper_list=column_mapper_list, \n",
    "                        individual_column_name=\"Patient\", \n",
    "                        age_at_last_encounter_mapper=ageMapper, \n",
    "                        age_of_onset_mapper=onsetMapper,\n",
    "                        sexmapper=sexMapper,\n",
    "                        variant_mapper=varMapper,\n",
    "                        metadata=metadata)\n",
    "omim_id = \"OMIM:151660\"\n",
    "omim_label = \"Lipodystrophy, familial partial, type 2\"\n",
    "lipodystrophy = Disease(disease_id=omim_id, disease_label=omim_label)\n",
    "encoder.set_disease(disease=lipodystrophy)"
   ]
  },
  {
   "cell_type": "markdown",
   "id": "c9f70bbf-f59d-407c-a50e-153ec1809b2d",
   "metadata": {},
   "source": [
    "## Excluded phenotypes\n",
    "The authors write that No findings of other laminopathies were present in any patient.\n",
    "Therefore, we exclude several characteristic findings\n",
    "\n",
    "- Proptosis (HP:0000520); \n",
    "- Failure to thrive (HP:0001508); \n",
    "- Micrognathia (HP:0000347); \n",
    "- Alopecia (HP:0001596); \n",
    "- Short stature (HP:0004322); \n",
    "- Scleroderma (HP:0100324); \n",
    "- Prominent superficial blood vessels (HP:0007394); \n",
    "- Mottled pigmentation (HP:0001070)\n",
    "- Progeroid facial appearance HP:0005328\n",
    "- Cardiomyopathy (HP:0001638)\n",
    "- Atrioventricular block (HP:0001678)"
   ]
  },
  {
   "cell_type": "code",
   "execution_count": 22,
   "id": "2444dd85-9cc6-4276-b23b-54b5d18602b6",
   "metadata": {},
   "outputs": [],
   "source": [
    "individuals = encoder.get_individuals()\n",
    "for i in individuals:\n",
    "    proptosis = HpTerm(hpo_id=\"HP:0000520\", label=\"Proptosis\", observed=False)\n",
    "    i.add_hpo_term(proptosis)\n",
    "    micrognathia = HpTerm(hpo_id=\"HP:0000347\", label=\"Micrognathia\", observed=False)\n",
    "    i.add_hpo_term(micrognathia)\n",
    "    sqfat = HpTerm(hpo_id=\"HP:0003758\", label=\"Reduced subcutaneous adipose tissue\", observed=False)\n",
    "    i.add_hpo_term(sqfat)\n",
    "    alopecia = HpTerm(hpo_id=\"HP:0001596\", label=\"Alopecia\", observed=False)\n",
    "    i.add_hpo_term(alopecia)\n",
    "    vessels = HpTerm(hpo_id=\"HP:0007394\", label=\"Prominent superficial blood vessels\", observed=False)\n",
    "    i.add_hpo_term(vessels)\n",
    "    ftt = HpTerm(hpo_id=\"HP:0001508\", label=\"Failure to thrive\", observed=False)\n",
    "    i.add_hpo_term(ftt)\n",
    "    sst = HpTerm(hpo_id=\"HP:0004322\", label=\"Short stature\", observed=False)\n",
    "    i.add_hpo_term(sst)\n",
    "    bmt = HpTerm(hpo_id=\"HP:0004349\", label=\"Reduced bone mineral density\", observed=False)\n",
    "    i.add_hpo_term(bmt)\n",
    "    prog = HpTerm(hpo_id=\"HP:0005328\", label=\"Progeroid facial appearance\", observed=False)\n",
    "    i.add_hpo_term(bmt)\n",
    "    cmp = HpTerm(hpo_id=\"HP:0001638\", label=\"Cardiomyopathy\", observed=False)\n",
    "    i.add_hpo_term(cmp)\n",
    "    avb = HpTerm(hpo_id=\"HP:0001678\", label=\"Atrioventricular block\", observed=False)\n",
    "    i.add_hpo_term(avb)"
   ]
  },
  {
   "cell_type": "code",
   "execution_count": 23,
   "id": "4a4938cf-227a-4d50-84bc-6dfeb50172b6",
   "metadata": {},
   "outputs": [
    {
     "data": {
      "text/html": [
       "<h2>Cohort validation</h2>\n",
       "<p>Errors found with 3 of 3 phenopackets.</p>\n",
       "<table style=\"border: 2px solid black; align: \"left\">\n",
       "<caption>Error counts</caption>\n",
       "<tr><th style=\"text-align: left;font-weight: bold;\">Level</th><th style=\"text-align: left;font-weight: bold;\">Error category</th><th style=\"text-align: left;font-weight: bold;\">Count</th></tr>\n",
       "</table>\n",
       "<p>A total of 3 issues were fixed and no individual was removed from the cohort.</p>"
      ],
      "text/plain": [
       "<IPython.core.display.HTML object>"
      ]
     },
     "metadata": {},
     "output_type": "display_data"
    }
   ],
   "source": [
    "cvalidator = CohortValidator(cohort=individuals, ontology=hpo_ontology, min_hpo=1, allelic_requirement=AllelicRequirement.MONO_ALLELIC)\n",
    "qc = QcVisualizer(cohort_validator=cvalidator)\n",
    "display(HTML(qc.to_summary_html()))"
   ]
  },
  {
   "cell_type": "code",
   "execution_count": 24,
   "id": "08174c7a-3beb-4f4c-b3f8-a58496ad0191",
   "metadata": {},
   "outputs": [
    {
     "data": {
      "text/html": [
       "<table style=\"border: 2px solid black; align: \"left\">\n",
       "<caption>3 phenopackets - PMID:18256394 (n=3)</caption>\n",
       "<tr><th style=\"text-align: left;font-weight: bold;\">Individual</th><th style=\"text-align: left;font-weight: bold;\">Disease</th><th style=\"text-align: left;font-weight: bold;\">Genotype</th><th style=\"text-align: left;font-weight: bold;\">Phenotypic features</th></tr>\n",
       "<tr><td style=\"text-align: left;\">A (FEMALE; P46Y)</td><td style=\"text-align: left;\">Lipodystrophy, familial partial, type 2 (OMIM:151660)</td><td style=\"text-align: left;\">NM_170707.4:c.688G>A (heterozygous)</td><td style=\"text-align: left;\">Obesity (HP:0001513); Increased facial adipose tissue (HP:0000287); Loss of subcutaneous adipose tissue in limbs (HP:0003635); Lipodystrophy (HP:0009125); Type II diabetes mellitus (HP:0005978); Hypertriglyceridemia (HP:0002155); Hypercholesterolemia (HP:0003124); Decreased HDL cholesterol concentration (HP:0003233); Hyperglycemia (HP:0003074); Elevated hemoglobin A1c (HP:0040217); excluded: Reduced bone mineral density (HP:0004349); excluded: Cardiomyopathy (HP:0001638); excluded: Reduced subcutaneous adipose tissue (HP:0003758); excluded: Acanthosis nigricans (HP:0000956); excluded: Alopecia (HP:0001596); excluded: Atrioventricular block (HP:0001678); excluded: Micrognathia (HP:0000347); excluded: Proptosis (HP:0000520); excluded: Prominent superficial blood vessels (HP:0007394); excluded: Short stature (HP:0004322); excluded: Failure to thrive (HP:0001508)</td></tr>\n",
       "<tr><td style=\"text-align: left;\">B (FEMALE; P50Y)</td><td style=\"text-align: left;\">Lipodystrophy, familial partial, type 2 (OMIM:151660)</td><td style=\"text-align: left;\">NM_170707.4:c.1195C>T (heterozygous)</td><td style=\"text-align: left;\">Obesity (HP:0001513); Increased facial adipose tissue (HP:0000287); Loss of subcutaneous adipose tissue in limbs (HP:0003635); Lipodystrophy (HP:0009125); Type II diabetes mellitus (HP:0005978); Hypertriglyceridemia (HP:0002155); Hypercholesterolemia (HP:0003124); Decreased HDL cholesterol concentration (HP:0003233); Hyperglycemia (HP:0003074); Elevated hemoglobin A1c (HP:0040217); excluded: Reduced bone mineral density (HP:0004349); excluded: Cardiomyopathy (HP:0001638); excluded: Reduced subcutaneous adipose tissue (HP:0003758); excluded: Acanthosis nigricans (HP:0000956); excluded: Alopecia (HP:0001596); excluded: Atrioventricular block (HP:0001678); excluded: Micrognathia (HP:0000347); excluded: Proptosis (HP:0000520); excluded: Prominent superficial blood vessels (HP:0007394); excluded: Short stature (HP:0004322); excluded: Failure to thrive (HP:0001508)</td></tr>\n",
       "<tr><td style=\"text-align: left;\">C (MALE; P75Y)</td><td style=\"text-align: left;\">Lipodystrophy, familial partial, type 2 (OMIM:151660)</td><td style=\"text-align: left;\">NM_170707.4:c.1718C>T (heterozygous)</td><td style=\"text-align: left;\">Obesity (HP:0001513); Increased facial adipose tissue (HP:0000287); Loss of subcutaneous adipose tissue in limbs (HP:0003635); Lipodystrophy (HP:0009125); Type II diabetes mellitus (HP:0005978); Hypertriglyceridemia (HP:0002155); Hypercholesterolemia (HP:0003124); Decreased HDL cholesterol concentration (HP:0003233); Hyperglycemia (HP:0003074); Elevated hemoglobin A1c (HP:0040217); excluded: Reduced bone mineral density (HP:0004349); excluded: Cardiomyopathy (HP:0001638); excluded: Reduced subcutaneous adipose tissue (HP:0003758); excluded: Acanthosis nigricans (HP:0000956); excluded: Alopecia (HP:0001596); excluded: Atrioventricular block (HP:0001678); excluded: Micrognathia (HP:0000347); excluded: Proptosis (HP:0000520); excluded: Prominent superficial blood vessels (HP:0007394); excluded: Short stature (HP:0004322); excluded: Failure to thrive (HP:0001508)</td></tr>\n",
       "</table>"
      ],
      "text/plain": [
       "<IPython.core.display.HTML object>"
      ]
     },
     "metadata": {},
     "output_type": "display_data"
    }
   ],
   "source": [
    "individuals = cvalidator.get_error_free_individual_list()\n",
    "table = PhenopacketTable(individual_list=individuals, metadata=metadata)\n",
    "display(HTML(table.to_html()))"
   ]
  },
  {
   "cell_type": "code",
   "execution_count": 25,
   "id": "8635782d-5d04-4c7c-a5f3-b952732fd04f",
   "metadata": {},
   "outputs": [
    {
     "name": "stdout",
     "output_type": "stream",
     "text": [
      "We output 3 GA4GH phenopackets to the directory phenopackets\n"
     ]
    }
   ],
   "source": [
    "Individual.output_individuals_as_phenopackets(individual_list=individuals, metadata=metadata)"
   ]
  },
  {
   "cell_type": "code",
   "execution_count": null,
   "id": "fe5e5daa-8211-47ee-a432-fcfefc039033",
   "metadata": {},
   "outputs": [],
   "source": []
  }
 ],
 "metadata": {
  "kernelspec": {
   "display_name": "ps24venv",
   "language": "python",
   "name": "ps24venv"
  },
  "language_info": {
   "codemirror_mode": {
    "name": "ipython",
    "version": 3
   },
   "file_extension": ".py",
   "mimetype": "text/x-python",
   "name": "python",
   "nbconvert_exporter": "python",
   "pygments_lexer": "ipython3",
   "version": "3.8.10"
  }
 },
 "nbformat": 4,
 "nbformat_minor": 5
}
