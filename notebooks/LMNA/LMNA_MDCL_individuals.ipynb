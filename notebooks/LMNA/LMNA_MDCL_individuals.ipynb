{
 "cells": [
  {
   "cell_type": "markdown",
   "id": "cb3019dc-1bf4-41fc-a55f-c2946f7f4a7a",
   "metadata": {},
   "source": [
    "# LMNA-related congenital muscular dystrophy"
   ]
  },
  {
   "cell_type": "code",
   "execution_count": 1,
   "id": "0d26a83c-0008-40fd-a2ae-09dec5e3548e",
   "metadata": {},
   "outputs": [
    {
     "name": "stdout",
     "output_type": "stream",
     "text": [
      "Using pyphetools version 0.9.113\n"
     ]
    }
   ],
   "source": [
    "from pyphetools.creation import TemplateImporter, Moi\n",
    "from pyphetools.visualization import IndividualTable, QcVisualizer\n",
    "from IPython.display import display, HTML\n",
    "import pyphetools\n",
    "print(f\"Using pyphetools version {pyphetools.__version__}\")"
   ]
  },
  {
   "cell_type": "code",
   "execution_count": 2,
   "id": "1745eece-3642-4cc8-9d62-296bfa0e3390",
   "metadata": {},
   "outputs": [
    {
     "name": "stdout",
     "output_type": "stream",
     "text": [
      "HPO version 2024-08-13\n",
      "Created encoders for 34 fields\n",
      "Importing OMIM:613205, LMNA-related congenital muscular dystrophy, HGNC:6636, LMNA,  NM_170707.4\n",
      "We output 15 GA4GH phenopackets to the directory phenopackets\n"
     ]
    }
   ],
   "source": [
    "template = \"input/LMNA_MDCL_individuals.xlsx\"\n",
    "created_by = \"0000-0002-0736-9199\"\n",
    "timporter = TemplateImporter(template=template,  created_by=created_by)\n",
    "individuals, cvalidator = timporter.import_phenopackets_from_template()"
   ]
  },
  {
   "cell_type": "code",
   "execution_count": 3,
   "id": "8e396522-cd63-4d7d-95e3-75d37a1144ce",
   "metadata": {},
   "outputs": [
    {
     "data": {
      "text/html": [
       "<h2>Cohort validation</h2>\n",
       "<p>No errors found for the cohort with 15 individuals</p>"
      ],
      "text/plain": [
       "<IPython.core.display.HTML object>"
      ]
     },
     "metadata": {},
     "output_type": "display_data"
    }
   ],
   "source": [
    "qc = QcVisualizer(cohort_validator=cvalidator)\n",
    "display(HTML(qc.to_summary_html()))"
   ]
  },
  {
   "cell_type": "code",
   "execution_count": 4,
   "id": "7434d2ed-dace-427c-ae8e-2357e6e4b9bd",
   "metadata": {},
   "outputs": [
    {
     "data": {
      "text/html": [
       "<table style=\"border: 2px solid black; align: \"left\">\n",
       "<caption>15 phenopackets - PMID:18551513 (n=15)</caption>\n",
       "<tr><th style=\"text-align: left;font-weight: bold;\">Individual</th><th style=\"text-align: left;font-weight: bold;\">Disease</th><th style=\"text-align: left;font-weight: bold;\">Genotype</th><th style=\"text-align: left;font-weight: bold;\">Phenotypic features</th></tr>\n",
       "<tr><td style=\"text-align: left;\">1 (MALE; P7Y)</td><td style=\"text-align: left;\">LMNA-related congenital muscular dystrophy (OMIM:613205)</td><td style=\"text-align: left;\">NM_170707.4:c.1139T>C (heterozygous)</td><td style=\"text-align: left;\">Decreased fetal movement (HP:0001558): onset ; Hypotonia (HP:0001252): onset ; Proximal muscle weakness (HP:0003701): onset ; Distal muscle weakness (HP:0002460): onset ; Axial muscle weakness (HP:0003327): onset ; Poor head control (HP:0002421): onset ; Muscle fiber atrophy (HP:0100295): onset ; Delayed ability to walk (HP:0031936): onset ; Muscular dystrophy (HP:0003560): onset ; excluded: Ventricular tachycardia (HP:0004756): onset ; excluded: Neck muscle weakness (HP:0000467): onset ; excluded: Loss of ambulation (HP:0002505): onset ; excluded: Tube feeding (HP:0033454): onset <br/><b>TimeElement(element=Age(iso8601duration=P0D))</b>: Talipes (HP:0001883): onset age {\n",
       "  iso8601duration: \"P0D\"\n",
       "}\n",
       "<br/><b>TimeElement(element=Age(iso8601duration=P1Y10M))</b>: Respiratory insufficiency due to muscle weakness (HP:0002747): onset age {\n",
       "  iso8601duration: \"P1Y10M\"\n",
       "}\n",
       "<br/><b>TimeElement(element=Age(iso8601duration=P7Y))</b>: Paroxysmal atrial tachycardia (HP:0006671): onset age {\n",
       "  iso8601duration: \"P7Y\"\n",
       "}\n",
       "</td></tr>\n",
       "<tr><td style=\"text-align: left;\">2 (MALE; P3Y)</td><td style=\"text-align: left;\">LMNA-related congenital muscular dystrophy (OMIM:613205)</td><td style=\"text-align: left;\">NM_170707.4:c.745C>T (heterozygous)</td><td style=\"text-align: left;\">Decreased fetal movement (HP:0001558): onset ; Hypotonia (HP:0001252): onset ; Proximal muscle weakness (HP:0003701): onset ; Distal muscle weakness (HP:0002460): onset ; Axial muscle weakness (HP:0003327): onset ; Poor head control (HP:0002421): onset ; Muscle fiber atrophy (HP:0100295): onset ; Delayed ability to roll over (HP:0032989): onset ; Delayed ability to walk (HP:0031936): onset ; Muscular dystrophy (HP:0003560): onset ; excluded: Talipes (HP:0001883): onset ; excluded: Paroxysmal atrial tachycardia (HP:0006671): onset ; excluded: Ventricular tachycardia (HP:0004756): onset ; excluded: Neck muscle weakness (HP:0000467): onset ; excluded: Loss of ambulation (HP:0002505): onset ; excluded: Tube feeding (HP:0033454): onset <br/><b>TimeElement(element=Age(iso8601duration=P2Y6M))</b>: Respiratory insufficiency due to muscle weakness (HP:0002747): onset age {\n",
       "  iso8601duration: \"P2Y6M\"\n",
       "}\n",
       "</td></tr>\n",
       "<tr><td style=\"text-align: left;\">3 (FEMALE; P7Y)</td><td style=\"text-align: left;\">LMNA-related congenital muscular dystrophy (OMIM:613205)</td><td style=\"text-align: left;\">NM_170707.4:c.1072G>A (heterozygous)</td><td style=\"text-align: left;\">Decreased fetal movement (HP:0001558): onset ; Hypotonia (HP:0001252): onset ; Proximal muscle weakness (HP:0003701): onset ; Distal muscle weakness (HP:0002460): onset ; Axial muscle weakness (HP:0003327): onset ; Poor head control (HP:0002421): onset ; Muscle fiber atrophy (HP:0100295): onset ; Delayed ability to walk (HP:0031936): onset ; Muscular dystrophy (HP:0003560): onset ; excluded: Talipes (HP:0001883): onset ; excluded: Paroxysmal atrial tachycardia (HP:0006671): onset ; excluded: Ventricular tachycardia (HP:0004756): onset ; excluded: Neck muscle weakness (HP:0000467): onset ; excluded: Loss of ambulation (HP:0002505): onset ; excluded: Tube feeding (HP:0033454): onset <br/><b>TimeElement(element=Age(iso8601duration=P2Y2M))</b>: Respiratory insufficiency due to muscle weakness (HP:0002747): onset age {\n",
       "  iso8601duration: \"P2Y2M\"\n",
       "}\n",
       "</td></tr>\n",
       "<tr><td style=\"text-align: left;\">4 (FEMALE; P9Y)</td><td style=\"text-align: left;\">LMNA-related congenital muscular dystrophy (OMIM:613205)</td><td style=\"text-align: left;\">NM_170707.4:c.745C>T (heterozygous)</td><td style=\"text-align: left;\">Proximal muscle weakness (HP:0003701): onset ; Distal muscle weakness (HP:0002460): onset ; Axial muscle weakness (HP:0003327): onset ; Poor head control (HP:0002421): onset ; Muscle fiber atrophy (HP:0100295): onset ; Delayed ability to walk (HP:0031936): onset ; Neck muscle weakness (HP:0000467): onset ; Loss of ambulation (HP:0002505): onset ; Muscular dystrophy (HP:0003560): onset ; excluded: Decreased fetal movement (HP:0001558): onset ; excluded: Paroxysmal atrial tachycardia (HP:0006671): onset ; excluded: Ventricular tachycardia (HP:0004756): onset ; excluded: Tube feeding (HP:0033454): onset <br/><b>TimeElement(element=Age(iso8601duration=P0D))</b>: Talipes (HP:0001883): onset age {\n",
       "  iso8601duration: \"P0D\"\n",
       "}\n",
       "<br/><b>TimeElement(element=Age(iso8601duration=P7Y))</b>: Respiratory insufficiency due to muscle weakness (HP:0002747): onset age {\n",
       "  iso8601duration: \"P7Y\"\n",
       "}\n",
       "</td></tr>\n",
       "<tr><td style=\"text-align: left;\">5 (FEMALE; P9Y)</td><td style=\"text-align: left;\">LMNA-related congenital muscular dystrophy (OMIM:613205)</td><td style=\"text-align: left;\">NM_170707.4:c.149G>C (heterozygous)</td><td style=\"text-align: left;\">Talipes (HP:0001883): onset ; Proximal muscle weakness (HP:0003701): onset ; Distal muscle weakness (HP:0002460): onset ; Axial muscle weakness (HP:0003327): onset ; Poor head control (HP:0002421): onset ; Muscle fiber atrophy (HP:0100295): onset ; Delayed ability to walk (HP:0031936): onset ; Neck muscle weakness (HP:0000467): onset ; Loss of ambulation (HP:0002505): onset ; Muscular dystrophy (HP:0003560): onset ; excluded: Decreased fetal movement (HP:0001558): onset ; excluded: Ventricular tachycardia (HP:0004756): onset ; excluded: Tube feeding (HP:0033454): onset <br/><b>TimeElement(element=Age(iso8601duration=P9Y))</b>: Respiratory insufficiency due to muscle weakness (HP:0002747): onset age {\n",
       "  iso8601duration: \"P9Y\"\n",
       "}\n",
       "; Paroxysmal atrial tachycardia (HP:0006671): onset age {\n",
       "  iso8601duration: \"P9Y\"\n",
       "}\n",
       "</td></tr>\n",
       "<tr><td style=\"text-align: left;\">6 (FEMALE; P4Y)</td><td style=\"text-align: left;\">LMNA-related congenital muscular dystrophy (OMIM:613205)</td><td style=\"text-align: left;\">NM_170707.4:c.1072G>A (heterozygous)</td><td style=\"text-align: left;\">Hypotonia (HP:0001252): onset ; Proximal muscle weakness (HP:0003701): onset ; Distal muscle weakness (HP:0002460): onset ; Axial muscle weakness (HP:0003327): onset ; Poor head control (HP:0002421): onset ; Muscle fiber atrophy (HP:0100295): onset ; Delayed ability to walk (HP:0031936): onset ; Neck muscle weakness (HP:0000467): onset ; Loss of ambulation (HP:0002505): onset ; Tube feeding (HP:0033454): onset ; Muscular dystrophy (HP:0003560): onset ; excluded: Decreased fetal movement (HP:0001558): onset ; excluded: Talipes (HP:0001883): onset ; excluded: Paroxysmal atrial tachycardia (HP:0006671): onset ; excluded: Ventricular tachycardia (HP:0004756): onset <br/><b>TimeElement(element=Age(iso8601duration=P5Y))</b>: Respiratory insufficiency due to muscle weakness (HP:0002747): onset age {\n",
       "  iso8601duration: \"P5Y\"\n",
       "}\n",
       "</td></tr>\n",
       "<tr><td style=\"text-align: left;\">7 (MALE; P10Y)</td><td style=\"text-align: left;\">LMNA-related congenital muscular dystrophy (OMIM:613205)</td><td style=\"text-align: left;\">NM_170707.4:c.905T>C (heterozygous)</td><td style=\"text-align: left;\">Hypotonia (HP:0001252): onset ; Proximal muscle weakness (HP:0003701): onset ; Distal muscle weakness (HP:0002460): onset ; Axial muscle weakness (HP:0003327): onset ; Poor head control (HP:0002421): onset ; Delayed ability to walk (HP:0031936): onset ; Neck muscle weakness (HP:0000467): onset ; Muscular dystrophy (HP:0003560): onset ; excluded: Decreased fetal movement (HP:0001558): onset ; excluded: Talipes (HP:0001883): onset ; excluded: Paroxysmal atrial tachycardia (HP:0006671): onset ; excluded: Ventricular tachycardia (HP:0004756): onset ; excluded: Loss of ambulation (HP:0002505): onset ; excluded: Tube feeding (HP:0033454): onset <br/><b>TimeElement(element=Age(iso8601duration=P3Y))</b>: Respiratory insufficiency due to muscle weakness (HP:0002747): onset age {\n",
       "  iso8601duration: \"P3Y\"\n",
       "}\n",
       "</td></tr>\n",
       "<tr><td style=\"text-align: left;\">8 (MALE; P4Y)</td><td style=\"text-align: left;\">LMNA-related congenital muscular dystrophy (OMIM:613205)</td><td style=\"text-align: left;\">NM_170707.4:c.1364G>C (heterozygous)</td><td style=\"text-align: left;\">Hypotonia (HP:0001252): onset ; Proximal muscle weakness (HP:0003701): onset ; Poor head control (HP:0002421): onset ; Muscle fiber atrophy (HP:0100295): onset ; Delayed ability to walk (HP:0031936): onset ; Neck muscle weakness (HP:0000467): onset ; Muscular dystrophy (HP:0003560): onset ; excluded: Decreased fetal movement (HP:0001558): onset ; excluded: Talipes (HP:0001883): onset ; excluded: Respiratory insufficiency due to muscle weakness (HP:0002747): onset ; excluded: Paroxysmal atrial tachycardia (HP:0006671): onset ; excluded: Ventricular tachycardia (HP:0004756): onset ; excluded: Loss of ambulation (HP:0002505): onset ; excluded: Tube feeding (HP:0033454): onset </td></tr>\n",
       "<tr><td style=\"text-align: left;\">9 (MALE; P3Y)</td><td style=\"text-align: left;\">LMNA-related congenital muscular dystrophy (OMIM:613205)</td><td style=\"text-align: left;\">NM_170707.4:c.94_96del (heterozygous)</td><td style=\"text-align: left;\">Hypotonia (HP:0001252): onset ; Proximal muscle weakness (HP:0003701): onset ; Poor head control (HP:0002421): onset ; Delayed ability to walk (HP:0031936): onset ; Neck muscle weakness (HP:0000467): onset ; Muscular dystrophy (HP:0003560): onset ; excluded: Decreased fetal movement (HP:0001558): onset ; excluded: Talipes (HP:0001883): onset ; excluded: Respiratory insufficiency due to muscle weakness (HP:0002747): onset ; excluded: Paroxysmal atrial tachycardia (HP:0006671): onset ; excluded: Ventricular tachycardia (HP:0004756): onset ; excluded: Loss of ambulation (HP:0002505): onset ; excluded: Tube feeding (HP:0033454): onset </td></tr>\n",
       "<tr><td style=\"text-align: left;\">10 (MALE; P5Y)</td><td style=\"text-align: left;\">LMNA-related congenital muscular dystrophy (OMIM:613205)</td><td style=\"text-align: left;\">NM_170707.4:c.1358G>C (heterozygous)</td><td style=\"text-align: left;\">Hypotonia (HP:0001252): onset ; Proximal muscle weakness (HP:0003701): onset ; Poor head control (HP:0002421): onset ; Muscle fiber atrophy (HP:0100295): onset ; Delayed ability to roll over (HP:0032989): onset ; Delayed ability to walk (HP:0031936): onset ; Neck muscle weakness (HP:0000467): onset ; Muscular dystrophy (HP:0003560): onset ; excluded: Decreased fetal movement (HP:0001558): onset ; excluded: Talipes (HP:0001883): onset ; excluded: Respiratory insufficiency due to muscle weakness (HP:0002747): onset ; excluded: Paroxysmal atrial tachycardia (HP:0006671): onset ; excluded: Ventricular tachycardia (HP:0004756): onset ; excluded: Loss of ambulation (HP:0002505): onset ; excluded: Tube feeding (HP:0033454): onset </td></tr>\n",
       "<tr><td style=\"text-align: left;\">11 (FEMALE; P8Y)</td><td style=\"text-align: left;\">LMNA-related congenital muscular dystrophy (OMIM:613205)</td><td style=\"text-align: left;\">NM_170707.4:c.116A>G (heterozygous)</td><td style=\"text-align: left;\">Hypotonia (HP:0001252): onset ; Proximal muscle weakness (HP:0003701): onset ; Distal muscle weakness (HP:0002460): onset ; Axial muscle weakness (HP:0003327): onset ; Poor head control (HP:0002421): onset ; Muscle fiber atrophy (HP:0100295): onset ; Neck muscle weakness (HP:0000467): onset ; Loss of ambulation (HP:0002505): onset ; Muscular dystrophy (HP:0003560): onset ; excluded: Decreased fetal movement (HP:0001558): onset ; excluded: Talipes (HP:0001883): onset ; excluded: Paroxysmal atrial tachycardia (HP:0006671): onset ; excluded: Ventricular tachycardia (HP:0004756): onset ; excluded: Tube feeding (HP:0033454): onset <br/><b>TimeElement(element=Age(iso8601duration=P5Y))</b>: Respiratory insufficiency due to muscle weakness (HP:0002747): onset age {\n",
       "  iso8601duration: \"P5Y\"\n",
       "}\n",
       "</td></tr>\n",
       "<tr><td style=\"text-align: left;\">12 (FEMALE; P8Y)</td><td style=\"text-align: left;\">LMNA-related congenital muscular dystrophy (OMIM:613205)</td><td style=\"text-align: left;\">NM_170707.4:c.1366A>G (heterozygous)</td><td style=\"text-align: left;\">Proximal muscle weakness (HP:0003701): onset ; Distal muscle weakness (HP:0002460): onset ; Axial muscle weakness (HP:0003327): onset ; Poor head control (HP:0002421): onset ; Neck muscle weakness (HP:0000467): onset ; Muscular dystrophy (HP:0003560): onset ; excluded: Decreased fetal movement (HP:0001558): onset ; excluded: Talipes (HP:0001883): onset ; excluded: Paroxysmal atrial tachycardia (HP:0006671): onset ; excluded: Ventricular tachycardia (HP:0004756): onset ; excluded: Loss of ambulation (HP:0002505): onset ; excluded: Tube feeding (HP:0033454): onset <br/><b>TimeElement(element=Age(iso8601duration=P8Y))</b>: Respiratory insufficiency due to muscle weakness (HP:0002747): onset age {\n",
       "  iso8601duration: \"P8Y\"\n",
       "}\n",
       "</td></tr>\n",
       "<tr><td style=\"text-align: left;\">13 (FEMALE; P3Y)</td><td style=\"text-align: left;\">LMNA-related congenital muscular dystrophy (OMIM:613205)</td><td style=\"text-align: left;\">NM_170707.4:c.1381-2A>G (heterozygous)</td><td style=\"text-align: left;\">Hypotonia (HP:0001252): onset ; Proximal muscle weakness (HP:0003701): onset ; Axial muscle weakness (HP:0003327): onset ; Poor head control (HP:0002421): onset ; Muscle fiber atrophy (HP:0100295): onset ; Neck muscle weakness (HP:0000467): onset ; Tube feeding (HP:0033454): onset ; Muscular dystrophy (HP:0003560): onset ; excluded: Decreased fetal movement (HP:0001558): onset ; excluded: Talipes (HP:0001883): onset ; excluded: Respiratory insufficiency due to muscle weakness (HP:0002747): onset ; excluded: Paroxysmal atrial tachycardia (HP:0006671): onset ; excluded: Ventricular tachycardia (HP:0004756): onset ; excluded: Loss of ambulation (HP:0002505): onset </td></tr>\n",
       "<tr><td style=\"text-align: left;\">14 (MALE; P6Y)</td><td style=\"text-align: left;\">LMNA-related congenital muscular dystrophy (OMIM:613205)</td><td style=\"text-align: left;\">NM_170707.4:c.1072G>A (heterozygous)</td><td style=\"text-align: left;\">Hypotonia (HP:0001252): onset ; Proximal muscle weakness (HP:0003701): onset ; Distal muscle weakness (HP:0002460): onset ; Axial muscle weakness (HP:0003327): onset ; Poor head control (HP:0002421): onset ; Muscle fiber atrophy (HP:0100295): onset ; Neck muscle weakness (HP:0000467): onset ; Loss of ambulation (HP:0002505): onset ; Tube feeding (HP:0033454): onset ; Muscular dystrophy (HP:0003560): onset ; excluded: Decreased fetal movement (HP:0001558): onset ; excluded: Talipes (HP:0001883): onset ; excluded: Paroxysmal atrial tachycardia (HP:0006671): onset ; excluded: Ventricular tachycardia (HP:0004756): onset <br/><b>TimeElement(element=Age(iso8601duration=P4Y))</b>: Respiratory insufficiency due to muscle weakness (HP:0002747): onset age {\n",
       "  iso8601duration: \"P4Y\"\n",
       "}\n",
       "</td></tr>\n",
       "<tr><td style=\"text-align: left;\">15 (MALE; P20Y)</td><td style=\"text-align: left;\">LMNA-related congenital muscular dystrophy (OMIM:613205)</td><td style=\"text-align: left;\">NM_170707.4:c.1072G>A (heterozygous)</td><td style=\"text-align: left;\">Proximal muscle weakness (HP:0003701): onset ; Distal muscle weakness (HP:0002460): onset ; Axial muscle weakness (HP:0003327): onset ; Poor head control (HP:0002421): onset ; Muscle fiber atrophy (HP:0100295): onset ; Ventricular tachycardia (HP:0004756): onset ; Neck muscle weakness (HP:0000467): onset ; Loss of ambulation (HP:0002505): onset ; Muscular dystrophy (HP:0003560): onset ; excluded: Decreased fetal movement (HP:0001558): onset ; excluded: Talipes (HP:0001883): onset ; excluded: Paroxysmal atrial tachycardia (HP:0006671): onset ; excluded: Tube feeding (HP:0033454): onset <br/><b>TimeElement(element=Age(iso8601duration=P3Y))</b>: Respiratory insufficiency due to muscle weakness (HP:0002747): onset age {\n",
       "  iso8601duration: \"P3Y\"\n",
       "}\n",
       "</td></tr>\n",
       "</table>"
      ],
      "text/plain": [
       "<IPython.core.display.HTML object>"
      ]
     },
     "metadata": {},
     "output_type": "display_data"
    }
   ],
   "source": [
    "table = IndividualTable(cvalidator.get_error_free_individual_list())\n",
    "display(HTML(table.to_html()))"
   ]
  },
  {
   "cell_type": "code",
   "execution_count": 5,
   "id": "4237ef9d-370b-4a5b-9cdf-f925ff0d3273",
   "metadata": {},
   "outputs": [
    {
     "name": "stdout",
     "output_type": "stream",
     "text": [
      "[pyphetools] Ingested 266 GA4GH phenopackets.\n",
      "[INFO] Extracted 15 from 266 phenopackets with OMIM:613205\n",
      "\n",
      "\tLMNA-related congenital muscular dystrophy (OMIM:613205): n=15\n",
      "We found a total of 17 unique HPO terms\n",
      "Extracted disease: LMNA-related congenital muscular dystrophy (OMIM:613205)\n",
      "Wrote HPOA disease file to OMIM-613205.tab\n"
     ]
    }
   ],
   "source": [
    "PMID=\"PMID:18551513\"\n",
    "df = timporter.create_hpoa_from_phenopackets(pmid=PMID,mode_of_inheritance=Moi.AD,target=\"OMIM:613205\")"
   ]
  },
  {
   "cell_type": "code",
   "execution_count": null,
   "id": "cddd9c58-ee06-4543-97f8-c7a41c24b565",
   "metadata": {},
   "outputs": [],
   "source": []
  }
 ],
 "metadata": {
  "kernelspec": {
   "display_name": "ps24venv",
   "language": "python",
   "name": "python3"
  },
  "language_info": {
   "codemirror_mode": {
    "name": "ipython",
    "version": 3
   },
   "file_extension": ".py",
   "mimetype": "text/x-python",
   "name": "python",
   "nbconvert_exporter": "python",
   "pygments_lexer": "ipython3",
   "version": "3.12.4"
  }
 },
 "nbformat": 4,
 "nbformat_minor": 5
}
