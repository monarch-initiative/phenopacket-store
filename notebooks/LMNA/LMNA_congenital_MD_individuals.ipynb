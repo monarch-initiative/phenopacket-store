{
 "cells": [
  {
   "cell_type": "markdown",
   "id": "cb3019dc-1bf4-41fc-a55f-c2946f7f4a7a",
   "metadata": {},
   "source": [
    "# LMNA-related congenital muscular dystrophy"
   ]
  },
  {
   "cell_type": "code",
   "execution_count": 1,
   "id": "0d26a83c-0008-40fd-a2ae-09dec5e3548e",
   "metadata": {},
   "outputs": [
    {
     "name": "stdout",
     "output_type": "stream",
     "text": [
      "pyphetools version 0.9.65\n"
     ]
    }
   ],
   "source": [
    "import pyphetools\n",
    "from pyphetools.visualization import IndividualTable, QcVisualizer\n",
    "from IPython.display import display, HTML\n",
    "from pyphetools.creation import TemplateImporter\n",
    "print(f\"pyphetools version {pyphetools.__version__}\")"
   ]
  },
  {
   "cell_type": "code",
   "execution_count": 2,
   "id": "1745eece-3642-4cc8-9d62-296bfa0e3390",
   "metadata": {},
   "outputs": [],
   "source": [
    "template = \"input/LMNA_Muscular_dystrophy_congenita_individuals.xlsx\"\n",
    "hp_json = \"../hp.json\"\n",
    "created_by = \"0000-0002-0736-9199\""
   ]
  },
  {
   "cell_type": "code",
   "execution_count": 3,
   "id": "93b94fb7-2008-4a28-98fc-6ff035fbd256",
   "metadata": {},
   "outputs": [],
   "source": [
    "timporter = TemplateImporter(template=template, hp_json=hp_json, created_by=created_by)"
   ]
  },
  {
   "cell_type": "code",
   "execution_count": 4,
   "id": "940691e3-3a71-49c2-8023-b564b8c08c40",
   "metadata": {},
   "outputs": [
    {
     "name": "stdout",
     "output_type": "stream",
     "text": [
      "HPO version 2024-02-27\n",
      "Created encoders for 33 fields\n",
      " we got OMIM:613205  NM_170707.4\n",
      "We output 15 GA4GH phenopackets to the directory phenopackets\n"
     ]
    }
   ],
   "source": [
    "individuals, cvalidator = timporter.import_phenopackets_from_template()"
   ]
  },
  {
   "cell_type": "code",
   "execution_count": 6,
   "id": "8e396522-cd63-4d7d-95e3-75d37a1144ce",
   "metadata": {},
   "outputs": [
    {
     "data": {
      "text/html": [
       "<h2>Cohort validation</h2>\n",
       "<p>No errors found for the cohort with 15 individuals</p>"
      ],
      "text/plain": [
       "<IPython.core.display.HTML object>"
      ]
     },
     "metadata": {},
     "output_type": "display_data"
    }
   ],
   "source": [
    "qc = QcVisualizer(cohort_validator=cvalidator)\n",
    "display(HTML(qc.to_summary_html()))"
   ]
  },
  {
   "cell_type": "code",
   "execution_count": 7,
   "id": "7434d2ed-dace-427c-ae8e-2357e6e4b9bd",
   "metadata": {},
   "outputs": [
    {
     "data": {
      "text/html": [
       "<table style=\"border: 2px solid black; align: \"left\">\n",
       "<caption>15 phenopackets - PMID:18551513 (n=15)</caption>\n",
       "<tr><th style=\"text-align: left;font-weight: bold;\">Individual</th><th style=\"text-align: left;font-weight: bold;\">Disease</th><th style=\"text-align: left;font-weight: bold;\">Genotype</th><th style=\"text-align: left;font-weight: bold;\">Phenotypic features</th></tr>\n",
       "<tr><td style=\"text-align: left;\">1 (MALE; P7Y)</td><td style=\"text-align: left;\">LMNA-related congenital muscular dystrophy (OMIM:613205)</td><td style=\"text-align: left;\">NM_170707.4:c.1139T>C (heterozygous)</td><td style=\"text-align: left;\"><b>P0D</b>: Talipes (HP:0001883)<br/><b>P1Y10M</b>: Respiratory insufficiency due to muscle weakness (HP:0002747)<br/><b>P7Y</b>: Paroxysmal atrial tachycardia (HP:0006671)<br/>Decreased fetal movement (HP:0001558); Hypotonia (HP:0001252); Proximal muscle weakness (HP:0003701); Distal muscle weakness (HP:0002460); Axial muscle weakness (HP:0003327); Poor head control (HP:0002421); Muscle fiber atrophy (HP:0100295); Delayed ability to walk (HP:0031936); Muscular dystrophy (HP:0003560); excluded: Ventricular tachycardia (HP:0004756); excluded: Neck muscle weakness (HP:0000467); excluded: Loss of ambulation (HP:0002505); excluded: Tube feeding (HP:0033454)</td></tr>\n",
       "<tr><td style=\"text-align: left;\">2 (MALE; P3Y)</td><td style=\"text-align: left;\">LMNA-related congenital muscular dystrophy (OMIM:613205)</td><td style=\"text-align: left;\">NM_170707.4:c.745C>T (heterozygous)</td><td style=\"text-align: left;\"><b>P2Y6M</b>: Respiratory insufficiency due to muscle weakness (HP:0002747)<br/>Decreased fetal movement (HP:0001558); Hypotonia (HP:0001252); Proximal muscle weakness (HP:0003701); Distal muscle weakness (HP:0002460); Axial muscle weakness (HP:0003327); Poor head control (HP:0002421); Muscle fiber atrophy (HP:0100295); Delayed ability to roll over (HP:0032989); Delayed ability to walk (HP:0031936); Muscular dystrophy (HP:0003560); excluded: Talipes (HP:0001883); excluded: Paroxysmal atrial tachycardia (HP:0006671); excluded: Ventricular tachycardia (HP:0004756); excluded: Neck muscle weakness (HP:0000467); excluded: Loss of ambulation (HP:0002505); excluded: Tube feeding (HP:0033454)</td></tr>\n",
       "<tr><td style=\"text-align: left;\">3 (FEMALE; P7Y)</td><td style=\"text-align: left;\">LMNA-related congenital muscular dystrophy (OMIM:613205)</td><td style=\"text-align: left;\">NM_005572.4:c.1072G>A (heterozygous)</td><td style=\"text-align: left;\"><b>P2Y2M</b>: Respiratory insufficiency due to muscle weakness (HP:0002747)<br/>Decreased fetal movement (HP:0001558); Hypotonia (HP:0001252); Proximal muscle weakness (HP:0003701); Distal muscle weakness (HP:0002460); Axial muscle weakness (HP:0003327); Poor head control (HP:0002421); Muscle fiber atrophy (HP:0100295); Delayed ability to walk (HP:0031936); Muscular dystrophy (HP:0003560); excluded: Talipes (HP:0001883); excluded: Paroxysmal atrial tachycardia (HP:0006671); excluded: Ventricular tachycardia (HP:0004756); excluded: Neck muscle weakness (HP:0000467); excluded: Loss of ambulation (HP:0002505); excluded: Tube feeding (HP:0033454)</td></tr>\n",
       "<tr><td style=\"text-align: left;\">4 (FEMALE; P9Y)</td><td style=\"text-align: left;\">LMNA-related congenital muscular dystrophy (OMIM:613205)</td><td style=\"text-align: left;\">NM_170707.4:c.745C>T (heterozygous)</td><td style=\"text-align: left;\"><b>P0D</b>: Talipes (HP:0001883)<br/><b>P7Y</b>: Respiratory insufficiency due to muscle weakness (HP:0002747)<br/>Proximal muscle weakness (HP:0003701); Distal muscle weakness (HP:0002460); Axial muscle weakness (HP:0003327); Poor head control (HP:0002421); Muscle fiber atrophy (HP:0100295); Delayed ability to walk (HP:0031936); Neck muscle weakness (HP:0000467); Loss of ambulation (HP:0002505); Muscular dystrophy (HP:0003560); excluded: Decreased fetal movement (HP:0001558); excluded: Paroxysmal atrial tachycardia (HP:0006671); excluded: Ventricular tachycardia (HP:0004756); excluded: Tube feeding (HP:0033454)</td></tr>\n",
       "<tr><td style=\"text-align: left;\">5 (FEMALE; P9Y)</td><td style=\"text-align: left;\">LMNA-related congenital muscular dystrophy (OMIM:613205)</td><td style=\"text-align: left;\">NM_005572.4:c.149G>C (heterozygous)</td><td style=\"text-align: left;\"><b>P9Y</b>: Respiratory insufficiency due to muscle weakness (HP:0002747); Paroxysmal atrial tachycardia (HP:0006671)<br/>Talipes (HP:0001883); Proximal muscle weakness (HP:0003701); Distal muscle weakness (HP:0002460); Axial muscle weakness (HP:0003327); Poor head control (HP:0002421); Muscle fiber atrophy (HP:0100295); Delayed ability to walk (HP:0031936); Neck muscle weakness (HP:0000467); Loss of ambulation (HP:0002505); Muscular dystrophy (HP:0003560); excluded: Decreased fetal movement (HP:0001558); excluded: Ventricular tachycardia (HP:0004756); excluded: Tube feeding (HP:0033454)</td></tr>\n",
       "<tr><td style=\"text-align: left;\">6 (FEMALE; P4Y)</td><td style=\"text-align: left;\">LMNA-related congenital muscular dystrophy (OMIM:613205)</td><td style=\"text-align: left;\">NM_005572.4:c.1072G>A (heterozygous)</td><td style=\"text-align: left;\"><b>P5Y</b>: Respiratory insufficiency due to muscle weakness (HP:0002747)<br/>Hypotonia (HP:0001252); Proximal muscle weakness (HP:0003701); Distal muscle weakness (HP:0002460); Axial muscle weakness (HP:0003327); Poor head control (HP:0002421); Muscle fiber atrophy (HP:0100295); Delayed ability to walk (HP:0031936); Neck muscle weakness (HP:0000467); Loss of ambulation (HP:0002505); Tube feeding (HP:0033454); Muscular dystrophy (HP:0003560); excluded: Decreased fetal movement (HP:0001558); excluded: Talipes (HP:0001883); excluded: Paroxysmal atrial tachycardia (HP:0006671); excluded: Ventricular tachycardia (HP:0004756)</td></tr>\n",
       "<tr><td style=\"text-align: left;\">7 (MALE; P10Y)</td><td style=\"text-align: left;\">LMNA-related congenital muscular dystrophy (OMIM:613205)</td><td style=\"text-align: left;\">NM_170707.4:c.905T>C (heterozygous)</td><td style=\"text-align: left;\"><b>P3Y</b>: Respiratory insufficiency due to muscle weakness (HP:0002747)<br/>Hypotonia (HP:0001252); Proximal muscle weakness (HP:0003701); Distal muscle weakness (HP:0002460); Axial muscle weakness (HP:0003327); Poor head control (HP:0002421); Delayed ability to walk (HP:0031936); Neck muscle weakness (HP:0000467); Muscular dystrophy (HP:0003560); excluded: Decreased fetal movement (HP:0001558); excluded: Talipes (HP:0001883); excluded: Paroxysmal atrial tachycardia (HP:0006671); excluded: Ventricular tachycardia (HP:0004756); excluded: Loss of ambulation (HP:0002505); excluded: Tube feeding (HP:0033454)</td></tr>\n",
       "<tr><td style=\"text-align: left;\">8 (MALE; P4Y)</td><td style=\"text-align: left;\">LMNA-related congenital muscular dystrophy (OMIM:613205)</td><td style=\"text-align: left;\">NM_170707.4:c.1364G>C (heterozygous)</td><td style=\"text-align: left;\">Hypotonia (HP:0001252); Proximal muscle weakness (HP:0003701); Poor head control (HP:0002421); Muscle fiber atrophy (HP:0100295); Delayed ability to walk (HP:0031936); Neck muscle weakness (HP:0000467); Muscular dystrophy (HP:0003560); excluded: Decreased fetal movement (HP:0001558); excluded: Talipes (HP:0001883); excluded: Respiratory insufficiency due to muscle weakness (HP:0002747); excluded: Paroxysmal atrial tachycardia (HP:0006671); excluded: Ventricular tachycardia (HP:0004756); excluded: Loss of ambulation (HP:0002505); excluded: Tube feeding (HP:0033454)</td></tr>\n",
       "<tr><td style=\"text-align: left;\">9 (MALE; P3Y)</td><td style=\"text-align: left;\">LMNA-related congenital muscular dystrophy (OMIM:613205)</td><td style=\"text-align: left;\">NM_170707.4:c.94_96del (heterozygous)</td><td style=\"text-align: left;\">Hypotonia (HP:0001252); Proximal muscle weakness (HP:0003701); Poor head control (HP:0002421); Delayed ability to walk (HP:0031936); Neck muscle weakness (HP:0000467); Muscular dystrophy (HP:0003560); excluded: Decreased fetal movement (HP:0001558); excluded: Talipes (HP:0001883); excluded: Respiratory insufficiency due to muscle weakness (HP:0002747); excluded: Paroxysmal atrial tachycardia (HP:0006671); excluded: Ventricular tachycardia (HP:0004756); excluded: Loss of ambulation (HP:0002505); excluded: Tube feeding (HP:0033454)</td></tr>\n",
       "<tr><td style=\"text-align: left;\">10 (MALE; P5Y)</td><td style=\"text-align: left;\">LMNA-related congenital muscular dystrophy (OMIM:613205)</td><td style=\"text-align: left;\">NM_170707.4:c.1358G>C (heterozygous)</td><td style=\"text-align: left;\">Hypotonia (HP:0001252); Proximal muscle weakness (HP:0003701); Poor head control (HP:0002421); Muscle fiber atrophy (HP:0100295); Delayed ability to roll over (HP:0032989); Delayed ability to walk (HP:0031936); Neck muscle weakness (HP:0000467); Muscular dystrophy (HP:0003560); excluded: Decreased fetal movement (HP:0001558); excluded: Talipes (HP:0001883); excluded: Respiratory insufficiency due to muscle weakness (HP:0002747); excluded: Paroxysmal atrial tachycardia (HP:0006671); excluded: Ventricular tachycardia (HP:0004756); excluded: Loss of ambulation (HP:0002505); excluded: Tube feeding (HP:0033454)</td></tr>\n",
       "<tr><td style=\"text-align: left;\">11 (FEMALE; P8Y)</td><td style=\"text-align: left;\">LMNA-related congenital muscular dystrophy (OMIM:613205)</td><td style=\"text-align: left;\">NM_170707.4:c.116A>G (heterozygous)</td><td style=\"text-align: left;\"><b>P5Y</b>: Respiratory insufficiency due to muscle weakness (HP:0002747)<br/>Hypotonia (HP:0001252); Proximal muscle weakness (HP:0003701); Distal muscle weakness (HP:0002460); Axial muscle weakness (HP:0003327); Poor head control (HP:0002421); Muscle fiber atrophy (HP:0100295); Neck muscle weakness (HP:0000467); Loss of ambulation (HP:0002505); Muscular dystrophy (HP:0003560); excluded: Decreased fetal movement (HP:0001558); excluded: Talipes (HP:0001883); excluded: Paroxysmal atrial tachycardia (HP:0006671); excluded: Ventricular tachycardia (HP:0004756); excluded: Tube feeding (HP:0033454)</td></tr>\n",
       "<tr><td style=\"text-align: left;\">12 (FEMALE; P8Y)</td><td style=\"text-align: left;\">LMNA-related congenital muscular dystrophy (OMIM:613205)</td><td style=\"text-align: left;\">NM_170707.4:c.1366A>G (heterozygous)</td><td style=\"text-align: left;\"><b>P8Y</b>: Respiratory insufficiency due to muscle weakness (HP:0002747)<br/>Proximal muscle weakness (HP:0003701); Distal muscle weakness (HP:0002460); Axial muscle weakness (HP:0003327); Poor head control (HP:0002421); Neck muscle weakness (HP:0000467); Muscular dystrophy (HP:0003560); excluded: Decreased fetal movement (HP:0001558); excluded: Talipes (HP:0001883); excluded: Paroxysmal atrial tachycardia (HP:0006671); excluded: Ventricular tachycardia (HP:0004756); excluded: Loss of ambulation (HP:0002505); excluded: Tube feeding (HP:0033454)</td></tr>\n",
       "<tr><td style=\"text-align: left;\">13 (FEMALE; P3Y)</td><td style=\"text-align: left;\">LMNA-related congenital muscular dystrophy (OMIM:613205)</td><td style=\"text-align: left;\">NM_170707.4:c.1381-2A>G (heterozygous)</td><td style=\"text-align: left;\">Hypotonia (HP:0001252); Proximal muscle weakness (HP:0003701); Axial muscle weakness (HP:0003327); Poor head control (HP:0002421); Muscle fiber atrophy (HP:0100295); Neck muscle weakness (HP:0000467); Tube feeding (HP:0033454); Muscular dystrophy (HP:0003560); excluded: Decreased fetal movement (HP:0001558); excluded: Talipes (HP:0001883); excluded: Respiratory insufficiency due to muscle weakness (HP:0002747); excluded: Paroxysmal atrial tachycardia (HP:0006671); excluded: Ventricular tachycardia (HP:0004756); excluded: Loss of ambulation (HP:0002505)</td></tr>\n",
       "<tr><td style=\"text-align: left;\">14 (MALE; P6Y)</td><td style=\"text-align: left;\">LMNA-related congenital muscular dystrophy (OMIM:613205)</td><td style=\"text-align: left;\">NM_005572.4:c.1072G>A (heterozygous)</td><td style=\"text-align: left;\"><b>P4Y</b>: Respiratory insufficiency due to muscle weakness (HP:0002747)<br/>Hypotonia (HP:0001252); Proximal muscle weakness (HP:0003701); Distal muscle weakness (HP:0002460); Axial muscle weakness (HP:0003327); Poor head control (HP:0002421); Muscle fiber atrophy (HP:0100295); Neck muscle weakness (HP:0000467); Loss of ambulation (HP:0002505); Tube feeding (HP:0033454); Muscular dystrophy (HP:0003560); excluded: Decreased fetal movement (HP:0001558); excluded: Talipes (HP:0001883); excluded: Paroxysmal atrial tachycardia (HP:0006671); excluded: Ventricular tachycardia (HP:0004756)</td></tr>\n",
       "<tr><td style=\"text-align: left;\">15 (MALE; P20Y)</td><td style=\"text-align: left;\">LMNA-related congenital muscular dystrophy (OMIM:613205)</td><td style=\"text-align: left;\">NM_005572.4:c.1072G>A (heterozygous)</td><td style=\"text-align: left;\"><b>P3Y</b>: Respiratory insufficiency due to muscle weakness (HP:0002747)<br/>Proximal muscle weakness (HP:0003701); Distal muscle weakness (HP:0002460); Axial muscle weakness (HP:0003327); Poor head control (HP:0002421); Muscle fiber atrophy (HP:0100295); Ventricular tachycardia (HP:0004756); Neck muscle weakness (HP:0000467); Loss of ambulation (HP:0002505); Muscular dystrophy (HP:0003560); excluded: Decreased fetal movement (HP:0001558); excluded: Talipes (HP:0001883); excluded: Paroxysmal atrial tachycardia (HP:0006671); excluded: Tube feeding (HP:0033454)</td></tr>\n",
       "</table>"
      ],
      "text/plain": [
       "<IPython.core.display.HTML object>"
      ]
     },
     "metadata": {},
     "output_type": "display_data"
    }
   ],
   "source": [
    "table = IndividualTable(cvalidator.get_error_free_individual_list())\n",
    "display(HTML(table.to_html()))"
   ]
  },
  {
   "cell_type": "code",
   "execution_count": 8,
   "id": "4237ef9d-370b-4a5b-9cdf-f925ff0d3273",
   "metadata": {},
   "outputs": [
    {
     "name": "stdout",
     "output_type": "stream",
     "text": [
      "[pyphetools] Ingested 127 GA4GH phenopackets.\n",
      "[INFO] Extracted 15 from 127 phenopackets with OMIM:613205\n",
      "\n",
      "\tLMNA-related congenital muscular dystrophy (OMIM:613205): n=15\n",
      "We found a total of 17 unique HPO terms\n",
      "Extracted disease: LMNA-related congenital muscular dystrophy (OMIM:613205)\n",
      "Wrote HPOA disease file to OMIM-613205.tab\n"
     ]
    }
   ],
   "source": [
    "PMID=\"PMID:18551513\"\n",
    "df = timporter.create_hpoa_from_phenopackets(pmid=PMID, moi=\"Autosomal dominant\",target=\"OMIM:613205\")"
   ]
  },
  {
   "cell_type": "code",
   "execution_count": null,
   "id": "cddd9c58-ee06-4543-97f8-c7a41c24b565",
   "metadata": {},
   "outputs": [],
   "source": []
  }
 ],
 "metadata": {
  "kernelspec": {
   "display_name": "ps24venv",
   "language": "python",
   "name": "ps24venv"
  },
  "language_info": {
   "codemirror_mode": {
    "name": "ipython",
    "version": 3
   },
   "file_extension": ".py",
   "mimetype": "text/x-python",
   "name": "python",
   "nbconvert_exporter": "python",
   "pygments_lexer": "ipython3",
   "version": "3.8.10"
  }
 },
 "nbformat": 4,
 "nbformat_minor": 5
}
