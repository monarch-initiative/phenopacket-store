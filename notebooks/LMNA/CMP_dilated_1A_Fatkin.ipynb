{
 "cells": [
  {
   "cell_type": "markdown",
   "id": "b67ed5a8-8f29-486e-93ec-8315839d847d",
   "metadata": {},
   "source": [
    "# LMNA: Cardiomyopathy, dilated, 1A \n",
    "\n",
    "The data in this workbook were derived from Table 1 of [Fatkin D, et al. (1999) Missense mutations in the rod domain of the lamin A/C gene as causes of dilated cardiomyopathy and conduction-system disease. N Engl J Med 341(23):1715-24. PMID:10580070](https://pubmed.ncbi.nlm.nih.gov/10580070/).\n",
    "\n",
    "\n",
    "Variants were curated as follows\n",
    "- Family A: Arg571Ser; C→A (1711): NM_005572.4(LMNA):c.1711C>A (p.Arg571Ser)\n",
    "- Family B: Asn195Lys; C→G (585): NM_170707.4(LMNA):c.585C>A (p.Asn195Lys) \n",
    "- Family C: Leu85Arg; T→G (254): NM_170707.4(LMNA):c.254T>G (p.Leu85Arg) \n",
    "- Family D: Arg60Gly; C→G (178): NM_170707.4(LMNA):c.178C>G (p.Arg60Gly)\n",
    "- Family E: Glu203Gly; A→G (608):  NM_170707.4(LMNA):c.608A>G (p.Glu203Gly)\n",
    "\n",
    "Note that we will code the following two features as excluded in all individuals based on knowledge external to the above cited publication.\n",
    "\n",
    "- Excluded: Progeroid facial appearance HP:0005328 (see OMIM)\n",
    "- Excluded: Lipodystrophy HP:0009125 (see OMIM)"
   ]
  },
  {
   "cell_type": "code",
   "execution_count": 1,
   "id": "a7a175e9-99ff-4640-a52f-1f01cb525f67",
   "metadata": {},
   "outputs": [
    {
     "name": "stdout",
     "output_type": "stream",
     "text": [
      "Using pyphetools version 0.9.65\n"
     ]
    }
   ],
   "source": [
    "import pandas as pd\n",
    "pd.set_option('display.max_colwidth', None) # show entire column contents, important!\n",
    "from IPython.display import display, HTML\n",
    "from pyphetools.creation import *\n",
    "from pyphetools.visualization import *\n",
    "from pyphetools.validation import *\n",
    "import pyphetools\n",
    "print(f\"Using pyphetools version {pyphetools.__version__}\")"
   ]
  },
  {
   "cell_type": "code",
   "execution_count": 2,
   "id": "8316e9ee-56a3-4451-a781-c8cb411e62a0",
   "metadata": {},
   "outputs": [
    {
     "name": "stdout",
     "output_type": "stream",
     "text": [
      "HPO version 2024-02-27\n"
     ]
    }
   ],
   "source": [
    "PMID = \"PMID:10580070\"\n",
    "title = \"Missense mutations in the rod domain of the lamin A/C gene as causes of dilated cardiomyopathy and conduction-system disease\"\n",
    "cite = Citation(pmid=PMID, title=title)\n",
    "parser = HpoParser(hpo_json_file=\"../hp.json\")\n",
    "hpo_cr = parser.get_hpo_concept_recognizer()\n",
    "hpo_version = parser.get_version()\n",
    "hpo_ontology = parser.get_ontology()\n",
    "metadata = MetaData(created_by=\"ORCID:0000-0002-0736-9199\", citation=cite)\n",
    "metadata.default_versions_with_hpo(version=hpo_version)\n",
    "print(f\"HPO version {hpo_version}\")"
   ]
  },
  {
   "cell_type": "code",
   "execution_count": 3,
   "id": "89d91c23-03bd-431d-96f6-75e41806ff06",
   "metadata": {},
   "outputs": [
    {
     "data": {
      "text/html": [
       "<div>\n",
       "<style scoped>\n",
       "    .dataframe tbody tr th:only-of-type {\n",
       "        vertical-align: middle;\n",
       "    }\n",
       "\n",
       "    .dataframe tbody tr th {\n",
       "        vertical-align: top;\n",
       "    }\n",
       "\n",
       "    .dataframe thead th {\n",
       "        text-align: right;\n",
       "    }\n",
       "</style>\n",
       "<table border=\"1\" class=\"dataframe\">\n",
       "  <thead>\n",
       "    <tr style=\"text-align: right;\">\n",
       "      <th></th>\n",
       "      <th>FAMILY</th>\n",
       "      <th>MEMBER</th>\n",
       "      <th>AGE AT CLINICAL PRESENTATION (YR )</th>\n",
       "      <th>Sex</th>\n",
       "      <th>CONDUCTION -SYSTEM DISEASE</th>\n",
       "      <th>ATRIAL FIBRILLATION</th>\n",
       "      <th>DILATED CARDIOMYOPATHY</th>\n",
       "      <th>CAUSE OF DEATH</th>\n",
       "      <th>COMMENTS</th>\n",
       "      <th>CK</th>\n",
       "      <th>Elevated CK</th>\n",
       "      <th>NM_005572.4</th>\n",
       "    </tr>\n",
       "  </thead>\n",
       "  <tbody>\n",
       "    <tr>\n",
       "      <th>0</th>\n",
       "      <td>A</td>\n",
       "      <td>III-1</td>\n",
       "      <td>51</td>\n",
       "      <td>M</td>\n",
       "      <td>Third-degree atrioventricular block, permanent pacemaker</td>\n",
       "      <td>No</td>\n",
       "      <td>Yes</td>\n",
       "      <td>-</td>\n",
       "      <td>NaN</td>\n",
       "      <td>181 U/liter (&lt;210 U/liter)</td>\n",
       "      <td>No</td>\n",
       "      <td>c.1711C&gt;A</td>\n",
       "    </tr>\n",
       "    <tr>\n",
       "      <th>1</th>\n",
       "      <td>A</td>\n",
       "      <td>III-5</td>\n",
       "      <td>39</td>\n",
       "      <td>F</td>\n",
       "      <td>NaN</td>\n",
       "      <td>No</td>\n",
       "      <td>No</td>\n",
       "      <td>-</td>\n",
       "      <td>NaN</td>\n",
       "      <td>180 U/liter (&lt;140 U/liter)</td>\n",
       "      <td>No</td>\n",
       "      <td>c.1711C&gt;A</td>\n",
       "    </tr>\n",
       "  </tbody>\n",
       "</table>\n",
       "</div>"
      ],
      "text/plain": [
       "  FAMILY MEMBER  AGE AT CLINICAL PRESENTATION (YR ) Sex  \\\n",
       "0      A  III-1                                  51   M   \n",
       "1      A  III-5                                  39   F   \n",
       "\n",
       "                                 CONDUCTION -SYSTEM DISEASE  \\\n",
       "0  Third-degree atrioventricular block, permanent pacemaker   \n",
       "1                                                       NaN   \n",
       "\n",
       "  ATRIAL FIBRILLATION DILATED CARDIOMYOPATHY CAUSE OF DEATH COMMENTS  \\\n",
       "0                  No                    Yes              -      NaN   \n",
       "1                  No                     No              -      NaN   \n",
       "\n",
       "                           CK Elevated CK NM_005572.4  \n",
       "0  181 U/liter (<210 U/liter)          No   c.1711C>A  \n",
       "1  180 U/liter (<140 U/liter)          No   c.1711C>A  "
      ]
     },
     "execution_count": 3,
     "metadata": {},
     "output_type": "execute_result"
    }
   ],
   "source": [
    "df = pd.read_excel(\"input/Fatkin1999.xlsx\")\n",
    "df.head(2)"
   ]
  },
  {
   "cell_type": "code",
   "execution_count": 4,
   "id": "ee07091f-c191-46e2-9206-23cd6192053b",
   "metadata": {},
   "outputs": [],
   "source": [
    "def create_id(row):\n",
    "    return f\"{row['FAMILY']}_{row['MEMBER']}\"\n",
    "\n",
    "df[\"individual_id\"] = df.apply(create_id, axis=1)"
   ]
  },
  {
   "cell_type": "code",
   "execution_count": 5,
   "id": "c74d2d8c-9413-49d6-9cd3-7894ecf2c1b2",
   "metadata": {},
   "outputs": [],
   "source": [
    "ageMapper = AgeColumnMapper.by_year(column_name=\"AGE AT CLINICAL PRESENTATION (YR )\")\n",
    "#ageMapper.preview_column(df[\"AGE AT CLINICAL PRESENTATION (YR )\"])\n",
    "sexMapper = SexColumnMapper(male_symbol=\"M\", female_symbol=\"F\", column_name=\"Sex\")\n",
    "#sexMapper.preview_column(df[\"Sex\"])"
   ]
  },
  {
   "cell_type": "code",
   "execution_count": 6,
   "id": "08da1838-902d-46c8-869c-0c89101ae438",
   "metadata": {},
   "outputs": [],
   "source": [
    "column_mapper_list = list()"
   ]
  },
  {
   "cell_type": "code",
   "execution_count": 7,
   "id": "ea17b12f-8ca9-4393-ad78-b01715cc7ebf",
   "metadata": {},
   "outputs": [
    {
     "data": {
      "text/html": [
       "<div>\n",
       "<style scoped>\n",
       "    .dataframe tbody tr th:only-of-type {\n",
       "        vertical-align: middle;\n",
       "    }\n",
       "\n",
       "    .dataframe tbody tr th {\n",
       "        vertical-align: top;\n",
       "    }\n",
       "\n",
       "    .dataframe thead th {\n",
       "        text-align: right;\n",
       "    }\n",
       "</style>\n",
       "<table border=\"1\" class=\"dataframe\">\n",
       "  <thead>\n",
       "    <tr style=\"text-align: right;\">\n",
       "      <th></th>\n",
       "      <th>mapping</th>\n",
       "      <th>count</th>\n",
       "    </tr>\n",
       "  </thead>\n",
       "  <tbody>\n",
       "    <tr>\n",
       "      <th>0</th>\n",
       "      <td>original value: \"No\" -&gt; HP: Atrial fibrillation (HP:0005110) (excluded)</td>\n",
       "      <td>16</td>\n",
       "    </tr>\n",
       "    <tr>\n",
       "      <th>1</th>\n",
       "      <td>original value: \"Yes\" -&gt; HP: Atrial fibrillation (HP:0005110) (observed)</td>\n",
       "      <td>23</td>\n",
       "    </tr>\n",
       "  </tbody>\n",
       "</table>\n",
       "</div>"
      ],
      "text/plain": [
       "                                                                    mapping  \\\n",
       "0   original value: \"No\" -> HP: Atrial fibrillation (HP:0005110) (excluded)   \n",
       "1  original value: \"Yes\" -> HP: Atrial fibrillation (HP:0005110) (observed)   \n",
       "\n",
       "  count  \n",
       "0    16  \n",
       "1    23  "
      ]
     },
     "execution_count": 7,
     "metadata": {},
     "output_type": "execute_result"
    }
   ],
   "source": [
    "# Atrial fibrillation HP:0005110\n",
    "afMapper = SimpleColumnMapper(column_name='ATRIAL FIBRILLATION',\n",
    "                              hpo_id=\"HP:0005110\", hpo_label=\"Atrial fibrillation\", observed=\"Yes\", excluded=\"No\")\n",
    "column_mapper_list.append(afMapper)\n",
    "afMapper.preview_column(df)"
   ]
  },
  {
   "cell_type": "code",
   "execution_count": 8,
   "id": "6ba92760-e533-4895-b931-862120a01f6f",
   "metadata": {},
   "outputs": [
    {
     "data": {
      "text/html": [
       "<div>\n",
       "<style scoped>\n",
       "    .dataframe tbody tr th:only-of-type {\n",
       "        vertical-align: middle;\n",
       "    }\n",
       "\n",
       "    .dataframe tbody tr th {\n",
       "        vertical-align: top;\n",
       "    }\n",
       "\n",
       "    .dataframe thead th {\n",
       "        text-align: right;\n",
       "    }\n",
       "</style>\n",
       "<table border=\"1\" class=\"dataframe\">\n",
       "  <thead>\n",
       "    <tr style=\"text-align: right;\">\n",
       "      <th></th>\n",
       "      <th>mapping</th>\n",
       "      <th>count</th>\n",
       "    </tr>\n",
       "  </thead>\n",
       "  <tbody>\n",
       "    <tr>\n",
       "      <th>0</th>\n",
       "      <td>original value: \"Yes\" -&gt; HP: Dilated cardiomyopathy (HP:0001644) (observed)</td>\n",
       "      <td>25</td>\n",
       "    </tr>\n",
       "    <tr>\n",
       "      <th>1</th>\n",
       "      <td>original value: \"No\" -&gt; HP: Dilated cardiomyopathy (HP:0001644) (excluded)</td>\n",
       "      <td>14</td>\n",
       "    </tr>\n",
       "  </tbody>\n",
       "</table>\n",
       "</div>"
      ],
      "text/plain": [
       "                                                                       mapping  \\\n",
       "0  original value: \"Yes\" -> HP: Dilated cardiomyopathy (HP:0001644) (observed)   \n",
       "1   original value: \"No\" -> HP: Dilated cardiomyopathy (HP:0001644) (excluded)   \n",
       "\n",
       "  count  \n",
       "0    25  \n",
       "1    14  "
      ]
     },
     "execution_count": 8,
     "metadata": {},
     "output_type": "execute_result"
    }
   ],
   "source": [
    "# Dilated cardiomyopathy HP:0001644\n",
    "dilatedCmMapper = SimpleColumnMapper(column_name='DILATED CARDIOMYOPATHY',\n",
    "                                     hpo_id=\"HP:0001644\", hpo_label=\"Dilated cardiomyopathy\", observed=\"Yes\", excluded=\"No\")\n",
    "column_mapper_list.append(dilatedCmMapper)\n",
    "dilatedCmMapper.preview_column(df)"
   ]
  },
  {
   "cell_type": "code",
   "execution_count": 9,
   "id": "fa027227-53e9-40da-8766-5d955f6ebc20",
   "metadata": {},
   "outputs": [
    {
     "data": {
      "text/html": [
       "<div>\n",
       "<style scoped>\n",
       "    .dataframe tbody tr th:only-of-type {\n",
       "        vertical-align: middle;\n",
       "    }\n",
       "\n",
       "    .dataframe tbody tr th {\n",
       "        vertical-align: top;\n",
       "    }\n",
       "\n",
       "    .dataframe thead th {\n",
       "        text-align: right;\n",
       "    }\n",
       "</style>\n",
       "<table border=\"1\" class=\"dataframe\">\n",
       "  <thead>\n",
       "    <tr style=\"text-align: right;\">\n",
       "      <th></th>\n",
       "      <th>mapping</th>\n",
       "      <th>count</th>\n",
       "    </tr>\n",
       "  </thead>\n",
       "  <tbody>\n",
       "    <tr>\n",
       "      <th>0</th>\n",
       "      <td>original value: \"No\" -&gt; HP: Elevated circulating creatine kinase concentration (HP:0003236) (excluded)</td>\n",
       "      <td>20</td>\n",
       "    </tr>\n",
       "    <tr>\n",
       "      <th>1</th>\n",
       "      <td>original value: \"nan\" -&gt; HP: Elevated circulating creatine kinase concentration (HP:0003236) (not measured)</td>\n",
       "      <td>18</td>\n",
       "    </tr>\n",
       "    <tr>\n",
       "      <th>2</th>\n",
       "      <td>original value: \"Yes\" -&gt; HP: Elevated circulating creatine kinase concentration (HP:0003236) (observed)</td>\n",
       "      <td>1</td>\n",
       "    </tr>\n",
       "  </tbody>\n",
       "</table>\n",
       "</div>"
      ],
      "text/plain": [
       "                                                                                                       mapping  \\\n",
       "0       original value: \"No\" -> HP: Elevated circulating creatine kinase concentration (HP:0003236) (excluded)   \n",
       "1  original value: \"nan\" -> HP: Elevated circulating creatine kinase concentration (HP:0003236) (not measured)   \n",
       "2      original value: \"Yes\" -> HP: Elevated circulating creatine kinase concentration (HP:0003236) (observed)   \n",
       "\n",
       "  count  \n",
       "0    20  \n",
       "1    18  \n",
       "2     1  "
      ]
     },
     "execution_count": 9,
     "metadata": {},
     "output_type": "execute_result"
    }
   ],
   "source": [
    "# Elevated circulating creatine kinase concentration HP:0003236\n",
    "ckMapper = SimpleColumnMapper(column_name='Elevated CK',\n",
    "                              hpo_id=\"HP:0003236\", hpo_label=\"Elevated circulating creatine kinase concentration\", observed=\"Yes\", excluded=\"No\")\n",
    "column_mapper_list.append(ckMapper)\n",
    "ckMapper.preview_column(df)"
   ]
  },
  {
   "cell_type": "code",
   "execution_count": 10,
   "id": "b149b0a3-2b23-4ad4-b5ac-978e30f0bb38",
   "metadata": {},
   "outputs": [
    {
     "data": {
      "text/html": [
       "<div>\n",
       "<style scoped>\n",
       "    .dataframe tbody tr th:only-of-type {\n",
       "        vertical-align: middle;\n",
       "    }\n",
       "\n",
       "    .dataframe tbody tr th {\n",
       "        vertical-align: top;\n",
       "    }\n",
       "\n",
       "    .dataframe thead th {\n",
       "        text-align: right;\n",
       "    }\n",
       "</style>\n",
       "<table border=\"1\" class=\"dataframe\">\n",
       "  <thead>\n",
       "    <tr style=\"text-align: right;\">\n",
       "      <th></th>\n",
       "      <th>mapping</th>\n",
       "      <th>count</th>\n",
       "    </tr>\n",
       "  </thead>\n",
       "  <tbody>\n",
       "    <tr>\n",
       "      <th>0</th>\n",
       "      <td>original value: \"-\" -&gt; HP: Sudden cardiac death (HP:0001645) (excluded)</td>\n",
       "      <td>15</td>\n",
       "    </tr>\n",
       "    <tr>\n",
       "      <th>1</th>\n",
       "      <td>original value: \"Lymphoma\" -&gt; HP: Sudden cardiac death (HP:0001645) (not measured)</td>\n",
       "      <td>1</td>\n",
       "    </tr>\n",
       "    <tr>\n",
       "      <th>2</th>\n",
       "      <td>original value: \"nan\" -&gt; HP: Sudden cardiac death (HP:0001645) (not measured)</td>\n",
       "      <td>11</td>\n",
       "    </tr>\n",
       "    <tr>\n",
       "      <th>3</th>\n",
       "      <td>original value: \"Sudden death\" -&gt; HP: Sudden cardiac death (HP:0001645) (observed)</td>\n",
       "      <td>11</td>\n",
       "    </tr>\n",
       "    <tr>\n",
       "      <th>4</th>\n",
       "      <td>original value: \"No\" -&gt; HP: Sudden cardiac death (HP:0001645) (excluded)</td>\n",
       "      <td>1</td>\n",
       "    </tr>\n",
       "  </tbody>\n",
       "</table>\n",
       "</div>"
      ],
      "text/plain": [
       "                                                                              mapping  \\\n",
       "0             original value: \"-\" -> HP: Sudden cardiac death (HP:0001645) (excluded)   \n",
       "1  original value: \"Lymphoma\" -> HP: Sudden cardiac death (HP:0001645) (not measured)   \n",
       "2       original value: \"nan\" -> HP: Sudden cardiac death (HP:0001645) (not measured)   \n",
       "3  original value: \"Sudden death\" -> HP: Sudden cardiac death (HP:0001645) (observed)   \n",
       "4            original value: \"No\" -> HP: Sudden cardiac death (HP:0001645) (excluded)   \n",
       "\n",
       "  count  \n",
       "0    15  \n",
       "1     1  \n",
       "2    11  \n",
       "3    11  \n",
       "4     1  "
      ]
     },
     "execution_count": 10,
     "metadata": {},
     "output_type": "execute_result"
    }
   ],
   "source": [
    "#Sudden cardiac death HP:0001645\n",
    "df['CAUSE OF DEATH'].unique()\n",
    "suddenMapper = SimpleColumnMapper(column_name='CAUSE OF DEATH',\n",
    "                                  hpo_id=\"HP:0001645\", hpo_label=\"Sudden cardiac death\", observed=\"Sudden death\", excluded=[\"No\", \"-\"])\n",
    "column_mapper_list.append(suddenMapper)\n",
    "suddenMapper.preview_column(df)"
   ]
  },
  {
   "cell_type": "code",
   "execution_count": 11,
   "id": "7758a4ac-cd13-4414-9eb5-4b07ad02fa51",
   "metadata": {},
   "outputs": [],
   "source": [
    "#auto = OptionColumnMapper.autoformat(df=df, concept_recognizer=hpo_cr, delimiter=\",\")"
   ]
  },
  {
   "cell_type": "code",
   "execution_count": 12,
   "id": "31310681-dd91-47ee-ab65-deb921438787",
   "metadata": {},
   "outputs": [
    {
     "data": {
      "text/html": [
       "<div>\n",
       "<style scoped>\n",
       "    .dataframe tbody tr th:only-of-type {\n",
       "        vertical-align: middle;\n",
       "    }\n",
       "\n",
       "    .dataframe tbody tr th {\n",
       "        vertical-align: top;\n",
       "    }\n",
       "\n",
       "    .dataframe thead th {\n",
       "        text-align: right;\n",
       "    }\n",
       "</style>\n",
       "<table border=\"1\" class=\"dataframe\">\n",
       "  <thead>\n",
       "    <tr style=\"text-align: right;\">\n",
       "      <th></th>\n",
       "      <th>mapping</th>\n",
       "      <th>count</th>\n",
       "    </tr>\n",
       "  </thead>\n",
       "  <tbody>\n",
       "    <tr>\n",
       "      <th>0</th>\n",
       "      <td>Thromboembolism (HP:0001907) (observed)</td>\n",
       "      <td>1</td>\n",
       "    </tr>\n",
       "    <tr>\n",
       "      <th>1</th>\n",
       "      <td>Congestive heart failure (HP:0001635) (observed)</td>\n",
       "      <td>13</td>\n",
       "    </tr>\n",
       "    <tr>\n",
       "      <th>2</th>\n",
       "      <td>Stroke (HP:0001297) (observed)</td>\n",
       "      <td>3</td>\n",
       "    </tr>\n",
       "    <tr>\n",
       "      <th>3</th>\n",
       "      <td>Left atrial enlargement (HP:0031295) (observed)</td>\n",
       "      <td>1</td>\n",
       "    </tr>\n",
       "    <tr>\n",
       "      <th>4</th>\n",
       "      <td>Renal insufficiency (HP:0000083) (observed)</td>\n",
       "      <td>1</td>\n",
       "    </tr>\n",
       "  </tbody>\n",
       "</table>\n",
       "</div>"
      ],
      "text/plain": [
       "                                            mapping count\n",
       "0           Thromboembolism (HP:0001907) (observed)     1\n",
       "1  Congestive heart failure (HP:0001635) (observed)    13\n",
       "2                    Stroke (HP:0001297) (observed)     3\n",
       "3   Left atrial enlargement (HP:0031295) (observed)     1\n",
       "4       Renal insufficiency (HP:0000083) (observed)     1"
      ]
     },
     "execution_count": 12,
     "metadata": {},
     "output_type": "execute_result"
    }
   ],
   "source": [
    "comments_d = {\n",
    " 'Arterial embolus': 'Thromboembolism',\n",
    " 'Heart failure': 'Congestive heart failure',\n",
    " 'Embolic stroke': 'Stroke',\n",
    " 'Left atrial enlargement': 'Left atrial enlargement',\n",
    " 'Renal failure': 'Renal insufficiency',\n",
    " 'Heart transplant': 'Congestive heart failure'}\n",
    "commentsMapper = OptionColumnMapper(column_name='COMMENTS',concept_recognizer=hpo_cr, option_d=comments_d)\n",
    "column_mapper_list.append(commentsMapper)\n",
    "commentsMapper.preview_column(df)"
   ]
  },
  {
   "cell_type": "code",
   "execution_count": 13,
   "id": "a4178337-c3fe-4cd4-a4cf-13d45927c63c",
   "metadata": {},
   "outputs": [
    {
     "data": {
      "text/html": [
       "<div>\n",
       "<style scoped>\n",
       "    .dataframe tbody tr th:only-of-type {\n",
       "        vertical-align: middle;\n",
       "    }\n",
       "\n",
       "    .dataframe tbody tr th {\n",
       "        vertical-align: top;\n",
       "    }\n",
       "\n",
       "    .dataframe thead th {\n",
       "        text-align: right;\n",
       "    }\n",
       "</style>\n",
       "<table border=\"1\" class=\"dataframe\">\n",
       "  <thead>\n",
       "    <tr style=\"text-align: right;\">\n",
       "      <th></th>\n",
       "      <th>mapping</th>\n",
       "      <th>count</th>\n",
       "    </tr>\n",
       "  </thead>\n",
       "  <tbody>\n",
       "    <tr>\n",
       "      <th>0</th>\n",
       "      <td>Third degree atrioventricular block (HP:0001709) (observed)</td>\n",
       "      <td>5</td>\n",
       "    </tr>\n",
       "    <tr>\n",
       "      <th>1</th>\n",
       "      <td>Abnormal atrioventricular conduction (HP:0005150) (observed)</td>\n",
       "      <td>25</td>\n",
       "    </tr>\n",
       "    <tr>\n",
       "      <th>2</th>\n",
       "      <td>Sinus bradycardia (HP:0001688) (observed)</td>\n",
       "      <td>4</td>\n",
       "    </tr>\n",
       "    <tr>\n",
       "      <th>3</th>\n",
       "      <td>Second degree atrioventricular block (HP:0011706) (observed)</td>\n",
       "      <td>4</td>\n",
       "    </tr>\n",
       "    <tr>\n",
       "      <th>4</th>\n",
       "      <td>First degree atrioventricular block (HP:0011705) (observed)</td>\n",
       "      <td>5</td>\n",
       "    </tr>\n",
       "    <tr>\n",
       "      <th>5</th>\n",
       "      <td>Atrial fibrillation (HP:0005110) (observed)</td>\n",
       "      <td>6</td>\n",
       "    </tr>\n",
       "  </tbody>\n",
       "</table>\n",
       "</div>"
      ],
      "text/plain": [
       "                                                        mapping count\n",
       "0   Third degree atrioventricular block (HP:0001709) (observed)     5\n",
       "1  Abnormal atrioventricular conduction (HP:0005150) (observed)    25\n",
       "2                     Sinus bradycardia (HP:0001688) (observed)     4\n",
       "3  Second degree atrioventricular block (HP:0011706) (observed)     4\n",
       "4   First degree atrioventricular block (HP:0011705) (observed)     5\n",
       "5                   Atrial fibrillation (HP:0005110) (observed)     6"
      ]
     },
     "execution_count": 13,
     "metadata": {},
     "output_type": "execute_result"
    }
   ],
   "source": [
    "conduction_d = {'Third-degree atrioventricular block': 'Third degree atrioventricular block',\n",
    " 'permanent pacemaker': 'Abnormal atrioventricular conduction',\n",
    " 'Sinus bradycardia': 'Sinus bradycardia',\n",
    " 'Second-degree atrioventricular block': 'Second degree atrioventricular block',\n",
    " 'first-degree atrioventricular block': 'First degree atrioventricular block',\n",
    " 'First-degree atrioventricular block': 'First degree atrioventricular block',\n",
    " 'Yes': 'Abnormal atrioventricular conduction',\n",
    " 'Slow atrial fibrillation': 'Atrial fibrillation',\n",
    " 'Yes; permanent pacemaker': 'Abnormal atrioventricular conduction'\n",
    "}\n",
    "excluded = {'No':'Abnormal atrioventricular conduction'}\n",
    "conductionMapper = OptionColumnMapper(column_name='CONDUCTION -SYSTEM DISEASE',concept_recognizer=hpo_cr, option_d=conduction_d)\n",
    "column_mapper_list.append(conductionMapper)\n",
    "conductionMapper.preview_column(df)"
   ]
  },
  {
   "cell_type": "code",
   "execution_count": 14,
   "id": "a9686c3e-2bc6-427a-93f7-a2e821917c85",
   "metadata": {},
   "outputs": [],
   "source": [
    "LMNA_transcript = \"NM_005572.4\"\n",
    "vman = VariantManager(df=df, allele_1_column_name='NM_005572.4', individual_column_name=\"individual_id\",\n",
    "                      gene_symbol=\"LMNA\", transcript=LMNA_transcript)"
   ]
  },
  {
   "cell_type": "code",
   "execution_count": 15,
   "id": "247bcb4f-ca44-4f70-a6aa-74f46d1dc482",
   "metadata": {},
   "outputs": [],
   "source": [
    "variant_d = vman.get_variant_d()\n",
    "varMapper = VariantColumnMapper(variant_d=variant_d,\n",
    "                                variant_column_name='NM_005572.4', \n",
    "                                default_genotype='heterozygous')"
   ]
  },
  {
   "cell_type": "code",
   "execution_count": 16,
   "id": "cb35ffe5-cbcc-40c2-bbac-9c0fd4bd6d9f",
   "metadata": {},
   "outputs": [],
   "source": [
    "encoder = CohortEncoder(df=df, \n",
    "                        hpo_cr=hpo_cr, \n",
    "                        column_mapper_list=column_mapper_list, \n",
    "                        individual_column_name=\"individual_id\", \n",
    "                        age_of_onset_mapper=ageMapper, \n",
    "                        sexmapper=sexMapper,\n",
    "                        variant_mapper=varMapper,\n",
    "                        metadata=metadata)\n",
    "omim_id = \"OMIM:115200\"\n",
    "omim_label = \"Cardiomyopathy, dilated, 1A\"\n",
    " \t \n",
    "cmp1a = Disease(disease_id=omim_id, disease_label=omim_label)\n",
    "encoder.set_disease(disease=cmp1a)"
   ]
  },
  {
   "cell_type": "code",
   "execution_count": 17,
   "id": "a8546353-6db0-47cf-ae6d-053071816e4a",
   "metadata": {},
   "outputs": [],
   "source": [
    "individuals = encoder.get_individuals()\n",
    "# We code the following terms as excluded (see top of notebook)\n",
    "for i in individuals:\n",
    "    progeroid = HpTerm(hpo_id=\"HP:0005328\", label=\"Progeroid facial appearance\", observed=False)\n",
    "    lipodystrophy = HpTerm(hpo_id=\"HP:0009125\", label=\"Lipodystrophy\", observed=False)\n",
    "    i.add_hpo_term(progeroid)\n",
    "    i.add_hpo_term(lipodystrophy)"
   ]
  },
  {
   "cell_type": "code",
   "execution_count": 18,
   "id": "bc5ec84d-3caf-402f-bc18-d9048d9d7993",
   "metadata": {},
   "outputs": [
    {
     "data": {
      "text/html": [
       "<h2>Cohort validation</h2>\n",
       "<p>Errors found with 30 of 39 phenopackets.</p>\n",
       "<table style=\"border: 2px solid black; align: \"left\">\n",
       "<caption>Error counts</caption>\n",
       "<tr><th style=\"text-align: left;font-weight: bold;\">Level</th><th style=\"text-align: left;font-weight: bold;\">Error category</th><th style=\"text-align: left;font-weight: bold;\">Count</th></tr>\n",
       "<tr><td style=\"text-align: left;\">WARNING</td><td style=\"text-align: left;\">REDUNDANT</td><td style=\"text-align: left;\">6</td></tr>\n",
       "<tr><td style=\"text-align: left;\">INFORMATION</td><td style=\"text-align: left;\">NOT_MEASURED</td><td style=\"text-align: left;\">30</td></tr>\n",
       "</table>\n",
       "<p>A total of 42 issues were fixed and no individual was removed from the cohort.</p>"
      ],
      "text/plain": [
       "<IPython.core.display.HTML object>"
      ]
     },
     "metadata": {},
     "output_type": "display_data"
    }
   ],
   "source": [
    "cvalidator = CohortValidator(cohort=individuals, ontology=hpo_ontology, min_hpo=1, allelic_requirement=AllelicRequirement.MONO_ALLELIC)\n",
    "qc = QcVisualizer(cohort_validator=cvalidator)\n",
    "display(HTML(qc.to_summary_html()))"
   ]
  },
  {
   "cell_type": "code",
   "execution_count": 19,
   "id": "04129690-d2d7-404d-ad48-aab078b5d5a9",
   "metadata": {},
   "outputs": [
    {
     "data": {
      "text/html": [
       "<table style=\"border: 2px solid black; align: \"left\">\n",
       "<caption>39 phenopackets - PMID:10580070 (n=39)</caption>\n",
       "<tr><th style=\"text-align: left;font-weight: bold;\">Individual</th><th style=\"text-align: left;font-weight: bold;\">Disease</th><th style=\"text-align: left;font-weight: bold;\">Genotype</th><th style=\"text-align: left;font-weight: bold;\">Phenotypic features</th></tr>\n",
       "<tr><td style=\"text-align: left;\">A_III-1 (MALE; n/a)</td><td style=\"text-align: left;\">Cardiomyopathy, dilated, 1A (OMIM:115200)</td><td style=\"text-align: left;\">NM_005572.4:c.1711C>A (heterozygous)</td><td style=\"text-align: left;\">Dilated cardiomyopathy (HP:0001644); Third degree atrioventricular block (HP:0001709); excluded: Atrial fibrillation (HP:0005110); excluded: Elevated circulating creatine kinase concentration (HP:0003236); excluded: Sudden cardiac death (HP:0001645); excluded: Progeroid facial appearance (HP:0005328); excluded: Lipodystrophy (HP:0009125)</td></tr>\n",
       "<tr><td style=\"text-align: left;\">A_III-5 (FEMALE; n/a)</td><td style=\"text-align: left;\">Cardiomyopathy, dilated, 1A (OMIM:115200)</td><td style=\"text-align: left;\">NM_005572.4:c.1711C>A (heterozygous)</td><td style=\"text-align: left;\">excluded: Atrial fibrillation (HP:0005110); excluded: Dilated cardiomyopathy (HP:0001644); excluded: Elevated circulating creatine kinase concentration (HP:0003236); excluded: Sudden cardiac death (HP:0001645); excluded: Progeroid facial appearance (HP:0005328); excluded: Lipodystrophy (HP:0009125)</td></tr>\n",
       "<tr><td style=\"text-align: left;\">A_III-8  (FEMALE; n/a)</td><td style=\"text-align: left;\">Cardiomyopathy, dilated, 1A (OMIM:115200)</td><td style=\"text-align: left;\">NM_005572.4:c.1711C>A (heterozygous)</td><td style=\"text-align: left;\">Atrial fibrillation (HP:0005110); Dilated cardiomyopathy (HP:0001644); Thromboembolism (HP:0001907); Sinus bradycardia (HP:0001688); Abnormal atrioventricular conduction (HP:0005150); excluded: Elevated circulating creatine kinase concentration (HP:0003236); excluded: Sudden cardiac death (HP:0001645); excluded: Progeroid facial appearance (HP:0005328); excluded: Lipodystrophy (HP:0009125)</td></tr>\n",
       "<tr><td style=\"text-align: left;\">A_III-9 (MALE; n/a)</td><td style=\"text-align: left;\">Cardiomyopathy, dilated, 1A (OMIM:115200)</td><td style=\"text-align: left;\">NM_005572.4:c.1711C>A (heterozygous)</td><td style=\"text-align: left;\">Dilated cardiomyopathy (HP:0001644); Congestive heart failure (HP:0001635); Third degree atrioventricular block (HP:0001709); excluded: Atrial fibrillation (HP:0005110); excluded: Progeroid facial appearance (HP:0005328); excluded: Lipodystrophy (HP:0009125)</td></tr>\n",
       "<tr><td style=\"text-align: left;\">A_III-11 (FEMALE; n/a)</td><td style=\"text-align: left;\">Cardiomyopathy, dilated, 1A (OMIM:115200)</td><td style=\"text-align: left;\">NM_005572.4:c.1711C>A (heterozygous)</td><td style=\"text-align: left;\">Atrial fibrillation (HP:0005110); Elevated circulating creatine kinase concentration (HP:0003236); Second degree atrioventricular block (HP:0011706); excluded: Dilated cardiomyopathy (HP:0001644); excluded: Sudden cardiac death (HP:0001645); excluded: Progeroid facial appearance (HP:0005328); excluded: Lipodystrophy (HP:0009125)</td></tr>\n",
       "<tr><td style=\"text-align: left;\">A_III-13 (MALE; n/a)</td><td style=\"text-align: left;\">Cardiomyopathy, dilated, 1A (OMIM:115200)</td><td style=\"text-align: left;\">NM_005572.4:c.1711C>A (heterozygous)</td><td style=\"text-align: left;\">Atrial fibrillation (HP:0005110); Sinus bradycardia (HP:0001688); First degree atrioventricular block (HP:0011705); excluded: Dilated cardiomyopathy (HP:0001644); excluded: Elevated circulating creatine kinase concentration (HP:0003236); excluded: Sudden cardiac death (HP:0001645); excluded: Progeroid facial appearance (HP:0005328); excluded: Lipodystrophy (HP:0009125)</td></tr>\n",
       "<tr><td style=\"text-align: left;\">A_III-14 (FEMALE; n/a)</td><td style=\"text-align: left;\">Cardiomyopathy, dilated, 1A (OMIM:115200)</td><td style=\"text-align: left;\">NM_005572.4:c.1711C>A (heterozygous)</td><td style=\"text-align: left;\">First degree atrioventricular block (HP:0011705); excluded: Atrial fibrillation (HP:0005110); excluded: Dilated cardiomyopathy (HP:0001644); excluded: Elevated circulating creatine kinase concentration (HP:0003236); excluded: Progeroid facial appearance (HP:0005328); excluded: Lipodystrophy (HP:0009125)</td></tr>\n",
       "<tr><td style=\"text-align: left;\">A_III-15 (FEMALE; n/a)</td><td style=\"text-align: left;\">Cardiomyopathy, dilated, 1A (OMIM:115200)</td><td style=\"text-align: left;\">NM_005572.4:c.1711C>A (heterozygous)</td><td style=\"text-align: left;\">Third degree atrioventricular block (HP:0001709); excluded: Atrial fibrillation (HP:0005110); excluded: Dilated cardiomyopathy (HP:0001644); excluded: Sudden cardiac death (HP:0001645); excluded: Progeroid facial appearance (HP:0005328); excluded: Lipodystrophy (HP:0009125)</td></tr>\n",
       "<tr><td style=\"text-align: left;\">B_III-1 (MALE; n/a)</td><td style=\"text-align: left;\">Cardiomyopathy, dilated, 1A (OMIM:115200)</td><td style=\"text-align: left;\">NM_005572.4:c.585C>A (heterozygous)</td><td style=\"text-align: left;\">Atrial fibrillation (HP:0005110); Dilated cardiomyopathy (HP:0001644); Sudden cardiac death (HP:0001645); Congestive heart failure (HP:0001635); Abnormal atrioventricular conduction (HP:0005150); excluded: Progeroid facial appearance (HP:0005328); excluded: Lipodystrophy (HP:0009125)</td></tr>\n",
       "<tr><td style=\"text-align: left;\">B_III-3 (MALE; n/a)</td><td style=\"text-align: left;\">Cardiomyopathy, dilated, 1A (OMIM:115200)</td><td style=\"text-align: left;\">NM_005572.4:c.585C>A (heterozygous)</td><td style=\"text-align: left;\">Sudden cardiac death (HP:0001645); Dilated cardiomyopathy (HP:0001644); Abnormal atrioventricular conduction (HP:0005150); Atrial fibrillation (HP:0005110); excluded: Progeroid facial appearance (HP:0005328); excluded: Lipodystrophy (HP:0009125)</td></tr>\n",
       "<tr><td style=\"text-align: left;\">B_III-11 (FEMALE; n/a)</td><td style=\"text-align: left;\">Cardiomyopathy, dilated, 1A (OMIM:115200)</td><td style=\"text-align: left;\">NM_005572.4:c.585C>A (heterozygous)</td><td style=\"text-align: left;\">Atrial fibrillation (HP:0005110); Dilated cardiomyopathy (HP:0001644); Stroke (HP:0001297); Abnormal atrioventricular conduction (HP:0005150); excluded: Elevated circulating creatine kinase concentration (HP:0003236); excluded: Sudden cardiac death (HP:0001645); excluded: Progeroid facial appearance (HP:0005328); excluded: Lipodystrophy (HP:0009125)</td></tr>\n",
       "<tr><td style=\"text-align: left;\">B_III-13 (FEMALE; n/a)</td><td style=\"text-align: left;\">Cardiomyopathy, dilated, 1A (OMIM:115200)</td><td style=\"text-align: left;\">NM_005572.4:c.585C>A (heterozygous)</td><td style=\"text-align: left;\">Atrial fibrillation (HP:0005110); Dilated cardiomyopathy (HP:0001644); Sudden cardiac death (HP:0001645); Congestive heart failure (HP:0001635); Abnormal atrioventricular conduction (HP:0005150); excluded: Progeroid facial appearance (HP:0005328); excluded: Lipodystrophy (HP:0009125)</td></tr>\n",
       "<tr><td style=\"text-align: left;\">B_IV-1 (MALE; n/a)</td><td style=\"text-align: left;\">Cardiomyopathy, dilated, 1A (OMIM:115200)</td><td style=\"text-align: left;\">NM_005572.4:c.585C>A (heterozygous)</td><td style=\"text-align: left;\">Atrial fibrillation (HP:0005110); Dilated cardiomyopathy (HP:0001644); Sudden cardiac death (HP:0001645); Congestive heart failure (HP:0001635); Abnormal atrioventricular conduction (HP:0005150); excluded: Progeroid facial appearance (HP:0005328); excluded: Lipodystrophy (HP:0009125)</td></tr>\n",
       "<tr><td style=\"text-align: left;\">B_IV-4 (MALE; n/a)</td><td style=\"text-align: left;\">Cardiomyopathy, dilated, 1A (OMIM:115200)</td><td style=\"text-align: left;\">NM_005572.4:c.585C>A (heterozygous)</td><td style=\"text-align: left;\">Abnormal atrioventricular conduction (HP:0005150); Left atrial enlargement (HP:0031295); Atrial fibrillation (HP:0005110); excluded: Dilated cardiomyopathy (HP:0001644); excluded: Elevated circulating creatine kinase concentration (HP:0003236); excluded: Sudden cardiac death (HP:0001645); excluded: Progeroid facial appearance (HP:0005328); excluded: Lipodystrophy (HP:0009125)</td></tr>\n",
       "<tr><td style=\"text-align: left;\">B_IV-8 (MALE; n/a)</td><td style=\"text-align: left;\">Cardiomyopathy, dilated, 1A (OMIM:115200)</td><td style=\"text-align: left;\">NM_005572.4:c.585C>A (heterozygous)</td><td style=\"text-align: left;\">Renal insufficiency (HP:0000083); Dilated cardiomyopathy (HP:0001644); Congestive heart failure (HP:0001635); Atrial fibrillation (HP:0005110); excluded: Sudden cardiac death (HP:0001645); excluded: Progeroid facial appearance (HP:0005328); excluded: Lipodystrophy (HP:0009125)</td></tr>\n",
       "<tr><td style=\"text-align: left;\">B_IV-10 (FEMALE; n/a)</td><td style=\"text-align: left;\">Cardiomyopathy, dilated, 1A (OMIM:115200)</td><td style=\"text-align: left;\">NM_005572.4:c.585C>A (heterozygous)</td><td style=\"text-align: left;\">Atrial fibrillation (HP:0005110); Dilated cardiomyopathy (HP:0001644); excluded: Elevated circulating creatine kinase concentration (HP:0003236); excluded: Sudden cardiac death (HP:0001645); excluded: Progeroid facial appearance (HP:0005328); excluded: Lipodystrophy (HP:0009125)</td></tr>\n",
       "<tr><td style=\"text-align: left;\">B_IV-16 (FEMALE; n/a)</td><td style=\"text-align: left;\">Cardiomyopathy, dilated, 1A (OMIM:115200)</td><td style=\"text-align: left;\">NM_005572.4:c.585C>A (heterozygous)</td><td style=\"text-align: left;\">Atrial fibrillation (HP:0005110); Second degree atrioventricular block (HP:0011706); excluded: Dilated cardiomyopathy (HP:0001644); excluded: Elevated circulating creatine kinase concentration (HP:0003236); excluded: Sudden cardiac death (HP:0001645); excluded: Progeroid facial appearance (HP:0005328); excluded: Lipodystrophy (HP:0009125)</td></tr>\n",
       "<tr><td style=\"text-align: left;\">B_V-1 (MALE; n/a)</td><td style=\"text-align: left;\">Cardiomyopathy, dilated, 1A (OMIM:115200)</td><td style=\"text-align: left;\">NM_005572.4:c.585C>A (heterozygous)</td><td style=\"text-align: left;\">Atrial fibrillation (HP:0005110); Dilated cardiomyopathy (HP:0001644); Sudden cardiac death (HP:0001645); Abnormal atrioventricular conduction (HP:0005150); excluded: Elevated circulating creatine kinase concentration (HP:0003236); excluded: Progeroid facial appearance (HP:0005328); excluded: Lipodystrophy (HP:0009125)</td></tr>\n",
       "<tr><td style=\"text-align: left;\">B_V-2 (MALE; n/a)</td><td style=\"text-align: left;\">Cardiomyopathy, dilated, 1A (OMIM:115200)</td><td style=\"text-align: left;\">NM_005572.4:c.585C>A (heterozygous)</td><td style=\"text-align: left;\">Sinus bradycardia (HP:0001688); excluded: Atrial fibrillation (HP:0005110); excluded: Dilated cardiomyopathy (HP:0001644); excluded: Sudden cardiac death (HP:0001645); excluded: Progeroid facial appearance (HP:0005328); excluded: Lipodystrophy (HP:0009125)</td></tr>\n",
       "<tr><td style=\"text-align: left;\">C_II-1 (FEMALE; n/a)</td><td style=\"text-align: left;\">Cardiomyopathy, dilated, 1A (OMIM:115200)</td><td style=\"text-align: left;\">NM_005572.4:c.254T>G (heterozygous)</td><td style=\"text-align: left;\">Atrial fibrillation (HP:0005110); Dilated cardiomyopathy (HP:0001644); Abnormal atrioventricular conduction (HP:0005150); excluded: Elevated circulating creatine kinase concentration (HP:0003236); excluded: Sudden cardiac death (HP:0001645); excluded: Progeroid facial appearance (HP:0005328); excluded: Lipodystrophy (HP:0009125)</td></tr>\n",
       "<tr><td style=\"text-align: left;\">C_II-2 (FEMALE; n/a)</td><td style=\"text-align: left;\">Cardiomyopathy, dilated, 1A (OMIM:115200)</td><td style=\"text-align: left;\">NM_005572.4:c.254T>G (heterozygous)</td><td style=\"text-align: left;\">Atrial fibrillation (HP:0005110); Dilated cardiomyopathy (HP:0001644); Sudden cardiac death (HP:0001645); Abnormal atrioventricular conduction (HP:0005150); excluded: Progeroid facial appearance (HP:0005328); excluded: Lipodystrophy (HP:0009125)</td></tr>\n",
       "<tr><td style=\"text-align: left;\">C_II-4 (FEMALE; n/a)</td><td style=\"text-align: left;\">Cardiomyopathy, dilated, 1A (OMIM:115200)</td><td style=\"text-align: left;\">NM_005572.4:c.254T>G (heterozygous)</td><td style=\"text-align: left;\">Atrial fibrillation (HP:0005110); Dilated cardiomyopathy (HP:0001644); Sudden cardiac death (HP:0001645); Abnormal atrioventricular conduction (HP:0005150); excluded: Progeroid facial appearance (HP:0005328); excluded: Lipodystrophy (HP:0009125)</td></tr>\n",
       "<tr><td style=\"text-align: left;\">C_III-2 (MALE; n/a)</td><td style=\"text-align: left;\">Cardiomyopathy, dilated, 1A (OMIM:115200)</td><td style=\"text-align: left;\">NM_005572.4:c.254T>G (heterozygous)</td><td style=\"text-align: left;\">Abnormal atrioventricular conduction (HP:0005150); Dilated cardiomyopathy (HP:0001644); Congestive heart failure (HP:0001635); Atrial fibrillation (HP:0005110); excluded: Elevated circulating creatine kinase concentration (HP:0003236); excluded: Sudden cardiac death (HP:0001645); excluded: Progeroid facial appearance (HP:0005328); excluded: Lipodystrophy (HP:0009125)</td></tr>\n",
       "<tr><td style=\"text-align: left;\">C_III-4 (MALE; n/a)</td><td style=\"text-align: left;\">Cardiomyopathy, dilated, 1A (OMIM:115200)</td><td style=\"text-align: left;\">NM_005572.4:c.254T>G (heterozygous)</td><td style=\"text-align: left;\">Dilated cardiomyopathy (HP:0001644); Congestive heart failure (HP:0001635); Atrial fibrillation (HP:0005110); excluded: Elevated circulating creatine kinase concentration (HP:0003236); excluded: Sudden cardiac death (HP:0001645); excluded: Progeroid facial appearance (HP:0005328); excluded: Lipodystrophy (HP:0009125)</td></tr>\n",
       "<tr><td style=\"text-align: left;\">D_II-1 (MALE; n/a)</td><td style=\"text-align: left;\">Cardiomyopathy, dilated, 1A (OMIM:115200)</td><td style=\"text-align: left;\">NM_005572.4:c.178C>G (heterozygous)</td><td style=\"text-align: left;\">Dilated cardiomyopathy (HP:0001644); Sudden cardiac death (HP:0001645); Congestive heart failure (HP:0001635); Abnormal atrioventricular conduction (HP:0005150); excluded: Atrial fibrillation (HP:0005110); excluded: Progeroid facial appearance (HP:0005328); excluded: Lipodystrophy (HP:0009125)</td></tr>\n",
       "<tr><td style=\"text-align: left;\">D_II-4 (FEMALE; n/a)</td><td style=\"text-align: left;\">Cardiomyopathy, dilated, 1A (OMIM:115200)</td><td style=\"text-align: left;\">NM_005572.4:c.178C>G (heterozygous)</td><td style=\"text-align: left;\">Sudden cardiac death (HP:0001645); excluded: Atrial fibrillation (HP:0005110); excluded: Dilated cardiomyopathy (HP:0001644); excluded: Progeroid facial appearance (HP:0005328); excluded: Lipodystrophy (HP:0009125)</td></tr>\n",
       "<tr><td style=\"text-align: left;\">D_II-5 (MALE; n/a)</td><td style=\"text-align: left;\">Cardiomyopathy, dilated, 1A (OMIM:115200)</td><td style=\"text-align: left;\">NM_005572.4:c.178C>G (heterozygous)</td><td style=\"text-align: left;\">Abnormal atrioventricular conduction (HP:0005150); excluded: Atrial fibrillation (HP:0005110); excluded: Dilated cardiomyopathy (HP:0001644); excluded: Progeroid facial appearance (HP:0005328); excluded: Lipodystrophy (HP:0009125)</td></tr>\n",
       "<tr><td style=\"text-align: left;\">D_III-2 (FEMALE; n/a)</td><td style=\"text-align: left;\">Cardiomyopathy, dilated, 1A (OMIM:115200)</td><td style=\"text-align: left;\">NM_005572.4:c.178C>G (heterozygous)</td><td style=\"text-align: left;\">Dilated cardiomyopathy (HP:0001644); Congestive heart failure (HP:0001635); Sinus bradycardia (HP:0001688); Abnormal atrioventricular conduction (HP:0005150); excluded: Atrial fibrillation (HP:0005110); excluded: Elevated circulating creatine kinase concentration (HP:0003236); excluded: Progeroid facial appearance (HP:0005328); excluded: Lipodystrophy (HP:0009125)</td></tr>\n",
       "<tr><td style=\"text-align: left;\">D_III-3 (MALE; n/a)</td><td style=\"text-align: left;\">Cardiomyopathy, dilated, 1A (OMIM:115200)</td><td style=\"text-align: left;\">NM_005572.4:c.178C>G (heterozygous)</td><td style=\"text-align: left;\">Dilated cardiomyopathy (HP:0001644); Congestive heart failure (HP:0001635); Third degree atrioventricular block (HP:0001709); excluded: Atrial fibrillation (HP:0005110); excluded: Elevated circulating creatine kinase concentration (HP:0003236); excluded: Progeroid facial appearance (HP:0005328); excluded: Lipodystrophy (HP:0009125)</td></tr>\n",
       "<tr><td style=\"text-align: left;\">D_III-6 (FEMALE; n/a)</td><td style=\"text-align: left;\">Cardiomyopathy, dilated, 1A (OMIM:115200)</td><td style=\"text-align: left;\">NM_005572.4:c.178C>G (heterozygous)</td><td style=\"text-align: left;\">Dilated cardiomyopathy (HP:0001644); Third degree atrioventricular block (HP:0001709); excluded: Atrial fibrillation (HP:0005110); excluded: Elevated circulating creatine kinase concentration (HP:0003236); excluded: Progeroid facial appearance (HP:0005328); excluded: Lipodystrophy (HP:0009125)</td></tr>\n",
       "<tr><td style=\"text-align: left;\">D_III-7 (MALE; n/a)</td><td style=\"text-align: left;\">Cardiomyopathy, dilated, 1A (OMIM:115200)</td><td style=\"text-align: left;\">NM_005572.4:c.178C>G (heterozygous)</td><td style=\"text-align: left;\">Atrial fibrillation (HP:0005110); Abnormal atrioventricular conduction (HP:0005150); excluded: Dilated cardiomyopathy (HP:0001644); excluded: Elevated circulating creatine kinase concentration (HP:0003236); excluded: Progeroid facial appearance (HP:0005328); excluded: Lipodystrophy (HP:0009125)</td></tr>\n",
       "<tr><td style=\"text-align: left;\">E_II-2 (FEMALE; n/a)</td><td style=\"text-align: left;\">Cardiomyopathy, dilated, 1A (OMIM:115200)</td><td style=\"text-align: left;\">NM_005572.4:c.608A>G (heterozygous)</td><td style=\"text-align: left;\">Atrial fibrillation (HP:0005110); Dilated cardiomyopathy (HP:0001644); Stroke (HP:0001297); Second degree atrioventricular block (HP:0011706); excluded: Elevated circulating creatine kinase concentration (HP:0003236); excluded: Sudden cardiac death (HP:0001645); excluded: Progeroid facial appearance (HP:0005328); excluded: Lipodystrophy (HP:0009125)</td></tr>\n",
       "<tr><td style=\"text-align: left;\">E_II-4 (FEMALE; n/a)</td><td style=\"text-align: left;\">Cardiomyopathy, dilated, 1A (OMIM:115200)</td><td style=\"text-align: left;\">NM_005572.4:c.608A>G (heterozygous)</td><td style=\"text-align: left;\">Abnormal atrioventricular conduction (HP:0005150); Dilated cardiomyopathy (HP:0001644); Congestive heart failure (HP:0001635); Atrial fibrillation (HP:0005110); excluded: Progeroid facial appearance (HP:0005328); excluded: Lipodystrophy (HP:0009125)</td></tr>\n",
       "<tr><td style=\"text-align: left;\">E_II-6 (FEMALE; n/a)</td><td style=\"text-align: left;\">Cardiomyopathy, dilated, 1A (OMIM:115200)</td><td style=\"text-align: left;\">NM_005572.4:c.608A>G (heterozygous)</td><td style=\"text-align: left;\">Atrial fibrillation (HP:0005110); Dilated cardiomyopathy (HP:0001644); Sudden cardiac death (HP:0001645); Abnormal atrioventricular conduction (HP:0005150); excluded: Progeroid facial appearance (HP:0005328); excluded: Lipodystrophy (HP:0009125)</td></tr>\n",
       "<tr><td style=\"text-align: left;\">E_II-8 (MALE; n/a)</td><td style=\"text-align: left;\">Cardiomyopathy, dilated, 1A (OMIM:115200)</td><td style=\"text-align: left;\">NM_005572.4:c.608A>G (heterozygous)</td><td style=\"text-align: left;\">Atrial fibrillation (HP:0005110); Dilated cardiomyopathy (HP:0001644); Sudden cardiac death (HP:0001645); Congestive heart failure (HP:0001635); Second degree atrioventricular block (HP:0011706); excluded: Elevated circulating creatine kinase concentration (HP:0003236); excluded: Progeroid facial appearance (HP:0005328); excluded: Lipodystrophy (HP:0009125)</td></tr>\n",
       "<tr><td style=\"text-align: left;\">E_II-9 (MALE; n/a)</td><td style=\"text-align: left;\">Cardiomyopathy, dilated, 1A (OMIM:115200)</td><td style=\"text-align: left;\">NM_005572.4:c.608A>G (heterozygous)</td><td style=\"text-align: left;\">Dilated cardiomyopathy (HP:0001644); Congestive heart failure (HP:0001635); Stroke (HP:0001297); Abnormal atrioventricular conduction (HP:0005150); excluded: Atrial fibrillation (HP:0005110); excluded: Progeroid facial appearance (HP:0005328); excluded: Lipodystrophy (HP:0009125)</td></tr>\n",
       "<tr><td style=\"text-align: left;\">E_III-1 (FEMALE; n/a)</td><td style=\"text-align: left;\">Cardiomyopathy, dilated, 1A (OMIM:115200)</td><td style=\"text-align: left;\">NM_005572.4:c.608A>G (heterozygous)</td><td style=\"text-align: left;\">First degree atrioventricular block (HP:0011705); excluded: Atrial fibrillation (HP:0005110); excluded: Dilated cardiomyopathy (HP:0001644); excluded: Elevated circulating creatine kinase concentration (HP:0003236); excluded: Progeroid facial appearance (HP:0005328); excluded: Lipodystrophy (HP:0009125)</td></tr>\n",
       "<tr><td style=\"text-align: left;\">E_III-4 (MALE; n/a)</td><td style=\"text-align: left;\">Cardiomyopathy, dilated, 1A (OMIM:115200)</td><td style=\"text-align: left;\">NM_005572.4:c.608A>G (heterozygous)</td><td style=\"text-align: left;\">First degree atrioventricular block (HP:0011705); excluded: Atrial fibrillation (HP:0005110); excluded: Dilated cardiomyopathy (HP:0001644); excluded: Progeroid facial appearance (HP:0005328); excluded: Lipodystrophy (HP:0009125)</td></tr>\n",
       "<tr><td style=\"text-align: left;\">E_III-8 (MALE; n/a)</td><td style=\"text-align: left;\">Cardiomyopathy, dilated, 1A (OMIM:115200)</td><td style=\"text-align: left;\">NM_005572.4:c.608A>G (heterozygous)</td><td style=\"text-align: left;\">First degree atrioventricular block (HP:0011705); excluded: Atrial fibrillation (HP:0005110); excluded: Dilated cardiomyopathy (HP:0001644); excluded: Progeroid facial appearance (HP:0005328); excluded: Lipodystrophy (HP:0009125)</td></tr>\n",
       "</table>"
      ],
      "text/plain": [
       "<IPython.core.display.HTML object>"
      ]
     },
     "metadata": {},
     "output_type": "display_data"
    }
   ],
   "source": [
    "individuals = cvalidator.get_error_free_individual_list()\n",
    "phenopackets = [i.to_ga4gh_phenopacket(metadata=metadata.to_ga4gh()) for i in individuals]\n",
    "table = PhenopacketTable(phenopacket_list=phenopackets)\n",
    "display(HTML(table.to_html()))"
   ]
  },
  {
   "cell_type": "code",
   "execution_count": 20,
   "id": "eebb4844-9204-403b-9118-069e8d97b573",
   "metadata": {},
   "outputs": [
    {
     "name": "stdout",
     "output_type": "stream",
     "text": [
      "We output 39 GA4GH phenopackets to the directory phenopackets\n"
     ]
    }
   ],
   "source": [
    "Individual.output_individuals_as_phenopackets(individual_list=individuals, metadata=metadata)"
   ]
  },
  {
   "cell_type": "code",
   "execution_count": null,
   "id": "61171a65-1148-4bb7-bd0f-568481709cbc",
   "metadata": {},
   "outputs": [],
   "source": []
  }
 ],
 "metadata": {
  "kernelspec": {
   "display_name": "ps24venv",
   "language": "python",
   "name": "ps24venv"
  },
  "language_info": {
   "codemirror_mode": {
    "name": "ipython",
    "version": 3
   },
   "file_extension": ".py",
   "mimetype": "text/x-python",
   "name": "python",
   "nbconvert_exporter": "python",
   "pygments_lexer": "ipython3",
   "version": "3.8.10"
  }
 },
 "nbformat": 4,
 "nbformat_minor": 5
}
