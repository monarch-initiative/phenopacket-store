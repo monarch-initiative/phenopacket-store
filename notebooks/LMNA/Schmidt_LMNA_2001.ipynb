{
 "cells": [
  {
   "cell_type": "markdown",
   "id": "fbcafc7e-fa0d-4a18-bdca-4982ddc52466",
   "metadata": {},
   "source": [
    "# LMNA Lipodystrophy, familial partial, type 2\n",
    "\n",
    "Data derived from \n",
    "Data extracted from [Schmidt HH, et al. (2001) Dyslipemia in familial partial lipodystrophy caused by an R482W mutation in the LMNA gene. J Clin Endocrinol Metab. 86(5):2289-95.  PMID:11344241](https://pubmed.ncbi.nlm.nih.gov/11344241/)\n",
    "\n",
    "The authors write:\n",
    "The affected adult patients of this family characteristically present in the sequence of appearance with loss of sc fat of the extremities, muscular hypertrophy especially of the lower legs, acanthosis nigricans, severe hypertriglyceridemia, and insulin-resistant diabetes mellitus. Remarkably, affected members of this family present with severe myalgia, especially after exercise.\n",
    "See also the clinical vignette.\n",
    "\n",
    "Here, we created phenopackets for the three adults members of the family for whome detailed clinical information is available. We do not code hyperinsulinemia because it is available only for the proband.\n"
   ]
  },
  {
   "cell_type": "code",
   "execution_count": 16,
   "id": "4ad37b9c-e6ec-428a-928e-69895361e688",
   "metadata": {},
   "outputs": [
    {
     "name": "stdout",
     "output_type": "stream",
     "text": [
      "Using pyphetools version 0.9.65\n"
     ]
    }
   ],
   "source": [
    "import pandas as pd\n",
    "pd.set_option('display.max_colwidth', None) # show entire column contents, important!\n",
    "from IPython.display import display, HTML\n",
    "from pyphetools.creation import *\n",
    "from pyphetools.visualization import *\n",
    "from pyphetools.validation import *\n",
    "import pyphetools\n",
    "print(f\"Using pyphetools version {pyphetools.__version__}\")"
   ]
  },
  {
   "cell_type": "code",
   "execution_count": 17,
   "id": "8596b920-a5f8-43f1-88d9-1f44ee54371e",
   "metadata": {},
   "outputs": [
    {
     "name": "stdout",
     "output_type": "stream",
     "text": [
      "HPO version 2024-02-27\n"
     ]
    }
   ],
   "source": [
    "PMID = \"PMID:11344241\"\n",
    "title = \"Dyslipemia in familial partial lipodystrophy caused by an R482W mutation in the LMNA gene\"\n",
    "cite = Citation(pmid=PMID, title=title)\n",
    "parser = HpoParser(\"../hp.json\")\n",
    "hpo_cr = parser.get_hpo_concept_recognizer()\n",
    "hpo_version = parser.get_version()\n",
    "hpo_ontology = parser.get_ontology()\n",
    "metadata = MetaData(created_by=\"ORCID:0000-0002-5648-2155\", citation=cite)\n",
    "metadata.default_versions_with_hpo(version=hpo_version)\n",
    "print(f\"HPO version {hpo_version}\")"
   ]
  },
  {
   "cell_type": "code",
   "execution_count": 18,
   "id": "0edfc034-e900-4f42-adda-4272612aa502",
   "metadata": {},
   "outputs": [
    {
     "data": {
      "text/html": [
       "<div>\n",
       "<style scoped>\n",
       "    .dataframe tbody tr th:only-of-type {\n",
       "        vertical-align: middle;\n",
       "    }\n",
       "\n",
       "    .dataframe tbody tr th {\n",
       "        vertical-align: top;\n",
       "    }\n",
       "\n",
       "    .dataframe thead th {\n",
       "        text-align: right;\n",
       "    }\n",
       "</style>\n",
       "<table border=\"1\" class=\"dataframe\">\n",
       "  <thead>\n",
       "    <tr style=\"text-align: right;\">\n",
       "      <th></th>\n",
       "      <th>Pedigree</th>\n",
       "      <th>Age</th>\n",
       "      <th>Sex</th>\n",
       "      <th>BMI</th>\n",
       "      <th>R482W</th>\n",
       "      <th>Cholesterol</th>\n",
       "      <th>TG</th>\n",
       "      <th>LDL-C</th>\n",
       "      <th>VLDL-C</th>\n",
       "      <th>HDL-C</th>\n",
       "      <th>Lp(a)</th>\n",
       "      <th>ApoE</th>\n",
       "      <th>HLP</th>\n",
       "      <th>Diabetes</th>\n",
       "      <th>Clinical features</th>\n",
       "    </tr>\n",
       "  </thead>\n",
       "  <tbody>\n",
       "    <tr>\n",
       "      <th>0</th>\n",
       "      <td>II-2</td>\n",
       "      <td>49</td>\n",
       "      <td>F</td>\n",
       "      <td>ND</td>\n",
       "      <td>1</td>\n",
       "      <td>267</td>\n",
       "      <td>1572</td>\n",
       "      <td>101</td>\n",
       "      <td>151</td>\n",
       "      <td>25</td>\n",
       "      <td>ND</td>\n",
       "      <td>ND</td>\n",
       "      <td>V</td>\n",
       "      <td>Yes</td>\n",
       "      <td>died at the age of 49 yr due to a myocardial infarction.  hypertriglyceridemia, diabetes mellitus,  acanthosis nigricans, myalgia , muscle hypertrophy,Loss of subcutaneous adipose tissue in limbs,Muscle hypertrophy of the lower extremities, Exercise-induced myalgia</td>\n",
       "    </tr>\n",
       "    <tr>\n",
       "      <th>1</th>\n",
       "      <td>III-2</td>\n",
       "      <td>36</td>\n",
       "      <td>F</td>\n",
       "      <td>26.3</td>\n",
       "      <td>1</td>\n",
       "      <td>603</td>\n",
       "      <td>3141</td>\n",
       "      <td>227</td>\n",
       "      <td>349</td>\n",
       "      <td>27</td>\n",
       "      <td>4</td>\n",
       "      <td>3-Feb</td>\n",
       "      <td>V</td>\n",
       "      <td>Yes</td>\n",
       "      <td>muscle hypertrophy, especially of the lower legs, generalized lipodystrophy sparing the face and neck,\\tof the lower legs, generalized lipodystrophy sparing the face and neck,\\tsevere myalgia of the lower extremities on exercise and at rest, acanthosis nigricans involving the axillar region, severe hypertriglyceridemia, with episodes of eruptive xanthoma, and insulin-resistant diabetes mellitus, eruptive xanthomas,splenomegaly, hepatomegaly,carpal tunnel syndrome,Loss of subcutaneous adipose tissue in limbs,Muscle hypertrophy of the lower extremities,acanthosis nigricans,Exercise-induced myalgia</td>\n",
       "    </tr>\n",
       "  </tbody>\n",
       "</table>\n",
       "</div>"
      ],
      "text/plain": [
       "  Pedigree  Age Sex   BMI  R482W  Cholesterol    TG  LDL-C  VLDL-C  HDL-C  \\\n",
       "0     II-2   49   F    ND      1          267  1572    101     151     25   \n",
       "1    III-2   36   F  26.3      1          603  3141    227     349     27   \n",
       "\n",
       "  Lp(a)   ApoE HLP Diabetes  \\\n",
       "0    ND     ND   V      Yes   \n",
       "1     4  3-Feb   V      Yes   \n",
       "\n",
       "                                                                                                                                                                                                                                                                                                                                                                                                                                                                                                                                                                                                            Clinical features  \n",
       "0                                                                                                                                                                                                                                                                                                                                                   died at the age of 49 yr due to a myocardial infarction.  hypertriglyceridemia, diabetes mellitus,  acanthosis nigricans, myalgia , muscle hypertrophy,Loss of subcutaneous adipose tissue in limbs,Muscle hypertrophy of the lower extremities, Exercise-induced myalgia  \n",
       "1  muscle hypertrophy, especially of the lower legs, generalized lipodystrophy sparing the face and neck,\\tof the lower legs, generalized lipodystrophy sparing the face and neck,\\tsevere myalgia of the lower extremities on exercise and at rest, acanthosis nigricans involving the axillar region, severe hypertriglyceridemia, with episodes of eruptive xanthoma, and insulin-resistant diabetes mellitus, eruptive xanthomas,splenomegaly, hepatomegaly,carpal tunnel syndrome,Loss of subcutaneous adipose tissue in limbs,Muscle hypertrophy of the lower extremities,acanthosis nigricans,Exercise-induced myalgia  "
      ]
     },
     "execution_count": 18,
     "metadata": {},
     "output_type": "execute_result"
    }
   ],
   "source": [
    "df = pd.read_csv(\"input/Schmidt_LMNA_2001.tsv\", sep='\\t');\n",
    "df.head(2)"
   ]
  },
  {
   "cell_type": "code",
   "execution_count": 19,
   "id": "2003e02b-a071-4493-9938-efdb633a4aae",
   "metadata": {},
   "outputs": [],
   "source": [
    "#res = OptionColumnMapper.autoformat(df=df, concept_recognizer=hpo_cr)\n",
    "#print(res)\n",
    "column_mapper_list = list()"
   ]
  },
  {
   "cell_type": "code",
   "execution_count": 20,
   "id": "1d79c918-faeb-4b80-ad9b-5a92b7ed6d7d",
   "metadata": {},
   "outputs": [
    {
     "data": {
      "text/html": [
       "<div>\n",
       "<style scoped>\n",
       "    .dataframe tbody tr th:only-of-type {\n",
       "        vertical-align: middle;\n",
       "    }\n",
       "\n",
       "    .dataframe tbody tr th {\n",
       "        vertical-align: top;\n",
       "    }\n",
       "\n",
       "    .dataframe thead th {\n",
       "        text-align: right;\n",
       "    }\n",
       "</style>\n",
       "<table border=\"1\" class=\"dataframe\">\n",
       "  <thead>\n",
       "    <tr style=\"text-align: right;\">\n",
       "      <th></th>\n",
       "      <th>mapping</th>\n",
       "      <th>count</th>\n",
       "    </tr>\n",
       "  </thead>\n",
       "  <tbody>\n",
       "    <tr>\n",
       "      <th>0</th>\n",
       "      <td>Hypercholesterolemia (HP:0003124) (observed)</td>\n",
       "      <td>3</td>\n",
       "    </tr>\n",
       "  </tbody>\n",
       "</table>\n",
       "</div>"
      ],
      "text/plain": [
       "                                        mapping count\n",
       "0  Hypercholesterolemia (HP:0003124) (observed)     3"
      ]
     },
     "execution_count": 20,
     "metadata": {},
     "output_type": "execute_result"
    }
   ],
   "source": [
    "cholesterol_d = {'267': 'Hypercholesterolemia',\n",
    " '603': 'Hypercholesterolemia',\n",
    " '244': 'Hypercholesterolemia',\n",
    " '222': 'Hypercholesterolemia',\n",
    "}\n",
    "cholesterolMapper = OptionColumnMapper(column_name='Cholesterol',concept_recognizer=hpo_cr, option_d=cholesterol_d)\n",
    "column_mapper_list.append(cholesterolMapper)\n",
    "cholesterolMapper.preview_column(df)"
   ]
  },
  {
   "cell_type": "code",
   "execution_count": 21,
   "id": "0fa08396-054a-412f-b86e-74773f070309",
   "metadata": {},
   "outputs": [
    {
     "data": {
      "text/html": [
       "<div>\n",
       "<style scoped>\n",
       "    .dataframe tbody tr th:only-of-type {\n",
       "        vertical-align: middle;\n",
       "    }\n",
       "\n",
       "    .dataframe tbody tr th {\n",
       "        vertical-align: top;\n",
       "    }\n",
       "\n",
       "    .dataframe thead th {\n",
       "        text-align: right;\n",
       "    }\n",
       "</style>\n",
       "<table border=\"1\" class=\"dataframe\">\n",
       "  <thead>\n",
       "    <tr style=\"text-align: right;\">\n",
       "      <th></th>\n",
       "      <th>mapping</th>\n",
       "      <th>count</th>\n",
       "    </tr>\n",
       "  </thead>\n",
       "  <tbody>\n",
       "    <tr>\n",
       "      <th>0</th>\n",
       "      <td>Hypertriglyceridemia (HP:0002155) (observed)</td>\n",
       "      <td>3</td>\n",
       "    </tr>\n",
       "  </tbody>\n",
       "</table>\n",
       "</div>"
      ],
      "text/plain": [
       "                                        mapping count\n",
       "0  Hypertriglyceridemia (HP:0002155) (observed)     3"
      ]
     },
     "execution_count": 21,
     "metadata": {},
     "output_type": "execute_result"
    }
   ],
   "source": [
    "tg_d = {'1572': 'Hypertriglyceridemia',\n",
    " '3141': 'Hypertriglyceridemia',\n",
    " '1235': 'Hypertriglyceridemia',\n",
    " '223': 'Hypertriglyceridemia',}\n",
    "tgMapper = OptionColumnMapper(column_name='TG',concept_recognizer=hpo_cr, option_d=tg_d)\n",
    "column_mapper_list.append(tgMapper)\n",
    "tgMapper.preview_column(df)"
   ]
  },
  {
   "cell_type": "code",
   "execution_count": 22,
   "id": "da5e15a1-8140-472a-9091-ceada7086a2f",
   "metadata": {},
   "outputs": [
    {
     "data": {
      "text/html": [
       "<div>\n",
       "<style scoped>\n",
       "    .dataframe tbody tr th:only-of-type {\n",
       "        vertical-align: middle;\n",
       "    }\n",
       "\n",
       "    .dataframe tbody tr th {\n",
       "        vertical-align: top;\n",
       "    }\n",
       "\n",
       "    .dataframe thead th {\n",
       "        text-align: right;\n",
       "    }\n",
       "</style>\n",
       "<table border=\"1\" class=\"dataframe\">\n",
       "  <thead>\n",
       "    <tr style=\"text-align: right;\">\n",
       "      <th></th>\n",
       "      <th>mapping</th>\n",
       "      <th>count</th>\n",
       "    </tr>\n",
       "  </thead>\n",
       "  <tbody>\n",
       "    <tr>\n",
       "      <th>0</th>\n",
       "      <td>Increased LDL cholesterol concentration (HP:0003141) (observed)</td>\n",
       "      <td>1</td>\n",
       "    </tr>\n",
       "  </tbody>\n",
       "</table>\n",
       "</div>"
      ],
      "text/plain": [
       "                                                           mapping count\n",
       "0  Increased LDL cholesterol concentration (HP:0003141) (observed)     1"
      ]
     },
     "execution_count": 22,
     "metadata": {},
     "output_type": "execute_result"
    }
   ],
   "source": [
    "# 100 und 129 mg/dl\n",
    "ldl_d = {\n",
    " '227': 'Increased LDL cholesterol concentration',\n",
    " '142': 'Increased LDL cholesterol concentration',\n",
    "}\n",
    "ldlMapper = OptionColumnMapper(column_name='LDL-C',concept_recognizer=hpo_cr, option_d=ldl_d)\n",
    "column_mapper_list.append(ldlMapper)\n",
    "ldlMapper.preview_column(df)"
   ]
  },
  {
   "cell_type": "code",
   "execution_count": 23,
   "id": "76072316-c370-4f20-8152-eaec0f34a116",
   "metadata": {},
   "outputs": [
    {
     "data": {
      "text/html": [
       "<div>\n",
       "<style scoped>\n",
       "    .dataframe tbody tr th:only-of-type {\n",
       "        vertical-align: middle;\n",
       "    }\n",
       "\n",
       "    .dataframe tbody tr th {\n",
       "        vertical-align: top;\n",
       "    }\n",
       "\n",
       "    .dataframe thead th {\n",
       "        text-align: right;\n",
       "    }\n",
       "</style>\n",
       "<table border=\"1\" class=\"dataframe\">\n",
       "  <thead>\n",
       "    <tr style=\"text-align: right;\">\n",
       "      <th></th>\n",
       "      <th>mapping</th>\n",
       "      <th>count</th>\n",
       "    </tr>\n",
       "  </thead>\n",
       "  <tbody>\n",
       "    <tr>\n",
       "      <th>0</th>\n",
       "      <td>Increased VLDL cholesterol concentration (HP:0003362) (observed)</td>\n",
       "      <td>3</td>\n",
       "    </tr>\n",
       "  </tbody>\n",
       "</table>\n",
       "</div>"
      ],
      "text/plain": [
       "                                                            mapping count\n",
       "0  Increased VLDL cholesterol concentration (HP:0003362) (observed)     3"
      ]
     },
     "execution_count": 23,
     "metadata": {},
     "output_type": "execute_result"
    }
   ],
   "source": [
    "# < 30 mg/dl\n",
    "vldl_d = {'151': 'Increased VLDL cholesterol concentration',\n",
    " '349': 'Increased VLDL cholesterol concentration',\n",
    " '120': 'Increased VLDL cholesterol concentration',\n",
    "}\n",
    "vldlMapper = OptionColumnMapper(column_name='VLDL-C',concept_recognizer=hpo_cr, option_d=vldl_d)\n",
    "column_mapper_list.append(vldlMapper)\n",
    "vldlMapper.preview_column(df)"
   ]
  },
  {
   "cell_type": "code",
   "execution_count": 24,
   "id": "78034214-e0ec-4242-853c-4743e5e4d4d0",
   "metadata": {},
   "outputs": [
    {
     "data": {
      "text/html": [
       "<div>\n",
       "<style scoped>\n",
       "    .dataframe tbody tr th:only-of-type {\n",
       "        vertical-align: middle;\n",
       "    }\n",
       "\n",
       "    .dataframe tbody tr th {\n",
       "        vertical-align: top;\n",
       "    }\n",
       "\n",
       "    .dataframe thead th {\n",
       "        text-align: right;\n",
       "    }\n",
       "</style>\n",
       "<table border=\"1\" class=\"dataframe\">\n",
       "  <thead>\n",
       "    <tr style=\"text-align: right;\">\n",
       "      <th></th>\n",
       "      <th>mapping</th>\n",
       "      <th>count</th>\n",
       "    </tr>\n",
       "  </thead>\n",
       "  <tbody>\n",
       "    <tr>\n",
       "      <th>0</th>\n",
       "      <td>Decreased HDL cholesterol concentration (HP:0003233) (observed)</td>\n",
       "      <td>3</td>\n",
       "    </tr>\n",
       "  </tbody>\n",
       "</table>\n",
       "</div>"
      ],
      "text/plain": [
       "                                                           mapping count\n",
       "0  Decreased HDL cholesterol concentration (HP:0003233) (observed)     3"
      ]
     },
     "execution_count": 24,
     "metadata": {},
     "output_type": "execute_result"
    }
   ],
   "source": [
    "hdl_d = {'25': 'Decreased HDL cholesterol concentration',\n",
    " '27': 'Decreased HDL cholesterol concentration',\n",
    " '22': 'Decreased HDL cholesterol concentration',\n",
    " '41': 'Decreased HDL cholesterol concentration',\n",
    "}\n",
    "hdlMapper = OptionColumnMapper(column_name='HDL-C',concept_recognizer=hpo_cr, option_d=hdl_d)\n",
    "column_mapper_list.append(hdlMapper)\n",
    "hdlMapper.preview_column(df)"
   ]
  },
  {
   "cell_type": "code",
   "execution_count": 25,
   "id": "eb7818bd-c0b2-4632-9037-c11efc61169c",
   "metadata": {},
   "outputs": [],
   "source": [
    "# Lipoprotein lipase and hepatic lipase activities were normal."
   ]
  },
  {
   "cell_type": "code",
   "execution_count": 26,
   "id": "a8a31820-66f7-45ea-85d3-3ad027f60f49",
   "metadata": {},
   "outputs": [
    {
     "data": {
      "text/html": [
       "<div>\n",
       "<style scoped>\n",
       "    .dataframe tbody tr th:only-of-type {\n",
       "        vertical-align: middle;\n",
       "    }\n",
       "\n",
       "    .dataframe tbody tr th {\n",
       "        vertical-align: top;\n",
       "    }\n",
       "\n",
       "    .dataframe thead th {\n",
       "        text-align: right;\n",
       "    }\n",
       "</style>\n",
       "<table border=\"1\" class=\"dataframe\">\n",
       "  <thead>\n",
       "    <tr style=\"text-align: right;\">\n",
       "      <th></th>\n",
       "      <th>mapping</th>\n",
       "      <th>count</th>\n",
       "    </tr>\n",
       "  </thead>\n",
       "  <tbody>\n",
       "    <tr>\n",
       "      <th>0</th>\n",
       "      <td>original value: \"Yes\" -&gt; HP: Insulin-resistant diabetes mellitus (HP:0000831) (observed)</td>\n",
       "      <td>3</td>\n",
       "    </tr>\n",
       "  </tbody>\n",
       "</table>\n",
       "</div>"
      ],
      "text/plain": [
       "                                                                                    mapping  \\\n",
       "0  original value: \"Yes\" -> HP: Insulin-resistant diabetes mellitus (HP:0000831) (observed)   \n",
       "\n",
       "  count  \n",
       "0     3  "
      ]
     },
     "execution_count": 26,
     "metadata": {},
     "output_type": "execute_result"
    }
   ],
   "source": [
    "#Insulin-resistant diabetes mellitus. HP:0000831\n",
    "diabetesMapper = SimpleColumnMapper(column_name='Diabetes',\n",
    "                                    hpo_id=\"HP:0000831\", hpo_label=\"Insulin-resistant diabetes mellitus\", observed=\"Yes\", excluded=\"No\")\n",
    "column_mapper_list.append(diabetesMapper)\n",
    "diabetesMapper.preview_column(df)"
   ]
  },
  {
   "cell_type": "code",
   "execution_count": 27,
   "id": "08427184-0aff-40d8-92c7-badb876a8294",
   "metadata": {},
   "outputs": [
    {
     "data": {
      "text/html": [
       "<div>\n",
       "<style scoped>\n",
       "    .dataframe tbody tr th:only-of-type {\n",
       "        vertical-align: middle;\n",
       "    }\n",
       "\n",
       "    .dataframe tbody tr th {\n",
       "        vertical-align: top;\n",
       "    }\n",
       "\n",
       "    .dataframe thead th {\n",
       "        text-align: right;\n",
       "    }\n",
       "</style>\n",
       "<table border=\"1\" class=\"dataframe\">\n",
       "  <thead>\n",
       "    <tr style=\"text-align: right;\">\n",
       "      <th></th>\n",
       "      <th>mapping</th>\n",
       "      <th>count</th>\n",
       "    </tr>\n",
       "  </thead>\n",
       "  <tbody>\n",
       "    <tr>\n",
       "      <th>0</th>\n",
       "      <td>Hypertriglyceridemia (HP:0002155) (observed)</td>\n",
       "      <td>3</td>\n",
       "    </tr>\n",
       "    <tr>\n",
       "      <th>1</th>\n",
       "      <td>Diabetes mellitus (HP:0000819) (observed)</td>\n",
       "      <td>1</td>\n",
       "    </tr>\n",
       "    <tr>\n",
       "      <th>2</th>\n",
       "      <td>Acanthosis nigricans (HP:0000956) (observed)</td>\n",
       "      <td>5</td>\n",
       "    </tr>\n",
       "    <tr>\n",
       "      <th>3</th>\n",
       "      <td>Myalgia (HP:0003326) (observed)</td>\n",
       "      <td>3</td>\n",
       "    </tr>\n",
       "    <tr>\n",
       "      <th>4</th>\n",
       "      <td>Skeletal muscle hypertrophy (HP:0003712) (observed)</td>\n",
       "      <td>3</td>\n",
       "    </tr>\n",
       "    <tr>\n",
       "      <th>5</th>\n",
       "      <td>Loss of subcutaneous adipose tissue in limbs (HP:0003635) (observed)</td>\n",
       "      <td>3</td>\n",
       "    </tr>\n",
       "    <tr>\n",
       "      <th>6</th>\n",
       "      <td>Muscle hypertrophy of the lower extremities (HP:0008968) (observed)</td>\n",
       "      <td>3</td>\n",
       "    </tr>\n",
       "    <tr>\n",
       "      <th>7</th>\n",
       "      <td>Exercise-induced myalgia (HP:0003738) (observed)</td>\n",
       "      <td>3</td>\n",
       "    </tr>\n",
       "    <tr>\n",
       "      <th>8</th>\n",
       "      <td>Generalized lipodystrophy (HP:0009064) (observed)</td>\n",
       "      <td>2</td>\n",
       "    </tr>\n",
       "    <tr>\n",
       "      <th>9</th>\n",
       "      <td>Xanthelasma (HP:0001114) (observed)</td>\n",
       "      <td>1</td>\n",
       "    </tr>\n",
       "    <tr>\n",
       "      <th>10</th>\n",
       "      <td>Insulin-resistant diabetes mellitus (HP:0000831) (observed)</td>\n",
       "      <td>2</td>\n",
       "    </tr>\n",
       "    <tr>\n",
       "      <th>11</th>\n",
       "      <td>Eruptive xanthomas (HP:0001013) (observed)</td>\n",
       "      <td>2</td>\n",
       "    </tr>\n",
       "    <tr>\n",
       "      <th>12</th>\n",
       "      <td>Splenomegaly (HP:0001744) (observed)</td>\n",
       "      <td>2</td>\n",
       "    </tr>\n",
       "    <tr>\n",
       "      <th>13</th>\n",
       "      <td>Hepatomegaly (HP:0002240) (observed)</td>\n",
       "      <td>2</td>\n",
       "    </tr>\n",
       "    <tr>\n",
       "      <th>14</th>\n",
       "      <td>Constrictive median neuropathy (HP:0012185) (observed)</td>\n",
       "      <td>2</td>\n",
       "    </tr>\n",
       "  </tbody>\n",
       "</table>\n",
       "</div>"
      ],
      "text/plain": [
       "                                                                 mapping count\n",
       "0                           Hypertriglyceridemia (HP:0002155) (observed)     3\n",
       "1                              Diabetes mellitus (HP:0000819) (observed)     1\n",
       "2                           Acanthosis nigricans (HP:0000956) (observed)     5\n",
       "3                                        Myalgia (HP:0003326) (observed)     3\n",
       "4                    Skeletal muscle hypertrophy (HP:0003712) (observed)     3\n",
       "5   Loss of subcutaneous adipose tissue in limbs (HP:0003635) (observed)     3\n",
       "6    Muscle hypertrophy of the lower extremities (HP:0008968) (observed)     3\n",
       "7                       Exercise-induced myalgia (HP:0003738) (observed)     3\n",
       "8                      Generalized lipodystrophy (HP:0009064) (observed)     2\n",
       "9                                    Xanthelasma (HP:0001114) (observed)     1\n",
       "10           Insulin-resistant diabetes mellitus (HP:0000831) (observed)     2\n",
       "11                            Eruptive xanthomas (HP:0001013) (observed)     2\n",
       "12                                  Splenomegaly (HP:0001744) (observed)     2\n",
       "13                                  Hepatomegaly (HP:0002240) (observed)     2\n",
       "14                Constrictive median neuropathy (HP:0012185) (observed)     2"
      ]
     },
     "execution_count": 27,
     "metadata": {},
     "output_type": "execute_result"
    }
   ],
   "source": [
    "clinical_d = {'died at the age of 49 yr due to a myocardial infarction.  hypertriglyceridemia': 'Hypertriglyceridemia',\n",
    " 'diabetes mellitus': 'Diabetes mellitus',\n",
    " 'acanthosis nigricans': 'Acanthosis nigricans',\n",
    " 'myalgia': 'Myalgia',\n",
    " 'muscle hypertrophy': 'Skeletal muscle hypertrophy',\n",
    " 'Loss of subcutaneous adipose tissue in limbs': 'Loss of subcutaneous adipose tissue in limbs',\n",
    " 'Muscle hypertrophy of the lower extremities': 'Muscle hypertrophy of the lower extremities',\n",
    " 'Exercise-induced myalgia': 'Exercise-induced myalgia',\n",
    " 'generalized lipodystrophy sparing the face and neck': 'Generalized lipodystrophy',\n",
    " 'severe myalgia of the lower extremities on exercise and at rest': 'Myalgia',\n",
    " 'acanthosis nigricans involving the axillar region': 'Acanthosis nigricans',\n",
    " 'severe hypertriglyceridemia': 'Hypertriglyceridemia',\n",
    " 'with episodes of eruptive xanthoma': 'Xanthelasma',\n",
    " 'and insulin-resistant diabetes mellitus': 'Insulin-resistant diabetes mellitus',\n",
    " 'eruptive xanthomas': 'Eruptive xanthomas',\n",
    " 'splenomegaly': 'Splenomegaly',\n",
    " 'hepatomegaly': 'Hepatomegaly',\n",
    " 'carpal tunnel syndrome': 'Constrictive median neuropathy',\n",
    " 'hypertriglyceridemia': 'Hypertriglyceridemia',\n",
    " 'and insulin-resistant diabetes': 'Insulin-resistant diabetes mellitus'}\n",
    "clinicalMapper = OptionColumnMapper(column_name='Clinical features',concept_recognizer=hpo_cr, option_d=clinical_d)\n",
    "column_mapper_list.append(clinicalMapper)\n",
    "clinicalMapper.preview_column(df)"
   ]
  },
  {
   "cell_type": "code",
   "execution_count": 28,
   "id": "50761222-809b-4d9f-913f-c935f75adda0",
   "metadata": {},
   "outputs": [
    {
     "name": "stdout",
     "output_type": "stream",
     "text": [
      "https://rest.variantvalidator.org/VariantValidator/variantvalidator/hg38/NM_170707.4%3Ac.1444C>T/NM_170707.4?content-type=application%2Fjson\n"
     ]
    }
   ],
   "source": [
    "LMNA_transcript = \"NM_170707.4\"\n",
    "vvalidator = VariantValidator(genome_build=\"hg38\", transcript=LMNA_transcript)\n",
    "# We code R482W as NM_170707.4(LMNA):c.1444C>T (p.Arg482Trp)\n",
    "var = vvalidator.encode_hgvs(\"c.1444C>T\")\n",
    "var.set_heterozygous()"
   ]
  },
  {
   "cell_type": "code",
   "execution_count": 29,
   "id": "de7ec118-40d8-46cf-8310-d69aad122e3f",
   "metadata": {},
   "outputs": [],
   "source": [
    "ageMapper = AgeColumnMapper.by_year(column_name=\"Age\")\n",
    "sexMapper = SexColumnMapper(male_symbol=\"M\", female_symbol=\"F\", column_name=\"Sex\")"
   ]
  },
  {
   "cell_type": "code",
   "execution_count": 30,
   "id": "cd244ab0-7d9b-4e9f-9b2f-685dcf1a02e4",
   "metadata": {},
   "outputs": [],
   "source": [
    "encoder = CohortEncoder(df=df, \n",
    "                        hpo_cr=hpo_cr, \n",
    "                        column_mapper_list=column_mapper_list, \n",
    "                        individual_column_name=\"Pedigree\", \n",
    "                        age_at_last_encounter_mapper=ageMapper, \n",
    "                        sexmapper=sexMapper,\n",
    "                        metadata=metadata)\n",
    "\n",
    "LDF2 = Disease(disease_id='OMIM:151660', disease_label='Lipodystrophy, familial partial, type 2')\n",
    "encoder.set_disease(LDF2)"
   ]
  },
  {
   "cell_type": "code",
   "execution_count": 31,
   "id": "ef7c6d4b-8d4d-405f-8415-eb28975f8351",
   "metadata": {},
   "outputs": [],
   "source": [
    "individuals = encoder.get_individuals()"
   ]
  },
  {
   "cell_type": "code",
   "execution_count": 32,
   "id": "44612f12-01ea-4616-a977-2ccc4c20b225",
   "metadata": {},
   "outputs": [],
   "source": [
    "for i in individuals:\n",
    "    i.add_variant(var)\n",
    "    # the following is implied to be high in all individuals\n",
    "    a1c = HpTerm(hpo_id=\"HP:0040217\", label=\"Elevated hemoglobin A1c\")\n",
    "    i.add_hpo_term(a1c)"
   ]
  },
  {
   "cell_type": "code",
   "execution_count": 33,
   "id": "55ded3fa-82f5-4e93-adc4-00de74ff1f9f",
   "metadata": {},
   "outputs": [
    {
     "data": {
      "text/html": [
       "<h2>Cohort validation</h2>\n",
       "<p>Errors found with 3 of 3 phenopackets.</p>\n",
       "<table style=\"border: 2px solid black; align: \"left\">\n",
       "<caption>Error counts</caption>\n",
       "<tr><th style=\"text-align: left;font-weight: bold;\">Level</th><th style=\"text-align: left;font-weight: bold;\">Error category</th><th style=\"text-align: left;font-weight: bold;\">Count</th></tr>\n",
       "<tr><td style=\"text-align: left;\">WARNING</td><td style=\"text-align: left;\">REDUNDANT</td><td style=\"text-align: left;\">7</td></tr>\n",
       "</table>\n",
       "<p>A total of 15 issues were fixed and no individual was removed from the cohort.</p>"
      ],
      "text/plain": [
       "<IPython.core.display.HTML object>"
      ]
     },
     "metadata": {},
     "output_type": "display_data"
    }
   ],
   "source": [
    "cvalidator = CohortValidator(cohort=individuals, ontology=hpo_ontology, min_hpo=1, allelic_requirement=AllelicRequirement.MONO_ALLELIC)\n",
    "qc = QcVisualizer(cohort_validator=cvalidator)\n",
    "display(HTML(qc.to_summary_html()))"
   ]
  },
  {
   "cell_type": "code",
   "execution_count": 34,
   "id": "e6e40482-fff5-42b2-8acb-fc8a75b68e29",
   "metadata": {},
   "outputs": [
    {
     "data": {
      "text/html": [
       "<table style=\"border: 2px solid black; align: \"left\">\n",
       "<caption>3 phenopackets - PMID:11344241 (n=3)</caption>\n",
       "<tr><th style=\"text-align: left;font-weight: bold;\">Individual</th><th style=\"text-align: left;font-weight: bold;\">Disease</th><th style=\"text-align: left;font-weight: bold;\">Genotype</th><th style=\"text-align: left;font-weight: bold;\">Phenotypic features</th></tr>\n",
       "<tr><td style=\"text-align: left;\">II-2 (FEMALE; P49Y)</td><td style=\"text-align: left;\">Lipodystrophy, familial partial, type 2 (OMIM:151660)</td><td style=\"text-align: left;\">NM_170707.4:c.1444C>T (heterozygous)</td><td style=\"text-align: left;\">Hypertriglyceridemia (HP:0002155); Hypercholesterolemia (HP:0003124); Elevated hemoglobin A1c (HP:0040217); Increased VLDL cholesterol concentration (HP:0003362); Acanthosis nigricans (HP:0000956); Exercise-induced myalgia (HP:0003738); Muscle hypertrophy of the lower extremities (HP:0008968); Loss of subcutaneous adipose tissue in limbs (HP:0003635); Decreased HDL cholesterol concentration (HP:0003233); Insulin-resistant diabetes mellitus (HP:0000831)</td></tr>\n",
       "<tr><td style=\"text-align: left;\">III-2 (FEMALE; P36Y)</td><td style=\"text-align: left;\">Lipodystrophy, familial partial, type 2 (OMIM:151660)</td><td style=\"text-align: left;\">NM_170707.4:c.1444C>T (heterozygous)</td><td style=\"text-align: left;\">Hypercholesterolemia (HP:0003124); Elevated hemoglobin A1c (HP:0040217); Increased VLDL cholesterol concentration (HP:0003362); Acanthosis nigricans (HP:0000956); Constrictive median neuropathy (HP:0012185); Xanthelasma (HP:0001114); Splenomegaly (HP:0001744); Increased LDL cholesterol concentration (HP:0003141); Exercise-induced myalgia (HP:0003738); Hypertriglyceridemia (HP:0002155); Generalized lipodystrophy (HP:0009064); Muscle hypertrophy of the lower extremities (HP:0008968); Insulin-resistant diabetes mellitus (HP:0000831); Hepatomegaly (HP:0002240); Loss of subcutaneous adipose tissue in limbs (HP:0003635); Decreased HDL cholesterol concentration (HP:0003233); Eruptive xanthomas (HP:0001013)</td></tr>\n",
       "<tr><td style=\"text-align: left;\">III-3 (MALE; P33Y)</td><td style=\"text-align: left;\">Lipodystrophy, familial partial, type 2 (OMIM:151660)</td><td style=\"text-align: left;\">NM_170707.4:c.1444C>T (heterozygous)</td><td style=\"text-align: left;\">Hypertriglyceridemia (HP:0002155); Splenomegaly (HP:0001744); Hypercholesterolemia (HP:0003124); Elevated hemoglobin A1c (HP:0040217); Increased VLDL cholesterol concentration (HP:0003362); Acanthosis nigricans (HP:0000956); Hepatomegaly (HP:0002240); Constrictive median neuropathy (HP:0012185); Exercise-induced myalgia (HP:0003738); Muscle hypertrophy of the lower extremities (HP:0008968); Loss of subcutaneous adipose tissue in limbs (HP:0003635); Decreased HDL cholesterol concentration (HP:0003233); Insulin-resistant diabetes mellitus (HP:0000831); Eruptive xanthomas (HP:0001013)</td></tr>\n",
       "</table>"
      ],
      "text/plain": [
       "<IPython.core.display.HTML object>"
      ]
     },
     "metadata": {},
     "output_type": "display_data"
    }
   ],
   "source": [
    "cohort = cvalidator.get_error_free_individual_list()\n",
    "table = PhenopacketTable(individual_list=individuals, metadata=metadata)\n",
    "display(HTML(table.to_html()))"
   ]
  },
  {
   "cell_type": "code",
   "execution_count": 35,
   "id": "984fe7dc-705a-4224-80b7-b99cb2f4b96b",
   "metadata": {},
   "outputs": [
    {
     "name": "stdout",
     "output_type": "stream",
     "text": [
      "We output 3 GA4GH phenopackets to the directory phenopackets\n"
     ]
    }
   ],
   "source": [
    "Individual.output_individuals_as_phenopackets(individual_list=individuals,\n",
    "                                              metadata=metadata)"
   ]
  },
  {
   "cell_type": "code",
   "execution_count": null,
   "id": "26d6b30d-fd6d-4172-911d-d89064af07ab",
   "metadata": {},
   "outputs": [],
   "source": []
  }
 ],
 "metadata": {
  "kernelspec": {
   "display_name": "ps24venv",
   "language": "python",
   "name": "ps24venv"
  },
  "language_info": {
   "codemirror_mode": {
    "name": "ipython",
    "version": 3
   },
   "file_extension": ".py",
   "mimetype": "text/x-python",
   "name": "python",
   "nbconvert_exporter": "python",
   "pygments_lexer": "ipython3",
   "version": "3.8.10"
  }
 },
 "nbformat": 4,
 "nbformat_minor": 5
}
