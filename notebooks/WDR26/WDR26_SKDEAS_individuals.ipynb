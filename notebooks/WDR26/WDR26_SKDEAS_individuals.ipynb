{
 "cells": [
  {
   "cell_type": "markdown",
   "metadata": {},
   "source": [
    "# WDR26\n",
    "[Skraban-Deardorff syndrome (SKDEAS)](https://omim.org/entry/617616) is caused by heterozygous mutation in the WDR26 gene."
   ]
  },
  {
   "cell_type": "code",
   "execution_count": 3,
   "metadata": {},
   "outputs": [
    {
     "name": "stdout",
     "output_type": "stream",
     "text": [
      "Using pyphetools version 0.9.92\n"
     ]
    }
   ],
   "source": [
    "from pyphetools.creation import TemplateImporter\n",
    "from pyphetools.visualization import IndividualTable, QcVisualizer\n",
    "from IPython.display import display, HTML\n",
    "import pyphetools\n",
    "print(f\"Using pyphetools version {pyphetools.__version__}\")"
   ]
  },
  {
   "cell_type": "code",
   "execution_count": 4,
   "metadata": {},
   "outputs": [],
   "source": [
    "template = \"input/WDR26_SKDEAS_individuals.xlsx\"\n",
    "created_by = \"0000-0002-0736-9199\""
   ]
  },
  {
   "cell_type": "code",
   "execution_count": 21,
   "metadata": {},
   "outputs": [
    {
     "name": "stdout",
     "output_type": "stream",
     "text": [
      "HPO version 2024-06-25\n",
      "Created encoders for 67 fields\n",
      "Importing OMIM:617616, Skraban-Deardorff syndrome, HGNC:21208, WDR26,  NM_001379403.1\n",
      "We output 15 GA4GH phenopackets to the directory phenopackets\n"
     ]
    }
   ],
   "source": [
    "timporter = TemplateImporter(template=template,  created_by=created_by)\n",
    "individual_list, cvalidator = timporter.import_phenopackets_from_template()"
   ]
  },
  {
   "cell_type": "code",
   "execution_count": 22,
   "metadata": {},
   "outputs": [
    {
     "data": {
      "text/html": [
       "<h2>Cohort validation</h2>\n",
       "<p>Errors found with 12 of 15 phenopackets.</p>\n",
       "<table style=\"border: 2px solid black; align: \"left\">\n",
       "<caption>Error counts</caption>\n",
       "<tr><th style=\"text-align: left;font-weight: bold;\">Level</th><th style=\"text-align: left;font-weight: bold;\">Error category</th><th style=\"text-align: left;font-weight: bold;\">Count</th></tr>\n",
       "<tr><td style=\"text-align: left;\">WARNING</td><td style=\"text-align: left;\">REDUNDANT</td><td style=\"text-align: left;\">12</td></tr>\n",
       "</table>\n",
       "<p>A total of 12 issues were fixed and no individual was removed from the cohort.</p>"
      ],
      "text/plain": [
       "<IPython.core.display.HTML object>"
      ]
     },
     "metadata": {},
     "output_type": "display_data"
    }
   ],
   "source": [
    "qc = QcVisualizer(cohort_validator=cvalidator)\n",
    "display(HTML(qc.to_summary_html()))"
   ]
  },
  {
   "cell_type": "code",
   "execution_count": 23,
   "metadata": {},
   "outputs": [
    {
     "data": {
      "text/html": [
       "<table style=\"border: 2px solid black; align: \"left\">\n",
       "<caption>15 phenopackets - PMID:28686853 (n=15)</caption>\n",
       "<tr><th style=\"text-align: left;font-weight: bold;\">Individual</th><th style=\"text-align: left;font-weight: bold;\">Disease</th><th style=\"text-align: left;font-weight: bold;\">Genotype</th><th style=\"text-align: left;font-weight: bold;\">Phenotypic features</th></tr>\n",
       "<tr><td style=\"text-align: left;\">Individual 1 (FEMALE; P4Y)</td><td style=\"text-align: left;\">Skraban-Deardorff syndrome (OMIM:617616)</td><td style=\"text-align: left;\">NM_001379403.1:c.1576G>T (heterozygous)</td><td style=\"text-align: left;\"><b>P1Y5M</b>: Febrile seizure (within the age range of 3 months to 6 years) (HP:0002373)<br/>Narrow forehead (HP:0000341); Coarse facial features (HP:0000280); Myopia (HP:0000545); Abnormally large globe (HP:0001090); Strabismus (HP:0000486); Depressed nasal bridge (HP:0005280); Short nasal bridge (HP:0003194); Anteverted nares (HP:0000463); Broad nasal tip (HP:0000455); Hyperplasia of the maxilla (HP:0430028); Full cheeks (HP:0000293); Widely spaced teeth (HP:0000687); Micrognathia (HP:0000347); Thin upper lip vermilion (HP:0000219); Absent cupid's bow (HP:0010800); Small hand (HP:0200055); Proximal placement of thumb (HP:0009623); Clinodactyly of the 5th finger (HP:0004209); Short foot (HP:0001773); Hirsutism (HP:0001007); Gastroesophageal reflux (HP:0002020); Constipation (HP:0002019); Recurrent otitis media (HP:0000403); Hypotonia (HP:0001252); Intellectual disability (HP:0001249); excluded: Frontal bossing (HP:0002007); excluded: Prominent supraorbital ridges (HP:0000336); excluded: Midface retrusion (HP:0011800); excluded: Brachycephaly (HP:0000248); excluded: Hypertelorism (HP:0000316); excluded: Hypermetropia (HP:0000540); excluded: Proptosis (HP:0000520); excluded: Deeply set eye (HP:0000490); excluded: Upslanted palpebral fissure (HP:0000582); excluded: Sparse lateral eyebrow (HP:0005338); excluded: Narrow naris (HP:0009933); excluded: Short philtrum (HP:0000322); excluded: Thick vermilion border (HP:0012471); excluded: Gingival overgrowth (HP:0000212); excluded: Wide mouth (HP:0000154); excluded: Ventricular septal defect (HP:0001629); excluded: Right aortic arch (HP:0012020); excluded: Failure to thrive (HP:0001508); excluded: Thin corpus callosum (HP:0033725); excluded: Pineal cyst (HP:0012683)</td></tr>\n",
       "<tr><td style=\"text-align: left;\">Individual 2 (FEMALE; P34Y)</td><td style=\"text-align: left;\">Skraban-Deardorff syndrome (OMIM:617616)</td><td style=\"text-align: left;\">NM_001379403.1:c.1461_1462del (heterozygous)</td><td style=\"text-align: left;\">Coarse facial features (HP:0000280); Abnormally large globe (HP:0001090); Proptosis (HP:0000520); Strabismus (HP:0000486); Depressed nasal bridge (HP:0005280); Short nasal bridge (HP:0003194); Anteverted nares (HP:0000463); Narrow naris (HP:0009933); Broad nasal tip (HP:0000455); Hyperplasia of the maxilla (HP:0430028); Short philtrum (HP:0000322); Full cheeks (HP:0000293); Widely spaced teeth (HP:0000687); Persistence of primary teeth (HP:0006335); Micrognathia (HP:0000347); Thick vermilion border (HP:0012471); Wide mouth (HP:0000154); Absent cupid's bow (HP:0010800); Constipation (HP:0002019); Thin corpus callosum (HP:0033725); Febrile seizure (within the age range of 3 months to 6 years) (HP:0002373); Intellectual disability (HP:0001249); excluded: Narrow forehead (HP:0000341); excluded: Frontal bossing (HP:0002007); excluded: Prominent supraorbital ridges (HP:0000336); excluded: Midface retrusion (HP:0011800); excluded: Brachycephaly (HP:0000248); excluded: Hypertelorism (HP:0000316); excluded: Myopia (HP:0000545); excluded: Hypermetropia (HP:0000540); excluded: Deeply set eye (HP:0000490); excluded: Upslanted palpebral fissure (HP:0000582); excluded: Sparse lateral eyebrow (HP:0005338); excluded: Thin upper lip vermilion (HP:0000219); excluded: Gingival overgrowth (HP:0000212); excluded: Ventricular septal defect (HP:0001629); excluded: Right aortic arch (HP:0012020); excluded: Failure to thrive (HP:0001508); excluded: Pineal cyst (HP:0012683)</td></tr>\n",
       "<tr><td style=\"text-align: left;\">Individual 3 (FEMALE; P3Y2M)</td><td style=\"text-align: left;\">Skraban-Deardorff syndrome (OMIM:617616)</td><td style=\"text-align: left;\">NM_001379403.1:c.1757del (heterozygous)</td><td style=\"text-align: left;\">Narrow forehead (HP:0000341); Coarse facial features (HP:0000280); Abnormally large globe (HP:0001090); Proptosis (HP:0000520); Strabismus (HP:0000486); Depressed nasal bridge (HP:0005280); Anteverted nares (HP:0000463); Narrow naris (HP:0009933); Hyperplasia of the maxilla (HP:0430028); Full cheeks (HP:0000293); Micrognathia (HP:0000347); Febrile seizure (within the age range of 3 months to 6 years) (HP:0002373); Hypotonia (HP:0001252); Intellectual disability (HP:0001249); excluded: Frontal bossing (HP:0002007); excluded: Prominent supraorbital ridges (HP:0000336); excluded: Midface retrusion (HP:0011800); excluded: Brachycephaly (HP:0000248); excluded: Hypertelorism (HP:0000316); excluded: Myopia (HP:0000545); excluded: Hypermetropia (HP:0000540); excluded: Deeply set eye (HP:0000490); excluded: Upslanted palpebral fissure (HP:0000582); excluded: Sparse lateral eyebrow (HP:0005338); excluded: Short nasal bridge (HP:0003194); excluded: Broad nasal tip (HP:0000455); excluded: Short philtrum (HP:0000322); excluded: Widely spaced teeth (HP:0000687); excluded: Thick vermilion border (HP:0012471); excluded: Thin upper lip vermilion (HP:0000219); excluded: Gingival overgrowth (HP:0000212); excluded: Wide mouth (HP:0000154); excluded: Absent cupid's bow (HP:0010800); excluded: Clinodactyly of the 5th finger (HP:0004209); excluded: Ventricular septal defect (HP:0001629); excluded: Right aortic arch (HP:0012020); excluded: Gastroesophageal reflux (HP:0002020); excluded: Constipation (HP:0002019); excluded: Failure to thrive (HP:0001508); excluded: Recurrent otitis media (HP:0000403); excluded: Thin corpus callosum (HP:0033725); excluded: Pineal cyst (HP:0012683)</td></tr>\n",
       "<tr><td style=\"text-align: left;\">Individual 4 (FEMALE; P6Y)</td><td style=\"text-align: left;\">Skraban-Deardorff syndrome (OMIM:617616)</td><td style=\"text-align: left;\">NM_001379403.1:c.944T>C (heterozygous)</td><td style=\"text-align: left;\"><b>P11M</b>: Febrile seizure (within the age range of 3 months to 6 years) (HP:0002373)<br/>Coarse facial features (HP:0000280); Myopia (HP:0000545); Hypermetropia (HP:0000540); Proptosis (HP:0000520); Sparse lateral eyebrow (HP:0005338); Broad nasal tip (HP:0000455); Hyperplasia of the maxilla (HP:0430028); Short philtrum (HP:0000322); Full cheeks (HP:0000293); Widely spaced teeth (HP:0000687); Thick vermilion border (HP:0012471); Gingival overgrowth (HP:0000212); Wide mouth (HP:0000154); Absent cupid's bow (HP:0010800); Hypotonia (HP:0001252); Intellectual disability (HP:0001249); excluded: Narrow forehead (HP:0000341); excluded: Frontal bossing (HP:0002007); excluded: Prominent supraorbital ridges (HP:0000336); excluded: Midface retrusion (HP:0011800); excluded: Brachycephaly (HP:0000248); excluded: Hypertelorism (HP:0000316); excluded: Abnormally large globe (HP:0001090); excluded: Deeply set eye (HP:0000490); excluded: Upslanted palpebral fissure (HP:0000582); excluded: Strabismus (HP:0000486); excluded: Depressed nasal bridge (HP:0005280); excluded: Short nasal bridge (HP:0003194); excluded: Anteverted nares (HP:0000463); excluded: Narrow naris (HP:0009933); excluded: Persistence of primary teeth (HP:0006335); excluded: Micrognathia (HP:0000347); excluded: Thin upper lip vermilion (HP:0000219); excluded: Ventricular septal defect (HP:0001629); excluded: Right aortic arch (HP:0012020); excluded: Failure to thrive (HP:0001508); excluded: Thin corpus callosum (HP:0033725); excluded: Pineal cyst (HP:0012683)</td></tr>\n",
       "<tr><td style=\"text-align: left;\">Individual 5 (FEMALE; P3Y2M)</td><td style=\"text-align: left;\">Skraban-Deardorff syndrome (OMIM:617616)</td><td style=\"text-align: left;\">NM_001379403.1:c.1204_1205del (heterozygous)</td><td style=\"text-align: left;\">Abnormally large globe (HP:0001090); Depressed nasal bridge (HP:0005280); Anteverted nares (HP:0000463); Broad nasal tip (HP:0000455); Hyperplasia of the maxilla (HP:0430028); Full cheeks (HP:0000293); Wide mouth (HP:0000154); Absent cupid's bow (HP:0010800); Constipation (HP:0002019); Pineal cyst (HP:0012683); Hypotonia (HP:0001252); Intellectual disability (HP:0001249); excluded: Narrow forehead (HP:0000341); excluded: Coarse facial features (HP:0000280); excluded: Frontal bossing (HP:0002007); excluded: Prominent supraorbital ridges (HP:0000336); excluded: Midface retrusion (HP:0011800); excluded: Brachycephaly (HP:0000248); excluded: Hypertelorism (HP:0000316); excluded: Myopia (HP:0000545); excluded: Hypermetropia (HP:0000540); excluded: Proptosis (HP:0000520); excluded: Deeply set eye (HP:0000490); excluded: Upslanted palpebral fissure (HP:0000582); excluded: Sparse lateral eyebrow (HP:0005338); excluded: Strabismus (HP:0000486); excluded: Short nasal bridge (HP:0003194); excluded: Narrow naris (HP:0009933); excluded: Short philtrum (HP:0000322); excluded: Widely spaced teeth (HP:0000687); excluded: Micrognathia (HP:0000347); excluded: Thick vermilion border (HP:0012471); excluded: Thin upper lip vermilion (HP:0000219); excluded: Gingival overgrowth (HP:0000212); excluded: Clinodactyly of the 5th finger (HP:0004209); excluded: Ventricular septal defect (HP:0001629); excluded: Right aortic arch (HP:0012020); excluded: Gastroesophageal reflux (HP:0002020); excluded: Failure to thrive (HP:0001508); excluded: Recurrent otitis media (HP:0000403); excluded: Thin corpus callosum (HP:0033725); excluded: Febrile seizure (within the age range of 3 months to 6 years) (HP:0002373)</td></tr>\n",
       "<tr><td style=\"text-align: left;\">Individual 6 (FEMALE; P2Y)</td><td style=\"text-align: left;\">Skraban-Deardorff syndrome (OMIM:617616)</td><td style=\"text-align: left;\">NM_001379403.1:c.1150G>A (heterozygous)</td><td style=\"text-align: left;\">Abnormally large globe (HP:0001090); Upslanted palpebral fissure (HP:0000582); Strabismus (HP:0000486); Anteverted nares (HP:0000463); Broad nasal tip (HP:0000455); Hyperplasia of the maxilla (HP:0430028); Short philtrum (HP:0000322); Full cheeks (HP:0000293); Widely spaced teeth (HP:0000687); Micrognathia (HP:0000347); Thin upper lip vermilion (HP:0000219); Wide mouth (HP:0000154); Absent cupid's bow (HP:0010800); Clinodactyly of the 5th finger (HP:0004209); Short foot (HP:0001773); Gastroesophageal reflux (HP:0002020); Failure to thrive (HP:0001508); Recurrent otitis media (HP:0000403); Pineal cyst (HP:0012683); Hypotonia (HP:0001252); Intellectual disability (HP:0001249); excluded: Narrow forehead (HP:0000341); excluded: Coarse facial features (HP:0000280); excluded: Frontal bossing (HP:0002007); excluded: Prominent supraorbital ridges (HP:0000336); excluded: Midface retrusion (HP:0011800); excluded: Brachycephaly (HP:0000248); excluded: Hypertelorism (HP:0000316); excluded: Myopia (HP:0000545); excluded: Hypermetropia (HP:0000540); excluded: Proptosis (HP:0000520); excluded: Deeply set eye (HP:0000490); excluded: Sparse lateral eyebrow (HP:0005338); excluded: Depressed nasal bridge (HP:0005280); excluded: Short nasal bridge (HP:0003194); excluded: Narrow naris (HP:0009933); excluded: Thick vermilion border (HP:0012471); excluded: Gingival overgrowth (HP:0000212); excluded: Small hand (HP:0200055); excluded: Proximal placement of thumb (HP:0009623); excluded: Hirsutism (HP:0001007); excluded: Ventricular septal defect (HP:0001629); excluded: Right aortic arch (HP:0012020); excluded: Constipation (HP:0002019); excluded: Thin corpus callosum (HP:0033725); excluded: Febrile seizure (within the age range of 3 months to 6 years) (HP:0002373)</td></tr>\n",
       "<tr><td style=\"text-align: left;\">Individual 7 (MALE; P4Y)</td><td style=\"text-align: left;\">Skraban-Deardorff syndrome (OMIM:617616)</td><td style=\"text-align: left;\">NM_001379403.1:c.437C>A (heterozygous)</td><td style=\"text-align: left;\"><b>P2Y</b>: Febrile seizure (within the age range of 3 months to 6 years) (HP:0002373)<br/>Coarse facial features (HP:0000280); Abnormally large globe (HP:0001090); Sparse lateral eyebrow (HP:0005338); Depressed nasal bridge (HP:0005280); Hyperplasia of the maxilla (HP:0430028); Widely spaced teeth (HP:0000687); Thick vermilion border (HP:0012471); Absent cupid's bow (HP:0010800); Clinodactyly of the 5th finger (HP:0004209); Right aortic arch (HP:0012020); Pineal cyst (HP:0012683); Hypotonia (HP:0001252); Intellectual disability (HP:0001249); excluded: Narrow forehead (HP:0000341); excluded: Frontal bossing (HP:0002007); excluded: Prominent supraorbital ridges (HP:0000336); excluded: Midface retrusion (HP:0011800); excluded: Brachycephaly (HP:0000248); excluded: Hypertelorism (HP:0000316); excluded: Proptosis (HP:0000520); excluded: Deeply set eye (HP:0000490); excluded: Upslanted palpebral fissure (HP:0000582); excluded: Short nasal bridge (HP:0003194); excluded: Anteverted nares (HP:0000463); excluded: Narrow naris (HP:0009933); excluded: Broad nasal tip (HP:0000455); excluded: Short philtrum (HP:0000322); excluded: Full cheeks (HP:0000293); excluded: Micrognathia (HP:0000347); excluded: Thin upper lip vermilion (HP:0000219); excluded: Gingival overgrowth (HP:0000212); excluded: Wide mouth (HP:0000154); excluded: Small hand (HP:0200055); excluded: Proximal placement of thumb (HP:0009623); excluded: Short foot (HP:0001773); excluded: Hirsutism (HP:0001007); excluded: Ventricular septal defect (HP:0001629); excluded: Gastroesophageal reflux (HP:0002020); excluded: Constipation (HP:0002019); excluded: Failure to thrive (HP:0001508); excluded: Thin corpus callosum (HP:0033725)</td></tr>\n",
       "<tr><td style=\"text-align: left;\">Individual 8 (MALE; P21Y)</td><td style=\"text-align: left;\">Skraban-Deardorff syndrome (OMIM:617616)</td><td style=\"text-align: left;\">NM_001379403.1:c.1870C>T (heterozygous)</td><td style=\"text-align: left;\">Narrow forehead (HP:0000341); Coarse facial features (HP:0000280); Midface retrusion (HP:0011800); Hypermetropia (HP:0000540); Sparse lateral eyebrow (HP:0005338); Strabismus (HP:0000486); Short nasal bridge (HP:0003194); Anteverted nares (HP:0000463); Broad nasal tip (HP:0000455); Hyperplasia of the maxilla (HP:0430028); Full cheeks (HP:0000293); Widely spaced teeth (HP:0000687); Persistence of primary teeth (HP:0006335); Gingival overgrowth (HP:0000212); Ventricular septal defect (HP:0001629); Gastroesophageal reflux (HP:0002020); Failure to thrive (HP:0001508); Intellectual disability (HP:0001249); excluded: Frontal bossing (HP:0002007); excluded: Prominent supraorbital ridges (HP:0000336); excluded: Brachycephaly (HP:0000248); excluded: Hypertelorism (HP:0000316); excluded: Myopia (HP:0000545); excluded: Abnormally large globe (HP:0001090); excluded: Proptosis (HP:0000520); excluded: Deeply set eye (HP:0000490); excluded: Upslanted palpebral fissure (HP:0000582); excluded: Depressed nasal bridge (HP:0005280); excluded: Narrow naris (HP:0009933); excluded: Short philtrum (HP:0000322); excluded: Micrognathia (HP:0000347); excluded: Thick vermilion border (HP:0012471); excluded: Thin upper lip vermilion (HP:0000219); excluded: Wide mouth (HP:0000154); excluded: Absent cupid's bow (HP:0010800); excluded: Hirsutism (HP:0001007); excluded: Right aortic arch (HP:0012020); excluded: Thin corpus callosum (HP:0033725); excluded: Pineal cyst (HP:0012683)</td></tr>\n",
       "<tr><td style=\"text-align: left;\">Individual 9 (MALE; P14Y6M)</td><td style=\"text-align: left;\">Skraban-Deardorff syndrome (OMIM:617616)</td><td style=\"text-align: left;\">NM_001379403.1:c.1062T>G (heterozygous)</td><td style=\"text-align: left;\">Febrile seizure (within the age range of 3 months to 6 years) (HP:0002373); Coarse facial features (HP:0000280); Abnormally large globe (HP:0001090); Sparse lateral eyebrow (HP:0005338); Short nasal bridge (HP:0003194); Broad nasal tip (HP:0000455); Hyperplasia of the maxilla (HP:0430028); Short philtrum (HP:0000322); Full cheeks (HP:0000293); Widely spaced teeth (HP:0000687); Persistence of primary teeth (HP:0006335); Thick vermilion border (HP:0012471); Wide mouth (HP:0000154); Absent cupid's bow (HP:0010800); Clinodactyly of the 5th finger (HP:0004209); Pes cavus (HP:0001761); Failure to thrive (HP:0001508); Intellectual disability (HP:0001249); excluded: Narrow forehead (HP:0000341); excluded: Frontal bossing (HP:0002007); excluded: Prominent supraorbital ridges (HP:0000336); excluded: Midface retrusion (HP:0011800); excluded: Brachycephaly (HP:0000248); excluded: Hypertelorism (HP:0000316); excluded: Myopia (HP:0000545); excluded: Hypermetropia (HP:0000540); excluded: Proptosis (HP:0000520); excluded: Deeply set eye (HP:0000490); excluded: Upslanted palpebral fissure (HP:0000582); excluded: Strabismus (HP:0000486); excluded: Depressed nasal bridge (HP:0005280); excluded: Anteverted nares (HP:0000463); excluded: Narrow naris (HP:0009933); excluded: Micrognathia (HP:0000347); excluded: Thin upper lip vermilion (HP:0000219); excluded: Gingival overgrowth (HP:0000212); excluded: Small hand (HP:0200055); excluded: Proximal placement of thumb (HP:0009623); excluded: Short foot (HP:0001773); excluded: Ventricular septal defect (HP:0001629); excluded: Right aortic arch (HP:0012020); excluded: Gastroesophageal reflux (HP:0002020); excluded: Constipation (HP:0002019); excluded: Recurrent otitis media (HP:0000403); excluded: Thin corpus callosum (HP:0033725); excluded: Pineal cyst (HP:0012683); excluded: Hypotonia (HP:0001252)</td></tr>\n",
       "<tr><td style=\"text-align: left;\">Individual 10 (FEMALE; P7Y)</td><td style=\"text-align: left;\">Skraban-Deardorff syndrome (OMIM:617616)</td><td style=\"text-align: left;\">NM_001379403.1:c.1584G>A (heterozygous)</td><td style=\"text-align: left;\">Coarse facial features (HP:0000280); Hypertelorism (HP:0000316); Hypermetropia (HP:0000540); Abnormally large globe (HP:0001090); Upslanted palpebral fissure (HP:0000582); Sparse lateral eyebrow (HP:0005338); Anteverted nares (HP:0000463); Broad nasal tip (HP:0000455); Widely spaced teeth (HP:0000687); Persistence of primary teeth (HP:0006335); Thick vermilion border (HP:0012471); Wide mouth (HP:0000154); Absent cupid's bow (HP:0010800); Constipation (HP:0002019); Failure to thrive (HP:0001508); Recurrent otitis media (HP:0000403); Hypotonia (HP:0001252); Intellectual disability (HP:0001249); excluded: Narrow forehead (HP:0000341); excluded: Frontal bossing (HP:0002007); excluded: Prominent supraorbital ridges (HP:0000336); excluded: Midface retrusion (HP:0011800); excluded: Brachycephaly (HP:0000248); excluded: Myopia (HP:0000545); excluded: Proptosis (HP:0000520); excluded: Deeply set eye (HP:0000490); excluded: Strabismus (HP:0000486); excluded: Depressed nasal bridge (HP:0005280); excluded: Short nasal bridge (HP:0003194); excluded: Narrow naris (HP:0009933); excluded: Hyperplasia of the maxilla (HP:0430028); excluded: Short philtrum (HP:0000322); excluded: Full cheeks (HP:0000293); excluded: Micrognathia (HP:0000347); excluded: Thin upper lip vermilion (HP:0000219); excluded: Gingival overgrowth (HP:0000212); excluded: Small hand (HP:0200055); excluded: Proximal placement of thumb (HP:0009623); excluded: Clinodactyly of the 5th finger (HP:0004209); excluded: Ventricular septal defect (HP:0001629); excluded: Right aortic arch (HP:0012020); excluded: Gastroesophageal reflux (HP:0002020); excluded: Thin corpus callosum (HP:0033725); excluded: Pineal cyst (HP:0012683); excluded: Febrile seizure (within the age range of 3 months to 6 years) (HP:0002373)</td></tr>\n",
       "<tr><td style=\"text-align: left;\">Individual 11 (FEMALE; P8Y)</td><td style=\"text-align: left;\">Skraban-Deardorff syndrome (OMIM:617616)</td><td style=\"text-align: left;\">NM_001379403.1:c.1719+2dup (heterozygous)</td><td style=\"text-align: left;\">Narrow forehead (HP:0000341); Coarse facial features (HP:0000280); Brachycephaly (HP:0000248); Abnormally large globe (HP:0001090); Upslanted palpebral fissure (HP:0000582); Strabismus (HP:0000486); Broad nasal tip (HP:0000455); Hyperplasia of the maxilla (HP:0430028); Short philtrum (HP:0000322); Widely spaced teeth (HP:0000687); Thick vermilion border (HP:0012471); Wide mouth (HP:0000154); Absent cupid's bow (HP:0010800); Pes cavus (HP:0001761); Gastroesophageal reflux (HP:0002020); Failure to thrive (HP:0001508); Hypotonia (HP:0001252); Intellectual disability (HP:0001249); excluded: Frontal bossing (HP:0002007); excluded: Prominent supraorbital ridges (HP:0000336); excluded: Midface retrusion (HP:0011800); excluded: Hypertelorism (HP:0000316); excluded: Proptosis (HP:0000520); excluded: Deeply set eye (HP:0000490); excluded: Sparse lateral eyebrow (HP:0005338); excluded: Depressed nasal bridge (HP:0005280); excluded: Short nasal bridge (HP:0003194); excluded: Anteverted nares (HP:0000463); excluded: Narrow naris (HP:0009933); excluded: Micrognathia (HP:0000347); excluded: Thin upper lip vermilion (HP:0000219); excluded: Gingival overgrowth (HP:0000212); excluded: Proximal placement of thumb (HP:0009623); excluded: Clinodactyly of the 5th finger (HP:0004209); excluded: Ventricular septal defect (HP:0001629); excluded: Right aortic arch (HP:0012020); excluded: Thin corpus callosum (HP:0033725); excluded: Pineal cyst (HP:0012683); excluded: Febrile seizure (within the age range of 3 months to 6 years) (HP:0002373)</td></tr>\n",
       "<tr><td style=\"text-align: left;\">Individual 12 (FEMALE; P5Y6M)</td><td style=\"text-align: left;\">Skraban-Deardorff syndrome (OMIM:617616)</td><td style=\"text-align: left;\">NM_001379403.1:c.1135C>T (heterozygous)</td><td style=\"text-align: left;\">Prominent supraorbital ridges (HP:0000336); Hypertelorism (HP:0000316); Abnormally large globe (HP:0001090); Upslanted palpebral fissure (HP:0000582); Strabismus (HP:0000486); Anteverted nares (HP:0000463); Hyperplasia of the maxilla (HP:0430028); Short philtrum (HP:0000322); Full cheeks (HP:0000293); Widely spaced teeth (HP:0000687); Micrognathia (HP:0000347); Thick lower lip vermilion (HP:0000179); Thin upper lip vermilion (HP:0000219); Wide mouth (HP:0000154); Absent cupid's bow (HP:0010800); Hypotonia (HP:0001252); Intellectual disability (HP:0001249); excluded: Narrow forehead (HP:0000341); excluded: Coarse facial features (HP:0000280); excluded: Frontal bossing (HP:0002007); excluded: Midface retrusion (HP:0011800); excluded: Brachycephaly (HP:0000248); excluded: Myopia (HP:0000545); excluded: Hypermetropia (HP:0000540); excluded: Proptosis (HP:0000520); excluded: Deeply set eye (HP:0000490); excluded: Sparse lateral eyebrow (HP:0005338); excluded: Depressed nasal bridge (HP:0005280); excluded: Short nasal bridge (HP:0003194); excluded: Narrow naris (HP:0009933); excluded: Broad nasal tip (HP:0000455); excluded: Persistence of primary teeth (HP:0006335); excluded: Gingival overgrowth (HP:0000212); excluded: Small hand (HP:0200055); excluded: Proximal placement of thumb (HP:0009623); excluded: Clinodactyly of the 5th finger (HP:0004209); excluded: Short foot (HP:0001773); excluded: Hirsutism (HP:0001007); excluded: Ventricular septal defect (HP:0001629); excluded: Right aortic arch (HP:0012020); excluded: Gastroesophageal reflux (HP:0002020); excluded: Constipation (HP:0002019); excluded: Failure to thrive (HP:0001508); excluded: Recurrent otitis media (HP:0000403); excluded: Thin corpus callosum (HP:0033725); excluded: Pineal cyst (HP:0012683)</td></tr>\n",
       "<tr><td style=\"text-align: left;\">Individual 13 (MALE; P8Y)</td><td style=\"text-align: left;\">Skraban-Deardorff syndrome (OMIM:617616)</td><td style=\"text-align: left;\">NM_001379403.1:c.874dup (heterozygous)</td><td style=\"text-align: left;\">Narrow forehead (HP:0000341); Coarse facial features (HP:0000280); Hypertelorism (HP:0000316); Hypermetropia (HP:0000540); Sparse lateral eyebrow (HP:0005338); Strabismus (HP:0000486); Broad nasal tip (HP:0000455); Full cheeks (HP:0000293); Widely spaced teeth (HP:0000687); Thick vermilion border (HP:0012471); Gastroesophageal reflux (HP:0002020); Febrile seizure (within the age range of 3 months to 6 years) (HP:0002373); Intellectual disability (HP:0001249); excluded: Midface retrusion (HP:0011800); excluded: Brachycephaly (HP:0000248); excluded: Myopia (HP:0000545); excluded: Abnormally large globe (HP:0001090); excluded: Proptosis (HP:0000520); excluded: Deeply set eye (HP:0000490); excluded: Upslanted palpebral fissure (HP:0000582); excluded: Depressed nasal bridge (HP:0005280); excluded: Short nasal bridge (HP:0003194); excluded: Anteverted nares (HP:0000463); excluded: Narrow naris (HP:0009933); excluded: Hyperplasia of the maxilla (HP:0430028); excluded: Short philtrum (HP:0000322); excluded: Persistence of primary teeth (HP:0006335); excluded: Micrognathia (HP:0000347); excluded: Thin upper lip vermilion (HP:0000219); excluded: Gingival overgrowth (HP:0000212); excluded: Wide mouth (HP:0000154); excluded: Absent cupid's bow (HP:0010800); excluded: Small hand (HP:0200055); excluded: Proximal placement of thumb (HP:0009623); excluded: Clinodactyly of the 5th finger (HP:0004209); excluded: Short foot (HP:0001773); excluded: Hirsutism (HP:0001007); excluded: Ventricular septal defect (HP:0001629); excluded: Right aortic arch (HP:0012020); excluded: Constipation (HP:0002019); excluded: Failure to thrive (HP:0001508); excluded: Recurrent otitis media (HP:0000403); excluded: Thin corpus callosum (HP:0033725); excluded: Pineal cyst (HP:0012683); excluded: Hypotonia (HP:0001252)</td></tr>\n",
       "<tr><td style=\"text-align: left;\">Individual 14 (FEMALE; P2Y8M)</td><td style=\"text-align: left;\">Skraban-Deardorff syndrome (OMIM:617616)</td><td style=\"text-align: left;\">NM_001379403.1:c.814T>A (heterozygous)</td><td style=\"text-align: left;\">Narrow forehead (HP:0000341); Coarse facial features (HP:0000280); Prominent supraorbital ridges (HP:0000336); Hypertelorism (HP:0000316); Abnormally large globe (HP:0001090); Short nasal bridge (HP:0003194); Hyperplasia of the maxilla (HP:0430028); Full cheeks (HP:0000293); Widely spaced teeth (HP:0000687); Thick vermilion border (HP:0012471); Wide mouth (HP:0000154); Recurrent otitis media (HP:0000403); Febrile seizure (within the age range of 3 months to 6 years) (HP:0002373); Intellectual disability (HP:0001249); excluded: Frontal bossing (HP:0002007); excluded: Midface retrusion (HP:0011800); excluded: Brachycephaly (HP:0000248); excluded: Myopia (HP:0000545); excluded: Hypermetropia (HP:0000540); excluded: Proptosis (HP:0000520); excluded: Deeply set eye (HP:0000490); excluded: Upslanted palpebral fissure (HP:0000582); excluded: Sparse lateral eyebrow (HP:0005338); excluded: Strabismus (HP:0000486); excluded: Depressed nasal bridge (HP:0005280); excluded: Anteverted nares (HP:0000463); excluded: Narrow naris (HP:0009933); excluded: Broad nasal tip (HP:0000455); excluded: Short philtrum (HP:0000322); excluded: Persistence of primary teeth (HP:0006335); excluded: Micrognathia (HP:0000347); excluded: Thin upper lip vermilion (HP:0000219); excluded: Gingival overgrowth (HP:0000212); excluded: Absent cupid's bow (HP:0010800); excluded: Small hand (HP:0200055); excluded: Proximal placement of thumb (HP:0009623); excluded: Clinodactyly of the 5th finger (HP:0004209); excluded: Short foot (HP:0001773); excluded: Hirsutism (HP:0001007); excluded: Ventricular septal defect (HP:0001629); excluded: Right aortic arch (HP:0012020); excluded: Gastroesophageal reflux (HP:0002020); excluded: Constipation (HP:0002019); excluded: Failure to thrive (HP:0001508); excluded: Thin corpus callosum (HP:0033725); excluded: Pineal cyst (HP:0012683)</td></tr>\n",
       "<tr><td style=\"text-align: left;\">Individual 15 (MALE; P14Y)</td><td style=\"text-align: left;\">Skraban-Deardorff syndrome (OMIM:617616)</td><td style=\"text-align: left;\">NM_001379403.1:c.1449_1458+1del (heterozygous)</td><td style=\"text-align: left;\">Coarse facial features (HP:0000280); Hypertelorism (HP:0000316); Hypermetropia (HP:0000540); Broad nasal tip (HP:0000455); Hyperplasia of the maxilla (HP:0430028); Short philtrum (HP:0000322); Widely spaced teeth (HP:0000687); Thick vermilion border (HP:0012471); Wide mouth (HP:0000154); Absent cupid's bow (HP:0010800); Febrile seizure (within the age range of 3 months to 6 years) (HP:0002373); Intellectual disability (HP:0001249); excluded: Narrow forehead (HP:0000341); excluded: Frontal bossing (HP:0002007); excluded: Prominent supraorbital ridges (HP:0000336); excluded: Midface retrusion (HP:0011800); excluded: Brachycephaly (HP:0000248); excluded: Myopia (HP:0000545); excluded: Abnormally large globe (HP:0001090); excluded: Proptosis (HP:0000520); excluded: Deeply set eye (HP:0000490); excluded: Upslanted palpebral fissure (HP:0000582); excluded: Sparse lateral eyebrow (HP:0005338); excluded: Strabismus (HP:0000486); excluded: Depressed nasal bridge (HP:0005280); excluded: Short nasal bridge (HP:0003194); excluded: Anteverted nares (HP:0000463); excluded: Narrow naris (HP:0009933); excluded: Persistence of primary teeth (HP:0006335); excluded: Micrognathia (HP:0000347); excluded: Thin upper lip vermilion (HP:0000219); excluded: Gingival overgrowth (HP:0000212); excluded: Small hand (HP:0200055); excluded: Proximal placement of thumb (HP:0009623); excluded: Clinodactyly of the 5th finger (HP:0004209); excluded: Short foot (HP:0001773); excluded: Hirsutism (HP:0001007); excluded: Ventricular septal defect (HP:0001629); excluded: Right aortic arch (HP:0012020); excluded: Gastroesophageal reflux (HP:0002020); excluded: Constipation (HP:0002019); excluded: Failure to thrive (HP:0001508); excluded: Recurrent otitis media (HP:0000403); excluded: Thin corpus callosum (HP:0033725); excluded: Pineal cyst (HP:0012683); excluded: Hypotonia (HP:0001252)</td></tr>\n",
       "</table>"
      ],
      "text/plain": [
       "<IPython.core.display.HTML object>"
      ]
     },
     "metadata": {},
     "output_type": "display_data"
    }
   ],
   "source": [
    "table = IndividualTable(cvalidator.get_error_free_individual_list())\n",
    "display(HTML(table.to_html()))"
   ]
  },
  {
   "cell_type": "code",
   "execution_count": 24,
   "metadata": {},
   "outputs": [
    {
     "name": "stdout",
     "output_type": "stream",
     "text": [
      "[pyphetools] Ingested 15 GA4GH phenopackets.\n",
      "[INFO] Extracted 15 from 15 phenopackets with OMIM:617616\n",
      "\n",
      "\tSkraban-Deardorff syndrome (OMIM:617616): n=15\n",
      "We found a total of 49 unique HPO terms\n",
      "Extracted disease: Skraban-Deardorff syndrome (OMIM:617616)\n",
      "Wrote HPOA disease file to OMIM-617616.tab\n"
     ]
    }
   ],
   "source": [
    "pmid = \"PMID:28686853\"\n",
    "df = timporter.create_hpoa_from_phenopackets(pmid=pmid, moi=\"Autosomal dominant\", target=\"OMIM:617616\")"
   ]
  },
  {
   "cell_type": "code",
   "execution_count": null,
   "metadata": {},
   "outputs": [],
   "source": []
  }
 ],
 "metadata": {
  "kernelspec": {
   "display_name": "ps24venv",
   "language": "python",
   "name": "python3"
  },
  "language_info": {
   "codemirror_mode": {
    "name": "ipython",
    "version": 3
   },
   "file_extension": ".py",
   "mimetype": "text/x-python",
   "name": "python",
   "nbconvert_exporter": "python",
   "pygments_lexer": "ipython3",
   "version": "3.9.6"
  }
 },
 "nbformat": 4,
 "nbformat_minor": 2
}
