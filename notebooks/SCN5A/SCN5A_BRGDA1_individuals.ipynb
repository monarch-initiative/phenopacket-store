{
 "cells": [
  {
   "cell_type": "markdown",
   "metadata": {},
   "source": [
    "# SCN5A\n",
    "[Brugada syndrome-1 (BRGDA1)](https://omim.org/entry/601144) is caused by heterozygous mutation in the SCN5A gene."
   ]
  },
  {
   "cell_type": "code",
   "execution_count": 5,
   "metadata": {},
   "outputs": [
    {
     "name": "stdout",
     "output_type": "stream",
     "text": [
      "Using pyphetools version 0.9.78\n"
     ]
    }
   ],
   "source": [
    "from pyphetools.creation import TemplateImporter\n",
    "from pyphetools.visualization import IndividualTable, QcVisualizer\n",
    "from IPython.display import display, HTML\n",
    "import pyphetools\n",
    "print(f\"Using pyphetools version {pyphetools.__version__}\")"
   ]
  },
  {
   "cell_type": "code",
   "execution_count": 7,
   "metadata": {},
   "outputs": [],
   "source": [
    "template = \"input/SCN5A_BRGDA1_individuals.xlsx\"\n",
    "hp_json = \"../hp.json\"\n",
    "created_by = \"0000-0002-0736-9199\""
   ]
  },
  {
   "cell_type": "code",
   "execution_count": 9,
   "metadata": {},
   "outputs": [
    {
     "name": "stdout",
     "output_type": "stream",
     "text": [
      "HPO version 2024-04-04\n",
      "Created encoders for 26 fields\n",
      "Importing OMIM:601144, Brugada syndrome 1, HGNC:10593, SCN5A,  NM_000335.5\n",
      "[INFO] encoding variant \"c.2091G>A\"\n",
      "https://rest.variantvalidator.org/VariantValidator/variantvalidator/hg38/NM_000335.5%3Ac.2091G>A/NM_000335.5?content-type=application%2Fjson\n",
      "[INFO] encoding variant \"c.5380T>C\"\n",
      "https://rest.variantvalidator.org/VariantValidator/variantvalidator/hg38/NM_000335.5%3Ac.5380T>C/NM_000335.5?content-type=application%2Fjson\n",
      "We output 2 GA4GH phenopackets to the directory phenopackets\n"
     ]
    }
   ],
   "source": [
    "timporter = TemplateImporter(template=template, hp_json=hp_json, created_by=created_by)\n",
    "individual_list, cvalidator = timporter.import_phenopackets_from_template()"
   ]
  },
  {
   "cell_type": "code",
   "execution_count": 10,
   "metadata": {},
   "outputs": [
    {
     "data": {
      "text/html": [
       "<h2>Cohort validation</h2>\n",
       "<p>No errors found for the cohort with 2 individuals</p>"
      ],
      "text/plain": [
       "<IPython.core.display.HTML object>"
      ]
     },
     "metadata": {},
     "output_type": "display_data"
    }
   ],
   "source": [
    "qc = QcVisualizer(cohort_validator=cvalidator)\n",
    "display(HTML(qc.to_summary_html()))"
   ]
  },
  {
   "cell_type": "code",
   "execution_count": 11,
   "metadata": {},
   "outputs": [
    {
     "data": {
      "text/html": [
       "<table style=\"border: 2px solid black; align: \"left\">\n",
       "<caption>2 phenopackets - PMID:11410597 (n=1); PMID:31590245 (n=1)</caption>\n",
       "<tr><th style=\"text-align: left;font-weight: bold;\">Individual</th><th style=\"text-align: left;font-weight: bold;\">Disease</th><th style=\"text-align: left;font-weight: bold;\">Genotype</th><th style=\"text-align: left;font-weight: bold;\">Phenotypic features</th></tr>\n",
       "<tr><td style=\"text-align: left;\">proband (MALE; P45Y)</td><td style=\"text-align: left;\">Brugada syndrome 1 (OMIM:601144)</td><td style=\"text-align: left;\">NM_000335.5:c.5380T>C (heterozygous)</td><td style=\"text-align: left;\"><b>P45Y</b>: Incomplete right bundle branch block (HP:6000313); ST segment elevation (HP:0012251); Ventricular tachycardia (HP:0004756)<br/>excluded: Cardiac arrest (HP:0001695); excluded: Sudden death (HP:0001699); excluded: Prolonged QT interval (HP:0001657); excluded: Palpitations (HP:0001962); excluded: Syncope (HP:0001279)</td></tr>\n",
       "<tr><td style=\"text-align: left;\">proband (MALE; P30Y)</td><td style=\"text-align: left;\">Brugada syndrome 1 (OMIM:601144)</td><td style=\"text-align: left;\">NM_000335.5:c.2091G>A (heterozygous)</td><td style=\"text-align: left;\">Palpitations (HP:0001962); Syncope (HP:0001279); ST segment elevation (HP:0012251); excluded: Cardiac arrest (HP:0001695); excluded: Incomplete right bundle branch block (HP:6000313); excluded: Sudden death (HP:0001699)</td></tr>\n",
       "</table>"
      ],
      "text/plain": [
       "<IPython.core.display.HTML object>"
      ]
     },
     "metadata": {},
     "output_type": "display_data"
    }
   ],
   "source": [
    "table = IndividualTable(cvalidator.get_error_free_individual_list())\n",
    "display(HTML(table.to_html()))"
   ]
  }
 ],
 "metadata": {
  "kernelspec": {
   "display_name": "ps24venv",
   "language": "python",
   "name": "python3"
  },
  "language_info": {
   "codemirror_mode": {
    "name": "ipython",
    "version": 3
   },
   "file_extension": ".py",
   "mimetype": "text/x-python",
   "name": "python",
   "nbconvert_exporter": "python",
   "pygments_lexer": "ipython3",
   "version": "3.9.6"
  }
 },
 "nbformat": 4,
 "nbformat_minor": 2
}
