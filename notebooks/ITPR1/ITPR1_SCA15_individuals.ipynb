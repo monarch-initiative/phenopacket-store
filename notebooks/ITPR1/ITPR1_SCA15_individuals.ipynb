{
 "cells": [
  {
   "cell_type": "markdown",
   "metadata": {},
   "source": [
    "# ITPR1\n",
    "[spinocerebellar ataxia-15 (SCA15)](https://omim.org/entry/606658) is caused by heterozygous mutation in the ITPR1 gene as well as by deletions involving the ITPR1 gene."
   ]
  },
  {
   "cell_type": "code",
   "execution_count": 1,
   "metadata": {},
   "outputs": [
    {
     "name": "stdout",
     "output_type": "stream",
     "text": [
      "Using pyphetools version 0.9.105\n"
     ]
    }
   ],
   "source": [
    "from pyphetools.creation import TemplateImporter, Moi\n",
    "from pyphetools.visualization import IndividualTable, QcVisualizer\n",
    "from IPython.display import display, HTML\n",
    "import pyphetools\n",
    "print(f\"Using pyphetools version {pyphetools.__version__}\")"
   ]
  },
  {
   "cell_type": "code",
   "execution_count": 2,
   "metadata": {},
   "outputs": [],
   "source": [
    "template = \"input/ITPR1_SCA15_individuals.xlsx\"\n",
    "created_by = \"0000-0002-0736-9199\""
   ]
  },
  {
   "cell_type": "code",
   "execution_count": 6,
   "metadata": {},
   "outputs": [
    {
     "name": "stdout",
     "output_type": "stream",
     "text": [
      "HPO version 2024-08-13\n",
      "Created encoders for 78 fields\n",
      "Importing OMIM:606658, Spinocerebellar ataxia 15, HGNC:6180, ITPR1,  NM_001378452.1\n",
      "We output 24 GA4GH phenopackets to the directory phenopackets\n"
     ]
    }
   ],
   "source": [
    "del_set = {\"DEL183kb\", \"DEL219kb\", \"DEL206kb\", \"DEL423kb\", \"DEL exons 1–52\", \"DEL exons 1–39\"}\n",
    "timporter = TemplateImporter(template=template,  created_by=created_by)\n",
    "individual_list, cvalidator = timporter.import_phenopackets_from_template(deletions=del_set)"
   ]
  },
  {
   "cell_type": "code",
   "execution_count": 7,
   "metadata": {},
   "outputs": [
    {
     "data": {
      "text/html": [
       "<h2>Cohort validation</h2>\n",
       "<p>Errors found with 22 of 24 phenopackets.</p>\n",
       "<table style=\"border: 2px solid black; align: \"left\">\n",
       "<caption>Error counts</caption>\n",
       "<tr><th style=\"text-align: left;font-weight: bold;\">Level</th><th style=\"text-align: left;font-weight: bold;\">Error category</th><th style=\"text-align: left;font-weight: bold;\">Count</th></tr>\n",
       "<tr><td style=\"text-align: left;\">WARNING</td><td style=\"text-align: left;\">REDUNDANT</td><td style=\"text-align: left;\">37</td></tr>\n",
       "</table>\n",
       "<p>A total of 37 issues were fixed and no individual was removed from the cohort.</p>"
      ],
      "text/plain": [
       "<IPython.core.display.HTML object>"
      ]
     },
     "metadata": {},
     "output_type": "display_data"
    }
   ],
   "source": [
    "qc = QcVisualizer(cohort_validator=cvalidator)\n",
    "display(HTML(qc.to_summary_html()))"
   ]
  },
  {
   "cell_type": "code",
   "execution_count": 8,
   "metadata": {},
   "outputs": [
    {
     "data": {
      "text/html": [
       "<table style=\"border: 2px solid black; align: \"left\">\n",
       "<caption>24 phenopackets - PMID:37154409 (n=5); PMID:21367767 (n=9); PMID:20082166 (n=10)</caption>\n",
       "<tr><th style=\"text-align: left;font-weight: bold;\">Individual</th><th style=\"text-align: left;font-weight: bold;\">Disease</th><th style=\"text-align: left;font-weight: bold;\">Genotype</th><th style=\"text-align: left;font-weight: bold;\">Phenotypic features</th></tr>\n",
       "<tr><td style=\"text-align: left;\">A III-6 (FEMALE; P63Y)</td><td style=\"text-align: left;\">Spinocerebellar ataxia 15 (OMIM:606658)</td><td style=\"text-align: left;\">NM_001378452.1:c.1639G>A (heterozygous)</td><td style=\"text-align: left;\">Truncal ataxia (HP:0002078): onset ; Limb dysmetria (HP:0002406): onset ; Cerebellar atrophy (HP:0001272): onset ; Gaze-evoked horizontal nystagmus (HP:0007979): onset ; excluded: Cerebral palsy (HP:0100021): onset ; excluded: Postural tremor (HP:0002174): onset ; excluded: Head tremor (HP:0002346): onset ; excluded: Hand tremor (HP:0002378): onset ; excluded: Dysarthria (HP:0001260): onset ; excluded: Motor delay (HP:0001270): onset ; excluded: Intellectual disability (HP:0001249): onset ; excluded: Mental deterioration (HP:0001268): onset <br/><b>TimeElement(element=Age(iso8601duration=P48Y))</b>: Gait ataxia (HP:0002066): onset age {\n",
       "  iso8601duration: \"P48Y\"\n",
       "}\n",
       "; Broad-based gait (HP:0002136): onset age {\n",
       "  iso8601duration: \"P48Y\"\n",
       "}\n",
       "; Impaired tandem gait (HP:0031629): onset age {\n",
       "  iso8601duration: \"P48Y\"\n",
       "}\n",
       "; Chorea (HP:0002072): onset age {\n",
       "  iso8601duration: \"P48Y\"\n",
       "}\n",
       "; Dyskinesia (HP:0100660): onset age {\n",
       "  iso8601duration: \"P48Y\"\n",
       "}\n",
       "</td></tr>\n",
       "<tr><td style=\"text-align: left;\">A III-7 (FEMALE; P61Y)</td><td style=\"text-align: left;\">Spinocerebellar ataxia 15 (OMIM:606658)</td><td style=\"text-align: left;\">NM_001378452.1:c.1639G>A (heterozygous)</td><td style=\"text-align: left;\">Gait ataxia (HP:0002066): onset ; Truncal ataxia (HP:0002078): onset ; Cerebellar atrophy (HP:0001272): onset ; Nystagmus (HP:0000639): onset ; Chorea (HP:0002072): onset ; excluded: Cerebral palsy (HP:0100021): onset ; excluded: Postural tremor (HP:0002174): onset ; excluded: Head tremor (HP:0002346): onset ; excluded: Hand tremor (HP:0002378): onset ; excluded: Dysarthria (HP:0001260): onset ; excluded: Motor delay (HP:0001270): onset ; excluded: Intellectual disability (HP:0001249): onset ; excluded: Mental deterioration (HP:0001268): onset <br/><b>TimeElement(element=Age(iso8601duration=P60Y))</b>: Limb dysmetria (HP:0002406): onset age {\n",
       "  iso8601duration: \"P60Y\"\n",
       "}\n",
       "</td></tr>\n",
       "<tr><td style=\"text-align: left;\">BII-2 (MALE; P65Y)</td><td style=\"text-align: left;\">Spinocerebellar ataxia 15 (OMIM:606658)</td><td style=\"text-align: left;\">NM_001378452.1:c.56C>T (heterozygous)</td><td style=\"text-align: left;\">Gait ataxia (HP:0002066): onset ; Truncal ataxia (HP:0002078): onset ; Limb dysmetria (HP:0002406): onset ; Cerebellar atrophy (HP:0001272): onset ; Gaze-evoked horizontal nystagmus (HP:0007979): onset ; excluded: Cerebral palsy (HP:0100021): onset ; excluded: Postural tremor (HP:0002174): onset ; excluded: Head tremor (HP:0002346): onset ; excluded: Hand tremor (HP:0002378): onset ; excluded: Motor delay (HP:0001270): onset ; excluded: Intellectual disability (HP:0001249): onset ; excluded: Mental deterioration (HP:0001268): onset ; excluded: Chorea (HP:0002072): onset <br/><b>TimeElement(element=Age(iso8601duration=P58Y))</b>: Unsteady gait (HP:0002317): onset age {\n",
       "  iso8601duration: \"P58Y\"\n",
       "}\n",
       "; Dysarthria (HP:0001260): onset age {\n",
       "  iso8601duration: \"P58Y\"\n",
       "}\n",
       "<br/><b>TimeElement(element=Age(iso8601duration=P60Y))</b>: Broad-based gait (HP:0002136): onset age {\n",
       "  iso8601duration: \"P60Y\"\n",
       "}\n",
       "; Impaired tandem gait (HP:0031629): onset age {\n",
       "  iso8601duration: \"P60Y\"\n",
       "}\n",
       "</td></tr>\n",
       "<tr><td style=\"text-align: left;\">B I-1 (FEMALE; P96Y)</td><td style=\"text-align: left;\">Spinocerebellar ataxia 15 (OMIM:606658)</td><td style=\"text-align: left;\">NM_001378452.1:c.56C>T (heterozygous)</td><td style=\"text-align: left;\">Gait ataxia (HP:0002066): onset ; Truncal ataxia (HP:0002078): onset ; Dysarthria (HP:0001260): onset ; Limb dysmetria (HP:0002406): onset ; excluded: Cerebral palsy (HP:0100021): onset ; excluded: Postural tremor (HP:0002174): onset ; excluded: Head tremor (HP:0002346): onset ; excluded: Hand tremor (HP:0002378): onset ; excluded: Motor delay (HP:0001270): onset ; excluded: Intellectual disability (HP:0001249): onset ; excluded: Gaze-evoked nystagmus (HP:0000640): onset ; excluded: Mental deterioration (HP:0001268): onset ; excluded: Chorea (HP:0002072): onset </td></tr>\n",
       "<tr><td style=\"text-align: left;\">C II-2 (FEMALE; P57Y)</td><td style=\"text-align: left;\">Spinocerebellar ataxia 15 (OMIM:606658)</td><td style=\"text-align: left;\">NM_001378452.1:c.256G>A (heterozygous)</td><td style=\"text-align: left;\">Gait ataxia (HP:0002066): onset ; Truncal ataxia (HP:0002078): onset ; Head tremor (HP:0002346): onset ; Hand tremor (HP:0002378): onset ; Dysarthria (HP:0001260): onset ; Limb dysmetria (HP:0002406): onset ; Cerebellar atrophy (HP:0001272): onset ; excluded: Cerebral palsy (HP:0100021): onset ; excluded: Postural tremor (HP:0002174): onset ; excluded: Motor delay (HP:0001270): onset ; excluded: Intellectual disability (HP:0001249): onset ; excluded: Gaze-evoked horizontal nystagmus (HP:0007979): onset ; excluded: Mental deterioration (HP:0001268): onset ; excluded: Chorea (HP:0002072): onset </td></tr>\n",
       "<tr><td style=\"text-align: left;\">F34 III-2 (UNKNOWN; P80Y)</td><td style=\"text-align: left;\">Spinocerebellar ataxia 15 (OMIM:606658)</td><td style=\"text-align: left;\">DEL423kb: chromosomal_deletion (SO:1000029)</td><td style=\"text-align: left;\">Intention tremor (HP:0002080): onset ; Dysarthria (HP:0001260): onset ; Limb dysmetria (HP:0002406): onset ; Hypermetric saccades (HP:0007338): onset ; Gaze-evoked nystagmus (HP:0000640): onset ; Cerebellar vermis atrophy (HP:0006855): onset ; Cerebellar cortical atrophy (HP:0008278): onset ; Dysphagia (HP:0002015): onset ; excluded: Neurodevelopmental delay (HP:0012758): onset ; excluded: Cerebral palsy (HP:0100021): onset ; excluded: Babinski sign (HP:0003487): onset ; excluded: Spasticity (HP:0001257): onset ; excluded: Hypometric saccades (HP:0000571): onset ; excluded: Mental deterioration (HP:0001268): onset <br/><b>TimeElement(element=Age(iso8601duration=P60Y))</b>: Gait disturbance (HP:0001288): onset age {\n",
       "  iso8601duration: \"P60Y\"\n",
       "}\n",
       "<br/><b>TimeElement(element=Age(iso8601duration=P74Y))</b>: Postural tremor (HP:0002174): onset age {\n",
       "  iso8601duration: \"P74Y\"\n",
       "}\n",
       "</td></tr>\n",
       "<tr><td style=\"text-align: left;\">F34 IV-3 (UNKNOWN; P46Y)</td><td style=\"text-align: left;\">Spinocerebellar ataxia 15 (OMIM:606658)</td><td style=\"text-align: left;\">DEL423kb: chromosomal_deletion (SO:1000029)</td><td style=\"text-align: left;\">Postural tremor (HP:0002174): onset ; Intention tremor (HP:0002080): onset ; Limb dysmetria (HP:0002406): onset ; Hypometric saccades (HP:0000571): onset ; Hypermetric saccades (HP:0007338): onset ; Gaze-evoked nystagmus (HP:0000640): onset ; Cerebellar vermis atrophy (HP:0006855): onset ; Cerebellar cortical atrophy (HP:0008278): onset ; excluded: Neurodevelopmental delay (HP:0012758): onset ; excluded: Cerebral palsy (HP:0100021): onset ; excluded: Babinski sign (HP:0003487): onset ; excluded: Spasticity (HP:0001257): onset ; excluded: Dysarthria (HP:0001260): onset ; excluded: Dysphagia (HP:0002015): onset ; excluded: Mental deterioration (HP:0001268): onset <br/><b>TimeElement(element=Age(iso8601duration=P41Y))</b>: Gait disturbance (HP:0001288): onset age {\n",
       "  iso8601duration: \"P41Y\"\n",
       "}\n",
       "</td></tr>\n",
       "<tr><td style=\"text-align: left;\">F34 IV-4 (UNKNOWN; P51Y)</td><td style=\"text-align: left;\">Spinocerebellar ataxia 15 (OMIM:606658)</td><td style=\"text-align: left;\">DEL423kb: chromosomal_deletion (SO:1000029)</td><td style=\"text-align: left;\">Intention tremor (HP:0002080): onset ; Limb dysmetria (HP:0002406): onset ; Hypometric saccades (HP:0000571): onset ; Hypermetric saccades (HP:0007338): onset ; Cerebellar vermis atrophy (HP:0006855): onset ; Cerebellar cortical atrophy (HP:0008278): onset ; excluded: Neurodevelopmental delay (HP:0012758): onset ; excluded: Cerebral palsy (HP:0100021): onset ; excluded: Postural tremor (HP:0002174): onset ; excluded: Babinski sign (HP:0003487): onset ; excluded: Spasticity (HP:0001257): onset ; excluded: Dysarthria (HP:0001260): onset ; excluded: Gaze-evoked nystagmus (HP:0000640): onset ; excluded: Dysphagia (HP:0002015): onset ; excluded: Mental deterioration (HP:0001268): onset <br/><b>TimeElement(element=Age(iso8601duration=P46Y))</b>: Gait disturbance (HP:0001288): onset age {\n",
       "  iso8601duration: \"P46Y\"\n",
       "}\n",
       "</td></tr>\n",
       "<tr><td style=\"text-align: left;\">F39 II-3 (UNKNOWN; P62Y)</td><td style=\"text-align: left;\">Spinocerebellar ataxia 15 (OMIM:606658)</td><td style=\"text-align: left;\">DEL206kb: chromosomal_deletion (SO:1000029)</td><td style=\"text-align: left;\">Intention tremor (HP:0002080): onset ; Babinski sign (HP:0003487): onset ; Dysarthria (HP:0001260): onset ; Limb dysmetria (HP:0002406): onset ; Hypometric saccades (HP:0000571): onset ; Gaze-evoked nystagmus (HP:0000640): onset ; Cerebellar vermis atrophy (HP:0006855): onset ; Cerebellar cortical atrophy (HP:0008278): onset ; Dysphagia (HP:0002015): onset ; excluded: Neurodevelopmental delay (HP:0012758): onset ; excluded: Cerebral palsy (HP:0100021): onset ; excluded: Spasticity (HP:0001257): onset ; excluded: Hypermetric saccades (HP:0007338): onset ; excluded: Mental deterioration (HP:0001268): onset <br/><b>TimeElement(element=Age(iso8601duration=P45Y))</b>: Gait disturbance (HP:0001288): onset age {\n",
       "  iso8601duration: \"P45Y\"\n",
       "}\n",
       "<br/><b>TimeElement(element=Age(iso8601duration=P50Y))</b>: Postural tremor (HP:0002174): onset age {\n",
       "  iso8601duration: \"P50Y\"\n",
       "}\n",
       "</td></tr>\n",
       "<tr><td style=\"text-align: left;\">F39 III-4 (UNKNOWN; P50Y)</td><td style=\"text-align: left;\">Spinocerebellar ataxia 15 (OMIM:606658)</td><td style=\"text-align: left;\">DEL206kb: chromosomal_deletion (SO:1000029)</td><td style=\"text-align: left;\">Intention tremor (HP:0002080): onset ; Limb dysmetria (HP:0002406): onset ; Cerebellar vermis atrophy (HP:0006855): onset ; Cerebellar cortical atrophy (HP:0008278): onset ; excluded: Neurodevelopmental delay (HP:0012758): onset ; excluded: Cerebral palsy (HP:0100021): onset ; excluded: Babinski sign (HP:0003487): onset ; excluded: Spasticity (HP:0001257): onset ; excluded: Dysarthria (HP:0001260): onset ; excluded: Hypometric saccades (HP:0000571): onset ; excluded: Hypermetric saccades (HP:0007338): onset ; excluded: Gaze-evoked nystagmus (HP:0000640): onset ; excluded: Dysphagia (HP:0002015): onset ; excluded: Mental deterioration (HP:0001268): onset <br/><b>TimeElement(element=Age(iso8601duration=P35Y))</b>: Gait disturbance (HP:0001288): onset age {\n",
       "  iso8601duration: \"P35Y\"\n",
       "}\n",
       "<br/><b>TimeElement(element=Age(iso8601duration=P49Y))</b>: Postural tremor (HP:0002174): onset age {\n",
       "  iso8601duration: \"P49Y\"\n",
       "}\n",
       "</td></tr>\n",
       "<tr><td style=\"text-align: left;\">F48 II-3 (UNKNOWN; P69Y)</td><td style=\"text-align: left;\">Spinocerebellar ataxia 15 (OMIM:606658)</td><td style=\"text-align: left;\">DEL219kb: chromosomal_deletion (SO:1000029)</td><td style=\"text-align: left;\">Intention tremor (HP:0002080): onset ; Dysarthria (HP:0001260): onset ; Limb dysmetria (HP:0002406): onset ; Hypometric saccades (HP:0000571): onset ; Hypermetric saccades (HP:0007338): onset ; Gaze-evoked nystagmus (HP:0000640): onset ; Cerebellar vermis atrophy (HP:0006855): onset ; Cerebellar cortical atrophy (HP:0008278): onset ; Dysphagia (HP:0002015): onset ; excluded: Neurodevelopmental delay (HP:0012758): onset ; excluded: Cerebral palsy (HP:0100021): onset ; excluded: Babinski sign (HP:0003487): onset ; excluded: Spasticity (HP:0001257): onset ; excluded: Mental deterioration (HP:0001268): onset <br/><b>TimeElement(element=Age(iso8601duration=P50Y))</b>: Gait disturbance (HP:0001288): onset age {\n",
       "  iso8601duration: \"P50Y\"\n",
       "}\n",
       "<br/><b>TimeElement(element=Age(iso8601duration=P67Y))</b>: Postural tremor (HP:0002174): onset age {\n",
       "  iso8601duration: \"P67Y\"\n",
       "}\n",
       "</td></tr>\n",
       "<tr><td style=\"text-align: left;\">F48 III-1 (UNKNOWN; P33Y)</td><td style=\"text-align: left;\">Spinocerebellar ataxia 15 (OMIM:606658)</td><td style=\"text-align: left;\">DEL219kb: chromosomal_deletion (SO:1000029)</td><td style=\"text-align: left;\">Intention tremor (HP:0002080): onset ; Spasticity (HP:0001257): onset ; Limb dysmetria (HP:0002406): onset ; Hypometric saccades (HP:0000571): onset ; Hypermetric saccades (HP:0007338): onset ; Gaze-evoked nystagmus (HP:0000640): onset ; Cerebellar vermis atrophy (HP:0006855): onset ; Cerebellar cortical atrophy (HP:0008278): onset ; excluded: Neurodevelopmental delay (HP:0012758): onset ; excluded: Cerebral palsy (HP:0100021): onset ; excluded: Postural tremor (HP:0002174): onset ; excluded: Babinski sign (HP:0003487): onset ; excluded: Dysarthria (HP:0001260): onset ; excluded: Dysphagia (HP:0002015): onset ; excluded: Mental deterioration (HP:0001268): onset <br/><b>TimeElement(element=Age(iso8601duration=P33Y))</b>: Gait disturbance (HP:0001288): onset age {\n",
       "  iso8601duration: \"P33Y\"\n",
       "}\n",
       "</td></tr>\n",
       "<tr><td style=\"text-align: left;\">F48 III-7 (UNKNOWN; P41Y)</td><td style=\"text-align: left;\">Spinocerebellar ataxia 15 (OMIM:606658)</td><td style=\"text-align: left;\">DEL219kb: chromosomal_deletion (SO:1000029)</td><td style=\"text-align: left;\">Postural tremor (HP:0002174): onset ; Intention tremor (HP:0002080): onset ; Dysarthria (HP:0001260): onset ; Limb dysmetria (HP:0002406): onset ; Hypometric saccades (HP:0000571): onset ; Hypermetric saccades (HP:0007338): onset ; Gaze-evoked nystagmus (HP:0000640): onset ; Cerebellar vermis atrophy (HP:0006855): onset ; Cerebellar cortical atrophy (HP:0008278): onset ; Dysphagia (HP:0002015): onset ; excluded: Neurodevelopmental delay (HP:0012758): onset ; excluded: Cerebral palsy (HP:0100021): onset ; excluded: Babinski sign (HP:0003487): onset ; excluded: Spasticity (HP:0001257): onset ; excluded: Mental deterioration (HP:0001268): onset <br/><b>TimeElement(element=Age(iso8601duration=P31Y))</b>: Gait disturbance (HP:0001288): onset age {\n",
       "  iso8601duration: \"P31Y\"\n",
       "}\n",
       "</td></tr>\n",
       "<tr><td style=\"text-align: left;\">F49 III-3 (UNKNOWN; P73Y)</td><td style=\"text-align: left;\">Spinocerebellar ataxia 15 (OMIM:606658)</td><td style=\"text-align: left;\">DEL183kb: chromosomal_deletion (SO:1000029)</td><td style=\"text-align: left;\">Intention tremor (HP:0002080): onset ; Dysarthria (HP:0001260): onset ; Limb dysmetria (HP:0002406): onset ; Hypometric saccades (HP:0000571): onset ; Hypermetric saccades (HP:0007338): onset ; Gaze-evoked nystagmus (HP:0000640): onset ; Cerebellar vermis atrophy (HP:0006855): onset ; Cerebellar cortical atrophy (HP:0008278): onset ; excluded: Neurodevelopmental delay (HP:0012758): onset ; excluded: Cerebral palsy (HP:0100021): onset ; excluded: Babinski sign (HP:0003487): onset ; excluded: Spasticity (HP:0001257): onset ; excluded: Dysphagia (HP:0002015): onset ; excluded: Mental deterioration (HP:0001268): onset <br/><b>TimeElement(element=Age(iso8601duration=P67Y))</b>: Gait disturbance (HP:0001288): onset age {\n",
       "  iso8601duration: \"P67Y\"\n",
       "}\n",
       "<br/><b>TimeElement(element=Age(iso8601duration=P69Y))</b>: Postural tremor (HP:0002174): onset age {\n",
       "  iso8601duration: \"P69Y\"\n",
       "}\n",
       "</td></tr>\n",
       "<tr><td style=\"text-align: left;\">Family 6947 individual II-1 (FEMALE; P78Y)</td><td style=\"text-align: left;\">Spinocerebellar ataxia 15 (OMIM:606658)</td><td style=\"text-align: left;\">DEL exons 1–39: chromosomal_deletion (SO:1000029)</td><td style=\"text-align: left;\">Gait ataxia (HP:0002066): onset ; Dysarthria (HP:0001260): onset ; Nystagmus (HP:0000639): onset ; Hyperreflexia (HP:0001347): onset ; excluded: Neurodevelopmental delay (HP:0012758): onset ; excluded: Cerebral palsy (HP:0100021): onset </td></tr>\n",
       "<tr><td style=\"text-align: left;\">Family 6947 individual III-2 (MALE; P56Y)</td><td style=\"text-align: left;\">Spinocerebellar ataxia 15 (OMIM:606658)</td><td style=\"text-align: left;\">DEL exons 1–39: chromosomal_deletion (SO:1000029)</td><td style=\"text-align: left;\">Gait ataxia (HP:0002066): onset ; Unsteady gait (HP:0002317): onset ; Dysarthria (HP:0001260): onset ; Nystagmus (HP:0000639): onset ; Cerebellar vermis atrophy (HP:0006855): onset ; excluded: Neurodevelopmental delay (HP:0012758): onset ; excluded: Cerebral palsy (HP:0100021): onset ; excluded: Truncal ataxia (HP:0002078): onset ; excluded: Postural tremor (HP:0002174): onset ; excluded: Myokymia (HP:0002411): onset ; excluded: Impaired distal vibration sensation (HP:0006886): onset ; excluded: Hyperreflexia (HP:0001347): onset ; excluded: Absent Achilles reflex (HP:0003438): onset ; excluded: Cerebellar cortical atrophy (HP:0008278): onset ; excluded: Dysphagia (HP:0002015): onset ; excluded: Mental deterioration (HP:0001268): onset ; excluded: Orofacial dyskinesia (HP:0002310): onset </td></tr>\n",
       "<tr><td style=\"text-align: left;\">Family 6947 individual III-4 (FEMALE; P59Y)</td><td style=\"text-align: left;\">Spinocerebellar ataxia 15 (OMIM:606658)</td><td style=\"text-align: left;\">DEL exons 1–39: chromosomal_deletion (SO:1000029)</td><td style=\"text-align: left;\">Gait ataxia (HP:0002066): onset ; Limb ataxia (HP:0002070): onset ; Truncal ataxia (HP:0002078): onset ; Dysarthria (HP:0001260): onset ; Myokymia (HP:0002411): onset ; Nystagmus (HP:0000639): onset ; Cerebellar vermis atrophy (HP:0006855): onset ; excluded: Neurodevelopmental delay (HP:0012758): onset ; excluded: Cerebral palsy (HP:0100021): onset ; excluded: Postural tremor (HP:0002174): onset ; excluded: Babinski sign (HP:0003487): onset ; excluded: Impaired distal vibration sensation (HP:0006886): onset ; excluded: Hyperreflexia (HP:0001347): onset ; excluded: Absent Achilles reflex (HP:0003438): onset ; excluded: Cerebellar cortical atrophy (HP:0008278): onset ; excluded: Dysphagia (HP:0002015): onset ; excluded: Mental deterioration (HP:0001268): onset ; excluded: Orofacial dyskinesia (HP:0002310): onset </td></tr>\n",
       "<tr><td style=\"text-align: left;\">Family 6947 individual III-6 (MALE; P62Y)</td><td style=\"text-align: left;\">Spinocerebellar ataxia 15 (OMIM:606658)</td><td style=\"text-align: left;\">DEL exons 1–39: chromosomal_deletion (SO:1000029)</td><td style=\"text-align: left;\">Gait ataxia (HP:0002066): onset ; Limb ataxia (HP:0002070): onset ; Truncal ataxia (HP:0002078): onset ; Dysarthria (HP:0001260): onset ; Myokymia (HP:0002411): onset ; Nystagmus (HP:0000639): onset ; Cerebellar vermis atrophy (HP:0006855): onset ; excluded: Neurodevelopmental delay (HP:0012758): onset ; excluded: Cerebral palsy (HP:0100021): onset ; excluded: Postural tremor (HP:0002174): onset ; excluded: Babinski sign (HP:0003487): onset ; excluded: Impaired distal vibration sensation (HP:0006886): onset ; excluded: Hyperreflexia (HP:0001347): onset ; excluded: Absent Achilles reflex (HP:0003438): onset ; excluded: Cerebellar cortical atrophy (HP:0008278): onset ; excluded: Dysphagia (HP:0002015): onset ; excluded: Mental deterioration (HP:0001268): onset ; excluded: Orofacial dyskinesia (HP:0002310): onset </td></tr>\n",
       "<tr><td style=\"text-align: left;\">Family 6947 individual III-10 (FEMALE; P70Y)</td><td style=\"text-align: left;\">Spinocerebellar ataxia 15 (OMIM:606658)</td><td style=\"text-align: left;\">DEL exons 1–39: chromosomal_deletion (SO:1000029)</td><td style=\"text-align: left;\">Gait ataxia (HP:0002066): onset ; Dysarthria (HP:0001260): onset ; Nystagmus (HP:0000639): onset ; excluded: Neurodevelopmental delay (HP:0012758): onset ; excluded: Cerebral palsy (HP:0100021): onset ; excluded: Limb ataxia (HP:0002070): onset ; excluded: Truncal ataxia (HP:0002078): onset ; excluded: Postural tremor (HP:0002174): onset ; excluded: Babinski sign (HP:0003487): onset ; excluded: Myokymia (HP:0002411): onset ; excluded: Impaired distal vibration sensation (HP:0006886): onset ; excluded: Hyperreflexia (HP:0001347): onset ; excluded: Absent Achilles reflex (HP:0003438): onset ; excluded: Dysphagia (HP:0002015): onset ; excluded: Mental deterioration (HP:0001268): onset ; excluded: Orofacial dyskinesia (HP:0002310): onset </td></tr>\n",
       "<tr><td style=\"text-align: left;\">Family 6947 individual III-11 (MALE; P65Y)</td><td style=\"text-align: left;\">Spinocerebellar ataxia 15 (OMIM:606658)</td><td style=\"text-align: left;\">DEL exons 1–39: chromosomal_deletion (SO:1000029)</td><td style=\"text-align: left;\">Gait ataxia (HP:0002066): onset ; Limb ataxia (HP:0002070): onset ; Dysarthria (HP:0001260): onset ; Nystagmus (HP:0000639): onset ; Dysphagia (HP:0002015): onset ; excluded: Neurodevelopmental delay (HP:0012758): onset ; excluded: Cerebral palsy (HP:0100021): onset ; excluded: Truncal ataxia (HP:0002078): onset ; excluded: Postural tremor (HP:0002174): onset ; excluded: Babinski sign (HP:0003487): onset ; excluded: Myokymia (HP:0002411): onset ; excluded: Impaired distal vibration sensation (HP:0006886): onset ; excluded: Hyperreflexia (HP:0001347): onset ; excluded: Absent Achilles reflex (HP:0003438): onset ; excluded: Mental deterioration (HP:0001268): onset ; excluded: Orofacial dyskinesia (HP:0002310): onset </td></tr>\n",
       "<tr><td style=\"text-align: left;\">Family 6947 individual III-12 (FEMALE; P60Y)</td><td style=\"text-align: left;\">Spinocerebellar ataxia 15 (OMIM:606658)</td><td style=\"text-align: left;\">DEL exons 1–39: chromosomal_deletion (SO:1000029)</td><td style=\"text-align: left;\">Gait ataxia (HP:0002066): onset ; Limb ataxia (HP:0002070): onset ; Postural tremor (HP:0002174): onset ; Dysarthria (HP:0001260): onset ; Nystagmus (HP:0000639): onset ; Hyperreflexia (HP:0001347): onset ; Cerebellar vermis atrophy (HP:0006855): onset ; Dysphagia (HP:0002015): onset ; excluded: Neurodevelopmental delay (HP:0012758): onset ; excluded: Cerebral palsy (HP:0100021): onset ; excluded: Truncal ataxia (HP:0002078): onset ; excluded: Babinski sign (HP:0003487): onset ; excluded: Myokymia (HP:0002411): onset ; excluded: Impaired distal vibration sensation (HP:0006886): onset ; excluded: Absent Achilles reflex (HP:0003438): onset ; excluded: Mental deterioration (HP:0001268): onset ; excluded: Orofacial dyskinesia (HP:0002310): onset </td></tr>\n",
       "<tr><td style=\"text-align: left;\">Family 6947 individual IV-8 (FEMALE; P44Y)</td><td style=\"text-align: left;\">Spinocerebellar ataxia 15 (OMIM:606658)</td><td style=\"text-align: left;\">DEL exons 1–39: chromosomal_deletion (SO:1000029)</td><td style=\"text-align: left;\">Gait ataxia (HP:0002066): onset ; Limb ataxia (HP:0002070): onset ; Babinski sign (HP:0003487): onset ; Dysarthria (HP:0001260): onset ; Nystagmus (HP:0000639): onset ; Hyperreflexia (HP:0001347): onset ; Dysphagia (HP:0002015): onset ; excluded: Neurodevelopmental delay (HP:0012758): onset ; excluded: Cerebral palsy (HP:0100021): onset ; excluded: Truncal ataxia (HP:0002078): onset ; excluded: Postural tremor (HP:0002174): onset ; excluded: Myokymia (HP:0002411): onset ; excluded: Impaired distal vibration sensation (HP:0006886): onset ; excluded: Absent Achilles reflex (HP:0003438): onset ; excluded: Mental deterioration (HP:0001268): onset ; excluded: Orofacial dyskinesia (HP:0002310): onset </td></tr>\n",
       "<tr><td style=\"text-align: left;\">Family E037 individual II-2 (FEMALE; P81Y)</td><td style=\"text-align: left;\">Spinocerebellar ataxia 15 (OMIM:606658)</td><td style=\"text-align: left;\">DEL exons 1–52: chromosomal_deletion (SO:1000029)</td><td style=\"text-align: left;\">Gait ataxia (HP:0002066): onset ; Limb ataxia (HP:0002070): onset ; Truncal ataxia (HP:0002078): onset ; Unsteady gait (HP:0002317): onset ; Babinski sign (HP:0003487): onset ; Dysarthria (HP:0001260): onset ; Nystagmus (HP:0000639): onset ; Impaired distal vibration sensation (HP:0006886): onset ; Hyperreflexia (HP:0001347): onset ; Absent Achilles reflex (HP:0003438): onset ; Cerebellar vermis atrophy (HP:0006855): onset ; Cerebellar cortical atrophy (HP:0008278): onset ; Dysphagia (HP:0002015): onset ; Mental deterioration (HP:0001268): onset ; Orofacial dyskinesia (HP:0002310): onset ; excluded: Neurodevelopmental delay (HP:0012758): onset ; excluded: Cerebral palsy (HP:0100021): onset ; excluded: Postural tremor (HP:0002174): onset ; excluded: Myokymia (HP:0002411): onset </td></tr>\n",
       "<tr><td style=\"text-align: left;\">Family E037 individual II-4 (MALE; P79Y)</td><td style=\"text-align: left;\">Spinocerebellar ataxia 15 (OMIM:606658)</td><td style=\"text-align: left;\">DEL exons 1–52: chromosomal_deletion (SO:1000029)</td><td style=\"text-align: left;\">Gait ataxia (HP:0002066): onset ; Limb ataxia (HP:0002070): onset ; Truncal ataxia (HP:0002078): onset ; Unsteady gait (HP:0002317): onset ; Postural tremor (HP:0002174): onset ; Babinski sign (HP:0003487): onset ; Dysarthria (HP:0001260): onset ; Nystagmus (HP:0000639): onset ; Impaired distal vibration sensation (HP:0006886): onset ; Hyperreflexia (HP:0001347): onset ; Cerebellar vermis atrophy (HP:0006855): onset ; Cerebellar cortical atrophy (HP:0008278): onset ; Dysphagia (HP:0002015): onset ; Mental deterioration (HP:0001268): onset ; Orofacial dyskinesia (HP:0002310): onset ; excluded: Neurodevelopmental delay (HP:0012758): onset ; excluded: Cerebral palsy (HP:0100021): onset ; excluded: Myokymia (HP:0002411): onset ; excluded: Absent Achilles reflex (HP:0003438): onset </td></tr>\n",
       "</table>"
      ],
      "text/plain": [
       "<IPython.core.display.HTML object>"
      ]
     },
     "metadata": {},
     "output_type": "display_data"
    }
   ],
   "source": [
    "table = IndividualTable(cvalidator.get_error_free_individual_list())\n",
    "display(HTML(table.to_html()))"
   ]
  },
  {
   "cell_type": "code",
   "execution_count": 9,
   "metadata": {},
   "outputs": [
    {
     "name": "stdout",
     "output_type": "stream",
     "text": [
      "[pyphetools] Ingested 90 GA4GH phenopackets.\n",
      "[INFO] Extracted 24 from 90 phenopackets with OMIM:606658\n",
      "\n",
      "\tSpinocerebellar ataxia 15 (OMIM:606658): n=24\n",
      "We found a total of 36 unique HPO terms\n",
      "Extracted disease: Spinocerebellar ataxia 15 (OMIM:606658)\n",
      "Wrote HPOA disease file to OMIM-606658.tab\n"
     ]
    }
   ],
   "source": [
    "pmid = \"PMID:37154409\"\n",
    "df = timporter.create_hpoa_from_phenopackets(pmid=pmid, mode_of_inheritance=Moi.AD, target=\"OMIM:606658\")"
   ]
  }
 ],
 "metadata": {
  "kernelspec": {
   "display_name": "ps24venv",
   "language": "python",
   "name": "python3"
  },
  "language_info": {
   "codemirror_mode": {
    "name": "ipython",
    "version": 3
   },
   "file_extension": ".py",
   "mimetype": "text/x-python",
   "name": "python",
   "nbconvert_exporter": "python",
   "pygments_lexer": "ipython3",
   "version": "3.12.4"
  }
 },
 "nbformat": 4,
 "nbformat_minor": 2
}
