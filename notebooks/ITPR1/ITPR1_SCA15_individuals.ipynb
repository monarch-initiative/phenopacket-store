{
 "cells": [
  {
   "cell_type": "markdown",
   "metadata": {},
   "source": [
    "# ITPR1\n",
    "[spinocerebellar ataxia-15 (SCA15)](https://omim.org/entry/606658) is caused by heterozygous mutation in the ITPR1 gene as well as by deletions involving the ITPR1 gene."
   ]
  },
  {
   "cell_type": "code",
   "execution_count": 1,
   "metadata": {},
   "outputs": [
    {
     "name": "stdout",
     "output_type": "stream",
     "text": [
      "Using pyphetools version 0.9.88\n"
     ]
    },
    {
     "name": "stderr",
     "output_type": "stream",
     "text": [
      "/Users/robin/GIT/phenopacket-store/ps24venv/lib/python3.9/site-packages/urllib3/__init__.py:35: NotOpenSSLWarning: urllib3 v2 only supports OpenSSL 1.1.1+, currently the 'ssl' module is compiled with 'LibreSSL 2.8.3'. See: https://github.com/urllib3/urllib3/issues/3020\n",
      "  warnings.warn(\n"
     ]
    }
   ],
   "source": [
    "from pyphetools.creation import TemplateImporter\n",
    "from pyphetools.visualization import IndividualTable, QcVisualizer\n",
    "from IPython.display import display, HTML\n",
    "import pyphetools\n",
    "print(f\"Using pyphetools version {pyphetools.__version__}\")"
   ]
  },
  {
   "cell_type": "code",
   "execution_count": 2,
   "metadata": {},
   "outputs": [],
   "source": [
    "template = \"input/ITPR1_SCA15_individuals.xlsx\"\n",
    "created_by = \"0000-0002-0736-9199\""
   ]
  },
  {
   "cell_type": "code",
   "execution_count": 3,
   "metadata": {},
   "outputs": [
    {
     "name": "stdout",
     "output_type": "stream",
     "text": [
      "HPO version 2024-04-26\n",
      "Created encoders for 176 fields\n",
      "Importing OMIM:606658, Spinocerebellar ataxia 15, HGNC:6180, ITPR1,  NM_001378452.1\n",
      "We output 5 GA4GH phenopackets to the directory phenopackets\n"
     ]
    }
   ],
   "source": [
    "timporter = TemplateImporter(template=template,  created_by=created_by)\n",
    "individual_list, cvalidator = timporter.import_phenopackets_from_template()"
   ]
  },
  {
   "cell_type": "code",
   "execution_count": 4,
   "metadata": {},
   "outputs": [
    {
     "data": {
      "text/html": [
       "<h2>Cohort validation</h2>\n",
       "<p>Errors found with 3 of 5 phenopackets.</p>\n",
       "<table style=\"border: 2px solid black; align: \"left\">\n",
       "<caption>Error counts</caption>\n",
       "<tr><th style=\"text-align: left;font-weight: bold;\">Level</th><th style=\"text-align: left;font-weight: bold;\">Error category</th><th style=\"text-align: left;font-weight: bold;\">Count</th></tr>\n",
       "<tr><td style=\"text-align: left;\">WARNING</td><td style=\"text-align: left;\">REDUNDANT</td><td style=\"text-align: left;\">4</td></tr>\n",
       "</table>\n",
       "<p>A total of 4 issues were fixed and no individual was removed from the cohort.</p>"
      ],
      "text/plain": [
       "<IPython.core.display.HTML object>"
      ]
     },
     "metadata": {},
     "output_type": "display_data"
    }
   ],
   "source": [
    "qc = QcVisualizer(cohort_validator=cvalidator)\n",
    "display(HTML(qc.to_summary_html()))"
   ]
  },
  {
   "cell_type": "code",
   "execution_count": 5,
   "metadata": {},
   "outputs": [
    {
     "data": {
      "text/html": [
       "<table style=\"border: 2px solid black; align: \"left\">\n",
       "<caption>5 phenopackets - PMID:37154409 (n=5)</caption>\n",
       "<tr><th style=\"text-align: left;font-weight: bold;\">Individual</th><th style=\"text-align: left;font-weight: bold;\">Disease</th><th style=\"text-align: left;font-weight: bold;\">Genotype</th><th style=\"text-align: left;font-weight: bold;\">Phenotypic features</th></tr>\n",
       "<tr><td style=\"text-align: left;\">A III-6 (FEMALE; P63Y)</td><td style=\"text-align: left;\">Spinocerebellar ataxia 15 (OMIM:606658)</td><td style=\"text-align: left;\">NM_001378452.1:c.1639G>A (heterozygous)</td><td style=\"text-align: left;\"><b>P48Y</b>: Impaired tandem gait (HP:0031629)<br/>Broad-based gait (HP:0002136); Cerebellar atrophy (HP:0001272); Gaze-evoked nystagmus (HP:0000640); Limb dysmetria (HP:0002406); Truncal ataxia (HP:0002078); Chorea (HP:0002072); Dyskinesia (HP:0100660); excluded: Neurodevelopmental delay (HP:0012758); excluded: Cerebral palsy (HP:0100021); excluded: Dysarthria (HP:0001260); excluded: Intellectual disability (HP:0001249); excluded: Tremor (HP:0001337)</td></tr>\n",
       "<tr><td style=\"text-align: left;\">A III-7 (FEMALE; P61Y)</td><td style=\"text-align: left;\">Spinocerebellar ataxia 15 (OMIM:606658)</td><td style=\"text-align: left;\">NM_001378452.1:c.1639G>A (heterozygous)</td><td style=\"text-align: left;\"><b>P60Y</b>: Limb dysmetria (HP:0002406)<br/>Cerebellar atrophy (HP:0001272); Nystagmus (HP:0000639); Truncal ataxia (HP:0002078); Chorea (HP:0002072); excluded: Neurodevelopmental delay (HP:0012758); excluded: Cerebral palsy (HP:0100021); excluded: Dysarthria (HP:0001260); excluded: Intellectual disability (HP:0001249); excluded: Tremor (HP:0001337)</td></tr>\n",
       "<tr><td style=\"text-align: left;\">BII-2 (MALE; P65Y)</td><td style=\"text-align: left;\">Spinocerebellar ataxia 15 (OMIM:606658)</td><td style=\"text-align: left;\">NM_001378452.1:c.56C>T (heterozygous)</td><td style=\"text-align: left;\">Broad-based gait (HP:0002136); Dysarthria (HP:0001260); Cerebellar atrophy (HP:0001272); Gaze-evoked nystagmus (HP:0000640); Limb dysmetria (HP:0002406); Truncal ataxia (HP:0002078); Difficulty walking (HP:0002355); excluded: Neurodevelopmental delay (HP:0012758); excluded: Cerebral palsy (HP:0100021); excluded: Intellectual disability (HP:0001249); excluded: Tremor (HP:0001337); excluded: Chorea (HP:0002072)</td></tr>\n",
       "<tr><td style=\"text-align: left;\">B I-1 (FEMALE; P96Y)</td><td style=\"text-align: left;\">Spinocerebellar ataxia 15 (OMIM:606658)</td><td style=\"text-align: left;\">NM_001378452.1:c.56C>T (heterozygous)</td><td style=\"text-align: left;\">Dysarthria (HP:0001260); Limb dysmetria (HP:0002406); Truncal ataxia (HP:0002078); excluded: Neurodevelopmental delay (HP:0012758); excluded: Cerebral palsy (HP:0100021); excluded: Intellectual disability (HP:0001249); excluded: Gaze-evoked nystagmus (HP:0000640); excluded: Tremor (HP:0001337); excluded: Chorea (HP:0002072)</td></tr>\n",
       "<tr><td style=\"text-align: left;\">C II-2 (FEMALE; P57Y)</td><td style=\"text-align: left;\">Spinocerebellar ataxia 15 (OMIM:606658)</td><td style=\"text-align: left;\">NM_001378452.1:c.256G>A (heterozygous)</td><td style=\"text-align: left;\">Dysarthria (HP:0001260); Cerebellar atrophy (HP:0001272); Limb dysmetria (HP:0002406); Tremor (HP:0001337); Truncal ataxia (HP:0002078); Gait ataxia (HP:0002066); excluded: Neurodevelopmental delay (HP:0012758); excluded: Cerebral palsy (HP:0100021); excluded: Intellectual disability (HP:0001249); excluded: Gaze-evoked nystagmus (HP:0000640); excluded: Chorea (HP:0002072)</td></tr>\n",
       "</table>"
      ],
      "text/plain": [
       "<IPython.core.display.HTML object>"
      ]
     },
     "metadata": {},
     "output_type": "display_data"
    }
   ],
   "source": [
    "table = IndividualTable(cvalidator.get_error_free_individual_list())\n",
    "display(HTML(table.to_html()))"
   ]
  }
 ],
 "metadata": {
  "kernelspec": {
   "display_name": "ps24venv",
   "language": "python",
   "name": "python3"
  },
  "language_info": {
   "codemirror_mode": {
    "name": "ipython",
    "version": 3
   },
   "file_extension": ".py",
   "mimetype": "text/x-python",
   "name": "python",
   "nbconvert_exporter": "python",
   "pygments_lexer": "ipython3",
   "version": "3.9.6"
  }
 },
 "nbformat": 4,
 "nbformat_minor": 2
}
