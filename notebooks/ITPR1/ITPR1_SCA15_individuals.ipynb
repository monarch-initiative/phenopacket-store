{
 "cells": [
  {
   "cell_type": "markdown",
   "metadata": {},
   "source": [
    "# ITPR1\n",
    "[spinocerebellar ataxia-15 (SCA15)](https://omim.org/entry/606658) is caused by heterozygous mutation in the ITPR1 gene as well as by deletions involving the ITPR1 gene."
   ]
  },
  {
   "cell_type": "code",
   "execution_count": 1,
   "metadata": {},
   "outputs": [
    {
     "name": "stdout",
     "output_type": "stream",
     "text": [
      "Using pyphetools version 0.9.94\n"
     ]
    },
    {
     "name": "stderr",
     "output_type": "stream",
     "text": [
      "/Users/robin/GIT/phenopacket-store/ps24venv/lib/python3.9/site-packages/urllib3/__init__.py:35: NotOpenSSLWarning: urllib3 v2 only supports OpenSSL 1.1.1+, currently the 'ssl' module is compiled with 'LibreSSL 2.8.3'. See: https://github.com/urllib3/urllib3/issues/3020\n",
      "  warnings.warn(\n"
     ]
    }
   ],
   "source": [
    "from pyphetools.creation import TemplateImporter, Moi\n",
    "from pyphetools.visualization import IndividualTable, QcVisualizer\n",
    "from IPython.display import display, HTML\n",
    "import pyphetools\n",
    "print(f\"Using pyphetools version {pyphetools.__version__}\")"
   ]
  },
  {
   "cell_type": "code",
   "execution_count": 2,
   "metadata": {},
   "outputs": [],
   "source": [
    "template = \"input/ITPR1_SCA15_individuals.xlsx\"\n",
    "created_by = \"0000-0002-0736-9199\""
   ]
  },
  {
   "cell_type": "code",
   "execution_count": 3,
   "metadata": {},
   "outputs": [
    {
     "name": "stdout",
     "output_type": "stream",
     "text": [
      "HPO version 2024-07-01\n",
      "Created encoders for 174 fields\n",
      "Importing OMIM:606658, Spinocerebellar ataxia 15, HGNC:6180, ITPR1,  NM_001378452.1\n",
      "We output 14 GA4GH phenopackets to the directory phenopackets\n"
     ]
    }
   ],
   "source": [
    "del_set = {\"DEL183kb\", \"DEL219kb\", \"DEL206kb\", \"DEL423kb\"}\n",
    "timporter = TemplateImporter(template=template,  created_by=created_by)\n",
    "individual_list, cvalidator = timporter.import_phenopackets_from_template(deletions=del_set)"
   ]
  },
  {
   "cell_type": "code",
   "execution_count": 4,
   "metadata": {},
   "outputs": [
    {
     "data": {
      "text/html": [
       "<h2>Cohort validation</h2>\n",
       "<p>Errors found with 11 of 14 phenopackets.</p>\n",
       "<table style=\"border: 2px solid black; align: \"left\">\n",
       "<caption>Error counts</caption>\n",
       "<tr><th style=\"text-align: left;font-weight: bold;\">Level</th><th style=\"text-align: left;font-weight: bold;\">Error category</th><th style=\"text-align: left;font-weight: bold;\">Count</th></tr>\n",
       "<tr><td style=\"text-align: left;\">WARNING</td><td style=\"text-align: left;\">REDUNDANT</td><td style=\"text-align: left;\">15</td></tr>\n",
       "</table>\n",
       "<p>A total of 15 issues were fixed and no individual was removed from the cohort.</p>"
      ],
      "text/plain": [
       "<IPython.core.display.HTML object>"
      ]
     },
     "metadata": {},
     "output_type": "display_data"
    }
   ],
   "source": [
    "qc = QcVisualizer(cohort_validator=cvalidator)\n",
    "display(HTML(qc.to_summary_html()))"
   ]
  },
  {
   "cell_type": "code",
   "execution_count": 5,
   "metadata": {},
   "outputs": [
    {
     "data": {
      "text/html": [
       "<table style=\"border: 2px solid black; align: \"left\">\n",
       "<caption>14 phenopackets - PMID:37154409 (n=5); PMID:21367767 (n=9)</caption>\n",
       "<tr><th style=\"text-align: left;font-weight: bold;\">Individual</th><th style=\"text-align: left;font-weight: bold;\">Disease</th><th style=\"text-align: left;font-weight: bold;\">Genotype</th><th style=\"text-align: left;font-weight: bold;\">Phenotypic features</th></tr>\n",
       "<tr><td style=\"text-align: left;\">A III-6 (FEMALE; P63Y)</td><td style=\"text-align: left;\">Spinocerebellar ataxia 15 (OMIM:606658)</td><td style=\"text-align: left;\">NM_001378452.1:c.1639G>A (heterozygous)</td><td style=\"text-align: left;\"><b>P48Y</b>: Impaired tandem gait (HP:0031629)<br/>Broad-based gait (HP:0002136); Cerebellar atrophy (HP:0001272); Gaze-evoked nystagmus (HP:0000640); Limb dysmetria (HP:0002406); Truncal ataxia (HP:0002078); Chorea (HP:0002072); Dyskinesia (HP:0100660); excluded: Neurodevelopmental delay (HP:0012758); excluded: Cerebral palsy (HP:0100021); excluded: Dysarthria (HP:0001260); excluded: Intellectual disability (HP:0001249); excluded: Tremor (HP:0001337)</td></tr>\n",
       "<tr><td style=\"text-align: left;\">A III-7 (FEMALE; P61Y)</td><td style=\"text-align: left;\">Spinocerebellar ataxia 15 (OMIM:606658)</td><td style=\"text-align: left;\">NM_001378452.1:c.1639G>A (heterozygous)</td><td style=\"text-align: left;\"><b>P60Y</b>: Limb dysmetria (HP:0002406)<br/>Cerebellar atrophy (HP:0001272); Nystagmus (HP:0000639); Truncal ataxia (HP:0002078); Chorea (HP:0002072); excluded: Neurodevelopmental delay (HP:0012758); excluded: Cerebral palsy (HP:0100021); excluded: Dysarthria (HP:0001260); excluded: Intellectual disability (HP:0001249); excluded: Tremor (HP:0001337)</td></tr>\n",
       "<tr><td style=\"text-align: left;\">BII-2 (MALE; P65Y)</td><td style=\"text-align: left;\">Spinocerebellar ataxia 15 (OMIM:606658)</td><td style=\"text-align: left;\">NM_001378452.1:c.56C>T (heterozygous)</td><td style=\"text-align: left;\">Broad-based gait (HP:0002136); Dysarthria (HP:0001260); Cerebellar atrophy (HP:0001272); Gaze-evoked nystagmus (HP:0000640); Limb dysmetria (HP:0002406); Truncal ataxia (HP:0002078); Difficulty walking (HP:0002355); excluded: Neurodevelopmental delay (HP:0012758); excluded: Cerebral palsy (HP:0100021); excluded: Intellectual disability (HP:0001249); excluded: Tremor (HP:0001337); excluded: Chorea (HP:0002072)</td></tr>\n",
       "<tr><td style=\"text-align: left;\">B I-1 (FEMALE; P96Y)</td><td style=\"text-align: left;\">Spinocerebellar ataxia 15 (OMIM:606658)</td><td style=\"text-align: left;\">NM_001378452.1:c.56C>T (heterozygous)</td><td style=\"text-align: left;\">Dysarthria (HP:0001260); Limb dysmetria (HP:0002406); Truncal ataxia (HP:0002078); excluded: Neurodevelopmental delay (HP:0012758); excluded: Cerebral palsy (HP:0100021); excluded: Intellectual disability (HP:0001249); excluded: Gaze-evoked nystagmus (HP:0000640); excluded: Tremor (HP:0001337); excluded: Chorea (HP:0002072)</td></tr>\n",
       "<tr><td style=\"text-align: left;\">C II-2 (FEMALE; P57Y)</td><td style=\"text-align: left;\">Spinocerebellar ataxia 15 (OMIM:606658)</td><td style=\"text-align: left;\">NM_001378452.1:c.256G>A (heterozygous)</td><td style=\"text-align: left;\">Gait ataxia (HP:0002066); Dysarthria (HP:0001260); Cerebellar atrophy (HP:0001272); Limb dysmetria (HP:0002406); Tremor (HP:0001337); Truncal ataxia (HP:0002078); excluded: Neurodevelopmental delay (HP:0012758); excluded: Cerebral palsy (HP:0100021); excluded: Intellectual disability (HP:0001249); excluded: Gaze-evoked nystagmus (HP:0000640); excluded: Chorea (HP:0002072)</td></tr>\n",
       "<tr><td style=\"text-align: left;\">F34 III-2 (UNKNOWN; P80Y)</td><td style=\"text-align: left;\">Spinocerebellar ataxia 15 (OMIM:606658)</td><td style=\"text-align: left;\">DEL423kb: chromosomal_deletion (SO:1000029)</td><td style=\"text-align: left;\"><b>P60Y</b>: Gait disturbance (HP:0001288)<br/><b>P74Y</b>: Postural tremor (HP:0002174)<br/>Dysarthria (HP:0001260); Hypermetric saccades (HP:0007338); Gaze-evoked nystagmus (HP:0000640); Limb dysmetria (HP:0002406); Cerebellar vermis atrophy (HP:0006855); Cerebellar cortical atrophy (HP:0008278); Dysphagia (HP:0002015); Intention tremor (HP:0002080); excluded: Neurodevelopmental delay (HP:0012758); excluded: Cerebral palsy (HP:0100021); excluded: Babinski sign (HP:0003487); excluded: Spasticity (HP:0001257); excluded: Hypometric saccades (HP:0000571)</td></tr>\n",
       "<tr><td style=\"text-align: left;\">F34 IV-3 (UNKNOWN; P46Y)</td><td style=\"text-align: left;\">Spinocerebellar ataxia 15 (OMIM:606658)</td><td style=\"text-align: left;\">DEL423kb: chromosomal_deletion (SO:1000029)</td><td style=\"text-align: left;\"><b>P41Y</b>: Gait disturbance (HP:0001288)<br/>Postural tremor (HP:0002174); Hypometric saccades (HP:0000571); Hypermetric saccades (HP:0007338); Gaze-evoked nystagmus (HP:0000640); Limb dysmetria (HP:0002406); Cerebellar vermis atrophy (HP:0006855); Cerebellar cortical atrophy (HP:0008278); Intention tremor (HP:0002080); excluded: Neurodevelopmental delay (HP:0012758); excluded: Cerebral palsy (HP:0100021); excluded: Babinski sign (HP:0003487); excluded: Spasticity (HP:0001257); excluded: Dysarthria (HP:0001260); excluded: Dysphagia (HP:0002015)</td></tr>\n",
       "<tr><td style=\"text-align: left;\">F34 IV-4 (UNKNOWN; P51Y)</td><td style=\"text-align: left;\">Spinocerebellar ataxia 15 (OMIM:606658)</td><td style=\"text-align: left;\">DEL423kb: chromosomal_deletion (SO:1000029)</td><td style=\"text-align: left;\"><b>P46Y</b>: Gait disturbance (HP:0001288)<br/>Hypometric saccades (HP:0000571); Hypermetric saccades (HP:0007338); Limb dysmetria (HP:0002406); Cerebellar vermis atrophy (HP:0006855); Cerebellar cortical atrophy (HP:0008278); Intention tremor (HP:0002080); excluded: Neurodevelopmental delay (HP:0012758); excluded: Cerebral palsy (HP:0100021); excluded: Postural tremor (HP:0002174); excluded: Babinski sign (HP:0003487); excluded: Spasticity (HP:0001257); excluded: Dysarthria (HP:0001260); excluded: Gaze-evoked nystagmus (HP:0000640); excluded: Dysphagia (HP:0002015)</td></tr>\n",
       "<tr><td style=\"text-align: left;\">F39 II-3 (UNKNOWN; P62Y)</td><td style=\"text-align: left;\">Spinocerebellar ataxia 15 (OMIM:606658)</td><td style=\"text-align: left;\">DEL206kb: chromosomal_deletion (SO:1000029)</td><td style=\"text-align: left;\"><b>P45Y</b>: Gait disturbance (HP:0001288)<br/><b>P50Y</b>: Postural tremor (HP:0002174)<br/>Babinski sign (HP:0003487); Dysarthria (HP:0001260); Hypometric saccades (HP:0000571); Gaze-evoked nystagmus (HP:0000640); Limb dysmetria (HP:0002406); Cerebellar vermis atrophy (HP:0006855); Cerebellar cortical atrophy (HP:0008278); Dysphagia (HP:0002015); Intention tremor (HP:0002080); excluded: Neurodevelopmental delay (HP:0012758); excluded: Cerebral palsy (HP:0100021); excluded: Spasticity (HP:0001257); excluded: Hypermetric saccades (HP:0007338)</td></tr>\n",
       "<tr><td style=\"text-align: left;\">F39 III-4 (UNKNOWN; P50Y)</td><td style=\"text-align: left;\">Spinocerebellar ataxia 15 (OMIM:606658)</td><td style=\"text-align: left;\">DEL206kb: chromosomal_deletion (SO:1000029)</td><td style=\"text-align: left;\"><b>P35Y</b>: Gait disturbance (HP:0001288)<br/><b>P49Y</b>: Postural tremor (HP:0002174)<br/>Limb dysmetria (HP:0002406); Cerebellar vermis atrophy (HP:0006855); Cerebellar cortical atrophy (HP:0008278); Intention tremor (HP:0002080); excluded: Neurodevelopmental delay (HP:0012758); excluded: Cerebral palsy (HP:0100021); excluded: Babinski sign (HP:0003487); excluded: Spasticity (HP:0001257); excluded: Dysarthria (HP:0001260); excluded: Hypometric saccades (HP:0000571); excluded: Hypermetric saccades (HP:0007338); excluded: Gaze-evoked nystagmus (HP:0000640); excluded: Dysphagia (HP:0002015)</td></tr>\n",
       "<tr><td style=\"text-align: left;\">F48 II-3 (UNKNOWN; P69Y)</td><td style=\"text-align: left;\">Spinocerebellar ataxia 15 (OMIM:606658)</td><td style=\"text-align: left;\">DEL219kb: chromosomal_deletion (SO:1000029)</td><td style=\"text-align: left;\"><b>P50Y</b>: Gait disturbance (HP:0001288)<br/><b>P67Y</b>: Postural tremor (HP:0002174)<br/>Dysarthria (HP:0001260); Hypometric saccades (HP:0000571); Hypermetric saccades (HP:0007338); Gaze-evoked nystagmus (HP:0000640); Limb dysmetria (HP:0002406); Cerebellar vermis atrophy (HP:0006855); Cerebellar cortical atrophy (HP:0008278); Dysphagia (HP:0002015); Intention tremor (HP:0002080); excluded: Neurodevelopmental delay (HP:0012758); excluded: Cerebral palsy (HP:0100021); excluded: Babinski sign (HP:0003487); excluded: Spasticity (HP:0001257)</td></tr>\n",
       "<tr><td style=\"text-align: left;\">F48 III-1 (UNKNOWN; P33Y)</td><td style=\"text-align: left;\">Spinocerebellar ataxia 15 (OMIM:606658)</td><td style=\"text-align: left;\">DEL219kb: chromosomal_deletion (SO:1000029)</td><td style=\"text-align: left;\"><b>P33Y</b>: Gait disturbance (HP:0001288)<br/>Spasticity (HP:0001257); Hypometric saccades (HP:0000571); Hypermetric saccades (HP:0007338); Gaze-evoked nystagmus (HP:0000640); Limb dysmetria (HP:0002406); Cerebellar vermis atrophy (HP:0006855); Cerebellar cortical atrophy (HP:0008278); Intention tremor (HP:0002080); excluded: Neurodevelopmental delay (HP:0012758); excluded: Cerebral palsy (HP:0100021); excluded: Postural tremor (HP:0002174); excluded: Babinski sign (HP:0003487); excluded: Dysarthria (HP:0001260); excluded: Dysphagia (HP:0002015)</td></tr>\n",
       "<tr><td style=\"text-align: left;\">F48 III-7 (UNKNOWN; P41Y)</td><td style=\"text-align: left;\">Spinocerebellar ataxia 15 (OMIM:606658)</td><td style=\"text-align: left;\">DEL219kb: chromosomal_deletion (SO:1000029)</td><td style=\"text-align: left;\"><b>P31Y</b>: Gait disturbance (HP:0001288)<br/>Postural tremor (HP:0002174); Dysarthria (HP:0001260); Hypometric saccades (HP:0000571); Hypermetric saccades (HP:0007338); Gaze-evoked nystagmus (HP:0000640); Limb dysmetria (HP:0002406); Cerebellar vermis atrophy (HP:0006855); Cerebellar cortical atrophy (HP:0008278); Dysphagia (HP:0002015); Intention tremor (HP:0002080); excluded: Neurodevelopmental delay (HP:0012758); excluded: Cerebral palsy (HP:0100021); excluded: Babinski sign (HP:0003487); excluded: Spasticity (HP:0001257)</td></tr>\n",
       "<tr><td style=\"text-align: left;\">F49 III-3 (UNKNOWN; P73Y)</td><td style=\"text-align: left;\">Spinocerebellar ataxia 15 (OMIM:606658)</td><td style=\"text-align: left;\">DEL183kb: chromosomal_deletion (SO:1000029)</td><td style=\"text-align: left;\"><b>P67Y</b>: Gait disturbance (HP:0001288)<br/><b>P69Y</b>: Postural tremor (HP:0002174)<br/>Dysarthria (HP:0001260); Hypometric saccades (HP:0000571); Hypermetric saccades (HP:0007338); Gaze-evoked nystagmus (HP:0000640); Limb dysmetria (HP:0002406); Cerebellar vermis atrophy (HP:0006855); Cerebellar cortical atrophy (HP:0008278); Intention tremor (HP:0002080); excluded: Neurodevelopmental delay (HP:0012758); excluded: Cerebral palsy (HP:0100021); excluded: Babinski sign (HP:0003487); excluded: Spasticity (HP:0001257); excluded: Dysphagia (HP:0002015)</td></tr>\n",
       "</table>"
      ],
      "text/plain": [
       "<IPython.core.display.HTML object>"
      ]
     },
     "metadata": {},
     "output_type": "display_data"
    }
   ],
   "source": [
    "table = IndividualTable(cvalidator.get_error_free_individual_list())\n",
    "display(HTML(table.to_html()))"
   ]
  },
  {
   "cell_type": "code",
   "execution_count": 6,
   "metadata": {},
   "outputs": [
    {
     "name": "stdout",
     "output_type": "stream",
     "text": [
      "[pyphetools] Ingested 80 GA4GH phenopackets.\n",
      "[INFO] Extracted 14 from 80 phenopackets with OMIM:606658\n",
      "\n",
      "\tSpinocerebellar ataxia 15 (OMIM:606658): n=14\n",
      "We found a total of 26 unique HPO terms\n",
      "Extracted disease: Spinocerebellar ataxia 15 (OMIM:606658)\n",
      "Wrote HPOA disease file to OMIM-606658.tab\n"
     ]
    }
   ],
   "source": [
    "pmid = \"PMID:37154409\"\n",
    "df = timporter.create_hpoa_from_phenopackets(pmid=pmid, mode_of_inheritance=Moi.AD, target=\"OMIM:606658\")"
   ]
  }
 ],
 "metadata": {
  "kernelspec": {
   "display_name": "ps24venv",
   "language": "python",
   "name": "python3"
  },
  "language_info": {
   "codemirror_mode": {
    "name": "ipython",
    "version": 3
   },
   "file_extension": ".py",
   "mimetype": "text/x-python",
   "name": "python",
   "nbconvert_exporter": "python",
   "pygments_lexer": "ipython3",
   "version": "3.9.6"
  }
 },
 "nbformat": 4,
 "nbformat_minor": 2
}
