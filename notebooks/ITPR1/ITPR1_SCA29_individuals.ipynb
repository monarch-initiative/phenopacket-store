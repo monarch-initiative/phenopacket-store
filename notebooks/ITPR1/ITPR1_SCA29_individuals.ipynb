{
 "cells": [
  {
   "cell_type": "markdown",
   "metadata": {},
   "source": [
    "# ITPR1\n",
    "[spinocerebellar ataxia-29 (SCA29), also known as congenital nonprogressive cerebellar ataxia (CNPCA)](https://omim.org/entry/117360) is caused by heterozygous mutation in the ITPR1 gene."
   ]
  },
  {
   "cell_type": "code",
   "execution_count": 1,
   "metadata": {},
   "outputs": [
    {
     "name": "stdout",
     "output_type": "stream",
     "text": [
      "Using pyphetools version 0.9.84\n"
     ]
    },
    {
     "name": "stderr",
     "output_type": "stream",
     "text": [
      "/Users/robin/GIT/phenopacket-store/ps24venv/lib/python3.9/site-packages/urllib3/__init__.py:35: NotOpenSSLWarning: urllib3 v2 only supports OpenSSL 1.1.1+, currently the 'ssl' module is compiled with 'LibreSSL 2.8.3'. See: https://github.com/urllib3/urllib3/issues/3020\n",
      "  warnings.warn(\n"
     ]
    }
   ],
   "source": [
    "from pyphetools.creation import TemplateImporter\n",
    "from pyphetools.visualization import IndividualTable, QcVisualizer\n",
    "from IPython.display import display, HTML\n",
    "import pyphetools\n",
    "print(f\"Using pyphetools version {pyphetools.__version__}\")"
   ]
  },
  {
   "cell_type": "code",
   "execution_count": 2,
   "metadata": {},
   "outputs": [],
   "source": [
    "template = \"input/ITPR1_SCA29_individuals.xlsx\"\n",
    "created_by = \"0000-0002-0736-9199\""
   ]
  },
  {
   "cell_type": "code",
   "execution_count": 3,
   "metadata": {},
   "outputs": [
    {
     "name": "stdout",
     "output_type": "stream",
     "text": [
      "HPO version 2024-04-26\n",
      "Created encoders for 36 fields\n",
      "Importing OMIM:117360, Spinocerebellar ataxia 29, congenital nonprogressive, HGNC:6180, ITPR1,  NM_001378452.1\n",
      "We output 2 GA4GH phenopackets to the directory phenopackets\n"
     ]
    }
   ],
   "source": [
    "timporter = TemplateImporter(template=template,  created_by=created_by)\n",
    "individual_list, cvalidator = timporter.import_phenopackets_from_template()"
   ]
  },
  {
   "cell_type": "code",
   "execution_count": 4,
   "metadata": {},
   "outputs": [
    {
     "data": {
      "text/html": [
       "<h2>Cohort validation</h2>\n",
       "<p>Errors found with 1 of 2 phenopackets.</p>\n",
       "<table style=\"border: 2px solid black; align: \"left\">\n",
       "<caption>Error counts</caption>\n",
       "<tr><th style=\"text-align: left;font-weight: bold;\">Level</th><th style=\"text-align: left;font-weight: bold;\">Error category</th><th style=\"text-align: left;font-weight: bold;\">Count</th></tr>\n",
       "<tr><td style=\"text-align: left;\">WARNING</td><td style=\"text-align: left;\">REDUNDANT</td><td style=\"text-align: left;\">1</td></tr>\n",
       "</table>\n",
       "<p>A total of 1 issues were fixed and no individual was removed from the cohort.</p>"
      ],
      "text/plain": [
       "<IPython.core.display.HTML object>"
      ]
     },
     "metadata": {},
     "output_type": "display_data"
    }
   ],
   "source": [
    "qc = QcVisualizer(cohort_validator=cvalidator)\n",
    "display(HTML(qc.to_summary_html()))"
   ]
  },
  {
   "cell_type": "code",
   "execution_count": 5,
   "metadata": {},
   "outputs": [
    {
     "data": {
      "text/html": [
       "<table style=\"border: 2px solid black; align: \"left\">\n",
       "<caption>2 phenopackets - PMID:22986007 (n=2)</caption>\n",
       "<tr><th style=\"text-align: left;font-weight: bold;\">Individual</th><th style=\"text-align: left;font-weight: bold;\">Disease</th><th style=\"text-align: left;font-weight: bold;\">Genotype</th><th style=\"text-align: left;font-weight: bold;\">Phenotypic features</th></tr>\n",
       "<tr><td style=\"text-align: left;\">Family C proband III-2 (FEMALE; P5Y)</td><td style=\"text-align: left;\">Spinocerebellar ataxia 29, congenital nonprogressive (OMIM:117360)</td><td style=\"text-align: left;\">NM_001378452.1:c.1804A>G (heterozygous)</td><td style=\"text-align: left;\"><b>P8M</b>: Delayed ability to sit (HP:0025336)<br/><b>P1Y</b>: Cerebellar vermis atrophy (HP:0006855)<br/><b>P2Y4M</b>: Delayed speech and language development (HP:0000750); Gaze-evoked nystagmus (HP:0000640); Hypotonia (HP:0001252); Truncal titubation (HP:0030147); Limb dysmetria (HP:0002406); Delayed ability to walk (HP:0031936)<br/><b>P3Y6M</b>: Global developmental delay (HP:0001263)<br/><b>P5Y</b>: Focal impaired awareness seizure (HP:0002384); Continuous spike and waves during slow sleep (HP:0031491)<br/>excluded: Muscle weakness (HP:0001324); excluded: Abnormal reflex (HP:0031826)</td></tr>\n",
       "<tr><td style=\"text-align: left;\">Family C father II-2 (MALE; P45Y)</td><td style=\"text-align: left;\">Spinocerebellar ataxia 29, congenital nonprogressive (OMIM:117360)</td><td style=\"text-align: left;\">NM_001378452.1:c.1804A>G (heterozygous)</td><td style=\"text-align: left;\">Intention tremor (HP:0002080); Dysarthria (HP:0001260); Motor delay (HP:0001270); Cerebellar atrophy (HP:0001272)</td></tr>\n",
       "</table>"
      ],
      "text/plain": [
       "<IPython.core.display.HTML object>"
      ]
     },
     "metadata": {},
     "output_type": "display_data"
    }
   ],
   "source": [
    "table = IndividualTable(cvalidator.get_error_free_individual_list())\n",
    "display(HTML(table.to_html()))"
   ]
  }
 ],
 "metadata": {
  "kernelspec": {
   "display_name": "ps24venv",
   "language": "python",
   "name": "python3"
  },
  "language_info": {
   "codemirror_mode": {
    "name": "ipython",
    "version": 3
   },
   "file_extension": ".py",
   "mimetype": "text/x-python",
   "name": "python",
   "nbconvert_exporter": "python",
   "pygments_lexer": "ipython3",
   "version": "3.9.6"
  }
 },
 "nbformat": 4,
 "nbformat_minor": 2
}
