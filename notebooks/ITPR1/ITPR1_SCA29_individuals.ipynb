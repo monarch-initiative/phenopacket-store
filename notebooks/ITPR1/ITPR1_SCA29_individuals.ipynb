{
 "cells": [
  {
   "cell_type": "markdown",
   "metadata": {},
   "source": [
    "# ITPR1\n",
    "[spinocerebellar ataxia-29 (SCA29), also known as congenital nonprogressive cerebellar ataxia (CNPCA)](https://omim.org/entry/117360) is caused by heterozygous mutation in the ITPR1 gene.\n",
    "We are currently not including the individual described in [van Dijk et al.. A de novo missense mutation in the inositol 1,4,5-triphosphate receptor type 1 gene causing severe pontine and cerebellar hypoplasia: Expanding the phenotype of ITPR1-related spinocerebellar ataxia's.](https://pubmed.ncbi.nlm.nih.gov/27862915/) because the phenotype differs in several ways and may represent a current undescribed subtype. We are including the two individuals described in [Das et al Missense mutation in the ITPR1 gene presenting with ataxic cerebral palsy: Description of an affected family and literature review (https://pubmed.ncbi.nlm.nih.gov/28826917/) in the SCA29 cohort because of the congenital/early onset even though the manifestations were somewhat progressive."
   ]
  },
  {
   "cell_type": "markdown",
   "metadata": {},
   "source": []
  },
  {
   "cell_type": "code",
   "execution_count": 1,
   "metadata": {},
   "outputs": [
    {
     "name": "stdout",
     "output_type": "stream",
     "text": [
      "Using pyphetools version 0.9.94\n"
     ]
    },
    {
     "name": "stderr",
     "output_type": "stream",
     "text": [
      "/Users/robin/GIT/phenopacket-store/ps24venv/lib/python3.9/site-packages/urllib3/__init__.py:35: NotOpenSSLWarning: urllib3 v2 only supports OpenSSL 1.1.1+, currently the 'ssl' module is compiled with 'LibreSSL 2.8.3'. See: https://github.com/urllib3/urllib3/issues/3020\n",
      "  warnings.warn(\n"
     ]
    }
   ],
   "source": [
    "from pyphetools.creation import TemplateImporter,Moi\n",
    "from pyphetools.visualization import IndividualTable, QcVisualizer\n",
    "from IPython.display import display, HTML\n",
    "import pyphetools\n",
    "print(f\"Using pyphetools version {pyphetools.__version__}\")"
   ]
  },
  {
   "cell_type": "code",
   "execution_count": 2,
   "metadata": {},
   "outputs": [],
   "source": [
    "template = \"input/ITPR1_SCA29_individuals.xlsx\"\n",
    "created_by = \"0000-0002-0736-9199\""
   ]
  },
  {
   "cell_type": "code",
   "execution_count": 3,
   "metadata": {},
   "outputs": [
    {
     "name": "stdout",
     "output_type": "stream",
     "text": [
      "HPO version 2024-07-01\n",
      "Created encoders for 170 fields\n",
      "Importing OMIM:117360, Spinocerebellar ataxia 29, congenital nonprogressive, HGNC:6180, ITPR1,  NM_001378452.1\n",
      "We output 50 GA4GH phenopackets to the directory phenopackets\n"
     ]
    }
   ],
   "source": [
    "timporter = TemplateImporter(template=template,  created_by=created_by)\n",
    "individual_list, cvalidator = timporter.import_phenopackets_from_template(leniant_MOI=True)"
   ]
  },
  {
   "cell_type": "code",
   "execution_count": 4,
   "metadata": {},
   "outputs": [
    {
     "data": {
      "text/html": [
       "<h2>Cohort validation</h2>\n",
       "<p>Errors found with 29 of 50 phenopackets.</p>\n",
       "<table style=\"border: 2px solid black; align: \"left\">\n",
       "<caption>Error counts</caption>\n",
       "<tr><th style=\"text-align: left;font-weight: bold;\">Level</th><th style=\"text-align: left;font-weight: bold;\">Error category</th><th style=\"text-align: left;font-weight: bold;\">Count</th></tr>\n",
       "<tr><td style=\"text-align: left;\">ERROR</td><td style=\"text-align: left;\">CONFLICT</td><td style=\"text-align: left;\">2</td></tr>\n",
       "<tr><td style=\"text-align: left;\">WARNING</td><td style=\"text-align: left;\">REDUNDANT</td><td style=\"text-align: left;\">56</td></tr>\n",
       "</table>\n",
       "<p>A total of 58 issues were fixed and no individual was removed from the cohort.</p>"
      ],
      "text/plain": [
       "<IPython.core.display.HTML object>"
      ]
     },
     "metadata": {},
     "output_type": "display_data"
    }
   ],
   "source": [
    "qc = QcVisualizer(cohort_validator=cvalidator)\n",
    "display(HTML(qc.to_summary_html()))"
   ]
  },
  {
   "cell_type": "code",
   "execution_count": 5,
   "metadata": {},
   "outputs": [
    {
     "data": {
      "text/html": [
       "<table style=\"border: 2px solid black; align: \"left\">\n",
       "<caption>50 phenopackets - PMID:28826917 (n=2); PMID:25981959 (n=2); PMID:22986007 (n=3); PMID:25794864 (n=4); PMID:27062503 (n=4); PMID:37821226 (n=3); PMID:28620721 (n=3); PMID:29925855 (n=7); PMID:28488678 (n=6); PMID:35743164 (n=9); PMID:37964426 (n=7)</caption>\n",
       "<tr><th style=\"text-align: left;font-weight: bold;\">Individual</th><th style=\"text-align: left;font-weight: bold;\">Disease</th><th style=\"text-align: left;font-weight: bold;\">Genotype</th><th style=\"text-align: left;font-weight: bold;\">Phenotypic features</th></tr>\n",
       "<tr><td style=\"text-align: left;\">Patient A (FEMALE; P30Y)</td><td style=\"text-align: left;\">Spinocerebellar ataxia 29, congenital nonprogressive (OMIM:117360)</td><td style=\"text-align: left;\">NM_001378452.1:c.805C>T (heterozygous)</td><td style=\"text-align: left;\">Postural tremor (HP:0002174); Loss of ambulation (HP:0002505); Cerebral palsy (HP:0100021); Limb ataxia (HP:0002070); Hypotonia (HP:0001252); Dysarthria (HP:0001260); Slow saccadic eye movements (HP:0000514); Myoclonus (HP:0001336); Myokymia (HP:0002411); Cerebellar vermis atrophy (HP:0006855); Delayed ability to walk with support (HP:0033257); excluded: Nystagmus (HP:0000639); excluded: Abnormal pyramidal sign (HP:0007256)</td></tr>\n",
       "<tr><td style=\"text-align: left;\">Patient B (FEMALE; P3Y)</td><td style=\"text-align: left;\">Spinocerebellar ataxia 29, congenital nonprogressive (OMIM:117360)</td><td style=\"text-align: left;\">NM_001378452.1:c.805C>T (heterozygous)</td><td style=\"text-align: left;\">Hypotonia (HP:0001252); Cerebral palsy (HP:0100021); Ataxia (HP:0001251); Postural tremor (HP:0002174); Dysarthria (HP:0001260); Broad-based gait (HP:0002136); Intellectual disability (HP:0001249); Myoclonus (HP:0001336); Myokymia (HP:0002411); Cerebellar vermis atrophy (HP:0006855); Delayed ability to crawl (HP:0033128); Delayed ability to walk (HP:0031936); excluded: Abnormal pyramidal sign (HP:0007256)</td></tr>\n",
       "<tr><td style=\"text-align: left;\">Case 2 (FEMALE; P4Y)</td><td style=\"text-align: left;\">Spinocerebellar ataxia 29, congenital nonprogressive (OMIM:117360)</td><td style=\"text-align: left;\">NM_001378452.1:c.1804A>G (heterozygous)</td><td style=\"text-align: left;\"><b>P6M</b>: Poor head control (HP:0002421)<br/>Cerebral palsy (HP:0100021); Ataxia (HP:0001251); Hypotonia (HP:0001252); Intellectual disability, moderate (HP:0002342); Rotary nystagmus (HP:0001583); Brisk reflexes (HP:0001348); Delayed ability to walk (HP:0031936); excluded: Developmental regression (HP:0002376); excluded: Long-tract signs (HP:0002423)</td></tr>\n",
       "<tr><td style=\"text-align: left;\">Case 3 (MALE; P10Y)</td><td style=\"text-align: left;\">Spinocerebellar ataxia 29, congenital nonprogressive (OMIM:117360)</td><td style=\"text-align: left;\">NM_001378452.1:c.4459T>G (heterozygous)</td><td style=\"text-align: left;\">Cerebral palsy (HP:0100021); Ataxia (HP:0001251); Intellectual disability, moderate (HP:0002342); Thickened nuchal skin fold (HP:0000474); Delayed ability to sit (HP:0025336); Delayed ability to walk with support (HP:0033257); Delayed ability to crawl (HP:0033128); Delayed ability to walk (HP:0031936)</td></tr>\n",
       "<tr><td style=\"text-align: left;\">P_Family_C (FEMALE; P5Y)</td><td style=\"text-align: left;\">Spinocerebellar ataxia 29, congenital nonprogressive (OMIM:117360)</td><td style=\"text-align: left;\">NM_001378452.1:c.1804A>G (heterozygous)</td><td style=\"text-align: left;\"><b>P10M</b>: Delayed ability to walk with support (HP:0033257)<br/>Limb ataxia (HP:0002070); Hypotonia (HP:0001252); Global developmental delay (HP:0001263); Delayed speech and language development (HP:0000750); Gaze-evoked nystagmus (HP:0000640); Truncal titubation (HP:0030147); Limb dysmetria (HP:0002406); Inability to walk (HP:0002540); Cerebellar vermis atrophy (HP:0006855); Focal impaired awareness seizure (HP:0002384); Continuous spike and waves during slow sleep (HP:0031491); excluded: Cerebral palsy (HP:0100021)</td></tr>\n",
       "<tr><td style=\"text-align: left;\">P1 (FEMALE; P6Y)</td><td style=\"text-align: left;\">Spinocerebellar ataxia 29, congenital nonprogressive (OMIM:117360)</td><td style=\"text-align: left;\">NM_001378452.1:c.800C>T (heterozygous)</td><td style=\"text-align: left;\"><b>P6M</b>: Nystagmus (HP:0000639)<br/>Ataxia (HP:0001251); Postural tremor (HP:0002174); Cerebellar atrophy (HP:0001272); Slurred speech (HP:0001350); Generalized hypotonia (HP:0001290); Intellectual disability, mild (HP:0001256); Delayed ability to sit (HP:0025336); Delayed ability to walk with support (HP:0033257); Difficulty standing (HP:0003698); Atrophy/Degeneration affecting the brainstem (HP:0007366); excluded: Cerebral palsy (HP:0100021); excluded: Dysphagia (HP:0002015); excluded: Oculomotor apraxia (HP:0000657); excluded: Abnormal pyramidal sign (HP:0007256); excluded: Abnormality of extrapyramidal motor function (HP:0002071); excluded: Peripheral neuropathy (HP:0009830); excluded: Seizure (HP:0001250); excluded: Poor head control (HP:0002421)</td></tr>\n",
       "<tr><td style=\"text-align: left;\">P2 (MALE; P9Y)</td><td style=\"text-align: left;\">Spinocerebellar ataxia 29, congenital nonprogressive (OMIM:117360)</td><td style=\"text-align: left;\">NM_001378452.1:c.830G>T (heterozygous)</td><td style=\"text-align: left;\">Nystagmus (HP:0000639); Ataxia (HP:0001251); Postural tremor (HP:0002174); Cerebellar atrophy (HP:0001272); Slurred speech (HP:0001350); Generalized hypotonia (HP:0001290); Oculomotor apraxia (HP:0000657); Intellectual disability, mild (HP:0001256); Delayed ability to sit (HP:0025336); Delayed ability to walk with support (HP:0033257); Difficulty standing (HP:0003698); Atrophy/Degeneration affecting the brainstem (HP:0007366); excluded: Cerebral palsy (HP:0100021); excluded: Dysphagia (HP:0002015); excluded: Abnormal pyramidal sign (HP:0007256); excluded: Abnormality of extrapyramidal motor function (HP:0002071); excluded: Peripheral neuropathy (HP:0009830); excluded: Seizure (HP:0001250); excluded: Poor head control (HP:0002421)</td></tr>\n",
       "<tr><td style=\"text-align: left;\">P3 (MALE; P12Y)</td><td style=\"text-align: left;\">Spinocerebellar ataxia 29, congenital nonprogressive (OMIM:117360)</td><td style=\"text-align: left;\">NM_001378452.1:c.1781C>T (heterozygous)</td><td style=\"text-align: left;\">Nystagmus (HP:0000639); Ataxia (HP:0001251); Postural tremor (HP:0002174); Intellectual disability, moderate (HP:0002342); Cerebellar atrophy (HP:0001272); Slurred speech (HP:0001350); Generalized hypotonia (HP:0001290); Oculomotor apraxia (HP:0000657); Delayed ability to sit (HP:0025336); Delayed ability to walk with support (HP:0033257); Difficulty standing (HP:0003698); Atrophy/Degeneration affecting the brainstem (HP:0007366); excluded: Cerebral palsy (HP:0100021); excluded: Dysphagia (HP:0002015); excluded: Abnormal pyramidal sign (HP:0007256); excluded: Abnormality of extrapyramidal motor function (HP:0002071); excluded: Peripheral neuropathy (HP:0009830); excluded: Seizure (HP:0001250); excluded: Poor head control (HP:0002421)</td></tr>\n",
       "<tr><td style=\"text-align: left;\">P4 (FEMALE; P6Y)</td><td style=\"text-align: left;\">Spinocerebellar ataxia 29, congenital nonprogressive (OMIM:117360)</td><td style=\"text-align: left;\">NM_001378452.1:c.800C>G (heterozygous)</td><td style=\"text-align: left;\"><b>P6M</b>: Nystagmus (HP:0000639)<br/>Ataxia (HP:0001251); Postural tremor (HP:0002174); Cerebellar atrophy (HP:0001272); Slurred speech (HP:0001350); Generalized hypotonia (HP:0001290); Oculomotor apraxia (HP:0000657); Intellectual disability, mild (HP:0001256); Poor head control (HP:0002421); Delayed ability to sit (HP:0025336); Delayed ability to walk with support (HP:0033257); Difficulty standing (HP:0003698); Atrophy/Degeneration affecting the brainstem (HP:0007366); excluded: Cerebral palsy (HP:0100021); excluded: Dysphagia (HP:0002015); excluded: Abnormal pyramidal sign (HP:0007256); excluded: Abnormality of extrapyramidal motor function (HP:0002071); excluded: Peripheral neuropathy (HP:0009830); excluded: Seizure (HP:0001250)</td></tr>\n",
       "<tr><td style=\"text-align: left;\">P1 (MALE; P28Y)</td><td style=\"text-align: left;\">Spinocerebellar ataxia 29, congenital nonprogressive (OMIM:117360)</td><td style=\"text-align: left;\">NM_001378452.1:c.805C>T (heterozygous)</td><td style=\"text-align: left;\"><b>P6M</b>: Nystagmus (HP:0000639)<br/>Ataxia (HP:0001251); Postural tremor (HP:0002174); Cerebellar atrophy (HP:0001272); Slurred speech (HP:0001350); Generalized hypotonia (HP:0001290); Oculomotor apraxia (HP:0000657); Poor head control (HP:0002421); Delayed ability to sit (HP:0025336); Delayed ability to walk (HP:0031936); Neonatal hypotonia (HP:0001319); excluded: Cerebral palsy (HP:0100021); excluded: Intellectual disability (HP:0001249); excluded: Dysphagia (HP:0002015); excluded: Abnormal pyramidal sign (HP:0007256); excluded: Abnormality of extrapyramidal motor function (HP:0002071); excluded: Peripheral neuropathy (HP:0009830); excluded: Seizure (HP:0001250); excluded: Atrophy/Degeneration affecting the brainstem (HP:0007366); excluded: Atrophy/Degeneration affecting the cerebrum (HP:0007369)</td></tr>\n",
       "<tr><td style=\"text-align: left;\">P2 (FEMALE; P19Y10M)</td><td style=\"text-align: left;\">Spinocerebellar ataxia 29, congenital nonprogressive (OMIM:117360)</td><td style=\"text-align: left;\">NM_001378452.1:c.722G>A (heterozygous)</td><td style=\"text-align: left;\">Nystagmus (HP:0000639); Ataxia (HP:0001251); Postural tremor (HP:0002174); Cerebellar atrophy (HP:0001272); Slurred speech (HP:0001350); Generalized hypotonia (HP:0001290); Oculomotor apraxia (HP:0000657); Delayed ability to sit (HP:0025336); Delayed ability to walk (HP:0031936); Neonatal hypotonia (HP:0001319); excluded: Cerebral palsy (HP:0100021); excluded: Intellectual disability (HP:0001249); excluded: Dysphagia (HP:0002015); excluded: Abnormal pyramidal sign (HP:0007256); excluded: Abnormality of extrapyramidal motor function (HP:0002071); excluded: Peripheral neuropathy (HP:0009830); excluded: Seizure (HP:0001250); excluded: Atrophy/Degeneration affecting the brainstem (HP:0007366); excluded: Atrophy/Degeneration affecting the cerebrum (HP:0007369)</td></tr>\n",
       "<tr><td style=\"text-align: left;\">P3 (MALE; P6Y10M)</td><td style=\"text-align: left;\">Spinocerebellar ataxia 29, congenital nonprogressive (OMIM:117360)</td><td style=\"text-align: left;\">NM_001378452.1:c.239C>A (heterozygous)</td><td style=\"text-align: left;\">Nystagmus (HP:0000639); Ataxia (HP:0001251); Postural tremor (HP:0002174); Cerebellar atrophy (HP:0001272); Slurred speech (HP:0001350); Generalized hypotonia (HP:0001290); Delayed ability to sit (HP:0025336); Delayed ability to walk (HP:0031936); Neonatal hypotonia (HP:0001319); excluded: Cerebral palsy (HP:0100021); excluded: Intellectual disability (HP:0001249); excluded: Dysphagia (HP:0002015); excluded: Oculomotor apraxia (HP:0000657); excluded: Abnormal pyramidal sign (HP:0007256); excluded: Abnormality of extrapyramidal motor function (HP:0002071); excluded: Peripheral neuropathy (HP:0009830); excluded: Seizure (HP:0001250); excluded: Poor head control (HP:0002421); excluded: Atrophy/Degeneration affecting the brainstem (HP:0007366); excluded: Atrophy/Degeneration affecting the cerebrum (HP:0007369)</td></tr>\n",
       "<tr><td style=\"text-align: left;\">P4 (FEMALE; P7Y2M)</td><td style=\"text-align: left;\">Spinocerebellar ataxia 29, congenital nonprogressive (OMIM:117360)</td><td style=\"text-align: left;\">NM_001378452.1:c.1534G>A (heterozygous)</td><td style=\"text-align: left;\"><b>P5M</b>: Nystagmus (HP:0000639)<br/>Ataxia (HP:0001251); Postural tremor (HP:0002174); Global developmental delay (HP:0001263); Cerebellar atrophy (HP:0001272); Slurred speech (HP:0001350); Generalized hypotonia (HP:0001290); Delayed ability to walk (HP:0031936); excluded: Cerebral palsy (HP:0100021); excluded: Intellectual disability (HP:0001249); excluded: Dysphagia (HP:0002015); excluded: Oculomotor apraxia (HP:0000657); excluded: Abnormal pyramidal sign (HP:0007256); excluded: Abnormality of extrapyramidal motor function (HP:0002071); excluded: Peripheral neuropathy (HP:0009830); excluded: Seizure (HP:0001250); excluded: Atrophy/Degeneration affecting the brainstem (HP:0007366); excluded: Atrophy/Degeneration affecting the cerebrum (HP:0007369)</td></tr>\n",
       "<tr><td style=\"text-align: left;\">P1 (MALE; P14Y)</td><td style=\"text-align: left;\">Spinocerebellar ataxia 29, congenital nonprogressive (OMIM:117360)</td><td style=\"text-align: left;\">NM_001378452.1:c.800C>T (heterozygous)</td><td style=\"text-align: left;\">Dysarthria (HP:0001260); Intellectual disability (HP:0001249); Myokymia (HP:0002411); Nystagmus (HP:0000639); Delayed speech and language development (HP:0000750); Dysphagia (HP:0002015); Generalized hypotonia (HP:0001290); Poor head control (HP:0002421); Delayed ability to walk (HP:0031936); Bruxism (HP:0003763); Deep philtrum (HP:0002002); Elfin facies (HP:0004428); Frontal bossing (HP:0002007); High palate (HP:0000218); Increased overbite (HP:0011094); Prominent nose (HP:0000448); Abnormal eye contact (HP:0034435); Cognitive impairment (HP:0100543); Delayed ability to stand (HP:0025335); Delayed fine motor development (HP:0010862); Feeding difficulties (HP:0011968); Poor speech (HP:0002465); Small for gestational age (HP:0001518); Generalized neonatal hypotonia (HP:0008935); Gowers sign (HP:0003391); Short stature (HP:0004322); Bilateral facial palsy (HP:0430025); Dysmetria (HP:0001310); Echolalia (HP:0010529); Impaired tandem gait (HP:0031629); Jaw hyperreflexia (HP:0033683); Nonprogressive cerebellar ataxia (HP:0002470); Positive Romberg sign (HP:0002403); Ptosis (HP:0000508); Leukocoria (HP:0000555); excluded: Cerebral palsy (HP:0100021); excluded: Microcephaly (HP:0000252)</td></tr>\n",
       "<tr><td style=\"text-align: left;\">P2 (FEMALE; P4Y)</td><td style=\"text-align: left;\">Spinocerebellar ataxia 29, congenital nonprogressive (OMIM:117360)</td><td style=\"text-align: left;\">NM_001378452.1:c.800C>T (heterozygous)</td><td style=\"text-align: left;\">Dysarthria (HP:0001260); Broad-based gait (HP:0002136); Delayed speech and language development (HP:0000750); Delayed ability to walk (HP:0031936); Deep philtrum (HP:0002002); Elfin facies (HP:0004428); Flat forehead (HP:0004425); Frontal bossing (HP:0002007); Microcephaly (HP:0000252); Cognitive impairment (HP:0100543); Delayed ability to stand (HP:0025335); Poor speech (HP:0002465); Small for gestational age (HP:0001518); Poor appetite (HP:0004396); Hypertonia (HP:0001276); Peroneal muscle atrophy (HP:0009049); Prominent calcaneus (HP:0012428); Short stature (HP:0004322); Dysmetria (HP:0001310); Dystonia (HP:0001332); Hyperreflexia (HP:0001347); Nonprogressive cerebellar ataxia (HP:0002470); Ptosis (HP:0000508); Esotropia (HP:0000565); Leukocoria (HP:0000555); excluded: Cerebral palsy (HP:0100021)</td></tr>\n",
       "<tr><td style=\"text-align: left;\">P3 (FEMALE; P6M)</td><td style=\"text-align: left;\">Spinocerebellar ataxia 29, congenital nonprogressive (OMIM:117360)</td><td style=\"text-align: left;\">NM_001378452.1:c.800C>T (heterozygous)</td><td style=\"text-align: left;\">Dysarthria (HP:0001260); Nystagmus (HP:0000639); Generalized hypotonia (HP:0001290); Frontal bossing (HP:0002007); High palate (HP:0000218); Microcephaly (HP:0000252); Prominent nose (HP:0000448); Abnormal eye contact (HP:0034435); Decreased body weight (HP:0004325); Opisthotonus (HP:0002179); Short stature (HP:0004322); Dysmetria (HP:0001310); Dystonia (HP:0001332); Hyperreflexia (HP:0001347); Ptosis (HP:0000508); excluded: Cerebral palsy (HP:0100021); excluded: Leukocoria (HP:0000555)</td></tr>\n",
       "<tr><td style=\"text-align: left;\">II:3 (FEMALE; P32Y)</td><td style=\"text-align: left;\">Spinocerebellar ataxia 29, congenital nonprogressive (OMIM:117360)</td><td style=\"text-align: left;\">NM_001378452.1:c.106C>T (heterozygous)</td><td style=\"text-align: left;\">Hypotonia (HP:0001252); Dysarthria (HP:0001260); Delayed ability to sit (HP:0025336); Dysmetria (HP:0001310); Miosis (HP:0000616); Keratoconus (HP:0000563); excluded: Cerebral palsy (HP:0100021); excluded: Nystagmus (HP:0000639); excluded: Oculomotor apraxia (HP:0000657); excluded: Abnormal saccadic eye movements (HP:0000570); excluded: Tremor (HP:0001337)</td></tr>\n",
       "<tr><td style=\"text-align: left;\">III:1 (MALE; P10Y)</td><td style=\"text-align: left;\">Spinocerebellar ataxia 29, congenital nonprogressive (OMIM:117360)</td><td style=\"text-align: left;\">NM_001378452.1:c.106C>T (heterozygous)</td><td style=\"text-align: left;\">Hypotonia (HP:0001252); Dysarthria (HP:0001260); Delayed ability to sit (HP:0025336); Dysmetria (HP:0001310); Miosis (HP:0000616); Tremor (HP:0001337); Atrial septal defect (HP:0001631); excluded: Cerebral palsy (HP:0100021); excluded: Nystagmus (HP:0000639); excluded: Oculomotor apraxia (HP:0000657); excluded: Abnormal saccadic eye movements (HP:0000570)</td></tr>\n",
       "<tr><td style=\"text-align: left;\">III:2 (FEMALE; n/a)</td><td style=\"text-align: left;\">Spinocerebellar ataxia 29, congenital nonprogressive (OMIM:117360)</td><td style=\"text-align: left;\">NM_001378452.1:c.106C>T (heterozygous)</td><td style=\"text-align: left;\">Ataxia (HP:0001251); Hypotonia (HP:0001252); Delayed ability to sit (HP:0025336); Miosis (HP:0000616); excluded: Cerebral palsy (HP:0100021); excluded: Nystagmus (HP:0000639); excluded: Oculomotor apraxia (HP:0000657); excluded: Abnormal saccadic eye movements (HP:0000570)</td></tr>\n",
       "<tr><td style=\"text-align: left;\">P1 (FEMALE; P10Y)</td><td style=\"text-align: left;\">Spinocerebellar ataxia 29, congenital nonprogressive (OMIM:117360)</td><td style=\"text-align: left;\">NM_001378452.1:c.1702A>G (heterozygous)</td><td style=\"text-align: left;\">Ataxia (HP:0001251); Cerebellar vermis atrophy (HP:0006855); Exodeviation (HP:0020049); excluded: Cerebral palsy (HP:0100021); excluded: Myoclonus (HP:0001336); excluded: Oculomotor apraxia (HP:0000657); excluded: Seizure (HP:0001250); excluded: Cognitive impairment (HP:0100543); excluded: Hypoplasia of the iris (HP:0007676); excluded: Abnormality of peripheral nervous system electrophysiology (HP:0030177)</td></tr>\n",
       "<tr><td style=\"text-align: left;\">P2 (FEMALE; P18Y)</td><td style=\"text-align: left;\">Spinocerebellar ataxia 29, congenital nonprogressive (OMIM:117360)</td><td style=\"text-align: left;\">NM_001378452.1:c.805C>T (heterozygous)</td><td style=\"text-align: left;\">Ataxia (HP:0001251); Myoclonus (HP:0001336); Cerebellar vermis atrophy (HP:0006855); Dyscalculia (HP:0002442); Slowed horizontal saccades (HP:0007885); Esodeviation (HP:0020045); excluded: Cerebral palsy (HP:0100021); excluded: Seizure (HP:0001250); excluded: Hypoplasia of the iris (HP:0007676); excluded: Abnormality of peripheral nervous system electrophysiology (HP:0030177); excluded: Abnormal motor evoked potentials (HP:0012896)</td></tr>\n",
       "<tr><td style=\"text-align: left;\">P3 (MALE; P3Y6M)</td><td style=\"text-align: left;\">Spinocerebellar ataxia 29, congenital nonprogressive (OMIM:117360)</td><td style=\"text-align: left;\">NM_001378452.1:c.800C>T (heterozygous)</td><td style=\"text-align: left;\">Ataxia (HP:0001251); excluded: Cerebral palsy (HP:0100021); excluded: Hypoplasia of the iris (HP:0007676)</td></tr>\n",
       "<tr><td style=\"text-align: left;\">P4 (MALE; P2Y)</td><td style=\"text-align: left;\">Spinocerebellar ataxia 29, congenital nonprogressive (OMIM:117360)</td><td style=\"text-align: left;\">NM_001378452.1:c.7687_7689del (heterozygous)</td><td style=\"text-align: left;\">Ataxia (HP:0001251); Hypoplasia of the iris (HP:0007676); Aniridia (HP:0000526); excluded: Cerebral palsy (HP:0100021)</td></tr>\n",
       "<tr><td style=\"text-align: left;\">P5 (FEMALE; P6Y)</td><td style=\"text-align: left;\">Spinocerebellar ataxia 29, congenital nonprogressive (OMIM:117360)</td><td style=\"text-align: left;\">NM_001378452.1:c.736G>A (heterozygous)</td><td style=\"text-align: left;\">Ataxia (HP:0001251); Hypotonia (HP:0001252); Dystonia (HP:0001332); Strabismus (HP:0000486); excluded: Cerebral palsy (HP:0100021); excluded: Cerebellar atrophy (HP:0001272); excluded: Oculomotor apraxia (HP:0000657); excluded: Seizure (HP:0001250); excluded: Hypoplasia of the iris (HP:0007676); excluded: Cerebral cortical atrophy (HP:0002120)</td></tr>\n",
       "<tr><td style=\"text-align: left;\">P6 (MALE; P3Y)</td><td style=\"text-align: left;\">Spinocerebellar ataxia 29, congenital nonprogressive (OMIM:117360)</td><td style=\"text-align: left;\">NM_001378452.1:c.805C>T (heterozygous)</td><td style=\"text-align: left;\">Ataxia (HP:0001251); Hypotonia (HP:0001252); Nystagmus (HP:0000639); Cognitive impairment (HP:0100543); Strabismus (HP:0000486); Cerebral atrophy (HP:0002059); excluded: Cerebral palsy (HP:0100021); excluded: Myoclonus (HP:0001336); excluded: Oculomotor apraxia (HP:0000657); excluded: Seizure (HP:0001250); excluded: Hypoplasia of the iris (HP:0007676); excluded: Abnormality of peripheral nervous system electrophysiology (HP:0030177)</td></tr>\n",
       "<tr><td style=\"text-align: left;\">P7 (MALE; P12Y)</td><td style=\"text-align: left;\">Spinocerebellar ataxia 29, congenital nonprogressive (OMIM:117360)</td><td style=\"text-align: left;\">NM_001378452.1:c.7352T>C (heterozygous)</td><td style=\"text-align: left;\">Ataxia (HP:0001251); Cognitive impairment (HP:0100543); excluded: Cerebral palsy (HP:0100021); excluded: Myoclonus (HP:0001336); excluded: Cerebellar atrophy (HP:0001272); excluded: Oculomotor apraxia (HP:0000657); excluded: Seizure (HP:0001250); excluded: Hypoplasia of the iris (HP:0007676); excluded: Cerebral cortical atrophy (HP:0002120); excluded: Abnormality of peripheral nervous system electrophysiology (HP:0030177); excluded: Abnormal motor evoked potentials (HP:0012896)</td></tr>\n",
       "<tr><td style=\"text-align: left;\">IV:3 (FEMALE; P45Y)</td><td style=\"text-align: left;\">Spinocerebellar ataxia 29, congenital nonprogressive (OMIM:117360)</td><td style=\"text-align: left;\">NM_001378452.1:c.5504T>C (homozygous)</td><td style=\"text-align: left;\">Postural tremor (HP:0002174); Dysarthria (HP:0001260); Nystagmus (HP:0000639); Abnormality of extrapyramidal motor function (HP:0002071); Intellectual disability, mild (HP:0001256); Truncal ataxia (HP:0002078); Clonus (HP:0002169); Cerebellar ataxia associated with quadrupedal gait (HP:0009878); Head tremor (HP:0002346); excluded: Cerebral palsy (HP:0100021); excluded: Dysmetria (HP:0001310); excluded: Hypoplasia of the iris (HP:0007676); excluded: Progressive (HP:0003676)</td></tr>\n",
       "<tr><td style=\"text-align: left;\">IV:5 (MALE; P38Y)</td><td style=\"text-align: left;\">Spinocerebellar ataxia 29, congenital nonprogressive (OMIM:117360)</td><td style=\"text-align: left;\">NM_001378452.1:c.5504T>C (homozygous)</td><td style=\"text-align: left;\">Dysarthria (HP:0001260); Nystagmus (HP:0000639); Abnormality of extrapyramidal motor function (HP:0002071); Intellectual disability, mild (HP:0001256); Truncal ataxia (HP:0002078); Clonus (HP:0002169); Cerebellar ataxia associated with quadrupedal gait (HP:0009878); Head tremor (HP:0002346); excluded: Cerebral palsy (HP:0100021); excluded: Postural tremor (HP:0002174); excluded: Dysmetria (HP:0001310); excluded: Hypoplasia of the iris (HP:0007676); excluded: Progressive (HP:0003676)</td></tr>\n",
       "<tr><td style=\"text-align: left;\">V:1 (MALE; P23Y)</td><td style=\"text-align: left;\">Spinocerebellar ataxia 29, congenital nonprogressive (OMIM:117360)</td><td style=\"text-align: left;\">NM_001378452.1:c.5504T>C (homozygous)</td><td style=\"text-align: left;\">Postural tremor (HP:0002174); Dysarthria (HP:0001260); Cerebellar atrophy (HP:0001272); Abnormality of extrapyramidal motor function (HP:0002071); Intellectual disability, mild (HP:0001256); Dysmetria (HP:0001310); Truncal ataxia (HP:0002078); Clonus (HP:0002169); Cerebellar ataxia associated with quadrupedal gait (HP:0009878); Head tremor (HP:0002346); excluded: Cerebral palsy (HP:0100021); excluded: Hypoplasia of the iris (HP:0007676); excluded: Progressive (HP:0003676)</td></tr>\n",
       "<tr><td style=\"text-align: left;\">V:2 (MALE; P22Y)</td><td style=\"text-align: left;\">Spinocerebellar ataxia 29, congenital nonprogressive (OMIM:117360)</td><td style=\"text-align: left;\">NM_001378452.1:c.5504T>C (homozygous)</td><td style=\"text-align: left;\">Postural tremor (HP:0002174); Dysarthria (HP:0001260); Cerebellar atrophy (HP:0001272); Abnormality of extrapyramidal motor function (HP:0002071); Intellectual disability, mild (HP:0001256); Dysmetria (HP:0001310); Truncal ataxia (HP:0002078); Clonus (HP:0002169); Cerebellar ataxia associated with quadrupedal gait (HP:0009878); Head tremor (HP:0002346); excluded: Cerebral palsy (HP:0100021); excluded: Nystagmus (HP:0000639); excluded: Hypoplasia of the iris (HP:0007676); excluded: Progressive (HP:0003676)</td></tr>\n",
       "<tr><td style=\"text-align: left;\">V:3 (FEMALE; P20Y)</td><td style=\"text-align: left;\">Spinocerebellar ataxia 29, congenital nonprogressive (OMIM:117360)</td><td style=\"text-align: left;\">NM_001378452.1:c.5504T>C (homozygous)</td><td style=\"text-align: left;\">Postural tremor (HP:0002174); Dysarthria (HP:0001260); Abnormality of extrapyramidal motor function (HP:0002071); Intellectual disability, mild (HP:0001256); Dysmetria (HP:0001310); Hyperreflexia (HP:0001347); Truncal ataxia (HP:0002078); Cerebellar ataxia associated with quadrupedal gait (HP:0009878); Head tremor (HP:0002346); excluded: Cerebral palsy (HP:0100021); excluded: Nystagmus (HP:0000639); excluded: Hypoplasia of the iris (HP:0007676); excluded: Clonus (HP:0002169); excluded: Progressive (HP:0003676)</td></tr>\n",
       "<tr><td style=\"text-align: left;\">V:5 (MALE; P17Y)</td><td style=\"text-align: left;\">Spinocerebellar ataxia 29, congenital nonprogressive (OMIM:117360)</td><td style=\"text-align: left;\">NM_001378452.1:c.5504T>C (homozygous)</td><td style=\"text-align: left;\">Postural tremor (HP:0002174); Dysarthria (HP:0001260); Abnormality of extrapyramidal motor function (HP:0002071); Intellectual disability, mild (HP:0001256); Dysmetria (HP:0001310); Hyperreflexia (HP:0001347); Truncal ataxia (HP:0002078); Cerebellar ataxia associated with quadrupedal gait (HP:0009878); Head tremor (HP:0002346); excluded: Cerebral palsy (HP:0100021); excluded: Nystagmus (HP:0000639); excluded: Hypoplasia of the iris (HP:0007676); excluded: Clonus (HP:0002169); excluded: Progressive (HP:0003676)</td></tr>\n",
       "<tr><td style=\"text-align: left;\">P1 (MALE; P9Y)</td><td style=\"text-align: left;\">Spinocerebellar ataxia 29, congenital nonprogressive (OMIM:117360)</td><td style=\"text-align: left;\">NM_001378452.1:c.2129G>A (heterozygous)</td><td style=\"text-align: left;\">Ataxia (HP:0001251); Hypotonia (HP:0001252); Intellectual disability (HP:0001249); Global developmental delay (HP:0001263); Cerebellar atrophy (HP:0001272); Abnormal facial shape (HP:0001999); Cryptorchidism (HP:0000028); excluded: Cerebral palsy (HP:0100021); excluded: Diffuse cerebellar atrophy (HP:0100275); excluded: Progressive (HP:0003676)</td></tr>\n",
       "<tr><td style=\"text-align: left;\">P2 (FEMALE; P7Y)</td><td style=\"text-align: left;\">Spinocerebellar ataxia 29, congenital nonprogressive (OMIM:117360)</td><td style=\"text-align: left;\">NM_001378452.1:c.2129G>A (heterozygous)</td><td style=\"text-align: left;\">Ataxia (HP:0001251); Hypotonia (HP:0001252); Intellectual disability (HP:0001249); Global developmental delay (HP:0001263); Cerebellar atrophy (HP:0001272); excluded: Cerebral palsy (HP:0100021); excluded: Diffuse cerebellar atrophy (HP:0100275)</td></tr>\n",
       "<tr><td style=\"text-align: left;\">P7 (MALE; P13Y)</td><td style=\"text-align: left;\">Spinocerebellar ataxia 29, congenital nonprogressive (OMIM:117360)</td><td style=\"text-align: left;\">NM_001378452.1:c.800C>T (heterozygous)</td><td style=\"text-align: left;\">Ataxia (HP:0001251); Hypotonia (HP:0001252); Global developmental delay (HP:0001263); Nystagmus (HP:0000639); Oculomotor apraxia (HP:0000657); Intellectual disability, mild (HP:0001256); Tremor (HP:0001337); Diffuse cerebellar atrophy (HP:0100275); Progressive (HP:0003676); excluded: Cerebral palsy (HP:0100021)</td></tr>\n",
       "<tr><td style=\"text-align: left;\">P11 (MALE; P12Y)</td><td style=\"text-align: left;\">Spinocerebellar ataxia 29, congenital nonprogressive (OMIM:117360)</td><td style=\"text-align: left;\">NM_001378452.1:c.805C>T (heterozygous)</td><td style=\"text-align: left;\">Ataxia (HP:0001251); Hypotonia (HP:0001252); Dysarthria (HP:0001260); Cerebellar atrophy (HP:0001272); Nystagmus (HP:0000639); Oculomotor apraxia (HP:0000657); excluded: Cerebral palsy (HP:0100021); excluded: Diffuse cerebellar atrophy (HP:0100275)</td></tr>\n",
       "<tr><td style=\"text-align: left;\">P12 (FEMALE; P3Y)</td><td style=\"text-align: left;\">Spinocerebellar ataxia 29, congenital nonprogressive (OMIM:117360)</td><td style=\"text-align: left;\">NM_001378452.1:c.805C>T (heterozygous)</td><td style=\"text-align: left;\">Ataxia (HP:0001251); Hypotonia (HP:0001252); Dysarthria (HP:0001260); Global developmental delay (HP:0001263); Cerebellar atrophy (HP:0001272); Nystagmus (HP:0000639); Oculomotor apraxia (HP:0000657); Progressive (HP:0003676); excluded: Cerebral palsy (HP:0100021); excluded: Diffuse cerebellar atrophy (HP:0100275)</td></tr>\n",
       "<tr><td style=\"text-align: left;\">P15 (FEMALE; P6Y)</td><td style=\"text-align: left;\">Spinocerebellar ataxia 29, congenital nonprogressive (OMIM:117360)</td><td style=\"text-align: left;\">NM_001378452.1:c.805C>T (heterozygous)</td><td style=\"text-align: left;\">Ataxia (HP:0001251); Hypotonia (HP:0001252); Motor delay (HP:0001270); Cerebellar atrophy (HP:0001272); Nystagmus (HP:0000639); excluded: Cerebral palsy (HP:0100021); excluded: Diffuse cerebellar atrophy (HP:0100275)</td></tr>\n",
       "<tr><td style=\"text-align: left;\">P16 (FEMALE; P1Y6M)</td><td style=\"text-align: left;\">Spinocerebellar ataxia 29, congenital nonprogressive (OMIM:117360)</td><td style=\"text-align: left;\">NM_001378452.1:c.800C>T (heterozygous)</td><td style=\"text-align: left;\">Ataxia (HP:0001251); Hypotonia (HP:0001252); Motor delay (HP:0001270); Cerebellar atrophy (HP:0001272); Oculomotor apraxia (HP:0000657); excluded: Cerebral palsy (HP:0100021); excluded: Diffuse cerebellar atrophy (HP:0100275)</td></tr>\n",
       "<tr><td style=\"text-align: left;\">P18 (FEMALE; P7Y)</td><td style=\"text-align: left;\">Spinocerebellar ataxia 29, congenital nonprogressive (OMIM:117360)</td><td style=\"text-align: left;\">NM_001378452.1:c.1534G>A (heterozygous)</td><td style=\"text-align: left;\">Ataxia (HP:0001251); Hypotonia (HP:0001252); Motor delay (HP:0001270); Intellectual disability, moderate (HP:0002342); Cerebellar atrophy (HP:0001272); Nystagmus (HP:0000639); Slurred speech (HP:0001350); excluded: Cerebral palsy (HP:0100021); excluded: Diffuse cerebellar atrophy (HP:0100275)</td></tr>\n",
       "<tr><td style=\"text-align: left;\">P19 (MALE; P12Y)</td><td style=\"text-align: left;\">Spinocerebellar ataxia 29, congenital nonprogressive (OMIM:117360)</td><td style=\"text-align: left;\">NM_001378452.1:c.800C>T (heterozygous)</td><td style=\"text-align: left;\">Ataxia (HP:0001251); Hypotonia (HP:0001252); Intellectual disability, moderate (HP:0002342); Cerebellar atrophy (HP:0001272); Nystagmus (HP:0000639); Inability to walk (HP:0002540); Slurred speech (HP:0001350); Oculomotor apraxia (HP:0000657); excluded: Cerebral palsy (HP:0100021); excluded: Diffuse cerebellar atrophy (HP:0100275); excluded: Progressive (HP:0003676)</td></tr>\n",
       "<tr><td style=\"text-align: left;\">S6_T267M (UNKNOWN; n/a)</td><td style=\"text-align: left;\">Spinocerebellar ataxia 29, congenital nonprogressive (OMIM:117360)</td><td style=\"text-align: left;\">NM_001378452.1:c.800C>T (heterozygous)</td><td style=\"text-align: left;\">Hypotonia (HP:0001252); Global developmental delay (HP:0001263); Nystagmus (HP:0000639); Delayed speech and language development (HP:0000750); Intellectual disability, mild (HP:0001256); Delayed ability to sit (HP:0025336); Dysmetria (HP:0001310); Slowed horizontal saccades (HP:0007885); Esodeviation (HP:0020045); Persistent head lag (HP:0032988); Difficulty walking (HP:0002355); Action tremor (HP:0002345); Abnormality of ocular smooth pursuit (HP:0000617); Hypermetropia (HP:0000540); Drooling (HP:0002307); excluded: Cerebral palsy (HP:0100021); excluded: Cerebellar atrophy (HP:0001272); excluded: Aniridia (HP:0000526); excluded: Cerebellar hypoplasia (HP:0001321)</td></tr>\n",
       "<tr><td style=\"text-align: left;\">S6_A275T (UNKNOWN; n/a)</td><td style=\"text-align: left;\">Spinocerebellar ataxia 29, congenital nonprogressive (OMIM:117360)</td><td style=\"text-align: left;\">NM_001378452.1:c.823G>A (heterozygous)</td><td style=\"text-align: left;\">Ataxia (HP:0001251); Hypotonia (HP:0001252); Microcephaly (HP:0000252); Ptosis (HP:0000508); Congenital horizontal nystagmus (HP:0007859); Cerebellar hypoplasia (HP:0001321); Aplasia/Hypoplasia of the cerebellar vermis (HP:0006817); Upslanted palpebral fissure (HP:0000582); Renal hypoplasia (HP:0000089); Enuresis (HP:0000805); excluded: Cerebral palsy (HP:0100021)</td></tr>\n",
       "<tr><td style=\"text-align: left;\">S6_ Y567C (UNKNOWN; n/a)</td><td style=\"text-align: left;\">Spinocerebellar ataxia 29, congenital nonprogressive (OMIM:117360)</td><td style=\"text-align: left;\">NM_001378452.1:c.1700A>G (heterozygous)</td><td style=\"text-align: left;\">Intellectual disability, moderate (HP:0002342); Global developmental delay (HP:0001263); Delayed speech and language development (HP:0000750); Inability to walk (HP:0002540); Delayed ability to sit (HP:0025336); Neonatal hypotonia (HP:0001319); Short stature (HP:0004322); Dysmetria (HP:0001310); Tremor (HP:0001337); Strabismus (HP:0000486); Cerebellar ataxia associated with quadrupedal gait (HP:0009878); Diffuse cerebellar atrophy (HP:0100275); Cerebellar hypoplasia (HP:0001321); Horizontal nystagmus (HP:0000666); Lower limb muscle weakness (HP:0007340); Proximal muscle weakness (HP:0003701); excluded: Cerebral palsy (HP:0100021); excluded: Aniridia (HP:0000526)</td></tr>\n",
       "<tr><td style=\"text-align: left;\">S6_I595V (UNKNOWN; n/a)</td><td style=\"text-align: left;\">Spinocerebellar ataxia 29, congenital nonprogressive (OMIM:117360)</td><td style=\"text-align: left;\">NM_001378452.1:c.1783A>G (heterozygous)</td><td style=\"text-align: left;\">Intellectual disability, mild (HP:0001256); Dysmetria (HP:0001310); Impaired tandem gait (HP:0031629); Hypermetropia (HP:0000540); Intention tremor (HP:0002080); Abnormal heart morphology (HP:0001627); Pulmonic stenosis (HP:0001642); Arachnoid cyst (HP:0100702); excluded: Cerebral palsy (HP:0100021); excluded: Hypotonia (HP:0001252); excluded: Cerebellar atrophy (HP:0001272); excluded: Nystagmus (HP:0000639); excluded: Aniridia (HP:0000526); excluded: Cerebellar hypoplasia (HP:0001321)</td></tr>\n",
       "<tr><td style=\"text-align: left;\">S6_L1688P (UNKNOWN; n/a)</td><td style=\"text-align: left;\">Spinocerebellar ataxia 29, congenital nonprogressive (OMIM:117360)</td><td style=\"text-align: left;\">NM_001378452.1:c.5063T>C (heterozygous)</td><td style=\"text-align: left;\">Hypotonia (HP:0001252); Dysarthria (HP:0001260); Cerebellar atrophy (HP:0001272); Delayed speech and language development (HP:0000750); Intellectual disability, mild (HP:0001256); Delayed ability to sit (HP:0025336); Delayed ability to walk (HP:0031936); Dysmetria (HP:0001310); Difficulty walking (HP:0002355); Intention tremor (HP:0002080); Cerebral visual impairment (HP:0100704); Gaze-evoked horizontal nystagmus (HP:0007979); excluded: Cerebral palsy (HP:0100021); excluded: Aniridia (HP:0000526); excluded: Cerebellar hypoplasia (HP:0001321)</td></tr>\n",
       "<tr><td style=\"text-align: left;\">S6_L1873_V1874delins (UNKNOWN; n/a)</td><td style=\"text-align: left;\">Spinocerebellar ataxia 29, congenital nonprogressive (OMIM:117360)</td><td style=\"text-align: left;\">NM_001378452.1:c.5619_5621delinsTGG (heterozygous)</td><td style=\"text-align: left;\">Ataxia (HP:0001251); Dyscalculia (HP:0002442); excluded: Cerebral palsy (HP:0100021)</td></tr>\n",
       "<tr><td style=\"text-align: left;\">S6_N2591T (UNKNOWN; n/a)</td><td style=\"text-align: left;\">Spinocerebellar ataxia 29, congenital nonprogressive (OMIM:117360)</td><td style=\"text-align: left;\">NM_001378452.1:c.7772A>C (heterozygous)</td><td style=\"text-align: left;\">Hypotonia (HP:0001252); Dysarthria (HP:0001260); Intellectual disability, moderate (HP:0002342); Cerebellar atrophy (HP:0001272); Nystagmus (HP:0000639); Inability to walk (HP:0002540); Delayed ability to sit (HP:0025336); Dysmetria (HP:0001310); Tremor (HP:0001337); Cerebellar hypoplasia (HP:0001321); Secondary microcephaly (HP:0005484); 2-3 toe syndactyly (HP:0004691); excluded: Cerebral palsy (HP:0100021); excluded: Aniridia (HP:0000526)</td></tr>\n",
       "<tr><td style=\"text-align: left;\">Family C proband III-2 (FEMALE; P5Y)</td><td style=\"text-align: left;\">Spinocerebellar ataxia 29, congenital nonprogressive (OMIM:117360)</td><td style=\"text-align: left;\">NM_001378452.1:c.1804A>G (heterozygous)</td><td style=\"text-align: left;\"><b>P8M</b>: Delayed ability to sit (HP:0025336)<br/><b>P1Y</b>: Cerebellar vermis atrophy (HP:0006855)<br/><b>P2Y4M</b>: Hypotonia (HP:0001252); Delayed speech and language development (HP:0000750); Gaze-evoked nystagmus (HP:0000640); Truncal titubation (HP:0030147); Limb dysmetria (HP:0002406); Delayed ability to walk (HP:0031936)<br/><b>P3Y6M</b>: Global developmental delay (HP:0001263)<br/><b>P5Y</b>: Focal impaired awareness seizure (HP:0002384); Continuous spike and waves during slow sleep (HP:0031491)<br/>excluded: Hyperreflexia (HP:0001347); excluded: Lower limb muscle weakness (HP:0007340); excluded: Proximal muscle weakness (HP:0003701)</td></tr>\n",
       "<tr><td style=\"text-align: left;\">Family C father II-2 (MALE; P45Y)</td><td style=\"text-align: left;\">Spinocerebellar ataxia 29, congenital nonprogressive (OMIM:117360)</td><td style=\"text-align: left;\">NM_001378452.1:c.1804A>G (heterozygous)</td><td style=\"text-align: left;\">Dysarthria (HP:0001260); Motor delay (HP:0001270); Cerebellar atrophy (HP:0001272); Intention tremor (HP:0002080)</td></tr>\n",
       "</table>"
      ],
      "text/plain": [
       "<IPython.core.display.HTML object>"
      ]
     },
     "metadata": {},
     "output_type": "display_data"
    }
   ],
   "source": [
    "table = IndividualTable(cvalidator.get_error_free_individual_list())\n",
    "display(HTML(table.to_html()))"
   ]
  },
  {
   "cell_type": "code",
   "execution_count": 6,
   "metadata": {},
   "outputs": [
    {
     "name": "stdout",
     "output_type": "stream",
     "text": [
      "[pyphetools] Ingested 80 GA4GH phenopackets.\n",
      "[INFO] Extracted 50 from 80 phenopackets with OMIM:117360\n",
      "\n",
      "\tSpinocerebellar ataxia 29, congenital nonprogressive (OMIM:117360): n=50\n",
      "We found a total of 132 unique HPO terms\n",
      "Extracted disease: Spinocerebellar ataxia 29, congenital nonprogressive (OMIM:117360)\n",
      "Wrote HPOA disease file to OMIM-117360.tab\n"
     ]
    }
   ],
   "source": [
    "pmid = \"PMID:28826917\"\n",
    "df = timporter.create_hpoa_from_phenopackets(pmid=pmid, mode_of_inheritance=Moi.AD, target=\"OMIM:117360\")"
   ]
  }
 ],
 "metadata": {
  "kernelspec": {
   "display_name": "ps24venv",
   "language": "python",
   "name": "python3"
  },
  "language_info": {
   "codemirror_mode": {
    "name": "ipython",
    "version": 3
   },
   "file_extension": ".py",
   "mimetype": "text/x-python",
   "name": "python",
   "nbconvert_exporter": "python",
   "pygments_lexer": "ipython3",
   "version": "3.9.6"
  }
 },
 "nbformat": 4,
 "nbformat_minor": 2
}
