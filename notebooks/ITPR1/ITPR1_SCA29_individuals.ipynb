{
 "cells": [
  {
   "cell_type": "markdown",
   "metadata": {},
   "source": []
  },
  {
   "cell_type": "markdown",
   "metadata": {},
   "source": [
    "# ITPR1\n",
    "[spinocerebellar ataxia-29 (SCA29), also known as congenital nonprogressive cerebellar ataxia (CNPCA)](https://omim.org/entry/117360) is caused by heterozygous mutation in the ITPR1 gene.\n",
    "We are currently not including the individual described in [van Dijk et al.. A de novo missense mutation in the inositol 1,4,5-triphosphate receptor type 1 gene causing severe pontine and cerebellar hypoplasia: Expanding the phenotype of ITPR1-related spinocerebellar ataxia's.](https://pubmed.ncbi.nlm.nih.gov/27862915/) because the phenotype differs in several ways and may represent a current undescribed subtype. We are including the two individuals described in [Das et al Missense mutation in the ITPR1 gene presenting with ataxic cerebral palsy: Description of an affected family and literature review (https://pubmed.ncbi.nlm.nih.gov/28826917/) in the SCA29 cohort because of the congenital/early onset even though the manifestations were somewhat progressive."
   ]
  },
  {
   "cell_type": "markdown",
   "metadata": {},
   "source": []
  },
  {
   "cell_type": "code",
   "execution_count": 1,
   "metadata": {},
   "outputs": [
    {
     "name": "stdout",
     "output_type": "stream",
     "text": [
      "Using pyphetools version 0.9.105\n"
     ]
    }
   ],
   "source": [
    "from pyphetools.creation import TemplateImporter,Moi\n",
    "from pyphetools.visualization import IndividualTable, QcVisualizer\n",
    "from IPython.display import display, HTML   \n",
    "import pyphetools\n",
    "print(f\"Using pyphetools version {pyphetools.__version__}\")"
   ]
  },
  {
   "cell_type": "code",
   "execution_count": 2,
   "metadata": {},
   "outputs": [],
   "source": [
    "template = \"input/ITPR1_SCA29_individuals.xlsx\"\n",
    "created_by = \"0000-0002-0736-9199\""
   ]
  },
  {
   "cell_type": "code",
   "execution_count": 3,
   "metadata": {},
   "outputs": [
    {
     "name": "stdout",
     "output_type": "stream",
     "text": [
      "HPO version 2024-08-13\n",
      "Created encoders for 172 fields\n",
      "Importing OMIM:117360, Spinocerebellar ataxia 29, congenital nonprogressive, HGNC:6180, ITPR1,  NM_001378452.1\n",
      "We output 50 GA4GH phenopackets to the directory phenopackets\n"
     ]
    }
   ],
   "source": [
    "timporter = TemplateImporter(template=template,  created_by=created_by)\n",
    "individual_list, cvalidator = timporter.import_phenopackets_from_template(leniant_MOI=True)"
   ]
  },
  {
   "cell_type": "code",
   "execution_count": 4,
   "metadata": {},
   "outputs": [
    {
     "data": {
      "text/html": [
       "<h2>Cohort validation</h2>\n",
       "<p>Errors found with 35 of 50 phenopackets.</p>\n",
       "<table style=\"border: 2px solid black; align: \"left\">\n",
       "<caption>Error counts</caption>\n",
       "<tr><th style=\"text-align: left;font-weight: bold;\">Level</th><th style=\"text-align: left;font-weight: bold;\">Error category</th><th style=\"text-align: left;font-weight: bold;\">Count</th></tr>\n",
       "<tr><td style=\"text-align: left;\">ERROR</td><td style=\"text-align: left;\">CONFLICT</td><td style=\"text-align: left;\">2</td></tr>\n",
       "<tr><td style=\"text-align: left;\">WARNING</td><td style=\"text-align: left;\">REDUNDANT</td><td style=\"text-align: left;\">88</td></tr>\n",
       "</table>\n",
       "<p>A total of 90 issues were fixed and no individual was removed from the cohort.</p>"
      ],
      "text/plain": [
       "<IPython.core.display.HTML object>"
      ]
     },
     "metadata": {},
     "output_type": "display_data"
    }
   ],
   "source": [
    "qc = QcVisualizer(cohort_validator=cvalidator)\n",
    "display(HTML(qc.to_summary_html()))"
   ]
  },
  {
   "cell_type": "code",
   "execution_count": 5,
   "metadata": {},
   "outputs": [
    {
     "data": {
      "text/html": [
       "<table style=\"border: 2px solid black; align: \"left\">\n",
       "<caption>50 phenopackets - PMID:28826917 (n=2); PMID:25981959 (n=2); PMID:22986007 (n=3); PMID:25794864 (n=4); PMID:27062503 (n=4); PMID:37821226 (n=3); PMID:28620721 (n=3); PMID:29925855 (n=7); PMID:28488678 (n=6); PMID:35743164 (n=9); PMID:37964426 (n=7)</caption>\n",
       "<tr><th style=\"text-align: left;font-weight: bold;\">Individual</th><th style=\"text-align: left;font-weight: bold;\">Disease</th><th style=\"text-align: left;font-weight: bold;\">Genotype</th><th style=\"text-align: left;font-weight: bold;\">Phenotypic features</th></tr>\n",
       "<tr><td style=\"text-align: left;\">Patient A (FEMALE; P30Y)</td><td style=\"text-align: left;\">Spinocerebellar ataxia 29, congenital nonprogressive (OMIM:117360)</td><td style=\"text-align: left;\">NM_001378452.1:c.805C>T (heterozygous)</td><td style=\"text-align: left;\">Cerebral palsy (HP:0100021): onset ; Limb ataxia (HP:0002070): onset ; Hypotonia (HP:0001252): onset ; Dysarthria (HP:0001260): onset ; Slow saccadic eye movements (HP:0000514): onset ; Delayed ability to walk with support (HP:0033257): onset ; Myoclonus (HP:0001336): onset ; Myokymia (HP:0002411): onset ; Cerebellar vermis atrophy (HP:0006855): onset ; excluded: Nystagmus (HP:0000639): onset ; excluded: Abnormal pyramidal sign (HP:0007256): onset <br/><b>TimeElement(element=OntologyClass(id=HP:0011463, label=Childhood onset))</b>: Loss of ambulation (HP:0002505): onset ontology_class {\n",
       "  id: \"HP:0011463\"\n",
       "  label: \"Childhood onset\"\n",
       "}\n",
       "<br/><b>TimeElement(element=OntologyClass(id=HP:0011462, label=Young adult onset))</b>: Postural tremor (HP:0002174): onset ontology_class {\n",
       "  id: \"HP:0011462\"\n",
       "  label: \"Young adult onset\"\n",
       "}\n",
       "</td></tr>\n",
       "<tr><td style=\"text-align: left;\">Patient B (FEMALE; P3Y)</td><td style=\"text-align: left;\">Spinocerebellar ataxia 29, congenital nonprogressive (OMIM:117360)</td><td style=\"text-align: left;\">NM_001378452.1:c.805C>T (heterozygous)</td><td style=\"text-align: left;\">Cerebral palsy (HP:0100021): onset ; Ataxia (HP:0001251): onset ; Dysarthria (HP:0001260): onset ; Broad-based gait (HP:0002136): onset ; Delayed ability to crawl (HP:0033128): onset ; Delayed ability to walk (HP:0031936): onset ; Intellectual disability (HP:0001249): onset ; Myoclonus (HP:0001336): onset ; Myokymia (HP:0002411): onset ; Cerebellar vermis atrophy (HP:0006855): onset ; Postural tremor (HP:0002174): onset ; excluded: Abnormal pyramidal sign (HP:0007256): onset <br/><b>TimeElement(element=OntologyClass(id=HP:0003577, label=Congenital onset))</b>: Hypotonia (HP:0001252): onset ontology_class {\n",
       "  id: \"HP:0003577\"\n",
       "  label: \"Congenital onset\"\n",
       "}\n",
       "<br/><b>TimeElement(element=OntologyClass(id=HP:0011463, label=Childhood onset))</b>: Loss of ambulation (HP:0002505): onset ontology_class {\n",
       "  id: \"HP:0011463\"\n",
       "  label: \"Childhood onset\"\n",
       "}\n",
       "</td></tr>\n",
       "<tr><td style=\"text-align: left;\">Case 2 (FEMALE; P4Y)</td><td style=\"text-align: left;\">Spinocerebellar ataxia 29, congenital nonprogressive (OMIM:117360)</td><td style=\"text-align: left;\">NM_001378452.1:c.1804A>G (heterozygous)</td><td style=\"text-align: left;\">Cerebral palsy (HP:0100021): onset ; Ataxia (HP:0001251): onset ; Delayed ability to walk (HP:0031936): onset ; Intellectual disability, moderate (HP:0002342): onset ; Global developmental delay (HP:0001263): onset ; Brisk reflexes (HP:0001348): onset ; Delayed speech and language development (HP:0000750): onset ; excluded: Developmental regression (HP:0002376): onset ; excluded: Long-tract signs (HP:0002423): onset ; excluded: Cerebellar vermis atrophy (HP:0006855): onset ; excluded: Seizure (HP:0001250): onset ; excluded: Premature birth (HP:0001622): onset <br/><b>TimeElement(element=OntologyClass(id=HP:0003593, label=Infantile onset))</b>: Rotary nystagmus (HP:0001583): onset ontology_class {\n",
       "  id: \"HP:0003593\"\n",
       "  label: \"Infantile onset\"\n",
       "}\n",
       "<br/><b>TimeElement(element=Age(iso8601duration=P6M))</b>: Poor head control (HP:0002421): onset age {\n",
       "  iso8601duration: \"P6M\"\n",
       "}\n",
       "<br/><b>TimeElement(element=Age(iso8601duration=P3Y))</b>: Hypotonia (HP:0001252): onset age {\n",
       "  iso8601duration: \"P3Y\"\n",
       "}\n",
       "</td></tr>\n",
       "<tr><td style=\"text-align: left;\">Case 3 (MALE; P10Y)</td><td style=\"text-align: left;\">Spinocerebellar ataxia 29, congenital nonprogressive (OMIM:117360)</td><td style=\"text-align: left;\">NM_001378452.1:c.4459T>G (heterozygous)</td><td style=\"text-align: left;\">Cerebral palsy (HP:0100021): onset ; Ataxia (HP:0001251): onset ; Delayed ability to sit (HP:0025336): onset ; Delayed ability to walk with support (HP:0033257): onset ; Delayed ability to crawl (HP:0033128): onset ; Delayed ability to walk (HP:0031936): onset ; Intellectual disability, moderate (HP:0002342): onset ; Global developmental delay (HP:0001263): onset ; Thickened nuchal skin fold (HP:0000474): onset ; excluded: Developmental regression (HP:0002376): onset ; excluded: Seizure (HP:0001250): onset ; excluded: Poor head control (HP:0002421): onset ; excluded: Premature birth (HP:0001622): onset </td></tr>\n",
       "<tr><td style=\"text-align: left;\">P_Family_C (FEMALE; P5Y)</td><td style=\"text-align: left;\">Spinocerebellar ataxia 29, congenital nonprogressive (OMIM:117360)</td><td style=\"text-align: left;\">NM_001378452.1:c.1804A>G (heterozygous)</td><td style=\"text-align: left;\">Limb ataxia (HP:0002070): onset ; Hypotonia (HP:0001252): onset ; Global developmental delay (HP:0001263): onset ; Gaze-evoked nystagmus (HP:0000640): onset ; Delayed speech and language development (HP:0000750): onset ; Truncal titubation (HP:0030147): onset ; Limb dysmetria (HP:0002406): onset ; Inability to walk (HP:0002540): onset ; Cerebellar vermis atrophy (HP:0006855): onset ; Focal impaired awareness seizure (HP:0002384): onset ; Continuous spike and waves during slow sleep (HP:0031491): onset ; excluded: Cerebral palsy (HP:0100021): onset <br/><b>TimeElement(element=Age(iso8601duration=P8M))</b>: Delayed ability to sit (HP:0025336): onset age {\n",
       "  iso8601duration: \"P8M\"\n",
       "}\n",
       "<br/><b>TimeElement(element=Age(iso8601duration=P10M))</b>: Delayed ability to walk with support (HP:0033257): onset age {\n",
       "  iso8601duration: \"P10M\"\n",
       "}\n",
       "</td></tr>\n",
       "<tr><td style=\"text-align: left;\">P1 (FEMALE; P6Y)</td><td style=\"text-align: left;\">Spinocerebellar ataxia 29, congenital nonprogressive (OMIM:117360)</td><td style=\"text-align: left;\">NM_001378452.1:c.800C>T (heterozygous)</td><td style=\"text-align: left;\">Ataxia (HP:0001251): onset ; Generalized hypotonia (HP:0001290): onset ; Delayed ability to sit (HP:0025336): onset ; Delayed ability to walk with support (HP:0033257): onset ; Intellectual disability, mild (HP:0001256): onset ; Global developmental delay (HP:0001263): onset ; Cerebellar atrophy (HP:0001272): onset ; Slurred speech (HP:0001350): onset ; Difficulty standing (HP:0003698): onset ; Atrophy/Degeneration affecting the brainstem (HP:0007366): onset ; Postural tremor (HP:0002174): onset ; excluded: Cerebral palsy (HP:0100021): onset ; excluded: Intellectual disability, moderate (HP:0002342): onset ; excluded: Developmental regression (HP:0002376): onset ; excluded: Vertical nystagmus (HP:0010544): onset ; excluded: Gaze-evoked horizontal nystagmus (HP:0007979): onset ; excluded: Seizure (HP:0001250): onset ; excluded: Dysphagia (HP:0002015): onset ; excluded: Oculomotor apraxia (HP:0000657): onset ; excluded: Abnormal pyramidal sign (HP:0007256): onset ; excluded: Abnormality of extrapyramidal motor function (HP:0002071): onset ; excluded: Peripheral neuropathy (HP:0009830): onset ; excluded: Poor head control (HP:0002421): onset <br/><b>TimeElement(element=Age(iso8601duration=P6M))</b>: Gaze-evoked nystagmus (HP:0000640): onset age {\n",
       "  iso8601duration: \"P6M\"\n",
       "}\n",
       "</td></tr>\n",
       "<tr><td style=\"text-align: left;\">P2 (MALE; P9Y)</td><td style=\"text-align: left;\">Spinocerebellar ataxia 29, congenital nonprogressive (OMIM:117360)</td><td style=\"text-align: left;\">NM_001378452.1:c.830G>T (heterozygous)</td><td style=\"text-align: left;\">Ataxia (HP:0001251): onset ; Generalized hypotonia (HP:0001290): onset ; Delayed ability to sit (HP:0025336): onset ; Delayed ability to walk with support (HP:0033257): onset ; Intellectual disability, mild (HP:0001256): onset ; Global developmental delay (HP:0001263): onset ; Cerebellar atrophy (HP:0001272): onset ; Slurred speech (HP:0001350): onset ; Oculomotor apraxia (HP:0000657): onset ; Difficulty standing (HP:0003698): onset ; Atrophy/Degeneration affecting the brainstem (HP:0007366): onset ; Postural tremor (HP:0002174): onset ; excluded: Cerebral palsy (HP:0100021): onset ; excluded: Intellectual disability, moderate (HP:0002342): onset ; excluded: Developmental regression (HP:0002376): onset ; excluded: Gaze-evoked horizontal nystagmus (HP:0007979): onset ; excluded: Seizure (HP:0001250): onset ; excluded: Dysphagia (HP:0002015): onset ; excluded: Abnormal pyramidal sign (HP:0007256): onset ; excluded: Abnormality of extrapyramidal motor function (HP:0002071): onset ; excluded: Peripheral neuropathy (HP:0009830): onset ; excluded: Poor head control (HP:0002421): onset <br/><b>TimeElement(element=OntologyClass(id=HP:0003577, label=Congenital onset))</b>: Vertical nystagmus (HP:0010544): onset ontology_class {\n",
       "  id: \"HP:0003577\"\n",
       "  label: \"Congenital onset\"\n",
       "}\n",
       "</td></tr>\n",
       "<tr><td style=\"text-align: left;\">P3 (MALE; P12Y)</td><td style=\"text-align: left;\">Spinocerebellar ataxia 29, congenital nonprogressive (OMIM:117360)</td><td style=\"text-align: left;\">NM_001378452.1:c.1781C>T (heterozygous)</td><td style=\"text-align: left;\">Ataxia (HP:0001251): onset ; Generalized hypotonia (HP:0001290): onset ; Delayed ability to sit (HP:0025336): onset ; Delayed ability to walk with support (HP:0033257): onset ; Intellectual disability, moderate (HP:0002342): onset ; Global developmental delay (HP:0001263): onset ; Cerebellar atrophy (HP:0001272): onset ; Slurred speech (HP:0001350): onset ; Oculomotor apraxia (HP:0000657): onset ; Difficulty standing (HP:0003698): onset ; Atrophy/Degeneration affecting the brainstem (HP:0007366): onset ; Postural tremor (HP:0002174): onset ; excluded: Cerebral palsy (HP:0100021): onset ; excluded: Intellectual disability, mild (HP:0001256): onset ; excluded: Developmental regression (HP:0002376): onset ; excluded: Gaze-evoked horizontal nystagmus (HP:0007979): onset ; excluded: Seizure (HP:0001250): onset ; excluded: Dysphagia (HP:0002015): onset ; excluded: Abnormal pyramidal sign (HP:0007256): onset ; excluded: Abnormality of extrapyramidal motor function (HP:0002071): onset ; excluded: Peripheral neuropathy (HP:0009830): onset ; excluded: Poor head control (HP:0002421): onset <br/><b>TimeElement(element=OntologyClass(id=HP:0003577, label=Congenital onset))</b>: Vertical nystagmus (HP:0010544): onset ontology_class {\n",
       "  id: \"HP:0003577\"\n",
       "  label: \"Congenital onset\"\n",
       "}\n",
       "</td></tr>\n",
       "<tr><td style=\"text-align: left;\">P4 (FEMALE; P6Y)</td><td style=\"text-align: left;\">Spinocerebellar ataxia 29, congenital nonprogressive (OMIM:117360)</td><td style=\"text-align: left;\">NM_001378452.1:c.800C>G (heterozygous)</td><td style=\"text-align: left;\">Ataxia (HP:0001251): onset ; Generalized hypotonia (HP:0001290): onset ; Delayed ability to sit (HP:0025336): onset ; Delayed ability to walk with support (HP:0033257): onset ; Intellectual disability, mild (HP:0001256): onset ; Global developmental delay (HP:0001263): onset ; Cerebellar atrophy (HP:0001272): onset ; Slurred speech (HP:0001350): onset ; Oculomotor apraxia (HP:0000657): onset ; Poor head control (HP:0002421): onset ; Difficulty standing (HP:0003698): onset ; Atrophy/Degeneration affecting the brainstem (HP:0007366): onset ; Postural tremor (HP:0002174): onset ; excluded: Cerebral palsy (HP:0100021): onset ; excluded: Intellectual disability, moderate (HP:0002342): onset ; excluded: Developmental regression (HP:0002376): onset ; excluded: Vertical nystagmus (HP:0010544): onset ; excluded: Gaze-evoked horizontal nystagmus (HP:0007979): onset ; excluded: Seizure (HP:0001250): onset ; excluded: Dysphagia (HP:0002015): onset ; excluded: Abnormal pyramidal sign (HP:0007256): onset ; excluded: Abnormality of extrapyramidal motor function (HP:0002071): onset ; excluded: Peripheral neuropathy (HP:0009830): onset <br/><b>TimeElement(element=Age(iso8601duration=P5M))</b>: Gaze-evoked nystagmus (HP:0000640): onset age {\n",
       "  iso8601duration: \"P5M\"\n",
       "}\n",
       "</td></tr>\n",
       "<tr><td style=\"text-align: left;\">P1 (MALE; P28Y)</td><td style=\"text-align: left;\">Spinocerebellar ataxia 29, congenital nonprogressive (OMIM:117360)</td><td style=\"text-align: left;\">NM_001378452.1:c.805C>T (heterozygous)</td><td style=\"text-align: left;\">Ataxia (HP:0001251): onset ; Delayed ability to sit (HP:0025336): onset ; Delayed ability to walk (HP:0031936): onset ; Cerebellar atrophy (HP:0001272): onset ; Slurred speech (HP:0001350): onset ; Oculomotor apraxia (HP:0000657): onset ; Poor head control (HP:0002421): onset ; Postural tremor (HP:0002174): onset ; excluded: Cerebral palsy (HP:0100021): onset ; excluded: Intellectual disability (HP:0001249): onset ; excluded: Developmental regression (HP:0002376): onset ; excluded: Seizure (HP:0001250): onset ; excluded: Dysphagia (HP:0002015): onset ; excluded: Abnormal pyramidal sign (HP:0007256): onset ; excluded: Abnormality of extrapyramidal motor function (HP:0002071): onset ; excluded: Peripheral neuropathy (HP:0009830): onset ; excluded: Atrophy/Degeneration affecting the brainstem (HP:0007366): onset ; excluded: Atrophy/Degeneration affecting the cerebrum (HP:0007369): onset <br/><b>TimeElement(element=OntologyClass(id=HP:0003623, label=Neonatal onset))</b>: Hypotonia (HP:0001252): onset ontology_class {\n",
       "  id: \"HP:0003623\"\n",
       "  label: \"Neonatal onset\"\n",
       "}\n",
       "<br/><b>TimeElement(element=Age(iso8601duration=P6M))</b>: Nystagmus (HP:0000639): onset age {\n",
       "  iso8601duration: \"P6M\"\n",
       "}\n",
       "</td></tr>\n",
       "<tr><td style=\"text-align: left;\">P2 (FEMALE; P19Y10M)</td><td style=\"text-align: left;\">Spinocerebellar ataxia 29, congenital nonprogressive (OMIM:117360)</td><td style=\"text-align: left;\">NM_001378452.1:c.722G>A (heterozygous)</td><td style=\"text-align: left;\">Ataxia (HP:0001251): onset ; Delayed ability to sit (HP:0025336): onset ; Delayed ability to walk (HP:0031936): onset ; Cerebellar atrophy (HP:0001272): onset ; Slurred speech (HP:0001350): onset ; Oculomotor apraxia (HP:0000657): onset ; Postural tremor (HP:0002174): onset ; excluded: Cerebral palsy (HP:0100021): onset ; excluded: Intellectual disability (HP:0001249): onset ; excluded: Developmental regression (HP:0002376): onset ; excluded: Seizure (HP:0001250): onset ; excluded: Dysphagia (HP:0002015): onset ; excluded: Abnormal pyramidal sign (HP:0007256): onset ; excluded: Abnormality of extrapyramidal motor function (HP:0002071): onset ; excluded: Peripheral neuropathy (HP:0009830): onset ; excluded: Atrophy/Degeneration affecting the brainstem (HP:0007366): onset ; excluded: Atrophy/Degeneration affecting the cerebrum (HP:0007369): onset <br/><b>TimeElement(element=OntologyClass(id=HP:0003577, label=Congenital onset))</b>: Nystagmus (HP:0000639): onset ontology_class {\n",
       "  id: \"HP:0003577\"\n",
       "  label: \"Congenital onset\"\n",
       "}\n",
       "<br/><b>TimeElement(element=OntologyClass(id=HP:0003623, label=Neonatal onset))</b>: Hypotonia (HP:0001252): onset ontology_class {\n",
       "  id: \"HP:0003623\"\n",
       "  label: \"Neonatal onset\"\n",
       "}\n",
       "</td></tr>\n",
       "<tr><td style=\"text-align: left;\">P3 (MALE; P6Y10M)</td><td style=\"text-align: left;\">Spinocerebellar ataxia 29, congenital nonprogressive (OMIM:117360)</td><td style=\"text-align: left;\">NM_001378452.1:c.239C>A (heterozygous)</td><td style=\"text-align: left;\">Ataxia (HP:0001251): onset ; Delayed ability to sit (HP:0025336): onset ; Delayed ability to walk (HP:0031936): onset ; Cerebellar atrophy (HP:0001272): onset ; Slurred speech (HP:0001350): onset ; Postural tremor (HP:0002174): onset ; excluded: Cerebral palsy (HP:0100021): onset ; excluded: Intellectual disability (HP:0001249): onset ; excluded: Developmental regression (HP:0002376): onset ; excluded: Seizure (HP:0001250): onset ; excluded: Dysphagia (HP:0002015): onset ; excluded: Oculomotor apraxia (HP:0000657): onset ; excluded: Abnormal pyramidal sign (HP:0007256): onset ; excluded: Abnormality of extrapyramidal motor function (HP:0002071): onset ; excluded: Peripheral neuropathy (HP:0009830): onset ; excluded: Poor head control (HP:0002421): onset ; excluded: Atrophy/Degeneration affecting the brainstem (HP:0007366): onset ; excluded: Atrophy/Degeneration affecting the cerebrum (HP:0007369): onset <br/><b>TimeElement(element=OntologyClass(id=HP:0003577, label=Congenital onset))</b>: Nystagmus (HP:0000639): onset ontology_class {\n",
       "  id: \"HP:0003577\"\n",
       "  label: \"Congenital onset\"\n",
       "}\n",
       "<br/><b>TimeElement(element=OntologyClass(id=HP:0003623, label=Neonatal onset))</b>: Hypotonia (HP:0001252): onset ontology_class {\n",
       "  id: \"HP:0003623\"\n",
       "  label: \"Neonatal onset\"\n",
       "}\n",
       "</td></tr>\n",
       "<tr><td style=\"text-align: left;\">P4 (FEMALE; P7Y2M)</td><td style=\"text-align: left;\">Spinocerebellar ataxia 29, congenital nonprogressive (OMIM:117360)</td><td style=\"text-align: left;\">NM_001378452.1:c.1534G>A (heterozygous)</td><td style=\"text-align: left;\">Ataxia (HP:0001251): onset ; Generalized hypotonia (HP:0001290): onset ; Delayed ability to walk (HP:0031936): onset ; Global developmental delay (HP:0001263): onset ; Cerebellar atrophy (HP:0001272): onset ; Slurred speech (HP:0001350): onset ; Postural tremor (HP:0002174): onset ; excluded: Cerebral palsy (HP:0100021): onset ; excluded: Intellectual disability (HP:0001249): onset ; excluded: Developmental regression (HP:0002376): onset ; excluded: Seizure (HP:0001250): onset ; excluded: Dysphagia (HP:0002015): onset ; excluded: Oculomotor apraxia (HP:0000657): onset ; excluded: Abnormal pyramidal sign (HP:0007256): onset ; excluded: Abnormality of extrapyramidal motor function (HP:0002071): onset ; excluded: Peripheral neuropathy (HP:0009830): onset ; excluded: Atrophy/Degeneration affecting the brainstem (HP:0007366): onset ; excluded: Atrophy/Degeneration affecting the cerebrum (HP:0007369): onset <br/><b>TimeElement(element=Age(iso8601duration=P5M))</b>: Nystagmus (HP:0000639): onset age {\n",
       "  iso8601duration: \"P5M\"\n",
       "}\n",
       "</td></tr>\n",
       "<tr><td style=\"text-align: left;\">P1 (MALE; P14Y)</td><td style=\"text-align: left;\">Spinocerebellar ataxia 29, congenital nonprogressive (OMIM:117360)</td><td style=\"text-align: left;\">NM_001378452.1:c.800C>T (heterozygous)</td><td style=\"text-align: left;\">Nonprogressive cerebellar ataxia (HP:0002470): onset ; Generalized hypotonia (HP:0001290): onset ; Dysarthria (HP:0001260): onset ; Delayed fine motor development (HP:0010862): onset ; Delayed ability to walk (HP:0031936): onset ; Intellectual disability (HP:0001249): onset ; Myokymia (HP:0002411): onset ; Nystagmus (HP:0000639): onset ; Delayed speech and language development (HP:0000750): onset ; Dysphagia (HP:0002015): onset ; Poor head control (HP:0002421): onset ; Bruxism (HP:0003763): onset ; Deep philtrum (HP:0002002): onset ; Elfin facies (HP:0004428): onset ; Frontal bossing (HP:0002007): onset ; High palate (HP:0000218): onset ; Increased overbite (HP:0011094): onset ; Prominent nose (HP:0000448): onset ; Abnormal eye contact (HP:0034435): onset ; Cognitive impairment (HP:0100543): onset ; Delayed ability to stand (HP:0025335): onset ; Feeding difficulties (HP:0011968): onset ; Poor speech (HP:0002465): onset ; Small for gestational age (HP:0001518): onset ; Generalized neonatal hypotonia (HP:0008935): onset ; Gowers sign (HP:0003391): onset ; Short stature (HP:0004322): onset ; Bilateral facial palsy (HP:0430025): onset ; Dysmetria (HP:0001310): onset ; Echolalia (HP:0010529): onset ; Impaired tandem gait (HP:0031629): onset ; Jaw hyperreflexia (HP:0033683): onset ; Positive Romberg sign (HP:0002403): onset ; Ptosis (HP:0000508): onset ; Leukocoria (HP:0000555): onset ; excluded: Cerebral palsy (HP:0100021): onset ; excluded: Microcephaly (HP:0000252): onset </td></tr>\n",
       "<tr><td style=\"text-align: left;\">P2 (FEMALE; P4Y)</td><td style=\"text-align: left;\">Spinocerebellar ataxia 29, congenital nonprogressive (OMIM:117360)</td><td style=\"text-align: left;\">NM_001378452.1:c.800C>T (heterozygous)</td><td style=\"text-align: left;\">Nonprogressive cerebellar ataxia (HP:0002470): onset ; Hypertonia (HP:0001276): onset ; Dysarthria (HP:0001260): onset ; Broad-based gait (HP:0002136): onset ; Delayed ability to walk (HP:0031936): onset ; Delayed speech and language development (HP:0000750): onset ; Deep philtrum (HP:0002002): onset ; Elfin facies (HP:0004428): onset ; Flat forehead (HP:0004425): onset ; Frontal bossing (HP:0002007): onset ; Microcephaly (HP:0000252): onset ; Cognitive impairment (HP:0100543): onset ; Delayed ability to stand (HP:0025335): onset ; Poor speech (HP:0002465): onset ; Small for gestational age (HP:0001518): onset ; Poor appetite (HP:0004396): onset ; Peroneal muscle atrophy (HP:0009049): onset ; Prominent calcaneus (HP:0012428): onset ; Short stature (HP:0004322): onset ; Dysmetria (HP:0001310): onset ; Dystonia (HP:0001332): onset ; Hyperreflexia (HP:0001347): onset ; Ptosis (HP:0000508): onset ; Esotropia (HP:0000565): onset ; Leukocoria (HP:0000555): onset ; excluded: Cerebral palsy (HP:0100021): onset </td></tr>\n",
       "<tr><td style=\"text-align: left;\">P3 (FEMALE; P6M)</td><td style=\"text-align: left;\">Spinocerebellar ataxia 29, congenital nonprogressive (OMIM:117360)</td><td style=\"text-align: left;\">NM_001378452.1:c.800C>T (heterozygous)</td><td style=\"text-align: left;\">Generalized hypotonia (HP:0001290): onset ; Dysarthria (HP:0001260): onset ; Nystagmus (HP:0000639): onset ; Frontal bossing (HP:0002007): onset ; High palate (HP:0000218): onset ; Microcephaly (HP:0000252): onset ; Prominent nose (HP:0000448): onset ; Abnormal eye contact (HP:0034435): onset ; Decreased body weight (HP:0004325): onset ; Opisthotonus (HP:0002179): onset ; Short stature (HP:0004322): onset ; Dysmetria (HP:0001310): onset ; Dystonia (HP:0001332): onset ; Hyperreflexia (HP:0001347): onset ; Ptosis (HP:0000508): onset ; excluded: Cerebral palsy (HP:0100021): onset ; excluded: Leukocoria (HP:0000555): onset </td></tr>\n",
       "<tr><td style=\"text-align: left;\">II:3 (FEMALE; P32Y)</td><td style=\"text-align: left;\">Spinocerebellar ataxia 29, congenital nonprogressive (OMIM:117360)</td><td style=\"text-align: left;\">NM_001378452.1:c.106C>T (heterozygous)</td><td style=\"text-align: left;\">Hypotonia (HP:0001252): onset ; Dysarthria (HP:0001260): onset ; Delayed ability to sit (HP:0025336): onset ; Intellectual disability, mild (HP:0001256): onset ; Global developmental delay (HP:0001263): onset ; Deeply set eye (HP:0000490): onset ; Prominent nasal bridge (HP:0000426): onset ; Dysmetria (HP:0001310): onset ; Miosis (HP:0000616): onset ; Keratoconus (HP:0000563): onset ; excluded: Cerebral palsy (HP:0100021): onset ; excluded: Hypertonia (HP:0001276): onset ; excluded: Developmental regression (HP:0002376): onset ; excluded: Nystagmus (HP:0000639): onset ; excluded: Cerebellar vermis atrophy (HP:0006855): onset ; excluded: Oculomotor apraxia (HP:0000657): onset ; excluded: Atrophy/Degeneration affecting the brainstem (HP:0007366): onset ; excluded: Cerebral cortical atrophy (HP:0002120): onset ; excluded: Deep philtrum (HP:0002002): onset ; excluded: Elfin facies (HP:0004428): onset ; excluded: Flat forehead (HP:0004425): onset ; excluded: Frontal bossing (HP:0002007): onset ; excluded: High palate (HP:0000218): onset ; excluded: Increased overbite (HP:0011094): onset ; excluded: Depressed nasal bridge (HP:0005280): onset ; excluded: Epicanthus (HP:0000286): onset ; excluded: Hypertelorism (HP:0000316): onset ; excluded: Microcephaly (HP:0000252): onset ; excluded: Prominent nose (HP:0000448): onset ; excluded: Abnormal saccadic eye movements (HP:0000570): onset ; excluded: Tremor (HP:0001337): onset </td></tr>\n",
       "<tr><td style=\"text-align: left;\">III:1 (MALE; P10Y)</td><td style=\"text-align: left;\">Spinocerebellar ataxia 29, congenital nonprogressive (OMIM:117360)</td><td style=\"text-align: left;\">NM_001378452.1:c.106C>T (heterozygous)</td><td style=\"text-align: left;\">Hypotonia (HP:0001252): onset ; Dysarthria (HP:0001260): onset ; Delayed ability to sit (HP:0025336): onset ; Intellectual disability, mild (HP:0001256): onset ; Global developmental delay (HP:0001263): onset ; Deeply set eye (HP:0000490): onset ; Prominent nasal bridge (HP:0000426): onset ; Dysmetria (HP:0001310): onset ; Miosis (HP:0000616): onset ; Tremor (HP:0001337): onset ; Atrial septal defect (HP:0001631): onset ; excluded: Cerebral palsy (HP:0100021): onset ; excluded: Hypertonia (HP:0001276): onset ; excluded: Developmental regression (HP:0002376): onset ; excluded: Nystagmus (HP:0000639): onset ; excluded: Cerebellar vermis atrophy (HP:0006855): onset ; excluded: Oculomotor apraxia (HP:0000657): onset ; excluded: Atrophy/Degeneration affecting the brainstem (HP:0007366): onset ; excluded: Cerebral cortical atrophy (HP:0002120): onset ; excluded: Deep philtrum (HP:0002002): onset ; excluded: Elfin facies (HP:0004428): onset ; excluded: Flat forehead (HP:0004425): onset ; excluded: Frontal bossing (HP:0002007): onset ; excluded: High palate (HP:0000218): onset ; excluded: Increased overbite (HP:0011094): onset ; excluded: Depressed nasal bridge (HP:0005280): onset ; excluded: Epicanthus (HP:0000286): onset ; excluded: Hypertelorism (HP:0000316): onset ; excluded: Microcephaly (HP:0000252): onset ; excluded: Prominent nose (HP:0000448): onset ; excluded: Abnormal saccadic eye movements (HP:0000570): onset </td></tr>\n",
       "<tr><td style=\"text-align: left;\">III:2 (FEMALE)</td><td style=\"text-align: left;\">Spinocerebellar ataxia 29, congenital nonprogressive (OMIM:117360)</td><td style=\"text-align: left;\">NM_001378452.1:c.106C>T (heterozygous)</td><td style=\"text-align: left;\">Ataxia (HP:0001251): onset ; Hypotonia (HP:0001252): onset ; Delayed ability to sit (HP:0025336): onset ; Intellectual disability, mild (HP:0001256): onset ; Global developmental delay (HP:0001263): onset ; Frontal bossing (HP:0002007): onset ; Depressed nasal bridge (HP:0005280): onset ; Epicanthus (HP:0000286): onset ; Hypertelorism (HP:0000316): onset ; Miosis (HP:0000616): onset ; excluded: Cerebral palsy (HP:0100021): onset ; excluded: Hypertonia (HP:0001276): onset ; excluded: Nystagmus (HP:0000639): onset ; excluded: Oculomotor apraxia (HP:0000657): onset ; excluded: Deep philtrum (HP:0002002): onset ; excluded: Elfin facies (HP:0004428): onset ; excluded: Flat forehead (HP:0004425): onset ; excluded: High palate (HP:0000218): onset ; excluded: Increased overbite (HP:0011094): onset ; excluded: Deeply set eye (HP:0000490): onset ; excluded: Prominent nasal bridge (HP:0000426): onset ; excluded: Microcephaly (HP:0000252): onset ; excluded: Prominent nose (HP:0000448): onset ; excluded: Abnormal saccadic eye movements (HP:0000570): onset </td></tr>\n",
       "<tr><td style=\"text-align: left;\">P1 (FEMALE; P10Y)</td><td style=\"text-align: left;\">Spinocerebellar ataxia 29, congenital nonprogressive (OMIM:117360)</td><td style=\"text-align: left;\">NM_001378452.1:c.1702A>G (heterozygous)</td><td style=\"text-align: left;\">Ataxia (HP:0001251): onset ; Motor delay (HP:0001270): onset ; Cerebellar vermis atrophy (HP:0006855): onset ; Exodeviation (HP:0020049): onset ; excluded: Cerebral palsy (HP:0100021): onset ; excluded: Intellectual disability, severe (HP:0010864): onset ; excluded: Intellectual disability, moderate (HP:0002342): onset ; excluded: Intellectual disability, mild (HP:0001256): onset ; excluded: Developmental regression (HP:0002376): onset ; excluded: Global developmental delay (HP:0001263): onset ; excluded: Myoclonus (HP:0001336): onset ; excluded: Seizure (HP:0001250): onset ; excluded: Oculomotor apraxia (HP:0000657): onset ; excluded: Peripheral neuropathy (HP:0009830): onset ; excluded: Cognitive impairment (HP:0100543): onset ; excluded: Hyperreflexia (HP:0001347): onset ; excluded: Hypoplasia of the iris (HP:0007676): onset ; excluded: Aniridia (HP:0000526): onset ; excluded: Abnormality of peripheral nervous system electrophysiology (HP:0030177): onset </td></tr>\n",
       "<tr><td style=\"text-align: left;\">P2 (FEMALE; P18Y)</td><td style=\"text-align: left;\">Spinocerebellar ataxia 29, congenital nonprogressive (OMIM:117360)</td><td style=\"text-align: left;\">NM_001378452.1:c.805C>T (heterozygous)</td><td style=\"text-align: left;\">Ataxia (HP:0001251): onset ; Motor delay (HP:0001270): onset ; Myoclonus (HP:0001336): onset ; Cerebellar vermis atrophy (HP:0006855): onset ; Oculomotor apraxia (HP:0000657): onset ; Dyscalculia (HP:0002442): onset ; Slowed horizontal saccades (HP:0007885): onset ; Esodeviation (HP:0020045): onset ; excluded: Cerebral palsy (HP:0100021): onset ; excluded: Intellectual disability, severe (HP:0010864): onset ; excluded: Intellectual disability, moderate (HP:0002342): onset ; excluded: Intellectual disability, mild (HP:0001256): onset ; excluded: Developmental regression (HP:0002376): onset ; excluded: Global developmental delay (HP:0001263): onset ; excluded: Seizure (HP:0001250): onset ; excluded: Peripheral neuropathy (HP:0009830): onset ; excluded: Hyperreflexia (HP:0001347): onset ; excluded: Hypoplasia of the iris (HP:0007676): onset ; excluded: Aniridia (HP:0000526): onset ; excluded: Abnormality of peripheral nervous system electrophysiology (HP:0030177): onset ; excluded: Abnormal motor evoked potentials (HP:0012896): onset </td></tr>\n",
       "<tr><td style=\"text-align: left;\">P3 (MALE; P3Y6M)</td><td style=\"text-align: left;\">Spinocerebellar ataxia 29, congenital nonprogressive (OMIM:117360)</td><td style=\"text-align: left;\">NM_001378452.1:c.800C>T (heterozygous)</td><td style=\"text-align: left;\">Ataxia (HP:0001251): onset ; excluded: Cerebral palsy (HP:0100021): onset ; excluded: Myoclonus (HP:0001336): onset ; excluded: Seizure (HP:0001250): onset ; excluded: Oculomotor apraxia (HP:0000657): onset ; excluded: Peripheral neuropathy (HP:0009830): onset ; excluded: Hypoplasia of the iris (HP:0007676): onset ; excluded: Aniridia (HP:0000526): onset ; excluded: Strabismus (HP:0000486): onset </td></tr>\n",
       "<tr><td style=\"text-align: left;\">P4 (MALE; P2Y)</td><td style=\"text-align: left;\">Spinocerebellar ataxia 29, congenital nonprogressive (OMIM:117360)</td><td style=\"text-align: left;\">NM_001378452.1:c.7687_7689del (heterozygous)</td><td style=\"text-align: left;\">Ataxia (HP:0001251): onset ; Hypoplasia of the iris (HP:0007676): onset ; Aniridia (HP:0000526): onset ; excluded: Cerebral palsy (HP:0100021): onset ; excluded: Myoclonus (HP:0001336): onset ; excluded: Seizure (HP:0001250): onset ; excluded: Oculomotor apraxia (HP:0000657): onset ; excluded: Peripheral neuropathy (HP:0009830): onset ; excluded: Strabismus (HP:0000486): onset </td></tr>\n",
       "<tr><td style=\"text-align: left;\">P5 (FEMALE; P6Y)</td><td style=\"text-align: left;\">Spinocerebellar ataxia 29, congenital nonprogressive (OMIM:117360)</td><td style=\"text-align: left;\">NM_001378452.1:c.736G>A (heterozygous)</td><td style=\"text-align: left;\">Ataxia (HP:0001251): onset ; Hypotonia (HP:0001252): onset ; Dystonia (HP:0001332): onset ; Strabismus (HP:0000486): onset ; excluded: Cerebral palsy (HP:0100021): onset ; excluded: Motor delay (HP:0001270): onset ; excluded: Developmental regression (HP:0002376): onset ; excluded: Myoclonus (HP:0001336): onset ; excluded: Cerebellar atrophy (HP:0001272): onset ; excluded: Seizure (HP:0001250): onset ; excluded: Oculomotor apraxia (HP:0000657): onset ; excluded: Peripheral neuropathy (HP:0009830): onset ; excluded: Cerebral cortical atrophy (HP:0002120): onset ; excluded: Hypoplasia of the iris (HP:0007676): onset ; excluded: Aniridia (HP:0000526): onset </td></tr>\n",
       "<tr><td style=\"text-align: left;\">P6 (MALE; P3Y)</td><td style=\"text-align: left;\">Spinocerebellar ataxia 29, congenital nonprogressive (OMIM:117360)</td><td style=\"text-align: left;\">NM_001378452.1:c.805C>T (heterozygous)</td><td style=\"text-align: left;\">Ataxia (HP:0001251): onset ; Hypotonia (HP:0001252): onset ; Motor delay (HP:0001270): onset ; Intellectual disability (HP:0001249): onset ; Nystagmus (HP:0000639): onset ; Cerebral atrophy (HP:0002059): onset ; Cognitive impairment (HP:0100543): onset ; Strabismus (HP:0000486): onset ; excluded: Cerebral palsy (HP:0100021): onset ; excluded: Developmental regression (HP:0002376): onset ; excluded: Myoclonus (HP:0001336): onset ; excluded: Seizure (HP:0001250): onset ; excluded: Oculomotor apraxia (HP:0000657): onset ; excluded: Peripheral neuropathy (HP:0009830): onset ; excluded: Hyperreflexia (HP:0001347): onset ; excluded: Hypoplasia of the iris (HP:0007676): onset ; excluded: Aniridia (HP:0000526): onset ; excluded: Abnormality of peripheral nervous system electrophysiology (HP:0030177): onset </td></tr>\n",
       "<tr><td style=\"text-align: left;\">P7 (MALE; P12Y)</td><td style=\"text-align: left;\">Spinocerebellar ataxia 29, congenital nonprogressive (OMIM:117360)</td><td style=\"text-align: left;\">NM_001378452.1:c.7352T>C (heterozygous)</td><td style=\"text-align: left;\">Ataxia (HP:0001251): onset ; Motor delay (HP:0001270): onset ; Intellectual disability, severe (HP:0010864): onset ; Cognitive impairment (HP:0100543): onset ; excluded: Cerebral palsy (HP:0100021): onset ; excluded: Intellectual disability, moderate (HP:0002342): onset ; excluded: Intellectual disability, mild (HP:0001256): onset ; excluded: Developmental regression (HP:0002376): onset ; excluded: Myoclonus (HP:0001336): onset ; excluded: Cerebellar atrophy (HP:0001272): onset ; excluded: Seizure (HP:0001250): onset ; excluded: Oculomotor apraxia (HP:0000657): onset ; excluded: Peripheral neuropathy (HP:0009830): onset ; excluded: Cerebral cortical atrophy (HP:0002120): onset ; excluded: Hyperreflexia (HP:0001347): onset ; excluded: Hypoplasia of the iris (HP:0007676): onset ; excluded: Aniridia (HP:0000526): onset ; excluded: Strabismus (HP:0000486): onset ; excluded: Abnormality of peripheral nervous system electrophysiology (HP:0030177): onset ; excluded: Abnormal motor evoked potentials (HP:0012896): onset </td></tr>\n",
       "<tr><td style=\"text-align: left;\">IV:3 (FEMALE; P45Y)</td><td style=\"text-align: left;\">Spinocerebellar ataxia 29, congenital nonprogressive (OMIM:117360)</td><td style=\"text-align: left;\">NM_001378452.1:c.5504T>C (homozygous)</td><td style=\"text-align: left;\">Truncal ataxia (HP:0002078): onset ; Cerebellar ataxia associated with quadrupedal gait (HP:0009878): onset ; Dysarthria (HP:0001260): onset ; Intellectual disability, mild (HP:0001256): onset ; Nystagmus (HP:0000639): onset ; Abnormality of extrapyramidal motor function (HP:0002071): onset ; Postural tremor (HP:0002174): onset ; Head tremor (HP:0002346): onset ; Clonus (HP:0002169): onset ; excluded: Cerebral palsy (HP:0100021): onset ; excluded: Intellectual disability, severe (HP:0010864): onset ; excluded: Intellectual disability, moderate (HP:0002342): onset ; excluded: Dysmetria (HP:0001310): onset ; excluded: Hypoplasia of the iris (HP:0007676): onset </td></tr>\n",
       "<tr><td style=\"text-align: left;\">IV:5 (MALE; P38Y)</td><td style=\"text-align: left;\">Spinocerebellar ataxia 29, congenital nonprogressive (OMIM:117360)</td><td style=\"text-align: left;\">NM_001378452.1:c.5504T>C (homozygous)</td><td style=\"text-align: left;\">Truncal ataxia (HP:0002078): onset ; Cerebellar ataxia associated with quadrupedal gait (HP:0009878): onset ; Dysarthria (HP:0001260): onset ; Intellectual disability, mild (HP:0001256): onset ; Nystagmus (HP:0000639): onset ; Abnormality of extrapyramidal motor function (HP:0002071): onset ; Head tremor (HP:0002346): onset ; Clonus (HP:0002169): onset ; excluded: Cerebral palsy (HP:0100021): onset ; excluded: Intellectual disability, severe (HP:0010864): onset ; excluded: Intellectual disability, moderate (HP:0002342): onset ; excluded: Dysmetria (HP:0001310): onset ; excluded: Postural tremor (HP:0002174): onset ; excluded: Hypoplasia of the iris (HP:0007676): onset </td></tr>\n",
       "<tr><td style=\"text-align: left;\">V:1 (MALE; P23Y)</td><td style=\"text-align: left;\">Spinocerebellar ataxia 29, congenital nonprogressive (OMIM:117360)</td><td style=\"text-align: left;\">NM_001378452.1:c.5504T>C (homozygous)</td><td style=\"text-align: left;\">Truncal ataxia (HP:0002078): onset ; Cerebellar ataxia associated with quadrupedal gait (HP:0009878): onset ; Dysarthria (HP:0001260): onset ; Intellectual disability, mild (HP:0001256): onset ; Cerebellar atrophy (HP:0001272): onset ; Abnormality of extrapyramidal motor function (HP:0002071): onset ; Dysmetria (HP:0001310): onset ; Postural tremor (HP:0002174): onset ; Head tremor (HP:0002346): onset ; Clonus (HP:0002169): onset ; excluded: Cerebral palsy (HP:0100021): onset ; excluded: Intellectual disability, severe (HP:0010864): onset ; excluded: Intellectual disability, moderate (HP:0002342): onset ; excluded: Hypoplasia of the iris (HP:0007676): onset </td></tr>\n",
       "<tr><td style=\"text-align: left;\">V:2 (MALE; P22Y)</td><td style=\"text-align: left;\">Spinocerebellar ataxia 29, congenital nonprogressive (OMIM:117360)</td><td style=\"text-align: left;\">NM_001378452.1:c.5504T>C (homozygous)</td><td style=\"text-align: left;\">Truncal ataxia (HP:0002078): onset ; Cerebellar ataxia associated with quadrupedal gait (HP:0009878): onset ; Dysarthria (HP:0001260): onset ; Intellectual disability, mild (HP:0001256): onset ; Cerebellar atrophy (HP:0001272): onset ; Abnormality of extrapyramidal motor function (HP:0002071): onset ; Dysmetria (HP:0001310): onset ; Postural tremor (HP:0002174): onset ; Head tremor (HP:0002346): onset ; Clonus (HP:0002169): onset ; excluded: Cerebral palsy (HP:0100021): onset ; excluded: Intellectual disability, severe (HP:0010864): onset ; excluded: Intellectual disability, moderate (HP:0002342): onset ; excluded: Nystagmus (HP:0000639): onset ; excluded: Hypoplasia of the iris (HP:0007676): onset </td></tr>\n",
       "<tr><td style=\"text-align: left;\">V:3 (FEMALE; P20Y)</td><td style=\"text-align: left;\">Spinocerebellar ataxia 29, congenital nonprogressive (OMIM:117360)</td><td style=\"text-align: left;\">NM_001378452.1:c.5504T>C (homozygous)</td><td style=\"text-align: left;\">Truncal ataxia (HP:0002078): onset ; Cerebellar ataxia associated with quadrupedal gait (HP:0009878): onset ; Dysarthria (HP:0001260): onset ; Intellectual disability, mild (HP:0001256): onset ; Abnormality of extrapyramidal motor function (HP:0002071): onset ; Dysmetria (HP:0001310): onset ; Hyperreflexia (HP:0001347): onset ; Postural tremor (HP:0002174): onset ; Head tremor (HP:0002346): onset ; excluded: Cerebral palsy (HP:0100021): onset ; excluded: Intellectual disability, severe (HP:0010864): onset ; excluded: Intellectual disability, moderate (HP:0002342): onset ; excluded: Nystagmus (HP:0000639): onset ; excluded: Hypoplasia of the iris (HP:0007676): onset ; excluded: Clonus (HP:0002169): onset </td></tr>\n",
       "<tr><td style=\"text-align: left;\">V:5 (MALE; P17Y)</td><td style=\"text-align: left;\">Spinocerebellar ataxia 29, congenital nonprogressive (OMIM:117360)</td><td style=\"text-align: left;\">NM_001378452.1:c.5504T>C (homozygous)</td><td style=\"text-align: left;\">Truncal ataxia (HP:0002078): onset ; Cerebellar ataxia associated with quadrupedal gait (HP:0009878): onset ; Dysarthria (HP:0001260): onset ; Intellectual disability, mild (HP:0001256): onset ; Abnormality of extrapyramidal motor function (HP:0002071): onset ; Dysmetria (HP:0001310): onset ; Hyperreflexia (HP:0001347): onset ; Postural tremor (HP:0002174): onset ; Head tremor (HP:0002346): onset ; excluded: Cerebral palsy (HP:0100021): onset ; excluded: Intellectual disability, severe (HP:0010864): onset ; excluded: Intellectual disability, moderate (HP:0002342): onset ; excluded: Nystagmus (HP:0000639): onset ; excluded: Hypoplasia of the iris (HP:0007676): onset ; excluded: Clonus (HP:0002169): onset </td></tr>\n",
       "<tr><td style=\"text-align: left;\">P1 (MALE; P9Y)</td><td style=\"text-align: left;\">Spinocerebellar ataxia 29, congenital nonprogressive (OMIM:117360)</td><td style=\"text-align: left;\">NM_001378452.1:c.2129G>A (heterozygous)</td><td style=\"text-align: left;\">Ataxia (HP:0001251): onset ; Hypotonia (HP:0001252): onset ; Intellectual disability (HP:0001249): onset ; Global developmental delay (HP:0001263): onset ; Cerebellar atrophy (HP:0001272): onset ; Abnormal facial shape (HP:0001999): onset ; Cryptorchidism (HP:0000028): onset ; excluded: Cerebral palsy (HP:0100021): onset ; excluded: Diffuse cerebellar atrophy (HP:0100275): onset </td></tr>\n",
       "<tr><td style=\"text-align: left;\">P2 (FEMALE; P7Y)</td><td style=\"text-align: left;\">Spinocerebellar ataxia 29, congenital nonprogressive (OMIM:117360)</td><td style=\"text-align: left;\">NM_001378452.1:c.2129G>A (heterozygous)</td><td style=\"text-align: left;\">Ataxia (HP:0001251): onset ; Hypotonia (HP:0001252): onset ; Intellectual disability (HP:0001249): onset ; Global developmental delay (HP:0001263): onset ; Cerebellar atrophy (HP:0001272): onset ; excluded: Cerebral palsy (HP:0100021): onset ; excluded: Diffuse cerebellar atrophy (HP:0100275): onset </td></tr>\n",
       "<tr><td style=\"text-align: left;\">P7 (MALE; P13Y)</td><td style=\"text-align: left;\">Spinocerebellar ataxia 29, congenital nonprogressive (OMIM:117360)</td><td style=\"text-align: left;\">NM_001378452.1:c.800C>T (heterozygous)</td><td style=\"text-align: left;\">Ataxia (HP:0001251): onset ; Hypotonia (HP:0001252): onset ; Intellectual disability, mild (HP:0001256): onset ; Global developmental delay (HP:0001263): onset ; Nystagmus (HP:0000639): onset ; Oculomotor apraxia (HP:0000657): onset ; Tremor (HP:0001337): onset ; Diffuse cerebellar atrophy (HP:0100275): onset ; excluded: Cerebral palsy (HP:0100021): onset ; excluded: Intellectual disability, severe (HP:0010864): onset ; excluded: Intellectual disability, moderate (HP:0002342): onset </td></tr>\n",
       "<tr><td style=\"text-align: left;\">P11 (MALE; P12Y)</td><td style=\"text-align: left;\">Spinocerebellar ataxia 29, congenital nonprogressive (OMIM:117360)</td><td style=\"text-align: left;\">NM_001378452.1:c.805C>T (heterozygous)</td><td style=\"text-align: left;\">Ataxia (HP:0001251): onset ; Hypotonia (HP:0001252): onset ; Dysarthria (HP:0001260): onset ; Cerebellar atrophy (HP:0001272): onset ; Nystagmus (HP:0000639): onset ; Oculomotor apraxia (HP:0000657): onset ; excluded: Cerebral palsy (HP:0100021): onset ; excluded: Diffuse cerebellar atrophy (HP:0100275): onset </td></tr>\n",
       "<tr><td style=\"text-align: left;\">P12 (FEMALE; P3Y)</td><td style=\"text-align: left;\">Spinocerebellar ataxia 29, congenital nonprogressive (OMIM:117360)</td><td style=\"text-align: left;\">NM_001378452.1:c.805C>T (heterozygous)</td><td style=\"text-align: left;\">Ataxia (HP:0001251): onset ; Hypotonia (HP:0001252): onset ; Dysarthria (HP:0001260): onset ; Global developmental delay (HP:0001263): onset ; Cerebellar atrophy (HP:0001272): onset ; Nystagmus (HP:0000639): onset ; Oculomotor apraxia (HP:0000657): onset ; excluded: Cerebral palsy (HP:0100021): onset ; excluded: Diffuse cerebellar atrophy (HP:0100275): onset </td></tr>\n",
       "<tr><td style=\"text-align: left;\">P15 (FEMALE; P6Y)</td><td style=\"text-align: left;\">Spinocerebellar ataxia 29, congenital nonprogressive (OMIM:117360)</td><td style=\"text-align: left;\">NM_001378452.1:c.805C>T (heterozygous)</td><td style=\"text-align: left;\">Ataxia (HP:0001251): onset ; Hypotonia (HP:0001252): onset ; Motor delay (HP:0001270): onset ; Cerebellar atrophy (HP:0001272): onset ; Nystagmus (HP:0000639): onset ; excluded: Cerebral palsy (HP:0100021): onset ; excluded: Diffuse cerebellar atrophy (HP:0100275): onset </td></tr>\n",
       "<tr><td style=\"text-align: left;\">P16 (FEMALE; P1Y6M)</td><td style=\"text-align: left;\">Spinocerebellar ataxia 29, congenital nonprogressive (OMIM:117360)</td><td style=\"text-align: left;\">NM_001378452.1:c.800C>T (heterozygous)</td><td style=\"text-align: left;\">Ataxia (HP:0001251): onset ; Hypotonia (HP:0001252): onset ; Motor delay (HP:0001270): onset ; Cerebellar atrophy (HP:0001272): onset ; Oculomotor apraxia (HP:0000657): onset ; excluded: Cerebral palsy (HP:0100021): onset ; excluded: Diffuse cerebellar atrophy (HP:0100275): onset </td></tr>\n",
       "<tr><td style=\"text-align: left;\">P18 (FEMALE; P7Y)</td><td style=\"text-align: left;\">Spinocerebellar ataxia 29, congenital nonprogressive (OMIM:117360)</td><td style=\"text-align: left;\">NM_001378452.1:c.1534G>A (heterozygous)</td><td style=\"text-align: left;\">Ataxia (HP:0001251): onset ; Hypotonia (HP:0001252): onset ; Motor delay (HP:0001270): onset ; Intellectual disability, moderate (HP:0002342): onset ; Cerebellar atrophy (HP:0001272): onset ; Nystagmus (HP:0000639): onset ; Slurred speech (HP:0001350): onset ; excluded: Cerebral palsy (HP:0100021): onset ; excluded: Diffuse cerebellar atrophy (HP:0100275): onset </td></tr>\n",
       "<tr><td style=\"text-align: left;\">P19 (MALE; P12Y)</td><td style=\"text-align: left;\">Spinocerebellar ataxia 29, congenital nonprogressive (OMIM:117360)</td><td style=\"text-align: left;\">NM_001378452.1:c.800C>T (heterozygous)</td><td style=\"text-align: left;\">Ataxia (HP:0001251): onset ; Hypotonia (HP:0001252): onset ; Intellectual disability, moderate (HP:0002342): onset ; Cerebellar atrophy (HP:0001272): onset ; Nystagmus (HP:0000639): onset ; Inability to walk (HP:0002540): onset ; Slurred speech (HP:0001350): onset ; Oculomotor apraxia (HP:0000657): onset ; excluded: Cerebral palsy (HP:0100021): onset ; excluded: Diffuse cerebellar atrophy (HP:0100275): onset </td></tr>\n",
       "<tr><td style=\"text-align: left;\">S6_T267M (UNKNOWN)</td><td style=\"text-align: left;\">Spinocerebellar ataxia 29, congenital nonprogressive (OMIM:117360)</td><td style=\"text-align: left;\">NM_001378452.1:c.800C>T (heterozygous)</td><td style=\"text-align: left;\">Gait disturbance (HP:0001288): onset ; Hypotonia (HP:0001252): onset ; Delayed ability to sit (HP:0025336): onset ; Intellectual disability, mild (HP:0001256): onset ; Global developmental delay (HP:0001263): onset ; Nystagmus (HP:0000639): onset ; Delayed speech and language development (HP:0000750): onset ; Dysmetria (HP:0001310): onset ; Action tremor (HP:0002345): onset ; Slowed horizontal saccades (HP:0007885): onset ; Esodeviation (HP:0020045): onset ; Persistent head lag (HP:0032988): onset ; Abnormality of ocular smooth pursuit (HP:0000617): onset ; Hypermetropia (HP:0000540): onset ; Drooling (HP:0002307): onset ; excluded: Cerebral palsy (HP:0100021): onset ; excluded: Cerebellar atrophy (HP:0001272): onset ; excluded: Aniridia (HP:0000526): onset ; excluded: Cerebellar hypoplasia (HP:0001321): onset </td></tr>\n",
       "<tr><td style=\"text-align: left;\">S6_A275T (UNKNOWN)</td><td style=\"text-align: left;\">Spinocerebellar ataxia 29, congenital nonprogressive (OMIM:117360)</td><td style=\"text-align: left;\">NM_001378452.1:c.823G>A (heterozygous)</td><td style=\"text-align: left;\">Ataxia (HP:0001251): onset ; Hypotonia (HP:0001252): onset ; Congenital horizontal nystagmus (HP:0007859): onset ; Microcephaly (HP:0000252): onset ; Ptosis (HP:0000508): onset ; Cerebellar hypoplasia (HP:0001321): onset ; Aplasia/Hypoplasia of the cerebellar vermis (HP:0006817): onset ; Upslanted palpebral fissure (HP:0000582): onset ; Renal hypoplasia (HP:0000089): onset ; Enuresis (HP:0000805): onset ; excluded: Cerebral palsy (HP:0100021): onset </td></tr>\n",
       "<tr><td style=\"text-align: left;\">S6_ Y567C (UNKNOWN)</td><td style=\"text-align: left;\">Spinocerebellar ataxia 29, congenital nonprogressive (OMIM:117360)</td><td style=\"text-align: left;\">NM_001378452.1:c.1700A>G (heterozygous)</td><td style=\"text-align: left;\">Cerebellar ataxia associated with quadrupedal gait (HP:0009878): onset ; Delayed ability to sit (HP:0025336): onset ; Intellectual disability, moderate (HP:0002342): onset ; Global developmental delay (HP:0001263): onset ; Horizontal nystagmus (HP:0000666): onset ; Delayed speech and language development (HP:0000750): onset ; Inability to walk (HP:0002540): onset ; Short stature (HP:0004322): onset ; Dysmetria (HP:0001310): onset ; Tremor (HP:0001337): onset ; Strabismus (HP:0000486): onset ; Diffuse cerebellar atrophy (HP:0100275): onset ; Cerebellar hypoplasia (HP:0001321): onset ; Lower limb muscle weakness (HP:0007340): onset ; Proximal muscle weakness (HP:0003701): onset ; excluded: Cerebral palsy (HP:0100021): onset ; excluded: Aniridia (HP:0000526): onset <br/><b>TimeElement(element=OntologyClass(id=HP:0003623, label=Neonatal onset))</b>: Hypotonia (HP:0001252): onset ontology_class {\n",
       "  id: \"HP:0003623\"\n",
       "  label: \"Neonatal onset\"\n",
       "}\n",
       "</td></tr>\n",
       "<tr><td style=\"text-align: left;\">S6_I595V (UNKNOWN)</td><td style=\"text-align: left;\">Spinocerebellar ataxia 29, congenital nonprogressive (OMIM:117360)</td><td style=\"text-align: left;\">NM_001378452.1:c.1783A>G (heterozygous)</td><td style=\"text-align: left;\">Intellectual disability, mild (HP:0001256): onset ; Dysmetria (HP:0001310): onset ; Impaired tandem gait (HP:0031629): onset ; Intention tremor (HP:0002080): onset ; Hypermetropia (HP:0000540): onset ; Abnormal heart morphology (HP:0001627): onset ; Pulmonic stenosis (HP:0001642): onset ; Arachnoid cyst (HP:0100702): onset ; excluded: Cerebral palsy (HP:0100021): onset ; excluded: Hypotonia (HP:0001252): onset ; excluded: Cerebellar atrophy (HP:0001272): onset ; excluded: Nystagmus (HP:0000639): onset ; excluded: Aniridia (HP:0000526): onset ; excluded: Cerebellar hypoplasia (HP:0001321): onset </td></tr>\n",
       "<tr><td style=\"text-align: left;\">S6_L1688P (UNKNOWN)</td><td style=\"text-align: left;\">Spinocerebellar ataxia 29, congenital nonprogressive (OMIM:117360)</td><td style=\"text-align: left;\">NM_001378452.1:c.5063T>C (heterozygous)</td><td style=\"text-align: left;\">Gait disturbance (HP:0001288): onset ; Hypotonia (HP:0001252): onset ; Dysarthria (HP:0001260): onset ; Delayed ability to sit (HP:0025336): onset ; Delayed ability to walk (HP:0031936): onset ; Intellectual disability, mild (HP:0001256): onset ; Cerebellar atrophy (HP:0001272): onset ; Gaze-evoked horizontal nystagmus (HP:0007979): onset ; Delayed speech and language development (HP:0000750): onset ; Dysmetria (HP:0001310): onset ; Intention tremor (HP:0002080): onset ; Cerebral visual impairment (HP:0100704): onset ; excluded: Cerebral palsy (HP:0100021): onset ; excluded: Aniridia (HP:0000526): onset ; excluded: Cerebellar hypoplasia (HP:0001321): onset </td></tr>\n",
       "<tr><td style=\"text-align: left;\">S6_L1873_V1874delins (UNKNOWN)</td><td style=\"text-align: left;\">Spinocerebellar ataxia 29, congenital nonprogressive (OMIM:117360)</td><td style=\"text-align: left;\">NM_001378452.1:c.5619_5621delinsTGG (heterozygous)</td><td style=\"text-align: left;\">Ataxia (HP:0001251): onset ; Dyscalculia (HP:0002442): onset ; excluded: Cerebral palsy (HP:0100021): onset </td></tr>\n",
       "<tr><td style=\"text-align: left;\">S6_N2591T (UNKNOWN)</td><td style=\"text-align: left;\">Spinocerebellar ataxia 29, congenital nonprogressive (OMIM:117360)</td><td style=\"text-align: left;\">NM_001378452.1:c.7772A>C (heterozygous)</td><td style=\"text-align: left;\">Hypotonia (HP:0001252): onset ; Dysarthria (HP:0001260): onset ; Delayed ability to sit (HP:0025336): onset ; Intellectual disability, moderate (HP:0002342): onset ; Cerebellar atrophy (HP:0001272): onset ; Nystagmus (HP:0000639): onset ; Inability to walk (HP:0002540): onset ; Dysmetria (HP:0001310): onset ; Tremor (HP:0001337): onset ; Cerebellar hypoplasia (HP:0001321): onset ; Secondary microcephaly (HP:0005484): onset ; 2-3 toe syndactyly (HP:0004691): onset ; excluded: Cerebral palsy (HP:0100021): onset ; excluded: Aniridia (HP:0000526): onset </td></tr>\n",
       "<tr><td style=\"text-align: left;\">Family C proband III-2 (FEMALE; P5Y)</td><td style=\"text-align: left;\">Spinocerebellar ataxia 29, congenital nonprogressive (OMIM:117360)</td><td style=\"text-align: left;\">NM_001378452.1:c.1804A>G (heterozygous)</td><td style=\"text-align: left;\">Limb ataxia (HP:0002070): onset ; excluded: Cerebral palsy (HP:0100021): onset ; excluded: Microcephaly (HP:0000252): onset ; excluded: Hyperreflexia (HP:0001347): onset ; excluded: Lower limb muscle weakness (HP:0007340): onset ; excluded: Proximal muscle weakness (HP:0003701): onset <br/><b>TimeElement(element=Age(iso8601duration=P8M))</b>: Delayed ability to sit (HP:0025336): onset age {\n",
       "  iso8601duration: \"P8M\"\n",
       "}\n",
       "<br/><b>TimeElement(element=Age(iso8601duration=P1Y))</b>: Cerebellar vermis atrophy (HP:0006855): onset age {\n",
       "  iso8601duration: \"P1Y\"\n",
       "}\n",
       "<br/><b>TimeElement(element=Age(iso8601duration=P2Y4M))</b>: Hypotonia (HP:0001252): onset age {\n",
       "  iso8601duration: \"P2Y4M\"\n",
       "}\n",
       "; Delayed ability to walk (HP:0031936): onset age {\n",
       "  iso8601duration: \"P2Y4M\"\n",
       "}\n",
       "; Gaze-evoked nystagmus (HP:0000640): onset age {\n",
       "  iso8601duration: \"P2Y4M\"\n",
       "}\n",
       "; Delayed speech and language development (HP:0000750): onset age {\n",
       "  iso8601duration: \"P2Y4M\"\n",
       "}\n",
       "; Truncal titubation (HP:0030147): onset age {\n",
       "  iso8601duration: \"P2Y4M\"\n",
       "}\n",
       "; Limb dysmetria (HP:0002406): onset age {\n",
       "  iso8601duration: \"P2Y4M\"\n",
       "}\n",
       "<br/><b>TimeElement(element=Age(iso8601duration=P3Y6M))</b>: Global developmental delay (HP:0001263): onset age {\n",
       "  iso8601duration: \"P3Y6M\"\n",
       "}\n",
       "<br/><b>TimeElement(element=Age(iso8601duration=P5Y))</b>: Focal impaired awareness seizure (HP:0002384): onset age {\n",
       "  iso8601duration: \"P5Y\"\n",
       "}\n",
       "; Continuous spike and waves during slow sleep (HP:0031491): onset age {\n",
       "  iso8601duration: \"P5Y\"\n",
       "}\n",
       "</td></tr>\n",
       "<tr><td style=\"text-align: left;\">Family C father II-2 (MALE; P45Y)</td><td style=\"text-align: left;\">Spinocerebellar ataxia 29, congenital nonprogressive (OMIM:117360)</td><td style=\"text-align: left;\">NM_001378452.1:c.1804A>G (heterozygous)</td><td style=\"text-align: left;\">Ataxia (HP:0001251): onset ; Dysarthria (HP:0001260): onset ; Motor delay (HP:0001270): onset ; Cerebellar atrophy (HP:0001272): onset ; Intention tremor (HP:0002080): onset ; excluded: Cerebral palsy (HP:0100021): onset ; excluded: Microcephaly (HP:0000252): onset </td></tr>\n",
       "</table>"
      ],
      "text/plain": [
       "<IPython.core.display.HTML object>"
      ]
     },
     "metadata": {},
     "output_type": "display_data"
    }
   ],
   "source": [
    "table = IndividualTable(cvalidator.get_error_free_individual_list())\n",
    "display(HTML(table.to_html()))"
   ]
  },
  {
   "cell_type": "code",
   "execution_count": 6,
   "metadata": {},
   "outputs": [
    {
     "name": "stdout",
     "output_type": "stream",
     "text": [
      "[pyphetools] Ingested 74 GA4GH phenopackets.\n",
      "[INFO] Extracted 50 from 74 phenopackets with OMIM:117360\n",
      "\n",
      "\tSpinocerebellar ataxia 29, congenital nonprogressive (OMIM:117360): n=50\n",
      "We found a total of 138 unique HPO terms\n",
      "Extracted disease: Spinocerebellar ataxia 29, congenital nonprogressive (OMIM:117360)\n",
      "Wrote HPOA disease file to OMIM-117360.tab\n"
     ]
    }
   ],
   "source": [
    "pmid = \"PMID:28826917\"\n",
    "df = timporter.create_hpoa_from_phenopackets(pmid=pmid, mode_of_inheritance=Moi.AD, target=\"OMIM:117360\")"
   ]
  }
 ],
 "metadata": {
  "kernelspec": {
   "display_name": "ps24venv",
   "language": "python",
   "name": "python3"
  },
  "language_info": {
   "codemirror_mode": {
    "name": "ipython",
    "version": 3
   },
   "file_extension": ".py",
   "mimetype": "text/x-python",
   "name": "python",
   "nbconvert_exporter": "python",
   "pygments_lexer": "ipython3",
   "version": "3.12.4"
  }
 },
 "nbformat": 4,
 "nbformat_minor": 2
}
