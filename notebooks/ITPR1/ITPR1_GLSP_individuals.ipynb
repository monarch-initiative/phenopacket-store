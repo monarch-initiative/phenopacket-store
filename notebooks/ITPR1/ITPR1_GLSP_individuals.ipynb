{
 "cells": [
  {
   "cell_type": "markdown",
   "metadata": {},
   "source": [
    "# ITPR1\n",
    "[Gillespie syndrome (GLSP)](https://omim.org/entry/206700) is caused by heterozygous mutation in the ITPR1 gene."
   ]
  },
  {
   "cell_type": "code",
   "execution_count": 1,
   "metadata": {},
   "outputs": [
    {
     "name": "stdout",
     "output_type": "stream",
     "text": [
      "Using pyphetools version 0.9.94\n"
     ]
    },
    {
     "name": "stderr",
     "output_type": "stream",
     "text": [
      "/Users/robin/GIT/phenopacket-store/ps24venv/lib/python3.9/site-packages/urllib3/__init__.py:35: NotOpenSSLWarning: urllib3 v2 only supports OpenSSL 1.1.1+, currently the 'ssl' module is compiled with 'LibreSSL 2.8.3'. See: https://github.com/urllib3/urllib3/issues/3020\n",
      "  warnings.warn(\n"
     ]
    }
   ],
   "source": [
    "from pyphetools.creation import TemplateImporter, Moi\n",
    "from pyphetools.visualization import IndividualTable, QcVisualizer\n",
    "from IPython.display import display, HTML\n",
    "import pyphetools\n",
    "print(f\"Using pyphetools version {pyphetools.__version__}\")"
   ]
  },
  {
   "cell_type": "code",
   "execution_count": 2,
   "metadata": {},
   "outputs": [],
   "source": [
    "template = \"input/ITPR1_GLSP_individuals.xlsx\"\n",
    "created_by = \"0000-0002-0736-9199\""
   ]
  },
  {
   "cell_type": "code",
   "execution_count": 3,
   "metadata": {},
   "outputs": [
    {
     "name": "stdout",
     "output_type": "stream",
     "text": [
      "HPO version 2024-07-01\n",
      "Created encoders for 180 fields\n",
      "ERROR: Error - HPO label ends with whitespace: \\”Delayed ability to walk with support \"\n",
      "ERROR: Error - HPO label ends with whitespace: \\”Atrophy/Degeneration affecting the cerebrum \"\n",
      "Importing OMIM:206700, Gillespie syndrome, HGNC:6180, ITPR1,  NM_001378452.1\n",
      "We output 16 GA4GH phenopackets to the directory phenopackets\n"
     ]
    }
   ],
   "source": [
    "timporter = TemplateImporter(template=template,  created_by=created_by)\n",
    "individual_list, cvalidator = timporter.import_phenopackets_from_template(leniant_MOI=True)"
   ]
  },
  {
   "cell_type": "code",
   "execution_count": 4,
   "metadata": {},
   "outputs": [
    {
     "data": {
      "text/html": [
       "<h2>Cohort validation</h2>\n",
       "<p>Errors found with 8 of 16 phenopackets.</p>\n",
       "<table style=\"border: 2px solid black; align: \"left\">\n",
       "<caption>Error counts</caption>\n",
       "<tr><th style=\"text-align: left;font-weight: bold;\">Level</th><th style=\"text-align: left;font-weight: bold;\">Error category</th><th style=\"text-align: left;font-weight: bold;\">Count</th></tr>\n",
       "<tr><td style=\"text-align: left;\">WARNING</td><td style=\"text-align: left;\">REDUNDANT</td><td style=\"text-align: left;\">8</td></tr>\n",
       "</table>\n",
       "<p>A total of 8 issues were fixed and no individual was removed from the cohort.</p>"
      ],
      "text/plain": [
       "<IPython.core.display.HTML object>"
      ]
     },
     "metadata": {},
     "output_type": "display_data"
    }
   ],
   "source": [
    "qc = QcVisualizer(cohort_validator=cvalidator)\n",
    "display(HTML(qc.to_summary_html()))"
   ]
  },
  {
   "cell_type": "code",
   "execution_count": 5,
   "metadata": {},
   "outputs": [
    {
     "data": {
      "text/html": [
       "<table style=\"border: 2px solid black; align: \"left\">\n",
       "<caption>16 phenopackets - PMID:35743164 (n=2); PMID:37964426 (n=1); PMID:28698159 (n=2); PMID:27108798 (n=6); PMID:27108797 (n=5)</caption>\n",
       "<tr><th style=\"text-align: left;font-weight: bold;\">Individual</th><th style=\"text-align: left;font-weight: bold;\">Disease</th><th style=\"text-align: left;font-weight: bold;\">Genotype</th><th style=\"text-align: left;font-weight: bold;\">Phenotypic features</th></tr>\n",
       "<tr><td style=\"text-align: left;\">Patient 6 (FEMALE; P2Y)</td><td style=\"text-align: left;\">Gillespie syndrome (OMIM:206700)</td><td style=\"text-align: left;\">NM_001378452.1:c.7831_7833del (heterozygous)</td><td style=\"text-align: left;\">Ataxia (HP:0001251); Delayed ability to walk (HP:0031936); Hypotonia (HP:0001252); Cerebellar atrophy (HP:0001272); Nystagmus (HP:0000639); Intellectual disability, mild (HP:0001256); Hypoplasia of the iris (HP:0007676); excluded: Cerebral palsy (HP:0100021); excluded: Diffuse cerebellar atrophy (HP:0100275); excluded: Ptosis (HP:0000508)</td></tr>\n",
       "<tr><td style=\"text-align: left;\">Patient 10 (FEMALE; P29Y)</td><td style=\"text-align: left;\">Gillespie syndrome (OMIM:206700)</td><td style=\"text-align: left;\">NM_001378452.1:c.7772A>T (heterozygous)</td><td style=\"text-align: left;\">Motor delay (HP:0001270); Ataxia (HP:0001251); Hypotonia (HP:0001252); Diffuse cerebellar atrophy (HP:0100275); Nystagmus (HP:0000639); Ptosis (HP:0000508); excluded: Cerebral palsy (HP:0100021)</td></tr>\n",
       "<tr><td style=\"text-align: left;\">S6_L2611del (UNKNOWN; n/a)</td><td style=\"text-align: left;\">Gillespie syndrome (OMIM:206700)</td><td style=\"text-align: left;\">NM_001378452.1:c.7831_7833del (heterozygous)</td><td style=\"text-align: left;\">Aniridia (HP:0000526); Ataxia (HP:0001251); Cerebellar atrophy (HP:0001272); Cerebellar hypoplasia (HP:0001321); Delayed gross motor development (HP:0002194); excluded: Cerebral palsy (HP:0100021)</td></tr>\n",
       "<tr><td style=\"text-align: left;\">P1 (FEMALE; P29Y)</td><td style=\"text-align: left;\">Gillespie syndrome (OMIM:206700)</td><td style=\"text-align: left;\">NM_001378452.1:c.7772A>T (heterozygous)</td><td style=\"text-align: left;\"><b>P2Y</b>: Ataxia (HP:0001251)<br/>Intellectual disability, moderate (HP:0002342); Nystagmus (HP:0000639); Cerebellar vermis atrophy (HP:0006855); Slurred speech (HP:0001350); Generalized hypotonia (HP:0001290); Abnormal pyramidal sign (HP:0007256); Delayed ability to sit (HP:0025336); Ptosis (HP:0000508); Hypoplasia of the iris (HP:0007676); Pulmonic stenosis (HP:0001642); Reduced visual acuity (HP:0007663); Abnormal flash visual evoked potentials (HP:0007928); Scoliosis (HP:0002650); Precocious puberty (HP:0000826); excluded: Cerebral palsy (HP:0100021); excluded: Postural tremor (HP:0002174); excluded: Dysphagia (HP:0002015); excluded: Oculomotor apraxia (HP:0000657)</td></tr>\n",
       "<tr><td style=\"text-align: left;\">P2 (FEMALE; P2Y)</td><td style=\"text-align: left;\">Gillespie syndrome (OMIM:206700)</td><td style=\"text-align: left;\">NM_001378452.1:c.7831_7833del (heterozygous)</td><td style=\"text-align: left;\"><b>P1Y</b>: Ataxia (HP:0001251)<br/>Nystagmus (HP:0000639); Cerebellar vermis atrophy (HP:0006855); Generalized hypotonia (HP:0001290); Intellectual disability, mild (HP:0001256); Hypoplasia of the iris (HP:0007676); Delayed gross motor development (HP:0002194); Growth delay (HP:0001510); excluded: Cerebral palsy (HP:0100021); excluded: Postural tremor (HP:0002174); excluded: Dysphagia (HP:0002015); excluded: Oculomotor apraxia (HP:0000657); excluded: Abnormal pyramidal sign (HP:0007256); excluded: Ptosis (HP:0000508); excluded: Abnormal flash visual evoked potentials (HP:0007928)</td></tr>\n",
       "<tr><td style=\"text-align: left;\">91_91 (FEMALE; P55Y)</td><td style=\"text-align: left;\">Gillespie syndrome (OMIM:206700)</td><td style=\"text-align: left;\">NM_001378452.1:c.6325G>C (heterozygous)</td><td style=\"text-align: left;\">Ataxia (HP:0001251); Delayed ability to walk (HP:0031936); Cerebellar atrophy (HP:0001272); Delayed speech and language development (HP:0000750); Intellectual disability, mild (HP:0001256); Delayed ability to sit (HP:0025336); Hypoplasia of the iris (HP:0007676); Cerebellar hypoplasia (HP:0001321); Visual impairment (HP:0000505); Gastroesophageal reflux (HP:0002020); Depression (HP:0000716); excluded: Cerebral palsy (HP:0100021); excluded: Hypoplasia of the fovea (HP:0007750)</td></tr>\n",
       "<tr><td style=\"text-align: left;\">SVP (FEMALE; P34Y)</td><td style=\"text-align: left;\">Gillespie syndrome (OMIM:206700)</td><td style=\"text-align: left;\">NM_001378452.1:c.6326A>G (heterozygous)</td><td style=\"text-align: left;\">Ataxia (HP:0001251); Cerebellar atrophy (HP:0001272); Hypoplasia of the iris (HP:0007676); Cerebellar hypoplasia (HP:0001321); Specific learning disability (HP:0001328); excluded: Cerebral palsy (HP:0100021)</td></tr>\n",
       "<tr><td style=\"text-align: left;\">SW (FEMALE; P13Y)</td><td style=\"text-align: left;\">Gillespie syndrome (OMIM:206700)</td><td style=\"text-align: left;\">NM_001378452.1:c.6326A>G (heterozygous)</td><td style=\"text-align: left;\">Ataxia (HP:0001251); Hypotonia (HP:0001252); Cerebellar atrophy (HP:0001272); Intellectual disability, mild (HP:0001256); Hypoplasia of the iris (HP:0007676); Cerebellar hypoplasia (HP:0001321); excluded: Cerebral palsy (HP:0100021)</td></tr>\n",
       "<tr><td style=\"text-align: left;\">261348 (MALE; P7Y2M)</td><td style=\"text-align: left;\">Gillespie syndrome (OMIM:206700)</td><td style=\"text-align: left;\">NM_001378452.1:c.7660G>C (heterozygous)</td><td style=\"text-align: left;\">Ataxia (HP:0001251); Delayed ability to walk (HP:0031936); Cerebellar atrophy (HP:0001272); Delayed speech and language development (HP:0000750); Delayed ability to sit (HP:0025336); Hypoplasia of the iris (HP:0007676); Cerebellar hypoplasia (HP:0001321); Specific learning disability (HP:0001328); Gastroesophageal reflux (HP:0002020); excluded: Cerebral palsy (HP:0100021); excluded: Hypotonia (HP:0001252)</td></tr>\n",
       "<tr><td style=\"text-align: left;\">263220 (FEMALE; P14Y7M)</td><td style=\"text-align: left;\">Gillespie syndrome (OMIM:206700)</td><td style=\"text-align: left;\">NM_001378452.1:c.7660G>A (heterozygous)</td><td style=\"text-align: left;\">Ataxia (HP:0001251); Hypotonia (HP:0001252); Cerebellar atrophy (HP:0001272); Delayed speech and language development (HP:0000750); Inability to walk (HP:0002540); Intellectual disability, mild (HP:0001256); Delayed ability to sit (HP:0025336); Hypoplasia of the iris (HP:0007676); Cerebellar hypoplasia (HP:0001321); Scoliosis (HP:0002650); Hypoplasia of the fovea (HP:0007750); Visual impairment (HP:0000505); Cholelithiasis (HP:0001081); excluded: Cerebral palsy (HP:0100021)</td></tr>\n",
       "<tr><td style=\"text-align: left;\">2021_2021 (FEMALE; P28Y)</td><td style=\"text-align: left;\">Gillespie syndrome (OMIM:206700)</td><td style=\"text-align: left;\">NM_001378452.1:c.7660G>A (heterozygous)</td><td style=\"text-align: left;\">Ataxia (HP:0001251); Delayed ability to walk (HP:0031936); Hypotonia (HP:0001252); Cerebellar atrophy (HP:0001272); Delayed speech and language development (HP:0000750); Intellectual disability, mild (HP:0001256); Delayed ability to sit (HP:0025336); Hypoplasia of the iris (HP:0007676); Cerebellar hypoplasia (HP:0001321); excluded: Cerebral palsy (HP:0100021)</td></tr>\n",
       "<tr><td style=\"text-align: left;\">F1:II1 (FEMALE; P4Y6M)</td><td style=\"text-align: left;\">Gillespie syndrome (OMIM:206700)</td><td style=\"text-align: left;\">NM_001378452.1:c.4699C>T (homozygous)</td><td style=\"text-align: left;\">Aniridia (HP:0000526); Ataxia (HP:0001251); Postural tremor (HP:0002174); Cerebellar atrophy (HP:0001272); Nystagmus (HP:0000639); Generalized hypotonia (HP:0001290); Poor head control (HP:0002421); Delayed ability to sit (HP:0025336); Delayed ability to stand (HP:0025335); Hypoplasia of the iris (HP:0007676); Difficulty walking (HP:0002355); Intellectual disability, severe (HP:0010864); Thin corpus callosum (HP:0033725); Ventriculomegaly (HP:0002119); Imperforate hymen (HP:0030011); Truncus arteriosus (HP:0001660); excluded: Cerebral palsy (HP:0100021); excluded: Abnormal pyramidal sign (HP:0007256); excluded: Abnormality of extrapyramidal motor function (HP:0002071); excluded: Peripheral neuropathy (HP:0009830); excluded: Seizure (HP:0001250)</td></tr>\n",
       "<tr><td style=\"text-align: left;\">F2:II1 (FEMALE; P16Y)</td><td style=\"text-align: left;\">Gillespie syndrome (OMIM:206700)</td><td style=\"text-align: left;\">NM_001378452.1:c.2182C>T (homozygous)</td><td style=\"text-align: left;\">Aniridia (HP:0000526); Ataxia (HP:0001251); Nystagmus (HP:0000639); Slurred speech (HP:0001350); Generalized hypotonia (HP:0001290); Intellectual disability, mild (HP:0001256); Poor head control (HP:0002421); Delayed ability to sit (HP:0025336); Hypoplasia of the iris (HP:0007676); Abnormal facial shape (HP:0001999); Difficulty walking (HP:0002355); excluded: Cerebral palsy (HP:0100021); excluded: Seizure (HP:0001250); excluded: Truncus arteriosus (HP:0001660)</td></tr>\n",
       "<tr><td style=\"text-align: left;\">F3:II1 (FEMALE; P7Y6M)</td><td style=\"text-align: left;\">Gillespie syndrome (OMIM:206700)</td><td style=\"text-align: left;\"><ul> <li>NM_001378452.1:c.6510+3A>T (heterozygous)</li> <li>NM_001378452.1:c.6808+5G>T (heterozygous)</li> </ul></td><td style=\"text-align: left;\">Aniridia (HP:0000526); Ataxia (HP:0001251); Postural tremor (HP:0002174); Cerebellar atrophy (HP:0001272); Intellectual disability, moderate (HP:0002342); Nystagmus (HP:0000639); Slurred speech (HP:0001350); Generalized hypotonia (HP:0001290); Poor head control (HP:0002421); Delayed ability to sit (HP:0025336); Hypoplasia of the iris (HP:0007676); Difficulty walking (HP:0002355); Areflexia of lower limbs (HP:0002522); excluded: Cerebral palsy (HP:0100021); excluded: Abnormal pyramidal sign (HP:0007256); excluded: Abnormality of extrapyramidal motor function (HP:0002071); excluded: Seizure (HP:0001250); excluded: Truncus arteriosus (HP:0001660)</td></tr>\n",
       "<tr><td style=\"text-align: left;\">F4:II1 (FEMALE; P18Y)</td><td style=\"text-align: left;\">Gillespie syndrome (OMIM:206700)</td><td style=\"text-align: left;\">NM_001378452.1:c.7831_7833del (heterozygous)</td><td style=\"text-align: left;\">Aniridia (HP:0000526); Ataxia (HP:0001251); Cerebellar atrophy (HP:0001272); Nystagmus (HP:0000639); Slurred speech (HP:0001350); Generalized hypotonia (HP:0001290); Poor head control (HP:0002421); Delayed ability to sit (HP:0025336); Delayed ability to stand (HP:0025335); Hypoplasia of the iris (HP:0007676); Difficulty walking (HP:0002355); Short fourth metatarsal (HP:0004689); excluded: Cerebral palsy (HP:0100021); excluded: Postural tremor (HP:0002174); excluded: Intellectual disability (HP:0001249); excluded: Abnormal pyramidal sign (HP:0007256); excluded: Abnormality of extrapyramidal motor function (HP:0002071); excluded: Peripheral neuropathy (HP:0009830); excluded: Seizure (HP:0001250); excluded: Truncus arteriosus (HP:0001660)</td></tr>\n",
       "<tr><td style=\"text-align: left;\">F5:II1 (FEMALE; P1Y6M)</td><td style=\"text-align: left;\">Gillespie syndrome (OMIM:206700)</td><td style=\"text-align: left;\">NM_001378452.1:c.7803T>G (heterozygous)</td><td style=\"text-align: left;\">Aniridia (HP:0000526); Ataxia (HP:0001251); Myoclonus (HP:0001336); Cerebellar atrophy (HP:0001272); Nystagmus (HP:0000639); Generalized hypotonia (HP:0001290); Abnormality of extrapyramidal motor function (HP:0002071); Poor head control (HP:0002421); Hypoplasia of the iris (HP:0007676); Difficulty walking (HP:0002355); Kyphosis (HP:0002808); Aplasia of the pectoralis major muscle (HP:0009751); excluded: Cerebral palsy (HP:0100021); excluded: Abnormal pyramidal sign (HP:0007256); excluded: Peripheral neuropathy (HP:0009830); excluded: Truncus arteriosus (HP:0001660)</td></tr>\n",
       "</table>"
      ],
      "text/plain": [
       "<IPython.core.display.HTML object>"
      ]
     },
     "metadata": {},
     "output_type": "display_data"
    }
   ],
   "source": [
    "table = IndividualTable(cvalidator.get_error_free_individual_list())\n",
    "display(HTML(table.to_html()))"
   ]
  },
  {
   "cell_type": "code",
   "execution_count": 6,
   "metadata": {},
   "outputs": [
    {
     "name": "stdout",
     "output_type": "stream",
     "text": [
      "[pyphetools] Ingested 80 GA4GH phenopackets.\n",
      "[INFO] Extracted 16 from 80 phenopackets with OMIM:206700\n",
      "\n",
      "\tGillespie syndrome (OMIM:206700): n=16\n",
      "We found a total of 55 unique HPO terms\n",
      "Extracted disease: Gillespie syndrome (OMIM:206700)\n",
      "Wrote HPOA disease file to OMIM-206700.tab\n"
     ]
    }
   ],
   "source": [
    "pmid = \"PMID:35743164\"\n",
    "df = timporter.create_hpoa_from_phenopackets(pmid=pmid, mode_of_inheritance=Moi.AD, target=\"OMIM:206700\")"
   ]
  }
 ],
 "metadata": {
  "kernelspec": {
   "display_name": "ps24venv",
   "language": "python",
   "name": "python3"
  },
  "language_info": {
   "codemirror_mode": {
    "name": "ipython",
    "version": 3
   },
   "file_extension": ".py",
   "mimetype": "text/x-python",
   "name": "python",
   "nbconvert_exporter": "python",
   "pygments_lexer": "ipython3",
   "version": "3.9.6"
  }
 },
 "nbformat": 4,
 "nbformat_minor": 2
}
