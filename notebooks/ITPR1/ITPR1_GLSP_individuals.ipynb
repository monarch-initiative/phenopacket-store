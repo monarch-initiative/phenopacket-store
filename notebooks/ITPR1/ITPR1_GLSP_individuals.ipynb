{
 "cells": [
  {
   "cell_type": "markdown",
   "metadata": {},
   "source": [
    "# ITPR1\n",
    "[Gillespie syndrome (GLSP)](https://omim.org/entry/206700) is caused by heterozygous mutation in the ITPR1 gene."
   ]
  },
  {
   "cell_type": "code",
   "execution_count": 1,
   "metadata": {},
   "outputs": [
    {
     "name": "stdout",
     "output_type": "stream",
     "text": [
      "Using pyphetools version 0.9.88\n"
     ]
    },
    {
     "name": "stderr",
     "output_type": "stream",
     "text": [
      "/Users/robin/GIT/phenopacket-store/ps24venv/lib/python3.9/site-packages/urllib3/__init__.py:35: NotOpenSSLWarning: urllib3 v2 only supports OpenSSL 1.1.1+, currently the 'ssl' module is compiled with 'LibreSSL 2.8.3'. See: https://github.com/urllib3/urllib3/issues/3020\n",
      "  warnings.warn(\n"
     ]
    }
   ],
   "source": [
    "from pyphetools.creation import TemplateImporter\n",
    "from pyphetools.visualization import IndividualTable, QcVisualizer\n",
    "from IPython.display import display, HTML\n",
    "import pyphetools\n",
    "print(f\"Using pyphetools version {pyphetools.__version__}\")"
   ]
  },
  {
   "cell_type": "code",
   "execution_count": 3,
   "metadata": {},
   "outputs": [],
   "source": [
    "template = \"input/ITPR1_GLSP_individuals.xlsx\"\n",
    "created_by = \"0000-0002-0736-9199\""
   ]
  },
  {
   "cell_type": "code",
   "execution_count": 4,
   "metadata": {},
   "outputs": [
    {
     "name": "stdout",
     "output_type": "stream",
     "text": [
      "HPO version 2024-04-26\n",
      "Created encoders for 181 fields\n",
      "ERROR: Error - HPO label ends with whitespace: \\”Delayed ability to walk with support \"\n",
      "ERROR: Error - HPO label ends with whitespace: \\”Atrophy/Degeneration affecting the cerebrum \"\n"
     ]
    },
    {
     "ename": "ValueError",
     "evalue": "Could not parse \"nan\" as age.",
     "output_type": "error",
     "traceback": [
      "\u001b[0;31m---------------------------------------------------------------------------\u001b[0m",
      "\u001b[0;31mValueError\u001b[0m                                Traceback (most recent call last)",
      "Cell \u001b[0;32mIn[4], line 2\u001b[0m\n\u001b[1;32m      1\u001b[0m timporter \u001b[38;5;241m=\u001b[39m TemplateImporter(template\u001b[38;5;241m=\u001b[39mtemplate,  created_by\u001b[38;5;241m=\u001b[39mcreated_by)\n\u001b[0;32m----> 2\u001b[0m individual_list, cvalidator \u001b[38;5;241m=\u001b[39m \u001b[43mtimporter\u001b[49m\u001b[38;5;241;43m.\u001b[39;49m\u001b[43mimport_phenopackets_from_template\u001b[49m\u001b[43m(\u001b[49m\u001b[43m)\u001b[49m\n",
      "File \u001b[0;32m~/GIT/phenopacket-store/ps24venv/lib/python3.9/site-packages/pyphetools/creation/import_template.py:156\u001b[0m, in \u001b[0;36mTemplateImporter.import_phenopackets_from_template\u001b[0;34m(self, deletions, duplications, inversions, translocations, hemizygous, leniant_MOI)\u001b[0m\n\u001b[1;32m    154\u001b[0m \u001b[38;5;28mprint\u001b[39m(\u001b[38;5;124mf\u001b[39m\u001b[38;5;124m\"\u001b[39m\u001b[38;5;124mHPO version \u001b[39m\u001b[38;5;132;01m{\u001b[39;00mhpo_ontology\u001b[38;5;241m.\u001b[39mversion\u001b[38;5;132;01m}\u001b[39;00m\u001b[38;5;124m\"\u001b[39m)\n\u001b[1;32m    155\u001b[0m df \u001b[38;5;241m=\u001b[39m pd\u001b[38;5;241m.\u001b[39mread_excel(\u001b[38;5;28mself\u001b[39m\u001b[38;5;241m.\u001b[39m_template)\n\u001b[0;32m--> 156\u001b[0m encoder \u001b[38;5;241m=\u001b[39m \u001b[43mCaseTemplateEncoder\u001b[49m\u001b[43m(\u001b[49m\u001b[43mdf\u001b[49m\u001b[38;5;241;43m=\u001b[39;49m\u001b[43mdf\u001b[49m\u001b[43m,\u001b[49m\u001b[43m \u001b[49m\u001b[43mhpo_cr\u001b[49m\u001b[38;5;241;43m=\u001b[39;49m\u001b[43mhpo_cr\u001b[49m\u001b[43m,\u001b[49m\u001b[43m \u001b[49m\u001b[43mcreated_by\u001b[49m\u001b[38;5;241;43m=\u001b[39;49m\u001b[38;5;28;43mself\u001b[39;49m\u001b[38;5;241;43m.\u001b[39;49m\u001b[43m_created_by\u001b[49m\u001b[43m,\u001b[49m\u001b[43m \u001b[49m\u001b[43mhpo_ontology\u001b[49m\u001b[38;5;241;43m=\u001b[39;49m\u001b[43mhpo_ontology\u001b[49m\u001b[43m)\u001b[49m\n\u001b[1;32m    157\u001b[0m individuals \u001b[38;5;241m=\u001b[39m encoder\u001b[38;5;241m.\u001b[39mget_individuals()\n\u001b[1;32m    158\u001b[0m disease_id, disease_label, HGNC_id, gene_symbol, transcript \u001b[38;5;241m=\u001b[39m TemplateImporter\u001b[38;5;241m.\u001b[39m_get_data_from_template(df)\n",
      "File \u001b[0;32m~/GIT/phenopacket-store/ps24venv/lib/python3.9/site-packages/pyphetools/creation/case_template_encoder.py:252\u001b[0m, in \u001b[0;36mCaseTemplateEncoder.__init__\u001b[0;34m(self, df, hpo_cr, created_by, hpo_ontology)\u001b[0m\n\u001b[1;32m    250\u001b[0m \u001b[38;5;28mself\u001b[39m\u001b[38;5;241m.\u001b[39m_allele2_d \u001b[38;5;241m=\u001b[39m {}\n\u001b[1;32m    251\u001b[0m \u001b[38;5;28;01mfor\u001b[39;00m _, row \u001b[38;5;129;01min\u001b[39;00m data_df\u001b[38;5;241m.\u001b[39miterrows():\n\u001b[0;32m--> 252\u001b[0m     individual \u001b[38;5;241m=\u001b[39m \u001b[38;5;28;43mself\u001b[39;49m\u001b[38;5;241;43m.\u001b[39;49m\u001b[43m_parse_individual\u001b[49m\u001b[43m(\u001b[49m\u001b[43mrow\u001b[49m\u001b[43m)\u001b[49m\n\u001b[1;32m    253\u001b[0m     \u001b[38;5;28mself\u001b[39m\u001b[38;5;241m.\u001b[39m_individuals\u001b[38;5;241m.\u001b[39mappend(individual)\n\u001b[1;32m    254\u001b[0m     \u001b[38;5;28mself\u001b[39m\u001b[38;5;241m.\u001b[39m_allele1_d[individual\u001b[38;5;241m.\u001b[39mid] \u001b[38;5;241m=\u001b[39m row[\u001b[38;5;124m\"\u001b[39m\u001b[38;5;124mallele_1\u001b[39m\u001b[38;5;124m\"\u001b[39m]\n",
      "File \u001b[0;32m~/GIT/phenopacket-store/ps24venv/lib/python3.9/site-packages/pyphetools/creation/case_template_encoder.py:394\u001b[0m, in \u001b[0;36mCaseTemplateEncoder._parse_individual\u001b[0;34m(self, row)\u001b[0m\n\u001b[1;32m    392\u001b[0m onset_age \u001b[38;5;241m=\u001b[39m data_items\u001b[38;5;241m.\u001b[39mget(AGE_OF_ONSET_FIELDNAME)\n\u001b[1;32m    393\u001b[0m \u001b[38;5;28;01mif\u001b[39;00m onset_age \u001b[38;5;129;01mis\u001b[39;00m \u001b[38;5;129;01mnot\u001b[39;00m \u001b[38;5;28;01mNone\u001b[39;00m \u001b[38;5;129;01mand\u001b[39;00m \u001b[38;5;28misinstance\u001b[39m(onset_age, \u001b[38;5;28mstr\u001b[39m):\n\u001b[0;32m--> 394\u001b[0m     onset_age \u001b[38;5;241m=\u001b[39m \u001b[43mPyPheToolsAge\u001b[49m\u001b[38;5;241;43m.\u001b[39;49m\u001b[43mget_age\u001b[49m\u001b[43m(\u001b[49m\u001b[43monset_age\u001b[49m\u001b[43m)\u001b[49m\n\u001b[1;32m    395\u001b[0m \u001b[38;5;28;01melse\u001b[39;00m:\n\u001b[1;32m    396\u001b[0m     onset_age \u001b[38;5;241m=\u001b[39m NoneAge(\u001b[38;5;124m\"\u001b[39m\u001b[38;5;124mna\u001b[39m\u001b[38;5;124m\"\u001b[39m)\n",
      "File \u001b[0;32m~/GIT/phenopacket-store/ps24venv/lib/python3.9/site-packages/pyphetools/creation/pyphetools_age.py:115\u001b[0m, in \u001b[0;36mPyPheToolsAge.get_age\u001b[0;34m(age_string)\u001b[0m\n\u001b[1;32m    112\u001b[0m \u001b[38;5;28;01melse\u001b[39;00m:\n\u001b[1;32m    113\u001b[0m     \u001b[38;5;66;03m# only warn if the user did not enter na=not available\u001b[39;00m\n\u001b[1;32m    114\u001b[0m     \u001b[38;5;28;01mif\u001b[39;00m age_string \u001b[38;5;241m!=\u001b[39m \u001b[38;5;124m'\u001b[39m\u001b[38;5;124mna\u001b[39m\u001b[38;5;124m'\u001b[39m:\n\u001b[0;32m--> 115\u001b[0m         \u001b[38;5;28;01mraise\u001b[39;00m \u001b[38;5;167;01mValueError\u001b[39;00m(\u001b[38;5;124mf\u001b[39m\u001b[38;5;124m\"\u001b[39m\u001b[38;5;124mCould not parse \u001b[39m\u001b[38;5;130;01m\\\"\u001b[39;00m\u001b[38;5;132;01m{\u001b[39;00mage_string\u001b[38;5;132;01m}\u001b[39;00m\u001b[38;5;130;01m\\\"\u001b[39;00m\u001b[38;5;124m as age.\u001b[39m\u001b[38;5;124m\"\u001b[39m)\n\u001b[1;32m    116\u001b[0m     \u001b[38;5;28;01mreturn\u001b[39;00m NoneAge(age_string\u001b[38;5;241m=\u001b[39mage_string)\n",
      "\u001b[0;31mValueError\u001b[0m: Could not parse \"nan\" as age."
     ]
    }
   ],
   "source": [
    "timporter = TemplateImporter(template=template,  created_by=created_by)\n",
    "individual_list, cvalidator = timporter.import_phenopackets_from_template()"
   ]
  }
 ],
 "metadata": {
  "kernelspec": {
   "display_name": "ps24venv",
   "language": "python",
   "name": "python3"
  },
  "language_info": {
   "codemirror_mode": {
    "name": "ipython",
    "version": 3
   },
   "file_extension": ".py",
   "mimetype": "text/x-python",
   "name": "python",
   "nbconvert_exporter": "python",
   "pygments_lexer": "ipython3",
   "version": "3.9.6"
  }
 },
 "nbformat": 4,
 "nbformat_minor": 2
}
