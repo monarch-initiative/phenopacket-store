{
 "cells": [
  {
   "cell_type": "markdown",
   "metadata": {},
   "source": [
    "# ITPR1\n",
    "[Gillespie syndrome (GLSP)](https://omim.org/entry/206700) is caused by heterozygous mutation in the ITPR1 gene."
   ]
  },
  {
   "cell_type": "code",
   "execution_count": 4,
   "metadata": {},
   "outputs": [
    {
     "name": "stdout",
     "output_type": "stream",
     "text": [
      "Using pyphetools version 0.9.105\n"
     ]
    }
   ],
   "source": [
    "from pyphetools.creation import TemplateImporter, Moi\n",
    "from pyphetools.visualization import IndividualTable, QcVisualizer\n",
    "from IPython.display import display, HTML\n",
    "import pyphetools\n",
    "print(f\"Using pyphetools version {pyphetools.__version__}\")"
   ]
  },
  {
   "cell_type": "code",
   "execution_count": 5,
   "metadata": {},
   "outputs": [],
   "source": [
    "template = \"input/ITPR1_GLSP_individuals.xlsx\"\n",
    "created_by = \"0000-0002-0736-9199\""
   ]
  },
  {
   "cell_type": "code",
   "execution_count": 9,
   "metadata": {},
   "outputs": [
    {
     "name": "stdout",
     "output_type": "stream",
     "text": [
      "HPO version 2024-08-13\n",
      "Created encoders for 154 fields\n",
      "Importing OMIM:206700, Gillespie syndrome, HGNC:6180, ITPR1,  NM_001378452.1\n",
      "We output 22 GA4GH phenopackets to the directory phenopackets\n"
     ]
    }
   ],
   "source": [
    "timporter = TemplateImporter(template=template,  created_by=created_by)\n",
    "individual_list, cvalidator = timporter.import_phenopackets_from_template(leniant_MOI=True)"
   ]
  },
  {
   "cell_type": "code",
   "execution_count": 10,
   "metadata": {},
   "outputs": [
    {
     "data": {
      "text/html": [
       "<h2>Cohort validation</h2>\n",
       "<p>Errors found with 15 of 22 phenopackets.</p>\n",
       "<table style=\"border: 2px solid black; align: \"left\">\n",
       "<caption>Error counts</caption>\n",
       "<tr><th style=\"text-align: left;font-weight: bold;\">Level</th><th style=\"text-align: left;font-weight: bold;\">Error category</th><th style=\"text-align: left;font-weight: bold;\">Count</th></tr>\n",
       "<tr><td style=\"text-align: left;\">ERROR</td><td style=\"text-align: left;\">CONFLICT</td><td style=\"text-align: left;\">1</td></tr>\n",
       "<tr><td style=\"text-align: left;\">WARNING</td><td style=\"text-align: left;\">REDUNDANT</td><td style=\"text-align: left;\">29</td></tr>\n",
       "</table>\n",
       "<p>A total of 30 issues were fixed and no individual was removed from the cohort.</p>"
      ],
      "text/plain": [
       "<IPython.core.display.HTML object>"
      ]
     },
     "metadata": {},
     "output_type": "display_data"
    }
   ],
   "source": [
    "qc = QcVisualizer(cohort_validator=cvalidator)\n",
    "display(HTML(qc.to_summary_html()))"
   ]
  },
  {
   "cell_type": "code",
   "execution_count": 11,
   "metadata": {},
   "outputs": [
    {
     "data": {
      "text/html": [
       "<table style=\"border: 2px solid black; align: \"left\">\n",
       "<caption>22 phenopackets - PMID:35743164 (n=2); PMID:37964426 (n=1); PMID:28698159 (n=2); PMID:27108798 (n=6); PMID:27108797 (n=5); PMID:29169895 (n=2); PMID:29663667 (n=2); PMID:39177731 (n=2)</caption>\n",
       "<tr><th style=\"text-align: left;font-weight: bold;\">Individual</th><th style=\"text-align: left;font-weight: bold;\">Disease</th><th style=\"text-align: left;font-weight: bold;\">Genotype</th><th style=\"text-align: left;font-weight: bold;\">Phenotypic features</th></tr>\n",
       "<tr><td style=\"text-align: left;\">Patient 6 (FEMALE; P2Y)</td><td style=\"text-align: left;\">Gillespie syndrome (OMIM:206700)</td><td style=\"text-align: left;\">NM_001378452.1:c.7831_7833del (heterozygous)</td><td style=\"text-align: left;\">Ataxia (HP:0001251): onset ; Delayed ability to walk (HP:0031936): onset ; Hypotonia (HP:0001252): onset ; Intellectual disability, mild (HP:0001256): onset ; Cerebellar atrophy (HP:0001272): onset ; Nystagmus (HP:0000639): onset ; Hypoplasia of the iris (HP:0007676): onset ; excluded: Cerebral palsy (HP:0100021): onset ; excluded: Intellectual disability, moderate (HP:0002342): onset ; excluded: Intellectual disability, severe (HP:0010864): onset ; excluded: Diffuse cerebellar atrophy (HP:0100275): onset ; excluded: Ptosis (HP:0000508): onset </td></tr>\n",
       "<tr><td style=\"text-align: left;\">Patient 10 (FEMALE; P29Y)</td><td style=\"text-align: left;\">Gillespie syndrome (OMIM:206700)</td><td style=\"text-align: left;\">NM_001378452.1:c.7772A>T (heterozygous)</td><td style=\"text-align: left;\">Ataxia (HP:0001251): onset ; Hypotonia (HP:0001252): onset ; Intellectual disability, moderate (HP:0002342): onset ; Diffuse cerebellar atrophy (HP:0100275): onset ; Nystagmus (HP:0000639): onset ; Ptosis (HP:0000508): onset ; excluded: Cerebral palsy (HP:0100021): onset ; excluded: Intellectual disability, mild (HP:0001256): onset ; excluded: Intellectual disability, severe (HP:0010864): onset <br/><b>TimeElement(element=OntologyClass(id=HP:0003593, label=Infantile onset))</b>: Motor delay (HP:0001270): onset ontology_class {\n",
       "  id: \"HP:0003593\"\n",
       "  label: \"Infantile onset\"\n",
       "}\n",
       "</td></tr>\n",
       "<tr><td style=\"text-align: left;\">S6_L2611del (UNKNOWN)</td><td style=\"text-align: left;\">Gillespie syndrome (OMIM:206700)</td><td style=\"text-align: left;\">NM_001378452.1:c.7831_7833del (heterozygous)</td><td style=\"text-align: left;\">Ataxia (HP:0001251): onset ; Cerebellar atrophy (HP:0001272): onset ; Cerebellar hypoplasia (HP:0001321): onset ; Delayed gross motor development (HP:0002194): onset ; excluded: Cerebral palsy (HP:0100021): onset <br/><b>TimeElement(element=OntologyClass(id=HP:0003577, label=Congenital onset))</b>: Aniridia (HP:0000526): onset ontology_class {\n",
       "  id: \"HP:0003577\"\n",
       "  label: \"Congenital onset\"\n",
       "}\n",
       "</td></tr>\n",
       "<tr><td style=\"text-align: left;\">P1 (FEMALE; P29Y)</td><td style=\"text-align: left;\">Gillespie syndrome (OMIM:206700)</td><td style=\"text-align: left;\">NM_001378452.1:c.7772A>T (heterozygous)</td><td style=\"text-align: left;\">Delayed ability to walk with support (HP:0033257): onset ; Generalized hypotonia (HP:0001290): onset ; Intellectual disability, moderate (HP:0002342): onset ; Cerebellar vermis atrophy (HP:0006855): onset ; Nystagmus (HP:0000639): onset ; Slurred speech (HP:0001350): onset ; Abnormal pyramidal sign (HP:0007256): onset ; Delayed ability to sit (HP:0025336): onset ; Ptosis (HP:0000508): onset ; Hypoplasia of the iris (HP:0007676): onset ; Pulmonic stenosis (HP:0001642): onset ; Reduced visual acuity (HP:0007663): onset ; Abnormal flash visual evoked potentials (HP:0007928): onset ; Scoliosis (HP:0002650): onset ; Precocious puberty (HP:0000826): onset ; excluded: Cerebral palsy (HP:0100021): onset ; excluded: Postural tremor (HP:0002174): onset ; excluded: Intellectual disability, mild (HP:0001256): onset ; excluded: Intellectual disability, severe (HP:0010864): onset ; excluded: Dysphagia (HP:0002015): onset ; excluded: Oculomotor apraxia (HP:0000657): onset <br/><b>TimeElement(element=Age(iso8601duration=P2Y))</b>: Ataxia (HP:0001251): onset age {\n",
       "  iso8601duration: \"P2Y\"\n",
       "}\n",
       "</td></tr>\n",
       "<tr><td style=\"text-align: left;\">P2 (FEMALE; P2Y)</td><td style=\"text-align: left;\">Gillespie syndrome (OMIM:206700)</td><td style=\"text-align: left;\">NM_001378452.1:c.7831_7833del (heterozygous)</td><td style=\"text-align: left;\">Generalized hypotonia (HP:0001290): onset ; Intellectual disability, mild (HP:0001256): onset ; Cerebellar vermis atrophy (HP:0006855): onset ; Nystagmus (HP:0000639): onset ; Hypoplasia of the iris (HP:0007676): onset ; Delayed gross motor development (HP:0002194): onset ; Growth delay (HP:0001510): onset ; excluded: Cerebral palsy (HP:0100021): onset ; excluded: Postural tremor (HP:0002174): onset ; excluded: Intellectual disability, moderate (HP:0002342): onset ; excluded: Intellectual disability, severe (HP:0010864): onset ; excluded: Dysphagia (HP:0002015): onset ; excluded: Oculomotor apraxia (HP:0000657): onset ; excluded: Abnormal pyramidal sign (HP:0007256): onset ; excluded: Ptosis (HP:0000508): onset ; excluded: Abnormal flash visual evoked potentials (HP:0007928): onset <br/><b>TimeElement(element=Age(iso8601duration=P1Y))</b>: Ataxia (HP:0001251): onset age {\n",
       "  iso8601duration: \"P1Y\"\n",
       "}\n",
       "</td></tr>\n",
       "<tr><td style=\"text-align: left;\">91_91 (FEMALE; P55Y)</td><td style=\"text-align: left;\">Gillespie syndrome (OMIM:206700)</td><td style=\"text-align: left;\">NM_001378452.1:c.6325G>C (heterozygous)</td><td style=\"text-align: left;\">Ataxia (HP:0001251): onset ; Delayed ability to walk (HP:0031936): onset ; Intellectual disability, mild (HP:0001256): onset ; Cerebellar atrophy (HP:0001272): onset ; Cerebellar hypoplasia (HP:0001321): onset ; Delayed speech and language development (HP:0000750): onset ; Delayed ability to sit (HP:0025336): onset ; Hypoplasia of the iris (HP:0007676): onset ; Visual impairment (HP:0000505): onset ; Gastroesophageal reflux (HP:0002020): onset ; Depression (HP:0000716): onset ; excluded: Cerebral palsy (HP:0100021): onset ; excluded: Microcephaly (HP:0000252): onset ; excluded: Aniridia (HP:0000526): onset ; excluded: Hypoplasia of the fovea (HP:0007750): onset </td></tr>\n",
       "<tr><td style=\"text-align: left;\">SVP (FEMALE; P34Y)</td><td style=\"text-align: left;\">Gillespie syndrome (OMIM:206700)</td><td style=\"text-align: left;\">NM_001378452.1:c.6326A>G (heterozygous)</td><td style=\"text-align: left;\">Ataxia (HP:0001251): onset ; Cerebellar atrophy (HP:0001272): onset ; Cerebellar hypoplasia (HP:0001321): onset ; Hypoplasia of the iris (HP:0007676): onset ; Specific learning disability (HP:0001328): onset ; excluded: Cerebral palsy (HP:0100021): onset ; excluded: Aniridia (HP:0000526): onset </td></tr>\n",
       "<tr><td style=\"text-align: left;\">SW (FEMALE; P13Y)</td><td style=\"text-align: left;\">Gillespie syndrome (OMIM:206700)</td><td style=\"text-align: left;\">NM_001378452.1:c.6326A>G (heterozygous)</td><td style=\"text-align: left;\">Ataxia (HP:0001251): onset ; Hypotonia (HP:0001252): onset ; Intellectual disability, mild (HP:0001256): onset ; Cerebellar atrophy (HP:0001272): onset ; Cerebellar hypoplasia (HP:0001321): onset ; Hypoplasia of the iris (HP:0007676): onset ; excluded: Cerebral palsy (HP:0100021): onset ; excluded: Aniridia (HP:0000526): onset </td></tr>\n",
       "<tr><td style=\"text-align: left;\">261348 (MALE; P7Y2M)</td><td style=\"text-align: left;\">Gillespie syndrome (OMIM:206700)</td><td style=\"text-align: left;\">NM_001378452.1:c.7660G>C (heterozygous)</td><td style=\"text-align: left;\">Ataxia (HP:0001251): onset ; Delayed ability to walk (HP:0031936): onset ; Cerebellar atrophy (HP:0001272): onset ; Cerebellar hypoplasia (HP:0001321): onset ; Delayed speech and language development (HP:0000750): onset ; Delayed ability to sit (HP:0025336): onset ; Hypoplasia of the iris (HP:0007676): onset ; Specific learning disability (HP:0001328): onset ; Gastroesophageal reflux (HP:0002020): onset ; excluded: Cerebral palsy (HP:0100021): onset ; excluded: Hypotonia (HP:0001252): onset ; excluded: Microcephaly (HP:0000252): onset ; excluded: Aniridia (HP:0000526): onset </td></tr>\n",
       "<tr><td style=\"text-align: left;\">263220 (FEMALE; P14Y7M)</td><td style=\"text-align: left;\">Gillespie syndrome (OMIM:206700)</td><td style=\"text-align: left;\">NM_001378452.1:c.7660G>A (heterozygous)</td><td style=\"text-align: left;\">Ataxia (HP:0001251): onset ; Hypotonia (HP:0001252): onset ; Intellectual disability, mild (HP:0001256): onset ; Cerebellar atrophy (HP:0001272): onset ; Cerebellar hypoplasia (HP:0001321): onset ; Delayed speech and language development (HP:0000750): onset ; Inability to walk (HP:0002540): onset ; Delayed ability to sit (HP:0025336): onset ; Hypoplasia of the iris (HP:0007676): onset ; Hypoplasia of the fovea (HP:0007750): onset ; Scoliosis (HP:0002650): onset ; Visual impairment (HP:0000505): onset ; Cholelithiasis (HP:0001081): onset ; excluded: Cerebral palsy (HP:0100021): onset ; excluded: Microcephaly (HP:0000252): onset ; excluded: Aniridia (HP:0000526): onset </td></tr>\n",
       "<tr><td style=\"text-align: left;\">2021_2021 (FEMALE; P28Y)</td><td style=\"text-align: left;\">Gillespie syndrome (OMIM:206700)</td><td style=\"text-align: left;\">NM_001378452.1:c.7660G>A (heterozygous)</td><td style=\"text-align: left;\">Ataxia (HP:0001251): onset ; Delayed ability to walk (HP:0031936): onset ; Hypotonia (HP:0001252): onset ; Intellectual disability, mild (HP:0001256): onset ; Cerebellar atrophy (HP:0001272): onset ; Cerebellar hypoplasia (HP:0001321): onset ; Delayed speech and language development (HP:0000750): onset ; Delayed ability to sit (HP:0025336): onset ; Hypoplasia of the iris (HP:0007676): onset ; excluded: Cerebral palsy (HP:0100021): onset ; excluded: Aniridia (HP:0000526): onset </td></tr>\n",
       "<tr><td style=\"text-align: left;\">F1:II1 (FEMALE; P4Y6M)</td><td style=\"text-align: left;\">Gillespie syndrome (OMIM:206700)</td><td style=\"text-align: left;\">NM_001378452.1:c.4699C>T (homozygous)</td><td style=\"text-align: left;\">Ataxia (HP:0001251): onset ; Gait disturbance (HP:0001288): onset ; Postural tremor (HP:0002174): onset ; Generalized hypotonia (HP:0001290): onset ; Intellectual disability, severe (HP:0010864): onset ; Cerebellar atrophy (HP:0001272): onset ; Nystagmus (HP:0000639): onset ; Poor head control (HP:0002421): onset ; Delayed ability to sit (HP:0025336): onset ; Delayed ability to stand (HP:0025335): onset ; Hypoplasia of the iris (HP:0007676): onset ; Thin corpus callosum (HP:0033725): onset ; Ventriculomegaly (HP:0002119): onset ; Imperforate hymen (HP:0030011): onset ; Truncus arteriosus (HP:0001660): onset ; excluded: Cerebral palsy (HP:0100021): onset ; excluded: Abnormal pyramidal sign (HP:0007256): onset ; excluded: Abnormality of extrapyramidal motor function (HP:0002071): onset ; excluded: Peripheral neuropathy (HP:0009830): onset ; excluded: Seizure (HP:0001250): onset <br/><b>TimeElement(element=OntologyClass(id=HP:0003577, label=Congenital onset))</b>: Aniridia (HP:0000526): onset ontology_class {\n",
       "  id: \"HP:0003577\"\n",
       "  label: \"Congenital onset\"\n",
       "}\n",
       "</td></tr>\n",
       "<tr><td style=\"text-align: left;\">F2:II1 (FEMALE; P16Y)</td><td style=\"text-align: left;\">Gillespie syndrome (OMIM:206700)</td><td style=\"text-align: left;\">NM_001378452.1:c.2182C>T (homozygous)</td><td style=\"text-align: left;\">Ataxia (HP:0001251): onset ; Gait disturbance (HP:0001288): onset ; Generalized hypotonia (HP:0001290): onset ; Intellectual disability, mild (HP:0001256): onset ; Nystagmus (HP:0000639): onset ; Slurred speech (HP:0001350): onset ; Poor head control (HP:0002421): onset ; Delayed ability to sit (HP:0025336): onset ; Hypoplasia of the iris (HP:0007676): onset ; Abnormal facial shape (HP:0001999): onset ; excluded: Cerebral palsy (HP:0100021): onset ; excluded: Seizure (HP:0001250): onset ; excluded: Truncus arteriosus (HP:0001660): onset <br/><b>TimeElement(element=OntologyClass(id=HP:0003577, label=Congenital onset))</b>: Aniridia (HP:0000526): onset ontology_class {\n",
       "  id: \"HP:0003577\"\n",
       "  label: \"Congenital onset\"\n",
       "}\n",
       "</td></tr>\n",
       "<tr><td style=\"text-align: left;\">F3:II1 (FEMALE; P7Y6M)</td><td style=\"text-align: left;\">Gillespie syndrome (OMIM:206700)</td><td style=\"text-align: left;\"><ul> <li>NM_001378452.1:c.6510+3A>T (heterozygous)</li> <li>NM_001378452.1:c.6808+5G>T (heterozygous)</li> </ul></td><td style=\"text-align: left;\">Ataxia (HP:0001251): onset ; Gait disturbance (HP:0001288): onset ; Postural tremor (HP:0002174): onset ; Generalized hypotonia (HP:0001290): onset ; Intellectual disability, moderate (HP:0002342): onset ; Cerebellar atrophy (HP:0001272): onset ; Nystagmus (HP:0000639): onset ; Slurred speech (HP:0001350): onset ; Poor head control (HP:0002421): onset ; Delayed ability to sit (HP:0025336): onset ; Hypoplasia of the iris (HP:0007676): onset ; Areflexia of lower limbs (HP:0002522): onset ; excluded: Cerebral palsy (HP:0100021): onset ; excluded: Abnormal pyramidal sign (HP:0007256): onset ; excluded: Abnormality of extrapyramidal motor function (HP:0002071): onset ; excluded: Seizure (HP:0001250): onset ; excluded: Truncus arteriosus (HP:0001660): onset <br/><b>TimeElement(element=OntologyClass(id=HP:0003577, label=Congenital onset))</b>: Aniridia (HP:0000526): onset ontology_class {\n",
       "  id: \"HP:0003577\"\n",
       "  label: \"Congenital onset\"\n",
       "}\n",
       "</td></tr>\n",
       "<tr><td style=\"text-align: left;\">F4:II1 (FEMALE; P18Y)</td><td style=\"text-align: left;\">Gillespie syndrome (OMIM:206700)</td><td style=\"text-align: left;\">NM_001378452.1:c.7831_7833del (heterozygous)</td><td style=\"text-align: left;\">Ataxia (HP:0001251): onset ; Gait disturbance (HP:0001288): onset ; Generalized hypotonia (HP:0001290): onset ; Cerebellar atrophy (HP:0001272): onset ; Nystagmus (HP:0000639): onset ; Slurred speech (HP:0001350): onset ; Poor head control (HP:0002421): onset ; Delayed ability to sit (HP:0025336): onset ; Delayed ability to stand (HP:0025335): onset ; Hypoplasia of the iris (HP:0007676): onset ; Short fourth metatarsal (HP:0004689): onset ; excluded: Cerebral palsy (HP:0100021): onset ; excluded: Postural tremor (HP:0002174): onset ; excluded: Intellectual disability (HP:0001249): onset ; excluded: Abnormal pyramidal sign (HP:0007256): onset ; excluded: Abnormality of extrapyramidal motor function (HP:0002071): onset ; excluded: Peripheral neuropathy (HP:0009830): onset ; excluded: Seizure (HP:0001250): onset ; excluded: Truncus arteriosus (HP:0001660): onset <br/><b>TimeElement(element=OntologyClass(id=HP:0003577, label=Congenital onset))</b>: Aniridia (HP:0000526): onset ontology_class {\n",
       "  id: \"HP:0003577\"\n",
       "  label: \"Congenital onset\"\n",
       "}\n",
       "</td></tr>\n",
       "<tr><td style=\"text-align: left;\">F5:II1 (FEMALE; P1Y6M)</td><td style=\"text-align: left;\">Gillespie syndrome (OMIM:206700)</td><td style=\"text-align: left;\">NM_001378452.1:c.7803T>G (heterozygous)</td><td style=\"text-align: left;\">Ataxia (HP:0001251): onset ; Gait disturbance (HP:0001288): onset ; Generalized hypotonia (HP:0001290): onset ; Cerebellar atrophy (HP:0001272): onset ; Myoclonus (HP:0001336): onset ; Nystagmus (HP:0000639): onset ; Abnormality of extrapyramidal motor function (HP:0002071): onset ; Poor head control (HP:0002421): onset ; Delayed ability to sit (HP:0025336): onset ; Hypoplasia of the iris (HP:0007676): onset ; Kyphosis (HP:0002808): onset ; Aplasia of the pectoralis major muscle (HP:0009751): onset ; excluded: Cerebral palsy (HP:0100021): onset ; excluded: Abnormal pyramidal sign (HP:0007256): onset ; excluded: Peripheral neuropathy (HP:0009830): onset ; excluded: Seizure (HP:0001250): onset ; excluded: Truncus arteriosus (HP:0001660): onset <br/><b>TimeElement(element=OntologyClass(id=HP:0003577, label=Congenital onset))</b>: Aniridia (HP:0000526): onset ontology_class {\n",
       "  id: \"HP:0003577\"\n",
       "  label: \"Congenital onset\"\n",
       "}\n",
       "</td></tr>\n",
       "<tr><td style=\"text-align: left;\">proband (MALE; P4Y2M)</td><td style=\"text-align: left;\">Gillespie syndrome (OMIM:206700)</td><td style=\"text-align: left;\">NM_001378452.1:c.2979_2980insTATA (homozygous)</td><td style=\"text-align: left;\">Delayed speech and language development (HP:0000750): onset ; Truncal titubation (HP:0030147): onset ; Global developmental delay (HP:0001263): onset ; Poor head control (HP:0002421): onset ; Persistent pupillary membrane (HP:0009917): onset ; Grade III vesicoureteral reflux (HP:0033737): onset ; excluded: Cerebral palsy (HP:0100021): onset ; excluded: Seizure (HP:0001250): onset ; excluded: Microcephaly (HP:0000252): onset ; excluded: Clonus (HP:0002169): onset <br/><b>TimeElement(element=OntologyClass(id=HP:0003577, label=Congenital onset))</b>: Hypoplasia of the iris (HP:0007676): onset ontology_class {\n",
       "  id: \"HP:0003577\"\n",
       "  label: \"Congenital onset\"\n",
       "}\n",
       "; Pulmonic stenosis (HP:0001642): onset ontology_class {\n",
       "  id: \"HP:0003577\"\n",
       "  label: \"Congenital onset\"\n",
       "}\n",
       "<br/><b>TimeElement(element=Age(iso8601duration=P3M))</b>: Hypotonia (HP:0001252): onset age {\n",
       "  iso8601duration: \"P3M\"\n",
       "}\n",
       "<br/><b>TimeElement(element=Age(iso8601duration=P2Y4M))</b>: Intention tremor (HP:0002080): onset age {\n",
       "  iso8601duration: \"P2Y4M\"\n",
       "}\n",
       "; Rotary nystagmus (HP:0001583): onset age {\n",
       "  iso8601duration: \"P2Y4M\"\n",
       "}\n",
       "<br/><b>TimeElement(element=Age(iso8601duration=P2Y8M))</b>: Cerebellar atrophy (HP:0001272): onset age {\n",
       "  iso8601duration: \"P2Y8M\"\n",
       "}\n",
       "; Delayed CNS myelination (HP:0002188): onset age {\n",
       "  iso8601duration: \"P2Y8M\"\n",
       "}\n",
       "</td></tr>\n",
       "<tr><td style=\"text-align: left;\">patient 2 sister (FEMALE; P2Y)</td><td style=\"text-align: left;\">Gillespie syndrome (OMIM:206700)</td><td style=\"text-align: left;\">NM_001378452.1:c.2979_2980insTATA (homozygous)</td><td style=\"text-align: left;\">Tremor (HP:0001337): onset ; Nystagmus (HP:0000639): onset ; Poor head control (HP:0002421): onset ; Pulmonic stenosis (HP:0001642): onset ; excluded: Cerebral palsy (HP:0100021): onset ; excluded: Cerebellar atrophy (HP:0001272): onset ; excluded: Seizure (HP:0001250): onset ; excluded: Microcephaly (HP:0000252): onset ; excluded: Aniridia (HP:0000526): onset ; excluded: Clonus (HP:0002169): onset <br/><b>TimeElement(element=OntologyClass(id=HP:0003577, label=Congenital onset))</b>: Hypoplasia of the iris (HP:0007676): onset ontology_class {\n",
       "  id: \"HP:0003577\"\n",
       "  label: \"Congenital onset\"\n",
       "}\n",
       "<br/><b>TimeElement(element=OntologyClass(id=HP:0003593, label=Infantile onset))</b>: Hypotonia (HP:0001252): onset ontology_class {\n",
       "  id: \"HP:0003593\"\n",
       "  label: \"Infantile onset\"\n",
       "}\n",
       "<br/><b>TimeElement(element=Age(iso8601duration=P1Y))</b>: Delayed CNS myelination (HP:0002188): onset age {\n",
       "  iso8601duration: \"P1Y\"\n",
       "}\n",
       "</td></tr>\n",
       "<tr><td style=\"text-align: left;\">sibling II-1 (MALE; P9Y)</td><td style=\"text-align: left;\">Gillespie syndrome (OMIM:206700)</td><td style=\"text-align: left;\">NM_001378452.1:c.279+4_279+7del (homozygous)</td><td style=\"text-align: left;\">Axial hypotonia (HP:0008936): onset ; Intellectual disability, severe (HP:0010864): onset ; Cerebellar atrophy (HP:0001272): onset ; Delayed speech and language development (HP:0000750): onset ; Aniridia (HP:0000526): onset ; Cerebral atrophy (HP:0002059): onset ; Smooth philtrum (HP:0000319): onset ; Sparse hair (HP:0008070): onset ; Malar flattening (HP:0000272): onset ; Pulmonary valve atresia (HP:0010882): onset ; Ventricular septal defect (HP:0001629): onset ; Atrial septal defect (HP:0001631): onset ; excluded: Cerebral palsy (HP:0100021): onset ; excluded: Tremor (HP:0001337): onset ; excluded: Intellectual disability, mild (HP:0001256): onset ; excluded: Intellectual disability, moderate (HP:0002342): onset ; excluded: Delayed CNS myelination (HP:0002188): onset ; excluded: Seizure (HP:0001250): onset </td></tr>\n",
       "<tr><td style=\"text-align: left;\">sibling II-2 (FEMALE; P6Y)</td><td style=\"text-align: left;\">Gillespie syndrome (OMIM:206700)</td><td style=\"text-align: left;\">NM_001378452.1:c.279+4_279+7del (homozygous)</td><td style=\"text-align: left;\">Axial hypotonia (HP:0008936): onset ; Intellectual disability, severe (HP:0010864): onset ; Cerebellar atrophy (HP:0001272): onset ; Delayed speech and language development (HP:0000750): onset ; Aniridia (HP:0000526): onset ; Cerebral atrophy (HP:0002059): onset ; Smooth philtrum (HP:0000319): onset ; Sparse hair (HP:0008070): onset ; excluded: Cerebral palsy (HP:0100021): onset ; excluded: Tremor (HP:0001337): onset ; excluded: Intellectual disability, mild (HP:0001256): onset ; excluded: Intellectual disability, moderate (HP:0002342): onset ; excluded: Delayed CNS myelination (HP:0002188): onset ; excluded: Seizure (HP:0001250): onset ; excluded: Malar flattening (HP:0000272): onset ; excluded: Pulmonary valve atresia (HP:0010882): onset ; excluded: Ventricular septal defect (HP:0001629): onset ; excluded: Atrial septal defect (HP:0001631): onset </td></tr>\n",
       "<tr><td style=\"text-align: left;\">Case 1 (Patient 6) (MALE; P9Y)</td><td style=\"text-align: left;\">Gillespie syndrome (OMIM:206700)</td><td style=\"text-align: left;\">NM_001378452.1:c.7660G>A (heterozygous)</td><td style=\"text-align: left;\">Delayed ability to walk (HP:0031936): onset ; Gait disturbance (HP:0001288): onset ; Dysarthria (HP:0001260): onset ; Delayed speech and language development (HP:0000750): onset ; Truncal titubation (HP:0030147): onset ; Dysmetria (HP:0001310): onset ; excluded: Cerebral palsy (HP:0100021): onset ; excluded: Intention tremor (HP:0002080): onset ; excluded: Intellectual disability, mild (HP:0001256): onset ; excluded: Intellectual disability, moderate (HP:0002342): onset ; excluded: Intellectual disability, severe (HP:0010864): onset ; excluded: Developmental regression (HP:0002376): onset ; excluded: Diffuse cerebellar atrophy (HP:0100275): onset <br/><b>TimeElement(element=Age(iso8601duration=P21D))</b>: Hypotonia (HP:0001252): onset age {\n",
       "  iso8601duration: \"P21D\"\n",
       "}\n",
       "; Persistent pupillary membrane (HP:0009917): onset age {\n",
       "  iso8601duration: \"P21D\"\n",
       "}\n",
       "; Hypoplasia of the iris (HP:0007676): onset age {\n",
       "  iso8601duration: \"P21D\"\n",
       "}\n",
       "; Mydriasis (HP:0011499): onset age {\n",
       "  iso8601duration: \"P21D\"\n",
       "}\n",
       "; Hypopigmentation of the fundus (HP:0007894): onset age {\n",
       "  iso8601duration: \"P21D\"\n",
       "}\n",
       "<br/><b>TimeElement(element=OntologyClass(id=HP:0003593, label=Infantile onset))</b>: Delayed ability to sit (HP:0025336): onset ontology_class {\n",
       "  id: \"HP:0003593\"\n",
       "  label: \"Infantile onset\"\n",
       "}\n",
       "<br/><b>TimeElement(element=Age(iso8601duration=P11M))</b>: Jerky ocular pursuit movements (HP:0008003): onset age {\n",
       "  iso8601duration: \"P11M\"\n",
       "}\n",
       "<br/><b>TimeElement(element=Age(iso8601duration=P4Y2M))</b>: Cerebellar vermis atrophy (HP:0006855): onset age {\n",
       "  iso8601duration: \"P4Y2M\"\n",
       "}\n",
       "</td></tr>\n",
       "<tr><td style=\"text-align: left;\">Case 2 (Patient 19) (FEMALE; P17Y)</td><td style=\"text-align: left;\">Gillespie syndrome (OMIM:206700)</td><td style=\"text-align: left;\">NM_001378452.1:c.7661G>T (heterozygous)</td><td style=\"text-align: left;\">Intention tremor (HP:0002080): onset ; Hypotonia (HP:0001252): onset ; Dysarthria (HP:0001260): onset ; Intellectual disability, moderate (HP:0002342): onset ; Global developmental delay (HP:0001263): onset ; Mydriasis (HP:0011499): onset ; excluded: Cerebral palsy (HP:0100021): onset ; excluded: Intellectual disability, mild (HP:0001256): onset ; excluded: Intellectual disability, severe (HP:0010864): onset ; excluded: Developmental regression (HP:0002376): onset <br/><b>TimeElement(element=OntologyClass(id=HP:0003593, label=Infantile onset))</b>: Motor delay (HP:0001270): onset ontology_class {\n",
       "  id: \"HP:0003593\"\n",
       "  label: \"Infantile onset\"\n",
       "}\n",
       "<br/><b>TimeElement(element=Age(iso8601duration=P2Y))</b>: Ataxia (HP:0001251): onset age {\n",
       "  iso8601duration: \"P2Y\"\n",
       "}\n",
       "; Diffuse cerebellar atrophy (HP:0100275): onset age {\n",
       "  iso8601duration: \"P2Y\"\n",
       "}\n",
       "; Cerebellar vermis atrophy (HP:0006855): onset age {\n",
       "  iso8601duration: \"P2Y\"\n",
       "}\n",
       "; Truncal titubation (HP:0030147): onset age {\n",
       "  iso8601duration: \"P2Y\"\n",
       "}\n",
       "; Hypoplasia of the iris (HP:0007676): onset age {\n",
       "  iso8601duration: \"P2Y\"\n",
       "}\n",
       "</td></tr>\n",
       "</table>"
      ],
      "text/plain": [
       "<IPython.core.display.HTML object>"
      ]
     },
     "metadata": {},
     "output_type": "display_data"
    }
   ],
   "source": [
    "table = IndividualTable(cvalidator.get_error_free_individual_list())\n",
    "display(HTML(table.to_html()))"
   ]
  },
  {
   "cell_type": "code",
   "execution_count": 12,
   "metadata": {},
   "outputs": [
    {
     "name": "stdout",
     "output_type": "stream",
     "text": [
      "[pyphetools] Ingested 96 GA4GH phenopackets.\n",
      "[INFO] Extracted 22 from 96 phenopackets with OMIM:206700\n",
      "\n",
      "\tGillespie syndrome (OMIM:206700): n=22\n",
      "We found a total of 80 unique HPO terms\n",
      "Extracted disease: Gillespie syndrome (OMIM:206700)\n",
      "Wrote HPOA disease file to OMIM-206700.tab\n"
     ]
    }
   ],
   "source": [
    "pmid = \"PMID:35743164\"\n",
    "df = timporter.create_hpoa_from_phenopackets(pmid=pmid, mode_of_inheritance=Moi.AD, target=\"OMIM:206700\")"
   ]
  }
 ],
 "metadata": {
  "kernelspec": {
   "display_name": "ps24venv",
   "language": "python",
   "name": "python3"
  },
  "language_info": {
   "codemirror_mode": {
    "name": "ipython",
    "version": 3
   },
   "file_extension": ".py",
   "mimetype": "text/x-python",
   "name": "python",
   "nbconvert_exporter": "python",
   "pygments_lexer": "ipython3",
   "version": "3.12.4"
  }
 },
 "nbformat": 4,
 "nbformat_minor": 2
}
