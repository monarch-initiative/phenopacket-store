{
 "cells": [
  {
   "cell_type": "markdown",
   "metadata": {},
   "source": [
    "# AHDC1\n",
    "[Xia-Gibbs syndrome (XIGIS)](https://omim.org/entry/615829) is caused by heterozygous mutation in the AHDC1 gene."
   ]
  },
  {
   "cell_type": "code",
   "execution_count": 1,
   "metadata": {},
   "outputs": [
    {
     "name": "stdout",
     "output_type": "stream",
     "text": [
      "Using pyphetools version 0.9.117\n"
     ]
    }
   ],
   "source": [
    "from pyphetools.creation import TemplateImporter, Moi\n",
    "from pyphetools.visualization import IndividualTable, QcVisualizer\n",
    "from IPython.display import display, HTML\n",
    "import pyphetools\n",
    "print(f\"Using pyphetools version {pyphetools.__version__}\")"
   ]
  },
  {
   "cell_type": "code",
   "execution_count": 2,
   "metadata": {},
   "outputs": [],
   "source": [
    "template = \"input/AHDC1_XIGIS_individuals.xlsx\"\n",
    "created_by = \"0000-0002-0736-9199\""
   ]
  },
  {
   "cell_type": "code",
   "execution_count": 3,
   "metadata": {},
   "outputs": [
    {
     "name": "stdout",
     "output_type": "stream",
     "text": [
      "HPO version 2025-01-16\n",
      "Created encoders for 208 fields\n",
      "Importing OMIM:615829, Xia-Gibbs syndrome, HGNC:25230, AHDC1,  NM_001371928.1\n",
      "We output 65 GA4GH phenopackets to the directory phenopackets\n"
     ]
    }
   ],
   "source": [
    "del_set = {\"DEL:AHDC1 gene\", \"DEL: 58kb\", \"DEL: 17kb\"}\n",
    "timporter = TemplateImporter(template=template,  created_by=created_by)\n",
    "individual_list, cvalidator = timporter.import_phenopackets_from_template(deletions=del_set)"
   ]
  },
  {
   "cell_type": "code",
   "execution_count": 4,
   "metadata": {},
   "outputs": [
    {
     "data": {
      "text/html": [
       "<h2>Cohort validation</h2>\n",
       "<p>Errors found with 48 of 65 phenopackets.</p>\n",
       "<table style=\"border: 2px solid black; align: \"left\">\n",
       "<caption>Error counts</caption>\n",
       "<tr><th style=\"text-align: left;font-weight: bold;\">Level</th><th style=\"text-align: left;font-weight: bold;\">Error category</th><th style=\"text-align: left;font-weight: bold;\">Count</th></tr>\n",
       "<tr><td style=\"text-align: left;\">ERROR</td><td style=\"text-align: left;\">CONFLICT</td><td style=\"text-align: left;\">3</td></tr>\n",
       "<tr><td style=\"text-align: left;\">WARNING</td><td style=\"text-align: left;\">REDUNDANT</td><td style=\"text-align: left;\">122</td></tr>\n",
       "</table>\n",
       "<p>A total of 125 issues were fixed and no individual was removed from the cohort.</p>"
      ],
      "text/plain": [
       "<IPython.core.display.HTML object>"
      ]
     },
     "metadata": {},
     "output_type": "display_data"
    }
   ],
   "source": [
    "qc = QcVisualizer(cohort_validator=cvalidator)\n",
    "display(HTML(qc.to_summary_html()))"
   ]
  },
  {
   "cell_type": "code",
   "execution_count": 5,
   "metadata": {},
   "outputs": [
    {
     "data": {
      "text/html": [
       "<table style=\"border: 2px solid black; align: \"left\">\n",
       "<caption>65 phenopackets - PMID:24791903 (n=4); PMID:27148574 (n=7); PMID:29230160 (n=1); PMID:30152016 (n=10); PMID:33372375 (n=1); PMID:34950897 (n=8); PMID:34073322 (n=1); PMID:31182893 (n=1); PMID:32256298 (n=1); PMID:36157999 (n=1); PMID:38357260 (n=2); PMID:30729726 (n=2); PMID:34229113 (n=4); PMID:35716097 (n=5); PMID:39359946 (n=2); PMID:29696776 (n=14); PMID:30622101 (n=1)</caption>\n",
       "<tr><th style=\"text-align: left;font-weight: bold;\">Individual</th><th style=\"text-align: left;font-weight: bold;\">Disease</th><th style=\"text-align: left;font-weight: bold;\">Genotype</th><th style=\"text-align: left;font-weight: bold;\">Phenotypic features</th></tr>\n",
       "<tr><td style=\"text-align: left;\">Patient 1 (FEMALE; P1Y6M)</td><td style=\"text-align: left;\">Xia-Gibbs syndrome (OMIM:615829)</td><td style=\"text-align: left;\">NM_001371928.1:c.2373_2374del (heterozygous)</td><td style=\"text-align: left;\">Global developmental delay (HP:0001263): onset ; Delayed speech and language development (HP:0000750): onset ; Delayed ability to sit (HP:0025336): onset ; Delayed ability to walk (HP:0031936): onset ; Failure to thrive (HP:0001508): onset ; Low-set ears (HP:0000369): onset ; Esotropia (HP:0000565): onset ; Upslanted palpebral fissure (HP:0000582): onset ; Hypermetropia (HP:0000540): onset ; Horizontal eyebrow (HP:0011228): onset ; Depressed nasal bridge (HP:0005280): onset ; Anteverted nares (HP:0000463): onset ; Micrognathia (HP:0000347): onset ; Tented upper lip vermilion (HP:0010804): onset ; High palate (HP:0000218): onset ; Laryngomalacia (HP:0001601): onset ; Spinal muscular atrophy (HP:0007269): onset ; Progressive muscle weakness (HP:0003323): onset ; Feeding difficulties (HP:0011968): onset ; Autistic behavior (HP:0000729): onset ; Thin corpus callosum (HP:0033725): onset ; Simplified gyral pattern (HP:0009879): onset ; Delayed CNS myelination (HP:0002188): onset ; Retrocerebellar cyst (HP:0006951): onset ; Bruxism (HP:0003763): onset ; Clinodactyly (HP:0030084): onset ; Small hand (HP:0200055): onset ; Short foot (HP:0001773): onset ; Positional foot deformity (HP:0005656): onset ; Hepatomegaly (HP:0002240): onset ; Obstructive sleep apnea (HP:0002870): onset ; Cerebral visual impairment (HP:0100704): onset ; Relative macrocephaly (HP:0004482): onset ; Shield chest (HP:0000914): onset ; Wide intermamillary distance (HP:0006610): onset ; excluded: Absent speech (HP:0001344): onset ; excluded: Downslanted palpebral fissures (HP:0000494): onset ; excluded: Hypertelorism (HP:0000316): onset ; excluded: Ptosis (HP:0000508): onset ; excluded: Narrow mouth (HP:0000160): onset ; excluded: Tracheomalacia (HP:0002779): onset ; excluded: Focal emotional seizure with laughing (HP:0010821): onset ; excluded: Widely spaced teeth (HP:0000687): onset ; excluded: Prominent fingertip pads (HP:0001212): onset ; excluded: Cerebral palsy (HP:0100021): onset ; excluded: Plagiocephaly (HP:0001357): onset <br/><b>TimeElement(element=OntologyClass(id=HP:0003577, label=Congenital onset))</b>: Hypotonia (HP:0001252): onset ontology_class {\n",
       "  id: \"HP:0003577\"\n",
       "  label: \"Congenital onset\"\n",
       "}\n",
       "</td></tr>\n",
       "<tr><td style=\"text-align: left;\">Patient 2 (FEMALE; P4Y)</td><td style=\"text-align: left;\">Xia-Gibbs syndrome (OMIM:615829)</td><td style=\"text-align: left;\">NM_001371928.1:c.2898del (heterozygous)</td><td style=\"text-align: left;\">Global developmental delay (HP:0001263): onset ; Intellectual disability, moderate (HP:0002342): onset ; Delayed speech and language development (HP:0000750): onset ; Delayed ability to sit (HP:0025336): onset ; Delayed ability to walk (HP:0031936): onset ; Failure to thrive (HP:0001508): onset ; Upslanted palpebral fissure (HP:0000582): onset ; Protruding ear (HP:0000411): onset ; Small earlobe (HP:0000385): onset ; Depressed nasal bridge (HP:0005280): onset ; Hypoplasia of the corpus callosum (HP:0002079): onset ; Simplified gyral pattern (HP:0009879): onset ; Delayed CNS myelination (HP:0002188): onset ; Chronic otitis media (HP:0000389): onset ; Obstructive sleep apnea (HP:0002870): onset ; excluded: Intellectual disability, mild (HP:0001256): onset ; excluded: Absent speech (HP:0001344): onset ; excluded: Esotropia (HP:0000565): onset ; excluded: Downslanted palpebral fissures (HP:0000494): onset ; excluded: Hypertelorism (HP:0000316): onset ; excluded: Ptosis (HP:0000508): onset ; excluded: Hypermetropia (HP:0000540): onset ; excluded: Horizontal eyebrow (HP:0011228): onset ; excluded: Anteverted nares (HP:0000463): onset ; excluded: Micrognathia (HP:0000347): onset ; excluded: Tented upper lip vermilion (HP:0010804): onset ; excluded: High palate (HP:0000218): onset ; excluded: Narrow mouth (HP:0000160): onset ; excluded: Laryngomalacia (HP:0001601): onset ; excluded: Tracheomalacia (HP:0002779): onset ; excluded: Feeding difficulties (HP:0011968): onset ; excluded: Focal emotional seizure with laughing (HP:0010821): onset ; excluded: Autistic behavior (HP:0000729): onset ; excluded: Retrocerebellar cyst (HP:0006951): onset ; excluded: Widely spaced teeth (HP:0000687): onset ; excluded: Bruxism (HP:0003763): onset ; excluded: Clinodactyly (HP:0030084): onset ; excluded: Prominent fingertip pads (HP:0001212): onset ; excluded: Small hand (HP:0200055): onset ; excluded: Short foot (HP:0001773): onset ; excluded: Positional foot deformity (HP:0005656): onset ; excluded: Hepatomegaly (HP:0002240): onset ; excluded: Cerebral palsy (HP:0100021): onset ; excluded: Cerebral visual impairment (HP:0100704): onset ; excluded: Plagiocephaly (HP:0001357): onset ; excluded: Relative macrocephaly (HP:0004482): onset ; excluded: Shield chest (HP:0000914): onset ; excluded: Wide intermamillary distance (HP:0006610): onset <br/><b>TimeElement(element=OntologyClass(id=HP:0003577, label=Congenital onset))</b>: Hypotonia (HP:0001252): onset ontology_class {\n",
       "  id: \"HP:0003577\"\n",
       "  label: \"Congenital onset\"\n",
       "}\n",
       "</td></tr>\n",
       "<tr><td style=\"text-align: left;\">Patient 3 (MALE; P8Y)</td><td style=\"text-align: left;\">Xia-Gibbs syndrome (OMIM:615829)</td><td style=\"text-align: left;\">NM_001371928.1:c.2373_2374del (heterozygous)</td><td style=\"text-align: left;\">Global developmental delay (HP:0001263): onset ; Intellectual disability, mild (HP:0001256): onset ; Delayed speech and language development (HP:0000750): onset ; Delayed ability to walk (HP:0031936): onset ; Failure to thrive (HP:0001508): onset ; Low-set ears (HP:0000369): onset ; Downslanted palpebral fissures (HP:0000494): onset ; Hypertelorism (HP:0000316): onset ; Ptosis (HP:0000508): onset ; Horizontal eyebrow (HP:0011228): onset ; Protruding ear (HP:0000411): onset ; Micrognathia (HP:0000347): onset ; Narrow mouth (HP:0000160): onset ; Trismus (HP:0000211): onset ; Laryngomalacia (HP:0001601): onset ; Feeding difficulties (HP:0011968): onset ; Impaired mastication (HP:0005216): onset ; Micropenis (HP:0000054): onset ; Seizure (HP:0001250): onset ; Hypoplasia of the corpus callosum (HP:0002079): onset ; Simplified gyral pattern (HP:0009879): onset ; Delayed CNS myelination (HP:0002188): onset ; Retrocerebellar cyst (HP:0006951): onset ; Tapered finger (HP:0001182): onset ; Narrow nail (HP:0011313): onset ; Obstructive sleep apnea (HP:0002870): onset ; Plagiocephaly (HP:0001357): onset ; excluded: Intellectual disability, moderate (HP:0002342): onset ; excluded: Absent speech (HP:0001344): onset ; excluded: Delayed ability to sit (HP:0025336): onset ; excluded: Esotropia (HP:0000565): onset ; excluded: Upslanted palpebral fissure (HP:0000582): onset ; excluded: Hypermetropia (HP:0000540): onset ; excluded: Depressed nasal bridge (HP:0005280): onset ; excluded: Anteverted nares (HP:0000463): onset ; excluded: Tented upper lip vermilion (HP:0010804): onset ; excluded: High palate (HP:0000218): onset ; excluded: Tracheomalacia (HP:0002779): onset ; excluded: Focal emotional seizure with laughing (HP:0010821): onset ; excluded: Autistic behavior (HP:0000729): onset ; excluded: Widely spaced teeth (HP:0000687): onset ; excluded: Bruxism (HP:0003763): onset ; excluded: Clinodactyly (HP:0030084): onset ; excluded: Prominent fingertip pads (HP:0001212): onset ; excluded: Small hand (HP:0200055): onset ; excluded: Short foot (HP:0001773): onset ; excluded: Positional foot deformity (HP:0005656): onset ; excluded: Hepatomegaly (HP:0002240): onset ; excluded: Cerebral palsy (HP:0100021): onset ; excluded: Cerebral visual impairment (HP:0100704): onset ; excluded: Relative macrocephaly (HP:0004482): onset ; excluded: Ventricular septal defect (HP:0001629): onset ; excluded: Shield chest (HP:0000914): onset ; excluded: Wide intermamillary distance (HP:0006610): onset <br/><b>TimeElement(element=OntologyClass(id=HP:0003577, label=Congenital onset))</b>: Hypotonia (HP:0001252): onset ontology_class {\n",
       "  id: \"HP:0003577\"\n",
       "  label: \"Congenital onset\"\n",
       "}\n",
       "</td></tr>\n",
       "<tr><td style=\"text-align: left;\">Patient 4 (MALE; P11Y)</td><td style=\"text-align: left;\">Xia-Gibbs syndrome (OMIM:615829)</td><td style=\"text-align: left;\">NM_001371928.1:c.2547del (heterozygous)</td><td style=\"text-align: left;\">Global developmental delay (HP:0001263): onset ; Intellectual disability, moderate (HP:0002342): onset ; Absent speech (HP:0001344): onset ; Delayed ability to sit (HP:0025336): onset ; Delayed ability to walk (HP:0031936): onset ; Gait disturbance (HP:0001288): onset ; Failure to thrive (HP:0001508): onset ; Esotropia (HP:0000565): onset ; Hypertelorism (HP:0000316): onset ; Hypermetropia (HP:0000540): onset ; Horizontal eyebrow (HP:0011228): onset ; Uplifted earlobe (HP:0009909): onset ; Depressed nasal bridge (HP:0005280): onset ; Anteverted nares (HP:0000463): onset ; Tented upper lip vermilion (HP:0010804): onset ; Tracheomalacia (HP:0002779): onset ; Snoring (HP:0025267): onset ; Spinal muscular atrophy (HP:0007269): onset ; Tube feeding (HP:0033454): onset ; Constipation (HP:0002019): onset ; Autistic behavior (HP:0000729): onset ; Hypoplasia of the corpus callosum (HP:0002079): onset ; Delayed CNS myelination (HP:0002188): onset ; Widely spaced teeth (HP:0000687): onset ; Prominent fingertip pads (HP:0001212): onset ; Small hand (HP:0200055): onset ; Short foot (HP:0001773): onset ; Scoliosis (HP:0002650): onset ; Relative macrocephaly (HP:0004482): onset ; excluded: Intellectual disability, mild (HP:0001256): onset ; excluded: Upslanted palpebral fissure (HP:0000582): onset ; excluded: Downslanted palpebral fissures (HP:0000494): onset ; excluded: Ptosis (HP:0000508): onset ; excluded: Micrognathia (HP:0000347): onset ; excluded: High palate (HP:0000218): onset ; excluded: Narrow mouth (HP:0000160): onset ; excluded: Laryngomalacia (HP:0001601): onset ; excluded: Micropenis (HP:0000054): onset ; excluded: Simplified gyral pattern (HP:0009879): onset ; excluded: Retrocerebellar cyst (HP:0006951): onset ; excluded: Bruxism (HP:0003763): onset ; excluded: Clinodactyly (HP:0030084): onset ; excluded: Positional foot deformity (HP:0005656): onset ; excluded: Hepatomegaly (HP:0002240): onset ; excluded: Cerebral palsy (HP:0100021): onset ; excluded: Obstructive sleep apnea (HP:0002870): onset ; excluded: Cerebral visual impairment (HP:0100704): onset ; excluded: Plagiocephaly (HP:0001357): onset ; excluded: Ventricular septal defect (HP:0001629): onset ; excluded: Shield chest (HP:0000914): onset ; excluded: Wide intermamillary distance (HP:0006610): onset <br/><b>TimeElement(element=OntologyClass(id=HP:0003577, label=Congenital onset))</b>: Hypotonia (HP:0001252): onset ontology_class {\n",
       "  id: \"HP:0003577\"\n",
       "  label: \"Congenital onset\"\n",
       "}\n",
       "<br/><b>TimeElement(element=Age(iso8601duration=P8Y))</b>: Focal emotional seizure with laughing (HP:0010821): onset age {\n",
       "  iso8601duration: \"P8Y\"\n",
       "}\n",
       "</td></tr>\n",
       "<tr><td style=\"text-align: left;\">Patient 1 (MALE; P2Y)</td><td style=\"text-align: left;\">Xia-Gibbs syndrome (OMIM:615829)</td><td style=\"text-align: left;\">NM_001371928.1:c.1945del (heterozygous)</td><td style=\"text-align: left;\">Global developmental delay (HP:0001263): onset ; Absent speech (HP:0001344): onset ; Delayed ability to walk (HP:0031936): onset ; Gait disturbance (HP:0001288): onset ; Hypotonia (HP:0001252): onset ; Exotropia (HP:0000577): onset ; Autistic behavior (HP:0000729): onset ; Poor speech (HP:0002465): onset ; Short stature (HP:0004322): onset ; Omphalocele (HP:0001539): onset ; Cryptorchidism (HP:0000028): onset ; Sleep apnea (HP:0010535): onset ; Atrial septal defect (HP:0001631): onset ; excluded: Esotropia (HP:0000565): onset ; excluded: Ptosis (HP:0000508): onset ; excluded: Feeding difficulties (HP:0011968): onset ; excluded: Periventricular leukomalacia (HP:0006970): onset ; excluded: Subependymal cysts (HP:0002416): onset ; excluded: Reduced cerebral white matter volume (HP:0034295): onset ; excluded: Thin corpus callosum (HP:0033725): onset ; excluded: Retrocerebellar cyst (HP:0006951): onset ; excluded: Cerebral hypomyelination (HP:0006808): onset ; excluded: Hypoplasia of the brainstem (HP:0002365): onset ; excluded: Extra-axial cerebrospinal fluid accumulation (HP:0012510): onset ; excluded: Arachnoid cyst (HP:0100702): onset ; excluded: Subcortical U fiber lesion (HP:6000995): onset ; excluded: Cerebral palsy (HP:0100021): onset ; excluded: Spastic tetraparesis (HP:0001285): onset ; excluded: Gait ataxia (HP:0002066): onset ; excluded: Cerebral visual impairment (HP:0100704): onset ; excluded: Talipes equinovarus (HP:0001762): onset ; excluded: Pes cavus (HP:0001761): onset ; excluded: Sagittal craniosynostosis (HP:0004442): onset </td></tr>\n",
       "</table>"
      ],
      "text/plain": [
       "<IPython.core.display.HTML object>"
      ]
     },
     "metadata": {},
     "output_type": "display_data"
    }
   ],
   "source": [
    "table = IndividualTable(cvalidator.get_error_free_individual_list())\n",
    "display(HTML(table.to_html(5)))"
   ]
  },
  {
   "cell_type": "code",
   "execution_count": 6,
   "metadata": {},
   "outputs": [
    {
     "name": "stdout",
     "output_type": "stream",
     "text": [
      "[pyphetools] Ingested 65 GA4GH phenopackets.\n",
      "[INFO] Extracted 65 from 65 phenopackets with OMIM:615829\n",
      "\n",
      "\tXia-Gibbs syndrome (OMIM:615829): n=65\n",
      "We found a total of 187 unique HPO terms\n",
      "Extracted disease: Xia-Gibbs syndrome (OMIM:615829)\n",
      "Wrote HPOA disease file to OMIM-615829.tab\n"
     ]
    }
   ],
   "source": [
    "pmid = \"PMID:24791903\"\n",
    "df = timporter.create_hpoa_from_phenopackets(pmid=pmid, mode_of_inheritance=Moi.AD, target=\"OMIM:615829\")"
   ]
  }
 ],
 "metadata": {
  "kernelspec": {
   "display_name": "ps24venv",
   "language": "python",
   "name": "python3"
  },
  "language_info": {
   "codemirror_mode": {
    "name": "ipython",
    "version": 3
   },
   "file_extension": ".py",
   "mimetype": "text/x-python",
   "name": "python",
   "nbconvert_exporter": "python",
   "pygments_lexer": "ipython3",
   "version": "3.12.9"
  }
 },
 "nbformat": 4,
 "nbformat_minor": 2
}
