{
 "cells": [
  {
   "cell_type": "markdown",
   "metadata": {},
   "source": [
    "# SNUPN\n",
    "[autosomal recessive limb-girdle muscular dystrophy-29 (LGMDR29)](https://omim.org/entry/620793) is caused by homozygous or compound heterozygous mutation in the SNUPN gene."
   ]
  },
  {
   "cell_type": "code",
   "execution_count": 1,
   "metadata": {},
   "outputs": [
    {
     "name": "stdout",
     "output_type": "stream",
     "text": [
      "Using pyphetools version 0.9.115\n"
     ]
    }
   ],
   "source": [
    "from pyphetools.creation import TemplateImporter, Moi\n",
    "from pyphetools.visualization import IndividualTable, QcVisualizer\n",
    "from IPython.display import display, HTML\n",
    "import pyphetools\n",
    "print(f\"Using pyphetools version {pyphetools.__version__}\")"
   ]
  },
  {
   "cell_type": "code",
   "execution_count": 2,
   "metadata": {},
   "outputs": [],
   "source": [
    "template = \"input/SNUPN_LGMDR29_individuals.xlsx\"\n",
    "created_by = \"0000-0002-0736-9199\""
   ]
  },
  {
   "cell_type": "code",
   "execution_count": 11,
   "metadata": {},
   "outputs": [
    {
     "name": "stdout",
     "output_type": "stream",
     "text": [
      "HPO version 2024-12-12\n",
      "Created encoders for 68 fields\n",
      "Importing OMIM:620793, Muscular dystrophy, limb-girdle, autosomal recessive 29, HGNC:14245, SNUPN,  NM_005701.4\n",
      "We output 23 GA4GH phenopackets to the directory phenopackets\n"
     ]
    }
   ],
   "source": [
    "timporter = TemplateImporter(template=template,  created_by=created_by)\n",
    "individual_list, cvalidator = timporter.import_phenopackets_from_template()"
   ]
  },
  {
   "cell_type": "code",
   "execution_count": 12,
   "metadata": {},
   "outputs": [
    {
     "data": {
      "text/html": [
       "<h2>Cohort validation</h2>\n",
       "<p>Errors found with 19 of 23 phenopackets.</p>\n",
       "<table style=\"border: 2px solid black; align: \"left\">\n",
       "<caption>Error counts</caption>\n",
       "<tr><th style=\"text-align: left;font-weight: bold;\">Level</th><th style=\"text-align: left;font-weight: bold;\">Error category</th><th style=\"text-align: left;font-weight: bold;\">Count</th></tr>\n",
       "<tr><td style=\"text-align: left;\">WARNING</td><td style=\"text-align: left;\">REDUNDANT</td><td style=\"text-align: left;\">37</td></tr>\n",
       "</table>\n",
       "<p>A total of 37 issues were fixed and no individual was removed from the cohort.</p>"
      ],
      "text/plain": [
       "<IPython.core.display.HTML object>"
      ]
     },
     "metadata": {},
     "output_type": "display_data"
    }
   ],
   "source": [
    "qc = QcVisualizer(cohort_validator=cvalidator)\n",
    "display(HTML(qc.to_summary_html()))"
   ]
  },
  {
   "cell_type": "code",
   "execution_count": 13,
   "metadata": {},
   "outputs": [
    {
     "data": {
      "text/html": [
       "<table style=\"border: 2px solid black; align: \"left\">\n",
       "<caption>23 phenopackets - PMID:38413582 (n=18); PMID:38366623 (n=5)</caption>\n",
       "<tr><th style=\"text-align: left;font-weight: bold;\">Individual</th><th style=\"text-align: left;font-weight: bold;\">Disease</th><th style=\"text-align: left;font-weight: bold;\">Genotype</th><th style=\"text-align: left;font-weight: bold;\">Phenotypic features</th></tr>\n",
       "<tr><td style=\"text-align: left;\">Family 1 individual II:1 (FEMALE; P9Y)</td><td style=\"text-align: left;\">Muscular dystrophy, limb-girdle, autosomal recessive 29 (OMIM:620793)</td><td style=\"text-align: left;\">NM_005701.4:c.926T>G (homozygous)</td><td style=\"text-align: left;\">Difficulty climbing stairs (HP:0003551): onset ; Proximal muscle weakness in upper limbs (HP:0008997): onset ; Distal upper limb muscle weakness (HP:0008959): onset ; Proximal muscle weakness in lower limbs (HP:0008994): onset ; Distal lower limb muscle weakness (HP:0009053): onset ; Axial muscle weakness (HP:0003327): onset ; Unsteady gait (HP:0002317): onset ; Limb joint contracture (HP:0003121): onset ; Pain insensitivity (HP:0007021): onset ; Motor delay (HP:0001270): onset ; Scoliosis (HP:0002650): onset ; Increased endomysial connective tissue (HP:0100297): onset ; Highly elevated creatine kinase (HP:0030234): onset ; Calf muscle pseudohypertrophy (HP:0003707): onset ; Gowers sign (HP:0003391): onset ; EMG: myopathic abnormalities (HP:0003458): onset ; excluded: Loss of ambulation (HP:0002505): onset ; excluded: Spinal rigidity (HP:0003306): onset ; excluded: Hyperlordosis (HP:0003307): onset ; excluded: Respiratory insufficiency (HP:0002093): onset ; excluded: Developmental cataract (HP:0000519): onset </td></tr>\n",
       "<tr><td style=\"text-align: left;\">Family 2 individual II:1 (MALE; P10Y)</td><td style=\"text-align: left;\">Muscular dystrophy, limb-girdle, autosomal recessive 29 (OMIM:620793)</td><td style=\"text-align: left;\"><ul> <li>NM_005701.4:c.760-1G>A (heterozygous)</li> <li>NM_005701.4:c.958del (heterozygous)</li> </ul></td><td style=\"text-align: left;\">Difficulty climbing stairs (HP:0003551): onset ; Proximal muscle weakness in upper limbs (HP:0008997): onset ; Proximal muscle weakness in lower limbs (HP:0008994): onset ; Axial muscle weakness (HP:0003327): onset ; Unsteady gait (HP:0002317): onset ; Motor delay (HP:0001270): onset ; Cerebellar atrophy (HP:0001272): onset ; Increased endomysial connective tissue (HP:0100297): onset ; EMG: myopathic abnormalities (HP:0003458): onset ; Developmental cataract (HP:0000519): onset ; excluded: Loss of ambulation (HP:0002505): onset ; excluded: Cardiomyopathy (HP:0001638): onset ; excluded: Distal upper limb muscle weakness (HP:0008959): onset ; excluded: Distal lower limb muscle weakness (HP:0009053): onset ; excluded: Limb joint contracture (HP:0003121): onset ; excluded: Pain insensitivity (HP:0007021): onset ; excluded: Short corpus callosum (HP:0200012): onset ; excluded: Spinal rigidity (HP:0003306): onset ; excluded: Hyperlordosis (HP:0003307): onset ; excluded: Scoliosis (HP:0002650): onset ; excluded: Ragged-red muscle fibers (HP:0003200): onset ; excluded: Highly elevated creatine kinase (HP:0030234): onset ; excluded: Calf muscle pseudohypertrophy (HP:0003707): onset ; excluded: Gowers sign (HP:0003391): onset ; excluded: Respiratory insufficiency (HP:0002093): onset ; excluded: Microcephaly (HP:0000252): onset </td></tr>\n",
       "<tr><td style=\"text-align: left;\">Family 3 individual II:4 (MALE; P15Y)</td><td style=\"text-align: left;\">Muscular dystrophy, limb-girdle, autosomal recessive 29 (OMIM:620793)</td><td style=\"text-align: left;\"><ul> <li>NM_005701.4:c.848C>G (heterozygous)</li> <li>NM_005701.4:c.922C>T (heterozygous)</li> </ul></td><td style=\"text-align: left;\">Loss of ambulation (HP:0002505): onset ; Proximal muscle weakness in upper limbs (HP:0008997): onset ; Proximal muscle weakness in lower limbs (HP:0008994): onset ; Distal lower limb muscle weakness (HP:0009053): onset ; Axial muscle weakness (HP:0003327): onset ; Limb joint contracture (HP:0003121): onset ; Motor delay (HP:0001270): onset ; Cerebellar atrophy (HP:0001272): onset ; Increased endomysial connective tissue (HP:0100297): onset ; Highly elevated creatine kinase (HP:0030234): onset ; Respiratory insufficiency (HP:0002093): onset ; EMG: myopathic abnormalities (HP:0003458): onset ; Developmental cataract (HP:0000519): onset ; excluded: Calf muscle pseudohypertrophy (HP:0003707): onset ; excluded: Microcephaly (HP:0000252): onset </td></tr>\n",
       "<tr><td style=\"text-align: left;\">Family 4 individual II:2 (MALE; P16Y)</td><td style=\"text-align: left;\">Muscular dystrophy, limb-girdle, autosomal recessive 29 (OMIM:620793)</td><td style=\"text-align: left;\">NM_005701.4:c.902_903del (homozygous)</td><td style=\"text-align: left;\">Proximal muscle weakness in upper limbs (HP:0008997): onset ; Distal upper limb muscle weakness (HP:0008959): onset ; Proximal muscle weakness in lower limbs (HP:0008994): onset ; Distal lower limb muscle weakness (HP:0009053): onset ; Axial muscle weakness (HP:0003327): onset ; Limb joint contracture (HP:0003121): onset ; Pain insensitivity (HP:0007021): onset ; Motor delay (HP:0001270): onset ; Scoliosis (HP:0002650): onset ; Increased endomysial connective tissue (HP:0100297): onset ; Highly elevated creatine kinase (HP:0030234): onset ; Calf muscle pseudohypertrophy (HP:0003707): onset ; Respiratory insufficiency (HP:0002093): onset ; Developmental cataract (HP:0000519): onset ; excluded: Cardiomyopathy (HP:0001638): onset ; excluded: Cerebellar atrophy (HP:0001272): onset ; excluded: Short corpus callosum (HP:0200012): onset ; excluded: Spinal rigidity (HP:0003306): onset ; excluded: Hyperlordosis (HP:0003307): onset ; excluded: Microcephaly (HP:0000252): onset <br/><b>TimeElement(element=Age(iso8601duration=P6Y))</b>: Loss of ambulation (HP:0002505): onset age {\n",
       "  iso8601duration: \"P6Y\"\n",
       "}\n",
       "</td></tr>\n",
       "<tr><td style=\"text-align: left;\">Family 4 individual II:3 (FEMALE; P13Y)</td><td style=\"text-align: left;\">Muscular dystrophy, limb-girdle, autosomal recessive 29 (OMIM:620793)</td><td style=\"text-align: left;\">NM_005701.4:c.902_903del (homozygous)</td><td style=\"text-align: left;\">Proximal muscle weakness in upper limbs (HP:0008997): onset ; Distal upper limb muscle weakness (HP:0008959): onset ; Proximal muscle weakness in lower limbs (HP:0008994): onset ; Distal lower limb muscle weakness (HP:0009053): onset ; Axial muscle weakness (HP:0003327): onset ; Limb joint contracture (HP:0003121): onset ; Motor delay (HP:0001270): onset ; Scoliosis (HP:0002650): onset ; Highly elevated creatine kinase (HP:0030234): onset ; Calf muscle pseudohypertrophy (HP:0003707): onset ; Respiratory insufficiency (HP:0002093): onset ; Decreased fetal movement (HP:0001558): onset ; excluded: Cardiomyopathy (HP:0001638): onset ; excluded: Spinal rigidity (HP:0003306): onset ; excluded: Hyperlordosis (HP:0003307): onset ; excluded: Developmental cataract (HP:0000519): onset ; excluded: Microcephaly (HP:0000252): onset <br/><b>TimeElement(element=Age(iso8601duration=P5Y))</b>: Loss of ambulation (HP:0002505): onset age {\n",
       "  iso8601duration: \"P5Y\"\n",
       "}\n",
       "</td></tr>\n",
       "<tr><td style=\"text-align: left;\">Family 5 individual II:4 (MALE; P3Y)</td><td style=\"text-align: left;\">Muscular dystrophy, limb-girdle, autosomal recessive 29 (OMIM:620793)</td><td style=\"text-align: left;\">NM_005701.4:c.899_900del (homozygous)</td><td style=\"text-align: left;\">Difficulty climbing stairs (HP:0003551): onset ; Proximal muscle weakness in upper limbs (HP:0008997): onset ; Distal upper limb muscle weakness (HP:0008959): onset ; Proximal muscle weakness in lower limbs (HP:0008994): onset ; Distal lower limb muscle weakness (HP:0009053): onset ; Axial muscle weakness (HP:0003327): onset ; Unsteady gait (HP:0002317): onset ; Limb joint contracture (HP:0003121): onset ; Motor delay (HP:0001270): onset ; Cerebellar atrophy (HP:0001272): onset ; Short corpus callosum (HP:0200012): onset ; Highly elevated creatine kinase (HP:0030234): onset ; Developmental cataract (HP:0000519): onset ; excluded: Loss of ambulation (HP:0002505): onset ; excluded: Cardiomyopathy (HP:0001638): onset ; excluded: Respiratory insufficiency (HP:0002093): onset ; excluded: Microcephaly (HP:0000252): onset </td></tr>\n",
       "<tr><td style=\"text-align: left;\">Family 6 individual II:3 (MALE; P3Y)</td><td style=\"text-align: left;\">Muscular dystrophy, limb-girdle, autosomal recessive 29 (OMIM:620793)</td><td style=\"text-align: left;\">NM_005701.4:c.899_900del (homozygous)</td><td style=\"text-align: left;\">Global developmental delay (HP:0001263): onset ; Proximal muscle weakness in upper limbs (HP:0008997): onset ; Distal upper limb muscle weakness (HP:0008959): onset ; Proximal muscle weakness in lower limbs (HP:0008994): onset ; Distal lower limb muscle weakness (HP:0009053): onset ; Axial muscle weakness (HP:0003327): onset ; Motor delay (HP:0001270): onset ; Scoliosis (HP:0002650): onset ; Highly elevated creatine kinase (HP:0030234): onset ; Calf muscle pseudohypertrophy (HP:0003707): onset ; EMG: myopathic abnormalities (HP:0003458): onset ; excluded: Cardiomyopathy (HP:0001638): onset ; excluded: Limb joint contracture (HP:0003121): onset ; excluded: Pain insensitivity (HP:0007021): onset ; excluded: Cerebellar atrophy (HP:0001272): onset ; excluded: Spinal rigidity (HP:0003306): onset ; excluded: Hyperlordosis (HP:0003307): onset ; excluded: Respiratory insufficiency (HP:0002093): onset ; excluded: Developmental cataract (HP:0000519): onset ; excluded: Microcephaly (HP:0000252): onset <br/><b>TimeElement(element=Age(iso8601duration=P6Y))</b>: Loss of ambulation (HP:0002505): onset age {\n",
       "  iso8601duration: \"P6Y\"\n",
       "}\n",
       "</td></tr>\n",
       "<tr><td style=\"text-align: left;\">Family 7 individual II:1 (MALE; P10Y)</td><td style=\"text-align: left;\">Muscular dystrophy, limb-girdle, autosomal recessive 29 (OMIM:620793)</td><td style=\"text-align: left;\">NM_005701.4:c.899_900del (homozygous)</td><td style=\"text-align: left;\">Proximal muscle weakness in upper limbs (HP:0008997): onset ; Distal upper limb muscle weakness (HP:0008959): onset ; Proximal muscle weakness in lower limbs (HP:0008994): onset ; Distal lower limb muscle weakness (HP:0009053): onset ; Axial muscle weakness (HP:0003327): onset ; Limb joint contracture (HP:0003121): onset ; Motor delay (HP:0001270): onset ; Scoliosis (HP:0002650): onset ; Abnormal muscle fiber morphology (HP:0004303): onset ; Respiratory insufficiency (HP:0002093): onset ; Developmental cataract (HP:0000519): onset ; excluded: Pain insensitivity (HP:0007021): onset ; excluded: Spinal rigidity (HP:0003306): onset ; excluded: Hyperlordosis (HP:0003307): onset ; excluded: Calf muscle pseudohypertrophy (HP:0003707): onset ; excluded: Microcephaly (HP:0000252): onset <br/><b>TimeElement(element=Age(iso8601duration=P7Y))</b>: Loss of ambulation (HP:0002505): onset age {\n",
       "  iso8601duration: \"P7Y\"\n",
       "}\n",
       "</td></tr>\n",
       "<tr><td style=\"text-align: left;\">Family 7 individual II:3 (FEMALE; P4Y)</td><td style=\"text-align: left;\">Muscular dystrophy, limb-girdle, autosomal recessive 29 (OMIM:620793)</td><td style=\"text-align: left;\">NM_005701.4:c.899_900del (homozygous)</td><td style=\"text-align: left;\">Proximal muscle weakness in upper limbs (HP:0008997): onset ; Distal upper limb muscle weakness (HP:0008959): onset ; Proximal muscle weakness in lower limbs (HP:0008994): onset ; Distal lower limb muscle weakness (HP:0009053): onset ; Axial muscle weakness (HP:0003327): onset ; Limb joint contracture (HP:0003121): onset ; Motor delay (HP:0001270): onset ; Scoliosis (HP:0002650): onset ; Highly elevated creatine kinase (HP:0030234): onset ; Respiratory insufficiency (HP:0002093): onset ; EMG: myopathic abnormalities (HP:0003458): onset ; excluded: Cardiomyopathy (HP:0001638): onset ; excluded: Pain insensitivity (HP:0007021): onset ; excluded: Spinal rigidity (HP:0003306): onset ; excluded: Hyperlordosis (HP:0003307): onset ; excluded: Calf muscle pseudohypertrophy (HP:0003707): onset ; excluded: Developmental cataract (HP:0000519): onset ; excluded: Microcephaly (HP:0000252): onset <br/><b>TimeElement(element=Age(iso8601duration=P7Y))</b>: Loss of ambulation (HP:0002505): onset age {\n",
       "  iso8601duration: \"P7Y\"\n",
       "}\n",
       "</td></tr>\n",
       "<tr><td style=\"text-align: left;\">Family 8 individual II:2 (MALE; P3Y6M)</td><td style=\"text-align: left;\">Muscular dystrophy, limb-girdle, autosomal recessive 29 (OMIM:620793)</td><td style=\"text-align: left;\"><ul> <li>NM_005701.4:c.787C>T (heterozygous)</li> <li>NM_005701.4:c.926T>G (heterozygous)</li> </ul></td><td style=\"text-align: left;\">Difficulty climbing stairs (HP:0003551): onset ; Proximal muscle weakness in upper limbs (HP:0008997): onset ; Proximal muscle weakness in lower limbs (HP:0008994): onset ; Axial muscle weakness (HP:0003327): onset ; Unsteady gait (HP:0002317): onset ; Limb joint contracture (HP:0003121): onset ; Motor delay (HP:0001270): onset ; Highly elevated creatine kinase (HP:0030234): onset ; Calf muscle pseudohypertrophy (HP:0003707): onset ; Gowers sign (HP:0003391): onset ; excluded: Loss of ambulation (HP:0002505): onset ; excluded: Distal upper limb muscle weakness (HP:0008959): onset ; excluded: Distal lower limb muscle weakness (HP:0009053): onset ; excluded: Spinal rigidity (HP:0003306): onset ; excluded: Hyperlordosis (HP:0003307): onset ; excluded: Scoliosis (HP:0002650): onset ; excluded: Respiratory insufficiency (HP:0002093): onset ; excluded: Developmental cataract (HP:0000519): onset ; excluded: Microcephaly (HP:0000252): onset </td></tr>\n",
       "<tr><td style=\"text-align: left;\">Family 9 individual II:1 (FEMALE; P18Y)</td><td style=\"text-align: left;\">Muscular dystrophy, limb-girdle, autosomal recessive 29 (OMIM:620793)</td><td style=\"text-align: left;\">NM_005701.4:c.926T>G (homozygous)</td><td style=\"text-align: left;\">Difficulty climbing stairs (HP:0003551): onset ; Proximal muscle weakness in upper limbs (HP:0008997): onset ; Proximal muscle weakness in lower limbs (HP:0008994): onset ; Distal lower limb muscle weakness (HP:0009053): onset ; Unsteady gait (HP:0002317): onset ; Limb joint contracture (HP:0003121): onset ; Increased endomysial connective tissue (HP:0100297): onset ; Highly elevated creatine kinase (HP:0030234): onset ; Gowers sign (HP:0003391): onset ; Respiratory insufficiency (HP:0002093): onset ; Areflexia (HP:0001284): onset ; excluded: Loss of ambulation (HP:0002505): onset ; excluded: Cardiomyopathy (HP:0001638): onset ; excluded: Distal upper limb muscle weakness (HP:0008959): onset ; excluded: Axial muscle weakness (HP:0003327): onset ; excluded: Pain insensitivity (HP:0007021): onset ; excluded: Motor delay (HP:0001270): onset ; excluded: Spinal rigidity (HP:0003306): onset ; excluded: Hyperlordosis (HP:0003307): onset ; excluded: Scoliosis (HP:0002650): onset ; excluded: Calf muscle pseudohypertrophy (HP:0003707): onset ; excluded: Developmental cataract (HP:0000519): onset ; excluded: Microcephaly (HP:0000252): onset </td></tr>\n",
       "<tr><td style=\"text-align: left;\">Family 9 individual II:2 (MALE; P16Y)</td><td style=\"text-align: left;\">Muscular dystrophy, limb-girdle, autosomal recessive 29 (OMIM:620793)</td><td style=\"text-align: left;\">NM_005701.4:c.926T>G (homozygous)</td><td style=\"text-align: left;\">Proximal muscle weakness in upper limbs (HP:0008997): onset ; Distal upper limb muscle weakness (HP:0008959): onset ; Proximal muscle weakness in lower limbs (HP:0008994): onset ; Distal lower limb muscle weakness (HP:0009053): onset ; Axial muscle weakness (HP:0003327): onset ; Limb joint contracture (HP:0003121): onset ; Hyperlordosis (HP:0003307): onset ; Scoliosis (HP:0002650): onset ; Increased endomysial connective tissue (HP:0100297): onset ; Highly elevated creatine kinase (HP:0030234): onset ; Respiratory insufficiency (HP:0002093): onset ; EMG: myopathic abnormalities (HP:0003458): onset ; Areflexia (HP:0001284): onset ; excluded: Cardiomyopathy (HP:0001638): onset ; excluded: Pain insensitivity (HP:0007021): onset ; excluded: Motor delay (HP:0001270): onset ; excluded: Spinal rigidity (HP:0003306): onset ; excluded: Calf muscle pseudohypertrophy (HP:0003707): onset ; excluded: Developmental cataract (HP:0000519): onset ; excluded: Microcephaly (HP:0000252): onset <br/><b>TimeElement(element=Age(iso8601duration=P16Y))</b>: Loss of ambulation (HP:0002505): onset age {\n",
       "  iso8601duration: \"P16Y\"\n",
       "}\n",
       "</td></tr>\n",
       "<tr><td style=\"text-align: left;\">Family 10 individual II:1 (FEMALE; P11Y)</td><td style=\"text-align: left;\">Muscular dystrophy, limb-girdle, autosomal recessive 29 (OMIM:620793)</td><td style=\"text-align: left;\">NM_005701.4:c.164G>A (homozygous)</td><td style=\"text-align: left;\">Proximal muscle weakness in upper limbs (HP:0008997): onset ; Distal upper limb muscle weakness (HP:0008959): onset ; Proximal muscle weakness in lower limbs (HP:0008994): onset ; Distal lower limb muscle weakness (HP:0009053): onset ; Limb joint contracture (HP:0003121): onset ; Motor delay (HP:0001270): onset ; Short corpus callosum (HP:0200012): onset ; Scoliosis (HP:0002650): onset ; Increased endomysial connective tissue (HP:0100297): onset ; Highly elevated creatine kinase (HP:0030234): onset ; Respiratory insufficiency (HP:0002093): onset ; Microcephaly (HP:0000252): onset ; excluded: Cardiomyopathy (HP:0001638): onset ; excluded: Axial muscle weakness (HP:0003327): onset ; excluded: Pain insensitivity (HP:0007021): onset ; excluded: Cerebellar atrophy (HP:0001272): onset ; excluded: Spinal rigidity (HP:0003306): onset ; excluded: Hyperlordosis (HP:0003307): onset ; excluded: Calf muscle pseudohypertrophy (HP:0003707): onset ; excluded: Developmental cataract (HP:0000519): onset <br/><b>TimeElement(element=Age(iso8601duration=P11Y))</b>: Loss of ambulation (HP:0002505): onset age {\n",
       "  iso8601duration: \"P11Y\"\n",
       "}\n",
       "</td></tr>\n",
       "<tr><td style=\"text-align: left;\">Family 11 individual II:1 (FEMALE; P13Y)</td><td style=\"text-align: left;\">Muscular dystrophy, limb-girdle, autosomal recessive 29 (OMIM:620793)</td><td style=\"text-align: left;\">NM_005701.4:c.926T>G (homozygous)</td><td style=\"text-align: left;\">Proximal muscle weakness in upper limbs (HP:0008997): onset ; Proximal muscle weakness in lower limbs (HP:0008994): onset ; Distal lower limb muscle weakness (HP:0009053): onset ; Axial muscle weakness (HP:0003327): onset ; Limb joint contracture (HP:0003121): onset ; Spinal rigidity (HP:0003306): onset ; Scoliosis (HP:0002650): onset ; Highly elevated creatine kinase (HP:0030234): onset ; EMG: myopathic abnormalities (HP:0003458): onset ; excluded: Cardiomyopathy (HP:0001638): onset ; excluded: Pain insensitivity (HP:0007021): onset ; excluded: Motor delay (HP:0001270): onset ; excluded: Hyperlordosis (HP:0003307): onset ; excluded: Calf muscle pseudohypertrophy (HP:0003707): onset ; excluded: Respiratory insufficiency (HP:0002093): onset ; excluded: Developmental cataract (HP:0000519): onset <br/><b>TimeElement(element=Age(iso8601duration=P13Y))</b>: Loss of ambulation (HP:0002505): onset age {\n",
       "  iso8601duration: \"P13Y\"\n",
       "}\n",
       "</td></tr>\n",
       "<tr><td style=\"text-align: left;\">Family 12 individual II:2 (MALE; P7Y)</td><td style=\"text-align: left;\">Muscular dystrophy, limb-girdle, autosomal recessive 29 (OMIM:620793)</td><td style=\"text-align: left;\">NM_005701.4:c.899_900del (homozygous)</td><td style=\"text-align: left;\">Proximal muscle weakness in upper limbs (HP:0008997): onset ; Distal upper limb muscle weakness (HP:0008959): onset ; Proximal muscle weakness in lower limbs (HP:0008994): onset ; Distal lower limb muscle weakness (HP:0009053): onset ; Axial muscle weakness (HP:0003327): onset ; Limb joint contracture (HP:0003121): onset ; Pain insensitivity (HP:0007021): onset ; Motor delay (HP:0001270): onset ; Cerebellar atrophy (HP:0001272): onset ; Short corpus callosum (HP:0200012): onset ; Spinal rigidity (HP:0003306): onset ; Scoliosis (HP:0002650): onset ; Increased endomysial connective tissue (HP:0100297): onset ; Ragged-red muscle fibers (HP:0003200): onset ; Highly elevated creatine kinase (HP:0030234): onset ; Respiratory insufficiency (HP:0002093): onset ; EMG: myopathic abnormalities (HP:0003458): onset ; Sensorineural hearing impairment (HP:0000407): onset ; excluded: Cardiomyopathy (HP:0001638): onset ; excluded: Hyperlordosis (HP:0003307): onset ; excluded: Calf muscle pseudohypertrophy (HP:0003707): onset ; excluded: Developmental cataract (HP:0000519): onset ; excluded: Microcephaly (HP:0000252): onset <br/><b>TimeElement(element=Age(iso8601duration=P3Y6M))</b>: Loss of ambulation (HP:0002505): onset age {\n",
       "  iso8601duration: \"P3Y6M\"\n",
       "}\n",
       "</td></tr>\n",
       "<tr><td style=\"text-align: left;\">Family 13 individual II:1 (FEMALE; P5Y)</td><td style=\"text-align: left;\">Muscular dystrophy, limb-girdle, autosomal recessive 29 (OMIM:620793)</td><td style=\"text-align: left;\">NM_005701.4:c.902_903del (homozygous)</td><td style=\"text-align: left;\">Difficulty climbing stairs (HP:0003551): onset ; Proximal muscle weakness in upper limbs (HP:0008997): onset ; Distal upper limb muscle weakness (HP:0008959): onset ; Proximal muscle weakness in lower limbs (HP:0008994): onset ; Distal lower limb muscle weakness (HP:0009053): onset ; Axial muscle weakness (HP:0003327): onset ; Unsteady gait (HP:0002317): onset ; Motor delay (HP:0001270): onset ; Hyperlordosis (HP:0003307): onset ; Highly elevated creatine kinase (HP:0030234): onset ; Calf muscle pseudohypertrophy (HP:0003707): onset ; Gowers sign (HP:0003391): onset ; Respiratory insufficiency (HP:0002093): onset ; EMG: myopathic abnormalities (HP:0003458): onset ; excluded: Loss of ambulation (HP:0002505): onset ; excluded: Cardiomyopathy (HP:0001638): onset ; excluded: Limb joint contracture (HP:0003121): onset ; excluded: Pain insensitivity (HP:0007021): onset ; excluded: Spinal rigidity (HP:0003306): onset ; excluded: Scoliosis (HP:0002650): onset ; excluded: Developmental cataract (HP:0000519): onset ; excluded: Microcephaly (HP:0000252): onset </td></tr>\n",
       "<tr><td style=\"text-align: left;\">Family 14 individual II:1 (FEMALE; P5Y)</td><td style=\"text-align: left;\">Muscular dystrophy, limb-girdle, autosomal recessive 29 (OMIM:620793)</td><td style=\"text-align: left;\">NM_005701.4:c.902_903del (homozygous)</td><td style=\"text-align: left;\">Global developmental delay (HP:0001263): onset ; Difficulty climbing stairs (HP:0003551): onset ; Proximal muscle weakness in upper limbs (HP:0008997): onset ; Proximal muscle weakness in lower limbs (HP:0008994): onset ; Distal lower limb muscle weakness (HP:0009053): onset ; Axial muscle weakness (HP:0003327): onset ; Unsteady gait (HP:0002317): onset ; Motor delay (HP:0001270): onset ; Cerebellar atrophy (HP:0001272): onset ; Highly elevated creatine kinase (HP:0030234): onset ; EMG: myopathic abnormalities (HP:0003458): onset ; Developmental cataract (HP:0000519): onset ; excluded: Loss of ambulation (HP:0002505): onset ; excluded: Cardiomyopathy (HP:0001638): onset ; excluded: Distal upper limb muscle weakness (HP:0008959): onset ; excluded: Limb joint contracture (HP:0003121): onset ; excluded: Pain insensitivity (HP:0007021): onset ; excluded: Short corpus callosum (HP:0200012): onset ; excluded: Spinal rigidity (HP:0003306): onset ; excluded: Hyperlordosis (HP:0003307): onset ; excluded: Scoliosis (HP:0002650): onset ; excluded: Calf muscle pseudohypertrophy (HP:0003707): onset ; excluded: Respiratory insufficiency (HP:0002093): onset ; excluded: Microcephaly (HP:0000252): onset </td></tr>\n",
       "<tr><td style=\"text-align: left;\">Family 15 individual II:1 (MALE; P36Y)</td><td style=\"text-align: left;\">Muscular dystrophy, limb-girdle, autosomal recessive 29 (OMIM:620793)</td><td style=\"text-align: left;\"><ul> <li>NM_005701.4:c.926T>G (heterozygous)</li> <li>NM_005701.4:c.848C>G (heterozygous)</li> </ul></td><td style=\"text-align: left;\">Proximal muscle weakness in upper limbs (HP:0008997): onset ; Distal upper limb muscle weakness (HP:0008959): onset ; Proximal muscle weakness in lower limbs (HP:0008994): onset ; Distal lower limb muscle weakness (HP:0009053): onset ; Axial muscle weakness (HP:0003327): onset ; Limb joint contracture (HP:0003121): onset ; Motor delay (HP:0001270): onset ; Scoliosis (HP:0002650): onset ; Increased endomysial connective tissue (HP:0100297): onset ; Highly elevated creatine kinase (HP:0030234): onset ; Respiratory insufficiency (HP:0002093): onset ; EMG: myopathic abnormalities (HP:0003458): onset ; excluded: Cardiomyopathy (HP:0001638): onset ; excluded: Pain insensitivity (HP:0007021): onset ; excluded: Cerebellar atrophy (HP:0001272): onset ; excluded: Short corpus callosum (HP:0200012): onset ; excluded: Spinal rigidity (HP:0003306): onset ; excluded: Hyperlordosis (HP:0003307): onset ; excluded: Calf muscle pseudohypertrophy (HP:0003707): onset ; excluded: Developmental cataract (HP:0000519): onset ; excluded: Microcephaly (HP:0000252): onset <br/><b>TimeElement(element=Age(iso8601duration=P6Y6M))</b>: Loss of ambulation (HP:0002505): onset age {\n",
       "  iso8601duration: \"P6Y6M\"\n",
       "}\n",
       "</td></tr>\n",
       "<tr><td style=\"text-align: left;\">Individual F1.II.1 (MALE; P17Y)</td><td style=\"text-align: left;\">Muscular dystrophy, limb-girdle, autosomal recessive 29 (OMIM:620793)</td><td style=\"text-align: left;\">NM_005701.4:c.926T>G (homozygous)</td><td style=\"text-align: left;\">Loss of ambulation (HP:0002505): onset ; Proximal muscle weakness in upper limbs (HP:0008997): onset ; Distal upper limb muscle weakness (HP:0008959): onset ; Proximal muscle weakness in lower limbs (HP:0008994): onset ; Distal lower limb muscle weakness (HP:0009053): onset ; Joint contracture (HP:0034392): onset ; Hyperlordosis (HP:0003307): onset ; Accumulation of muscle fiber myotilin (HP:0030227): onset ; Abnormal Z disk morphology (HP:0020202): onset ; Highly elevated creatine kinase (HP:0030234): onset ; Restrictive ventilatory defect (HP:0002091): onset ; EMG: myopathic abnormalities (HP:0003458): onset ; excluded: Global developmental delay (HP:0001263): onset ; excluded: Cardiomyopathy (HP:0001638): onset ; excluded: Weakness of facial musculature (HP:0030319): onset ; excluded: Joint hypermobility (HP:0001382): onset ; excluded: Mildly elevated creatine kinase (HP:0008180): onset <br/><b>TimeElement(element=Age(iso8601duration=P4Y))</b>: Difficulty climbing stairs (HP:0003551): onset age {\n",
       "  iso8601duration: \"P4Y\"\n",
       "}\n",
       "</td></tr>\n",
       "<tr><td style=\"text-align: left;\">Individual F1.II.2 (FEMALE; P20Y)</td><td style=\"text-align: left;\">Muscular dystrophy, limb-girdle, autosomal recessive 29 (OMIM:620793)</td><td style=\"text-align: left;\">NM_005701.4:c.926T>G (homozygous)</td><td style=\"text-align: left;\">Difficulty running (HP:0009046): onset ; Proximal muscle weakness in upper limbs (HP:0008997): onset ; Distal upper limb muscle weakness (HP:0008959): onset ; Proximal muscle weakness in lower limbs (HP:0008994): onset ; Distal lower limb muscle weakness (HP:0009053): onset ; Joint contracture (HP:0034392): onset ; Hyperlordosis (HP:0003307): onset ; Accumulation of muscle fiber myotilin (HP:0030227): onset ; Abnormal Z disk morphology (HP:0020202): onset ; Highly elevated creatine kinase (HP:0030234): onset ; Restrictive ventilatory defect (HP:0002091): onset ; excluded: Loss of ambulation (HP:0002505): onset ; excluded: Global developmental delay (HP:0001263): onset ; excluded: Cardiomyopathy (HP:0001638): onset ; excluded: Weakness of facial musculature (HP:0030319): onset ; excluded: Joint hypermobility (HP:0001382): onset ; excluded: Mildly elevated creatine kinase (HP:0008180): onset </td></tr>\n",
       "<tr><td style=\"text-align: left;\">Individual F2.II.1 (FEMALE; P29Y)</td><td style=\"text-align: left;\">Muscular dystrophy, limb-girdle, autosomal recessive 29 (OMIM:620793)</td><td style=\"text-align: left;\">NM_005701.4:c.926T>G (homozygous)</td><td style=\"text-align: left;\">Loss of ambulation (HP:0002505): onset ; Proximal muscle weakness in upper limbs (HP:0008997): onset ; Distal upper limb muscle weakness (HP:0008959): onset ; Proximal muscle weakness in lower limbs (HP:0008994): onset ; Distal lower limb muscle weakness (HP:0009053): onset ; Hyperlordosis (HP:0003307): onset ; Highly elevated creatine kinase (HP:0030234): onset ; Restrictive ventilatory defect (HP:0002091): onset ; excluded: Global developmental delay (HP:0001263): onset ; excluded: Cardiomyopathy (HP:0001638): onset ; excluded: Weakness of facial musculature (HP:0030319): onset ; excluded: Joint hypermobility (HP:0001382): onset ; excluded: Mildly elevated creatine kinase (HP:0008180): onset <br/><b>TimeElement(element=Age(iso8601duration=P9Y))</b>: Elbow contracture (HP:0034391): onset age {\n",
       "  iso8601duration: \"P9Y\"\n",
       "}\n",
       "; Spinal rigidity (HP:0003306): onset age {\n",
       "  iso8601duration: \"P9Y\"\n",
       "}\n",
       "</td></tr>\n",
       "<tr><td style=\"text-align: left;\">Individual F2.II.2 (FEMALE; P25Y)</td><td style=\"text-align: left;\">Muscular dystrophy, limb-girdle, autosomal recessive 29 (OMIM:620793)</td><td style=\"text-align: left;\">NM_005701.4:c.926T>G (homozygous)</td><td style=\"text-align: left;\">Loss of ambulation (HP:0002505): onset ; Proximal muscle weakness in upper limbs (HP:0008997): onset ; Distal upper limb muscle weakness (HP:0008959): onset ; Proximal muscle weakness in lower limbs (HP:0008994): onset ; Distal lower limb muscle weakness (HP:0009053): onset ; Joint contracture (HP:0034392): onset ; Hyperlordosis (HP:0003307): onset ; Highly elevated creatine kinase (HP:0030234): onset ; Restrictive ventilatory defect (HP:0002091): onset ; excluded: Global developmental delay (HP:0001263): onset ; excluded: Cardiomyopathy (HP:0001638): onset ; excluded: Weakness of facial musculature (HP:0030319): onset ; excluded: Joint hypermobility (HP:0001382): onset ; excluded: Mildly elevated creatine kinase (HP:0008180): onset <br/><b>TimeElement(element=Age(iso8601duration=P1Y))</b>: Difficulty climbing stairs (HP:0003551): onset age {\n",
       "  iso8601duration: \"P1Y\"\n",
       "}\n",
       "<br/><b>TimeElement(element=Age(iso8601duration=P2Y))</b>: Hand muscle weakness (HP:0030237): onset age {\n",
       "  iso8601duration: \"P2Y\"\n",
       "}\n",
       "</td></tr>\n",
       "<tr><td style=\"text-align: left;\">Individual F2.II.3 (FEMALE; P24Y)</td><td style=\"text-align: left;\">Muscular dystrophy, limb-girdle, autosomal recessive 29 (OMIM:620793)</td><td style=\"text-align: left;\">NM_005701.4:c.926T>G (homozygous)</td><td style=\"text-align: left;\">Proximal muscle weakness in upper limbs (HP:0008997): onset ; Distal upper limb muscle weakness (HP:0008959): onset ; Proximal muscle weakness in lower limbs (HP:0008994): onset ; Distal lower limb muscle weakness (HP:0009053): onset ; Joint contracture (HP:0034392): onset ; Hyperlordosis (HP:0003307): onset ; Accumulation of muscle fiber myotilin (HP:0030227): onset ; Abnormal Z disk morphology (HP:0020202): onset ; Mildly elevated creatine kinase (HP:0008180): onset ; Restrictive ventilatory defect (HP:0002091): onset ; excluded: Loss of ambulation (HP:0002505): onset ; excluded: Global developmental delay (HP:0001263): onset ; excluded: Cardiomyopathy (HP:0001638): onset ; excluded: Weakness of facial musculature (HP:0030319): onset ; excluded: Joint hypermobility (HP:0001382): onset ; excluded: Highly elevated creatine kinase (HP:0030234): onset <br/><b>TimeElement(element=Age(iso8601duration=P2Y))</b>: Difficulty climbing stairs (HP:0003551): onset age {\n",
       "  iso8601duration: \"P2Y\"\n",
       "}\n",
       "</td></tr>\n",
       "</table>"
      ],
      "text/plain": [
       "<IPython.core.display.HTML object>"
      ]
     },
     "metadata": {},
     "output_type": "display_data"
    }
   ],
   "source": [
    "table = IndividualTable(cvalidator.get_error_free_individual_list())\n",
    "display(HTML(table.to_html()))"
   ]
  },
  {
   "cell_type": "code",
   "execution_count": 14,
   "metadata": {},
   "outputs": [
    {
     "name": "stdout",
     "output_type": "stream",
     "text": [
      "[pyphetools] Ingested 23 GA4GH phenopackets.\n",
      "[INFO] Extracted 23 from 23 phenopackets with OMIM:620793\n",
      "\n",
      "\tMuscular dystrophy, limb-girdle, autosomal recessive 29 (OMIM:620793): n=23\n",
      "We found a total of 41 unique HPO terms\n",
      "Extracted disease: Muscular dystrophy, limb-girdle, autosomal recessive 29 (OMIM:620793)\n",
      "Wrote HPOA disease file to OMIM-620793.tab\n"
     ]
    }
   ],
   "source": [
    "pmid = \"PMID:38413582\"\n",
    "df = timporter.create_hpoa_from_phenopackets(pmid=pmid, mode_of_inheritance=Moi.AR, target=\"OMIM:620793\")"
   ]
  }
 ],
 "metadata": {
  "kernelspec": {
   "display_name": "ps24venv",
   "language": "python",
   "name": "python3"
  },
  "language_info": {
   "codemirror_mode": {
    "name": "ipython",
    "version": 3
   },
   "file_extension": ".py",
   "mimetype": "text/x-python",
   "name": "python",
   "nbconvert_exporter": "python",
   "pygments_lexer": "ipython3",
   "version": "3.12.8"
  }
 },
 "nbformat": 4,
 "nbformat_minor": 2
}
