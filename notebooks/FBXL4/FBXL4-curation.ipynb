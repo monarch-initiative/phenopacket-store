{
 "cells": [
  {
   "cell_type": "markdown",
   "id": "0a51a71b-b55e-414d-a7b1-abb5954b1396",
   "metadata": {},
   "source": [
    "# FBXL4\n",
    "\n",
    "Variants in FBXL4 are associated with [Mitochondrial DNA depletion syndrome 13 (encephalomyopathic type)](https://omim.org/entry/605654)\n",
    "This notebook collects clinical data from several publications."
   ]
  },
  {
   "cell_type": "code",
   "execution_count": 1,
   "id": "a2a1c7c9-9e38-4591-af12-ff563358acf0",
   "metadata": {},
   "outputs": [
    {
     "name": "stdout",
     "output_type": "stream",
     "text": [
      "Using pyphetools version 0.9.63\n"
     ]
    }
   ],
   "source": [
    "import pandas as pd\n",
    "pd.set_option('display.max_colwidth', None) # show entire column contents, important!\n",
    "from collections import defaultdict\n",
    "from IPython.display import display, HTML\n",
    "import pyphetools\n",
    "from pyphetools.creation import *\n",
    "from pyphetools.visualization import *\n",
    "from pyphetools.validation import CohortValidator\n",
    "print(f\"Using pyphetools version {pyphetools.__version__}\")"
   ]
  },
  {
   "cell_type": "code",
   "execution_count": 2,
   "id": "824a9ab7-8b2c-4bfd-b6b5-5d28922e0df4",
   "metadata": {},
   "outputs": [
    {
     "name": "stdout",
     "output_type": "stream",
     "text": [
      "HPO version 2024-02-27\n"
     ]
    }
   ],
   "source": [
    "parser = HpoParser(hpo_json_file=\"../hp.json\")\n",
    "hpo_cr = parser.get_hpo_concept_recognizer()\n",
    "hpo_version = parser.get_version()\n",
    "hpo_ontology = parser.get_ontology()\n",
    "metadata = MetaData(created_by=\"ORCID:0000-0002-0736-9199\")\n",
    "metadata.default_versions_with_hpo(version=hpo_version)\n",
    "print(f\"HPO version {hpo_version}\")"
   ]
  },
  {
   "cell_type": "code",
   "execution_count": 3,
   "id": "8d114e11-fa01-4ec0-887e-1762d245c586",
   "metadata": {},
   "outputs": [],
   "source": [
    "df = pd.read_excel('input/FBXL4-data.xlsx')"
   ]
  },
  {
   "cell_type": "code",
   "execution_count": 4,
   "id": "a9920c17-f66e-4a74-89f0-c11952559abf",
   "metadata": {},
   "outputs": [
    {
     "data": {
      "text/html": [
       "<div>\n",
       "<style scoped>\n",
       "    .dataframe tbody tr th:only-of-type {\n",
       "        vertical-align: middle;\n",
       "    }\n",
       "\n",
       "    .dataframe tbody tr th {\n",
       "        vertical-align: top;\n",
       "    }\n",
       "\n",
       "    .dataframe thead th {\n",
       "        text-align: right;\n",
       "    }\n",
       "</style>\n",
       "<table border=\"1\" class=\"dataframe\">\n",
       "  <thead>\n",
       "    <tr style=\"text-align: right;\">\n",
       "      <th></th>\n",
       "      <th>ID</th>\n",
       "      <th>omim_id</th>\n",
       "      <th>omim_title</th>\n",
       "      <th>omim_name</th>\n",
       "      <th>hgnc_id</th>\n",
       "      <th>gene_symbol</th>\n",
       "      <th>Zigosity</th>\n",
       "      <th>Location</th>\n",
       "      <th>Variant annotation</th>\n",
       "      <th>Consequence</th>\n",
       "      <th>...</th>\n",
       "      <th>Gender</th>\n",
       "      <th>Age at death</th>\n",
       "      <th>Phenotype</th>\n",
       "      <th>Prenatal ultrasound phenotype</th>\n",
       "      <th>MRI phenotype</th>\n",
       "      <th>Cardiac phenotype</th>\n",
       "      <th>Family history</th>\n",
       "      <th>Source</th>\n",
       "      <th>PMID</th>\n",
       "      <th>title</th>\n",
       "    </tr>\n",
       "  </thead>\n",
       "  <tbody>\n",
       "    <tr>\n",
       "      <th>0</th>\n",
       "      <td>34738379_P1</td>\n",
       "      <td>615471</td>\n",
       "      <td>MITOCHONDRIAL DNA DEPLETION SYNDROME 13 (ENCEPHALOMYOPATHIC TYPE)</td>\n",
       "      <td>Mitochondrial DNA depletion syndrome 13 (encephalomyopathic type)</td>\n",
       "      <td>HGNC:13601</td>\n",
       "      <td>FBXL4</td>\n",
       "      <td>Compound heterozygous</td>\n",
       "      <td>NM_001278716.1/NM_001278716.1</td>\n",
       "      <td>c.772G&gt;T(p.Gly258*)/c.1061G&gt;C(p.Trp354Ser)</td>\n",
       "      <td>nonsense/missense</td>\n",
       "      <td>...</td>\n",
       "      <td>NaN</td>\n",
       "      <td>NaN</td>\n",
       "      <td>abnormal eyebrow morphology HP:0000534 , triangular face HP:0000325, abnormal shape of the palpebral fissure HP:0200005, mandibular prognathia HP:0000303, increased serum lactate HP:0002151 HP:0002151, increased serum pyruvate HP:0003542</td>\n",
       "      <td>NaN</td>\n",
       "      <td>NaN</td>\n",
       "      <td>NaN</td>\n",
       "      <td>Primigravid, no family history</td>\n",
       "      <td>https://doi.org/10.24953/turkjped.2021.05.025</td>\n",
       "      <td>PMID:34738379</td>\n",
       "      <td>Entero-encephalopathy due to FBXL4-related mtDNA depletion syndrome</td>\n",
       "    </tr>\n",
       "    <tr>\n",
       "      <th>1</th>\n",
       "      <td>32559514_P1</td>\n",
       "      <td>615471</td>\n",
       "      <td>MITOCHONDRIAL DNA DEPLETION SYNDROME 13 (ENCEPHALOMYOPATHIC TYPE)</td>\n",
       "      <td>Mitochondrial DNA depletion syndrome 13 (encephalomyopathic type)</td>\n",
       "      <td>HGNC:13601</td>\n",
       "      <td>FBXL4</td>\n",
       "      <td>homozygous</td>\n",
       "      <td>NM_001278716.1</td>\n",
       "      <td>c.993dupA (p.L332Tfs*3)</td>\n",
       "      <td>NaN</td>\n",
       "      <td>...</td>\n",
       "      <td>NaN</td>\n",
       "      <td>NaN</td>\n",
       "      <td>global developmental delay HP:0001263, hypotonia HP:0001252, abnormal eating behavior HP:0100738, hypertelorism HP:0000316, short palpebral fissure HP:0012745, internuclear ophthalmoplegia HP:0030773, wide nasal bridge HP:0000431</td>\n",
       "      <td>NaN</td>\n",
       "      <td>abnormality of brain morphology HP:0012443</td>\n",
       "      <td>NaN</td>\n",
       "      <td>no family history</td>\n",
       "      <td>https://doi.org/10.1016/j.jns.2020.116948</td>\n",
       "      <td>PMID:32559514</td>\n",
       "      <td>Novel homozygous mutation in the FBXL4 gene is associated with mitochondria DNA depletion syndrome-13</td>\n",
       "    </tr>\n",
       "  </tbody>\n",
       "</table>\n",
       "<p>2 rows × 26 columns</p>\n",
       "</div>"
      ],
      "text/plain": [
       "            ID  omim_id  \\\n",
       "0  34738379_P1   615471   \n",
       "1  32559514_P1   615471   \n",
       "\n",
       "                                                          omim_title  \\\n",
       "0  MITOCHONDRIAL DNA DEPLETION SYNDROME 13 (ENCEPHALOMYOPATHIC TYPE)   \n",
       "1  MITOCHONDRIAL DNA DEPLETION SYNDROME 13 (ENCEPHALOMYOPATHIC TYPE)   \n",
       "\n",
       "                                                           omim_name  \\\n",
       "0  Mitochondrial DNA depletion syndrome 13 (encephalomyopathic type)   \n",
       "1  Mitochondrial DNA depletion syndrome 13 (encephalomyopathic type)   \n",
       "\n",
       "      hgnc_id gene_symbol               Zigosity  \\\n",
       "0  HGNC:13601       FBXL4  Compound heterozygous   \n",
       "1  HGNC:13601       FBXL4             homozygous   \n",
       "\n",
       "                        Location                          Variant annotation  \\\n",
       "0  NM_001278716.1/NM_001278716.1  c.772G>T(p.Gly258*)/c.1061G>C(p.Trp354Ser)   \n",
       "1                 NM_001278716.1                     c.993dupA (p.L332Tfs*3)   \n",
       "\n",
       "         Consequence  ... Gender Age at death  \\\n",
       "0  nonsense/missense  ...    NaN          NaN   \n",
       "1                NaN  ...    NaN          NaN   \n",
       "\n",
       "                                                                                                                                                                                                                                       Phenotype  \\\n",
       "0  abnormal eyebrow morphology HP:0000534 , triangular face HP:0000325, abnormal shape of the palpebral fissure HP:0200005, mandibular prognathia HP:0000303, increased serum lactate HP:0002151 HP:0002151, increased serum pyruvate HP:0003542   \n",
       "1          global developmental delay HP:0001263, hypotonia HP:0001252, abnormal eating behavior HP:0100738, hypertelorism HP:0000316, short palpebral fissure HP:0012745, internuclear ophthalmoplegia HP:0030773, wide nasal bridge HP:0000431   \n",
       "\n",
       "  Prenatal ultrasound phenotype                               MRI phenotype  \\\n",
       "0                           NaN                                         NaN   \n",
       "1                           NaN  abnormality of brain morphology HP:0012443   \n",
       "\n",
       "  Cardiac phenotype                  Family history  \\\n",
       "0               NaN  Primigravid, no family history   \n",
       "1               NaN               no family history   \n",
       "\n",
       "                                          Source           PMID  \\\n",
       "0  https://doi.org/10.24953/turkjped.2021.05.025  PMID:34738379   \n",
       "1      https://doi.org/10.1016/j.jns.2020.116948  PMID:32559514   \n",
       "\n",
       "                                                                                                   title  \n",
       "0                                    Entero-encephalopathy due to FBXL4-related mtDNA depletion syndrome  \n",
       "1  Novel homozygous mutation in the FBXL4 gene is associated with mitochondria DNA depletion syndrome-13  \n",
       "\n",
       "[2 rows x 26 columns]"
      ]
     },
     "execution_count": 4,
     "metadata": {},
     "output_type": "execute_result"
    }
   ],
   "source": [
    "df.head(2)"
   ]
  },
  {
   "cell_type": "code",
   "execution_count": 5,
   "id": "446c4714-5682-41a0-abe3-06acc938e4bf",
   "metadata": {},
   "outputs": [],
   "source": [
    "df['patient_id'] = df['ID']\n",
    "df.set_index('ID', inplace=True)"
   ]
  },
  {
   "cell_type": "markdown",
   "id": "14f9708f-5edf-42ee-a92a-547f88e66b60",
   "metadata": {},
   "source": [
    "<h1>Variants</h1>\n",
    "<p>Variant data is available in strings such as c.772G>T(p.Gly258*)/c.1061G>C(p.Trp354Ser) or c.772G>T(p.Gly258*) for homozygous variants.\n",
    "We need to extract the HGVS cDNA string to pass to Variant Validator</p>"
   ]
  },
  {
   "cell_type": "code",
   "execution_count": 6,
   "id": "da8d74bf-9381-4683-9586-bf4b3df936ca",
   "metadata": {},
   "outputs": [],
   "source": [
    "def extract_cdna(variant):\n",
    "    \"\"\"\n",
    "    split strings like c.772G>T(p.Gly258*) on the open-parenthesis symbol and return the first part\n",
    "    \"\"\"\n",
    "    v = variant.split(\"(\")[0]\n",
    "    v = v.replace(\" \", \"\").replace(\"p.\",\"\")\n",
    "    return v\n",
    "    \n",
    "def extract_variant_1(variants):\n",
    "    \"\"\"\n",
    "    Split on the slash (\"/\") and return the first part (or entire string for homozygous)\n",
    "    \"\"\"\n",
    "    v1 = variants.split(\"/\")[0]\n",
    "    return extract_cdna(v1)\n",
    "\n",
    "def extract_variant_2(variants):\n",
    "    \"\"\"\n",
    "    Split on the slash (\"/\") and return the second part (or entire string for homozygous)\n",
    "    \"\"\"\n",
    "    fields = variants.split(\"/\")\n",
    "    if len(fields) == 2:\n",
    "        return extract_cdna(fields[1])\n",
    "    else:\n",
    "        # there was only one variant\n",
    "        return extract_cdna(variants)"
   ]
  },
  {
   "cell_type": "code",
   "execution_count": 7,
   "id": "52d17746-17c6-4503-a24e-1fa0dcff3127",
   "metadata": {},
   "outputs": [],
   "source": [
    "df[\"var1\"] = df['Variant annotation'].apply(lambda x: extract_variant_1(x))\n",
    "df[\"var2\"] = df['Variant annotation'].apply(lambda x: extract_variant_2(x))"
   ]
  },
  {
   "cell_type": "code",
   "execution_count": 8,
   "id": "11791196-0565-41a1-b025-1b2302220efd",
   "metadata": {},
   "outputs": [],
   "source": [
    "FBXL4_transcript = \"NM_001278716.2\"\n",
    "vman = VariantManager(df=df, individual_column_name=\"patient_id\", gene_symbol=\"FBXL4\", allele_1_column_name=\"var1\",\n",
    "                      allele_2_column_name=\"var2\", transcript=FBXL4_transcript)"
   ]
  },
  {
   "cell_type": "markdown",
   "id": "096c66f9-f6ef-44b3-9c70-f9526f8fb877",
   "metadata": {},
   "source": [
    "<h2>Mapping the age column</h2>\n",
    "<p>We add a dictionary to the corresponding ISO 8601 age strings. Anything not here will be mapped to \"not provided\"</p>"
   ]
  },
  {
   "cell_type": "code",
   "execution_count": 9,
   "id": "00816fda-192c-41bb-9af9-dcc0d48b7a99",
   "metadata": {},
   "outputs": [],
   "source": [
    "string_to_iso_dict = {\n",
    "    \"1.5\": \"P1Y6M\",\n",
    "    \"3.5\": \"P3Y6M\",\n",
    "    'birth': \"P1D\",\n",
    "    '51 days': \"P1M21D\",\n",
    "    '19 months': \"P1Y7M\",\n",
    "    '10 monhts': \"P10M\",\n",
    "    '14 months': \"P1Y2M\",\n",
    "    '23 months': \"P1Y11M\",\n",
    "    '22 mohts': \"P1Y10M\",\n",
    "    '9 months': \"P9M\",\n",
    "    '12 years': \"P12Y\",\n",
    "    '1 day of age': \"P1D\",\n",
    "    '4.5 years': \"P4Y6M\",\n",
    "    '4 months': \"P4M\",\n",
    "    '1 month': \"P1M\"\n",
    "}\n",
    "ageMapper = AgeColumnMapper.custom_dictionary(column_name='Age of diagnosis', string_to_iso_d=string_to_iso_dict)\n",
    "#ageMapper.preview_column(df['Age of diagnosis']).head()"
   ]
  },
  {
   "cell_type": "code",
   "execution_count": 10,
   "id": "38c6371e-6375-402f-af8c-793349db77e5",
   "metadata": {},
   "outputs": [],
   "source": [
    "sexMapper = SexColumnMapper(male_symbol=\"M\", female_symbol=\"F\", unknown_symbol=\"nan\", column_name=\"Gender\")\n",
    "#sexMapper.preview_column(df['Gender']).head()"
   ]
  },
  {
   "cell_type": "code",
   "execution_count": 11,
   "id": "b1ea90e8-cf99-4b97-b722-fa6c2a2ad5c0",
   "metadata": {},
   "outputs": [],
   "source": [
    "aod_d = {\n",
    "    \"7 months\": \"P7M\",\n",
    "    \"10 months\": \"P10M\",\n",
    "    \"4 days\": \"P4D\",\n",
    "    \"5 days\": \"P5D\",\n",
    "    \"3 days\": \"P3D\",\n",
    "    \"9 monhts\": \"P9M\",\n",
    "    \"12 years\": \"P12Y\",\n",
    "    \"3 years\": \"P3Y\",\n",
    "    \"4 years\": \"P4Y\",\n",
    "    \"2 years\": \"P2Y\",\n",
    "    \"2.5 years\": \"P2Y6M\",\n",
    "    \"16 months\": \"P1Y4M\",\n",
    "}\n",
    "aodMapper = AgeOfDeathColumnMapper(column_name='Age at death', string_to_iso_d=aod_d)"
   ]
  },
  {
   "cell_type": "markdown",
   "id": "020b9106-8d08-411a-a63b-2a30a0a20912",
   "metadata": {},
   "source": [
    "<h1>Mapping phenotypic features</h1>\n",
    "<p>We use the CustomColumnMapper class, which uses text mining to recognize one or more HPO terms in each table cell. The preview\n",
    "column function can be used to check results, which appear very accurate. Each mapper is put into a map that is used to encode the entire cohort, below</p>"
   ]
  },
  {
   "cell_type": "code",
   "execution_count": 12,
   "id": "af1a6157-2d6c-4108-8419-a51310f4e0b2",
   "metadata": {},
   "outputs": [],
   "source": [
    "column_mapper_list = list()"
   ]
  },
  {
   "cell_type": "code",
   "execution_count": 13,
   "id": "b95190de-ced6-44e7-b557-d0a908992847",
   "metadata": {},
   "outputs": [
    {
     "data": {
      "text/html": [
       "<div>\n",
       "<style scoped>\n",
       "    .dataframe tbody tr th:only-of-type {\n",
       "        vertical-align: middle;\n",
       "    }\n",
       "\n",
       "    .dataframe tbody tr th {\n",
       "        vertical-align: top;\n",
       "    }\n",
       "\n",
       "    .dataframe thead th {\n",
       "        text-align: right;\n",
       "    }\n",
       "</style>\n",
       "<table border=\"1\" class=\"dataframe\">\n",
       "  <thead>\n",
       "    <tr style=\"text-align: right;\">\n",
       "      <th></th>\n",
       "      <th>mapping</th>\n",
       "      <th>count</th>\n",
       "    </tr>\n",
       "  </thead>\n",
       "  <tbody>\n",
       "    <tr>\n",
       "      <th>0</th>\n",
       "      <td>Abnormal eyebrow morphology (HP:0000534) (observed)</td>\n",
       "      <td>1</td>\n",
       "    </tr>\n",
       "    <tr>\n",
       "      <th>1</th>\n",
       "      <td>Triangular face (HP:0000325) (observed)</td>\n",
       "      <td>1</td>\n",
       "    </tr>\n",
       "    <tr>\n",
       "      <th>2</th>\n",
       "      <td>Abnormal shape of the palpebral fissure (HP:0200005) (observed)</td>\n",
       "      <td>1</td>\n",
       "    </tr>\n",
       "    <tr>\n",
       "      <th>3</th>\n",
       "      <td>Mandibular prognathia (HP:0000303) (observed)</td>\n",
       "      <td>1</td>\n",
       "    </tr>\n",
       "    <tr>\n",
       "      <th>4</th>\n",
       "      <td>Increased circulating lactate concentration (HP:0002151) (observed)</td>\n",
       "      <td>18</td>\n",
       "    </tr>\n",
       "    <tr>\n",
       "      <th>...</th>\n",
       "      <td>...</td>\n",
       "      <td>...</td>\n",
       "    </tr>\n",
       "    <tr>\n",
       "      <th>91</th>\n",
       "      <td>Abnormal pinna morphology (HP:0000377) (observed)</td>\n",
       "      <td>1</td>\n",
       "    </tr>\n",
       "    <tr>\n",
       "      <th>92</th>\n",
       "      <td>Concave nasal ridge (HP:0011120) (observed)</td>\n",
       "      <td>1</td>\n",
       "    </tr>\n",
       "    <tr>\n",
       "      <th>93</th>\n",
       "      <td>Microphthalmia (HP:0000568) (observed)</td>\n",
       "      <td>1</td>\n",
       "    </tr>\n",
       "    <tr>\n",
       "      <th>94</th>\n",
       "      <td>Developmental cataract (HP:0000519) (observed)</td>\n",
       "      <td>1</td>\n",
       "    </tr>\n",
       "    <tr>\n",
       "      <th>95</th>\n",
       "      <td>Horizontal nystagmus (HP:0000666) (observed)</td>\n",
       "      <td>1</td>\n",
       "    </tr>\n",
       "  </tbody>\n",
       "</table>\n",
       "<p>96 rows × 2 columns</p>\n",
       "</div>"
      ],
      "text/plain": [
       "                                                                mapping count\n",
       "0                   Abnormal eyebrow morphology (HP:0000534) (observed)     1\n",
       "1                               Triangular face (HP:0000325) (observed)     1\n",
       "2       Abnormal shape of the palpebral fissure (HP:0200005) (observed)     1\n",
       "3                         Mandibular prognathia (HP:0000303) (observed)     1\n",
       "4   Increased circulating lactate concentration (HP:0002151) (observed)    18\n",
       "..                                                                  ...   ...\n",
       "91                    Abnormal pinna morphology (HP:0000377) (observed)     1\n",
       "92                          Concave nasal ridge (HP:0011120) (observed)     1\n",
       "93                               Microphthalmia (HP:0000568) (observed)     1\n",
       "94                       Developmental cataract (HP:0000519) (observed)     1\n",
       "95                         Horizontal nystagmus (HP:0000666) (observed)     1\n",
       "\n",
       "[96 rows x 2 columns]"
      ]
     },
     "execution_count": 13,
     "metadata": {},
     "output_type": "execute_result"
    }
   ],
   "source": [
    "phenotypeColumnMapper = OptionColumnMapper(column_name='Phenotype',concept_recognizer=hpo_cr, option_d={})\n",
    "column_mapper_list.append(phenotypeColumnMapper)\n",
    "phenotypeColumnMapper.preview_column(df)"
   ]
  },
  {
   "cell_type": "code",
   "execution_count": 14,
   "id": "293cb862-9065-4d1e-85d0-a51ca403094b",
   "metadata": {},
   "outputs": [
    {
     "data": {
      "text/html": [
       "<div>\n",
       "<style scoped>\n",
       "    .dataframe tbody tr th:only-of-type {\n",
       "        vertical-align: middle;\n",
       "    }\n",
       "\n",
       "    .dataframe tbody tr th {\n",
       "        vertical-align: top;\n",
       "    }\n",
       "\n",
       "    .dataframe thead th {\n",
       "        text-align: right;\n",
       "    }\n",
       "</style>\n",
       "<table border=\"1\" class=\"dataframe\">\n",
       "  <thead>\n",
       "    <tr style=\"text-align: right;\">\n",
       "      <th></th>\n",
       "      <th>mapping</th>\n",
       "      <th>count</th>\n",
       "    </tr>\n",
       "  </thead>\n",
       "  <tbody>\n",
       "    <tr>\n",
       "      <th>0</th>\n",
       "      <td>Single umbilical artery (HP:0001195) (observed)</td>\n",
       "      <td>1</td>\n",
       "    </tr>\n",
       "    <tr>\n",
       "      <th>1</th>\n",
       "      <td>Enlarged fetal cisterna magna (HP:0011427) (observed)</td>\n",
       "      <td>1</td>\n",
       "    </tr>\n",
       "    <tr>\n",
       "      <th>2</th>\n",
       "      <td>Hydrocephalus (HP:0000238) (observed)</td>\n",
       "      <td>1</td>\n",
       "    </tr>\n",
       "    <tr>\n",
       "      <th>3</th>\n",
       "      <td>Polyhydramnios (HP:0001561) (observed)</td>\n",
       "      <td>1</td>\n",
       "    </tr>\n",
       "    <tr>\n",
       "      <th>4</th>\n",
       "      <td>Ventriculomegaly (HP:0002119) (observed)</td>\n",
       "      <td>1</td>\n",
       "    </tr>\n",
       "    <tr>\n",
       "      <th>5</th>\n",
       "      <td>Intrauterine growth retardation (HP:0001511) (observed)</td>\n",
       "      <td>1</td>\n",
       "    </tr>\n",
       "    <tr>\n",
       "      <th>6</th>\n",
       "      <td>Mild fetal ventriculomegaly (HP:0010952) (observed)</td>\n",
       "      <td>1</td>\n",
       "    </tr>\n",
       "  </tbody>\n",
       "</table>\n",
       "</div>"
      ],
      "text/plain": [
       "                                                   mapping count\n",
       "0          Single umbilical artery (HP:0001195) (observed)     1\n",
       "1    Enlarged fetal cisterna magna (HP:0011427) (observed)     1\n",
       "2                    Hydrocephalus (HP:0000238) (observed)     1\n",
       "3                   Polyhydramnios (HP:0001561) (observed)     1\n",
       "4                 Ventriculomegaly (HP:0002119) (observed)     1\n",
       "5  Intrauterine growth retardation (HP:0001511) (observed)     1\n",
       "6      Mild fetal ventriculomegaly (HP:0010952) (observed)     1"
      ]
     },
     "execution_count": 14,
     "metadata": {},
     "output_type": "execute_result"
    }
   ],
   "source": [
    "prenatalUSmapper =  OptionColumnMapper(column_name='Prenatal ultrasound phenotype',concept_recognizer=hpo_cr, option_d={})\n",
    "column_mapper_list.append(prenatalUSmapper)\n",
    "prenatalUSmapper.preview_column(df)"
   ]
  },
  {
   "cell_type": "code",
   "execution_count": 15,
   "id": "51f43f60-a94a-4f84-8321-eaed3a50fbe0",
   "metadata": {},
   "outputs": [
    {
     "data": {
      "text/html": [
       "<div>\n",
       "<style scoped>\n",
       "    .dataframe tbody tr th:only-of-type {\n",
       "        vertical-align: middle;\n",
       "    }\n",
       "\n",
       "    .dataframe tbody tr th {\n",
       "        vertical-align: top;\n",
       "    }\n",
       "\n",
       "    .dataframe thead th {\n",
       "        text-align: right;\n",
       "    }\n",
       "</style>\n",
       "<table border=\"1\" class=\"dataframe\">\n",
       "  <thead>\n",
       "    <tr style=\"text-align: right;\">\n",
       "      <th></th>\n",
       "      <th>mapping</th>\n",
       "      <th>count</th>\n",
       "    </tr>\n",
       "  </thead>\n",
       "  <tbody>\n",
       "    <tr>\n",
       "      <th>0</th>\n",
       "      <td>Abnormal brain morphology (HP:0012443) (observed)</td>\n",
       "      <td>1</td>\n",
       "    </tr>\n",
       "    <tr>\n",
       "      <th>1</th>\n",
       "      <td>Periventricular cysts (HP:0007109) (observed)</td>\n",
       "      <td>2</td>\n",
       "    </tr>\n",
       "    <tr>\n",
       "      <th>2</th>\n",
       "      <td>CNS hypomyelination (HP:0003429) (observed)</td>\n",
       "      <td>3</td>\n",
       "    </tr>\n",
       "    <tr>\n",
       "      <th>3</th>\n",
       "      <td>Global brain atrophy (HP:0002283) (observed)</td>\n",
       "      <td>1</td>\n",
       "    </tr>\n",
       "    <tr>\n",
       "      <th>4</th>\n",
       "      <td>Abnormal cortical gyration (HP:0002536) (observed)</td>\n",
       "      <td>1</td>\n",
       "    </tr>\n",
       "    <tr>\n",
       "      <th>5</th>\n",
       "      <td>Cerebellar hypoplasia (HP:0001321) (observed)</td>\n",
       "      <td>1</td>\n",
       "    </tr>\n",
       "    <tr>\n",
       "      <th>6</th>\n",
       "      <td>Ventriculomegaly (HP:0002119) (observed)</td>\n",
       "      <td>3</td>\n",
       "    </tr>\n",
       "    <tr>\n",
       "      <th>7</th>\n",
       "      <td>Thin corpus callosum (HP:0033725) (observed)</td>\n",
       "      <td>3</td>\n",
       "    </tr>\n",
       "    <tr>\n",
       "      <th>8</th>\n",
       "      <td>Hyperintensity of cerebral white matter on MRI (HP:0030890) (observed)</td>\n",
       "      <td>1</td>\n",
       "    </tr>\n",
       "    <tr>\n",
       "      <th>9</th>\n",
       "      <td>Abnormal basal ganglia MRI signal intensity (HP:0012751) (observed)</td>\n",
       "      <td>1</td>\n",
       "    </tr>\n",
       "    <tr>\n",
       "      <th>10</th>\n",
       "      <td>Frontotemporal cerebral atrophy (HP:0006892) (observed)</td>\n",
       "      <td>1</td>\n",
       "    </tr>\n",
       "    <tr>\n",
       "      <th>11</th>\n",
       "      <td>Cerebral atrophy (HP:0002059) (observed)</td>\n",
       "      <td>2</td>\n",
       "    </tr>\n",
       "    <tr>\n",
       "      <th>12</th>\n",
       "      <td>Encephalomalacia (HP:0040197) (observed)</td>\n",
       "      <td>1</td>\n",
       "    </tr>\n",
       "    <tr>\n",
       "      <th>13</th>\n",
       "      <td>Periventricular white matter hyperintensities (HP:0030891) (observed)</td>\n",
       "      <td>1</td>\n",
       "    </tr>\n",
       "    <tr>\n",
       "      <th>14</th>\n",
       "      <td>Brain atrophy (HP:0012444) (observed)</td>\n",
       "      <td>1</td>\n",
       "    </tr>\n",
       "    <tr>\n",
       "      <th>15</th>\n",
       "      <td>Focal white matter lesions (HP:0007042) (observed)</td>\n",
       "      <td>6</td>\n",
       "    </tr>\n",
       "    <tr>\n",
       "      <th>16</th>\n",
       "      <td>Abnormal basal ganglia morphology (HP:0002134) (observed)</td>\n",
       "      <td>1</td>\n",
       "    </tr>\n",
       "    <tr>\n",
       "      <th>17</th>\n",
       "      <td>Enlarged cisterna magna (HP:0002280) (observed)</td>\n",
       "      <td>2</td>\n",
       "    </tr>\n",
       "    <tr>\n",
       "      <th>18</th>\n",
       "      <td>Intracranial cystic lesion (HP:0010576) (observed)</td>\n",
       "      <td>1</td>\n",
       "    </tr>\n",
       "  </tbody>\n",
       "</table>\n",
       "</div>"
      ],
      "text/plain": [
       "                                                                   mapping  \\\n",
       "0                        Abnormal brain morphology (HP:0012443) (observed)   \n",
       "1                            Periventricular cysts (HP:0007109) (observed)   \n",
       "2                              CNS hypomyelination (HP:0003429) (observed)   \n",
       "3                             Global brain atrophy (HP:0002283) (observed)   \n",
       "4                       Abnormal cortical gyration (HP:0002536) (observed)   \n",
       "5                            Cerebellar hypoplasia (HP:0001321) (observed)   \n",
       "6                                 Ventriculomegaly (HP:0002119) (observed)   \n",
       "7                             Thin corpus callosum (HP:0033725) (observed)   \n",
       "8   Hyperintensity of cerebral white matter on MRI (HP:0030890) (observed)   \n",
       "9      Abnormal basal ganglia MRI signal intensity (HP:0012751) (observed)   \n",
       "10                 Frontotemporal cerebral atrophy (HP:0006892) (observed)   \n",
       "11                                Cerebral atrophy (HP:0002059) (observed)   \n",
       "12                                Encephalomalacia (HP:0040197) (observed)   \n",
       "13   Periventricular white matter hyperintensities (HP:0030891) (observed)   \n",
       "14                                   Brain atrophy (HP:0012444) (observed)   \n",
       "15                      Focal white matter lesions (HP:0007042) (observed)   \n",
       "16               Abnormal basal ganglia morphology (HP:0002134) (observed)   \n",
       "17                         Enlarged cisterna magna (HP:0002280) (observed)   \n",
       "18                      Intracranial cystic lesion (HP:0010576) (observed)   \n",
       "\n",
       "   count  \n",
       "0      1  \n",
       "1      2  \n",
       "2      3  \n",
       "3      1  \n",
       "4      1  \n",
       "5      1  \n",
       "6      3  \n",
       "7      3  \n",
       "8      1  \n",
       "9      1  \n",
       "10     1  \n",
       "11     2  \n",
       "12     1  \n",
       "13     1  \n",
       "14     1  \n",
       "15     6  \n",
       "16     1  \n",
       "17     2  \n",
       "18     1  "
      ]
     },
     "execution_count": 15,
     "metadata": {},
     "output_type": "execute_result"
    }
   ],
   "source": [
    "mriMapper = OptionColumnMapper(column_name='MRI phenotype',concept_recognizer=hpo_cr, option_d={})\n",
    "column_mapper_list.append(mriMapper)\n",
    "mriMapper.preview_column(df)"
   ]
  },
  {
   "cell_type": "code",
   "execution_count": 16,
   "id": "48629b1c-d192-4296-895a-c39027fd37e1",
   "metadata": {},
   "outputs": [
    {
     "data": {
      "text/html": [
       "<div>\n",
       "<style scoped>\n",
       "    .dataframe tbody tr th:only-of-type {\n",
       "        vertical-align: middle;\n",
       "    }\n",
       "\n",
       "    .dataframe tbody tr th {\n",
       "        vertical-align: top;\n",
       "    }\n",
       "\n",
       "    .dataframe thead th {\n",
       "        text-align: right;\n",
       "    }\n",
       "</style>\n",
       "<table border=\"1\" class=\"dataframe\">\n",
       "  <thead>\n",
       "    <tr style=\"text-align: right;\">\n",
       "      <th></th>\n",
       "      <th>mapping</th>\n",
       "      <th>count</th>\n",
       "    </tr>\n",
       "  </thead>\n",
       "  <tbody>\n",
       "    <tr>\n",
       "      <th>0</th>\n",
       "      <td>Pulmonary arterial hypertension (HP:0002092) (observed)</td>\n",
       "      <td>1</td>\n",
       "    </tr>\n",
       "    <tr>\n",
       "      <th>1</th>\n",
       "      <td>Multifocal atrial tachycardia (HP:0011701) (observed)</td>\n",
       "      <td>1</td>\n",
       "    </tr>\n",
       "    <tr>\n",
       "      <th>2</th>\n",
       "      <td>Hypertrophic cardiomyopathy (HP:0001639) (observed)</td>\n",
       "      <td>1</td>\n",
       "    </tr>\n",
       "    <tr>\n",
       "      <th>3</th>\n",
       "      <td>Left ventricular hypertrophy (HP:0001712) (observed)</td>\n",
       "      <td>1</td>\n",
       "    </tr>\n",
       "  </tbody>\n",
       "</table>\n",
       "</div>"
      ],
      "text/plain": [
       "                                                   mapping count\n",
       "0  Pulmonary arterial hypertension (HP:0002092) (observed)     1\n",
       "1    Multifocal atrial tachycardia (HP:0011701) (observed)     1\n",
       "2      Hypertrophic cardiomyopathy (HP:0001639) (observed)     1\n",
       "3     Left ventricular hypertrophy (HP:0001712) (observed)     1"
      ]
     },
     "execution_count": 16,
     "metadata": {},
     "output_type": "execute_result"
    }
   ],
   "source": [
    "cardiacMapper = OptionColumnMapper(column_name='Cardiac phenotype',concept_recognizer=hpo_cr, option_d={})\n",
    "column_mapper_list.append(cardiacMapper)\n",
    "cardiacMapper.preview_column(df)"
   ]
  },
  {
   "cell_type": "markdown",
   "id": "63de410d-8df4-4545-a503-68af298fb55b",
   "metadata": {},
   "source": [
    "<h1>Putting it all together</h1>"
   ]
  },
  {
   "cell_type": "code",
   "execution_count": 17,
   "id": "2da8b31f-fcf5-4594-84f7-afb36c957141",
   "metadata": {},
   "outputs": [],
   "source": [
    "mdds13 = Disease(disease_id=\"OMIM:615471\", disease_label=\"Mitochondrial DNA depletion syndrome 13 (encephalomyopathic type)\")\n",
    "disease_d = {\"615471\": mdds13}\n",
    "diseaseMapper = DiseaseIdColumnMapper(column_name=\"omim_id\", disease_id_map=disease_d)"
   ]
  },
  {
   "cell_type": "code",
   "execution_count": 18,
   "id": "7637ac78-d8fc-4f90-a468-8deb696aba0f",
   "metadata": {},
   "outputs": [
    {
     "ename": "AttributeError",
     "evalue": "'HpoExactConceptRecognizer' object has no attribute 'get_hpo_ontology'",
     "output_type": "error",
     "traceback": [
      "\u001b[0;31m---------------------------------------------------------------------------\u001b[0m",
      "\u001b[0;31mAttributeError\u001b[0m                            Traceback (most recent call last)",
      "Cell \u001b[0;32mIn[18], line 1\u001b[0m\n\u001b[0;32m----> 1\u001b[0m encoder \u001b[38;5;241m=\u001b[39m \u001b[43mMixedCohortEncoder\u001b[49m\u001b[43m(\u001b[49m\u001b[43mdf\u001b[49m\u001b[38;5;241;43m=\u001b[39;49m\u001b[43mdf\u001b[49m\u001b[43m,\u001b[49m\n\u001b[1;32m      2\u001b[0m \u001b[43m                            \u001b[49m\u001b[43mhpo_cr\u001b[49m\u001b[38;5;241;43m=\u001b[39;49m\u001b[43mhpo_cr\u001b[49m\u001b[43m,\u001b[49m\n\u001b[1;32m      3\u001b[0m \u001b[43m                             \u001b[49m\u001b[43mcolumn_mapper_list\u001b[49m\u001b[38;5;241;43m=\u001b[39;49m\u001b[43mcolumn_mapper_list\u001b[49m\u001b[43m,\u001b[49m\n\u001b[1;32m      4\u001b[0m \u001b[43m                             \u001b[49m\u001b[43mindividual_column_name\u001b[49m\u001b[38;5;241;43m=\u001b[39;49m\u001b[38;5;124;43m\"\u001b[39;49m\u001b[38;5;124;43mpatient_id\u001b[39;49m\u001b[38;5;124;43m\"\u001b[39;49m\u001b[43m,\u001b[49m\n\u001b[1;32m      5\u001b[0m \u001b[43m                             \u001b[49m\u001b[43mdisease_id_mapper\u001b[49m\u001b[38;5;241;43m=\u001b[39;49m\u001b[43mdiseaseMapper\u001b[49m\u001b[43m,\u001b[49m\n\u001b[1;32m      6\u001b[0m \u001b[43m                             \u001b[49m\u001b[43mpmid_column\u001b[49m\u001b[38;5;241;43m=\u001b[39;49m\u001b[38;5;124;43m\"\u001b[39;49m\u001b[38;5;124;43mPMID\u001b[39;49m\u001b[38;5;124;43m\"\u001b[39;49m\u001b[43m,\u001b[49m\n\u001b[1;32m      7\u001b[0m \u001b[43m                             \u001b[49m\u001b[43mtitle_column\u001b[49m\u001b[38;5;241;43m=\u001b[39;49m\u001b[38;5;124;43m\"\u001b[39;49m\u001b[38;5;124;43mtitle\u001b[39;49m\u001b[38;5;124;43m\"\u001b[39;49m\u001b[43m,\u001b[49m\n\u001b[1;32m      8\u001b[0m \u001b[43m                             \u001b[49m\u001b[43msexmapper\u001b[49m\u001b[38;5;241;43m=\u001b[39;49m\u001b[43msexMapper\u001b[49m\u001b[43m,\u001b[49m\n\u001b[1;32m      9\u001b[0m \u001b[43m                             \u001b[49m\u001b[43magemapper\u001b[49m\u001b[38;5;241;43m=\u001b[39;49m\u001b[43mageMapper\u001b[49m\u001b[43m,\u001b[49m\n\u001b[1;32m     10\u001b[0m \u001b[43m                             \u001b[49m\u001b[43mage_of_death_mapper\u001b[49m\u001b[38;5;241;43m=\u001b[39;49m\u001b[43maodMapper\u001b[49m\u001b[43m,\u001b[49m\n\u001b[1;32m     11\u001b[0m \u001b[43m                             \u001b[49m\u001b[43mmetadata\u001b[49m\u001b[38;5;241;43m=\u001b[39;49m\u001b[43mmetadata\u001b[49m\n\u001b[1;32m     12\u001b[0m \u001b[43m                        \u001b[49m\u001b[43m)\u001b[49m\n",
      "File \u001b[0;32m~/GIT/pyphetools/src/pyphetools/creation/mixed_cohort_encoder.py:98\u001b[0m, in \u001b[0;36mMixedCohortEncoder.__init__\u001b[0;34m(self, df, hpo_cr, column_mapper_list, individual_column_name, disease_id_mapper, metadata, pmid_column, title_column, variant_mapper, agemapper, sexmapper, age_of_death_mapper, delimiter)\u001b[0m\n\u001b[1;32m     96\u001b[0m \u001b[38;5;28mself\u001b[39m\u001b[38;5;241m.\u001b[39m_variant_mapper \u001b[38;5;241m=\u001b[39m variant_mapper\n\u001b[1;32m     97\u001b[0m \u001b[38;5;28mself\u001b[39m\u001b[38;5;241m.\u001b[39m_delimiter \u001b[38;5;241m=\u001b[39m delimiter\n\u001b[0;32m---> 98\u001b[0m MixedCohortEncoder\u001b[38;5;241m.\u001b[39mHPO_VERSION \u001b[38;5;241m=\u001b[39m \u001b[43mhpo_cr\u001b[49m\u001b[38;5;241;43m.\u001b[39;49m\u001b[43mget_hpo_ontology\u001b[49m()\u001b[38;5;241m.\u001b[39mversion\n",
      "\u001b[0;31mAttributeError\u001b[0m: 'HpoExactConceptRecognizer' object has no attribute 'get_hpo_ontology'"
     ]
    }
   ],
   "source": [
    "encoder = MixedCohortEncoder(df=df,\n",
    "                            hpo_cr=hpo_cr,\n",
    "                             column_mapper_list=column_mapper_list,\n",
    "                             individual_column_name=\"patient_id\",\n",
    "                             disease_id_mapper=diseaseMapper,\n",
    "                             pmid_column=\"PMID\",\n",
    "                             title_column=\"title\",\n",
    "                             sexmapper=sexMapper,\n",
    "                             agemapper=ageMapper,\n",
    "                             age_of_death_mapper=aodMapper,\n",
    "                             metadata=metadata\n",
    "                        )"
   ]
  },
  {
   "cell_type": "code",
   "execution_count": 19,
   "id": "87b47b70-7a25-48ff-b228-d31b362abc38",
   "metadata": {},
   "outputs": [],
   "source": [
    "individuals = encoder.get_individuals()"
   ]
  },
  {
   "cell_type": "code",
   "execution_count": 20,
   "id": "3cfb875d-c93f-4375-838c-43e1bb994096",
   "metadata": {},
   "outputs": [],
   "source": [
    "# retrieve the variant strings and add Variant objects to each individual\n",
    "# the individual id (i.id) is also the index of the pandas dataframe\n",
    "variant_d = vman.get_variant_d()\n",
    "for i in individuals:\n",
    "    row = df.loc[i.id] \n",
    "    v1 = row['var1']\n",
    "    v2 = row['var2']\n",
    "    #print(f\"{i.id}: v1={v1} and v2={v2}\")\n",
    "    if v1 == v2:\n",
    "        var1 = variant_d.get(v1)\n",
    "        var1.set_homozygous()\n",
    "        i.add_variant(var1)\n",
    "    else:\n",
    "        var1 = variant_d.get(v1)\n",
    "        var2 = variant_d.get(v2)\n",
    "        var1.set_heterozygous()\n",
    "        var2.set_heterozygous()\n",
    "        i.add_variant(var1)\n",
    "        i.add_variant(var2)"
   ]
  },
  {
   "cell_type": "code",
   "execution_count": 21,
   "id": "f1c6e96e-e257-4e5b-9008-799e1efa28c2",
   "metadata": {},
   "outputs": [
    {
     "data": {
      "text/html": [
       "<h2>Cohort validation</h2>\n",
       "<p>Errors found with 1 of 30 phenopackets.</p>\n",
       "<table style=\"border: 2px solid black; align: \"left\">\n",
       "<caption>Error counts</caption>\n",
       "<tr><th style=\"text-align: left;font-weight: bold;\">Level</th><th style=\"text-align: left;font-weight: bold;\">Error category</th><th style=\"text-align: left;font-weight: bold;\">Count</th></tr>\n",
       "</table>\n",
       "<p>A total of 1 issues were fixed and no individual was removed from the cohort.</p>"
      ],
      "text/plain": [
       "<IPython.core.display.HTML object>"
      ]
     },
     "metadata": {},
     "output_type": "display_data"
    }
   ],
   "source": [
    "cvalidator = CohortValidator(cohort=individuals, ontology=hpo_ontology, min_hpo=1, allelic_requirement=AllelicRequirement.BI_ALLELIC)\n",
    "qc = QcVisualizer(cohort_validator=cvalidator)\n",
    "display(HTML(qc.to_summary_html()))"
   ]
  },
  {
   "cell_type": "markdown",
   "id": "f2fd5264-1827-43e3-9c28-fd41daeacf41",
   "metadata": {},
   "source": [
    "<h2>Visualization</h2>"
   ]
  },
  {
   "cell_type": "code",
   "execution_count": 22,
   "id": "45974479-ed62-423e-a4af-724df9510da0",
   "metadata": {},
   "outputs": [
    {
     "data": {
      "text/html": [
       "<table style=\"border: 2px solid black; align: \"left\">\n",
       "<caption>30 phenopackets - PMID:34738379 (n=1); PMID:32559514 (n=1); PMID:27182039 (n=1); PMID:31442532 (n=1); PMID:31969900 (n=2); PMID:32779419 (n=1); PMID:27743463 (n=10); PMID:26404457 (n=1); PMID:30804983 (n=1); PMID:34602956 (n=1); PMID:30771478 (n=1); PMID:23993194 (n=9)</caption>\n",
       "<tr><th style=\"text-align: left;font-weight: bold;\">Individual</th><th style=\"text-align: left;font-weight: bold;\">Disease</th><th style=\"text-align: left;font-weight: bold;\">Genotype</th><th style=\"text-align: left;font-weight: bold;\">Phenotypic features</th></tr>\n",
       "<tr><td style=\"text-align: left;\">34738379_P1 (UNKNOWN; )</td><td style=\"text-align: left;\">Mitochondrial DNA depletion syndrome 13 (encephalomyopathic type) (OMIM:615471)</td><td style=\"text-align: left;\"><ul> <li>NM_001278716.2:c.772G>T (heterozygous)</li> <li>NM_001278716.2:c.1061G>C (heterozygous)</li> </ul></td><td style=\"text-align: left;\">Abnormal eyebrow morphology (HP:0000534); Triangular face (HP:0000325); Abnormal shape of the palpebral fissure (HP:0200005); Mandibular prognathia (HP:0000303); Increased serum lactate (HP:0002151); Increased serum pyruvate (HP:0003542)</td></tr>\n",
       "<tr><td style=\"text-align: left;\">32559514_P1 (UNKNOWN; P1Y6M)</td><td style=\"text-align: left;\">Mitochondrial DNA depletion syndrome 13 (encephalomyopathic type) (OMIM:615471)</td><td style=\"text-align: left;\">NM_001278716.2:c.993dup (homozygous)</td><td style=\"text-align: left;\">Global developmental delay (HP:0001263); Hypotonia (HP:0001252); Abnormal eating behavior (HP:0100738); Hypertelorism (HP:0000316); Short palpebral fissure (HP:0012745); Internuclear ophthalmoplegia (HP:0030773); Wide nasal bridge (HP:0000431); Abnormal brain morphology (HP:0012443)</td></tr>\n",
       "<tr><td style=\"text-align: left;\">27182039_P1 (UNKNOWN; P3Y6M)</td><td style=\"text-align: left;\">Mitochondrial DNA depletion syndrome 13 (encephalomyopathic type) (OMIM:615471)</td><td style=\"text-align: left;\">NM_001278716.2:c.1442T>C (homozygous)</td><td style=\"text-align: left;\">Metabolic acidosis (HP:0001942); Wolff-Parkinson-White syndrome (HP:0001716); Increased serum lactate (HP:0002151); Global developmental delay (HP:0001263); Nystagmus (HP:0000639); Hypotonia (HP:0001252); Focal impaired awareness seizure (HP:0002384); Prominent metopic ridge (HP:0005487); Thick eyebrow (HP:0000574); Ptosis (HP:0000508); Short palpebral fissure (HP:0012745); Epicanthus (HP:0000286); Strabismus (HP:0000486); Wide nasal bridge (HP:0000431); Smooth philtrum (HP:0000319); Short chin (HP:0000331); Hernia (HP:0100790); Hepatomegaly (HP:0002240); Hypospadias (HP:0000047); Cryptorchidism (HP:0000028); Periventricular cysts (HP:0007109); CNS hypomyelination (HP:0003429); Global brain atrophy (HP:0002283)</td></tr>\n",
       "<tr><td style=\"text-align: left;\">31442532_P1 (FEMALE; )</td><td style=\"text-align: left;\">Mitochondrial DNA depletion syndrome 13 (encephalomyopathic type) (OMIM:615471)</td><td style=\"text-align: left;\">NM_001278716.2:c.1750T>C (homozygous)</td><td style=\"text-align: left;\">Encephalopathy (HP:0001298); Hypertrophic cardiomyopathy (HP:0001639); Increased serum lactate (HP:0002151); Polymicrogyria (HP:0002126); Cryptorchidism (HP:0000028); Hydronephrosis (HP:0000126); Cerebellar hypoplasia (HP:0001321)</td></tr>\n",
       "<tr><td style=\"text-align: left;\">31969900_P1 (FEMALE; P1D)</td><td style=\"text-align: left;\">Mitochondrial DNA depletion syndrome 13 (encephalomyopathic type) (OMIM:615471)</td><td style=\"text-align: left;\"><ul> <li>NM_001278716.2:c.858+5G>C (heterozygous)</li> <li>NM_001278716.2:c.1510T>C (heterozygous)</li> </ul></td><td style=\"text-align: left;\">Global developmental delay (HP:0001263); Hypotonia (HP:0001252); Nystagmus (HP:0000639); Increased serum lactate (HP:0002151); Gastroesophageal reflux (HP:0002020); Epileptic spasm (HP:0011097); Dysphagia (HP:0002015); Encephalopathy (HP:0001298); Single umbilical artery (HP:0001195); Enlarged fetal cisterna magna (HP:0011427); Abnormal cortical gyration (HP:0002536); Cerebellar hypoplasia (HP:0001321)</td></tr>\n",
       "<tr><td style=\"text-align: left;\">31969900_P2 (MALE; )</td><td style=\"text-align: left;\">Mitochondrial DNA depletion syndrome 13 (encephalomyopathic type) (OMIM:615471)</td><td style=\"text-align: left;\">NM_001278716.2:c.851_852del (homozygous)</td><td style=\"text-align: left;\">Growth delay (HP:0001510); Cyanosis (HP:0000961); Hypoxemia (HP:0012418); Hypospadias (HP:0000047); Cryptorchidism (HP:0000028)</td></tr>\n",
       "<tr><td style=\"text-align: left;\">32779419_P1 (MALE; P1M21D)</td><td style=\"text-align: left;\">Mitochondrial DNA depletion syndrome 13 (encephalomyopathic type) (OMIM:615471)</td><td style=\"text-align: left;\"><ul> <li>NM_001278716.2:c.772G>T (heterozygous)</li> <li>NM_001278716.2:c.1061G>C (heterozygous)</li> </ul></td><td style=\"text-align: left;\">Micrognathia (HP:0000347); Low-set ears (HP:0000369); Abnormality of the forehead (HP:0000290); Long philtrum (HP:0000343); Global developmental delay (HP:0001263); Hypotonia (HP:0001252); Optic atrophy (HP:0000648); Increased serum lactate (HP:0002151); Bloody diarrhea (HP:0025085); Ventriculomegaly (HP:0002119); Thin corpus callosum (HP:0033725); CNS hypomyelination (HP:0003429)</td></tr>\n",
       "<tr><td style=\"text-align: left;\">27743463_P1 (MALE; P1Y7M)</td><td style=\"text-align: left;\">Mitochondrial DNA depletion syndrome 13 (encephalomyopathic type) (OMIM:615471)</td><td style=\"text-align: left;\">NM_001278716.2:c.219T>A (homozygous)</td><td style=\"text-align: left;\">Decreased body weight (HP:0004325); Short stature (HP:0004322); Microcephaly (HP:0000252); Abnormal facial shape (HP:0001999); Global developmental delay (HP:0001263); Hypotonia (HP:0001252); Leukodystrophy (HP:0002415); Cerebral atrophy (HP:0002059); Atrial septal defect (HP:0001631); Left ventricular hypertrophy (HP:0001712)</td></tr>\n",
       "<tr><td style=\"text-align: left;\">27743463_P2 (FEMALE; P10M)</td><td style=\"text-align: left;\">Mitochondrial DNA depletion syndrome 13 (encephalomyopathic type) (OMIM:615471)</td><td style=\"text-align: left;\">NM_001278716.2:c.1641_1642del (homozygous)</td><td style=\"text-align: left;\">Decreased body weight (HP:0004325); Abnormal facial shape (HP:0001999); Global developmental delay (HP:0001263); Hypotonia (HP:0001252); Leukodystrophy (HP:0002415); Pulmonary arterial hypertension (HP:0002092); Right ventricular hypertrophy (HP:0001667)</td></tr>\n",
       "<tr><td style=\"text-align: left;\">27743463_P3 (MALE; P1Y2M)</td><td style=\"text-align: left;\">Mitochondrial DNA depletion syndrome 13 (encephalomyopathic type) (OMIM:615471)</td><td style=\"text-align: left;\">NM_001278716.2:c.1641_1642del (homozygous)</td><td style=\"text-align: left;\">Decreased body weight (HP:0004325); Short stature (HP:0004322); Microcephaly (HP:0000252); Abnormal facial shape (HP:0001999); Global developmental delay (HP:0001263); Hypotonia (HP:0001252); Nystagmus (HP:0000639); Cerebral atrophy (HP:0002059); Tetralogy of Fallot (HP:0001636)</td></tr>\n",
       "<tr><td style=\"text-align: left;\">27743463_P4 (FEMALE; )</td><td style=\"text-align: left;\">Mitochondrial DNA depletion syndrome 13 (encephalomyopathic type) (OMIM:615471)</td><td style=\"text-align: left;\"><ul> <li>NM_001278716.2:c.1687C>T (heterozygous)</li> <li>NM_001278716.2:c.1622C>T (heterozygous)</li> </ul></td><td style=\"text-align: left;\">Pulmonary arterial hypertension (HP:0002092); Patent foramen ovale (HP:0001655); Patent ductus arteriosus (HP:0001643)</td></tr>\n",
       "<tr><td style=\"text-align: left;\">27743463_P5 (FEMALE; P1Y11M)</td><td style=\"text-align: left;\">Mitochondrial DNA depletion syndrome 13 (encephalomyopathic type) (OMIM:615471)</td><td style=\"text-align: left;\"><ul> <li>NM_001278716.2:c.1389+3_1389+6del (heterozygous)</li> <li>NM_001278716.2:c.1838T>A (heterozygous)</li> </ul></td><td style=\"text-align: left;\">Abnormal facial shape (HP:0001999); Global developmental delay (HP:0001263); Hypotonia (HP:0001252); Hearing impairment (HP:0000365); Nystagmus (HP:0000639); Right ventricular hypertrophy (HP:0001667); Tricuspid regurgitation (HP:0005180); Patent foramen ovale (HP:0001655); Patent ductus arteriosus (HP:0001643)</td></tr>\n",
       "<tr><td style=\"text-align: left;\">27743463_P6 (FEMALE; P1Y10M)</td><td style=\"text-align: left;\">Mitochondrial DNA depletion syndrome 13 (encephalomyopathic type) (OMIM:615471)</td><td style=\"text-align: left;\"><ul> <li>NM_001278716.2:c.64C>T (heterozygous)</li> <li>NM_001278716.2:c.1444C>T (heterozygous)</li> </ul></td><td style=\"text-align: left;\">Abnormal facial shape (HP:0001999); Global developmental delay (HP:0001263); Hypotonia (HP:0001252); Seizure (HP:0001250)</td></tr>\n",
       "<tr><td style=\"text-align: left;\">27743463_P7 (MALE; )</td><td style=\"text-align: left;\">Mitochondrial DNA depletion syndrome 13 (encephalomyopathic type) (OMIM:615471)</td><td style=\"text-align: left;\">NM_001278716.2:c.1703G>C (homozygous)</td><td style=\"text-align: left;\">Global developmental delay (HP:0001263); Seizure (HP:0001250)</td></tr>\n",
       "<tr><td style=\"text-align: left;\">27743463_P8 (MALE; )</td><td style=\"text-align: left;\">Mitochondrial DNA depletion syndrome 13 (encephalomyopathic type) (OMIM:615471)</td><td style=\"text-align: left;\">NM_001278716.2:c.273_277del (homozygous)</td><td style=\"text-align: left;\">Decreased body weight (HP:0004325); Abnormal facial shape (HP:0001999); Hypotonia (HP:0001252); Pulmonary arterial hypertension (HP:0002092); Patent foramen ovale (HP:0001655); Patent ductus arteriosus (HP:0001643)</td></tr>\n",
       "<tr><td style=\"text-align: left;\">27743463_P9 (MALE; P9M)</td><td style=\"text-align: left;\">Mitochondrial DNA depletion syndrome 13 (encephalomyopathic type) (OMIM:615471)</td><td style=\"text-align: left;\"><ul> <li>NM_001278716.2:c.1641_1642del (heterozygous)</li> <li>NM_001278716.2:c.1232G>A (heterozygous)</li> </ul></td><td style=\"text-align: left;\">Global developmental delay (HP:0001263); Supraventricular tachycardia (HP:0004755)</td></tr>\n",
       "<tr><td style=\"text-align: left;\">27743463_P10 (MALE; P12Y)</td><td style=\"text-align: left;\">Mitochondrial DNA depletion syndrome 13 (encephalomyopathic type) (OMIM:615471)</td><td style=\"text-align: left;\"><ul> <li>NM_001278716.2:c.64C>T (heterozygous)</li> <li>NM_001278716.2:c.1641_1642del (heterozygous)</li> </ul></td><td style=\"text-align: left;\">Abnormal facial shape (HP:0001999); Global developmental delay (HP:0001263); Hypotonia (HP:0001252)</td></tr>\n",
       "<tr><td style=\"text-align: left;\">26404457_P1 (FEMALE; P1D)</td><td style=\"text-align: left;\">Mitochondrial DNA depletion syndrome 13 (encephalomyopathic type) (OMIM:615471)</td><td style=\"text-align: left;\">NM_001278716.2:c.1641_1642del (homozygous)</td><td style=\"text-align: left;\">Temperature instability (HP:0005968); Metabolic acidosis (HP:0001942); Hypotonia (HP:0001252); Neutropenia (HP:0001875); Decreased circulating antibody level (HP:0004313); Lymphopenia (HP:0001888); Global developmental delay (HP:0001263); Small face (HP:0000274); Abnormality of the philtrum (HP:0000288); Short palpebral fissure (HP:0012745); Hyperintensity of cerebral white matter on MRI (HP:0030890); Periventricular cysts (HP:0007109); CNS hypomyelination (HP:0003429); Abnormal basal ganglia MRI signal intensity (HP:0012751); Pulmonary arterial hypertension (HP:0002092); Multifocal atrial tachycardia (HP:0011701)</td></tr>\n",
       "<tr><td style=\"text-align: left;\">30804983_P1 (FEMALE; P9M)</td><td style=\"text-align: left;\">Mitochondrial DNA depletion syndrome 13 (encephalomyopathic type) (OMIM:615471)</td><td style=\"text-align: left;\">NM_001278716.2:c.1303C>T (homozygous)</td><td style=\"text-align: left;\">Frontal bossing (HP:0002007); Prominent supraorbital ridges (HP:0000336); Long eyelashes (HP:0000527); Thick eyebrow (HP:0000574); Frontal hirsutism (HP:0011335); Long philtrum (HP:0000343); Smooth philtrum (HP:0000319); Microcephaly (HP:0000252); Abdominal distention (HP:0003270); Global developmental delay (HP:0001263); Hypotonia (HP:0001252); Increased serum lactate (HP:0002151); Anemia (HP:0001903); Frontotemporal cerebral atrophy (HP:0006892); Ventriculomegaly (HP:0002119)</td></tr>\n",
       "<tr><td style=\"text-align: left;\">34602956_P1 (MALE; P4Y6M)</td><td style=\"text-align: left;\">Mitochondrial DNA depletion syndrome 13 (encephalomyopathic type) (OMIM:615471)</td><td style=\"text-align: left;\">NM_001278716.2:c.486T>G (homozygous)</td><td style=\"text-align: left;\">Prominent metopic ridge (HP:0005487); Thick eyebrow (HP:0000574); Short palpebral fissure (HP:0012745); Epicanthus (HP:0000286); Wide nasal bridge (HP:0000431); Smooth philtrum (HP:0000319); Micrognathia (HP:0000347); Strabismus (HP:0000486); Bilateral cryptorchidism (HP:0008689); Global developmental delay (HP:0001263); Increased serum lactate (HP:0002151); Hypotonia (HP:0001252); Nystagmus (HP:0000639); Hydrocephalus (HP:0000238); Polyhydramnios (HP:0001561); Cerebral atrophy (HP:0002059); Encephalomalacia (HP:0040197); Thin corpus callosum (HP:0033725); Ventriculomegaly (HP:0002119); Periventricular white matter hyperintensities (HP:0030891); Hypertrophic cardiomyopathy (HP:0001639)</td></tr>\n",
       "<tr><td style=\"text-align: left;\">30771478_P1 (FEMALE; P4M)</td><td style=\"text-align: left;\">Mitochondrial DNA depletion syndrome 13 (encephalomyopathic type) (OMIM:615471)</td><td style=\"text-align: left;\">NM_001278716.2:c.1303C>T (homozygous)</td><td style=\"text-align: left;\">Global developmental delay (HP:0001263); Hypotonia (HP:0001252); Subcapsular cataract (HP:0000523); Bilateral tonic-clonic seizure with generalized onset (HP:0025190); Increased serum lactate (HP:0002151); Hyperammonemia (HP:0001987); Ventriculomegaly (HP:0002119)</td></tr>\n",
       "<tr><td style=\"text-align: left;\">23993194_P1 (MALE; P4M)</td><td style=\"text-align: left;\">Mitochondrial DNA depletion syndrome 13 (encephalomyopathic type) (OMIM:615471)</td><td style=\"text-align: left;\">NM_001278716.2:c.1703G>C (homozygous)</td><td style=\"text-align: left;\">Global developmental delay (HP:0001263); Increased serum lactate (HP:0002151); Hypotonia (HP:0001252); Ataxia (HP:0001251); Dystonia (HP:0001332); Dysphagia (HP:0002015); Dolichocephaly (HP:0000268); Protruding ear (HP:0000411); Large face (HP:0100729); Everted lower lip vermilion (HP:0000232); Thin corpus callosum (HP:0033725); Brain atrophy (HP:0012444); Focal white matter lesions (HP:0007042); Abnormal basal ganglia morphology (HP:0002134); Enlarged cisterna magna (HP:0002280); Intracranial cystic lesion (HP:0010576)</td></tr>\n",
       "<tr><td style=\"text-align: left;\">23993194_P2 (MALE; P1D)</td><td style=\"text-align: left;\">Mitochondrial DNA depletion syndrome 13 (encephalomyopathic type) (OMIM:615471)</td><td style=\"text-align: left;\">NM_001278716.2:c.1444C>T (homozygous)</td><td style=\"text-align: left;\">Global developmental delay (HP:0001263); Increased serum lactate (HP:0002151); Hypotonia (HP:0001252)</td></tr>\n",
       "<tr><td style=\"text-align: left;\">23993194_P3 (MALE; P4M)</td><td style=\"text-align: left;\">Mitochondrial DNA depletion syndrome 13 (encephalomyopathic type) (OMIM:615471)</td><td style=\"text-align: left;\">NM_001278716.2:c.1444C>T (homozygous)</td><td style=\"text-align: left;\">Global developmental delay (HP:0001263); Increased serum lactate (HP:0002151); Hypotonia (HP:0001252); Seizure (HP:0001250); Dysphagia (HP:0002015); Cerebral atrophy (HP:0002059)</td></tr>\n",
       "<tr><td style=\"text-align: left;\">23993194_P4 (MALE; )</td><td style=\"text-align: left;\">Mitochondrial DNA depletion syndrome 13 (encephalomyopathic type) (OMIM:615471)</td><td style=\"text-align: left;\">NM_001278716.2:c.1444C>T (homozygous)</td><td style=\"text-align: left;\">Global developmental delay (HP:0001263); Increased serum lactate (HP:0002151); Hypotonia (HP:0001252); Seizure (HP:0001250)</td></tr>\n",
       "<tr><td style=\"text-align: left;\">23993194_P5 (FEMALE; P1M)</td><td style=\"text-align: left;\">Mitochondrial DNA depletion syndrome 13 (encephalomyopathic type) (OMIM:615471)</td><td style=\"text-align: left;\"><ul> <li>NM_001278716.2:c.1790A>C (heterozygous)</li> <li>NM_001278716.2:c.1067del (heterozygous)</li> </ul></td><td style=\"text-align: left;\">Global developmental delay (HP:0001263); Increased serum lactate (HP:0002151); Hypotonia (HP:0001252); Cerebral atrophy (HP:0002059); Seizure (HP:0001250); Ataxia (HP:0001251); Dystonia (HP:0001332); Dysphagia (HP:0002015); Decreased facial expression (HP:0004673); Synophrys (HP:0000664); Long eyelashes (HP:0000527); Thick eyebrow (HP:0000574); Epicanthus (HP:0000286); Thick lower lip vermilion (HP:0000179); Focal white matter lesions (HP:0007042); Enlarged cisterna magna (HP:0002280)</td></tr>\n",
       "<tr><td style=\"text-align: left;\">23993194_P6 (MALE; P1D)</td><td style=\"text-align: left;\">Mitochondrial DNA depletion syndrome 13 (encephalomyopathic type) (OMIM:615471)</td><td style=\"text-align: left;\">NM_001278716.2:c.1694A>G (homozygous)</td><td style=\"text-align: left;\">Global developmental delay (HP:0001263); Increased serum lactate (HP:0002151); Hypotonia (HP:0001252); Seizure (HP:0001250); Dysphagia (HP:0002015); Micrognathia (HP:0000347); Supernumerary nipple (HP:0002558); Hypospadias (HP:0000047); Hypoglycemia (HP:0001943); Hyperammonemia (HP:0001987); Focal white matter lesions (HP:0007042)</td></tr>\n",
       "<tr><td style=\"text-align: left;\">23993194_P7 (MALE; P9M)</td><td style=\"text-align: left;\">Mitochondrial DNA depletion syndrome 13 (encephalomyopathic type) (OMIM:615471)</td><td style=\"text-align: left;\">NM_001278716.2:c.1652T>A (homozygous)</td><td style=\"text-align: left;\">Intrauterine growth retardation (HP:0001511); Cerebral atrophy (HP:0002059); Hypotonia (HP:0001252); Microcytic anemia (HP:0001935); Bilateral cryptorchidism (HP:0008689); Increased serum lactate (HP:0002151); Dystonia (HP:0001332); Low-set ears (HP:0000369); Hyperammonemia (HP:0001987); Global developmental delay (HP:0001263); Seizure (HP:0001250); Ataxia (HP:0001251); Pectus excavatum (HP:0000767); Hypospadias (HP:0000047); Dysphagia (HP:0002015); Mild fetal ventriculomegaly (HP:0010952); Focal white matter lesions (HP:0007042)</td></tr>\n",
       "<tr><td style=\"text-align: left;\">23993194_P8 (FEMALE; P1D)</td><td style=\"text-align: left;\">Mitochondrial DNA depletion syndrome 13 (encephalomyopathic type) (OMIM:615471)</td><td style=\"text-align: left;\"><ul> <li>NM_001278716.2:c.614T>C (heterozygous)</li> <li>NM_001278716.2:c.106A>T (heterozygous)</li> </ul></td><td style=\"text-align: left;\">Global developmental delay (HP:0001263); Increased serum lactate (HP:0002151); Hypotonia (HP:0001252); Cerebral atrophy (HP:0002059); Seizure (HP:0001250); Dysphagia (HP:0002015); Abnormal pinna morphology (HP:0000377); Concave nasal ridge (HP:0011120); Small face (HP:0000274); Microphthalmia (HP:0000568); Long philtrum (HP:0000343); Epicanthus (HP:0000286); Developmental cataract (HP:0000519); Horizontal nystagmus (HP:0000666); Focal white matter lesions (HP:0007042); Left ventricular hypertrophy (HP:0001712)</td></tr>\n",
       "<tr><td style=\"text-align: left;\">23993194_P9 (MALE; P1D)</td><td style=\"text-align: left;\">Mitochondrial DNA depletion syndrome 13 (encephalomyopathic type) (OMIM:615471)</td><td style=\"text-align: left;\">NM_001278716.2:c.1229C>T (homozygous)</td><td style=\"text-align: left;\">Global developmental delay (HP:0001263); Increased serum lactate (HP:0002151); Hypotonia (HP:0001252); Cerebral atrophy (HP:0002059); Seizure (HP:0001250); Dysphagia (HP:0002015); Focal white matter lesions (HP:0007042)</td></tr>\n",
       "</table>"
      ],
      "text/plain": [
       "<IPython.core.display.HTML object>"
      ]
     },
     "metadata": {},
     "output_type": "display_data"
    }
   ],
   "source": [
    "individuals = cvalidator.get_error_free_individual_list()\n",
    "table = PhenopacketTable(individual_list=individuals, metadata=metadata)\n",
    "display(HTML(table.to_html()))"
   ]
  },
  {
   "cell_type": "code",
   "execution_count": 23,
   "id": "766c5fd5-6c75-4aec-bbdf-19bbe85f1c1e",
   "metadata": {},
   "outputs": [
    {
     "name": "stdout",
     "output_type": "stream",
     "text": [
      "We output 30 GA4GH phenopackets to the directory phenopackets\n"
     ]
    }
   ],
   "source": [
    "MixedCohortEncoder.output_individuals_as_phenopackets(individual_list=individuals)"
   ]
  },
  {
   "cell_type": "code",
   "execution_count": null,
   "id": "085e5f93-c8e7-480b-a9a0-1d72e91b7a4c",
   "metadata": {},
   "outputs": [],
   "source": []
  }
 ],
 "metadata": {
  "kernelspec": {
   "display_name": "ppt_venv",
   "language": "python",
   "name": "ppt_venv"
  },
  "language_info": {
   "codemirror_mode": {
    "name": "ipython",
    "version": 3
   },
   "file_extension": ".py",
   "mimetype": "text/x-python",
   "name": "python",
   "nbconvert_exporter": "python",
   "pygments_lexer": "ipython3",
   "version": "3.11.6"
  }
 },
 "nbformat": 4,
 "nbformat_minor": 5
}
