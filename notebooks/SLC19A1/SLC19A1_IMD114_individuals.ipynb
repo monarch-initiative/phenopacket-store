{
 "cells": [
  {
   "cell_type": "markdown",
   "id": "cdfc29fc-3d58-4448-96c0-79e0fbba1d4f",
   "metadata": {},
   "source": [
    "# SLC19A1\n",
    "[Folate-responsive immunodeficiency-114 (IMD114)](https://omim.org/entry/620603) is caused by homozygous mutation in the SLC19A1 gene"
   ]
  },
  {
   "cell_type": "code",
   "execution_count": 5,
   "id": "9ea54035-7e45-49ad-bbef-38bce11c80b0",
   "metadata": {},
   "outputs": [
    {
     "name": "stdout",
     "output_type": "stream",
     "text": [
      "Using pyphetools version 0.9.72\n"
     ]
    }
   ],
   "source": [
    "from pyphetools.creation import TemplateImporter\n",
    "from pyphetools.visualization import IndividualTable, QcVisualizer\n",
    "from IPython.display import display, HTML\n",
    "import pyphetools\n",
    "print(f\"Using pyphetools version {pyphetools.__version__}\")"
   ]
  },
  {
   "cell_type": "code",
   "execution_count": 6,
   "id": "2a4f54de-4365-4570-b19b-f7cb7a669f7b",
   "metadata": {},
   "outputs": [],
   "source": [
    "template = \"input/SLC19A1_IMD114_individuals.xlsx\"\n",
    "hp_json = \"../hp.json\"\n",
    "created_by = \"0000-0002-0736-9199\""
   ]
  },
  {
   "cell_type": "code",
   "execution_count": 9,
   "id": "cb3c77a6-2323-4678-b486-b7a3dbe9fdab",
   "metadata": {},
   "outputs": [
    {
     "name": "stdout",
     "output_type": "stream",
     "text": [
      "HPO version 2024-03-06\n",
      "Created encoders for 48 fields\n",
      "Importing OMIM:620603, Immunodeficiency 114, folate-responsive, HGNC:10937, SLC19A1,  NM_194255.4\n",
      "[INFO] encoding variant \"c.1042G>A\"\n",
      "https://rest.variantvalidator.org/VariantValidator/variantvalidator/hg38/NM_194255.4%3Ac.1042G>A/NM_194255.4?content-type=application%2Fjson\n",
      "We output 4 GA4GH phenopackets to the directory phenopackets\n"
     ]
    }
   ],
   "source": [
    "timporter = TemplateImporter(template=template, hp_json=hp_json, created_by=created_by)\n",
    "individual_list, cvalidator = timporter.import_phenopackets_from_template()"
   ]
  },
  {
   "cell_type": "code",
   "execution_count": 10,
   "id": "ef756fa3-74c0-4685-9cc9-fbc10a5c0e51",
   "metadata": {},
   "outputs": [
    {
     "data": {
      "text/html": [
       "<h2>Cohort validation</h2>\n",
       "<p>Errors found with 3 of 4 phenopackets.</p>\n",
       "<table style=\"border: 2px solid black; align: \"left\">\n",
       "<caption>Error counts</caption>\n",
       "<tr><th style=\"text-align: left;font-weight: bold;\">Level</th><th style=\"text-align: left;font-weight: bold;\">Error category</th><th style=\"text-align: left;font-weight: bold;\">Count</th></tr>\n",
       "<tr><td style=\"text-align: left;\">WARNING</td><td style=\"text-align: left;\">REDUNDANT</td><td style=\"text-align: left;\">3</td></tr>\n",
       "</table>\n",
       "<p>A total of 3 issues were fixed and no individual was removed from the cohort.</p>"
      ],
      "text/plain": [
       "<IPython.core.display.HTML object>"
      ]
     },
     "metadata": {},
     "output_type": "display_data"
    }
   ],
   "source": [
    "qc = QcVisualizer(cohort_validator=cvalidator)\n",
    "display(HTML(qc.to_summary_html()))"
   ]
  },
  {
   "cell_type": "code",
   "execution_count": 11,
   "id": "61654f0c-9c55-4864-8a69-b0be6221d222",
   "metadata": {},
   "outputs": [
    {
     "data": {
      "text/html": [
       "<table style=\"border: 2px solid black; align: \"left\">\n",
       "<caption>4 phenopackets - PMID:36517554 (n=2); PMID:36745868 (n=2)</caption>\n",
       "<tr><th style=\"text-align: left;font-weight: bold;\">Individual</th><th style=\"text-align: left;font-weight: bold;\">Disease</th><th style=\"text-align: left;font-weight: bold;\">Genotype</th><th style=\"text-align: left;font-weight: bold;\">Phenotypic features</th></tr>\n",
       "<tr><td style=\"text-align: left;\">patient 1 (MALE; P2Y)</td><td style=\"text-align: left;\">Immunodeficiency 114, folate-responsive (OMIM:620603)</td><td style=\"text-align: left;\">NM_194255.4:c.1042G>A (homozygous)</td><td style=\"text-align: left;\">Hepatomegaly (HP:0002240); Splenomegaly (HP:0001744); Skin ulcer (HP:0200042); Recurrent lower respiratory tract infections (HP:0002783); Immunodeficiency (HP:0002721); Aphthous ulcer (HP:0032154); Megaloblastic bone marrow (HP:0001980); Decreased circulating IgG level (HP:0004315); Hypertriglyceridemia (HP:0002155); Increased circulating ferritin concentration (HP:0003281); Hypofibrinogenemia (HP:0011900); excluded: Global developmental delay (HP:0001263); excluded: Seizure (HP:0001250); excluded: Carious teeth (HP:0000670); excluded: Abnormal blood folate concentration (HP:0040087)</td></tr>\n",
       "<tr><td style=\"text-align: left;\">patient 2 (MALE; P1Y2M)</td><td style=\"text-align: left;\">Immunodeficiency 114, folate-responsive (OMIM:620603)</td><td style=\"text-align: left;\">NM_194255.4:c.1042G>A (homozygous)</td><td style=\"text-align: left;\">Recurrent lower respiratory tract infections (HP:0002783); Skin ulcer (HP:0200042); Immunodeficiency (HP:0002721); Cerebral atrophy (HP:0002059); Cerebellar atrophy (HP:0001272); Global developmental delay (HP:0001263); Delayed CNS myelination (HP:0002188); Aphthous ulcer (HP:0032154); excluded: Seizure (HP:0001250); excluded: Carious teeth (HP:0000670); excluded: Abnormal blood folate concentration (HP:0040087)</td></tr>\n",
       "<tr><td style=\"text-align: left;\">Patient 1  (MALE; P9Y)</td><td style=\"text-align: left;\">Immunodeficiency 114, folate-responsive (OMIM:620603)</td><td style=\"text-align: left;\">NM_194255.4:c.1042G>A (homozygous)</td><td style=\"text-align: left;\">Chronic diarrhea (HP:0002028); Recurrent fever (HP:0001954); Atopic dermatitis (HP:0001047); Lip fissure (HP:0031250); Thrombocytopenia (HP:0001873); Megaloblastic anemia (HP:0001889); Lymphopenia (HP:0001888); Recurrent lower respiratory tract infections (HP:0002783); Food allergy (HP:0500093); Immunodeficiency (HP:0002721); Global developmental delay (HP:0001263); Delayed CNS myelination (HP:0002188); Aphthous ulcer (HP:0032154); Decreased circulating IgG level (HP:0004315); Postnatal growth retardation (HP:0008897); Increased circulating IgE level (HP:0003212); excluded: Hepatomegaly (HP:0002240); excluded: Splenomegaly (HP:0001744); excluded: Skin ulcer (HP:0200042); excluded: Cerebral calcification (HP:0002514); excluded: Cerebral atrophy (HP:0002059); excluded: Cerebellar atrophy (HP:0001272); excluded: Seizure (HP:0001250); excluded: Carious teeth (HP:0000670)</td></tr>\n",
       "<tr><td style=\"text-align: left;\">Patient 2 (MALE; P5Y)</td><td style=\"text-align: left;\">Immunodeficiency 114, folate-responsive (OMIM:620603)</td><td style=\"text-align: left;\">NM_194255.4:c.1042G>A (homozygous)</td><td style=\"text-align: left;\"><b>P1Y6M</b>: Lip fissure (HP:0031250)<br/><b>P2Y</b>: Carious teeth (HP:0000670)<br/>Chronic diarrhea (HP:0002028); Recurrent fever (HP:0001954); Thrombocytopenia (HP:0001873); Megaloblastic anemia (HP:0001889); Lymphopenia (HP:0001888); Recurrent lower respiratory tract infections (HP:0002783); Immunodeficiency (HP:0002721); Cerebral calcification (HP:0002514); Global developmental delay (HP:0001263); Seizure (HP:0001250); Aphthous ulcer (HP:0032154); Decreased circulating IgG level (HP:0004315); excluded: Hepatomegaly (HP:0002240); excluded: Splenomegaly (HP:0001744); excluded: Atopic dermatitis (HP:0001047); excluded: Skin ulcer (HP:0200042); excluded: Food allergy (HP:0500093); excluded: Cerebral atrophy (HP:0002059); excluded: Cerebellar atrophy (HP:0001272); excluded: Postnatal growth retardation (HP:0008897); excluded: Increased circulating IgE level (HP:0003212)</td></tr>\n",
       "</table>"
      ],
      "text/plain": [
       "<IPython.core.display.HTML object>"
      ]
     },
     "metadata": {},
     "output_type": "display_data"
    }
   ],
   "source": [
    "table = IndividualTable(cvalidator.get_error_free_individual_list())\n",
    "display(HTML(table.to_html()))"
   ]
  },
  {
   "cell_type": "code",
   "execution_count": 12,
   "id": "bcd6d8ce-5aac-48c6-9ffd-e6035f22ecc1",
   "metadata": {},
   "outputs": [
    {
     "name": "stdout",
     "output_type": "stream",
     "text": [
      "[pyphetools] Ingested 4 GA4GH phenopackets.\n",
      "\tImmunodeficiency 114, folate-responsive (OMIM:620603): n=4\n",
      "We found a total of 29 unique HPO terms\n",
      "Extracted disease: Immunodeficiency 114, folate-responsive (OMIM:620603)\n",
      "Wrote HPOA disease file to OMIM-620603.tab\n"
     ]
    }
   ],
   "source": [
    "pmid = \"PMID:36517554\"\n",
    "df = timporter.create_hpoa_from_phenopackets(pmid=pmid, moi=\"Autosomal recessive\")"
   ]
  },
  {
   "cell_type": "code",
   "execution_count": null,
   "id": "3a1bb853-37bc-48a5-a715-64cd8aa067b5",
   "metadata": {},
   "outputs": [],
   "source": []
  }
 ],
 "metadata": {
  "kernelspec": {
   "display_name": "Python 3 (ipykernel)",
   "language": "python",
   "name": "python3"
  },
  "language_info": {
   "codemirror_mode": {
    "name": "ipython",
    "version": 3
   },
   "file_extension": ".py",
   "mimetype": "text/x-python",
   "name": "python",
   "nbconvert_exporter": "python",
   "pygments_lexer": "ipython3",
   "version": "3.8.10"
  }
 },
 "nbformat": 4,
 "nbformat_minor": 5
}
