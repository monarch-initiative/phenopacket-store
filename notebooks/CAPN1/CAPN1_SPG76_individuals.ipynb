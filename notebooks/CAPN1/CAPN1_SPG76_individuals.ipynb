{
 "cells": [
  {
   "cell_type": "markdown",
   "metadata": {},
   "source": [
    "# CAPN1\n",
    "[autosomal recessive hereditary spastic paraplegia-76 (SPG76)](https://omim.org/entry/616907) is caused by homozygous or compound heterozygous mutation in the CAPN1 gene."
   ]
  },
  {
   "cell_type": "code",
   "execution_count": 1,
   "metadata": {},
   "outputs": [
    {
     "name": "stdout",
     "output_type": "stream",
     "text": [
      "Using pyphetools version 0.9.84\n"
     ]
    },
    {
     "name": "stderr",
     "output_type": "stream",
     "text": [
      "/Users/robin/GIT/phenopacket-store/ps24venv/lib/python3.9/site-packages/urllib3/__init__.py:35: NotOpenSSLWarning: urllib3 v2 only supports OpenSSL 1.1.1+, currently the 'ssl' module is compiled with 'LibreSSL 2.8.3'. See: https://github.com/urllib3/urllib3/issues/3020\n",
      "  warnings.warn(\n"
     ]
    }
   ],
   "source": [
    "from pyphetools.creation import TemplateImporter\n",
    "from pyphetools.visualization import IndividualTable, QcVisualizer\n",
    "from IPython.display import display, HTML\n",
    "import pyphetools\n",
    "print(f\"Using pyphetools version {pyphetools.__version__}\")"
   ]
  },
  {
   "cell_type": "code",
   "execution_count": 2,
   "metadata": {},
   "outputs": [],
   "source": [
    "template = \"input/CAPN1_SPG76_individuals.xlsx\"\n",
    "created_by = \"0000-0002-0736-9199\""
   ]
  },
  {
   "cell_type": "code",
   "execution_count": 3,
   "metadata": {},
   "outputs": [
    {
     "name": "stdout",
     "output_type": "stream",
     "text": [
      "HPO version 2024-04-26\n",
      "Created encoders for 40 fields\n",
      "Importing OMIM:616907, Spastic paraplegia 76, autosomal recessive, HGNC:1476, CAPN1,  NM_005186.4\n",
      "We output 14 GA4GH phenopackets to the directory phenopackets\n"
     ]
    }
   ],
   "source": [
    "timporter = TemplateImporter(template=template,  created_by=created_by)\n",
    "individual_list, cvalidator = timporter.import_phenopackets_from_template()"
   ]
  },
  {
   "cell_type": "code",
   "execution_count": 4,
   "metadata": {},
   "outputs": [
    {
     "data": {
      "text/html": [
       "<h2>Cohort validation</h2>\n",
       "<p>Errors found with 8 of 14 phenopackets.</p>\n",
       "<table style=\"border: 2px solid black; align: \"left\">\n",
       "<caption>Error counts</caption>\n",
       "<tr><th style=\"text-align: left;font-weight: bold;\">Level</th><th style=\"text-align: left;font-weight: bold;\">Error category</th><th style=\"text-align: left;font-weight: bold;\">Count</th></tr>\n",
       "<tr><td style=\"text-align: left;\">WARNING</td><td style=\"text-align: left;\">REDUNDANT</td><td style=\"text-align: left;\">8</td></tr>\n",
       "</table>\n",
       "<p>A total of 8 issues were fixed and no individual was removed from the cohort.</p>"
      ],
      "text/plain": [
       "<IPython.core.display.HTML object>"
      ]
     },
     "metadata": {},
     "output_type": "display_data"
    }
   ],
   "source": [
    "qc = QcVisualizer(cohort_validator=cvalidator)\n",
    "display(HTML(qc.to_summary_html()))"
   ]
  },
  {
   "cell_type": "code",
   "execution_count": 5,
   "metadata": {},
   "outputs": [
    {
     "data": {
      "text/html": [
       "<table style=\"border: 2px solid black; align: \"left\">\n",
       "<caption>14 phenopackets - PMID:27153400 (n=8); PMID:29678961 (n=1); PMID:29379883 (n=3); PMID:28321562 (n=2)</caption>\n",
       "<tr><th style=\"text-align: left;font-weight: bold;\">Individual</th><th style=\"text-align: left;font-weight: bold;\">Disease</th><th style=\"text-align: left;font-weight: bold;\">Genotype</th><th style=\"text-align: left;font-weight: bold;\">Phenotypic features</th></tr>\n",
       "<tr><td style=\"text-align: left;\">Family A V-2 (FEMALE; P31Y)</td><td style=\"text-align: left;\">Spastic paraplegia 76, autosomal recessive (OMIM:616907)</td><td style=\"text-align: left;\">NM_005186.4:c.884G>C (homozygous)</td><td style=\"text-align: left;\">Lower limb spasticity (HP:0002061); Lower limb muscle weakness (HP:0007340); Lower limb hyperreflexia (HP:0002395); Babinski sign (HP:0003487); Pes valgus (HP:0008081); Dysarthria (HP:0001260); Hyperreflexia in upper limbs (HP:0007350); excluded: Ankle clonus (HP:0011448); excluded: Pes cavus (HP:0001761); excluded: Gait ataxia (HP:0002066); excluded: Peripheral neuropathy (HP:0009830)</td></tr>\n",
       "<tr><td style=\"text-align: left;\">Family B IV-1 (MALE; P47Y)</td><td style=\"text-align: left;\">Spastic paraplegia 76, autosomal recessive (OMIM:616907)</td><td style=\"text-align: left;\">NM_005186.4:c.1579C>T (homozygous)</td><td style=\"text-align: left;\">Lower limb spasticity (HP:0002061); Lower limb muscle weakness (HP:0007340); Lower limb hyperreflexia (HP:0002395); Babinski sign (HP:0003487); Dysarthria (HP:0001260); Hyperreflexia in upper limbs (HP:0007350); Peripheral neuropathy (HP:0009830); excluded: Ankle clonus (HP:0011448); excluded: Pes valgus (HP:0008081); excluded: Pes cavus (HP:0001761); excluded: Gait ataxia (HP:0002066)</td></tr>\n",
       "<tr><td style=\"text-align: left;\">Family B IV-2 (FEMALE; P44Y)</td><td style=\"text-align: left;\">Spastic paraplegia 76, autosomal recessive (OMIM:616907)</td><td style=\"text-align: left;\">NM_005186.4:c.1579C>T (homozygous)</td><td style=\"text-align: left;\">Lower limb spasticity (HP:0002061); Lower limb muscle weakness (HP:0007340); Lower limb hyperreflexia (HP:0002395); Babinski sign (HP:0003487); Pes cavus (HP:0001761); Gait ataxia (HP:0002066); Dysarthria (HP:0001260); Hyperreflexia in upper limbs (HP:0007350); Peripheral neuropathy (HP:0009830); excluded: Ankle clonus (HP:0011448); excluded: Pes valgus (HP:0008081)</td></tr>\n",
       "<tr><td style=\"text-align: left;\">Family B IV-4 (MALE; P44Y)</td><td style=\"text-align: left;\">Spastic paraplegia 76, autosomal recessive (OMIM:616907)</td><td style=\"text-align: left;\">NM_005186.4:c.1579C>T (homozygous)</td><td style=\"text-align: left;\">Lower limb spasticity (HP:0002061); Lower limb muscle weakness (HP:0007340); Lower limb hyperreflexia (HP:0002395); Babinski sign (HP:0003487); Pes cavus (HP:0001761); Dysarthria (HP:0001260); Hyperreflexia in upper limbs (HP:0007350); excluded: Ankle clonus (HP:0011448); excluded: Pes valgus (HP:0008081); excluded: Gait ataxia (HP:0002066); excluded: Peripheral neuropathy (HP:0009830)</td></tr>\n",
       "<tr><td style=\"text-align: left;\">Family B IV-5 (MALE; P40Y)</td><td style=\"text-align: left;\">Spastic paraplegia 76, autosomal recessive (OMIM:616907)</td><td style=\"text-align: left;\">NM_005186.4:c.1579C>T (homozygous)</td><td style=\"text-align: left;\">Lower limb spasticity (HP:0002061); Lower limb hyperreflexia (HP:0002395); Gait ataxia (HP:0002066); Dysarthria (HP:0001260); Hyperreflexia in upper limbs (HP:0007350); excluded: Ankle clonus (HP:0011448); excluded: Lower limb muscle weakness (HP:0007340); excluded: Babinski sign (HP:0003487); excluded: Pes valgus (HP:0008081); excluded: Pes cavus (HP:0001761); excluded: Peripheral neuropathy (HP:0009830)</td></tr>\n",
       "<tr><td style=\"text-align: left;\">Family B IV-9 (FEMALE; P30Y)</td><td style=\"text-align: left;\">Spastic paraplegia 76, autosomal recessive (OMIM:616907)</td><td style=\"text-align: left;\">NM_005186.4:c.1579C>T (homozygous)</td><td style=\"text-align: left;\">Lower limb spasticity (HP:0002061); Lower limb hyperreflexia (HP:0002395); Babinski sign (HP:0003487); Pes cavus (HP:0001761); Dysarthria (HP:0001260); Hyperreflexia in upper limbs (HP:0007350); excluded: Ankle clonus (HP:0011448); excluded: Lower limb muscle weakness (HP:0007340); excluded: Pes valgus (HP:0008081); excluded: Gait ataxia (HP:0002066); excluded: Peripheral neuropathy (HP:0009830)</td></tr>\n",
       "<tr><td style=\"text-align: left;\">Family C IV-7 (MALE; P35Y)</td><td style=\"text-align: left;\">Spastic paraplegia 76, autosomal recessive (OMIM:616907)</td><td style=\"text-align: left;\"><ul> <li>NM_005186.4:c.407del (heterozygous)</li> <li>NM_005186.4:c.1605+5G>A (heterozygous)</li> </ul></td><td style=\"text-align: left;\">Lower limb spasticity (HP:0002061); Ankle clonus (HP:0011448); Pes cavus (HP:0001761); excluded: Babinski sign (HP:0003487); excluded: Pes valgus (HP:0008081); excluded: Gait ataxia (HP:0002066); excluded: Dysarthria (HP:0001260); excluded: Hyperreflexia in upper limbs (HP:0007350); excluded: Peripheral neuropathy (HP:0009830)</td></tr>\n",
       "<tr><td style=\"text-align: left;\">Family C IV-13 (FEMALE; P22Y)</td><td style=\"text-align: left;\">Spastic paraplegia 76, autosomal recessive (OMIM:616907)</td><td style=\"text-align: left;\"><ul> <li>NM_005186.4:c.407del (heterozygous)</li> <li>NM_005186.4:c.1605+5G>A (heterozygous)</li> </ul></td><td style=\"text-align: left;\">Lower limb spasticity (HP:0002061); Ankle clonus (HP:0011448); Lower limb muscle weakness (HP:0007340); Lower limb hyperreflexia (HP:0002395); Babinski sign (HP:0003487); Pes cavus (HP:0001761); Gait ataxia (HP:0002066); Hyperreflexia in upper limbs (HP:0007350); excluded: Pes valgus (HP:0008081); excluded: Dysarthria (HP:0001260); excluded: Peripheral neuropathy (HP:0009830)</td></tr>\n",
       "<tr><td style=\"text-align: left;\">proband (FEMALE; P33Y)</td><td style=\"text-align: left;\">Spastic paraplegia 76, autosomal recessive (OMIM:616907)</td><td style=\"text-align: left;\">NM_005186.4:c.1534C>T (homozygous)</td><td style=\"text-align: left;\"><b>P13Y</b>: Gait imbalance (HP:0002141)<br/><b>P14Y</b>: Ankle clonus (HP:0011448); Lower limb hyperreflexia (HP:0002395); Babinski sign (HP:0003487); Ataxia (HP:0001251); Appendicular spasticity (HP:0034353)<br/><b>P25Y</b>: Dysarthria (HP:0001260); Loss of ambulation (HP:0002505); Cerebellar atrophy (HP:0001272)</td></tr>\n",
       "<tr><td style=\"text-align: left;\">Family 1 patient 1 (FEMALE; P21Y)</td><td style=\"text-align: left;\">Spastic paraplegia 76, autosomal recessive (OMIM:616907)</td><td style=\"text-align: left;\">NM_005186.4:c.994G>A (homozygous)</td><td style=\"text-align: left;\"><b>P5Y</b>: Gait imbalance (HP:0002141)<br/><b>P11Y</b>: Loss of ambulation (HP:0002505)<br/>Upper limb spasticity (HP:0006986); Lower limb spasticity (HP:0002061); Dysmetria (HP:0001310); Gait ataxia (HP:0002066); Limb ataxia (HP:0002070); Dysarthria (HP:0001260)</td></tr>\n",
       "<tr><td style=\"text-align: left;\">Family 2 patient 1 (FEMALE; P39Y)</td><td style=\"text-align: left;\">Spastic paraplegia 76, autosomal recessive (OMIM:616907)</td><td style=\"text-align: left;\">NM_005186.4:c.1176G>A (homozygous)</td><td style=\"text-align: left;\"><b>P24Y</b>: Gait imbalance (HP:0002141)<br/><b>P31Y</b>: Loss of ambulation (HP:0002505)<br/>Upper limb spasticity (HP:0006986); Lower limb spasticity (HP:0002061); Dysmetria (HP:0001310); Gait ataxia (HP:0002066); Limb ataxia (HP:0002070); Dysarthria (HP:0001260)</td></tr>\n",
       "<tr><td style=\"text-align: left;\">Family 2 patient 2 (FEMALE; P30Y)</td><td style=\"text-align: left;\">Spastic paraplegia 76, autosomal recessive (OMIM:616907)</td><td style=\"text-align: left;\">NM_005186.4:c.1176G>A (homozygous)</td><td style=\"text-align: left;\"><b>P15Y</b>: Gait imbalance (HP:0002141)<br/>Gait ataxia (HP:0002066); Limb ataxia (HP:0002070); Dysarthria (HP:0001260); excluded: Upper limb spasticity (HP:0006986); excluded: Lower limb spasticity (HP:0002061); excluded: Loss of ambulation (HP:0002505)</td></tr>\n",
       "<tr><td style=\"text-align: left;\">index patient (FEMALE; P39Y)</td><td style=\"text-align: left;\">Spastic paraplegia 76, autosomal recessive (OMIM:616907)</td><td style=\"text-align: left;\">NM_005186.4:c.759+1G>A (homozygous)</td><td style=\"text-align: left;\"><b>P29Y</b>: Gait imbalance (HP:0002141)<br/><b>P39Y</b>: Spastic ataxia (HP:0002497); Upper limb spasticity (HP:0006986); Lower limb spasticity (HP:0002061); Dysmetria (HP:0001310); Lower limb muscle weakness (HP:0007340); Dysarthria (HP:0001260); Cerebellar vermis atrophy (HP:0006855)</td></tr>\n",
       "<tr><td style=\"text-align: left;\">sister (FEMALE; P37Y)</td><td style=\"text-align: left;\">Spastic paraplegia 76, autosomal recessive (OMIM:616907)</td><td style=\"text-align: left;\">NM_005186.4:c.759+1G>A (homozygous)</td><td style=\"text-align: left;\"><b>P33Y</b>: Gait imbalance (HP:0002141)<br/><b>P37Y</b>: Dysmetria (HP:0001310); Ankle clonus (HP:0011448); Lower limb hyperreflexia (HP:0002395); Babinski sign (HP:0003487)</td></tr>\n",
       "</table>"
      ],
      "text/plain": [
       "<IPython.core.display.HTML object>"
      ]
     },
     "metadata": {},
     "output_type": "display_data"
    }
   ],
   "source": [
    "table = IndividualTable(cvalidator.get_error_free_individual_list())\n",
    "display(HTML(table.to_html()))"
   ]
  },
  {
   "cell_type": "code",
   "execution_count": 6,
   "metadata": {},
   "outputs": [
    {
     "name": "stdout",
     "output_type": "stream",
     "text": [
      "[pyphetools] Ingested 14 GA4GH phenopackets.\n",
      "\tSpastic paraplegia 76, autosomal recessive (OMIM:616907): n=14\n",
      "We found a total of 21 unique HPO terms\n",
      "Extracted disease: Spastic paraplegia 76, autosomal recessive (OMIM:616907)\n",
      "Wrote HPOA disease file to OMIM-616907.tab\n"
     ]
    }
   ],
   "source": [
    "pmid = \"PMID:27153400\"\n",
    "df = timporter.create_hpoa_from_phenopackets(pmid=pmid, moi=\"Autosomal recessive\")"
   ]
  }
 ],
 "metadata": {
  "kernelspec": {
   "display_name": "ps24venv",
   "language": "python",
   "name": "python3"
  },
  "language_info": {
   "codemirror_mode": {
    "name": "ipython",
    "version": 3
   },
   "file_extension": ".py",
   "mimetype": "text/x-python",
   "name": "python",
   "nbconvert_exporter": "python",
   "pygments_lexer": "ipython3",
   "version": "3.9.6"
  }
 },
 "nbformat": 4,
 "nbformat_minor": 2
}
