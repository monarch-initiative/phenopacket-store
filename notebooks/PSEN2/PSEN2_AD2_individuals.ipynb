{
 "cells": [
  {
   "cell_type": "markdown",
   "metadata": {},
   "source": [
    "# PSEN2\n",
    "[Alzheimer disease-4 (AD4)](https://omim.org/entry/606889) is caused by heterozygous mutation in the presenilin-2 gene (PSEN2)."
   ]
  },
  {
   "cell_type": "code",
   "execution_count": 4,
   "metadata": {},
   "outputs": [
    {
     "name": "stdout",
     "output_type": "stream",
     "text": [
      "Using pyphetools version 0.9.86\n"
     ]
    }
   ],
   "source": [
    "from pyphetools.creation import TemplateImporter\n",
    "from pyphetools.visualization import IndividualTable, QcVisualizer\n",
    "from IPython.display import display, HTML\n",
    "import pyphetools\n",
    "print(f\"Using pyphetools version {pyphetools.__version__}\")"
   ]
  },
  {
   "cell_type": "code",
   "execution_count": 6,
   "metadata": {},
   "outputs": [],
   "source": [
    "template = \"input/PSEN2_AD2_individuals.xlsx\"\n",
    "created_by = \"0000-0002-0736-9199\""
   ]
  },
  {
   "cell_type": "code",
   "execution_count": 8,
   "metadata": {},
   "outputs": [
    {
     "name": "stdout",
     "output_type": "stream",
     "text": [
      "HPO version 2024-04-26\n",
      "Created encoders for 32 fields\n",
      "Importing OMIM:606889, Alzheimer disease-4, HGNC:9509, PSEN2,  NM_000447.3\n",
      "[INFO] encoding variant \"c.1289C>T\"\n",
      "https://rest.variantvalidator.org/VariantValidator/variantvalidator/hg38/NM_000447.3%3Ac.1289C>T/NM_000447.3?content-type=application%2Fjson\n",
      "[INFO] encoding variant \"c.505C>A\"\n",
      "https://rest.variantvalidator.org/VariantValidator/variantvalidator/hg38/NM_000447.3%3Ac.505C>A/NM_000447.3?content-type=application%2Fjson\n",
      "We output 3 GA4GH phenopackets to the directory phenopackets\n"
     ]
    }
   ],
   "source": [
    "timporter = TemplateImporter(template=template,  created_by=created_by)\n",
    "individual_list, cvalidator = timporter.import_phenopackets_from_template()"
   ]
  },
  {
   "cell_type": "code",
   "execution_count": 9,
   "metadata": {},
   "outputs": [
    {
     "data": {
      "text/html": [
       "<h2>Cohort validation</h2>\n",
       "<p>No errors found for the cohort with 3 individuals</p>"
      ],
      "text/plain": [
       "<IPython.core.display.HTML object>"
      ]
     },
     "metadata": {},
     "output_type": "display_data"
    }
   ],
   "source": [
    "qc = QcVisualizer(cohort_validator=cvalidator)\n",
    "display(HTML(qc.to_summary_html()))"
   ]
  },
  {
   "cell_type": "code",
   "execution_count": 10,
   "metadata": {},
   "outputs": [
    {
     "data": {
      "text/html": [
       "<table style=\"border: 2px solid black; align: \"left\">\n",
       "<caption>3 phenopackets - PMID:30104866 (n=1); PMID:12925374 (n=2)</caption>\n",
       "<tr><th style=\"text-align: left;font-weight: bold;\">Individual</th><th style=\"text-align: left;font-weight: bold;\">Disease</th><th style=\"text-align: left;font-weight: bold;\">Genotype</th><th style=\"text-align: left;font-weight: bold;\">Phenotypic features</th></tr>\n",
       "<tr><td style=\"text-align: left;\">Patient (FEMALE; P58Y)</td><td style=\"text-align: left;\">Alzheimer disease-4 (OMIM:606889)</td><td style=\"text-align: left;\">NM_000447.3:c.505C>A (heterozygous)</td><td style=\"text-align: left;\"><b>P56Y</b>: Memory impairment (HP:0002354)<br/><b>P57Y</b>: Temporal cortical atrophy (HP:0007112)<br/><b>P58Y</b>: Alzheimer disease (HP:0002511); Dementia (HP:0000726); Aggressive behavior (HP:0000718); Apathy (HP:0000741); Impairment of activities of daily living (HP:0031058)<br/>excluded: Generalized-onset seizure (HP:0002197)</td></tr>\n",
       "<tr><td style=\"text-align: left;\">Proband III-3 (UNKNOWN; P56Y)</td><td style=\"text-align: left;\">Alzheimer disease-4 (OMIM:606889)</td><td style=\"text-align: left;\">NM_000447.3:c.1289C>T (heterozygous)</td><td style=\"text-align: left;\"><b>P45Y</b>: Memory impairment (HP:0002354); Impairment of activities of daily living (HP:0031058)<br/><b>P49Y</b>: Confusion (HP:0001289); Anomic aphasia (HP:0030784)<br/><b>P50Y</b>: Myoclonus (HP:0001336); Generalized-onset seizure (HP:0002197)<br/>Alzheimer disease (HP:0002511); Dementia (HP:0000726)</td></tr>\n",
       "<tr><td style=\"text-align: left;\">III-1 (UNKNOWN; n/a)</td><td style=\"text-align: left;\">Alzheimer disease-4 (OMIM:606889)</td><td style=\"text-align: left;\">NM_000447.3:c.1289C>T (heterozygous)</td><td style=\"text-align: left;\">Memory impairment (HP:0002354); excluded: Alzheimer disease (HP:0002511); excluded: Dementia (HP:0000726); excluded: Aggressive behavior (HP:0000718); excluded: Impairment of activities of daily living (HP:0031058); excluded: Confusion (HP:0001289); excluded: Anomic aphasia (HP:0030784); excluded: Myoclonus (HP:0001336); excluded: Generalized-onset seizure (HP:0002197)</td></tr>\n",
       "</table>"
      ],
      "text/plain": [
       "<IPython.core.display.HTML object>"
      ]
     },
     "metadata": {},
     "output_type": "display_data"
    }
   ],
   "source": [
    "table = IndividualTable(cvalidator.get_error_free_individual_list())\n",
    "display(HTML(table.to_html()))"
   ]
  },
  {
   "cell_type": "code",
   "execution_count": 11,
   "metadata": {},
   "outputs": [
    {
     "name": "stdout",
     "output_type": "stream",
     "text": [
      "[pyphetools] Ingested 3 GA4GH phenopackets.\n",
      "[INFO] Extracted 3 from 3 phenopackets with OMIM:606889\n",
      "\n",
      "\tAlzheimer disease-4 (OMIM:606889): n=3\n",
      "We found a total of 11 unique HPO terms\n",
      "Extracted disease: Alzheimer disease-4 (OMIM:606889)\n",
      "Wrote HPOA disease file to OMIM-606889.tab\n"
     ]
    }
   ],
   "source": [
    "pmid = \"PMID:30104866\"\n",
    "df = timporter.create_hpoa_from_phenopackets(pmid=pmid, moi=\"Autosomal dominant\", target=\"OMIM:606889\")"
   ]
  }
 ],
 "metadata": {
  "kernelspec": {
   "display_name": "ps24venv",
   "language": "python",
   "name": "python3"
  },
  "language_info": {
   "codemirror_mode": {
    "name": "ipython",
    "version": 3
   },
   "file_extension": ".py",
   "mimetype": "text/x-python",
   "name": "python",
   "nbconvert_exporter": "python",
   "pygments_lexer": "ipython3",
   "version": "3.9.6"
  }
 },
 "nbformat": 4,
 "nbformat_minor": 2
}
