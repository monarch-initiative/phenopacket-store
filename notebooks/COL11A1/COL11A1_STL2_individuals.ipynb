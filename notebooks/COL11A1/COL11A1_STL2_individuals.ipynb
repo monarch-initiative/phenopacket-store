{
 "cells": [
  {
   "cell_type": "markdown",
   "metadata": {},
   "source": [
    "# COL11A1\n",
    "[Stickler syndrome type II (STL2)](https://omim.org/entry/604841) is caused by heterozygous mutation in the COL11A1 gene."
   ]
  },
  {
   "cell_type": "code",
   "execution_count": 3,
   "metadata": {},
   "outputs": [
    {
     "name": "stdout",
     "output_type": "stream",
     "text": [
      "Using pyphetools version 0.9.86\n"
     ]
    }
   ],
   "source": [
    "from pyphetools.creation import TemplateImporter\n",
    "from pyphetools.visualization import IndividualTable, QcVisualizer\n",
    "from IPython.display import display, HTML\n",
    "import pyphetools\n",
    "print(f\"Using pyphetools version {pyphetools.__version__}\")"
   ]
  },
  {
   "cell_type": "code",
   "execution_count": 4,
   "metadata": {},
   "outputs": [],
   "source": [
    "template = \"input/COL11A1_STL2_individuals.xlsx\"\n",
    "created_by = \"0000-0002-0736-9199\""
   ]
  },
  {
   "cell_type": "code",
   "execution_count": 5,
   "metadata": {},
   "outputs": [
    {
     "name": "stdout",
     "output_type": "stream",
     "text": [
      "HPO version 2024-04-26\n",
      "Created encoders for 46 fields\n",
      "Importing OMIM:604841, Stickler syndrome, type II, HGNC:2186, COL11A1,  NM_001854.4\n",
      "[INFO] encoding variant \"c.3032C>A\"\n",
      "https://rest.variantvalidator.org/VariantValidator/variantvalidator/hg38/NM_001854.4%3Ac.3032C>A/NM_001854.4?content-type=application%2Fjson\n",
      "[INFO] encoding variant \"c.3168+5G>A\"\n",
      "https://rest.variantvalidator.org/VariantValidator/variantvalidator/hg38/NM_001854.4%3Ac.3168+5G>A/NM_001854.4?content-type=application%2Fjson\n",
      "We output 2 GA4GH phenopackets to the directory phenopackets\n"
     ]
    }
   ],
   "source": [
    "timporter = TemplateImporter(template=template,  created_by=created_by)\n",
    "individual_list, cvalidator = timporter.import_phenopackets_from_template()"
   ]
  },
  {
   "cell_type": "code",
   "execution_count": 6,
   "metadata": {},
   "outputs": [
    {
     "data": {
      "text/html": [
       "<h2>Cohort validation</h2>\n",
       "<p>Errors found with 2 of 2 phenopackets.</p>\n",
       "<table style=\"border: 2px solid black; align: \"left\">\n",
       "<caption>Error counts</caption>\n",
       "<tr><th style=\"text-align: left;font-weight: bold;\">Level</th><th style=\"text-align: left;font-weight: bold;\">Error category</th><th style=\"text-align: left;font-weight: bold;\">Count</th></tr>\n",
       "<tr><td style=\"text-align: left;\">WARNING</td><td style=\"text-align: left;\">REDUNDANT</td><td style=\"text-align: left;\">2</td></tr>\n",
       "</table>\n",
       "<p>A total of 2 issues were fixed and no individual was removed from the cohort.</p>"
      ],
      "text/plain": [
       "<IPython.core.display.HTML object>"
      ]
     },
     "metadata": {},
     "output_type": "display_data"
    }
   ],
   "source": [
    "qc = QcVisualizer(cohort_validator=cvalidator)\n",
    "display(HTML(qc.to_summary_html()))"
   ]
  },
  {
   "cell_type": "code",
   "execution_count": 7,
   "metadata": {},
   "outputs": [
    {
     "data": {
      "text/html": [
       "<table style=\"border: 2px solid black; align: \"left\">\n",
       "<caption>2 phenopackets - PMID:28971234 (n=1); PMID:27081549 (n=1)</caption>\n",
       "<tr><th style=\"text-align: left;font-weight: bold;\">Individual</th><th style=\"text-align: left;font-weight: bold;\">Disease</th><th style=\"text-align: left;font-weight: bold;\">Genotype</th><th style=\"text-align: left;font-weight: bold;\">Phenotypic features</th></tr>\n",
       "<tr><td style=\"text-align: left;\">child (MALE; P10Y)</td><td style=\"text-align: left;\">Stickler syndrome, type II (OMIM:604841)</td><td style=\"text-align: left;\">NM_001854.4:c.3032C>A (heterozygous)</td><td style=\"text-align: left;\"><b>P7Y</b>: Recurrent fractures (HP:0002757)<br/>Joint hypermobility (HP:0001382); Ankle pain (HP:0030840); Knee pain (HP:0030839); Hypotonia (HP:0001252); Retinal dysplasia (HP:0007973); Remnants of the hyaloid vascular system (HP:0007968); Myopia (HP:0000545); Angle closure glaucoma (HP:0012109); Proportionate short stature (HP:0003508); excluded: Cleft palate (HP:0000175); excluded: Anteverted nares (HP:0000463); excluded: Depressed nasal bridge (HP:0005280); excluded: Bifid uvula (HP:0000193); excluded: Micrognathia (HP:0000347); excluded: Shallow orbits (HP:0000586); excluded: Pierre-Robin sequence (HP:0000201); excluded: Midface retrusion (HP:0011800); excluded: Sensorineural hearing impairment (HP:0000407)</td></tr>\n",
       "<tr><td style=\"text-align: left;\">subject (FEMALE; P4Y)</td><td style=\"text-align: left;\">Stickler syndrome, type II (OMIM:604841)</td><td style=\"text-align: left;\">NM_001854.4:c.3168+5G>A (heterozygous)</td><td style=\"text-align: left;\"><b>P2Y</b>: Anteverted nares (HP:0000463); Depressed nasal bridge (HP:0005280); Shallow orbits (HP:0000586); Lumbar hypolordosis (HP:0034770); Metaphyseal widening (HP:0003016); Degenerative vitreoretinopathy (HP:0007964)<br/>Cleft palate (HP:0000175); Myopia (HP:0000545)</td></tr>\n",
       "</table>"
      ],
      "text/plain": [
       "<IPython.core.display.HTML object>"
      ]
     },
     "metadata": {},
     "output_type": "display_data"
    }
   ],
   "source": [
    "table = IndividualTable(cvalidator.get_error_free_individual_list())\n",
    "display(HTML(table.to_html()))"
   ]
  },
  {
   "cell_type": "code",
   "execution_count": 8,
   "metadata": {},
   "outputs": [
    {
     "name": "stdout",
     "output_type": "stream",
     "text": [
      "[pyphetools] Ingested 2 GA4GH phenopackets.\n",
      "[INFO] Extracted 2 from 2 phenopackets with OMIM:604841\n",
      "\n",
      "\tStickler syndrome, type II (OMIM:604841): n=2\n",
      "We found a total of 22 unique HPO terms\n",
      "Extracted disease: Stickler syndrome, type II (OMIM:604841)\n",
      "Wrote HPOA disease file to OMIM-604841.tab\n"
     ]
    }
   ],
   "source": [
    "pmid = \"PMID:28971234\"\n",
    "df = timporter.create_hpoa_from_phenopackets(pmid=pmid, moi=\"Autosomal dominant\", target=\"OMIM:604841\")"
   ]
  }
 ],
 "metadata": {
  "kernelspec": {
   "display_name": "ps24venv",
   "language": "python",
   "name": "python3"
  },
  "language_info": {
   "codemirror_mode": {
    "name": "ipython",
    "version": 3
   },
   "file_extension": ".py",
   "mimetype": "text/x-python",
   "name": "python",
   "nbconvert_exporter": "python",
   "pygments_lexer": "ipython3",
   "version": "3.12.4"
  }
 },
 "nbformat": 4,
 "nbformat_minor": 2
}
