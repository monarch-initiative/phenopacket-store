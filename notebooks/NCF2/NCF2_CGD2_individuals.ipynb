{
 "cells": [
  {
   "cell_type": "markdown",
   "metadata": {},
   "source": [
    "# NCF2\n",
    "[autosomal recessive chronic granulomatous disease-2 (CGD2)](https://omim.org/entry/233710) is caused by homozygous or compound heterozygous mutation in the NCF2 gene."
   ]
  },
  {
   "cell_type": "code",
   "execution_count": 3,
   "metadata": {},
   "outputs": [
    {
     "name": "stdout",
     "output_type": "stream",
     "text": [
      "Using pyphetools version 0.9.92\n"
     ]
    }
   ],
   "source": [
    "from pyphetools.creation import TemplateImporter\n",
    "from pyphetools.visualization import IndividualTable, QcVisualizer\n",
    "from IPython.display import display, HTML\n",
    "import pyphetools\n",
    "print(f\"Using pyphetools version {pyphetools.__version__}\")"
   ]
  },
  {
   "cell_type": "code",
   "execution_count": 4,
   "metadata": {},
   "outputs": [],
   "source": [
    "template = \"input/NCF2_CGD2_individuals.xlsx\"\n",
    "created_by = \"0000-0002-0736-9199\""
   ]
  },
  {
   "cell_type": "code",
   "execution_count": 7,
   "metadata": {},
   "outputs": [
    {
     "name": "stdout",
     "output_type": "stream",
     "text": [
      "HPO version 2024-06-25\n",
      "Created encoders for 44 fields\n",
      "Importing OMIM:233710, Chronic granulomatous disease 2, autosomal recessive, HGNC:7661, NCF2,  NM_000433.4\n",
      "[INFO] encoding variant \"c.366+1G>A\"\n",
      "https://rest.variantvalidator.org/VariantValidator/variantvalidator/hg38/NM_000433.4%3Ac.366+1G>A/NM_000433.4?content-type=application%2Fjson\n",
      "[INFO] encoding variant \"c.399_400dup\"\n",
      "https://rest.variantvalidator.org/VariantValidator/variantvalidator/hg38/NM_000433.4%3Ac.399_400dup/NM_000433.4?content-type=application%2Fjson\n",
      "[INFO] encoding variant \"c.728del\"\n",
      "https://rest.variantvalidator.org/VariantValidator/variantvalidator/hg38/NM_000433.4%3Ac.728del/NM_000433.4?content-type=application%2Fjson\n",
      "[INFO] encoding variant \"c.1171_1175del\"\n",
      "https://rest.variantvalidator.org/VariantValidator/variantvalidator/hg38/NM_000433.4%3Ac.1171_1175del/NM_000433.4?content-type=application%2Fjson\n",
      "[INFO] encoding variant \"c.304C>T\"\n",
      "https://rest.variantvalidator.org/VariantValidator/variantvalidator/hg38/NM_000433.4%3Ac.304C>T/NM_000433.4?content-type=application%2Fjson\n",
      "[INFO] encoding variant \"c.55_63del\"\n",
      "https://rest.variantvalidator.org/VariantValidator/variantvalidator/hg38/NM_000433.4%3Ac.55_63del/NM_000433.4?content-type=application%2Fjson\n",
      "We output 7 GA4GH phenopackets to the directory phenopackets\n"
     ]
    }
   ],
   "source": [
    "timporter = TemplateImporter(template=template,  created_by=created_by)\n",
    "individual_list, cvalidator = timporter.import_phenopackets_from_template()"
   ]
  },
  {
   "cell_type": "code",
   "execution_count": 8,
   "metadata": {},
   "outputs": [
    {
     "data": {
      "text/html": [
       "<h2>Cohort validation</h2>\n",
       "<p>Errors found with 3 of 7 phenopackets.</p>\n",
       "<table style=\"border: 2px solid black; align: \"left\">\n",
       "<caption>Error counts</caption>\n",
       "<tr><th style=\"text-align: left;font-weight: bold;\">Level</th><th style=\"text-align: left;font-weight: bold;\">Error category</th><th style=\"text-align: left;font-weight: bold;\">Count</th></tr>\n",
       "<tr><td style=\"text-align: left;\">WARNING</td><td style=\"text-align: left;\">REDUNDANT</td><td style=\"text-align: left;\">3</td></tr>\n",
       "</table>\n",
       "<p>A total of 3 issues were fixed and no individual was removed from the cohort.</p>"
      ],
      "text/plain": [
       "<IPython.core.display.HTML object>"
      ]
     },
     "metadata": {},
     "output_type": "display_data"
    }
   ],
   "source": [
    "qc = QcVisualizer(cohort_validator=cvalidator)\n",
    "display(HTML(qc.to_summary_html()))"
   ]
  },
  {
   "cell_type": "code",
   "execution_count": 9,
   "metadata": {},
   "outputs": [
    {
     "data": {
      "text/html": [
       "<table style=\"border: 2px solid black; align: \"left\">\n",
       "<caption>7 phenopackets - PMID:7795241 (n=1); PMID:10498624 (n=6)</caption>\n",
       "<tr><th style=\"text-align: left;font-weight: bold;\">Individual</th><th style=\"text-align: left;font-weight: bold;\">Disease</th><th style=\"text-align: left;font-weight: bold;\">Genotype</th><th style=\"text-align: left;font-weight: bold;\">Phenotypic features</th></tr>\n",
       "<tr><td style=\"text-align: left;\">patient KA (MALE; P19Y)</td><td style=\"text-align: left;\">Chronic granulomatous disease 2, autosomal recessive (OMIM:233710)</td><td style=\"text-align: left;\">NM_000433.4:c.399_400dup (homozygous)</td><td style=\"text-align: left;\"><b>P3Y</b>: Perianal abscess (HP:0009789); Liver abscess (HP:0100523); Lung abscess (HP:0025044); Osteomyelitis (HP:0002754); Recurrent infections (HP:0002719)<br/>Impaired oxidative burst (HP:0003203); excluded: Failure to thrive (HP:0001508); excluded: Peritonitis (HP:0002586); excluded: Recurrent bacterial skin infections (HP:0005406); excluded: Recurrent urinary tract infections (HP:0000010); excluded: Chronic oral candidiasis (HP:0009098)</td></tr>\n",
       "<tr><td style=\"text-align: left;\">Case 1 LC (FEMALE; P8Y)</td><td style=\"text-align: left;\">Chronic granulomatous disease 2, autosomal recessive (OMIM:233710)</td><td style=\"text-align: left;\">NM_000433.4:c.304C>T (homozygous)</td><td style=\"text-align: left;\">Impaired oxidative burst (HP:0003203); Recurrent infections (HP:0002719); excluded: Perianal abscess (HP:0009789); excluded: Liver abscess (HP:0100523); excluded: Lung abscess (HP:0025044); excluded: Osteomyelitis (HP:0002754); excluded: Failure to thrive (HP:0001508); excluded: Peritonitis (HP:0002586); excluded: Recurrent bacterial skin infections (HP:0005406); excluded: Recurrent urinary tract infections (HP:0000010); excluded: Chronic oral candidiasis (HP:0009098)</td></tr>\n",
       "<tr><td style=\"text-align: left;\">Case 2 MD (FEMALE; P10Y)</td><td style=\"text-align: left;\">Chronic granulomatous disease 2, autosomal recessive (OMIM:233710)</td><td style=\"text-align: left;\">NM_000433.4:c.1171_1175del (homozygous)</td><td style=\"text-align: left;\"><b>P5Y</b>: Inflammation of the large intestine (HP:0002037)<br/>Recurrent abscess formation (HP:0002722); Impaired oxidative burst (HP:0003203); excluded: Perianal abscess (HP:0009789); excluded: Liver abscess (HP:0100523); excluded: Lung abscess (HP:0025044); excluded: Osteomyelitis (HP:0002754); excluded: Failure to thrive (HP:0001508); excluded: Peritonitis (HP:0002586); excluded: Recurrent bacterial skin infections (HP:0005406); excluded: Recurrent urinary tract infections (HP:0000010); excluded: Chronic oral candidiasis (HP:0009098)</td></tr>\n",
       "<tr><td style=\"text-align: left;\">Case 3 AA (MALE; P2Y)</td><td style=\"text-align: left;\">Chronic granulomatous disease 2, autosomal recessive (OMIM:233710)</td><td style=\"text-align: left;\">NM_000433.4:c.1171_1175del (homozygous)</td><td style=\"text-align: left;\"><b>P2M</b>: Failure to thrive (HP:0001508); Peritonitis (HP:0002586); Mediastinal lymphadenopathy (HP:0100721); Pulmonary nodule (HP:0033608)<br/>Recurrent abscess formation (HP:0002722); Impaired oxidative burst (HP:0003203); excluded: Perianal abscess (HP:0009789); excluded: Liver abscess (HP:0100523); excluded: Lung abscess (HP:0025044); excluded: Osteomyelitis (HP:0002754); excluded: Recurrent bacterial skin infections (HP:0005406); excluded: Recurrent urinary tract infections (HP:0000010); excluded: Chronic oral candidiasis (HP:0009098)</td></tr>\n",
       "<tr><td style=\"text-align: left;\">Case 4 IP (FEMALE; P4Y)</td><td style=\"text-align: left;\">Chronic granulomatous disease 2, autosomal recessive (OMIM:233710)</td><td style=\"text-align: left;\">NM_000433.4:c.366+1G>A (homozygous)</td><td style=\"text-align: left;\">Impaired oxidative burst (HP:0003203); Cervical lymphadenopathy (HP:0025289); Axillary lymphadenopathy (HP:0034752); Recurrent bacterial skin infections (HP:0005406); excluded: Perianal abscess (HP:0009789); excluded: Liver abscess (HP:0100523); excluded: Lung abscess (HP:0025044); excluded: Osteomyelitis (HP:0002754); excluded: Recurrent urinary tract infections (HP:0000010); excluded: Chronic oral candidiasis (HP:0009098)</td></tr>\n",
       "<tr><td style=\"text-align: left;\">Case 5 SG (FEMALE; P15Y)</td><td style=\"text-align: left;\">Chronic granulomatous disease 2, autosomal recessive (OMIM:233710)</td><td style=\"text-align: left;\"><ul> <li>NM_000433.4:c.366+1G>A (heterozygous)</li> <li>NM_000433.4:c.728del (heterozygous)</li> </ul></td><td style=\"text-align: left;\"><b>P3Y</b>: Recurrent abscess formation (HP:0002722)<br/>Impaired oxidative burst (HP:0003203); excluded: Perianal abscess (HP:0009789); excluded: Liver abscess (HP:0100523); excluded: Lung abscess (HP:0025044); excluded: Osteomyelitis (HP:0002754); excluded: Recurrent bacterial skin infections (HP:0005406); excluded: Recurrent urinary tract infections (HP:0000010); excluded: Chronic oral candidiasis (HP:0009098)</td></tr>\n",
       "<tr><td style=\"text-align: left;\">Case 6 NS (FEMALE; P16Y)</td><td style=\"text-align: left;\">Chronic granulomatous disease 2, autosomal recessive (OMIM:233710)</td><td style=\"text-align: left;\"><ul> <li>NM_000433.4:c.366+1G>A (heterozygous)</li> <li>NM_000433.4:c.55_63del (heterozygous)</li> </ul></td><td style=\"text-align: left;\">Impaired oxidative burst (HP:0003203); Liver abscess (HP:0100523); Recurrent urinary tract infections (HP:0000010); Chronic oral candidiasis (HP:0009098); excluded: Perianal abscess (HP:0009789); excluded: Lung abscess (HP:0025044); excluded: Osteomyelitis (HP:0002754); excluded: Recurrent bacterial skin infections (HP:0005406)</td></tr>\n",
       "</table>"
      ],
      "text/plain": [
       "<IPython.core.display.HTML object>"
      ]
     },
     "metadata": {},
     "output_type": "display_data"
    }
   ],
   "source": [
    "table = IndividualTable(cvalidator.get_error_free_individual_list())\n",
    "display(HTML(table.to_html()))"
   ]
  },
  {
   "cell_type": "code",
   "execution_count": 10,
   "metadata": {},
   "outputs": [
    {
     "name": "stdout",
     "output_type": "stream",
     "text": [
      "[pyphetools] Ingested 7 GA4GH phenopackets.\n",
      "[INFO] Extracted 7 from 7 phenopackets with OMIM:233710\n",
      "\n",
      "\tChronic granulomatous disease 2, autosomal recessive (OMIM:233710): n=7\n",
      "We found a total of 17 unique HPO terms\n",
      "Extracted disease: Chronic granulomatous disease 2, autosomal recessive (OMIM:233710)\n",
      "Wrote HPOA disease file to OMIM-233710.tab\n"
     ]
    }
   ],
   "source": [
    "pmid = \"PMID:10498624\"\n",
    "df = timporter.create_hpoa_from_phenopackets(pmid=pmid, moi=\"Autosomal recessive\", target=\"OMIM:233710\")"
   ]
  }
 ],
 "metadata": {
  "kernelspec": {
   "display_name": "ps24venv",
   "language": "python",
   "name": "python3"
  },
  "language_info": {
   "codemirror_mode": {
    "name": "ipython",
    "version": 3
   },
   "file_extension": ".py",
   "mimetype": "text/x-python",
   "name": "python",
   "nbconvert_exporter": "python",
   "pygments_lexer": "ipython3",
   "version": "3.9.6"
  }
 },
 "nbformat": 4,
 "nbformat_minor": 2
}
