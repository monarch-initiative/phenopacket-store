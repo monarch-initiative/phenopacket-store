{
 "cells": [
  {
   "cell_type": "markdown",
   "metadata": {},
   "source": [
    "[Bethlem myopathy-1C (BTHLM1C)](https://omim.org/entry/620726) is caused by heterozygous mutation in the COL6A3 gene."
   ]
  },
  {
   "cell_type": "code",
   "execution_count": 1,
   "metadata": {},
   "outputs": [
    {
     "name": "stdout",
     "output_type": "stream",
     "text": [
      "Using pyphetools version 0.9.83\n"
     ]
    },
    {
     "name": "stderr",
     "output_type": "stream",
     "text": [
      "/Users/robin/GIT/phenopacket-store/ps24venv/lib/python3.9/site-packages/urllib3/__init__.py:35: NotOpenSSLWarning: urllib3 v2 only supports OpenSSL 1.1.1+, currently the 'ssl' module is compiled with 'LibreSSL 2.8.3'. See: https://github.com/urllib3/urllib3/issues/3020\n",
      "  warnings.warn(\n"
     ]
    }
   ],
   "source": [
    "from pyphetools.creation import TemplateImporter\n",
    "from pyphetools.visualization import IndividualTable, QcVisualizer\n",
    "from IPython.display import display, HTML\n",
    "import pyphetools\n",
    "print(f\"Using pyphetools version {pyphetools.__version__}\")"
   ]
  },
  {
   "cell_type": "code",
   "execution_count": 2,
   "metadata": {},
   "outputs": [],
   "source": [
    "template = \"input/COL6A3_BTHLM1C_individuals.xlsx\"\n",
    "created_by = \"0000-0002-0736-9199\""
   ]
  },
  {
   "cell_type": "code",
   "execution_count": 3,
   "metadata": {},
   "outputs": [
    {
     "name": "stdout",
     "output_type": "stream",
     "text": [
      "HPO version 2024-04-26\n",
      "Created encoders for 54 fields\n",
      "Importing OMIM:620726, Bethlem myopathy 1C, HGNC:2213, COL6A3,  NM_004369.4\n",
      "We output 2 GA4GH phenopackets to the directory phenopackets\n"
     ]
    }
   ],
   "source": [
    "timporter = TemplateImporter(template=template,  created_by=created_by)\n",
    "individual_list, cvalidator = timporter.import_phenopackets_from_template()"
   ]
  },
  {
   "cell_type": "code",
   "execution_count": 4,
   "metadata": {},
   "outputs": [
    {
     "data": {
      "text/html": [
       "<h2>Cohort validation</h2>\n",
       "<p>No errors found for the cohort with 2 individuals</p>"
      ],
      "text/plain": [
       "<IPython.core.display.HTML object>"
      ]
     },
     "metadata": {},
     "output_type": "display_data"
    }
   ],
   "source": [
    "qc = QcVisualizer(cohort_validator=cvalidator)\n",
    "display(HTML(qc.to_summary_html()))"
   ]
  },
  {
   "cell_type": "code",
   "execution_count": 5,
   "metadata": {},
   "outputs": [
    {
     "data": {
      "text/html": [
       "<table style=\"border: 2px solid black; align: \"left\">\n",
       "<caption>2 phenopackets - PMID:36779064 (n=1); PMID:17886299 (n=1)</caption>\n",
       "<tr><th style=\"text-align: left;font-weight: bold;\">Individual</th><th style=\"text-align: left;font-weight: bold;\">Disease</th><th style=\"text-align: left;font-weight: bold;\">Genotype</th><th style=\"text-align: left;font-weight: bold;\">Phenotypic features</th></tr>\n",
       "<tr><td style=\"text-align: left;\">patient (FEMALE; P50Y)</td><td style=\"text-align: left;\">Bethlem myopathy 1C (OMIM:620726)</td><td style=\"text-align: left;\">NM_004369.4:c.6817-2A>G (heterozygous)</td><td style=\"text-align: left;\"><b>P30Y</b>: Axial muscle weakness (HP:0003327); Proximal muscle weakness (HP:0003701); Difficulty running (HP:0009046); Difficulty climbing stairs (HP:0003551)<br/><b>P50Y</b>: Areflexia (HP:0001284); EMG: myopathic abnormalities (HP:0003458); Fatty replacement of skeletal muscle (HP:0012548); Centrally nucleated skeletal muscle fibers (HP:0003687); Mildly elevated creatine kinase (HP:0008180); Beevor's sign (HP:0030664)<br/>excluded: Decreased fetal movement (HP:0001558); excluded: Tip-toe gait (HP:0030051); excluded: Abnormal cranial nerve physiology (HP:0031910); excluded: Intellectual disability (HP:0001249); excluded: Motor delay (HP:0001270); excluded: Neck muscle weakness (HP:0000467); excluded: Distal muscle weakness (HP:0002460); excluded: Distal lower limb amyotrophy (HP:0008944); excluded: Shoulder girdle muscle atrophy (HP:0003724); excluded: Pes cavus (HP:0001761); excluded: Ankle contracture (HP:0034677); excluded: Muscle fiber necrosis (HP:0003713); excluded: Fiber type grouping (HP:0033685); excluded: Arthralgia (HP:0002829); excluded: Abnormal EKG (HP:0003115); excluded: Arthrogryposis multiplex congenita (HP:0002804)</td></tr>\n",
       "<tr><td style=\"text-align: left;\">patient BM5 (MALE; P20Y)</td><td style=\"text-align: left;\">Bethlem myopathy 1C (OMIM:620726)</td><td style=\"text-align: left;\">NM_004369.4:c.5177T>G (heterozygous)</td><td style=\"text-align: left;\">Proximal muscle weakness (HP:0003701); Ankle contracture (HP:0034677); Mildly elevated creatine kinase (HP:0008180); Elbow contracture (HP:0034391); Knee contracture (HP:0034671); Finger joint contracture (HP:0034681); excluded: Distal muscle weakness (HP:0002460); excluded: Weakness of facial musculature (HP:0030319); excluded: Abnormal EKG (HP:0003115); excluded: Arthrogryposis multiplex congenita (HP:0002804); excluded: Scoliosis (HP:0002650); excluded: Kyphosis (HP:0002808)</td></tr>\n",
       "</table>"
      ],
      "text/plain": [
       "<IPython.core.display.HTML object>"
      ]
     },
     "metadata": {},
     "output_type": "display_data"
    }
   ],
   "source": [
    "table = IndividualTable(cvalidator.get_error_free_individual_list())\n",
    "display(HTML(table.to_html()))"
   ]
  }
 ],
 "metadata": {
  "kernelspec": {
   "display_name": "ps24venv",
   "language": "python",
   "name": "python3"
  },
  "language_info": {
   "codemirror_mode": {
    "name": "ipython",
    "version": 3
   },
   "file_extension": ".py",
   "mimetype": "text/x-python",
   "name": "python",
   "nbconvert_exporter": "python",
   "pygments_lexer": "ipython3",
   "version": "3.9.6"
  }
 },
 "nbformat": 4,
 "nbformat_minor": 2
}
