{
 "cells": [
  {
   "cell_type": "markdown",
   "metadata": {},
   "source": [
    "# COL6A3\n",
    "[Ullrich congenital muscular dystrophy-1C (UCMD1C)](https://omim.org/entry/620728) is caused by homozygous or heterozygous mutation in the COL6A3 gene]"
   ]
  },
  {
   "cell_type": "code",
   "execution_count": 1,
   "metadata": {},
   "outputs": [
    {
     "name": "stdout",
     "output_type": "stream",
     "text": [
      "Using pyphetools version 0.9.92\n"
     ]
    },
    {
     "name": "stderr",
     "output_type": "stream",
     "text": [
      "/Users/robin/GIT/phenopacket-store/ps24venv/lib/python3.9/site-packages/urllib3/__init__.py:35: NotOpenSSLWarning: urllib3 v2 only supports OpenSSL 1.1.1+, currently the 'ssl' module is compiled with 'LibreSSL 2.8.3'. See: https://github.com/urllib3/urllib3/issues/3020\n",
      "  warnings.warn(\n"
     ]
    }
   ],
   "source": [
    "from pyphetools.creation import TemplateImporter\n",
    "from pyphetools.visualization import IndividualTable, QcVisualizer\n",
    "from IPython.display import display, HTML\n",
    "import pyphetools\n",
    "print(f\"Using pyphetools version {pyphetools.__version__}\")"
   ]
  },
  {
   "cell_type": "code",
   "execution_count": 2,
   "metadata": {},
   "outputs": [],
   "source": [
    "template = \"input/COL6A3_UCMD1C_individuals.xlsx\"\n",
    "created_by = \"0000-0002-0736-9199\""
   ]
  },
  {
   "cell_type": "code",
   "execution_count": 3,
   "metadata": {},
   "outputs": [
    {
     "name": "stdout",
     "output_type": "stream",
     "text": [
      "HPO version 2024-06-25\n",
      "Created encoders for 39 fields\n",
      "Importing OMIM:620728, Ullrich congenital muscular dystrophy 1C, HGNC:2213, COL6A3,  NM_004369.4\n",
      "We output 5 GA4GH phenopackets to the directory phenopackets\n"
     ]
    }
   ],
   "source": [
    "timporter = TemplateImporter(template=template,  created_by=created_by)\n",
    "individual_list, cvalidator = timporter.import_phenopackets_from_template()"
   ]
  },
  {
   "cell_type": "code",
   "execution_count": 4,
   "metadata": {},
   "outputs": [
    {
     "data": {
      "text/html": [
       "<h2>Cohort validation</h2>\n",
       "<p>Errors found with 5 of 5 phenopackets.</p>\n",
       "<table style=\"border: 2px solid black; align: \"left\">\n",
       "<caption>Error counts</caption>\n",
       "<tr><th style=\"text-align: left;font-weight: bold;\">Level</th><th style=\"text-align: left;font-weight: bold;\">Error category</th><th style=\"text-align: left;font-weight: bold;\">Count</th></tr>\n",
       "<tr><td style=\"text-align: left;\">ERROR</td><td style=\"text-align: left;\">CONFLICT</td><td style=\"text-align: left;\">1</td></tr>\n",
       "<tr><td style=\"text-align: left;\">WARNING</td><td style=\"text-align: left;\">REDUNDANT</td><td style=\"text-align: left;\">9</td></tr>\n",
       "</table>\n",
       "<p>A total of 10 issues were fixed and no individual was removed from the cohort.</p>"
      ],
      "text/plain": [
       "<IPython.core.display.HTML object>"
      ]
     },
     "metadata": {},
     "output_type": "display_data"
    }
   ],
   "source": [
    "qc = QcVisualizer(cohort_validator=cvalidator)\n",
    "display(HTML(qc.to_summary_html()))"
   ]
  },
  {
   "cell_type": "code",
   "execution_count": 5,
   "metadata": {},
   "outputs": [
    {
     "data": {
      "text/html": [
       "<table style=\"border: 2px solid black; align: \"left\">\n",
       "<caption>5 phenopackets - PMID:11992252 (n=5)</caption>\n",
       "<tr><th style=\"text-align: left;font-weight: bold;\">Individual</th><th style=\"text-align: left;font-weight: bold;\">Disease</th><th style=\"text-align: left;font-weight: bold;\">Genotype</th><th style=\"text-align: left;font-weight: bold;\">Phenotypic features</th></tr>\n",
       "<tr><td style=\"text-align: left;\">Patient 1 (MALE; P17Y)</td><td style=\"text-align: left;\">Ullrich congenital muscular dystrophy 1C (OMIM:620728)</td><td style=\"text-align: left;\">NM_004369.4:c.6930+5G>A (homozygous)</td><td style=\"text-align: left;\">Hypotonia (HP:0001252); Torticollis (HP:0000473); Delayed ability to walk (HP:0031936); Shoulder girdle muscle weakness (HP:0003547); Pelvic girdle muscle weakness (HP:0003749); Neck flexor weakness (HP:0003722); Knee contracture (HP:0034671); Hip contracture (HP:0003273); Ankle contracture (HP:0034677); Distal joint hypermobility (HP:0020152); Elevated circulating creatine kinase concentration (HP:0003236); excluded: Kyphoscoliosis (HP:0002751); excluded: Congenital hip dislocation (HP:0001374); excluded: Hip subluxation (HP:0030043)</td></tr>\n",
       "<tr><td style=\"text-align: left;\">Patient 2 (FEMALE; P15Y)</td><td style=\"text-align: left;\">Ullrich congenital muscular dystrophy 1C (OMIM:620728)</td><td style=\"text-align: left;\">NM_004369.4:c.6930+5G>A (homozygous)</td><td style=\"text-align: left;\">Hypotonia (HP:0001252); Delayed ability to walk (HP:0031936); Shoulder girdle muscle weakness (HP:0003547); Pelvic girdle muscle weakness (HP:0003749); Neck flexor weakness (HP:0003722); Knee contracture (HP:0034671); Hip contracture (HP:0003273); Ankle contracture (HP:0034677); Distal joint hypermobility (HP:0020152); excluded: Kyphoscoliosis (HP:0002751); excluded: Congenital hip dislocation (HP:0001374); excluded: Torticollis (HP:0000473); excluded: Hip subluxation (HP:0030043); excluded: Elevated circulating creatine kinase concentration (HP:0003236)</td></tr>\n",
       "<tr><td style=\"text-align: left;\">Patient 3 (FEMALE; P3Y)</td><td style=\"text-align: left;\">Ullrich congenital muscular dystrophy 1C (OMIM:620728)</td><td style=\"text-align: left;\">NM_004369.4:c.6930+5G>A (homozygous)</td><td style=\"text-align: left;\">Hypotonia (HP:0001252); Kyphoscoliosis (HP:0002751); Delayed ability to walk (HP:0031936); Shoulder girdle muscle weakness (HP:0003547); Pelvic girdle muscle weakness (HP:0003749); Neck flexor weakness (HP:0003722); Hip contracture (HP:0003273); Distal joint hypermobility (HP:0020152); excluded: Congenital hip dislocation (HP:0001374); excluded: Torticollis (HP:0000473); excluded: Knee contracture (HP:0034671); excluded: Hip subluxation (HP:0030043); excluded: Ankle contracture (HP:0034677); excluded: Elevated circulating creatine kinase concentration (HP:0003236)</td></tr>\n",
       "<tr><td style=\"text-align: left;\">Patient 4 (FEMALE; P18Y)</td><td style=\"text-align: left;\">Ullrich congenital muscular dystrophy 1C (OMIM:620728)</td><td style=\"text-align: left;\">NM_004369.4:c.1393C>T (homozygous)</td><td style=\"text-align: left;\">Hypotonia (HP:0001252); Shoulder girdle muscle weakness (HP:0003547); Pelvic girdle muscle weakness (HP:0003749); Neck flexor weakness (HP:0003722); Knee contracture (HP:0034671); Hip contracture (HP:0003273); Ankle contracture (HP:0034677); Distal joint hypermobility (HP:0020152); Elevated circulating creatine kinase concentration (HP:0003236); excluded: Kyphoscoliosis (HP:0002751); excluded: Congenital hip dislocation (HP:0001374); excluded: Torticollis (HP:0000473); excluded: Delayed ability to walk (HP:0031936); excluded: Hip subluxation (HP:0030043)</td></tr>\n",
       "<tr><td style=\"text-align: left;\">Patient 5 (FEMALE; P12Y)</td><td style=\"text-align: left;\">Ullrich congenital muscular dystrophy 1C (OMIM:620728)</td><td style=\"text-align: left;\">NM_004369.4:c.7024C>T (homozygous)</td><td style=\"text-align: left;\">Hypotonia (HP:0001252); Congenital hip dislocation (HP:0001374); Torticollis (HP:0000473); Kyphoscoliosis (HP:0002751); Delayed ability to walk (HP:0031936); Shoulder girdle muscle weakness (HP:0003547); Pelvic girdle muscle weakness (HP:0003749); Neck flexor weakness (HP:0003722); Knee contracture (HP:0034671); Hip contracture (HP:0003273); Ankle contracture (HP:0034677); Distal joint hypermobility (HP:0020152); excluded: Hip subluxation (HP:0030043); excluded: Elevated circulating creatine kinase concentration (HP:0003236)</td></tr>\n",
       "</table>"
      ],
      "text/plain": [
       "<IPython.core.display.HTML object>"
      ]
     },
     "metadata": {},
     "output_type": "display_data"
    }
   ],
   "source": [
    "table = IndividualTable(cvalidator.get_error_free_individual_list())\n",
    "display(HTML(table.to_html()))"
   ]
  },
  {
   "cell_type": "code",
   "execution_count": 6,
   "metadata": {},
   "outputs": [
    {
     "name": "stdout",
     "output_type": "stream",
     "text": [
      "[pyphetools] Ingested 8 GA4GH phenopackets.\n",
      "[INFO] Extracted 5 from 8 phenopackets with OMIM:620728\n",
      "\n",
      "\tUllrich congenital muscular dystrophy 1C (OMIM:620728): n=5\n",
      "We found a total of 14 unique HPO terms\n",
      "Extracted disease: Ullrich congenital muscular dystrophy 1C (OMIM:620728)\n",
      "Wrote HPOA disease file to OMIM-620728.tab\n"
     ]
    }
   ],
   "source": [
    "pmid = \"PMID:11992252\"\n",
    "df = timporter.create_hpoa_from_phenopackets(pmid=pmid, moi=\"Autosomal recessive\", target=\"OMIM:620728\")"
   ]
  }
 ],
 "metadata": {
  "kernelspec": {
   "display_name": "ps24venv",
   "language": "python",
   "name": "python3"
  },
  "language_info": {
   "codemirror_mode": {
    "name": "ipython",
    "version": 3
   },
   "file_extension": ".py",
   "mimetype": "text/x-python",
   "name": "python",
   "nbconvert_exporter": "python",
   "pygments_lexer": "ipython3",
   "version": "3.9.6"
  }
 },
 "nbformat": 4,
 "nbformat_minor": 2
}
