{
 "cells": [
  {
   "cell_type": "markdown",
   "metadata": {
    "vscode": {
     "languageId": "bat"
    }
   },
   "source": [
    "# LIPT2\n",
    "[neonatal severe encephalopathy with lactic acidosis and brain abnormalities (NELABA)](https://omim.org/entry/617668) is caused by compound heterozygous mutation in the LIPT2 gene."
   ]
  },
  {
   "cell_type": "code",
   "execution_count": 3,
   "metadata": {},
   "outputs": [
    {
     "name": "stdout",
     "output_type": "stream",
     "text": [
      "Using pyphetools version 0.9.91\n"
     ]
    }
   ],
   "source": [
    "from pyphetools.creation import TemplateImporter\n",
    "from pyphetools.visualization import IndividualTable, QcVisualizer\n",
    "from IPython.display import display, HTML\n",
    "import pyphetools\n",
    "print(f\"Using pyphetools version {pyphetools.__version__}\")"
   ]
  },
  {
   "cell_type": "code",
   "execution_count": 4,
   "metadata": {},
   "outputs": [],
   "source": [
    "template = \"input/LIPT2_NELABA_individuals.xlsx\"\n",
    "created_by = \"0000-0002-0736-9199\""
   ]
  },
  {
   "cell_type": "code",
   "execution_count": 5,
   "metadata": {},
   "outputs": [
    {
     "name": "stdout",
     "output_type": "stream",
     "text": [
      "HPO version 2024-06-25\n",
      "Created encoders for 41 fields\n",
      "Importing OMIM:617668, Encephalopathy, neonatal severe, with lactic acidosis and brain abnormalities, HGNC:37216, LIPT2,  NM_001144869.3\n",
      "We output 3 GA4GH phenopackets to the directory phenopackets\n"
     ]
    }
   ],
   "source": [
    "timporter = TemplateImporter(template=template,  created_by=created_by)\n",
    "individual_list, cvalidator = timporter.import_phenopackets_from_template()"
   ]
  },
  {
   "cell_type": "code",
   "execution_count": 6,
   "metadata": {},
   "outputs": [
    {
     "data": {
      "text/html": [
       "<h2>Cohort validation</h2>\n",
       "<p>No errors found for the cohort with 3 individuals</p>"
      ],
      "text/plain": [
       "<IPython.core.display.HTML object>"
      ]
     },
     "metadata": {},
     "output_type": "display_data"
    }
   ],
   "source": [
    "qc = QcVisualizer(cohort_validator=cvalidator)\n",
    "display(HTML(qc.to_summary_html()))"
   ]
  },
  {
   "cell_type": "code",
   "execution_count": 7,
   "metadata": {},
   "outputs": [
    {
     "data": {
      "text/html": [
       "<table style=\"border: 2px solid black; align: \"left\">\n",
       "<caption>3 phenopackets - PMID:28757203 (n=3)</caption>\n",
       "<tr><th style=\"text-align: left;font-weight: bold;\">Individual</th><th style=\"text-align: left;font-weight: bold;\">Disease</th><th style=\"text-align: left;font-weight: bold;\">Genotype</th><th style=\"text-align: left;font-weight: bold;\">Phenotypic features</th></tr>\n",
       "<tr><td style=\"text-align: left;\">Individual 1 (P1) (MALE; P7Y9M)</td><td style=\"text-align: left;\">Encephalopathy, neonatal severe, with lactic acidosis and brain abnormalities (OMIM:617668)</td><td style=\"text-align: left;\"><ul> <li>NM_001144869.3:c.377T>G (heterozygous)</li> <li>NM_001144869.3:c.89T>C (heterozygous)</li> </ul></td><td style=\"text-align: left;\"><b>P2Y6M</b>: Microcephaly (HP:0000252)<br/>Global developmental delay (HP:0001263); Axial hypotonia (HP:0008936); Spastic tetraparesis (HP:0001285); Dystonia (HP:0001332); Lactic acidosis (HP:0003128); Delayed gross motor development (HP:0002194); Hyperalaninemia (HP:0003348); Hyperglycinemia (HP:0002154); Absent speech (HP:0001344); Absent posterior alpha rhythm (HP:0031518); Encephalopathy (HP:0001298); Seizure (HP:0001250); Cerebral cortical atrophy (HP:0002120); Delayed CNS myelination (HP:0002188); Ventriculomegaly (HP:0002119); Elevated brain lactate level by MRS (HP:0012707); Increased circulating lactate concentration (HP:0002151); Feeding difficulties (HP:0011968); excluded: Simplified gyral pattern (HP:0009879); excluded: Periventricular cysts (HP:0007109); excluded: Respiratory insufficiency (HP:0002093)</td></tr>\n",
       "<tr><td style=\"text-align: left;\">Individual 2 (P2) (MALE; P2M)</td><td style=\"text-align: left;\">Encephalopathy, neonatal severe, with lactic acidosis and brain abnormalities (OMIM:617668)</td><td style=\"text-align: left;\"><ul> <li>NM_001144869.3:c.377T>G (heterozygous)</li> <li>NM_001144869.3:c.314T>G (heterozygous)</li> </ul></td><td style=\"text-align: left;\">Hypotonia (HP:0001252); Global developmental delay (HP:0001263); Ventriculomegaly (HP:0002119); Lactic acidosis (HP:0003128); Hyperalaninemia (HP:0003348); Encephalopathy (HP:0001298); Periventricular cysts (HP:0007109); Increased circulating lactate concentration (HP:0002151); excluded: Spastic tetraparesis (HP:0001285); excluded: Hyperglycinemia (HP:0002154); excluded: Absent posterior alpha rhythm (HP:0031518); excluded: Seizure (HP:0001250); excluded: Simplified gyral pattern (HP:0009879); excluded: Cerebral cortical atrophy (HP:0002120); excluded: Delayed CNS myelination (HP:0002188); excluded: Respiratory insufficiency (HP:0002093); excluded: Microcephaly (HP:0000252)</td></tr>\n",
       "<tr><td style=\"text-align: left;\">Individual 3 (P3) (FEMALE; P7M)</td><td style=\"text-align: left;\">Encephalopathy, neonatal severe, with lactic acidosis and brain abnormalities (OMIM:617668)</td><td style=\"text-align: left;\"><ul> <li>NM_001144869.3:c.377T>G (heterozygous)</li> <li>NM_001144869.3:c.314T>G (heterozygous)</li> </ul></td><td style=\"text-align: left;\">Hypotonia (HP:0001252); Global developmental delay (HP:0001263); Ventriculomegaly (HP:0002119); Lactic acidosis (HP:0003128); Hyperalaninemia (HP:0003348); Hyperglycinemia (HP:0002154); Encephalopathy (HP:0001298); Simplified gyral pattern (HP:0009879); Periventricular cysts (HP:0007109); Increased circulating lactate concentration (HP:0002151); Respiratory insufficiency (HP:0002093); excluded: Spastic tetraparesis (HP:0001285); excluded: Absent posterior alpha rhythm (HP:0031518); excluded: Seizure (HP:0001250); excluded: Cerebral cortical atrophy (HP:0002120); excluded: Delayed CNS myelination (HP:0002188); excluded: Microcephaly (HP:0000252)</td></tr>\n",
       "</table>"
      ],
      "text/plain": [
       "<IPython.core.display.HTML object>"
      ]
     },
     "metadata": {},
     "output_type": "display_data"
    }
   ],
   "source": [
    "table = IndividualTable(cvalidator.get_error_free_individual_list())\n",
    "display(HTML(table.to_html()))"
   ]
  },
  {
   "cell_type": "code",
   "execution_count": 8,
   "metadata": {},
   "outputs": [
    {
     "name": "stdout",
     "output_type": "stream",
     "text": [
      "[pyphetools] Ingested 3 GA4GH phenopackets.\n",
      "[INFO] Extracted 3 from 3 phenopackets with OMIM:617668\n",
      "\n",
      "\tEncephalopathy, neonatal severe, with lactic acidosis and brain abnormalities (OMIM:617668): n=3\n",
      "We found a total of 23 unique HPO terms\n",
      "Extracted disease: Encephalopathy, neonatal severe, with lactic acidosis and brain abnormalities (OMIM:617668)\n",
      "Wrote HPOA disease file to OMIM-617668.tab\n"
     ]
    }
   ],
   "source": [
    "pmid = \"PMID:28757203\"\n",
    "df = timporter.create_hpoa_from_phenopackets(pmid=pmid, moi=\"Autosomal recessive\", target=\"OMIM:617668\")"
   ]
  },
  {
   "cell_type": "code",
   "execution_count": null,
   "metadata": {},
   "outputs": [],
   "source": []
  }
 ],
 "metadata": {
  "kernelspec": {
   "display_name": "ps24venv",
   "language": "python",
   "name": "python3"
  },
  "language_info": {
   "codemirror_mode": {
    "name": "ipython",
    "version": 3
   },
   "file_extension": ".py",
   "mimetype": "text/x-python",
   "name": "python",
   "nbconvert_exporter": "python",
   "pygments_lexer": "ipython3",
   "version": "3.9.6"
  }
 },
 "nbformat": 4,
 "nbformat_minor": 2
}
