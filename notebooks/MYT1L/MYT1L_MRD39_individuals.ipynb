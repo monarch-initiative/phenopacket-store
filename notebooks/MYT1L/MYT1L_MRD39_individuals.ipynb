{
 "cells": [
  {
   "cell_type": "markdown",
   "metadata": {},
   "source": [
    "# MYT1L\n",
    "[Intellectual developmental disorder, autosomal dominant 39](https://omim.org/entry/616521) is caused by heterozygous mutation in the MYT1L gene."
   ]
  },
  {
   "cell_type": "code",
   "execution_count": 3,
   "metadata": {},
   "outputs": [
    {
     "name": "stdout",
     "output_type": "stream",
     "text": [
      "Using pyphetools version 0.9.94\n"
     ]
    }
   ],
   "source": [
    "from pyphetools.creation import TemplateImporter, Moi\n",
    "from pyphetools.visualization import IndividualTable, QcVisualizer\n",
    "from IPython.display import display, HTML\n",
    "import pyphetools\n",
    "print(f\"Using pyphetools version {pyphetools.__version__}\")"
   ]
  },
  {
   "cell_type": "code",
   "execution_count": 4,
   "metadata": {},
   "outputs": [],
   "source": [
    "template = \"input/MYT1L_MRD39_individuals.xlsx\"\n",
    "created_by = \"0000-0002-0736-9199\""
   ]
  },
  {
   "cell_type": "code",
   "execution_count": 5,
   "metadata": {},
   "outputs": [
    {
     "name": "stdout",
     "output_type": "stream",
     "text": [
      "HPO version 2024-07-01\n",
      "Created encoders for 29 fields\n",
      "Importing OMIM:616521, Intellectual developmental disorder, autosomal dominant 39, HGNC:7623, MYT1L,  NM_001303052.2\n",
      "[INFO] encoding variant \"c.2221_2230del\"\n",
      "https://rest.variantvalidator.org/VariantValidator/variantvalidator/hg38/NM_001303052.2%3Ac.2221_2230del/NM_001303052.2?content-type=application%2Fjson\n",
      "We output 1 GA4GH phenopackets to the directory phenopackets\n"
     ]
    }
   ],
   "source": [
    "timporter = TemplateImporter(template=template,  created_by=created_by)\n",
    "individual_list, cvalidator = timporter.import_phenopackets_from_template()"
   ]
  },
  {
   "cell_type": "code",
   "execution_count": 6,
   "metadata": {},
   "outputs": [
    {
     "data": {
      "text/html": [
       "<h2>Cohort validation</h2>\n",
       "<p>No errors found for the cohort with 1 individuals</p>"
      ],
      "text/plain": [
       "<IPython.core.display.HTML object>"
      ]
     },
     "metadata": {},
     "output_type": "display_data"
    }
   ],
   "source": [
    "qc = QcVisualizer(cohort_validator=cvalidator)\n",
    "display(HTML(qc.to_summary_html()))"
   ]
  },
  {
   "cell_type": "code",
   "execution_count": 7,
   "metadata": {},
   "outputs": [
    {
     "data": {
      "text/html": [
       "<table style=\"border: 2px solid black; align: \"left\">\n",
       "<caption>1 phenopacket - PMID:30055078 (n=1)</caption>\n",
       "<tr><th style=\"text-align: left;font-weight: bold;\">Individual</th><th style=\"text-align: left;font-weight: bold;\">Disease</th><th style=\"text-align: left;font-weight: bold;\">Genotype</th><th style=\"text-align: left;font-weight: bold;\">Phenotypic features</th></tr>\n",
       "<tr><td style=\"text-align: left;\">index patient (MALE; P14Y)</td><td style=\"text-align: left;\">Intellectual developmental disorder, autosomal dominant 39 (OMIM:616521)</td><td style=\"text-align: left;\">NM_001303052.2:c.2221_2230del (heterozygous)</td><td style=\"text-align: left;\"><b>P1Y</b>: Obesity (HP:0001513); Polyphagia (HP:0002591)<br/>Delayed speech and language development (HP:0000750); Intellectual disability (HP:0001249); Global developmental delay (HP:0001263); Strabismus (HP:0000486); Attention deficit hyperactivity disorder (HP:0007018); excluded: Aggressive behavior (HP:0000718); excluded: Hypothyroidism (HP:0000821); excluded: Increased circulating cortisol level (HP:0003118); excluded: Abnormal blood glucose concentration (HP:0011015); excluded: EEG abnormality (HP:0002353)</td></tr>\n",
       "</table>"
      ],
      "text/plain": [
       "<IPython.core.display.HTML object>"
      ]
     },
     "metadata": {},
     "output_type": "display_data"
    }
   ],
   "source": [
    "table = IndividualTable(cvalidator.get_error_free_individual_list())\n",
    "display(HTML(table.to_html()))"
   ]
  },
  {
   "cell_type": "code",
   "execution_count": 8,
   "metadata": {},
   "outputs": [
    {
     "name": "stdout",
     "output_type": "stream",
     "text": [
      "[pyphetools] Ingested 1 GA4GH phenopackets.\n",
      "[INFO] Extracted 1 from 1 phenopackets with OMIM:616521\n",
      "\n",
      "\tIntellectual developmental disorder, autosomal dominant 39 (OMIM:616521): n=1\n",
      "We found a total of 12 unique HPO terms\n",
      "Extracted disease: Intellectual developmental disorder, autosomal dominant 39 (OMIM:616521)\n",
      "Wrote HPOA disease file to OMIM-616521.tab\n"
     ]
    }
   ],
   "source": [
    "pmid = \"PMID:30055078\"\n",
    "df = timporter.create_hpoa_from_phenopackets(pmid=pmid, mode_of_inheritance=Moi.AD, target=\"OMIM:616521\")"
   ]
  }
 ],
 "metadata": {
  "kernelspec": {
   "display_name": "ps24venv",
   "language": "python",
   "name": "python3"
  },
  "language_info": {
   "codemirror_mode": {
    "name": "ipython",
    "version": 3
   },
   "file_extension": ".py",
   "mimetype": "text/x-python",
   "name": "python",
   "nbconvert_exporter": "python",
   "pygments_lexer": "ipython3",
   "version": "3.9.6"
  }
 },
 "nbformat": 4,
 "nbformat_minor": 2
}
