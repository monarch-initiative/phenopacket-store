{
 "cells": [
  {
   "cell_type": "markdown",
   "id": "20d270d4-e39b-478d-947d-96c2fa577650",
   "metadata": {},
   "source": [
    "# ADAMTS15 individuals\n",
    "Variants in ADAMTS15 are associated with [Arthrogryposis, distal, type 12](https://omim.org/entry/620545)"
   ]
  },
  {
   "cell_type": "code",
   "execution_count": 2,
   "id": "b4be4e00-3ebc-4c94-a9e4-d94c97e01c5a",
   "metadata": {},
   "outputs": [
    {
     "name": "stdout",
     "output_type": "stream",
     "text": [
      "Using pyphetools version 0.9.61\n"
     ]
    }
   ],
   "source": [
    "import pandas as pd\n",
    "from IPython.display import display, HTML\n",
    "pd.set_option('display.max_colwidth', None) # show entire column contents, important!\n",
    "from collections import defaultdict\n",
    "from pyphetools.creation import *\n",
    "from pyphetools.visualization import *\n",
    "from pyphetools.validation import *\n",
    "import pyphetools\n",
    "print(f\"Using pyphetools version {pyphetools.__version__}\")"
   ]
  },
  {
   "cell_type": "code",
   "execution_count": 3,
   "id": "536de751-2ac6-471f-9ca7-ec5290bea193",
   "metadata": {},
   "outputs": [
    {
     "name": "stdout",
     "output_type": "stream",
     "text": [
      "HPO version 2024-02-27\n"
     ]
    }
   ],
   "source": [
    "parser = HpoParser(hpo_json_file=\"../hp.json\")\n",
    "hpo_cr = parser.get_hpo_concept_recognizer()\n",
    "hpo_version = parser.get_version()\n",
    "hpo_ontology = parser.get_ontology()\n",
    "created_by=\"ORCID:0000-0002-0736-9199\"\n",
    "print(f\"HPO version {hpo_version}\")"
   ]
  },
  {
   "cell_type": "code",
   "execution_count": 4,
   "id": "f9f5ecef-07d9-4a03-80db-30d8296dd92e",
   "metadata": {},
   "outputs": [
    {
     "data": {
      "text/html": [
       "<div>\n",
       "<style scoped>\n",
       "    .dataframe tbody tr th:only-of-type {\n",
       "        vertical-align: middle;\n",
       "    }\n",
       "\n",
       "    .dataframe tbody tr th {\n",
       "        vertical-align: top;\n",
       "    }\n",
       "\n",
       "    .dataframe thead th {\n",
       "        text-align: right;\n",
       "    }\n",
       "</style>\n",
       "<table border=\"1\" class=\"dataframe\">\n",
       "  <thead>\n",
       "    <tr style=\"text-align: right;\">\n",
       "      <th></th>\n",
       "      <th>PMID</th>\n",
       "      <th>title</th>\n",
       "      <th>individual_id</th>\n",
       "      <th>comment</th>\n",
       "      <th>disease_id</th>\n",
       "      <th>disease_label</th>\n",
       "      <th>HGNC_id</th>\n",
       "      <th>gene_symbol</th>\n",
       "      <th>transcript</th>\n",
       "      <th>allele_1</th>\n",
       "      <th>...</th>\n",
       "      <th>High palate</th>\n",
       "      <th>Dental crowding</th>\n",
       "      <th>Agenesis of maxillary incisor</th>\n",
       "      <th>Scoliosis</th>\n",
       "      <th>Spinal rigidity</th>\n",
       "      <th>Thoracic kyphosis</th>\n",
       "      <th>Cryptorchidism</th>\n",
       "      <th>Inguinal hernia</th>\n",
       "      <th>Hydrocele testis</th>\n",
       "      <th>Mitral valve prolapse</th>\n",
       "    </tr>\n",
       "  </thead>\n",
       "  <tbody>\n",
       "    <tr>\n",
       "      <th>0</th>\n",
       "      <td>CURIE</td>\n",
       "      <td>str</td>\n",
       "      <td>str</td>\n",
       "      <td>optional</td>\n",
       "      <td>CURIE</td>\n",
       "      <td>str</td>\n",
       "      <td>CURIE</td>\n",
       "      <td>str</td>\n",
       "      <td>str</td>\n",
       "      <td>str</td>\n",
       "      <td>...</td>\n",
       "      <td>HP:0000218</td>\n",
       "      <td>HP:0000678</td>\n",
       "      <td>HP:0200160</td>\n",
       "      <td>HP:0002650</td>\n",
       "      <td>HP:0003306</td>\n",
       "      <td>HP:0002942</td>\n",
       "      <td>HP:0000028</td>\n",
       "      <td>HP:0000023</td>\n",
       "      <td>HP:0000034</td>\n",
       "      <td>HP:0001634</td>\n",
       "    </tr>\n",
       "    <tr>\n",
       "      <th>1</th>\n",
       "      <td>PMID:35962790</td>\n",
       "      <td>Biallelic variants in ADAMTS15 cause a novel form of distal arthrogryposis</td>\n",
       "      <td>Family A Individual 1 (II-1)</td>\n",
       "      <td>NaN</td>\n",
       "      <td>OMIM:620545</td>\n",
       "      <td>Arthrogryposis, distal, type 12</td>\n",
       "      <td>HGNC:16305</td>\n",
       "      <td>ADAMTS15</td>\n",
       "      <td>NaN</td>\n",
       "      <td>c.123C&gt;G</td>\n",
       "      <td>...</td>\n",
       "      <td>na</td>\n",
       "      <td>observed</td>\n",
       "      <td>excluded</td>\n",
       "      <td>observed</td>\n",
       "      <td>observed</td>\n",
       "      <td>observed</td>\n",
       "      <td>observed</td>\n",
       "      <td>excluded</td>\n",
       "      <td>excluded</td>\n",
       "      <td>excluded</td>\n",
       "    </tr>\n",
       "  </tbody>\n",
       "</table>\n",
       "<p>2 rows × 43 columns</p>\n",
       "</div>"
      ],
      "text/plain": [
       "            PMID  \\\n",
       "0          CURIE   \n",
       "1  PMID:35962790   \n",
       "\n",
       "                                                                        title  \\\n",
       "0                                                                         str   \n",
       "1  Biallelic variants in ADAMTS15 cause a novel form of distal arthrogryposis   \n",
       "\n",
       "                  individual_id   comment   disease_id  \\\n",
       "0                           str  optional        CURIE   \n",
       "1  Family A Individual 1 (II-1)       NaN  OMIM:620545   \n",
       "\n",
       "                     disease_label     HGNC_id gene_symbol transcript  \\\n",
       "0                              str       CURIE         str        str   \n",
       "1  Arthrogryposis, distal, type 12  HGNC:16305    ADAMTS15        NaN   \n",
       "\n",
       "   allele_1  ... High palate Dental crowding Agenesis of maxillary incisor  \\\n",
       "0       str  ...  HP:0000218      HP:0000678                    HP:0200160   \n",
       "1  c.123C>G  ...          na        observed                      excluded   \n",
       "\n",
       "    Scoliosis Spinal rigidity Thoracic kyphosis Cryptorchidism  \\\n",
       "0  HP:0002650      HP:0003306        HP:0002942     HP:0000028   \n",
       "1    observed        observed          observed       observed   \n",
       "\n",
       "  Inguinal hernia Hydrocele testis Mitral valve prolapse  \n",
       "0      HP:0000023       HP:0000034            HP:0001634  \n",
       "1        excluded         excluded              excluded  \n",
       "\n",
       "[2 rows x 43 columns]"
      ]
     },
     "execution_count": 4,
     "metadata": {},
     "output_type": "execute_result"
    }
   ],
   "source": [
    "df = pd.read_excel(\"input/ADAMTS15_individuals.xlsx\")\n",
    "df.head(2)"
   ]
  },
  {
   "cell_type": "code",
   "execution_count": 6,
   "id": "96fad079-9642-4cd9-a282-d366a35769a7",
   "metadata": {},
   "outputs": [
    {
     "name": "stdout",
     "output_type": "stream",
     "text": [
      "Created encoders for 43 fields\n"
     ]
    }
   ],
   "source": [
    "encoder = CaseTemplateEncoder(df=df, hpo_cr=hpo_cr, created_by=created_by, hpo_ontology=hpo_ontology)\n",
    "individuals = encoder.get_individuals()"
   ]
  },
  {
   "cell_type": "code",
   "execution_count": 7,
   "id": "b2c2ec91-25ad-465b-b754-3b5b6e243d7d",
   "metadata": {},
   "outputs": [],
   "source": [
    "ADAMTS15_transcript = \"NM_139055.4\"\n",
    "vmanager = VariantManager(df=df,\n",
    "                          individual_column_name=\"individual_id\",\n",
    "                          gene_symbol=\"ADAMTS15\",\n",
    "                          transcript=ADAMTS15_transcript,\n",
    "                          allele_1_column_name=\"allele_1\",\n",
    "                          allele_2_column_name=\"allele_2\")"
   ]
  },
  {
   "cell_type": "code",
   "execution_count": 8,
   "id": "4d1dfd4d-de0d-438a-bac0-6035ef79c578",
   "metadata": {},
   "outputs": [
    {
     "data": {
      "text/html": [
       "<div>\n",
       "<style scoped>\n",
       "    .dataframe tbody tr th:only-of-type {\n",
       "        vertical-align: middle;\n",
       "    }\n",
       "\n",
       "    .dataframe tbody tr th {\n",
       "        vertical-align: top;\n",
       "    }\n",
       "\n",
       "    .dataframe thead th {\n",
       "        text-align: right;\n",
       "    }\n",
       "</style>\n",
       "<table border=\"1\" class=\"dataframe\">\n",
       "  <thead>\n",
       "    <tr style=\"text-align: right;\">\n",
       "      <th></th>\n",
       "      <th>status</th>\n",
       "      <th>count</th>\n",
       "      <th>alleles</th>\n",
       "    </tr>\n",
       "  </thead>\n",
       "  <tbody>\n",
       "    <tr>\n",
       "      <th>0</th>\n",
       "      <td>mapped</td>\n",
       "      <td>4</td>\n",
       "      <td>c.2715C&gt;G, c.123C&gt;G, c.2281G&gt;A, c.1903-2A&gt;G</td>\n",
       "    </tr>\n",
       "    <tr>\n",
       "      <th>1</th>\n",
       "      <td>unmapped</td>\n",
       "      <td>0</td>\n",
       "      <td></td>\n",
       "    </tr>\n",
       "  </tbody>\n",
       "</table>\n",
       "</div>"
      ],
      "text/plain": [
       "     status  count                                      alleles\n",
       "0    mapped      4  c.2715C>G, c.123C>G, c.2281G>A, c.1903-2A>G\n",
       "1  unmapped      0                                             "
      ]
     },
     "execution_count": 8,
     "metadata": {},
     "output_type": "execute_result"
    }
   ],
   "source": [
    "vmanager.to_summary()"
   ]
  },
  {
   "cell_type": "code",
   "execution_count": 9,
   "id": "612a0360-835f-4820-a065-cee25f927735",
   "metadata": {},
   "outputs": [],
   "source": [
    "vmanager.add_variants_to_individuals(individuals)"
   ]
  },
  {
   "cell_type": "code",
   "execution_count": 10,
   "id": "8340ad30-5594-4f5f-af3d-bb6490c1ce30",
   "metadata": {},
   "outputs": [
    {
     "data": {
      "text/html": [
       "<h2>Cohort validation</h2>\n",
       "<p>No errors found for the cohort with 5 individuals</p>"
      ],
      "text/plain": [
       "<IPython.core.display.HTML object>"
      ]
     },
     "metadata": {},
     "output_type": "display_data"
    }
   ],
   "source": [
    "cvalidator = CohortValidator(cohort=individuals, ontology=hpo_ontology, min_hpo=1,\n",
    "                                allelic_requirement=AllelicRequirement.BI_ALLELIC)\n",
    "qc = QcVisualizer(cohort_validator=cvalidator)\n",
    "display(HTML(qc.to_summary_html()))"
   ]
  },
  {
   "cell_type": "code",
   "execution_count": 11,
   "id": "26e02ef7-feae-4bb2-ad89-032401168b89",
   "metadata": {},
   "outputs": [
    {
     "data": {
      "text/html": [
       "<table style=\"border: 2px solid black; align: \"left\">\n",
       "<caption>5 phenopackets - PMID:35962790 (n=5)</caption>\n",
       "<tr><th style=\"text-align: left;font-weight: bold;\">Individual</th><th style=\"text-align: left;font-weight: bold;\">Disease</th><th style=\"text-align: left;font-weight: bold;\">Genotype</th><th style=\"text-align: left;font-weight: bold;\">Phenotypic features</th></tr>\n",
       "<tr><td style=\"text-align: left;\">Family A Individual 1 (II-1) (MALE; P17Y5M)</td><td style=\"text-align: left;\">Arthrogryposis, distal, type 12 (OMIM:620545)</td><td style=\"text-align: left;\">NM_139055.4:c.123C>G (homozygous)</td><td style=\"text-align: left;\">Congenital finger flexion contractures (HP:0005879); Absent distal interphalangeal creases (HP:0001032); Hand muscle atrophy (HP:0009130); Tapered distal phalanges of finger (HP:0009884); Clinodactyly of the 5th finger (HP:0004209); Hypoesthesia (HP:0033748); Talipes equinovarus (HP:0001762); Achilles tendon contracture (HP:0001771); Ankle flexion contracture (HP:0006466); Knee flexion contracture (HP:0006380); Acroparesthesia (HP:0031006); Low-set ears (HP:0000369); Strabismus (HP:0000486); Dental crowding (HP:0000678); Scoliosis (HP:0002650); Spinal rigidity (HP:0003306); Thoracic kyphosis (HP:0002942); Cryptorchidism (HP:0000028); excluded: Intellectual disability (HP:0001249); excluded: Palmar hyperhidrosis (HP:0006089); excluded: Hypertelorism (HP:0000316); excluded: Ptosis (HP:0000508); excluded: Agenesis of maxillary incisor (HP:0200160); excluded: Inguinal hernia (HP:0000023); excluded: Hydrocele testis (HP:0000034); excluded: Mitral valve prolapse (HP:0001634)</td></tr>\n",
       "<tr><td style=\"text-align: left;\">Family A Individual 2 (II-4) (MALE; P9Y7M)</td><td style=\"text-align: left;\">Arthrogryposis, distal, type 12 (OMIM:620545)</td><td style=\"text-align: left;\">NM_139055.4:c.123C>G (homozygous)</td><td style=\"text-align: left;\">Congenital finger flexion contractures (HP:0005879); Absent distal interphalangeal creases (HP:0001032); Hand muscle atrophy (HP:0009130); Tapered distal phalanges of finger (HP:0009884); Clinodactyly of the 5th finger (HP:0004209); Hypoesthesia (HP:0033748); Palmar hyperhidrosis (HP:0006089); Achilles tendon contracture (HP:0001771); Ankle flexion contracture (HP:0006466); Knee flexion contracture (HP:0006380); Low-set ears (HP:0000369); Dental crowding (HP:0000678); Scoliosis (HP:0002650); Spinal rigidity (HP:0003306); Thoracic kyphosis (HP:0002942); excluded: Intellectual disability (HP:0001249); excluded: Talipes equinovarus (HP:0001762); excluded: Acroparesthesia (HP:0031006); excluded: Hypertelorism (HP:0000316); excluded: Strabismus (HP:0000486); excluded: Ptosis (HP:0000508); excluded: Agenesis of maxillary incisor (HP:0200160); excluded: Cryptorchidism (HP:0000028); excluded: Inguinal hernia (HP:0000023); excluded: Hydrocele testis (HP:0000034); excluded: Mitral valve prolapse (HP:0001634)</td></tr>\n",
       "<tr><td style=\"text-align: left;\">Family B Individual 3 (II-6) (FEMALE; P17Y5M)</td><td style=\"text-align: left;\">Arthrogryposis, distal, type 12 (OMIM:620545)</td><td style=\"text-align: left;\">NM_139055.4:c.1903-2A>G (homozygous)</td><td style=\"text-align: left;\">Congenital finger flexion contractures (HP:0005879); Absent distal interphalangeal creases (HP:0001032); Hand muscle atrophy (HP:0009130); Tapered distal phalanges of finger (HP:0009884); Clinodactyly of the 5th finger (HP:0004209); Hypoesthesia (HP:0033748); Palmar hyperhidrosis (HP:0006089); Ankle flexion contracture (HP:0006466); Knee flexion contracture (HP:0006380); Low-set ears (HP:0000369); Hypertelorism (HP:0000316); Agenesis of maxillary incisor (HP:0200160); Scoliosis (HP:0002650); Spinal rigidity (HP:0003306); Thoracic kyphosis (HP:0002942); Inguinal hernia (HP:0000023); Mitral valve prolapse (HP:0001634); excluded: Intellectual disability (HP:0001249); excluded: Talipes equinovarus (HP:0001762); excluded: Achilles tendon contracture (HP:0001771); excluded: Strabismus (HP:0000486); excluded: Ptosis (HP:0000508); excluded: Dental crowding (HP:0000678)</td></tr>\n",
       "<tr><td style=\"text-align: left;\">Family C Individual 4 (II-1) (MALE; P3Y1M)</td><td style=\"text-align: left;\">Arthrogryposis, distal, type 12 (OMIM:620545)</td><td style=\"text-align: left;\">NM_139055.4:c.2281G>A (homozygous)</td><td style=\"text-align: left;\">Congenital finger flexion contractures (HP:0005879); Absent distal interphalangeal creases (HP:0001032); Hand muscle atrophy (HP:0009130); Tapered distal phalanges of finger (HP:0009884); Clinodactyly of the 5th finger (HP:0004209); Achilles tendon contracture (HP:0001771); Low-set ears (HP:0000369); Cryptorchidism (HP:0000028); Inguinal hernia (HP:0000023); excluded: Intellectual disability (HP:0001249); excluded: Hypoesthesia (HP:0033748); excluded: Palmar hyperhidrosis (HP:0006089); excluded: Talipes equinovarus (HP:0001762); excluded: Ankle flexion contracture (HP:0006466); excluded: Knee flexion contracture (HP:0006380); excluded: Acroparesthesia (HP:0031006); excluded: Hypertelorism (HP:0000316); excluded: Strabismus (HP:0000486); excluded: Ptosis (HP:0000508); excluded: High palate (HP:0000218); excluded: Dental crowding (HP:0000678); excluded: Agenesis of maxillary incisor (HP:0200160); excluded: Scoliosis (HP:0002650); excluded: Spinal rigidity (HP:0003306); excluded: Thoracic kyphosis (HP:0002942); excluded: Hydrocele testis (HP:0000034); excluded: Mitral valve prolapse (HP:0001634)</td></tr>\n",
       "<tr><td style=\"text-align: left;\">Family D Individual 5 (II-2) (MALE; P8Y7M)</td><td style=\"text-align: left;\">Arthrogryposis, distal, type 12 (OMIM:620545)</td><td style=\"text-align: left;\">NM_139055.4:c.2715C>G (homozygous)</td><td style=\"text-align: left;\">Congenital finger flexion contractures (HP:0005879); Absent distal interphalangeal creases (HP:0001032); Hand muscle atrophy (HP:0009130); Tapered distal phalanges of finger (HP:0009884); Clinodactyly of the 5th finger (HP:0004209); Achilles tendon contracture (HP:0001771); Ankle flexion contracture (HP:0006466); Knee flexion contracture (HP:0006380); Strabismus (HP:0000486); Ptosis (HP:0000508); High palate (HP:0000218); Dental crowding (HP:0000678); Thoracic kyphosis (HP:0002942); Hydrocele testis (HP:0000034); excluded: Intellectual disability (HP:0001249); excluded: Hypoesthesia (HP:0033748); excluded: Palmar hyperhidrosis (HP:0006089); excluded: Talipes equinovarus (HP:0001762); excluded: Acroparesthesia (HP:0031006); excluded: Low-set ears (HP:0000369); excluded: Hypertelorism (HP:0000316); excluded: Agenesis of maxillary incisor (HP:0200160); excluded: Scoliosis (HP:0002650); excluded: Spinal rigidity (HP:0003306); excluded: Cryptorchidism (HP:0000028); excluded: Inguinal hernia (HP:0000023); excluded: Mitral valve prolapse (HP:0001634)</td></tr>\n",
       "</table>"
      ],
      "text/plain": [
       "<IPython.core.display.HTML object>"
      ]
     },
     "metadata": {},
     "output_type": "display_data"
    }
   ],
   "source": [
    "individuals = cvalidator.get_error_free_individual_list()\n",
    "table = IndividualTable(individuals)\n",
    "display(HTML(table.to_html()))"
   ]
  },
  {
   "cell_type": "code",
   "execution_count": 12,
   "id": "3a36ee31-1464-4f3a-8cea-36a675cd4795",
   "metadata": {},
   "outputs": [
    {
     "name": "stdout",
     "output_type": "stream",
     "text": [
      "We output 5 GA4GH phenopackets to the directory phenopackets\n"
     ]
    }
   ],
   "source": [
    "encoder.output_individuals_as_phenopackets(individual_list=individuals)"
   ]
  },
  {
   "cell_type": "markdown",
   "id": "bb0a5258-02cc-4058-808e-b3ce9c8f8076",
   "metadata": {},
   "source": [
    "# HPOA file"
   ]
  },
  {
   "cell_type": "code",
   "execution_count": 13,
   "id": "73196c5a-62f0-4087-a06a-b981161ff08e",
   "metadata": {},
   "outputs": [
    {
     "name": "stdout",
     "output_type": "stream",
     "text": [
      "[pyphetools] Ingested 5 GA4GH phenopackets.\n"
     ]
    }
   ],
   "source": [
    "ingestor = PhenopacketIngestor(indir=\"phenopackets\")\n",
    "ppkt_d = ingestor.get_phenopacket_dictionary()\n",
    "ppkt_list = list(ppkt_d.values())"
   ]
  },
  {
   "cell_type": "code",
   "execution_count": 14,
   "id": "70041dfc-ec4a-4edc-9e5a-8c73f8ded640",
   "metadata": {},
   "outputs": [
    {
     "name": "stdout",
     "output_type": "stream",
     "text": [
      "We found a total of 27 unique HPO terms\n",
      "Extracted disease: Arthrogryposis, distal, type 12 (OMIM:620545)\n"
     ]
    }
   ],
   "source": [
    "builder = HpoaTableBuilder(phenopacket_list=ppkt_list)\n",
    "PMID = \"PMID:35962790\" # Biallelic variants in ADAMTS15 cause a novel form of distal arthrogryposis \n",
    "hpoa_table_creator = builder.autosomal_recessive(PMID).build()"
   ]
  },
  {
   "cell_type": "code",
   "execution_count": 15,
   "id": "fbd7ce66-e19b-4878-aee2-ade9cef36968",
   "metadata": {},
   "outputs": [
    {
     "data": {
      "text/html": [
       "<div>\n",
       "<style scoped>\n",
       "    .dataframe tbody tr th:only-of-type {\n",
       "        vertical-align: middle;\n",
       "    }\n",
       "\n",
       "    .dataframe tbody tr th {\n",
       "        vertical-align: top;\n",
       "    }\n",
       "\n",
       "    .dataframe thead th {\n",
       "        text-align: right;\n",
       "    }\n",
       "</style>\n",
       "<table border=\"1\" class=\"dataframe\">\n",
       "  <thead>\n",
       "    <tr style=\"text-align: right;\">\n",
       "      <th></th>\n",
       "      <th>#diseaseID</th>\n",
       "      <th>diseaseName</th>\n",
       "      <th>phenotypeID</th>\n",
       "      <th>phenotypeName</th>\n",
       "      <th>onsetID</th>\n",
       "      <th>onsetName</th>\n",
       "      <th>frequency</th>\n",
       "      <th>sex</th>\n",
       "      <th>negation</th>\n",
       "      <th>modifier</th>\n",
       "      <th>description</th>\n",
       "      <th>publication</th>\n",
       "      <th>evidence</th>\n",
       "      <th>biocuration</th>\n",
       "    </tr>\n",
       "  </thead>\n",
       "  <tbody>\n",
       "    <tr>\n",
       "      <th>0</th>\n",
       "      <td>OMIM:620545</td>\n",
       "      <td>Arthrogryposis, distal, type 12</td>\n",
       "      <td>HP:0005879</td>\n",
       "      <td>Congenital finger flexion contractures</td>\n",
       "      <td></td>\n",
       "      <td></td>\n",
       "      <td>5/5</td>\n",
       "      <td></td>\n",
       "      <td></td>\n",
       "      <td></td>\n",
       "      <td></td>\n",
       "      <td>PMID:35962790</td>\n",
       "      <td>PCS</td>\n",
       "      <td>ORCID:0000-0002-0736-9199</td>\n",
       "    </tr>\n",
       "    <tr>\n",
       "      <th>1</th>\n",
       "      <td>OMIM:620545</td>\n",
       "      <td>Arthrogryposis, distal, type 12</td>\n",
       "      <td>HP:0001032</td>\n",
       "      <td>Absent distal interphalangeal creases</td>\n",
       "      <td></td>\n",
       "      <td></td>\n",
       "      <td>5/5</td>\n",
       "      <td></td>\n",
       "      <td></td>\n",
       "      <td></td>\n",
       "      <td></td>\n",
       "      <td>PMID:35962790</td>\n",
       "      <td>PCS</td>\n",
       "      <td>ORCID:0000-0002-0736-9199</td>\n",
       "    </tr>\n",
       "    <tr>\n",
       "      <th>2</th>\n",
       "      <td>OMIM:620545</td>\n",
       "      <td>Arthrogryposis, distal, type 12</td>\n",
       "      <td>HP:0009130</td>\n",
       "      <td>Hand muscle atrophy</td>\n",
       "      <td></td>\n",
       "      <td></td>\n",
       "      <td>5/5</td>\n",
       "      <td></td>\n",
       "      <td></td>\n",
       "      <td></td>\n",
       "      <td></td>\n",
       "      <td>PMID:35962790</td>\n",
       "      <td>PCS</td>\n",
       "      <td>ORCID:0000-0002-0736-9199</td>\n",
       "    </tr>\n",
       "    <tr>\n",
       "      <th>3</th>\n",
       "      <td>OMIM:620545</td>\n",
       "      <td>Arthrogryposis, distal, type 12</td>\n",
       "      <td>HP:0009884</td>\n",
       "      <td>Tapered distal phalanges of finger</td>\n",
       "      <td></td>\n",
       "      <td></td>\n",
       "      <td>5/5</td>\n",
       "      <td></td>\n",
       "      <td></td>\n",
       "      <td></td>\n",
       "      <td></td>\n",
       "      <td>PMID:35962790</td>\n",
       "      <td>PCS</td>\n",
       "      <td>ORCID:0000-0002-0736-9199</td>\n",
       "    </tr>\n",
       "    <tr>\n",
       "      <th>4</th>\n",
       "      <td>OMIM:620545</td>\n",
       "      <td>Arthrogryposis, distal, type 12</td>\n",
       "      <td>HP:0004209</td>\n",
       "      <td>Clinodactyly of the 5th finger</td>\n",
       "      <td></td>\n",
       "      <td></td>\n",
       "      <td>5/5</td>\n",
       "      <td></td>\n",
       "      <td></td>\n",
       "      <td></td>\n",
       "      <td></td>\n",
       "      <td>PMID:35962790</td>\n",
       "      <td>PCS</td>\n",
       "      <td>ORCID:0000-0002-0736-9199</td>\n",
       "    </tr>\n",
       "  </tbody>\n",
       "</table>\n",
       "</div>"
      ],
      "text/plain": [
       "    #diseaseID                      diseaseName phenotypeID  \\\n",
       "0  OMIM:620545  Arthrogryposis, distal, type 12  HP:0005879   \n",
       "1  OMIM:620545  Arthrogryposis, distal, type 12  HP:0001032   \n",
       "2  OMIM:620545  Arthrogryposis, distal, type 12  HP:0009130   \n",
       "3  OMIM:620545  Arthrogryposis, distal, type 12  HP:0009884   \n",
       "4  OMIM:620545  Arthrogryposis, distal, type 12  HP:0004209   \n",
       "\n",
       "                            phenotypeName onsetID onsetName frequency sex  \\\n",
       "0  Congenital finger flexion contractures                         5/5       \n",
       "1   Absent distal interphalangeal creases                         5/5       \n",
       "2                     Hand muscle atrophy                         5/5       \n",
       "3      Tapered distal phalanges of finger                         5/5       \n",
       "4          Clinodactyly of the 5th finger                         5/5       \n",
       "\n",
       "  negation modifier description    publication evidence  \\\n",
       "0                                PMID:35962790      PCS   \n",
       "1                                PMID:35962790      PCS   \n",
       "2                                PMID:35962790      PCS   \n",
       "3                                PMID:35962790      PCS   \n",
       "4                                PMID:35962790      PCS   \n",
       "\n",
       "                 biocuration  \n",
       "0  ORCID:0000-0002-0736-9199  \n",
       "1  ORCID:0000-0002-0736-9199  \n",
       "2  ORCID:0000-0002-0736-9199  \n",
       "3  ORCID:0000-0002-0736-9199  \n",
       "4  ORCID:0000-0002-0736-9199  "
      ]
     },
     "execution_count": 15,
     "metadata": {},
     "output_type": "execute_result"
    }
   ],
   "source": [
    "df = hpoa_table_creator.get_dataframe()\n",
    "df.head(5)"
   ]
  },
  {
   "cell_type": "code",
   "execution_count": 16,
   "id": "659b8617-7bb9-44f0-a1a7-02d7715a30a3",
   "metadata": {},
   "outputs": [
    {
     "name": "stdout",
     "output_type": "stream",
     "text": [
      "Wrote HPOA disease file to OMIM-620545.tab\n"
     ]
    }
   ],
   "source": [
    "hpoa_table_creator.write_data_frame()"
   ]
  },
  {
   "cell_type": "code",
   "execution_count": null,
   "id": "56d3ccb9-c92d-4775-85ac-08b5aa8acc4a",
   "metadata": {},
   "outputs": [],
   "source": []
  }
 ],
 "metadata": {
  "kernelspec": {
   "display_name": "Python 3 (ipykernel)",
   "language": "python",
   "name": "python3"
  },
  "language_info": {
   "codemirror_mode": {
    "name": "ipython",
    "version": 3
   },
   "file_extension": ".py",
   "mimetype": "text/x-python",
   "name": "python",
   "nbconvert_exporter": "python",
   "pygments_lexer": "ipython3",
   "version": "3.8.10"
  }
 },
 "nbformat": 4,
 "nbformat_minor": 5
}
