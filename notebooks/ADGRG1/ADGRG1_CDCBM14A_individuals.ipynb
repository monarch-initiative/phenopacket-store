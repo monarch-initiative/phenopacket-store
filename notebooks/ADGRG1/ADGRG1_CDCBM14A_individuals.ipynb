{
 "cells": [
  {
   "cell_type": "markdown",
   "metadata": {},
   "source": [
    "# ADGRG1\n",
    "[complex cortical dysplasia with other brain malformations-14A (CDCBM14A)](https://omim.org/entry/606854) is caused by homozygous or compound heterozygous mutation in the ADGRG1 gene."
   ]
  },
  {
   "cell_type": "code",
   "execution_count": 3,
   "metadata": {},
   "outputs": [
    {
     "name": "stdout",
     "output_type": "stream",
     "text": [
      "Using pyphetools version 0.9.91\n"
     ]
    }
   ],
   "source": [
    "from pyphetools.creation import TemplateImporter\n",
    "from pyphetools.visualization import IndividualTable, QcVisualizer\n",
    "from IPython.display import display, HTML\n",
    "import pyphetools\n",
    "print(f\"Using pyphetools version {pyphetools.__version__}\")"
   ]
  },
  {
   "cell_type": "code",
   "execution_count": 4,
   "metadata": {},
   "outputs": [],
   "source": [
    "template = \"input/ADGRG1_CDCBM14A_individuals.xlsx\"\n",
    "created_by = \"0000-0002-0736-9199\""
   ]
  },
  {
   "cell_type": "code",
   "execution_count": 8,
   "metadata": {},
   "outputs": [
    {
     "name": "stdout",
     "output_type": "stream",
     "text": [
      "HPO version 2024-04-26\n",
      "Created encoders for 43 fields\n",
      "Importing OMIM:606854, Cortical dysplasia, complex, with other brain malformations 14A, (bilateral frontoparietal), HGNC:4512, ADGRG1,  NM_201525.4\n",
      "We output 7 GA4GH phenopackets to the directory phenopackets\n"
     ]
    }
   ],
   "source": [
    "timporter = TemplateImporter(template=template,  created_by=created_by)\n",
    "individual_list, cvalidator = timporter.import_phenopackets_from_template()"
   ]
  },
  {
   "cell_type": "code",
   "execution_count": 9,
   "metadata": {},
   "outputs": [
    {
     "data": {
      "text/html": [
       "<h2>Cohort validation</h2>\n",
       "<p>No errors found for the cohort with 7 individuals</p>"
      ],
      "text/plain": [
       "<IPython.core.display.HTML object>"
      ]
     },
     "metadata": {},
     "output_type": "display_data"
    }
   ],
   "source": [
    "qc = QcVisualizer(cohort_validator=cvalidator)\n",
    "display(HTML(qc.to_summary_html()))"
   ]
  },
  {
   "cell_type": "code",
   "execution_count": 10,
   "metadata": {},
   "outputs": [
    {
     "data": {
      "text/html": [
       "<table style=\"border: 2px solid black; align: \"left\">\n",
       "<caption>7 phenopackets - PMID:29707406 (n=7)</caption>\n",
       "<tr><th style=\"text-align: left;font-weight: bold;\">Individual</th><th style=\"text-align: left;font-weight: bold;\">Disease</th><th style=\"text-align: left;font-weight: bold;\">Genotype</th><th style=\"text-align: left;font-weight: bold;\">Phenotypic features</th></tr>\n",
       "<tr><td style=\"text-align: left;\">A II-2 (MALE; P14Y)</td><td style=\"text-align: left;\">Cortical dysplasia, complex, with other brain malformations 14A, (bilateral frontoparietal) (OMIM:606854)</td><td style=\"text-align: left;\">NM_201525.4:c.1442T>C (homozygous)</td><td style=\"text-align: left;\">Bilateral tonic-clonic seizure (HP:0002069); Intellectual disability, profound (HP:0002187); Delayed speech and language development (HP:0000750); Ataxia (HP:0001251); Oromotor apraxia (HP:0007301); Frontal polymicrogyria (HP:0006821); Motor delay (HP:0001270); Abnormal pyramidal sign (HP:0007256)</td></tr>\n",
       "<tr><td style=\"text-align: left;\">A II-3 (MALE; P9Y)</td><td style=\"text-align: left;\">Cortical dysplasia, complex, with other brain malformations 14A, (bilateral frontoparietal) (OMIM:606854)</td><td style=\"text-align: left;\">NM_201525.4:c.1442T>C (homozygous)</td><td style=\"text-align: left;\">Bilateral tonic-clonic seizure (HP:0002069); Intellectual disability, profound (HP:0002187); Delayed speech and language development (HP:0000750); Ataxia (HP:0001251); Oromotor apraxia (HP:0007301); Motor delay (HP:0001270); Abnormal pyramidal sign (HP:0007256)</td></tr>\n",
       "<tr><td style=\"text-align: left;\">B III-2 (FEMALE; P12Y)</td><td style=\"text-align: left;\">Cortical dysplasia, complex, with other brain malformations 14A, (bilateral frontoparietal) (OMIM:606854)</td><td style=\"text-align: left;\">NM_201525.4:c.1408C>T (homozygous)</td><td style=\"text-align: left;\">Bilateral tonic-clonic seizure (HP:0002069); Ataxia (HP:0001251); Oromotor apraxia (HP:0007301); Motor delay (HP:0001270); Abnormal pyramidal sign (HP:0007256)</td></tr>\n",
       "<tr><td style=\"text-align: left;\">B III-6 (FEMALE; P21Y)</td><td style=\"text-align: left;\">Cortical dysplasia, complex, with other brain malformations 14A, (bilateral frontoparietal) (OMIM:606854)</td><td style=\"text-align: left;\">NM_201525.4:c.1408C>T (homozygous)</td><td style=\"text-align: left;\">Bilateral tonic-clonic seizure (HP:0002069); Ataxia (HP:0001251); Oromotor apraxia (HP:0007301); Motor delay (HP:0001270); Abnormal pyramidal sign (HP:0007256)</td></tr>\n",
       "<tr><td style=\"text-align: left;\">C II-4 (FEMALE; P23Y)</td><td style=\"text-align: left;\">Cortical dysplasia, complex, with other brain malformations 14A, (bilateral frontoparietal) (OMIM:606854)</td><td style=\"text-align: left;\">NM_201525.4:c.803_804insCCATGGAGGTGCT (homozygous)</td><td style=\"text-align: left;\">Bilateral tonic-clonic seizure (HP:0002069); Broad-based gait (HP:0002136); Ataxia (HP:0001251); Oromotor apraxia (HP:0007301); Motor delay (HP:0001270); Abnormal pyramidal sign (HP:0007256); Spasticity (HP:0001257); Nystagmus (HP:0000639)</td></tr>\n",
       "<tr><td style=\"text-align: left;\">C II-5 (MALE; P21Y)</td><td style=\"text-align: left;\">Cortical dysplasia, complex, with other brain malformations 14A, (bilateral frontoparietal) (OMIM:606854)</td><td style=\"text-align: left;\">NM_201525.4:c.803_804insCCATGGAGGTGCT (homozygous)</td><td style=\"text-align: left;\">Bilateral tonic-clonic seizure (HP:0002069); Broad-based gait (HP:0002136); Ataxia (HP:0001251); Oromotor apraxia (HP:0007301); Motor delay (HP:0001270); Abnormal pyramidal sign (HP:0007256); Spasticity (HP:0001257); Nystagmus (HP:0000639)</td></tr>\n",
       "<tr><td style=\"text-align: left;\">C II-6 (FEMALE; P19Y)</td><td style=\"text-align: left;\">Cortical dysplasia, complex, with other brain malformations 14A, (bilateral frontoparietal) (OMIM:606854)</td><td style=\"text-align: left;\">NM_201525.4:c.803_804insCCATGGAGGTGCT (homozygous)</td><td style=\"text-align: left;\">Bilateral tonic-clonic seizure (HP:0002069); Broad-based gait (HP:0002136); Ataxia (HP:0001251); Oromotor apraxia (HP:0007301); Motor delay (HP:0001270); Abnormal pyramidal sign (HP:0007256); Spasticity (HP:0001257); Nystagmus (HP:0000639)</td></tr>\n",
       "</table>"
      ],
      "text/plain": [
       "<IPython.core.display.HTML object>"
      ]
     },
     "metadata": {},
     "output_type": "display_data"
    }
   ],
   "source": [
    "table = IndividualTable(cvalidator.get_error_free_individual_list())\n",
    "display(HTML(table.to_html()))"
   ]
  },
  {
   "cell_type": "code",
   "execution_count": null,
   "metadata": {},
   "outputs": [],
   "source": []
  }
 ],
 "metadata": {
  "kernelspec": {
   "display_name": "ps24venv",
   "language": "python",
   "name": "python3"
  },
  "language_info": {
   "codemirror_mode": {
    "name": "ipython",
    "version": 3
   },
   "file_extension": ".py",
   "mimetype": "text/x-python",
   "name": "python",
   "nbconvert_exporter": "python",
   "pygments_lexer": "ipython3",
   "version": "3.9.6"
  }
 },
 "nbformat": 4,
 "nbformat_minor": 2
}
