{
 "cells": [
  {
   "cell_type": "markdown",
   "metadata": {},
   "source": [
    "# TFAP2\n",
    "[branchiooculofacial syndrome (BOFS)](https://omim.org/entry/113620)  is caused by heterozygous mutation in the TFAP2A gene"
   ]
  },
  {
   "cell_type": "code",
   "execution_count": 6,
   "metadata": {},
   "outputs": [
    {
     "name": "stdout",
     "output_type": "stream",
     "text": [
      "Using pyphetools version 0.9.78\n"
     ]
    }
   ],
   "source": [
    "from pyphetools.creation import TemplateImporter\n",
    "from pyphetools.visualization import IndividualTable, QcVisualizer\n",
    "from IPython.display import display, HTML\n",
    "import pyphetools\n",
    "print(f\"Using pyphetools version {pyphetools.__version__}\")"
   ]
  },
  {
   "cell_type": "code",
   "execution_count": 10,
   "metadata": {},
   "outputs": [],
   "source": [
    "template = \"input/TFAP2A_BOFS_individuals.xlsx\"\n",
    "hp_json = \"../hp.json\"\n",
    "created_by = \"0000-0002-0736-9199\""
   ]
  },
  {
   "cell_type": "code",
   "execution_count": 14,
   "metadata": {},
   "outputs": [
    {
     "name": "stdout",
     "output_type": "stream",
     "text": [
      "HPO version 2024-04-04\n",
      "Created encoders for 38 fields\n",
      "Importing OMIM:113620, Branchiooculofacial syndrome, HGNC:11742, TFAP2A,  NM_001372066.1\n",
      "[INFO] encoding variant \"c.769A>T\"\n",
      "https://rest.variantvalidator.org/VariantValidator/variantvalidator/hg38/NM_001372066.1%3Ac.769A>T/NM_001372066.1?content-type=application%2Fjson\n",
      "We output 7 GA4GH phenopackets to the directory phenopackets\n"
     ]
    }
   ],
   "source": [
    "del_set = {\"Del 6p24.3 region\"}\n",
    "timporter = TemplateImporter(template=template, hp_json=hp_json, created_by=created_by)\n",
    "individual_list, cvalidator = timporter.import_phenopackets_from_template(deletions=del_set)"
   ]
  },
  {
   "cell_type": "code",
   "execution_count": 5,
   "metadata": {},
   "outputs": [
    {
     "name": "stdout",
     "output_type": "stream",
     "text": [
      "[INFO] Add 48 HPO terms to template.\n",
      "Write excel pyphetools template file to OMIM_113620_individuals.xlsx\n"
     ]
    }
   ],
   "source": [
    "qc = QcVisualizer(cohort_validator=cvalidator)\n",
    "display(HTML(qc.to_summary_html()))"
   ]
  },
  {
   "cell_type": "code",
   "execution_count": 15,
   "metadata": {},
   "outputs": [
    {
     "data": {
      "text/html": [
       "<table style=\"border: 2px solid black; align: \"left\">\n",
       "<caption>7 phenopackets - PMID:18423521 (n=6); PMID:20461149 (n=1)</caption>\n",
       "<tr><th style=\"text-align: left;font-weight: bold;\">Individual</th><th style=\"text-align: left;font-weight: bold;\">Disease</th><th style=\"text-align: left;font-weight: bold;\">Genotype</th><th style=\"text-align: left;font-weight: bold;\">Phenotypic features</th></tr>\n",
       "<tr><td style=\"text-align: left;\">Patient 1a (FEMALE; P25Y)</td><td style=\"text-align: left;\">Branchiooculofacial syndrome (OMIM:113620)</td><td style=\"text-align: left;\">Del 6p24.3 region: chromosomal_deletion (SO:1000029)</td><td style=\"text-align: left;\">Branchial anomaly (HP:0009794); Broad nasal tip (HP:0000455); Upslanted palpebral fissure (HP:0000582); Dolichocephaly (HP:0000268); Premature graying of hair (HP:0002216); excluded: Cleft lip (HP:0410030); excluded: Cleft palate (HP:0000175); excluded: Dimple chin (HP:0010751); excluded: Cleft of chin (HP:0011323); excluded: Preauricular pit (HP:0004467); excluded: Nasolacrimal duct obstruction (HP:0000579); excluded: Iris coloboma (HP:0000612); excluded: Retinal coloboma (HP:0000480); excluded: Microphthalmia (HP:0000568); excluded: Conductive hearing impairment (HP:0000405); excluded: Postnatal growth retardation (HP:0008897); excluded: Intrauterine growth retardation (HP:0001511)</td></tr>\n",
       "<tr><td style=\"text-align: left;\">Patient 1b (MALE; P1Y)</td><td style=\"text-align: left;\">Branchiooculofacial syndrome (OMIM:113620)</td><td style=\"text-align: left;\">Del 6p24.3 region: chromosomal_deletion (SO:1000029)</td><td style=\"text-align: left;\">Iris coloboma (HP:0000612); Retinal coloboma (HP:0000480); Branchial anomaly (HP:0009794); Broad nasal tip (HP:0000455); Upslanted palpebral fissure (HP:0000582); Dolichocephaly (HP:0000268); Microphthalmia (HP:0000568); Conductive hearing impairment (HP:0000405); excluded: Cleft lip (HP:0410030); excluded: Cleft palate (HP:0000175); excluded: Dimple chin (HP:0010751); excluded: Cleft of chin (HP:0011323); excluded: Preauricular pit (HP:0004467); excluded: Nasolacrimal duct obstruction (HP:0000579); excluded: Premature graying of hair (HP:0002216); excluded: Postnatal growth retardation (HP:0008897); excluded: Intrauterine growth retardation (HP:0001511)</td></tr>\n",
       "<tr><td style=\"text-align: left;\">Patient 2 (FEMALE; P18Y)</td><td style=\"text-align: left;\">Branchiooculofacial syndrome (OMIM:113620)</td><td style=\"text-align: left;\">NM_001372066.1:c.769A>G (heterozygous)</td><td style=\"text-align: left;\">Iris coloboma (HP:0000612); Branchial anomaly (HP:0009794); Broad nasal tip (HP:0000455); Upslanted palpebral fissure (HP:0000582); Dolichocephaly (HP:0000268); Cleft lip (HP:0410030); Cleft palate (HP:0000175); Dimple chin (HP:0010751); Nasolacrimal duct obstruction (HP:0000579); Microphthalmia (HP:0000568); Conductive hearing impairment (HP:0000405); Postnatal growth retardation (HP:0008897); Intrauterine growth retardation (HP:0001511); excluded: Cleft of chin (HP:0011323); excluded: Preauricular pit (HP:0004467); excluded: Retinal coloboma (HP:0000480); excluded: Premature graying of hair (HP:0002216)</td></tr>\n",
       "<tr><td style=\"text-align: left;\">Patient 3 (MALE; P2Y)</td><td style=\"text-align: left;\">Branchiooculofacial syndrome (OMIM:113620)</td><td style=\"text-align: left;\">NM_001372066.1:c.752T>C (heterozygous)</td><td style=\"text-align: left;\">Branchial anomaly (HP:0009794); Broad nasal tip (HP:0000455); Upslanted palpebral fissure (HP:0000582); Dolichocephaly (HP:0000268); Cleft lip (HP:0410030); Dimple chin (HP:0010751); Preauricular pit (HP:0004467); Nasolacrimal duct obstruction (HP:0000579); Conductive hearing impairment (HP:0000405); excluded: Cleft palate (HP:0000175); excluded: Cleft of chin (HP:0011323); excluded: Iris coloboma (HP:0000612); excluded: Retinal coloboma (HP:0000480); excluded: Microphthalmia (HP:0000568); excluded: Premature graying of hair (HP:0002216); excluded: Postnatal growth retardation (HP:0008897); excluded: Intrauterine growth retardation (HP:0001511)</td></tr>\n",
       "<tr><td style=\"text-align: left;\">Patient 4 (MALE; P14Y)</td><td style=\"text-align: left;\">Branchiooculofacial syndrome (OMIM:113620)</td><td style=\"text-align: left;\">NM_001372066.1:c.767G>A (heterozygous)</td><td style=\"text-align: left;\">Iris coloboma (HP:0000612); Branchial anomaly (HP:0009794); Broad nasal tip (HP:0000455); Upslanted palpebral fissure (HP:0000582); Dolichocephaly (HP:0000268); Cleft lip (HP:0410030); Preauricular pit (HP:0004467); Nasolacrimal duct obstruction (HP:0000579); Microphthalmia (HP:0000568); Premature graying of hair (HP:0002216); Conductive hearing impairment (HP:0000405); Intrauterine growth retardation (HP:0001511); excluded: Cleft palate (HP:0000175); excluded: Dimple chin (HP:0010751); excluded: Cleft of chin (HP:0011323); excluded: Retinal coloboma (HP:0000480); excluded: Postnatal growth retardation (HP:0008897)</td></tr>\n",
       "<tr><td style=\"text-align: left;\">Patient 5 (FEMALE; P17Y)</td><td style=\"text-align: left;\">Branchiooculofacial syndrome (OMIM:113620)</td><td style=\"text-align: left;\">NM_001372066.1:c.791G>A (heterozygous)</td><td style=\"text-align: left;\">Iris coloboma (HP:0000612); Retinal coloboma (HP:0000480); Branchial anomaly (HP:0009794); Broad nasal tip (HP:0000455); Upslanted palpebral fissure (HP:0000582); Dolichocephaly (HP:0000268); Cleft lip (HP:0410030); Cleft of chin (HP:0011323); Preauricular pit (HP:0004467); Microphthalmia (HP:0000568); Conductive hearing impairment (HP:0000405); Postnatal growth retardation (HP:0008897); Intrauterine growth retardation (HP:0001511); excluded: Cleft palate (HP:0000175); excluded: Dimple chin (HP:0010751); excluded: Nasolacrimal duct obstruction (HP:0000579); excluded: Premature graying of hair (HP:0002216)</td></tr>\n",
       "<tr><td style=\"text-align: left;\">index (FEMALE; P10Y)</td><td style=\"text-align: left;\">Branchiooculofacial syndrome (OMIM:113620)</td><td style=\"text-align: left;\">NM_001372066.1:c.769A>T (heterozygous)</td><td style=\"text-align: left;\">Nasolacrimal duct obstruction (HP:0000579); Iris coloboma (HP:0000612); Retinal coloboma (HP:0000480); Cataract (HP:0000518); Microphthalmia (HP:0000568); Aplasia cutis congenita (HP:0001057); Median pseudocleft lip (HP:0034185); Ultra-low vision with no light perception (HP:0032287); Conductive hearing impairment (HP:0000405); excluded: Cleft palate (HP:0000175); excluded: Dimple chin (HP:0010751); excluded: Cleft of chin (HP:0011323)</td></tr>\n",
       "</table>"
      ],
      "text/plain": [
       "<IPython.core.display.HTML object>"
      ]
     },
     "metadata": {},
     "output_type": "display_data"
    }
   ],
   "source": [
    "table = IndividualTable(cvalidator.get_error_free_individual_list())\n",
    "display(HTML(table.to_html()))"
   ]
  }
 ],
 "metadata": {
  "kernelspec": {
   "display_name": "ps24venv",
   "language": "python",
   "name": "python3"
  },
  "language_info": {
   "codemirror_mode": {
    "name": "ipython",
    "version": 3
   },
   "file_extension": ".py",
   "mimetype": "text/x-python",
   "name": "python",
   "nbconvert_exporter": "python",
   "pygments_lexer": "ipython3",
   "version": "3.9.6"
  }
 },
 "nbformat": 4,
 "nbformat_minor": 2
}
