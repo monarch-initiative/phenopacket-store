{
 "cells": [
  {
   "cell_type": "markdown",
   "id": "956162ad-386f-4f0a-bffd-f86f33f1cc3b",
   "metadata": {},
   "source": [
    "# Thrombocytopenia 8, with dysmorphic features and developmental delay \t\n",
    "\n",
    "Variants in exons exons 5 and 6 of ACTB are associated with [Thrombocytopenia 8, with dysmorphic features and developmental delay](https://omim.org/entry/620475)"
   ]
  },
  {
   "cell_type": "code",
   "execution_count": 1,
   "id": "c1b5eeeb-4ee1-4fc9-ba94-0371d2a8f504",
   "metadata": {},
   "outputs": [
    {
     "name": "stdout",
     "output_type": "stream",
     "text": [
      "Using pyphetools version 0.9.56\n"
     ]
    }
   ],
   "source": [
    "import pandas as pd\n",
    "from IPython.display import display, HTML\n",
    "pd.set_option('display.max_colwidth', None) # show entire column contents, important!\n",
    "from collections import defaultdict\n",
    "from pyphetools.creation import *\n",
    "from pyphetools.visualization import *\n",
    "from pyphetools.validation import *\n",
    "import pyphetools\n",
    "print(f\"Using pyphetools version {pyphetools.__version__}\")"
   ]
  },
  {
   "cell_type": "code",
   "execution_count": 2,
   "id": "bb9a3b07-583b-4226-bc24-6a028bd5d06b",
   "metadata": {},
   "outputs": [
    {
     "name": "stdout",
     "output_type": "stream",
     "text": [
      "HPO version 2024-02-27\n"
     ]
    }
   ],
   "source": [
    "parser = HpoParser(hpo_json_file=\"../hp.json\")\n",
    "hpo_cr = parser.get_hpo_concept_recognizer()\n",
    "hpo_version = parser.get_version()\n",
    "hpo_ontology = parser.get_ontology()\n",
    "created_by=\"ORCID:0000-0002-0736-9199\"\n",
    "print(f\"HPO version {hpo_version}\")"
   ]
  },
  {
   "cell_type": "code",
   "execution_count": 3,
   "id": "20787325-1e43-4da0-9346-5fb6745cceeb",
   "metadata": {},
   "outputs": [
    {
     "data": {
      "text/html": [
       "<div>\n",
       "<style scoped>\n",
       "    .dataframe tbody tr th:only-of-type {\n",
       "        vertical-align: middle;\n",
       "    }\n",
       "\n",
       "    .dataframe tbody tr th {\n",
       "        vertical-align: top;\n",
       "    }\n",
       "\n",
       "    .dataframe thead th {\n",
       "        text-align: right;\n",
       "    }\n",
       "</style>\n",
       "<table border=\"1\" class=\"dataframe\">\n",
       "  <thead>\n",
       "    <tr style=\"text-align: right;\">\n",
       "      <th></th>\n",
       "      <th>PMID</th>\n",
       "      <th>title</th>\n",
       "      <th>individual_id</th>\n",
       "      <th>comment</th>\n",
       "      <th>disease_id</th>\n",
       "      <th>disease_label</th>\n",
       "      <th>transcript</th>\n",
       "      <th>allele_1</th>\n",
       "      <th>allele_2</th>\n",
       "      <th>variant.comment</th>\n",
       "      <th>...</th>\n",
       "      <th>Seizure</th>\n",
       "      <th>Lower limb spasticity</th>\n",
       "      <th>Polyhydramnios</th>\n",
       "      <th>Ventricular arrhythmia</th>\n",
       "      <th>Prominent metopic ridge</th>\n",
       "      <th>Midface retrusion</th>\n",
       "      <th>Posteriorly rotated ears</th>\n",
       "      <th>Umbilical hernia</th>\n",
       "      <th>Overlapping toe</th>\n",
       "      <th>Gray matter heterotopia</th>\n",
       "    </tr>\n",
       "  </thead>\n",
       "  <tbody>\n",
       "    <tr>\n",
       "      <th>0</th>\n",
       "      <td>str</td>\n",
       "      <td>str</td>\n",
       "      <td>str</td>\n",
       "      <td>optional str</td>\n",
       "      <td>str</td>\n",
       "      <td>str</td>\n",
       "      <td>str</td>\n",
       "      <td>str</td>\n",
       "      <td>str</td>\n",
       "      <td>optional str</td>\n",
       "      <td>...</td>\n",
       "      <td>HP:0001250</td>\n",
       "      <td>HP:0002061</td>\n",
       "      <td>HP:0001561</td>\n",
       "      <td>HP:0004308</td>\n",
       "      <td>HP:0005487</td>\n",
       "      <td>HP:0011800</td>\n",
       "      <td>HP:0000358</td>\n",
       "      <td>HP:0001537</td>\n",
       "      <td>HP:0001845</td>\n",
       "      <td>HP:0002282</td>\n",
       "    </tr>\n",
       "    <tr>\n",
       "      <th>1</th>\n",
       "      <td>PMID:30315159</td>\n",
       "      <td>Variants in exons 5 and 6 of ACTB cause syndromic thrombocytopenia</td>\n",
       "      <td>Patient 1</td>\n",
       "      <td>NaN</td>\n",
       "      <td>OMIM:620475</td>\n",
       "      <td>Thrombocytopenia 8, with dysmorphic features and developmental delay</td>\n",
       "      <td>NM_001101.5</td>\n",
       "      <td>c.938T&gt;G</td>\n",
       "      <td>na</td>\n",
       "      <td>p.​(Met313Arg)</td>\n",
       "      <td>...</td>\n",
       "      <td>excluded</td>\n",
       "      <td>excluded</td>\n",
       "      <td>na</td>\n",
       "      <td>na</td>\n",
       "      <td>na</td>\n",
       "      <td>excluded</td>\n",
       "      <td>excluded</td>\n",
       "      <td>excluded</td>\n",
       "      <td>excluded</td>\n",
       "      <td>na</td>\n",
       "    </tr>\n",
       "  </tbody>\n",
       "</table>\n",
       "<p>2 rows × 49 columns</p>\n",
       "</div>"
      ],
      "text/plain": [
       "            PMID  \\\n",
       "0            str   \n",
       "1  PMID:30315159   \n",
       "\n",
       "                                                                title  \\\n",
       "0                                                                 str   \n",
       "1  Variants in exons 5 and 6 of ACTB cause syndromic thrombocytopenia   \n",
       "\n",
       "  individual_id       comment   disease_id  \\\n",
       "0           str  optional str          str   \n",
       "1     Patient 1           NaN  OMIM:620475   \n",
       "\n",
       "                                                          disease_label  \\\n",
       "0                                                                   str   \n",
       "1  Thrombocytopenia 8, with dysmorphic features and developmental delay   \n",
       "\n",
       "    transcript  allele_1 allele_2 variant.comment  ...     Seizure  \\\n",
       "0          str       str      str    optional str  ...  HP:0001250   \n",
       "1  NM_001101.5  c.938T>G       na  p.​(Met313Arg)  ...    excluded   \n",
       "\n",
       "  Lower limb spasticity Polyhydramnios Ventricular arrhythmia  \\\n",
       "0            HP:0002061     HP:0001561             HP:0004308   \n",
       "1              excluded             na                     na   \n",
       "\n",
       "  Prominent metopic ridge Midface retrusion Posteriorly rotated ears  \\\n",
       "0              HP:0005487        HP:0011800               HP:0000358   \n",
       "1                      na          excluded                 excluded   \n",
       "\n",
       "  Umbilical hernia Overlapping toe Gray matter heterotopia  \n",
       "0       HP:0001537      HP:0001845              HP:0002282  \n",
       "1         excluded        excluded                      na  \n",
       "\n",
       "[2 rows x 49 columns]"
      ]
     },
     "execution_count": 3,
     "metadata": {},
     "output_type": "execute_result"
    }
   ],
   "source": [
    "df = pd.read_excel(\"input/ACTB_AST_individuals.xlsx\")\n",
    "df.head(2)"
   ]
  },
  {
   "cell_type": "code",
   "execution_count": 4,
   "id": "56e58b18-a3fc-4f6b-938e-bcd33141bbb9",
   "metadata": {},
   "outputs": [
    {
     "name": "stdout",
     "output_type": "stream",
     "text": [
      "Created encoders for 49 fields\n"
     ]
    }
   ],
   "source": [
    "encoder = CaseTemplateEncoder(df=df, hpo_cr=hpo_cr, created_by=created_by)\n",
    "individuals = encoder.get_individuals()"
   ]
  },
  {
   "cell_type": "code",
   "execution_count": 5,
   "id": "7bac1bb9-bb88-48ba-b4f9-91d026a41df3",
   "metadata": {},
   "outputs": [],
   "source": [
    "ACTB_transcript = \"NM_001101.5\"\n",
    "vmanager = VariantManager(df=df,\n",
    "                          individual_column_name=\"individual_id\",\n",
    "                          gene_symbol=\"ACTB\",\n",
    "                          transcript=ACTB_transcript,\n",
    "                          allele_1_column_name=\"allele_1\")"
   ]
  },
  {
   "cell_type": "code",
   "execution_count": 6,
   "id": "5519e7a2-1dc8-42fd-a4f1-24fdf74d8605",
   "metadata": {},
   "outputs": [
    {
     "data": {
      "text/html": [
       "<div>\n",
       "<style scoped>\n",
       "    .dataframe tbody tr th:only-of-type {\n",
       "        vertical-align: middle;\n",
       "    }\n",
       "\n",
       "    .dataframe tbody tr th {\n",
       "        vertical-align: top;\n",
       "    }\n",
       "\n",
       "    .dataframe thead th {\n",
       "        text-align: right;\n",
       "    }\n",
       "</style>\n",
       "<table border=\"1\" class=\"dataframe\">\n",
       "  <thead>\n",
       "    <tr style=\"text-align: right;\">\n",
       "      <th></th>\n",
       "      <th>status</th>\n",
       "      <th>count</th>\n",
       "      <th>alleles</th>\n",
       "    </tr>\n",
       "  </thead>\n",
       "  <tbody>\n",
       "    <tr>\n",
       "      <th>0</th>\n",
       "      <td>mapped</td>\n",
       "      <td>6</td>\n",
       "      <td>c.1101dup, c.1090G&gt;A, c.208C&gt;G, c.1012_1023del, c.992_1008del, c.938T&gt;G</td>\n",
       "    </tr>\n",
       "    <tr>\n",
       "      <th>1</th>\n",
       "      <td>unmapped</td>\n",
       "      <td>0</td>\n",
       "      <td></td>\n",
       "    </tr>\n",
       "  </tbody>\n",
       "</table>\n",
       "</div>"
      ],
      "text/plain": [
       "     status  count  \\\n",
       "0    mapped      6   \n",
       "1  unmapped      0   \n",
       "\n",
       "                                                                   alleles  \n",
       "0  c.1101dup, c.1090G>A, c.208C>G, c.1012_1023del, c.992_1008del, c.938T>G  \n",
       "1                                                                           "
      ]
     },
     "execution_count": 6,
     "metadata": {},
     "output_type": "execute_result"
    }
   ],
   "source": [
    "vmanager.to_summary()"
   ]
  },
  {
   "cell_type": "code",
   "execution_count": 7,
   "id": "7e0289ae-ae2f-41d4-9529-0dd638b272b7",
   "metadata": {},
   "outputs": [],
   "source": [
    "vmanager.add_variants_to_individuals(individuals)"
   ]
  },
  {
   "cell_type": "code",
   "execution_count": 8,
   "id": "2336eb34-49a2-443f-b52a-316807f61a03",
   "metadata": {},
   "outputs": [
    {
     "data": {
      "text/html": [
       "<h2>Cohort validation</h2>\n",
       "<p>No errors found for the cohort with 8 individuals</p>"
      ],
      "text/plain": [
       "<IPython.core.display.HTML object>"
      ]
     },
     "metadata": {},
     "output_type": "display_data"
    }
   ],
   "source": [
    "cvalidator = CohortValidator(cohort=individuals, ontology=hpo_ontology, min_hpo=1,\n",
    "                                allelic_requirement=AllelicRequirement.MONO_ALLELIC)\n",
    "qc = QcVisualizer(cohort_validator=cvalidator)\n",
    "display(HTML(qc.to_summary_html()))"
   ]
  },
  {
   "cell_type": "code",
   "execution_count": 9,
   "id": "bf5c4db5-de07-49aa-9bca-5b5f8e1977df",
   "metadata": {},
   "outputs": [
    {
     "data": {
      "text/html": [
       "<table style=\"border: 2px solid black; align: \"left\">\n",
       "<caption>8 phenopackets - PMID:30315159 (n=7); PMID:30733661 (n=1)</caption>\n",
       "<tr><th style=\"text-align: left;font-weight: bold;\">Individual</th><th style=\"text-align: left;font-weight: bold;\">Disease</th><th style=\"text-align: left;font-weight: bold;\">Genotype</th><th style=\"text-align: left;font-weight: bold;\">Phenotypic features</th></tr>\n",
       "<tr><td style=\"text-align: left;\">Patient 1 (MALE; P4Y4M)</td><td style=\"text-align: left;\">Thrombocytopenia 8, with dysmorphic features and developmental delay (OMIM:620475)</td><td style=\"text-align: left;\">NM_001101.5:c.938T>G (heterozygous)</td><td style=\"text-align: left;\">Broad eyebrow (HP:0011229); Horizontal eyebrow (HP:0011228); Epicanthus (HP:0000286); Long eyelashes (HP:0000527); Deeply set eye (HP:0000490); Wide nasal bridge (HP:0000431); Broad nasal tip (HP:0000455); High palate (HP:0000218); Pointed chin (HP:0000307); Patent ductus arteriosus (HP:0001643); Thrombocytopenia (HP:0001873); Platelet anisocytosis (HP:0032438); Increased mean platelet volume (HP:0011877); Mild global developmental delay (HP:0011342); excluded: Synophrys (HP:0000664); excluded: Telecanthus (HP:0000506); excluded: Upslanted palpebral fissure (HP:0000582); excluded: Thin upper lip vermilion (HP:0000219); excluded: Bulbous nose (HP:0000414); excluded: Wide mouth (HP:0000154); excluded: Mandibular prognathia (HP:0000303); excluded: Overfolded helix (HP:0000396); excluded: Microtia (HP:0008551); excluded: Hearing impairment (HP:0000365); excluded: Anti-platelet antigen antibody positivity (HP:4000170); excluded: Seizure (HP:0001250); excluded: Lower limb spasticity (HP:0002061); excluded: Midface retrusion (HP:0011800); excluded: Posteriorly rotated ears (HP:0000358); excluded: Umbilical hernia (HP:0001537); excluded: Overlapping toe (HP:0001845)</td></tr>\n",
       "<tr><td style=\"text-align: left;\">Patient 2 (Father of Patient 1)  (MALE; P35Y)</td><td style=\"text-align: left;\">Thrombocytopenia 8, with dysmorphic features and developmental delay (OMIM:620475)</td><td style=\"text-align: left;\">NM_001101.5:c.938T>G (heterozygous)</td><td style=\"text-align: left;\">Broad eyebrow (HP:0011229); Horizontal eyebrow (HP:0011228); Wide nasal bridge (HP:0000431); Broad nasal tip (HP:0000455); Synophrys (HP:0000664); Thrombocytopenia (HP:0001873); excluded: Epicanthus (HP:0000286); excluded: Long eyelashes (HP:0000527); excluded: Deeply set eye (HP:0000490); excluded: High palate (HP:0000218); excluded: Pointed chin (HP:0000307); excluded: Telecanthus (HP:0000506); excluded: Upslanted palpebral fissure (HP:0000582); excluded: Thin upper lip vermilion (HP:0000219); excluded: Bulbous nose (HP:0000414); excluded: Wide mouth (HP:0000154); excluded: Mandibular prognathia (HP:0000303); excluded: Overfolded helix (HP:0000396); excluded: Microtia (HP:0008551); excluded: Hearing impairment (HP:0000365); excluded: Patent ductus arteriosus (HP:0001643); excluded: Mild global developmental delay (HP:0011342); excluded: Seizure (HP:0001250); excluded: Lower limb spasticity (HP:0002061); excluded: Midface retrusion (HP:0011800); excluded: Posteriorly rotated ears (HP:0000358); excluded: Umbilical hernia (HP:0001537); excluded: Overlapping toe (HP:0001845)</td></tr>\n",
       "<tr><td style=\"text-align: left;\">Patient 3 (MALE; P5Y6M)</td><td style=\"text-align: left;\">Thrombocytopenia 8, with dysmorphic features and developmental delay (OMIM:620475)</td><td style=\"text-align: left;\">NM_001101.5:c.992_1008del (heterozygous)</td><td style=\"text-align: left;\">Broad eyebrow (HP:0011229); Epicanthus (HP:0000286); Broad nasal tip (HP:0000455); Telecanthus (HP:0000506); Upslanted palpebral fissure (HP:0000582); Thin upper lip vermilion (HP:0000219); Thrombocytopenia (HP:0001873); Platelet anisocytosis (HP:0032438); Increased mean platelet volume (HP:0011877); Mild global developmental delay (HP:0011342); excluded: Horizontal eyebrow (HP:0011228); excluded: Long eyelashes (HP:0000527); excluded: Deeply set eye (HP:0000490); excluded: Wide nasal bridge (HP:0000431); excluded: High palate (HP:0000218); excluded: Pointed chin (HP:0000307); excluded: Synophrys (HP:0000664); excluded: Bulbous nose (HP:0000414); excluded: Wide mouth (HP:0000154); excluded: Mandibular prognathia (HP:0000303); excluded: Overfolded helix (HP:0000396); excluded: Microtia (HP:0008551); excluded: Hearing impairment (HP:0000365); excluded: Patent ductus arteriosus (HP:0001643); excluded: Seizure (HP:0001250); excluded: Lower limb spasticity (HP:0002061); excluded: Midface retrusion (HP:0011800); excluded: Posteriorly rotated ears (HP:0000358); excluded: Umbilical hernia (HP:0001537); excluded: Overlapping toe (HP:0001845)</td></tr>\n",
       "<tr><td style=\"text-align: left;\">Patient 4 (Mother of Patient 3)  (FEMALE; P31Y)</td><td style=\"text-align: left;\">Thrombocytopenia 8, with dysmorphic features and developmental delay (OMIM:620475)</td><td style=\"text-align: left;\">NM_001101.5:c.992_1008del (heterozygous)</td><td style=\"text-align: left;\">Broad eyebrow (HP:0011229); Horizontal eyebrow (HP:0011228); Deeply set eye (HP:0000490); Synophrys (HP:0000664); Telecanthus (HP:0000506); Upslanted palpebral fissure (HP:0000582); Thin upper lip vermilion (HP:0000219); Bulbous nose (HP:0000414); Wide mouth (HP:0000154); Mandibular prognathia (HP:0000303); Thrombocytopenia (HP:0001873); Platelet anisocytosis (HP:0032438); Increased mean platelet volume (HP:0011877); Mild global developmental delay (HP:0011342); excluded: Epicanthus (HP:0000286); excluded: Long eyelashes (HP:0000527); excluded: Wide nasal bridge (HP:0000431); excluded: Broad nasal tip (HP:0000455); excluded: High palate (HP:0000218); excluded: Pointed chin (HP:0000307); excluded: Overfolded helix (HP:0000396); excluded: Microtia (HP:0008551); excluded: Hearing impairment (HP:0000365); excluded: Patent ductus arteriosus (HP:0001643); excluded: Seizure (HP:0001250); excluded: Lower limb spasticity (HP:0002061); excluded: Midface retrusion (HP:0011800); excluded: Posteriorly rotated ears (HP:0000358); excluded: Umbilical hernia (HP:0001537); excluded: Overlapping toe (HP:0001845)</td></tr>\n",
       "<tr><td style=\"text-align: left;\">Patient 5 (MALE; P4Y10M)</td><td style=\"text-align: left;\">Thrombocytopenia 8, with dysmorphic features and developmental delay (OMIM:620475)</td><td style=\"text-align: left;\">NM_001101.5:c.1012_1023del (heterozygous)</td><td style=\"text-align: left;\">Horizontal eyebrow (HP:0011228); Epicanthus (HP:0000286); Broad nasal tip (HP:0000455); Thin upper lip vermilion (HP:0000219); Thrombocytopenia (HP:0001873); Platelet anisocytosis (HP:0032438); Increased mean platelet volume (HP:0011877); Mild global developmental delay (HP:0011342); excluded: Broad eyebrow (HP:0011229); excluded: Long eyelashes (HP:0000527); excluded: Deeply set eye (HP:0000490); excluded: Wide nasal bridge (HP:0000431); excluded: High palate (HP:0000218); excluded: Pointed chin (HP:0000307); excluded: Synophrys (HP:0000664); excluded: Telecanthus (HP:0000506); excluded: Upslanted palpebral fissure (HP:0000582); excluded: Bulbous nose (HP:0000414); excluded: Wide mouth (HP:0000154); excluded: Mandibular prognathia (HP:0000303); excluded: Overfolded helix (HP:0000396); excluded: Microtia (HP:0008551); excluded: Hearing impairment (HP:0000365); excluded: Patent ductus arteriosus (HP:0001643); excluded: Anti-platelet antigen antibody positivity (HP:4000170); excluded: Seizure (HP:0001250); excluded: Lower limb spasticity (HP:0002061); excluded: Midface retrusion (HP:0011800); excluded: Posteriorly rotated ears (HP:0000358); excluded: Umbilical hernia (HP:0001537); excluded: Overlapping toe (HP:0001845)</td></tr>\n",
       "<tr><td style=\"text-align: left;\">Patient N  (FEMALE; P12Y)</td><td style=\"text-align: left;\">Thrombocytopenia 8, with dysmorphic features and developmental delay (OMIM:620475)</td><td style=\"text-align: left;\">NM_001101.5:c.1090G>A (heterozygous)</td><td style=\"text-align: left;\">Thrombocytopenia (HP:0001873); Mild global developmental delay (HP:0011342); excluded: Hearing impairment (HP:0000365); excluded: Patent ductus arteriosus (HP:0001643); excluded: Seizure (HP:0001250); excluded: Lower limb spasticity (HP:0002061); excluded: Midface retrusion (HP:0011800); excluded: Posteriorly rotated ears (HP:0000358); excluded: Umbilical hernia (HP:0001537); excluded: Overlapping toe (HP:0001845)</td></tr>\n",
       "<tr><td style=\"text-align: left;\">Patient 6  (FEMALE; P5Y7M)</td><td style=\"text-align: left;\">Thrombocytopenia 8, with dysmorphic features and developmental delay (OMIM:620475)</td><td style=\"text-align: left;\">NM_001101.5:c.1101dup (heterozygous)</td><td style=\"text-align: left;\">Horizontal eyebrow (HP:0011228); Epicanthus (HP:0000286); Broad nasal tip (HP:0000455); Synophrys (HP:0000664); Telecanthus (HP:0000506); Thin upper lip vermilion (HP:0000219); Overfolded helix (HP:0000396); Microtia (HP:0008551); Hearing impairment (HP:0000365); Thrombocytopenia (HP:0001873); Increased mean platelet volume (HP:0011877); Mild global developmental delay (HP:0011342); excluded: Broad eyebrow (HP:0011229); excluded: Long eyelashes (HP:0000527); excluded: Deeply set eye (HP:0000490); excluded: Wide nasal bridge (HP:0000431); excluded: High palate (HP:0000218); excluded: Pointed chin (HP:0000307); excluded: Upslanted palpebral fissure (HP:0000582); excluded: Bulbous nose (HP:0000414); excluded: Wide mouth (HP:0000154); excluded: Mandibular prognathia (HP:0000303); excluded: Patent ductus arteriosus (HP:0001643); excluded: Seizure (HP:0001250); excluded: Lower limb spasticity (HP:0002061); excluded: Midface retrusion (HP:0011800); excluded: Posteriorly rotated ears (HP:0000358); excluded: Umbilical hernia (HP:0001537); excluded: Overlapping toe (HP:0001845)</td></tr>\n",
       "<tr><td style=\"text-align: left;\">4-year-old girl (FEMALE; P4Y)</td><td style=\"text-align: left;\">Thrombocytopenia 8, with dysmorphic features and developmental delay (OMIM:620475)</td><td style=\"text-align: left;\">NM_001101.5:c.208C>G (heterozygous)</td><td style=\"text-align: left;\">Polyhydramnios (HP:0001561); Ventricular arrhythmia (HP:0004308); Deeply set eye (HP:0000490); Wide nasal bridge (HP:0000431); Telecanthus (HP:0000506); Prominent metopic ridge (HP:0005487); Midface retrusion (HP:0011800); Posteriorly rotated ears (HP:0000358); Umbilical hernia (HP:0001537); Overlapping toe (HP:0001845); Gray matter heterotopia (HP:0002282)</td></tr>\n",
       "</table>"
      ],
      "text/plain": [
       "<IPython.core.display.HTML object>"
      ]
     },
     "metadata": {},
     "output_type": "display_data"
    }
   ],
   "source": [
    "individuals = cvalidator.get_error_free_individual_list()\n",
    "table = IndividualTable(individuals)\n",
    "display(HTML(table.to_html()))"
   ]
  },
  {
   "cell_type": "code",
   "execution_count": 10,
   "id": "90d5b2b8-51d5-4c90-ae51-731aa2f3032d",
   "metadata": {},
   "outputs": [
    {
     "name": "stdout",
     "output_type": "stream",
     "text": [
      "We output 8 GA4GH phenopackets to the directory phenopackets\n"
     ]
    }
   ],
   "source": [
    "encoder.output_individuals_as_phenopackets(individual_list=individuals)"
   ]
  },
  {
   "cell_type": "markdown",
   "id": "ce76e0ad-ddb8-4c86-a396-6c1aef976e5b",
   "metadata": {},
   "source": [
    "# HPOA file"
   ]
  },
  {
   "cell_type": "code",
   "execution_count": 11,
   "id": "03dedaa9-9ae3-4afc-af5f-a4fdc54958e5",
   "metadata": {},
   "outputs": [
    {
     "name": "stdout",
     "output_type": "stream",
     "text": [
      "[pyphetools] Ingested 8 GA4GH phenopackets.\n"
     ]
    }
   ],
   "source": [
    "ingestor = PhenopacketIngestor(indir=\"phenopackets\")\n",
    "ppkt_d = ingestor.get_phenopacket_dictionary()\n",
    "ppkt_list = list(ppkt_d.values())"
   ]
  },
  {
   "cell_type": "code",
   "execution_count": 12,
   "id": "823a44f7-1aae-44c7-8f04-32c81886d5d9",
   "metadata": {},
   "outputs": [
    {
     "name": "stdout",
     "output_type": "stream",
     "text": [
      "We found a total of 35 unique HPO terms\n",
      "Extracted disease: Thrombocytopenia 8, with dysmorphic features and developmental delay (OMIM:620475)\n"
     ]
    }
   ],
   "source": [
    "PMID = \"PMID:30315159\"\n",
    "builder = HpoaTableBuilder(phenopacket_list=ppkt_list)\n",
    "hpoa_table_creator = builder.autosomal_dominant(PMID).build()"
   ]
  },
  {
   "cell_type": "code",
   "execution_count": 13,
   "id": "78f5877a-1d1f-441c-89de-b47c985c88a2",
   "metadata": {},
   "outputs": [
    {
     "data": {
      "text/html": [
       "<div>\n",
       "<style scoped>\n",
       "    .dataframe tbody tr th:only-of-type {\n",
       "        vertical-align: middle;\n",
       "    }\n",
       "\n",
       "    .dataframe tbody tr th {\n",
       "        vertical-align: top;\n",
       "    }\n",
       "\n",
       "    .dataframe thead th {\n",
       "        text-align: right;\n",
       "    }\n",
       "</style>\n",
       "<table border=\"1\" class=\"dataframe\">\n",
       "  <thead>\n",
       "    <tr style=\"text-align: right;\">\n",
       "      <th></th>\n",
       "      <th>#diseaseID</th>\n",
       "      <th>diseaseName</th>\n",
       "      <th>phenotypeID</th>\n",
       "      <th>phenotypeName</th>\n",
       "      <th>onsetID</th>\n",
       "      <th>onsetName</th>\n",
       "      <th>frequency</th>\n",
       "      <th>sex</th>\n",
       "      <th>negation</th>\n",
       "      <th>modifier</th>\n",
       "      <th>description</th>\n",
       "      <th>publication</th>\n",
       "      <th>evidence</th>\n",
       "      <th>biocuration</th>\n",
       "    </tr>\n",
       "  </thead>\n",
       "  <tbody>\n",
       "    <tr>\n",
       "      <th>0</th>\n",
       "      <td>OMIM:620475</td>\n",
       "      <td>Thrombocytopenia 8, with dysmorphic features and developmental delay</td>\n",
       "      <td>HP:0011229</td>\n",
       "      <td>Broad eyebrow</td>\n",
       "      <td></td>\n",
       "      <td></td>\n",
       "      <td>4/6</td>\n",
       "      <td></td>\n",
       "      <td></td>\n",
       "      <td></td>\n",
       "      <td></td>\n",
       "      <td>PMID:30315159</td>\n",
       "      <td>PCS</td>\n",
       "      <td>ORCID:0000-0002-0736-9199</td>\n",
       "    </tr>\n",
       "    <tr>\n",
       "      <th>1</th>\n",
       "      <td>OMIM:620475</td>\n",
       "      <td>Thrombocytopenia 8, with dysmorphic features and developmental delay</td>\n",
       "      <td>HP:0000286</td>\n",
       "      <td>Epicanthus</td>\n",
       "      <td></td>\n",
       "      <td></td>\n",
       "      <td>4/6</td>\n",
       "      <td></td>\n",
       "      <td></td>\n",
       "      <td></td>\n",
       "      <td></td>\n",
       "      <td>PMID:30315159</td>\n",
       "      <td>PCS</td>\n",
       "      <td>ORCID:0000-0002-0736-9199</td>\n",
       "    </tr>\n",
       "    <tr>\n",
       "      <th>2</th>\n",
       "      <td>OMIM:620475</td>\n",
       "      <td>Thrombocytopenia 8, with dysmorphic features and developmental delay</td>\n",
       "      <td>HP:0000455</td>\n",
       "      <td>Broad nasal tip</td>\n",
       "      <td></td>\n",
       "      <td></td>\n",
       "      <td>5/6</td>\n",
       "      <td></td>\n",
       "      <td></td>\n",
       "      <td></td>\n",
       "      <td></td>\n",
       "      <td>PMID:30315159</td>\n",
       "      <td>PCS</td>\n",
       "      <td>ORCID:0000-0002-0736-9199</td>\n",
       "    </tr>\n",
       "    <tr>\n",
       "      <th>3</th>\n",
       "      <td>OMIM:620475</td>\n",
       "      <td>Thrombocytopenia 8, with dysmorphic features and developmental delay</td>\n",
       "      <td>HP:0000506</td>\n",
       "      <td>Telecanthus</td>\n",
       "      <td></td>\n",
       "      <td></td>\n",
       "      <td>3/6</td>\n",
       "      <td></td>\n",
       "      <td></td>\n",
       "      <td></td>\n",
       "      <td></td>\n",
       "      <td>PMID:30315159</td>\n",
       "      <td>PCS</td>\n",
       "      <td>ORCID:0000-0002-0736-9199</td>\n",
       "    </tr>\n",
       "    <tr>\n",
       "      <th>4</th>\n",
       "      <td>OMIM:620475</td>\n",
       "      <td>Thrombocytopenia 8, with dysmorphic features and developmental delay</td>\n",
       "      <td>HP:0000582</td>\n",
       "      <td>Upslanted palpebral fissure</td>\n",
       "      <td></td>\n",
       "      <td></td>\n",
       "      <td>2/6</td>\n",
       "      <td></td>\n",
       "      <td></td>\n",
       "      <td></td>\n",
       "      <td></td>\n",
       "      <td>PMID:30315159</td>\n",
       "      <td>PCS</td>\n",
       "      <td>ORCID:0000-0002-0736-9199</td>\n",
       "    </tr>\n",
       "  </tbody>\n",
       "</table>\n",
       "</div>"
      ],
      "text/plain": [
       "    #diseaseID  \\\n",
       "0  OMIM:620475   \n",
       "1  OMIM:620475   \n",
       "2  OMIM:620475   \n",
       "3  OMIM:620475   \n",
       "4  OMIM:620475   \n",
       "\n",
       "                                                            diseaseName  \\\n",
       "0  Thrombocytopenia 8, with dysmorphic features and developmental delay   \n",
       "1  Thrombocytopenia 8, with dysmorphic features and developmental delay   \n",
       "2  Thrombocytopenia 8, with dysmorphic features and developmental delay   \n",
       "3  Thrombocytopenia 8, with dysmorphic features and developmental delay   \n",
       "4  Thrombocytopenia 8, with dysmorphic features and developmental delay   \n",
       "\n",
       "  phenotypeID                phenotypeName onsetID onsetName frequency sex  \\\n",
       "0  HP:0011229                Broad eyebrow                         4/6       \n",
       "1  HP:0000286                   Epicanthus                         4/6       \n",
       "2  HP:0000455              Broad nasal tip                         5/6       \n",
       "3  HP:0000506                  Telecanthus                         3/6       \n",
       "4  HP:0000582  Upslanted palpebral fissure                         2/6       \n",
       "\n",
       "  negation modifier description    publication evidence  \\\n",
       "0                                PMID:30315159      PCS   \n",
       "1                                PMID:30315159      PCS   \n",
       "2                                PMID:30315159      PCS   \n",
       "3                                PMID:30315159      PCS   \n",
       "4                                PMID:30315159      PCS   \n",
       "\n",
       "                 biocuration  \n",
       "0  ORCID:0000-0002-0736-9199  \n",
       "1  ORCID:0000-0002-0736-9199  \n",
       "2  ORCID:0000-0002-0736-9199  \n",
       "3  ORCID:0000-0002-0736-9199  \n",
       "4  ORCID:0000-0002-0736-9199  "
      ]
     },
     "execution_count": 13,
     "metadata": {},
     "output_type": "execute_result"
    }
   ],
   "source": [
    "df = hpoa_table_creator.get_dataframe()\n",
    "df.head(5)"
   ]
  },
  {
   "cell_type": "code",
   "execution_count": 14,
   "id": "f9c661ea-6271-4d8e-a0c6-e70aa6cc5082",
   "metadata": {},
   "outputs": [
    {
     "name": "stdout",
     "output_type": "stream",
     "text": [
      "Wrote HPOA disease file to OMIM-620475.tab\n"
     ]
    }
   ],
   "source": [
    "hpoa_table_creator.write_data_frame()"
   ]
  }
 ],
 "metadata": {
  "kernelspec": {
   "display_name": "Python 3 (ipykernel)",
   "language": "python",
   "name": "python3"
  },
  "language_info": {
   "codemirror_mode": {
    "name": "ipython",
    "version": 3
   },
   "file_extension": ".py",
   "mimetype": "text/x-python",
   "name": "python",
   "nbconvert_exporter": "python",
   "pygments_lexer": "ipython3",
   "version": "3.8.10"
  }
 },
 "nbformat": 4,
 "nbformat_minor": 5
}
