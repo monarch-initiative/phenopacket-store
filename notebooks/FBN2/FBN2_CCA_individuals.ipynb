{
 "cells": [
  {
   "cell_type": "markdown",
   "metadata": {},
   "source": [
    "# FBN2\n",
    "[congenital contractural arachnodactyly (CCA)](https://omim.org/entry/121050)  is caused by heterozygous mutation in the gene encoding fibrillin-2 (FBN2)."
   ]
  },
  {
   "cell_type": "code",
   "execution_count": 4,
   "metadata": {},
   "outputs": [
    {
     "name": "stdout",
     "output_type": "stream",
     "text": [
      "Using pyphetools version 0.9.83\n"
     ]
    }
   ],
   "source": [
    "from pyphetools.creation import TemplateImporter\n",
    "from pyphetools.visualization import IndividualTable, QcVisualizer\n",
    "from IPython.display import display, HTML\n",
    "import pyphetools\n",
    "print(f\"Using pyphetools version {pyphetools.__version__}\")"
   ]
  },
  {
   "cell_type": "code",
   "execution_count": 6,
   "metadata": {},
   "outputs": [],
   "source": [
    "template = \"input/FBN2_CCA_individuals.xlsx\"\n",
    "created_by = \"0000-0002-0736-9199\""
   ]
  },
  {
   "cell_type": "code",
   "execution_count": 9,
   "metadata": {},
   "outputs": [
    {
     "name": "stdout",
     "output_type": "stream",
     "text": [
      "HPO version 2024-04-26\n",
      "Created encoders for 50 fields\n",
      "Importing OMIM:121050, Contractural arachnodactyly, congenital, HGNC:3604, FBN2,  NM_001999.4\n",
      "[INFO] encoding variant \"c.3759T>G\"\n",
      "https://rest.variantvalidator.org/VariantValidator/variantvalidator/hg38/NM_001999.4%3Ac.3759T>G/NM_001999.4?content-type=application%2Fjson\n",
      "[INFO] encoding variant \"c.3535G>T\"\n",
      "https://rest.variantvalidator.org/VariantValidator/variantvalidator/hg38/NM_001999.4%3Ac.3535G>T/NM_001999.4?content-type=application%2Fjson\n",
      "[INFO] encoding variant \"c.3425G>T\"\n",
      "https://rest.variantvalidator.org/VariantValidator/variantvalidator/hg38/NM_001999.4%3Ac.3425G>T/NM_001999.4?content-type=application%2Fjson\n",
      "[INFO] encoding variant \"c.4346-2A>T\"\n",
      "https://rest.variantvalidator.org/VariantValidator/variantvalidator/hg38/NM_001999.4%3Ac.4346-2A>T/NM_001999.4?content-type=application%2Fjson\n",
      "[INFO] encoding variant \"c.3725-15A>G\"\n",
      "https://rest.variantvalidator.org/VariantValidator/variantvalidator/hg38/NM_001999.4%3Ac.3725-15A>G/NM_001999.4?content-type=application%2Fjson\n",
      "[INFO] encoding variant \"c.3719G>A\"\n",
      "https://rest.variantvalidator.org/VariantValidator/variantvalidator/hg38/NM_001999.4%3Ac.3719G>A/NM_001999.4?content-type=application%2Fjson\n",
      "[INFO] encoding variant \"c.3170G>A\"\n",
      "https://rest.variantvalidator.org/VariantValidator/variantvalidator/hg38/NM_001999.4%3Ac.3170G>A/NM_001999.4?content-type=application%2Fjson\n",
      "[INFO] encoding variant \"c.3974-26T>G\"\n",
      "https://rest.variantvalidator.org/VariantValidator/variantvalidator/hg38/NM_001999.4%3Ac.3974-26T>G/NM_001999.4?content-type=application%2Fjson\n",
      "[INFO] encoding variant \"c.3343G>C\"\n",
      "https://rest.variantvalidator.org/VariantValidator/variantvalidator/hg38/NM_001999.4%3Ac.3343G>C/NM_001999.4?content-type=application%2Fjson\n",
      "[INFO] encoding variant \"c.4099+1G>C\"\n",
      "https://rest.variantvalidator.org/VariantValidator/variantvalidator/hg38/NM_001999.4%3Ac.4099+1G>C/NM_001999.4?content-type=application%2Fjson\n",
      "[INFO] encoding variant \"c.4301G>C\"\n",
      "https://rest.variantvalidator.org/VariantValidator/variantvalidator/hg38/NM_001999.4%3Ac.4301G>C/NM_001999.4?content-type=application%2Fjson\n",
      "[INFO] encoding variant \"c.4177T>G\"\n",
      "https://rest.variantvalidator.org/VariantValidator/variantvalidator/hg38/NM_001999.4%3Ac.4177T>G/NM_001999.4?content-type=application%2Fjson\n",
      "[INFO] encoding variant \"c.3758G>A\"\n",
      "https://rest.variantvalidator.org/VariantValidator/variantvalidator/hg38/NM_001999.4%3Ac.3758G>A/NM_001999.4?content-type=application%2Fjson\n",
      "We output 14 GA4GH phenopackets to the directory phenopackets\n"
     ]
    }
   ],
   "source": [
    "timporter = TemplateImporter(template=template,  created_by=created_by)\n",
    "individual_list, cvalidator = timporter.import_phenopackets_from_template()"
   ]
  },
  {
   "cell_type": "code",
   "execution_count": 10,
   "metadata": {},
   "outputs": [
    {
     "data": {
      "text/html": [
       "<h2>Cohort validation</h2>\n",
       "<p>No errors found for the cohort with 14 individuals</p>"
      ],
      "text/plain": [
       "<IPython.core.display.HTML object>"
      ]
     },
     "metadata": {},
     "output_type": "display_data"
    }
   ],
   "source": [
    "qc = QcVisualizer(cohort_validator=cvalidator)\n",
    "display(HTML(qc.to_summary_html()))"
   ]
  },
  {
   "cell_type": "code",
   "execution_count": 11,
   "metadata": {},
   "outputs": [
    {
     "data": {
      "text/html": [
       "<table style=\"border: 2px solid black; align: \"left\">\n",
       "<caption>14 phenopackets - PMID:10797416 (n=2); PMID:9714438 (n=3); PMID:9106527 (n=1); PMID:9737771 (n=1); PMID:9199560 (n=1); PMID:8900230 (n=1); PMID:7493032 (n=2); PMID:11754102 (n=2); PMID:30147916 (n=1)</caption>\n",
       "<tr><th style=\"text-align: left;font-weight: bold;\">Individual</th><th style=\"text-align: left;font-weight: bold;\">Disease</th><th style=\"text-align: left;font-weight: bold;\">Genotype</th><th style=\"text-align: left;font-weight: bold;\">Phenotypic features</th></tr>\n",
       "<tr><td style=\"text-align: left;\">Belleh Patient CF1347 (FEMALE; P2M)</td><td style=\"text-align: left;\">Contractural arachnodactyly, congenital (OMIM:121050)</td><td style=\"text-align: left;\">NM_001999.4:c.3425G>T (heterozygous)</td><td style=\"text-align: left;\">Crumpled ear (HP:0009901); Camptodactyly of finger (HP:0100490); Hip contracture (HP:0003273); Elbow contracture (HP:0034391); Knee contracture (HP:0034671); Scoliosis (HP:0002650); High palate (HP:0000218); Micrognathia (HP:0000347); excluded: Arachnodactyly (HP:0001166); excluded: Camptodactyly of toe (HP:0001836); excluded: Wrist flexion contracture (HP:0001239); excluded: Pectus carinatum (HP:0000768); excluded: Pectus excavatum (HP:0000767); excluded: Patellar subluxation (HP:0010499); excluded: Elbow dislocation (HP:0003042); excluded: Aortic root aneurysm (HP:0002616); excluded: Mitral valve prolapse (HP:0001634)</td></tr>\n",
       "<tr><td style=\"text-align: left;\">Belleh Patient CF1349 (FEMALE; P14Y)</td><td style=\"text-align: left;\">Contractural arachnodactyly, congenital (OMIM:121050)</td><td style=\"text-align: left;\">NM_001999.4:c.3759T>G (heterozygous)</td><td style=\"text-align: left;\">Crumpled ear (HP:0009901); Arachnodactyly (HP:0001166); Camptodactyly of finger (HP:0100490); Elbow contracture (HP:0034391); Scoliosis (HP:0002650); High palate (HP:0000218); excluded: Camptodactyly of toe (HP:0001836); excluded: Hip contracture (HP:0003273); excluded: Knee contracture (HP:0034671); excluded: Wrist flexion contracture (HP:0001239); excluded: Pectus carinatum (HP:0000768); excluded: Pectus excavatum (HP:0000767); excluded: Patellar subluxation (HP:0010499); excluded: Elbow dislocation (HP:0003042); excluded: Micrognathia (HP:0000347); excluded: Aortic root aneurysm (HP:0002616); excluded: Mitral valve prolapse (HP:0001634)</td></tr>\n",
       "<tr><td style=\"text-align: left;\">Park p253 (FEMALE; Congenital onset (HP:0003577))</td><td style=\"text-align: left;\">Contractural arachnodactyly, congenital (OMIM:121050)</td><td style=\"text-align: left;\">NM_001999.4:c.4099+1G>C (heterozygous)</td><td style=\"text-align: left;\">Crumpled ear (HP:0009901); Arachnodactyly (HP:0001166); Camptodactyly of finger (HP:0100490); Camptodactyly of toe (HP:0001836); Elbow contracture (HP:0034391); Scoliosis (HP:0002650); Aortic root aneurysm (HP:0002616); Mitral valve prolapse (HP:0001634); excluded: Hip contracture (HP:0003273); excluded: Knee contracture (HP:0034671); excluded: Wrist flexion contracture (HP:0001239); excluded: Pectus carinatum (HP:0000768); excluded: Pectus excavatum (HP:0000767); excluded: Patellar subluxation (HP:0010499); excluded: Elbow dislocation (HP:0003042); excluded: High palate (HP:0000218); excluded: Micrognathia (HP:0000347)</td></tr>\n",
       "<tr><td style=\"text-align: left;\">Park p279 (MALE; P31Y)</td><td style=\"text-align: left;\">Contractural arachnodactyly, congenital (OMIM:121050)</td><td style=\"text-align: left;\">NM_001999.4:c.3170G>A (heterozygous)</td><td style=\"text-align: left;\">Arachnodactyly (HP:0001166); Elbow contracture (HP:0034391); Pectus excavatum (HP:0000767); Patellar subluxation (HP:0010499); Elbow dislocation (HP:0003042); excluded: Crumpled ear (HP:0009901); excluded: Camptodactyly of finger (HP:0100490); excluded: Camptodactyly of toe (HP:0001836); excluded: Hip contracture (HP:0003273); excluded: Knee contracture (HP:0034671); excluded: Wrist flexion contracture (HP:0001239); excluded: Scoliosis (HP:0002650); excluded: Pectus carinatum (HP:0000768); excluded: High palate (HP:0000218); excluded: Micrognathia (HP:0000347); excluded: Aortic root aneurysm (HP:0002616); excluded: Mitral valve prolapse (HP:0001634)</td></tr>\n",
       "<tr><td style=\"text-align: left;\">Park p103 (daughter of p279) (FEMALE; P55Y)</td><td style=\"text-align: left;\">Contractural arachnodactyly, congenital (OMIM:121050)</td><td style=\"text-align: left;\">NM_001999.4:c.3170G>A (heterozygous)</td><td style=\"text-align: left;\">Crumpled ear (HP:0009901); Camptodactyly of finger (HP:0100490); Camptodactyly of toe (HP:0001836); Elbow contracture (HP:0034391); Scoliosis (HP:0002650); excluded: Arachnodactyly (HP:0001166); excluded: Hip contracture (HP:0003273); excluded: Knee contracture (HP:0034671); excluded: Wrist flexion contracture (HP:0001239); excluded: Pectus carinatum (HP:0000768); excluded: Pectus excavatum (HP:0000767); excluded: Patellar subluxation (HP:0010499); excluded: Elbow dislocation (HP:0003042); excluded: High palate (HP:0000218); excluded: Micrognathia (HP:0000347); excluded: Aortic root aneurysm (HP:0002616); excluded: Mitral valve prolapse (HP:0001634)</td></tr>\n",
       "<tr><td style=\"text-align: left;\">Putnam 1997 Patient P319 (FEMALE; Congenital onset (HP:0003577))</td><td style=\"text-align: left;\">Contractural arachnodactyly, congenital (OMIM:121050)</td><td style=\"text-align: left;\">NM_001999.4:c.3725-15A>G (heterozygous)</td><td style=\"text-align: left;\">Crumpled ear (HP:0009901); Arachnodactyly (HP:0001166); Camptodactyly of finger (HP:0100490); Hip contracture (HP:0003273); Elbow contracture (HP:0034391); Knee contracture (HP:0034671); Scoliosis (HP:0002650); Pectus carinatum (HP:0000768); High palate (HP:0000218); Micrognathia (HP:0000347); excluded: Camptodactyly of toe (HP:0001836); excluded: Wrist flexion contracture (HP:0001239); excluded: Pectus excavatum (HP:0000767); excluded: Patellar subluxation (HP:0010499); excluded: Elbow dislocation (HP:0003042); excluded: Aortic root aneurysm (HP:0002616); excluded: Mitral valve prolapse (HP:0001634)</td></tr>\n",
       "<tr><td style=\"text-align: left;\">Babcock 1998 (FEMALE; P67Y)</td><td style=\"text-align: left;\">Contractural arachnodactyly, congenital (OMIM:121050)</td><td style=\"text-align: left;\">NM_001999.4:c.3343G>C (heterozygous)</td><td style=\"text-align: left;\">Crumpled ear (HP:0009901); Camptodactyly of finger (HP:0100490); Scoliosis (HP:0002650); Patellar subluxation (HP:0010499); excluded: Arachnodactyly (HP:0001166); excluded: Camptodactyly of toe (HP:0001836); excluded: Hip contracture (HP:0003273); excluded: Elbow contracture (HP:0034391); excluded: Knee contracture (HP:0034671); excluded: Wrist flexion contracture (HP:0001239); excluded: Pectus carinatum (HP:0000768); excluded: Pectus excavatum (HP:0000767); excluded: Elbow dislocation (HP:0003042); excluded: High palate (HP:0000218); excluded: Micrognathia (HP:0000347); excluded: Aortic root aneurysm (HP:0002616); excluded: Mitral valve prolapse (HP:0001634)</td></tr>\n",
       "<tr><td style=\"text-align: left;\">Maslen 1997 Patient CS971736 (FEMALE; P28Y)</td><td style=\"text-align: left;\">Contractural arachnodactyly, congenital (OMIM:121050)</td><td style=\"text-align: left;\">NM_001999.4:c.3974-26T>G (heterozygous)</td><td style=\"text-align: left;\">Arachnodactyly (HP:0001166); Camptodactyly of finger (HP:0100490); Elbow contracture (HP:0034391); Wrist flexion contracture (HP:0001239); Scoliosis (HP:0002650); Pectus carinatum (HP:0000768); excluded: Crumpled ear (HP:0009901); excluded: Camptodactyly of toe (HP:0001836); excluded: Hip contracture (HP:0003273); excluded: Knee contracture (HP:0034671); excluded: Pectus excavatum (HP:0000767); excluded: Patellar subluxation (HP:0010499); excluded: Elbow dislocation (HP:0003042); excluded: High palate (HP:0000218); excluded: Micrognathia (HP:0000347); excluded: Aortic root aneurysm (HP:0002616); excluded: Mitral valve prolapse (HP:0001634)</td></tr>\n",
       "<tr><td style=\"text-align: left;\">Wang et al 1996 Patient CS961588 (FEMALE; Congenital onset (HP:0003577))</td><td style=\"text-align: left;\">Contractural arachnodactyly, congenital (OMIM:121050)</td><td style=\"text-align: left;\">NM_001999.4:c.4346-2A>T (heterozygous)</td><td style=\"text-align: left;\">Crumpled ear (HP:0009901); Arachnodactyly (HP:0001166); Elbow contracture (HP:0034391); Knee contracture (HP:0034671); Scoliosis (HP:0002650); Pectus excavatum (HP:0000767); excluded: Camptodactyly of finger (HP:0100490); excluded: Camptodactyly of toe (HP:0001836); excluded: Hip contracture (HP:0003273); excluded: Wrist flexion contracture (HP:0001239); excluded: Pectus carinatum (HP:0000768); excluded: Patellar subluxation (HP:0010499); excluded: Elbow dislocation (HP:0003042); excluded: High palate (HP:0000218); excluded: Micrognathia (HP:0000347); excluded: Aortic root aneurysm (HP:0002616); excluded: Mitral valve prolapse (HP:0001634)</td></tr>\n",
       "<tr><td style=\"text-align: left;\">Putnam 1995 p260 (UNKNOWN; n/a)</td><td style=\"text-align: left;\">Contractural arachnodactyly, congenital (OMIM:121050)</td><td style=\"text-align: left;\">NM_001999.4:c.3758G>A (heterozygous)</td><td style=\"text-align: left;\">Crumpled ear (HP:0009901); Camptodactyly of finger (HP:0100490); Hip contracture (HP:0003273); Elbow contracture (HP:0034391); Knee contracture (HP:0034671); excluded: Arachnodactyly (HP:0001166); excluded: Camptodactyly of toe (HP:0001836); excluded: Wrist flexion contracture (HP:0001239); excluded: Scoliosis (HP:0002650); excluded: Pectus carinatum (HP:0000768); excluded: Pectus excavatum (HP:0000767); excluded: High palate (HP:0000218); excluded: Micrognathia (HP:0000347)</td></tr>\n",
       "<tr><td style=\"text-align: left;\">Putnam 1995 p262 (UNKNOWN; n/a)</td><td style=\"text-align: left;\">Contractural arachnodactyly, congenital (OMIM:121050)</td><td style=\"text-align: left;\">NM_001999.4:c.4301G>C (heterozygous)</td><td style=\"text-align: left;\">Camptodactyly of finger (HP:0100490); Hip contracture (HP:0003273); Elbow contracture (HP:0034391); Knee contracture (HP:0034671); excluded: Crumpled ear (HP:0009901); excluded: Arachnodactyly (HP:0001166); excluded: Camptodactyly of toe (HP:0001836); excluded: Wrist flexion contracture (HP:0001239); excluded: Scoliosis (HP:0002650); excluded: Pectus carinatum (HP:0000768); excluded: Pectus excavatum (HP:0000767); excluded: High palate (HP:0000218); excluded: Micrognathia (HP:0000347)</td></tr>\n",
       "<tr><td style=\"text-align: left;\">patient GD889 (MALE; P4Y)</td><td style=\"text-align: left;\">Contractural arachnodactyly, congenital (OMIM:121050)</td><td style=\"text-align: left;\">NM_001999.4:c.3719G>A (heterozygous)</td><td style=\"text-align: left;\">Crumpled ear (HP:0009901); Arachnodactyly (HP:0001166); Knee contracture (HP:0034671); Wrist flexion contracture (HP:0001239); Scoliosis (HP:0002650); Pectus carinatum (HP:0000768); High palate (HP:0000218); Micrognathia (HP:0000347); excluded: Camptodactyly of finger (HP:0100490); excluded: Camptodactyly of toe (HP:0001836); excluded: Hip contracture (HP:0003273); excluded: Elbow contracture (HP:0034391); excluded: Pectus excavatum (HP:0000767); excluded: Patellar subluxation (HP:0010499); excluded: Elbow dislocation (HP:0003042); excluded: Aortic root aneurysm (HP:0002616); excluded: Mitral valve prolapse (HP:0001634)</td></tr>\n",
       "<tr><td style=\"text-align: left;\">patient GD911 (MALE; Congenital onset (HP:0003577))</td><td style=\"text-align: left;\">Contractural arachnodactyly, congenital (OMIM:121050)</td><td style=\"text-align: left;\">NM_001999.4:c.3535G>T (heterozygous)</td><td style=\"text-align: left;\">Crumpled ear (HP:0009901); Arachnodactyly (HP:0001166); Knee contracture (HP:0034671); Scoliosis (HP:0002650); Pectus carinatum (HP:0000768); High palate (HP:0000218); Micrognathia (HP:0000347); excluded: Camptodactyly of finger (HP:0100490); excluded: Camptodactyly of toe (HP:0001836); excluded: Hip contracture (HP:0003273); excluded: Elbow contracture (HP:0034391); excluded: Wrist flexion contracture (HP:0001239); excluded: Pectus excavatum (HP:0000767); excluded: Patellar subluxation (HP:0010499); excluded: Elbow dislocation (HP:0003042); excluded: Aortic root aneurysm (HP:0002616); excluded: Mitral valve prolapse (HP:0001634)</td></tr>\n",
       "<tr><td style=\"text-align: left;\">proband (IV:7) (FEMALE; n/a)</td><td style=\"text-align: left;\">Contractural arachnodactyly, congenital (OMIM:121050)</td><td style=\"text-align: left;\">NM_001999.4:c.4177T>G (heterozygous)</td><td style=\"text-align: left;\">Camptodactyly of finger (HP:0100490); Arachnodactyly (HP:0001166); excluded: Crumpled ear (HP:0009901); excluded: Camptodactyly of toe (HP:0001836); excluded: Hip contracture (HP:0003273); excluded: Elbow contracture (HP:0034391); excluded: Knee contracture (HP:0034671); excluded: Wrist flexion contracture (HP:0001239); excluded: Scoliosis (HP:0002650); excluded: Pectus carinatum (HP:0000768); excluded: Pectus excavatum (HP:0000767); excluded: Patellar subluxation (HP:0010499); excluded: Elbow dislocation (HP:0003042); excluded: High palate (HP:0000218); excluded: Micrognathia (HP:0000347); excluded: Aortic root aneurysm (HP:0002616); excluded: Mitral valve prolapse (HP:0001634)</td></tr>\n",
       "</table>"
      ],
      "text/plain": [
       "<IPython.core.display.HTML object>"
      ]
     },
     "metadata": {},
     "output_type": "display_data"
    }
   ],
   "source": [
    "table = IndividualTable(cvalidator.get_error_free_individual_list())\n",
    "display(HTML(table.to_html()))"
   ]
  },
  {
   "cell_type": "code",
   "execution_count": 12,
   "metadata": {},
   "outputs": [
    {
     "name": "stdout",
     "output_type": "stream",
     "text": [
      "[pyphetools] Ingested 14 GA4GH phenopackets.\n",
      "\tContractural arachnodactyly, congenital (OMIM:121050): n=14\n",
      "We found a total of 17 unique HPO terms\n",
      "Extracted disease: Contractural arachnodactyly, congenital (OMIM:121050)\n",
      "Wrote HPOA disease file to OMIM-121050.tab\n"
     ]
    }
   ],
   "source": [
    "pmid = \"PMID:9106527\"\n",
    "df = timporter.create_hpoa_from_phenopackets(pmid=pmid, moi=\"Autosomal dominant\")"
   ]
  }
 ],
 "metadata": {
  "kernelspec": {
   "display_name": "ps24venv",
   "language": "python",
   "name": "python3"
  },
  "language_info": {
   "codemirror_mode": {
    "name": "ipython",
    "version": 3
   },
   "file_extension": ".py",
   "mimetype": "text/x-python",
   "name": "python",
   "nbconvert_exporter": "python",
   "pygments_lexer": "ipython3",
   "version": "3.9.6"
  }
 },
 "nbformat": 4,
 "nbformat_minor": 2
}
