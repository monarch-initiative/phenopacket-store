{
 "cells": [
  {
   "cell_type": "markdown",
   "metadata": {},
   "source": [
    "# TRMT10C\n",
    "[combined oxidative phosphorylation deficiency-30 (COXPD30)](https://omim.org/entry/616974) is caused by homozygous or compound heterozygous mutation in the TRMT10C gene."
   ]
  },
  {
   "cell_type": "code",
   "execution_count": 3,
   "metadata": {},
   "outputs": [
    {
     "name": "stdout",
     "output_type": "stream",
     "text": [
      "Using pyphetools version 0.9.92\n"
     ]
    }
   ],
   "source": [
    "from pyphetools.creation import TemplateImporter\n",
    "from pyphetools.visualization import IndividualTable, QcVisualizer\n",
    "from IPython.display import display, HTML\n",
    "import pyphetools\n",
    "print(f\"Using pyphetools version {pyphetools.__version__}\")"
   ]
  },
  {
   "cell_type": "code",
   "execution_count": 4,
   "metadata": {},
   "outputs": [],
   "source": [
    "template = \"input/TRMT10C_COXPD30_individuals.xlsx\"\n",
    "created_by = \"0000-0002-0736-9199\""
   ]
  },
  {
   "cell_type": "code",
   "execution_count": 5,
   "metadata": {},
   "outputs": [
    {
     "name": "stdout",
     "output_type": "stream",
     "text": [
      "HPO version 2024-07-01\n",
      "Created encoders for 39 fields\n",
      "Importing OMIM:616974, Combined oxidative phosphorylation deficiency 30, HGNC:26022, TRMT10C,  NM_017819.4\n",
      "[INFO] encoding variant \"c.542G>T\"\n",
      "https://rest.variantvalidator.org/VariantValidator/variantvalidator/hg38/NM_017819.4%3Ac.542G>T/NM_017819.4?content-type=application%2Fjson\n",
      "[INFO] encoding variant \"c.814A>G\"\n",
      "https://rest.variantvalidator.org/VariantValidator/variantvalidator/hg38/NM_017819.4%3Ac.814A>G/NM_017819.4?content-type=application%2Fjson\n",
      "We output 2 GA4GH phenopackets to the directory phenopackets\n"
     ]
    }
   ],
   "source": [
    "timporter = TemplateImporter(template=template,  created_by=created_by)\n",
    "individual_list, cvalidator = timporter.import_phenopackets_from_template()"
   ]
  },
  {
   "cell_type": "code",
   "execution_count": 6,
   "metadata": {},
   "outputs": [
    {
     "data": {
      "text/html": [
       "<h2>Cohort validation</h2>\n",
       "<p>No errors found for the cohort with 2 individuals</p>"
      ],
      "text/plain": [
       "<IPython.core.display.HTML object>"
      ]
     },
     "metadata": {},
     "output_type": "display_data"
    }
   ],
   "source": [
    "qc = QcVisualizer(cohort_validator=cvalidator)\n",
    "display(HTML(qc.to_summary_html()))"
   ]
  },
  {
   "cell_type": "code",
   "execution_count": 7,
   "metadata": {},
   "outputs": [
    {
     "data": {
      "text/html": [
       "<table style=\"border: 2px solid black; align: \"left\">\n",
       "<caption>2 phenopackets - PMID:27132592 (n=2)</caption>\n",
       "<tr><th style=\"text-align: left;font-weight: bold;\">Individual</th><th style=\"text-align: left;font-weight: bold;\">Disease</th><th style=\"text-align: left;font-weight: bold;\">Genotype</th><th style=\"text-align: left;font-weight: bold;\">Phenotypic features</th></tr>\n",
       "<tr><td style=\"text-align: left;\"> Subject 1 (MALE; P5M14D)</td><td style=\"text-align: left;\">Combined oxidative phosphorylation deficiency 30 (OMIM:616974)</td><td style=\"text-align: left;\"><ul> <li>NM_017819.4:c.542G>T (heterozygous)</li> <li>NM_017819.4:c.814A>G (heterozygous)</li> </ul></td><td style=\"text-align: left;\"><b>P5M14D</b>: Respiratory failure (HP:0002878)<br/>Hypotonia (HP:0001252); Hyperalaninemia (HP:0003348); Feeding difficulties (HP:0011968); Gastroesophageal reflux (HP:0002020); Elevated circulating alanine aminotransferase concentration (HP:0031964); Increased circulating lactate concentration (HP:0002151); Increased CSF lactate (HP:0002490); Failure to thrive (HP:0001508); Sensorineural hearing impairment (HP:0000407); Decreased activity of mitochondrial complex I (HP:0011923); Decreased activity of mitochondrial complex IV (HP:0008347); Ragged-red muscle fibers (HP:0003200); Cytochrome C oxidase-negative muscle fibers (HP:0003688); excluded: Elevated circulating aspartate aminotransferase concentration (HP:0031956); excluded: Elevated gamma-glutamyltransferase level (HP:0030948); excluded: Decreased activity of mitochondrial complex II (HP:0008314); excluded: Decreased activity of mitochondrial complex III (HP:0011924); excluded: Frontal polymicrogyria (HP:0006821); excluded: Elevated lactate:pyruvate ratio (HP:0032653); excluded: Left ventricular hypertrophy (HP:0001712)</td></tr>\n",
       "<tr><td style=\"text-align: left;\"> Subject 2 (FEMALE; P5M)</td><td style=\"text-align: left;\">Combined oxidative phosphorylation deficiency 30 (OMIM:616974)</td><td style=\"text-align: left;\">NM_017819.4:c.542G>T (homozygous)</td><td style=\"text-align: left;\"><b>P1M</b>: Increased circulating lactate concentration (HP:0002151); Elevated lactate:pyruvate ratio (HP:0032653); Failure to thrive (HP:0001508)<br/><b>P3M14D</b>: Elevated circulating alanine aminotransferase concentration (HP:0031964); Elevated circulating aspartate aminotransferase concentration (HP:0031956); Elevated gamma-glutamyltransferase level (HP:0030948); Frontal polymicrogyria (HP:0006821); Left ventricular hypertrophy (HP:0001712); Increased CSF lactate (HP:0002490)<br/><b>P5M</b>: Respiratory failure (HP:0002878)<br/>Hypotonia (HP:0001252); Feeding difficulties (HP:0011968); Absent otoacoustic emissions (HP:6000182); Decreased activity of mitochondrial complex I (HP:0011923); Decreased activity of mitochondrial complex III (HP:0011924); Decreased activity of mitochondrial complex IV (HP:0008347); excluded: Hyperalaninemia (HP:0003348); excluded: Gastroesophageal reflux (HP:0002020); excluded: Decreased activity of mitochondrial complex II (HP:0008314)</td></tr>\n",
       "</table>"
      ],
      "text/plain": [
       "<IPython.core.display.HTML object>"
      ]
     },
     "metadata": {},
     "output_type": "display_data"
    }
   ],
   "source": [
    "table = IndividualTable(cvalidator.get_error_free_individual_list())\n",
    "display(HTML(table.to_html()))"
   ]
  },
  {
   "cell_type": "code",
   "execution_count": 8,
   "metadata": {},
   "outputs": [
    {
     "name": "stdout",
     "output_type": "stream",
     "text": [
      "[pyphetools] Ingested 2 GA4GH phenopackets.\n",
      "[INFO] Extracted 2 from 2 phenopackets with OMIM:616974\n",
      "\n",
      "\tCombined oxidative phosphorylation deficiency 30 (OMIM:616974): n=2\n",
      "We found a total of 22 unique HPO terms\n",
      "Extracted disease: Combined oxidative phosphorylation deficiency 30 (OMIM:616974)\n",
      "Wrote HPOA disease file to OMIM-616974.tab\n"
     ]
    }
   ],
   "source": [
    "pmid = \"PMID:27132592\"\n",
    "df = timporter.create_hpoa_from_phenopackets(pmid=pmid, moi=\"Autosomal recessive\", target=\"OMIM:616974\")"
   ]
  },
  {
   "cell_type": "code",
   "execution_count": null,
   "metadata": {},
   "outputs": [],
   "source": []
  }
 ],
 "metadata": {
  "kernelspec": {
   "display_name": "ps24venv",
   "language": "python",
   "name": "python3"
  },
  "language_info": {
   "codemirror_mode": {
    "name": "ipython",
    "version": 3
   },
   "file_extension": ".py",
   "mimetype": "text/x-python",
   "name": "python",
   "nbconvert_exporter": "python",
   "pygments_lexer": "ipython3",
   "version": "3.9.6"
  }
 },
 "nbformat": 4,
 "nbformat_minor": 2
}
