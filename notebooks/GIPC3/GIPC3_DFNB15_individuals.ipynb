{
 "cells": [
  {
   "cell_type": "markdown",
   "metadata": {},
   "source": [
    "# GIPC3\n",
    "[autosomal recessive deafness-15 (DFNB15), also known as DFNB72 or DFNB95](https://omim.org/entry/601869) is caused by homozygous mutation in the GIPC3 gene."
   ]
  },
  {
   "cell_type": "code",
   "execution_count": 3,
   "metadata": {},
   "outputs": [
    {
     "name": "stdout",
     "output_type": "stream",
     "text": [
      "Using pyphetools version 0.9.90\n"
     ]
    }
   ],
   "source": [
    "from pyphetools.creation import TemplateImporter\n",
    "from pyphetools.visualization import IndividualTable, QcVisualizer\n",
    "from IPython.display import display, HTML\n",
    "import pyphetools\n",
    "print(f\"Using pyphetools version {pyphetools.__version__}\")"
   ]
  },
  {
   "cell_type": "code",
   "execution_count": 5,
   "metadata": {},
   "outputs": [],
   "source": [
    "template = \"input/GIPC3_DFNB15_individuals.xlsx\"\n",
    "created_by = \"0000-0002-0736-9199\""
   ]
  },
  {
   "cell_type": "code",
   "execution_count": 6,
   "metadata": {},
   "outputs": [
    {
     "name": "stdout",
     "output_type": "stream",
     "text": [
      "HPO version 2024-04-26\n",
      "Created encoders for 20 fields\n",
      "Importing OMIM:601869, Deafness, autosomal recessive 15, HGNC:18183, GIPC3,  NM_133261.3\n",
      "[INFO] encoding variant \"c.685dupG\"\n",
      "https://rest.variantvalidator.org/VariantValidator/variantvalidator/hg38/NM_133261.3%3Ac.685dupG/NM_133261.3?content-type=application%2Fjson\n",
      "[INFO] encoding variant \"c.472G>A\"\n",
      "https://rest.variantvalidator.org/VariantValidator/variantvalidator/hg38/NM_133261.3%3Ac.472G>A/NM_133261.3?content-type=application%2Fjson\n",
      "[INFO] encoding variant \"c.785T>G\"\n",
      "https://rest.variantvalidator.org/VariantValidator/variantvalidator/hg38/NM_133261.3%3Ac.785T>G/NM_133261.3?content-type=application%2Fjson\n",
      "[INFO] encoding variant \"c.662C>T\"\n",
      "https://rest.variantvalidator.org/VariantValidator/variantvalidator/hg38/NM_133261.3%3Ac.662C>T/NM_133261.3?content-type=application%2Fjson\n",
      "[INFO] encoding variant \"c.565C>T\"\n",
      "https://rest.variantvalidator.org/VariantValidator/variantvalidator/hg38/NM_133261.3%3Ac.565C>T/NM_133261.3?content-type=application%2Fjson\n",
      "[INFO] encoding variant \"c.136G>A\"\n",
      "https://rest.variantvalidator.org/VariantValidator/variantvalidator/hg38/NM_133261.3%3Ac.136G>A/NM_133261.3?content-type=application%2Fjson\n",
      "[INFO] encoding variant \"c.903G>A\"\n",
      "https://rest.variantvalidator.org/VariantValidator/variantvalidator/hg38/NM_133261.3%3Ac.903G>A/NM_133261.3?content-type=application%2Fjson\n",
      "[INFO] encoding variant \"c.264G>A\"\n",
      "https://rest.variantvalidator.org/VariantValidator/variantvalidator/hg38/NM_133261.3%3Ac.264G>A/NM_133261.3?content-type=application%2Fjson\n",
      "[INFO] encoding variant \"c.767G>A\"\n",
      "https://rest.variantvalidator.org/VariantValidator/variantvalidator/hg38/NM_133261.3%3Ac.767G>A/NM_133261.3?content-type=application%2Fjson\n",
      "[INFO] encoding variant \"c.281G>A\"\n",
      "https://rest.variantvalidator.org/VariantValidator/variantvalidator/hg38/NM_133261.3%3Ac.281G>A/NM_133261.3?content-type=application%2Fjson\n",
      "We output 10 GA4GH phenopackets to the directory phenopackets\n"
     ]
    }
   ],
   "source": [
    "timporter = TemplateImporter(template=template,  created_by=created_by)\n",
    "individual_list, cvalidator = timporter.import_phenopackets_from_template()"
   ]
  },
  {
   "cell_type": "code",
   "execution_count": 7,
   "metadata": {},
   "outputs": [
    {
     "data": {
      "text/html": [
       "<h2>Cohort validation</h2>\n",
       "<p>No errors found for the cohort with 10 individuals</p>"
      ],
      "text/plain": [
       "<IPython.core.display.HTML object>"
      ]
     },
     "metadata": {},
     "output_type": "display_data"
    }
   ],
   "source": [
    "qc = QcVisualizer(cohort_validator=cvalidator)\n",
    "display(HTML(qc.to_summary_html()))"
   ]
  },
  {
   "cell_type": "code",
   "execution_count": 8,
   "metadata": {},
   "outputs": [
    {
     "data": {
      "text/html": [
       "<table style=\"border: 2px solid black; align: \"left\">\n",
       "<caption>10 phenopackets - PMID:21660509 (n=9); PMID:29605370 (n=1)</caption>\n",
       "<tr><th style=\"text-align: left;font-weight: bold;\">Individual</th><th style=\"text-align: left;font-weight: bold;\">Disease</th><th style=\"text-align: left;font-weight: bold;\">Genotype</th><th style=\"text-align: left;font-weight: bold;\">Phenotypic features</th></tr>\n",
       "<tr><td style=\"text-align: left;\">DEM4322b (UNKNOWN; n/a)</td><td style=\"text-align: left;\">Deafness, autosomal recessive 15 (OMIM:601869)</td><td style=\"text-align: left;\">NM_133261.3:c.136G>A (homozygous)</td><td style=\"text-align: left;\">Sensorineural hearing impairment (HP:0000407); excluded: Abnormal vestibular function (HP:0001751); excluded: Visual impairment (HP:0000505)</td></tr>\n",
       "<tr><td style=\"text-align: left;\">PKDF1258b (UNKNOWN; n/a)</td><td style=\"text-align: left;\">Deafness, autosomal recessive 15 (OMIM:601869)</td><td style=\"text-align: left;\">NM_133261.3:c.264G>A (homozygous)</td><td style=\"text-align: left;\">Sensorineural hearing impairment (HP:0000407); excluded: Abnormal vestibular function (HP:0001751); excluded: Visual impairment (HP:0000505)</td></tr>\n",
       "<tr><td style=\"text-align: left;\">PKDF1048b (UNKNOWN; n/a)</td><td style=\"text-align: left;\">Deafness, autosomal recessive 15 (OMIM:601869)</td><td style=\"text-align: left;\">NM_133261.3:c.281G>A (homozygous)</td><td style=\"text-align: left;\">Sensorineural hearing impairment (HP:0000407); excluded: Abnormal vestibular function (HP:0001751); excluded: Visual impairment (HP:0000505)</td></tr>\n",
       "<tr><td style=\"text-align: left;\">DEM4197b (UNKNOWN; n/a)</td><td style=\"text-align: left;\">Deafness, autosomal recessive 15 (OMIM:601869)</td><td style=\"text-align: left;\">NM_133261.3:c.565C>T (homozygous)</td><td style=\"text-align: left;\">Sensorineural hearing impairment (HP:0000407); excluded: Abnormal vestibular function (HP:0001751); excluded: Visual impairment (HP:0000505)</td></tr>\n",
       "<tr><td style=\"text-align: left;\">PKSR22Ab (UNKNOWN; n/a)</td><td style=\"text-align: left;\">Deafness, autosomal recessive 15 (OMIM:601869)</td><td style=\"text-align: left;\">NM_133261.3:c.662C>T (homozygous)</td><td style=\"text-align: left;\">Sensorineural hearing impairment (HP:0000407); excluded: Abnormal vestibular function (HP:0001751); excluded: Visual impairment (HP:0000505)</td></tr>\n",
       "<tr><td style=\"text-align: left;\">PKDF335d (UNKNOWN; n/a)</td><td style=\"text-align: left;\">Deafness, autosomal recessive 15 (OMIM:601869)</td><td style=\"text-align: left;\">NM_133261.3:c.685dup (homozygous)</td><td style=\"text-align: left;\">Sensorineural hearing impairment (HP:0000407); excluded: Abnormal vestibular function (HP:0001751); excluded: Visual impairment (HP:0000505)</td></tr>\n",
       "<tr><td style=\"text-align: left;\">PKDF793d (UNKNOWN; n/a)</td><td style=\"text-align: left;\">Deafness, autosomal recessive 15 (OMIM:601869)</td><td style=\"text-align: left;\">NM_133261.3:c.767G>A (homozygous)</td><td style=\"text-align: left;\">Sensorineural hearing impairment (HP:0000407); excluded: Abnormal vestibular function (HP:0001751); excluded: Visual impairment (HP:0000505)</td></tr>\n",
       "<tr><td style=\"text-align: left;\">Indian familye (UNKNOWN; n/a)</td><td style=\"text-align: left;\">Deafness, autosomal recessive 15 (OMIM:601869)</td><td style=\"text-align: left;\">NM_133261.3:c.785T>G (homozygous)</td><td style=\"text-align: left;\">Sensorineural hearing impairment (HP:0000407); excluded: Abnormal vestibular function (HP:0001751); excluded: Visual impairment (HP:0000505)</td></tr>\n",
       "<tr><td style=\"text-align: left;\">W98–042e (UNKNOWN; n/a)</td><td style=\"text-align: left;\">Deafness, autosomal recessive 15 (OMIM:601869)</td><td style=\"text-align: left;\">NM_133261.3:c.903G>A (homozygous)</td><td style=\"text-align: left;\">Sensorineural hearing impairment (HP:0000407); excluded: Abnormal vestibular function (HP:0001751); excluded: Visual impairment (HP:0000505)</td></tr>\n",
       "<tr><td style=\"text-align: left;\">Ahv-14 (UNKNOWN; n/a)</td><td style=\"text-align: left;\">Deafness, autosomal recessive 15 (OMIM:601869)</td><td style=\"text-align: left;\">NM_133261.3:c.472G>A (homozygous)</td><td style=\"text-align: left;\">Sensorineural hearing impairment (HP:0000407); excluded: Abnormal vestibular function (HP:0001751); excluded: Visual impairment (HP:0000505)</td></tr>\n",
       "</table>"
      ],
      "text/plain": [
       "<IPython.core.display.HTML object>"
      ]
     },
     "metadata": {},
     "output_type": "display_data"
    }
   ],
   "source": [
    "table = IndividualTable(cvalidator.get_error_free_individual_list())\n",
    "display(HTML(table.to_html()))"
   ]
  }
 ],
 "metadata": {
  "kernelspec": {
   "display_name": "ps24venv",
   "language": "python",
   "name": "python3"
  },
  "language_info": {
   "codemirror_mode": {
    "name": "ipython",
    "version": 3
   },
   "file_extension": ".py",
   "mimetype": "text/x-python",
   "name": "python",
   "nbconvert_exporter": "python",
   "pygments_lexer": "ipython3",
   "version": "3.9.6"
  }
 },
 "nbformat": 4,
 "nbformat_minor": 2
}
