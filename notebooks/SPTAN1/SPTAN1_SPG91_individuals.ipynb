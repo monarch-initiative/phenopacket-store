{
 "cells": [
  {
   "cell_type": "markdown",
   "id": "e9409999-854d-4eed-94a5-46309a0e330b",
   "metadata": {},
   "source": [
    "# SPTAN1 Spastic paraplegia 91, autosomal dominant, with or without cerebellar ataxia (SPG91)\n",
    "Deleterious variants in SPTAN1 are associated with several diseases including\n",
    "[Spastic paraplegia 91, autosomal dominant, with or without cerebellar ataxia-OMIM:620538](https://omim.org/entry/620538)."
   ]
  },
  {
   "cell_type": "code",
   "execution_count": 1,
   "id": "671de2dc-8c9f-473d-88d8-9aaa5bc7984b",
   "metadata": {},
   "outputs": [
    {
     "name": "stdout",
     "output_type": "stream",
     "text": [
      "Using pyphetools version 0.9.117\n"
     ]
    }
   ],
   "source": [
    "from pyphetools.creation import TemplateImporter, Moi\n",
    "from pyphetools.visualization import IndividualTable, QcVisualizer\n",
    "from IPython.display import display, HTML\n",
    "import pyphetools\n",
    "print(f\"Using pyphetools version {pyphetools.__version__}\")"
   ]
  },
  {
   "cell_type": "code",
   "execution_count": 2,
   "id": "08b81fb0-18e0-4af1-98b3-f1854c241fce",
   "metadata": {},
   "outputs": [],
   "source": [
    "template = \"input/SPTAN1_SPG91_individuals.xlsx\"\n",
    "hp_json = \"../hp.json\"\n",
    "created_by = \"0000-0002-0736-9199\""
   ]
  },
  {
   "cell_type": "code",
   "execution_count": 3,
   "id": "304a4054-d6de-4d95-b246-adddb6a868cf",
   "metadata": {},
   "outputs": [
    {
     "name": "stdout",
     "output_type": "stream",
     "text": [
      "HPO version 2024-08-13\n",
      "Created encoders for 36 fields\n",
      "Importing OMIM:620538, Spastic paraplegia 91, autosomal dominant, with or without cerebellar ataxia, HGNC:11273, SPTAN1,  NM_001130438.3\n",
      "We output 28 GA4GH phenopackets to the directory phenopackets\n"
     ]
    }
   ],
   "source": [
    "timporter = TemplateImporter(template=template, hp_json=hp_json, created_by=created_by)\n",
    "individual_list, cvalidator = timporter.import_phenopackets_from_template()"
   ]
  },
  {
   "cell_type": "code",
   "execution_count": 4,
   "id": "c05c9047-7297-49ae-a271-769948bb380c",
   "metadata": {},
   "outputs": [
    {
     "data": {
      "text/html": [
       "<h2>Cohort validation</h2>\n",
       "<p>Errors found with 1 of 28 phenopackets.</p>\n",
       "<table style=\"border: 2px solid black; align: \"left\">\n",
       "<caption>Error counts</caption>\n",
       "<tr><th style=\"text-align: left;font-weight: bold;\">Level</th><th style=\"text-align: left;font-weight: bold;\">Error category</th><th style=\"text-align: left;font-weight: bold;\">Count</th></tr>\n",
       "</table>\n",
       "<p>A total of 1 issues were fixed and no individual was removed from the cohort.</p>"
      ],
      "text/plain": [
       "<IPython.core.display.HTML object>"
      ]
     },
     "metadata": {},
     "output_type": "display_data"
    }
   ],
   "source": [
    "qc = QcVisualizer(cohort_validator=cvalidator)\n",
    "display(HTML(qc.to_summary_html()))"
   ]
  },
  {
   "cell_type": "code",
   "execution_count": 5,
   "id": "3b13eb4b-c7f7-4920-b99c-7b16064732fc",
   "metadata": {},
   "outputs": [
    {
     "data": {
      "text/html": [
       "<table style=\"border: 2px solid black; align: \"left\">\n",
       "<caption>28 phenopackets - PMID:35150594 (n=22); PMID:36331550 (n=6)</caption>\n",
       "<tr><th style=\"text-align: left;font-weight: bold;\">Individual</th><th style=\"text-align: left;font-weight: bold;\">Disease</th><th style=\"text-align: left;font-weight: bold;\">Genotype</th><th style=\"text-align: left;font-weight: bold;\">Phenotypic features</th></tr>\n",
       "<tr><td style=\"text-align: left;\">A:II:3 (MALE; P42Y)</td><td style=\"text-align: left;\">Spastic paraplegia 91, autosomal dominant, with or without cerebellar ataxia (OMIM:620538)</td><td style=\"text-align: left;\">NM_001130438.3:c.6247_6249del (heterozygous)</td><td style=\"text-align: left;\">Dystonia (HP:0001332): onset ; Ataxia (HP:0001251): onset ; Intellectual disability (HP:0001249): onset ; Myoclonus (HP:0001336): onset ; Paroxysmal dyskinesia (HP:0007166): onset ; excluded: Pes cavus (HP:0001761): onset ; excluded: Seizure (HP:0001250): onset ; excluded: Peripheral axonal neuropathy (HP:0003477): onset ; excluded: Abnormal pyramidal sign (HP:0007256): onset ; excluded: Microcephaly (HP:0000252): onset ; excluded: Spastic paraplegia (HP:0001258): onset ; excluded: Proximal muscle weakness in lower limbs (HP:0008994): onset ; excluded: Distal lower limb muscle weakness (HP:0009053): onset ; excluded: Dysarthria (HP:0001260): onset </td></tr>\n",
       "<tr><td style=\"text-align: left;\">B:II:1 (FEMALE; P28Y)</td><td style=\"text-align: left;\">Spastic paraplegia 91, autosomal dominant, with or without cerebellar ataxia (OMIM:620538)</td><td style=\"text-align: left;\">NM_001130438.3:c.6247_6249del (heterozygous)</td><td style=\"text-align: left;\">Ataxia (HP:0001251): onset ; Abnormal pyramidal sign (HP:0007256): onset ; Intellectual disability (HP:0001249): onset ; excluded: Pes cavus (HP:0001761): onset ; excluded: Dystonia (HP:0001332): onset ; excluded: Seizure (HP:0001250): onset ; excluded: Peripheral axonal neuropathy (HP:0003477): onset ; excluded: Microcephaly (HP:0000252): onset ; excluded: Spastic paraplegia (HP:0001258): onset ; excluded: Proximal muscle weakness in lower limbs (HP:0008994): onset ; excluded: Distal lower limb muscle weakness (HP:0009053): onset ; excluded: Dysarthria (HP:0001260): onset </td></tr>\n",
       "<tr><td style=\"text-align: left;\">C:II:1 (MALE; P20Y)</td><td style=\"text-align: left;\">Spastic paraplegia 91, autosomal dominant, with or without cerebellar ataxia (OMIM:620538)</td><td style=\"text-align: left;\">NM_001130438.3:c.6247_6249del (heterozygous)</td><td style=\"text-align: left;\">Ataxia (HP:0001251): onset ; Intellectual disability (HP:0001249): onset ; excluded: Pes cavus (HP:0001761): onset ; excluded: Dystonia (HP:0001332): onset ; excluded: Seizure (HP:0001250): onset ; excluded: Peripheral axonal neuropathy (HP:0003477): onset ; excluded: Abnormal pyramidal sign (HP:0007256): onset ; excluded: Microcephaly (HP:0000252): onset ; excluded: Spastic paraplegia (HP:0001258): onset ; excluded: Proximal muscle weakness in lower limbs (HP:0008994): onset ; excluded: Distal lower limb muscle weakness (HP:0009053): onset ; excluded: Dysarthria (HP:0001260): onset </td></tr>\n",
       "<tr><td style=\"text-align: left;\">D:II:2 (MALE; P36Y)</td><td style=\"text-align: left;\">Spastic paraplegia 91, autosomal dominant, with or without cerebellar ataxia (OMIM:620538)</td><td style=\"text-align: left;\">NM_001130438.3:c.6247_6249del (heterozygous)</td><td style=\"text-align: left;\">Ataxia (HP:0001251): onset ; Abnormal pyramidal sign (HP:0007256): onset ; Dysarthria (HP:0001260): onset ; excluded: Pes cavus (HP:0001761): onset ; excluded: Dystonia (HP:0001332): onset ; excluded: Seizure (HP:0001250): onset ; excluded: Peripheral axonal neuropathy (HP:0003477): onset ; excluded: Microcephaly (HP:0000252): onset ; excluded: Intellectual disability (HP:0001249): onset ; excluded: Spastic paraplegia (HP:0001258): onset ; excluded: Proximal muscle weakness in lower limbs (HP:0008994): onset ; excluded: Distal lower limb muscle weakness (HP:0009053): onset </td></tr>\n",
       "<tr><td style=\"text-align: left;\">E:II:1 (FEMALE; P15Y)</td><td style=\"text-align: left;\">Spastic paraplegia 91, autosomal dominant, with or without cerebellar ataxia (OMIM:620538)</td><td style=\"text-align: left;\">NM_001130438.3:c.55C>T (heterozygous)</td><td style=\"text-align: left;\">Pes cavus (HP:0001761): onset ; Abnormal pyramidal sign (HP:0007256): onset ; Spastic paraplegia (HP:0001258): onset ; excluded: Dystonia (HP:0001332): onset ; excluded: Ataxia (HP:0001251): onset ; excluded: Seizure (HP:0001250): onset ; excluded: Peripheral axonal neuropathy (HP:0003477): onset ; excluded: Microcephaly (HP:0000252): onset ; excluded: Intellectual disability (HP:0001249): onset ; excluded: Proximal muscle weakness in lower limbs (HP:0008994): onset ; excluded: Distal lower limb muscle weakness (HP:0009053): onset ; excluded: Dysarthria (HP:0001260): onset </td></tr>\n",
       "</table>"
      ],
      "text/plain": [
       "<IPython.core.display.HTML object>"
      ]
     },
     "metadata": {},
     "output_type": "display_data"
    }
   ],
   "source": [
    "table = IndividualTable(individual_list)\n",
    "display(HTML(table.to_html(5)))"
   ]
  },
  {
   "cell_type": "code",
   "execution_count": 6,
   "id": "1c9f3cdd-7520-4348-87ed-df9305052dbe",
   "metadata": {},
   "outputs": [
    {
     "name": "stdout",
     "output_type": "stream",
     "text": [
      "[pyphetools] Ingested 85 GA4GH phenopackets.\n",
      "[INFO] Extracted 28 from 85 phenopackets with OMIM:620538\n",
      "\n",
      "\tSpastic paraplegia 91, autosomal dominant, with or without cerebellar ataxia (OMIM:620538): n=28\n",
      "We found a total of 25 unique HPO terms\n",
      "Extracted disease: Spastic paraplegia 91, autosomal dominant, with or without cerebellar ataxia (OMIM:620538)\n",
      "Wrote HPOA disease file to OMIM-620538.tab\n"
     ]
    }
   ],
   "source": [
    "pmid = \"PMID:35150594\"\n",
    "df = timporter.create_hpoa_from_phenopackets(pmid=pmid, mode_of_inheritance=Moi.AD, target=\"OMIM:620538\")"
   ]
  },
  {
   "cell_type": "code",
   "execution_count": null,
   "id": "94a895fc-8fa6-4311-aa86-8d4adbda386f",
   "metadata": {},
   "outputs": [],
   "source": []
  }
 ],
 "metadata": {
  "kernelspec": {
   "display_name": "ps24venv",
   "language": "python",
   "name": "python3"
  },
  "language_info": {
   "codemirror_mode": {
    "name": "ipython",
    "version": 3
   },
   "file_extension": ".py",
   "mimetype": "text/x-python",
   "name": "python",
   "nbconvert_exporter": "python",
   "pygments_lexer": "ipython3",
   "version": "3.12.8"
  }
 },
 "nbformat": 4,
 "nbformat_minor": 5
}
