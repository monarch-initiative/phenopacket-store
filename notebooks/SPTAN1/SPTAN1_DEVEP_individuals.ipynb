{
 "cells": [
  {
   "cell_type": "markdown",
   "id": "a3f89944-b1b8-4434-a5fe-7baff330ed22",
   "metadata": {},
   "source": [
    "# SPTAN1 Developmental delay with or without epilepsy \n",
    "Pathogenic variants in SPTAN1 are associated with several diseases including\n",
    "[Developmental delay with or without epilepsy-OMIM:620540](https://omim.org/entry/620540)."
   ]
  },
  {
   "cell_type": "code",
   "execution_count": 1,
   "id": "5c813f08-6e29-486c-b2de-4e29a754e922",
   "metadata": {},
   "outputs": [
    {
     "name": "stdout",
     "output_type": "stream",
     "text": [
      "Using pyphetools version 0.9.117\n"
     ]
    }
   ],
   "source": [
    "from pyphetools.creation import TemplateImporter, Moi\n",
    "from pyphetools.visualization import IndividualTable, QcVisualizer\n",
    "from IPython.display import display, HTML\n",
    "import pyphetools\n",
    "print(f\"Using pyphetools version {pyphetools.__version__}\")"
   ]
  },
  {
   "cell_type": "code",
   "execution_count": 2,
   "id": "a19f5f3f-0cd3-4a35-b1e5-479eb52e7cc5",
   "metadata": {},
   "outputs": [],
   "source": [
    "hp_json = \"../hp.json\"\n",
    "created_by = \"0000-0002-0736-9199\"\n",
    "template = \"input/SPTAN1_DEVEP_individuals.xlsx\""
   ]
  },
  {
   "cell_type": "code",
   "execution_count": 3,
   "id": "c1c0b38c-7f09-4a24-92be-a7231b8e384e",
   "metadata": {},
   "outputs": [
    {
     "name": "stdout",
     "output_type": "stream",
     "text": [
      "HPO version 2024-08-13\n",
      "Created encoders for 46 fields\n",
      "Importing OMIM:620540, Developmental delay with or without epilepsy, HGNC:11273, SPTAN1,  NM_001130438.3\n",
      "We output 21 GA4GH phenopackets to the directory phenopackets\n"
     ]
    }
   ],
   "source": [
    "deletions = {\"arr{hg38}9q34.11(128,609,213-128,613,675)x1\",\n",
    "                \"arr{hg38}9q34.11(128591376-128600369)x1\",\n",
    "                \"arr{hg38}9q34.11 (128,582,754-128,587,726)x1\",\n",
    "                \"arr{hg38}9q34.11 (128,587,422-128,600,316)x1\"}\n",
    "timporter = TemplateImporter(template=template, hp_json=hp_json, created_by=created_by)\n",
    "individual_list, cvalidator = timporter.import_phenopackets_from_template(deletions=deletions)"
   ]
  },
  {
   "cell_type": "code",
   "execution_count": 4,
   "id": "b4e717ad-4de2-4a62-9c15-8aacb0bbf617",
   "metadata": {},
   "outputs": [
    {
     "data": {
      "text/html": [
       "<h2>Cohort validation</h2>\n",
       "<p>Errors found with 21 of 21 phenopackets.</p>\n",
       "<table style=\"border: 2px solid black; align: \"left\">\n",
       "<caption>Error counts</caption>\n",
       "<tr><th style=\"text-align: left;font-weight: bold;\">Level</th><th style=\"text-align: left;font-weight: bold;\">Error category</th><th style=\"text-align: left;font-weight: bold;\">Count</th></tr>\n",
       "<tr><td style=\"text-align: left;\">ERROR</td><td style=\"text-align: left;\">CONFLICT</td><td style=\"text-align: left;\">2</td></tr>\n",
       "<tr><td style=\"text-align: left;\">WARNING</td><td style=\"text-align: left;\">REDUNDANT</td><td style=\"text-align: left;\">32</td></tr>\n",
       "</table>\n",
       "<p>A total of 34 issues were fixed and no individual was removed from the cohort.</p>"
      ],
      "text/plain": [
       "<IPython.core.display.HTML object>"
      ]
     },
     "metadata": {},
     "output_type": "display_data"
    }
   ],
   "source": [
    "qc = QcVisualizer(cohort_validator=cvalidator)\n",
    "display(HTML(qc.to_summary_html()))"
   ]
  },
  {
   "cell_type": "code",
   "execution_count": 5,
   "id": "c48227a6-b13c-42b5-9c6a-737875c25789",
   "metadata": {},
   "outputs": [
    {
     "data": {
      "text/html": [
       "<table style=\"border: 2px solid black; align: \"left\">\n",
       "<caption>21 phenopackets - PMID:29050398 (n=5); PMID:36331550 (n=16)</caption>\n",
       "<tr><th style=\"text-align: left;font-weight: bold;\">Individual</th><th style=\"text-align: left;font-weight: bold;\">Disease</th><th style=\"text-align: left;font-weight: bold;\">Genotype</th><th style=\"text-align: left;font-weight: bold;\">Phenotypic features</th></tr>\n",
       "<tr><td style=\"text-align: left;\">P1 (MALE; P4Y7M)</td><td style=\"text-align: left;\">Developmental delay with or without epilepsy (OMIM:620540)</td><td style=\"text-align: left;\">NM_001130438.3:c.533G>A (heterozygous)</td><td style=\"text-align: left;\">EEG with frontal focal spikes (HP:0012015): onset ; excluded: Myoclonic seizure (HP:0032794): onset ; excluded: Atonic seizure (HP:0010819): onset ; excluded: Focal impaired awareness seizure (HP:0002384): onset ; excluded: Generalized non-motor (absence) seizure (HP:0002121): onset ; excluded: Bilateral tonic-clonic seizure (HP:0002069): onset ; excluded: Infantile spasms (HP:0012469): onset ; excluded: Febrile seizure (within the age range of 3 months to 6 years) (HP:0002373): onset ; excluded: Multifocal epileptiform discharges (HP:0010841): onset ; excluded: EEG with polyspike wave complexes (HP:0002392): onset ; excluded: Intellectual disability (HP:0001249): onset ; excluded: Microcephaly (HP:0000252): onset ; excluded: Autistic behavior (HP:0000729): onset ; excluded: Hypotonia (HP:0001252): onset ; excluded: Spastic gait (HP:0002064): onset ; excluded: Lower limb hypertonia (HP:0006895): onset ; excluded: Lower limb hyperreflexia (HP:0002395): onset ; excluded: Attention deficit hyperactivity disorder (HP:0007018): onset ; excluded: Ataxia (HP:0001251): onset ; excluded: Cerebellar atrophy (HP:0001272): onset <br/><b>TimeElement(element=Age(iso8601duration=P3Y))</b>: Focal-onset seizure (HP:0007359): onset age {\n",
       "  iso8601duration: \"P3Y\"\n",
       "}\n",
       "</td></tr>\n",
       "<tr><td style=\"text-align: left;\">P2 (MALE; P18Y)</td><td style=\"text-align: left;\">Developmental delay with or without epilepsy (OMIM:620540)</td><td style=\"text-align: left;\">NM_001130438.3:c.917C>T (heterozygous)</td><td style=\"text-align: left;\">Multifocal epileptiform discharges (HP:0010841): onset ; Intellectual disability (HP:0001249): onset ; excluded: Focal impaired awareness seizure (HP:0002384): onset ; excluded: Generalized non-motor (absence) seizure (HP:0002121): onset ; excluded: Bilateral tonic-clonic seizure (HP:0002069): onset ; excluded: Infantile spasms (HP:0012469): onset ; excluded: Febrile seizure (within the age range of 3 months to 6 years) (HP:0002373): onset ; excluded: EEG with frontal focal spikes (HP:0012015): onset ; excluded: EEG with polyspike wave complexes (HP:0002392): onset ; excluded: Microcephaly (HP:0000252): onset ; excluded: Autistic behavior (HP:0000729): onset ; excluded: Hypotonia (HP:0001252): onset ; excluded: Spastic gait (HP:0002064): onset ; excluded: Lower limb hypertonia (HP:0006895): onset ; excluded: Lower limb hyperreflexia (HP:0002395): onset ; excluded: Attention deficit hyperactivity disorder (HP:0007018): onset ; excluded: Ataxia (HP:0001251): onset ; excluded: Cerebellar atrophy (HP:0001272): onset <br/><b>TimeElement(element=Age(iso8601duration=P2Y2M))</b>: Myoclonic seizure (HP:0032794): onset age {\n",
       "  iso8601duration: \"P2Y2M\"\n",
       "}\n",
       "; Atonic seizure (HP:0010819): onset age {\n",
       "  iso8601duration: \"P2Y2M\"\n",
       "}\n",
       "</td></tr>\n",
       "<tr><td style=\"text-align: left;\">P3 (MALE; P10Y)</td><td style=\"text-align: left;\">Developmental delay with or without epilepsy (OMIM:620540)</td><td style=\"text-align: left;\">NM_001130438.3:c.3716A>G (heterozygous)</td><td style=\"text-align: left;\">Intellectual disability (HP:0001249): onset ; Autistic behavior (HP:0000729): onset ; excluded: Myoclonic seizure (HP:0032794): onset ; excluded: Atonic seizure (HP:0010819): onset ; excluded: Focal impaired awareness seizure (HP:0002384): onset ; excluded: Generalized non-motor (absence) seizure (HP:0002121): onset ; excluded: Bilateral tonic-clonic seizure (HP:0002069): onset ; excluded: Infantile spasms (HP:0012469): onset ; excluded: Febrile seizure (within the age range of 3 months to 6 years) (HP:0002373): onset ; excluded: Microcephaly (HP:0000252): onset ; excluded: Hypotonia (HP:0001252): onset ; excluded: Spastic gait (HP:0002064): onset ; excluded: Lower limb hypertonia (HP:0006895): onset ; excluded: Lower limb hyperreflexia (HP:0002395): onset ; excluded: Attention deficit hyperactivity disorder (HP:0007018): onset ; excluded: Ataxia (HP:0001251): onset ; excluded: Cerebellar atrophy (HP:0001272): onset </td></tr>\n",
       "<tr><td style=\"text-align: left;\">P4 (MALE; P10Y)</td><td style=\"text-align: left;\">Developmental delay with or without epilepsy (OMIM:620540)</td><td style=\"text-align: left;\">NM_001130438.3:c.4828C>T (heterozygous)</td><td style=\"text-align: left;\">EEG with polyspike wave complexes (HP:0002392): onset ; Intellectual disability (HP:0001249): onset ; Autistic behavior (HP:0000729): onset ; Hypotonia (HP:0001252): onset ; Spastic gait (HP:0002064): onset ; Lower limb hypertonia (HP:0006895): onset ; Lower limb hyperreflexia (HP:0002395): onset ; Cerebellar atrophy (HP:0001272): onset ; excluded: Atonic seizure (HP:0010819): onset ; excluded: Focal impaired awareness seizure (HP:0002384): onset ; excluded: Generalized non-motor (absence) seizure (HP:0002121): onset ; excluded: Bilateral tonic-clonic seizure (HP:0002069): onset ; excluded: Infantile spasms (HP:0012469): onset ; excluded: Febrile seizure (within the age range of 3 months to 6 years) (HP:0002373): onset ; excluded: EEG with frontal focal spikes (HP:0012015): onset ; excluded: Multifocal epileptiform discharges (HP:0010841): onset ; excluded: Microcephaly (HP:0000252): onset ; excluded: Attention deficit hyperactivity disorder (HP:0007018): onset ; excluded: Ataxia (HP:0001251): onset <br/><b>TimeElement(element=Age(iso8601duration=P2Y))</b>: Myoclonic seizure (HP:0032794): onset age {\n",
       "  iso8601duration: \"P2Y\"\n",
       "}\n",
       "</td></tr>\n",
       "<tr><td style=\"text-align: left;\">P15 (MALE; P19Y)</td><td style=\"text-align: left;\">Developmental delay with or without epilepsy (OMIM:620540)</td><td style=\"text-align: left;\">NM_001130438.3:c.6908_6916del (heterozygous)</td><td style=\"text-align: left;\">EEG with frontal focal spikes (HP:0012015): onset ; Multifocal epileptiform discharges (HP:0010841): onset ; Intellectual disability (HP:0001249): onset ; Attention deficit hyperactivity disorder (HP:0007018): onset ; excluded: Myoclonic seizure (HP:0032794): onset ; excluded: Atonic seizure (HP:0010819): onset ; excluded: Generalized non-motor (absence) seizure (HP:0002121): onset ; excluded: Bilateral tonic-clonic seizure (HP:0002069): onset ; excluded: Infantile spasms (HP:0012469): onset ; excluded: EEG with polyspike wave complexes (HP:0002392): onset ; excluded: Microcephaly (HP:0000252): onset ; excluded: Autistic behavior (HP:0000729): onset ; excluded: Hypotonia (HP:0001252): onset ; excluded: Spastic gait (HP:0002064): onset ; excluded: Lower limb hypertonia (HP:0006895): onset ; excluded: Lower limb hyperreflexia (HP:0002395): onset ; excluded: Ataxia (HP:0001251): onset ; excluded: Cerebellar atrophy (HP:0001272): onset <br/><b>TimeElement(element=Age(iso8601duration=P1Y5M))</b>: Febrile seizure (within the age range of 3 months to 6 years) (HP:0002373): onset age {\n",
       "  iso8601duration: \"P1Y5M\"\n",
       "}\n",
       "<br/><b>TimeElement(element=Age(iso8601duration=P5Y))</b>: Focal impaired awareness seizure (HP:0002384): onset age {\n",
       "  iso8601duration: \"P5Y\"\n",
       "}\n",
       "</td></tr>\n",
       "</table>"
      ],
      "text/plain": [
       "<IPython.core.display.HTML object>"
      ]
     },
     "metadata": {},
     "output_type": "display_data"
    }
   ],
   "source": [
    "table = IndividualTable(cvalidator.get_error_free_individual_list())\n",
    "display(HTML(table.to_html(5)))"
   ]
  },
  {
   "cell_type": "code",
   "execution_count": 6,
   "id": "e0c5577b-a579-42a6-8340-6c3d6b7b7fa6",
   "metadata": {},
   "outputs": [
    {
     "name": "stdout",
     "output_type": "stream",
     "text": [
      "[pyphetools] Ingested 57 GA4GH phenopackets.\n",
      "[INFO] Extracted 21 from 57 phenopackets with OMIM:620540\n",
      "\n",
      "\tDevelopmental delay with or without epilepsy (OMIM:620540): n=21\n",
      "We found a total of 28 unique HPO terms\n",
      "Extracted disease: Developmental delay with or without epilepsy (OMIM:620540)\n",
      "Wrote HPOA disease file to OMIM-620540.tab\n"
     ]
    }
   ],
   "source": [
    "pmid = \"PMID:36331550\"\n",
    "df = timporter.create_hpoa_from_phenopackets(pmid=pmid, mode_of_inheritance=Moi.AD, target=\"OMIM:620540\")"
   ]
  },
  {
   "cell_type": "code",
   "execution_count": null,
   "id": "e807b5ac-1a7c-4aae-b7fb-9d952fa4888f",
   "metadata": {},
   "outputs": [],
   "source": []
  }
 ],
 "metadata": {
  "kernelspec": {
   "display_name": "ps24venv",
   "language": "python",
   "name": "python3"
  },
  "language_info": {
   "codemirror_mode": {
    "name": "ipython",
    "version": 3
   },
   "file_extension": ".py",
   "mimetype": "text/x-python",
   "name": "python",
   "nbconvert_exporter": "python",
   "pygments_lexer": "ipython3",
   "version": "3.12.8"
  }
 },
 "nbformat": 4,
 "nbformat_minor": 5
}
