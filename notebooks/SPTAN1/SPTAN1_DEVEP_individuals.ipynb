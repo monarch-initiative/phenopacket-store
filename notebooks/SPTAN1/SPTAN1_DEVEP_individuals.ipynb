{
 "cells": [
  {
   "cell_type": "markdown",
   "id": "a3f89944-b1b8-4434-a5fe-7baff330ed22",
   "metadata": {},
   "source": [
    "# SPTAN1 Developmental delay with or without epilepsy \n",
    "Pathogenic variants in SPTAN1 are associated with several diseases including\n",
    "[Developmental delay with or without epilepsy-OMIM:620540](https://omim.org/entry/620540)."
   ]
  },
  {
   "cell_type": "code",
   "execution_count": 1,
   "id": "5c813f08-6e29-486c-b2de-4e29a754e922",
   "metadata": {},
   "outputs": [
    {
     "name": "stdout",
     "output_type": "stream",
     "text": [
      "Using pyphetools version 0.9.72\n"
     ]
    }
   ],
   "source": [
    "from pyphetools.creation import TemplateImporter\n",
    "from pyphetools.visualization import IndividualTable, QcVisualizer\n",
    "from IPython.display import display, HTML\n",
    "import pyphetools\n",
    "print(f\"Using pyphetools version {pyphetools.__version__}\")"
   ]
  },
  {
   "cell_type": "code",
   "execution_count": 2,
   "id": "a19f5f3f-0cd3-4a35-b1e5-479eb52e7cc5",
   "metadata": {},
   "outputs": [],
   "source": [
    "hp_json = \"../hp.json\"\n",
    "created_by = \"0000-0002-0736-9199\"\n",
    "template = \"input/SPTAN1_DEVEP_individuals.xlsx\""
   ]
  },
  {
   "cell_type": "code",
   "execution_count": 3,
   "id": "c1c0b38c-7f09-4a24-92be-a7231b8e384e",
   "metadata": {},
   "outputs": [
    {
     "name": "stdout",
     "output_type": "stream",
     "text": [
      "HPO version 2024-03-06\n",
      "Created encoders for 45 fields\n",
      "Importing OMIM:620540, Developmental delay with or without epilepsy, HGNC:11273, SPTAN1,  NM_001130438.3\n",
      "We output 21 GA4GH phenopackets to the directory phenopackets\n"
     ]
    }
   ],
   "source": [
    "deletions = {\"arr{hg38}9q34.11(128,609,213-128,613,675)x1\",\n",
    "                \"arr{hg38}9q34.11(128591376-128600369)x1\",\n",
    "                \"arr{hg38}9q34.11 (128,582,754-128,587,726)x1\",\n",
    "                \"arr{hg38}9q34.11 (128,587,422-128,600,316)x1\"}\n",
    "timporter = TemplateImporter(template=template, hp_json=hp_json, created_by=created_by)\n",
    "individual_list, cvalidator = timporter.import_phenopackets_from_template(deletions=deletions)"
   ]
  },
  {
   "cell_type": "code",
   "execution_count": 4,
   "id": "b4e717ad-4de2-4a62-9c15-8aacb0bbf617",
   "metadata": {},
   "outputs": [
    {
     "data": {
      "text/html": [
       "<h2>Cohort validation</h2>\n",
       "<p>Errors found with 21 of 21 phenopackets.</p>\n",
       "<table style=\"border: 2px solid black; align: \"left\">\n",
       "<caption>Error counts</caption>\n",
       "<tr><th style=\"text-align: left;font-weight: bold;\">Level</th><th style=\"text-align: left;font-weight: bold;\">Error category</th><th style=\"text-align: left;font-weight: bold;\">Count</th></tr>\n",
       "<tr><td style=\"text-align: left;\">ERROR</td><td style=\"text-align: left;\">CONFLICT</td><td style=\"text-align: left;\">2</td></tr>\n",
       "<tr><td style=\"text-align: left;\">WARNING</td><td style=\"text-align: left;\">REDUNDANT</td><td style=\"text-align: left;\">32</td></tr>\n",
       "</table>\n",
       "<p>A total of 34 issues were fixed and no individual was removed from the cohort.</p>"
      ],
      "text/plain": [
       "<IPython.core.display.HTML object>"
      ]
     },
     "metadata": {},
     "output_type": "display_data"
    }
   ],
   "source": [
    "qc = QcVisualizer(cohort_validator=cvalidator)\n",
    "display(HTML(qc.to_summary_html()))"
   ]
  },
  {
   "cell_type": "code",
   "execution_count": 5,
   "id": "c48227a6-b13c-42b5-9c6a-737875c25789",
   "metadata": {},
   "outputs": [
    {
     "data": {
      "text/html": [
       "<table style=\"border: 2px solid black; align: \"left\">\n",
       "<caption>21 phenopackets - PMID:29050398 (n=5); PMID:36331550 (n=16)</caption>\n",
       "<tr><th style=\"text-align: left;font-weight: bold;\">Individual</th><th style=\"text-align: left;font-weight: bold;\">Disease</th><th style=\"text-align: left;font-weight: bold;\">Genotype</th><th style=\"text-align: left;font-weight: bold;\">Phenotypic features</th></tr>\n",
       "<tr><td style=\"text-align: left;\">P1 (MALE; P4Y7M)</td><td style=\"text-align: left;\">Developmental delay with or without epilepsy (OMIM:620540)</td><td style=\"text-align: left;\">NM_001130438.3:c.533G>A (heterozygous)</td><td style=\"text-align: left;\"><b>P3Y</b>: Focal-onset seizure (HP:0007359)<br/>EEG with frontal focal spikes (HP:0012015); excluded: Myoclonic seizure (HP:0032794); excluded: Atonic seizure (HP:0010819); excluded: Focal impaired awareness seizure (HP:0002384); excluded: Generalized non-motor (absence) seizure (HP:0002121); excluded: Bilateral tonic-clonic seizure (HP:0002069); excluded: Infantile spasms (HP:0012469); excluded: Febrile seizure (within the age range of 3 months to 6 years) (HP:0002373); excluded: Multifocal epileptiform discharges (HP:0010841); excluded: EEG with polyspike wave complexes (HP:0002392); excluded: Intellectual disability (HP:0001249); excluded: Microcephaly (HP:0000252); excluded: Autistic behavior (HP:0000729); excluded: Hypotonia (HP:0001252); excluded: Spastic gait (HP:0002064); excluded: Lower limb hypertonia (HP:0006895); excluded: Lower limb hyperreflexia (HP:0002395); excluded: Attention deficit hyperactivity disorder (HP:0007018); excluded: Ataxia (HP:0001251); excluded: Cerebellar atrophy (HP:0001272)</td></tr>\n",
       "<tr><td style=\"text-align: left;\">P2 (MALE; P18Y)</td><td style=\"text-align: left;\">Developmental delay with or without epilepsy (OMIM:620540)</td><td style=\"text-align: left;\">NM_001130438.3:c.917C>T (heterozygous)</td><td style=\"text-align: left;\"><b>P2Y2M</b>: Myoclonic seizure (HP:0032794); Atonic seizure (HP:0010819)<br/>Multifocal epileptiform discharges (HP:0010841); Intellectual disability (HP:0001249); excluded: Focal impaired awareness seizure (HP:0002384); excluded: Generalized non-motor (absence) seizure (HP:0002121); excluded: Bilateral tonic-clonic seizure (HP:0002069); excluded: Infantile spasms (HP:0012469); excluded: Febrile seizure (within the age range of 3 months to 6 years) (HP:0002373); excluded: EEG with frontal focal spikes (HP:0012015); excluded: EEG with polyspike wave complexes (HP:0002392); excluded: Microcephaly (HP:0000252); excluded: Autistic behavior (HP:0000729); excluded: Hypotonia (HP:0001252); excluded: Spastic gait (HP:0002064); excluded: Lower limb hypertonia (HP:0006895); excluded: Lower limb hyperreflexia (HP:0002395); excluded: Attention deficit hyperactivity disorder (HP:0007018); excluded: Ataxia (HP:0001251); excluded: Cerebellar atrophy (HP:0001272)</td></tr>\n",
       "<tr><td style=\"text-align: left;\">P3 (MALE; P10Y)</td><td style=\"text-align: left;\">Developmental delay with or without epilepsy (OMIM:620540)</td><td style=\"text-align: left;\">NM_001130438.3:c.3716A>G (heterozygous)</td><td style=\"text-align: left;\">Intellectual disability (HP:0001249); Autistic behavior (HP:0000729); excluded: Myoclonic seizure (HP:0032794); excluded: Atonic seizure (HP:0010819); excluded: Focal impaired awareness seizure (HP:0002384); excluded: Generalized non-motor (absence) seizure (HP:0002121); excluded: Bilateral tonic-clonic seizure (HP:0002069); excluded: Infantile spasms (HP:0012469); excluded: Febrile seizure (within the age range of 3 months to 6 years) (HP:0002373); excluded: Microcephaly (HP:0000252); excluded: Hypotonia (HP:0001252); excluded: Spastic gait (HP:0002064); excluded: Lower limb hypertonia (HP:0006895); excluded: Lower limb hyperreflexia (HP:0002395); excluded: Attention deficit hyperactivity disorder (HP:0007018); excluded: Ataxia (HP:0001251); excluded: Cerebellar atrophy (HP:0001272)</td></tr>\n",
       "<tr><td style=\"text-align: left;\">P4 (MALE; P10Y)</td><td style=\"text-align: left;\">Developmental delay with or without epilepsy (OMIM:620540)</td><td style=\"text-align: left;\">NM_001130438.3:c.4828C>T (heterozygous)</td><td style=\"text-align: left;\"><b>P2Y</b>: Myoclonic seizure (HP:0032794)<br/>EEG with polyspike wave complexes (HP:0002392); Intellectual disability (HP:0001249); Autistic behavior (HP:0000729); Hypotonia (HP:0001252); Spastic gait (HP:0002064); Lower limb hypertonia (HP:0006895); Lower limb hyperreflexia (HP:0002395); Cerebellar atrophy (HP:0001272); excluded: Atonic seizure (HP:0010819); excluded: Focal impaired awareness seizure (HP:0002384); excluded: Generalized non-motor (absence) seizure (HP:0002121); excluded: Bilateral tonic-clonic seizure (HP:0002069); excluded: Infantile spasms (HP:0012469); excluded: Febrile seizure (within the age range of 3 months to 6 years) (HP:0002373); excluded: EEG with frontal focal spikes (HP:0012015); excluded: Multifocal epileptiform discharges (HP:0010841); excluded: Microcephaly (HP:0000252); excluded: Attention deficit hyperactivity disorder (HP:0007018); excluded: Ataxia (HP:0001251)</td></tr>\n",
       "<tr><td style=\"text-align: left;\">P15 (MALE; P19Y)</td><td style=\"text-align: left;\">Developmental delay with or without epilepsy (OMIM:620540)</td><td style=\"text-align: left;\">NM_001130438.3:c.6908_6916del (heterozygous)</td><td style=\"text-align: left;\"><b>P1Y5M</b>: Febrile seizure (within the age range of 3 months to 6 years) (HP:0002373)<br/><b>P5Y</b>: Focal impaired awareness seizure (HP:0002384)<br/>EEG with frontal focal spikes (HP:0012015); Multifocal epileptiform discharges (HP:0010841); Intellectual disability (HP:0001249); Attention deficit hyperactivity disorder (HP:0007018); excluded: Myoclonic seizure (HP:0032794); excluded: Atonic seizure (HP:0010819); excluded: Generalized non-motor (absence) seizure (HP:0002121); excluded: Bilateral tonic-clonic seizure (HP:0002069); excluded: Infantile spasms (HP:0012469); excluded: EEG with polyspike wave complexes (HP:0002392); excluded: Microcephaly (HP:0000252); excluded: Autistic behavior (HP:0000729); excluded: Hypotonia (HP:0001252); excluded: Spastic gait (HP:0002064); excluded: Lower limb hypertonia (HP:0006895); excluded: Lower limb hyperreflexia (HP:0002395); excluded: Ataxia (HP:0001251); excluded: Cerebellar atrophy (HP:0001272)</td></tr>\n",
       "<tr><td style=\"text-align: left;\">Family 9 Patient 11 (MALE; P19Y)</td><td style=\"text-align: left;\">Developmental delay with or without epilepsy (OMIM:620540)</td><td style=\"text-align: left;\">arr{hg38}9q34.11(128,609,213-128,613,675)x1: chromosomal_deletion (SO:1000029)</td><td style=\"text-align: left;\">Febrile seizure (within the age range of 3 months to 6 years) (HP:0002373); Intellectual disability (HP:0001249); Motor delay (HP:0001270); Delayed speech and language development (HP:0000750); Ataxia (HP:0001251); Strabismus (HP:0000486); Cerebellar atrophy (HP:0001272); excluded: Myoclonic seizure (HP:0032794); excluded: Atonic seizure (HP:0010819); excluded: Focal impaired awareness seizure (HP:0002384); excluded: Generalized non-motor (absence) seizure (HP:0002121); excluded: Bilateral tonic-clonic seizure (HP:0002069); excluded: Infantile spasms (HP:0012469); excluded: Microcephaly (HP:0000252); excluded: Hypotonia (HP:0001252); excluded: Lower limb hypertonia (HP:0006895); excluded: Lower limb hyperreflexia (HP:0002395); excluded: Lower limb muscle weakness (HP:0007340); excluded: Attention deficit hyperactivity disorder (HP:0007018); excluded: Spasticity (HP:0001257); excluded: Nystagmus (HP:0000639)</td></tr>\n",
       "<tr><td style=\"text-align: left;\">Family 10 Patient 12 (MALE; P9Y)</td><td style=\"text-align: left;\">Developmental delay with or without epilepsy (OMIM:620540)</td><td style=\"text-align: left;\">NM_001130438.3:c.4458del (heterozygous)</td><td style=\"text-align: left;\">Intellectual disability (HP:0001249); Delayed speech and language development (HP:0000750); Attention deficit hyperactivity disorder (HP:0007018); excluded: Myoclonic seizure (HP:0032794); excluded: Atonic seizure (HP:0010819); excluded: Focal impaired awareness seizure (HP:0002384); excluded: Generalized non-motor (absence) seizure (HP:0002121); excluded: Bilateral tonic-clonic seizure (HP:0002069); excluded: Infantile spasms (HP:0012469); excluded: Febrile seizure (within the age range of 3 months to 6 years) (HP:0002373); excluded: Motor delay (HP:0001270); excluded: Microcephaly (HP:0000252); excluded: Hypotonia (HP:0001252); excluded: Lower limb hypertonia (HP:0006895); excluded: Lower limb hyperreflexia (HP:0002395); excluded: Lower limb muscle weakness (HP:0007340); excluded: Ataxia (HP:0001251); excluded: Spasticity (HP:0001257); excluded: Strabismus (HP:0000486); excluded: Nystagmus (HP:0000639)</td></tr>\n",
       "<tr><td style=\"text-align: left;\">Family 10 Patient 13 (MALE; P7Y)</td><td style=\"text-align: left;\">Developmental delay with or without epilepsy (OMIM:620540)</td><td style=\"text-align: left;\">NM_001130438.3:c.4458del (heterozygous)</td><td style=\"text-align: left;\">Intellectual disability (HP:0001249); Delayed speech and language development (HP:0000750); excluded: Myoclonic seizure (HP:0032794); excluded: Atonic seizure (HP:0010819); excluded: Focal impaired awareness seizure (HP:0002384); excluded: Generalized non-motor (absence) seizure (HP:0002121); excluded: Bilateral tonic-clonic seizure (HP:0002069); excluded: Infantile spasms (HP:0012469); excluded: Febrile seizure (within the age range of 3 months to 6 years) (HP:0002373); excluded: Motor delay (HP:0001270); excluded: Microcephaly (HP:0000252); excluded: Hypotonia (HP:0001252); excluded: Lower limb hypertonia (HP:0006895); excluded: Lower limb hyperreflexia (HP:0002395); excluded: Lower limb muscle weakness (HP:0007340); excluded: Attention deficit hyperactivity disorder (HP:0007018); excluded: Ataxia (HP:0001251); excluded: Spasticity (HP:0001257); excluded: Strabismus (HP:0000486); excluded: Nystagmus (HP:0000639)</td></tr>\n",
       "<tr><td style=\"text-align: left;\">Family 10 Patient 14 (FEMALE; P26Y)</td><td style=\"text-align: left;\">Developmental delay with or without epilepsy (OMIM:620540)</td><td style=\"text-align: left;\">NM_001130438.3:c.4458del (heterozygous)</td><td style=\"text-align: left;\">excluded: Myoclonic seizure (HP:0032794); excluded: Atonic seizure (HP:0010819); excluded: Focal impaired awareness seizure (HP:0002384); excluded: Generalized non-motor (absence) seizure (HP:0002121); excluded: Bilateral tonic-clonic seizure (HP:0002069); excluded: Infantile spasms (HP:0012469); excluded: Febrile seizure (within the age range of 3 months to 6 years) (HP:0002373); excluded: Intellectual disability (HP:0001249); excluded: Motor delay (HP:0001270); excluded: Delayed speech and language development (HP:0000750); excluded: Hypotonia (HP:0001252); excluded: Lower limb hypertonia (HP:0006895); excluded: Lower limb hyperreflexia (HP:0002395); excluded: Lower limb muscle weakness (HP:0007340); excluded: Attention deficit hyperactivity disorder (HP:0007018); excluded: Ataxia (HP:0001251); excluded: Spasticity (HP:0001257); excluded: Strabismus (HP:0000486); excluded: Nystagmus (HP:0000639)</td></tr>\n",
       "<tr><td style=\"text-align: left;\">Family 11 Patient 15 (MALE; P13Y)</td><td style=\"text-align: left;\">Developmental delay with or without epilepsy (OMIM:620540)</td><td style=\"text-align: left;\">NM_001130438.3:c.2197C>T (heterozygous)</td><td style=\"text-align: left;\">Intellectual disability (HP:0001249); excluded: Myoclonic seizure (HP:0032794); excluded: Atonic seizure (HP:0010819); excluded: Focal impaired awareness seizure (HP:0002384); excluded: Generalized non-motor (absence) seizure (HP:0002121); excluded: Bilateral tonic-clonic seizure (HP:0002069); excluded: Infantile spasms (HP:0012469); excluded: Febrile seizure (within the age range of 3 months to 6 years) (HP:0002373); excluded: Motor delay (HP:0001270); excluded: Delayed speech and language development (HP:0000750); excluded: Microcephaly (HP:0000252); excluded: Hypotonia (HP:0001252); excluded: Lower limb hypertonia (HP:0006895); excluded: Lower limb hyperreflexia (HP:0002395); excluded: Lower limb muscle weakness (HP:0007340); excluded: Attention deficit hyperactivity disorder (HP:0007018); excluded: Ataxia (HP:0001251); excluded: Spasticity (HP:0001257); excluded: Strabismus (HP:0000486); excluded: Nystagmus (HP:0000639)</td></tr>\n",
       "<tr><td style=\"text-align: left;\">Family 12 Patient 16 (MALE; P2Y)</td><td style=\"text-align: left;\">Developmental delay with or without epilepsy (OMIM:620540)</td><td style=\"text-align: left;\">NM_001130438.3:c.4936C>T (heterozygous)</td><td style=\"text-align: left;\">Intellectual disability (HP:0001249); Motor delay (HP:0001270); Delayed speech and language development (HP:0000750); Microcephaly (HP:0000252); excluded: Myoclonic seizure (HP:0032794); excluded: Atonic seizure (HP:0010819); excluded: Focal impaired awareness seizure (HP:0002384); excluded: Generalized non-motor (absence) seizure (HP:0002121); excluded: Bilateral tonic-clonic seizure (HP:0002069); excluded: Infantile spasms (HP:0012469); excluded: Febrile seizure (within the age range of 3 months to 6 years) (HP:0002373); excluded: EEG with frontal focal spikes (HP:0012015); excluded: Multifocal epileptiform discharges (HP:0010841); excluded: EEG with polyspike wave complexes (HP:0002392); excluded: Hypotonia (HP:0001252); excluded: Lower limb hypertonia (HP:0006895); excluded: Lower limb hyperreflexia (HP:0002395); excluded: Lower limb muscle weakness (HP:0007340); excluded: Attention deficit hyperactivity disorder (HP:0007018); excluded: Ataxia (HP:0001251); excluded: Spasticity (HP:0001257); excluded: Strabismus (HP:0000486); excluded: Nystagmus (HP:0000639)</td></tr>\n",
       "<tr><td style=\"text-align: left;\">Family 13 Patient 17 (MALE; P2Y)</td><td style=\"text-align: left;\">Developmental delay with or without epilepsy (OMIM:620540)</td><td style=\"text-align: left;\">NM_001130438.3:c.1879C>T (heterozygous)</td><td style=\"text-align: left;\">Intellectual disability (HP:0001249); Motor delay (HP:0001270); Delayed speech and language development (HP:0000750); Lower limb muscle weakness (HP:0007340); Ataxia (HP:0001251); Nystagmus (HP:0000639); Cerebellar atrophy (HP:0001272); excluded: Myoclonic seizure (HP:0032794); excluded: Atonic seizure (HP:0010819); excluded: Focal impaired awareness seizure (HP:0002384); excluded: Generalized non-motor (absence) seizure (HP:0002121); excluded: Bilateral tonic-clonic seizure (HP:0002069); excluded: Infantile spasms (HP:0012469); excluded: Febrile seizure (within the age range of 3 months to 6 years) (HP:0002373); excluded: Microcephaly (HP:0000252); excluded: Hypotonia (HP:0001252); excluded: Lower limb hypertonia (HP:0006895); excluded: Lower limb hyperreflexia (HP:0002395); excluded: Attention deficit hyperactivity disorder (HP:0007018); excluded: Strabismus (HP:0000486)</td></tr>\n",
       "<tr><td style=\"text-align: left;\">Family 13 Patient 18 (FEMALE; P32Y)</td><td style=\"text-align: left;\">Developmental delay with or without epilepsy (OMIM:620540)</td><td style=\"text-align: left;\">NM_001130438.3:c.1879C>T (heterozygous)</td><td style=\"text-align: left;\">Motor delay (HP:0001270); Lower limb muscle weakness (HP:0007340); Ataxia (HP:0001251); Nystagmus (HP:0000639); Cerebellar atrophy (HP:0001272); excluded: Myoclonic seizure (HP:0032794); excluded: Atonic seizure (HP:0010819); excluded: Focal impaired awareness seizure (HP:0002384); excluded: Generalized non-motor (absence) seizure (HP:0002121); excluded: Bilateral tonic-clonic seizure (HP:0002069); excluded: Infantile spasms (HP:0012469); excluded: Febrile seizure (within the age range of 3 months to 6 years) (HP:0002373); excluded: EEG with frontal focal spikes (HP:0012015); excluded: Multifocal epileptiform discharges (HP:0010841); excluded: EEG with polyspike wave complexes (HP:0002392); excluded: Intellectual disability (HP:0001249); excluded: Microcephaly (HP:0000252); excluded: Hypotonia (HP:0001252); excluded: Lower limb hypertonia (HP:0006895); excluded: Lower limb hyperreflexia (HP:0002395); excluded: Attention deficit hyperactivity disorder (HP:0007018); excluded: Strabismus (HP:0000486)</td></tr>\n",
       "<tr><td style=\"text-align: left;\">Family 14 Patient 19 (FEMALE; P2Y)</td><td style=\"text-align: left;\">Developmental delay with or without epilepsy (OMIM:620540)</td><td style=\"text-align: left;\">arr{hg38}9q34.11(128591376-128600369)x1: chromosomal_deletion (SO:1000029)</td><td style=\"text-align: left;\">Motor delay (HP:0001270); Delayed speech and language development (HP:0000750); Strabismus (HP:0000486); excluded: Myoclonic seizure (HP:0032794); excluded: Atonic seizure (HP:0010819); excluded: Focal impaired awareness seizure (HP:0002384); excluded: Generalized non-motor (absence) seizure (HP:0002121); excluded: Bilateral tonic-clonic seizure (HP:0002069); excluded: Infantile spasms (HP:0012469); excluded: Febrile seizure (within the age range of 3 months to 6 years) (HP:0002373); excluded: Microcephaly (HP:0000252); excluded: Hypotonia (HP:0001252); excluded: Lower limb hypertonia (HP:0006895); excluded: Lower limb hyperreflexia (HP:0002395); excluded: Lower limb muscle weakness (HP:0007340); excluded: Attention deficit hyperactivity disorder (HP:0007018); excluded: Ataxia (HP:0001251); excluded: Spasticity (HP:0001257); excluded: Nystagmus (HP:0000639)</td></tr>\n",
       "<tr><td style=\"text-align: left;\">Family 15 Patient 20 (MALE; P6Y)</td><td style=\"text-align: left;\">Developmental delay with or without epilepsy (OMIM:620540)</td><td style=\"text-align: left;\">NM_001130438.3:c.2612del (heterozygous)</td><td style=\"text-align: left;\">Febrile seizure (within the age range of 3 months to 6 years) (HP:0002373); Motor delay (HP:0001270); Delayed speech and language development (HP:0000750); excluded: Myoclonic seizure (HP:0032794); excluded: Atonic seizure (HP:0010819); excluded: Focal impaired awareness seizure (HP:0002384); excluded: Generalized non-motor (absence) seizure (HP:0002121); excluded: Bilateral tonic-clonic seizure (HP:0002069); excluded: Infantile spasms (HP:0012469); excluded: EEG with frontal focal spikes (HP:0012015); excluded: Multifocal epileptiform discharges (HP:0010841); excluded: EEG with polyspike wave complexes (HP:0002392); excluded: Intellectual disability (HP:0001249); excluded: Microcephaly (HP:0000252); excluded: Hypotonia (HP:0001252); excluded: Lower limb hypertonia (HP:0006895); excluded: Lower limb hyperreflexia (HP:0002395); excluded: Lower limb muscle weakness (HP:0007340); excluded: Attention deficit hyperactivity disorder (HP:0007018); excluded: Ataxia (HP:0001251); excluded: Spasticity (HP:0001257); excluded: Strabismus (HP:0000486); excluded: Nystagmus (HP:0000639)</td></tr>\n",
       "<tr><td style=\"text-align: left;\">Family 16 Patient 21 (FEMALE; P8Y)</td><td style=\"text-align: left;\">Developmental delay with or without epilepsy (OMIM:620540)</td><td style=\"text-align: left;\">NM_001130438.3:c.1127G>A (heterozygous)</td><td style=\"text-align: left;\">Delayed speech and language development (HP:0000750); Microcephaly (HP:0000252); excluded: Myoclonic seizure (HP:0032794); excluded: Atonic seizure (HP:0010819); excluded: Focal impaired awareness seizure (HP:0002384); excluded: Generalized non-motor (absence) seizure (HP:0002121); excluded: Bilateral tonic-clonic seizure (HP:0002069); excluded: Infantile spasms (HP:0012469); excluded: Febrile seizure (within the age range of 3 months to 6 years) (HP:0002373); excluded: Intellectual disability (HP:0001249); excluded: Motor delay (HP:0001270); excluded: Hypotonia (HP:0001252); excluded: Lower limb hypertonia (HP:0006895); excluded: Lower limb hyperreflexia (HP:0002395); excluded: Lower limb muscle weakness (HP:0007340); excluded: Attention deficit hyperactivity disorder (HP:0007018); excluded: Ataxia (HP:0001251); excluded: Spasticity (HP:0001257); excluded: Strabismus (HP:0000486); excluded: Nystagmus (HP:0000639); excluded: Cerebellar atrophy (HP:0001272)</td></tr>\n",
       "<tr><td style=\"text-align: left;\">Family 17 Patient 22 (MALE; P9Y)</td><td style=\"text-align: left;\">Developmental delay with or without epilepsy (OMIM:620540)</td><td style=\"text-align: left;\">NM_001130438.3:c.4390C>T (heterozygous)</td><td style=\"text-align: left;\"><b>P3Y</b>: Myoclonic seizure (HP:0032794); Febrile seizure (within the age range of 3 months to 6 years) (HP:0002373)<br/>Intellectual disability (HP:0001249); Motor delay (HP:0001270); Delayed speech and language development (HP:0000750); Microcephaly (HP:0000252); Ataxia (HP:0001251); excluded: Atonic seizure (HP:0010819); excluded: Focal impaired awareness seizure (HP:0002384); excluded: Generalized non-motor (absence) seizure (HP:0002121); excluded: Bilateral tonic-clonic seizure (HP:0002069); excluded: Infantile spasms (HP:0012469); excluded: Hypotonia (HP:0001252); excluded: Lower limb hypertonia (HP:0006895); excluded: Lower limb hyperreflexia (HP:0002395); excluded: Attention deficit hyperactivity disorder (HP:0007018); excluded: Strabismus (HP:0000486); excluded: Nystagmus (HP:0000639)</td></tr>\n",
       "<tr><td style=\"text-align: left;\">Family 18 Patient 23 (FEMALE; P5Y)</td><td style=\"text-align: left;\">Developmental delay with or without epilepsy (OMIM:620540)</td><td style=\"text-align: left;\">arr{hg38}9q34.11 (128,582,754-128,587,726)x1: chromosomal_deletion (SO:1000029)</td><td style=\"text-align: left;\"><b>P2Y</b>: Seizure (HP:0001250)<br/>Intellectual disability (HP:0001249); Motor delay (HP:0001270); Delayed speech and language development (HP:0000750); Hypotonia (HP:0001252); Ataxia (HP:0001251); Strabismus (HP:0000486); Cerebellar atrophy (HP:0001272); excluded: Myoclonic seizure (HP:0032794); excluded: Atonic seizure (HP:0010819); excluded: Focal impaired awareness seizure (HP:0002384); excluded: Generalized non-motor (absence) seizure (HP:0002121); excluded: Bilateral tonic-clonic seizure (HP:0002069); excluded: Infantile spasms (HP:0012469); excluded: Febrile seizure (within the age range of 3 months to 6 years) (HP:0002373); excluded: Microcephaly (HP:0000252); excluded: Lower limb hypertonia (HP:0006895); excluded: Lower limb hyperreflexia (HP:0002395); excluded: Lower limb muscle weakness (HP:0007340); excluded: Attention deficit hyperactivity disorder (HP:0007018); excluded: Spasticity (HP:0001257); excluded: Nystagmus (HP:0000639)</td></tr>\n",
       "<tr><td style=\"text-align: left;\">Family 19 Patient 24 (MALE; P10Y)</td><td style=\"text-align: left;\">Developmental delay with or without epilepsy (OMIM:620540)</td><td style=\"text-align: left;\">NM_001130438.3:c.6611G>A (heterozygous)</td><td style=\"text-align: left;\"><b>P5Y</b>: Myoclonic seizure (HP:0032794); Generalized non-motor (absence) seizure (HP:0002121)<br/>Intellectual disability (HP:0001249); Motor delay (HP:0001270); Delayed speech and language development (HP:0000750); excluded: Atonic seizure (HP:0010819); excluded: Focal impaired awareness seizure (HP:0002384); excluded: Bilateral tonic-clonic seizure (HP:0002069); excluded: Infantile spasms (HP:0012469); excluded: Febrile seizure (within the age range of 3 months to 6 years) (HP:0002373); excluded: Microcephaly (HP:0000252); excluded: Hypotonia (HP:0001252); excluded: Lower limb hypertonia (HP:0006895); excluded: Lower limb hyperreflexia (HP:0002395); excluded: Lower limb muscle weakness (HP:0007340); excluded: Attention deficit hyperactivity disorder (HP:0007018); excluded: Ataxia (HP:0001251); excluded: Spasticity (HP:0001257); excluded: Strabismus (HP:0000486); excluded: Nystagmus (HP:0000639); excluded: Cerebellar atrophy (HP:0001272)</td></tr>\n",
       "<tr><td style=\"text-align: left;\">Family 20 Patient 25 (MALE; P9Y)</td><td style=\"text-align: left;\">Developmental delay with or without epilepsy (OMIM:620540)</td><td style=\"text-align: left;\">NM_001130438.3:c.4476del (heterozygous)</td><td style=\"text-align: left;\"><b>P6Y</b>: Generalized non-motor (absence) seizure (HP:0002121); Bilateral tonic-clonic seizure (HP:0002069)<br/>EEG with polyspike wave complexes (HP:0002392); Intellectual disability (HP:0001249); Delayed speech and language development (HP:0000750); Attention deficit hyperactivity disorder (HP:0007018); excluded: Myoclonic seizure (HP:0032794); excluded: Atonic seizure (HP:0010819); excluded: Focal impaired awareness seizure (HP:0002384); excluded: Infantile spasms (HP:0012469); excluded: Febrile seizure (within the age range of 3 months to 6 years) (HP:0002373); excluded: EEG with frontal focal spikes (HP:0012015); excluded: Multifocal epileptiform discharges (HP:0010841); excluded: Motor delay (HP:0001270); excluded: Microcephaly (HP:0000252); excluded: Hypotonia (HP:0001252); excluded: Lower limb hypertonia (HP:0006895); excluded: Lower limb hyperreflexia (HP:0002395); excluded: Lower limb muscle weakness (HP:0007340); excluded: Ataxia (HP:0001251); excluded: Spasticity (HP:0001257); excluded: Strabismus (HP:0000486); excluded: Nystagmus (HP:0000639); excluded: Cerebellar atrophy (HP:0001272)</td></tr>\n",
       "<tr><td style=\"text-align: left;\">Family 21 Patient 26 (MALE; P8Y)</td><td style=\"text-align: left;\">Developmental delay with or without epilepsy (OMIM:620540)</td><td style=\"text-align: left;\">arr{hg38}9q34.11 (128,587,422-128,600,316)x1: chromosomal_deletion (SO:1000029)</td><td style=\"text-align: left;\"><b>P3M</b>: Infantile spasms (HP:0012469)<br/>Intellectual disability (HP:0001249); Motor delay (HP:0001270); Delayed speech and language development (HP:0000750); Microcephaly (HP:0000252); Hypotonia (HP:0001252); excluded: Myoclonic seizure (HP:0032794); excluded: Atonic seizure (HP:0010819); excluded: Focal impaired awareness seizure (HP:0002384); excluded: Generalized non-motor (absence) seizure (HP:0002121); excluded: Bilateral tonic-clonic seizure (HP:0002069); excluded: Febrile seizure (within the age range of 3 months to 6 years) (HP:0002373); excluded: EEG with frontal focal spikes (HP:0012015); excluded: Multifocal epileptiform discharges (HP:0010841); excluded: EEG with polyspike wave complexes (HP:0002392); excluded: Lower limb hypertonia (HP:0006895); excluded: Lower limb hyperreflexia (HP:0002395); excluded: Lower limb muscle weakness (HP:0007340); excluded: Attention deficit hyperactivity disorder (HP:0007018); excluded: Ataxia (HP:0001251); excluded: Spasticity (HP:0001257); excluded: Strabismus (HP:0000486); excluded: Nystagmus (HP:0000639); excluded: Cerebellar atrophy (HP:0001272)</td></tr>\n",
       "</table>"
      ],
      "text/plain": [
       "<IPython.core.display.HTML object>"
      ]
     },
     "metadata": {},
     "output_type": "display_data"
    }
   ],
   "source": [
    "table = IndividualTable(cvalidator.get_error_free_individual_list())\n",
    "display(HTML(table.to_html()))"
   ]
  },
  {
   "cell_type": "code",
   "execution_count": 8,
   "id": "e0c5577b-a579-42a6-8340-6c3d6b7b7fa6",
   "metadata": {},
   "outputs": [
    {
     "name": "stdout",
     "output_type": "stream",
     "text": [
      "[pyphetools] Ingested 85 GA4GH phenopackets.\n",
      "[INFO] Extracted 21 from 85 phenopackets with OMIM:620540\n",
      "\n",
      "\tDevelopmental delay with or without epilepsy (OMIM:620540): n=21\n",
      "We found a total of 28 unique HPO terms\n",
      "Extracted disease: Developmental delay with or without epilepsy (OMIM:620540)\n",
      "Wrote HPOA disease file to OMIM-620540.tab\n"
     ]
    }
   ],
   "source": [
    "pmid = \"PMID:36331550\"\n",
    "df = timporter.create_hpoa_from_phenopackets(pmid=pmid, moi=\"Autosomal dominant\", target=\"OMIM:620540\")"
   ]
  },
  {
   "cell_type": "code",
   "execution_count": null,
   "id": "e807b5ac-1a7c-4aae-b7fb-9d952fa4888f",
   "metadata": {},
   "outputs": [],
   "source": []
  }
 ],
 "metadata": {
  "kernelspec": {
   "display_name": "ps24venv",
   "language": "python",
   "name": "ps24venv"
  },
  "language_info": {
   "codemirror_mode": {
    "name": "ipython",
    "version": 3
   },
   "file_extension": ".py",
   "mimetype": "text/x-python",
   "name": "python",
   "nbconvert_exporter": "python",
   "pygments_lexer": "ipython3",
   "version": "3.8.10"
  }
 },
 "nbformat": 4,
 "nbformat_minor": 5
}
