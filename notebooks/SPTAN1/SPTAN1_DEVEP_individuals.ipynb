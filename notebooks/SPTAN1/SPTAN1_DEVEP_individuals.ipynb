{
 "cells": [
  {
   "cell_type": "markdown",
   "id": "a3f89944-b1b8-4434-a5fe-7baff330ed22",
   "metadata": {},
   "source": [
    "# SPTAN1 Developmental delay with or without epilepsy \n",
    "Pathogenic variants in SPTAN1 are associated with several diseases including\n",
    "[Developmental delay with or without epilepsy-OMIM:620540](https://omim.org/entry/620540)."
   ]
  },
  {
   "cell_type": "code",
   "execution_count": 1,
   "id": "a19f5f3f-0cd3-4a35-b1e5-479eb52e7cc5",
   "metadata": {},
   "outputs": [
    {
     "name": "stdout",
     "output_type": "stream",
     "text": [
      "HPO version 2024-02-27\n",
      "Created encoders for 45 fields\n",
      " we got OMIM:620540  NM_001130438.3\n",
      "We output 21 GA4GH phenopackets to the directory phenopackets\n"
     ]
    }
   ],
   "source": [
    "from pyphetools.creation import import_phenopackets_from_template, create_hpoa_from_phenopackets\n",
    "template = \"input/SPTAN1_DEVEP_individuals.xlsx\"\n",
    "hpjson = \"../hp.json\"\n",
    "# individuals, cvalidator = import_phenopackets_from_template(template, hpjson)\n",
    "# The above line will initially lead to a warning that we need to add four deletions manually\n",
    "# The following lines do this -- note the additional argument\n",
    "deletions = {\"arr{hg38}9q34.11(128,609,213-128,613,675)x1\",\n",
    "                \"arr{hg38}9q34.11(128591376-128600369)x1\",\n",
    "                \"arr{hg38}9q34.11 (128,582,754-128,587,726)x1\",\n",
    "                \"arr{hg38}9q34.11 (128,587,422-128,600,316)x1\"}\n",
    "individuals, cvalidator = import_phenopackets_from_template(template, hpjson, deletions=deletions)"
   ]
  },
  {
   "cell_type": "code",
   "execution_count": 2,
   "id": "b4e717ad-4de2-4a62-9c15-8aacb0bbf617",
   "metadata": {},
   "outputs": [
    {
     "data": {
      "text/html": [
       "<h2>Cohort validation</h2>\n",
       "<p>Errors found with 21 of 21 phenopackets.</p>\n",
       "<table style=\"border: 2px solid black; align: \"left\">\n",
       "<caption>Error counts</caption>\n",
       "<tr><th style=\"text-align: left;font-weight: bold;\">Level</th><th style=\"text-align: left;font-weight: bold;\">Error category</th><th style=\"text-align: left;font-weight: bold;\">Count</th></tr>\n",
       "<tr><td style=\"text-align: left;\">ERROR</td><td style=\"text-align: left;\">CONFLICT</td><td style=\"text-align: left;\">2</td></tr>\n",
       "<tr><td style=\"text-align: left;\">WARNING</td><td style=\"text-align: left;\">REDUNDANT</td><td style=\"text-align: left;\">32</td></tr>\n",
       "</table>\n",
       "<p>A total of 34 issues were fixed and no individual was removed from the cohort.</p>"
      ],
      "text/plain": [
       "<IPython.core.display.HTML object>"
      ]
     },
     "metadata": {},
     "output_type": "display_data"
    }
   ],
   "source": [
    "### Here, we begin QC and display\n",
    "from pyphetools.visualization import IndividualTable, QcVisualizer\n",
    "from IPython.display import display, HTML\n",
    "qc = QcVisualizer(cohort_validator=cvalidator)\n",
    "display(HTML(qc.to_summary_html()))"
   ]
  },
  {
   "cell_type": "code",
   "execution_count": 3,
   "id": "c48227a6-b13c-42b5-9c6a-737875c25789",
   "metadata": {},
   "outputs": [
    {
     "data": {
      "text/html": [
       "<table style=\"border: 2px solid black; align: \"left\">\n",
       "<caption>21 phenopackets - PMID:29050398 (n=5); PMID:36331550 (n=16)</caption>\n",
       "<tr><th style=\"text-align: left;font-weight: bold;\">Individual</th><th style=\"text-align: left;font-weight: bold;\">Disease</th><th style=\"text-align: left;font-weight: bold;\">Genotype</th><th style=\"text-align: left;font-weight: bold;\">Phenotypic features</th></tr>\n",
       "<tr><td style=\"text-align: left;\">P1 (MALE; P4Y7M)</td><td style=\"text-align: left;\">Developmental delay with or without epilepsy (OMIM:620540)</td><td style=\"text-align: left;\">NM_001130438.3:c.533G>A (heterozygous)</td><td style=\"text-align: left;\"><b>P3Y</b>: Focal-onset seizure (HP:0007359)<br/>EEG with frontal focal spikes (HP:0012015); excluded: Myoclonic seizure (HP:0032794); excluded: Atonic seizure (HP:0010819); excluded: Focal impaired awareness seizure (HP:0002384); excluded: Generalized non-motor (absence) seizure (HP:0002121); excluded: Bilateral tonic-clonic seizure (HP:0002069); excluded: Infantile spasms (HP:0012469); excluded: Febrile seizure (within the age range of 3 months to 6 years) (HP:0002373); excluded: Multifocal epileptiform discharges (HP:0010841); excluded: EEG with polyspike wave complexes (HP:0002392); excluded: Intellectual disability (HP:0001249); excluded: Microcephaly (HP:0000252); excluded: Autistic behavior (HP:0000729); excluded: Hypotonia (HP:0001252); excluded: Spastic gait (HP:0002064); excluded: Lower limb hypertonia (HP:0006895); excluded: Lower limb hyperreflexia (HP:0002395); excluded: Attention deficit hyperactivity disorder (HP:0007018); excluded: Ataxia (HP:0001251); excluded: Cerebellar atrophy (HP:0001272)</td></tr>\n",
       "<tr><td style=\"text-align: left;\">P2 (MALE; P18Y)</td><td style=\"text-align: left;\">Developmental delay with or without epilepsy (OMIM:620540)</td><td style=\"text-align: left;\">NM_001130438.3:c.917C>T (heterozygous)</td><td style=\"text-align: left;\"><b>P2Y2M</b>: Myoclonic seizure (HP:0032794); Atonic seizure (HP:0010819)<br/>Multifocal epileptiform discharges (HP:0010841); Intellectual disability (HP:0001249); excluded: Focal impaired awareness seizure (HP:0002384); excluded: Generalized non-motor (absence) seizure (HP:0002121); excluded: Bilateral tonic-clonic seizure (HP:0002069); excluded: Infantile spasms (HP:0012469); excluded: Febrile seizure (within the age range of 3 months to 6 years) (HP:0002373); excluded: EEG with frontal focal spikes (HP:0012015); excluded: EEG with polyspike wave complexes (HP:0002392); excluded: Microcephaly (HP:0000252); excluded: Autistic behavior (HP:0000729); excluded: Hypotonia (HP:0001252); excluded: Spastic gait (HP:0002064); excluded: Lower limb hypertonia (HP:0006895); excluded: Lower limb hyperreflexia (HP:0002395); excluded: Attention deficit hyperactivity disorder (HP:0007018); excluded: Ataxia (HP:0001251); excluded: Cerebellar atrophy (HP:0001272)</td></tr>\n",
       "<tr><td style=\"text-align: left;\">P3 (MALE; P10Y)</td><td style=\"text-align: left;\">Developmental delay with or without epilepsy (OMIM:620540)</td><td style=\"text-align: left;\">NM_001130438.3:c.3716A>G (heterozygous)</td><td style=\"text-align: left;\">Intellectual disability (HP:0001249); Autistic behavior (HP:0000729); excluded: Myoclonic seizure (HP:0032794); excluded: Atonic seizure (HP:0010819); excluded: Focal impaired awareness seizure (HP:0002384); excluded: Generalized non-motor (absence) seizure (HP:0002121); excluded: Bilateral tonic-clonic seizure (HP:0002069); excluded: Infantile spasms (HP:0012469); excluded: Febrile seizure (within the age range of 3 months to 6 years) (HP:0002373); excluded: Microcephaly (HP:0000252); excluded: Hypotonia (HP:0001252); excluded: Spastic gait (HP:0002064); excluded: Lower limb hypertonia (HP:0006895); excluded: Lower limb hyperreflexia (HP:0002395); excluded: Attention deficit hyperactivity disorder (HP:0007018); excluded: Ataxia (HP:0001251); excluded: Cerebellar atrophy (HP:0001272)</td></tr>\n",
       "<tr><td style=\"text-align: left;\">P4 (MALE; P10Y)</td><td style=\"text-align: left;\">Developmental delay with or without epilepsy (OMIM:620540)</td><td style=\"text-align: left;\">NM_001130438.3:c.4828C>T (heterozygous)</td><td style=\"text-align: left;\"><b>P2Y</b>: Myoclonic seizure (HP:0032794)<br/>EEG with polyspike wave complexes (HP:0002392); Intellectual disability (HP:0001249); Autistic behavior (HP:0000729); Hypotonia (HP:0001252); Spastic gait (HP:0002064); Lower limb hypertonia (HP:0006895); Lower limb hyperreflexia (HP:0002395); Cerebellar atrophy (HP:0001272); excluded: Atonic seizure (HP:0010819); excluded: Focal impaired awareness seizure (HP:0002384); excluded: Generalized non-motor (absence) seizure (HP:0002121); excluded: Bilateral tonic-clonic seizure (HP:0002069); excluded: Infantile spasms (HP:0012469); excluded: Febrile seizure (within the age range of 3 months to 6 years) (HP:0002373); excluded: EEG with frontal focal spikes (HP:0012015); excluded: Multifocal epileptiform discharges (HP:0010841); excluded: Microcephaly (HP:0000252); excluded: Attention deficit hyperactivity disorder (HP:0007018); excluded: Ataxia (HP:0001251)</td></tr>\n",
       "<tr><td style=\"text-align: left;\">P15 (MALE; P19Y)</td><td style=\"text-align: left;\">Developmental delay with or without epilepsy (OMIM:620540)</td><td style=\"text-align: left;\">NM_001130438.3:c.6908_6916del (heterozygous)</td><td style=\"text-align: left;\"><b>P1Y5M</b>: Febrile seizure (within the age range of 3 months to 6 years) (HP:0002373)<br/><b>P5Y</b>: Focal impaired awareness seizure (HP:0002384)<br/>EEG with frontal focal spikes (HP:0012015); Multifocal epileptiform discharges (HP:0010841); Intellectual disability (HP:0001249); Attention deficit hyperactivity disorder (HP:0007018); excluded: Myoclonic seizure (HP:0032794); excluded: Atonic seizure (HP:0010819); excluded: Generalized non-motor (absence) seizure (HP:0002121); excluded: Bilateral tonic-clonic seizure (HP:0002069); excluded: Infantile spasms (HP:0012469); excluded: EEG with polyspike wave complexes (HP:0002392); excluded: Microcephaly (HP:0000252); excluded: Autistic behavior (HP:0000729); excluded: Hypotonia (HP:0001252); excluded: Spastic gait (HP:0002064); excluded: Lower limb hypertonia (HP:0006895); excluded: Lower limb hyperreflexia (HP:0002395); excluded: Ataxia (HP:0001251); excluded: Cerebellar atrophy (HP:0001272)</td></tr>\n",
       "<tr><td style=\"text-align: left;\">Family 9 Patient 11 (MALE; P19Y)</td><td style=\"text-align: left;\">Developmental delay with or without epilepsy (OMIM:620540)</td><td style=\"text-align: left;\">arr{hg38}9q34.11(128,609,213-128,613,675)x1: chromosomal_deletion (SO:1000029)</td><td style=\"text-align: left;\">Febrile seizure (within the age range of 3 months to 6 years) (HP:0002373); Intellectual disability (HP:0001249); Motor delay (HP:0001270); Delayed speech and language development (HP:0000750); Ataxia (HP:0001251); Strabismus (HP:0000486); Cerebellar atrophy (HP:0001272); excluded: Myoclonic seizure (HP:0032794); excluded: Atonic seizure (HP:0010819); excluded: Focal impaired awareness seizure (HP:0002384); excluded: Generalized non-motor (absence) seizure (HP:0002121); excluded: Bilateral tonic-clonic seizure (HP:0002069); excluded: Infantile spasms (HP:0012469); excluded: Microcephaly (HP:0000252); excluded: Hypotonia (HP:0001252); excluded: Lower limb hypertonia (HP:0006895); excluded: Lower limb hyperreflexia (HP:0002395); excluded: Lower limb muscle weakness (HP:0007340); excluded: Attention deficit hyperactivity disorder (HP:0007018); excluded: Spasticity (HP:0001257); excluded: Nystagmus (HP:0000639)</td></tr>\n",
       "<tr><td style=\"text-align: left;\">Family 10 Patient 12 (MALE; P9Y)</td><td style=\"text-align: left;\">Developmental delay with or without epilepsy (OMIM:620540)</td><td style=\"text-align: left;\">NM_001130438.3:c.4458del (heterozygous)</td><td style=\"text-align: left;\">Intellectual disability (HP:0001249); Delayed speech and language development (HP:0000750); Attention deficit hyperactivity disorder (HP:0007018); excluded: Myoclonic seizure (HP:0032794); excluded: Atonic seizure (HP:0010819); excluded: Focal impaired awareness seizure (HP:0002384); excluded: Generalized non-motor (absence) seizure (HP:0002121); excluded: Bilateral tonic-clonic seizure (HP:0002069); excluded: Infantile spasms (HP:0012469); excluded: Febrile seizure (within the age range of 3 months to 6 years) (HP:0002373); excluded: Motor delay (HP:0001270); excluded: Microcephaly (HP:0000252); excluded: Hypotonia (HP:0001252); excluded: Lower limb hypertonia (HP:0006895); excluded: Lower limb hyperreflexia (HP:0002395); excluded: Lower limb muscle weakness (HP:0007340); excluded: Ataxia (HP:0001251); excluded: Spasticity (HP:0001257); excluded: Strabismus (HP:0000486); excluded: Nystagmus (HP:0000639)</td></tr>\n",
       "<tr><td style=\"text-align: left;\">Family 10 Patient 13 (MALE; P7Y)</td><td style=\"text-align: left;\">Developmental delay with or without epilepsy (OMIM:620540)</td><td style=\"text-align: left;\">NM_001130438.3:c.4458del (heterozygous)</td><td style=\"text-align: left;\">Intellectual disability (HP:0001249); Delayed speech and language development (HP:0000750); excluded: Myoclonic seizure (HP:0032794); excluded: Atonic seizure (HP:0010819); excluded: Focal impaired awareness seizure (HP:0002384); excluded: Generalized non-motor (absence) seizure (HP:0002121); excluded: Bilateral tonic-clonic seizure (HP:0002069); excluded: Infantile spasms (HP:0012469); excluded: Febrile seizure (within the age range of 3 months to 6 years) (HP:0002373); excluded: Motor delay (HP:0001270); excluded: Microcephaly (HP:0000252); excluded: Hypotonia (HP:0001252); excluded: Lower limb hypertonia (HP:0006895); excluded: Lower limb hyperreflexia (HP:0002395); excluded: Lower limb muscle weakness (HP:0007340); excluded: Attention deficit hyperactivity disorder (HP:0007018); excluded: Ataxia (HP:0001251); excluded: Spasticity (HP:0001257); excluded: Strabismus (HP:0000486); excluded: Nystagmus (HP:0000639)</td></tr>\n",
       "<tr><td style=\"text-align: left;\">Family 10 Patient 14 (FEMALE; P26Y)</td><td style=\"text-align: left;\">Developmental delay with or without epilepsy (OMIM:620540)</td><td style=\"text-align: left;\">NM_001130438.3:c.4458del (heterozygous)</td><td style=\"text-align: left;\">excluded: Myoclonic seizure (HP:0032794); excluded: Atonic seizure (HP:0010819); excluded: Focal impaired awareness seizure (HP:0002384); excluded: Generalized non-motor (absence) seizure (HP:0002121); excluded: Bilateral tonic-clonic seizure (HP:0002069); excluded: Infantile spasms (HP:0012469); excluded: Febrile seizure (within the age range of 3 months to 6 years) (HP:0002373); excluded: Intellectual disability (HP:0001249); excluded: Motor delay (HP:0001270); excluded: Delayed speech and language development (HP:0000750); excluded: Hypotonia (HP:0001252); excluded: Lower limb hypertonia (HP:0006895); excluded: Lower limb hyperreflexia (HP:0002395); excluded: Lower limb muscle weakness (HP:0007340); excluded: Attention deficit hyperactivity disorder (HP:0007018); excluded: Ataxia (HP:0001251); excluded: Spasticity (HP:0001257); excluded: Strabismus (HP:0000486); excluded: Nystagmus (HP:0000639)</td></tr>\n",
       "<tr><td style=\"text-align: left;\">Family 11 Patient 15 (MALE; P13Y)</td><td style=\"text-align: left;\">Developmental delay with or without epilepsy (OMIM:620540)</td><td style=\"text-align: left;\">NM_001130438.3:c.2197C>T (heterozygous)</td><td style=\"text-align: left;\">Intellectual disability (HP:0001249); excluded: Myoclonic seizure (HP:0032794); excluded: Atonic seizure (HP:0010819); excluded: Focal impaired awareness seizure (HP:0002384); excluded: Generalized non-motor (absence) seizure (HP:0002121); excluded: Bilateral tonic-clonic seizure (HP:0002069); excluded: Infantile spasms (HP:0012469); excluded: Febrile seizure (within the age range of 3 months to 6 years) (HP:0002373); excluded: Motor delay (HP:0001270); excluded: Delayed speech and language development (HP:0000750); excluded: Microcephaly (HP:0000252); excluded: Hypotonia (HP:0001252); excluded: Lower limb hypertonia (HP:0006895); excluded: Lower limb hyperreflexia (HP:0002395); excluded: Lower limb muscle weakness (HP:0007340); excluded: Attention deficit hyperactivity disorder (HP:0007018); excluded: Ataxia (HP:0001251); excluded: Spasticity (HP:0001257); excluded: Strabismus (HP:0000486); excluded: Nystagmus (HP:0000639)</td></tr>\n",
       "<tr><td style=\"text-align: left;\">Family 12 Patient 16 (MALE; P2Y)</td><td style=\"text-align: left;\">Developmental delay with or without epilepsy (OMIM:620540)</td><td style=\"text-align: left;\">NM_001130438.3:c.4936C>T (heterozygous)</td><td style=\"text-align: left;\">Intellectual disability (HP:0001249); Motor delay (HP:0001270); Delayed speech and language development (HP:0000750); Microcephaly (HP:0000252); excluded: Myoclonic seizure (HP:0032794); excluded: Atonic seizure (HP:0010819); excluded: Focal impaired awareness seizure (HP:0002384); excluded: Generalized non-motor (absence) seizure (HP:0002121); excluded: Bilateral tonic-clonic seizure (HP:0002069); excluded: Infantile spasms (HP:0012469); excluded: Febrile seizure (within the age range of 3 months to 6 years) (HP:0002373); excluded: EEG with frontal focal spikes (HP:0012015); excluded: Multifocal epileptiform discharges (HP:0010841); excluded: EEG with polyspike wave complexes (HP:0002392); excluded: Hypotonia (HP:0001252); excluded: Lower limb hypertonia (HP:0006895); excluded: Lower limb hyperreflexia (HP:0002395); excluded: Lower limb muscle weakness (HP:0007340); excluded: Attention deficit hyperactivity disorder (HP:0007018); excluded: Ataxia (HP:0001251); excluded: Spasticity (HP:0001257); excluded: Strabismus (HP:0000486); excluded: Nystagmus (HP:0000639)</td></tr>\n",
       "<tr><td style=\"text-align: left;\">Family 13 Patient 17 (MALE; P2Y)</td><td style=\"text-align: left;\">Developmental delay with or without epilepsy (OMIM:620540)</td><td style=\"text-align: left;\">NM_001130438.3:c.1879C>T (heterozygous)</td><td style=\"text-align: left;\">Intellectual disability (HP:0001249); Motor delay (HP:0001270); Delayed speech and language development (HP:0000750); Lower limb muscle weakness (HP:0007340); Ataxia (HP:0001251); Nystagmus (HP:0000639); Cerebellar atrophy (HP:0001272); excluded: Myoclonic seizure (HP:0032794); excluded: Atonic seizure (HP:0010819); excluded: Focal impaired awareness seizure (HP:0002384); excluded: Generalized non-motor (absence) seizure (HP:0002121); excluded: Bilateral tonic-clonic seizure (HP:0002069); excluded: Infantile spasms (HP:0012469); excluded: Febrile seizure (within the age range of 3 months to 6 years) (HP:0002373); excluded: Microcephaly (HP:0000252); excluded: Hypotonia (HP:0001252); excluded: Lower limb hypertonia (HP:0006895); excluded: Lower limb hyperreflexia (HP:0002395); excluded: Attention deficit hyperactivity disorder (HP:0007018); excluded: Strabismus (HP:0000486)</td></tr>\n",
       "<tr><td style=\"text-align: left;\">Family 13 Patient 18 (FEMALE; P32Y)</td><td style=\"text-align: left;\">Developmental delay with or without epilepsy (OMIM:620540)</td><td style=\"text-align: left;\">NM_001130438.3:c.1879C>T (heterozygous)</td><td style=\"text-align: left;\">Motor delay (HP:0001270); Lower limb muscle weakness (HP:0007340); Ataxia (HP:0001251); Nystagmus (HP:0000639); Cerebellar atrophy (HP:0001272); excluded: Myoclonic seizure (HP:0032794); excluded: Atonic seizure (HP:0010819); excluded: Focal impaired awareness seizure (HP:0002384); excluded: Generalized non-motor (absence) seizure (HP:0002121); excluded: Bilateral tonic-clonic seizure (HP:0002069); excluded: Infantile spasms (HP:0012469); excluded: Febrile seizure (within the age range of 3 months to 6 years) (HP:0002373); excluded: EEG with frontal focal spikes (HP:0012015); excluded: Multifocal epileptiform discharges (HP:0010841); excluded: EEG with polyspike wave complexes (HP:0002392); excluded: Intellectual disability (HP:0001249); excluded: Microcephaly (HP:0000252); excluded: Hypotonia (HP:0001252); excluded: Lower limb hypertonia (HP:0006895); excluded: Lower limb hyperreflexia (HP:0002395); excluded: Attention deficit hyperactivity disorder (HP:0007018); excluded: Strabismus (HP:0000486)</td></tr>\n",
       "<tr><td style=\"text-align: left;\">Family 14 Patient 19 (FEMALE; P2Y)</td><td style=\"text-align: left;\">Developmental delay with or without epilepsy (OMIM:620540)</td><td style=\"text-align: left;\">arr{hg38}9q34.11(128591376-128600369)x1: chromosomal_deletion (SO:1000029)</td><td style=\"text-align: left;\">Motor delay (HP:0001270); Delayed speech and language development (HP:0000750); Strabismus (HP:0000486); excluded: Myoclonic seizure (HP:0032794); excluded: Atonic seizure (HP:0010819); excluded: Focal impaired awareness seizure (HP:0002384); excluded: Generalized non-motor (absence) seizure (HP:0002121); excluded: Bilateral tonic-clonic seizure (HP:0002069); excluded: Infantile spasms (HP:0012469); excluded: Febrile seizure (within the age range of 3 months to 6 years) (HP:0002373); excluded: Microcephaly (HP:0000252); excluded: Hypotonia (HP:0001252); excluded: Lower limb hypertonia (HP:0006895); excluded: Lower limb hyperreflexia (HP:0002395); excluded: Lower limb muscle weakness (HP:0007340); excluded: Attention deficit hyperactivity disorder (HP:0007018); excluded: Ataxia (HP:0001251); excluded: Spasticity (HP:0001257); excluded: Nystagmus (HP:0000639)</td></tr>\n",
       "<tr><td style=\"text-align: left;\">Family 15 Patient 20 (MALE; P6Y)</td><td style=\"text-align: left;\">Developmental delay with or without epilepsy (OMIM:620540)</td><td style=\"text-align: left;\">NM_001130438.3:c.2612del (heterozygous)</td><td style=\"text-align: left;\">Febrile seizure (within the age range of 3 months to 6 years) (HP:0002373); Motor delay (HP:0001270); Delayed speech and language development (HP:0000750); excluded: Myoclonic seizure (HP:0032794); excluded: Atonic seizure (HP:0010819); excluded: Focal impaired awareness seizure (HP:0002384); excluded: Generalized non-motor (absence) seizure (HP:0002121); excluded: Bilateral tonic-clonic seizure (HP:0002069); excluded: Infantile spasms (HP:0012469); excluded: EEG with frontal focal spikes (HP:0012015); excluded: Multifocal epileptiform discharges (HP:0010841); excluded: EEG with polyspike wave complexes (HP:0002392); excluded: Intellectual disability (HP:0001249); excluded: Microcephaly (HP:0000252); excluded: Hypotonia (HP:0001252); excluded: Lower limb hypertonia (HP:0006895); excluded: Lower limb hyperreflexia (HP:0002395); excluded: Lower limb muscle weakness (HP:0007340); excluded: Attention deficit hyperactivity disorder (HP:0007018); excluded: Ataxia (HP:0001251); excluded: Spasticity (HP:0001257); excluded: Strabismus (HP:0000486); excluded: Nystagmus (HP:0000639)</td></tr>\n",
       "<tr><td style=\"text-align: left;\">Family 16 Patient 21 (FEMALE; P8Y)</td><td style=\"text-align: left;\">Developmental delay with or without epilepsy (OMIM:620540)</td><td style=\"text-align: left;\">NM_001130438.3:c.1127G>A (heterozygous)</td><td style=\"text-align: left;\">Delayed speech and language development (HP:0000750); Microcephaly (HP:0000252); excluded: Myoclonic seizure (HP:0032794); excluded: Atonic seizure (HP:0010819); excluded: Focal impaired awareness seizure (HP:0002384); excluded: Generalized non-motor (absence) seizure (HP:0002121); excluded: Bilateral tonic-clonic seizure (HP:0002069); excluded: Infantile spasms (HP:0012469); excluded: Febrile seizure (within the age range of 3 months to 6 years) (HP:0002373); excluded: Intellectual disability (HP:0001249); excluded: Motor delay (HP:0001270); excluded: Hypotonia (HP:0001252); excluded: Lower limb hypertonia (HP:0006895); excluded: Lower limb hyperreflexia (HP:0002395); excluded: Lower limb muscle weakness (HP:0007340); excluded: Attention deficit hyperactivity disorder (HP:0007018); excluded: Ataxia (HP:0001251); excluded: Spasticity (HP:0001257); excluded: Strabismus (HP:0000486); excluded: Nystagmus (HP:0000639); excluded: Cerebellar atrophy (HP:0001272)</td></tr>\n",
       "<tr><td style=\"text-align: left;\">Family 17 Patient 22 (MALE; P9Y)</td><td style=\"text-align: left;\">Developmental delay with or without epilepsy (OMIM:620540)</td><td style=\"text-align: left;\">NM_001130438.3:c.4390C>T (heterozygous)</td><td style=\"text-align: left;\"><b>P3Y</b>: Myoclonic seizure (HP:0032794); Febrile seizure (within the age range of 3 months to 6 years) (HP:0002373)<br/>Intellectual disability (HP:0001249); Motor delay (HP:0001270); Delayed speech and language development (HP:0000750); Microcephaly (HP:0000252); Ataxia (HP:0001251); excluded: Atonic seizure (HP:0010819); excluded: Focal impaired awareness seizure (HP:0002384); excluded: Generalized non-motor (absence) seizure (HP:0002121); excluded: Bilateral tonic-clonic seizure (HP:0002069); excluded: Infantile spasms (HP:0012469); excluded: Hypotonia (HP:0001252); excluded: Lower limb hypertonia (HP:0006895); excluded: Lower limb hyperreflexia (HP:0002395); excluded: Attention deficit hyperactivity disorder (HP:0007018); excluded: Strabismus (HP:0000486); excluded: Nystagmus (HP:0000639)</td></tr>\n",
       "<tr><td style=\"text-align: left;\">Family 18 Patient 23 (FEMALE; P5Y)</td><td style=\"text-align: left;\">Developmental delay with or without epilepsy (OMIM:620540)</td><td style=\"text-align: left;\">arr{hg38}9q34.11 (128,582,754-128,587,726)x1: chromosomal_deletion (SO:1000029)</td><td style=\"text-align: left;\"><b>P2Y</b>: Seizure (HP:0001250)<br/>Intellectual disability (HP:0001249); Motor delay (HP:0001270); Delayed speech and language development (HP:0000750); Hypotonia (HP:0001252); Ataxia (HP:0001251); Strabismus (HP:0000486); Cerebellar atrophy (HP:0001272); excluded: Myoclonic seizure (HP:0032794); excluded: Atonic seizure (HP:0010819); excluded: Focal impaired awareness seizure (HP:0002384); excluded: Generalized non-motor (absence) seizure (HP:0002121); excluded: Bilateral tonic-clonic seizure (HP:0002069); excluded: Infantile spasms (HP:0012469); excluded: Febrile seizure (within the age range of 3 months to 6 years) (HP:0002373); excluded: Microcephaly (HP:0000252); excluded: Lower limb hypertonia (HP:0006895); excluded: Lower limb hyperreflexia (HP:0002395); excluded: Lower limb muscle weakness (HP:0007340); excluded: Attention deficit hyperactivity disorder (HP:0007018); excluded: Spasticity (HP:0001257); excluded: Nystagmus (HP:0000639)</td></tr>\n",
       "<tr><td style=\"text-align: left;\">Family 19 Patient 24 (MALE; P10Y)</td><td style=\"text-align: left;\">Developmental delay with or without epilepsy (OMIM:620540)</td><td style=\"text-align: left;\">NM_001130438.3:c.6611G>A (heterozygous)</td><td style=\"text-align: left;\"><b>P5Y</b>: Myoclonic seizure (HP:0032794); Generalized non-motor (absence) seizure (HP:0002121)<br/>Intellectual disability (HP:0001249); Motor delay (HP:0001270); Delayed speech and language development (HP:0000750); excluded: Atonic seizure (HP:0010819); excluded: Focal impaired awareness seizure (HP:0002384); excluded: Bilateral tonic-clonic seizure (HP:0002069); excluded: Infantile spasms (HP:0012469); excluded: Febrile seizure (within the age range of 3 months to 6 years) (HP:0002373); excluded: Microcephaly (HP:0000252); excluded: Hypotonia (HP:0001252); excluded: Lower limb hypertonia (HP:0006895); excluded: Lower limb hyperreflexia (HP:0002395); excluded: Lower limb muscle weakness (HP:0007340); excluded: Attention deficit hyperactivity disorder (HP:0007018); excluded: Ataxia (HP:0001251); excluded: Spasticity (HP:0001257); excluded: Strabismus (HP:0000486); excluded: Nystagmus (HP:0000639); excluded: Cerebellar atrophy (HP:0001272)</td></tr>\n",
       "<tr><td style=\"text-align: left;\">Family 20 Patient 25 (MALE; P9Y)</td><td style=\"text-align: left;\">Developmental delay with or without epilepsy (OMIM:620540)</td><td style=\"text-align: left;\">NM_001130438.3:c.4476del (heterozygous)</td><td style=\"text-align: left;\"><b>P6Y</b>: Generalized non-motor (absence) seizure (HP:0002121); Bilateral tonic-clonic seizure (HP:0002069)<br/>EEG with polyspike wave complexes (HP:0002392); Intellectual disability (HP:0001249); Delayed speech and language development (HP:0000750); Attention deficit hyperactivity disorder (HP:0007018); excluded: Myoclonic seizure (HP:0032794); excluded: Atonic seizure (HP:0010819); excluded: Focal impaired awareness seizure (HP:0002384); excluded: Infantile spasms (HP:0012469); excluded: Febrile seizure (within the age range of 3 months to 6 years) (HP:0002373); excluded: EEG with frontal focal spikes (HP:0012015); excluded: Multifocal epileptiform discharges (HP:0010841); excluded: Motor delay (HP:0001270); excluded: Microcephaly (HP:0000252); excluded: Hypotonia (HP:0001252); excluded: Lower limb hypertonia (HP:0006895); excluded: Lower limb hyperreflexia (HP:0002395); excluded: Lower limb muscle weakness (HP:0007340); excluded: Ataxia (HP:0001251); excluded: Spasticity (HP:0001257); excluded: Strabismus (HP:0000486); excluded: Nystagmus (HP:0000639); excluded: Cerebellar atrophy (HP:0001272)</td></tr>\n",
       "<tr><td style=\"text-align: left;\">Family 21 Patient 26 (MALE; P8Y)</td><td style=\"text-align: left;\">Developmental delay with or without epilepsy (OMIM:620540)</td><td style=\"text-align: left;\">arr{hg38}9q34.11 (128,587,422-128,600,316)x1: chromosomal_deletion (SO:1000029)</td><td style=\"text-align: left;\"><b>P3M</b>: Infantile spasms (HP:0012469)<br/>Intellectual disability (HP:0001249); Motor delay (HP:0001270); Delayed speech and language development (HP:0000750); Microcephaly (HP:0000252); Hypotonia (HP:0001252); excluded: Myoclonic seizure (HP:0032794); excluded: Atonic seizure (HP:0010819); excluded: Focal impaired awareness seizure (HP:0002384); excluded: Generalized non-motor (absence) seizure (HP:0002121); excluded: Bilateral tonic-clonic seizure (HP:0002069); excluded: Febrile seizure (within the age range of 3 months to 6 years) (HP:0002373); excluded: EEG with frontal focal spikes (HP:0012015); excluded: Multifocal epileptiform discharges (HP:0010841); excluded: EEG with polyspike wave complexes (HP:0002392); excluded: Lower limb hypertonia (HP:0006895); excluded: Lower limb hyperreflexia (HP:0002395); excluded: Lower limb muscle weakness (HP:0007340); excluded: Attention deficit hyperactivity disorder (HP:0007018); excluded: Ataxia (HP:0001251); excluded: Spasticity (HP:0001257); excluded: Strabismus (HP:0000486); excluded: Nystagmus (HP:0000639); excluded: Cerebellar atrophy (HP:0001272)</td></tr>\n",
       "</table>"
      ],
      "text/plain": [
       "<IPython.core.display.HTML object>"
      ]
     },
     "metadata": {},
     "output_type": "display_data"
    }
   ],
   "source": [
    "# new cell\n",
    "individuals = cvalidator.get_error_free_individual_list()\n",
    "## For some reason, the following does not work\n",
    "table = IndividualTable(individuals)\n",
    "display(HTML(table.to_html()))"
   ]
  },
  {
   "cell_type": "code",
   "execution_count": 4,
   "id": "e0c5577b-a579-42a6-8340-6c3d6b7b7fa6",
   "metadata": {},
   "outputs": [
    {
     "name": "stdout",
     "output_type": "stream",
     "text": [
      "[pyphetools] Ingested 35 GA4GH phenopackets.\n",
      "Warning: Could not identify disease element\n"
     ]
    },
    {
     "ename": "IndexError",
     "evalue": "list index out of range",
     "output_type": "error",
     "traceback": [
      "\u001b[0;31m---------------------------------------------------------------------------\u001b[0m",
      "\u001b[0;31mIndexError\u001b[0m                                Traceback (most recent call last)",
      "Cell \u001b[0;32mIn[4], line 1\u001b[0m\n\u001b[0;32m----> 1\u001b[0m df \u001b[38;5;241m=\u001b[39m \u001b[43mcreate_hpoa_from_phenopackets\u001b[49m\u001b[43m(\u001b[49m\u001b[43mmoi\u001b[49m\u001b[38;5;241;43m=\u001b[39;49m\u001b[38;5;124;43m\"\u001b[39;49m\u001b[38;5;124;43mAutosomal dominant\u001b[39;49m\u001b[38;5;124;43m\"\u001b[39;49m\u001b[43m,\u001b[49m\u001b[43m \u001b[49m\u001b[43mpmid\u001b[49m\u001b[38;5;241;43m=\u001b[39;49m\u001b[38;5;124;43m\"\u001b[39;49m\u001b[38;5;124;43mPMID:29050398\u001b[39;49m\u001b[38;5;124;43m\"\u001b[39;49m\u001b[43m)\u001b[49m\n",
      "File \u001b[0;32m~/GIT/phenopacket-store/ps24venv/lib/python3.8/site-packages/pyphetools/creation/import_template.py:163\u001b[0m, in \u001b[0;36mcreate_hpoa_from_phenopackets\u001b[0;34m(pmid, moi, ppkt_dir)\u001b[0m\n\u001b[1;32m    161\u001b[0m ppkt_d \u001b[38;5;241m=\u001b[39m ingestor\u001b[38;5;241m.\u001b[39mget_phenopacket_dictionary()\n\u001b[1;32m    162\u001b[0m ppkt_list \u001b[38;5;241m=\u001b[39m \u001b[38;5;28mlist\u001b[39m(ppkt_d\u001b[38;5;241m.\u001b[39mvalues())\n\u001b[0;32m--> 163\u001b[0m builder \u001b[38;5;241m=\u001b[39m \u001b[43mHpoaTableBuilder\u001b[49m\u001b[43m(\u001b[49m\u001b[43mphenopacket_list\u001b[49m\u001b[38;5;241;43m=\u001b[39;49m\u001b[43mppkt_list\u001b[49m\u001b[43m)\u001b[49m\n\u001b[1;32m    164\u001b[0m \u001b[38;5;28;01mif\u001b[39;00m moi \u001b[38;5;241m==\u001b[39m \u001b[38;5;124m\"\u001b[39m\u001b[38;5;124mAutosomal dominant\u001b[39m\u001b[38;5;124m\"\u001b[39m:\n\u001b[1;32m    165\u001b[0m     builder\u001b[38;5;241m.\u001b[39mautosomal_dominant(pmid)\n",
      "File \u001b[0;32m~/GIT/phenopacket-store/ps24venv/lib/python3.8/site-packages/pyphetools/visualization/hpoa_table_creator.py:299\u001b[0m, in \u001b[0;36mHpoaTableBuilder.__init__\u001b[0;34m(self, indir, phenopacket_list)\u001b[0m\n\u001b[1;32m    297\u001b[0m \u001b[38;5;28mself\u001b[39m\u001b[38;5;241m.\u001b[39m_onset_term_d \u001b[38;5;241m=\u001b[39m defaultdict(\u001b[38;5;28mlist\u001b[39m)\n\u001b[1;32m    298\u001b[0m \u001b[38;5;28mself\u001b[39m\u001b[38;5;241m.\u001b[39m_moi_d \u001b[38;5;241m=\u001b[39m defaultdict(\u001b[38;5;28mlist\u001b[39m)\n\u001b[0;32m--> 299\u001b[0m onset_calc \u001b[38;5;241m=\u001b[39m \u001b[43mOnsetCalculator\u001b[49m\u001b[43m(\u001b[49m\u001b[38;5;28;43mself\u001b[39;49m\u001b[38;5;241;43m.\u001b[39;49m\u001b[43m_phenopackets\u001b[49m\u001b[43m)\u001b[49m\n\u001b[1;32m    300\u001b[0m pmid_onset_d \u001b[38;5;241m=\u001b[39m onset_calc\u001b[38;5;241m.\u001b[39mget_pmid_to_onset_d()\n\u001b[1;32m    301\u001b[0m \u001b[38;5;28;01mfor\u001b[39;00m pmid, onset_list \u001b[38;5;129;01min\u001b[39;00m pmid_onset_d\u001b[38;5;241m.\u001b[39mitems():\n",
      "File \u001b[0;32m~/GIT/phenopacket-store/ps24venv/lib/python3.8/site-packages/pyphetools/visualization/onset_calculator.py:30\u001b[0m, in \u001b[0;36mOnsetCalculator.__init__\u001b[0;34m(self, phenopacket_list)\u001b[0m\n\u001b[1;32m     28\u001b[0m \u001b[38;5;28;01melif\u001b[39;00m \u001b[38;5;28mlen\u001b[39m(ppack\u001b[38;5;241m.\u001b[39mdiseases) \u001b[38;5;241m>\u001b[39m \u001b[38;5;241m1\u001b[39m:\n\u001b[1;32m     29\u001b[0m     \u001b[38;5;28mprint\u001b[39m(\u001b[38;5;124m\"\u001b[39m\u001b[38;5;124mWarning: Identified multiple disease element\u001b[39m\u001b[38;5;124m\"\u001b[39m)\n\u001b[0;32m---> 30\u001b[0m disease \u001b[38;5;241m=\u001b[39m \u001b[43mppack\u001b[49m\u001b[38;5;241;43m.\u001b[39;49m\u001b[43mdiseases\u001b[49m\u001b[43m[\u001b[49m\u001b[38;5;241;43m0\u001b[39;49m\u001b[43m]\u001b[49m\n\u001b[1;32m     31\u001b[0m \u001b[38;5;28;01mif\u001b[39;00m disease\u001b[38;5;241m.\u001b[39mHasField(\u001b[38;5;124m\"\u001b[39m\u001b[38;5;124monset\u001b[39m\u001b[38;5;124m\"\u001b[39m):\n\u001b[1;32m     32\u001b[0m     \u001b[38;5;66;03m# onset is a GA4GH TimeElement\u001b[39;00m\n\u001b[1;32m     33\u001b[0m     \u001b[38;5;66;03m# In pyphetools, it can be an OntologyClass, an Age, or a GestationalAge\u001b[39;00m\n\u001b[1;32m     34\u001b[0m     onset \u001b[38;5;241m=\u001b[39m disease\u001b[38;5;241m.\u001b[39monset\n",
      "File \u001b[0;32m~/GIT/phenopacket-store/ps24venv/lib/python3.8/site-packages/google/protobuf/internal/containers.py:93\u001b[0m, in \u001b[0;36mBaseContainer.__getitem__\u001b[0;34m(self, key)\u001b[0m\n\u001b[1;32m     91\u001b[0m \u001b[38;5;28;01mdef\u001b[39;00m \u001b[38;5;21m__getitem__\u001b[39m(\u001b[38;5;28mself\u001b[39m, key):\n\u001b[1;32m     92\u001b[0m \u001b[38;5;250m  \u001b[39m\u001b[38;5;124;03m\"\"\"Retrieves item by the specified key.\"\"\"\u001b[39;00m\n\u001b[0;32m---> 93\u001b[0m   \u001b[38;5;28;01mreturn\u001b[39;00m \u001b[38;5;28;43mself\u001b[39;49m\u001b[38;5;241;43m.\u001b[39;49m\u001b[43m_values\u001b[49m\u001b[43m[\u001b[49m\u001b[43mkey\u001b[49m\u001b[43m]\u001b[49m\n",
      "\u001b[0;31mIndexError\u001b[0m: list index out of range"
     ]
    }
   ],
   "source": [
    "df = create_hpoa_from_phenopackets(moi=\"Autosomal dominant\", pmid=\"PMID:29050398\")"
   ]
  },
  {
   "cell_type": "code",
   "execution_count": null,
   "id": "e807b5ac-1a7c-4aae-b7fb-9d952fa4888f",
   "metadata": {},
   "outputs": [],
   "source": []
  }
 ],
 "metadata": {
  "kernelspec": {
   "display_name": "ps24venv",
   "language": "python",
   "name": "ps24venv"
  },
  "language_info": {
   "codemirror_mode": {
    "name": "ipython",
    "version": 3
   },
   "file_extension": ".py",
   "mimetype": "text/x-python",
   "name": "python",
   "nbconvert_exporter": "python",
   "pygments_lexer": "ipython3",
   "version": "3.8.10"
  }
 },
 "nbformat": 4,
 "nbformat_minor": 5
}
