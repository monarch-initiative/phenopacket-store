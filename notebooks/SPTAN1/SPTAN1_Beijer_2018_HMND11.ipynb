{
 "cells": [
  {
   "cell_type": "markdown",
   "id": "c453b802-40b2-4d17-a1c5-93057792e325",
   "metadata": {},
   "source": [
    "# SPTAN1 Beijer et al. (2019)\n",
    "\n",
    "Date dervied from [Beijer D,  Nonsense mutations in alpha-II spectrin in three families with juvenile onset hereditary motor neuropathy. Brain. 2019 Sep 1;142(9):2605-2616.](https://pubmed.ncbi.nlm.nih.gov/31332438/)"
   ]
  },
  {
   "cell_type": "code",
   "execution_count": 1,
   "id": "c6b3fb13-3e8a-4399-a005-79336def8f98",
   "metadata": {},
   "outputs": [
    {
     "name": "stdout",
     "output_type": "stream",
     "text": [
      "Using pyphetools version 0.9.79\n"
     ]
    },
    {
     "name": "stderr",
     "output_type": "stream",
     "text": [
      "/Users/robin/GIT/phenopacket-store/ps24venv/lib/python3.9/site-packages/urllib3/__init__.py:35: NotOpenSSLWarning: urllib3 v2 only supports OpenSSL 1.1.1+, currently the 'ssl' module is compiled with 'LibreSSL 2.8.3'. See: https://github.com/urllib3/urllib3/issues/3020\n",
      "  warnings.warn(\n"
     ]
    }
   ],
   "source": [
    "import pandas as pd\n",
    "pd.set_option('display.max_colwidth', None) # show entire column contents, important!\n",
    "from IPython.display import display, HTML\n",
    "from pyphetools.creation import *\n",
    "from pyphetools.visualization import *\n",
    "from pyphetools.validation import *\n",
    "import pyphetools\n",
    "print(f\"Using pyphetools version {pyphetools.__version__}\")"
   ]
  },
  {
   "cell_type": "code",
   "execution_count": 2,
   "id": "2ce5e66d-7148-4ff6-8a7f-48f548bdab28",
   "metadata": {},
   "outputs": [
    {
     "name": "stdout",
     "output_type": "stream",
     "text": [
      "HPO version 2024-04-26\n"
     ]
    }
   ],
   "source": [
    "PMID = \"PMID:31332438\"\n",
    "title = \"Nonsense mutations in alpha-II spectrin in three families with juvenile onset hereditary motor neuropathy\"\n",
    "cite = Citation(pmid=PMID, title=title)\n",
    "metadata = MetaData(created_by=\"ORCID:0000-0002-5648-2155\", citation=cite)\n",
    "parser = HpoParser()\n",
    "hpo_cr = parser.get_hpo_concept_recognizer()\n",
    "hpo_version = parser.get_version()\n",
    "hpo_ontology = parser.get_ontology()\n",
    "metadata.default_versions_with_hpo(version=hpo_version)\n",
    "print(f\"HPO version {hpo_version}\")"
   ]
  },
  {
   "cell_type": "code",
   "execution_count": 3,
   "id": "cd4a03c3-2b5b-4350-9ab3-af4875d13309",
   "metadata": {},
   "outputs": [
    {
     "data": {
      "text/html": [
       "<div>\n",
       "<style scoped>\n",
       "    .dataframe tbody tr th:only-of-type {\n",
       "        vertical-align: middle;\n",
       "    }\n",
       "\n",
       "    .dataframe tbody tr th {\n",
       "        vertical-align: top;\n",
       "    }\n",
       "\n",
       "    .dataframe thead th {\n",
       "        text-align: right;\n",
       "    }\n",
       "</style>\n",
       "<table border=\"1\" class=\"dataframe\">\n",
       "  <thead>\n",
       "    <tr style=\"text-align: right;\">\n",
       "      <th>individual_id</th>\n",
       "      <th>NM_001130438.3</th>\n",
       "      <th>NM_003127.4</th>\n",
       "      <th>Protein</th>\n",
       "      <th>onset_iso</th>\n",
       "      <th>Age at onset</th>\n",
       "      <th>Sex</th>\n",
       "      <th>Initial symptoms</th>\n",
       "      <th>Progression</th>\n",
       "      <th>Initial diagnosis at referral</th>\n",
       "      <th>Age at last examination</th>\n",
       "      <th>...</th>\n",
       "      <th>UL atrophy</th>\n",
       "      <th>UL weakness</th>\n",
       "      <th>UL reflexes</th>\n",
       "      <th>LL atrophy</th>\n",
       "      <th>LL weakness</th>\n",
       "      <th>LL reflexes</th>\n",
       "      <th>Foot deformity</th>\n",
       "      <th>Additional clinical features</th>\n",
       "      <th>NCS/EMG</th>\n",
       "      <th>individual_id</th>\n",
       "    </tr>\n",
       "  </thead>\n",
       "  <tbody>\n",
       "    <tr>\n",
       "      <th>A:I:1</th>\n",
       "      <td>c.415C&gt;T</td>\n",
       "      <td>c.415C&gt;T</td>\n",
       "      <td>p.R139*</td>\n",
       "      <td>P18Y</td>\n",
       "      <td>&lt;20 y</td>\n",
       "      <td>male</td>\n",
       "      <td>Gait instability steppage gait</td>\n",
       "      <td>Slow progression</td>\n",
       "      <td>Distal axonal neuropathy</td>\n",
       "      <td>85 y</td>\n",
       "      <td>...</td>\n",
       "      <td>-</td>\n",
       "      <td>-</td>\n",
       "      <td>Reduced</td>\n",
       "      <td>Distal leg and foot intrinsics</td>\n",
       "      <td>4/5 distal</td>\n",
       "      <td>Absent</td>\n",
       "      <td>-</td>\n",
       "      <td>Requires orthopaedic insoles</td>\n",
       "      <td>N/P</td>\n",
       "      <td>A:I:1</td>\n",
       "    </tr>\n",
       "    <tr>\n",
       "      <th>A:II:2</th>\n",
       "      <td>c.415C&gt;T</td>\n",
       "      <td>c.415C&gt;T</td>\n",
       "      <td>p.R139*</td>\n",
       "      <td>P30Y</td>\n",
       "      <td>30 y</td>\n",
       "      <td>female</td>\n",
       "      <td>Easily sprained ankles</td>\n",
       "      <td>No progression</td>\n",
       "      <td>Distal axonal neuropathy</td>\n",
       "      <td>58 y</td>\n",
       "      <td>...</td>\n",
       "      <td>-</td>\n",
       "      <td>-</td>\n",
       "      <td>Normal</td>\n",
       "      <td>-</td>\n",
       "      <td>4/5 toe extensors</td>\n",
       "      <td>Reduced</td>\n",
       "      <td>Hammer toes</td>\n",
       "      <td>Requires orthopaedic insoles</td>\n",
       "      <td>Mild motor axonal neuropathy</td>\n",
       "      <td>A:II:2</td>\n",
       "    </tr>\n",
       "    <tr>\n",
       "      <th>A:II:3</th>\n",
       "      <td>c.415C&gt;T</td>\n",
       "      <td>c.415C&gt;T</td>\n",
       "      <td>p.R139*</td>\n",
       "      <td>P30Y</td>\n",
       "      <td>∼30 y</td>\n",
       "      <td>male</td>\n",
       "      <td>Gait instability</td>\n",
       "      <td>No progression</td>\n",
       "      <td>-</td>\n",
       "      <td>53 y</td>\n",
       "      <td>...</td>\n",
       "      <td>-</td>\n",
       "      <td>-</td>\n",
       "      <td>Normal</td>\n",
       "      <td>-</td>\n",
       "      <td>4/5 toe extensors</td>\n",
       "      <td>Reduced</td>\n",
       "      <td>Hammer toes, hallux valgus</td>\n",
       "      <td>-</td>\n",
       "      <td>Mild motor axonal neuropathy</td>\n",
       "      <td>A:II:3</td>\n",
       "    </tr>\n",
       "    <tr>\n",
       "      <th>A:II:4</th>\n",
       "      <td>c.415C&gt;T</td>\n",
       "      <td>c.415C&gt;T</td>\n",
       "      <td>p.R139*</td>\n",
       "      <td>P18Y</td>\n",
       "      <td>&lt;20 y</td>\n",
       "      <td>female</td>\n",
       "      <td>Slight weakness of right leg</td>\n",
       "      <td>No progression</td>\n",
       "      <td>-</td>\n",
       "      <td>46 y</td>\n",
       "      <td>...</td>\n",
       "      <td>-</td>\n",
       "      <td>-</td>\n",
       "      <td>Normal</td>\n",
       "      <td>-</td>\n",
       "      <td>2–4/5 in toe extensors</td>\n",
       "      <td>Reduced</td>\n",
       "      <td>-</td>\n",
       "      <td>-</td>\n",
       "      <td>N/P</td>\n",
       "      <td>A:II:4</td>\n",
       "    </tr>\n",
       "    <tr>\n",
       "      <th>A:III:1</th>\n",
       "      <td>c.415C&gt;T</td>\n",
       "      <td>c.415C&gt;T</td>\n",
       "      <td>p.R139*</td>\n",
       "      <td>P6Y</td>\n",
       "      <td>6 y</td>\n",
       "      <td>female</td>\n",
       "      <td>Gait instability, easily sprained ankles</td>\n",
       "      <td>Slow progression</td>\n",
       "      <td>Distal axonal neuropathy</td>\n",
       "      <td>29 y</td>\n",
       "      <td>...</td>\n",
       "      <td>-</td>\n",
       "      <td>-</td>\n",
       "      <td>Normal</td>\n",
       "      <td>Distal leg and foot intrinsics</td>\n",
       "      <td>0–2/5 toe extensors</td>\n",
       "      <td>Normal</td>\n",
       "      <td>-</td>\n",
       "      <td>Restless legs</td>\n",
       "      <td>Motor axonal neuropathy</td>\n",
       "      <td>A:III:1</td>\n",
       "    </tr>\n",
       "  </tbody>\n",
       "</table>\n",
       "<p>5 rows × 22 columns</p>\n",
       "</div>"
      ],
      "text/plain": [
       "individual_id NM_001130438.3 NM_003127.4  Protein onset_iso Age at onset  \\\n",
       "A:I:1               c.415C>T    c.415C>T  p.R139*      P18Y        <20 y   \n",
       "A:II:2              c.415C>T    c.415C>T  p.R139*      P30Y         30 y   \n",
       "A:II:3              c.415C>T    c.415C>T  p.R139*      P30Y        ∼30 y   \n",
       "A:II:4              c.415C>T    c.415C>T  p.R139*      P18Y        <20 y   \n",
       "A:III:1             c.415C>T    c.415C>T  p.R139*       P6Y          6 y   \n",
       "\n",
       "individual_id     Sex                          Initial symptoms  \\\n",
       "A:I:1            male            Gait instability steppage gait   \n",
       "A:II:2         female                    Easily sprained ankles   \n",
       "A:II:3           male                          Gait instability   \n",
       "A:II:4         female              Slight weakness of right leg   \n",
       "A:III:1        female  Gait instability, easily sprained ankles   \n",
       "\n",
       "individual_id       Progression Initial diagnosis at referral  \\\n",
       "A:I:1          Slow progression      Distal axonal neuropathy   \n",
       "A:II:2           No progression      Distal axonal neuropathy   \n",
       "A:II:3           No progression                             -   \n",
       "A:II:4           No progression                             -   \n",
       "A:III:1        Slow progression      Distal axonal neuropathy   \n",
       "\n",
       "individual_id Age at last examination  ... UL atrophy UL weakness UL reflexes  \\\n",
       "A:I:1                            85 y  ...          -           -     Reduced   \n",
       "A:II:2                           58 y  ...          -           -      Normal   \n",
       "A:II:3                           53 y  ...          -           -      Normal   \n",
       "A:II:4                           46 y  ...          -           -      Normal   \n",
       "A:III:1                          29 y  ...          -           -      Normal   \n",
       "\n",
       "individual_id                      LL atrophy             LL weakness  \\\n",
       "A:I:1          Distal leg and foot intrinsics              4/5 distal   \n",
       "A:II:2                                      -       4/5 toe extensors   \n",
       "A:II:3                                      -       4/5 toe extensors   \n",
       "A:II:4                                      -  2–4/5 in toe extensors   \n",
       "A:III:1        Distal leg and foot intrinsics     0–2/5 toe extensors   \n",
       "\n",
       "individual_id LL reflexes              Foot deformity  \\\n",
       "A:I:1              Absent                           -   \n",
       "A:II:2            Reduced                 Hammer toes   \n",
       "A:II:3            Reduced  Hammer toes, hallux valgus   \n",
       "A:II:4            Reduced                           -   \n",
       "A:III:1            Normal                           -   \n",
       "\n",
       "individual_id  Additional clinical features                       NCS/EMG  \\\n",
       "A:I:1          Requires orthopaedic insoles                           N/P   \n",
       "A:II:2         Requires orthopaedic insoles  Mild motor axonal neuropathy   \n",
       "A:II:3                                    -  Mild motor axonal neuropathy   \n",
       "A:II:4                                    -                           N/P   \n",
       "A:III:1                       Restless legs       Motor axonal neuropathy   \n",
       "\n",
       "individual_id individual_id  \n",
       "A:I:1                 A:I:1  \n",
       "A:II:2               A:II:2  \n",
       "A:II:3               A:II:3  \n",
       "A:II:4               A:II:4  \n",
       "A:III:1             A:III:1  \n",
       "\n",
       "[5 rows x 22 columns]"
      ]
     },
     "execution_count": 3,
     "metadata": {},
     "output_type": "execute_result"
    }
   ],
   "source": [
    "df = pd.read_excel(\"input/SPTAN1_Beijer_2019.xlsx\")\n",
    "dft = df.transpose()\n",
    "dft.columns = dft.iloc[0]\n",
    "dft.drop(dft.index[0], inplace=True)\n",
    "dft['individual_id'] = dft.index \n",
    "dft.head()"
   ]
  },
  {
   "cell_type": "code",
   "execution_count": 4,
   "id": "c708442c-2a64-4e58-8857-3771327c81e0",
   "metadata": {},
   "outputs": [],
   "source": [
    "#res = OptionColumnMapper.autoformat(df=dft, hpo_cr=hpo_cr)\n",
    "#print(res)\n",
    "column_mapper_list = list()"
   ]
  },
  {
   "cell_type": "code",
   "execution_count": 5,
   "id": "983827a6-b623-458d-941c-cd9819e2ae78",
   "metadata": {},
   "outputs": [
    {
     "data": {
      "text/html": [
       "<div>\n",
       "<style scoped>\n",
       "    .dataframe tbody tr th:only-of-type {\n",
       "        vertical-align: middle;\n",
       "    }\n",
       "\n",
       "    .dataframe tbody tr th {\n",
       "        vertical-align: top;\n",
       "    }\n",
       "\n",
       "    .dataframe thead th {\n",
       "        text-align: right;\n",
       "    }\n",
       "</style>\n",
       "<table border=\"1\" class=\"dataframe\">\n",
       "  <thead>\n",
       "    <tr style=\"text-align: right;\">\n",
       "      <th></th>\n",
       "      <th>mapping</th>\n",
       "      <th>count</th>\n",
       "    </tr>\n",
       "  </thead>\n",
       "  <tbody>\n",
       "    <tr>\n",
       "      <th>0</th>\n",
       "      <td>Steppage gait (HP:0003376) (observed)</td>\n",
       "      <td>2</td>\n",
       "    </tr>\n",
       "    <tr>\n",
       "      <th>1</th>\n",
       "      <td>Lower limb muscle weakness (HP:0007340) (observed)</td>\n",
       "      <td>3</td>\n",
       "    </tr>\n",
       "    <tr>\n",
       "      <th>2</th>\n",
       "      <td>Unsteady gait (HP:0002317) (observed)</td>\n",
       "      <td>2</td>\n",
       "    </tr>\n",
       "    <tr>\n",
       "      <th>3</th>\n",
       "      <td>Asthenia (HP:0025406) (observed)</td>\n",
       "      <td>1</td>\n",
       "    </tr>\n",
       "    <tr>\n",
       "      <th>4</th>\n",
       "      <td>Clumsiness (HP:0002312) (observed)</td>\n",
       "      <td>1</td>\n",
       "    </tr>\n",
       "    <tr>\n",
       "      <th>5</th>\n",
       "      <td>Foot dorsiflexor weakness (HP:0009027) (observed)</td>\n",
       "      <td>1</td>\n",
       "    </tr>\n",
       "    <tr>\n",
       "      <th>6</th>\n",
       "      <td>Difficulty walking (HP:0002355) (observed)</td>\n",
       "      <td>2</td>\n",
       "    </tr>\n",
       "  </tbody>\n",
       "</table>\n",
       "</div>"
      ],
      "text/plain": [
       "                                              mapping count\n",
       "0               Steppage gait (HP:0003376) (observed)     2\n",
       "1  Lower limb muscle weakness (HP:0007340) (observed)     3\n",
       "2               Unsteady gait (HP:0002317) (observed)     2\n",
       "3                    Asthenia (HP:0025406) (observed)     1\n",
       "4                  Clumsiness (HP:0002312) (observed)     1\n",
       "5   Foot dorsiflexor weakness (HP:0009027) (observed)     1\n",
       "6          Difficulty walking (HP:0002355) (observed)     2"
      ]
     },
     "execution_count": 5,
     "metadata": {},
     "output_type": "execute_result"
    }
   ],
   "source": [
    "initial_symptoms_d = {'Gait instability steppage gait': 'Steppage gait',\n",
    " \n",
    " 'Gait instability': 'Unsteady gait',\n",
    " 'Slight weakness of right leg': 'Asthenia',\n",
    " 'easily sprained ankles': 'Lower limb muscle weakness',\n",
    " 'Clumsiness': 'Clumsiness',\n",
    " 'Steppage gait': 'Steppage gait',\n",
    " 'lower limb weakness': 'Lower limb muscle weakness',\n",
    " 'Difficulty to walk on heels': 'Foot dorsiflexor weakness',\n",
    " 'Walking difficulties': 'Difficulty walking'}\n",
    "excluded = {}\n",
    "initial_symptomsMapper = OptionColumnMapper(column_name=\"Initial symptoms\", concept_recognizer=hpo_cr, option_d=initial_symptoms_d, excluded_d=excluded)\n",
    "column_mapper_list.append(initial_symptomsMapper)\n",
    "initial_symptomsMapper.preview_column(dft)"
   ]
  },
  {
   "cell_type": "code",
   "execution_count": 6,
   "id": "773250af-5036-4287-9577-28dc306ad75e",
   "metadata": {},
   "outputs": [
    {
     "data": {
      "text/html": [
       "<div>\n",
       "<style scoped>\n",
       "    .dataframe tbody tr th:only-of-type {\n",
       "        vertical-align: middle;\n",
       "    }\n",
       "\n",
       "    .dataframe tbody tr th {\n",
       "        vertical-align: top;\n",
       "    }\n",
       "\n",
       "    .dataframe thead th {\n",
       "        text-align: right;\n",
       "    }\n",
       "</style>\n",
       "<table border=\"1\" class=\"dataframe\">\n",
       "  <thead>\n",
       "    <tr style=\"text-align: right;\">\n",
       "      <th></th>\n",
       "      <th>mapping</th>\n",
       "      <th>count</th>\n",
       "    </tr>\n",
       "  </thead>\n",
       "  <tbody>\n",
       "    <tr>\n",
       "      <th>0</th>\n",
       "      <td>Impaired vibratory sensation (HP:0002495) (observed)</td>\n",
       "      <td>3</td>\n",
       "    </tr>\n",
       "    <tr>\n",
       "      <th>1</th>\n",
       "      <td>Hypoesthesia (HP:0033748) (observed)</td>\n",
       "      <td>1</td>\n",
       "    </tr>\n",
       "  </tbody>\n",
       "</table>\n",
       "</div>"
      ],
      "text/plain": [
       "                                                mapping count\n",
       "0  Impaired vibratory sensation (HP:0002495) (observed)     3\n",
       "1                  Hypoesthesia (HP:0033748) (observed)     1"
      ]
     },
     "execution_count": 6,
     "metadata": {},
     "output_type": "execute_result"
    }
   ],
   "source": [
    "sensory_d = {'Slight reduction in vibration sense': 'Impaired vibratory sensation',\n",
    " 'Mild touch hypo-aesthesia': 'Hypoesthesia'}\n",
    "excluded = {}\n",
    "sensoryMapper = OptionColumnMapper(column_name=\"Sensory involvement\", \n",
    "                                   concept_recognizer=hpo_cr, option_d=sensory_d, excluded_d=excluded)\n",
    "column_mapper_list.append(sensoryMapper)\n",
    "sensoryMapper.preview_column(dft)\n"
   ]
  },
  {
   "cell_type": "code",
   "execution_count": 7,
   "id": "9135c6f6-6338-45c8-a90f-88bcb4e853fa",
   "metadata": {},
   "outputs": [
    {
     "data": {
      "text/html": [
       "<div>\n",
       "<style scoped>\n",
       "    .dataframe tbody tr th:only-of-type {\n",
       "        vertical-align: middle;\n",
       "    }\n",
       "\n",
       "    .dataframe tbody tr th {\n",
       "        vertical-align: top;\n",
       "    }\n",
       "\n",
       "    .dataframe thead th {\n",
       "        text-align: right;\n",
       "    }\n",
       "</style>\n",
       "<table border=\"1\" class=\"dataframe\">\n",
       "  <thead>\n",
       "    <tr style=\"text-align: right;\">\n",
       "      <th></th>\n",
       "      <th>mapping</th>\n",
       "      <th>count</th>\n",
       "    </tr>\n",
       "  </thead>\n",
       "  <tbody>\n",
       "    <tr>\n",
       "      <th>0</th>\n",
       "      <td>Loss of ambulation (HP:0002505) (observed)</td>\n",
       "      <td>1</td>\n",
       "    </tr>\n",
       "    <tr>\n",
       "      <th>1</th>\n",
       "      <td>Unsteady gait (HP:0002317) (observed)</td>\n",
       "      <td>1</td>\n",
       "    </tr>\n",
       "    <tr>\n",
       "      <th>2</th>\n",
       "      <td>Asthenia (HP:0025406) (observed)</td>\n",
       "      <td>1</td>\n",
       "    </tr>\n",
       "    <tr>\n",
       "      <th>3</th>\n",
       "      <td>Frequent falls (HP:0002359) (observed)</td>\n",
       "      <td>1</td>\n",
       "    </tr>\n",
       "    <tr>\n",
       "      <th>4</th>\n",
       "      <td>Foot dorsiflexor weakness (HP:0009027) (observed)</td>\n",
       "      <td>4</td>\n",
       "    </tr>\n",
       "    <tr>\n",
       "      <th>5</th>\n",
       "      <td>Steppage gait (HP:0003376) (observed)</td>\n",
       "      <td>4</td>\n",
       "    </tr>\n",
       "  </tbody>\n",
       "</table>\n",
       "</div>"
      ],
      "text/plain": [
       "                                             mapping count\n",
       "0         Loss of ambulation (HP:0002505) (observed)     1\n",
       "1              Unsteady gait (HP:0002317) (observed)     1\n",
       "2                   Asthenia (HP:0025406) (observed)     1\n",
       "3             Frequent falls (HP:0002359) (observed)     1\n",
       "4  Foot dorsiflexor weakness (HP:0009027) (observed)     4\n",
       "5              Steppage gait (HP:0003376) (observed)     4"
      ]
     },
     "execution_count": 7,
     "metadata": {},
     "output_type": "execute_result"
    }
   ],
   "source": [
    "gait_d = {'Wheelchair bound': 'Loss of ambulation',\n",
    " 'Gait instability': 'Unsteady gait',\n",
    " 'frequent falls': 'Frequent falls',\n",
    " 'No heel walking': 'Foot dorsiflexor weakness',\n",
    " 'Steppage gait': 'Steppage gait',\n",
    " 'no heel walking': 'Foot dorsiflexor weakness'}\n",
    "excluded = {}\n",
    "gaitMapper = OptionColumnMapper(column_name=\"Gait\", concept_recognizer=hpo_cr, option_d=gait_d, excluded_d=excluded)\n",
    "column_mapper_list.append(gaitMapper)\n",
    "gaitMapper.preview_column(dft)"
   ]
  },
  {
   "cell_type": "code",
   "execution_count": 8,
   "id": "cc57089a-82b5-49c4-bf0d-7d617ac04143",
   "metadata": {},
   "outputs": [
    {
     "data": {
      "text/html": [
       "<div>\n",
       "<style scoped>\n",
       "    .dataframe tbody tr th:only-of-type {\n",
       "        vertical-align: middle;\n",
       "    }\n",
       "\n",
       "    .dataframe tbody tr th {\n",
       "        vertical-align: top;\n",
       "    }\n",
       "\n",
       "    .dataframe thead th {\n",
       "        text-align: right;\n",
       "    }\n",
       "</style>\n",
       "<table border=\"1\" class=\"dataframe\">\n",
       "  <thead>\n",
       "    <tr style=\"text-align: right;\">\n",
       "      <th></th>\n",
       "      <th>mapping</th>\n",
       "      <th>count</th>\n",
       "    </tr>\n",
       "  </thead>\n",
       "  <tbody>\n",
       "    <tr>\n",
       "      <th>0</th>\n",
       "      <td>Upper limb amyotrophy (HP:0009129) (observed)</td>\n",
       "      <td>2</td>\n",
       "    </tr>\n",
       "  </tbody>\n",
       "</table>\n",
       "</div>"
      ],
      "text/plain": [
       "                                         mapping count\n",
       "0  Upper limb amyotrophy (HP:0009129) (observed)     2"
      ]
     },
     "execution_count": 8,
     "metadata": {},
     "output_type": "execute_result"
    }
   ],
   "source": [
    "ul_atrophy_d = {'Mild': 'Upper limb amyotrophy'}\n",
    "excluded = {}\n",
    "ul_atrophyMapper = OptionColumnMapper(column_name=\"UL atrophy\", concept_recognizer=hpo_cr, option_d=ul_atrophy_d, excluded_d=excluded)\n",
    "column_mapper_list.append(ul_atrophyMapper)\n",
    "ul_atrophyMapper.preview_column(dft)"
   ]
  },
  {
   "cell_type": "code",
   "execution_count": 9,
   "id": "52b1796e-0db9-4b41-abe2-a8f8bad4eaca",
   "metadata": {},
   "outputs": [
    {
     "data": {
      "text/html": [
       "<div>\n",
       "<style scoped>\n",
       "    .dataframe tbody tr th:only-of-type {\n",
       "        vertical-align: middle;\n",
       "    }\n",
       "\n",
       "    .dataframe tbody tr th {\n",
       "        vertical-align: top;\n",
       "    }\n",
       "\n",
       "    .dataframe thead th {\n",
       "        text-align: right;\n",
       "    }\n",
       "</style>\n",
       "<table border=\"1\" class=\"dataframe\">\n",
       "  <thead>\n",
       "    <tr style=\"text-align: right;\">\n",
       "      <th></th>\n",
       "      <th>mapping</th>\n",
       "      <th>count</th>\n",
       "    </tr>\n",
       "  </thead>\n",
       "  <tbody>\n",
       "    <tr>\n",
       "      <th>0</th>\n",
       "      <td>Upper limb muscle weakness (HP:0003484) (observed)</td>\n",
       "      <td>2</td>\n",
       "    </tr>\n",
       "  </tbody>\n",
       "</table>\n",
       "</div>"
      ],
      "text/plain": [
       "                                              mapping count\n",
       "0  Upper limb muscle weakness (HP:0003484) (observed)     2"
      ]
     },
     "execution_count": 9,
     "metadata": {},
     "output_type": "execute_result"
    }
   ],
   "source": [
    "ul_weakness_d = {'Mild': 'Upper limb muscle weakness'}\n",
    "excluded = {}\n",
    "ul_weaknessMapper = OptionColumnMapper(column_name=\"UL weakness\", concept_recognizer=hpo_cr, option_d=ul_weakness_d, excluded_d=excluded)\n",
    "column_mapper_list.append(ul_weaknessMapper)\n",
    "ul_weaknessMapper.preview_column(dft)"
   ]
  },
  {
   "cell_type": "code",
   "execution_count": 10,
   "id": "25a60e81-a74d-4ff0-92f0-f40805407804",
   "metadata": {},
   "outputs": [
    {
     "data": {
      "text/html": [
       "<div>\n",
       "<style scoped>\n",
       "    .dataframe tbody tr th:only-of-type {\n",
       "        vertical-align: middle;\n",
       "    }\n",
       "\n",
       "    .dataframe tbody tr th {\n",
       "        vertical-align: top;\n",
       "    }\n",
       "\n",
       "    .dataframe thead th {\n",
       "        text-align: right;\n",
       "    }\n",
       "</style>\n",
       "<table border=\"1\" class=\"dataframe\">\n",
       "  <thead>\n",
       "    <tr style=\"text-align: right;\">\n",
       "      <th></th>\n",
       "      <th>mapping</th>\n",
       "      <th>count</th>\n",
       "    </tr>\n",
       "  </thead>\n",
       "  <tbody>\n",
       "    <tr>\n",
       "      <th>0</th>\n",
       "      <td>Hyporeflexia of upper limbs (HP:0012391) (observed)</td>\n",
       "      <td>3</td>\n",
       "    </tr>\n",
       "    <tr>\n",
       "      <th>1</th>\n",
       "      <td>Hyporeflexia of upper limbs (HP:0012391) (excluded)</td>\n",
       "      <td>9</td>\n",
       "    </tr>\n",
       "  </tbody>\n",
       "</table>\n",
       "</div>"
      ],
      "text/plain": [
       "                                               mapping count\n",
       "0  Hyporeflexia of upper limbs (HP:0012391) (observed)     3\n",
       "1  Hyporeflexia of upper limbs (HP:0012391) (excluded)     9"
      ]
     },
     "execution_count": 10,
     "metadata": {},
     "output_type": "execute_result"
    }
   ],
   "source": [
    "ul_reflexes_d = {'Reduced': 'Hyporeflexia of upper limbs', }\n",
    "excluded = {'Normal': 'Hyporeflexia of upper limbs'}\n",
    "ul_reflexesMapper = OptionColumnMapper(column_name=\"UL reflexes\", concept_recognizer=hpo_cr, option_d=ul_reflexes_d, excluded_d=excluded)\n",
    "column_mapper_list.append(ul_reflexesMapper)\n",
    "ul_reflexesMapper.preview_column(dft)"
   ]
  },
  {
   "cell_type": "code",
   "execution_count": 11,
   "id": "e508225f-b8d5-4a04-a25a-81c4f4ba616d",
   "metadata": {},
   "outputs": [
    {
     "data": {
      "text/html": [
       "<div>\n",
       "<style scoped>\n",
       "    .dataframe tbody tr th:only-of-type {\n",
       "        vertical-align: middle;\n",
       "    }\n",
       "\n",
       "    .dataframe tbody tr th {\n",
       "        vertical-align: top;\n",
       "    }\n",
       "\n",
       "    .dataframe thead th {\n",
       "        text-align: right;\n",
       "    }\n",
       "</style>\n",
       "<table border=\"1\" class=\"dataframe\">\n",
       "  <thead>\n",
       "    <tr style=\"text-align: right;\">\n",
       "      <th></th>\n",
       "      <th>mapping</th>\n",
       "      <th>count</th>\n",
       "    </tr>\n",
       "  </thead>\n",
       "  <tbody>\n",
       "    <tr>\n",
       "      <th>0</th>\n",
       "      <td>Distal lower limb amyotrophy (HP:0008944) (observed)</td>\n",
       "      <td>7</td>\n",
       "    </tr>\n",
       "  </tbody>\n",
       "</table>\n",
       "</div>"
      ],
      "text/plain": [
       "                                                mapping count\n",
       "0  Distal lower limb amyotrophy (HP:0008944) (observed)     7"
      ]
     },
     "execution_count": 11,
     "metadata": {},
     "output_type": "execute_result"
    }
   ],
   "source": [
    "ll_atrophy_d = {'Distal leg and foot intrinsics': 'Distal lower limb amyotrophy',\n",
    " 'Calf atrophy': 'Distal lower limb amyotrophy',\n",
    " 'Moderate distal': 'Distal lower limb amyotrophy',\n",
    " 'Severe distal': 'Distal lower limb amyotrophy'}\n",
    "excluded = {}\n",
    "ll_atrophyMapper = OptionColumnMapper(column_name=\"LL atrophy\", concept_recognizer=hpo_cr, option_d=ll_atrophy_d, excluded_d=excluded)\n",
    "column_mapper_list.append(ll_atrophyMapper)\n",
    "ll_atrophyMapper.preview_column(dft)"
   ]
  },
  {
   "cell_type": "code",
   "execution_count": 12,
   "id": "6c1d4a9b-969a-42b9-b2a8-481429a78227",
   "metadata": {},
   "outputs": [
    {
     "data": {
      "text/html": [
       "<div>\n",
       "<style scoped>\n",
       "    .dataframe tbody tr th:only-of-type {\n",
       "        vertical-align: middle;\n",
       "    }\n",
       "\n",
       "    .dataframe tbody tr th {\n",
       "        vertical-align: top;\n",
       "    }\n",
       "\n",
       "    .dataframe thead th {\n",
       "        text-align: right;\n",
       "    }\n",
       "</style>\n",
       "<table border=\"1\" class=\"dataframe\">\n",
       "  <thead>\n",
       "    <tr style=\"text-align: right;\">\n",
       "      <th></th>\n",
       "      <th>mapping</th>\n",
       "      <th>count</th>\n",
       "    </tr>\n",
       "  </thead>\n",
       "  <tbody>\n",
       "    <tr>\n",
       "      <th>0</th>\n",
       "      <td>Distal lower limb muscle weakness (HP:0009053) (observed)</td>\n",
       "      <td>11</td>\n",
       "    </tr>\n",
       "  </tbody>\n",
       "</table>\n",
       "</div>"
      ],
      "text/plain": [
       "                                                     mapping count\n",
       "0  Distal lower limb muscle weakness (HP:0009053) (observed)    11"
      ]
     },
     "execution_count": 12,
     "metadata": {},
     "output_type": "execute_result"
    }
   ],
   "source": [
    "ll_weakness_d = {'4/5 distal': 'Distal lower limb muscle weakness',\n",
    " '4/5 toe extensors': 'Distal lower limb muscle weakness',\n",
    " '2–4/5 in toe extensors': 'Distal lower limb muscle weakness',\n",
    " '0–2/5 toe extensors': 'Distal lower limb muscle weakness',\n",
    " '2–4/5 toe extensors': 'Distal lower limb muscle weakness',\n",
    " 'Mild distal (4/5)': 'Distal lower limb muscle weakness',\n",
    " '1–2/5 toe extensor': 'Distal lower limb muscle weakness',\n",
    " 'PL 3/5 TA 2/5': 'Distal lower limb muscle weakness',\n",
    " '4/5 toe extensor and distal leg': 'Distal lower limb muscle weakness'}\n",
    "excluded = {}\n",
    "ll_weaknessMapper = OptionColumnMapper(column_name=\"LL weakness\", concept_recognizer=hpo_cr, option_d=ll_weakness_d, excluded_d=excluded)\n",
    "column_mapper_list.append(ll_weaknessMapper)\n",
    "ll_weaknessMapper.preview_column(dft)"
   ]
  },
  {
   "cell_type": "code",
   "execution_count": 13,
   "id": "23f30316-85cc-484d-9bdb-c46b7c48e6d2",
   "metadata": {},
   "outputs": [
    {
     "data": {
      "text/html": [
       "<div>\n",
       "<style scoped>\n",
       "    .dataframe tbody tr th:only-of-type {\n",
       "        vertical-align: middle;\n",
       "    }\n",
       "\n",
       "    .dataframe tbody tr th {\n",
       "        vertical-align: top;\n",
       "    }\n",
       "\n",
       "    .dataframe thead th {\n",
       "        text-align: right;\n",
       "    }\n",
       "</style>\n",
       "<table border=\"1\" class=\"dataframe\">\n",
       "  <thead>\n",
       "    <tr style=\"text-align: right;\">\n",
       "      <th></th>\n",
       "      <th>mapping</th>\n",
       "      <th>count</th>\n",
       "    </tr>\n",
       "  </thead>\n",
       "  <tbody>\n",
       "    <tr>\n",
       "      <th>0</th>\n",
       "      <td>Areflexia of lower limbs (HP:0002522) (observed)</td>\n",
       "      <td>3</td>\n",
       "    </tr>\n",
       "    <tr>\n",
       "      <th>1</th>\n",
       "      <td>Hyporeflexia of lower limbs (HP:0002600) (observed)</td>\n",
       "      <td>5</td>\n",
       "    </tr>\n",
       "    <tr>\n",
       "      <th>2</th>\n",
       "      <td>Areflexia of lower limbs (HP:0002522) (excluded)</td>\n",
       "      <td>4</td>\n",
       "    </tr>\n",
       "  </tbody>\n",
       "</table>\n",
       "</div>"
      ],
      "text/plain": [
       "                                               mapping count\n",
       "0     Areflexia of lower limbs (HP:0002522) (observed)     3\n",
       "1  Hyporeflexia of lower limbs (HP:0002600) (observed)     5\n",
       "2     Areflexia of lower limbs (HP:0002522) (excluded)     4"
      ]
     },
     "execution_count": 13,
     "metadata": {},
     "output_type": "execute_result"
    }
   ],
   "source": [
    "ll_reflexes_d = {'Absent': 'Areflexia of lower limbs',\n",
    " 'Reduced': 'Hyporeflexia of lower limbs',\n",
    " }\n",
    "excluded = {'Normal': 'Areflexia of lower limbs'}\n",
    "ll_reflexesMapper = OptionColumnMapper(column_name=\"LL reflexes\", concept_recognizer=hpo_cr, option_d=ll_reflexes_d, excluded_d=excluded)\n",
    "column_mapper_list.append(ll_reflexesMapper)\n",
    "ll_reflexesMapper.preview_column(dft)"
   ]
  },
  {
   "cell_type": "code",
   "execution_count": 14,
   "id": "b8d43243-8e4b-46cd-990c-fae8f88aa55d",
   "metadata": {},
   "outputs": [
    {
     "data": {
      "text/html": [
       "<div>\n",
       "<style scoped>\n",
       "    .dataframe tbody tr th:only-of-type {\n",
       "        vertical-align: middle;\n",
       "    }\n",
       "\n",
       "    .dataframe tbody tr th {\n",
       "        vertical-align: top;\n",
       "    }\n",
       "\n",
       "    .dataframe thead th {\n",
       "        text-align: right;\n",
       "    }\n",
       "</style>\n",
       "<table border=\"1\" class=\"dataframe\">\n",
       "  <thead>\n",
       "    <tr style=\"text-align: right;\">\n",
       "      <th></th>\n",
       "      <th>mapping</th>\n",
       "      <th>count</th>\n",
       "    </tr>\n",
       "  </thead>\n",
       "  <tbody>\n",
       "    <tr>\n",
       "      <th>0</th>\n",
       "      <td>Hammertoe (HP:0001765) (observed)</td>\n",
       "      <td>5</td>\n",
       "    </tr>\n",
       "    <tr>\n",
       "      <th>1</th>\n",
       "      <td>Hallux valgus (HP:0001822) (observed)</td>\n",
       "      <td>3</td>\n",
       "    </tr>\n",
       "    <tr>\n",
       "      <th>2</th>\n",
       "      <td>Pes planus (HP:0001763) (observed)</td>\n",
       "      <td>2</td>\n",
       "    </tr>\n",
       "    <tr>\n",
       "      <th>3</th>\n",
       "      <td>Pes cavus (HP:0001761) (observed)</td>\n",
       "      <td>2</td>\n",
       "    </tr>\n",
       "  </tbody>\n",
       "</table>\n",
       "</div>"
      ],
      "text/plain": [
       "                                 mapping count\n",
       "0      Hammertoe (HP:0001765) (observed)     5\n",
       "1  Hallux valgus (HP:0001822) (observed)     3\n",
       "2     Pes planus (HP:0001763) (observed)     2\n",
       "3      Pes cavus (HP:0001761) (observed)     2"
      ]
     },
     "execution_count": 14,
     "metadata": {},
     "output_type": "execute_result"
    }
   ],
   "source": [
    "foot_d = {'Hammer toes': 'Hammertoe',\n",
    " 'hallux valgus': 'Hallux valgus',\n",
    " 'Flat feet and claw toes': 'Pes planus',\n",
    " 'Flat feet': 'Pes planus',\n",
    " 'Hallux valgus': 'Hallux valgus',\n",
    " 'Pes cavus': 'Pes cavus',\n",
    " 'hammer toes': 'Hammertoe'}\n",
    "footMapper = OptionColumnMapper(column_name=\"Foot deformity\", concept_recognizer=hpo_cr, option_d=foot_d)\n",
    "column_mapper_list.append(footMapper)\n",
    "footMapper.preview_column(dft)"
   ]
  },
  {
   "cell_type": "code",
   "execution_count": 15,
   "id": "76475983-b626-4ec3-9069-4bc0e2fedda0",
   "metadata": {},
   "outputs": [
    {
     "data": {
      "text/html": [
       "<div>\n",
       "<style scoped>\n",
       "    .dataframe tbody tr th:only-of-type {\n",
       "        vertical-align: middle;\n",
       "    }\n",
       "\n",
       "    .dataframe tbody tr th {\n",
       "        vertical-align: top;\n",
       "    }\n",
       "\n",
       "    .dataframe thead th {\n",
       "        text-align: right;\n",
       "    }\n",
       "</style>\n",
       "<table border=\"1\" class=\"dataframe\">\n",
       "  <thead>\n",
       "    <tr style=\"text-align: right;\">\n",
       "      <th></th>\n",
       "      <th>mapping</th>\n",
       "      <th>count</th>\n",
       "    </tr>\n",
       "  </thead>\n",
       "  <tbody>\n",
       "    <tr>\n",
       "      <th>0</th>\n",
       "      <td>Restless legs (HP:0012452) (observed)</td>\n",
       "      <td>1</td>\n",
       "    </tr>\n",
       "    <tr>\n",
       "      <th>1</th>\n",
       "      <td>Achilles tendon contracture (HP:0001771) (observed)</td>\n",
       "      <td>2</td>\n",
       "    </tr>\n",
       "  </tbody>\n",
       "</table>\n",
       "</div>"
      ],
      "text/plain": [
       "                                               mapping count\n",
       "0                Restless legs (HP:0012452) (observed)     1\n",
       "1  Achilles tendon contracture (HP:0001771) (observed)     2"
      ]
     },
     "execution_count": 15,
     "metadata": {},
     "output_type": "execute_result"
    }
   ],
   "source": [
    "additional_d = {\n",
    " 'Restless legs': 'Restless legs',\n",
    " 'Short Achilles tendon': 'Achilles tendon contracture'}\n",
    "additionalMapper = OptionColumnMapper(column_name=\"Additional clinical features\", \n",
    "                                      concept_recognizer=hpo_cr, option_d=additional_d)\n",
    "column_mapper_list.append(additionalMapper)\n",
    "additionalMapper.preview_column(dft)"
   ]
  },
  {
   "cell_type": "code",
   "execution_count": 16,
   "id": "12b8da33-fa69-4db0-912a-a66af0757e28",
   "metadata": {},
   "outputs": [
    {
     "data": {
      "text/html": [
       "<div>\n",
       "<style scoped>\n",
       "    .dataframe tbody tr th:only-of-type {\n",
       "        vertical-align: middle;\n",
       "    }\n",
       "\n",
       "    .dataframe tbody tr th {\n",
       "        vertical-align: top;\n",
       "    }\n",
       "\n",
       "    .dataframe thead th {\n",
       "        text-align: right;\n",
       "    }\n",
       "</style>\n",
       "<table border=\"1\" class=\"dataframe\">\n",
       "  <thead>\n",
       "    <tr style=\"text-align: right;\">\n",
       "      <th></th>\n",
       "      <th>mapping</th>\n",
       "      <th>count</th>\n",
       "    </tr>\n",
       "  </thead>\n",
       "  <tbody>\n",
       "    <tr>\n",
       "      <th>0</th>\n",
       "      <td>Motor axonal neuropathy (HP:0007002) (observed)</td>\n",
       "      <td>7</td>\n",
       "    </tr>\n",
       "    <tr>\n",
       "      <th>1</th>\n",
       "      <td>Peripheral axonal neuropathy (HP:0003477) (observed)</td>\n",
       "      <td>3</td>\n",
       "    </tr>\n",
       "  </tbody>\n",
       "</table>\n",
       "</div>"
      ],
      "text/plain": [
       "                                                mapping count\n",
       "0       Motor axonal neuropathy (HP:0007002) (observed)     7\n",
       "1  Peripheral axonal neuropathy (HP:0003477) (observed)     3"
      ]
     },
     "execution_count": 16,
     "metadata": {},
     "output_type": "execute_result"
    }
   ],
   "source": [
    "ncs_emg_d = {\n",
    " 'Mild motor axonal neuropathy': 'Motor axonal neuropathy',\n",
    " 'Motor axonal neuropathy': 'Motor axonal neuropathy',\n",
    " 'Motor predominant axonal neuropathy': 'Peripheral axonal neuropathy'}\n",
    "excluded = {}\n",
    "ncs_emgMapper = OptionColumnMapper(column_name=\"NCS/EMG\", concept_recognizer=hpo_cr, option_d=ncs_emg_d, excluded_d=excluded)\n",
    "column_mapper_list.append(ncs_emgMapper)\n",
    "ncs_emgMapper.preview_column(dft)"
   ]
  },
  {
   "attachments": {},
   "cell_type": "markdown",
   "id": "26bdb5eb-4d72-470b-b614-5d5af5882343",
   "metadata": {},
   "source": [
    "# Variants\n",
    "The variant that was reported as NM_003127:c.6385C>T in the original manuscript appears to be erroneous. Consulting Figure 3 suggests that the variant is NM_003127.4:c.6445C>T, corrresponding to NP_003118.2:p.(Q2149*).\n",
    "\n",
    "For these phenopackets, we are coding the variants with the MANE transcript (converted using Mutalyzer)\n",
    "NM_003127.4:c.6445C>T: NM_001130438.3:c.6460C>T -- p.(Gln2154Ter)\n",
    "\n",
    "The other variants had correct HGNC notation, and the positions were the same for both transcripts\n",
    "- NM_003127.4:c.415C>T - NM_001130438.3:c.415C>T\n",
    "- NM_003127.4:c.4615C>T- NM_001130438.3:c.4615C>T\n"
   ]
  },
  {
   "cell_type": "code",
   "execution_count": 17,
   "id": "e9b67937-d822-4136-86bb-cf303be0be9a",
   "metadata": {},
   "outputs": [
    {
     "name": "stdout",
     "output_type": "stream",
     "text": [
      "[INFO] encoding variant \"c.4615C>T\"\n",
      "https://rest.variantvalidator.org/VariantValidator/variantvalidator/hg38/NM_001130438.3%3Ac.4615C>T/NM_001130438.3?content-type=application%2Fjson\n",
      "[INFO] encoding variant \"c.6460C>T\"\n",
      "https://rest.variantvalidator.org/VariantValidator/variantvalidator/hg38/NM_001130438.3%3Ac.6460C>T/NM_001130438.3?content-type=application%2Fjson\n",
      "[INFO] encoding variant \"c.415C>T\"\n",
      "https://rest.variantvalidator.org/VariantValidator/variantvalidator/hg38/NM_001130438.3%3Ac.415C>T/NM_001130438.3?content-type=application%2Fjson\n"
     ]
    }
   ],
   "source": [
    "SPTAN1_id = \"HGNC:11273\"\n",
    "SPTAN1_transcript = \"NM_001130438.3\"\n",
    "vman = VariantManager(df=dft, individual_column_name=\"individual_id\", allele_1_column_name=\"NM_001130438.3\",\n",
    "                      gene_symbol=\"SPTAN1\", transcript=SPTAN1_transcript, overwrite=True)"
   ]
  },
  {
   "cell_type": "code",
   "execution_count": 18,
   "id": "fd07b8cc-5c08-4390-86e9-349b1cf7ee48",
   "metadata": {},
   "outputs": [],
   "source": [
    "var_d = vman.get_variant_d()\n",
    "varMapper = VariantColumnMapper(variant_column_name=\"NM_001130438.3\", variant_d=var_d, default_genotype=\"heterozygous\")"
   ]
  },
  {
   "cell_type": "code",
   "execution_count": 19,
   "id": "459d06c5-e6eb-41d0-be17-ed8e037ae718",
   "metadata": {},
   "outputs": [],
   "source": [
    "HMND11 = Disease(disease_label=\"Neuronopathy, distal hereditary motor, autosomal dominant 11\", \n",
    "                disease_id=\"OMIM:620528\")\n",
    "ageMapper = AgeColumnMapper.iso8601(column_name=\"onset_iso\")\n",
    "sexMapper = SexColumnMapper(male_symbol='male', female_symbol='female', column_name='Sex')"
   ]
  },
  {
   "cell_type": "code",
   "execution_count": 20,
   "id": "4b020cee-ba97-4eea-8217-529a668d8032",
   "metadata": {},
   "outputs": [],
   "source": [
    "encoder = CohortEncoder(df=dft, \n",
    "                    hpo_cr=hpo_cr, \n",
    "                        column_mapper_list=column_mapper_list, \n",
    "                        individual_column_name='individual_id',\n",
    "                        age_of_onset_mapper=ageMapper, \n",
    "                        sexmapper=sexMapper,\n",
    "                        variant_mapper=varMapper,\n",
    "                        metadata=metadata)\n",
    "encoder.set_disease(HMND11)"
   ]
  },
  {
   "cell_type": "code",
   "execution_count": 21,
   "id": "7df59216-3bc8-4001-87a1-80f446b47be8",
   "metadata": {},
   "outputs": [
    {
     "name": "stdout",
     "output_type": "stream",
     "text": [
      "Could not parse the following as ISO8601 ages: na (n=1)\n"
     ]
    }
   ],
   "source": [
    "individuals = encoder.get_individuals()"
   ]
  },
  {
   "cell_type": "code",
   "execution_count": 22,
   "id": "1ba9ecf7-6e83-4679-a77c-7057d93c5db7",
   "metadata": {},
   "outputs": [
    {
     "data": {
      "text/html": [
       "<h2>Cohort validation</h2>\n",
       "<p>Errors found with 6 of 12 phenopackets.</p>\n",
       "<table style=\"border: 2px solid black; align: \"left\">\n",
       "<caption>Error counts</caption>\n",
       "<tr><th style=\"text-align: left;font-weight: bold;\">Level</th><th style=\"text-align: left;font-weight: bold;\">Error category</th><th style=\"text-align: left;font-weight: bold;\">Count</th></tr>\n",
       "<tr><td style=\"text-align: left;\">WARNING</td><td style=\"text-align: left;\">REDUNDANT</td><td style=\"text-align: left;\">3</td></tr>\n",
       "</table>\n",
       "<p>A total of 7 issues were fixed and no individual was removed from the cohort.</p>"
      ],
      "text/plain": [
       "<IPython.core.display.HTML object>"
      ]
     },
     "metadata": {},
     "output_type": "display_data"
    }
   ],
   "source": [
    "cvalidator = CohortValidator(cohort=individuals, ontology=hpo_ontology, min_hpo=1, \n",
    "                             allelic_requirement=AllelicRequirement.MONO_ALLELIC)\n",
    "qc = QcVisualizer(cohort_validator=cvalidator)\n",
    "display(HTML(qc.to_summary_html()))"
   ]
  },
  {
   "cell_type": "code",
   "execution_count": 23,
   "id": "dbab90e2-97da-470b-9acd-c93d1ed485b0",
   "metadata": {},
   "outputs": [
    {
     "data": {
      "text/html": [
       "<table style=\"border: 2px solid black; align: \"left\">\n",
       "<caption>12 phenopackets - PMID:31332438 (n=12)</caption>\n",
       "<tr><th style=\"text-align: left;font-weight: bold;\">Individual</th><th style=\"text-align: left;font-weight: bold;\">Disease</th><th style=\"text-align: left;font-weight: bold;\">Genotype</th><th style=\"text-align: left;font-weight: bold;\">Phenotypic features</th></tr>\n",
       "<tr><td style=\"text-align: left;\">A:I:1 (MALE; n/a)</td><td style=\"text-align: left;\">Neuronopathy, distal hereditary motor, autosomal dominant 11 (OMIM:620528)</td><td style=\"text-align: left;\">NM_001130438.3:c.415C>T (heterozygous)</td><td style=\"text-align: left;\">Steppage gait (HP:0003376); Loss of ambulation (HP:0002505); Hyporeflexia of upper limbs (HP:0012391); Distal lower limb amyotrophy (HP:0008944); Distal lower limb muscle weakness (HP:0009053); Areflexia of lower limbs (HP:0002522)</td></tr>\n",
       "<tr><td style=\"text-align: left;\">A:II:2 (FEMALE; n/a)</td><td style=\"text-align: left;\">Neuronopathy, distal hereditary motor, autosomal dominant 11 (OMIM:620528)</td><td style=\"text-align: left;\">NM_001130438.3:c.415C>T (heterozygous)</td><td style=\"text-align: left;\">Distal lower limb muscle weakness (HP:0009053); Hyporeflexia of lower limbs (HP:0002600); Hammertoe (HP:0001765); Motor axonal neuropathy (HP:0007002); excluded: Hyporeflexia of upper limbs (HP:0012391)</td></tr>\n",
       "<tr><td style=\"text-align: left;\">A:II:3 (MALE; n/a)</td><td style=\"text-align: left;\">Neuronopathy, distal hereditary motor, autosomal dominant 11 (OMIM:620528)</td><td style=\"text-align: left;\">NM_001130438.3:c.415C>T (heterozygous)</td><td style=\"text-align: left;\">Impaired vibratory sensation (HP:0002495); Unsteady gait (HP:0002317); Motor axonal neuropathy (HP:0007002); Distal lower limb muscle weakness (HP:0009053); Hallux valgus (HP:0001822); Hammertoe (HP:0001765); Hyporeflexia of lower limbs (HP:0002600); excluded: Hyporeflexia of upper limbs (HP:0012391)</td></tr>\n",
       "<tr><td style=\"text-align: left;\">A:II:4 (FEMALE; n/a)</td><td style=\"text-align: left;\">Neuronopathy, distal hereditary motor, autosomal dominant 11 (OMIM:620528)</td><td style=\"text-align: left;\">NM_001130438.3:c.415C>T (heterozygous)</td><td style=\"text-align: left;\">Asthenia (HP:0025406); Hyporeflexia of lower limbs (HP:0002600); Distal lower limb muscle weakness (HP:0009053); excluded: Hyporeflexia of upper limbs (HP:0012391)</td></tr>\n",
       "<tr><td style=\"text-align: left;\">A:III:1 (FEMALE; n/a)</td><td style=\"text-align: left;\">Neuronopathy, distal hereditary motor, autosomal dominant 11 (OMIM:620528)</td><td style=\"text-align: left;\">NM_001130438.3:c.415C>T (heterozygous)</td><td style=\"text-align: left;\">Unsteady gait (HP:0002317); Impaired vibratory sensation (HP:0002495); Frequent falls (HP:0002359); Distal lower limb amyotrophy (HP:0008944); Distal lower limb muscle weakness (HP:0009053); Restless legs (HP:0012452); Motor axonal neuropathy (HP:0007002); excluded: Hyporeflexia of upper limbs (HP:0012391); excluded: Areflexia of lower limbs (HP:0002522)</td></tr>\n",
       "<tr><td style=\"text-align: left;\">A:III:2 (MALE; n/a)</td><td style=\"text-align: left;\">Neuronopathy, distal hereditary motor, autosomal dominant 11 (OMIM:620528)</td><td style=\"text-align: left;\">NM_001130438.3:c.415C>T (heterozygous)</td><td style=\"text-align: left;\">Impaired vibratory sensation (HP:0002495); Distal lower limb muscle weakness (HP:0009053); Hammertoe (HP:0001765); Hallux valgus (HP:0001822); Motor axonal neuropathy (HP:0007002); excluded: Hyporeflexia of upper limbs (HP:0012391); excluded: Areflexia of lower limbs (HP:0002522)</td></tr>\n",
       "<tr><td style=\"text-align: left;\">B:II:2 (FEMALE; n/a)</td><td style=\"text-align: left;\">Neuronopathy, distal hereditary motor, autosomal dominant 11 (OMIM:620528)</td><td style=\"text-align: left;\">NM_001130438.3:c.4615C>T (heterozygous)</td><td style=\"text-align: left;\">Foot dorsiflexor weakness (HP:0009027); Distal lower limb amyotrophy (HP:0008944); Distal lower limb muscle weakness (HP:0009053); Pes planus (HP:0001763); Motor axonal neuropathy (HP:0007002); excluded: Hyporeflexia of upper limbs (HP:0012391); excluded: Areflexia of lower limbs (HP:0002522)</td></tr>\n",
       "<tr><td style=\"text-align: left;\">B:III:2 (FEMALE; n/a)</td><td style=\"text-align: left;\">Neuronopathy, distal hereditary motor, autosomal dominant 11 (OMIM:620528)</td><td style=\"text-align: left;\">NM_001130438.3:c.4615C>T (heterozygous)</td><td style=\"text-align: left;\">Clumsiness (HP:0002312); Foot dorsiflexor weakness (HP:0009027); Distal lower limb amyotrophy (HP:0008944); Distal lower limb muscle weakness (HP:0009053); Pes planus (HP:0001763); Motor axonal neuropathy (HP:0007002); excluded: Hyporeflexia of upper limbs (HP:0012391); excluded: Areflexia of lower limbs (HP:0002522)</td></tr>\n",
       "<tr><td style=\"text-align: left;\">B:IV:1 (MALE; n/a)</td><td style=\"text-align: left;\">Neuronopathy, distal hereditary motor, autosomal dominant 11 (OMIM:620528)</td><td style=\"text-align: left;\">NM_001130438.3:c.4615C>T (heterozygous)</td><td style=\"text-align: left;\">Steppage gait (HP:0003376); Achilles tendon contracture (HP:0001771); Foot dorsiflexor weakness (HP:0009027); Distal lower limb muscle weakness (HP:0009053); Peripheral axonal neuropathy (HP:0003477); Distal lower limb amyotrophy (HP:0008944); Hyporeflexia of lower limbs (HP:0002600); excluded: Hyporeflexia of upper limbs (HP:0012391)</td></tr>\n",
       "<tr><td style=\"text-align: left;\">B:IV:2 (MALE; n/a)</td><td style=\"text-align: left;\">Neuronopathy, distal hereditary motor, autosomal dominant 11 (OMIM:620528)</td><td style=\"text-align: left;\">NM_001130438.3:c.4615C>T (heterozygous)</td><td style=\"text-align: left;\">Steppage gait (HP:0003376); Foot dorsiflexor weakness (HP:0009027); Hallux valgus (HP:0001822); Peripheral axonal neuropathy (HP:0003477); Hyporeflexia of lower limbs (HP:0002600); excluded: Hyporeflexia of upper limbs (HP:0012391)</td></tr>\n",
       "<tr><td style=\"text-align: left;\">C:III:2 (FEMALE; n/a)</td><td style=\"text-align: left;\">Neuronopathy, distal hereditary motor, autosomal dominant 11 (OMIM:620528)</td><td style=\"text-align: left;\">NM_001130438.3:c.6460C>T (heterozygous)</td><td style=\"text-align: left;\">Difficulty walking (HP:0002355); Hypoesthesia (HP:0033748); Steppage gait (HP:0003376); Upper limb amyotrophy (HP:0009129); Upper limb muscle weakness (HP:0003484); Hyporeflexia of upper limbs (HP:0012391); Distal lower limb amyotrophy (HP:0008944); Distal lower limb muscle weakness (HP:0009053); Areflexia of lower limbs (HP:0002522); Pes cavus (HP:0001761); Hammertoe (HP:0001765); Achilles tendon contracture (HP:0001771); Peripheral axonal neuropathy (HP:0003477)</td></tr>\n",
       "<tr><td style=\"text-align: left;\">C:III:3 (MALE; n/a)</td><td style=\"text-align: left;\">Neuronopathy, distal hereditary motor, autosomal dominant 11 (OMIM:620528)</td><td style=\"text-align: left;\">NM_001130438.3:c.6460C>T (heterozygous)</td><td style=\"text-align: left;\">Difficulty walking (HP:0002355); Steppage gait (HP:0003376); Upper limb amyotrophy (HP:0009129); Upper limb muscle weakness (HP:0003484); Hyporeflexia of upper limbs (HP:0012391); Distal lower limb amyotrophy (HP:0008944); Distal lower limb muscle weakness (HP:0009053); Areflexia of lower limbs (HP:0002522); Pes cavus (HP:0001761); Hammertoe (HP:0001765); Motor axonal neuropathy (HP:0007002)</td></tr>\n",
       "</table>"
      ],
      "text/plain": [
       "<IPython.core.display.HTML object>"
      ]
     },
     "metadata": {},
     "output_type": "display_data"
    }
   ],
   "source": [
    "individuals = cvalidator.get_error_free_individual_list()\n",
    "table = PhenopacketTable(individual_list=individuals, metadata=metadata)\n",
    "display(HTML(table.to_html()))"
   ]
  },
  {
   "cell_type": "code",
   "execution_count": 24,
   "id": "0bcd273c-50ec-48f0-8774-41f27ed30d83",
   "metadata": {},
   "outputs": [
    {
     "name": "stdout",
     "output_type": "stream",
     "text": [
      "We output 12 GA4GH phenopackets to the directory phenopackets\n"
     ]
    }
   ],
   "source": [
    "Individual.output_individuals_as_phenopackets(individual_list=individuals,\n",
    "                                              metadata=metadata)"
   ]
  },
  {
   "cell_type": "code",
   "execution_count": null,
   "id": "c7c0ba6a-d1de-4e22-b6c7-ceba2af40cb6",
   "metadata": {},
   "outputs": [],
   "source": []
  }
 ],
 "metadata": {
  "kernelspec": {
   "display_name": "ps24venv",
   "language": "python",
   "name": "python3"
  },
  "language_info": {
   "codemirror_mode": {
    "name": "ipython",
    "version": 3
   },
   "file_extension": ".py",
   "mimetype": "text/x-python",
   "name": "python",
   "nbconvert_exporter": "python",
   "pygments_lexer": "ipython3",
   "version": "3.9.6"
  }
 },
 "nbformat": 4,
 "nbformat_minor": 5
}
