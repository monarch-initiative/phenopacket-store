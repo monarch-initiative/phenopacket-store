{
 "cells": [
  {
   "cell_type": "markdown",
   "id": "bc0ca02a-678a-455f-8684-1a2eef590661",
   "metadata": {},
   "source": [
    "# SPAN1: Developmental and epileptic encephalopathy 5 (DEE5)\n",
    "Deleterious variants in SPTAN1 are associated with several diseases including\n",
    "[Developmental and epileptic encephalopathy 5-OMIM:613477](https://omim.org/entry/613477)."
   ]
  },
  {
   "cell_type": "code",
   "execution_count": 1,
   "id": "fb7fa39d-afcc-4a29-8897-17c18f13425b",
   "metadata": {},
   "outputs": [
    {
     "name": "stdout",
     "output_type": "stream",
     "text": [
      "Using pyphetools version 0.9.72\n"
     ]
    }
   ],
   "source": [
    "from pyphetools.creation import TemplateImporter\n",
    "from pyphetools.visualization import IndividualTable, QcVisualizer\n",
    "from IPython.display import display, HTML\n",
    "import pyphetools\n",
    "print(f\"Using pyphetools version {pyphetools.__version__}\")"
   ]
  },
  {
   "cell_type": "code",
   "execution_count": 2,
   "id": "91a38046-7a70-422b-aff2-032fcb8304bc",
   "metadata": {},
   "outputs": [],
   "source": [
    "template = \"input/SPTAN1_DEE5_individuals.xlsx\"\n",
    "hp_json = \"../hp.json\"\n",
    "created_by = \"0000-0002-0736-9199\""
   ]
  },
  {
   "cell_type": "code",
   "execution_count": 3,
   "id": "5e291fd8-0f2e-497d-a0db-e8d040f82f74",
   "metadata": {},
   "outputs": [
    {
     "name": "stdout",
     "output_type": "stream",
     "text": [
      "HPO version 2024-03-06\n",
      "Created encoders for 43 fields\n",
      "Importing OMIM:613477, Developmental and epileptic encephalopathy 5, HGNC:11273, SPTAN1,  NM_001130438.3\n",
      "We output 22 GA4GH phenopackets to the directory phenopackets\n"
     ]
    }
   ],
   "source": [
    "timporter = TemplateImporter(template=template, hp_json=hp_json, created_by=created_by)\n",
    "individual_list, cvalidator = timporter.import_phenopackets_from_template()"
   ]
  },
  {
   "cell_type": "code",
   "execution_count": 4,
   "id": "e885b760-8e2f-4fa0-97d0-cd81170f9581",
   "metadata": {},
   "outputs": [
    {
     "data": {
      "text/html": [
       "<h2>Cohort validation</h2>\n",
       "<p>Errors found with 18 of 22 phenopackets.</p>\n",
       "<table style=\"border: 2px solid black; align: \"left\">\n",
       "<caption>Error counts</caption>\n",
       "<tr><th style=\"text-align: left;font-weight: bold;\">Level</th><th style=\"text-align: left;font-weight: bold;\">Error category</th><th style=\"text-align: left;font-weight: bold;\">Count</th></tr>\n",
       "<tr><td style=\"text-align: left;\">WARNING</td><td style=\"text-align: left;\">REDUNDANT</td><td style=\"text-align: left;\">32</td></tr>\n",
       "</table>\n",
       "<p>A total of 32 issues were fixed and no individual was removed from the cohort.</p>"
      ],
      "text/plain": [
       "<IPython.core.display.HTML object>"
      ]
     },
     "metadata": {},
     "output_type": "display_data"
    }
   ],
   "source": [
    "qc = QcVisualizer(cohort_validator=cvalidator)\n",
    "display(HTML(qc.to_summary_html()))"
   ]
  },
  {
   "cell_type": "code",
   "execution_count": 5,
   "id": "aa39ea94-2ddc-4009-91ab-bff090d0636e",
   "metadata": {},
   "outputs": [
    {
     "data": {
      "text/html": [
       "<table style=\"border: 2px solid black; align: \"left\">\n",
       "<caption>22 phenopackets - PMID:20493457 (n=2); PMID:22258530 (n=14); PMID:29050398 (n=1); PMID:36331550 (n=5)</caption>\n",
       "<tr><th style=\"text-align: left;font-weight: bold;\">Individual</th><th style=\"text-align: left;font-weight: bold;\">Disease</th><th style=\"text-align: left;font-weight: bold;\">Genotype</th><th style=\"text-align: left;font-weight: bold;\">Phenotypic features</th></tr>\n",
       "<tr><td style=\"text-align: left;\">Subject 2 (FEMALE; P7Y)</td><td style=\"text-align: left;\">Developmental and epileptic encephalopathy 5 (OMIM:613477)</td><td style=\"text-align: left;\">NM_001130438.3:c.6619_6621del (heterozygous)</td><td style=\"text-align: left;\"><b>P2Y11M</b>: Microcephaly (HP:0000252)<br/>Seizure (HP:0001250); Intellectual disability (HP:0001249); Global developmental delay (HP:0001263); Atrophy/Degeneration affecting the brainstem (HP:0007366); Cerebral atrophy (HP:0002059); Hypsarrhythmia (HP:0002521); Ventriculomegaly (HP:0002119); Cerebellar atrophy (HP:0001272); Spastic tetraplegia (HP:0002510); Thin corpus callosum (HP:0033725); Poor head control (HP:0002421); excluded: Tonic seizure (HP:0032792); excluded: Bilateral tonic-clonic seizure (HP:0002069); excluded: Generalized non-motor (absence) seizure (HP:0002121)</td></tr>\n",
       "<tr><td style=\"text-align: left;\">Subject 3 (MALE; P3Y)</td><td style=\"text-align: left;\">Developmental and epileptic encephalopathy 5 (OMIM:613477)</td><td style=\"text-align: left;\">NM_001130438.3:c.6923_6928dup (heterozygous)</td><td style=\"text-align: left;\">Seizure (HP:0001250); Global developmental delay (HP:0001263); Atrophy/Degeneration affecting the brainstem (HP:0007366); Cerebral atrophy (HP:0002059); Hypsarrhythmia (HP:0002521); Ventriculomegaly (HP:0002119); Cerebellar atrophy (HP:0001272); Spastic tetraplegia (HP:0002510); Thin corpus callosum (HP:0033725); Poor head control (HP:0002421); excluded: Tonic seizure (HP:0032792); excluded: Bilateral tonic-clonic seizure (HP:0002069); excluded: Generalized non-motor (absence) seizure (HP:0002121)</td></tr>\n",
       "<tr><td style=\"text-align: left;\">Patient-2 (MALE; P11Y)</td><td style=\"text-align: left;\">Developmental and epileptic encephalopathy 5 (OMIM:613477)</td><td style=\"text-align: left;\">NM_001130438.3:c.6605_6607del (heterozygous)</td><td style=\"text-align: left;\"><b>P1Y5M</b>: Atrophy/Degeneration affecting the brainstem (HP:0007366); Cerebellar atrophy (HP:0001272)<br/><b>P2Y</b>: Bilateral tonic-clonic seizure (HP:0002069); Generalized non-motor (absence) seizure (HP:0002121)<br/>Global developmental delay (HP:0001263); Absent speech (HP:0001344); Hypotonia (HP:0001252); excluded: Tonic seizure (HP:0032792); excluded: Microcephaly (HP:0000252)</td></tr>\n",
       "<tr><td style=\"text-align: left;\">Patient 19 (FEMALE; P3Y6M)</td><td style=\"text-align: left;\">Developmental and epileptic encephalopathy 5 (OMIM:613477)</td><td style=\"text-align: left;\">NM_001130438.3:c.5326C>T (heterozygous)</td><td style=\"text-align: left;\">Infantile spasms (HP:0012469); Focal-onset seizure (HP:0007359); Intellectual disability (HP:0001249); Hypsarrhythmia (HP:0002521); Autistic behavior (HP:0000729); excluded: Tonic seizure (HP:0032792); excluded: Bilateral tonic-clonic seizure (HP:0002069); excluded: Generalized non-motor (absence) seizure (HP:0002121); excluded: Atrophy/Degeneration affecting the brainstem (HP:0007366); excluded: Absent speech (HP:0001344); excluded: Cerebral atrophy (HP:0002059); excluded: Ventriculomegaly (HP:0002119); excluded: Cerebellar atrophy (HP:0001272); excluded: Spastic tetraplegia (HP:0002510); excluded: Hyperreflexia (HP:0001347); excluded: Thin corpus callosum (HP:0033725); excluded: Hypotonia (HP:0001252); excluded: Coloboma (HP:0000589); excluded: Microcephaly (HP:0000252); excluded: Poor head control (HP:0002421); excluded: Myoclonus (HP:0001336); excluded: Delayed CNS myelination (HP:0002188)</td></tr>\n",
       "<tr><td style=\"text-align: left;\">Patient 5 (FEMALE; P3Y)</td><td style=\"text-align: left;\">Developmental and epileptic encephalopathy 5 (OMIM:613477)</td><td style=\"text-align: left;\">NM_001130438.3:c.6184C>T (heterozygous)</td><td style=\"text-align: left;\">Tonic seizure (HP:0032792); Focal impaired awareness seizure (HP:0002384); Global developmental delay (HP:0001263); Hypsarrhythmia (HP:0002521); Hypotonia (HP:0001252); Microcephaly (HP:0000252); Delayed CNS myelination (HP:0002188); excluded: Bilateral tonic-clonic seizure (HP:0002069); excluded: Generalized non-motor (absence) seizure (HP:0002121); excluded: Infantile spasms (HP:0012469)</td></tr>\n",
       "<tr><td style=\"text-align: left;\">Patient 6 (FEMALE; P3Y)</td><td style=\"text-align: left;\">Developmental and epileptic encephalopathy 5 (OMIM:613477)</td><td style=\"text-align: left;\">NM_001130438.3:c.6619_6621del (heterozygous)</td><td style=\"text-align: left;\">Infantile spasms (HP:0012469); Global developmental delay (HP:0001263); Hypsarrhythmia (HP:0002521); Brain atrophy (HP:0012444); Hypotonia (HP:0001252); Microcephaly (HP:0000252); Delayed CNS myelination (HP:0002188); excluded: Tonic seizure (HP:0032792); excluded: Bilateral tonic-clonic seizure (HP:0002069); excluded: Generalized non-motor (absence) seizure (HP:0002121); excluded: Focal impaired awareness seizure (HP:0002384)</td></tr>\n",
       "<tr><td style=\"text-align: left;\">Patient 7 (FEMALE; P3Y)</td><td style=\"text-align: left;\">Developmental and epileptic encephalopathy 5 (OMIM:613477)</td><td style=\"text-align: left;\">NM_001130438.3:c.6619_6621del (heterozygous)</td><td style=\"text-align: left;\">Tonic seizure (HP:0032792); Infantile spasms (HP:0012469); Global developmental delay (HP:0001263); Atrophy/Degeneration affecting the brainstem (HP:0007366); Hypsarrhythmia (HP:0002521); Cerebellar atrophy (HP:0001272); Thin corpus callosum (HP:0033725); Hypotonia (HP:0001252); Microcephaly (HP:0000252); Delayed CNS myelination (HP:0002188); excluded: Bilateral tonic-clonic seizure (HP:0002069); excluded: Generalized non-motor (absence) seizure (HP:0002121); excluded: Focal impaired awareness seizure (HP:0002384)</td></tr>\n",
       "<tr><td style=\"text-align: left;\">Patient 8 (FEMALE; P4Y)</td><td style=\"text-align: left;\">Developmental and epileptic encephalopathy 5 (OMIM:613477)</td><td style=\"text-align: left;\">NM_001130438.3:c.6622_6624del (heterozygous)</td><td style=\"text-align: left;\">Infantile spasms (HP:0012469); Global developmental delay (HP:0001263); Atrophy/Degeneration affecting the brainstem (HP:0007366); Hypsarrhythmia (HP:0002521); Brain atrophy (HP:0012444); Cerebellar atrophy (HP:0001272); Thin corpus callosum (HP:0033725); Hypotonia (HP:0001252); Microcephaly (HP:0000252); Delayed CNS myelination (HP:0002188); excluded: Tonic seizure (HP:0032792); excluded: Bilateral tonic-clonic seizure (HP:0002069); excluded: Generalized non-motor (absence) seizure (HP:0002121); excluded: Focal impaired awareness seizure (HP:0002384)</td></tr>\n",
       "<tr><td style=\"text-align: left;\">Patient 9 (FEMALE; P3Y)</td><td style=\"text-align: left;\">Developmental and epileptic encephalopathy 5 (OMIM:613477)</td><td style=\"text-align: left;\">NM_001130438.3:c.6811G>A (heterozygous)</td><td style=\"text-align: left;\"><b>P10M</b>: Delayed CNS myelination (HP:0002188)<br/>Tonic seizure (HP:0032792); Infantile spasms (HP:0012469); Global developmental delay (HP:0001263); Atrophy/Degeneration affecting the brainstem (HP:0007366); Cerebral atrophy (HP:0002059); Hypsarrhythmia (HP:0002521); Thin corpus callosum (HP:0033725); Hypotonia (HP:0001252); Microcephaly (HP:0000252); Myoclonus (HP:0001336); excluded: Bilateral tonic-clonic seizure (HP:0002069); excluded: Generalized non-motor (absence) seizure (HP:0002121); excluded: Focal impaired awareness seizure (HP:0002384)</td></tr>\n",
       "<tr><td style=\"text-align: left;\">Patient 20 (MALE; P3Y)</td><td style=\"text-align: left;\">Developmental and epileptic encephalopathy 5 (OMIM:613477)</td><td style=\"text-align: left;\">NM_001130438.3:c.6850_6852del (heterozygous)</td><td style=\"text-align: left;\">Infantile spasms (HP:0012469); Global developmental delay (HP:0001263); Cerebellar atrophy (HP:0001272); Thin corpus callosum (HP:0033725); Hypotonia (HP:0001252); excluded: Tonic seizure (HP:0032792); excluded: Bilateral tonic-clonic seizure (HP:0002069); excluded: Generalized non-motor (absence) seizure (HP:0002121); excluded: Focal impaired awareness seizure (HP:0002384); excluded: Hypsarrhythmia (HP:0002521)</td></tr>\n",
       "<tr><td style=\"text-align: left;\">Patient 10 (FEMALE; P3Y6M)</td><td style=\"text-align: left;\">Developmental and epileptic encephalopathy 5 (OMIM:613477)</td><td style=\"text-align: left;\">NM_001130438.3:c.6908_6916dup (heterozygous)</td><td style=\"text-align: left;\">Tonic seizure (HP:0032792); Infantile spasms (HP:0012469); Global developmental delay (HP:0001263); Atrophy/Degeneration affecting the brainstem (HP:0007366); Hypsarrhythmia (HP:0002521); Brain atrophy (HP:0012444); Cerebellar atrophy (HP:0001272); Thin corpus callosum (HP:0033725); Hypotonia (HP:0001252); Delayed CNS myelination (HP:0002188); excluded: Bilateral tonic-clonic seizure (HP:0002069); excluded: Generalized non-motor (absence) seizure (HP:0002121); excluded: Focal impaired awareness seizure (HP:0002384)</td></tr>\n",
       "<tr><td style=\"text-align: left;\">Patient 11 (MALE; P6Y)</td><td style=\"text-align: left;\">Developmental and epileptic encephalopathy 5 (OMIM:613477)</td><td style=\"text-align: left;\">NM_001130438.3:c.6908_6916dup (heterozygous)</td><td style=\"text-align: left;\">Infantile spasms (HP:0012469); Focal-onset seizure (HP:0007359); Global developmental delay (HP:0001263); Atrophy/Degeneration affecting the brainstem (HP:0007366); Hypsarrhythmia (HP:0002521); Brain atrophy (HP:0012444); Cerebellar atrophy (HP:0001272); Thin corpus callosum (HP:0033725); Hypotonia (HP:0001252); Microcephaly (HP:0000252); Delayed CNS myelination (HP:0002188); excluded: Tonic seizure (HP:0032792); excluded: Bilateral tonic-clonic seizure (HP:0002069); excluded: Generalized non-motor (absence) seizure (HP:0002121); excluded: Focal impaired awareness seizure (HP:0002384)</td></tr>\n",
       "<tr><td style=\"text-align: left;\">Patient 12 (FEMALE; P2Y)</td><td style=\"text-align: left;\">Developmental and epileptic encephalopathy 5 (OMIM:613477)</td><td style=\"text-align: left;\">NM_001130438.3:c.6908_6916dup (heterozygous)</td><td style=\"text-align: left;\">Infantile spasms (HP:0012469); Focal impaired awareness seizure (HP:0002384); Global developmental delay (HP:0001263); Hypsarrhythmia (HP:0002521); Brain atrophy (HP:0012444); Cerebellar atrophy (HP:0001272); Thin corpus callosum (HP:0033725); Hypotonia (HP:0001252); Microcephaly (HP:0000252); Delayed CNS myelination (HP:0002188); excluded: Tonic seizure (HP:0032792); excluded: Bilateral tonic-clonic seizure (HP:0002069); excluded: Generalized non-motor (absence) seizure (HP:0002121)</td></tr>\n",
       "<tr><td style=\"text-align: left;\">Patient 13 (MALE; P5Y7M)</td><td style=\"text-align: left;\">Developmental and epileptic encephalopathy 5 (OMIM:613477)</td><td style=\"text-align: left;\">NM_001130438.3:c.6908_6916dup (heterozygous)</td><td style=\"text-align: left;\">Infantile spasms (HP:0012469); Global developmental delay (HP:0001263); Hypsarrhythmia (HP:0002521); Thin corpus callosum (HP:0033725); Hypotonia (HP:0001252); Microcephaly (HP:0000252); Myoclonus (HP:0001336); Delayed CNS myelination (HP:0002188); Cerebellar vermis hypoplasia (HP:0001320); Opisthotonus (HP:0002179); excluded: Tonic seizure (HP:0032792); excluded: Bilateral tonic-clonic seizure (HP:0002069); excluded: Generalized non-motor (absence) seizure (HP:0002121); excluded: Focal impaired awareness seizure (HP:0002384)</td></tr>\n",
       "<tr><td style=\"text-align: left;\">Patient 14 (FEMALE; P4Y3M)</td><td style=\"text-align: left;\">Developmental and epileptic encephalopathy 5 (OMIM:613477)</td><td style=\"text-align: left;\">NM_001130438.3:c.6908_6916dup (heterozygous)</td><td style=\"text-align: left;\">Tonic seizure (HP:0032792); Infantile spasms (HP:0012469); Global developmental delay (HP:0001263); Atrophy/Degeneration affecting the brainstem (HP:0007366); Hypsarrhythmia (HP:0002521); Brain atrophy (HP:0012444); Cerebellar atrophy (HP:0001272); Thin corpus callosum (HP:0033725); Hypotonia (HP:0001252); Microcephaly (HP:0000252); Delayed CNS myelination (HP:0002188); excluded: Bilateral tonic-clonic seizure (HP:0002069); excluded: Generalized non-motor (absence) seizure (HP:0002121); excluded: Focal impaired awareness seizure (HP:0002384)</td></tr>\n",
       "<tr><td style=\"text-align: left;\">Patient 16 (MALE; P6Y)</td><td style=\"text-align: left;\">Developmental and epileptic encephalopathy 5 (OMIM:613477)</td><td style=\"text-align: left;\">NM_001130438.3:c.6910_6918del (heterozygous)</td><td style=\"text-align: left;\">Infantile spasms (HP:0012469); Intellectual disability (HP:0001249); Global developmental delay (HP:0001263); Hypsarrhythmia (HP:0002521); Ventriculomegaly (HP:0002119); Thin corpus callosum (HP:0033725); Depressed nasal bridge (HP:0005280); Frontal bossing (HP:0002007); excluded: Tonic seizure (HP:0032792); excluded: Bilateral tonic-clonic seizure (HP:0002069); excluded: Generalized non-motor (absence) seizure (HP:0002121); excluded: Focal impaired awareness seizure (HP:0002384)</td></tr>\n",
       "<tr><td style=\"text-align: left;\">Patient 17 (MALE; P3Y)</td><td style=\"text-align: left;\">Developmental and epileptic encephalopathy 5 (OMIM:613477)</td><td style=\"text-align: left;\">NM_001130438.3:c.6923_6928dup (heterozygous)</td><td style=\"text-align: left;\">Tonic seizure (HP:0032792); Infantile spasms (HP:0012469); Global developmental delay (HP:0001263); Atrophy/Degeneration affecting the brainstem (HP:0007366); Hypsarrhythmia (HP:0002521); Cerebellar atrophy (HP:0001272); Thin corpus callosum (HP:0033725); Microcephaly (HP:0000252); Delayed CNS myelination (HP:0002188); excluded: Bilateral tonic-clonic seizure (HP:0002069); excluded: Generalized non-motor (absence) seizure (HP:0002121); excluded: Focal impaired awareness seizure (HP:0002384)</td></tr>\n",
       "<tr><td style=\"text-align: left;\">Family 22 Patient 27 (FEMALE; P16Y)</td><td style=\"text-align: left;\">Developmental and epileptic encephalopathy 5 (OMIM:613477)</td><td style=\"text-align: left;\">NM_001130438.3:c.6247_6249del (heterozygous)</td><td style=\"text-align: left;\"><b>P2M</b>: Generalized non-motor (absence) seizure (HP:0002121)<br/>Intellectual disability (HP:0001249); Global developmental delay (HP:0001263); Ataxia (HP:0001251); Strabismus (HP:0000486); excluded: Tonic seizure (HP:0032792); excluded: Microcephaly (HP:0000252)</td></tr>\n",
       "<tr><td style=\"text-align: left;\">Family 23 Patient 28 (MALE; P12Y)</td><td style=\"text-align: left;\">Developmental and epileptic encephalopathy 5 (OMIM:613477)</td><td style=\"text-align: left;\">NM_001130438.3:c.6811G>A (heterozygous)</td><td style=\"text-align: left;\"><b>P4M</b>: Seizure (HP:0001250)<br/>Intellectual disability (HP:0001249); Global developmental delay (HP:0001263); Microcephaly (HP:0000252); Lower limb hyperreflexia (HP:0002395); excluded: Tonic seizure (HP:0032792); excluded: Hypsarrhythmia (HP:0002521)</td></tr>\n",
       "<tr><td style=\"text-align: left;\">Family 24 Patient 29 (FEMALE; P20Y)</td><td style=\"text-align: left;\">Developmental and epileptic encephalopathy 5 (OMIM:613477)</td><td style=\"text-align: left;\">NM_001130438.3:c.6619_6621del (heterozygous)</td><td style=\"text-align: left;\"><b>P4M</b>: Seizure (HP:0001250)<br/>Intellectual disability (HP:0001249); Global developmental delay (HP:0001263); Microcephaly (HP:0000252); Spasticity (HP:0001257); Babinski sign (HP:0003487); Strabismus (HP:0000486); Upper limb muscle weakness (HP:0003484); Lower limb muscle weakness (HP:0007340); excluded: Tonic seizure (HP:0032792); excluded: Hypsarrhythmia (HP:0002521)</td></tr>\n",
       "<tr><td style=\"text-align: left;\">Family 25 Patient 30 (FEMALE; P7Y)</td><td style=\"text-align: left;\">Developmental and epileptic encephalopathy 5 (OMIM:613477)</td><td style=\"text-align: left;\">NM_001130438.3:c.4344G>A (heterozygous)</td><td style=\"text-align: left;\"><b>P4M</b>: Infantile spasms (HP:0012469)<br/>Intellectual disability (HP:0001249); Global developmental delay (HP:0001263); Hypsarrhythmia (HP:0002521); Microcephaly (HP:0000252); Nystagmus (HP:0000639); Upper limb muscle weakness (HP:0003484); Lower limb muscle weakness (HP:0007340); excluded: Tonic seizure (HP:0032792)</td></tr>\n",
       "<tr><td style=\"text-align: left;\">Family 26 Patient 31 (MALE; P1Y)</td><td style=\"text-align: left;\">Developmental and epileptic encephalopathy 5 (OMIM:613477)</td><td style=\"text-align: left;\">NM_001130438.3:c.6908_6916dup (heterozygous)</td><td style=\"text-align: left;\">Bilateral tonic-clonic seizure (HP:0002069); Microcephaly (HP:0000252); excluded: Tonic seizure (HP:0032792); excluded: Hypsarrhythmia (HP:0002521)</td></tr>\n",
       "</table>"
      ],
      "text/plain": [
       "<IPython.core.display.HTML object>"
      ]
     },
     "metadata": {},
     "output_type": "display_data"
    }
   ],
   "source": [
    "table = IndividualTable(cvalidator.get_error_free_individual_list())\n",
    "display(HTML(table.to_html()))"
   ]
  },
  {
   "cell_type": "code",
   "execution_count": 6,
   "id": "8a9e03b2-c418-438d-a565-b94b85fa7745",
   "metadata": {},
   "outputs": [
    {
     "name": "stdout",
     "output_type": "stream",
     "text": [
      "[pyphetools] Ingested 85 GA4GH phenopackets.\n",
      "[INFO] Extracted 22 from 85 phenopackets with OMIM:613477\n",
      "\n",
      "\tDevelopmental and epileptic encephalopathy 5 (OMIM:613477): n=22\n",
      "We found a total of 38 unique HPO terms\n",
      "Extracted disease: Developmental and epileptic encephalopathy 5 (OMIM:613477)\n",
      "Wrote HPOA disease file to OMIM-613477.tab\n"
     ]
    }
   ],
   "source": [
    "pmid = \"PMID:29050398\"\n",
    "df = timporter.create_hpoa_from_phenopackets(pmid=pmid, moi=\"Autosomal dominant\", target=\"OMIM:613477\")"
   ]
  },
  {
   "cell_type": "code",
   "execution_count": null,
   "id": "3c2b5cc3-6d82-411e-9a2b-1a1f19a7f415",
   "metadata": {},
   "outputs": [],
   "source": []
  }
 ],
 "metadata": {
  "kernelspec": {
   "display_name": "Python 3 (ipykernel)",
   "language": "python",
   "name": "python3"
  },
  "language_info": {
   "codemirror_mode": {
    "name": "ipython",
    "version": 3
   },
   "file_extension": ".py",
   "mimetype": "text/x-python",
   "name": "python",
   "nbconvert_exporter": "python",
   "pygments_lexer": "ipython3",
   "version": "3.8.10"
  }
 },
 "nbformat": 4,
 "nbformat_minor": 5
}
