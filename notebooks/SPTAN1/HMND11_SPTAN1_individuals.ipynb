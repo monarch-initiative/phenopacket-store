{
 "cells": [
  {
   "cell_type": "markdown",
   "id": "5c955e35-a0b6-4ebe-8c05-f01da66f9650",
   "metadata": {},
   "source": [
    "# HMND11 (SPTAN1)\n",
    "[Autosomal dominant distal hereditary motor neuronopathy-11 (HMND11)](https://omim.org/entry/620528) is caused by heterozygous mutation in the SPTAN1 gene.\n",
    "\n",
    "In the publication by [Beier et al. (2019)](https://pubmed.ncbi.nlm.nih.gov/31332438/), the variant that was reported as NM_003127:c.6385C>T in the original manuscript (for Family C) appears to be erroneous. Consulting Figure 3 suggests that the variant is NM_003127.4:c.6445C>T, corrresponding to NP_003118.2:p.(Q2149*), i.e., NM_001130438.3:c.6460C>T;NP_001123910.1:p.(Gln2154Ter)."
   ]
  },
  {
   "cell_type": "code",
   "execution_count": 1,
   "id": "aecdb492-ba5f-4e50-948f-a5930b441fa7",
   "metadata": {},
   "outputs": [
    {
     "name": "stdout",
     "output_type": "stream",
     "text": [
      "Using pyphetools version 0.9.117\n"
     ]
    }
   ],
   "source": [
    "from pyphetools.creation import TemplateImporter\n",
    "from pyphetools.visualization import IndividualTable, QcVisualizer\n",
    "from IPython.display import display, HTML\n",
    "import pyphetools\n",
    "print(f\"Using pyphetools version {pyphetools.__version__}\")"
   ]
  },
  {
   "cell_type": "code",
   "execution_count": 2,
   "id": "1b83e683-cc7f-43c3-967c-cfef1ab27bc9",
   "metadata": {},
   "outputs": [],
   "source": [
    "template = \"input/SPTAN1_individuals_HMND11.xlsx\"\n",
    "hp_json = \"../hp.json\"\n",
    "created_by = \"0000-0002-0736-9199\""
   ]
  },
  {
   "cell_type": "code",
   "execution_count": 3,
   "id": "1e55a15f-8bb0-473d-9777-a60fbb1391b0",
   "metadata": {},
   "outputs": [
    {
     "name": "stdout",
     "output_type": "stream",
     "text": [
      "HPO version 2024-08-13\n",
      "Created encoders for 59 fields\n",
      "Importing OMIM:620528, Neuronopathy, distal hereditary motor, autosomal dominant 11, HGNC:11273, SPTAN1,  NM_001130438.3\n",
      "We output 14 GA4GH phenopackets to the directory phenopackets\n"
     ]
    }
   ],
   "source": [
    "timporter = TemplateImporter(template=template, hp_json=hp_json, created_by=created_by)\n",
    "individual_list, cvalidator = timporter.import_phenopackets_from_template()"
   ]
  },
  {
   "cell_type": "code",
   "execution_count": 4,
   "id": "10f1e4ed-ad76-4cf6-876b-b96629d6d6d9",
   "metadata": {},
   "outputs": [
    {
     "data": {
      "text/html": [
       "<h2>Cohort validation</h2>\n",
       "<p>Errors found with 2 of 14 phenopackets.</p>\n",
       "<table style=\"border: 2px solid black; align: \"left\">\n",
       "<caption>Error counts</caption>\n",
       "<tr><th style=\"text-align: left;font-weight: bold;\">Level</th><th style=\"text-align: left;font-weight: bold;\">Error category</th><th style=\"text-align: left;font-weight: bold;\">Count</th></tr>\n",
       "<tr><td style=\"text-align: left;\">WARNING</td><td style=\"text-align: left;\">REDUNDANT</td><td style=\"text-align: left;\">2</td></tr>\n",
       "</table>\n",
       "<p>A total of 2 issues were fixed and no individual was removed from the cohort.</p>"
      ],
      "text/plain": [
       "<IPython.core.display.HTML object>"
      ]
     },
     "metadata": {},
     "output_type": "display_data"
    }
   ],
   "source": [
    "qc = QcVisualizer(cohort_validator=cvalidator)\n",
    "display(HTML(qc.to_summary_html()))"
   ]
  },
  {
   "cell_type": "code",
   "execution_count": 5,
   "id": "169724cd-4953-4ae3-b154-3d6480c69e05",
   "metadata": {},
   "outputs": [
    {
     "data": {
      "text/html": [
       "<table style=\"border: 2px solid black; align: \"left\">\n",
       "<caption>14 phenopackets - PMID:33206935 (n=1); PMID:33578420 (n=1); PMID:31332438 (n=12)</caption>\n",
       "<tr><th style=\"text-align: left;font-weight: bold;\">Individual</th><th style=\"text-align: left;font-weight: bold;\">Disease</th><th style=\"text-align: left;font-weight: bold;\">Genotype</th><th style=\"text-align: left;font-weight: bold;\">Phenotypic features</th></tr>\n",
       "<tr><td style=\"text-align: left;\">ale patient  (MALE; P20Y)</td><td style=\"text-align: left;\">Neuronopathy, distal hereditary motor, autosomal dominant 11 (OMIM:620528)</td><td style=\"text-align: left;\">NM_001130438.3:c.6367del (heterozygous)</td><td style=\"text-align: left;\">Motor axonal neuropathy (HP:0007002): onset ; excluded: Elevated circulating creatine kinase concentration (HP:0003236): onset <br/><b>TimeElement(element=Age(iso8601duration=P11M))</b>: Motor delay (HP:0001270): onset age {\n",
       "  iso8601duration: \"P11M\"\n",
       "}\n",
       "; Hypotonia (HP:0001252): onset age {\n",
       "  iso8601duration: \"P11M\"\n",
       "}\n",
       "; Joint hypermobility (HP:0001382): onset age {\n",
       "  iso8601duration: \"P11M\"\n",
       "}\n",
       "<br/><b>TimeElement(element=Age(iso8601duration=P2Y))</b>: Delayed speech and language development (HP:0000750): onset age {\n",
       "  iso8601duration: \"P2Y\"\n",
       "}\n",
       "<br/><b>TimeElement(element=Age(iso8601duration=P6Y))</b>: Long fingers (HP:0100807): onset age {\n",
       "  iso8601duration: \"P6Y\"\n",
       "}\n",
       "; High palate (HP:0000218): onset age {\n",
       "  iso8601duration: \"P6Y\"\n",
       "}\n",
       "; Narrow palate (HP:0000189): onset age {\n",
       "  iso8601duration: \"P6Y\"\n",
       "}\n",
       "; Tall stature (HP:0000098): onset age {\n",
       "  iso8601duration: \"P6Y\"\n",
       "}\n",
       "; Pectus carinatum (HP:0000768): onset age {\n",
       "  iso8601duration: \"P6Y\"\n",
       "}\n",
       "<br/><b>TimeElement(element=Age(iso8601duration=P16Y))</b>: Dyslexia (HP:0010522): onset age {\n",
       "  iso8601duration: \"P16Y\"\n",
       "}\n",
       "<br/><b>TimeElement(element=Age(iso8601duration=P20Y))</b>: Broad-based gait (HP:0002136): onset age {\n",
       "  iso8601duration: \"P20Y\"\n",
       "}\n",
       "</td></tr>\n",
       "<tr><td style=\"text-align: left;\">1-year-old female (FEMALE; P21Y)</td><td style=\"text-align: left;\">Neuronopathy, distal hereditary motor, autosomal dominant 11 (OMIM:620528)</td><td style=\"text-align: left;\">NM_001130438.3:c.6781C>T (heterozygous)</td><td style=\"text-align: left;\">Motor axonal neuropathy (HP:0007002): onset ; excluded: Motor delay (HP:0001270): onset <br/><b>TimeElement(element=Age(iso8601duration=P9Y))</b>: Distal muscle weakness (HP:0002460): onset age {\n",
       "  iso8601duration: \"P9Y\"\n",
       "}\n",
       "; Distal lower limb amyotrophy (HP:0008944): onset age {\n",
       "  iso8601duration: \"P9Y\"\n",
       "}\n",
       "<br/><b>TimeElement(element=Age(iso8601duration=P21Y))</b>: Difficulty climbing stairs (HP:0003551): onset age {\n",
       "  iso8601duration: \"P21Y\"\n",
       "}\n",
       "; Pes cavus (HP:0001761): onset age {\n",
       "  iso8601duration: \"P21Y\"\n",
       "}\n",
       "; Claw hand deformity (HP:0034337): onset age {\n",
       "  iso8601duration: \"P21Y\"\n",
       "}\n",
       "; Areflexia of upper limbs (HP:0012046): onset age {\n",
       "  iso8601duration: \"P21Y\"\n",
       "}\n",
       "; Hyperactive patellar reflex (HP:0007083): onset age {\n",
       "  iso8601duration: \"P21Y\"\n",
       "}\n",
       "; Babinski sign (HP:0003487): onset age {\n",
       "  iso8601duration: \"P21Y\"\n",
       "}\n",
       "; Decreased compound muscle action potential amplitude (HP:0033383): onset age {\n",
       "  iso8601duration: \"P21Y\"\n",
       "}\n",
       "</td></tr>\n",
       "<tr><td style=\"text-align: left;\">Individual A:I:1 (MALE; P85Y)</td><td style=\"text-align: left;\">Neuronopathy, distal hereditary motor, autosomal dominant 11 (OMIM:620528)</td><td style=\"text-align: left;\">NM_001130438.3:c.415C>T (heterozygous)</td><td style=\"text-align: left;\">Lower limb amyotrophy (HP:0007210): onset ; Areflexia of lower limbs (HP:0002522): onset ; Hyporeflexia of upper limbs (HP:0012391): onset ; Loss of ambulation (HP:0002505): onset ; Lower limb muscle weakness (HP:0007340): onset ; excluded: Upper limb amyotrophy (HP:0009129): onset ; excluded: Pes cavus (HP:0001761): onset ; excluded: Hammertoe (HP:0001765): onset ; excluded: Hallux valgus (HP:0001822): onset ; excluded: Claw toe deformity (HP:0034397): onset ; excluded: Areflexia of upper limbs (HP:0012046): onset ; excluded: Hyporeflexia of lower limbs (HP:0002600): onset ; excluded: Impaired vibratory sensation (HP:0002495): onset ; excluded: Hypoesthesia (HP:0033748): onset ; excluded: Upper limb muscle weakness (HP:0003484): onset ; excluded: Frequent falls (HP:0002359): onset ; excluded: Achilles tendon contracture (HP:0001771): onset <br/><b>TimeElement(element=Age(iso8601duration=P18Y))</b>: Unsteady gait (HP:0002317): onset age {\n",
       "  iso8601duration: \"P18Y\"\n",
       "}\n",
       "; Steppage gait (HP:0003376): onset age {\n",
       "  iso8601duration: \"P18Y\"\n",
       "}\n",
       "</td></tr>\n",
       "<tr><td style=\"text-align: left;\">Individual A:II:2 (FEMALE; P58Y)</td><td style=\"text-align: left;\">Neuronopathy, distal hereditary motor, autosomal dominant 11 (OMIM:620528)</td><td style=\"text-align: left;\">NM_001130438.3:c.415C>T (heterozygous)</td><td style=\"text-align: left;\">Hammertoe (HP:0001765): onset ; Hyporeflexia of lower limbs (HP:0002600): onset ; Motor axonal neuropathy (HP:0007002): onset ; Lower limb muscle weakness (HP:0007340): onset ; excluded: Upper limb amyotrophy (HP:0009129): onset ; excluded: Lower limb amyotrophy (HP:0007210): onset ; excluded: Pes cavus (HP:0001761): onset ; excluded: Hallux valgus (HP:0001822): onset ; excluded: Claw toe deformity (HP:0034397): onset ; excluded: Areflexia of upper limbs (HP:0012046): onset ; excluded: Areflexia of lower limbs (HP:0002522): onset ; excluded: Hyporeflexia of upper limbs (HP:0012391): onset ; excluded: Impaired vibratory sensation (HP:0002495): onset ; excluded: Hypoesthesia (HP:0033748): onset ; excluded: Loss of ambulation (HP:0002505): onset ; excluded: Upper limb muscle weakness (HP:0003484): onset ; excluded: Frequent falls (HP:0002359): onset ; excluded: Achilles tendon contracture (HP:0001771): onset </td></tr>\n",
       "<tr><td style=\"text-align: left;\">Individual A:II:3 (MALE; P53Y)</td><td style=\"text-align: left;\">Neuronopathy, distal hereditary motor, autosomal dominant 11 (OMIM:620528)</td><td style=\"text-align: left;\">NM_001130438.3:c.415C>T (heterozygous)</td><td style=\"text-align: left;\">Hammertoe (HP:0001765): onset ; Hallux valgus (HP:0001822): onset ; Hyporeflexia of lower limbs (HP:0002600): onset ; Motor axonal neuropathy (HP:0007002): onset ; Impaired vibratory sensation (HP:0002495): onset ; Lower limb muscle weakness (HP:0007340): onset ; excluded: Upper limb amyotrophy (HP:0009129): onset ; excluded: Lower limb amyotrophy (HP:0007210): onset ; excluded: Pes cavus (HP:0001761): onset ; excluded: Claw toe deformity (HP:0034397): onset ; excluded: Areflexia of upper limbs (HP:0012046): onset ; excluded: Areflexia of lower limbs (HP:0002522): onset ; excluded: Hyporeflexia of upper limbs (HP:0012391): onset ; excluded: Hypoesthesia (HP:0033748): onset ; excluded: Loss of ambulation (HP:0002505): onset ; excluded: Upper limb muscle weakness (HP:0003484): onset ; excluded: Frequent falls (HP:0002359): onset ; excluded: Achilles tendon contracture (HP:0001771): onset <br/><b>TimeElement(element=Age(iso8601duration=P30Y))</b>: Unsteady gait (HP:0002317): onset age {\n",
       "  iso8601duration: \"P30Y\"\n",
       "}\n",
       "</td></tr>\n",
       "</table>"
      ],
      "text/plain": [
       "<IPython.core.display.HTML object>"
      ]
     },
     "metadata": {},
     "output_type": "display_data"
    }
   ],
   "source": [
    "table = IndividualTable(cvalidator.get_error_free_individual_list())\n",
    "display(HTML(table.to_html(5)))"
   ]
  }
 ],
 "metadata": {
  "kernelspec": {
   "display_name": "ps24venv",
   "language": "python",
   "name": "python3"
  },
  "language_info": {
   "codemirror_mode": {
    "name": "ipython",
    "version": 3
   },
   "file_extension": ".py",
   "mimetype": "text/x-python",
   "name": "python",
   "nbconvert_exporter": "python",
   "pygments_lexer": "ipython3",
   "version": "3.12.8"
  }
 },
 "nbformat": 4,
 "nbformat_minor": 5
}
