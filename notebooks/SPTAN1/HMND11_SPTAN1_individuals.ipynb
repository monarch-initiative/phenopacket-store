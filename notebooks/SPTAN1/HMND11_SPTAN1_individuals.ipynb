{
 "cells": [
  {
   "cell_type": "markdown",
   "id": "5c955e35-a0b6-4ebe-8c05-f01da66f9650",
   "metadata": {},
   "source": [
    "# HMND11 (SPTAN1) individuals"
   ]
  },
  {
   "cell_type": "code",
   "execution_count": 1,
   "id": "aecdb492-ba5f-4e50-948f-a5930b441fa7",
   "metadata": {},
   "outputs": [
    {
     "name": "stdout",
     "output_type": "stream",
     "text": [
      "Using pyphetools version 0.9.72\n"
     ]
    }
   ],
   "source": [
    "from pyphetools.creation import TemplateImporter\n",
    "from pyphetools.visualization import IndividualTable, QcVisualizer\n",
    "from IPython.display import display, HTML\n",
    "import pyphetools\n",
    "print(f\"Using pyphetools version {pyphetools.__version__}\")"
   ]
  },
  {
   "cell_type": "code",
   "execution_count": 2,
   "id": "1b83e683-cc7f-43c3-967c-cfef1ab27bc9",
   "metadata": {},
   "outputs": [],
   "source": [
    "template = \"input/SPTAN1_individuals_HMND11.xlsx\"\n",
    "hp_json = \"../hp.json\"\n",
    "created_by = \"0000-0002-0736-9199\""
   ]
  },
  {
   "cell_type": "code",
   "execution_count": 4,
   "id": "1e55a15f-8bb0-473d-9777-a60fbb1391b0",
   "metadata": {},
   "outputs": [
    {
     "name": "stdout",
     "output_type": "stream",
     "text": [
      "HPO version 2024-03-06\n",
      "Created encoders for 38 fields\n",
      "Importing OMIM:620528, Neuronopathy, distal hereditary motor, autosomal dominant 11, HGNC:11273, SPTAN1,  NM_001130438.3\n",
      "We output 2 GA4GH phenopackets to the directory phenopackets\n"
     ]
    }
   ],
   "source": [
    "timporter = TemplateImporter(template=template, hp_json=hp_json, created_by=created_by)\n",
    "individual_list, cvalidator = timporter.import_phenopackets_from_template()"
   ]
  },
  {
   "cell_type": "code",
   "execution_count": 5,
   "id": "10f1e4ed-ad76-4cf6-876b-b96629d6d6d9",
   "metadata": {},
   "outputs": [
    {
     "data": {
      "text/html": [
       "<h2>Cohort validation</h2>\n",
       "<p>No errors found for the cohort with 2 individuals</p>"
      ],
      "text/plain": [
       "<IPython.core.display.HTML object>"
      ]
     },
     "metadata": {},
     "output_type": "display_data"
    }
   ],
   "source": [
    "qc = QcVisualizer(cohort_validator=cvalidator)\n",
    "display(HTML(qc.to_summary_html()))"
   ]
  },
  {
   "cell_type": "code",
   "execution_count": 6,
   "id": "169724cd-4953-4ae3-b154-3d6480c69e05",
   "metadata": {},
   "outputs": [
    {
     "data": {
      "text/html": [
       "<table style=\"border: 2px solid black; align: \"left\">\n",
       "<caption>2 phenopackets - PMID:33206935 (n=1); PMID:33578420 (n=1)</caption>\n",
       "<tr><th style=\"text-align: left;font-weight: bold;\">Individual</th><th style=\"text-align: left;font-weight: bold;\">Disease</th><th style=\"text-align: left;font-weight: bold;\">Genotype</th><th style=\"text-align: left;font-weight: bold;\">Phenotypic features</th></tr>\n",
       "<tr><td style=\"text-align: left;\">ale patient  (MALE; n/a)</td><td style=\"text-align: left;\">Neuronopathy, distal hereditary motor, autosomal dominant 11 (OMIM:620528)</td><td style=\"text-align: left;\">NM_001130438.3:c.6367del (heterozygous)</td><td style=\"text-align: left;\"><b>P11M</b>: Motor delay (HP:0001270); Hypotonia (HP:0001252); Joint hypermobility (HP:0001382)<br/><b>P2Y</b>: Delayed speech and language development (HP:0000750)<br/><b>P6Y</b>: Long fingers (HP:0100807); High palate (HP:0000218); Narrow palate (HP:0000189); Tall stature (HP:0000098); Pectus carinatum (HP:0000768)<br/><b>P16Y</b>: Dyslexia (HP:0010522)<br/><b>P20Y</b>: Broad-based gait (HP:0002136)<br/>Motor axonal neuropathy (HP:0007002); excluded: Elevated circulating creatine kinase concentration (HP:0003236)</td></tr>\n",
       "<tr><td style=\"text-align: left;\">1-year-old female (FEMALE; n/a)</td><td style=\"text-align: left;\">Neuronopathy, distal hereditary motor, autosomal dominant 11 (OMIM:620528)</td><td style=\"text-align: left;\">NM_001130438.3:c.6781C>T (heterozygous)</td><td style=\"text-align: left;\"><b>P9Y</b>: Distal muscle weakness (HP:0002460); Distal lower limb amyotrophy (HP:0008944)<br/><b>P21Y</b>: Difficulty climbing stairs (HP:0003551); Pes cavus (HP:0001761); Claw hand deformity (HP:0034337); Areflexia of upper limbs (HP:0012046); Hyperactive patellar reflex (HP:0007083); Babinski sign (HP:0003487); Decreased compound muscle action potential amplitude (HP:0033383)<br/>Motor axonal neuropathy (HP:0007002)</td></tr>\n",
       "</table>"
      ],
      "text/plain": [
       "<IPython.core.display.HTML object>"
      ]
     },
     "metadata": {},
     "output_type": "display_data"
    }
   ],
   "source": [
    "table = IndividualTable(cvalidator.get_error_free_individual_list())\n",
    "display(HTML(table.to_html()))"
   ]
  }
 ],
 "metadata": {
  "kernelspec": {
   "display_name": "ps24venv",
   "language": "python",
   "name": "ps24venv"
  },
  "language_info": {
   "codemirror_mode": {
    "name": "ipython",
    "version": 3
   },
   "file_extension": ".py",
   "mimetype": "text/x-python",
   "name": "python",
   "nbconvert_exporter": "python",
   "pygments_lexer": "ipython3",
   "version": "3.8.10"
  }
 },
 "nbformat": 4,
 "nbformat_minor": 5
}
