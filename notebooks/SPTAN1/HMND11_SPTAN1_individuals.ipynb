{
 "cells": [
  {
   "cell_type": "markdown",
   "id": "5c955e35-a0b6-4ebe-8c05-f01da66f9650",
   "metadata": {},
   "source": [
    "# HMND11 (SPTAN1) individuals"
   ]
  },
  {
   "cell_type": "code",
   "execution_count": 1,
   "id": "aecdb492-ba5f-4e50-948f-a5930b441fa7",
   "metadata": {},
   "outputs": [
    {
     "ename": "AttributeError",
     "evalue": "module 'pyphetools.creation' has no attribute 'create_hpoa_from_phenopacketsIndividual'",
     "output_type": "error",
     "traceback": [
      "\u001b[0;31m---------------------------------------------------------------------------\u001b[0m",
      "\u001b[0;31mAttributeError\u001b[0m                            Traceback (most recent call last)",
      "Cell \u001b[0;32mIn[1], line 5\u001b[0m\n\u001b[1;32m      3\u001b[0m pd\u001b[38;5;241m.\u001b[39mset_option(\u001b[38;5;124m'\u001b[39m\u001b[38;5;124mdisplay.max_colwidth\u001b[39m\u001b[38;5;124m'\u001b[39m, \u001b[38;5;28;01mNone\u001b[39;00m) \u001b[38;5;66;03m# show entire column contents, important!\u001b[39;00m\n\u001b[1;32m      4\u001b[0m \u001b[38;5;28;01mfrom\u001b[39;00m \u001b[38;5;21;01mcollections\u001b[39;00m \u001b[38;5;28;01mimport\u001b[39;00m defaultdict\n\u001b[0;32m----> 5\u001b[0m \u001b[38;5;28;01mfrom\u001b[39;00m \u001b[38;5;21;01mpyphetools\u001b[39;00m\u001b[38;5;21;01m.\u001b[39;00m\u001b[38;5;21;01mcreation\u001b[39;00m \u001b[38;5;28;01mimport\u001b[39;00m \u001b[38;5;241m*\u001b[39m\n\u001b[1;32m      6\u001b[0m \u001b[38;5;28;01mfrom\u001b[39;00m \u001b[38;5;21;01mpyphetools\u001b[39;00m\u001b[38;5;21;01m.\u001b[39;00m\u001b[38;5;21;01mvisualization\u001b[39;00m \u001b[38;5;28;01mimport\u001b[39;00m IndividualTable, QcVisualizer\n\u001b[1;32m      7\u001b[0m \u001b[38;5;28;01mfrom\u001b[39;00m \u001b[38;5;21;01mpyphetools\u001b[39;00m\u001b[38;5;21;01m.\u001b[39;00m\u001b[38;5;21;01mvalidation\u001b[39;00m \u001b[38;5;28;01mimport\u001b[39;00m \u001b[38;5;241m*\u001b[39m\n",
      "\u001b[0;31mAttributeError\u001b[0m: module 'pyphetools.creation' has no attribute 'create_hpoa_from_phenopacketsIndividual'"
     ]
    }
   ],
   "source": [
    "import pandas as pd\n",
    "from IPython.display import display, HTML\n",
    "pd.set_option('display.max_colwidth', None) # show entire column contents, important!\n",
    "from collections import defaultdict\n",
    "from pyphetools.creation import *\n",
    "from pyphetools.visualization import IndividualTable, QcVisualizer\n",
    "from pyphetools.validation import *\n",
    "import pyphetools\n",
    "print(f\"Using pyphetools version {pyphetools.__version__}\")"
   ]
  },
  {
   "cell_type": "code",
   "execution_count": 2,
   "id": "1b83e683-cc7f-43c3-967c-cfef1ab27bc9",
   "metadata": {},
   "outputs": [
    {
     "name": "stdout",
     "output_type": "stream",
     "text": [
      "HPO version 2024-01-16\n"
     ]
    }
   ],
   "source": [
    "parser = HpoParser(hpo_json_file=\"../hp.json\")\n",
    "hpo_cr = parser.get_hpo_concept_recognizer()\n",
    "hpo_version = parser.get_version()\n",
    "hpo_ontology = parser.get_ontology()\n",
    "created_by=\"ORCID:0000-0002-0736-9199\"\n",
    "print(f\"HPO version {hpo_version}\")"
   ]
  },
  {
   "cell_type": "code",
   "execution_count": 3,
   "id": "1e55a15f-8bb0-473d-9777-a60fbb1391b0",
   "metadata": {},
   "outputs": [],
   "source": [
    "df = pd.read_excel(\"input/SPTAN1_individuals_HMND11.xlsx\")"
   ]
  },
  {
   "cell_type": "code",
   "execution_count": 4,
   "id": "10f1e4ed-ad76-4cf6-876b-b96629d6d6d9",
   "metadata": {},
   "outputs": [
    {
     "name": "stdout",
     "output_type": "stream",
     "text": [
      "Created encoders for 35 fields\n"
     ]
    }
   ],
   "source": [
    "from pyphetools.creation import CaseTemplateEncoder\n",
    "encoder = CaseTemplateEncoder(df=df, hpo_cr=hpo_cr, created_by=created_by)"
   ]
  },
  {
   "cell_type": "code",
   "execution_count": 5,
   "id": "169724cd-4953-4ae3-b154-3d6480c69e05",
   "metadata": {},
   "outputs": [],
   "source": [
    "individuals = encoder.get_individuals()"
   ]
  },
  {
   "cell_type": "code",
   "execution_count": 6,
   "id": "b5755ba2-9986-423d-b8f3-82476933b08f",
   "metadata": {},
   "outputs": [],
   "source": [
    "SPTAN1_id = \"HGNC:11273\"\n",
    "SPTAN1_transcript = \"NM_001130438.3\"\n",
    "vman = VariantManager(df=df, individual_column_name=\"individual_id\", allele_1_column_name=\"allele_1\",\n",
    "                      gene_symbol=\"SPTAN1\", transcript=SPTAN1_transcript)"
   ]
  },
  {
   "cell_type": "code",
   "execution_count": 7,
   "id": "278a6753-8d44-45fc-930e-d362a9ceeef8",
   "metadata": {},
   "outputs": [],
   "source": [
    "vman.add_variants_to_individuals(individuals)"
   ]
  },
  {
   "cell_type": "code",
   "execution_count": 8,
   "id": "6eae87c3-1a9f-4ba4-87bc-d01c7d3b35e8",
   "metadata": {},
   "outputs": [
    {
     "data": {
      "text/html": [
       "<h2>Cohort validation</h2>\n",
       "<p>No errors found for the cohort with 2 individuals</p>"
      ],
      "text/plain": [
       "<IPython.core.display.HTML object>"
      ]
     },
     "metadata": {},
     "output_type": "display_data"
    }
   ],
   "source": [
    "cvalidator = CohortValidator(cohort=individuals, ontology=hpo_ontology, min_hpo=1, allelic_requirement=AllelicRequirement.MONO_ALLELIC)\n",
    "qc = QcVisualizer(cohort_validator=cvalidator)\n",
    "display(HTML(qc.to_summary_html()))"
   ]
  },
  {
   "cell_type": "code",
   "execution_count": 9,
   "id": "f4d0cac9-7732-403b-8af6-6f4b420741b3",
   "metadata": {},
   "outputs": [
    {
     "data": {
      "text/html": [
       "<table style=\"border: 2px solid black; align: \"left\">\n",
       "<caption>2 phenopackets - PMID:33206935 (n=1); PMID:33578420 (n=1)</caption>\n",
       "<tr><th style=\"text-align: left;font-weight: bold;\">Individual</th><th style=\"text-align: left;font-weight: bold;\">Disease</th><th style=\"text-align: left;font-weight: bold;\">Genotype</th><th style=\"text-align: left;font-weight: bold;\">Phenotypic features</th></tr>\n",
       "<tr><td style=\"text-align: left;\">ale patient  (MALE; P11M)</td><td style=\"text-align: left;\">Neuronopathy, distal hereditary motor, autosomal dominant 11 (OMIM:620528)</td><td style=\"text-align: left;\">NM_001130438.3:c.6367del (heterozygous)</td><td style=\"text-align: left;\"><b>P11M</b>: Motor delay (HP:0001270); Hypotonia (HP:0001252); Joint hypermobility (HP:0001382)<br/><b>P2Y</b>: Delayed speech and language development (HP:0000750)<br/><b>P6Y</b>: Long fingers (HP:0100807); High palate (HP:0000218); Narrow palate (HP:0000189); Tall stature (HP:0000098); Pectus carinatum (HP:0000768)<br/><b>P16Y</b>: Dyslexia (HP:0010522)<br/><b>P20Y</b>: Broad-based gait (HP:0002136)<br/>Motor axonal neuropathy (HP:0007002); excluded: Elevated circulating creatine kinase concentration (HP:0003236)</td></tr>\n",
       "<tr><td style=\"text-align: left;\">1-year-old female (FEMALE; P9Y)</td><td style=\"text-align: left;\">Neuronopathy, distal hereditary motor, autosomal dominant 11 (OMIM:620528)</td><td style=\"text-align: left;\">NM_001130438.3:c.6781C>T (heterozygous)</td><td style=\"text-align: left;\"><b>P9Y</b>: Distal muscle weakness (HP:0002460); Distal lower limb amyotrophy (HP:0008944)<br/><b>P21Y</b>: Difficulty climbing stairs (HP:0003551); Pes cavus (HP:0001761); Claw hand deformity (HP:0034337); Areflexia of upper limbs (HP:0012046); Hyperactive patellar reflex (HP:0007083); Babinski sign (HP:0003487); Decreased compound muscle action potential amplitude (HP:0033383)<br/>Motor axonal neuropathy (HP:0007002)</td></tr>\n",
       "</table>"
      ],
      "text/plain": [
       "<IPython.core.display.HTML object>"
      ]
     },
     "metadata": {},
     "output_type": "display_data"
    }
   ],
   "source": [
    "individuals = cvalidator.get_error_free_individual_list()\n",
    "table = IndividualTable(individuals)\n",
    "display(HTML(table.to_html()))"
   ]
  },
  {
   "cell_type": "code",
   "execution_count": 10,
   "id": "962d8c96-04b7-4619-a099-8be148298070",
   "metadata": {},
   "outputs": [
    {
     "name": "stdout",
     "output_type": "stream",
     "text": [
      "We output 2 GA4GH phenopackets to the directory phenopackets\n"
     ]
    }
   ],
   "source": [
    "encoder.output_individuals_as_phenopackets(individual_list=individuals)"
   ]
  }
 ],
 "metadata": {
  "kernelspec": {
   "display_name": "ps24venv",
   "language": "python",
   "name": "ps24venv"
  },
  "language_info": {
   "codemirror_mode": {
    "name": "ipython",
    "version": 3
   },
   "file_extension": ".py",
   "mimetype": "text/x-python",
   "name": "python",
   "nbconvert_exporter": "python",
   "pygments_lexer": "ipython3",
   "version": "3.8.10"
  }
 },
 "nbformat": 4,
 "nbformat_minor": 5
}
