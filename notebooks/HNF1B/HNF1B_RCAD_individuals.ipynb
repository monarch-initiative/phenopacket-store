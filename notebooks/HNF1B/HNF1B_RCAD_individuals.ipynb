{
 "cells": [
  {
   "cell_type": "markdown",
   "metadata": {},
   "source": [
    "# HNF1B\n",
    "[renal cysts and diabetes syndrome (RCAD)](https://omim.org/entry/137920) is caused by heterozygous mutation in the TCF2 gene."
   ]
  },
  {
   "cell_type": "code",
   "execution_count": 1,
   "metadata": {},
   "outputs": [
    {
     "name": "stdout",
     "output_type": "stream",
     "text": [
      "Using pyphetools version 0.9.84\n"
     ]
    },
    {
     "name": "stderr",
     "output_type": "stream",
     "text": [
      "/Users/robin/GIT/phenopacket-store/ps24venv/lib/python3.9/site-packages/urllib3/__init__.py:35: NotOpenSSLWarning: urllib3 v2 only supports OpenSSL 1.1.1+, currently the 'ssl' module is compiled with 'LibreSSL 2.8.3'. See: https://github.com/urllib3/urllib3/issues/3020\n",
      "  warnings.warn(\n"
     ]
    }
   ],
   "source": [
    "from pyphetools.creation import TemplateImporter\n",
    "from pyphetools.visualization import IndividualTable, QcVisualizer\n",
    "from IPython.display import display, HTML\n",
    "import pyphetools\n",
    "print(f\"Using pyphetools version {pyphetools.__version__}\")"
   ]
  },
  {
   "cell_type": "code",
   "execution_count": 4,
   "metadata": {},
   "outputs": [],
   "source": [
    "template = \"input/HNF1B_RCAD_individuals.xlsx\"\n",
    "created_by = \"0000-0002-0736-9199\""
   ]
  },
  {
   "cell_type": "code",
   "execution_count": 9,
   "metadata": {},
   "outputs": [
    {
     "name": "stdout",
     "output_type": "stream",
     "text": [
      "HPO version 2024-04-26\n",
      "Created encoders for 26 fields\n",
      "Importing OMIM:137920, Renal cysts and diabetes syndrome, HGNC:11630, HNF1B,  NM_000458.4\n",
      "[INFO] encoding variant \"c.529C>T\"\n",
      "https://rest.variantvalidator.org/VariantValidator/variantvalidator/hg38/NM_000458.4%3Ac.529C>T/NM_000458.4?content-type=application%2Fjson\n",
      "We output 3 GA4GH phenopackets to the directory phenopackets\n"
     ]
    }
   ],
   "source": [
    "timporter = TemplateImporter(template=template,  created_by=created_by)\n",
    "individual_list, cvalidator = timporter.import_phenopackets_from_template()"
   ]
  },
  {
   "cell_type": "code",
   "execution_count": 10,
   "metadata": {},
   "outputs": [
    {
     "data": {
      "text/html": [
       "<h2>Cohort validation</h2>\n",
       "<p>No errors found for the cohort with 3 individuals</p>"
      ],
      "text/plain": [
       "<IPython.core.display.HTML object>"
      ]
     },
     "metadata": {},
     "output_type": "display_data"
    }
   ],
   "source": [
    "qc = QcVisualizer(cohort_validator=cvalidator)\n",
    "display(HTML(qc.to_summary_html()))"
   ]
  },
  {
   "cell_type": "code",
   "execution_count": 11,
   "metadata": {},
   "outputs": [
    {
     "data": {
      "text/html": [
       "<table style=\"border: 2px solid black; align: \"left\">\n",
       "<caption>3 phenopackets - PMID:29491316 (n=1); PMID:9398836 (n=2)</caption>\n",
       "<tr><th style=\"text-align: left;font-weight: bold;\">Individual</th><th style=\"text-align: left;font-weight: bold;\">Disease</th><th style=\"text-align: left;font-weight: bold;\">Genotype</th><th style=\"text-align: left;font-weight: bold;\">Phenotypic features</th></tr>\n",
       "<tr><td style=\"text-align: left;\">12-year-old boy (MALE; P21Y)</td><td style=\"text-align: left;\">Renal cysts and diabetes syndrome (OMIM:137920)</td><td style=\"text-align: left;\">NM_000458.4:c.434T>A (heterozygous)</td><td style=\"text-align: left;\"><b>P12Y</b>: Maturity-onset diabetes of the young (HP:0004904); Elevated hemoglobin A1c (HP:0040217); Hyperglycemia (HP:0003074)<br/><b>P15Y</b>: Pancreatic atrophy (HP:6000156)<br/>Multiple renal cysts (HP:0005562); excluded: Anti-glutamic acid decarboxylase antibody positivity (HP:0025329); excluded: Anti-insulin antibody positivity (HP:0034062); excluded: Anti-islet antigen-2 antibody positivity (HP:0034063)</td></tr>\n",
       "<tr><td style=\"text-align: left;\">Family J2-20 III.2 (FEMALE; P36Y)</td><td style=\"text-align: left;\">Renal cysts and diabetes syndrome (OMIM:137920)</td><td style=\"text-align: left;\">NM_000458.4:c.529C>T (heterozygous)</td><td style=\"text-align: left;\"><b>P10Y</b>: Maturity-onset diabetes of the young (HP:0004904); Glycosuria (HP:0003076)</td></tr>\n",
       "<tr><td style=\"text-align: left;\">Family J2-20 III.3 (MALE; P31Y)</td><td style=\"text-align: left;\">Renal cysts and diabetes syndrome (OMIM:137920)</td><td style=\"text-align: left;\">NM_000458.4:c.529C>T (heterozygous)</td><td style=\"text-align: left;\"><b>P15Y</b>: Maturity-onset diabetes of the young (HP:0004904)</td></tr>\n",
       "</table>"
      ],
      "text/plain": [
       "<IPython.core.display.HTML object>"
      ]
     },
     "metadata": {},
     "output_type": "display_data"
    }
   ],
   "source": [
    "table = IndividualTable(cvalidator.get_error_free_individual_list())\n",
    "display(HTML(table.to_html()))"
   ]
  }
 ],
 "metadata": {
  "kernelspec": {
   "display_name": "ps24venv",
   "language": "python",
   "name": "python3"
  },
  "language_info": {
   "codemirror_mode": {
    "name": "ipython",
    "version": 3
   },
   "file_extension": ".py",
   "mimetype": "text/x-python",
   "name": "python",
   "nbconvert_exporter": "python",
   "pygments_lexer": "ipython3",
   "version": "3.9.6"
  }
 },
 "nbformat": 4,
 "nbformat_minor": 2
}
