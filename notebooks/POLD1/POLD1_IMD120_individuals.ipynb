{
 "cells": [
  {
   "cell_type": "markdown",
   "metadata": {},
   "source": [
    "# POLD1\n",
    "[Immunodeficiency-120 (IMD120)](https://omim.org/entry/620836) is caused by homozygous or compound heterozygous mutation in the POLD1 gene."
   ]
  },
  {
   "cell_type": "code",
   "execution_count": 1,
   "metadata": {},
   "outputs": [
    {
     "name": "stdout",
     "output_type": "stream",
     "text": [
      "Using pyphetools version 0.9.113\n"
     ]
    }
   ],
   "source": [
    "from pyphetools.creation import TemplateImporter, Moi\n",
    "from pyphetools.visualization import IndividualTable, QcVisualizer\n",
    "from IPython.display import display, HTML\n",
    "import pyphetools\n",
    "print(f\"Using pyphetools version {pyphetools.__version__}\")"
   ]
  },
  {
   "cell_type": "code",
   "execution_count": 3,
   "metadata": {},
   "outputs": [
    {
     "name": "stdout",
     "output_type": "stream",
     "text": [
      "HPO version 2024-12-12\n",
      "Created encoders for 48 fields\n",
      "Importing OMIM:620836, Immunodeficiency 120, HGNC:9175, POLD1,  NM_002691.4\n",
      "[INFO] encoding variant \"c.2052G>C\"\n",
      "https://rest.variantvalidator.org/VariantValidator/variantvalidator/hg38/NM_002691.4%3Ac.2052G>C/NM_002691.4?content-type=application%2Fjson\n",
      "[INFO] encoding variant \"c.3220C>T\"\n",
      "https://rest.variantvalidator.org/VariantValidator/variantvalidator/hg38/NM_002691.4%3Ac.3220C>T/NM_002691.4?content-type=application%2Fjson\n",
      "[INFO] encoding variant \"c.3178C>T\"\n",
      "https://rest.variantvalidator.org/VariantValidator/variantvalidator/hg38/NM_002691.4%3Ac.3178C>T/NM_002691.4?content-type=application%2Fjson\n",
      "We output 4 GA4GH phenopackets to the directory phenopackets\n"
     ]
    }
   ],
   "source": [
    "template = \"input/POLD1_IMD120_individuals.xlsx\"\n",
    "created_by = \"0000-0002-0736-9199\"\n",
    "timporter = TemplateImporter(template=template,  created_by=created_by)\n",
    "individual_list, cvalidator = timporter.import_phenopackets_from_template()"
   ]
  },
  {
   "cell_type": "code",
   "execution_count": 4,
   "metadata": {},
   "outputs": [
    {
     "data": {
      "text/html": [
       "<h2>Cohort validation</h2>\n",
       "<p>Errors found with 4 of 4 phenopackets.</p>\n",
       "<table style=\"border: 2px solid black; align: \"left\">\n",
       "<caption>Error counts</caption>\n",
       "<tr><th style=\"text-align: left;font-weight: bold;\">Level</th><th style=\"text-align: left;font-weight: bold;\">Error category</th><th style=\"text-align: left;font-weight: bold;\">Count</th></tr>\n",
       "<tr><td style=\"text-align: left;\">WARNING</td><td style=\"text-align: left;\">REDUNDANT</td><td style=\"text-align: left;\">8</td></tr>\n",
       "</table>\n",
       "<p>A total of 8 issues were fixed and no individual was removed from the cohort.</p>"
      ],
      "text/plain": [
       "<IPython.core.display.HTML object>"
      ]
     },
     "metadata": {},
     "output_type": "display_data"
    }
   ],
   "source": [
    "qc = QcVisualizer(cohort_validator=cvalidator)\n",
    "display(HTML(qc.to_summary_html()))"
   ]
  },
  {
   "cell_type": "code",
   "execution_count": 5,
   "metadata": {},
   "outputs": [
    {
     "data": {
      "text/html": [
       "<table style=\"border: 2px solid black; align: \"left\">\n",
       "<caption>4 phenopackets - PMID:31449058 (n=1); PMID:31629014 (n=3)</caption>\n",
       "<tr><th style=\"text-align: left;font-weight: bold;\">Individual</th><th style=\"text-align: left;font-weight: bold;\">Disease</th><th style=\"text-align: left;font-weight: bold;\">Genotype</th><th style=\"text-align: left;font-weight: bold;\">Phenotypic features</th></tr>\n",
       "<tr><td style=\"text-align: left;\">Patient 2 (MALE; P24Y)</td><td style=\"text-align: left;\">Immunodeficiency 120 (OMIM:620836)</td><td style=\"text-align: left;\"><ul> <li>NM_002691.4:c.2052G>C (heterozygous)</li> <li>NM_002691.4:c.3220C>T (heterozygous)</li> </ul></td><td style=\"text-align: left;\">Microcephaly (HP:0000252): onset ; Short stature (HP:0004322): onset ; Hearing impairment (HP:0000365): onset ; Verrucae (HP:0200043): onset ; B lymphocytopenia (HP:0010976): onset ; Decreased proportion of CD4-positive helper T cells (HP:0005407): onset ; Reduced natural killer cell count (HP:0040218): onset ; Chronic bronchitis (HP:0004469): onset ; Bronchiectasis (HP:0002110): onset ; Intellectual disability, borderline (HP:0006889): onset ; Decreased proportion of naive CD4 T cells (HP:0410378): onset ; excluded: Recurrent oral herpes (HP:0410028): onset ; excluded: Recurrent shingles (HP:0032275): onset ; excluded: Recurrent upper respiratory tract infections (HP:0002788): onset ; excluded: Recurrent lower respiratory tract infections (HP:0002783): onset ; excluded: Decreased circulating IgA concentration (HP:0002720): onset ; excluded: Decreased circulating IgG concentration (HP:0004315): onset ; excluded: Decreased circulating total IgM (HP:0002850): onset </td></tr>\n",
       "<tr><td style=\"text-align: left;\">Patient P1 (FEMALE; P14Y)</td><td style=\"text-align: left;\">Immunodeficiency 120 (OMIM:620836)</td><td style=\"text-align: left;\">NM_002691.4:c.3178C>T (homozygous)</td><td style=\"text-align: left;\">Delayed speech and language development (HP:0000750): onset ; Sensorineural hearing impairment (HP:0000407): onset ; Decreased proportion of CD4-positive helper T cells (HP:0005407): onset ; Decreased circulating IgA concentration (HP:0002720): onset ; Decreased circulating IgG concentration (HP:0004315): onset ; Decreased circulating total IgM (HP:0002850): onset ; Complete or near-complete absence of specific antibody response to tetanus vaccine (HP:0410295): onset ; excluded: Intellectual disability, borderline (HP:0006889): onset <br/><b>TimeElement(element=OntologyClass(id=HP:0003593, label=Infantile onset))</b>: Recurrent upper respiratory tract infections (HP:0002788): onset ontology_class {\n",
       "  id: \"HP:0003593\"\n",
       "  label: \"Infantile onset\"\n",
       "}\n",
       "; Recurrent lower respiratory tract infections (HP:0002783): onset ontology_class {\n",
       "  id: \"HP:0003593\"\n",
       "  label: \"Infantile onset\"\n",
       "}\n",
       "<br/><b>TimeElement(element=Age(iso8601duration=P9Y))</b>: Recurrent oral herpes (HP:0410028): onset age {\n",
       "  iso8601duration: \"P9Y\"\n",
       "}\n",
       "; Recurrent shingles (HP:0032275): onset age {\n",
       "  iso8601duration: \"P9Y\"\n",
       "}\n",
       "</td></tr>\n",
       "<tr><td style=\"text-align: left;\">Patient P2 (FEMALE; P5Y)</td><td style=\"text-align: left;\">Immunodeficiency 120 (OMIM:620836)</td><td style=\"text-align: left;\">NM_002691.4:c.3178C>T (homozygous)</td><td style=\"text-align: left;\">Decreased proportion of CD4-positive helper T cells (HP:0005407): onset ; Recurrent oral herpes (HP:0410028): onset ; Recurrent upper respiratory tract infections (HP:0002788): onset ; Decreased circulating IgA concentration (HP:0002720): onset ; Decreased circulating IgG concentration (HP:0004315): onset ; Decreased circulating total IgM (HP:0002850): onset ; excluded: Sensorineural hearing impairment (HP:0000407): onset ; excluded: Recurrent lower respiratory tract infections (HP:0002783): onset ; excluded: Intellectual disability, borderline (HP:0006889): onset ; excluded: Complete or near-complete absence of specific antibody response to tetanus vaccine (HP:0410295): onset </td></tr>\n",
       "<tr><td style=\"text-align: left;\">Patient P3 (FEMALE; P29Y)</td><td style=\"text-align: left;\">Immunodeficiency 120 (OMIM:620836)</td><td style=\"text-align: left;\">NM_002691.4:c.3178C>T (homozygous)</td><td style=\"text-align: left;\">Hearing impairment (HP:0000365): onset ; Decreased proportion of CD4-positive helper T cells (HP:0005407): onset ; Recurrent oral herpes (HP:0410028): onset ; Recurrent upper respiratory tract infections (HP:0002788): onset ; Intellectual disability, borderline (HP:0006889): onset ; Decreased circulating IgA concentration (HP:0002720): onset ; Decreased circulating IgG concentration (HP:0004315): onset ; Decreased circulating total IgM (HP:0002850): onset ; Complete or near-complete absence of specific antibody response to tetanus vaccine (HP:0410295): onset ; excluded: Recurrent lower respiratory tract infections (HP:0002783): onset </td></tr>\n",
       "</table>"
      ],
      "text/plain": [
       "<IPython.core.display.HTML object>"
      ]
     },
     "metadata": {},
     "output_type": "display_data"
    }
   ],
   "source": [
    "table = IndividualTable(cvalidator.get_error_free_individual_list())\n",
    "display(HTML(table.to_html()))"
   ]
  },
  {
   "cell_type": "code",
   "execution_count": 6,
   "metadata": {},
   "outputs": [
    {
     "name": "stdout",
     "output_type": "stream",
     "text": [
      "[pyphetools] Ingested 4 GA4GH phenopackets.\n",
      "[INFO] Extracted 4 from 4 phenopackets with OMIM:620836\n",
      "\n",
      "\tImmunodeficiency 120 (OMIM:620836): n=4\n",
      "We found a total of 21 unique HPO terms\n",
      "Extracted disease: Immunodeficiency 120 (OMIM:620836)\n",
      "Wrote HPOA disease file to OMIM-620836.tab\n"
     ]
    },
    {
     "data": {
      "text/html": [
       "<div>\n",
       "<style scoped>\n",
       "    .dataframe tbody tr th:only-of-type {\n",
       "        vertical-align: middle;\n",
       "    }\n",
       "\n",
       "    .dataframe tbody tr th {\n",
       "        vertical-align: top;\n",
       "    }\n",
       "\n",
       "    .dataframe thead th {\n",
       "        text-align: right;\n",
       "    }\n",
       "</style>\n",
       "<table border=\"1\" class=\"dataframe\">\n",
       "  <thead>\n",
       "    <tr style=\"text-align: right;\">\n",
       "      <th></th>\n",
       "      <th>#diseaseID</th>\n",
       "      <th>diseaseName</th>\n",
       "      <th>phenotypeID</th>\n",
       "      <th>phenotypeName</th>\n",
       "      <th>onsetID</th>\n",
       "      <th>onsetName</th>\n",
       "      <th>frequency</th>\n",
       "      <th>sex</th>\n",
       "      <th>negation</th>\n",
       "      <th>modifier</th>\n",
       "      <th>description</th>\n",
       "      <th>publication</th>\n",
       "      <th>evidence</th>\n",
       "      <th>biocuration</th>\n",
       "    </tr>\n",
       "  </thead>\n",
       "  <tbody>\n",
       "    <tr>\n",
       "      <th>0</th>\n",
       "      <td>OMIM:620836</td>\n",
       "      <td>Immunodeficiency 120</td>\n",
       "      <td>HP:0005407</td>\n",
       "      <td>Decreased proportion of CD4-positive helper T ...</td>\n",
       "      <td></td>\n",
       "      <td></td>\n",
       "      <td>3/3</td>\n",
       "      <td></td>\n",
       "      <td></td>\n",
       "      <td></td>\n",
       "      <td></td>\n",
       "      <td>PMID:31629014</td>\n",
       "      <td>PCS</td>\n",
       "      <td>ORCID:0000-0002-0736-9199[2024-12-14]</td>\n",
       "    </tr>\n",
       "    <tr>\n",
       "      <th>1</th>\n",
       "      <td>OMIM:620836</td>\n",
       "      <td>Immunodeficiency 120</td>\n",
       "      <td>HP:0410028</td>\n",
       "      <td>Recurrent oral herpes</td>\n",
       "      <td></td>\n",
       "      <td></td>\n",
       "      <td>3/3</td>\n",
       "      <td></td>\n",
       "      <td></td>\n",
       "      <td></td>\n",
       "      <td></td>\n",
       "      <td>PMID:31629014</td>\n",
       "      <td>PCS</td>\n",
       "      <td>ORCID:0000-0002-0736-9199[2024-12-14]</td>\n",
       "    </tr>\n",
       "    <tr>\n",
       "      <th>2</th>\n",
       "      <td>OMIM:620836</td>\n",
       "      <td>Immunodeficiency 120</td>\n",
       "      <td>HP:0002788</td>\n",
       "      <td>Recurrent upper respiratory tract infections</td>\n",
       "      <td></td>\n",
       "      <td></td>\n",
       "      <td>3/3</td>\n",
       "      <td></td>\n",
       "      <td></td>\n",
       "      <td></td>\n",
       "      <td></td>\n",
       "      <td>PMID:31629014</td>\n",
       "      <td>PCS</td>\n",
       "      <td>ORCID:0000-0002-0736-9199[2024-12-14]</td>\n",
       "    </tr>\n",
       "    <tr>\n",
       "      <th>3</th>\n",
       "      <td>OMIM:620836</td>\n",
       "      <td>Immunodeficiency 120</td>\n",
       "      <td>HP:0002720</td>\n",
       "      <td>Decreased circulating IgA concentration</td>\n",
       "      <td></td>\n",
       "      <td></td>\n",
       "      <td>3/3</td>\n",
       "      <td></td>\n",
       "      <td></td>\n",
       "      <td></td>\n",
       "      <td></td>\n",
       "      <td>PMID:31629014</td>\n",
       "      <td>PCS</td>\n",
       "      <td>ORCID:0000-0002-0736-9199[2024-12-14]</td>\n",
       "    </tr>\n",
       "    <tr>\n",
       "      <th>4</th>\n",
       "      <td>OMIM:620836</td>\n",
       "      <td>Immunodeficiency 120</td>\n",
       "      <td>HP:0004315</td>\n",
       "      <td>Decreased circulating IgG concentration</td>\n",
       "      <td></td>\n",
       "      <td></td>\n",
       "      <td>3/3</td>\n",
       "      <td></td>\n",
       "      <td></td>\n",
       "      <td></td>\n",
       "      <td></td>\n",
       "      <td>PMID:31629014</td>\n",
       "      <td>PCS</td>\n",
       "      <td>ORCID:0000-0002-0736-9199[2024-12-14]</td>\n",
       "    </tr>\n",
       "  </tbody>\n",
       "</table>\n",
       "</div>"
      ],
      "text/plain": [
       "    #diseaseID           diseaseName phenotypeID  \\\n",
       "0  OMIM:620836  Immunodeficiency 120  HP:0005407   \n",
       "1  OMIM:620836  Immunodeficiency 120  HP:0410028   \n",
       "2  OMIM:620836  Immunodeficiency 120  HP:0002788   \n",
       "3  OMIM:620836  Immunodeficiency 120  HP:0002720   \n",
       "4  OMIM:620836  Immunodeficiency 120  HP:0004315   \n",
       "\n",
       "                                       phenotypeName onsetID onsetName  \\\n",
       "0  Decreased proportion of CD4-positive helper T ...                     \n",
       "1                              Recurrent oral herpes                     \n",
       "2       Recurrent upper respiratory tract infections                     \n",
       "3            Decreased circulating IgA concentration                     \n",
       "4            Decreased circulating IgG concentration                     \n",
       "\n",
       "  frequency sex negation modifier description    publication evidence  \\\n",
       "0       3/3                                    PMID:31629014      PCS   \n",
       "1       3/3                                    PMID:31629014      PCS   \n",
       "2       3/3                                    PMID:31629014      PCS   \n",
       "3       3/3                                    PMID:31629014      PCS   \n",
       "4       3/3                                    PMID:31629014      PCS   \n",
       "\n",
       "                             biocuration  \n",
       "0  ORCID:0000-0002-0736-9199[2024-12-14]  \n",
       "1  ORCID:0000-0002-0736-9199[2024-12-14]  \n",
       "2  ORCID:0000-0002-0736-9199[2024-12-14]  \n",
       "3  ORCID:0000-0002-0736-9199[2024-12-14]  \n",
       "4  ORCID:0000-0002-0736-9199[2024-12-14]  "
      ]
     },
     "execution_count": 6,
     "metadata": {},
     "output_type": "execute_result"
    }
   ],
   "source": [
    "pmid = \"PMID:31449058\"\n",
    "df = timporter.create_hpoa_from_phenopackets(pmid=pmid, mode_of_inheritance=Moi.AD, target=\"OMIM:620836\")\n",
    "df.head()"
   ]
  }
 ],
 "metadata": {
  "kernelspec": {
   "display_name": "ps24venv",
   "language": "python",
   "name": "python3"
  },
  "language_info": {
   "codemirror_mode": {
    "name": "ipython",
    "version": 3
   },
   "file_extension": ".py",
   "mimetype": "text/x-python",
   "name": "python",
   "nbconvert_exporter": "python",
   "pygments_lexer": "ipython3",
   "version": "3.12.4"
  }
 },
 "nbformat": 4,
 "nbformat_minor": 2
}
