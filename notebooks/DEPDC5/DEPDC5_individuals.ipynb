{
 "cells": [
  {
   "cell_type": "markdown",
   "id": "dc0dbc9b-4fb5-4de0-b864-194c771e69d9",
   "metadata": {},
   "source": [
    "# DEPDC5\n",
    "Data from [Ververi A, et al. (2023) Germline homozygous missense DEPDC5 variants cause severe refractory early-onset epilepsy, macrocephaly and bilateral polymicrogyria. Hum Mol Genet](https://pubmed.ncbi.nlm.nih.gov/36067010/)"
   ]
  },
  {
   "cell_type": "code",
   "execution_count": 1,
   "id": "30fdb1f8-ed33-48fb-8043-c1746574e028",
   "metadata": {},
   "outputs": [
    {
     "name": "stdout",
     "output_type": "stream",
     "text": [
      "Using pyphetools version 0.9.63\n"
     ]
    }
   ],
   "source": [
    "from pyphetools.creation import TemplateImporter\n",
    "from pyphetools.visualization import QcVisualizer\n",
    "from IPython.display import HTML, display\n",
    "import pyphetools\n",
    "print(f\"Using pyphetools version {pyphetools.__version__}\")"
   ]
  },
  {
   "cell_type": "code",
   "execution_count": 2,
   "id": "39a349fd-2d53-4d0f-9737-3113b196ee08",
   "metadata": {},
   "outputs": [],
   "source": [
    "hpo_json_file=\"../hp.json\"\n",
    "created_by=\"ORCID:0000-0002-0736-9199\"\n",
    "template = \"input/DEPDC5_Ververi_2023.xlsx\"\n",
    "timporter = TemplateImporter(template=template, hp_json=hpo_json_file, created_by=created_by)"
   ]
  },
  {
   "cell_type": "code",
   "execution_count": 4,
   "id": "2066bc2e-2ff2-42e0-b6ea-ca77eeab2a83",
   "metadata": {},
   "outputs": [
    {
     "name": "stdout",
     "output_type": "stream",
     "text": [
      "HPO version 2024-02-27\n",
      "Created encoders for 34 fields\n",
      " we got OMIM:620504  NM_001242896.3\n",
      "We output 8 GA4GH phenopackets to the directory phenopackets\n"
     ]
    }
   ],
   "source": [
    "individuals, cvalidator = timporter.import_phenopackets_from_template()"
   ]
  },
  {
   "cell_type": "code",
   "execution_count": 5,
   "id": "d029c37e-4fea-460e-a4e6-2a3c649e3d41",
   "metadata": {},
   "outputs": [
    {
     "data": {
      "text/html": [
       "<h2>Cohort validation</h2>\n",
       "<p>Errors found with 7 of 8 phenopackets.</p>\n",
       "<table style=\"border: 2px solid black; align: \"left\">\n",
       "<caption>Error counts</caption>\n",
       "<tr><th style=\"text-align: left;font-weight: bold;\">Level</th><th style=\"text-align: left;font-weight: bold;\">Error category</th><th style=\"text-align: left;font-weight: bold;\">Count</th></tr>\n",
       "<tr><td style=\"text-align: left;\">ERROR</td><td style=\"text-align: left;\">CONFLICT</td><td style=\"text-align: left;\">4</td></tr>\n",
       "<tr><td style=\"text-align: left;\">WARNING</td><td style=\"text-align: left;\">REDUNDANT</td><td style=\"text-align: left;\">8</td></tr>\n",
       "</table>\n",
       "<p>A total of 12 issues were fixed and no individual was removed from the cohort.</p>"
      ],
      "text/plain": [
       "<IPython.core.display.HTML object>"
      ]
     },
     "metadata": {},
     "output_type": "display_data"
    }
   ],
   "source": [
    "qc = QcVisualizer(cohort_validator=cvalidator)\n",
    "display(HTML(qc.to_summary_html()))"
   ]
  },
  {
   "cell_type": "code",
   "execution_count": 6,
   "id": "f936f5eb-8585-4836-9d4b-b6e1982f11bb",
   "metadata": {},
   "outputs": [
    {
     "name": "stdout",
     "output_type": "stream",
     "text": [
      "[pyphetools] Ingested 8 GA4GH phenopackets.\n",
      "\tDevelopmental and epileptic encephalopathy 111 (OMIM:620504): n=8\n",
      "We found a total of 34 unique HPO terms\n",
      "Extracted disease: Developmental and epileptic encephalopathy 111 (OMIM:620504)\n",
      "Wrote HPOA disease file to OMIM-620504.tab\n"
     ]
    }
   ],
   "source": [
    "PMID = \"PMID:36067010\" # Shamseldin, 2023\n",
    "ar = \"Autosomal recessive\"\n",
    "df = timporter.create_hpoa_from_phenopackets(pmid=PMID, moi=ar)"
   ]
  },
  {
   "cell_type": "code",
   "execution_count": null,
   "id": "58d2d6a3-da44-404c-81d0-9abcbf36f765",
   "metadata": {},
   "outputs": [],
   "source": []
  }
 ],
 "metadata": {
  "kernelspec": {
   "display_name": "Python 3 (ipykernel)",
   "language": "python",
   "name": "python3"
  },
  "language_info": {
   "codemirror_mode": {
    "name": "ipython",
    "version": 3
   },
   "file_extension": ".py",
   "mimetype": "text/x-python",
   "name": "python",
   "nbconvert_exporter": "python",
   "pygments_lexer": "ipython3",
   "version": "3.8.10"
  }
 },
 "nbformat": 4,
 "nbformat_minor": 5
}
