{
 "cells": [
  {
   "cell_type": "markdown",
   "metadata": {},
   "source": [
    "# APOLD1\n",
    "[vascular-type bleeding disorder (BDVAS)](https://omim.org/entry/620715) is caused by heterozygous mutation in the APOLD1 gene."
   ]
  },
  {
   "cell_type": "code",
   "execution_count": 5,
   "metadata": {},
   "outputs": [
    {
     "name": "stdout",
     "output_type": "stream",
     "text": [
      "Using pyphetools version 0.9.91\n"
     ]
    }
   ],
   "source": [
    "from pyphetools.creation import TemplateImporter\n",
    "from pyphetools.visualization import IndividualTable, QcVisualizer\n",
    "from IPython.display import display, HTML\n",
    "import pyphetools\n",
    "print(f\"Using pyphetools version {pyphetools.__version__}\")"
   ]
  },
  {
   "cell_type": "code",
   "execution_count": 6,
   "metadata": {},
   "outputs": [],
   "source": [
    "template = \"input/APOLD1_BDVAS_individuals.xlsx\"\n",
    "created_by = \"0000-0002-0736-9199\""
   ]
  },
  {
   "cell_type": "code",
   "execution_count": 7,
   "metadata": {},
   "outputs": [
    {
     "name": "stdout",
     "output_type": "stream",
     "text": [
      "HPO version 2024-04-26\n",
      "Created encoders for 27 fields\n",
      "ERROR: Error - HPO label ends with whitespace: \\”Abnormal platelet count \"\n",
      "ERROR: Error - HPO label ends with whitespace: \\”Prolonged bleeding time \"\n",
      "Importing OMIM:620715, Bleeding disorder, vascular-type, HGNC:25268, APOLD1,  NM_030817.3\n",
      "[INFO] encoding variant \"c.145_146delinsTA\"\n",
      "https://rest.variantvalidator.org/VariantValidator/variantvalidator/hg38/NM_030817.3%3Ac.145_146delinsTA/NM_030817.3?content-type=application%2Fjson\n",
      "We output 4 GA4GH phenopackets to the directory phenopackets\n"
     ]
    }
   ],
   "source": [
    "timporter = TemplateImporter(template=template,  created_by=created_by)\n",
    "individual_list, cvalidator = timporter.import_phenopackets_from_template()"
   ]
  },
  {
   "cell_type": "code",
   "execution_count": 8,
   "metadata": {},
   "outputs": [
    {
     "data": {
      "text/html": [
       "<h2>Cohort validation</h2>\n",
       "<p>No errors found for the cohort with 4 individuals</p>"
      ],
      "text/plain": [
       "<IPython.core.display.HTML object>"
      ]
     },
     "metadata": {},
     "output_type": "display_data"
    }
   ],
   "source": [
    "qc = QcVisualizer(cohort_validator=cvalidator)\n",
    "display(HTML(qc.to_summary_html()))"
   ]
  },
  {
   "cell_type": "code",
   "execution_count": 9,
   "metadata": {},
   "outputs": [
    {
     "data": {
      "text/html": [
       "<table style=\"border: 2px solid black; align: \"left\">\n",
       "<caption>4 phenopackets - PMID:35638551 (n=4)</caption>\n",
       "<tr><th style=\"text-align: left;font-weight: bold;\">Individual</th><th style=\"text-align: left;font-weight: bold;\">Disease</th><th style=\"text-align: left;font-weight: bold;\">Genotype</th><th style=\"text-align: left;font-weight: bold;\">Phenotypic features</th></tr>\n",
       "<tr><td style=\"text-align: left;\">Patient PM4 (FEMALE; P70Y)</td><td style=\"text-align: left;\">Bleeding disorder, vascular-type (OMIM:620715)</td><td style=\"text-align: left;\">NM_030817.3:c.145_146delinsTA (heterozygous)</td><td style=\"text-align: left;\">Oral bleeding (HP:0040184); Menorrhagia (HP:0000132); Raynaud phenomenon (HP:0030880); excluded: Gastrointestinal hemorrhage (HP:0002239); excluded: Prolonged bleeding after dental extraction (HP:0006298); excluded: Livedo reticularis (HP:0033505)</td></tr>\n",
       "<tr><td style=\"text-align: left;\">Patient PM6 (FEMALE; P70Y)</td><td style=\"text-align: left;\">Bleeding disorder, vascular-type (OMIM:620715)</td><td style=\"text-align: left;\">NM_030817.3:c.145_146delinsTA (heterozygous)</td><td style=\"text-align: left;\">Gastrointestinal hemorrhage (HP:0002239); Menorrhagia (HP:0000132); Prolonged bleeding after dental extraction (HP:0006298); excluded: Oral bleeding (HP:0040184); excluded: Raynaud phenomenon (HP:0030880); excluded: Livedo reticularis (HP:0033505)</td></tr>\n",
       "<tr><td style=\"text-align: left;\">Patient PM9 (FEMALE; P50Y)</td><td style=\"text-align: left;\">Bleeding disorder, vascular-type (OMIM:620715)</td><td style=\"text-align: left;\">NM_030817.3:c.145_146delinsTA (heterozygous)</td><td style=\"text-align: left;\">Gastrointestinal hemorrhage (HP:0002239); Menorrhagia (HP:0000132); Raynaud phenomenon (HP:0030880); Livedo reticularis (HP:0033505); excluded: Oral bleeding (HP:0040184); excluded: Prolonged bleeding after dental extraction (HP:0006298)</td></tr>\n",
       "<tr><td style=\"text-align: left;\">Patient PM11 (MALE; P45Y)</td><td style=\"text-align: left;\">Bleeding disorder, vascular-type (OMIM:620715)</td><td style=\"text-align: left;\">NM_030817.3:c.145_146delinsTA (heterozygous)</td><td style=\"text-align: left;\">Epistaxis (HP:0000421); Prolonged bleeding after dental extraction (HP:0006298); excluded: Oral bleeding (HP:0040184); excluded: Gastrointestinal hemorrhage (HP:0002239); excluded: Livedo reticularis (HP:0033505)</td></tr>\n",
       "</table>"
      ],
      "text/plain": [
       "<IPython.core.display.HTML object>"
      ]
     },
     "metadata": {},
     "output_type": "display_data"
    }
   ],
   "source": [
    "table = IndividualTable(cvalidator.get_error_free_individual_list())\n",
    "display(HTML(table.to_html()))"
   ]
  },
  {
   "cell_type": "code",
   "execution_count": 10,
   "metadata": {},
   "outputs": [
    {
     "name": "stdout",
     "output_type": "stream",
     "text": [
      "[pyphetools] Ingested 4 GA4GH phenopackets.\n",
      "[INFO] Extracted 4 from 4 phenopackets with OMIM:620715\n",
      "\n",
      "\tBleeding disorder, vascular-type (OMIM:620715): n=4\n",
      "We found a total of 7 unique HPO terms\n",
      "Extracted disease: Bleeding disorder, vascular-type (OMIM:620715)\n",
      "Wrote HPOA disease file to OMIM-620715.tab\n"
     ]
    }
   ],
   "source": [
    "pmid = \"PMID:35638551\"\n",
    "df = timporter.create_hpoa_from_phenopackets(pmid=pmid, moi=\"Autosomal recessive\", target=\"OMIM:620715\")"
   ]
  },
  {
   "cell_type": "code",
   "execution_count": null,
   "metadata": {},
   "outputs": [],
   "source": []
  }
 ],
 "metadata": {
  "kernelspec": {
   "display_name": "ps24venv",
   "language": "python",
   "name": "python3"
  },
  "language_info": {
   "codemirror_mode": {
    "name": "ipython",
    "version": 3
   },
   "file_extension": ".py",
   "mimetype": "text/x-python",
   "name": "python",
   "nbconvert_exporter": "python",
   "pygments_lexer": "ipython3",
   "version": "3.9.6"
  }
 },
 "nbformat": 4,
 "nbformat_minor": 2
}
