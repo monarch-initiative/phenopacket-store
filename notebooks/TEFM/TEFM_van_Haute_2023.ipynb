{
 "cells": [
  {
   "cell_type": "markdown",
   "id": "c74516e2-ba4a-4d23-b3f8-fbef96915665",
   "metadata": {},
   "source": [
    "# TEFM\n",
    "\n",
    "Data from [Van Haute L, et al. (2023) TEFM variants impair mitochondrial transcription causing childhood-onset neurological disease. Nat Commun ;14(1):1009. PMID:36823193](https://pubmed.ncbi.nlm.nih.gov/36823193/)."
   ]
  },
  {
   "cell_type": "code",
   "execution_count": 19,
   "id": "5aac348f-c947-47ac-8c02-cf7eef48ed99",
   "metadata": {},
   "outputs": [
    {
     "name": "stdout",
     "output_type": "stream",
     "text": [
      "Using pyphetools version 0.9.71\n"
     ]
    }
   ],
   "source": [
    "from pyphetools.creation import TemplateImporter\n",
    "from pyphetools.visualization import IndividualTable, QcVisualizer\n",
    "from IPython.display import display, HTML\n",
    "import pyphetools\n",
    "print(f\"Using pyphetools version {pyphetools.__version__}\")"
   ]
  },
  {
   "cell_type": "code",
   "execution_count": 20,
   "id": "17ca1f06-5974-4ad1-9e1d-1f3de8312c97",
   "metadata": {},
   "outputs": [],
   "source": [
    "template = \"input/TEFM_individuals.xlsx\"\n",
    "hp_json = \"../hp.json\"\n",
    "created_by = \"0000-0002-0736-9199\""
   ]
  },
  {
   "cell_type": "code",
   "execution_count": 25,
   "id": "dbdd3acb-3805-4c0d-b208-8dcc0a77d3fa",
   "metadata": {},
   "outputs": [
    {
     "name": "stdout",
     "output_type": "stream",
     "text": [
      "HPO version 2024-03-06\n",
      "Created encoders for 50 fields\n",
      "Importing OMIM:620451, Combined oxidative phosphorylation deficiency 58, HGNC:26223, TEFM,  NM_024683.4\n",
      "We output 7 GA4GH phenopackets to the directory phenopackets\n"
     ]
    }
   ],
   "source": [
    "timporter = TemplateImporter(template=template, hp_json=hp_json, created_by=created_by)\n",
    "individual_list, cvalidator = timporter.import_phenopackets_from_template()"
   ]
  },
  {
   "cell_type": "code",
   "execution_count": 26,
   "id": "843a6d6e-f43f-48ed-ab1d-d63a6c41da60",
   "metadata": {},
   "outputs": [
    {
     "data": {
      "text/html": [
       "<h2>Cohort validation</h2>\n",
       "<p>Errors found with 3 of 7 phenopackets.</p>\n",
       "<table style=\"border: 2px solid black; align: \"left\">\n",
       "<caption>Error counts</caption>\n",
       "<tr><th style=\"text-align: left;font-weight: bold;\">Level</th><th style=\"text-align: left;font-weight: bold;\">Error category</th><th style=\"text-align: left;font-weight: bold;\">Count</th></tr>\n",
       "<tr><td style=\"text-align: left;\">WARNING</td><td style=\"text-align: left;\">REDUNDANT</td><td style=\"text-align: left;\">3</td></tr>\n",
       "</table>\n",
       "<p>A total of 3 issues were fixed and no individual was removed from the cohort.</p>"
      ],
      "text/plain": [
       "<IPython.core.display.HTML object>"
      ]
     },
     "metadata": {},
     "output_type": "display_data"
    }
   ],
   "source": [
    "qc = QcVisualizer(cohort_validator=cvalidator)\n",
    "display(HTML(qc.to_summary_html()))"
   ]
  },
  {
   "cell_type": "code",
   "execution_count": 27,
   "id": "3d1be0c4-2ed5-40b1-b6e4-48a943a5bcbd",
   "metadata": {},
   "outputs": [
    {
     "data": {
      "text/html": [
       "<table style=\"border: 2px solid black; align: \"left\">\n",
       "<caption>7 phenopackets - PMID:36823193 (n=7)</caption>\n",
       "<tr><th style=\"text-align: left;font-weight: bold;\">Individual</th><th style=\"text-align: left;font-weight: bold;\">Disease</th><th style=\"text-align: left;font-weight: bold;\">Genotype</th><th style=\"text-align: left;font-weight: bold;\">Phenotypic features</th></tr>\n",
       "<tr><td style=\"text-align: left;\">Patient 1 Family 1 (MALE; P16Y)</td><td style=\"text-align: left;\">Combined oxidative phosphorylation deficiency 58 (OMIM:620451)</td><td style=\"text-align: left;\">NM_024683.4:c.469C>G (homozygous)</td><td style=\"text-align: left;\"><b>P12Y</b>: Bilateral tonic-clonic seizure (HP:0002069)<br/>Difficulty walking (HP:0002355); Gait ataxia (HP:0002066); Ptosis (HP:0000508); Muscle weakness (HP:0001324); Axial hypotonia (HP:0008936); Ragged-red muscle fibers (HP:0003200); EMG: decremental response of compound muscle action potential to repetitive nerve stimulation (HP:0003403); Decreased activity of mitochondrial complex IV (HP:0008347); Decreased activity of mitochondrial complex I (HP:0011923); Increased circulating lactate concentration (HP:0002151); excluded: Peripheral neuropathy (HP:0009830); excluded: Global developmental delay (HP:0001263); excluded: Epilepsia partialis continua (HP:0012847); excluded: Exaggerated startle response (HP:0002267); excluded: Intellectual disability (HP:0001249); excluded: Appendicular spasticity (HP:0034353); excluded: Myoclonus (HP:0001336); excluded: Low insertion of columella (HP:0010763); excluded: Epicanthus (HP:0000286); excluded: Prominent nasal bridge (HP:0000426); excluded: Reduced visual acuity (HP:0007663); excluded: Strabismus (HP:0000486); excluded: Nystagmus (HP:0000639); excluded: Optic atrophy (HP:0000648); excluded: Appendicular hypotonia (HP:0012389); excluded: Feeding difficulties (HP:0011968); excluded: Low-set ears (HP:0000369); excluded: Respiratory failure requiring assisted ventilation (HP:0004887); excluded: Microcephaly (HP:0000252); excluded: Cerebellar atrophy (HP:0001272)</td></tr>\n",
       "<tr><td style=\"text-align: left;\">Patient 2 Family 1 (MALE; P21Y)</td><td style=\"text-align: left;\">Combined oxidative phosphorylation deficiency 58 (OMIM:620451)</td><td style=\"text-align: left;\">NM_024683.4:c.469C>G (homozygous)</td><td style=\"text-align: left;\"><b>P11Y</b>: Bilateral tonic-clonic seizure (HP:0002069)<br/>Gait ataxia (HP:0002066); Intellectual disability (HP:0001249); Appendicular spasticity (HP:0034353); Ptosis (HP:0000508); Muscle weakness (HP:0001324); Axial hypotonia (HP:0008936); Ragged-red muscle fibers (HP:0003200); Decreased activity of mitochondrial complex IV (HP:0008347); Decreased activity of mitochondrial complex I (HP:0011923); Microcephaly (HP:0000252); Increased circulating lactate concentration (HP:0002151); excluded: Peripheral neuropathy (HP:0009830); excluded: Difficulty walking (HP:0002355); excluded: Global developmental delay (HP:0001263); excluded: Epilepsia partialis continua (HP:0012847); excluded: Exaggerated startle response (HP:0002267); excluded: Myoclonus (HP:0001336); excluded: Low insertion of columella (HP:0010763); excluded: Epicanthus (HP:0000286); excluded: Prominent nasal bridge (HP:0000426); excluded: Reduced visual acuity (HP:0007663); excluded: Strabismus (HP:0000486); excluded: Nystagmus (HP:0000639); excluded: Optic atrophy (HP:0000648); excluded: Appendicular hypotonia (HP:0012389); excluded: EMG: decremental response of compound muscle action potential to repetitive nerve stimulation (HP:0003403); excluded: Feeding difficulties (HP:0011968); excluded: Low-set ears (HP:0000369); excluded: Respiratory failure requiring assisted ventilation (HP:0004887); excluded: Cerebellar atrophy (HP:0001272)</td></tr>\n",
       "<tr><td style=\"text-align: left;\">Patient 3 Family 2 (MALE; P1M)</td><td style=\"text-align: left;\">Combined oxidative phosphorylation deficiency 58 (OMIM:620451)</td><td style=\"text-align: left;\"><ul> <li>NM_024683.4:c.700del (heterozygous)</li> <li>NM_024683.4:c.476T>A (heterozygous)</li> </ul></td><td style=\"text-align: left;\">Difficulty walking (HP:0002355); Global developmental delay (HP:0001263); Elevated brain lactate level by MRS (HP:0012707); Axial hypotonia (HP:0008936); Feeding difficulties (HP:0011968); Respiratory failure requiring assisted ventilation (HP:0004887); Increased circulating lactate concentration (HP:0002151); excluded: Peripheral neuropathy (HP:0009830); excluded: Gait ataxia (HP:0002066); excluded: Exaggerated startle response (HP:0002267); excluded: Low insertion of columella (HP:0010763); excluded: Epicanthus (HP:0000286); excluded: Prominent nasal bridge (HP:0000426); excluded: Appendicular hypotonia (HP:0012389); excluded: Low-set ears (HP:0000369); excluded: Microcephaly (HP:0000252); excluded: Cerebellar atrophy (HP:0001272)</td></tr>\n",
       "<tr><td style=\"text-align: left;\">Patient 4 Family 3 (FEMALE; P1Y1M)</td><td style=\"text-align: left;\">Combined oxidative phosphorylation deficiency 58 (OMIM:620451)</td><td style=\"text-align: left;\"><ul> <li>NM_024683.4:c.32-14A>G (heterozygous)</li> <li>NM_024683.4:c.484_489del (heterozygous)</li> </ul></td><td style=\"text-align: left;\">Difficulty walking (HP:0002355); Global developmental delay (HP:0001263); Epilepsia partialis continua (HP:0012847); Exaggerated startle response (HP:0002267); Intellectual disability (HP:0001249); Appendicular spasticity (HP:0034353); Myoclonus (HP:0001336); Strabismus (HP:0000486); Nystagmus (HP:0000639); Ptosis (HP:0000508); Optic atrophy (HP:0000648); Axial hypotonia (HP:0008936); Feeding difficulties (HP:0011968); Decreased activity of mitochondrial complex I (HP:0011923); Increased circulating lactate concentration (HP:0002151); excluded: Peripheral neuropathy (HP:0009830); excluded: Gait ataxia (HP:0002066); excluded: Bilateral tonic-clonic seizure (HP:0002069); excluded: Low insertion of columella (HP:0010763); excluded: Epicanthus (HP:0000286); excluded: Prominent nasal bridge (HP:0000426); excluded: Appendicular hypotonia (HP:0012389); excluded: Ragged-red muscle fibers (HP:0003200); excluded: EMG: decremental response of compound muscle action potential to repetitive nerve stimulation (HP:0003403); excluded: Low-set ears (HP:0000369); excluded: Respiratory failure requiring assisted ventilation (HP:0004887); excluded: Microcephaly (HP:0000252); excluded: Cerebellar atrophy (HP:0001272)</td></tr>\n",
       "<tr><td style=\"text-align: left;\">Patient 5 Family 4 (FEMALE; P4Y5M)</td><td style=\"text-align: left;\">Combined oxidative phosphorylation deficiency 58 (OMIM:620451)</td><td style=\"text-align: left;\"><ul> <li>NM_024683.4:c.563A>G (heterozygous)</li> <li>NM_024683.4:c.100C>T (heterozygous)</li> </ul></td><td style=\"text-align: left;\">Intellectual disability (HP:0001249); Low insertion of columella (HP:0010763); Epicanthus (HP:0000286); Prominent nasal bridge (HP:0000426); Increased circulating lactate concentration (HP:0002151); excluded: Peripheral neuropathy (HP:0009830); excluded: Difficulty walking (HP:0002355); excluded: Global developmental delay (HP:0001263); excluded: Gait ataxia (HP:0002066); excluded: Bilateral tonic-clonic seizure (HP:0002069); excluded: Epilepsia partialis continua (HP:0012847); excluded: Exaggerated startle response (HP:0002267); excluded: Appendicular spasticity (HP:0034353); excluded: Myoclonus (HP:0001336); excluded: Reduced visual acuity (HP:0007663); excluded: Strabismus (HP:0000486); excluded: Nystagmus (HP:0000639); excluded: Ptosis (HP:0000508); excluded: Optic atrophy (HP:0000648); excluded: Muscle weakness (HP:0001324); excluded: Appendicular hypotonia (HP:0012389); excluded: Axial hypotonia (HP:0008936); excluded: Feeding difficulties (HP:0011968); excluded: Low-set ears (HP:0000369); excluded: Respiratory failure requiring assisted ventilation (HP:0004887); excluded: Microcephaly (HP:0000252); excluded: Cerebellar atrophy (HP:0001272)</td></tr>\n",
       "<tr><td style=\"text-align: left;\">Patient 6 Family 5 (MALE; P8Y)</td><td style=\"text-align: left;\">Combined oxidative phosphorylation deficiency 58 (OMIM:620451)</td><td style=\"text-align: left;\">NM_024683.4:c.484_489del (homozygous)</td><td style=\"text-align: left;\">Difficulty walking (HP:0002355); Intellectual disability (HP:0001249); Ataxia (HP:0001251); Low insertion of columella (HP:0010763); Epicanthus (HP:0000286); Reduced visual acuity (HP:0007663); Nystagmus (HP:0000639); Optic atrophy (HP:0000648); Appendicular hypotonia (HP:0012389); Low-set ears (HP:0000369); Cerebellar atrophy (HP:0001272); Increased circulating lactate concentration (HP:0002151); excluded: Peripheral neuropathy (HP:0009830); excluded: Global developmental delay (HP:0001263); excluded: Gait ataxia (HP:0002066); excluded: Bilateral tonic-clonic seizure (HP:0002069); excluded: Epilepsia partialis continua (HP:0012847); excluded: Exaggerated startle response (HP:0002267); excluded: Appendicular spasticity (HP:0034353); excluded: Myoclonus (HP:0001336); excluded: Prominent nasal bridge (HP:0000426); excluded: Strabismus (HP:0000486); excluded: Ptosis (HP:0000508); excluded: Muscle weakness (HP:0001324); excluded: Axial hypotonia (HP:0008936); excluded: EMG: decremental response of compound muscle action potential to repetitive nerve stimulation (HP:0003403); excluded: Feeding difficulties (HP:0011968); excluded: Respiratory failure requiring assisted ventilation (HP:0004887); excluded: Microcephaly (HP:0000252)</td></tr>\n",
       "<tr><td style=\"text-align: left;\">Patient 7 Family 5 (FEMALE; P5Y6M)</td><td style=\"text-align: left;\">Combined oxidative phosphorylation deficiency 58 (OMIM:620451)</td><td style=\"text-align: left;\">NM_024683.4:c.484_489del (homozygous)</td><td style=\"text-align: left;\">Global developmental delay (HP:0001263); Intellectual disability (HP:0001249); Ataxia (HP:0001251); Low insertion of columella (HP:0010763); Epicanthus (HP:0000286); Strabismus (HP:0000486); Nystagmus (HP:0000639); Axial hypotonia (HP:0008936); Low-set ears (HP:0000369); Increased circulating lactate concentration (HP:0002151); excluded: Peripheral neuropathy (HP:0009830); excluded: Difficulty walking (HP:0002355); excluded: Gait ataxia (HP:0002066); excluded: Bilateral tonic-clonic seizure (HP:0002069); excluded: Epilepsia partialis continua (HP:0012847); excluded: Exaggerated startle response (HP:0002267); excluded: Appendicular spasticity (HP:0034353); excluded: Myoclonus (HP:0001336); excluded: Prominent nasal bridge (HP:0000426); excluded: Reduced visual acuity (HP:0007663); excluded: Ptosis (HP:0000508); excluded: Optic atrophy (HP:0000648); excluded: Muscle weakness (HP:0001324); excluded: Appendicular hypotonia (HP:0012389); excluded: EMG: decremental response of compound muscle action potential to repetitive nerve stimulation (HP:0003403); excluded: Feeding difficulties (HP:0011968); excluded: Respiratory failure requiring assisted ventilation (HP:0004887); excluded: Microcephaly (HP:0000252); excluded: Cerebellar atrophy (HP:0001272)</td></tr>\n",
       "</table>"
      ],
      "text/plain": [
       "<IPython.core.display.HTML object>"
      ]
     },
     "metadata": {},
     "output_type": "display_data"
    }
   ],
   "source": [
    "table = IndividualTable(cvalidator.get_error_free_individual_list())\n",
    "display(HTML(table.to_html()))"
   ]
  },
  {
   "cell_type": "code",
   "execution_count": null,
   "id": "76d07b4a-b217-4051-b98b-b5cca9065b0f",
   "metadata": {},
   "outputs": [],
   "source": [
    "pmid = \"PMID:36823193\"\n",
    "df = timporter.create_hpoa_from_phenopackets(pmid=pmid, moi=\"Autosomal recessive\")"
   ]
  }
 ],
 "metadata": {
  "kernelspec": {
   "display_name": "ps24venv",
   "language": "python",
   "name": "ps24venv"
  },
  "language_info": {
   "codemirror_mode": {
    "name": "ipython",
    "version": 3
   },
   "file_extension": ".py",
   "mimetype": "text/x-python",
   "name": "python",
   "nbconvert_exporter": "python",
   "pygments_lexer": "ipython3",
   "version": "3.8.10"
  }
 },
 "nbformat": 4,
 "nbformat_minor": 5
}
