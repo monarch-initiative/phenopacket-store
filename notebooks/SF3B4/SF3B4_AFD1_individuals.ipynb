{
 "cells": [
  {
   "cell_type": "code",
   "execution_count": 1,
   "metadata": {},
   "outputs": [
    {
     "name": "stdout",
     "output_type": "stream",
     "text": [
      "Using pyphetools version 0.9.84\n"
     ]
    },
    {
     "name": "stderr",
     "output_type": "stream",
     "text": [
      "/Users/robin/GIT/phenopacket-store/ps24venv/lib/python3.9/site-packages/urllib3/__init__.py:35: NotOpenSSLWarning: urllib3 v2 only supports OpenSSL 1.1.1+, currently the 'ssl' module is compiled with 'LibreSSL 2.8.3'. See: https://github.com/urllib3/urllib3/issues/3020\n",
      "  warnings.warn(\n"
     ]
    }
   ],
   "source": [
    "from pyphetools.creation import TemplateImporter\n",
    "from pyphetools.visualization import IndividualTable, QcVisualizer\n",
    "from IPython.display import display, HTML\n",
    "import pyphetools\n",
    "print(f\"Using pyphetools version {pyphetools.__version__}\")"
   ]
  },
  {
   "cell_type": "code",
   "execution_count": 2,
   "metadata": {},
   "outputs": [],
   "source": [
    "template = \"input/SF3B4_AFD1_individuals.xlsx\"\n",
    "created_by = \"0000-0002-0736-9199\""
   ]
  },
  {
   "cell_type": "code",
   "execution_count": 3,
   "metadata": {},
   "outputs": [
    {
     "name": "stdout",
     "output_type": "stream",
     "text": [
      "HPO version 2024-04-26\n",
      "Created encoders for 61 fields\n",
      "Importing OMIM:154400, Acrofacial dysostosis 1, Nager type, HGNC:10771, SF3B4,  NM_005850.5\n",
      "[INFO] encoding variant \"c.796dup\"\n",
      "https://rest.variantvalidator.org/VariantValidator/variantvalidator/hg38/NM_005850.5%3Ac.796dup/NM_005850.5?content-type=application%2Fjson\n",
      "[INFO] encoding variant \"c.1147dup\"\n",
      "https://rest.variantvalidator.org/VariantValidator/variantvalidator/hg38/NM_005850.5%3Ac.1147dup/NM_005850.5?content-type=application%2Fjson\n",
      "[INFO] encoding variant \"c.1252_1258del\"\n",
      "https://rest.variantvalidator.org/VariantValidator/variantvalidator/hg38/NM_005850.5%3Ac.1252_1258del/NM_005850.5?content-type=application%2Fjson\n",
      "[INFO] encoding variant \"c.769del\"\n",
      "https://rest.variantvalidator.org/VariantValidator/variantvalidator/hg38/NM_005850.5%3Ac.769del/NM_005850.5?content-type=application%2Fjson\n",
      "[INFO] encoding variant \"c.661_664dup\"\n",
      "https://rest.variantvalidator.org/VariantValidator/variantvalidator/hg38/NM_005850.5%3Ac.661_664dup/NM_005850.5?content-type=application%2Fjson\n",
      "We output 26 GA4GH phenopackets to the directory phenopackets\n"
     ]
    }
   ],
   "source": [
    "timporter = TemplateImporter(template=template,  created_by=created_by)\n",
    "individual_list, cvalidator = timporter.import_phenopackets_from_template()"
   ]
  },
  {
   "cell_type": "code",
   "execution_count": 4,
   "metadata": {},
   "outputs": [
    {
     "data": {
      "text/html": [
       "<h2>Cohort validation</h2>\n",
       "<p>Errors found with 14 of 26 phenopackets.</p>\n",
       "<table style=\"border: 2px solid black; align: \"left\">\n",
       "<caption>Error counts</caption>\n",
       "<tr><th style=\"text-align: left;font-weight: bold;\">Level</th><th style=\"text-align: left;font-weight: bold;\">Error category</th><th style=\"text-align: left;font-weight: bold;\">Count</th></tr>\n",
       "<tr><td style=\"text-align: left;\">ERROR</td><td style=\"text-align: left;\">CONFLICT</td><td style=\"text-align: left;\">1</td></tr>\n",
       "<tr><td style=\"text-align: left;\">WARNING</td><td style=\"text-align: left;\">REDUNDANT</td><td style=\"text-align: left;\">16</td></tr>\n",
       "</table>\n",
       "<p>A total of 17 issues were fixed and no individual was removed from the cohort.</p>"
      ],
      "text/plain": [
       "<IPython.core.display.HTML object>"
      ]
     },
     "metadata": {},
     "output_type": "display_data"
    }
   ],
   "source": [
    "qc = QcVisualizer(cohort_validator=cvalidator)\n",
    "display(HTML(qc.to_summary_html()))"
   ]
  },
  {
   "cell_type": "code",
   "execution_count": 5,
   "metadata": {},
   "outputs": [
    {
     "data": {
      "text/html": [
       "<table style=\"border: 2px solid black; align: \"left\">\n",
       "<caption>26 phenopackets - PMID:22541558 (n=26)</caption>\n",
       "<tr><th style=\"text-align: left;font-weight: bold;\">Individual</th><th style=\"text-align: left;font-weight: bold;\">Disease</th><th style=\"text-align: left;font-weight: bold;\">Genotype</th><th style=\"text-align: left;font-weight: bold;\">Phenotypic features</th></tr>\n",
       "<tr><td style=\"text-align: left;\">individual A-1 (FEMALE; P5Y)</td><td style=\"text-align: left;\">Acrofacial dysostosis 1, Nager type (OMIM:154400)</td><td style=\"text-align: left;\">NM_005850.4:c.1A>G (heterozygous)</td><td style=\"text-align: left;\">Downslanted palpebral fissures (HP:0000494); Micrognathia (HP:0000347); Cleft soft palate (HP:0000185); Hearing impairment (HP:0000365); Abnormal pinna morphology (HP:0000377); Radioulnar synostosis (HP:0002974); Sparse lower eyelashes (HP:0007776); Abnormal thumb morphology (HP:0001172); Midface retrusion (HP:0011800); excluded: Cupped ear (HP:0000378); excluded: Stenosis of the external auditory canal (HP:0000402); excluded: Delayed speech and language development (HP:0000750); excluded: Global developmental delay (HP:0001263); excluded: Absent lower eyelashes (HP:0007646); excluded: Short thumb (HP:0009778); excluded: Absent thumb (HP:0009777); excluded: Symphalangism of the thumb (HP:0009656)</td></tr>\n",
       "<tr><td style=\"text-align: left;\">individual B-1 (FEMALE; P4Y)</td><td style=\"text-align: left;\">Acrofacial dysostosis 1, Nager type (OMIM:154400)</td><td style=\"text-align: left;\">NM_005850.4:c.864del (heterozygous)</td><td style=\"text-align: left;\">Downslanted palpebral fissures (HP:0000494); Micrognathia (HP:0000347); Abnormal pinna morphology (HP:0000377); Ventricular septal defect (HP:0001629); Radioulnar synostosis (HP:0002974); Abnormal thumb morphology (HP:0001172); Midface retrusion (HP:0011800); Congenital diaphragmatic hernia (HP:0000776); excluded: Cleft soft palate (HP:0000185); excluded: Cupped ear (HP:0000378); excluded: Stenosis of the external auditory canal (HP:0000402); excluded: Delayed speech and language development (HP:0000750); excluded: Global developmental delay (HP:0001263); excluded: Short thumb (HP:0009778); excluded: Absent thumb (HP:0009777); excluded: Symphalangism of the thumb (HP:0009656)</td></tr>\n",
       "<tr><td style=\"text-align: left;\">individual C-1 (MALE; P2Y)</td><td style=\"text-align: left;\">Acrofacial dysostosis 1, Nager type (OMIM:154400)</td><td style=\"text-align: left;\">NM_005850.4:c.1147del (heterozygous)</td><td style=\"text-align: left;\">Downslanted palpebral fissures (HP:0000494); Micrognathia (HP:0000347); Cleft palate (HP:0000175); Abnormal pinna morphology (HP:0000377); Global developmental delay (HP:0001263); Bilateral radial aplasia (HP:0004977); Absent thumb (HP:0009777); Midface retrusion (HP:0011800); excluded: Cleft soft palate (HP:0000185); excluded: Cupped ear (HP:0000378); excluded: Stenosis of the external auditory canal (HP:0000402); excluded: Radioulnar synostosis (HP:0002974); excluded: Short thumb (HP:0009778); excluded: Symphalangism of the thumb (HP:0009656)</td></tr>\n",
       "<tr><td style=\"text-align: left;\">individual D-1 (FEMALE; P24Y)</td><td style=\"text-align: left;\">Acrofacial dysostosis 1, Nager type (OMIM:154400)</td><td style=\"text-align: left;\">NM_005850.4:c.913+1G>A (heterozygous)</td><td style=\"text-align: left;\">Downslanted palpebral fissures (HP:0000494); Micrognathia (HP:0000347); Hearing impairment (HP:0000365); Abnormal pinna morphology (HP:0000377); Hallux valgus (HP:0001822); Radioulnar synostosis (HP:0002974); Absent lower eyelashes (HP:0007646); Short thumb (HP:0009778); Midface retrusion (HP:0011800); excluded: Cleft soft palate (HP:0000185); excluded: Cupped ear (HP:0000378); excluded: Stenosis of the external auditory canal (HP:0000402); excluded: Delayed speech and language development (HP:0000750); excluded: Global developmental delay (HP:0001263); excluded: Sparse lower eyelashes (HP:0007776); excluded: Absent thumb (HP:0009777); excluded: Symphalangism of the thumb (HP:0009656); excluded: Temporomandibular joint ankylosis (HP:0012478)</td></tr>\n",
       "<tr><td style=\"text-align: left;\">individual E-1 (FEMALE; P23Y)</td><td style=\"text-align: left;\">Acrofacial dysostosis 1, Nager type (OMIM:154400)</td><td style=\"text-align: left;\">NM_005850.4:c.1148dup (heterozygous)</td><td style=\"text-align: left;\">Downslanted palpebral fissures (HP:0000494); Micrognathia (HP:0000347); Velopharyngeal insufficiency (HP:0000220); Facial asymmetry (HP:0000324); Hearing impairment (HP:0000365); Abnormal pinna morphology (HP:0000377); Delayed speech and language development (HP:0000750); Radioulnar synostosis (HP:0002974); Short thumb (HP:0009778); Midface retrusion (HP:0011800); Cervical ribs (HP:0000891); excluded: Cleft soft palate (HP:0000185); excluded: Cupped ear (HP:0000378); excluded: Stenosis of the external auditory canal (HP:0000402); excluded: Global developmental delay (HP:0001263); excluded: Absent lower eyelashes (HP:0007646); excluded: Sparse lower eyelashes (HP:0007776); excluded: Absent thumb (HP:0009777); excluded: Symphalangism of the thumb (HP:0009656); excluded: Temporomandibular joint ankylosis (HP:0012478)</td></tr>\n",
       "<tr><td style=\"text-align: left;\">individual F-1 (MALE; P38Y)</td><td style=\"text-align: left;\">Acrofacial dysostosis 1, Nager type (OMIM:154400)</td><td style=\"text-align: left;\">NM_005850.4:c.1A>G (heterozygous)</td><td style=\"text-align: left;\">Downslanted palpebral fissures (HP:0000494); Micrognathia (HP:0000347); Radioulnar synostosis (HP:0002974); excluded: Cleft soft palate (HP:0000185); excluded: Hearing impairment (HP:0000365); excluded: Cupped ear (HP:0000378); excluded: Stenosis of the external auditory canal (HP:0000402); excluded: Delayed speech and language development (HP:0000750); excluded: Global developmental delay (HP:0001263); excluded: Symphalangism of the thumb (HP:0009656)</td></tr>\n",
       "<tr><td style=\"text-align: left;\">individual F-2 (FEMALE; P1Y)</td><td style=\"text-align: left;\">Acrofacial dysostosis 1, Nager type (OMIM:154400)</td><td style=\"text-align: left;\">NM_005850.4:c.1A>G (heterozygous)</td><td style=\"text-align: left;\">Micrognathia (HP:0000347); Cleft palate (HP:0000175); Hearing impairment (HP:0000365); Radioulnar synostosis (HP:0002974); Subglottic stenosis (HP:0001607); excluded: Cleft soft palate (HP:0000185); excluded: Symphalangism of the thumb (HP:0009656)</td></tr>\n",
       "<tr><td style=\"text-align: left;\">individual G-1 (FEMALE; P12Y)</td><td style=\"text-align: left;\">Acrofacial dysostosis 1, Nager type (OMIM:154400)</td><td style=\"text-align: left;\">NM_005850.4:c.827dup (heterozygous)</td><td style=\"text-align: left;\">Micrognathia (HP:0000347); Cleft palate (HP:0000175); Hearing impairment (HP:0000365); Radioulnar synostosis (HP:0002974); Absent thumb (HP:0009777); Temporomandibular joint ankylosis (HP:0012478); excluded: Downslanted palpebral fissures (HP:0000494); excluded: Cleft soft palate (HP:0000185); excluded: Absent lower eyelashes (HP:0007646); excluded: Sparse lower eyelashes (HP:0007776); excluded: Short thumb (HP:0009778); excluded: Symphalangism of the thumb (HP:0009656)</td></tr>\n",
       "<tr><td style=\"text-align: left;\">individual H-1 (FEMALE; P5Y)</td><td style=\"text-align: left;\">Acrofacial dysostosis 1, Nager type (OMIM:154400)</td><td style=\"text-align: left;\">NM_005850.4:c.1232del (heterozygous)</td><td style=\"text-align: left;\">Micrognathia (HP:0000347); Cleft palate (HP:0000175); Hearing impairment (HP:0000365); Absent lower eyelashes (HP:0007646); Abnormal thumb morphology (HP:0001172); excluded: Cleft soft palate (HP:0000185); excluded: Sparse lower eyelashes (HP:0007776); excluded: Short thumb (HP:0009778); excluded: Absent thumb (HP:0009777); excluded: Symphalangism of the thumb (HP:0009656)</td></tr>\n",
       "<tr><td style=\"text-align: left;\">individual I-1 (FEMALE; P28Y)</td><td style=\"text-align: left;\">Acrofacial dysostosis 1, Nager type (OMIM:154400)</td><td style=\"text-align: left;\">NM_005850.4:c.1060dup (heterozygous)</td><td style=\"text-align: left;\">Downslanted palpebral fissures (HP:0000494); Micrognathia (HP:0000347); Hearing impairment (HP:0000365); Abnormal pinna morphology (HP:0000377); Radioulnar synostosis (HP:0002974); Sparse lower eyelashes (HP:0007776); Abnormal thumb morphology (HP:0001172); Midface retrusion (HP:0011800); excluded: Cleft soft palate (HP:0000185); excluded: Cupped ear (HP:0000378); excluded: Stenosis of the external auditory canal (HP:0000402); excluded: Absent lower eyelashes (HP:0007646); excluded: Short thumb (HP:0009778); excluded: Absent thumb (HP:0009777); excluded: Symphalangism of the thumb (HP:0009656)</td></tr>\n",
       "<tr><td style=\"text-align: left;\">individual J-1 (MALE; P17Y)</td><td style=\"text-align: left;\">Acrofacial dysostosis 1, Nager type (OMIM:154400)</td><td style=\"text-align: left;\">NM_005850.4:c.1A>G (heterozygous)</td><td style=\"text-align: left;\">Downslanted palpebral fissures (HP:0000494); Micrognathia (HP:0000347); Hearing impairment (HP:0000365); Abnormal pinna morphology (HP:0000377); Absent lower eyelashes (HP:0007646); Short thumb (HP:0009778); Midface retrusion (HP:0011800); excluded: Cleft soft palate (HP:0000185); excluded: Cupped ear (HP:0000378); excluded: Stenosis of the external auditory canal (HP:0000402); excluded: Delayed speech and language development (HP:0000750); excluded: Global developmental delay (HP:0001263); excluded: Sparse lower eyelashes (HP:0007776); excluded: Absent thumb (HP:0009777); excluded: Symphalangism of the thumb (HP:0009656)</td></tr>\n",
       "<tr><td style=\"text-align: left;\">individual J-2 (FEMALE; P56Y)</td><td style=\"text-align: left;\">Acrofacial dysostosis 1, Nager type (OMIM:154400)</td><td style=\"text-align: left;\">NM_005850.4:c.1A>G (heterozygous)</td><td style=\"text-align: left;\">Downslanted palpebral fissures (HP:0000494); Micrognathia (HP:0000347); Hearing impairment (HP:0000365); Abnormal pinna morphology (HP:0000377); Abnormal thumb morphology (HP:0001172); excluded: Cleft soft palate (HP:0000185); excluded: Cupped ear (HP:0000378); excluded: Stenosis of the external auditory canal (HP:0000402); excluded: Absent lower eyelashes (HP:0007646); excluded: Sparse lower eyelashes (HP:0007776); excluded: Short thumb (HP:0009778); excluded: Absent thumb (HP:0009777); excluded: Symphalangism of the thumb (HP:0009656)</td></tr>\n",
       "<tr><td style=\"text-align: left;\">individual K-1 (FEMALE; P15Y)</td><td style=\"text-align: left;\">Acrofacial dysostosis 1, Nager type (OMIM:154400)</td><td style=\"text-align: left;\">NM_005850.4:c.452C>A (heterozygous)</td><td style=\"text-align: left;\">excluded: Cleft soft palate (HP:0000185); excluded: Symphalangism of the thumb (HP:0009656)</td></tr>\n",
       "<tr><td style=\"text-align: left;\">individual L-1 (FEMALE; P4Y)</td><td style=\"text-align: left;\">Acrofacial dysostosis 1, Nager type (OMIM:154400)</td><td style=\"text-align: left;\">NM_005850.4:c.836_837insGGGTATG (heterozygous)</td><td style=\"text-align: left;\">Downslanted palpebral fissures (HP:0000494); Micrognathia (HP:0000347); Limited elbow movement (HP:0002996); Absent lower eyelashes (HP:0007646); Short 5th finger (HP:0009237); excluded: Cleft soft palate (HP:0000185); excluded: Sparse lower eyelashes (HP:0007776); excluded: Symphalangism of the thumb (HP:0009656)</td></tr>\n",
       "<tr><td style=\"text-align: left;\">individual M-1 (FEMALE; P49Y)</td><td style=\"text-align: left;\">Acrofacial dysostosis 1, Nager type (OMIM:154400)</td><td style=\"text-align: left;\">NM_005850.4:c.1199del (heterozygous)</td><td style=\"text-align: left;\">Downslanted palpebral fissures (HP:0000494); Hearing impairment (HP:0000365); Radioulnar synostosis (HP:0002974); Absent thumb (HP:0009777); Symphalangism of the thumb (HP:0009656); Midface retrusion (HP:0011800); excluded: Micrognathia (HP:0000347); excluded: Cleft soft palate (HP:0000185); excluded: Cupped ear (HP:0000378); excluded: Stenosis of the external auditory canal (HP:0000402); excluded: Short thumb (HP:0009778)</td></tr>\n",
       "<tr><td style=\"text-align: left;\">individual M-2 (MALE; P20Y)</td><td style=\"text-align: left;\">Acrofacial dysostosis 1, Nager type (OMIM:154400)</td><td style=\"text-align: left;\">NM_005850.4:c.1199del (heterozygous)</td><td style=\"text-align: left;\">Downslanted palpebral fissures (HP:0000494); Micrognathia (HP:0000347); Cleft palate (HP:0000175); Hearing impairment (HP:0000365); Cupped ear (HP:0000378); Delayed speech and language development (HP:0000750); Short stature (HP:0004322); Sparse lower eyelashes (HP:0007776); Short hallux (HP:0010109); Midface retrusion (HP:0011800); Lacrimal duct stenosis (HP:0007678); Short 1st metacarpal (HP:0010034); excluded: Cleft soft palate (HP:0000185); excluded: Stenosis of the external auditory canal (HP:0000402); excluded: Global developmental delay (HP:0001263); excluded: Radioulnar synostosis (HP:0002974); excluded: Absent lower eyelashes (HP:0007646); excluded: Absent thumb (HP:0009777); excluded: Symphalangism of the thumb (HP:0009656)</td></tr>\n",
       "<tr><td style=\"text-align: left;\">individual M-3 (MALE; P17Y)</td><td style=\"text-align: left;\">Acrofacial dysostosis 1, Nager type (OMIM:154400)</td><td style=\"text-align: left;\">NM_005850.4:c.1199del (heterozygous)</td><td style=\"text-align: left;\">Downslanted palpebral fissures (HP:0000494); Micrognathia (HP:0000347); Hearing impairment (HP:0000365); Cupped ear (HP:0000378); Stenosis of the external auditory canal (HP:0000402); Global developmental delay (HP:0001263); Radioulnar synostosis (HP:0002974); Absent lower eyelashes (HP:0007646); Absent thumb (HP:0009777); Midface retrusion (HP:0011800); Lacrimal duct stenosis (HP:0007678); Short 1st metacarpal (HP:0010034); excluded: Cleft soft palate (HP:0000185); excluded: Sparse lower eyelashes (HP:0007776); excluded: Symphalangism of the thumb (HP:0009656)</td></tr>\n",
       "<tr><td style=\"text-align: left;\">individual N-1 (FEMALE; P13Y)</td><td style=\"text-align: left;\">Acrofacial dysostosis 1, Nager type (OMIM:154400)</td><td style=\"text-align: left;\">NM_005850.5:c.88del (heterozygous)</td><td style=\"text-align: left;\">Downslanted palpebral fissures (HP:0000494); Micrognathia (HP:0000347); Hearing impairment (HP:0000365); Cupped ear (HP:0000378); Stenosis of the external auditory canal (HP:0000402); Global developmental delay (HP:0001263); Ventricular septal defect (HP:0001629); Talipes equinovarus (HP:0001762); Radioulnar synostosis (HP:0002974); Limited elbow movement (HP:0002996); Absent lower eyelashes (HP:0007646); Absent thumb (HP:0009777); Midface retrusion (HP:0011800); Camptodactyly (HP:0012385); Temporomandibular joint ankylosis (HP:0012478); Lacrimal duct stenosis (HP:0007678); excluded: Cleft soft palate (HP:0000185); excluded: Sparse lower eyelashes (HP:0007776); excluded: Short thumb (HP:0009778); excluded: Symphalangism of the thumb (HP:0009656)</td></tr>\n",
       "<tr><td style=\"text-align: left;\">individual O-1 (MALE; P1Y)</td><td style=\"text-align: left;\">Acrofacial dysostosis 1, Nager type (OMIM:154400)</td><td style=\"text-align: left;\">NM_005850.5:c.1147dup (heterozygous)</td><td style=\"text-align: left;\">Downslanted palpebral fissures (HP:0000494); Micrognathia (HP:0000347); Hearing impairment (HP:0000365); Abnormal pinna morphology (HP:0000377); Short thumb (HP:0009778); Absent thumb (HP:0009777); excluded: Radioulnar synostosis (HP:0002974)</td></tr>\n",
       "<tr><td style=\"text-align: left;\">individual O-2 (FEMALE; P28Y)</td><td style=\"text-align: left;\">Acrofacial dysostosis 1, Nager type (OMIM:154400)</td><td style=\"text-align: left;\">NM_005850.5:c.1147dup (heterozygous)</td><td style=\"text-align: left;\">Downslanted palpebral fissures (HP:0000494); Micrognathia (HP:0000347); Hearing impairment (HP:0000365); Abnormal pinna morphology (HP:0000377); Radioulnar synostosis (HP:0002974); Short thumb (HP:0009778); excluded: Absent thumb (HP:0009777)</td></tr>\n",
       "<tr><td style=\"text-align: left;\">individual P-1 (MALE; P2Y)</td><td style=\"text-align: left;\">Acrofacial dysostosis 1, Nager type (OMIM:154400)</td><td style=\"text-align: left;\">NM_005850.5:c.769del (heterozygous)</td><td style=\"text-align: left;\">Downslanted palpebral fissures (HP:0000494); Micrognathia (HP:0000347); Hearing impairment (HP:0000365); Abnormal pinna morphology (HP:0000377); Radioulnar synostosis (HP:0002974); Sparse lower eyelashes (HP:0007776); Abnormal thumb morphology (HP:0001172); Midface retrusion (HP:0011800); excluded: Global developmental delay (HP:0001263); excluded: Absent lower eyelashes (HP:0007646); excluded: Short thumb (HP:0009778); excluded: Absent thumb (HP:0009777)</td></tr>\n",
       "<tr><td style=\"text-align: left;\">individual Q-1 (FEMALE; P1Y)</td><td style=\"text-align: left;\">Acrofacial dysostosis 1, Nager type (OMIM:154400)</td><td style=\"text-align: left;\">NM_005850.4:c.625C>T (heterozygous)</td><td style=\"text-align: left;\">Micrognathia (HP:0000347); Hearing impairment (HP:0000365); Abnormal pinna morphology (HP:0000377); Strabismus (HP:0000486); Mitral valve prolapse (HP:0001634); Limited elbow movement (HP:0002996); Sparse lower eyelashes (HP:0007776); Absent thumb (HP:0009777); Midface retrusion (HP:0011800); Preauricular hair displacement (HP:0009554); excluded: Radioulnar synostosis (HP:0002974); excluded: Absent lower eyelashes (HP:0007646); excluded: Short thumb (HP:0009778)</td></tr>\n",
       "<tr><td style=\"text-align: left;\">individual R-1 (FEMALE; P7Y)</td><td style=\"text-align: left;\">Acrofacial dysostosis 1, Nager type (OMIM:154400)</td><td style=\"text-align: left;\">NM_005850.5:c.1252_1258del (heterozygous)</td><td style=\"text-align: left;\">Downslanted palpebral fissures (HP:0000494); Micrognathia (HP:0000347); Hearing impairment (HP:0000365); Abnormal pinna morphology (HP:0000377); Hypoplasia of the radius (HP:0002984); Abnormal thumb morphology (HP:0001172); Midface retrusion (HP:0011800); excluded: Short thumb (HP:0009778); excluded: Absent thumb (HP:0009777)</td></tr>\n",
       "<tr><td style=\"text-align: left;\">individual R-2 (FEMALE; n/a)</td><td style=\"text-align: left;\">Acrofacial dysostosis 1, Nager type (OMIM:154400)</td><td style=\"text-align: left;\">NM_005850.5:c.1252_1258del (heterozygous)</td><td style=\"text-align: left;\">Abnormal thumb morphology (HP:0001172); Midface retrusion (HP:0011800); excluded: Short thumb (HP:0009778); excluded: Absent thumb (HP:0009777)</td></tr>\n",
       "<tr><td style=\"text-align: left;\">individual S-1 (FEMALE; P4Y)</td><td style=\"text-align: left;\">Acrofacial dysostosis 1, Nager type (OMIM:154400)</td><td style=\"text-align: left;\">NM_005850.5:c.796dup (heterozygous)</td><td style=\"text-align: left;\">Downslanted palpebral fissures (HP:0000494); Micrognathia (HP:0000347); Abnormal pinna morphology (HP:0000377); 4-5 toe syndactyly (HP:0004692); Short stature (HP:0004322); Abnormal thumb morphology (HP:0001172); Midface retrusion (HP:0011800); excluded: Short thumb (HP:0009778); excluded: Absent thumb (HP:0009777)</td></tr>\n",
       "<tr><td style=\"text-align: left;\">individual T-1 (MALE; P2Y)</td><td style=\"text-align: left;\">Acrofacial dysostosis 1, Nager type (OMIM:154400)</td><td style=\"text-align: left;\">NM_005850.5:c.661_664dup (heterozygous)</td><td style=\"text-align: left;\">Downslanted palpebral fissures (HP:0000494); Micrognathia (HP:0000347); Hearing impairment (HP:0000365); Abnormal pinna morphology (HP:0000377); Intellectual disability (HP:0001249); Radioulnar synostosis (HP:0002974); Abnormal thumb morphology (HP:0001172); Midface retrusion (HP:0011800); excluded: Short thumb (HP:0009778); excluded: Absent thumb (HP:0009777)</td></tr>\n",
       "</table>"
      ],
      "text/plain": [
       "<IPython.core.display.HTML object>"
      ]
     },
     "metadata": {},
     "output_type": "display_data"
    }
   ],
   "source": [
    "table = IndividualTable(cvalidator.get_error_free_individual_list())\n",
    "display(HTML(table.to_html()))"
   ]
  },
  {
   "cell_type": "code",
   "execution_count": 6,
   "metadata": {},
   "outputs": [
    {
     "name": "stdout",
     "output_type": "stream",
     "text": [
      "[pyphetools] Ingested 26 GA4GH phenopackets.\n",
      "\tAcrofacial dysostosis 1, Nager type (OMIM:154400): n=26\n",
      "We found a total of 41 unique HPO terms\n",
      "Extracted disease: Acrofacial dysostosis 1, Nager type (OMIM:154400)\n",
      "Wrote HPOA disease file to OMIM-154400.tab\n"
     ]
    }
   ],
   "source": [
    "pmid = \"PMID:22541558\"\n",
    "df = timporter.create_hpoa_from_phenopackets(pmid=pmid, moi=\"Autosomal dominant\")"
   ]
  }
 ],
 "metadata": {
  "kernelspec": {
   "display_name": "ps24venv",
   "language": "python",
   "name": "python3"
  },
  "language_info": {
   "codemirror_mode": {
    "name": "ipython",
    "version": 3
   },
   "file_extension": ".py",
   "mimetype": "text/x-python",
   "name": "python",
   "nbconvert_exporter": "python",
   "pygments_lexer": "ipython3",
   "version": "3.9.6"
  }
 },
 "nbformat": 4,
 "nbformat_minor": 2
}
