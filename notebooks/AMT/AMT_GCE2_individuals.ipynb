{
 "cells": [
  {
   "cell_type": "markdown",
   "metadata": {},
   "source": [
    "# AMT\n",
    "[glycine encephalopathy-2 (GCE2)](https://omim.org/entry/620398) is caused by homozygous or compound heterozygous mutation in the AMT gene."
   ]
  },
  {
   "cell_type": "code",
   "execution_count": 8,
   "metadata": {},
   "outputs": [
    {
     "name": "stdout",
     "output_type": "stream",
     "text": [
      "Using pyphetools version 0.9.115\n"
     ]
    }
   ],
   "source": [
    "from pyphetools.creation import TemplateImporter, Moi\n",
    "from pyphetools.visualization import IndividualTable, QcVisualizer\n",
    "from IPython.display import display, HTML\n",
    "import pyphetools\n",
    "print(f\"Using pyphetools version {pyphetools.__version__}\")"
   ]
  },
  {
   "cell_type": "code",
   "execution_count": 13,
   "metadata": {},
   "outputs": [
    {
     "name": "stdout",
     "output_type": "stream",
     "text": [
      "HPO version 2024-12-12\n",
      "Created encoders for 38 fields\n",
      "Importing OMIM:620398, Glycine encephalopathy 2, HGNC:473, AMT,  NM_000481.4\n",
      "We output 5 GA4GH phenopackets to the directory phenopackets\n"
     ]
    }
   ],
   "source": [
    "template = \"input/AMT_GCE2_individuals.xlsx\"\n",
    "created_by = \"0000-0002-0736-9199\"\n",
    "deletions = {\"DEL:Total AMT gene deletion\"}\n",
    "timporter = TemplateImporter(template=template,  created_by=created_by)\n",
    "individual_list, cvalidator = timporter.import_phenopackets_from_template(deletions=deletions)"
   ]
  },
  {
   "cell_type": "code",
   "execution_count": 14,
   "metadata": {},
   "outputs": [
    {
     "data": {
      "text/html": [
       "<h2>Cohort validation</h2>\n",
       "<p>No errors found for the cohort with 5 individuals</p>"
      ],
      "text/plain": [
       "<IPython.core.display.HTML object>"
      ]
     },
     "metadata": {},
     "output_type": "display_data"
    }
   ],
   "source": [
    "qc = QcVisualizer(cohort_validator=cvalidator)\n",
    "display(HTML(qc.to_summary_html()))"
   ]
  },
  {
   "cell_type": "code",
   "execution_count": 15,
   "metadata": {},
   "outputs": [
    {
     "data": {
      "text/html": [
       "<table style=\"border: 2px solid black; align: \"left\">\n",
       "<caption>5 phenopackets - PMID:8005589 (n=2); PMID:9600239 (n=1); PMID:33791923 (n=2)</caption>\n",
       "<tr><th style=\"text-align: left;font-weight: bold;\">Individual</th><th style=\"text-align: left;font-weight: bold;\">Disease</th><th style=\"text-align: left;font-weight: bold;\">Genotype</th><th style=\"text-align: left;font-weight: bold;\">Phenotypic features</th></tr>\n",
       "<tr><td style=\"text-align: left;\">patient A (FEMALE; P19Y)</td><td style=\"text-align: left;\">Glycine encephalopathy 2 (OMIM:620398)</td><td style=\"text-align: left;\">NM_000481.4:c.806G>A (homozygous)</td><td style=\"text-align: left;\">Global developmental delay (HP:0001263): onset ; Hyperglycinuria (HP:0003108): onset ; Intellectual disability, severe (HP:0010864): onset </td></tr>\n",
       "<tr><td style=\"text-align: left;\">patient B (FEMALE; P9Y)</td><td style=\"text-align: left;\">Glycine encephalopathy 2 (OMIM:620398)</td><td style=\"text-align: left;\"><ul> <li>NM_000481.4:c.139G>A (heterozygous)</li> <li>NM_000481.4:c.959G>A (heterozygous)</li> </ul></td><td style=\"text-align: left;\">Global developmental delay (HP:0001263): onset ; Seizure (HP:0001250): onset ; Cerebral atrophy (HP:0002059): onset ; Hyperglycinuria (HP:0003108): onset ; Intellectual disability, severe (HP:0010864): onset </td></tr>\n",
       "<tr><td style=\"text-align: left;\"> propositus VII-7 (MALE; P2D)</td><td style=\"text-align: left;\">Glycine encephalopathy 2 (OMIM:620398)</td><td style=\"text-align: left;\">NM_000481.4:c.125A>G (homozygous)</td><td style=\"text-align: left;\">EEG with burst suppression (HP:0010851): onset ; Increased CSF glycine concentration (HP:0500230): onset ; Hyperglycinemia (HP:0002154): onset <br/><b>TimeElement(element=Age(iso8601duration=P2D))</b>: Seizure (HP:0001250): onset age {\n",
       "  iso8601duration: \"P2D\"\n",
       "}\n",
       "</td></tr>\n",
       "<tr><td style=\"text-align: left;\">Patient 6 (FEMALE; P5D)</td><td style=\"text-align: left;\">Glycine encephalopathy 2 (OMIM:620398)</td><td style=\"text-align: left;\">NM_000481.4:c.434A>T (homozygous)</td><td style=\"text-align: left;\">Global developmental delay (HP:0001263): onset ; Seizure (HP:0001250): onset ; EEG with burst suppression (HP:0010851): onset ; Increased CSF glycine concentration (HP:0500230): onset ; Hyperglycinemia (HP:0002154): onset ; Respiratory failure requiring assisted ventilation (HP:0004887): onset ; Patent foramen ovale (HP:0001655): onset ; Microcephaly (HP:0000252): onset ; Hypotonia (HP:0001252): onset ; Vomiting (HP:0002013): onset ; Pyloric stenosis (HP:0002021): onset ; Micrognathia (HP:0000347): onset ; Hyperreflexia (HP:0001347): onset ; Poor suck (HP:0002033): onset ; Dysplastic corpus callosum (HP:0006989): onset ; Cerebral hypomyelination (HP:0006808): onset ; excluded: Hydrocephalus (HP:0000238): onset ; excluded: Ventriculomegaly (HP:0002119): onset </td></tr>\n",
       "<tr><td style=\"text-align: left;\">Patient 7 (MALE; P7Y5M)</td><td style=\"text-align: left;\">Glycine encephalopathy 2 (OMIM:620398)</td><td style=\"text-align: left;\">DEL:Total AMT gene deletion: chromosomal_deletion (SO:1000029)</td><td style=\"text-align: left;\">Global developmental delay (HP:0001263): onset ; Seizure (HP:0001250): onset ; EEG with burst suppression (HP:0010851): onset ; Increased CSF glycine concentration (HP:0500230): onset ; Hyperglycinemia (HP:0002154): onset ; Respiratory failure requiring assisted ventilation (HP:0004887): onset ; Microcephaly (HP:0000252): onset ; Hypotonia (HP:0001252): onset ; Micrognathia (HP:0000347): onset ; Hyperreflexia (HP:0001347): onset ; Poor suck (HP:0002033): onset ; Dysplastic corpus callosum (HP:0006989): onset ; Hydrocephalus (HP:0000238): onset ; excluded: Patent foramen ovale (HP:0001655): onset ; excluded: Vomiting (HP:0002013): onset ; excluded: Pyloric stenosis (HP:0002021): onset ; excluded: Cerebral hypomyelination (HP:0006808): onset ; excluded: Ventriculomegaly (HP:0002119): onset </td></tr>\n",
       "</table>"
      ],
      "text/plain": [
       "<IPython.core.display.HTML object>"
      ]
     },
     "metadata": {},
     "output_type": "display_data"
    }
   ],
   "source": [
    "table = IndividualTable(cvalidator.get_error_free_individual_list())\n",
    "display(HTML(table.to_html()))"
   ]
  },
  {
   "cell_type": "code",
   "execution_count": 16,
   "metadata": {},
   "outputs": [
    {
     "name": "stdout",
     "output_type": "stream",
     "text": [
      "[pyphetools] Ingested 5 GA4GH phenopackets.\n",
      "[INFO] Extracted 5 from 5 phenopackets with OMIM:620398\n",
      "\n",
      "\tGlycine encephalopathy 2 (OMIM:620398): n=5\n",
      "We found a total of 21 unique HPO terms\n",
      "Extracted disease: Glycine encephalopathy 2 (OMIM:620398)\n",
      "Wrote HPOA disease file to OMIM-620398.tab\n"
     ]
    }
   ],
   "source": [
    "pmid = \"PMID:8005589\"\n",
    "df = timporter.create_hpoa_from_phenopackets(pmid=pmid, mode_of_inheritance=Moi.AR, target=\"OMIM:620398\")"
   ]
  }
 ],
 "metadata": {
  "kernelspec": {
   "display_name": "ps24venv",
   "language": "python",
   "name": "python3"
  },
  "language_info": {
   "codemirror_mode": {
    "name": "ipython",
    "version": 3
   },
   "file_extension": ".py",
   "mimetype": "text/x-python",
   "name": "python",
   "nbconvert_exporter": "python",
   "pygments_lexer": "ipython3",
   "version": "3.12.8"
  }
 },
 "nbformat": 4,
 "nbformat_minor": 2
}
