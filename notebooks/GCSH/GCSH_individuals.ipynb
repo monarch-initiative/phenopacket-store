{
 "cells": [
  {
   "cell_type": "markdown",
   "id": "58326fa0-4e4d-478f-8138-0a7588ea7102",
   "metadata": {},
   "source": [
    "# GCSH individuals"
   ]
  },
  {
   "cell_type": "code",
   "execution_count": 1,
   "id": "377817b9-df3a-4b0a-a37c-953c0c814912",
   "metadata": {},
   "outputs": [
    {
     "name": "stdout",
     "output_type": "stream",
     "text": [
      "Using pyphetools version 0.9.54\n"
     ]
    }
   ],
   "source": [
    "import pandas as pd\n",
    "from IPython.display import display, HTML\n",
    "pd.set_option('display.max_colwidth', None) # show entire column contents, important!\n",
    "from collections import defaultdict\n",
    "from pyphetools.creation import *\n",
    "from pyphetools.visualization import *\n",
    "from pyphetools.validation import *\n",
    "import pyphetools\n",
    "print(f\"Using pyphetools version {pyphetools.__version__}\")"
   ]
  },
  {
   "cell_type": "code",
   "execution_count": 2,
   "id": "52f2d06c-39fd-4ec9-a87e-e5f20b046230",
   "metadata": {},
   "outputs": [
    {
     "name": "stdout",
     "output_type": "stream",
     "text": [
      "HPO version 2024-02-27\n"
     ]
    }
   ],
   "source": [
    "parser = HpoParser(hpo_json_file=\"../hp.json\")\n",
    "hpo_cr = parser.get_hpo_concept_recognizer()\n",
    "hpo_version = parser.get_version()\n",
    "hpo_ontology = parser.get_ontology()\n",
    "created_by=\"ORCID:0000-0002-0736-9199\"\n",
    "print(f\"HPO version {hpo_version}\")"
   ]
  },
  {
   "cell_type": "code",
   "execution_count": 3,
   "id": "b90c365f-bb25-4c76-906a-bcbf4a220606",
   "metadata": {},
   "outputs": [
    {
     "data": {
      "text/html": [
       "<div>\n",
       "<style scoped>\n",
       "    .dataframe tbody tr th:only-of-type {\n",
       "        vertical-align: middle;\n",
       "    }\n",
       "\n",
       "    .dataframe tbody tr th {\n",
       "        vertical-align: top;\n",
       "    }\n",
       "\n",
       "    .dataframe thead th {\n",
       "        text-align: right;\n",
       "    }\n",
       "</style>\n",
       "<table border=\"1\" class=\"dataframe\">\n",
       "  <thead>\n",
       "    <tr style=\"text-align: right;\">\n",
       "      <th></th>\n",
       "      <th>PMID</th>\n",
       "      <th>title</th>\n",
       "      <th>individual_id</th>\n",
       "      <th>comment</th>\n",
       "      <th>disease_id</th>\n",
       "      <th>disease_label</th>\n",
       "      <th>transcript</th>\n",
       "      <th>allele_1</th>\n",
       "      <th>allele_2</th>\n",
       "      <th>variant.comment</th>\n",
       "      <th>...</th>\n",
       "      <th>Increased CSF glycine concentration</th>\n",
       "      <th>Hyperglycinemia</th>\n",
       "      <th>Elevated brain lactate level by MRS</th>\n",
       "      <th>Elevated brain glycine level by MRS</th>\n",
       "      <th>Hypotonia</th>\n",
       "      <th>Seizure</th>\n",
       "      <th>Hypernatremia</th>\n",
       "      <th>Metabolic acidosis</th>\n",
       "      <th>Global developmental delay</th>\n",
       "      <th>Miscellaneous</th>\n",
       "    </tr>\n",
       "  </thead>\n",
       "  <tbody>\n",
       "    <tr>\n",
       "      <th>0</th>\n",
       "      <td>str</td>\n",
       "      <td>str</td>\n",
       "      <td>str</td>\n",
       "      <td>optional str</td>\n",
       "      <td>str</td>\n",
       "      <td>str</td>\n",
       "      <td>str</td>\n",
       "      <td>str</td>\n",
       "      <td>str</td>\n",
       "      <td>optional str</td>\n",
       "      <td>...</td>\n",
       "      <td>HP:0500230</td>\n",
       "      <td>HP:0002154</td>\n",
       "      <td>HP:0012707</td>\n",
       "      <td>HP:0034893</td>\n",
       "      <td>HP:0001252</td>\n",
       "      <td>HP:0001250</td>\n",
       "      <td>HP:0003228</td>\n",
       "      <td>HP:0001942</td>\n",
       "      <td>HP:0001263</td>\n",
       "      <td>Miscellaneous</td>\n",
       "    </tr>\n",
       "    <tr>\n",
       "      <th>1</th>\n",
       "      <td>PMID: 33890291</td>\n",
       "      <td>Biallelic start loss variant, c.1A &gt; G in GCSH is associated with variant nonketotic hyperglycinemia</td>\n",
       "      <td>Proband 1</td>\n",
       "      <td>NaN</td>\n",
       "      <td>OMIM:620423</td>\n",
       "      <td>Multiple mitochondrial dysfunctions syndrome 7</td>\n",
       "      <td>NM_004483.5</td>\n",
       "      <td>c.1A&gt;G</td>\n",
       "      <td>c.1A&gt;G</td>\n",
       "      <td>NaN</td>\n",
       "      <td>...</td>\n",
       "      <td>P3Y</td>\n",
       "      <td>P3Y</td>\n",
       "      <td>P3Y</td>\n",
       "      <td>P3Y</td>\n",
       "      <td>excluded</td>\n",
       "      <td>observed</td>\n",
       "      <td>excluded</td>\n",
       "      <td>excluded</td>\n",
       "      <td>observed</td>\n",
       "      <td>Dolichocephaly;Anteverted nares;Open mouth;Gingival overgrowth;Hypertonia;Hyperreflexia;Ankle clonus</td>\n",
       "    </tr>\n",
       "  </tbody>\n",
       "</table>\n",
       "<p>2 rows × 28 columns</p>\n",
       "</div>"
      ],
      "text/plain": [
       "             PMID  \\\n",
       "0             str   \n",
       "1  PMID: 33890291   \n",
       "\n",
       "                                                                                                  title  \\\n",
       "0                                                                                                   str   \n",
       "1  Biallelic start loss variant, c.1A > G in GCSH is associated with variant nonketotic hyperglycinemia   \n",
       "\n",
       "  individual_id       comment   disease_id  \\\n",
       "0           str  optional str          str   \n",
       "1     Proband 1           NaN  OMIM:620423   \n",
       "\n",
       "                                    disease_label   transcript allele_1  \\\n",
       "0                                             str          str      str   \n",
       "1  Multiple mitochondrial dysfunctions syndrome 7  NM_004483.5   c.1A>G   \n",
       "\n",
       "  allele_2 variant.comment  ... Increased CSF glycine concentration  \\\n",
       "0      str    optional str  ...                          HP:0500230   \n",
       "1   c.1A>G             NaN  ...                                 P3Y   \n",
       "\n",
       "  Hyperglycinemia Elevated brain lactate level by MRS  \\\n",
       "0      HP:0002154                          HP:0012707   \n",
       "1             P3Y                                 P3Y   \n",
       "\n",
       "  Elevated brain glycine level by MRS   Hypotonia     Seizure Hypernatremia  \\\n",
       "0                          HP:0034893  HP:0001252  HP:0001250    HP:0003228   \n",
       "1                                 P3Y    excluded    observed      excluded   \n",
       "\n",
       "  Metabolic acidosis Global developmental delay  \\\n",
       "0         HP:0001942                 HP:0001263   \n",
       "1           excluded                   observed   \n",
       "\n",
       "                                                                                          Miscellaneous  \n",
       "0                                                                                         Miscellaneous  \n",
       "1  Dolichocephaly;Anteverted nares;Open mouth;Gingival overgrowth;Hypertonia;Hyperreflexia;Ankle clonus  \n",
       "\n",
       "[2 rows x 28 columns]"
      ]
     },
     "execution_count": 3,
     "metadata": {},
     "output_type": "execute_result"
    }
   ],
   "source": [
    "df = pd.read_excel(\"input/GCSH_individuals.xlsx\")\n",
    "df.head(2)"
   ]
  },
  {
   "cell_type": "code",
   "execution_count": 4,
   "id": "0250f713-1001-4726-bfe0-5b7812f0e4f7",
   "metadata": {},
   "outputs": [
    {
     "name": "stdout",
     "output_type": "stream",
     "text": [
      "Created encoders for 28 fields\n"
     ]
    }
   ],
   "source": [
    "encoder = CaseTemplateEncoder(df=df, hpo_cr=hpo_cr, created_by=created_by)\n",
    "individuals = encoder.get_individuals()"
   ]
  },
  {
   "cell_type": "code",
   "execution_count": 5,
   "id": "ad8d2171-6dd6-44a0-a30d-7eb807136682",
   "metadata": {},
   "outputs": [],
   "source": [
    "GCSH_transcript = \"NM_004483.5\"\n",
    "vmanager = VariantManager(df=df,\n",
    "                          individual_column_name=\"individual_id\",\n",
    "                          gene_symbol=\"GCSH\",\n",
    "                          transcript=GCSH_transcript,\n",
    "                          allele_1_column_name=\"allele_1\",\n",
    "                          allele_2_column_name=\"allele_2\")"
   ]
  },
  {
   "cell_type": "code",
   "execution_count": 6,
   "id": "81bc8a9f-9d41-469e-b371-f7705aab16c1",
   "metadata": {},
   "outputs": [
    {
     "data": {
      "text/html": [
       "<div>\n",
       "<style scoped>\n",
       "    .dataframe tbody tr th:only-of-type {\n",
       "        vertical-align: middle;\n",
       "    }\n",
       "\n",
       "    .dataframe tbody tr th {\n",
       "        vertical-align: top;\n",
       "    }\n",
       "\n",
       "    .dataframe thead th {\n",
       "        text-align: right;\n",
       "    }\n",
       "</style>\n",
       "<table border=\"1\" class=\"dataframe\">\n",
       "  <thead>\n",
       "    <tr style=\"text-align: right;\">\n",
       "      <th></th>\n",
       "      <th>status</th>\n",
       "      <th>count</th>\n",
       "      <th>alleles</th>\n",
       "    </tr>\n",
       "  </thead>\n",
       "  <tbody>\n",
       "    <tr>\n",
       "      <th>0</th>\n",
       "      <td>mapped</td>\n",
       "      <td>6</td>\n",
       "      <td>c.1A&gt;G, c.226C&gt;T, c.170A&gt;G, c.442A&gt;C, c.344C&gt;T, c.293-2_293-1insT</td>\n",
       "    </tr>\n",
       "    <tr>\n",
       "      <th>1</th>\n",
       "      <td>unmapped</td>\n",
       "      <td>0</td>\n",
       "      <td></td>\n",
       "    </tr>\n",
       "  </tbody>\n",
       "</table>\n",
       "</div>"
      ],
      "text/plain": [
       "     status  count  \\\n",
       "0    mapped      6   \n",
       "1  unmapped      0   \n",
       "\n",
       "                                                             alleles  \n",
       "0  c.1A>G, c.226C>T, c.170A>G, c.442A>C, c.344C>T, c.293-2_293-1insT  \n",
       "1                                                                     "
      ]
     },
     "execution_count": 6,
     "metadata": {},
     "output_type": "execute_result"
    }
   ],
   "source": [
    "vmanager.to_summary()"
   ]
  },
  {
   "cell_type": "code",
   "execution_count": 7,
   "id": "de198b67-2cd5-4835-ad68-144a69031dab",
   "metadata": {},
   "outputs": [],
   "source": [
    "vmanager.add_variants_to_individuals(individuals)"
   ]
  },
  {
   "cell_type": "code",
   "execution_count": 8,
   "id": "ff2a1001-87e3-4c24-8a93-58c0dc414078",
   "metadata": {},
   "outputs": [
    {
     "data": {
      "text/html": [
       "<h2>Cohort validation</h2>\n",
       "<p>Errors found with 1 of 3 phenopackets.</p>\n",
       "<table style=\"border: 2px solid black; align: \"left\">\n",
       "<caption>Error counts</caption>\n",
       "<tr><th style=\"text-align: left;font-weight: bold;\">Level</th><th style=\"text-align: left;font-weight: bold;\">Error category</th><th style=\"text-align: left;font-weight: bold;\">Count</th></tr>\n",
       "<tr><td style=\"text-align: left;\">WARNING</td><td style=\"text-align: left;\">REDUNDANT</td><td style=\"text-align: left;\">2</td></tr>\n",
       "</table>\n",
       "<p>A total of 2 issues were fixed and no individual was removed from the cohort.</p>"
      ],
      "text/plain": [
       "<IPython.core.display.HTML object>"
      ]
     },
     "metadata": {},
     "output_type": "display_data"
    }
   ],
   "source": [
    "cvalidator = CohortValidator(cohort=individuals, ontology=hpo_ontology, min_hpo=1, allelic_requirement=AllelicRequirement.BI_ALLELIC)\n",
    "qc = QcVisualizer(cohort_validator=cvalidator)\n",
    "display(HTML(qc.to_summary_html()))\n"
   ]
  },
  {
   "cell_type": "code",
   "execution_count": 9,
   "id": "e1fa81c4-7340-4746-b15d-ebed9ce696e2",
   "metadata": {},
   "outputs": [
    {
     "data": {
      "text/html": [
       "<table style=\"border: 2px solid black; align: \"left\">\n",
       "<caption>3 phenopackets - PMID: 33890291 (n=3)</caption>\n",
       "<tr><th style=\"text-align: left;font-weight: bold;\">Individual</th><th style=\"text-align: left;font-weight: bold;\">Disease</th><th style=\"text-align: left;font-weight: bold;\">Genotype</th><th style=\"text-align: left;font-weight: bold;\">Phenotypic features</th></tr>\n",
       "<tr><td style=\"text-align: left;\">Proband 1 (MALE; P3Y)</td><td style=\"text-align: left;\">Multiple mitochondrial dysfunctions syndrome 7 (OMIM:620423)</td><td style=\"text-align: left;\">NM_004483.5:c.1A>G (homozygous)</td><td style=\"text-align: left;\"><b>P1M</b>: Lethargy (HP:0001254); Feeding difficulties (HP:0011968); Myoclonic seizure (HP:0032794)<br/><b>P3Y</b>: Secondary microcephaly (HP:0005484); Increased CSF glycine concentration (HP:0500230); Hyperglycinemia (HP:0002154); Elevated brain lactate level by MRS (HP:0012707); Elevated brain glycine level by MRS (HP:0034893)<br/>Global developmental delay (HP:0001263); Dolichocephaly (HP:0000268); Anteverted nares (HP:0000463); Open mouth (HP:0000194); Gingival overgrowth (HP:0000212); Hypertonia (HP:0001276); Ankle clonus (HP:0011448); excluded: Hypotonia (HP:0001252); excluded: Hypernatremia (HP:0003228); excluded: Metabolic acidosis (HP:0001942)</td></tr>\n",
       "<tr><td style=\"text-align: left;\">Proband 2 (FEMALE; P1Y1M)</td><td style=\"text-align: left;\">Multiple mitochondrial dysfunctions syndrome 7 (OMIM:620423)</td><td style=\"text-align: left;\">NM_004483.5:c.1A>G (homozygous)</td><td style=\"text-align: left;\"><b>P2D</b>: Lethargy (HP:0001254); Feeding difficulties (HP:0011968); Hypotonia (HP:0001252); Seizure (HP:0001250)<br/><b>P3M</b>: Elevated brain lactate level by MRS (HP:0012707); Elevated brain glycine level by MRS (HP:0034893)<br/>Hypernatremia (HP:0003228); Metabolic acidosis (HP:0001942); Global developmental delay (HP:0001263)</td></tr>\n",
       "<tr><td style=\"text-align: left;\">Proband 3 (FEMALE; P6D)</td><td style=\"text-align: left;\">Multiple mitochondrial dysfunctions syndrome 7 (OMIM:620423)</td><td style=\"text-align: left;\">NM_004483.5:c.1A>G (homozygous)</td><td style=\"text-align: left;\"><b>P3D</b>: Lethargy (HP:0001254)<br/>Poor suck (HP:0002033); Partial atrioventricular canal defect (HP:0011577)</td></tr>\n",
       "</table>"
      ],
      "text/plain": [
       "<IPython.core.display.HTML object>"
      ]
     },
     "metadata": {},
     "output_type": "display_data"
    }
   ],
   "source": [
    "individuals = cvalidator.get_error_free_individual_list()\n",
    "table = IndividualTable(individuals)\n",
    "display(HTML(table.to_html()))"
   ]
  },
  {
   "cell_type": "code",
   "execution_count": 10,
   "id": "e06fa42c-a098-4eab-a1e3-11940ff589bb",
   "metadata": {},
   "outputs": [
    {
     "name": "stdout",
     "output_type": "stream",
     "text": [
      "We output 3 GA4GH phenopackets to the directory phenopackets\n"
     ]
    }
   ],
   "source": [
    "encoder.output_individuals_as_phenopackets(individual_list=individuals)"
   ]
  },
  {
   "cell_type": "code",
   "execution_count": null,
   "id": "ba58da56-6755-4723-b3a5-6d322c0b6d72",
   "metadata": {},
   "outputs": [],
   "source": []
  }
 ],
 "metadata": {
  "kernelspec": {
   "display_name": "Python 3 (ipykernel)",
   "language": "python",
   "name": "python3"
  },
  "language_info": {
   "codemirror_mode": {
    "name": "ipython",
    "version": 3
   },
   "file_extension": ".py",
   "mimetype": "text/x-python",
   "name": "python",
   "nbconvert_exporter": "python",
   "pygments_lexer": "ipython3",
   "version": "3.8.10"
  }
 },
 "nbformat": 4,
 "nbformat_minor": 5
}
