{
 "cells": [
  {
   "cell_type": "markdown",
   "id": "58326fa0-4e4d-478f-8138-0a7588ea7102",
   "metadata": {},
   "source": [
    "# GCSH individuals"
   ]
  },
  {
   "cell_type": "code",
   "execution_count": 10,
   "id": "08349ebd-7b46-4112-9cde-c355047e21aa",
   "metadata": {},
   "outputs": [
    {
     "name": "stdout",
     "output_type": "stream",
     "text": [
      "pyphetools version 0.9.63\n"
     ]
    }
   ],
   "source": [
    "import pyphetools\n",
    "from pyphetools.visualization import IndividualTable, QcVisualizer\n",
    "from IPython.display import display, HTML\n",
    "from pyphetools.creation import TemplateImporter\n",
    "template = \"input/GCSH_individuals.xlsx\"\n",
    "hp_json = \"../hp.json\"\n",
    "created_by = \"0000-0002-0736-9199\"\n",
    "print(f\"pyphetools version {pyphetools.__version__}\")"
   ]
  },
  {
   "cell_type": "code",
   "execution_count": 8,
   "id": "bea9297b-017c-4050-8a43-be682c0d88fe",
   "metadata": {},
   "outputs": [],
   "source": [
    "timporter = TemplateImporter(template=template, hp_json=hp_json, created_by=created_by)"
   ]
  },
  {
   "cell_type": "code",
   "execution_count": 9,
   "id": "69bd071d-3ac4-4fd1-8d84-65ed0151e1e7",
   "metadata": {},
   "outputs": [
    {
     "name": "stdout",
     "output_type": "stream",
     "text": [
      "HPO version 2024-02-27\n",
      "Created encoders for 30 fields\n",
      " we got OMIM:620423  NM_004483.5\n",
      "We output 3 GA4GH phenopackets to the directory phenopackets\n"
     ]
    }
   ],
   "source": [
    "individuals, cvalidator = timporter.import_phenopackets_from_template()"
   ]
  },
  {
   "cell_type": "code",
   "execution_count": 11,
   "id": "377817b9-df3a-4b0a-a37c-953c0c814912",
   "metadata": {},
   "outputs": [
    {
     "data": {
      "text/html": [
       "<h2>Cohort validation</h2>\n",
       "<p>Errors found with 1 of 3 phenopackets.</p>\n",
       "<table style=\"border: 2px solid black; align: \"left\">\n",
       "<caption>Error counts</caption>\n",
       "<tr><th style=\"text-align: left;font-weight: bold;\">Level</th><th style=\"text-align: left;font-weight: bold;\">Error category</th><th style=\"text-align: left;font-weight: bold;\">Count</th></tr>\n",
       "<tr><td style=\"text-align: left;\">WARNING</td><td style=\"text-align: left;\">REDUNDANT</td><td style=\"text-align: left;\">2</td></tr>\n",
       "</table>\n",
       "<p>A total of 2 issues were fixed and no individual was removed from the cohort.</p>"
      ],
      "text/plain": [
       "<IPython.core.display.HTML object>"
      ]
     },
     "metadata": {},
     "output_type": "display_data"
    }
   ],
   "source": [
    "qc = QcVisualizer(cohort_validator=cvalidator)\n",
    "display(HTML(qc.to_summary_html()))"
   ]
  },
  {
   "cell_type": "code",
   "execution_count": 12,
   "id": "e799a7e8-9019-4676-9f6e-fd22d63dab07",
   "metadata": {},
   "outputs": [
    {
     "data": {
      "text/html": [
       "<table style=\"border: 2px solid black; align: \"left\">\n",
       "<caption>3 phenopackets - PMID: 33890291 (n=3)</caption>\n",
       "<tr><th style=\"text-align: left;font-weight: bold;\">Individual</th><th style=\"text-align: left;font-weight: bold;\">Disease</th><th style=\"text-align: left;font-weight: bold;\">Genotype</th><th style=\"text-align: left;font-weight: bold;\">Phenotypic features</th></tr>\n",
       "<tr><td style=\"text-align: left;\">Proband 1 (MALE; P3Y)</td><td style=\"text-align: left;\">Multiple mitochondrial dysfunctions syndrome 7 (OMIM:620423)</td><td style=\"text-align: left;\">NM_004483.5:c.1A>G (homozygous)</td><td style=\"text-align: left;\"><b>P1M</b>: Lethargy (HP:0001254); Feeding difficulties (HP:0011968); Myoclonic seizure (HP:0032794)<br/><b>P3Y</b>: Secondary microcephaly (HP:0005484); Increased CSF glycine concentration (HP:0500230); Hyperglycinemia (HP:0002154); Elevated brain lactate level by MRS (HP:0012707); Elevated brain glycine level by MRS (HP:0034893)<br/>Global developmental delay (HP:0001263); Dolichocephaly (HP:0000268); Anteverted nares (HP:0000463); Open mouth (HP:0000194); Gingival overgrowth (HP:0000212); Hypertonia (HP:0001276); Ankle clonus (HP:0011448); excluded: Hypotonia (HP:0001252); excluded: Hypernatremia (HP:0003228); excluded: Metabolic acidosis (HP:0001942)</td></tr>\n",
       "<tr><td style=\"text-align: left;\">Proband 2 (FEMALE; P1Y1M)</td><td style=\"text-align: left;\">Multiple mitochondrial dysfunctions syndrome 7 (OMIM:620423)</td><td style=\"text-align: left;\">NM_004483.5:c.1A>G (homozygous)</td><td style=\"text-align: left;\"><b>P2D</b>: Lethargy (HP:0001254); Feeding difficulties (HP:0011968); Hypotonia (HP:0001252); Seizure (HP:0001250)<br/><b>P3M</b>: Elevated brain lactate level by MRS (HP:0012707); Elevated brain glycine level by MRS (HP:0034893)<br/>Hypernatremia (HP:0003228); Metabolic acidosis (HP:0001942); Global developmental delay (HP:0001263)</td></tr>\n",
       "<tr><td style=\"text-align: left;\">Proband 3 (FEMALE; P6D)</td><td style=\"text-align: left;\">Multiple mitochondrial dysfunctions syndrome 7 (OMIM:620423)</td><td style=\"text-align: left;\">NM_004483.5:c.1A>G (homozygous)</td><td style=\"text-align: left;\"><b>P3D</b>: Lethargy (HP:0001254)<br/>Poor suck (HP:0002033); Partial atrioventricular canal defect (HP:0011577)</td></tr>\n",
       "</table>"
      ],
      "text/plain": [
       "<IPython.core.display.HTML object>"
      ]
     },
     "metadata": {},
     "output_type": "display_data"
    }
   ],
   "source": [
    "table = IndividualTable(individuals)\n",
    "display(HTML(table.to_html()))"
   ]
  },
  {
   "cell_type": "code",
   "execution_count": 14,
   "id": "ba58da56-6755-4723-b3a5-6d322c0b6d72",
   "metadata": {},
   "outputs": [],
   "source": [
    "#df = timporter.create_hpoa_from_phenopackets(pmid=\"PMID:33890291\", moi=\"Autosomal recessive\")"
   ]
  },
  {
   "cell_type": "code",
   "execution_count": null,
   "id": "d0011386-5a95-46da-a719-684df5759fcc",
   "metadata": {},
   "outputs": [],
   "source": []
  }
 ],
 "metadata": {
  "kernelspec": {
   "display_name": "Python 3 (ipykernel)",
   "language": "python",
   "name": "python3"
  },
  "language_info": {
   "codemirror_mode": {
    "name": "ipython",
    "version": 3
   },
   "file_extension": ".py",
   "mimetype": "text/x-python",
   "name": "python",
   "nbconvert_exporter": "python",
   "pygments_lexer": "ipython3",
   "version": "3.8.10"
  }
 },
 "nbformat": 4,
 "nbformat_minor": 5
}
