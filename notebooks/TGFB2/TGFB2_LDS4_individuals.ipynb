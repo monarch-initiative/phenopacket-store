{
 "cells": [
  {
   "cell_type": "markdown",
   "id": "f2498f34-291f-4491-8807-e0b499fdc5e7",
   "metadata": {},
   "source": [
    "# TGFB2\n",
    "[Loeys-Dietz syndrome-4 (LDS4)](https://omim.org/entry/614816) is caused by heterozygous mutation in the TGFB2 gene."
   ]
  },
  {
   "cell_type": "code",
   "execution_count": 1,
   "id": "c9debdc6-d21b-40fb-b9ab-b26871e2e8cb",
   "metadata": {},
   "outputs": [
    {
     "name": "stdout",
     "output_type": "stream",
     "text": [
      "Using pyphetools version 0.9.105\n"
     ]
    }
   ],
   "source": [
    "from pyphetools.creation import TemplateImporter\n",
    "from pyphetools.visualization import IndividualTable, QcVisualizer\n",
    "from IPython.display import display, HTML\n",
    "import pyphetools\n",
    "print(f\"Using pyphetools version {pyphetools.__version__}\")"
   ]
  },
  {
   "cell_type": "code",
   "execution_count": 2,
   "id": "4e04e91e-7295-40e1-91cd-2242b0c0caca",
   "metadata": {},
   "outputs": [],
   "source": [
    "template = \"input/TGFB2_LDS4_individuals.xlsx\"\n",
    "hp_json = \"../hp.json\"\n",
    "created_by = \"0000-0002-0736-9199\""
   ]
  },
  {
   "cell_type": "code",
   "execution_count": 3,
   "id": "4ece837a-b03d-47ee-a33f-19bd5acb0d5c",
   "metadata": {},
   "outputs": [
    {
     "name": "stdout",
     "output_type": "stream",
     "text": [
      "HPO version 2024-08-13\n",
      "Created encoders for 85 fields\n",
      "Importing OMIM:614816, Loeys-Dietz syndrome 4, HGNC:11768, TGFB2,  NM_003238.6\n",
      "[INFO] encoding variant \"c.396del\"\n",
      "https://rest.variantvalidator.org/VariantValidator/variantvalidator/hg38/NM_003238.6%3Ac.396del/NM_003238.6?content-type=application%2Fjson\n",
      "We output 36 GA4GH phenopackets to the directory phenopackets\n"
     ]
    }
   ],
   "source": [
    "dels = {\"3.5 Mb deletion (216,672,181–220,202,575 Mb;GRCh37/hg19)\", \"6.5 Mb delection (215,588,712–222,145,072 Mb;GRCh37/hg19)\" }\n",
    "timporter = TemplateImporter(template=template, hp_json=hp_json, created_by=created_by)\n",
    "individual_list, cvalidator = timporter.import_phenopackets_from_template(deletions=dels)"
   ]
  },
  {
   "cell_type": "code",
   "execution_count": 4,
   "id": "43e7d456-ccbd-4165-a607-acfcc49c6caa",
   "metadata": {},
   "outputs": [
    {
     "data": {
      "text/html": [
       "<h2>Cohort validation</h2>\n",
       "<p>No errors found for the cohort with 36 individuals</p>"
      ],
      "text/plain": [
       "<IPython.core.display.HTML object>"
      ]
     },
     "metadata": {},
     "output_type": "display_data"
    }
   ],
   "source": [
    "qc = QcVisualizer(cohort_validator=cvalidator)\n",
    "display(HTML(qc.to_summary_html()))"
   ]
  },
  {
   "cell_type": "code",
   "execution_count": 5,
   "id": "76efed91-9dbc-44e7-be39-7d182623f7e7",
   "metadata": {},
   "outputs": [
    {
     "data": {
      "text/html": [
       "<table style=\"border: 2px solid black; align: \"left\">\n",
       "<caption>36 phenopackets - PMID:22772368 (n=15); PMID:22772371 (n=19); PMID:25163805 (n=1); PMID:31569402 (n=1)</caption>\n",
       "<tr><th style=\"text-align: left;font-weight: bold;\">Individual</th><th style=\"text-align: left;font-weight: bold;\">Disease</th><th style=\"text-align: left;font-weight: bold;\">Genotype</th><th style=\"text-align: left;font-weight: bold;\">Phenotypic features</th></tr>\n",
       "<tr><td style=\"text-align: left;\">1-II:1 (MALE; P46Y)</td><td style=\"text-align: left;\">Loeys-Dietz syndrome 4 (OMIM:614816)</td><td style=\"text-align: left;\">6.5 Mb delection (215,588,712–222,145,072 Mb;GRCh37/hg19): chromosomal_deletion (SO:1000029)</td><td style=\"text-align: left;\">Hypertelorism (HP:0000316): onset ; Retrognathia (HP:0000278): onset ; High palate (HP:0000218): onset ; Scoliosis (HP:0002650): onset ; Abnormal sternum morphology (HP:0000766): onset ; Arachnodactyly (HP:0001166): onset ; Talipes equinovarus (HP:0001762): onset ; Inguinal hernia (HP:0000023): onset ; Mitral valve prolapse (HP:0001634): onset ; Aortic root aneurysm (HP:0002616): onset ; Aortic dissection (HP:0002647): onset ; Tall stature (HP:0000098): onset ; excluded: Downslanted palpebral fissures (HP:0000494): onset ; excluded: Spondylolisthesis (HP:0003302): onset ; excluded: Joint hypermobility (HP:0001382): onset ; excluded: Pes planus (HP:0001763): onset ; excluded: Bruising susceptibility (HP:0000978): onset ; excluded: Striae distensae (HP:0001065): onset ; excluded: Bicuspid aortic valve (HP:0001647): onset ; excluded: Soft skin (HP:0000977): onset ; excluded: Varicose veins (HP:0002619): onset </td></tr>\n",
       "<tr><td style=\"text-align: left;\">2-II:1 (MALE; P9Y)</td><td style=\"text-align: left;\">Loeys-Dietz syndrome 4 (OMIM:614816)</td><td style=\"text-align: left;\">3.5 Mb deletion (216,672,181–220,202,575 Mb;GRCh37/hg19): chromosomal_deletion (SO:1000029)</td><td style=\"text-align: left;\">Retrognathia (HP:0000278): onset ; High palate (HP:0000218): onset ; Downslanted palpebral fissures (HP:0000494): onset ; Abnormal sternum morphology (HP:0000766): onset ; Arachnodactyly (HP:0001166): onset ; Pes planus (HP:0001763): onset ; Talipes equinovarus (HP:0001762): onset ; Aortic root aneurysm (HP:0002616): onset ; excluded: Hypertelorism (HP:0000316): onset ; excluded: Scoliosis (HP:0002650): onset ; excluded: Spondylolisthesis (HP:0003302): onset ; excluded: Joint hypermobility (HP:0001382): onset ; excluded: Bruising susceptibility (HP:0000978): onset ; excluded: Striae distensae (HP:0001065): onset ; excluded: Inguinal hernia (HP:0000023): onset ; excluded: Mitral valve prolapse (HP:0001634): onset ; excluded: Aortic dissection (HP:0002647): onset ; excluded: Bicuspid aortic valve (HP:0001647): onset ; excluded: Tall stature (HP:0000098): onset ; excluded: Soft skin (HP:0000977): onset ; excluded: Varicose veins (HP:0002619): onset </td></tr>\n",
       "<tr><td style=\"text-align: left;\">3-III:1 (FEMALE; P13Y)</td><td style=\"text-align: left;\">Loeys-Dietz syndrome 4 (OMIM:614816)</td><td style=\"text-align: left;\">NM_003238.6:c.904C>T (heterozygous)</td><td style=\"text-align: left;\">Hypertelorism (HP:0000316): onset ; Retrognathia (HP:0000278): onset ; High palate (HP:0000218): onset ; Downslanted palpebral fissures (HP:0000494): onset ; Abnormal sternum morphology (HP:0000766): onset ; Arachnodactyly (HP:0001166): onset ; Joint hypermobility (HP:0001382): onset ; Talipes equinovarus (HP:0001762): onset ; Bruising susceptibility (HP:0000978): onset ; Inguinal hernia (HP:0000023): onset ; Aortic root aneurysm (HP:0002616): onset ; excluded: Scoliosis (HP:0002650): onset ; excluded: Spondylolisthesis (HP:0003302): onset ; excluded: Pes planus (HP:0001763): onset ; excluded: Striae distensae (HP:0001065): onset ; excluded: Mitral valve prolapse (HP:0001634): onset ; excluded: Aortic dissection (HP:0002647): onset ; excluded: Bicuspid aortic valve (HP:0001647): onset ; excluded: Tall stature (HP:0000098): onset ; excluded: Soft skin (HP:0000977): onset ; excluded: Varicose veins (HP:0002619): onset </td></tr>\n",
       "<tr><td style=\"text-align: left;\">4-I:2 (MALE; P61Y)</td><td style=\"text-align: left;\">Loeys-Dietz syndrome 4 (OMIM:614816)</td><td style=\"text-align: left;\">NM_003238.6:c.1013C>A (heterozygous)</td><td style=\"text-align: left;\">Retrognathia (HP:0000278): onset ; High palate (HP:0000218): onset ; Scoliosis (HP:0002650): onset ; Abnormal sternum morphology (HP:0000766): onset ; Arachnodactyly (HP:0001166): onset ; Joint hypermobility (HP:0001382): onset ; Pes planus (HP:0001763): onset ; Tarlov cyst (HP:0025643): onset ; Inguinal hernia (HP:0000023): onset ; Tall stature (HP:0000098): onset ; Varicose veins (HP:0002619): onset ; excluded: Hypertelorism (HP:0000316): onset ; excluded: Downslanted palpebral fissures (HP:0000494): onset ; excluded: Spondylolisthesis (HP:0003302): onset ; excluded: Talipes equinovarus (HP:0001762): onset ; excluded: Bruising susceptibility (HP:0000978): onset ; excluded: Striae distensae (HP:0001065): onset ; excluded: Dural ectasia (HP:0100775): onset ; excluded: Aortic root aneurysm (HP:0002616): onset ; excluded: Aortic dissection (HP:0002647): onset ; excluded: Bicuspid aortic valve (HP:0001647): onset ; excluded: Soft skin (HP:0000977): onset </td></tr>\n",
       "<tr><td style=\"text-align: left;\">4-II:1 (MALE; P32Y)</td><td style=\"text-align: left;\">Loeys-Dietz syndrome 4 (OMIM:614816)</td><td style=\"text-align: left;\">NM_003238.6:c.1013C>A (heterozygous)</td><td style=\"text-align: left;\">Retrognathia (HP:0000278): onset ; High palate (HP:0000218): onset ; Downslanted palpebral fissures (HP:0000494): onset ; Scoliosis (HP:0002650): onset ; Abnormal sternum morphology (HP:0000766): onset ; Arachnodactyly (HP:0001166): onset ; Joint hypermobility (HP:0001382): onset ; Pes planus (HP:0001763): onset ; Striae distensae (HP:0001065): onset ; Tarlov cyst (HP:0025643): onset ; Inguinal hernia (HP:0000023): onset ; Mitral valve prolapse (HP:0001634): onset ; Aortic root aneurysm (HP:0002616): onset ; Tall stature (HP:0000098): onset ; excluded: Hypertelorism (HP:0000316): onset ; excluded: Spondylolisthesis (HP:0003302): onset ; excluded: Talipes equinovarus (HP:0001762): onset ; excluded: Dural ectasia (HP:0100775): onset ; excluded: Aortic dissection (HP:0002647): onset ; excluded: Bicuspid aortic valve (HP:0001647): onset ; excluded: Soft skin (HP:0000977): onset ; excluded: Varicose veins (HP:0002619): onset </td></tr>\n",
       "<tr><td style=\"text-align: left;\">4-II:3 (MALE; P32Y)</td><td style=\"text-align: left;\">Loeys-Dietz syndrome 4 (OMIM:614816)</td><td style=\"text-align: left;\">NM_003238.6:c.1013C>A (heterozygous)</td><td style=\"text-align: left;\">Retrognathia (HP:0000278): onset ; High palate (HP:0000218): onset ; Downslanted palpebral fissures (HP:0000494): onset ; Scoliosis (HP:0002650): onset ; Abnormal sternum morphology (HP:0000766): onset ; Arachnodactyly (HP:0001166): onset ; Joint hypermobility (HP:0001382): onset ; Pes planus (HP:0001763): onset ; Striae distensae (HP:0001065): onset ; Inguinal hernia (HP:0000023): onset ; Mitral valve prolapse (HP:0001634): onset ; Aortic root aneurysm (HP:0002616): onset ; Tall stature (HP:0000098): onset ; excluded: Hypertelorism (HP:0000316): onset ; excluded: Spondylolisthesis (HP:0003302): onset ; excluded: Talipes equinovarus (HP:0001762): onset ; excluded: Dural ectasia (HP:0100775): onset ; excluded: Tarlov cyst (HP:0025643): onset ; excluded: Aortic dissection (HP:0002647): onset ; excluded: Bicuspid aortic valve (HP:0001647): onset ; excluded: Soft skin (HP:0000977): onset ; excluded: Varicose veins (HP:0002619): onset </td></tr>\n",
       "<tr><td style=\"text-align: left;\">4-III:1 (MALE; P3Y)</td><td style=\"text-align: left;\">Loeys-Dietz syndrome 4 (OMIM:614816)</td><td style=\"text-align: left;\">NM_003238.6:c.1013C>A (heterozygous)</td><td style=\"text-align: left;\">Retrognathia (HP:0000278): onset ; High palate (HP:0000218): onset ; Abnormal sternum morphology (HP:0000766): onset ; Joint hypermobility (HP:0001382): onset ; Pes planus (HP:0001763): onset ; Aortic root aneurysm (HP:0002616): onset ; excluded: Hypertelorism (HP:0000316): onset ; excluded: Downslanted palpebral fissures (HP:0000494): onset ; excluded: Scoliosis (HP:0002650): onset ; excluded: Spondylolisthesis (HP:0003302): onset ; excluded: Arachnodactyly (HP:0001166): onset ; excluded: Talipes equinovarus (HP:0001762): onset ; excluded: Bruising susceptibility (HP:0000978): onset ; excluded: Striae distensae (HP:0001065): onset ; excluded: Inguinal hernia (HP:0000023): onset ; excluded: Aortic dissection (HP:0002647): onset ; excluded: Bicuspid aortic valve (HP:0001647): onset ; excluded: Tall stature (HP:0000098): onset ; excluded: Soft skin (HP:0000977): onset ; excluded: Varicose veins (HP:0002619): onset </td></tr>\n",
       "<tr><td style=\"text-align: left;\">5-II:2 (MALE; P44Y)</td><td style=\"text-align: left;\">Loeys-Dietz syndrome 4 (OMIM:614816)</td><td style=\"text-align: left;\">NM_003238.6:c.895C>T (heterozygous)</td><td style=\"text-align: left;\">Retrognathia (HP:0000278): onset ; High palate (HP:0000218): onset ; Bifid uvula (HP:0000193): onset ; Downslanted palpebral fissures (HP:0000494): onset ; Arachnodactyly (HP:0001166): onset ; Pes planus (HP:0001763): onset ; Talipes equinovarus (HP:0001762): onset ; Bruising susceptibility (HP:0000978): onset ; Inguinal hernia (HP:0000023): onset ; Aortic root aneurysm (HP:0002616): onset ; Aortic dissection (HP:0002647): onset ; excluded: Hypertelorism (HP:0000316): onset ; excluded: Scoliosis (HP:0002650): onset ; excluded: Abnormal sternum morphology (HP:0000766): onset ; excluded: Spondylolisthesis (HP:0003302): onset ; excluded: Joint hypermobility (HP:0001382): onset ; excluded: Striae distensae (HP:0001065): onset ; excluded: Bicuspid aortic valve (HP:0001647): onset ; excluded: Tall stature (HP:0000098): onset ; excluded: Soft skin (HP:0000977): onset ; excluded: Varicose veins (HP:0002619): onset </td></tr>\n",
       "<tr><td style=\"text-align: left;\">5-III:1 (FEMALE; P21Y)</td><td style=\"text-align: left;\">Loeys-Dietz syndrome 4 (OMIM:614816)</td><td style=\"text-align: left;\">NM_003238.6:c.895C>T (heterozygous)</td><td style=\"text-align: left;\">High palate (HP:0000218): onset ; Downslanted palpebral fissures (HP:0000494): onset ; Pes planus (HP:0001763): onset ; Bruising susceptibility (HP:0000978): onset ; Inguinal hernia (HP:0000023): onset ; Mitral valve prolapse (HP:0001634): onset ; Aortic root aneurysm (HP:0002616): onset ; Soft skin (HP:0000977): onset ; excluded: Hypertelorism (HP:0000316): onset ; excluded: Retrognathia (HP:0000278): onset ; excluded: Scoliosis (HP:0002650): onset ; excluded: Abnormal sternum morphology (HP:0000766): onset ; excluded: Spondylolisthesis (HP:0003302): onset ; excluded: Arachnodactyly (HP:0001166): onset ; excluded: Joint hypermobility (HP:0001382): onset ; excluded: Talipes equinovarus (HP:0001762): onset ; excluded: Striae distensae (HP:0001065): onset ; excluded: Aortic dissection (HP:0002647): onset ; excluded: Bicuspid aortic valve (HP:0001647): onset ; excluded: Tall stature (HP:0000098): onset ; excluded: Varicose veins (HP:0002619): onset </td></tr>\n",
       "<tr><td style=\"text-align: left;\">5-III:2 (MALE; P7Y)</td><td style=\"text-align: left;\">Loeys-Dietz syndrome 4 (OMIM:614816)</td><td style=\"text-align: left;\">NM_003238.6:c.895C>T (heterozygous)</td><td style=\"text-align: left;\">Retrognathia (HP:0000278): onset ; Bruising susceptibility (HP:0000978): onset ; Inguinal hernia (HP:0000023): onset ; Aortic root aneurysm (HP:0002616): onset ; Tall stature (HP:0000098): onset ; Soft skin (HP:0000977): onset ; excluded: Hypertelorism (HP:0000316): onset ; excluded: High palate (HP:0000218): onset ; excluded: Downslanted palpebral fissures (HP:0000494): onset ; excluded: Scoliosis (HP:0002650): onset ; excluded: Abnormal sternum morphology (HP:0000766): onset ; excluded: Spondylolisthesis (HP:0003302): onset ; excluded: Arachnodactyly (HP:0001166): onset ; excluded: Joint hypermobility (HP:0001382): onset ; excluded: Pes planus (HP:0001763): onset ; excluded: Talipes equinovarus (HP:0001762): onset ; excluded: Striae distensae (HP:0001065): onset ; excluded: Aortic dissection (HP:0002647): onset ; excluded: Bicuspid aortic valve (HP:0001647): onset ; excluded: Varicose veins (HP:0002619): onset </td></tr>\n",
       "<tr><td style=\"text-align: left;\">6-II:6 (MALE; P43Y)</td><td style=\"text-align: left;\">Loeys-Dietz syndrome 4 (OMIM:614816)</td><td style=\"text-align: left;\">NM_003238.6:c.1022_1026del (heterozygous)</td><td style=\"text-align: left;\">Hypertelorism (HP:0000316): onset ; Retrognathia (HP:0000278): onset ; Downslanted palpebral fissures (HP:0000494): onset ; Bruising susceptibility (HP:0000978): onset ; Striae distensae (HP:0001065): onset ; Tarlov cyst (HP:0025643): onset ; Inguinal hernia (HP:0000023): onset ; Aortic root aneurysm (HP:0002616): onset ; Soft skin (HP:0000977): onset ; excluded: High palate (HP:0000218): onset ; excluded: Scoliosis (HP:0002650): onset ; excluded: Abnormal sternum morphology (HP:0000766): onset ; excluded: Spondylolisthesis (HP:0003302): onset ; excluded: Arachnodactyly (HP:0001166): onset ; excluded: Joint hypermobility (HP:0001382): onset ; excluded: Pes planus (HP:0001763): onset ; excluded: Talipes equinovarus (HP:0001762): onset ; excluded: Dural ectasia (HP:0100775): onset ; excluded: Aortic dissection (HP:0002647): onset ; excluded: Bicuspid aortic valve (HP:0001647): onset ; excluded: Tall stature (HP:0000098): onset ; excluded: Varicose veins (HP:0002619): onset </td></tr>\n",
       "<tr><td style=\"text-align: left;\">6-III:5 (MALE; P10Y)</td><td style=\"text-align: left;\">Loeys-Dietz syndrome 4 (OMIM:614816)</td><td style=\"text-align: left;\">NM_003238.6:c.1022_1026del (heterozygous)</td><td style=\"text-align: left;\">Hypertelorism (HP:0000316): onset ; High palate (HP:0000218): onset ; Downslanted palpebral fissures (HP:0000494): onset ; Aortic root aneurysm (HP:0002616): onset ; Bicuspid aortic valve (HP:0001647): onset ; excluded: Retrognathia (HP:0000278): onset ; excluded: Scoliosis (HP:0002650): onset ; excluded: Abnormal sternum morphology (HP:0000766): onset ; excluded: Spondylolisthesis (HP:0003302): onset ; excluded: Arachnodactyly (HP:0001166): onset ; excluded: Joint hypermobility (HP:0001382): onset ; excluded: Pes planus (HP:0001763): onset ; excluded: Talipes equinovarus (HP:0001762): onset ; excluded: Striae distensae (HP:0001065): onset ; excluded: Inguinal hernia (HP:0000023): onset ; excluded: Aortic dissection (HP:0002647): onset ; excluded: Tall stature (HP:0000098): onset ; excluded: Soft skin (HP:0000977): onset ; excluded: Varicose veins (HP:0002619): onset </td></tr>\n",
       "<tr><td style=\"text-align: left;\">6-III:6 (MALE; P7Y)</td><td style=\"text-align: left;\">Loeys-Dietz syndrome 4 (OMIM:614816)</td><td style=\"text-align: left;\">NM_003238.6:c.1022_1026del (heterozygous)</td><td style=\"text-align: left;\">Downslanted palpebral fissures (HP:0000494): onset ; Abnormal sternum morphology (HP:0000766): onset ; Aortic root aneurysm (HP:0002616): onset ; Bicuspid aortic valve (HP:0001647): onset ; excluded: Hypertelorism (HP:0000316): onset ; excluded: Retrognathia (HP:0000278): onset ; excluded: High palate (HP:0000218): onset ; excluded: Scoliosis (HP:0002650): onset ; excluded: Spondylolisthesis (HP:0003302): onset ; excluded: Arachnodactyly (HP:0001166): onset ; excluded: Joint hypermobility (HP:0001382): onset ; excluded: Pes planus (HP:0001763): onset ; excluded: Talipes equinovarus (HP:0001762): onset ; excluded: Striae distensae (HP:0001065): onset ; excluded: Inguinal hernia (HP:0000023): onset ; excluded: Aortic dissection (HP:0002647): onset ; excluded: Tall stature (HP:0000098): onset </td></tr>\n",
       "<tr><td style=\"text-align: left;\">7-III:1 (FEMALE; P28Y)</td><td style=\"text-align: left;\">Loeys-Dietz syndrome 4 (OMIM:614816)</td><td style=\"text-align: left;\">NM_003238.6:c.294_308del (heterozygous)</td><td style=\"text-align: left;\">Hypertelorism (HP:0000316): onset ; Retrognathia (HP:0000278): onset ; Bifid uvula (HP:0000193): onset ; Downslanted palpebral fissures (HP:0000494): onset ; Abnormal sternum morphology (HP:0000766): onset ; Spondylolisthesis (HP:0003302): onset ; Arachnodactyly (HP:0001166): onset ; Joint hypermobility (HP:0001382): onset ; Pes planus (HP:0001763): onset ; Talipes equinovarus (HP:0001762): onset ; Dural ectasia (HP:0100775): onset ; Aortic root aneurysm (HP:0002616): onset ; Aortic dissection (HP:0002647): onset ; excluded: High palate (HP:0000218): onset ; excluded: Scoliosis (HP:0002650): onset ; excluded: Bruising susceptibility (HP:0000978): onset ; excluded: Striae distensae (HP:0001065): onset ; excluded: Tarlov cyst (HP:0025643): onset ; excluded: Inguinal hernia (HP:0000023): onset ; excluded: Bicuspid aortic valve (HP:0001647): onset ; excluded: Tall stature (HP:0000098): onset </td></tr>\n",
       "<tr><td style=\"text-align: left;\">8-II:3 (MALE; P50Y)</td><td style=\"text-align: left;\">Loeys-Dietz syndrome 4 (OMIM:614816)</td><td style=\"text-align: left;\">NM_003238.6:c.297C>A (heterozygous)</td><td style=\"text-align: left;\">Bifid uvula (HP:0000193): onset ; Scoliosis (HP:0002650): onset ; Joint hypermobility (HP:0001382): onset ; Inguinal hernia (HP:0000023): onset ; Aortic root aneurysm (HP:0002616): onset ; Aortic dissection (HP:0002647): onset ; excluded: Hypertelorism (HP:0000316): onset ; excluded: Retrognathia (HP:0000278): onset ; excluded: High palate (HP:0000218): onset ; excluded: Downslanted palpebral fissures (HP:0000494): onset ; excluded: Abnormal sternum morphology (HP:0000766): onset ; excluded: Spondylolisthesis (HP:0003302): onset ; excluded: Arachnodactyly (HP:0001166): onset ; excluded: Pes planus (HP:0001763): onset ; excluded: Talipes equinovarus (HP:0001762): onset ; excluded: Bruising susceptibility (HP:0000978): onset ; excluded: Striae distensae (HP:0001065): onset ; excluded: Mitral valve prolapse (HP:0001634): onset ; excluded: Bicuspid aortic valve (HP:0001647): onset ; excluded: Tall stature (HP:0000098): onset ; excluded: Soft skin (HP:0000977): onset ; excluded: Varicose veins (HP:0002619): onset </td></tr>\n",
       "<tr><td style=\"text-align: left;\">TAA288 III:2 (FEMALE; P50Y)</td><td style=\"text-align: left;\">Loeys-Dietz syndrome 4 (OMIM:614816)</td><td style=\"text-align: left;\">NM_003238.6:c.1022_1026del (heterozygous)</td><td style=\"text-align: left;\">High palate (HP:0000218): onset ; Scoliosis (HP:0002650): onset ; Joint hypermobility (HP:0001382): onset ; Pes planus (HP:0001763): onset ; excluded: Hypertelorism (HP:0000316): onset ; excluded: Retrognathia (HP:0000278): onset ; excluded: Malar flattening (HP:0000272): onset ; excluded: Downslanted palpebral fissures (HP:0000494): onset ; excluded: Abnormal sternum morphology (HP:0000766): onset ; excluded: Arachnodactyly (HP:0001166): onset ; excluded: Striae distensae (HP:0001065): onset ; excluded: Inguinal hernia (HP:0000023): onset ; excluded: Mitral valve prolapse (HP:0001634): onset ; excluded: Pneumothorax (HP:0002107): onset ; excluded: Emphysema (HP:0002097): onset ; excluded: Dilatation of the cerebral artery (HP:0004944): onset ; excluded: Ectopia lentis (HP:0001083): onset </td></tr>\n",
       "<tr><td style=\"text-align: left;\">TAA288 III:3 (MALE; P1M10D)</td><td style=\"text-align: left;\">Loeys-Dietz syndrome 4 (OMIM:614816)</td><td style=\"text-align: left;\">NM_003238.6:c.1022_1026del (heterozygous)</td><td style=\"text-align: left;\">Inguinal hernia (HP:0000023): onset ; Tall stature (HP:0000098): onset ; excluded: Mitral valve prolapse (HP:0001634): onset ; excluded: Emphysema (HP:0002097): onset </td></tr>\n",
       "<tr><td style=\"text-align: left;\">TAA288 III:4 (FEMALE; P46Y)</td><td style=\"text-align: left;\">Loeys-Dietz syndrome 4 (OMIM:614816)</td><td style=\"text-align: left;\">NM_003238.6:c.1022_1026del (heterozygous)</td><td style=\"text-align: left;\">excluded: Mitral valve prolapse (HP:0001634): onset ; excluded: Dilatation of the cerebral artery (HP:0004944): onset </td></tr>\n",
       "<tr><td style=\"text-align: left;\">TAA288 III:5 (MALE; P47Y)</td><td style=\"text-align: left;\">Loeys-Dietz syndrome 4 (OMIM:614816)</td><td style=\"text-align: left;\">NM_003238.6:c.1022_1026del (heterozygous)</td><td style=\"text-align: left;\">Inguinal hernia (HP:0000023): onset ; excluded: Mitral valve prolapse (HP:0001634): onset ; excluded: Pneumothorax (HP:0002107): onset ; excluded: Emphysema (HP:0002097): onset </td></tr>\n",
       "<tr><td style=\"text-align: left;\">TAA288 III:8 (FEMALE; P32Y)</td><td style=\"text-align: left;\">Loeys-Dietz syndrome 4 (OMIM:614816)</td><td style=\"text-align: left;\">NM_003238.6:c.1022_1026del (heterozygous)</td><td style=\"text-align: left;\">High palate (HP:0000218): onset ; Scoliosis (HP:0002650): onset ; Arachnodactyly (HP:0001166): onset ; Joint hypermobility (HP:0001382): onset ; Aortic root aneurysm (HP:0002616): onset ; excluded: Hypertelorism (HP:0000316): onset ; excluded: Retrognathia (HP:0000278): onset ; excluded: Malar flattening (HP:0000272): onset ; excluded: Downslanted palpebral fissures (HP:0000494): onset ; excluded: Abnormal sternum morphology (HP:0000766): onset ; excluded: Pes planus (HP:0001763): onset ; excluded: Striae distensae (HP:0001065): onset ; excluded: Inguinal hernia (HP:0000023): onset ; excluded: Mitral valve prolapse (HP:0001634): onset ; excluded: Arterial tortuosity (HP:0005116): onset ; excluded: Pneumothorax (HP:0002107): onset ; excluded: Emphysema (HP:0002097): onset ; excluded: Dilatation of the cerebral artery (HP:0004944): onset ; excluded: Ectopia lentis (HP:0001083): onset </td></tr>\n",
       "<tr><td style=\"text-align: left;\">TAA288 III:9 (MALE; P43Y)</td><td style=\"text-align: left;\">Loeys-Dietz syndrome 4 (OMIM:614816)</td><td style=\"text-align: left;\">NM_003238.6:c.1022_1026del (heterozygous)</td><td style=\"text-align: left;\">Tall stature (HP:0000098): onset ; excluded: Abnormal sternum morphology (HP:0000766): onset ; excluded: Mitral valve prolapse (HP:0001634): onset ; excluded: Pneumothorax (HP:0002107): onset ; excluded: Emphysema (HP:0002097): onset </td></tr>\n",
       "<tr><td style=\"text-align: left;\">TAA288 III:11 (MALE; P42Y)</td><td style=\"text-align: left;\">Loeys-Dietz syndrome 4 (OMIM:614816)</td><td style=\"text-align: left;\">NM_003238.6:c.1022_1026del (heterozygous)</td><td style=\"text-align: left;\">Abnormal sternum morphology (HP:0000766): onset ; Arachnodactyly (HP:0001166): onset ; Pes planus (HP:0001763): onset ; Striae distensae (HP:0001065): onset ; Inguinal hernia (HP:0000023): onset ; Tall stature (HP:0000098): onset ; excluded: High palate (HP:0000218): onset ; excluded: Scoliosis (HP:0002650): onset ; excluded: Joint hypermobility (HP:0001382): onset ; excluded: Mitral valve prolapse (HP:0001634): onset ; excluded: Pneumothorax (HP:0002107): onset ; excluded: Emphysema (HP:0002097): onset </td></tr>\n",
       "<tr><td style=\"text-align: left;\">TAA288 III:12 (MALE; P39Y)</td><td style=\"text-align: left;\">Loeys-Dietz syndrome 4 (OMIM:614816)</td><td style=\"text-align: left;\">NM_003238.6:c.1022_1026del (heterozygous)</td><td style=\"text-align: left;\">High palate (HP:0000218): onset ; Abnormal sternum morphology (HP:0000766): onset ; Joint hypermobility (HP:0001382): onset ; Pes planus (HP:0001763): onset ; Striae distensae (HP:0001065): onset ; Tall stature (HP:0000098): onset ; excluded: Scoliosis (HP:0002650): onset ; excluded: Inguinal hernia (HP:0000023): onset ; excluded: Mitral valve prolapse (HP:0001634): onset ; excluded: Pneumothorax (HP:0002107): onset ; excluded: Emphysema (HP:0002097): onset </td></tr>\n",
       "<tr><td style=\"text-align: left;\">TAA288 IV:1 (MALE; P22Y)</td><td style=\"text-align: left;\">Loeys-Dietz syndrome 4 (OMIM:614816)</td><td style=\"text-align: left;\">NM_003238.6:c.1022_1026del (heterozygous)</td><td style=\"text-align: left;\">High palate (HP:0000218): onset ; Scoliosis (HP:0002650): onset ; Joint hypermobility (HP:0001382): onset ; Pes planus (HP:0001763): onset ; Striae distensae (HP:0001065): onset ; Inguinal hernia (HP:0000023): onset ; Aortic root aneurysm (HP:0002616): onset ; excluded: Hypertelorism (HP:0000316): onset ; excluded: Retrognathia (HP:0000278): onset ; excluded: Malar flattening (HP:0000272): onset ; excluded: Downslanted palpebral fissures (HP:0000494): onset ; excluded: Abnormal sternum morphology (HP:0000766): onset ; excluded: Arachnodactyly (HP:0001166): onset ; excluded: Mitral valve prolapse (HP:0001634): onset ; excluded: Pneumothorax (HP:0002107): onset ; excluded: Emphysema (HP:0002097): onset ; excluded: Dilatation of the cerebral artery (HP:0004944): onset ; excluded: Ectopia lentis (HP:0001083): onset </td></tr>\n",
       "<tr><td style=\"text-align: left;\">TAA288 IV:2 (MALE; P18Y)</td><td style=\"text-align: left;\">Loeys-Dietz syndrome 4 (OMIM:614816)</td><td style=\"text-align: left;\">NM_003238.6:c.1022_1026del (heterozygous)</td><td style=\"text-align: left;\">Retrognathia (HP:0000278): onset ; High palate (HP:0000218): onset ; Arachnodactyly (HP:0001166): onset ; Joint hypermobility (HP:0001382): onset ; Pes planus (HP:0001763): onset ; Striae distensae (HP:0001065): onset ; Mitral valve prolapse (HP:0001634): onset ; Aortic root aneurysm (HP:0002616): onset ; excluded: Hypertelorism (HP:0000316): onset ; excluded: Malar flattening (HP:0000272): onset ; excluded: Downslanted palpebral fissures (HP:0000494): onset ; excluded: Scoliosis (HP:0002650): onset ; excluded: Abnormal sternum morphology (HP:0000766): onset ; excluded: Inguinal hernia (HP:0000023): onset ; excluded: Pneumothorax (HP:0002107): onset ; excluded: Emphysema (HP:0002097): onset ; excluded: Dilatation of the cerebral artery (HP:0004944): onset ; excluded: Ectopia lentis (HP:0001083): onset </td></tr>\n",
       "<tr><td style=\"text-align: left;\">TAA288 IV:3 (MALE; P10Y)</td><td style=\"text-align: left;\">Loeys-Dietz syndrome 4 (OMIM:614816)</td><td style=\"text-align: left;\">NM_003238.6:c.1022_1026del (heterozygous)</td><td style=\"text-align: left;\">High palate (HP:0000218): onset ; Abnormal sternum morphology (HP:0000766): onset ; Mitral valve prolapse (HP:0001634): onset ; Aortic root aneurysm (HP:0002616): onset ; excluded: Hypertelorism (HP:0000316): onset ; excluded: Retrognathia (HP:0000278): onset ; excluded: Malar flattening (HP:0000272): onset ; excluded: Downslanted palpebral fissures (HP:0000494): onset ; excluded: Scoliosis (HP:0002650): onset ; excluded: Joint hypermobility (HP:0001382): onset ; excluded: Pes planus (HP:0001763): onset ; excluded: Striae distensae (HP:0001065): onset ; excluded: Inguinal hernia (HP:0000023): onset ; excluded: Pneumothorax (HP:0002107): onset ; excluded: Emphysema (HP:0002097): onset ; excluded: Ectopia lentis (HP:0001083): onset </td></tr>\n",
       "<tr><td style=\"text-align: left;\">MS239 III:16 (MALE; P59Y)</td><td style=\"text-align: left;\">Loeys-Dietz syndrome 4 (OMIM:614816)</td><td style=\"text-align: left;\">NM_003238.6:c.687C>A (heterozygous)</td><td style=\"text-align: left;\">High palate (HP:0000218): onset ; Abnormal sternum morphology (HP:0000766): onset ; Pes planus (HP:0001763): onset ; Striae distensae (HP:0001065): onset ; Aortic root aneurysm (HP:0002616): onset ; Arterial tortuosity (HP:0005116): onset ; excluded: Hypertelorism (HP:0000316): onset ; excluded: Retrognathia (HP:0000278): onset ; excluded: Malar flattening (HP:0000272): onset ; excluded: Downslanted palpebral fissures (HP:0000494): onset ; excluded: Scoliosis (HP:0002650): onset ; excluded: Spondylolisthesis (HP:0003302): onset ; excluded: Arachnodactyly (HP:0001166): onset ; excluded: Joint hypermobility (HP:0001382): onset ; excluded: Dural ectasia (HP:0100775): onset ; excluded: Inguinal hernia (HP:0000023): onset ; excluded: Mitral valve prolapse (HP:0001634): onset ; excluded: Pneumothorax (HP:0002107): onset ; excluded: Emphysema (HP:0002097): onset ; excluded: Dilatation of the cerebral artery (HP:0004944): onset ; excluded: Protrusio acetabuli (HP:0003179): onset ; excluded: Ectopia lentis (HP:0001083): onset </td></tr>\n",
       "<tr><td style=\"text-align: left;\">MS239 IV:2 (MALE; P56Y)</td><td style=\"text-align: left;\">Loeys-Dietz syndrome 4 (OMIM:614816)</td><td style=\"text-align: left;\">NM_003238.6:c.687C>A (heterozygous)</td><td style=\"text-align: left;\">High palate (HP:0000218): onset ; Abnormal sternum morphology (HP:0000766): onset ; Spondylolisthesis (HP:0003302): onset ; Arachnodactyly (HP:0001166): onset ; Pes planus (HP:0001763): onset ; Striae distensae (HP:0001065): onset ; Dural ectasia (HP:0100775): onset ; Mitral valve prolapse (HP:0001634): onset ; Aortic root aneurysm (HP:0002616): onset ; Arterial tortuosity (HP:0005116): onset ; Emphysema (HP:0002097): onset ; Tall stature (HP:0000098): onset ; Protrusio acetabuli (HP:0003179): onset ; excluded: Hypertelorism (HP:0000316): onset ; excluded: Retrognathia (HP:0000278): onset ; excluded: Malar flattening (HP:0000272): onset ; excluded: Downslanted palpebral fissures (HP:0000494): onset ; excluded: Scoliosis (HP:0002650): onset ; excluded: Joint hypermobility (HP:0001382): onset ; excluded: Inguinal hernia (HP:0000023): onset ; excluded: Pneumothorax (HP:0002107): onset ; excluded: Dilatation of the cerebral artery (HP:0004944): onset ; excluded: Ectopia lentis (HP:0001083): onset </td></tr>\n",
       "<tr><td style=\"text-align: left;\">MS239 IV:12 (FEMALE; P41Y)</td><td style=\"text-align: left;\">Loeys-Dietz syndrome 4 (OMIM:614816)</td><td style=\"text-align: left;\">NM_003238.6:c.687C>A (heterozygous)</td><td style=\"text-align: left;\">Retrognathia (HP:0000278): onset ; Scoliosis (HP:0002650): onset ; Arachnodactyly (HP:0001166): onset ; Joint hypermobility (HP:0001382): onset ; Dural ectasia (HP:0100775): onset ; Inguinal hernia (HP:0000023): onset ; Aortic root aneurysm (HP:0002616): onset ; Pneumothorax (HP:0002107): onset ; excluded: Hypertelorism (HP:0000316): onset ; excluded: Malar flattening (HP:0000272): onset ; excluded: High palate (HP:0000218): onset ; excluded: Downslanted palpebral fissures (HP:0000494): onset ; excluded: Abnormal sternum morphology (HP:0000766): onset ; excluded: Spondylolisthesis (HP:0003302): onset ; excluded: Pes planus (HP:0001763): onset ; excluded: Striae distensae (HP:0001065): onset ; excluded: Mitral valve prolapse (HP:0001634): onset ; excluded: Protrusio acetabuli (HP:0003179): onset ; excluded: Ectopia lentis (HP:0001083): onset </td></tr>\n",
       "<tr><td style=\"text-align: left;\">MS239 IV:20 (FEMALE; P39Y)</td><td style=\"text-align: left;\">Loeys-Dietz syndrome 4 (OMIM:614816)</td><td style=\"text-align: left;\">NM_003238.6:c.687C>A (heterozygous)</td><td style=\"text-align: left;\">High palate (HP:0000218): onset ; Abnormal sternum morphology (HP:0000766): onset ; Arachnodactyly (HP:0001166): onset ; Joint hypermobility (HP:0001382): onset ; Pes planus (HP:0001763): onset ; Aortic root aneurysm (HP:0002616): onset ; excluded: Hypertelorism (HP:0000316): onset ; excluded: Retrognathia (HP:0000278): onset ; excluded: Malar flattening (HP:0000272): onset ; excluded: Downslanted palpebral fissures (HP:0000494): onset ; excluded: Scoliosis (HP:0002650): onset ; excluded: Spondylolisthesis (HP:0003302): onset ; excluded: Striae distensae (HP:0001065): onset ; excluded: Inguinal hernia (HP:0000023): onset ; excluded: Mitral valve prolapse (HP:0001634): onset ; excluded: Pneumothorax (HP:0002107): onset ; excluded: Protrusio acetabuli (HP:0003179): onset ; excluded: Ectopia lentis (HP:0001083): onset </td></tr>\n",
       "<tr><td style=\"text-align: left;\">MS239 IV:22 (MALE; P27Y)</td><td style=\"text-align: left;\">Loeys-Dietz syndrome 4 (OMIM:614816)</td><td style=\"text-align: left;\">NM_003238.6:c.687C>A (heterozygous)</td><td style=\"text-align: left;\">Pes planus (HP:0001763): onset ; Striae distensae (HP:0001065): onset ; Aortic root aneurysm (HP:0002616): onset ; excluded: Hypertelorism (HP:0000316): onset ; excluded: Retrognathia (HP:0000278): onset ; excluded: Malar flattening (HP:0000272): onset ; excluded: High palate (HP:0000218): onset ; excluded: Downslanted palpebral fissures (HP:0000494): onset ; excluded: Scoliosis (HP:0002650): onset ; excluded: Abnormal sternum morphology (HP:0000766): onset ; excluded: Spondylolisthesis (HP:0003302): onset ; excluded: Arachnodactyly (HP:0001166): onset ; excluded: Joint hypermobility (HP:0001382): onset ; excluded: Dural ectasia (HP:0100775): onset ; excluded: Inguinal hernia (HP:0000023): onset ; excluded: Mitral valve prolapse (HP:0001634): onset ; excluded: Pneumothorax (HP:0002107): onset ; excluded: Protrusio acetabuli (HP:0003179): onset ; excluded: Ectopia lentis (HP:0001083): onset </td></tr>\n",
       "<tr><td style=\"text-align: left;\">MS239 V:5 (MALE; P17Y)</td><td style=\"text-align: left;\">Loeys-Dietz syndrome 4 (OMIM:614816)</td><td style=\"text-align: left;\">NM_003238.6:c.687C>A (heterozygous)</td><td style=\"text-align: left;\">Joint hypermobility (HP:0001382): onset ; Pes planus (HP:0001763): onset ; Striae distensae (HP:0001065): onset ; Tall stature (HP:0000098): onset ; excluded: Hypertelorism (HP:0000316): onset ; excluded: Retrognathia (HP:0000278): onset ; excluded: Malar flattening (HP:0000272): onset ; excluded: High palate (HP:0000218): onset ; excluded: Downslanted palpebral fissures (HP:0000494): onset ; excluded: Scoliosis (HP:0002650): onset ; excluded: Abnormal sternum morphology (HP:0000766): onset ; excluded: Spondylolisthesis (HP:0003302): onset ; excluded: Arachnodactyly (HP:0001166): onset ; excluded: Inguinal hernia (HP:0000023): onset ; excluded: Mitral valve prolapse (HP:0001634): onset ; excluded: Aortic root aneurysm (HP:0002616): onset ; excluded: Pneumothorax (HP:0002107): onset ; excluded: Protrusio acetabuli (HP:0003179): onset </td></tr>\n",
       "<tr><td style=\"text-align: left;\">MS1758 II:8 (MALE; P50Y)</td><td style=\"text-align: left;\">Loeys-Dietz syndrome 4 (OMIM:614816)</td><td style=\"text-align: left;\">NM_003238.6:c.274G>T (heterozygous)</td><td style=\"text-align: left;\">Abnormal sternum morphology (HP:0000766): onset ; Arachnodactyly (HP:0001166): onset ; Joint hypermobility (HP:0001382): onset ; Pes planus (HP:0001763): onset ; Dural ectasia (HP:0100775): onset ; Arterial tortuosity (HP:0005116): onset ; Emphysema (HP:0002097): onset ; excluded: Hypertelorism (HP:0000316): onset ; excluded: Retrognathia (HP:0000278): onset ; excluded: Malar flattening (HP:0000272): onset ; excluded: High palate (HP:0000218): onset ; excluded: Downslanted palpebral fissures (HP:0000494): onset ; excluded: Scoliosis (HP:0002650): onset ; excluded: Spondylolisthesis (HP:0003302): onset ; excluded: Striae distensae (HP:0001065): onset ; excluded: Inguinal hernia (HP:0000023): onset ; excluded: Mitral valve prolapse (HP:0001634): onset ; excluded: Pneumothorax (HP:0002107): onset ; excluded: Protrusio acetabuli (HP:0003179): onset ; excluded: Ectopia lentis (HP:0001083): onset </td></tr>\n",
       "<tr><td style=\"text-align: left;\">MS211 III:14 (MALE; P33Y)</td><td style=\"text-align: left;\">Loeys-Dietz syndrome 4 (OMIM:614816)</td><td style=\"text-align: left;\">NM_003238.6:c.890_905del (heterozygous)</td><td style=\"text-align: left;\">Arachnodactyly (HP:0001166): onset ; Joint hypermobility (HP:0001382): onset ; Inguinal hernia (HP:0000023): onset ; excluded: Hypertelorism (HP:0000316): onset ; excluded: Retrognathia (HP:0000278): onset ; excluded: Malar flattening (HP:0000272): onset ; excluded: High palate (HP:0000218): onset ; excluded: Downslanted palpebral fissures (HP:0000494): onset ; excluded: Scoliosis (HP:0002650): onset ; excluded: Abnormal sternum morphology (HP:0000766): onset ; excluded: Pes planus (HP:0001763): onset ; excluded: Striae distensae (HP:0001065): onset ; excluded: Mitral valve prolapse (HP:0001634): onset ; excluded: Arterial tortuosity (HP:0005116): onset ; excluded: Pneumothorax (HP:0002107): onset ; excluded: Protrusio acetabuli (HP:0003179): onset ; excluded: Ectopia lentis (HP:0001083): onset </td></tr>\n",
       "<tr><td style=\"text-align: left;\">proposita (FEMALE; P57Y)</td><td style=\"text-align: left;\">Loeys-Dietz syndrome 4 (OMIM:614816)</td><td style=\"text-align: left;\">NM_003238.6:c.755-1G>A (heterozygous)</td><td style=\"text-align: left;\">Bruising susceptibility (HP:0000978): onset ; Dural ectasia (HP:0100775): onset ; Herniation of intervertebral nuclei (HP:0008441): onset ; Femoral hernia (HP:0100541): onset ; Hiatus hernia (HP:0002036): onset ; Mitral valve prolapse (HP:0001634): onset ; Gingival fragility (HP:0034518): onset ; Headache (HP:0002315): onset ; excluded: Bifid uvula (HP:0000193): onset ; excluded: Ectopia lentis (HP:0001083): onset <br/><b>TimeElement(element=OntologyClass(id=HP:0011463, label=Childhood onset))</b>: Shoulder dislocation (HP:0003834): onset ontology_class {\n",
       "  id: \"HP:0011463\"\n",
       "  label: \"Childhood onset\"\n",
       "}\n",
       "; Knee dislocation (HP:0004976): onset ontology_class {\n",
       "  id: \"HP:0011463\"\n",
       "  label: \"Childhood onset\"\n",
       "}\n",
       "<br/><b>TimeElement(element=Age(iso8601duration=P9Y))</b>: Inguinal hernia (HP:0000023): onset age {\n",
       "  iso8601duration: \"P9Y\"\n",
       "}\n",
       "<br/><b>TimeElement(element=Age(iso8601duration=P20Y))</b>: Back pain (HP:0003418): onset age {\n",
       "  iso8601duration: \"P20Y\"\n",
       "}\n",
       "<br/><b>TimeElement(element=Age(iso8601duration=P56Y))</b>: Retrognathia (HP:0000278): onset age {\n",
       "  iso8601duration: \"P56Y\"\n",
       "}\n",
       "; High palate (HP:0000218): onset age {\n",
       "  iso8601duration: \"P56Y\"\n",
       "}\n",
       "; Short uvula (HP:0010812): onset age {\n",
       "  iso8601duration: \"P56Y\"\n",
       "}\n",
       "; Long philtrum (HP:0000343): onset age {\n",
       "  iso8601duration: \"P56Y\"\n",
       "}\n",
       "; Blue sclerae (HP:0000592): onset age {\n",
       "  iso8601duration: \"P56Y\"\n",
       "}\n",
       "; Scoliosis (HP:0002650): onset age {\n",
       "  iso8601duration: \"P56Y\"\n",
       "}\n",
       "; Striae distensae (HP:0001065): onset age {\n",
       "  iso8601duration: \"P56Y\"\n",
       "}\n",
       "; Soft skin (HP:0000977): onset age {\n",
       "  iso8601duration: \"P56Y\"\n",
       "}\n",
       "<br/><b>TimeElement(element=Age(iso8601duration=P57Y))</b>: Tortuous cerebral arteries (HP:0004938): onset age {\n",
       "  iso8601duration: \"P57Y\"\n",
       "}\n",
       "; Carotid artery tortuosity (HP:0005302): onset age {\n",
       "  iso8601duration: \"P57Y\"\n",
       "}\n",
       "; Vertebral artery tortuosity (HP:0033981): onset age {\n",
       "  iso8601duration: \"P57Y\"\n",
       "}\n",
       "</td></tr>\n",
       "<tr><td style=\"text-align: left;\">Family 24 Patient I (FEMALE; P48Y)</td><td style=\"text-align: left;\">Loeys-Dietz syndrome 4 (OMIM:614816)</td><td style=\"text-align: left;\">NM_003238.6:c.396del (heterozygous)</td><td style=\"text-align: left;\">Hypertelorism (HP:0000316): onset ; Malar flattening (HP:0000272): onset ; High palate (HP:0000218): onset ; Bifid uvula (HP:0000193): onset ; Blue sclerae (HP:0000592): onset ; Scoliosis (HP:0002650): onset ; Arachnodactyly (HP:0001166): onset ; Joint hypermobility (HP:0001382): onset ; Pes planus (HP:0001763): onset ; Bruising susceptibility (HP:0000978): onset ; Striae distensae (HP:0001065): onset ; Dural ectasia (HP:0100775): onset ; Inguinal hernia (HP:0000023): onset ; Umbilical hernia (HP:0001537): onset ; Mitral valve prolapse (HP:0001634): onset ; Mitral regurgitation (HP:0001653): onset ; Arterial tortuosity (HP:0005116): onset ; Disproportionate tall stature (HP:0001519): onset ; Hyperextensible skin (HP:0000974): onset ; Dermal translucency (HP:0010648): onset ; Varicose veins (HP:0002619): onset ; Recurrent joint dislocation (HP:0031869): onset ; Osteopenia (HP:0000938): onset ; Pectus excavatum (HP:0000767): onset ; Micrognathia (HP:0000347): onset ; Cervical spine instability (HP:0010646): onset ; Food allergy (HP:0500093): onset ; excluded: Talipes equinovarus (HP:0001762): onset ; excluded: Patent ductus arteriosus (HP:0001643): onset ; excluded: Atrophic scars (HP:0001075): onset ; excluded: Genu valgum (HP:0002857): onset ; excluded: Low-set ears (HP:0000369): onset ; excluded: Prominent nose (HP:0000448): onset ; excluded: Frontal bossing (HP:0002007): onset ; excluded: Epicanthus (HP:0000286): onset ; excluded: Dolichocephaly (HP:0000268): onset ; excluded: Osteoarthritis (HP:0002758): onset ; excluded: Myopia (HP:0000545): onset ; excluded: Keratoconus (HP:0000563): onset ; excluded: Strabismus (HP:0000486): onset </td></tr>\n",
       "</table>"
      ],
      "text/plain": [
       "<IPython.core.display.HTML object>"
      ]
     },
     "metadata": {},
     "output_type": "display_data"
    }
   ],
   "source": [
    "table = IndividualTable(cvalidator.get_error_free_individual_list())\n",
    "display(HTML(table.to_html()))"
   ]
  },
  {
   "cell_type": "code",
   "execution_count": 6,
   "id": "fcef4d55-0cb7-4892-8a18-34c1da540503",
   "metadata": {},
   "outputs": [
    {
     "ename": "TypeError",
     "evalue": "TemplateImporter.create_hpoa_from_phenopackets() got an unexpected keyword argument 'moi'",
     "output_type": "error",
     "traceback": [
      "\u001b[0;31m---------------------------------------------------------------------------\u001b[0m",
      "\u001b[0;31mTypeError\u001b[0m                                 Traceback (most recent call last)",
      "Cell \u001b[0;32mIn[6], line 2\u001b[0m\n\u001b[1;32m      1\u001b[0m pmid \u001b[38;5;241m=\u001b[39m \u001b[38;5;124m\"\u001b[39m\u001b[38;5;124mPMID:22772368\u001b[39m\u001b[38;5;124m\"\u001b[39m\n\u001b[0;32m----> 2\u001b[0m df \u001b[38;5;241m=\u001b[39m \u001b[43mtimporter\u001b[49m\u001b[38;5;241;43m.\u001b[39;49m\u001b[43mcreate_hpoa_from_phenopackets\u001b[49m\u001b[43m(\u001b[49m\u001b[43mpmid\u001b[49m\u001b[38;5;241;43m=\u001b[39;49m\u001b[43mpmid\u001b[49m\u001b[43m,\u001b[49m\u001b[43m \u001b[49m\u001b[43mmoi\u001b[49m\u001b[38;5;241;43m=\u001b[39;49m\u001b[38;5;124;43m\"\u001b[39;49m\u001b[38;5;124;43mAutosomal dominant\u001b[39;49m\u001b[38;5;124;43m\"\u001b[39;49m\u001b[43m)\u001b[49m\n",
      "\u001b[0;31mTypeError\u001b[0m: TemplateImporter.create_hpoa_from_phenopackets() got an unexpected keyword argument 'moi'"
     ]
    }
   ],
   "source": [
    "pmid = \"PMID:22772368\"\n",
    "df = timporter.create_hpoa_from_phenopackets(pmid=pmid, moi=\"Autosomal dominant\")"
   ]
  },
  {
   "cell_type": "code",
   "execution_count": null,
   "id": "ddf1447d-67ca-4a91-a401-1827d9d553c7",
   "metadata": {},
   "outputs": [],
   "source": []
  }
 ],
 "metadata": {
  "kernelspec": {
   "display_name": "Python 3 (ipykernel)",
   "language": "python",
   "name": "python3"
  },
  "language_info": {
   "codemirror_mode": {
    "name": "ipython",
    "version": 3
   },
   "file_extension": ".py",
   "mimetype": "text/x-python",
   "name": "python",
   "nbconvert_exporter": "python",
   "pygments_lexer": "ipython3",
   "version": "3.12.4"
  }
 },
 "nbformat": 4,
 "nbformat_minor": 5
}
