{
 "cells": [
  {
   "cell_type": "markdown",
   "id": "f2498f34-291f-4491-8807-e0b499fdc5e7",
   "metadata": {},
   "source": [
    "# TGFB2\n",
    "[Loeys-Dietz syndrome-4 (LDS4)](https://omim.org/entry/614816) is caused by heterozygous mutation in the TGFB2 gene."
   ]
  },
  {
   "cell_type": "code",
   "execution_count": 1,
   "id": "c9debdc6-d21b-40fb-b9ab-b26871e2e8cb",
   "metadata": {},
   "outputs": [
    {
     "name": "stdout",
     "output_type": "stream",
     "text": [
      "Using pyphetools version 0.9.74\n"
     ]
    }
   ],
   "source": [
    "from pyphetools.creation import TemplateImporter\n",
    "from pyphetools.visualization import IndividualTable, QcVisualizer\n",
    "from IPython.display import display, HTML\n",
    "import pyphetools\n",
    "print(f\"Using pyphetools version {pyphetools.__version__}\")"
   ]
  },
  {
   "cell_type": "code",
   "execution_count": 2,
   "id": "4e04e91e-7295-40e1-91cd-2242b0c0caca",
   "metadata": {},
   "outputs": [],
   "source": [
    "template = \"input/TGFB2_LDS4_individuals.xlsx\"\n",
    "hp_json = \"../hp.json\"\n",
    "created_by = \"0000-0002-0736-9199\""
   ]
  },
  {
   "cell_type": "code",
   "execution_count": 3,
   "id": "4ece837a-b03d-47ee-a33f-19bd5acb0d5c",
   "metadata": {},
   "outputs": [
    {
     "name": "stdout",
     "output_type": "stream",
     "text": [
      "HPO version 2024-03-06\n",
      "Created encoders for 48 fields\n",
      "Importing OMIM:614816, Loeys-Dietz syndrome 4, HGNC:11768, TGFB2,  NM_003238.6\n",
      "We output 34 GA4GH phenopackets to the directory phenopackets\n"
     ]
    }
   ],
   "source": [
    "dels = {\"3.5 Mb deletion (216,672,181–220,202,575 Mb;GRCh37/hg19)\", \"6.5 Mb delection (215,588,712–222,145,072 Mb;GRCh37/hg19)\" }\n",
    "timporter = TemplateImporter(template=template, hp_json=hp_json, created_by=created_by)\n",
    "individual_list, cvalidator = timporter.import_phenopackets_from_template(deletions=dels)"
   ]
  },
  {
   "cell_type": "code",
   "execution_count": 4,
   "id": "43e7d456-ccbd-4165-a607-acfcc49c6caa",
   "metadata": {},
   "outputs": [
    {
     "data": {
      "text/html": [
       "<h2>Cohort validation</h2>\n",
       "<p>No errors found for the cohort with 34 individuals</p>"
      ],
      "text/plain": [
       "<IPython.core.display.HTML object>"
      ]
     },
     "metadata": {},
     "output_type": "display_data"
    }
   ],
   "source": [
    "qc = QcVisualizer(cohort_validator=cvalidator)\n",
    "display(HTML(qc.to_summary_html()))"
   ]
  },
  {
   "cell_type": "code",
   "execution_count": 5,
   "id": "76efed91-9dbc-44e7-be39-7d182623f7e7",
   "metadata": {},
   "outputs": [
    {
     "data": {
      "text/html": [
       "<table style=\"border: 2px solid black; align: \"left\">\n",
       "<caption>34 phenopackets - PMID:22772368 (n=15); PMID:22772371 (n=19)</caption>\n",
       "<tr><th style=\"text-align: left;font-weight: bold;\">Individual</th><th style=\"text-align: left;font-weight: bold;\">Disease</th><th style=\"text-align: left;font-weight: bold;\">Genotype</th><th style=\"text-align: left;font-weight: bold;\">Phenotypic features</th></tr>\n",
       "<tr><td style=\"text-align: left;\">1-II:1 (MALE; P46Y)</td><td style=\"text-align: left;\">Loeys-Dietz syndrome 4 (OMIM:614816)</td><td style=\"text-align: left;\">6.5 Mb delection (215,588,712–222,145,072 Mb;GRCh37/hg19): chromosomal_deletion (SO:1000029)</td><td style=\"text-align: left;\">Hypertelorism (HP:0000316); Retrognathia (HP:0000278); High palate (HP:0000218); Scoliosis (HP:0002650); Abnormal sternum morphology (HP:0000766); Arachnodactyly (HP:0001166); Talipes equinovarus (HP:0001762); Inguinal hernia (HP:0000023); Mitral valve prolapse (HP:0001634); Aortic root aneurysm (HP:0002616); Aortic dissection (HP:0002647); Tall stature (HP:0000098); excluded: Downslanted palpebral fissures (HP:0000494); excluded: Spondylolisthesis (HP:0003302); excluded: Joint hypermobility (HP:0001382); excluded: Pes planus (HP:0001763); excluded: Bruising susceptibility (HP:0000978); excluded: Striae distensae (HP:0001065); excluded: Bicuspid aortic valve (HP:0001647); excluded: Soft skin (HP:0000977); excluded: Varicose veins (HP:0002619)</td></tr>\n",
       "<tr><td style=\"text-align: left;\">2-II:1 (MALE; P9Y)</td><td style=\"text-align: left;\">Loeys-Dietz syndrome 4 (OMIM:614816)</td><td style=\"text-align: left;\">3.5 Mb deletion (216,672,181–220,202,575 Mb;GRCh37/hg19): chromosomal_deletion (SO:1000029)</td><td style=\"text-align: left;\">Retrognathia (HP:0000278); High palate (HP:0000218); Downslanted palpebral fissures (HP:0000494); Abnormal sternum morphology (HP:0000766); Arachnodactyly (HP:0001166); Pes planus (HP:0001763); Talipes equinovarus (HP:0001762); Aortic root aneurysm (HP:0002616); excluded: Hypertelorism (HP:0000316); excluded: Scoliosis (HP:0002650); excluded: Spondylolisthesis (HP:0003302); excluded: Joint hypermobility (HP:0001382); excluded: Bruising susceptibility (HP:0000978); excluded: Striae distensae (HP:0001065); excluded: Inguinal hernia (HP:0000023); excluded: Mitral valve prolapse (HP:0001634); excluded: Aortic dissection (HP:0002647); excluded: Bicuspid aortic valve (HP:0001647); excluded: Tall stature (HP:0000098); excluded: Soft skin (HP:0000977); excluded: Varicose veins (HP:0002619)</td></tr>\n",
       "<tr><td style=\"text-align: left;\">3-III:1 (FEMALE; P13Y)</td><td style=\"text-align: left;\">Loeys-Dietz syndrome 4 (OMIM:614816)</td><td style=\"text-align: left;\">NM_003238.6:c.904C>T (heterozygous)</td><td style=\"text-align: left;\">Hypertelorism (HP:0000316); Retrognathia (HP:0000278); High palate (HP:0000218); Downslanted palpebral fissures (HP:0000494); Abnormal sternum morphology (HP:0000766); Arachnodactyly (HP:0001166); Joint hypermobility (HP:0001382); Talipes equinovarus (HP:0001762); Bruising susceptibility (HP:0000978); Inguinal hernia (HP:0000023); Aortic root aneurysm (HP:0002616); excluded: Scoliosis (HP:0002650); excluded: Spondylolisthesis (HP:0003302); excluded: Pes planus (HP:0001763); excluded: Striae distensae (HP:0001065); excluded: Mitral valve prolapse (HP:0001634); excluded: Aortic dissection (HP:0002647); excluded: Bicuspid aortic valve (HP:0001647); excluded: Tall stature (HP:0000098); excluded: Soft skin (HP:0000977); excluded: Varicose veins (HP:0002619)</td></tr>\n",
       "<tr><td style=\"text-align: left;\">4-I:2 (MALE; P61Y)</td><td style=\"text-align: left;\">Loeys-Dietz syndrome 4 (OMIM:614816)</td><td style=\"text-align: left;\">NM_003238.6:c.1013C>A (heterozygous)</td><td style=\"text-align: left;\">Retrognathia (HP:0000278); High palate (HP:0000218); Scoliosis (HP:0002650); Abnormal sternum morphology (HP:0000766); Arachnodactyly (HP:0001166); Joint hypermobility (HP:0001382); Pes planus (HP:0001763); Tarlov cyst (HP:0025643); Inguinal hernia (HP:0000023); Tall stature (HP:0000098); Varicose veins (HP:0002619); excluded: Hypertelorism (HP:0000316); excluded: Downslanted palpebral fissures (HP:0000494); excluded: Spondylolisthesis (HP:0003302); excluded: Talipes equinovarus (HP:0001762); excluded: Bruising susceptibility (HP:0000978); excluded: Striae distensae (HP:0001065); excluded: Dural ectasia (HP:0100775); excluded: Aortic root aneurysm (HP:0002616); excluded: Aortic dissection (HP:0002647); excluded: Bicuspid aortic valve (HP:0001647); excluded: Soft skin (HP:0000977)</td></tr>\n",
       "<tr><td style=\"text-align: left;\">4-II:1 (MALE; P32Y)</td><td style=\"text-align: left;\">Loeys-Dietz syndrome 4 (OMIM:614816)</td><td style=\"text-align: left;\">NM_003238.6:c.1013C>A (heterozygous)</td><td style=\"text-align: left;\">Retrognathia (HP:0000278); High palate (HP:0000218); Downslanted palpebral fissures (HP:0000494); Scoliosis (HP:0002650); Abnormal sternum morphology (HP:0000766); Arachnodactyly (HP:0001166); Joint hypermobility (HP:0001382); Pes planus (HP:0001763); Striae distensae (HP:0001065); Tarlov cyst (HP:0025643); Inguinal hernia (HP:0000023); Mitral valve prolapse (HP:0001634); Aortic root aneurysm (HP:0002616); Tall stature (HP:0000098); excluded: Hypertelorism (HP:0000316); excluded: Spondylolisthesis (HP:0003302); excluded: Talipes equinovarus (HP:0001762); excluded: Dural ectasia (HP:0100775); excluded: Aortic dissection (HP:0002647); excluded: Bicuspid aortic valve (HP:0001647); excluded: Soft skin (HP:0000977); excluded: Varicose veins (HP:0002619)</td></tr>\n",
       "<tr><td style=\"text-align: left;\">4-II:3 (MALE; P32Y)</td><td style=\"text-align: left;\">Loeys-Dietz syndrome 4 (OMIM:614816)</td><td style=\"text-align: left;\">NM_003238.6:c.1013C>A (heterozygous)</td><td style=\"text-align: left;\">Retrognathia (HP:0000278); High palate (HP:0000218); Downslanted palpebral fissures (HP:0000494); Scoliosis (HP:0002650); Abnormal sternum morphology (HP:0000766); Arachnodactyly (HP:0001166); Joint hypermobility (HP:0001382); Pes planus (HP:0001763); Striae distensae (HP:0001065); Inguinal hernia (HP:0000023); Mitral valve prolapse (HP:0001634); Aortic root aneurysm (HP:0002616); Tall stature (HP:0000098); excluded: Hypertelorism (HP:0000316); excluded: Spondylolisthesis (HP:0003302); excluded: Talipes equinovarus (HP:0001762); excluded: Dural ectasia (HP:0100775); excluded: Tarlov cyst (HP:0025643); excluded: Aortic dissection (HP:0002647); excluded: Bicuspid aortic valve (HP:0001647); excluded: Soft skin (HP:0000977); excluded: Varicose veins (HP:0002619)</td></tr>\n",
       "<tr><td style=\"text-align: left;\">4-III:1 (MALE; P3Y)</td><td style=\"text-align: left;\">Loeys-Dietz syndrome 4 (OMIM:614816)</td><td style=\"text-align: left;\">NM_003238.6:c.1013C>A (heterozygous)</td><td style=\"text-align: left;\">Retrognathia (HP:0000278); High palate (HP:0000218); Abnormal sternum morphology (HP:0000766); Joint hypermobility (HP:0001382); Pes planus (HP:0001763); Aortic root aneurysm (HP:0002616); excluded: Hypertelorism (HP:0000316); excluded: Downslanted palpebral fissures (HP:0000494); excluded: Scoliosis (HP:0002650); excluded: Spondylolisthesis (HP:0003302); excluded: Arachnodactyly (HP:0001166); excluded: Talipes equinovarus (HP:0001762); excluded: Bruising susceptibility (HP:0000978); excluded: Striae distensae (HP:0001065); excluded: Inguinal hernia (HP:0000023); excluded: Aortic dissection (HP:0002647); excluded: Bicuspid aortic valve (HP:0001647); excluded: Tall stature (HP:0000098); excluded: Soft skin (HP:0000977); excluded: Varicose veins (HP:0002619)</td></tr>\n",
       "<tr><td style=\"text-align: left;\">5-II:2 (MALE; P44Y)</td><td style=\"text-align: left;\">Loeys-Dietz syndrome 4 (OMIM:614816)</td><td style=\"text-align: left;\">NM_003238.6:c.895C>T (heterozygous)</td><td style=\"text-align: left;\">Retrognathia (HP:0000278); High palate (HP:0000218); Bifid uvula (HP:0000193); Downslanted palpebral fissures (HP:0000494); Arachnodactyly (HP:0001166); Pes planus (HP:0001763); Talipes equinovarus (HP:0001762); Bruising susceptibility (HP:0000978); Inguinal hernia (HP:0000023); Aortic root aneurysm (HP:0002616); Aortic dissection (HP:0002647); excluded: Hypertelorism (HP:0000316); excluded: Scoliosis (HP:0002650); excluded: Abnormal sternum morphology (HP:0000766); excluded: Spondylolisthesis (HP:0003302); excluded: Joint hypermobility (HP:0001382); excluded: Striae distensae (HP:0001065); excluded: Bicuspid aortic valve (HP:0001647); excluded: Tall stature (HP:0000098); excluded: Soft skin (HP:0000977); excluded: Varicose veins (HP:0002619)</td></tr>\n",
       "<tr><td style=\"text-align: left;\">5-III:1 (FEMALE; P21Y)</td><td style=\"text-align: left;\">Loeys-Dietz syndrome 4 (OMIM:614816)</td><td style=\"text-align: left;\">NM_003238.6:c.895C>T (heterozygous)</td><td style=\"text-align: left;\">High palate (HP:0000218); Downslanted palpebral fissures (HP:0000494); Pes planus (HP:0001763); Bruising susceptibility (HP:0000978); Inguinal hernia (HP:0000023); Mitral valve prolapse (HP:0001634); Aortic root aneurysm (HP:0002616); Soft skin (HP:0000977); excluded: Hypertelorism (HP:0000316); excluded: Retrognathia (HP:0000278); excluded: Scoliosis (HP:0002650); excluded: Abnormal sternum morphology (HP:0000766); excluded: Spondylolisthesis (HP:0003302); excluded: Arachnodactyly (HP:0001166); excluded: Joint hypermobility (HP:0001382); excluded: Talipes equinovarus (HP:0001762); excluded: Striae distensae (HP:0001065); excluded: Aortic dissection (HP:0002647); excluded: Bicuspid aortic valve (HP:0001647); excluded: Tall stature (HP:0000098); excluded: Varicose veins (HP:0002619)</td></tr>\n",
       "<tr><td style=\"text-align: left;\">5-III:2 (MALE; P7Y)</td><td style=\"text-align: left;\">Loeys-Dietz syndrome 4 (OMIM:614816)</td><td style=\"text-align: left;\">NM_003238.6:c.895C>T (heterozygous)</td><td style=\"text-align: left;\">Retrognathia (HP:0000278); Bruising susceptibility (HP:0000978); Inguinal hernia (HP:0000023); Aortic root aneurysm (HP:0002616); Tall stature (HP:0000098); Soft skin (HP:0000977); excluded: Hypertelorism (HP:0000316); excluded: High palate (HP:0000218); excluded: Downslanted palpebral fissures (HP:0000494); excluded: Scoliosis (HP:0002650); excluded: Abnormal sternum morphology (HP:0000766); excluded: Spondylolisthesis (HP:0003302); excluded: Arachnodactyly (HP:0001166); excluded: Joint hypermobility (HP:0001382); excluded: Pes planus (HP:0001763); excluded: Talipes equinovarus (HP:0001762); excluded: Striae distensae (HP:0001065); excluded: Aortic dissection (HP:0002647); excluded: Bicuspid aortic valve (HP:0001647); excluded: Varicose veins (HP:0002619)</td></tr>\n",
       "<tr><td style=\"text-align: left;\">6-II:6 (MALE; P43Y)</td><td style=\"text-align: left;\">Loeys-Dietz syndrome 4 (OMIM:614816)</td><td style=\"text-align: left;\">NM_003238.6:c.1022_1026del (heterozygous)</td><td style=\"text-align: left;\">Hypertelorism (HP:0000316); Retrognathia (HP:0000278); Downslanted palpebral fissures (HP:0000494); Bruising susceptibility (HP:0000978); Striae distensae (HP:0001065); Tarlov cyst (HP:0025643); Inguinal hernia (HP:0000023); Aortic root aneurysm (HP:0002616); Soft skin (HP:0000977); excluded: High palate (HP:0000218); excluded: Scoliosis (HP:0002650); excluded: Abnormal sternum morphology (HP:0000766); excluded: Spondylolisthesis (HP:0003302); excluded: Arachnodactyly (HP:0001166); excluded: Joint hypermobility (HP:0001382); excluded: Pes planus (HP:0001763); excluded: Talipes equinovarus (HP:0001762); excluded: Dural ectasia (HP:0100775); excluded: Aortic dissection (HP:0002647); excluded: Bicuspid aortic valve (HP:0001647); excluded: Tall stature (HP:0000098); excluded: Varicose veins (HP:0002619)</td></tr>\n",
       "<tr><td style=\"text-align: left;\">6-III:5 (MALE; P10Y)</td><td style=\"text-align: left;\">Loeys-Dietz syndrome 4 (OMIM:614816)</td><td style=\"text-align: left;\">NM_003238.6:c.1022_1026del (heterozygous)</td><td style=\"text-align: left;\">Hypertelorism (HP:0000316); High palate (HP:0000218); Downslanted palpebral fissures (HP:0000494); Aortic root aneurysm (HP:0002616); Bicuspid aortic valve (HP:0001647); excluded: Retrognathia (HP:0000278); excluded: Scoliosis (HP:0002650); excluded: Abnormal sternum morphology (HP:0000766); excluded: Spondylolisthesis (HP:0003302); excluded: Arachnodactyly (HP:0001166); excluded: Joint hypermobility (HP:0001382); excluded: Pes planus (HP:0001763); excluded: Talipes equinovarus (HP:0001762); excluded: Striae distensae (HP:0001065); excluded: Inguinal hernia (HP:0000023); excluded: Aortic dissection (HP:0002647); excluded: Tall stature (HP:0000098); excluded: Soft skin (HP:0000977); excluded: Varicose veins (HP:0002619)</td></tr>\n",
       "<tr><td style=\"text-align: left;\">6-III:6 (MALE; P7Y)</td><td style=\"text-align: left;\">Loeys-Dietz syndrome 4 (OMIM:614816)</td><td style=\"text-align: left;\">NM_003238.6:c.1022_1026del (heterozygous)</td><td style=\"text-align: left;\">Downslanted palpebral fissures (HP:0000494); Abnormal sternum morphology (HP:0000766); Aortic root aneurysm (HP:0002616); Bicuspid aortic valve (HP:0001647); excluded: Hypertelorism (HP:0000316); excluded: Retrognathia (HP:0000278); excluded: High palate (HP:0000218); excluded: Scoliosis (HP:0002650); excluded: Spondylolisthesis (HP:0003302); excluded: Arachnodactyly (HP:0001166); excluded: Joint hypermobility (HP:0001382); excluded: Pes planus (HP:0001763); excluded: Talipes equinovarus (HP:0001762); excluded: Striae distensae (HP:0001065); excluded: Inguinal hernia (HP:0000023); excluded: Aortic dissection (HP:0002647); excluded: Tall stature (HP:0000098)</td></tr>\n",
       "<tr><td style=\"text-align: left;\">7-III:1 (FEMALE; P28Y)</td><td style=\"text-align: left;\">Loeys-Dietz syndrome 4 (OMIM:614816)</td><td style=\"text-align: left;\">NM_003238.6:c.294_308del (heterozygous)</td><td style=\"text-align: left;\">Hypertelorism (HP:0000316); Retrognathia (HP:0000278); Bifid uvula (HP:0000193); Downslanted palpebral fissures (HP:0000494); Abnormal sternum morphology (HP:0000766); Spondylolisthesis (HP:0003302); Arachnodactyly (HP:0001166); Joint hypermobility (HP:0001382); Pes planus (HP:0001763); Talipes equinovarus (HP:0001762); Dural ectasia (HP:0100775); Aortic root aneurysm (HP:0002616); Aortic dissection (HP:0002647); excluded: High palate (HP:0000218); excluded: Scoliosis (HP:0002650); excluded: Bruising susceptibility (HP:0000978); excluded: Striae distensae (HP:0001065); excluded: Tarlov cyst (HP:0025643); excluded: Inguinal hernia (HP:0000023); excluded: Bicuspid aortic valve (HP:0001647); excluded: Tall stature (HP:0000098)</td></tr>\n",
       "<tr><td style=\"text-align: left;\">8-II:3 (MALE; P50Y)</td><td style=\"text-align: left;\">Loeys-Dietz syndrome 4 (OMIM:614816)</td><td style=\"text-align: left;\">NM_003238.6:c.297C>A (heterozygous)</td><td style=\"text-align: left;\">Bifid uvula (HP:0000193); Scoliosis (HP:0002650); Joint hypermobility (HP:0001382); Inguinal hernia (HP:0000023); Aortic root aneurysm (HP:0002616); Aortic dissection (HP:0002647); excluded: Hypertelorism (HP:0000316); excluded: Retrognathia (HP:0000278); excluded: High palate (HP:0000218); excluded: Downslanted palpebral fissures (HP:0000494); excluded: Abnormal sternum morphology (HP:0000766); excluded: Spondylolisthesis (HP:0003302); excluded: Arachnodactyly (HP:0001166); excluded: Pes planus (HP:0001763); excluded: Talipes equinovarus (HP:0001762); excluded: Bruising susceptibility (HP:0000978); excluded: Striae distensae (HP:0001065); excluded: Mitral valve prolapse (HP:0001634); excluded: Bicuspid aortic valve (HP:0001647); excluded: Tall stature (HP:0000098); excluded: Soft skin (HP:0000977); excluded: Varicose veins (HP:0002619)</td></tr>\n",
       "<tr><td style=\"text-align: left;\">TAA288 III:2 (FEMALE; P50Y)</td><td style=\"text-align: left;\">Loeys-Dietz syndrome 4 (OMIM:614816)</td><td style=\"text-align: left;\">NM_003238.6:c.1022_1026del (heterozygous)</td><td style=\"text-align: left;\">High palate (HP:0000218); Scoliosis (HP:0002650); Joint hypermobility (HP:0001382); Pes planus (HP:0001763); excluded: Hypertelorism (HP:0000316); excluded: Retrognathia (HP:0000278); excluded: Malar flattening (HP:0000272); excluded: Downslanted palpebral fissures (HP:0000494); excluded: Abnormal sternum morphology (HP:0000766); excluded: Arachnodactyly (HP:0001166); excluded: Striae distensae (HP:0001065); excluded: Inguinal hernia (HP:0000023); excluded: Mitral valve prolapse (HP:0001634); excluded: Pneumothorax (HP:0002107); excluded: Emphysema (HP:0002097); excluded: Dilatation of the cerebral artery (HP:0004944); excluded: Ectopia lentis (HP:0001083)</td></tr>\n",
       "<tr><td style=\"text-align: left;\">TAA288 III:3 (MALE; P1M10D)</td><td style=\"text-align: left;\">Loeys-Dietz syndrome 4 (OMIM:614816)</td><td style=\"text-align: left;\">NM_003238.6:c.1022_1026del (heterozygous)</td><td style=\"text-align: left;\">Inguinal hernia (HP:0000023); Tall stature (HP:0000098); excluded: Mitral valve prolapse (HP:0001634); excluded: Emphysema (HP:0002097)</td></tr>\n",
       "<tr><td style=\"text-align: left;\">TAA288 III:4 (FEMALE; P46Y)</td><td style=\"text-align: left;\">Loeys-Dietz syndrome 4 (OMIM:614816)</td><td style=\"text-align: left;\">NM_003238.6:c.1022_1026del (heterozygous)</td><td style=\"text-align: left;\">excluded: Mitral valve prolapse (HP:0001634); excluded: Dilatation of the cerebral artery (HP:0004944)</td></tr>\n",
       "<tr><td style=\"text-align: left;\">TAA288 III:5 (MALE; P47Y)</td><td style=\"text-align: left;\">Loeys-Dietz syndrome 4 (OMIM:614816)</td><td style=\"text-align: left;\">NM_003238.6:c.1022_1026del (heterozygous)</td><td style=\"text-align: left;\">Inguinal hernia (HP:0000023); excluded: Mitral valve prolapse (HP:0001634); excluded: Pneumothorax (HP:0002107); excluded: Emphysema (HP:0002097)</td></tr>\n",
       "<tr><td style=\"text-align: left;\">TAA288 III:8 (FEMALE; P32Y)</td><td style=\"text-align: left;\">Loeys-Dietz syndrome 4 (OMIM:614816)</td><td style=\"text-align: left;\">NM_003238.6:c.1022_1026del (heterozygous)</td><td style=\"text-align: left;\">High palate (HP:0000218); Scoliosis (HP:0002650); Arachnodactyly (HP:0001166); Joint hypermobility (HP:0001382); Aortic root aneurysm (HP:0002616); excluded: Hypertelorism (HP:0000316); excluded: Retrognathia (HP:0000278); excluded: Malar flattening (HP:0000272); excluded: Downslanted palpebral fissures (HP:0000494); excluded: Abnormal sternum morphology (HP:0000766); excluded: Pes planus (HP:0001763); excluded: Striae distensae (HP:0001065); excluded: Inguinal hernia (HP:0000023); excluded: Mitral valve prolapse (HP:0001634); excluded: Arterial tortuosity (HP:0005116); excluded: Pneumothorax (HP:0002107); excluded: Emphysema (HP:0002097); excluded: Dilatation of the cerebral artery (HP:0004944); excluded: Ectopia lentis (HP:0001083)</td></tr>\n",
       "<tr><td style=\"text-align: left;\">TAA288 III:9 (MALE; P43Y)</td><td style=\"text-align: left;\">Loeys-Dietz syndrome 4 (OMIM:614816)</td><td style=\"text-align: left;\">NM_003238.6:c.1022_1026del (heterozygous)</td><td style=\"text-align: left;\">Tall stature (HP:0000098); excluded: Abnormal sternum morphology (HP:0000766); excluded: Mitral valve prolapse (HP:0001634); excluded: Pneumothorax (HP:0002107); excluded: Emphysema (HP:0002097)</td></tr>\n",
       "<tr><td style=\"text-align: left;\">TAA288 III:11 (MALE; P42Y)</td><td style=\"text-align: left;\">Loeys-Dietz syndrome 4 (OMIM:614816)</td><td style=\"text-align: left;\">NM_003238.6:c.1022_1026del (heterozygous)</td><td style=\"text-align: left;\">Abnormal sternum morphology (HP:0000766); Arachnodactyly (HP:0001166); Pes planus (HP:0001763); Striae distensae (HP:0001065); Inguinal hernia (HP:0000023); Tall stature (HP:0000098); excluded: High palate (HP:0000218); excluded: Scoliosis (HP:0002650); excluded: Joint hypermobility (HP:0001382); excluded: Mitral valve prolapse (HP:0001634); excluded: Pneumothorax (HP:0002107); excluded: Emphysema (HP:0002097)</td></tr>\n",
       "<tr><td style=\"text-align: left;\">TAA288 III:12 (MALE; P39Y)</td><td style=\"text-align: left;\">Loeys-Dietz syndrome 4 (OMIM:614816)</td><td style=\"text-align: left;\">NM_003238.6:c.1022_1026del (heterozygous)</td><td style=\"text-align: left;\">High palate (HP:0000218); Abnormal sternum morphology (HP:0000766); Joint hypermobility (HP:0001382); Pes planus (HP:0001763); Striae distensae (HP:0001065); Tall stature (HP:0000098); excluded: Scoliosis (HP:0002650); excluded: Inguinal hernia (HP:0000023); excluded: Mitral valve prolapse (HP:0001634); excluded: Pneumothorax (HP:0002107); excluded: Emphysema (HP:0002097)</td></tr>\n",
       "<tr><td style=\"text-align: left;\">TAA288 IV:1 (MALE; P22Y)</td><td style=\"text-align: left;\">Loeys-Dietz syndrome 4 (OMIM:614816)</td><td style=\"text-align: left;\">NM_003238.6:c.1022_1026del (heterozygous)</td><td style=\"text-align: left;\">High palate (HP:0000218); Scoliosis (HP:0002650); Joint hypermobility (HP:0001382); Pes planus (HP:0001763); Striae distensae (HP:0001065); Inguinal hernia (HP:0000023); Aortic root aneurysm (HP:0002616); excluded: Hypertelorism (HP:0000316); excluded: Retrognathia (HP:0000278); excluded: Malar flattening (HP:0000272); excluded: Downslanted palpebral fissures (HP:0000494); excluded: Abnormal sternum morphology (HP:0000766); excluded: Arachnodactyly (HP:0001166); excluded: Mitral valve prolapse (HP:0001634); excluded: Pneumothorax (HP:0002107); excluded: Emphysema (HP:0002097); excluded: Dilatation of the cerebral artery (HP:0004944); excluded: Ectopia lentis (HP:0001083)</td></tr>\n",
       "<tr><td style=\"text-align: left;\">TAA288 IV:2 (MALE; P18Y)</td><td style=\"text-align: left;\">Loeys-Dietz syndrome 4 (OMIM:614816)</td><td style=\"text-align: left;\">NM_003238.6:c.1022_1026del (heterozygous)</td><td style=\"text-align: left;\">Retrognathia (HP:0000278); High palate (HP:0000218); Arachnodactyly (HP:0001166); Joint hypermobility (HP:0001382); Pes planus (HP:0001763); Striae distensae (HP:0001065); Mitral valve prolapse (HP:0001634); Aortic root aneurysm (HP:0002616); excluded: Hypertelorism (HP:0000316); excluded: Malar flattening (HP:0000272); excluded: Downslanted palpebral fissures (HP:0000494); excluded: Scoliosis (HP:0002650); excluded: Abnormal sternum morphology (HP:0000766); excluded: Inguinal hernia (HP:0000023); excluded: Pneumothorax (HP:0002107); excluded: Emphysema (HP:0002097); excluded: Dilatation of the cerebral artery (HP:0004944); excluded: Ectopia lentis (HP:0001083)</td></tr>\n",
       "<tr><td style=\"text-align: left;\">TAA288 IV:3 (MALE; P10Y)</td><td style=\"text-align: left;\">Loeys-Dietz syndrome 4 (OMIM:614816)</td><td style=\"text-align: left;\">NM_003238.6:c.1022_1026del (heterozygous)</td><td style=\"text-align: left;\">High palate (HP:0000218); Abnormal sternum morphology (HP:0000766); Mitral valve prolapse (HP:0001634); Aortic root aneurysm (HP:0002616); excluded: Hypertelorism (HP:0000316); excluded: Retrognathia (HP:0000278); excluded: Malar flattening (HP:0000272); excluded: Downslanted palpebral fissures (HP:0000494); excluded: Scoliosis (HP:0002650); excluded: Joint hypermobility (HP:0001382); excluded: Pes planus (HP:0001763); excluded: Striae distensae (HP:0001065); excluded: Inguinal hernia (HP:0000023); excluded: Pneumothorax (HP:0002107); excluded: Emphysema (HP:0002097); excluded: Ectopia lentis (HP:0001083)</td></tr>\n",
       "<tr><td style=\"text-align: left;\">MS239 III:16 (MALE; P59Y)</td><td style=\"text-align: left;\">Loeys-Dietz syndrome 4 (OMIM:614816)</td><td style=\"text-align: left;\">NM_003238.6:c.687C>A (heterozygous)</td><td style=\"text-align: left;\">High palate (HP:0000218); Abnormal sternum morphology (HP:0000766); Pes planus (HP:0001763); Striae distensae (HP:0001065); Aortic root aneurysm (HP:0002616); Arterial tortuosity (HP:0005116); excluded: Hypertelorism (HP:0000316); excluded: Retrognathia (HP:0000278); excluded: Malar flattening (HP:0000272); excluded: Downslanted palpebral fissures (HP:0000494); excluded: Scoliosis (HP:0002650); excluded: Spondylolisthesis (HP:0003302); excluded: Arachnodactyly (HP:0001166); excluded: Joint hypermobility (HP:0001382); excluded: Dural ectasia (HP:0100775); excluded: Inguinal hernia (HP:0000023); excluded: Mitral valve prolapse (HP:0001634); excluded: Pneumothorax (HP:0002107); excluded: Emphysema (HP:0002097); excluded: Dilatation of the cerebral artery (HP:0004944); excluded: Protrusio acetabuli (HP:0003179); excluded: Ectopia lentis (HP:0001083)</td></tr>\n",
       "<tr><td style=\"text-align: left;\">MS239 IV:2 (MALE; P56Y)</td><td style=\"text-align: left;\">Loeys-Dietz syndrome 4 (OMIM:614816)</td><td style=\"text-align: left;\">NM_003238.6:c.687C>A (heterozygous)</td><td style=\"text-align: left;\">High palate (HP:0000218); Abnormal sternum morphology (HP:0000766); Spondylolisthesis (HP:0003302); Arachnodactyly (HP:0001166); Pes planus (HP:0001763); Striae distensae (HP:0001065); Dural ectasia (HP:0100775); Mitral valve prolapse (HP:0001634); Aortic root aneurysm (HP:0002616); Arterial tortuosity (HP:0005116); Emphysema (HP:0002097); Tall stature (HP:0000098); Protrusio acetabuli (HP:0003179); excluded: Hypertelorism (HP:0000316); excluded: Retrognathia (HP:0000278); excluded: Malar flattening (HP:0000272); excluded: Downslanted palpebral fissures (HP:0000494); excluded: Scoliosis (HP:0002650); excluded: Joint hypermobility (HP:0001382); excluded: Inguinal hernia (HP:0000023); excluded: Pneumothorax (HP:0002107); excluded: Dilatation of the cerebral artery (HP:0004944); excluded: Ectopia lentis (HP:0001083)</td></tr>\n",
       "<tr><td style=\"text-align: left;\">MS239 IV:12 (FEMALE; P41Y)</td><td style=\"text-align: left;\">Loeys-Dietz syndrome 4 (OMIM:614816)</td><td style=\"text-align: left;\">NM_003238.6:c.687C>A (heterozygous)</td><td style=\"text-align: left;\">Retrognathia (HP:0000278); Scoliosis (HP:0002650); Arachnodactyly (HP:0001166); Joint hypermobility (HP:0001382); Dural ectasia (HP:0100775); Inguinal hernia (HP:0000023); Aortic root aneurysm (HP:0002616); Pneumothorax (HP:0002107); excluded: Hypertelorism (HP:0000316); excluded: Malar flattening (HP:0000272); excluded: High palate (HP:0000218); excluded: Downslanted palpebral fissures (HP:0000494); excluded: Abnormal sternum morphology (HP:0000766); excluded: Spondylolisthesis (HP:0003302); excluded: Pes planus (HP:0001763); excluded: Striae distensae (HP:0001065); excluded: Mitral valve prolapse (HP:0001634); excluded: Protrusio acetabuli (HP:0003179); excluded: Ectopia lentis (HP:0001083)</td></tr>\n",
       "<tr><td style=\"text-align: left;\">MS239 IV:20 (FEMALE; P39Y)</td><td style=\"text-align: left;\">Loeys-Dietz syndrome 4 (OMIM:614816)</td><td style=\"text-align: left;\">NM_003238.6:c.687C>A (heterozygous)</td><td style=\"text-align: left;\">High palate (HP:0000218); Abnormal sternum morphology (HP:0000766); Arachnodactyly (HP:0001166); Joint hypermobility (HP:0001382); Pes planus (HP:0001763); Aortic root aneurysm (HP:0002616); excluded: Hypertelorism (HP:0000316); excluded: Retrognathia (HP:0000278); excluded: Malar flattening (HP:0000272); excluded: Downslanted palpebral fissures (HP:0000494); excluded: Scoliosis (HP:0002650); excluded: Spondylolisthesis (HP:0003302); excluded: Striae distensae (HP:0001065); excluded: Inguinal hernia (HP:0000023); excluded: Mitral valve prolapse (HP:0001634); excluded: Pneumothorax (HP:0002107); excluded: Protrusio acetabuli (HP:0003179); excluded: Ectopia lentis (HP:0001083)</td></tr>\n",
       "<tr><td style=\"text-align: left;\">MS239 IV:22 (MALE; P27Y)</td><td style=\"text-align: left;\">Loeys-Dietz syndrome 4 (OMIM:614816)</td><td style=\"text-align: left;\">NM_003238.6:c.687C>A (heterozygous)</td><td style=\"text-align: left;\">Pes planus (HP:0001763); Striae distensae (HP:0001065); Aortic root aneurysm (HP:0002616); excluded: Hypertelorism (HP:0000316); excluded: Retrognathia (HP:0000278); excluded: Malar flattening (HP:0000272); excluded: High palate (HP:0000218); excluded: Downslanted palpebral fissures (HP:0000494); excluded: Scoliosis (HP:0002650); excluded: Abnormal sternum morphology (HP:0000766); excluded: Spondylolisthesis (HP:0003302); excluded: Arachnodactyly (HP:0001166); excluded: Joint hypermobility (HP:0001382); excluded: Dural ectasia (HP:0100775); excluded: Inguinal hernia (HP:0000023); excluded: Mitral valve prolapse (HP:0001634); excluded: Pneumothorax (HP:0002107); excluded: Protrusio acetabuli (HP:0003179); excluded: Ectopia lentis (HP:0001083)</td></tr>\n",
       "<tr><td style=\"text-align: left;\">MS239 V:5 (MALE; P17Y)</td><td style=\"text-align: left;\">Loeys-Dietz syndrome 4 (OMIM:614816)</td><td style=\"text-align: left;\">NM_003238.6:c.687C>A (heterozygous)</td><td style=\"text-align: left;\">Joint hypermobility (HP:0001382); Pes planus (HP:0001763); Striae distensae (HP:0001065); Tall stature (HP:0000098); excluded: Hypertelorism (HP:0000316); excluded: Retrognathia (HP:0000278); excluded: Malar flattening (HP:0000272); excluded: High palate (HP:0000218); excluded: Downslanted palpebral fissures (HP:0000494); excluded: Scoliosis (HP:0002650); excluded: Abnormal sternum morphology (HP:0000766); excluded: Spondylolisthesis (HP:0003302); excluded: Arachnodactyly (HP:0001166); excluded: Inguinal hernia (HP:0000023); excluded: Mitral valve prolapse (HP:0001634); excluded: Aortic root aneurysm (HP:0002616); excluded: Pneumothorax (HP:0002107); excluded: Protrusio acetabuli (HP:0003179)</td></tr>\n",
       "<tr><td style=\"text-align: left;\">MS1758 II:8 (MALE; P50Y)</td><td style=\"text-align: left;\">Loeys-Dietz syndrome 4 (OMIM:614816)</td><td style=\"text-align: left;\">NM_003238.6:c.274G>T (heterozygous)</td><td style=\"text-align: left;\">Abnormal sternum morphology (HP:0000766); Arachnodactyly (HP:0001166); Joint hypermobility (HP:0001382); Pes planus (HP:0001763); Dural ectasia (HP:0100775); Arterial tortuosity (HP:0005116); Emphysema (HP:0002097); excluded: Hypertelorism (HP:0000316); excluded: Retrognathia (HP:0000278); excluded: Malar flattening (HP:0000272); excluded: High palate (HP:0000218); excluded: Downslanted palpebral fissures (HP:0000494); excluded: Scoliosis (HP:0002650); excluded: Spondylolisthesis (HP:0003302); excluded: Striae distensae (HP:0001065); excluded: Inguinal hernia (HP:0000023); excluded: Mitral valve prolapse (HP:0001634); excluded: Pneumothorax (HP:0002107); excluded: Protrusio acetabuli (HP:0003179); excluded: Ectopia lentis (HP:0001083)</td></tr>\n",
       "<tr><td style=\"text-align: left;\">MS211 III:14 (MALE; P33Y)</td><td style=\"text-align: left;\">Loeys-Dietz syndrome 4 (OMIM:614816)</td><td style=\"text-align: left;\">NM_003238.6:c.890_905del (heterozygous)</td><td style=\"text-align: left;\">Arachnodactyly (HP:0001166); Joint hypermobility (HP:0001382); Inguinal hernia (HP:0000023); excluded: Hypertelorism (HP:0000316); excluded: Retrognathia (HP:0000278); excluded: Malar flattening (HP:0000272); excluded: High palate (HP:0000218); excluded: Downslanted palpebral fissures (HP:0000494); excluded: Scoliosis (HP:0002650); excluded: Abnormal sternum morphology (HP:0000766); excluded: Pes planus (HP:0001763); excluded: Striae distensae (HP:0001065); excluded: Mitral valve prolapse (HP:0001634); excluded: Arterial tortuosity (HP:0005116); excluded: Pneumothorax (HP:0002107); excluded: Protrusio acetabuli (HP:0003179); excluded: Ectopia lentis (HP:0001083)</td></tr>\n",
       "</table>"
      ],
      "text/plain": [
       "<IPython.core.display.HTML object>"
      ]
     },
     "metadata": {},
     "output_type": "display_data"
    }
   ],
   "source": [
    "table = IndividualTable(cvalidator.get_error_free_individual_list())\n",
    "display(HTML(table.to_html()))"
   ]
  },
  {
   "cell_type": "code",
   "execution_count": 6,
   "id": "fcef4d55-0cb7-4892-8a18-34c1da540503",
   "metadata": {},
   "outputs": [
    {
     "name": "stdout",
     "output_type": "stream",
     "text": [
      "[pyphetools] Ingested 34 GA4GH phenopackets.\n",
      "\tLoeys-Dietz syndrome 4 (OMIM:614816): n=34\n",
      "We found a total of 31 unique HPO terms\n",
      "Extracted disease: Loeys-Dietz syndrome 4 (OMIM:614816)\n",
      "Wrote HPOA disease file to OMIM-614816.tab\n"
     ]
    }
   ],
   "source": [
    "pmid = \"PMID:22772368\"\n",
    "df = timporter.create_hpoa_from_phenopackets(pmid=pmid, moi=\"Autosomal dominant\")"
   ]
  },
  {
   "cell_type": "code",
   "execution_count": null,
   "id": "ddf1447d-67ca-4a91-a401-1827d9d553c7",
   "metadata": {},
   "outputs": [],
   "source": []
  }
 ],
 "metadata": {
  "kernelspec": {
   "display_name": "Python 3 (ipykernel)",
   "language": "python",
   "name": "python3"
  },
  "language_info": {
   "codemirror_mode": {
    "name": "ipython",
    "version": 3
   },
   "file_extension": ".py",
   "mimetype": "text/x-python",
   "name": "python",
   "nbconvert_exporter": "python",
   "pygments_lexer": "ipython3",
   "version": "3.8.10"
  }
 },
 "nbformat": 4,
 "nbformat_minor": 5
}
