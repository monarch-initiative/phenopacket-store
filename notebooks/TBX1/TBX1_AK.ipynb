{
 "cells": [
  {
   "cell_type": "code",
   "execution_count": 78,
   "id": "1d3f997e",
   "metadata": {
    "scrolled": true
   },
   "outputs": [
    {
     "name": "stdout",
     "output_type": "stream",
     "text": [
      "Using pyphetools version 0.9.49\n",
      "HPO version 2024-02-08\n"
     ]
    },
    {
     "data": {
      "text/html": [
       "<table style=\"border: 2px solid black;\">\n",
       "\n",
       "<tr>\n",
       "            <th>Result</th>\n",
       "            <th>Columns</th>\n",
       "        </tr>\n",
       "        \n",
       "<tr><td>Mapped</td><td>HP:0000316; HP:0000581; HP:0000369; HP:0000377; HP:0000460; HP:0000175; HP:0000347; HP:0001999; HP:0000220; HP:0001636; HP:0010882; HP:0001631; HP:0031834; HP:0011613; HP:0012020; HP:0001629; HP:0001626; HP:0000829; HP:0010515; HP:0005403; HP:0001263; HP:0000407; HP:0010442; HP:0001159; HP:0004322; HP:0100647</td></tr>\n",
       "<tr><td>Unmapped</td><td><q>Authors</q>; <q>Individual</q>; <q>PMID</q>; <q>Title</q>; <q>Ref. Genome</q>; <q>gene</q>; <q>transcript</q>; <q>allele</q>; <q>variant.comment</q>; <q>Age</q>; <q>Sex</q>; <q>Miscelaneous</q></td></tr>\n",
       "</table>\n"
      ],
      "text/plain": [
       "<IPython.core.display.HTML object>"
      ]
     },
     "metadata": {},
     "output_type": "display_data"
    }
   ],
   "source": [
    "import pandas as pd\n",
    "import pyphetools\n",
    "from IPython.display import display, HTML\n",
    "from pyphetools.creation import *\n",
    "from pyphetools.visualization import *\n",
    "from pyphetools.validation import *\n",
    "\n",
    "pd.set_option('display.max_colwidth', None) # show entire column contents, important!\n",
    "print(f\"Using pyphetools version {pyphetools.__version__}\")\n",
    "\n",
    "parser = HpoParser(\"phenopackets/hp.json\")\n",
    "hpo_cr = parser.get_hpo_concept_recognizer()\n",
    "hpo_version = parser.get_version()\n",
    "hpo_ontology = parser.get_ontology()\n",
    "metadata = MetaData(created_by=\"ORCID:0000-0002-1526-4557\")\n",
    "metadata.default_versions_with_hpo(version=hpo_version)\n",
    "print(f\"HPO version {hpo_version}\")\n",
    "\n",
    "df = pd.read_excel(\"phenopackets/TBX1_phenotype_genotype_trim.xlsx\")\n",
    "df.head(2)\n",
    "\n",
    "generator = SimpleColumnMapperGenerator(df=df, hpo_cr=hpo_cr, observed=\"1\", excluded=\"0\")\n",
    "column_mapper_list = generator.try_mapping_columns()\n",
    "display(HTML(generator.to_html()))\n"
   ]
  },
  {
   "cell_type": "code",
   "execution_count": 79,
   "id": "6fc7a99b",
   "metadata": {},
   "outputs": [
    {
     "name": "stdout",
     "output_type": "stream",
     "text": [
      "https://rest.variantvalidator.org/VariantValidator/variantvalidator/hg38/NM_080647.1%3Ac.1253del/NM_080647.1?content-type=application%2Fjson\n",
      "https://rest.variantvalidator.org/VariantValidator/variantvalidator/hg38/NM_080647.1%3Ac.1274_1281del/NM_080647.1?content-type=application%2Fjson\n",
      "https://rest.variantvalidator.org/VariantValidator/variantvalidator/hg38/NM_080647.1%3Ac.1299_1321del/NM_080647.1?content-type=application%2Fjson\n",
      "https://rest.variantvalidator.org/VariantValidator/variantvalidator/hg38/NM_080647.1%3Ac.1293_1315del/NM_080647.1?content-type=application%2Fjson\n",
      "https://rest.variantvalidator.org/VariantValidator/variantvalidator/hg38/NM_080647.1%3Ac.1399_1428dup/NM_080647.1?content-type=application%2Fjson\n",
      "https://rest.variantvalidator.org/VariantValidator/variantvalidator/hg38/NM_080647.1%3Ac.146_202del/NM_080647.1?content-type=application%2Fjson\n",
      "https://rest.variantvalidator.org/VariantValidator/variantvalidator/hg38/NM_080647.1%3Ac.443T>A/NM_080647.1?content-type=application%2Fjson\n",
      "https://rest.variantvalidator.org/VariantValidator/variantvalidator/hg38/NM_080647.1%3Ac.928G>A/NM_080647.1?content-type=application%2Fjson\n",
      "https://rest.variantvalidator.org/VariantValidator/variantvalidator/hg38/NM_080647.1%3Ac.1223del/NM_080647.1?content-type=application%2Fjson\n",
      "https://rest.variantvalidator.org/VariantValidator/variantvalidator/hg38/NM_080647.1%3Ac.582C>G/NM_080647.1?content-type=application%2Fjson\n",
      "https://rest.variantvalidator.org/VariantValidator/variantvalidator/hg38/NM_080647.1%3Ac.967_977dup/NM_080647.1?content-type=application%2Fjson\n",
      "https://rest.variantvalidator.org/VariantValidator/variantvalidator/hg38/NM_080647.1%3Ac.1158_1159delinsT/NM_080647.1?content-type=application%2Fjson\n",
      "https://rest.variantvalidator.org/VariantValidator/variantvalidator/hg38/NM_080647.1%3Ac.1009+1G>C/NM_080647.1?content-type=application%2Fjson\n",
      "Extracted 13 variants with Variant Validator\n"
     ]
    }
   ],
   "source": [
    "var_d = {}\n",
    "tbx1_transcript = \"NM_080647.1\"\n",
    "varValidator = VariantValidator(genome_build=\"hg38\", transcript=tbx1_transcript)\n",
    "for v in df[\"allele\"].unique():\n",
    "    var = varValidator.encode_hgvs(v)\n",
    "    var_d [v] = var\n",
    "print(f\"Extracted {len(var_d)} variants with Variant Validator\")"
   ]
  },
  {
   "cell_type": "code",
   "execution_count": 80,
   "id": "fecf5590",
   "metadata": {},
   "outputs": [],
   "source": [
    "varMapper = VariantColumnMapper(variant_d=var_d,\n",
    "                               variant_column_name=\"allele\",\n",
    "                               default_genotype=\"heterozygous\")"
   ]
  },
  {
   "cell_type": "code",
   "execution_count": 81,
   "id": "65a25db2",
   "metadata": {},
   "outputs": [],
   "source": [
    "ageMapper = AgeColumnMapper.by_year(column_name=\"Age\")\n",
    "sexMapper = SexColumnMapper(male_symbol=\"M\", female_symbol=\"F\", column_name=\"Sex\")"
   ]
  },
  {
   "cell_type": "code",
   "execution_count": 82,
   "id": "af8a032b",
   "metadata": {},
   "outputs": [],
   "source": [
    "TBX1 = Disease(disease_id=\"OMIM:188400\", disease_label=\"DiGeorge syndrome\")\n",
    "disease_d = {\"TBX1\": TBX1}\n",
    "diseaseMapper = DiseaseIdColumnMapper(column_name=\"gene\", disease_id_map=disease_d)"
   ]
  },
  {
   "cell_type": "code",
   "execution_count": 83,
   "id": "5d0a1d77",
   "metadata": {},
   "outputs": [],
   "source": [
    "encoder = MixedCohortEncoder(df=df,\n",
    "                             individual_column_name=\"Individual\",\n",
    "                             hpo_cr=hpo_cr,\n",
    "                             column_mapper_list=column_mapper_list,\n",
    "                             disease_id_mapper=diseaseMapper,\n",
    "                             metadata=metadata,\n",
    "                             pmid_column=\"PMID\",\n",
    "                             title_column=\"Title\",\n",
    "                             variant_mapper=varMapper,\n",
    "                             agemapper=ageMapper,\n",
    "                             sexmapper=sexMapper\n",
    "                            )"
   ]
  },
  {
   "cell_type": "code",
   "execution_count": 84,
   "id": "25da22d5",
   "metadata": {
    "scrolled": false
   },
   "outputs": [
    {
     "ename": "TypeError",
     "evalue": "Individual.__init__() got an unexpected keyword argument 'age'",
     "output_type": "error",
     "traceback": [
      "\u001b[1;31m---------------------------------------------------------------------------\u001b[0m",
      "\u001b[1;31mTypeError\u001b[0m                                 Traceback (most recent call last)",
      "Cell \u001b[1;32mIn[84], line 1\u001b[0m\n\u001b[1;32m----> 1\u001b[0m individuals \u001b[38;5;241m=\u001b[39m encoder\u001b[38;5;241m.\u001b[39mget_individuals()\n",
      "File \u001b[1;32mE:\\Python\\anaconda3\\Lib\\site-packages\\pyphetools\\creation\\mixed_cohort_encoder.py:180\u001b[0m, in \u001b[0;36mMixedCohortEncoder.get_individuals\u001b[1;34m(self)\u001b[0m\n\u001b[0;32m    178\u001b[0m disease \u001b[38;5;241m=\u001b[39m \u001b[38;5;28mself\u001b[39m\u001b[38;5;241m.\u001b[39m_disease_id_mapper\u001b[38;5;241m.\u001b[39mmap_cell(disease_cell_contents)\n\u001b[0;32m    179\u001b[0m cite \u001b[38;5;241m=\u001b[39m Citation(pmid\u001b[38;5;241m=\u001b[39mpmid, title\u001b[38;5;241m=\u001b[39mtitle)\n\u001b[1;32m--> 180\u001b[0m indi \u001b[38;5;241m=\u001b[39m Individual(individual_id\u001b[38;5;241m=\u001b[39mindividual_id,\n\u001b[0;32m    181\u001b[0m                     sex\u001b[38;5;241m=\u001b[39msex,\n\u001b[0;32m    182\u001b[0m                     age\u001b[38;5;241m=\u001b[39mage,\n\u001b[0;32m    183\u001b[0m                     hpo_terms\u001b[38;5;241m=\u001b[39mhpo_terms,\n\u001b[0;32m    184\u001b[0m                     citation\u001b[38;5;241m=\u001b[39mcite,\n\u001b[0;32m    185\u001b[0m                     interpretation_list\u001b[38;5;241m=\u001b[39minterpretation_list,\n\u001b[0;32m    186\u001b[0m                     disease\u001b[38;5;241m=\u001b[39mdisease)\n\u001b[0;32m    187\u001b[0m \u001b[38;5;28;01mif\u001b[39;00m vstatus \u001b[38;5;129;01mis\u001b[39;00m \u001b[38;5;129;01mnot\u001b[39;00m \u001b[38;5;28;01mNone\u001b[39;00m:\n\u001b[0;32m    188\u001b[0m     indi\u001b[38;5;241m.\u001b[39mset_vital_status(vstatus)\n",
      "\u001b[1;31mTypeError\u001b[0m: Individual.__init__() got an unexpected keyword argument 'age'"
     ]
    }
   ],
   "source": [
    "individuals = encoder.get_individuals()"
   ]
  },
  {
   "cell_type": "code",
   "execution_count": null,
   "id": "07be0799",
   "metadata": {},
   "outputs": [],
   "source": [
    "cvalidator = CohortValidator(cohort=individuals, ontology=hpo_ontology, min_hpo=1, allelic_requirement=AllelicRequirement.MONO_ALLELIC)\n",
    "qc = QcVisualizer(cohort_validator=cvalidator)\n",
    "display(HTML(qc.to_summary_html()))"
   ]
  },
  {
   "cell_type": "code",
   "execution_count": null,
   "id": "57acaeee",
   "metadata": {},
   "outputs": [],
   "source": [
    "cohort = cvalidator.get_error_free_individual_list()\n",
    "table = PhenopacketTable(individual_list=individuals, metadata=metadata)\n",
    "display(HTML(table.to_html()))"
   ]
  },
  {
   "cell_type": "code",
   "execution_count": null,
   "id": "55c57375",
   "metadata": {},
   "outputs": [],
   "source": [
    "Individual.output_individuals_as_phenopackets(individual_list=individuals, metadata=metadata)"
   ]
  }
 ],
 "metadata": {
  "kernelspec": {
   "display_name": "Python 3 (ipykernel)",
   "language": "python",
   "name": "python3"
  },
  "language_info": {
   "codemirror_mode": {
    "name": "ipython",
    "version": 3
   },
   "file_extension": ".py",
   "mimetype": "text/x-python",
   "name": "python",
   "nbconvert_exporter": "python",
   "pygments_lexer": "ipython3",
   "version": "3.11.5"
  }
 },
 "nbformat": 4,
 "nbformat_minor": 5
}
