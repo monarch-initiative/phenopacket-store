{
 "cells": [
  {
   "cell_type": "markdown",
   "id": "86f91a2c-88ad-44b9-8c00-919378cce84a",
   "metadata": {},
   "source": [
    "# TBX1 cohort\n",
    "\n",
    "Variants in [TBX1](https://omim.org/entry/602054) are associated with the following diseases\n",
    "\n",
    "- [Conotruncal anomaly face syndrome](https://omim.org/entry/217095)\n",
    "- [DiGeorge syndrome](https://omim.org/entry/188400)\n",
    "- [Tetralogy of Fallot](https://omim.org/entry/187500)\n",
    "- [Velocardiofacial syndrome](https://omim.org/entry/192430)\n",
    "\n",
    "We have assigned the individuals to the diagnosis that best fit the clinical description if the authors did not specifically state the disease diagnosis (for instance, [Ogata et al](https://pubmed.ncbi.nlm.nih.gov/24637876/) described the diagnosis as \"22q11.2 Deletion Syndrome-Like Craniofacial Features and Hypocalcemia\")"
   ]
  },
  {
   "cell_type": "code",
   "execution_count": 1,
   "id": "9694ec46-07fb-4f68-8a04-d071c7dbd55f",
   "metadata": {},
   "outputs": [
    {
     "name": "stdout",
     "output_type": "stream",
     "text": [
      "Using pyphetools version 0.9.54\n"
     ]
    }
   ],
   "source": [
    "import pandas as pd\n",
    "from IPython.display import display, HTML\n",
    "pd.set_option('display.max_colwidth', None) # show entire column contents, important!\n",
    "from collections import defaultdict\n",
    "from pyphetools.creation import *\n",
    "from pyphetools.visualization import *\n",
    "from pyphetools.validation import *\n",
    "import pyphetools\n",
    "print(f\"Using pyphetools version {pyphetools.__version__}\")"
   ]
  },
  {
   "cell_type": "code",
   "execution_count": 2,
   "id": "3db3ffa7-45c1-4896-bf12-2f5b157fb413",
   "metadata": {},
   "outputs": [
    {
     "name": "stdout",
     "output_type": "stream",
     "text": [
      "HPO version 2024-02-27\n"
     ]
    }
   ],
   "source": [
    "parser = HpoParser(hpo_json_file=\"../hp.json\")\n",
    "hpo_cr = parser.get_hpo_concept_recognizer()\n",
    "hpo_version = parser.get_version()\n",
    "hpo_ontology = parser.get_ontology()\n",
    "created_by=\"ORCID:0000-0002-0736-9199\"\n",
    "print(f\"HPO version {hpo_version}\")"
   ]
  },
  {
   "cell_type": "code",
   "execution_count": 3,
   "id": "f7ef3292-e14f-4bbc-94e9-3783f00822c0",
   "metadata": {},
   "outputs": [
    {
     "data": {
      "text/html": [
       "<div>\n",
       "<style scoped>\n",
       "    .dataframe tbody tr th:only-of-type {\n",
       "        vertical-align: middle;\n",
       "    }\n",
       "\n",
       "    .dataframe tbody tr th {\n",
       "        vertical-align: top;\n",
       "    }\n",
       "\n",
       "    .dataframe thead th {\n",
       "        text-align: right;\n",
       "    }\n",
       "</style>\n",
       "<table border=\"1\" class=\"dataframe\">\n",
       "  <thead>\n",
       "    <tr style=\"text-align: right;\">\n",
       "      <th></th>\n",
       "      <th>PMID</th>\n",
       "      <th>title</th>\n",
       "      <th>individual_id</th>\n",
       "      <th>comment</th>\n",
       "      <th>disease_id</th>\n",
       "      <th>disease_label</th>\n",
       "      <th>transcript</th>\n",
       "      <th>allele_1</th>\n",
       "      <th>allele_2</th>\n",
       "      <th>variant.comment</th>\n",
       "      <th>...</th>\n",
       "      <th>Hypoparathyroidism</th>\n",
       "      <th>Aplasia/Hypoplasia of the thymus</th>\n",
       "      <th>T lymphocytopenia</th>\n",
       "      <th>Global developmental delay</th>\n",
       "      <th>Sensorineural hearing impairment</th>\n",
       "      <th>Polydactyly</th>\n",
       "      <th>Syndactyly</th>\n",
       "      <th>Short stature</th>\n",
       "      <th>Graves disease</th>\n",
       "      <th>Miscellaneous</th>\n",
       "    </tr>\n",
       "  </thead>\n",
       "  <tbody>\n",
       "    <tr>\n",
       "      <th>0</th>\n",
       "      <td>str</td>\n",
       "      <td>str</td>\n",
       "      <td>str</td>\n",
       "      <td>optional str</td>\n",
       "      <td>str</td>\n",
       "      <td>str</td>\n",
       "      <td>str</td>\n",
       "      <td>str</td>\n",
       "      <td>str</td>\n",
       "      <td>optional str</td>\n",
       "      <td>...</td>\n",
       "      <td>HP:0000829</td>\n",
       "      <td>HP:0010515</td>\n",
       "      <td>HP:0005403</td>\n",
       "      <td>HP:0001263</td>\n",
       "      <td>HP:0000407</td>\n",
       "      <td>HP:0010442</td>\n",
       "      <td>HP:0001159</td>\n",
       "      <td>HP:0004322</td>\n",
       "      <td>HP:0100647</td>\n",
       "      <td>Miscellaneous</td>\n",
       "    </tr>\n",
       "    <tr>\n",
       "      <th>1</th>\n",
       "      <td>PMID:24637876</td>\n",
       "      <td>TBX1 Mutation Identified by Exome Sequencing in a Japanese Family with 22q11.2 Deletion Syndrome-Like Craniofacial Features and Hypocalcemia</td>\n",
       "      <td>II-2</td>\n",
       "      <td>NaN</td>\n",
       "      <td>OMIM:188400</td>\n",
       "      <td>DiGeorge syndrome</td>\n",
       "      <td>NM_080647.1</td>\n",
       "      <td>c.1253del</td>\n",
       "      <td>na</td>\n",
       "      <td>p.(Tyr418PhefsTer42)</td>\n",
       "      <td>...</td>\n",
       "      <td>observed</td>\n",
       "      <td>excluded</td>\n",
       "      <td>na</td>\n",
       "      <td>observed</td>\n",
       "      <td>observed</td>\n",
       "      <td>excluded</td>\n",
       "      <td>na</td>\n",
       "      <td>na</td>\n",
       "      <td>excluded</td>\n",
       "      <td>NaN</td>\n",
       "    </tr>\n",
       "  </tbody>\n",
       "</table>\n",
       "<p>2 rows × 31 columns</p>\n",
       "</div>"
      ],
      "text/plain": [
       "            PMID  \\\n",
       "0            str   \n",
       "1  PMID:24637876   \n",
       "\n",
       "                                                                                                                                          title  \\\n",
       "0                                                                                                                                           str   \n",
       "1  TBX1 Mutation Identified by Exome Sequencing in a Japanese Family with 22q11.2 Deletion Syndrome-Like Craniofacial Features and Hypocalcemia   \n",
       "\n",
       "  individual_id       comment   disease_id      disease_label   transcript  \\\n",
       "0           str  optional str          str                str          str   \n",
       "1          II-2           NaN  OMIM:188400  DiGeorge syndrome  NM_080647.1   \n",
       "\n",
       "    allele_1 allele_2       variant.comment  ... Hypoparathyroidism  \\\n",
       "0        str      str          optional str  ...         HP:0000829   \n",
       "1  c.1253del       na  p.(Tyr418PhefsTer42)  ...           observed   \n",
       "\n",
       "  Aplasia/Hypoplasia of the thymus T lymphocytopenia  \\\n",
       "0                       HP:0010515        HP:0005403   \n",
       "1                         excluded                na   \n",
       "\n",
       "  Global developmental delay Sensorineural hearing impairment Polydactyly  \\\n",
       "0                 HP:0001263                       HP:0000407  HP:0010442   \n",
       "1                   observed                         observed    excluded   \n",
       "\n",
       "   Syndactyly Short stature Graves disease  Miscellaneous  \n",
       "0  HP:0001159    HP:0004322     HP:0100647  Miscellaneous  \n",
       "1          na            na       excluded            NaN  \n",
       "\n",
       "[2 rows x 31 columns]"
      ]
     },
     "execution_count": 3,
     "metadata": {},
     "output_type": "execute_result"
    }
   ],
   "source": [
    "df = pd.read_excel(\"input/TBX1_individuals.xlsx\")\n",
    "df.head(2)"
   ]
  },
  {
   "cell_type": "code",
   "execution_count": 4,
   "id": "0bd5c6a0-e6f6-45b3-867d-d01bc8e857cc",
   "metadata": {},
   "outputs": [
    {
     "name": "stdout",
     "output_type": "stream",
     "text": [
      "Created encoders for 31 fields\n"
     ]
    }
   ],
   "source": [
    "encoder = CaseTemplateEncoder(df=df, hpo_cr=hpo_cr, created_by=created_by)\n",
    "individuals = encoder.get_individuals()"
   ]
  },
  {
   "cell_type": "code",
   "execution_count": 5,
   "id": "451daa2c-396f-4b95-8bb0-7dbc77d342c7",
   "metadata": {},
   "outputs": [
    {
     "name": "stdout",
     "output_type": "stream",
     "text": [
      "[INFO] encoding variant \"c.1253del\"\n",
      "https://rest.variantvalidator.org/VariantValidator/variantvalidator/hg38/NM_080647.1%3Ac.1253del/NM_080647.1?content-type=application%2Fjson\n"
     ]
    }
   ],
   "source": [
    "## TODO UPDATE TO MANE transcript NM_001379200.1\n",
    "\n",
    "TBX1_transcript = \"NM_080647.1\" \n",
    "vmanager = VariantManager(df=df,\n",
    "                          individual_column_name=\"individual_id\",\n",
    "                          gene_symbol=\"TBX1\",\n",
    "                          transcript=TBX1_transcript,\n",
    "                          allele_1_column_name=\"allele_1\",\n",
    "                          allele_2_column_name=\"allele_2\")"
   ]
  },
  {
   "cell_type": "code",
   "execution_count": 6,
   "id": "b1f1c0ba-a168-4882-8088-a9bd73f1e854",
   "metadata": {},
   "outputs": [
    {
     "data": {
      "text/html": [
       "<div>\n",
       "<style scoped>\n",
       "    .dataframe tbody tr th:only-of-type {\n",
       "        vertical-align: middle;\n",
       "    }\n",
       "\n",
       "    .dataframe tbody tr th {\n",
       "        vertical-align: top;\n",
       "    }\n",
       "\n",
       "    .dataframe thead th {\n",
       "        text-align: right;\n",
       "    }\n",
       "</style>\n",
       "<table border=\"1\" class=\"dataframe\">\n",
       "  <thead>\n",
       "    <tr style=\"text-align: right;\">\n",
       "      <th></th>\n",
       "      <th>status</th>\n",
       "      <th>count</th>\n",
       "      <th>alleles</th>\n",
       "    </tr>\n",
       "  </thead>\n",
       "  <tbody>\n",
       "    <tr>\n",
       "      <th>0</th>\n",
       "      <td>mapped</td>\n",
       "      <td>1</td>\n",
       "      <td>c.1253del</td>\n",
       "    </tr>\n",
       "    <tr>\n",
       "      <th>1</th>\n",
       "      <td>unmapped</td>\n",
       "      <td>0</td>\n",
       "      <td></td>\n",
       "    </tr>\n",
       "  </tbody>\n",
       "</table>\n",
       "</div>"
      ],
      "text/plain": [
       "     status  count    alleles\n",
       "0    mapped      1  c.1253del\n",
       "1  unmapped      0           "
      ]
     },
     "execution_count": 6,
     "metadata": {},
     "output_type": "execute_result"
    }
   ],
   "source": [
    "vmanager.to_summary()"
   ]
  },
  {
   "cell_type": "code",
   "execution_count": 7,
   "id": "8d657e39-7eff-4d15-ae77-5c682891632b",
   "metadata": {},
   "outputs": [],
   "source": [
    "vmanager.add_variants_to_individuals(individuals)"
   ]
  },
  {
   "cell_type": "code",
   "execution_count": 8,
   "id": "2c07cea2-ed65-45db-b957-a8d1edf868f8",
   "metadata": {},
   "outputs": [
    {
     "data": {
      "text/html": [
       "<h2>Cohort validation</h2>\n",
       "<p>No errors found for the cohort with 5 individuals</p>"
      ],
      "text/plain": [
       "<IPython.core.display.HTML object>"
      ]
     },
     "metadata": {},
     "output_type": "display_data"
    }
   ],
   "source": [
    "cvalidator = CohortValidator(cohort=individuals, ontology=hpo_ontology, min_hpo=1,\n",
    "                                allelic_requirement=AllelicRequirement.MONO_ALLELIC)\n",
    "qc = QcVisualizer(cohort_validator=cvalidator)\n",
    "display(HTML(qc.to_summary_html()))"
   ]
  },
  {
   "cell_type": "code",
   "execution_count": 9,
   "id": "f370c528-97d5-4848-92fa-3754ff31b3cb",
   "metadata": {},
   "outputs": [
    {
     "data": {
      "text/html": [
       "<table style=\"border: 2px solid black; align: \"left\">\n",
       "<caption>5 phenopackets - PMID:24637876 (n=5)</caption>\n",
       "<tr><th style=\"text-align: left;font-weight: bold;\">Individual</th><th style=\"text-align: left;font-weight: bold;\">Disease</th><th style=\"text-align: left;font-weight: bold;\">Genotype</th><th style=\"text-align: left;font-weight: bold;\">Phenotypic features</th></tr>\n",
       "<tr><td style=\"text-align: left;\">II-2 (FEMALE; P51Y)</td><td style=\"text-align: left;\">DiGeorge syndrome (OMIM:188400)</td><td style=\"text-align: left;\">NM_080647.1:c.1253del (heterozygous)</td><td style=\"text-align: left;\">Hypertelorism (HP:0000316); Blepharophimosis (HP:0000581); Low-set ears (HP:0000369); Narrow nose (HP:0000460); Micrognathia (HP:0000347); Velopharyngeal insufficiency (HP:0000220); Hypoparathyroidism (HP:0000829); Global developmental delay (HP:0001263); Sensorineural hearing impairment (HP:0000407); excluded: Cleft palate (HP:0000175); excluded: Aplasia/Hypoplasia of the thymus (HP:0010515); excluded: Polydactyly (HP:0010442); excluded: Graves disease (HP:0100647)</td></tr>\n",
       "<tr><td style=\"text-align: left;\">III-1 (FEMALE; P26Y)</td><td style=\"text-align: left;\">DiGeorge syndrome (OMIM:188400)</td><td style=\"text-align: left;\">NM_080647.1:c.1253del (heterozygous)</td><td style=\"text-align: left;\">Hypertelorism (HP:0000316); Blepharophimosis (HP:0000581); Low-set ears (HP:0000369); Narrow nose (HP:0000460); Micrognathia (HP:0000347); Velopharyngeal insufficiency (HP:0000220); Global developmental delay (HP:0001263); excluded: Cleft palate (HP:0000175); excluded: Hypoparathyroidism (HP:0000829); excluded: Sensorineural hearing impairment (HP:0000407); excluded: Polydactyly (HP:0010442); excluded: Graves disease (HP:0100647)</td></tr>\n",
       "<tr><td style=\"text-align: left;\">III-5 (MALE; P19Y)</td><td style=\"text-align: left;\">DiGeorge syndrome (OMIM:188400)</td><td style=\"text-align: left;\">NM_080647.1:c.1253del (heterozygous)</td><td style=\"text-align: left;\">Hypertelorism (HP:0000316); Blepharophimosis (HP:0000581); Low-set ears (HP:0000369); Narrow nose (HP:0000460); Micrognathia (HP:0000347); Velopharyngeal insufficiency (HP:0000220); Hypoparathyroidism (HP:0000829); Global developmental delay (HP:0001263); Graves disease (HP:0100647); excluded: Cleft palate (HP:0000175); excluded: Sensorineural hearing impairment (HP:0000407); excluded: Polydactyly (HP:0010442)</td></tr>\n",
       "<tr><td style=\"text-align: left;\">III-6 (FEMALE; P13Y)</td><td style=\"text-align: left;\">DiGeorge syndrome (OMIM:188400)</td><td style=\"text-align: left;\">NM_080647.1:c.1253del (heterozygous)</td><td style=\"text-align: left;\">Hypertelorism (HP:0000316); Blepharophimosis (HP:0000581); Low-set ears (HP:0000369); Narrow nose (HP:0000460); Micrognathia (HP:0000347); Velopharyngeal insufficiency (HP:0000220); Global developmental delay (HP:0001263); excluded: Cleft palate (HP:0000175); excluded: Hypoparathyroidism (HP:0000829); excluded: Sensorineural hearing impairment (HP:0000407); excluded: Polydactyly (HP:0010442); excluded: Graves disease (HP:0100647)</td></tr>\n",
       "<tr><td style=\"text-align: left;\">III-7 (MALE; P10Y)</td><td style=\"text-align: left;\">DiGeorge syndrome (OMIM:188400)</td><td style=\"text-align: left;\">NM_080647.1:c.1253del (heterozygous)</td><td style=\"text-align: left;\">Hypertelorism (HP:0000316); Blepharophimosis (HP:0000581); Low-set ears (HP:0000369); Narrow nose (HP:0000460); Micrognathia (HP:0000347); Velopharyngeal insufficiency (HP:0000220); Hypoparathyroidism (HP:0000829); Global developmental delay (HP:0001263); excluded: Cleft palate (HP:0000175); excluded: Sensorineural hearing impairment (HP:0000407); excluded: Polydactyly (HP:0010442); excluded: Graves disease (HP:0100647)</td></tr>\n",
       "</table>"
      ],
      "text/plain": [
       "<IPython.core.display.HTML object>"
      ]
     },
     "metadata": {},
     "output_type": "display_data"
    }
   ],
   "source": [
    "individuals = cvalidator.get_error_free_individual_list()\n",
    "table = IndividualTable(individuals)\n",
    "display(HTML(table.to_html()))"
   ]
  },
  {
   "cell_type": "code",
   "execution_count": 10,
   "id": "fada7041-0663-4f1c-844b-f6f5162da3fb",
   "metadata": {},
   "outputs": [],
   "source": [
    "# when we are finished, output phenopackets\n",
    "# encoder.output_individuals_as_phenopackets(individual_list=individuals)\n",
    "# Also, when we are finished, update HPOA annotations for HPO website (see https://monarch-initiative.github.io/pyphetools/developers/hpoa_editing/)"
   ]
  },
  {
   "cell_type": "code",
   "execution_count": null,
   "id": "3203b713-be96-41c4-8f65-06b22699fa23",
   "metadata": {},
   "outputs": [],
   "source": []
  }
 ],
 "metadata": {
  "kernelspec": {
   "display_name": "Python 3 (ipykernel)",
   "language": "python",
   "name": "python3"
  },
  "language_info": {
   "codemirror_mode": {
    "name": "ipython",
    "version": 3
   },
   "file_extension": ".py",
   "mimetype": "text/x-python",
   "name": "python",
   "nbconvert_exporter": "python",
   "pygments_lexer": "ipython3",
   "version": "3.8.10"
  }
 },
 "nbformat": 4,
 "nbformat_minor": 5
}
