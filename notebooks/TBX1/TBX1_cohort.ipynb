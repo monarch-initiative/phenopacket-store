{
 "cells": [
  {
   "cell_type": "markdown",
   "id": "86f91a2c-88ad-44b9-8c00-919378cce84a",
   "metadata": {},
   "source": [
    "# TBX1 cohort\n",
    "\n",
    "Variants in [TBX1](https://omim.org/entry/602054) are associated with the following diseases\n",
    "\n",
    "- [Conotruncal anomaly face syndrome](https://omim.org/entry/217095)\n",
    "- [DiGeorge syndrome](https://omim.org/entry/188400)\n",
    "- [Tetralogy of Fallot](https://omim.org/entry/187500)\n",
    "- [Velocardiofacial syndrome](https://omim.org/entry/192430)\n",
    "\n",
    "We have assigned the individuals to the diagnosis that best fit the clinical description if the authors did not specifically state the disease diagnosis (for instance, [Ogata et al](https://pubmed.ncbi.nlm.nih.gov/24637876/) described the diagnosis as \"22q11.2 Deletion Syndrome-Like Craniofacial Features and Hypocalcemia\")"
   ]
  },
  {
   "cell_type": "code",
   "execution_count": 1,
   "id": "9694ec46-07fb-4f68-8a04-d071c7dbd55f",
   "metadata": {},
   "outputs": [
    {
     "name": "stdout",
     "output_type": "stream",
     "text": [
      "Using pyphetools version 0.9.71\n"
     ]
    }
   ],
   "source": [
    "from pyphetools.creation import TemplateImporter\n",
    "from pyphetools.visualization import IndividualTable, QcVisualizer\n",
    "from IPython.display import display, HTML\n",
    "import pyphetools\n",
    "print(f\"Using pyphetools version {pyphetools.__version__}\")"
   ]
  },
  {
   "cell_type": "code",
   "execution_count": 2,
   "id": "3db3ffa7-45c1-4896-bf12-2f5b157fb413",
   "metadata": {},
   "outputs": [],
   "source": [
    "template = \"input/TBX1_individuals.xlsx\"\n",
    "hp_json = \"../hp.json\"\n",
    "created_by = \"0000-0002-0736-9199\""
   ]
  },
  {
   "cell_type": "code",
   "execution_count": 3,
   "id": "f7ef3292-e14f-4bbc-94e9-3783f00822c0",
   "metadata": {},
   "outputs": [
    {
     "name": "stdout",
     "output_type": "stream",
     "text": [
      "HPO version 2024-03-06\n",
      "Created encoders for 42 fields\n",
      "Importing OMIM:188400, DiGeorge syndrome, HGNC:11592, TBX1,  NM_080647.1\n",
      "We output 26 GA4GH phenopackets to the directory phenopackets\n"
     ]
    }
   ],
   "source": [
    "timporter = TemplateImporter(template=template, hp_json=hp_json, created_by=created_by)\n",
    "individual_list, cvalidator = timporter.import_phenopackets_from_template();"
   ]
  },
  {
   "cell_type": "code",
   "execution_count": 4,
   "id": "0bd5c6a0-e6f6-45b3-867d-d01bc8e857cc",
   "metadata": {},
   "outputs": [
    {
     "data": {
      "text/html": [
       "<h2>Cohort validation</h2>\n",
       "<p>Errors found with 21 of 26 phenopackets.</p>\n",
       "<table style=\"border: 2px solid black; align: \"left\">\n",
       "<caption>Error counts</caption>\n",
       "<tr><th style=\"text-align: left;font-weight: bold;\">Level</th><th style=\"text-align: left;font-weight: bold;\">Error category</th><th style=\"text-align: left;font-weight: bold;\">Count</th></tr>\n",
       "<tr><td style=\"text-align: left;\">WARNING</td><td style=\"text-align: left;\">REDUNDANT</td><td style=\"text-align: left;\">38</td></tr>\n",
       "</table>\n",
       "<p>A total of 38 issues were fixed and no individual was removed from the cohort.</p>"
      ],
      "text/plain": [
       "<IPython.core.display.HTML object>"
      ]
     },
     "metadata": {},
     "output_type": "display_data"
    }
   ],
   "source": [
    "qc = QcVisualizer(cohort_validator=cvalidator)\n",
    "display(HTML(qc.to_summary_html()))"
   ]
  },
  {
   "cell_type": "code",
   "execution_count": 5,
   "id": "fada7041-0663-4f1c-844b-f6f5162da3fb",
   "metadata": {},
   "outputs": [
    {
     "data": {
      "text/html": [
       "<table style=\"border: 2px solid black; align: \"left\">\n",
       "<caption>26 phenopackets - PMID:24637876 (n=5); PMID:11748311 (n=1); PMID:16684884 (n=3); PMID:19948535 (n=1); PMID:20937753 (n=1); PMID:14585638 (n=5); PMID:17273972 (n=2); PMID:30083032 (n=1); PMID:32110744 (n=4); PMID:30137364 (n=3)</caption>\n",
       "<tr><th style=\"text-align: left;font-weight: bold;\">Individual</th><th style=\"text-align: left;font-weight: bold;\">Disease</th><th style=\"text-align: left;font-weight: bold;\">Genotype</th><th style=\"text-align: left;font-weight: bold;\">Phenotypic features</th></tr>\n",
       "<tr><td style=\"text-align: left;\">II-2 (FEMALE; P51Y)</td><td style=\"text-align: left;\">DiGeorge syndrome (OMIM:188400)</td><td style=\"text-align: left;\">NM_080647.1:c.1253del (heterozygous)</td><td style=\"text-align: left;\">Hypertelorism (HP:0000316); Blepharophimosis (HP:0000581); Low-set ears (HP:0000369); Narrow nose (HP:0000460); Micrognathia (HP:0000347); Abnormal facial shape (HP:0001999); Velopharyngeal insufficiency (HP:0000220); Hypoparathyroidism (HP:0000829); Global developmental delay (HP:0001263); Sensorineural hearing impairment (HP:0000407); excluded: Cleft palate (HP:0000175); excluded: Tetralogy of Fallot (HP:0001636); excluded: Pulmonary valve atresia (HP:0010882); excluded: Atrial septal defect (HP:0001631); excluded: Aortopulmonary collateral arteries (HP:0031834); excluded: Interrupted aortic arch type B (HP:0011613); excluded: Right aortic arch (HP:0012020); excluded: Ventricular septal defect (HP:0001629); excluded: Aplasia/Hypoplasia of the thymus (HP:0010515); excluded: Polydactyly (HP:0010442); excluded: Graves disease (HP:0100647)</td></tr>\n",
       "<tr><td style=\"text-align: left;\">III-1 (FEMALE; P26Y)</td><td style=\"text-align: left;\">DiGeorge syndrome (OMIM:188400)</td><td style=\"text-align: left;\">NM_080647.1:c.1253del (heterozygous)</td><td style=\"text-align: left;\">Hypertelorism (HP:0000316); Blepharophimosis (HP:0000581); Low-set ears (HP:0000369); Narrow nose (HP:0000460); Micrognathia (HP:0000347); Abnormal facial shape (HP:0001999); Velopharyngeal insufficiency (HP:0000220); Global developmental delay (HP:0001263); excluded: Cleft palate (HP:0000175); excluded: Tetralogy of Fallot (HP:0001636); excluded: Pulmonary valve atresia (HP:0010882); excluded: Atrial septal defect (HP:0001631); excluded: Aortopulmonary collateral arteries (HP:0031834); excluded: Interrupted aortic arch type B (HP:0011613); excluded: Right aortic arch (HP:0012020); excluded: Ventricular septal defect (HP:0001629); excluded: Hypoparathyroidism (HP:0000829); excluded: Sensorineural hearing impairment (HP:0000407); excluded: Polydactyly (HP:0010442); excluded: Graves disease (HP:0100647)</td></tr>\n",
       "<tr><td style=\"text-align: left;\">III-5 (MALE; P19Y)</td><td style=\"text-align: left;\">DiGeorge syndrome (OMIM:188400)</td><td style=\"text-align: left;\">NM_080647.1:c.1253del (heterozygous)</td><td style=\"text-align: left;\">Hypertelorism (HP:0000316); Blepharophimosis (HP:0000581); Low-set ears (HP:0000369); Narrow nose (HP:0000460); Micrognathia (HP:0000347); Abnormal facial shape (HP:0001999); Velopharyngeal insufficiency (HP:0000220); Hypoparathyroidism (HP:0000829); Global developmental delay (HP:0001263); Graves disease (HP:0100647); excluded: Cleft palate (HP:0000175); excluded: Tetralogy of Fallot (HP:0001636); excluded: Pulmonary valve atresia (HP:0010882); excluded: Atrial septal defect (HP:0001631); excluded: Aortopulmonary collateral arteries (HP:0031834); excluded: Interrupted aortic arch type B (HP:0011613); excluded: Right aortic arch (HP:0012020); excluded: Ventricular septal defect (HP:0001629); excluded: Sensorineural hearing impairment (HP:0000407); excluded: Polydactyly (HP:0010442)</td></tr>\n",
       "<tr><td style=\"text-align: left;\">III-6 (FEMALE; P13Y)</td><td style=\"text-align: left;\">DiGeorge syndrome (OMIM:188400)</td><td style=\"text-align: left;\">NM_080647.1:c.1253del (heterozygous)</td><td style=\"text-align: left;\">Hypertelorism (HP:0000316); Blepharophimosis (HP:0000581); Low-set ears (HP:0000369); Narrow nose (HP:0000460); Micrognathia (HP:0000347); Abnormal facial shape (HP:0001999); Velopharyngeal insufficiency (HP:0000220); Global developmental delay (HP:0001263); excluded: Cleft palate (HP:0000175); excluded: Tetralogy of Fallot (HP:0001636); excluded: Pulmonary valve atresia (HP:0010882); excluded: Atrial septal defect (HP:0001631); excluded: Aortopulmonary collateral arteries (HP:0031834); excluded: Interrupted aortic arch type B (HP:0011613); excluded: Right aortic arch (HP:0012020); excluded: Ventricular septal defect (HP:0001629); excluded: Hypoparathyroidism (HP:0000829); excluded: Sensorineural hearing impairment (HP:0000407); excluded: Polydactyly (HP:0010442); excluded: Graves disease (HP:0100647)</td></tr>\n",
       "<tr><td style=\"text-align: left;\">III-7 (MALE; P10Y)</td><td style=\"text-align: left;\">DiGeorge syndrome (OMIM:188400)</td><td style=\"text-align: left;\">NM_080647.1:c.1253del (heterozygous)</td><td style=\"text-align: left;\">Hypertelorism (HP:0000316); Blepharophimosis (HP:0000581); Low-set ears (HP:0000369); Narrow nose (HP:0000460); Micrognathia (HP:0000347); Abnormal facial shape (HP:0001999); Velopharyngeal insufficiency (HP:0000220); Hypoparathyroidism (HP:0000829); Global developmental delay (HP:0001263); excluded: Cleft palate (HP:0000175); excluded: Tetralogy of Fallot (HP:0001636); excluded: Pulmonary valve atresia (HP:0010882); excluded: Atrial septal defect (HP:0001631); excluded: Aortopulmonary collateral arteries (HP:0031834); excluded: Interrupted aortic arch type B (HP:0011613); excluded: Right aortic arch (HP:0012020); excluded: Ventricular septal defect (HP:0001629); excluded: Sensorineural hearing impairment (HP:0000407); excluded: Polydactyly (HP:0010442); excluded: Graves disease (HP:0100647)</td></tr>\n",
       "<tr><td style=\"text-align: left;\">p13 (UNKNOWN; n/a)</td><td style=\"text-align: left;\">DiGeorge syndrome (OMIM:188400)</td><td style=\"text-align: left;\">NM_080647.1:c.1274_1281del (heterozygous)</td><td style=\"text-align: left;\">Abnormal facial shape (HP:0001999); Velopharyngeal insufficiency (HP:0000220); Hypoparathyroidism (HP:0000829); Aplasia/Hypoplasia of the thymus (HP:0010515); T lymphocytopenia (HP:0005403); Global developmental delay (HP:0001263); excluded: Polydactyly (HP:0010442)</td></tr>\n",
       "<tr><td style=\"text-align: left;\">V39/02 (FEMALE; P42Y)</td><td style=\"text-align: left;\">DiGeorge syndrome (OMIM:188400)</td><td style=\"text-align: left;\">NM_080647.1:c.1299_1321del (heterozygous)</td><td style=\"text-align: left;\">Abnormal facial shape (HP:0001999); Velopharyngeal insufficiency (HP:0000220); excluded: Tetralogy of Fallot (HP:0001636); excluded: Pulmonary valve atresia (HP:0010882); excluded: Atrial septal defect (HP:0001631); excluded: Aortopulmonary collateral arteries (HP:0031834); excluded: Interrupted aortic arch type B (HP:0011613); excluded: Right aortic arch (HP:0012020); excluded: Ventricular septal defect (HP:0001629); excluded: Global developmental delay (HP:0001263); excluded: Polydactyly (HP:0010442)</td></tr>\n",
       "<tr><td style=\"text-align: left;\">V39/04 (MALE; P17Y)</td><td style=\"text-align: left;\">DiGeorge syndrome (OMIM:188400)</td><td style=\"text-align: left;\">NM_080647.1:c.1299_1321del (heterozygous)</td><td style=\"text-align: left;\">Abnormal facial shape (HP:0001999); Velopharyngeal insufficiency (HP:0000220); Abnormality of the cardiovascular system (HP:0001626); excluded: Global developmental delay (HP:0001263); excluded: Polydactyly (HP:0010442)</td></tr>\n",
       "<tr><td style=\"text-align: left;\">V39/03 (MALE; P13Y)</td><td style=\"text-align: left;\">DiGeorge syndrome (OMIM:188400)</td><td style=\"text-align: left;\">NM_080647.1:c.1299_1321del (heterozygous)</td><td style=\"text-align: left;\">Abnormal facial shape (HP:0001999); Velopharyngeal insufficiency (HP:0000220); Abnormality of the cardiovascular system (HP:0001626); excluded: Global developmental delay (HP:0001263); excluded: Polydactyly (HP:0010442)</td></tr>\n",
       "<tr><td style=\"text-align: left;\">- (FEMALE; P20Y)</td><td style=\"text-align: left;\">DiGeorge syndrome (OMIM:188400)</td><td style=\"text-align: left;\">NM_080647.1:c.1399_1428dup (heterozygous)</td><td style=\"text-align: left;\">Abnormality of the cardiovascular system (HP:0001626); Syndactyly (HP:0001159); Short stature (HP:0004322); excluded: Hypertelorism (HP:0000316); excluded: Blepharophimosis (HP:0000581); excluded: Low-set ears (HP:0000369); excluded: Narrow nose (HP:0000460); excluded: Micrognathia (HP:0000347); excluded: Abnormal facial shape (HP:0001999); excluded: Global developmental delay (HP:0001263); excluded: Polydactyly (HP:0010442)</td></tr>\n",
       "<tr><td style=\"text-align: left;\">- (MALE; n/a)</td><td style=\"text-align: left;\">DiGeorge syndrome (OMIM:188400)</td><td style=\"text-align: left;\">NM_080647.1:c.146_202del (heterozygous)</td><td style=\"text-align: left;\">Abnormality of the cardiovascular system (HP:0001626)</td></tr>\n",
       "<tr><td style=\"text-align: left;\">F1 (FEMALE; P7Y)</td><td style=\"text-align: left;\">DiGeorge syndrome (OMIM:188400)</td><td style=\"text-align: left;\">NM_080647.1:c.443T>A (heterozygous)</td><td style=\"text-align: left;\">Hypertelorism (HP:0000316); Blepharophimosis (HP:0000581); Low-set ears (HP:0000369); Micrognathia (HP:0000347); Abnormal facial shape (HP:0001999); Velopharyngeal insufficiency (HP:0000220); Tetralogy of Fallot (HP:0001636); Pulmonary valve atresia (HP:0010882); Atrial septal defect (HP:0001631); Aortopulmonary collateral arteries (HP:0031834); excluded: Cleft palate (HP:0000175); excluded: Interrupted aortic arch type B (HP:0011613); excluded: Right aortic arch (HP:0012020); excluded: Ventricular septal defect (HP:0001629); excluded: Hypoparathyroidism (HP:0000829); excluded: Aplasia/Hypoplasia of the thymus (HP:0010515); excluded: Global developmental delay (HP:0001263); excluded: Short stature (HP:0004322)</td></tr>\n",
       "<tr><td style=\"text-align: left;\">F2 (MALE; P13Y)</td><td style=\"text-align: left;\">DiGeorge syndrome (OMIM:188400)</td><td style=\"text-align: left;\">NM_080647.1:c.928G>A (heterozygous)</td><td style=\"text-align: left;\">Hypertelorism (HP:0000316); Blepharophimosis (HP:0000581); Low-set ears (HP:0000369); Micrognathia (HP:0000347); Abnormal facial shape (HP:0001999); Velopharyngeal insufficiency (HP:0000220); Interrupted aortic arch type B (HP:0011613); Ventricular septal defect (HP:0001629); Hypoparathyroidism (HP:0000829); Aplasia/Hypoplasia of the thymus (HP:0010515); Sensorineural hearing impairment (HP:0000407); excluded: Tetralogy of Fallot (HP:0001636); excluded: Pulmonary valve atresia (HP:0010882); excluded: Atrial septal defect (HP:0001631); excluded: Aortopulmonary collateral arteries (HP:0031834); excluded: Right aortic arch (HP:0012020); excluded: Global developmental delay (HP:0001263); excluded: Polydactyly (HP:0010442); excluded: Short stature (HP:0004322)</td></tr>\n",
       "<tr><td style=\"text-align: left;\">F3-1 (FEMALE; P15Y)</td><td style=\"text-align: left;\">DiGeorge syndrome (OMIM:188400)</td><td style=\"text-align: left;\">NM_080647.1:c.1223del (heterozygous)</td><td style=\"text-align: left;\">Hypertelorism (HP:0000316); Abnormal facial shape (HP:0001999); Tetralogy of Fallot (HP:0001636); Right aortic arch (HP:0012020); Aplasia/Hypoplasia of the thymus (HP:0010515); excluded: Blepharophimosis (HP:0000581); excluded: Low-set ears (HP:0000369); excluded: Micrognathia (HP:0000347); excluded: Velopharyngeal insufficiency (HP:0000220); excluded: Pulmonary valve atresia (HP:0010882); excluded: Atrial septal defect (HP:0001631); excluded: Aortopulmonary collateral arteries (HP:0031834); excluded: Interrupted aortic arch type B (HP:0011613); excluded: Ventricular septal defect (HP:0001629); excluded: Hypoparathyroidism (HP:0000829); excluded: Global developmental delay (HP:0001263); excluded: Polydactyly (HP:0010442)</td></tr>\n",
       "<tr><td style=\"text-align: left;\">F3-2 (FEMALE; P46Y)</td><td style=\"text-align: left;\">DiGeorge syndrome (OMIM:188400)</td><td style=\"text-align: left;\">NM_080647.1:c.1223del (heterozygous)</td><td style=\"text-align: left;\">Hypertelorism (HP:0000316); Abnormal facial shape (HP:0001999); Velopharyngeal insufficiency (HP:0000220); excluded: Blepharophimosis (HP:0000581); excluded: Low-set ears (HP:0000369); excluded: Micrognathia (HP:0000347); excluded: Tetralogy of Fallot (HP:0001636); excluded: Pulmonary valve atresia (HP:0010882); excluded: Atrial septal defect (HP:0001631); excluded: Aortopulmonary collateral arteries (HP:0031834); excluded: Interrupted aortic arch type B (HP:0011613); excluded: Right aortic arch (HP:0012020); excluded: Ventricular septal defect (HP:0001629); excluded: Hypoparathyroidism (HP:0000829); excluded: Global developmental delay (HP:0001263); excluded: Polydactyly (HP:0010442)</td></tr>\n",
       "<tr><td style=\"text-align: left;\">F3-3 (MALE; P14Y)</td><td style=\"text-align: left;\">DiGeorge syndrome (OMIM:188400)</td><td style=\"text-align: left;\">NM_080647.1:c.1223del (heterozygous)</td><td style=\"text-align: left;\">Hypertelorism (HP:0000316); Low-set ears (HP:0000369); Abnormal facial shape (HP:0001999); Velopharyngeal insufficiency (HP:0000220); Hypoparathyroidism (HP:0000829); excluded: Blepharophimosis (HP:0000581); excluded: Micrognathia (HP:0000347); excluded: Tetralogy of Fallot (HP:0001636); excluded: Pulmonary valve atresia (HP:0010882); excluded: Atrial septal defect (HP:0001631); excluded: Aortopulmonary collateral arteries (HP:0031834); excluded: Interrupted aortic arch type B (HP:0011613); excluded: Right aortic arch (HP:0012020); excluded: Ventricular septal defect (HP:0001629); excluded: Aplasia/Hypoplasia of the thymus (HP:0010515); excluded: Global developmental delay (HP:0001263); excluded: Polydactyly (HP:0010442)</td></tr>\n",
       "<tr><td style=\"text-align: left;\">H194Q-Patient (MALE; P4Y)</td><td style=\"text-align: left;\">DiGeorge syndrome (OMIM:188400)</td><td style=\"text-align: left;\">NM_080647.1:c.582C>G (heterozygous)</td><td style=\"text-align: left;\">Blepharophimosis (HP:0000581); Low-set ears (HP:0000369); Micrognathia (HP:0000347); Abnormal facial shape (HP:0001999); Global developmental delay (HP:0001263); Short stature (HP:0004322); excluded: Cleft palate (HP:0000175); excluded: Velopharyngeal insufficiency (HP:0000220); excluded: Tetralogy of Fallot (HP:0001636); excluded: Pulmonary valve atresia (HP:0010882); excluded: Atrial septal defect (HP:0001631); excluded: Aortopulmonary collateral arteries (HP:0031834); excluded: Interrupted aortic arch type B (HP:0011613); excluded: Right aortic arch (HP:0012020); excluded: Ventricular septal defect (HP:0001629); excluded: Hypoparathyroidism (HP:0000829)</td></tr>\n",
       "<tr><td style=\"text-align: left;\">H194Q-Father (MALE; n/a)</td><td style=\"text-align: left;\">DiGeorge syndrome (OMIM:188400)</td><td style=\"text-align: left;\">NM_080647.1:c.582C>G (heterozygous)</td><td style=\"text-align: left;\">Blepharophimosis (HP:0000581); Low-set ears (HP:0000369); Micrognathia (HP:0000347); Abnormal facial shape (HP:0001999); Short stature (HP:0004322); excluded: Cleft palate (HP:0000175); excluded: Velopharyngeal insufficiency (HP:0000220); excluded: Tetralogy of Fallot (HP:0001636); excluded: Pulmonary valve atresia (HP:0010882); excluded: Atrial septal defect (HP:0001631); excluded: Aortopulmonary collateral arteries (HP:0031834); excluded: Interrupted aortic arch type B (HP:0011613); excluded: Right aortic arch (HP:0012020); excluded: Ventricular septal defect (HP:0001629); excluded: Hypoparathyroidism (HP:0000829); excluded: Global developmental delay (HP:0001263)</td></tr>\n",
       "<tr><td style=\"text-align: left;\">- (MALE; P9Y)</td><td style=\"text-align: left;\">DiGeorge syndrome (OMIM:188400)</td><td style=\"text-align: left;\">NM_080647.1:c.967_977dup (heterozygous)</td><td style=\"text-align: left;\">Hypoparathyroidism (HP:0000829); Aplasia/Hypoplasia of the thymus (HP:0010515); Polydactyly (HP:0010442); excluded: Hypertelorism (HP:0000316); excluded: Blepharophimosis (HP:0000581); excluded: Low-set ears (HP:0000369); excluded: Narrow nose (HP:0000460); excluded: Cleft palate (HP:0000175); excluded: Micrognathia (HP:0000347); excluded: Abnormal facial shape (HP:0001999); excluded: Velopharyngeal insufficiency (HP:0000220); excluded: Tetralogy of Fallot (HP:0001636); excluded: Pulmonary valve atresia (HP:0010882); excluded: Atrial septal defect (HP:0001631); excluded: Aortopulmonary collateral arteries (HP:0031834); excluded: Interrupted aortic arch type B (HP:0011613); excluded: Right aortic arch (HP:0012020); excluded: Ventricular septal defect (HP:0001629); excluded: Global developmental delay (HP:0001263); excluded: Sensorineural hearing impairment (HP:0000407); excluded: Syndactyly (HP:0001159); excluded: Short stature (HP:0004322); excluded: Graves disease (HP:0100647)</td></tr>\n",
       "<tr><td style=\"text-align: left;\">III-C (MALE; P7Y)</td><td style=\"text-align: left;\">DiGeorge syndrome (OMIM:188400)</td><td style=\"text-align: left;\">NM_080647.1:c.1158_1159delinsT (heterozygous)</td><td style=\"text-align: left;\">Hypertelorism (HP:0000316); Low-set ears (HP:0000369); Micrognathia (HP:0000347); Abnormal facial shape (HP:0001999); Hypoparathyroidism (HP:0000829); Sensorineural hearing impairment (HP:0000407); excluded: Blepharophimosis (HP:0000581); excluded: Narrow nose (HP:0000460); excluded: Cleft palate (HP:0000175); excluded: Velopharyngeal insufficiency (HP:0000220); excluded: Tetralogy of Fallot (HP:0001636); excluded: Pulmonary valve atresia (HP:0010882); excluded: Atrial septal defect (HP:0001631); excluded: Aortopulmonary collateral arteries (HP:0031834); excluded: Interrupted aortic arch type B (HP:0011613); excluded: Right aortic arch (HP:0012020); excluded: Ventricular septal defect (HP:0001629); excluded: T lymphocytopenia (HP:0005403); excluded: Global developmental delay (HP:0001263); excluded: Polydactyly (HP:0010442); excluded: Syndactyly (HP:0001159); excluded: Short stature (HP:0004322); excluded: Graves disease (HP:0100647)</td></tr>\n",
       "<tr><td style=\"text-align: left;\">III-B (MALE; P14Y)</td><td style=\"text-align: left;\">DiGeorge syndrome (OMIM:188400)</td><td style=\"text-align: left;\">NM_080647.1:c.1158_1159delinsT (heterozygous)</td><td style=\"text-align: left;\">Hypertelorism (HP:0000316); Low-set ears (HP:0000369); Micrognathia (HP:0000347); Abnormal facial shape (HP:0001999); Hypoparathyroidism (HP:0000829); Global developmental delay (HP:0001263); Sensorineural hearing impairment (HP:0000407); excluded: Blepharophimosis (HP:0000581); excluded: Narrow nose (HP:0000460); excluded: Cleft palate (HP:0000175); excluded: Velopharyngeal insufficiency (HP:0000220); excluded: Tetralogy of Fallot (HP:0001636); excluded: Pulmonary valve atresia (HP:0010882); excluded: Atrial septal defect (HP:0001631); excluded: Aortopulmonary collateral arteries (HP:0031834); excluded: Interrupted aortic arch type B (HP:0011613); excluded: Right aortic arch (HP:0012020); excluded: Ventricular septal defect (HP:0001629); excluded: T lymphocytopenia (HP:0005403); excluded: Polydactyly (HP:0010442); excluded: Syndactyly (HP:0001159); excluded: Short stature (HP:0004322); excluded: Graves disease (HP:0100647)</td></tr>\n",
       "<tr><td style=\"text-align: left;\">III-A (FEMALE; P16Y)</td><td style=\"text-align: left;\">DiGeorge syndrome (OMIM:188400)</td><td style=\"text-align: left;\">NM_080647.1:c.1158_1159delinsT (heterozygous)</td><td style=\"text-align: left;\">Abnormal facial shape (HP:0001999); Hypoparathyroidism (HP:0000829); Sensorineural hearing impairment (HP:0000407); Short stature (HP:0004322); excluded: Hypertelorism (HP:0000316); excluded: Blepharophimosis (HP:0000581); excluded: Low-set ears (HP:0000369); excluded: Narrow nose (HP:0000460); excluded: Cleft palate (HP:0000175); excluded: Micrognathia (HP:0000347); excluded: Velopharyngeal insufficiency (HP:0000220); excluded: Tetralogy of Fallot (HP:0001636); excluded: Pulmonary valve atresia (HP:0010882); excluded: Atrial septal defect (HP:0001631); excluded: Aortopulmonary collateral arteries (HP:0031834); excluded: Interrupted aortic arch type B (HP:0011613); excluded: Right aortic arch (HP:0012020); excluded: Ventricular septal defect (HP:0001629); excluded: Global developmental delay (HP:0001263); excluded: Polydactyly (HP:0010442); excluded: Syndactyly (HP:0001159); excluded: Graves disease (HP:0100647)</td></tr>\n",
       "<tr><td style=\"text-align: left;\">II-C (MALE; P39Y)</td><td style=\"text-align: left;\">DiGeorge syndrome (OMIM:188400)</td><td style=\"text-align: left;\">NM_080647.1:c.1158_1159delinsT (heterozygous)</td><td style=\"text-align: left;\">Low-set ears (HP:0000369); Abnormal facial shape (HP:0001999); Hypoparathyroidism (HP:0000829); Short stature (HP:0004322); excluded: Blepharophimosis (HP:0000581); excluded: Narrow nose (HP:0000460); excluded: Cleft palate (HP:0000175); excluded: Micrognathia (HP:0000347); excluded: Velopharyngeal insufficiency (HP:0000220); excluded: Tetralogy of Fallot (HP:0001636); excluded: Pulmonary valve atresia (HP:0010882); excluded: Atrial septal defect (HP:0001631); excluded: Aortopulmonary collateral arteries (HP:0031834); excluded: Interrupted aortic arch type B (HP:0011613); excluded: Right aortic arch (HP:0012020); excluded: Ventricular septal defect (HP:0001629); excluded: Global developmental delay (HP:0001263); excluded: Sensorineural hearing impairment (HP:0000407); excluded: Polydactyly (HP:0010442); excluded: Syndactyly (HP:0001159); excluded: Graves disease (HP:0100647)</td></tr>\n",
       "<tr><td style=\"text-align: left;\">A-II-4 (MALE; P69Y)</td><td style=\"text-align: left;\">DiGeorge syndrome (OMIM:188400)</td><td style=\"text-align: left;\">NM_080647.1:c.1009+1G>C (heterozygous)</td><td style=\"text-align: left;\">Hypoparathyroidism (HP:0000829); excluded: Abnormal facial shape (HP:0001999); excluded: Velopharyngeal insufficiency (HP:0000220); excluded: Abnormality of the cardiovascular system (HP:0001626); excluded: T lymphocytopenia (HP:0005403); excluded: Global developmental delay (HP:0001263); excluded: Sensorineural hearing impairment (HP:0000407)</td></tr>\n",
       "<tr><td style=\"text-align: left;\">B-III-1 (MALE; n/a)</td><td style=\"text-align: left;\">DiGeorge syndrome (OMIM:188400)</td><td style=\"text-align: left;\">NM_080647.1:c.1009+1G>C (heterozygous)</td><td style=\"text-align: left;\">Hypoparathyroidism (HP:0000829); Aplasia/Hypoplasia of the thymus (HP:0010515); T lymphocytopenia (HP:0005403); excluded: Abnormal facial shape (HP:0001999); excluded: Velopharyngeal insufficiency (HP:0000220); excluded: Global developmental delay (HP:0001263); excluded: Sensorineural hearing impairment (HP:0000407)</td></tr>\n",
       "<tr><td style=\"text-align: left;\">B-II-2 (FEMALE; n/a)</td><td style=\"text-align: left;\">DiGeorge syndrome (OMIM:188400)</td><td style=\"text-align: left;\">NM_080647.1:c.1009+1G>C (heterozygous)</td><td style=\"text-align: left;\">Hypoparathyroidism (HP:0000829); excluded: Abnormal facial shape (HP:0001999); excluded: Velopharyngeal insufficiency (HP:0000220); excluded: Abnormality of the cardiovascular system (HP:0001626); excluded: T lymphocytopenia (HP:0005403); excluded: Global developmental delay (HP:0001263); excluded: Sensorineural hearing impairment (HP:0000407)</td></tr>\n",
       "</table>"
      ],
      "text/plain": [
       "<IPython.core.display.HTML object>"
      ]
     },
     "metadata": {},
     "output_type": "display_data"
    }
   ],
   "source": [
    "table = IndividualTable(cvalidator.get_error_free_individual_list())\n",
    "display(HTML(table.to_html()))"
   ]
  },
  {
   "cell_type": "code",
   "execution_count": null,
   "id": "3203b713-be96-41c4-8f65-06b22699fa23",
   "metadata": {},
   "outputs": [],
   "source": []
  }
 ],
 "metadata": {
  "kernelspec": {
   "display_name": "Python 3 (ipykernel)",
   "language": "python",
   "name": "python3"
  },
  "language_info": {
   "codemirror_mode": {
    "name": "ipython",
    "version": 3
   },
   "file_extension": ".py",
   "mimetype": "text/x-python",
   "name": "python",
   "nbconvert_exporter": "python",
   "pygments_lexer": "ipython3",
   "version": "3.8.10"
  }
 },
 "nbformat": 4,
 "nbformat_minor": 5
}
