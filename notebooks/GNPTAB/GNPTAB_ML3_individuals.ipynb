{
 "cells": [
  {
   "cell_type": "markdown",
   "metadata": {},
   "source": [
    "# GNPTAB\n",
    "[mucolipidosis II alpha/beta, also known as I-cell disease](https://omim.org/entry/252500) is caused by homozygous or compound heterozygous mutation in the GNPTAB gene."
   ]
  },
  {
   "cell_type": "code",
   "execution_count": 1,
   "metadata": {},
   "outputs": [
    {
     "name": "stderr",
     "output_type": "stream",
     "text": [
      "/Users/robin/GIT/phenopacket-store/ps24venv/lib/python3.9/site-packages/urllib3/__init__.py:35: NotOpenSSLWarning: urllib3 v2 only supports OpenSSL 1.1.1+, currently the 'ssl' module is compiled with 'LibreSSL 2.8.3'. See: https://github.com/urllib3/urllib3/issues/3020\n",
      "  warnings.warn(\n"
     ]
    },
    {
     "name": "stdout",
     "output_type": "stream",
     "text": [
      "Using pyphetools version 0.9.91\n"
     ]
    }
   ],
   "source": [
    "from pyphetools.creation import TemplateImporter\n",
    "from pyphetools.visualization import IndividualTable, QcVisualizer\n",
    "from IPython.display import display, HTML\n",
    "import pyphetools\n",
    "print(f\"Using pyphetools version {pyphetools.__version__}\")"
   ]
  },
  {
   "cell_type": "code",
   "execution_count": 4,
   "metadata": {},
   "outputs": [],
   "source": [
    "template = \"input/GNPTAB_ML3_individuals.xlsx\"\n",
    "created_by = \"0000-0002-0736-9199\""
   ]
  },
  {
   "cell_type": "code",
   "execution_count": 8,
   "metadata": {},
   "outputs": [
    {
     "name": "stdout",
     "output_type": "stream",
     "text": [
      "HPO version 2024-06-25\n",
      "Created encoders for 93 fields\n",
      "Importing OMIM:252600, Mucolipidosis III alpha/beta, HGNC:29670, GNPTAB,  NM_024312.5\n",
      "We output 1 GA4GH phenopackets to the directory phenopackets\n"
     ]
    }
   ],
   "source": [
    "timporter = TemplateImporter(template=template,  created_by=created_by)\n",
    "individual_list, cvalidator = timporter.import_phenopackets_from_template()"
   ]
  },
  {
   "cell_type": "code",
   "execution_count": 9,
   "metadata": {},
   "outputs": [
    {
     "data": {
      "text/html": [
       "<h2>Cohort validation</h2>\n",
       "<p>No errors found for the cohort with 1 individuals</p>"
      ],
      "text/plain": [
       "<IPython.core.display.HTML object>"
      ]
     },
     "metadata": {},
     "output_type": "display_data"
    }
   ],
   "source": [
    "qc = QcVisualizer(cohort_validator=cvalidator)\n",
    "display(HTML(qc.to_summary_html()))"
   ]
  },
  {
   "cell_type": "code",
   "execution_count": 10,
   "metadata": {},
   "outputs": [
    {
     "data": {
      "text/html": [
       "<table style=\"border: 2px solid black; align: \"left\">\n",
       "<caption>1 phenopacket - PMID:30208878 (n=1)</caption>\n",
       "<tr><th style=\"text-align: left;font-weight: bold;\">Individual</th><th style=\"text-align: left;font-weight: bold;\">Disease</th><th style=\"text-align: left;font-weight: bold;\">Genotype</th><th style=\"text-align: left;font-weight: bold;\">Phenotypic features</th></tr>\n",
       "<tr><td style=\"text-align: left;\">proband (MALE; P2Y)</td><td style=\"text-align: left;\">Mucolipidosis III alpha/beta (OMIM:252600)</td><td style=\"text-align: left;\"><ul> <li>NM_024312.5:c.2404C>T (heterozygous)</li> <li>NM_024312.5:c.2715+1G>A (heterozygous)</li> </ul></td><td style=\"text-align: left;\"><b>P5M</b>: Hypertonia (HP:0001276)<br/><b>P7M</b>: Plagiocephaly (HP:0001357); Knee flexion contracture (HP:0006380); Inguinal hernia (HP:0000023); Failure to thrive (HP:0001508)<br/><b>P1Y1M</b>: C1-C2 subluxation (HP:0003320); Lumbar hemivertebrae (HP:0008439)<br/><b>P1Y9M</b>: Craniosynostosis (HP:0001363)<br/><b>P2Y</b>: Pectus carinatum (HP:0000768); Microcephaly (HP:0000252); Depressed nasal bridge (HP:0005280); Proptosis (HP:0000520); Coarse facial features (HP:0000280); Trigonocephaly (HP:0000243); Hyperlordosis (HP:0003307); Claw hand deformity (HP:0034337)<br/><b>P2Y4M</b>: Global developmental delay (HP:0001263); Thick vermilion border (HP:0012471); Low-set ears (HP:0000369); Mucopolysacchariduria (HP:0008155); Increased iduronate sulfatase level (HP:0003538)<br/>Small for gestational age (HP:0001518); excluded: Splenomegaly (HP:0001744); excluded: Hepatomegaly (HP:0002240)</td></tr>\n",
       "</table>"
      ],
      "text/plain": [
       "<IPython.core.display.HTML object>"
      ]
     },
     "metadata": {},
     "output_type": "display_data"
    }
   ],
   "source": [
    "table = IndividualTable(cvalidator.get_error_free_individual_list())\n",
    "display(HTML(table.to_html()))"
   ]
  },
  {
   "cell_type": "code",
   "execution_count": 11,
   "metadata": {},
   "outputs": [
    {
     "name": "stdout",
     "output_type": "stream",
     "text": [
      "[pyphetools] Ingested 1 GA4GH phenopackets.\n",
      "[INFO] Extracted 1 from 1 phenopackets with OMIM:252600\n",
      "\n",
      "\tMucolipidosis III alpha/beta (OMIM:252600): n=1\n",
      "We found a total of 24 unique HPO terms\n",
      "Extracted disease: Mucolipidosis III alpha/beta (OMIM:252600)\n",
      "Wrote HPOA disease file to OMIM-252600.tab\n"
     ]
    }
   ],
   "source": [
    "pmid = \"PMID:30208878\"\n",
    "df = timporter.create_hpoa_from_phenopackets(pmid=pmid, moi=\"Autosomal recessive\", target=\"OMIM:252600\")"
   ]
  },
  {
   "cell_type": "code",
   "execution_count": null,
   "metadata": {},
   "outputs": [],
   "source": []
  }
 ],
 "metadata": {
  "kernelspec": {
   "display_name": "ps24venv",
   "language": "python",
   "name": "python3"
  },
  "language_info": {
   "codemirror_mode": {
    "name": "ipython",
    "version": 3
   },
   "file_extension": ".py",
   "mimetype": "text/x-python",
   "name": "python",
   "nbconvert_exporter": "python",
   "pygments_lexer": "ipython3",
   "version": "3.9.6"
  }
 },
 "nbformat": 4,
 "nbformat_minor": 2
}
