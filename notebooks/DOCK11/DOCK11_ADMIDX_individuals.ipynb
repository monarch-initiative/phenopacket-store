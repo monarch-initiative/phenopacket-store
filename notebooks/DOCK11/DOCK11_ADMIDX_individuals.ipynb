{
 "cells": [
  {
   "cell_type": "markdown",
   "metadata": {},
   "source": [
    "# DOCK11\n",
    "[X-linked multisystem autoinflammatory disease with immune dysregulation (ADMIDX)](https://omim.org/entry/301109) is caused by hemizygous mutation in the DOCK11 gene."
   ]
  },
  {
   "cell_type": "code",
   "execution_count": 1,
   "metadata": {},
   "outputs": [
    {
     "name": "stderr",
     "output_type": "stream",
     "text": [
      "/Users/robin/GIT/phenopacket-store/ps24venv/lib/python3.9/site-packages/urllib3/__init__.py:35: NotOpenSSLWarning: urllib3 v2 only supports OpenSSL 1.1.1+, currently the 'ssl' module is compiled with 'LibreSSL 2.8.3'. See: https://github.com/urllib3/urllib3/issues/3020\n",
      "  warnings.warn(\n"
     ]
    },
    {
     "name": "stdout",
     "output_type": "stream",
     "text": [
      "Using pyphetools version 0.9.92\n"
     ]
    }
   ],
   "source": [
    "from pyphetools.creation import TemplateImporter\n",
    "from pyphetools.visualization import IndividualTable, QcVisualizer\n",
    "from IPython.display import display, HTML\n",
    "import pyphetools\n",
    "print(f\"Using pyphetools version {pyphetools.__version__}\")"
   ]
  },
  {
   "cell_type": "code",
   "execution_count": 2,
   "metadata": {},
   "outputs": [],
   "source": [
    "template = \"input/DOCK11_ADMIDX_individuals.xlsx\"\n",
    "created_by = \"0000-0002-0736-9199\""
   ]
  },
  {
   "cell_type": "code",
   "execution_count": 9,
   "metadata": {},
   "outputs": [
    {
     "name": "stdout",
     "output_type": "stream",
     "text": [
      "HPO version 2024-07-01\n",
      "Created encoders for 84 fields\n",
      "Importing OMIM:301109, Autoinflammatory disease, multisystem, with immune dysregulation, X-linked, HGNC:23483, DOCK11,  NM_144658.4\n",
      "We output 12 GA4GH phenopackets to the directory phenopackets\n"
     ]
    }
   ],
   "source": [
    "timporter = TemplateImporter(template=template,  created_by=created_by)\n",
    "individual_list, cvalidator = timporter.import_phenopackets_from_template()"
   ]
  },
  {
   "cell_type": "code",
   "execution_count": 10,
   "metadata": {},
   "outputs": [
    {
     "data": {
      "text/html": [
       "<h2>Cohort validation</h2>\n",
       "<p>Errors found with 7 of 12 phenopackets.</p>\n",
       "<table style=\"border: 2px solid black; align: \"left\">\n",
       "<caption>Error counts</caption>\n",
       "<tr><th style=\"text-align: left;font-weight: bold;\">Level</th><th style=\"text-align: left;font-weight: bold;\">Error category</th><th style=\"text-align: left;font-weight: bold;\">Count</th></tr>\n",
       "<tr><td style=\"text-align: left;\">ERROR</td><td style=\"text-align: left;\">CONFLICT</td><td style=\"text-align: left;\">2</td></tr>\n",
       "<tr><td style=\"text-align: left;\">WARNING</td><td style=\"text-align: left;\">REDUNDANT</td><td style=\"text-align: left;\">5</td></tr>\n",
       "</table>\n",
       "<p>A total of 7 issues were fixed and no individual was removed from the cohort.</p>"
      ],
      "text/plain": [
       "<IPython.core.display.HTML object>"
      ]
     },
     "metadata": {},
     "output_type": "display_data"
    }
   ],
   "source": [
    "qc = QcVisualizer(cohort_validator=cvalidator)\n",
    "display(HTML(qc.to_summary_html()))"
   ]
  },
  {
   "cell_type": "code",
   "execution_count": 11,
   "metadata": {},
   "outputs": [
    {
     "data": {
      "text/html": [
       "<table style=\"border: 2px solid black; align: \"left\">\n",
       "<caption>12 phenopackets - PMID:36952639 (n=8); PMID:37342957 (n=4)</caption>\n",
       "<tr><th style=\"text-align: left;font-weight: bold;\">Individual</th><th style=\"text-align: left;font-weight: bold;\">Disease</th><th style=\"text-align: left;font-weight: bold;\">Genotype</th><th style=\"text-align: left;font-weight: bold;\">Phenotypic features</th></tr>\n",
       "<tr><td style=\"text-align: left;\">Patient A (MALE; P14Y)</td><td style=\"text-align: left;\">Autoinflammatory disease, multisystem, with immune dysregulation, X-linked (OMIM:301109)</td><td style=\"text-align: left;\">NM_144658.4:c.3893T>G (heterozygous)</td><td style=\"text-align: left;\"><b>P1Y4M</b>: Ulcerative colitis (HP:0100279)<br/><b>P2Y6M</b>: Autoimmune thrombocytopenia (HP:0001973)<br/><b>P13Y</b>: Panniculitis (HP:0012490)<br/>Neutrophilic infiltration of the skin (HP:0031234); Cytoplasmic antineutrophil antibody positivity (HP:0032230); Anti-integrin antibody positivity (HP:4000025); Antinuclear antibody positivity (HP:0003493); Anti-thyroid peroxidase antibody positivity (HP:0025379); Anti-thyroglobulin antibody positivity (HP:0032069); excluded: Discoid lupus rash (HP:0007417); excluded: Systemic lupus erythematosus (HP:0002725); excluded: Diarrhea (HP:0002014); excluded: Oral ulcer (HP:0000155); excluded: Neutropenia in presence of anti-neutropil antibodies (HP:0001904); excluded: Postnatal growth retardation (HP:0008897); excluded: Polyarticular arthritis (HP:0005764); excluded: Rheumatoid factor positive (HP:0002923); excluded: Coombs-positive hemolytic anemia (HP:0004844); excluded: Anti-U1 ribonucleoprotein antibody positivity (HP:0033028); excluded: Anti-smooth muscle antibody positivity (HP:0003262); excluded: Anti-type VII collagen antibody (HP:4000031); excluded: Acute respiratory distress syndrome (HP:0033677); excluded: Nephrotic syndrome (HP:0000100)</td></tr>\n",
       "<tr><td style=\"text-align: left;\">Patient B (MALE; P7Y)</td><td style=\"text-align: left;\">Autoinflammatory disease, multisystem, with immune dysregulation, X-linked (OMIM:301109)</td><td style=\"text-align: left;\">NM_144658.4:c.4007A>G (heterozygous)</td><td style=\"text-align: left;\"><b>P5Y</b>: Coombs-positive hemolytic anemia (HP:0004844)<br/>Polyarticular arthritis (HP:0005764); Rheumatoid factor positive (HP:0002923); excluded: Discoid lupus rash (HP:0007417); excluded: Systemic lupus erythematosus (HP:0002725); excluded: Diarrhea (HP:0002014); excluded: Ulcerative colitis (HP:0100279); excluded: Oral ulcer (HP:0000155); excluded: Ileitis (HP:0032564); excluded: Panniculitis (HP:0012490); excluded: Neutropenia in presence of anti-neutropil antibodies (HP:0001904); excluded: Autoimmune thrombocytopenia (HP:0001973); excluded: Neutrophilic infiltration of the skin (HP:0031234); excluded: Postnatal growth retardation (HP:0008897); excluded: Cytoplasmic antineutrophil antibody positivity (HP:0032230); excluded: Anti-integrin antibody positivity (HP:4000025); excluded: Anti-thyroid peroxidase antibody positivity (HP:0025379); excluded: Anti-thyroglobulin antibody positivity (HP:0032069); excluded: Anti-U1 ribonucleoprotein antibody positivity (HP:0033028); excluded: Anti-smooth muscle antibody positivity (HP:0003262); excluded: Anti-type VII collagen antibody (HP:4000031); excluded: Acute respiratory distress syndrome (HP:0033677); excluded: Nephrotic syndrome (HP:0000100)</td></tr>\n",
       "<tr><td style=\"text-align: left;\">Patient C (MALE; P29Y)</td><td style=\"text-align: left;\">Autoinflammatory disease, multisystem, with immune dysregulation, X-linked (OMIM:301109)</td><td style=\"text-align: left;\">NM_144658.4:c.823A>T (heterozygous)</td><td style=\"text-align: left;\"><b>P3Y</b>: Decreased circulating IgA level (HP:0002720)<br/><b>P11Y</b>: Autoimmune thrombocytopenia (HP:0001973)<br/>Postnatal growth retardation (HP:0008897); Coombs-positive hemolytic anemia (HP:0004844); excluded: Discoid lupus rash (HP:0007417); excluded: Systemic lupus erythematosus (HP:0002725); excluded: Diarrhea (HP:0002014); excluded: Ulcerative colitis (HP:0100279); excluded: Oral ulcer (HP:0000155); excluded: Ileitis (HP:0032564); excluded: Panniculitis (HP:0012490); excluded: Neutropenia in presence of anti-neutropil antibodies (HP:0001904); excluded: Neutrophilic infiltration of the skin (HP:0031234); excluded: Polyarticular arthritis (HP:0005764); excluded: Rheumatoid factor positive (HP:0002923); excluded: Cytoplasmic antineutrophil antibody positivity (HP:0032230); excluded: Anti-integrin antibody positivity (HP:4000025); excluded: Anti-thyroid peroxidase antibody positivity (HP:0025379); excluded: Anti-thyroglobulin antibody positivity (HP:0032069); excluded: Anti-U1 ribonucleoprotein antibody positivity (HP:0033028); excluded: Anti-smooth muscle antibody positivity (HP:0003262); excluded: Anti-type VII collagen antibody (HP:4000031); excluded: Acute respiratory distress syndrome (HP:0033677); excluded: Nephrotic syndrome (HP:0000100)</td></tr>\n",
       "<tr><td style=\"text-align: left;\">Patient D1 (MALE; P20Y)</td><td style=\"text-align: left;\">Autoinflammatory disease, multisystem, with immune dysregulation, X-linked (OMIM:301109)</td><td style=\"text-align: left;\">NM_144658.4:c.1240G>T (heterozygous)</td><td style=\"text-align: left;\"><b>P14Y</b>: Diarrhea (HP:0002014)<br/><b>P16Y</b>: Pericarditis (HP:0001701)<br/><b>P18Y</b>: Restrictive ventilatory defect (HP:0002091)<br/>Discoid lupus rash (HP:0007417); Systemic lupus erythematosus (HP:0002725); Ileitis (HP:0032564); Postnatal growth retardation (HP:0008897); Rheumatoid factor positive (HP:0002923); Anti-U1 ribonucleoprotein antibody positivity (HP:0033028); Anti-smooth muscle antibody positivity (HP:0003262); excluded: Ulcerative colitis (HP:0100279); excluded: Oral ulcer (HP:0000155); excluded: Panniculitis (HP:0012490); excluded: Neutropenia in presence of anti-neutropil antibodies (HP:0001904); excluded: Autoimmune thrombocytopenia (HP:0001973); excluded: Neutrophilic infiltration of the skin (HP:0031234); excluded: Polyarticular arthritis (HP:0005764); excluded: Cytoplasmic antineutrophil antibody positivity (HP:0032230); excluded: Anti-integrin antibody positivity (HP:4000025); excluded: Anti-thyroid peroxidase antibody positivity (HP:0025379); excluded: Anti-thyroglobulin antibody positivity (HP:0032069); excluded: Coombs-positive hemolytic anemia (HP:0004844); excluded: Anti-type VII collagen antibody (HP:4000031); excluded: Acute respiratory distress syndrome (HP:0033677); excluded: Nephrotic syndrome (HP:0000100)</td></tr>\n",
       "<tr><td style=\"text-align: left;\">Patient D2 (MALE; P20Y)</td><td style=\"text-align: left;\">Autoinflammatory disease, multisystem, with immune dysregulation, X-linked (OMIM:301109)</td><td style=\"text-align: left;\">NM_144658.4:c.1240G>T (heterozygous)</td><td style=\"text-align: left;\"><b>P9Y</b>: Diarrhea (HP:0002014); Pericarditis (HP:0001701); Polyarticular arthritis (HP:0005764)<br/>Systemic lupus erythematosus (HP:0002725); Rheumatoid factor positive (HP:0002923); Anti-U1 ribonucleoprotein antibody positivity (HP:0033028); Anti-smooth muscle antibody positivity (HP:0003262); Anti-type VII collagen antibody (HP:4000031); excluded: Discoid lupus rash (HP:0007417); excluded: Ulcerative colitis (HP:0100279); excluded: Oral ulcer (HP:0000155); excluded: Ileitis (HP:0032564); excluded: Panniculitis (HP:0012490); excluded: Neutropenia in presence of anti-neutropil antibodies (HP:0001904); excluded: Autoimmune thrombocytopenia (HP:0001973); excluded: Neutrophilic infiltration of the skin (HP:0031234); excluded: Postnatal growth retardation (HP:0008897); excluded: Cytoplasmic antineutrophil antibody positivity (HP:0032230); excluded: Anti-integrin antibody positivity (HP:4000025); excluded: Anti-thyroid peroxidase antibody positivity (HP:0025379); excluded: Anti-thyroglobulin antibody positivity (HP:0032069); excluded: Coombs-positive hemolytic anemia (HP:0004844); excluded: Acute respiratory distress syndrome (HP:0033677); excluded: Nephrotic syndrome (HP:0000100)</td></tr>\n",
       "<tr><td style=\"text-align: left;\">Patient E (MALE; P20Y)</td><td style=\"text-align: left;\">Autoinflammatory disease, multisystem, with immune dysregulation, X-linked (OMIM:301109)</td><td style=\"text-align: left;\">NM_144658.4:c.5117T>C (heterozygous)</td><td style=\"text-align: left;\">Coombs-positive hemolytic anemia (HP:0004844); excluded: Discoid lupus rash (HP:0007417); excluded: Systemic lupus erythematosus (HP:0002725); excluded: Diarrhea (HP:0002014); excluded: Ulcerative colitis (HP:0100279); excluded: Oral ulcer (HP:0000155); excluded: Ileitis (HP:0032564); excluded: Panniculitis (HP:0012490); excluded: Neutropenia in presence of anti-neutropil antibodies (HP:0001904); excluded: Autoimmune thrombocytopenia (HP:0001973); excluded: Neutrophilic infiltration of the skin (HP:0031234); excluded: Postnatal growth retardation (HP:0008897); excluded: Polyarticular arthritis (HP:0005764); excluded: Rheumatoid factor positive (HP:0002923); excluded: Cytoplasmic antineutrophil antibody positivity (HP:0032230); excluded: Anti-integrin antibody positivity (HP:4000025); excluded: Anti-thyroid peroxidase antibody positivity (HP:0025379); excluded: Anti-thyroglobulin antibody positivity (HP:0032069); excluded: Anti-U1 ribonucleoprotein antibody positivity (HP:0033028); excluded: Anti-smooth muscle antibody positivity (HP:0003262); excluded: Anti-type VII collagen antibody (HP:4000031); excluded: Acute respiratory distress syndrome (HP:0033677); excluded: Nephrotic syndrome (HP:0000100)</td></tr>\n",
       "<tr><td style=\"text-align: left;\">Patient F (MALE; P6Y6M)</td><td style=\"text-align: left;\">Autoinflammatory disease, multisystem, with immune dysregulation, X-linked (OMIM:301109)</td><td style=\"text-align: left;\">NM_144658.4:c.4097G>A (heterozygous)</td><td style=\"text-align: left;\">Oral ulcer (HP:0000155); Neutropenia in presence of anti-neutropil antibodies (HP:0001904); excluded: Discoid lupus rash (HP:0007417); excluded: Systemic lupus erythematosus (HP:0002725); excluded: Diarrhea (HP:0002014); excluded: Ulcerative colitis (HP:0100279); excluded: Ileitis (HP:0032564); excluded: Panniculitis (HP:0012490); excluded: Autoimmune thrombocytopenia (HP:0001973); excluded: Postnatal growth retardation (HP:0008897); excluded: Polyarticular arthritis (HP:0005764); excluded: Rheumatoid factor positive (HP:0002923); excluded: Cytoplasmic antineutrophil antibody positivity (HP:0032230); excluded: Anti-integrin antibody positivity (HP:4000025); excluded: Anti-thyroid peroxidase antibody positivity (HP:0025379); excluded: Anti-thyroglobulin antibody positivity (HP:0032069); excluded: Coombs-positive hemolytic anemia (HP:0004844); excluded: Anti-U1 ribonucleoprotein antibody positivity (HP:0033028); excluded: Anti-smooth muscle antibody positivity (HP:0003262); excluded: Anti-type VII collagen antibody (HP:4000031); excluded: Acute respiratory distress syndrome (HP:0033677); excluded: Nephrotic syndrome (HP:0000100)</td></tr>\n",
       "<tr><td style=\"text-align: left;\">Patient G (MALE; P14Y)</td><td style=\"text-align: left;\">Autoinflammatory disease, multisystem, with immune dysregulation, X-linked (OMIM:301109)</td><td style=\"text-align: left;\">NM_144658.4:c.5653C>T (heterozygous)</td><td style=\"text-align: left;\">Coombs-positive hemolytic anemia (HP:0004844); excluded: Discoid lupus rash (HP:0007417); excluded: Systemic lupus erythematosus (HP:0002725); excluded: Diarrhea (HP:0002014); excluded: Ulcerative colitis (HP:0100279); excluded: Oral ulcer (HP:0000155); excluded: Ileitis (HP:0032564); excluded: Panniculitis (HP:0012490); excluded: Neutropenia in presence of anti-neutropil antibodies (HP:0001904); excluded: Autoimmune thrombocytopenia (HP:0001973); excluded: Neutrophilic infiltration of the skin (HP:0031234); excluded: Postnatal growth retardation (HP:0008897); excluded: Polyarticular arthritis (HP:0005764); excluded: Rheumatoid factor positive (HP:0002923); excluded: Cytoplasmic antineutrophil antibody positivity (HP:0032230); excluded: Anti-integrin antibody positivity (HP:4000025); excluded: Anti-thyroid peroxidase antibody positivity (HP:0025379); excluded: Anti-thyroglobulin antibody positivity (HP:0032069); excluded: Anti-U1 ribonucleoprotein antibody positivity (HP:0033028); excluded: Anti-smooth muscle antibody positivity (HP:0003262); excluded: Anti-type VII collagen antibody (HP:4000031); excluded: Acute respiratory distress syndrome (HP:0033677); excluded: Nephrotic syndrome (HP:0000100)</td></tr>\n",
       "<tr><td style=\"text-align: left;\">Patient 1 (MALE; P5Y)</td><td style=\"text-align: left;\">Autoinflammatory disease, multisystem, with immune dysregulation, X-linked (OMIM:301109)</td><td style=\"text-align: left;\">NM_144658.4:c.75dup (heterozygous)</td><td style=\"text-align: left;\"><b>P1M9D</b>: Splenomegaly (HP:0001744)<br/><b>P5Y</b>: Acute respiratory distress syndrome (HP:0033677)<br/>Failure to thrive (HP:0001508); Leukocytosis (HP:0001974); Recurrent otitis media (HP:0000403); BCGitis (HP:0020086); Mastoiditis (HP:0000265); Anisocytosis (HP:0011273); Autoimmune hemolytic anemia (HP:0001890); Hepatomegaly (HP:0002240); excluded: Discoid lupus rash (HP:0007417); excluded: Systemic lupus erythematosus (HP:0002725); excluded: Diarrhea (HP:0002014); excluded: Crohn's disease (HP:0100280); excluded: Ulcerative colitis (HP:0100279); excluded: Recurrent pneumonia (HP:0006532); excluded: Recurrent bronchitis (HP:0002837); excluded: Recurrent gastroenteritis (HP:0031123); excluded: Panniculitis (HP:0012490); excluded: Decreased circulating IgA level (HP:0002720); excluded: Decreased circulating IgG level (HP:0004315); excluded: Decreased circulating total IgM (HP:0002850); excluded: Increased circulating IgE level (HP:0003212); excluded: Nephrotic syndrome (HP:0000100)</td></tr>\n",
       "<tr><td style=\"text-align: left;\">Patient 2 (MALE; P3Y)</td><td style=\"text-align: left;\">Autoinflammatory disease, multisystem, with immune dysregulation, X-linked (OMIM:301109)</td><td style=\"text-align: left;\">NM_144658.4:c.1718+5G>A (heterozygous)</td><td style=\"text-align: left;\">Thickened nuchal skin fold (HP:0000474); Hypotonia (HP:0001252); Failure to thrive (HP:0001508); Recurrent pneumonia (HP:0006532); Recurrent bronchitis (HP:0002837); Recurrent gastroenteritis (HP:0031123); Anisocytosis (HP:0011273); Autoimmune hemolytic anemia (HP:0001890); excluded: Discoid lupus rash (HP:0007417); excluded: Systemic lupus erythematosus (HP:0002725); excluded: Diarrhea (HP:0002014); excluded: Crohn's disease (HP:0100280); excluded: Ulcerative colitis (HP:0100279); excluded: Leukocytosis (HP:0001974); excluded: Recurrent otitis media (HP:0000403); excluded: BCGitis (HP:0020086); excluded: Mastoiditis (HP:0000265); excluded: Panniculitis (HP:0012490); excluded: Splenomegaly (HP:0001744); excluded: Hepatomegaly (HP:0002240); excluded: Cytoplasmic antineutrophil antibody positivity (HP:0032230); excluded: Antinuclear antibody positivity (HP:0003493); excluded: Decreased circulating IgA level (HP:0002720); excluded: Decreased circulating IgG level (HP:0004315); excluded: Decreased circulating total IgM (HP:0002850); excluded: Acute respiratory distress syndrome (HP:0033677); excluded: Nephrotic syndrome (HP:0000100)</td></tr>\n",
       "<tr><td style=\"text-align: left;\">Patient 3 (MALE; P6Y)</td><td style=\"text-align: left;\">Autoinflammatory disease, multisystem, with immune dysregulation, X-linked (OMIM:301109)</td><td style=\"text-align: left;\">NM_144658.4:c.5120G>C (heterozygous)</td><td style=\"text-align: left;\"><b>P3Y</b>: Nephrotic syndrome (HP:0000100)<br/>Failure to thrive (HP:0001508); Leukocytosis (HP:0001974); Recurrent gastroenteritis (HP:0031123); Panniculitis (HP:0012490); Anisocytosis (HP:0011273); Autoimmune hemolytic anemia (HP:0001890); Splenomegaly (HP:0001744); Hepatomegaly (HP:0002240); Decreased circulating IgA level (HP:0002720); Decreased circulating IgG level (HP:0004315); Decreased circulating total IgM (HP:0002850); excluded: Discoid lupus rash (HP:0007417); excluded: Systemic lupus erythematosus (HP:0002725); excluded: Diarrhea (HP:0002014); excluded: Crohn's disease (HP:0100280); excluded: Ulcerative colitis (HP:0100279); excluded: Recurrent otitis media (HP:0000403); excluded: BCGitis (HP:0020086); excluded: Mastoiditis (HP:0000265); excluded: Recurrent pneumonia (HP:0006532); excluded: Recurrent bronchitis (HP:0002837); excluded: Cytoplasmic antineutrophil antibody positivity (HP:0032230); excluded: Antinuclear antibody positivity (HP:0003493); excluded: Anti-smooth muscle antibody positivity (HP:0003262); excluded: Increased circulating IgE level (HP:0003212); excluded: Acute respiratory distress syndrome (HP:0033677)</td></tr>\n",
       "<tr><td style=\"text-align: left;\">Patient 4 (MALE; P6Y)</td><td style=\"text-align: left;\">Autoinflammatory disease, multisystem, with immune dysregulation, X-linked (OMIM:301109)</td><td style=\"text-align: left;\">NM_144658.4:c.323A>G (heterozygous)</td><td style=\"text-align: left;\">Diarrhea (HP:0002014); Crohn's disease (HP:0100280); Recurrent gastroenteritis (HP:0031123); Anisocytosis (HP:0011273); Increased circulating IgE level (HP:0003212); excluded: Discoid lupus rash (HP:0007417); excluded: Systemic lupus erythematosus (HP:0002725); excluded: Ulcerative colitis (HP:0100279); excluded: Failure to thrive (HP:0001508); excluded: Leukocytosis (HP:0001974); excluded: Recurrent otitis media (HP:0000403); excluded: BCGitis (HP:0020086); excluded: Mastoiditis (HP:0000265); excluded: Recurrent pneumonia (HP:0006532); excluded: Recurrent bronchitis (HP:0002837); excluded: Panniculitis (HP:0012490); excluded: Autoimmune hemolytic anemia (HP:0001890); excluded: Splenomegaly (HP:0001744); excluded: Hepatomegaly (HP:0002240); excluded: Cytoplasmic antineutrophil antibody positivity (HP:0032230); excluded: Antinuclear antibody positivity (HP:0003493); excluded: Anti-smooth muscle antibody positivity (HP:0003262); excluded: Decreased circulating IgA level (HP:0002720); excluded: Decreased circulating IgG level (HP:0004315); excluded: Decreased circulating total IgM (HP:0002850); excluded: Acute respiratory distress syndrome (HP:0033677); excluded: Nephrotic syndrome (HP:0000100)</td></tr>\n",
       "</table>"
      ],
      "text/plain": [
       "<IPython.core.display.HTML object>"
      ]
     },
     "metadata": {},
     "output_type": "display_data"
    }
   ],
   "source": [
    "table = IndividualTable(cvalidator.get_error_free_individual_list())\n",
    "display(HTML(table.to_html()))"
   ]
  },
  {
   "cell_type": "code",
   "execution_count": 14,
   "metadata": {},
   "outputs": [
    {
     "name": "stdout",
     "output_type": "stream",
     "text": [
      "[pyphetools] Ingested 12 GA4GH phenopackets.\n",
      "[INFO] Extracted 12 from 12 phenopackets with OMIM:301109\n",
      "\n",
      "\tAutoinflammatory disease, multisystem, with immune dysregulation, X-linked (OMIM:301109): n=12\n",
      "We found a total of 45 unique HPO terms\n",
      "Extracted disease: Autoinflammatory disease, multisystem, with immune dysregulation, X-linked (OMIM:301109)\n",
      "Wrote HPOA disease file to OMIM-301109.tab\n"
     ]
    }
   ],
   "source": [
    "pmid = \"PMID:36952639\"\n",
    "df = timporter.create_hpoa_from_phenopackets(pmid=pmid, moi=\"X-linked recessive inheritance\", target=\"OMIM:301109\")"
   ]
  },
  {
   "cell_type": "code",
   "execution_count": null,
   "metadata": {},
   "outputs": [],
   "source": []
  }
 ],
 "metadata": {
  "kernelspec": {
   "display_name": "ps24venv",
   "language": "python",
   "name": "python3"
  },
  "language_info": {
   "codemirror_mode": {
    "name": "ipython",
    "version": 3
   },
   "file_extension": ".py",
   "mimetype": "text/x-python",
   "name": "python",
   "nbconvert_exporter": "python",
   "pygments_lexer": "ipython3",
   "version": "3.9.6"
  }
 },
 "nbformat": 4,
 "nbformat_minor": 2
}
