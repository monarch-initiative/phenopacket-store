{
 "cells": [
  {
   "cell_type": "markdown",
   "metadata": {},
   "source": [
    "# RGS9\n",
    "[prolonged electroretinal response suppression-1 (PERRS1)](https://omim.org/entry/608415) is caused by homozygous mutation in the RGS9 gene."
   ]
  },
  {
   "cell_type": "code",
   "execution_count": 1,
   "metadata": {},
   "outputs": [
    {
     "name": "stdout",
     "output_type": "stream",
     "text": [
      "Using pyphetools version 0.9.82\n"
     ]
    },
    {
     "name": "stderr",
     "output_type": "stream",
     "text": [
      "/Users/robin/GIT/phenopacket-store/ps24venv/lib/python3.9/site-packages/urllib3/__init__.py:35: NotOpenSSLWarning: urllib3 v2 only supports OpenSSL 1.1.1+, currently the 'ssl' module is compiled with 'LibreSSL 2.8.3'. See: https://github.com/urllib3/urllib3/issues/3020\n",
      "  warnings.warn(\n"
     ]
    }
   ],
   "source": [
    "from pyphetools.creation import TemplateImporter\n",
    "from pyphetools.visualization import IndividualTable, QcVisualizer\n",
    "from IPython.display import display, HTML\n",
    "import pyphetools\n",
    "print(f\"Using pyphetools version {pyphetools.__version__}\")"
   ]
  },
  {
   "cell_type": "code",
   "execution_count": 2,
   "metadata": {},
   "outputs": [],
   "source": [
    "template = \"input/RGS9_PERRS1_individuals.xlsx\"\n",
    "created_by = \"0000-0002-0736-9199\""
   ]
  },
  {
   "cell_type": "code",
   "execution_count": 3,
   "metadata": {},
   "outputs": [
    {
     "name": "stdout",
     "output_type": "stream",
     "text": [
      "HPO version 2024-04-26\n",
      "Created encoders for 22 fields\n",
      "Importing OMIM:608415, Prolonged electroretinal response suppression 1, HGNC:10004, RGS9,  NM_003835.4\n",
      "We output 5 GA4GH phenopackets to the directory phenopackets\n"
     ]
    }
   ],
   "source": [
    "timporter = TemplateImporter(template=template,  created_by=created_by)\n",
    "individual_list, cvalidator = timporter.import_phenopackets_from_template()"
   ]
  },
  {
   "cell_type": "code",
   "execution_count": 4,
   "metadata": {},
   "outputs": [
    {
     "data": {
      "text/html": [
       "<h2>Cohort validation</h2>\n",
       "<p>No errors found for the cohort with 5 individuals</p>"
      ],
      "text/plain": [
       "<IPython.core.display.HTML object>"
      ]
     },
     "metadata": {},
     "output_type": "display_data"
    }
   ],
   "source": [
    "qc = QcVisualizer(cohort_validator=cvalidator)\n",
    "display(HTML(qc.to_summary_html()))"
   ]
  },
  {
   "cell_type": "code",
   "execution_count": 5,
   "metadata": {},
   "outputs": [
    {
     "data": {
      "text/html": [
       "<table style=\"border: 2px solid black; align: \"left\">\n",
       "<caption>5 phenopackets - PMID:14702087 (n=4); PMID:19818506 (n=1)</caption>\n",
       "<tr><th style=\"text-align: left;font-weight: bold;\">Individual</th><th style=\"text-align: left;font-weight: bold;\">Disease</th><th style=\"text-align: left;font-weight: bold;\">Genotype</th><th style=\"text-align: left;font-weight: bold;\">Phenotypic features</th></tr>\n",
       "<tr><td style=\"text-align: left;\">the fourth Dutch index patient (UNKNOWN; n/a)</td><td style=\"text-align: left;\">Prolonged electroretinal response suppression 1 (OMIM:608415)</td><td style=\"text-align: left;\">NM_003835.4:c.895T>C (homozygous)</td><td style=\"text-align: left;\">Bradyopsia (HP:0030511); Difficulty adjusting to changes in luminance (HP:0030512); Reduced visual acuity (HP:0007663); Photophobia (HP:0000613); excluded: Nystagmus (HP:0000639)</td></tr>\n",
       "<tr><td style=\"text-align: left;\">Patient 2 of PMID:1790747 (UNKNOWN; n/a)</td><td style=\"text-align: left;\">Prolonged electroretinal response suppression 1 (OMIM:608415)</td><td style=\"text-align: left;\">NM_003835.4:c.895T>C (homozygous)</td><td style=\"text-align: left;\">Bradyopsia (HP:0030511); Difficulty adjusting to changes in luminance (HP:0030512); Reduced visual acuity (HP:0007663); Photophobia (HP:0000613); Nystagmus (HP:0000639)</td></tr>\n",
       "<tr><td style=\"text-align: left;\">Patient 3 of PMID:1790747 (UNKNOWN; n/a)</td><td style=\"text-align: left;\">Prolonged electroretinal response suppression 1 (OMIM:608415)</td><td style=\"text-align: left;\">NM_003835.4:c.895T>C (homozygous)</td><td style=\"text-align: left;\">Bradyopsia (HP:0030511); Difficulty adjusting to changes in luminance (HP:0030512); Reduced visual acuity (HP:0007663); Photophobia (HP:0000613); excluded: Nystagmus (HP:0000639)</td></tr>\n",
       "<tr><td style=\"text-align: left;\">Patient 4 of PMID:1790747 (UNKNOWN; n/a)</td><td style=\"text-align: left;\">Prolonged electroretinal response suppression 1 (OMIM:608415)</td><td style=\"text-align: left;\">NM_003835.4:c.895T>C (homozygous)</td><td style=\"text-align: left;\">Bradyopsia (HP:0030511); Difficulty adjusting to changes in luminance (HP:0030512); Reduced visual acuity (HP:0007663); Photophobia (HP:0000613); excluded: Nystagmus (HP:0000639)</td></tr>\n",
       "<tr><td style=\"text-align: left;\">Patient 3 (MALE; P60Y)</td><td style=\"text-align: left;\">Prolonged electroretinal response suppression 1 (OMIM:608415)</td><td style=\"text-align: left;\"><ul> <li>NM_003835.4:c.895T>C (heterozygous)</li> <li>NM_003835.4:c.382C>T (heterozygous)</li> </ul></td><td style=\"text-align: left;\">Bradyopsia (HP:0030511); Difficulty adjusting to changes in luminance (HP:0030512); Reduced visual acuity (HP:0007663); Photophobia (HP:0000613); excluded: Nystagmus (HP:0000639)</td></tr>\n",
       "</table>"
      ],
      "text/plain": [
       "<IPython.core.display.HTML object>"
      ]
     },
     "metadata": {},
     "output_type": "display_data"
    }
   ],
   "source": [
    "table = IndividualTable(cvalidator.get_error_free_individual_list())\n",
    "display(HTML(table.to_html()))"
   ]
  },
  {
   "cell_type": "code",
   "execution_count": 6,
   "metadata": {},
   "outputs": [
    {
     "name": "stdout",
     "output_type": "stream",
     "text": [
      "[pyphetools] Ingested 5 GA4GH phenopackets.\n",
      "\tProlonged electroretinal response suppression 1 (OMIM:608415): n=5\n",
      "We found a total of 5 unique HPO terms\n",
      "Extracted disease: Prolonged electroretinal response suppression 1 (OMIM:608415)\n",
      "Wrote HPOA disease file to OMIM-608415.tab\n"
     ]
    }
   ],
   "source": [
    "pmid = \"PMID:14702087\"\n",
    "df = timporter.create_hpoa_from_phenopackets(pmid=pmid, moi=\"Autosomal recessive\")"
   ]
  }
 ],
 "metadata": {
  "kernelspec": {
   "display_name": "ps24venv",
   "language": "python",
   "name": "python3"
  },
  "language_info": {
   "codemirror_mode": {
    "name": "ipython",
    "version": 3
   },
   "file_extension": ".py",
   "mimetype": "text/x-python",
   "name": "python",
   "nbconvert_exporter": "python",
   "pygments_lexer": "ipython3",
   "version": "3.9.6"
  }
 },
 "nbformat": 4,
 "nbformat_minor": 2
}
