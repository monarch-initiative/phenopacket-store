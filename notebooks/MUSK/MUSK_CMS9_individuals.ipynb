{
 "cells": [
  {
   "cell_type": "markdown",
   "metadata": {},
   "source": [
    "# MUSK\n",
    "[congenital myasthenic syndrome-9 (CMS9) associated with acetylcholine receptor (AChR) deficiency](https://omim.org/entry/616325) is caused by homozygous or compound heterozygous mutation in the MUSK gene. "
   ]
  },
  {
   "cell_type": "code",
   "execution_count": 3,
   "metadata": {},
   "outputs": [
    {
     "name": "stdout",
     "output_type": "stream",
     "text": [
      "Using pyphetools version 0.9.84\n"
     ]
    }
   ],
   "source": [
    "from pyphetools.creation import TemplateImporter\n",
    "from pyphetools.visualization import IndividualTable, QcVisualizer\n",
    "from IPython.display import display, HTML\n",
    "import pyphetools\n",
    "print(f\"Using pyphetools version {pyphetools.__version__}\")"
   ]
  },
  {
   "cell_type": "code",
   "execution_count": 5,
   "metadata": {},
   "outputs": [],
   "source": [
    "template = \"input/MUSK_CMS9_individuals.xlsx\"\n",
    "created_by = \"0000-0002-0736-9199\""
   ]
  },
  {
   "cell_type": "code",
   "execution_count": 6,
   "metadata": {},
   "outputs": [
    {
     "name": "stdout",
     "output_type": "stream",
     "text": [
      "HPO version 2024-04-26\n",
      "Created encoders for 44 fields\n",
      "Importing OMIM:616325, Myasthenic syndrome, congenital, 9, associated with acetylcholine receptor deficiency, HGNC:7525, MUSK,  NM_005592.4\n",
      "[INFO] encoding variant \"c.2180C>T\"\n",
      "https://rest.variantvalidator.org/VariantValidator/variantvalidator/hg38/NM_005592.4%3Ac.2180C>T/NM_005592.4?content-type=application%2Fjson\n",
      "[INFO] encoding variant \"c.1815G>A\"\n",
      "https://rest.variantvalidator.org/VariantValidator/variantvalidator/hg38/NM_005592.4%3Ac.1815G>A/NM_005592.4?content-type=application%2Fjson\n",
      "[INFO] encoding variant \"c.2503A>G\"\n",
      "https://rest.variantvalidator.org/VariantValidator/variantvalidator/hg38/NM_005592.4%3Ac.2503A>G/NM_005592.4?content-type=application%2Fjson\n",
      "[INFO] encoding variant \"c.2368G>A\"\n",
      "https://rest.variantvalidator.org/VariantValidator/variantvalidator/hg38/NM_005592.4%3Ac.2368G>A/NM_005592.4?content-type=application%2Fjson\n",
      "[INFO] encoding variant \"c.1031C>G\"\n",
      "https://rest.variantvalidator.org/VariantValidator/variantvalidator/hg38/NM_005592.4%3Ac.1031C>G/NM_005592.4?content-type=application%2Fjson\n",
      "[INFO] encoding variant \"c.220dup\"\n",
      "https://rest.variantvalidator.org/VariantValidator/variantvalidator/hg38/NM_005592.4%3Ac.220dup/NM_005592.4?content-type=application%2Fjson\n",
      "We output 8 GA4GH phenopackets to the directory phenopackets\n"
     ]
    }
   ],
   "source": [
    "timporter = TemplateImporter(template=template,  created_by=created_by)\n",
    "individual_list, cvalidator = timporter.import_phenopackets_from_template()"
   ]
  },
  {
   "cell_type": "code",
   "execution_count": 7,
   "metadata": {},
   "outputs": [
    {
     "data": {
      "text/html": [
       "<h2>Cohort validation</h2>\n",
       "<p>Errors found with 3 of 8 phenopackets.</p>\n",
       "<table style=\"border: 2px solid black; align: \"left\">\n",
       "<caption>Error counts</caption>\n",
       "<tr><th style=\"text-align: left;font-weight: bold;\">Level</th><th style=\"text-align: left;font-weight: bold;\">Error category</th><th style=\"text-align: left;font-weight: bold;\">Count</th></tr>\n",
       "<tr><td style=\"text-align: left;\">WARNING</td><td style=\"text-align: left;\">REDUNDANT</td><td style=\"text-align: left;\">3</td></tr>\n",
       "</table>\n",
       "<p>A total of 3 issues were fixed and no individual was removed from the cohort.</p>"
      ],
      "text/plain": [
       "<IPython.core.display.HTML object>"
      ]
     },
     "metadata": {},
     "output_type": "display_data"
    }
   ],
   "source": [
    "qc = QcVisualizer(cohort_validator=cvalidator)\n",
    "display(HTML(qc.to_summary_html()))"
   ]
  },
  {
   "cell_type": "code",
   "execution_count": 8,
   "metadata": {},
   "outputs": [
    {
     "data": {
      "text/html": [
       "<table style=\"border: 2px solid black; align: \"left\">\n",
       "<caption>8 phenopackets - PMID:15496425 (n=1); PMID:19949040 (n=5); PMID:20371544 (n=1); PMID:23326516 (n=1)</caption>\n",
       "<tr><th style=\"text-align: left;font-weight: bold;\">Individual</th><th style=\"text-align: left;font-weight: bold;\">Disease</th><th style=\"text-align: left;font-weight: bold;\">Genotype</th><th style=\"text-align: left;font-weight: bold;\">Phenotypic features</th></tr>\n",
       "<tr><td style=\"text-align: left;\">patient (FEMALE; P27Y)</td><td style=\"text-align: left;\">Myasthenic syndrome, congenital, 9, associated with acetylcholine receptor deficiency (OMIM:616325)</td><td style=\"text-align: left;\"><ul> <li>NM_005592.4:c.2368G>A (heterozygous)</li> <li>NM_005592.4:c.220dup (heterozygous)</li> </ul></td><td style=\"text-align: left;\"><b>P22Y</b>: Proximal muscle weakness in upper limbs (HP:0008997); Hypernasal speech (HP:0001611); Dysphagia (HP:0002015); EMG: decremental response of compound muscle action potential to repetitive nerve stimulation (HP:0003403)<br/><b>P27Y</b>: Neck muscle weakness (HP:0000467); Ophthalmoplegia (HP:0000602)<br/>Respiratory insufficiency (HP:0002093); Ptosis (HP:0000508); Easy fatigability (HP:0003388); excluded: Anti-acetylcholine receptor antibody positivity (HP:0030208); excluded: Anti-muscle-specific tyrosine kinase antibody (HP:0030210)</td></tr>\n",
       "<tr><td style=\"text-align: left;\">Patient 1 (MALE; P19Y6M)</td><td style=\"text-align: left;\">Myasthenic syndrome, congenital, 9, associated with acetylcholine receptor deficiency (OMIM:616325)</td><td style=\"text-align: left;\">NM_005592.4:c.1031C>G (homozygous)</td><td style=\"text-align: left;\"><b>P20Y</b>: Neck muscle weakness (HP:0000467); Respiratory insufficiency (HP:0002093)<br/>Ptosis (HP:0000508); Gowers sign (HP:0003391); Easy fatigability (HP:0003388); Ophthalmoplegia (HP:0000602); Weakness of facial musculature (HP:0030319); Hyperlordosis (HP:0003307); excluded: Shoulder girdle muscle weakness (HP:0003547); excluded: Proximal muscle weakness in upper limbs (HP:0008997); excluded: Hypernasal speech (HP:0001611); excluded: Waddling gait (HP:0002515)</td></tr>\n",
       "<tr><td style=\"text-align: left;\">Patient 2 (MALE; P18Y6M)</td><td style=\"text-align: left;\">Myasthenic syndrome, congenital, 9, associated with acetylcholine receptor deficiency (OMIM:616325)</td><td style=\"text-align: left;\">NM_005592.4:c.1031C>G (homozygous)</td><td style=\"text-align: left;\">Ptosis (HP:0000508); Gowers sign (HP:0003391); Shoulder girdle muscle weakness (HP:0003547); Easy fatigability (HP:0003388); Ophthalmoplegia (HP:0000602); Weakness of facial musculature (HP:0030319); Waddling gait (HP:0002515); excluded: Proximal muscle weakness in upper limbs (HP:0008997); excluded: Neck muscle weakness (HP:0000467); excluded: Respiratory insufficiency (HP:0002093); excluded: Hypernasal speech (HP:0001611); excluded: Hyperlordosis (HP:0003307)</td></tr>\n",
       "<tr><td style=\"text-align: left;\">Patient 3 (MALE; P16Y)</td><td style=\"text-align: left;\">Myasthenic syndrome, congenital, 9, associated with acetylcholine receptor deficiency (OMIM:616325)</td><td style=\"text-align: left;\">NM_005592.4:c.1031C>G (homozygous)</td><td style=\"text-align: left;\">Ptosis (HP:0000508); Gowers sign (HP:0003391); Shoulder girdle muscle weakness (HP:0003547); Easy fatigability (HP:0003388); Ophthalmoplegia (HP:0000602); Weakness of facial musculature (HP:0030319); Hyperlordosis (HP:0003307); excluded: Proximal muscle weakness in upper limbs (HP:0008997); excluded: Neck muscle weakness (HP:0000467); excluded: Respiratory insufficiency (HP:0002093); excluded: Hypernasal speech (HP:0001611); excluded: Waddling gait (HP:0002515)</td></tr>\n",
       "<tr><td style=\"text-align: left;\">Patient 4 (FEMALE; P13Y)</td><td style=\"text-align: left;\">Myasthenic syndrome, congenital, 9, associated with acetylcholine receptor deficiency (OMIM:616325)</td><td style=\"text-align: left;\">NM_005592.4:c.1031C>G (homozygous)</td><td style=\"text-align: left;\"><b>P8Y</b>: Hypernasal speech (HP:0001611)<br/>Ptosis (HP:0000508); Easy fatigability (HP:0003388); Ophthalmoplegia (HP:0000602); Weakness of facial musculature (HP:0030319); excluded: Gowers sign (HP:0003391); excluded: Shoulder girdle muscle weakness (HP:0003547); excluded: Proximal muscle weakness in upper limbs (HP:0008997); excluded: Neck muscle weakness (HP:0000467); excluded: Respiratory insufficiency (HP:0002093); excluded: Hyperlordosis (HP:0003307); excluded: Waddling gait (HP:0002515)</td></tr>\n",
       "<tr><td style=\"text-align: left;\">Patient 5 (FEMALE; P9Y)</td><td style=\"text-align: left;\">Myasthenic syndrome, congenital, 9, associated with acetylcholine receptor deficiency (OMIM:616325)</td><td style=\"text-align: left;\">NM_005592.4:c.1031C>G (homozygous)</td><td style=\"text-align: left;\">Ptosis (HP:0000508); Gowers sign (HP:0003391); Easy fatigability (HP:0003388); Ophthalmoplegia (HP:0000602); Weakness of facial musculature (HP:0030319); excluded: Shoulder girdle muscle weakness (HP:0003547); excluded: Proximal muscle weakness in upper limbs (HP:0008997); excluded: Neck muscle weakness (HP:0000467); excluded: Respiratory insufficiency (HP:0002093); excluded: Hypernasal speech (HP:0001611); excluded: Hyperlordosis (HP:0003307); excluded: Waddling gait (HP:0002515)</td></tr>\n",
       "<tr><td style=\"text-align: left;\">patient (FEMALE; P19Y)</td><td style=\"text-align: left;\">Myasthenic syndrome, congenital, 9, associated with acetylcholine receptor deficiency (OMIM:616325)</td><td style=\"text-align: left;\"><ul> <li>NM_005592.4:c.1815G>A (heterozygous)</li> <li>NM_005592.4:c.2180C>T (heterozygous)</li> </ul></td><td style=\"text-align: left;\"><b>P4Y</b>: EMG: decremental response of compound muscle action potential to repetitive nerve stimulation (HP:0003403)<br/><b>P12Y</b>: Proximal muscle weakness in upper limbs (HP:0008997); Neck muscle weakness (HP:0000467); Upgaze palsy (HP:0025331); Ptosis (HP:0000508); Weakness of facial musculature (HP:0030319)<br/>Hypotonia (HP:0001252); Respiratory insufficiency (HP:0002093); Scoliosis (HP:0002650); excluded: Hypernasal speech (HP:0001611); excluded: Dysphagia (HP:0002015); excluded: Anti-acetylcholine receptor antibody positivity (HP:0030208); excluded: Anti-muscle-specific tyrosine kinase antibody (HP:0030210)</td></tr>\n",
       "<tr><td style=\"text-align: left;\">12-year-old boy (MALE; P12Y)</td><td style=\"text-align: left;\">Myasthenic syndrome, congenital, 9, associated with acetylcholine receptor deficiency (OMIM:616325)</td><td style=\"text-align: left;\">NM_005592.4:c.2503A>G (homozygous)</td><td style=\"text-align: left;\"><b>P4Y</b>: Ptosis (HP:0000508)<br/><b>P12Y</b>: Gowers sign (HP:0003391); Proximal muscle weakness in upper limbs (HP:0008997); Axial muscle weakness (HP:0003327); Easy fatigability (HP:0003388); Upgaze palsy (HP:0025331); Waddling gait (HP:0002515); Tongue atrophy (HP:0012473); Distal lower limb amyotrophy (HP:0008944)<br/>Sleep apnea (HP:0010535); excluded: Dysphagia (HP:0002015); excluded: Anti-acetylcholine receptor antibody positivity (HP:0030208); excluded: EMG: decremental response of compound muscle action potential to repetitive nerve stimulation (HP:0003403); excluded: Scoliosis (HP:0002650); excluded: Flexion contracture (HP:0001371); excluded: Fasciculations (HP:0002380)</td></tr>\n",
       "</table>"
      ],
      "text/plain": [
       "<IPython.core.display.HTML object>"
      ]
     },
     "metadata": {},
     "output_type": "display_data"
    }
   ],
   "source": [
    "table = IndividualTable(cvalidator.get_error_free_individual_list())\n",
    "display(HTML(table.to_html()))"
   ]
  },
  {
   "cell_type": "code",
   "execution_count": 9,
   "metadata": {},
   "outputs": [
    {
     "name": "stdout",
     "output_type": "stream",
     "text": [
      "[pyphetools] Ingested 8 GA4GH phenopackets.\n",
      "\tMyasthenic syndrome, congenital, 9, associated with acetylcholine receptor deficiency (OMIM:616325): n=8\n",
      "We found a total of 25 unique HPO terms\n",
      "Extracted disease: Myasthenic syndrome, congenital, 9, associated with acetylcholine receptor deficiency (OMIM:616325)\n",
      "Wrote HPOA disease file to OMIM-616325.tab\n"
     ]
    }
   ],
   "source": [
    "pmid = \"PMID:15496425\"\n",
    "df = timporter.create_hpoa_from_phenopackets(pmid=pmid, moi=\"Autosomal recessive\")"
   ]
  }
 ],
 "metadata": {
  "kernelspec": {
   "display_name": "ps24venv",
   "language": "python",
   "name": "python3"
  },
  "language_info": {
   "codemirror_mode": {
    "name": "ipython",
    "version": 3
   },
   "file_extension": ".py",
   "mimetype": "text/x-python",
   "name": "python",
   "nbconvert_exporter": "python",
   "pygments_lexer": "ipython3",
   "version": "3.9.6"
  }
 },
 "nbformat": 4,
 "nbformat_minor": 2
}
