{
 "cells": [
  {
   "cell_type": "markdown",
   "metadata": {},
   "source": [
    "# ALG9\n",
    "[congenital disorder of glycosylation type Il (CDG Il; CDG1L)](https://omim.org/entry/608776)  is caused by homozygous mutation in the ALG9 gene."
   ]
  },
  {
   "cell_type": "code",
   "execution_count": 6,
   "metadata": {},
   "outputs": [
    {
     "name": "stdout",
     "output_type": "stream",
     "text": [
      "Using pyphetools version 0.9.79\n"
     ]
    }
   ],
   "source": [
    "from pyphetools.creation import TemplateImporter\n",
    "from pyphetools.visualization import IndividualTable, QcVisualizer\n",
    "from IPython.display import display, HTML\n",
    "import pyphetools\n",
    "print(f\"Using pyphetools version {pyphetools.__version__}\")"
   ]
  },
  {
   "cell_type": "code",
   "execution_count": 9,
   "metadata": {},
   "outputs": [],
   "source": [
    "template = \"input/ALG9_CDG1L_individuals.xlsx\"\n",
    "hp_json = \"../hp.json\"\n",
    "created_by = \"0000-0002-0736-9199\""
   ]
  },
  {
   "cell_type": "code",
   "execution_count": 14,
   "metadata": {},
   "outputs": [
    {
     "name": "stdout",
     "output_type": "stream",
     "text": [
      "HPO version 2024-04-04\n",
      "Created encoders for 58 fields\n",
      "ERROR: Error: Did not recognize heaeder fields: - \"Delayed CNS myelination\" -- \"ed CNS mye\"\n",
      "Importing OMIM:608776, Congenital disorder of glycosylation, type Il, HGNC:15672, ALG9,  NM_024740.2\n",
      "We output 6 GA4GH phenopackets to the directory phenopackets\n"
     ]
    }
   ],
   "source": [
    "timporter = TemplateImporter(template=template, hp_json=hp_json, created_by=created_by)\n",
    "individual_list, cvalidator = timporter.import_phenopackets_from_template()"
   ]
  },
  {
   "cell_type": "code",
   "execution_count": 15,
   "metadata": {},
   "outputs": [
    {
     "data": {
      "text/html": [
       "<h2>Cohort validation</h2>\n",
       "<p>No errors found for the cohort with 6 individuals</p>"
      ],
      "text/plain": [
       "<IPython.core.display.HTML object>"
      ]
     },
     "metadata": {},
     "output_type": "display_data"
    }
   ],
   "source": [
    "qc = QcVisualizer(cohort_validator=cvalidator)\n",
    "display(HTML(qc.to_summary_html()))"
   ]
  },
  {
   "cell_type": "code",
   "execution_count": 16,
   "metadata": {},
   "outputs": [
    {
     "data": {
      "text/html": [
       "<table style=\"border: 2px solid black; align: \"left\">\n",
       "<caption>6 phenopackets - PMID:15148656 (n=1); PMID:15945070 (n=1); PMID:26453364 (n=4)</caption>\n",
       "<tr><th style=\"text-align: left;font-weight: bold;\">Individual</th><th style=\"text-align: left;font-weight: bold;\">Disease</th><th style=\"text-align: left;font-weight: bold;\">Genotype</th><th style=\"text-align: left;font-weight: bold;\">Phenotypic features</th></tr>\n",
       "<tr><td style=\"text-align: left;\">female patient (FEMALE; n/a)</td><td style=\"text-align: left;\">Congenital disorder of glycosylation, type Il (OMIM:608776)</td><td style=\"text-align: left;\">NM_024740.2:c.1588G>A (homozygous)</td><td style=\"text-align: left;\">Microcephaly (HP:0000252); Seizure (HP:0001250); Hypotonia (HP:0001252); Global developmental delay (HP:0001263); Hepatomegaly (HP:0002240); Type I transferrin isoform profile (HP:0003642); excluded: Decreased fetal movement (HP:0001558); excluded: Nonimmune hydrops fetalis (HP:0001790)</td></tr>\n",
       "<tr><td style=\"text-align: left;\">7-month-old girl (FEMALE; P7M)</td><td style=\"text-align: left;\">Congenital disorder of glycosylation, type Il (OMIM:608776)</td><td style=\"text-align: left;\">NM_024740.2:c.860A>G (homozygous)</td><td style=\"text-align: left;\"><b>P10M</b>: Seizure (HP:0001250)<br/><b>P1Y2M</b>: Cerebellar atrophy (HP:0001272); Cerebral atrophy (HP:0002059)<br/>Fetal pericardial effusion (HP:0025671); Esotropia (HP:0000565); Polycystic kidney dysplasia (HP:0000113); Hypotonia (HP:0001252); Failure to thrive (HP:0001508); Type I transferrin isoform profile (HP:0003642); Hypoalbuminemia (HP:0003073); excluded: Decreased fetal movement (HP:0001558); excluded: Nonimmune hydrops fetalis (HP:0001790)</td></tr>\n",
       "<tr><td style=\"text-align: left;\">Patient 1 (FEMALE; P6Y)</td><td style=\"text-align: left;\">Congenital disorder of glycosylation, type Il (OMIM:608776)</td><td style=\"text-align: left;\">NM_024740.2:c.1588G>A (homozygous)</td><td style=\"text-align: left;\">Hip dislocation (HP:0002827); Aplasia cutis congenita (HP:0001057); Decreased fetal movement (HP:0001558); Hypertelorism (HP:0000316); Wide mouth (HP:0000154); Frontal bossing (HP:0002007); Depressed nasal bridge (HP:0005280); Microcephaly (HP:0000252); Seizure (HP:0001250); Cerebellar atrophy (HP:0001272); Cerebral atrophy (HP:0002059); Global developmental delay (HP:0001263); Hepatomegaly (HP:0002240); Wide intermamillary distance (HP:0006610); Low-set ears (HP:0000369); Failure to thrive (HP:0001508); Cutis marmorata (HP:0000965); Broad thumb (HP:0011304); excluded: Atrial septal defect (HP:0001631); excluded: Nonimmune hydrops fetalis (HP:0001790)</td></tr>\n",
       "<tr><td style=\"text-align: left;\">Patient 2 (MALE; n/a)</td><td style=\"text-align: left;\">Congenital disorder of glycosylation, type Il (OMIM:608776)</td><td style=\"text-align: left;\">NM_024740.2:c.1588G>A (homozygous)</td><td style=\"text-align: left;\">Microcephaly (HP:0000252); Seizure (HP:0001250); Cerebellar atrophy (HP:0001272); Cerebral atrophy (HP:0002059); Global developmental delay (HP:0001263); Hepatomegaly (HP:0002240); Failure to thrive (HP:0001508); excluded: Atrial septal defect (HP:0001631); excluded: Decreased fetal movement (HP:0001558); excluded: Nonimmune hydrops fetalis (HP:0001790)</td></tr>\n",
       "<tr><td style=\"text-align: left;\">Patient 3 (FEMALE; n/a)</td><td style=\"text-align: left;\">Congenital disorder of glycosylation, type Il (OMIM:608776)</td><td style=\"text-align: left;\">NM_024740.2:c.1588G>A (homozygous)</td><td style=\"text-align: left;\">Microcephaly (HP:0000252); Seizure (HP:0001250); Cerebellar atrophy (HP:0001272); Cerebral atrophy (HP:0002059); Global developmental delay (HP:0001263); Hepatomegaly (HP:0002240); Failure to thrive (HP:0001508); excluded: Atrial septal defect (HP:0001631); excluded: Decreased fetal movement (HP:0001558); excluded: Nonimmune hydrops fetalis (HP:0001790)</td></tr>\n",
       "<tr><td style=\"text-align: left;\">Patient 4 (MALE; P25D)</td><td style=\"text-align: left;\">Congenital disorder of glycosylation, type Il (OMIM:608776)</td><td style=\"text-align: left;\">NM_024740.2:c.1588G>A (homozygous)</td><td style=\"text-align: left;\">Short neck (HP:0000470); Long philtrum (HP:0000343); Short nose (HP:0003196); Fetal pericardial effusion (HP:0025671); Atrial septal defect (HP:0001631); Hepatomegaly (HP:0002240); Nonimmune hydrops fetalis (HP:0001790); excluded: Microcephaly (HP:0000252); excluded: Seizure (HP:0001250); excluded: Cerebellar atrophy (HP:0001272); excluded: Cerebral atrophy (HP:0002059); excluded: Decreased fetal movement (HP:0001558); excluded: Failure to thrive (HP:0001508)</td></tr>\n",
       "</table>"
      ],
      "text/plain": [
       "<IPython.core.display.HTML object>"
      ]
     },
     "metadata": {},
     "output_type": "display_data"
    }
   ],
   "source": [
    "table = IndividualTable(cvalidator.get_error_free_individual_list())\n",
    "display(HTML(table.to_html()))"
   ]
  }
 ],
 "metadata": {
  "kernelspec": {
   "display_name": "ps24venv",
   "language": "python",
   "name": "python3"
  },
  "language_info": {
   "codemirror_mode": {
    "name": "ipython",
    "version": 3
   },
   "file_extension": ".py",
   "mimetype": "text/x-python",
   "name": "python",
   "nbconvert_exporter": "python",
   "pygments_lexer": "ipython3",
   "version": "3.9.6"
  }
 },
 "nbformat": 4,
 "nbformat_minor": 2
}
