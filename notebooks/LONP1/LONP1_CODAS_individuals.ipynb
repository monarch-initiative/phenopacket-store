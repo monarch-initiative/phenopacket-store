{
 "cells": [
  {
   "cell_type": "markdown",
   "metadata": {},
   "source": [
    "# LONP1\n",
    "[CODAS syndrome](https://omim.org/entry/600373) is caused by homozygous or compound heterozygous mutation in the LONP1 gene."
   ]
  },
  {
   "cell_type": "code",
   "execution_count": 1,
   "metadata": {},
   "outputs": [
    {
     "name": "stdout",
     "output_type": "stream",
     "text": [
      "Using pyphetools version 0.9.91\n"
     ]
    },
    {
     "name": "stderr",
     "output_type": "stream",
     "text": [
      "/Users/robin/GIT/phenopacket-store/ps24venv/lib/python3.9/site-packages/urllib3/__init__.py:35: NotOpenSSLWarning: urllib3 v2 only supports OpenSSL 1.1.1+, currently the 'ssl' module is compiled with 'LibreSSL 2.8.3'. See: https://github.com/urllib3/urllib3/issues/3020\n",
      "  warnings.warn(\n"
     ]
    }
   ],
   "source": [
    "from pyphetools.creation import TemplateImporter\n",
    "from pyphetools.visualization import IndividualTable, QcVisualizer\n",
    "from IPython.display import display, HTML\n",
    "import pyphetools\n",
    "print(f\"Using pyphetools version {pyphetools.__version__}\")"
   ]
  },
  {
   "cell_type": "code",
   "execution_count": 2,
   "metadata": {},
   "outputs": [],
   "source": [
    "template = \"input/LONP1_CODAS_individuals.xlsx\"\n",
    "created_by = \"0000-0002-0736-9199\""
   ]
  },
  {
   "cell_type": "code",
   "execution_count": 3,
   "metadata": {},
   "outputs": [
    {
     "name": "stdout",
     "output_type": "stream",
     "text": [
      "HPO version 2024-04-26\n",
      "Created encoders for 80 fields\n",
      "Importing OMIM:600373, CODAS syndrome, HGNC:9479, LONP1,  NM_004793.4\n",
      "[INFO] encoding variant \"c.296dup\"\n",
      "https://rest.variantvalidator.org/VariantValidator/variantvalidator/hg38/NM_004793.4%3Ac.296dup/NM_004793.4?content-type=application%2Fjson\n",
      "[INFO] encoding variant \"c.2356C>T\"\n",
      "https://rest.variantvalidator.org/VariantValidator/variantvalidator/hg38/NM_004793.4%3Ac.2356C>T/NM_004793.4?content-type=application%2Fjson\n",
      "We output 8 GA4GH phenopackets to the directory phenopackets\n"
     ]
    }
   ],
   "source": [
    "timporter = TemplateImporter(template=template,  created_by=created_by)\n",
    "individual_list, cvalidator = timporter.import_phenopackets_from_template()"
   ]
  },
  {
   "cell_type": "code",
   "execution_count": 4,
   "metadata": {},
   "outputs": [
    {
     "data": {
      "text/html": [
       "<h2>Cohort validation</h2>\n",
       "<p>No errors found for the cohort with 8 individuals</p>"
      ],
      "text/plain": [
       "<IPython.core.display.HTML object>"
      ]
     },
     "metadata": {},
     "output_type": "display_data"
    }
   ],
   "source": [
    "qc = QcVisualizer(cohort_validator=cvalidator)\n",
    "display(HTML(qc.to_summary_html()))"
   ]
  },
  {
   "cell_type": "code",
   "execution_count": 5,
   "metadata": {},
   "outputs": [
    {
     "data": {
      "text/html": [
       "<table style=\"border: 2px solid black; align: \"left\">\n",
       "<caption>8 phenopackets - PMID:25808063 (n=7); PMID:28148925 (n=1)</caption>\n",
       "<tr><th style=\"text-align: left;font-weight: bold;\">Individual</th><th style=\"text-align: left;font-weight: bold;\">Disease</th><th style=\"text-align: left;font-weight: bold;\">Genotype</th><th style=\"text-align: left;font-weight: bold;\">Phenotypic features</th></tr>\n",
       "<tr><td style=\"text-align: left;\">Patient 1 (FEMALE; P5Y)</td><td style=\"text-align: left;\">CODAS syndrome (OMIM:600373)</td><td style=\"text-align: left;\"><ul> <li>NM_004793.4:c.2245C>T (heterozygous)</li> <li>NM_004793.4:c.2300G>A (heterozygous)</li> </ul></td><td style=\"text-align: left;\">Flat face (HP:0012368); Ataxia (HP:0001251); Genu valgum (HP:0002857); Cerebellar hypoplasia (HP:0001321); Delayed epiphyseal ossification (HP:0002663); Crumpled ear (HP:0009901); Motor delay (HP:0001270); Global developmental delay (HP:0001263); Intellectual disability (HP:0001249); Cataract (HP:0000518); excluded: Delayed eruption of teeth (HP:0000684); excluded: Rectovaginal fistula (HP:0000143); excluded: Anal atresia (HP:0002023); excluded: Congenital hip dislocation (HP:0001374); excluded: Hypotonia (HP:0001252); excluded: Coronal cleft vertebrae (HP:0003417); excluded: Absent tibia (HP:0009556); excluded: Umbilical hernia (HP:0001537); excluded: Short stature (HP:0004322); excluded: Sensorineural hearing impairment (HP:0000407); excluded: Conductive hearing impairment (HP:0000405); excluded: Dysphagia (HP:0002015); excluded: Generalized tonic seizure (HP:0010818); excluded: Lower limb spasticity (HP:0002061); excluded: Laryngomalacia (HP:0001601)</td></tr>\n",
       "<tr><td style=\"text-align: left;\">Patient 2 (MALE; P4Y)</td><td style=\"text-align: left;\">CODAS syndrome (OMIM:600373)</td><td style=\"text-align: left;\"><ul> <li>NM_004793.4:c.1427A>C (heterozygous)</li> <li>NM_004793.4:c.2014C>T (heterozygous)</li> </ul></td><td style=\"text-align: left;\">Flat face (HP:0012368); Genu valgum (HP:0002857); Cerebellar hypoplasia (HP:0001321); Delayed epiphyseal ossification (HP:0002663); Crumpled ear (HP:0009901); Motor delay (HP:0001270); Global developmental delay (HP:0001263); Intellectual disability (HP:0001249); Cataract (HP:0000518); excluded: Delayed eruption of teeth (HP:0000684); excluded: Rectovaginal fistula (HP:0000143); excluded: Anal atresia (HP:0002023); excluded: Congenital hip dislocation (HP:0001374); excluded: Ataxia (HP:0001251); excluded: Hypotonia (HP:0001252); excluded: Coronal cleft vertebrae (HP:0003417); excluded: Absent tibia (HP:0009556); excluded: Umbilical hernia (HP:0001537); excluded: Short stature (HP:0004322); excluded: Sensorineural hearing impairment (HP:0000407); excluded: Conductive hearing impairment (HP:0000405); excluded: Dysphagia (HP:0002015); excluded: Generalized tonic seizure (HP:0010818); excluded: Lower limb spasticity (HP:0002061); excluded: Laryngomalacia (HP:0001601)</td></tr>\n",
       "<tr><td style=\"text-align: left;\">Patient 3 (FEMALE; P3Y6M)</td><td style=\"text-align: left;\">CODAS syndrome (OMIM:600373)</td><td style=\"text-align: left;\"><ul> <li>NM_004793.4:c.1427A>C (heterozygous)</li> <li>NM_004793.4:c.2245C>T (heterozygous)</li> </ul></td><td style=\"text-align: left;\">Flat face (HP:0012368); Congenital hip dislocation (HP:0001374); Delayed epiphyseal ossification (HP:0002663); Motor delay (HP:0001270); Global developmental delay (HP:0001263); Intellectual disability (HP:0001249); Cataract (HP:0000518); excluded: Delayed eruption of teeth (HP:0000684); excluded: Rectovaginal fistula (HP:0000143); excluded: Anal atresia (HP:0002023); excluded: Ataxia (HP:0001251); excluded: Hypotonia (HP:0001252); excluded: Coronal cleft vertebrae (HP:0003417); excluded: Genu valgum (HP:0002857); excluded: Absent tibia (HP:0009556); excluded: Umbilical hernia (HP:0001537); excluded: Cerebellar hypoplasia (HP:0001321); excluded: Short stature (HP:0004322); excluded: Crumpled ear (HP:0009901); excluded: Sensorineural hearing impairment (HP:0000407); excluded: Conductive hearing impairment (HP:0000405); excluded: Dysphagia (HP:0002015); excluded: Generalized tonic seizure (HP:0010818); excluded: Lower limb spasticity (HP:0002061); excluded: Laryngomalacia (HP:0001601)</td></tr>\n",
       "<tr><td style=\"text-align: left;\">Patient 4 (MALE; P3Y6M)</td><td style=\"text-align: left;\">CODAS syndrome (OMIM:600373)</td><td style=\"text-align: left;\"><ul> <li>NM_004793.4:c.2009C>T (heterozygous)</li> <li>NM_004793.4:c.2780_2782del (heterozygous)</li> </ul></td><td style=\"text-align: left;\">Flat face (HP:0012368); Genu valgum (HP:0002857); Delayed epiphyseal ossification (HP:0002663); Cataract (HP:0000518); excluded: Delayed eruption of teeth (HP:0000684); excluded: Rectovaginal fistula (HP:0000143); excluded: Anal atresia (HP:0002023); excluded: Congenital hip dislocation (HP:0001374); excluded: Ataxia (HP:0001251); excluded: Hypotonia (HP:0001252); excluded: Coronal cleft vertebrae (HP:0003417); excluded: Absent tibia (HP:0009556); excluded: Umbilical hernia (HP:0001537); excluded: Short stature (HP:0004322); excluded: Crumpled ear (HP:0009901); excluded: Sensorineural hearing impairment (HP:0000407); excluded: Conductive hearing impairment (HP:0000405); excluded: Dysphagia (HP:0002015); excluded: Generalized tonic seizure (HP:0010818); excluded: Lower limb spasticity (HP:0002061); excluded: Motor delay (HP:0001270); excluded: Global developmental delay (HP:0001263); excluded: Intellectual disability (HP:0001249); excluded: Laryngomalacia (HP:0001601)</td></tr>\n",
       "<tr><td style=\"text-align: left;\">Patient 5 (MALE; P3Y6M)</td><td style=\"text-align: left;\">CODAS syndrome (OMIM:600373)</td><td style=\"text-align: left;\">NM_004793.4:c.2014C>T (homozygous)</td><td style=\"text-align: left;\">Flat face (HP:0012368); Genu valgum (HP:0002857); Delayed epiphyseal ossification (HP:0002663); Patent foramen ovale (HP:0001655); Cataract (HP:0000518); excluded: Rectovaginal fistula (HP:0000143); excluded: Anal atresia (HP:0002023); excluded: Congenital hip dislocation (HP:0001374); excluded: Ataxia (HP:0001251); excluded: Hypotonia (HP:0001252); excluded: Coronal cleft vertebrae (HP:0003417); excluded: Absent tibia (HP:0009556); excluded: Umbilical hernia (HP:0001537); excluded: Short stature (HP:0004322); excluded: Crumpled ear (HP:0009901); excluded: Sensorineural hearing impairment (HP:0000407); excluded: Conductive hearing impairment (HP:0000405); excluded: Dysphagia (HP:0002015); excluded: Generalized tonic seizure (HP:0010818); excluded: Lower limb spasticity (HP:0002061); excluded: Global developmental delay (HP:0001263); excluded: Intellectual disability (HP:0001249); excluded: Laryngomalacia (HP:0001601)</td></tr>\n",
       "<tr><td style=\"text-align: left;\">Patient 6 (FEMALE; P2Y6M)</td><td style=\"text-align: left;\">CODAS syndrome (OMIM:600373)</td><td style=\"text-align: left;\">NM_004793.4:c.2009C>T (homozygous)</td><td style=\"text-align: left;\">Flat face (HP:0012368); Congenital hip dislocation (HP:0001374); Coronal cleft vertebrae (HP:0003417); Absent tibia (HP:0009556); Umbilical hernia (HP:0001537); Delayed epiphyseal ossification (HP:0002663); Short stature (HP:0004322); Crumpled ear (HP:0009901); Motor delay (HP:0001270); Laryngomalacia (HP:0001601); Cataract (HP:0000518); excluded: Rectovaginal fistula (HP:0000143); excluded: Anal atresia (HP:0002023); excluded: Ataxia (HP:0001251); excluded: Hypotonia (HP:0001252); excluded: Sensorineural hearing impairment (HP:0000407); excluded: Conductive hearing impairment (HP:0000405); excluded: Dysphagia (HP:0002015); excluded: Generalized tonic seizure (HP:0010818); excluded: Lower limb spasticity (HP:0002061); excluded: Global developmental delay (HP:0001263); excluded: Intellectual disability (HP:0001249)</td></tr>\n",
       "<tr><td style=\"text-align: left;\">Patient 7 (FEMALE; P5Y)</td><td style=\"text-align: left;\">CODAS syndrome (OMIM:600373)</td><td style=\"text-align: left;\"><ul> <li>NM_004793.4:c.1392G>A (heterozygous)</li> <li>NM_004793.4:c.2036G>A (heterozygous)</li> </ul></td><td style=\"text-align: left;\">Delayed eruption of teeth (HP:0000684); Flat face (HP:0012368); Hypotonia (HP:0001252); Coronal cleft vertebrae (HP:0003417); Genu valgum (HP:0002857); Delayed epiphyseal ossification (HP:0002663); Short stature (HP:0004322); Crumpled ear (HP:0009901); Motor delay (HP:0001270); Global developmental delay (HP:0001263); Intellectual disability (HP:0001249); Cataract (HP:0000518); excluded: Rectovaginal fistula (HP:0000143); excluded: Anal atresia (HP:0002023); excluded: Ataxia (HP:0001251); excluded: Absent tibia (HP:0009556); excluded: Umbilical hernia (HP:0001537); excluded: Sensorineural hearing impairment (HP:0000407); excluded: Conductive hearing impairment (HP:0000405); excluded: Dysphagia (HP:0002015); excluded: Generalized tonic seizure (HP:0010818); excluded: Lower limb spasticity (HP:0002061); excluded: Laryngomalacia (HP:0001601)</td></tr>\n",
       "<tr><td style=\"text-align: left;\">proband (MALE; P12Y)</td><td style=\"text-align: left;\">CODAS syndrome (OMIM:600373)</td><td style=\"text-align: left;\"><ul> <li>NM_004793.4:c.296dup (heterozygous)</li> <li>NM_004793.4:c.2356C>T (heterozygous)</li> </ul></td><td style=\"text-align: left;\"><b>P2Y10M</b>: Generalized tonic seizure (HP:0010818)<br/><b>P8Y</b>: Dysphagia (HP:0002015)<br/><b>P10Y5M</b>: Caudate atrophy (HP:0002340); Cerebellar cortical atrophy (HP:0008278)<br/>Rectovaginal fistula (HP:0000143); Anal atresia (HP:0002023); Congenital hip dislocation (HP:0001374); Hypotonia (HP:0001252); Short stature (HP:0004322); Lower limb spasticity (HP:0002061); Motor delay (HP:0001270); Global developmental delay (HP:0001263); Choreoathetosis (HP:0001266); excluded: Abnormal circulating amino acid concentration (HP:0003112); excluded: Increased serum pyruvate (HP:0003542)</td></tr>\n",
       "</table>"
      ],
      "text/plain": [
       "<IPython.core.display.HTML object>"
      ]
     },
     "metadata": {},
     "output_type": "display_data"
    }
   ],
   "source": [
    "table = IndividualTable(cvalidator.get_error_free_individual_list())\n",
    "display(HTML(table.to_html()))"
   ]
  },
  {
   "cell_type": "code",
   "execution_count": 6,
   "metadata": {},
   "outputs": [
    {
     "name": "stdout",
     "output_type": "stream",
     "text": [
      "[pyphetools] Ingested 8 GA4GH phenopackets.\n",
      "[INFO] Extracted 8 from 8 phenopackets with OMIM:600373\n",
      "\n",
      "\tCODAS syndrome (OMIM:600373): n=8\n",
      "We found a total of 31 unique HPO terms\n",
      "Extracted disease: CODAS syndrome (OMIM:600373)\n",
      "Wrote HPOA disease file to OMIM-600373.tab\n"
     ]
    }
   ],
   "source": [
    "pmid = \"PMID:25808063\"\n",
    "df = timporter.create_hpoa_from_phenopackets(pmid=pmid, moi=\"Autosomal recessive\", target=\"OMIM:600373\")"
   ]
  }
 ],
 "metadata": {
  "kernelspec": {
   "display_name": "ps24venv",
   "language": "python",
   "name": "python3"
  },
  "language_info": {
   "codemirror_mode": {
    "name": "ipython",
    "version": 3
   },
   "file_extension": ".py",
   "mimetype": "text/x-python",
   "name": "python",
   "nbconvert_exporter": "python",
   "pygments_lexer": "ipython3",
   "version": "3.9.6"
  }
 },
 "nbformat": 4,
 "nbformat_minor": 2
}
