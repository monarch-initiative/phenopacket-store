{
 "cells": [
  {
   "cell_type": "markdown",
   "metadata": {},
   "source": [
    "# LONP1\n",
    "[CODAS syndrome](https://omim.org/entry/600373) is caused by homozygous or compound heterozygous mutation in the LONP1 gene."
   ]
  },
  {
   "cell_type": "code",
   "execution_count": 1,
   "metadata": {},
   "outputs": [
    {
     "name": "stdout",
     "output_type": "stream",
     "text": [
      "Using pyphetools version 0.9.113\n"
     ]
    }
   ],
   "source": [
    "from pyphetools.creation import TemplateImporter, Moi\n",
    "from pyphetools.visualization import IndividualTable, QcVisualizer\n",
    "from IPython.display import display, HTML\n",
    "import pyphetools\n",
    "print(f\"Using pyphetools version {pyphetools.__version__}\")"
   ]
  },
  {
   "cell_type": "code",
   "execution_count": 2,
   "metadata": {},
   "outputs": [],
   "source": [
    "template = \"input/LONP1_CODAS_individuals.xlsx\"\n",
    "created_by = \"0000-0002-0736-9199\""
   ]
  },
  {
   "cell_type": "code",
   "execution_count": 3,
   "metadata": {},
   "outputs": [
    {
     "name": "stdout",
     "output_type": "stream",
     "text": [
      "HPO version 2024-08-13\n",
      "Created encoders for 80 fields\n",
      "Importing OMIM:600373, CODAS syndrome, HGNC:9479, LONP1,  NM_004793.4\n",
      "We output 8 GA4GH phenopackets to the directory phenopackets\n"
     ]
    }
   ],
   "source": [
    "timporter = TemplateImporter(template=template,  created_by=created_by)\n",
    "individual_list, cvalidator = timporter.import_phenopackets_from_template()"
   ]
  },
  {
   "cell_type": "code",
   "execution_count": 4,
   "metadata": {},
   "outputs": [
    {
     "data": {
      "text/html": [
       "<h2>Cohort validation</h2>\n",
       "<p>No errors found for the cohort with 8 individuals</p>"
      ],
      "text/plain": [
       "<IPython.core.display.HTML object>"
      ]
     },
     "metadata": {},
     "output_type": "display_data"
    }
   ],
   "source": [
    "qc = QcVisualizer(cohort_validator=cvalidator)\n",
    "display(HTML(qc.to_summary_html()))"
   ]
  },
  {
   "cell_type": "code",
   "execution_count": 5,
   "metadata": {},
   "outputs": [
    {
     "data": {
      "text/html": [
       "<table style=\"border: 2px solid black; align: \"left\">\n",
       "<caption>8 phenopackets - PMID:25808063 (n=7); PMID:28148925 (n=1)</caption>\n",
       "<tr><th style=\"text-align: left;font-weight: bold;\">Individual</th><th style=\"text-align: left;font-weight: bold;\">Disease</th><th style=\"text-align: left;font-weight: bold;\">Genotype</th><th style=\"text-align: left;font-weight: bold;\">Phenotypic features</th></tr>\n",
       "<tr><td style=\"text-align: left;\">Patient 1 (FEMALE; P5Y)</td><td style=\"text-align: left;\">CODAS syndrome (OMIM:600373)</td><td style=\"text-align: left;\"><ul> <li>NM_004793.4:c.2245C>T (heterozygous)</li> <li>NM_004793.4:c.2300G>A (heterozygous)</li> </ul></td><td style=\"text-align: left;\">Flat face (HP:0012368): onset ; Ataxia (HP:0001251): onset ; Genu valgum (HP:0002857): onset ; Cerebellar hypoplasia (HP:0001321): onset ; Delayed epiphyseal ossification (HP:0002663): onset ; Crumpled ear (HP:0009901): onset ; Motor delay (HP:0001270): onset ; Global developmental delay (HP:0001263): onset ; Intellectual disability (HP:0001249): onset ; Cataract (HP:0000518): onset ; excluded: Delayed eruption of teeth (HP:0000684): onset ; excluded: Rectovaginal fistula (HP:0000143): onset ; excluded: Anal atresia (HP:0002023): onset ; excluded: Congenital hip dislocation (HP:0001374): onset ; excluded: Hypotonia (HP:0001252): onset ; excluded: Coronal cleft vertebrae (HP:0003417): onset ; excluded: Absent tibia (HP:0009556): onset ; excluded: Umbilical hernia (HP:0001537): onset ; excluded: Short stature (HP:0004322): onset ; excluded: Sensorineural hearing impairment (HP:0000407): onset ; excluded: Conductive hearing impairment (HP:0000405): onset ; excluded: Dysphagia (HP:0002015): onset ; excluded: Generalized tonic seizure (HP:0010818): onset ; excluded: Lower limb spasticity (HP:0002061): onset ; excluded: Laryngomalacia (HP:0001601): onset </td></tr>\n",
       "<tr><td style=\"text-align: left;\">Patient 2 (MALE; P4Y)</td><td style=\"text-align: left;\">CODAS syndrome (OMIM:600373)</td><td style=\"text-align: left;\"><ul> <li>NM_004793.4:c.1427A>C (heterozygous)</li> <li>NM_004793.4:c.2014C>T (heterozygous)</li> </ul></td><td style=\"text-align: left;\">Flat face (HP:0012368): onset ; Genu valgum (HP:0002857): onset ; Cerebellar hypoplasia (HP:0001321): onset ; Delayed epiphyseal ossification (HP:0002663): onset ; Crumpled ear (HP:0009901): onset ; Motor delay (HP:0001270): onset ; Global developmental delay (HP:0001263): onset ; Intellectual disability (HP:0001249): onset ; Cataract (HP:0000518): onset ; excluded: Delayed eruption of teeth (HP:0000684): onset ; excluded: Rectovaginal fistula (HP:0000143): onset ; excluded: Anal atresia (HP:0002023): onset ; excluded: Congenital hip dislocation (HP:0001374): onset ; excluded: Ataxia (HP:0001251): onset ; excluded: Hypotonia (HP:0001252): onset ; excluded: Coronal cleft vertebrae (HP:0003417): onset ; excluded: Absent tibia (HP:0009556): onset ; excluded: Umbilical hernia (HP:0001537): onset ; excluded: Short stature (HP:0004322): onset ; excluded: Sensorineural hearing impairment (HP:0000407): onset ; excluded: Conductive hearing impairment (HP:0000405): onset ; excluded: Dysphagia (HP:0002015): onset ; excluded: Generalized tonic seizure (HP:0010818): onset ; excluded: Lower limb spasticity (HP:0002061): onset ; excluded: Laryngomalacia (HP:0001601): onset </td></tr>\n",
       "<tr><td style=\"text-align: left;\">Patient 3 (FEMALE; P3Y6M)</td><td style=\"text-align: left;\">CODAS syndrome (OMIM:600373)</td><td style=\"text-align: left;\"><ul> <li>NM_004793.4:c.1427A>C (heterozygous)</li> <li>NM_004793.4:c.2245C>T (heterozygous)</li> </ul></td><td style=\"text-align: left;\">Flat face (HP:0012368): onset ; Congenital hip dislocation (HP:0001374): onset ; Delayed epiphyseal ossification (HP:0002663): onset ; Motor delay (HP:0001270): onset ; Global developmental delay (HP:0001263): onset ; Intellectual disability (HP:0001249): onset ; Cataract (HP:0000518): onset ; excluded: Delayed eruption of teeth (HP:0000684): onset ; excluded: Rectovaginal fistula (HP:0000143): onset ; excluded: Anal atresia (HP:0002023): onset ; excluded: Ataxia (HP:0001251): onset ; excluded: Hypotonia (HP:0001252): onset ; excluded: Coronal cleft vertebrae (HP:0003417): onset ; excluded: Genu valgum (HP:0002857): onset ; excluded: Absent tibia (HP:0009556): onset ; excluded: Umbilical hernia (HP:0001537): onset ; excluded: Cerebellar hypoplasia (HP:0001321): onset ; excluded: Short stature (HP:0004322): onset ; excluded: Crumpled ear (HP:0009901): onset ; excluded: Sensorineural hearing impairment (HP:0000407): onset ; excluded: Conductive hearing impairment (HP:0000405): onset ; excluded: Dysphagia (HP:0002015): onset ; excluded: Generalized tonic seizure (HP:0010818): onset ; excluded: Lower limb spasticity (HP:0002061): onset ; excluded: Laryngomalacia (HP:0001601): onset </td></tr>\n",
       "<tr><td style=\"text-align: left;\">Patient 4 (MALE; P3Y6M)</td><td style=\"text-align: left;\">CODAS syndrome (OMIM:600373)</td><td style=\"text-align: left;\"><ul> <li>NM_004793.4:c.2009C>T (heterozygous)</li> <li>NM_004793.4:c.2780_2782del (heterozygous)</li> </ul></td><td style=\"text-align: left;\">Flat face (HP:0012368): onset ; Genu valgum (HP:0002857): onset ; Delayed epiphyseal ossification (HP:0002663): onset ; Cataract (HP:0000518): onset ; excluded: Delayed eruption of teeth (HP:0000684): onset ; excluded: Rectovaginal fistula (HP:0000143): onset ; excluded: Anal atresia (HP:0002023): onset ; excluded: Congenital hip dislocation (HP:0001374): onset ; excluded: Ataxia (HP:0001251): onset ; excluded: Hypotonia (HP:0001252): onset ; excluded: Coronal cleft vertebrae (HP:0003417): onset ; excluded: Absent tibia (HP:0009556): onset ; excluded: Umbilical hernia (HP:0001537): onset ; excluded: Short stature (HP:0004322): onset ; excluded: Crumpled ear (HP:0009901): onset ; excluded: Sensorineural hearing impairment (HP:0000407): onset ; excluded: Conductive hearing impairment (HP:0000405): onset ; excluded: Dysphagia (HP:0002015): onset ; excluded: Generalized tonic seizure (HP:0010818): onset ; excluded: Lower limb spasticity (HP:0002061): onset ; excluded: Motor delay (HP:0001270): onset ; excluded: Global developmental delay (HP:0001263): onset ; excluded: Intellectual disability (HP:0001249): onset ; excluded: Laryngomalacia (HP:0001601): onset </td></tr>\n",
       "<tr><td style=\"text-align: left;\">Patient 5 (MALE; P3Y6M)</td><td style=\"text-align: left;\">CODAS syndrome (OMIM:600373)</td><td style=\"text-align: left;\">NM_004793.4:c.2014C>T (homozygous)</td><td style=\"text-align: left;\">Flat face (HP:0012368): onset ; Genu valgum (HP:0002857): onset ; Delayed epiphyseal ossification (HP:0002663): onset ; Patent foramen ovale (HP:0001655): onset ; Cataract (HP:0000518): onset ; excluded: Rectovaginal fistula (HP:0000143): onset ; excluded: Anal atresia (HP:0002023): onset ; excluded: Congenital hip dislocation (HP:0001374): onset ; excluded: Ataxia (HP:0001251): onset ; excluded: Hypotonia (HP:0001252): onset ; excluded: Coronal cleft vertebrae (HP:0003417): onset ; excluded: Absent tibia (HP:0009556): onset ; excluded: Umbilical hernia (HP:0001537): onset ; excluded: Short stature (HP:0004322): onset ; excluded: Crumpled ear (HP:0009901): onset ; excluded: Sensorineural hearing impairment (HP:0000407): onset ; excluded: Conductive hearing impairment (HP:0000405): onset ; excluded: Dysphagia (HP:0002015): onset ; excluded: Generalized tonic seizure (HP:0010818): onset ; excluded: Lower limb spasticity (HP:0002061): onset ; excluded: Global developmental delay (HP:0001263): onset ; excluded: Intellectual disability (HP:0001249): onset ; excluded: Laryngomalacia (HP:0001601): onset </td></tr>\n",
       "<tr><td style=\"text-align: left;\">Patient 6 (FEMALE; P2Y6M)</td><td style=\"text-align: left;\">CODAS syndrome (OMIM:600373)</td><td style=\"text-align: left;\">NM_004793.4:c.2009C>T (homozygous)</td><td style=\"text-align: left;\">Flat face (HP:0012368): onset ; Congenital hip dislocation (HP:0001374): onset ; Coronal cleft vertebrae (HP:0003417): onset ; Absent tibia (HP:0009556): onset ; Umbilical hernia (HP:0001537): onset ; Delayed epiphyseal ossification (HP:0002663): onset ; Short stature (HP:0004322): onset ; Crumpled ear (HP:0009901): onset ; Motor delay (HP:0001270): onset ; Laryngomalacia (HP:0001601): onset ; Cataract (HP:0000518): onset ; excluded: Rectovaginal fistula (HP:0000143): onset ; excluded: Anal atresia (HP:0002023): onset ; excluded: Ataxia (HP:0001251): onset ; excluded: Hypotonia (HP:0001252): onset ; excluded: Sensorineural hearing impairment (HP:0000407): onset ; excluded: Conductive hearing impairment (HP:0000405): onset ; excluded: Dysphagia (HP:0002015): onset ; excluded: Generalized tonic seizure (HP:0010818): onset ; excluded: Lower limb spasticity (HP:0002061): onset ; excluded: Global developmental delay (HP:0001263): onset ; excluded: Intellectual disability (HP:0001249): onset </td></tr>\n",
       "<tr><td style=\"text-align: left;\">Patient 7 (FEMALE; P5Y)</td><td style=\"text-align: left;\">CODAS syndrome (OMIM:600373)</td><td style=\"text-align: left;\"><ul> <li>NM_004793.4:c.1392G>A (heterozygous)</li> <li>NM_004793.4:c.2036G>A (heterozygous)</li> </ul></td><td style=\"text-align: left;\">Delayed eruption of teeth (HP:0000684): onset ; Flat face (HP:0012368): onset ; Hypotonia (HP:0001252): onset ; Coronal cleft vertebrae (HP:0003417): onset ; Genu valgum (HP:0002857): onset ; Delayed epiphyseal ossification (HP:0002663): onset ; Short stature (HP:0004322): onset ; Crumpled ear (HP:0009901): onset ; Motor delay (HP:0001270): onset ; Global developmental delay (HP:0001263): onset ; Intellectual disability (HP:0001249): onset ; Cataract (HP:0000518): onset ; excluded: Rectovaginal fistula (HP:0000143): onset ; excluded: Anal atresia (HP:0002023): onset ; excluded: Ataxia (HP:0001251): onset ; excluded: Absent tibia (HP:0009556): onset ; excluded: Umbilical hernia (HP:0001537): onset ; excluded: Sensorineural hearing impairment (HP:0000407): onset ; excluded: Conductive hearing impairment (HP:0000405): onset ; excluded: Dysphagia (HP:0002015): onset ; excluded: Generalized tonic seizure (HP:0010818): onset ; excluded: Lower limb spasticity (HP:0002061): onset ; excluded: Laryngomalacia (HP:0001601): onset </td></tr>\n",
       "<tr><td style=\"text-align: left;\">proband (MALE; P12Y)</td><td style=\"text-align: left;\">CODAS syndrome (OMIM:600373)</td><td style=\"text-align: left;\"><ul> <li>NM_004793.4:c.296dup (heterozygous)</li> <li>NM_004793.4:c.2356C>T (heterozygous)</li> </ul></td><td style=\"text-align: left;\">Hypotonia (HP:0001252): onset ; Short stature (HP:0004322): onset ; Lower limb spasticity (HP:0002061): onset ; Motor delay (HP:0001270): onset ; Global developmental delay (HP:0001263): onset ; Choreoathetosis (HP:0001266): onset ; excluded: Abnormal circulating amino acid concentration (HP:0003112): onset ; excluded: Increased serum pyruvate (HP:0003542): onset <br/><b>TimeElement(element=OntologyClass(id=HP:0003577, label=Congenital onset))</b>: Rectovaginal fistula (HP:0000143): onset ontology_class {\n",
       "  id: \"HP:0003577\"\n",
       "  label: \"Congenital onset\"\n",
       "}\n",
       "; Anal atresia (HP:0002023): onset ontology_class {\n",
       "  id: \"HP:0003577\"\n",
       "  label: \"Congenital onset\"\n",
       "}\n",
       "; Congenital hip dislocation (HP:0001374): onset ontology_class {\n",
       "  id: \"HP:0003577\"\n",
       "  label: \"Congenital onset\"\n",
       "}\n",
       "<br/><b>TimeElement(element=Age(iso8601duration=P2Y10M))</b>: Generalized tonic seizure (HP:0010818): onset age {\n",
       "  iso8601duration: \"P2Y10M\"\n",
       "}\n",
       "<br/><b>TimeElement(element=Age(iso8601duration=P8Y))</b>: Dysphagia (HP:0002015): onset age {\n",
       "  iso8601duration: \"P8Y\"\n",
       "}\n",
       "<br/><b>TimeElement(element=Age(iso8601duration=P10Y5M))</b>: Caudate atrophy (HP:0002340): onset age {\n",
       "  iso8601duration: \"P10Y5M\"\n",
       "}\n",
       "; Cerebellar cortical atrophy (HP:0008278): onset age {\n",
       "  iso8601duration: \"P10Y5M\"\n",
       "}\n",
       "</td></tr>\n",
       "</table>"
      ],
      "text/plain": [
       "<IPython.core.display.HTML object>"
      ]
     },
     "metadata": {},
     "output_type": "display_data"
    }
   ],
   "source": [
    "table = IndividualTable(cvalidator.get_error_free_individual_list())\n",
    "display(HTML(table.to_html()))"
   ]
  },
  {
   "cell_type": "code",
   "execution_count": 6,
   "metadata": {},
   "outputs": [
    {
     "name": "stdout",
     "output_type": "stream",
     "text": [
      "[pyphetools] Ingested 8 GA4GH phenopackets.\n",
      "[INFO] Extracted 8 from 8 phenopackets with OMIM:600373\n",
      "\n",
      "\tCODAS syndrome (OMIM:600373): n=8\n",
      "We found a total of 31 unique HPO terms\n",
      "Extracted disease: CODAS syndrome (OMIM:600373)\n",
      "Wrote HPOA disease file to OMIM-600373.tab\n"
     ]
    },
    {
     "data": {
      "text/html": [
       "<div>\n",
       "<style scoped>\n",
       "    .dataframe tbody tr th:only-of-type {\n",
       "        vertical-align: middle;\n",
       "    }\n",
       "\n",
       "    .dataframe tbody tr th {\n",
       "        vertical-align: top;\n",
       "    }\n",
       "\n",
       "    .dataframe thead th {\n",
       "        text-align: right;\n",
       "    }\n",
       "</style>\n",
       "<table border=\"1\" class=\"dataframe\">\n",
       "  <thead>\n",
       "    <tr style=\"text-align: right;\">\n",
       "      <th></th>\n",
       "      <th>#diseaseID</th>\n",
       "      <th>diseaseName</th>\n",
       "      <th>phenotypeID</th>\n",
       "      <th>phenotypeName</th>\n",
       "      <th>onsetID</th>\n",
       "      <th>onsetName</th>\n",
       "      <th>frequency</th>\n",
       "      <th>sex</th>\n",
       "      <th>negation</th>\n",
       "      <th>modifier</th>\n",
       "      <th>description</th>\n",
       "      <th>publication</th>\n",
       "      <th>evidence</th>\n",
       "      <th>biocuration</th>\n",
       "    </tr>\n",
       "  </thead>\n",
       "  <tbody>\n",
       "    <tr>\n",
       "      <th>0</th>\n",
       "      <td>OMIM:600373</td>\n",
       "      <td>CODAS syndrome</td>\n",
       "      <td>HP:0012368</td>\n",
       "      <td>Flat face</td>\n",
       "      <td></td>\n",
       "      <td></td>\n",
       "      <td>7/7</td>\n",
       "      <td></td>\n",
       "      <td></td>\n",
       "      <td></td>\n",
       "      <td></td>\n",
       "      <td>PMID:25808063</td>\n",
       "      <td>PCS</td>\n",
       "      <td>ORCID:0000-0002-0736-9199[2024-11-08]</td>\n",
       "    </tr>\n",
       "    <tr>\n",
       "      <th>1</th>\n",
       "      <td>OMIM:600373</td>\n",
       "      <td>CODAS syndrome</td>\n",
       "      <td>HP:0001251</td>\n",
       "      <td>Ataxia</td>\n",
       "      <td></td>\n",
       "      <td></td>\n",
       "      <td>1/7</td>\n",
       "      <td></td>\n",
       "      <td></td>\n",
       "      <td></td>\n",
       "      <td></td>\n",
       "      <td>PMID:25808063</td>\n",
       "      <td>PCS</td>\n",
       "      <td>ORCID:0000-0002-0736-9199[2024-11-08]</td>\n",
       "    </tr>\n",
       "    <tr>\n",
       "      <th>2</th>\n",
       "      <td>OMIM:600373</td>\n",
       "      <td>CODAS syndrome</td>\n",
       "      <td>HP:0002857</td>\n",
       "      <td>Genu valgum</td>\n",
       "      <td></td>\n",
       "      <td></td>\n",
       "      <td>5/6</td>\n",
       "      <td></td>\n",
       "      <td></td>\n",
       "      <td></td>\n",
       "      <td></td>\n",
       "      <td>PMID:25808063</td>\n",
       "      <td>PCS</td>\n",
       "      <td>ORCID:0000-0002-0736-9199[2024-11-08]</td>\n",
       "    </tr>\n",
       "    <tr>\n",
       "      <th>3</th>\n",
       "      <td>OMIM:600373</td>\n",
       "      <td>CODAS syndrome</td>\n",
       "      <td>HP:0001321</td>\n",
       "      <td>Cerebellar hypoplasia</td>\n",
       "      <td></td>\n",
       "      <td></td>\n",
       "      <td>2/3</td>\n",
       "      <td></td>\n",
       "      <td></td>\n",
       "      <td></td>\n",
       "      <td></td>\n",
       "      <td>PMID:25808063</td>\n",
       "      <td>PCS</td>\n",
       "      <td>ORCID:0000-0002-0736-9199[2024-11-08]</td>\n",
       "    </tr>\n",
       "    <tr>\n",
       "      <th>4</th>\n",
       "      <td>OMIM:600373</td>\n",
       "      <td>CODAS syndrome</td>\n",
       "      <td>HP:0002663</td>\n",
       "      <td>Delayed epiphyseal ossification</td>\n",
       "      <td></td>\n",
       "      <td></td>\n",
       "      <td>7/7</td>\n",
       "      <td></td>\n",
       "      <td></td>\n",
       "      <td></td>\n",
       "      <td></td>\n",
       "      <td>PMID:25808063</td>\n",
       "      <td>PCS</td>\n",
       "      <td>ORCID:0000-0002-0736-9199[2024-11-08]</td>\n",
       "    </tr>\n",
       "  </tbody>\n",
       "</table>\n",
       "</div>"
      ],
      "text/plain": [
       "    #diseaseID     diseaseName phenotypeID                    phenotypeName  \\\n",
       "0  OMIM:600373  CODAS syndrome  HP:0012368                        Flat face   \n",
       "1  OMIM:600373  CODAS syndrome  HP:0001251                           Ataxia   \n",
       "2  OMIM:600373  CODAS syndrome  HP:0002857                      Genu valgum   \n",
       "3  OMIM:600373  CODAS syndrome  HP:0001321            Cerebellar hypoplasia   \n",
       "4  OMIM:600373  CODAS syndrome  HP:0002663  Delayed epiphyseal ossification   \n",
       "\n",
       "  onsetID onsetName frequency sex negation modifier description  \\\n",
       "0                         7/7                                     \n",
       "1                         1/7                                     \n",
       "2                         5/6                                     \n",
       "3                         2/3                                     \n",
       "4                         7/7                                     \n",
       "\n",
       "     publication evidence                            biocuration  \n",
       "0  PMID:25808063      PCS  ORCID:0000-0002-0736-9199[2024-11-08]  \n",
       "1  PMID:25808063      PCS  ORCID:0000-0002-0736-9199[2024-11-08]  \n",
       "2  PMID:25808063      PCS  ORCID:0000-0002-0736-9199[2024-11-08]  \n",
       "3  PMID:25808063      PCS  ORCID:0000-0002-0736-9199[2024-11-08]  \n",
       "4  PMID:25808063      PCS  ORCID:0000-0002-0736-9199[2024-11-08]  "
      ]
     },
     "execution_count": 6,
     "metadata": {},
     "output_type": "execute_result"
    }
   ],
   "source": [
    "pmid = \"PMID:25808063\"\n",
    "df = timporter.create_hpoa_from_phenopackets(pmid=pmid, mode_of_inheritance=Moi.AR, target=\"OMIM:600373\")\n",
    "df.head()"
   ]
  }
 ],
 "metadata": {
  "kernelspec": {
   "display_name": "ps24venv",
   "language": "python",
   "name": "python3"
  },
  "language_info": {
   "codemirror_mode": {
    "name": "ipython",
    "version": 3
   },
   "file_extension": ".py",
   "mimetype": "text/x-python",
   "name": "python",
   "nbconvert_exporter": "python",
   "pygments_lexer": "ipython3",
   "version": "3.12.4"
  }
 },
 "nbformat": 4,
 "nbformat_minor": 2
}
