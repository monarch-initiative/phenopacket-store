{
 "cells": [
  {
   "cell_type": "markdown",
   "metadata": {},
   "source": [
    "# KDM5A\n",
    "[El Hayek-Chahrour neurodevelopmental disorder (NEDEHC)](https://omim.org/entry/620820) is caused by homozygous mutation in the KDM5A gene."
   ]
  },
  {
   "cell_type": "code",
   "execution_count": 1,
   "metadata": {},
   "outputs": [
    {
     "name": "stdout",
     "output_type": "stream",
     "text": [
      "Using pyphetools version 0.9.92\n"
     ]
    },
    {
     "name": "stderr",
     "output_type": "stream",
     "text": [
      "/Users/robin/GIT/phenopacket-store/ps24venv/lib/python3.9/site-packages/urllib3/__init__.py:35: NotOpenSSLWarning: urllib3 v2 only supports OpenSSL 1.1.1+, currently the 'ssl' module is compiled with 'LibreSSL 2.8.3'. See: https://github.com/urllib3/urllib3/issues/3020\n",
      "  warnings.warn(\n"
     ]
    }
   ],
   "source": [
    "from pyphetools.creation import TemplateImporter\n",
    "from pyphetools.visualization import IndividualTable, QcVisualizer\n",
    "from IPython.display import display, HTML\n",
    "import pyphetools\n",
    "print(f\"Using pyphetools version {pyphetools.__version__}\")"
   ]
  },
  {
   "cell_type": "code",
   "execution_count": 2,
   "metadata": {},
   "outputs": [],
   "source": [
    "template = \"input/KDM5A_NEDEHC_individuals.xlsx\"\n",
    "created_by = \"0000-0002-0736-9199\""
   ]
  },
  {
   "cell_type": "code",
   "execution_count": 3,
   "metadata": {},
   "outputs": [
    {
     "name": "stdout",
     "output_type": "stream",
     "text": [
      "HPO version 2024-06-25\n",
      "Created encoders for 51 fields\n",
      "Importing OMIM:620820, El Hayek-Chahrour neurodevelopmental syndrome, HGNC:9886, KDM5A,  NM_001042603.3\n",
      "We output 9 GA4GH phenopackets to the directory phenopackets\n"
     ]
    }
   ],
   "source": [
    "del_set = {\"Deletion of exons 6 through 9\", \"Deletion of exons 1 through 10\"}\n",
    "timporter = TemplateImporter(template=template,  created_by=created_by)\n",
    "individual_list, cvalidator = timporter.import_phenopackets_from_template(deletions=del_set)"
   ]
  },
  {
   "cell_type": "code",
   "execution_count": 4,
   "metadata": {},
   "outputs": [
    {
     "data": {
      "text/html": [
       "<h2>Cohort validation</h2>\n",
       "<p>No errors found for the cohort with 9 individuals</p>"
      ],
      "text/plain": [
       "<IPython.core.display.HTML object>"
      ]
     },
     "metadata": {},
     "output_type": "display_data"
    }
   ],
   "source": [
    "qc = QcVisualizer(cohort_validator=cvalidator)\n",
    "display(HTML(qc.to_summary_html()))"
   ]
  },
  {
   "cell_type": "code",
   "execution_count": 5,
   "metadata": {},
   "outputs": [
    {
     "data": {
      "text/html": [
       "<table style=\"border: 2px solid black; align: \"left\">\n",
       "<caption>9 phenopackets - PMID:33350388 (n=9)</caption>\n",
       "<tr><th style=\"text-align: left;font-weight: bold;\">Individual</th><th style=\"text-align: left;font-weight: bold;\">Disease</th><th style=\"text-align: left;font-weight: bold;\">Genotype</th><th style=\"text-align: left;font-weight: bold;\">Phenotypic features</th></tr>\n",
       "<tr><td style=\"text-align: left;\">Patient KD-1-3 (FEMALE; P5Y)</td><td style=\"text-align: left;\">El Hayek-Chahrour neurodevelopmental syndrome (OMIM:620820)</td><td style=\"text-align: left;\">NM_001042603.3:c.1A>T (homozygous)</td><td style=\"text-align: left;\">Absent speech (HP:0001344); Feeding difficulties (HP:0011968); Autistic behavior (HP:0000729); Intellectual disability (HP:0001249); Global developmental delay (HP:0001263); Seizure (HP:0001250); Carious teeth (HP:0000670); Hypotonia (HP:0001252); excluded: 2-3 toe syndactyly (HP:0004691); excluded: Hallux valgus (HP:0001822); excluded: Echolalia (HP:0010529); excluded: Ataxia (HP:0001251); excluded: Clinodactyly of the 5th finger (HP:0004209); excluded: Proptosis (HP:0000520); excluded: Broad nasal tip (HP:0000455); excluded: Low-set ears (HP:0000369); excluded: Smooth philtrum (HP:0000319); excluded: Hypertelorism (HP:0000316); excluded: Micrognathia (HP:0000347); excluded: Frontal bossing (HP:0002007); excluded: Downslanted palpebral fissures (HP:0000494); excluded: Anteverted nares (HP:0000463); excluded: Gait disturbance (HP:0001288); excluded: Coarctation of aorta (HP:0001680); excluded: Ventricular septal defect (HP:0001629); excluded: Atrial septal defect (HP:0001631); excluded: Microcephaly (HP:0000252); excluded: Posterior embryotoxon (HP:0000627); excluded: Strabismus (HP:0000486); excluded: Pectus excavatum (HP:0000767)</td></tr>\n",
       "<tr><td style=\"text-align: left;\">Patient KD-2-3 (FEMALE; P12Y)</td><td style=\"text-align: left;\">El Hayek-Chahrour neurodevelopmental syndrome (OMIM:620820)</td><td style=\"text-align: left;\">Deletion of exons 6 through 9: chromosomal_deletion (SO:1000029)</td><td style=\"text-align: left;\">Hypoplasia of the corpus callosum (HP:0002079); Absent speech (HP:0001344); Feeding difficulties (HP:0011968); Autistic behavior (HP:0000729); Intellectual disability (HP:0001249); Global developmental delay (HP:0001263); Seizure (HP:0001250); Hypertelorism (HP:0000316); Atrial septal defect (HP:0001631); Hypotonia (HP:0001252); Posterior embryotoxon (HP:0000627); Strabismus (HP:0000486); excluded: Hippocampal atrophy (HP:0410170); excluded: Periventricular leukomalacia (HP:0006970); excluded: Parietal cortical atrophy (HP:0012104); excluded: 2-3 toe syndactyly (HP:0004691); excluded: Hallux valgus (HP:0001822); excluded: Echolalia (HP:0010529); excluded: Ataxia (HP:0001251); excluded: Clinodactyly of the 5th finger (HP:0004209); excluded: Carious teeth (HP:0000670); excluded: Proptosis (HP:0000520); excluded: Broad nasal tip (HP:0000455); excluded: Low-set ears (HP:0000369); excluded: Smooth philtrum (HP:0000319); excluded: Micrognathia (HP:0000347); excluded: Frontal bossing (HP:0002007); excluded: Downslanted palpebral fissures (HP:0000494); excluded: Anteverted nares (HP:0000463); excluded: Gait disturbance (HP:0001288); excluded: Coarctation of aorta (HP:0001680); excluded: Ventricular septal defect (HP:0001629); excluded: Microcephaly (HP:0000252); excluded: Pectus excavatum (HP:0000767)</td></tr>\n",
       "<tr><td style=\"text-align: left;\">Patient KD-2-4 (MALE; P8Y)</td><td style=\"text-align: left;\">El Hayek-Chahrour neurodevelopmental syndrome (OMIM:620820)</td><td style=\"text-align: left;\">Deletion of exons 6 through 9: chromosomal_deletion (SO:1000029)</td><td style=\"text-align: left;\">Hypoplasia of the corpus callosum (HP:0002079); Hippocampal atrophy (HP:0410170); Absent speech (HP:0001344); Feeding difficulties (HP:0011968); Autistic behavior (HP:0000729); Intellectual disability (HP:0001249); Global developmental delay (HP:0001263); Seizure (HP:0001250); Hypotonia (HP:0001252); Strabismus (HP:0000486); excluded: Periventricular leukomalacia (HP:0006970); excluded: Parietal cortical atrophy (HP:0012104); excluded: 2-3 toe syndactyly (HP:0004691); excluded: Hallux valgus (HP:0001822); excluded: Echolalia (HP:0010529); excluded: Ataxia (HP:0001251); excluded: Clinodactyly of the 5th finger (HP:0004209); excluded: Carious teeth (HP:0000670); excluded: Proptosis (HP:0000520); excluded: Broad nasal tip (HP:0000455); excluded: Low-set ears (HP:0000369); excluded: Smooth philtrum (HP:0000319); excluded: Hypertelorism (HP:0000316); excluded: Micrognathia (HP:0000347); excluded: Frontal bossing (HP:0002007); excluded: Downslanted palpebral fissures (HP:0000494); excluded: Anteverted nares (HP:0000463); excluded: Gait disturbance (HP:0001288); excluded: Coarctation of aorta (HP:0001680); excluded: Ventricular septal defect (HP:0001629); excluded: Atrial septal defect (HP:0001631); excluded: Microcephaly (HP:0000252); excluded: Posterior embryotoxon (HP:0000627); excluded: Pectus excavatum (HP:0000767)</td></tr>\n",
       "<tr><td style=\"text-align: left;\">Patient KD-3-3 (MALE; P18Y)</td><td style=\"text-align: left;\">El Hayek-Chahrour neurodevelopmental syndrome (OMIM:620820)</td><td style=\"text-align: left;\">NM_001042603.3:c.4283G>T (homozygous)</td><td style=\"text-align: left;\">Feeding difficulties (HP:0011968); Autistic behavior (HP:0000729); Echolalia (HP:0010529); Intellectual disability (HP:0001249); Global developmental delay (HP:0001263); Seizure (HP:0001250); Ventricular septal defect (HP:0001629); Pectus excavatum (HP:0000767); excluded: Absent speech (HP:0001344); excluded: 2-3 toe syndactyly (HP:0004691); excluded: Hallux valgus (HP:0001822); excluded: Ataxia (HP:0001251); excluded: Clinodactyly of the 5th finger (HP:0004209); excluded: Carious teeth (HP:0000670); excluded: Proptosis (HP:0000520); excluded: Broad nasal tip (HP:0000455); excluded: Low-set ears (HP:0000369); excluded: Smooth philtrum (HP:0000319); excluded: Hypertelorism (HP:0000316); excluded: Micrognathia (HP:0000347); excluded: Frontal bossing (HP:0002007); excluded: Downslanted palpebral fissures (HP:0000494); excluded: Anteverted nares (HP:0000463); excluded: Gait disturbance (HP:0001288); excluded: Coarctation of aorta (HP:0001680); excluded: Atrial septal defect (HP:0001631); excluded: Microcephaly (HP:0000252); excluded: Hypotonia (HP:0001252); excluded: Posterior embryotoxon (HP:0000627); excluded: Strabismus (HP:0000486)</td></tr>\n",
       "<tr><td style=\"text-align: left;\">Patient KD-4-3 (FEMALE; P3Y)</td><td style=\"text-align: left;\">El Hayek-Chahrour neurodevelopmental syndrome (OMIM:620820)</td><td style=\"text-align: left;\">NM_001042603.3:c.2541+1G>T (homozygous)</td><td style=\"text-align: left;\">Absent speech (HP:0001344); Autistic behavior (HP:0000729); Intellectual disability (HP:0001249); excluded: Hypoplasia of the corpus callosum (HP:0002079); excluded: Hippocampal atrophy (HP:0410170); excluded: Periventricular leukomalacia (HP:0006970); excluded: Parietal cortical atrophy (HP:0012104); excluded: 2-3 toe syndactyly (HP:0004691); excluded: Hallux valgus (HP:0001822); excluded: Feeding difficulties (HP:0011968); excluded: Echolalia (HP:0010529); excluded: Global developmental delay (HP:0001263); excluded: Ataxia (HP:0001251); excluded: Clinodactyly of the 5th finger (HP:0004209); excluded: Seizure (HP:0001250); excluded: Carious teeth (HP:0000670); excluded: Proptosis (HP:0000520); excluded: Broad nasal tip (HP:0000455); excluded: Low-set ears (HP:0000369); excluded: Smooth philtrum (HP:0000319); excluded: Hypertelorism (HP:0000316); excluded: Micrognathia (HP:0000347); excluded: Frontal bossing (HP:0002007); excluded: Downslanted palpebral fissures (HP:0000494); excluded: Anteverted nares (HP:0000463); excluded: Gait disturbance (HP:0001288); excluded: Coarctation of aorta (HP:0001680); excluded: Ventricular septal defect (HP:0001629); excluded: Atrial septal defect (HP:0001631); excluded: Microcephaly (HP:0000252); excluded: Hypotonia (HP:0001252); excluded: Posterior embryotoxon (HP:0000627); excluded: Strabismus (HP:0000486); excluded: Pectus excavatum (HP:0000767)</td></tr>\n",
       "<tr><td style=\"text-align: left;\">Patient KD-4-4 (MALE; P20Y)</td><td style=\"text-align: left;\">El Hayek-Chahrour neurodevelopmental syndrome (OMIM:620820)</td><td style=\"text-align: left;\">NM_001042603.3:c.2541+1G>T (homozygous)</td><td style=\"text-align: left;\">Absent speech (HP:0001344); Feeding difficulties (HP:0011968); Autistic behavior (HP:0000729); Intellectual disability (HP:0001249); Global developmental delay (HP:0001263); Ataxia (HP:0001251); Seizure (HP:0001250); Hypotonia (HP:0001252); excluded: 2-3 toe syndactyly (HP:0004691); excluded: Hallux valgus (HP:0001822); excluded: Echolalia (HP:0010529); excluded: Clinodactyly of the 5th finger (HP:0004209); excluded: Carious teeth (HP:0000670); excluded: Proptosis (HP:0000520); excluded: Broad nasal tip (HP:0000455); excluded: Low-set ears (HP:0000369); excluded: Smooth philtrum (HP:0000319); excluded: Hypertelorism (HP:0000316); excluded: Micrognathia (HP:0000347); excluded: Frontal bossing (HP:0002007); excluded: Downslanted palpebral fissures (HP:0000494); excluded: Anteverted nares (HP:0000463); excluded: Gait disturbance (HP:0001288); excluded: Coarctation of aorta (HP:0001680); excluded: Ventricular septal defect (HP:0001629); excluded: Atrial septal defect (HP:0001631); excluded: Microcephaly (HP:0000252); excluded: Posterior embryotoxon (HP:0000627); excluded: Strabismus (HP:0000486); excluded: Pectus excavatum (HP:0000767)</td></tr>\n",
       "<tr><td style=\"text-align: left;\">Patient KD-5-3 (FEMALE; P4Y)</td><td style=\"text-align: left;\">El Hayek-Chahrour neurodevelopmental syndrome (OMIM:620820)</td><td style=\"text-align: left;\">NM_001042603.3:c.1429T>G (homozygous)</td><td style=\"text-align: left;\">Periventricular leukomalacia (HP:0006970); Absent speech (HP:0001344); 2-3 toe syndactyly (HP:0004691); Feeding difficulties (HP:0011968); Autistic behavior (HP:0000729); Intellectual disability (HP:0001249); Global developmental delay (HP:0001263); Clinodactyly of the 5th finger (HP:0004209); Seizure (HP:0001250); Low-set ears (HP:0000369); Smooth philtrum (HP:0000319); Hypertelorism (HP:0000316); Micrognathia (HP:0000347); Frontal bossing (HP:0002007); Downslanted palpebral fissures (HP:0000494); Gait disturbance (HP:0001288); Atrial septal defect (HP:0001631); Hypotonia (HP:0001252); excluded: Hypoplasia of the corpus callosum (HP:0002079); excluded: Hippocampal atrophy (HP:0410170); excluded: Parietal cortical atrophy (HP:0012104); excluded: Hallux valgus (HP:0001822); excluded: Echolalia (HP:0010529); excluded: Ataxia (HP:0001251); excluded: Carious teeth (HP:0000670); excluded: Proptosis (HP:0000520); excluded: Broad nasal tip (HP:0000455); excluded: Anteverted nares (HP:0000463); excluded: Coarctation of aorta (HP:0001680); excluded: Ventricular septal defect (HP:0001629); excluded: Microcephaly (HP:0000252); excluded: Posterior embryotoxon (HP:0000627); excluded: Strabismus (HP:0000486); excluded: Pectus excavatum (HP:0000767)</td></tr>\n",
       "<tr><td style=\"text-align: left;\">Patient KD-6-3 (FEMALE; P40Y)</td><td style=\"text-align: left;\">El Hayek-Chahrour neurodevelopmental syndrome (OMIM:620820)</td><td style=\"text-align: left;\">NM_001042603.3:c.4048C>T (homozygous)</td><td style=\"text-align: left;\">Parietal cortical atrophy (HP:0012104); Hallux valgus (HP:0001822); Intellectual disability (HP:0001249); Global developmental delay (HP:0001263); Ataxia (HP:0001251); Seizure (HP:0001250); Anteverted nares (HP:0000463); Microcephaly (HP:0000252); excluded: Hypoplasia of the corpus callosum (HP:0002079); excluded: Hippocampal atrophy (HP:0410170); excluded: Periventricular leukomalacia (HP:0006970); excluded: 2-3 toe syndactyly (HP:0004691); excluded: Feeding difficulties (HP:0011968); excluded: Echolalia (HP:0010529); excluded: Clinodactyly of the 5th finger (HP:0004209); excluded: Carious teeth (HP:0000670); excluded: Proptosis (HP:0000520); excluded: Broad nasal tip (HP:0000455); excluded: Low-set ears (HP:0000369); excluded: Smooth philtrum (HP:0000319); excluded: Hypertelorism (HP:0000316); excluded: Micrognathia (HP:0000347); excluded: Frontal bossing (HP:0002007); excluded: Downslanted palpebral fissures (HP:0000494); excluded: Gait disturbance (HP:0001288); excluded: Coarctation of aorta (HP:0001680); excluded: Ventricular septal defect (HP:0001629); excluded: Atrial septal defect (HP:0001631); excluded: Hypotonia (HP:0001252); excluded: Posterior embryotoxon (HP:0000627); excluded: Strabismus (HP:0000486); excluded: Pectus excavatum (HP:0000767)</td></tr>\n",
       "<tr><td style=\"text-align: left;\">Patient KD-7-3 (FEMALE; P13Y)</td><td style=\"text-align: left;\">El Hayek-Chahrour neurodevelopmental syndrome (OMIM:620820)</td><td style=\"text-align: left;\">Deletion of exons 1 through 10: chromosomal_deletion (SO:1000029)</td><td style=\"text-align: left;\">Absent speech (HP:0001344); Intellectual disability (HP:0001249); Global developmental delay (HP:0001263); Seizure (HP:0001250); Proptosis (HP:0000520); Broad nasal tip (HP:0000455); Low-set ears (HP:0000369); Coarctation of aorta (HP:0001680); Microcephaly (HP:0000252); Hypotonia (HP:0001252); excluded: 2-3 toe syndactyly (HP:0004691); excluded: Hallux valgus (HP:0001822); excluded: Feeding difficulties (HP:0011968); excluded: Echolalia (HP:0010529); excluded: Ataxia (HP:0001251); excluded: Clinodactyly of the 5th finger (HP:0004209); excluded: Carious teeth (HP:0000670); excluded: Smooth philtrum (HP:0000319); excluded: Hypertelorism (HP:0000316); excluded: Micrognathia (HP:0000347); excluded: Frontal bossing (HP:0002007); excluded: Downslanted palpebral fissures (HP:0000494); excluded: Anteverted nares (HP:0000463); excluded: Gait disturbance (HP:0001288); excluded: Ventricular septal defect (HP:0001629); excluded: Atrial septal defect (HP:0001631); excluded: Posterior embryotoxon (HP:0000627); excluded: Strabismus (HP:0000486); excluded: Pectus excavatum (HP:0000767)</td></tr>\n",
       "</table>"
      ],
      "text/plain": [
       "<IPython.core.display.HTML object>"
      ]
     },
     "metadata": {},
     "output_type": "display_data"
    }
   ],
   "source": [
    "table = IndividualTable(cvalidator.get_error_free_individual_list())\n",
    "display(HTML(table.to_html()))"
   ]
  },
  {
   "cell_type": "code",
   "execution_count": 6,
   "metadata": {},
   "outputs": [
    {
     "name": "stdout",
     "output_type": "stream",
     "text": [
      "[pyphetools] Ingested 9 GA4GH phenopackets.\n",
      "[INFO] Extracted 9 from 9 phenopackets with OMIM:620820\n",
      "\n",
      "\tEl Hayek-Chahrour neurodevelopmental syndrome (OMIM:620820): n=9\n",
      "We found a total of 34 unique HPO terms\n",
      "Extracted disease: El Hayek-Chahrour neurodevelopmental syndrome (OMIM:620820)\n",
      "Wrote HPOA disease file to OMIM-620820.tab\n"
     ]
    }
   ],
   "source": [
    "pmid = \"PMID:33350388\"\n",
    "df = timporter.create_hpoa_from_phenopackets(pmid=pmid, moi=\"Autosomal dominant\", target=\"OMIM:620820\")"
   ]
  }
 ],
 "metadata": {
  "kernelspec": {
   "display_name": "ps24venv",
   "language": "python",
   "name": "python3"
  },
  "language_info": {
   "codemirror_mode": {
    "name": "ipython",
    "version": 3
   },
   "file_extension": ".py",
   "mimetype": "text/x-python",
   "name": "python",
   "nbconvert_exporter": "python",
   "pygments_lexer": "ipython3",
   "version": "3.9.6"
  }
 },
 "nbformat": 4,
 "nbformat_minor": 2
}
