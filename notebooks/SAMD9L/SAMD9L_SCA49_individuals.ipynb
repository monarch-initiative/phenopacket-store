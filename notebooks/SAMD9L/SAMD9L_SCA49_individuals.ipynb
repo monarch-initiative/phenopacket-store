{
 "cells": [
  {
   "cell_type": "markdown",
   "metadata": {},
   "source": [
    "# SAMD9L\n",
    "[Spinocerebellar ataxia-49 (SCA49) ](https://omim.org/entry/619806) is caused by heterozygous mutation in the SAMD9L gene."
   ]
  },
  {
   "cell_type": "code",
   "execution_count": 1,
   "metadata": {},
   "outputs": [
    {
     "name": "stdout",
     "output_type": "stream",
     "text": [
      "Using pyphetools version 0.9.113\n"
     ]
    }
   ],
   "source": [
    "from pyphetools.creation import TemplateImporter, Moi\n",
    "from pyphetools.visualization import IndividualTable, QcVisualizer\n",
    "from IPython.display import display, HTML\n",
    "import pyphetools\n",
    "print(f\"Using pyphetools version {pyphetools.__version__}\")\n"
   ]
  },
  {
   "cell_type": "code",
   "execution_count": 2,
   "metadata": {},
   "outputs": [
    {
     "name": "stdout",
     "output_type": "stream",
     "text": [
      "HPO version 2024-08-13\n",
      "Created encoders for 45 fields\n",
      "Importing OMIM:619806, Spinocerebellar ataxia 49, HGNC:1349, SAMD9L,  NM_152703.5\n",
      "We output 9 GA4GH phenopackets to the directory phenopackets\n"
     ]
    }
   ],
   "source": [
    "template = \"input/SAMD9L_SCA49_individuals.xlsx\"\n",
    "created_by = \"0000-0002-0736-9199\"\n",
    "timporter = TemplateImporter(template=template,  created_by=created_by)\n",
    "individual_list, cvalidator = timporter.import_phenopackets_from_template()"
   ]
  },
  {
   "cell_type": "code",
   "execution_count": 3,
   "metadata": {},
   "outputs": [
    {
     "data": {
      "text/html": [
       "<h2>Cohort validation</h2>\n",
       "<p>Errors found with 9 of 9 phenopackets.</p>\n",
       "<table style=\"border: 2px solid black; align: \"left\">\n",
       "<caption>Error counts</caption>\n",
       "<tr><th style=\"text-align: left;font-weight: bold;\">Level</th><th style=\"text-align: left;font-weight: bold;\">Error category</th><th style=\"text-align: left;font-weight: bold;\">Count</th></tr>\n",
       "<tr><td style=\"text-align: left;\">WARNING</td><td style=\"text-align: left;\">REDUNDANT</td><td style=\"text-align: left;\">18</td></tr>\n",
       "</table>\n",
       "<p>A total of 18 issues were fixed and no individual was removed from the cohort.</p>"
      ],
      "text/plain": [
       "<IPython.core.display.HTML object>"
      ]
     },
     "metadata": {},
     "output_type": "display_data"
    }
   ],
   "source": [
    "qc = QcVisualizer(cohort_validator=cvalidator)\n",
    "display(HTML(qc.to_summary_html()))"
   ]
  },
  {
   "cell_type": "code",
   "execution_count": 4,
   "metadata": {},
   "outputs": [
    {
     "data": {
      "text/html": [
       "<table style=\"border: 2px solid black; align: \"left\">\n",
       "<caption>9 phenopackets - PMID:35310830 (n=9)</caption>\n",
       "<tr><th style=\"text-align: left;font-weight: bold;\">Individual</th><th style=\"text-align: left;font-weight: bold;\">Disease</th><th style=\"text-align: left;font-weight: bold;\">Genotype</th><th style=\"text-align: left;font-weight: bold;\">Phenotypic features</th></tr>\n",
       "<tr><td style=\"text-align: left;\">Individual III:2 (FEMALE; P80Y)</td><td style=\"text-align: left;\">Spinocerebellar ataxia 49 (OMIM:619806)</td><td style=\"text-align: left;\">NM_152703.5:c.1877C>T (heterozygous)</td><td style=\"text-align: left;\">Dysarthria (HP:0001260): onset ; Gaze-evoked horizontal nystagmus (HP:0007979): onset ; excluded: Oscillopsia (HP:0034773): onset ; excluded: Babinski sign (HP:0003487): onset ; excluded: Vertigo (HP:0002321): onset ; excluded: Diplopia (HP:0000651): onset ; excluded: Strabismus (HP:0000486): onset ; excluded: Ankle clonus (HP:0011448): onset ; excluded: Fasciculations (HP:0002380): onset ; excluded: Seizure (HP:0001250): onset ; excluded: Mental deterioration (HP:0001268): onset ; excluded: Neutropenia (HP:0001875): onset ; excluded: Anemia (HP:0001903): onset ; excluded: Pancytopenia (HP:0001876): onset ; excluded: Thrombocytopenia (HP:0001873): onset ; excluded: Abnormality of extrapyramidal motor function (HP:0002071): onset <br/><b>TimeElement(element=Age(iso8601duration=P60Y))</b>: Hyperreflexia (HP:0001347): onset age {\n",
       "  iso8601duration: \"P60Y\"\n",
       "}\n",
       "; Unsteady gait (HP:0002317): onset age {\n",
       "  iso8601duration: \"P60Y\"\n",
       "}\n",
       "; Ataxia (HP:0001251): onset age {\n",
       "  iso8601duration: \"P60Y\"\n",
       "}\n",
       "<br/><b>TimeElement(element=Age(iso8601duration=P75Y))</b>: Loss of ambulation (HP:0002505): onset age {\n",
       "  iso8601duration: \"P75Y\"\n",
       "}\n",
       "</td></tr>\n",
       "<tr><td style=\"text-align: left;\">Individual III:5 (FEMALE; P65Y)</td><td style=\"text-align: left;\">Spinocerebellar ataxia 49 (OMIM:619806)</td><td style=\"text-align: left;\">NM_152703.5:c.1877C>T (heterozygous)</td><td style=\"text-align: left;\">Dysarthria (HP:0001260): onset ; Gaze-evoked horizontal nystagmus (HP:0007979): onset ; excluded: Oscillopsia (HP:0034773): onset ; excluded: Babinski sign (HP:0003487): onset ; excluded: Vertigo (HP:0002321): onset ; excluded: Diplopia (HP:0000651): onset ; excluded: Loss of ambulation (HP:0002505): onset ; excluded: Strabismus (HP:0000486): onset ; excluded: Ankle clonus (HP:0011448): onset ; excluded: Fasciculations (HP:0002380): onset ; excluded: Seizure (HP:0001250): onset ; excluded: Mental deterioration (HP:0001268): onset ; excluded: Neutropenia (HP:0001875): onset ; excluded: Anemia (HP:0001903): onset ; excluded: Pancytopenia (HP:0001876): onset ; excluded: Thrombocytopenia (HP:0001873): onset ; excluded: Abnormality of extrapyramidal motor function (HP:0002071): onset <br/><b>TimeElement(element=Age(iso8601duration=P58Y))</b>: Hyperreflexia (HP:0001347): onset age {\n",
       "  iso8601duration: \"P58Y\"\n",
       "}\n",
       "; Unsteady gait (HP:0002317): onset age {\n",
       "  iso8601duration: \"P58Y\"\n",
       "}\n",
       "; Ataxia (HP:0001251): onset age {\n",
       "  iso8601duration: \"P58Y\"\n",
       "}\n",
       "</td></tr>\n",
       "<tr><td style=\"text-align: left;\">Individual III:7 (MALE; P81Y)</td><td style=\"text-align: left;\">Spinocerebellar ataxia 49 (OMIM:619806)</td><td style=\"text-align: left;\">NM_152703.5:c.1877C>T (heterozygous)</td><td style=\"text-align: left;\">Dysarthria (HP:0001260): onset ; Oscillopsia (HP:0034773): onset ; Sensory axonal neuropathy (HP:0003390): onset ; Gaze-evoked horizontal nystagmus (HP:0007979): onset ; Diplopia (HP:0000651): onset ; excluded: Babinski sign (HP:0003487): onset ; excluded: Vertigo (HP:0002321): onset ; excluded: Strabismus (HP:0000486): onset ; excluded: Ankle clonus (HP:0011448): onset ; excluded: Fasciculations (HP:0002380): onset ; excluded: Seizure (HP:0001250): onset ; excluded: Mental deterioration (HP:0001268): onset ; excluded: Neutropenia (HP:0001875): onset ; excluded: Anemia (HP:0001903): onset ; excluded: Pancytopenia (HP:0001876): onset ; excluded: Thrombocytopenia (HP:0001873): onset ; excluded: Abnormality of extrapyramidal motor function (HP:0002071): onset <br/><b>TimeElement(element=Age(iso8601duration=P45Y))</b>: Hyperreflexia (HP:0001347): onset age {\n",
       "  iso8601duration: \"P45Y\"\n",
       "}\n",
       "; Unsteady gait (HP:0002317): onset age {\n",
       "  iso8601duration: \"P45Y\"\n",
       "}\n",
       "<br/><b>TimeElement(element=Age(iso8601duration=P47Y))</b>: Ataxia (HP:0001251): onset age {\n",
       "  iso8601duration: \"P47Y\"\n",
       "}\n",
       "<br/><b>TimeElement(element=Age(iso8601duration=P78Y))</b>: Loss of ambulation (HP:0002505): onset age {\n",
       "  iso8601duration: \"P78Y\"\n",
       "}\n",
       "</td></tr>\n",
       "<tr><td style=\"text-align: left;\">Individual IV:2 (MALE; P68Y)</td><td style=\"text-align: left;\">Spinocerebellar ataxia 49 (OMIM:619806)</td><td style=\"text-align: left;\">NM_152703.5:c.1877C>T (heterozygous)</td><td style=\"text-align: left;\">Cerebellar atrophy (HP:0001272): onset ; CNS demyelination (HP:0007305): onset ; Dysarthria (HP:0001260): onset ; Sensory axonal neuropathy (HP:0003390): onset ; Gaze-evoked horizontal nystagmus (HP:0007979): onset ; excluded: Oscillopsia (HP:0034773): onset ; excluded: Babinski sign (HP:0003487): onset ; excluded: Vertigo (HP:0002321): onset ; excluded: Diplopia (HP:0000651): onset ; excluded: Loss of ambulation (HP:0002505): onset ; excluded: Strabismus (HP:0000486): onset ; excluded: Ankle clonus (HP:0011448): onset ; excluded: Fasciculations (HP:0002380): onset ; excluded: Seizure (HP:0001250): onset ; excluded: Mental deterioration (HP:0001268): onset ; excluded: Neutropenia (HP:0001875): onset ; excluded: Anemia (HP:0001903): onset ; excluded: Pancytopenia (HP:0001876): onset ; excluded: Thrombocytopenia (HP:0001873): onset ; excluded: Abnormality of extrapyramidal motor function (HP:0002071): onset <br/><b>TimeElement(element=Age(iso8601duration=P48Y))</b>: Hyperreflexia (HP:0001347): onset age {\n",
       "  iso8601duration: \"P48Y\"\n",
       "}\n",
       "; Unsteady gait (HP:0002317): onset age {\n",
       "  iso8601duration: \"P48Y\"\n",
       "}\n",
       "<br/><b>TimeElement(element=Age(iso8601duration=P50Y))</b>: Ataxia (HP:0001251): onset age {\n",
       "  iso8601duration: \"P50Y\"\n",
       "}\n",
       "</td></tr>\n",
       "<tr><td style=\"text-align: left;\">Individual IV:6 (FEMALE; P66Y)</td><td style=\"text-align: left;\">Spinocerebellar ataxia 49 (OMIM:619806)</td><td style=\"text-align: left;\">NM_152703.5:c.1877C>T (heterozygous)</td><td style=\"text-align: left;\">Cerebellar atrophy (HP:0001272): onset ; CNS demyelination (HP:0007305): onset ; Dysarthria (HP:0001260): onset ; Sensory axonal neuropathy (HP:0003390): onset ; Gaze-evoked horizontal nystagmus (HP:0007979): onset ; Diplopia (HP:0000651): onset ; excluded: Oscillopsia (HP:0034773): onset ; excluded: Babinski sign (HP:0003487): onset ; excluded: Vertigo (HP:0002321): onset ; excluded: Loss of ambulation (HP:0002505): onset ; excluded: Strabismus (HP:0000486): onset ; excluded: Ankle clonus (HP:0011448): onset ; excluded: Fasciculations (HP:0002380): onset ; excluded: Seizure (HP:0001250): onset ; excluded: Mental deterioration (HP:0001268): onset ; excluded: Neutropenia (HP:0001875): onset ; excluded: Anemia (HP:0001903): onset ; excluded: Pancytopenia (HP:0001876): onset ; excluded: Thrombocytopenia (HP:0001873): onset ; excluded: Abnormality of extrapyramidal motor function (HP:0002071): onset <br/><b>TimeElement(element=Age(iso8601duration=P58Y))</b>: Hyperreflexia (HP:0001347): onset age {\n",
       "  iso8601duration: \"P58Y\"\n",
       "}\n",
       "; Unsteady gait (HP:0002317): onset age {\n",
       "  iso8601duration: \"P58Y\"\n",
       "}\n",
       "<br/><b>TimeElement(element=Age(iso8601duration=P60Y))</b>: Ataxia (HP:0001251): onset age {\n",
       "  iso8601duration: \"P60Y\"\n",
       "}\n",
       "</td></tr>\n",
       "<tr><td style=\"text-align: left;\">Individual IV:8 (FEMALE; P64Y)</td><td style=\"text-align: left;\">Spinocerebellar ataxia 49 (OMIM:619806)</td><td style=\"text-align: left;\">NM_152703.5:c.1877C>T (heterozygous)</td><td style=\"text-align: left;\">Cerebellar atrophy (HP:0001272): onset ; CNS demyelination (HP:0007305): onset ; Sensory axonal neuropathy (HP:0003390): onset ; Unsteady gait (HP:0002317): onset ; Babinski sign (HP:0003487): onset ; Vertigo (HP:0002321): onset ; Diplopia (HP:0000651): onset ; Strabismus (HP:0000486): onset ; excluded: Dysarthria (HP:0001260): onset ; excluded: Oscillopsia (HP:0034773): onset ; excluded: Loss of ambulation (HP:0002505): onset ; excluded: Ankle clonus (HP:0011448): onset ; excluded: Fasciculations (HP:0002380): onset ; excluded: Seizure (HP:0001250): onset ; excluded: Mental deterioration (HP:0001268): onset ; excluded: Neutropenia (HP:0001875): onset ; excluded: Anemia (HP:0001903): onset ; excluded: Pancytopenia (HP:0001876): onset ; excluded: Thrombocytopenia (HP:0001873): onset ; excluded: Abnormality of extrapyramidal motor function (HP:0002071): onset <br/><b>TimeElement(element=Age(iso8601duration=P50Y))</b>: Hyperreflexia (HP:0001347): onset age {\n",
       "  iso8601duration: \"P50Y\"\n",
       "}\n",
       "; Gaze-evoked horizontal nystagmus (HP:0007979): onset age {\n",
       "  iso8601duration: \"P50Y\"\n",
       "}\n",
       "<br/><b>TimeElement(element=Age(iso8601duration=P60Y))</b>: Ataxia (HP:0001251): onset age {\n",
       "  iso8601duration: \"P60Y\"\n",
       "}\n",
       "</td></tr>\n",
       "<tr><td style=\"text-align: left;\">Individual IV:14 (MALE; P50Y)</td><td style=\"text-align: left;\">Spinocerebellar ataxia 49 (OMIM:619806)</td><td style=\"text-align: left;\">NM_152703.5:c.1877C>T (heterozygous)</td><td style=\"text-align: left;\">Cerebellar atrophy (HP:0001272): onset ; CNS demyelination (HP:0007305): onset ; Oscillopsia (HP:0034773): onset ; Sensory axonal neuropathy (HP:0003390): onset ; Unsteady gait (HP:0002317): onset ; Vertigo (HP:0002321): onset ; Diplopia (HP:0000651): onset ; excluded: Dysarthria (HP:0001260): onset ; excluded: Babinski sign (HP:0003487): onset ; excluded: Loss of ambulation (HP:0002505): onset ; excluded: Strabismus (HP:0000486): onset ; excluded: Ankle clonus (HP:0011448): onset ; excluded: Fasciculations (HP:0002380): onset ; excluded: Seizure (HP:0001250): onset ; excluded: Mental deterioration (HP:0001268): onset ; excluded: Neutropenia (HP:0001875): onset ; excluded: Anemia (HP:0001903): onset ; excluded: Pancytopenia (HP:0001876): onset ; excluded: Thrombocytopenia (HP:0001873): onset ; excluded: Abnormality of extrapyramidal motor function (HP:0002071): onset <br/><b>TimeElement(element=Age(iso8601duration=P15Y))</b>: Hyperreflexia (HP:0001347): onset age {\n",
       "  iso8601duration: \"P15Y\"\n",
       "}\n",
       "; Gaze-evoked horizontal nystagmus (HP:0007979): onset age {\n",
       "  iso8601duration: \"P15Y\"\n",
       "}\n",
       "<br/><b>TimeElement(element=Age(iso8601duration=P30Y))</b>: Ataxia (HP:0001251): onset age {\n",
       "  iso8601duration: \"P30Y\"\n",
       "}\n",
       "</td></tr>\n",
       "<tr><td style=\"text-align: left;\">Individual V:1 (MALE; P40Y)</td><td style=\"text-align: left;\">Spinocerebellar ataxia 49 (OMIM:619806)</td><td style=\"text-align: left;\">NM_152703.5:c.1877C>T (heterozygous)</td><td style=\"text-align: left;\">Cerebellar atrophy (HP:0001272): onset ; CNS demyelination (HP:0007305): onset ; Unsteady gait (HP:0002317): onset ; Ataxia (HP:0001251): onset ; excluded: Dysmetria (HP:0001310): onset ; excluded: Dysarthria (HP:0001260): onset ; excluded: Oscillopsia (HP:0034773): onset ; excluded: Vertigo (HP:0002321): onset ; excluded: Diplopia (HP:0000651): onset ; excluded: Loss of ambulation (HP:0002505): onset ; excluded: Strabismus (HP:0000486): onset ; excluded: Fasciculations (HP:0002380): onset ; excluded: Seizure (HP:0001250): onset ; excluded: Mental deterioration (HP:0001268): onset ; excluded: Neutropenia (HP:0001875): onset ; excluded: Anemia (HP:0001903): onset ; excluded: Pancytopenia (HP:0001876): onset ; excluded: Thrombocytopenia (HP:0001873): onset ; excluded: Abnormality of extrapyramidal motor function (HP:0002071): onset <br/><b>TimeElement(element=Age(iso8601duration=P12Y))</b>: Pes cavus (HP:0001761): onset age {\n",
       "  iso8601duration: \"P12Y\"\n",
       "}\n",
       "; Babinski sign (HP:0003487): onset age {\n",
       "  iso8601duration: \"P12Y\"\n",
       "}\n",
       "; Gaze-evoked horizontal nystagmus (HP:0007979): onset age {\n",
       "  iso8601duration: \"P12Y\"\n",
       "}\n",
       "; Ankle clonus (HP:0011448): onset age {\n",
       "  iso8601duration: \"P12Y\"\n",
       "}\n",
       "</td></tr>\n",
       "<tr><td style=\"text-align: left;\">Individual V:3 (FEMALE; P38Y)</td><td style=\"text-align: left;\">Spinocerebellar ataxia 49 (OMIM:619806)</td><td style=\"text-align: left;\">NM_152703.5:c.1877C>T (heterozygous)</td><td style=\"text-align: left;\">Unsteady gait (HP:0002317): onset ; Ataxia (HP:0001251): onset ; Strabismus (HP:0000486): onset ; excluded: Dysmetria (HP:0001310): onset ; excluded: Dysarthria (HP:0001260): onset ; excluded: Oscillopsia (HP:0034773): onset ; excluded: Babinski sign (HP:0003487): onset ; excluded: Vertigo (HP:0002321): onset ; excluded: Diplopia (HP:0000651): onset ; excluded: Loss of ambulation (HP:0002505): onset ; excluded: Ankle clonus (HP:0011448): onset ; excluded: Fasciculations (HP:0002380): onset ; excluded: Seizure (HP:0001250): onset ; excluded: Mental deterioration (HP:0001268): onset ; excluded: Neutropenia (HP:0001875): onset ; excluded: Anemia (HP:0001903): onset ; excluded: Pancytopenia (HP:0001876): onset ; excluded: Thrombocytopenia (HP:0001873): onset ; excluded: Abnormality of extrapyramidal motor function (HP:0002071): onset <br/><b>TimeElement(element=Age(iso8601duration=P37Y))</b>: Hyperreflexia (HP:0001347): onset age {\n",
       "  iso8601duration: \"P37Y\"\n",
       "}\n",
       "; Gaze-evoked horizontal nystagmus (HP:0007979): onset age {\n",
       "  iso8601duration: \"P37Y\"\n",
       "}\n",
       "</td></tr>\n",
       "</table>"
      ],
      "text/plain": [
       "<IPython.core.display.HTML object>"
      ]
     },
     "metadata": {},
     "output_type": "display_data"
    }
   ],
   "source": [
    "table = IndividualTable(cvalidator.get_error_free_individual_list())\n",
    "display(HTML(table.to_html()))"
   ]
  },
  {
   "cell_type": "code",
   "execution_count": 5,
   "metadata": {},
   "outputs": [
    {
     "name": "stdout",
     "output_type": "stream",
     "text": [
      "[pyphetools] Ingested 31 GA4GH phenopackets.\n",
      "[INFO] Extracted 9 from 31 phenopackets with OMIM:619806\n",
      "\n",
      "\tSpinocerebellar ataxia 49 (OMIM:619806): n=9\n",
      "We found a total of 25 unique HPO terms\n",
      "Extracted disease: Spinocerebellar ataxia 49 (OMIM:619806)\n",
      "Wrote HPOA disease file to OMIM-619806.tab\n"
     ]
    },
    {
     "data": {
      "text/html": [
       "<div>\n",
       "<style scoped>\n",
       "    .dataframe tbody tr th:only-of-type {\n",
       "        vertical-align: middle;\n",
       "    }\n",
       "\n",
       "    .dataframe tbody tr th {\n",
       "        vertical-align: top;\n",
       "    }\n",
       "\n",
       "    .dataframe thead th {\n",
       "        text-align: right;\n",
       "    }\n",
       "</style>\n",
       "<table border=\"1\" class=\"dataframe\">\n",
       "  <thead>\n",
       "    <tr style=\"text-align: right;\">\n",
       "      <th></th>\n",
       "      <th>#diseaseID</th>\n",
       "      <th>diseaseName</th>\n",
       "      <th>phenotypeID</th>\n",
       "      <th>phenotypeName</th>\n",
       "      <th>onsetID</th>\n",
       "      <th>onsetName</th>\n",
       "      <th>frequency</th>\n",
       "      <th>sex</th>\n",
       "      <th>negation</th>\n",
       "      <th>modifier</th>\n",
       "      <th>description</th>\n",
       "      <th>publication</th>\n",
       "      <th>evidence</th>\n",
       "      <th>biocuration</th>\n",
       "    </tr>\n",
       "  </thead>\n",
       "  <tbody>\n",
       "    <tr>\n",
       "      <th>0</th>\n",
       "      <td>OMIM:619806</td>\n",
       "      <td>Spinocerebellar ataxia 49</td>\n",
       "      <td>HP:0001347</td>\n",
       "      <td>Hyperreflexia</td>\n",
       "      <td></td>\n",
       "      <td></td>\n",
       "      <td>8/8</td>\n",
       "      <td></td>\n",
       "      <td></td>\n",
       "      <td></td>\n",
       "      <td></td>\n",
       "      <td>PMID:35310830</td>\n",
       "      <td>PCS</td>\n",
       "      <td>ORCID:0000-0002-0736-9199[2024-11-30]</td>\n",
       "    </tr>\n",
       "    <tr>\n",
       "      <th>1</th>\n",
       "      <td>OMIM:619806</td>\n",
       "      <td>Spinocerebellar ataxia 49</td>\n",
       "      <td>HP:0002317</td>\n",
       "      <td>Unsteady gait</td>\n",
       "      <td></td>\n",
       "      <td></td>\n",
       "      <td>9/9</td>\n",
       "      <td></td>\n",
       "      <td></td>\n",
       "      <td></td>\n",
       "      <td></td>\n",
       "      <td>PMID:35310830</td>\n",
       "      <td>PCS</td>\n",
       "      <td>ORCID:0000-0002-0736-9199[2024-11-30]</td>\n",
       "    </tr>\n",
       "    <tr>\n",
       "      <th>2</th>\n",
       "      <td>OMIM:619806</td>\n",
       "      <td>Spinocerebellar ataxia 49</td>\n",
       "      <td>HP:0001251</td>\n",
       "      <td>Ataxia</td>\n",
       "      <td></td>\n",
       "      <td></td>\n",
       "      <td>9/9</td>\n",
       "      <td></td>\n",
       "      <td></td>\n",
       "      <td></td>\n",
       "      <td></td>\n",
       "      <td>PMID:35310830</td>\n",
       "      <td>PCS</td>\n",
       "      <td>ORCID:0000-0002-0736-9199[2024-11-30]</td>\n",
       "    </tr>\n",
       "    <tr>\n",
       "      <th>3</th>\n",
       "      <td>OMIM:619806</td>\n",
       "      <td>Spinocerebellar ataxia 49</td>\n",
       "      <td>HP:0002505</td>\n",
       "      <td>Loss of ambulation</td>\n",
       "      <td></td>\n",
       "      <td></td>\n",
       "      <td>2/9</td>\n",
       "      <td></td>\n",
       "      <td></td>\n",
       "      <td></td>\n",
       "      <td></td>\n",
       "      <td>PMID:35310830</td>\n",
       "      <td>PCS</td>\n",
       "      <td>ORCID:0000-0002-0736-9199[2024-11-30]</td>\n",
       "    </tr>\n",
       "    <tr>\n",
       "      <th>4</th>\n",
       "      <td>OMIM:619806</td>\n",
       "      <td>Spinocerebellar ataxia 49</td>\n",
       "      <td>HP:0001260</td>\n",
       "      <td>Dysarthria</td>\n",
       "      <td></td>\n",
       "      <td></td>\n",
       "      <td>5/9</td>\n",
       "      <td></td>\n",
       "      <td></td>\n",
       "      <td></td>\n",
       "      <td></td>\n",
       "      <td>PMID:35310830</td>\n",
       "      <td>PCS</td>\n",
       "      <td>ORCID:0000-0002-0736-9199[2024-11-30]</td>\n",
       "    </tr>\n",
       "  </tbody>\n",
       "</table>\n",
       "</div>"
      ],
      "text/plain": [
       "    #diseaseID                diseaseName phenotypeID       phenotypeName  \\\n",
       "0  OMIM:619806  Spinocerebellar ataxia 49  HP:0001347       Hyperreflexia   \n",
       "1  OMIM:619806  Spinocerebellar ataxia 49  HP:0002317       Unsteady gait   \n",
       "2  OMIM:619806  Spinocerebellar ataxia 49  HP:0001251              Ataxia   \n",
       "3  OMIM:619806  Spinocerebellar ataxia 49  HP:0002505  Loss of ambulation   \n",
       "4  OMIM:619806  Spinocerebellar ataxia 49  HP:0001260          Dysarthria   \n",
       "\n",
       "  onsetID onsetName frequency sex negation modifier description  \\\n",
       "0                         8/8                                     \n",
       "1                         9/9                                     \n",
       "2                         9/9                                     \n",
       "3                         2/9                                     \n",
       "4                         5/9                                     \n",
       "\n",
       "     publication evidence                            biocuration  \n",
       "0  PMID:35310830      PCS  ORCID:0000-0002-0736-9199[2024-11-30]  \n",
       "1  PMID:35310830      PCS  ORCID:0000-0002-0736-9199[2024-11-30]  \n",
       "2  PMID:35310830      PCS  ORCID:0000-0002-0736-9199[2024-11-30]  \n",
       "3  PMID:35310830      PCS  ORCID:0000-0002-0736-9199[2024-11-30]  \n",
       "4  PMID:35310830      PCS  ORCID:0000-0002-0736-9199[2024-11-30]  "
      ]
     },
     "execution_count": 5,
     "metadata": {},
     "output_type": "execute_result"
    }
   ],
   "source": [
    "pmid = \"PMID:35310830\"\n",
    "df = timporter.create_hpoa_from_phenopackets(pmid=pmid, mode_of_inheritance=Moi.AD, target=\"OMIM:619806\")\n",
    "df.head()"
   ]
  }
 ],
 "metadata": {
  "kernelspec": {
   "display_name": "ps24venv",
   "language": "python",
   "name": "python3"
  },
  "language_info": {
   "codemirror_mode": {
    "name": "ipython",
    "version": 3
   },
   "file_extension": ".py",
   "mimetype": "text/x-python",
   "name": "python",
   "nbconvert_exporter": "python",
   "pygments_lexer": "ipython3",
   "version": "3.12.4"
  }
 },
 "nbformat": 4,
 "nbformat_minor": 2
}
