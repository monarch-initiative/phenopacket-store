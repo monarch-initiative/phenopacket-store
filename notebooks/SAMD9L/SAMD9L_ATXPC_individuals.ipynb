{
 "cells": [
  {
   "cell_type": "markdown",
   "metadata": {},
   "source": [
    "# SAMD9L\n",
    "[ataxia-pancytopenia syndrome (ATXPC)](https://omim.org/entry/159550) is caused by heterozygous mutation in the SAMD9L gene. "
   ]
  },
  {
   "cell_type": "code",
   "execution_count": 1,
   "metadata": {},
   "outputs": [
    {
     "name": "stdout",
     "output_type": "stream",
     "text": [
      "Using pyphetools version 0.9.84\n"
     ]
    },
    {
     "name": "stderr",
     "output_type": "stream",
     "text": [
      "/Users/robin/GIT/phenopacket-store/ps24venv/lib/python3.9/site-packages/urllib3/__init__.py:35: NotOpenSSLWarning: urllib3 v2 only supports OpenSSL 1.1.1+, currently the 'ssl' module is compiled with 'LibreSSL 2.8.3'. See: https://github.com/urllib3/urllib3/issues/3020\n",
      "  warnings.warn(\n"
     ]
    }
   ],
   "source": [
    "from pyphetools.creation import TemplateImporter\n",
    "from pyphetools.visualization import IndividualTable, QcVisualizer\n",
    "from IPython.display import display, HTML\n",
    "import pyphetools\n",
    "print(f\"Using pyphetools version {pyphetools.__version__}\")"
   ]
  },
  {
   "cell_type": "code",
   "execution_count": 3,
   "metadata": {},
   "outputs": [],
   "source": [
    "template = \"input/SAMD9L_ATXPC_individuals.xlsx\"\n",
    "created_by = \"0000-0002-0736-9199\""
   ]
  },
  {
   "cell_type": "code",
   "execution_count": 9,
   "metadata": {},
   "outputs": [
    {
     "name": "stdout",
     "output_type": "stream",
     "text": [
      "HPO version 2024-04-26\n",
      "Created encoders for 46 fields\n",
      "Importing OMIM:159550, Ataxia-pancytopenia syndrome, HGNC:1349, SAMD9L,  NM_152703.5\n",
      "[INFO] encoding variant \"c.2956C>T\"\n",
      "https://rest.variantvalidator.org/VariantValidator/variantvalidator/hg38/NM_152703.5%3Ac.2956C>T/NM_152703.5?content-type=application%2Fjson\n",
      "[INFO] encoding variant \"c.2672T>C\"\n",
      "https://rest.variantvalidator.org/VariantValidator/variantvalidator/hg38/NM_152703.5%3Ac.2672T>C/NM_152703.5?content-type=application%2Fjson\n",
      "[INFO] encoding variant \"c.2640C>A\"\n",
      "https://rest.variantvalidator.org/VariantValidator/variantvalidator/hg38/NM_152703.5%3Ac.2640C>A/NM_152703.5?content-type=application%2Fjson\n",
      "[INFO] encoding variant \"c.2957G>A\"\n",
      "https://rest.variantvalidator.org/VariantValidator/variantvalidator/hg38/NM_152703.5%3Ac.2957G>A/NM_152703.5?content-type=application%2Fjson\n",
      "[INFO] encoding variant \"c.4534G>A\"\n",
      "https://rest.variantvalidator.org/VariantValidator/variantvalidator/hg38/NM_152703.5%3Ac.4534G>A/NM_152703.5?content-type=application%2Fjson\n",
      "We output 21 GA4GH phenopackets to the directory phenopackets\n"
     ]
    }
   ],
   "source": [
    "timporter = TemplateImporter(template=template,  created_by=created_by)\n",
    "individual_list, cvalidator = timporter.import_phenopackets_from_template()"
   ]
  },
  {
   "cell_type": "code",
   "execution_count": 10,
   "metadata": {},
   "outputs": [
    {
     "data": {
      "text/html": [
       "<h2>Cohort validation</h2>\n",
       "<p>Errors found with 5 of 21 phenopackets.</p>\n",
       "<table style=\"border: 2px solid black; align: \"left\">\n",
       "<caption>Error counts</caption>\n",
       "<tr><th style=\"text-align: left;font-weight: bold;\">Level</th><th style=\"text-align: left;font-weight: bold;\">Error category</th><th style=\"text-align: left;font-weight: bold;\">Count</th></tr>\n",
       "<tr><td style=\"text-align: left;\">WARNING</td><td style=\"text-align: left;\">REDUNDANT</td><td style=\"text-align: left;\">5</td></tr>\n",
       "</table>\n",
       "<p>A total of 5 issues were fixed and no individual was removed from the cohort.</p>"
      ],
      "text/plain": [
       "<IPython.core.display.HTML object>"
      ]
     },
     "metadata": {},
     "output_type": "display_data"
    }
   ],
   "source": [
    "qc = QcVisualizer(cohort_validator=cvalidator)\n",
    "display(HTML(qc.to_summary_html()))"
   ]
  },
  {
   "cell_type": "code",
   "execution_count": 11,
   "metadata": {},
   "outputs": [
    {
     "data": {
      "text/html": [
       "<table style=\"border: 2px solid black; align: \"left\">\n",
       "<caption>21 phenopackets - PMID:27259050 (n=4); PMID:28202457 (n=10); PMID:29217778 (n=7)</caption>\n",
       "<tr><th style=\"text-align: left;font-weight: bold;\">Individual</th><th style=\"text-align: left;font-weight: bold;\">Disease</th><th style=\"text-align: left;font-weight: bold;\">Genotype</th><th style=\"text-align: left;font-weight: bold;\">Phenotypic features</th></tr>\n",
       "<tr><td style=\"text-align: left;\">III-3 (MALE; P47Y)</td><td style=\"text-align: left;\">Ataxia-pancytopenia syndrome (OMIM:159550)</td><td style=\"text-align: left;\">NM_152703.5:c.2640C>A (heterozygous)</td><td style=\"text-align: left;\"><b>P3M</b>: Neutropenia (HP:0001875); Anemia (HP:0001903); Pancytopenia (HP:0001876); Thrombocytopenia (HP:0001873); Purpura (HP:0000979)<br/><b>P11Y</b>: Bone marrow hypocellularity (HP:0005528)<br/><b>P30Y</b>: Unsteady gait (HP:0002317)<br/><b>P47Y</b>: Nystagmus (HP:0000639); Dysarthria (HP:0001260); Dysmetria (HP:0001310); Ankle clonus (HP:0011448)<br/>Babinski sign (HP:0003487)</td></tr>\n",
       "<tr><td style=\"text-align: left;\">III-5 (MALE; P16Y)</td><td style=\"text-align: left;\">Ataxia-pancytopenia syndrome (OMIM:159550)</td><td style=\"text-align: left;\">NM_152703.5:c.2640C>A (heterozygous)</td><td style=\"text-align: left;\"><b>P1M</b>: Bone marrow hypocellularity (HP:0005528); Megakaryocytopenia (HP:0005548); Thrombocytopenia (HP:0001873); Petechiae (HP:0000967); Ecchymosis (HP:0031364)<br/><b>P16Y</b>: Pancytopenia (HP:0001876); Cerebellar atrophy (HP:0001272)<br/>excluded: Dysarthria (HP:0001260)</td></tr>\n",
       "<tr><td style=\"text-align: left;\">III-6 (MALE; P43Y)</td><td style=\"text-align: left;\">Ataxia-pancytopenia syndrome (OMIM:159550)</td><td style=\"text-align: left;\">NM_152703.5:c.2640C>A (heterozygous)</td><td style=\"text-align: left;\"><b>P14Y</b>: Thrombocytopenia (HP:0001873)<br/><b>P25Y</b>: Unsteady gait (HP:0002317); Ataxia (HP:0001251)<br/><b>P31Y</b>: Nystagmus (HP:0000639); Dysarthria (HP:0001260); Dysmetria (HP:0001310); Ankle clonus (HP:0011448)<br/><b>P32Y</b>: Cerebellar atrophy (HP:0001272)<br/><b>P43Y</b>: Neutropenia (HP:0001875)<br/>excluded: Distal sensory impairment (HP:0002936); excluded: Babinski sign (HP:0003487)</td></tr>\n",
       "<tr><td style=\"text-align: left;\">III-8 (FEMALE; P38Y)</td><td style=\"text-align: left;\">Ataxia-pancytopenia syndrome (OMIM:159550)</td><td style=\"text-align: left;\">NM_152703.5:c.2640C>A (heterozygous)</td><td style=\"text-align: left;\"><b>P25Y</b>: Nystagmus (HP:0000639); Ankle clonus (HP:0011448)<br/><b>P36Y</b>: Hyperreflexia (HP:0001347); Dysmetria (HP:0001310)<br/><b>P38Y</b>: Cerebellar atrophy (HP:0001272); Unsteady gait (HP:0002317); Babinski sign (HP:0003487)<br/><b>P45Y</b>: Neutropenia (HP:0001875); Thrombocytopenia (HP:0001873)<br/>excluded: Dysarthria (HP:0001260)</td></tr>\n",
       "<tr><td style=\"text-align: left;\">F1:1-2 (MALE; P64Y)</td><td style=\"text-align: left;\">Ataxia-pancytopenia syndrome (OMIM:159550)</td><td style=\"text-align: left;\">NM_152703.5:c.2956C>T (heterozygous)</td><td style=\"text-align: left;\"><b>P15Y</b>: Unsteady gait (HP:0002317); Nystagmus (HP:0000639); Ankle clonus (HP:0011448)<br/><b>P61Y</b>: Neutropenia (HP:0001875)<br/>Thrombocytopenia (HP:0001873); excluded: Anemia (HP:0001903); excluded: Dysarthria (HP:0001260); excluded: Dysmetria (HP:0001310); excluded: Recurrent infections (HP:0002719)</td></tr>\n",
       "<tr><td style=\"text-align: left;\">F1:1-3 (MALE; P58Y)</td><td style=\"text-align: left;\">Ataxia-pancytopenia syndrome (OMIM:159550)</td><td style=\"text-align: left;\">NM_152703.5:c.2956C>T (heterozygous)</td><td style=\"text-align: left;\"><b>P56Y</b>: Myelodysplasia (HP:0002863)<br/>Neutropenia (HP:0001875); Anemia (HP:0001903); Thrombocytopenia (HP:0001873); Unsteady gait (HP:0002317); Recurrent infections (HP:0002719); excluded: Attention deficit hyperactivity disorder (HP:0007018)</td></tr>\n",
       "<tr><td style=\"text-align: left;\">F1:II-1 (FEMALE; P38Y)</td><td style=\"text-align: left;\">Ataxia-pancytopenia syndrome (OMIM:159550)</td><td style=\"text-align: left;\">NM_152703.5:c.2956C>T (heterozygous)</td><td style=\"text-align: left;\">excluded: Neutropenia (HP:0001875); excluded: Anemia (HP:0001903); excluded: Pancytopenia (HP:0001876); excluded: Thrombocytopenia (HP:0001873); excluded: Attention deficit hyperactivity disorder (HP:0007018)</td></tr>\n",
       "<tr><td style=\"text-align: left;\">F1:II-2 (FEMALE; P33Y)</td><td style=\"text-align: left;\">Ataxia-pancytopenia syndrome (OMIM:159550)</td><td style=\"text-align: left;\">NM_152703.5:c.2956C>T (heterozygous)</td><td style=\"text-align: left;\">Unsteady gait (HP:0002317); Nystagmus (HP:0000639); excluded: Neutropenia (HP:0001875); excluded: Anemia (HP:0001903); excluded: Pancytopenia (HP:0001876); excluded: Thrombocytopenia (HP:0001873); excluded: Attention deficit hyperactivity disorder (HP:0007018)</td></tr>\n",
       "<tr><td style=\"text-align: left;\">F1:II-4 (FEMALE; P28Y)</td><td style=\"text-align: left;\">Ataxia-pancytopenia syndrome (OMIM:159550)</td><td style=\"text-align: left;\">NM_152703.5:c.2956C>T (heterozygous)</td><td style=\"text-align: left;\"><b>P1Y6M</b>: Pancytopenia (HP:0001876)<br/>Neutropenia (HP:0001875); Thrombocytopenia (HP:0001873); excluded: Anemia (HP:0001903); excluded: Attention deficit hyperactivity disorder (HP:0007018)</td></tr>\n",
       "<tr><td style=\"text-align: left;\">F1:III-1 (MALE; P6Y)</td><td style=\"text-align: left;\">Ataxia-pancytopenia syndrome (OMIM:159550)</td><td style=\"text-align: left;\">NM_152703.5:c.2956C>T (heterozygous)</td><td style=\"text-align: left;\"><b>P4M</b>: Recurrent infections (HP:0002719)<br/><b>P5M</b>: Pancytopenia (HP:0001876)<br/><b>P4Y</b>: Myelodysplasia (HP:0002863); Decreased circulating total IgM (HP:0002850); Decreased circulating IgG level (HP:0004315); Decreased circulating IgA level (HP:0002720)<br/><b>P4Y6M</b>: Cerebellar atrophy (HP:0001272)<br/><b>P5Y</b>: Nystagmus (HP:0000639); Dysmetria (HP:0001310); Ankle clonus (HP:0011448)<br/>Neutropenia (HP:0001875); Increased mean corpuscular volume (HP:0005518); Thrombocytopenia (HP:0001873); excluded: Anemia (HP:0001903); excluded: Dysarthria (HP:0001260); excluded: Babinski sign (HP:0003487); excluded: Attention deficit hyperactivity disorder (HP:0007018)</td></tr>\n",
       "<tr><td style=\"text-align: left;\">F1:III-2 (FEMALE; P58Y)</td><td style=\"text-align: left;\">Ataxia-pancytopenia syndrome (OMIM:159550)</td><td style=\"text-align: left;\">NM_152703.5:c.2956C>T (heterozygous)</td><td style=\"text-align: left;\"><b>P1Y9M</b>: Thrombocytopenia (HP:0001873)<br/><b>P54Y</b>: Megakaryocytopenia (HP:0005548); Pancytopenia (HP:0001876)<br/><b>P56Y</b>: Myelodysplasia (HP:0002863)<br/>Neutropenia (HP:0001875); excluded: Anemia (HP:0001903); excluded: Increased mean corpuscular volume (HP:0005518); excluded: Attention deficit hyperactivity disorder (HP:0007018)</td></tr>\n",
       "<tr><td style=\"text-align: left;\">F2:1-2 (FEMALE; P34Y)</td><td style=\"text-align: left;\">Ataxia-pancytopenia syndrome (OMIM:159550)</td><td style=\"text-align: left;\">NM_152703.5:c.2672T>C (heterozygous)</td><td style=\"text-align: left;\"><b>P32Y</b>: Nystagmus (HP:0000639)<br/>Recurrent infections (HP:0002719); Anemia (HP:0001903); Thrombocytopenia (HP:0001873); Attention deficit hyperactivity disorder (HP:0007018); excluded: Unsteady gait (HP:0002317); excluded: Dysarthria (HP:0001260); excluded: Dysmetria (HP:0001310); excluded: Ankle clonus (HP:0011448)</td></tr>\n",
       "<tr><td style=\"text-align: left;\">F2:II-1 (MALE; P13Y)</td><td style=\"text-align: left;\">Ataxia-pancytopenia syndrome (OMIM:159550)</td><td style=\"text-align: left;\">NM_152703.5:c.2672T>C (heterozygous)</td><td style=\"text-align: left;\"><b>P4M</b>: Recurrent infections (HP:0002719)<br/><b>P1Y2M</b>: Pancytopenia (HP:0001876)<br/>Bone marrow hypocellularity (HP:0005528); Neutropenia (HP:0001875); Anemia (HP:0001903); Thrombocytopenia (HP:0001873); Attention deficit hyperactivity disorder (HP:0007018)</td></tr>\n",
       "<tr><td style=\"text-align: left;\">F2:II-4 (MALE; P9Y)</td><td style=\"text-align: left;\">Ataxia-pancytopenia syndrome (OMIM:159550)</td><td style=\"text-align: left;\">NM_152703.5:c.2672T>C (heterozygous)</td><td style=\"text-align: left;\"><b>P1Y2M</b>: Pancytopenia (HP:0001876)<br/><b>P1Y6M</b>: Myelodysplasia (HP:0002863)<br/><b>P7Y</b>: Nystagmus (HP:0000639); Hyperreflexia (HP:0001347); Dysmetria (HP:0001310)<br/>Neutropenia (HP:0001875); Anemia (HP:0001903); Thrombocytopenia (HP:0001873); Recurrent infections (HP:0002719); Attention deficit hyperactivity disorder (HP:0007018); excluded: Unsteady gait (HP:0002317); excluded: Dysarthria (HP:0001260); excluded: Ankle clonus (HP:0011448)</td></tr>\n",
       "<tr><td style=\"text-align: left;\">P1-D084 (MALE; P7Y)</td><td style=\"text-align: left;\">Ataxia-pancytopenia syndrome (OMIM:159550)</td><td style=\"text-align: left;\">NM_152703.5:c.4534G>A (heterozygous)</td><td style=\"text-align: left;\"><b>P6M</b>: Pancytopenia (HP:0001876)<br/><b>P3Y4M</b>: Myelodysplasia (HP:0002863)<br/>Recurrent infections (HP:0002719); Bone marrow hypocellularity (HP:0005528); Neutropenia (HP:0001875); Anemia (HP:0001903); Increased mean corpuscular volume (HP:0005518); Thrombocytopenia (HP:0001873)</td></tr>\n",
       "<tr><td style=\"text-align: left;\">P2-D154 (FEMALE; P22Y)</td><td style=\"text-align: left;\">Ataxia-pancytopenia syndrome (OMIM:159550)</td><td style=\"text-align: left;\">NM_152703.5:c.4534G>A (heterozygous)</td><td style=\"text-align: left;\"><b>P1Y6M</b>: Recurrent infections (HP:0002719)<br/><b>P2Y</b>: Pancytopenia (HP:0001876)<br/>Bone marrow hypocellularity (HP:0005528); Myelodysplasia (HP:0002863); Increased mean corpuscular volume (HP:0005518); Thrombocytopenia (HP:0001873)</td></tr>\n",
       "<tr><td style=\"text-align: left;\">P3-US1 (FEMALE; n/a)</td><td style=\"text-align: left;\">Ataxia-pancytopenia syndrome (OMIM:159550)</td><td style=\"text-align: left;\">NM_152703.5:c.2957G>A (heterozygous)</td><td style=\"text-align: left;\">Bone marrow hypocellularity (HP:0005528); Myelodysplasia (HP:0002863); Neutropenia (HP:0001875); Increased mean corpuscular volume (HP:0005518); Thrombocytopenia (HP:0001873)</td></tr>\n",
       "<tr><td style=\"text-align: left;\">P4-US2 (MALE; n/a)</td><td style=\"text-align: left;\">Ataxia-pancytopenia syndrome (OMIM:159550)</td><td style=\"text-align: left;\">NM_152703.5:c.2957G>A (heterozygous)</td><td style=\"text-align: left;\"><b>P1Y</b>: Pancytopenia (HP:0001876)<br/>Recurrent infections (HP:0002719); Bone marrow hypocellularity (HP:0005528); Myelodysplasia (HP:0002863); Neutropenia (HP:0001875); Anemia (HP:0001903); Thrombocytopenia (HP:0001873)</td></tr>\n",
       "<tr><td style=\"text-align: left;\">P5-D637 (MALE; P7Y7M)</td><td style=\"text-align: left;\">Ataxia-pancytopenia syndrome (OMIM:159550)</td><td style=\"text-align: left;\">NM_152703.5:c.2956C>T (heterozygous)</td><td style=\"text-align: left;\"><b>P7Y7M</b>: Pancytopenia (HP:0001876)<br/>Bone marrow hypocellularity (HP:0005528); Myelodysplasia (HP:0002863); Neutropenia (HP:0001875); Anemia (HP:0001903); Increased mean corpuscular volume (HP:0005518); Thrombocytopenia (HP:0001873)</td></tr>\n",
       "<tr><td style=\"text-align: left;\">P6-D637f (MALE; P42Y)</td><td style=\"text-align: left;\">Ataxia-pancytopenia syndrome (OMIM:159550)</td><td style=\"text-align: left;\">NM_152703.5:c.2956C>T (heterozygous)</td><td style=\"text-align: left;\">Bone marrow hypocellularity (HP:0005528); Myelodysplasia (HP:0002863); Neutropenia (HP:0001875); Anemia (HP:0001903); Increased mean corpuscular volume (HP:0005518); Thrombocytopenia (HP:0001873)</td></tr>\n",
       "<tr><td style=\"text-align: left;\">P7-SC054 (FEMALE; P18Y)</td><td style=\"text-align: left;\">Ataxia-pancytopenia syndrome (OMIM:159550)</td><td style=\"text-align: left;\">NM_152703.5:c.2640C>A (heterozygous)</td><td style=\"text-align: left;\">Myelodysplasia (HP:0002863); Neutropenia (HP:0001875); Anemia (HP:0001903); Pancytopenia (HP:0001876); Thrombocytopenia (HP:0001873); excluded: Bone marrow hypocellularity (HP:0005528)</td></tr>\n",
       "</table>"
      ],
      "text/plain": [
       "<IPython.core.display.HTML object>"
      ]
     },
     "metadata": {},
     "output_type": "display_data"
    }
   ],
   "source": [
    "table = IndividualTable(cvalidator.get_error_free_individual_list())\n",
    "display(HTML(table.to_html()))"
   ]
  }
 ],
 "metadata": {
  "kernelspec": {
   "display_name": "ps24venv",
   "language": "python",
   "name": "python3"
  },
  "language_info": {
   "codemirror_mode": {
    "name": "ipython",
    "version": 3
   },
   "file_extension": ".py",
   "mimetype": "text/x-python",
   "name": "python",
   "nbconvert_exporter": "python",
   "pygments_lexer": "ipython3",
   "version": "3.9.6"
  }
 },
 "nbformat": 4,
 "nbformat_minor": 2
}
