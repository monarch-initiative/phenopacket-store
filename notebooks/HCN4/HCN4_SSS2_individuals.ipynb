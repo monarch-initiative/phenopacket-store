{
 "cells": [
  {
   "cell_type": "markdown",
   "metadata": {},
   "source": [
    "# HCN4\n",
    "[sick sinus syndrome-2 (SSS2)](https://omim.org/entry/163800) is caused by heterozygous mutation in the cardiac pacemaker channel gene HCN4."
   ]
  },
  {
   "cell_type": "code",
   "execution_count": 3,
   "metadata": {},
   "outputs": [
    {
     "name": "stdout",
     "output_type": "stream",
     "text": [
      "Using pyphetools version 0.9.84\n"
     ]
    }
   ],
   "source": [
    "from pyphetools.creation import TemplateImporter\n",
    "from pyphetools.visualization import IndividualTable, QcVisualizer\n",
    "from IPython.display import display, HTML\n",
    "import pyphetools\n",
    "print(f\"Using pyphetools version {pyphetools.__version__}\")"
   ]
  },
  {
   "cell_type": "code",
   "execution_count": 5,
   "metadata": {},
   "outputs": [],
   "source": [
    "template = \"input/HNC4_SSS2_individuals.xlsx\"\n",
    "created_by = \"0000-0002-0736-9199\""
   ]
  },
  {
   "cell_type": "code",
   "execution_count": 11,
   "metadata": {},
   "outputs": [
    {
     "name": "stdout",
     "output_type": "stream",
     "text": [
      "HPO version 2024-04-26\n",
      "Created encoders for 33 fields\n",
      "Importing OMIM:163800, Sick sinus syndrome 2, HGNC:16882, HCN4,  NM_005477.3\n",
      "We output 6 GA4GH phenopackets to the directory phenopackets\n"
     ]
    }
   ],
   "source": [
    "timporter = TemplateImporter(template=template,  created_by=created_by)\n",
    "individual_list, cvalidator = timporter.import_phenopackets_from_template()"
   ]
  },
  {
   "cell_type": "code",
   "execution_count": 12,
   "metadata": {},
   "outputs": [
    {
     "data": {
      "text/html": [
       "<h2>Cohort validation</h2>\n",
       "<p>No errors found for the cohort with 6 individuals</p>"
      ],
      "text/plain": [
       "<IPython.core.display.HTML object>"
      ]
     },
     "metadata": {},
     "output_type": "display_data"
    }
   ],
   "source": [
    "qc = QcVisualizer(cohort_validator=cvalidator)\n",
    "display(HTML(qc.to_summary_html()))"
   ]
  },
  {
   "cell_type": "code",
   "execution_count": 13,
   "metadata": {},
   "outputs": [
    {
     "data": {
      "text/html": [
       "<table style=\"border: 2px solid black; align: \"left\">\n",
       "<caption>6 phenopackets - PMID:12750403 (n=1); PMID:15123648 (n=1); PMID:25145518 (n=4)</caption>\n",
       "<tr><th style=\"text-align: left;font-weight: bold;\">Individual</th><th style=\"text-align: left;font-weight: bold;\">Disease</th><th style=\"text-align: left;font-weight: bold;\">Genotype</th><th style=\"text-align: left;font-weight: bold;\">Phenotypic features</th></tr>\n",
       "<tr><td style=\"text-align: left;\">66-year-old woman (FEMALE; P66Y)</td><td style=\"text-align: left;\">Sick sinus syndrome 2 (OMIM:163800)</td><td style=\"text-align: left;\">NM_005477.3:c.1631del (heterozygous)</td><td style=\"text-align: left;\"><b>P66Y</b>: Syncope (HP:0001279)<br/>Sinus bradycardia (HP:0001688); Paroxysmal atrial fibrillation (HP:0004757)</td></tr>\n",
       "<tr><td style=\"text-align: left;\">index patient (FEMALE; P43Y)</td><td style=\"text-align: left;\">Sick sinus syndrome 2 (OMIM:163800)</td><td style=\"text-align: left;\">NM_005477.3:c.1657G>A (heterozygous)</td><td style=\"text-align: left;\"><b>P20Y</b>: Syncope (HP:0001279)<br/><b>P43Y</b>: Polymorphic ventricular tachycardia (HP:0031677); Torsade de pointes (HP:0001664)<br/>Sinus bradycardia (HP:0001688)</td></tr>\n",
       "<tr><td style=\"text-align: left;\">index patient IV.1 (MALE; P23Y)</td><td style=\"text-align: left;\">Sick sinus syndrome 2 (OMIM:163800)</td><td style=\"text-align: left;\">NM_005477.3:c.1444G>A (heterozygous)</td><td style=\"text-align: left;\"><b>P23Y</b>: Left ventricular noncompaction (HP:0030682); Mitral valve prolapse (HP:0001634); Paroxysmal atrial fibrillation (HP:0004757); Syncope (HP:0001279); First degree atrioventricular block (HP:0011705); T-wave inversion (HP:0010872); Chronotropic incompetence (HP:0033992); Ventricular bigeminy (HP:0034306)<br/>Sinus bradycardia (HP:0001688); excluded: Abnormal QT interval (HP:0031547)</td></tr>\n",
       "<tr><td style=\"text-align: left;\">patient III.2 (FEMALE; P48Y)</td><td style=\"text-align: left;\">Sick sinus syndrome 2 (OMIM:163800)</td><td style=\"text-align: left;\">NM_005477.3:c.1444G>A (heterozygous)</td><td style=\"text-align: left;\">Left ventricular noncompaction (HP:0030682); Sinus bradycardia (HP:0001688); Mitral valve prolapse (HP:0001634); excluded: Syncope (HP:0001279)</td></tr>\n",
       "<tr><td style=\"text-align: left;\">patient VI.1 (MALE; P23Y)</td><td style=\"text-align: left;\">Sick sinus syndrome 2 (OMIM:163800)</td><td style=\"text-align: left;\">NM_005477.3:c.1444G>A (heterozygous)</td><td style=\"text-align: left;\">Left ventricular noncompaction (HP:0030682); Sinus bradycardia (HP:0001688); Mitral valve prolapse (HP:0001634); Syncope (HP:0001279)</td></tr>\n",
       "<tr><td style=\"text-align: left;\">patient VI.2 (FEMALE; P16Y)</td><td style=\"text-align: left;\">Sick sinus syndrome 2 (OMIM:163800)</td><td style=\"text-align: left;\">NM_005477.3:c.1444G>A (heterozygous)</td><td style=\"text-align: left;\">Left ventricular noncompaction (HP:0030682); Sinus bradycardia (HP:0001688); Mitral valve prolapse (HP:0001634); Syncope (HP:0001279)</td></tr>\n",
       "</table>"
      ],
      "text/plain": [
       "<IPython.core.display.HTML object>"
      ]
     },
     "metadata": {},
     "output_type": "display_data"
    }
   ],
   "source": [
    "table = IndividualTable(cvalidator.get_error_free_individual_list())\n",
    "display(HTML(table.to_html()))"
   ]
  },
  {
   "cell_type": "code",
   "execution_count": 15,
   "metadata": {},
   "outputs": [
    {
     "name": "stdout",
     "output_type": "stream",
     "text": [
      "[pyphetools] Ingested 6 GA4GH phenopackets.\n",
      "[INFO] Extracted 6 from 6 phenopackets with OMIM:163800\n",
      "\n",
      "\tSick sinus syndrome 2 (OMIM:163800): n=6\n",
      "We found a total of 12 unique HPO terms\n",
      "Extracted disease: Sick sinus syndrome 2 (OMIM:163800)\n",
      "Wrote HPOA disease file to OMIM-163800.tab\n"
     ]
    }
   ],
   "source": [
    "pmid = \"PMID:25145518\"\n",
    "df = timporter.create_hpoa_from_phenopackets(pmid=pmid, moi=\"Autosomal dominant\", target=\"OMIM:163800\")"
   ]
  }
 ],
 "metadata": {
  "kernelspec": {
   "display_name": "ps24venv",
   "language": "python",
   "name": "python3"
  },
  "language_info": {
   "codemirror_mode": {
    "name": "ipython",
    "version": 3
   },
   "file_extension": ".py",
   "mimetype": "text/x-python",
   "name": "python",
   "nbconvert_exporter": "python",
   "pygments_lexer": "ipython3",
   "version": "3.9.6"
  }
 },
 "nbformat": 4,
 "nbformat_minor": 2
}
