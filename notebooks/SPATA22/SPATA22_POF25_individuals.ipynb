{
 "cells": [
  {
   "cell_type": "markdown",
   "metadata": {},
   "source": [
    "# PSATA22\n",
    "[premature ovarian failure-25 (POF25)](https://omim.org/entry/621002) is caused by homozygous or compound heterozygous mutation in the SPATA22 gene."
   ]
  },
  {
   "cell_type": "code",
   "execution_count": 1,
   "metadata": {},
   "outputs": [
    {
     "name": "stdout",
     "output_type": "stream",
     "text": [
      "Using pyphetools version 0.9.115\n"
     ]
    }
   ],
   "source": [
    "from pyphetools.creation import TemplateImporter, Moi\n",
    "from pyphetools.visualization import IndividualTable, QcVisualizer\n",
    "from IPython.display import display, HTML\n",
    "import pyphetools\n",
    "print(f\"Using pyphetools version {pyphetools.__version__}\")"
   ]
  },
  {
   "cell_type": "code",
   "execution_count": 3,
   "metadata": {},
   "outputs": [
    {
     "name": "stdout",
     "output_type": "stream",
     "text": [
      "HPO version 2024-12-12\n",
      "Created encoders for 23 fields\n",
      "Importing OMIM:621002, Premature ovarian failure 25, HGNC:30705, SPATA22,  NM_001170698.2\n",
      "We output 2 GA4GH phenopackets to the directory phenopackets\n"
     ]
    }
   ],
   "source": [
    "template = \"input/SPATA22_POF25_individuals.xlsx\"\n",
    "created_by = \"0000-0002-0736-9199\"\n",
    "timporter = TemplateImporter(template=template,  created_by=created_by)\n",
    "individual_list, cvalidator = timporter.import_phenopackets_from_template()"
   ]
  },
  {
   "cell_type": "code",
   "execution_count": 4,
   "metadata": {},
   "outputs": [
    {
     "data": {
      "text/html": [
       "<h2>Cohort validation</h2>\n",
       "<p>No errors found for the cohort with 2 individuals</p>"
      ],
      "text/plain": [
       "<IPython.core.display.HTML object>"
      ]
     },
     "metadata": {},
     "output_type": "display_data"
    }
   ],
   "source": [
    "qc = QcVisualizer(cohort_validator=cvalidator)\n",
    "display(HTML(qc.to_summary_html()))"
   ]
  },
  {
   "cell_type": "code",
   "execution_count": 5,
   "metadata": {},
   "outputs": [
    {
     "data": {
      "text/html": [
       "<table style=\"border: 2px solid black; align: \"left\">\n",
       "<caption>2 phenopackets - PMID:35285020 (n=2)</caption>\n",
       "<tr><th style=\"text-align: left;font-weight: bold;\">Individual</th><th style=\"text-align: left;font-weight: bold;\">Disease</th><th style=\"text-align: left;font-weight: bold;\">Genotype</th><th style=\"text-align: left;font-weight: bold;\">Phenotypic features</th></tr>\n",
       "<tr><td style=\"text-align: left;\">IV-2 IV-1 (FEMALE)</td><td style=\"text-align: left;\">Premature ovarian failure 25 (OMIM:621002)</td><td style=\"text-align: left;\">NM_001170698.2:c.400C>T (homozygous)</td><td style=\"text-align: left;\">Premature ovarian insufficiency (HP:0008209): onset ; Elevated circulating follicle stimulating hormone level (HP:0008232): onset ; Decreased circulating antimullerian hormone circulation (HP:0031103): onset ; Female infertility (HP:0008222): onset ; excluded: Autoimmunity (HP:0002960): onset <br/><b>TimeElement(element=Age(iso8601duration=P14Y))</b>: Irregular menstruation (HP:0000858): onset age {\n",
       "  iso8601duration: \"P14Y\"\n",
       "}\n",
       "</td></tr>\n",
       "<tr><td style=\"text-align: left;\">sister IV-2 (FEMALE)</td><td style=\"text-align: left;\">Premature ovarian failure 25 (OMIM:621002)</td><td style=\"text-align: left;\">NM_001170698.2:c.400C>T (homozygous)</td><td style=\"text-align: left;\">Premature ovarian insufficiency (HP:0008209): onset ; Elevated circulating follicle stimulating hormone level (HP:0008232): onset ; Decreased circulating antimullerian hormone circulation (HP:0031103): onset ; Female infertility (HP:0008222): onset ; excluded: Autoimmunity (HP:0002960): onset <br/><b>TimeElement(element=Age(iso8601duration=P13Y))</b>: Irregular menstruation (HP:0000858): onset age {\n",
       "  iso8601duration: \"P13Y\"\n",
       "}\n",
       "</td></tr>\n",
       "</table>"
      ],
      "text/plain": [
       "<IPython.core.display.HTML object>"
      ]
     },
     "metadata": {},
     "output_type": "display_data"
    }
   ],
   "source": [
    "table = IndividualTable(cvalidator.get_error_free_individual_list())\n",
    "display(HTML(table.to_html()))"
   ]
  },
  {
   "cell_type": "code",
   "execution_count": 6,
   "metadata": {},
   "outputs": [
    {
     "name": "stdout",
     "output_type": "stream",
     "text": [
      "[pyphetools] Ingested 5 GA4GH phenopackets.\n",
      "[INFO] Extracted 2 from 5 phenopackets with OMIM:621002\n",
      "\n",
      "\tPremature ovarian failure 25 (OMIM:621002): n=2\n",
      "We found a total of 6 unique HPO terms\n",
      "Extracted disease: Premature ovarian failure 25 (OMIM:621002)\n",
      "Wrote HPOA disease file to OMIM-621002.tab\n"
     ]
    }
   ],
   "source": [
    "pmid = \"PMID:35285020\"\n",
    "df = timporter.create_hpoa_from_phenopackets(pmid=pmid, mode_of_inheritance=Moi.AR, target=\"OMIM:621002\")"
   ]
  }
 ],
 "metadata": {
  "kernelspec": {
   "display_name": "ps24venv",
   "language": "python",
   "name": "python3"
  },
  "language_info": {
   "codemirror_mode": {
    "name": "ipython",
    "version": 3
   },
   "file_extension": ".py",
   "mimetype": "text/x-python",
   "name": "python",
   "nbconvert_exporter": "python",
   "pygments_lexer": "ipython3",
   "version": "3.12.4"
  }
 },
 "nbformat": 4,
 "nbformat_minor": 2
}
