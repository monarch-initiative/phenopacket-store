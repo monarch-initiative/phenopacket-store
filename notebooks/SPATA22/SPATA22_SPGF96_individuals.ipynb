{
 "cells": [
  {
   "cell_type": "markdown",
   "metadata": {},
   "source": [
    "# SPATA22\n",
    "[spermatogenic failure-96 (SPGF96)](https://omim.org/entry/621001) is caused by homozygous mutation in the SPATA22 gene."
   ]
  },
  {
   "cell_type": "code",
   "execution_count": 1,
   "metadata": {},
   "outputs": [
    {
     "name": "stdout",
     "output_type": "stream",
     "text": [
      "Using pyphetools version 0.9.115\n"
     ]
    }
   ],
   "source": [
    "from pyphetools.creation import TemplateImporter, Moi\n",
    "from pyphetools.visualization import IndividualTable, QcVisualizer\n",
    "from IPython.display import display, HTML\n",
    "import pyphetools\n",
    "print(f\"Using pyphetools version {pyphetools.__version__}\")"
   ]
  },
  {
   "cell_type": "code",
   "execution_count": 2,
   "metadata": {},
   "outputs": [
    {
     "name": "stdout",
     "output_type": "stream",
     "text": [
      "HPO version 2024-12-12\n",
      "Created encoders for 23 fields\n",
      "Importing OMIM:621001, Spermatogenic failure 96, HGNC:30705, SPATA22,  NM_001170698.2\n",
      "[INFO] encoding variant \"c.400C>T\"\n",
      "https://rest.variantvalidator.org/VariantValidator/variantvalidator/hg38/NM_001170698.2%3Ac.400C>T/NM_001170698.2?content-type=application%2Fjson\n",
      "[INFO] encoding variant \"c.203del\"\n",
      "https://rest.variantvalidator.org/VariantValidator/variantvalidator/hg38/NM_001170698.2%3Ac.203del/NM_001170698.2?content-type=application%2Fjson\n",
      "We output 3 GA4GH phenopackets to the directory phenopackets\n"
     ]
    }
   ],
   "source": [
    "template = \"input/SPATA22_SPGF96_individuals.xlsx\"\n",
    "created_by = \"0000-0002-0736-9199\"\n",
    "timporter = TemplateImporter(template=template,  created_by=created_by)\n",
    "individual_list, cvalidator = timporter.import_phenopackets_from_template()"
   ]
  },
  {
   "cell_type": "code",
   "execution_count": 3,
   "metadata": {},
   "outputs": [
    {
     "data": {
      "text/html": [
       "<h2>Cohort validation</h2>\n",
       "<p>No errors found for the cohort with 3 individuals</p>"
      ],
      "text/plain": [
       "<IPython.core.display.HTML object>"
      ]
     },
     "metadata": {},
     "output_type": "display_data"
    }
   ],
   "source": [
    "qc = QcVisualizer(cohort_validator=cvalidator)\n",
    "display(HTML(qc.to_summary_html()))"
   ]
  },
  {
   "cell_type": "code",
   "execution_count": 4,
   "metadata": {},
   "outputs": [
    {
     "data": {
      "text/html": [
       "<table style=\"border: 2px solid black; align: \"left\">\n",
       "<caption>3 phenopackets - PMID:34392356 (n=1); PMID:35285020 (n=2)</caption>\n",
       "<tr><th style=\"text-align: left;font-weight: bold;\">Individual</th><th style=\"text-align: left;font-weight: bold;\">Disease</th><th style=\"text-align: left;font-weight: bold;\">Genotype</th><th style=\"text-align: left;font-weight: bold;\">Phenotypic features</th></tr>\n",
       "<tr><td style=\"text-align: left;\">nan (MALE)</td><td style=\"text-align: left;\">Spermatogenic failure 96 (OMIM:621001)</td><td style=\"text-align: left;\">NM_001170698.2:c.203del (homozygous)</td><td style=\"text-align: left;\">Non-obstructive azoospermia (HP:0011961): onset ; Male infertility (HP:0003251): onset </td></tr>\n",
       "<tr><td style=\"text-align: left;\">proband IV-3 (MALE; P23Y)</td><td style=\"text-align: left;\">Spermatogenic failure 96 (OMIM:621001)</td><td style=\"text-align: left;\">NM_001170698.2:c.400C>T (homozygous)</td><td style=\"text-align: left;\">Non-obstructive azoospermia (HP:0011961): onset ; Spermatocyte maturation arrest (HP:0031039): onset ; Male infertility (HP:0003251): onset ; excluded: Cryptorchidism (HP:0000028): onset ; excluded: Abnormal circulating testosterone concentration (HP:0030087): onset ; excluded: Abnormal circulating gonadotropin concentration (HP:0030338): onset </td></tr>\n",
       "<tr><td style=\"text-align: left;\">brother IV-4 (MALE; P21Y)</td><td style=\"text-align: left;\">Spermatogenic failure 96 (OMIM:621001)</td><td style=\"text-align: left;\">NM_001170698.2:c.400C>T (homozygous)</td><td style=\"text-align: left;\">Non-obstructive azoospermia (HP:0011961): onset ; Male infertility (HP:0003251): onset ; excluded: Cryptorchidism (HP:0000028): onset ; excluded: Abnormal circulating testosterone concentration (HP:0030087): onset ; excluded: Abnormal circulating gonadotropin concentration (HP:0030338): onset </td></tr>\n",
       "</table>"
      ],
      "text/plain": [
       "<IPython.core.display.HTML object>"
      ]
     },
     "metadata": {},
     "output_type": "display_data"
    }
   ],
   "source": [
    "table = IndividualTable(cvalidator.get_error_free_individual_list())\n",
    "display(HTML(table.to_html()))"
   ]
  },
  {
   "cell_type": "code",
   "execution_count": 5,
   "metadata": {},
   "outputs": [
    {
     "name": "stdout",
     "output_type": "stream",
     "text": [
      "[pyphetools] Ingested 3 GA4GH phenopackets.\n",
      "[INFO] Extracted 3 from 3 phenopackets with OMIM:621001\n",
      "\n",
      "\tSpermatogenic failure 96 (OMIM:621001): n=3\n",
      "We found a total of 6 unique HPO terms\n",
      "Extracted disease: Spermatogenic failure 96 (OMIM:621001)\n",
      "Wrote HPOA disease file to OMIM-621001.tab\n"
     ]
    }
   ],
   "source": [
    "pmid = \"PMID:34392356\"\n",
    "df = timporter.create_hpoa_from_phenopackets(pmid=pmid, mode_of_inheritance=Moi.AR, target=\"OMIM:621001\")"
   ]
  }
 ],
 "metadata": {
  "kernelspec": {
   "display_name": "ps24venv",
   "language": "python",
   "name": "python3"
  },
  "language_info": {
   "codemirror_mode": {
    "name": "ipython",
    "version": 3
   },
   "file_extension": ".py",
   "mimetype": "text/x-python",
   "name": "python",
   "nbconvert_exporter": "python",
   "pygments_lexer": "ipython3",
   "version": "3.12.4"
  }
 },
 "nbformat": 4,
 "nbformat_minor": 2
}
