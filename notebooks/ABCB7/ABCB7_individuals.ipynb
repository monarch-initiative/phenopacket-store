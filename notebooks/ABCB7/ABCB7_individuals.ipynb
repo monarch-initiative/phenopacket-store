{
 "cells": [
  {
   "cell_type": "markdown",
   "id": "6c58e834-7da6-449b-97c9-869c739f6eb1",
   "metadata": {},
   "source": [
    "# Anemia, sideroblastic, with ataxia \t\n",
    "Pathogenic variants in ABCB7 are associated with [Anemia, sideroblastic, with ataxia](https://omim.org/entry/301310).\n",
    "\n",
    "This file presents clinical and genetic data of affected individuals from several publication.\n",
    "\n",
    "- Clinical data from [Pagon RA, et al (1985)](https://pubmed.ncbi.nlm.nih.gov/4045952/) are combined with molecular data from [Allikmets R, et al (1999)](https://pubmed.ncbi.nlm.nih.gov/10196363/) in the input file under PMID:4045952.\n",
    "- [D'Hooghe M, et al (2012)](https://pubmed.ncbi.nlm.nih.gov/22398176/) reported an ABCB7 variant using transcript NM_004299.6:c.627A>T, corresponding to NP_004290.2:p.(Glu209Asp). We have mapped this to the MANE transcript: NM_001271696.3:c.624A>T, NP_001258625.1:p.(Glu208Asp)\n",
    "- [Xiong S, et al (2021)](https://pubmed.ncbi.nlm.nih.gov/34354969/) reported an ABCB/ variant using transcript NM_004299.6:c.2024A>G, NP_004290.2:p.(Asp675Gly). We mapped this to NM_001271696.3:c.2021A>G, NP_001258625.1:p.(Asp674Gly)"
   ]
  },
  {
   "cell_type": "code",
   "execution_count": 1,
   "id": "67e525de-4451-44eb-ad73-1945ccc41ab1",
   "metadata": {},
   "outputs": [
    {
     "name": "stdout",
     "output_type": "stream",
     "text": [
      "Using pyphetools version 0.9.56\n"
     ]
    }
   ],
   "source": [
    "import pandas as pd\n",
    "from IPython.display import display, HTML\n",
    "pd.set_option('display.max_colwidth', None) # show entire column contents, important!\n",
    "from collections import defaultdict\n",
    "from pyphetools.creation import *\n",
    "from pyphetools.visualization import *\n",
    "from pyphetools.validation import *\n",
    "import pyphetools\n",
    "print(f\"Using pyphetools version {pyphetools.__version__}\")"
   ]
  },
  {
   "cell_type": "code",
   "execution_count": 2,
   "id": "6ed46557-6864-42e4-9d4e-30dccf96a58d",
   "metadata": {},
   "outputs": [
    {
     "name": "stdout",
     "output_type": "stream",
     "text": [
      "HPO version 2024-02-27\n"
     ]
    }
   ],
   "source": [
    "parser = HpoParser(hpo_json_file=\"../hp.json\")\n",
    "hpo_cr = parser.get_hpo_concept_recognizer()\n",
    "hpo_version = parser.get_version()\n",
    "hpo_ontology = parser.get_ontology()\n",
    "created_by=\"ORCID:0000-0002-0736-9199\"\n",
    "print(f\"HPO version {hpo_version}\")"
   ]
  },
  {
   "cell_type": "code",
   "execution_count": 3,
   "id": "f2dacdbb-e922-4eed-a4ee-9bdd3a4668ca",
   "metadata": {},
   "outputs": [
    {
     "data": {
      "text/html": [
       "<div>\n",
       "<style scoped>\n",
       "    .dataframe tbody tr th:only-of-type {\n",
       "        vertical-align: middle;\n",
       "    }\n",
       "\n",
       "    .dataframe tbody tr th {\n",
       "        vertical-align: top;\n",
       "    }\n",
       "\n",
       "    .dataframe thead th {\n",
       "        text-align: right;\n",
       "    }\n",
       "</style>\n",
       "<table border=\"1\" class=\"dataframe\">\n",
       "  <thead>\n",
       "    <tr style=\"text-align: right;\">\n",
       "      <th></th>\n",
       "      <th>PMID</th>\n",
       "      <th>title</th>\n",
       "      <th>individual_id</th>\n",
       "      <th>comment</th>\n",
       "      <th>disease_id</th>\n",
       "      <th>disease_label</th>\n",
       "      <th>transcript</th>\n",
       "      <th>allele_1</th>\n",
       "      <th>allele_2</th>\n",
       "      <th>variant.comment</th>\n",
       "      <th>...</th>\n",
       "      <th>Dysphonia</th>\n",
       "      <th>Myoclonus</th>\n",
       "      <th>Depression</th>\n",
       "      <th>Seizure</th>\n",
       "      <th>Autism</th>\n",
       "      <th>Organic aciduria</th>\n",
       "      <th>Cryptorchidism</th>\n",
       "      <th>Interictal EEG abnormality</th>\n",
       "      <th>Basal ganglia gliosis</th>\n",
       "      <th>Abnormal basal ganglia MRI signal intensity</th>\n",
       "    </tr>\n",
       "  </thead>\n",
       "  <tbody>\n",
       "    <tr>\n",
       "      <th>0</th>\n",
       "      <td>str</td>\n",
       "      <td>str</td>\n",
       "      <td>str</td>\n",
       "      <td>optional</td>\n",
       "      <td>str</td>\n",
       "      <td>str</td>\n",
       "      <td>str</td>\n",
       "      <td>str</td>\n",
       "      <td>str</td>\n",
       "      <td>optional</td>\n",
       "      <td>...</td>\n",
       "      <td>HP:0001618</td>\n",
       "      <td>HP:0001336</td>\n",
       "      <td>HP:0000716</td>\n",
       "      <td>HP:0001250</td>\n",
       "      <td>HP:0000717</td>\n",
       "      <td>HP:0001992</td>\n",
       "      <td>HP:0000028</td>\n",
       "      <td>HP:0025373</td>\n",
       "      <td>HP:0006999</td>\n",
       "      <td>HP:0012751</td>\n",
       "    </tr>\n",
       "    <tr>\n",
       "      <th>1</th>\n",
       "      <td>PMID:4045952</td>\n",
       "      <td>Hereditary sideroblastic anaemia and ataxia: an X linked recessive disorder</td>\n",
       "      <td>III.1</td>\n",
       "      <td>NaN</td>\n",
       "      <td>OMIM:301310</td>\n",
       "      <td>Anemia, sideroblastic, and spinocerebellar ataxia</td>\n",
       "      <td>NM_001271696.3</td>\n",
       "      <td>c.1200T&gt;G</td>\n",
       "      <td>na</td>\n",
       "      <td>p.Ile400Met</td>\n",
       "      <td>...</td>\n",
       "      <td>na</td>\n",
       "      <td>na</td>\n",
       "      <td>na</td>\n",
       "      <td>na</td>\n",
       "      <td>na</td>\n",
       "      <td>na</td>\n",
       "      <td>na</td>\n",
       "      <td>na</td>\n",
       "      <td>na</td>\n",
       "      <td>na</td>\n",
       "    </tr>\n",
       "  </tbody>\n",
       "</table>\n",
       "<p>2 rows × 67 columns</p>\n",
       "</div>"
      ],
      "text/plain": [
       "           PMID  \\\n",
       "0           str   \n",
       "1  PMID:4045952   \n",
       "\n",
       "                                                                         title  \\\n",
       "0                                                                          str   \n",
       "1  Hereditary sideroblastic anaemia and ataxia: an X linked recessive disorder   \n",
       "\n",
       "  individual_id   comment   disease_id  \\\n",
       "0           str  optional          str   \n",
       "1         III.1       NaN  OMIM:301310   \n",
       "\n",
       "                                       disease_label      transcript  \\\n",
       "0                                                str             str   \n",
       "1  Anemia, sideroblastic, and spinocerebellar ataxia  NM_001271696.3   \n",
       "\n",
       "    allele_1 allele_2 variant.comment  ...   Dysphonia   Myoclonus  \\\n",
       "0        str      str        optional  ...  HP:0001618  HP:0001336   \n",
       "1  c.1200T>G       na     p.Ile400Met  ...          na          na   \n",
       "\n",
       "   Depression     Seizure      Autism Organic aciduria Cryptorchidism  \\\n",
       "0  HP:0000716  HP:0001250  HP:0000717       HP:0001992     HP:0000028   \n",
       "1          na          na          na               na             na   \n",
       "\n",
       "  Interictal EEG abnormality Basal ganglia gliosis  \\\n",
       "0                 HP:0025373            HP:0006999   \n",
       "1                         na                    na   \n",
       "\n",
       "  Abnormal basal ganglia MRI signal intensity  \n",
       "0                                  HP:0012751  \n",
       "1                                          na  \n",
       "\n",
       "[2 rows x 67 columns]"
      ]
     },
     "execution_count": 3,
     "metadata": {},
     "output_type": "execute_result"
    }
   ],
   "source": [
    "df = pd.read_excel(\"input/abcb7-individuals.xlsx\")\n",
    "df.head(2)"
   ]
  },
  {
   "cell_type": "code",
   "execution_count": 4,
   "id": "e6b9831b-ff1d-43df-b33f-17b646b045a1",
   "metadata": {},
   "outputs": [
    {
     "name": "stdout",
     "output_type": "stream",
     "text": [
      "Created encoders for 67 fields\n",
      "[WARNING] Could not parse nan as age.\n"
     ]
    }
   ],
   "source": [
    "encoder = CaseTemplateEncoder(df=df, hpo_cr=hpo_cr, created_by=created_by)"
   ]
  },
  {
   "cell_type": "code",
   "execution_count": 5,
   "id": "3a172e28-8aab-4572-b196-a52c34f4bc76",
   "metadata": {},
   "outputs": [],
   "source": [
    "individuals = encoder.get_individuals()"
   ]
  },
  {
   "cell_type": "code",
   "execution_count": 6,
   "id": "76e2066e-4bbd-4d1d-8816-19d839280cf4",
   "metadata": {},
   "outputs": [],
   "source": [
    "ABCB7_transcript = \"NM_001271696.3\"\n",
    "vmanager = VariantManager(df=df,\n",
    "                          individual_column_name=\"individual_id\",\n",
    "                          gene_symbol=\"ABCB7\",\n",
    "                          transcript=ABCB7_transcript,\n",
    "                          allele_1_column_name=\"allele_1\")"
   ]
  },
  {
   "cell_type": "code",
   "execution_count": 7,
   "id": "d177dce9-f7b9-4451-84cc-6909860f3f79",
   "metadata": {},
   "outputs": [
    {
     "data": {
      "text/html": [
       "<div>\n",
       "<style scoped>\n",
       "    .dataframe tbody tr th:only-of-type {\n",
       "        vertical-align: middle;\n",
       "    }\n",
       "\n",
       "    .dataframe tbody tr th {\n",
       "        vertical-align: top;\n",
       "    }\n",
       "\n",
       "    .dataframe thead th {\n",
       "        text-align: right;\n",
       "    }\n",
       "</style>\n",
       "<table border=\"1\" class=\"dataframe\">\n",
       "  <thead>\n",
       "    <tr style=\"text-align: right;\">\n",
       "      <th></th>\n",
       "      <th>status</th>\n",
       "      <th>count</th>\n",
       "      <th>alleles</th>\n",
       "    </tr>\n",
       "  </thead>\n",
       "  <tbody>\n",
       "    <tr>\n",
       "      <th>0</th>\n",
       "      <td>mapped</td>\n",
       "      <td>6</td>\n",
       "      <td>c.1297G&gt;A, c.624A&gt;T, c.2044G&gt;A, c.1231G&gt;C, c.2021A&gt;G, c.1200T&gt;G</td>\n",
       "    </tr>\n",
       "    <tr>\n",
       "      <th>1</th>\n",
       "      <td>unmapped</td>\n",
       "      <td>0</td>\n",
       "      <td></td>\n",
       "    </tr>\n",
       "  </tbody>\n",
       "</table>\n",
       "</div>"
      ],
      "text/plain": [
       "     status  count  \\\n",
       "0    mapped      6   \n",
       "1  unmapped      0   \n",
       "\n",
       "                                                           alleles  \n",
       "0  c.1297G>A, c.624A>T, c.2044G>A, c.1231G>C, c.2021A>G, c.1200T>G  \n",
       "1                                                                   "
      ]
     },
     "execution_count": 7,
     "metadata": {},
     "output_type": "execute_result"
    }
   ],
   "source": [
    "vmanager.to_summary()"
   ]
  },
  {
   "cell_type": "code",
   "execution_count": 8,
   "id": "aef4f40c-05b5-433c-876d-16ebf22b941b",
   "metadata": {},
   "outputs": [
    {
     "data": {
      "text/html": [
       "<h2>Cohort validation</h2>\n",
       "<p>Errors found with 17 of 18 phenopackets.</p>\n",
       "<table style=\"border: 2px solid black; align: \"left\">\n",
       "<caption>Error counts</caption>\n",
       "<tr><th style=\"text-align: left;font-weight: bold;\">Level</th><th style=\"text-align: left;font-weight: bold;\">Error category</th><th style=\"text-align: left;font-weight: bold;\">Count</th></tr>\n",
       "<tr><td style=\"text-align: left;\">WARNING</td><td style=\"text-align: left;\">REDUNDANT</td><td style=\"text-align: left;\">48</td></tr>\n",
       "</table>\n",
       "<p>A total of 48 issues were fixed and no individual was removed from the cohort.</p>"
      ],
      "text/plain": [
       "<IPython.core.display.HTML object>"
      ]
     },
     "metadata": {},
     "output_type": "display_data"
    }
   ],
   "source": [
    "vmanager.add_variants_to_individuals(individuals)\n",
    "cvalidator = CohortValidator(cohort=individuals, ontology=hpo_ontology, min_hpo=1, allelic_requirement=AllelicRequirement.MONO_ALLELIC)\n",
    "qc = QcVisualizer(cohort_validator=cvalidator)\n",
    "display(HTML(qc.to_summary_html()))"
   ]
  },
  {
   "cell_type": "code",
   "execution_count": 9,
   "id": "4b36bfd3-feb0-4ab8-a424-7bc424bb30d0",
   "metadata": {},
   "outputs": [
    {
     "data": {
      "text/html": [
       "<table style=\"border: 2px solid black; align: \"left\">\n",
       "<caption>18 phenopackets - PMID:4045952 (n=4); PMID:11050011 (n=2); PMID:11118249 (n=4); PMID:22398176 (n=1); PMID:26242992 (n=6); PMID:34354969 (n=1)</caption>\n",
       "<tr><th style=\"text-align: left;font-weight: bold;\">Individual</th><th style=\"text-align: left;font-weight: bold;\">Disease</th><th style=\"text-align: left;font-weight: bold;\">Genotype</th><th style=\"text-align: left;font-weight: bold;\">Phenotypic features</th></tr>\n",
       "<tr><td style=\"text-align: left;\">III.1 (MALE; )</td><td style=\"text-align: left;\">Anemia, sideroblastic, and spinocerebellar ataxia (OMIM:301310)</td><td style=\"text-align: left;\">NM_001271696.3:c.1200T>G (heterozygous)</td><td style=\"text-align: left;\">Global developmental delay (HP:0001263); Nonprogressive cerebellar ataxia (HP:0002470); Dysmetria (HP:0001310); Hypochromic microcytic anemia (HP:0004840); Sideroblastic anemia (HP:0001924); Poikilocytosis (HP:0004447); Bone marrow hypercellularity (HP:0031020); Hyperreflexia (HP:0001347); Increased erythrocyte protoporphyrin concentration (HP:0012187); Intrauterine growth retardation (HP:0001511); Strabismus (HP:0000486); Erythroid hyperplasia (HP:0012132); Dysarthria (HP:0001260); Dysdiadochokinesis (HP:0002075); Positive Romberg sign (HP:0002403); Gait disturbance (HP:0001288)</td></tr>\n",
       "<tr><td style=\"text-align: left;\">IV.5 (MALE; )</td><td style=\"text-align: left;\">Anemia, sideroblastic, and spinocerebellar ataxia (OMIM:301310)</td><td style=\"text-align: left;\">NM_001271696.3:c.1200T>G (heterozygous)</td><td style=\"text-align: left;\">Global developmental delay (HP:0001263); Nonprogressive cerebellar ataxia (HP:0002470); Dysmetria (HP:0001310); Intention tremor (HP:0002080); Hypochromic microcytic anemia (HP:0004840); Sideroblastic anemia (HP:0001924); Anisocytosis (HP:0011273); Poikilocytosis (HP:0004447); Bone marrow hypercellularity (HP:0031020); Clonus (HP:0002169); Babinski sign (HP:0003487); Increased erythrocyte protoporphyrin concentration (HP:0012187); Gait disturbance (HP:0001288)</td></tr>\n",
       "<tr><td style=\"text-align: left;\">IV.12 (MALE; )</td><td style=\"text-align: left;\">Anemia, sideroblastic, and spinocerebellar ataxia (OMIM:301310)</td><td style=\"text-align: left;\">NM_001271696.3:c.1200T>G (heterozygous)</td><td style=\"text-align: left;\">Global developmental delay (HP:0001263); Nonprogressive cerebellar ataxia (HP:0002470); Anemia (HP:0001903); Clonus (HP:0002169); Babinski sign (HP:0003487); Increased erythrocyte protoporphyrin concentration (HP:0012187); Strabismus (HP:0000486); Dysarthria (HP:0001260)</td></tr>\n",
       "<tr><td style=\"text-align: left;\">IV.13 (MALE; )</td><td style=\"text-align: left;\">Anemia, sideroblastic, and spinocerebellar ataxia (OMIM:301310)</td><td style=\"text-align: left;\">NM_001271696.3:c.1200T>G (heterozygous)</td><td style=\"text-align: left;\">Global developmental delay (HP:0001263); Nonprogressive cerebellar ataxia (HP:0002470); Dysmetria (HP:0001310); Anemia (HP:0001903); Hyperreflexia (HP:0001347); Babinski sign (HP:0003487); Dysarthria (HP:0001260); Language impairment (HP:0002463)</td></tr>\n",
       "<tr><td style=\"text-align: left;\">II-1 (MALE; )</td><td style=\"text-align: left;\">Anemia, sideroblastic, and spinocerebellar ataxia (OMIM:301310)</td><td style=\"text-align: left;\">NM_001271696.3:c.1297G>A (heterozygous)</td><td style=\"text-align: left;\">Global developmental delay (HP:0001263); Nonprogressive cerebellar ataxia (HP:0002470); Hypochromic microcytic anemia (HP:0004840); Sideroblastic anemia (HP:0001924); Increased erythrocyte protoporphyrin concentration (HP:0012187); Intrauterine growth retardation (HP:0001511); Dysarthria (HP:0001260); Language impairment (HP:0002463); Dysdiadochokinesis (HP:0002075); Cognitive impairment (HP:0100543); Pallor (HP:0000980); Weight loss (HP:0001824); Cerebellar hypoplasia (HP:0001321); Short stature (HP:0004322); Nystagmus (HP:0000639); Reduced tendon reflexes (HP:0001315)</td></tr>\n",
       "<tr><td style=\"text-align: left;\">II-2 (MALE; )</td><td style=\"text-align: left;\">Anemia, sideroblastic, and spinocerebellar ataxia (OMIM:301310)</td><td style=\"text-align: left;\">NM_001271696.3:c.1297G>A (heterozygous)</td><td style=\"text-align: left;\">Hypochromic microcytic anemia (HP:0004840); Increased erythrocyte protoporphyrin concentration (HP:0012187); Dysarthria (HP:0001260); Dysdiadochokinesis (HP:0002075); Short stature (HP:0004322); Nystagmus (HP:0000639); Reduced tendon reflexes (HP:0001315)</td></tr>\n",
       "<tr><td style=\"text-align: left;\">PATIENT III.2 (MALE; )</td><td style=\"text-align: left;\">Anemia, sideroblastic, and spinocerebellar ataxia (OMIM:301310)</td><td style=\"text-align: left;\">NM_001271696.3:c.1231G>C (heterozygous)</td><td style=\"text-align: left;\">Global developmental delay (HP:0001263); Ataxia (HP:0001251); Anemia (HP:0001903); Anisocytosis (HP:0011273); Increased erythrocyte protoporphyrin concentration (HP:0012187); Dysarthria (HP:0001260); Gait disturbance (HP:0001288); Nystagmus (HP:0000639); Schizophrenia (HP:0100753); Abducens palsy (HP:0006897); Pappenheimer bodies (HP:0020081); Cerebellar atrophy (HP:0001272); Abnormal brainstem morphology (HP:0002363); Target cells (HP:0034280); Howell-Jolly bodies (HP:0032550)</td></tr>\n",
       "<tr><td style=\"text-align: left;\">PATIENT III.3 (MALE; )</td><td style=\"text-align: left;\">Anemia, sideroblastic, and spinocerebellar ataxia (OMIM:301310)</td><td style=\"text-align: left;\">NM_001271696.3:c.1231G>C (heterozygous)</td><td style=\"text-align: left;\">Global developmental delay (HP:0001263); Ataxia (HP:0001251); Increased erythrocyte protoporphyrin concentration (HP:0012187); Gait disturbance (HP:0001288); Pappenheimer bodies (HP:0020081); Cerebellar atrophy (HP:0001272); Abnormal brainstem morphology (HP:0002363)</td></tr>\n",
       "<tr><td style=\"text-align: left;\">PATIENT II.1 (MALE; )</td><td style=\"text-align: left;\">Anemia, sideroblastic, and spinocerebellar ataxia (OMIM:301310)</td><td style=\"text-align: left;\">NM_001271696.3:c.1231G>C (heterozygous)</td><td style=\"text-align: left;\">Anemia (HP:0001903); Abnormality of movement (HP:0100022); Dementia (HP:0000726)</td></tr>\n",
       "<tr><td style=\"text-align: left;\">PATIENT II.2 (MALE; )</td><td style=\"text-align: left;\">Anemia, sideroblastic, and spinocerebellar ataxia (OMIM:301310)</td><td style=\"text-align: left;\">NM_001271696.3:c.1231G>C (heterozygous)</td><td style=\"text-align: left;\">Global developmental delay (HP:0001263); Hyperreflexia (HP:0001347); Dysarthria (HP:0001260); Dysdiadochokinesis (HP:0002075); Gait disturbance (HP:0001288); Nystagmus (HP:0000639); Postural instability (HP:0002172)</td></tr>\n",
       "<tr><td style=\"text-align: left;\">proband (MALE; )</td><td style=\"text-align: left;\">Anemia, sideroblastic, and spinocerebellar ataxia (OMIM:301310)</td><td style=\"text-align: left;\">NM_001271696.3:c.624A>T (heterozygous)</td><td style=\"text-align: left;\">Anisocytosis (HP:0011273); Poikilocytosis (HP:0004447); Increased erythrocyte protoporphyrin concentration (HP:0012187); Strabismus (HP:0000486); Dysarthria (HP:0001260); Gait disturbance (HP:0001288); Postural instability (HP:0002172); Pappenheimer bodies (HP:0020081)</td></tr>\n",
       "<tr><td style=\"text-align: left;\">III-6 (MALE; )</td><td style=\"text-align: left;\">Anemia, sideroblastic, and spinocerebellar ataxia (OMIM:301310)</td><td style=\"text-align: left;\">NM_001271696.3:c.2044G>A (heterozygous)</td><td style=\"text-align: left;\">Global developmental delay (HP:0001263); Nonprogressive cerebellar ataxia (HP:0002470); Dysarthria (HP:0001260); Cerebellar hypoplasia (HP:0001321); Postural instability (HP:0002172); Ophthalmoplegia (HP:0000602)</td></tr>\n",
       "<tr><td style=\"text-align: left;\">III-17 (MALE; )</td><td style=\"text-align: left;\">Anemia, sideroblastic, and spinocerebellar ataxia (OMIM:301310)</td><td style=\"text-align: left;\">NM_001271696.3:c.2044G>A (heterozygous)</td><td style=\"text-align: left;\">Global developmental delay (HP:0001263); Nonprogressive cerebellar ataxia (HP:0002470); Dysarthria (HP:0001260); Cerebellar hypoplasia (HP:0001321); Nystagmus (HP:0000639); Postural instability (HP:0002172); Ophthalmoplegia (HP:0000602)</td></tr>\n",
       "<tr><td style=\"text-align: left;\">III-18 (MALE; )</td><td style=\"text-align: left;\">Anemia, sideroblastic, and spinocerebellar ataxia (OMIM:301310)</td><td style=\"text-align: left;\">NM_001271696.3:c.2044G>A (heterozygous)</td><td style=\"text-align: left;\">Global developmental delay (HP:0001263); Nonprogressive cerebellar ataxia (HP:0002470); Dysarthria (HP:0001260); Cerebellar hypoplasia (HP:0001321); Nystagmus (HP:0000639); Postural instability (HP:0002172); Ophthalmoplegia (HP:0000602); Dysphonia (HP:0001618)</td></tr>\n",
       "<tr><td style=\"text-align: left;\">III-30 (MALE; )</td><td style=\"text-align: left;\">Anemia, sideroblastic, and spinocerebellar ataxia (OMIM:301310)</td><td style=\"text-align: left;\">NM_001271696.3:c.2044G>A (heterozygous)</td><td style=\"text-align: left;\">Global developmental delay (HP:0001263); Nonprogressive cerebellar ataxia (HP:0002470); Dysarthria (HP:0001260); Cerebellar hypoplasia (HP:0001321); Postural instability (HP:0002172); Ophthalmoplegia (HP:0000602); Hypotonia (HP:0001252); Dysphonia (HP:0001618); Myoclonus (HP:0001336); Depression (HP:0000716)</td></tr>\n",
       "<tr><td style=\"text-align: left;\">IV-26 (MALE; )</td><td style=\"text-align: left;\">Anemia, sideroblastic, and spinocerebellar ataxia (OMIM:301310)</td><td style=\"text-align: left;\">NM_001271696.3:c.2044G>A (heterozygous)</td><td style=\"text-align: left;\">Global developmental delay (HP:0001263); Nonprogressive cerebellar ataxia (HP:0002470); Dysarthria (HP:0001260); Cerebellar hypoplasia (HP:0001321); Nystagmus (HP:0000639); Postural instability (HP:0002172); Ophthalmoplegia (HP:0000602)</td></tr>\n",
       "<tr><td style=\"text-align: left;\">IV-40 (MALE; )</td><td style=\"text-align: left;\">Anemia, sideroblastic, and spinocerebellar ataxia (OMIM:301310)</td><td style=\"text-align: left;\">NM_001271696.3:c.2044G>A (heterozygous)</td><td style=\"text-align: left;\">Global developmental delay (HP:0001263); Nonprogressive cerebellar ataxia (HP:0002470); Dysarthria (HP:0001260); Cerebellar hypoplasia (HP:0001321); Nystagmus (HP:0000639); Postural instability (HP:0002172); Hypotonia (HP:0001252)</td></tr>\n",
       "<tr><td style=\"text-align: left;\">P18 (MALE; )</td><td style=\"text-align: left;\">Anemia, sideroblastic, and spinocerebellar ataxia (OMIM:301310)</td><td style=\"text-align: left;\">NM_001271696.3:c.2021A>G (heterozygous)</td><td style=\"text-align: left;\">Global developmental delay (HP:0001263); Ataxia (HP:0001251); Anemia (HP:0001903); Intrauterine growth retardation (HP:0001511); Dysarthria (HP:0001260); Language impairment (HP:0002463); Gait disturbance (HP:0001288); Weight loss (HP:0001824); Short stature (HP:0004322); Nystagmus (HP:0000639); Reduced tendon reflexes (HP:0001315); Postural instability (HP:0002172); Hypotonia (HP:0001252); Seizure (HP:0001250); Autism (HP:0000717); Organic aciduria (HP:0001992); Cryptorchidism (HP:0000028); Interictal EEG abnormality (HP:0025373); Basal ganglia gliosis (HP:0006999); Abnormal basal ganglia MRI signal intensity (HP:0012751)</td></tr>\n",
       "</table>"
      ],
      "text/plain": [
       "<IPython.core.display.HTML object>"
      ]
     },
     "metadata": {},
     "output_type": "display_data"
    }
   ],
   "source": [
    "individuals = cvalidator.get_error_free_individual_list()\n",
    "table = IndividualTable(individuals)\n",
    "display(HTML(table.to_html()))"
   ]
  },
  {
   "cell_type": "code",
   "execution_count": 10,
   "id": "323f927c-3051-4bd2-b927-5d858394107a",
   "metadata": {},
   "outputs": [
    {
     "name": "stdout",
     "output_type": "stream",
     "text": [
      "We output 18 GA4GH phenopackets to the directory phenopackets\n"
     ]
    }
   ],
   "source": [
    "encoder.output_individuals_as_phenopackets(individuals)"
   ]
  },
  {
   "cell_type": "code",
   "execution_count": 11,
   "id": "f902a178-de3b-4737-bbde-7121a21b9cb4",
   "metadata": {},
   "outputs": [
    {
     "name": "stdout",
     "output_type": "stream",
     "text": [
      "[pyphetools] Ingested 18 GA4GH phenopackets.\n"
     ]
    }
   ],
   "source": [
    "ingestor = PhenopacketIngestor(indir=\"phenopackets\")\n",
    "ppkt_d = ingestor.get_phenopacket_dictionary()\n",
    "ppkt_list = list(ppkt_d.values())"
   ]
  },
  {
   "cell_type": "code",
   "execution_count": 12,
   "id": "3173efc5-6fe3-44e4-9f56-e0304e1fd44c",
   "metadata": {},
   "outputs": [
    {
     "name": "stdout",
     "output_type": "stream",
     "text": [
      "We found a total of 52 unique HPO terms\n",
      "Extracted disease: Anemia, sideroblastic, and spinocerebellar ataxia (OMIM:301310)\n"
     ]
    }
   ],
   "source": [
    "builder = HpoaTableBuilder(phenopacket_list=ppkt_list)\n",
    "PMID = \"PMID:10196363\" # Allikmets R, et al. Hum Mol Genet. 1999 PMID:10196363.\n",
    "hpo_table_creator = builder.x_linked_recessive(PMID).build()"
   ]
  },
  {
   "cell_type": "code",
   "execution_count": 14,
   "id": "f0fc780a-4c00-46c4-a3ab-821725e8181a",
   "metadata": {},
   "outputs": [
    {
     "data": {
      "text/html": [
       "<div>\n",
       "<style scoped>\n",
       "    .dataframe tbody tr th:only-of-type {\n",
       "        vertical-align: middle;\n",
       "    }\n",
       "\n",
       "    .dataframe tbody tr th {\n",
       "        vertical-align: top;\n",
       "    }\n",
       "\n",
       "    .dataframe thead th {\n",
       "        text-align: right;\n",
       "    }\n",
       "</style>\n",
       "<table border=\"1\" class=\"dataframe\">\n",
       "  <thead>\n",
       "    <tr style=\"text-align: right;\">\n",
       "      <th></th>\n",
       "      <th>#diseaseID</th>\n",
       "      <th>diseaseName</th>\n",
       "      <th>phenotypeID</th>\n",
       "      <th>phenotypeName</th>\n",
       "      <th>onsetID</th>\n",
       "      <th>onsetName</th>\n",
       "      <th>frequency</th>\n",
       "      <th>sex</th>\n",
       "      <th>negation</th>\n",
       "      <th>modifier</th>\n",
       "      <th>description</th>\n",
       "      <th>publication</th>\n",
       "      <th>evidence</th>\n",
       "      <th>biocuration</th>\n",
       "    </tr>\n",
       "  </thead>\n",
       "  <tbody>\n",
       "    <tr>\n",
       "      <th>0</th>\n",
       "      <td>OMIM:301310</td>\n",
       "      <td>Anemia, sideroblastic, and spinocerebellar ataxia</td>\n",
       "      <td>HP:0001263</td>\n",
       "      <td>Global developmental delay</td>\n",
       "      <td></td>\n",
       "      <td></td>\n",
       "      <td>6/6</td>\n",
       "      <td></td>\n",
       "      <td></td>\n",
       "      <td></td>\n",
       "      <td></td>\n",
       "      <td>PMID:26242992</td>\n",
       "      <td>PCS</td>\n",
       "      <td>ORCID:0000-0002-0736-9199</td>\n",
       "    </tr>\n",
       "    <tr>\n",
       "      <th>1</th>\n",
       "      <td>OMIM:301310</td>\n",
       "      <td>Anemia, sideroblastic, and spinocerebellar ataxia</td>\n",
       "      <td>HP:0002470</td>\n",
       "      <td>Nonprogressive cerebellar ataxia</td>\n",
       "      <td></td>\n",
       "      <td></td>\n",
       "      <td>6/6</td>\n",
       "      <td></td>\n",
       "      <td></td>\n",
       "      <td></td>\n",
       "      <td></td>\n",
       "      <td>PMID:26242992</td>\n",
       "      <td>PCS</td>\n",
       "      <td>ORCID:0000-0002-0736-9199</td>\n",
       "    </tr>\n",
       "    <tr>\n",
       "      <th>2</th>\n",
       "      <td>OMIM:301310</td>\n",
       "      <td>Anemia, sideroblastic, and spinocerebellar ataxia</td>\n",
       "      <td>HP:0001260</td>\n",
       "      <td>Dysarthria</td>\n",
       "      <td></td>\n",
       "      <td></td>\n",
       "      <td>6/6</td>\n",
       "      <td></td>\n",
       "      <td></td>\n",
       "      <td></td>\n",
       "      <td></td>\n",
       "      <td>PMID:26242992</td>\n",
       "      <td>PCS</td>\n",
       "      <td>ORCID:0000-0002-0736-9199</td>\n",
       "    </tr>\n",
       "    <tr>\n",
       "      <th>3</th>\n",
       "      <td>OMIM:301310</td>\n",
       "      <td>Anemia, sideroblastic, and spinocerebellar ataxia</td>\n",
       "      <td>HP:0001321</td>\n",
       "      <td>Cerebellar hypoplasia</td>\n",
       "      <td></td>\n",
       "      <td></td>\n",
       "      <td>6/6</td>\n",
       "      <td></td>\n",
       "      <td></td>\n",
       "      <td></td>\n",
       "      <td></td>\n",
       "      <td>PMID:26242992</td>\n",
       "      <td>PCS</td>\n",
       "      <td>ORCID:0000-0002-0736-9199</td>\n",
       "    </tr>\n",
       "    <tr>\n",
       "      <th>4</th>\n",
       "      <td>OMIM:301310</td>\n",
       "      <td>Anemia, sideroblastic, and spinocerebellar ataxia</td>\n",
       "      <td>HP:0002172</td>\n",
       "      <td>Postural instability</td>\n",
       "      <td></td>\n",
       "      <td></td>\n",
       "      <td>6/6</td>\n",
       "      <td></td>\n",
       "      <td></td>\n",
       "      <td></td>\n",
       "      <td></td>\n",
       "      <td>PMID:26242992</td>\n",
       "      <td>PCS</td>\n",
       "      <td>ORCID:0000-0002-0736-9199</td>\n",
       "    </tr>\n",
       "    <tr>\n",
       "      <th>...</th>\n",
       "      <td>...</td>\n",
       "      <td>...</td>\n",
       "      <td>...</td>\n",
       "      <td>...</td>\n",
       "      <td>...</td>\n",
       "      <td>...</td>\n",
       "      <td>...</td>\n",
       "      <td>...</td>\n",
       "      <td>...</td>\n",
       "      <td>...</td>\n",
       "      <td>...</td>\n",
       "      <td>...</td>\n",
       "      <td>...</td>\n",
       "      <td>...</td>\n",
       "    </tr>\n",
       "    <tr>\n",
       "      <th>99</th>\n",
       "      <td>OMIM:301310</td>\n",
       "      <td>Anemia, sideroblastic, and spinocerebellar ataxia</td>\n",
       "      <td>HP:0011463</td>\n",
       "      <td>Childhood onset</td>\n",
       "      <td></td>\n",
       "      <td></td>\n",
       "      <td>1/4</td>\n",
       "      <td></td>\n",
       "      <td></td>\n",
       "      <td></td>\n",
       "      <td></td>\n",
       "      <td>PMID:4045952</td>\n",
       "      <td>PCS</td>\n",
       "      <td>ORCID:0000-0002-0736-9199</td>\n",
       "    </tr>\n",
       "    <tr>\n",
       "      <th>100</th>\n",
       "      <td>OMIM:301310</td>\n",
       "      <td>Anemia, sideroblastic, and spinocerebellar ataxia</td>\n",
       "      <td>HP:0003577</td>\n",
       "      <td>Congenital onset</td>\n",
       "      <td></td>\n",
       "      <td></td>\n",
       "      <td>2/2</td>\n",
       "      <td></td>\n",
       "      <td></td>\n",
       "      <td></td>\n",
       "      <td></td>\n",
       "      <td>PMID:11050011</td>\n",
       "      <td>PCS</td>\n",
       "      <td>ORCID:0000-0002-0736-9199</td>\n",
       "    </tr>\n",
       "    <tr>\n",
       "      <th>101</th>\n",
       "      <td>OMIM:301310</td>\n",
       "      <td>Anemia, sideroblastic, and spinocerebellar ataxia</td>\n",
       "      <td>HP:0011463</td>\n",
       "      <td>Childhood onset</td>\n",
       "      <td></td>\n",
       "      <td></td>\n",
       "      <td>1/1</td>\n",
       "      <td></td>\n",
       "      <td></td>\n",
       "      <td></td>\n",
       "      <td></td>\n",
       "      <td>PMID:22398176</td>\n",
       "      <td>PCS</td>\n",
       "      <td>ORCID:0000-0002-0736-9199</td>\n",
       "    </tr>\n",
       "    <tr>\n",
       "      <th>102</th>\n",
       "      <td>OMIM:301310</td>\n",
       "      <td>Anemia, sideroblastic, and spinocerebellar ataxia</td>\n",
       "      <td>HP:0011463</td>\n",
       "      <td>Childhood onset</td>\n",
       "      <td></td>\n",
       "      <td></td>\n",
       "      <td>1/1</td>\n",
       "      <td></td>\n",
       "      <td></td>\n",
       "      <td></td>\n",
       "      <td></td>\n",
       "      <td>PMID:34354969</td>\n",
       "      <td>PCS</td>\n",
       "      <td>ORCID:0000-0002-0736-9199</td>\n",
       "    </tr>\n",
       "    <tr>\n",
       "      <th>103</th>\n",
       "      <td>OMIM:301310</td>\n",
       "      <td>Anemia, sideroblastic, and spinocerebellar ataxia</td>\n",
       "      <td>HP:0001419</td>\n",
       "      <td>X-linked recessive inheritance</td>\n",
       "      <td></td>\n",
       "      <td></td>\n",
       "      <td></td>\n",
       "      <td></td>\n",
       "      <td></td>\n",
       "      <td></td>\n",
       "      <td></td>\n",
       "      <td>PMID:10196363</td>\n",
       "      <td>PCS</td>\n",
       "      <td>None</td>\n",
       "    </tr>\n",
       "  </tbody>\n",
       "</table>\n",
       "<p>104 rows × 14 columns</p>\n",
       "</div>"
      ],
      "text/plain": [
       "      #diseaseID                                        diseaseName  \\\n",
       "0    OMIM:301310  Anemia, sideroblastic, and spinocerebellar ataxia   \n",
       "1    OMIM:301310  Anemia, sideroblastic, and spinocerebellar ataxia   \n",
       "2    OMIM:301310  Anemia, sideroblastic, and spinocerebellar ataxia   \n",
       "3    OMIM:301310  Anemia, sideroblastic, and spinocerebellar ataxia   \n",
       "4    OMIM:301310  Anemia, sideroblastic, and spinocerebellar ataxia   \n",
       "..           ...                                                ...   \n",
       "99   OMIM:301310  Anemia, sideroblastic, and spinocerebellar ataxia   \n",
       "100  OMIM:301310  Anemia, sideroblastic, and spinocerebellar ataxia   \n",
       "101  OMIM:301310  Anemia, sideroblastic, and spinocerebellar ataxia   \n",
       "102  OMIM:301310  Anemia, sideroblastic, and spinocerebellar ataxia   \n",
       "103  OMIM:301310  Anemia, sideroblastic, and spinocerebellar ataxia   \n",
       "\n",
       "    phenotypeID                     phenotypeName onsetID onsetName frequency  \\\n",
       "0    HP:0001263        Global developmental delay                         6/6   \n",
       "1    HP:0002470  Nonprogressive cerebellar ataxia                         6/6   \n",
       "2    HP:0001260                        Dysarthria                         6/6   \n",
       "3    HP:0001321             Cerebellar hypoplasia                         6/6   \n",
       "4    HP:0002172              Postural instability                         6/6   \n",
       "..          ...                               ...     ...       ...       ...   \n",
       "99   HP:0011463                   Childhood onset                         1/4   \n",
       "100  HP:0003577                  Congenital onset                         2/2   \n",
       "101  HP:0011463                   Childhood onset                         1/1   \n",
       "102  HP:0011463                   Childhood onset                         1/1   \n",
       "103  HP:0001419    X-linked recessive inheritance                               \n",
       "\n",
       "    sex negation modifier description    publication evidence  \\\n",
       "0                                      PMID:26242992      PCS   \n",
       "1                                      PMID:26242992      PCS   \n",
       "2                                      PMID:26242992      PCS   \n",
       "3                                      PMID:26242992      PCS   \n",
       "4                                      PMID:26242992      PCS   \n",
       "..   ..      ...      ...         ...            ...      ...   \n",
       "99                                      PMID:4045952      PCS   \n",
       "100                                    PMID:11050011      PCS   \n",
       "101                                    PMID:22398176      PCS   \n",
       "102                                    PMID:34354969      PCS   \n",
       "103                                    PMID:10196363      PCS   \n",
       "\n",
       "                   biocuration  \n",
       "0    ORCID:0000-0002-0736-9199  \n",
       "1    ORCID:0000-0002-0736-9199  \n",
       "2    ORCID:0000-0002-0736-9199  \n",
       "3    ORCID:0000-0002-0736-9199  \n",
       "4    ORCID:0000-0002-0736-9199  \n",
       "..                         ...  \n",
       "99   ORCID:0000-0002-0736-9199  \n",
       "100  ORCID:0000-0002-0736-9199  \n",
       "101  ORCID:0000-0002-0736-9199  \n",
       "102  ORCID:0000-0002-0736-9199  \n",
       "103                       None  \n",
       "\n",
       "[104 rows x 14 columns]"
      ]
     },
     "execution_count": 14,
     "metadata": {},
     "output_type": "execute_result"
    }
   ],
   "source": [
    "df = hpo_table_creator.get_dataframe()\n",
    "df.head(104)"
   ]
  },
  {
   "cell_type": "code",
   "execution_count": 15,
   "id": "4970d148-2d40-43db-a6ca-57162675533a",
   "metadata": {},
   "outputs": [
    {
     "name": "stdout",
     "output_type": "stream",
     "text": [
      "Wrote HPOA disease file to OMIM-301310.tab\n"
     ]
    }
   ],
   "source": [
    "hpo_table_creator.write_data_frame()"
   ]
  },
  {
   "cell_type": "code",
   "execution_count": null,
   "id": "c60c4cf8-64a7-4416-b0fd-15e0ebb0a1c2",
   "metadata": {},
   "outputs": [],
   "source": []
  }
 ],
 "metadata": {
  "kernelspec": {
   "display_name": "Python 3 (ipykernel)",
   "language": "python",
   "name": "python3"
  },
  "language_info": {
   "codemirror_mode": {
    "name": "ipython",
    "version": 3
   },
   "file_extension": ".py",
   "mimetype": "text/x-python",
   "name": "python",
   "nbconvert_exporter": "python",
   "pygments_lexer": "ipython3",
   "version": "3.8.10"
  }
 },
 "nbformat": 4,
 "nbformat_minor": 5
}
