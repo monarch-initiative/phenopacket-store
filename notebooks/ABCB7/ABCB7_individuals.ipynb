{
 "cells": [
  {
   "cell_type": "markdown",
   "id": "6c58e834-7da6-449b-97c9-869c739f6eb1",
   "metadata": {},
   "source": [
    "# Anemia, sideroblastic, with ataxia \t\n",
    "Pathogenic variants in ABCB7 are associated with [Anemia, sideroblastic, with ataxia](https://omim.org/entry/301310).\n",
    "\n",
    "This file presents clinical and genetic data of affected individuals from several publication.\n",
    "\n",
    "- Clinical data from [Pagon RA, et al (1985)](https://pubmed.ncbi.nlm.nih.gov/4045952/) are combined with molecular data from [Allikmets R, et al (1999)](https://pubmed.ncbi.nlm.nih.gov/10196363/) in the input file under PMID:4045952.\n",
    "- [D'Hooghe M, et al (2012)](https://pubmed.ncbi.nlm.nih.gov/22398176/) reported an ABCB7 variant using transcript NM_004299.6:c.627A>T, corresponding to NP_004290.2:p.(Glu209Asp). We have mapped this to the MANE transcript: NM_001271696.3:c.624A>T, NP_001258625.1:p.(Glu208Asp)\n",
    "- [Xiong S, et al (2021)](https://pubmed.ncbi.nlm.nih.gov/34354969/) reported an ABCB7 variant using transcript NM_004299.6:c.2024A>G, NP_004290.2:p.(Asp675Gly). We mapped this to NM_001271696.3:c.2021A>G, NP_001258625.1:p.(Asp674Gly)"
   ]
  },
  {
   "cell_type": "code",
   "execution_count": 1,
   "id": "67e525de-4451-44eb-ad73-1945ccc41ab1",
   "metadata": {},
   "outputs": [
    {
     "name": "stdout",
     "output_type": "stream",
     "text": [
      "pyphetools version 0.9.61\n"
     ]
    }
   ],
   "source": [
    "from pyphetools.creation import TemplateImporter\n",
    "import pyphetools\n",
    "print(f\"pyphetools version {pyphetools.__version__}\")"
   ]
  },
  {
   "cell_type": "code",
   "execution_count": 2,
   "id": "6ed46557-6864-42e4-9d4e-30dccf96a58d",
   "metadata": {},
   "outputs": [],
   "source": [
    "template = \"input/abcb7-individuals.xlsx\"\n",
    "hp_json = \"../hp.json\"\n",
    "created_by=\"0000-0002-0736-9199\""
   ]
  },
  {
   "cell_type": "code",
   "execution_count": 3,
   "id": "3942659f-819b-4add-afe7-f34505942310",
   "metadata": {},
   "outputs": [],
   "source": [
    "timporter = TemplateImporter(hp_json=hp_json, template=template, created_by=created_by)"
   ]
  },
  {
   "cell_type": "code",
   "execution_count": 4,
   "id": "b48d71c5-a68f-415e-9b7a-0c1003b92c9e",
   "metadata": {},
   "outputs": [
    {
     "name": "stdout",
     "output_type": "stream",
     "text": [
      "HPO version 2024-02-27\n",
      "Created encoders for 69 fields\n",
      " we got OMIM:301310  NM_001271696.3\n",
      "We output 18 GA4GH phenopackets to the directory phenopackets\n"
     ]
    }
   ],
   "source": [
    "timporter.import_phenopackets_from_template();"
   ]
  },
  {
   "cell_type": "code",
   "execution_count": 5,
   "id": "f2dacdbb-e922-4eed-a4ee-9bdd3a4668ca",
   "metadata": {},
   "outputs": [
    {
     "name": "stdout",
     "output_type": "stream",
     "text": [
      "[pyphetools] Ingested 18 GA4GH phenopackets.\n",
      "\tAnemia, sideroblastic, and spinocerebellar ataxia (OMIM:301310): n=18\n",
      "We found a total of 52 unique HPO terms\n",
      "Extracted disease: Anemia, sideroblastic, and spinocerebellar ataxia (OMIM:301310)\n",
      "Wrote HPOA disease file to OMIM-301310.tab\n"
     ]
    }
   ],
   "source": [
    "PMID = \"PMID:4045952\"\n",
    "moi = \"X-linked recessive inheritance\"\n",
    "df = timporter.create_hpoa_from_phenopackets(pmid=PMID, moi=moi)"
   ]
  },
  {
   "cell_type": "code",
   "execution_count": null,
   "id": "c60c4cf8-64a7-4416-b0fd-15e0ebb0a1c2",
   "metadata": {},
   "outputs": [],
   "source": []
  }
 ],
 "metadata": {
  "kernelspec": {
   "display_name": "Python 3 (ipykernel)",
   "language": "python",
   "name": "python3"
  },
  "language_info": {
   "codemirror_mode": {
    "name": "ipython",
    "version": 3
   },
   "file_extension": ".py",
   "mimetype": "text/x-python",
   "name": "python",
   "nbconvert_exporter": "python",
   "pygments_lexer": "ipython3",
   "version": "3.8.10"
  }
 },
 "nbformat": 4,
 "nbformat_minor": 5
}
