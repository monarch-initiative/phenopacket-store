{
 "cells": [
  {
   "cell_type": "markdown",
   "metadata": {},
   "source": [
    "# CEP295\n",
    "[Seckel syndrome-11 (SCKL11)](https://omim.org/entry/620767) is caused by homozygous or compound heterozygous mutation in the CEP295 gene."
   ]
  },
  {
   "cell_type": "code",
   "execution_count": 3,
   "metadata": {},
   "outputs": [
    {
     "name": "stdout",
     "output_type": "stream",
     "text": [
      "Using pyphetools version 0.9.92\n"
     ]
    }
   ],
   "source": [
    "from pyphetools.creation import TemplateImporter\n",
    "from pyphetools.visualization import IndividualTable, QcVisualizer\n",
    "from IPython.display import display, HTML\n",
    "import pyphetools\n",
    "print(f\"Using pyphetools version {pyphetools.__version__}\")"
   ]
  },
  {
   "cell_type": "code",
   "execution_count": 4,
   "metadata": {},
   "outputs": [],
   "source": [
    "template = \"input/CEP295_SCKL11_individuals.xlsx\"\n",
    "created_by = \"0000-0002-0736-9199\""
   ]
  },
  {
   "cell_type": "code",
   "execution_count": 5,
   "metadata": {},
   "outputs": [
    {
     "name": "stdout",
     "output_type": "stream",
     "text": [
      "HPO version 2024-06-25\n",
      "Created encoders for 53 fields\n",
      "Importing OMIM:620767, Seckel syndrome 11, HGNC:29366, CEP295,  NM_033395.2\n",
      "[INFO] encoding variant \"c.1630C>T\"\n",
      "https://rest.variantvalidator.org/VariantValidator/variantvalidator/hg38/NM_033395.2%3Ac.1630C>T/NM_033395.2?content-type=application%2Fjson\n",
      "[INFO] encoding variant \"c.4558C>T\"\n",
      "https://rest.variantvalidator.org/VariantValidator/variantvalidator/hg38/NM_033395.2%3Ac.4558C>T/NM_033395.2?content-type=application%2Fjson\n",
      "[INFO] encoding variant \"c.1685C>T\"\n",
      "https://rest.variantvalidator.org/VariantValidator/variantvalidator/hg38/NM_033395.2%3Ac.1685C>T/NM_033395.2?content-type=application%2Fjson\n",
      "[INFO] encoding variant \"c.163_164del\"\n",
      "https://rest.variantvalidator.org/VariantValidator/variantvalidator/hg38/NM_033395.2%3Ac.163_164del/NM_033395.2?content-type=application%2Fjson\n",
      "We output 4 GA4GH phenopackets to the directory phenopackets\n"
     ]
    }
   ],
   "source": [
    "timporter = TemplateImporter(template=template,  created_by=created_by)\n",
    "individual_list, cvalidator = timporter.import_phenopackets_from_template()"
   ]
  },
  {
   "cell_type": "code",
   "execution_count": 6,
   "metadata": {},
   "outputs": [
    {
     "data": {
      "text/html": [
       "<h2>Cohort validation</h2>\n",
       "<p>No errors found for the cohort with 4 individuals</p>"
      ],
      "text/plain": [
       "<IPython.core.display.HTML object>"
      ]
     },
     "metadata": {},
     "output_type": "display_data"
    }
   ],
   "source": [
    "qc = QcVisualizer(cohort_validator=cvalidator)\n",
    "display(HTML(qc.to_summary_html()))"
   ]
  },
  {
   "cell_type": "code",
   "execution_count": 7,
   "metadata": {},
   "outputs": [
    {
     "data": {
      "text/html": [
       "<table style=\"border: 2px solid black; align: \"left\">\n",
       "<caption>4 phenopackets - PMID:38154379 (n=4)</caption>\n",
       "<tr><th style=\"text-align: left;font-weight: bold;\">Individual</th><th style=\"text-align: left;font-weight: bold;\">Disease</th><th style=\"text-align: left;font-weight: bold;\">Genotype</th><th style=\"text-align: left;font-weight: bold;\">Phenotypic features</th></tr>\n",
       "<tr><td style=\"text-align: left;\">1 (Family 1) (MALE; P9Y9M)</td><td style=\"text-align: left;\">Seckel syndrome 11 (OMIM:620767)</td><td style=\"text-align: left;\"><ul> <li>NM_033395.2:c.1630C>T (heterozygous)</li> <li>NM_033395.2:c.4558C>T (heterozygous)</li> </ul></td><td style=\"text-align: left;\">Primary microcephaly (HP:0011451); Short stature (HP:0004322); Micrognathia (HP:0000347); Thin upper lip vermilion (HP:0000219); Postnatal growth retardation (HP:0008897); Pachygyria (HP:0001302); Simplified gyral pattern (HP:0009879); Prominent nasal bridge (HP:0000426); Intellectual disability (HP:0001249); Global developmental delay (HP:0001263); Motor delay (HP:0001270); Delayed speech and language development (HP:0000750); Syndactyly (HP:0001159); Long philtrum (HP:0000343); Smooth philtrum (HP:0000319); Clinodactyly (HP:0030084); Protruding ear (HP:0000411); Highly arched eyebrow (HP:0002553); Widely spaced teeth (HP:0000687); Upslanted palpebral fissure (HP:0000582); Absent cupid's bow (HP:0010800); excluded: Low hanging columella (HP:0009765); excluded: Sloping forehead (HP:0000340); excluded: Feeding difficulties (HP:0011968); excluded: Broad 2nd toe (HP:0100040); excluded: Retrognathia (HP:0000278); excluded: Secundum atrial septal defect (HP:0001684); excluded: High palate (HP:0000218); excluded: Dental crowding (HP:0000678); excluded: Downslanted palpebral fissures (HP:0000494); excluded: Patent ductus arteriosus (HP:0001643); excluded: Patent foramen ovale (HP:0001655); excluded: Pulmonary artery stenosis (HP:0004415); excluded: Intrauterine growth retardation (HP:0001511); excluded: Tracheoesophageal fistula (HP:0002575)</td></tr>\n",
       "<tr><td style=\"text-align: left;\">2 (Family 2) (FEMALE; P4Y7M)</td><td style=\"text-align: left;\">Seckel syndrome 11 (OMIM:620767)</td><td style=\"text-align: left;\"><ul> <li>NM_033395.2:c.163_164del (heterozygous)</li> <li>NM_033395.2:c.1685C>T (heterozygous)</li> </ul></td><td style=\"text-align: left;\">Primary microcephaly (HP:0011451); Micrognathia (HP:0000347); Thin upper lip vermilion (HP:0000219); Low hanging columella (HP:0009765); Feeding difficulties (HP:0011968); Broad 2nd toe (HP:0100040); Prominent nasal bridge (HP:0000426); Retrognathia (HP:0000278); Secundum atrial septal defect (HP:0001684); High palate (HP:0000218); Intellectual disability (HP:0001249); Global developmental delay (HP:0001263); Motor delay (HP:0001270); Delayed speech and language development (HP:0000750); Long philtrum (HP:0000343); Smooth philtrum (HP:0000319); Dental crowding (HP:0000678); Clinodactyly (HP:0030084); Protruding ear (HP:0000411); Highly arched eyebrow (HP:0002553); Downslanted palpebral fissures (HP:0000494); Patent foramen ovale (HP:0001655); Pulmonary artery stenosis (HP:0004415); Intrauterine growth retardation (HP:0001511); excluded: Short stature (HP:0004322); excluded: Sloping forehead (HP:0000340); excluded: Postnatal growth retardation (HP:0008897); excluded: Syndactyly (HP:0001159); excluded: Widely spaced teeth (HP:0000687); excluded: Upslanted palpebral fissure (HP:0000582); excluded: Absent cupid's bow (HP:0010800); excluded: Patent ductus arteriosus (HP:0001643); excluded: Tracheoesophageal fistula (HP:0002575)</td></tr>\n",
       "<tr><td style=\"text-align: left;\">3 (Family 2) (MALE; P3M)</td><td style=\"text-align: left;\">Seckel syndrome 11 (OMIM:620767)</td><td style=\"text-align: left;\"><ul> <li>NM_033395.2:c.163_164del (heterozygous)</li> <li>NM_033395.2:c.1685C>T (heterozygous)</li> </ul></td><td style=\"text-align: left;\">Primary microcephaly (HP:0011451); Short stature (HP:0004322); Thin upper lip vermilion (HP:0000219); Sloping forehead (HP:0000340); Feeding difficulties (HP:0011968); Postnatal growth retardation (HP:0008897); Broad 2nd toe (HP:0100040); Simplified gyral pattern (HP:0009879); Prominent nasal bridge (HP:0000426); Long philtrum (HP:0000343); Smooth philtrum (HP:0000319); Clinodactyly (HP:0030084); Protruding ear (HP:0000411); Highly arched eyebrow (HP:0002553); Patent ductus arteriosus (HP:0001643); Intrauterine growth retardation (HP:0001511); Tracheoesophageal fistula (HP:0002575); excluded: Micrognathia (HP:0000347); excluded: Low hanging columella (HP:0009765); excluded: Pachygyria (HP:0001302); excluded: Retrognathia (HP:0000278); excluded: Secundum atrial septal defect (HP:0001684); excluded: High palate (HP:0000218); excluded: Syndactyly (HP:0001159); excluded: Dental crowding (HP:0000678); excluded: Widely spaced teeth (HP:0000687); excluded: Upslanted palpebral fissure (HP:0000582); excluded: Downslanted palpebral fissures (HP:0000494); excluded: Absent cupid's bow (HP:0010800); excluded: Patent foramen ovale (HP:0001655); excluded: Pulmonary artery stenosis (HP:0004415)</td></tr>\n",
       "<tr><td style=\"text-align: left;\">4 (Family 2) (MALE; P3M)</td><td style=\"text-align: left;\">Seckel syndrome 11 (OMIM:620767)</td><td style=\"text-align: left;\"><ul> <li>NM_033395.2:c.163_164del (heterozygous)</li> <li>NM_033395.2:c.1685C>T (heterozygous)</li> </ul></td><td style=\"text-align: left;\">Primary microcephaly (HP:0011451); Short stature (HP:0004322); Thin upper lip vermilion (HP:0000219); Low hanging columella (HP:0009765); Sloping forehead (HP:0000340); Feeding difficulties (HP:0011968); Postnatal growth retardation (HP:0008897); Broad 2nd toe (HP:0100040); Pachygyria (HP:0001302); Simplified gyral pattern (HP:0009879); Prominent nasal bridge (HP:0000426); Retrognathia (HP:0000278); Long philtrum (HP:0000343); Smooth philtrum (HP:0000319); Clinodactyly (HP:0030084); Protruding ear (HP:0000411); Highly arched eyebrow (HP:0002553); Patent ductus arteriosus (HP:0001643); excluded: Micrognathia (HP:0000347); excluded: Secundum atrial septal defect (HP:0001684); excluded: High palate (HP:0000218); excluded: Syndactyly (HP:0001159); excluded: Dental crowding (HP:0000678); excluded: Widely spaced teeth (HP:0000687); excluded: Upslanted palpebral fissure (HP:0000582); excluded: Downslanted palpebral fissures (HP:0000494); excluded: Absent cupid's bow (HP:0010800); excluded: Patent foramen ovale (HP:0001655); excluded: Pulmonary artery stenosis (HP:0004415); excluded: Intrauterine growth retardation (HP:0001511); excluded: Tracheoesophageal fistula (HP:0002575)</td></tr>\n",
       "</table>"
      ],
      "text/plain": [
       "<IPython.core.display.HTML object>"
      ]
     },
     "metadata": {},
     "output_type": "display_data"
    }
   ],
   "source": [
    "table = IndividualTable(cvalidator.get_error_free_individual_list())\n",
    "display(HTML(table.to_html()))"
   ]
  },
  {
   "cell_type": "code",
   "execution_count": 8,
   "metadata": {},
   "outputs": [
    {
     "name": "stdout",
     "output_type": "stream",
     "text": [
      "[pyphetools] Ingested 4 GA4GH phenopackets.\n",
      "[INFO] Extracted 4 from 4 phenopackets with OMIM:620767\n",
      "\n",
      "\tSeckel syndrome 11 (OMIM:620767): n=4\n",
      "We found a total of 35 unique HPO terms\n",
      "Extracted disease: Seckel syndrome 11 (OMIM:620767)\n",
      "Wrote HPOA disease file to OMIM-620767.tab\n"
     ]
    }
   ],
   "source": [
    "pmid = \"PMID:38154379\"\n",
    "df = timporter.create_hpoa_from_phenopackets(pmid=pmid, moi=\"Autosomal recessive\", target=\"OMIM:620767\")"
   ]
  },
  {
   "cell_type": "code",
   "execution_count": null,
   "metadata": {},
   "outputs": [],
   "source": []
  }
 ],
 "metadata": {
  "kernelspec": {
   "display_name": "ps24venv",
   "language": "python",
   "name": "python3"
  },
  "language_info": {
   "codemirror_mode": {
    "name": "ipython",
    "version": 3
   },
   "file_extension": ".py",
   "mimetype": "text/x-python",
   "name": "python",
   "nbconvert_exporter": "python",
   "pygments_lexer": "ipython3",
   "version": "3.9.6"
  }
 },
 "nbformat": 4,
 "nbformat_minor": 2
}
