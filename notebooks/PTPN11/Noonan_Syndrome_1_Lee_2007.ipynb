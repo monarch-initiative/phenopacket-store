{
 "cells": [
  {
   "cell_type": "markdown",
   "id": "f5900216",
   "metadata": {},
   "source": [
    "<h1>Noon syndrome 1: Lee at al (2007): phenopackets</h1>\n",
    "<p>Data imported from <a href=\"https://pubmed.ncbi.nlm.nih.gov/17661820/\">Lee ST, Ki CS, Lee HJ. Mutation analysis of the genes involved in the Ras-mitogen-activated protein kinase (MAPK) pathway in Korean patients with Noonan syndrome. Clin Genet. 2007 Aug;72(2):150-5.PMID: 17661820</a>.</p>"
   ]
  },
  {
   "cell_type": "code",
   "execution_count": 1,
   "id": "c0c555bb",
   "metadata": {},
   "outputs": [
    {
     "name": "stdout",
     "output_type": "stream",
     "text": [
      "pyphetools version 0.9.79\n"
     ]
    },
    {
     "name": "stderr",
     "output_type": "stream",
     "text": [
      "/Users/robin/GIT/phenopacket-store/ps24venv/lib/python3.9/site-packages/urllib3/__init__.py:35: NotOpenSSLWarning: urllib3 v2 only supports OpenSSL 1.1.1+, currently the 'ssl' module is compiled with 'LibreSSL 2.8.3'. See: https://github.com/urllib3/urllib3/issues/3020\n",
      "  warnings.warn(\n"
     ]
    }
   ],
   "source": [
    "import pandas as pd\n",
    "pd.set_option('display.max_colwidth', None) # show entire column contents, important!\n",
    "from IPython.display import display, HTML\n",
    "import pyphetools\n",
    "from pyphetools.creation import *\n",
    "from pyphetools.visualization import *\n",
    "from pyphetools.validation import CohortValidator\n",
    "print(f\"pyphetools version {pyphetools.__version__}\")"
   ]
  },
  {
   "cell_type": "code",
   "execution_count": 2,
   "id": "2b402fde",
   "metadata": {},
   "outputs": [
    {
     "name": "stdout",
     "output_type": "stream",
     "text": [
      "HPO version 2024-04-26\n"
     ]
    }
   ],
   "source": [
    "PMID = \"PMID:17661820\"\n",
    "title = \"Mutation analysis of the genes involved in the Ras-mitogen-activated protein kinase (MAPK) pathway in Korean patients with Noonan syndrome\"\n",
    "citation = Citation(pmid=PMID, title=title)\n",
    "parser = HpoParser()\n",
    "hpo_cr = parser.get_hpo_concept_recognizer()\n",
    "hpo_version = parser.get_version()\n",
    "hpo_ontology = parser.get_ontology()\n",
    "metadata = MetaData(created_by=\"ORCID:0000-0002-0736-9199\", citation=citation)\n",
    "metadata.default_versions_with_hpo(version=hpo_version)\n",
    "print(f\"HPO version {hpo_version}\")"
   ]
  },
  {
   "cell_type": "code",
   "execution_count": 3,
   "id": "8d123e48",
   "metadata": {},
   "outputs": [],
   "source": [
    "df = pd.read_excel('input/Lee2007Noonan1.xlsx')"
   ]
  },
  {
   "cell_type": "code",
   "execution_count": 4,
   "id": "8415ff43",
   "metadata": {},
   "outputs": [
    {
     "data": {
      "text/html": [
       "<div>\n",
       "<style scoped>\n",
       "    .dataframe tbody tr th:only-of-type {\n",
       "        vertical-align: middle;\n",
       "    }\n",
       "\n",
       "    .dataframe tbody tr th {\n",
       "        vertical-align: top;\n",
       "    }\n",
       "\n",
       "    .dataframe thead th {\n",
       "        text-align: right;\n",
       "    }\n",
       "</style>\n",
       "<table border=\"1\" class=\"dataframe\">\n",
       "  <thead>\n",
       "    <tr style=\"text-align: right;\">\n",
       "      <th></th>\n",
       "      <th>Patient</th>\n",
       "      <th>1</th>\n",
       "      <th>2</th>\n",
       "      <th>3</th>\n",
       "      <th>4</th>\n",
       "      <th>5</th>\n",
       "      <th>6</th>\n",
       "      <th>7</th>\n",
       "    </tr>\n",
       "  </thead>\n",
       "  <tbody>\n",
       "    <tr>\n",
       "      <th>0</th>\n",
       "      <td>Sex</td>\n",
       "      <td>M</td>\n",
       "      <td>F</td>\n",
       "      <td>M</td>\n",
       "      <td>F</td>\n",
       "      <td>F</td>\n",
       "      <td>M</td>\n",
       "      <td>M</td>\n",
       "    </tr>\n",
       "    <tr>\n",
       "      <th>1</th>\n",
       "      <td>Age</td>\n",
       "      <td>5</td>\n",
       "      <td>29</td>\n",
       "      <td>4</td>\n",
       "      <td>2</td>\n",
       "      <td>30</td>\n",
       "      <td>6</td>\n",
       "      <td>3</td>\n",
       "    </tr>\n",
       "    <tr>\n",
       "      <th>2</th>\n",
       "      <td>PTPN11 mutation</td>\n",
       "      <td>T42A</td>\n",
       "      <td>N308D</td>\n",
       "      <td>N308D</td>\n",
       "      <td>N308D</td>\n",
       "      <td>N308D</td>\n",
       "      <td>N308D</td>\n",
       "      <td>M504V</td>\n",
       "    </tr>\n",
       "    <tr>\n",
       "      <th>3</th>\n",
       "      <td>transcript.hgvs</td>\n",
       "      <td>c.124A&gt;G</td>\n",
       "      <td>c.922A&gt;G</td>\n",
       "      <td>c.922A&gt;G</td>\n",
       "      <td>c.922A&gt;G</td>\n",
       "      <td>c.922A&gt;G</td>\n",
       "      <td>c.922A&gt;G</td>\n",
       "      <td>c.1510A&gt;G</td>\n",
       "    </tr>\n",
       "    <tr>\n",
       "      <th>4</th>\n",
       "      <td>CHD</td>\n",
       "      <td>ASD, SVC and IVC anomaly</td>\n",
       "      <td>PS</td>\n",
       "      <td>ASD, PS, hypoplastic MPA</td>\n",
       "      <td>VSD, PS</td>\n",
       "      <td>PS</td>\n",
       "      <td>ASD, PS</td>\n",
       "      <td>ASD, mild PS</td>\n",
       "    </tr>\n",
       "  </tbody>\n",
       "</table>\n",
       "</div>"
      ],
      "text/plain": [
       "           Patient                         1         2  \\\n",
       "0              Sex                         M         F   \n",
       "1              Age                         5        29   \n",
       "2  PTPN11 mutation                      T42A     N308D   \n",
       "3  transcript.hgvs                  c.124A>G  c.922A>G   \n",
       "4              CHD  ASD, SVC and IVC anomaly        PS   \n",
       "\n",
       "                          3         4         5         6             7  \n",
       "0                         M         F         F         M             M  \n",
       "1                         4         2        30         6             3  \n",
       "2                     N308D     N308D     N308D     N308D         M504V  \n",
       "3                  c.922A>G  c.922A>G  c.922A>G  c.922A>G     c.1510A>G  \n",
       "4  ASD, PS, hypoplastic MPA   VSD, PS        PS   ASD, PS  ASD, mild PS  "
      ]
     },
     "execution_count": 4,
     "metadata": {},
     "output_type": "execute_result"
    }
   ],
   "source": [
    "df.head()"
   ]
  },
  {
   "cell_type": "code",
   "execution_count": 5,
   "id": "3bc16e90",
   "metadata": {},
   "outputs": [],
   "source": [
    "# need to convert to column-based format\n",
    "dft = df.transpose()\n",
    "dft.columns = dft.iloc[0]\n",
    "dft.drop(dft.index[0], inplace=True)\n",
    "dft.head()\n",
    "dft['individual_id'] = dft.index"
   ]
  },
  {
   "cell_type": "code",
   "execution_count": 6,
   "id": "5c89dc0b",
   "metadata": {},
   "outputs": [],
   "source": [
    "column_mapper_list = list()"
   ]
  },
  {
   "cell_type": "code",
   "execution_count": 7,
   "id": "778fe433",
   "metadata": {},
   "outputs": [
    {
     "data": {
      "text/html": [
       "<div>\n",
       "<style scoped>\n",
       "    .dataframe tbody tr th:only-of-type {\n",
       "        vertical-align: middle;\n",
       "    }\n",
       "\n",
       "    .dataframe tbody tr th {\n",
       "        vertical-align: top;\n",
       "    }\n",
       "\n",
       "    .dataframe thead th {\n",
       "        text-align: right;\n",
       "    }\n",
       "</style>\n",
       "<table border=\"1\" class=\"dataframe\">\n",
       "  <thead>\n",
       "    <tr style=\"text-align: right;\">\n",
       "      <th></th>\n",
       "      <th>mapping</th>\n",
       "      <th>count</th>\n",
       "    </tr>\n",
       "  </thead>\n",
       "  <tbody>\n",
       "    <tr>\n",
       "      <th>0</th>\n",
       "      <td>Atrial septal defect (HP:0001631) (observed)</td>\n",
       "      <td>4</td>\n",
       "    </tr>\n",
       "    <tr>\n",
       "      <th>1</th>\n",
       "      <td>Bilateral superior vena cava (HP:0033379) (observed)</td>\n",
       "      <td>1</td>\n",
       "    </tr>\n",
       "    <tr>\n",
       "      <th>2</th>\n",
       "      <td>Pulmonic stenosis (HP:0001642) (observed)</td>\n",
       "      <td>6</td>\n",
       "    </tr>\n",
       "    <tr>\n",
       "      <th>3</th>\n",
       "      <td>Pulmonary artery hypoplasia (HP:0004971) (observed)</td>\n",
       "      <td>1</td>\n",
       "    </tr>\n",
       "    <tr>\n",
       "      <th>4</th>\n",
       "      <td>Ventricular septal defect (HP:0001629) (observed)</td>\n",
       "      <td>1</td>\n",
       "    </tr>\n",
       "  </tbody>\n",
       "</table>\n",
       "</div>"
      ],
      "text/plain": [
       "                                                mapping count\n",
       "0          Atrial septal defect (HP:0001631) (observed)     4\n",
       "1  Bilateral superior vena cava (HP:0033379) (observed)     1\n",
       "2             Pulmonic stenosis (HP:0001642) (observed)     6\n",
       "3   Pulmonary artery hypoplasia (HP:0004971) (observed)     1\n",
       "4     Ventricular septal defect (HP:0001629) (observed)     1"
      ]
     },
     "execution_count": 7,
     "metadata": {},
     "output_type": "execute_result"
    }
   ],
   "source": [
    "chd_d = {'ASD': 'Atrial septal defect',\n",
    "         'SVC': 'Bilateral superior vena cava', # from paper!\n",
    "             'PS': 'Pulmonic stenosis',\n",
    "        'hypoplastic MPA': 'Pulmonary artery hypoplasia',\n",
    "        'VSD': 'Ventricular septal defect'}\n",
    "chdMapper = OptionColumnMapper(column_name='CHD',concept_recognizer=hpo_cr, option_d=chd_d)\n",
    "column_mapper_list.append(chdMapper)\n",
    "chdMapper.preview_column(dft)"
   ]
  },
  {
   "cell_type": "code",
   "execution_count": 8,
   "id": "a5767ae7",
   "metadata": {},
   "outputs": [
    {
     "data": {
      "text/html": [
       "<div>\n",
       "<style scoped>\n",
       "    .dataframe tbody tr th:only-of-type {\n",
       "        vertical-align: middle;\n",
       "    }\n",
       "\n",
       "    .dataframe tbody tr th {\n",
       "        vertical-align: top;\n",
       "    }\n",
       "\n",
       "    .dataframe thead th {\n",
       "        text-align: right;\n",
       "    }\n",
       "</style>\n",
       "<table border=\"1\" class=\"dataframe\">\n",
       "  <thead>\n",
       "    <tr style=\"text-align: right;\">\n",
       "      <th></th>\n",
       "      <th>mapping</th>\n",
       "      <th>count</th>\n",
       "    </tr>\n",
       "  </thead>\n",
       "  <tbody>\n",
       "    <tr>\n",
       "      <th>0</th>\n",
       "      <td>original value: \"Yes\" -&gt; HP: Webbed neck (HP:0000465) (observed)</td>\n",
       "      <td>5</td>\n",
       "    </tr>\n",
       "    <tr>\n",
       "      <th>1</th>\n",
       "      <td>original value: \"-\" -&gt; HP: Webbed neck (HP:0000465) (not measured)</td>\n",
       "      <td>2</td>\n",
       "    </tr>\n",
       "  </tbody>\n",
       "</table>\n",
       "</div>"
      ],
      "text/plain": [
       "                                                              mapping count\n",
       "0    original value: \"Yes\" -> HP: Webbed neck (HP:0000465) (observed)     5\n",
       "1  original value: \"-\" -> HP: Webbed neck (HP:0000465) (not measured)     2"
      ]
     },
     "execution_count": 8,
     "metadata": {},
     "output_type": "execute_result"
    }
   ],
   "source": [
    "#Webbed neck HP:0000465\n",
    "webbedNeckMapper = SimpleColumnMapper(column_name='Webbed neck',hpo_id='HP:0000465',\n",
    "    hpo_label='Webbed neck',\n",
    "    observed='Yes',\n",
    "    excluded='−')\n",
    "column_mapper_list.append(webbedNeckMapper)\n",
    "webbedNeckMapper.preview_column(dft)"
   ]
  },
  {
   "cell_type": "code",
   "execution_count": 9,
   "id": "fea9a69c",
   "metadata": {},
   "outputs": [
    {
     "data": {
      "text/html": [
       "<div>\n",
       "<style scoped>\n",
       "    .dataframe tbody tr th:only-of-type {\n",
       "        vertical-align: middle;\n",
       "    }\n",
       "\n",
       "    .dataframe tbody tr th {\n",
       "        vertical-align: top;\n",
       "    }\n",
       "\n",
       "    .dataframe thead th {\n",
       "        text-align: right;\n",
       "    }\n",
       "</style>\n",
       "<table border=\"1\" class=\"dataframe\">\n",
       "  <thead>\n",
       "    <tr style=\"text-align: right;\">\n",
       "      <th></th>\n",
       "      <th>mapping</th>\n",
       "      <th>count</th>\n",
       "    </tr>\n",
       "  </thead>\n",
       "  <tbody>\n",
       "    <tr>\n",
       "      <th>0</th>\n",
       "      <td>original value: \"Yes\" -&gt; HP: Short stature (HP:0004322) (observed)</td>\n",
       "      <td>6</td>\n",
       "    </tr>\n",
       "    <tr>\n",
       "      <th>1</th>\n",
       "      <td>original value: \"No\" -&gt; HP: Short stature (HP:0004322) (not measured)</td>\n",
       "      <td>1</td>\n",
       "    </tr>\n",
       "  </tbody>\n",
       "</table>\n",
       "</div>"
      ],
      "text/plain": [
       "                                                                 mapping count\n",
       "0     original value: \"Yes\" -> HP: Short stature (HP:0004322) (observed)     6\n",
       "1  original value: \"No\" -> HP: Short stature (HP:0004322) (not measured)     1"
      ]
     },
     "execution_count": 9,
     "metadata": {},
     "output_type": "execute_result"
    }
   ],
   "source": [
    "# Short stature HP:0004322\n",
    "shortStatureMapper = SimpleColumnMapper(column_name='Short stature',\n",
    "                                        hpo_id='HP:0004322', hpo_label='Short stature',observed='Yes',excluded='−')\n",
    "column_mapper_list.append(shortStatureMapper)\n",
    "shortStatureMapper.preview_column(dft)"
   ]
  },
  {
   "cell_type": "code",
   "execution_count": 10,
   "id": "1386a520",
   "metadata": {},
   "outputs": [
    {
     "data": {
      "text/html": [
       "<div>\n",
       "<style scoped>\n",
       "    .dataframe tbody tr th:only-of-type {\n",
       "        vertical-align: middle;\n",
       "    }\n",
       "\n",
       "    .dataframe tbody tr th {\n",
       "        vertical-align: top;\n",
       "    }\n",
       "\n",
       "    .dataframe thead th {\n",
       "        text-align: right;\n",
       "    }\n",
       "</style>\n",
       "<table border=\"1\" class=\"dataframe\">\n",
       "  <thead>\n",
       "    <tr style=\"text-align: right;\">\n",
       "      <th></th>\n",
       "      <th>mapping</th>\n",
       "      <th>count</th>\n",
       "    </tr>\n",
       "  </thead>\n",
       "  <tbody>\n",
       "    <tr>\n",
       "      <th>0</th>\n",
       "      <td>original value: \"Yes\" -&gt; HP: Pectus excavatum (HP:0000767) (observed)</td>\n",
       "      <td>5</td>\n",
       "    </tr>\n",
       "    <tr>\n",
       "      <th>1</th>\n",
       "      <td>original value: \"-\" -&gt; HP: Pectus excavatum (HP:0000767) (not measured)</td>\n",
       "      <td>2</td>\n",
       "    </tr>\n",
       "  </tbody>\n",
       "</table>\n",
       "</div>"
      ],
      "text/plain": [
       "                                                                   mapping  \\\n",
       "0    original value: \"Yes\" -> HP: Pectus excavatum (HP:0000767) (observed)   \n",
       "1  original value: \"-\" -> HP: Pectus excavatum (HP:0000767) (not measured)   \n",
       "\n",
       "  count  \n",
       "0     5  \n",
       "1     2  "
      ]
     },
     "execution_count": 10,
     "metadata": {},
     "output_type": "execute_result"
    }
   ],
   "source": [
    "# Chest deformity -- assume pectus excavatum, reported for one patient only in detail\n",
    "# Pectus excavatum HP:0000767\n",
    "pectusMapper = SimpleColumnMapper(column_name='Chest deformity',\n",
    "                                  hpo_id='HP:0000767', hpo_label='Pectus excavatum', observed='Yes',  excluded='−')\n",
    "column_mapper_list.append(pectusMapper)\n",
    "pectusMapper.preview_column(dft)"
   ]
  },
  {
   "cell_type": "code",
   "execution_count": 11,
   "id": "97444fb0",
   "metadata": {},
   "outputs": [
    {
     "data": {
      "text/html": [
       "<div>\n",
       "<style scoped>\n",
       "    .dataframe tbody tr th:only-of-type {\n",
       "        vertical-align: middle;\n",
       "    }\n",
       "\n",
       "    .dataframe tbody tr th {\n",
       "        vertical-align: top;\n",
       "    }\n",
       "\n",
       "    .dataframe thead th {\n",
       "        text-align: right;\n",
       "    }\n",
       "</style>\n",
       "<table border=\"1\" class=\"dataframe\">\n",
       "  <thead>\n",
       "    <tr style=\"text-align: right;\">\n",
       "      <th></th>\n",
       "      <th>mapping</th>\n",
       "      <th>count</th>\n",
       "    </tr>\n",
       "  </thead>\n",
       "  <tbody>\n",
       "    <tr>\n",
       "      <th>0</th>\n",
       "      <td>original value: \"-\" -&gt; HP: Feeding difficulties (HP:0011968) (not measured)</td>\n",
       "      <td>6</td>\n",
       "    </tr>\n",
       "    <tr>\n",
       "      <th>1</th>\n",
       "      <td>original value: \"Yes\" -&gt; HP: Feeding difficulties (HP:0011968) (observed)</td>\n",
       "      <td>1</td>\n",
       "    </tr>\n",
       "  </tbody>\n",
       "</table>\n",
       "</div>"
      ],
      "text/plain": [
       "                                                                       mapping  \\\n",
       "0  original value: \"-\" -> HP: Feeding difficulties (HP:0011968) (not measured)   \n",
       "1    original value: \"Yes\" -> HP: Feeding difficulties (HP:0011968) (observed)   \n",
       "\n",
       "  count  \n",
       "0     6  \n",
       "1     1  "
      ]
     },
     "execution_count": 11,
     "metadata": {},
     "output_type": "execute_result"
    }
   ],
   "source": [
    "# Feeding difficulties HP:0011968\n",
    "feedingMapper = SimpleColumnMapper(column_name='Feeding problems',\n",
    "                                   hpo_id='HP:0011968', hpo_label='Feeding difficulties', observed='Yes', excluded='−')\n",
    "column_mapper_list.append(feedingMapper)\n",
    "feedingMapper.preview_column(dft)"
   ]
  },
  {
   "cell_type": "code",
   "execution_count": 12,
   "id": "d9898d39",
   "metadata": {},
   "outputs": [
    {
     "data": {
      "text/html": [
       "<div>\n",
       "<style scoped>\n",
       "    .dataframe tbody tr th:only-of-type {\n",
       "        vertical-align: middle;\n",
       "    }\n",
       "\n",
       "    .dataframe tbody tr th {\n",
       "        vertical-align: top;\n",
       "    }\n",
       "\n",
       "    .dataframe thead th {\n",
       "        text-align: right;\n",
       "    }\n",
       "</style>\n",
       "<table border=\"1\" class=\"dataframe\">\n",
       "  <thead>\n",
       "    <tr style=\"text-align: right;\">\n",
       "      <th></th>\n",
       "      <th>mapping</th>\n",
       "      <th>count</th>\n",
       "    </tr>\n",
       "  </thead>\n",
       "  <tbody>\n",
       "    <tr>\n",
       "      <th>0</th>\n",
       "      <td>original value: \"-\" -&gt; HP: Hearing impairment (HP:0000365) (not measured)</td>\n",
       "      <td>3</td>\n",
       "    </tr>\n",
       "    <tr>\n",
       "      <th>1</th>\n",
       "      <td>original value: \"Yes\" -&gt; HP: Hearing impairment (HP:0000365) (observed)</td>\n",
       "      <td>4</td>\n",
       "    </tr>\n",
       "  </tbody>\n",
       "</table>\n",
       "</div>"
      ],
      "text/plain": [
       "                                                                     mapping  \\\n",
       "0  original value: \"-\" -> HP: Hearing impairment (HP:0000365) (not measured)   \n",
       "1    original value: \"Yes\" -> HP: Hearing impairment (HP:0000365) (observed)   \n",
       "\n",
       "  count  \n",
       "0     3  \n",
       "1     4  "
      ]
     },
     "execution_count": 12,
     "metadata": {},
     "output_type": "execute_result"
    }
   ],
   "source": [
    "# Hearing problem\n",
    "# Hearing impairment HP:0000365\n",
    "hearingMapper = SimpleColumnMapper(column_name='Hearing problem',\n",
    "                                   hpo_id='HP:0000365',hpo_label='Hearing impairment', observed='Yes', excluded='−')\n",
    "column_mapper_list.append(hearingMapper)\n",
    "hearingMapper.preview_column(dft)"
   ]
  },
  {
   "cell_type": "code",
   "execution_count": 13,
   "id": "7095c2d6",
   "metadata": {},
   "outputs": [
    {
     "data": {
      "text/html": [
       "<div>\n",
       "<style scoped>\n",
       "    .dataframe tbody tr th:only-of-type {\n",
       "        vertical-align: middle;\n",
       "    }\n",
       "\n",
       "    .dataframe tbody tr th {\n",
       "        vertical-align: top;\n",
       "    }\n",
       "\n",
       "    .dataframe thead th {\n",
       "        text-align: right;\n",
       "    }\n",
       "</style>\n",
       "<table border=\"1\" class=\"dataframe\">\n",
       "  <thead>\n",
       "    <tr style=\"text-align: right;\">\n",
       "      <th></th>\n",
       "      <th>mapping</th>\n",
       "      <th>count</th>\n",
       "    </tr>\n",
       "  </thead>\n",
       "  <tbody>\n",
       "    <tr>\n",
       "      <th>0</th>\n",
       "      <td>original value: \"Yes\" -&gt; HP: Global developmental delay (HP:0001263) (observed)</td>\n",
       "      <td>5</td>\n",
       "    </tr>\n",
       "    <tr>\n",
       "      <th>1</th>\n",
       "      <td>original value: \"-\" -&gt; HP: Global developmental delay (HP:0001263) (not measured)</td>\n",
       "      <td>2</td>\n",
       "    </tr>\n",
       "  </tbody>\n",
       "</table>\n",
       "</div>"
      ],
      "text/plain": [
       "                                                                             mapping  \\\n",
       "0    original value: \"Yes\" -> HP: Global developmental delay (HP:0001263) (observed)   \n",
       "1  original value: \"-\" -> HP: Global developmental delay (HP:0001263) (not measured)   \n",
       "\n",
       "  count  \n",
       "0     5  \n",
       "1     2  "
      ]
     },
     "execution_count": 13,
     "metadata": {},
     "output_type": "execute_result"
    }
   ],
   "source": [
    "# Delayed development\n",
    "# Global developmental delay HP:0001263\n",
    "devMapper = SimpleColumnMapper(column_name='Delayed development',\n",
    "                               hpo_id='HP:0001263', hpo_label='Global developmental delay', observed='Yes', excluded='−')\n",
    "column_mapper_list.append(devMapper)\n",
    "devMapper.preview_column(dft)"
   ]
  },
  {
   "cell_type": "code",
   "execution_count": 14,
   "id": "7ecb6376",
   "metadata": {},
   "outputs": [
    {
     "data": {
      "text/html": [
       "<div>\n",
       "<style scoped>\n",
       "    .dataframe tbody tr th:only-of-type {\n",
       "        vertical-align: middle;\n",
       "    }\n",
       "\n",
       "    .dataframe tbody tr th {\n",
       "        vertical-align: top;\n",
       "    }\n",
       "\n",
       "    .dataframe thead th {\n",
       "        text-align: right;\n",
       "    }\n",
       "</style>\n",
       "<table border=\"1\" class=\"dataframe\">\n",
       "  <thead>\n",
       "    <tr style=\"text-align: right;\">\n",
       "      <th></th>\n",
       "      <th>mapping</th>\n",
       "      <th>count</th>\n",
       "    </tr>\n",
       "  </thead>\n",
       "  <tbody>\n",
       "    <tr>\n",
       "      <th>0</th>\n",
       "      <td>original value: \"Mild\" -&gt; HP: Intellectual disability, mild (HP:0001256) (observed)</td>\n",
       "      <td>1</td>\n",
       "    </tr>\n",
       "    <tr>\n",
       "      <th>1</th>\n",
       "      <td>original value: \"-\" -&gt; HP: Intellectual disability, mild (HP:0001256) (not measured)</td>\n",
       "      <td>6</td>\n",
       "    </tr>\n",
       "  </tbody>\n",
       "</table>\n",
       "</div>"
      ],
      "text/plain": [
       "                                                                                mapping  \\\n",
       "0   original value: \"Mild\" -> HP: Intellectual disability, mild (HP:0001256) (observed)   \n",
       "1  original value: \"-\" -> HP: Intellectual disability, mild (HP:0001256) (not measured)   \n",
       "\n",
       "  count  \n",
       "0     1  \n",
       "1     6  "
      ]
     },
     "execution_count": 14,
     "metadata": {},
     "output_type": "execute_result"
    }
   ],
   "source": [
    "# Mental retardation\n",
    "# Intellectual disability, mild HP:0001256\n",
    "idMapper =  SimpleColumnMapper(column_name='Mental retardation',\n",
    "                               hpo_id='HP:0001256', hpo_label='Intellectual disability, mild', observed='Mild', excluded='−')\n",
    "column_mapper_list.append(idMapper)\n",
    "idMapper.preview_column(dft)"
   ]
  },
  {
   "cell_type": "code",
   "execution_count": 15,
   "id": "935b9914",
   "metadata": {},
   "outputs": [
    {
     "data": {
      "text/html": [
       "<div>\n",
       "<style scoped>\n",
       "    .dataframe tbody tr th:only-of-type {\n",
       "        vertical-align: middle;\n",
       "    }\n",
       "\n",
       "    .dataframe tbody tr th {\n",
       "        vertical-align: top;\n",
       "    }\n",
       "\n",
       "    .dataframe thead th {\n",
       "        text-align: right;\n",
       "    }\n",
       "</style>\n",
       "<table border=\"1\" class=\"dataframe\">\n",
       "  <thead>\n",
       "    <tr style=\"text-align: right;\">\n",
       "      <th></th>\n",
       "      <th>mapping</th>\n",
       "      <th>count</th>\n",
       "    </tr>\n",
       "  </thead>\n",
       "  <tbody>\n",
       "    <tr>\n",
       "      <th>0</th>\n",
       "      <td>original value: \"Yes\" -&gt; HP: Cryptorchidism (HP:0000028) (observed)</td>\n",
       "      <td>1</td>\n",
       "    </tr>\n",
       "    <tr>\n",
       "      <th>1</th>\n",
       "      <td>original value: \"-\" -&gt; HP: Cryptorchidism (HP:0000028) (not measured)</td>\n",
       "      <td>6</td>\n",
       "    </tr>\n",
       "  </tbody>\n",
       "</table>\n",
       "</div>"
      ],
      "text/plain": [
       "                                                                 mapping count\n",
       "0    original value: \"Yes\" -> HP: Cryptorchidism (HP:0000028) (observed)     1\n",
       "1  original value: \"-\" -> HP: Cryptorchidism (HP:0000028) (not measured)     6"
      ]
     },
     "execution_count": 15,
     "metadata": {},
     "output_type": "execute_result"
    }
   ],
   "source": [
    "# Cryptorchidism HP:0000028\n",
    "cryptorchidismMapper =  SimpleColumnMapper(column_name='Cryptorchidism',hpo_id='HP:0000028',\n",
    "                                    hpo_label='Cryptorchidism', observed='Yes', excluded='−')\n",
    "column_mapper_list.append(cryptorchidismMapper)\n",
    "cryptorchidismMapper.preview_column(dft)"
   ]
  },
  {
   "cell_type": "code",
   "execution_count": 16,
   "id": "c9d139ba",
   "metadata": {},
   "outputs": [
    {
     "data": {
      "text/html": [
       "<div>\n",
       "<style scoped>\n",
       "    .dataframe tbody tr th:only-of-type {\n",
       "        vertical-align: middle;\n",
       "    }\n",
       "\n",
       "    .dataframe tbody tr th {\n",
       "        vertical-align: top;\n",
       "    }\n",
       "\n",
       "    .dataframe thead th {\n",
       "        text-align: right;\n",
       "    }\n",
       "</style>\n",
       "<table border=\"1\" class=\"dataframe\">\n",
       "  <thead>\n",
       "    <tr style=\"text-align: right;\">\n",
       "      <th></th>\n",
       "      <th>mapping</th>\n",
       "      <th>count</th>\n",
       "    </tr>\n",
       "  </thead>\n",
       "  <tbody>\n",
       "    <tr>\n",
       "      <th>0</th>\n",
       "      <td>original value: \"Yes\" -&gt; HP: Cubitus valgus (HP:0002967) (observed)</td>\n",
       "      <td>3</td>\n",
       "    </tr>\n",
       "    <tr>\n",
       "      <th>1</th>\n",
       "      <td>original value: \"-\" -&gt; HP: Cubitus valgus (HP:0002967) (not measured)</td>\n",
       "      <td>4</td>\n",
       "    </tr>\n",
       "  </tbody>\n",
       "</table>\n",
       "</div>"
      ],
      "text/plain": [
       "                                                                 mapping count\n",
       "0    original value: \"Yes\" -> HP: Cubitus valgus (HP:0002967) (observed)     3\n",
       "1  original value: \"-\" -> HP: Cubitus valgus (HP:0002967) (not measured)     4"
      ]
     },
     "execution_count": 16,
     "metadata": {},
     "output_type": "execute_result"
    }
   ],
   "source": [
    "# Cubitus valgus HP:0002967\n",
    "cvalMapper =  SimpleColumnMapper(column_name='Cubitus valgus',hpo_id='HP:0002967',\n",
    "    hpo_label='Cubitus valgus',  observed='Yes',  excluded='−')\n",
    "column_mapper_list.append(cvalMapper)\n",
    "cvalMapper.preview_column(dft)"
   ]
  },
  {
   "cell_type": "code",
   "execution_count": 17,
   "id": "7b9e2cc7",
   "metadata": {},
   "outputs": [
    {
     "data": {
      "text/html": [
       "<div>\n",
       "<style scoped>\n",
       "    .dataframe tbody tr th:only-of-type {\n",
       "        vertical-align: middle;\n",
       "    }\n",
       "\n",
       "    .dataframe tbody tr th {\n",
       "        vertical-align: top;\n",
       "    }\n",
       "\n",
       "    .dataframe thead th {\n",
       "        text-align: right;\n",
       "    }\n",
       "</style>\n",
       "<table border=\"1\" class=\"dataframe\">\n",
       "  <thead>\n",
       "    <tr style=\"text-align: right;\">\n",
       "      <th></th>\n",
       "      <th>mapping</th>\n",
       "      <th>count</th>\n",
       "    </tr>\n",
       "  </thead>\n",
       "  <tbody>\n",
       "    <tr>\n",
       "      <th>0</th>\n",
       "      <td>Abnormality of the kidney (HP:0000077) (observed)</td>\n",
       "      <td>1</td>\n",
       "    </tr>\n",
       "    <tr>\n",
       "      <th>1</th>\n",
       "      <td>Splenomegaly (HP:0001744) (observed)</td>\n",
       "      <td>1</td>\n",
       "    </tr>\n",
       "  </tbody>\n",
       "</table>\n",
       "</div>"
      ],
      "text/plain": [
       "                                             mapping count\n",
       "0  Abnormality of the kidney (HP:0000077) (observed)     1\n",
       "1               Splenomegaly (HP:0001744) (observed)     1"
      ]
     },
     "execution_count": 17,
     "metadata": {},
     "output_type": "execute_result"
    }
   ],
   "source": [
    "# Patient 1 had a small ectopic kidney\n",
    "other_d = {'Splenomegaly': 'Splenomegaly',\n",
    "         'Renal': 'Ectopic kidney', # from paper!\n",
    "             }\n",
    "otherMapper = OptionColumnMapper(column_name='Others',concept_recognizer=hpo_cr, option_d=other_d)\n",
    "column_mapper_list.append(otherMapper)\n",
    "otherMapper.preview_column(dft)"
   ]
  },
  {
   "cell_type": "markdown",
   "id": "d691a996",
   "metadata": {},
   "source": [
    "<h3>Variants</h3>\n",
    "<p>By inspection in ClinVar, the three variants are: NM_002834.5(PTPN11):c.124A>G (p.Thr42Ala), NM_002834.5(PTPN11):c.922A>G (p.Asn308Asp), and  NM_002834.5(PTPN11):c.1510A>G (p.Met504Val) </p>"
   ]
  },
  {
   "cell_type": "code",
   "execution_count": 18,
   "id": "07d11613",
   "metadata": {},
   "outputs": [
    {
     "name": "stdout",
     "output_type": "stream",
     "text": [
      "[INFO] encoding variant \"c.922A>G\"\n",
      "https://rest.variantvalidator.org/VariantValidator/variantvalidator/hg38/NM_002834.5%3Ac.922A>G/NM_002834.5?content-type=application%2Fjson\n",
      "[INFO] encoding variant \"c.124A>G\"\n",
      "https://rest.variantvalidator.org/VariantValidator/variantvalidator/hg38/NM_002834.5%3Ac.124A>G/NM_002834.5?content-type=application%2Fjson\n",
      "[INFO] encoding variant \"c.1510A>G\"\n",
      "https://rest.variantvalidator.org/VariantValidator/variantvalidator/hg38/NM_002834.5%3Ac.1510A>G/NM_002834.5?content-type=application%2Fjson\n"
     ]
    }
   ],
   "source": [
    "ptpn11_transcript='NM_002834.5'\n",
    "ptpn11_id = \"HGNC:9644\"\n",
    "vman = VariantManager(df=dft, individual_column_name=\"individual_id\", allele_1_column_name=\"transcript.hgvs\", gene_symbol=\"PTPN11\", gene_id=ptpn11_id,\n",
    "                      transcript=ptpn11_transcript)\n",
    "\n",
    "var_d = vman.get_variant_d()\n",
    "varMapper = VariantColumnMapper(variant_d=var_d, \n",
    "                                variant_column_name='transcript.hgvs', \n",
    "                                default_genotype=\"heterozygous\")"
   ]
  },
  {
   "cell_type": "code",
   "execution_count": 19,
   "id": "6b27323b",
   "metadata": {},
   "outputs": [],
   "source": [
    "ageMapper = AgeColumnMapper.by_year('Age')\n",
    "#ageMapper.preview_column(dft['Age'])\n",
    "sexMapper = SexColumnMapper(male_symbol='M', female_symbol='F', column_name='Sex')\n",
    "#sexMapper.preview_column(dft['Sex'])"
   ]
  },
  {
   "cell_type": "code",
   "execution_count": 20,
   "id": "9611e896",
   "metadata": {},
   "outputs": [],
   "source": [
    "encoder = CohortEncoder(df=dft, \n",
    "                        hpo_cr=hpo_cr, \n",
    "                        column_mapper_list=column_mapper_list, \n",
    "                        individual_column_name=\"individual_id\", \n",
    "                        age_at_last_encounter_mapper=ageMapper, \n",
    "                        sexmapper=sexMapper,\n",
    "                        metadata=metadata,\n",
    "                        variant_mapper=varMapper)\n",
    "noonan = Disease(disease_id=\"OMIM:163950\", disease_label=\"Noonan syndrome 1\")\n",
    "encoder.set_disease(noonan)"
   ]
  },
  {
   "cell_type": "code",
   "execution_count": 21,
   "id": "066c71d7",
   "metadata": {},
   "outputs": [
    {
     "data": {
      "text/html": [
       "<h2>Cohort validation</h2>\n",
       "<p>Errors found with 7 of 7 phenopackets.</p>\n",
       "<table style=\"border: 2px solid black; align: \"left\">\n",
       "<caption>Error counts</caption>\n",
       "<tr><th style=\"text-align: left;font-weight: bold;\">Level</th><th style=\"text-align: left;font-weight: bold;\">Error category</th><th style=\"text-align: left;font-weight: bold;\">Count</th></tr>\n",
       "<tr><td style=\"text-align: left;\">INFORMATION</td><td style=\"text-align: left;\">NOT_MEASURED</td><td style=\"text-align: left;\">32</td></tr>\n",
       "</table>\n",
       "<p>A total of 32 issues were fixed and no individual was removed from the cohort.</p>"
      ],
      "text/plain": [
       "<IPython.core.display.HTML object>"
      ]
     },
     "metadata": {},
     "output_type": "display_data"
    }
   ],
   "source": [
    "individuals = encoder.get_individuals()\n",
    "cvalidator = CohortValidator(cohort=individuals, ontology=hpo_ontology, min_hpo=1, allelic_requirement=AllelicRequirement.MONO_ALLELIC)\n",
    "qc = QcVisualizer(cohort_validator=cvalidator)\n",
    "display(HTML(qc.to_summary_html()))"
   ]
  },
  {
   "cell_type": "code",
   "execution_count": 22,
   "id": "83a441e0",
   "metadata": {},
   "outputs": [
    {
     "data": {
      "text/html": [
       "<table style=\"border: 2px solid black; align: \"left\">\n",
       "<caption>7 phenopackets - PMID:17661820 (n=7)</caption>\n",
       "<tr><th style=\"text-align: left;font-weight: bold;\">Individual</th><th style=\"text-align: left;font-weight: bold;\">Disease</th><th style=\"text-align: left;font-weight: bold;\">Genotype</th><th style=\"text-align: left;font-weight: bold;\">Phenotypic features</th></tr>\n",
       "<tr><td style=\"text-align: left;\">1 (MALE; P5Y)</td><td style=\"text-align: left;\">Noonan syndrome 1 (OMIM:163950)</td><td style=\"text-align: left;\">NM_002834.5:c.124A>G (heterozygous)</td><td style=\"text-align: left;\">Atrial septal defect (HP:0001631); Bilateral superior vena cava (HP:0033379); Webbed neck (HP:0000465); Short stature (HP:0004322); Pectus excavatum (HP:0000767); Global developmental delay (HP:0001263); Intellectual disability, mild (HP:0001256); Cryptorchidism (HP:0000028); Cubitus valgus (HP:0002967); Abnormality of the kidney (HP:0000077); Splenomegaly (HP:0001744)</td></tr>\n",
       "<tr><td style=\"text-align: left;\">2 (FEMALE; P29Y)</td><td style=\"text-align: left;\">Noonan syndrome 1 (OMIM:163950)</td><td style=\"text-align: left;\">NM_002834.5:c.922A>G (heterozygous)</td><td style=\"text-align: left;\">Pulmonic stenosis (HP:0001642); Webbed neck (HP:0000465); Short stature (HP:0004322); Pectus excavatum (HP:0000767); Global developmental delay (HP:0001263)</td></tr>\n",
       "<tr><td style=\"text-align: left;\">3 (MALE; P4Y)</td><td style=\"text-align: left;\">Noonan syndrome 1 (OMIM:163950)</td><td style=\"text-align: left;\">NM_002834.5:c.922A>G (heterozygous)</td><td style=\"text-align: left;\">Atrial septal defect (HP:0001631); Pulmonic stenosis (HP:0001642); Pulmonary artery hypoplasia (HP:0004971); Short stature (HP:0004322); Pectus excavatum (HP:0000767); Hearing impairment (HP:0000365); Global developmental delay (HP:0001263)</td></tr>\n",
       "<tr><td style=\"text-align: left;\">4 (FEMALE; P2Y)</td><td style=\"text-align: left;\">Noonan syndrome 1 (OMIM:163950)</td><td style=\"text-align: left;\">NM_002834.5:c.922A>G (heterozygous)</td><td style=\"text-align: left;\">Ventricular septal defect (HP:0001629); Pulmonic stenosis (HP:0001642); Short stature (HP:0004322); Feeding difficulties (HP:0011968); Hearing impairment (HP:0000365); Global developmental delay (HP:0001263)</td></tr>\n",
       "<tr><td style=\"text-align: left;\">5 (FEMALE; P30Y)</td><td style=\"text-align: left;\">Noonan syndrome 1 (OMIM:163950)</td><td style=\"text-align: left;\">NM_002834.5:c.922A>G (heterozygous)</td><td style=\"text-align: left;\">Pulmonic stenosis (HP:0001642); Webbed neck (HP:0000465); Short stature (HP:0004322)</td></tr>\n",
       "<tr><td style=\"text-align: left;\">6 (MALE; P6Y)</td><td style=\"text-align: left;\">Noonan syndrome 1 (OMIM:163950)</td><td style=\"text-align: left;\">NM_002834.5:c.922A>G (heterozygous)</td><td style=\"text-align: left;\">Atrial septal defect (HP:0001631); Pulmonic stenosis (HP:0001642); Webbed neck (HP:0000465); Pectus excavatum (HP:0000767); Hearing impairment (HP:0000365); Global developmental delay (HP:0001263); Cubitus valgus (HP:0002967)</td></tr>\n",
       "<tr><td style=\"text-align: left;\">7 (MALE; P3Y)</td><td style=\"text-align: left;\">Noonan syndrome 1 (OMIM:163950)</td><td style=\"text-align: left;\">NM_002834.5:c.1510A>G (heterozygous)</td><td style=\"text-align: left;\">Atrial septal defect (HP:0001631); Pulmonic stenosis (HP:0001642); Webbed neck (HP:0000465); Short stature (HP:0004322); Pectus excavatum (HP:0000767); Hearing impairment (HP:0000365); Cubitus valgus (HP:0002967)</td></tr>\n",
       "</table>"
      ],
      "text/plain": [
       "<IPython.core.display.HTML object>"
      ]
     },
     "metadata": {},
     "output_type": "display_data"
    }
   ],
   "source": [
    "individuals = cvalidator.get_error_free_individual_list()\n",
    "table = PhenopacketTable(individual_list=individuals, metadata=metadata)\n",
    "display(HTML(table.to_html()))"
   ]
  },
  {
   "cell_type": "code",
   "execution_count": 23,
   "id": "c59b9235",
   "metadata": {},
   "outputs": [
    {
     "name": "stdout",
     "output_type": "stream",
     "text": [
      "We output 7 GA4GH phenopackets to the directory phenopackets\n"
     ]
    }
   ],
   "source": [
    "Individual.output_individuals_as_phenopackets(individual_list=individuals,\n",
    "                                              metadata=metadata)"
   ]
  },
  {
   "cell_type": "code",
   "execution_count": null,
   "id": "fef8ba2a",
   "metadata": {},
   "outputs": [],
   "source": []
  }
 ],
 "metadata": {
  "kernelspec": {
   "display_name": "ps24venv",
   "language": "python",
   "name": "python3"
  },
  "language_info": {
   "codemirror_mode": {
    "name": "ipython",
    "version": 3
   },
   "file_extension": ".py",
   "mimetype": "text/x-python",
   "name": "python",
   "nbconvert_exporter": "python",
   "pygments_lexer": "ipython3",
   "version": "3.9.6"
  }
 },
 "nbformat": 4,
 "nbformat_minor": 5
}
