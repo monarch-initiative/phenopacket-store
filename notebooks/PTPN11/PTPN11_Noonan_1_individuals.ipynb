{
 "cells": [
  {
   "cell_type": "markdown",
   "id": "3dda740a-c6f4-477f-a86d-e40c86c3ea3e",
   "metadata": {},
   "source": [
    "# PTPN11 Noonan syndrome 1 individuals\n",
    "Data taken from various case reports"
   ]
  },
  {
   "cell_type": "code",
   "execution_count": 1,
   "id": "dee39119-0945-4da6-997a-074f4802d3e5",
   "metadata": {},
   "outputs": [
    {
     "name": "stdout",
     "output_type": "stream",
     "text": [
      "Using pyphetools version 0.9.79\n"
     ]
    },
    {
     "name": "stderr",
     "output_type": "stream",
     "text": [
      "/Users/robin/GIT/phenopacket-store/ps24venv/lib/python3.9/site-packages/urllib3/__init__.py:35: NotOpenSSLWarning: urllib3 v2 only supports OpenSSL 1.1.1+, currently the 'ssl' module is compiled with 'LibreSSL 2.8.3'. See: https://github.com/urllib3/urllib3/issues/3020\n",
      "  warnings.warn(\n"
     ]
    }
   ],
   "source": [
    "from pyphetools.creation import TemplateImporter\n",
    "from pyphetools.visualization import IndividualTable, QcVisualizer\n",
    "from IPython.display import display, HTML\n",
    "import pyphetools\n",
    "print(f\"Using pyphetools version {pyphetools.__version__}\")"
   ]
  },
  {
   "cell_type": "code",
   "execution_count": 2,
   "id": "5cb9bf5b-78a1-46bf-9225-6761d66e1cfe",
   "metadata": {},
   "outputs": [],
   "source": [
    "template = \"input/PTPN11_Noonan_1_individuals.xlsx\"\n",
    "hp_json = \"../hp.json\"\n",
    "created_by = \"0000-0002-0736-9199\""
   ]
  },
  {
   "cell_type": "code",
   "execution_count": 3,
   "id": "f460ce97-5eec-4c85-965f-345aab2fb48a",
   "metadata": {},
   "outputs": [
    {
     "name": "stdout",
     "output_type": "stream",
     "text": [
      "HPO version 2024-04-04\n",
      "Created encoders for 30 fields\n",
      "Importing OMIM:163950, Noonan syndrome 1, HGNC:9644, PTPN11,  NM_002834.5\n",
      "[INFO] encoding variant \"c.853T>C\"\n",
      "https://rest.variantvalidator.org/VariantValidator/variantvalidator/hg38/NM_002834.5%3Ac.853T>C/NM_002834.5?content-type=application%2Fjson\n",
      "We output 1 GA4GH phenopackets to the directory phenopackets\n"
     ]
    }
   ],
   "source": [
    "timporter = TemplateImporter(template=template, hp_json=hp_json, created_by=created_by)\n",
    "individual_list, cvalidator = timporter.import_phenopackets_from_template()"
   ]
  },
  {
   "cell_type": "code",
   "execution_count": 4,
   "id": "282a2f19-e9b3-49dc-b2c2-2cb43a451d07",
   "metadata": {},
   "outputs": [
    {
     "data": {
      "text/html": [
       "<h2>Cohort validation</h2>\n",
       "<p>No errors found for the cohort with 1 individuals</p>"
      ],
      "text/plain": [
       "<IPython.core.display.HTML object>"
      ]
     },
     "metadata": {},
     "output_type": "display_data"
    }
   ],
   "source": [
    "qc = QcVisualizer(cohort_validator=cvalidator)\n",
    "display(HTML(qc.to_summary_html()))"
   ]
  },
  {
   "cell_type": "code",
   "execution_count": 5,
   "id": "da4fa573-1100-4b75-85bf-1c5f3d71d748",
   "metadata": {},
   "outputs": [
    {
     "data": {
      "text/html": [
       "<table style=\"border: 2px solid black; align: \"left\">\n",
       "<caption>1 phenopacket - PMID:36544606 (n=1)</caption>\n",
       "<tr><th style=\"text-align: left;font-weight: bold;\">Individual</th><th style=\"text-align: left;font-weight: bold;\">Disease</th><th style=\"text-align: left;font-weight: bold;\">Genotype</th><th style=\"text-align: left;font-weight: bold;\">Phenotypic features</th></tr>\n",
       "<tr><td style=\"text-align: left;\">male infant (MALE; P5M)</td><td style=\"text-align: left;\">Noonan syndrome 1 (OMIM:163950)</td><td style=\"text-align: left;\">NM_002834.5:c.853T>C (heterozygous)</td><td style=\"text-align: left;\"><b>P5M</b>: Pulmonic stenosis (HP:0001642); Hypertrophic cardiomyopathy (HP:0001639); Atelectasis (HP:0100750); Pleural effusion (HP:0002202)<br/>Fetal chylothorax (HP:0025677); Low-set ears (HP:0000369); Pectus excavatum (HP:0000767); Cryptorchidism (HP:0000028); Prominent forehead (HP:0011220); Webbed neck (HP:0000465); Micrognathia (HP:0000347); Short sternum (HP:0000879)</td></tr>\n",
       "</table>"
      ],
      "text/plain": [
       "<IPython.core.display.HTML object>"
      ]
     },
     "metadata": {},
     "output_type": "display_data"
    }
   ],
   "source": [
    "table = IndividualTable(cvalidator.get_error_free_individual_list())\n",
    "display(HTML(table.to_html()))"
   ]
  },
  {
   "cell_type": "code",
   "execution_count": null,
   "id": "a0b3db3d-9e3f-4d80-a799-996903260caa",
   "metadata": {},
   "outputs": [],
   "source": []
  }
 ],
 "metadata": {
  "kernelspec": {
   "display_name": "ps24venv",
   "language": "python",
   "name": "python3"
  },
  "language_info": {
   "codemirror_mode": {
    "name": "ipython",
    "version": 3
   },
   "file_extension": ".py",
   "mimetype": "text/x-python",
   "name": "python",
   "nbconvert_exporter": "python",
   "pygments_lexer": "ipython3",
   "version": "3.9.6"
  }
 },
 "nbformat": 4,
 "nbformat_minor": 5
}
