{
 "cells": [
  {
   "cell_type": "markdown",
   "id": "3dda740a-c6f4-477f-a86d-e40c86c3ea3e",
   "metadata": {},
   "source": [
    "# PTPN11 Noonan syndrome 1 individuals\n",
    "Data taken from various case reports"
   ]
  },
  {
   "cell_type": "code",
   "execution_count": 5,
   "id": "dee39119-0945-4da6-997a-074f4802d3e5",
   "metadata": {},
   "outputs": [
    {
     "name": "stdout",
     "output_type": "stream",
     "text": [
      "Using pyphetools version 0.9.66\n"
     ]
    }
   ],
   "source": [
    "from pyphetools.creation import TemplateImporter\n",
    "from pyphetools.visualization import IndividualTable, QcVisualizer\n",
    "from IPython.display import display, HTML\n",
    "import pyphetools\n",
    "print(f\"Using pyphetools version {pyphetools.__version__}\")"
   ]
  },
  {
   "cell_type": "code",
   "execution_count": 6,
   "id": "5cb9bf5b-78a1-46bf-9225-6761d66e1cfe",
   "metadata": {},
   "outputs": [],
   "source": [
    "template = \"input/PTPN11_Noonan_1_individuals.xlsx\"\n",
    "hp_json = \"../hp.json\"\n",
    "created_by = \"0000-0002-0736-9199\""
   ]
  },
  {
   "cell_type": "code",
   "execution_count": 7,
   "id": "f460ce97-5eec-4c85-965f-345aab2fb48a",
   "metadata": {},
   "outputs": [
    {
     "name": "stdout",
     "output_type": "stream",
     "text": [
      "HPO version 2024-03-06\n",
      "Created encoders for 30 fields\n",
      " we got OMIM:163950  NM_002834.5\n",
      "[INFO] encoding variant \"c.853T>C\"\n",
      "https://rest.variantvalidator.org/VariantValidator/variantvalidator/hg38/NM_002834.5%3Ac.853T>C/NM_002834.5?content-type=application%2Fjson\n",
      "[ERROR] Could not retrieve Variant Validator information for c.853T>C: Expecting value: line 1 column 1 (char 0)\n",
      "We were able to map 24 alleles.\n",
      "The following alleles could not be mapped. Either there is an error or the variants are structural and require special treatment (see documentation)\n",
      "- NM_002834.5:c.853T>C\n",
      "Fix this error and then try again!\n"
     ]
    },
    {
     "ename": "SystemExit",
     "evalue": "1",
     "output_type": "error",
     "traceback": [
      "An exception has occurred, use %tb to see the full traceback.\n",
      "\u001b[0;31mSystemExit\u001b[0m\u001b[0;31m:\u001b[0m 1\n"
     ]
    },
    {
     "name": "stderr",
     "output_type": "stream",
     "text": [
      "/Users/robinp/GIT/phenopacket-store/ps24venv/lib/python3.8/site-packages/IPython/core/interactiveshell.py:3516: UserWarning: To exit: use 'exit', 'quit', or Ctrl-D.\n",
      "  warn(\"To exit: use 'exit', 'quit', or Ctrl-D.\", stacklevel=1)\n"
     ]
    }
   ],
   "source": [
    "timporter = TemplateImporter(template=template, hp_json=hp_json, created_by=created_by)\n",
    "individual_list, cvalidator = timporter.import_phenopackets_from_template()"
   ]
  },
  {
   "cell_type": "code",
   "execution_count": 6,
   "id": "282a2f19-e9b3-49dc-b2c2-2cb43a451d07",
   "metadata": {},
   "outputs": [
    {
     "data": {
      "text/html": [
       "<h2>Cohort validation</h2>\n",
       "<p>No errors found for the cohort with 1 individuals</p>"
      ],
      "text/plain": [
       "<IPython.core.display.HTML object>"
      ]
     },
     "metadata": {},
     "output_type": "display_data"
    }
   ],
   "source": [
    "qc = QcVisualizer(cohort_validator=cvalidator)\n",
    "display(HTML(qc.to_summary_html()))"
   ]
  },
  {
   "cell_type": "code",
   "execution_count": 7,
   "id": "da4fa573-1100-4b75-85bf-1c5f3d71d748",
   "metadata": {},
   "outputs": [
    {
     "data": {
      "text/html": [
       "<table style=\"border: 2px solid black; align: \"left\">\n",
       "<caption>1 phenopacket - PMID:36544606 (n=1)</caption>\n",
       "<tr><th style=\"text-align: left;font-weight: bold;\">Individual</th><th style=\"text-align: left;font-weight: bold;\">Disease</th><th style=\"text-align: left;font-weight: bold;\">Genotype</th><th style=\"text-align: left;font-weight: bold;\">Phenotypic features</th></tr>\n",
       "<tr><td style=\"text-align: left;\">patient (MALE; )</td><td style=\"text-align: left;\">Noonan syndrome 1 (OMIM:163950)</td><td style=\"text-align: left;\">NM_002834.5:c.853T>C (heterozygous)</td><td style=\"text-align: left;\"><b>P0Y5M0D</b>: Atelectasis (HP:0100750); Hypertrophic cardiomyopathy (HP:0001639); Low-set ears (HP:0000369); Micrognathia (HP:0000347); Pectus excavatum (HP:0000767); Pleural effusion (HP:0002202); Prominent forehead (HP:0011220); Pulmonic stenosis (HP:0001642); Short sternum (HP:0000879); Webbed neck (HP:0000465)<br/>Cryptorchidism (HP:0000028); Fetal chylothorax (HP:0025677)</td></tr>\n",
       "</table>"
      ],
      "text/plain": [
       "<IPython.core.display.HTML object>"
      ]
     },
     "metadata": {},
     "output_type": "display_data"
    }
   ],
   "source": [
    "table = IndividualTable(cvalidator.get_error_free_individual_list())\n",
    "display(HTML(table.to_html()))"
   ]
  },
  {
   "cell_type": "code",
   "execution_count": null,
   "id": "a0b3db3d-9e3f-4d80-a799-996903260caa",
   "metadata": {},
   "outputs": [],
   "source": []
  }
 ],
 "metadata": {
  "kernelspec": {
   "display_name": "ps24venv",
   "language": "python",
   "name": "ps24venv"
  },
  "language_info": {
   "codemirror_mode": {
    "name": "ipython",
    "version": 3
   },
   "file_extension": ".py",
   "mimetype": "text/x-python",
   "name": "python",
   "nbconvert_exporter": "python",
   "pygments_lexer": "ipython3",
   "version": "3.8.10"
  }
 },
 "nbformat": 4,
 "nbformat_minor": 5
}
