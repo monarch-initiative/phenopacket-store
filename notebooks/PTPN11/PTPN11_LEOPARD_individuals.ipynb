{
 "cells": [
  {
   "cell_type": "markdown",
   "id": "554a9c17-4f26-4c53-8915-2bf419a4e0a4",
   "metadata": {},
   "source": [
    "# PTPN11  LEOPARD syndrome 1 \n",
    "\n",
    "[LEOPARD syndrome 1](https://omim.org/entry/151100) can be caused by heterozygous variants in PTPN11.\n",
    "The acronym LEOPARD syndrome was introduced by Gorlin et al1 for the combination of multiple Lentigines, ECG abnormalities, Ocular hypertelorism, Pulmonary stenosis, Abnormalities of the genitalia, Retardation of growth, and Deafness. "
   ]
  },
  {
   "cell_type": "code",
   "execution_count": 1,
   "id": "45ab1e66-c890-4f08-a72e-c1dfba1b614c",
   "metadata": {},
   "outputs": [
    {
     "name": "stdout",
     "output_type": "stream",
     "text": [
      "Using pyphetools version 0.9.79\n"
     ]
    },
    {
     "name": "stderr",
     "output_type": "stream",
     "text": [
      "/Users/robin/GIT/phenopacket-store/ps24venv/lib/python3.9/site-packages/urllib3/__init__.py:35: NotOpenSSLWarning: urllib3 v2 only supports OpenSSL 1.1.1+, currently the 'ssl' module is compiled with 'LibreSSL 2.8.3'. See: https://github.com/urllib3/urllib3/issues/3020\n",
      "  warnings.warn(\n"
     ]
    }
   ],
   "source": [
    "from pyphetools.creation import TemplateImporter\n",
    "from pyphetools.visualization import IndividualTable, QcVisualizer\n",
    "from IPython.display import display, HTML\n",
    "import pyphetools\n",
    "print(f\"Using pyphetools version {pyphetools.__version__}\")"
   ]
  },
  {
   "cell_type": "code",
   "execution_count": 2,
   "id": "98a2fa49-2b22-4f71-9d10-685917e6ecdf",
   "metadata": {},
   "outputs": [],
   "source": [
    "template = \"input/PTPN11_LEOPARD_1_individuals.xlsx\"\n",
    "hp_json = \"../hp.json\"\n",
    "created_by = \"0000-0002-0736-9199\""
   ]
  },
  {
   "cell_type": "code",
   "execution_count": 3,
   "id": "638e8453-d82e-4e47-acf0-8c00eed9517c",
   "metadata": {},
   "outputs": [
    {
     "name": "stdout",
     "output_type": "stream",
     "text": [
      "HPO version 2024-04-04\n",
      "Created encoders for 56 fields\n",
      "Importing OMIM:151100, LEOPARD syndrome 1, HGNC:9644, PTPN11,  NM_002834.5\n",
      "We output 31 GA4GH phenopackets to the directory phenopackets\n"
     ]
    }
   ],
   "source": [
    "timporter = TemplateImporter(template=template, hp_json=hp_json, created_by=created_by)\n",
    "individual_list, cvalidator = timporter.import_phenopackets_from_template()"
   ]
  },
  {
   "cell_type": "code",
   "execution_count": 4,
   "id": "f3f95139-b132-4036-8ca9-1d29704a5c48",
   "metadata": {},
   "outputs": [
    {
     "data": {
      "text/html": [
       "<h2>Cohort validation</h2>\n",
       "<p>No errors found for the cohort with 31 individuals</p>"
      ],
      "text/plain": [
       "<IPython.core.display.HTML object>"
      ]
     },
     "metadata": {},
     "output_type": "display_data"
    }
   ],
   "source": [
    "qc = QcVisualizer(cohort_validator=cvalidator)\n",
    "display(HTML(qc.to_summary_html()))"
   ]
  }
 ],
 "metadata": {
  "kernelspec": {
   "display_name": "ps24venv",
   "language": "python",
   "name": "python3"
  },
  "language_info": {
   "codemirror_mode": {
    "name": "ipython",
    "version": 3
   },
   "file_extension": ".py",
   "mimetype": "text/x-python",
   "name": "python",
   "nbconvert_exporter": "python",
   "pygments_lexer": "ipython3",
   "version": "3.9.6"
  }
 },
 "nbformat": 4,
 "nbformat_minor": 5
}
