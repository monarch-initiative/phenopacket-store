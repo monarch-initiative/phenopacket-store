{
 "cells": [
  {
   "cell_type": "markdown",
   "id": "554a9c17-4f26-4c53-8915-2bf419a4e0a4",
   "metadata": {},
   "source": [
    "# PTPN11  LEOPARD syndrome 1 \n",
    "\n",
    "[LEOPARD syndrome 1](https://omim.org/entry/151100) can be caused by heterozygous variants in PTPN11.\n",
    "The acronym LEOPARD syndrome was introduced by Gorlin et al1 for the combination of multiple Lentigines, ECG abnormalities, Ocular hypertelorism, Pulmonary stenosis, Abnormalities of the genitalia, Retardation of growth, and Deafness. "
   ]
  },
  {
   "cell_type": "code",
   "execution_count": 1,
   "id": "45ab1e66-c890-4f08-a72e-c1dfba1b614c",
   "metadata": {},
   "outputs": [
    {
     "name": "stdout",
     "output_type": "stream",
     "text": [
      "Using pyphetools version 0.9.66\n"
     ]
    }
   ],
   "source": [
    "from pyphetools.creation import TemplateImporter\n",
    "from pyphetools.visualization import IndividualTable, QcVisualizer\n",
    "from IPython.display import display, HTML\n",
    "import pyphetools\n",
    "print(f\"Using pyphetools version {pyphetools.__version__}\")"
   ]
  },
  {
   "cell_type": "code",
   "execution_count": 2,
   "id": "98a2fa49-2b22-4f71-9d10-685917e6ecdf",
   "metadata": {},
   "outputs": [],
   "source": [
    "template = \"input/PTPN11_LEOPARD_1_individuals.xlsx\"\n",
    "hp_json = \"../hp.json\"\n",
    "created_by = \"0000-0002-0736-9199\""
   ]
  },
  {
   "cell_type": "code",
   "execution_count": 3,
   "id": "638e8453-d82e-4e47-acf0-8c00eed9517c",
   "metadata": {},
   "outputs": [
    {
     "name": "stdout",
     "output_type": "stream",
     "text": [
      "HPO version 2024-03-06\n",
      "Created encoders for 52 fields\n",
      " we got OMIM:151100  NM_002834.5\n",
      "[INFO] encoding variant \"c.1528C>G\"\n",
      "https://rest.variantvalidator.org/VariantValidator/variantvalidator/hg38/NM_002834.5%3Ac.1528C>G/NM_002834.5?content-type=application%2Fjson\n",
      "[ERROR] Could not retrieve Variant Validator information for c.1528C>G: Expecting value: line 1 column 1 (char 0)\n",
      "We were able to map 25 alleles.\n",
      "The following alleles could not be mapped. Either there is an error or the variants are structural and require special treatment (see documentation)\n",
      "- NM_002834.5:c.1528C>G\n",
      "Fix this error and then try again!\n"
     ]
    },
    {
     "ename": "SystemExit",
     "evalue": "1",
     "output_type": "error",
     "traceback": [
      "An exception has occurred, use %tb to see the full traceback.\n",
      "\u001b[0;31mSystemExit\u001b[0m\u001b[0;31m:\u001b[0m 1\n"
     ]
    },
    {
     "name": "stderr",
     "output_type": "stream",
     "text": [
      "/Users/robinp/GIT/phenopacket-store/ps24venv/lib/python3.8/site-packages/IPython/core/interactiveshell.py:3516: UserWarning: To exit: use 'exit', 'quit', or Ctrl-D.\n",
      "  warn(\"To exit: use 'exit', 'quit', or Ctrl-D.\", stacklevel=1)\n"
     ]
    }
   ],
   "source": [
    "timporter = TemplateImporter(template=template, hp_json=hp_json, created_by=created_by)\n",
    "individual_list, cvalidator = timporter.import_phenopackets_from_template()"
   ]
  },
  {
   "cell_type": "code",
   "execution_count": null,
   "id": "f3f95139-b132-4036-8ca9-1d29704a5c48",
   "metadata": {},
   "outputs": [],
   "source": [
    "qc = QcVisualizer(cohort_validator=cvalidator)\n",
    "display(HTML(qc.to_summary_html()))"
   ]
  }
 ],
 "metadata": {
  "kernelspec": {
   "display_name": "ps24venv",
   "language": "python",
   "name": "ps24venv"
  },
  "language_info": {
   "codemirror_mode": {
    "name": "ipython",
    "version": 3
   },
   "file_extension": ".py",
   "mimetype": "text/x-python",
   "name": "python",
   "nbconvert_exporter": "python",
   "pygments_lexer": "ipython3",
   "version": "3.8.10"
  }
 },
 "nbformat": 4,
 "nbformat_minor": 5
}
