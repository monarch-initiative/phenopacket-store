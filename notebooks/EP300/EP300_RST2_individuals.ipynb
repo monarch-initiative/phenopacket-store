{
 "cells": [
  {
   "cell_type": "markdown",
   "metadata": {},
   "source": [
    "# EP300\n",
    "[Rubinstein-Taybi syndrome-2 (RSTS2)](https://omim.org/entry/613684) is caused by heterozygous mutation in the EP300 gene."
   ]
  },
  {
   "cell_type": "code",
   "execution_count": 1,
   "metadata": {},
   "outputs": [
    {
     "name": "stderr",
     "output_type": "stream",
     "text": [
      "/Users/robin/GIT/phenopacket-store/ps24venv/lib/python3.9/site-packages/urllib3/__init__.py:35: NotOpenSSLWarning: urllib3 v2 only supports OpenSSL 1.1.1+, currently the 'ssl' module is compiled with 'LibreSSL 2.8.3'. See: https://github.com/urllib3/urllib3/issues/3020\n",
      "  warnings.warn(\n"
     ]
    },
    {
     "name": "stdout",
     "output_type": "stream",
     "text": [
      "Using pyphetools version 0.9.92\n"
     ]
    }
   ],
   "source": [
    "from pyphetools.creation import TemplateImporter\n",
    "from pyphetools.visualization import IndividualTable, QcVisualizer\n",
    "from IPython.display import display, HTML\n",
    "import pyphetools\n",
    "print(f\"Using pyphetools version {pyphetools.__version__}\")"
   ]
  },
  {
   "cell_type": "code",
   "execution_count": 2,
   "metadata": {},
   "outputs": [],
   "source": [
    "template = \"input/EP300_RST2_individuals.xlsx\"\n",
    "created_by = \"0000-0002-0736-9199\""
   ]
  },
  {
   "cell_type": "code",
   "execution_count": 8,
   "metadata": {},
   "outputs": [
    {
     "name": "stdout",
     "output_type": "stream",
     "text": [
      "HPO version 2024-07-01\n",
      "Created encoders for 54 fields\n",
      "Importing OMIM:613684, Rubinstein-Taybi syndrome 2, HGNC:3373, EP300,  NM_001429.4\n",
      "We output 9 GA4GH phenopackets to the directory phenopackets\n"
     ]
    }
   ],
   "source": [
    "del_set = {\"DEL:Ex. 12–21\"}\n",
    "timporter = TemplateImporter(template=template,  created_by=created_by)\n",
    "individual_list, cvalidator = timporter.import_phenopackets_from_template(deletions=del_set)"
   ]
  },
  {
   "cell_type": "code",
   "execution_count": 9,
   "metadata": {},
   "outputs": [
    {
     "data": {
      "text/html": [
       "<h2>Cohort validation</h2>\n",
       "<p>No errors found for the cohort with 9 individuals</p>"
      ],
      "text/plain": [
       "<IPython.core.display.HTML object>"
      ]
     },
     "metadata": {},
     "output_type": "display_data"
    }
   ],
   "source": [
    "qc = QcVisualizer(cohort_validator=cvalidator)\n",
    "display(HTML(qc.to_summary_html()))"
   ]
  },
  {
   "cell_type": "code",
   "execution_count": 10,
   "metadata": {},
   "outputs": [
    {
     "data": {
      "text/html": [
       "<table style=\"border: 2px solid black; align: \"left\">\n",
       "<caption>9 phenopackets - PMID:29506490 (n=9)</caption>\n",
       "<tr><th style=\"text-align: left;font-weight: bold;\">Individual</th><th style=\"text-align: left;font-weight: bold;\">Disease</th><th style=\"text-align: left;font-weight: bold;\">Genotype</th><th style=\"text-align: left;font-weight: bold;\">Phenotypic features</th></tr>\n",
       "<tr><td style=\"text-align: left;\">Patient #11 (MALE; P18Y)</td><td style=\"text-align: left;\">Rubinstein-Taybi syndrome 2 (OMIM:613684)</td><td style=\"text-align: left;\">NM_001429.4:c.4954_4957dup (heterozygous)</td><td style=\"text-align: left;\">Feeding difficulties (HP:0011968); Global developmental delay (HP:0001263); Prominent nose (HP:0000448); High palate (HP:0000218); Dental crowding (HP:0000678); Intellectual disability (HP:0001249); Microcephaly (HP:0000252); Broad hallux (HP:0010055); Hirsutism (HP:0001007); Narrow mouth (HP:0000160); Thick eyebrow (HP:0000574); Low hanging columella (HP:0009765); Downslanted palpebral fissures (HP:0000494); Long eyelashes (HP:0000527); Broad thumb (HP:0011304); excluded: Delayed speech and language development (HP:0000750); excluded: Autistic behavior (HP:0000729); excluded: Scoliosis (HP:0002650); excluded: Coloboma (HP:0000589); excluded: Strabismus (HP:0000486); excluded: Dental malocclusion (HP:0000689); excluded: Talon cusp (HP:0011087); excluded: Micrognathia (HP:0000347); excluded: Low-set ears (HP:0000369); excluded: Posteriorly rotated ears (HP:0000358)</td></tr>\n",
       "<tr><td style=\"text-align: left;\">Patient #27 (MALE; P16Y)</td><td style=\"text-align: left;\">Rubinstein-Taybi syndrome 2 (OMIM:613684)</td><td style=\"text-align: left;\">NM_001429.4:c.3728+5G>C (heterozygous)</td><td style=\"text-align: left;\">Feeding difficulties (HP:0011968); Global developmental delay (HP:0001263); Delayed speech and language development (HP:0000750); Autistic behavior (HP:0000729); Prominent nose (HP:0000448); High palate (HP:0000218); Strabismus (HP:0000486); Dental malocclusion (HP:0000689); Dental crowding (HP:0000678); Micrognathia (HP:0000347); Intellectual disability (HP:0001249); Microcephaly (HP:0000252); Broad hallux (HP:0010055); Low-set ears (HP:0000369); Posteriorly rotated ears (HP:0000358); Narrow mouth (HP:0000160); Thick eyebrow (HP:0000574); Low hanging columella (HP:0009765); Downslanted palpebral fissures (HP:0000494); excluded: Scoliosis (HP:0002650); excluded: Coloboma (HP:0000589); excluded: Talon cusp (HP:0011087); excluded: Hirsutism (HP:0001007); excluded: Long eyelashes (HP:0000527); excluded: Broad thumb (HP:0011304)</td></tr>\n",
       "<tr><td style=\"text-align: left;\">Patient #38 (MALE; P21Y)</td><td style=\"text-align: left;\">Rubinstein-Taybi syndrome 2 (OMIM:613684)</td><td style=\"text-align: left;\">NM_001429.4:c.3163C>T (heterozygous)</td><td style=\"text-align: left;\">Global developmental delay (HP:0001263); Delayed speech and language development (HP:0000750); Autistic behavior (HP:0000729); Prominent nose (HP:0000448); High palate (HP:0000218); Strabismus (HP:0000486); Dental malocclusion (HP:0000689); Dental crowding (HP:0000678); Intellectual disability (HP:0001249); Microcephaly (HP:0000252); Broad hallux (HP:0010055); Hirsutism (HP:0001007); Narrow mouth (HP:0000160); Thick eyebrow (HP:0000574); Low hanging columella (HP:0009765); Downslanted palpebral fissures (HP:0000494); Long eyelashes (HP:0000527); Broad thumb (HP:0011304); excluded: Scoliosis (HP:0002650); excluded: Coloboma (HP:0000589); excluded: Talon cusp (HP:0011087); excluded: Micrognathia (HP:0000347); excluded: Feeding difficulties (HP:0011968); excluded: Low-set ears (HP:0000369); excluded: Posteriorly rotated ears (HP:0000358)</td></tr>\n",
       "<tr><td style=\"text-align: left;\">Patient #42 (MALE; P9Y)</td><td style=\"text-align: left;\">Rubinstein-Taybi syndrome 2 (OMIM:613684)</td><td style=\"text-align: left;\">NM_001429.4:c.6627_6638del (heterozygous)</td><td style=\"text-align: left;\">Global developmental delay (HP:0001263); Delayed speech and language development (HP:0000750); Autistic behavior (HP:0000729); Prominent nose (HP:0000448); High palate (HP:0000218); Intellectual disability (HP:0001249); Microcephaly (HP:0000252); Broad hallux (HP:0010055); Low hanging columella (HP:0009765); Downslanted palpebral fissures (HP:0000494); Long eyelashes (HP:0000527); Broad thumb (HP:0011304); excluded: Scoliosis (HP:0002650); excluded: Coloboma (HP:0000589); excluded: Strabismus (HP:0000486); excluded: Dental malocclusion (HP:0000689); excluded: Talon cusp (HP:0011087); excluded: Dental crowding (HP:0000678); excluded: Micrognathia (HP:0000347); excluded: Feeding difficulties (HP:0011968); excluded: Hirsutism (HP:0001007); excluded: Low-set ears (HP:0000369); excluded: Posteriorly rotated ears (HP:0000358); excluded: Narrow mouth (HP:0000160); excluded: Thick eyebrow (HP:0000574)</td></tr>\n",
       "<tr><td style=\"text-align: left;\">Patient #45 daughter (FEMALE; P9Y)</td><td style=\"text-align: left;\">Rubinstein-Taybi syndrome 2 (OMIM:613684)</td><td style=\"text-align: left;\">NM_001429.4:c.7222_7223del (heterozygous)</td><td style=\"text-align: left;\">Prominent nose (HP:0000448); High palate (HP:0000218); Intellectual disability (HP:0001249); Microcephaly (HP:0000252); Posteriorly rotated ears (HP:0000358); Narrow mouth (HP:0000160); Low hanging columella (HP:0009765); Downslanted palpebral fissures (HP:0000494); Long eyelashes (HP:0000527); Broad thumb (HP:0011304); excluded: Global developmental delay (HP:0001263); excluded: Delayed speech and language development (HP:0000750); excluded: Autistic behavior (HP:0000729); excluded: Scoliosis (HP:0002650); excluded: Coloboma (HP:0000589); excluded: Strabismus (HP:0000486); excluded: Dental malocclusion (HP:0000689); excluded: Talon cusp (HP:0011087); excluded: Dental crowding (HP:0000678); excluded: Micrognathia (HP:0000347); excluded: Feeding difficulties (HP:0011968); excluded: Broad hallux (HP:0010055); excluded: Hirsutism (HP:0001007); excluded: Low-set ears (HP:0000369); excluded: Thick eyebrow (HP:0000574)</td></tr>\n",
       "<tr><td style=\"text-align: left;\">Patient #45 mother (FEMALE; P42Y)</td><td style=\"text-align: left;\">Rubinstein-Taybi syndrome 2 (OMIM:613684)</td><td style=\"text-align: left;\">NM_001429.4:c.7222_7223del (heterozygous)</td><td style=\"text-align: left;\">Prominent nose (HP:0000448); Talon cusp (HP:0011087); Intellectual disability (HP:0001249); Microcephaly (HP:0000252); Posteriorly rotated ears (HP:0000358); Low hanging columella (HP:0009765); Long eyelashes (HP:0000527); Broad thumb (HP:0011304); excluded: Global developmental delay (HP:0001263); excluded: Delayed speech and language development (HP:0000750); excluded: Autistic behavior (HP:0000729); excluded: Scoliosis (HP:0002650); excluded: High palate (HP:0000218); excluded: Coloboma (HP:0000589); excluded: Strabismus (HP:0000486); excluded: Dental malocclusion (HP:0000689); excluded: Dental crowding (HP:0000678); excluded: Micrognathia (HP:0000347); excluded: Broad hallux (HP:0010055); excluded: Hirsutism (HP:0001007); excluded: Low-set ears (HP:0000369); excluded: Narrow mouth (HP:0000160); excluded: Thick eyebrow (HP:0000574); excluded: Downslanted palpebral fissures (HP:0000494)</td></tr>\n",
       "<tr><td style=\"text-align: left;\">Patient #47 (MALE; Infantile onset (HP:0003593))</td><td style=\"text-align: left;\">Rubinstein-Taybi syndrome 2 (OMIM:613684)</td><td style=\"text-align: left;\">NM_001429.4:c.4511T>G (heterozygous)</td><td style=\"text-align: left;\">Prominent nose (HP:0000448); Micrognathia (HP:0000347); Microcephaly (HP:0000252); Low hanging columella (HP:0009765); Broad thumb (HP:0011304); excluded: Scoliosis (HP:0002650); excluded: Feeding difficulties (HP:0011968); excluded: Broad hallux (HP:0010055); excluded: Hirsutism (HP:0001007); excluded: Low-set ears (HP:0000369); excluded: Posteriorly rotated ears (HP:0000358)</td></tr>\n",
       "<tr><td style=\"text-align: left;\">Patient #57 (FEMALE; Infantile onset (HP:0003593))</td><td style=\"text-align: left;\">Rubinstein-Taybi syndrome 2 (OMIM:613684)</td><td style=\"text-align: left;\">DEL:Ex. 12–21: chromosomal_deletion (SO:1000029)</td><td style=\"text-align: left;\">Microcephaly (HP:0000252); Broad hallux (HP:0010055); Low hanging columella (HP:0009765); Broad thumb (HP:0011304); excluded: Scoliosis (HP:0002650); excluded: Prominent nose (HP:0000448); excluded: High palate (HP:0000218); excluded: Micrognathia (HP:0000347); excluded: Feeding difficulties (HP:0011968); excluded: Hirsutism (HP:0001007); excluded: Low-set ears (HP:0000369); excluded: Posteriorly rotated ears (HP:0000358); excluded: Narrow mouth (HP:0000160); excluded: Thick eyebrow (HP:0000574); excluded: Downslanted palpebral fissures (HP:0000494)</td></tr>\n",
       "<tr><td style=\"text-align: left;\">Patient #67 (FEMALE; P10Y)</td><td style=\"text-align: left;\">Rubinstein-Taybi syndrome 2 (OMIM:613684)</td><td style=\"text-align: left;\">NM_001429.4:c.70_71del (heterozygous)</td><td style=\"text-align: left;\">High palate (HP:0000218); Strabismus (HP:0000486); Dental crowding (HP:0000678); Intellectual disability (HP:0001249); Microcephaly (HP:0000252); Hirsutism (HP:0001007); Low-set ears (HP:0000369); Posteriorly rotated ears (HP:0000358); Thick eyebrow (HP:0000574); Low hanging columella (HP:0009765); Downslanted palpebral fissures (HP:0000494); Long eyelashes (HP:0000527); Broad thumb (HP:0011304); excluded: Global developmental delay (HP:0001263); excluded: Delayed speech and language development (HP:0000750); excluded: Autistic behavior (HP:0000729); excluded: Scoliosis (HP:0002650); excluded: Prominent nose (HP:0000448); excluded: Coloboma (HP:0000589); excluded: Dental malocclusion (HP:0000689); excluded: Talon cusp (HP:0011087); excluded: Micrognathia (HP:0000347); excluded: Feeding difficulties (HP:0011968); excluded: Broad hallux (HP:0010055); excluded: Narrow mouth (HP:0000160)</td></tr>\n",
       "</table>"
      ],
      "text/plain": [
       "<IPython.core.display.HTML object>"
      ]
     },
     "metadata": {},
     "output_type": "display_data"
    }
   ],
   "source": [
    "table = IndividualTable(cvalidator.get_error_free_individual_list())\n",
    "display(HTML(table.to_html()))"
   ]
  },
  {
   "cell_type": "code",
   "execution_count": 11,
   "metadata": {},
   "outputs": [
    {
     "name": "stdout",
     "output_type": "stream",
     "text": [
      "[pyphetools] Ingested 9 GA4GH phenopackets.\n",
      "[INFO] Extracted 9 from 9 phenopackets with OMIM:613684\n",
      "\n",
      "\tRubinstein-Taybi syndrome 2 (OMIM:613684): n=9\n",
      "We found a total of 25 unique HPO terms\n",
      "Extracted disease: Rubinstein-Taybi syndrome 2 (OMIM:613684)\n",
      "Wrote HPOA disease file to OMIM-613684.tab\n"
     ]
    }
   ],
   "source": [
    "pmid = \"PMID:29506490\"\n",
    "df = timporter.create_hpoa_from_phenopackets(pmid=pmid, moi=\"Autosomal recessive\", target=\"OMIM:613684\")"
   ]
  }
 ],
 "metadata": {
  "kernelspec": {
   "display_name": "ps24venv",
   "language": "python",
   "name": "python3"
  },
  "language_info": {
   "codemirror_mode": {
    "name": "ipython",
    "version": 3
   },
   "file_extension": ".py",
   "mimetype": "text/x-python",
   "name": "python",
   "nbconvert_exporter": "python",
   "pygments_lexer": "ipython3",
   "version": "3.9.6"
  }
 },
 "nbformat": 4,
 "nbformat_minor": 2
}
