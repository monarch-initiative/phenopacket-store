{
 "cells": [
  {
   "cell_type": "markdown",
   "metadata": {},
   "source": [
    "# NAA80\n",
    "[auroneurodental syndrome (ANDS)](https://omim.org/entry/620830) is caused by homozygous mutation in the NAA80 gene."
   ]
  },
  {
   "cell_type": "code",
   "execution_count": 1,
   "metadata": {},
   "outputs": [
    {
     "name": "stdout",
     "output_type": "stream",
     "text": [
      "Using pyphetools version 0.9.115\n"
     ]
    }
   ],
   "source": [
    "from pyphetools.creation import TemplateImporter, Moi\n",
    "from pyphetools.visualization import IndividualTable, QcVisualizer\n",
    "from IPython.display import display, HTML\n",
    "import pyphetools\n",
    "print(f\"Using pyphetools version {pyphetools.__version__}\")"
   ]
  },
  {
   "cell_type": "code",
   "execution_count": 2,
   "metadata": {},
   "outputs": [
    {
     "name": "stdout",
     "output_type": "stream",
     "text": [
      "HPO version 2024-12-12\n",
      "Created encoders for 45 fields\n",
      "Importing OMIM:620830, Auroneurodental syndrome, HGNC:30252, NAA80,  NM_001200016.2\n",
      "We output 2 GA4GH phenopackets to the directory phenopackets\n"
     ]
    }
   ],
   "source": [
    "template = \"input/NAA80_ANDS_individuals.xlsx\"\n",
    "created_by = \"0000-0002-0736-9199\"\n",
    "timporter = TemplateImporter(template=template,  created_by=created_by)\n",
    "individual_list, cvalidator = timporter.import_phenopackets_from_template()"
   ]
  },
  {
   "cell_type": "code",
   "execution_count": 3,
   "metadata": {},
   "outputs": [
    {
     "data": {
      "text/html": [
       "<h2>Cohort validation</h2>\n",
       "<p>Errors found with 2 of 2 phenopackets.</p>\n",
       "<table style=\"border: 2px solid black; align: \"left\">\n",
       "<caption>Error counts</caption>\n",
       "<tr><th style=\"text-align: left;font-weight: bold;\">Level</th><th style=\"text-align: left;font-weight: bold;\">Error category</th><th style=\"text-align: left;font-weight: bold;\">Count</th></tr>\n",
       "<tr><td style=\"text-align: left;\">WARNING</td><td style=\"text-align: left;\">REDUNDANT</td><td style=\"text-align: left;\">2</td></tr>\n",
       "</table>\n",
       "<p>A total of 2 issues were fixed and no individual was removed from the cohort.</p>"
      ],
      "text/plain": [
       "<IPython.core.display.HTML object>"
      ]
     },
     "metadata": {},
     "output_type": "display_data"
    }
   ],
   "source": [
    "qc = QcVisualizer(cohort_validator=cvalidator)\n",
    "display(HTML(qc.to_summary_html()))"
   ]
  },
  {
   "cell_type": "code",
   "execution_count": 4,
   "metadata": {},
   "outputs": [
    {
     "data": {
      "text/html": [
       "<table style=\"border: 2px solid black; align: \"left\">\n",
       "<caption>2 phenopackets - PMID:34805998 (n=2)</caption>\n",
       "<tr><th style=\"text-align: left;font-weight: bold;\">Individual</th><th style=\"text-align: left;font-weight: bold;\">Disease</th><th style=\"text-align: left;font-weight: bold;\">Genotype</th><th style=\"text-align: left;font-weight: bold;\">Phenotypic features</th></tr>\n",
       "<tr><td style=\"text-align: left;\">Proband 1.2 (MALE; P3Y)</td><td style=\"text-align: left;\">Auroneurodental syndrome (OMIM:620830)</td><td style=\"text-align: left;\">NM_001200016.2:c.323T>C (homozygous)</td><td style=\"text-align: left;\">Low-set ears (HP:0000369): onset ; Protruding ear (HP:0000411): onset ; Hypertelorism (HP:0000316): onset ; Diastema (HP:0000699): onset ; Highly arched eyebrow (HP:0002553): onset ; Epicanthus (HP:0000286): onset ; Ptosis (HP:0000508): onset ; Low posterior hairline (HP:0002162): onset ; Narrow mouth (HP:0000160): onset ; Thin upper lip vermilion (HP:0000219): onset ; Peg-shaped maxillary lateral incisors (HP:0006342): onset ; Retrognathia (HP:0000278): onset ; Self-injurious behavior (HP:0100716): onset ; Hypotonia (HP:0001252): onset ; Feeding difficulties (HP:0011968): onset ; Fatigue (HP:0012378): onset ; Global developmental delay (HP:0001263): onset ; Gait ataxia (HP:0002066): onset ; Proximal muscle weakness (HP:0003701): onset ; Axial muscle weakness (HP:0003327): onset ; Tapered finger (HP:0001182): onset ; Loud snoring (HP:0025372): onset ; Lateral ventricle dilatation (HP:0006956): onset ; Reduced cerebral white matter volume (HP:0034295): onset ; Chronic constipation (HP:0012450): onset <br/><b>TimeElement(element=Age(iso8601duration=P1M4D))</b>: Sensorineural hearing impairment (HP:0000407): onset age {\n",
       "  iso8601duration: \"P1M4D\"\n",
       "}\n",
       "</td></tr>\n",
       "<tr><td style=\"text-align: left;\">Proband 1.4 (MALE)</td><td style=\"text-align: left;\">Auroneurodental syndrome (OMIM:620830)</td><td style=\"text-align: left;\">NM_001200016.2:c.323T>C (homozygous)</td><td style=\"text-align: left;\">Sensorineural hearing impairment (HP:0000407): onset ; Low-set ears (HP:0000369): onset ; Protruding ear (HP:0000411): onset ; Hypertelorism (HP:0000316): onset ; Highly arched eyebrow (HP:0002553): onset ; Epicanthus (HP:0000286): onset ; Ptosis (HP:0000508): onset ; Low posterior hairline (HP:0002162): onset ; Narrow mouth (HP:0000160): onset ; Thin upper lip vermilion (HP:0000219): onset ; Peg-shaped maxillary lateral incisors (HP:0006342): onset ; Hypotonia (HP:0001252): onset ; Feeding difficulties (HP:0011968): onset ; Proximal muscle weakness (HP:0003701): onset ; Axial muscle weakness (HP:0003327): onset ; Loud snoring (HP:0025372): onset ; Sleep apnea (HP:0010535): onset ; Chronic constipation (HP:0012450): onset ; excluded: Diastema (HP:0000699): onset ; excluded: Retrognathia (HP:0000278): onset ; excluded: Self-injurious behavior (HP:0100716): onset ; excluded: Fatigue (HP:0012378): onset ; excluded: Global developmental delay (HP:0001263): onset ; excluded: Gait ataxia (HP:0002066): onset ; excluded: Tapered finger (HP:0001182): onset </td></tr>\n",
       "</table>"
      ],
      "text/plain": [
       "<IPython.core.display.HTML object>"
      ]
     },
     "metadata": {},
     "output_type": "display_data"
    }
   ],
   "source": [
    "table = IndividualTable(cvalidator.get_error_free_individual_list())\n",
    "display(HTML(table.to_html()))"
   ]
  },
  {
   "cell_type": "code",
   "execution_count": 5,
   "metadata": {},
   "outputs": [
    {
     "name": "stdout",
     "output_type": "stream",
     "text": [
      "[pyphetools] Ingested 2 GA4GH phenopackets.\n",
      "[INFO] Extracted 2 from 2 phenopackets with OMIM:620830\n",
      "\n",
      "\tAuroneurodental syndrome (OMIM:620830): n=2\n",
      "We found a total of 27 unique HPO terms\n",
      "Extracted disease: Auroneurodental syndrome (OMIM:620830)\n",
      "Wrote HPOA disease file to OMIM-620830.tab\n"
     ]
    }
   ],
   "source": [
    "pmid = \"PMID:34805998\"\n",
    "df = timporter.create_hpoa_from_phenopackets(pmid=pmid, mode_of_inheritance=Moi.AR, target=\"OMIM:620830\")"
   ]
  }
 ],
 "metadata": {
  "kernelspec": {
   "display_name": "ps24venv",
   "language": "python",
   "name": "python3"
  },
  "language_info": {
   "codemirror_mode": {
    "name": "ipython",
    "version": 3
   },
   "file_extension": ".py",
   "mimetype": "text/x-python",
   "name": "python",
   "nbconvert_exporter": "python",
   "pygments_lexer": "ipython3",
   "version": "3.12.4"
  }
 },
 "nbformat": 4,
 "nbformat_minor": 2
}
