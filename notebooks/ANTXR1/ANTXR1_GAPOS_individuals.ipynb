{
 "cells": [
  {
   "cell_type": "markdown",
   "metadata": {},
   "source": [
    "# ANTXR1\n",
    "[GAPO syndrome (GAPOS)](https://omim.org/entry/230740) is caused by homozygous mutation in the ANTXR1 gene."
   ]
  },
  {
   "cell_type": "code",
   "execution_count": 3,
   "metadata": {},
   "outputs": [
    {
     "name": "stdout",
     "output_type": "stream",
     "text": [
      "Using pyphetools version 0.9.92\n"
     ]
    }
   ],
   "source": [
    "from pyphetools.creation import TemplateImporter\n",
    "from pyphetools.visualization import IndividualTable, QcVisualizer\n",
    "from IPython.display import display, HTML\n",
    "import pyphetools\n",
    "print(f\"Using pyphetools version {pyphetools.__version__}\")"
   ]
  },
  {
   "cell_type": "code",
   "execution_count": 4,
   "metadata": {},
   "outputs": [],
   "source": [
    "template = \"input/ANTXR1_GAPOS_individuals.xlsx\"\n",
    "created_by = \"0000-0002-0736-9199\""
   ]
  },
  {
   "cell_type": "code",
   "execution_count": 8,
   "metadata": {},
   "outputs": [
    {
     "name": "stdout",
     "output_type": "stream",
     "text": [
      "HPO version 2024-06-25\n",
      "Created encoders for 65 fields\n",
      "Importing OMIM:230740, GAPO syndrome, HGNC:21014, ANTXR1,  NM_032208.3\n",
      "We output 2 GA4GH phenopackets to the directory phenopackets\n"
     ]
    }
   ],
   "source": [
    "timporter = TemplateImporter(template=template,  created_by=created_by)\n",
    "individual_list, cvalidator = timporter.import_phenopackets_from_template()"
   ]
  },
  {
   "cell_type": "code",
   "execution_count": 9,
   "metadata": {},
   "outputs": [
    {
     "data": {
      "text/html": [
       "<h2>Cohort validation</h2>\n",
       "<p>No errors found for the cohort with 2 individuals</p>"
      ],
      "text/plain": [
       "<IPython.core.display.HTML object>"
      ]
     },
     "metadata": {},
     "output_type": "display_data"
    }
   ],
   "source": [
    "qc = QcVisualizer(cohort_validator=cvalidator)\n",
    "display(HTML(qc.to_summary_html()))"
   ]
  },
  {
   "cell_type": "code",
   "execution_count": 10,
   "metadata": {},
   "outputs": [
    {
     "data": {
      "text/html": [
       "<table style=\"border: 2px solid black; align: \"left\">\n",
       "<caption>2 phenopackets - PMID:27587992 (n=2)</caption>\n",
       "<tr><th style=\"text-align: left;font-weight: bold;\">Individual</th><th style=\"text-align: left;font-weight: bold;\">Disease</th><th style=\"text-align: left;font-weight: bold;\">Genotype</th><th style=\"text-align: left;font-weight: bold;\">Phenotypic features</th></tr>\n",
       "<tr><td style=\"text-align: left;\">sibling 1 (MALE; n/a)</td><td style=\"text-align: left;\">GAPO syndrome (OMIM:230740)</td><td style=\"text-align: left;\">NM_032208.3:c.410A>T (homozygous)</td><td style=\"text-align: left;\">Alopecia (HP:0001596); Sparse hair (HP:0008070); Prominent supraorbital ridges (HP:0000336); Strabismus (HP:0000486); Shallow orbits (HP:0000586); Thick vermilion border (HP:0012471); Concave nasal ridge (HP:0011120); Palpebral thickening (HP:0030939); Small face (HP:0000274); Eruption failure (HP:0000706); Severe short stature (HP:0003510); Frontal bossing (HP:0002007)</td></tr>\n",
       "<tr><td style=\"text-align: left;\">sibling 2 (MALE; n/a)</td><td style=\"text-align: left;\">GAPO syndrome (OMIM:230740)</td><td style=\"text-align: left;\">NM_032208.3:c.410A>T (homozygous)</td><td style=\"text-align: left;\">Alopecia (HP:0001596); Sparse hair (HP:0008070); Prominent supraorbital ridges (HP:0000336); Strabismus (HP:0000486); Shallow orbits (HP:0000586); Thick vermilion border (HP:0012471); Concave nasal ridge (HP:0011120); Palpebral thickening (HP:0030939); Small face (HP:0000274); Eruption failure (HP:0000706); Severe short stature (HP:0003510); Frontal bossing (HP:0002007)</td></tr>\n",
       "</table>"
      ],
      "text/plain": [
       "<IPython.core.display.HTML object>"
      ]
     },
     "metadata": {},
     "output_type": "display_data"
    }
   ],
   "source": [
    "table = IndividualTable(cvalidator.get_error_free_individual_list())\n",
    "display(HTML(table.to_html()))"
   ]
  },
  {
   "cell_type": "code",
   "execution_count": 11,
   "metadata": {},
   "outputs": [
    {
     "name": "stdout",
     "output_type": "stream",
     "text": [
      "[pyphetools] Ingested 2 GA4GH phenopackets.\n",
      "[INFO] Extracted 2 from 2 phenopackets with OMIM:230740\n",
      "\n",
      "\tGAPO syndrome (OMIM:230740): n=2\n",
      "We found a total of 12 unique HPO terms\n",
      "Extracted disease: GAPO syndrome (OMIM:230740)\n",
      "Wrote HPOA disease file to OMIM-230740.tab\n"
     ]
    }
   ],
   "source": [
    "pmid = \"PMID:27587992\"\n",
    "df = timporter.create_hpoa_from_phenopackets(pmid=pmid, moi=\"Autosomal recessive\", target=\"OMIM:230740\")"
   ]
  },
  {
   "cell_type": "code",
   "execution_count": null,
   "metadata": {},
   "outputs": [],
   "source": []
  }
 ],
 "metadata": {
  "kernelspec": {
   "display_name": "ps24venv",
   "language": "python",
   "name": "python3"
  },
  "language_info": {
   "codemirror_mode": {
    "name": "ipython",
    "version": 3
   },
   "file_extension": ".py",
   "mimetype": "text/x-python",
   "name": "python",
   "nbconvert_exporter": "python",
   "pygments_lexer": "ipython3",
   "version": "3.9.6"
  }
 },
 "nbformat": 4,
 "nbformat_minor": 2
}
