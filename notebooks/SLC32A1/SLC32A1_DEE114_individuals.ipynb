{
 "cells": [
  {
   "cell_type": "markdown",
   "metadata": {},
   "source": [
    "# SLC32A1\n",
    "[developmental and epileptic encephalopathy-114 (DEE114)](https://omim.org/entry/620774) is caused by heterozygous mutation in the SLC32A1 gene."
   ]
  },
  {
   "cell_type": "code",
   "execution_count": 1,
   "metadata": {},
   "outputs": [
    {
     "name": "stdout",
     "output_type": "stream",
     "text": [
      "Using pyphetools version 0.9.94\n"
     ]
    },
    {
     "name": "stderr",
     "output_type": "stream",
     "text": [
      "/Users/robin/GIT/phenopacket-store/ps24venv/lib/python3.9/site-packages/urllib3/__init__.py:35: NotOpenSSLWarning: urllib3 v2 only supports OpenSSL 1.1.1+, currently the 'ssl' module is compiled with 'LibreSSL 2.8.3'. See: https://github.com/urllib3/urllib3/issues/3020\n",
      "  warnings.warn(\n"
     ]
    }
   ],
   "source": [
    "from pyphetools.creation import TemplateImporter, Moi\n",
    "from pyphetools.visualization import IndividualTable, QcVisualizer\n",
    "from IPython.display import display, HTML\n",
    "import pyphetools\n",
    "print(f\"Using pyphetools version {pyphetools.__version__}\")"
   ]
  },
  {
   "cell_type": "code",
   "execution_count": 2,
   "metadata": {},
   "outputs": [],
   "source": [
    "template = \"input/SLC32A1_DEE114_individuals.xlsx\"\n",
    "created_by = \"0000-0002-0736-9199\""
   ]
  },
  {
   "cell_type": "code",
   "execution_count": 3,
   "metadata": {},
   "outputs": [
    {
     "name": "stdout",
     "output_type": "stream",
     "text": [
      "HPO version 2024-07-01\n",
      "Created encoders for 54 fields\n",
      "Importing OMIM:620774, Developmental and epileptic encephalopathy 114, HGNC:11018, SLC32A1,  NM_080552.3\n",
      "We output 4 GA4GH phenopackets to the directory phenopackets\n"
     ]
    }
   ],
   "source": [
    "timporter = TemplateImporter(template=template,  created_by=created_by)\n",
    "individual_list, cvalidator = timporter.import_phenopackets_from_template()"
   ]
  },
  {
   "cell_type": "code",
   "execution_count": 4,
   "metadata": {},
   "outputs": [
    {
     "data": {
      "text/html": [
       "<h2>Cohort validation</h2>\n",
       "<p>Errors found with 1 of 4 phenopackets.</p>\n",
       "<table style=\"border: 2px solid black; align: \"left\">\n",
       "<caption>Error counts</caption>\n",
       "<tr><th style=\"text-align: left;font-weight: bold;\">Level</th><th style=\"text-align: left;font-weight: bold;\">Error category</th><th style=\"text-align: left;font-weight: bold;\">Count</th></tr>\n",
       "<tr><td style=\"text-align: left;\">WARNING</td><td style=\"text-align: left;\">REDUNDANT</td><td style=\"text-align: left;\">1</td></tr>\n",
       "</table>\n",
       "<p>A total of 1 issues were fixed and no individual was removed from the cohort.</p>"
      ],
      "text/plain": [
       "<IPython.core.display.HTML object>"
      ]
     },
     "metadata": {},
     "output_type": "display_data"
    }
   ],
   "source": [
    "qc = QcVisualizer(cohort_validator=cvalidator)\n",
    "display(HTML(qc.to_summary_html()))"
   ]
  },
  {
   "cell_type": "code",
   "execution_count": 5,
   "metadata": {},
   "outputs": [
    {
     "data": {
      "text/html": [
       "<table style=\"border: 2px solid black; align: \"left\">\n",
       "<caption>4 phenopackets - PMID:36073542 (n=4)</caption>\n",
       "<tr><th style=\"text-align: left;font-weight: bold;\">Individual</th><th style=\"text-align: left;font-weight: bold;\">Disease</th><th style=\"text-align: left;font-weight: bold;\">Genotype</th><th style=\"text-align: left;font-weight: bold;\">Phenotypic features</th></tr>\n",
       "<tr><td style=\"text-align: left;\">individual 1 (MALE; P6Y3M)</td><td style=\"text-align: left;\">Developmental and epileptic encephalopathy 114 (OMIM:620774)</td><td style=\"text-align: left;\">NM_080552.3:c.271G>A (heterozygous)</td><td style=\"text-align: left;\"><b>P4M</b>: Focal impaired awareness seizure (HP:0002384)<br/>Hypotonia (HP:0001252); Cerebral palsy (HP:0100021); Autistic behavior (HP:0000729); Developmental regression (HP:0002376); Cerebral atrophy (HP:0002059); Ventriculomegaly (HP:0002119); Thin corpus callosum (HP:0033725); Global developmental delay (HP:0001263); Motor delay (HP:0001270); Delayed speech and language development (HP:0000750); Intellectual disability (HP:0001249); Self-injurious behavior (HP:0100716); Exotropia (HP:0000577); Abnormal hair whorl (HP:0010721); Synophrys (HP:0000664); Deeply set eye (HP:0000490); Uplifted earlobe (HP:0009909); Posterior helix pit (HP:0008523); Tapered finger (HP:0001182); Chronic constipation (HP:0012450); Sleep apnea (HP:0010535); Hydrocephalus (HP:0000238); excluded: Dystonia (HP:0001332); excluded: Myoclonic seizure (HP:0032794); excluded: Bilateral tonic-clonic seizure (HP:0002069); excluded: Atonic seizure (HP:0010819); excluded: Atypical absence seizure (HP:0007270); excluded: Status epilepticus (HP:0002133); excluded: Chorea (HP:0002072); excluded: Paroxysmal dyskinesia (HP:0007166); excluded: Aggressive behavior (HP:0000718); excluded: Hypertelorism (HP:0000316); excluded: Downslanted palpebral fissures (HP:0000494); excluded: Sparse hair (HP:0008070); excluded: Sandal gap (HP:0001852)</td></tr>\n",
       "<tr><td style=\"text-align: left;\">individual 2 (FEMALE; P5Y4M)</td><td style=\"text-align: left;\">Developmental and epileptic encephalopathy 114 (OMIM:620774)</td><td style=\"text-align: left;\">NM_080552.3:c.787G>A (heterozygous)</td><td style=\"text-align: left;\"><b>P1Y3M</b>: Myoclonic seizure (HP:0032794); Bilateral tonic-clonic seizure (HP:0002069)<br/>Hypotonia (HP:0001252); Dystonia (HP:0001332); Focal impaired awareness seizure (HP:0002384); Atonic seizure (HP:0010819); Atypical absence seizure (HP:0007270); Status epilepticus (HP:0002133); Chorea (HP:0002072); Developmental regression (HP:0002376); Motor delay (HP:0001270); Delayed speech and language development (HP:0000750); Intellectual disability (HP:0001249); Sleep abnormality (HP:0002360); Aggressive behavior (HP:0000718); excluded: Cerebral palsy (HP:0100021); excluded: Paroxysmal dyskinesia (HP:0007166); excluded: Autistic behavior (HP:0000729); excluded: Cerebral atrophy (HP:0002059); excluded: Ventriculomegaly (HP:0002119); excluded: Thin corpus callosum (HP:0033725); excluded: Self-injurious behavior (HP:0100716); excluded: Exotropia (HP:0000577); excluded: Abnormal hair whorl (HP:0010721); excluded: Synophrys (HP:0000664); excluded: Deeply set eye (HP:0000490); excluded: Uplifted earlobe (HP:0009909); excluded: Posterior helix pit (HP:0008523); excluded: Tapered finger (HP:0001182); excluded: Chronic constipation (HP:0012450); excluded: Sleep apnea (HP:0010535); excluded: Hydrocephalus (HP:0000238); excluded: Hypertelorism (HP:0000316); excluded: Downslanted palpebral fissures (HP:0000494); excluded: Sparse hair (HP:0008070); excluded: Sandal gap (HP:0001852)</td></tr>\n",
       "<tr><td style=\"text-align: left;\">individual 3 (MALE; P10Y1M)</td><td style=\"text-align: left;\">Developmental and epileptic encephalopathy 114 (OMIM:620774)</td><td style=\"text-align: left;\">NM_080552.3:c.806T>C (heterozygous)</td><td style=\"text-align: left;\"><b>P1Y6M</b>: Bilateral tonic-clonic seizure (HP:0002069)<br/>Hypotonia (HP:0001252); Chorea (HP:0002072); Developmental regression (HP:0002376); Global developmental delay (HP:0001263); Motor delay (HP:0001270); Delayed speech and language development (HP:0000750); Intellectual disability (HP:0001249); Sleep abnormality (HP:0002360); excluded: Dystonia (HP:0001332); excluded: Focal impaired awareness seizure (HP:0002384); excluded: Myoclonic seizure (HP:0032794); excluded: Atonic seizure (HP:0010819); excluded: Atypical absence seizure (HP:0007270); excluded: Status epilepticus (HP:0002133); excluded: Cerebral palsy (HP:0100021); excluded: Paroxysmal dyskinesia (HP:0007166); excluded: Autistic behavior (HP:0000729); excluded: Cerebral atrophy (HP:0002059); excluded: Ventriculomegaly (HP:0002119); excluded: Thin corpus callosum (HP:0033725); excluded: Exotropia (HP:0000577); excluded: Abnormal hair whorl (HP:0010721); excluded: Synophrys (HP:0000664); excluded: Deeply set eye (HP:0000490); excluded: Uplifted earlobe (HP:0009909); excluded: Posterior helix pit (HP:0008523); excluded: Tapered finger (HP:0001182); excluded: Chronic constipation (HP:0012450); excluded: Sleep apnea (HP:0010535); excluded: Hydrocephalus (HP:0000238); excluded: Hypertelorism (HP:0000316); excluded: Downslanted palpebral fissures (HP:0000494); excluded: Sparse hair (HP:0008070); excluded: Sandal gap (HP:0001852)</td></tr>\n",
       "<tr><td style=\"text-align: left;\">individual 4 (FEMALE; P5Y9M)</td><td style=\"text-align: left;\">Developmental and epileptic encephalopathy 114 (OMIM:620774)</td><td style=\"text-align: left;\">NM_080552.3:c.965T>G (heterozygous)</td><td style=\"text-align: left;\"><b>P1M</b>: Focal impaired awareness seizure (HP:0002384)<br/><b>P5Y</b>: Myoclonic seizure (HP:0032794); Bilateral tonic-clonic seizure (HP:0002069); Atonic seizure (HP:0010819)<br/>Hypotonia (HP:0001252); Paroxysmal dyskinesia (HP:0007166); Autistic behavior (HP:0000729); Developmental regression (HP:0002376); Global developmental delay (HP:0001263); Motor delay (HP:0001270); Delayed speech and language development (HP:0000750); Intellectual disability (HP:0001249); Sleep abnormality (HP:0002360); Hypertelorism (HP:0000316); Downslanted palpebral fissures (HP:0000494); Sparse hair (HP:0008070); Sandal gap (HP:0001852); excluded: Dystonia (HP:0001332); excluded: Atypical absence seizure (HP:0007270); excluded: Status epilepticus (HP:0002133); excluded: Cerebral palsy (HP:0100021); excluded: Chorea (HP:0002072); excluded: Cerebral atrophy (HP:0002059); excluded: Ventriculomegaly (HP:0002119); excluded: Thin corpus callosum (HP:0033725); excluded: Exotropia (HP:0000577); excluded: Abnormal hair whorl (HP:0010721); excluded: Synophrys (HP:0000664); excluded: Deeply set eye (HP:0000490); excluded: Uplifted earlobe (HP:0009909); excluded: Posterior helix pit (HP:0008523); excluded: Tapered finger (HP:0001182); excluded: Chronic constipation (HP:0012450); excluded: Sleep apnea (HP:0010535); excluded: Hydrocephalus (HP:0000238)</td></tr>\n",
       "</table>"
      ],
      "text/plain": [
       "<IPython.core.display.HTML object>"
      ]
     },
     "metadata": {},
     "output_type": "display_data"
    }
   ],
   "source": [
    "table = IndividualTable(cvalidator.get_error_free_individual_list())\n",
    "display(HTML(table.to_html()))"
   ]
  },
  {
   "cell_type": "code",
   "execution_count": 6,
   "metadata": {},
   "outputs": [
    {
     "name": "stdout",
     "output_type": "stream",
     "text": [
      "[pyphetools] Ingested 4 GA4GH phenopackets.\n",
      "[INFO] Extracted 4 from 4 phenopackets with OMIM:620774\n",
      "\n",
      "\tDevelopmental and epileptic encephalopathy 114 (OMIM:620774): n=4\n",
      "We found a total of 37 unique HPO terms\n",
      "Extracted disease: Developmental and epileptic encephalopathy 114 (OMIM:620774)\n",
      "Wrote HPOA disease file to OMIM-620774.tab\n"
     ]
    }
   ],
   "source": [
    "pmid = \"PMID:36073542\"\n",
    "df = timporter.create_hpoa_from_phenopackets(pmid=pmid, mode_of_inheritance=Moi.AD, target=\"OMIM:620774\")"
   ]
  }
 ],
 "metadata": {
  "kernelspec": {
   "display_name": "ps24venv",
   "language": "python",
   "name": "python3"
  },
  "language_info": {
   "codemirror_mode": {
    "name": "ipython",
    "version": 3
   },
   "file_extension": ".py",
   "mimetype": "text/x-python",
   "name": "python",
   "nbconvert_exporter": "python",
   "pygments_lexer": "ipython3",
   "version": "3.9.6"
  }
 },
 "nbformat": 4,
 "nbformat_minor": 2
}
