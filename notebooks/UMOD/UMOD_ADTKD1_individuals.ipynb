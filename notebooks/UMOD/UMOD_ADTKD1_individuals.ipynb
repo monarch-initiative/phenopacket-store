{
 "cells": [
  {
   "cell_type": "markdown",
   "metadata": {},
   "source": [
    "# UMOD\n",
    "[autosomal dominant tubulointerstitial kidney disease-1 (ADTKD1)](https://omim.org/entry/162000) is caused by heterozygous mutation in the gene encoding uromodulin (UMOD)."
   ]
  },
  {
   "cell_type": "code",
   "execution_count": 26,
   "metadata": {},
   "outputs": [
    {
     "name": "stdout",
     "output_type": "stream",
     "text": [
      "Using pyphetools version 0.9.97\n"
     ]
    }
   ],
   "source": [
    "from pyphetools.creation import TemplateImporter\n",
    "from pyphetools.visualization import IndividualTable, QcVisualizer\n",
    "from IPython.display import display, HTML\n",
    "import pyphetools\n",
    "print(f\"Using pyphetools version {pyphetools.__version__}\")"
   ]
  },
  {
   "cell_type": "code",
   "execution_count": 27,
   "metadata": {},
   "outputs": [],
   "source": [
    "template = \"input/UMOD_ADTKD1_individuals.xlsx\"\n",
    "created_by = \"0000-0002-0736-9199\""
   ]
  },
  {
   "cell_type": "code",
   "execution_count": 56,
   "metadata": {},
   "outputs": [
    {
     "name": "stdout",
     "output_type": "stream",
     "text": [
      "HPO version 2024-07-01\n",
      "Created encoders for 49 fields\n",
      "Importing OMIM:162001, Tubulointerstitial kidney disease, autosomal dominant, 1, HGNC:12559, UMOD,  NM_003361.4\n",
      "[INFO] encoding variant \"c.229T>C\"\n",
      "https://rest.variantvalidator.org/VariantValidator/variantvalidator/hg38/NM_003361.4%3Ac.229T>C/NM_003361.4?content-type=application%2Fjson\n",
      "[INFO] encoding variant \"c.916T>A\"\n",
      "https://rest.variantvalidator.org/VariantValidator/variantvalidator/hg38/NM_003361.4%3Ac.916T>A/NM_003361.4?content-type=application%2Fjson\n",
      "We output 162 GA4GH phenopackets to the directory phenopackets\n"
     ]
    }
   ],
   "source": [
    "timporter = TemplateImporter(template=template,  created_by=created_by)\n",
    "individual_list, cvalidator = timporter.import_phenopackets_from_template()"
   ]
  },
  {
   "cell_type": "code",
   "execution_count": null,
   "metadata": {},
   "outputs": [
    {
     "data": {
      "text/html": [
       "<h2>Cohort validation</h2>\n",
       "<p>Errors found with 2 of 55 phenopackets.</p>\n",
       "<table style=\"border: 2px solid black; align: \"left\">\n",
       "<caption>Error counts</caption>\n",
       "<tr><th style=\"text-align: left;font-weight: bold;\">Level</th><th style=\"text-align: left;font-weight: bold;\">Error category</th><th style=\"text-align: left;font-weight: bold;\">Count</th></tr>\n",
       "<tr><td style=\"text-align: left;\">WARNING</td><td style=\"text-align: left;\">REDUNDANT</td><td style=\"text-align: left;\">2</td></tr>\n",
       "</table>\n",
       "<p>A total of 2 issues were fixed and no individual was removed from the cohort.</p>"
      ],
      "text/plain": [
       "<IPython.core.display.HTML object>"
      ]
     },
     "metadata": {},
     "output_type": "display_data"
    }
   ],
   "source": [
    "qc = QcVisualizer(cohort_validator=cvalidator)\n",
    "display(HTML(qc.to_summary_html()))"
   ]
  },
  {
   "cell_type": "code",
   "execution_count": null,
   "metadata": {},
   "outputs": [
    {
     "data": {
      "text/html": [
       "<table style=\"border: 2px solid black; align: \"left\">\n",
       "<caption>55 phenopackets - PMID:15673476 (n=1); PMID:37487849 (n=1); PMID:18950917 (n=2); PMID:17245395 (n=10); PMID:14569098 (n=39); PMID:15575003 (n=2)</caption>\n",
       "<tr><th style=\"text-align: left;font-weight: bold;\">Individual</th><th style=\"text-align: left;font-weight: bold;\">Disease</th><th style=\"text-align: left;font-weight: bold;\">Genotype</th><th style=\"text-align: left;font-weight: bold;\">Phenotypic features</th></tr>\n",
       "<tr><td style=\"text-align: left;\">proband (FEMALE; P49Y)</td><td style=\"text-align: left;\">Tubulointerstitial kidney disease, autosomal dominant, 1 (OMIM:162000)</td><td style=\"text-align: left;\">NM_003361.4:c.920A>C (heterozygous)</td><td style=\"text-align: left;\"><b>P24Y</b>: Gout (HP:0001997); Hyperuricemia (HP:0002149)<br/><b>P27Y</b>: Elevated circulating creatinine concentration (HP:0003259); Stage 1 chronic kidney disease (HP:0012623)<br/><b>P44Y</b>: Renal corticomedullary cysts (HP:0000108)<br/><b>P49Y</b>: Stage 5 chronic kidney disease (HP:0003774)</td></tr>\n",
       "<tr><td style=\"text-align: left;\">patient (MALE; P12Y)</td><td style=\"text-align: left;\">Tubulointerstitial kidney disease, autosomal dominant, 1 (OMIM:162000)</td><td style=\"text-align: left;\">NM_003361.4:c.584G>A (heterozygous)</td><td style=\"text-align: left;\"><b>P12Y</b>: Elevated circulating creatinine concentration (HP:0003259); Stage 4 chronic kidney disease (HP:0012626); Renal tubular atrophy (HP:0000092); Renal interstitial fibrosis (HP:0032948); Reduced renal corticomedullary differentiation (HP:0005565); Hyperechogenic kidneys (HP:0004719); Hyperuricemia (HP:0002149); Decreased urinary urate (HP:0011935); Metabolic acidosis (HP:0001942); Elevated circulating parathyroid hormone level (HP:0003165); Hyposthenuria (HP:0003158)<br/><b>P14Y</b>: Stage 5 chronic kidney disease (HP:0003774)<br/>excluded: Renal corticomedullary cysts (HP:0000108); excluded: IgA deposition in the glomerulus (HP:0000794); excluded: Gout (HP:0001997); excluded: Hypertension (HP:0000822)</td></tr>\n",
       "<tr><td style=\"text-align: left;\">boy (MALE; P11Y)</td><td style=\"text-align: left;\">Tubulointerstitial kidney disease, autosomal dominant, 2 (OMIM:162001)</td><td style=\"text-align: left;\">NM_003361.4:c.149G>C (heterozygous)</td><td style=\"text-align: left;\"><b>P11Y</b>: Elevated circulating creatinine concentration (HP:0003259); Renal tubular atrophy (HP:0000092); Renal cyst (HP:0000107); Renal interstitial fibrosis (HP:0032948); Hyperechogenic kidneys (HP:0004719); Hyperuricemia (HP:0002149); Elevated circulating parathyroid hormone level (HP:0003165); Hyposthenuria (HP:0003158); Increased blood urea nitrogen (HP:0003138); Proteinuria (HP:0000093)<br/>excluded: Stage 5 chronic kidney disease (HP:0003774); excluded: Reduced renal corticomedullary differentiation (HP:0005565); excluded: Gout (HP:0001997); excluded: Hypertension (HP:0000822)</td></tr>\n",
       "<tr><td style=\"text-align: left;\">father (MALE; P46Y)</td><td style=\"text-align: left;\">Tubulointerstitial kidney disease, autosomal dominant, 3 (OMIM:162002)</td><td style=\"text-align: left;\">NM_003361.4:c.149G>C (heterozygous)</td><td style=\"text-align: left;\"><b>P29Y</b>: Stage 5 chronic kidney disease (HP:0003774)<br/>excluded: Gout (HP:0001997)</td></tr>\n",
       "<tr><td style=\"text-align: left;\">Family F739 individual I-1 (MALE; n/a)</td><td style=\"text-align: left;\">Tubulointerstitial kidney disease, autosomal dominant, 1 (OMIM:162000)</td><td style=\"text-align: left;\">NM_003361.4:c.744C>G (heterozygous)</td><td style=\"text-align: left;\"><b>P45Y</b>: Stage 5 chronic kidney disease (HP:0003774)<br/>Elevated circulating creatinine concentration (HP:0003259); Renal hypoplasia (HP:0000089); excluded: Renal cyst (HP:0000107); excluded: Reduced renal corticomedullary differentiation (HP:0005565); excluded: Hyperechogenic kidneys (HP:0004719); excluded: Gout (HP:0001997); excluded: Hyperuricemia (HP:0002149); excluded: Hypertension (HP:0000822); excluded: Hyposthenuria (HP:0003158); excluded: Vesicoureteral reflux (HP:0000076)</td></tr>\n",
       "<tr><td style=\"text-align: left;\">Family F739 individual II-1 (MALE; n/a)</td><td style=\"text-align: left;\">Tubulointerstitial kidney disease, autosomal dominant, 1 (OMIM:162000)</td><td style=\"text-align: left;\">NM_003361.4:c.744C>G (heterozygous)</td><td style=\"text-align: left;\">Elevated circulating creatinine concentration (HP:0003259); Thickened glomerular basement membrane (HP:0004722); Glomerular sclerosis (HP:0000096); Renal tubular atrophy (HP:0000092); Renal cyst (HP:0000107); Renal interstitial fibrosis (HP:0032948); Renal hypoplasia (HP:0000089); Hyperuricemia (HP:0002149); excluded: Stage 5 chronic kidney disease (HP:0003774); excluded: Reduced renal corticomedullary differentiation (HP:0005565); excluded: Hyperechogenic kidneys (HP:0004719); excluded: Gout (HP:0001997); excluded: Hypertension (HP:0000822); excluded: Hyposthenuria (HP:0003158); excluded: Vesicoureteral reflux (HP:0000076)</td></tr>\n",
       "<tr><td style=\"text-align: left;\">Family F739individual II-2 (FEMALE; n/a)</td><td style=\"text-align: left;\">Tubulointerstitial kidney disease, autosomal dominant, 2 (OMIM:162001)</td><td style=\"text-align: left;\">NM_003361.4:c.744C>G (heterozygous)</td><td style=\"text-align: left;\">Hyperuricemia (HP:0002149); excluded: Stage 5 chronic kidney disease (HP:0003774); excluded: Gout (HP:0001997); excluded: Hypertension (HP:0000822); excluded: Vesicoureteral reflux (HP:0000076)</td></tr>\n",
       "<tr><td style=\"text-align: left;\">Family K7 individual  I-1 (FEMALE; n/a)</td><td style=\"text-align: left;\">Tubulointerstitial kidney disease, autosomal dominant, 3 (OMIM:162002)</td><td style=\"text-align: left;\">NM_003361.4:c.744C>G (heterozygous)</td><td style=\"text-align: left;\"><b>P18Y</b>: Stage 5 chronic kidney disease (HP:0003774)<br/>Elevated circulating creatinine concentration (HP:0003259); Renal cyst (HP:0000107); Reduced renal corticomedullary differentiation (HP:0005565); Hyperechogenic kidneys (HP:0004719); Renal hypoplasia (HP:0000089); Hyperuricemia (HP:0002149); Proteinuria (HP:0000093); Vesicoureteral reflux (HP:0000076); excluded: Gout (HP:0001997); excluded: Hypertension (HP:0000822); excluded: Hyposthenuria (HP:0003158)</td></tr>\n",
       "<tr><td style=\"text-align: left;\">Family K8 individual I-2 (FEMALE; n/a)</td><td style=\"text-align: left;\">Tubulointerstitial kidney disease, autosomal dominant, 1 (OMIM:162000)</td><td style=\"text-align: left;\">NM_003361.4:c.744C>G (heterozygous)</td><td style=\"text-align: left;\">Hypertension (HP:0000822); excluded: Stage 5 chronic kidney disease (HP:0003774); excluded: Renal cyst (HP:0000107); excluded: Reduced renal corticomedullary differentiation (HP:0005565); excluded: Hyperechogenic kidneys (HP:0004719); excluded: Renal hypoplasia (HP:0000089); excluded: Gout (HP:0001997); excluded: Hyperuricemia (HP:0002149); excluded: Hyposthenuria (HP:0003158); excluded: Vesicoureteral reflux (HP:0000076)</td></tr>\n",
       "<tr><td style=\"text-align: left;\">Family K8 individual II-2 (MALE; n/a)</td><td style=\"text-align: left;\">Tubulointerstitial kidney disease, autosomal dominant, 1 (OMIM:162000)</td><td style=\"text-align: left;\">NM_003361.4:c.744C>G (heterozygous)</td><td style=\"text-align: left;\">Elevated circulating creatinine concentration (HP:0003259); Hyperechogenic kidneys (HP:0004719); Renal hypoplasia (HP:0000089); Hyperuricemia (HP:0002149); Proteinuria (HP:0000093); excluded: Stage 5 chronic kidney disease (HP:0003774); excluded: Renal cyst (HP:0000107); excluded: Reduced renal corticomedullary differentiation (HP:0005565); excluded: Gout (HP:0001997); excluded: Hypertension (HP:0000822); excluded: Hyposthenuria (HP:0003158); excluded: Vesicoureteral reflux (HP:0000076)</td></tr>\n",
       "<tr><td style=\"text-align: left;\">Family K10 individual  I-1 (MALE; n/a)</td><td style=\"text-align: left;\">Tubulointerstitial kidney disease, autosomal dominant, 1 (OMIM:162000)</td><td style=\"text-align: left;\">NM_003361.4:c.744C>G (heterozygous)</td><td style=\"text-align: left;\"><b>P6Y</b>: Stage 5 chronic kidney disease (HP:0003774)<br/>Elevated circulating creatinine concentration (HP:0003259); Renal tubular atrophy (HP:0000092); Renal interstitial fibrosis (HP:0032948); Reduced renal corticomedullary differentiation (HP:0005565); Renal hypoplasia (HP:0000089); Hyperuricemia (HP:0002149); Hypertension (HP:0000822); Hyposthenuria (HP:0003158); Proteinuria (HP:0000093); excluded: Thickened glomerular basement membrane (HP:0004722); excluded: Glomerular sclerosis (HP:0000096); excluded: Renal cyst (HP:0000107); excluded: Hyperechogenic kidneys (HP:0004719); excluded: Gout (HP:0001997); excluded: Vesicoureteral reflux (HP:0000076)</td></tr>\n",
       "<tr><td style=\"text-align: left;\">Family K11 individual  I-1 (FEMALE; n/a)</td><td style=\"text-align: left;\">Tubulointerstitial kidney disease, autosomal dominant, 1 (OMIM:162000)</td><td style=\"text-align: left;\">NM_003361.4:c.744C>G (heterozygous)</td><td style=\"text-align: left;\"><b>P52Y</b>: Stage 5 chronic kidney disease (HP:0003774)<br/>Elevated circulating creatinine concentration (HP:0003259); Thickened glomerular basement membrane (HP:0004722); Renal tubular atrophy (HP:0000092); Renal cyst (HP:0000107); Renal interstitial fibrosis (HP:0032948); Hypertension (HP:0000822); Proteinuria (HP:0000093); excluded: Glomerular sclerosis (HP:0000096); excluded: Reduced renal corticomedullary differentiation (HP:0005565); excluded: Hyperechogenic kidneys (HP:0004719); excluded: Renal hypoplasia (HP:0000089); excluded: Gout (HP:0001997); excluded: Hyperuricemia (HP:0002149); excluded: Hyposthenuria (HP:0003158); excluded: Vesicoureteral reflux (HP:0000076)</td></tr>\n",
       "<tr><td style=\"text-align: left;\">Family A214 I-1 (MALE; n/a)</td><td style=\"text-align: left;\">Tubulointerstitial kidney disease, autosomal dominant, 2 (OMIM:162001)</td><td style=\"text-align: left;\">NM_003361.4:c.229T>G (heterozygous)</td><td style=\"text-align: left;\"><b>P45Y</b>: Stage 5 chronic kidney disease (HP:0003774)<br/>Renal hypoplasia (HP:0000089); Hyperuricemia (HP:0002149); Hypertension (HP:0000822); excluded: Renal cyst (HP:0000107); excluded: Reduced renal corticomedullary differentiation (HP:0005565); excluded: Hyperechogenic kidneys (HP:0004719); excluded: Gout (HP:0001997); excluded: Hyposthenuria (HP:0003158); excluded: Vesicoureteral reflux (HP:0000076)</td></tr>\n",
       "<tr><td style=\"text-align: left;\">Family A214 II-1 (MALE; n/a)</td><td style=\"text-align: left;\">Tubulointerstitial kidney disease, autosomal dominant, 3 (OMIM:162002)</td><td style=\"text-align: left;\">NM_003361.4:c.229T>G (heterozygous)</td><td style=\"text-align: left;\"><b>P13Y</b>: Stage 2 chronic kidney disease (HP:0012624)<br/>Thickened glomerular basement membrane (HP:0004722); Glomerular sclerosis (HP:0000096); Renal tubular atrophy (HP:0000092); Renal cyst (HP:0000107); Renal interstitial fibrosis (HP:0032948); Renal hypoplasia (HP:0000089); Hyperuricemia (HP:0002149); Hypertension (HP:0000822); Hyposthenuria (HP:0003158); excluded: Stage 5 chronic kidney disease (HP:0003774); excluded: Reduced renal corticomedullary differentiation (HP:0005565); excluded: Hyperechogenic kidneys (HP:0004719); excluded: Gout (HP:0001997); excluded: Vesicoureteral reflux (HP:0000076)</td></tr>\n",
       "<tr><td style=\"text-align: left;\">F1 individual 1 (UNKNOWN; P28Y)</td><td style=\"text-align: left;\">Tubulointerstitial kidney disease, autosomal dominant, 1 (OMIM:162000)</td><td style=\"text-align: left;\">NM_003361.4:c.553C>A (heterozygous)</td><td style=\"text-align: left;\"><b>P8Y</b>: Gout (HP:0001997)<br/><b>P28Y</b>: Stage 5 chronic kidney disease (HP:0003774)<br/>Renal cyst (HP:0000107); Renal interstitial fibrosis (HP:0032948)</td></tr>\n",
       "<tr><td style=\"text-align: left;\">F1 individual 2 (UNKNOWN; P36Y)</td><td style=\"text-align: left;\">Tubulointerstitial kidney disease, autosomal dominant, 1 (OMIM:162000)</td><td style=\"text-align: left;\">NM_003361.4:c.553C>A (heterozygous)</td><td style=\"text-align: left;\"><b>P18Y</b>: Gout (HP:0001997)<br/><b>P36Y</b>: Stage 5 chronic kidney disease (HP:0003774)<br/>Renal cyst (HP:0000107); Renal interstitial fibrosis (HP:0032948)</td></tr>\n",
       "<tr><td style=\"text-align: left;\">F1 individual 3 (UNKNOWN; P40Y)</td><td style=\"text-align: left;\">Tubulointerstitial kidney disease, autosomal dominant, 2 (OMIM:162001)</td><td style=\"text-align: left;\">NM_003361.4:c.553C>A (heterozygous)</td><td style=\"text-align: left;\"><b>P19Y</b>: Gout (HP:0001997)<br/><b>P40Y</b>: Stage 5 chronic kidney disease (HP:0003774)<br/>Renal cyst (HP:0000107); Renal interstitial fibrosis (HP:0032948)</td></tr>\n",
       "<tr><td style=\"text-align: left;\">F1 individual 4 (UNKNOWN; P42Y)</td><td style=\"text-align: left;\">Tubulointerstitial kidney disease, autosomal dominant, 3 (OMIM:162002)</td><td style=\"text-align: left;\">NM_003361.4:c.553C>A (heterozygous)</td><td style=\"text-align: left;\"><b>P26Y</b>: Gout (HP:0001997)<br/><b>P42Y</b>: Stage 5 chronic kidney disease (HP:0003774)</td></tr>\n",
       "<tr><td style=\"text-align: left;\">F1 individual 5 (UNKNOWN; P54Y)</td><td style=\"text-align: left;\">Tubulointerstitial kidney disease, autosomal dominant, 1 (OMIM:162000)</td><td style=\"text-align: left;\">NM_003361.4:c.553C>A (heterozygous)</td><td style=\"text-align: left;\"><b>P32Y</b>: Gout (HP:0001997)<br/><b>P54Y</b>: Stage 5 chronic kidney disease (HP:0003774)</td></tr>\n",
       "<tr><td style=\"text-align: left;\">F1 individual 6 (UNKNOWN; P63Y)</td><td style=\"text-align: left;\">Tubulointerstitial kidney disease, autosomal dominant, 1 (OMIM:162000)</td><td style=\"text-align: left;\">NM_003361.4:c.553C>A (heterozygous)</td><td style=\"text-align: left;\"><b>P63Y</b>: Stage 5 chronic kidney disease (HP:0003774)<br/>Gout (HP:0001997)</td></tr>\n",
       "<tr><td style=\"text-align: left;\">F1 individual 7 (UNKNOWN; P7Y)</td><td style=\"text-align: left;\">Tubulointerstitial kidney disease, autosomal dominant, 2 (OMIM:162001)</td><td style=\"text-align: left;\">NM_003361.4:c.553C>A (heterozygous)</td><td style=\"text-align: left;\"><b>P7Y</b>: Stage 1 chronic kidney disease (HP:0012623)<br/>excluded: Stage 5 chronic kidney disease (HP:0003774); excluded: Gout (HP:0001997)</td></tr>\n",
       "<tr><td style=\"text-align: left;\">F1 individual 8 (UNKNOWN; P10Y)</td><td style=\"text-align: left;\">Tubulointerstitial kidney disease, autosomal dominant, 3 (OMIM:162002)</td><td style=\"text-align: left;\">NM_003361.4:c.553C>A (heterozygous)</td><td style=\"text-align: left;\"><b>P10Y</b>: Stage 1 chronic kidney disease (HP:0012623)<br/>excluded: Stage 5 chronic kidney disease (HP:0003774); excluded: Gout (HP:0001997)</td></tr>\n",
       "<tr><td style=\"text-align: left;\">F1 individual 9 (UNKNOWN; P16Y)</td><td style=\"text-align: left;\">Tubulointerstitial kidney disease, autosomal dominant, 1 (OMIM:162000)</td><td style=\"text-align: left;\">NM_003361.4:c.553C>A (heterozygous)</td><td style=\"text-align: left;\"><b>P16Y</b>: Stage 1 chronic kidney disease (HP:0012623)<br/>excluded: Stage 5 chronic kidney disease (HP:0003774); excluded: Gout (HP:0001997)</td></tr>\n",
       "<tr><td style=\"text-align: left;\">F1 individual 10 (UNKNOWN; P22Y)</td><td style=\"text-align: left;\">Tubulointerstitial kidney disease, autosomal dominant, 1 (OMIM:162000)</td><td style=\"text-align: left;\">NM_003361.4:c.553C>A (heterozygous)</td><td style=\"text-align: left;\"><b>P22Y</b>: Stage 1 chronic kidney disease (HP:0012623)<br/>excluded: Stage 5 chronic kidney disease (HP:0003774); excluded: Gout (HP:0001997)</td></tr>\n",
       "<tr><td style=\"text-align: left;\">F1 individual 11 (UNKNOWN; P34Y)</td><td style=\"text-align: left;\">Tubulointerstitial kidney disease, autosomal dominant, 1 (OMIM:162000)</td><td style=\"text-align: left;\">NM_003361.4:c.553C>A (heterozygous)</td><td style=\"text-align: left;\"><b>P34Y</b>: Stage 1 chronic kidney disease (HP:0012623)<br/>excluded: Stage 5 chronic kidney disease (HP:0003774); excluded: Gout (HP:0001997)</td></tr>\n",
       "<tr><td style=\"text-align: left;\">F2 individual 1 (UNKNOWN; P47Y)</td><td style=\"text-align: left;\">Tubulointerstitial kidney disease, autosomal dominant, 1 (OMIM:162000)</td><td style=\"text-align: left;\">NM_003361.4:c.665G>C (heterozygous)</td><td style=\"text-align: left;\"><b>P34Y</b>: Gout (HP:0001997)<br/><b>P47Y</b>: Stage 5 chronic kidney disease (HP:0003774)<br/>excluded: Renal cyst (HP:0000107)</td></tr>\n",
       "<tr><td style=\"text-align: left;\">F2 individual 2 (UNKNOWN; P23Y)</td><td style=\"text-align: left;\">Tubulointerstitial kidney disease, autosomal dominant, 2 (OMIM:162001)</td><td style=\"text-align: left;\">NM_003361.4:c.665G>C (heterozygous)</td><td style=\"text-align: left;\"><b>P23Y</b>: Chronic kidney disease (HP:0012622)<br/>excluded: Stage 5 chronic kidney disease (HP:0003774); excluded: Gout (HP:0001997)</td></tr>\n",
       "<tr><td style=\"text-align: left;\">F2 individual 3 (UNKNOWN; P26Y)</td><td style=\"text-align: left;\">Tubulointerstitial kidney disease, autosomal dominant, 3 (OMIM:162002)</td><td style=\"text-align: left;\">NM_003361.4:c.665G>C (heterozygous)</td><td style=\"text-align: left;\"><b>P26Y</b>: Chronic kidney disease (HP:0012622)<br/>excluded: Stage 5 chronic kidney disease (HP:0003774); excluded: Gout (HP:0001997)</td></tr>\n",
       "<tr><td style=\"text-align: left;\">F2 individual 4 (UNKNOWN; P38Y)</td><td style=\"text-align: left;\">Tubulointerstitial kidney disease, autosomal dominant, 1 (OMIM:162000)</td><td style=\"text-align: left;\">NM_003361.4:c.665G>C (heterozygous)</td><td style=\"text-align: left;\"><b>P38Y</b>: Chronic kidney disease (HP:0012622)<br/>excluded: Stage 5 chronic kidney disease (HP:0003774); excluded: Gout (HP:0001997)</td></tr>\n",
       "<tr><td style=\"text-align: left;\">F2 individual 5 (UNKNOWN; P44Y)</td><td style=\"text-align: left;\">Tubulointerstitial kidney disease, autosomal dominant, 1 (OMIM:162000)</td><td style=\"text-align: left;\">NM_003361.4:c.665G>C (heterozygous)</td><td style=\"text-align: left;\"><b>P21Y</b>: Gout (HP:0001997)<br/><b>P44Y</b>: Chronic kidney disease (HP:0012622)<br/>excluded: Stage 5 chronic kidney disease (HP:0003774)</td></tr>\n",
       "<tr><td style=\"text-align: left;\">F2 individual 6 (UNKNOWN; P45Y)</td><td style=\"text-align: left;\">Tubulointerstitial kidney disease, autosomal dominant, 2 (OMIM:162001)</td><td style=\"text-align: left;\">NM_003361.4:c.665G>C (heterozygous)</td><td style=\"text-align: left;\"><b>P23Y</b>: Gout (HP:0001997)<br/><b>P45Y</b>: Chronic kidney disease (HP:0012622)<br/>Renal cyst (HP:0000107); Renal interstitial fibrosis (HP:0032948); excluded: Stage 5 chronic kidney disease (HP:0003774)</td></tr>\n",
       "<tr><td style=\"text-align: left;\">F2 individual 7 (UNKNOWN; P54Y)</td><td style=\"text-align: left;\">Tubulointerstitial kidney disease, autosomal dominant, 3 (OMIM:162002)</td><td style=\"text-align: left;\">NM_003361.4:c.665G>C (heterozygous)</td><td style=\"text-align: left;\"><b>P28Y</b>: Gout (HP:0001997)<br/><b>P54Y</b>: Chronic kidney disease (HP:0012622)<br/>Renal cyst (HP:0000107); Renal interstitial fibrosis (HP:0032948); excluded: Stage 5 chronic kidney disease (HP:0003774)</td></tr>\n",
       "<tr><td style=\"text-align: left;\">F3 individual 1 (UNKNOWN; P38Y)</td><td style=\"text-align: left;\">Tubulointerstitial kidney disease, autosomal dominant, 1 (OMIM:162000)</td><td style=\"text-align: left;\">NM_003361.4:c.563_661del (heterozygous)</td><td style=\"text-align: left;\"><b>P14Y</b>: Gout (HP:0001997)<br/><b>P38Y</b>: Stage 5 chronic kidney disease (HP:0003774)</td></tr>\n",
       "<tr><td style=\"text-align: left;\">F3 individual 2 (UNKNOWN; P9Y)</td><td style=\"text-align: left;\">Tubulointerstitial kidney disease, autosomal dominant, 1 (OMIM:162000)</td><td style=\"text-align: left;\">NM_003361.4:c.563_661del (heterozygous)</td><td style=\"text-align: left;\"><b>P9Y</b>: Chronic kidney disease (HP:0012622)<br/>excluded: Stage 5 chronic kidney disease (HP:0003774); excluded: Gout (HP:0001997)</td></tr>\n",
       "<tr><td style=\"text-align: left;\">F3 individual 3 (UNKNOWN; P12Y)</td><td style=\"text-align: left;\">Tubulointerstitial kidney disease, autosomal dominant, 2 (OMIM:162001)</td><td style=\"text-align: left;\">NM_003361.4:c.563_661del (heterozygous)</td><td style=\"text-align: left;\"><b>P12Y</b>: Chronic kidney disease (HP:0012622)<br/>excluded: Stage 5 chronic kidney disease (HP:0003774); excluded: Gout (HP:0001997)</td></tr>\n",
       "<tr><td style=\"text-align: left;\">F4 individual 1 (UNKNOWN; P72Y)</td><td style=\"text-align: left;\">Tubulointerstitial kidney disease, autosomal dominant, 3 (OMIM:162002)</td><td style=\"text-align: left;\">NM_003361.4:c.509G>A (heterozygous)</td><td style=\"text-align: left;\"><b>P72Y</b>: Stage 5 chronic kidney disease (HP:0003774)<br/>Gout (HP:0001997)</td></tr>\n",
       "<tr><td style=\"text-align: left;\">F4 individual 2 (UNKNOWN; P73Y)</td><td style=\"text-align: left;\">Tubulointerstitial kidney disease, autosomal dominant, 1 (OMIM:162000)</td><td style=\"text-align: left;\">NM_003361.4:c.509G>A (heterozygous)</td><td style=\"text-align: left;\"><b>P73Y</b>: Stage 5 chronic kidney disease (HP:0003774)<br/>excluded: Gout (HP:0001997)</td></tr>\n",
       "<tr><td style=\"text-align: left;\">F4 individual 3 (UNKNOWN; P33Y)</td><td style=\"text-align: left;\">Tubulointerstitial kidney disease, autosomal dominant, 1 (OMIM:162000)</td><td style=\"text-align: left;\">NM_003361.4:c.509G>A (heterozygous)</td><td style=\"text-align: left;\"><b>P33Y</b>: Stage 1 chronic kidney disease (HP:0012623)<br/>excluded: Stage 5 chronic kidney disease (HP:0003774)</td></tr>\n",
       "<tr><td style=\"text-align: left;\">F5 individual 1 (UNKNOWN; P52Y)</td><td style=\"text-align: left;\">Tubulointerstitial kidney disease, autosomal dominant, 1 (OMIM:162000)</td><td style=\"text-align: left;\">NM_003361.4:c.376T>C (heterozygous)</td><td style=\"text-align: left;\"><b>P31Y</b>: Gout (HP:0001997)<br/><b>P52Y</b>: Stage 5 chronic kidney disease (HP:0003774)</td></tr>\n",
       "<tr><td style=\"text-align: left;\">F5 individual 2 (UNKNOWN; P31Y)</td><td style=\"text-align: left;\">Tubulointerstitial kidney disease, autosomal dominant, 1 (OMIM:162000)</td><td style=\"text-align: left;\">NM_003361.4:c.376T>C (heterozygous)</td><td style=\"text-align: left;\"><b>P20Y</b>: Gout (HP:0001997)<br/><b>P31Y</b>: Chronic kidney disease (HP:0012622)<br/>excluded: Stage 5 chronic kidney disease (HP:0003774)</td></tr>\n",
       "<tr><td style=\"text-align: left;\">F6 individual 1 (UNKNOWN; P64Y)</td><td style=\"text-align: left;\">Tubulointerstitial kidney disease, autosomal dominant, 2 (OMIM:162001)</td><td style=\"text-align: left;\">NM_003361.4:c.334T>C (heterozygous)</td><td style=\"text-align: left;\"><b>P30Y</b>: Gout (HP:0001997)<br/><b>P64Y</b>: Stage 5 chronic kidney disease (HP:0003774)<br/>Renal cyst (HP:0000107)</td></tr>\n",
       "<tr><td style=\"text-align: left;\">F7 individual 1 (UNKNOWN; P57Y)</td><td style=\"text-align: left;\">Tubulointerstitial kidney disease, autosomal dominant, 3 (OMIM:162002)</td><td style=\"text-align: left;\">NM_003361.4:c.610C>G (heterozygous)</td><td style=\"text-align: left;\"><b>P38Y</b>: Gout (HP:0001997)<br/><b>P57Y</b>: Chronic kidney disease (HP:0012622)<br/>excluded: Stage 5 chronic kidney disease (HP:0003774); excluded: Renal cyst (HP:0000107)</td></tr>\n",
       "<tr><td style=\"text-align: left;\">F8 individual 1 (UNKNOWN; P59Y)</td><td style=\"text-align: left;\">Tubulointerstitial kidney disease, autosomal dominant, 1 (OMIM:162000)</td><td style=\"text-align: left;\">NM_003361.4:c.176A>C (heterozygous)</td><td style=\"text-align: left;\"><b>P59Y</b>: Stage 5 chronic kidney disease (HP:0003774)<br/>Renal cyst (HP:0000107); excluded: Gout (HP:0001997)</td></tr>\n",
       "<tr><td style=\"text-align: left;\">F9 individual 1 (UNKNOWN; P38Y)</td><td style=\"text-align: left;\">Tubulointerstitial kidney disease, autosomal dominant, 1 (OMIM:162000)</td><td style=\"text-align: left;\">NM_003361.4:c.674C>T (heterozygous)</td><td style=\"text-align: left;\"><b>P38Y</b>: Stage 5 chronic kidney disease (HP:0003774)<br/>Renal interstitial fibrosis (HP:0032948); excluded: Renal cyst (HP:0000107); excluded: Gout (HP:0001997)</td></tr>\n",
       "<tr><td style=\"text-align: left;\">F9 individual 2 (UNKNOWN; P52Y)</td><td style=\"text-align: left;\">Tubulointerstitial kidney disease, autosomal dominant, 2 (OMIM:162001)</td><td style=\"text-align: left;\">NM_003361.4:c.674C>T (heterozygous)</td><td style=\"text-align: left;\"><b>P52Y</b>: Stage 5 chronic kidney disease (HP:0003774)<br/>excluded: Renal cyst (HP:0000107); excluded: Gout (HP:0001997)</td></tr>\n",
       "<tr><td style=\"text-align: left;\">F9 individual 3 (UNKNOWN; P58Y)</td><td style=\"text-align: left;\">Tubulointerstitial kidney disease, autosomal dominant, 3 (OMIM:162002)</td><td style=\"text-align: left;\">NM_003361.4:c.674C>T (heterozygous)</td><td style=\"text-align: left;\"><b>P58Y</b>: Stage 5 chronic kidney disease (HP:0003774)<br/>excluded: Renal cyst (HP:0000107); excluded: Gout (HP:0001997)</td></tr>\n",
       "<tr><td style=\"text-align: left;\">F9 individual 4 (UNKNOWN; P60Y)</td><td style=\"text-align: left;\">Tubulointerstitial kidney disease, autosomal dominant, 1 (OMIM:162000)</td><td style=\"text-align: left;\">NM_003361.4:c.674C>T (heterozygous)</td><td style=\"text-align: left;\"><b>P15Y</b>: Gout (HP:0001997)<br/><b>P60Y</b>: Stage 5 chronic kidney disease (HP:0003774)<br/>Renal cyst (HP:0000107)</td></tr>\n",
       "<tr><td style=\"text-align: left;\">F9 individual 5 (UNKNOWN; P34Y)</td><td style=\"text-align: left;\">Tubulointerstitial kidney disease, autosomal dominant, 1 (OMIM:162000)</td><td style=\"text-align: left;\">NM_003361.4:c.674C>T (heterozygous)</td><td style=\"text-align: left;\"><b>P34Y</b>: Chronic kidney disease (HP:0012622)<br/>excluded: Stage 5 chronic kidney disease (HP:0003774); excluded: Gout (HP:0001997)</td></tr>\n",
       "<tr><td style=\"text-align: left;\">F9 individual 6 (UNKNOWN; P35Y)</td><td style=\"text-align: left;\">Tubulointerstitial kidney disease, autosomal dominant, 2 (OMIM:162001)</td><td style=\"text-align: left;\">NM_003361.4:c.674C>T (heterozygous)</td><td style=\"text-align: left;\"><b>P35Y</b>: Chronic kidney disease (HP:0012622)<br/>excluded: Stage 5 chronic kidney disease (HP:0003774); excluded: Gout (HP:0001997)</td></tr>\n",
       "<tr><td style=\"text-align: left;\">F9 individual 7 (UNKNOWN; P40Y)</td><td style=\"text-align: left;\">Tubulointerstitial kidney disease, autosomal dominant, 3 (OMIM:162002)</td><td style=\"text-align: left;\">NM_003361.4:c.674C>T (heterozygous)</td><td style=\"text-align: left;\"><b>P40Y</b>: Chronic kidney disease (HP:0012622)<br/>excluded: Stage 5 chronic kidney disease (HP:0003774); excluded: Gout (HP:0001997)</td></tr>\n",
       "<tr><td style=\"text-align: left;\">F9 individual 8 (UNKNOWN; P34Y)</td><td style=\"text-align: left;\">Tubulointerstitial kidney disease, autosomal dominant, 1 (OMIM:162000)</td><td style=\"text-align: left;\">NM_003361.4:c.674C>T (heterozygous)</td><td style=\"text-align: left;\"><b>P34Y</b>: Stage 1 chronic kidney disease (HP:0012623)<br/>excluded: Stage 5 chronic kidney disease (HP:0003774); excluded: Gout (HP:0001997)</td></tr>\n",
       "<tr><td style=\"text-align: left;\">F10 individual 1 (UNKNOWN; P25Y)</td><td style=\"text-align: left;\">Tubulointerstitial kidney disease, autosomal dominant, 1 (OMIM:162000)</td><td style=\"text-align: left;\">NM_003361.4:c.844T>C (heterozygous)</td><td style=\"text-align: left;\"><b>P14Y</b>: Gout (HP:0001997)<br/><b>P25Y</b>: Stage 5 chronic kidney disease (HP:0003774)</td></tr>\n",
       "<tr><td style=\"text-align: left;\">F11 individual 1 (UNKNOWN; P36Y)</td><td style=\"text-align: left;\">Tubulointerstitial kidney disease, autosomal dominant, 1 (OMIM:162000)</td><td style=\"text-align: left;\">NM_003361.4:c.649T>G (heterozygous)</td><td style=\"text-align: left;\"><b>P21Y</b>: Gout (HP:0001997)<br/><b>P36Y</b>: Stage 5 chronic kidney disease (HP:0003774)<br/>excluded: Renal cyst (HP:0000107)</td></tr>\n",
       "<tr><td style=\"text-align: left;\">index patient III.2 (FEMALE; P57Y)</td><td style=\"text-align: left;\">Tubulointerstitial kidney disease, autosomal dominant, 1 (OMIM:162000)</td><td style=\"text-align: left;\">NM_003361.4:c.1039T>G (heterozygous)</td><td style=\"text-align: left;\"><b>P57Y</b>: Elevated circulating creatinine concentration (HP:0003259); Chronic kidney disease (HP:0012622); Hyperuricemia (HP:0002149); Proteinuria (HP:0000093)<br/>Hypertension (HP:0000822); Renal hypoplasia (HP:0000089); excluded: Stage 5 chronic kidney disease (HP:0003774); excluded: Gout (HP:0001997)</td></tr>\n",
       "<tr><td style=\"text-align: left;\">daughter IV.2 (FEMALE; P33Y)</td><td style=\"text-align: left;\">Tubulointerstitial kidney disease, autosomal dominant, 1 (OMIM:162000)</td><td style=\"text-align: left;\">NM_003361.4:c.1039T>G (heterozygous)</td><td style=\"text-align: left;\"><b>P33Y</b>: Elevated circulating creatinine concentration (HP:0003259); Chronic kidney disease (HP:0012622); Renal interstitial fibrosis (HP:0032948); Hyperuricemia (HP:0002149); Proteinuria (HP:0000093)<br/>Hypertension (HP:0000822); Renal hypoplasia (HP:0000089); excluded: Stage 5 chronic kidney disease (HP:0003774); excluded: Gout (HP:0001997)</td></tr>\n",
       "</table>"
      ],
      "text/plain": [
       "<IPython.core.display.HTML object>"
      ]
     },
     "metadata": {},
     "output_type": "display_data"
    }
   ],
   "source": [
    "table = IndividualTable(cvalidator.get_error_free_individual_list())\n",
    "display(HTML(table.to_html()))"
   ]
  }
 ],
 "metadata": {
  "kernelspec": {
   "display_name": "ps24venv",
   "language": "python",
   "name": "python3"
  },
  "language_info": {
   "codemirror_mode": {
    "name": "ipython",
    "version": 3
   },
   "file_extension": ".py",
   "mimetype": "text/x-python",
   "name": "python",
   "nbconvert_exporter": "python",
   "pygments_lexer": "ipython3",
   "version": "3.12.4"
  }
 },
 "nbformat": 4,
 "nbformat_minor": 2
}
