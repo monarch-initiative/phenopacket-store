{
 "cells": [
  {
   "cell_type": "markdown",
   "id": "94207533-c353-4c6c-9710-2e404ebbeed4",
   "metadata": {},
   "source": [
    "# SCAF4 Individuals\n",
    "Pathogenic variants n SCAF4 are associated with [Fliedner-Zweier syndrome](https://omim.org/entry/620511)."
   ]
  },
  {
   "cell_type": "code",
   "execution_count": 1,
   "id": "e73bf82c-5d10-4bce-985e-e1628b5b6d73",
   "metadata": {},
   "outputs": [
    {
     "name": "stdout",
     "output_type": "stream",
     "text": [
      "Using pyphetools version 0.9.56\n"
     ]
    }
   ],
   "source": [
    "import pandas as pd\n",
    "from IPython.display import display, HTML\n",
    "pd.set_option('display.max_colwidth', None) # show entire column contents, important!\n",
    "from collections import defaultdict\n",
    "from pyphetools.creation import *\n",
    "from pyphetools.visualization import *\n",
    "from pyphetools.validation import *\n",
    "import pyphetools\n",
    "print(f\"Using pyphetools version {pyphetools.__version__}\")"
   ]
  },
  {
   "cell_type": "code",
   "execution_count": 2,
   "id": "f0981674-ce9b-4101-bef3-63586b4d206a",
   "metadata": {},
   "outputs": [
    {
     "name": "stdout",
     "output_type": "stream",
     "text": [
      "HPO version 2024-02-27\n"
     ]
    }
   ],
   "source": [
    "parser = HpoParser(hpo_json_file=\"../hp.json\")\n",
    "hpo_cr = parser.get_hpo_concept_recognizer()\n",
    "hpo_version = parser.get_version()\n",
    "hpo_ontology = parser.get_ontology()\n",
    "created_by=\"ORCID:0000-0002-0736-9199\"\n",
    "print(f\"HPO version {hpo_version}\")"
   ]
  },
  {
   "cell_type": "code",
   "execution_count": 3,
   "id": "0a4d55e4-9004-4d5f-a8ac-60842b55af18",
   "metadata": {},
   "outputs": [
    {
     "data": {
      "text/html": [
       "<div>\n",
       "<style scoped>\n",
       "    .dataframe tbody tr th:only-of-type {\n",
       "        vertical-align: middle;\n",
       "    }\n",
       "\n",
       "    .dataframe tbody tr th {\n",
       "        vertical-align: top;\n",
       "    }\n",
       "\n",
       "    .dataframe thead th {\n",
       "        text-align: right;\n",
       "    }\n",
       "</style>\n",
       "<table border=\"1\" class=\"dataframe\">\n",
       "  <thead>\n",
       "    <tr style=\"text-align: right;\">\n",
       "      <th></th>\n",
       "      <th>PMID</th>\n",
       "      <th>title</th>\n",
       "      <th>individual_id</th>\n",
       "      <th>comment</th>\n",
       "      <th>disease_id</th>\n",
       "      <th>disease_label</th>\n",
       "      <th>transcript</th>\n",
       "      <th>allele_1</th>\n",
       "      <th>allele_2</th>\n",
       "      <th>variant.comment</th>\n",
       "      <th>...</th>\n",
       "      <th>Microcephaly</th>\n",
       "      <th>Epicanthus</th>\n",
       "      <th>Esodeviation</th>\n",
       "      <th>Bulbous nose</th>\n",
       "      <th>High palate</th>\n",
       "      <th>Joint hypermobility</th>\n",
       "      <th>Pes planus</th>\n",
       "      <th>Obesity</th>\n",
       "      <th>Long philtrum</th>\n",
       "      <th>Meningocele</th>\n",
       "    </tr>\n",
       "  </thead>\n",
       "  <tbody>\n",
       "    <tr>\n",
       "      <th>0</th>\n",
       "      <td>str</td>\n",
       "      <td>str</td>\n",
       "      <td>str</td>\n",
       "      <td>optional str</td>\n",
       "      <td>str</td>\n",
       "      <td>str</td>\n",
       "      <td>str</td>\n",
       "      <td>str</td>\n",
       "      <td>str</td>\n",
       "      <td>optional str</td>\n",
       "      <td>...</td>\n",
       "      <td>HP:0000252</td>\n",
       "      <td>HP:0000286</td>\n",
       "      <td>HP:0020045</td>\n",
       "      <td>HP:0000414</td>\n",
       "      <td>HP:0000218</td>\n",
       "      <td>HP:0001382</td>\n",
       "      <td>HP:0001763</td>\n",
       "      <td>HP:0001513</td>\n",
       "      <td>HP:0000343</td>\n",
       "      <td>HP:0002435</td>\n",
       "    </tr>\n",
       "    <tr>\n",
       "      <th>1</th>\n",
       "      <td>PMID:32730804</td>\n",
       "      <td>Variants in SCAF4 Cause a Neurodevelopmental Disorder and Are Associated with Impaired mRNA Processing</td>\n",
       "      <td>Individual 1</td>\n",
       "      <td>NaN</td>\n",
       "      <td>OMIM:620511</td>\n",
       "      <td>Fliedner-Zweier syndrome</td>\n",
       "      <td>NM_020706.2</td>\n",
       "      <td>c.321+1G&gt;T</td>\n",
       "      <td>na</td>\n",
       "      <td>NaN</td>\n",
       "      <td>...</td>\n",
       "      <td>excluded</td>\n",
       "      <td>excluded</td>\n",
       "      <td>na</td>\n",
       "      <td>na</td>\n",
       "      <td>na</td>\n",
       "      <td>na</td>\n",
       "      <td>na</td>\n",
       "      <td>excluded</td>\n",
       "      <td>na</td>\n",
       "      <td>excluded</td>\n",
       "    </tr>\n",
       "  </tbody>\n",
       "</table>\n",
       "<p>2 rows × 50 columns</p>\n",
       "</div>"
      ],
      "text/plain": [
       "            PMID  \\\n",
       "0            str   \n",
       "1  PMID:32730804   \n",
       "\n",
       "                                                                                                    title  \\\n",
       "0                                                                                                     str   \n",
       "1  Variants in SCAF4 Cause a Neurodevelopmental Disorder and Are Associated with Impaired mRNA Processing   \n",
       "\n",
       "  individual_id       comment   disease_id             disease_label  \\\n",
       "0           str  optional str          str                       str   \n",
       "1  Individual 1           NaN  OMIM:620511  Fliedner-Zweier syndrome   \n",
       "\n",
       "    transcript    allele_1 allele_2 variant.comment  ... Microcephaly  \\\n",
       "0          str         str      str    optional str  ...   HP:0000252   \n",
       "1  NM_020706.2  c.321+1G>T       na             NaN  ...     excluded   \n",
       "\n",
       "   Epicanthus Esodeviation Bulbous nose High palate Joint hypermobility  \\\n",
       "0  HP:0000286   HP:0020045   HP:0000414  HP:0000218          HP:0001382   \n",
       "1    excluded           na           na          na                  na   \n",
       "\n",
       "   Pes planus     Obesity Long philtrum Meningocele  \n",
       "0  HP:0001763  HP:0001513    HP:0000343  HP:0002435  \n",
       "1          na    excluded            na    excluded  \n",
       "\n",
       "[2 rows x 50 columns]"
      ]
     },
     "execution_count": 3,
     "metadata": {},
     "output_type": "execute_result"
    }
   ],
   "source": [
    "df = pd.read_excel(\"input/SCAF4_individuals.xlsx\")\n",
    "df.head(2)"
   ]
  },
  {
   "cell_type": "code",
   "execution_count": 4,
   "id": "5019dc87-c21d-45c2-8220-61e49029d273",
   "metadata": {},
   "outputs": [
    {
     "name": "stdout",
     "output_type": "stream",
     "text": [
      "Created encoders for 50 fields\n",
      "[WARNING] Could not parse nan as age.\n",
      "[WARNING] Could not parse nan as age.\n",
      "[WARNING] Could not parse nan as age.\n",
      "[WARNING] Could not parse nan as age.\n",
      "[WARNING] Could not parse nan as age.\n",
      "[WARNING] Could not parse nan as age.\n",
      "[WARNING] Could not parse nan as age.\n",
      "[WARNING] Could not parse nan as age.\n",
      "[WARNING] Could not parse nan as age.\n",
      "[WARNING] Could not parse n as age.\n",
      "[WARNING] Could not parse n as age.\n"
     ]
    }
   ],
   "source": [
    "encoder = CaseTemplateEncoder(df=df, hpo_cr=hpo_cr, created_by=created_by)\n",
    "individuals = encoder.get_individuals()"
   ]
  },
  {
   "cell_type": "code",
   "execution_count": 5,
   "id": "0e22eb89-9442-4309-91ea-3c9afde0f741",
   "metadata": {},
   "outputs": [
    {
     "name": "stdout",
     "output_type": "stream",
     "text": [
      "[INFO] encoding variant \"c.1411C>T\"\n",
      "https://rest.variantvalidator.org/VariantValidator/variantvalidator/hg38/NM_020706.2%3Ac.1411C>T/NM_020706.2?content-type=application%2Fjson\n",
      "[INFO] encoding variant \"c.374_375dup\"\n",
      "https://rest.variantvalidator.org/VariantValidator/variantvalidator/hg38/NM_020706.2%3Ac.374_375dup/NM_020706.2?content-type=application%2Fjson\n"
     ]
    }
   ],
   "source": [
    "SCAF4_transcript = \"NM_020706.2\"\n",
    "vmanager = VariantManager(df=df,\n",
    "                          individual_column_name=\"individual_id\",\n",
    "                          gene_symbol=\"SCAF4\",\n",
    "                          transcript=SCAF4_transcript,\n",
    "                          allele_1_column_name=\"allele_1\")"
   ]
  },
  {
   "cell_type": "code",
   "execution_count": 6,
   "id": "e1e87ce0-0540-4d83-9527-4413b1474dad",
   "metadata": {},
   "outputs": [
    {
     "data": {
      "text/html": [
       "<div>\n",
       "<style scoped>\n",
       "    .dataframe tbody tr th:only-of-type {\n",
       "        vertical-align: middle;\n",
       "    }\n",
       "\n",
       "    .dataframe tbody tr th {\n",
       "        vertical-align: top;\n",
       "    }\n",
       "\n",
       "    .dataframe thead th {\n",
       "        text-align: right;\n",
       "    }\n",
       "</style>\n",
       "<table border=\"1\" class=\"dataframe\">\n",
       "  <thead>\n",
       "    <tr style=\"text-align: right;\">\n",
       "      <th></th>\n",
       "      <th>status</th>\n",
       "      <th>count</th>\n",
       "      <th>alleles</th>\n",
       "    </tr>\n",
       "  </thead>\n",
       "  <tbody>\n",
       "    <tr>\n",
       "      <th>0</th>\n",
       "      <td>mapped</td>\n",
       "      <td>13</td>\n",
       "      <td>c.453_456del, c.1614+1G&gt;C, c.1812G&gt;A, c.1649dup, c.783G&gt;T, c.1423C&gt;T, c.1301C&gt;A, c.1889G&gt;A, c.3200_3201del, c.1028del, c.321+1G&gt;T, c.1411C&gt;T, c.374_375dup</td>\n",
       "    </tr>\n",
       "    <tr>\n",
       "      <th>1</th>\n",
       "      <td>unmapped</td>\n",
       "      <td>0</td>\n",
       "      <td></td>\n",
       "    </tr>\n",
       "  </tbody>\n",
       "</table>\n",
       "</div>"
      ],
      "text/plain": [
       "     status  count  \\\n",
       "0    mapped     13   \n",
       "1  unmapped      0   \n",
       "\n",
       "                                                                                                                                                      alleles  \n",
       "0  c.453_456del, c.1614+1G>C, c.1812G>A, c.1649dup, c.783G>T, c.1423C>T, c.1301C>A, c.1889G>A, c.3200_3201del, c.1028del, c.321+1G>T, c.1411C>T, c.374_375dup  \n",
       "1                                                                                                                                                              "
      ]
     },
     "execution_count": 6,
     "metadata": {},
     "output_type": "execute_result"
    }
   ],
   "source": [
    "vmanager.to_summary()"
   ]
  },
  {
   "cell_type": "code",
   "execution_count": 7,
   "id": "edfd8a51-f504-44a6-bb57-5203f8dbbcde",
   "metadata": {},
   "outputs": [],
   "source": [
    "vmanager.add_variants_to_individuals(individuals)"
   ]
  },
  {
   "cell_type": "code",
   "execution_count": 8,
   "id": "5cbacd27-7323-4d21-a443-abaa080e2cde",
   "metadata": {},
   "outputs": [
    {
     "data": {
      "text/html": [
       "<h2>Cohort validation</h2>\n",
       "<p>No errors found for the cohort with 11 individuals</p>"
      ],
      "text/plain": [
       "<IPython.core.display.HTML object>"
      ]
     },
     "metadata": {},
     "output_type": "display_data"
    }
   ],
   "source": [
    "cvalidator = CohortValidator(cohort=individuals, ontology=hpo_ontology, min_hpo=1,\n",
    "                                allelic_requirement=AllelicRequirement.MONO_ALLELIC)\n",
    "qc = QcVisualizer(cohort_validator=cvalidator)\n",
    "display(HTML(qc.to_summary_html()))"
   ]
  },
  {
   "cell_type": "code",
   "execution_count": 9,
   "id": "2fd3777f-3034-4cd6-a088-eeba31e0f982",
   "metadata": {},
   "outputs": [
    {
     "data": {
      "text/html": [
       "<table style=\"border: 2px solid black; align: \"left\">\n",
       "<caption>11 phenopackets - PMID:32730804 (n=9); PMID:36333968 (n=1); PMID:37394306 (n=1)</caption>\n",
       "<tr><th style=\"text-align: left;font-weight: bold;\">Individual</th><th style=\"text-align: left;font-weight: bold;\">Disease</th><th style=\"text-align: left;font-weight: bold;\">Genotype</th><th style=\"text-align: left;font-weight: bold;\">Phenotypic features</th></tr>\n",
       "<tr><td style=\"text-align: left;\">Individual 1 (FEMALE; P3Y3M)</td><td style=\"text-align: left;\">Fliedner-Zweier syndrome (OMIM:620511)</td><td style=\"text-align: left;\">NM_020706.2:c.321+1G>T (heterozygous)</td><td style=\"text-align: left;\">Global developmental delay (HP:0001263); Delayed speech and language development (HP:0000750); Seizure (HP:0001250); Hypotonia (HP:0001252); Autistic behavior (HP:0000729); excluded: Delayed ability to walk (HP:0031936); excluded: Hypoplasia of the corpus callosum (HP:0002079); excluded: Cerebellar atrophy (HP:0001272); excluded: Hypertonia (HP:0001276); excluded: Aggressive behavior (HP:0000718); excluded: Self-injurious behavior (HP:0100716); excluded: Tracheoesophageal fistula (HP:0002575); excluded: Anal atresia (HP:0002023); excluded: Kyphosis (HP:0002808); excluded: Scoliosis (HP:0002650); excluded: Hallux valgus (HP:0001822); excluded: Pectus excavatum (HP:0000767); excluded: Tethered cord (HP:0002144); excluded: Microcephaly (HP:0000252); excluded: Epicanthus (HP:0000286); excluded: Obesity (HP:0001513); excluded: Meningocele (HP:0002435)</td></tr>\n",
       "<tr><td style=\"text-align: left;\">Individual 2 (MALE; P2Y6M)</td><td style=\"text-align: left;\">Fliedner-Zweier syndrome (OMIM:620511)</td><td style=\"text-align: left;\">NM_020706.2:c.453_456del (heterozygous)</td><td style=\"text-align: left;\">Global developmental delay (HP:0001263); Hypotonia (HP:0001252); excluded: Delayed ability to walk (HP:0031936); excluded: Seizure (HP:0001250); excluded: Hypoplasia of the corpus callosum (HP:0002079); excluded: Cerebellar atrophy (HP:0001272); excluded: Hypertonia (HP:0001276); excluded: Ventricular septal defect (HP:0001629); excluded: Bicuspid aortic valve (HP:0001647); excluded: Hypoplastic aortic arch (HP:0012304); excluded: Tracheoesophageal fistula (HP:0002575); excluded: Anal atresia (HP:0002023); excluded: Kyphosis (HP:0002808); excluded: Scoliosis (HP:0002650); excluded: Hallux valgus (HP:0001822); excluded: Pectus excavatum (HP:0000767); excluded: Tethered cord (HP:0002144); excluded: Microcephaly (HP:0000252); excluded: Epicanthus (HP:0000286); excluded: Obesity (HP:0001513); excluded: Meningocele (HP:0002435)</td></tr>\n",
       "<tr><td style=\"text-align: left;\">Individual 3 (MALE; P16Y)</td><td style=\"text-align: left;\">Fliedner-Zweier syndrome (OMIM:620511)</td><td style=\"text-align: left;\">NM_020706.2:c.1028del (heterozygous)</td><td style=\"text-align: left;\">Autistic behavior (HP:0000729); Global developmental delay (HP:0001263); Delayed speech and language development (HP:0000750); Ventricular septal defect (HP:0001629); Bicuspid aortic valve (HP:0001647); Hypoplastic aortic arch (HP:0012304); Unilateral renal agenesis (HP:0000122); Tracheoesophageal fistula (HP:0002575); Anal atresia (HP:0002023); Tethered cord (HP:0002144); excluded: Delayed ability to walk (HP:0031936); excluded: Seizure (HP:0001250); excluded: Hypotonia (HP:0001252); excluded: Hypertonia (HP:0001276); excluded: Aggressive behavior (HP:0000718); excluded: Self-injurious behavior (HP:0100716); excluded: Multicystic kidney dysplasia (HP:0000003); excluded: Hydronephrosis (HP:0000126); excluded: Kyphosis (HP:0002808); excluded: Scoliosis (HP:0002650); excluded: Hallux valgus (HP:0001822); excluded: Pectus excavatum (HP:0000767); excluded: Epicanthus (HP:0000286); excluded: Obesity (HP:0001513); excluded: Meningocele (HP:0002435)</td></tr>\n",
       "<tr><td style=\"text-align: left;\">Individual 4 (MALE; P18Y)</td><td style=\"text-align: left;\">Fliedner-Zweier syndrome (OMIM:620511)</td><td style=\"text-align: left;\">NM_020706.2:c.1301C>A (heterozygous)</td><td style=\"text-align: left;\">Global developmental delay (HP:0001263); Delayed ability to walk (HP:0031936); Delayed speech and language development (HP:0000750); Seizure (HP:0001250); Hypotonia (HP:0001252); Autistic behavior (HP:0000729); Aggressive behavior (HP:0000718); Multicystic kidney dysplasia (HP:0000003); Kyphosis (HP:0002808); Scoliosis (HP:0002650); excluded: Hypertonia (HP:0001276); excluded: Self-injurious behavior (HP:0100716); excluded: Bicuspid aortic valve (HP:0001647); excluded: Hypoplastic aortic arch (HP:0012304); excluded: Unilateral renal agenesis (HP:0000122); excluded: Hydronephrosis (HP:0000126); excluded: Tracheoesophageal fistula (HP:0002575); excluded: Anal atresia (HP:0002023); excluded: Hallux valgus (HP:0001822); excluded: Pectus excavatum (HP:0000767); excluded: Tethered cord (HP:0002144); excluded: Microcephaly (HP:0000252); excluded: Epicanthus (HP:0000286); excluded: Obesity (HP:0001513); excluded: Meningocele (HP:0002435)</td></tr>\n",
       "<tr><td style=\"text-align: left;\">Individual 5 (FEMALE; P13Y)</td><td style=\"text-align: left;\">Fliedner-Zweier syndrome (OMIM:620511)</td><td style=\"text-align: left;\">NM_020706.2:c.1423C>T (heterozygous)</td><td style=\"text-align: left;\">Global developmental delay (HP:0001263); Seizure (HP:0001250); Autistic behavior (HP:0000729); Ventricular septal defect (HP:0001629); Hydronephrosis (HP:0000126); Hallux valgus (HP:0001822); excluded: Delayed ability to walk (HP:0031936); excluded: Hypoplasia of the corpus callosum (HP:0002079); excluded: Cerebellar atrophy (HP:0001272); excluded: Hypotonia (HP:0001252); excluded: Hypertonia (HP:0001276); excluded: Aggressive behavior (HP:0000718); excluded: Self-injurious behavior (HP:0100716); excluded: Bicuspid aortic valve (HP:0001647); excluded: Hypoplastic aortic arch (HP:0012304); excluded: Unilateral renal agenesis (HP:0000122); excluded: Multicystic kidney dysplasia (HP:0000003); excluded: Tracheoesophageal fistula (HP:0002575); excluded: Anal atresia (HP:0002023); excluded: Kyphosis (HP:0002808); excluded: Scoliosis (HP:0002650); excluded: Pectus excavatum (HP:0000767); excluded: Tethered cord (HP:0002144); excluded: Microcephaly (HP:0000252); excluded: Epicanthus (HP:0000286); excluded: Obesity (HP:0001513); excluded: Meningocele (HP:0002435)</td></tr>\n",
       "<tr><td style=\"text-align: left;\">Individual 6 (MALE; P6Y6M)</td><td style=\"text-align: left;\">Fliedner-Zweier syndrome (OMIM:620511)</td><td style=\"text-align: left;\">NM_020706.2:c.1614+1G>C (heterozygous)</td><td style=\"text-align: left;\">Global developmental delay (HP:0001263); Autistic behavior (HP:0000729); Aggressive behavior (HP:0000718); Kyphosis (HP:0002808); excluded: Delayed ability to walk (HP:0031936); excluded: Seizure (HP:0001250); excluded: Self-injurious behavior (HP:0100716); excluded: Unilateral renal agenesis (HP:0000122); excluded: Multicystic kidney dysplasia (HP:0000003); excluded: Hydronephrosis (HP:0000126); excluded: Tracheoesophageal fistula (HP:0002575); excluded: Anal atresia (HP:0002023); excluded: Scoliosis (HP:0002650); excluded: Hallux valgus (HP:0001822); excluded: Pectus excavatum (HP:0000767); excluded: Tethered cord (HP:0002144); excluded: Epicanthus (HP:0000286); excluded: Obesity (HP:0001513); excluded: Meningocele (HP:0002435)</td></tr>\n",
       "<tr><td style=\"text-align: left;\">Individual 7 (MALE; P6Y5M)</td><td style=\"text-align: left;\">Fliedner-Zweier syndrome (OMIM:620511)</td><td style=\"text-align: left;\">NM_020706.2:c.1649dup (heterozygous)</td><td style=\"text-align: left;\">Global developmental delay (HP:0001263); Delayed speech and language development (HP:0000750); Seizure (HP:0001250); excluded: Delayed ability to walk (HP:0031936); excluded: Hypoplasia of the corpus callosum (HP:0002079); excluded: Cerebellar atrophy (HP:0001272); excluded: Autistic behavior (HP:0000729); excluded: Aggressive behavior (HP:0000718); excluded: Self-injurious behavior (HP:0100716); excluded: Tethered cord (HP:0002144); excluded: Epicanthus (HP:0000286); excluded: Obesity (HP:0001513); excluded: Meningocele (HP:0002435)</td></tr>\n",
       "<tr><td style=\"text-align: left;\">Individual 8 (MALE; P11Y)</td><td style=\"text-align: left;\">Fliedner-Zweier syndrome (OMIM:620511)</td><td style=\"text-align: left;\">NM_020706.2:c.1812G>A (heterozygous)</td><td style=\"text-align: left;\">Global developmental delay (HP:0001263); Delayed speech and language development (HP:0000750); Seizure (HP:0001250); Cerebellar atrophy (HP:0001272); Hypertonia (HP:0001276); Aggressive behavior (HP:0000718); Self-injurious behavior (HP:0100716); Pectus excavatum (HP:0000767); Obesity (HP:0001513); excluded: Delayed ability to walk (HP:0031936); excluded: Hypoplasia of the corpus callosum (HP:0002079); excluded: Hypotonia (HP:0001252); excluded: Autistic behavior (HP:0000729); excluded: Kyphosis (HP:0002808); excluded: Scoliosis (HP:0002650); excluded: Hallux valgus (HP:0001822); excluded: Tethered cord (HP:0002144); excluded: Epicanthus (HP:0000286); excluded: Meningocele (HP:0002435)</td></tr>\n",
       "<tr><td style=\"text-align: left;\">Individual 9 (FEMALE; P4Y6M)</td><td style=\"text-align: left;\">Fliedner-Zweier syndrome (OMIM:620511)</td><td style=\"text-align: left;\">NM_020706.2:c.1889G>A (heterozygous)</td><td style=\"text-align: left;\">Global developmental delay (HP:0001263); Delayed ability to walk (HP:0031936); Delayed speech and language development (HP:0000750); Hypoplasia of the corpus callosum (HP:0002079); Hypotonia (HP:0001252); Aggressive behavior (HP:0000718); Ventricular septal defect (HP:0001629); Multicystic kidney dysplasia (HP:0000003); Meningocele (HP:0002435); excluded: Seizure (HP:0001250); excluded: Cerebellar atrophy (HP:0001272); excluded: Hypertonia (HP:0001276); excluded: Autistic behavior (HP:0000729); excluded: Self-injurious behavior (HP:0100716); excluded: Bicuspid aortic valve (HP:0001647); excluded: Hypoplastic aortic arch (HP:0012304); excluded: Unilateral renal agenesis (HP:0000122); excluded: Hydronephrosis (HP:0000126); excluded: Tracheoesophageal fistula (HP:0002575); excluded: Anal atresia (HP:0002023); excluded: Kyphosis (HP:0002808); excluded: Scoliosis (HP:0002650); excluded: Hallux valgus (HP:0001822); excluded: Pectus excavatum (HP:0000767); excluded: Tethered cord (HP:0002144); excluded: Epicanthus (HP:0000286); excluded: Obesity (HP:0001513)</td></tr>\n",
       "<tr><td style=\"text-align: left;\">16-year-oldBrazilian male (MALE; P16Y)</td><td style=\"text-align: left;\">Fliedner-Zweier syndrome (OMIM:620511)</td><td style=\"text-align: left;\">NM_020706.2:c.374_375dup (heterozygous)</td><td style=\"text-align: left;\">Feeding difficulties (HP:0011968); Microcephaly (HP:0000252); Global developmental delay (HP:0001263); Intellectual disability (HP:0001249); Delayed speech and language development (HP:0000750); Seizure (HP:0001250); Aggressive behavior (HP:0000718); Epicanthus (HP:0000286); Esodeviation (HP:0020045); Bulbous nose (HP:0000414); High palate (HP:0000218); Joint hypermobility (HP:0001382); Pes planus (HP:0001763); Obesity (HP:0001513); Long philtrum (HP:0000343); excluded: Delayed ability to walk (HP:0031936); excluded: Hypoplasia of the corpus callosum (HP:0002079); excluded: Cerebellar atrophy (HP:0001272); excluded: Autistic behavior (HP:0000729); excluded: Self-injurious behavior (HP:0100716); excluded: Kyphosis (HP:0002808); excluded: Scoliosis (HP:0002650); excluded: Hallux valgus (HP:0001822); excluded: Pectus excavatum (HP:0000767); excluded: Meningocele (HP:0002435)</td></tr>\n",
       "<tr><td style=\"text-align: left;\">Patient 1 (MALE; P12Y)</td><td style=\"text-align: left;\">Fliedner-Zweier syndrome (OMIM:620511)</td><td style=\"text-align: left;\">NM_020706.2:c.1411C>T (heterozygous)</td><td style=\"text-align: left;\">Global developmental delay (HP:0001263); Intellectual disability (HP:0001249); Seizure (HP:0001250); Tethered cord (HP:0002144); Meningocele (HP:0002435); excluded: Hypoplasia of the corpus callosum (HP:0002079); excluded: Cerebellar atrophy (HP:0001272)</td></tr>\n",
       "</table>"
      ],
      "text/plain": [
       "<IPython.core.display.HTML object>"
      ]
     },
     "metadata": {},
     "output_type": "display_data"
    }
   ],
   "source": [
    "individuals = cvalidator.get_error_free_individual_list()\n",
    "table = IndividualTable(individuals)\n",
    "display(HTML(table.to_html()))"
   ]
  },
  {
   "cell_type": "code",
   "execution_count": 12,
   "id": "9a3c97f1-336c-424d-bfed-6482c52a7dda",
   "metadata": {},
   "outputs": [
    {
     "name": "stdout",
     "output_type": "stream",
     "text": [
      "We output 11 GA4GH phenopackets to the directory phenopackets\n"
     ]
    }
   ],
   "source": [
    "encoder.output_individuals_as_phenopackets(individual_list=individuals)"
   ]
  },
  {
   "cell_type": "markdown",
   "id": "c13ae06f-e4c9-412a-af64-5f7df0fe7c75",
   "metadata": {},
   "source": [
    "# HPOA file"
   ]
  },
  {
   "cell_type": "code",
   "execution_count": 13,
   "id": "d20b0b96-f22a-41ec-b5fe-fcb0815f4330",
   "metadata": {},
   "outputs": [
    {
     "name": "stdout",
     "output_type": "stream",
     "text": [
      "[pyphetools] Ingested 11 GA4GH phenopackets.\n"
     ]
    }
   ],
   "source": [
    "ingestor = PhenopacketIngestor(indir=\"phenopackets\")\n",
    "ppkt_d = ingestor.get_phenopacket_dictionary()\n",
    "ppkt_list = list(ppkt_d.values())"
   ]
  },
  {
   "cell_type": "code",
   "execution_count": 14,
   "id": "b62ae3b2-82d6-4a2d-b208-33c66118b6bb",
   "metadata": {},
   "outputs": [],
   "source": [
    "builder = HpoaTableBuilder(phenopacket_list=ppkt_list)"
   ]
  },
  {
   "cell_type": "code",
   "execution_count": 16,
   "id": "db697afb-b474-411f-96f6-c102769780a8",
   "metadata": {},
   "outputs": [
    {
     "name": "stdout",
     "output_type": "stream",
     "text": [
      "We found a total of 36 unique HPO terms\n",
      "Extracted disease: Fliedner-Zweier syndrome (OMIM:620511)\n"
     ]
    },
    {
     "data": {
      "text/html": [
       "<div>\n",
       "<style scoped>\n",
       "    .dataframe tbody tr th:only-of-type {\n",
       "        vertical-align: middle;\n",
       "    }\n",
       "\n",
       "    .dataframe tbody tr th {\n",
       "        vertical-align: top;\n",
       "    }\n",
       "\n",
       "    .dataframe thead th {\n",
       "        text-align: right;\n",
       "    }\n",
       "</style>\n",
       "<table border=\"1\" class=\"dataframe\">\n",
       "  <thead>\n",
       "    <tr style=\"text-align: right;\">\n",
       "      <th></th>\n",
       "      <th>#diseaseID</th>\n",
       "      <th>diseaseName</th>\n",
       "      <th>phenotypeID</th>\n",
       "      <th>phenotypeName</th>\n",
       "      <th>onsetID</th>\n",
       "      <th>onsetName</th>\n",
       "      <th>frequency</th>\n",
       "      <th>sex</th>\n",
       "      <th>negation</th>\n",
       "      <th>modifier</th>\n",
       "      <th>description</th>\n",
       "      <th>publication</th>\n",
       "      <th>evidence</th>\n",
       "      <th>biocuration</th>\n",
       "    </tr>\n",
       "  </thead>\n",
       "  <tbody>\n",
       "    <tr>\n",
       "      <th>0</th>\n",
       "      <td>OMIM:620511</td>\n",
       "      <td>Fliedner-Zweier syndrome</td>\n",
       "      <td>HP:0001263</td>\n",
       "      <td>Global developmental delay</td>\n",
       "      <td></td>\n",
       "      <td></td>\n",
       "      <td>9/9</td>\n",
       "      <td></td>\n",
       "      <td></td>\n",
       "      <td></td>\n",
       "      <td></td>\n",
       "      <td>PMID:32730804</td>\n",
       "      <td>PCS</td>\n",
       "      <td>ORCID:0000-0002-0736-9199</td>\n",
       "    </tr>\n",
       "    <tr>\n",
       "      <th>1</th>\n",
       "      <td>OMIM:620511</td>\n",
       "      <td>Fliedner-Zweier syndrome</td>\n",
       "      <td>HP:0000750</td>\n",
       "      <td>Delayed speech and language development</td>\n",
       "      <td></td>\n",
       "      <td></td>\n",
       "      <td>6/6</td>\n",
       "      <td></td>\n",
       "      <td></td>\n",
       "      <td></td>\n",
       "      <td></td>\n",
       "      <td>PMID:32730804</td>\n",
       "      <td>PCS</td>\n",
       "      <td>ORCID:0000-0002-0736-9199</td>\n",
       "    </tr>\n",
       "    <tr>\n",
       "      <th>2</th>\n",
       "      <td>OMIM:620511</td>\n",
       "      <td>Fliedner-Zweier syndrome</td>\n",
       "      <td>HP:0001250</td>\n",
       "      <td>Seizure</td>\n",
       "      <td></td>\n",
       "      <td></td>\n",
       "      <td>5/9</td>\n",
       "      <td></td>\n",
       "      <td></td>\n",
       "      <td></td>\n",
       "      <td></td>\n",
       "      <td>PMID:32730804</td>\n",
       "      <td>PCS</td>\n",
       "      <td>ORCID:0000-0002-0736-9199</td>\n",
       "    </tr>\n",
       "    <tr>\n",
       "      <th>3</th>\n",
       "      <td>OMIM:620511</td>\n",
       "      <td>Fliedner-Zweier syndrome</td>\n",
       "      <td>HP:0001272</td>\n",
       "      <td>Cerebellar atrophy</td>\n",
       "      <td></td>\n",
       "      <td></td>\n",
       "      <td>1/6</td>\n",
       "      <td></td>\n",
       "      <td></td>\n",
       "      <td></td>\n",
       "      <td></td>\n",
       "      <td>PMID:32730804</td>\n",
       "      <td>PCS</td>\n",
       "      <td>ORCID:0000-0002-0736-9199</td>\n",
       "    </tr>\n",
       "    <tr>\n",
       "      <th>4</th>\n",
       "      <td>OMIM:620511</td>\n",
       "      <td>Fliedner-Zweier syndrome</td>\n",
       "      <td>HP:0001276</td>\n",
       "      <td>Hypertonia</td>\n",
       "      <td></td>\n",
       "      <td></td>\n",
       "      <td>1/7</td>\n",
       "      <td></td>\n",
       "      <td></td>\n",
       "      <td></td>\n",
       "      <td></td>\n",
       "      <td>PMID:32730804</td>\n",
       "      <td>PCS</td>\n",
       "      <td>ORCID:0000-0002-0736-9199</td>\n",
       "    </tr>\n",
       "    <tr>\n",
       "      <th>...</th>\n",
       "      <td>...</td>\n",
       "      <td>...</td>\n",
       "      <td>...</td>\n",
       "      <td>...</td>\n",
       "      <td>...</td>\n",
       "      <td>...</td>\n",
       "      <td>...</td>\n",
       "      <td>...</td>\n",
       "      <td>...</td>\n",
       "      <td>...</td>\n",
       "      <td>...</td>\n",
       "      <td>...</td>\n",
       "      <td>...</td>\n",
       "      <td>...</td>\n",
       "    </tr>\n",
       "    <tr>\n",
       "      <th>59</th>\n",
       "      <td>OMIM:620511</td>\n",
       "      <td>Fliedner-Zweier syndrome</td>\n",
       "      <td>HP:0002435</td>\n",
       "      <td>Meningocele</td>\n",
       "      <td></td>\n",
       "      <td></td>\n",
       "      <td>0/1</td>\n",
       "      <td></td>\n",
       "      <td></td>\n",
       "      <td></td>\n",
       "      <td></td>\n",
       "      <td>PMID:36333968</td>\n",
       "      <td>PCS</td>\n",
       "      <td>ORCID:0000-0002-0736-9199</td>\n",
       "    </tr>\n",
       "    <tr>\n",
       "      <th>60</th>\n",
       "      <td>OMIM:620511</td>\n",
       "      <td>Fliedner-Zweier syndrome</td>\n",
       "      <td>HP:0011463</td>\n",
       "      <td>Childhood onset</td>\n",
       "      <td></td>\n",
       "      <td></td>\n",
       "      <td>1/1</td>\n",
       "      <td></td>\n",
       "      <td></td>\n",
       "      <td></td>\n",
       "      <td></td>\n",
       "      <td>PMID:37394306</td>\n",
       "      <td>PCS</td>\n",
       "      <td>ORCID:0000-0002-0736-9199</td>\n",
       "    </tr>\n",
       "    <tr>\n",
       "      <th>61</th>\n",
       "      <td>OMIM:620511</td>\n",
       "      <td>Fliedner-Zweier syndrome</td>\n",
       "      <td>HP:0003593</td>\n",
       "      <td>Infantile onset</td>\n",
       "      <td></td>\n",
       "      <td></td>\n",
       "      <td>1/1</td>\n",
       "      <td></td>\n",
       "      <td></td>\n",
       "      <td></td>\n",
       "      <td></td>\n",
       "      <td>PMID:36333968</td>\n",
       "      <td>PCS</td>\n",
       "      <td>ORCID:0000-0002-0736-9199</td>\n",
       "    </tr>\n",
       "    <tr>\n",
       "      <th>62</th>\n",
       "      <td>OMIM:620511</td>\n",
       "      <td>Fliedner-Zweier syndrome</td>\n",
       "      <td>HP:0000006</td>\n",
       "      <td>Autosomal dominant inheritance</td>\n",
       "      <td></td>\n",
       "      <td></td>\n",
       "      <td></td>\n",
       "      <td></td>\n",
       "      <td></td>\n",
       "      <td></td>\n",
       "      <td></td>\n",
       "      <td>PMID:32730804</td>\n",
       "      <td>PCS</td>\n",
       "      <td>ORCID:0000-0002-0736-9199</td>\n",
       "    </tr>\n",
       "    <tr>\n",
       "      <th>63</th>\n",
       "      <td>OMIM:620511</td>\n",
       "      <td>Fliedner-Zweier syndrome</td>\n",
       "      <td>HP:0000006</td>\n",
       "      <td>Autosomal dominant inheritance</td>\n",
       "      <td></td>\n",
       "      <td></td>\n",
       "      <td></td>\n",
       "      <td></td>\n",
       "      <td></td>\n",
       "      <td></td>\n",
       "      <td></td>\n",
       "      <td>PMID:32730804</td>\n",
       "      <td>PCS</td>\n",
       "      <td>ORCID:0000-0002-0736-9199</td>\n",
       "    </tr>\n",
       "  </tbody>\n",
       "</table>\n",
       "<p>64 rows × 14 columns</p>\n",
       "</div>"
      ],
      "text/plain": [
       "     #diseaseID               diseaseName phenotypeID  \\\n",
       "0   OMIM:620511  Fliedner-Zweier syndrome  HP:0001263   \n",
       "1   OMIM:620511  Fliedner-Zweier syndrome  HP:0000750   \n",
       "2   OMIM:620511  Fliedner-Zweier syndrome  HP:0001250   \n",
       "3   OMIM:620511  Fliedner-Zweier syndrome  HP:0001272   \n",
       "4   OMIM:620511  Fliedner-Zweier syndrome  HP:0001276   \n",
       "..          ...                       ...         ...   \n",
       "59  OMIM:620511  Fliedner-Zweier syndrome  HP:0002435   \n",
       "60  OMIM:620511  Fliedner-Zweier syndrome  HP:0011463   \n",
       "61  OMIM:620511  Fliedner-Zweier syndrome  HP:0003593   \n",
       "62  OMIM:620511  Fliedner-Zweier syndrome  HP:0000006   \n",
       "63  OMIM:620511  Fliedner-Zweier syndrome  HP:0000006   \n",
       "\n",
       "                              phenotypeName onsetID onsetName frequency sex  \\\n",
       "0                Global developmental delay                         9/9       \n",
       "1   Delayed speech and language development                         6/6       \n",
       "2                                   Seizure                         5/9       \n",
       "3                        Cerebellar atrophy                         1/6       \n",
       "4                                Hypertonia                         1/7       \n",
       "..                                      ...     ...       ...       ...  ..   \n",
       "59                              Meningocele                         0/1       \n",
       "60                          Childhood onset                         1/1       \n",
       "61                          Infantile onset                         1/1       \n",
       "62           Autosomal dominant inheritance                                   \n",
       "63           Autosomal dominant inheritance                                   \n",
       "\n",
       "   negation modifier description    publication evidence  \\\n",
       "0                                 PMID:32730804      PCS   \n",
       "1                                 PMID:32730804      PCS   \n",
       "2                                 PMID:32730804      PCS   \n",
       "3                                 PMID:32730804      PCS   \n",
       "4                                 PMID:32730804      PCS   \n",
       "..      ...      ...         ...            ...      ...   \n",
       "59                                PMID:36333968      PCS   \n",
       "60                                PMID:37394306      PCS   \n",
       "61                                PMID:36333968      PCS   \n",
       "62                                PMID:32730804      PCS   \n",
       "63                                PMID:32730804      PCS   \n",
       "\n",
       "                  biocuration  \n",
       "0   ORCID:0000-0002-0736-9199  \n",
       "1   ORCID:0000-0002-0736-9199  \n",
       "2   ORCID:0000-0002-0736-9199  \n",
       "3   ORCID:0000-0002-0736-9199  \n",
       "4   ORCID:0000-0002-0736-9199  \n",
       "..                        ...  \n",
       "59  ORCID:0000-0002-0736-9199  \n",
       "60  ORCID:0000-0002-0736-9199  \n",
       "61  ORCID:0000-0002-0736-9199  \n",
       "62  ORCID:0000-0002-0736-9199  \n",
       "63  ORCID:0000-0002-0736-9199  \n",
       "\n",
       "[64 rows x 14 columns]"
      ]
     },
     "execution_count": 16,
     "metadata": {},
     "output_type": "execute_result"
    }
   ],
   "source": [
    "PMID = \"PMID:32730804\"\n",
    "hpoa_table_creator = builder.autosomal_dominant(PMID).build()\n",
    "hpoa_table_creator.get_dataframe()"
   ]
  },
  {
   "cell_type": "code",
   "execution_count": 17,
   "id": "cb057674-0645-4077-9e4a-cd210a099681",
   "metadata": {},
   "outputs": [
    {
     "name": "stdout",
     "output_type": "stream",
     "text": [
      "Wrote HPOA disease file to OMIM-620511.tab\n"
     ]
    }
   ],
   "source": [
    "hpoa_table_creator.write_data_frame()"
   ]
  },
  {
   "cell_type": "code",
   "execution_count": null,
   "id": "42ed6ccd-318b-4a6a-a0d2-1353ed898345",
   "metadata": {},
   "outputs": [],
   "source": []
  }
 ],
 "metadata": {
  "kernelspec": {
   "display_name": "Python 3 (ipykernel)",
   "language": "python",
   "name": "python3"
  },
  "language_info": {
   "codemirror_mode": {
    "name": "ipython",
    "version": 3
   },
   "file_extension": ".py",
   "mimetype": "text/x-python",
   "name": "python",
   "nbconvert_exporter": "python",
   "pygments_lexer": "ipython3",
   "version": "3.8.10"
  }
 },
 "nbformat": 4,
 "nbformat_minor": 5
}
