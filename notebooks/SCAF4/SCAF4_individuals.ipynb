{
 "cells": [
  {
   "cell_type": "markdown",
   "id": "94207533-c353-4c6c-9710-2e404ebbeed4",
   "metadata": {},
   "source": [
    "# SCAF4 Individuals\n",
    "Pathogenic variants in SCAF4 are associated with [Fliedner-Zweier syndrome](https://omim.org/entry/620511)."
   ]
  },
  {
   "cell_type": "code",
   "execution_count": 4,
   "id": "e73bf82c-5d10-4bce-985e-e1628b5b6d73",
   "metadata": {},
   "outputs": [
    {
     "name": "stdout",
     "output_type": "stream",
     "text": [
      "Using pyphetools version 0.9.66\n"
     ]
    }
   ],
   "source": [
    "from pyphetools.creation import TemplateImporter\n",
    "from pyphetools.visualization import IndividualTable, QcVisualizer\n",
    "from IPython.display import display, HTML\n",
    "import pyphetools\n",
    "print(f\"Using pyphetools version {pyphetools.__version__}\")"
   ]
  },
  {
   "cell_type": "code",
   "execution_count": 5,
   "id": "f0981674-ce9b-4101-bef3-63586b4d206a",
   "metadata": {},
   "outputs": [],
   "source": [
    "template = \"input/SCAF4_individuals.xlsx\"\n",
    "hp_json = \"../hp.json\"\n",
    "created_by = \"0000-0002-0736-9199\""
   ]
  },
  {
   "cell_type": "code",
   "execution_count": 8,
   "id": "0a4d55e4-9004-4d5f-a8ac-60842b55af18",
   "metadata": {},
   "outputs": [
    {
     "name": "stdout",
     "output_type": "stream",
     "text": [
      "HPO version 2024-03-06\n",
      "Created encoders for 52 fields\n",
      " we got OMIM:620511  NM_020706.2\n",
      "We output 11 GA4GH phenopackets to the directory phenopackets\n"
     ]
    }
   ],
   "source": [
    "timporter = TemplateImporter(template=template, hp_json=hp_json, created_by=created_by)\n",
    "individual_list, cvalidator = timporter.import_phenopackets_from_template()"
   ]
  },
  {
   "cell_type": "code",
   "execution_count": 9,
   "id": "0e22eb89-9442-4309-91ea-3c9afde0f741",
   "metadata": {},
   "outputs": [
    {
     "data": {
      "text/html": [
       "<h2>Cohort validation</h2>\n",
       "<p>No errors found for the cohort with 11 individuals</p>"
      ],
      "text/plain": [
       "<IPython.core.display.HTML object>"
      ]
     },
     "metadata": {},
     "output_type": "display_data"
    }
   ],
   "source": [
    "qc = QcVisualizer(cohort_validator=cvalidator)\n",
    "display(HTML(qc.to_summary_html()))"
   ]
  },
  {
   "cell_type": "code",
   "execution_count": 10,
   "id": "e1e87ce0-0540-4d83-9527-4413b1474dad",
   "metadata": {},
   "outputs": [
    {
     "data": {
      "text/html": [
       "<table style=\"border: 2px solid black; align: \"left\">\n",
       "<caption>11 phenopackets - PMID:32730804 (n=9); PMID:36333968 (n=1); PMID:37394306 (n=1)</caption>\n",
       "<tr><th style=\"text-align: left;font-weight: bold;\">Individual</th><th style=\"text-align: left;font-weight: bold;\">Disease</th><th style=\"text-align: left;font-weight: bold;\">Genotype</th><th style=\"text-align: left;font-weight: bold;\">Phenotypic features</th></tr>\n",
       "<tr><td style=\"text-align: left;\">Individual 1 (FEMALE; P3Y3M)</td><td style=\"text-align: left;\">Fliedner-Zweier syndrome (OMIM:620511)</td><td style=\"text-align: left;\">NM_020706.2:c.321+1G>T (heterozygous)</td><td style=\"text-align: left;\">Global developmental delay (HP:0001263); Delayed speech and language development (HP:0000750); Seizure (HP:0001250); Hypotonia (HP:0001252); Autistic behavior (HP:0000729); excluded: Delayed ability to walk (HP:0031936); excluded: Hypoplasia of the corpus callosum (HP:0002079); excluded: Cerebellar atrophy (HP:0001272); excluded: Hypertonia (HP:0001276); excluded: Aggressive behavior (HP:0000718); excluded: Self-injurious behavior (HP:0100716); excluded: Tracheoesophageal fistula (HP:0002575); excluded: Anal atresia (HP:0002023); excluded: Kyphosis (HP:0002808); excluded: Scoliosis (HP:0002650); excluded: Hallux valgus (HP:0001822); excluded: Pectus excavatum (HP:0000767); excluded: Tethered cord (HP:0002144); excluded: Microcephaly (HP:0000252); excluded: Epicanthus (HP:0000286); excluded: Obesity (HP:0001513); excluded: Meningocele (HP:0002435)</td></tr>\n",
       "<tr><td style=\"text-align: left;\">Individual 2 (MALE; P2Y6M)</td><td style=\"text-align: left;\">Fliedner-Zweier syndrome (OMIM:620511)</td><td style=\"text-align: left;\">NM_020706.2:c.453_456del (heterozygous)</td><td style=\"text-align: left;\">Global developmental delay (HP:0001263); Hypotonia (HP:0001252); excluded: Delayed ability to walk (HP:0031936); excluded: Seizure (HP:0001250); excluded: Hypoplasia of the corpus callosum (HP:0002079); excluded: Cerebellar atrophy (HP:0001272); excluded: Hypertonia (HP:0001276); excluded: Ventricular septal defect (HP:0001629); excluded: Bicuspid aortic valve (HP:0001647); excluded: Hypoplastic aortic arch (HP:0012304); excluded: Tracheoesophageal fistula (HP:0002575); excluded: Anal atresia (HP:0002023); excluded: Kyphosis (HP:0002808); excluded: Scoliosis (HP:0002650); excluded: Hallux valgus (HP:0001822); excluded: Pectus excavatum (HP:0000767); excluded: Tethered cord (HP:0002144); excluded: Microcephaly (HP:0000252); excluded: Epicanthus (HP:0000286); excluded: Obesity (HP:0001513); excluded: Meningocele (HP:0002435)</td></tr>\n",
       "<tr><td style=\"text-align: left;\">Individual 3 (MALE; P16Y)</td><td style=\"text-align: left;\">Fliedner-Zweier syndrome (OMIM:620511)</td><td style=\"text-align: left;\">NM_020706.2:c.1028del (heterozygous)</td><td style=\"text-align: left;\">Autistic behavior (HP:0000729); Global developmental delay (HP:0001263); Delayed speech and language development (HP:0000750); Ventricular septal defect (HP:0001629); Bicuspid aortic valve (HP:0001647); Hypoplastic aortic arch (HP:0012304); Unilateral renal agenesis (HP:0000122); Tracheoesophageal fistula (HP:0002575); Anal atresia (HP:0002023); Tethered cord (HP:0002144); excluded: Delayed ability to walk (HP:0031936); excluded: Seizure (HP:0001250); excluded: Hypotonia (HP:0001252); excluded: Hypertonia (HP:0001276); excluded: Aggressive behavior (HP:0000718); excluded: Self-injurious behavior (HP:0100716); excluded: Multicystic kidney dysplasia (HP:0000003); excluded: Hydronephrosis (HP:0000126); excluded: Kyphosis (HP:0002808); excluded: Scoliosis (HP:0002650); excluded: Hallux valgus (HP:0001822); excluded: Pectus excavatum (HP:0000767); excluded: Epicanthus (HP:0000286); excluded: Obesity (HP:0001513); excluded: Meningocele (HP:0002435)</td></tr>\n",
       "<tr><td style=\"text-align: left;\">Individual 4 (MALE; P18Y)</td><td style=\"text-align: left;\">Fliedner-Zweier syndrome (OMIM:620511)</td><td style=\"text-align: left;\">NM_020706.2:c.1301C>A (heterozygous)</td><td style=\"text-align: left;\">Global developmental delay (HP:0001263); Delayed ability to walk (HP:0031936); Delayed speech and language development (HP:0000750); Seizure (HP:0001250); Hypotonia (HP:0001252); Autistic behavior (HP:0000729); Aggressive behavior (HP:0000718); Multicystic kidney dysplasia (HP:0000003); Kyphosis (HP:0002808); Scoliosis (HP:0002650); excluded: Hypertonia (HP:0001276); excluded: Self-injurious behavior (HP:0100716); excluded: Bicuspid aortic valve (HP:0001647); excluded: Hypoplastic aortic arch (HP:0012304); excluded: Unilateral renal agenesis (HP:0000122); excluded: Hydronephrosis (HP:0000126); excluded: Tracheoesophageal fistula (HP:0002575); excluded: Anal atresia (HP:0002023); excluded: Hallux valgus (HP:0001822); excluded: Pectus excavatum (HP:0000767); excluded: Tethered cord (HP:0002144); excluded: Microcephaly (HP:0000252); excluded: Epicanthus (HP:0000286); excluded: Obesity (HP:0001513); excluded: Meningocele (HP:0002435)</td></tr>\n",
       "<tr><td style=\"text-align: left;\">Individual 5 (FEMALE; P13Y)</td><td style=\"text-align: left;\">Fliedner-Zweier syndrome (OMIM:620511)</td><td style=\"text-align: left;\">NM_020706.2:c.1423C>T (heterozygous)</td><td style=\"text-align: left;\">Global developmental delay (HP:0001263); Seizure (HP:0001250); Autistic behavior (HP:0000729); Ventricular septal defect (HP:0001629); Hydronephrosis (HP:0000126); Hallux valgus (HP:0001822); excluded: Delayed ability to walk (HP:0031936); excluded: Hypoplasia of the corpus callosum (HP:0002079); excluded: Cerebellar atrophy (HP:0001272); excluded: Hypotonia (HP:0001252); excluded: Hypertonia (HP:0001276); excluded: Aggressive behavior (HP:0000718); excluded: Self-injurious behavior (HP:0100716); excluded: Bicuspid aortic valve (HP:0001647); excluded: Hypoplastic aortic arch (HP:0012304); excluded: Unilateral renal agenesis (HP:0000122); excluded: Multicystic kidney dysplasia (HP:0000003); excluded: Tracheoesophageal fistula (HP:0002575); excluded: Anal atresia (HP:0002023); excluded: Kyphosis (HP:0002808); excluded: Scoliosis (HP:0002650); excluded: Pectus excavatum (HP:0000767); excluded: Tethered cord (HP:0002144); excluded: Microcephaly (HP:0000252); excluded: Epicanthus (HP:0000286); excluded: Obesity (HP:0001513); excluded: Meningocele (HP:0002435)</td></tr>\n",
       "<tr><td style=\"text-align: left;\">Individual 6 (MALE; P6Y6M)</td><td style=\"text-align: left;\">Fliedner-Zweier syndrome (OMIM:620511)</td><td style=\"text-align: left;\">NM_020706.2:c.1614+1G>C (heterozygous)</td><td style=\"text-align: left;\">Global developmental delay (HP:0001263); Autistic behavior (HP:0000729); Aggressive behavior (HP:0000718); Kyphosis (HP:0002808); excluded: Delayed ability to walk (HP:0031936); excluded: Seizure (HP:0001250); excluded: Self-injurious behavior (HP:0100716); excluded: Unilateral renal agenesis (HP:0000122); excluded: Multicystic kidney dysplasia (HP:0000003); excluded: Hydronephrosis (HP:0000126); excluded: Tracheoesophageal fistula (HP:0002575); excluded: Anal atresia (HP:0002023); excluded: Scoliosis (HP:0002650); excluded: Hallux valgus (HP:0001822); excluded: Pectus excavatum (HP:0000767); excluded: Tethered cord (HP:0002144); excluded: Epicanthus (HP:0000286); excluded: Obesity (HP:0001513); excluded: Meningocele (HP:0002435)</td></tr>\n",
       "<tr><td style=\"text-align: left;\">Individual 7 (MALE; P6Y5M)</td><td style=\"text-align: left;\">Fliedner-Zweier syndrome (OMIM:620511)</td><td style=\"text-align: left;\">NM_020706.2:c.1649dup (heterozygous)</td><td style=\"text-align: left;\">Global developmental delay (HP:0001263); Delayed speech and language development (HP:0000750); Seizure (HP:0001250); excluded: Delayed ability to walk (HP:0031936); excluded: Hypoplasia of the corpus callosum (HP:0002079); excluded: Cerebellar atrophy (HP:0001272); excluded: Autistic behavior (HP:0000729); excluded: Aggressive behavior (HP:0000718); excluded: Self-injurious behavior (HP:0100716); excluded: Tethered cord (HP:0002144); excluded: Epicanthus (HP:0000286); excluded: Obesity (HP:0001513); excluded: Meningocele (HP:0002435)</td></tr>\n",
       "<tr><td style=\"text-align: left;\">Individual 8 (MALE; P11Y)</td><td style=\"text-align: left;\">Fliedner-Zweier syndrome (OMIM:620511)</td><td style=\"text-align: left;\">NM_020706.2:c.1812G>A (heterozygous)</td><td style=\"text-align: left;\">Global developmental delay (HP:0001263); Delayed speech and language development (HP:0000750); Seizure (HP:0001250); Cerebellar atrophy (HP:0001272); Hypertonia (HP:0001276); Aggressive behavior (HP:0000718); Self-injurious behavior (HP:0100716); Pectus excavatum (HP:0000767); Obesity (HP:0001513); excluded: Delayed ability to walk (HP:0031936); excluded: Hypoplasia of the corpus callosum (HP:0002079); excluded: Hypotonia (HP:0001252); excluded: Autistic behavior (HP:0000729); excluded: Kyphosis (HP:0002808); excluded: Scoliosis (HP:0002650); excluded: Hallux valgus (HP:0001822); excluded: Tethered cord (HP:0002144); excluded: Epicanthus (HP:0000286); excluded: Meningocele (HP:0002435)</td></tr>\n",
       "<tr><td style=\"text-align: left;\">Individual 9 (FEMALE; P4Y6M)</td><td style=\"text-align: left;\">Fliedner-Zweier syndrome (OMIM:620511)</td><td style=\"text-align: left;\">NM_020706.2:c.1889G>A (heterozygous)</td><td style=\"text-align: left;\">Global developmental delay (HP:0001263); Delayed ability to walk (HP:0031936); Delayed speech and language development (HP:0000750); Hypoplasia of the corpus callosum (HP:0002079); Hypotonia (HP:0001252); Aggressive behavior (HP:0000718); Ventricular septal defect (HP:0001629); Multicystic kidney dysplasia (HP:0000003); Meningocele (HP:0002435); excluded: Seizure (HP:0001250); excluded: Cerebellar atrophy (HP:0001272); excluded: Hypertonia (HP:0001276); excluded: Autistic behavior (HP:0000729); excluded: Self-injurious behavior (HP:0100716); excluded: Bicuspid aortic valve (HP:0001647); excluded: Hypoplastic aortic arch (HP:0012304); excluded: Unilateral renal agenesis (HP:0000122); excluded: Hydronephrosis (HP:0000126); excluded: Tracheoesophageal fistula (HP:0002575); excluded: Anal atresia (HP:0002023); excluded: Kyphosis (HP:0002808); excluded: Scoliosis (HP:0002650); excluded: Hallux valgus (HP:0001822); excluded: Pectus excavatum (HP:0000767); excluded: Tethered cord (HP:0002144); excluded: Epicanthus (HP:0000286); excluded: Obesity (HP:0001513)</td></tr>\n",
       "<tr><td style=\"text-align: left;\">16-year-oldBrazilian male (MALE; P16Y)</td><td style=\"text-align: left;\">Fliedner-Zweier syndrome (OMIM:620511)</td><td style=\"text-align: left;\">NM_020706.2:c.374_375dup (heterozygous)</td><td style=\"text-align: left;\">Feeding difficulties (HP:0011968); Microcephaly (HP:0000252); Global developmental delay (HP:0001263); Intellectual disability (HP:0001249); Delayed speech and language development (HP:0000750); Seizure (HP:0001250); Aggressive behavior (HP:0000718); Epicanthus (HP:0000286); Esodeviation (HP:0020045); Bulbous nose (HP:0000414); High palate (HP:0000218); Joint hypermobility (HP:0001382); Pes planus (HP:0001763); Obesity (HP:0001513); Long philtrum (HP:0000343); excluded: Delayed ability to walk (HP:0031936); excluded: Hypoplasia of the corpus callosum (HP:0002079); excluded: Cerebellar atrophy (HP:0001272); excluded: Autistic behavior (HP:0000729); excluded: Self-injurious behavior (HP:0100716); excluded: Kyphosis (HP:0002808); excluded: Scoliosis (HP:0002650); excluded: Hallux valgus (HP:0001822); excluded: Pectus excavatum (HP:0000767); excluded: Meningocele (HP:0002435)</td></tr>\n",
       "<tr><td style=\"text-align: left;\">Patient 1 (MALE; P12Y)</td><td style=\"text-align: left;\">Fliedner-Zweier syndrome (OMIM:620511)</td><td style=\"text-align: left;\">NM_020706.2:c.1411C>T (heterozygous)</td><td style=\"text-align: left;\">Global developmental delay (HP:0001263); Intellectual disability (HP:0001249); Seizure (HP:0001250); Tethered cord (HP:0002144); Meningocele (HP:0002435); excluded: Hypoplasia of the corpus callosum (HP:0002079); excluded: Cerebellar atrophy (HP:0001272)</td></tr>\n",
       "</table>"
      ],
      "text/plain": [
       "<IPython.core.display.HTML object>"
      ]
     },
     "metadata": {},
     "output_type": "display_data"
    }
   ],
   "source": [
    "table = IndividualTable(cvalidator.get_error_free_individual_list())\n",
    "display(HTML(table.to_html()))"
   ]
  },
  {
   "cell_type": "code",
   "execution_count": 10,
   "id": "9a3c97f1-336c-424d-bfed-6482c52a7dda",
   "metadata": {},
   "outputs": [
    {
     "name": "stdout",
     "output_type": "stream",
     "text": [
      "We output 11 GA4GH phenopackets to the directory phenopackets\n"
     ]
    }
   ],
   "source": [
    "encoder.output_individuals_as_phenopackets(individual_list=individuals)"
   ]
  },
  {
   "cell_type": "markdown",
   "id": "c13ae06f-e4c9-412a-af64-5f7df0fe7c75",
   "metadata": {},
   "source": [
    "# HPOA file"
   ]
  },
  {
   "cell_type": "code",
   "execution_count": 12,
   "id": "db697afb-b474-411f-96f6-c102769780a8",
   "metadata": {},
   "outputs": [
    {
     "name": "stdout",
     "output_type": "stream",
     "text": [
      "[pyphetools] Ingested 11 GA4GH phenopackets.\n",
      "\tFliedner-Zweier syndrome (OMIM:620511): n=11\n",
      "We found a total of 36 unique HPO terms\n",
      "Extracted disease: Fliedner-Zweier syndrome (OMIM:620511)\n",
      "Wrote HPOA disease file to OMIM-620511.tab\n"
     ]
    }
   ],
   "source": [
    "PMID = \"PMID:32730804\"\n",
    "df = timporter.create_hpoa_from_phenopackets(pmid=PMID, moi=\"Autosomal dominant\")"
   ]
  },
  {
   "cell_type": "code",
   "execution_count": null,
   "id": "42ed6ccd-318b-4a6a-a0d2-1353ed898345",
   "metadata": {},
   "outputs": [],
   "source": []
  }
 ],
 "metadata": {
  "kernelspec": {
   "display_name": "Python 3 (ipykernel)",
   "language": "python",
   "name": "python3"
  },
  "language_info": {
   "codemirror_mode": {
    "name": "ipython",
    "version": 3
   },
   "file_extension": ".py",
   "mimetype": "text/x-python",
   "name": "python",
   "nbconvert_exporter": "python",
   "pygments_lexer": "ipython3",
   "version": "3.8.10"
  }
 },
 "nbformat": 4,
 "nbformat_minor": 5
}
