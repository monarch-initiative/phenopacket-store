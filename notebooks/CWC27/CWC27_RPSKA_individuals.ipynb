{
 "cells": [
  {
   "cell_type": "markdown",
   "metadata": {},
   "source": [
    "# CWC27\n",
    "[retinitis pigmentosa with or without skeletal anomalies (RPSKA)](https://omim.org/entry/250410) is caused by homozygous or compound heterozygous mutation in the CWC27 gene."
   ]
  },
  {
   "cell_type": "code",
   "execution_count": 3,
   "metadata": {},
   "outputs": [
    {
     "name": "stdout",
     "output_type": "stream",
     "text": [
      "Using pyphetools version 0.9.86\n"
     ]
    }
   ],
   "source": [
    "from pyphetools.creation import TemplateImporter\n",
    "from pyphetools.visualization import IndividualTable, QcVisualizer\n",
    "from IPython.display import display, HTML\n",
    "import pyphetools\n",
    "print(f\"Using pyphetools version {pyphetools.__version__}\")"
   ]
  },
  {
   "cell_type": "code",
   "execution_count": 5,
   "metadata": {},
   "outputs": [],
   "source": [
    "template = \"input/CWC27_RPSKA_individuals.xlsx\"\n",
    "created_by = \"0000-0002-0736-9199\""
   ]
  },
  {
   "cell_type": "code",
   "execution_count": 8,
   "metadata": {},
   "outputs": [
    {
     "name": "stdout",
     "output_type": "stream",
     "text": [
      "HPO version 2024-04-26\n",
      "Created encoders for 49 fields\n",
      "Importing OMIM:250410, Retinitis pigmentosa with or without skeletal anomalies, HGNC:10664, CWC27,  NM_005869.4\n",
      "[INFO] encoding variant \"c.599+1G>A\"\n",
      "https://rest.variantvalidator.org/VariantValidator/variantvalidator/hg38/NM_005869.4%3Ac.599+1G>A/NM_005869.4?content-type=application%2Fjson\n",
      "[INFO] encoding variant \"c.427C>T\"\n",
      "https://rest.variantvalidator.org/VariantValidator/variantvalidator/hg38/NM_005869.4%3Ac.427C>T/NM_005869.4?content-type=application%2Fjson\n",
      "[INFO] encoding variant \"c.1002dup\"\n",
      "https://rest.variantvalidator.org/VariantValidator/variantvalidator/hg38/NM_005869.4%3Ac.1002dup/NM_005869.4?content-type=application%2Fjson\n",
      "[INFO] encoding variant \"c.19C>T\"\n",
      "https://rest.variantvalidator.org/VariantValidator/variantvalidator/hg38/NM_005869.4%3Ac.19C>T/NM_005869.4?content-type=application%2Fjson\n",
      "[INFO] encoding variant \"c.617C>A\"\n",
      "https://rest.variantvalidator.org/VariantValidator/variantvalidator/hg38/NM_005869.4%3Ac.617C>A/NM_005869.4?content-type=application%2Fjson\n",
      "[INFO] encoding variant \"c.943G>T\"\n",
      "https://rest.variantvalidator.org/VariantValidator/variantvalidator/hg38/NM_005869.4%3Ac.943G>T/NM_005869.4?content-type=application%2Fjson\n",
      "[INFO] encoding variant \"c.495G>A\"\n",
      "https://rest.variantvalidator.org/VariantValidator/variantvalidator/hg38/NM_005869.4%3Ac.495G>A/NM_005869.4?content-type=application%2Fjson\n",
      "We output 10 GA4GH phenopackets to the directory phenopackets\n"
     ]
    }
   ],
   "source": [
    "timporter = TemplateImporter(template=template,  created_by=created_by)\n",
    "individual_list, cvalidator = timporter.import_phenopackets_from_template()"
   ]
  },
  {
   "cell_type": "code",
   "execution_count": 9,
   "metadata": {},
   "outputs": [
    {
     "data": {
      "text/html": [
       "<h2>Cohort validation</h2>\n",
       "<p>No errors found for the cohort with 10 individuals</p>"
      ],
      "text/plain": [
       "<IPython.core.display.HTML object>"
      ]
     },
     "metadata": {},
     "output_type": "display_data"
    }
   ],
   "source": [
    "qc = QcVisualizer(cohort_validator=cvalidator)\n",
    "display(HTML(qc.to_summary_html()))"
   ]
  },
  {
   "cell_type": "code",
   "execution_count": 10,
   "metadata": {},
   "outputs": [
    {
     "data": {
      "text/html": [
       "<table style=\"border: 2px solid black; align: \"left\">\n",
       "<caption>10 phenopackets - PMID:28285769 (n=10)</caption>\n",
       "<tr><th style=\"text-align: left;font-weight: bold;\">Individual</th><th style=\"text-align: left;font-weight: bold;\">Disease</th><th style=\"text-align: left;font-weight: bold;\">Genotype</th><th style=\"text-align: left;font-weight: bold;\">Phenotypic features</th></tr>\n",
       "<tr><td style=\"text-align: left;\">Individual 1:II-3 (MALE; P20Y)</td><td style=\"text-align: left;\">Retinitis pigmentosa with or without skeletal anomalies (OMIM:250410)</td><td style=\"text-align: left;\">NM_005869.4:c.943G>T (homozygous)</td><td style=\"text-align: left;\"><b>P3Y</b>: Delayed ability to walk (HP:0031936)<br/>Brachydactyly (HP:0001156); Downslanted palpebral fissures (HP:0000494); Frontal bossing (HP:0002007); Underdeveloped nasal alae (HP:0000430); Micrognathia (HP:0000347); Short stature (HP:0004322); Rod-cone dystrophy (HP:0000510); Delayed speech and language development (HP:0000750); Low-set ears (HP:0000369); Macrotia (HP:0000400); Cafe-au-lait spot (HP:0000957); excluded: Bilateral superior vena cava (HP:0033379); excluded: Ventricular septal defect (HP:0001629); excluded: Ectopic testis (HP:6000460); excluded: Intrauterine growth retardation (HP:0001511); excluded: Craniosynostosis (HP:0001363); excluded: Horseshoe kidney (HP:0000085); excluded: Renal cyst (HP:0000107); excluded: Chiari malformation (HP:0002308); excluded: Cerebral cortical atrophy (HP:0002120); excluded: Intellectual disability (HP:0001249); excluded: Global developmental delay (HP:0001263); excluded: Feeding difficulties (HP:0011968); excluded: Hallux valgus (HP:0001822); excluded: Pes planus (HP:0001763); excluded: Alopecia (HP:0001596); excluded: Absent eyebrow (HP:0002223); excluded: Absent eyelashes (HP:0000561); excluded: Ichthyosis (HP:0008064)</td></tr>\n",
       "<tr><td style=\"text-align: left;\">Individual 1:II-4 (MALE; P18Y)</td><td style=\"text-align: left;\">Retinitis pigmentosa with or without skeletal anomalies (OMIM:250410)</td><td style=\"text-align: left;\">NM_005869.4:c.943G>T (homozygous)</td><td style=\"text-align: left;\"><b>P3Y</b>: Delayed ability to walk (HP:0031936)<br/>Brachydactyly (HP:0001156); Downslanted palpebral fissures (HP:0000494); Frontal bossing (HP:0002007); Underdeveloped nasal alae (HP:0000430); Micrognathia (HP:0000347); Short stature (HP:0004322); Rod-cone dystrophy (HP:0000510); Delayed speech and language development (HP:0000750); Low-set ears (HP:0000369); Macrotia (HP:0000400); Cafe-au-lait spot (HP:0000957); Hallux valgus (HP:0001822); Pes planus (HP:0001763); excluded: Bilateral superior vena cava (HP:0033379); excluded: Ventricular septal defect (HP:0001629); excluded: Ectopic testis (HP:6000460); excluded: Intrauterine growth retardation (HP:0001511); excluded: Craniosynostosis (HP:0001363); excluded: Horseshoe kidney (HP:0000085); excluded: Renal cyst (HP:0000107); excluded: Chiari malformation (HP:0002308); excluded: Cerebral cortical atrophy (HP:0002120); excluded: Intellectual disability (HP:0001249); excluded: Global developmental delay (HP:0001263); excluded: Feeding difficulties (HP:0011968); excluded: Alopecia (HP:0001596); excluded: Absent eyebrow (HP:0002223); excluded: Absent eyelashes (HP:0000561); excluded: Ichthyosis (HP:0008064)</td></tr>\n",
       "<tr><td style=\"text-align: left;\">Individual 2:II-1 (MALE; P66Y)</td><td style=\"text-align: left;\">Retinitis pigmentosa with or without skeletal anomalies (OMIM:250410)</td><td style=\"text-align: left;\">NM_005869.4:c.495G>A (homozygous)</td><td style=\"text-align: left;\"><b>P10Y</b>: Nyctalopia (HP:0000662)<br/>Brachydactyly (HP:0001156); Downslanted palpebral fissures (HP:0000494); Frontal bossing (HP:0002007); Underdeveloped nasal alae (HP:0000430); Micrognathia (HP:0000347); Short stature (HP:0004322); Rod-cone dystrophy (HP:0000510); Low-set ears (HP:0000369); Macrotia (HP:0000400); Intellectual disability (HP:0001249); Global developmental delay (HP:0001263); excluded: Bilateral superior vena cava (HP:0033379); excluded: Ventricular septal defect (HP:0001629); excluded: Ectopic testis (HP:6000460); excluded: Intrauterine growth retardation (HP:0001511); excluded: Craniosynostosis (HP:0001363); excluded: Delayed speech and language development (HP:0000750); excluded: Delayed ability to walk (HP:0031936); excluded: Horseshoe kidney (HP:0000085); excluded: Renal cyst (HP:0000107); excluded: Chiari malformation (HP:0002308); excluded: Cerebral cortical atrophy (HP:0002120); excluded: Feeding difficulties (HP:0011968); excluded: Cafe-au-lait spot (HP:0000957); excluded: Hallux valgus (HP:0001822); excluded: Pes planus (HP:0001763); excluded: Alopecia (HP:0001596); excluded: Absent eyebrow (HP:0002223); excluded: Absent eyelashes (HP:0000561); excluded: Ichthyosis (HP:0008064)</td></tr>\n",
       "<tr><td style=\"text-align: left;\">Individual 2:II-2 (FEMALE; P64Y)</td><td style=\"text-align: left;\">Retinitis pigmentosa with or without skeletal anomalies (OMIM:250410)</td><td style=\"text-align: left;\">NM_005869.4:c.495G>A (homozygous)</td><td style=\"text-align: left;\"><b>P10Y</b>: Nyctalopia (HP:0000662)<br/>Brachydactyly (HP:0001156); Downslanted palpebral fissures (HP:0000494); Frontal bossing (HP:0002007); Underdeveloped nasal alae (HP:0000430); Micrognathia (HP:0000347); Short stature (HP:0004322); Rod-cone dystrophy (HP:0000510); Low-set ears (HP:0000369); Macrotia (HP:0000400); Global developmental delay (HP:0001263); excluded: Bilateral superior vena cava (HP:0033379); excluded: Ventricular septal defect (HP:0001629); excluded: Ectopic testis (HP:6000460); excluded: Intrauterine growth retardation (HP:0001511); excluded: Craniosynostosis (HP:0001363); excluded: Delayed speech and language development (HP:0000750); excluded: Delayed ability to walk (HP:0031936); excluded: Horseshoe kidney (HP:0000085); excluded: Renal cyst (HP:0000107); excluded: Chiari malformation (HP:0002308); excluded: Cerebral cortical atrophy (HP:0002120); excluded: Intellectual disability (HP:0001249); excluded: Feeding difficulties (HP:0011968); excluded: Cafe-au-lait spot (HP:0000957); excluded: Hallux valgus (HP:0001822); excluded: Pes planus (HP:0001763); excluded: Alopecia (HP:0001596); excluded: Absent eyebrow (HP:0002223); excluded: Absent eyelashes (HP:0000561); excluded: Ichthyosis (HP:0008064)</td></tr>\n",
       "<tr><td style=\"text-align: left;\">Individual 3:II-1 (MALE; P14Y)</td><td style=\"text-align: left;\">Retinitis pigmentosa with or without skeletal anomalies (OMIM:250410)</td><td style=\"text-align: left;\">NM_005869.4:c.1002dup (homozygous)</td><td style=\"text-align: left;\"><b>P9Y</b>: Nyctalopia (HP:0000662)<br/>Rod-cone dystrophy (HP:0000510); excluded: Bilateral superior vena cava (HP:0033379); excluded: Ventricular septal defect (HP:0001629); excluded: Brachydactyly (HP:0001156); excluded: Downslanted palpebral fissures (HP:0000494); excluded: Frontal bossing (HP:0002007); excluded: Ectopic testis (HP:6000460); excluded: Intrauterine growth retardation (HP:0001511); excluded: Craniosynostosis (HP:0001363); excluded: Underdeveloped nasal alae (HP:0000430); excluded: Micrognathia (HP:0000347); excluded: Short stature (HP:0004322); excluded: Delayed speech and language development (HP:0000750); excluded: Delayed ability to walk (HP:0031936); excluded: Horseshoe kidney (HP:0000085); excluded: Renal cyst (HP:0000107); excluded: Low-set ears (HP:0000369); excluded: Macrotia (HP:0000400); excluded: Chiari malformation (HP:0002308); excluded: Cerebral cortical atrophy (HP:0002120); excluded: Intellectual disability (HP:0001249); excluded: Global developmental delay (HP:0001263); excluded: Feeding difficulties (HP:0011968); excluded: Cafe-au-lait spot (HP:0000957); excluded: Hallux valgus (HP:0001822); excluded: Pes planus (HP:0001763); excluded: Alopecia (HP:0001596); excluded: Absent eyebrow (HP:0002223); excluded: Absent eyelashes (HP:0000561); excluded: Ichthyosis (HP:0008064)</td></tr>\n",
       "<tr><td style=\"text-align: left;\">Individual 4:II-3 (MALE; P17Y)</td><td style=\"text-align: left;\">Retinitis pigmentosa with or without skeletal anomalies (OMIM:250410)</td><td style=\"text-align: left;\">NM_005869.4:c.599+1G>A (homozygous)</td><td style=\"text-align: left;\">Renal cyst (HP:0000107); Brachydactyly (HP:0001156); Downslanted palpebral fissures (HP:0000494); Frontal bossing (HP:0002007); Underdeveloped nasal alae (HP:0000430); Micrognathia (HP:0000347); Short stature (HP:0004322); Low-set ears (HP:0000369); Macrotia (HP:0000400); Intellectual disability (HP:0001249); Global developmental delay (HP:0001263); Feeding difficulties (HP:0011968); Alopecia (HP:0001596); Absent eyebrow (HP:0002223); Absent eyelashes (HP:0000561); Ichthyosis (HP:0008064); excluded: Bilateral superior vena cava (HP:0033379); excluded: Ventricular septal defect (HP:0001629); excluded: Ectopic testis (HP:6000460); excluded: Intrauterine growth retardation (HP:0001511); excluded: Craniosynostosis (HP:0001363); excluded: Rod-cone dystrophy (HP:0000510); excluded: Delayed speech and language development (HP:0000750); excluded: Delayed ability to walk (HP:0031936); excluded: Horseshoe kidney (HP:0000085); excluded: Chiari malformation (HP:0002308); excluded: Cerebral cortical atrophy (HP:0002120); excluded: Cafe-au-lait spot (HP:0000957); excluded: Hallux valgus (HP:0001822); excluded: Pes planus (HP:0001763)</td></tr>\n",
       "<tr><td style=\"text-align: left;\">Individual 4:II-4 (MALE; P12Y)</td><td style=\"text-align: left;\">Retinitis pigmentosa with or without skeletal anomalies (OMIM:250410)</td><td style=\"text-align: left;\">NM_005869.4:c.599+1G>A (homozygous)</td><td style=\"text-align: left;\">Intrauterine growth retardation (HP:0001511); Brachydactyly (HP:0001156); Downslanted palpebral fissures (HP:0000494); Frontal bossing (HP:0002007); Ectopic testis (HP:6000460); Underdeveloped nasal alae (HP:0000430); Micrognathia (HP:0000347); Short stature (HP:0004322); Low-set ears (HP:0000369); Macrotia (HP:0000400); Cerebral cortical atrophy (HP:0002120); Intellectual disability (HP:0001249); Global developmental delay (HP:0001263); Feeding difficulties (HP:0011968); Alopecia (HP:0001596); Absent eyebrow (HP:0002223); Absent eyelashes (HP:0000561); Ichthyosis (HP:0008064); excluded: Bilateral superior vena cava (HP:0033379); excluded: Ventricular septal defect (HP:0001629); excluded: Craniosynostosis (HP:0001363); excluded: Rod-cone dystrophy (HP:0000510); excluded: Delayed speech and language development (HP:0000750); excluded: Delayed ability to walk (HP:0031936); excluded: Horseshoe kidney (HP:0000085); excluded: Renal cyst (HP:0000107); excluded: Chiari malformation (HP:0002308); excluded: Cafe-au-lait spot (HP:0000957); excluded: Hallux valgus (HP:0001822); excluded: Pes planus (HP:0001763)</td></tr>\n",
       "<tr><td style=\"text-align: left;\">Individual 5:II-1 (MALE; P23Y)</td><td style=\"text-align: left;\">Retinitis pigmentosa with or without skeletal anomalies (OMIM:250410)</td><td style=\"text-align: left;\"><ul> <li>NM_005869.4:c.19C>T (heterozygous)</li> <li>NM_005869.4:c.427C>T (heterozygous)</li> </ul></td><td style=\"text-align: left;\"><b>P8Y</b>: Rod-cone dystrophy (HP:0000510)<br/>Brachydactyly (HP:0001156); Downslanted palpebral fissures (HP:0000494); Frontal bossing (HP:0002007); Underdeveloped nasal alae (HP:0000430); Micrognathia (HP:0000347); Short stature (HP:0004322); Delayed speech and language development (HP:0000750); Delayed ability to walk (HP:0031936); Low-set ears (HP:0000369); Macrotia (HP:0000400); Chiari malformation (HP:0002308); Intellectual disability (HP:0001249); excluded: Bilateral superior vena cava (HP:0033379); excluded: Ventricular septal defect (HP:0001629); excluded: Ectopic testis (HP:6000460); excluded: Intrauterine growth retardation (HP:0001511); excluded: Craniosynostosis (HP:0001363); excluded: Horseshoe kidney (HP:0000085); excluded: Renal cyst (HP:0000107); excluded: Cerebral cortical atrophy (HP:0002120); excluded: Global developmental delay (HP:0001263); excluded: Feeding difficulties (HP:0011968); excluded: Cafe-au-lait spot (HP:0000957); excluded: Hallux valgus (HP:0001822); excluded: Pes planus (HP:0001763); excluded: Alopecia (HP:0001596); excluded: Absent eyebrow (HP:0002223); excluded: Absent eyelashes (HP:0000561); excluded: Ichthyosis (HP:0008064)</td></tr>\n",
       "<tr><td style=\"text-align: left;\">Individual 6:II-1 (MALE; P2Y)</td><td style=\"text-align: left;\">Retinitis pigmentosa with or without skeletal anomalies (OMIM:250410)</td><td style=\"text-align: left;\"><ul> <li>NM_005869.4:c.19C>T (heterozygous)</li> <li>NM_005869.4:c.427C>T (heterozygous)</li> </ul></td><td style=\"text-align: left;\">Craniosynostosis (HP:0001363); Bilateral superior vena cava (HP:0033379); Ventricular septal defect (HP:0001629); Brachydactyly (HP:0001156); Downslanted palpebral fissures (HP:0000494); Frontal bossing (HP:0002007); Underdeveloped nasal alae (HP:0000430); Micrognathia (HP:0000347); Short stature (HP:0004322); Horseshoe kidney (HP:0000085); Low-set ears (HP:0000369); Macrotia (HP:0000400); excluded: Ectopic testis (HP:6000460); excluded: Intrauterine growth retardation (HP:0001511); excluded: Rod-cone dystrophy (HP:0000510); excluded: Delayed speech and language development (HP:0000750); excluded: Delayed ability to walk (HP:0031936); excluded: Renal cyst (HP:0000107); excluded: Chiari malformation (HP:0002308); excluded: Cerebral cortical atrophy (HP:0002120); excluded: Intellectual disability (HP:0001249); excluded: Global developmental delay (HP:0001263); excluded: Feeding difficulties (HP:0011968); excluded: Cafe-au-lait spot (HP:0000957); excluded: Hallux valgus (HP:0001822); excluded: Pes planus (HP:0001763); excluded: Alopecia (HP:0001596); excluded: Absent eyebrow (HP:0002223); excluded: Absent eyelashes (HP:0000561); excluded: Ichthyosis (HP:0008064)</td></tr>\n",
       "<tr><td style=\"text-align: left;\">Individual 7:II-1 (FEMALE; P7Y)</td><td style=\"text-align: left;\">Retinitis pigmentosa with or without skeletal anomalies (OMIM:250410)</td><td style=\"text-align: left;\"><ul> <li>NM_005869.4:c.1002dup (heterozygous)</li> <li>NM_005869.4:c.617C>A (heterozygous)</li> </ul></td><td style=\"text-align: left;\">Brachydactyly (HP:0001156); excluded: Bilateral superior vena cava (HP:0033379); excluded: Ventricular septal defect (HP:0001629); excluded: Downslanted palpebral fissures (HP:0000494); excluded: Frontal bossing (HP:0002007); excluded: Ectopic testis (HP:6000460); excluded: Intrauterine growth retardation (HP:0001511); excluded: Craniosynostosis (HP:0001363); excluded: Underdeveloped nasal alae (HP:0000430); excluded: Micrognathia (HP:0000347); excluded: Short stature (HP:0004322); excluded: Rod-cone dystrophy (HP:0000510); excluded: Delayed speech and language development (HP:0000750); excluded: Delayed ability to walk (HP:0031936); excluded: Horseshoe kidney (HP:0000085); excluded: Renal cyst (HP:0000107); excluded: Low-set ears (HP:0000369); excluded: Macrotia (HP:0000400); excluded: Chiari malformation (HP:0002308); excluded: Cerebral cortical atrophy (HP:0002120); excluded: Intellectual disability (HP:0001249); excluded: Global developmental delay (HP:0001263); excluded: Feeding difficulties (HP:0011968); excluded: Cafe-au-lait spot (HP:0000957); excluded: Hallux valgus (HP:0001822); excluded: Pes planus (HP:0001763); excluded: Alopecia (HP:0001596); excluded: Absent eyebrow (HP:0002223); excluded: Absent eyelashes (HP:0000561); excluded: Ichthyosis (HP:0008064)</td></tr>\n",
       "</table>"
      ],
      "text/plain": [
       "<IPython.core.display.HTML object>"
      ]
     },
     "metadata": {},
     "output_type": "display_data"
    }
   ],
   "source": [
    "table = IndividualTable(cvalidator.get_error_free_individual_list())\n",
    "display(HTML(table.to_html()))"
   ]
  },
  {
   "cell_type": "code",
   "execution_count": 11,
   "metadata": {},
   "outputs": [
    {
     "name": "stdout",
     "output_type": "stream",
     "text": [
      "[pyphetools] Ingested 10 GA4GH phenopackets.\n",
      "[INFO] Extracted 10 from 10 phenopackets with OMIM:250410\n",
      "\n",
      "\tRetinitis pigmentosa with or without skeletal anomalies (OMIM:250410): n=10\n",
      "We found a total of 31 unique HPO terms\n",
      "Extracted disease: Retinitis pigmentosa with or without skeletal anomalies (OMIM:250410)\n",
      "Wrote HPOA disease file to OMIM-250410.tab\n"
     ]
    }
   ],
   "source": [
    "pmid = \"PMID:28285769\"\n",
    "df = timporter.create_hpoa_from_phenopackets(pmid=pmid, moi=\"Autosomal recessive\", target=\"OMIM:250410\")"
   ]
  },
  {
   "cell_type": "code",
   "execution_count": null,
   "metadata": {},
   "outputs": [],
   "source": []
  }
 ],
 "metadata": {
  "kernelspec": {
   "display_name": "ps24venv",
   "language": "python",
   "name": "python3"
  },
  "language_info": {
   "codemirror_mode": {
    "name": "ipython",
    "version": 3
   },
   "file_extension": ".py",
   "mimetype": "text/x-python",
   "name": "python",
   "nbconvert_exporter": "python",
   "pygments_lexer": "ipython3",
   "version": "3.9.6"
  }
 },
 "nbformat": 4,
 "nbformat_minor": 2
}
