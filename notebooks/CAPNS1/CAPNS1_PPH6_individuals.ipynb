{
 "cells": [
  {
   "cell_type": "markdown",
   "metadata": {},
   "source": [
    "# CAPNS1\n",
    "[primary pulmonary hypertension-6 (PPH6)](https://omim.org/entry/620777) is caused by homozygous mutation in the CAPNS1 gene."
   ]
  },
  {
   "cell_type": "code",
   "execution_count": 1,
   "metadata": {},
   "outputs": [
    {
     "name": "stdout",
     "output_type": "stream",
     "text": [
      "Using pyphetools version 0.9.94\n"
     ]
    },
    {
     "name": "stderr",
     "output_type": "stream",
     "text": [
      "/Users/robin/GIT/phenopacket-store/ps24venv/lib/python3.9/site-packages/urllib3/__init__.py:35: NotOpenSSLWarning: urllib3 v2 only supports OpenSSL 1.1.1+, currently the 'ssl' module is compiled with 'LibreSSL 2.8.3'. See: https://github.com/urllib3/urllib3/issues/3020\n",
      "  warnings.warn(\n"
     ]
    }
   ],
   "source": [
    "from pyphetools.creation import TemplateImporter, Moi\n",
    "from pyphetools.visualization import IndividualTable, QcVisualizer\n",
    "from IPython.display import display, HTML\n",
    "import pyphetools\n",
    "print(f\"Using pyphetools version {pyphetools.__version__}\")"
   ]
  },
  {
   "cell_type": "code",
   "execution_count": 2,
   "metadata": {},
   "outputs": [],
   "source": [
    "template = \"input/CAPNS1_PPH6_individuals.xlsx\"\n",
    "created_by = \"0000-0002-0736-9199\""
   ]
  },
  {
   "cell_type": "code",
   "execution_count": 4,
   "metadata": {},
   "outputs": [
    {
     "name": "stdout",
     "output_type": "stream",
     "text": [
      "HPO version 2024-07-01\n",
      "Created encoders for 35 fields\n",
      "Importing OMIM:620777, Pulmonary hypertension, primary, 6, HGNC:1481, CAPNS1,  NM_001749.4\n",
      "[INFO] encoding variant \"c.721+1G>A\"\n",
      "https://rest.variantvalidator.org/VariantValidator/variantvalidator/hg38/NM_001749.4%3Ac.721+1G>A/NM_001749.4?content-type=application%2Fjson\n",
      "[INFO] encoding variant \"c.210-2A>G\"\n",
      "https://rest.variantvalidator.org/VariantValidator/variantvalidator/hg38/NM_001749.4%3Ac.210-2A>G/NM_001749.4?content-type=application%2Fjson\n",
      "We output 5 GA4GH phenopackets to the directory phenopackets\n"
     ]
    }
   ],
   "source": [
    "timporter = TemplateImporter(template=template,  created_by=created_by)\n",
    "individual_list, cvalidator = timporter.import_phenopackets_from_template()"
   ]
  },
  {
   "cell_type": "code",
   "execution_count": 5,
   "metadata": {},
   "outputs": [
    {
     "data": {
      "text/html": [
       "<h2>Cohort validation</h2>\n",
       "<p>No errors found for the cohort with 5 individuals</p>"
      ],
      "text/plain": [
       "<IPython.core.display.HTML object>"
      ]
     },
     "metadata": {},
     "output_type": "display_data"
    }
   ],
   "source": [
    "qc = QcVisualizer(cohort_validator=cvalidator)\n",
    "display(HTML(qc.to_summary_html()))"
   ]
  },
  {
   "cell_type": "code",
   "execution_count": 6,
   "metadata": {},
   "outputs": [
    {
     "data": {
      "text/html": [
       "<table style=\"border: 2px solid black; align: \"left\">\n",
       "<caption>5 phenopackets - PMID:38230350 (n=5)</caption>\n",
       "<tr><th style=\"text-align: left;font-weight: bold;\">Individual</th><th style=\"text-align: left;font-weight: bold;\">Disease</th><th style=\"text-align: left;font-weight: bold;\">Genotype</th><th style=\"text-align: left;font-weight: bold;\">Phenotypic features</th></tr>\n",
       "<tr><td style=\"text-align: left;\">Proband P1 family II-1 (FEMALE; P1Y5M)</td><td style=\"text-align: left;\">Pulmonary hypertension, primary, 6 (OMIM:620777)</td><td style=\"text-align: left;\">NM_001749.4:c.721+1G>A (homozygous)</td><td style=\"text-align: left;\"><b>P1Y</b>: Hypertrophic cardiomyopathy (HP:0001639)<br/>Apnea (HP:0002104); Dyspnea (HP:0002094); Cyanosis (HP:0000961); Premature birth (HP:0001622); Respiratory insufficiency (HP:0002093); Failure to thrive (HP:0001508); excluded: Atrial flutter (HP:0004749); excluded: Right ventricular failure (HP:0001708); excluded: Atrioventricular block (HP:0001678)</td></tr>\n",
       "<tr><td style=\"text-align: left;\">Proband P2 family A II-2 (FEMALE; P2Y5M)</td><td style=\"text-align: left;\">Pulmonary hypertension, primary, 6 (OMIM:620777)</td><td style=\"text-align: left;\">NM_001749.4:c.721+1G>A (homozygous)</td><td style=\"text-align: left;\"><b>P1Y3M</b>: Pulmonary capillary hemangiomatosis (HP:0005954); Apnea (HP:0002104); Ground-glass opacification (HP:0025179); Alveolar septal thickening (HP:0033376)<br/>Pulmonary arterial hypertension (HP:0002092); Dyspnea (HP:0002094); Cyanosis (HP:0000961); Premature birth (HP:0001622); Respiratory insufficiency (HP:0002093); Hemosiderin-laden macrophages in bronchoalveolar fluid (HP:0032979); Failure to thrive (HP:0001508); Increased circulating NT-proBNP concentration (HP:0031185); excluded: Right ventricular hypertrophy (HP:0001667); excluded: Atrial flutter (HP:0004749); excluded: Right ventricular failure (HP:0001708); excluded: Atrioventricular block (HP:0001678); excluded: Hypertrophic cardiomyopathy (HP:0001639)</td></tr>\n",
       "<tr><td style=\"text-align: left;\">Proband P3 family A II-3 (FEMALE; P2Y6M)</td><td style=\"text-align: left;\">Pulmonary hypertension, primary, 6 (OMIM:620777)</td><td style=\"text-align: left;\">NM_001749.4:c.721+1G>A (homozygous)</td><td style=\"text-align: left;\"><b>P6M</b>: Pulmonary capillary hemangiomatosis (HP:0005954); Apnea (HP:0002104); Cyanosis (HP:0000961)<br/>Right ventricular hypertrophy (HP:0001667); Pulmonary arterial hypertension (HP:0002092); Dyspnea (HP:0002094); Premature birth (HP:0001622); Respiratory insufficiency (HP:0002093); Failure to thrive (HP:0001508); excluded: Atrial flutter (HP:0004749); excluded: Right ventricular failure (HP:0001708); excluded: Atrioventricular block (HP:0001678); excluded: Hypertrophic cardiomyopathy (HP:0001639); excluded: Ground-glass opacification (HP:0025179); excluded: Increased circulating NT-proBNP concentration (HP:0031185)</td></tr>\n",
       "<tr><td style=\"text-align: left;\">Proband P4 family B B II-1 (MALE; P5Y)</td><td style=\"text-align: left;\">Pulmonary hypertension, primary, 6 (OMIM:620777)</td><td style=\"text-align: left;\">NM_001749.4:c.210-2A>G (homozygous)</td><td style=\"text-align: left;\">Dyspnea (HP:0002094)</td></tr>\n",
       "<tr><td style=\"text-align: left;\">Proband P5 family B B II-2 (MALE; P42Y)</td><td style=\"text-align: left;\">Pulmonary hypertension, primary, 6 (OMIM:620777)</td><td style=\"text-align: left;\">NM_001749.4:c.210-2A>G (homozygous)</td><td style=\"text-align: left;\">Right ventricular hypertrophy (HP:0001667); Apnea (HP:0002104); Pulmonary arterial hypertension (HP:0002092); Dyspnea (HP:0002094); Atrial flutter (HP:0004749); Cyanosis (HP:0000961); Right ventricular failure (HP:0001708); Atrioventricular block (HP:0001678); Ground-glass opacification (HP:0025179); Increased circulating NT-proBNP concentration (HP:0031185); excluded: Hypertrophic cardiomyopathy (HP:0001639); excluded: Premature birth (HP:0001622); excluded: Respiratory insufficiency (HP:0002093); excluded: Failure to thrive (HP:0001508)</td></tr>\n",
       "</table>"
      ],
      "text/plain": [
       "<IPython.core.display.HTML object>"
      ]
     },
     "metadata": {},
     "output_type": "display_data"
    }
   ],
   "source": [
    "table = IndividualTable(cvalidator.get_error_free_individual_list())\n",
    "display(HTML(table.to_html()))"
   ]
  },
  {
   "cell_type": "code",
   "execution_count": 8,
   "metadata": {},
   "outputs": [
    {
     "name": "stdout",
     "output_type": "stream",
     "text": [
      "[pyphetools] Ingested 5 GA4GH phenopackets.\n",
      "[INFO] Extracted 5 from 5 phenopackets with OMIM:620777\n",
      "\n",
      "\tPulmonary hypertension, primary, 6 (OMIM:620777): n=5\n",
      "We found a total of 17 unique HPO terms\n",
      "Extracted disease: Pulmonary hypertension, primary, 6 (OMIM:620777)\n",
      "Wrote HPOA disease file to OMIM-620777.tab\n"
     ]
    },
    {
     "data": {
      "text/html": [
       "<div>\n",
       "<style scoped>\n",
       "    .dataframe tbody tr th:only-of-type {\n",
       "        vertical-align: middle;\n",
       "    }\n",
       "\n",
       "    .dataframe tbody tr th {\n",
       "        vertical-align: top;\n",
       "    }\n",
       "\n",
       "    .dataframe thead th {\n",
       "        text-align: right;\n",
       "    }\n",
       "</style>\n",
       "<table border=\"1\" class=\"dataframe\">\n",
       "  <thead>\n",
       "    <tr style=\"text-align: right;\">\n",
       "      <th></th>\n",
       "      <th>#diseaseID</th>\n",
       "      <th>diseaseName</th>\n",
       "      <th>phenotypeID</th>\n",
       "      <th>phenotypeName</th>\n",
       "      <th>onsetID</th>\n",
       "      <th>onsetName</th>\n",
       "      <th>frequency</th>\n",
       "      <th>sex</th>\n",
       "      <th>negation</th>\n",
       "      <th>modifier</th>\n",
       "      <th>description</th>\n",
       "      <th>publication</th>\n",
       "      <th>evidence</th>\n",
       "      <th>biocuration</th>\n",
       "    </tr>\n",
       "  </thead>\n",
       "  <tbody>\n",
       "    <tr>\n",
       "      <th>0</th>\n",
       "      <td>OMIM:620777</td>\n",
       "      <td>Pulmonary hypertension, primary, 6</td>\n",
       "      <td>HP:0002094</td>\n",
       "      <td>Dyspnea</td>\n",
       "      <td></td>\n",
       "      <td></td>\n",
       "      <td>5/5</td>\n",
       "      <td></td>\n",
       "      <td></td>\n",
       "      <td></td>\n",
       "      <td></td>\n",
       "      <td>PMID:38230350</td>\n",
       "      <td>PCS</td>\n",
       "      <td>ORCID:0000-0002-0736-9199[2024-07-29]</td>\n",
       "    </tr>\n",
       "    <tr>\n",
       "      <th>1</th>\n",
       "      <td>OMIM:620777</td>\n",
       "      <td>Pulmonary hypertension, primary, 6</td>\n",
       "      <td>HP:0002104</td>\n",
       "      <td>Apnea</td>\n",
       "      <td></td>\n",
       "      <td></td>\n",
       "      <td>4/4</td>\n",
       "      <td></td>\n",
       "      <td></td>\n",
       "      <td></td>\n",
       "      <td></td>\n",
       "      <td>PMID:38230350</td>\n",
       "      <td>PCS</td>\n",
       "      <td>ORCID:0000-0002-0736-9199[2024-07-29]</td>\n",
       "    </tr>\n",
       "    <tr>\n",
       "      <th>2</th>\n",
       "      <td>OMIM:620777</td>\n",
       "      <td>Pulmonary hypertension, primary, 6</td>\n",
       "      <td>HP:0001639</td>\n",
       "      <td>Hypertrophic cardiomyopathy</td>\n",
       "      <td></td>\n",
       "      <td></td>\n",
       "      <td>1/4</td>\n",
       "      <td></td>\n",
       "      <td></td>\n",
       "      <td></td>\n",
       "      <td></td>\n",
       "      <td>PMID:38230350</td>\n",
       "      <td>PCS</td>\n",
       "      <td>ORCID:0000-0002-0736-9199[2024-07-29]</td>\n",
       "    </tr>\n",
       "    <tr>\n",
       "      <th>3</th>\n",
       "      <td>OMIM:620777</td>\n",
       "      <td>Pulmonary hypertension, primary, 6</td>\n",
       "      <td>HP:0000961</td>\n",
       "      <td>Cyanosis</td>\n",
       "      <td></td>\n",
       "      <td></td>\n",
       "      <td>4/4</td>\n",
       "      <td></td>\n",
       "      <td></td>\n",
       "      <td></td>\n",
       "      <td></td>\n",
       "      <td>PMID:38230350</td>\n",
       "      <td>PCS</td>\n",
       "      <td>ORCID:0000-0002-0736-9199[2024-07-29]</td>\n",
       "    </tr>\n",
       "    <tr>\n",
       "      <th>4</th>\n",
       "      <td>OMIM:620777</td>\n",
       "      <td>Pulmonary hypertension, primary, 6</td>\n",
       "      <td>HP:0001622</td>\n",
       "      <td>Premature birth</td>\n",
       "      <td></td>\n",
       "      <td></td>\n",
       "      <td>3/4</td>\n",
       "      <td></td>\n",
       "      <td></td>\n",
       "      <td></td>\n",
       "      <td></td>\n",
       "      <td>PMID:38230350</td>\n",
       "      <td>PCS</td>\n",
       "      <td>ORCID:0000-0002-0736-9199[2024-07-29]</td>\n",
       "    </tr>\n",
       "  </tbody>\n",
       "</table>\n",
       "</div>"
      ],
      "text/plain": [
       "    #diseaseID                         diseaseName phenotypeID  \\\n",
       "0  OMIM:620777  Pulmonary hypertension, primary, 6  HP:0002094   \n",
       "1  OMIM:620777  Pulmonary hypertension, primary, 6  HP:0002104   \n",
       "2  OMIM:620777  Pulmonary hypertension, primary, 6  HP:0001639   \n",
       "3  OMIM:620777  Pulmonary hypertension, primary, 6  HP:0000961   \n",
       "4  OMIM:620777  Pulmonary hypertension, primary, 6  HP:0001622   \n",
       "\n",
       "                 phenotypeName onsetID onsetName frequency sex negation  \\\n",
       "0                      Dyspnea                         5/5                \n",
       "1                        Apnea                         4/4                \n",
       "2  Hypertrophic cardiomyopathy                         1/4                \n",
       "3                     Cyanosis                         4/4                \n",
       "4              Premature birth                         3/4                \n",
       "\n",
       "  modifier description    publication evidence  \\\n",
       "0                       PMID:38230350      PCS   \n",
       "1                       PMID:38230350      PCS   \n",
       "2                       PMID:38230350      PCS   \n",
       "3                       PMID:38230350      PCS   \n",
       "4                       PMID:38230350      PCS   \n",
       "\n",
       "                             biocuration  \n",
       "0  ORCID:0000-0002-0736-9199[2024-07-29]  \n",
       "1  ORCID:0000-0002-0736-9199[2024-07-29]  \n",
       "2  ORCID:0000-0002-0736-9199[2024-07-29]  \n",
       "3  ORCID:0000-0002-0736-9199[2024-07-29]  \n",
       "4  ORCID:0000-0002-0736-9199[2024-07-29]  "
      ]
     },
     "execution_count": 8,
     "metadata": {},
     "output_type": "execute_result"
    }
   ],
   "source": [
    "pmid = \"PMID:38230350\"\n",
    "df = timporter.create_hpoa_from_phenopackets(pmid=pmid, mode_of_inheritance=Moi.AR, target=\"OMIM:620777\")\n",
    "df.head()"
   ]
  },
  {
   "cell_type": "code",
   "execution_count": null,
   "metadata": {},
   "outputs": [],
   "source": []
  }
 ],
 "metadata": {
  "kernelspec": {
   "display_name": "ps24venv",
   "language": "python",
   "name": "python3"
  },
  "language_info": {
   "codemirror_mode": {
    "name": "ipython",
    "version": 3
   },
   "file_extension": ".py",
   "mimetype": "text/x-python",
   "name": "python",
   "nbconvert_exporter": "python",
   "pygments_lexer": "ipython3",
   "version": "3.9.6"
  }
 },
 "nbformat": 4,
 "nbformat_minor": 2
}
