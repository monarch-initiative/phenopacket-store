{
 "cells": [
  {
   "cell_type": "markdown",
   "metadata": {},
   "source": [
    "# SEC61A1\n",
    "[autosomal dominant tubulointerstitial kidney disease-5 (ADTKD5)](https://omim.org/entry/617056) is caused by heterozygous mutation in the SEC61A1 gene."
   ]
  },
  {
   "cell_type": "code",
   "execution_count": 1,
   "metadata": {},
   "outputs": [
    {
     "name": "stdout",
     "output_type": "stream",
     "text": [
      "Using pyphetools version 0.9.94\n"
     ]
    },
    {
     "name": "stderr",
     "output_type": "stream",
     "text": [
      "/Users/robin/GIT/phenopacket-store/ps24venv/lib/python3.9/site-packages/urllib3/__init__.py:35: NotOpenSSLWarning: urllib3 v2 only supports OpenSSL 1.1.1+, currently the 'ssl' module is compiled with 'LibreSSL 2.8.3'. See: https://github.com/urllib3/urllib3/issues/3020\n",
      "  warnings.warn(\n"
     ]
    }
   ],
   "source": [
    "from pyphetools.creation import TemplateImporter, Moi\n",
    "from pyphetools.visualization import IndividualTable, QcVisualizer\n",
    "from IPython.display import display, HTML\n",
    "import pyphetools\n",
    "print(f\"Using pyphetools version {pyphetools.__version__}\")"
   ]
  },
  {
   "cell_type": "code",
   "execution_count": 2,
   "metadata": {},
   "outputs": [],
   "source": [
    "template = \"input/SEC61A1_ADTKD5_individuals.xlsx\"\n",
    "created_by = \"0000-0002-0736-9199\""
   ]
  },
  {
   "cell_type": "code",
   "execution_count": 3,
   "metadata": {},
   "outputs": [
    {
     "name": "stdout",
     "output_type": "stream",
     "text": [
      "HPO version 2024-07-01\n",
      "Created encoders for 55 fields\n",
      "Importing OMIM:617056, Tubulointerstitial kidney disease, autosomal dominant, 5, HGNC:18276, SEC61A1,  NM_013336.4\n",
      "We output 6 GA4GH phenopackets to the directory phenopackets\n"
     ]
    }
   ],
   "source": [
    "timporter = TemplateImporter(template=template,  created_by=created_by)\n",
    "individual_list, cvalidator = timporter.import_phenopackets_from_template()"
   ]
  },
  {
   "cell_type": "code",
   "execution_count": 4,
   "metadata": {},
   "outputs": [
    {
     "data": {
      "text/html": [
       "<h2>Cohort validation</h2>\n",
       "<p>Errors found with 2 of 6 phenopackets.</p>\n",
       "<table style=\"border: 2px solid black; align: \"left\">\n",
       "<caption>Error counts</caption>\n",
       "<tr><th style=\"text-align: left;font-weight: bold;\">Level</th><th style=\"text-align: left;font-weight: bold;\">Error category</th><th style=\"text-align: left;font-weight: bold;\">Count</th></tr>\n",
       "<tr><td style=\"text-align: left;\">WARNING</td><td style=\"text-align: left;\">REDUNDANT</td><td style=\"text-align: left;\">3</td></tr>\n",
       "</table>\n",
       "<p>A total of 3 issues were fixed and no individual was removed from the cohort.</p>"
      ],
      "text/plain": [
       "<IPython.core.display.HTML object>"
      ]
     },
     "metadata": {},
     "output_type": "display_data"
    }
   ],
   "source": [
    "qc = QcVisualizer(cohort_validator=cvalidator)\n",
    "display(HTML(qc.to_summary_html()))"
   ]
  },
  {
   "cell_type": "code",
   "execution_count": 5,
   "metadata": {},
   "outputs": [
    {
     "data": {
      "text/html": [
       "<table style=\"border: 2px solid black; align: \"left\">\n",
       "<caption>6 phenopackets - PMID:27392076 (n=5); PMID:33185949 (n=1)</caption>\n",
       "<tr><th style=\"text-align: left;font-weight: bold;\">Individual</th><th style=\"text-align: left;font-weight: bold;\">Disease</th><th style=\"text-align: left;font-weight: bold;\">Genotype</th><th style=\"text-align: left;font-weight: bold;\">Phenotypic features</th></tr>\n",
       "<tr><td style=\"text-align: left;\">1-III:4 (MALE; P12Y)</td><td style=\"text-align: left;\">Tubulointerstitial kidney disease, autosomal dominant, 5 (OMIM:617056)</td><td style=\"text-align: left;\">NM_013336.4:c.553A>G (heterozygous)</td><td style=\"text-align: left;\">Small for gestational age (HP:0001518); Chronic kidney disease (HP:0012622); Elevated circulating creatinine concentration (HP:0003259); Hyperuricemia (HP:0002149); Anemia (HP:0001903); excluded: Mild global developmental delay (HP:0011342); excluded: Stage 5 chronic kidney disease (HP:0003774); excluded: Recurrent infections (HP:0002719); excluded: Short stature (HP:0004322); excluded: Gout (HP:0001997); excluded: Increased blood urea nitrogen (HP:0003138); excluded: Hypertension (HP:0000822); excluded: Renal cyst (HP:0000107); excluded: Neutropenia (HP:0001875); excluded: Leukopenia (HP:0001882); excluded: Oligohydramnios (HP:0001562); excluded: Triangular face (HP:0000325); excluded: Retrognathia (HP:0000278); excluded: Decreased proportion of CD4-positive helper T cells (HP:0005407); excluded: Hyperkalemia (HP:0002153); excluded: Chronic constipation (HP:0012450); excluded: Acute kidney injury (HP:0001919)</td></tr>\n",
       "<tr><td style=\"text-align: left;\">1-III:5 (FEMALE; P8Y)</td><td style=\"text-align: left;\">Tubulointerstitial kidney disease, autosomal dominant, 5 (OMIM:617056)</td><td style=\"text-align: left;\">NM_013336.4:c.553A>G (heterozygous)</td><td style=\"text-align: left;\">Small for gestational age (HP:0001518); Chronic kidney disease (HP:0012622); Short stature (HP:0004322); Elevated circulating creatinine concentration (HP:0003259); Thickening of the tubular basement membrane (HP:0020132); Renal dysplasia (HP:0000110); Focal segmental glomerulosclerosis (HP:0000097); Anemia (HP:0001903); excluded: Mild global developmental delay (HP:0011342); excluded: Stage 5 chronic kidney disease (HP:0003774); excluded: Recurrent infections (HP:0002719); excluded: Gout (HP:0001997); excluded: Hyperuricemia (HP:0002149); excluded: Increased blood urea nitrogen (HP:0003138); excluded: Hypertension (HP:0000822); excluded: Renal sodium wasting (HP:0012606); excluded: Impaired renal uric acid clearance (HP:0004732); excluded: Abnormal circulating renin (HP:0040084); excluded: Abnormal circulating aldosterone (HP:0040085); excluded: Hematuria (HP:0000790); excluded: Proteinuria (HP:0000093); excluded: Renal cyst (HP:0000107); excluded: Neutropenia (HP:0001875); excluded: Leukopenia (HP:0001882); excluded: Oligohydramnios (HP:0001562); excluded: Triangular face (HP:0000325); excluded: Retrognathia (HP:0000278); excluded: Decreased proportion of CD4-positive helper T cells (HP:0005407); excluded: Hyperkalemia (HP:0002153); excluded: Chronic constipation (HP:0012450); excluded: Acute kidney injury (HP:0001919)</td></tr>\n",
       "<tr><td style=\"text-align: left;\">1-III:7 (MALE; P4Y)</td><td style=\"text-align: left;\">Tubulointerstitial kidney disease, autosomal dominant, 5 (OMIM:617056)</td><td style=\"text-align: left;\">NM_013336.4:c.553A>G (heterozygous)</td><td style=\"text-align: left;\">Small for gestational age (HP:0001518); Chronic kidney disease (HP:0012622); Elevated circulating creatinine concentration (HP:0003259); Anemia (HP:0001903); excluded: Mild global developmental delay (HP:0011342); excluded: Stage 5 chronic kidney disease (HP:0003774); excluded: Recurrent infections (HP:0002719); excluded: Short stature (HP:0004322); excluded: Gout (HP:0001997); excluded: Hyperuricemia (HP:0002149); excluded: Increased blood urea nitrogen (HP:0003138); excluded: Hypertension (HP:0000822); excluded: Renal cyst (HP:0000107); excluded: Neutropenia (HP:0001875); excluded: Leukopenia (HP:0001882); excluded: Oligohydramnios (HP:0001562); excluded: Triangular face (HP:0000325); excluded: Retrognathia (HP:0000278); excluded: Decreased proportion of CD4-positive helper T cells (HP:0005407); excluded: Hyperkalemia (HP:0002153); excluded: Chronic constipation (HP:0012450); excluded: Acute kidney injury (HP:0001919)</td></tr>\n",
       "<tr><td style=\"text-align: left;\">2-III:1 (FEMALE; P27Y)</td><td style=\"text-align: left;\">Tubulointerstitial kidney disease, autosomal dominant, 5 (OMIM:617056)</td><td style=\"text-align: left;\">NM_013336.4:c.200T>G (heterozygous)</td><td style=\"text-align: left;\"><b>P14D</b>: Neutropenia (HP:0001875); Recurrent cutaneous abscess formation (HP:0100838)<br/><b>P18Y</b>: Gout (HP:0001997); Hyperechogenic kidneys (HP:0004719)<br/><b>P28Y</b>: Hyperkalemia (HP:0002153)<br/>Small for gestational age (HP:0001518); Chronic kidney disease (HP:0012622); Elevated circulating creatinine concentration (HP:0003259); Hyperuricemia (HP:0002149); Increased blood urea nitrogen (HP:0003138); Decreased glomerular filtration rate (HP:0012213); Leukopenia (HP:0001882); Anemia (HP:0001903); Decreased urinary uromodulin level (HP:0034886); excluded: Mild global developmental delay (HP:0011342); excluded: Stage 5 chronic kidney disease (HP:0003774); excluded: Hypertension (HP:0000822); excluded: Abnormal circulating renin (HP:0040084); excluded: Abnormal circulating aldosterone (HP:0040085); excluded: Hematuria (HP:0000790); excluded: Proteinuria (HP:0000093); excluded: Renal cyst (HP:0000107); excluded: Oligohydramnios (HP:0001562); excluded: Triangular face (HP:0000325); excluded: Retrognathia (HP:0000278); excluded: Decreased proportion of CD4-positive helper T cells (HP:0005407); excluded: Chronic constipation (HP:0012450); excluded: Acute kidney injury (HP:0001919)</td></tr>\n",
       "<tr><td style=\"text-align: left;\">2-II:2 (MALE; P73Y)</td><td style=\"text-align: left;\">Tubulointerstitial kidney disease, autosomal dominant, 5 (OMIM:617056)</td><td style=\"text-align: left;\">NM_013336.4:c.200T>G (heterozygous)</td><td style=\"text-align: left;\"><b>P21Y</b>: Gout (HP:0001997)<br/><b>P73Y</b>: Stage 5 chronic kidney disease (HP:0003774)<br/>Small for gestational age (HP:0001518); Recurrent cutaneous abscess formation (HP:0100838); Elevated circulating creatinine concentration (HP:0003259); Renal cyst (HP:0000107); Neutropenia (HP:0001875); Leukopenia (HP:0001882); Anemia (HP:0001903); Decreased urinary uromodulin level (HP:0034886); excluded: Mild global developmental delay (HP:0011342); excluded: Hyperuricemia (HP:0002149); excluded: Increased blood urea nitrogen (HP:0003138); excluded: Hypertension (HP:0000822); excluded: Oligohydramnios (HP:0001562); excluded: Triangular face (HP:0000325); excluded: Retrognathia (HP:0000278); excluded: Decreased proportion of CD4-positive helper T cells (HP:0005407); excluded: Hyperkalemia (HP:0002153); excluded: Chronic constipation (HP:0012450); excluded: Acute kidney injury (HP:0001919)</td></tr>\n",
       "<tr><td style=\"text-align: left;\">Case Report (FEMALE; P4Y)</td><td style=\"text-align: left;\">Tubulointerstitial kidney disease, autosomal dominant, 5 (OMIM:617056)</td><td style=\"text-align: left;\">NM_013336.4:c.553A>G (heterozygous)</td><td style=\"text-align: left;\"><b>P9M</b>: Short stature (HP:0004322); Elevated circulating creatinine concentration (HP:0003259); Hyperuricemia (HP:0002149); Triangular face (HP:0000325); Retrognathia (HP:0000278)<br/>Small for gestational age (HP:0001518); Oligohydramnios (HP:0001562); Episodic vomiting (HP:0002572); Chronic constipation (HP:0012450); Acute kidney injury (HP:0001919); Mild global developmental delay (HP:0011342); Chronic kidney disease (HP:0012622); Increased blood urea nitrogen (HP:0003138); Elevated circulating parathyroid hormone level (HP:0003165); Decreased glomerular filtration rate (HP:0012213); Anemia (HP:0001903); Impaired renal concentrating ability (HP:0004727); Decreased proportion of CD4-positive helper T cells (HP:0005407); Hyperkalemia (HP:0002153); excluded: Stage 5 chronic kidney disease (HP:0003774); excluded: Recurrent infections (HP:0002719); excluded: Gout (HP:0001997); excluded: Renal sodium wasting (HP:0012606); excluded: Impaired renal uric acid clearance (HP:0004732); excluded: Proteinuria (HP:0000093); excluded: Renal cyst (HP:0000107); excluded: Neutropenia (HP:0001875)</td></tr>\n",
       "</table>"
      ],
      "text/plain": [
       "<IPython.core.display.HTML object>"
      ]
     },
     "metadata": {},
     "output_type": "display_data"
    }
   ],
   "source": [
    "table = IndividualTable(cvalidator.get_error_free_individual_list())\n",
    "display(HTML(table.to_html()))"
   ]
  },
  {
   "cell_type": "code",
   "execution_count": 6,
   "metadata": {},
   "outputs": [
    {
     "name": "stdout",
     "output_type": "stream",
     "text": [
      "[pyphetools] Ingested 18 GA4GH phenopackets.\n",
      "[INFO] Extracted 6 from 18 phenopackets with OMIM:617056\n",
      "\n",
      "\tTubulointerstitial kidney disease, autosomal dominant, 5 (OMIM:617056): n=6\n",
      "We found a total of 38 unique HPO terms\n",
      "Extracted disease: Tubulointerstitial kidney disease, autosomal dominant, 5 (OMIM:617056)\n",
      "Wrote HPOA disease file to OMIM-617056.tab\n"
     ]
    }
   ],
   "source": [
    "pmid = \"PMID:27392076\"\n",
    "df = timporter.create_hpoa_from_phenopackets(pmid=pmid, mode_of_inheritance=Moi.AD, target=\"OMIM:617056\")"
   ]
  }
 ],
 "metadata": {
  "kernelspec": {
   "display_name": "ps24venv",
   "language": "python",
   "name": "python3"
  },
  "language_info": {
   "codemirror_mode": {
    "name": "ipython",
    "version": 3
   },
   "file_extension": ".py",
   "mimetype": "text/x-python",
   "name": "python",
   "nbconvert_exporter": "python",
   "pygments_lexer": "ipython3",
   "version": "3.9.6"
  }
 },
 "nbformat": 4,
 "nbformat_minor": 2
}
