{
 "cells": [
  {
   "cell_type": "markdown",
   "metadata": {},
   "source": [
    "# SEC61A1\n",
    "[autosomal dominant tubulointerstitial kidney disease-5 (ADTKD5)](https://omim.org/entry/617056) is caused by heterozygous mutation in the SEC61A1 gene."
   ]
  },
  {
   "cell_type": "code",
   "execution_count": 1,
   "metadata": {},
   "outputs": [
    {
     "name": "stdout",
     "output_type": "stream",
     "text": [
      "Using pyphetools version 0.9.105\n"
     ]
    }
   ],
   "source": [
    "from pyphetools.creation import TemplateImporter, Moi\n",
    "from pyphetools.visualization import IndividualTable, QcVisualizer\n",
    "from IPython.display import display, HTML\n",
    "import pyphetools\n",
    "print(f\"Using pyphetools version {pyphetools.__version__}\")"
   ]
  },
  {
   "cell_type": "code",
   "execution_count": 2,
   "metadata": {},
   "outputs": [],
   "source": [
    "template = \"input/SEC61A1_ADTKD5_individuals.xlsx\"\n",
    "created_by = \"0000-0002-0736-9199\""
   ]
  },
  {
   "cell_type": "code",
   "execution_count": 3,
   "metadata": {},
   "outputs": [
    {
     "name": "stdout",
     "output_type": "stream",
     "text": [
      "HPO version 2024-08-13\n",
      "Created encoders for 65 fields\n",
      "Importing OMIM:617056, Tubulointerstitial kidney disease, autosomal dominant, 5, HGNC:18276, SEC61A1,  NM_013336.4\n",
      "We output 7 GA4GH phenopackets to the directory phenopackets\n"
     ]
    }
   ],
   "source": [
    "timporter = TemplateImporter(template=template,  created_by=created_by)\n",
    "individual_list, cvalidator = timporter.import_phenopackets_from_template()"
   ]
  },
  {
   "cell_type": "code",
   "execution_count": 4,
   "metadata": {},
   "outputs": [
    {
     "data": {
      "text/html": [
       "<h2>Cohort validation</h2>\n",
       "<p>Errors found with 3 of 7 phenopackets.</p>\n",
       "<table style=\"border: 2px solid black; align: \"left\">\n",
       "<caption>Error counts</caption>\n",
       "<tr><th style=\"text-align: left;font-weight: bold;\">Level</th><th style=\"text-align: left;font-weight: bold;\">Error category</th><th style=\"text-align: left;font-weight: bold;\">Count</th></tr>\n",
       "<tr><td style=\"text-align: left;\">WARNING</td><td style=\"text-align: left;\">REDUNDANT</td><td style=\"text-align: left;\">5</td></tr>\n",
       "</table>\n",
       "<p>A total of 5 issues were fixed and no individual was removed from the cohort.</p>"
      ],
      "text/plain": [
       "<IPython.core.display.HTML object>"
      ]
     },
     "metadata": {},
     "output_type": "display_data"
    }
   ],
   "source": [
    "qc = QcVisualizer(cohort_validator=cvalidator)\n",
    "display(HTML(qc.to_summary_html()))"
   ]
  },
  {
   "cell_type": "code",
   "execution_count": 5,
   "metadata": {},
   "outputs": [
    {
     "data": {
      "text/html": [
       "<table style=\"border: 2px solid black; align: \"left\">\n",
       "<caption>7 phenopackets - PMID:27392076 (n=5); PMID:33185949 (n=1); PMID:39135939 (n=1)</caption>\n",
       "<tr><th style=\"text-align: left;font-weight: bold;\">Individual</th><th style=\"text-align: left;font-weight: bold;\">Disease</th><th style=\"text-align: left;font-weight: bold;\">Genotype</th><th style=\"text-align: left;font-weight: bold;\">Phenotypic features</th></tr>\n",
       "<tr><td style=\"text-align: left;\">1-III:4 (MALE; P12Y)</td><td style=\"text-align: left;\">Tubulointerstitial kidney disease, autosomal dominant, 5 (OMIM:617056)</td><td style=\"text-align: left;\">NM_013336.4:c.553A>G (heterozygous)</td><td style=\"text-align: left;\">Chronic kidney disease (HP:0012622): onset ; Elevated circulating creatinine concentration (HP:0003259): onset ; Hyperuricemia (HP:0002149): onset ; Anemia (HP:0001903): onset ; excluded: Mild global developmental delay (HP:0011342): onset ; excluded: Stage 5 chronic kidney disease (HP:0003774): onset ; excluded: Recurrent infections (HP:0002719): onset ; excluded: Short stature (HP:0004322): onset ; excluded: Gout (HP:0001997): onset ; excluded: Increased blood urea nitrogen (HP:0003138): onset ; excluded: Hypertension (HP:0000822): onset ; excluded: Renal cyst (HP:0000107): onset ; excluded: Neutropenia (HP:0001875): onset ; excluded: Leukopenia (HP:0001882): onset ; excluded: Oligohydramnios (HP:0001562): onset ; excluded: Triangular face (HP:0000325): onset ; excluded: Retrognathia (HP:0000278): onset ; excluded: Decreased proportion of CD4-positive helper T cells (HP:0005407): onset ; excluded: Hyperkalemia (HP:0002153): onset ; excluded: Chronic constipation (HP:0012450): onset ; excluded: Acute kidney injury (HP:0001919): onset <br/><b>TimeElement(element=OntologyClass(id=HP:0003577, label=Congenital onset))</b>: Small for gestational age (HP:0001518): onset ontology_class {\n",
       "  id: \"HP:0003577\"\n",
       "  label: \"Congenital onset\"\n",
       "}\n",
       "</td></tr>\n",
       "<tr><td style=\"text-align: left;\">1-III:5 (FEMALE; P8Y)</td><td style=\"text-align: left;\">Tubulointerstitial kidney disease, autosomal dominant, 5 (OMIM:617056)</td><td style=\"text-align: left;\">NM_013336.4:c.553A>G (heterozygous)</td><td style=\"text-align: left;\">Chronic kidney disease (HP:0012622): onset ; Short stature (HP:0004322): onset ; Elevated circulating creatinine concentration (HP:0003259): onset ; Thickening of the tubular basement membrane (HP:0020132): onset ; Renal dysplasia (HP:0000110): onset ; Focal segmental glomerulosclerosis (HP:0000097): onset ; Anemia (HP:0001903): onset ; excluded: Mild global developmental delay (HP:0011342): onset ; excluded: Stage 5 chronic kidney disease (HP:0003774): onset ; excluded: Recurrent infections (HP:0002719): onset ; excluded: Gout (HP:0001997): onset ; excluded: Hyperuricemia (HP:0002149): onset ; excluded: Increased blood urea nitrogen (HP:0003138): onset ; excluded: Hypertension (HP:0000822): onset ; excluded: Renal sodium wasting (HP:0012606): onset ; excluded: Impaired renal uric acid clearance (HP:0004732): onset ; excluded: Abnormal circulating renin concentration (HP:0040084): onset ; excluded: Abnormal circulating aldosterone concentration (HP:0040085): onset ; excluded: Hematuria (HP:0000790): onset ; excluded: Proteinuria (HP:0000093): onset ; excluded: Renal cyst (HP:0000107): onset ; excluded: Neutropenia (HP:0001875): onset ; excluded: Leukopenia (HP:0001882): onset ; excluded: Oligohydramnios (HP:0001562): onset ; excluded: Triangular face (HP:0000325): onset ; excluded: Retrognathia (HP:0000278): onset ; excluded: Decreased proportion of CD4-positive helper T cells (HP:0005407): onset ; excluded: Hyperkalemia (HP:0002153): onset ; excluded: Chronic constipation (HP:0012450): onset ; excluded: Acute kidney injury (HP:0001919): onset <br/><b>TimeElement(element=OntologyClass(id=HP:0003577, label=Congenital onset))</b>: Small for gestational age (HP:0001518): onset ontology_class {\n",
       "  id: \"HP:0003577\"\n",
       "  label: \"Congenital onset\"\n",
       "}\n",
       "</td></tr>\n",
       "<tr><td style=\"text-align: left;\">1-III:7 (MALE; P4Y)</td><td style=\"text-align: left;\">Tubulointerstitial kidney disease, autosomal dominant, 5 (OMIM:617056)</td><td style=\"text-align: left;\">NM_013336.4:c.553A>G (heterozygous)</td><td style=\"text-align: left;\">Chronic kidney disease (HP:0012622): onset ; Elevated circulating creatinine concentration (HP:0003259): onset ; Anemia (HP:0001903): onset ; excluded: Mild global developmental delay (HP:0011342): onset ; excluded: Stage 5 chronic kidney disease (HP:0003774): onset ; excluded: Recurrent infections (HP:0002719): onset ; excluded: Short stature (HP:0004322): onset ; excluded: Gout (HP:0001997): onset ; excluded: Hyperuricemia (HP:0002149): onset ; excluded: Increased blood urea nitrogen (HP:0003138): onset ; excluded: Hypertension (HP:0000822): onset ; excluded: Renal cyst (HP:0000107): onset ; excluded: Neutropenia (HP:0001875): onset ; excluded: Leukopenia (HP:0001882): onset ; excluded: Oligohydramnios (HP:0001562): onset ; excluded: Triangular face (HP:0000325): onset ; excluded: Retrognathia (HP:0000278): onset ; excluded: Decreased proportion of CD4-positive helper T cells (HP:0005407): onset ; excluded: Hyperkalemia (HP:0002153): onset ; excluded: Chronic constipation (HP:0012450): onset ; excluded: Acute kidney injury (HP:0001919): onset <br/><b>TimeElement(element=OntologyClass(id=HP:0003577, label=Congenital onset))</b>: Small for gestational age (HP:0001518): onset ontology_class {\n",
       "  id: \"HP:0003577\"\n",
       "  label: \"Congenital onset\"\n",
       "}\n",
       "</td></tr>\n",
       "<tr><td style=\"text-align: left;\">2-III:1 (FEMALE; P27Y)</td><td style=\"text-align: left;\">Tubulointerstitial kidney disease, autosomal dominant, 5 (OMIM:617056)</td><td style=\"text-align: left;\">NM_013336.4:c.200T>G (heterozygous)</td><td style=\"text-align: left;\">Chronic kidney disease (HP:0012622): onset ; Elevated circulating creatinine concentration (HP:0003259): onset ; Hyperuricemia (HP:0002149): onset ; Increased blood urea nitrogen (HP:0003138): onset ; Decreased glomerular filtration rate (HP:0012213): onset ; Leukopenia (HP:0001882): onset ; Anemia (HP:0001903): onset ; Decreased urinary uromodulin level (HP:0034886): onset ; excluded: Mild global developmental delay (HP:0011342): onset ; excluded: Stage 5 chronic kidney disease (HP:0003774): onset ; excluded: Hypertension (HP:0000822): onset ; excluded: Abnormal circulating renin concentration (HP:0040084): onset ; excluded: Abnormal circulating aldosterone concentration (HP:0040085): onset ; excluded: Hematuria (HP:0000790): onset ; excluded: Proteinuria (HP:0000093): onset ; excluded: Renal cyst (HP:0000107): onset ; excluded: Oligohydramnios (HP:0001562): onset ; excluded: Triangular face (HP:0000325): onset ; excluded: Retrognathia (HP:0000278): onset ; excluded: Decreased proportion of CD4-positive helper T cells (HP:0005407): onset ; excluded: Chronic constipation (HP:0012450): onset ; excluded: Acute kidney injury (HP:0001919): onset <br/><b>TimeElement(element=OntologyClass(id=HP:0003577, label=Congenital onset))</b>: Small for gestational age (HP:0001518): onset ontology_class {\n",
       "  id: \"HP:0003577\"\n",
       "  label: \"Congenital onset\"\n",
       "}\n",
       "<br/><b>TimeElement(element=Age(iso8601duration=P14D))</b>: Neutropenia (HP:0001875): onset age {\n",
       "  iso8601duration: \"P14D\"\n",
       "}\n",
       "; Recurrent cutaneous abscess formation (HP:0100838): onset age {\n",
       "  iso8601duration: \"P14D\"\n",
       "}\n",
       "<br/><b>TimeElement(element=Age(iso8601duration=P18Y))</b>: Gout (HP:0001997): onset age {\n",
       "  iso8601duration: \"P18Y\"\n",
       "}\n",
       "; Hyperechogenic kidneys (HP:0004719): onset age {\n",
       "  iso8601duration: \"P18Y\"\n",
       "}\n",
       "<br/><b>TimeElement(element=Age(iso8601duration=P28Y))</b>: Hyperkalemia (HP:0002153): onset age {\n",
       "  iso8601duration: \"P28Y\"\n",
       "}\n",
       "</td></tr>\n",
       "<tr><td style=\"text-align: left;\">2-II:2 (MALE; P73Y)</td><td style=\"text-align: left;\">Tubulointerstitial kidney disease, autosomal dominant, 5 (OMIM:617056)</td><td style=\"text-align: left;\">NM_013336.4:c.200T>G (heterozygous)</td><td style=\"text-align: left;\">Elevated circulating creatinine concentration (HP:0003259): onset ; Renal cyst (HP:0000107): onset ; Neutropenia (HP:0001875): onset ; Leukopenia (HP:0001882): onset ; Anemia (HP:0001903): onset ; Decreased urinary uromodulin level (HP:0034886): onset ; excluded: Mild global developmental delay (HP:0011342): onset ; excluded: Hyperuricemia (HP:0002149): onset ; excluded: Increased blood urea nitrogen (HP:0003138): onset ; excluded: Hypertension (HP:0000822): onset ; excluded: Oligohydramnios (HP:0001562): onset ; excluded: Triangular face (HP:0000325): onset ; excluded: Retrognathia (HP:0000278): onset ; excluded: Decreased proportion of CD4-positive helper T cells (HP:0005407): onset ; excluded: Hyperkalemia (HP:0002153): onset ; excluded: Chronic constipation (HP:0012450): onset ; excluded: Acute kidney injury (HP:0001919): onset <br/><b>TimeElement(element=OntologyClass(id=HP:0003577, label=Congenital onset))</b>: Small for gestational age (HP:0001518): onset ontology_class {\n",
       "  id: \"HP:0003577\"\n",
       "  label: \"Congenital onset\"\n",
       "}\n",
       "<br/><b>TimeElement(element=OntologyClass(id=HP:0011463, label=Childhood onset))</b>: Recurrent cutaneous abscess formation (HP:0100838): onset ontology_class {\n",
       "  id: \"HP:0011463\"\n",
       "  label: \"Childhood onset\"\n",
       "}\n",
       "<br/><b>TimeElement(element=Age(iso8601duration=P21Y))</b>: Gout (HP:0001997): onset age {\n",
       "  iso8601duration: \"P21Y\"\n",
       "}\n",
       "<br/><b>TimeElement(element=Age(iso8601duration=P73Y))</b>: Stage 5 chronic kidney disease (HP:0003774): onset age {\n",
       "  iso8601duration: \"P73Y\"\n",
       "}\n",
       "</td></tr>\n",
       "<tr><td style=\"text-align: left;\">Case Report (FEMALE; P4Y)</td><td style=\"text-align: left;\">Tubulointerstitial kidney disease, autosomal dominant, 5 (OMIM:617056)</td><td style=\"text-align: left;\">NM_013336.4:c.553A>G (heterozygous)</td><td style=\"text-align: left;\"><b>TimeElement(element=OntologyClass(id=HP:0011461, label=Fetal onset))</b>: Oligohydramnios (HP:0001562): onset ontology_class {\n",
       "  id: \"HP:0011461\"\n",
       "  label: \"Fetal onset\"\n",
       "}\n",
       "<br/>Mild global developmental delay (HP:0011342): onset ; Chronic kidney disease (HP:0012622): onset ; Increased blood urea nitrogen (HP:0003138): onset ; Elevated circulating parathyroid hormone level (HP:0003165): onset ; Decreased glomerular filtration rate (HP:0012213): onset ; Anemia (HP:0001903): onset ; Impaired renal concentrating ability (HP:0004727): onset ; Decreased proportion of CD4-positive helper T cells (HP:0005407): onset ; Hyperkalemia (HP:0002153): onset ; excluded: Stage 5 chronic kidney disease (HP:0003774): onset ; excluded: Recurrent infections (HP:0002719): onset ; excluded: Gout (HP:0001997): onset ; excluded: Renal sodium wasting (HP:0012606): onset ; excluded: Impaired renal uric acid clearance (HP:0004732): onset ; excluded: Proteinuria (HP:0000093): onset ; excluded: Renal cyst (HP:0000107): onset ; excluded: Neutropenia (HP:0001875): onset <br/><b>TimeElement(element=OntologyClass(id=HP:0003577, label=Congenital onset))</b>: Small for gestational age (HP:0001518): onset ontology_class {\n",
       "  id: \"HP:0003577\"\n",
       "  label: \"Congenital onset\"\n",
       "}\n",
       "<br/><b>TimeElement(element=OntologyClass(id=HP:0003593, label=Infantile onset))</b>: Episodic vomiting (HP:0002572): onset ontology_class {\n",
       "  id: \"HP:0003593\"\n",
       "  label: \"Infantile onset\"\n",
       "}\n",
       "; Chronic constipation (HP:0012450): onset ontology_class {\n",
       "  id: \"HP:0003593\"\n",
       "  label: \"Infantile onset\"\n",
       "}\n",
       "<br/><b>TimeElement(element=Age(iso8601duration=P9M))</b>: Short stature (HP:0004322): onset age {\n",
       "  iso8601duration: \"P9M\"\n",
       "}\n",
       "; Elevated circulating creatinine concentration (HP:0003259): onset age {\n",
       "  iso8601duration: \"P9M\"\n",
       "}\n",
       "; Hyperuricemia (HP:0002149): onset age {\n",
       "  iso8601duration: \"P9M\"\n",
       "}\n",
       "; Triangular face (HP:0000325): onset age {\n",
       "  iso8601duration: \"P9M\"\n",
       "}\n",
       "; Retrognathia (HP:0000278): onset age {\n",
       "  iso8601duration: \"P9M\"\n",
       "}\n",
       "<br/><b>TimeElement(element=OntologyClass(id=HP:0011463, label=Childhood onset))</b>: Acute kidney injury (HP:0001919): onset ontology_class {\n",
       "  id: \"HP:0011463\"\n",
       "  label: \"Childhood onset\"\n",
       "}\n",
       "</td></tr>\n",
       "<tr><td style=\"text-align: left;\">patient (FEMALE; P12Y)</td><td style=\"text-align: left;\">Tubulointerstitial kidney disease, autosomal dominant, 5 (OMIM:617056)</td><td style=\"text-align: left;\">NM_013336.4:c.1372T>G (heterozygous)</td><td style=\"text-align: left;\">Short stature (HP:0004322): onset ; Small for gestational age (HP:0001518): onset ; Elevated circulating creatinine concentration (HP:0003259): onset ; Renal sodium wasting (HP:0012606): onset ; Neutropenia (HP:0001875): onset ; excluded: Mild global developmental delay (HP:0011342): onset ; excluded: Stage 5 chronic kidney disease (HP:0003774): onset ; excluded: Recurrent infections (HP:0002719): onset ; excluded: Gout (HP:0001997): onset ; excluded: Abnormal circulating renin concentration (HP:0040084): onset ; excluded: Proteinuria (HP:0000093): onset ; excluded: Decreased circulating IgG concentration (HP:0004315): onset ; excluded: Decreased circulating total IgM (HP:0002850): onset ; excluded: Decreased circulating IgA concentration (HP:0002720): onset <br/><b>TimeElement(element=Age(iso8601duration=P3M))</b>: Failure to thrive (HP:0001508): onset age {\n",
       "  iso8601duration: \"P3M\"\n",
       "}\n",
       "<br/><b>TimeElement(element=Age(iso8601duration=P1Y2M))</b>: Stage 4 chronic kidney disease (HP:0012626): onset age {\n",
       "  iso8601duration: \"P1Y2M\"\n",
       "}\n",
       "; Decreased circulating aldosterone concentration (HP:0004319): onset age {\n",
       "  iso8601duration: \"P1Y2M\"\n",
       "}\n",
       "; Hyperkalemia (HP:0002153): onset age {\n",
       "  iso8601duration: \"P1Y2M\"\n",
       "}\n",
       "<br/><b>TimeElement(element=Age(iso8601duration=P7Y))</b>: Hyperuricemia (HP:0002149): onset age {\n",
       "  iso8601duration: \"P7Y\"\n",
       "}\n",
       "<br/><b>TimeElement(element=Age(iso8601duration=P9Y))</b>: Global glomerulosclerosis (HP:0004737): onset age {\n",
       "  iso8601duration: \"P9Y\"\n",
       "}\n",
       "; Tubulointerstitial fibrosis (HP:0005576): onset age {\n",
       "  iso8601duration: \"P9Y\"\n",
       "}\n",
       "; Podocyte foot process effacement (HP:0031266): onset age {\n",
       "  iso8601duration: \"P9Y\"\n",
       "}\n",
       "; Thickened glomerular basement membrane (HP:0004722): onset age {\n",
       "  iso8601duration: \"P9Y\"\n",
       "}\n",
       "</td></tr>\n",
       "</table>"
      ],
      "text/plain": [
       "<IPython.core.display.HTML object>"
      ]
     },
     "metadata": {},
     "output_type": "display_data"
    }
   ],
   "source": [
    "table = IndividualTable(cvalidator.get_error_free_individual_list())\n",
    "display(HTML(table.to_html()))"
   ]
  },
  {
   "cell_type": "code",
   "execution_count": 6,
   "metadata": {},
   "outputs": [
    {
     "name": "stdout",
     "output_type": "stream",
     "text": [
      "[pyphetools] Ingested 19 GA4GH phenopackets.\n",
      "[INFO] Extracted 7 from 19 phenopackets with OMIM:617056\n",
      "\n",
      "\tTubulointerstitial kidney disease, autosomal dominant, 5 (OMIM:617056): n=7\n",
      "We found a total of 48 unique HPO terms\n",
      "Extracted disease: Tubulointerstitial kidney disease, autosomal dominant, 5 (OMIM:617056)\n",
      "Wrote HPOA disease file to OMIM-617056.tab\n"
     ]
    }
   ],
   "source": [
    "pmid = \"PMID:27392076\"\n",
    "df = timporter.create_hpoa_from_phenopackets(pmid=pmid, mode_of_inheritance=Moi.AD, target=\"OMIM:617056\")"
   ]
  }
 ],
 "metadata": {
  "kernelspec": {
   "display_name": "ps24venv",
   "language": "python",
   "name": "python3"
  },
  "language_info": {
   "codemirror_mode": {
    "name": "ipython",
    "version": 3
   },
   "file_extension": ".py",
   "mimetype": "text/x-python",
   "name": "python",
   "nbconvert_exporter": "python",
   "pygments_lexer": "ipython3",
   "version": "3.12.4"
  }
 },
 "nbformat": 4,
 "nbformat_minor": 2
}
