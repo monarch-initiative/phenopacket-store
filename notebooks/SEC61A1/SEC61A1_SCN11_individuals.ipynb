{
 "cells": [
  {
   "cell_type": "markdown",
   "metadata": {},
   "source": [
    "# SEC61A1\n",
    "[autosomal dominant severe congenital neutropenia-11 (SCN11)](https://omim.org/entry/620674) is caused by heterozygous mutation in the SEC61A1 gene."
   ]
  },
  {
   "cell_type": "code",
   "execution_count": 1,
   "metadata": {},
   "outputs": [
    {
     "name": "stdout",
     "output_type": "stream",
     "text": [
      "Using pyphetools version 0.9.94\n"
     ]
    },
    {
     "name": "stderr",
     "output_type": "stream",
     "text": [
      "/Users/robin/GIT/phenopacket-store/ps24venv/lib/python3.9/site-packages/urllib3/__init__.py:35: NotOpenSSLWarning: urllib3 v2 only supports OpenSSL 1.1.1+, currently the 'ssl' module is compiled with 'LibreSSL 2.8.3'. See: https://github.com/urllib3/urllib3/issues/3020\n",
      "  warnings.warn(\n"
     ]
    }
   ],
   "source": [
    "from pyphetools.creation import TemplateImporter, Moi\n",
    "from pyphetools.visualization import IndividualTable, QcVisualizer\n",
    "from IPython.display import display, HTML\n",
    "import pyphetools\n",
    "print(f\"Using pyphetools version {pyphetools.__version__}\")"
   ]
  },
  {
   "cell_type": "code",
   "execution_count": 2,
   "metadata": {},
   "outputs": [],
   "source": [
    "template = \"input/SEC61A1_SCN11_individuals.xlsx\"\n",
    "created_by = \"0000-0002-0736-9199\""
   ]
  },
  {
   "cell_type": "code",
   "execution_count": 3,
   "metadata": {},
   "outputs": [
    {
     "name": "stdout",
     "output_type": "stream",
     "text": [
      "HPO version 2024-07-01\n",
      "Created encoders for 42 fields\n",
      "Importing OMIM:620674, Neutropenia, severe congenital, 11, autosomal dominant, HGNC:18276, SEC61A1,  NM_013336.4\n",
      "We output 1 GA4GH phenopackets to the directory phenopackets\n"
     ]
    }
   ],
   "source": [
    "timporter = TemplateImporter(template=template,  created_by=created_by)\n",
    "individual_list, cvalidator = timporter.import_phenopackets_from_template()"
   ]
  },
  {
   "cell_type": "code",
   "execution_count": 4,
   "metadata": {},
   "outputs": [
    {
     "data": {
      "text/html": [
       "<h2>Cohort validation</h2>\n",
       "<p>Errors found with 1 of 1 phenopackets.</p>\n",
       "<table style=\"border: 2px solid black; align: \"left\">\n",
       "<caption>Error counts</caption>\n",
       "<tr><th style=\"text-align: left;font-weight: bold;\">Level</th><th style=\"text-align: left;font-weight: bold;\">Error category</th><th style=\"text-align: left;font-weight: bold;\">Count</th></tr>\n",
       "<tr><td style=\"text-align: left;\">ERROR</td><td style=\"text-align: left;\">CONFLICT</td><td style=\"text-align: left;\">1</td></tr>\n",
       "<tr><td style=\"text-align: left;\">WARNING</td><td style=\"text-align: left;\">REDUNDANT</td><td style=\"text-align: left;\">1</td></tr>\n",
       "</table>\n",
       "<p>A total of 2 issues were fixed and no individual was removed from the cohort.</p>"
      ],
      "text/plain": [
       "<IPython.core.display.HTML object>"
      ]
     },
     "metadata": {},
     "output_type": "display_data"
    }
   ],
   "source": [
    "qc = QcVisualizer(cohort_validator=cvalidator)\n",
    "display(HTML(qc.to_summary_html()))"
   ]
  },
  {
   "cell_type": "code",
   "execution_count": 5,
   "metadata": {},
   "outputs": [
    {
     "data": {
      "text/html": [
       "<table style=\"border: 2px solid black; align: \"left\">\n",
       "<caption>1 phenopacket - PMID:32325141 (n=1)</caption>\n",
       "<tr><th style=\"text-align: left;font-weight: bold;\">Individual</th><th style=\"text-align: left;font-weight: bold;\">Disease</th><th style=\"text-align: left;font-weight: bold;\">Genotype</th><th style=\"text-align: left;font-weight: bold;\">Phenotypic features</th></tr>\n",
       "<tr><td style=\"text-align: left;\">index patient (FEMALE; P19Y)</td><td style=\"text-align: left;\">Neutropenia, severe congenital, 11, autosomal dominant (OMIM:620674)</td><td style=\"text-align: left;\">NM_013336.4:c.275A>G (heterozygous)</td><td style=\"text-align: left;\"><b>P7Y</b>: Pleural empyema (HP:0011919); Pneumonia (HP:0002090)<br/><b>P16Y</b>: Sepsis (HP:0100806)<br/><b>P19Y</b>: Hyperuricemia (HP:0002149)<br/>Recurrent otitis media (HP:0000403); Recurrent sinusitis (HP:0011108); Recurrent tonsillitis (HP:0011110); Recurrent aphthous stomatitis (HP:0011107); Recurrent gingivitis (HP:0034284); Anemia (HP:0001903); Neutropenia (HP:0001875); Thrombocytopenia (HP:0001873); Renal hypoplasia (HP:0000089); Poor wound healing (HP:0001058); Verrucae (HP:0200043); Gingivitis (HP:0000230); Increased circulating IgG2 level (HP:0032299); Increased circulating IgA level (HP:0003261); Bone marrow maturation arrest (HP:0033606); Monocytosis (HP:0012311); Increased proportion of plasmablasts (HP:0032128); Perianal abscess (HP:0009789); Aphthous ulcer (HP:0032154)</td></tr>\n",
       "</table>"
      ],
      "text/plain": [
       "<IPython.core.display.HTML object>"
      ]
     },
     "metadata": {},
     "output_type": "display_data"
    }
   ],
   "source": [
    "table = IndividualTable(cvalidator.get_error_free_individual_list())\n",
    "display(HTML(table.to_html()))"
   ]
  },
  {
   "cell_type": "code",
   "execution_count": 6,
   "metadata": {},
   "outputs": [
    {
     "name": "stdout",
     "output_type": "stream",
     "text": [
      "[pyphetools] Ingested 18 GA4GH phenopackets.\n",
      "[INFO] Extracted 1 from 18 phenopackets with OMIM:620674\n",
      "\n",
      "\tNeutropenia, severe congenital, 11, autosomal dominant (OMIM:620674): n=1\n",
      "We found a total of 23 unique HPO terms\n",
      "Extracted disease: Neutropenia, severe congenital, 11, autosomal dominant (OMIM:620674)\n",
      "Wrote HPOA disease file to OMIM-620674.tab\n"
     ]
    }
   ],
   "source": [
    "pmid = \"PMID:32325141\"\n",
    "df = timporter.create_hpoa_from_phenopackets(pmid=pmid, mode_of_inheritance=Moi.AD, target=\"OMIM:620674\")"
   ]
  },
  {
   "cell_type": "code",
   "execution_count": null,
   "metadata": {},
   "outputs": [],
   "source": []
  }
 ],
 "metadata": {
  "kernelspec": {
   "display_name": "ps24venv",
   "language": "python",
   "name": "python3"
  },
  "language_info": {
   "codemirror_mode": {
    "name": "ipython",
    "version": 3
   },
   "file_extension": ".py",
   "mimetype": "text/x-python",
   "name": "python",
   "nbconvert_exporter": "python",
   "pygments_lexer": "ipython3",
   "version": "3.9.6"
  }
 },
 "nbformat": 4,
 "nbformat_minor": 2
}
