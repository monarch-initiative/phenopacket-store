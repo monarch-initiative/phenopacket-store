{
 "cells": [
  {
   "cell_type": "markdown",
   "metadata": {},
   "source": [
    "# CAD\n",
    "[developmental and epileptic encephalopathy-50 (DEE50)](https://omim.org/entry/616457) is caused by homozygous or compound heterozygous mutation in the CAD gene."
   ]
  },
  {
   "cell_type": "code",
   "execution_count": 6,
   "metadata": {},
   "outputs": [
    {
     "name": "stdout",
     "output_type": "stream",
     "text": [
      "Using pyphetools version 0.9.94\n"
     ]
    }
   ],
   "source": [
    "from pyphetools.creation import TemplateImporter, Moi\n",
    "from pyphetools.visualization import IndividualTable, QcVisualizer\n",
    "from IPython.display import display, HTML\n",
    "import pyphetools\n",
    "print(f\"Using pyphetools version {pyphetools.__version__}\")"
   ]
  },
  {
   "cell_type": "code",
   "execution_count": 7,
   "metadata": {},
   "outputs": [],
   "source": [
    "template = \"input/CAD_DEE50_individuals.xlsx\"\n",
    "created_by = \"0000-0002-0736-9199\""
   ]
  },
  {
   "cell_type": "code",
   "execution_count": 11,
   "metadata": {},
   "outputs": [
    {
     "name": "stdout",
     "output_type": "stream",
     "text": [
      "HPO version 2024-07-01\n",
      "Created encoders for 40 fields\n",
      "Importing OMIM:616457, Developmental and epileptic encephalopathy 50\t616457\tAR\t3\t, HGNC:1424, CAD,  NM_004341.5\n",
      "We output 1 GA4GH phenopackets to the directory phenopackets\n"
     ]
    }
   ],
   "source": [
    "timporter = TemplateImporter(template=template,  created_by=created_by)\n",
    "individual_list, cvalidator = timporter.import_phenopackets_from_template()"
   ]
  },
  {
   "cell_type": "code",
   "execution_count": 12,
   "metadata": {},
   "outputs": [
    {
     "data": {
      "text/html": [
       "<h2>Cohort validation</h2>\n",
       "<p>No errors found for the cohort with 1 individuals</p>"
      ],
      "text/plain": [
       "<IPython.core.display.HTML object>"
      ]
     },
     "metadata": {},
     "output_type": "display_data"
    }
   ],
   "source": [
    "qc = QcVisualizer(cohort_validator=cvalidator)\n",
    "display(HTML(qc.to_summary_html()))"
   ]
  },
  {
   "cell_type": "code",
   "execution_count": 13,
   "metadata": {},
   "outputs": [
    {
     "data": {
      "text/html": [
       "<table style=\"border: 2px solid black; align: \"left\">\n",
       "<caption>1 phenopacket - PMID:25678555 (n=1)</caption>\n",
       "<tr><th style=\"text-align: left;font-weight: bold;\">Individual</th><th style=\"text-align: left;font-weight: bold;\">Disease</th><th style=\"text-align: left;font-weight: bold;\">Genotype</th><th style=\"text-align: left;font-weight: bold;\">Phenotypic features</th></tr>\n",
       "<tr><td style=\"text-align: left;\">UDP4003 (MALE; P1Y5M)</td><td style=\"text-align: left;\">Developmental and epileptic encephalopathy 50\t616457\tAR\t3\t (OMIM:616457)</td><td style=\"text-align: left;\"><ul> <li>NM_004341.5:c.1843-1G>A (heterozygous)</li> <li>NM_004341.5:c.6071G>A (heterozygous)</li> </ul></td><td style=\"text-align: left;\"><b>P1Y</b>: Renal tubular acidosis (HP:0001947)<br/><b>P1Y5M</b>: Anemia (HP:0001903); Anisopoikilocytosis (HP:0004823); Acanthocytosis (HP:0001927); Schistocytosis (HP:0001981); Seizure (HP:0001250); Hypotonia (HP:0001252); Dysplastic erythropoesis (HP:0012134); Hyperammonemia (HP:0001987); Broad-based gait (HP:0002136); Global developmental delay (HP:0001263); Delayed fine motor development (HP:0010862); Expressive language delay (HP:0002474)<br/>Diarrhea (HP:0002014); Failure to thrive (HP:0001508); excluded: Brain atrophy (HP:0012444); excluded: Status epilepticus (HP:0002133); excluded: Abnormal circulating amino acid concentration (HP:0003112); excluded: Abnormal circulating acylcarnitine concentration (HP:0012071); excluded: Increased circulating lactate concentration (HP:0002151)</td></tr>\n",
       "</table>"
      ],
      "text/plain": [
       "<IPython.core.display.HTML object>"
      ]
     },
     "metadata": {},
     "output_type": "display_data"
    }
   ],
   "source": [
    "table = IndividualTable(cvalidator.get_error_free_individual_list())\n",
    "display(HTML(table.to_html()))"
   ]
  }
 ],
 "metadata": {
  "kernelspec": {
   "display_name": "ps24venv",
   "language": "python",
   "name": "python3"
  },
  "language_info": {
   "codemirror_mode": {
    "name": "ipython",
    "version": 3
   },
   "file_extension": ".py",
   "mimetype": "text/x-python",
   "name": "python",
   "nbconvert_exporter": "python",
   "pygments_lexer": "ipython3",
   "version": "3.9.6"
  }
 },
 "nbformat": 4,
 "nbformat_minor": 2
}
