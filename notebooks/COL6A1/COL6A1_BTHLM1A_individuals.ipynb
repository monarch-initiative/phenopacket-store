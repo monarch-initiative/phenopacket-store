{
 "cells": [
  {
   "cell_type": "markdown",
   "metadata": {},
   "source": [
    "# COL6A1\n",
    "[Bethlem myopathy-1A (BTHLM1A)](https://omim.org/entry/158810) is caused by heterozygous mutation in the COL6A1 gene."
   ]
  },
  {
   "cell_type": "code",
   "execution_count": 1,
   "metadata": {},
   "outputs": [
    {
     "name": "stdout",
     "output_type": "stream",
     "text": [
      "Using pyphetools version 0.9.83\n"
     ]
    },
    {
     "name": "stderr",
     "output_type": "stream",
     "text": [
      "/Users/robin/GIT/phenopacket-store/ps24venv/lib/python3.9/site-packages/urllib3/__init__.py:35: NotOpenSSLWarning: urllib3 v2 only supports OpenSSL 1.1.1+, currently the 'ssl' module is compiled with 'LibreSSL 2.8.3'. See: https://github.com/urllib3/urllib3/issues/3020\n",
      "  warnings.warn(\n"
     ]
    }
   ],
   "source": [
    "from pyphetools.creation import TemplateImporter\n",
    "from pyphetools.visualization import IndividualTable, QcVisualizer\n",
    "from IPython.display import display, HTML\n",
    "import pyphetools\n",
    "print(f\"Using pyphetools version {pyphetools.__version__}\")"
   ]
  },
  {
   "cell_type": "code",
   "execution_count": 2,
   "metadata": {},
   "outputs": [],
   "source": [
    "template = \"input/COL6A1_BTHLM1A_individuals.xlsx\"\n",
    "created_by = \"0000-0002-0736-9199\""
   ]
  },
  {
   "cell_type": "code",
   "execution_count": 6,
   "metadata": {},
   "outputs": [
    {
     "name": "stdout",
     "output_type": "stream",
     "text": [
      "HPO version 2024-04-26\n",
      "Created encoders for 54 fields\n",
      "Importing OMIM:158810, Bethlem myopathy 1A, HGNC:2211, COL6A1,  NM_001848.3\n",
      "[INFO] encoding variant \"c.928_930del\"\n",
      "https://rest.variantvalidator.org/VariantValidator/variantvalidator/hg38/NM_001848.3%3Ac.928_930del/NM_001848.3?content-type=application%2Fjson\n",
      "We output 4 GA4GH phenopackets to the directory phenopackets\n"
     ]
    }
   ],
   "source": [
    "timporter = TemplateImporter(template=template,  created_by=created_by)\n",
    "individual_list, cvalidator = timporter.import_phenopackets_from_template()"
   ]
  },
  {
   "cell_type": "code",
   "execution_count": 7,
   "metadata": {},
   "outputs": [
    {
     "data": {
      "text/html": [
       "<h2>Cohort validation</h2>\n",
       "<p>No errors found for the cohort with 4 individuals</p>"
      ],
      "text/plain": [
       "<IPython.core.display.HTML object>"
      ]
     },
     "metadata": {},
     "output_type": "display_data"
    }
   ],
   "source": [
    "qc = QcVisualizer(cohort_validator=cvalidator)\n",
    "display(HTML(qc.to_summary_html()))"
   ]
  },
  {
   "cell_type": "code",
   "execution_count": 8,
   "metadata": {},
   "outputs": [
    {
     "data": {
      "text/html": [
       "<table style=\"border: 2px solid black; align: \"left\">\n",
       "<caption>4 phenopackets - PMID:30808312 (n=1); PMID:17886299 (n=3)</caption>\n",
       "<tr><th style=\"text-align: left;font-weight: bold;\">Individual</th><th style=\"text-align: left;font-weight: bold;\">Disease</th><th style=\"text-align: left;font-weight: bold;\">Genotype</th><th style=\"text-align: left;font-weight: bold;\">Phenotypic features</th></tr>\n",
       "<tr><td style=\"text-align: left;\">patient (MALE; P14Y)</td><td style=\"text-align: left;\">Bethlem myopathy 1A (OMIM:158810)</td><td style=\"text-align: left;\">NM_001848.3:c.877G>A (heterozygous)</td><td style=\"text-align: left;\"><b>P3Y</b>: Tip-toe gait (HP:0030051); Motor delay (HP:0001270); Axial muscle weakness (HP:0003327); Proximal muscle weakness (HP:0003701); Difficulty running (HP:0009046); Difficulty climbing stairs (HP:0003551)<br/><b>P13Y6M</b>: Areflexia (HP:0001284); Macroscopic hematuria (HP:0012587); Proteinuria (HP:0000093); EMG: myopathic abnormalities (HP:0003458); Neck muscle weakness (HP:0000467); Distal muscle weakness (HP:0002460); Distal lower limb amyotrophy (HP:0008944); Shoulder girdle muscle atrophy (HP:0003724); Pes cavus (HP:0001761); Ankle contracture (HP:0034677); Fatty replacement of skeletal muscle (HP:0012548); Centrally nucleated skeletal muscle fibers (HP:0003687); Muscle fiber necrosis (HP:0003713); Fiber type grouping (HP:0033685); Keratosis pilaris (HP:0032152); Follicular hyperkeratosis (HP:0007502); Mildly elevated creatine kinase (HP:0008180)<br/>Decreased fetal movement (HP:0001558); excluded: Abnormal cranial nerve physiology (HP:0031910); excluded: Intellectual disability (HP:0001249); excluded: Abnormal nerve conduction velocity (HP:0040129); excluded: Recurrent urinary tract infections (HP:0000010); excluded: Arthralgia (HP:0002829); excluded: Abnormal EKG (HP:0003115); excluded: Skin rash (HP:0000988)</td></tr>\n",
       "<tr><td style=\"text-align: left;\">patient BM5 (MALE; P30Y)</td><td style=\"text-align: left;\">Bethlem myopathy 1A (OMIM:158810)</td><td style=\"text-align: left;\">NM_001848.3:c.1056+1G>A (heterozygous)</td><td style=\"text-align: left;\">Proximal muscle weakness (HP:0003701); Ankle contracture (HP:0034677); Elbow contracture (HP:0034391); Finger joint contracture (HP:0034681); Scoliosis (HP:0002650); excluded: Distal muscle weakness (HP:0002460); excluded: Difficulty running (HP:0009046); excluded: Knee contracture (HP:0034671); excluded: Mildly elevated creatine kinase (HP:0008180); excluded: Kyphosis (HP:0002808)</td></tr>\n",
       "<tr><td style=\"text-align: left;\">patient BM14 (FEMALE; P30Y)</td><td style=\"text-align: left;\">Bethlem myopathy 1A (OMIM:158810)</td><td style=\"text-align: left;\">NM_001848.3:c.1056+1G>A (heterozygous)</td><td style=\"text-align: left;\">Proximal muscle weakness (HP:0003701); Distal muscle weakness (HP:0002460); Ankle contracture (HP:0034677); Elbow contracture (HP:0034391); Finger joint contracture (HP:0034681); excluded: Knee contracture (HP:0034671); excluded: Mildly elevated creatine kinase (HP:0008180); excluded: Scoliosis (HP:0002650); excluded: Kyphosis (HP:0002808)</td></tr>\n",
       "<tr><td style=\"text-align: left;\">patient BM20 (MALE; P20Y)</td><td style=\"text-align: left;\">Bethlem myopathy 1A (OMIM:158810)</td><td style=\"text-align: left;\">NM_001848.3:c.928_930del (heterozygous)</td><td style=\"text-align: left;\">Proximal muscle weakness (HP:0003701); Distal muscle weakness (HP:0002460); Elbow contracture (HP:0034391); Kyphosis (HP:0002808); excluded: Ankle contracture (HP:0034677); excluded: Knee contracture (HP:0034671); excluded: Finger joint contracture (HP:0034681); excluded: Mildly elevated creatine kinase (HP:0008180); excluded: Scoliosis (HP:0002650)</td></tr>\n",
       "</table>"
      ],
      "text/plain": [
       "<IPython.core.display.HTML object>"
      ]
     },
     "metadata": {},
     "output_type": "display_data"
    }
   ],
   "source": [
    "table = IndividualTable(cvalidator.get_error_free_individual_list())\n",
    "display(HTML(table.to_html()))"
   ]
  }
 ],
 "metadata": {
  "kernelspec": {
   "display_name": "ps24venv",
   "language": "python",
   "name": "python3"
  },
  "language_info": {
   "codemirror_mode": {
    "name": "ipython",
    "version": 3
   },
   "file_extension": ".py",
   "mimetype": "text/x-python",
   "name": "python",
   "nbconvert_exporter": "python",
   "pygments_lexer": "ipython3",
   "version": "3.9.6"
  }
 },
 "nbformat": 4,
 "nbformat_minor": 2
}
