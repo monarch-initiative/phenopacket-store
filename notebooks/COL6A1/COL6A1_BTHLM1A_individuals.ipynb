{
 "cells": [
  {
   "cell_type": "markdown",
   "metadata": {},
   "source": [
    "# COL6A1\n",
    "[Bethlem myopathy-1A (BTHLM1A)](https://omim.org/entry/158810) is caused by heterozygous mutation in the COL6A1 gene."
   ]
  },
  {
   "cell_type": "code",
   "execution_count": 1,
   "metadata": {},
   "outputs": [
    {
     "name": "stdout",
     "output_type": "stream",
     "text": [
      "Using pyphetools version 0.9.94\n"
     ]
    }
   ],
   "source": [
    "from pyphetools.creation import TemplateImporter, Moi\n",
    "from pyphetools.visualization import IndividualTable, QcVisualizer\n",
    "from IPython.display import display, HTML\n",
    "import pyphetools\n",
    "print(f\"Using pyphetools version {pyphetools.__version__}\")"
   ]
  },
  {
   "cell_type": "code",
   "execution_count": 2,
   "metadata": {},
   "outputs": [],
   "source": [
    "template = \"input/COL6A1_BTHLM1A_individuals.xlsx\"\n",
    "created_by = \"0000-0002-0736-9199\""
   ]
  },
  {
   "cell_type": "code",
   "execution_count": 3,
   "metadata": {},
   "outputs": [
    {
     "name": "stdout",
     "output_type": "stream",
     "text": [
      "HPO version 2024-07-01\n",
      "Created encoders for 56 fields\n",
      "Importing OMIM:158810, Bethlem myopathy 1A, HGNC:2211, COL6A1,  NM_001848.3\n",
      "We output 4 GA4GH phenopackets to the directory phenopackets\n"
     ]
    }
   ],
   "source": [
    "timporter = TemplateImporter(template=template,  created_by=created_by)\n",
    "individual_list, cvalidator = timporter.import_phenopackets_from_template()"
   ]
  },
  {
   "cell_type": "code",
   "execution_count": 4,
   "metadata": {},
   "outputs": [
    {
     "data": {
      "text/html": [
       "<h2>Cohort validation</h2>\n",
       "<p>No errors found for the cohort with 4 individuals</p>"
      ],
      "text/plain": [
       "<IPython.core.display.HTML object>"
      ]
     },
     "metadata": {},
     "output_type": "display_data"
    }
   ],
   "source": [
    "qc = QcVisualizer(cohort_validator=cvalidator)\n",
    "display(HTML(qc.to_summary_html()))"
   ]
  },
  {
   "cell_type": "code",
   "execution_count": 5,
   "metadata": {},
   "outputs": [
    {
     "data": {
      "text/html": [
       "<table style=\"border: 2px solid black; align: \"left\">\n",
       "<caption>4 phenopackets - PMID:30808312 (n=1); PMID:17886299 (n=3)</caption>\n",
       "<tr><th style=\"text-align: left;font-weight: bold;\">Individual</th><th style=\"text-align: left;font-weight: bold;\">Disease</th><th style=\"text-align: left;font-weight: bold;\">Genotype</th><th style=\"text-align: left;font-weight: bold;\">Phenotypic features</th></tr>\n",
       "<tr><td style=\"text-align: left;\">patient (MALE; P14Y)</td><td style=\"text-align: left;\">Bethlem myopathy 1A (OMIM:158810)</td><td style=\"text-align: left;\">NM_001848.3:c.877G>A (heterozygous)</td><td style=\"text-align: left;\"><b>P3Y</b>: Tip-toe gait (HP:0030051); Motor delay (HP:0001270); Axial muscle weakness (HP:0003327); Proximal muscle weakness (HP:0003701); Difficulty running (HP:0009046); Difficulty climbing stairs (HP:0003551)<br/><b>P13Y6M</b>: Areflexia (HP:0001284); Macroscopic hematuria (HP:0012587); Proteinuria (HP:0000093); EMG: myopathic abnormalities (HP:0003458); Neck muscle weakness (HP:0000467); Distal muscle weakness (HP:0002460); Distal lower limb amyotrophy (HP:0008944); Shoulder girdle muscle atrophy (HP:0003724); Pes cavus (HP:0001761); Ankle contracture (HP:0034677); Fatty replacement of skeletal muscle (HP:0012548); Centrally nucleated skeletal muscle fibers (HP:0003687); Muscle fiber necrosis (HP:0003713); Fiber type grouping (HP:0033685); Keratosis pilaris (HP:0032152); Follicular hyperkeratosis (HP:0007502); Mildly elevated creatine kinase (HP:0008180)<br/>Decreased fetal movement (HP:0001558); excluded: Abnormal cranial nerve physiology (HP:0031910); excluded: Intellectual disability (HP:0001249); excluded: Abnormal nerve conduction velocity (HP:0040129); excluded: Recurrent urinary tract infections (HP:0000010); excluded: Arthralgia (HP:0002829); excluded: Abnormal EKG (HP:0003115); excluded: Skin rash (HP:0000988)</td></tr>\n",
       "<tr><td style=\"text-align: left;\">patient BM5 (MALE; P30Y)</td><td style=\"text-align: left;\">Bethlem myopathy 1A (OMIM:158810)</td><td style=\"text-align: left;\">NM_001848.3:c.1056+1G>A (heterozygous)</td><td style=\"text-align: left;\">Proximal muscle weakness (HP:0003701); Ankle contracture (HP:0034677); Elbow contracture (HP:0034391); Finger joint contracture (HP:0034681); Mildly elevated creatine kinase (HP:0008180); Scoliosis (HP:0002650); excluded: Distal muscle weakness (HP:0002460); excluded: Difficulty running (HP:0009046); excluded: Knee contracture (HP:0034671); excluded: Kyphosis (HP:0002808); excluded: Arthrogryposis multiplex congenita (HP:0002804); excluded: Congenital hip dislocation (HP:0001374)</td></tr>\n",
       "<tr><td style=\"text-align: left;\">patient BM14 (FEMALE; P30Y)</td><td style=\"text-align: left;\">Bethlem myopathy 1A (OMIM:158810)</td><td style=\"text-align: left;\">NM_001848.3:c.1056+1G>A (heterozygous)</td><td style=\"text-align: left;\">Proximal muscle weakness (HP:0003701); Distal muscle weakness (HP:0002460); Ankle contracture (HP:0034677); Elbow contracture (HP:0034391); Finger joint contracture (HP:0034681); excluded: Knee contracture (HP:0034671); excluded: Mildly elevated creatine kinase (HP:0008180); excluded: Scoliosis (HP:0002650); excluded: Kyphosis (HP:0002808)</td></tr>\n",
       "<tr><td style=\"text-align: left;\">patient BM20 (MALE; P20Y)</td><td style=\"text-align: left;\">Bethlem myopathy 1A (OMIM:158810)</td><td style=\"text-align: left;\">NM_001848.3:c.928_930del (heterozygous)</td><td style=\"text-align: left;\">Proximal muscle weakness (HP:0003701); Distal muscle weakness (HP:0002460); Elbow contracture (HP:0034391); Kyphosis (HP:0002808); excluded: Ankle contracture (HP:0034677); excluded: Knee contracture (HP:0034671); excluded: Finger joint contracture (HP:0034681); excluded: Mildly elevated creatine kinase (HP:0008180); excluded: Scoliosis (HP:0002650)</td></tr>\n",
       "</table>"
      ],
      "text/plain": [
       "<IPython.core.display.HTML object>"
      ]
     },
     "metadata": {},
     "output_type": "display_data"
    }
   ],
   "source": [
    "table = IndividualTable(cvalidator.get_error_free_individual_list())\n",
    "display(HTML(table.to_html()))"
   ]
  },
  {
   "cell_type": "code",
   "execution_count": 6,
   "metadata": {},
   "outputs": [
    {
     "name": "stdout",
     "output_type": "stream",
     "text": [
      "[pyphetools] Ingested 4 GA4GH phenopackets.\n",
      "[INFO] Extracted 4 from 4 phenopackets with OMIM:158810\n",
      "\n",
      "\tBethlem myopathy 1A (OMIM:158810): n=4\n",
      "We found a total of 38 unique HPO terms\n",
      "Extracted disease: Bethlem myopathy 1A (OMIM:158810)\n",
      "Wrote HPOA disease file to OMIM-158810.tab\n"
     ]
    },
    {
     "data": {
      "text/html": [
       "<div>\n",
       "<style scoped>\n",
       "    .dataframe tbody tr th:only-of-type {\n",
       "        vertical-align: middle;\n",
       "    }\n",
       "\n",
       "    .dataframe tbody tr th {\n",
       "        vertical-align: top;\n",
       "    }\n",
       "\n",
       "    .dataframe thead th {\n",
       "        text-align: right;\n",
       "    }\n",
       "</style>\n",
       "<table border=\"1\" class=\"dataframe\">\n",
       "  <thead>\n",
       "    <tr style=\"text-align: right;\">\n",
       "      <th></th>\n",
       "      <th>#diseaseID</th>\n",
       "      <th>diseaseName</th>\n",
       "      <th>phenotypeID</th>\n",
       "      <th>phenotypeName</th>\n",
       "      <th>onsetID</th>\n",
       "      <th>onsetName</th>\n",
       "      <th>frequency</th>\n",
       "      <th>sex</th>\n",
       "      <th>negation</th>\n",
       "      <th>modifier</th>\n",
       "      <th>description</th>\n",
       "      <th>publication</th>\n",
       "      <th>evidence</th>\n",
       "      <th>biocuration</th>\n",
       "    </tr>\n",
       "  </thead>\n",
       "  <tbody>\n",
       "    <tr>\n",
       "      <th>0</th>\n",
       "      <td>OMIM:158810</td>\n",
       "      <td>Bethlem myopathy 1A</td>\n",
       "      <td>HP:0003701</td>\n",
       "      <td>Proximal muscle weakness</td>\n",
       "      <td></td>\n",
       "      <td></td>\n",
       "      <td>3/3</td>\n",
       "      <td></td>\n",
       "      <td></td>\n",
       "      <td></td>\n",
       "      <td></td>\n",
       "      <td>PMID:17886299</td>\n",
       "      <td>PCS</td>\n",
       "      <td>ORCID:0000-0002-0736-9199[2024-07-24]</td>\n",
       "    </tr>\n",
       "    <tr>\n",
       "      <th>1</th>\n",
       "      <td>OMIM:158810</td>\n",
       "      <td>Bethlem myopathy 1A</td>\n",
       "      <td>HP:0002460</td>\n",
       "      <td>Distal muscle weakness</td>\n",
       "      <td></td>\n",
       "      <td></td>\n",
       "      <td>2/3</td>\n",
       "      <td></td>\n",
       "      <td></td>\n",
       "      <td></td>\n",
       "      <td></td>\n",
       "      <td>PMID:17886299</td>\n",
       "      <td>PCS</td>\n",
       "      <td>ORCID:0000-0002-0736-9199[2024-07-24]</td>\n",
       "    </tr>\n",
       "    <tr>\n",
       "      <th>2</th>\n",
       "      <td>OMIM:158810</td>\n",
       "      <td>Bethlem myopathy 1A</td>\n",
       "      <td>HP:0034391</td>\n",
       "      <td>Elbow contracture</td>\n",
       "      <td></td>\n",
       "      <td></td>\n",
       "      <td>3/3</td>\n",
       "      <td></td>\n",
       "      <td></td>\n",
       "      <td></td>\n",
       "      <td></td>\n",
       "      <td>PMID:17886299</td>\n",
       "      <td>PCS</td>\n",
       "      <td>ORCID:0000-0002-0736-9199[2024-07-24]</td>\n",
       "    </tr>\n",
       "    <tr>\n",
       "      <th>3</th>\n",
       "      <td>OMIM:158810</td>\n",
       "      <td>Bethlem myopathy 1A</td>\n",
       "      <td>HP:0002808</td>\n",
       "      <td>Kyphosis</td>\n",
       "      <td></td>\n",
       "      <td></td>\n",
       "      <td>1/3</td>\n",
       "      <td></td>\n",
       "      <td></td>\n",
       "      <td></td>\n",
       "      <td></td>\n",
       "      <td>PMID:17886299</td>\n",
       "      <td>PCS</td>\n",
       "      <td>ORCID:0000-0002-0736-9199[2024-07-24]</td>\n",
       "    </tr>\n",
       "    <tr>\n",
       "      <th>4</th>\n",
       "      <td>OMIM:158810</td>\n",
       "      <td>Bethlem myopathy 1A</td>\n",
       "      <td>HP:0034677</td>\n",
       "      <td>Ankle contracture</td>\n",
       "      <td></td>\n",
       "      <td></td>\n",
       "      <td>2/3</td>\n",
       "      <td></td>\n",
       "      <td></td>\n",
       "      <td></td>\n",
       "      <td></td>\n",
       "      <td>PMID:17886299</td>\n",
       "      <td>PCS</td>\n",
       "      <td>ORCID:0000-0002-0736-9199[2024-07-24]</td>\n",
       "    </tr>\n",
       "  </tbody>\n",
       "</table>\n",
       "</div>"
      ],
      "text/plain": [
       "    #diseaseID  ...                            biocuration\n",
       "0  OMIM:158810  ...  ORCID:0000-0002-0736-9199[2024-07-24]\n",
       "1  OMIM:158810  ...  ORCID:0000-0002-0736-9199[2024-07-24]\n",
       "2  OMIM:158810  ...  ORCID:0000-0002-0736-9199[2024-07-24]\n",
       "3  OMIM:158810  ...  ORCID:0000-0002-0736-9199[2024-07-24]\n",
       "4  OMIM:158810  ...  ORCID:0000-0002-0736-9199[2024-07-24]\n",
       "\n",
       "[5 rows x 14 columns]"
      ]
     },
     "execution_count": 6,
     "metadata": {},
     "output_type": "execute_result"
    }
   ],
   "source": [
    "pmid = \"PMID:17886299\"\n",
    "df = timporter.create_hpoa_from_phenopackets(pmid=pmid, mode_of_inheritance=Moi.AD, target=\"OMIM:158810\")\n",
    "df.head()"
   ]
  },
  {
   "cell_type": "code",
   "execution_count": null,
   "metadata": {},
   "outputs": [],
   "source": []
  }
 ],
 "metadata": {
  "kernelspec": {
   "display_name": "ps24venv",
   "language": "python",
   "name": "python3"
  },
  "language_info": {
   "codemirror_mode": {
    "name": "ipython",
    "version": 3
   },
   "file_extension": ".py",
   "mimetype": "text/x-python",
   "name": "python",
   "nbconvert_exporter": "python",
   "pygments_lexer": "ipython3",
   "version": "3.9.6"
  }
 },
 "nbformat": 4,
 "nbformat_minor": 2
}
