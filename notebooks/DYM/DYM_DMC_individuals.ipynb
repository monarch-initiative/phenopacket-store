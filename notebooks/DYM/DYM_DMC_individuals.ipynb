{
 "cells": [
  {
   "cell_type": "markdown",
   "metadata": {},
   "source": [
    "# DYM\n",
    "[Dyggve-Melchior-Clausen disease (DMC)](https://omim.org/entry/223800) is caused by homozygous or compound heterozygous mutation in the DYM gene."
   ]
  },
  {
   "cell_type": "code",
   "execution_count": 3,
   "metadata": {},
   "outputs": [
    {
     "name": "stdout",
     "output_type": "stream",
     "text": [
      "Using pyphetools version 0.9.91\n"
     ]
    }
   ],
   "source": [
    "from pyphetools.creation import TemplateImporter\n",
    "from pyphetools.visualization import IndividualTable, QcVisualizer\n",
    "from IPython.display import display, HTML\n",
    "import pyphetools\n",
    "print(f\"Using pyphetools version {pyphetools.__version__}\")"
   ]
  },
  {
   "cell_type": "code",
   "execution_count": 4,
   "metadata": {},
   "outputs": [],
   "source": [
    "template = \"input/DYM_DMC_individuals.xlsx\"\n",
    "created_by = \"0000-0002-0736-9199\""
   ]
  },
  {
   "cell_type": "code",
   "execution_count": 7,
   "metadata": {},
   "outputs": [
    {
     "name": "stdout",
     "output_type": "stream",
     "text": [
      "HPO version 2024-06-25\n",
      "Created encoders for 64 fields\n",
      "Importing OMIM:223800, Dyggve-Melchior-Clausen disease, HGNC:21317, DYM,  NM_001353214.3\n",
      "We output 2 GA4GH phenopackets to the directory phenopackets\n"
     ]
    }
   ],
   "source": [
    "timporter = TemplateImporter(template=template,  created_by=created_by)\n",
    "individual_list, cvalidator = timporter.import_phenopackets_from_template()"
   ]
  },
  {
   "cell_type": "code",
   "execution_count": 8,
   "metadata": {},
   "outputs": [
    {
     "data": {
      "text/html": [
       "<h2>Cohort validation</h2>\n",
       "<p>Errors found with 2 of 2 phenopackets.</p>\n",
       "<table style=\"border: 2px solid black; align: \"left\">\n",
       "<caption>Error counts</caption>\n",
       "<tr><th style=\"text-align: left;font-weight: bold;\">Level</th><th style=\"text-align: left;font-weight: bold;\">Error category</th><th style=\"text-align: left;font-weight: bold;\">Count</th></tr>\n",
       "<tr><td style=\"text-align: left;\">WARNING</td><td style=\"text-align: left;\">REDUNDANT</td><td style=\"text-align: left;\">2</td></tr>\n",
       "</table>\n",
       "<p>A total of 2 issues were fixed and no individual was removed from the cohort.</p>"
      ],
      "text/plain": [
       "<IPython.core.display.HTML object>"
      ]
     },
     "metadata": {},
     "output_type": "display_data"
    }
   ],
   "source": [
    "qc = QcVisualizer(cohort_validator=cvalidator)\n",
    "display(HTML(qc.to_summary_html()))"
   ]
  },
  {
   "cell_type": "code",
   "execution_count": 9,
   "metadata": {},
   "outputs": [
    {
     "data": {
      "text/html": [
       "<table style=\"border: 2px solid black; align: \"left\">\n",
       "<caption>2 phenopackets - PMID:24300288 (n=2)</caption>\n",
       "<tr><th style=\"text-align: left;font-weight: bold;\">Individual</th><th style=\"text-align: left;font-weight: bold;\">Disease</th><th style=\"text-align: left;font-weight: bold;\">Genotype</th><th style=\"text-align: left;font-weight: bold;\">Phenotypic features</th></tr>\n",
       "<tr><td style=\"text-align: left;\">first patient (FEMALE; P8Y)</td><td style=\"text-align: left;\">Dyggve-Melchior-Clausen disease (OMIM:223800)</td><td style=\"text-align: left;\">NM_001353214.3:c.1028_1056del (homozygous)</td><td style=\"text-align: left;\"><b>P8Y</b>: Beaking of vertebral bodies (HP:0004568); Short metatarsal (HP:0010743); Short metacarpal (HP:0010049); Carpal bone hypoplasia (HP:0001498); Hypoplastic iliac wing (HP:0002866); Genu valgum (HP:0002857); Lumbar hyperlordosis (HP:0002938); Wide pubic symphysis (HP:0003183); Scoliosis (HP:0002650); Platyspondyly (HP:0000926); Waddling gait (HP:0002515); Coarse facial features (HP:0000280); Short neck (HP:0000470); Rhizomelia (HP:0008905); Fine hair (HP:0002213); Thick oral frenulum (HP:0034414); Wide mouth (HP:0000154); Smooth philtrum (HP:0000319); Flat acetabular roof (HP:0003180); Intellectual disability (HP:0001249); Absent speech (HP:0001344)<br/>excluded: Synophrys (HP:0000664); excluded: Thick eyebrow (HP:0000574); excluded: Abdominal distention (HP:0003270); excluded: Rectal prolapse (HP:0002035); excluded: Hypoplasia of the odontoid process (HP:0003311)</td></tr>\n",
       "<tr><td style=\"text-align: left;\">second patient (FEMALE; P7Y)</td><td style=\"text-align: left;\">Dyggve-Melchior-Clausen disease (OMIM:223800)</td><td style=\"text-align: left;\">NM_001353214.3:c.580C>T (homozygous)</td><td style=\"text-align: left;\">Beaking of vertebral bodies (HP:0004568); Short metatarsal (HP:0010743); Short metacarpal (HP:0010049); Carpal bone hypoplasia (HP:0001498); Genu valgum (HP:0002857); Wide pubic symphysis (HP:0003183); Scoliosis (HP:0002650); Platyspondyly (HP:0000926); Microcephaly (HP:0000252); Coarse facial features (HP:0000280); Short neck (HP:0000470); Rhizomelia (HP:0008905); Synophrys (HP:0000664); Thick eyebrow (HP:0000574); Abdominal distention (HP:0003270); Rectal prolapse (HP:0002035); Hypoplasia of the odontoid process (HP:0003311); Intellectual disability (HP:0001249); excluded: Hypoplastic iliac wing (HP:0002866); excluded: Waddling gait (HP:0002515); excluded: Fine hair (HP:0002213); excluded: Thick oral frenulum (HP:0034414); excluded: Wide mouth (HP:0000154); excluded: Smooth philtrum (HP:0000319); excluded: Flat acetabular roof (HP:0003180); excluded: Absent speech (HP:0001344)</td></tr>\n",
       "</table>"
      ],
      "text/plain": [
       "<IPython.core.display.HTML object>"
      ]
     },
     "metadata": {},
     "output_type": "display_data"
    }
   ],
   "source": [
    "table = IndividualTable(cvalidator.get_error_free_individual_list())\n",
    "display(HTML(table.to_html()))"
   ]
  },
  {
   "cell_type": "code",
   "execution_count": 10,
   "metadata": {},
   "outputs": [
    {
     "name": "stdout",
     "output_type": "stream",
     "text": [
      "[pyphetools] Ingested 2 GA4GH phenopackets.\n",
      "[INFO] Extracted 2 from 2 phenopackets with OMIM:223800\n",
      "\n",
      "\tDyggve-Melchior-Clausen disease (OMIM:223800): n=2\n",
      "We found a total of 27 unique HPO terms\n",
      "Extracted disease: Dyggve-Melchior-Clausen disease (OMIM:223800)\n",
      "Wrote HPOA disease file to OMIM-223800.tab\n"
     ]
    }
   ],
   "source": [
    "pmid = \"PMID:24300288\"\n",
    "df = timporter.create_hpoa_from_phenopackets(pmid=pmid, moi=\"Autosomal recessive\", target=\"OMIM:223800\")"
   ]
  }
 ],
 "metadata": {
  "kernelspec": {
   "display_name": "ps24venv",
   "language": "python",
   "name": "python3"
  },
  "language_info": {
   "codemirror_mode": {
    "name": "ipython",
    "version": 3
   },
   "file_extension": ".py",
   "mimetype": "text/x-python",
   "name": "python",
   "nbconvert_exporter": "python",
   "pygments_lexer": "ipython3",
   "version": "3.9.6"
  }
 },
 "nbformat": 4,
 "nbformat_minor": 2
}
