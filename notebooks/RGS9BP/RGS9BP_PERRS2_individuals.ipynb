{
 "cells": [
  {
   "cell_type": "markdown",
   "metadata": {},
   "source": [
    "# RGS9BP\n",
    "[prolonged electroretinal response suppression-2 (PERRS2)](https://omim.org/entry/620344) is caused by homozygous or compound heterozygous mutation in the RGS9BP gene."
   ]
  },
  {
   "cell_type": "code",
   "execution_count": 3,
   "metadata": {},
   "outputs": [
    {
     "name": "stdout",
     "output_type": "stream",
     "text": [
      "Using pyphetools version 0.9.82\n"
     ]
    }
   ],
   "source": [
    "from pyphetools.creation import TemplateImporter\n",
    "from pyphetools.visualization import IndividualTable, QcVisualizer\n",
    "from IPython.display import display, HTML\n",
    "import pyphetools\n",
    "print(f\"Using pyphetools version {pyphetools.__version__}\")"
   ]
  },
  {
   "cell_type": "code",
   "execution_count": 5,
   "metadata": {},
   "outputs": [],
   "source": [
    "template = \"input/RGS9BP_PERRS2_individuals.xlsx\"\n",
    "created_by = \"0000-0002-0736-9199\""
   ]
  },
  {
   "cell_type": "code",
   "execution_count": 7,
   "metadata": {},
   "outputs": [
    {
     "name": "stdout",
     "output_type": "stream",
     "text": [
      "HPO version 2024-04-26\n",
      "Created encoders for 22 fields\n",
      "Importing OMIM:620344, Prolonged electroretinal response suppression 2, HGNC:30304, RGS9BP,  NM_207391.3\n",
      "We output 5 GA4GH phenopackets to the directory phenopackets\n"
     ]
    }
   ],
   "source": [
    "del_set = {\"NC_000019.10:g.(?_32675848)_(32678300_?)del\"}\n",
    "timporter = TemplateImporter(template=template,  created_by=created_by)\n",
    "individual_list, cvalidator = timporter.import_phenopackets_from_template(deletions=del_set)"
   ]
  },
  {
   "cell_type": "code",
   "execution_count": 8,
   "metadata": {},
   "outputs": [
    {
     "data": {
      "text/html": [
       "<h2>Cohort validation</h2>\n",
       "<p>No errors found for the cohort with 5 individuals</p>"
      ],
      "text/plain": [
       "<IPython.core.display.HTML object>"
      ]
     },
     "metadata": {},
     "output_type": "display_data"
    }
   ],
   "source": [
    "qc = QcVisualizer(cohort_validator=cvalidator)\n",
    "display(HTML(qc.to_summary_html()))"
   ]
  },
  {
   "cell_type": "code",
   "execution_count": 9,
   "metadata": {},
   "outputs": [
    {
     "data": {
      "text/html": [
       "<table style=\"border: 2px solid black; align: \"left\">\n",
       "<caption>5 phenopackets - PMID:14702087 (n=1); PMID:17698770 (n=1); PMID:19818506 (n=3)</caption>\n",
       "<tr><th style=\"text-align: left;font-weight: bold;\">Individual</th><th style=\"text-align: left;font-weight: bold;\">Disease</th><th style=\"text-align: left;font-weight: bold;\">Genotype</th><th style=\"text-align: left;font-weight: bold;\">Phenotypic features</th></tr>\n",
       "<tr><td style=\"text-align: left;\">Guatemalan patient (MALE; n/a)</td><td style=\"text-align: left;\">Prolonged electroretinal response suppression 2 (OMIM:620344)</td><td style=\"text-align: left;\">NM_207391.3:c.193dup (homozygous)</td><td style=\"text-align: left;\">Bradyopsia (HP:0030511); Difficulty adjusting to changes in luminance (HP:0030512); Reduced visual acuity (HP:0007663); Photophobia (HP:0000613); excluded: Nystagmus (HP:0000639)</td></tr>\n",
       "<tr><td style=\"text-align: left;\">19-year-old Chinese man (MALE; P19Y)</td><td style=\"text-align: left;\">Prolonged electroretinal response suppression 2 (OMIM:620344)</td><td style=\"text-align: left;\"><ul> <li>NM_207391.3:c.277_278del (heterozygous)</li> <li>NC_000019.10:g.(?_32675848)_(32678300_?)del: chromosomal_deletion (SO:1000029)</li> </ul></td><td style=\"text-align: left;\">Bradyopsia (HP:0030511); Reduced visual acuity (HP:0007663); Photophobia (HP:0000613)</td></tr>\n",
       "<tr><td style=\"text-align: left;\">Patient 1A (FEMALE; P19Y)</td><td style=\"text-align: left;\">Prolonged electroretinal response suppression 2 (OMIM:620344)</td><td style=\"text-align: left;\">NM_207391.3:c.94_102del (homozygous)</td><td style=\"text-align: left;\">Bradyopsia (HP:0030511); Difficulty adjusting to changes in luminance (HP:0030512); Reduced visual acuity (HP:0007663); Photophobia (HP:0000613); excluded: Nystagmus (HP:0000639)</td></tr>\n",
       "<tr><td style=\"text-align: left;\">Patient 1B (FEMALE; P11Y)</td><td style=\"text-align: left;\">Prolonged electroretinal response suppression 2 (OMIM:620344)</td><td style=\"text-align: left;\">NM_207391.3:c.94_102del (homozygous)</td><td style=\"text-align: left;\">Bradyopsia (HP:0030511); Difficulty adjusting to changes in luminance (HP:0030512); Reduced visual acuity (HP:0007663); Photophobia (HP:0000613); excluded: Nystagmus (HP:0000639)</td></tr>\n",
       "<tr><td style=\"text-align: left;\">Patient 4 (FEMALE; P39Y)</td><td style=\"text-align: left;\">Prolonged electroretinal response suppression 2 (OMIM:620344)</td><td style=\"text-align: left;\">NM_207391.3:c.614dup (homozygous)</td><td style=\"text-align: left;\">Bradyopsia (HP:0030511); Difficulty adjusting to changes in luminance (HP:0030512); Reduced visual acuity (HP:0007663); Photophobia (HP:0000613); excluded: Nystagmus (HP:0000639)</td></tr>\n",
       "</table>"
      ],
      "text/plain": [
       "<IPython.core.display.HTML object>"
      ]
     },
     "metadata": {},
     "output_type": "display_data"
    }
   ],
   "source": [
    "table = IndividualTable(cvalidator.get_error_free_individual_list())\n",
    "display(HTML(table.to_html()))"
   ]
  },
  {
   "cell_type": "code",
   "execution_count": 10,
   "metadata": {},
   "outputs": [
    {
     "name": "stdout",
     "output_type": "stream",
     "text": [
      "[pyphetools] Ingested 5 GA4GH phenopackets.\n",
      "\tProlonged electroretinal response suppression 2 (OMIM:620344): n=5\n",
      "We found a total of 5 unique HPO terms\n",
      "Extracted disease: Prolonged electroretinal response suppression 2 (OMIM:620344)\n",
      "Wrote HPOA disease file to OMIM-620344.tab\n"
     ]
    }
   ],
   "source": [
    "pmid = \"PMID:14702087\"\n",
    "df = timporter.create_hpoa_from_phenopackets(pmid=pmid, moi=\"Autosomal recessive\")"
   ]
  }
 ],
 "metadata": {
  "kernelspec": {
   "display_name": "ps24venv",
   "language": "python",
   "name": "python3"
  },
  "language_info": {
   "codemirror_mode": {
    "name": "ipython",
    "version": 3
   },
   "file_extension": ".py",
   "mimetype": "text/x-python",
   "name": "python",
   "nbconvert_exporter": "python",
   "pygments_lexer": "ipython3",
   "version": "3.9.6"
  }
 },
 "nbformat": 4,
 "nbformat_minor": 2
}
