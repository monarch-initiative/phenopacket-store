{
 "cells": [
  {
   "cell_type": "markdown",
   "metadata": {},
   "source": [
    "# ATRX\n",
    "[X-linked alpha-thalassemia/impaired intellectual development syndrome](https://omim.org/entry/301040) is caused by mutation in the ATRX gene."
   ]
  },
  {
   "cell_type": "code",
   "execution_count": 1,
   "metadata": {},
   "outputs": [
    {
     "name": "stdout",
     "output_type": "stream",
     "text": [
      "Using pyphetools version 0.9.92\n"
     ]
    },
    {
     "name": "stderr",
     "output_type": "stream",
     "text": [
      "/Users/robin/GIT/phenopacket-store/ps24venv/lib/python3.9/site-packages/urllib3/__init__.py:35: NotOpenSSLWarning: urllib3 v2 only supports OpenSSL 1.1.1+, currently the 'ssl' module is compiled with 'LibreSSL 2.8.3'. See: https://github.com/urllib3/urllib3/issues/3020\n",
      "  warnings.warn(\n"
     ]
    }
   ],
   "source": [
    "from pyphetools.creation import TemplateImporter\n",
    "from pyphetools.visualization import IndividualTable, QcVisualizer\n",
    "from IPython.display import display, HTML\n",
    "import pyphetools\n",
    "print(f\"Using pyphetools version {pyphetools.__version__}\")"
   ]
  },
  {
   "cell_type": "code",
   "execution_count": 2,
   "metadata": {},
   "outputs": [],
   "source": [
    "template = \"input/ATRX_ATRX_individuals.xlsx\"\n",
    "created_by = \"0000-0002-0736-9199\""
   ]
  },
  {
   "cell_type": "code",
   "execution_count": 5,
   "metadata": {},
   "outputs": [
    {
     "name": "stdout",
     "output_type": "stream",
     "text": [
      "HPO version 2024-06-25\n",
      "Created encoders for 61 fields\n",
      "Importing OMIM:301040, Alpha-thalassemia/impaired intellectual development syndrome, HGNC:886, ATRX,  NM_000489.6\n",
      "We output 2 GA4GH phenopackets to the directory phenopackets\n"
     ]
    }
   ],
   "source": [
    "timporter = TemplateImporter(template=template,  created_by=created_by)\n",
    "individual_list, cvalidator = timporter.import_phenopackets_from_template()"
   ]
  },
  {
   "cell_type": "code",
   "execution_count": 6,
   "metadata": {},
   "outputs": [
    {
     "data": {
      "text/html": [
       "<h2>Cohort validation</h2>\n",
       "<p>No errors found for the cohort with 2 individuals</p>"
      ],
      "text/plain": [
       "<IPython.core.display.HTML object>"
      ]
     },
     "metadata": {},
     "output_type": "display_data"
    }
   ],
   "source": [
    "qc = QcVisualizer(cohort_validator=cvalidator)\n",
    "display(HTML(qc.to_summary_html()))"
   ]
  },
  {
   "cell_type": "code",
   "execution_count": 7,
   "metadata": {},
   "outputs": [
    {
     "data": {
      "text/html": [
       "<table style=\"border: 2px solid black; align: \"left\">\n",
       "<caption>2 phenopackets - PMID:28371217 (n=2)</caption>\n",
       "<tr><th style=\"text-align: left;font-weight: bold;\">Individual</th><th style=\"text-align: left;font-weight: bold;\">Disease</th><th style=\"text-align: left;font-weight: bold;\">Genotype</th><th style=\"text-align: left;font-weight: bold;\">Phenotypic features</th></tr>\n",
       "<tr><td style=\"text-align: left;\">proband (MALE; P22Y)</td><td style=\"text-align: left;\">Alpha-thalassemia/impaired intellectual development syndrome (OMIM:301040)</td><td style=\"text-align: left;\">NM_000489.6:c.7156C>T (heterozygous)</td><td style=\"text-align: left;\">Microcephaly (HP:0000252); Intellectual disability, severe (HP:0010864); Microcytic anemia (HP:0001935); Osteosarcoma (HP:0002669); Micropenis (HP:0000054); Cryptorchidism (HP:0000028); Hypertelorism (HP:0000316); Downturned corners of mouth (HP:0002714); Coarse facial features (HP:0000280); excluded: Bicuspid aortic valve (HP:0001647); excluded: Coarctation of aorta (HP:0001680); excluded: Ambiguous genitalia, male (HP:0000033)</td></tr>\n",
       "<tr><td style=\"text-align: left;\">brother (MALE; P22Y)</td><td style=\"text-align: left;\">Alpha-thalassemia/impaired intellectual development syndrome (OMIM:301040)</td><td style=\"text-align: left;\">NM_000489.6:c.7156C>T (heterozygous)</td><td style=\"text-align: left;\">Microcephaly (HP:0000252); Intellectual disability, severe (HP:0010864); Microcytic anemia (HP:0001935); Osteosarcoma (HP:0002669); Bicuspid aortic valve (HP:0001647); Coarctation of aorta (HP:0001680); Ambiguous genitalia, male (HP:0000033); Coarse facial features (HP:0000280); excluded: Micropenis (HP:0000054); excluded: Cryptorchidism (HP:0000028)</td></tr>\n",
       "</table>"
      ],
      "text/plain": [
       "<IPython.core.display.HTML object>"
      ]
     },
     "metadata": {},
     "output_type": "display_data"
    }
   ],
   "source": [
    "table = IndividualTable(cvalidator.get_error_free_individual_list())\n",
    "display(HTML(table.to_html()))"
   ]
  }
 ],
 "metadata": {
  "kernelspec": {
   "display_name": "ps24venv",
   "language": "python",
   "name": "python3"
  },
  "language_info": {
   "codemirror_mode": {
    "name": "ipython",
    "version": 3
   },
   "file_extension": ".py",
   "mimetype": "text/x-python",
   "name": "python",
   "nbconvert_exporter": "python",
   "pygments_lexer": "ipython3",
   "version": "3.9.6"
  }
 },
 "nbformat": 4,
 "nbformat_minor": 2
}
