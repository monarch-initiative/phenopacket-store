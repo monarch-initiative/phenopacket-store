{
 "cells": [
  {
   "cell_type": "markdown",
   "metadata": {},
   "source": [
    "# RTN2\n",
    "[autosomal recessive distal hereditary motor neuropathy-11 with spasticity (HMNR11)](https://omim.org/entry/620854) is caused by homozygous mutation in the RTN2 gene."
   ]
  },
  {
   "cell_type": "code",
   "execution_count": 1,
   "metadata": {},
   "outputs": [
    {
     "name": "stdout",
     "output_type": "stream",
     "text": [
      "Using pyphetools version 0.9.117\n"
     ]
    }
   ],
   "source": [
    "from pyphetools.creation import TemplateImporter, Moi\n",
    "from pyphetools.visualization import IndividualTable, QcVisualizer\n",
    "from IPython.display import display, HTML\n",
    "import pyphetools\n",
    "print(f\"Using pyphetools version {pyphetools.__version__}\")"
   ]
  },
  {
   "cell_type": "code",
   "execution_count": 2,
   "metadata": {},
   "outputs": [
    {
     "name": "stdout",
     "output_type": "stream",
     "text": [
      "HPO version 2025-01-16\n",
      "Created encoders for 46 fields\n",
      "Importing OMIM:620854, Neuronopathy, distal hereditary motor, autosomal recessive 11, with spasticity, HGNC:10468, RTN2,  NM_005619.5\n",
      "We output 13 GA4GH phenopackets to the directory phenopackets\n"
     ]
    }
   ],
   "source": [
    "template = \"input/RTN2_HMNR11_individuals.xlsx\"\n",
    "created_by = \"0000-0002-0736-9199\"\n",
    "timporter = TemplateImporter(template=template,  created_by=created_by)\n",
    "individual_list, cvalidator = timporter.import_phenopackets_from_template()"
   ]
  },
  {
   "cell_type": "code",
   "execution_count": 3,
   "metadata": {},
   "outputs": [
    {
     "data": {
      "text/html": [
       "<h2>Cohort validation</h2>\n",
       "<p>Errors found with 13 of 13 phenopackets.</p>\n",
       "<table style=\"border: 2px solid black; align: \"left\">\n",
       "<caption>Error counts</caption>\n",
       "<tr><th style=\"text-align: left;font-weight: bold;\">Level</th><th style=\"text-align: left;font-weight: bold;\">Error category</th><th style=\"text-align: left;font-weight: bold;\">Count</th></tr>\n",
       "<tr><td style=\"text-align: left;\">WARNING</td><td style=\"text-align: left;\">REDUNDANT</td><td style=\"text-align: left;\">24</td></tr>\n",
       "</table>\n",
       "<p>A total of 24 issues were fixed and no individual was removed from the cohort.</p>"
      ],
      "text/plain": [
       "<IPython.core.display.HTML object>"
      ]
     },
     "metadata": {},
     "output_type": "display_data"
    }
   ],
   "source": [
    "qc = QcVisualizer(cohort_validator=cvalidator)\n",
    "display(HTML(qc.to_summary_html()))"
   ]
  },
  {
   "cell_type": "code",
   "execution_count": 4,
   "metadata": {},
   "outputs": [
    {
     "data": {
      "text/html": [
       "<table style=\"border: 2px solid black; align: \"left\">\n",
       "<caption>13 phenopackets - PMID:38527963 (n=13)</caption>\n",
       "<tr><th style=\"text-align: left;font-weight: bold;\">Individual</th><th style=\"text-align: left;font-weight: bold;\">Disease</th><th style=\"text-align: left;font-weight: bold;\">Genotype</th><th style=\"text-align: left;font-weight: bold;\">Phenotypic features</th></tr>\n",
       "<tr><td style=\"text-align: left;\">F1 Case 1 (FEMALE; P27Y)</td><td style=\"text-align: left;\">Neuronopathy, distal hereditary motor, autosomal recessive 11, with spasticity (OMIM:620854)</td><td style=\"text-align: left;\">NM_005619.5:c.287del (homozygous)</td><td style=\"text-align: left;\">Distal lower limb muscle weakness (HP:0009053): onset ; Distal upper limb muscle weakness (HP:0008959): onset ; Weakness of long finger extensor muscles (HP:0009077): onset ; Lower limb spasticity (HP:0002061): onset ; Foot dorsiflexor weakness (HP:0009027): onset ; Distal upper limb amyotrophy (HP:0007149): onset ; Distal lower limb amyotrophy (HP:0008944): onset ; Motor axonal neuropathy (HP:0007002): onset ; Hyperreflexia (HP:0001347): onset ; Babinski sign (HP:0003487): onset ; Absent Achilles reflex (HP:0003438): onset ; Action tremor (HP:0002345): onset ; Spastic gait (HP:0002064): onset ; Pes planus (HP:0001763): onset ; Fatty replacement of skeletal muscle (HP:0012548): onset ; excluded: Proximal muscle weakness in lower limbs (HP:0008994): onset ; excluded: Urinary urgency (HP:0000012): onset ; excluded: Delayed ability to walk (HP:0031936): onset ; excluded: Intellectual disability (HP:0001249): onset ; excluded: Pes cavus (HP:0001761): onset ; excluded: Hammertoe (HP:0001765): onset ; excluded: Hyperlordosis (HP:0003307): onset ; excluded: Bulbar palsy (HP:0001283): onset <br/><b>TimeElement(element=Age(iso8601duration=P2Y))</b>: Tip-toe gait (HP:0030051): onset age {\n",
       "  iso8601duration: \"P2Y\"\n",
       "}\n",
       "</td></tr>\n",
       "<tr><td style=\"text-align: left;\">F1 Case 2 (MALE; P17Y)</td><td style=\"text-align: left;\">Neuronopathy, distal hereditary motor, autosomal recessive 11, with spasticity (OMIM:620854)</td><td style=\"text-align: left;\">NM_005619.5:c.287del (homozygous)</td><td style=\"text-align: left;\">Distal lower limb muscle weakness (HP:0009053): onset ; Distal upper limb muscle weakness (HP:0008959): onset ; Weakness of long finger extensor muscles (HP:0009077): onset ; Lower limb spasticity (HP:0002061): onset ; Foot dorsiflexor weakness (HP:0009027): onset ; Distal upper limb amyotrophy (HP:0007149): onset ; Distal lower limb amyotrophy (HP:0008944): onset ; Motor axonal neuropathy (HP:0007002): onset ; Hyperreflexia (HP:0001347): onset ; Babinski sign (HP:0003487): onset ; Absent Achilles reflex (HP:0003438): onset ; Action tremor (HP:0002345): onset ; Spastic gait (HP:0002064): onset ; Pes planus (HP:0001763): onset ; Fatty replacement of skeletal muscle (HP:0012548): onset ; excluded: Proximal muscle weakness in lower limbs (HP:0008994): onset ; excluded: Urinary urgency (HP:0000012): onset ; excluded: Delayed ability to walk (HP:0031936): onset ; excluded: Intellectual disability (HP:0001249): onset ; excluded: Pes cavus (HP:0001761): onset ; excluded: Hammertoe (HP:0001765): onset ; excluded: Hyperlordosis (HP:0003307): onset ; excluded: Bulbar palsy (HP:0001283): onset <br/><b>TimeElement(element=Age(iso8601duration=P2Y))</b>: Tip-toe gait (HP:0030051): onset age {\n",
       "  iso8601duration: \"P2Y\"\n",
       "}\n",
       "</td></tr>\n",
       "<tr><td style=\"text-align: left;\">F2 Case 3 (MALE; P23Y)</td><td style=\"text-align: left;\">Neuronopathy, distal hereditary motor, autosomal recessive 11, with spasticity (OMIM:620854)</td><td style=\"text-align: left;\">NM_005619.5:c.701_702dup (homozygous)</td><td style=\"text-align: left;\">Distal lower limb muscle weakness (HP:0009053): onset ; Distal upper limb muscle weakness (HP:0008959): onset ; Weakness of long finger extensor muscles (HP:0009077): onset ; Lower limb spasticity (HP:0002061): onset ; Foot dorsiflexor weakness (HP:0009027): onset ; Distal upper limb amyotrophy (HP:0007149): onset ; Distal lower limb amyotrophy (HP:0008944): onset ; Motor axonal neuropathy (HP:0007002): onset ; Hyperreflexia (HP:0001347): onset ; Babinski sign (HP:0003487): onset ; Absent Achilles reflex (HP:0003438): onset ; Action tremor (HP:0002345): onset ; Spastic gait (HP:0002064): onset ; Pes cavus (HP:0001761): onset ; Hammertoe (HP:0001765): onset ; excluded: Proximal muscle weakness in lower limbs (HP:0008994): onset ; excluded: Urinary urgency (HP:0000012): onset ; excluded: Delayed ability to walk (HP:0031936): onset ; excluded: Intellectual disability (HP:0001249): onset ; excluded: Pes planus (HP:0001763): onset ; excluded: Hyperlordosis (HP:0003307): onset ; excluded: Bulbar palsy (HP:0001283): onset <br/><b>TimeElement(element=Age(iso8601duration=P1Y))</b>: Tip-toe gait (HP:0030051): onset age {\n",
       "  iso8601duration: \"P1Y\"\n",
       "}\n",
       "</td></tr>\n",
       "<tr><td style=\"text-align: left;\">F2 Case 4 (MALE; P18Y)</td><td style=\"text-align: left;\">Neuronopathy, distal hereditary motor, autosomal recessive 11, with spasticity (OMIM:620854)</td><td style=\"text-align: left;\">NM_005619.5:c.701_702dup (homozygous)</td><td style=\"text-align: left;\">Distal lower limb muscle weakness (HP:0009053): onset ; Distal upper limb muscle weakness (HP:0008959): onset ; Weakness of long finger extensor muscles (HP:0009077): onset ; Lower limb spasticity (HP:0002061): onset ; Foot dorsiflexor weakness (HP:0009027): onset ; Distal upper limb amyotrophy (HP:0007149): onset ; Distal lower limb amyotrophy (HP:0008944): onset ; Motor axonal neuropathy (HP:0007002): onset ; Hyperreflexia (HP:0001347): onset ; Babinski sign (HP:0003487): onset ; Absent Achilles reflex (HP:0003438): onset ; Action tremor (HP:0002345): onset ; Spastic gait (HP:0002064): onset ; Pes cavus (HP:0001761): onset ; Hammertoe (HP:0001765): onset ; excluded: Proximal muscle weakness in lower limbs (HP:0008994): onset ; excluded: Urinary urgency (HP:0000012): onset ; excluded: Delayed ability to walk (HP:0031936): onset ; excluded: Intellectual disability (HP:0001249): onset ; excluded: Pes planus (HP:0001763): onset ; excluded: Hyperlordosis (HP:0003307): onset ; excluded: Bulbar palsy (HP:0001283): onset <br/><b>TimeElement(element=Age(iso8601duration=P2Y))</b>: Tip-toe gait (HP:0030051): onset age {\n",
       "  iso8601duration: \"P2Y\"\n",
       "}\n",
       "</td></tr>\n",
       "<tr><td style=\"text-align: left;\">F3 Case 5 (MALE; P28Y)</td><td style=\"text-align: left;\">Neuronopathy, distal hereditary motor, autosomal recessive 11, with spasticity (OMIM:620854)</td><td style=\"text-align: left;\">NM_005619.5:c.571C>T (homozygous)</td><td style=\"text-align: left;\">Distal lower limb muscle weakness (HP:0009053): onset ; Distal upper limb muscle weakness (HP:0008959): onset ; Weakness of long finger extensor muscles (HP:0009077): onset ; Lower limb spasticity (HP:0002061): onset ; Distal upper limb amyotrophy (HP:0007149): onset ; Distal lower limb amyotrophy (HP:0008944): onset ; Motor axonal neuropathy (HP:0007002): onset ; Hyperreflexia (HP:0001347): onset ; Babinski sign (HP:0003487): onset ; Absent Achilles reflex (HP:0003438): onset ; Pes planus (HP:0001763): onset ; excluded: Proximal muscle weakness in lower limbs (HP:0008994): onset ; excluded: Urinary urgency (HP:0000012): onset ; excluded: Delayed ability to walk (HP:0031936): onset ; excluded: Action tremor (HP:0002345): onset ; excluded: Intellectual disability (HP:0001249): onset ; excluded: Pes cavus (HP:0001761): onset ; excluded: Hammertoe (HP:0001765): onset ; excluded: Hyperlordosis (HP:0003307): onset ; excluded: Bulbar palsy (HP:0001283): onset <br/><b>TimeElement(element=Age(iso8601duration=P5Y))</b>: Foot dorsiflexor weakness (HP:0009027): onset age {\n",
       "  iso8601duration: \"P5Y\"\n",
       "}\n",
       "; Frequent falls (HP:0002359): onset age {\n",
       "  iso8601duration: \"P5Y\"\n",
       "}\n",
       "; Gait disturbance (HP:0001288): onset age {\n",
       "  iso8601duration: \"P5Y\"\n",
       "}\n",
       "</td></tr>\n",
       "<tr><td style=\"text-align: left;\">F4 Case 7 (FEMALE; P11Y)</td><td style=\"text-align: left;\">Neuronopathy, distal hereditary motor, autosomal recessive 11, with spasticity (OMIM:620854)</td><td style=\"text-align: left;\">NM_005619.5:c.577C>T (homozygous)</td><td style=\"text-align: left;\">Distal lower limb muscle weakness (HP:0009053): onset ; Distal upper limb muscle weakness (HP:0008959): onset ; Lower limb spasticity (HP:0002061): onset ; Foot dorsiflexor weakness (HP:0009027): onset ; Distal upper limb amyotrophy (HP:0007149): onset ; Distal lower limb amyotrophy (HP:0008944): onset ; Hyperreflexia (HP:0001347): onset ; Babinski sign (HP:0003487): onset ; Absent Achilles reflex (HP:0003438): onset ; Delayed ability to walk (HP:0031936): onset ; Pes planus (HP:0001763): onset ; Elevated circulating creatine kinase concentration (HP:0003236): onset ; excluded: Proximal muscle weakness in lower limbs (HP:0008994): onset ; excluded: Weakness of long finger extensor muscles (HP:0009077): onset ; excluded: Urinary urgency (HP:0000012): onset ; excluded: Motor axonal neuropathy (HP:0007002): onset ; excluded: Action tremor (HP:0002345): onset ; excluded: Intellectual disability (HP:0001249): onset ; excluded: Pes cavus (HP:0001761): onset ; excluded: Hammertoe (HP:0001765): onset ; excluded: Hyperlordosis (HP:0003307): onset ; excluded: Bulbar palsy (HP:0001283): onset <br/><b>TimeElement(element=Age(iso8601duration=P2Y))</b>: Frequent falls (HP:0002359): onset age {\n",
       "  iso8601duration: \"P2Y\"\n",
       "}\n",
       "; Gait disturbance (HP:0001288): onset age {\n",
       "  iso8601duration: \"P2Y\"\n",
       "}\n",
       "</td></tr>\n",
       "<tr><td style=\"text-align: left;\">F4 Case 8 (FEMALE; P13Y)</td><td style=\"text-align: left;\">Neuronopathy, distal hereditary motor, autosomal recessive 11, with spasticity (OMIM:620854)</td><td style=\"text-align: left;\">NM_005619.5:c.577C>T (homozygous)</td><td style=\"text-align: left;\">Distal lower limb muscle weakness (HP:0009053): onset ; Distal upper limb muscle weakness (HP:0008959): onset ; Lower limb spasticity (HP:0002061): onset ; Foot dorsiflexor weakness (HP:0009027): onset ; Distal upper limb amyotrophy (HP:0007149): onset ; Distal lower limb amyotrophy (HP:0008944): onset ; Hyperreflexia (HP:0001347): onset ; Babinski sign (HP:0003487): onset ; Absent Achilles reflex (HP:0003438): onset ; Pes planus (HP:0001763): onset ; Hyperlordosis (HP:0003307): onset ; Elevated circulating creatine kinase concentration (HP:0003236): onset ; excluded: Proximal muscle weakness in lower limbs (HP:0008994): onset ; excluded: Weakness of long finger extensor muscles (HP:0009077): onset ; excluded: Urinary urgency (HP:0000012): onset ; excluded: Motor axonal neuropathy (HP:0007002): onset ; excluded: Delayed ability to walk (HP:0031936): onset ; excluded: Action tremor (HP:0002345): onset ; excluded: Intellectual disability (HP:0001249): onset ; excluded: Pes cavus (HP:0001761): onset ; excluded: Hammertoe (HP:0001765): onset ; excluded: Bulbar palsy (HP:0001283): onset <br/><b>TimeElement(element=Age(iso8601duration=P6Y))</b>: Frequent falls (HP:0002359): onset age {\n",
       "  iso8601duration: \"P6Y\"\n",
       "}\n",
       "; Gait disturbance (HP:0001288): onset age {\n",
       "  iso8601duration: \"P6Y\"\n",
       "}\n",
       "</td></tr>\n",
       "<tr><td style=\"text-align: left;\">F5 Case 9 (MALE; P35Y)</td><td style=\"text-align: left;\">Neuronopathy, distal hereditary motor, autosomal recessive 11, with spasticity (OMIM:620854)</td><td style=\"text-align: left;\">NM_005619.5:c.285del (homozygous)</td><td style=\"text-align: left;\">Distal lower limb muscle weakness (HP:0009053): onset ; Distal upper limb muscle weakness (HP:0008959): onset ; Weakness of long finger extensor muscles (HP:0009077): onset ; Lower limb spasticity (HP:0002061): onset ; Foot dorsiflexor weakness (HP:0009027): onset ; Distal upper limb amyotrophy (HP:0007149): onset ; Distal lower limb amyotrophy (HP:0008944): onset ; Motor axonal neuropathy (HP:0007002): onset ; Hyperreflexia (HP:0001347): onset ; Babinski sign (HP:0003487): onset ; Absent Achilles reflex (HP:0003438): onset ; Spastic gait (HP:0002064): onset ; Pes planus (HP:0001763): onset ; Hammertoe (HP:0001765): onset ; excluded: Proximal muscle weakness in lower limbs (HP:0008994): onset ; excluded: Urinary urgency (HP:0000012): onset ; excluded: Delayed ability to walk (HP:0031936): onset ; excluded: Action tremor (HP:0002345): onset ; excluded: Intellectual disability (HP:0001249): onset ; excluded: Pes cavus (HP:0001761): onset ; excluded: Hyperlordosis (HP:0003307): onset ; excluded: Bulbar palsy (HP:0001283): onset <br/><b>TimeElement(element=Age(iso8601duration=P1Y6M))</b>: Tip-toe gait (HP:0030051): onset age {\n",
       "  iso8601duration: \"P1Y6M\"\n",
       "}\n",
       "</td></tr>\n",
       "<tr><td style=\"text-align: left;\">F5 Case 10 (FEMALE; P45Y)</td><td style=\"text-align: left;\">Neuronopathy, distal hereditary motor, autosomal recessive 11, with spasticity (OMIM:620854)</td><td style=\"text-align: left;\">NM_005619.5:c.285del (homozygous)</td><td style=\"text-align: left;\">Distal lower limb muscle weakness (HP:0009053): onset ; Distal upper limb muscle weakness (HP:0008959): onset ; Lower limb spasticity (HP:0002061): onset ; Foot dorsiflexor weakness (HP:0009027): onset ; Distal upper limb amyotrophy (HP:0007149): onset ; Distal lower limb amyotrophy (HP:0008944): onset ; Motor axonal neuropathy (HP:0007002): onset ; Hyperreflexia (HP:0001347): onset ; Babinski sign (HP:0003487): onset ; Absent Achilles reflex (HP:0003438): onset ; Delayed ability to walk (HP:0031936): onset ; Spastic gait (HP:0002064): onset ; Pes planus (HP:0001763): onset ; Hammertoe (HP:0001765): onset ; excluded: Proximal muscle weakness in lower limbs (HP:0008994): onset ; excluded: Weakness of long finger extensor muscles (HP:0009077): onset ; excluded: Urinary urgency (HP:0000012): onset ; excluded: Action tremor (HP:0002345): onset ; excluded: Intellectual disability (HP:0001249): onset ; excluded: Pes cavus (HP:0001761): onset ; excluded: Hyperlordosis (HP:0003307): onset ; excluded: Bulbar palsy (HP:0001283): onset <br/><b>TimeElement(element=Age(iso8601duration=P2Y))</b>: Tip-toe gait (HP:0030051): onset age {\n",
       "  iso8601duration: \"P2Y\"\n",
       "}\n",
       "</td></tr>\n",
       "<tr><td style=\"text-align: left;\">F6 Case 11 (MALE; P11Y)</td><td style=\"text-align: left;\">Neuronopathy, distal hereditary motor, autosomal recessive 11, with spasticity (OMIM:620854)</td><td style=\"text-align: left;\">NM_005619.5:c.79G>T (homozygous)</td><td style=\"text-align: left;\">Distal lower limb muscle weakness (HP:0009053): onset ; Distal upper limb muscle weakness (HP:0008959): onset ; Proximal muscle weakness in lower limbs (HP:0008994): onset ; Weakness of long finger extensor muscles (HP:0009077): onset ; Lower limb spasticity (HP:0002061): onset ; Distal upper limb amyotrophy (HP:0007149): onset ; Distal lower limb amyotrophy (HP:0008944): onset ; Motor axonal neuropathy (HP:0007002): onset ; Hyperreflexia (HP:0001347): onset ; Babinski sign (HP:0003487): onset ; Absent Achilles reflex (HP:0003438): onset ; Spastic gait (HP:0002064): onset ; Pes planus (HP:0001763): onset ; Hammertoe (HP:0001765): onset ; excluded: Foot dorsiflexor weakness (HP:0009027): onset ; excluded: Urinary urgency (HP:0000012): onset ; excluded: Delayed ability to walk (HP:0031936): onset ; excluded: Action tremor (HP:0002345): onset ; excluded: Intellectual disability (HP:0001249): onset ; excluded: Pes cavus (HP:0001761): onset ; excluded: Hyperlordosis (HP:0003307): onset ; excluded: Bulbar palsy (HP:0001283): onset ; excluded: Fatty replacement of skeletal muscle (HP:0012548): onset <br/><b>TimeElement(element=Age(iso8601duration=P1Y6M))</b>: Tip-toe gait (HP:0030051): onset age {\n",
       "  iso8601duration: \"P1Y6M\"\n",
       "}\n",
       "</td></tr>\n",
       "<tr><td style=\"text-align: left;\">F6 Case 12 (MALE; P9Y)</td><td style=\"text-align: left;\">Neuronopathy, distal hereditary motor, autosomal recessive 11, with spasticity (OMIM:620854)</td><td style=\"text-align: left;\">NM_005619.5:c.79G>T (homozygous)</td><td style=\"text-align: left;\">Distal lower limb muscle weakness (HP:0009053): onset ; Distal upper limb muscle weakness (HP:0008959): onset ; Proximal muscle weakness in lower limbs (HP:0008994): onset ; Weakness of long finger extensor muscles (HP:0009077): onset ; Lower limb spasticity (HP:0002061): onset ; Distal upper limb amyotrophy (HP:0007149): onset ; Distal lower limb amyotrophy (HP:0008944): onset ; Motor axonal neuropathy (HP:0007002): onset ; Hyperreflexia (HP:0001347): onset ; Babinski sign (HP:0003487): onset ; Absent Achilles reflex (HP:0003438): onset ; Pes planus (HP:0001763): onset ; Hammertoe (HP:0001765): onset ; excluded: Foot dorsiflexor weakness (HP:0009027): onset ; excluded: Urinary urgency (HP:0000012): onset ; excluded: Delayed ability to walk (HP:0031936): onset ; excluded: Action tremor (HP:0002345): onset ; excluded: Intellectual disability (HP:0001249): onset ; excluded: Pes cavus (HP:0001761): onset ; excluded: Hyperlordosis (HP:0003307): onset ; excluded: Bulbar palsy (HP:0001283): onset ; excluded: Fatty replacement of skeletal muscle (HP:0012548): onset <br/><b>TimeElement(element=Age(iso8601duration=P1Y6M))</b>: Gait disturbance (HP:0001288): onset age {\n",
       "  iso8601duration: \"P1Y6M\"\n",
       "}\n",
       "</td></tr>\n",
       "<tr><td style=\"text-align: left;\">F7 Case 13 (FEMALE; P16Y)</td><td style=\"text-align: left;\">Neuronopathy, distal hereditary motor, autosomal recessive 11, with spasticity (OMIM:620854)</td><td style=\"text-align: left;\">NM_005619.5:c.178dup (homozygous)</td><td style=\"text-align: left;\">Distal lower limb muscle weakness (HP:0009053): onset ; Distal upper limb muscle weakness (HP:0008959): onset ; Proximal muscle weakness in lower limbs (HP:0008994): onset ; Weakness of long finger extensor muscles (HP:0009077): onset ; Lower limb spasticity (HP:0002061): onset ; Distal lower limb amyotrophy (HP:0008944): onset ; Urinary urgency (HP:0000012): onset ; Motor axonal neuropathy (HP:0007002): onset ; Hyperreflexia (HP:0001347): onset ; Babinski sign (HP:0003487): onset ; Absent Achilles reflex (HP:0003438): onset ; Motor delay (HP:0001270): onset ; Pes cavus (HP:0001761): onset ; excluded: Distal upper limb amyotrophy (HP:0007149): onset ; excluded: Action tremor (HP:0002345): onset ; excluded: Intellectual disability (HP:0001249): onset ; excluded: Pes planus (HP:0001763): onset ; excluded: Hammertoe (HP:0001765): onset ; excluded: Hyperlordosis (HP:0003307): onset ; excluded: Bulbar palsy (HP:0001283): onset <br/><b>TimeElement(element=Age(iso8601duration=P5Y))</b>: Foot dorsiflexor weakness (HP:0009027): onset age {\n",
       "  iso8601duration: \"P5Y\"\n",
       "}\n",
       "; Frequent falls (HP:0002359): onset age {\n",
       "  iso8601duration: \"P5Y\"\n",
       "}\n",
       "; Gait disturbance (HP:0001288): onset age {\n",
       "  iso8601duration: \"P5Y\"\n",
       "}\n",
       "</td></tr>\n",
       "<tr><td style=\"text-align: left;\">F7 Case 14 (FEMALE; P50Y)</td><td style=\"text-align: left;\">Neuronopathy, distal hereditary motor, autosomal recessive 11, with spasticity (OMIM:620854)</td><td style=\"text-align: left;\">NM_005619.5:c.178dup (homozygous)</td><td style=\"text-align: left;\">Distal lower limb muscle weakness (HP:0009053): onset ; Distal upper limb muscle weakness (HP:0008959): onset ; Proximal muscle weakness in lower limbs (HP:0008994): onset ; Weakness of long finger extensor muscles (HP:0009077): onset ; Lower limb spasticity (HP:0002061): onset ; Foot dorsiflexor weakness (HP:0009027): onset ; Distal lower limb amyotrophy (HP:0008944): onset ; Urinary urgency (HP:0000012): onset ; Motor axonal neuropathy (HP:0007002): onset ; Hyperreflexia (HP:0001347): onset ; Babinski sign (HP:0003487): onset ; Absent Achilles reflex (HP:0003438): onset ; Motor delay (HP:0001270): onset ; Spastic gait (HP:0002064): onset ; Pes cavus (HP:0001761): onset ; excluded: Distal upper limb amyotrophy (HP:0007149): onset ; excluded: Action tremor (HP:0002345): onset ; excluded: Intellectual disability (HP:0001249): onset ; excluded: Pes planus (HP:0001763): onset ; excluded: Hammertoe (HP:0001765): onset ; excluded: Hyperlordosis (HP:0003307): onset ; excluded: Bulbar palsy (HP:0001283): onset <br/><b>TimeElement(element=Age(iso8601duration=P5Y))</b>: Tip-toe gait (HP:0030051): onset age {\n",
       "  iso8601duration: \"P5Y\"\n",
       "}\n",
       "</td></tr>\n",
       "</table>"
      ],
      "text/plain": [
       "<IPython.core.display.HTML object>"
      ]
     },
     "metadata": {},
     "output_type": "display_data"
    }
   ],
   "source": [
    "table = IndividualTable(cvalidator.get_error_free_individual_list())\n",
    "display(HTML(table.to_html()))"
   ]
  },
  {
   "cell_type": "code",
   "execution_count": 5,
   "metadata": {},
   "outputs": [
    {
     "name": "stdout",
     "output_type": "stream",
     "text": [
      "[pyphetools] Ingested 13 GA4GH phenopackets.\n",
      "[INFO] Extracted 13 from 13 phenopackets with OMIM:620854\n",
      "\n",
      "\tNeuronopathy, distal hereditary motor, autosomal recessive 11, with spasticity (OMIM:620854): n=13\n",
      "We found a total of 28 unique HPO terms\n",
      "Extracted disease: Neuronopathy, distal hereditary motor, autosomal recessive 11, with spasticity (OMIM:620854)\n",
      "Wrote HPOA disease file to OMIM-620854.tab\n"
     ]
    },
    {
     "data": {
      "application/vnd.microsoft.datawrangler.viewer.v0+json": {
       "columns": [
        {
         "name": "index",
         "rawType": "int64",
         "type": "integer"
        },
        {
         "name": "#diseaseID",
         "rawType": "object",
         "type": "string"
        },
        {
         "name": "diseaseName",
         "rawType": "object",
         "type": "string"
        },
        {
         "name": "phenotypeID",
         "rawType": "object",
         "type": "string"
        },
        {
         "name": "phenotypeName",
         "rawType": "object",
         "type": "string"
        },
        {
         "name": "onsetID",
         "rawType": "object",
         "type": "string"
        },
        {
         "name": "onsetName",
         "rawType": "object",
         "type": "string"
        },
        {
         "name": "frequency",
         "rawType": "object",
         "type": "string"
        },
        {
         "name": "sex",
         "rawType": "object",
         "type": "string"
        },
        {
         "name": "negation",
         "rawType": "object",
         "type": "string"
        },
        {
         "name": "modifier",
         "rawType": "object",
         "type": "string"
        },
        {
         "name": "description",
         "rawType": "object",
         "type": "string"
        },
        {
         "name": "publication",
         "rawType": "object",
         "type": "string"
        },
        {
         "name": "evidence",
         "rawType": "object",
         "type": "string"
        },
        {
         "name": "biocuration",
         "rawType": "object",
         "type": "string"
        }
       ],
       "conversionMethod": "pd.DataFrame",
       "ref": "4c1108ed-2083-4221-98ed-f851bb525c69",
       "rows": [
        [
         "0",
         "OMIM:620854",
         "Neuronopathy, distal hereditary motor, autosomal recessive 11, with spasticity",
         "HP:0009027",
         "Foot dorsiflexor weakness",
         "",
         "",
         "11/13",
         "",
         "",
         "",
         "",
         "PMID:38527963",
         "PCS",
         "ORCID:0000-0002-0736-9199[2025-02-16]"
        ],
        [
         "1",
         "OMIM:620854",
         "Neuronopathy, distal hereditary motor, autosomal recessive 11, with spasticity",
         "HP:0002359",
         "Frequent falls",
         "",
         "",
         "4/4",
         "",
         "",
         "",
         "",
         "PMID:38527963",
         "PCS",
         "ORCID:0000-0002-0736-9199[2025-02-16]"
        ],
        [
         "2",
         "OMIM:620854",
         "Neuronopathy, distal hereditary motor, autosomal recessive 11, with spasticity",
         "HP:0001288",
         "Gait disturbance",
         "",
         "",
         "5/5",
         "",
         "",
         "",
         "",
         "PMID:38527963",
         "PCS",
         "ORCID:0000-0002-0736-9199[2025-02-16]"
        ],
        [
         "3",
         "OMIM:620854",
         "Neuronopathy, distal hereditary motor, autosomal recessive 11, with spasticity",
         "HP:0009053",
         "Distal lower limb muscle weakness",
         "",
         "",
         "13/13",
         "",
         "",
         "",
         "",
         "PMID:38527963",
         "PCS",
         "ORCID:0000-0002-0736-9199[2025-02-16]"
        ],
        [
         "4",
         "OMIM:620854",
         "Neuronopathy, distal hereditary motor, autosomal recessive 11, with spasticity",
         "HP:0008959",
         "Distal upper limb muscle weakness",
         "",
         "",
         "13/13",
         "",
         "",
         "",
         "",
         "PMID:38527963",
         "PCS",
         "ORCID:0000-0002-0736-9199[2025-02-16]"
        ]
       ],
       "shape": {
        "columns": 14,
        "rows": 5
       }
      },
      "text/html": [
       "<div>\n",
       "<style scoped>\n",
       "    .dataframe tbody tr th:only-of-type {\n",
       "        vertical-align: middle;\n",
       "    }\n",
       "\n",
       "    .dataframe tbody tr th {\n",
       "        vertical-align: top;\n",
       "    }\n",
       "\n",
       "    .dataframe thead th {\n",
       "        text-align: right;\n",
       "    }\n",
       "</style>\n",
       "<table border=\"1\" class=\"dataframe\">\n",
       "  <thead>\n",
       "    <tr style=\"text-align: right;\">\n",
       "      <th></th>\n",
       "      <th>#diseaseID</th>\n",
       "      <th>diseaseName</th>\n",
       "      <th>phenotypeID</th>\n",
       "      <th>phenotypeName</th>\n",
       "      <th>onsetID</th>\n",
       "      <th>onsetName</th>\n",
       "      <th>frequency</th>\n",
       "      <th>sex</th>\n",
       "      <th>negation</th>\n",
       "      <th>modifier</th>\n",
       "      <th>description</th>\n",
       "      <th>publication</th>\n",
       "      <th>evidence</th>\n",
       "      <th>biocuration</th>\n",
       "    </tr>\n",
       "  </thead>\n",
       "  <tbody>\n",
       "    <tr>\n",
       "      <th>0</th>\n",
       "      <td>OMIM:620854</td>\n",
       "      <td>Neuronopathy, distal hereditary motor, autosom...</td>\n",
       "      <td>HP:0009027</td>\n",
       "      <td>Foot dorsiflexor weakness</td>\n",
       "      <td></td>\n",
       "      <td></td>\n",
       "      <td>11/13</td>\n",
       "      <td></td>\n",
       "      <td></td>\n",
       "      <td></td>\n",
       "      <td></td>\n",
       "      <td>PMID:38527963</td>\n",
       "      <td>PCS</td>\n",
       "      <td>ORCID:0000-0002-0736-9199[2025-02-16]</td>\n",
       "    </tr>\n",
       "    <tr>\n",
       "      <th>1</th>\n",
       "      <td>OMIM:620854</td>\n",
       "      <td>Neuronopathy, distal hereditary motor, autosom...</td>\n",
       "      <td>HP:0002359</td>\n",
       "      <td>Frequent falls</td>\n",
       "      <td></td>\n",
       "      <td></td>\n",
       "      <td>4/4</td>\n",
       "      <td></td>\n",
       "      <td></td>\n",
       "      <td></td>\n",
       "      <td></td>\n",
       "      <td>PMID:38527963</td>\n",
       "      <td>PCS</td>\n",
       "      <td>ORCID:0000-0002-0736-9199[2025-02-16]</td>\n",
       "    </tr>\n",
       "    <tr>\n",
       "      <th>2</th>\n",
       "      <td>OMIM:620854</td>\n",
       "      <td>Neuronopathy, distal hereditary motor, autosom...</td>\n",
       "      <td>HP:0001288</td>\n",
       "      <td>Gait disturbance</td>\n",
       "      <td></td>\n",
       "      <td></td>\n",
       "      <td>5/5</td>\n",
       "      <td></td>\n",
       "      <td></td>\n",
       "      <td></td>\n",
       "      <td></td>\n",
       "      <td>PMID:38527963</td>\n",
       "      <td>PCS</td>\n",
       "      <td>ORCID:0000-0002-0736-9199[2025-02-16]</td>\n",
       "    </tr>\n",
       "    <tr>\n",
       "      <th>3</th>\n",
       "      <td>OMIM:620854</td>\n",
       "      <td>Neuronopathy, distal hereditary motor, autosom...</td>\n",
       "      <td>HP:0009053</td>\n",
       "      <td>Distal lower limb muscle weakness</td>\n",
       "      <td></td>\n",
       "      <td></td>\n",
       "      <td>13/13</td>\n",
       "      <td></td>\n",
       "      <td></td>\n",
       "      <td></td>\n",
       "      <td></td>\n",
       "      <td>PMID:38527963</td>\n",
       "      <td>PCS</td>\n",
       "      <td>ORCID:0000-0002-0736-9199[2025-02-16]</td>\n",
       "    </tr>\n",
       "    <tr>\n",
       "      <th>4</th>\n",
       "      <td>OMIM:620854</td>\n",
       "      <td>Neuronopathy, distal hereditary motor, autosom...</td>\n",
       "      <td>HP:0008959</td>\n",
       "      <td>Distal upper limb muscle weakness</td>\n",
       "      <td></td>\n",
       "      <td></td>\n",
       "      <td>13/13</td>\n",
       "      <td></td>\n",
       "      <td></td>\n",
       "      <td></td>\n",
       "      <td></td>\n",
       "      <td>PMID:38527963</td>\n",
       "      <td>PCS</td>\n",
       "      <td>ORCID:0000-0002-0736-9199[2025-02-16]</td>\n",
       "    </tr>\n",
       "  </tbody>\n",
       "</table>\n",
       "</div>"
      ],
      "text/plain": [
       "    #diseaseID                                        diseaseName phenotypeID  \\\n",
       "0  OMIM:620854  Neuronopathy, distal hereditary motor, autosom...  HP:0009027   \n",
       "1  OMIM:620854  Neuronopathy, distal hereditary motor, autosom...  HP:0002359   \n",
       "2  OMIM:620854  Neuronopathy, distal hereditary motor, autosom...  HP:0001288   \n",
       "3  OMIM:620854  Neuronopathy, distal hereditary motor, autosom...  HP:0009053   \n",
       "4  OMIM:620854  Neuronopathy, distal hereditary motor, autosom...  HP:0008959   \n",
       "\n",
       "                       phenotypeName onsetID onsetName frequency sex negation  \\\n",
       "0          Foot dorsiflexor weakness                       11/13                \n",
       "1                     Frequent falls                         4/4                \n",
       "2                   Gait disturbance                         5/5                \n",
       "3  Distal lower limb muscle weakness                       13/13                \n",
       "4  Distal upper limb muscle weakness                       13/13                \n",
       "\n",
       "  modifier description    publication evidence  \\\n",
       "0                       PMID:38527963      PCS   \n",
       "1                       PMID:38527963      PCS   \n",
       "2                       PMID:38527963      PCS   \n",
       "3                       PMID:38527963      PCS   \n",
       "4                       PMID:38527963      PCS   \n",
       "\n",
       "                             biocuration  \n",
       "0  ORCID:0000-0002-0736-9199[2025-02-16]  \n",
       "1  ORCID:0000-0002-0736-9199[2025-02-16]  \n",
       "2  ORCID:0000-0002-0736-9199[2025-02-16]  \n",
       "3  ORCID:0000-0002-0736-9199[2025-02-16]  \n",
       "4  ORCID:0000-0002-0736-9199[2025-02-16]  "
      ]
     },
     "execution_count": 5,
     "metadata": {},
     "output_type": "execute_result"
    }
   ],
   "source": [
    "pmid = \"PMID:38527963\"\n",
    "df = timporter.create_hpoa_from_phenopackets(pmid=pmid, mode_of_inheritance=Moi.AD, target=\"OMIM:620854\")\n",
    "df.head()"
   ]
  }
 ],
 "metadata": {
  "kernelspec": {
   "display_name": "ps24venv",
   "language": "python",
   "name": "python3"
  },
  "language_info": {
   "codemirror_mode": {
    "name": "ipython",
    "version": 3
   },
   "file_extension": ".py",
   "mimetype": "text/x-python",
   "name": "python",
   "nbconvert_exporter": "python",
   "pygments_lexer": "ipython3",
   "version": "3.12.9"
  }
 },
 "nbformat": 4,
 "nbformat_minor": 2
}
