{
 "cells": [
  {
   "cell_type": "markdown",
   "id": "a39f3c65",
   "metadata": {},
   "source": [
    "<h1>SMARCB1: Kosho et al (2014)</h1>\n",
    "<p>We will process <a href=\"https://pubmed.ncbi.nlm.nih.gov/25168959/\" target=\"__blank\">Kosho, et al. (2014) Genotype-phenotype correlation of Coffin-Siris syndrome caused by mutations in SMARCB1, SMARCA4, SMARCE1, and ARID1A</a></p>\n",
    "<p>The data are extracted from the SMARCB1 section of Table 1.</p>"
   ]
  },
  {
   "cell_type": "code",
   "execution_count": 1,
   "id": "f0602c0e",
   "metadata": {
    "pycharm": {
     "is_executing": true
    }
   },
   "outputs": [
    {
     "name": "stdout",
     "output_type": "stream",
     "text": [
      "pyphetools version 0.9.71\n"
     ]
    }
   ],
   "source": [
    "import pandas as pd\n",
    "pd.set_option('display.max_colwidth', None) # show entire column contents, important!\n",
    "from collections import defaultdict\n",
    "from IPython.display import display, HTML, JSON\n",
    "from pyphetools.creation import *\n",
    "from pyphetools.visualization import *\n",
    "from pyphetools.validation import *\n",
    "import pyphetools\n",
    "print(f\"pyphetools version {pyphetools.__version__}\")"
   ]
  },
  {
   "cell_type": "markdown",
   "id": "8606e7eb",
   "metadata": {},
   "source": [
    "<h2>Importing HPO data</h2>"
   ]
  },
  {
   "cell_type": "code",
   "execution_count": 2,
   "id": "5a7789fc",
   "metadata": {},
   "outputs": [
    {
     "name": "stdout",
     "output_type": "stream",
     "text": [
      "HPO version 2024-03-06\n"
     ]
    }
   ],
   "source": [
    "PMID = \"PMID:25168959\"\n",
    "title = \"Genotype-phenotype correlation of Coffin-Siris syndrome caused by mutations in SMARCB1, SMARCA4, SMARCE1, and ARID1A\"\n",
    "cite = Citation(pmid=PMID, title=title)\n",
    "parser = HpoParser(hpo_json_file=\"../hp.json\")\n",
    "hpo_cr = parser.get_hpo_concept_recognizer()\n",
    "hpo_version = parser.get_version()\n",
    "hpo_ontology = parser.get_ontology()\n",
    "metadata = MetaData(created_by=\"ORCID:0000-0002-5648-2155\", citation=cite)\n",
    "metadata.default_versions_with_hpo(version=hpo_version)\n",
    "print(f\"HPO version {hpo_version}\")"
   ]
  },
  {
   "cell_type": "code",
   "execution_count": 3,
   "id": "f17c3924",
   "metadata": {},
   "outputs": [],
   "source": [
    "df = pd.read_excel('input/PMID_25168959.xlsx')"
   ]
  },
  {
   "cell_type": "code",
   "execution_count": 4,
   "id": "06ec7dbd",
   "metadata": {},
   "outputs": [
    {
     "data": {
      "text/html": [
       "<div>\n",
       "<style scoped>\n",
       "    .dataframe tbody tr th:only-of-type {\n",
       "        vertical-align: middle;\n",
       "    }\n",
       "\n",
       "    .dataframe tbody tr th {\n",
       "        vertical-align: top;\n",
       "    }\n",
       "\n",
       "    .dataframe thead th {\n",
       "        text-align: right;\n",
       "    }\n",
       "</style>\n",
       "<table border=\"1\" class=\"dataframe\">\n",
       "  <thead>\n",
       "    <tr style=\"text-align: right;\">\n",
       "      <th></th>\n",
       "      <th>Patient ID</th>\n",
       "      <th>Nucleotide change</th>\n",
       "      <th>Amino acid change</th>\n",
       "      <th>Feeding difficulties</th>\n",
       "      <th>Nasal bridge</th>\n",
       "      <th>Phitrum</th>\n",
       "      <th>Upper lip vermilion</th>\n",
       "      <th>Thick lower lip vermilion</th>\n",
       "      <th>High palate</th>\n",
       "      <th>Cleft palate</th>\n",
       "      <th>...</th>\n",
       "      <th>Microcephaly</th>\n",
       "      <th>Sparse scalp hair</th>\n",
       "      <th>hypertrichosis</th>\n",
       "      <th>Thick eyebrows</th>\n",
       "      <th>Long eyelashes</th>\n",
       "      <th>Ptosis</th>\n",
       "      <th>Short 5th finger</th>\n",
       "      <th>Short 5th toe</th>\n",
       "      <th>Prominent interphalangeal joints</th>\n",
       "      <th>Prominent distal phalanges</th>\n",
       "    </tr>\n",
       "  </thead>\n",
       "  <tbody>\n",
       "    <tr>\n",
       "      <th>0</th>\n",
       "      <td>L43</td>\n",
       "      <td>c.1089G&gt;T</td>\n",
       "      <td>p.Lys363Asn</td>\n",
       "      <td>Yes</td>\n",
       "      <td>Narrow</td>\n",
       "      <td>Normal</td>\n",
       "      <td>Thin</td>\n",
       "      <td>No</td>\n",
       "      <td>Yes</td>\n",
       "      <td>No</td>\n",
       "      <td>...</td>\n",
       "      <td>Yes</td>\n",
       "      <td>Yes</td>\n",
       "      <td>Yes</td>\n",
       "      <td>Yes</td>\n",
       "      <td>Yes</td>\n",
       "      <td>No</td>\n",
       "      <td>Yes</td>\n",
       "      <td>NaN</td>\n",
       "      <td>Yes</td>\n",
       "      <td>Yes</td>\n",
       "    </tr>\n",
       "    <tr>\n",
       "      <th>1</th>\n",
       "      <td>L5</td>\n",
       "      <td>c.1091_1093del</td>\n",
       "      <td>p.Lys364del</td>\n",
       "      <td>Yes</td>\n",
       "      <td>Wide</td>\n",
       "      <td>Long</td>\n",
       "      <td>Thin</td>\n",
       "      <td>No</td>\n",
       "      <td>No</td>\n",
       "      <td>No</td>\n",
       "      <td>...</td>\n",
       "      <td>Yes</td>\n",
       "      <td>No</td>\n",
       "      <td>Yes</td>\n",
       "      <td>Yes</td>\n",
       "      <td>Yes</td>\n",
       "      <td>No</td>\n",
       "      <td>Yes</td>\n",
       "      <td>NaN</td>\n",
       "      <td>No</td>\n",
       "      <td>NaN</td>\n",
       "    </tr>\n",
       "    <tr>\n",
       "      <th>2</th>\n",
       "      <td>L18</td>\n",
       "      <td>c.1091_1093del</td>\n",
       "      <td>p.Lys364del</td>\n",
       "      <td>Yes</td>\n",
       "      <td>Normal</td>\n",
       "      <td>Broad, long</td>\n",
       "      <td>Normal</td>\n",
       "      <td>Yes</td>\n",
       "      <td>NaN</td>\n",
       "      <td>NaN</td>\n",
       "      <td>...</td>\n",
       "      <td>Yes</td>\n",
       "      <td>Yes</td>\n",
       "      <td>Yes</td>\n",
       "      <td>Yes</td>\n",
       "      <td>Yes</td>\n",
       "      <td>Yes</td>\n",
       "      <td>Yes</td>\n",
       "      <td>NaN</td>\n",
       "      <td>Yes</td>\n",
       "      <td>Yes</td>\n",
       "    </tr>\n",
       "    <tr>\n",
       "      <th>3</th>\n",
       "      <td>L37</td>\n",
       "      <td>c.1091_1093del</td>\n",
       "      <td>p.Lys364del</td>\n",
       "      <td>Yes</td>\n",
       "      <td>Wide</td>\n",
       "      <td>Broad</td>\n",
       "      <td>Thick</td>\n",
       "      <td>Yes</td>\n",
       "      <td>Yes</td>\n",
       "      <td>No</td>\n",
       "      <td>...</td>\n",
       "      <td>Yes</td>\n",
       "      <td>yes</td>\n",
       "      <td>Yes</td>\n",
       "      <td>Yes</td>\n",
       "      <td>Yes</td>\n",
       "      <td>Yes</td>\n",
       "      <td>No</td>\n",
       "      <td>NaN</td>\n",
       "      <td>No</td>\n",
       "      <td>Yes</td>\n",
       "    </tr>\n",
       "    <tr>\n",
       "      <th>4</th>\n",
       "      <td>Y4</td>\n",
       "      <td>c.1091_1093del</td>\n",
       "      <td>p.Lys364del</td>\n",
       "      <td>Yes</td>\n",
       "      <td>Wide</td>\n",
       "      <td>Broad</td>\n",
       "      <td>Thin</td>\n",
       "      <td>Yes</td>\n",
       "      <td>No</td>\n",
       "      <td>Yes</td>\n",
       "      <td>...</td>\n",
       "      <td>Yes</td>\n",
       "      <td>Yes</td>\n",
       "      <td>Yes</td>\n",
       "      <td>Yes</td>\n",
       "      <td>Yes</td>\n",
       "      <td>No</td>\n",
       "      <td>Yes</td>\n",
       "      <td>Yes</td>\n",
       "      <td>Yes</td>\n",
       "      <td>Yes</td>\n",
       "    </tr>\n",
       "  </tbody>\n",
       "</table>\n",
       "<p>5 rows × 43 columns</p>\n",
       "</div>"
      ],
      "text/plain": [
       "  Patient ID Nucleotide change Amino acid change Feeding difficulties  \\\n",
       "0        L43         c.1089G>T       p.Lys363Asn                  Yes   \n",
       "1         L5    c.1091_1093del       p.Lys364del                  Yes   \n",
       "2        L18    c.1091_1093del       p.Lys364del                  Yes   \n",
       "3        L37    c.1091_1093del       p.Lys364del                  Yes   \n",
       "4         Y4    c.1091_1093del       p.Lys364del                  Yes   \n",
       "\n",
       "  Nasal bridge      Phitrum Upper lip vermilion Thick lower lip vermilion   \\\n",
       "0       Narrow       Normal                Thin                         No   \n",
       "1         Wide         Long                Thin                         No   \n",
       "2       Normal  Broad, long              Normal                        Yes   \n",
       "3         Wide        Broad               Thick                        Yes   \n",
       "4         Wide        Broad                Thin                        Yes   \n",
       "\n",
       "  High palate Cleft palate  ... Microcephaly Sparse scalp hair hypertrichosis  \\\n",
       "0         Yes           No  ...          Yes               Yes            Yes   \n",
       "1          No           No  ...          Yes                No            Yes   \n",
       "2         NaN          NaN  ...          Yes               Yes            Yes   \n",
       "3         Yes           No  ...          Yes               yes            Yes   \n",
       "4          No          Yes  ...          Yes               Yes            Yes   \n",
       "\n",
       "  Thick eyebrows Long eyelashes Ptosis Short 5th finger Short 5th toe  \\\n",
       "0            Yes            Yes     No              Yes           NaN   \n",
       "1            Yes            Yes     No              Yes           NaN   \n",
       "2            Yes            Yes    Yes              Yes           NaN   \n",
       "3            Yes            Yes    Yes               No           NaN   \n",
       "4            Yes            Yes     No              Yes           Yes   \n",
       "\n",
       "  Prominent interphalangeal joints Prominent distal phalanges  \n",
       "0                              Yes                        Yes  \n",
       "1                               No                        NaN  \n",
       "2                              Yes                        Yes  \n",
       "3                               No                        Yes  \n",
       "4                              Yes                        Yes  \n",
       "\n",
       "[5 rows x 43 columns]"
      ]
     },
     "execution_count": 4,
     "metadata": {},
     "output_type": "execute_result"
    }
   ],
   "source": [
    "df.head()"
   ]
  },
  {
   "cell_type": "markdown",
   "id": "e013666d",
   "metadata": {},
   "source": [
    "Some column names might include spaces in front or after, and a couple of columns are subheadings and only contain NaNs, so lets correct that:"
   ]
  },
  {
   "cell_type": "code",
   "execution_count": 5,
   "id": "5d604600",
   "metadata": {},
   "outputs": [
    {
     "data": {
      "text/html": [
       "<div>\n",
       "<style scoped>\n",
       "    .dataframe tbody tr th:only-of-type {\n",
       "        vertical-align: middle;\n",
       "    }\n",
       "\n",
       "    .dataframe tbody tr th {\n",
       "        vertical-align: top;\n",
       "    }\n",
       "\n",
       "    .dataframe thead th {\n",
       "        text-align: right;\n",
       "    }\n",
       "</style>\n",
       "<table border=\"1\" class=\"dataframe\">\n",
       "  <thead>\n",
       "    <tr style=\"text-align: right;\">\n",
       "      <th></th>\n",
       "      <th>Patient ID</th>\n",
       "      <th>Nucleotide change</th>\n",
       "      <th>Amino acid change</th>\n",
       "      <th>Feeding difficulties</th>\n",
       "      <th>Nasal bridge</th>\n",
       "      <th>Phitrum</th>\n",
       "      <th>Upper lip vermilion</th>\n",
       "      <th>Thick lower lip vermilion</th>\n",
       "      <th>High palate</th>\n",
       "      <th>Cleft palate</th>\n",
       "      <th>...</th>\n",
       "      <th>Microcephaly</th>\n",
       "      <th>Sparse scalp hair</th>\n",
       "      <th>hypertrichosis</th>\n",
       "      <th>Thick eyebrows</th>\n",
       "      <th>Long eyelashes</th>\n",
       "      <th>Ptosis</th>\n",
       "      <th>Short 5th finger</th>\n",
       "      <th>Short 5th toe</th>\n",
       "      <th>Prominent interphalangeal joints</th>\n",
       "      <th>Prominent distal phalanges</th>\n",
       "    </tr>\n",
       "  </thead>\n",
       "  <tbody>\n",
       "    <tr>\n",
       "      <th>0</th>\n",
       "      <td>L43</td>\n",
       "      <td>c.1089G&gt;T</td>\n",
       "      <td>p.Lys363Asn</td>\n",
       "      <td>Yes</td>\n",
       "      <td>Narrow</td>\n",
       "      <td>Normal</td>\n",
       "      <td>Thin</td>\n",
       "      <td>No</td>\n",
       "      <td>Yes</td>\n",
       "      <td>No</td>\n",
       "      <td>...</td>\n",
       "      <td>Yes</td>\n",
       "      <td>Yes</td>\n",
       "      <td>Yes</td>\n",
       "      <td>Yes</td>\n",
       "      <td>Yes</td>\n",
       "      <td>No</td>\n",
       "      <td>Yes</td>\n",
       "      <td>NaN</td>\n",
       "      <td>Yes</td>\n",
       "      <td>Yes</td>\n",
       "    </tr>\n",
       "    <tr>\n",
       "      <th>1</th>\n",
       "      <td>L5</td>\n",
       "      <td>c.1091_1093del</td>\n",
       "      <td>p.Lys364del</td>\n",
       "      <td>Yes</td>\n",
       "      <td>Wide</td>\n",
       "      <td>Long</td>\n",
       "      <td>Thin</td>\n",
       "      <td>No</td>\n",
       "      <td>No</td>\n",
       "      <td>No</td>\n",
       "      <td>...</td>\n",
       "      <td>Yes</td>\n",
       "      <td>No</td>\n",
       "      <td>Yes</td>\n",
       "      <td>Yes</td>\n",
       "      <td>Yes</td>\n",
       "      <td>No</td>\n",
       "      <td>Yes</td>\n",
       "      <td>NaN</td>\n",
       "      <td>No</td>\n",
       "      <td>NaN</td>\n",
       "    </tr>\n",
       "    <tr>\n",
       "      <th>2</th>\n",
       "      <td>L18</td>\n",
       "      <td>c.1091_1093del</td>\n",
       "      <td>p.Lys364del</td>\n",
       "      <td>Yes</td>\n",
       "      <td>Normal</td>\n",
       "      <td>Broad, long</td>\n",
       "      <td>Normal</td>\n",
       "      <td>Yes</td>\n",
       "      <td>NaN</td>\n",
       "      <td>NaN</td>\n",
       "      <td>...</td>\n",
       "      <td>Yes</td>\n",
       "      <td>Yes</td>\n",
       "      <td>Yes</td>\n",
       "      <td>Yes</td>\n",
       "      <td>Yes</td>\n",
       "      <td>Yes</td>\n",
       "      <td>Yes</td>\n",
       "      <td>NaN</td>\n",
       "      <td>Yes</td>\n",
       "      <td>Yes</td>\n",
       "    </tr>\n",
       "    <tr>\n",
       "      <th>3</th>\n",
       "      <td>L37</td>\n",
       "      <td>c.1091_1093del</td>\n",
       "      <td>p.Lys364del</td>\n",
       "      <td>Yes</td>\n",
       "      <td>Wide</td>\n",
       "      <td>Broad</td>\n",
       "      <td>Thick</td>\n",
       "      <td>Yes</td>\n",
       "      <td>Yes</td>\n",
       "      <td>No</td>\n",
       "      <td>...</td>\n",
       "      <td>Yes</td>\n",
       "      <td>yes</td>\n",
       "      <td>Yes</td>\n",
       "      <td>Yes</td>\n",
       "      <td>Yes</td>\n",
       "      <td>Yes</td>\n",
       "      <td>No</td>\n",
       "      <td>NaN</td>\n",
       "      <td>No</td>\n",
       "      <td>Yes</td>\n",
       "    </tr>\n",
       "    <tr>\n",
       "      <th>4</th>\n",
       "      <td>Y4</td>\n",
       "      <td>c.1091_1093del</td>\n",
       "      <td>p.Lys364del</td>\n",
       "      <td>Yes</td>\n",
       "      <td>Wide</td>\n",
       "      <td>Broad</td>\n",
       "      <td>Thin</td>\n",
       "      <td>Yes</td>\n",
       "      <td>No</td>\n",
       "      <td>Yes</td>\n",
       "      <td>...</td>\n",
       "      <td>Yes</td>\n",
       "      <td>Yes</td>\n",
       "      <td>Yes</td>\n",
       "      <td>Yes</td>\n",
       "      <td>Yes</td>\n",
       "      <td>No</td>\n",
       "      <td>Yes</td>\n",
       "      <td>Yes</td>\n",
       "      <td>Yes</td>\n",
       "      <td>Yes</td>\n",
       "    </tr>\n",
       "  </tbody>\n",
       "</table>\n",
       "<p>5 rows × 43 columns</p>\n",
       "</div>"
      ],
      "text/plain": [
       "  Patient ID Nucleotide change Amino acid change Feeding difficulties  \\\n",
       "0        L43         c.1089G>T       p.Lys363Asn                  Yes   \n",
       "1         L5    c.1091_1093del       p.Lys364del                  Yes   \n",
       "2        L18    c.1091_1093del       p.Lys364del                  Yes   \n",
       "3        L37    c.1091_1093del       p.Lys364del                  Yes   \n",
       "4         Y4    c.1091_1093del       p.Lys364del                  Yes   \n",
       "\n",
       "  Nasal bridge      Phitrum Upper lip vermilion Thick lower lip vermilion  \\\n",
       "0       Narrow       Normal                Thin                        No   \n",
       "1         Wide         Long                Thin                        No   \n",
       "2       Normal  Broad, long              Normal                       Yes   \n",
       "3         Wide        Broad               Thick                       Yes   \n",
       "4         Wide        Broad                Thin                       Yes   \n",
       "\n",
       "  High palate Cleft palate  ... Microcephaly Sparse scalp hair hypertrichosis  \\\n",
       "0         Yes           No  ...          Yes               Yes            Yes   \n",
       "1          No           No  ...          Yes                No            Yes   \n",
       "2         NaN          NaN  ...          Yes               Yes            Yes   \n",
       "3         Yes           No  ...          Yes               yes            Yes   \n",
       "4          No          Yes  ...          Yes               Yes            Yes   \n",
       "\n",
       "  Thick eyebrows Long eyelashes Ptosis Short 5th finger Short 5th toe  \\\n",
       "0            Yes            Yes     No              Yes           NaN   \n",
       "1            Yes            Yes     No              Yes           NaN   \n",
       "2            Yes            Yes    Yes              Yes           NaN   \n",
       "3            Yes            Yes    Yes               No           NaN   \n",
       "4            Yes            Yes     No              Yes           Yes   \n",
       "\n",
       "  Prominent interphalangeal joints Prominent distal phalanges  \n",
       "0                              Yes                        Yes  \n",
       "1                               No                        NaN  \n",
       "2                              Yes                        Yes  \n",
       "3                               No                        Yes  \n",
       "4                              Yes                        Yes  \n",
       "\n",
       "[5 rows x 43 columns]"
      ]
     },
     "execution_count": 5,
     "metadata": {},
     "output_type": "execute_result"
    }
   ],
   "source": [
    "df.columns = df.columns.str.strip()\n",
    "df = df.dropna(axis=1, how='all')\n",
    "df.head()"
   ]
  },
  {
   "cell_type": "markdown",
   "id": "8314d6bd",
   "metadata": {},
   "source": [
    "<h2>Column mappers</h2>"
   ]
  },
  {
   "cell_type": "code",
   "execution_count": 6,
   "id": "59d9e9e8",
   "metadata": {},
   "outputs": [
    {
     "data": {
      "text/html": [
       "<table style=\"border: 2px solid black;\">\n",
       "\n",
       "<tr>\n",
       "            <th>Result</th>\n",
       "            <th>Columns</th>\n",
       "        </tr>\n",
       "        \n",
       "<tr><td>Mapped</td><td>Feeding difficulties; Thick lower lip vermilion; High palate; Cleft palate; Scoliosis; Hernia; Hearing impairment; Visual impairment; Frequent infections; Hypotonia; Seizures; Absent speech; Small for gestational age; Birth length less than 3rd percentile; Primary microcephaly; Decreased body weight; Short stature; Microcephaly; Sparse scalp hair; hypertrichosis; Thick eyebrows; Long eyelashes; Ptosis; Short 5th finger; Short 5th toe; Prominent interphalangeal joints</td></tr>\n",
       "<tr><td>Unmapped</td><td><q>Patient ID</q>; <q>Nucleotide change</q>; <q>Amino acid change</q>; <q>Nasal bridge</q>; <q>Phitrum</q>; <q>Upper lip vermilion</q>; <q>Patient ID #</q>; <q>Cardiovascular</q>; <q>Gastrointestinal</q>; <q>Genitouriry</q>; <q>Ophthalmological abnormalities</q>; <q>CNS structural abnormalities</q>; <q>Developmental delay/intellectual disability</q>; <q>Behavioral abnormalities</q>; <q>Age</q>; <q>Sex</q>; <q>Prominent distal phalanges</q></td></tr>\n",
       "</table>\n"
      ],
      "text/plain": [
       "<IPython.core.display.HTML object>"
      ]
     },
     "metadata": {},
     "output_type": "display_data"
    }
   ],
   "source": [
    "generator = SimpleColumnMapperGenerator(df=df, observed='Yes', excluded='No', hpo_cr=hpo_cr)\n",
    "column_mapper_list = generator.try_mapping_columns()\n",
    "display(HTML(generator.to_html()))"
   ]
  },
  {
   "cell_type": "code",
   "execution_count": 7,
   "id": "8e2e313a",
   "metadata": {},
   "outputs": [
    {
     "data": {
      "text/html": [
       "<div>\n",
       "<style scoped>\n",
       "    .dataframe tbody tr th:only-of-type {\n",
       "        vertical-align: middle;\n",
       "    }\n",
       "\n",
       "    .dataframe tbody tr th {\n",
       "        vertical-align: top;\n",
       "    }\n",
       "\n",
       "    .dataframe thead th {\n",
       "        text-align: right;\n",
       "    }\n",
       "</style>\n",
       "<table border=\"1\" class=\"dataframe\">\n",
       "  <thead>\n",
       "    <tr style=\"text-align: right;\">\n",
       "      <th></th>\n",
       "      <th>mapping</th>\n",
       "      <th>count</th>\n",
       "    </tr>\n",
       "  </thead>\n",
       "  <tbody>\n",
       "    <tr>\n",
       "      <th>0</th>\n",
       "      <td>Intellectual disability, moderate (HP:0002342) (observed)</td>\n",
       "      <td>2</td>\n",
       "    </tr>\n",
       "    <tr>\n",
       "      <th>1</th>\n",
       "      <td>Intellectual disability, severe (HP:0010864) (observed)</td>\n",
       "      <td>8</td>\n",
       "    </tr>\n",
       "    <tr>\n",
       "      <th>2</th>\n",
       "      <td>Intellectual disability, mild (HP:0001256) (observed)</td>\n",
       "      <td>1</td>\n",
       "    </tr>\n",
       "  </tbody>\n",
       "</table>\n",
       "</div>"
      ],
      "text/plain": [
       "                                                     mapping count\n",
       "0  Intellectual disability, moderate (HP:0002342) (observed)     2\n",
       "1    Intellectual disability, severe (HP:0010864) (observed)     8\n",
       "2      Intellectual disability, mild (HP:0001256) (observed)     1"
      ]
     },
     "execution_count": 7,
     "metadata": {},
     "output_type": "execute_result"
    }
   ],
   "source": [
    "severity_id = {'Se': 'Intellectual disability, severe',\n",
    "                 'Mo': 'Intellectual disability, moderate',\n",
    "               'Mi':'Intellectual disability, mild'}\n",
    "idMapper = OptionColumnMapper(column_name='Developmental delay/intellectual disability',concept_recognizer=hpo_cr, option_d=severity_id)\n",
    "column_mapper_list.append(idMapper)\n",
    "idMapper.preview_column(df)"
   ]
  },
  {
   "cell_type": "code",
   "execution_count": 8,
   "id": "d5df3dc7",
   "metadata": {},
   "outputs": [
    {
     "data": {
      "text/html": [
       "<div>\n",
       "<style scoped>\n",
       "    .dataframe tbody tr th:only-of-type {\n",
       "        vertical-align: middle;\n",
       "    }\n",
       "\n",
       "    .dataframe tbody tr th {\n",
       "        vertical-align: top;\n",
       "    }\n",
       "\n",
       "    .dataframe thead th {\n",
       "        text-align: right;\n",
       "    }\n",
       "</style>\n",
       "<table border=\"1\" class=\"dataframe\">\n",
       "  <thead>\n",
       "    <tr style=\"text-align: right;\">\n",
       "      <th></th>\n",
       "      <th>mapping</th>\n",
       "      <th>count</th>\n",
       "    </tr>\n",
       "  </thead>\n",
       "  <tbody>\n",
       "    <tr>\n",
       "      <th>0</th>\n",
       "      <td>Narrow nasal bridge (HP:0000446) (observed)</td>\n",
       "      <td>1</td>\n",
       "    </tr>\n",
       "    <tr>\n",
       "      <th>1</th>\n",
       "      <td>Wide nasal bridge (HP:0000431) (observed)</td>\n",
       "      <td>6</td>\n",
       "    </tr>\n",
       "    <tr>\n",
       "      <th>2</th>\n",
       "      <td>Depressed nasal bridge (HP:0005280) (observed)</td>\n",
       "      <td>2</td>\n",
       "    </tr>\n",
       "  </tbody>\n",
       "</table>\n",
       "</div>"
      ],
      "text/plain": [
       "                                          mapping count\n",
       "0     Narrow nasal bridge (HP:0000446) (observed)     1\n",
       "1       Wide nasal bridge (HP:0000431) (observed)     6\n",
       "2  Depressed nasal bridge (HP:0005280) (observed)     2"
      ]
     },
     "execution_count": 8,
     "metadata": {},
     "output_type": "execute_result"
    }
   ],
   "source": [
    "nasal_bridge = {'Narrow': 'Narrow nasal bridge',\n",
    "                 'Wide': 'Wide nasal bridge',\n",
    "               'Flat':'Depressed nasal bridge'}\n",
    "nasalMapper = OptionColumnMapper(column_name='Nasal bridge',concept_recognizer=hpo_cr, option_d=nasal_bridge)\n",
    "column_mapper_list.append(idMapper)\n",
    "nasalMapper.preview_column(df)"
   ]
  },
  {
   "cell_type": "code",
   "execution_count": 9,
   "id": "47ca3238",
   "metadata": {
    "scrolled": true
   },
   "outputs": [
    {
     "data": {
      "text/html": [
       "<div>\n",
       "<style scoped>\n",
       "    .dataframe tbody tr th:only-of-type {\n",
       "        vertical-align: middle;\n",
       "    }\n",
       "\n",
       "    .dataframe tbody tr th {\n",
       "        vertical-align: top;\n",
       "    }\n",
       "\n",
       "    .dataframe thead th {\n",
       "        text-align: right;\n",
       "    }\n",
       "</style>\n",
       "<table border=\"1\" class=\"dataframe\">\n",
       "  <thead>\n",
       "    <tr style=\"text-align: right;\">\n",
       "      <th></th>\n",
       "      <th>mapping</th>\n",
       "      <th>count</th>\n",
       "    </tr>\n",
       "  </thead>\n",
       "  <tbody>\n",
       "    <tr>\n",
       "      <th>0</th>\n",
       "      <td>Long philtrum (HP:0000343) (observed)</td>\n",
       "      <td>5</td>\n",
       "    </tr>\n",
       "    <tr>\n",
       "      <th>1</th>\n",
       "      <td>Broad philtrum (HP:0000289) (observed)</td>\n",
       "      <td>4</td>\n",
       "    </tr>\n",
       "    <tr>\n",
       "      <th>2</th>\n",
       "      <td>Short philtrum (HP:0000322) (observed)</td>\n",
       "      <td>1</td>\n",
       "    </tr>\n",
       "  </tbody>\n",
       "</table>\n",
       "</div>"
      ],
      "text/plain": [
       "                                  mapping count\n",
       "0   Long philtrum (HP:0000343) (observed)     5\n",
       "1  Broad philtrum (HP:0000289) (observed)     4\n",
       "2  Short philtrum (HP:0000322) (observed)     1"
      ]
     },
     "execution_count": 9,
     "metadata": {},
     "output_type": "execute_result"
    }
   ],
   "source": [
    "philtrum = {'Broad': 'Broad philtrum',\n",
    "                 'Long': 'Long philtrum',\n",
    "               'Flat':'Depressed nasal bridge',\n",
    "            'Short':'Short philtrum'}\n",
    "philtrumMapper = OptionColumnMapper(column_name='Phitrum',concept_recognizer=hpo_cr, option_d=philtrum )\n",
    "column_mapper_list.append(philtrumMapper)\n",
    "philtrumMapper.preview_column(df)"
   ]
  },
  {
   "cell_type": "code",
   "execution_count": 10,
   "id": "5f8cdfce",
   "metadata": {
    "scrolled": true
   },
   "outputs": [
    {
     "data": {
      "text/html": [
       "<div>\n",
       "<style scoped>\n",
       "    .dataframe tbody tr th:only-of-type {\n",
       "        vertical-align: middle;\n",
       "    }\n",
       "\n",
       "    .dataframe tbody tr th {\n",
       "        vertical-align: top;\n",
       "    }\n",
       "\n",
       "    .dataframe thead th {\n",
       "        text-align: right;\n",
       "    }\n",
       "</style>\n",
       "<table border=\"1\" class=\"dataframe\">\n",
       "  <thead>\n",
       "    <tr style=\"text-align: right;\">\n",
       "      <th></th>\n",
       "      <th>mapping</th>\n",
       "      <th>count</th>\n",
       "    </tr>\n",
       "  </thead>\n",
       "  <tbody>\n",
       "    <tr>\n",
       "      <th>0</th>\n",
       "      <td>Thin upper lip vermilion (HP:0000219) (observed)</td>\n",
       "      <td>8</td>\n",
       "    </tr>\n",
       "    <tr>\n",
       "      <th>1</th>\n",
       "      <td>Thick upper lip vermilion (HP:0000215) (observed)</td>\n",
       "      <td>1</td>\n",
       "    </tr>\n",
       "  </tbody>\n",
       "</table>\n",
       "</div>"
      ],
      "text/plain": [
       "                                             mapping count\n",
       "0   Thin upper lip vermilion (HP:0000219) (observed)     8\n",
       "1  Thick upper lip vermilion (HP:0000215) (observed)     1"
      ]
     },
     "execution_count": 10,
     "metadata": {},
     "output_type": "execute_result"
    }
   ],
   "source": [
    "upperlip = {'Thin': 'Thin upper lip vermilion',\n",
    "                 'Thick': 'Thick upper lip vermilion'}\n",
    "upperlipMapper = OptionColumnMapper(column_name='Upper lip vermilion',concept_recognizer=hpo_cr, option_d=upperlip)\n",
    "column_mapper_list.append(upperlipMapper)\n",
    "upperlipMapper.preview_column(df)"
   ]
  },
  {
   "cell_type": "code",
   "execution_count": 11,
   "id": "d231c37e",
   "metadata": {
    "scrolled": true
   },
   "outputs": [
    {
     "data": {
      "text/html": [
       "<div>\n",
       "<style scoped>\n",
       "    .dataframe tbody tr th:only-of-type {\n",
       "        vertical-align: middle;\n",
       "    }\n",
       "\n",
       "    .dataframe tbody tr th {\n",
       "        vertical-align: top;\n",
       "    }\n",
       "\n",
       "    .dataframe thead th {\n",
       "        text-align: right;\n",
       "    }\n",
       "</style>\n",
       "<table border=\"1\" class=\"dataframe\">\n",
       "  <thead>\n",
       "    <tr style=\"text-align: right;\">\n",
       "      <th></th>\n",
       "      <th>mapping</th>\n",
       "      <th>count</th>\n",
       "    </tr>\n",
       "  </thead>\n",
       "  <tbody>\n",
       "    <tr>\n",
       "      <th>0</th>\n",
       "      <td>Dextrocardia (HP:0001651) (observed)</td>\n",
       "      <td>2</td>\n",
       "    </tr>\n",
       "    <tr>\n",
       "      <th>1</th>\n",
       "      <td>Pulmonic stenosis (HP:0001642) (observed)</td>\n",
       "      <td>2</td>\n",
       "    </tr>\n",
       "    <tr>\n",
       "      <th>2</th>\n",
       "      <td>Atrial septal defect (HP:0001631) (observed)</td>\n",
       "      <td>2</td>\n",
       "    </tr>\n",
       "    <tr>\n",
       "      <th>3</th>\n",
       "      <td>Ventricular septal defect (HP:0001629) (observed)</td>\n",
       "      <td>2</td>\n",
       "    </tr>\n",
       "  </tbody>\n",
       "</table>\n",
       "</div>"
      ],
      "text/plain": [
       "                                             mapping count\n",
       "0               Dextrocardia (HP:0001651) (observed)     2\n",
       "1          Pulmonic stenosis (HP:0001642) (observed)     2\n",
       "2       Atrial septal defect (HP:0001631) (observed)     2\n",
       "3  Ventricular septal defect (HP:0001629) (observed)     2"
      ]
     },
     "execution_count": 11,
     "metadata": {},
     "output_type": "execute_result"
    }
   ],
   "source": [
    "cardiovascular = {'dex': 'Dextrocardia',\n",
    "                 'ps': 'Pulmonic stenosis',\n",
    "                 'vsd': 'Ventricular septal defect',\n",
    "                 'asd': 'Atrial septal defect'}\n",
    "cardiovascularMapper = OptionColumnMapper(column_name='Cardiovascular',concept_recognizer=hpo_cr, option_d=cardiovascular)\n",
    "column_mapper_list.append(cardiovascularMapper)\n",
    "cardiovascularMapper.preview_column(df)"
   ]
  },
  {
   "cell_type": "code",
   "execution_count": 12,
   "id": "09e91881",
   "metadata": {},
   "outputs": [
    {
     "data": {
      "text/html": [
       "<div>\n",
       "<style scoped>\n",
       "    .dataframe tbody tr th:only-of-type {\n",
       "        vertical-align: middle;\n",
       "    }\n",
       "\n",
       "    .dataframe tbody tr th {\n",
       "        vertical-align: top;\n",
       "    }\n",
       "\n",
       "    .dataframe thead th {\n",
       "        text-align: right;\n",
       "    }\n",
       "</style>\n",
       "<table border=\"1\" class=\"dataframe\">\n",
       "  <thead>\n",
       "    <tr style=\"text-align: right;\">\n",
       "      <th></th>\n",
       "      <th>mapping</th>\n",
       "      <th>count</th>\n",
       "    </tr>\n",
       "  </thead>\n",
       "  <tbody>\n",
       "    <tr>\n",
       "      <th>0</th>\n",
       "      <td>Pyloric stenosis (HP:0002021) (observed)</td>\n",
       "      <td>4</td>\n",
       "    </tr>\n",
       "    <tr>\n",
       "      <th>1</th>\n",
       "      <td>Gastroesophageal reflux (HP:0002020) (observed)</td>\n",
       "      <td>3</td>\n",
       "    </tr>\n",
       "  </tbody>\n",
       "</table>\n",
       "</div>"
      ],
      "text/plain": [
       "                                           mapping count\n",
       "0         Pyloric stenosis (HP:0002021) (observed)     4\n",
       "1  Gastroesophageal reflux (HP:0002020) (observed)     3"
      ]
     },
     "execution_count": 12,
     "metadata": {},
     "output_type": "execute_result"
    }
   ],
   "source": [
    "gastrointestinal = {'pys': 'Pyloric stenosis',\n",
    "                 'ps': 'Pulmonic stenosis',\n",
    "                 'ger': 'Gastroesophageal reflux'}\n",
    "gastrointestinalMapper = OptionColumnMapper(column_name='Gastrointestinal',concept_recognizer=hpo_cr, option_d=gastrointestinal)\n",
    "column_mapper_list.append(gastrointestinalMapper)\n",
    "gastrointestinalMapper.preview_column(df)"
   ]
  },
  {
   "cell_type": "code",
   "execution_count": 13,
   "id": "2166c39e",
   "metadata": {},
   "outputs": [
    {
     "data": {
      "text/html": [
       "<div>\n",
       "<style scoped>\n",
       "    .dataframe tbody tr th:only-of-type {\n",
       "        vertical-align: middle;\n",
       "    }\n",
       "\n",
       "    .dataframe tbody tr th {\n",
       "        vertical-align: top;\n",
       "    }\n",
       "\n",
       "    .dataframe thead th {\n",
       "        text-align: right;\n",
       "    }\n",
       "</style>\n",
       "<table border=\"1\" class=\"dataframe\">\n",
       "  <thead>\n",
       "    <tr style=\"text-align: right;\">\n",
       "      <th></th>\n",
       "      <th>mapping</th>\n",
       "      <th>count</th>\n",
       "    </tr>\n",
       "  </thead>\n",
       "  <tbody>\n",
       "    <tr>\n",
       "      <th>0</th>\n",
       "      <td>Horseshoe kidney (HP:0000085) (observed)</td>\n",
       "      <td>1</td>\n",
       "    </tr>\n",
       "    <tr>\n",
       "      <th>1</th>\n",
       "      <td>Cryptorchidism (HP:0000028) (observed)</td>\n",
       "      <td>2</td>\n",
       "    </tr>\n",
       "    <tr>\n",
       "      <th>2</th>\n",
       "      <td>Vesicoureteral reflux (HP:0000076) (observed)</td>\n",
       "      <td>1</td>\n",
       "    </tr>\n",
       "    <tr>\n",
       "      <th>3</th>\n",
       "      <td>Hydroureter (HP:0000072) (observed)</td>\n",
       "      <td>1</td>\n",
       "    </tr>\n",
       "    <tr>\n",
       "      <th>4</th>\n",
       "      <td>Hydronephrosis (HP:0000126) (observed)</td>\n",
       "      <td>1</td>\n",
       "    </tr>\n",
       "    <tr>\n",
       "      <th>5</th>\n",
       "      <td>Urethral diverticulum (HP:0008722) (observed)</td>\n",
       "      <td>1</td>\n",
       "    </tr>\n",
       "  </tbody>\n",
       "</table>\n",
       "</div>"
      ],
      "text/plain": [
       "                                         mapping count\n",
       "0       Horseshoe kidney (HP:0000085) (observed)     1\n",
       "1         Cryptorchidism (HP:0000028) (observed)     2\n",
       "2  Vesicoureteral reflux (HP:0000076) (observed)     1\n",
       "3            Hydroureter (HP:0000072) (observed)     1\n",
       "4         Hydronephrosis (HP:0000126) (observed)     1\n",
       "5  Urethral diverticulum (HP:0008722) (observed)     1"
      ]
     },
     "execution_count": 13,
     "metadata": {},
     "output_type": "execute_result"
    }
   ],
   "source": [
    "genitouriry = {'hk': 'Horseshoe kidney',\n",
    "                 'cr': 'Cryptorchidism',\n",
    "                 'VUR': 'Vesicoureteral reflux',\n",
    "              'HN': 'Hydronephrosis',\n",
    "              'HU': 'Hydroureter',\n",
    "              'VD': 'Urethral diverticulum'}\n",
    "genitouriryMapper = OptionColumnMapper(column_name='Genitouriry',concept_recognizer=hpo_cr, option_d=genitouriry)\n",
    "column_mapper_list.append(genitouriryMapper)\n",
    "genitouriryMapper.preview_column(df)"
   ]
  },
  {
   "cell_type": "code",
   "execution_count": 14,
   "id": "0f00e23b",
   "metadata": {},
   "outputs": [
    {
     "data": {
      "text/html": [
       "<div>\n",
       "<style scoped>\n",
       "    .dataframe tbody tr th:only-of-type {\n",
       "        vertical-align: middle;\n",
       "    }\n",
       "\n",
       "    .dataframe tbody tr th {\n",
       "        vertical-align: top;\n",
       "    }\n",
       "\n",
       "    .dataframe thead th {\n",
       "        text-align: right;\n",
       "    }\n",
       "</style>\n",
       "<table border=\"1\" class=\"dataframe\">\n",
       "  <thead>\n",
       "    <tr style=\"text-align: right;\">\n",
       "      <th></th>\n",
       "      <th>mapping</th>\n",
       "      <th>count</th>\n",
       "    </tr>\n",
       "  </thead>\n",
       "  <tbody>\n",
       "    <tr>\n",
       "      <th>0</th>\n",
       "      <td>Umbilical hernia (HP:0001537) (observed)</td>\n",
       "      <td>3</td>\n",
       "    </tr>\n",
       "    <tr>\n",
       "      <th>1</th>\n",
       "      <td>Hiatus hernia (HP:0002036) (observed)</td>\n",
       "      <td>1</td>\n",
       "    </tr>\n",
       "    <tr>\n",
       "      <th>2</th>\n",
       "      <td>Inguinal hernia (HP:0000023) (observed)</td>\n",
       "      <td>4</td>\n",
       "    </tr>\n",
       "    <tr>\n",
       "      <th>3</th>\n",
       "      <td>Congenital diaphragmatic hernia (HP:0000776) (observed)</td>\n",
       "      <td>1</td>\n",
       "    </tr>\n",
       "  </tbody>\n",
       "</table>\n",
       "</div>"
      ],
      "text/plain": [
       "                                                   mapping count\n",
       "0                 Umbilical hernia (HP:0001537) (observed)     3\n",
       "1                    Hiatus hernia (HP:0002036) (observed)     1\n",
       "2                  Inguinal hernia (HP:0000023) (observed)     4\n",
       "3  Congenital diaphragmatic hernia (HP:0000776) (observed)     1"
      ]
     },
     "execution_count": 14,
     "metadata": {},
     "output_type": "execute_result"
    }
   ],
   "source": [
    "hernia = {'h': 'Hiatus hernia',\n",
    "                 'u': 'Umbilical hernia',\n",
    "                 'i': 'Inguinal hernia',\n",
    "         'd': 'Congenital diaphragmatic hernia'}\n",
    "herniaMapper = OptionColumnMapper(column_name='Hernia',concept_recognizer=hpo_cr, option_d=hernia)\n",
    "column_mapper_list.append(herniaMapper)\n",
    "herniaMapper.preview_column(df)"
   ]
  },
  {
   "cell_type": "code",
   "execution_count": 15,
   "id": "c12d3a71",
   "metadata": {},
   "outputs": [
    {
     "data": {
      "text/html": [
       "<div>\n",
       "<style scoped>\n",
       "    .dataframe tbody tr th:only-of-type {\n",
       "        vertical-align: middle;\n",
       "    }\n",
       "\n",
       "    .dataframe tbody tr th {\n",
       "        vertical-align: top;\n",
       "    }\n",
       "\n",
       "    .dataframe thead th {\n",
       "        text-align: right;\n",
       "    }\n",
       "</style>\n",
       "<table border=\"1\" class=\"dataframe\">\n",
       "  <thead>\n",
       "    <tr style=\"text-align: right;\">\n",
       "      <th></th>\n",
       "      <th>mapping</th>\n",
       "      <th>count</th>\n",
       "    </tr>\n",
       "  </thead>\n",
       "  <tbody>\n",
       "    <tr>\n",
       "      <th>0</th>\n",
       "      <td>Myopia (HP:0000545) (observed)</td>\n",
       "      <td>2</td>\n",
       "    </tr>\n",
       "    <tr>\n",
       "      <th>1</th>\n",
       "      <td>Spherophakia (HP:0034375) (observed)</td>\n",
       "      <td>1</td>\n",
       "    </tr>\n",
       "    <tr>\n",
       "      <th>2</th>\n",
       "      <td>Amblyopia (HP:0000646) (observed)</td>\n",
       "      <td>1</td>\n",
       "    </tr>\n",
       "  </tbody>\n",
       "</table>\n",
       "</div>"
      ],
      "text/plain": [
       "                                mapping count\n",
       "0        Myopia (HP:0000545) (observed)     2\n",
       "1  Spherophakia (HP:0034375) (observed)     1\n",
       "2     Amblyopia (HP:0000646) (observed)     1"
      ]
     },
     "execution_count": 15,
     "metadata": {},
     "output_type": "execute_result"
    }
   ],
   "source": [
    "opthal = {'my': 'Myopia',\n",
    "                 'sph': 'Spherophakia',\n",
    "                 'am': 'Amblyopia'}\n",
    "opthalMapper = OptionColumnMapper(column_name='Ophthalmological abnormalities',concept_recognizer=hpo_cr, option_d=opthal)\n",
    "column_mapper_list.append(opthalMapper)\n",
    "opthalMapper.preview_column(df)"
   ]
  },
  {
   "cell_type": "code",
   "execution_count": 16,
   "id": "25921e68",
   "metadata": {},
   "outputs": [
    {
     "data": {
      "text/html": [
       "<div>\n",
       "<style scoped>\n",
       "    .dataframe tbody tr th:only-of-type {\n",
       "        vertical-align: middle;\n",
       "    }\n",
       "\n",
       "    .dataframe tbody tr th {\n",
       "        vertical-align: top;\n",
       "    }\n",
       "\n",
       "    .dataframe thead th {\n",
       "        text-align: right;\n",
       "    }\n",
       "</style>\n",
       "<table border=\"1\" class=\"dataframe\">\n",
       "  <thead>\n",
       "    <tr style=\"text-align: right;\">\n",
       "      <th></th>\n",
       "      <th>mapping</th>\n",
       "      <th>count</th>\n",
       "    </tr>\n",
       "  </thead>\n",
       "  <tbody>\n",
       "    <tr>\n",
       "      <th>0</th>\n",
       "      <td>Abnormal corpus callosum morphology (HP:0001273) (observed)</td>\n",
       "      <td>8</td>\n",
       "    </tr>\n",
       "    <tr>\n",
       "      <th>1</th>\n",
       "      <td>Aplasia/Hypoplasia of the cerebellum (HP:0007360) (observed)</td>\n",
       "      <td>1</td>\n",
       "    </tr>\n",
       "    <tr>\n",
       "      <th>2</th>\n",
       "      <td>Dandy-Walker malformation (HP:0001305) (observed)</td>\n",
       "      <td>1</td>\n",
       "    </tr>\n",
       "  </tbody>\n",
       "</table>\n",
       "</div>"
      ],
      "text/plain": [
       "                                                        mapping count\n",
       "0   Abnormal corpus callosum morphology (HP:0001273) (observed)     8\n",
       "1  Aplasia/Hypoplasia of the cerebellum (HP:0007360) (observed)     1\n",
       "2             Dandy-Walker malformation (HP:0001305) (observed)     1"
      ]
     },
     "execution_count": 16,
     "metadata": {},
     "output_type": "execute_result"
    }
   ],
   "source": [
    "cc_d = {'acc': 'Abnormal corpus callosum morphology',\n",
    "         'ch': 'Aplasia/Hypoplasia of the cerebellum',\n",
    "         'dw': 'Dandy-Walker malformation'}\n",
    "ccMapper = OptionColumnMapper(column_name='CNS structural abnormalities',concept_recognizer=hpo_cr, option_d=cc_d)\n",
    "column_mapper_list.append(ccMapper)\n",
    "ccMapper.preview_column(df)"
   ]
  },
  {
   "cell_type": "code",
   "execution_count": 17,
   "id": "4c3b22a8",
   "metadata": {},
   "outputs": [
    {
     "data": {
      "text/html": [
       "<div>\n",
       "<style scoped>\n",
       "    .dataframe tbody tr th:only-of-type {\n",
       "        vertical-align: middle;\n",
       "    }\n",
       "\n",
       "    .dataframe tbody tr th {\n",
       "        vertical-align: top;\n",
       "    }\n",
       "\n",
       "    .dataframe thead th {\n",
       "        text-align: right;\n",
       "    }\n",
       "</style>\n",
       "<table border=\"1\" class=\"dataframe\">\n",
       "  <thead>\n",
       "    <tr style=\"text-align: right;\">\n",
       "      <th></th>\n",
       "      <th>mapping</th>\n",
       "      <th>count</th>\n",
       "    </tr>\n",
       "  </thead>\n",
       "  <tbody>\n",
       "    <tr>\n",
       "      <th>0</th>\n",
       "      <td>Abnormal temper tantrums (HP:0025160) (observed)</td>\n",
       "      <td>1</td>\n",
       "    </tr>\n",
       "    <tr>\n",
       "      <th>1</th>\n",
       "      <td>Hyperactivity (HP:0000752) (observed)</td>\n",
       "      <td>3</td>\n",
       "    </tr>\n",
       "    <tr>\n",
       "      <th>2</th>\n",
       "      <td>Impulsivity (HP:0100710) (observed)</td>\n",
       "      <td>1</td>\n",
       "    </tr>\n",
       "  </tbody>\n",
       "</table>\n",
       "</div>"
      ],
      "text/plain": [
       "                                            mapping count\n",
       "0  Abnormal temper tantrums (HP:0025160) (observed)     1\n",
       "1             Hyperactivity (HP:0000752) (observed)     3\n",
       "2               Impulsivity (HP:0100710) (observed)     1"
      ]
     },
     "execution_count": 17,
     "metadata": {},
     "output_type": "execute_result"
    }
   ],
   "source": [
    "behavioral = {'HyAc': 'Hyperactivity',\n",
    "                 'im': 'Impulsivity',\n",
    "                 'tan': 'Abnormal temper tantrums'}\n",
    "behavioralMapper = OptionColumnMapper(column_name='Behavioral abnormalities',concept_recognizer=hpo_cr, option_d=behavioral)\n",
    "column_mapper_list.append(behavioralMapper)\n",
    "behavioralMapper.preview_column(df)"
   ]
  },
  {
   "cell_type": "code",
   "execution_count": 18,
   "id": "b96c803d-9307-4c25-9868-131b7408ff6c",
   "metadata": {},
   "outputs": [],
   "source": [
    "SMARCB1_transcript='NM_003073.5'\n",
    "SMARCB1_symbol='SMARCB1'\n",
    "vman = VariantManager(df=df, individual_column_name=\"Patient ID\", allele_1_column_name='Nucleotide change',\n",
    "                     gene_symbol=SMARCB1_symbol, transcript=SMARCB1_transcript)"
   ]
  },
  {
   "cell_type": "markdown",
   "id": "5e53617d",
   "metadata": {},
   "source": [
    "<h2>Variant Data</h2>"
   ]
  },
  {
   "cell_type": "code",
   "execution_count": 19,
   "id": "a82a9e99-4402-47e6-bc68-64cc915a0b2e",
   "metadata": {},
   "outputs": [],
   "source": [
    "variant_d = vman.get_variant_d()\n",
    "varMapper = VariantColumnMapper(variant_d=variant_d,\n",
    "                                variant_column_name='Nucleotide change', \n",
    "                                default_genotype=\"heterozygous\")"
   ]
  },
  {
   "cell_type": "markdown",
   "id": "d1af2052",
   "metadata": {},
   "source": [
    "<h1>Demographic data</h1>"
   ]
  },
  {
   "cell_type": "code",
   "execution_count": 20,
   "id": "3e64dc08",
   "metadata": {},
   "outputs": [],
   "source": [
    "#age is in years and months, so manually correct it\n",
    "ageMapper = AgeColumnMapper.by_year('Age')\n",
    "#ageMapper.preview_column(df)"
   ]
  },
  {
   "cell_type": "code",
   "execution_count": 21,
   "id": "71f664cc",
   "metadata": {},
   "outputs": [],
   "source": [
    "#sex is not in columns, since it were all females in this paper\n",
    "sexMapper = SexColumnMapper(male_symbol='M', female_symbol='F', column_name='Sex')\n",
    "#sexMapper.preview_column(df)"
   ]
  },
  {
   "cell_type": "code",
   "execution_count": 22,
   "id": "f6581a8a",
   "metadata": {},
   "outputs": [],
   "source": [
    "encoder = CohortEncoder(df=df, \n",
    "                        hpo_cr=hpo_cr, \n",
    "                        column_mapper_list=column_mapper_list, \n",
    "                        individual_column_name='Patient ID', \n",
    "                        age_at_last_encounter_mapper=ageMapper, \n",
    "                        sexmapper=sexMapper,\n",
    "                        variant_mapper=varMapper, \n",
    "                        metadata=metadata)\n",
    "css3 = Disease(disease_id='OMIM:614608', disease_label='Coffin-Siris syndrome 3')\n",
    "encoder.set_disease(css3)\n",
    "individuals = encoder.get_individuals()"
   ]
  },
  {
   "cell_type": "code",
   "execution_count": 23,
   "id": "d3b8d7eb-7991-4361-92f7-07dcd72fd0fa",
   "metadata": {},
   "outputs": [
    {
     "data": {
      "text/html": [
       "<h2>Cohort validation</h2>\n",
       "<p>Errors found with 11 of 11 phenopackets.</p>\n",
       "<table style=\"border: 2px solid black; align: \"left\">\n",
       "<caption>Error counts</caption>\n",
       "<tr><th style=\"text-align: left;font-weight: bold;\">Level</th><th style=\"text-align: left;font-weight: bold;\">Error category</th><th style=\"text-align: left;font-weight: bold;\">Count</th></tr>\n",
       "<tr><td style=\"text-align: left;\">WARNING</td><td style=\"text-align: left;\">REDUNDANT</td><td style=\"text-align: left;\">8</td></tr>\n",
       "<tr><td style=\"text-align: left;\">INFORMATION</td><td style=\"text-align: left;\">NOT_MEASURED</td><td style=\"text-align: left;\">48</td></tr>\n",
       "</table>\n",
       "<p>A total of 67 issues were fixed and no individual was removed from the cohort.</p>"
      ],
      "text/plain": [
       "<IPython.core.display.HTML object>"
      ]
     },
     "metadata": {},
     "output_type": "display_data"
    }
   ],
   "source": [
    "cvalidator = CohortValidator(cohort=individuals, ontology=hpo_ontology, min_hpo=1, allelic_requirement=AllelicRequirement.MONO_ALLELIC)\n",
    "qc = QcVisualizer(cohort_validator=cvalidator)\n",
    "display(HTML(qc.to_summary_html()))"
   ]
  },
  {
   "cell_type": "code",
   "execution_count": 24,
   "id": "fd367ed6",
   "metadata": {},
   "outputs": [
    {
     "data": {
      "text/html": [
       "<table style=\"border: 2px solid black; align: \"left\">\n",
       "<caption>11 phenopackets - PMID:25168959 (n=11)</caption>\n",
       "<tr><th style=\"text-align: left;font-weight: bold;\">Individual</th><th style=\"text-align: left;font-weight: bold;\">Disease</th><th style=\"text-align: left;font-weight: bold;\">Genotype</th><th style=\"text-align: left;font-weight: bold;\">Phenotypic features</th></tr>\n",
       "<tr><td style=\"text-align: left;\">L43 (FEMALE; P13Y)</td><td style=\"text-align: left;\">Coffin-Siris syndrome 3 (OMIM:614608)</td><td style=\"text-align: left;\">NM_003073.5:c.1089G>T (heterozygous)</td><td style=\"text-align: left;\">Recurrent infections (HP:0002719); Umbilical hernia (HP:0001537); Scoliosis (HP:0002650); Hypotonia (HP:0001252); Long eyelashes (HP:0000527); Thick eyebrow (HP:0000574); Short stature (HP:0004322); Prominent interphalangeal joints (HP:0006237); High palate (HP:0000218); Thin upper lip vermilion (HP:0000219); Short 5th finger (HP:0009237); Hearing impairment (HP:0000365); Intellectual disability, moderate (HP:0002342); Feeding difficulties (HP:0011968); Hypertrichosis (HP:0000998); Sparse scalp hair (HP:0002209); Abnormal temper tantrums (HP:0025160); Microcephaly (HP:0000252); Decreased body weight (HP:0004325); excluded: Thick lower lip vermilion (HP:0000179); excluded: Cleft palate (HP:0000175); excluded: Visual impairment (HP:0000505); excluded: Seizure (HP:0001250); excluded: Absent speech (HP:0001344); excluded: Small for gestational age (HP:0001518); excluded: Ptosis (HP:0000508)</td></tr>\n",
       "<tr><td style=\"text-align: left;\">L5 (FEMALE; P6Y)</td><td style=\"text-align: left;\">Coffin-Siris syndrome 3 (OMIM:614608)</td><td style=\"text-align: left;\">NM_003073.5:c.1091_1093del (heterozygous)</td><td style=\"text-align: left;\">Horseshoe kidney (HP:0000085); Intellectual disability, severe (HP:0010864); Dextrocardia (HP:0001651); Spherophakia (HP:0034375); Seizure (HP:0001250); Pyloric stenosis (HP:0002021); Long eyelashes (HP:0000527); Thick eyebrow (HP:0000574); Short stature (HP:0004322); Visual impairment (HP:0000505); Absent speech (HP:0001344); Thin upper lip vermilion (HP:0000219); Myopia (HP:0000545); Pulmonic stenosis (HP:0001642); Short 5th finger (HP:0009237); Hearing impairment (HP:0000365); Feeding difficulties (HP:0011968); Hypertrichosis (HP:0000998); Long philtrum (HP:0000343); Abnormal corpus callosum morphology (HP:0001273); Microcephaly (HP:0000252); excluded: Thick lower lip vermilion (HP:0000179); excluded: High palate (HP:0000218); excluded: Cleft palate (HP:0000175); excluded: Hypotonia (HP:0001252); excluded: Small for gestational age (HP:0001518); excluded: Sparse scalp hair (HP:0002209); excluded: Ptosis (HP:0000508); excluded: Prominent interphalangeal joints (HP:0006237)</td></tr>\n",
       "<tr><td style=\"text-align: left;\">L18 (FEMALE; P9Y)</td><td style=\"text-align: left;\">Coffin-Siris syndrome 3 (OMIM:614608)</td><td style=\"text-align: left;\">NM_003073.5:c.1091_1093del (heterozygous)</td><td style=\"text-align: left;\">Recurrent infections (HP:0002719); Intellectual disability, severe (HP:0010864); Small for gestational age (HP:0001518); Seizure (HP:0001250); Hypotonia (HP:0001252); Long eyelashes (HP:0000527); Thick eyebrow (HP:0000574); Short stature (HP:0004322); Prominent interphalangeal joints (HP:0006237); Broad philtrum (HP:0000289); Visual impairment (HP:0000505); Absent speech (HP:0001344); Myopia (HP:0000545); Ptosis (HP:0000508); Atrial septal defect (HP:0001631); Short 5th finger (HP:0009237); Feeding difficulties (HP:0011968); Hypertrichosis (HP:0000998); Sparse scalp hair (HP:0002209); Long philtrum (HP:0000343); Abnormal corpus callosum morphology (HP:0001273); Microcephaly (HP:0000252); Thick lower lip vermilion (HP:0000179)</td></tr>\n",
       "<tr><td style=\"text-align: left;\">L37 (MALE; P10Y)</td><td style=\"text-align: left;\">Coffin-Siris syndrome 3 (OMIM:614608)</td><td style=\"text-align: left;\">NM_003073.5:c.1091_1093del (heterozygous)</td><td style=\"text-align: left;\">Recurrent infections (HP:0002719); Intellectual disability, severe (HP:0010864); Dextrocardia (HP:0001651); Scoliosis (HP:0002650); Small for gestational age (HP:0001518); Gastroesophageal reflux (HP:0002020); Seizure (HP:0001250); Pyloric stenosis (HP:0002021); Hypotonia (HP:0001252); Long eyelashes (HP:0000527); Thick eyebrow (HP:0000574); Short stature (HP:0004322); Hiatus hernia (HP:0002036); Broad philtrum (HP:0000289); High palate (HP:0000218); Amblyopia (HP:0000646); Thick upper lip vermilion (HP:0000215); Ptosis (HP:0000508); Feeding difficulties (HP:0011968); Cryptorchidism (HP:0000028); Hypertrichosis (HP:0000998); Hyperactivity (HP:0000752); Abnormal corpus callosum morphology (HP:0001273); Microcephaly (HP:0000252); Inguinal hernia (HP:0000023); Thick lower lip vermilion (HP:0000179); excluded: Cleft palate (HP:0000175); excluded: Absent speech (HP:0001344); excluded: Short 5th finger (HP:0009237); excluded: Prominent interphalangeal joints (HP:0006237)</td></tr>\n",
       "<tr><td style=\"text-align: left;\">Y4 (FEMALE; P21Y)</td><td style=\"text-align: left;\">Coffin-Siris syndrome 3 (OMIM:614608)</td><td style=\"text-align: left;\">NM_003073.5:c.1091_1093del (heterozygous)</td><td style=\"text-align: left;\">Impulsivity (HP:0100710); Cleft palate (HP:0000175); Intellectual disability, severe (HP:0010864); Scoliosis (HP:0002650); Seizure (HP:0001250); Hypotonia (HP:0001252); Long eyelashes (HP:0000527); Thick eyebrow (HP:0000574); Short stature (HP:0004322); Short 5th toe (HP:0011917); Prominent interphalangeal joints (HP:0006237); Broad philtrum (HP:0000289); Absent speech (HP:0001344); Thin upper lip vermilion (HP:0000219); Short 5th finger (HP:0009237); Hearing impairment (HP:0000365); Feeding difficulties (HP:0011968); Hypertrichosis (HP:0000998); Hyperactivity (HP:0000752); Sparse scalp hair (HP:0002209); Microcephaly (HP:0000252); Decreased body weight (HP:0004325); Thick lower lip vermilion (HP:0000179); excluded: High palate (HP:0000218); excluded: Hernia (HP:0100790); excluded: Small for gestational age (HP:0001518); excluded: Birth length less than 3rd percentile (HP:0003561); excluded: Primary microcephaly (HP:0011451); excluded: Ptosis (HP:0000508)</td></tr>\n",
       "<tr><td style=\"text-align: left;\">Y21 (FEMALE; P9Y)</td><td style=\"text-align: left;\">Coffin-Siris syndrome 3 (OMIM:614608)</td><td style=\"text-align: left;\">NM_003073.5:c.1091_1093del (heterozygous)</td><td style=\"text-align: left;\">Recurrent infections (HP:0002719); Intellectual disability, severe (HP:0010864); Scoliosis (HP:0002650); Small for gestational age (HP:0001518); Gastroesophageal reflux (HP:0002020); Seizure (HP:0001250); Hypotonia (HP:0001252); Long eyelashes (HP:0000527); Thick eyebrow (HP:0000574); Short 5th toe (HP:0011917); High palate (HP:0000218); Birth length less than 3rd percentile (HP:0003561); Absent speech (HP:0001344); Thin upper lip vermilion (HP:0000219); Short 5th finger (HP:0009237); Hearing impairment (HP:0000365); Feeding difficulties (HP:0011968); Hypertrichosis (HP:0000998); Sparse scalp hair (HP:0002209); Long philtrum (HP:0000343); Abnormal corpus callosum morphology (HP:0001273); Microcephaly (HP:0000252); Inguinal hernia (HP:0000023); Thick lower lip vermilion (HP:0000179); excluded: Cleft palate (HP:0000175); excluded: Visual impairment (HP:0000505); excluded: Primary microcephaly (HP:0011451); excluded: Ptosis (HP:0000508); excluded: Prominent interphalangeal joints (HP:0006237)</td></tr>\n",
       "<tr><td style=\"text-align: left;\">Y22 (MALE; P3Y)</td><td style=\"text-align: left;\">Coffin-Siris syndrome 3 (OMIM:614608)</td><td style=\"text-align: left;\">NM_003073.5:c.1091_1093del (heterozygous)</td><td style=\"text-align: left;\">Recurrent infections (HP:0002719); Intellectual disability, severe (HP:0010864); Pyloric stenosis (HP:0002021); Hypotonia (HP:0001252); Long eyelashes (HP:0000527); Thick eyebrow (HP:0000574); Short stature (HP:0004322); Short 5th toe (HP:0011917); High palate (HP:0000218); Absent speech (HP:0001344); Thin upper lip vermilion (HP:0000219); Ptosis (HP:0000508); Short 5th finger (HP:0009237); Feeding difficulties (HP:0011968); Hypertrichosis (HP:0000998); Sparse scalp hair (HP:0002209); Long philtrum (HP:0000343); Abnormal corpus callosum morphology (HP:0001273); Microcephaly (HP:0000252); Inguinal hernia (HP:0000023); Decreased body weight (HP:0004325); Thick lower lip vermilion (HP:0000179); excluded: Cleft palate (HP:0000175); excluded: Scoliosis (HP:0002650); excluded: Hearing impairment (HP:0000365); excluded: Visual impairment (HP:0000505); excluded: Seizure (HP:0001250); excluded: Small for gestational age (HP:0001518); excluded: Prominent interphalangeal joints (HP:0006237)</td></tr>\n",
       "<tr><td style=\"text-align: left;\">Y29 (MALE; P9Y)</td><td style=\"text-align: left;\">Coffin-Siris syndrome 3 (OMIM:614608)</td><td style=\"text-align: left;\">NM_003073.5:c.1091_1093del (heterozygous)</td><td style=\"text-align: left;\">Recurrent infections (HP:0002719); Umbilical hernia (HP:0001537); Intellectual disability, severe (HP:0010864); Scoliosis (HP:0002650); Gastroesophageal reflux (HP:0002020); Hydronephrosis (HP:0000126); Seizure (HP:0001250); Hypotonia (HP:0001252); Long eyelashes (HP:0000527); Thick eyebrow (HP:0000574); Short stature (HP:0004322); Prominent interphalangeal joints (HP:0006237); Broad philtrum (HP:0000289); Short philtrum (HP:0000322); Vesicoureteral reflux (HP:0000076); Absent speech (HP:0001344); Thin upper lip vermilion (HP:0000219); Hydroureter (HP:0000072); Ptosis (HP:0000508); Feeding difficulties (HP:0011968); Sparse scalp hair (HP:0002209); Abnormal corpus callosum morphology (HP:0001273); Microcephaly (HP:0000252); Urethral diverticulum (HP:0008722); Inguinal hernia (HP:0000023); Decreased body weight (HP:0004325); excluded: Thick lower lip vermilion (HP:0000179); excluded: High palate (HP:0000218); excluded: Cleft palate (HP:0000175); excluded: Hearing impairment (HP:0000365); excluded: Visual impairment (HP:0000505); excluded: Hypertrichosis (HP:0000998); excluded: Short 5th finger (HP:0009237)</td></tr>\n",
       "<tr><td style=\"text-align: left;\">K2588 (MALE; P1Y)</td><td style=\"text-align: left;\">Coffin-Siris syndrome 3 (OMIM:614608)</td><td style=\"text-align: left;\">NM_003073.5:c.1096C>T (heterozygous)</td><td style=\"text-align: left;\">Long eyelashes (HP:0000527); Feeding difficulties (HP:0011968); Thin upper lip vermilion (HP:0000219); Thick eyebrow (HP:0000574); Umbilical hernia (HP:0001537); Sparse scalp hair (HP:0002209); Intellectual disability, mild (HP:0001256); Short stature (HP:0004322); Long philtrum (HP:0000343); Abnormal corpus callosum morphology (HP:0001273); Microcephaly (HP:0000252); Thick lower lip vermilion (HP:0000179); excluded: High palate (HP:0000218); excluded: Cleft palate (HP:0000175); excluded: Scoliosis (HP:0002650); excluded: Recurrent infections (HP:0002719); excluded: Hypotonia (HP:0001252); excluded: Absent speech (HP:0001344); excluded: Small for gestational age (HP:0001518); excluded: Birth length less than 3rd percentile (HP:0003561); excluded: Primary microcephaly (HP:0011451); excluded: Hypertrichosis (HP:0000998); excluded: Ptosis (HP:0000508); excluded: Short 5th finger (HP:0009237); excluded: Prominent interphalangeal joints (HP:0006237)</td></tr>\n",
       "<tr><td style=\"text-align: left;\">K2426 (MALE; P4Y)</td><td style=\"text-align: left;\">Coffin-Siris syndrome 3 (OMIM:614608)</td><td style=\"text-align: left;\">NM_003073.5:c.1121G>A (heterozygous)</td><td style=\"text-align: left;\">Recurrent infections (HP:0002719); Scoliosis (HP:0002650); Seizure (HP:0001250); Pyloric stenosis (HP:0002021); Ventricular septal defect (HP:0001629); Long eyelashes (HP:0000527); Thick eyebrow (HP:0000574); Short stature (HP:0004322); Visual impairment (HP:0000505); Absent speech (HP:0001344); Thin upper lip vermilion (HP:0000219); Ptosis (HP:0000508); Pulmonic stenosis (HP:0001642); Atrial septal defect (HP:0001631); Short 5th finger (HP:0009237); Hearing impairment (HP:0000365); Intellectual disability, moderate (HP:0002342); Feeding difficulties (HP:0011968); Cryptorchidism (HP:0000028); Hypertrichosis (HP:0000998); Hyperactivity (HP:0000752); Sparse scalp hair (HP:0002209); Abnormal corpus callosum morphology (HP:0001273); Microcephaly (HP:0000252); Thick lower lip vermilion (HP:0000179); excluded: High palate (HP:0000218); excluded: Cleft palate (HP:0000175); excluded: Hypotonia (HP:0001252); excluded: Small for gestational age (HP:0001518); excluded: Birth length less than 3rd percentile (HP:0003561); excluded: Primary microcephaly (HP:0011451)</td></tr>\n",
       "<tr><td style=\"text-align: left;\">Y11 (FEMALE; P7Y)</td><td style=\"text-align: left;\">Coffin-Siris syndrome 3 (OMIM:614608)</td><td style=\"text-align: left;\">NM_003073.5:c.1130G>A (heterozygous)</td><td style=\"text-align: left;\">Cleft palate (HP:0000175); Recurrent infections (HP:0002719); Intellectual disability, severe (HP:0010864); Scoliosis (HP:0002650); Dandy-Walker malformation (HP:0001305); Seizure (HP:0001250); Hypotonia (HP:0001252); Ventricular septal defect (HP:0001629); Long eyelashes (HP:0000527); Thick eyebrow (HP:0000574); Short 5th toe (HP:0011917); Visual impairment (HP:0000505); Birth length less than 3rd percentile (HP:0003561); Absent speech (HP:0001344); Ptosis (HP:0000508); Congenital diaphragmatic hernia (HP:0000776); Short 5th finger (HP:0009237); Hearing impairment (HP:0000365); Feeding difficulties (HP:0011968); Sparse scalp hair (HP:0002209); Decreased body weight (HP:0004325); Thick lower lip vermilion (HP:0000179); excluded: High palate (HP:0000218); excluded: Small for gestational age (HP:0001518); excluded: Primary microcephaly (HP:0011451); excluded: Hypertrichosis (HP:0000998)</td></tr>\n",
       "</table>"
      ],
      "text/plain": [
       "<IPython.core.display.HTML object>"
      ]
     },
     "metadata": {},
     "output_type": "display_data"
    }
   ],
   "source": [
    "individuals = cvalidator.get_error_free_individual_list()\n",
    "table = PhenopacketTable(individual_list=individuals, metadata=metadata)\n",
    "display(HTML(table.to_html()))"
   ]
  },
  {
   "cell_type": "code",
   "execution_count": 25,
   "id": "23f1094f",
   "metadata": {},
   "outputs": [
    {
     "name": "stdout",
     "output_type": "stream",
     "text": [
      "We output 11 GA4GH phenopackets to the directory phenopackets\n"
     ]
    }
   ],
   "source": [
    "output_directory = \"phenopackets\"\n",
    "Individual.output_individuals_as_phenopackets(individual_list=individuals,\n",
    "                                              metadata=metadata,\n",
    "                                              outdir=output_directory)"
   ]
  },
  {
   "cell_type": "code",
   "execution_count": null,
   "id": "95235f98",
   "metadata": {},
   "outputs": [],
   "source": []
  }
 ],
 "metadata": {
  "kernelspec": {
   "display_name": "Python 3 (ipykernel)",
   "language": "python",
   "name": "python3"
  },
  "language_info": {
   "codemirror_mode": {
    "name": "ipython",
    "version": 3
   },
   "file_extension": ".py",
   "mimetype": "text/x-python",
   "name": "python",
   "nbconvert_exporter": "python",
   "pygments_lexer": "ipython3",
   "version": "3.8.10"
  }
 },
 "nbformat": 4,
 "nbformat_minor": 5
}
