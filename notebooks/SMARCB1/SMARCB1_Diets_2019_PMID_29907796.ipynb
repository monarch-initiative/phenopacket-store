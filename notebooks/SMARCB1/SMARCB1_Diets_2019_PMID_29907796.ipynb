{
 "cells": [
  {
   "cell_type": "markdown",
   "id": "a39f3c65",
   "metadata": {},
   "source": [
    "<h1>Creation of phenopackets from tabular data (individuals in columns)</h1>\n",
    "<p>We will process <a href=\"https://pubmed.ncbi.nlm.nih.gov/29907796/\" target=\"__blank\">Diets, et al. (2019) SMARCB1 causes severe intellectual disability and choroid plexus hyperplasia with resultant hydrocephalus</a></p>"
   ]
  },
  {
   "cell_type": "code",
   "execution_count": 1,
   "id": "f0602c0e",
   "metadata": {},
   "outputs": [
    {
     "name": "stdout",
     "output_type": "stream",
     "text": [
      "pyphetools version 0.9.66\n"
     ]
    }
   ],
   "source": [
    "import pandas as pd\n",
    "pd.set_option('display.max_colwidth', None) # show entire column contents, important!\n",
    "from collections import defaultdict\n",
    "import re\n",
    "from IPython.display import display, HTML, JSON\n",
    "from pyphetools.creation import *\n",
    "from pyphetools.visualization import *\n",
    "from pyphetools.validation import *\n",
    "import pyphetools\n",
    "print(f\"pyphetools version {pyphetools.__version__}\")"
   ]
  },
  {
   "cell_type": "markdown",
   "id": "8606e7eb",
   "metadata": {},
   "source": [
    "<h2>Importing HPO data</h2>"
   ]
  },
  {
   "cell_type": "code",
   "execution_count": 2,
   "id": "5a7789fc",
   "metadata": {},
   "outputs": [
    {
     "name": "stdout",
     "output_type": "stream",
     "text": [
      "HPO version 2024-03-06\n"
     ]
    }
   ],
   "source": [
    "PMID = \"PMID:29907796\"\n",
    "title = \"A recurrent de novo missense pathogenic variant in SMARCB1 causes severe intellectual disability and choroid plexus hyperplasia with resultant hydrocephalus\"\n",
    "cite = Citation(pmid=PMID, title=title)\n",
    "parser = HpoParser(hpo_json_file=\"../hp.json\")\n",
    "hpo_cr = parser.get_hpo_concept_recognizer()\n",
    "hpo_version = parser.get_version()\n",
    "hpo_ontology = parser.get_ontology()\n",
    "metadata = MetaData(created_by=\"ORCID:0000-0002-5648-2155\", citation=cite)\n",
    "metadata.default_versions_with_hpo(version=hpo_version)\n",
    "print(f\"HPO version {hpo_version}\")"
   ]
  },
  {
   "cell_type": "markdown",
   "id": "5102722a",
   "metadata": {},
   "source": [
    "<h2>Importing the supplemental table</h2>\n",
    "<p>The Table of the Iwasawa et al (2019) paper was copied into an Excel file that is included in the data subfolder</p>"
   ]
  },
  {
   "cell_type": "code",
   "execution_count": 3,
   "id": "f17c3924",
   "metadata": {},
   "outputs": [],
   "source": [
    "df = pd.read_excel('input/PMID_29907796.xlsx')"
   ]
  },
  {
   "cell_type": "code",
   "execution_count": 4,
   "id": "06ec7dbd",
   "metadata": {},
   "outputs": [
    {
     "data": {
      "text/html": [
       "<div>\n",
       "<style scoped>\n",
       "    .dataframe tbody tr th:only-of-type {\n",
       "        vertical-align: middle;\n",
       "    }\n",
       "\n",
       "    .dataframe tbody tr th {\n",
       "        vertical-align: top;\n",
       "    }\n",
       "\n",
       "    .dataframe thead th {\n",
       "        text-align: right;\n",
       "    }\n",
       "</style>\n",
       "<table border=\"1\" class=\"dataframe\">\n",
       "  <thead>\n",
       "    <tr style=\"text-align: right;\">\n",
       "      <th></th>\n",
       "      <th>Unnamed: 0</th>\n",
       "      <th>Patient 1</th>\n",
       "      <th>Patient 2</th>\n",
       "      <th>Patient 3</th>\n",
       "      <th>Patient 4</th>\n",
       "      <th>Count features</th>\n",
       "    </tr>\n",
       "  </thead>\n",
       "  <tbody>\n",
       "    <tr>\n",
       "      <th>0</th>\n",
       "      <td>Pathogenic variant</td>\n",
       "      <td>c.110G&gt;A</td>\n",
       "      <td>c.110G&gt;A</td>\n",
       "      <td>c.110G&gt;A</td>\n",
       "      <td>c.110G&gt;A</td>\n",
       "      <td>NaN</td>\n",
       "    </tr>\n",
       "    <tr>\n",
       "      <th>1</th>\n",
       "      <td>NaN</td>\n",
       "      <td>p.Arg37His</td>\n",
       "      <td>p.Arg37His</td>\n",
       "      <td>p.Arg37His</td>\n",
       "      <td>p.Arg37His</td>\n",
       "      <td>NaN</td>\n",
       "    </tr>\n",
       "    <tr>\n",
       "      <th>2</th>\n",
       "      <td>Inheritance</td>\n",
       "      <td>De novo</td>\n",
       "      <td>De novo</td>\n",
       "      <td>De novo</td>\n",
       "      <td>De novo</td>\n",
       "      <td>NaN</td>\n",
       "    </tr>\n",
       "    <tr>\n",
       "      <th>3</th>\n",
       "      <td>Age at examination</td>\n",
       "      <td>9.5 y</td>\n",
       "      <td>5 y 8 mo</td>\n",
       "      <td>12 y</td>\n",
       "      <td>17 mo</td>\n",
       "      <td>NaN</td>\n",
       "    </tr>\n",
       "    <tr>\n",
       "      <th>4</th>\n",
       "      <td>Development</td>\n",
       "      <td>NaN</td>\n",
       "      <td>NaN</td>\n",
       "      <td>NaN</td>\n",
       "      <td>NaN</td>\n",
       "      <td>NaN</td>\n",
       "    </tr>\n",
       "  </tbody>\n",
       "</table>\n",
       "</div>"
      ],
      "text/plain": [
       "           Unnamed: 0   Patient 1   Patient 2   Patient 3   Patient 4  \\\n",
       "0  Pathogenic variant    c.110G>A    c.110G>A    c.110G>A    c.110G>A   \n",
       "1                 NaN  p.Arg37His  p.Arg37His  p.Arg37His  p.Arg37His   \n",
       "2         Inheritance     De novo     De novo     De novo     De novo   \n",
       "3  Age at examination       9.5 y    5 y 8 mo        12 y       17 mo   \n",
       "4         Development         NaN         NaN         NaN         NaN   \n",
       "\n",
       "  Count features  \n",
       "0            NaN  \n",
       "1            NaN  \n",
       "2            NaN  \n",
       "3            NaN  \n",
       "4            NaN  "
      ]
     },
     "execution_count": 4,
     "metadata": {},
     "output_type": "execute_result"
    }
   ],
   "source": [
    "df.head()"
   ]
  },
  {
   "cell_type": "markdown",
   "id": "f7f7bad9",
   "metadata": {},
   "source": [
    "<h1>Converting to row-based format</h1>"
   ]
  },
  {
   "cell_type": "code",
   "execution_count": 5,
   "id": "c85c793f",
   "metadata": {},
   "outputs": [
    {
     "data": {
      "text/html": [
       "<div>\n",
       "<style scoped>\n",
       "    .dataframe tbody tr th:only-of-type {\n",
       "        vertical-align: middle;\n",
       "    }\n",
       "\n",
       "    .dataframe tbody tr th {\n",
       "        vertical-align: top;\n",
       "    }\n",
       "\n",
       "    .dataframe thead th {\n",
       "        text-align: right;\n",
       "    }\n",
       "</style>\n",
       "<table border=\"1\" class=\"dataframe\">\n",
       "  <thead>\n",
       "    <tr style=\"text-align: right;\">\n",
       "      <th>Unnamed: 0</th>\n",
       "      <th>Pathogenic variant</th>\n",
       "      <th>NaN</th>\n",
       "      <th>Inheritance</th>\n",
       "      <th>Age at examination</th>\n",
       "      <th>Development</th>\n",
       "      <th>Intellectual disability</th>\n",
       "      <th>Speech delay</th>\n",
       "      <th>Motor delay</th>\n",
       "      <th>Congenital anomalies</th>\n",
       "      <th>Congenital heart defect</th>\n",
       "      <th>...</th>\n",
       "      <th>Brachycephaly</th>\n",
       "      <th>Joint hypermobility</th>\n",
       "      <th>Hip dysplasia</th>\n",
       "      <th>Contractures</th>\n",
       "      <th>Other</th>\n",
       "      <th>Obstructive sleep apnea</th>\n",
       "      <th>Precocious puberty</th>\n",
       "      <th>(History of) anemia</th>\n",
       "      <th>Thrombocytopenia</th>\n",
       "      <th>patient_id</th>\n",
       "    </tr>\n",
       "  </thead>\n",
       "  <tbody>\n",
       "    <tr>\n",
       "      <th>Patient 1</th>\n",
       "      <td>c.110G&gt;A</td>\n",
       "      <td>p.Arg37His</td>\n",
       "      <td>De novo</td>\n",
       "      <td>9.5 y</td>\n",
       "      <td>NaN</td>\n",
       "      <td>Severe</td>\n",
       "      <td>Severe</td>\n",
       "      <td>Severe</td>\n",
       "      <td>NaN</td>\n",
       "      <td>-</td>\n",
       "      <td>...</td>\n",
       "      <td>+</td>\n",
       "      <td>-</td>\n",
       "      <td>-</td>\n",
       "      <td>+</td>\n",
       "      <td>NaN</td>\n",
       "      <td>+</td>\n",
       "      <td>-</td>\n",
       "      <td>+</td>\n",
       "      <td>-</td>\n",
       "      <td>Patient 1</td>\n",
       "    </tr>\n",
       "    <tr>\n",
       "      <th>Patient 2</th>\n",
       "      <td>c.110G&gt;A</td>\n",
       "      <td>p.Arg37His</td>\n",
       "      <td>De novo</td>\n",
       "      <td>5 y 8 mo</td>\n",
       "      <td>NaN</td>\n",
       "      <td>Severe</td>\n",
       "      <td>Severe</td>\n",
       "      <td>Severe</td>\n",
       "      <td>NaN</td>\n",
       "      <td>+</td>\n",
       "      <td>...</td>\n",
       "      <td>-</td>\n",
       "      <td>+</td>\n",
       "      <td>-</td>\n",
       "      <td>-</td>\n",
       "      <td>NaN</td>\n",
       "      <td>+</td>\n",
       "      <td>+</td>\n",
       "      <td>+</td>\n",
       "      <td>-</td>\n",
       "      <td>Patient 2</td>\n",
       "    </tr>\n",
       "    <tr>\n",
       "      <th>Patient 3</th>\n",
       "      <td>c.110G&gt;A</td>\n",
       "      <td>p.Arg37His</td>\n",
       "      <td>De novo</td>\n",
       "      <td>12 y</td>\n",
       "      <td>NaN</td>\n",
       "      <td>Severe</td>\n",
       "      <td>Severe</td>\n",
       "      <td>Severe</td>\n",
       "      <td>NaN</td>\n",
       "      <td>-</td>\n",
       "      <td>...</td>\n",
       "      <td>-</td>\n",
       "      <td>+</td>\n",
       "      <td>-</td>\n",
       "      <td>+</td>\n",
       "      <td>NaN</td>\n",
       "      <td>+</td>\n",
       "      <td>-</td>\n",
       "      <td>+</td>\n",
       "      <td>-</td>\n",
       "      <td>Patient 3</td>\n",
       "    </tr>\n",
       "    <tr>\n",
       "      <th>Patient 4</th>\n",
       "      <td>c.110G&gt;A</td>\n",
       "      <td>p.Arg37His</td>\n",
       "      <td>De novo</td>\n",
       "      <td>17 mo</td>\n",
       "      <td>NaN</td>\n",
       "      <td>Severe</td>\n",
       "      <td>Severe</td>\n",
       "      <td>Severe</td>\n",
       "      <td>NaN</td>\n",
       "      <td>+</td>\n",
       "      <td>...</td>\n",
       "      <td>+</td>\n",
       "      <td>+</td>\n",
       "      <td>+</td>\n",
       "      <td>-</td>\n",
       "      <td>NaN</td>\n",
       "      <td>+</td>\n",
       "      <td>NaN</td>\n",
       "      <td>-</td>\n",
       "      <td>+</td>\n",
       "      <td>Patient 4</td>\n",
       "    </tr>\n",
       "  </tbody>\n",
       "</table>\n",
       "<p>4 rows × 33 columns</p>\n",
       "</div>"
      ],
      "text/plain": [
       "Unnamed: 0 Pathogenic variant         NaN Inheritance Age at examination  \\\n",
       "Patient 1            c.110G>A  p.Arg37His     De novo              9.5 y   \n",
       "Patient 2            c.110G>A  p.Arg37His     De novo           5 y 8 mo   \n",
       "Patient 3            c.110G>A  p.Arg37His     De novo               12 y   \n",
       "Patient 4            c.110G>A  p.Arg37His     De novo              17 mo   \n",
       "\n",
       "Unnamed: 0 Development  Intellectual disability  Speech delay  Motor delay  \\\n",
       "Patient 1          NaN                   Severe        Severe       Severe   \n",
       "Patient 2          NaN                   Severe        Severe       Severe   \n",
       "Patient 3          NaN                   Severe        Severe       Severe   \n",
       "Patient 4          NaN                   Severe        Severe       Severe   \n",
       "\n",
       "Unnamed: 0 Congenital anomalies  Congenital heart defect  ...  Brachycephaly  \\\n",
       "Patient 1                   NaN                        -  ...              +   \n",
       "Patient 2                   NaN                        +  ...              -   \n",
       "Patient 3                   NaN                        -  ...              -   \n",
       "Patient 4                   NaN                        +  ...              +   \n",
       "\n",
       "Unnamed: 0  Joint hypermobility  Hip dysplasia  Contractures Other  \\\n",
       "Patient 1                     -              -             +   NaN   \n",
       "Patient 2                     +              -             -   NaN   \n",
       "Patient 3                     +              -             +   NaN   \n",
       "Patient 4                     +              +             -   NaN   \n",
       "\n",
       "Unnamed: 0  Obstructive sleep apnea  Precocious puberty  (History of) anemia  \\\n",
       "Patient 1                         +                   -                    +   \n",
       "Patient 2                         +                   +                    +   \n",
       "Patient 3                         +                   -                    +   \n",
       "Patient 4                         +                 NaN                    -   \n",
       "\n",
       "Unnamed: 0  Thrombocytopenia patient_id  \n",
       "Patient 1                  -  Patient 1  \n",
       "Patient 2                  -  Patient 2  \n",
       "Patient 3                  -  Patient 3  \n",
       "Patient 4                  +  Patient 4  \n",
       "\n",
       "[4 rows x 33 columns]"
      ]
     },
     "execution_count": 5,
     "metadata": {},
     "output_type": "execute_result"
    }
   ],
   "source": [
    "dft = df.transpose()\n",
    "dft.columns = dft.iloc[0]\n",
    "dft.drop(dft.index[0], inplace=True)\n",
    "dft = dft[dft.index.astype(str).str.contains('Patient')]\n",
    "dft['patient_id'] = dft.index\n",
    "dft.head()"
   ]
  },
  {
   "cell_type": "markdown",
   "id": "e013666d",
   "metadata": {},
   "source": [
    "Some column names might include spaces in front or after, and a couple of columns are subheadings and only contain NaNs, so lets correct that:"
   ]
  },
  {
   "cell_type": "code",
   "execution_count": 6,
   "id": "5d604600",
   "metadata": {},
   "outputs": [
    {
     "data": {
      "text/html": [
       "<div>\n",
       "<style scoped>\n",
       "    .dataframe tbody tr th:only-of-type {\n",
       "        vertical-align: middle;\n",
       "    }\n",
       "\n",
       "    .dataframe tbody tr th {\n",
       "        vertical-align: top;\n",
       "    }\n",
       "\n",
       "    .dataframe thead th {\n",
       "        text-align: right;\n",
       "    }\n",
       "</style>\n",
       "<table border=\"1\" class=\"dataframe\">\n",
       "  <thead>\n",
       "    <tr style=\"text-align: right;\">\n",
       "      <th>Unnamed: 0</th>\n",
       "      <th>Pathogenic variant</th>\n",
       "      <th>NaN</th>\n",
       "      <th>Inheritance</th>\n",
       "      <th>Age at examination</th>\n",
       "      <th>Speech delay</th>\n",
       "      <th>Motor delay</th>\n",
       "      <th>Congenital heart defect</th>\n",
       "      <th>Laryngomalacia</th>\n",
       "      <th>Kidney anomalies</th>\n",
       "      <th>Genital anomalies</th>\n",
       "      <th>...</th>\n",
       "      <th>Brachycephaly</th>\n",
       "      <th>Joint hypermobility</th>\n",
       "      <th>Hip dysplasia</th>\n",
       "      <th>Contractures</th>\n",
       "      <th>Obstructive sleep apnea</th>\n",
       "      <th>Precocious puberty</th>\n",
       "      <th>(History of) anemia</th>\n",
       "      <th>Thrombocytopenia</th>\n",
       "      <th>patient_id</th>\n",
       "      <th>Intellectual disability, severe</th>\n",
       "    </tr>\n",
       "  </thead>\n",
       "  <tbody>\n",
       "    <tr>\n",
       "      <th>Patient 1</th>\n",
       "      <td>c.110G&gt;A</td>\n",
       "      <td>p.Arg37His</td>\n",
       "      <td>De novo</td>\n",
       "      <td>9.5 y</td>\n",
       "      <td>Severe</td>\n",
       "      <td>Severe</td>\n",
       "      <td>-</td>\n",
       "      <td>-</td>\n",
       "      <td>-</td>\n",
       "      <td>+</td>\n",
       "      <td>...</td>\n",
       "      <td>+</td>\n",
       "      <td>-</td>\n",
       "      <td>-</td>\n",
       "      <td>+</td>\n",
       "      <td>+</td>\n",
       "      <td>-</td>\n",
       "      <td>+</td>\n",
       "      <td>-</td>\n",
       "      <td>Patient 1</td>\n",
       "      <td>Severe</td>\n",
       "    </tr>\n",
       "    <tr>\n",
       "      <th>Patient 2</th>\n",
       "      <td>c.110G&gt;A</td>\n",
       "      <td>p.Arg37His</td>\n",
       "      <td>De novo</td>\n",
       "      <td>5 y 8 mo</td>\n",
       "      <td>Severe</td>\n",
       "      <td>Severe</td>\n",
       "      <td>+</td>\n",
       "      <td>-</td>\n",
       "      <td>+</td>\n",
       "      <td>-</td>\n",
       "      <td>...</td>\n",
       "      <td>-</td>\n",
       "      <td>+</td>\n",
       "      <td>-</td>\n",
       "      <td>-</td>\n",
       "      <td>+</td>\n",
       "      <td>+</td>\n",
       "      <td>+</td>\n",
       "      <td>-</td>\n",
       "      <td>Patient 2</td>\n",
       "      <td>Severe</td>\n",
       "    </tr>\n",
       "    <tr>\n",
       "      <th>Patient 3</th>\n",
       "      <td>c.110G&gt;A</td>\n",
       "      <td>p.Arg37His</td>\n",
       "      <td>De novo</td>\n",
       "      <td>12 y</td>\n",
       "      <td>Severe</td>\n",
       "      <td>Severe</td>\n",
       "      <td>-</td>\n",
       "      <td>-</td>\n",
       "      <td>+</td>\n",
       "      <td>+</td>\n",
       "      <td>...</td>\n",
       "      <td>-</td>\n",
       "      <td>+</td>\n",
       "      <td>-</td>\n",
       "      <td>+</td>\n",
       "      <td>+</td>\n",
       "      <td>-</td>\n",
       "      <td>+</td>\n",
       "      <td>-</td>\n",
       "      <td>Patient 3</td>\n",
       "      <td>Severe</td>\n",
       "    </tr>\n",
       "    <tr>\n",
       "      <th>Patient 4</th>\n",
       "      <td>c.110G&gt;A</td>\n",
       "      <td>p.Arg37His</td>\n",
       "      <td>De novo</td>\n",
       "      <td>17 mo</td>\n",
       "      <td>Severe</td>\n",
       "      <td>Severe</td>\n",
       "      <td>+</td>\n",
       "      <td>+</td>\n",
       "      <td>+</td>\n",
       "      <td>-</td>\n",
       "      <td>...</td>\n",
       "      <td>+</td>\n",
       "      <td>+</td>\n",
       "      <td>+</td>\n",
       "      <td>-</td>\n",
       "      <td>+</td>\n",
       "      <td>NaN</td>\n",
       "      <td>-</td>\n",
       "      <td>+</td>\n",
       "      <td>Patient 4</td>\n",
       "      <td>Severe</td>\n",
       "    </tr>\n",
       "  </tbody>\n",
       "</table>\n",
       "<p>4 rows × 27 columns</p>\n",
       "</div>"
      ],
      "text/plain": [
       "Unnamed: 0 Pathogenic variant         NaN Inheritance Age at examination  \\\n",
       "Patient 1            c.110G>A  p.Arg37His     De novo              9.5 y   \n",
       "Patient 2            c.110G>A  p.Arg37His     De novo           5 y 8 mo   \n",
       "Patient 3            c.110G>A  p.Arg37His     De novo               12 y   \n",
       "Patient 4            c.110G>A  p.Arg37His     De novo              17 mo   \n",
       "\n",
       "Unnamed: 0 Speech delay Motor delay Congenital heart defect Laryngomalacia  \\\n",
       "Patient 1        Severe      Severe                       -              -   \n",
       "Patient 2        Severe      Severe                       +              -   \n",
       "Patient 3        Severe      Severe                       -              -   \n",
       "Patient 4        Severe      Severe                       +              +   \n",
       "\n",
       "Unnamed: 0 Kidney anomalies Genital anomalies  ... Brachycephaly  \\\n",
       "Patient 1                 -                 +  ...             +   \n",
       "Patient 2                 +                 -  ...             -   \n",
       "Patient 3                 +                 +  ...             -   \n",
       "Patient 4                 +                 -  ...             +   \n",
       "\n",
       "Unnamed: 0 Joint hypermobility Hip dysplasia Contractures  \\\n",
       "Patient 1                    -             -            +   \n",
       "Patient 2                    +             -            -   \n",
       "Patient 3                    +             -            +   \n",
       "Patient 4                    +             +            -   \n",
       "\n",
       "Unnamed: 0 Obstructive sleep apnea Precocious puberty (History of) anemia  \\\n",
       "Patient 1                        +                  -                   +   \n",
       "Patient 2                        +                  +                   +   \n",
       "Patient 3                        +                  -                   +   \n",
       "Patient 4                        +                NaN                   -   \n",
       "\n",
       "Unnamed: 0 Thrombocytopenia patient_id Intellectual disability, severe  \n",
       "Patient 1                 -  Patient 1                          Severe  \n",
       "Patient 2                 -  Patient 2                          Severe  \n",
       "Patient 3                 -  Patient 3                          Severe  \n",
       "Patient 4                 +  Patient 4                          Severe  \n",
       "\n",
       "[4 rows x 27 columns]"
      ]
     },
     "execution_count": 6,
     "metadata": {},
     "output_type": "execute_result"
    }
   ],
   "source": [
    "dft.columns = dft.columns.str.strip()\n",
    "dft = dft.dropna(axis=1, how='all')\n",
    "dft['Intellectual disability, severe'] = dft['Intellectual disability']\n",
    "del dft['Intellectual disability']\n",
    "dft.head()"
   ]
  },
  {
   "cell_type": "markdown",
   "id": "8314d6bd",
   "metadata": {},
   "source": [
    "<h2>Column mappers</h2>\n",
    "<p>Please see the notebook \"Create phenopackets from tabular data with individuals in rows\" for explanations. In the following cell we create a dictionary for the ColumnMappers. Note that the code is identical except that we use the df.loc function to get the corresponding row data</p>"
   ]
  },
  {
   "cell_type": "code",
   "execution_count": 7,
   "id": "59d9e9e8",
   "metadata": {},
   "outputs": [
    {
     "data": {
      "text/html": [
       "<table style=\"border: 2px solid black;\">\n",
       "\n",
       "<tr>\n",
       "            <th>Result</th>\n",
       "            <th>Columns</th>\n",
       "        </tr>\n",
       "        \n",
       "<tr><td>Mapped</td><td>Intellectual disability, severe; Speech delay; Motor delay</td></tr>\n",
       "<tr><td>Unmapped</td><td></td></tr>\n",
       "</table>\n"
      ],
      "text/plain": [
       "<IPython.core.display.HTML object>"
      ]
     },
     "metadata": {},
     "output_type": "display_data"
    }
   ],
   "source": [
    "hpo_cr = parser.get_hpo_concept_recognizer()\n",
    "generator = SimpleColumnMapperGenerator(df=dft.loc[:,['Intellectual disability, severe','Speech delay', 'Motor delay']],\n",
    "                                                    observed='Severe',\n",
    "                                                    excluded='-',\n",
    "                                                    hpo_cr=hpo_cr)\n",
    "\n",
    "column_mapper_list = generator.try_mapping_columns()\n",
    "display(HTML(generator.to_html()))"
   ]
  },
  {
   "cell_type": "code",
   "execution_count": 8,
   "id": "a9f5b114-77da-4d29-987b-68d96658f540",
   "metadata": {},
   "outputs": [
    {
     "data": {
      "text/html": [
       "<table style=\"border: 2px solid black;\">\n",
       "\n",
       "<tr>\n",
       "            <th>Result</th>\n",
       "            <th>Columns</th>\n",
       "        </tr>\n",
       "        \n",
       "<tr><td>Mapped</td><td>Congenital heart defect; Laryngomalacia; Genital anomalies; Hydrocephalus; Myopia; Hearing loss; Brachycephaly; Joint hypermobility; Hip dysplasia; Obstructive sleep apnea; Precocious puberty; Thrombocytopenia</td></tr>\n",
       "<tr><td>Unmapped</td><td><q>Kidney anomalies</q>; <q>Childhood hypotonia</q>; <q>CVI</q>; <q>Eye movement disorder</q>; <q>Other eye problems</q>; <q>Contractures</q>; <q>(History of) anemia</q>; <q>patient_id</q></td></tr>\n",
       "</table>\n"
      ],
      "text/plain": [
       "<IPython.core.display.HTML object>"
      ]
     },
     "metadata": {},
     "output_type": "display_data"
    }
   ],
   "source": [
    "generator_plus = SimpleColumnMapperGenerator(df=dft.loc[:,'Congenital heart defect': 'patient_id'],\n",
    "                                                    observed='+',\n",
    "                                                    excluded='-',\n",
    "                                                    hpo_cr=hpo_cr)\n",
    "\n",
    "column_mapper_list_plus = generator_plus.try_mapping_columns()\n",
    "display(HTML(generator_plus.to_html()))"
   ]
  },
  {
   "cell_type": "code",
   "execution_count": 9,
   "id": "8e2e313a",
   "metadata": {},
   "outputs": [],
   "source": [
    "correct_hpo_ids = {}\n",
    "correct_hpo_ids['Speech delay'] = 'HP:0000750'\n",
    "correct_hpo_ids['Eye movement disorder'] = 'HP:0000496'\n",
    "correct_hpo_ids['Contractures'] = 'HP:0001371'\n",
    "correct_hpo_ids['Kidney anomalies'] = 'HP:0000077'\n",
    "correct_hpo_ids['CVI'] = 'HP:0100704'\n",
    "correct_hpo_ids['Genital anomalies'] = 'HP:0000078'\n",
    "correct_hpo_ids['Congenital heart defect'] = 'HP:0001627'\n",
    "correct_hpo_ids['Hearing loss'] = 'HP:0000365'\n",
    "correct_hpo_ids['Other eye problems'] = 'HP:0000478'\n",
    "for k,v in correct_hpo_ids.items():\n",
    "    if v == 'HP:0000750':\n",
    "        t_mapper = SimpleColumnMapper(column_name=k,hpo_id=v,\n",
    "                                      hpo_label=hpo_cr._id_to_primary_label[v],\n",
    "                                      observed='Severe',\n",
    "                                      excluded='-')\n",
    "    else:\n",
    "        t_mapper = SimpleColumnMapper(column_name=k,hpo_id=v,\n",
    "                                      hpo_label=hpo_cr._id_to_primary_label[v],\n",
    "                                      observed='+',\n",
    "                                      excluded='-')\n",
    "    #print(t_mapper.preview_column(dft[k]))\n",
    "    column_mapper_list.append(t_mapper)"
   ]
  },
  {
   "cell_type": "markdown",
   "id": "5e53617d",
   "metadata": {},
   "source": [
    "<h2>Variant Data</h2>"
   ]
  },
  {
   "cell_type": "code",
   "execution_count": 10,
   "id": "da4d5706",
   "metadata": {},
   "outputs": [
    {
     "name": "stdout",
     "output_type": "stream",
     "text": [
      "['c.110G>A']\n",
      "https://rest.variantvalidator.org/VariantValidator/variantvalidator/hg38/NM_003073.3%3Ac.110G>A/NM_003073.3?content-type=application%2Fjson\n",
      "NM_003073.3:c.110G>A(chr22:23791772G>A)\n"
     ]
    }
   ],
   "source": [
    "genome = 'hg38'\n",
    "default_genotype = 'heterozygous'\n",
    "SMARCB1_transcript='NM_003073.3'\n",
    "variant_list = dft['Pathogenic variant'].unique()\n",
    "print(variant_list)\n",
    "vvalidator = VariantValidator(genome_build=genome, transcript=SMARCB1_transcript)\n",
    "# There is just one variant in this dataset\n",
    "SMARCB1_var = vvalidator.encode_hgvs('c.110G>A')\n",
    "print(SMARCB1_var)\n",
    "variant_d = {'c.110G>A' : SMARCB1_var}"
   ]
  },
  {
   "cell_type": "code",
   "execution_count": 11,
   "id": "f8b2ff58-2153-4b12-8905-8ac89961978d",
   "metadata": {},
   "outputs": [],
   "source": [
    "varMapper = VariantColumnMapper(variant_d=variant_d, variant_column_name='Pathogenic variant', default_genotype=default_genotype)"
   ]
  },
  {
   "cell_type": "markdown",
   "id": "d1af2052",
   "metadata": {},
   "source": [
    "<h1>Demographic data</h1>"
   ]
  },
  {
   "cell_type": "code",
   "execution_count": 12,
   "id": "3e64dc08",
   "metadata": {},
   "outputs": [
    {
     "data": {
      "text/html": [
       "<div>\n",
       "<style scoped>\n",
       "    .dataframe tbody tr th:only-of-type {\n",
       "        vertical-align: middle;\n",
       "    }\n",
       "\n",
       "    .dataframe tbody tr th {\n",
       "        vertical-align: top;\n",
       "    }\n",
       "\n",
       "    .dataframe thead th {\n",
       "        text-align: right;\n",
       "    }\n",
       "</style>\n",
       "<table border=\"1\" class=\"dataframe\">\n",
       "  <thead>\n",
       "    <tr style=\"text-align: right;\">\n",
       "      <th></th>\n",
       "      <th>original column contents</th>\n",
       "      <th>age</th>\n",
       "    </tr>\n",
       "  </thead>\n",
       "  <tbody>\n",
       "    <tr>\n",
       "      <th>0</th>\n",
       "      <td>P10Y</td>\n",
       "      <td>10</td>\n",
       "    </tr>\n",
       "    <tr>\n",
       "      <th>1</th>\n",
       "      <td>P6Y</td>\n",
       "      <td>6</td>\n",
       "    </tr>\n",
       "    <tr>\n",
       "      <th>2</th>\n",
       "      <td>P12Y</td>\n",
       "      <td>12</td>\n",
       "    </tr>\n",
       "    <tr>\n",
       "      <th>3</th>\n",
       "      <td>P1Y</td>\n",
       "      <td>1</td>\n",
       "    </tr>\n",
       "  </tbody>\n",
       "</table>\n",
       "</div>"
      ],
      "text/plain": [
       "  original column contents  age\n",
       "0                     P10Y   10\n",
       "1                      P6Y    6\n",
       "2                     P12Y   12\n",
       "3                      P1Y    1"
      ]
     },
     "execution_count": 12,
     "metadata": {},
     "output_type": "execute_result"
    }
   ],
   "source": [
    "import numpy as np\n",
    "#age is in years, so manually correct it\n",
    "dft['Age at examination'] = np.array([10, 6, 12, 1], dtype=int)\n",
    "ageMapper = AgeColumnMapper.by_year('Age at examination')\n",
    "ageMapper.preview_column(dft)"
   ]
  },
  {
   "cell_type": "code",
   "execution_count": 13,
   "id": "71f664cc",
   "metadata": {},
   "outputs": [
    {
     "data": {
      "text/html": [
       "<div>\n",
       "<style scoped>\n",
       "    .dataframe tbody tr th:only-of-type {\n",
       "        vertical-align: middle;\n",
       "    }\n",
       "\n",
       "    .dataframe tbody tr th {\n",
       "        vertical-align: top;\n",
       "    }\n",
       "\n",
       "    .dataframe thead th {\n",
       "        text-align: right;\n",
       "    }\n",
       "</style>\n",
       "<table border=\"1\" class=\"dataframe\">\n",
       "  <thead>\n",
       "    <tr style=\"text-align: right;\">\n",
       "      <th></th>\n",
       "      <th>original column contents</th>\n",
       "      <th>sex</th>\n",
       "    </tr>\n",
       "  </thead>\n",
       "  <tbody>\n",
       "    <tr>\n",
       "      <th>0</th>\n",
       "      <td>Female</td>\n",
       "      <td>FEMALE</td>\n",
       "    </tr>\n",
       "    <tr>\n",
       "      <th>1</th>\n",
       "      <td>Female</td>\n",
       "      <td>FEMALE</td>\n",
       "    </tr>\n",
       "    <tr>\n",
       "      <th>2</th>\n",
       "      <td>Female</td>\n",
       "      <td>FEMALE</td>\n",
       "    </tr>\n",
       "    <tr>\n",
       "      <th>3</th>\n",
       "      <td>Female</td>\n",
       "      <td>FEMALE</td>\n",
       "    </tr>\n",
       "  </tbody>\n",
       "</table>\n",
       "</div>"
      ],
      "text/plain": [
       "  original column contents     sex\n",
       "0                   Female  FEMALE\n",
       "1                   Female  FEMALE\n",
       "2                   Female  FEMALE\n",
       "3                   Female  FEMALE"
      ]
     },
     "execution_count": 13,
     "metadata": {},
     "output_type": "execute_result"
    }
   ],
   "source": [
    "#sex is not in columns, since the individuals were all females in this paper\n",
    "dft['Sex'] = ['Female'] * 4\n",
    "sexMapper = SexColumnMapper(male_symbol='Male', female_symbol='Female', column_name='Sex')\n",
    "sexMapper.preview_column(dft)"
   ]
  },
  {
   "cell_type": "code",
   "execution_count": 14,
   "id": "f6581a8a",
   "metadata": {},
   "outputs": [],
   "source": [
    "encoder = CohortEncoder(df=dft, \n",
    "                        hpo_cr=hpo_cr, \n",
    "                        column_mapper_list=column_mapper_list, \n",
    "                        individual_column_name=\"patient_id\", \n",
    "                        age_at_last_encounter_mapper=ageMapper, \n",
    "                        sexmapper=sexMapper,\n",
    "                        variant_mapper=varMapper, \n",
    "                        metadata=metadata)"
   ]
  },
  {
   "cell_type": "markdown",
   "id": "6045df34-0c86-4d5e-a525-cd8a5a15c542",
   "metadata": {},
   "source": [
    "<h2>Disease diagnosis</h2>\n",
    "<p>The authors name the diagnosis \"severe intellectual disability and choroid plexus hyperplasia with resultant hydrocephalus\". This\n",
    "is not available in OMIM or MONDO, and so we will add an \"a\" to the OMIM id for the gene, \n",
    " OMIM:601607a </p>"
   ]
  },
  {
   "cell_type": "code",
   "execution_count": 15,
   "id": "517c5a4a-a653-4da4-baf8-2bd5ec3e2b9f",
   "metadata": {},
   "outputs": [],
   "source": [
    "custom_disease_label ='severe intellectual disability and choroid plexus hyperplasia with resultant hydrocephalus'\n",
    "custom_disease_id = 'OMIM:601607a'\n",
    "custom_disease = Disease(disease_id=custom_disease_id, disease_label=custom_disease_label)\n",
    "encoder.set_disease(disease=custom_disease)"
   ]
  },
  {
   "cell_type": "code",
   "execution_count": 16,
   "id": "fd367ed6",
   "metadata": {},
   "outputs": [
    {
     "data": {
      "text/html": [
       "<h2>Cohort validation</h2>\n",
       "<p>Errors found with 4 of 4 phenopackets.</p>\n",
       "<table style=\"border: 2px solid black; align: \"left\">\n",
       "<caption>Error counts</caption>\n",
       "<tr><th style=\"text-align: left;font-weight: bold;\">Level</th><th style=\"text-align: left;font-weight: bold;\">Error category</th><th style=\"text-align: left;font-weight: bold;\">Count</th></tr>\n",
       "<tr><td style=\"text-align: left;\">WARNING</td><td style=\"text-align: left;\">REDUNDANT</td><td style=\"text-align: left;\">4</td></tr>\n",
       "</table>\n",
       "<p>A total of 8 issues were fixed and no individual was removed from the cohort.</p>"
      ],
      "text/plain": [
       "<IPython.core.display.HTML object>"
      ]
     },
     "metadata": {},
     "output_type": "display_data"
    }
   ],
   "source": [
    "individuals = encoder.get_individuals()\n",
    "cvalidator = CohortValidator(cohort=individuals, ontology=hpo_ontology, min_hpo=1, allelic_requirement=AllelicRequirement.MONO_ALLELIC)\n",
    "qc = QcVisualizer(cohort_validator=cvalidator)\n",
    "display(HTML(qc.to_summary_html()))"
   ]
  },
  {
   "cell_type": "code",
   "execution_count": 17,
   "id": "5d044b78",
   "metadata": {},
   "outputs": [
    {
     "data": {
      "text/html": [
       "<table style=\"border: 2px solid black; align: \"left\">\n",
       "<caption>4 phenopackets - PMID:29907796 (n=4)</caption>\n",
       "<tr><th style=\"text-align: left;font-weight: bold;\">Individual</th><th style=\"text-align: left;font-weight: bold;\">Disease</th><th style=\"text-align: left;font-weight: bold;\">Genotype</th><th style=\"text-align: left;font-weight: bold;\">Phenotypic features</th></tr>\n",
       "<tr><td style=\"text-align: left;\">Patient 1 (FEMALE; P10Y)</td><td style=\"text-align: left;\">severe intellectual disability and choroid plexus hyperplasia with resultant hydrocephalus (OMIM:601607a)</td><td style=\"text-align: left;\">NM_003073.3:c.110G>A (heterozygous)</td><td style=\"text-align: left;\">Delayed speech and language development (HP:0000750); Abnormality of the genital system (HP:0000078); Intellectual disability (HP:0001249); Cerebral visual impairment (HP:0100704); Motor delay (HP:0001270); Flexion contracture (HP:0001371); excluded: Abnormality of eye movement (HP:0000496); excluded: Abnormality of the kidney (HP:0000077); excluded: Abnormal heart morphology (HP:0001627); excluded: Hearing impairment (HP:0000365)</td></tr>\n",
       "<tr><td style=\"text-align: left;\">Patient 2 (FEMALE; P6Y)</td><td style=\"text-align: left;\">severe intellectual disability and choroid plexus hyperplasia with resultant hydrocephalus (OMIM:601607a)</td><td style=\"text-align: left;\">NM_003073.3:c.110G>A (heterozygous)</td><td style=\"text-align: left;\">Delayed speech and language development (HP:0000750); Abnormality of the kidney (HP:0000077); Abnormal heart morphology (HP:0001627); Intellectual disability (HP:0001249); Cerebral visual impairment (HP:0100704); Motor delay (HP:0001270); Abnormality of eye movement (HP:0000496); Hearing impairment (HP:0000365); excluded: Flexion contracture (HP:0001371); excluded: Abnormality of the genital system (HP:0000078)</td></tr>\n",
       "<tr><td style=\"text-align: left;\">Patient 3 (FEMALE; P12Y)</td><td style=\"text-align: left;\">severe intellectual disability and choroid plexus hyperplasia with resultant hydrocephalus (OMIM:601607a)</td><td style=\"text-align: left;\">NM_003073.3:c.110G>A (heterozygous)</td><td style=\"text-align: left;\">Delayed speech and language development (HP:0000750); Abnormality of the genital system (HP:0000078); Abnormality of the kidney (HP:0000077); Intellectual disability (HP:0001249); Motor delay (HP:0001270); Abnormality of eye movement (HP:0000496); Flexion contracture (HP:0001371); excluded: Cerebral visual impairment (HP:0100704); excluded: Abnormal heart morphology (HP:0001627); excluded: Hearing impairment (HP:0000365)</td></tr>\n",
       "<tr><td style=\"text-align: left;\">Patient 4 (FEMALE; P1Y)</td><td style=\"text-align: left;\">severe intellectual disability and choroid plexus hyperplasia with resultant hydrocephalus (OMIM:601607a)</td><td style=\"text-align: left;\">NM_003073.3:c.110G>A (heterozygous)</td><td style=\"text-align: left;\">Delayed speech and language development (HP:0000750); Abnormality of the kidney (HP:0000077); Abnormal heart morphology (HP:0001627); Intellectual disability (HP:0001249); Cerebral visual impairment (HP:0100704); Motor delay (HP:0001270); Abnormality of eye movement (HP:0000496); Hearing impairment (HP:0000365); excluded: Flexion contracture (HP:0001371); excluded: Abnormality of the genital system (HP:0000078)</td></tr>\n",
       "</table>"
      ],
      "text/plain": [
       "<IPython.core.display.HTML object>"
      ]
     },
     "metadata": {},
     "output_type": "display_data"
    }
   ],
   "source": [
    "individuals = cvalidator.get_error_free_individual_list()\n",
    "table = PhenopacketTable(individual_list=individuals, metadata=metadata)\n",
    "display(HTML(table.to_html()))"
   ]
  },
  {
   "cell_type": "code",
   "execution_count": 18,
   "id": "23f1094f",
   "metadata": {},
   "outputs": [
    {
     "name": "stdout",
     "output_type": "stream",
     "text": [
      "We output 4 GA4GH phenopackets to the directory phenopackets\n"
     ]
    }
   ],
   "source": [
    "output_directory = \"phenopackets\"\n",
    "Individual.output_individuals_as_phenopackets(individual_list=individuals,\n",
    "                                              metadata=metadata,\n",
    "                                              outdir=output_directory)"
   ]
  },
  {
   "cell_type": "code",
   "execution_count": null,
   "id": "47478058-df80-4ce9-8d35-3ff540948409",
   "metadata": {},
   "outputs": [],
   "source": []
  }
 ],
 "metadata": {
  "kernelspec": {
   "display_name": "Python 3 (ipykernel)",
   "language": "python",
   "name": "python3"
  },
  "language_info": {
   "codemirror_mode": {
    "name": "ipython",
    "version": 3
   },
   "file_extension": ".py",
   "mimetype": "text/x-python",
   "name": "python",
   "nbconvert_exporter": "python",
   "pygments_lexer": "ipython3",
   "version": "3.8.10"
  }
 },
 "nbformat": 4,
 "nbformat_minor": 5
}
