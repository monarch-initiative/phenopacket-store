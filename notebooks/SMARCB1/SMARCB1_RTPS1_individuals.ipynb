{
 "cells": [
  {
   "cell_type": "markdown",
   "id": "a39f3c65",
   "metadata": {},
   "source": [
    "# SMARCB1 RTPS1\n",
    "[Rhabdoid tumor predisposition syndrome-1](https://omim.org/entry/609322) (RTPS1) is caused by heterozygous germline mutation in the SMARCB1"
   ]
  },
  {
   "cell_type": "code",
   "execution_count": 1,
   "id": "3419d832-0155-44a9-9578-1c805701facc",
   "metadata": {},
   "outputs": [],
   "source": [
    "from pyphetools.creation import *\n"
   ]
  },
  {
   "cell_type": "code",
   "execution_count": 2,
   "id": "765857d8-1b8a-40d0-97fc-882c8b743738",
   "metadata": {},
   "outputs": [],
   "source": [
    "tc = TemplateCreator(\"../hp.json\")"
   ]
  },
  {
   "cell_type": "code",
   "execution_count": 3,
   "id": "a83754c1-0d90-429e-a789-2429b449e5e7",
   "metadata": {},
   "outputs": [],
   "source": [
    "tc.add_seed_terms(\"\"\"\n",
    "Rhabdoid tumors, malignant (renal or extrarenal)\n",
    "- Atypical teratoid tumors\n",
    "- Choroid plexus carcinoma\n",
    "- Medulloblastoma\n",
    "MISCELLANEOUS\n",
    "- Increased risk of developing multiple primary cancers\n",
    "- Early age of onset, usually less than 3 years\n",
    "- Aggressive malignancies\n",
    "MOLECULAR BASIS \n",
    "\"\"\")"
   ]
  },
  {
   "cell_type": "code",
   "execution_count": 4,
   "id": "8d634f89-110d-4dc0-9f2c-7ca560b8559a",
   "metadata": {},
   "outputs": [
    {
     "name": "stdout",
     "output_type": "stream",
     "text": [
      "[INFO] Add 2 HPO terms to template.\n",
      "Write excel pyphetools template file to OMIM_609322_individuals.xlsx\n"
     ]
    }
   ],
   "source": [
    "SMARCB1_transcript = \"NM_003073.5\"\n",
    "tc.create_template(disease_id=\"OMIM:609322\",\n",
    "                  disease_label=\"Rhabdoid tumor predisposition syndrome 1\",\n",
    "                   gene_symbol=\"SMARCB1\",\n",
    "                   HGNC_id=\"HGNC:11103\",\n",
    "                   transcript=SMARCB1_transcript)"
   ]
  },
  {
   "cell_type": "code",
   "execution_count": null,
   "id": "0d7bb439-1eda-401e-847f-d8983170b462",
   "metadata": {},
   "outputs": [],
   "source": []
  },
  {
   "cell_type": "code",
   "execution_count": 5,
   "id": "f0602c0e",
   "metadata": {},
   "outputs": [
    {
     "name": "stdout",
     "output_type": "stream",
     "text": [
      "Using pyphetools version 0.9.71\n"
     ]
    }
   ],
   "source": [
    "from pyphetools.creation import TemplateImporter\n",
    "from pyphetools.visualization import IndividualTable, QcVisualizer\n",
    "from IPython.display import display, HTML\n",
    "import pyphetools\n",
    "print(f\"Using pyphetools version {pyphetools.__version__}\")"
   ]
  },
  {
   "cell_type": "code",
   "execution_count": 6,
   "id": "5a7789fc",
   "metadata": {},
   "outputs": [],
   "source": [
    "template = \"input/SMARCB1_RTPS1_individuals.xlsx\"\n",
    "hp_json = \"../hp.json\"\n",
    "created_by = \"0000-0002-0736-9199\""
   ]
  },
  {
   "cell_type": "code",
   "execution_count": 7,
   "id": "f17c3924",
   "metadata": {},
   "outputs": [
    {
     "name": "stdout",
     "output_type": "stream",
     "text": [
      "HPO version 2024-03-06\n",
      "Created encoders for 20 fields\n",
      "Importing OMIM:609322, Rhabdoid tumor predisposition syndrome 1, HGNC:11103, SMARCB1,  NM_003073.5\n",
      "We output 2 GA4GH phenopackets to the directory phenopackets\n"
     ]
    }
   ],
   "source": [
    "dup_set = {\"gain of SMARCB1 exon 6\"}\n",
    "timporter = TemplateImporter(template=template, hp_json=hp_json, created_by=created_by)\n",
    "individual_list, cvalidator = timporter.import_phenopackets_from_template(duplications=dup_set)"
   ]
  },
  {
   "cell_type": "code",
   "execution_count": 8,
   "id": "06ec7dbd",
   "metadata": {},
   "outputs": [
    {
     "data": {
      "text/html": [
       "<h2>Cohort validation</h2>\n",
       "<p>No errors found for the cohort with 2 individuals</p>"
      ],
      "text/plain": [
       "<IPython.core.display.HTML object>"
      ]
     },
     "metadata": {},
     "output_type": "display_data"
    }
   ],
   "source": [
    "qc = QcVisualizer(cohort_validator=cvalidator)\n",
    "display(HTML(qc.to_summary_html()))"
   ]
  },
  {
   "cell_type": "code",
   "execution_count": 9,
   "id": "f6581a8a",
   "metadata": {},
   "outputs": [
    {
     "data": {
      "text/html": [
       "<table style=\"border: 2px solid black; align: \"left\">\n",
       "<caption>2 phenopackets - PMID:34101994 (n=2)</caption>\n",
       "<tr><th style=\"text-align: left;font-weight: bold;\">Individual</th><th style=\"text-align: left;font-weight: bold;\">Disease</th><th style=\"text-align: left;font-weight: bold;\">Genotype</th><th style=\"text-align: left;font-weight: bold;\">Phenotypic features</th></tr>\n",
       "<tr><td style=\"text-align: left;\">II.1 (MALE; P15Y)</td><td style=\"text-align: left;\">Rhabdoid tumor predisposition syndrome 1 (OMIM:609322)</td><td style=\"text-align: left;\">gain of SMARCB1 exon 6: chromosomal_duplication (SO:1000037)</td><td style=\"text-align: left;\"><b>P6Y</b>: Atypical teratoid/rhabdoid tumor (HP:0034401)<br/>excluded: Leukemia (HP:0001909); excluded: Ependymoma (HP:0002888)</td></tr>\n",
       "<tr><td style=\"text-align: left;\">I.2 (MALE; P54Y)</td><td style=\"text-align: left;\">Rhabdoid tumor predisposition syndrome 1 (OMIM:609322)</td><td style=\"text-align: left;\">gain of SMARCB1 exon 6: chromosomal_duplication (SO:1000037)</td><td style=\"text-align: left;\"><b>P47Y</b>: Leukemia (HP:0001909)<br/><b>P54Y</b>: Ependymoma (HP:0002888)<br/>excluded: Atypical teratoid/rhabdoid tumor (HP:0034401)</td></tr>\n",
       "</table>"
      ],
      "text/plain": [
       "<IPython.core.display.HTML object>"
      ]
     },
     "metadata": {},
     "output_type": "display_data"
    }
   ],
   "source": [
    "table = IndividualTable(cvalidator.get_error_free_individual_list())\n",
    "display(HTML(table.to_html()))"
   ]
  },
  {
   "cell_type": "code",
   "execution_count": null,
   "id": "97102c2b-8749-47a2-a237-a02f86898199",
   "metadata": {},
   "outputs": [],
   "source": []
  }
 ],
 "metadata": {
  "kernelspec": {
   "display_name": "Python 3 (ipykernel)",
   "language": "python",
   "name": "python3"
  },
  "language_info": {
   "codemirror_mode": {
    "name": "ipython",
    "version": 3
   },
   "file_extension": ".py",
   "mimetype": "text/x-python",
   "name": "python",
   "nbconvert_exporter": "python",
   "pygments_lexer": "ipython3",
   "version": "3.8.10"
  }
 },
 "nbformat": 4,
 "nbformat_minor": 5
}
