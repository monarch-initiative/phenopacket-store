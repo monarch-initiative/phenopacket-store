{
 "cells": [
  {
   "cell_type": "markdown",
   "id": "a39f3c65",
   "metadata": {},
   "source": [
    "# SMARCB1 RTPS1\n",
    "[Rhabdoid tumor predisposition syndrome-1](https://omim.org/entry/609322) (RTPS1) is caused by heterozygous germline mutation in the SMARCB1"
   ]
  },
  {
   "cell_type": "code",
   "execution_count": 1,
   "id": "f0602c0e",
   "metadata": {},
   "outputs": [
    {
     "name": "stdout",
     "output_type": "stream",
     "text": [
      "Using pyphetools version 0.9.108\n"
     ]
    }
   ],
   "source": [
    "from pyphetools.creation import TemplateImporter\n",
    "from pyphetools.visualization import IndividualTable, QcVisualizer\n",
    "from IPython.display import display, HTML\n",
    "import pyphetools\n",
    "print(f\"Using pyphetools version {pyphetools.__version__}\")"
   ]
  },
  {
   "cell_type": "code",
   "execution_count": 2,
   "id": "5a7789fc",
   "metadata": {},
   "outputs": [],
   "source": [
    "template = \"input/SMARCB1_RTPS1_individuals.xlsx\"\n",
    "created_by = \"0000-0002-0736-9199\""
   ]
  },
  {
   "cell_type": "code",
   "execution_count": 3,
   "id": "f17c3924",
   "metadata": {},
   "outputs": [
    {
     "name": "stdout",
     "output_type": "stream",
     "text": [
      "HPO version 2024-08-13\n",
      "Created encoders for 24 fields\n",
      "Importing OMIM:609322, Rhabdoid tumor predisposition syndrome 1, HGNC:11103, SMARCB1,  NM_003073.5\n",
      "We output 14 GA4GH phenopackets to the directory phenopackets\n"
     ]
    }
   ],
   "source": [
    "dup_set = {\"gain of SMARCB1 exon 6\", \"duplication - c.859-?_1001+?dup\", \"dup ex6\" }\n",
    "del_set = {\"del ex1-5\", \"del ex6\", \"del ex1-9\", \"del\", \"22q11.2 distal deletion\"}\n",
    "timporter = TemplateImporter(template=template, created_by=created_by)\n",
    "individual_list, cvalidator = timporter.import_phenopackets_from_template(duplications=dup_set, deletions=del_set)"
   ]
  },
  {
   "cell_type": "code",
   "execution_count": 4,
   "id": "06ec7dbd",
   "metadata": {},
   "outputs": [
    {
     "data": {
      "text/html": [
       "<h2>Cohort validation</h2>\n",
       "<p>Errors found with 1 of 14 phenopackets.</p>\n",
       "<table style=\"border: 2px solid black; align: \"left\">\n",
       "<caption>Error counts</caption>\n",
       "<tr><th style=\"text-align: left;font-weight: bold;\">Level</th><th style=\"text-align: left;font-weight: bold;\">Error category</th><th style=\"text-align: left;font-weight: bold;\">Count</th></tr>\n",
       "<tr><td style=\"text-align: left;\">WARNING</td><td style=\"text-align: left;\">REDUNDANT</td><td style=\"text-align: left;\">1</td></tr>\n",
       "</table>\n",
       "<p>A total of 1 issues were fixed and no individual was removed from the cohort.</p>"
      ],
      "text/plain": [
       "<IPython.core.display.HTML object>"
      ]
     },
     "metadata": {},
     "output_type": "display_data"
    }
   ],
   "source": [
    "qc = QcVisualizer(cohort_validator=cvalidator)\n",
    "display(HTML(qc.to_summary_html()))"
   ]
  },
  {
   "cell_type": "code",
   "execution_count": 5,
   "id": "f6581a8a",
   "metadata": {},
   "outputs": [
    {
     "data": {
      "text/html": [
       "<table style=\"border: 2px solid black; align: \"left\">\n",
       "<caption>14 phenopackets - PMID:34101994 (n=2); PMID:39117932 (n=12)</caption>\n",
       "<tr><th style=\"text-align: left;font-weight: bold;\">Individual</th><th style=\"text-align: left;font-weight: bold;\">Disease</th><th style=\"text-align: left;font-weight: bold;\">Genotype</th><th style=\"text-align: left;font-weight: bold;\">Phenotypic features</th></tr>\n",
       "<tr><td style=\"text-align: left;\">III.1 (MALE; P15Y)</td><td style=\"text-align: left;\">Rhabdoid tumor predisposition syndrome 1 (OMIM:609322)</td><td style=\"text-align: left;\">gain of SMARCB1 exon 6: chromosomal_duplication (SO:1000037)</td><td style=\"text-align: left;\">excluded: Leukemia (HP:0001909): onset ; excluded: Ependymoma (HP:0002888): onset <br/><b>TimeElement(element=Age(iso8601duration=P6Y))</b>: Atypical teratoid/rhabdoid tumor (HP:0034401): onset age {\n",
       "  iso8601duration: \"P6Y\"\n",
       "}\n",
       "</td></tr>\n",
       "<tr><td style=\"text-align: left;\">II.2 (MALE; P54Y)</td><td style=\"text-align: left;\">Rhabdoid tumor predisposition syndrome 1 (OMIM:609322)</td><td style=\"text-align: left;\">gain of SMARCB1 exon 6: chromosomal_duplication (SO:1000037)</td><td style=\"text-align: left;\">excluded: Atypical teratoid/rhabdoid tumor (HP:0034401): onset <br/><b>TimeElement(element=Age(iso8601duration=P47Y))</b>: Leukemia (HP:0001909): onset age {\n",
       "  iso8601duration: \"P47Y\"\n",
       "}\n",
       "<br/><b>TimeElement(element=Age(iso8601duration=P54Y))</b>: Ependymoma (HP:0002888): onset age {\n",
       "  iso8601duration: \"P54Y\"\n",
       "}\n",
       "</td></tr>\n",
       "<tr><td style=\"text-align: left;\">individual 1 (UNKNOWN; P18Y)</td><td style=\"text-align: left;\">Rhabdoid tumor predisposition syndrome 1 (OMIM:609322)</td><td style=\"text-align: left;\">del ex1-5: chromosomal_deletion (SO:1000029)</td><td style=\"text-align: left;\"><b>TimeElement(element=Age(iso8601duration=P11M))</b>: Atypical teratoid/rhabdoid tumor (HP:0034401): onset age {\n",
       "  iso8601duration: \"P11M\"\n",
       "}\n",
       "<br/><b>TimeElement(element=Age(iso8601duration=P9Y))</b>: Rhabdoid tumor (HP:0034557): onset age {\n",
       "  iso8601duration: \"P9Y\"\n",
       "}\n",
       "<br/><b>TimeElement(element=Age(iso8601duration=P14Y))</b>: Schwannoma (HP:0100008): onset age {\n",
       "  iso8601duration: \"P14Y\"\n",
       "}\n",
       "</td></tr>\n",
       "<tr><td style=\"text-align: left;\">individual 2 (UNKNOWN; P14Y)</td><td style=\"text-align: left;\">Rhabdoid tumor predisposition syndrome 1 (OMIM:609322)</td><td style=\"text-align: left;\">duplication - c.859-?_1001+?dup: chromosomal_duplication (SO:1000037)</td><td style=\"text-align: left;\"><b>TimeElement(element=Age(iso8601duration=P1Y10M))</b>: Neuroepithelial neoplasm (HP:0030063): onset age {\n",
       "  iso8601duration: \"P1Y10M\"\n",
       "}\n",
       "</td></tr>\n",
       "<tr><td style=\"text-align: left;\">individual 3 (UNKNOWN; P17Y)</td><td style=\"text-align: left;\">Rhabdoid tumor predisposition syndrome 1 (OMIM:609322)</td><td style=\"text-align: left;\">NM_003073.5:c.61dup (heterozygous)</td><td style=\"text-align: left;\"><b>TimeElement(element=Age(iso8601duration=P2Y))</b>: Atypical teratoid/rhabdoid tumor (HP:0034401): onset age {\n",
       "  iso8601duration: \"P2Y\"\n",
       "}\n",
       "<br/><b>TimeElement(element=Age(iso8601duration=P17Y))</b>: Rhabdoid tumor (HP:0034557): onset age {\n",
       "  iso8601duration: \"P17Y\"\n",
       "}\n",
       "; Schwannoma (HP:0100008): onset age {\n",
       "  iso8601duration: \"P17Y\"\n",
       "}\n",
       "</td></tr>\n",
       "<tr><td style=\"text-align: left;\">individual 4 (UNKNOWN; P5M)</td><td style=\"text-align: left;\">Rhabdoid tumor predisposition syndrome 1 (OMIM:609322)</td><td style=\"text-align: left;\">del ex6: chromosomal_deletion (SO:1000029)</td><td style=\"text-align: left;\"><b>TimeElement(element=Age(iso8601duration=P1M))</b>: Atypical teratoid/rhabdoid tumor (HP:0034401): onset age {\n",
       "  iso8601duration: \"P1M\"\n",
       "}\n",
       "</td></tr>\n",
       "<tr><td style=\"text-align: left;\">individual 5 (UNKNOWN; P9M)</td><td style=\"text-align: left;\">Rhabdoid tumor predisposition syndrome 1 (OMIM:609322)</td><td style=\"text-align: left;\">del ex1-9: chromosomal_deletion (SO:1000029)</td><td style=\"text-align: left;\"><b>TimeElement(element=Age(iso8601duration=P2M))</b>: Atypical teratoid/rhabdoid tumor (HP:0034401): onset age {\n",
       "  iso8601duration: \"P2M\"\n",
       "}\n",
       "</td></tr>\n",
       "<tr><td style=\"text-align: left;\">individual 6 (UNKNOWN; P7M)</td><td style=\"text-align: left;\">Rhabdoid tumor predisposition syndrome 1 (OMIM:609322)</td><td style=\"text-align: left;\">NM_003073.5:c.630_640del (heterozygous)</td><td style=\"text-align: left;\"><b>TimeElement(element=Age(iso8601duration=P2M))</b>: Rhabdoid tumor of the kidney (HP:0034402): onset age {\n",
       "  iso8601duration: \"P2M\"\n",
       "}\n",
       "</td></tr>\n",
       "<tr><td style=\"text-align: left;\">individual 7 (UNKNOWN; P9M)</td><td style=\"text-align: left;\">Rhabdoid tumor predisposition syndrome 1 (OMIM:609322)</td><td style=\"text-align: left;\">NM_003073.5:c.140del (heterozygous)</td><td style=\"text-align: left;\"><b>TimeElement(element=Age(iso8601duration=P4M))</b>: Atypical teratoid/rhabdoid tumor (HP:0034401): onset age {\n",
       "  iso8601duration: \"P4M\"\n",
       "}\n",
       "</td></tr>\n",
       "<tr><td style=\"text-align: left;\">individual 8 (UNKNOWN; P1Y)</td><td style=\"text-align: left;\">Rhabdoid tumor predisposition syndrome 1 (OMIM:609322)</td><td style=\"text-align: left;\">del ex1-5: chromosomal_deletion (SO:1000029)</td><td style=\"text-align: left;\"><b>TimeElement(element=Age(iso8601duration=P4M))</b>: Atypical teratoid/rhabdoid tumor (HP:0034401): onset age {\n",
       "  iso8601duration: \"P4M\"\n",
       "}\n",
       "; Rhabdoid tumor (HP:0034557): onset age {\n",
       "  iso8601duration: \"P4M\"\n",
       "}\n",
       "</td></tr>\n",
       "<tr><td style=\"text-align: left;\">individual 9 (UNKNOWN; P6M)</td><td style=\"text-align: left;\">Rhabdoid tumor predisposition syndrome 1 (OMIM:609322)</td><td style=\"text-align: left;\">del: chromosomal_deletion (SO:1000029)</td><td style=\"text-align: left;\"><b>TimeElement(element=Age(iso8601duration=P5M))</b>: Atypical teratoid/rhabdoid tumor (HP:0034401): onset age {\n",
       "  iso8601duration: \"P5M\"\n",
       "}\n",
       "; Rhabdoid tumor of the kidney (HP:0034402): onset age {\n",
       "  iso8601duration: \"P5M\"\n",
       "}\n",
       "</td></tr>\n",
       "<tr><td style=\"text-align: left;\">individual 10 (UNKNOWN; P3Y)</td><td style=\"text-align: left;\">Rhabdoid tumor predisposition syndrome 1 (OMIM:609322)</td><td style=\"text-align: left;\">dup ex6: chromosomal_duplication (SO:1000037)</td><td style=\"text-align: left;\"><b>TimeElement(element=Age(iso8601duration=P1Y2M))</b>: Atypical teratoid/rhabdoid tumor (HP:0034401): onset age {\n",
       "  iso8601duration: \"P1Y2M\"\n",
       "}\n",
       "</td></tr>\n",
       "<tr><td style=\"text-align: left;\">individual 11 (UNKNOWN; P3Y)</td><td style=\"text-align: left;\">Rhabdoid tumor predisposition syndrome 1 (OMIM:609322)</td><td style=\"text-align: left;\">del ex1-9: chromosomal_deletion (SO:1000029)</td><td style=\"text-align: left;\"><b>TimeElement(element=Age(iso8601duration=P1Y7M))</b>: Atypical teratoid/rhabdoid tumor (HP:0034401): onset age {\n",
       "  iso8601duration: \"P1Y7M\"\n",
       "}\n",
       "</td></tr>\n",
       "<tr><td style=\"text-align: left;\">individual 12 (UNKNOWN; P3Y)</td><td style=\"text-align: left;\">Rhabdoid tumor predisposition syndrome 1 (OMIM:609322)</td><td style=\"text-align: left;\">22q11.2 distal deletion: chromosomal_deletion (SO:1000029)</td><td style=\"text-align: left;\"><b>TimeElement(element=Age(iso8601duration=P5M))</b>: Rhabdoid tumor (HP:0034557): onset age {\n",
       "  iso8601duration: \"P5M\"\n",
       "}\n",
       "</td></tr>\n",
       "</table>"
      ],
      "text/plain": [
       "<IPython.core.display.HTML object>"
      ]
     },
     "metadata": {},
     "output_type": "display_data"
    }
   ],
   "source": [
    "table = IndividualTable(cvalidator.get_error_free_individual_list())\n",
    "display(HTML(table.to_html()))"
   ]
  },
  {
   "cell_type": "code",
   "execution_count": null,
   "id": "97102c2b-8749-47a2-a237-a02f86898199",
   "metadata": {},
   "outputs": [],
   "source": []
  }
 ],
 "metadata": {
  "kernelspec": {
   "display_name": "ps24venv",
   "language": "python",
   "name": "python3"
  },
  "language_info": {
   "codemirror_mode": {
    "name": "ipython",
    "version": 3
   },
   "file_extension": ".py",
   "mimetype": "text/x-python",
   "name": "python",
   "nbconvert_exporter": "python",
   "pygments_lexer": "ipython3",
   "version": "3.12.4"
  }
 },
 "nbformat": 4,
 "nbformat_minor": 5
}
