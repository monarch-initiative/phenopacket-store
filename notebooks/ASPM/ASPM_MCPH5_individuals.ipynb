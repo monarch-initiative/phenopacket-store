{
 "cells": [
  {
   "cell_type": "markdown",
   "metadata": {},
   "source": [
    "# ASPM\n",
    "[primary microcephaly-5 (MCPH5)](https://omim.org/entry/608716)  is caused by homozygous or compound heterozygous mutation in the ASPM gene."
   ]
  },
  {
   "cell_type": "code",
   "execution_count": 3,
   "metadata": {},
   "outputs": [
    {
     "name": "stdout",
     "output_type": "stream",
     "text": [
      "Using pyphetools version 0.9.92\n"
     ]
    }
   ],
   "source": [
    "from pyphetools.creation import TemplateImporter\n",
    "from pyphetools.visualization import IndividualTable, QcVisualizer\n",
    "from IPython.display import display, HTML\n",
    "import pyphetools\n",
    "print(f\"Using pyphetools version {pyphetools.__version__}\")"
   ]
  },
  {
   "cell_type": "code",
   "execution_count": 5,
   "metadata": {},
   "outputs": [],
   "source": [
    "template = \"input/ASPM_MCPH5_individuals.xlsx\"\n",
    "created_by = \"0000-0002-0736-9199\""
   ]
  },
  {
   "cell_type": "code",
   "execution_count": 9,
   "metadata": {},
   "outputs": [
    {
     "name": "stdout",
     "output_type": "stream",
     "text": [
      "HPO version 2024-07-01\n",
      "Created encoders for 46 fields\n",
      "Importing OMIM:608716, Microcephaly 5, primary, autosomal recessive, HGNC:19048, ASPM,  NM_018136.5\n",
      "[INFO] encoding variant \"c.1789C>T\"\n",
      "https://rest.variantvalidator.org/VariantValidator/variantvalidator/hg38/NM_018136.5%3Ac.1789C>T/NM_018136.5?content-type=application%2Fjson\n",
      "[INFO] encoding variant \"c.7782_7783del\"\n",
      "https://rest.variantvalidator.org/VariantValidator/variantvalidator/hg38/NM_018136.5%3Ac.7782_7783del/NM_018136.5?content-type=application%2Fjson\n",
      "[INFO] encoding variant \"c.9697C>T\"\n",
      "https://rest.variantvalidator.org/VariantValidator/variantvalidator/hg38/NM_018136.5%3Ac.9697C>T/NM_018136.5?content-type=application%2Fjson\n",
      "[INFO] encoding variant \"c.688del\"\n",
      "https://rest.variantvalidator.org/VariantValidator/variantvalidator/hg38/NM_018136.5%3Ac.688del/NM_018136.5?content-type=application%2Fjson\n",
      "[INFO] encoding variant \"c.9190C>T\"\n",
      "https://rest.variantvalidator.org/VariantValidator/variantvalidator/hg38/NM_018136.5%3Ac.9190C>T/NM_018136.5?content-type=application%2Fjson\n",
      "[INFO] encoding variant \"c.4612C>T\"\n",
      "https://rest.variantvalidator.org/VariantValidator/variantvalidator/hg38/NM_018136.5%3Ac.4612C>T/NM_018136.5?content-type=application%2Fjson\n",
      "[INFO] encoding variant \"c.9742_9745del\"\n",
      "https://rest.variantvalidator.org/VariantValidator/variantvalidator/hg38/NM_018136.5%3Ac.9742_9745del/NM_018136.5?content-type=application%2Fjson\n",
      "[INFO] encoding variant \"c.9541C>T\"\n",
      "https://rest.variantvalidator.org/VariantValidator/variantvalidator/hg38/NM_018136.5%3Ac.9541C>T/NM_018136.5?content-type=application%2Fjson\n",
      "[INFO] encoding variant \"c.1959_1961del\"\n",
      "https://rest.variantvalidator.org/VariantValidator/variantvalidator/hg38/NM_018136.5%3Ac.1959_1961del/NM_018136.5?content-type=application%2Fjson\n",
      "[INFO] encoding variant \"c.7491T>G\"\n",
      "https://rest.variantvalidator.org/VariantValidator/variantvalidator/hg38/NM_018136.5%3Ac.7491T>G/NM_018136.5?content-type=application%2Fjson\n",
      "[INFO] encoding variant \"c.10168C>T\"\n",
      "https://rest.variantvalidator.org/VariantValidator/variantvalidator/hg38/NM_018136.5%3Ac.10168C>T/NM_018136.5?content-type=application%2Fjson\n",
      "[INFO] encoding variant \"c.3108_3114del\"\n",
      "https://rest.variantvalidator.org/VariantValidator/variantvalidator/hg38/NM_018136.5%3Ac.3108_3114del/NM_018136.5?content-type=application%2Fjson\n",
      "[INFO] encoding variant \"c.3340delA\"\n",
      "https://rest.variantvalidator.org/VariantValidator/variantvalidator/hg38/NM_018136.5%3Ac.3340delA/NM_018136.5?content-type=application%2Fjson\n",
      "[INFO] encoding variant \"c.3979C>T\"\n",
      "https://rest.variantvalidator.org/VariantValidator/variantvalidator/hg38/NM_018136.5%3Ac.3979C>T/NM_018136.5?content-type=application%2Fjson\n",
      "[INFO] encoding variant \"c.2936+1G>A\"\n",
      "https://rest.variantvalidator.org/VariantValidator/variantvalidator/hg38/NM_018136.5%3Ac.2936+1G>A/NM_018136.5?content-type=application%2Fjson\n",
      "We output 22 GA4GH phenopackets to the directory phenopackets\n"
     ]
    }
   ],
   "source": [
    "timporter = TemplateImporter(template=template,  created_by=created_by)\n",
    "individual_list, cvalidator = timporter.import_phenopackets_from_template()"
   ]
  },
  {
   "cell_type": "code",
   "execution_count": 10,
   "metadata": {},
   "outputs": [
    {
     "data": {
      "text/html": [
       "<h2>Cohort validation</h2>\n",
       "<p>Errors found with 1 of 22 phenopackets.</p>\n",
       "<table style=\"border: 2px solid black; align: \"left\">\n",
       "<caption>Error counts</caption>\n",
       "<tr><th style=\"text-align: left;font-weight: bold;\">Level</th><th style=\"text-align: left;font-weight: bold;\">Error category</th><th style=\"text-align: left;font-weight: bold;\">Count</th></tr>\n",
       "<tr><td style=\"text-align: left;\">WARNING</td><td style=\"text-align: left;\">REDUNDANT</td><td style=\"text-align: left;\">1</td></tr>\n",
       "</table>\n",
       "<p>A total of 1 issues were fixed and no individual was removed from the cohort.</p>"
      ],
      "text/plain": [
       "<IPython.core.display.HTML object>"
      ]
     },
     "metadata": {},
     "output_type": "display_data"
    }
   ],
   "source": [
    "qc = QcVisualizer(cohort_validator=cvalidator)\n",
    "display(HTML(qc.to_summary_html()))"
   ]
  },
  {
   "cell_type": "code",
   "execution_count": 11,
   "metadata": {},
   "outputs": [
    {
     "data": {
      "text/html": [
       "<table style=\"border: 2px solid black; align: \"left\">\n",
       "<caption>22 phenopackets - PMID:27250695 (n=21); PMID:29644084 (n=1)</caption>\n",
       "<tr><th style=\"text-align: left;font-weight: bold;\">Individual</th><th style=\"text-align: left;font-weight: bold;\">Disease</th><th style=\"text-align: left;font-weight: bold;\">Genotype</th><th style=\"text-align: left;font-weight: bold;\">Phenotypic features</th></tr>\n",
       "<tr><td style=\"text-align: left;\">Family 1 patient 1 (FEMALE; P1Y1M)</td><td style=\"text-align: left;\">Microcephaly 5, primary, autosomal recessive (OMIM:608716)</td><td style=\"text-align: left;\">NM_018136.5:c.688del (homozygous)</td><td style=\"text-align: left;\">Intellectual disability (HP:0001249); Decreased body weight (HP:0004325); Aggressive behavior (HP:0000718); Self-injurious behavior (HP:0100716); Hyperactivity (HP:0000752); Microcephaly (HP:0000252); excluded: Short stature (HP:0004322); excluded: Seizure (HP:0001250)</td></tr>\n",
       "<tr><td style=\"text-align: left;\">Family 2 patient 2 (FEMALE; P9Y)</td><td style=\"text-align: left;\">Microcephaly 5, primary, autosomal recessive (OMIM:608716)</td><td style=\"text-align: left;\"><ul> <li>NM_018136.5:c.688del (heterozygous)</li> <li>NM_018136.5:c.3341del (heterozygous)</li> </ul></td><td style=\"text-align: left;\">Intellectual disability (HP:0001249); Short stature (HP:0004322); Microcephaly (HP:0000252); excluded: Decreased body weight (HP:0004325); excluded: Seizure (HP:0001250); excluded: Aggressive behavior (HP:0000718); excluded: Self-injurious behavior (HP:0100716); excluded: Hyperactivity (HP:0000752)</td></tr>\n",
       "<tr><td style=\"text-align: left;\">Family 2 patient 3 (FEMALE; P7Y)</td><td style=\"text-align: left;\">Microcephaly 5, primary, autosomal recessive (OMIM:608716)</td><td style=\"text-align: left;\"><ul> <li>NM_018136.5:c.688del (heterozygous)</li> <li>NM_018136.5:c.3341del (heterozygous)</li> </ul></td><td style=\"text-align: left;\">Intellectual disability (HP:0001249); Short stature (HP:0004322); Decreased body weight (HP:0004325); Microcephaly (HP:0000252); excluded: Seizure (HP:0001250); excluded: Aggressive behavior (HP:0000718); excluded: Self-injurious behavior (HP:0100716); excluded: Hyperactivity (HP:0000752)</td></tr>\n",
       "<tr><td style=\"text-align: left;\">Family 3 patient 4 (FEMALE; P13Y)</td><td style=\"text-align: left;\">Microcephaly 5, primary, autosomal recessive (OMIM:608716)</td><td style=\"text-align: left;\"><ul> <li>NM_018136.5:c.688del (heterozygous)</li> <li>NM_018136.5:c.9190C>T (heterozygous)</li> </ul></td><td style=\"text-align: left;\">Intellectual disability (HP:0001249); Short stature (HP:0004322); Decreased body weight (HP:0004325); Hyperactivity (HP:0000752); Microcephaly (HP:0000252); excluded: Seizure (HP:0001250); excluded: Aggressive behavior (HP:0000718); excluded: Self-injurious behavior (HP:0100716)</td></tr>\n",
       "<tr><td style=\"text-align: left;\">Family 4 patient 5 (FEMALE; P6Y)</td><td style=\"text-align: left;\">Microcephaly 5, primary, autosomal recessive (OMIM:608716)</td><td style=\"text-align: left;\"><ul> <li>NM_018136.5:c.1789C>T (heterozygous)</li> <li>NM_018136.5:c.10168C>T (heterozygous)</li> </ul></td><td style=\"text-align: left;\">Intellectual disability (HP:0001249); Decreased body weight (HP:0004325); Microcephaly (HP:0000252); excluded: Short stature (HP:0004322); excluded: Seizure (HP:0001250); excluded: Aggressive behavior (HP:0000718); excluded: Self-injurious behavior (HP:0100716); excluded: Hyperactivity (HP:0000752)</td></tr>\n",
       "<tr><td style=\"text-align: left;\">Family 5 patient 6 (MALE; P1Y7M)</td><td style=\"text-align: left;\">Microcephaly 5, primary, autosomal recessive (OMIM:608716)</td><td style=\"text-align: left;\">NM_018136.5:c.1959_1961del (homozygous)</td><td style=\"text-align: left;\">Intellectual disability (HP:0001249); Hyperactivity (HP:0000752); Microcephaly (HP:0000252); excluded: Short stature (HP:0004322); excluded: Decreased body weight (HP:0004325); excluded: Seizure (HP:0001250); excluded: Aggressive behavior (HP:0000718); excluded: Self-injurious behavior (HP:0100716)</td></tr>\n",
       "<tr><td style=\"text-align: left;\">Family 6 patient 7 (MALE; P5Y6M)</td><td style=\"text-align: left;\">Microcephaly 5, primary, autosomal recessive (OMIM:608716)</td><td style=\"text-align: left;\">NM_018136.5:c.9541C>T (homozygous)</td><td style=\"text-align: left;\">Intellectual disability (HP:0001249); Short stature (HP:0004322); Decreased body weight (HP:0004325); Hyperactivity (HP:0000752); Microcephaly (HP:0000252); excluded: Seizure (HP:0001250); excluded: Aggressive behavior (HP:0000718); excluded: Self-injurious behavior (HP:0100716)</td></tr>\n",
       "<tr><td style=\"text-align: left;\">Family 7 patient 8 (MALE; P11Y)</td><td style=\"text-align: left;\">Microcephaly 5, primary, autosomal recessive (OMIM:608716)</td><td style=\"text-align: left;\"><ul> <li>NM_018136.5:c.2936+1G>A (heterozygous)</li> <li>NM_018136.5:c.7491T>G (heterozygous)</li> </ul></td><td style=\"text-align: left;\">Intellectual disability (HP:0001249); Microcephaly (HP:0000252); excluded: Short stature (HP:0004322); excluded: Decreased body weight (HP:0004325); excluded: Seizure (HP:0001250); excluded: Aggressive behavior (HP:0000718); excluded: Self-injurious behavior (HP:0100716); excluded: Hyperactivity (HP:0000752)</td></tr>\n",
       "<tr><td style=\"text-align: left;\">Family 8 patient 9 (MALE; P6Y2M)</td><td style=\"text-align: left;\">Microcephaly 5, primary, autosomal recessive (OMIM:608716)</td><td style=\"text-align: left;\">NM_018136.5:c.3108_3114del (homozygous)</td><td style=\"text-align: left;\">Short stature (HP:0004322); Decreased body weight (HP:0004325); Microcephaly (HP:0000252); excluded: Seizure (HP:0001250); excluded: Aggressive behavior (HP:0000718); excluded: Self-injurious behavior (HP:0100716); excluded: Hyperactivity (HP:0000752)</td></tr>\n",
       "<tr><td style=\"text-align: left;\">Family 8 patient 10 (MALE; P7M)</td><td style=\"text-align: left;\">Microcephaly 5, primary, autosomal recessive (OMIM:608716)</td><td style=\"text-align: left;\">NM_018136.5:c.3108_3114del (homozygous)</td><td style=\"text-align: left;\">Intellectual disability (HP:0001249); Short stature (HP:0004322); Decreased body weight (HP:0004325); Microcephaly (HP:0000252); excluded: Seizure (HP:0001250); excluded: Aggressive behavior (HP:0000718); excluded: Self-injurious behavior (HP:0100716)</td></tr>\n",
       "<tr><td style=\"text-align: left;\">Family 9 patient 11 (FEMALE; P9M)</td><td style=\"text-align: left;\">Microcephaly 5, primary, autosomal recessive (OMIM:608716)</td><td style=\"text-align: left;\">NM_018136.5:c.3979C>T (homozygous)</td><td style=\"text-align: left;\">Intellectual disability (HP:0001249); Short stature (HP:0004322); Decreased body weight (HP:0004325); Aggressive behavior (HP:0000718); Self-injurious behavior (HP:0100716); Microcephaly (HP:0000252); excluded: Seizure (HP:0001250); excluded: Hyperactivity (HP:0000752)</td></tr>\n",
       "<tr><td style=\"text-align: left;\">Family 10 patient 12 (FEMALE; P4M)</td><td style=\"text-align: left;\">Microcephaly 5, primary, autosomal recessive (OMIM:608716)</td><td style=\"text-align: left;\">NM_018136.5:c.3979C>T (homozygous)</td><td style=\"text-align: left;\">Intellectual disability (HP:0001249); Short stature (HP:0004322); Decreased body weight (HP:0004325); Microcephaly (HP:0000252); excluded: Seizure (HP:0001250); excluded: Aggressive behavior (HP:0000718); excluded: Self-injurious behavior (HP:0100716); excluded: Hyperactivity (HP:0000752)</td></tr>\n",
       "<tr><td style=\"text-align: left;\">Family 10 patient 13 (FEMALE; P14Y)</td><td style=\"text-align: left;\">Microcephaly 5, primary, autosomal recessive (OMIM:608716)</td><td style=\"text-align: left;\">NM_018136.5:c.3979C>T (homozygous)</td><td style=\"text-align: left;\">Short stature (HP:0004322); Decreased body weight (HP:0004325); Seizure (HP:0001250); Microcephaly (HP:0000252); excluded: Aggressive behavior (HP:0000718); excluded: Self-injurious behavior (HP:0100716); excluded: Hyperactivity (HP:0000752)</td></tr>\n",
       "<tr><td style=\"text-align: left;\">Family 10 patient 14 (FEMALE; P2Y6M)</td><td style=\"text-align: left;\">Microcephaly 5, primary, autosomal recessive (OMIM:608716)</td><td style=\"text-align: left;\">NM_018136.5:c.3979C>T (homozygous)</td><td style=\"text-align: left;\">Intellectual disability (HP:0001249); Short stature (HP:0004322); Decreased body weight (HP:0004325); Microcephaly (HP:0000252); excluded: Seizure (HP:0001250); excluded: Aggressive behavior (HP:0000718); excluded: Self-injurious behavior (HP:0100716); excluded: Hyperactivity (HP:0000752)</td></tr>\n",
       "<tr><td style=\"text-align: left;\">Family 11 patient 15 (FEMALE; P17Y)</td><td style=\"text-align: left;\">Microcephaly 5, primary, autosomal recessive (OMIM:608716)</td><td style=\"text-align: left;\">NM_018136.5:c.3979C>T (homozygous)</td><td style=\"text-align: left;\">Intellectual disability (HP:0001249); Short stature (HP:0004322); Decreased body weight (HP:0004325); Microcephaly (HP:0000252); excluded: Seizure (HP:0001250); excluded: Aggressive behavior (HP:0000718); excluded: Self-injurious behavior (HP:0100716); excluded: Hyperactivity (HP:0000752)</td></tr>\n",
       "<tr><td style=\"text-align: left;\">Family 12 patient 16 (MALE; P3Y)</td><td style=\"text-align: left;\">Microcephaly 5, primary, autosomal recessive (OMIM:608716)</td><td style=\"text-align: left;\">NM_018136.5:c.4612C>T (homozygous)</td><td style=\"text-align: left;\">Intellectual disability (HP:0001249); Hyperactivity (HP:0000752); Microcephaly (HP:0000252); excluded: Short stature (HP:0004322); excluded: Decreased body weight (HP:0004325); excluded: Seizure (HP:0001250); excluded: Aggressive behavior (HP:0000718); excluded: Self-injurious behavior (HP:0100716)</td></tr>\n",
       "<tr><td style=\"text-align: left;\">Family 13 patient 17 (FEMALE; P4Y2M)</td><td style=\"text-align: left;\">Microcephaly 5, primary, autosomal recessive (OMIM:608716)</td><td style=\"text-align: left;\">NM_018136.5:c.9190C>T (homozygous)</td><td style=\"text-align: left;\">Short stature (HP:0004322); Decreased body weight (HP:0004325); Aggressive behavior (HP:0000718); Hyperactivity (HP:0000752); Microcephaly (HP:0000252); excluded: Seizure (HP:0001250); excluded: Self-injurious behavior (HP:0100716)</td></tr>\n",
       "<tr><td style=\"text-align: left;\">Family 13 patient 18 (FEMALE; P2Y7M)</td><td style=\"text-align: left;\">Microcephaly 5, primary, autosomal recessive (OMIM:608716)</td><td style=\"text-align: left;\">NM_018136.5:c.9190C>T (homozygous)</td><td style=\"text-align: left;\">Intellectual disability (HP:0001249); Short stature (HP:0004322); Microcephaly (HP:0000252); excluded: Decreased body weight (HP:0004325); excluded: Seizure (HP:0001250); excluded: Aggressive behavior (HP:0000718); excluded: Self-injurious behavior (HP:0100716); excluded: Hyperactivity (HP:0000752)</td></tr>\n",
       "<tr><td style=\"text-align: left;\">Family 14 patient 19 (MALE; P3Y9M)</td><td style=\"text-align: left;\">Microcephaly 5, primary, autosomal recessive (OMIM:608716)</td><td style=\"text-align: left;\">NM_018136.5:c.9541C>T (homozygous)</td><td style=\"text-align: left;\">Intellectual disability (HP:0001249); Short stature (HP:0004322); Hyperactivity (HP:0000752); Microcephaly (HP:0000252); excluded: Decreased body weight (HP:0004325); excluded: Seizure (HP:0001250); excluded: Aggressive behavior (HP:0000718); excluded: Self-injurious behavior (HP:0100716)</td></tr>\n",
       "<tr><td style=\"text-align: left;\">Family 15 patient 20 (FEMALE; P9M)</td><td style=\"text-align: left;\">Microcephaly 5, primary, autosomal recessive (OMIM:608716)</td><td style=\"text-align: left;\">NM_018136.5:c.9697C>T (homozygous)</td><td style=\"text-align: left;\">Intellectual disability (HP:0001249); Microcephaly (HP:0000252); excluded: Short stature (HP:0004322); excluded: Decreased body weight (HP:0004325); excluded: Seizure (HP:0001250); excluded: Aggressive behavior (HP:0000718); excluded: Self-injurious behavior (HP:0100716); excluded: Hyperactivity (HP:0000752)</td></tr>\n",
       "<tr><td style=\"text-align: left;\">Family 15 patient 21 (FEMALE; P4Y)</td><td style=\"text-align: left;\">Microcephaly 5, primary, autosomal recessive (OMIM:608716)</td><td style=\"text-align: left;\">NM_018136.5:c.9697C>T (homozygous)</td><td style=\"text-align: left;\">Short stature (HP:0004322); Decreased body weight (HP:0004325); Microcephaly (HP:0000252); excluded: Seizure (HP:0001250); excluded: Aggressive behavior (HP:0000718); excluded: Self-injurious behavior (HP:0100716); excluded: Hyperactivity (HP:0000752)</td></tr>\n",
       "<tr><td style=\"text-align: left;\">patient (MALE; P5Y)</td><td style=\"text-align: left;\">Microcephaly 5, primary, autosomal recessive (OMIM:608716)</td><td style=\"text-align: left;\"><ul> <li>NM_018136.5:c.7782_7783del (heterozygous)</li> <li>NM_018136.5:c.9742_9745del (heterozygous)</li> </ul></td><td style=\"text-align: left;\"><b>P5Y</b>: Upslanted palpebral fissure (HP:0000582); Epicanthus (HP:0000286); High palate (HP:0000218); Micrognathia (HP:0000347)<br/>Motor delay (HP:0001270); Microcephaly (HP:0000252); Opisthotonus (HP:0002179); Simplified gyral pattern (HP:0009879); Lateral ventricle dilatation (HP:0006956); Intellectual disability (HP:0001249); Short stature (HP:0004322); Delayed speech and language development (HP:0000750); excluded: Decreased body weight (HP:0004325)</td></tr>\n",
       "</table>"
      ],
      "text/plain": [
       "<IPython.core.display.HTML object>"
      ]
     },
     "metadata": {},
     "output_type": "display_data"
    }
   ],
   "source": [
    "table = IndividualTable(cvalidator.get_error_free_individual_list())\n",
    "display(HTML(table.to_html()))"
   ]
  },
  {
   "cell_type": "code",
   "execution_count": 12,
   "metadata": {},
   "outputs": [
    {
     "name": "stdout",
     "output_type": "stream",
     "text": [
      "[pyphetools] Ingested 22 GA4GH phenopackets.\n",
      "[INFO] Extracted 22 from 22 phenopackets with OMIM:608716\n",
      "\n",
      "\tMicrocephaly 5, primary, autosomal recessive (OMIM:608716): n=22\n",
      "We found a total of 17 unique HPO terms\n",
      "Extracted disease: Microcephaly 5, primary, autosomal recessive (OMIM:608716)\n",
      "Wrote HPOA disease file to OMIM-608716.tab\n"
     ]
    }
   ],
   "source": [
    "pmid = \"PMID:27250695\"\n",
    "df = timporter.create_hpoa_from_phenopackets(pmid=pmid, moi=\"Autosomal recessive\", target=\"OMIM:608716\")"
   ]
  },
  {
   "cell_type": "code",
   "execution_count": null,
   "metadata": {},
   "outputs": [],
   "source": []
  }
 ],
 "metadata": {
  "kernelspec": {
   "display_name": "ps24venv",
   "language": "python",
   "name": "python3"
  },
  "language_info": {
   "codemirror_mode": {
    "name": "ipython",
    "version": 3
   },
   "file_extension": ".py",
   "mimetype": "text/x-python",
   "name": "python",
   "nbconvert_exporter": "python",
   "pygments_lexer": "ipython3",
   "version": "3.12.4"
  }
 },
 "nbformat": 4,
 "nbformat_minor": 2
}
