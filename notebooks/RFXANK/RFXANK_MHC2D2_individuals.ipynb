{
 "cells": [
  {
   "cell_type": "markdown",
   "metadata": {},
   "source": [
    "# RFXANK\n",
    "[MHC class II deficiency-2 (MHC2D2)](https://omim.org/entry/620815) is caused by homozygous mutation in the RFXANK gene.\n",
    "Note that we exclude Patient P14 (indicated variant: c.163C>T)  and  Patient P18 (indicated variant: c.1480dupC) from \n",
    "Mousavi Khorshidi MS, et al.,  J Clin Immunol. 2023 Nov;43(8):1941-1952. (PMID:37584719) were erroneous according to analysis with variant validator."
   ]
  },
  {
   "cell_type": "code",
   "execution_count": 1,
   "metadata": {},
   "outputs": [
    {
     "name": "stdout",
     "output_type": "stream",
     "text": [
      "Using pyphetools version 0.9.95\n"
     ]
    }
   ],
   "source": [
    "from pyphetools.creation import TemplateImporter, Moi\n",
    "from pyphetools.visualization import IndividualTable, QcVisualizer\n",
    "from IPython.display import display, HTML\n",
    "import pyphetools\n",
    "print(f\"Using pyphetools version {pyphetools.__version__}\")"
   ]
  },
  {
   "cell_type": "code",
   "execution_count": 2,
   "metadata": {},
   "outputs": [],
   "source": [
    "template = \"input/RFXANK_MHC2D2_individuals.xlsx\"\n",
    "created_by = \"0000-0002-0736-9199\""
   ]
  },
  {
   "cell_type": "code",
   "execution_count": 3,
   "metadata": {},
   "outputs": [
    {
     "name": "stdout",
     "output_type": "stream",
     "text": [
      "HPO version 2024-07-01\n",
      "Created encoders for 43 fields\n",
      "ERROR: Error - HPO label ends with whitespace: \\”Chorea \"\n",
      "Importing OMIM:620815, MHC class II deficiency 2, HGNC:9987, RFXANK,  NM_003721.4\n",
      "[INFO] encoding variant \"c.433G>C\"\n",
      "https://rest.variantvalidator.org/VariantValidator/variantvalidator/hg38/NM_003721.4%3Ac.433G>C/NM_003721.4?content-type=application%2Fjson\n",
      "We output 17 GA4GH phenopackets to the directory phenopackets\n"
     ]
    }
   ],
   "source": [
    "timporter = TemplateImporter(template=template,  created_by=created_by)\n",
    "individual_list, cvalidator = timporter.import_phenopackets_from_template()"
   ]
  },
  {
   "cell_type": "code",
   "execution_count": 4,
   "metadata": {},
   "outputs": [
    {
     "data": {
      "text/html": [
       "<h2>Cohort validation</h2>\n",
       "<p>No errors found for the cohort with 17 individuals</p>"
      ],
      "text/plain": [
       "<IPython.core.display.HTML object>"
      ]
     },
     "metadata": {},
     "output_type": "display_data"
    }
   ],
   "source": [
    "qc = QcVisualizer(cohort_validator=cvalidator)\n",
    "display(HTML(qc.to_summary_html()))"
   ]
  },
  {
   "cell_type": "code",
   "execution_count": 5,
   "metadata": {},
   "outputs": [
    {
     "data": {
      "text/html": [
       "<table style=\"border: 2px solid black; align: \"left\">\n",
       "<caption>17 phenopackets - PMID:11313409 (n=1); PMID:37584719 (n=16)</caption>\n",
       "<tr><th style=\"text-align: left;font-weight: bold;\">Individual</th><th style=\"text-align: left;font-weight: bold;\">Disease</th><th style=\"text-align: left;font-weight: bold;\">Genotype</th><th style=\"text-align: left;font-weight: bold;\">Phenotypic features</th></tr>\n",
       "<tr><td style=\"text-align: left;\">patient JER (MALE; P7M14D)</td><td style=\"text-align: left;\">MHC class II deficiency 2 (OMIM:620815)</td><td style=\"text-align: left;\">NM_003721.4:c.271+1G>C (homozygous)</td><td style=\"text-align: left;\"><b>P5M</b>: Decreased circulating IgG level (HP:0004315); Decreased proportion of CD4-positive helper T cells (HP:0005407); Reduced antigen-specific T cell proliferation (HP:0031402); Chronic diarrhea (HP:0002028); Recurrent lower respiratory tract infections (HP:0002783); Chronic mucocutaneous candidiasis (HP:0002728)</td></tr>\n",
       "<tr><td style=\"text-align: left;\">Patient P1 (FEMALE; P11Y)</td><td style=\"text-align: left;\">MHC class II deficiency 2 (OMIM:620815)</td><td style=\"text-align: left;\">NM_003721.4:c.163del (homozygous)</td><td style=\"text-align: left;\">Failure to thrive (HP:0001508); Cytomegalovirus colitis (HP:0033431); Chronic diarrhea (HP:0002028); Recurrent upper respiratory tract infections (HP:0002788); Autoimmune hemolytic anemia (HP:0001890); Cytoplasmic antineutrophil antibody positivity (HP:0032230); excluded: Hepatomegaly (HP:0002240); excluded: Sclerosing cholangitis (HP:0030991); excluded: Recurrent pneumonia (HP:0006532); excluded: Global developmental delay (HP:0001263)</td></tr>\n",
       "<tr><td style=\"text-align: left;\">Patient P2 (MALE; P5Y6M)</td><td style=\"text-align: left;\">MHC class II deficiency 2 (OMIM:620815)</td><td style=\"text-align: left;\">NM_003721.4:c.163del (homozygous)</td><td style=\"text-align: left;\">Failure to thrive (HP:0001508); Cytomegalovirus colitis (HP:0033431); Chronic diarrhea (HP:0002028); Sepsis (HP:0100806); Recurrent pneumonia (HP:0006532); excluded: Recurrent upper respiratory tract infections (HP:0002788); excluded: Hepatomegaly (HP:0002240); excluded: Sclerosing cholangitis (HP:0030991); excluded: Global developmental delay (HP:0001263); excluded: Autoimmune hemolytic anemia (HP:0001890); excluded: Cytoplasmic antineutrophil antibody positivity (HP:0032230)</td></tr>\n",
       "<tr><td style=\"text-align: left;\">Patient P3 (MALE; P6Y)</td><td style=\"text-align: left;\">MHC class II deficiency 2 (OMIM:620815)</td><td style=\"text-align: left;\">NM_003721.4:c.163del (homozygous)</td><td style=\"text-align: left;\">Chronic diarrhea (HP:0002028); Autoimmune hemolytic anemia (HP:0001890); excluded: Failure to thrive (HP:0001508); excluded: Cytomegalovirus colitis (HP:0033431); excluded: Recurrent upper respiratory tract infections (HP:0002788); excluded: Hepatomegaly (HP:0002240); excluded: Sclerosing cholangitis (HP:0030991); excluded: Recurrent pneumonia (HP:0006532); excluded: Global developmental delay (HP:0001263); excluded: Cytoplasmic antineutrophil antibody positivity (HP:0032230)</td></tr>\n",
       "<tr><td style=\"text-align: left;\">Patient P4 (MALE; P9Y)</td><td style=\"text-align: left;\">MHC class II deficiency 2 (OMIM:620815)</td><td style=\"text-align: left;\">NM_003721.4:c.163del (homozygous)</td><td style=\"text-align: left;\">Failure to thrive (HP:0001508); Chronic diarrhea (HP:0002028); Recurrent pneumonia (HP:0006532); excluded: Cytomegalovirus colitis (HP:0033431); excluded: Recurrent upper respiratory tract infections (HP:0002788); excluded: Hepatomegaly (HP:0002240); excluded: Sclerosing cholangitis (HP:0030991); excluded: Global developmental delay (HP:0001263); excluded: Autoimmune hemolytic anemia (HP:0001890); excluded: Cytoplasmic antineutrophil antibody positivity (HP:0032230)</td></tr>\n",
       "<tr><td style=\"text-align: left;\">Patient P5 (MALE; P3Y6M)</td><td style=\"text-align: left;\">MHC class II deficiency 2 (OMIM:620815)</td><td style=\"text-align: left;\">NM_003721.4:c.163del (homozygous)</td><td style=\"text-align: left;\">Failure to thrive (HP:0001508); Cytomegalovirus colitis (HP:0033431); Recurrent upper respiratory tract infections (HP:0002788); Sepsis (HP:0100806); Recurrent pneumonia (HP:0006532); excluded: Chronic diarrhea (HP:0002028); excluded: Hepatomegaly (HP:0002240); excluded: Sclerosing cholangitis (HP:0030991); excluded: Global developmental delay (HP:0001263); excluded: Autoimmune hemolytic anemia (HP:0001890); excluded: Cytoplasmic antineutrophil antibody positivity (HP:0032230)</td></tr>\n",
       "<tr><td style=\"text-align: left;\">Patient P6 (FEMALE; P2Y)</td><td style=\"text-align: left;\">MHC class II deficiency 2 (OMIM:620815)</td><td style=\"text-align: left;\">NM_003721.4:c.163del (homozygous)</td><td style=\"text-align: left;\">Failure to thrive (HP:0001508); Recurrent upper respiratory tract infections (HP:0002788); Hepatomegaly (HP:0002240); Recurrent pneumonia (HP:0006532); excluded: Cytomegalovirus colitis (HP:0033431); excluded: Chronic diarrhea (HP:0002028); excluded: Sclerosing cholangitis (HP:0030991); excluded: Global developmental delay (HP:0001263); excluded: Autoimmune hemolytic anemia (HP:0001890); excluded: Cytoplasmic antineutrophil antibody positivity (HP:0032230)</td></tr>\n",
       "<tr><td style=\"text-align: left;\">Patient P7 (MALE; P11M)</td><td style=\"text-align: left;\">MHC class II deficiency 2 (OMIM:620815)</td><td style=\"text-align: left;\">NM_003721.4:c.338-1G>C (homozygous)</td><td style=\"text-align: left;\">Failure to thrive (HP:0001508); Chronic diarrhea (HP:0002028); Recurrent pneumonia (HP:0006532); excluded: Cytomegalovirus colitis (HP:0033431); excluded: Recurrent upper respiratory tract infections (HP:0002788); excluded: Hepatomegaly (HP:0002240); excluded: Sclerosing cholangitis (HP:0030991); excluded: Global developmental delay (HP:0001263); excluded: Autoimmune hemolytic anemia (HP:0001890); excluded: Cytoplasmic antineutrophil antibody positivity (HP:0032230)</td></tr>\n",
       "<tr><td style=\"text-align: left;\">Patient P8 (FEMALE; P10Y)</td><td style=\"text-align: left;\">MHC class II deficiency 2 (OMIM:620815)</td><td style=\"text-align: left;\">NM_003721.4:c.361G>C (homozygous)</td><td style=\"text-align: left;\">Failure to thrive (HP:0001508); Cytomegalovirus colitis (HP:0033431); Chronic diarrhea (HP:0002028); Recurrent upper respiratory tract infections (HP:0002788); Hepatomegaly (HP:0002240); excluded: Sclerosing cholangitis (HP:0030991); excluded: Recurrent pneumonia (HP:0006532); excluded: Global developmental delay (HP:0001263); excluded: Autoimmune hemolytic anemia (HP:0001890); excluded: Cytoplasmic antineutrophil antibody positivity (HP:0032230)</td></tr>\n",
       "<tr><td style=\"text-align: left;\">Patient P9 (FEMALE; P6Y)</td><td style=\"text-align: left;\">MHC class II deficiency 2 (OMIM:620815)</td><td style=\"text-align: left;\">NM_003721.4:c.390G>A (homozygous)</td><td style=\"text-align: left;\">Failure to thrive (HP:0001508); Chronic diarrhea (HP:0002028); Recurrent pneumonia (HP:0006532); excluded: Cytomegalovirus colitis (HP:0033431); excluded: Recurrent upper respiratory tract infections (HP:0002788); excluded: Hepatomegaly (HP:0002240); excluded: Sclerosing cholangitis (HP:0030991); excluded: Global developmental delay (HP:0001263); excluded: Autoimmune hemolytic anemia (HP:0001890); excluded: Cytoplasmic antineutrophil antibody positivity (HP:0032230)</td></tr>\n",
       "<tr><td style=\"text-align: left;\">Patient P10 (FEMALE; P42Y)</td><td style=\"text-align: left;\">MHC class II deficiency 2 (OMIM:620815)</td><td style=\"text-align: left;\">NM_003721.4:c.438+5G>A (homozygous)</td><td style=\"text-align: left;\">Recurrent upper respiratory tract infections (HP:0002788); Recurrent pneumonia (HP:0006532); Autoimmune hemolytic anemia (HP:0001890); Cytoplasmic antineutrophil antibody positivity (HP:0032230); excluded: Failure to thrive (HP:0001508); excluded: Cytomegalovirus colitis (HP:0033431); excluded: Chronic diarrhea (HP:0002028); excluded: Hepatomegaly (HP:0002240); excluded: Sclerosing cholangitis (HP:0030991); excluded: Global developmental delay (HP:0001263)</td></tr>\n",
       "<tr><td style=\"text-align: left;\">Patient P11 (MALE; P15Y)</td><td style=\"text-align: left;\">MHC class II deficiency 2 (OMIM:620815)</td><td style=\"text-align: left;\">NM_003721.4:c.438+5G>A (homozygous)</td><td style=\"text-align: left;\">Failure to thrive (HP:0001508); Chronic diarrhea (HP:0002028); Recurrent upper respiratory tract infections (HP:0002788); Sclerosing cholangitis (HP:0030991); Recurrent pneumonia (HP:0006532); excluded: Cytomegalovirus colitis (HP:0033431); excluded: Hepatomegaly (HP:0002240); excluded: Global developmental delay (HP:0001263); excluded: Autoimmune hemolytic anemia (HP:0001890); excluded: Cytoplasmic antineutrophil antibody positivity (HP:0032230)</td></tr>\n",
       "<tr><td style=\"text-align: left;\">Patient P12 (MALE; P5Y)</td><td style=\"text-align: left;\">MHC class II deficiency 2 (OMIM:620815)</td><td style=\"text-align: left;\">NM_003721.4:c.563G>A (homozygous)</td><td style=\"text-align: left;\">Failure to thrive (HP:0001508); Chronic diarrhea (HP:0002028); Recurrent pneumonia (HP:0006532); Global developmental delay (HP:0001263); excluded: Cytomegalovirus colitis (HP:0033431); excluded: Recurrent upper respiratory tract infections (HP:0002788); excluded: Hepatomegaly (HP:0002240); excluded: Sclerosing cholangitis (HP:0030991); excluded: Autoimmune hemolytic anemia (HP:0001890); excluded: Cytoplasmic antineutrophil antibody positivity (HP:0032230)</td></tr>\n",
       "<tr><td style=\"text-align: left;\">Patient P13 (MALE; P11M)</td><td style=\"text-align: left;\">MHC class II deficiency 2 (OMIM:620815)</td><td style=\"text-align: left;\">NM_003721.4:c.634C>T (homozygous)</td><td style=\"text-align: left;\">Failure to thrive (HP:0001508); Chronic diarrhea (HP:0002028); Recurrent upper respiratory tract infections (HP:0002788); Recurrent pneumonia (HP:0006532); Global developmental delay (HP:0001263); Lower limb spasticity (HP:0002061); excluded: Cytomegalovirus colitis (HP:0033431); excluded: Hepatomegaly (HP:0002240); excluded: Sclerosing cholangitis (HP:0030991); excluded: Autoimmune hemolytic anemia (HP:0001890); excluded: Cytoplasmic antineutrophil antibody positivity (HP:0032230)</td></tr>\n",
       "<tr><td style=\"text-align: left;\">Patient P15 (MALE; P1Y6M)</td><td style=\"text-align: left;\">MHC class II deficiency 2 (OMIM:620815)</td><td style=\"text-align: left;\">NM_003721.4:c.350del (homozygous)</td><td style=\"text-align: left;\">Chronic diarrhea (HP:0002028); Recurrent pneumonia (HP:0006532); Hypotonia (HP:0001252); Brain atrophy (HP:0012444); excluded: Failure to thrive (HP:0001508); excluded: Cytomegalovirus colitis (HP:0033431); excluded: Recurrent upper respiratory tract infections (HP:0002788); excluded: Hepatomegaly (HP:0002240); excluded: Sclerosing cholangitis (HP:0030991); excluded: Global developmental delay (HP:0001263); excluded: Autoimmune hemolytic anemia (HP:0001890); excluded: Cytoplasmic antineutrophil antibody positivity (HP:0032230)</td></tr>\n",
       "<tr><td style=\"text-align: left;\">Patient P16 (FEMALE; P5Y)</td><td style=\"text-align: left;\">MHC class II deficiency 2 (OMIM:620815)</td><td style=\"text-align: left;\">NM_003721.4:c.467del (homozygous)</td><td style=\"text-align: left;\">Failure to thrive (HP:0001508); Chronic diarrhea (HP:0002028); Recurrent pneumonia (HP:0006532); excluded: Cytomegalovirus colitis (HP:0033431); excluded: Recurrent upper respiratory tract infections (HP:0002788); excluded: Hepatomegaly (HP:0002240); excluded: Sclerosing cholangitis (HP:0030991); excluded: Global developmental delay (HP:0001263); excluded: Autoimmune hemolytic anemia (HP:0001890); excluded: Cytoplasmic antineutrophil antibody positivity (HP:0032230)</td></tr>\n",
       "<tr><td style=\"text-align: left;\">Patient P17 (MALE; P12Y)</td><td style=\"text-align: left;\">MHC class II deficiency 2 (OMIM:620815)</td><td style=\"text-align: left;\"><ul> <li>NM_003721.4:c.433G>C (heterozygous)</li> <li>NM_003721.4:c.433G>C (heterozygous)</li> </ul></td><td style=\"text-align: left;\">Failure to thrive (HP:0001508); Recurrent pneumonia (HP:0006532); excluded: Cytomegalovirus colitis (HP:0033431); excluded: Chronic diarrhea (HP:0002028); excluded: Recurrent upper respiratory tract infections (HP:0002788); excluded: Hepatomegaly (HP:0002240); excluded: Sclerosing cholangitis (HP:0030991); excluded: Global developmental delay (HP:0001263); excluded: Autoimmune hemolytic anemia (HP:0001890); excluded: Cytoplasmic antineutrophil antibody positivity (HP:0032230)</td></tr>\n",
       "</table>"
      ],
      "text/plain": [
       "<IPython.core.display.HTML object>"
      ]
     },
     "metadata": {},
     "output_type": "display_data"
    }
   ],
   "source": [
    "table = IndividualTable(cvalidator.get_error_free_individual_list())\n",
    "display(HTML(table.to_html()))"
   ]
  },
  {
   "cell_type": "code",
   "execution_count": 6,
   "metadata": {},
   "outputs": [
    {
     "name": "stdout",
     "output_type": "stream",
     "text": [
      "[pyphetools] Ingested 17 GA4GH phenopackets.\n",
      "[INFO] Extracted 17 from 17 phenopackets with OMIM:620815\n",
      "\n",
      "\tMHC class II deficiency 2 (OMIM:620815): n=17\n",
      "We found a total of 19 unique HPO terms\n",
      "Extracted disease: MHC class II deficiency 2 (OMIM:620815)\n",
      "Wrote HPOA disease file to OMIM-620815.tab\n"
     ]
    },
    {
     "data": {
      "text/html": [
       "<div>\n",
       "<style scoped>\n",
       "    .dataframe tbody tr th:only-of-type {\n",
       "        vertical-align: middle;\n",
       "    }\n",
       "\n",
       "    .dataframe tbody tr th {\n",
       "        vertical-align: top;\n",
       "    }\n",
       "\n",
       "    .dataframe thead th {\n",
       "        text-align: right;\n",
       "    }\n",
       "</style>\n",
       "<table border=\"1\" class=\"dataframe\">\n",
       "  <thead>\n",
       "    <tr style=\"text-align: right;\">\n",
       "      <th></th>\n",
       "      <th>#diseaseID</th>\n",
       "      <th>diseaseName</th>\n",
       "      <th>phenotypeID</th>\n",
       "      <th>phenotypeName</th>\n",
       "      <th>onsetID</th>\n",
       "      <th>onsetName</th>\n",
       "      <th>frequency</th>\n",
       "      <th>sex</th>\n",
       "      <th>negation</th>\n",
       "      <th>modifier</th>\n",
       "      <th>description</th>\n",
       "      <th>publication</th>\n",
       "      <th>evidence</th>\n",
       "      <th>biocuration</th>\n",
       "    </tr>\n",
       "  </thead>\n",
       "  <tbody>\n",
       "    <tr>\n",
       "      <th>0</th>\n",
       "      <td>OMIM:620815</td>\n",
       "      <td>MHC class II deficiency 2</td>\n",
       "      <td>HP:0001508</td>\n",
       "      <td>Failure to thrive</td>\n",
       "      <td></td>\n",
       "      <td></td>\n",
       "      <td>13/16</td>\n",
       "      <td></td>\n",
       "      <td></td>\n",
       "      <td></td>\n",
       "      <td></td>\n",
       "      <td>PMID:37584719</td>\n",
       "      <td>PCS</td>\n",
       "      <td>ORCID:0000-0002-0736-9199[2024-08-04]</td>\n",
       "    </tr>\n",
       "    <tr>\n",
       "      <th>1</th>\n",
       "      <td>OMIM:620815</td>\n",
       "      <td>MHC class II deficiency 2</td>\n",
       "      <td>HP:0033431</td>\n",
       "      <td>Cytomegalovirus colitis</td>\n",
       "      <td></td>\n",
       "      <td></td>\n",
       "      <td>4/16</td>\n",
       "      <td></td>\n",
       "      <td></td>\n",
       "      <td></td>\n",
       "      <td></td>\n",
       "      <td>PMID:37584719</td>\n",
       "      <td>PCS</td>\n",
       "      <td>ORCID:0000-0002-0736-9199[2024-08-04]</td>\n",
       "    </tr>\n",
       "    <tr>\n",
       "      <th>2</th>\n",
       "      <td>OMIM:620815</td>\n",
       "      <td>MHC class II deficiency 2</td>\n",
       "      <td>HP:0002788</td>\n",
       "      <td>Recurrent upper respiratory tract infections</td>\n",
       "      <td></td>\n",
       "      <td></td>\n",
       "      <td>7/16</td>\n",
       "      <td></td>\n",
       "      <td></td>\n",
       "      <td></td>\n",
       "      <td></td>\n",
       "      <td>PMID:37584719</td>\n",
       "      <td>PCS</td>\n",
       "      <td>ORCID:0000-0002-0736-9199[2024-08-04]</td>\n",
       "    </tr>\n",
       "    <tr>\n",
       "      <th>3</th>\n",
       "      <td>OMIM:620815</td>\n",
       "      <td>MHC class II deficiency 2</td>\n",
       "      <td>HP:0100806</td>\n",
       "      <td>Sepsis</td>\n",
       "      <td></td>\n",
       "      <td></td>\n",
       "      <td>2/2</td>\n",
       "      <td></td>\n",
       "      <td></td>\n",
       "      <td></td>\n",
       "      <td></td>\n",
       "      <td>PMID:37584719</td>\n",
       "      <td>PCS</td>\n",
       "      <td>ORCID:0000-0002-0736-9199[2024-08-04]</td>\n",
       "    </tr>\n",
       "    <tr>\n",
       "      <th>4</th>\n",
       "      <td>OMIM:620815</td>\n",
       "      <td>MHC class II deficiency 2</td>\n",
       "      <td>HP:0006532</td>\n",
       "      <td>Recurrent pneumonia</td>\n",
       "      <td></td>\n",
       "      <td></td>\n",
       "      <td>13/16</td>\n",
       "      <td></td>\n",
       "      <td></td>\n",
       "      <td></td>\n",
       "      <td></td>\n",
       "      <td>PMID:37584719</td>\n",
       "      <td>PCS</td>\n",
       "      <td>ORCID:0000-0002-0736-9199[2024-08-04]</td>\n",
       "    </tr>\n",
       "  </tbody>\n",
       "</table>\n",
       "</div>"
      ],
      "text/plain": [
       "    #diseaseID                diseaseName phenotypeID  \\\n",
       "0  OMIM:620815  MHC class II deficiency 2  HP:0001508   \n",
       "1  OMIM:620815  MHC class II deficiency 2  HP:0033431   \n",
       "2  OMIM:620815  MHC class II deficiency 2  HP:0002788   \n",
       "3  OMIM:620815  MHC class II deficiency 2  HP:0100806   \n",
       "4  OMIM:620815  MHC class II deficiency 2  HP:0006532   \n",
       "\n",
       "                                  phenotypeName onsetID onsetName frequency  \\\n",
       "0                             Failure to thrive                       13/16   \n",
       "1                       Cytomegalovirus colitis                        4/16   \n",
       "2  Recurrent upper respiratory tract infections                        7/16   \n",
       "3                                        Sepsis                         2/2   \n",
       "4                           Recurrent pneumonia                       13/16   \n",
       "\n",
       "  sex negation modifier description    publication evidence  \\\n",
       "0                                    PMID:37584719      PCS   \n",
       "1                                    PMID:37584719      PCS   \n",
       "2                                    PMID:37584719      PCS   \n",
       "3                                    PMID:37584719      PCS   \n",
       "4                                    PMID:37584719      PCS   \n",
       "\n",
       "                             biocuration  \n",
       "0  ORCID:0000-0002-0736-9199[2024-08-04]  \n",
       "1  ORCID:0000-0002-0736-9199[2024-08-04]  \n",
       "2  ORCID:0000-0002-0736-9199[2024-08-04]  \n",
       "3  ORCID:0000-0002-0736-9199[2024-08-04]  \n",
       "4  ORCID:0000-0002-0736-9199[2024-08-04]  "
      ]
     },
     "execution_count": 6,
     "metadata": {},
     "output_type": "execute_result"
    }
   ],
   "source": [
    "pmid = \"PMID:11313409\"\n",
    "df = timporter.create_hpoa_from_phenopackets(pmid=pmid, mode_of_inheritance=Moi.AR, target=\"OMIM:620815\")\n",
    "df.head()"
   ]
  },
  {
   "cell_type": "code",
   "execution_count": null,
   "metadata": {},
   "outputs": [],
   "source": []
  }
 ],
 "metadata": {
  "kernelspec": {
   "display_name": "ps24venv",
   "language": "python",
   "name": "python3"
  },
  "language_info": {
   "codemirror_mode": {
    "name": "ipython",
    "version": 3
   },
   "file_extension": ".py",
   "mimetype": "text/x-python",
   "name": "python",
   "nbconvert_exporter": "python",
   "pygments_lexer": "ipython3",
   "version": "3.12.4"
  }
 },
 "nbformat": 4,
 "nbformat_minor": 2
}
