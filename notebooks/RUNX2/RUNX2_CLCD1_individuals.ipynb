{
 "cells": [
  {
   "cell_type": "markdown",
   "metadata": {},
   "source": [
    "# RUNX2\n",
    "[cleidocranial dysplasia-1 (CLCD1)](https://omim.org/entry/119600) is caused by heterozygous loss-of-function mutation in the RUNX2 gene."
   ]
  },
  {
   "cell_type": "code",
   "execution_count": 5,
   "metadata": {},
   "outputs": [
    {
     "name": "stdout",
     "output_type": "stream",
     "text": [
      "Using pyphetools version 0.9.78\n"
     ]
    }
   ],
   "source": [
    "from pyphetools.creation import TemplateImporter\n",
    "from pyphetools.visualization import IndividualTable, QcVisualizer\n",
    "from IPython.display import display, HTML\n",
    "import pyphetools\n",
    "print(f\"Using pyphetools version {pyphetools.__version__}\")"
   ]
  },
  {
   "cell_type": "code",
   "execution_count": 7,
   "metadata": {},
   "outputs": [],
   "source": [
    "template = \"input/RUNX2_CLCD1_individuals.xlsx\"\n",
    "hp_json = \"../hp.json\"\n",
    "created_by = \"0000-0002-0736-9199\""
   ]
  },
  {
   "cell_type": "code",
   "execution_count": 13,
   "metadata": {},
   "outputs": [
    {
     "name": "stdout",
     "output_type": "stream",
     "text": [
      "HPO version 2024-04-04\n",
      "Created encoders for 66 fields\n",
      "Importing OMIM:119600, Cleidocranial dysplasia, HGNC:10472, RUNX2,  NM_001024630.4\n",
      "We output 8 GA4GH phenopackets to the directory phenopackets\n"
     ]
    }
   ],
   "source": [
    "timporter = TemplateImporter(template=template, hp_json=hp_json, created_by=created_by)\n",
    "individual_list, cvalidator = timporter.import_phenopackets_from_template()\n"
   ]
  },
  {
   "cell_type": "code",
   "execution_count": 14,
   "metadata": {},
   "outputs": [
    {
     "data": {
      "text/html": [
       "<h2>Cohort validation</h2>\n",
       "<p>No errors found for the cohort with 8 individuals</p>"
      ],
      "text/plain": [
       "<IPython.core.display.HTML object>"
      ]
     },
     "metadata": {},
     "output_type": "display_data"
    }
   ],
   "source": [
    "qc = QcVisualizer(cohort_validator=cvalidator)\n",
    "display(HTML(qc.to_summary_html()))"
   ]
  },
  {
   "cell_type": "code",
   "execution_count": 15,
   "metadata": {},
   "outputs": [
    {
     "data": {
      "text/html": [
       "<table style=\"border: 2px solid black; align: \"left\">\n",
       "<caption>8 phenopackets - PMID:31548836 (n=7); PMID:24966961 (n=1)</caption>\n",
       "<tr><th style=\"text-align: left;font-weight: bold;\">Individual</th><th style=\"text-align: left;font-weight: bold;\">Disease</th><th style=\"text-align: left;font-weight: bold;\">Genotype</th><th style=\"text-align: left;font-weight: bold;\">Phenotypic features</th></tr>\n",
       "<tr><td style=\"text-align: left;\">Family_A_II1 (MALE; P3Y)</td><td style=\"text-align: left;\">Cleidocranial dysplasia (OMIM:119600)</td><td style=\"text-align: left;\">NM_001024630.4:c.577C>T (heterozygous)</td><td style=\"text-align: left;\">Syringomyelia (HP:0003396); Frontal bossing (HP:0002007); Wormian bones (HP:0002645); Enamel hypoplasia (HP:0006297); Depressed nasal bridge (HP:0005280); Delayed eruption of primary teeth (HP:0000680); Midface retrusion (HP:0011800); Micrognathia (HP:0000347); Parietal bossing (HP:0000242); Delayed cranial suture closure (HP:0000270); Short clavicles (HP:0000894); Delayed pubic bone ossification (HP:0008788); Hypoplastic iliac wing (HP:0002866); Abnormal facility in opposing the shoulders (HP:0005259); Narrow chest (HP:0000774); Scoliosis (HP:0002650); Short stature (HP:0004322); excluded: Supernumerary tooth (HP:0011069); excluded: Long second metacarpal (HP:0006040); excluded: Hypertelorism (HP:0000316)</td></tr>\n",
       "<tr><td style=\"text-align: left;\">Family_B_II1 (FEMALE; P1Y9M)</td><td style=\"text-align: left;\">Cleidocranial dysplasia (OMIM:119600)</td><td style=\"text-align: left;\">NM_001024630.4:c.574G>A (heterozygous)</td><td style=\"text-align: left;\">Syringomyelia (HP:0003396); Frontal bossing (HP:0002007); Wormian bones (HP:0002645); Enamel hypoplasia (HP:0006297); Depressed nasal bridge (HP:0005280); Delayed eruption of primary teeth (HP:0000680); Midface retrusion (HP:0011800); Micrognathia (HP:0000347); Parietal bossing (HP:0000242); Delayed cranial suture closure (HP:0000270); Short clavicles (HP:0000894); Delayed pubic bone ossification (HP:0008788); Hypoplastic iliac wing (HP:0002866); Abnormal facility in opposing the shoulders (HP:0005259); Narrow chest (HP:0000774); Scoliosis (HP:0002650); Short stature (HP:0004322); Hypertelorism (HP:0000316); excluded: Supernumerary tooth (HP:0011069); excluded: Long second metacarpal (HP:0006040)</td></tr>\n",
       "<tr><td style=\"text-align: left;\">Family_C_II1 (MALE; P9Y11M)</td><td style=\"text-align: left;\">Cleidocranial dysplasia (OMIM:119600)</td><td style=\"text-align: left;\">NM_001024630.4:c.673C>T (heterozygous)</td><td style=\"text-align: left;\">Syringomyelia (HP:0003396); Frontal bossing (HP:0002007); Wormian bones (HP:0002645); Supernumerary tooth (HP:0011069); Enamel hypoplasia (HP:0006297); Depressed nasal bridge (HP:0005280); Delayed eruption of primary teeth (HP:0000680); Midface retrusion (HP:0011800); Micrognathia (HP:0000347); Parietal bossing (HP:0000242); Delayed cranial suture closure (HP:0000270); Short clavicles (HP:0000894); Delayed pubic bone ossification (HP:0008788); Hypoplastic iliac wing (HP:0002866); Abnormal facility in opposing the shoulders (HP:0005259); Narrow chest (HP:0000774); Scoliosis (HP:0002650); Long second metacarpal (HP:0006040); Short stature (HP:0004322); Hypertelorism (HP:0000316)</td></tr>\n",
       "<tr><td style=\"text-align: left;\">Family_D_II1 ()  (MALE; P12Y)</td><td style=\"text-align: left;\">Cleidocranial dysplasia (OMIM:119600)</td><td style=\"text-align: left;\">NM_001024630.4:c.722_725del (heterozygous)</td><td style=\"text-align: left;\">Syringomyelia (HP:0003396); Frontal bossing (HP:0002007); Wormian bones (HP:0002645); Supernumerary tooth (HP:0011069); Enamel hypoplasia (HP:0006297); Depressed nasal bridge (HP:0005280); Delayed eruption of primary teeth (HP:0000680); Midface retrusion (HP:0011800); Micrognathia (HP:0000347); Parietal bossing (HP:0000242); Delayed cranial suture closure (HP:0000270); Short clavicles (HP:0000894); Delayed pubic bone ossification (HP:0008788); Hypoplastic iliac wing (HP:0002866); Abnormal facility in opposing the shoulders (HP:0005259); Narrow chest (HP:0000774); Scoliosis (HP:0002650); Long second metacarpal (HP:0006040); Short stature (HP:0004322); Hypertelorism (HP:0000316)</td></tr>\n",
       "<tr><td style=\"text-align: left;\">Family_E_II1 (FEMALE; P1M)</td><td style=\"text-align: left;\">Cleidocranial dysplasia (OMIM:119600)</td><td style=\"text-align: left;\">NM_001024630.4:c.231_232del (heterozygous)</td><td style=\"text-align: left;\">Syringomyelia (HP:0003396); Frontal bossing (HP:0002007); Wormian bones (HP:0002645); Supernumerary tooth (HP:0011069); Enamel hypoplasia (HP:0006297); Depressed nasal bridge (HP:0005280); Delayed eruption of primary teeth (HP:0000680); Midface retrusion (HP:0011800); Micrognathia (HP:0000347); Parietal bossing (HP:0000242); Delayed cranial suture closure (HP:0000270); Short clavicles (HP:0000894); Delayed pubic bone ossification (HP:0008788); Hypoplastic iliac wing (HP:0002866); Abnormal facility in opposing the shoulders (HP:0005259); Narrow chest (HP:0000774); Scoliosis (HP:0002650); Long second metacarpal (HP:0006040); Short stature (HP:0004322); Hypertelorism (HP:0000316)</td></tr>\n",
       "<tr><td style=\"text-align: left;\">Family_F_III1 (MALE; P3Y)</td><td style=\"text-align: left;\">Cleidocranial dysplasia (OMIM:119600)</td><td style=\"text-align: left;\">NM_001024630.4:c.909C>G (heterozygous)</td><td style=\"text-align: left;\">Syringomyelia (HP:0003396); Frontal bossing (HP:0002007); Wormian bones (HP:0002645); Supernumerary tooth (HP:0011069); Enamel hypoplasia (HP:0006297); Depressed nasal bridge (HP:0005280); Delayed eruption of primary teeth (HP:0000680); Midface retrusion (HP:0011800); Micrognathia (HP:0000347); Parietal bossing (HP:0000242); Delayed cranial suture closure (HP:0000270); Short clavicles (HP:0000894); Delayed pubic bone ossification (HP:0008788); Hypoplastic iliac wing (HP:0002866); Abnormal facility in opposing the shoulders (HP:0005259); Narrow chest (HP:0000774); Scoliosis (HP:0002650); Long second metacarpal (HP:0006040); Short stature (HP:0004322); Hypertelorism (HP:0000316)</td></tr>\n",
       "<tr><td style=\"text-align: left;\">Family_G_III1 (MALE; P6Y)</td><td style=\"text-align: left;\">Cleidocranial dysplasia (OMIM:119600)</td><td style=\"text-align: left;\">NM_001024630.4:c.668G>T (heterozygous)</td><td style=\"text-align: left;\">Syringomyelia (HP:0003396); Frontal bossing (HP:0002007); Wormian bones (HP:0002645); Supernumerary tooth (HP:0011069); Enamel hypoplasia (HP:0006297); Depressed nasal bridge (HP:0005280); Delayed eruption of primary teeth (HP:0000680); Midface retrusion (HP:0011800); Micrognathia (HP:0000347); Parietal bossing (HP:0000242); Delayed cranial suture closure (HP:0000270); Short clavicles (HP:0000894); Delayed pubic bone ossification (HP:0008788); Hypoplastic iliac wing (HP:0002866); Abnormal facility in opposing the shoulders (HP:0005259); Narrow chest (HP:0000774); Scoliosis (HP:0002650); Long second metacarpal (HP:0006040); Short stature (HP:0004322); Hypertelorism (HP:0000316)</td></tr>\n",
       "<tr><td style=\"text-align: left;\">proband (FEMALE; P29Y)</td><td style=\"text-align: left;\">Cleidocranial dysplasia (OMIM:119600)</td><td style=\"text-align: left;\">NM_001024630.4:c.635_638del (heterozygous)</td><td style=\"text-align: left;\">Wormian bones (HP:0002645); Supernumerary tooth (HP:0011069); Dental malocclusion (HP:0000689); Depressed nasal bridge (HP:0005280); Delayed eruption of primary teeth (HP:0000680); Delayed eruption of permanent teeth (HP:0000696); Delayed cranial suture closure (HP:0000270); Short clavicles (HP:0000894); Brachydactyly (HP:0001156); Delayed pubic bone ossification (HP:0008788); Hypoplastic iliac wing (HP:0002866); Aplastic clavicle (HP:0006660); Joint hypermobility (HP:0001382)</td></tr>\n",
       "</table>"
      ],
      "text/plain": [
       "<IPython.core.display.HTML object>"
      ]
     },
     "metadata": {},
     "output_type": "display_data"
    }
   ],
   "source": [
    "table = IndividualTable(cvalidator.get_error_free_individual_list())\n",
    "display(HTML(table.to_html()))"
   ]
  }
 ],
 "metadata": {
  "kernelspec": {
   "display_name": "ps24venv",
   "language": "python",
   "name": "python3"
  },
  "language_info": {
   "codemirror_mode": {
    "name": "ipython",
    "version": 3
   },
   "file_extension": ".py",
   "mimetype": "text/x-python",
   "name": "python",
   "nbconvert_exporter": "python",
   "pygments_lexer": "ipython3",
   "version": "3.9.6"
  }
 },
 "nbformat": 4,
 "nbformat_minor": 2
}
