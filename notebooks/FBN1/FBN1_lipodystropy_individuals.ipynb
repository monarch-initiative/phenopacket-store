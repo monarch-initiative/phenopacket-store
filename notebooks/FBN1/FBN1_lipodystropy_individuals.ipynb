{
 "cells": [
  {
   "cell_type": "markdown",
   "id": "5fb73dac-bac1-40f3-8d42-fd2a11a737d5",
   "metadata": {},
   "source": [
    "# FBN1 Lipodystropy\n",
    "\n",
    "Deleterious variants in FBN1 can be associated with [Marfan lipodystrophy syndrome](https://omim.org/entry/616914)."
   ]
  },
  {
   "cell_type": "code",
   "execution_count": 1,
   "id": "874fdb30-0ad5-4091-ae08-afc4c0c2a1d2",
   "metadata": {},
   "outputs": [
    {
     "name": "stdout",
     "output_type": "stream",
     "text": [
      "pyphetools version 0.9.77\n"
     ]
    }
   ],
   "source": [
    "from pyphetools.creation import TemplateImporter\n",
    "from IPython.display import display, HTML\n",
    "from pyphetools.visualization import QcVisualizer\n",
    "import pyphetools\n",
    "print(f\"pyphetools version {pyphetools.__version__}\")"
   ]
  },
  {
   "cell_type": "code",
   "execution_count": 2,
   "id": "c99e91e0-ad96-4b67-9c1f-91ca4f666b83",
   "metadata": {},
   "outputs": [],
   "source": [
    "template = \"input/FBN1_lipodystrophy_individuals.xlsx\"\n",
    "hp_json = \"../hp.json\"\n",
    "created_by=\"ORCID:0000-0002-0736-9199\"\n",
    "timporter = TemplateImporter(template=template, hp_json=hp_json, created_by=created_by)"
   ]
  },
  {
   "cell_type": "code",
   "execution_count": 3,
   "id": "89e3f62a-ad2a-4c88-b206-8312a166ea16",
   "metadata": {},
   "outputs": [
    {
     "name": "stdout",
     "output_type": "stream",
     "text": [
      "HPO version 2024-01-16\n",
      "Created encoders for 54 fields\n",
      "Importing OMIM:616914, Marfan lipodystrophy syndrome, HGNC:3603, FBN1,  NM_000138.5\n",
      "[INFO] encoding variant \"c.8226+1G>A\"\n",
      "https://rest.variantvalidator.org/VariantValidator/variantvalidator/hg38/NM_000138.5%3Ac.8226+1G>A/NM_000138.5?content-type=application%2Fjson\n",
      "[INFO] encoding variant \"c.8275_8291del\"\n",
      "https://rest.variantvalidator.org/VariantValidator/variantvalidator/hg38/NM_000138.5%3Ac.8275_8291del/NM_000138.5?content-type=application%2Fjson\n",
      "[INFO] encoding variant \"c.8156_8175del\"\n",
      "https://rest.variantvalidator.org/VariantValidator/variantvalidator/hg38/NM_000138.5%3Ac.8156_8175del/NM_000138.5?content-type=application%2Fjson\n",
      "[INFO] encoding variant \"c.8175_8182del\"\n",
      "https://rest.variantvalidator.org/VariantValidator/variantvalidator/hg38/NM_000138.5%3Ac.8175_8182del/NM_000138.5?content-type=application%2Fjson\n",
      "[INFO] encoding variant \"c.8226+5G>A\"\n",
      "https://rest.variantvalidator.org/VariantValidator/variantvalidator/hg38/NM_000138.5%3Ac.8226+5G>A/NM_000138.5?content-type=application%2Fjson\n",
      "[INFO] encoding variant \"c.8226+1G>T\"\n",
      "https://rest.variantvalidator.org/VariantValidator/variantvalidator/hg38/NM_000138.5%3Ac.8226+1G>T/NM_000138.5?content-type=application%2Fjson\n",
      "[INFO] encoding variant \"c.8155_8156del\"\n",
      "https://rest.variantvalidator.org/VariantValidator/variantvalidator/hg38/NM_000138.5%3Ac.8155_8156del/NM_000138.5?content-type=application%2Fjson\n",
      "[INFO] encoding variant \"c.8206dup\"\n",
      "https://rest.variantvalidator.org/VariantValidator/variantvalidator/hg38/NM_000138.5%3Ac.8206dup/NM_000138.5?content-type=application%2Fjson\n",
      "We output 9 GA4GH phenopackets to the directory phenopackets\n"
     ]
    }
   ],
   "source": [
    "individuals, cvalidator = timporter.import_phenopackets_from_template()"
   ]
  },
  {
   "cell_type": "code",
   "execution_count": 4,
   "id": "268bd1e6-1a2f-4085-937f-6004318f0c72",
   "metadata": {},
   "outputs": [
    {
     "data": {
      "text/html": [
       "<h2>Cohort validation</h2>\n",
       "<p>No errors found for the cohort with 9 individuals</p>"
      ],
      "text/plain": [
       "<IPython.core.display.HTML object>"
      ]
     },
     "metadata": {},
     "output_type": "display_data"
    }
   ],
   "source": [
    "qc = QcVisualizer(cohort_validator=cvalidator)\n",
    "display(HTML(qc.to_summary_html()))"
   ]
  },
  {
   "cell_type": "code",
   "execution_count": 5,
   "id": "2bd668a0-4288-4bb2-a0b9-0c9a89fca9a5",
   "metadata": {},
   "outputs": [
    {
     "name": "stdout",
     "output_type": "stream",
     "text": [
      "[pyphetools] Ingested 151 GA4GH phenopackets.\n",
      "[INFO] Extracted 17 from 151 phenopackets with OMIM:616914\n",
      "\n",
      "\tMarfan lipodystrophy syndrome (OMIM:616914): n=17\n",
      "We found a total of 45 unique HPO terms\n",
      "Extracted disease: Marfan lipodystrophy syndrome (OMIM:616914)\n",
      "Wrote HPOA disease file to OMIM-616914.tab\n"
     ]
    }
   ],
   "source": [
    "PMID = \"PMID:20979188\"\n",
    "df = timporter.create_hpoa_from_phenopackets(pmid=PMID, moi=\"Autosomal dominant\",target=\"OMIM:616914\")"
   ]
  },
  {
   "cell_type": "code",
   "execution_count": null,
   "id": "858997a0-5262-421c-8a91-2df2a90bb56a",
   "metadata": {},
   "outputs": [],
   "source": []
  }
 ],
 "metadata": {
  "kernelspec": {
   "display_name": "Python 3 (ipykernel)",
   "language": "python",
   "name": "python3"
  },
  "language_info": {
   "codemirror_mode": {
    "name": "ipython",
    "version": 3
   },
   "file_extension": ".py",
   "mimetype": "text/x-python",
   "name": "python",
   "nbconvert_exporter": "python",
   "pygments_lexer": "ipython3",
   "version": "3.10.12"
  }
 },
 "nbformat": 4,
 "nbformat_minor": 5
}
