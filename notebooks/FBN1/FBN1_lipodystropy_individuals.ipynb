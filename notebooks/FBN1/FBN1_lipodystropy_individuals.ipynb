{
 "cells": [
  {
   "cell_type": "markdown",
   "id": "5fb73dac-bac1-40f3-8d42-fd2a11a737d5",
   "metadata": {},
   "source": [
    "# FBN1 Lipodystropy\n",
    "\n",
    "Deleterious variants in FBN1 can be associated with [Marfan lipodystrophy syndrome](https://omim.org/entry/616914)."
   ]
  },
  {
   "cell_type": "code",
   "execution_count": 1,
   "id": "874fdb30-0ad5-4091-ae08-afc4c0c2a1d2",
   "metadata": {},
   "outputs": [
    {
     "name": "stdout",
     "output_type": "stream",
     "text": [
      "pyphetools version 0.9.110\n"
     ]
    }
   ],
   "source": [
    "from pyphetools.creation import TemplateImporter, Moi\n",
    "from IPython.display import display, HTML\n",
    "from pyphetools.visualization import QcVisualizer, IndividualTable\n",
    "import pyphetools\n",
    "print(f\"pyphetools version {pyphetools.__version__}\")"
   ]
  },
  {
   "cell_type": "code",
   "execution_count": 2,
   "id": "c99e91e0-ad96-4b67-9c1f-91ca4f666b83",
   "metadata": {},
   "outputs": [
    {
     "name": "stdout",
     "output_type": "stream",
     "text": [
      "HPO version 2024-08-13\n",
      "Created encoders for 63 fields\n",
      "Importing OMIM:616914, Marfan lipodystrophy syndrome, HGNC:3603, FBN1,  NM_000138.5\n",
      "We output 9 GA4GH phenopackets to the directory phenopackets\n"
     ]
    }
   ],
   "source": [
    "template = \"input/FBN1_lipodystrophy_individuals.xlsx\"\n",
    "created_by=\"ORCID:0000-0002-0736-9199\"\n",
    "timporter = TemplateImporter(template=template, created_by=created_by)\n",
    "individuals, cvalidator = timporter.import_phenopackets_from_template()"
   ]
  },
  {
   "cell_type": "code",
   "execution_count": 3,
   "id": "268bd1e6-1a2f-4085-937f-6004318f0c72",
   "metadata": {},
   "outputs": [
    {
     "data": {
      "text/html": [
       "<h2>Cohort validation</h2>\n",
       "<p>Errors found with 9 of 9 phenopackets.</p>\n",
       "<table style=\"border: 2px solid black; align: \"left\">\n",
       "<caption>Error counts</caption>\n",
       "<tr><th style=\"text-align: left;font-weight: bold;\">Level</th><th style=\"text-align: left;font-weight: bold;\">Error category</th><th style=\"text-align: left;font-weight: bold;\">Count</th></tr>\n",
       "<tr><td style=\"text-align: left;\">WARNING</td><td style=\"text-align: left;\">REDUNDANT</td><td style=\"text-align: left;\">15</td></tr>\n",
       "</table>\n",
       "<p>A total of 15 issues were fixed and no individual was removed from the cohort.</p>"
      ],
      "text/plain": [
       "<IPython.core.display.HTML object>"
      ]
     },
     "metadata": {},
     "output_type": "display_data"
    }
   ],
   "source": [
    "qc = QcVisualizer(cohort_validator=cvalidator)\n",
    "display(HTML(qc.to_summary_html()))"
   ]
  },
  {
   "cell_type": "code",
   "execution_count": 4,
   "id": "38bc897a",
   "metadata": {},
   "outputs": [
    {
     "data": {
      "text/html": [
       "<table style=\"border: 2px solid black; align: \"left\">\n",
       "<caption>9 phenopackets - PMID:20979188 (n=1); PMID:21594992 (n=1); PMID:21594993 (n=1); PMID:24039054 (n=1); PMID:24613577 (n=1); PMID:24665001 (n=2); PMID:31774634 (n=1); PMID:37845262 (n=1)</caption>\n",
       "<tr><th style=\"text-align: left;font-weight: bold;\">Individual</th><th style=\"text-align: left;font-weight: bold;\">Disease</th><th style=\"text-align: left;font-weight: bold;\">Genotype</th><th style=\"text-align: left;font-weight: bold;\">Phenotypic features</th></tr>\n",
       "<tr><td style=\"text-align: left;\">patient (FEMALE; P25Y)</td><td style=\"text-align: left;\">Marfan lipodystrophy syndrome (OMIM:616914)</td><td style=\"text-align: left;\">NM_000138.5:c.8155_8156del (heterozygous)</td><td style=\"text-align: left;\">Retrognathia (HP:0000278): onset ; Relative macrocephaly (HP:0004482): onset ; Prominent nasal bridge (HP:0000426): onset ; Proptosis (HP:0000520): onset ; Generalized lipodystrophy (HP:0009064): onset ; Arachnodactyly (HP:0001166): onset ; Hyperextensibility of the finger joints (HP:0001187): onset ; Progeroid facial appearance (HP:0005328): onset ; Bruising susceptibility (HP:0000978): onset ; Mitral valve prolapse (HP:0001634): onset ; Prominent superficial veins (HP:0001015): onset ; Kyphosis (HP:0002808): onset ; excluded: Downslanted palpebral fissures (HP:0000494): onset ; excluded: Low-set ears (HP:0000369): onset ; excluded: Tall stature (HP:0000098): onset ; excluded: Pectus excavatum (HP:0000767): onset ; excluded: Reduced upper to lower segment ratio (HP:0012773): onset ; excluded: Arthrogryposis multiplex congenita (HP:0002804): onset ; excluded: Premature birth (HP:0001622): onset <br/><b>TimeElement(element=OntologyClass(id=HP:0003577, label=Congenital onset))</b>: Intrauterine growth retardation (HP:0001511): onset ontology_class {\n",
       "  id: \"HP:0003577\"\n",
       "  label: \"Congenital onset\"\n",
       "}\n",
       "; Small for gestational age (HP:0001518): onset ontology_class {\n",
       "  id: \"HP:0003577\"\n",
       "  label: \"Congenital onset\"\n",
       "}\n",
       "; Reduced subcutaneous adipose tissue (HP:0003758): onset ontology_class {\n",
       "  id: \"HP:0003577\"\n",
       "  label: \"Congenital onset\"\n",
       "}\n",
       "<br/><b>TimeElement(element=OntologyClass(id=HP:0003623, label=Neonatal onset))</b>: Feeding difficulties (HP:0011968): onset ontology_class {\n",
       "  id: \"HP:0003623\"\n",
       "  label: \"Neonatal onset\"\n",
       "}\n",
       "<br/><b>TimeElement(element=Age(iso8601duration=P10Y))</b>: High palate (HP:0000218): onset age {\n",
       "  iso8601duration: \"P10Y\"\n",
       "}\n",
       "; High myopia (HP:0011003): onset age {\n",
       "  iso8601duration: \"P10Y\"\n",
       "}\n",
       "<br/><b>TimeElement(element=Age(iso8601duration=P12Y))</b>: Aortic root aneurysm (HP:0002616): onset age {\n",
       "  iso8601duration: \"P12Y\"\n",
       "}\n",
       "<br/><b>TimeElement(element=Age(iso8601duration=P13Y))</b>: Ectopia lentis (HP:0001083): onset age {\n",
       "  iso8601duration: \"P13Y\"\n",
       "}\n",
       "<br/><b>TimeElement(element=Age(iso8601duration=P25Y))</b>: Dural ectasia (HP:0100775): onset age {\n",
       "  iso8601duration: \"P25Y\"\n",
       "}\n",
       "</td></tr>\n",
       "<tr><td style=\"text-align: left;\">20-year-old man (MALE; P20Y)</td><td style=\"text-align: left;\">Marfan lipodystrophy syndrome (OMIM:616914)</td><td style=\"text-align: left;\">NM_000138.5:c.8156_8175del (heterozygous)</td><td style=\"text-align: left;\">Retrognathia (HP:0000278): onset ; Downslanted palpebral fissures (HP:0000494): onset ; Relative macrocephaly (HP:0004482): onset ; Prominent nasal bridge (HP:0000426): onset ; Narrow nose (HP:0000460): onset ; Proptosis (HP:0000520): onset ; Failure to thrive (HP:0001508): onset ; Intrauterine growth retardation (HP:0001511): onset ; Generalized lipodystrophy (HP:0009064): onset ; Pectus excavatum (HP:0000767): onset ; Arachnodactyly (HP:0001166): onset ; Hyperextensibility of the finger joints (HP:0001187): onset ; Pes planus (HP:0001763): onset ; Premature birth (HP:0001622): onset ; Reduced subcutaneous adipose tissue (HP:0003758): onset ; Progeroid facial appearance (HP:0005328): onset ; Bruising susceptibility (HP:0000978): onset ; excluded: Craniosynostosis (HP:0001363): onset ; excluded: Low-set ears (HP:0000369): onset ; excluded: Tall stature (HP:0000098): onset ; excluded: Reduced upper to lower segment ratio (HP:0012773): onset ; excluded: Arthrogryposis multiplex congenita (HP:0002804): onset ; excluded: Pes valgus (HP:0008081): onset ; excluded: Mitral valve prolapse (HP:0001634): onset ; excluded: Aortic aneurysm (HP:0004942): onset ; excluded: Kyphosis (HP:0002808): onset <br/><b>TimeElement(element=OntologyClass(id=HP:0003593, label=Infantile onset))</b>: Feeding difficulties (HP:0011968): onset ontology_class {\n",
       "  id: \"HP:0003593\"\n",
       "  label: \"Infantile onset\"\n",
       "}\n",
       "<br/><b>TimeElement(element=Age(iso8601duration=P5Y))</b>: High palate (HP:0000218): onset age {\n",
       "  iso8601duration: \"P5Y\"\n",
       "}\n",
       "; High myopia (HP:0011003): onset age {\n",
       "  iso8601duration: \"P5Y\"\n",
       "}\n",
       "<br/><b>TimeElement(element=Age(iso8601duration=P16Y))</b>: Ectopia lentis (HP:0001083): onset age {\n",
       "  iso8601duration: \"P16Y\"\n",
       "}\n",
       "</td></tr>\n",
       "<tr><td style=\"text-align: left;\">patient (FEMALE; P3Y6M)</td><td style=\"text-align: left;\">Marfan lipodystrophy syndrome (OMIM:616914)</td><td style=\"text-align: left;\">NM_000138.5:c.8226+1G>T (heterozygous)</td><td style=\"text-align: left;\">Retrognathia (HP:0000278): onset ; Downslanted palpebral fissures (HP:0000494): onset ; Relative macrocephaly (HP:0004482): onset ; Prominent forehead (HP:0011220): onset ; Prominent nasal bridge (HP:0000426): onset ; High palate (HP:0000218): onset ; Proptosis (HP:0000520): onset ; Generalized lipodystrophy (HP:0009064): onset ; Arachnodactyly (HP:0001166): onset ; Pes valgus (HP:0008081): onset ; Premature birth (HP:0001622): onset ; Reduced subcutaneous adipose tissue (HP:0003758): onset ; Progeroid facial appearance (HP:0005328): onset ; Mitral valve prolapse (HP:0001634): onset ; Triangular face (HP:0000325): onset ; excluded: Low-set ears (HP:0000369): onset ; excluded: High myopia (HP:0011003): onset ; excluded: Ectopia lentis (HP:0001083): onset ; excluded: Arthrogryposis multiplex congenita (HP:0002804): onset ; excluded: Aortic root aneurysm (HP:0002616): onset ; excluded: Kyphosis (HP:0002808): onset <br/><b>TimeElement(element=OntologyClass(id=HP:0003593, label=Infantile onset))</b>: Hydrocephalus (HP:0000238): onset ontology_class {\n",
       "  id: \"HP:0003593\"\n",
       "  label: \"Infantile onset\"\n",
       "}\n",
       "<br/><b>TimeElement(element=Age(iso8601duration=P3Y))</b>: Tall stature (HP:0000098): onset age {\n",
       "  iso8601duration: \"P3Y\"\n",
       "}\n",
       "</td></tr>\n",
       "<tr><td style=\"text-align: left;\">propositus (FEMALE; P10Y)</td><td style=\"text-align: left;\">Marfan lipodystrophy syndrome (OMIM:616914)</td><td style=\"text-align: left;\">NM_000138.5:c.8175_8182del (heterozygous)</td><td style=\"text-align: left;\"><b>TimeElement(element=OntologyClass(id=HP:0034197, label=Third trimester onset))</b>: Fetal tachycardia (HP:6000264): onset ontology_class {\n",
       "  id: \"HP:0034197\"\n",
       "  label: \"Third trimester onset\"\n",
       "}\n",
       "<br/>Scaphocephaly (HP:0030799): onset ; Prominent forehead (HP:0011220): onset ; Craniosynostosis (HP:0001363): onset ; Low-set ears (HP:0000369): onset ; Myopia (HP:0000545): onset ; Proptosis (HP:0000520): onset ; Failure to thrive (HP:0001508): onset ; Generalized lipodystrophy (HP:0009064): onset ; Pectus excavatum (HP:0000767): onset ; Arachnodactyly (HP:0001166): onset ; Arthrogryposis multiplex congenita (HP:0002804): onset ; Dural ectasia (HP:0100775): onset ; Reduced subcutaneous adipose tissue (HP:0003758): onset ; Progeroid facial appearance (HP:0005328): onset ; Hydronephrosis (HP:0000126): onset ; Large fontanelles (HP:0000239): onset ; excluded: Relative macrocephaly (HP:0004482): onset ; excluded: Ectopia lentis (HP:0001083): onset ; excluded: Tall stature (HP:0000098): onset ; excluded: Mitral valve prolapse (HP:0001634): onset ; excluded: Aortic root aneurysm (HP:0002616): onset ; excluded: Kyphosis (HP:0002808): onset </td></tr>\n",
       "<tr><td style=\"text-align: left;\">16-year-old girl (FEMALE; P16Y)</td><td style=\"text-align: left;\">Marfan lipodystrophy syndrome (OMIM:616914)</td><td style=\"text-align: left;\">NM_000138.5:c.8226+1G>A (heterozygous)</td><td style=\"text-align: left;\"><b>TimeElement(element=OntologyClass(id=HP:0034197, label=Third trimester onset))</b>: Intrauterine growth retardation (HP:0001511): onset ontology_class {\n",
       "  id: \"HP:0034197\"\n",
       "  label: \"Third trimester onset\"\n",
       "}\n",
       "<br/>Relative macrocephaly (HP:0004482): onset ; High myopia (HP:0011003): onset ; Proptosis (HP:0000520): onset ; Deeply set eye (HP:0000490): onset ; Generalized lipodystrophy (HP:0009064): onset ; Arachnodactyly (HP:0001166): onset ; Arthrogryposis multiplex congenita (HP:0002804): onset ; Pes valgus (HP:0008081): onset ; Reduced subcutaneous adipose tissue (HP:0003758): onset ; Progeroid facial appearance (HP:0005328): onset ; Aortic root aneurysm (HP:0002616): onset ; excluded: Low-set ears (HP:0000369): onset ; excluded: Tall stature (HP:0000098): onset ; excluded: Pectus excavatum (HP:0000767): onset ; excluded: Bruising susceptibility (HP:0000978): onset ; excluded: Kyphosis (HP:0002808): onset </td></tr>\n",
       "<tr><td style=\"text-align: left;\">Patient 1 (FEMALE; P23Y)</td><td style=\"text-align: left;\">Marfan lipodystrophy syndrome (OMIM:616914)</td><td style=\"text-align: left;\">NM_000138.5:c.8206dup (heterozygous)</td><td style=\"text-align: left;\">Retrognathia (HP:0000278): onset ; High palate (HP:0000218): onset ; Myopia (HP:0000545): onset ; Ectopia lentis (HP:0001083): onset ; Proptosis (HP:0000520): onset ; Generalized lipodystrophy (HP:0009064): onset ; Arachnodactyly (HP:0001166): onset ; Reduced subcutaneous adipose tissue (HP:0003758): onset ; Progeroid facial appearance (HP:0005328): onset ; Scoliosis (HP:0002650): onset ; excluded: Low-set ears (HP:0000369): onset ; excluded: Tall stature (HP:0000098): onset ; excluded: Pectus excavatum (HP:0000767): onset ; excluded: Reduced upper to lower segment ratio (HP:0012773): onset ; excluded: Arthrogryposis multiplex congenita (HP:0002804): onset ; excluded: Pes planus (HP:0001763): onset ; excluded: Bruising susceptibility (HP:0000978): onset ; excluded: Mitral valve prolapse (HP:0001634): onset ; excluded: Aortic root aneurysm (HP:0002616): onset ; excluded: Kyphosis (HP:0002808): onset </td></tr>\n",
       "<tr><td style=\"text-align: left;\">Patient 2 (FEMALE; P17Y)</td><td style=\"text-align: left;\">Marfan lipodystrophy syndrome (OMIM:616914)</td><td style=\"text-align: left;\">NM_000138.5:c.8226+1G>T (heterozygous)</td><td style=\"text-align: left;\">Retrognathia (HP:0000278): onset ; High myopia (HP:0011003): onset ; Proptosis (HP:0000520): onset ; Generalized lipodystrophy (HP:0009064): onset ; Pectus excavatum (HP:0000767): onset ; Arachnodactyly (HP:0001166): onset ; Reduced upper to lower segment ratio (HP:0012773): onset ; Pes planus (HP:0001763): onset ; Reduced subcutaneous adipose tissue (HP:0003758): onset ; Progeroid facial appearance (HP:0005328): onset ; Mitral valve prolapse (HP:0001634): onset ; Aortic root aneurysm (HP:0002616): onset ; Scoliosis (HP:0002650): onset ; excluded: High palate (HP:0000218): onset ; excluded: Low-set ears (HP:0000369): onset ; excluded: Ectopia lentis (HP:0001083): onset ; excluded: Tall stature (HP:0000098): onset ; excluded: Arthrogryposis multiplex congenita (HP:0002804): onset ; excluded: Bruising susceptibility (HP:0000978): onset ; excluded: Kyphosis (HP:0002808): onset </td></tr>\n",
       "<tr><td style=\"text-align: left;\">XH601 (FEMALE; P10Y)</td><td style=\"text-align: left;\">Marfan lipodystrophy syndrome (OMIM:616914)</td><td style=\"text-align: left;\">NM_000138.5:c.8275_8291del (heterozygous)</td><td style=\"text-align: left;\">Myopia (HP:0000545): onset ; Proptosis (HP:0000520): onset ; Generalized lipodystrophy (HP:0009064): onset ; Arachnodactyly (HP:0001166): onset ; Reduced subcutaneous adipose tissue (HP:0003758): onset ; Progeroid facial appearance (HP:0005328): onset ; Bruising susceptibility (HP:0000978): onset ; Mitral valve prolapse (HP:0001634): onset ; Scoliosis (HP:0002650): onset ; excluded: Low-set ears (HP:0000369): onset ; excluded: Ectopia lentis (HP:0001083): onset ; excluded: Tall stature (HP:0000098): onset ; excluded: Pectus excavatum (HP:0000767): onset ; excluded: Arthrogryposis multiplex congenita (HP:0002804): onset ; excluded: Dural ectasia (HP:0100775): onset ; excluded: Aortic root aneurysm (HP:0002616): onset ; excluded: Kyphosis (HP:0002808): onset </td></tr>\n",
       "<tr><td style=\"text-align: left;\">a Japanese patient (FEMALE; P9Y7M)</td><td style=\"text-align: left;\">Marfan lipodystrophy syndrome (OMIM:616914)</td><td style=\"text-align: left;\">NM_000138.5:c.8226+5G>A (heterozygous)</td><td style=\"text-align: left;\">Retrognathia (HP:0000278): onset ; Relative macrocephaly (HP:0004482): onset ; Prominent forehead (HP:0011220): onset ; High palate (HP:0000218): onset ; Narrow nose (HP:0000460): onset ; Myopia (HP:0000545): onset ; Intrauterine growth retardation (HP:0001511): onset ; Generalized lipodystrophy (HP:0009064): onset ; Arachnodactyly (HP:0001166): onset ; Hyperextensibility of the finger joints (HP:0001187): onset ; Pes planus (HP:0001763): onset ; Reduced subcutaneous adipose tissue (HP:0003758): onset ; Progeroid facial appearance (HP:0005328): onset ; Mitral valve prolapse (HP:0001634): onset ; Mitral regurgitation (HP:0001653): onset ; excluded: Low-set ears (HP:0000369): onset ; excluded: Ectopia lentis (HP:0001083): onset ; excluded: Failure to thrive (HP:0001508): onset ; excluded: Tall stature (HP:0000098): onset ; excluded: Pectus excavatum (HP:0000767): onset ; excluded: Reduced upper to lower segment ratio (HP:0012773): onset ; excluded: Arthrogryposis multiplex congenita (HP:0002804): onset ; excluded: Pes valgus (HP:0008081): onset ; excluded: Premature birth (HP:0001622): onset ; excluded: Aortic root aneurysm (HP:0002616): onset ; excluded: Scoliosis (HP:0002650): onset ; excluded: Kyphosis (HP:0002808): onset </td></tr>\n",
       "</table>"
      ],
      "text/plain": [
       "<IPython.core.display.HTML object>"
      ]
     },
     "metadata": {},
     "output_type": "display_data"
    }
   ],
   "source": [
    "table = IndividualTable(cvalidator.get_error_free_individual_list())\n",
    "display(HTML(table.to_html()))"
   ]
  },
  {
   "cell_type": "code",
   "execution_count": 5,
   "id": "2bd668a0-4288-4bb2-a0b9-0c9a89fca9a5",
   "metadata": {},
   "outputs": [
    {
     "name": "stdout",
     "output_type": "stream",
     "text": [
      "[pyphetools] Ingested 144 GA4GH phenopackets.\n",
      "[INFO] Extracted 9 from 144 phenopackets with OMIM:616914\n",
      "\n",
      "\tMarfan lipodystrophy syndrome (OMIM:616914): n=9\n",
      "We found a total of 45 unique HPO terms\n",
      "Extracted disease: Marfan lipodystrophy syndrome (OMIM:616914)\n",
      "Wrote HPOA disease file to OMIM-616914.tab\n"
     ]
    },
    {
     "data": {
      "text/html": [
       "<div>\n",
       "<style scoped>\n",
       "    .dataframe tbody tr th:only-of-type {\n",
       "        vertical-align: middle;\n",
       "    }\n",
       "\n",
       "    .dataframe tbody tr th {\n",
       "        vertical-align: top;\n",
       "    }\n",
       "\n",
       "    .dataframe thead th {\n",
       "        text-align: right;\n",
       "    }\n",
       "</style>\n",
       "<table border=\"1\" class=\"dataframe\">\n",
       "  <thead>\n",
       "    <tr style=\"text-align: right;\">\n",
       "      <th></th>\n",
       "      <th>#diseaseID</th>\n",
       "      <th>diseaseName</th>\n",
       "      <th>phenotypeID</th>\n",
       "      <th>phenotypeName</th>\n",
       "      <th>onsetID</th>\n",
       "      <th>onsetName</th>\n",
       "      <th>frequency</th>\n",
       "      <th>sex</th>\n",
       "      <th>negation</th>\n",
       "      <th>modifier</th>\n",
       "      <th>description</th>\n",
       "      <th>publication</th>\n",
       "      <th>evidence</th>\n",
       "      <th>biocuration</th>\n",
       "    </tr>\n",
       "  </thead>\n",
       "  <tbody>\n",
       "    <tr>\n",
       "      <th>0</th>\n",
       "      <td>OMIM:616914</td>\n",
       "      <td>Marfan lipodystrophy syndrome</td>\n",
       "      <td>HP:0000278</td>\n",
       "      <td>Retrognathia</td>\n",
       "      <td></td>\n",
       "      <td></td>\n",
       "      <td>2/2</td>\n",
       "      <td></td>\n",
       "      <td></td>\n",
       "      <td></td>\n",
       "      <td></td>\n",
       "      <td>PMID:24665001</td>\n",
       "      <td>PCS</td>\n",
       "      <td>ORCID:0000-0002-0736-9199[2024-10-17]</td>\n",
       "    </tr>\n",
       "    <tr>\n",
       "      <th>1</th>\n",
       "      <td>OMIM:616914</td>\n",
       "      <td>Marfan lipodystrophy syndrome</td>\n",
       "      <td>HP:0000218</td>\n",
       "      <td>High palate</td>\n",
       "      <td></td>\n",
       "      <td></td>\n",
       "      <td>1/2</td>\n",
       "      <td></td>\n",
       "      <td></td>\n",
       "      <td></td>\n",
       "      <td></td>\n",
       "      <td>PMID:24665001</td>\n",
       "      <td>PCS</td>\n",
       "      <td>ORCID:0000-0002-0736-9199[2024-10-17]</td>\n",
       "    </tr>\n",
       "    <tr>\n",
       "      <th>2</th>\n",
       "      <td>OMIM:616914</td>\n",
       "      <td>Marfan lipodystrophy syndrome</td>\n",
       "      <td>HP:0000545</td>\n",
       "      <td>Myopia</td>\n",
       "      <td></td>\n",
       "      <td></td>\n",
       "      <td>1/1</td>\n",
       "      <td></td>\n",
       "      <td></td>\n",
       "      <td></td>\n",
       "      <td></td>\n",
       "      <td>PMID:24665001</td>\n",
       "      <td>PCS</td>\n",
       "      <td>ORCID:0000-0002-0736-9199[2024-10-17]</td>\n",
       "    </tr>\n",
       "    <tr>\n",
       "      <th>3</th>\n",
       "      <td>OMIM:616914</td>\n",
       "      <td>Marfan lipodystrophy syndrome</td>\n",
       "      <td>HP:0001083</td>\n",
       "      <td>Ectopia lentis</td>\n",
       "      <td></td>\n",
       "      <td></td>\n",
       "      <td>1/2</td>\n",
       "      <td></td>\n",
       "      <td></td>\n",
       "      <td></td>\n",
       "      <td></td>\n",
       "      <td>PMID:24665001</td>\n",
       "      <td>PCS</td>\n",
       "      <td>ORCID:0000-0002-0736-9199[2024-10-17]</td>\n",
       "    </tr>\n",
       "    <tr>\n",
       "      <th>4</th>\n",
       "      <td>OMIM:616914</td>\n",
       "      <td>Marfan lipodystrophy syndrome</td>\n",
       "      <td>HP:0000520</td>\n",
       "      <td>Proptosis</td>\n",
       "      <td></td>\n",
       "      <td></td>\n",
       "      <td>2/2</td>\n",
       "      <td></td>\n",
       "      <td></td>\n",
       "      <td></td>\n",
       "      <td></td>\n",
       "      <td>PMID:24665001</td>\n",
       "      <td>PCS</td>\n",
       "      <td>ORCID:0000-0002-0736-9199[2024-10-17]</td>\n",
       "    </tr>\n",
       "  </tbody>\n",
       "</table>\n",
       "</div>"
      ],
      "text/plain": [
       "    #diseaseID                    diseaseName phenotypeID   phenotypeName  \\\n",
       "0  OMIM:616914  Marfan lipodystrophy syndrome  HP:0000278    Retrognathia   \n",
       "1  OMIM:616914  Marfan lipodystrophy syndrome  HP:0000218     High palate   \n",
       "2  OMIM:616914  Marfan lipodystrophy syndrome  HP:0000545          Myopia   \n",
       "3  OMIM:616914  Marfan lipodystrophy syndrome  HP:0001083  Ectopia lentis   \n",
       "4  OMIM:616914  Marfan lipodystrophy syndrome  HP:0000520       Proptosis   \n",
       "\n",
       "  onsetID onsetName frequency sex negation modifier description  \\\n",
       "0                         2/2                                     \n",
       "1                         1/2                                     \n",
       "2                         1/1                                     \n",
       "3                         1/2                                     \n",
       "4                         2/2                                     \n",
       "\n",
       "     publication evidence                            biocuration  \n",
       "0  PMID:24665001      PCS  ORCID:0000-0002-0736-9199[2024-10-17]  \n",
       "1  PMID:24665001      PCS  ORCID:0000-0002-0736-9199[2024-10-17]  \n",
       "2  PMID:24665001      PCS  ORCID:0000-0002-0736-9199[2024-10-17]  \n",
       "3  PMID:24665001      PCS  ORCID:0000-0002-0736-9199[2024-10-17]  \n",
       "4  PMID:24665001      PCS  ORCID:0000-0002-0736-9199[2024-10-17]  "
      ]
     },
     "execution_count": 5,
     "metadata": {},
     "output_type": "execute_result"
    }
   ],
   "source": [
    "PMID = \"PMID:20979188\"\n",
    "df = timporter.create_hpoa_from_phenopackets(pmid=PMID, mode_of_inheritance=Moi.AD,target=\"OMIM:616914\")\n",
    "df.head()"
   ]
  },
  {
   "cell_type": "code",
   "execution_count": null,
   "id": "858997a0-5262-421c-8a91-2df2a90bb56a",
   "metadata": {},
   "outputs": [],
   "source": []
  }
 ],
 "metadata": {
  "kernelspec": {
   "display_name": "ps24venv",
   "language": "python",
   "name": "python3"
  },
  "language_info": {
   "codemirror_mode": {
    "name": "ipython",
    "version": 3
   },
   "file_extension": ".py",
   "mimetype": "text/x-python",
   "name": "python",
   "nbconvert_exporter": "python",
   "pygments_lexer": "ipython3",
   "version": "3.12.4"
  }
 },
 "nbformat": 4,
 "nbformat_minor": 5
}
