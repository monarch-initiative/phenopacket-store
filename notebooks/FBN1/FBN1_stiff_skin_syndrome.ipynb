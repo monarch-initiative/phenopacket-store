{
 "cells": [
  {
   "cell_type": "markdown",
   "id": "aa267386",
   "metadata": {},
   "source": [
    "# FBN1\n",
    "\n",
    "[stiff skin syndrome (SSKS)](https://omim.org/entry/184900  ) is caused by heterozygous mutation in the FBN1 gene.\n",
    "[Loeys et al. (2010)](https://pubmed.ncbi.nlm.nih.gov/20375004/)  identified FBN1 variants in 10 individuals with stiff skin syndrome, all located in exon 37. \n",
    "For curation of this article, we took the lower limits of adult height to be 160 cm for men and 150 for women."
   ]
  },
  {
   "cell_type": "code",
   "execution_count": 7,
   "id": "2612dbb1",
   "metadata": {},
   "outputs": [
    {
     "name": "stdout",
     "output_type": "stream",
     "text": [
      "pyphetools version 0.9.110\n"
     ]
    }
   ],
   "source": [
    "from pyphetools.creation import TemplateImporter, Moi\n",
    "from IPython.display import display, HTML\n",
    "from pyphetools.visualization import QcVisualizer, IndividualTable\n",
    "import pyphetools\n",
    "print(f\"pyphetools version {pyphetools.__version__}\")"
   ]
  },
  {
   "cell_type": "code",
   "execution_count": 8,
   "id": "23d9a2b6",
   "metadata": {},
   "outputs": [],
   "source": [
    "template = \"input/FBN1_SSS_individuals.xlsx\"\n",
    "created_by=\"ORCID:0000-0002-0736-9199\"\n",
    "timporter = TemplateImporter(template=template, created_by=created_by)"
   ]
  },
  {
   "cell_type": "code",
   "execution_count": 9,
   "id": "7a52807c",
   "metadata": {},
   "outputs": [
    {
     "name": "stdout",
     "output_type": "stream",
     "text": [
      "HPO version 2024-08-13\n",
      "Created encoders for 33 fields\n",
      "Importing OMIM:184900, Stiff skin syndrome, HGNC:3603, FBN1,  NM_000138.5\n",
      "We output 8 GA4GH phenopackets to the directory phenopackets\n"
     ]
    }
   ],
   "source": [
    "timporter = TemplateImporter(template=template, created_by=created_by)\n",
    "individual_list, cvalidator = timporter.import_phenopackets_from_template()"
   ]
  },
  {
   "cell_type": "code",
   "execution_count": 10,
   "id": "7cb170de",
   "metadata": {},
   "outputs": [
    {
     "data": {
      "text/html": [
       "<h2>Cohort validation</h2>\n",
       "<p>No errors found for the cohort with 8 individuals</p>"
      ],
      "text/plain": [
       "<IPython.core.display.HTML object>"
      ]
     },
     "metadata": {},
     "output_type": "display_data"
    }
   ],
   "source": [
    "qc = QcVisualizer(cohort_validator=cvalidator)\n",
    "display(HTML(qc.to_summary_html()))"
   ]
  },
  {
   "cell_type": "code",
   "execution_count": 11,
   "id": "3d9e1332",
   "metadata": {},
   "outputs": [
    {
     "data": {
      "text/html": [
       "<table style=\"border: 2px solid black; align: \"left\">\n",
       "<caption>8 phenopackets - PMID:20375004 (n=8)</caption>\n",
       "<tr><th style=\"text-align: left;font-weight: bold;\">Individual</th><th style=\"text-align: left;font-weight: bold;\">Disease</th><th style=\"text-align: left;font-weight: bold;\">Genotype</th><th style=\"text-align: left;font-weight: bold;\">Phenotypic features</th></tr>\n",
       "<tr><td style=\"text-align: left;\">1-II:1 (MALE; P51Y)</td><td style=\"text-align: left;\">Stiff skin syndrome (OMIM:184900)</td><td style=\"text-align: left;\">NM_000138.5:c.4710G>C (heterozygous)</td><td style=\"text-align: left;\">Knee contracture (HP:0034671): onset ; Myopia (HP:0000545): onset ; Camptodactyly (HP:0012385): onset ; Elbow contracture (HP:0034391): onset ; Gastroesophageal reflux (HP:0002020): onset ; excluded: Scoliosis (HP:0002650): onset ; excluded: Pectus excavatum (HP:0000767): onset ; excluded: Aortic aneurysm (HP:0004942): onset ; excluded: Entrapment neuropathy (HP:0012181): onset ; excluded: Ectopia lentis (HP:0001083): onset ; excluded: Cataract (HP:0000518): onset ; excluded: Tall stature (HP:0000098): onset ; excluded: Short stature (HP:0004322): onset ; excluded: Arachnodactyly (HP:0001166): onset ; excluded: Limited shoulder flexion (HP:0033482): onset <br/><b>TimeElement(element=OntologyClass(id=HP:0003577, label=Congenital onset))</b>: Stiff skin (HP:0030053): onset ontology_class {\n",
       "  id: \"HP:0003577\"\n",
       "  label: \"Congenital onset\"\n",
       "}\n",
       "</td></tr>\n",
       "<tr><td style=\"text-align: left;\">1-III:2 (FEMALE; P25Y)</td><td style=\"text-align: left;\">Stiff skin syndrome (OMIM:184900)</td><td style=\"text-align: left;\">NM_000138.5:c.4710G>C (heterozygous)</td><td style=\"text-align: left;\">Knee contracture (HP:0034671): onset ; Entrapment neuropathy (HP:0012181): onset ; Myopia (HP:0000545): onset ; Camptodactyly (HP:0012385): onset ; Elbow contracture (HP:0034391): onset ; Limited shoulder flexion (HP:0033482): onset ; Gastroesophageal reflux (HP:0002020): onset ; excluded: Scoliosis (HP:0002650): onset ; excluded: Pectus excavatum (HP:0000767): onset ; excluded: Aortic aneurysm (HP:0004942): onset ; excluded: Ectopia lentis (HP:0001083): onset ; excluded: Cataract (HP:0000518): onset ; excluded: Tall stature (HP:0000098): onset ; excluded: Short stature (HP:0004322): onset ; excluded: Arachnodactyly (HP:0001166): onset <br/><b>TimeElement(element=OntologyClass(id=HP:0003577, label=Congenital onset))</b>: Stiff skin (HP:0030053): onset ontology_class {\n",
       "  id: \"HP:0003577\"\n",
       "  label: \"Congenital onset\"\n",
       "}\n",
       "</td></tr>\n",
       "<tr><td style=\"text-align: left;\">2-III:1 (MALE; P70Y)</td><td style=\"text-align: left;\">Stiff skin syndrome (OMIM:184900)</td><td style=\"text-align: left;\">NM_000138.5:c.4710G>T (heterozygous)</td><td style=\"text-align: left;\">Knee contracture (HP:0034671): onset ; Camptodactyly (HP:0012385): onset ; Elbow contracture (HP:0034391): onset ; Limited shoulder flexion (HP:0033482): onset ; Gastroesophageal reflux (HP:0002020): onset ; excluded: Scoliosis (HP:0002650): onset ; excluded: Pectus excavatum (HP:0000767): onset ; excluded: Aortic aneurysm (HP:0004942): onset ; excluded: Entrapment neuropathy (HP:0012181): onset ; excluded: Myopia (HP:0000545): onset ; excluded: Ectopia lentis (HP:0001083): onset ; excluded: Tall stature (HP:0000098): onset ; excluded: Short stature (HP:0004322): onset ; excluded: Arachnodactyly (HP:0001166): onset <br/><b>TimeElement(element=OntologyClass(id=HP:0003577, label=Congenital onset))</b>: Stiff skin (HP:0030053): onset ontology_class {\n",
       "  id: \"HP:0003577\"\n",
       "  label: \"Congenital onset\"\n",
       "}\n",
       "<br/><b>TimeElement(element=Age(iso8601duration=P62Y))</b>: Cataract (HP:0000518): onset age {\n",
       "  iso8601duration: \"P62Y\"\n",
       "}\n",
       "</td></tr>\n",
       "<tr><td style=\"text-align: left;\">2-IV:2 (FEMALE; P37Y)</td><td style=\"text-align: left;\">Stiff skin syndrome (OMIM:184900)</td><td style=\"text-align: left;\">NM_000138.5:c.4710G>T (heterozygous)</td><td style=\"text-align: left;\">Knee contracture (HP:0034671): onset ; Camptodactyly (HP:0012385): onset ; Elbow contracture (HP:0034391): onset ; Limited shoulder flexion (HP:0033482): onset ; Gastroesophageal reflux (HP:0002020): onset ; excluded: Scoliosis (HP:0002650): onset ; excluded: Pectus excavatum (HP:0000767): onset ; excluded: Aortic aneurysm (HP:0004942): onset ; excluded: Entrapment neuropathy (HP:0012181): onset ; excluded: Myopia (HP:0000545): onset ; excluded: Ectopia lentis (HP:0001083): onset ; excluded: Cataract (HP:0000518): onset ; excluded: Tall stature (HP:0000098): onset ; excluded: Short stature (HP:0004322): onset ; excluded: Arachnodactyly (HP:0001166): onset <br/><b>TimeElement(element=OntologyClass(id=HP:0003577, label=Congenital onset))</b>: Stiff skin (HP:0030053): onset ontology_class {\n",
       "  id: \"HP:0003577\"\n",
       "  label: \"Congenital onset\"\n",
       "}\n",
       "</td></tr>\n",
       "<tr><td style=\"text-align: left;\">3-I:1 (FEMALE; P54Y)</td><td style=\"text-align: left;\">Stiff skin syndrome (OMIM:184900)</td><td style=\"text-align: left;\">NM_000138.5:c.4691G>C (heterozygous)</td><td style=\"text-align: left;\">Knee contracture (HP:0034671): onset ; Myopia (HP:0000545): onset ; Short stature (HP:0004322): onset ; Camptodactyly (HP:0012385): onset ; Elbow contracture (HP:0034391): onset ; Limited shoulder flexion (HP:0033482): onset ; excluded: Scoliosis (HP:0002650): onset ; excluded: Pectus excavatum (HP:0000767): onset ; excluded: Aortic aneurysm (HP:0004942): onset ; excluded: Entrapment neuropathy (HP:0012181): onset ; excluded: Ectopia lentis (HP:0001083): onset ; excluded: Tall stature (HP:0000098): onset ; excluded: Arachnodactyly (HP:0001166): onset ; excluded: Gastroesophageal reflux (HP:0002020): onset <br/><b>TimeElement(element=OntologyClass(id=HP:0003577, label=Congenital onset))</b>: Stiff skin (HP:0030053): onset ontology_class {\n",
       "  id: \"HP:0003577\"\n",
       "  label: \"Congenital onset\"\n",
       "}\n",
       "<br/><b>TimeElement(element=Age(iso8601duration=P47Y))</b>: Cataract (HP:0000518): onset age {\n",
       "  iso8601duration: \"P47Y\"\n",
       "}\n",
       "</td></tr>\n",
       "<tr><td style=\"text-align: left;\">3-II:2 (FEMALE; P22Y)</td><td style=\"text-align: left;\">Stiff skin syndrome (OMIM:184900)</td><td style=\"text-align: left;\">NM_000138.5:c.4691G>C (heterozygous)</td><td style=\"text-align: left;\">Myopia (HP:0000545): onset ; Camptodactyly (HP:0012385): onset ; Elbow contracture (HP:0034391): onset ; Limited shoulder flexion (HP:0033482): onset ; excluded: Knee contracture (HP:0034671): onset ; excluded: Scoliosis (HP:0002650): onset ; excluded: Pectus excavatum (HP:0000767): onset ; excluded: Aortic aneurysm (HP:0004942): onset ; excluded: Entrapment neuropathy (HP:0012181): onset ; excluded: Ectopia lentis (HP:0001083): onset ; excluded: Cataract (HP:0000518): onset ; excluded: Tall stature (HP:0000098): onset ; excluded: Short stature (HP:0004322): onset ; excluded: Arachnodactyly (HP:0001166): onset ; excluded: Gastroesophageal reflux (HP:0002020): onset <br/><b>TimeElement(element=OntologyClass(id=HP:0003577, label=Congenital onset))</b>: Stiff skin (HP:0030053): onset ontology_class {\n",
       "  id: \"HP:0003577\"\n",
       "  label: \"Congenital onset\"\n",
       "}\n",
       "</td></tr>\n",
       "<tr><td style=\"text-align: left;\">3-II:3 (FEMALE; P21Y)</td><td style=\"text-align: left;\">Stiff skin syndrome (OMIM:184900)</td><td style=\"text-align: left;\">NM_000138.5:c.4691G>C (heterozygous)</td><td style=\"text-align: left;\">Knee contracture (HP:0034671): onset ; Myopia (HP:0000545): onset ; Camptodactyly (HP:0012385): onset ; Elbow contracture (HP:0034391): onset ; Limited shoulder flexion (HP:0033482): onset ; excluded: Scoliosis (HP:0002650): onset ; excluded: Pectus excavatum (HP:0000767): onset ; excluded: Aortic aneurysm (HP:0004942): onset ; excluded: Entrapment neuropathy (HP:0012181): onset ; excluded: Ectopia lentis (HP:0001083): onset ; excluded: Cataract (HP:0000518): onset ; excluded: Tall stature (HP:0000098): onset ; excluded: Short stature (HP:0004322): onset ; excluded: Arachnodactyly (HP:0001166): onset ; excluded: Gastroesophageal reflux (HP:0002020): onset <br/><b>TimeElement(element=OntologyClass(id=HP:0003577, label=Congenital onset))</b>: Stiff skin (HP:0030053): onset ontology_class {\n",
       "  id: \"HP:0003577\"\n",
       "  label: \"Congenital onset\"\n",
       "}\n",
       "</td></tr>\n",
       "<tr><td style=\"text-align: left;\">4-II:1 (MALE; P54Y)</td><td style=\"text-align: left;\">Stiff skin syndrome (OMIM:184900)</td><td style=\"text-align: left;\">NM_000138.5:c.4729T>G (heterozygous)</td><td style=\"text-align: left;\">Knee contracture (HP:0034671): onset ; Entrapment neuropathy (HP:0012181): onset ; Myopia (HP:0000545): onset ; Camptodactyly (HP:0012385): onset ; Elbow contracture (HP:0034391): onset ; Limited shoulder flexion (HP:0033482): onset ; excluded: Scoliosis (HP:0002650): onset ; excluded: Pectus excavatum (HP:0000767): onset ; excluded: Aortic aneurysm (HP:0004942): onset ; excluded: Ectopia lentis (HP:0001083): onset ; excluded: Cataract (HP:0000518): onset ; excluded: Tall stature (HP:0000098): onset ; excluded: Short stature (HP:0004322): onset ; excluded: Arachnodactyly (HP:0001166): onset ; excluded: Gastroesophageal reflux (HP:0002020): onset <br/><b>TimeElement(element=OntologyClass(id=HP:0003577, label=Congenital onset))</b>: Stiff skin (HP:0030053): onset ontology_class {\n",
       "  id: \"HP:0003577\"\n",
       "  label: \"Congenital onset\"\n",
       "}\n",
       "</td></tr>\n",
       "</table>"
      ],
      "text/plain": [
       "<IPython.core.display.HTML object>"
      ]
     },
     "metadata": {},
     "output_type": "display_data"
    }
   ],
   "source": [
    "table = IndividualTable(cvalidator.get_error_free_individual_list())\n",
    "display(HTML(table.to_html()))"
   ]
  },
  {
   "cell_type": "code",
   "execution_count": 12,
   "id": "b0a01b5b",
   "metadata": {},
   "outputs": [
    {
     "name": "stdout",
     "output_type": "stream",
     "text": [
      "[pyphetools] Ingested 144 GA4GH phenopackets.\n",
      "[INFO] Extracted 8 from 144 phenopackets with OMIM:184900\n",
      "\n",
      "\tStiff skin syndrome (OMIM:184900): n=8\n",
      "We found a total of 16 unique HPO terms\n",
      "Extracted disease: Stiff skin syndrome (OMIM:184900)\n",
      "Wrote HPOA disease file to OMIM-184900.tab\n"
     ]
    },
    {
     "data": {
      "text/html": [
       "<div>\n",
       "<style scoped>\n",
       "    .dataframe tbody tr th:only-of-type {\n",
       "        vertical-align: middle;\n",
       "    }\n",
       "\n",
       "    .dataframe tbody tr th {\n",
       "        vertical-align: top;\n",
       "    }\n",
       "\n",
       "    .dataframe thead th {\n",
       "        text-align: right;\n",
       "    }\n",
       "</style>\n",
       "<table border=\"1\" class=\"dataframe\">\n",
       "  <thead>\n",
       "    <tr style=\"text-align: right;\">\n",
       "      <th></th>\n",
       "      <th>#diseaseID</th>\n",
       "      <th>diseaseName</th>\n",
       "      <th>phenotypeID</th>\n",
       "      <th>phenotypeName</th>\n",
       "      <th>onsetID</th>\n",
       "      <th>onsetName</th>\n",
       "      <th>frequency</th>\n",
       "      <th>sex</th>\n",
       "      <th>negation</th>\n",
       "      <th>modifier</th>\n",
       "      <th>description</th>\n",
       "      <th>publication</th>\n",
       "      <th>evidence</th>\n",
       "      <th>biocuration</th>\n",
       "    </tr>\n",
       "  </thead>\n",
       "  <tbody>\n",
       "    <tr>\n",
       "      <th>0</th>\n",
       "      <td>OMIM:184900</td>\n",
       "      <td>Stiff skin syndrome</td>\n",
       "      <td>HP:0030053</td>\n",
       "      <td>Stiff skin</td>\n",
       "      <td></td>\n",
       "      <td></td>\n",
       "      <td>8/8</td>\n",
       "      <td></td>\n",
       "      <td></td>\n",
       "      <td></td>\n",
       "      <td></td>\n",
       "      <td>PMID:20375004</td>\n",
       "      <td>PCS</td>\n",
       "      <td>ORCID:0000-0002-0736-9199[2024-10-17]</td>\n",
       "    </tr>\n",
       "    <tr>\n",
       "      <th>1</th>\n",
       "      <td>OMIM:184900</td>\n",
       "      <td>Stiff skin syndrome</td>\n",
       "      <td>HP:0034671</td>\n",
       "      <td>Knee contracture</td>\n",
       "      <td></td>\n",
       "      <td></td>\n",
       "      <td>7/8</td>\n",
       "      <td></td>\n",
       "      <td></td>\n",
       "      <td></td>\n",
       "      <td></td>\n",
       "      <td>PMID:20375004</td>\n",
       "      <td>PCS</td>\n",
       "      <td>ORCID:0000-0002-0736-9199[2024-10-17]</td>\n",
       "    </tr>\n",
       "    <tr>\n",
       "      <th>2</th>\n",
       "      <td>OMIM:184900</td>\n",
       "      <td>Stiff skin syndrome</td>\n",
       "      <td>HP:0012181</td>\n",
       "      <td>Entrapment neuropathy</td>\n",
       "      <td></td>\n",
       "      <td></td>\n",
       "      <td>2/8</td>\n",
       "      <td></td>\n",
       "      <td></td>\n",
       "      <td></td>\n",
       "      <td></td>\n",
       "      <td>PMID:20375004</td>\n",
       "      <td>PCS</td>\n",
       "      <td>ORCID:0000-0002-0736-9199[2024-10-17]</td>\n",
       "    </tr>\n",
       "    <tr>\n",
       "      <th>3</th>\n",
       "      <td>OMIM:184900</td>\n",
       "      <td>Stiff skin syndrome</td>\n",
       "      <td>HP:0000545</td>\n",
       "      <td>Myopia</td>\n",
       "      <td></td>\n",
       "      <td></td>\n",
       "      <td>6/8</td>\n",
       "      <td></td>\n",
       "      <td></td>\n",
       "      <td></td>\n",
       "      <td></td>\n",
       "      <td>PMID:20375004</td>\n",
       "      <td>PCS</td>\n",
       "      <td>ORCID:0000-0002-0736-9199[2024-10-17]</td>\n",
       "    </tr>\n",
       "    <tr>\n",
       "      <th>4</th>\n",
       "      <td>OMIM:184900</td>\n",
       "      <td>Stiff skin syndrome</td>\n",
       "      <td>HP:0012385</td>\n",
       "      <td>Camptodactyly</td>\n",
       "      <td></td>\n",
       "      <td></td>\n",
       "      <td>8/8</td>\n",
       "      <td></td>\n",
       "      <td></td>\n",
       "      <td></td>\n",
       "      <td></td>\n",
       "      <td>PMID:20375004</td>\n",
       "      <td>PCS</td>\n",
       "      <td>ORCID:0000-0002-0736-9199[2024-10-17]</td>\n",
       "    </tr>\n",
       "  </tbody>\n",
       "</table>\n",
       "</div>"
      ],
      "text/plain": [
       "    #diseaseID          diseaseName phenotypeID          phenotypeName  \\\n",
       "0  OMIM:184900  Stiff skin syndrome  HP:0030053             Stiff skin   \n",
       "1  OMIM:184900  Stiff skin syndrome  HP:0034671       Knee contracture   \n",
       "2  OMIM:184900  Stiff skin syndrome  HP:0012181  Entrapment neuropathy   \n",
       "3  OMIM:184900  Stiff skin syndrome  HP:0000545                 Myopia   \n",
       "4  OMIM:184900  Stiff skin syndrome  HP:0012385          Camptodactyly   \n",
       "\n",
       "  onsetID onsetName frequency sex negation modifier description  \\\n",
       "0                         8/8                                     \n",
       "1                         7/8                                     \n",
       "2                         2/8                                     \n",
       "3                         6/8                                     \n",
       "4                         8/8                                     \n",
       "\n",
       "     publication evidence                            biocuration  \n",
       "0  PMID:20375004      PCS  ORCID:0000-0002-0736-9199[2024-10-17]  \n",
       "1  PMID:20375004      PCS  ORCID:0000-0002-0736-9199[2024-10-17]  \n",
       "2  PMID:20375004      PCS  ORCID:0000-0002-0736-9199[2024-10-17]  \n",
       "3  PMID:20375004      PCS  ORCID:0000-0002-0736-9199[2024-10-17]  \n",
       "4  PMID:20375004      PCS  ORCID:0000-0002-0736-9199[2024-10-17]  "
      ]
     },
     "execution_count": 12,
     "metadata": {},
     "output_type": "execute_result"
    }
   ],
   "source": [
    "PMID = \"PMID:20375004\"\n",
    "df = timporter.create_hpoa_from_phenopackets(pmid=PMID, mode_of_inheritance=Moi.AD, target=\"OMIM:184900\")\n",
    "df.head()"
   ]
  }
 ],
 "metadata": {
  "kernelspec": {
   "display_name": "ps24venv",
   "language": "python",
   "name": "python3"
  },
  "language_info": {
   "codemirror_mode": {
    "name": "ipython",
    "version": 3
   },
   "file_extension": ".py",
   "mimetype": "text/x-python",
   "name": "python",
   "nbconvert_exporter": "python",
   "pygments_lexer": "ipython3",
   "version": "3.12.4"
  }
 },
 "nbformat": 4,
 "nbformat_minor": 5
}
