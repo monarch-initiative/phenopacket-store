{
 "cells": [
  {
   "cell_type": "markdown",
   "id": "def19049-c67f-454d-a00a-0faf95f96b1a",
   "metadata": {},
   "source": [
    "<h1>Marfan lipodystrophy syndrome</h1>\n",
    "<p>This notebook gathers clinical data about individuals with Marfan lipodystrophy syndrome (<a href=\"https://omim.org/entry/616914\">OMIM:616914</a>) from the publication <a href=\"https://pubmed.ncbi.nlm.nih.gov/31774634/\" target=\"__blank\">Lin et al., (2020)</a>,  Genetic and molecular mechanism for distinct clinical phenotypes conveyed by allelic truncating mutations implicated in FBN1. Mol Genet Genomic Med. 2020 Jan;8(1):e1023; PMID:31774634.\n",
    "</p>\n",
    "<p>We extracted the information from Table 2 (Clinical manifestations of previously reported and our patient XH601 with Marfanoid–progeroid–lipodystrophy (MPL) syndrome with allelic truncating mutations in FBN1). We copied this information into an Excel file that is used by this notebook.</p>"
   ]
  },
  {
   "cell_type": "code",
   "execution_count": 1,
   "id": "c3ef78a4-58cf-4c84-8c1b-44ea6a9238a0",
   "metadata": {},
   "outputs": [
    {
     "name": "stdout",
     "output_type": "stream",
     "text": [
      "Using pyphetools version 0.9.57.dev0\n"
     ]
    }
   ],
   "source": [
    "import pandas as pd\n",
    "pd.set_option('display.max_colwidth', None) # show entire column contents, important!\n",
    "from IPython.display import display, HTML\n",
    "from pyphetools.creation import *\n",
    "from pyphetools.visualization import *\n",
    "from pyphetools.validation import *\n",
    "import pyphetools\n",
    "print(f\"Using pyphetools version {pyphetools.__version__}\")"
   ]
  },
  {
   "cell_type": "code",
   "execution_count": 2,
   "id": "23f28846",
   "metadata": {},
   "outputs": [],
   "source": [
    "import hpotk\n",
    "\n",
    "store = hpotk.configure_ontology_store()\n",
    "hpo = store.load_hpo(release='v2024-01-16')"
   ]
  },
  {
   "cell_type": "code",
   "execution_count": 3,
   "id": "e77b6f15-c643-4bc6-becb-713f47d04246",
   "metadata": {},
   "outputs": [
    {
     "name": "stdout",
     "output_type": "stream",
     "text": [
      "HPO version 2024-01-16\n"
     ]
    }
   ],
   "source": [
    "PMID = \"PMID:31774634\"\n",
    "title = \"Genetic and molecular mechanism for distinct clinical phenotypes conveyed by allelic truncating mutations implicated in FBN1\"\n",
    "cite = Citation(pmid=PMID, title=title)\n",
    "\n",
    "metadata = MetaData(created_by=\"ORCID:0000-0002-0736-9199\", citation=cite)\n",
    "metadata.default_versions_with_hpo(version=hpo.version)\n",
    "print(f\"HPO version {hpo.version}\")"
   ]
  },
  {
   "cell_type": "code",
   "execution_count": 4,
   "id": "d765c2a3",
   "metadata": {},
   "outputs": [],
   "source": [
    "from pyphetools.creation import HpoExactConceptRecognizer\n",
    "\n",
    "hpo_cr = HpoExactConceptRecognizer.from_hpo(hpo)"
   ]
  },
  {
   "cell_type": "code",
   "execution_count": 5,
   "id": "33020dc7-64d1-4d47-aea8-a6cfcd3054c7",
   "metadata": {
    "scrolled": true
   },
   "outputs": [],
   "source": [
    "df = pd.read_table('input/Lin_2020_PMID_31774634.tsv')"
   ]
  },
  {
   "cell_type": "code",
   "execution_count": 6,
   "id": "deeb8c5e-a67d-4f2d-a109-9e5fc4485b47",
   "metadata": {},
   "outputs": [
    {
     "data": {
      "text/html": [
       "<div>\n",
       "<style scoped>\n",
       "    .dataframe tbody tr th:only-of-type {\n",
       "        vertical-align: middle;\n",
       "    }\n",
       "\n",
       "    .dataframe tbody tr th {\n",
       "        vertical-align: top;\n",
       "    }\n",
       "\n",
       "    .dataframe thead th {\n",
       "        text-align: right;\n",
       "    }\n",
       "</style>\n",
       "<table border=\"1\" class=\"dataframe\">\n",
       "  <thead>\n",
       "    <tr style=\"text-align: right;\">\n",
       "      <th>Feature</th>\n",
       "      <th>Age (year)</th>\n",
       "      <th>Gender</th>\n",
       "      <th>Upper/lower segment</th>\n",
       "      <th>Proptosis</th>\n",
       "      <th>DPF</th>\n",
       "      <th>Myopia</th>\n",
       "      <th>Ectopia lentis</th>\n",
       "      <th>High-arched palate</th>\n",
       "      <th>Pectus excavatum</th>\n",
       "      <th>scoliosis/ kyphosis</th>\n",
       "      <th>...</th>\n",
       "      <th>Pes planus/valgus</th>\n",
       "      <th>Easy bruisability</th>\n",
       "      <th>MVPS</th>\n",
       "      <th>Arrested hydrocephalus</th>\n",
       "      <th>RGC</th>\n",
       "      <th>Dural ectasia</th>\n",
       "      <th>Hypertension</th>\n",
       "      <th>CHD</th>\n",
       "      <th>Variant</th>\n",
       "      <th>patient_id</th>\n",
       "    </tr>\n",
       "  </thead>\n",
       "  <tbody>\n",
       "    <tr>\n",
       "      <th>Graul-Neumann et al. (2010)</th>\n",
       "      <td>27</td>\n",
       "      <td>Female</td>\n",
       "      <td>0,95</td>\n",
       "      <td>Y</td>\n",
       "      <td>NaN</td>\n",
       "      <td>Y</td>\n",
       "      <td>Bilateral</td>\n",
       "      <td>Y</td>\n",
       "      <td>NaN</td>\n",
       "      <td>Kyphosis</td>\n",
       "      <td>...</td>\n",
       "      <td>NaN</td>\n",
       "      <td>Y</td>\n",
       "      <td>Y</td>\n",
       "      <td>NaN</td>\n",
       "      <td>NaN</td>\n",
       "      <td>Lumbosacral</td>\n",
       "      <td>NaN</td>\n",
       "      <td>NaN</td>\n",
       "      <td>c.8155_8156del</td>\n",
       "      <td>Graul-Neumann et al. (2010)</td>\n",
       "    </tr>\n",
       "    <tr>\n",
       "      <th>Goldblatt et al. (2011)</th>\n",
       "      <td>20</td>\n",
       "      <td>Male</td>\n",
       "      <td>NaN</td>\n",
       "      <td>Y</td>\n",
       "      <td>NaN</td>\n",
       "      <td>Y</td>\n",
       "      <td>Bilateral</td>\n",
       "      <td>Y</td>\n",
       "      <td>Y</td>\n",
       "      <td>NaN</td>\n",
       "      <td>...</td>\n",
       "      <td>Pes planus</td>\n",
       "      <td>Y</td>\n",
       "      <td>N</td>\n",
       "      <td>Y</td>\n",
       "      <td>NaN</td>\n",
       "      <td>NaN</td>\n",
       "      <td>NaN</td>\n",
       "      <td>NaN</td>\n",
       "      <td>c.8156_8175del</td>\n",
       "      <td>Goldblatt et al. (2011)</td>\n",
       "    </tr>\n",
       "    <tr>\n",
       "      <th>Horn and Robinson et al. (2011)</th>\n",
       "      <td>3.5</td>\n",
       "      <td>Female</td>\n",
       "      <td>NaN</td>\n",
       "      <td>Y</td>\n",
       "      <td>NaN</td>\n",
       "      <td>N</td>\n",
       "      <td>N</td>\n",
       "      <td>Y</td>\n",
       "      <td>NaN</td>\n",
       "      <td>NaN</td>\n",
       "      <td>...</td>\n",
       "      <td>NaN</td>\n",
       "      <td>NaN</td>\n",
       "      <td>N</td>\n",
       "      <td>Y</td>\n",
       "      <td>NaN</td>\n",
       "      <td>NaN</td>\n",
       "      <td>NaN</td>\n",
       "      <td>NaN</td>\n",
       "      <td>c.8226+1G&gt;T</td>\n",
       "      <td>Horn and Robinson et al. (2011)</td>\n",
       "    </tr>\n",
       "    <tr>\n",
       "      <th>Takenouchi et al. (2013)</th>\n",
       "      <td>10</td>\n",
       "      <td>Female</td>\n",
       "      <td>NaN</td>\n",
       "      <td>Y</td>\n",
       "      <td>NaN</td>\n",
       "      <td>Y</td>\n",
       "      <td>N</td>\n",
       "      <td>NaN</td>\n",
       "      <td>Y</td>\n",
       "      <td>NaN</td>\n",
       "      <td>...</td>\n",
       "      <td>NaN</td>\n",
       "      <td>NaN</td>\n",
       "      <td>N</td>\n",
       "      <td>Y</td>\n",
       "      <td>Hydronephrosis</td>\n",
       "      <td>Y</td>\n",
       "      <td>Y</td>\n",
       "      <td>NaN</td>\n",
       "      <td>c.8175_8182del</td>\n",
       "      <td>Takenouchi et al. (2013)</td>\n",
       "    </tr>\n",
       "    <tr>\n",
       "      <th>Jacquinet et al. (2014)</th>\n",
       "      <td>16</td>\n",
       "      <td>Female</td>\n",
       "      <td>NaN</td>\n",
       "      <td>Y</td>\n",
       "      <td>NaN</td>\n",
       "      <td>Severe</td>\n",
       "      <td>N</td>\n",
       "      <td>NaN</td>\n",
       "      <td>N</td>\n",
       "      <td>N</td>\n",
       "      <td>...</td>\n",
       "      <td>Pes valgus</td>\n",
       "      <td>NaN</td>\n",
       "      <td>N</td>\n",
       "      <td>NaN</td>\n",
       "      <td>N</td>\n",
       "      <td>Y</td>\n",
       "      <td>NaN</td>\n",
       "      <td>NaN</td>\n",
       "      <td>c.8226+1G&gt;A</td>\n",
       "      <td>Jacquinet et al. (2014)</td>\n",
       "    </tr>\n",
       "  </tbody>\n",
       "</table>\n",
       "<p>5 rows × 27 columns</p>\n",
       "</div>"
      ],
      "text/plain": [
       "Feature                         Age (year)  Gender Upper/lower segment  \\\n",
       "Graul-Neumann et al. (2010)             27  Female                0,95   \n",
       "Goldblatt et al. (2011)                 20    Male                 NaN   \n",
       "Horn and Robinson et al. (2011)        3.5  Female                 NaN   \n",
       "Takenouchi et al. (2013)                10  Female                 NaN   \n",
       "Jacquinet et al. (2014)                 16  Female                 NaN   \n",
       "\n",
       "Feature                         Proptosis  DPF  Myopia Ectopia lentis   \\\n",
       "Graul-Neumann et al. (2010)             Y  NaN       Y       Bilateral   \n",
       "Goldblatt et al. (2011)                 Y  NaN       Y       Bilateral   \n",
       "Horn and Robinson et al. (2011)         Y  NaN      N               N    \n",
       "Takenouchi et al. (2013)                Y  NaN       Y              N    \n",
       "Jacquinet et al. (2014)                 Y  NaN  Severe              N    \n",
       "\n",
       "Feature                         High-arched palate Pectus excavatum  \\\n",
       "Graul-Neumann et al. (2010)                      Y              NaN   \n",
       "Goldblatt et al. (2011)                          Y                Y   \n",
       "Horn and Robinson et al. (2011)                  Y              NaN   \n",
       "Takenouchi et al. (2013)                       NaN                Y   \n",
       "Jacquinet et al. (2014)                        NaN               N    \n",
       "\n",
       "Feature                         scoliosis/ kyphosis  ... Pes planus/valgus  \\\n",
       "Graul-Neumann et al. (2010)                Kyphosis  ...               NaN   \n",
       "Goldblatt et al. (2011)                         NaN  ...        Pes planus   \n",
       "Horn and Robinson et al. (2011)                 NaN  ...               NaN   \n",
       "Takenouchi et al. (2013)                        NaN  ...               NaN   \n",
       "Jacquinet et al. (2014)                          N   ...        Pes valgus   \n",
       "\n",
       "Feature                         Easy bruisability MVPS Arrested hydrocephalus  \\\n",
       "Graul-Neumann et al. (2010)                     Y    Y                    NaN   \n",
       "Goldblatt et al. (2011)                         Y   N                       Y   \n",
       "Horn and Robinson et al. (2011)               NaN   N                       Y   \n",
       "Takenouchi et al. (2013)                      NaN   N                       Y   \n",
       "Jacquinet et al. (2014)                       NaN   N                     NaN   \n",
       "\n",
       "Feature                                     RGC Dural ectasia Hypertension  \\\n",
       "Graul-Neumann et al. (2010)                 NaN   Lumbosacral          NaN   \n",
       "Goldblatt et al. (2011)                     NaN           NaN          NaN   \n",
       "Horn and Robinson et al. (2011)             NaN           NaN          NaN   \n",
       "Takenouchi et al. (2013)         Hydronephrosis             Y            Y   \n",
       "Jacquinet et al. (2014)                      N              Y          NaN   \n",
       "\n",
       "Feature                          CHD         Variant  \\\n",
       "Graul-Neumann et al. (2010)      NaN  c.8155_8156del   \n",
       "Goldblatt et al. (2011)          NaN  c.8156_8175del   \n",
       "Horn and Robinson et al. (2011)  NaN     c.8226+1G>T   \n",
       "Takenouchi et al. (2013)         NaN  c.8175_8182del   \n",
       "Jacquinet et al. (2014)          NaN     c.8226+1G>A   \n",
       "\n",
       "Feature                                               patient_id  \n",
       "Graul-Neumann et al. (2010)          Graul-Neumann et al. (2010)  \n",
       "Goldblatt et al. (2011)                  Goldblatt et al. (2011)  \n",
       "Horn and Robinson et al. (2011)  Horn and Robinson et al. (2011)  \n",
       "Takenouchi et al. (2013)                Takenouchi et al. (2013)  \n",
       "Jacquinet et al. (2014)                  Jacquinet et al. (2014)  \n",
       "\n",
       "[5 rows x 27 columns]"
      ]
     },
     "execution_count": 6,
     "metadata": {},
     "output_type": "execute_result"
    }
   ],
   "source": [
    "dft = df.transpose()\n",
    "dft.columns = dft.iloc[0]\n",
    "dft.drop(dft.index[0], inplace=True)\n",
    "dft['patient_id'] = dft.index\n",
    "dft.head()"
   ]
  },
  {
   "cell_type": "code",
   "execution_count": 7,
   "id": "cb71f9fa-ba1e-4b25-9b86-238504dd549d",
   "metadata": {},
   "outputs": [],
   "source": [
    "# The following was used to help create the code\n",
    "#output = OptionColumnMapper.autoformat(df=dft, concept_recognizer=hpo_cr)\n",
    "#print(output)"
   ]
  },
  {
   "cell_type": "code",
   "execution_count": 8,
   "id": "41f45212-3fe2-4c98-bc02-23af7eec8fd9",
   "metadata": {},
   "outputs": [],
   "source": [
    "column_mapper_list = list()"
   ]
  },
  {
   "cell_type": "code",
   "execution_count": 9,
   "id": "bbc5b4a4-b5bc-4fd2-8a84-64d5df552e2b",
   "metadata": {},
   "outputs": [
    {
     "data": {
      "text/html": [
       "<div>\n",
       "<style scoped>\n",
       "    .dataframe tbody tr th:only-of-type {\n",
       "        vertical-align: middle;\n",
       "    }\n",
       "\n",
       "    .dataframe tbody tr th {\n",
       "        vertical-align: top;\n",
       "    }\n",
       "\n",
       "    .dataframe thead th {\n",
       "        text-align: right;\n",
       "    }\n",
       "</style>\n",
       "<table border=\"1\" class=\"dataframe\">\n",
       "  <thead>\n",
       "    <tr style=\"text-align: right;\">\n",
       "      <th></th>\n",
       "      <th>mapping</th>\n",
       "      <th>count</th>\n",
       "    </tr>\n",
       "  </thead>\n",
       "  <tbody>\n",
       "    <tr>\n",
       "      <th>0</th>\n",
       "      <td>Abnormal upper to lower segment ratio (HP:0012772) (excluded)</td>\n",
       "      <td>7</td>\n",
       "    </tr>\n",
       "  </tbody>\n",
       "</table>\n",
       "</div>"
      ],
      "text/plain": [
       "                                                         mapping count\n",
       "0  Abnormal upper to lower segment ratio (HP:0012772) (excluded)     7"
      ]
     },
     "execution_count": 9,
     "metadata": {},
     "output_type": "execute_result"
    }
   ],
   "source": [
    "# Abnormal upper to lower segment ratio HP:0012772\n",
    "# abnormal is considered less than 0.85\n",
    "upper_lower_segment_d = {}\n",
    "excluded_d = {'0': 'Abnormal upper to lower segment ratio',\n",
    " '95': 'Abnormal upper to lower segment ratio',\n",
    " 'nan': 'Abnormal upper to lower segment ratio',\n",
    " '0.99': 'Abnormal upper to lower segment ratio',\n",
    " '0.8': 'Abnormal upper to lower segment ratio',\n",
    " '0.87': 'Abnormal upper to lower segment ratio'}\n",
    "upper_lower_segmentMapper = OptionColumnMapper(column_name='Upper/lower segment',\n",
    "                                               concept_recognizer=hpo_cr, option_d=upper_lower_segment_d, excluded_d=excluded_d)\n",
    "column_mapper_list.append(upper_lower_segmentMapper)\n",
    "upper_lower_segmentMapper.preview_column(dft)"
   ]
  },
  {
   "cell_type": "code",
   "execution_count": 10,
   "id": "dfce256b-1fe6-468d-a635-8b5995618329",
   "metadata": {},
   "outputs": [
    {
     "data": {
      "text/html": [
       "<div>\n",
       "<style scoped>\n",
       "    .dataframe tbody tr th:only-of-type {\n",
       "        vertical-align: middle;\n",
       "    }\n",
       "\n",
       "    .dataframe tbody tr th {\n",
       "        vertical-align: top;\n",
       "    }\n",
       "\n",
       "    .dataframe thead th {\n",
       "        text-align: right;\n",
       "    }\n",
       "</style>\n",
       "<table border=\"1\" class=\"dataframe\">\n",
       "  <thead>\n",
       "    <tr style=\"text-align: right;\">\n",
       "      <th></th>\n",
       "      <th>mapping</th>\n",
       "      <th>count</th>\n",
       "    </tr>\n",
       "  </thead>\n",
       "  <tbody>\n",
       "    <tr>\n",
       "      <th>0</th>\n",
       "      <td>original value: \"Y\" -&gt; HP: Proptosis (HP:0000520) (observed)</td>\n",
       "      <td>8</td>\n",
       "    </tr>\n",
       "  </tbody>\n",
       "</table>\n",
       "</div>"
      ],
      "text/plain": [
       "                                                        mapping count\n",
       "0  original value: \"Y\" -> HP: Proptosis (HP:0000520) (observed)     8"
      ]
     },
     "execution_count": 10,
     "metadata": {},
     "output_type": "execute_result"
    }
   ],
   "source": [
    "# Proptosis HP:0000520\n",
    "proptosisMapper = SimpleColumnMapper(column_name='Proptosis',hpo_id=\"HP:0000520\", hpo_label=\"Proptosis\", observed=\"Y\", excluded=\"N\")\n",
    "column_mapper_list.append(proptosisMapper)\n",
    "proptosisMapper.preview_column(dft)"
   ]
  },
  {
   "cell_type": "code",
   "execution_count": 11,
   "id": "2fd1876f-b80f-4228-b541-7025de7611fd",
   "metadata": {},
   "outputs": [
    {
     "data": {
      "text/html": [
       "<div>\n",
       "<style scoped>\n",
       "    .dataframe tbody tr th:only-of-type {\n",
       "        vertical-align: middle;\n",
       "    }\n",
       "\n",
       "    .dataframe tbody tr th {\n",
       "        vertical-align: top;\n",
       "    }\n",
       "\n",
       "    .dataframe thead th {\n",
       "        text-align: right;\n",
       "    }\n",
       "</style>\n",
       "<table border=\"1\" class=\"dataframe\">\n",
       "  <thead>\n",
       "    <tr style=\"text-align: right;\">\n",
       "      <th></th>\n",
       "      <th>mapping</th>\n",
       "      <th>count</th>\n",
       "    </tr>\n",
       "  </thead>\n",
       "  <tbody>\n",
       "    <tr>\n",
       "      <th>0</th>\n",
       "      <td>original value: \"nan\" -&gt; HP: Downslanted palpebral fissures (HP:0000494) (not measured)</td>\n",
       "      <td>7</td>\n",
       "    </tr>\n",
       "    <tr>\n",
       "      <th>1</th>\n",
       "      <td>original value: \"Y\" -&gt; HP: Downslanted palpebral fissures (HP:0000494) (observed)</td>\n",
       "      <td>1</td>\n",
       "    </tr>\n",
       "  </tbody>\n",
       "</table>\n",
       "</div>"
      ],
      "text/plain": [
       "                                                                                   mapping  \\\n",
       "0  original value: \"nan\" -> HP: Downslanted palpebral fissures (HP:0000494) (not measured)   \n",
       "1        original value: \"Y\" -> HP: Downslanted palpebral fissures (HP:0000494) (observed)   \n",
       "\n",
       "  count  \n",
       "0     7  \n",
       "1     1  "
      ]
     },
     "execution_count": 11,
     "metadata": {},
     "output_type": "execute_result"
    }
   ],
   "source": [
    "# DPF: Downslanted palpebral fissures HP:0000494\n",
    "dpfMapper = SimpleColumnMapper(column_name='DPF',hpo_id=\"HP:0000494\", hpo_label=\"Downslanted palpebral fissures\", observed=\"Y\", excluded=\"N\")\n",
    "column_mapper_list.append(dpfMapper)\n",
    "dpfMapper.preview_column(dft)"
   ]
  },
  {
   "cell_type": "code",
   "execution_count": 12,
   "id": "72309f0f-90cc-478e-ab2d-c68c77fcfdba",
   "metadata": {},
   "outputs": [
    {
     "data": {
      "text/html": [
       "<div>\n",
       "<style scoped>\n",
       "    .dataframe tbody tr th:only-of-type {\n",
       "        vertical-align: middle;\n",
       "    }\n",
       "\n",
       "    .dataframe tbody tr th {\n",
       "        vertical-align: top;\n",
       "    }\n",
       "\n",
       "    .dataframe thead th {\n",
       "        text-align: right;\n",
       "    }\n",
       "</style>\n",
       "<table border=\"1\" class=\"dataframe\">\n",
       "  <thead>\n",
       "    <tr style=\"text-align: right;\">\n",
       "      <th></th>\n",
       "      <th>mapping</th>\n",
       "      <th>count</th>\n",
       "    </tr>\n",
       "  </thead>\n",
       "  <tbody>\n",
       "    <tr>\n",
       "      <th>0</th>\n",
       "      <td>Myopia (HP:0000545) (observed)</td>\n",
       "      <td>6</td>\n",
       "    </tr>\n",
       "    <tr>\n",
       "      <th>1</th>\n",
       "      <td>High myopia (HP:0011003) (observed)</td>\n",
       "      <td>1</td>\n",
       "    </tr>\n",
       "  </tbody>\n",
       "</table>\n",
       "</div>"
      ],
      "text/plain": [
       "                               mapping count\n",
       "0       Myopia (HP:0000545) (observed)     6\n",
       "1  High myopia (HP:0011003) (observed)     1"
      ]
     },
     "execution_count": 12,
     "metadata": {},
     "output_type": "execute_result"
    }
   ],
   "source": [
    "myopia_d = {'Y': 'Myopia',\n",
    " 'Severe': 'High myopia'}\n",
    "excluded_d = {'N': 'Myopia'}\n",
    "myopiaMapper = OptionColumnMapper(column_name='Myopia',concept_recognizer=hpo_cr, option_d=myopia_d, excluded_d=excluded_d)\n",
    "column_mapper_list.append(myopiaMapper)\n",
    "myopiaMapper.preview_column(dft)"
   ]
  },
  {
   "cell_type": "code",
   "execution_count": 13,
   "id": "c871bbd1-4763-4ab9-8a92-890409f6688b",
   "metadata": {},
   "outputs": [
    {
     "data": {
      "text/html": [
       "<div>\n",
       "<style scoped>\n",
       "    .dataframe tbody tr th:only-of-type {\n",
       "        vertical-align: middle;\n",
       "    }\n",
       "\n",
       "    .dataframe tbody tr th {\n",
       "        vertical-align: top;\n",
       "    }\n",
       "\n",
       "    .dataframe thead th {\n",
       "        text-align: right;\n",
       "    }\n",
       "</style>\n",
       "<table border=\"1\" class=\"dataframe\">\n",
       "  <thead>\n",
       "    <tr style=\"text-align: right;\">\n",
       "      <th></th>\n",
       "      <th>mapping</th>\n",
       "      <th>count</th>\n",
       "    </tr>\n",
       "  </thead>\n",
       "  <tbody>\n",
       "    <tr>\n",
       "      <th>0</th>\n",
       "      <td>Ectopia lentis (HP:0001083) (observed)</td>\n",
       "      <td>3</td>\n",
       "    </tr>\n",
       "  </tbody>\n",
       "</table>\n",
       "</div>"
      ],
      "text/plain": [
       "                                  mapping count\n",
       "0  Ectopia lentis (HP:0001083) (observed)     3"
      ]
     },
     "execution_count": 13,
     "metadata": {},
     "output_type": "execute_result"
    }
   ],
   "source": [
    "# Ectopia lentis HP:0001083\n",
    "ectopia_lentis_d = {'Bilateral': 'Ectopia lentis',\n",
    " 'Left eye': 'Ectopia lentis'}\n",
    "excluded_d = {'N': 'Ectopia lentis'}\n",
    "ectopia_lentis_Mapper = OptionColumnMapper(column_name='Ectopia lentis ',concept_recognizer=hpo_cr, option_d=ectopia_lentis_d, excluded_d=excluded_d)\n",
    "column_mapper_list.append(ectopia_lentis_Mapper)\n",
    "ectopia_lentis_Mapper.preview_column(dft)"
   ]
  },
  {
   "cell_type": "code",
   "execution_count": 14,
   "id": "5414a57d-df59-4807-81d2-0fc02a80b90c",
   "metadata": {},
   "outputs": [
    {
     "data": {
      "text/html": [
       "<div>\n",
       "<style scoped>\n",
       "    .dataframe tbody tr th:only-of-type {\n",
       "        vertical-align: middle;\n",
       "    }\n",
       "\n",
       "    .dataframe tbody tr th {\n",
       "        vertical-align: top;\n",
       "    }\n",
       "\n",
       "    .dataframe thead th {\n",
       "        text-align: right;\n",
       "    }\n",
       "</style>\n",
       "<table border=\"1\" class=\"dataframe\">\n",
       "  <thead>\n",
       "    <tr style=\"text-align: right;\">\n",
       "      <th></th>\n",
       "      <th>mapping</th>\n",
       "      <th>count</th>\n",
       "    </tr>\n",
       "  </thead>\n",
       "  <tbody>\n",
       "    <tr>\n",
       "      <th>0</th>\n",
       "      <td>original value: \"Y\" -&gt; HP: High palate (HP:0000218) (observed)</td>\n",
       "      <td>4</td>\n",
       "    </tr>\n",
       "    <tr>\n",
       "      <th>1</th>\n",
       "      <td>original value: \"nan\" -&gt; HP: High palate (HP:0000218) (not measured)</td>\n",
       "      <td>3</td>\n",
       "    </tr>\n",
       "    <tr>\n",
       "      <th>2</th>\n",
       "      <td>original value: \"N \" -&gt; HP: High palate (HP:0000218) (excluded)</td>\n",
       "      <td>1</td>\n",
       "    </tr>\n",
       "  </tbody>\n",
       "</table>\n",
       "</div>"
      ],
      "text/plain": [
       "                                                                mapping count\n",
       "0        original value: \"Y\" -> HP: High palate (HP:0000218) (observed)     4\n",
       "1  original value: \"nan\" -> HP: High palate (HP:0000218) (not measured)     3\n",
       "2       original value: \"N \" -> HP: High palate (HP:0000218) (excluded)     1"
      ]
     },
     "execution_count": 14,
     "metadata": {},
     "output_type": "execute_result"
    }
   ],
   "source": [
    "# High palate HP:0000218\n",
    "high_palateMapper = SimpleColumnMapper(column_name='High-arched palate',hpo_id=\"HP:0000218\", hpo_label=\"High palate\", observed=\"Y\", excluded=\"N\")\n",
    "column_mapper_list.append(high_palateMapper)\n",
    "high_palateMapper.preview_column(dft)"
   ]
  },
  {
   "cell_type": "code",
   "execution_count": 15,
   "id": "a7c4ca50-36d8-4760-8295-c21839fc7bc8",
   "metadata": {},
   "outputs": [
    {
     "data": {
      "text/html": [
       "<div>\n",
       "<style scoped>\n",
       "    .dataframe tbody tr th:only-of-type {\n",
       "        vertical-align: middle;\n",
       "    }\n",
       "\n",
       "    .dataframe tbody tr th {\n",
       "        vertical-align: top;\n",
       "    }\n",
       "\n",
       "    .dataframe thead th {\n",
       "        text-align: right;\n",
       "    }\n",
       "</style>\n",
       "<table border=\"1\" class=\"dataframe\">\n",
       "  <thead>\n",
       "    <tr style=\"text-align: right;\">\n",
       "      <th></th>\n",
       "      <th>mapping</th>\n",
       "      <th>count</th>\n",
       "    </tr>\n",
       "  </thead>\n",
       "  <tbody>\n",
       "    <tr>\n",
       "      <th>0</th>\n",
       "      <td>original value: \"nan\" -&gt; HP: Pectus excavatum (HP:0000767) (not measured)</td>\n",
       "      <td>2</td>\n",
       "    </tr>\n",
       "    <tr>\n",
       "      <th>1</th>\n",
       "      <td>original value: \"Y\" -&gt; HP: Pectus excavatum (HP:0000767) (observed)</td>\n",
       "      <td>3</td>\n",
       "    </tr>\n",
       "    <tr>\n",
       "      <th>2</th>\n",
       "      <td>original value: \"N \" -&gt; HP: Pectus excavatum (HP:0000767) (excluded)</td>\n",
       "      <td>3</td>\n",
       "    </tr>\n",
       "  </tbody>\n",
       "</table>\n",
       "</div>"
      ],
      "text/plain": [
       "                                                                     mapping  \\\n",
       "0  original value: \"nan\" -> HP: Pectus excavatum (HP:0000767) (not measured)   \n",
       "1        original value: \"Y\" -> HP: Pectus excavatum (HP:0000767) (observed)   \n",
       "2       original value: \"N \" -> HP: Pectus excavatum (HP:0000767) (excluded)   \n",
       "\n",
       "  count  \n",
       "0     2  \n",
       "1     3  \n",
       "2     3  "
      ]
     },
     "execution_count": 15,
     "metadata": {},
     "output_type": "execute_result"
    }
   ],
   "source": [
    "# Pectus excavatum HP:0000767\n",
    "pectus_excavatumMapper = SimpleColumnMapper(column_name='Pectus excavatum',hpo_id=\"HP:0000767\", hpo_label=\"Pectus excavatum\", observed=\"Y\", excluded=\"N\")\n",
    "column_mapper_list.append(pectus_excavatumMapper)\n",
    "pectus_excavatumMapper.preview_column(dft)"
   ]
  },
  {
   "cell_type": "code",
   "execution_count": 16,
   "id": "1a8940ba-e606-4b45-9b56-9da2bf9c265b",
   "metadata": {},
   "outputs": [
    {
     "data": {
      "text/html": [
       "<div>\n",
       "<style scoped>\n",
       "    .dataframe tbody tr th:only-of-type {\n",
       "        vertical-align: middle;\n",
       "    }\n",
       "\n",
       "    .dataframe tbody tr th {\n",
       "        vertical-align: top;\n",
       "    }\n",
       "\n",
       "    .dataframe thead th {\n",
       "        text-align: right;\n",
       "    }\n",
       "</style>\n",
       "<table border=\"1\" class=\"dataframe\">\n",
       "  <thead>\n",
       "    <tr style=\"text-align: right;\">\n",
       "      <th></th>\n",
       "      <th>mapping</th>\n",
       "      <th>count</th>\n",
       "    </tr>\n",
       "  </thead>\n",
       "  <tbody>\n",
       "    <tr>\n",
       "      <th>0</th>\n",
       "      <td>Kyphosis (HP:0002808) (observed)</td>\n",
       "      <td>1</td>\n",
       "    </tr>\n",
       "    <tr>\n",
       "      <th>1</th>\n",
       "      <td>Scoliosis (HP:0002650) (observed)</td>\n",
       "      <td>3</td>\n",
       "    </tr>\n",
       "  </tbody>\n",
       "</table>\n",
       "</div>"
      ],
      "text/plain": [
       "                             mapping count\n",
       "0   Kyphosis (HP:0002808) (observed)     1\n",
       "1  Scoliosis (HP:0002650) (observed)     3"
      ]
     },
     "execution_count": 16,
     "metadata": {},
     "output_type": "execute_result"
    }
   ],
   "source": [
    "# not encoding 'Cobb angle (degrees)', because it is included in Scoliosis\n",
    "scoliosis_kyphosis_d = {'Kyphosis': 'Kyphosis',\n",
    " 'Scoliosis': 'Scoliosis',\n",
    " 'Severe scoliosis': 'Scoliosis'}\n",
    "excluded_d = {'N': 'Scoliosis' }\n",
    "scoliosis_kyphosisMapper = OptionColumnMapper(column_name='scoliosis/ kyphosis',concept_recognizer=hpo_cr, option_d=scoliosis_kyphosis_d, excluded_d=excluded_d)\n",
    "column_mapper_list.append(scoliosis_kyphosisMapper)\n",
    "scoliosis_kyphosisMapper.preview_column(dft)"
   ]
  },
  {
   "cell_type": "code",
   "execution_count": 17,
   "id": "f4fba4e1-f589-4b15-9588-c7a9d84674f6",
   "metadata": {},
   "outputs": [],
   "source": [
    "# Not encoding 'Thumb sign' and 'Wrist sign' because this is included in Arachnodactyly"
   ]
  },
  {
   "cell_type": "code",
   "execution_count": 18,
   "id": "2fc9b3f9-4632-4427-ab52-3d667ec79264",
   "metadata": {},
   "outputs": [
    {
     "data": {
      "text/html": [
       "<div>\n",
       "<style scoped>\n",
       "    .dataframe tbody tr th:only-of-type {\n",
       "        vertical-align: middle;\n",
       "    }\n",
       "\n",
       "    .dataframe tbody tr th {\n",
       "        vertical-align: top;\n",
       "    }\n",
       "\n",
       "    .dataframe thead th {\n",
       "        text-align: right;\n",
       "    }\n",
       "</style>\n",
       "<table border=\"1\" class=\"dataframe\">\n",
       "  <thead>\n",
       "    <tr style=\"text-align: right;\">\n",
       "      <th></th>\n",
       "      <th>mapping</th>\n",
       "      <th>count</th>\n",
       "    </tr>\n",
       "  </thead>\n",
       "  <tbody>\n",
       "    <tr>\n",
       "      <th>0</th>\n",
       "      <td>original value: \"nan\" -&gt; HP: Subluxation of metacarpal phalangeal joints (HP:0004294) (not measured)</td>\n",
       "      <td>7</td>\n",
       "    </tr>\n",
       "    <tr>\n",
       "      <th>1</th>\n",
       "      <td>original value: \"Y\" -&gt; HP: Subluxation of metacarpal phalangeal joints (HP:0004294) (observed)</td>\n",
       "      <td>1</td>\n",
       "    </tr>\n",
       "  </tbody>\n",
       "</table>\n",
       "</div>"
      ],
      "text/plain": [
       "                                                                                                mapping  \\\n",
       "0  original value: \"nan\" -> HP: Subluxation of metacarpal phalangeal joints (HP:0004294) (not measured)   \n",
       "1        original value: \"Y\" -> HP: Subluxation of metacarpal phalangeal joints (HP:0004294) (observed)   \n",
       "\n",
       "  count  \n",
       "0     7  \n",
       "1     1  "
      ]
     },
     "execution_count": 18,
     "metadata": {},
     "output_type": "execute_result"
    }
   ],
   "source": [
    "# bmjd =  bilateral metacarpophalangeal joint dislocation -- Subluxation of metacarpal phalangeal joints HP:0004294\n",
    "bmjdMapper = SimpleColumnMapper(column_name='BMJD',hpo_id=\"HP:0004294\", hpo_label=\"Subluxation of metacarpal phalangeal joints\", observed=\"Y\", excluded=\"N\")\n",
    "column_mapper_list.append(bmjdMapper)\n",
    "bmjdMapper.preview_column(dft)"
   ]
  },
  {
   "cell_type": "code",
   "execution_count": 19,
   "id": "625b354f-44ca-4d80-9fb8-719113b9f9f3",
   "metadata": {},
   "outputs": [
    {
     "data": {
      "text/html": [
       "<div>\n",
       "<style scoped>\n",
       "    .dataframe tbody tr th:only-of-type {\n",
       "        vertical-align: middle;\n",
       "    }\n",
       "\n",
       "    .dataframe tbody tr th {\n",
       "        vertical-align: top;\n",
       "    }\n",
       "\n",
       "    .dataframe thead th {\n",
       "        text-align: right;\n",
       "    }\n",
       "</style>\n",
       "<table border=\"1\" class=\"dataframe\">\n",
       "  <thead>\n",
       "    <tr style=\"text-align: right;\">\n",
       "      <th></th>\n",
       "      <th>mapping</th>\n",
       "      <th>count</th>\n",
       "    </tr>\n",
       "  </thead>\n",
       "  <tbody>\n",
       "    <tr>\n",
       "      <th>0</th>\n",
       "      <td>original value: \"nan\" -&gt; HP: Interosseus muscle atrophy (HP:0007181) (not measured)</td>\n",
       "      <td>7</td>\n",
       "    </tr>\n",
       "    <tr>\n",
       "      <th>1</th>\n",
       "      <td>original value: \"Y\" -&gt; HP: Interosseus muscle atrophy (HP:0007181) (observed)</td>\n",
       "      <td>1</td>\n",
       "    </tr>\n",
       "  </tbody>\n",
       "</table>\n",
       "</div>"
      ],
      "text/plain": [
       "                                                                               mapping  \\\n",
       "0  original value: \"nan\" -> HP: Interosseus muscle atrophy (HP:0007181) (not measured)   \n",
       "1        original value: \"Y\" -> HP: Interosseus muscle atrophy (HP:0007181) (observed)   \n",
       "\n",
       "  count  \n",
       "0     7  \n",
       "1     1  "
      ]
     },
     "execution_count": 19,
     "metadata": {},
     "output_type": "execute_result"
    }
   ],
   "source": [
    "# Interosseus muscle atrophy HP:0007181\n",
    "interosseous_atrophyMapper =  SimpleColumnMapper(column_name='Interosseous atrophy',hpo_id=\"HP:0007181\", hpo_label=\"Interosseus muscle atrophy\", observed=\"Y\", excluded=\"N\")\n",
    "column_mapper_list.append(interosseous_atrophyMapper)\n",
    "interosseous_atrophyMapper.preview_column(dft)"
   ]
  },
  {
   "cell_type": "code",
   "execution_count": 20,
   "id": "2e642515-a612-42e6-9acd-8d97cc849096",
   "metadata": {},
   "outputs": [
    {
     "data": {
      "text/html": [
       "<div>\n",
       "<style scoped>\n",
       "    .dataframe tbody tr th:only-of-type {\n",
       "        vertical-align: middle;\n",
       "    }\n",
       "\n",
       "    .dataframe tbody tr th {\n",
       "        vertical-align: top;\n",
       "    }\n",
       "\n",
       "    .dataframe thead th {\n",
       "        text-align: right;\n",
       "    }\n",
       "</style>\n",
       "<table border=\"1\" class=\"dataframe\">\n",
       "  <thead>\n",
       "    <tr style=\"text-align: right;\">\n",
       "      <th></th>\n",
       "      <th>mapping</th>\n",
       "      <th>count</th>\n",
       "    </tr>\n",
       "  </thead>\n",
       "  <tbody>\n",
       "    <tr>\n",
       "      <th>0</th>\n",
       "      <td>original value: \"nan\" -&gt; HP: Arachnodactyly (HP:0001166) (not measured)</td>\n",
       "      <td>5</td>\n",
       "    </tr>\n",
       "    <tr>\n",
       "      <th>1</th>\n",
       "      <td>original value: \"Y\" -&gt; HP: Arachnodactyly (HP:0001166) (observed)</td>\n",
       "      <td>3</td>\n",
       "    </tr>\n",
       "  </tbody>\n",
       "</table>\n",
       "</div>"
      ],
      "text/plain": [
       "                                                                   mapping  \\\n",
       "0  original value: \"nan\" -> HP: Arachnodactyly (HP:0001166) (not measured)   \n",
       "1        original value: \"Y\" -> HP: Arachnodactyly (HP:0001166) (observed)   \n",
       "\n",
       "  count  \n",
       "0     5  \n",
       "1     3  "
      ]
     },
     "execution_count": 20,
     "metadata": {},
     "output_type": "execute_result"
    }
   ],
   "source": [
    "# Arachnodactyly HP:0001166\n",
    "arachnodactylyMapper = SimpleColumnMapper(column_name='Arachnodactyly',hpo_id=\"HP:0001166\", hpo_label=\"Arachnodactyly\", observed=\"Y\", excluded=\"N\")\n",
    "column_mapper_list.append(arachnodactylyMapper)\n",
    "arachnodactylyMapper.preview_column(dft)"
   ]
  },
  {
   "cell_type": "code",
   "execution_count": 21,
   "id": "de8de0e3-d450-4622-9860-04416559f1f3",
   "metadata": {},
   "outputs": [
    {
     "data": {
      "text/html": [
       "<div>\n",
       "<style scoped>\n",
       "    .dataframe tbody tr th:only-of-type {\n",
       "        vertical-align: middle;\n",
       "    }\n",
       "\n",
       "    .dataframe tbody tr th {\n",
       "        vertical-align: top;\n",
       "    }\n",
       "\n",
       "    .dataframe thead th {\n",
       "        text-align: right;\n",
       "    }\n",
       "</style>\n",
       "<table border=\"1\" class=\"dataframe\">\n",
       "  <thead>\n",
       "    <tr style=\"text-align: right;\">\n",
       "      <th></th>\n",
       "      <th>mapping</th>\n",
       "      <th>count</th>\n",
       "    </tr>\n",
       "  </thead>\n",
       "  <tbody>\n",
       "    <tr>\n",
       "      <th>0</th>\n",
       "      <td>original value: \"nan\" -&gt; HP: Finger joint hypermobility (HP:0006094) (not measured)</td>\n",
       "      <td>2</td>\n",
       "    </tr>\n",
       "    <tr>\n",
       "      <th>1</th>\n",
       "      <td>original value: \"Y\" -&gt; HP: Finger joint hypermobility (HP:0006094) (observed)</td>\n",
       "      <td>6</td>\n",
       "    </tr>\n",
       "  </tbody>\n",
       "</table>\n",
       "</div>"
      ],
      "text/plain": [
       "                                                                               mapping  \\\n",
       "0  original value: \"nan\" -> HP: Finger joint hypermobility (HP:0006094) (not measured)   \n",
       "1        original value: \"Y\" -> HP: Finger joint hypermobility (HP:0006094) (observed)   \n",
       "\n",
       "  count  \n",
       "0     2  \n",
       "1     6  "
      ]
     },
     "execution_count": 21,
     "metadata": {},
     "output_type": "execute_result"
    }
   ],
   "source": [
    "# Finger joint hypermobility HP:0006094\n",
    "hyperextensible_digitsMapper = SimpleColumnMapper(column_name='Hyperextensible digits',hpo_id=\"HP:0006094\", hpo_label=\"Finger joint hypermobility\", observed=\"Y\", excluded=\"N\")\n",
    "column_mapper_list.append(hyperextensible_digitsMapper)\n",
    "hyperextensible_digitsMapper.preview_column(dft)"
   ]
  },
  {
   "cell_type": "code",
   "execution_count": 22,
   "id": "afa5cba9-f04e-4cde-9088-dfee16445a32",
   "metadata": {},
   "outputs": [
    {
     "data": {
      "text/html": [
       "<div>\n",
       "<style scoped>\n",
       "    .dataframe tbody tr th:only-of-type {\n",
       "        vertical-align: middle;\n",
       "    }\n",
       "\n",
       "    .dataframe tbody tr th {\n",
       "        vertical-align: top;\n",
       "    }\n",
       "\n",
       "    .dataframe thead th {\n",
       "        text-align: right;\n",
       "    }\n",
       "</style>\n",
       "<table border=\"1\" class=\"dataframe\">\n",
       "  <thead>\n",
       "    <tr style=\"text-align: right;\">\n",
       "      <th></th>\n",
       "      <th>mapping</th>\n",
       "      <th>count</th>\n",
       "    </tr>\n",
       "  </thead>\n",
       "  <tbody>\n",
       "    <tr>\n",
       "      <th>0</th>\n",
       "      <td>Pes planus (HP:0001763) (observed)</td>\n",
       "      <td>2</td>\n",
       "    </tr>\n",
       "    <tr>\n",
       "      <th>1</th>\n",
       "      <td>Pes valgus (HP:0008081) (observed)</td>\n",
       "      <td>1</td>\n",
       "    </tr>\n",
       "  </tbody>\n",
       "</table>\n",
       "</div>"
      ],
      "text/plain": [
       "                              mapping count\n",
       "0  Pes planus (HP:0001763) (observed)     2\n",
       "1  Pes valgus (HP:0008081) (observed)     1"
      ]
     },
     "execution_count": 22,
     "metadata": {},
     "output_type": "execute_result"
    }
   ],
   "source": [
    "pes_planus_valgus_d = {\n",
    " 'Pes planus': 'Pes planus',\n",
    " 'Pes valgus': 'Pes valgus'}\n",
    "pes_planus_valgusMapper = OptionColumnMapper(column_name='Pes planus/valgus',concept_recognizer=hpo_cr, option_d=pes_planus_valgus_d)\n",
    "column_mapper_list.append(pes_planus_valgusMapper)\n",
    "pes_planus_valgusMapper.preview_column(dft)"
   ]
  },
  {
   "cell_type": "code",
   "execution_count": 23,
   "id": "5045c915-df7b-4d44-a49f-b4fc92c127bf",
   "metadata": {},
   "outputs": [
    {
     "data": {
      "text/html": [
       "<div>\n",
       "<style scoped>\n",
       "    .dataframe tbody tr th:only-of-type {\n",
       "        vertical-align: middle;\n",
       "    }\n",
       "\n",
       "    .dataframe tbody tr th {\n",
       "        vertical-align: top;\n",
       "    }\n",
       "\n",
       "    .dataframe thead th {\n",
       "        text-align: right;\n",
       "    }\n",
       "</style>\n",
       "<table border=\"1\" class=\"dataframe\">\n",
       "  <thead>\n",
       "    <tr style=\"text-align: right;\">\n",
       "      <th></th>\n",
       "      <th>mapping</th>\n",
       "      <th>count</th>\n",
       "    </tr>\n",
       "  </thead>\n",
       "  <tbody>\n",
       "    <tr>\n",
       "      <th>0</th>\n",
       "      <td>original value: \"Y\" -&gt; HP: Bruising susceptibility (HP:0000978) (observed)</td>\n",
       "      <td>3</td>\n",
       "    </tr>\n",
       "    <tr>\n",
       "      <th>1</th>\n",
       "      <td>original value: \"nan\" -&gt; HP: Bruising susceptibility (HP:0000978) (not measured)</td>\n",
       "      <td>3</td>\n",
       "    </tr>\n",
       "    <tr>\n",
       "      <th>2</th>\n",
       "      <td>original value: \"N \" -&gt; HP: Bruising susceptibility (HP:0000978) (excluded)</td>\n",
       "      <td>2</td>\n",
       "    </tr>\n",
       "  </tbody>\n",
       "</table>\n",
       "</div>"
      ],
      "text/plain": [
       "                                                                            mapping  \\\n",
       "0        original value: \"Y\" -> HP: Bruising susceptibility (HP:0000978) (observed)   \n",
       "1  original value: \"nan\" -> HP: Bruising susceptibility (HP:0000978) (not measured)   \n",
       "2       original value: \"N \" -> HP: Bruising susceptibility (HP:0000978) (excluded)   \n",
       "\n",
       "  count  \n",
       "0     3  \n",
       "1     3  \n",
       "2     2  "
      ]
     },
     "execution_count": 23,
     "metadata": {},
     "output_type": "execute_result"
    }
   ],
   "source": [
    "# Bruising susceptibility HP:0000978\n",
    "easy_bruisabilityMapper = SimpleColumnMapper(column_name='Easy bruisability',hpo_id=\"HP:0000978\", hpo_label=\"Bruising susceptibility\", observed=\"Y\", excluded=\"N\")\n",
    "column_mapper_list.append(easy_bruisabilityMapper)\n",
    "easy_bruisabilityMapper.preview_column(dft)"
   ]
  },
  {
   "cell_type": "code",
   "execution_count": 24,
   "id": "69071e91-07a9-49c5-9098-0a2e8bef8780",
   "metadata": {},
   "outputs": [
    {
     "data": {
      "text/html": [
       "<div>\n",
       "<style scoped>\n",
       "    .dataframe tbody tr th:only-of-type {\n",
       "        vertical-align: middle;\n",
       "    }\n",
       "\n",
       "    .dataframe tbody tr th {\n",
       "        vertical-align: top;\n",
       "    }\n",
       "\n",
       "    .dataframe thead th {\n",
       "        text-align: right;\n",
       "    }\n",
       "</style>\n",
       "<table border=\"1\" class=\"dataframe\">\n",
       "  <thead>\n",
       "    <tr style=\"text-align: right;\">\n",
       "      <th></th>\n",
       "      <th>mapping</th>\n",
       "      <th>count</th>\n",
       "    </tr>\n",
       "  </thead>\n",
       "  <tbody>\n",
       "    <tr>\n",
       "      <th>0</th>\n",
       "      <td>original value: \"Y\" -&gt; HP: Mitral valve prolapse (HP:0001634) (observed)</td>\n",
       "      <td>3</td>\n",
       "    </tr>\n",
       "    <tr>\n",
       "      <th>1</th>\n",
       "      <td>original value: \"N \" -&gt; HP: Mitral valve prolapse (HP:0001634) (excluded)</td>\n",
       "      <td>4</td>\n",
       "    </tr>\n",
       "    <tr>\n",
       "      <th>2</th>\n",
       "      <td>original value: \"nan\" -&gt; HP: Mitral valve prolapse (HP:0001634) (not measured)</td>\n",
       "      <td>1</td>\n",
       "    </tr>\n",
       "  </tbody>\n",
       "</table>\n",
       "</div>"
      ],
      "text/plain": [
       "                                                                          mapping  \\\n",
       "0        original value: \"Y\" -> HP: Mitral valve prolapse (HP:0001634) (observed)   \n",
       "1       original value: \"N \" -> HP: Mitral valve prolapse (HP:0001634) (excluded)   \n",
       "2  original value: \"nan\" -> HP: Mitral valve prolapse (HP:0001634) (not measured)   \n",
       "\n",
       "  count  \n",
       "0     3  \n",
       "1     4  \n",
       "2     1  "
      ]
     },
     "execution_count": 24,
     "metadata": {},
     "output_type": "execute_result"
    }
   ],
   "source": [
    "# MVPS, mitral valve prolapse syndrome - Mitral valve prolapse HP:0001634\n",
    "mvpsMapper = SimpleColumnMapper(column_name='MVPS',hpo_id=\"HP:0001634\", hpo_label=\"Mitral valve prolapse\", observed=\"Y\", excluded=\"N\")\n",
    "column_mapper_list.append(mvpsMapper)\n",
    "mvpsMapper.preview_column(dft)"
   ]
  },
  {
   "cell_type": "code",
   "execution_count": 25,
   "id": "b953e6a8-886b-43b7-a759-fe2ae1b52bef",
   "metadata": {},
   "outputs": [
    {
     "data": {
      "text/html": [
       "<div>\n",
       "<style scoped>\n",
       "    .dataframe tbody tr th:only-of-type {\n",
       "        vertical-align: middle;\n",
       "    }\n",
       "\n",
       "    .dataframe tbody tr th {\n",
       "        vertical-align: top;\n",
       "    }\n",
       "\n",
       "    .dataframe thead th {\n",
       "        text-align: right;\n",
       "    }\n",
       "</style>\n",
       "<table border=\"1\" class=\"dataframe\">\n",
       "  <thead>\n",
       "    <tr style=\"text-align: right;\">\n",
       "      <th></th>\n",
       "      <th>mapping</th>\n",
       "      <th>count</th>\n",
       "    </tr>\n",
       "  </thead>\n",
       "  <tbody>\n",
       "    <tr>\n",
       "      <th>0</th>\n",
       "      <td>original value: \"nan\" -&gt; HP: Hydrocephalus (HP:0000238) (not measured)</td>\n",
       "      <td>5</td>\n",
       "    </tr>\n",
       "    <tr>\n",
       "      <th>1</th>\n",
       "      <td>original value: \"Y\" -&gt; HP: Hydrocephalus (HP:0000238) (observed)</td>\n",
       "      <td>3</td>\n",
       "    </tr>\n",
       "  </tbody>\n",
       "</table>\n",
       "</div>"
      ],
      "text/plain": [
       "                                                                  mapping  \\\n",
       "0  original value: \"nan\" -> HP: Hydrocephalus (HP:0000238) (not measured)   \n",
       "1        original value: \"Y\" -> HP: Hydrocephalus (HP:0000238) (observed)   \n",
       "\n",
       "  count  \n",
       "0     5  \n",
       "1     3  "
      ]
     },
     "execution_count": 25,
     "metadata": {},
     "output_type": "execute_result"
    }
   ],
   "source": [
    "# Hydrocephalus HP:0000238\n",
    "arrested_hydrocephalusMapper = SimpleColumnMapper(column_name='Arrested hydrocephalus',hpo_id=\"HP:0000238\", hpo_label=\"Hydrocephalus\", observed=\"Y\", excluded=\"N\")\n",
    "column_mapper_list.append(arrested_hydrocephalusMapper)\n",
    "arrested_hydrocephalusMapper.preview_column(dft)"
   ]
  },
  {
   "cell_type": "code",
   "execution_count": 26,
   "id": "895d1b85-14ac-4386-b92d-508c791f98c6",
   "metadata": {},
   "outputs": [
    {
     "data": {
      "text/html": [
       "<div>\n",
       "<style scoped>\n",
       "    .dataframe tbody tr th:only-of-type {\n",
       "        vertical-align: middle;\n",
       "    }\n",
       "\n",
       "    .dataframe tbody tr th {\n",
       "        vertical-align: top;\n",
       "    }\n",
       "\n",
       "    .dataframe thead th {\n",
       "        text-align: right;\n",
       "    }\n",
       "</style>\n",
       "<table border=\"1\" class=\"dataframe\">\n",
       "  <thead>\n",
       "    <tr style=\"text-align: right;\">\n",
       "      <th></th>\n",
       "      <th>mapping</th>\n",
       "      <th>count</th>\n",
       "    </tr>\n",
       "  </thead>\n",
       "  <tbody>\n",
       "    <tr>\n",
       "      <th>0</th>\n",
       "      <td>Hydronephrosis (HP:0000126) (observed)</td>\n",
       "      <td>1</td>\n",
       "    </tr>\n",
       "  </tbody>\n",
       "</table>\n",
       "</div>"
      ],
      "text/plain": [
       "                                  mapping count\n",
       "0  Hydronephrosis (HP:0000126) (observed)     1"
      ]
     },
     "execution_count": 26,
     "metadata": {},
     "output_type": "execute_result"
    }
   ],
   "source": [
    "rgc_d = {'Hydronephrosis': 'Hydronephrosis'}\n",
    "excluded_d = {  'N': 'Abnormality of the kidney'}\n",
    "rgcMapper = OptionColumnMapper(column_name='RGC',concept_recognizer=hpo_cr, option_d=rgc_d, excluded_d=excluded_d)\n",
    "column_mapper_list.append(rgcMapper)\n",
    "rgcMapper.preview_column(dft)"
   ]
  },
  {
   "cell_type": "code",
   "execution_count": 27,
   "id": "7a448494-dcfb-437a-8d96-44cc6f22e2d4",
   "metadata": {},
   "outputs": [
    {
     "data": {
      "text/html": [
       "<div>\n",
       "<style scoped>\n",
       "    .dataframe tbody tr th:only-of-type {\n",
       "        vertical-align: middle;\n",
       "    }\n",
       "\n",
       "    .dataframe tbody tr th {\n",
       "        vertical-align: top;\n",
       "    }\n",
       "\n",
       "    .dataframe thead th {\n",
       "        text-align: right;\n",
       "    }\n",
       "</style>\n",
       "<table border=\"1\" class=\"dataframe\">\n",
       "  <thead>\n",
       "    <tr style=\"text-align: right;\">\n",
       "      <th></th>\n",
       "      <th>mapping</th>\n",
       "      <th>count</th>\n",
       "    </tr>\n",
       "  </thead>\n",
       "  <tbody>\n",
       "    <tr>\n",
       "      <th>0</th>\n",
       "      <td>Dural ectasia (HP:0100775) (observed)</td>\n",
       "      <td>3</td>\n",
       "    </tr>\n",
       "  </tbody>\n",
       "</table>\n",
       "</div>"
      ],
      "text/plain": [
       "                                 mapping count\n",
       "0  Dural ectasia (HP:0100775) (observed)     3"
      ]
     },
     "execution_count": 27,
     "metadata": {},
     "output_type": "execute_result"
    }
   ],
   "source": [
    "#Dural ectasia HP:0100775\n",
    "dural_ectasia_d = {'Lumbosacral': 'Dural ectasia', 'Y': 'Dural ectasia'}\n",
    "excluded_d = {\"N\":'Dural ectasia'}\n",
    "dural_ectasiaMapper = OptionColumnMapper(column_name='Dural ectasia',\n",
    "                                         concept_recognizer=hpo_cr, option_d=dural_ectasia_d, excluded_d=excluded_d)\n",
    "column_mapper_list.append(dural_ectasiaMapper)\n",
    "dural_ectasiaMapper.preview_column(dft)"
   ]
  },
  {
   "cell_type": "code",
   "execution_count": 28,
   "id": "20f4ed22-ab0f-47e7-8d49-06bba5451f2f",
   "metadata": {},
   "outputs": [
    {
     "data": {
      "text/html": [
       "<div>\n",
       "<style scoped>\n",
       "    .dataframe tbody tr th:only-of-type {\n",
       "        vertical-align: middle;\n",
       "    }\n",
       "\n",
       "    .dataframe tbody tr th {\n",
       "        vertical-align: top;\n",
       "    }\n",
       "\n",
       "    .dataframe thead th {\n",
       "        text-align: right;\n",
       "    }\n",
       "</style>\n",
       "<table border=\"1\" class=\"dataframe\">\n",
       "  <thead>\n",
       "    <tr style=\"text-align: right;\">\n",
       "      <th></th>\n",
       "      <th>mapping</th>\n",
       "      <th>count</th>\n",
       "    </tr>\n",
       "  </thead>\n",
       "  <tbody>\n",
       "    <tr>\n",
       "      <th>0</th>\n",
       "      <td>original value: \"nan\" -&gt; HP: Hypertension (HP:0000822) (not measured)</td>\n",
       "      <td>6</td>\n",
       "    </tr>\n",
       "    <tr>\n",
       "      <th>1</th>\n",
       "      <td>original value: \"Y\" -&gt; HP: Hypertension (HP:0000822) (observed)</td>\n",
       "      <td>1</td>\n",
       "    </tr>\n",
       "    <tr>\n",
       "      <th>2</th>\n",
       "      <td>original value: \"N \" -&gt; HP: Hypertension (HP:0000822) (excluded)</td>\n",
       "      <td>1</td>\n",
       "    </tr>\n",
       "  </tbody>\n",
       "</table>\n",
       "</div>"
      ],
      "text/plain": [
       "                                                                 mapping count\n",
       "0  original value: \"nan\" -> HP: Hypertension (HP:0000822) (not measured)     6\n",
       "1        original value: \"Y\" -> HP: Hypertension (HP:0000822) (observed)     1\n",
       "2       original value: \"N \" -> HP: Hypertension (HP:0000822) (excluded)     1"
      ]
     },
     "execution_count": 28,
     "metadata": {},
     "output_type": "execute_result"
    }
   ],
   "source": [
    "# Hypertension HP:0000822\n",
    "hypertensionMapper = SimpleColumnMapper(column_name='Hypertension',hpo_id=\"HP:0000822\", hpo_label=\"Hypertension\", observed='Y', excluded='N')\n",
    "column_mapper_list.append(hypertensionMapper)\n",
    "hypertensionMapper.preview_column(dft)"
   ]
  },
  {
   "cell_type": "code",
   "execution_count": 29,
   "id": "7bb2fcaa-42ca-48d9-a348-fd1e42294974",
   "metadata": {},
   "outputs": [
    {
     "data": {
      "text/html": [
       "<div>\n",
       "<style scoped>\n",
       "    .dataframe tbody tr th:only-of-type {\n",
       "        vertical-align: middle;\n",
       "    }\n",
       "\n",
       "    .dataframe tbody tr th {\n",
       "        vertical-align: top;\n",
       "    }\n",
       "\n",
       "    .dataframe thead th {\n",
       "        text-align: right;\n",
       "    }\n",
       "</style>\n",
       "<table border=\"1\" class=\"dataframe\">\n",
       "  <thead>\n",
       "    <tr style=\"text-align: right;\">\n",
       "      <th></th>\n",
       "      <th>mapping</th>\n",
       "      <th>count</th>\n",
       "    </tr>\n",
       "  </thead>\n",
       "  <tbody>\n",
       "    <tr>\n",
       "      <th>0</th>\n",
       "      <td>original value: \"nan\" -&gt; HP: Congenital hip dislocation (HP:0001374) (not measured)</td>\n",
       "      <td>7</td>\n",
       "    </tr>\n",
       "    <tr>\n",
       "      <th>1</th>\n",
       "      <td>original value: \"Y\" -&gt; HP: Congenital hip dislocation (HP:0001374) (observed)</td>\n",
       "      <td>1</td>\n",
       "    </tr>\n",
       "  </tbody>\n",
       "</table>\n",
       "</div>"
      ],
      "text/plain": [
       "                                                                               mapping  \\\n",
       "0  original value: \"nan\" -> HP: Congenital hip dislocation (HP:0001374) (not measured)   \n",
       "1        original value: \"Y\" -> HP: Congenital hip dislocation (HP:0001374) (observed)   \n",
       "\n",
       "  count  \n",
       "0     7  \n",
       "1     1  "
      ]
     },
     "execution_count": 29,
     "metadata": {},
     "output_type": "execute_result"
    }
   ],
   "source": [
    "# CHD = Congenital hip dislocation HP:0001374\n",
    "chdMapper = SimpleColumnMapper(column_name='CHD',hpo_id=\"HP:0001374\", hpo_label='Congenital hip dislocation', observed='Y', excluded='N')\n",
    "column_mapper_list.append(chdMapper)\n",
    "chdMapper.preview_column(dft)"
   ]
  },
  {
   "cell_type": "markdown",
   "id": "33624d21-01f3-4f46-939b-7712ce78011b",
   "metadata": {},
   "source": [
    "<h2>Variants</h2>\n",
    "<p>Note that the variant reported as c.8206_8027insA should be\n",
    "is NM_000138.5:c.8206dup, NP_000129.3:p.(Thr2736AsnfsTer2) - checked with VariantValidator and in the original publication. We corrected this in the input file.\n",
    "</p>"
   ]
  },
  {
   "cell_type": "code",
   "execution_count": 30,
   "id": "5adcc75b-0f70-419d-8d5b-8f9fa26aee8d",
   "metadata": {},
   "outputs": [
    {
     "name": "stdout",
     "output_type": "stream",
     "text": [
      "https://rest.variantvalidator.org/VariantValidator/variantvalidator/hg38/NM_000138.5%3Ac.8155_8156del/NM_000138.5?content-type=application%2Fjson\n",
      "https://rest.variantvalidator.org/VariantValidator/variantvalidator/hg38/NM_000138.5%3Ac.8156_8175del/NM_000138.5?content-type=application%2Fjson\n",
      "https://rest.variantvalidator.org/VariantValidator/variantvalidator/hg38/NM_000138.5%3Ac.8226+1G>T/NM_000138.5?content-type=application%2Fjson\n",
      "https://rest.variantvalidator.org/VariantValidator/variantvalidator/hg38/NM_000138.5%3Ac.8175_8182del/NM_000138.5?content-type=application%2Fjson\n",
      "https://rest.variantvalidator.org/VariantValidator/variantvalidator/hg38/NM_000138.5%3Ac.8226+1G>A/NM_000138.5?content-type=application%2Fjson\n",
      "https://rest.variantvalidator.org/VariantValidator/variantvalidator/hg38/NM_000138.5%3Ac.8206dup/NM_000138.5?content-type=application%2Fjson\n",
      "https://rest.variantvalidator.org/VariantValidator/variantvalidator/hg38/NM_000138.5%3Ac.8275_8291del/NM_000138.5?content-type=application%2Fjson\n",
      "We encoded 7 variants\n"
     ]
    }
   ],
   "source": [
    "fbn1_transcript='NM_000138.5' \n",
    "vvalidator = VariantValidator(genome_build=\"hg38\", transcript=fbn1_transcript)\n",
    "variant_d = {}\n",
    "for v in dft['Variant'].unique():\n",
    "    var = vvalidator.encode_hgvs(v)\n",
    "    variant_d[v] = var\n",
    "print(f\"We encoded {len(variant_d)} variants\")\n",
    "    \n",
    "varMapper = VariantColumnMapper(variant_d=variant_d,\n",
    "                                variant_column_name='Variant', \n",
    "                                default_genotype='heterozygous')\n",
    "#varMapper.preview_column(column=dft['Variant'])"
   ]
  },
  {
   "cell_type": "code",
   "execution_count": 31,
   "id": "6a6cfd34-2fad-41d0-993a-e1953ae6923c",
   "metadata": {},
   "outputs": [],
   "source": [
    "ageMapper = AgeColumnMapper.by_year(\"Age (year)\")\n",
    "#ageMapper.preview_column(dft[\"Age (year)\"])"
   ]
  },
  {
   "cell_type": "code",
   "execution_count": 32,
   "id": "f182f8b3-70d7-48a6-a833-b7b39ef88b55",
   "metadata": {},
   "outputs": [],
   "source": [
    "sexMapper = SexColumnMapper(male_symbol=\"Male\", female_symbol=\"Female\", column_name=\"Gender\")\n",
    "#sexMapper.preview_column(dft[\"Gender\"])"
   ]
  },
  {
   "cell_type": "code",
   "execution_count": 33,
   "id": "77282476-7bfe-427f-b957-47b3c8548831",
   "metadata": {},
   "outputs": [],
   "source": [
    "pmid = \"PMID:31774634\"\n",
    "encoder = CohortEncoder(df=dft, \n",
    "                        hpo_cr=hpo_cr, \n",
    "                        column_mapper_list=column_mapper_list, \n",
    "                        individual_column_name=\"patient_id\", \n",
    "                        age_of_onset_mapper=ageMapper, \n",
    "                        sexmapper=sexMapper,\n",
    "                        variant_mapper=varMapper,\n",
    "                        metadata=metadata)\n",
    "omim_id = \"OMIM:616914\"\n",
    "omim_label = \"Marfan lipodystrophy syndrome\"\n",
    "mls = Disease(disease_id=omim_id, disease_label=omim_label)\n",
    "encoder.set_disease(disease=mls)"
   ]
  },
  {
   "cell_type": "code",
   "execution_count": 34,
   "id": "6c9593be-4c4d-488d-a0ca-9da6932a1187",
   "metadata": {},
   "outputs": [
    {
     "data": {
      "text/html": [
       "<h2>Cohort validation</h2>\n",
       "<p>Errors found with 8 of 8 phenopackets.</p>\n",
       "<table style=\"border: 2px solid black; align: \"left\">\n",
       "<caption>Error counts</caption>\n",
       "<tr><th style=\"text-align: left;font-weight: bold;\">Level</th><th style=\"text-align: left;font-weight: bold;\">Error category</th><th style=\"text-align: left;font-weight: bold;\">Count</th></tr>\n",
       "<tr><td style=\"text-align: left;\">INFORMATION</td><td style=\"text-align: left;\">NOT_MEASURED</td><td style=\"text-align: left;\">55</td></tr>\n",
       "</table>\n",
       "<p>A total of 55 issues were fixed and no individual was removed from the cohort.</p>"
      ],
      "text/plain": [
       "<IPython.core.display.HTML object>"
      ]
     },
     "metadata": {},
     "output_type": "display_data"
    }
   ],
   "source": [
    "individuals = encoder.get_individuals()\n",
    "cvalidator = CohortValidator(cohort=individuals, ontology=hpo, min_hpo=1, allelic_requirement=AllelicRequirement.MONO_ALLELIC)\n",
    "qc = QcVisualizer(cohort_validator=cvalidator)\n",
    "display(HTML(qc.to_summary_html()))"
   ]
  },
  {
   "cell_type": "code",
   "execution_count": 35,
   "id": "c48f1354-a5ca-4eba-a2e6-7c317e4a5fdb",
   "metadata": {},
   "outputs": [],
   "source": [
    "individuals = cvalidator.get_error_free_individual_list()"
   ]
  },
  {
   "cell_type": "code",
   "execution_count": 36,
   "id": "613a9b37-21d0-4602-9a16-1458879a0dfd",
   "metadata": {},
   "outputs": [
    {
     "data": {
      "text/html": [
       "<table style=\"border: 2px solid black; align: \"left\">\n",
       "<caption>8 phenopackets - PMID:31774634 (n=8)</caption>\n",
       "<tr><th style=\"text-align: left;font-weight: bold;\">Individual</th><th style=\"text-align: left;font-weight: bold;\">Disease</th><th style=\"text-align: left;font-weight: bold;\">Genotype</th><th style=\"text-align: left;font-weight: bold;\">Phenotypic features</th></tr>\n",
       "<tr><td style=\"text-align: left;\">Graul-Neumann et al. (2010) (FEMALE; )</td><td style=\"text-align: left;\">Marfan lipodystrophy syndrome (OMIM:616914)</td><td style=\"text-align: left;\">NM_000138.5:c.8155_8156del (heterozygous)</td><td style=\"text-align: left;\">Proptosis (HP:0000520); Myopia (HP:0000545); Ectopia lentis (HP:0001083); High palate (HP:0000218); Kyphosis (HP:0002808); Bruising susceptibility (HP:0000978); Mitral valve prolapse (HP:0001634); Dural ectasia (HP:0100775)</td></tr>\n",
       "<tr><td style=\"text-align: left;\">Goldblatt et al. (2011) (MALE; )</td><td style=\"text-align: left;\">Marfan lipodystrophy syndrome (OMIM:616914)</td><td style=\"text-align: left;\">NM_000138.5:c.8156_8175del (heterozygous)</td><td style=\"text-align: left;\">Proptosis (HP:0000520); Myopia (HP:0000545); Ectopia lentis (HP:0001083); High palate (HP:0000218); Pectus excavatum (HP:0000767); Finger joint hypermobility (HP:0006094); Pes planus (HP:0001763); Bruising susceptibility (HP:0000978); Hydrocephalus (HP:0000238); excluded: Abnormal upper to lower segment ratio (HP:0012772); excluded: Mitral valve prolapse (HP:0001634)</td></tr>\n",
       "<tr><td style=\"text-align: left;\">Horn and Robinson et al. (2011) (FEMALE; )</td><td style=\"text-align: left;\">Marfan lipodystrophy syndrome (OMIM:616914)</td><td style=\"text-align: left;\">NM_000138.5:c.8226+1G>T (heterozygous)</td><td style=\"text-align: left;\">Proptosis (HP:0000520); High palate (HP:0000218); Hydrocephalus (HP:0000238); excluded: Abnormal upper to lower segment ratio (HP:0012772); excluded: Mitral valve prolapse (HP:0001634)</td></tr>\n",
       "<tr><td style=\"text-align: left;\">Takenouchi et al. (2013) (FEMALE; )</td><td style=\"text-align: left;\">Marfan lipodystrophy syndrome (OMIM:616914)</td><td style=\"text-align: left;\">NM_000138.5:c.8175_8182del (heterozygous)</td><td style=\"text-align: left;\">Proptosis (HP:0000520); Myopia (HP:0000545); Pectus excavatum (HP:0000767); Arachnodactyly (HP:0001166); Finger joint hypermobility (HP:0006094); Hydrocephalus (HP:0000238); Hydronephrosis (HP:0000126); Dural ectasia (HP:0100775); Hypertension (HP:0000822); excluded: Abnormal upper to lower segment ratio (HP:0012772); excluded: Mitral valve prolapse (HP:0001634)</td></tr>\n",
       "<tr><td style=\"text-align: left;\">Jacquinet et al. (2014) (FEMALE; )</td><td style=\"text-align: left;\">Marfan lipodystrophy syndrome (OMIM:616914)</td><td style=\"text-align: left;\">NM_000138.5:c.8226+1G>A (heterozygous)</td><td style=\"text-align: left;\">Proptosis (HP:0000520); High myopia (HP:0011003); Arachnodactyly (HP:0001166); Finger joint hypermobility (HP:0006094); Pes valgus (HP:0008081); Dural ectasia (HP:0100775); excluded: Abnormal upper to lower segment ratio (HP:0012772); excluded: Pectus excavatum (HP:0000767); excluded: Mitral valve prolapse (HP:0001634)</td></tr>\n",
       "<tr><td style=\"text-align: left;\">Garg and Xing et al. (2014) patient 1 (FEMALE; )</td><td style=\"text-align: left;\">Marfan lipodystrophy syndrome (OMIM:616914)</td><td style=\"text-align: left;\">NM_000138.5:c.8206dup (heterozygous)</td><td style=\"text-align: left;\">Proptosis (HP:0000520); Myopia (HP:0000545); Ectopia lentis (HP:0001083); High palate (HP:0000218); Scoliosis (HP:0002650); Finger joint hypermobility (HP:0006094); excluded: Abnormal upper to lower segment ratio (HP:0012772); excluded: Pectus excavatum (HP:0000767); excluded: Bruising susceptibility (HP:0000978)</td></tr>\n",
       "<tr><td style=\"text-align: left;\">Garg and Xing et al. (2014) patient 2 (FEMALE; )</td><td style=\"text-align: left;\">Marfan lipodystrophy syndrome (OMIM:616914)</td><td style=\"text-align: left;\">NM_000138.5:c.8226+1G>T (heterozygous)</td><td style=\"text-align: left;\">Proptosis (HP:0000520); Myopia (HP:0000545); Pectus excavatum (HP:0000767); Scoliosis (HP:0002650); Finger joint hypermobility (HP:0006094); Pes planus (HP:0001763); Mitral valve prolapse (HP:0001634); excluded: Abnormal upper to lower segment ratio (HP:0012772); excluded: High palate (HP:0000218); excluded: Bruising susceptibility (HP:0000978)</td></tr>\n",
       "<tr><td style=\"text-align: left;\">XH601 (this study) (FEMALE; )</td><td style=\"text-align: left;\">Marfan lipodystrophy syndrome (OMIM:616914)</td><td style=\"text-align: left;\">NM_000138.5:c.8275_8291del (heterozygous)</td><td style=\"text-align: left;\">Proptosis (HP:0000520); Downslanted palpebral fissures (HP:0000494); Myopia (HP:0000545); Scoliosis (HP:0002650); Subluxation of metacarpal phalangeal joints (HP:0004294); Interosseus muscle atrophy (HP:0007181); Arachnodactyly (HP:0001166); Finger joint hypermobility (HP:0006094); Bruising susceptibility (HP:0000978); Mitral valve prolapse (HP:0001634); Congenital hip dislocation (HP:0001374); excluded: Abnormal upper to lower segment ratio (HP:0012772); excluded: Pectus excavatum (HP:0000767); excluded: Hypertension (HP:0000822)</td></tr>\n",
       "</table>"
      ],
      "text/plain": [
       "<IPython.core.display.HTML object>"
      ]
     },
     "metadata": {},
     "output_type": "display_data"
    }
   ],
   "source": [
    "phenopackets = [i.to_ga4gh_phenopacket(metadata=metadata.to_ga4gh()) for i in individuals]\n",
    "table = PhenopacketTable(phenopacket_list=phenopackets)\n",
    "display(HTML(table.to_html()))"
   ]
  },
  {
   "cell_type": "code",
   "execution_count": 37,
   "id": "350664c6-08ae-4f2c-89f8-5b3f2ee7a422",
   "metadata": {},
   "outputs": [
    {
     "name": "stdout",
     "output_type": "stream",
     "text": [
      "We output 8 GA4GH phenopackets to the directory phenopackets\n"
     ]
    }
   ],
   "source": [
    "output_directory = \"phenopackets\"\n",
    "Individual.output_individuals_as_phenopackets(individual_list=individuals,\n",
    "                                              metadata=metadata,\n",
    "                                              outdir=output_directory)"
   ]
  },
  {
   "cell_type": "code",
   "execution_count": null,
   "id": "6a46a733-fb94-43b9-947a-f7f1a9b9a7bc",
   "metadata": {},
   "outputs": [],
   "source": []
  }
 ],
 "metadata": {
  "kernelspec": {
   "display_name": "Python 3 (ipykernel)",
   "language": "python",
   "name": "python3"
  },
  "language_info": {
   "codemirror_mode": {
    "name": "ipython",
    "version": 3
   },
   "file_extension": ".py",
   "mimetype": "text/x-python",
   "name": "python",
   "nbconvert_exporter": "python",
   "pygments_lexer": "ipython3",
   "version": "3.10.12"
  }
 },
 "nbformat": 4,
 "nbformat_minor": 5
}
