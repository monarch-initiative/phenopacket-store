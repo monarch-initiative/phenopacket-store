{
 "cells": [
  {
   "cell_type": "markdown",
   "metadata": {},
   "source": [
    "# FBN1\n",
    "[geleophysic dysplasia-2 (GPHYSD2)](https://omim.org/entry/614185) is caused by heterozygous mutation in exon 41 or 42 of the FBN1 gene.\n",
    "\n",
    "Some data is derived from [Le Goff C, et al. (2011) Mutations in the TGFβ binding-protein-like domain 5 of FBN1 are responsible for acromicric and geleophysic dysplasias](https://pubmed.ncbi.nlm.nih.gov/21683322/).\n",
    "\n",
    "According to Le Goff et al., Geleophysic dysplasia (GD, [MIM 231050]) and acromicric dysplasia (AD, [MIM 102370]) belong to the acromelic dysplasia group and are both characterized by severe short stature (more than −3 standard deviations [SD]), short hands and feet, joint limitations, and skin thickening.\n",
    "\n",
    "Radiological manifestations include delayed bone age, cone-shaped epiphyses, shortened long tubular bones, and ovoid vertebral bodies. GD is distinct from AD because it has an autosomal-recessive mode of inheritance, characteristic facial features—a “happy” face with full cheeks, a shortened nose, hypertelorism, a long and flat philtrum, and a thin upper lip—a progressive cardiac valvular thickening often leading to an early death, toe walking, tracheal stenosis, respiratory insufficiency, and lysosomal-like storage vacuoles in various tissues.\n",
    "\n",
    "According to the authors, there were \"Nineteen GD cases were included in the study, and they all fulfilled the diagnostic criteria, namely short stature, short hands and feet, restricted joint mobility, characteristic facial features, and progressive cardiac involvement (Table 1, Figure 1). \n",
    "\n",
    "Detailed clinical data are not available, but according to this description, we will assume that each proband had \"progressive dilation and thickening of the pulmonary, aortic, and mitral valves, with stenosis of these three valves (See the [GeneReview](https://www.ncbi.nlm.nih.gov/books/NBK11168/) entry for geleophysic dysplasia) as well as the above named facial features."
   ]
  },
  {
   "cell_type": "markdown",
   "metadata": {},
   "source": [
    "\n",
    "<p>From this description, we will assume that all patients have the following HPO terms in addition to the terms implied by the table (which was copied with minor modifications from Table 1 of the original paper).</p>\n",
    "<ol>\n",
    "    <li>Short stature HP:0004322</li>\n",
    "    <li>Short palm HP:0004279</li>\n",
    "    <li>Short foot HP:0001773</li>\n",
    "    <li>Limitation of joint mobility HP:0001376</li>\n",
    "    <li>Full cheeks HP:0000293</li>\n",
    "    <li>Short nose HP:0003196</li>\n",
    "    <li>Hypertelorism HP:0000316</li>\n",
    "    <li>Long philtrum HP:0000343</li>\n",
    "    <li>Smooth philtrum HP:0000319</li>\n",
    "    <li>Thin upper lip vermilion HP:0000219</li>\n",
    "</ol>"
   ]
  },
  {
   "cell_type": "code",
   "execution_count": 1,
   "metadata": {},
   "outputs": [
    {
     "name": "stdout",
     "output_type": "stream",
     "text": [
      "pyphetools version 0.9.110\n"
     ]
    }
   ],
   "source": [
    "from pyphetools.creation import TemplateImporter, Moi\n",
    "from IPython.display import display, HTML\n",
    "from pyphetools.visualization import QcVisualizer, IndividualTable\n",
    "import pyphetools\n",
    "print(f\"pyphetools version {pyphetools.__version__}\")"
   ]
  },
  {
   "cell_type": "code",
   "execution_count": 2,
   "metadata": {},
   "outputs": [
    {
     "name": "stdout",
     "output_type": "stream",
     "text": [
      "HPO version 2024-08-13\n",
      "Created encoders for 52 fields\n",
      "Importing OMIM:614185, Geleophysic dysplasia 2, HGNC:3603, FBN1,  NM_000138.5\n",
      "We output 19 GA4GH phenopackets to the directory phenopackets\n"
     ]
    }
   ],
   "source": [
    "template = \"input/FBN1_GPHYSD2_individuals.xlsx\"\n",
    "created_by=\"ORCID:0000-0002-0736-9199\"\n",
    "timporter = TemplateImporter(template=template, created_by=created_by)\n",
    "individual_list, cvalidator = timporter.import_phenopackets_from_template()"
   ]
  },
  {
   "cell_type": "code",
   "execution_count": 3,
   "metadata": {},
   "outputs": [
    {
     "data": {
      "text/html": [
       "<h2>Cohort validation</h2>\n",
       "<p>Errors found with 16 of 19 phenopackets.</p>\n",
       "<table style=\"border: 2px solid black; align: \"left\">\n",
       "<caption>Error counts</caption>\n",
       "<tr><th style=\"text-align: left;font-weight: bold;\">Level</th><th style=\"text-align: left;font-weight: bold;\">Error category</th><th style=\"text-align: left;font-weight: bold;\">Count</th></tr>\n",
       "<tr><td style=\"text-align: left;\">WARNING</td><td style=\"text-align: left;\">REDUNDANT</td><td style=\"text-align: left;\">16</td></tr>\n",
       "</table>\n",
       "<p>A total of 16 issues were fixed and no individual was removed from the cohort.</p>"
      ],
      "text/plain": [
       "<IPython.core.display.HTML object>"
      ]
     },
     "metadata": {},
     "output_type": "display_data"
    }
   ],
   "source": [
    "qc = QcVisualizer(cohort_validator=cvalidator)\n",
    "display(HTML(qc.to_summary_html()))"
   ]
  },
  {
   "cell_type": "code",
   "execution_count": 4,
   "metadata": {},
   "outputs": [
    {
     "data": {
      "text/html": [
       "<table style=\"border: 2px solid black; align: \"left\">\n",
       "<caption>19 phenopackets - PMID:21683322 (n=19)</caption>\n",
       "<tr><th style=\"text-align: left;font-weight: bold;\">Individual</th><th style=\"text-align: left;font-weight: bold;\">Disease</th><th style=\"text-align: left;font-weight: bold;\">Genotype</th><th style=\"text-align: left;font-weight: bold;\">Phenotypic features</th></tr>\n",
       "<tr><td style=\"text-align: left;\">GD Family 1 (UNKNOWN; P9Y)</td><td style=\"text-align: left;\">Geleophysic dysplasia 2 (OMIM:614185)</td><td style=\"text-align: left;\">NM_000138.5:c.5087A>G (heterozygous)</td><td style=\"text-align: left;\">Long philtrum (HP:0000343): onset ; Smooth philtrum (HP:0000319): onset ; Thin upper lip vermilion (HP:0000219): onset ; Hypertelorism (HP:0000316): onset ; Full cheeks (HP:0000293): onset ; Short palm (HP:0004279): onset ; Short foot (HP:0001773): onset ; Short nose (HP:0003196): onset ; Mitral regurgitation (HP:0001653): onset ; Mitral stenosis (HP:0001718): onset ; Limitation of joint mobility (HP:0001376): onset ; Severe short stature (HP:0003510): onset ; excluded: Laryngeal stenosis (HP:0001602): onset ; excluded: Mitral valve prolapse (HP:0001634): onset ; excluded: Tricuspid stenosis (HP:0010446): onset ; excluded: Aortic valve stenosis (HP:0001650): onset ; excluded: Aortic regurgitation (HP:0001659): onset ; excluded: Aortic aneurysm (HP:0004942): onset ; excluded: Pulmonary arterial hypertension (HP:0002092): onset ; excluded: Hepatomegaly (HP:0002240): onset ; excluded: Respiratory insufficiency (HP:0002093): onset ; excluded: Joint hypermobility (HP:0001382): onset ; excluded: Moderately short stature (HP:0008848): onset ; excluded: Mild short stature (HP:0003502): onset ; excluded: Tall stature (HP:0000098): onset ; excluded: Sleep apnea (HP:0010535): onset </td></tr>\n",
       "<tr><td style=\"text-align: left;\">GD Family 2 (UNKNOWN; P18Y)</td><td style=\"text-align: left;\">Geleophysic dysplasia 2 (OMIM:614185)</td><td style=\"text-align: left;\">NM_000138.5:c.5096A>G (heterozygous)</td><td style=\"text-align: left;\">Long philtrum (HP:0000343): onset ; Smooth philtrum (HP:0000319): onset ; Thin upper lip vermilion (HP:0000219): onset ; Hypertelorism (HP:0000316): onset ; Laryngeal stenosis (HP:0001602): onset ; Full cheeks (HP:0000293): onset ; Short palm (HP:0004279): onset ; Short foot (HP:0001773): onset ; Short nose (HP:0003196): onset ; Mitral stenosis (HP:0001718): onset ; Hepatomegaly (HP:0002240): onset ; Respiratory insufficiency (HP:0002093): onset ; Limitation of joint mobility (HP:0001376): onset ; Severe short stature (HP:0003510): onset ; excluded: Mitral valve prolapse (HP:0001634): onset ; excluded: Mitral regurgitation (HP:0001653): onset ; excluded: Tricuspid stenosis (HP:0010446): onset ; excluded: Aortic valve stenosis (HP:0001650): onset ; excluded: Aortic regurgitation (HP:0001659): onset ; excluded: Aortic aneurysm (HP:0004942): onset ; excluded: Pulmonary arterial hypertension (HP:0002092): onset ; excluded: Joint hypermobility (HP:0001382): onset ; excluded: Moderately short stature (HP:0008848): onset ; excluded: Mild short stature (HP:0003502): onset ; excluded: Tall stature (HP:0000098): onset ; excluded: Sleep apnea (HP:0010535): onset </td></tr>\n",
       "<tr><td style=\"text-align: left;\">GD Family 3 (UNKNOWN; P12Y)</td><td style=\"text-align: left;\">Geleophysic dysplasia 2 (OMIM:614185)</td><td style=\"text-align: left;\">NM_000138.5:c.5284G>A (heterozygous)</td><td style=\"text-align: left;\">Long philtrum (HP:0000343): onset ; Smooth philtrum (HP:0000319): onset ; Thin upper lip vermilion (HP:0000219): onset ; Hypertelorism (HP:0000316): onset ; Full cheeks (HP:0000293): onset ; Short palm (HP:0004279): onset ; Short foot (HP:0001773): onset ; Short nose (HP:0003196): onset ; Hepatomegaly (HP:0002240): onset ; Limitation of joint mobility (HP:0001376): onset ; Severe short stature (HP:0003510): onset ; excluded: Laryngeal stenosis (HP:0001602): onset ; excluded: Mitral valve prolapse (HP:0001634): onset ; excluded: Mitral regurgitation (HP:0001653): onset ; excluded: Mitral stenosis (HP:0001718): onset ; excluded: Tricuspid stenosis (HP:0010446): onset ; excluded: Aortic valve stenosis (HP:0001650): onset ; excluded: Aortic regurgitation (HP:0001659): onset ; excluded: Aortic aneurysm (HP:0004942): onset ; excluded: Pulmonary arterial hypertension (HP:0002092): onset ; excluded: Respiratory insufficiency (HP:0002093): onset ; excluded: Joint hypermobility (HP:0001382): onset ; excluded: Moderately short stature (HP:0008848): onset ; excluded: Mild short stature (HP:0003502): onset ; excluded: Tall stature (HP:0000098): onset ; excluded: Sleep apnea (HP:0010535): onset </td></tr>\n",
       "<tr><td style=\"text-align: left;\">GD Family 4 (UNKNOWN; P21Y)</td><td style=\"text-align: left;\">Geleophysic dysplasia 2 (OMIM:614185)</td><td style=\"text-align: left;\">NM_000138.5:c.5096A>G (heterozygous)</td><td style=\"text-align: left;\">Long philtrum (HP:0000343): onset ; Smooth philtrum (HP:0000319): onset ; Thin upper lip vermilion (HP:0000219): onset ; Hypertelorism (HP:0000316): onset ; Full cheeks (HP:0000293): onset ; Short palm (HP:0004279): onset ; Short foot (HP:0001773): onset ; Short nose (HP:0003196): onset ; Tricuspid stenosis (HP:0010446): onset ; Aortic regurgitation (HP:0001659): onset ; Limitation of joint mobility (HP:0001376): onset ; Severe short stature (HP:0003510): onset ; excluded: Laryngeal stenosis (HP:0001602): onset ; excluded: Mitral valve prolapse (HP:0001634): onset ; excluded: Mitral regurgitation (HP:0001653): onset ; excluded: Mitral stenosis (HP:0001718): onset ; excluded: Aortic valve stenosis (HP:0001650): onset ; excluded: Aortic aneurysm (HP:0004942): onset ; excluded: Pulmonary arterial hypertension (HP:0002092): onset ; excluded: Hepatomegaly (HP:0002240): onset ; excluded: Respiratory insufficiency (HP:0002093): onset ; excluded: Joint hypermobility (HP:0001382): onset ; excluded: Moderately short stature (HP:0008848): onset ; excluded: Mild short stature (HP:0003502): onset ; excluded: Tall stature (HP:0000098): onset ; excluded: Sleep apnea (HP:0010535): onset </td></tr>\n",
       "<tr><td style=\"text-align: left;\">GD Family 5 (UNKNOWN; P8Y)</td><td style=\"text-align: left;\">Geleophysic dysplasia 2 (OMIM:614185)</td><td style=\"text-align: left;\">NM_000138.5:c.5284G>A (heterozygous)</td><td style=\"text-align: left;\">Long philtrum (HP:0000343): onset ; Smooth philtrum (HP:0000319): onset ; Thin upper lip vermilion (HP:0000219): onset ; Hypertelorism (HP:0000316): onset ; Full cheeks (HP:0000293): onset ; Short palm (HP:0004279): onset ; Short foot (HP:0001773): onset ; Short nose (HP:0003196): onset ; Limitation of joint mobility (HP:0001376): onset ; Moderately short stature (HP:0008848): onset ; excluded: Laryngeal stenosis (HP:0001602): onset ; excluded: Mitral valve prolapse (HP:0001634): onset ; excluded: Mitral regurgitation (HP:0001653): onset ; excluded: Mitral stenosis (HP:0001718): onset ; excluded: Tricuspid stenosis (HP:0010446): onset ; excluded: Aortic valve stenosis (HP:0001650): onset ; excluded: Aortic regurgitation (HP:0001659): onset ; excluded: Aortic aneurysm (HP:0004942): onset ; excluded: Pulmonary arterial hypertension (HP:0002092): onset ; excluded: Hepatomegaly (HP:0002240): onset ; excluded: Respiratory insufficiency (HP:0002093): onset ; excluded: Joint hypermobility (HP:0001382): onset ; excluded: Severe short stature (HP:0003510): onset ; excluded: Mild short stature (HP:0003502): onset ; excluded: Tall stature (HP:0000098): onset ; excluded: Sleep apnea (HP:0010535): onset </td></tr>\n",
       "<tr><td style=\"text-align: left;\">GD Family 6 (UNKNOWN; P5Y7M)</td><td style=\"text-align: left;\">Geleophysic dysplasia 2 (OMIM:614185)</td><td style=\"text-align: left;\">NM_000138.5:c.5284G>A (heterozygous)</td><td style=\"text-align: left;\">Long philtrum (HP:0000343): onset ; Smooth philtrum (HP:0000319): onset ; Thin upper lip vermilion (HP:0000219): onset ; Hypertelorism (HP:0000316): onset ; Full cheeks (HP:0000293): onset ; Short palm (HP:0004279): onset ; Short foot (HP:0001773): onset ; Short nose (HP:0003196): onset ; Respiratory insufficiency (HP:0002093): onset ; Limitation of joint mobility (HP:0001376): onset ; Moderately short stature (HP:0008848): onset ; excluded: Laryngeal stenosis (HP:0001602): onset ; excluded: Mitral valve prolapse (HP:0001634): onset ; excluded: Mitral regurgitation (HP:0001653): onset ; excluded: Mitral stenosis (HP:0001718): onset ; excluded: Tricuspid stenosis (HP:0010446): onset ; excluded: Aortic valve stenosis (HP:0001650): onset ; excluded: Aortic regurgitation (HP:0001659): onset ; excluded: Aortic aneurysm (HP:0004942): onset ; excluded: Pulmonary arterial hypertension (HP:0002092): onset ; excluded: Hepatomegaly (HP:0002240): onset ; excluded: Joint hypermobility (HP:0001382): onset ; excluded: Severe short stature (HP:0003510): onset ; excluded: Mild short stature (HP:0003502): onset ; excluded: Tall stature (HP:0000098): onset ; excluded: Sleep apnea (HP:0010535): onset </td></tr>\n",
       "<tr><td style=\"text-align: left;\">GD Family 7 (UNKNOWN; P3Y)</td><td style=\"text-align: left;\">Geleophysic dysplasia 2 (OMIM:614185)</td><td style=\"text-align: left;\">NM_000138.5:c.5087A>G (heterozygous)</td><td style=\"text-align: left;\">Long philtrum (HP:0000343): onset ; Smooth philtrum (HP:0000319): onset ; Thin upper lip vermilion (HP:0000219): onset ; Hypertelorism (HP:0000316): onset ; Full cheeks (HP:0000293): onset ; Short palm (HP:0004279): onset ; Short foot (HP:0001773): onset ; Short nose (HP:0003196): onset ; Respiratory insufficiency (HP:0002093): onset ; Limitation of joint mobility (HP:0001376): onset ; Severe short stature (HP:0003510): onset ; Sleep apnea (HP:0010535): onset ; excluded: Laryngeal stenosis (HP:0001602): onset ; excluded: Mitral valve prolapse (HP:0001634): onset ; excluded: Mitral regurgitation (HP:0001653): onset ; excluded: Mitral stenosis (HP:0001718): onset ; excluded: Tricuspid stenosis (HP:0010446): onset ; excluded: Aortic valve stenosis (HP:0001650): onset ; excluded: Aortic regurgitation (HP:0001659): onset ; excluded: Aortic aneurysm (HP:0004942): onset ; excluded: Pulmonary arterial hypertension (HP:0002092): onset ; excluded: Hepatomegaly (HP:0002240): onset ; excluded: Joint hypermobility (HP:0001382): onset ; excluded: Moderately short stature (HP:0008848): onset ; excluded: Mild short stature (HP:0003502): onset ; excluded: Tall stature (HP:0000098): onset </td></tr>\n",
       "<tr><td style=\"text-align: left;\">GD Family 8 (UNKNOWN; P4Y6M)</td><td style=\"text-align: left;\">Geleophysic dysplasia 2 (OMIM:614185)</td><td style=\"text-align: left;\">NM_000138.5:c.5096A>G (heterozygous)</td><td style=\"text-align: left;\">Long philtrum (HP:0000343): onset ; Smooth philtrum (HP:0000319): onset ; Thin upper lip vermilion (HP:0000219): onset ; Hypertelorism (HP:0000316): onset ; Full cheeks (HP:0000293): onset ; Short palm (HP:0004279): onset ; Short foot (HP:0001773): onset ; Short nose (HP:0003196): onset ; Mitral stenosis (HP:0001718): onset ; Tricuspid stenosis (HP:0010446): onset ; Hepatomegaly (HP:0002240): onset ; Respiratory insufficiency (HP:0002093): onset ; Limitation of joint mobility (HP:0001376): onset ; Moderately short stature (HP:0008848): onset ; Sleep apnea (HP:0010535): onset ; excluded: Laryngeal stenosis (HP:0001602): onset ; excluded: Mitral valve prolapse (HP:0001634): onset ; excluded: Mitral regurgitation (HP:0001653): onset ; excluded: Aortic valve stenosis (HP:0001650): onset ; excluded: Aortic regurgitation (HP:0001659): onset ; excluded: Aortic aneurysm (HP:0004942): onset ; excluded: Pulmonary arterial hypertension (HP:0002092): onset ; excluded: Joint hypermobility (HP:0001382): onset ; excluded: Severe short stature (HP:0003510): onset ; excluded: Mild short stature (HP:0003502): onset ; excluded: Tall stature (HP:0000098): onset </td></tr>\n",
       "<tr><td style=\"text-align: left;\">GD Family 9 (UNKNOWN; P4Y)</td><td style=\"text-align: left;\">Geleophysic dysplasia 2 (OMIM:614185)</td><td style=\"text-align: left;\">NM_000138.5:c.5117G>A (heterozygous)</td><td style=\"text-align: left;\">Long philtrum (HP:0000343): onset ; Smooth philtrum (HP:0000319): onset ; Thin upper lip vermilion (HP:0000219): onset ; Hypertelorism (HP:0000316): onset ; Full cheeks (HP:0000293): onset ; Short palm (HP:0004279): onset ; Short foot (HP:0001773): onset ; Short nose (HP:0003196): onset ; Mitral stenosis (HP:0001718): onset ; Tricuspid stenosis (HP:0010446): onset ; Respiratory insufficiency (HP:0002093): onset ; Limitation of joint mobility (HP:0001376): onset ; Severe short stature (HP:0003510): onset ; excluded: Laryngeal stenosis (HP:0001602): onset ; excluded: Mitral valve prolapse (HP:0001634): onset ; excluded: Mitral regurgitation (HP:0001653): onset ; excluded: Aortic valve stenosis (HP:0001650): onset ; excluded: Aortic regurgitation (HP:0001659): onset ; excluded: Aortic aneurysm (HP:0004942): onset ; excluded: Pulmonary arterial hypertension (HP:0002092): onset ; excluded: Hepatomegaly (HP:0002240): onset ; excluded: Joint hypermobility (HP:0001382): onset ; excluded: Moderately short stature (HP:0008848): onset ; excluded: Mild short stature (HP:0003502): onset ; excluded: Tall stature (HP:0000098): onset ; excluded: Sleep apnea (HP:0010535): onset </td></tr>\n",
       "<tr><td style=\"text-align: left;\">GD Family 10 (UNKNOWN; P14Y)</td><td style=\"text-align: left;\">Geleophysic dysplasia 2 (OMIM:614185)</td><td style=\"text-align: left;\">NM_000138.5:c.5157C>G (heterozygous)</td><td style=\"text-align: left;\">Long philtrum (HP:0000343): onset ; Smooth philtrum (HP:0000319): onset ; Thin upper lip vermilion (HP:0000219): onset ; Hypertelorism (HP:0000316): onset ; Full cheeks (HP:0000293): onset ; Short palm (HP:0004279): onset ; Short foot (HP:0001773): onset ; Short nose (HP:0003196): onset ; Limitation of joint mobility (HP:0001376): onset ; Moderately short stature (HP:0008848): onset ; excluded: Laryngeal stenosis (HP:0001602): onset ; excluded: Mitral valve prolapse (HP:0001634): onset ; excluded: Mitral regurgitation (HP:0001653): onset ; excluded: Mitral stenosis (HP:0001718): onset ; excluded: Tricuspid stenosis (HP:0010446): onset ; excluded: Aortic valve stenosis (HP:0001650): onset ; excluded: Aortic regurgitation (HP:0001659): onset ; excluded: Aortic aneurysm (HP:0004942): onset ; excluded: Pulmonary arterial hypertension (HP:0002092): onset ; excluded: Hepatomegaly (HP:0002240): onset ; excluded: Respiratory insufficiency (HP:0002093): onset ; excluded: Joint hypermobility (HP:0001382): onset ; excluded: Severe short stature (HP:0003510): onset ; excluded: Mild short stature (HP:0003502): onset ; excluded: Tall stature (HP:0000098): onset ; excluded: Sleep apnea (HP:0010535): onset </td></tr>\n",
       "<tr><td style=\"text-align: left;\">GD Family 11 (UNKNOWN)</td><td style=\"text-align: left;\">Geleophysic dysplasia 2 (OMIM:614185)</td><td style=\"text-align: left;\">NM_000138.5:c.5096A>G (heterozygous)</td><td style=\"text-align: left;\">Long philtrum (HP:0000343): onset ; Smooth philtrum (HP:0000319): onset ; Thin upper lip vermilion (HP:0000219): onset ; Hypertelorism (HP:0000316): onset ; Full cheeks (HP:0000293): onset ; Short palm (HP:0004279): onset ; Short foot (HP:0001773): onset ; Short nose (HP:0003196): onset ; Limitation of joint mobility (HP:0001376): onset ; Short stature (HP:0004322): onset ; excluded: Laryngeal stenosis (HP:0001602): onset ; excluded: Mitral valve prolapse (HP:0001634): onset ; excluded: Mitral regurgitation (HP:0001653): onset ; excluded: Mitral stenosis (HP:0001718): onset ; excluded: Tricuspid stenosis (HP:0010446): onset ; excluded: Aortic valve stenosis (HP:0001650): onset ; excluded: Aortic regurgitation (HP:0001659): onset ; excluded: Aortic aneurysm (HP:0004942): onset ; excluded: Pulmonary arterial hypertension (HP:0002092): onset ; excluded: Hepatomegaly (HP:0002240): onset ; excluded: Respiratory insufficiency (HP:0002093): onset ; excluded: Joint hypermobility (HP:0001382): onset ; excluded: Tall stature (HP:0000098): onset ; excluded: Sleep apnea (HP:0010535): onset </td></tr>\n",
       "<tr><td style=\"text-align: left;\">GD Family 12 (UNKNOWN; P3Y)</td><td style=\"text-align: left;\">Geleophysic dysplasia 2 (OMIM:614185)</td><td style=\"text-align: left;\">NM_000138.5:c.5284G>A (heterozygous)</td><td style=\"text-align: left;\">Long philtrum (HP:0000343): onset ; Smooth philtrum (HP:0000319): onset ; Thin upper lip vermilion (HP:0000219): onset ; Hypertelorism (HP:0000316): onset ; Full cheeks (HP:0000293): onset ; Short palm (HP:0004279): onset ; Short foot (HP:0001773): onset ; Short nose (HP:0003196): onset ; Limitation of joint mobility (HP:0001376): onset ; Mild short stature (HP:0003502): onset ; excluded: Laryngeal stenosis (HP:0001602): onset ; excluded: Mitral valve prolapse (HP:0001634): onset ; excluded: Mitral regurgitation (HP:0001653): onset ; excluded: Mitral stenosis (HP:0001718): onset ; excluded: Tricuspid stenosis (HP:0010446): onset ; excluded: Aortic valve stenosis (HP:0001650): onset ; excluded: Aortic regurgitation (HP:0001659): onset ; excluded: Aortic aneurysm (HP:0004942): onset ; excluded: Pulmonary arterial hypertension (HP:0002092): onset ; excluded: Hepatomegaly (HP:0002240): onset ; excluded: Respiratory insufficiency (HP:0002093): onset ; excluded: Joint hypermobility (HP:0001382): onset ; excluded: Severe short stature (HP:0003510): onset ; excluded: Moderately short stature (HP:0008848): onset ; excluded: Tall stature (HP:0000098): onset ; excluded: Sleep apnea (HP:0010535): onset </td></tr>\n",
       "<tr><td style=\"text-align: left;\">GD Family 13 (UNKNOWN; P18Y)</td><td style=\"text-align: left;\">Geleophysic dysplasia 2 (OMIM:614185)</td><td style=\"text-align: left;\">NM_000138.5:c.5284G>A (heterozygous)</td><td style=\"text-align: left;\">Long philtrum (HP:0000343): onset ; Smooth philtrum (HP:0000319): onset ; Thin upper lip vermilion (HP:0000219): onset ; Hypertelorism (HP:0000316): onset ; Full cheeks (HP:0000293): onset ; Short palm (HP:0004279): onset ; Short foot (HP:0001773): onset ; Short nose (HP:0003196): onset ; Mitral valve prolapse (HP:0001634): onset ; Limitation of joint mobility (HP:0001376): onset ; Moderately short stature (HP:0008848): onset ; excluded: Laryngeal stenosis (HP:0001602): onset ; excluded: Mitral regurgitation (HP:0001653): onset ; excluded: Mitral stenosis (HP:0001718): onset ; excluded: Tricuspid stenosis (HP:0010446): onset ; excluded: Aortic valve stenosis (HP:0001650): onset ; excluded: Aortic regurgitation (HP:0001659): onset ; excluded: Aortic aneurysm (HP:0004942): onset ; excluded: Pulmonary arterial hypertension (HP:0002092): onset ; excluded: Hepatomegaly (HP:0002240): onset ; excluded: Respiratory insufficiency (HP:0002093): onset ; excluded: Joint hypermobility (HP:0001382): onset ; excluded: Severe short stature (HP:0003510): onset ; excluded: Mild short stature (HP:0003502): onset ; excluded: Tall stature (HP:0000098): onset ; excluded: Sleep apnea (HP:0010535): onset </td></tr>\n",
       "<tr><td style=\"text-align: left;\">GD Family 14 (UNKNOWN; P11Y)</td><td style=\"text-align: left;\">Geleophysic dysplasia 2 (OMIM:614185)</td><td style=\"text-align: left;\">NM_000138.5:c.5182G>A (heterozygous)</td><td style=\"text-align: left;\">Long philtrum (HP:0000343): onset ; Smooth philtrum (HP:0000319): onset ; Thin upper lip vermilion (HP:0000219): onset ; Hypertelorism (HP:0000316): onset ; Full cheeks (HP:0000293): onset ; Short palm (HP:0004279): onset ; Short foot (HP:0001773): onset ; Short nose (HP:0003196): onset ; Hepatomegaly (HP:0002240): onset ; Limitation of joint mobility (HP:0001376): onset ; Severe short stature (HP:0003510): onset ; excluded: Laryngeal stenosis (HP:0001602): onset ; excluded: Aortic aneurysm (HP:0004942): onset ; excluded: Respiratory insufficiency (HP:0002093): onset ; excluded: Joint hypermobility (HP:0001382): onset ; excluded: Moderately short stature (HP:0008848): onset ; excluded: Mild short stature (HP:0003502): onset ; excluded: Tall stature (HP:0000098): onset ; excluded: Sleep apnea (HP:0010535): onset </td></tr>\n",
       "<tr><td style=\"text-align: left;\">GD Family 15 (UNKNOWN)</td><td style=\"text-align: left;\">Geleophysic dysplasia 2 (OMIM:614185)</td><td style=\"text-align: left;\">NM_000138.5:c.5183C>T (heterozygous)</td><td style=\"text-align: left;\">Long philtrum (HP:0000343): onset ; Smooth philtrum (HP:0000319): onset ; Thin upper lip vermilion (HP:0000219): onset ; Hypertelorism (HP:0000316): onset ; Full cheeks (HP:0000293): onset ; Short palm (HP:0004279): onset ; Short foot (HP:0001773): onset ; Short nose (HP:0003196): onset ; Mitral regurgitation (HP:0001653): onset ; Aortic valve stenosis (HP:0001650): onset ; Aortic regurgitation (HP:0001659): onset ; Limitation of joint mobility (HP:0001376): onset ; Short stature (HP:0004322): onset ; excluded: Laryngeal stenosis (HP:0001602): onset ; excluded: Mitral valve prolapse (HP:0001634): onset ; excluded: Mitral stenosis (HP:0001718): onset ; excluded: Tricuspid stenosis (HP:0010446): onset ; excluded: Aortic aneurysm (HP:0004942): onset ; excluded: Pulmonary arterial hypertension (HP:0002092): onset ; excluded: Hepatomegaly (HP:0002240): onset ; excluded: Respiratory insufficiency (HP:0002093): onset ; excluded: Joint hypermobility (HP:0001382): onset ; excluded: Tall stature (HP:0000098): onset ; excluded: Sleep apnea (HP:0010535): onset </td></tr>\n",
       "<tr><td style=\"text-align: left;\">GD Family 16 (UNKNOWN; P9Y)</td><td style=\"text-align: left;\">Geleophysic dysplasia 2 (OMIM:614185)</td><td style=\"text-align: left;\">NM_000138.5:c.5095T>G (heterozygous)</td><td style=\"text-align: left;\">Long philtrum (HP:0000343): onset ; Smooth philtrum (HP:0000319): onset ; Thin upper lip vermilion (HP:0000219): onset ; Hypertelorism (HP:0000316): onset ; Full cheeks (HP:0000293): onset ; Short palm (HP:0004279): onset ; Short foot (HP:0001773): onset ; Short nose (HP:0003196): onset ; Limitation of joint mobility (HP:0001376): onset ; Severe short stature (HP:0003510): onset ; excluded: Laryngeal stenosis (HP:0001602): onset ; excluded: Mitral valve prolapse (HP:0001634): onset ; excluded: Mitral regurgitation (HP:0001653): onset ; excluded: Mitral stenosis (HP:0001718): onset ; excluded: Tricuspid stenosis (HP:0010446): onset ; excluded: Aortic valve stenosis (HP:0001650): onset ; excluded: Aortic regurgitation (HP:0001659): onset ; excluded: Aortic aneurysm (HP:0004942): onset ; excluded: Pulmonary arterial hypertension (HP:0002092): onset ; excluded: Hepatomegaly (HP:0002240): onset ; excluded: Respiratory insufficiency (HP:0002093): onset ; excluded: Joint hypermobility (HP:0001382): onset ; excluded: Moderately short stature (HP:0008848): onset ; excluded: Mild short stature (HP:0003502): onset ; excluded: Tall stature (HP:0000098): onset ; excluded: Sleep apnea (HP:0010535): onset </td></tr>\n",
       "<tr><td style=\"text-align: left;\">GD Family 17 (UNKNOWN; P3Y)</td><td style=\"text-align: left;\">Geleophysic dysplasia 2 (OMIM:614185)</td><td style=\"text-align: left;\">NM_000138.5:c.5198G>A (heterozygous)</td><td style=\"text-align: left;\">Long philtrum (HP:0000343): onset ; Smooth philtrum (HP:0000319): onset ; Thin upper lip vermilion (HP:0000219): onset ; Hypertelorism (HP:0000316): onset ; Full cheeks (HP:0000293): onset ; Short palm (HP:0004279): onset ; Short foot (HP:0001773): onset ; Short nose (HP:0003196): onset ; Pulmonary arterial hypertension (HP:0002092): onset ; Hepatomegaly (HP:0002240): onset ; Limitation of joint mobility (HP:0001376): onset ; Moderately short stature (HP:0008848): onset ; excluded: Laryngeal stenosis (HP:0001602): onset ; excluded: Mitral valve prolapse (HP:0001634): onset ; excluded: Mitral regurgitation (HP:0001653): onset ; excluded: Mitral stenosis (HP:0001718): onset ; excluded: Tricuspid stenosis (HP:0010446): onset ; excluded: Aortic valve stenosis (HP:0001650): onset ; excluded: Aortic regurgitation (HP:0001659): onset ; excluded: Aortic aneurysm (HP:0004942): onset ; excluded: Respiratory insufficiency (HP:0002093): onset ; excluded: Joint hypermobility (HP:0001382): onset ; excluded: Severe short stature (HP:0003510): onset ; excluded: Mild short stature (HP:0003502): onset ; excluded: Tall stature (HP:0000098): onset ; excluded: Sleep apnea (HP:0010535): onset </td></tr>\n",
       "<tr><td style=\"text-align: left;\">GD Family 18 (UNKNOWN)</td><td style=\"text-align: left;\">Geleophysic dysplasia 2 (OMIM:614185)</td><td style=\"text-align: left;\">NM_000138.5:c.5284G>A (heterozygous)</td><td style=\"text-align: left;\">Long philtrum (HP:0000343): onset ; Smooth philtrum (HP:0000319): onset ; Thin upper lip vermilion (HP:0000219): onset ; Hypertelorism (HP:0000316): onset ; Full cheeks (HP:0000293): onset ; Short palm (HP:0004279): onset ; Short foot (HP:0001773): onset ; Short nose (HP:0003196): onset ; Limitation of joint mobility (HP:0001376): onset ; Short stature (HP:0004322): onset ; excluded: Laryngeal stenosis (HP:0001602): onset ; excluded: Mitral valve prolapse (HP:0001634): onset ; excluded: Mitral regurgitation (HP:0001653): onset ; excluded: Mitral stenosis (HP:0001718): onset ; excluded: Tricuspid stenosis (HP:0010446): onset ; excluded: Aortic valve stenosis (HP:0001650): onset ; excluded: Aortic regurgitation (HP:0001659): onset ; excluded: Aortic aneurysm (HP:0004942): onset ; excluded: Pulmonary arterial hypertension (HP:0002092): onset ; excluded: Hepatomegaly (HP:0002240): onset ; excluded: Respiratory insufficiency (HP:0002093): onset ; excluded: Joint hypermobility (HP:0001382): onset ; excluded: Tall stature (HP:0000098): onset ; excluded: Sleep apnea (HP:0010535): onset </td></tr>\n",
       "<tr><td style=\"text-align: left;\">GD Family 19 (UNKNOWN; P7Y)</td><td style=\"text-align: left;\">Geleophysic dysplasia 2 (OMIM:614185)</td><td style=\"text-align: left;\">NM_000138.5:c.5096A>G (heterozygous)</td><td style=\"text-align: left;\">Long philtrum (HP:0000343): onset ; Smooth philtrum (HP:0000319): onset ; Thin upper lip vermilion (HP:0000219): onset ; Hypertelorism (HP:0000316): onset ; Full cheeks (HP:0000293): onset ; Short palm (HP:0004279): onset ; Short foot (HP:0001773): onset ; Short nose (HP:0003196): onset ; Mitral regurgitation (HP:0001653): onset ; Limitation of joint mobility (HP:0001376): onset ; Severe short stature (HP:0003510): onset ; excluded: Laryngeal stenosis (HP:0001602): onset ; excluded: Mitral valve prolapse (HP:0001634): onset ; excluded: Mitral stenosis (HP:0001718): onset ; excluded: Tricuspid stenosis (HP:0010446): onset ; excluded: Aortic valve stenosis (HP:0001650): onset ; excluded: Aortic regurgitation (HP:0001659): onset ; excluded: Aortic aneurysm (HP:0004942): onset ; excluded: Pulmonary arterial hypertension (HP:0002092): onset ; excluded: Hepatomegaly (HP:0002240): onset ; excluded: Respiratory insufficiency (HP:0002093): onset ; excluded: Joint hypermobility (HP:0001382): onset ; excluded: Moderately short stature (HP:0008848): onset ; excluded: Mild short stature (HP:0003502): onset ; excluded: Tall stature (HP:0000098): onset ; excluded: Sleep apnea (HP:0010535): onset </td></tr>\n",
       "</table>"
      ],
      "text/plain": [
       "<IPython.core.display.HTML object>"
      ]
     },
     "metadata": {},
     "output_type": "display_data"
    }
   ],
   "source": [
    "table = IndividualTable(cvalidator.get_error_free_individual_list())\n",
    "display(HTML(table.to_html()))"
   ]
  },
  {
   "cell_type": "code",
   "execution_count": 5,
   "metadata": {},
   "outputs": [
    {
     "name": "stdout",
     "output_type": "stream",
     "text": [
      "[pyphetools] Ingested 32 GA4GH phenopackets.\n",
      "[INFO] Extracted 19 from 32 phenopackets with OMIM:614185\n",
      "\n",
      "\tGeleophysic dysplasia 2 (OMIM:614185): n=19\n",
      "We found a total of 27 unique HPO terms\n",
      "Extracted disease: Geleophysic dysplasia 2 (OMIM:614185)\n",
      "Wrote HPOA disease file to OMIM-614185.tab\n"
     ]
    },
    {
     "data": {
      "text/html": [
       "<div>\n",
       "<style scoped>\n",
       "    .dataframe tbody tr th:only-of-type {\n",
       "        vertical-align: middle;\n",
       "    }\n",
       "\n",
       "    .dataframe tbody tr th {\n",
       "        vertical-align: top;\n",
       "    }\n",
       "\n",
       "    .dataframe thead th {\n",
       "        text-align: right;\n",
       "    }\n",
       "</style>\n",
       "<table border=\"1\" class=\"dataframe\">\n",
       "  <thead>\n",
       "    <tr style=\"text-align: right;\">\n",
       "      <th></th>\n",
       "      <th>#diseaseID</th>\n",
       "      <th>diseaseName</th>\n",
       "      <th>phenotypeID</th>\n",
       "      <th>phenotypeName</th>\n",
       "      <th>onsetID</th>\n",
       "      <th>onsetName</th>\n",
       "      <th>frequency</th>\n",
       "      <th>sex</th>\n",
       "      <th>negation</th>\n",
       "      <th>modifier</th>\n",
       "      <th>description</th>\n",
       "      <th>publication</th>\n",
       "      <th>evidence</th>\n",
       "      <th>biocuration</th>\n",
       "    </tr>\n",
       "  </thead>\n",
       "  <tbody>\n",
       "    <tr>\n",
       "      <th>0</th>\n",
       "      <td>OMIM:614185</td>\n",
       "      <td>Geleophysic dysplasia 2</td>\n",
       "      <td>HP:0000343</td>\n",
       "      <td>Long philtrum</td>\n",
       "      <td></td>\n",
       "      <td></td>\n",
       "      <td>19/19</td>\n",
       "      <td></td>\n",
       "      <td></td>\n",
       "      <td></td>\n",
       "      <td></td>\n",
       "      <td>PMID:21683322</td>\n",
       "      <td>PCS</td>\n",
       "      <td>ORCID:0000-0002-0736-9199[2024-10-17]</td>\n",
       "    </tr>\n",
       "    <tr>\n",
       "      <th>1</th>\n",
       "      <td>OMIM:614185</td>\n",
       "      <td>Geleophysic dysplasia 2</td>\n",
       "      <td>HP:0000319</td>\n",
       "      <td>Smooth philtrum</td>\n",
       "      <td></td>\n",
       "      <td></td>\n",
       "      <td>19/19</td>\n",
       "      <td></td>\n",
       "      <td></td>\n",
       "      <td></td>\n",
       "      <td></td>\n",
       "      <td>PMID:21683322</td>\n",
       "      <td>PCS</td>\n",
       "      <td>ORCID:0000-0002-0736-9199[2024-10-17]</td>\n",
       "    </tr>\n",
       "    <tr>\n",
       "      <th>2</th>\n",
       "      <td>OMIM:614185</td>\n",
       "      <td>Geleophysic dysplasia 2</td>\n",
       "      <td>HP:0000219</td>\n",
       "      <td>Thin upper lip vermilion</td>\n",
       "      <td></td>\n",
       "      <td></td>\n",
       "      <td>19/19</td>\n",
       "      <td></td>\n",
       "      <td></td>\n",
       "      <td></td>\n",
       "      <td></td>\n",
       "      <td>PMID:21683322</td>\n",
       "      <td>PCS</td>\n",
       "      <td>ORCID:0000-0002-0736-9199[2024-10-17]</td>\n",
       "    </tr>\n",
       "    <tr>\n",
       "      <th>3</th>\n",
       "      <td>OMIM:614185</td>\n",
       "      <td>Geleophysic dysplasia 2</td>\n",
       "      <td>HP:0000316</td>\n",
       "      <td>Hypertelorism</td>\n",
       "      <td></td>\n",
       "      <td></td>\n",
       "      <td>19/19</td>\n",
       "      <td></td>\n",
       "      <td></td>\n",
       "      <td></td>\n",
       "      <td></td>\n",
       "      <td>PMID:21683322</td>\n",
       "      <td>PCS</td>\n",
       "      <td>ORCID:0000-0002-0736-9199[2024-10-17]</td>\n",
       "    </tr>\n",
       "    <tr>\n",
       "      <th>4</th>\n",
       "      <td>OMIM:614185</td>\n",
       "      <td>Geleophysic dysplasia 2</td>\n",
       "      <td>HP:0000293</td>\n",
       "      <td>Full cheeks</td>\n",
       "      <td></td>\n",
       "      <td></td>\n",
       "      <td>19/19</td>\n",
       "      <td></td>\n",
       "      <td></td>\n",
       "      <td></td>\n",
       "      <td></td>\n",
       "      <td>PMID:21683322</td>\n",
       "      <td>PCS</td>\n",
       "      <td>ORCID:0000-0002-0736-9199[2024-10-17]</td>\n",
       "    </tr>\n",
       "  </tbody>\n",
       "</table>\n",
       "</div>"
      ],
      "text/plain": [
       "    #diseaseID              diseaseName phenotypeID             phenotypeName  \\\n",
       "0  OMIM:614185  Geleophysic dysplasia 2  HP:0000343             Long philtrum   \n",
       "1  OMIM:614185  Geleophysic dysplasia 2  HP:0000319           Smooth philtrum   \n",
       "2  OMIM:614185  Geleophysic dysplasia 2  HP:0000219  Thin upper lip vermilion   \n",
       "3  OMIM:614185  Geleophysic dysplasia 2  HP:0000316             Hypertelorism   \n",
       "4  OMIM:614185  Geleophysic dysplasia 2  HP:0000293               Full cheeks   \n",
       "\n",
       "  onsetID onsetName frequency sex negation modifier description  \\\n",
       "0                       19/19                                     \n",
       "1                       19/19                                     \n",
       "2                       19/19                                     \n",
       "3                       19/19                                     \n",
       "4                       19/19                                     \n",
       "\n",
       "     publication evidence                            biocuration  \n",
       "0  PMID:21683322      PCS  ORCID:0000-0002-0736-9199[2024-10-17]  \n",
       "1  PMID:21683322      PCS  ORCID:0000-0002-0736-9199[2024-10-17]  \n",
       "2  PMID:21683322      PCS  ORCID:0000-0002-0736-9199[2024-10-17]  \n",
       "3  PMID:21683322      PCS  ORCID:0000-0002-0736-9199[2024-10-17]  \n",
       "4  PMID:21683322      PCS  ORCID:0000-0002-0736-9199[2024-10-17]  "
      ]
     },
     "execution_count": 5,
     "metadata": {},
     "output_type": "execute_result"
    }
   ],
   "source": [
    "PMID = \"PMID:20979188\"\n",
    "df = timporter.create_hpoa_from_phenopackets(pmid=PMID, mode_of_inheritance=Moi.AD,target=\"OMIM:614185\")\n",
    "df.head()"
   ]
  },
  {
   "cell_type": "code",
   "execution_count": null,
   "metadata": {},
   "outputs": [],
   "source": []
  }
 ],
 "metadata": {
  "kernelspec": {
   "display_name": "ps24venv",
   "language": "python",
   "name": "python3"
  },
  "language_info": {
   "codemirror_mode": {
    "name": "ipython",
    "version": 3
   },
   "file_extension": ".py",
   "mimetype": "text/x-python",
   "name": "python",
   "nbconvert_exporter": "python",
   "pygments_lexer": "ipython3",
   "version": "3.12.4"
  }
 },
 "nbformat": 4,
 "nbformat_minor": 2
}
