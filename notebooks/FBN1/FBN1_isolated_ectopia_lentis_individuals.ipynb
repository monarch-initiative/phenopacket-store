{
 "cells": [
  {
   "cell_type": "markdown",
   "id": "3dd8bb1b-3d60-4348-a4df-83207e226bc3",
   "metadata": {},
   "source": [
    "# FBN1 isolated ectopia lentis \n",
    "\n",
    "Deleterious variants in FBN1 can be associated with [Ectopia lentis, familial](https://omim.org/entry/129600)."
   ]
  },
  {
   "cell_type": "code",
   "execution_count": 4,
   "id": "b4b7a723-236b-48aa-bd60-33695f4e6763",
   "metadata": {},
   "outputs": [
    {
     "name": "stdout",
     "output_type": "stream",
     "text": [
      "pyphetools version 0.9.63\n"
     ]
    }
   ],
   "source": [
    "from pyphetools.creation import TemplateImporter\n",
    "from IPython.display import display, HTML\n",
    "from pyphetools.visualization import QcVisualizer\n",
    "import pyphetools\n",
    "print(f\"pyphetools version {pyphetools.__version__}\")"
   ]
  },
  {
   "cell_type": "code",
   "execution_count": 2,
   "id": "cecb9ca9-9425-4883-ad78-fee9b20fa7e9",
   "metadata": {},
   "outputs": [],
   "source": [
    "template = \"input/FBN1_isolated_EL_individuals.xlsx\"\n",
    "hp_json = \"../hp.json\"\n",
    "created_by=\"ORCID:0000-0002-0736-9199\"\n",
    "timporter = TemplateImporter(template=template, hp_json=hp_json, created_by=created_by)"
   ]
  },
  {
   "cell_type": "code",
   "execution_count": 3,
   "id": "c79f9153-eb43-45e8-b7a3-6449b9f6370e",
   "metadata": {},
   "outputs": [
    {
     "name": "stdout",
     "output_type": "stream",
     "text": [
      "HPO version 2024-02-27\n",
      "Created encoders for 35 fields\n",
      " we got OMIM:129600  NM_000138.5\n",
      "[INFO] encoding variant \"c.1327+1G>A\"\n",
      "https://rest.variantvalidator.org/VariantValidator/variantvalidator/hg38/NM_000138.5%3Ac.1327+1G>A/NM_000138.5?content-type=application%2Fjson\n",
      "We output 44 GA4GH phenopackets to the directory phenopackets\n"
     ]
    }
   ],
   "source": [
    "individuals, cvalidator = timporter.import_phenopackets_from_template()"
   ]
  },
  {
   "cell_type": "code",
   "execution_count": 5,
   "id": "609ea4f2-2143-46d4-bce1-69fa86190c62",
   "metadata": {},
   "outputs": [
    {
     "data": {
      "text/html": [
       "<h2>Cohort validation</h2>\n",
       "<p>No errors found for the cohort with 44 individuals</p>"
      ],
      "text/plain": [
       "<IPython.core.display.HTML object>"
      ]
     },
     "metadata": {},
     "output_type": "display_data"
    }
   ],
   "source": [
    "qc = QcVisualizer(cohort_validator=cvalidator)\n",
    "display(HTML(qc.to_summary_html()))"
   ]
  },
  {
   "cell_type": "code",
   "execution_count": 8,
   "id": "df02f19e-6213-47f8-8f03-f53575af508b",
   "metadata": {},
   "outputs": [
    {
     "name": "stdout",
     "output_type": "stream",
     "text": [
      "[pyphetools] Ingested 142 GA4GH phenopackets.\n",
      "[INFO] Extracted 44 from 142 phenopackets with OMIM:129600\n",
      "\n",
      "\tEctopia lentis, familial (OMIM:129600): n=44\n",
      "We found a total of 18 unique HPO terms\n",
      "Extracted disease: Ectopia lentis, familial (OMIM:129600)\n",
      "Wrote HPOA disease file to OMIM-129600.tab\n"
     ]
    }
   ],
   "source": [
    "PMID = \"PMID:22736615\"\n",
    "\n",
    "df = timporter.create_hpoa_from_phenopackets(pmid=PMID, moi=\"Autosomal dominant\",target=\"OMIM:129600\")"
   ]
  },
  {
   "cell_type": "code",
   "execution_count": null,
   "id": "1534edfc-918b-41ef-ade8-e4d5e38b8a8f",
   "metadata": {},
   "outputs": [],
   "source": []
  }
 ],
 "metadata": {
  "kernelspec": {
   "display_name": "Python 3 (ipykernel)",
   "language": "python",
   "name": "python3"
  },
  "language_info": {
   "codemirror_mode": {
    "name": "ipython",
    "version": 3
   },
   "file_extension": ".py",
   "mimetype": "text/x-python",
   "name": "python",
   "nbconvert_exporter": "python",
   "pygments_lexer": "ipython3",
   "version": "3.8.10"
  }
 },
 "nbformat": 4,
 "nbformat_minor": 5
}
