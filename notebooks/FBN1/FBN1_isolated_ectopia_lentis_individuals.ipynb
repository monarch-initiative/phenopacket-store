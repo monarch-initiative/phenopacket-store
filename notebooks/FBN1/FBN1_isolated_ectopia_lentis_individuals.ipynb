{
 "cells": [
  {
   "cell_type": "markdown",
   "id": "3dd8bb1b-3d60-4348-a4df-83207e226bc3",
   "metadata": {},
   "source": [
    "# FBN1 isolated ectopia lentis \n",
    "\n",
    "Deleterious variants in FBN1 can be associated with [Ectopia lentis, familial](https://omim.org/entry/129600)."
   ]
  },
  {
   "cell_type": "code",
   "execution_count": 11,
   "id": "b4b7a723-236b-48aa-bd60-33695f4e6763",
   "metadata": {},
   "outputs": [
    {
     "name": "stdout",
     "output_type": "stream",
     "text": [
      "pyphetools version 0.9.110\n"
     ]
    }
   ],
   "source": [
    "from pyphetools.creation import TemplateImporter, Moi\n",
    "from IPython.display import display, HTML\n",
    "from pyphetools.visualization import QcVisualizer, IndividualTable\n",
    "import pyphetools\n",
    "print(f\"pyphetools version {pyphetools.__version__}\")"
   ]
  },
  {
   "cell_type": "code",
   "execution_count": 12,
   "id": "cecb9ca9-9425-4883-ad78-fee9b20fa7e9",
   "metadata": {},
   "outputs": [
    {
     "name": "stdout",
     "output_type": "stream",
     "text": [
      "HPO version 2024-08-13\n",
      "Created encoders for 35 fields\n",
      "Importing OMIM:129600, Ectopia lentis, familial, HGNC:3603, FBN1,  NM_000138.5\n",
      "We output 44 GA4GH phenopackets to the directory phenopackets\n"
     ]
    }
   ],
   "source": [
    "template = \"input/FBN1_isolated_EL_individuals.xlsx\"\n",
    "created_by=\"ORCID:0000-0002-0736-9199\"\n",
    "timporter = TemplateImporter(template=template, created_by=created_by)\n",
    "individuals, cvalidator = timporter.import_phenopackets_from_template()"
   ]
  },
  {
   "cell_type": "code",
   "execution_count": 13,
   "id": "609ea4f2-2143-46d4-bce1-69fa86190c62",
   "metadata": {},
   "outputs": [
    {
     "data": {
      "text/html": [
       "<h2>Cohort validation</h2>\n",
       "<p>No errors found for the cohort with 44 individuals</p>"
      ],
      "text/plain": [
       "<IPython.core.display.HTML object>"
      ]
     },
     "metadata": {},
     "output_type": "display_data"
    }
   ],
   "source": [
    "qc = QcVisualizer(cohort_validator=cvalidator)\n",
    "display(HTML(qc.to_summary_html()))"
   ]
  },
  {
   "cell_type": "code",
   "execution_count": 14,
   "id": "05643a0f",
   "metadata": {},
   "outputs": [
    {
     "data": {
      "text/html": [
       "<table style=\"border: 2px solid black; align: \"left\">\n",
       "<caption>44 phenopackets - PMID:12446365 (n=5); PMID:31527767 (n=7); PMID:22736615 (n=4); PMID:32404357 (n=6); PMID:33576469 (n=8); PMID:8188302 (n=6); PMID:22539873 (n=1); PMID:22219643 (n=7)</caption>\n",
       "<tr><th style=\"text-align: left;font-weight: bold;\">Individual</th><th style=\"text-align: left;font-weight: bold;\">Disease</th><th style=\"text-align: left;font-weight: bold;\">Genotype</th><th style=\"text-align: left;font-weight: bold;\">Phenotypic features</th></tr>\n",
       "<tr><td style=\"text-align: left;\">OP (MALE; P49Y)</td><td style=\"text-align: left;\">Ectopia lentis, familial (OMIM:129600)</td><td style=\"text-align: left;\">NM_000138.5:c.364C>T (heterozygous)</td><td style=\"text-align: left;\">Ectopia lentis (HP:0001083): onset ; Myopia (HP:0000545): onset ; Arachnodactyly (HP:0001166): onset ; High palate (HP:0000218): onset ; Mitral valve prolapse (HP:0001634): onset ; Reduced upper to lower segment ratio (HP:0012773): onset ; excluded: Glaucoma (HP:0000501): onset ; excluded: Strabismus (HP:0000486): onset ; excluded: Scoliosis (HP:0002650): onset ; excluded: Joint hypermobility (HP:0001382): onset ; excluded: Pectus excavatum (HP:0000767): onset ; excluded: Retinal detachment (HP:0000541): onset ; excluded: Pectus carinatum (HP:0000768): onset ; excluded: Striae distensae (HP:0001065): onset ; excluded: Aortic root aneurysm (HP:0002616): onset </td></tr>\n",
       "<tr><td style=\"text-align: left;\">BM (FEMALE; P41Y)</td><td style=\"text-align: left;\">Ectopia lentis, familial (OMIM:129600)</td><td style=\"text-align: left;\">NM_000138.5:c.491A>G (heterozygous)</td><td style=\"text-align: left;\">Ectopia lentis (HP:0001083): onset ; Striae distensae (HP:0001065): onset ; Reduced upper to lower segment ratio (HP:0012773): onset ; excluded: Glaucoma (HP:0000501): onset ; excluded: Myopia (HP:0000545): onset ; excluded: Strabismus (HP:0000486): onset ; excluded: Scoliosis (HP:0002650): onset ; excluded: Joint hypermobility (HP:0001382): onset ; excluded: Pectus excavatum (HP:0000767): onset ; excluded: Arachnodactyly (HP:0001166): onset ; excluded: Retinal detachment (HP:0000541): onset ; excluded: Pectus carinatum (HP:0000768): onset ; excluded: High palate (HP:0000218): onset ; excluded: Aortic root aneurysm (HP:0002616): onset ; excluded: Mitral valve prolapse (HP:0001634): onset </td></tr>\n",
       "<tr><td style=\"text-align: left;\">RWT (MALE; P56Y)</td><td style=\"text-align: left;\">Ectopia lentis, familial (OMIM:129600)</td><td style=\"text-align: left;\">NM_000138.5:c.718C>T (heterozygous)</td><td style=\"text-align: left;\">Ectopia lentis (HP:0001083): onset ; Myopia (HP:0000545): onset ; Strabismus (HP:0000486): onset ; Joint hypermobility (HP:0001382): onset ; Striae distensae (HP:0001065): onset ; excluded: Glaucoma (HP:0000501): onset ; excluded: Scoliosis (HP:0002650): onset ; excluded: Pectus excavatum (HP:0000767): onset ; excluded: Arachnodactyly (HP:0001166): onset ; excluded: Retinal detachment (HP:0000541): onset ; excluded: Pectus carinatum (HP:0000768): onset ; excluded: High palate (HP:0000218): onset ; excluded: Aortic root aneurysm (HP:0002616): onset ; excluded: Mitral valve prolapse (HP:0001634): onset ; excluded: Reduced upper to lower segment ratio (HP:0012773): onset </td></tr>\n",
       "<tr><td style=\"text-align: left;\">JL (FEMALE; P40Y)</td><td style=\"text-align: left;\">Ectopia lentis, familial (OMIM:129600)</td><td style=\"text-align: left;\">NM_000138.5:c.1633C>T (heterozygous)</td><td style=\"text-align: left;\">Ectopia lentis (HP:0001083): onset ; Myopia (HP:0000545): onset ; Joint hypermobility (HP:0001382): onset ; Pectus carinatum (HP:0000768): onset ; High palate (HP:0000218): onset ; Striae distensae (HP:0001065): onset ; excluded: Glaucoma (HP:0000501): onset ; excluded: Strabismus (HP:0000486): onset ; excluded: Scoliosis (HP:0002650): onset ; excluded: Pectus excavatum (HP:0000767): onset ; excluded: Arachnodactyly (HP:0001166): onset ; excluded: Retinal detachment (HP:0000541): onset ; excluded: Aortic root aneurysm (HP:0002616): onset ; excluded: Mitral valve prolapse (HP:0001634): onset ; excluded: Reduced upper to lower segment ratio (HP:0012773): onset </td></tr>\n",
       "<tr><td style=\"text-align: left;\">VW (MALE; P65Y)</td><td style=\"text-align: left;\">Ectopia lentis, familial (OMIM:129600)</td><td style=\"text-align: left;\">NM_000138.5:c.3963A>G (heterozygous)</td><td style=\"text-align: left;\">Ectopia lentis (HP:0001083): onset ; Glaucoma (HP:0000501): onset ; Scoliosis (HP:0002650): onset ; High palate (HP:0000218): onset ; Striae distensae (HP:0001065): onset ; excluded: Myopia (HP:0000545): onset ; excluded: Strabismus (HP:0000486): onset ; excluded: Joint hypermobility (HP:0001382): onset ; excluded: Pectus excavatum (HP:0000767): onset ; excluded: Arachnodactyly (HP:0001166): onset ; excluded: Retinal detachment (HP:0000541): onset ; excluded: Pectus carinatum (HP:0000768): onset ; excluded: Aortic root aneurysm (HP:0002616): onset ; excluded: Mitral valve prolapse (HP:0001634): onset ; excluded: Reduced upper to lower segment ratio (HP:0012773): onset </td></tr>\n",
       "<tr><td style=\"text-align: left;\">II.5 (FEMALE)</td><td style=\"text-align: left;\">Ectopia lentis, familial (OMIM:129600)</td><td style=\"text-align: left;\">NM_000138.5:c.1916G>A (heterozygous)</td><td style=\"text-align: left;\">Ectopia lentis (HP:0001083): onset ; Myopia (HP:0000545): onset ; Retinal detachment (HP:0000541): onset ; excluded: Glaucoma (HP:0000501): onset ; excluded: Aortic root aneurysm (HP:0002616): onset </td></tr>\n",
       "<tr><td style=\"text-align: left;\">II.6 (FEMALE)</td><td style=\"text-align: left;\">Ectopia lentis, familial (OMIM:129600)</td><td style=\"text-align: left;\">NM_000138.5:c.1916G>A (heterozygous)</td><td style=\"text-align: left;\">Ectopia lentis (HP:0001083): onset ; Myopia (HP:0000545): onset ; Retinal detachment (HP:0000541): onset ; excluded: Glaucoma (HP:0000501): onset ; excluded: Aortic root aneurysm (HP:0002616): onset </td></tr>\n",
       "<tr><td style=\"text-align: left;\">III.7 (MALE)</td><td style=\"text-align: left;\">Ectopia lentis, familial (OMIM:129600)</td><td style=\"text-align: left;\">NM_000138.5:c.1916G>A (heterozygous)</td><td style=\"text-align: left;\">Ectopia lentis (HP:0001083): onset ; Myopia (HP:0000545): onset ; Retinal detachment (HP:0000541): onset ; excluded: Glaucoma (HP:0000501): onset ; excluded: Aortic root aneurysm (HP:0002616): onset </td></tr>\n",
       "<tr><td style=\"text-align: left;\">III.9 (MALE)</td><td style=\"text-align: left;\">Ectopia lentis, familial (OMIM:129600)</td><td style=\"text-align: left;\">NM_000138.5:c.1916G>A (heterozygous)</td><td style=\"text-align: left;\">Ectopia lentis (HP:0001083): onset ; Myopia (HP:0000545): onset ; Retinal detachment (HP:0000541): onset ; excluded: Glaucoma (HP:0000501): onset ; excluded: Aortic root aneurysm (HP:0002616): onset </td></tr>\n",
       "<tr><td style=\"text-align: left;\">III.10 (FEMALE)</td><td style=\"text-align: left;\">Ectopia lentis, familial (OMIM:129600)</td><td style=\"text-align: left;\">NM_000138.5:c.1916G>A (heterozygous)</td><td style=\"text-align: left;\">Ectopia lentis (HP:0001083): onset ; Myopia (HP:0000545): onset ; Retinal detachment (HP:0000541): onset ; excluded: Glaucoma (HP:0000501): onset ; excluded: Aortic root aneurysm (HP:0002616): onset </td></tr>\n",
       "<tr><td style=\"text-align: left;\">III.11 (FEMALE)</td><td style=\"text-align: left;\">Ectopia lentis, familial (OMIM:129600)</td><td style=\"text-align: left;\">NM_000138.5:c.1916G>A (heterozygous)</td><td style=\"text-align: left;\">Ectopia lentis (HP:0001083): onset ; Myopia (HP:0000545): onset ; Retinal detachment (HP:0000541): onset ; excluded: Glaucoma (HP:0000501): onset ; excluded: Aortic root aneurysm (HP:0002616): onset </td></tr>\n",
       "<tr><td style=\"text-align: left;\">III.12 (MALE)</td><td style=\"text-align: left;\">Ectopia lentis, familial (OMIM:129600)</td><td style=\"text-align: left;\">NM_000138.5:c.1916G>A (heterozygous)</td><td style=\"text-align: left;\">Ectopia lentis (HP:0001083): onset ; Myopia (HP:0000545): onset ; Retinal detachment (HP:0000541): onset ; excluded: Glaucoma (HP:0000501): onset ; excluded: Aortic root aneurysm (HP:0002616): onset </td></tr>\n",
       "<tr><td style=\"text-align: left;\">Patient 1 (MALE; P55Y)</td><td style=\"text-align: left;\">Ectopia lentis, familial (OMIM:129600)</td><td style=\"text-align: left;\">NM_000138.5:c.2473C>T (heterozygous)</td><td style=\"text-align: left;\">Ectopia lentis (HP:0001083): onset ; Myopia (HP:0000545): onset ; excluded: Glaucoma (HP:0000501): onset ; excluded: Strabismus (HP:0000486): onset ; excluded: Scoliosis (HP:0002650): onset ; excluded: Joint hypermobility (HP:0001382): onset ; excluded: Pectus excavatum (HP:0000767): onset ; excluded: Arachnodactyly (HP:0001166): onset ; excluded: Retinal detachment (HP:0000541): onset ; excluded: Pectus carinatum (HP:0000768): onset ; excluded: High palate (HP:0000218): onset ; excluded: Striae distensae (HP:0001065): onset ; excluded: Aortic root aneurysm (HP:0002616): onset ; excluded: Mitral valve prolapse (HP:0001634): onset ; excluded: Reduced upper to lower segment ratio (HP:0012773): onset </td></tr>\n",
       "<tr><td style=\"text-align: left;\">Patient 2 (MALE; P70Y)</td><td style=\"text-align: left;\">Ectopia lentis, familial (OMIM:129600)</td><td style=\"text-align: left;\">NM_000138.5:c.3464A>G (heterozygous)</td><td style=\"text-align: left;\">Ectopia lentis (HP:0001083): onset ; Myopia (HP:0000545): onset ; excluded: Glaucoma (HP:0000501): onset ; excluded: Strabismus (HP:0000486): onset ; excluded: Scoliosis (HP:0002650): onset ; excluded: Joint hypermobility (HP:0001382): onset ; excluded: Pectus excavatum (HP:0000767): onset ; excluded: Arachnodactyly (HP:0001166): onset ; excluded: Retinal detachment (HP:0000541): onset ; excluded: Pectus carinatum (HP:0000768): onset ; excluded: High palate (HP:0000218): onset ; excluded: Striae distensae (HP:0001065): onset ; excluded: Aortic root aneurysm (HP:0002616): onset ; excluded: Mitral valve prolapse (HP:0001634): onset ; excluded: Reduced upper to lower segment ratio (HP:0012773): onset </td></tr>\n",
       "<tr><td style=\"text-align: left;\">Patient 3 (FEMALE; P18Y)</td><td style=\"text-align: left;\">Ectopia lentis, familial (OMIM:129600)</td><td style=\"text-align: left;\">NM_000138.5:c.4259G>A (heterozygous)</td><td style=\"text-align: left;\">Ectopia lentis (HP:0001083): onset ; Myopia (HP:0000545): onset ; excluded: Glaucoma (HP:0000501): onset ; excluded: Strabismus (HP:0000486): onset ; excluded: Scoliosis (HP:0002650): onset ; excluded: Joint hypermobility (HP:0001382): onset ; excluded: Pectus excavatum (HP:0000767): onset ; excluded: Arachnodactyly (HP:0001166): onset ; excluded: Retinal detachment (HP:0000541): onset ; excluded: Pectus carinatum (HP:0000768): onset ; excluded: High palate (HP:0000218): onset ; excluded: Striae distensae (HP:0001065): onset ; excluded: Aortic root aneurysm (HP:0002616): onset ; excluded: Mitral valve prolapse (HP:0001634): onset ; excluded: Reduced upper to lower segment ratio (HP:0012773): onset </td></tr>\n",
       "<tr><td style=\"text-align: left;\">Patient 4 (FEMALE; P64Y)</td><td style=\"text-align: left;\">Ectopia lentis, familial (OMIM:129600)</td><td style=\"text-align: left;\">NM_000138.5:c.1327+1G>A (heterozygous)</td><td style=\"text-align: left;\">Ectopia lentis (HP:0001083): onset ; Myopia (HP:0000545): onset ; excluded: Glaucoma (HP:0000501): onset ; excluded: Strabismus (HP:0000486): onset ; excluded: Scoliosis (HP:0002650): onset ; excluded: Joint hypermobility (HP:0001382): onset ; excluded: Pectus excavatum (HP:0000767): onset ; excluded: Arachnodactyly (HP:0001166): onset ; excluded: Retinal detachment (HP:0000541): onset ; excluded: Pectus carinatum (HP:0000768): onset ; excluded: High palate (HP:0000218): onset ; excluded: Striae distensae (HP:0001065): onset ; excluded: Aortic root aneurysm (HP:0002616): onset ; excluded: Mitral valve prolapse (HP:0001634): onset ; excluded: Reduced upper to lower segment ratio (HP:0012773): onset </td></tr>\n",
       "<tr><td style=\"text-align: left;\">I:2 (FEMALE; P72Y)</td><td style=\"text-align: left;\">Ectopia lentis, familial (OMIM:129600)</td><td style=\"text-align: left;\">NM_000138.5:c.4031G>A (heterozygous)</td><td style=\"text-align: left;\">Ectopia lentis (HP:0001083): onset ; Glaucoma (HP:0000501): onset ; Shallow anterior chamber (HP:0000594): onset ; Microspherophakia (HP:0030961): onset ; excluded: Tall stature (HP:0000098): onset ; excluded: Scoliosis (HP:0002650): onset ; excluded: Joint hypermobility (HP:0001382): onset ; excluded: Pectus excavatum (HP:0000767): onset ; excluded: Arachnodactyly (HP:0001166): onset ; excluded: Retinal detachment (HP:0000541): onset ; excluded: Pectus carinatum (HP:0000768): onset ; excluded: High palate (HP:0000218): onset ; excluded: Striae distensae (HP:0001065): onset ; excluded: Aortic root aneurysm (HP:0002616): onset ; excluded: Reduced upper to lower segment ratio (HP:0012773): onset </td></tr>\n",
       "<tr><td style=\"text-align: left;\">II:1 (MALE; P49Y)</td><td style=\"text-align: left;\">Ectopia lentis, familial (OMIM:129600)</td><td style=\"text-align: left;\">NM_000138.5:c.4031G>A (heterozygous)</td><td style=\"text-align: left;\">Ectopia lentis (HP:0001083): onset ; Glaucoma (HP:0000501): onset ; Myopia (HP:0000545): onset ; Shallow anterior chamber (HP:0000594): onset ; Microspherophakia (HP:0030961): onset ; excluded: Tall stature (HP:0000098): onset ; excluded: Scoliosis (HP:0002650): onset ; excluded: Joint hypermobility (HP:0001382): onset ; excluded: Pectus excavatum (HP:0000767): onset ; excluded: Arachnodactyly (HP:0001166): onset ; excluded: Retinal detachment (HP:0000541): onset ; excluded: Pectus carinatum (HP:0000768): onset ; excluded: High palate (HP:0000218): onset ; excluded: Striae distensae (HP:0001065): onset ; excluded: Aortic root aneurysm (HP:0002616): onset ; excluded: Reduced upper to lower segment ratio (HP:0012773): onset </td></tr>\n",
       "<tr><td style=\"text-align: left;\">II:2 (FEMALE; P46Y)</td><td style=\"text-align: left;\">Ectopia lentis, familial (OMIM:129600)</td><td style=\"text-align: left;\">NM_000138.5:c.4031G>A (heterozygous)</td><td style=\"text-align: left;\">Ectopia lentis (HP:0001083): onset ; Glaucoma (HP:0000501): onset ; Shallow anterior chamber (HP:0000594): onset ; Microspherophakia (HP:0030961): onset ; excluded: Tall stature (HP:0000098): onset ; excluded: Scoliosis (HP:0002650): onset ; excluded: Joint hypermobility (HP:0001382): onset ; excluded: Pectus excavatum (HP:0000767): onset ; excluded: Arachnodactyly (HP:0001166): onset ; excluded: Retinal detachment (HP:0000541): onset ; excluded: Pectus carinatum (HP:0000768): onset ; excluded: High palate (HP:0000218): onset ; excluded: Striae distensae (HP:0001065): onset ; excluded: Aortic root aneurysm (HP:0002616): onset ; excluded: Reduced upper to lower segment ratio (HP:0012773): onset </td></tr>\n",
       "<tr><td style=\"text-align: left;\">II:3 (MALE; P41Y)</td><td style=\"text-align: left;\">Ectopia lentis, familial (OMIM:129600)</td><td style=\"text-align: left;\">NM_000138.5:c.4031G>A (heterozygous)</td><td style=\"text-align: left;\">Ectopia lentis (HP:0001083): onset ; Glaucoma (HP:0000501): onset ; Shallow anterior chamber (HP:0000594): onset ; Microspherophakia (HP:0030961): onset ; excluded: Tall stature (HP:0000098): onset ; excluded: Scoliosis (HP:0002650): onset ; excluded: Joint hypermobility (HP:0001382): onset ; excluded: Pectus excavatum (HP:0000767): onset ; excluded: Arachnodactyly (HP:0001166): onset ; excluded: Retinal detachment (HP:0000541): onset ; excluded: Pectus carinatum (HP:0000768): onset ; excluded: High palate (HP:0000218): onset ; excluded: Striae distensae (HP:0001065): onset ; excluded: Aortic root aneurysm (HP:0002616): onset ; excluded: Reduced upper to lower segment ratio (HP:0012773): onset </td></tr>\n",
       "<tr><td style=\"text-align: left;\">III:1 (MALE; P27Y)</td><td style=\"text-align: left;\">Ectopia lentis, familial (OMIM:129600)</td><td style=\"text-align: left;\">NM_000138.5:c.4031G>A (heterozygous)</td><td style=\"text-align: left;\">Shallow anterior chamber (HP:0000594): onset ; Microspherophakia (HP:0030961): onset ; excluded: Ectopia lentis (HP:0001083): onset ; excluded: Glaucoma (HP:0000501): onset ; excluded: Tall stature (HP:0000098): onset ; excluded: Scoliosis (HP:0002650): onset ; excluded: Joint hypermobility (HP:0001382): onset ; excluded: Pectus excavatum (HP:0000767): onset ; excluded: Arachnodactyly (HP:0001166): onset ; excluded: Retinal detachment (HP:0000541): onset ; excluded: Pectus carinatum (HP:0000768): onset ; excluded: High palate (HP:0000218): onset ; excluded: Striae distensae (HP:0001065): onset ; excluded: Aortic root aneurysm (HP:0002616): onset ; excluded: Reduced upper to lower segment ratio (HP:0012773): onset </td></tr>\n",
       "<tr><td style=\"text-align: left;\">III:2 (FEMALE; P21Y)</td><td style=\"text-align: left;\">Ectopia lentis, familial (OMIM:129600)</td><td style=\"text-align: left;\">NM_000138.5:c.4031G>A (heterozygous)</td><td style=\"text-align: left;\">Shallow anterior chamber (HP:0000594): onset ; Microspherophakia (HP:0030961): onset ; excluded: Ectopia lentis (HP:0001083): onset ; excluded: Glaucoma (HP:0000501): onset ; excluded: Tall stature (HP:0000098): onset ; excluded: Scoliosis (HP:0002650): onset ; excluded: Joint hypermobility (HP:0001382): onset ; excluded: Pectus excavatum (HP:0000767): onset ; excluded: Arachnodactyly (HP:0001166): onset ; excluded: Retinal detachment (HP:0000541): onset ; excluded: Pectus carinatum (HP:0000768): onset ; excluded: High palate (HP:0000218): onset ; excluded: Striae distensae (HP:0001065): onset ; excluded: Aortic root aneurysm (HP:0002616): onset ; excluded: Reduced upper to lower segment ratio (HP:0012773): onset </td></tr>\n",
       "<tr><td style=\"text-align: left;\">Patient 1 (MALE; P6Y)</td><td style=\"text-align: left;\">Ectopia lentis, familial (OMIM:129600)</td><td style=\"text-align: left;\">NM_000138.5:c.184C>T (heterozygous)</td><td style=\"text-align: left;\">Ectopia lentis (HP:0001083): onset ; Myopia (HP:0000545): onset ; excluded: Glaucoma (HP:0000501): onset ; excluded: Strabismus (HP:0000486): onset ; excluded: Tall stature (HP:0000098): onset ; excluded: Scoliosis (HP:0002650): onset ; excluded: Joint hypermobility (HP:0001382): onset ; excluded: Pectus excavatum (HP:0000767): onset ; excluded: Arachnodactyly (HP:0001166): onset ; excluded: Retinal detachment (HP:0000541): onset ; excluded: Pectus carinatum (HP:0000768): onset ; excluded: High palate (HP:0000218): onset ; excluded: Aortic root aneurysm (HP:0002616): onset ; excluded: Mitral valve prolapse (HP:0001634): onset ; excluded: Reduced upper to lower segment ratio (HP:0012773): onset </td></tr>\n",
       "<tr><td style=\"text-align: left;\">Patient 2 (MALE; P5Y)</td><td style=\"text-align: left;\">Ectopia lentis, familial (OMIM:129600)</td><td style=\"text-align: left;\">NM_000138.5:c.367T>C (heterozygous)</td><td style=\"text-align: left;\">Ectopia lentis (HP:0001083): onset ; excluded: Glaucoma (HP:0000501): onset ; excluded: Myopia (HP:0000545): onset ; excluded: Strabismus (HP:0000486): onset ; excluded: Tall stature (HP:0000098): onset ; excluded: Scoliosis (HP:0002650): onset ; excluded: Joint hypermobility (HP:0001382): onset ; excluded: Pectus excavatum (HP:0000767): onset ; excluded: Arachnodactyly (HP:0001166): onset ; excluded: Retinal detachment (HP:0000541): onset ; excluded: Pectus carinatum (HP:0000768): onset ; excluded: High palate (HP:0000218): onset ; excluded: Aortic root aneurysm (HP:0002616): onset ; excluded: Mitral valve prolapse (HP:0001634): onset ; excluded: Reduced upper to lower segment ratio (HP:0012773): onset </td></tr>\n",
       "<tr><td style=\"text-align: left;\">Patient 3 (MALE; P4Y)</td><td style=\"text-align: left;\">Ectopia lentis, familial (OMIM:129600)</td><td style=\"text-align: left;\">NM_000138.5:c.1879C>T (heterozygous)</td><td style=\"text-align: left;\">Ectopia lentis (HP:0001083): onset ; Myopia (HP:0000545): onset ; excluded: Glaucoma (HP:0000501): onset ; excluded: Strabismus (HP:0000486): onset ; excluded: Tall stature (HP:0000098): onset ; excluded: Scoliosis (HP:0002650): onset ; excluded: Joint hypermobility (HP:0001382): onset ; excluded: Pectus excavatum (HP:0000767): onset ; excluded: Arachnodactyly (HP:0001166): onset ; excluded: Retinal detachment (HP:0000541): onset ; excluded: Pectus carinatum (HP:0000768): onset ; excluded: High palate (HP:0000218): onset ; excluded: Aortic root aneurysm (HP:0002616): onset ; excluded: Mitral valve prolapse (HP:0001634): onset ; excluded: Reduced upper to lower segment ratio (HP:0012773): onset </td></tr>\n",
       "<tr><td style=\"text-align: left;\">Patient 4 (MALE; P3Y)</td><td style=\"text-align: left;\">Ectopia lentis, familial (OMIM:129600)</td><td style=\"text-align: left;\">NM_000138.5:c.1879C>T (heterozygous)</td><td style=\"text-align: left;\">Ectopia lentis (HP:0001083): onset ; Myopia (HP:0000545): onset ; excluded: Glaucoma (HP:0000501): onset ; excluded: Strabismus (HP:0000486): onset ; excluded: Tall stature (HP:0000098): onset ; excluded: Scoliosis (HP:0002650): onset ; excluded: Joint hypermobility (HP:0001382): onset ; excluded: Pectus excavatum (HP:0000767): onset ; excluded: Arachnodactyly (HP:0001166): onset ; excluded: Retinal detachment (HP:0000541): onset ; excluded: Pectus carinatum (HP:0000768): onset ; excluded: High palate (HP:0000218): onset ; excluded: Aortic root aneurysm (HP:0002616): onset ; excluded: Mitral valve prolapse (HP:0001634): onset ; excluded: Reduced upper to lower segment ratio (HP:0012773): onset </td></tr>\n",
       "<tr><td style=\"text-align: left;\">Patient 5 (MALE; P3Y)</td><td style=\"text-align: left;\">Ectopia lentis, familial (OMIM:129600)</td><td style=\"text-align: left;\">NM_000138.5:c.2179T>C (heterozygous)</td><td style=\"text-align: left;\">Ectopia lentis (HP:0001083): onset ; Myopia (HP:0000545): onset ; excluded: Glaucoma (HP:0000501): onset ; excluded: Strabismus (HP:0000486): onset ; excluded: Tall stature (HP:0000098): onset ; excluded: Scoliosis (HP:0002650): onset ; excluded: Joint hypermobility (HP:0001382): onset ; excluded: Pectus excavatum (HP:0000767): onset ; excluded: Arachnodactyly (HP:0001166): onset ; excluded: Retinal detachment (HP:0000541): onset ; excluded: Pectus carinatum (HP:0000768): onset ; excluded: High palate (HP:0000218): onset ; excluded: Aortic root aneurysm (HP:0002616): onset ; excluded: Mitral valve prolapse (HP:0001634): onset ; excluded: Reduced upper to lower segment ratio (HP:0012773): onset </td></tr>\n",
       "<tr><td style=\"text-align: left;\">Patient 6 (MALE; P6Y)</td><td style=\"text-align: left;\">Ectopia lentis, familial (OMIM:129600)</td><td style=\"text-align: left;\">NM_000138.5:c.2496T>G (heterozygous)</td><td style=\"text-align: left;\">Ectopia lentis (HP:0001083): onset ; Myopia (HP:0000545): onset ; excluded: Glaucoma (HP:0000501): onset ; excluded: Strabismus (HP:0000486): onset ; excluded: Tall stature (HP:0000098): onset ; excluded: Scoliosis (HP:0002650): onset ; excluded: Joint hypermobility (HP:0001382): onset ; excluded: Pectus excavatum (HP:0000767): onset ; excluded: Arachnodactyly (HP:0001166): onset ; excluded: Retinal detachment (HP:0000541): onset ; excluded: Pectus carinatum (HP:0000768): onset ; excluded: High palate (HP:0000218): onset ; excluded: Aortic root aneurysm (HP:0002616): onset ; excluded: Mitral valve prolapse (HP:0001634): onset ; excluded: Reduced upper to lower segment ratio (HP:0012773): onset </td></tr>\n",
       "<tr><td style=\"text-align: left;\">Patient 7 (FEMALE; P11Y)</td><td style=\"text-align: left;\">Ectopia lentis, familial (OMIM:129600)</td><td style=\"text-align: left;\">NM_000138.5:c.3346G>C (heterozygous)</td><td style=\"text-align: left;\">Ectopia lentis (HP:0001083): onset ; Myopia (HP:0000545): onset ; excluded: Glaucoma (HP:0000501): onset ; excluded: Strabismus (HP:0000486): onset ; excluded: Tall stature (HP:0000098): onset ; excluded: Scoliosis (HP:0002650): onset ; excluded: Joint hypermobility (HP:0001382): onset ; excluded: Pectus excavatum (HP:0000767): onset ; excluded: Arachnodactyly (HP:0001166): onset ; excluded: Retinal detachment (HP:0000541): onset ; excluded: Pectus carinatum (HP:0000768): onset ; excluded: High palate (HP:0000218): onset ; excluded: Aortic root aneurysm (HP:0002616): onset ; excluded: Mitral valve prolapse (HP:0001634): onset ; excluded: Reduced upper to lower segment ratio (HP:0012773): onset </td></tr>\n",
       "<tr><td style=\"text-align: left;\">Patient 8 (FEMALE; P27Y)</td><td style=\"text-align: left;\">Ectopia lentis, familial (OMIM:129600)</td><td style=\"text-align: left;\">NM_000138.5:c.4096G>A (heterozygous)</td><td style=\"text-align: left;\">Ectopia lentis (HP:0001083): onset ; Myopia (HP:0000545): onset ; excluded: Glaucoma (HP:0000501): onset ; excluded: Strabismus (HP:0000486): onset ; excluded: Tall stature (HP:0000098): onset ; excluded: Scoliosis (HP:0002650): onset ; excluded: Joint hypermobility (HP:0001382): onset ; excluded: Pectus excavatum (HP:0000767): onset ; excluded: Arachnodactyly (HP:0001166): onset ; excluded: Retinal detachment (HP:0000541): onset ; excluded: Pectus carinatum (HP:0000768): onset ; excluded: High palate (HP:0000218): onset ; excluded: Aortic root aneurysm (HP:0002616): onset ; excluded: Mitral valve prolapse (HP:0001634): onset ; excluded: Reduced upper to lower segment ratio (HP:0012773): onset </td></tr>\n",
       "<tr><td style=\"text-align: left;\">III:2 (MALE; P54Y)</td><td style=\"text-align: left;\">Ectopia lentis, familial (OMIM:129600)</td><td style=\"text-align: left;\">NM_000138.5:c.7339G>A (heterozygous)</td><td style=\"text-align: left;\">Myopia (HP:0000545): onset ; Tall stature (HP:0000098): onset ; Reduced upper to lower segment ratio (HP:0012773): onset ; excluded: Glaucoma (HP:0000501): onset ; excluded: Strabismus (HP:0000486): onset ; excluded: Joint hypermobility (HP:0001382): onset ; excluded: Pectus excavatum (HP:0000767): onset ; excluded: Arachnodactyly (HP:0001166): onset ; excluded: Retinal detachment (HP:0000541): onset ; excluded: Pectus carinatum (HP:0000768): onset ; excluded: High palate (HP:0000218): onset ; excluded: Striae distensae (HP:0001065): onset ; excluded: Aortic root aneurysm (HP:0002616): onset ; excluded: Mitral valve prolapse (HP:0001634): onset </td></tr>\n",
       "<tr><td style=\"text-align: left;\">III:4 (MALE; P53Y)</td><td style=\"text-align: left;\">Ectopia lentis, familial (OMIM:129600)</td><td style=\"text-align: left;\">NM_000138.5:c.7339G>A (heterozygous)</td><td style=\"text-align: left;\">Ectopia lentis (HP:0001083): onset ; Glaucoma (HP:0000501): onset ; Joint hypermobility (HP:0001382): onset ; Pectus excavatum (HP:0000767): onset ; excluded: Myopia (HP:0000545): onset ; excluded: Strabismus (HP:0000486): onset ; excluded: Arachnodactyly (HP:0001166): onset ; excluded: Retinal detachment (HP:0000541): onset ; excluded: Pectus carinatum (HP:0000768): onset ; excluded: High palate (HP:0000218): onset ; excluded: Striae distensae (HP:0001065): onset ; excluded: Aortic root aneurysm (HP:0002616): onset ; excluded: Mitral valve prolapse (HP:0001634): onset ; excluded: Reduced upper to lower segment ratio (HP:0012773): onset </td></tr>\n",
       "<tr><td style=\"text-align: left;\">III:5 (FEMALE; P51Y)</td><td style=\"text-align: left;\">Ectopia lentis, familial (OMIM:129600)</td><td style=\"text-align: left;\">NM_000138.5:c.7339G>A (heterozygous)</td><td style=\"text-align: left;\">Ectopia lentis (HP:0001083): onset ; Joint hypermobility (HP:0001382): onset ; Pectus excavatum (HP:0000767): onset ; Arachnodactyly (HP:0001166): onset ; High palate (HP:0000218): onset ; Striae distensae (HP:0001065): onset ; Reduced upper to lower segment ratio (HP:0012773): onset ; excluded: Glaucoma (HP:0000501): onset ; excluded: Myopia (HP:0000545): onset ; excluded: Strabismus (HP:0000486): onset ; excluded: Retinal detachment (HP:0000541): onset ; excluded: Pectus carinatum (HP:0000768): onset ; excluded: Aortic root aneurysm (HP:0002616): onset ; excluded: Mitral valve prolapse (HP:0001634): onset </td></tr>\n",
       "<tr><td style=\"text-align: left;\">IV:1 (MALE; P29Y)</td><td style=\"text-align: left;\">Ectopia lentis, familial (OMIM:129600)</td><td style=\"text-align: left;\">NM_000138.5:c.7339G>A (heterozygous)</td><td style=\"text-align: left;\">Joint hypermobility (HP:0001382): onset ; Pectus excavatum (HP:0000767): onset ; Arachnodactyly (HP:0001166): onset ; Striae distensae (HP:0001065): onset ; Reduced upper to lower segment ratio (HP:0012773): onset ; excluded: Ectopia lentis (HP:0001083): onset ; excluded: Glaucoma (HP:0000501): onset ; excluded: Myopia (HP:0000545): onset ; excluded: Strabismus (HP:0000486): onset ; excluded: Retinal detachment (HP:0000541): onset ; excluded: Pectus carinatum (HP:0000768): onset ; excluded: High palate (HP:0000218): onset ; excluded: Aortic root aneurysm (HP:0002616): onset ; excluded: Mitral valve prolapse (HP:0001634): onset </td></tr>\n",
       "<tr><td style=\"text-align: left;\">IV:2 (MALE; P27Y)</td><td style=\"text-align: left;\">Ectopia lentis, familial (OMIM:129600)</td><td style=\"text-align: left;\">NM_000138.5:c.7339G>A (heterozygous)</td><td style=\"text-align: left;\">Ectopia lentis (HP:0001083): onset ; Myopia (HP:0000545): onset ; Joint hypermobility (HP:0001382): onset ; Reduced upper to lower segment ratio (HP:0012773): onset ; excluded: Glaucoma (HP:0000501): onset ; excluded: Strabismus (HP:0000486): onset ; excluded: Pectus excavatum (HP:0000767): onset ; excluded: Arachnodactyly (HP:0001166): onset ; excluded: Retinal detachment (HP:0000541): onset ; excluded: Pectus carinatum (HP:0000768): onset ; excluded: High palate (HP:0000218): onset ; excluded: Striae distensae (HP:0001065): onset ; excluded: Aortic root aneurysm (HP:0002616): onset ; excluded: Mitral valve prolapse (HP:0001634): onset </td></tr>\n",
       "<tr><td style=\"text-align: left;\">IV:3 (FEMALE; P24Y)</td><td style=\"text-align: left;\">Ectopia lentis, familial (OMIM:129600)</td><td style=\"text-align: left;\">NM_000138.5:c.7339G>A (heterozygous)</td><td style=\"text-align: left;\">Joint hypermobility (HP:0001382): onset ; Arachnodactyly (HP:0001166): onset ; Reduced upper to lower segment ratio (HP:0012773): onset ; excluded: Ectopia lentis (HP:0001083): onset ; excluded: Glaucoma (HP:0000501): onset ; excluded: Myopia (HP:0000545): onset ; excluded: Strabismus (HP:0000486): onset ; excluded: Pectus excavatum (HP:0000767): onset ; excluded: Retinal detachment (HP:0000541): onset ; excluded: Pectus carinatum (HP:0000768): onset ; excluded: High palate (HP:0000218): onset ; excluded: Striae distensae (HP:0001065): onset ; excluded: Aortic root aneurysm (HP:0002616): onset ; excluded: Mitral valve prolapse (HP:0001634): onset </td></tr>\n",
       "<tr><td style=\"text-align: left;\">II-1 (FEMALE; P70Y)</td><td style=\"text-align: left;\">Ectopia lentis, familial (OMIM:129600)</td><td style=\"text-align: left;\">NM_000138.5:c.2920C>T (heterozygous)</td><td style=\"text-align: left;\">Ectopia lentis (HP:0001083): onset ; excluded: Tall stature (HP:0000098): onset ; excluded: Scoliosis (HP:0002650): onset ; excluded: Joint hypermobility (HP:0001382): onset ; excluded: Pectus excavatum (HP:0000767): onset ; excluded: Arachnodactyly (HP:0001166): onset ; excluded: Retinal detachment (HP:0000541): onset ; excluded: Pectus carinatum (HP:0000768): onset ; excluded: High palate (HP:0000218): onset ; excluded: Striae distensae (HP:0001065): onset ; excluded: Aortic root aneurysm (HP:0002616): onset ; excluded: Mitral valve prolapse (HP:0001634): onset ; excluded: Reduced upper to lower segment ratio (HP:0012773): onset </td></tr>\n",
       "<tr><td style=\"text-align: left;\">II:4 (FEMALE; P66Y)</td><td style=\"text-align: left;\">Ectopia lentis, familial (OMIM:129600)</td><td style=\"text-align: left;\">NM_000138.5:c.1759T>C (heterozygous)</td><td style=\"text-align: left;\">Ectopia lentis (HP:0001083): onset ; Myopia (HP:0000545): onset ; excluded: Glaucoma (HP:0000501): onset ; excluded: Strabismus (HP:0000486): onset ; excluded: Tall stature (HP:0000098): onset ; excluded: Scoliosis (HP:0002650): onset ; excluded: Joint hypermobility (HP:0001382): onset ; excluded: Pectus excavatum (HP:0000767): onset ; excluded: Arachnodactyly (HP:0001166): onset ; excluded: Retinal detachment (HP:0000541): onset ; excluded: Pectus carinatum (HP:0000768): onset ; excluded: High palate (HP:0000218): onset ; excluded: Striae distensae (HP:0001065): onset ; excluded: Aortic root aneurysm (HP:0002616): onset ; excluded: Mitral valve prolapse (HP:0001634): onset ; excluded: Reduced upper to lower segment ratio (HP:0012773): onset </td></tr>\n",
       "<tr><td style=\"text-align: left;\">II:5 (MALE; P69Y)</td><td style=\"text-align: left;\">Ectopia lentis, familial (OMIM:129600)</td><td style=\"text-align: left;\">NM_000138.5:c.1759T>C (heterozygous)</td><td style=\"text-align: left;\">Ectopia lentis (HP:0001083): onset ; Myopia (HP:0000545): onset ; excluded: Glaucoma (HP:0000501): onset ; excluded: Strabismus (HP:0000486): onset ; excluded: Tall stature (HP:0000098): onset ; excluded: Scoliosis (HP:0002650): onset ; excluded: Joint hypermobility (HP:0001382): onset ; excluded: Pectus excavatum (HP:0000767): onset ; excluded: Arachnodactyly (HP:0001166): onset ; excluded: Retinal detachment (HP:0000541): onset ; excluded: Pectus carinatum (HP:0000768): onset ; excluded: High palate (HP:0000218): onset ; excluded: Striae distensae (HP:0001065): onset ; excluded: Aortic root aneurysm (HP:0002616): onset ; excluded: Mitral valve prolapse (HP:0001634): onset ; excluded: Reduced upper to lower segment ratio (HP:0012773): onset </td></tr>\n",
       "<tr><td style=\"text-align: left;\">II:12 (FEMALE; P54Y)</td><td style=\"text-align: left;\">Ectopia lentis, familial (OMIM:129600)</td><td style=\"text-align: left;\">NM_000138.5:c.1759T>C (heterozygous)</td><td style=\"text-align: left;\">Ectopia lentis (HP:0001083): onset ; Myopia (HP:0000545): onset ; Strabismus (HP:0000486): onset ; excluded: Glaucoma (HP:0000501): onset ; excluded: Tall stature (HP:0000098): onset ; excluded: Scoliosis (HP:0002650): onset ; excluded: Joint hypermobility (HP:0001382): onset ; excluded: Pectus excavatum (HP:0000767): onset ; excluded: Arachnodactyly (HP:0001166): onset ; excluded: Retinal detachment (HP:0000541): onset ; excluded: Pectus carinatum (HP:0000768): onset ; excluded: High palate (HP:0000218): onset ; excluded: Striae distensae (HP:0001065): onset ; excluded: Aortic root aneurysm (HP:0002616): onset ; excluded: Mitral valve prolapse (HP:0001634): onset ; excluded: Reduced upper to lower segment ratio (HP:0012773): onset </td></tr>\n",
       "<tr><td style=\"text-align: left;\">II:13 (MALE; P52Y)</td><td style=\"text-align: left;\">Ectopia lentis, familial (OMIM:129600)</td><td style=\"text-align: left;\">NM_000138.5:c.1759T>C (heterozygous)</td><td style=\"text-align: left;\">Ectopia lentis (HP:0001083): onset ; Myopia (HP:0000545): onset ; Strabismus (HP:0000486): onset ; excluded: Glaucoma (HP:0000501): onset ; excluded: Tall stature (HP:0000098): onset ; excluded: Scoliosis (HP:0002650): onset ; excluded: Joint hypermobility (HP:0001382): onset ; excluded: Pectus excavatum (HP:0000767): onset ; excluded: Arachnodactyly (HP:0001166): onset ; excluded: Retinal detachment (HP:0000541): onset ; excluded: Pectus carinatum (HP:0000768): onset ; excluded: High palate (HP:0000218): onset ; excluded: Striae distensae (HP:0001065): onset ; excluded: Aortic root aneurysm (HP:0002616): onset ; excluded: Mitral valve prolapse (HP:0001634): onset ; excluded: Reduced upper to lower segment ratio (HP:0012773): onset </td></tr>\n",
       "<tr><td style=\"text-align: left;\">III:9 (FEMALE; P44Y)</td><td style=\"text-align: left;\">Ectopia lentis, familial (OMIM:129600)</td><td style=\"text-align: left;\">NM_000138.5:c.1759T>C (heterozygous)</td><td style=\"text-align: left;\">Ectopia lentis (HP:0001083): onset ; Myopia (HP:0000545): onset ; excluded: Glaucoma (HP:0000501): onset ; excluded: Strabismus (HP:0000486): onset ; excluded: Tall stature (HP:0000098): onset ; excluded: Scoliosis (HP:0002650): onset ; excluded: Joint hypermobility (HP:0001382): onset ; excluded: Pectus excavatum (HP:0000767): onset ; excluded: Arachnodactyly (HP:0001166): onset ; excluded: Retinal detachment (HP:0000541): onset ; excluded: Pectus carinatum (HP:0000768): onset ; excluded: High palate (HP:0000218): onset ; excluded: Striae distensae (HP:0001065): onset ; excluded: Aortic root aneurysm (HP:0002616): onset ; excluded: Mitral valve prolapse (HP:0001634): onset ; excluded: Reduced upper to lower segment ratio (HP:0012773): onset </td></tr>\n",
       "<tr><td style=\"text-align: left;\">III:14 (FEMALE; P40Y)</td><td style=\"text-align: left;\">Ectopia lentis, familial (OMIM:129600)</td><td style=\"text-align: left;\">NM_000138.5:c.1759T>C (heterozygous)</td><td style=\"text-align: left;\">Ectopia lentis (HP:0001083): onset ; Myopia (HP:0000545): onset ; excluded: Glaucoma (HP:0000501): onset ; excluded: Strabismus (HP:0000486): onset ; excluded: Tall stature (HP:0000098): onset ; excluded: Scoliosis (HP:0002650): onset ; excluded: Joint hypermobility (HP:0001382): onset ; excluded: Pectus excavatum (HP:0000767): onset ; excluded: Arachnodactyly (HP:0001166): onset ; excluded: Retinal detachment (HP:0000541): onset ; excluded: Pectus carinatum (HP:0000768): onset ; excluded: High palate (HP:0000218): onset ; excluded: Striae distensae (HP:0001065): onset ; excluded: Aortic root aneurysm (HP:0002616): onset ; excluded: Mitral valve prolapse (HP:0001634): onset ; excluded: Reduced upper to lower segment ratio (HP:0012773): onset </td></tr>\n",
       "<tr><td style=\"text-align: left;\">IV:6 (MALE; P23Y)</td><td style=\"text-align: left;\">Ectopia lentis, familial (OMIM:129600)</td><td style=\"text-align: left;\">NM_000138.5:c.1759T>C (heterozygous)</td><td style=\"text-align: left;\">Ectopia lentis (HP:0001083): onset ; excluded: Glaucoma (HP:0000501): onset ; excluded: Myopia (HP:0000545): onset ; excluded: Strabismus (HP:0000486): onset ; excluded: Tall stature (HP:0000098): onset ; excluded: Scoliosis (HP:0002650): onset ; excluded: Joint hypermobility (HP:0001382): onset ; excluded: Pectus excavatum (HP:0000767): onset ; excluded: Arachnodactyly (HP:0001166): onset ; excluded: Retinal detachment (HP:0000541): onset ; excluded: Pectus carinatum (HP:0000768): onset ; excluded: High palate (HP:0000218): onset ; excluded: Striae distensae (HP:0001065): onset ; excluded: Aortic root aneurysm (HP:0002616): onset ; excluded: Mitral valve prolapse (HP:0001634): onset ; excluded: Reduced upper to lower segment ratio (HP:0012773): onset </td></tr>\n",
       "</table>"
      ],
      "text/plain": [
       "<IPython.core.display.HTML object>"
      ]
     },
     "metadata": {},
     "output_type": "display_data"
    }
   ],
   "source": [
    "table = IndividualTable(cvalidator.get_error_free_individual_list())\n",
    "display(HTML(table.to_html()))"
   ]
  },
  {
   "cell_type": "code",
   "execution_count": 15,
   "id": "df02f19e-6213-47f8-8f03-f53575af508b",
   "metadata": {},
   "outputs": [
    {
     "name": "stdout",
     "output_type": "stream",
     "text": [
      "[pyphetools] Ingested 76 GA4GH phenopackets.\n",
      "[INFO] Extracted 44 from 76 phenopackets with OMIM:129600\n",
      "\n",
      "\tEctopia lentis, familial (OMIM:129600): n=44\n",
      "We found a total of 18 unique HPO terms\n",
      "Extracted disease: Ectopia lentis, familial (OMIM:129600)\n",
      "Wrote HPOA disease file to OMIM-129600.tab\n"
     ]
    },
    {
     "data": {
      "text/html": [
       "<div>\n",
       "<style scoped>\n",
       "    .dataframe tbody tr th:only-of-type {\n",
       "        vertical-align: middle;\n",
       "    }\n",
       "\n",
       "    .dataframe tbody tr th {\n",
       "        vertical-align: top;\n",
       "    }\n",
       "\n",
       "    .dataframe thead th {\n",
       "        text-align: right;\n",
       "    }\n",
       "</style>\n",
       "<table border=\"1\" class=\"dataframe\">\n",
       "  <thead>\n",
       "    <tr style=\"text-align: right;\">\n",
       "      <th></th>\n",
       "      <th>#diseaseID</th>\n",
       "      <th>diseaseName</th>\n",
       "      <th>phenotypeID</th>\n",
       "      <th>phenotypeName</th>\n",
       "      <th>onsetID</th>\n",
       "      <th>onsetName</th>\n",
       "      <th>frequency</th>\n",
       "      <th>sex</th>\n",
       "      <th>negation</th>\n",
       "      <th>modifier</th>\n",
       "      <th>description</th>\n",
       "      <th>publication</th>\n",
       "      <th>evidence</th>\n",
       "      <th>biocuration</th>\n",
       "    </tr>\n",
       "  </thead>\n",
       "  <tbody>\n",
       "    <tr>\n",
       "      <th>0</th>\n",
       "      <td>OMIM:129600</td>\n",
       "      <td>Ectopia lentis, familial</td>\n",
       "      <td>HP:0001083</td>\n",
       "      <td>Ectopia lentis</td>\n",
       "      <td></td>\n",
       "      <td></td>\n",
       "      <td>8/8</td>\n",
       "      <td></td>\n",
       "      <td></td>\n",
       "      <td></td>\n",
       "      <td></td>\n",
       "      <td>PMID:33576469</td>\n",
       "      <td>PCS</td>\n",
       "      <td>ORCID:0000-0002-0736-9199[2024-10-17]</td>\n",
       "    </tr>\n",
       "    <tr>\n",
       "      <th>1</th>\n",
       "      <td>OMIM:129600</td>\n",
       "      <td>Ectopia lentis, familial</td>\n",
       "      <td>HP:0000545</td>\n",
       "      <td>Myopia</td>\n",
       "      <td></td>\n",
       "      <td></td>\n",
       "      <td>7/8</td>\n",
       "      <td></td>\n",
       "      <td></td>\n",
       "      <td></td>\n",
       "      <td></td>\n",
       "      <td>PMID:33576469</td>\n",
       "      <td>PCS</td>\n",
       "      <td>ORCID:0000-0002-0736-9199[2024-10-17]</td>\n",
       "    </tr>\n",
       "    <tr>\n",
       "      <th>2</th>\n",
       "      <td>OMIM:129600</td>\n",
       "      <td>Ectopia lentis, familial</td>\n",
       "      <td>HP:0000501</td>\n",
       "      <td>Glaucoma</td>\n",
       "      <td></td>\n",
       "      <td></td>\n",
       "      <td>0/8</td>\n",
       "      <td></td>\n",
       "      <td></td>\n",
       "      <td></td>\n",
       "      <td></td>\n",
       "      <td>PMID:33576469</td>\n",
       "      <td>PCS</td>\n",
       "      <td>ORCID:0000-0002-0736-9199[2024-10-17]</td>\n",
       "    </tr>\n",
       "    <tr>\n",
       "      <th>3</th>\n",
       "      <td>OMIM:129600</td>\n",
       "      <td>Ectopia lentis, familial</td>\n",
       "      <td>HP:0000486</td>\n",
       "      <td>Strabismus</td>\n",
       "      <td></td>\n",
       "      <td></td>\n",
       "      <td>0/8</td>\n",
       "      <td></td>\n",
       "      <td></td>\n",
       "      <td></td>\n",
       "      <td></td>\n",
       "      <td>PMID:33576469</td>\n",
       "      <td>PCS</td>\n",
       "      <td>ORCID:0000-0002-0736-9199[2024-10-17]</td>\n",
       "    </tr>\n",
       "    <tr>\n",
       "      <th>4</th>\n",
       "      <td>OMIM:129600</td>\n",
       "      <td>Ectopia lentis, familial</td>\n",
       "      <td>HP:0000098</td>\n",
       "      <td>Tall stature</td>\n",
       "      <td></td>\n",
       "      <td></td>\n",
       "      <td>0/8</td>\n",
       "      <td></td>\n",
       "      <td></td>\n",
       "      <td></td>\n",
       "      <td></td>\n",
       "      <td>PMID:33576469</td>\n",
       "      <td>PCS</td>\n",
       "      <td>ORCID:0000-0002-0736-9199[2024-10-17]</td>\n",
       "    </tr>\n",
       "  </tbody>\n",
       "</table>\n",
       "</div>"
      ],
      "text/plain": [
       "    #diseaseID               diseaseName phenotypeID   phenotypeName onsetID  \\\n",
       "0  OMIM:129600  Ectopia lentis, familial  HP:0001083  Ectopia lentis           \n",
       "1  OMIM:129600  Ectopia lentis, familial  HP:0000545          Myopia           \n",
       "2  OMIM:129600  Ectopia lentis, familial  HP:0000501        Glaucoma           \n",
       "3  OMIM:129600  Ectopia lentis, familial  HP:0000486      Strabismus           \n",
       "4  OMIM:129600  Ectopia lentis, familial  HP:0000098    Tall stature           \n",
       "\n",
       "  onsetName frequency sex negation modifier description    publication  \\\n",
       "0                 8/8                                    PMID:33576469   \n",
       "1                 7/8                                    PMID:33576469   \n",
       "2                 0/8                                    PMID:33576469   \n",
       "3                 0/8                                    PMID:33576469   \n",
       "4                 0/8                                    PMID:33576469   \n",
       "\n",
       "  evidence                            biocuration  \n",
       "0      PCS  ORCID:0000-0002-0736-9199[2024-10-17]  \n",
       "1      PCS  ORCID:0000-0002-0736-9199[2024-10-17]  \n",
       "2      PCS  ORCID:0000-0002-0736-9199[2024-10-17]  \n",
       "3      PCS  ORCID:0000-0002-0736-9199[2024-10-17]  \n",
       "4      PCS  ORCID:0000-0002-0736-9199[2024-10-17]  "
      ]
     },
     "execution_count": 15,
     "metadata": {},
     "output_type": "execute_result"
    }
   ],
   "source": [
    "PMID = \"PMID:22736615\"\n",
    "df = timporter.create_hpoa_from_phenopackets(pmid=PMID, mode_of_inheritance=Moi.AD, target=\"OMIM:129600\")\n",
    "df.head()"
   ]
  },
  {
   "cell_type": "code",
   "execution_count": null,
   "id": "1534edfc-918b-41ef-ade8-e4d5e38b8a8f",
   "metadata": {},
   "outputs": [],
   "source": []
  }
 ],
 "metadata": {
  "kernelspec": {
   "display_name": "ps24venv",
   "language": "python",
   "name": "python3"
  },
  "language_info": {
   "codemirror_mode": {
    "name": "ipython",
    "version": 3
   },
   "file_extension": ".py",
   "mimetype": "text/x-python",
   "name": "python",
   "nbconvert_exporter": "python",
   "pygments_lexer": "ipython3",
   "version": "3.12.4"
  }
 },
 "nbformat": 4,
 "nbformat_minor": 5
}
