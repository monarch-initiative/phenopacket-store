{
 "cells": [
  {
   "cell_type": "markdown",
   "metadata": {},
   "source": [
    "# FBN1\n",
    "[Marfan syndrome (MFS)](https://omim.org/entry/154700) is caused by heterozygous mutation in the fibrillin-1 gene (FBN1).\n",
    "\n",
    "Clinical data was taken from \n",
    "[Palz et al. (2000) Clustering of mutations associated with mild Marfan-like phenotypes in the 3' region of FBN1 suggests a potential genotype-phenotype correlation](https://pubmed.ncbi.nlm.nih.gov/10756346/), [Tiecke et al. (2001) Classic, atypically severe and neonatal Marfan syndrome: twelve mutations and genotype-phenotype correlations in FBN1 exons 24-40](https://pubmed.ncbi.nlm.nih.gov/11175294/), and [Katzke et al. (2002) TGGE screening of the entire FBN1 coding sequence in 126 individuals with marfan syndrome and related fibrillinopathies](https://pubmed.ncbi.nlm.nih.gov/12203992/). The correponding author of those publications saw most of the patients and is the curator of these phenopackets. Therefore, several features can be excluded that in the time subsequent to these publications were identified in other fibrillinopathies, Stiff skin HP:0030053 and Lipodystrophy HP:0009125."
   ]
  },
  {
   "cell_type": "code",
   "execution_count": 7,
   "metadata": {},
   "outputs": [
    {
     "name": "stdout",
     "output_type": "stream",
     "text": [
      "pyphetools version 0.9.110\n"
     ]
    }
   ],
   "source": [
    "from pyphetools.creation import TemplateImporter, Moi\n",
    "from pyphetools.visualization import IndividualTable, QcVisualizer\n",
    "from IPython.display import display, HTML\n",
    "import pyphetools\n",
    "print(f\"pyphetools version {pyphetools.__version__}\")"
   ]
  },
  {
   "cell_type": "code",
   "execution_count": 8,
   "metadata": {},
   "outputs": [],
   "source": [
    "template = \"input/FBN1_MFS_individuals.xlsx\"\n",
    "created_by=\"ORCID:0000-0002-0736-9199\"\n",
    "timporter = TemplateImporter(template=template, created_by=created_by)"
   ]
  },
  {
   "cell_type": "code",
   "execution_count": 9,
   "metadata": {},
   "outputs": [
    {
     "name": "stdout",
     "output_type": "stream",
     "text": [
      "HPO version 2024-08-13\n",
      "Created encoders for 88 fields\n",
      "Importing OMIM:154700, Marfan syndrome, HGNC:3603, FBN1,  NM_000138.5\n",
      "We output 51 GA4GH phenopackets to the directory phenopackets\n"
     ]
    }
   ],
   "source": [
    "timporter = TemplateImporter(template=template, created_by=created_by)\n",
    "individual_list, cvalidator = timporter.import_phenopackets_from_template()"
   ]
  },
  {
   "cell_type": "code",
   "execution_count": 10,
   "metadata": {},
   "outputs": [
    {
     "data": {
      "text/html": [
       "<h2>Cohort validation</h2>\n",
       "<p>Errors found with 25 of 51 phenopackets.</p>\n",
       "<table style=\"border: 2px solid black; align: \"left\">\n",
       "<caption>Error counts</caption>\n",
       "<tr><th style=\"text-align: left;font-weight: bold;\">Level</th><th style=\"text-align: left;font-weight: bold;\">Error category</th><th style=\"text-align: left;font-weight: bold;\">Count</th></tr>\n",
       "<tr><td style=\"text-align: left;\">WARNING</td><td style=\"text-align: left;\">REDUNDANT</td><td style=\"text-align: left;\">25</td></tr>\n",
       "</table>\n",
       "<p>A total of 25 issues were fixed and no individual was removed from the cohort.</p>"
      ],
      "text/plain": [
       "<IPython.core.display.HTML object>"
      ]
     },
     "metadata": {},
     "output_type": "display_data"
    }
   ],
   "source": [
    "qc = QcVisualizer(cohort_validator=cvalidator)\n",
    "display(HTML(qc.to_summary_html()))"
   ]
  },
  {
   "cell_type": "code",
   "execution_count": 11,
   "metadata": {},
   "outputs": [
    {
     "data": {
      "text/html": [
       "<table style=\"border: 2px solid black; align: \"left\">\n",
       "<caption>51 phenopackets - PMID:10756346 (n=6); PMID:11175294 (n=12); PMID:12203992 (n=33)</caption>\n",
       "<tr><th style=\"text-align: left;font-weight: bold;\">Individual</th><th style=\"text-align: left;font-weight: bold;\">Disease</th><th style=\"text-align: left;font-weight: bold;\">Genotype</th><th style=\"text-align: left;font-weight: bold;\">Phenotypic features</th></tr>\n",
       "<tr><td style=\"text-align: left;\">Patient B13 (MALE; P13Y)</td><td style=\"text-align: left;\">Marfan syndrome (OMIM:154700)</td><td style=\"text-align: left;\">NM_000138.5:c.7565G>C (heterozygous)</td><td style=\"text-align: left;\">Arachnodactyly (HP:0001166): onset ; Pectus carinatum (HP:0000768): onset ; Ectopia lentis (HP:0001083): onset ; Joint hypermobility (HP:0001382): onset ; Mitral valve prolapse (HP:0001634): onset ; Disproportionate tall stature (HP:0001519): onset ; excluded: Ascending tubular aorta aneurysm (HP:0004970): onset ; excluded: Pneumothorax (HP:0002107): onset ; excluded: Pectus excavatum (HP:0000767): onset ; excluded: Scoliosis (HP:0002650): onset ; excluded: Descending aortic dissection (HP:0012499): onset ; excluded: Descending thoracic aorta aneurysm (HP:0004959): onset ; excluded: Cataract (HP:0000518): onset ; excluded: Retinal detachment (HP:0000541): onset ; excluded: Short stature (HP:0004322): onset ; excluded: Congestive heart failure (HP:0001635): onset ; excluded: Stiff skin (HP:0030053): onset <br/><b>TimeElement(element=Age(iso8601duration=P6Y))</b>: Aortic root aneurysm (HP:0002616): onset age {\n",
       "  iso8601duration: \"P6Y\"\n",
       "}\n",
       "</td></tr>\n",
       "<tr><td style=\"text-align: left;\">Patient B32 (MALE; P15Y)</td><td style=\"text-align: left;\">Marfan syndrome (OMIM:154700)</td><td style=\"text-align: left;\">NM_000138.5:c.8525_8529del (heterozygous)</td><td style=\"text-align: left;\">Arachnodactyly (HP:0001166): onset ; Pectus carinatum (HP:0000768): onset ; Disproportionate tall stature (HP:0001519): onset ; excluded: Ascending tubular aorta aneurysm (HP:0004970): onset ; excluded: Pneumothorax (HP:0002107): onset ; excluded: Pectus excavatum (HP:0000767): onset ; excluded: Scoliosis (HP:0002650): onset ; excluded: Descending aortic dissection (HP:0012499): onset ; excluded: Descending thoracic aorta aneurysm (HP:0004959): onset ; excluded: Ectopia lentis (HP:0001083): onset ; excluded: Joint hypermobility (HP:0001382): onset ; excluded: Mitral valve prolapse (HP:0001634): onset ; excluded: Cataract (HP:0000518): onset ; excluded: Retinal detachment (HP:0000541): onset ; excluded: Short stature (HP:0004322): onset ; excluded: Congestive heart failure (HP:0001635): onset ; excluded: Stiff skin (HP:0030053): onset <br/><b>TimeElement(element=Age(iso8601duration=P13Y))</b>: Aortic root aneurysm (HP:0002616): onset age {\n",
       "  iso8601duration: \"P13Y\"\n",
       "}\n",
       "</td></tr>\n",
       "<tr><td style=\"text-align: left;\">Patient B55 (MALE; P40Y)</td><td style=\"text-align: left;\">Marfan syndrome (OMIM:154700)</td><td style=\"text-align: left;\">NM_000138.5:c.7331-2A>G (heterozygous)</td><td style=\"text-align: left;\">Arachnodactyly (HP:0001166): onset ; High palate (HP:0000218): onset ; Striae distensae (HP:0001065): onset ; Descending thoracic aorta aneurysm (HP:0004959): onset ; Ectopia lentis (HP:0001083): onset ; Dolichocephaly (HP:0000268): onset ; Retrognathia (HP:0000278): onset ; Deeply set eye (HP:0000490): onset ; excluded: Ascending tubular aorta aneurysm (HP:0004970): onset ; excluded: Pneumothorax (HP:0002107): onset ; excluded: Pectus carinatum (HP:0000768): onset ; excluded: Pectus excavatum (HP:0000767): onset ; excluded: Scoliosis (HP:0002650): onset ; excluded: Aortic root aneurysm (HP:0002616): onset ; excluded: Joint hypermobility (HP:0001382): onset ; excluded: Mitral valve prolapse (HP:0001634): onset ; excluded: Cataract (HP:0000518): onset ; excluded: Retinal detachment (HP:0000541): onset ; excluded: Disproportionate tall stature (HP:0001519): onset ; excluded: Short stature (HP:0004322): onset ; excluded: Congestive heart failure (HP:0001635): onset ; excluded: Stiff skin (HP:0030053): onset <br/><b>TimeElement(element=Age(iso8601duration=P40Y))</b>: Descending aortic dissection (HP:0012499): onset age {\n",
       "  iso8601duration: \"P40Y\"\n",
       "}\n",
       "</td></tr>\n",
       "<tr><td style=\"text-align: left;\">Patient B73 (FEMALE; P21Y)</td><td style=\"text-align: left;\">Marfan syndrome (OMIM:154700)</td><td style=\"text-align: left;\">NM_000138.5:c.7871A>G (heterozygous)</td><td style=\"text-align: left;\">Scoliosis (HP:0002650): onset ; Genu valgum (HP:0002857): onset ; Disproportionate tall stature (HP:0001519): onset ; excluded: Ascending tubular aorta aneurysm (HP:0004970): onset ; excluded: Pneumothorax (HP:0002107): onset ; excluded: Arachnodactyly (HP:0001166): onset ; excluded: Pectus carinatum (HP:0000768): onset ; excluded: Pectus excavatum (HP:0000767): onset ; excluded: Aortic dissection (HP:0002647): onset ; excluded: Aortic root aneurysm (HP:0002616): onset ; excluded: Descending thoracic aorta aneurysm (HP:0004959): onset ; excluded: Ectopia lentis (HP:0001083): onset ; excluded: Joint hypermobility (HP:0001382): onset ; excluded: Mitral valve prolapse (HP:0001634): onset ; excluded: Dural ectasia (HP:0100775): onset ; excluded: Cataract (HP:0000518): onset ; excluded: Retinal detachment (HP:0000541): onset ; excluded: Short stature (HP:0004322): onset ; excluded: Congestive heart failure (HP:0001635): onset ; excluded: Stiff skin (HP:0030053): onset </td></tr>\n",
       "<tr><td style=\"text-align: left;\">Patient D22 (MALE; P10Y)</td><td style=\"text-align: left;\">Marfan syndrome (OMIM:154700)</td><td style=\"text-align: left;\">NM_000138.5:c.7605C>A (heterozygous)</td><td style=\"text-align: left;\">Arachnodactyly (HP:0001166): onset ; Scoliosis (HP:0002650): onset ; Aortic root aneurysm (HP:0002616): onset ; Joint hypermobility (HP:0001382): onset ; Disproportionate tall stature (HP:0001519): onset ; excluded: Ascending tubular aorta aneurysm (HP:0004970): onset ; excluded: Pneumothorax (HP:0002107): onset ; excluded: Pectus carinatum (HP:0000768): onset ; excluded: Pectus excavatum (HP:0000767): onset ; excluded: Aortic dissection (HP:0002647): onset ; excluded: Descending thoracic aorta aneurysm (HP:0004959): onset ; excluded: Ectopia lentis (HP:0001083): onset ; excluded: Mitral valve prolapse (HP:0001634): onset ; excluded: Cataract (HP:0000518): onset ; excluded: Retinal detachment (HP:0000541): onset ; excluded: Short stature (HP:0004322): onset ; excluded: Congestive heart failure (HP:0001635): onset ; excluded: Stiff skin (HP:0030053): onset </td></tr>\n",
       "<tr><td style=\"text-align: left;\">Patient D46 (MALE; P24Y)</td><td style=\"text-align: left;\">Marfan syndrome (OMIM:154700)</td><td style=\"text-align: left;\">NM_000138.5:c.8038C>T (heterozygous)</td><td style=\"text-align: left;\">Arachnodactyly (HP:0001166): onset ; Pectus excavatum (HP:0000767): onset ; Scoliosis (HP:0002650): onset ; Ectopia lentis (HP:0001083): onset ; Joint hypermobility (HP:0001382): onset ; Mitral valve prolapse (HP:0001634): onset ; Disproportionate tall stature (HP:0001519): onset ; excluded: Ascending tubular aorta aneurysm (HP:0004970): onset ; excluded: Pneumothorax (HP:0002107): onset ; excluded: Pectus carinatum (HP:0000768): onset ; excluded: Aortic dissection (HP:0002647): onset ; excluded: Aortic root aneurysm (HP:0002616): onset ; excluded: Descending thoracic aorta aneurysm (HP:0004959): onset ; excluded: Cataract (HP:0000518): onset ; excluded: Retinal detachment (HP:0000541): onset ; excluded: Short stature (HP:0004322): onset ; excluded: Congestive heart failure (HP:0001635): onset ; excluded: Stiff skin (HP:0030053): onset </td></tr>\n",
       "<tr><td style=\"text-align: left;\">Patient B7 (FEMALE; P13Y)</td><td style=\"text-align: left;\">Marfan syndrome (OMIM:154700)</td><td style=\"text-align: left;\">NM_000138.5:c.3973G>T (heterozygous)</td><td style=\"text-align: left;\">Arachnodactyly (HP:0001166): onset ; High palate (HP:0000218): onset ; Pectus carinatum (HP:0000768): onset ; Aortic root aneurysm (HP:0002616): onset ; Myopia (HP:0000545): onset ; Mitral valve prolapse (HP:0001634): onset ; Disproportionate tall stature (HP:0001519): onset ; excluded: Pneumothorax (HP:0002107): onset ; excluded: Pectus excavatum (HP:0000767): onset ; excluded: Striae distensae (HP:0001065): onset ; excluded: Scoliosis (HP:0002650): onset ; excluded: Ectopia lentis (HP:0001083): onset ; excluded: High myopia (HP:0011003): onset ; excluded: Joint hypermobility (HP:0001382): onset ; excluded: Dolichocephaly (HP:0000268): onset ; excluded: Mitral regurgitation (HP:0001653): onset ; excluded: Aortic regurgitation (HP:0001659): onset ; excluded: Deeply set eye (HP:0000490): onset ; excluded: Short stature (HP:0004322): onset ; excluded: Thin skin (HP:0000963): onset ; excluded: Stiff skin (HP:0030053): onset </td></tr>\n",
       "<tr><td style=\"text-align: left;\">Patient B15 (FEMALE; P16Y)</td><td style=\"text-align: left;\">Marfan syndrome (OMIM:154700)</td><td style=\"text-align: left;\">NM_000138.5:c.3037G>A (heterozygous)</td><td style=\"text-align: left;\">Pneumothorax (HP:0002107): onset ; High palate (HP:0000218): onset ; Aortic root aneurysm (HP:0002616): onset ; Myopia (HP:0000545): onset ; Dolichocephaly (HP:0000268): onset ; Mitral regurgitation (HP:0001653): onset ; Aortic regurgitation (HP:0001659): onset ; excluded: Pectus carinatum (HP:0000768): onset ; excluded: Pectus excavatum (HP:0000767): onset ; excluded: Striae distensae (HP:0001065): onset ; excluded: Joint hypermobility (HP:0001382): onset ; excluded: Mitral valve prolapse (HP:0001634): onset ; excluded: Deeply set eye (HP:0000490): onset ; excluded: Disproportionate tall stature (HP:0001519): onset ; excluded: Short stature (HP:0004322): onset ; excluded: Stiff skin (HP:0030053): onset <br/><b>TimeElement(element=Age(iso8601duration=P8M))</b>: Arachnodactyly (HP:0001166): onset age {\n",
       "  iso8601duration: \"P8M\"\n",
       "}\n",
       "; Kyphoscoliosis (HP:0002751): onset age {\n",
       "  iso8601duration: \"P8M\"\n",
       "}\n",
       "; Thin skin (HP:0000963): onset age {\n",
       "  iso8601duration: \"P8M\"\n",
       "}\n",
       "<br/><b>TimeElement(element=Age(iso8601duration=P12Y))</b>: Ectopia lentis (HP:0001083): onset age {\n",
       "  iso8601duration: \"P12Y\"\n",
       "}\n",
       "</td></tr>\n",
       "<tr><td style=\"text-align: left;\">Patient B22 (MALE; P32Y)</td><td style=\"text-align: left;\">Marfan syndrome (OMIM:154700)</td><td style=\"text-align: left;\">NM_000138.5:c.4955G>A (heterozygous)</td><td style=\"text-align: left;\">Arachnodactyly (HP:0001166): onset ; High palate (HP:0000218): onset ; Pectus carinatum (HP:0000768): onset ; Scoliosis (HP:0002650): onset ; Aortic root aneurysm (HP:0002616): onset ; Ectopia lentis (HP:0001083): onset ; High myopia (HP:0011003): onset ; Dolichocephaly (HP:0000268): onset ; Mitral valve prolapse (HP:0001634): onset ; Disproportionate tall stature (HP:0001519): onset ; excluded: Pneumothorax (HP:0002107): onset ; excluded: Pectus excavatum (HP:0000767): onset ; excluded: Striae distensae (HP:0001065): onset ; excluded: Joint hypermobility (HP:0001382): onset ; excluded: Mitral regurgitation (HP:0001653): onset ; excluded: Aortic regurgitation (HP:0001659): onset ; excluded: Deeply set eye (HP:0000490): onset ; excluded: Short stature (HP:0004322): onset ; excluded: Thin skin (HP:0000963): onset ; excluded: Stiff skin (HP:0030053): onset </td></tr>\n",
       "<tr><td style=\"text-align: left;\">Patient B27 (FEMALE; P35Y)</td><td style=\"text-align: left;\">Marfan syndrome (OMIM:154700)</td><td style=\"text-align: left;\">NM_000138.5:c.3344A>G (heterozygous)</td><td style=\"text-align: left;\">Pneumothorax (HP:0002107): onset ; Arachnodactyly (HP:0001166): onset ; Pectus carinatum (HP:0000768): onset ; Scoliosis (HP:0002650): onset ; Aortic root aneurysm (HP:0002616): onset ; Myopia (HP:0000545): onset ; Mitral valve prolapse (HP:0001634): onset ; Aortic regurgitation (HP:0001659): onset ; Dural ectasia (HP:0100775): onset ; Dental malocclusion (HP:0000689): onset ; excluded: High palate (HP:0000218): onset ; excluded: Pectus excavatum (HP:0000767): onset ; excluded: Striae distensae (HP:0001065): onset ; excluded: Ectopia lentis (HP:0001083): onset ; excluded: High myopia (HP:0011003): onset ; excluded: Joint hypermobility (HP:0001382): onset ; excluded: Dolichocephaly (HP:0000268): onset ; excluded: Mitral regurgitation (HP:0001653): onset ; excluded: Deeply set eye (HP:0000490): onset ; excluded: Disproportionate tall stature (HP:0001519): onset ; excluded: Short stature (HP:0004322): onset ; excluded: Thin skin (HP:0000963): onset ; excluded: Stiff skin (HP:0030053): onset </td></tr>\n",
       "<tr><td style=\"text-align: left;\">Patient B35 (FEMALE; P10Y)</td><td style=\"text-align: left;\">Marfan syndrome (OMIM:154700)</td><td style=\"text-align: left;\">NM_000138.5:c.3713A>G (heterozygous)</td><td style=\"text-align: left;\">Arachnodactyly (HP:0001166): onset ; High palate (HP:0000218): onset ; Pectus carinatum (HP:0000768): onset ; Scoliosis (HP:0002650): onset ; Aortic root aneurysm (HP:0002616): onset ; Myopia (HP:0000545): onset ; Joint hypermobility (HP:0001382): onset ; Dolichocephaly (HP:0000268): onset ; Mitral valve prolapse (HP:0001634): onset ; Disproportionate tall stature (HP:0001519): onset ; excluded: Pneumothorax (HP:0002107): onset ; excluded: Pectus excavatum (HP:0000767): onset ; excluded: Striae distensae (HP:0001065): onset ; excluded: Ectopia lentis (HP:0001083): onset ; excluded: High myopia (HP:0011003): onset ; excluded: Mitral regurgitation (HP:0001653): onset ; excluded: Aortic regurgitation (HP:0001659): onset ; excluded: Deeply set eye (HP:0000490): onset ; excluded: Short stature (HP:0004322): onset ; excluded: Thin skin (HP:0000963): onset ; excluded: Stiff skin (HP:0030053): onset </td></tr>\n",
       "<tr><td style=\"text-align: left;\">Patient B47 (FEMALE; P3Y)</td><td style=\"text-align: left;\">Marfan syndrome (OMIM:154700)</td><td style=\"text-align: left;\">NM_000138.5:c.3058A>G (heterozygous)</td><td style=\"text-align: left;\">High palate (HP:0000218): onset ; Joint hypermobility (HP:0001382): onset ; Disproportionate tall stature (HP:0001519): onset ; excluded: Pneumothorax (HP:0002107): onset ; excluded: Arachnodactyly (HP:0001166): onset ; excluded: Pectus carinatum (HP:0000768): onset ; excluded: Pectus excavatum (HP:0000767): onset ; excluded: Striae distensae (HP:0001065): onset ; excluded: Scoliosis (HP:0002650): onset ; excluded: Aortic root aneurysm (HP:0002616): onset ; excluded: Dolichocephaly (HP:0000268): onset ; excluded: Mitral valve prolapse (HP:0001634): onset ; excluded: Mitral regurgitation (HP:0001653): onset ; excluded: Aortic regurgitation (HP:0001659): onset ; excluded: Deeply set eye (HP:0000490): onset ; excluded: Short stature (HP:0004322): onset ; excluded: Thin skin (HP:0000963): onset ; excluded: Stiff skin (HP:0030053): onset </td></tr>\n",
       "<tr><td style=\"text-align: left;\">Patient D1 (MALE; P50Y)</td><td style=\"text-align: left;\">Marfan syndrome (OMIM:154700)</td><td style=\"text-align: left;\">NM_000138.5:c.3898A>G (heterozygous)</td><td style=\"text-align: left;\">High palate (HP:0000218): onset ; Aortic root aneurysm (HP:0002616): onset ; Ectopia lentis (HP:0001083): onset ; High myopia (HP:0011003): onset ; Joint hypermobility (HP:0001382): onset ; Dolichocephaly (HP:0000268): onset ; Mitral regurgitation (HP:0001653): onset ; Disproportionate tall stature (HP:0001519): onset ; excluded: Pneumothorax (HP:0002107): onset ; excluded: Arachnodactyly (HP:0001166): onset ; excluded: Pectus carinatum (HP:0000768): onset ; excluded: Pectus excavatum (HP:0000767): onset ; excluded: Striae distensae (HP:0001065): onset ; excluded: Scoliosis (HP:0002650): onset ; excluded: Mitral valve prolapse (HP:0001634): onset ; excluded: Aortic regurgitation (HP:0001659): onset ; excluded: Deeply set eye (HP:0000490): onset ; excluded: Short stature (HP:0004322): onset ; excluded: Thin skin (HP:0000963): onset ; excluded: Stiff skin (HP:0030053): onset </td></tr>\n",
       "<tr><td style=\"text-align: left;\">Patient D13 (FEMALE; P28Y)</td><td style=\"text-align: left;\">Marfan syndrome (OMIM:154700)</td><td style=\"text-align: left;\">NM_000138.5:c.4223G>T (heterozygous)</td><td style=\"text-align: left;\">Scoliosis (HP:0002650): onset ; Aortic root aneurysm (HP:0002616): onset ; Ectopia lentis (HP:0001083): onset ; High myopia (HP:0011003): onset ; Mitral valve prolapse (HP:0001634): onset ; Mitral regurgitation (HP:0001653): onset ; excluded: Pneumothorax (HP:0002107): onset ; excluded: High palate (HP:0000218): onset ; excluded: Pectus carinatum (HP:0000768): onset ; excluded: Pectus excavatum (HP:0000767): onset ; excluded: Striae distensae (HP:0001065): onset ; excluded: Dolichocephaly (HP:0000268): onset ; excluded: Aortic regurgitation (HP:0001659): onset ; excluded: Deeply set eye (HP:0000490): onset ; excluded: Disproportionate tall stature (HP:0001519): onset ; excluded: Short stature (HP:0004322): onset ; excluded: Thin skin (HP:0000963): onset ; excluded: Stiff skin (HP:0030053): onset </td></tr>\n",
       "<tr><td style=\"text-align: left;\">Patient D27 (MALE; P35Y)</td><td style=\"text-align: left;\">Marfan syndrome (OMIM:154700)</td><td style=\"text-align: left;\">NM_000138.5:c.4615C>T (heterozygous)</td><td style=\"text-align: left;\">Pneumothorax (HP:0002107): onset ; High palate (HP:0000218): onset ; Pectus carinatum (HP:0000768): onset ; Aortic root aneurysm (HP:0002616): onset ; Ectopia lentis (HP:0001083): onset ; Myopia (HP:0000545): onset ; Dolichocephaly (HP:0000268): onset ; Disproportionate tall stature (HP:0001519): onset ; excluded: Pectus excavatum (HP:0000767): onset ; excluded: Striae distensae (HP:0001065): onset ; excluded: Scoliosis (HP:0002650): onset ; excluded: Aortic regurgitation (HP:0001659): onset ; excluded: Deeply set eye (HP:0000490): onset ; excluded: Short stature (HP:0004322): onset ; excluded: Thin skin (HP:0000963): onset ; excluded: Stiff skin (HP:0030053): onset </td></tr>\n",
       "<tr><td style=\"text-align: left;\">Patient D36 (FEMALE; P11Y)</td><td style=\"text-align: left;\">Marfan syndrome (OMIM:154700)</td><td style=\"text-align: left;\">NM_000138.5:c.4217A>G (heterozygous)</td><td style=\"text-align: left;\">Arachnodactyly (HP:0001166): onset ; Aortic root aneurysm (HP:0002616): onset ; Ectopia lentis (HP:0001083): onset ; Joint hypermobility (HP:0001382): onset ; Mitral valve prolapse (HP:0001634): onset ; Disproportionate tall stature (HP:0001519): onset ; excluded: Pneumothorax (HP:0002107): onset ; excluded: High palate (HP:0000218): onset ; excluded: Pectus carinatum (HP:0000768): onset ; excluded: Pectus excavatum (HP:0000767): onset ; excluded: Striae distensae (HP:0001065): onset ; excluded: Scoliosis (HP:0002650): onset ; excluded: Dolichocephaly (HP:0000268): onset ; excluded: Mitral regurgitation (HP:0001653): onset ; excluded: Aortic regurgitation (HP:0001659): onset ; excluded: Deeply set eye (HP:0000490): onset ; excluded: Short stature (HP:0004322): onset ; excluded: Thin skin (HP:0000963): onset ; excluded: Stiff skin (HP:0030053): onset </td></tr>\n",
       "<tr><td style=\"text-align: left;\">Patient D54 (MALE; P33Y)</td><td style=\"text-align: left;\">Marfan syndrome (OMIM:154700)</td><td style=\"text-align: left;\">NM_000138.5:c.3082+1G>T (heterozygous)</td><td style=\"text-align: left;\">Arachnodactyly (HP:0001166): onset ; Striae distensae (HP:0001065): onset ; Scoliosis (HP:0002650): onset ; Aortic root aneurysm (HP:0002616): onset ; Ectopia lentis (HP:0001083): onset ; Disproportionate tall stature (HP:0001519): onset ; excluded: Pneumothorax (HP:0002107): onset ; excluded: High palate (HP:0000218): onset ; excluded: Pectus carinatum (HP:0000768): onset ; excluded: Pectus excavatum (HP:0000767): onset ; excluded: High myopia (HP:0011003): onset ; excluded: Joint hypermobility (HP:0001382): onset ; excluded: Dolichocephaly (HP:0000268): onset ; excluded: Aortic regurgitation (HP:0001659): onset ; excluded: Deeply set eye (HP:0000490): onset ; excluded: Short stature (HP:0004322): onset ; excluded: Thin skin (HP:0000963): onset ; excluded: Stiff skin (HP:0030053): onset </td></tr>\n",
       "<tr><td style=\"text-align: left;\">Patient D60 (FEMALE; P8Y)</td><td style=\"text-align: left;\">Marfan syndrome (OMIM:154700)</td><td style=\"text-align: left;\">NM_000138.5:c.3037G>A (heterozygous)</td><td style=\"text-align: left;\">Arachnodactyly (HP:0001166): onset ; High palate (HP:0000218): onset ; Scoliosis (HP:0002650): onset ; Aortic root aneurysm (HP:0002616): onset ; High myopia (HP:0011003): onset ; Joint hypermobility (HP:0001382): onset ; Dolichocephaly (HP:0000268): onset ; Mitral regurgitation (HP:0001653): onset ; Deeply set eye (HP:0000490): onset ; Disproportionate tall stature (HP:0001519): onset ; excluded: Pneumothorax (HP:0002107): onset ; excluded: Pectus carinatum (HP:0000768): onset ; excluded: Pectus excavatum (HP:0000767): onset ; excluded: Striae distensae (HP:0001065): onset ; excluded: Aortic regurgitation (HP:0001659): onset ; excluded: Short stature (HP:0004322): onset ; excluded: Thin skin (HP:0000963): onset ; excluded: Stiff skin (HP:0030053): onset <br/><b>TimeElement(element=Age(iso8601duration=P1Y))</b>: Ectopia lentis (HP:0001083): onset age {\n",
       "  iso8601duration: \"P1Y\"\n",
       "}\n",
       "</td></tr>\n",
       "<tr><td style=\"text-align: left;\">Patient D15 (MALE; P25Y)</td><td style=\"text-align: left;\">Marfan syndrome (OMIM:154700)</td><td style=\"text-align: left;\">NM_000138.5:c.184C>T (heterozygous)</td><td style=\"text-align: left;\">Arachnodactyly (HP:0001166): onset ; Striae distensae (HP:0001065): onset ; Aortic root aneurysm (HP:0002616): onset ; Ectopia lentis (HP:0001083): onset ; Pes planus (HP:0001763): onset ; Deeply set eye (HP:0000490): onset ; Tall stature (HP:0000098): onset ; excluded: High palate (HP:0000218): onset ; excluded: Dental crowding (HP:0000678): onset ; excluded: Pectus carinatum (HP:0000768): onset ; excluded: Pectus excavatum (HP:0000767): onset ; excluded: Scoliosis (HP:0002650): onset ; excluded: Limited elbow extension (HP:0001377): onset ; excluded: Ascending aortic dissection (HP:0004933): onset ; excluded: Myopia (HP:0000545): onset ; excluded: Lens coloboma (HP:0100719): onset ; excluded: Joint hypermobility (HP:0001382): onset ; excluded: Dolichocephaly (HP:0000268): onset ; excluded: Mitral valve prolapse (HP:0001634): onset ; excluded: Mitral regurgitation (HP:0001653): onset ; excluded: Inguinal hernia (HP:0000023): onset ; excluded: Malar flattening (HP:0000272): onset ; excluded: Retinal detachment (HP:0000541): onset ; excluded: Disproportionate tall stature (HP:0001519): onset ; excluded: Short stature (HP:0004322): onset ; excluded: Stiff skin (HP:0030053): onset </td></tr>\n",
       "<tr><td style=\"text-align: left;\">Patient D55 (MALE; P31Y)</td><td style=\"text-align: left;\">Marfan syndrome (OMIM:154700)</td><td style=\"text-align: left;\">NM_000138.5:c.184C>T (heterozygous)</td><td style=\"text-align: left;\">Ectopia lentis (HP:0001083): onset ; Retinal detachment (HP:0000541): onset ; excluded: Arachnodactyly (HP:0001166): onset ; excluded: High palate (HP:0000218): onset ; excluded: Dental crowding (HP:0000678): onset ; excluded: Pectus carinatum (HP:0000768): onset ; excluded: Pectus excavatum (HP:0000767): onset ; excluded: Striae distensae (HP:0001065): onset ; excluded: Scoliosis (HP:0002650): onset ; excluded: Limited elbow extension (HP:0001377): onset ; excluded: Ascending aortic dissection (HP:0004933): onset ; excluded: Aortic root aneurysm (HP:0002616): onset ; excluded: Myopia (HP:0000545): onset ; excluded: Lens coloboma (HP:0100719): onset ; excluded: Joint hypermobility (HP:0001382): onset ; excluded: Dolichocephaly (HP:0000268): onset ; excluded: Mitral valve prolapse (HP:0001634): onset ; excluded: Mitral regurgitation (HP:0001653): onset ; excluded: Pes planus (HP:0001763): onset ; excluded: Inguinal hernia (HP:0000023): onset ; excluded: Malar flattening (HP:0000272): onset ; excluded: Deeply set eye (HP:0000490): onset ; excluded: Disproportionate tall stature (HP:0001519): onset ; excluded: Short stature (HP:0004322): onset ; excluded: Stiff skin (HP:0030053): onset </td></tr>\n",
       "<tr><td style=\"text-align: left;\">Patient B46 (MALE; P12Y)</td><td style=\"text-align: left;\">Marfan syndrome (OMIM:154700)</td><td style=\"text-align: left;\">NM_000138.5:c.184C>T (heterozygous)</td><td style=\"text-align: left;\">excluded: Arachnodactyly (HP:0001166): onset ; excluded: High palate (HP:0000218): onset ; excluded: Dental crowding (HP:0000678): onset ; excluded: Pectus carinatum (HP:0000768): onset ; excluded: Pectus excavatum (HP:0000767): onset ; excluded: Striae distensae (HP:0001065): onset ; excluded: Scoliosis (HP:0002650): onset ; excluded: Limited elbow extension (HP:0001377): onset ; excluded: Ectopia lentis (HP:0001083): onset ; excluded: Myopia (HP:0000545): onset ; excluded: Lens coloboma (HP:0100719): onset ; excluded: Joint hypermobility (HP:0001382): onset ; excluded: Dolichocephaly (HP:0000268): onset ; excluded: Pes planus (HP:0001763): onset ; excluded: Inguinal hernia (HP:0000023): onset ; excluded: Malar flattening (HP:0000272): onset ; excluded: Deeply set eye (HP:0000490): onset ; excluded: Retinal detachment (HP:0000541): onset ; excluded: Disproportionate tall stature (HP:0001519): onset ; excluded: Short stature (HP:0004322): onset ; excluded: Stiff skin (HP:0030053): onset </td></tr>\n",
       "<tr><td style=\"text-align: left;\">Patient D10 (FEMALE; P16Y)</td><td style=\"text-align: left;\">Marfan syndrome (OMIM:154700)</td><td style=\"text-align: left;\">NM_000138.5:c.344C>G (heterozygous)</td><td style=\"text-align: left;\">Limited elbow extension (HP:0001377): onset ; Dolichocephaly (HP:0000268): onset ; Deeply set eye (HP:0000490): onset ; excluded: Arachnodactyly (HP:0001166): onset ; excluded: High palate (HP:0000218): onset ; excluded: Dental crowding (HP:0000678): onset ; excluded: Pectus carinatum (HP:0000768): onset ; excluded: Pectus excavatum (HP:0000767): onset ; excluded: Striae distensae (HP:0001065): onset ; excluded: Scoliosis (HP:0002650): onset ; excluded: Ascending aortic dissection (HP:0004933): onset ; excluded: Myopia (HP:0000545): onset ; excluded: Lens coloboma (HP:0100719): onset ; excluded: Joint hypermobility (HP:0001382): onset ; excluded: Mitral valve prolapse (HP:0001634): onset ; excluded: Mitral regurgitation (HP:0001653): onset ; excluded: Pes planus (HP:0001763): onset ; excluded: Inguinal hernia (HP:0000023): onset ; excluded: Malar flattening (HP:0000272): onset ; excluded: Retinal detachment (HP:0000541): onset ; excluded: Disproportionate tall stature (HP:0001519): onset ; excluded: Short stature (HP:0004322): onset ; excluded: Stiff skin (HP:0030053): onset <br/><b>TimeElement(element=OntologyClass(id=HP:0003577, label=Congenital onset))</b>: Ectopia lentis (HP:0001083): onset ontology_class {\n",
       "  id: \"HP:0003577\"\n",
       "  label: \"Congenital onset\"\n",
       "}\n",
       "</td></tr>\n",
       "<tr><td style=\"text-align: left;\">Patient B3 (FEMALE; P15Y)</td><td style=\"text-align: left;\">Marfan syndrome (OMIM:154700)</td><td style=\"text-align: left;\">NM_000138.5:c.1760G>A (heterozygous)</td><td style=\"text-align: left;\">Arachnodactyly (HP:0001166): onset ; Scoliosis (HP:0002650): onset ; Aortic root aneurysm (HP:0002616): onset ; Ectopia lentis (HP:0001083): onset ; Myopia (HP:0000545): onset ; Tall stature (HP:0000098): onset ; excluded: High palate (HP:0000218): onset ; excluded: Dental crowding (HP:0000678): onset ; excluded: Pectus carinatum (HP:0000768): onset ; excluded: Pectus excavatum (HP:0000767): onset ; excluded: Striae distensae (HP:0001065): onset ; excluded: Limited elbow extension (HP:0001377): onset ; excluded: Ascending aortic dissection (HP:0004933): onset ; excluded: Lens coloboma (HP:0100719): onset ; excluded: Joint hypermobility (HP:0001382): onset ; excluded: Dolichocephaly (HP:0000268): onset ; excluded: Mitral valve prolapse (HP:0001634): onset ; excluded: Mitral regurgitation (HP:0001653): onset ; excluded: Pes planus (HP:0001763): onset ; excluded: Inguinal hernia (HP:0000023): onset ; excluded: Malar flattening (HP:0000272): onset ; excluded: Deeply set eye (HP:0000490): onset ; excluded: Retinal detachment (HP:0000541): onset ; excluded: Disproportionate tall stature (HP:0001519): onset ; excluded: Short stature (HP:0004322): onset ; excluded: Stiff skin (HP:0030053): onset </td></tr>\n",
       "<tr><td style=\"text-align: left;\">Patient B1 (MALE; P8Y)</td><td style=\"text-align: left;\">Marfan syndrome (OMIM:154700)</td><td style=\"text-align: left;\">NM_000138.5:c.1787G>A (heterozygous)</td><td style=\"text-align: left;\">Arachnodactyly (HP:0001166): onset ; High palate (HP:0000218): onset ; Dental crowding (HP:0000678): onset ; Limited elbow extension (HP:0001377): onset ; Aortic root aneurysm (HP:0002616): onset ; Ectopia lentis (HP:0001083): onset ; Myopia (HP:0000545): onset ; Dolichocephaly (HP:0000268): onset ; Mitral valve prolapse (HP:0001634): onset ; Pes planus (HP:0001763): onset ; Deeply set eye (HP:0000490): onset ; Disproportionate tall stature (HP:0001519): onset ; excluded: Pectus carinatum (HP:0000768): onset ; excluded: Pectus excavatum (HP:0000767): onset ; excluded: Striae distensae (HP:0001065): onset ; excluded: Scoliosis (HP:0002650): onset ; excluded: Ascending aortic dissection (HP:0004933): onset ; excluded: Lens coloboma (HP:0100719): onset ; excluded: Joint hypermobility (HP:0001382): onset ; excluded: Mitral regurgitation (HP:0001653): onset ; excluded: Inguinal hernia (HP:0000023): onset ; excluded: Malar flattening (HP:0000272): onset ; excluded: Retinal detachment (HP:0000541): onset ; excluded: Short stature (HP:0004322): onset ; excluded: Stiff skin (HP:0030053): onset </td></tr>\n",
       "<tr><td style=\"text-align: left;\">Patient D26 (FEMALE; P50Y)</td><td style=\"text-align: left;\">Marfan syndrome (OMIM:154700)</td><td style=\"text-align: left;\">NM_000138.5:c.1960G>A (heterozygous)</td><td style=\"text-align: left;\">Striae distensae (HP:0001065): onset ; Ascending aortic dissection (HP:0004933): onset ; Aortic root aneurysm (HP:0002616): onset ; Flat cornea (HP:0007720): onset ; Pes planus (HP:0001763): onset ; excluded: Arachnodactyly (HP:0001166): onset ; excluded: High palate (HP:0000218): onset ; excluded: Dental crowding (HP:0000678): onset ; excluded: Pectus carinatum (HP:0000768): onset ; excluded: Pectus excavatum (HP:0000767): onset ; excluded: Scoliosis (HP:0002650): onset ; excluded: Limited elbow extension (HP:0001377): onset ; excluded: Ectopia lentis (HP:0001083): onset ; excluded: Myopia (HP:0000545): onset ; excluded: Lens coloboma (HP:0100719): onset ; excluded: Joint hypermobility (HP:0001382): onset ; excluded: Dolichocephaly (HP:0000268): onset ; excluded: Mitral valve prolapse (HP:0001634): onset ; excluded: Mitral regurgitation (HP:0001653): onset ; excluded: Inguinal hernia (HP:0000023): onset ; excluded: Malar flattening (HP:0000272): onset ; excluded: Deeply set eye (HP:0000490): onset ; excluded: Retinal detachment (HP:0000541): onset ; excluded: Disproportionate tall stature (HP:0001519): onset ; excluded: Short stature (HP:0004322): onset ; excluded: Stiff skin (HP:0030053): onset </td></tr>\n",
       "<tr><td style=\"text-align: left;\">Patient B9 (MALE; P12Y)</td><td style=\"text-align: left;\">Marfan syndrome (OMIM:154700)</td><td style=\"text-align: left;\">NM_000138.5:c.2055C>G (heterozygous)</td><td style=\"text-align: left;\">Arachnodactyly (HP:0001166): onset ; Pectus excavatum (HP:0000767): onset ; Aortic root aneurysm (HP:0002616): onset ; Ectopia lentis (HP:0001083): onset ; Pes planus (HP:0001763): onset ; Tall stature (HP:0000098): onset ; excluded: High palate (HP:0000218): onset ; excluded: Dental crowding (HP:0000678): onset ; excluded: Pectus carinatum (HP:0000768): onset ; excluded: Striae distensae (HP:0001065): onset ; excluded: Scoliosis (HP:0002650): onset ; excluded: Limited elbow extension (HP:0001377): onset ; excluded: Ascending aortic dissection (HP:0004933): onset ; excluded: Myopia (HP:0000545): onset ; excluded: Lens coloboma (HP:0100719): onset ; excluded: Joint hypermobility (HP:0001382): onset ; excluded: Dolichocephaly (HP:0000268): onset ; excluded: Mitral valve prolapse (HP:0001634): onset ; excluded: Mitral regurgitation (HP:0001653): onset ; excluded: Inguinal hernia (HP:0000023): onset ; excluded: Malar flattening (HP:0000272): onset ; excluded: Deeply set eye (HP:0000490): onset ; excluded: Retinal detachment (HP:0000541): onset ; excluded: Disproportionate tall stature (HP:0001519): onset ; excluded: Short stature (HP:0004322): onset ; excluded: Stiff skin (HP:0030053): onset </td></tr>\n",
       "<tr><td style=\"text-align: left;\">Patient B19 (MALE; P3Y)</td><td style=\"text-align: left;\">Marfan syndrome (OMIM:154700)</td><td style=\"text-align: left;\">NM_000138.5:c.2055C>G (heterozygous)</td><td style=\"text-align: left;\">Arachnodactyly (HP:0001166): onset ; High palate (HP:0000218): onset ; Dental crowding (HP:0000678): onset ; Scoliosis (HP:0002650): onset ; Aortic root aneurysm (HP:0002616): onset ; Ectopia lentis (HP:0001083): onset ; Joint hypermobility (HP:0001382): onset ; Disproportionate tall stature (HP:0001519): onset ; excluded: Pectus carinatum (HP:0000768): onset ; excluded: Pectus excavatum (HP:0000767): onset ; excluded: Striae distensae (HP:0001065): onset ; excluded: Limited elbow extension (HP:0001377): onset ; excluded: Ascending aortic dissection (HP:0004933): onset ; excluded: Myopia (HP:0000545): onset ; excluded: Lens coloboma (HP:0100719): onset ; excluded: Dolichocephaly (HP:0000268): onset ; excluded: Mitral valve prolapse (HP:0001634): onset ; excluded: Mitral regurgitation (HP:0001653): onset ; excluded: Pes planus (HP:0001763): onset ; excluded: Inguinal hernia (HP:0000023): onset ; excluded: Malar flattening (HP:0000272): onset ; excluded: Deeply set eye (HP:0000490): onset ; excluded: Retinal detachment (HP:0000541): onset ; excluded: Short stature (HP:0004322): onset ; excluded: Stiff skin (HP:0030053): onset </td></tr>\n",
       "<tr><td style=\"text-align: left;\">Patient D59 (FEMALE; P16Y)</td><td style=\"text-align: left;\">Marfan syndrome (OMIM:154700)</td><td style=\"text-align: left;\">NM_000138.5:c.2042C>A (heterozygous)</td><td style=\"text-align: left;\">Arachnodactyly (HP:0001166): onset ; High palate (HP:0000218): onset ; Dental crowding (HP:0000678): onset ; Scoliosis (HP:0002650): onset ; Ectopia lentis (HP:0001083): onset ; Myopia (HP:0000545): onset ; Joint hypermobility (HP:0001382): onset ; Tall stature (HP:0000098): onset ; excluded: Pectus carinatum (HP:0000768): onset ; excluded: Pectus excavatum (HP:0000767): onset ; excluded: Striae distensae (HP:0001065): onset ; excluded: Limited elbow extension (HP:0001377): onset ; excluded: Lens coloboma (HP:0100719): onset ; excluded: Dolichocephaly (HP:0000268): onset ; excluded: Pes planus (HP:0001763): onset ; excluded: Inguinal hernia (HP:0000023): onset ; excluded: Malar flattening (HP:0000272): onset ; excluded: Deeply set eye (HP:0000490): onset ; excluded: Retinal detachment (HP:0000541): onset ; excluded: Disproportionate tall stature (HP:0001519): onset ; excluded: Short stature (HP:0004322): onset ; excluded: Stiff skin (HP:0030053): onset </td></tr>\n",
       "<tr><td style=\"text-align: left;\">Patient D62 (FEMALE; P49Y)</td><td style=\"text-align: left;\">Marfan syndrome (OMIM:154700)</td><td style=\"text-align: left;\">NM_000138.5:c.2047T>C (heterozygous)</td><td style=\"text-align: left;\">Arachnodactyly (HP:0001166): onset ; Pectus excavatum (HP:0000767): onset ; Striae distensae (HP:0001065): onset ; Scoliosis (HP:0002650): onset ; Ectopia lentis (HP:0001083): onset ; Myopia (HP:0000545): onset ; Joint hypermobility (HP:0001382): onset ; Mitral valve prolapse (HP:0001634): onset ; Pes planus (HP:0001763): onset ; excluded: High palate (HP:0000218): onset ; excluded: Dental crowding (HP:0000678): onset ; excluded: Pectus carinatum (HP:0000768): onset ; excluded: Limited elbow extension (HP:0001377): onset ; excluded: Ascending aortic dissection (HP:0004933): onset ; excluded: Aortic root aneurysm (HP:0002616): onset ; excluded: Lens coloboma (HP:0100719): onset ; excluded: Dolichocephaly (HP:0000268): onset ; excluded: Mitral regurgitation (HP:0001653): onset ; excluded: Inguinal hernia (HP:0000023): onset ; excluded: Malar flattening (HP:0000272): onset ; excluded: Deeply set eye (HP:0000490): onset ; excluded: Retinal detachment (HP:0000541): onset ; excluded: Disproportionate tall stature (HP:0001519): onset ; excluded: Short stature (HP:0004322): onset ; excluded: Stiff skin (HP:0030053): onset </td></tr>\n",
       "<tr><td style=\"text-align: left;\">Patient D31 (MALE; P13Y)</td><td style=\"text-align: left;\">Marfan syndrome (OMIM:154700)</td><td style=\"text-align: left;\">NM_000138.5:c.1982G>A (heterozygous)</td><td style=\"text-align: left;\">Arachnodactyly (HP:0001166): onset ; Striae distensae (HP:0001065): onset ; Scoliosis (HP:0002650): onset ; Ectopia lentis (HP:0001083): onset ; Myopia (HP:0000545): onset ; Joint hypermobility (HP:0001382): onset ; Pes planus (HP:0001763): onset ; Tall stature (HP:0000098): onset ; excluded: High palate (HP:0000218): onset ; excluded: Dental crowding (HP:0000678): onset ; excluded: Pectus carinatum (HP:0000768): onset ; excluded: Pectus excavatum (HP:0000767): onset ; excluded: Limited elbow extension (HP:0001377): onset ; excluded: Lens coloboma (HP:0100719): onset ; excluded: Dolichocephaly (HP:0000268): onset ; excluded: Inguinal hernia (HP:0000023): onset ; excluded: Malar flattening (HP:0000272): onset ; excluded: Deeply set eye (HP:0000490): onset ; excluded: Retinal detachment (HP:0000541): onset ; excluded: Disproportionate tall stature (HP:0001519): onset ; excluded: Short stature (HP:0004322): onset ; excluded: Stiff skin (HP:0030053): onset </td></tr>\n",
       "<tr><td style=\"text-align: left;\">Patient D2 (FEMALE; P11Y)</td><td style=\"text-align: left;\">Marfan syndrome (OMIM:154700)</td><td style=\"text-align: left;\">NM_000138.5:c.2114-2A>G (heterozygous)</td><td style=\"text-align: left;\">Arachnodactyly (HP:0001166): onset ; Aortic root aneurysm (HP:0002616): onset ; Ectopia lentis (HP:0001083): onset ; Myopia (HP:0000545): onset ; Dolichocephaly (HP:0000268): onset ; Malar flattening (HP:0000272): onset ; Disproportionate tall stature (HP:0001519): onset ; excluded: High palate (HP:0000218): onset ; excluded: Dental crowding (HP:0000678): onset ; excluded: Pectus carinatum (HP:0000768): onset ; excluded: Pectus excavatum (HP:0000767): onset ; excluded: Striae distensae (HP:0001065): onset ; excluded: Scoliosis (HP:0002650): onset ; excluded: Limited elbow extension (HP:0001377): onset ; excluded: Ascending aortic dissection (HP:0004933): onset ; excluded: Lens coloboma (HP:0100719): onset ; excluded: Joint hypermobility (HP:0001382): onset ; excluded: Mitral valve prolapse (HP:0001634): onset ; excluded: Mitral regurgitation (HP:0001653): onset ; excluded: Pes planus (HP:0001763): onset ; excluded: Inguinal hernia (HP:0000023): onset ; excluded: Deeply set eye (HP:0000490): onset ; excluded: Retinal detachment (HP:0000541): onset ; excluded: Short stature (HP:0004322): onset ; excluded: Stiff skin (HP:0030053): onset </td></tr>\n",
       "<tr><td style=\"text-align: left;\">Patient D40 (FEMALE; P24Y)</td><td style=\"text-align: left;\">Marfan syndrome (OMIM:154700)</td><td style=\"text-align: left;\">NM_000138.5:c.2243G>A (heterozygous)</td><td style=\"text-align: left;\">Arachnodactyly (HP:0001166): onset ; Pectus excavatum (HP:0000767): onset ; Scoliosis (HP:0002650): onset ; Aortic root aneurysm (HP:0002616): onset ; Ectopia lentis (HP:0001083): onset ; Myopia (HP:0000545): onset ; Mitral valve prolapse (HP:0001634): onset ; Tall stature (HP:0000098): onset ; excluded: High palate (HP:0000218): onset ; excluded: Dental crowding (HP:0000678): onset ; excluded: Pectus carinatum (HP:0000768): onset ; excluded: Striae distensae (HP:0001065): onset ; excluded: Limited elbow extension (HP:0001377): onset ; excluded: Ascending aortic dissection (HP:0004933): onset ; excluded: Lens coloboma (HP:0100719): onset ; excluded: Joint hypermobility (HP:0001382): onset ; excluded: Dolichocephaly (HP:0000268): onset ; excluded: Mitral regurgitation (HP:0001653): onset ; excluded: Pes planus (HP:0001763): onset ; excluded: Inguinal hernia (HP:0000023): onset ; excluded: Malar flattening (HP:0000272): onset ; excluded: Deeply set eye (HP:0000490): onset ; excluded: Retinal detachment (HP:0000541): onset ; excluded: Disproportionate tall stature (HP:0001519): onset ; excluded: Short stature (HP:0004322): onset ; excluded: Stiff skin (HP:0030053): onset </td></tr>\n",
       "<tr><td style=\"text-align: left;\">Patient B18 (FEMALE; P8Y)</td><td style=\"text-align: left;\">Marfan syndrome (OMIM:154700)</td><td style=\"text-align: left;\">NM_000138.5:c.2168A>T (heterozygous)</td><td style=\"text-align: left;\">Arachnodactyly (HP:0001166): onset ; High palate (HP:0000218): onset ; Dental crowding (HP:0000678): onset ; Aortic root aneurysm (HP:0002616): onset ; Ectopia lentis (HP:0001083): onset ; Myopia (HP:0000545): onset ; Joint hypermobility (HP:0001382): onset ; Mitral valve prolapse (HP:0001634): onset ; Pes planus (HP:0001763): onset ; excluded: Pectus carinatum (HP:0000768): onset ; excluded: Pectus excavatum (HP:0000767): onset ; excluded: Striae distensae (HP:0001065): onset ; excluded: Scoliosis (HP:0002650): onset ; excluded: Limited elbow extension (HP:0001377): onset ; excluded: Ascending aortic dissection (HP:0004933): onset ; excluded: Lens coloboma (HP:0100719): onset ; excluded: Dolichocephaly (HP:0000268): onset ; excluded: Mitral regurgitation (HP:0001653): onset ; excluded: Inguinal hernia (HP:0000023): onset ; excluded: Malar flattening (HP:0000272): onset ; excluded: Deeply set eye (HP:0000490): onset ; excluded: Retinal detachment (HP:0000541): onset ; excluded: Disproportionate tall stature (HP:0001519): onset ; excluded: Short stature (HP:0004322): onset ; excluded: Stiff skin (HP:0030053): onset </td></tr>\n",
       "<tr><td style=\"text-align: left;\">Patient B65 (MALE; P18Y)</td><td style=\"text-align: left;\">Marfan syndrome (OMIM:154700)</td><td style=\"text-align: left;\">NM_000138.5:c.2201G>T (heterozygous)</td><td style=\"text-align: left;\">Arachnodactyly (HP:0001166): onset ; High palate (HP:0000218): onset ; Dental crowding (HP:0000678): onset ; Pectus carinatum (HP:0000768): onset ; Scoliosis (HP:0002650): onset ; Aortic root aneurysm (HP:0002616): onset ; Ectopia lentis (HP:0001083): onset ; Joint hypermobility (HP:0001382): onset ; Dolichocephaly (HP:0000268): onset ; Pes planus (HP:0001763): onset ; Disproportionate tall stature (HP:0001519): onset ; excluded: Pectus excavatum (HP:0000767): onset ; excluded: Striae distensae (HP:0001065): onset ; excluded: Limited elbow extension (HP:0001377): onset ; excluded: Ascending aortic dissection (HP:0004933): onset ; excluded: Myopia (HP:0000545): onset ; excluded: Lens coloboma (HP:0100719): onset ; excluded: Mitral valve prolapse (HP:0001634): onset ; excluded: Mitral regurgitation (HP:0001653): onset ; excluded: Inguinal hernia (HP:0000023): onset ; excluded: Malar flattening (HP:0000272): onset ; excluded: Deeply set eye (HP:0000490): onset ; excluded: Retinal detachment (HP:0000541): onset ; excluded: Short stature (HP:0004322): onset ; excluded: Stiff skin (HP:0030053): onset </td></tr>\n",
       "<tr><td style=\"text-align: left;\">Patient B51 (MALE; P17Y)</td><td style=\"text-align: left;\">Marfan syndrome (OMIM:154700)</td><td style=\"text-align: left;\">NM_000138.5:c.2341T>C (heterozygous)</td><td style=\"text-align: left;\">Arachnodactyly (HP:0001166): onset ; High palate (HP:0000218): onset ; Dental crowding (HP:0000678): onset ; Limited elbow extension (HP:0001377): onset ; Aortic root aneurysm (HP:0002616): onset ; Ectopia lentis (HP:0001083): onset ; Myopia (HP:0000545): onset ; Dolichocephaly (HP:0000268): onset ; Mitral valve prolapse (HP:0001634): onset ; Inguinal hernia (HP:0000023): onset ; Disproportionate tall stature (HP:0001519): onset ; excluded: Pectus carinatum (HP:0000768): onset ; excluded: Pectus excavatum (HP:0000767): onset ; excluded: Striae distensae (HP:0001065): onset ; excluded: Scoliosis (HP:0002650): onset ; excluded: Ascending aortic dissection (HP:0004933): onset ; excluded: Lens coloboma (HP:0100719): onset ; excluded: Joint hypermobility (HP:0001382): onset ; excluded: Mitral regurgitation (HP:0001653): onset ; excluded: Pes planus (HP:0001763): onset ; excluded: Malar flattening (HP:0000272): onset ; excluded: Deeply set eye (HP:0000490): onset ; excluded: Retinal detachment (HP:0000541): onset ; excluded: Short stature (HP:0004322): onset ; excluded: Stiff skin (HP:0030053): onset </td></tr>\n",
       "<tr><td style=\"text-align: left;\">Patient D37 (MALE; P19Y)</td><td style=\"text-align: left;\">Marfan syndrome (OMIM:154700)</td><td style=\"text-align: left;\">NM_000138.5:c.2326T>G (heterozygous)</td><td style=\"text-align: left;\">Arachnodactyly (HP:0001166): onset ; Pectus excavatum (HP:0000767): onset ; Ectopia lentis (HP:0001083): onset ; Myopia (HP:0000545): onset ; Joint hypermobility (HP:0001382): onset ; Inguinal hernia (HP:0000023): onset ; Deeply set eye (HP:0000490): onset ; Tall stature (HP:0000098): onset ; excluded: High palate (HP:0000218): onset ; excluded: Dental crowding (HP:0000678): onset ; excluded: Pectus carinatum (HP:0000768): onset ; excluded: Striae distensae (HP:0001065): onset ; excluded: Scoliosis (HP:0002650): onset ; excluded: Limited elbow extension (HP:0001377): onset ; excluded: Ascending aortic dissection (HP:0004933): onset ; excluded: Aortic root aneurysm (HP:0002616): onset ; excluded: Lens coloboma (HP:0100719): onset ; excluded: Dolichocephaly (HP:0000268): onset ; excluded: Mitral valve prolapse (HP:0001634): onset ; excluded: Mitral regurgitation (HP:0001653): onset ; excluded: Pes planus (HP:0001763): onset ; excluded: Malar flattening (HP:0000272): onset ; excluded: Retinal detachment (HP:0000541): onset ; excluded: Disproportionate tall stature (HP:0001519): onset ; excluded: Short stature (HP:0004322): onset ; excluded: Stiff skin (HP:0030053): onset </td></tr>\n",
       "<tr><td style=\"text-align: left;\">Patient B60 (MALE; P47Y)</td><td style=\"text-align: left;\">Marfan syndrome (OMIM:154700)</td><td style=\"text-align: left;\">NM_000138.5:c.2581C>T (heterozygous)</td><td style=\"text-align: left;\">Aortic root aneurysm (HP:0002616): onset ; Dolichocephaly (HP:0000268): onset ; Pes planus (HP:0001763): onset ; excluded: Arachnodactyly (HP:0001166): onset ; excluded: High palate (HP:0000218): onset ; excluded: Dental crowding (HP:0000678): onset ; excluded: Pectus carinatum (HP:0000768): onset ; excluded: Pectus excavatum (HP:0000767): onset ; excluded: Striae distensae (HP:0001065): onset ; excluded: Scoliosis (HP:0002650): onset ; excluded: Limited elbow extension (HP:0001377): onset ; excluded: Ectopia lentis (HP:0001083): onset ; excluded: Myopia (HP:0000545): onset ; excluded: Lens coloboma (HP:0100719): onset ; excluded: Joint hypermobility (HP:0001382): onset ; excluded: Mitral valve prolapse (HP:0001634): onset ; excluded: Mitral regurgitation (HP:0001653): onset ; excluded: Inguinal hernia (HP:0000023): onset ; excluded: Malar flattening (HP:0000272): onset ; excluded: Deeply set eye (HP:0000490): onset ; excluded: Retinal detachment (HP:0000541): onset ; excluded: Disproportionate tall stature (HP:0001519): onset ; excluded: Short stature (HP:0004322): onset ; excluded: Stiff skin (HP:0030053): onset <br/><b>TimeElement(element=Age(iso8601duration=P43Y))</b>: Ascending aortic dissection (HP:0004933): onset age {\n",
       "  iso8601duration: \"P43Y\"\n",
       "}\n",
       "</td></tr>\n",
       "<tr><td style=\"text-align: left;\">Patient D7 (MALE; P43Y)</td><td style=\"text-align: left;\">Marfan syndrome (OMIM:154700)</td><td style=\"text-align: left;\">NM_000138.5:c.2722T>C (heterozygous)</td><td style=\"text-align: left;\">Arachnodactyly (HP:0001166): onset ; Ectopia lentis (HP:0001083): onset ; excluded: High palate (HP:0000218): onset ; excluded: Dental crowding (HP:0000678): onset ; excluded: Pectus carinatum (HP:0000768): onset ; excluded: Pectus excavatum (HP:0000767): onset ; excluded: Striae distensae (HP:0001065): onset ; excluded: Scoliosis (HP:0002650): onset ; excluded: Limited elbow extension (HP:0001377): onset ; excluded: Myopia (HP:0000545): onset ; excluded: Lens coloboma (HP:0100719): onset ; excluded: Joint hypermobility (HP:0001382): onset ; excluded: Dolichocephaly (HP:0000268): onset ; excluded: Pes planus (HP:0001763): onset ; excluded: Inguinal hernia (HP:0000023): onset ; excluded: Malar flattening (HP:0000272): onset ; excluded: Deeply set eye (HP:0000490): onset ; excluded: Retinal detachment (HP:0000541): onset ; excluded: Disproportionate tall stature (HP:0001519): onset ; excluded: Short stature (HP:0004322): onset ; excluded: Stiff skin (HP:0030053): onset </td></tr>\n",
       "<tr><td style=\"text-align: left;\">Patient B62 (MALE; P28Y)</td><td style=\"text-align: left;\">Marfan syndrome (OMIM:154700)</td><td style=\"text-align: left;\">NM_000138.5:c.2761T>G (heterozygous)</td><td style=\"text-align: left;\">Arachnodactyly (HP:0001166): onset ; Pectus excavatum (HP:0000767): onset ; Striae distensae (HP:0001065): onset ; Scoliosis (HP:0002650): onset ; Aortic root aneurysm (HP:0002616): onset ; Ectopia lentis (HP:0001083): onset ; Joint hypermobility (HP:0001382): onset ; Mitral valve prolapse (HP:0001634): onset ; Tall stature (HP:0000098): onset ; excluded: High palate (HP:0000218): onset ; excluded: Dental crowding (HP:0000678): onset ; excluded: Pectus carinatum (HP:0000768): onset ; excluded: Limited elbow extension (HP:0001377): onset ; excluded: Ascending aortic dissection (HP:0004933): onset ; excluded: Myopia (HP:0000545): onset ; excluded: Lens coloboma (HP:0100719): onset ; excluded: Dolichocephaly (HP:0000268): onset ; excluded: Mitral regurgitation (HP:0001653): onset ; excluded: Pes planus (HP:0001763): onset ; excluded: Inguinal hernia (HP:0000023): onset ; excluded: Malar flattening (HP:0000272): onset ; excluded: Deeply set eye (HP:0000490): onset ; excluded: Retinal detachment (HP:0000541): onset ; excluded: Disproportionate tall stature (HP:0001519): onset ; excluded: Short stature (HP:0004322): onset ; excluded: Stiff skin (HP:0030053): onset </td></tr>\n",
       "<tr><td style=\"text-align: left;\">Patient B43 (MALE; P43Y)</td><td style=\"text-align: left;\">Marfan syndrome (OMIM:154700)</td><td style=\"text-align: left;\">NM_000138.5:c.5417G>C (heterozygous)</td><td style=\"text-align: left;\">Arachnodactyly (HP:0001166): onset ; High palate (HP:0000218): onset ; Dental crowding (HP:0000678): onset ; Pectus excavatum (HP:0000767): onset ; Scoliosis (HP:0002650): onset ; Aortic root aneurysm (HP:0002616): onset ; Ectopia lentis (HP:0001083): onset ; Myopia (HP:0000545): onset ; Joint hypermobility (HP:0001382): onset ; Pes planus (HP:0001763): onset ; Disproportionate tall stature (HP:0001519): onset ; excluded: Pectus carinatum (HP:0000768): onset ; excluded: Striae distensae (HP:0001065): onset ; excluded: Limited elbow extension (HP:0001377): onset ; excluded: Ascending aortic dissection (HP:0004933): onset ; excluded: Lens coloboma (HP:0100719): onset ; excluded: Dolichocephaly (HP:0000268): onset ; excluded: Mitral valve prolapse (HP:0001634): onset ; excluded: Mitral regurgitation (HP:0001653): onset ; excluded: Inguinal hernia (HP:0000023): onset ; excluded: Malar flattening (HP:0000272): onset ; excluded: Deeply set eye (HP:0000490): onset ; excluded: Retinal detachment (HP:0000541): onset ; excluded: Short stature (HP:0004322): onset ; excluded: Stiff skin (HP:0030053): onset </td></tr>\n",
       "<tr><td style=\"text-align: left;\">Patient D5 (MALE; P29Y)</td><td style=\"text-align: left;\">Marfan syndrome (OMIM:154700)</td><td style=\"text-align: left;\">NM_000138.5:c.5369G>C (heterozygous)</td><td style=\"text-align: left;\">Arachnodactyly (HP:0001166): onset ; High palate (HP:0000218): onset ; Dental crowding (HP:0000678): onset ; Scoliosis (HP:0002650): onset ; Aortic root aneurysm (HP:0002616): onset ; Ectopia lentis (HP:0001083): onset ; Myopia (HP:0000545): onset ; Lens coloboma (HP:0100719): onset ; Dolichocephaly (HP:0000268): onset ; Tall stature (HP:0000098): onset ; excluded: Pectus carinatum (HP:0000768): onset ; excluded: Pectus excavatum (HP:0000767): onset ; excluded: Striae distensae (HP:0001065): onset ; excluded: Limited elbow extension (HP:0001377): onset ; excluded: Ascending aortic dissection (HP:0004933): onset ; excluded: Joint hypermobility (HP:0001382): onset ; excluded: Mitral valve prolapse (HP:0001634): onset ; excluded: Mitral regurgitation (HP:0001653): onset ; excluded: Pes planus (HP:0001763): onset ; excluded: Inguinal hernia (HP:0000023): onset ; excluded: Malar flattening (HP:0000272): onset ; excluded: Deeply set eye (HP:0000490): onset ; excluded: Retinal detachment (HP:0000541): onset ; excluded: Disproportionate tall stature (HP:0001519): onset ; excluded: Short stature (HP:0004322): onset ; excluded: Stiff skin (HP:0030053): onset </td></tr>\n",
       "<tr><td style=\"text-align: left;\">Patient D19 (FEMALE; P21Y)</td><td style=\"text-align: left;\">Marfan syndrome (OMIM:154700)</td><td style=\"text-align: left;\">NM_000138.5:c.5422+1G>A (heterozygous)</td><td style=\"text-align: left;\">Arachnodactyly (HP:0001166): onset ; Aortic root aneurysm (HP:0002616): onset ; Ectopia lentis (HP:0001083): onset ; Myopia (HP:0000545): onset ; Tall stature (HP:0000098): onset ; excluded: High palate (HP:0000218): onset ; excluded: Dental crowding (HP:0000678): onset ; excluded: Pectus carinatum (HP:0000768): onset ; excluded: Pectus excavatum (HP:0000767): onset ; excluded: Striae distensae (HP:0001065): onset ; excluded: Scoliosis (HP:0002650): onset ; excluded: Limited elbow extension (HP:0001377): onset ; excluded: Ascending aortic dissection (HP:0004933): onset ; excluded: Lens coloboma (HP:0100719): onset ; excluded: Joint hypermobility (HP:0001382): onset ; excluded: Dolichocephaly (HP:0000268): onset ; excluded: Mitral valve prolapse (HP:0001634): onset ; excluded: Mitral regurgitation (HP:0001653): onset ; excluded: Pes planus (HP:0001763): onset ; excluded: Inguinal hernia (HP:0000023): onset ; excluded: Malar flattening (HP:0000272): onset ; excluded: Deeply set eye (HP:0000490): onset ; excluded: Retinal detachment (HP:0000541): onset ; excluded: Disproportionate tall stature (HP:0001519): onset ; excluded: Short stature (HP:0004322): onset ; excluded: Stiff skin (HP:0030053): onset </td></tr>\n",
       "<tr><td style=\"text-align: left;\">Patient B52 (FEMALE; P19Y)</td><td style=\"text-align: left;\">Marfan syndrome (OMIM:154700)</td><td style=\"text-align: left;\">NM_000138.5:c.5792_5794del (heterozygous)</td><td style=\"text-align: left;\">Arachnodactyly (HP:0001166): onset ; High palate (HP:0000218): onset ; Dental crowding (HP:0000678): onset ; Scoliosis (HP:0002650): onset ; Myopia (HP:0000545): onset ; Joint hypermobility (HP:0001382): onset ; Dolichocephaly (HP:0000268): onset ; Mitral valve prolapse (HP:0001634): onset ; Mitral regurgitation (HP:0001653): onset ; Malar flattening (HP:0000272): onset ; excluded: Pectus carinatum (HP:0000768): onset ; excluded: Pectus excavatum (HP:0000767): onset ; excluded: Striae distensae (HP:0001065): onset ; excluded: Limited elbow extension (HP:0001377): onset ; excluded: Ascending aortic dissection (HP:0004933): onset ; excluded: Aortic root aneurysm (HP:0002616): onset ; excluded: Ectopia lentis (HP:0001083): onset ; excluded: Lens coloboma (HP:0100719): onset ; excluded: Pes planus (HP:0001763): onset ; excluded: Inguinal hernia (HP:0000023): onset ; excluded: Deeply set eye (HP:0000490): onset ; excluded: Retinal detachment (HP:0000541): onset ; excluded: Disproportionate tall stature (HP:0001519): onset ; excluded: Short stature (HP:0004322): onset ; excluded: Stiff skin (HP:0030053): onset </td></tr>\n",
       "<tr><td style=\"text-align: left;\">Patient D16 (FEMALE; P3Y)</td><td style=\"text-align: left;\">Marfan syndrome (OMIM:154700)</td><td style=\"text-align: left;\">NM_000138.5:c.5993G>A (heterozygous)</td><td style=\"text-align: left;\">Arachnodactyly (HP:0001166): onset ; High palate (HP:0000218): onset ; Dental crowding (HP:0000678): onset ; Pectus excavatum (HP:0000767): onset ; Aortic root aneurysm (HP:0002616): onset ; Ectopia lentis (HP:0001083): onset ; Myopia (HP:0000545): onset ; Joint hypermobility (HP:0001382): onset ; Dolichocephaly (HP:0000268): onset ; Pes planus (HP:0001763): onset ; Deeply set eye (HP:0000490): onset ; Tall stature (HP:0000098): onset ; excluded: Pectus carinatum (HP:0000768): onset ; excluded: Striae distensae (HP:0001065): onset ; excluded: Scoliosis (HP:0002650): onset ; excluded: Limited elbow extension (HP:0001377): onset ; excluded: Ascending aortic dissection (HP:0004933): onset ; excluded: Lens coloboma (HP:0100719): onset ; excluded: Mitral valve prolapse (HP:0001634): onset ; excluded: Mitral regurgitation (HP:0001653): onset ; excluded: Inguinal hernia (HP:0000023): onset ; excluded: Malar flattening (HP:0000272): onset ; excluded: Retinal detachment (HP:0000541): onset ; excluded: Disproportionate tall stature (HP:0001519): onset ; excluded: Short stature (HP:0004322): onset ; excluded: Stiff skin (HP:0030053): onset </td></tr>\n",
       "<tr><td style=\"text-align: left;\">Patient B79 (MALE; P13Y)</td><td style=\"text-align: left;\">Marfan syndrome (OMIM:154700)</td><td style=\"text-align: left;\">NM_000138.5:c.6313+3A>G (heterozygous)</td><td style=\"text-align: left;\">Pectus carinatum (HP:0000768): onset ; Disproportionate tall stature (HP:0001519): onset ; excluded: Arachnodactyly (HP:0001166): onset ; excluded: High palate (HP:0000218): onset ; excluded: Dental crowding (HP:0000678): onset ; excluded: Pectus excavatum (HP:0000767): onset ; excluded: Striae distensae (HP:0001065): onset ; excluded: Scoliosis (HP:0002650): onset ; excluded: Limited elbow extension (HP:0001377): onset ; excluded: Ectopia lentis (HP:0001083): onset ; excluded: Myopia (HP:0000545): onset ; excluded: Lens coloboma (HP:0100719): onset ; excluded: Joint hypermobility (HP:0001382): onset ; excluded: Dolichocephaly (HP:0000268): onset ; excluded: Pes planus (HP:0001763): onset ; excluded: Inguinal hernia (HP:0000023): onset ; excluded: Malar flattening (HP:0000272): onset ; excluded: Deeply set eye (HP:0000490): onset ; excluded: Retinal detachment (HP:0000541): onset ; excluded: Short stature (HP:0004322): onset ; excluded: Stiff skin (HP:0030053): onset </td></tr>\n",
       "<tr><td style=\"text-align: left;\">Patient D30 (MALE; P32Y)</td><td style=\"text-align: left;\">Marfan syndrome (OMIM:154700)</td><td style=\"text-align: left;\">NM_000138.5:c.6231dup (heterozygous)</td><td style=\"text-align: left;\">Arachnodactyly (HP:0001166): onset ; Pectus carinatum (HP:0000768): onset ; Striae distensae (HP:0001065): onset ; Ectopia lentis (HP:0001083): onset ; Myopia (HP:0000545): onset ; Iris transillumination defect (HP:0012805): onset ; Joint hypermobility (HP:0001382): onset ; Pes planus (HP:0001763): onset ; Inguinal hernia (HP:0000023): onset ; Tall stature (HP:0000098): onset ; excluded: High palate (HP:0000218): onset ; excluded: Dental crowding (HP:0000678): onset ; excluded: Pectus excavatum (HP:0000767): onset ; excluded: Scoliosis (HP:0002650): onset ; excluded: Limited elbow extension (HP:0001377): onset ; excluded: Ascending aortic dissection (HP:0004933): onset ; excluded: Aortic root aneurysm (HP:0002616): onset ; excluded: Lens coloboma (HP:0100719): onset ; excluded: Dolichocephaly (HP:0000268): onset ; excluded: Mitral valve prolapse (HP:0001634): onset ; excluded: Mitral regurgitation (HP:0001653): onset ; excluded: Malar flattening (HP:0000272): onset ; excluded: Deeply set eye (HP:0000490): onset ; excluded: Retinal detachment (HP:0000541): onset ; excluded: Disproportionate tall stature (HP:0001519): onset ; excluded: Short stature (HP:0004322): onset ; excluded: Stiff skin (HP:0030053): onset </td></tr>\n",
       "<tr><td style=\"text-align: left;\">Patient B37 (FEMALE; P42Y)</td><td style=\"text-align: left;\">Marfan syndrome (OMIM:154700)</td><td style=\"text-align: left;\">NM_000138.5:c.6661T>G (heterozygous)</td><td style=\"text-align: left;\">Ascending aortic dissection (HP:0004933): onset ; Aortic root aneurysm (HP:0002616): onset ; excluded: Arachnodactyly (HP:0001166): onset ; excluded: High palate (HP:0000218): onset ; excluded: Dental crowding (HP:0000678): onset ; excluded: Pectus carinatum (HP:0000768): onset ; excluded: Pectus excavatum (HP:0000767): onset ; excluded: Striae distensae (HP:0001065): onset ; excluded: Scoliosis (HP:0002650): onset ; excluded: Limited elbow extension (HP:0001377): onset ; excluded: Ectopia lentis (HP:0001083): onset ; excluded: Myopia (HP:0000545): onset ; excluded: Lens coloboma (HP:0100719): onset ; excluded: Joint hypermobility (HP:0001382): onset ; excluded: Dolichocephaly (HP:0000268): onset ; excluded: Mitral valve prolapse (HP:0001634): onset ; excluded: Mitral regurgitation (HP:0001653): onset ; excluded: Pes planus (HP:0001763): onset ; excluded: Inguinal hernia (HP:0000023): onset ; excluded: Malar flattening (HP:0000272): onset ; excluded: Deeply set eye (HP:0000490): onset ; excluded: Retinal detachment (HP:0000541): onset ; excluded: Disproportionate tall stature (HP:0001519): onset ; excluded: Short stature (HP:0004322): onset ; excluded: Stiff skin (HP:0030053): onset </td></tr>\n",
       "<tr><td style=\"text-align: left;\">Patient D67 (FEMALE; P24Y)</td><td style=\"text-align: left;\">Marfan syndrome (OMIM:154700)</td><td style=\"text-align: left;\">NM_000138.5:c.6661T>G (heterozygous)</td><td style=\"text-align: left;\">Arachnodactyly (HP:0001166): onset ; High palate (HP:0000218): onset ; Dental crowding (HP:0000678): onset ; Pectus excavatum (HP:0000767): onset ; Scoliosis (HP:0002650): onset ; Ectopia lentis (HP:0001083): onset ; Myopia (HP:0000545): onset ; Iris transillumination defect (HP:0012805): onset ; Joint hypermobility (HP:0001382): onset ; Mitral valve prolapse (HP:0001634): onset ; Tall stature (HP:0000098): onset ; excluded: Pectus carinatum (HP:0000768): onset ; excluded: Striae distensae (HP:0001065): onset ; excluded: Limited elbow extension (HP:0001377): onset ; excluded: Ascending aortic dissection (HP:0004933): onset ; excluded: Aortic root aneurysm (HP:0002616): onset ; excluded: Lens coloboma (HP:0100719): onset ; excluded: Dolichocephaly (HP:0000268): onset ; excluded: Mitral regurgitation (HP:0001653): onset ; excluded: Pes planus (HP:0001763): onset ; excluded: Inguinal hernia (HP:0000023): onset ; excluded: Malar flattening (HP:0000272): onset ; excluded: Deeply set eye (HP:0000490): onset ; excluded: Retinal detachment (HP:0000541): onset ; excluded: Disproportionate tall stature (HP:0001519): onset ; excluded: Short stature (HP:0004322): onset ; excluded: Stiff skin (HP:0030053): onset </td></tr>\n",
       "<tr><td style=\"text-align: left;\">Patient B45 (FEMALE; P9Y)</td><td style=\"text-align: left;\">Marfan syndrome (OMIM:154700)</td><td style=\"text-align: left;\">NM_000138.5:c.6806T>C (heterozygous)</td><td style=\"text-align: left;\">Arachnodactyly (HP:0001166): onset ; Aortic root aneurysm (HP:0002616): onset ; Inguinal hernia (HP:0000023): onset ; Tall stature (HP:0000098): onset ; excluded: High palate (HP:0000218): onset ; excluded: Dental crowding (HP:0000678): onset ; excluded: Pectus carinatum (HP:0000768): onset ; excluded: Pectus excavatum (HP:0000767): onset ; excluded: Striae distensae (HP:0001065): onset ; excluded: Scoliosis (HP:0002650): onset ; excluded: Limited elbow extension (HP:0001377): onset ; excluded: Ascending aortic dissection (HP:0004933): onset ; excluded: Ectopia lentis (HP:0001083): onset ; excluded: Myopia (HP:0000545): onset ; excluded: Lens coloboma (HP:0100719): onset ; excluded: Joint hypermobility (HP:0001382): onset ; excluded: Dolichocephaly (HP:0000268): onset ; excluded: Mitral valve prolapse (HP:0001634): onset ; excluded: Mitral regurgitation (HP:0001653): onset ; excluded: Pes planus (HP:0001763): onset ; excluded: Malar flattening (HP:0000272): onset ; excluded: Deeply set eye (HP:0000490): onset ; excluded: Retinal detachment (HP:0000541): onset ; excluded: Disproportionate tall stature (HP:0001519): onset ; excluded: Short stature (HP:0004322): onset ; excluded: Stiff skin (HP:0030053): onset </td></tr>\n",
       "<tr><td style=\"text-align: left;\">Patient D63 (FEMALE; P16Y)</td><td style=\"text-align: left;\">Marfan syndrome (OMIM:154700)</td><td style=\"text-align: left;\">NM_000138.5:c.7016G>A (heterozygous)</td><td style=\"text-align: left;\">Arachnodactyly (HP:0001166): onset ; Striae distensae (HP:0001065): onset ; Scoliosis (HP:0002650): onset ; Ectopia lentis (HP:0001083): onset ; Myopia (HP:0000545): onset ; Joint hypermobility (HP:0001382): onset ; Pes planus (HP:0001763): onset ; Tall stature (HP:0000098): onset ; excluded: High palate (HP:0000218): onset ; excluded: Dental crowding (HP:0000678): onset ; excluded: Pectus carinatum (HP:0000768): onset ; excluded: Pectus excavatum (HP:0000767): onset ; excluded: Limited elbow extension (HP:0001377): onset ; excluded: Ascending aortic dissection (HP:0004933): onset ; excluded: Aortic root aneurysm (HP:0002616): onset ; excluded: Lens coloboma (HP:0100719): onset ; excluded: Dolichocephaly (HP:0000268): onset ; excluded: Mitral valve prolapse (HP:0001634): onset ; excluded: Mitral regurgitation (HP:0001653): onset ; excluded: Inguinal hernia (HP:0000023): onset ; excluded: Malar flattening (HP:0000272): onset ; excluded: Deeply set eye (HP:0000490): onset ; excluded: Retinal detachment (HP:0000541): onset ; excluded: Disproportionate tall stature (HP:0001519): onset ; excluded: Short stature (HP:0004322): onset ; excluded: Stiff skin (HP:0030053): onset </td></tr>\n",
       "<tr><td style=\"text-align: left;\">Patient D21 (MALE; P49Y)</td><td style=\"text-align: left;\">Marfan syndrome (OMIM:154700)</td><td style=\"text-align: left;\">NM_000138.5:c.7003C>T (heterozygous)</td><td style=\"text-align: left;\">Arachnodactyly (HP:0001166): onset ; Flat cornea (HP:0007720): onset ; Inguinal hernia (HP:0000023): onset ; Tall stature (HP:0000098): onset ; excluded: High palate (HP:0000218): onset ; excluded: Dental crowding (HP:0000678): onset ; excluded: Pectus carinatum (HP:0000768): onset ; excluded: Pectus excavatum (HP:0000767): onset ; excluded: Striae distensae (HP:0001065): onset ; excluded: Scoliosis (HP:0002650): onset ; excluded: Limited elbow extension (HP:0001377): onset ; excluded: Ascending aortic dissection (HP:0004933): onset ; excluded: Aortic root aneurysm (HP:0002616): onset ; excluded: Myopia (HP:0000545): onset ; excluded: Lens coloboma (HP:0100719): onset ; excluded: Joint hypermobility (HP:0001382): onset ; excluded: Dolichocephaly (HP:0000268): onset ; excluded: Mitral valve prolapse (HP:0001634): onset ; excluded: Mitral regurgitation (HP:0001653): onset ; excluded: Pes planus (HP:0001763): onset ; excluded: Malar flattening (HP:0000272): onset ; excluded: Deeply set eye (HP:0000490): onset ; excluded: Retinal detachment (HP:0000541): onset ; excluded: Disproportionate tall stature (HP:0001519): onset ; excluded: Short stature (HP:0004322): onset ; excluded: Stiff skin (HP:0030053): onset <br/><b>TimeElement(element=OntologyClass(id=HP:0011463, label=Childhood onset))</b>: Ectopia lentis (HP:0001083): onset ontology_class {\n",
       "  id: \"HP:0011463\"\n",
       "  label: \"Childhood onset\"\n",
       "}\n",
       "</td></tr>\n",
       "</table>"
      ],
      "text/plain": [
       "<IPython.core.display.HTML object>"
      ]
     },
     "metadata": {},
     "output_type": "display_data"
    }
   ],
   "source": [
    "table = IndividualTable(cvalidator.get_error_free_individual_list())\n",
    "display(HTML(table.to_html()))"
   ]
  },
  {
   "cell_type": "code",
   "execution_count": 12,
   "metadata": {},
   "outputs": [
    {
     "name": "stdout",
     "output_type": "stream",
     "text": [
      "[pyphetools] Ingested 136 GA4GH phenopackets.\n",
      "[INFO] Extracted 51 from 136 phenopackets with OMIM:154700\n",
      "\n",
      "\tMarfan syndrome (OMIM:154700): n=51\n",
      "We found a total of 43 unique HPO terms\n",
      "Extracted disease: Marfan syndrome (OMIM:154700)\n",
      "Wrote HPOA disease file to OMIM-154700.tab\n"
     ]
    },
    {
     "data": {
      "text/html": [
       "<div>\n",
       "<style scoped>\n",
       "    .dataframe tbody tr th:only-of-type {\n",
       "        vertical-align: middle;\n",
       "    }\n",
       "\n",
       "    .dataframe tbody tr th {\n",
       "        vertical-align: top;\n",
       "    }\n",
       "\n",
       "    .dataframe thead th {\n",
       "        text-align: right;\n",
       "    }\n",
       "</style>\n",
       "<table border=\"1\" class=\"dataframe\">\n",
       "  <thead>\n",
       "    <tr style=\"text-align: right;\">\n",
       "      <th></th>\n",
       "      <th>#diseaseID</th>\n",
       "      <th>diseaseName</th>\n",
       "      <th>phenotypeID</th>\n",
       "      <th>phenotypeName</th>\n",
       "      <th>onsetID</th>\n",
       "      <th>onsetName</th>\n",
       "      <th>frequency</th>\n",
       "      <th>sex</th>\n",
       "      <th>negation</th>\n",
       "      <th>modifier</th>\n",
       "      <th>description</th>\n",
       "      <th>publication</th>\n",
       "      <th>evidence</th>\n",
       "      <th>biocuration</th>\n",
       "    </tr>\n",
       "  </thead>\n",
       "  <tbody>\n",
       "    <tr>\n",
       "      <th>0</th>\n",
       "      <td>OMIM:154700</td>\n",
       "      <td>Marfan syndrome</td>\n",
       "      <td>HP:0001166</td>\n",
       "      <td>Arachnodactyly</td>\n",
       "      <td></td>\n",
       "      <td></td>\n",
       "      <td>26/33</td>\n",
       "      <td></td>\n",
       "      <td></td>\n",
       "      <td></td>\n",
       "      <td></td>\n",
       "      <td>PMID:12203992</td>\n",
       "      <td>PCS</td>\n",
       "      <td>ORCID:0000-0002-0736-9199[2024-10-17]</td>\n",
       "    </tr>\n",
       "    <tr>\n",
       "      <th>1</th>\n",
       "      <td>OMIM:154700</td>\n",
       "      <td>Marfan syndrome</td>\n",
       "      <td>HP:0000767</td>\n",
       "      <td>Pectus excavatum</td>\n",
       "      <td></td>\n",
       "      <td></td>\n",
       "      <td>8/33</td>\n",
       "      <td></td>\n",
       "      <td></td>\n",
       "      <td></td>\n",
       "      <td></td>\n",
       "      <td>PMID:12203992</td>\n",
       "      <td>PCS</td>\n",
       "      <td>ORCID:0000-0002-0736-9199[2024-10-17]</td>\n",
       "    </tr>\n",
       "    <tr>\n",
       "      <th>2</th>\n",
       "      <td>OMIM:154700</td>\n",
       "      <td>Marfan syndrome</td>\n",
       "      <td>HP:0001065</td>\n",
       "      <td>Striae distensae</td>\n",
       "      <td></td>\n",
       "      <td></td>\n",
       "      <td>7/33</td>\n",
       "      <td></td>\n",
       "      <td></td>\n",
       "      <td></td>\n",
       "      <td></td>\n",
       "      <td>PMID:12203992</td>\n",
       "      <td>PCS</td>\n",
       "      <td>ORCID:0000-0002-0736-9199[2024-10-17]</td>\n",
       "    </tr>\n",
       "    <tr>\n",
       "      <th>3</th>\n",
       "      <td>OMIM:154700</td>\n",
       "      <td>Marfan syndrome</td>\n",
       "      <td>HP:0002650</td>\n",
       "      <td>Scoliosis</td>\n",
       "      <td></td>\n",
       "      <td></td>\n",
       "      <td>13/33</td>\n",
       "      <td></td>\n",
       "      <td></td>\n",
       "      <td></td>\n",
       "      <td></td>\n",
       "      <td>PMID:12203992</td>\n",
       "      <td>PCS</td>\n",
       "      <td>ORCID:0000-0002-0736-9199[2024-10-17]</td>\n",
       "    </tr>\n",
       "    <tr>\n",
       "      <th>4</th>\n",
       "      <td>OMIM:154700</td>\n",
       "      <td>Marfan syndrome</td>\n",
       "      <td>HP:0001083</td>\n",
       "      <td>Ectopia lentis</td>\n",
       "      <td></td>\n",
       "      <td></td>\n",
       "      <td>26/33</td>\n",
       "      <td></td>\n",
       "      <td></td>\n",
       "      <td></td>\n",
       "      <td></td>\n",
       "      <td>PMID:12203992</td>\n",
       "      <td>PCS</td>\n",
       "      <td>ORCID:0000-0002-0736-9199[2024-10-17]</td>\n",
       "    </tr>\n",
       "  </tbody>\n",
       "</table>\n",
       "</div>"
      ],
      "text/plain": [
       "    #diseaseID      diseaseName phenotypeID     phenotypeName onsetID  \\\n",
       "0  OMIM:154700  Marfan syndrome  HP:0001166    Arachnodactyly           \n",
       "1  OMIM:154700  Marfan syndrome  HP:0000767  Pectus excavatum           \n",
       "2  OMIM:154700  Marfan syndrome  HP:0001065  Striae distensae           \n",
       "3  OMIM:154700  Marfan syndrome  HP:0002650         Scoliosis           \n",
       "4  OMIM:154700  Marfan syndrome  HP:0001083    Ectopia lentis           \n",
       "\n",
       "  onsetName frequency sex negation modifier description    publication  \\\n",
       "0               26/33                                    PMID:12203992   \n",
       "1                8/33                                    PMID:12203992   \n",
       "2                7/33                                    PMID:12203992   \n",
       "3               13/33                                    PMID:12203992   \n",
       "4               26/33                                    PMID:12203992   \n",
       "\n",
       "  evidence                            biocuration  \n",
       "0      PCS  ORCID:0000-0002-0736-9199[2024-10-17]  \n",
       "1      PCS  ORCID:0000-0002-0736-9199[2024-10-17]  \n",
       "2      PCS  ORCID:0000-0002-0736-9199[2024-10-17]  \n",
       "3      PCS  ORCID:0000-0002-0736-9199[2024-10-17]  \n",
       "4      PCS  ORCID:0000-0002-0736-9199[2024-10-17]  "
      ]
     },
     "execution_count": 12,
     "metadata": {},
     "output_type": "execute_result"
    }
   ],
   "source": [
    "PMID = \"PMID:10756346\"\n",
    "df = timporter.create_hpoa_from_phenopackets(pmid=PMID, mode_of_inheritance=Moi.AD,target=\"OMIM:154700\")\n",
    "df.head()"
   ]
  }
 ],
 "metadata": {
  "kernelspec": {
   "display_name": "ps24venv",
   "language": "python",
   "name": "python3"
  },
  "language_info": {
   "codemirror_mode": {
    "name": "ipython",
    "version": 3
   },
   "file_extension": ".py",
   "mimetype": "text/x-python",
   "name": "python",
   "nbconvert_exporter": "python",
   "pygments_lexer": "ipython3",
   "version": "3.12.4"
  }
 },
 "nbformat": 4,
 "nbformat_minor": 2
}
