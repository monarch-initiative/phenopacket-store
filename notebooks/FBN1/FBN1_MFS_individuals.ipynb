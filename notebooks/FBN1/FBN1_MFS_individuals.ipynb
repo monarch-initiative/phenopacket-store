{
 "cells": [
  {
   "cell_type": "markdown",
   "metadata": {},
   "source": [
    "# FBN1\n",
    "[Marfan syndrome (MFS)](https://omim.org/entry/154700) is caused by heterozygous mutation in the fibrillin-1 gene (FBN1)."
   ]
  },
  {
   "cell_type": "code",
   "execution_count": 3,
   "metadata": {},
   "outputs": [
    {
     "name": "stdout",
     "output_type": "stream",
     "text": [
      "pyphetools version 0.9.110\n"
     ]
    }
   ],
   "source": [
    "from pyphetools.creation import TemplateImporter\n",
    "from IPython.display import display, HTML\n",
    "from pyphetools.visualization import QcVisualizer\n",
    "import pyphetools\n",
    "print(f\"pyphetools version {pyphetools.__version__}\")"
   ]
  },
  {
   "cell_type": "code",
   "execution_count": 4,
   "metadata": {},
   "outputs": [],
   "source": [
    "template = \"input/FBN1_MFS_individuals.xlsx\"\n",
    "created_by=\"ORCID:0000-0002-0736-9199\"\n",
    "timporter = TemplateImporter(template=template, created_by=created_by)"
   ]
  },
  {
   "cell_type": "code",
   "execution_count": 12,
   "metadata": {},
   "outputs": [
    {
     "name": "stdout",
     "output_type": "stream",
     "text": [
      "HPO version 2024-08-13\n",
      "Created encoders for 80 fields\n",
      "Importing OMIM:154700, Marfan syndrome, HGNC:3603, FBN1,  NM_000138.5\n",
      "We output 18 GA4GH phenopackets to the directory phenopackets\n"
     ]
    }
   ],
   "source": [
    "timporter = TemplateImporter(template=template, created_by=created_by)\n",
    "individual_list, cvalidator = timporter.import_phenopackets_from_template()"
   ]
  },
  {
   "cell_type": "code",
   "execution_count": 13,
   "metadata": {},
   "outputs": [
    {
     "data": {
      "text/html": [
       "<h2>Cohort validation</h2>\n",
       "<p>Errors found with 8 of 18 phenopackets.</p>\n",
       "<table style=\"border: 2px solid black; align: \"left\">\n",
       "<caption>Error counts</caption>\n",
       "<tr><th style=\"text-align: left;font-weight: bold;\">Level</th><th style=\"text-align: left;font-weight: bold;\">Error category</th><th style=\"text-align: left;font-weight: bold;\">Count</th></tr>\n",
       "<tr><td style=\"text-align: left;\">WARNING</td><td style=\"text-align: left;\">REDUNDANT</td><td style=\"text-align: left;\">8</td></tr>\n",
       "</table>\n",
       "<p>A total of 8 issues were fixed and no individual was removed from the cohort.</p>"
      ],
      "text/plain": [
       "<IPython.core.display.HTML object>"
      ]
     },
     "metadata": {},
     "output_type": "display_data"
    }
   ],
   "source": [
    "qc = QcVisualizer(cohort_validator=cvalidator)\n",
    "display(HTML(qc.to_summary_html()))"
   ]
  }
 ],
 "metadata": {
  "kernelspec": {
   "display_name": "ps24venv",
   "language": "python",
   "name": "python3"
  },
  "language_info": {
   "codemirror_mode": {
    "name": "ipython",
    "version": 3
   },
   "file_extension": ".py",
   "mimetype": "text/x-python",
   "name": "python",
   "nbconvert_exporter": "python",
   "pygments_lexer": "ipython3",
   "version": "3.12.4"
  }
 },
 "nbformat": 4,
 "nbformat_minor": 2
}
