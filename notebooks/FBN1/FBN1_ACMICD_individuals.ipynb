{
 "cells": [
  {
   "cell_type": "markdown",
   "metadata": {},
   "source": [
    "# FBN1\n",
    "[acromicric dysplasia (ACMICD)](https://omim.org/entry/102370) is caused by heterozygous mutation in exon 41 or 42 of the FBN1 gene.\n",
    "\n",
    "<h3>Constant features</h3>\n",
    "<p>Ten AD cases, including two familial cases, were included in the study. They all fulfilled the diagnostic criteria for AD, namely severe short stature, short hands and feet, progressively stiff joints, and characteristic facial features. AD has an autosomal-dominant mode of inheritance and is characterized by distinct facial features—a round face, well-defined eyebrows, long eyelashes, a bulbous nose with anteverted nostrils, a long and prominent philtrum, and thick lips with a small mouth—a hoarse voice, a pseudomuscular build, and distinct skeleton features, including an internal notch of the femoral head, an internal notch of the second metacarpal, and the external notch of the fifth metacarpal.</p>\n",
    "<p>From this description, we will assume that all patients have the following HPO terms in addition to the terms implied by the table (which was copied with minor modifications from Table 1 of the original paper).</p>\n",
    "<ol>\n",
    "     <li>Short stature HP:0004322</li>\n",
    "    <li>Short palm HP:0004279</li>\n",
    "    <li>Short foot HP:0001773</li>\n",
    "    <li>Joint stiffness HP:0001387</li>\n",
    "    <li>Round face HP:0000311</li>\n",
    "    <li>Long eyelashes HP:0000527</li>\n",
    "    <li>Bulbous nose HP:0000414</li>\n",
    "    <li>Anteverted nares HP:0000463</li>\n",
    "    <li>Internal notch of the femoral head HP:0031027</li>\n",
    "</ol>"
   ]
  },
  {
   "cell_type": "code",
   "execution_count": 6,
   "metadata": {},
   "outputs": [
    {
     "name": "stdout",
     "output_type": "stream",
     "text": [
      "pyphetools version 0.9.110\n"
     ]
    }
   ],
   "source": [
    "from pyphetools.creation import TemplateImporter, Moi\n",
    "from IPython.display import display, HTML\n",
    "from pyphetools.visualization import QcVisualizer, IndividualTable\n",
    "import pyphetools\n",
    "print(f\"pyphetools version {pyphetools.__version__}\")"
   ]
  },
  {
   "cell_type": "code",
   "execution_count": 7,
   "metadata": {},
   "outputs": [
    {
     "name": "stdout",
     "output_type": "stream",
     "text": [
      "HPO version 2024-08-13\n",
      "Created encoders for 50 fields\n",
      "Importing OMIM:102370, Acromicric dysplasia, HGNC:3603, FBN1,  NM_000138.5\n",
      "We output 13 GA4GH phenopackets to the directory phenopackets\n"
     ]
    }
   ],
   "source": [
    "template = \"input/FBN1_ACMICD_individuals.xlsx\"\n",
    "created_by=\"ORCID:0000-0002-0736-9199\"\n",
    "timporter = TemplateImporter(template=template, created_by=created_by)\n",
    "individual_list, cvalidator = timporter.import_phenopackets_from_template()"
   ]
  },
  {
   "cell_type": "code",
   "execution_count": 8,
   "metadata": {},
   "outputs": [
    {
     "data": {
      "text/html": [
       "<h2>Cohort validation</h2>\n",
       "<p>Errors found with 13 of 13 phenopackets.</p>\n",
       "<table style=\"border: 2px solid black; align: \"left\">\n",
       "<caption>Error counts</caption>\n",
       "<tr><th style=\"text-align: left;font-weight: bold;\">Level</th><th style=\"text-align: left;font-weight: bold;\">Error category</th><th style=\"text-align: left;font-weight: bold;\">Count</th></tr>\n",
       "<tr><td style=\"text-align: left;\">WARNING</td><td style=\"text-align: left;\">REDUNDANT</td><td style=\"text-align: left;\">13</td></tr>\n",
       "</table>\n",
       "<p>A total of 13 issues were fixed and no individual was removed from the cohort.</p>"
      ],
      "text/plain": [
       "<IPython.core.display.HTML object>"
      ]
     },
     "metadata": {},
     "output_type": "display_data"
    }
   ],
   "source": [
    "qc = QcVisualizer(cohort_validator=cvalidator)\n",
    "display(HTML(qc.to_summary_html()))"
   ]
  },
  {
   "cell_type": "code",
   "execution_count": 9,
   "metadata": {},
   "outputs": [
    {
     "data": {
      "text/html": [
       "<table style=\"border: 2px solid black; align: \"left\">\n",
       "<caption>13 phenopackets - PMID:21683322 (n=13)</caption>\n",
       "<tr><th style=\"text-align: left;font-weight: bold;\">Individual</th><th style=\"text-align: left;font-weight: bold;\">Disease</th><th style=\"text-align: left;font-weight: bold;\">Genotype</th><th style=\"text-align: left;font-weight: bold;\">Phenotypic features</th></tr>\n",
       "<tr><td style=\"text-align: left;\">AD Family 20 (UNKNOWN; P10Y)</td><td style=\"text-align: left;\">Acromicric dysplasia (OMIM:102370)</td><td style=\"text-align: left;\">NM_000138.5:c.5182G>A (heterozygous)</td><td style=\"text-align: left;\">Short foot (HP:0001773): onset ; Round face (HP:0000311): onset ; Long eyelashes (HP:0000527): onset ; Bulbous nose (HP:0000414): onset ; Short palm (HP:0004279): onset ; Severe short stature (HP:0003510): onset ; Joint stiffness (HP:0001387): onset ; Internal notch of the femoral head (HP:0031027): onset ; excluded: Moderately short stature (HP:0008848): onset ; excluded: Mild short stature (HP:0003502): onset ; excluded: Tall stature (HP:0000098): onset ; excluded: Joint hypermobility (HP:0001382): onset ; excluded: Mitral valve prolapse (HP:0001634): onset ; excluded: Mitral regurgitation (HP:0001653): onset ; excluded: Mitral stenosis (HP:0001718): onset ; excluded: Tricuspid stenosis (HP:0010446): onset ; excluded: Aortic valve stenosis (HP:0001650): onset ; excluded: Aortic regurgitation (HP:0001659): onset ; excluded: Aortic aneurysm (HP:0004942): onset ; excluded: Constrictive median neuropathy (HP:0012185): onset </td></tr>\n",
       "<tr><td style=\"text-align: left;\">AD Family 21 (UNKNOWN; P62Y)</td><td style=\"text-align: left;\">Acromicric dysplasia (OMIM:102370)</td><td style=\"text-align: left;\">NM_000138.5:c.5165C>G (heterozygous)</td><td style=\"text-align: left;\">Short foot (HP:0001773): onset ; Round face (HP:0000311): onset ; Long eyelashes (HP:0000527): onset ; Bulbous nose (HP:0000414): onset ; Short palm (HP:0004279): onset ; Severe short stature (HP:0003510): onset ; Joint stiffness (HP:0001387): onset ; Internal notch of the femoral head (HP:0031027): onset ; excluded: Moderately short stature (HP:0008848): onset ; excluded: Mild short stature (HP:0003502): onset ; excluded: Tall stature (HP:0000098): onset ; excluded: Joint hypermobility (HP:0001382): onset ; excluded: Mitral valve prolapse (HP:0001634): onset ; excluded: Mitral regurgitation (HP:0001653): onset ; excluded: Mitral stenosis (HP:0001718): onset ; excluded: Tricuspid stenosis (HP:0010446): onset ; excluded: Aortic valve stenosis (HP:0001650): onset ; excluded: Aortic regurgitation (HP:0001659): onset ; excluded: Aortic aneurysm (HP:0004942): onset ; excluded: Constrictive median neuropathy (HP:0012185): onset </td></tr>\n",
       "<tr><td style=\"text-align: left;\">AD Family 22-a (UNKNOWN; P10Y)</td><td style=\"text-align: left;\">Acromicric dysplasia (OMIM:102370)</td><td style=\"text-align: left;\">NM_000138.5:c.5250T>G (heterozygous)</td><td style=\"text-align: left;\">Short foot (HP:0001773): onset ; Round face (HP:0000311): onset ; Long eyelashes (HP:0000527): onset ; Bulbous nose (HP:0000414): onset ; Short palm (HP:0004279): onset ; Mild short stature (HP:0003502): onset ; Joint stiffness (HP:0001387): onset ; Internal notch of the femoral head (HP:0031027): onset ; excluded: Severe short stature (HP:0003510): onset ; excluded: Moderately short stature (HP:0008848): onset ; excluded: Tall stature (HP:0000098): onset ; excluded: Joint hypermobility (HP:0001382): onset ; excluded: Mitral valve prolapse (HP:0001634): onset ; excluded: Mitral regurgitation (HP:0001653): onset ; excluded: Mitral stenosis (HP:0001718): onset ; excluded: Tricuspid stenosis (HP:0010446): onset ; excluded: Aortic valve stenosis (HP:0001650): onset ; excluded: Aortic regurgitation (HP:0001659): onset ; excluded: Aortic aneurysm (HP:0004942): onset ; excluded: Constrictive median neuropathy (HP:0012185): onset </td></tr>\n",
       "<tr><td style=\"text-align: left;\">AD Family 22-b (UNKNOWN; P13Y)</td><td style=\"text-align: left;\">Acromicric dysplasia (OMIM:102370)</td><td style=\"text-align: left;\">NM_000138.5:c.5250T>G (heterozygous)</td><td style=\"text-align: left;\">Short foot (HP:0001773): onset ; Round face (HP:0000311): onset ; Long eyelashes (HP:0000527): onset ; Bulbous nose (HP:0000414): onset ; Short palm (HP:0004279): onset ; Moderately short stature (HP:0008848): onset ; Joint stiffness (HP:0001387): onset ; Internal notch of the femoral head (HP:0031027): onset ; excluded: Severe short stature (HP:0003510): onset ; excluded: Mild short stature (HP:0003502): onset ; excluded: Tall stature (HP:0000098): onset ; excluded: Joint hypermobility (HP:0001382): onset ; excluded: Mitral valve prolapse (HP:0001634): onset ; excluded: Mitral regurgitation (HP:0001653): onset ; excluded: Mitral stenosis (HP:0001718): onset ; excluded: Tricuspid stenosis (HP:0010446): onset ; excluded: Aortic valve stenosis (HP:0001650): onset ; excluded: Aortic regurgitation (HP:0001659): onset ; excluded: Aortic aneurysm (HP:0004942): onset ; excluded: Constrictive median neuropathy (HP:0012185): onset </td></tr>\n",
       "<tr><td style=\"text-align: left;\">AD Family 22-c (UNKNOWN; P40Y)</td><td style=\"text-align: left;\">Acromicric dysplasia (OMIM:102370)</td><td style=\"text-align: left;\">NM_000138.5:c.5250T>G (heterozygous)</td><td style=\"text-align: left;\">Short foot (HP:0001773): onset ; Round face (HP:0000311): onset ; Long eyelashes (HP:0000527): onset ; Bulbous nose (HP:0000414): onset ; Short palm (HP:0004279): onset ; Severe short stature (HP:0003510): onset ; Joint stiffness (HP:0001387): onset ; Internal notch of the femoral head (HP:0031027): onset ; excluded: Moderately short stature (HP:0008848): onset ; excluded: Mild short stature (HP:0003502): onset ; excluded: Tall stature (HP:0000098): onset ; excluded: Joint hypermobility (HP:0001382): onset ; excluded: Mitral valve prolapse (HP:0001634): onset ; excluded: Mitral regurgitation (HP:0001653): onset ; excluded: Mitral stenosis (HP:0001718): onset ; excluded: Tricuspid stenosis (HP:0010446): onset ; excluded: Aortic valve stenosis (HP:0001650): onset ; excluded: Aortic regurgitation (HP:0001659): onset ; excluded: Aortic aneurysm (HP:0004942): onset ; excluded: Constrictive median neuropathy (HP:0012185): onset </td></tr>\n",
       "<tr><td style=\"text-align: left;\">AD Family 23 (UNKNOWN; P14Y)</td><td style=\"text-align: left;\">Acromicric dysplasia (OMIM:102370)</td><td style=\"text-align: left;\">NM_000138.5:c.5177G>T (heterozygous)</td><td style=\"text-align: left;\">Short foot (HP:0001773): onset ; Round face (HP:0000311): onset ; Long eyelashes (HP:0000527): onset ; Bulbous nose (HP:0000414): onset ; Short palm (HP:0004279): onset ; Severe short stature (HP:0003510): onset ; Joint stiffness (HP:0001387): onset ; Internal notch of the femoral head (HP:0031027): onset ; excluded: Moderately short stature (HP:0008848): onset ; excluded: Mild short stature (HP:0003502): onset ; excluded: Tall stature (HP:0000098): onset ; excluded: Joint hypermobility (HP:0001382): onset ; excluded: Mitral valve prolapse (HP:0001634): onset ; excluded: Mitral regurgitation (HP:0001653): onset ; excluded: Mitral stenosis (HP:0001718): onset ; excluded: Tricuspid stenosis (HP:0010446): onset ; excluded: Aortic valve stenosis (HP:0001650): onset ; excluded: Aortic regurgitation (HP:0001659): onset ; excluded: Aortic aneurysm (HP:0004942): onset ; excluded: Constrictive median neuropathy (HP:0012185): onset </td></tr>\n",
       "<tr><td style=\"text-align: left;\">AD Family 24 (UNKNOWN; P36Y)</td><td style=\"text-align: left;\">Acromicric dysplasia (OMIM:102370)</td><td style=\"text-align: left;\">NM_000138.5:c.5096A>G (heterozygous)</td><td style=\"text-align: left;\">Short foot (HP:0001773): onset ; Round face (HP:0000311): onset ; Long eyelashes (HP:0000527): onset ; Bulbous nose (HP:0000414): onset ; Short palm (HP:0004279): onset ; Severe short stature (HP:0003510): onset ; Joint stiffness (HP:0001387): onset ; Constrictive median neuropathy (HP:0012185): onset ; Internal notch of the femoral head (HP:0031027): onset ; excluded: Moderately short stature (HP:0008848): onset ; excluded: Mild short stature (HP:0003502): onset ; excluded: Tall stature (HP:0000098): onset ; excluded: Joint hypermobility (HP:0001382): onset ; excluded: Mitral valve prolapse (HP:0001634): onset ; excluded: Mitral regurgitation (HP:0001653): onset ; excluded: Mitral stenosis (HP:0001718): onset ; excluded: Tricuspid stenosis (HP:0010446): onset ; excluded: Aortic valve stenosis (HP:0001650): onset ; excluded: Aortic regurgitation (HP:0001659): onset ; excluded: Aortic aneurysm (HP:0004942): onset </td></tr>\n",
       "<tr><td style=\"text-align: left;\">AD Family 25 (UNKNOWN; P13Y)</td><td style=\"text-align: left;\">Acromicric dysplasia (OMIM:102370)</td><td style=\"text-align: left;\">NM_000138.5:c.5202_5204dup (heterozygous)</td><td style=\"text-align: left;\">Short foot (HP:0001773): onset ; Round face (HP:0000311): onset ; Long eyelashes (HP:0000527): onset ; Bulbous nose (HP:0000414): onset ; Short palm (HP:0004279): onset ; Severe short stature (HP:0003510): onset ; Joint stiffness (HP:0001387): onset ; Internal notch of the femoral head (HP:0031027): onset ; excluded: Moderately short stature (HP:0008848): onset ; excluded: Mild short stature (HP:0003502): onset ; excluded: Tall stature (HP:0000098): onset ; excluded: Joint hypermobility (HP:0001382): onset ; excluded: Mitral valve prolapse (HP:0001634): onset ; excluded: Mitral regurgitation (HP:0001653): onset ; excluded: Mitral stenosis (HP:0001718): onset ; excluded: Tricuspid stenosis (HP:0010446): onset ; excluded: Aortic valve stenosis (HP:0001650): onset ; excluded: Aortic regurgitation (HP:0001659): onset ; excluded: Aortic aneurysm (HP:0004942): onset ; excluded: Constrictive median neuropathy (HP:0012185): onset </td></tr>\n",
       "<tr><td style=\"text-align: left;\">AD Family 26 (UNKNOWN; P43Y)</td><td style=\"text-align: left;\">Acromicric dysplasia (OMIM:102370)</td><td style=\"text-align: left;\">NM_000138.5:c.5273A>T (heterozygous)</td><td style=\"text-align: left;\">Short foot (HP:0001773): onset ; Round face (HP:0000311): onset ; Long eyelashes (HP:0000527): onset ; Bulbous nose (HP:0000414): onset ; Short palm (HP:0004279): onset ; Severe short stature (HP:0003510): onset ; Joint stiffness (HP:0001387): onset ; Internal notch of the femoral head (HP:0031027): onset ; excluded: Moderately short stature (HP:0008848): onset ; excluded: Mild short stature (HP:0003502): onset ; excluded: Tall stature (HP:0000098): onset ; excluded: Joint hypermobility (HP:0001382): onset ; excluded: Mitral valve prolapse (HP:0001634): onset ; excluded: Mitral regurgitation (HP:0001653): onset ; excluded: Mitral stenosis (HP:0001718): onset ; excluded: Tricuspid stenosis (HP:0010446): onset ; excluded: Aortic valve stenosis (HP:0001650): onset ; excluded: Aortic regurgitation (HP:0001659): onset ; excluded: Aortic aneurysm (HP:0004942): onset ; excluded: Constrictive median neuropathy (HP:0012185): onset </td></tr>\n",
       "<tr><td style=\"text-align: left;\">AD Family 27-a (UNKNOWN; P10Y)</td><td style=\"text-align: left;\">Acromicric dysplasia (OMIM:102370)</td><td style=\"text-align: left;\">NM_000138.5:c.5099A>G (heterozygous)</td><td style=\"text-align: left;\">Short foot (HP:0001773): onset ; Round face (HP:0000311): onset ; Long eyelashes (HP:0000527): onset ; Bulbous nose (HP:0000414): onset ; Short palm (HP:0004279): onset ; Moderately short stature (HP:0008848): onset ; Joint stiffness (HP:0001387): onset ; Internal notch of the femoral head (HP:0031027): onset ; excluded: Severe short stature (HP:0003510): onset ; excluded: Mild short stature (HP:0003502): onset ; excluded: Tall stature (HP:0000098): onset ; excluded: Joint hypermobility (HP:0001382): onset ; excluded: Mitral valve prolapse (HP:0001634): onset ; excluded: Mitral regurgitation (HP:0001653): onset ; excluded: Mitral stenosis (HP:0001718): onset ; excluded: Tricuspid stenosis (HP:0010446): onset ; excluded: Aortic valve stenosis (HP:0001650): onset ; excluded: Aortic regurgitation (HP:0001659): onset ; excluded: Aortic aneurysm (HP:0004942): onset ; excluded: Constrictive median neuropathy (HP:0012185): onset </td></tr>\n",
       "<tr><td style=\"text-align: left;\">AD Family 27-b (UNKNOWN; P35Y)</td><td style=\"text-align: left;\">Acromicric dysplasia (OMIM:102370)</td><td style=\"text-align: left;\">NM_000138.5:c.5099A>G (heterozygous)</td><td style=\"text-align: left;\">Short foot (HP:0001773): onset ; Round face (HP:0000311): onset ; Long eyelashes (HP:0000527): onset ; Bulbous nose (HP:0000414): onset ; Short palm (HP:0004279): onset ; Moderately short stature (HP:0008848): onset ; Joint stiffness (HP:0001387): onset ; Internal notch of the femoral head (HP:0031027): onset ; excluded: Severe short stature (HP:0003510): onset ; excluded: Mild short stature (HP:0003502): onset ; excluded: Tall stature (HP:0000098): onset ; excluded: Joint hypermobility (HP:0001382): onset ; excluded: Mitral valve prolapse (HP:0001634): onset ; excluded: Mitral regurgitation (HP:0001653): onset ; excluded: Mitral stenosis (HP:0001718): onset ; excluded: Tricuspid stenosis (HP:0010446): onset ; excluded: Aortic valve stenosis (HP:0001650): onset ; excluded: Aortic regurgitation (HP:0001659): onset ; excluded: Aortic aneurysm (HP:0004942): onset ; excluded: Constrictive median neuropathy (HP:0012185): onset </td></tr>\n",
       "<tr><td style=\"text-align: left;\">AD Family 28 (UNKNOWN; P54Y)</td><td style=\"text-align: left;\">Acromicric dysplasia (OMIM:102370)</td><td style=\"text-align: left;\">NM_000138.5:c.5141T>G (heterozygous)</td><td style=\"text-align: left;\">Short foot (HP:0001773): onset ; Round face (HP:0000311): onset ; Long eyelashes (HP:0000527): onset ; Bulbous nose (HP:0000414): onset ; Short palm (HP:0004279): onset ; Severe short stature (HP:0003510): onset ; Joint stiffness (HP:0001387): onset ; Constrictive median neuropathy (HP:0012185): onset ; Internal notch of the femoral head (HP:0031027): onset ; excluded: Moderately short stature (HP:0008848): onset ; excluded: Mild short stature (HP:0003502): onset ; excluded: Tall stature (HP:0000098): onset ; excluded: Joint hypermobility (HP:0001382): onset ; excluded: Mitral valve prolapse (HP:0001634): onset ; excluded: Mitral regurgitation (HP:0001653): onset ; excluded: Mitral stenosis (HP:0001718): onset ; excluded: Tricuspid stenosis (HP:0010446): onset ; excluded: Aortic valve stenosis (HP:0001650): onset ; excluded: Aortic regurgitation (HP:0001659): onset ; excluded: Aortic aneurysm (HP:0004942): onset </td></tr>\n",
       "<tr><td style=\"text-align: left;\">AD Family 29 (UNKNOWN; P33Y)</td><td style=\"text-align: left;\">Acromicric dysplasia (OMIM:102370)</td><td style=\"text-align: left;\">NM_000138.5:c.5165C>G (heterozygous)</td><td style=\"text-align: left;\">Short foot (HP:0001773): onset ; Round face (HP:0000311): onset ; Long eyelashes (HP:0000527): onset ; Bulbous nose (HP:0000414): onset ; Short palm (HP:0004279): onset ; Severe short stature (HP:0003510): onset ; Joint stiffness (HP:0001387): onset ; Internal notch of the femoral head (HP:0031027): onset ; excluded: Moderately short stature (HP:0008848): onset ; excluded: Mild short stature (HP:0003502): onset ; excluded: Tall stature (HP:0000098): onset ; excluded: Joint hypermobility (HP:0001382): onset ; excluded: Mitral valve prolapse (HP:0001634): onset ; excluded: Mitral regurgitation (HP:0001653): onset ; excluded: Mitral stenosis (HP:0001718): onset ; excluded: Tricuspid stenosis (HP:0010446): onset ; excluded: Aortic valve stenosis (HP:0001650): onset ; excluded: Aortic regurgitation (HP:0001659): onset ; excluded: Aortic aneurysm (HP:0004942): onset ; excluded: Constrictive median neuropathy (HP:0012185): onset </td></tr>\n",
       "</table>"
      ],
      "text/plain": [
       "<IPython.core.display.HTML object>"
      ]
     },
     "metadata": {},
     "output_type": "display_data"
    }
   ],
   "source": [
    "table = IndividualTable(cvalidator.get_error_free_individual_list())\n",
    "display(HTML(table.to_html()))"
   ]
  },
  {
   "cell_type": "code",
   "execution_count": 10,
   "metadata": {},
   "outputs": [
    {
     "name": "stdout",
     "output_type": "stream",
     "text": [
      "[pyphetools] Ingested 13 GA4GH phenopackets.\n",
      "[INFO] Extracted 13 from 13 phenopackets with OMIM:102370\n",
      "\n",
      "\tAcromicric dysplasia (OMIM:102370): n=13\n",
      "We found a total of 20 unique HPO terms\n",
      "Extracted disease: Acromicric dysplasia (OMIM:102370)\n",
      "Wrote HPOA disease file to OMIM-102370.tab\n"
     ]
    },
    {
     "data": {
      "text/html": [
       "<div>\n",
       "<style scoped>\n",
       "    .dataframe tbody tr th:only-of-type {\n",
       "        vertical-align: middle;\n",
       "    }\n",
       "\n",
       "    .dataframe tbody tr th {\n",
       "        vertical-align: top;\n",
       "    }\n",
       "\n",
       "    .dataframe thead th {\n",
       "        text-align: right;\n",
       "    }\n",
       "</style>\n",
       "<table border=\"1\" class=\"dataframe\">\n",
       "  <thead>\n",
       "    <tr style=\"text-align: right;\">\n",
       "      <th></th>\n",
       "      <th>#diseaseID</th>\n",
       "      <th>diseaseName</th>\n",
       "      <th>phenotypeID</th>\n",
       "      <th>phenotypeName</th>\n",
       "      <th>onsetID</th>\n",
       "      <th>onsetName</th>\n",
       "      <th>frequency</th>\n",
       "      <th>sex</th>\n",
       "      <th>negation</th>\n",
       "      <th>modifier</th>\n",
       "      <th>description</th>\n",
       "      <th>publication</th>\n",
       "      <th>evidence</th>\n",
       "      <th>biocuration</th>\n",
       "    </tr>\n",
       "  </thead>\n",
       "  <tbody>\n",
       "    <tr>\n",
       "      <th>0</th>\n",
       "      <td>OMIM:102370</td>\n",
       "      <td>Acromicric dysplasia</td>\n",
       "      <td>HP:0001773</td>\n",
       "      <td>Short foot</td>\n",
       "      <td></td>\n",
       "      <td></td>\n",
       "      <td>13/13</td>\n",
       "      <td></td>\n",
       "      <td></td>\n",
       "      <td></td>\n",
       "      <td></td>\n",
       "      <td>PMID:21683322</td>\n",
       "      <td>PCS</td>\n",
       "      <td>ORCID:0000-0002-0736-9199[2024-10-17]</td>\n",
       "    </tr>\n",
       "    <tr>\n",
       "      <th>1</th>\n",
       "      <td>OMIM:102370</td>\n",
       "      <td>Acromicric dysplasia</td>\n",
       "      <td>HP:0000311</td>\n",
       "      <td>Round face</td>\n",
       "      <td></td>\n",
       "      <td></td>\n",
       "      <td>13/13</td>\n",
       "      <td></td>\n",
       "      <td></td>\n",
       "      <td></td>\n",
       "      <td></td>\n",
       "      <td>PMID:21683322</td>\n",
       "      <td>PCS</td>\n",
       "      <td>ORCID:0000-0002-0736-9199[2024-10-17]</td>\n",
       "    </tr>\n",
       "    <tr>\n",
       "      <th>2</th>\n",
       "      <td>OMIM:102370</td>\n",
       "      <td>Acromicric dysplasia</td>\n",
       "      <td>HP:0000527</td>\n",
       "      <td>Long eyelashes</td>\n",
       "      <td></td>\n",
       "      <td></td>\n",
       "      <td>13/13</td>\n",
       "      <td></td>\n",
       "      <td></td>\n",
       "      <td></td>\n",
       "      <td></td>\n",
       "      <td>PMID:21683322</td>\n",
       "      <td>PCS</td>\n",
       "      <td>ORCID:0000-0002-0736-9199[2024-10-17]</td>\n",
       "    </tr>\n",
       "    <tr>\n",
       "      <th>3</th>\n",
       "      <td>OMIM:102370</td>\n",
       "      <td>Acromicric dysplasia</td>\n",
       "      <td>HP:0000414</td>\n",
       "      <td>Bulbous nose</td>\n",
       "      <td></td>\n",
       "      <td></td>\n",
       "      <td>13/13</td>\n",
       "      <td></td>\n",
       "      <td></td>\n",
       "      <td></td>\n",
       "      <td></td>\n",
       "      <td>PMID:21683322</td>\n",
       "      <td>PCS</td>\n",
       "      <td>ORCID:0000-0002-0736-9199[2024-10-17]</td>\n",
       "    </tr>\n",
       "    <tr>\n",
       "      <th>4</th>\n",
       "      <td>OMIM:102370</td>\n",
       "      <td>Acromicric dysplasia</td>\n",
       "      <td>HP:0004279</td>\n",
       "      <td>Short palm</td>\n",
       "      <td></td>\n",
       "      <td></td>\n",
       "      <td>13/13</td>\n",
       "      <td></td>\n",
       "      <td></td>\n",
       "      <td></td>\n",
       "      <td></td>\n",
       "      <td>PMID:21683322</td>\n",
       "      <td>PCS</td>\n",
       "      <td>ORCID:0000-0002-0736-9199[2024-10-17]</td>\n",
       "    </tr>\n",
       "  </tbody>\n",
       "</table>\n",
       "</div>"
      ],
      "text/plain": [
       "    #diseaseID           diseaseName phenotypeID   phenotypeName onsetID  \\\n",
       "0  OMIM:102370  Acromicric dysplasia  HP:0001773      Short foot           \n",
       "1  OMIM:102370  Acromicric dysplasia  HP:0000311      Round face           \n",
       "2  OMIM:102370  Acromicric dysplasia  HP:0000527  Long eyelashes           \n",
       "3  OMIM:102370  Acromicric dysplasia  HP:0000414    Bulbous nose           \n",
       "4  OMIM:102370  Acromicric dysplasia  HP:0004279      Short palm           \n",
       "\n",
       "  onsetName frequency sex negation modifier description    publication  \\\n",
       "0               13/13                                    PMID:21683322   \n",
       "1               13/13                                    PMID:21683322   \n",
       "2               13/13                                    PMID:21683322   \n",
       "3               13/13                                    PMID:21683322   \n",
       "4               13/13                                    PMID:21683322   \n",
       "\n",
       "  evidence                            biocuration  \n",
       "0      PCS  ORCID:0000-0002-0736-9199[2024-10-17]  \n",
       "1      PCS  ORCID:0000-0002-0736-9199[2024-10-17]  \n",
       "2      PCS  ORCID:0000-0002-0736-9199[2024-10-17]  \n",
       "3      PCS  ORCID:0000-0002-0736-9199[2024-10-17]  \n",
       "4      PCS  ORCID:0000-0002-0736-9199[2024-10-17]  "
      ]
     },
     "execution_count": 10,
     "metadata": {},
     "output_type": "execute_result"
    }
   ],
   "source": [
    "PMID = \"PMID:20979188\"\n",
    "df = timporter.create_hpoa_from_phenopackets(pmid=PMID, mode_of_inheritance=Moi.AD,target=\"OMIM:102370\")\n",
    "df.head()"
   ]
  }
 ],
 "metadata": {
  "kernelspec": {
   "display_name": "ps24venv",
   "language": "python",
   "name": "python3"
  },
  "language_info": {
   "codemirror_mode": {
    "name": "ipython",
    "version": 3
   },
   "file_extension": ".py",
   "mimetype": "text/x-python",
   "name": "python",
   "nbconvert_exporter": "python",
   "pygments_lexer": "ipython3",
   "version": "3.12.4"
  }
 },
 "nbformat": 4,
 "nbformat_minor": 2
}
