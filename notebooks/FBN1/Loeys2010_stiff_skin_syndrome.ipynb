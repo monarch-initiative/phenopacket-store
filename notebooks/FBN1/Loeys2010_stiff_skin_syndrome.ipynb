{
 "cells": [
  {
   "cell_type": "markdown",
   "id": "aa267386",
   "metadata": {},
   "source": [
    "<H1>Stiff Skin Syndrome, Loeys et al. (2010)</H1>\n",
    "<p>This notebook creates GA4GH Phenopackets from the clinical data in <a href=\"https://pubmed.ncbi.nlm.nih.gov/20375004/\" target=\"__blank\">Loeys BL, et al., Mutations in fibrillin-1 cause congenital scleroderma: stiff skin syndrome. Sci Transl Med. 2010;2(23):23ra20. PMID:20375004</a>.</p>"
   ]
  },
  {
   "cell_type": "code",
   "execution_count": 1,
   "id": "2612dbb1",
   "metadata": {},
   "outputs": [
    {
     "name": "stdout",
     "output_type": "stream",
     "text": [
      "Using pyphetools version 0.9.77\n"
     ]
    }
   ],
   "source": [
    "import pandas as pd\n",
    "pd.set_option('display.max_colwidth', None) # show entire column contents, important!\n",
    "from IPython.display import display, HTML\n",
    "from pyphetools.creation import *\n",
    "from pyphetools.visualization import *\n",
    "from pyphetools.validation import *\n",
    "import pyphetools\n",
    "print(f\"Using pyphetools version {pyphetools.__version__}\")"
   ]
  },
  {
   "cell_type": "code",
   "execution_count": 2,
   "id": "23d9a2b6",
   "metadata": {},
   "outputs": [],
   "source": [
    "import hpotk\n",
    "\n",
    "store = hpotk.configure_ontology_store()\n",
    "hpo = store.load_hpo(release='v2024-01-16')"
   ]
  },
  {
   "cell_type": "code",
   "execution_count": 3,
   "id": "7a52807c",
   "metadata": {},
   "outputs": [
    {
     "name": "stdout",
     "output_type": "stream",
     "text": [
      "HPO version 2024-01-16\n"
     ]
    }
   ],
   "source": [
    "PMID = \"PMID:20375004\"\n",
    "title = \"Mutations in fibrillin-1 cause congenital scleroderma: stiff skin syndrome\"\n",
    "cite = Citation(pmid=PMID, title=title)\n",
    "\n",
    "metadata = MetaData(created_by=\"ORCID:0000-0002-0736-9199\", citation=cite)\n",
    "metadata.default_versions_with_hpo(version=hpo.version)\n",
    "print(f\"HPO version {hpo.version}\")"
   ]
  },
  {
   "cell_type": "code",
   "execution_count": 4,
   "id": "7cb170de",
   "metadata": {},
   "outputs": [],
   "source": [
    "from pyphetools.creation import HpoExactConceptRecognizer\n",
    "\n",
    "hpo_cr = HpoExactConceptRecognizer.from_hpo(hpo)"
   ]
  },
  {
   "cell_type": "code",
   "execution_count": 5,
   "id": "3d9e1332",
   "metadata": {},
   "outputs": [],
   "source": [
    "df = pd.read_table('input/stiffskin_loeys2010.tsv')"
   ]
  },
  {
   "cell_type": "code",
   "execution_count": 6,
   "id": "ef8b1dc2",
   "metadata": {},
   "outputs": [
    {
     "data": {
      "text/html": [
       "<div>\n",
       "<style scoped>\n",
       "    .dataframe tbody tr th:only-of-type {\n",
       "        vertical-align: middle;\n",
       "    }\n",
       "\n",
       "    .dataframe tbody tr th {\n",
       "        vertical-align: top;\n",
       "    }\n",
       "\n",
       "    .dataframe thead th {\n",
       "        text-align: right;\n",
       "    }\n",
       "</style>\n",
       "<table border=\"1\" class=\"dataframe\">\n",
       "  <thead>\n",
       "    <tr style=\"text-align: right;\">\n",
       "      <th>Identifier</th>\n",
       "      <th>Age(yrs)</th>\n",
       "      <th>Sex</th>\n",
       "      <th>Height(cm)</th>\n",
       "      <th>Stiff skin</th>\n",
       "      <th>Surgery</th>\n",
       "      <th>Ectopia Lentis</th>\n",
       "      <th>Cataract</th>\n",
       "      <th>Myopia</th>\n",
       "      <th>Arachnodactyly</th>\n",
       "      <th>Camptodactyly</th>\n",
       "      <th>Elbowcontractures</th>\n",
       "      <th>Limitedshoulderelevation</th>\n",
       "      <th>Kneecontractures</th>\n",
       "      <th>MCP/IPnodules</th>\n",
       "      <th>Aorta</th>\n",
       "      <th>Neuropathy</th>\n",
       "      <th>GER</th>\n",
       "      <th>Variant</th>\n",
       "      <th>patient_id</th>\n",
       "    </tr>\n",
       "  </thead>\n",
       "  <tbody>\n",
       "    <tr>\n",
       "      <th>1-II:1</th>\n",
       "      <td>51</td>\n",
       "      <td>M</td>\n",
       "      <td>173</td>\n",
       "      <td>++</td>\n",
       "      <td>Appendectomy, Herniorraphy, Coronaryarterybypass</td>\n",
       "      <td>─</td>\n",
       "      <td>─</td>\n",
       "      <td>+</td>\n",
       "      <td>─</td>\n",
       "      <td>++</td>\n",
       "      <td>++</td>\n",
       "      <td>─</td>\n",
       "      <td>++</td>\n",
       "      <td>++</td>\n",
       "      <td>nl</td>\n",
       "      <td>─</td>\n",
       "      <td>+</td>\n",
       "      <td>c.4710G&gt;C</td>\n",
       "      <td>1-II:1</td>\n",
       "    </tr>\n",
       "    <tr>\n",
       "      <th>1-III:2</th>\n",
       "      <td>25</td>\n",
       "      <td>M</td>\n",
       "      <td>165</td>\n",
       "      <td>+++</td>\n",
       "      <td>Cesarean section</td>\n",
       "      <td>─</td>\n",
       "      <td>─</td>\n",
       "      <td>+</td>\n",
       "      <td>─</td>\n",
       "      <td>++</td>\n",
       "      <td>++</td>\n",
       "      <td>++</td>\n",
       "      <td>++</td>\n",
       "      <td>++</td>\n",
       "      <td>nl</td>\n",
       "      <td>+</td>\n",
       "      <td>+</td>\n",
       "      <td>c.4710G&gt;C</td>\n",
       "      <td>1-III:2</td>\n",
       "    </tr>\n",
       "    <tr>\n",
       "      <th>2-III:1</th>\n",
       "      <td>70</td>\n",
       "      <td>M</td>\n",
       "      <td>163</td>\n",
       "      <td>+++</td>\n",
       "      <td>Gastric ulcer surgery</td>\n",
       "      <td>─*</td>\n",
       "      <td>+</td>\n",
       "      <td>─</td>\n",
       "      <td>─</td>\n",
       "      <td>++</td>\n",
       "      <td>++</td>\n",
       "      <td>++</td>\n",
       "      <td>++</td>\n",
       "      <td>++</td>\n",
       "      <td>nl</td>\n",
       "      <td>─</td>\n",
       "      <td>+</td>\n",
       "      <td>c.4710G&gt;T</td>\n",
       "      <td>2-III:1</td>\n",
       "    </tr>\n",
       "    <tr>\n",
       "      <th>2-IV:2</th>\n",
       "      <td>37</td>\n",
       "      <td>F</td>\n",
       "      <td>155</td>\n",
       "      <td>+++</td>\n",
       "      <td>Cesarean Sections</td>\n",
       "      <td>─</td>\n",
       "      <td>─</td>\n",
       "      <td>─</td>\n",
       "      <td>─</td>\n",
       "      <td>++</td>\n",
       "      <td>++</td>\n",
       "      <td>++</td>\n",
       "      <td>++</td>\n",
       "      <td>++</td>\n",
       "      <td>nl</td>\n",
       "      <td>─</td>\n",
       "      <td>+</td>\n",
       "      <td>c.4710G&gt;T</td>\n",
       "      <td>2-IV:2</td>\n",
       "    </tr>\n",
       "    <tr>\n",
       "      <th>3-I:1</th>\n",
       "      <td>54</td>\n",
       "      <td>F</td>\n",
       "      <td>145</td>\n",
       "      <td>+++</td>\n",
       "      <td>Hysterectomy</td>\n",
       "      <td>─</td>\n",
       "      <td>+</td>\n",
       "      <td>+</td>\n",
       "      <td>─</td>\n",
       "      <td>++</td>\n",
       "      <td>++</td>\n",
       "      <td>++</td>\n",
       "      <td>++</td>\n",
       "      <td>+</td>\n",
       "      <td>nl</td>\n",
       "      <td>─</td>\n",
       "      <td>─</td>\n",
       "      <td>c.4691G&gt;C</td>\n",
       "      <td>3-I:1</td>\n",
       "    </tr>\n",
       "  </tbody>\n",
       "</table>\n",
       "</div>"
      ],
      "text/plain": [
       "Identifier Age(yrs) Sex Height(cm) Stiff skin  \\\n",
       "1-II:1           51   M        173         ++   \n",
       "1-III:2          25   M        165        +++   \n",
       "2-III:1          70   M        163        +++   \n",
       "2-IV:2           37   F        155        +++   \n",
       "3-I:1            54   F        145        +++   \n",
       "\n",
       "Identifier                                           Surgery Ectopia Lentis  \\\n",
       "1-II:1      Appendectomy, Herniorraphy, Coronaryarterybypass              ─   \n",
       "1-III:2                                     Cesarean section              ─   \n",
       "2-III:1                                Gastric ulcer surgery             ─*   \n",
       "2-IV:2                                     Cesarean Sections              ─   \n",
       "3-I:1                                           Hysterectomy              ─   \n",
       "\n",
       "Identifier Cataract Myopia Arachnodactyly Camptodactyly Elbowcontractures  \\\n",
       "1-II:1            ─      +              ─            ++                ++   \n",
       "1-III:2           ─      +              ─            ++                ++   \n",
       "2-III:1           +      ─              ─            ++                ++   \n",
       "2-IV:2            ─      ─              ─            ++                ++   \n",
       "3-I:1             +      +              ─            ++                ++   \n",
       "\n",
       "Identifier Limitedshoulderelevation Kneecontractures MCP/IPnodules Aorta  \\\n",
       "1-II:1                            ─               ++            ++    nl   \n",
       "1-III:2                          ++               ++            ++    nl   \n",
       "2-III:1                          ++               ++            ++    nl   \n",
       "2-IV:2                           ++               ++            ++    nl   \n",
       "3-I:1                            ++               ++             +    nl   \n",
       "\n",
       "Identifier Neuropathy GER    Variant patient_id  \n",
       "1-II:1              ─   +  c.4710G>C     1-II:1  \n",
       "1-III:2             +   +  c.4710G>C    1-III:2  \n",
       "2-III:1             ─   +  c.4710G>T    2-III:1  \n",
       "2-IV:2              ─   +  c.4710G>T     2-IV:2  \n",
       "3-I:1               ─   ─  c.4691G>C      3-I:1  "
      ]
     },
     "execution_count": 6,
     "metadata": {},
     "output_type": "execute_result"
    }
   ],
   "source": [
    "# convert to row-based format\n",
    "dft = df.transpose()\n",
    "dft.columns = dft.iloc[0]\n",
    "dft.drop(dft.index[0], inplace=True)\n",
    "dft['patient_id'] = dft.index\n",
    "dft.head()"
   ]
  },
  {
   "cell_type": "markdown",
   "id": "b09649b1",
   "metadata": {},
   "source": [
    "<h2>Create mappers to convert data</h2>"
   ]
  },
  {
   "cell_type": "code",
   "execution_count": 7,
   "id": "8a8c47a0",
   "metadata": {},
   "outputs": [],
   "source": [
    "column_mapper_list = list()"
   ]
  },
  {
   "cell_type": "code",
   "execution_count": 8,
   "id": "d43a8d96",
   "metadata": {},
   "outputs": [],
   "source": [
    "symbol_d = {'+': 'Stiff skin', '++': 'Stiff skin', '+++': 'Stiff skin'}\n",
    "stiffSkinMapper = OptionColumnMapper(column_name='Stiff skin',concept_recognizer=hpo_cr, option_d=symbol_d)\n",
    "stiffSkinMapper.preview_column(dft)\n",
    "column_mapper_list.append(stiffSkinMapper)"
   ]
  },
  {
   "cell_type": "code",
   "execution_count": 9,
   "id": "984bf8ee",
   "metadata": {},
   "outputs": [],
   "source": [
    "items = {\n",
    "  'Ectopia Lentis': [\"Ectopia lentis\",\"HP:0001083\"],\n",
    "  'Cataract': ['Cataract', 'HP:0000518'],\n",
    "  'Myopia': [\"Myopia\", \"HP:0000545\"],\n",
    "  'Arachnodactyly': ['Arachnodactyly', 'HP:0001166'],\n",
    "  'Camptodactyly': ['Camptodactyly', 'HP:0012385'],\n",
    "  'Elbowcontractures': ['Elbow contracture', 'HP:0034391'],\n",
    "  'Limitedshoulderelevation': ['Limited shoulder flexion','HP:0033482'],\n",
    "  'Neuropathy': [\"Entrapment neuropathy\",'HP:0012181'],\n",
    "  'GER': ['Gastroesophageal reflux', 'HP:0002020']\n",
    "}\n",
    "\n",
    "item_column_mapper_d = hpo_cr.initialize_simple_column_maps(column_name_to_hpo_label_map=items, \n",
    "                                                            observed={'+', '++'},\n",
    "                                                              excluded='-')\n",
    "\n",
    "# Transfer to column_mapper_d\n",
    "for k, v in item_column_mapper_d.items():\n",
    "    column_mapper_list.append(v)"
   ]
  },
  {
   "cell_type": "code",
   "execution_count": 10,
   "id": "465c2675",
   "metadata": {},
   "outputs": [
    {
     "data": {
      "text/html": [
       "<div>\n",
       "<style scoped>\n",
       "    .dataframe tbody tr th:only-of-type {\n",
       "        vertical-align: middle;\n",
       "    }\n",
       "\n",
       "    .dataframe tbody tr th {\n",
       "        vertical-align: top;\n",
       "    }\n",
       "\n",
       "    .dataframe thead th {\n",
       "        text-align: right;\n",
       "    }\n",
       "</style>\n",
       "<table border=\"1\" class=\"dataframe\">\n",
       "  <thead>\n",
       "    <tr style=\"text-align: right;\">\n",
       "      <th></th>\n",
       "      <th>mapping</th>\n",
       "      <th>count</th>\n",
       "    </tr>\n",
       "  </thead>\n",
       "  <tbody>\n",
       "    <tr>\n",
       "      <th>0</th>\n",
       "      <td>original value: \"nl\" -&gt; HP: Bicuspid aortic valve (HP:0001647) (not measured)</td>\n",
       "      <td>7</td>\n",
       "    </tr>\n",
       "    <tr>\n",
       "      <th>1</th>\n",
       "      <td>original value: \"BAV\" -&gt; HP: Bicuspid aortic valve (HP:0001647) (observed)</td>\n",
       "      <td>1</td>\n",
       "    </tr>\n",
       "  </tbody>\n",
       "</table>\n",
       "</div>"
      ],
      "text/plain": [
       "                                                                         mapping  \\\n",
       "0  original value: \"nl\" -> HP: Bicuspid aortic valve (HP:0001647) (not measured)   \n",
       "1     original value: \"BAV\" -> HP: Bicuspid aortic valve (HP:0001647) (observed)   \n",
       "\n",
       "  count  \n",
       "0     7  \n",
       "1     1  "
      ]
     },
     "execution_count": 10,
     "metadata": {},
     "output_type": "execute_result"
    }
   ],
   "source": [
    "# Aorta\n",
    "# Bicuspid aortic valve HP:0001647\n",
    "mapper = SimpleColumnMapper(column_name='Aorta',\n",
    "                            hpo_id='HP:0001647',\n",
    "    hpo_label='Bicuspid aortic valve',\n",
    "    observed='BAV',\n",
    "    excluded='─')\n",
    "column_mapper_list.append(mapper)\n",
    "mapper.preview_column(dft)"
   ]
  },
  {
   "cell_type": "markdown",
   "id": "cb1e2415",
   "metadata": {},
   "source": [
    "<h2>Demographic columns</h2>"
   ]
  },
  {
   "cell_type": "code",
   "execution_count": 11,
   "id": "3f378ca7",
   "metadata": {},
   "outputs": [],
   "source": [
    "ageMapper = AgeColumnMapper.by_year('Age(yrs)')\n",
    "#ageMapper.preview_column(dft)"
   ]
  },
  {
   "cell_type": "code",
   "execution_count": 12,
   "id": "1a78b188",
   "metadata": {},
   "outputs": [],
   "source": [
    "sexMapper = SexColumnMapper(male_symbol='M', female_symbol='F', column_name='Sex')\n",
    "#sexMapper.preview_column(dft)"
   ]
  },
  {
   "cell_type": "markdown",
   "id": "7e5b8246",
   "metadata": {},
   "source": [
    "<h2>Variant data</H2>"
   ]
  },
  {
   "cell_type": "code",
   "execution_count": 13,
   "id": "167394b2",
   "metadata": {},
   "outputs": [],
   "source": [
    "fbn1_transcript='NM_000138.5' \n",
    "vman = VariantManager(df=dft, \n",
    "                      transcript=fbn1_transcript, \n",
    "                      gene_symbol=\"FBN1\", \n",
    "                      allele_1_column_name='Variant', \n",
    "                      individual_column_name=\"patient_id\")\n",
    "varMapper = VariantColumnMapper(variant_d=vman.get_variant_d(),\n",
    "                                variant_column_name='Variant', \n",
    "                                default_genotype='heterozygous')"
   ]
  },
  {
   "cell_type": "code",
   "execution_count": 14,
   "id": "a80ae3b8",
   "metadata": {},
   "outputs": [],
   "source": [
    "pmid = \"PMID:20375004\"\n",
    "encoder = CohortEncoder(df=dft, \n",
    "                        hpo_cr=hpo_cr, \n",
    "                        column_mapper_list=column_mapper_list, \n",
    "                        individual_column_name=\"patient_id\", \n",
    "                        age_of_onset_mapper=ageMapper, \n",
    "                        sexmapper=sexMapper,\n",
    "                        metadata=metadata,\n",
    "                        variant_mapper=varMapper)\n",
    "sss = Disease(disease_id='OMIM:184900', disease_label='Stiff skin syndrome')\n",
    "encoder.set_disease(sss)\n",
    "individuals = encoder.get_individuals()"
   ]
  },
  {
   "cell_type": "code",
   "execution_count": 15,
   "id": "b9bc53c0",
   "metadata": {},
   "outputs": [
    {
     "data": {
      "text/html": [
       "<h2>Cohort validation</h2>\n",
       "<p>Errors found with 8 of 8 phenopackets.</p>\n",
       "<table style=\"border: 2px solid black; align: \"left\">\n",
       "<caption>Error counts</caption>\n",
       "<tr><th style=\"text-align: left;font-weight: bold;\">Level</th><th style=\"text-align: left;font-weight: bold;\">Error category</th><th style=\"text-align: left;font-weight: bold;\">Count</th></tr>\n",
       "<tr><td style=\"text-align: left;\">INFORMATION</td><td style=\"text-align: left;\">NOT_MEASURED</td><td style=\"text-align: left;\">42</td></tr>\n",
       "</table>\n",
       "<p>A total of 42 issues were fixed and no individual was removed from the cohort.</p>"
      ],
      "text/plain": [
       "<IPython.core.display.HTML object>"
      ]
     },
     "metadata": {},
     "output_type": "display_data"
    }
   ],
   "source": [
    "cvalidator = CohortValidator(cohort=individuals, ontology=hpo, min_hpo=1, allelic_requirement=AllelicRequirement.MONO_ALLELIC)\n",
    "qc = QcVisualizer(cohort_validator=cvalidator)\n",
    "display(HTML(qc.to_summary_html()))"
   ]
  },
  {
   "cell_type": "code",
   "execution_count": 16,
   "id": "7155c376-063d-4325-996f-ee48edf6374f",
   "metadata": {},
   "outputs": [
    {
     "data": {
      "text/html": [
       "<table style=\"border: 2px solid black; align: \"left\">\n",
       "<caption>8 phenopackets - PMID:20375004 (n=8)</caption>\n",
       "<tr><th style=\"text-align: left;font-weight: bold;\">Individual</th><th style=\"text-align: left;font-weight: bold;\">Disease</th><th style=\"text-align: left;font-weight: bold;\">Genotype</th><th style=\"text-align: left;font-weight: bold;\">Phenotypic features</th></tr>\n",
       "<tr><td style=\"text-align: left;\">1-II:1 (MALE; n/a)</td><td style=\"text-align: left;\">Stiff skin syndrome (OMIM:184900)</td><td style=\"text-align: left;\">NM_000138.5:c.4710G>C (heterozygous)</td><td style=\"text-align: left;\">Stiff skin (HP:0030053); Myopia (HP:0000545); Camptodactyly (HP:0012385); Elbow contracture (HP:0034391); Gastroesophageal reflux (HP:0002020)</td></tr>\n",
       "<tr><td style=\"text-align: left;\">1-III:2 (MALE; n/a)</td><td style=\"text-align: left;\">Stiff skin syndrome (OMIM:184900)</td><td style=\"text-align: left;\">NM_000138.5:c.4710G>C (heterozygous)</td><td style=\"text-align: left;\">Stiff skin (HP:0030053); Myopia (HP:0000545); Camptodactyly (HP:0012385); Elbow contracture (HP:0034391); Limited shoulder flexion (HP:0033482); Entrapment neuropathy (HP:0012181); Gastroesophageal reflux (HP:0002020)</td></tr>\n",
       "<tr><td style=\"text-align: left;\">2-III:1 (MALE; n/a)</td><td style=\"text-align: left;\">Stiff skin syndrome (OMIM:184900)</td><td style=\"text-align: left;\">NM_000138.5:c.4710G>T (heterozygous)</td><td style=\"text-align: left;\">Stiff skin (HP:0030053); Cataract (HP:0000518); Camptodactyly (HP:0012385); Elbow contracture (HP:0034391); Limited shoulder flexion (HP:0033482); Gastroesophageal reflux (HP:0002020)</td></tr>\n",
       "<tr><td style=\"text-align: left;\">2-IV:2 (FEMALE; n/a)</td><td style=\"text-align: left;\">Stiff skin syndrome (OMIM:184900)</td><td style=\"text-align: left;\">NM_000138.5:c.4710G>T (heterozygous)</td><td style=\"text-align: left;\">Stiff skin (HP:0030053); Camptodactyly (HP:0012385); Elbow contracture (HP:0034391); Limited shoulder flexion (HP:0033482); Gastroesophageal reflux (HP:0002020)</td></tr>\n",
       "<tr><td style=\"text-align: left;\">3-I:1 (FEMALE; n/a)</td><td style=\"text-align: left;\">Stiff skin syndrome (OMIM:184900)</td><td style=\"text-align: left;\">NM_000138.5:c.4691G>C (heterozygous)</td><td style=\"text-align: left;\">Stiff skin (HP:0030053); Cataract (HP:0000518); Myopia (HP:0000545); Camptodactyly (HP:0012385); Elbow contracture (HP:0034391); Limited shoulder flexion (HP:0033482)</td></tr>\n",
       "<tr><td style=\"text-align: left;\">3-II:2 (FEMALE; n/a)</td><td style=\"text-align: left;\">Stiff skin syndrome (OMIM:184900)</td><td style=\"text-align: left;\">NM_000138.5:c.4691G>C (heterozygous)</td><td style=\"text-align: left;\">Stiff skin (HP:0030053); Myopia (HP:0000545); Camptodactyly (HP:0012385); Elbow contracture (HP:0034391); Limited shoulder flexion (HP:0033482); Bicuspid aortic valve (HP:0001647)</td></tr>\n",
       "<tr><td style=\"text-align: left;\">3-II:3 (FEMALE; n/a)</td><td style=\"text-align: left;\">Stiff skin syndrome (OMIM:184900)</td><td style=\"text-align: left;\">NM_000138.5:c.4691G>C (heterozygous)</td><td style=\"text-align: left;\">Stiff skin (HP:0030053); Myopia (HP:0000545); Camptodactyly (HP:0012385); Elbow contracture (HP:0034391); Limited shoulder flexion (HP:0033482)</td></tr>\n",
       "<tr><td style=\"text-align: left;\">4-II:1 (MALE; n/a)</td><td style=\"text-align: left;\">Stiff skin syndrome (OMIM:184900)</td><td style=\"text-align: left;\">NM_000138.5:c.4729T>G (heterozygous)</td><td style=\"text-align: left;\">Stiff skin (HP:0030053); Myopia (HP:0000545); Camptodactyly (HP:0012385); Elbow contracture (HP:0034391); Limited shoulder flexion (HP:0033482); Entrapment neuropathy (HP:0012181)</td></tr>\n",
       "</table>"
      ],
      "text/plain": [
       "<IPython.core.display.HTML object>"
      ]
     },
     "metadata": {},
     "output_type": "display_data"
    }
   ],
   "source": [
    "individuals = cvalidator.get_error_free_individual_list()\n",
    "phenopackets = [i.to_ga4gh_phenopacket(metadata=metadata.to_ga4gh()) for i in individuals]\n",
    "table = PhenopacketTable(phenopacket_list=phenopackets)\n",
    "display(HTML(table.to_html()))"
   ]
  },
  {
   "cell_type": "code",
   "execution_count": 17,
   "id": "b2111563",
   "metadata": {},
   "outputs": [
    {
     "name": "stdout",
     "output_type": "stream",
     "text": [
      "We output 8 GA4GH phenopackets to the directory phenopackets\n"
     ]
    }
   ],
   "source": [
    "output_directory = \"phenopackets\"\n",
    "Individual.output_individuals_as_phenopackets(individual_list=individuals,\n",
    "                                              metadata=metadata,\n",
    "                                              outdir=output_directory)"
   ]
  },
  {
   "cell_type": "code",
   "execution_count": null,
   "id": "b0a01b5b",
   "metadata": {},
   "outputs": [],
   "source": []
  }
 ],
 "metadata": {
  "kernelspec": {
   "display_name": "Python 3 (ipykernel)",
   "language": "python",
   "name": "python3"
  },
  "language_info": {
   "codemirror_mode": {
    "name": "ipython",
    "version": 3
   },
   "file_extension": ".py",
   "mimetype": "text/x-python",
   "name": "python",
   "nbconvert_exporter": "python",
   "pygments_lexer": "ipython3",
   "version": "3.10.12"
  }
 },
 "nbformat": 4,
 "nbformat_minor": 5
}
