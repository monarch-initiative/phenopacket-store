{
 "cells": [
  {
   "cell_type": "markdown",
   "id": "aa267386",
   "metadata": {},
   "source": [
    "<H1>Stiff Skin Syndrome, Loeys et al. (2010)</H1>\n",
    "<p>This notebook creates GA4GH Phenopackets from the clinical data in <a href=\"https://pubmed.ncbi.nlm.nih.gov/20375004/\" target=\"__blank\">Loeys BL, et al., Mutations in fibrillin-1 cause congenital scleroderma: stiff skin syndrome. Sci Transl Med. 2010;2(23):23ra20. PMID:20375004</a>.</p>"
   ]
  },
  {
   "cell_type": "code",
   "execution_count": 7,
   "id": "a4ed440b-c0b6-45de-8989-b4b2b6fdc06d",
   "metadata": {},
   "outputs": [
    {
     "name": "stdout",
     "output_type": "stream",
     "text": [
      "pyphetools version 0.9.63\n"
     ]
    }
   ],
   "source": [
    "from pyphetools.creation import TemplateImporter\n",
    "from IPython.display import display, HTML\n",
    "from pyphetools.visualization import QcVisualizer\n",
    "import pyphetools\n",
    "print(f\"pyphetools version {pyphetools.__version__}\")"
   ]
  },
  {
   "cell_type": "code",
   "execution_count": 8,
   "id": "b6ad5b6c-1992-45d3-960e-fce57558ceb7",
   "metadata": {},
   "outputs": [],
   "source": [
    "template = \"input/FBN1_SSS_individuals.xlsx\"\n",
    "hp_json = \"../hp.json\"\n",
    "created_by=\"ORCID:0000-0002-0736-9199\"\n",
    "timporter = TemplateImporter(template=template, hp_json=hp_json, created_by=created_by)"
   ]
  },
  {
   "cell_type": "code",
   "execution_count": 10,
   "id": "5f30d32c-1242-478f-b19e-d33f3753047b",
   "metadata": {},
   "outputs": [
    {
     "name": "stdout",
     "output_type": "stream",
     "text": [
      "HPO version 2024-02-27\n",
      "Created encoders for 31 fields\n",
      " we got OMIM:184900  NM_000138.5\n",
      "We output 8 GA4GH phenopackets to the directory phenopackets\n"
     ]
    }
   ],
   "source": [
    "individuals, cvalidator = timporter.import_phenopackets_from_template()"
   ]
  },
  {
   "cell_type": "code",
   "execution_count": 11,
   "id": "2612dbb1",
   "metadata": {},
   "outputs": [
    {
     "data": {
      "text/html": [
       "<h2>Cohort validation</h2>\n",
       "<p>No errors found for the cohort with 8 individuals</p>"
      ],
      "text/plain": [
       "<IPython.core.display.HTML object>"
      ]
     },
     "metadata": {},
     "output_type": "display_data"
    }
   ],
   "source": [
    "qc = QcVisualizer(cohort_validator=cvalidator)\n",
    "display(HTML(qc.to_summary_html()))"
   ]
  },
  {
   "cell_type": "code",
   "execution_count": 13,
   "id": "7a52807c",
   "metadata": {},
   "outputs": [
    {
     "name": "stdout",
     "output_type": "stream",
     "text": [
      "[pyphetools] Ingested 151 GA4GH phenopackets.\n",
      "[INFO] Extracted 8 from 151 phenopackets with OMIM:184900\n",
      "\n",
      "\tStiff skin syndrome (OMIM:184900): n=8\n",
      "We found a total of 14 unique HPO terms\n",
      "Extracted disease: Stiff skin syndrome (OMIM:184900)\n",
      "Wrote HPOA disease file to OMIM-184900.tab\n"
     ]
    }
   ],
   "source": [
    "PMID = \"PMID:20375004\"\n",
    "df = timporter.create_hpoa_from_phenopackets(pmid=PMID, moi=\"Autosomal dominant\",target=\"OMIM:184900\")"
   ]
  },
  {
   "cell_type": "code",
   "execution_count": null,
   "id": "b0a01b5b",
   "metadata": {},
   "outputs": [],
   "source": []
  }
 ],
 "metadata": {
  "kernelspec": {
   "display_name": "Python 3 (ipykernel)",
   "language": "python",
   "name": "python3"
  },
  "language_info": {
   "codemirror_mode": {
    "name": "ipython",
    "version": 3
   },
   "file_extension": ".py",
   "mimetype": "text/x-python",
   "name": "python",
   "nbconvert_exporter": "python",
   "pygments_lexer": "ipython3",
   "version": "3.8.10"
  }
 },
 "nbformat": 4,
 "nbformat_minor": 5
}
