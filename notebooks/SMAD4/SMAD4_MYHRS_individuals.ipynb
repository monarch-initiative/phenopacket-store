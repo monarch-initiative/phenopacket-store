{
 "cells": [
  {
   "cell_type": "markdown",
   "metadata": {},
   "source": [
    "# SMAD4\n",
    "[Myhre syndrome (MYHRS)]() is caused by heterozygous mutation in the SMAD4 gene."
   ]
  },
  {
   "cell_type": "code",
   "execution_count": 1,
   "metadata": {},
   "outputs": [
    {
     "name": "stdout",
     "output_type": "stream",
     "text": [
      "Using pyphetools version 0.9.88\n"
     ]
    },
    {
     "name": "stderr",
     "output_type": "stream",
     "text": [
      "/Users/robin/GIT/phenopacket-store/ps24venv/lib/python3.9/site-packages/urllib3/__init__.py:35: NotOpenSSLWarning: urllib3 v2 only supports OpenSSL 1.1.1+, currently the 'ssl' module is compiled with 'LibreSSL 2.8.3'. See: https://github.com/urllib3/urllib3/issues/3020\n",
      "  warnings.warn(\n"
     ]
    }
   ],
   "source": [
    "from pyphetools.creation import TemplateImporter\n",
    "from pyphetools.visualization import IndividualTable, QcVisualizer\n",
    "from IPython.display import display, HTML\n",
    "import pyphetools\n",
    "print(f\"Using pyphetools version {pyphetools.__version__}\")"
   ]
  },
  {
   "cell_type": "code",
   "execution_count": 2,
   "metadata": {},
   "outputs": [],
   "source": [
    "template = \"input/SMAD4_MYHRS_individuals.xlsx\"\n",
    "created_by = \"0000-0002-0736-9199\""
   ]
  },
  {
   "cell_type": "code",
   "execution_count": 3,
   "metadata": {},
   "outputs": [
    {
     "name": "stdout",
     "output_type": "stream",
     "text": [
      "HPO version 2024-04-26\n",
      "Created encoders for 91 fields\n",
      "Importing OMIM:139210, Myhre syndrome, HGNC:6770, SMAD4,  NM_005359.6\n",
      "We output 12 GA4GH phenopackets to the directory phenopackets\n"
     ]
    }
   ],
   "source": [
    "timporter = TemplateImporter(template=template,  created_by=created_by)\n",
    "individual_list, cvalidator = timporter.import_phenopackets_from_template()"
   ]
  },
  {
   "cell_type": "code",
   "execution_count": 4,
   "metadata": {},
   "outputs": [
    {
     "data": {
      "text/html": [
       "<h2>Cohort validation</h2>\n",
       "<p>No errors found for the cohort with 12 individuals</p>"
      ],
      "text/plain": [
       "<IPython.core.display.HTML object>"
      ]
     },
     "metadata": {},
     "output_type": "display_data"
    }
   ],
   "source": [
    "qc = QcVisualizer(cohort_validator=cvalidator)\n",
    "display(HTML(qc.to_summary_html()))"
   ]
  },
  {
   "cell_type": "code",
   "execution_count": 5,
   "metadata": {},
   "outputs": [
    {
     "data": {
      "text/html": [
       "<table style=\"border: 2px solid black; align: \"left\">\n",
       "<caption>12 phenopackets - PMID:22158539 (n=11); PMID:24715504 (n=1)</caption>\n",
       "<tr><th style=\"text-align: left;font-weight: bold;\">Individual</th><th style=\"text-align: left;font-weight: bold;\">Disease</th><th style=\"text-align: left;font-weight: bold;\">Genotype</th><th style=\"text-align: left;font-weight: bold;\">Phenotypic features</th></tr>\n",
       "<tr><td style=\"text-align: left;\">individual 1 (FEMALE; P10Y)</td><td style=\"text-align: left;\">Myhre syndrome (OMIM:139210)</td><td style=\"text-align: left;\">NM_005359.6:c.1499T>C (heterozygous)</td><td style=\"text-align: left;\">Patent ductus arteriosus (HP:0001643); Mandibular prognathia (HP:0000303); Narrow palpebral fissure (HP:0045025); Short philtrum (HP:0000322); Thickened calvaria (HP:0002684); Short long bone (HP:0003026); Enlarged vertebral pedicles (HP:0004621); Cone-shaped epiphysis (HP:0010579); Delayed skeletal maturation (HP:0002750); Generalized muscle hypertrophy (HP:0003720); Strabismus (HP:0000486); Short stature (HP:0004322); Limitation of joint mobility (HP:0001376); Short palm (HP:0004279); Short foot (HP:0001773); Global developmental delay (HP:0001263); Microtia (HP:0008551); Hearing impairment (HP:0000365); Thickened skin (HP:0001072); Duodenal stenosis (HP:0100867); excluded: Pulmonic stenosis (HP:0001642); excluded: Platyspondyly (HP:0000926); excluded: Clinodactyly of the 5th finger (HP:0004209); excluded: Hyperactivity (HP:0000752); excluded: Psychosis (HP:0000709); excluded: Velopharyngeal insufficiency (HP:0000220); excluded: Sacral dimple (HP:0000960)</td></tr>\n",
       "<tr><td style=\"text-align: left;\">individual 2 (FEMALE; P12Y)</td><td style=\"text-align: left;\">Myhre syndrome (OMIM:139210)</td><td style=\"text-align: left;\">NM_005359.6:c.1499T>C (heterozygous)</td><td style=\"text-align: left;\">Mandibular prognathia (HP:0000303); Narrow palpebral fissure (HP:0045025); Short philtrum (HP:0000322); Thickened calvaria (HP:0002684); Short long bone (HP:0003026); Enlarged vertebral pedicles (HP:0004621); Delayed skeletal maturation (HP:0002750); Generalized muscle hypertrophy (HP:0003720); Short stature (HP:0004322); Limitation of joint mobility (HP:0001376); Short palm (HP:0004279); Short foot (HP:0001773); Global developmental delay (HP:0001263); Hearing impairment (HP:0000365); Thickened skin (HP:0001072); excluded: Patent ductus arteriosus (HP:0001643); excluded: Pulmonic stenosis (HP:0001642); excluded: Platyspondyly (HP:0000926); excluded: Cone-shaped epiphysis (HP:0010579); excluded: Strabismus (HP:0000486); excluded: Clinodactyly of the 5th finger (HP:0004209); excluded: Hyperactivity (HP:0000752); excluded: Psychosis (HP:0000709); excluded: Microtia (HP:0008551); excluded: Duodenal stenosis (HP:0100867); excluded: Velopharyngeal insufficiency (HP:0000220); excluded: Sacral dimple (HP:0000960)</td></tr>\n",
       "<tr><td style=\"text-align: left;\">individual 3 (FEMALE; P12Y)</td><td style=\"text-align: left;\">Myhre syndrome (OMIM:139210)</td><td style=\"text-align: left;\">NM_005359.6:c.1498A>G (heterozygous)</td><td style=\"text-align: left;\">Patent ductus arteriosus (HP:0001643); Mandibular prognathia (HP:0000303); Narrow palpebral fissure (HP:0045025); Short philtrum (HP:0000322); Generalized muscle hypertrophy (HP:0003720); Short stature (HP:0004322); Limitation of joint mobility (HP:0001376); Short palm (HP:0004279); Short foot (HP:0001773); Global developmental delay (HP:0001263); excluded: Pulmonic stenosis (HP:0001642); excluded: Strabismus (HP:0000486); excluded: Clinodactyly of the 5th finger (HP:0004209); excluded: Hyperactivity (HP:0000752); excluded: Psychosis (HP:0000709); excluded: Microtia (HP:0008551); excluded: Hearing impairment (HP:0000365); excluded: Thickened skin (HP:0001072); excluded: Duodenal stenosis (HP:0100867); excluded: Velopharyngeal insufficiency (HP:0000220); excluded: Sacral dimple (HP:0000960)</td></tr>\n",
       "<tr><td style=\"text-align: left;\">individual 4 (FEMALE; P11Y)</td><td style=\"text-align: left;\">Myhre syndrome (OMIM:139210)</td><td style=\"text-align: left;\">NM_005359.6:c.1499T>C (heterozygous)</td><td style=\"text-align: left;\">Patent ductus arteriosus (HP:0001643); Mandibular prognathia (HP:0000303); Narrow palpebral fissure (HP:0045025); Short philtrum (HP:0000322); Thickened calvaria (HP:0002684); Short long bone (HP:0003026); Enlarged vertebral pedicles (HP:0004621); Cone-shaped epiphysis (HP:0010579); Delayed skeletal maturation (HP:0002750); Generalized muscle hypertrophy (HP:0003720); Short stature (HP:0004322); Limitation of joint mobility (HP:0001376); Short palm (HP:0004279); Short foot (HP:0001773); Clinodactyly of the 5th finger (HP:0004209); Global developmental delay (HP:0001263); Hyperactivity (HP:0000752); Hearing impairment (HP:0000365); Thickened skin (HP:0001072); excluded: Pulmonic stenosis (HP:0001642); excluded: Platyspondyly (HP:0000926); excluded: Strabismus (HP:0000486); excluded: Psychosis (HP:0000709); excluded: Microtia (HP:0008551); excluded: Duodenal stenosis (HP:0100867); excluded: Velopharyngeal insufficiency (HP:0000220); excluded: Sacral dimple (HP:0000960)</td></tr>\n",
       "<tr><td style=\"text-align: left;\">individual 5 (FEMALE; P16Y)</td><td style=\"text-align: left;\">Myhre syndrome (OMIM:139210)</td><td style=\"text-align: left;\">NM_005359.6:c.1498A>G (heterozygous)</td><td style=\"text-align: left;\">Mandibular prognathia (HP:0000303); Narrow palpebral fissure (HP:0045025); Short philtrum (HP:0000322); Thickened calvaria (HP:0002684); Short long bone (HP:0003026); Platyspondyly (HP:0000926); Enlarged vertebral pedicles (HP:0004621); Generalized muscle hypertrophy (HP:0003720); Short stature (HP:0004322); Limitation of joint mobility (HP:0001376); Short palm (HP:0004279); Short foot (HP:0001773); Hearing impairment (HP:0000365); Thickened skin (HP:0001072); excluded: Patent ductus arteriosus (HP:0001643); excluded: Pulmonic stenosis (HP:0001642); excluded: Cone-shaped epiphysis (HP:0010579); excluded: Delayed skeletal maturation (HP:0002750); excluded: Strabismus (HP:0000486); excluded: Clinodactyly of the 5th finger (HP:0004209); excluded: Global developmental delay (HP:0001263); excluded: Hyperactivity (HP:0000752); excluded: Psychosis (HP:0000709); excluded: Microtia (HP:0008551); excluded: Duodenal stenosis (HP:0100867); excluded: Velopharyngeal insufficiency (HP:0000220); excluded: Sacral dimple (HP:0000960)</td></tr>\n",
       "<tr><td style=\"text-align: left;\">individual 6 (FEMALE; P22Y)</td><td style=\"text-align: left;\">Myhre syndrome (OMIM:139210)</td><td style=\"text-align: left;\">NM_005359.6:c.1498A>G (heterozygous)</td><td style=\"text-align: left;\">Patent ductus arteriosus (HP:0001643); Pulmonic stenosis (HP:0001642); Mandibular prognathia (HP:0000303); Narrow palpebral fissure (HP:0045025); Short philtrum (HP:0000322); Thickened calvaria (HP:0002684); Short long bone (HP:0003026); Enlarged vertebral pedicles (HP:0004621); Delayed skeletal maturation (HP:0002750); Generalized muscle hypertrophy (HP:0003720); Short stature (HP:0004322); Limitation of joint mobility (HP:0001376); Short palm (HP:0004279); Short foot (HP:0001773); Global developmental delay (HP:0001263); Psychosis (HP:0000709); Microtia (HP:0008551); Hearing impairment (HP:0000365); Thickened skin (HP:0001072); Velopharyngeal insufficiency (HP:0000220); excluded: Platyspondyly (HP:0000926); excluded: Cone-shaped epiphysis (HP:0010579); excluded: Strabismus (HP:0000486); excluded: Clinodactyly of the 5th finger (HP:0004209); excluded: Hyperactivity (HP:0000752); excluded: Duodenal stenosis (HP:0100867); excluded: Sacral dimple (HP:0000960)</td></tr>\n",
       "<tr><td style=\"text-align: left;\">individual 7 (FEMALE; P4Y6M)</td><td style=\"text-align: left;\">Myhre syndrome (OMIM:139210)</td><td style=\"text-align: left;\">NM_005359.6:c.1499T>C (heterozygous)</td><td style=\"text-align: left;\">Mandibular prognathia (HP:0000303); Short philtrum (HP:0000322); Thickened calvaria (HP:0002684); Short long bone (HP:0003026); Platyspondyly (HP:0000926); Enlarged vertebral pedicles (HP:0004621); Cone-shaped epiphysis (HP:0010579); Generalized muscle hypertrophy (HP:0003720); Strabismus (HP:0000486); Short stature (HP:0004322); Limitation of joint mobility (HP:0001376); Short palm (HP:0004279); Short foot (HP:0001773); Global developmental delay (HP:0001263); Thickened skin (HP:0001072); excluded: Patent ductus arteriosus (HP:0001643); excluded: Pulmonic stenosis (HP:0001642); excluded: Narrow palpebral fissure (HP:0045025); excluded: Clinodactyly of the 5th finger (HP:0004209); excluded: Hyperactivity (HP:0000752); excluded: Psychosis (HP:0000709); excluded: Microtia (HP:0008551); excluded: Hearing impairment (HP:0000365); excluded: Duodenal stenosis (HP:0100867); excluded: Velopharyngeal insufficiency (HP:0000220); excluded: Sacral dimple (HP:0000960)</td></tr>\n",
       "<tr><td style=\"text-align: left;\">individual 8 (MALE; P22Y)</td><td style=\"text-align: left;\">Myhre syndrome (OMIM:139210)</td><td style=\"text-align: left;\">NM_005359.6:c.1500A>G (heterozygous)</td><td style=\"text-align: left;\">Patent ductus arteriosus (HP:0001643); Pulmonic stenosis (HP:0001642); Mandibular prognathia (HP:0000303); Narrow palpebral fissure (HP:0045025); Short philtrum (HP:0000322); Thickened calvaria (HP:0002684); Short long bone (HP:0003026); Platyspondyly (HP:0000926); Enlarged vertebral pedicles (HP:0004621); Cone-shaped epiphysis (HP:0010579); Generalized muscle hypertrophy (HP:0003720); Limitation of joint mobility (HP:0001376); Short palm (HP:0004279); Short foot (HP:0001773); Global developmental delay (HP:0001263); Hearing impairment (HP:0000365); Velopharyngeal insufficiency (HP:0000220); excluded: Strabismus (HP:0000486); excluded: Short stature (HP:0004322); excluded: Clinodactyly of the 5th finger (HP:0004209); excluded: Hyperactivity (HP:0000752); excluded: Psychosis (HP:0000709); excluded: Microtia (HP:0008551); excluded: Thickened skin (HP:0001072); excluded: Duodenal stenosis (HP:0100867); excluded: Sacral dimple (HP:0000960)</td></tr>\n",
       "<tr><td style=\"text-align: left;\">individual 9 (MALE; P15Y)</td><td style=\"text-align: left;\">Myhre syndrome (OMIM:139210)</td><td style=\"text-align: left;\">NM_005359.6:c.1498A>G (heterozygous)</td><td style=\"text-align: left;\">Mandibular prognathia (HP:0000303); Narrow palpebral fissure (HP:0045025); Short philtrum (HP:0000322); Thickened calvaria (HP:0002684); Short long bone (HP:0003026); Platyspondyly (HP:0000926); Enlarged vertebral pedicles (HP:0004621); Generalized muscle hypertrophy (HP:0003720); Strabismus (HP:0000486); Limitation of joint mobility (HP:0001376); Short palm (HP:0004279); Short foot (HP:0001773); Global developmental delay (HP:0001263); Hyperactivity (HP:0000752); Psychosis (HP:0000709); Hearing impairment (HP:0000365); Thickened skin (HP:0001072); Sacral dimple (HP:0000960); excluded: Patent ductus arteriosus (HP:0001643); excluded: Pulmonic stenosis (HP:0001642); excluded: Cone-shaped epiphysis (HP:0010579); excluded: Delayed skeletal maturation (HP:0002750); excluded: Short stature (HP:0004322); excluded: Clinodactyly of the 5th finger (HP:0004209); excluded: Microtia (HP:0008551); excluded: Duodenal stenosis (HP:0100867); excluded: Velopharyngeal insufficiency (HP:0000220)</td></tr>\n",
       "<tr><td style=\"text-align: left;\">individual 10 (FEMALE; P9Y)</td><td style=\"text-align: left;\">Myhre syndrome (OMIM:139210)</td><td style=\"text-align: left;\">NM_005359.6:c.1498A>G (heterozygous)</td><td style=\"text-align: left;\">Mandibular prognathia (HP:0000303); Narrow palpebral fissure (HP:0045025); Short philtrum (HP:0000322); Thickened calvaria (HP:0002684); Short long bone (HP:0003026); Enlarged vertebral pedicles (HP:0004621); Cone-shaped epiphysis (HP:0010579); Delayed skeletal maturation (HP:0002750); Generalized muscle hypertrophy (HP:0003720); Short stature (HP:0004322); Limitation of joint mobility (HP:0001376); Short palm (HP:0004279); Short foot (HP:0001773); Global developmental delay (HP:0001263); Hearing impairment (HP:0000365); Thickened skin (HP:0001072); Velopharyngeal insufficiency (HP:0000220); excluded: Patent ductus arteriosus (HP:0001643); excluded: Pulmonic stenosis (HP:0001642); excluded: Platyspondyly (HP:0000926); excluded: Strabismus (HP:0000486); excluded: Clinodactyly of the 5th finger (HP:0004209); excluded: Hyperactivity (HP:0000752); excluded: Psychosis (HP:0000709); excluded: Microtia (HP:0008551); excluded: Duodenal stenosis (HP:0100867); excluded: Sacral dimple (HP:0000960)</td></tr>\n",
       "<tr><td style=\"text-align: left;\">individual 11 (MALE; P7Y)</td><td style=\"text-align: left;\">Myhre syndrome (OMIM:139210)</td><td style=\"text-align: left;\">NM_005359.6:c.1499T>C (heterozygous)</td><td style=\"text-align: left;\">Mandibular prognathia (HP:0000303); Narrow palpebral fissure (HP:0045025); Short philtrum (HP:0000322); Generalized muscle hypertrophy (HP:0003720); Short stature (HP:0004322); Limitation of joint mobility (HP:0001376); Short palm (HP:0004279); Short foot (HP:0001773); Global developmental delay (HP:0001263); Thickened skin (HP:0001072); excluded: Patent ductus arteriosus (HP:0001643); excluded: Pulmonic stenosis (HP:0001642); excluded: Strabismus (HP:0000486); excluded: Clinodactyly of the 5th finger (HP:0004209); excluded: Hyperactivity (HP:0000752); excluded: Psychosis (HP:0000709); excluded: Microtia (HP:0008551); excluded: Hearing impairment (HP:0000365); excluded: Duodenal stenosis (HP:0100867); excluded: Velopharyngeal insufficiency (HP:0000220); excluded: Sacral dimple (HP:0000960)</td></tr>\n",
       "<tr><td style=\"text-align: left;\">patient (MALE; P14Y)</td><td style=\"text-align: left;\">Myhre syndrome (OMIM:139210)</td><td style=\"text-align: left;\">NM_005359.6:c.1486C>T (heterozygous)</td><td style=\"text-align: left;\"><b>P15Y</b>: Mandibular prognathia (HP:0000303); Highly arched eyebrow (HP:0002553); Long eyelashes (HP:0000527); Small earlobe (HP:0000385); Enlarged vertebral pedicles (HP:0004621); Brachydactyly (HP:0001156); Generalized muscle hypertrophy (HP:0003720); Hypertonia (HP:0001276); Keratosis pilaris (HP:0032152); Kyphosis (HP:0002808); Lumbar hyperlordosis (HP:0002938); Short palm (HP:0004279); Joint stiffness (HP:0001387)<br/>Thickened calvaria (HP:0002684); Speech articulation difficulties (HP:0009088); Hearing impairment (HP:0000365); excluded: Global developmental delay (HP:0001263); excluded: Hyperactivity (HP:0000752); excluded: Psychosis (HP:0000709)</td></tr>\n",
       "</table>"
      ],
      "text/plain": [
       "<IPython.core.display.HTML object>"
      ]
     },
     "metadata": {},
     "output_type": "display_data"
    }
   ],
   "source": [
    "table = IndividualTable(cvalidator.get_error_free_individual_list())\n",
    "display(HTML(table.to_html()))"
   ]
  },
  {
   "cell_type": "code",
   "execution_count": 6,
   "metadata": {},
   "outputs": [
    {
     "name": "stdout",
     "output_type": "stream",
     "text": [
      "[pyphetools] Ingested 12 GA4GH phenopackets.\n",
      "[INFO] Extracted 12 from 12 phenopackets with OMIM:139210\n",
      "\n",
      "\tMyhre syndrome (OMIM:139210): n=12\n",
      "We found a total of 37 unique HPO terms\n",
      "Extracted disease: Myhre syndrome (OMIM:139210)\n",
      "Wrote HPOA disease file to OMIM-139210.tab\n"
     ]
    }
   ],
   "source": [
    "pmid = \"PMID:22158539\"\n",
    "df = timporter.create_hpoa_from_phenopackets(pmid=pmid, moi=\"Autosomal dominant\", target=\"OMIM:139210\")"
   ]
  }
 ],
 "metadata": {
  "kernelspec": {
   "display_name": "ps24venv",
   "language": "python",
   "name": "python3"
  },
  "language_info": {
   "codemirror_mode": {
    "name": "ipython",
    "version": 3
   },
   "file_extension": ".py",
   "mimetype": "text/x-python",
   "name": "python",
   "nbconvert_exporter": "python",
   "pygments_lexer": "ipython3",
   "version": "3.9.6"
  }
 },
 "nbformat": 4,
 "nbformat_minor": 2
}
