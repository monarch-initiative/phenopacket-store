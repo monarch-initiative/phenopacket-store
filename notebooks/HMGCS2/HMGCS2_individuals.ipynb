{
 "cells": [
  {
   "cell_type": "markdown",
   "id": "93cfc282-463d-4f47-8c40-434313670f1c",
   "metadata": {},
   "source": [
    "# HMGCS2\n",
    "[3-hydroxy-3-methylglutaryl-CoA synthase-2 deficiency (HMGCS2D)](https://omim.org/entry/605911) is caused by homozygous or compound heterozygous mutation in the HMGCS2 gene."
   ]
  },
  {
   "cell_type": "code",
   "execution_count": 5,
   "id": "4e102f42-4466-401e-aa15-899f1e232f1a",
   "metadata": {},
   "outputs": [
    {
     "name": "stdout",
     "output_type": "stream",
     "text": [
      "Using pyphetools version 0.9.74\n"
     ]
    }
   ],
   "source": [
    "from pyphetools.creation import TemplateImporter\n",
    "from pyphetools.visualization import IndividualTable, QcVisualizer\n",
    "from IPython.display import display, HTML\n",
    "import pyphetools\n",
    "print(f\"Using pyphetools version {pyphetools.__version__}\")"
   ]
  },
  {
   "cell_type": "code",
   "execution_count": 6,
   "id": "c6227abf-7d21-4f23-b8f5-276176defdd8",
   "metadata": {},
   "outputs": [],
   "source": [
    "template = \"input/HMGCS2_individuals.xlsx\"\n",
    "hp_json = \"../hp.json\"\n",
    "created_by = \"0000-0002-0736-9199\""
   ]
  },
  {
   "cell_type": "code",
   "execution_count": null,
   "id": "8ee76892-8533-4076-99be-f74eebfbccc0",
   "metadata": {},
   "outputs": [],
   "source": [
    "del_set = {\"exon 1 deletion\"}\n",
    "timporter = TemplateImporter(template=template, hp_json=hp_json, created_by=created_by)\n",
    "individual_list, cvalidator = timporter.import_phenopackets_from_template(deletions=del_set)"
   ]
  },
  {
   "cell_type": "code",
   "execution_count": null,
   "id": "a8c6e34b-6865-4c6a-bdb7-7366afc95f86",
   "metadata": {},
   "outputs": [],
   "source": [
    "qc = QcVisualizer(cohort_validator=cvalidator)\n",
    "display(HTML(qc.to_summary_html()))"
   ]
  }
 ],
 "metadata": {
  "kernelspec": {
   "display_name": "Python 3 (ipykernel)",
   "language": "python",
   "name": "python3"
  },
  "language_info": {
   "codemirror_mode": {
    "name": "ipython",
    "version": 3
   },
   "file_extension": ".py",
   "mimetype": "text/x-python",
   "name": "python",
   "nbconvert_exporter": "python",
   "pygments_lexer": "ipython3",
   "version": "3.8.10"
  }
 },
 "nbformat": 4,
 "nbformat_minor": 5
}
