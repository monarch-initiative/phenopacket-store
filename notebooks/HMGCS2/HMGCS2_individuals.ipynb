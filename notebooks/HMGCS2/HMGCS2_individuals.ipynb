{
 "cells": [
  {
   "cell_type": "markdown",
   "id": "93cfc282-463d-4f47-8c40-434313670f1c",
   "metadata": {},
   "source": [
    "# HMGCS2\n",
    "[3-hydroxy-3-methylglutaryl-CoA synthase-2 deficiency (HMGCS2D)](https://omim.org/entry/605911) is caused by homozygous or compound heterozygous mutation in the HMGCS2 gene."
   ]
  },
  {
   "cell_type": "code",
   "execution_count": 5,
   "id": "4e102f42-4466-401e-aa15-899f1e232f1a",
   "metadata": {},
   "outputs": [
    {
     "name": "stdout",
     "output_type": "stream",
     "text": [
      "Using pyphetools version 0.9.74\n"
     ]
    }
   ],
   "source": [
    "from pyphetools.creation import TemplateImporter\n",
    "from pyphetools.visualization import IndividualTable, QcVisualizer\n",
    "from IPython.display import display, HTML\n",
    "import pyphetools\n",
    "print(f\"Using pyphetools version {pyphetools.__version__}\")"
   ]
  },
  {
   "cell_type": "code",
   "execution_count": 6,
   "id": "c6227abf-7d21-4f23-b8f5-276176defdd8",
   "metadata": {},
   "outputs": [],
   "source": [
    "template = \"input/HMGCS2_individuals.xlsx\"\n",
    "hp_json = \"../hp.json\"\n",
    "created_by = \"0000-0002-0736-9199\""
   ]
  },
  {
   "cell_type": "code",
   "execution_count": 15,
   "id": "8ee76892-8533-4076-99be-f74eebfbccc0",
   "metadata": {},
   "outputs": [
    {
     "name": "stdout",
     "output_type": "stream",
     "text": [
      "HPO version 2024-03-06\n",
      "Created encoders for 32 fields\n",
      "Importing OMIM:605911, HMG-CoA synthase-2 deficiency, HGNC:5008, HMGCS2,  NM_005518.4\n",
      "[INFO] encoding variant \"c.920T>C\"\n",
      "https://rest.variantvalidator.org/VariantValidator/variantvalidator/hg38/NM_005518.4%3Ac.920T>C/NM_005518.4?content-type=application%2Fjson\n",
      "[INFO] encoding variant \"c.1016+1G>A\"\n",
      "https://rest.variantvalidator.org/VariantValidator/variantvalidator/hg38/NM_005518.4%3Ac.1016+1G>A/NM_005518.4?content-type=application%2Fjson\n",
      "We output 29 GA4GH phenopackets to the directory phenopackets\n"
     ]
    }
   ],
   "source": [
    "del_set = {\"exon 1 deletion\"}\n",
    "timporter = TemplateImporter(template=template, hp_json=hp_json, created_by=created_by)\n",
    "individual_list, cvalidator = timporter.import_phenopackets_from_template(deletions=del_set)"
   ]
  },
  {
   "cell_type": "code",
   "execution_count": 16,
   "id": "a8c6e34b-6865-4c6a-bdb7-7366afc95f86",
   "metadata": {},
   "outputs": [
    {
     "data": {
      "text/html": [
       "<h2>Cohort validation</h2>\n",
       "<p>No errors found for the cohort with 29 individuals</p>"
      ],
      "text/plain": [
       "<IPython.core.display.HTML object>"
      ]
     },
     "metadata": {},
     "output_type": "display_data"
    }
   ],
   "source": [
    "qc = QcVisualizer(cohort_validator=cvalidator)\n",
    "display(HTML(qc.to_summary_html()))"
   ]
  },
  {
   "cell_type": "code",
   "execution_count": 17,
   "id": "063ed387-5cfd-4e6a-8aec-6c9fdaabaccf",
   "metadata": {},
   "outputs": [
    {
     "data": {
      "text/html": [
       "<table style=\"border: 2px solid black; align: \"left\">\n",
       "<caption>29 phenopackets - PMID:33045405 (n=29)</caption>\n",
       "<tr><th style=\"text-align: left;font-weight: bold;\">Individual</th><th style=\"text-align: left;font-weight: bold;\">Disease</th><th style=\"text-align: left;font-weight: bold;\">Genotype</th><th style=\"text-align: left;font-weight: bold;\">Phenotypic features</th></tr>\n",
       "<tr><td style=\"text-align: left;\">This study patient 1 (MALE; n/a)</td><td style=\"text-align: left;\">HMG-CoA synthase-2 deficiency (OMIM:605911)</td><td style=\"text-align: left;\"><ul> <li>NM_005518.4:c.1480C>T (heterozygous)</li> <li>NM_005518.4:c.1502G>C (heterozygous)</li> </ul></td><td style=\"text-align: left;\">Hepatic steatosis (HP:0001397); Encephalopathy (HP:0001298); Steatorrhea (HP:0002570); Hepatomegaly (HP:0002240); Hypophosphatemia (HP:0002148); Hypoglycemia (HP:0001943); Metabolic acidosis (HP:0001942); Elevated circulating hepatic transaminase concentration (HP:0002910); Ketonuria (HP:0002919); excluded: Coma (HP:0001259); excluded: Seizure (HP:0001250)</td></tr>\n",
       "<tr><td style=\"text-align: left;\">This study patient 2 (FEMALE; n/a)</td><td style=\"text-align: left;\">HMG-CoA synthase-2 deficiency (OMIM:605911)</td><td style=\"text-align: left;\"><ul> <li>NM_005518.4:c.1502G>C (heterozygous)</li> <li>NM_005518.4:c.520T>C (heterozygous)</li> </ul></td><td style=\"text-align: left;\">Coma (HP:0001259); Seizure (HP:0001250); Encephalopathy (HP:0001298); Hypophosphatemia (HP:0002148); Metabolic acidosis (HP:0001942); Elevated circulating hepatic transaminase concentration (HP:0002910); Ketonuria (HP:0002919); Elevated urinary 3-hydroxybutyric acid (HP:0040155); Dicarboxylic aciduria (HP:0003215); excluded: Steatorrhea (HP:0002570); excluded: Hepatomegaly (HP:0002240); excluded: Hypoglycemia (HP:0001943)</td></tr>\n",
       "<tr><td style=\"text-align: left;\">Liu et al. (2019) patient 1 (MALE; n/a)</td><td style=\"text-align: left;\">HMG-CoA synthase-2 deficiency (OMIM:605911)</td><td style=\"text-align: left;\"><ul> <li>NM_005518.4:c.100C>T (heterozygous)</li> <li>NM_005518.4:c.1465del (heterozygous)</li> </ul></td><td style=\"text-align: left;\">Seizure (HP:0001250); Encephalopathy (HP:0001298); Hypoglycemia (HP:0001943); Metabolic acidosis (HP:0001942); Elevated circulating hepatic transaminase concentration (HP:0002910); Elevated urinary 3-hydroxybutyric acid (HP:0040155); Dicarboxylic aciduria (HP:0003215)</td></tr>\n",
       "<tr><td style=\"text-align: left;\">Lee et al. (2019) patient 1 (MALE; n/a)</td><td style=\"text-align: left;\">HMG-CoA synthase-2 deficiency (OMIM:605911)</td><td style=\"text-align: left;\"><ul> <li>NM_005518.4:c.130dup (heterozygous)</li> <li>NM_005518.4:c.1156dup (heterozygous)</li> </ul></td><td style=\"text-align: left;\">Coma (HP:0001259); Hepatic steatosis (HP:0001397); Seizure (HP:0001250); Encephalopathy (HP:0001298); Hepatomegaly (HP:0002240); Metabolic acidosis (HP:0001942); Elevated circulating hepatic transaminase concentration (HP:0002910); Increased circulating free fatty acid level (HP:0030781); Ketonuria (HP:0002919); Elevated urinary 3-hydroxybutyric acid (HP:0040155); Dicarboxylic aciduria (HP:0003215); excluded: Hypoglycemia (HP:0001943)</td></tr>\n",
       "<tr><td style=\"text-align: left;\">Zhang et al. (2019) patient 1 (FEMALE; n/a)</td><td style=\"text-align: left;\">HMG-CoA synthase-2 deficiency (OMIM:605911)</td><td style=\"text-align: left;\"><ul> <li>NM_005518.4:c.1347_1351del (heterozygous)</li> <li>NM_005518.4:c.1201G>T (heterozygous)</li> </ul></td><td style=\"text-align: left;\">Coma (HP:0001259); Hepatic steatosis (HP:0001397); Encephalopathy (HP:0001298); Hepatomegaly (HP:0002240); Metabolic acidosis (HP:0001942); Elevated circulating hepatic transaminase concentration (HP:0002910); Elevated urinary 3-hydroxybutyric acid (HP:0040155); Dicarboxylic aciduria (HP:0003215)</td></tr>\n",
       "<tr><td style=\"text-align: left;\">Ma and Yu (2018) patient 1 (FEMALE; n/a)</td><td style=\"text-align: left;\">HMG-CoA synthase-2 deficiency (OMIM:605911)</td><td style=\"text-align: left;\">NM_005518.4:c.1502G>A (homozygous)</td><td style=\"text-align: left;\">Seizure (HP:0001250); Hypoglycemia (HP:0001943); Metabolic acidosis (HP:0001942); Elevated circulating hepatic transaminase concentration (HP:0002910); Dicarboxylic aciduria (HP:0003215); excluded: Coma (HP:0001259)</td></tr>\n",
       "<tr><td style=\"text-align: left;\">Puisac et al. (2018) patient 2 (MALE; n/a)</td><td style=\"text-align: left;\">HMG-CoA synthase-2 deficiency (OMIM:605911)</td><td style=\"text-align: left;\">NM_005518.4:c.430G>T (homozygous)</td><td style=\"text-align: left;\">Encephalopathy (HP:0001298); Hypoglycemia (HP:0001943); Elevated circulating hepatic transaminase concentration (HP:0002910); Ketonuria (HP:0002919); Dicarboxylic aciduria (HP:0003215); excluded: Coma (HP:0001259); excluded: Hepatomegaly (HP:0002240); excluded: Metabolic acidosis (HP:0001942)</td></tr>\n",
       "<tr><td style=\"text-align: left;\">Puisac et al. (2018) patient 3 (MALE; n/a)</td><td style=\"text-align: left;\">HMG-CoA synthase-2 deficiency (OMIM:605911)</td><td style=\"text-align: left;\">NM_005518.4:c.1514G>A (homozygous)</td><td style=\"text-align: left;\">Seizure (HP:0001250); Hypoglycemia (HP:0001943); Elevated circulating hepatic transaminase concentration (HP:0002910); Ketonuria (HP:0002919); Dicarboxylic aciduria (HP:0003215); excluded: Coma (HP:0001259); excluded: Encephalopathy (HP:0001298); excluded: Hepatomegaly (HP:0002240); excluded: Metabolic acidosis (HP:0001942)</td></tr>\n",
       "<tr><td style=\"text-align: left;\">Conboy et al., 2017 Patient 1 (MALE; n/a)</td><td style=\"text-align: left;\">HMG-CoA synthase-2 deficiency (OMIM:605911)</td><td style=\"text-align: left;\"><ul> <li>NM_005518.4:c.409A>T (heterozygous)</li> <li>NM_005518.4:c.1141A>G (heterozygous)</li> </ul></td><td style=\"text-align: left;\">Coma (HP:0001259); Seizure (HP:0001250); Hepatomegaly (HP:0002240); Metabolic acidosis (HP:0001942); Elevated circulating hepatic transaminase concentration (HP:0002910); Ketonuria (HP:0002919); Elevated urinary 3-hydroxybutyric acid (HP:0040155); Dicarboxylic aciduria (HP:0003215); excluded: Hypoglycemia (HP:0001943)</td></tr>\n",
       "<tr><td style=\"text-align: left;\">Pitt et al., 2015 A1-1 (UNKNOWN; n/a)</td><td style=\"text-align: left;\">HMG-CoA synthase-2 deficiency (OMIM:605911)</td><td style=\"text-align: left;\">exon 1 deletion: chromosomal_deletion (SO:1000029)</td><td style=\"text-align: left;\">Hepatomegaly (HP:0002240); Hypoglycemia (HP:0001943); Metabolic acidosis (HP:0001942); Increased circulating free fatty acid level (HP:0030781); Dicarboxylic aciduria (HP:0003215)</td></tr>\n",
       "<tr><td style=\"text-align: left;\">Pitt et al., 2015 A1-2 (UNKNOWN; n/a)</td><td style=\"text-align: left;\">HMG-CoA synthase-2 deficiency (OMIM:605911)</td><td style=\"text-align: left;\">exon 1 deletion: chromosomal_deletion (SO:1000029)</td><td style=\"text-align: left;\">Hepatomegaly (HP:0002240); Hypoglycemia (HP:0001943); Metabolic acidosis (HP:0001942); Increased circulating free fatty acid level (HP:0030781); Dicarboxylic aciduria (HP:0003215)</td></tr>\n",
       "<tr><td style=\"text-align: left;\">Pitt et al., 2015 A1-3 (UNKNOWN; n/a)</td><td style=\"text-align: left;\">HMG-CoA synthase-2 deficiency (OMIM:605911)</td><td style=\"text-align: left;\">exon 1 deletion: chromosomal_deletion (SO:1000029)</td><td style=\"text-align: left;\">Hepatomegaly (HP:0002240); Hypoglycemia (HP:0001943); Metabolic acidosis (HP:0001942); Increased circulating free fatty acid level (HP:0030781); Elevated urinary 3-hydroxybutyric acid (HP:0040155); Dicarboxylic aciduria (HP:0003215)</td></tr>\n",
       "<tr><td style=\"text-align: left;\">Pitt et al., 2015 A1-4 (UNKNOWN; n/a)</td><td style=\"text-align: left;\">HMG-CoA synthase-2 deficiency (OMIM:605911)</td><td style=\"text-align: left;\">exon 1 deletion: chromosomal_deletion (SO:1000029)</td><td style=\"text-align: left;\">Hepatomegaly (HP:0002240); Hypoglycemia (HP:0001943); Metabolic acidosis (HP:0001942); Increased circulating free fatty acid level (HP:0030781); Dicarboxylic aciduria (HP:0003215)</td></tr>\n",
       "<tr><td style=\"text-align: left;\">Pitt et al., 2015 A2-1 (UNKNOWN; n/a)</td><td style=\"text-align: left;\">HMG-CoA synthase-2 deficiency (OMIM:605911)</td><td style=\"text-align: left;\"><ul> <li>NM_005518.4:c.797T>C (heterozygous)</li> <li>NM_005518.4:c.1220T>C (heterozygous)</li> </ul></td><td style=\"text-align: left;\">Hypoglycemia (HP:0001943); Increased circulating free fatty acid level (HP:0030781); Dicarboxylic aciduria (HP:0003215)</td></tr>\n",
       "<tr><td style=\"text-align: left;\">Pitt et al., 2015 A3-1 (UNKNOWN; n/a)</td><td style=\"text-align: left;\">HMG-CoA synthase-2 deficiency (OMIM:605911)</td><td style=\"text-align: left;\">NM_005518.4:c.1162G>A (homozygous)</td><td style=\"text-align: left;\">Hepatomegaly (HP:0002240); Hypoglycemia (HP:0001943); Metabolic acidosis (HP:0001942); Increased circulating free fatty acid level (HP:0030781); Dicarboxylic aciduria (HP:0003215)</td></tr>\n",
       "<tr><td style=\"text-align: left;\">Pitt et al., 2015 A4-1 (UNKNOWN; n/a)</td><td style=\"text-align: left;\">HMG-CoA synthase-2 deficiency (OMIM:605911)</td><td style=\"text-align: left;\"><ul> <li>NM_005518.4:c.506G>A (heterozygous)</li> <li>NM_005518.4:c.1514G>A (heterozygous)</li> </ul></td><td style=\"text-align: left;\">Hypoglycemia (HP:0001943); Dicarboxylic aciduria (HP:0003215)</td></tr>\n",
       "<tr><td style=\"text-align: left;\">Pitt et al., 2015 B1-1 (UNKNOWN; n/a)</td><td style=\"text-align: left;\">HMG-CoA synthase-2 deficiency (OMIM:605911)</td><td style=\"text-align: left;\">exon 1 deletion: chromosomal_deletion (SO:1000029)</td><td style=\"text-align: left;\">Coma (HP:0001259); Seizure (HP:0001250); Hypoglycemia (HP:0001943); Metabolic acidosis (HP:0001942)</td></tr>\n",
       "<tr><td style=\"text-align: left;\">Pitt et al., 2015 B2-1 (UNKNOWN; n/a)</td><td style=\"text-align: left;\">HMG-CoA synthase-2 deficiency (OMIM:605911)</td><td style=\"text-align: left;\"><ul> <li>NM_005518.4:c.634G>A (heterozygous)</li> <li>NM_005518.4:c.431_432del (heterozygous)</li> </ul></td><td style=\"text-align: left;\">Coma (HP:0001259); Seizure (HP:0001250); Hypoglycemia (HP:0001943); Metabolic acidosis (HP:0001942)</td></tr>\n",
       "<tr><td style=\"text-align: left;\">Pitt et al., 2015 B3-1 (UNKNOWN; n/a)</td><td style=\"text-align: left;\">HMG-CoA synthase-2 deficiency (OMIM:605911)</td><td style=\"text-align: left;\"><ul> <li>NM_005518.4:c.847C>T (heterozygous)</li> <li>NM_005518.4:c.695G>T (heterozygous)</li> </ul></td><td style=\"text-align: left;\">Coma (HP:0001259); Seizure (HP:0001250); Hypoglycemia (HP:0001943); Metabolic acidosis (HP:0001942)</td></tr>\n",
       "<tr><td style=\"text-align: left;\">Pitt et al., 2015 B4-1 (UNKNOWN; n/a)</td><td style=\"text-align: left;\">HMG-CoA synthase-2 deficiency (OMIM:605911)</td><td style=\"text-align: left;\"><ul> <li>NM_005518.4:c.553T>C (heterozygous)</li> <li>NM_005518.4:c.1508A>G (heterozygous)</li> </ul></td><td style=\"text-align: left;\">Coma (HP:0001259); Seizure (HP:0001250); Hypoglycemia (HP:0001943); Metabolic acidosis (HP:0001942)</td></tr>\n",
       "<tr><td style=\"text-align: left;\">Pitt et al., 2015 B5-1 (UNKNOWN; n/a)</td><td style=\"text-align: left;\">HMG-CoA synthase-2 deficiency (OMIM:605911)</td><td style=\"text-align: left;\">NM_005518.4:c.1078T>C (homozygous)</td><td style=\"text-align: left;\">Coma (HP:0001259); Seizure (HP:0001250); Hypoglycemia (HP:0001943); Metabolic acidosis (HP:0001942)</td></tr>\n",
       "<tr><td style=\"text-align: left;\">Pitt et al., 2015 B6-1 (UNKNOWN; n/a)</td><td style=\"text-align: left;\">HMG-CoA synthase-2 deficiency (OMIM:605911)</td><td style=\"text-align: left;\">NM_005518.4:c.502G>A (homozygous)</td><td style=\"text-align: left;\">Coma (HP:0001259); Seizure (HP:0001250); Hypoglycemia (HP:0001943); Metabolic acidosis (HP:0001942)</td></tr>\n",
       "<tr><td style=\"text-align: left;\">Ramos et al., 2013 Proband (MALE; n/a)</td><td style=\"text-align: left;\">HMG-CoA synthase-2 deficiency (OMIM:605911)</td><td style=\"text-align: left;\"><ul> <li>NM_005518.4:c.1162G>A (heterozygous)</li> <li>NM_005518.4:c.1270C>T (heterozygous)</li> </ul></td><td style=\"text-align: left;\">Hepatomegaly (HP:0002240); Hypoglycemia (HP:0001943); Elevated circulating hepatic transaminase concentration (HP:0002910); Increased circulating free fatty acid level (HP:0030781); Ketonuria (HP:0002919); Dicarboxylic aciduria (HP:0003215)</td></tr>\n",
       "<tr><td style=\"text-align: left;\">Aledo et al. (2006) Proband (MALE; n/a)</td><td style=\"text-align: left;\">HMG-CoA synthase-2 deficiency (OMIM:605911)</td><td style=\"text-align: left;\"><ul> <li>NM_005518.4:c.563G>A (heterozygous)</li> <li>NM_005518.4:c.920T>C (heterozygous)</li> </ul></td><td style=\"text-align: left;\">Coma (HP:0001259); Encephalopathy (HP:0001298); Hepatomegaly (HP:0002240); Hypoglycemia (HP:0001943); Metabolic acidosis (HP:0001942); Dicarboxylic aciduria (HP:0003215); excluded: Elevated circulating hepatic transaminase concentration (HP:0002910); excluded: Ketonuria (HP:0002919)</td></tr>\n",
       "<tr><td style=\"text-align: left;\">Wolf et al., 2003 Proband (FEMALE; n/a)</td><td style=\"text-align: left;\">HMG-CoA synthase-2 deficiency (OMIM:605911)</td><td style=\"text-align: left;\"><ul> <li>NM_005518.4:c.160G>A (heterozygous)</li> <li>NM_005518.4:c.500A>G (heterozygous)</li> </ul></td><td style=\"text-align: left;\">Coma (HP:0001259); Hepatic steatosis (HP:0001397); Hepatomegaly (HP:0002240); Hypophosphatemia (HP:0002148); Hypoglycemia (HP:0001943); Metabolic acidosis (HP:0001942); Elevated circulating hepatic transaminase concentration (HP:0002910); Increased circulating free fatty acid level (HP:0030781); Dicarboxylic aciduria (HP:0003215)</td></tr>\n",
       "<tr><td style=\"text-align: left;\">Zschocke et al., 2002 Proband (FEMALE; n/a)</td><td style=\"text-align: left;\">HMG-CoA synthase-2 deficiency (OMIM:605911)</td><td style=\"text-align: left;\"><ul> <li>NM_005518.4:c.634G>A (heterozygous)</li> <li>NM_005518.4:c.1016+1G>A (heterozygous)</li> </ul></td><td style=\"text-align: left;\">Coma (HP:0001259); Hepatomegaly (HP:0002240); Hypoglycemia (HP:0001943); Increased circulating free fatty acid level (HP:0030781); Dicarboxylic aciduria (HP:0003215); excluded: Elevated circulating hepatic transaminase concentration (HP:0002910); excluded: Ketonuria (HP:0002919)</td></tr>\n",
       "<tr><td style=\"text-align: left;\">Aledo et al., 2001 Proband (MALE; n/a)</td><td style=\"text-align: left;\">HMG-CoA synthase-2 deficiency (OMIM:605911)</td><td style=\"text-align: left;\"><ul> <li>NM_005518.4:c.634G>A (heterozygous)</li> <li>NM_005518.4:c.1499G>A (heterozygous)</li> </ul></td><td style=\"text-align: left;\">Coma (HP:0001259); Encephalopathy (HP:0001298); Hepatomegaly (HP:0002240); Hypoglycemia (HP:0001943); Elevated circulating hepatic transaminase concentration (HP:0002910); Increased circulating free fatty acid level (HP:0030781); Dicarboxylic aciduria (HP:0003215)</td></tr>\n",
       "<tr><td style=\"text-align: left;\">Bouchard et al. (2001)a Patient 1 (MALE; n/a)</td><td style=\"text-align: left;\">HMG-CoA synthase-2 deficiency (OMIM:605911)</td><td style=\"text-align: left;\">NM_005518.4:c.520T>C (homozygous)</td><td style=\"text-align: left;\">Coma (HP:0001259); Seizure (HP:0001250); Hypoglycemia (HP:0001943); Increased circulating free fatty acid level (HP:0030781); excluded: Elevated circulating hepatic transaminase concentration (HP:0002910); excluded: Ketonuria (HP:0002919); excluded: Elevated urinary 3-hydroxybutyric acid (HP:0040155); excluded: Dicarboxylic aciduria (HP:0003215)</td></tr>\n",
       "<tr><td style=\"text-align: left;\">Bouchard et al. (2001)a Patient 2 (MALE; n/a)</td><td style=\"text-align: left;\">HMG-CoA synthase-2 deficiency (OMIM:605911)</td><td style=\"text-align: left;\">NM_005518.4:c.1270C>T (homozygous)</td><td style=\"text-align: left;\">Coma (HP:0001259); Encephalopathy (HP:0001298); Hepatomegaly (HP:0002240); Hypoglycemia (HP:0001943); Elevated circulating hepatic transaminase concentration (HP:0002910); Increased circulating free fatty acid level (HP:0030781); Dicarboxylic aciduria (HP:0003215); excluded: Hepatic steatosis (HP:0001397); excluded: Ketonuria (HP:0002919)</td></tr>\n",
       "</table>"
      ],
      "text/plain": [
       "<IPython.core.display.HTML object>"
      ]
     },
     "metadata": {},
     "output_type": "display_data"
    }
   ],
   "source": [
    "table = IndividualTable(cvalidator.get_error_free_individual_list())\n",
    "display(HTML(table.to_html()))"
   ]
  },
  {
   "cell_type": "code",
   "execution_count": 18,
   "id": "fafcfc31-aedf-4eef-a6a5-60bc263834d8",
   "metadata": {},
   "outputs": [
    {
     "name": "stdout",
     "output_type": "stream",
     "text": [
      "[pyphetools] Ingested 29 GA4GH phenopackets.\n",
      "\tHMG-CoA synthase-2 deficiency (OMIM:605911): n=29\n",
      "We found a total of 14 unique HPO terms\n",
      "Extracted disease: HMG-CoA synthase-2 deficiency (OMIM:605911)\n",
      "Wrote HPOA disease file to OMIM-605911.tab\n"
     ]
    }
   ],
   "source": [
    "pmid = \"PMID:33045405\"\n",
    "df = timporter.create_hpoa_from_phenopackets(pmid=pmid, moi=\"Autosomal recessive\")"
   ]
  },
  {
   "cell_type": "code",
   "execution_count": null,
   "id": "d3df2806-45ea-4285-8e82-7a89feb01e62",
   "metadata": {},
   "outputs": [],
   "source": []
  }
 ],
 "metadata": {
  "kernelspec": {
   "display_name": "Python 3 (ipykernel)",
   "language": "python",
   "name": "python3"
  },
  "language_info": {
   "codemirror_mode": {
    "name": "ipython",
    "version": 3
   },
   "file_extension": ".py",
   "mimetype": "text/x-python",
   "name": "python",
   "nbconvert_exporter": "python",
   "pygments_lexer": "ipython3",
   "version": "3.8.10"
  }
 },
 "nbformat": 4,
 "nbformat_minor": 5
}
