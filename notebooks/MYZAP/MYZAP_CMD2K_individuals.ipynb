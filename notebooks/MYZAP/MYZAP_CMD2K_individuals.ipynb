{
 "cells": [
  {
   "cell_type": "markdown",
   "metadata": {},
   "source": [
    "# MYZAP\n",
    "[dilated cardiomyopathy-2K (CMD2K)](https://omim.org/entry/620894) is caused by homozygous or compound heterozygous mutation within the GRINL1A complex transcription unit on chromosome 15q21, affecting the MYZAP (614071) and or GCOM1 (see 614071) genes."
   ]
  },
  {
   "cell_type": "code",
   "execution_count": 1,
   "metadata": {},
   "outputs": [
    {
     "name": "stdout",
     "output_type": "stream",
     "text": [
      "Using pyphetools version 0.9.117\n"
     ]
    }
   ],
   "source": [
    "from pyphetools.creation import TemplateImporter, Moi\n",
    "from pyphetools.visualization import IndividualTable, QcVisualizer\n",
    "from IPython.display import display, HTML\n",
    "import pyphetools\n",
    "print(f\"Using pyphetools version {pyphetools.__version__}\")"
   ]
  },
  {
   "cell_type": "code",
   "execution_count": 4,
   "metadata": {},
   "outputs": [
    {
     "name": "stdout",
     "output_type": "stream",
     "text": [
      "HPO version 2025-01-16\n",
      "Created encoders for 32 fields\n",
      "Importing OMIM:620894, Cardiomyopathy, dilated, 2K, HGNC:43444, MYZAP,  NM_001018100.5\n",
      "We output 4 GA4GH phenopackets to the directory phenopackets\n"
     ]
    }
   ],
   "source": [
    "template = \"input/MYZAP_CMD2K_individuals.xlsx\"\n",
    "created_by = \"0000-0002-0736-9199\"\n",
    "timporter = TemplateImporter(template=template,  created_by=created_by)\n",
    "individual_list, cvalidator = timporter.import_phenopackets_from_template()"
   ]
  },
  {
   "cell_type": "code",
   "execution_count": 5,
   "metadata": {},
   "outputs": [
    {
     "data": {
      "text/html": [
       "<h2>Cohort validation</h2>\n",
       "<p>Errors found with 4 of 4 phenopackets.</p>\n",
       "<table style=\"border: 2px solid black; align: \"left\">\n",
       "<caption>Error counts</caption>\n",
       "<tr><th style=\"text-align: left;font-weight: bold;\">Level</th><th style=\"text-align: left;font-weight: bold;\">Error category</th><th style=\"text-align: left;font-weight: bold;\">Count</th></tr>\n",
       "<tr><td style=\"text-align: left;\">WARNING</td><td style=\"text-align: left;\">REDUNDANT</td><td style=\"text-align: left;\">4</td></tr>\n",
       "</table>\n",
       "<p>A total of 4 issues were fixed and no individual was removed from the cohort.</p>"
      ],
      "text/plain": [
       "<IPython.core.display.HTML object>"
      ]
     },
     "metadata": {},
     "output_type": "display_data"
    }
   ],
   "source": [
    "qc = QcVisualizer(cohort_validator=cvalidator)\n",
    "display(HTML(qc.to_summary_html()))"
   ]
  },
  {
   "cell_type": "code",
   "execution_count": 6,
   "metadata": {},
   "outputs": [
    {
     "data": {
      "text/html": [
       "<table style=\"border: 2px solid black; align: \"left\">\n",
       "<caption>4 phenopackets - PMID:35840178 (n=2); PMID:38436102 (n=2)</caption>\n",
       "<tr><th style=\"text-align: left;font-weight: bold;\">Individual</th><th style=\"text-align: left;font-weight: bold;\">Disease</th><th style=\"text-align: left;font-weight: bold;\">Genotype</th><th style=\"text-align: left;font-weight: bold;\">Phenotypic features</th></tr>\n",
       "<tr><td style=\"text-align: left;\">brother of proband II-2 (MALE; P16Y5M)</td><td style=\"text-align: left;\">Cardiomyopathy, dilated, 2K (OMIM:620894)</td><td style=\"text-align: left;\">NM_001018100.5:c.236C>A (homozygous)</td><td style=\"text-align: left;\">Myocardial fibrosis (HP:0001685): onset ; excluded: Ventricular tachycardia (HP:0004756): onset <br/><b>TimeElement(element=Age(iso8601duration=P14Y6M))</b>: Dilated cardiomyopathy (HP:0001644): onset age {\n",
       "  iso8601duration: \"P14Y6M\"\n",
       "}\n",
       "; Congestive heart failure (HP:0001635): onset age {\n",
       "  iso8601duration: \"P14Y6M\"\n",
       "}\n",
       "; Severely reduced left ventricular ejection fraction (HP:0012666): onset age {\n",
       "  iso8601duration: \"P14Y6M\"\n",
       "}\n",
       "; Increased circulating NT-proBNP concentration (HP:0031185): onset age {\n",
       "  iso8601duration: \"P14Y6M\"\n",
       "}\n",
       "</td></tr>\n",
       "<tr><td style=\"text-align: left;\">proband II-1 (MALE; P23Y)</td><td style=\"text-align: left;\">Cardiomyopathy, dilated, 2K (OMIM:620894)</td><td style=\"text-align: left;\">NM_001018100.5:c.236C>A (homozygous)</td><td style=\"text-align: left;\">Dilated cardiomyopathy (HP:0001644): onset ; Myocardial fibrosis (HP:0001685): onset ; Ventricular tachycardia (HP:0004756): onset ; Increased circulating NT-proBNP concentration (HP:0031185): onset <br/><b>TimeElement(element=Age(iso8601duration=P21Y))</b>: Severely reduced left ventricular ejection fraction (HP:0012666): onset age {\n",
       "  iso8601duration: \"P21Y\"\n",
       "}\n",
       "</td></tr>\n",
       "<tr><td style=\"text-align: left;\">proband (FEMALE; P35Y)</td><td style=\"text-align: left;\">Cardiomyopathy, dilated, 2K (OMIM:620894)</td><td style=\"text-align: left;\"><ul> <li>NM_001018100.5:c.933+1G>A (heterozygous)</li> <li>NM_001018100.5:c.349C>T (heterozygous)</li> </ul></td><td style=\"text-align: left;\">Dilated cardiomyopathy (HP:0001644): onset ; Premature ventricular contraction (HP:0006682): onset ; Myocardial fibrosis (HP:0001685): onset ; Ventricular tachycardia (HP:0004756): onset ; Dyspnea (HP:0002094): onset ; Palpitations (HP:0001962): onset ; excluded: Severely reduced left ventricular ejection fraction (HP:0012666): onset <br/><b>TimeElement(element=Age(iso8601duration=P35Y))</b>: Mildly reduced left ventricular ejection fraction (HP:0012663): onset age {\n",
       "  iso8601duration: \"P35Y\"\n",
       "}\n",
       "</td></tr>\n",
       "<tr><td style=\"text-align: left;\">sister (FEMALE; P32Y)</td><td style=\"text-align: left;\">Cardiomyopathy, dilated, 2K (OMIM:620894)</td><td style=\"text-align: left;\"><ul> <li>NM_001018100.5:c.933+1G>A (heterozygous)</li> <li>NM_001018100.5:c.349C>T (heterozygous)</li> </ul></td><td style=\"text-align: left;\">Dilated cardiomyopathy (HP:0001644): onset ; Myocardial fibrosis (HP:0001685): onset ; Ventricular tachycardia (HP:0004756): onset ; excluded: Premature ventricular contraction (HP:0006682): onset ; excluded: Severely reduced left ventricular ejection fraction (HP:0012666): onset <br/><b>TimeElement(element=Age(iso8601duration=P32Y))</b>: Moderately reduced left ventricular ejection fraction (HP:0012665): onset age {\n",
       "  iso8601duration: \"P32Y\"\n",
       "}\n",
       "</td></tr>\n",
       "</table>"
      ],
      "text/plain": [
       "<IPython.core.display.HTML object>"
      ]
     },
     "metadata": {},
     "output_type": "display_data"
    }
   ],
   "source": [
    "table = IndividualTable(cvalidator.get_error_free_individual_list())\n",
    "display(HTML(table.to_html()))"
   ]
  },
  {
   "cell_type": "code",
   "execution_count": 7,
   "metadata": {},
   "outputs": [
    {
     "name": "stdout",
     "output_type": "stream",
     "text": [
      "[pyphetools] Ingested 4 GA4GH phenopackets.\n",
      "[INFO] Extracted 4 from 4 phenopackets with OMIM:620894\n",
      "\n",
      "\tCardiomyopathy, dilated, 2K (OMIM:620894): n=4\n",
      "We found a total of 11 unique HPO terms\n",
      "Extracted disease: Cardiomyopathy, dilated, 2K (OMIM:620894)\n",
      "Wrote HPOA disease file to OMIM-620894.tab\n"
     ]
    }
   ],
   "source": [
    "pmid = \"PMID:35840178\"\n",
    "df = timporter.create_hpoa_from_phenopackets(pmid=pmid, mode_of_inheritance=Moi.AR, target=\"OMIM:620894\")"
   ]
  }
 ],
 "metadata": {
  "kernelspec": {
   "display_name": "ps24venv",
   "language": "python",
   "name": "python3"
  },
  "language_info": {
   "codemirror_mode": {
    "name": "ipython",
    "version": 3
   },
   "file_extension": ".py",
   "mimetype": "text/x-python",
   "name": "python",
   "nbconvert_exporter": "python",
   "pygments_lexer": "ipython3",
   "version": "3.12.9"
  }
 },
 "nbformat": 4,
 "nbformat_minor": 2
}
