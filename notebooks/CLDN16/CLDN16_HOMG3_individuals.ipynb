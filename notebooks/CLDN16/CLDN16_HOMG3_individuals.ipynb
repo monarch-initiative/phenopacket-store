{
 "cells": [
  {
   "cell_type": "markdown",
   "id": "7521ec81-d7c8-49ea-8c24-6f8ba0a8cf2c",
   "metadata": {},
   "source": [
    "# CLDN16\n",
    "[hypomagnesemia-3 (HOMG3)](https://omim.org/entry/248250) is caused by homozygous or compound heterozygous mutation in the claudin-16 gene (CLDN16)."
   ]
  },
  {
   "cell_type": "code",
   "execution_count": 5,
   "id": "72abac12-b510-4940-877d-2696eca5df16",
   "metadata": {},
   "outputs": [
    {
     "name": "stdout",
     "output_type": "stream",
     "text": [
      "Using pyphetools version 0.9.74\n"
     ]
    }
   ],
   "source": [
    "from pyphetools.creation import TemplateImporter\n",
    "from pyphetools.visualization import IndividualTable, QcVisualizer\n",
    "from IPython.display import display, HTML\n",
    "import pyphetools\n",
    "print(f\"Using pyphetools version {pyphetools.__version__}\")"
   ]
  },
  {
   "cell_type": "code",
   "execution_count": 6,
   "id": "78db2e95-b29f-412d-a699-8107c7819c85",
   "metadata": {},
   "outputs": [],
   "source": [
    "template = \"input/CLDN16_HOMG3_individuals.xlsx\"\n",
    "hp_json = \"../hp.json\"\n",
    "created_by = \"0000-0002-0736-9199\""
   ]
  },
  {
   "cell_type": "code",
   "execution_count": 19,
   "id": "b8503b7c-dbda-4dd5-b617-8d89d76f736c",
   "metadata": {},
   "outputs": [
    {
     "name": "stdout",
     "output_type": "stream",
     "text": [
      "HPO version 2024-04-03\n",
      "Created encoders for 69 fields\n",
      "Importing OMIM:248250, Hypomagnesemia 3, renal, HGNC:2037, CLDN16,  NM_006580.4\n",
      "[INFO] encoding variant \"c.574+1G>T\"\n",
      "https://rest.variantvalidator.org/VariantValidator/variantvalidator/hg38/NM_006580.4%3Ac.574+1G>T/NM_006580.4?content-type=application%2Fjson\n",
      "[INFO] encoding variant \"c.130C>T\"\n",
      "https://rest.variantvalidator.org/VariantValidator/variantvalidator/hg38/NM_006580.4%3Ac.130C>T/NM_006580.4?content-type=application%2Fjson\n",
      "[INFO] encoding variant \"c.437G>A\"\n",
      "https://rest.variantvalidator.org/VariantValidator/variantvalidator/hg38/NM_006580.4%3Ac.437G>A/NM_006580.4?content-type=application%2Fjson\n",
      "[INFO] encoding variant \"c.80A>G\"\n",
      "https://rest.variantvalidator.org/VariantValidator/variantvalidator/hg38/NM_006580.4%3Ac.80A>G/NM_006580.4?content-type=application%2Fjson\n",
      "[INFO] encoding variant \"c.217+5G>A\"\n",
      "https://rest.variantvalidator.org/VariantValidator/variantvalidator/hg38/NM_006580.4%3Ac.217+5G>A/NM_006580.4?content-type=application%2Fjson\n",
      "We output 46 GA4GH phenopackets to the directory phenopackets\n"
     ]
    }
   ],
   "source": [
    "dels = {\"E4_E5del\", \"E2_E5del\"}\n",
    "timporter = TemplateImporter(template=template, hp_json=hp_json, created_by=created_by)\n",
    "individual_list, cvalidator = timporter.import_phenopackets_from_template(deletions=dels)"
   ]
  },
  {
   "cell_type": "code",
   "execution_count": null,
   "id": "257eb948-90f9-4046-a3cb-c4624eb3360c",
   "metadata": {},
   "outputs": [],
   "source": []
  }
 ],
 "metadata": {
  "kernelspec": {
   "display_name": "Python 3 (ipykernel)",
   "language": "python",
   "name": "python3"
  },
  "language_info": {
   "codemirror_mode": {
    "name": "ipython",
    "version": 3
   },
   "file_extension": ".py",
   "mimetype": "text/x-python",
   "name": "python",
   "nbconvert_exporter": "python",
   "pygments_lexer": "ipython3",
   "version": "3.8.10"
  }
 },
 "nbformat": 4,
 "nbformat_minor": 5
}
