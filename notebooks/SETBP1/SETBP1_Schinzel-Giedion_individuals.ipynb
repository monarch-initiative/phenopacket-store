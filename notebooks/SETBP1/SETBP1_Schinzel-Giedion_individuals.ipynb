{
 "cells": [
  {
   "cell_type": "markdown",
   "metadata": {},
   "source": [
    "# SETBP1\n",
    "[Schinzel-Giedion midface retraction syndrome]() is caused by heterozygous de novo mutation in the SETBP1 gene."
   ]
  },
  {
   "cell_type": "code",
   "execution_count": 5,
   "metadata": {},
   "outputs": [
    {
     "name": "stdout",
     "output_type": "stream",
     "text": [
      "Using pyphetools version 0.9.91\n"
     ]
    }
   ],
   "source": [
    "from pyphetools.creation import TemplateImporter\n",
    "from pyphetools.visualization import IndividualTable, QcVisualizer\n",
    "from IPython.display import display, HTML\n",
    "import pyphetools\n",
    "print(f\"Using pyphetools version {pyphetools.__version__}\")"
   ]
  },
  {
   "cell_type": "code",
   "execution_count": 6,
   "metadata": {},
   "outputs": [],
   "source": [
    "template = \"input/SETBP1_Schinzel-Giedion_individuals.xlsx\"\n",
    "created_by = \"0000-0002-0736-9199\""
   ]
  },
  {
   "cell_type": "code",
   "execution_count": 9,
   "metadata": {},
   "outputs": [
    {
     "name": "stdout",
     "output_type": "stream",
     "text": [
      "HPO version 2024-04-26\n",
      "Created encoders for 87 fields\n",
      "Importing OMIM:269150, Schinzel-Giedion midface retraction syndrome, HGNC:15573, SETBP1,  NM_015559.3\n",
      "We output 1 GA4GH phenopackets to the directory phenopackets\n"
     ]
    }
   ],
   "source": [
    "timporter = TemplateImporter(template=template,  created_by=created_by)\n",
    "individual_list, cvalidator = timporter.import_phenopackets_from_template()"
   ]
  },
  {
   "cell_type": "code",
   "execution_count": 10,
   "metadata": {},
   "outputs": [
    {
     "data": {
      "text/html": [
       "<h2>Cohort validation</h2>\n",
       "<p>No errors found for the cohort with 1 individuals</p>"
      ],
      "text/plain": [
       "<IPython.core.display.HTML object>"
      ]
     },
     "metadata": {},
     "output_type": "display_data"
    }
   ],
   "source": [
    "qc = QcVisualizer(cohort_validator=cvalidator)\n",
    "display(HTML(qc.to_summary_html()))"
   ]
  },
  {
   "cell_type": "code",
   "execution_count": 11,
   "metadata": {},
   "outputs": [
    {
     "data": {
      "text/html": [
       "<table style=\"border: 2px solid black; align: \"left\">\n",
       "<caption>1 phenopacket - PMID:29333303 (n=1)</caption>\n",
       "<tr><th style=\"text-align: left;font-weight: bold;\">Individual</th><th style=\"text-align: left;font-weight: bold;\">Disease</th><th style=\"text-align: left;font-weight: bold;\">Genotype</th><th style=\"text-align: left;font-weight: bold;\">Phenotypic features</th></tr>\n",
       "<tr><td style=\"text-align: left;\">proposita (FEMALE; P11M)</td><td style=\"text-align: left;\">Schinzel-Giedion midface retraction syndrome (OMIM:269150)</td><td style=\"text-align: left;\">NM_015559.3:c.2608G>A (heterozygous)</td><td style=\"text-align: left;\"><b>P8M</b>: Seizure (HP:0001250); Severe hearing impairment (HP:0012714); Feeding difficulties (HP:0011968); Severely reduced visual acuity (HP:0001141); Global developmental delay (HP:0001263); Postnatal growth retardation (HP:0008897)<br/>Depressed nasal bridge (HP:0005280); Narrow forehead (HP:0000341); Frontal bossing (HP:0002007); Coarse facial features (HP:0000280); Midface retrusion (HP:0011800); Wide anterior fontanel (HP:0000260); Diastasis recti (HP:0001540); Abdominal distention (HP:0003270); Dilated third ventricle (HP:0007082); Lateral ventricle dilatation (HP:0006956); Hydronephrosis (HP:0000126); Bowing of the long bones (HP:0006487); Broad ribs (HP:0000885); Patent ductus arteriosus after birth at term (HP:0011648); Patent foramen ovale (HP:0001655); Hypertelorism (HP:0000316); Low-set ears (HP:0000369); Talipes equinovarus (HP:0001762); Polyhydramnios (HP:0001561); Fetal pyelectasis (HP:0010945); excluded: Abnormal fundus morphology (HP:0001098)</td></tr>\n",
       "</table>"
      ],
      "text/plain": [
       "<IPython.core.display.HTML object>"
      ]
     },
     "metadata": {},
     "output_type": "display_data"
    }
   ],
   "source": [
    "table = IndividualTable(cvalidator.get_error_free_individual_list())\n",
    "display(HTML(table.to_html()))"
   ]
  }
 ],
 "metadata": {
  "kernelspec": {
   "display_name": "ps24venv",
   "language": "python",
   "name": "python3"
  },
  "language_info": {
   "codemirror_mode": {
    "name": "ipython",
    "version": 3
   },
   "file_extension": ".py",
   "mimetype": "text/x-python",
   "name": "python",
   "nbconvert_exporter": "python",
   "pygments_lexer": "ipython3",
   "version": "3.9.6"
  }
 },
 "nbformat": 4,
 "nbformat_minor": 2
}
