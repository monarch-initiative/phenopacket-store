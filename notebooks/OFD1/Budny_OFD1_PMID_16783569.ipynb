{
 "cells": [
  {
   "cell_type": "markdown",
   "id": "a39f3c65",
   "metadata": {},
   "source": [
    "<h1>OFD1: Simpson-Golabi-Behmel syndrome, type 2. Budny et al, 2006</h1>\n",
    "<p>Data extracted from <a href=\"https://pubmed.ncbi.nlm.nih.gov/16783569/\" target=\"__blank\">Budny, et al. (2006) A novel X-linked recessive mental retardation syndrome comprising macrocephaly and ciliary dysfunction is allelic to oral-facial-digital type I syndrome</a>.</p>"
   ]
  },
  {
   "cell_type": "code",
   "execution_count": 1,
   "id": "bbd5ca90-1a7b-4779-bea0-1c76fbf47bf5",
   "metadata": {},
   "outputs": [],
   "source": [
    "from pyphetools.creation import TemplateImporter"
   ]
  },
  {
   "cell_type": "code",
   "execution_count": 2,
   "id": "72fa393f-8357-4274-9b8e-6b54acde1bb8",
   "metadata": {},
   "outputs": [
    {
     "name": "stdout",
     "output_type": "stream",
     "text": [
      "Using pyphetools version 0.9.66\n"
     ]
    }
   ],
   "source": [
    "from pyphetools.creation import TemplateImporter\n",
    "from pyphetools.visualization import IndividualTable, QcVisualizer\n",
    "from IPython.display import display, HTML\n",
    "import pyphetools\n",
    "print(f\"Using pyphetools version {pyphetools.__version__}\")"
   ]
  },
  {
   "cell_type": "code",
   "execution_count": 3,
   "id": "4a182d74-ae58-4ce6-ba1e-6b97de60d5f9",
   "metadata": {},
   "outputs": [],
   "source": [
    "template = \"input/OFD1_SGBS2_individuals.xlsx\"\n",
    "hp_json = \"../hp.json\"\n",
    "created_by = \"0000-0002-0736-9199\""
   ]
  },
  {
   "cell_type": "code",
   "execution_count": 5,
   "id": "8a72dd50-d58f-4a1c-ae7b-9a098e5b5188",
   "metadata": {},
   "outputs": [
    {
     "name": "stdout",
     "output_type": "stream",
     "text": [
      "HPO version 2024-03-06\n",
      "Created encoders for 30 fields\n",
      " we got OMIM:300209  NM_003611.3\n",
      "We output 3 GA4GH phenopackets to the directory phenopackets\n"
     ]
    }
   ],
   "source": [
    "timporter = TemplateImporter(template=template, hp_json=hp_json, created_by=created_by)\n",
    "# X-linked recessive, set hemizygous argument to True\n",
    "individual_list, cvalidator = timporter.import_phenopackets_from_template(hemizygous=True)"
   ]
  },
  {
   "cell_type": "code",
   "execution_count": 6,
   "id": "b2d58032-84d0-4767-8ea3-9bc5c5dab48e",
   "metadata": {},
   "outputs": [
    {
     "data": {
      "text/html": [
       "<h2>Cohort validation</h2>\n",
       "<p>No errors found for the cohort with 3 individuals</p>"
      ],
      "text/plain": [
       "<IPython.core.display.HTML object>"
      ]
     },
     "metadata": {},
     "output_type": "display_data"
    }
   ],
   "source": [
    "qc = QcVisualizer(cohort_validator=cvalidator)\n",
    "display(HTML(qc.to_summary_html()))"
   ]
  },
  {
   "cell_type": "code",
   "execution_count": 7,
   "id": "f0602c0e",
   "metadata": {
    "pycharm": {
     "is_executing": true
    }
   },
   "outputs": [
    {
     "data": {
      "text/html": [
       "<table style=\"border: 2px solid black; align: \"left\">\n",
       "<caption>3 phenopackets - PMID:16783569 (n=3)</caption>\n",
       "<tr><th style=\"text-align: left;font-weight: bold;\">Individual</th><th style=\"text-align: left;font-weight: bold;\">Disease</th><th style=\"text-align: left;font-weight: bold;\">Genotype</th><th style=\"text-align: left;font-weight: bold;\">Phenotypic features</th></tr>\n",
       "<tr><td style=\"text-align: left;\">V: 1 (MALE; P11Y)</td><td style=\"text-align: left;\">Simpson-Golabi-Behmel syndrome, type 2 (OMIM:300209)</td><td style=\"text-align: left;\">NM_003611.3:c.2122_2125dup (hemizygous)</td><td style=\"text-align: left;\">Macrocephaly (HP:0000256); Recurrent upper respiratory tract infections (HP:0002788); Recurrent lower respiratory tract infections (HP:0002783); Intellectual disability, severe (HP:0010864); Global developmental delay (HP:0001263); High palate (HP:0000218); Low-set ears (HP:0000369); Broad thumb (HP:0011304); Short finger (HP:0009381); Obesity (HP:0001513); excluded: Hypotonia (HP:0001252); excluded: Postaxial hand polydactyly (HP:0001162); excluded: Inguinal hernia (HP:0000023)</td></tr>\n",
       "<tr><td style=\"text-align: left;\">IV: 3 (MALE; P1Y6M)</td><td style=\"text-align: left;\">Simpson-Golabi-Behmel syndrome, type 2 (OMIM:300209)</td><td style=\"text-align: left;\">NM_003611.3:c.2122_2125dup (hemizygous)</td><td style=\"text-align: left;\">Postaxial hand polydactyly (HP:0001162); Macrocephaly (HP:0000256); Recurrent upper respiratory tract infections (HP:0002788); Recurrent lower respiratory tract infections (HP:0002783); Global developmental delay (HP:0001263); excluded: Hypotonia (HP:0001252); excluded: High palate (HP:0000218); excluded: Low-set ears (HP:0000369); excluded: Broad thumb (HP:0011304); excluded: Short finger (HP:0009381); excluded: Obesity (HP:0001513); excluded: Inguinal hernia (HP:0000023)</td></tr>\n",
       "<tr><td style=\"text-align: left;\">IV: 11 (MALE; P3Y)</td><td style=\"text-align: left;\">Simpson-Golabi-Behmel syndrome, type 2 (OMIM:300209)</td><td style=\"text-align: left;\">NM_003611.3:c.2122_2125dup (hemizygous)</td><td style=\"text-align: left;\">Hypotonia (HP:0001252); Global developmental delay (HP:0001263); Short finger (HP:0009381); Inguinal hernia (HP:0000023); excluded: Recurrent upper respiratory tract infections (HP:0002788); excluded: Recurrent lower respiratory tract infections (HP:0002783); excluded: High palate (HP:0000218); excluded: Low-set ears (HP:0000369); excluded: Broad thumb (HP:0011304); excluded: Obesity (HP:0001513); excluded: Postaxial hand polydactyly (HP:0001162)</td></tr>\n",
       "</table>"
      ],
      "text/plain": [
       "<IPython.core.display.HTML object>"
      ]
     },
     "metadata": {},
     "output_type": "display_data"
    }
   ],
   "source": [
    "table = IndividualTable(cvalidator.get_error_free_individual_list())\n",
    "display(HTML(table.to_html()))"
   ]
  },
  {
   "cell_type": "code",
   "execution_count": null,
   "id": "9584c3f0-7020-4011-9166-8d3691fce6f4",
   "metadata": {},
   "outputs": [],
   "source": []
  }
 ],
 "metadata": {
  "kernelspec": {
   "display_name": "Python 3 (ipykernel)",
   "language": "python",
   "name": "python3"
  },
  "language_info": {
   "codemirror_mode": {
    "name": "ipython",
    "version": 3
   },
   "file_extension": ".py",
   "mimetype": "text/x-python",
   "name": "python",
   "nbconvert_exporter": "python",
   "pygments_lexer": "ipython3",
   "version": "3.8.10"
  }
 },
 "nbformat": 4,
 "nbformat_minor": 5
}
