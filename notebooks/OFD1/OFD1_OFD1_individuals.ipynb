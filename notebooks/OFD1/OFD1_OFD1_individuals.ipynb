{
 "cells": [
  {
   "cell_type": "markdown",
   "metadata": {},
   "source": [
    "# OFD1\n",
    "[orofaciodigital syndrome I (OFD1)](https://omim.org/entry/311200) is caused by mutation in the OFD1 gene."
   ]
  },
  {
   "cell_type": "code",
   "execution_count": 1,
   "metadata": {},
   "outputs": [
    {
     "name": "stdout",
     "output_type": "stream",
     "text": [
      "Using pyphetools version 0.9.97\n"
     ]
    }
   ],
   "source": [
    "from pyphetools.creation import TemplateImporter, Moi\n",
    "from pyphetools.visualization import IndividualTable, QcVisualizer\n",
    "from IPython.display import display, HTML\n",
    "import pyphetools\n",
    "print(f\"Using pyphetools version {pyphetools.__version__}\")"
   ]
  },
  {
   "cell_type": "code",
   "execution_count": 2,
   "metadata": {},
   "outputs": [],
   "source": [
    "template = \"input/OFD1_OFD1_individuals.xlsx\"\n",
    "created_by = \"0000-0002-0736-9199\""
   ]
  },
  {
   "cell_type": "code",
   "execution_count": 3,
   "metadata": {},
   "outputs": [
    {
     "name": "stdout",
     "output_type": "stream",
     "text": [
      "HPO version 2024-07-01\n",
      "Created encoders for 71 fields\n",
      "Importing OMIM:311200, Orofaciodigital syndrome I, HGNC:2567, OFD1,  NM_003611.3\n",
      "We output 7 GA4GH phenopackets to the directory phenopackets\n"
     ]
    }
   ],
   "source": [
    "timporter = TemplateImporter(template=template,  created_by=created_by)\n",
    "individual_list, cvalidator = timporter.import_phenopackets_from_template()"
   ]
  },
  {
   "cell_type": "code",
   "execution_count": 4,
   "metadata": {},
   "outputs": [
    {
     "data": {
      "text/html": [
       "<h2>Cohort validation</h2>\n",
       "<p>No errors found for the cohort with 7 individuals</p>"
      ],
      "text/plain": [
       "<IPython.core.display.HTML object>"
      ]
     },
     "metadata": {},
     "output_type": "display_data"
    }
   ],
   "source": [
    "qc = QcVisualizer(cohort_validator=cvalidator)\n",
    "display(HTML(qc.to_summary_html()))"
   ]
  },
  {
   "cell_type": "code",
   "execution_count": 5,
   "metadata": {},
   "outputs": [
    {
     "data": {
      "text/html": [
       "<table style=\"border: 2px solid black; align: \"left\">\n",
       "<caption>7 phenopackets - PMID:11179005 (n=7)</caption>\n",
       "<tr><th style=\"text-align: left;font-weight: bold;\">Individual</th><th style=\"text-align: left;font-weight: bold;\">Disease</th><th style=\"text-align: left;font-weight: bold;\">Genotype</th><th style=\"text-align: left;font-weight: bold;\">Phenotypic features</th></tr>\n",
       "<tr><td style=\"text-align: left;\">Family 1 (FEMALE; n/a)</td><td style=\"text-align: left;\">Orofaciodigital syndrome I (OMIM:311200)</td><td style=\"text-align: left;\">NM_003611.3:c.1303A>C (heterozygous)</td><td style=\"text-align: left;\">Milia (HP:0001056); Bifid tongue (HP:0010297); Intellectual disability (HP:0001249); High palate (HP:0000218); Alopecia (HP:0001596); Coarse hair (HP:0002208); Downslanted palpebral fissures (HP:0000494); Hamartoma of tongue (HP:0011802); excluded: Facial asymmetry (HP:0000324); excluded: Cleft palate (HP:0000175); excluded: Cleft lip (HP:0410030); excluded: Ankyloglossia (HP:0010296); excluded: Dry hair (HP:0011359); excluded: Pancreatic cysts (HP:0001737); excluded: Hepatic cysts (HP:0001407)</td></tr>\n",
       "<tr><td style=\"text-align: left;\">Family 3 (FEMALE; n/a)</td><td style=\"text-align: left;\">Orofaciodigital syndrome I (OMIM:311200)</td><td style=\"text-align: left;\">NM_003611.3:c.312+1del (heterozygous)</td><td style=\"text-align: left;\">Cleft palate (HP:0000175); Polycystic kidney dysplasia (HP:0000113); Polydactyly (HP:0010442); Hamartoma of tongue (HP:0011802); excluded: Facial asymmetry (HP:0000324); excluded: Milia (HP:0001056); excluded: Bifid tongue (HP:0010297); excluded: Syndactyly (HP:0001159); excluded: Intellectual disability (HP:0001249); excluded: High palate (HP:0000218); excluded: Cleft lip (HP:0410030); excluded: Ankyloglossia (HP:0010296); excluded: Alopecia (HP:0001596); excluded: Coarse hair (HP:0002208); excluded: Dry hair (HP:0011359); excluded: Downslanted palpebral fissures (HP:0000494)</td></tr>\n",
       "<tr><td style=\"text-align: left;\">Family 4 (FEMALE; n/a)</td><td style=\"text-align: left;\">Orofaciodigital syndrome I (OMIM:311200)</td><td style=\"text-align: left;\">NM_003611.3:c.294_312del (heterozygous)</td><td style=\"text-align: left;\">Facial asymmetry (HP:0000324); Syndactyly (HP:0001159); Intellectual disability (HP:0001249); Cleft palate (HP:0000175); Cleft lip (HP:0410030); Polycystic kidney dysplasia (HP:0000113); Alopecia (HP:0001596); Dry hair (HP:0011359); Pancreatic cysts (HP:0001737); Hepatic cysts (HP:0001407); excluded: Milia (HP:0001056); excluded: Bifid tongue (HP:0010297); excluded: High palate (HP:0000218); excluded: Ankyloglossia (HP:0010296); excluded: Polydactyly (HP:0010442); excluded: Coarse hair (HP:0002208); excluded: Downslanted palpebral fissures (HP:0000494); excluded: Brachydactyly (HP:0001156); excluded: Hamartoma of tongue (HP:0011802)</td></tr>\n",
       "<tr><td style=\"text-align: left;\">Family 6 (FEMALE; n/a)</td><td style=\"text-align: left;\">Orofaciodigital syndrome I (OMIM:311200)</td><td style=\"text-align: left;\">NM_003611.3:c.121C>T (heterozygous)</td><td style=\"text-align: left;\">Milia (HP:0001056); Syndactyly (HP:0001159); Cleft lip (HP:0410030); Hamartoma of tongue (HP:0011802); excluded: Facial asymmetry (HP:0000324); excluded: Bifid tongue (HP:0010297); excluded: Intellectual disability (HP:0001249); excluded: High palate (HP:0000218); excluded: Cleft palate (HP:0000175); excluded: Ankyloglossia (HP:0010296); excluded: Polydactyly (HP:0010442); excluded: Alopecia (HP:0001596); excluded: Coarse hair (HP:0002208); excluded: Dry hair (HP:0011359); excluded: Downslanted palpebral fissures (HP:0000494); excluded: Brachydactyly (HP:0001156); excluded: Pancreatic cysts (HP:0001737); excluded: Hepatic cysts (HP:0001407)</td></tr>\n",
       "<tr><td style=\"text-align: left;\">Family 10 (FEMALE; n/a)</td><td style=\"text-align: left;\">Orofaciodigital syndrome I (OMIM:311200)</td><td style=\"text-align: left;\">NM_003611.3:c.1071_1078delinsTTTTTCCT (heterozygous)</td><td style=\"text-align: left;\">Syndactyly (HP:0001159); Cleft palate (HP:0000175); excluded: Bifid tongue (HP:0010297); excluded: Intellectual disability (HP:0001249); excluded: High palate (HP:0000218); excluded: Cleft lip (HP:0410030); excluded: Ankyloglossia (HP:0010296); excluded: Polydactyly (HP:0010442); excluded: Brachydactyly (HP:0001156); excluded: Hamartoma of tongue (HP:0011802)</td></tr>\n",
       "<tr><td style=\"text-align: left;\">Family 27 (FEMALE; n/a)</td><td style=\"text-align: left;\">Orofaciodigital syndrome I (OMIM:311200)</td><td style=\"text-align: left;\">NM_003611.3:c.312+3_312+9del (heterozygous)</td><td style=\"text-align: left;\">Milia (HP:0001056); Intellectual disability (HP:0001249); Cleft palate (HP:0000175); Cleft lip (HP:0410030); Ankyloglossia (HP:0010296); Polycystic kidney dysplasia (HP:0000113); excluded: Facial asymmetry (HP:0000324); excluded: Bifid tongue (HP:0010297); excluded: High palate (HP:0000218); excluded: Alopecia (HP:0001596); excluded: Coarse hair (HP:0002208); excluded: Dry hair (HP:0011359); excluded: Downslanted palpebral fissures (HP:0000494); excluded: Pancreatic cysts (HP:0001737); excluded: Hepatic cysts (HP:0001407); excluded: Hamartoma of tongue (HP:0011802)</td></tr>\n",
       "<tr><td style=\"text-align: left;\">Family 28 (FEMALE; n/a)</td><td style=\"text-align: left;\">Orofaciodigital syndrome I (OMIM:311200)</td><td style=\"text-align: left;\">NM_003611.3:c.1757del (heterozygous)</td><td style=\"text-align: left;\">Milia (HP:0001056); Syndactyly (HP:0001159); Intellectual disability (HP:0001249); Cleft palate (HP:0000175); Cleft lip (HP:0410030); Brachydactyly (HP:0001156); excluded: Facial asymmetry (HP:0000324); excluded: Bifid tongue (HP:0010297); excluded: High palate (HP:0000218); excluded: Ankyloglossia (HP:0010296); excluded: Polydactyly (HP:0010442); excluded: Downslanted palpebral fissures (HP:0000494); excluded: Pancreatic cysts (HP:0001737); excluded: Hepatic cysts (HP:0001407); excluded: Hamartoma of tongue (HP:0011802)</td></tr>\n",
       "</table>"
      ],
      "text/plain": [
       "<IPython.core.display.HTML object>"
      ]
     },
     "metadata": {},
     "output_type": "display_data"
    }
   ],
   "source": [
    "table = IndividualTable(cvalidator.get_error_free_individual_list())\n",
    "display(HTML(table.to_html()))"
   ]
  },
  {
   "cell_type": "code",
   "execution_count": null,
   "metadata": {},
   "outputs": [],
   "source": []
  }
 ],
 "metadata": {
  "kernelspec": {
   "display_name": "ps24venv",
   "language": "python",
   "name": "python3"
  },
  "language_info": {
   "codemirror_mode": {
    "name": "ipython",
    "version": 3
   },
   "file_extension": ".py",
   "mimetype": "text/x-python",
   "name": "python",
   "nbconvert_exporter": "python",
   "pygments_lexer": "ipython3",
   "version": "3.12.4"
  }
 },
 "nbformat": 4,
 "nbformat_minor": 2
}
