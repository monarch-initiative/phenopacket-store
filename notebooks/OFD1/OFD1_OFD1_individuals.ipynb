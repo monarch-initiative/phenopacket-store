{
 "cells": [
  {
   "cell_type": "markdown",
   "metadata": {},
   "source": [
    "# OFD1\n",
    "[orofaciodigital syndrome I (OFD1)](https://omim.org/entry/311200) is caused by mutation in the OFD1 gene."
   ]
  },
  {
   "cell_type": "code",
   "execution_count": 6,
   "metadata": {},
   "outputs": [
    {
     "name": "stdout",
     "output_type": "stream",
     "text": [
      "Using pyphetools version 0.9.108\n"
     ]
    }
   ],
   "source": [
    "from pyphetools.creation import TemplateImporter, Moi\n",
    "from pyphetools.visualization import IndividualTable, QcVisualizer\n",
    "from IPython.display import display, HTML\n",
    "import pyphetools\n",
    "print(f\"Using pyphetools version {pyphetools.__version__}\")"
   ]
  },
  {
   "cell_type": "code",
   "execution_count": 7,
   "metadata": {},
   "outputs": [],
   "source": [
    "template = \"input/OFD1_OFD1_individuals.xlsx\"\n",
    "created_by = \"0000-0002-0736-9199\""
   ]
  },
  {
   "cell_type": "code",
   "execution_count": 8,
   "metadata": {},
   "outputs": [
    {
     "name": "stdout",
     "output_type": "stream",
     "text": [
      "HPO version 2024-08-13\n",
      "Created encoders for 82 fields\n",
      "Importing OMIM:311200, Orofaciodigital syndrome I, HGNC:2567, OFD1,  NM_003611.3\n",
      "We output 17 GA4GH phenopackets to the directory phenopackets\n"
     ]
    }
   ],
   "source": [
    "timporter = TemplateImporter(template=template,  created_by=created_by)\n",
    "individual_list, cvalidator = timporter.import_phenopackets_from_template()"
   ]
  },
  {
   "cell_type": "code",
   "execution_count": 9,
   "metadata": {},
   "outputs": [
    {
     "data": {
      "text/html": [
       "<h2>Cohort validation</h2>\n",
       "<p>Errors found with 4 of 17 phenopackets.</p>\n",
       "<table style=\"border: 2px solid black; align: \"left\">\n",
       "<caption>Error counts</caption>\n",
       "<tr><th style=\"text-align: left;font-weight: bold;\">Level</th><th style=\"text-align: left;font-weight: bold;\">Error category</th><th style=\"text-align: left;font-weight: bold;\">Count</th></tr>\n",
       "<tr><td style=\"text-align: left;\">WARNING</td><td style=\"text-align: left;\">REDUNDANT</td><td style=\"text-align: left;\">4</td></tr>\n",
       "</table>\n",
       "<p>A total of 4 issues were fixed and no individual was removed from the cohort.</p>"
      ],
      "text/plain": [
       "<IPython.core.display.HTML object>"
      ]
     },
     "metadata": {},
     "output_type": "display_data"
    }
   ],
   "source": [
    "qc = QcVisualizer(cohort_validator=cvalidator)\n",
    "display(HTML(qc.to_summary_html()))"
   ]
  },
  {
   "cell_type": "code",
   "execution_count": 10,
   "metadata": {},
   "outputs": [
    {
     "data": {
      "text/html": [
       "<table style=\"border: 2px solid black; align: \"left\">\n",
       "<caption>17 phenopackets - PMID:11179005 (n=7); PMID:11950863 (n=7); PMID:27957444 (n=2); PMID:32677760 (n=1)</caption>\n",
       "<tr><th style=\"text-align: left;font-weight: bold;\">Individual</th><th style=\"text-align: left;font-weight: bold;\">Disease</th><th style=\"text-align: left;font-weight: bold;\">Genotype</th><th style=\"text-align: left;font-weight: bold;\">Phenotypic features</th></tr>\n",
       "<tr><td style=\"text-align: left;\">Family 1 (FEMALE)</td><td style=\"text-align: left;\">Orofaciodigital syndrome I (OMIM:311200)</td><td style=\"text-align: left;\">NM_003611.3:c.1303A>C (heterozygous)</td><td style=\"text-align: left;\">Milia (HP:0001056): onset ; Intellectual disability (HP:0001249): onset ; High palate (HP:0000218): onset ; Bifid tongue (HP:0010297): onset ; Alopecia (HP:0001596): onset ; Coarse hair (HP:0002208): onset ; Downslanted palpebral fissures (HP:0000494): onset ; Hamartoma of tongue (HP:0011802): onset ; excluded: Facial asymmetry (HP:0000324): onset ; excluded: Cleft palate (HP:0000175): onset ; excluded: Cleft lip (HP:0410030): onset ; excluded: Ankyloglossia (HP:0010296): onset ; excluded: Dry hair (HP:0011359): onset ; excluded: Pancreatic cysts (HP:0001737): onset ; excluded: Hepatic cysts (HP:0001407): onset </td></tr>\n",
       "<tr><td style=\"text-align: left;\">Family 3 (FEMALE)</td><td style=\"text-align: left;\">Orofaciodigital syndrome I (OMIM:311200)</td><td style=\"text-align: left;\">NM_003611.3:c.312+1del (heterozygous)</td><td style=\"text-align: left;\">Cleft palate (HP:0000175): onset ; Polycystic kidney dysplasia (HP:0000113): onset ; Polydactyly (HP:0010442): onset ; Hamartoma of tongue (HP:0011802): onset ; excluded: Facial asymmetry (HP:0000324): onset ; excluded: Milia (HP:0001056): onset ; excluded: Intellectual disability (HP:0001249): onset ; excluded: High palate (HP:0000218): onset ; excluded: Cleft lip (HP:0410030): onset ; excluded: Bifid tongue (HP:0010297): onset ; excluded: Ankyloglossia (HP:0010296): onset ; excluded: Alopecia (HP:0001596): onset ; excluded: Coarse hair (HP:0002208): onset ; excluded: Dry hair (HP:0011359): onset ; excluded: Downslanted palpebral fissures (HP:0000494): onset ; excluded: Syndactyly (HP:0001159): onset </td></tr>\n",
       "<tr><td style=\"text-align: left;\">Family 4 (FEMALE)</td><td style=\"text-align: left;\">Orofaciodigital syndrome I (OMIM:311200)</td><td style=\"text-align: left;\">NM_003611.3:c.294_312del (heterozygous)</td><td style=\"text-align: left;\">Facial asymmetry (HP:0000324): onset ; Intellectual disability (HP:0001249): onset ; Cleft palate (HP:0000175): onset ; Cleft lip (HP:0410030): onset ; Polycystic kidney dysplasia (HP:0000113): onset ; Alopecia (HP:0001596): onset ; Dry hair (HP:0011359): onset ; Syndactyly (HP:0001159): onset ; Pancreatic cysts (HP:0001737): onset ; Hepatic cysts (HP:0001407): onset ; excluded: Milia (HP:0001056): onset ; excluded: High palate (HP:0000218): onset ; excluded: Bifid tongue (HP:0010297): onset ; excluded: Ankyloglossia (HP:0010296): onset ; excluded: Coarse hair (HP:0002208): onset ; excluded: Downslanted palpebral fissures (HP:0000494): onset ; excluded: Brachydactyly (HP:0001156): onset ; excluded: Polydactyly (HP:0010442): onset ; excluded: Hamartoma of tongue (HP:0011802): onset </td></tr>\n",
       "<tr><td style=\"text-align: left;\">Family 6 (FEMALE)</td><td style=\"text-align: left;\">Orofaciodigital syndrome I (OMIM:311200)</td><td style=\"text-align: left;\">NM_003611.3:c.121C>T (heterozygous)</td><td style=\"text-align: left;\">Milia (HP:0001056): onset ; Cleft lip (HP:0410030): onset ; Syndactyly (HP:0001159): onset ; Hamartoma of tongue (HP:0011802): onset ; excluded: Facial asymmetry (HP:0000324): onset ; excluded: Intellectual disability (HP:0001249): onset ; excluded: High palate (HP:0000218): onset ; excluded: Cleft palate (HP:0000175): onset ; excluded: Bifid tongue (HP:0010297): onset ; excluded: Ankyloglossia (HP:0010296): onset ; excluded: Alopecia (HP:0001596): onset ; excluded: Coarse hair (HP:0002208): onset ; excluded: Dry hair (HP:0011359): onset ; excluded: Downslanted palpebral fissures (HP:0000494): onset ; excluded: Brachydactyly (HP:0001156): onset ; excluded: Polydactyly (HP:0010442): onset ; excluded: Pancreatic cysts (HP:0001737): onset ; excluded: Hepatic cysts (HP:0001407): onset </td></tr>\n",
       "<tr><td style=\"text-align: left;\">Family 10 (FEMALE)</td><td style=\"text-align: left;\">Orofaciodigital syndrome I (OMIM:311200)</td><td style=\"text-align: left;\">NM_003611.3:c.1071_1078delinsTTTTTCCT (heterozygous)</td><td style=\"text-align: left;\">Cleft palate (HP:0000175): onset ; Syndactyly (HP:0001159): onset ; excluded: Intellectual disability (HP:0001249): onset ; excluded: High palate (HP:0000218): onset ; excluded: Cleft lip (HP:0410030): onset ; excluded: Bifid tongue (HP:0010297): onset ; excluded: Ankyloglossia (HP:0010296): onset ; excluded: Brachydactyly (HP:0001156): onset ; excluded: Polydactyly (HP:0010442): onset ; excluded: Hamartoma of tongue (HP:0011802): onset </td></tr>\n",
       "<tr><td style=\"text-align: left;\">Family 27 (FEMALE)</td><td style=\"text-align: left;\">Orofaciodigital syndrome I (OMIM:311200)</td><td style=\"text-align: left;\">NM_003611.3:c.312+3_312+9del (heterozygous)</td><td style=\"text-align: left;\">Milia (HP:0001056): onset ; Intellectual disability (HP:0001249): onset ; Cleft palate (HP:0000175): onset ; Cleft lip (HP:0410030): onset ; Ankyloglossia (HP:0010296): onset ; Polycystic kidney dysplasia (HP:0000113): onset ; excluded: Facial asymmetry (HP:0000324): onset ; excluded: High palate (HP:0000218): onset ; excluded: Bifid tongue (HP:0010297): onset ; excluded: Alopecia (HP:0001596): onset ; excluded: Coarse hair (HP:0002208): onset ; excluded: Dry hair (HP:0011359): onset ; excluded: Downslanted palpebral fissures (HP:0000494): onset ; excluded: Pancreatic cysts (HP:0001737): onset ; excluded: Hepatic cysts (HP:0001407): onset ; excluded: Hamartoma of tongue (HP:0011802): onset </td></tr>\n",
       "<tr><td style=\"text-align: left;\">Family 28 (FEMALE)</td><td style=\"text-align: left;\">Orofaciodigital syndrome I (OMIM:311200)</td><td style=\"text-align: left;\">NM_003611.3:c.1757del (heterozygous)</td><td style=\"text-align: left;\">Milia (HP:0001056): onset ; Intellectual disability (HP:0001249): onset ; Cleft palate (HP:0000175): onset ; Cleft lip (HP:0410030): onset ; Brachydactyly (HP:0001156): onset ; Syndactyly (HP:0001159): onset ; excluded: Facial asymmetry (HP:0000324): onset ; excluded: High palate (HP:0000218): onset ; excluded: Bifid tongue (HP:0010297): onset ; excluded: Ankyloglossia (HP:0010296): onset ; excluded: Downslanted palpebral fissures (HP:0000494): onset ; excluded: Polydactyly (HP:0010442): onset ; excluded: Pancreatic cysts (HP:0001737): onset ; excluded: Hepatic cysts (HP:0001407): onset ; excluded: Hamartoma of tongue (HP:0011802): onset </td></tr>\n",
       "<tr><td style=\"text-align: left;\">Individual I.3 (FEMALE; P1Y6M)</td><td style=\"text-align: left;\">Orofaciodigital syndrome I (OMIM:311200)</td><td style=\"text-align: left;\">NM_003611.3:c.413-10T>G (heterozygous)</td><td style=\"text-align: left;\">Milia (HP:0001056): onset ; Midline notch of upper alveolar ridge (HP:0009084): onset ; Cleft palate (HP:0000175): onset ; Lobulated tongue (HP:0000180): onset ; Underdeveloped nasal alae (HP:0000430): onset ; Short 5th finger (HP:0009237): onset ; 4-5 finger cutaneous syndactyly (HP:0010705): onset ; Hamartoma of tongue (HP:0011802): onset ; Telecanthus (HP:0000506): onset ; Thin upper lip vermilion (HP:0000219): onset ; Accessory oral frenulum (HP:0000191): onset ; Malar flattening (HP:0000272): onset ; excluded: Facial asymmetry (HP:0000324): onset ; excluded: Intellectual disability (HP:0001249): onset ; excluded: Median pseudocleft lip (HP:0034185): onset ; excluded: Bifid tongue (HP:0010297): onset ; excluded: Short stature (HP:0004322): onset ; excluded: Polydactyly (HP:0010442): onset ; excluded: Short fourth metatarsal (HP:0004689): onset ; excluded: Seizure (HP:0001250): onset ; excluded: Prominent metopic ridge (HP:0005487): onset </td></tr>\n",
       "<tr><td style=\"text-align: left;\">Individual I.2 (FEMALE; P23Y)</td><td style=\"text-align: left;\">Orofaciodigital syndrome I (OMIM:311200)</td><td style=\"text-align: left;\">NM_003611.3:c.413-10T>G (heterozygous)</td><td style=\"text-align: left;\">Midline notch of upper alveolar ridge (HP:0009084): onset ; Cleft palate (HP:0000175): onset ; Lobulated tongue (HP:0000180): onset ; Polycystic kidney dysplasia (HP:0000113): onset ; Underdeveloped nasal alae (HP:0000430): onset ; Agenesis of permanent teeth (HP:0006349): onset ; Hamartoma of tongue (HP:0011802): onset ; Telecanthus (HP:0000506): onset ; Thin upper lip vermilion (HP:0000219): onset ; Accessory oral frenulum (HP:0000191): onset ; Malar flattening (HP:0000272): onset ; excluded: Facial asymmetry (HP:0000324): onset ; excluded: Milia (HP:0001056): onset ; excluded: Intellectual disability (HP:0001249): onset ; excluded: Median pseudocleft lip (HP:0034185): onset ; excluded: Bifid tongue (HP:0010297): onset ; excluded: Short stature (HP:0004322): onset ; excluded: Short 5th finger (HP:0009237): onset ; excluded: 4-5 finger cutaneous syndactyly (HP:0010705): onset ; excluded: Polydactyly (HP:0010442): onset ; excluded: Short fourth metatarsal (HP:0004689): onset ; excluded: Seizure (HP:0001250): onset ; excluded: Prominent metopic ridge (HP:0005487): onset </td></tr>\n",
       "<tr><td style=\"text-align: left;\">Individual IV  (FEMALE; P6M)</td><td style=\"text-align: left;\">Orofaciodigital syndrome I (OMIM:311200)</td><td style=\"text-align: left;\">NM_003611.3:c.1409del (heterozygous)</td><td style=\"text-align: left;\">Milia (HP:0001056): onset ; Midline notch of upper alveolar ridge (HP:0009084): onset ; Lobulated tongue (HP:0000180): onset ; Underdeveloped nasal alae (HP:0000430): onset ; Hamartoma of tongue (HP:0011802): onset ; Telecanthus (HP:0000506): onset ; Thin upper lip vermilion (HP:0000219): onset ; Accessory oral frenulum (HP:0000191): onset ; Malar flattening (HP:0000272): onset ; Prominent metopic ridge (HP:0005487): onset ; excluded: Facial asymmetry (HP:0000324): onset ; excluded: Intellectual disability (HP:0001249): onset ; excluded: Cleft palate (HP:0000175): onset ; excluded: Median pseudocleft lip (HP:0034185): onset ; excluded: Bifid tongue (HP:0010297): onset ; excluded: Short stature (HP:0004322): onset ; excluded: Short fourth metatarsal (HP:0004689): onset ; excluded: Seizure (HP:0001250): onset </td></tr>\n",
       "<tr><td style=\"text-align: left;\">Individual III (FEMALE; P30Y)</td><td style=\"text-align: left;\">Orofaciodigital syndrome I (OMIM:311200)</td><td style=\"text-align: left;\">NM_003611.3:c.235G>A (heterozygous)</td><td style=\"text-align: left;\">Midline notch of upper alveolar ridge (HP:0009084): onset ; Lobulated tongue (HP:0000180): onset ; Polycystic kidney dysplasia (HP:0000113): onset ; Underdeveloped nasal alae (HP:0000430): onset ; Agenesis of permanent teeth (HP:0006349): onset ; 4-5 finger cutaneous syndactyly (HP:0010705): onset ; Thin upper lip vermilion (HP:0000219): onset ; Accessory oral frenulum (HP:0000191): onset ; Malar flattening (HP:0000272): onset ; excluded: Facial asymmetry (HP:0000324): onset ; excluded: Milia (HP:0001056): onset ; excluded: Intellectual disability (HP:0001249): onset ; excluded: Cleft palate (HP:0000175): onset ; excluded: Median pseudocleft lip (HP:0034185): onset ; excluded: Bifid tongue (HP:0010297): onset ; excluded: Short stature (HP:0004322): onset ; excluded: Short fourth metatarsal (HP:0004689): onset ; excluded: Seizure (HP:0001250): onset ; excluded: Hamartoma of tongue (HP:0011802): onset ; excluded: Telecanthus (HP:0000506): onset ; excluded: Prominent metopic ridge (HP:0005487): onset </td></tr>\n",
       "<tr><td style=\"text-align: left;\">Individual II.3 (FEMALE; P19Y)</td><td style=\"text-align: left;\">Orofaciodigital syndrome I (OMIM:311200)</td><td style=\"text-align: left;\">NM_003611.3:c.1888_1889insTA (heterozygous)</td><td style=\"text-align: left;\">Intellectual disability (HP:0001249): onset ; Median pseudocleft lip (HP:0034185): onset ; Lobulated tongue (HP:0000180): onset ; Short stature (HP:0004322): onset ; Underdeveloped nasal alae (HP:0000430): onset ; Agenesis of permanent teeth (HP:0006349): onset ; Hamartoma of tongue (HP:0011802): onset ; Telecanthus (HP:0000506): onset ; Thin upper lip vermilion (HP:0000219): onset ; excluded: Facial asymmetry (HP:0000324): onset ; excluded: Milia (HP:0001056): onset ; excluded: Midline notch of upper alveolar ridge (HP:0009084): onset ; excluded: Cleft palate (HP:0000175): onset ; excluded: Bifid tongue (HP:0010297): onset ; excluded: Polycystic kidney dysplasia (HP:0000113): onset ; excluded: 4-5 finger cutaneous syndactyly (HP:0010705): onset ; excluded: Seizure (HP:0001250): onset ; excluded: Accessory oral frenulum (HP:0000191): onset ; excluded: Malar flattening (HP:0000272): onset ; excluded: Prominent metopic ridge (HP:0005487): onset </td></tr>\n",
       "<tr><td style=\"text-align: left;\">Individual II.2 (FEMALE; P25Y)</td><td style=\"text-align: left;\">Orofaciodigital syndrome I (OMIM:311200)</td><td style=\"text-align: left;\">NM_003611.3:c.1888_1889insTA (heterozygous)</td><td style=\"text-align: left;\">Hypothalamic hamartoma (HP:0002444): onset ; Intellectual disability (HP:0001249): onset ; Midline notch of upper alveolar ridge (HP:0009084): onset ; Median pseudocleft lip (HP:0034185): onset ; Lobulated tongue (HP:0000180): onset ; Underdeveloped nasal alae (HP:0000430): onset ; Agenesis of permanent teeth (HP:0006349): onset ; Short fourth metatarsal (HP:0004689): onset ; Hamartoma of tongue (HP:0011802): onset ; Thin upper lip vermilion (HP:0000219): onset ; Accessory oral frenulum (HP:0000191): onset ; excluded: Facial asymmetry (HP:0000324): onset ; excluded: Milia (HP:0001056): onset ; excluded: Cleft palate (HP:0000175): onset ; excluded: Bifid tongue (HP:0010297): onset ; excluded: Short stature (HP:0004322): onset ; excluded: Polycystic kidney dysplasia (HP:0000113): onset ; excluded: 4-5 finger cutaneous syndactyly (HP:0010705): onset ; excluded: Telecanthus (HP:0000506): onset ; excluded: Malar flattening (HP:0000272): onset ; excluded: Prominent metopic ridge (HP:0005487): onset <br/><b>TimeElement(element=Age(iso8601duration=P2Y6M))</b>: Seizure (HP:0001250): onset age {\n",
       "  iso8601duration: \"P2Y6M\"\n",
       "}\n",
       "</td></tr>\n",
       "<tr><td style=\"text-align: left;\">Individual II.1 (FEMALE; P50Y)</td><td style=\"text-align: left;\">Orofaciodigital syndrome I (OMIM:311200)</td><td style=\"text-align: left;\">NM_003611.3:c.1888_1889insTA (heterozygous)</td><td style=\"text-align: left;\">Midline notch of upper alveolar ridge (HP:0009084): onset ; Median pseudocleft lip (HP:0034185): onset ; Lobulated tongue (HP:0000180): onset ; Underdeveloped nasal alae (HP:0000430): onset ; Agenesis of permanent teeth (HP:0006349): onset ; Telecanthus (HP:0000506): onset ; Thin upper lip vermilion (HP:0000219): onset ; Malar flattening (HP:0000272): onset ; excluded: Facial asymmetry (HP:0000324): onset ; excluded: Milia (HP:0001056): onset ; excluded: Intellectual disability (HP:0001249): onset ; excluded: Cleft palate (HP:0000175): onset ; excluded: Bifid tongue (HP:0010297): onset ; excluded: Short stature (HP:0004322): onset ; excluded: Polycystic kidney dysplasia (HP:0000113): onset ; excluded: 4-5 finger cutaneous syndactyly (HP:0010705): onset ; excluded: Short fourth metatarsal (HP:0004689): onset ; excluded: Seizure (HP:0001250): onset ; excluded: Hamartoma of tongue (HP:0011802): onset ; excluded: Accessory oral frenulum (HP:0000191): onset ; excluded: Prominent metopic ridge (HP:0005487): onset </td></tr>\n",
       "<tr><td style=\"text-align: left;\">Patient 1 III-VII (FEMALE; P9Y)</td><td style=\"text-align: left;\">Orofaciodigital syndrome I (OMIM:311200)</td><td style=\"text-align: left;\">NM_003611.3:c.1965_1966del (heterozygous)</td><td style=\"text-align: left;\">Intellectual disability (HP:0001249): onset ; Global developmental delay (HP:0001263): onset ; Cleft palate (HP:0000175): onset ; Lobulated tongue (HP:0000180): onset ; Bifid tongue (HP:0010297): onset ; Ankyloglossia (HP:0010296): onset ; Macroglossia (HP:0000158): onset ; Low-set ears (HP:0000369): onset ; Gray matter heterotopia (HP:0002282): onset ; Downslanted palpebral fissures (HP:0000494): onset ; Seizure (HP:0001250): onset ; Accessory oral frenulum (HP:0000191): onset ; excluded: Cleft lip (HP:0410030): onset ; excluded: Polycystic kidney dysplasia (HP:0000113): onset ; excluded: Agenesis of corpus callosum (HP:0001274): onset ; excluded: Hearing impairment (HP:0000365): onset <br/><b>TimeElement(element=OntologyClass(id=HP:0003577, label=Congenital onset))</b>: Ventricular septal defect (HP:0001629): onset ontology_class {\n",
       "  id: \"HP:0003577\"\n",
       "  label: \"Congenital onset\"\n",
       "}\n",
       "</td></tr>\n",
       "<tr><td style=\"text-align: left;\">Patient 2 III-III (FEMALE; P4Y)</td><td style=\"text-align: left;\">Orofaciodigital syndrome I (OMIM:311200)</td><td style=\"text-align: left;\">NM_003611.3:c.1965_1966del (heterozygous)</td><td style=\"text-align: left;\">Intellectual disability (HP:0001249): onset ; Global developmental delay (HP:0001263): onset ; Cleft palate (HP:0000175): onset ; Cleft lip (HP:0410030): onset ; Lobulated tongue (HP:0000180): onset ; Bifid tongue (HP:0010297): onset ; Macroglossia (HP:0000158): onset ; Low-set ears (HP:0000369): onset ; Downslanted palpebral fissures (HP:0000494): onset ; Accessory oral frenulum (HP:0000191): onset ; excluded: Polycystic kidney dysplasia (HP:0000113): onset ; excluded: Gray matter heterotopia (HP:0002282): onset ; excluded: Agenesis of corpus callosum (HP:0001274): onset ; excluded: Hearing impairment (HP:0000365): onset </td></tr>\n",
       "<tr><td style=\"text-align: left;\">case report (FEMALE; P9M)</td><td style=\"text-align: left;\">Orofaciodigital syndrome I (OMIM:311200)</td><td style=\"text-align: left;\">NM_003611.3:c.1243del (heterozygous)</td><td style=\"text-align: left;\">Milia (HP:0001056): onset ; Sparse hair (HP:0008070): onset ; Agenesis of corpus callosum (HP:0001274): onset ; 4-5 finger cutaneous syndactyly (HP:0010705): onset ; excluded: Global developmental delay (HP:0001263): onset ; excluded: Abnormal cerebellum morphology (HP:0001317): onset ; excluded: Ventricular septal defect (HP:0001629): onset </td></tr>\n",
       "</table>"
      ],
      "text/plain": [
       "<IPython.core.display.HTML object>"
      ]
     },
     "metadata": {},
     "output_type": "display_data"
    }
   ],
   "source": [
    "table = IndividualTable(cvalidator.get_error_free_individual_list())\n",
    "display(HTML(table.to_html()))"
   ]
  },
  {
   "cell_type": "code",
   "execution_count": null,
   "metadata": {},
   "outputs": [],
   "source": []
  }
 ],
 "metadata": {
  "kernelspec": {
   "display_name": "ps24venv",
   "language": "python",
   "name": "python3"
  },
  "language_info": {
   "codemirror_mode": {
    "name": "ipython",
    "version": 3
   },
   "file_extension": ".py",
   "mimetype": "text/x-python",
   "name": "python",
   "nbconvert_exporter": "python",
   "pygments_lexer": "ipython3",
   "version": "3.12.4"
  }
 },
 "nbformat": 4,
 "nbformat_minor": 2
}
