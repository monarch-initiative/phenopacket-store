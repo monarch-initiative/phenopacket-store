{
 "cells": [
  {
   "cell_type": "markdown",
   "id": "a39f3c65",
   "metadata": {},
   "source": [
    "<h1>Creation of phenopackets from tabular data (individuals in columns)</h1>\n",
    "<p>We will process <a href=\"https://pubmed.ncbi.nlm.nih.gov/19800048/\" target=\"__blank\">Coene, et al. (2009) OFD1 Is Mutated in X-Linked Joubert Syndrome and Interacts with LCA5-Encoded Lebercilin</a> in this notebook.</p>"
   ]
  },
  {
   "cell_type": "code",
   "execution_count": 16,
   "id": "5316b70e-0a3f-4219-bba3-2820e5f94e8a",
   "metadata": {},
   "outputs": [
    {
     "name": "stdout",
     "output_type": "stream",
     "text": [
      "Using pyphetools version 0.9.66\n"
     ]
    }
   ],
   "source": [
    "from pyphetools.creation import TemplateImporter\n",
    "from pyphetools.visualization import IndividualTable, QcVisualizer\n",
    "from IPython.display import display, HTML\n",
    "import pyphetools\n",
    "print(f\"Using pyphetools version {pyphetools.__version__}\")"
   ]
  },
  {
   "cell_type": "code",
   "execution_count": 21,
   "id": "7305cdc3-de7d-4079-87aa-a6989debda97",
   "metadata": {},
   "outputs": [],
   "source": [
    "template = \"input/OFD1_JBTS10_individuals.xlsx\"\n",
    "hp_json = \"../hp.json\"\n",
    "created_by = \"0000-0002-0736-9199\""
   ]
  },
  {
   "cell_type": "code",
   "execution_count": 22,
   "id": "804b1922-70d1-4e2d-9117-24b162554d09",
   "metadata": {},
   "outputs": [
    {
     "name": "stdout",
     "output_type": "stream",
     "text": [
      "HPO version 2024-03-06\n",
      "Created encoders for 45 fields\n",
      " we got OMIM:300804  NM_003611.3\n",
      "[INFO] encoding variant \"c.2767del\"\n",
      "https://rest.variantvalidator.org/VariantValidator/variantvalidator/hg38/NM_003611.3%3Ac.2767del/NM_003611.3?content-type=application%2Fjson\n",
      "[INFO] encoding variant \"c.2841_2847del\"\n",
      "https://rest.variantvalidator.org/VariantValidator/variantvalidator/hg38/NM_003611.3%3Ac.2841_2847del/NM_003611.3?content-type=application%2Fjson\n",
      "We output 9 GA4GH phenopackets to the directory phenopackets\n"
     ]
    }
   ],
   "source": [
    "timporter = TemplateImporter(template=template, hp_json=hp_json, created_by=created_by)\n",
    "individual_list, cvalidator = timporter.import_phenopackets_from_template()"
   ]
  },
  {
   "cell_type": "code",
   "execution_count": 23,
   "id": "5a7789fc",
   "metadata": {
    "pycharm": {
     "is_executing": true
    }
   },
   "outputs": [
    {
     "data": {
      "text/html": [
       "<h2>Cohort validation</h2>\n",
       "<p>Errors found with 2 of 9 phenopackets.</p>\n",
       "<table style=\"border: 2px solid black; align: \"left\">\n",
       "<caption>Error counts</caption>\n",
       "<tr><th style=\"text-align: left;font-weight: bold;\">Level</th><th style=\"text-align: left;font-weight: bold;\">Error category</th><th style=\"text-align: left;font-weight: bold;\">Count</th></tr>\n",
       "<tr><td style=\"text-align: left;\">WARNING</td><td style=\"text-align: left;\">REDUNDANT</td><td style=\"text-align: left;\">2</td></tr>\n",
       "</table>\n",
       "<p>A total of 2 issues were fixed and no individual was removed from the cohort.</p>"
      ],
      "text/plain": [
       "<IPython.core.display.HTML object>"
      ]
     },
     "metadata": {},
     "output_type": "display_data"
    }
   ],
   "source": [
    "qc = QcVisualizer(cohort_validator=cvalidator)\n",
    "display(HTML(qc.to_summary_html()))"
   ]
  },
  {
   "cell_type": "code",
   "execution_count": 24,
   "id": "5d044b78",
   "metadata": {
    "pycharm": {
     "is_executing": true
    }
   },
   "outputs": [
    {
     "data": {
      "text/html": [
       "<table style=\"border: 2px solid black; align: \"left\">\n",
       "<caption>9 phenopackets - PMID:19800048 (n=9)</caption>\n",
       "<tr><th style=\"text-align: left;font-weight: bold;\">Individual</th><th style=\"text-align: left;font-weight: bold;\">Disease</th><th style=\"text-align: left;font-weight: bold;\">Genotype</th><th style=\"text-align: left;font-weight: bold;\">Phenotypic features</th></tr>\n",
       "<tr><td style=\"text-align: left;\">III-9 (MALE; P34Y)</td><td style=\"text-align: left;\">Joubert syndrome 10 (OMIM:300804)</td><td style=\"text-align: left;\">NM_003611.3:c.2844_2850del (heterozygous)</td><td style=\"text-align: left;\">Rod-cone dystrophy (HP:0000510); Intellectual disability, severe (HP:0010864); Molar tooth sign on MRI (HP:0002419); Cerebellar vermis hypoplasia (HP:0001320); Thick vermilion border (HP:0012471); Low-set ears (HP:0000369); Recurrent infections (HP:0002719); excluded: Postaxial hand polydactyly (HP:0001162); excluded: Postaxial foot polydactyly (HP:0001830); excluded: Microcephaly (HP:0000252); excluded: Macrocephaly (HP:0000256); excluded: Obesity (HP:0001513); excluded: Polyhydramnios (HP:0001561)</td></tr>\n",
       "<tr><td style=\"text-align: left;\">III-10 (MALE; n/a)</td><td style=\"text-align: left;\">Joubert syndrome 10 (OMIM:300804)</td><td style=\"text-align: left;\">NM_003611.3:c.2844_2850del (heterozygous)</td><td style=\"text-align: left;\">Rod-cone dystrophy (HP:0000510); Intellectual disability, severe (HP:0010864); Recurrent infections (HP:0002719); excluded: Postaxial hand polydactyly (HP:0001162); excluded: Postaxial foot polydactyly (HP:0001830); excluded: Microcephaly (HP:0000252); excluded: Macrocephaly (HP:0000256); excluded: Obesity (HP:0001513); excluded: Polyhydramnios (HP:0001561)</td></tr>\n",
       "<tr><td style=\"text-align: left;\">IV-2 (MALE; n/a)</td><td style=\"text-align: left;\">Joubert syndrome 10 (OMIM:300804)</td><td style=\"text-align: left;\">NM_003611.3:c.2844_2850del (heterozygous)</td><td style=\"text-align: left;\">Intellectual disability, severe (HP:0010864); Postaxial hand polydactyly (HP:0001162); Postaxial foot polydactyly (HP:0001830); Recurrent infections (HP:0002719); excluded: Rod-cone dystrophy (HP:0000510); excluded: Microcephaly (HP:0000252); excluded: Macrocephaly (HP:0000256); excluded: Obesity (HP:0001513); excluded: Polyhydramnios (HP:0001561)</td></tr>\n",
       "<tr><td style=\"text-align: left;\">IV-3 (MALE; n/a)</td><td style=\"text-align: left;\">Joubert syndrome 10 (OMIM:300804)</td><td style=\"text-align: left;\">NM_003611.3:c.2844_2850del (heterozygous)</td><td style=\"text-align: left;\">Intellectual disability, severe (HP:0010864); Recurrent infections (HP:0002719); excluded: Rod-cone dystrophy (HP:0000510); excluded: Postaxial hand polydactyly (HP:0001162); excluded: Postaxial foot polydactyly (HP:0001830); excluded: Microcephaly (HP:0000252); excluded: Macrocephaly (HP:0000256); excluded: Obesity (HP:0001513); excluded: Polyhydramnios (HP:0001561)</td></tr>\n",
       "<tr><td style=\"text-align: left;\">IV-4 (MALE; n/a)</td><td style=\"text-align: left;\">Joubert syndrome 10 (OMIM:300804)</td><td style=\"text-align: left;\">NM_003611.3:c.2844_2850del (heterozygous)</td><td style=\"text-align: left;\">Intellectual disability, severe (HP:0010864); Postaxial hand polydactyly (HP:0001162); Postaxial foot polydactyly (HP:0001830); Recurrent infections (HP:0002719); excluded: Rod-cone dystrophy (HP:0000510); excluded: Microcephaly (HP:0000252); excluded: Macrocephaly (HP:0000256); excluded: Obesity (HP:0001513); excluded: Polyhydramnios (HP:0001561)</td></tr>\n",
       "<tr><td style=\"text-align: left;\">IV-5 (MALE; n/a)</td><td style=\"text-align: left;\">Joubert syndrome 10 (OMIM:300804)</td><td style=\"text-align: left;\">NM_003611.3:c.2844_2850del (heterozygous)</td><td style=\"text-align: left;\">Intellectual disability, severe (HP:0010864); Postaxial hand polydactyly (HP:0001162); Postaxial foot polydactyly (HP:0001830); Recurrent infections (HP:0002719); excluded: Rod-cone dystrophy (HP:0000510); excluded: Microcephaly (HP:0000252); excluded: Macrocephaly (HP:0000256); excluded: Obesity (HP:0001513); excluded: Polyhydramnios (HP:0001561)</td></tr>\n",
       "<tr><td style=\"text-align: left;\">IV-6 (MALE; n/a)</td><td style=\"text-align: left;\">Joubert syndrome 10 (OMIM:300804)</td><td style=\"text-align: left;\">NM_003611.3:c.2844_2850del (heterozygous)</td><td style=\"text-align: left;\">Intellectual disability, severe (HP:0010864); Postaxial hand polydactyly (HP:0001162); Postaxial foot polydactyly (HP:0001830); Recurrent infections (HP:0002719); excluded: Rod-cone dystrophy (HP:0000510); excluded: Microcephaly (HP:0000252); excluded: Macrocephaly (HP:0000256); excluded: Obesity (HP:0001513); excluded: Polyhydramnios (HP:0001561)</td></tr>\n",
       "<tr><td style=\"text-align: left;\">IV-10 (MALE; n/a)</td><td style=\"text-align: left;\">Joubert syndrome 10 (OMIM:300804)</td><td style=\"text-align: left;\">NM_003611.3:c.2844_2850del (heterozygous)</td><td style=\"text-align: left;\">Rod-cone dystrophy (HP:0000510); Frequent temper tantrums (HP:0025161); Intellectual disability, severe (HP:0010864); Postaxial hand polydactyly (HP:0001162); Postaxial foot polydactyly (HP:0001830); Absent speech (HP:0001344); Motor delay (HP:0001270); Molar tooth sign on MRI (HP:0002419); Cerebellar vermis hypoplasia (HP:0001320); Microcephaly (HP:0000252); Thick vermilion border (HP:0012471); Wide nasal bridge (HP:0000431); Low-set ears (HP:0000369); Conductive hearing impairment (HP:0000405); Decreased body weight (HP:0004325); Short stature (HP:0004322); Recurrent fever (HP:0001954); Tube feeding (HP:0033454); Hirsutism (HP:0001007); Recurrent infections (HP:0002719); excluded: Macrocephaly (HP:0000256); excluded: Obesity (HP:0001513); excluded: Polyhydramnios (HP:0001561)</td></tr>\n",
       "<tr><td style=\"text-align: left;\">UW87 (MALE; P12Y)</td><td style=\"text-align: left;\">Joubert syndrome 10 (OMIM:300804)</td><td style=\"text-align: left;\">NM_003611.3:c.2767del (heterozygous)</td><td style=\"text-align: left;\">Intellectual disability, severe (HP:0010864); Postaxial hand polydactyly (HP:0001162); Postaxial foot polydactyly (HP:0001830); Dysmetria (HP:0001310); Absent speech (HP:0001344); Molar tooth sign on MRI (HP:0002419); Polyphagia (HP:0002591); Macrocephaly (HP:0000256); Obesity (HP:0001513); Brachydactyly (HP:0001156); Hypotonia (HP:0001252); Tube feeding (HP:0033454); Polyhydramnios (HP:0001561); Recurrent infections (HP:0002719); excluded: Microcephaly (HP:0000252)</td></tr>\n",
       "</table>"
      ],
      "text/plain": [
       "<IPython.core.display.HTML object>"
      ]
     },
     "metadata": {},
     "output_type": "display_data"
    }
   ],
   "source": [
    "table = IndividualTable(cvalidator.get_error_free_individual_list())\n",
    "display(HTML(table.to_html()))"
   ]
  },
  {
   "cell_type": "code",
   "execution_count": 12,
   "id": "23f1094f",
   "metadata": {
    "pycharm": {
     "is_executing": true
    }
   },
   "outputs": [
    {
     "name": "stdout",
     "output_type": "stream",
     "text": [
      "We output 9 GA4GH phenopackets to the directory phenopackets\n"
     ]
    }
   ],
   "source": [
    "output_directory = \"phenopackets\"\n",
    "Individual.output_individuals_as_phenopackets(individual_list=individuals,\n",
    "                                              metadata=metadata,\n",
    "                                              outdir=output_directory)"
   ]
  },
  {
   "cell_type": "code",
   "execution_count": 26,
   "id": "9130da09-c242-46ea-a950-ba5856b087ff",
   "metadata": {},
   "outputs": [
    {
     "name": "stdout",
     "output_type": "stream",
     "text": [
      "[pyphetools] Ingested 19 GA4GH phenopackets.\n",
      "[INFO] Extracted 9 from 19 phenopackets with OMIM:300804\n",
      "\n",
      "\tJoubert syndrome 10 (OMIM:300804): n=9\n",
      "We found a total of 27 unique HPO terms\n",
      "Extracted disease: Joubert syndrome 10 (OMIM:300804)\n",
      "Wrote HPOA disease file to OMIM-300804.tab\n"
     ]
    }
   ],
   "source": [
    "pmid = \"PMID:19800048\"\n",
    "df = timporter.create_hpoa_from_phenopackets(pmid=pmid, moi=\"X-linked recessive inheritance\", target=\"OMIM:300804\")"
   ]
  },
  {
   "cell_type": "code",
   "execution_count": null,
   "id": "0b869718-aa2c-43ba-901b-6ce9935f1a33",
   "metadata": {},
   "outputs": [],
   "source": []
  }
 ],
 "metadata": {
  "kernelspec": {
   "display_name": "Python 3 (ipykernel)",
   "language": "python",
   "name": "python3"
  },
  "language_info": {
   "codemirror_mode": {
    "name": "ipython",
    "version": 3
   },
   "file_extension": ".py",
   "mimetype": "text/x-python",
   "name": "python",
   "nbconvert_exporter": "python",
   "pygments_lexer": "ipython3",
   "version": "3.8.10"
  }
 },
 "nbformat": 4,
 "nbformat_minor": 5
}
