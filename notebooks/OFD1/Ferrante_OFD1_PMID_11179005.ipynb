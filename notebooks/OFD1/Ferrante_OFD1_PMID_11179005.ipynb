{
 "cells": [
  {
   "cell_type": "markdown",
   "id": "a39f3c65",
   "metadata": {},
   "source": [
    "<h1>Creation of phenopackets from tabular data (individuals in columns)</h1>\n",
    "<p>We will process <a href=\"https://pubmed.ncbi.nlm.nih.gov/11179005/\" target=\"__blank\">Ferrante, et al. (2001) Identification of the gene for oral-facial-digital type I syndrome</a> in this notebook."
   ]
  },
  {
   "cell_type": "code",
   "execution_count": 1,
   "id": "f0602c0e",
   "metadata": {},
   "outputs": [
    {
     "name": "stdout",
     "output_type": "stream",
     "text": [
      "Using pyphetools version 0.9.66\n"
     ]
    }
   ],
   "source": [
    "import pandas as pd\n",
    "pd.set_option('display.max_colwidth', None) # show entire column contents, important!\n",
    "from IPython.display import display, HTML\n",
    "from pyphetools.creation import *\n",
    "from pyphetools.visualization import *\n",
    "from pyphetools.validation import *\n",
    "import pyphetools\n",
    "print(f\"Using pyphetools version {pyphetools.__version__}\")"
   ]
  },
  {
   "cell_type": "markdown",
   "id": "8606e7eb",
   "metadata": {},
   "source": [
    "<h2>Importing HPO data</h2>"
   ]
  },
  {
   "cell_type": "code",
   "execution_count": 2,
   "id": "5a7789fc",
   "metadata": {},
   "outputs": [
    {
     "name": "stdout",
     "output_type": "stream",
     "text": [
      "HPO version 2024-03-06\n"
     ]
    }
   ],
   "source": [
    "PMID = \"PMID:11179005\"\n",
    "title = \"Identification of the gene for oral-facial-digital type I syndrome\"\n",
    "cite = Citation(pmid=PMID, title=title)\n",
    "metadata = MetaData(created_by=\"ORCID:0000-0002-5648-2155\", citation=cite)\n",
    "parser = HpoParser(hpo_json_file=\"../hp.json\")\n",
    "hpo_cr = parser.get_hpo_concept_recognizer()\n",
    "hpo_version = parser.get_version()\n",
    "hpo_ontology = parser.get_ontology()\n",
    "\n",
    "metadata.default_versions_with_hpo(version=hpo_version)\n",
    "print(f\"HPO version {hpo_version}\")"
   ]
  },
  {
   "cell_type": "markdown",
   "id": "5102722a",
   "metadata": {},
   "source": [
    "<h2>Importing the supplemental table</h2>"
   ]
  },
  {
   "cell_type": "code",
   "execution_count": 3,
   "id": "f17c3924",
   "metadata": {},
   "outputs": [],
   "source": [
    "df = pd.read_excel('input/PMID_11179005.xlsx')\n",
    "df['Individual'] = df['(CASE)']"
   ]
  },
  {
   "cell_type": "code",
   "execution_count": 4,
   "id": "06ec7dbd",
   "metadata": {},
   "outputs": [
    {
     "data": {
      "text/html": [
       "<div>\n",
       "<style scoped>\n",
       "    .dataframe tbody tr th:only-of-type {\n",
       "        vertical-align: middle;\n",
       "    }\n",
       "\n",
       "    .dataframe tbody tr th {\n",
       "        vertical-align: top;\n",
       "    }\n",
       "\n",
       "    .dataframe thead th {\n",
       "        text-align: right;\n",
       "    }\n",
       "</style>\n",
       "<table border=\"1\" class=\"dataframe\">\n",
       "  <thead>\n",
       "    <tr style=\"text-align: right;\">\n",
       "      <th></th>\n",
       "      <th>(CASE)</th>\n",
       "      <th>sex</th>\n",
       "      <th>age</th>\n",
       "      <th>Onset</th>\n",
       "      <th>variant</th>\n",
       "      <th>Downslanted palpebral fissures</th>\n",
       "      <th>Dolichocephaly</th>\n",
       "      <th>Facial asymmetry</th>\n",
       "      <th>Localized skin lesion</th>\n",
       "      <th>Dental anomalies</th>\n",
       "      <th>...</th>\n",
       "      <th>Dry hair</th>\n",
       "      <th>Coarse hair</th>\n",
       "      <th>Alopecia</th>\n",
       "      <th>Short 2nd toe</th>\n",
       "      <th>Syndactyly</th>\n",
       "      <th>Polycystic kidney dysplasia</th>\n",
       "      <th>Polydactyly</th>\n",
       "      <th>Clinodactyly</th>\n",
       "      <th>Brachydactyly</th>\n",
       "      <th>Individual</th>\n",
       "    </tr>\n",
       "  </thead>\n",
       "  <tbody>\n",
       "    <tr>\n",
       "      <th>0</th>\n",
       "      <td>1 (F)</td>\n",
       "      <td>male</td>\n",
       "      <td>1</td>\n",
       "      <td>Congenital onset</td>\n",
       "      <td>c.1303A&gt;C</td>\n",
       "      <td>+</td>\n",
       "      <td>+</td>\n",
       "      <td>-</td>\n",
       "      <td>+</td>\n",
       "      <td>+</td>\n",
       "      <td>...</td>\n",
       "      <td>-</td>\n",
       "      <td>+</td>\n",
       "      <td>+</td>\n",
       "      <td>-</td>\n",
       "      <td>-</td>\n",
       "      <td>-</td>\n",
       "      <td>-</td>\n",
       "      <td>-</td>\n",
       "      <td>-</td>\n",
       "      <td>1 (F)</td>\n",
       "    </tr>\n",
       "    <tr>\n",
       "      <th>1</th>\n",
       "      <td>3 (F)</td>\n",
       "      <td>male</td>\n",
       "      <td>3</td>\n",
       "      <td>Congenital onset</td>\n",
       "      <td>c.312delG</td>\n",
       "      <td>-</td>\n",
       "      <td>-</td>\n",
       "      <td>-</td>\n",
       "      <td>-</td>\n",
       "      <td>-</td>\n",
       "      <td>...</td>\n",
       "      <td>-</td>\n",
       "      <td>-</td>\n",
       "      <td>-</td>\n",
       "      <td>+</td>\n",
       "      <td>-</td>\n",
       "      <td>+</td>\n",
       "      <td>+</td>\n",
       "      <td>NaN</td>\n",
       "      <td>-</td>\n",
       "      <td>3 (F)</td>\n",
       "    </tr>\n",
       "  </tbody>\n",
       "</table>\n",
       "<p>2 rows × 24 columns</p>\n",
       "</div>"
      ],
      "text/plain": [
       "  (CASE)   sex  age             Onset    variant  \\\n",
       "0  1 (F)  male    1  Congenital onset  c.1303A>C   \n",
       "1  3 (F)  male    3  Congenital onset  c.312delG   \n",
       "\n",
       "  Downslanted palpebral fissures Dolichocephaly Facial asymmetry  \\\n",
       "0                              +              +                -   \n",
       "1                              -              -                -   \n",
       "\n",
       "  Localized skin lesion Dental anomalies  ... Dry hair Coarse hair Alopecia  \\\n",
       "0                     +                +  ...        -           +        +   \n",
       "1                     -                -  ...        -           -        -   \n",
       "\n",
       "  Short 2nd toe Syndactyly Polycystic kidney dysplasia Polydactyly  \\\n",
       "0             -          -                           -           -   \n",
       "1             +          -                           +           +   \n",
       "\n",
       "  Clinodactyly Brachydactyly Individual  \n",
       "0            -             -      1 (F)  \n",
       "1          NaN             -      3 (F)  \n",
       "\n",
       "[2 rows x 24 columns]"
      ]
     },
     "execution_count": 4,
     "metadata": {},
     "output_type": "execute_result"
    }
   ],
   "source": [
    "df.head(2)"
   ]
  },
  {
   "cell_type": "markdown",
   "id": "8314d6bd",
   "metadata": {},
   "source": [
    "<h2>Column mappers</h2>\n",
    "<p>Please see the notebook \"Create phenopackets from tabular data with individuals in rows\" for explanations. In the following cell we create a dictionary for the ColumnMappers. Note that the code is identical except that we use the df.loc function to get the corresponding row data</p>"
   ]
  },
  {
   "cell_type": "code",
   "execution_count": 5,
   "id": "2305a0d2",
   "metadata": {},
   "outputs": [
    {
     "data": {
      "text/html": [
       "<table style=\"border: 2px solid black;\">\n",
       "\n",
       "<tr>\n",
       "            <th>Result</th>\n",
       "            <th>Columns</th>\n",
       "        </tr>\n",
       "        \n",
       "<tr><td>Mapped</td><td>Downslanted palpebral fissures; Dolichocephaly; Facial asymmetry; Localized skin lesion; Dental anomalies; Oral cleft; Brain imaging abnormality; Developmental delay; Hepatic cysts; Dry hair; Coarse hair; Alopecia; Short 2nd toe; Syndactyly; Polycystic kidney dysplasia; Polydactyly; Clinodactyly; Brachydactyly</td></tr>\n",
       "<tr><td>Unmapped</td><td><q>(CASE)</q>; <q>sex</q>; <q>age</q>; <q>Onset</q>; <q>variant</q>; <q>Individual</q></td></tr>\n",
       "</table>\n"
      ],
      "text/plain": [
       "<IPython.core.display.HTML object>"
      ]
     },
     "metadata": {},
     "output_type": "display_data"
    }
   ],
   "source": [
    "generator = SimpleColumnMapperGenerator(df=df, observed=\"+\", excluded=\"-\", hpo_cr=hpo_cr)\n",
    "column_mapper_list = generator.try_mapping_columns()\n",
    "display(HTML(generator.to_html()))"
   ]
  },
  {
   "cell_type": "markdown",
   "id": "5e53617d",
   "metadata": {},
   "source": [
    "<h2>Variant Data</h2>\n",
    "<p>The OFD1 variant data (HGVS transcript) is listed in the variant column.</p>"
   ]
  },
  {
   "cell_type": "code",
   "execution_count": 6,
   "id": "da4d5706",
   "metadata": {},
   "outputs": [],
   "source": [
    "genome = 'hg19'\n",
    "default_genotype = 'hemizygous'\n",
    "ofd1_transcript='NM_003611.3'\n",
    "ofd1_id = \"HGNC:2567\"\n",
    "vman = VariantManager(df=df, individual_column_name=\"Individual\", \n",
    "                      gene_id=ofd1_id, gene_symbol=\"OFD1\",\n",
    "                      allele_1_column_name='variant',transcript=ofd1_transcript)\n",
    "\n",
    "var_d = vman.get_variant_d()\n",
    "varMapper = VariantColumnMapper(variant_d=var_d,\n",
    "                                variant_column_name='variant', \n",
    "                                default_genotype=default_genotype)"
   ]
  },
  {
   "cell_type": "markdown",
   "id": "d1af2052",
   "metadata": {},
   "source": [
    "<h1>Demographic data</h1>"
   ]
  },
  {
   "cell_type": "code",
   "execution_count": 7,
   "id": "3e64dc08",
   "metadata": {},
   "outputs": [],
   "source": [
    "encounterMapper = AgeColumnMapper.by_year('age')\n",
    "#encounterMapper.preview_column(df)\n",
    "onsetMapper = AgeColumnMapper.hpo_onset(\"Onset\")\n",
    "#onsetMapper.preview_column(df)\n",
    "sexMapper = SexColumnMapper(male_symbol='male', female_symbol='female', column_name='sex')\n",
    "#sexMapper.preview_column(df)"
   ]
  },
  {
   "cell_type": "code",
   "execution_count": 8,
   "id": "f6581a8a",
   "metadata": {},
   "outputs": [],
   "source": [
    "encoder = CohortEncoder(df=df, \n",
    "                        hpo_cr=hpo_cr, \n",
    "                        column_mapper_list=column_mapper_list, \n",
    "                        individual_column_name=\"Individual\", \n",
    "                        age_of_onset_mapper=onsetMapper,\n",
    "                        age_at_last_encounter_mapper=encounterMapper,\n",
    "                        sexmapper=sexMapper,\n",
    "                        variant_mapper=varMapper, \n",
    "                        metadata=metadata)\n",
    "ofd1 = Disease(disease_id='OMIM:311200', disease_label='Orofaciodigital syndrome I')\n",
    "encoder.set_disease(ofd1)"
   ]
  },
  {
   "cell_type": "code",
   "execution_count": 9,
   "id": "fd367ed6",
   "metadata": {},
   "outputs": [
    {
     "data": {
      "text/html": [
       "<h2>Cohort validation</h2>\n",
       "<p>Errors found with 5 of 7 phenopackets.</p>\n",
       "<table style=\"border: 2px solid black; align: \"left\">\n",
       "<caption>Error counts</caption>\n",
       "<tr><th style=\"text-align: left;font-weight: bold;\">Level</th><th style=\"text-align: left;font-weight: bold;\">Error category</th><th style=\"text-align: left;font-weight: bold;\">Count</th></tr>\n",
       "<tr><td style=\"text-align: left;\">INFORMATION</td><td style=\"text-align: left;\">NOT_MEASURED</td><td style=\"text-align: left;\">12</td></tr>\n",
       "</table>\n",
       "<p>A total of 12 issues were fixed and no individual was removed from the cohort.</p>"
      ],
      "text/plain": [
       "<IPython.core.display.HTML object>"
      ]
     },
     "metadata": {},
     "output_type": "display_data"
    }
   ],
   "source": [
    "individuals = encoder.get_individuals()\n",
    "cvalidator = CohortValidator(cohort=individuals, ontology=hpo_ontology, min_hpo=1, allelic_requirement=AllelicRequirement.MONO_ALLELIC)\n",
    "qc = QcVisualizer(cohort_validator=cvalidator)\n",
    "display(HTML(qc.to_summary_html()))"
   ]
  },
  {
   "cell_type": "code",
   "execution_count": 10,
   "id": "5d044b78",
   "metadata": {},
   "outputs": [
    {
     "data": {
      "text/html": [
       "<table style=\"border: 2px solid black; align: \"left\">\n",
       "<caption>7 phenopackets - PMID:11179005 (n=7)</caption>\n",
       "<tr><th style=\"text-align: left;font-weight: bold;\">Individual</th><th style=\"text-align: left;font-weight: bold;\">Disease</th><th style=\"text-align: left;font-weight: bold;\">Genotype</th><th style=\"text-align: left;font-weight: bold;\">Phenotypic features</th></tr>\n",
       "<tr><td style=\"text-align: left;\">1 (F) (MALE; P1Y)</td><td style=\"text-align: left;\">Orofaciodigital syndrome I (OMIM:311200)</td><td style=\"text-align: left;\">NM_003611.3:c.1303A>C (hemizygous)</td><td style=\"text-align: left;\">Downslanted palpebral fissures (HP:0000494); Dolichocephaly (HP:0000268); Localized skin lesion (HP:0011355); Abnormality of the dentition (HP:0000164); Orofacial cleft (HP:0000202); Brain imaging abnormality (HP:0410263); Global developmental delay (HP:0001263); Coarse hair (HP:0002208); Alopecia (HP:0001596); excluded: Facial asymmetry (HP:0000324); excluded: Hepatic cysts (HP:0001407); excluded: Dry hair (HP:0011359); excluded: Short 2nd toe (HP:0001885); excluded: Syndactyly (HP:0001159); excluded: Polycystic kidney dysplasia (HP:0000113); excluded: Polydactyly (HP:0010442); excluded: Clinodactyly (HP:0030084); excluded: Brachydactyly (HP:0001156)</td></tr>\n",
       "<tr><td style=\"text-align: left;\">3 (F) (MALE; P3Y)</td><td style=\"text-align: left;\">Orofaciodigital syndrome I (OMIM:311200)</td><td style=\"text-align: left;\">NM_003611.3:c.312+1del (hemizygous)</td><td style=\"text-align: left;\">Orofacial cleft (HP:0000202); Brain imaging abnormality (HP:0410263); Short 2nd toe (HP:0001885); Polycystic kidney dysplasia (HP:0000113); Polydactyly (HP:0010442); excluded: Downslanted palpebral fissures (HP:0000494); excluded: Dolichocephaly (HP:0000268); excluded: Facial asymmetry (HP:0000324); excluded: Localized skin lesion (HP:0011355); excluded: Abnormality of the dentition (HP:0000164); excluded: Global developmental delay (HP:0001263); excluded: Hepatic cysts (HP:0001407); excluded: Dry hair (HP:0011359); excluded: Coarse hair (HP:0002208); excluded: Alopecia (HP:0001596); excluded: Syndactyly (HP:0001159); excluded: Brachydactyly (HP:0001156)</td></tr>\n",
       "<tr><td style=\"text-align: left;\">4 (F) (MALE; P4Y)</td><td style=\"text-align: left;\">Orofaciodigital syndrome I (OMIM:311200)</td><td style=\"text-align: left;\">NM_003611.3:c.294_312del (hemizygous)</td><td style=\"text-align: left;\">Facial asymmetry (HP:0000324); Orofacial cleft (HP:0000202); Brain imaging abnormality (HP:0410263); Global developmental delay (HP:0001263); Hepatic cysts (HP:0001407); Dry hair (HP:0011359); Alopecia (HP:0001596); Syndactyly (HP:0001159); Polycystic kidney dysplasia (HP:0000113); Clinodactyly (HP:0030084); excluded: Downslanted palpebral fissures (HP:0000494); excluded: Dolichocephaly (HP:0000268); excluded: Localized skin lesion (HP:0011355); excluded: Abnormality of the dentition (HP:0000164); excluded: Coarse hair (HP:0002208); excluded: Short 2nd toe (HP:0001885); excluded: Polydactyly (HP:0010442); excluded: Brachydactyly (HP:0001156)</td></tr>\n",
       "<tr><td style=\"text-align: left;\">6 (S) (MALE; P6Y)</td><td style=\"text-align: left;\">Orofaciodigital syndrome I (OMIM:311200)</td><td style=\"text-align: left;\">NM_003611.3:c.121C>T (hemizygous)</td><td style=\"text-align: left;\">Localized skin lesion (HP:0011355); Orofacial cleft (HP:0000202); Syndactyly (HP:0001159); excluded: Downslanted palpebral fissures (HP:0000494); excluded: Dolichocephaly (HP:0000268); excluded: Facial asymmetry (HP:0000324); excluded: Abnormality of the dentition (HP:0000164); excluded: Hepatic cysts (HP:0001407); excluded: Dry hair (HP:0011359); excluded: Coarse hair (HP:0002208); excluded: Alopecia (HP:0001596); excluded: Short 2nd toe (HP:0001885); excluded: Polycystic kidney dysplasia (HP:0000113); excluded: Polydactyly (HP:0010442); excluded: Clinodactyly (HP:0030084); excluded: Brachydactyly (HP:0001156)</td></tr>\n",
       "<tr><td style=\"text-align: left;\">10 (S) (MALE; P10Y)</td><td style=\"text-align: left;\">Orofaciodigital syndrome I (OMIM:311200)</td><td style=\"text-align: left;\">NM_003611.3:c.1071_1078del (hemizygous)</td><td style=\"text-align: left;\">Orofacial cleft (HP:0000202); Syndactyly (HP:0001159); excluded: Downslanted palpebral fissures (HP:0000494); excluded: Dolichocephaly (HP:0000268); excluded: Abnormality of the dentition (HP:0000164); excluded: Dry hair (HP:0011359); excluded: Short 2nd toe (HP:0001885); excluded: Polycystic kidney dysplasia (HP:0000113); excluded: Polydactyly (HP:0010442); excluded: Clinodactyly (HP:0030084); excluded: Brachydactyly (HP:0001156)</td></tr>\n",
       "<tr><td style=\"text-align: left;\">27 (S) (MALE; P27Y)</td><td style=\"text-align: left;\">Orofaciodigital syndrome I (OMIM:311200)</td><td style=\"text-align: left;\">NM_003611.3:c.312+2del (hemizygous)</td><td style=\"text-align: left;\">Localized skin lesion (HP:0011355); Abnormality of the dentition (HP:0000164); Orofacial cleft (HP:0000202); Global developmental delay (HP:0001263); Polycystic kidney dysplasia (HP:0000113); excluded: Downslanted palpebral fissures (HP:0000494); excluded: Dolichocephaly (HP:0000268); excluded: Facial asymmetry (HP:0000324); excluded: Hepatic cysts (HP:0001407); excluded: Dry hair (HP:0011359); excluded: Coarse hair (HP:0002208); excluded: Alopecia (HP:0001596); excluded: Short 2nd toe (HP:0001885); excluded: Syndactyly (HP:0001159); excluded: Polydactyly (HP:0010442); excluded: Clinodactyly (HP:0030084); excluded: Brachydactyly (HP:0001156)</td></tr>\n",
       "<tr><td style=\"text-align: left;\">28 (S) (MALE; P28Y)</td><td style=\"text-align: left;\">Orofaciodigital syndrome I (OMIM:311200)</td><td style=\"text-align: left;\">NM_003611.3:c.1757del (hemizygous)</td><td style=\"text-align: left;\">Localized skin lesion (HP:0011355); Abnormality of the dentition (HP:0000164); Orofacial cleft (HP:0000202); Global developmental delay (HP:0001263); Alopecia (HP:0001596); Clinodactyly (HP:0030084); Brachydactyly (HP:0001156); excluded: Downslanted palpebral fissures (HP:0000494); excluded: Dolichocephaly (HP:0000268); excluded: Facial asymmetry (HP:0000324); excluded: Hepatic cysts (HP:0001407); excluded: Dry hair (HP:0011359); excluded: Coarse hair (HP:0002208); excluded: Short 2nd toe (HP:0001885); excluded: Syndactyly (HP:0001159); excluded: Polycystic kidney dysplasia (HP:0000113); excluded: Polydactyly (HP:0010442)</td></tr>\n",
       "</table>"
      ],
      "text/plain": [
       "<IPython.core.display.HTML object>"
      ]
     },
     "metadata": {},
     "output_type": "display_data"
    }
   ],
   "source": [
    "individuals = cvalidator.get_error_free_individual_list()\n",
    "table = PhenopacketTable(individual_list=individuals, metadata=metadata)\n",
    "display(HTML(table.to_html()))"
   ]
  },
  {
   "cell_type": "code",
   "execution_count": 11,
   "id": "23f1094f",
   "metadata": {
    "scrolled": true
   },
   "outputs": [
    {
     "name": "stdout",
     "output_type": "stream",
     "text": [
      "We output 7 GA4GH phenopackets to the directory phenopackets\n"
     ]
    }
   ],
   "source": [
    "output_directory = \"phenopackets\"\n",
    "Individual.output_individuals_as_phenopackets(individual_list=individuals,\n",
    "                                             metadata=metadata,\n",
    "                                             outdir=output_directory)"
   ]
  },
  {
   "cell_type": "code",
   "execution_count": null,
   "id": "0adfec7e-3453-463d-aa8a-9c86b53e29f0",
   "metadata": {},
   "outputs": [],
   "source": []
  }
 ],
 "metadata": {
  "kernelspec": {
   "display_name": "Python 3 (ipykernel)",
   "language": "python",
   "name": "python3"
  },
  "language_info": {
   "codemirror_mode": {
    "name": "ipython",
    "version": 3
   },
   "file_extension": ".py",
   "mimetype": "text/x-python",
   "name": "python",
   "nbconvert_exporter": "python",
   "pygments_lexer": "ipython3",
   "version": "3.8.10"
  }
 },
 "nbformat": 4,
 "nbformat_minor": 5
}
