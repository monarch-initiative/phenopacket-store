{
 "cells": [
  {
   "cell_type": "markdown",
   "metadata": {},
   "source": [
    "# AEBP1\n",
    "[Ehlers-Danlos syndrome classic-like-2 (EDSCLL2)](https://omim.org/entry/618000) is caused by homozygous or compound heterozygous mutation in the AEBP1 gene."
   ]
  },
  {
   "cell_type": "code",
   "execution_count": 3,
   "metadata": {},
   "outputs": [
    {
     "name": "stdout",
     "output_type": "stream",
     "text": [
      "Using pyphetools version 0.9.83\n"
     ]
    }
   ],
   "source": [
    "from pyphetools.creation import TemplateImporter\n",
    "from pyphetools.visualization import IndividualTable, QcVisualizer\n",
    "from IPython.display import display, HTML\n",
    "import pyphetools\n",
    "print(f\"Using pyphetools version {pyphetools.__version__}\")"
   ]
  },
  {
   "cell_type": "code",
   "execution_count": 5,
   "metadata": {},
   "outputs": [],
   "source": [
    "template = \"input/AEBP1_EDSCLL2_individuals.xlsx\"\n",
    "created_by = \"0000-0002-0736-9199\""
   ]
  },
  {
   "cell_type": "code",
   "execution_count": 7,
   "metadata": {},
   "outputs": [
    {
     "name": "stdout",
     "output_type": "stream",
     "text": [
      "HPO version 2024-04-26\n",
      "Created encoders for 69 fields\n",
      "Importing OMIM:618000, Ehlers-Danlos syndrome, classic-like, 2, HGNC:303, AEBP1,  NM_001129.5\n",
      "[INFO] encoding variant \"c.1470del\"\n",
      "https://rest.variantvalidator.org/VariantValidator/variantvalidator/hg38/NM_001129.5%3Ac.1470del/NM_001129.5?content-type=application%2Fjson\n",
      "[INFO] encoding variant \"c.1630+1G>A\"\n",
      "https://rest.variantvalidator.org/VariantValidator/variantvalidator/hg38/NM_001129.5%3Ac.1630+1G>A/NM_001129.5?content-type=application%2Fjson\n",
      "[INFO] encoding variant \"c.1320_1326del\"\n",
      "https://rest.variantvalidator.org/VariantValidator/variantvalidator/hg38/NM_001129.5%3Ac.1320_1326del/NM_001129.5?content-type=application%2Fjson\n",
      "[INFO] encoding variant \"c.1925T>C\"\n",
      "https://rest.variantvalidator.org/VariantValidator/variantvalidator/hg38/NM_001129.5%3Ac.1925T>C/NM_001129.5?content-type=application%2Fjson\n",
      "[INFO] encoding variant \"c.1743C>A\"\n",
      "https://rest.variantvalidator.org/VariantValidator/variantvalidator/hg38/NM_001129.5%3Ac.1743C>A/NM_001129.5?content-type=application%2Fjson\n",
      "We output 5 GA4GH phenopackets to the directory phenopackets\n"
     ]
    }
   ],
   "source": [
    "timporter = TemplateImporter(template=template,  created_by=created_by)\n",
    "individual_list, cvalidator = timporter.import_phenopackets_from_template()"
   ]
  },
  {
   "cell_type": "code",
   "execution_count": 8,
   "metadata": {},
   "outputs": [
    {
     "data": {
      "text/html": [
       "<h2>Cohort validation</h2>\n",
       "<p>Errors found with 1 of 5 phenopackets.</p>\n",
       "<table style=\"border: 2px solid black; align: \"left\">\n",
       "<caption>Error counts</caption>\n",
       "<tr><th style=\"text-align: left;font-weight: bold;\">Level</th><th style=\"text-align: left;font-weight: bold;\">Error category</th><th style=\"text-align: left;font-weight: bold;\">Count</th></tr>\n",
       "<tr><td style=\"text-align: left;\">WARNING</td><td style=\"text-align: left;\">REDUNDANT</td><td style=\"text-align: left;\">1</td></tr>\n",
       "</table>\n",
       "<p>A total of 1 issues were fixed and no individual was removed from the cohort.</p>"
      ],
      "text/plain": [
       "<IPython.core.display.HTML object>"
      ]
     },
     "metadata": {},
     "output_type": "display_data"
    }
   ],
   "source": [
    "qc = QcVisualizer(cohort_validator=cvalidator)\n",
    "display(HTML(qc.to_summary_html()))"
   ]
  },
  {
   "cell_type": "code",
   "execution_count": 9,
   "metadata": {},
   "outputs": [
    {
     "data": {
      "text/html": [
       "<table style=\"border: 2px solid black; align: \"left\">\n",
       "<caption>5 phenopackets - PMID:29606302 (n=4); PMID:30759870 (n=1)</caption>\n",
       "<tr><th style=\"text-align: left;font-weight: bold;\">Individual</th><th style=\"text-align: left;font-weight: bold;\">Disease</th><th style=\"text-align: left;font-weight: bold;\">Genotype</th><th style=\"text-align: left;font-weight: bold;\">Phenotypic features</th></tr>\n",
       "<tr><td style=\"text-align: left;\">A-II:1 (MALE; P35Y)</td><td style=\"text-align: left;\">Ehlers-Danlos syndrome, classic-like, 2 (OMIM:618000)</td><td style=\"text-align: left;\"><ul> <li>NM_001129.5:c.1470del (heterozygous)</li> <li>NM_001129.5:c.1743C>A (heterozygous)</li> </ul></td><td style=\"text-align: left;\">Motor delay (HP:0001270); Hallux valgus (HP:0001822); Hammertoe (HP:0001765); Generalized joint hypermobility (HP:0002761); Osteopenia (HP:0000938); Hip dislocation (HP:0002827); Cervical C2/C3 vertebral fusion (HP:0004602); Atrophic scars (HP:0001075); Redundant skin (HP:0001582); Premature sagging cheeks (HP:0034273); Hyperextensible skin (HP:0000974); Bruising susceptibility (HP:0000978); Mitral valve prolapse (HP:0001634); Cryptorchidism (HP:0000028); Macrotia (HP:0000400); Pes planus (HP:0001763); Tooth malposition (HP:0000692); Poor wound healing (HP:0001058); excluded: Squared iliac bones (HP:0003177); excluded: Neonatal respiratory distress (HP:0002643); excluded: Hypotonia (HP:0001252); excluded: Thoracic scoliosis (HP:0002943); excluded: Bursitis (HP:0025232); excluded: Cellulitis (HP:0100658); excluded: Empty sella turcica (HP:6000483); excluded: Shoulder dislocation (HP:0003834); excluded: Ventral hernia (HP:0002933); excluded: Inguinal hernia (HP:0000023); excluded: Umbilical hernia (HP:0001537); excluded: Webbed neck (HP:0000465); excluded: Low posterior hairline (HP:0002162); excluded: High palate (HP:0000218); excluded: Micrognathia (HP:0000347); excluded: Bilateral ptosis (HP:0001488); excluded: Keloids (HP:0010562); excluded: Hyperpigmentation of the skin (HP:0000953); excluded: Thoracic aortic aneurysm (HP:0012727)</td></tr>\n",
       "<tr><td style=\"text-align: left;\">B-II-1 (MALE; P33Y)</td><td style=\"text-align: left;\">Ehlers-Danlos syndrome, classic-like, 2 (OMIM:618000)</td><td style=\"text-align: left;\">NM_001129.5:c.1320_1326del (homozygous)</td><td style=\"text-align: left;\">Hip dislocation (HP:0002827); Hallux valgus (HP:0001822); Hammertoe (HP:0001765); Thoracic scoliosis (HP:0002943); Generalized joint hypermobility (HP:0002761); Bursitis (HP:0025232); Empty sella turcica (HP:6000483); Osteopenia (HP:0000938); Shoulder dislocation (HP:0003834); Atrophic scars (HP:0001075); Redundant skin (HP:0001582); Hyperextensible skin (HP:0000974); Bruising susceptibility (HP:0000978); Ventral hernia (HP:0002933); Mitral valve prolapse (HP:0001634); Micrognathia (HP:0000347); Pes planus (HP:0001763); Poor wound healing (HP:0001058); Hyperpigmentation of the skin (HP:0000953); Thoracic aortic aneurysm (HP:0012727); excluded: Squared iliac bones (HP:0003177); excluded: Neonatal respiratory distress (HP:0002643); excluded: Hypotonia (HP:0001252); excluded: Motor delay (HP:0001270); excluded: Cellulitis (HP:0100658); excluded: Inguinal hernia (HP:0000023); excluded: Umbilical hernia (HP:0001537); excluded: Cryptorchidism (HP:0000028); excluded: Webbed neck (HP:0000465); excluded: Low posterior hairline (HP:0002162); excluded: High palate (HP:0000218); excluded: Macrotia (HP:0000400); excluded: Bilateral ptosis (HP:0001488); excluded: Keloids (HP:0010562)</td></tr>\n",
       "<tr><td style=\"text-align: left;\">C-IV:6 (FEMALE; P12Y)</td><td style=\"text-align: left;\">Ehlers-Danlos syndrome, classic-like, 2 (OMIM:618000)</td><td style=\"text-align: left;\">NM_001129.5:c.1630+1G>A (homozygous)</td><td style=\"text-align: left;\">Hallux valgus (HP:0001822); Hammertoe (HP:0001765); Squared iliac bones (HP:0003177); Hypotonia (HP:0001252); Generalized joint hypermobility (HP:0002761); Knee dislocation (HP:0004976); Cellulitis (HP:0100658); Osteopenia (HP:0000938); Shoulder dislocation (HP:0003834); Hip dislocation (HP:0002827); Atrophic scars (HP:0001075); Redundant skin (HP:0001582); Hyperextensible skin (HP:0000974); Bruising susceptibility (HP:0000978); Ventral hernia (HP:0002933); Inguinal hernia (HP:0000023); Umbilical hernia (HP:0001537); Webbed neck (HP:0000465); Low posterior hairline (HP:0002162); High palate (HP:0000218); Macrotia (HP:0000400); Bilateral ptosis (HP:0001488); Pes planus (HP:0001763); Poor wound healing (HP:0001058); Keloids (HP:0010562); excluded: Neonatal respiratory distress (HP:0002643); excluded: Motor delay (HP:0001270); excluded: Thoracic scoliosis (HP:0002943); excluded: Bursitis (HP:0025232); excluded: Empty sella turcica (HP:6000483); excluded: Mitral valve prolapse (HP:0001634); excluded: Micrognathia (HP:0000347); excluded: Hyperpigmentation of the skin (HP:0000953); excluded: Thoracic aortic aneurysm (HP:0012727)</td></tr>\n",
       "<tr><td style=\"text-align: left;\">C-IV:4 (MALE; P24Y)</td><td style=\"text-align: left;\">Ehlers-Danlos syndrome, classic-like, 2 (OMIM:618000)</td><td style=\"text-align: left;\">NM_001129.5:c.1630+1G>A (homozygous)</td><td style=\"text-align: left;\">Hallux valgus (HP:0001822); Hammertoe (HP:0001765); Generalized joint hypermobility (HP:0002761); Osteopenia (HP:0000938); Redundant skin (HP:0001582); Hyperextensible skin (HP:0000974); Pes planus (HP:0001763); Poor wound healing (HP:0001058); excluded: Squared iliac bones (HP:0003177); excluded: Neonatal respiratory distress (HP:0002643); excluded: Motor delay (HP:0001270); excluded: Thoracic scoliosis (HP:0002943); excluded: Bursitis (HP:0025232); excluded: Cellulitis (HP:0100658); excluded: Empty sella turcica (HP:6000483); excluded: Mitral valve prolapse (HP:0001634); excluded: Cryptorchidism (HP:0000028); excluded: Thoracic aortic aneurysm (HP:0012727)</td></tr>\n",
       "<tr><td style=\"text-align: left;\">LOVD ID AN_006205 (FEMALE; P53Y)</td><td style=\"text-align: left;\">Ehlers-Danlos syndrome, classic-like, 2 (OMIM:618000)</td><td style=\"text-align: left;\">NM_001129.5:c.1925T>C (homozygous)</td><td style=\"text-align: left;\"><b>P21Y</b>: Chronic fatigue (HP:0012432); Molluscoid pseudotumors (HP:0000993); Widened atrophic scar (HP:0031158)<br/><b>P52Y</b>: Thoracic scoliosis (HP:0002943)<br/>Neonatal respiratory distress (HP:0002643); Motor delay (HP:0001270); Periodontitis (HP:0000704); Recurrent patellar dislocation (HP:0005001); Hallux valgus (HP:0001822); Hypotonia (HP:0001252); Osteopenia (HP:0000938); Redundant skin (HP:0001582); Hyperextensible skin (HP:0000974); Bruising susceptibility (HP:0000978); Umbilical hernia (HP:0001537); High palate (HP:0000218); Long uvula (HP:0010810); Pes planus (HP:0001763); Poor wound healing (HP:0001058); Varicose veins (HP:0002619); Low back pain (HP:0003419); Soft, doughy skin (HP:0001027); Intermittent claudication (HP:0004417); Recurrent thrombophlebitis (HP:0004419)</td></tr>\n",
       "</table>"
      ],
      "text/plain": [
       "<IPython.core.display.HTML object>"
      ]
     },
     "metadata": {},
     "output_type": "display_data"
    }
   ],
   "source": [
    "table = IndividualTable(cvalidator.get_error_free_individual_list())\n",
    "display(HTML(table.to_html()))"
   ]
  },
  {
   "cell_type": "code",
   "execution_count": 10,
   "metadata": {},
   "outputs": [
    {
     "name": "stdout",
     "output_type": "stream",
     "text": [
      "[pyphetools] Ingested 5 GA4GH phenopackets.\n",
      "\tEhlers-Danlos syndrome, classic-like, 2 (OMIM:618000): n=5\n",
      "We found a total of 49 unique HPO terms\n",
      "Extracted disease: Ehlers-Danlos syndrome, classic-like, 2 (OMIM:618000)\n",
      "Wrote HPOA disease file to OMIM-618000.tab\n"
     ]
    }
   ],
   "source": [
    "pmid = \"PMID:29606302\"\n",
    "df = timporter.create_hpoa_from_phenopackets(pmid=pmid, moi=\"Autosomal recessive\")"
   ]
  }
 ],
 "metadata": {
  "kernelspec": {
   "display_name": "ps24venv",
   "language": "python",
   "name": "python3"
  },
  "language_info": {
   "codemirror_mode": {
    "name": "ipython",
    "version": 3
   },
   "file_extension": ".py",
   "mimetype": "text/x-python",
   "name": "python",
   "nbconvert_exporter": "python",
   "pygments_lexer": "ipython3",
   "version": "3.9.6"
  }
 },
 "nbformat": 4,
 "nbformat_minor": 2
}
