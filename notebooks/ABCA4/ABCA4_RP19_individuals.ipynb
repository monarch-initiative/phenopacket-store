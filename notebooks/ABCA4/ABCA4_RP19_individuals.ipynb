{
 "cells": [
  {
   "cell_type": "markdown",
   "id": "cce75f16-8f8a-475f-b3dd-6532a3bab198",
   "metadata": {},
   "source": [
    "# ABCA4"
   ]
  },
  {
   "cell_type": "code",
   "execution_count": 5,
   "id": "746493fc-b3ad-4d9e-be6b-fe7f2e84eeb9",
   "metadata": {},
   "outputs": [
    {
     "name": "stdout",
     "output_type": "stream",
     "text": [
      "Using pyphetools version 0.9.76\n"
     ]
    }
   ],
   "source": [
    "from pyphetools.creation import TemplateImporter\n",
    "from pyphetools.visualization import IndividualTable, QcVisualizer\n",
    "from IPython.display import display, HTML\n",
    "import pyphetools\n",
    "print(f\"Using pyphetools version {pyphetools.__version__}\")"
   ]
  },
  {
   "cell_type": "code",
   "execution_count": 6,
   "id": "79753c53-d13a-4293-9886-aa39d99b1d90",
   "metadata": {},
   "outputs": [],
   "source": [
    "template = \"input/ABCA4_RP19_individuals.xlsx\"\n",
    "hp_json = \"../hp.json\"\n",
    "created_by = \"0000-0002-0736-9199\""
   ]
  },
  {
   "cell_type": "code",
   "execution_count": 10,
   "id": "933aa0cf-2a95-495f-8ce3-842c1b65d05c",
   "metadata": {},
   "outputs": [
    {
     "name": "stdout",
     "output_type": "stream",
     "text": [
      "HPO version 2024-04-03\n",
      "Created encoders for 25 fields\n",
      "Importing OMIM:601718, Retinitis pigmentosa 19, HGNC:34, ABCA4,  NM_000350.3\n",
      "We output 1 GA4GH phenopackets to the directory phenopackets\n"
     ]
    }
   ],
   "source": [
    "deletions = {\"large deletion of unknown size\"}\n",
    "timporter = TemplateImporter(template=template, hp_json=hp_json, created_by=created_by)\n",
    "individual_list, cvalidator = timporter.import_phenopackets_from_template(deletions=deletions)"
   ]
  },
  {
   "cell_type": "code",
   "execution_count": 11,
   "id": "760162da-4216-4e9f-8b7e-531a334fbb1d",
   "metadata": {},
   "outputs": [
    {
     "data": {
      "text/html": [
       "<h2>Cohort validation</h2>\n",
       "<p>Errors found with 1 of 1 phenopackets.</p>\n",
       "<table style=\"border: 2px solid black; align: \"left\">\n",
       "<caption>Error counts</caption>\n",
       "<tr><th style=\"text-align: left;font-weight: bold;\">Level</th><th style=\"text-align: left;font-weight: bold;\">Error category</th><th style=\"text-align: left;font-weight: bold;\">Count</th></tr>\n",
       "<tr><td style=\"text-align: left;\">WARNING</td><td style=\"text-align: left;\">REDUNDANT</td><td style=\"text-align: left;\">1</td></tr>\n",
       "</table>\n",
       "<p>A total of 1 issues were fixed and no individual was removed from the cohort.</p>"
      ],
      "text/plain": [
       "<IPython.core.display.HTML object>"
      ]
     },
     "metadata": {},
     "output_type": "display_data"
    }
   ],
   "source": [
    "qc = QcVisualizer(cohort_validator=cvalidator)\n",
    "display(HTML(qc.to_summary_html()))"
   ]
  },
  {
   "cell_type": "code",
   "execution_count": 12,
   "id": "3e9f2a50-d713-40e8-be13-dbe22c4be1d6",
   "metadata": {},
   "outputs": [
    {
     "data": {
      "text/html": [
       "<table style=\"border: 2px solid black; align: \"left\">\n",
       "<caption>1 phenopacket - PMID:10874631 (n=1)</caption>\n",
       "<tr><th style=\"text-align: left;font-weight: bold;\">Individual</th><th style=\"text-align: left;font-weight: bold;\">Disease</th><th style=\"text-align: left;font-weight: bold;\">Genotype</th><th style=\"text-align: left;font-weight: bold;\">Phenotypic features</th></tr>\n",
       "<tr><td style=\"text-align: left;\">II.2 (FEMALE; P34Y)</td><td style=\"text-align: left;\">Retinitis pigmentosa 19 (OMIM:601718)</td><td style=\"text-align: left;\"><ul> <li>NM_000350.3:c.1938-1G>A (heterozygous)</li> <li>large deletion of unknown size: chromosomal_deletion (SO:1000029)</li> </ul></td><td style=\"text-align: left;\">Nyctalopia (HP:0000662); Constriction of peripheral visual field (HP:0001133); Undetectable electroretinogram (HP:0000550); Optic disc pallor (HP:0000543); Ultra-low vision with retained light perception (HP:0032286); Choriocapillaris atrophy (HP:0030491); Pigmentary retinopathy (HP:0000580)</td></tr>\n",
       "</table>"
      ],
      "text/plain": [
       "<IPython.core.display.HTML object>"
      ]
     },
     "metadata": {},
     "output_type": "display_data"
    }
   ],
   "source": [
    "table = IndividualTable(cvalidator.get_error_free_individual_list())\n",
    "display(HTML(table.to_html()))"
   ]
  },
  {
   "cell_type": "code",
   "execution_count": 13,
   "id": "8e6ad0f7-90f3-46d6-8497-9f886c1a3288",
   "metadata": {},
   "outputs": [
    {
     "name": "stdout",
     "output_type": "stream",
     "text": [
      "{\n",
      "  \"id\": \"PMID_10874631_II.2\",\n",
      "  \"subject\": {\n",
      "    \"id\": \"II.2\",\n",
      "    \"timeAtLastEncounter\": {\n",
      "      \"age\": {\n",
      "        \"iso8601duration\": \"P34Y\"\n",
      "      }\n",
      "    },\n",
      "    \"sex\": \"FEMALE\"\n",
      "  },\n",
      "  \"phenotypicFeatures\": [\n",
      "    {\n",
      "      \"type\": {\n",
      "        \"id\": \"HP:0000662\",\n",
      "        \"label\": \"Nyctalopia\"\n",
      "      },\n",
      "      \"onset\": {\n",
      "        \"ontologyClass\": {\n",
      "          \"id\": \"HP:0003621\",\n",
      "          \"label\": \"Juvenile onset\"\n",
      "        }\n",
      "      }\n",
      "    },\n",
      "    {\n",
      "      \"type\": {\n",
      "        \"id\": \"HP:0001133\",\n",
      "        \"label\": \"Constriction of peripheral visual field\"\n",
      "      },\n",
      "      \"onset\": {\n",
      "        \"ontologyClass\": {\n",
      "          \"id\": \"HP:0003581\",\n",
      "          \"label\": \"Adult onset\"\n",
      "        }\n",
      "      }\n",
      "    },\n",
      "    {\n",
      "      \"type\": {\n",
      "        \"id\": \"HP:0000550\",\n",
      "        \"label\": \"Undetectable electroretinogram\"\n",
      "      },\n",
      "      \"onset\": {\n",
      "        \"ontologyClass\": {\n",
      "          \"id\": \"HP:0003581\",\n",
      "          \"label\": \"Adult onset\"\n",
      "        }\n",
      "      }\n",
      "    },\n",
      "    {\n",
      "      \"type\": {\n",
      "        \"id\": \"HP:0000543\",\n",
      "        \"label\": \"Optic disc pallor\"\n",
      "      }\n",
      "    },\n",
      "    {\n",
      "      \"type\": {\n",
      "        \"id\": \"HP:0032286\",\n",
      "        \"label\": \"Ultra-low vision with retained light perception\"\n",
      "      }\n",
      "    },\n",
      "    {\n",
      "      \"type\": {\n",
      "        \"id\": \"HP:0030491\",\n",
      "        \"label\": \"Choriocapillaris atrophy\"\n",
      "      }\n",
      "    },\n",
      "    {\n",
      "      \"type\": {\n",
      "        \"id\": \"HP:0000580\",\n",
      "        \"label\": \"Pigmentary retinopathy\"\n",
      "      }\n",
      "    }\n",
      "  ],\n",
      "  \"interpretations\": [\n",
      "    {\n",
      "      \"id\": \"II.2\",\n",
      "      \"progressStatus\": \"SOLVED\",\n",
      "      \"diagnosis\": {\n",
      "        \"disease\": {\n",
      "          \"id\": \"OMIM:601718\",\n",
      "          \"label\": \"Retinitis pigmentosa 19\"\n",
      "        },\n",
      "        \"genomicInterpretations\": [\n",
      "          {\n",
      "            \"subjectOrBiosampleId\": \"II.2\",\n",
      "            \"interpretationStatus\": \"CAUSATIVE\",\n",
      "            \"variantInterpretation\": {\n",
      "              \"variationDescriptor\": {\n",
      "                \"id\": \"var_kYtbznuTTVBNxTMhGuRhcSCqc\",\n",
      "                \"geneContext\": {\n",
      "                  \"valueId\": \"HGNC:34\",\n",
      "                  \"symbol\": \"ABCA4\"\n",
      "                },\n",
      "                \"expressions\": [\n",
      "                  {\n",
      "                    \"syntax\": \"hgvs.c\",\n",
      "                    \"value\": \"NM_000350.3:c.1938-1G>A\"\n",
      "                  },\n",
      "                  {\n",
      "                    \"syntax\": \"hgvs.g\",\n",
      "                    \"value\": \"NC_000001.11:g.94060760C>T\"\n",
      "                  }\n",
      "                ],\n",
      "                \"vcfRecord\": {\n",
      "                  \"genomeAssembly\": \"hg38\",\n",
      "                  \"chrom\": \"chr1\",\n",
      "                  \"pos\": \"94060760\",\n",
      "                  \"ref\": \"C\",\n",
      "                  \"alt\": \"T\"\n",
      "                },\n",
      "                \"moleculeContext\": \"genomic\",\n",
      "                \"allelicState\": {\n",
      "                  \"id\": \"GENO:0000135\",\n",
      "                  \"label\": \"heterozygous\"\n",
      "                }\n",
      "              }\n",
      "            }\n",
      "          },\n",
      "          {\n",
      "            \"subjectOrBiosampleId\": \"II.2\",\n",
      "            \"interpretationStatus\": \"CAUSATIVE\",\n",
      "            \"variantInterpretation\": {\n",
      "              \"variationDescriptor\": {\n",
      "                \"id\": \"var_cgNBsGcwFBQkmaDOKRBRoCofK\",\n",
      "                \"label\": \"large deletion of unknown size\",\n",
      "                \"geneContext\": {\n",
      "                  \"valueId\": \"HGNC:34\",\n",
      "                  \"symbol\": \"ABCA4\"\n",
      "                },\n",
      "                \"moleculeContext\": \"genomic\",\n",
      "                \"structuralType\": {\n",
      "                  \"id\": \"SO:1000029\",\n",
      "                  \"label\": \"chromosomal_deletion\"\n",
      "                },\n",
      "                \"allelicState\": {\n",
      "                  \"id\": \"GENO:0000135\",\n",
      "                  \"label\": \"heterozygous\"\n",
      "                }\n",
      "              }\n",
      "            }\n",
      "          }\n",
      "        ]\n",
      "      }\n",
      "    }\n",
      "  ],\n",
      "  \"diseases\": [\n",
      "    {\n",
      "      \"term\": {\n",
      "        \"id\": \"OMIM:601718\",\n",
      "        \"label\": \"Retinitis pigmentosa 19\"\n",
      "      },\n",
      "      \"onset\": {\n",
      "        \"ontologyClass\": {\n",
      "          \"id\": \"HP:0003621\",\n",
      "          \"label\": \"Juvenile onset\"\n",
      "        }\n",
      "      }\n",
      "    }\n",
      "  ],\n",
      "  \"metaData\": {\n",
      "    \"created\": \"2024-04-14T13:19:21.344089031Z\",\n",
      "    \"createdBy\": \"ORCID:0000-0002-0736-9199\",\n",
      "    \"resources\": [\n",
      "      {\n",
      "        \"id\": \"geno\",\n",
      "        \"name\": \"Genotype Ontology\",\n",
      "        \"url\": \"http://purl.obolibrary.org/obo/geno.owl\",\n",
      "        \"version\": \"2022-03-05\",\n",
      "        \"namespacePrefix\": \"GENO\",\n",
      "        \"iriPrefix\": \"http://purl.obolibrary.org/obo/GENO_\"\n",
      "      },\n",
      "      {\n",
      "        \"id\": \"hgnc\",\n",
      "        \"name\": \"HUGO Gene Nomenclature Committee\",\n",
      "        \"url\": \"https://www.genenames.org\",\n",
      "        \"version\": \"06/01/23\",\n",
      "        \"namespacePrefix\": \"HGNC\",\n",
      "        \"iriPrefix\": \"https://www.genenames.org/data/gene-symbol-report/#!/hgnc_id/\"\n",
      "      },\n",
      "      {\n",
      "        \"id\": \"omim\",\n",
      "        \"name\": \"An Online Catalog of Human Genes and Genetic Disorders\",\n",
      "        \"url\": \"https://www.omim.org\",\n",
      "        \"version\": \"January 4, 2023\",\n",
      "        \"namespacePrefix\": \"OMIM\",\n",
      "        \"iriPrefix\": \"https://www.omim.org/entry/\"\n",
      "      },\n",
      "      {\n",
      "        \"id\": \"so\",\n",
      "        \"name\": \"Sequence types and features ontology\",\n",
      "        \"url\": \"http://purl.obolibrary.org/obo/so.obo\",\n",
      "        \"version\": \"2021-11-22\",\n",
      "        \"namespacePrefix\": \"SO\",\n",
      "        \"iriPrefix\": \"http://purl.obolibrary.org/obo/SO_\"\n",
      "      },\n",
      "      {\n",
      "        \"id\": \"hp\",\n",
      "        \"name\": \"human phenotype ontology\",\n",
      "        \"url\": \"http://purl.obolibrary.org/obo/hp.owl\",\n",
      "        \"version\": \"2024-04-03\",\n",
      "        \"namespacePrefix\": \"HP\",\n",
      "        \"iriPrefix\": \"http://purl.obolibrary.org/obo/HP_\"\n",
      "      }\n",
      "    ],\n",
      "    \"phenopacketSchemaVersion\": \"2.0\",\n",
      "    \"externalReferences\": [\n",
      "      {\n",
      "        \"id\": \"PMID:10874631\",\n",
      "        \"reference\": \"https://pubmed.ncbi.nlm.nih.gov/10874631\",\n",
      "        \"description\": \"Mutations of the retinal specific ATP binding transporter gene (ABCR) in a single family segregating both autosomal recessive retinitis pigmentosa RP19 and Stargardt disease: evidence of clinical heterogeneity at this locus\"\n",
      "      }\n",
      "    ]\n",
      "  }\n",
      "}"
     ]
    }
   ],
   "source": [
    "!cat phenopackets/PMID_10874631_II2.json"
   ]
  },
  {
   "cell_type": "code",
   "execution_count": null,
   "id": "d6b22b4d-4025-4dda-80c1-0c1914f4fb64",
   "metadata": {},
   "outputs": [],
   "source": []
  }
 ],
 "metadata": {
  "kernelspec": {
   "display_name": "Python 3 (ipykernel)",
   "language": "python",
   "name": "python3"
  },
  "language_info": {
   "codemirror_mode": {
    "name": "ipython",
    "version": 3
   },
   "file_extension": ".py",
   "mimetype": "text/x-python",
   "name": "python",
   "nbconvert_exporter": "python",
   "pygments_lexer": "ipython3",
   "version": "3.8.10"
  }
 },
 "nbformat": 4,
 "nbformat_minor": 5
}
