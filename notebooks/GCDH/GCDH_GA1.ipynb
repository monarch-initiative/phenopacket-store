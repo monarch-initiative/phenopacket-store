{
 "cells": [
  {
   "cell_type": "markdown",
   "id": "4ca152e6-efb1-4081-aa74-33162f05dec7",
   "metadata": {},
   "source": [
    "# GCDH\n",
    "[glutaric acidemia I (GA1)](https://www.omim.org/entry/231670) is caused by homozygous or compound heterozygous mutation in the gene encoding glutaryl-CoA dehydrogenase (GCDH)."
   ]
  },
  {
   "cell_type": "code",
   "execution_count": 1,
   "id": "4c59897e-212c-463e-a645-e002d89bc6ad",
   "metadata": {},
   "outputs": [
    {
     "name": "stdout",
     "output_type": "stream",
     "text": [
      "Using pyphetools version 0.9.78\n"
     ]
    },
    {
     "name": "stderr",
     "output_type": "stream",
     "text": [
      "/Users/robin/GIT/phenopacket-store/ps24venv/lib/python3.9/site-packages/urllib3/__init__.py:35: NotOpenSSLWarning: urllib3 v2 only supports OpenSSL 1.1.1+, currently the 'ssl' module is compiled with 'LibreSSL 2.8.3'. See: https://github.com/urllib3/urllib3/issues/3020\n",
      "  warnings.warn(\n"
     ]
    }
   ],
   "source": [
    "from pyphetools.creation import TemplateImporter\n",
    "from pyphetools.visualization import IndividualTable, QcVisualizer\n",
    "from IPython.display import display, HTML\n",
    "import pyphetools\n",
    "print(f\"Using pyphetools version {pyphetools.__version__}\")"
   ]
  },
  {
   "cell_type": "code",
   "execution_count": 2,
   "id": "c89df2a5-fae9-4cdd-ae59-3a6fef10f463",
   "metadata": {},
   "outputs": [],
   "source": [
    "template = \"input/GCDH_GA1_individuals.xlsx\"\n",
    "hp_json = \"../hp.json\"\n",
    "created_by = \"0000-0002-0736-9199\""
   ]
  },
  {
   "cell_type": "code",
   "execution_count": 3,
   "id": "f9d75c3f-45ea-4a3a-8aab-c937526e6304",
   "metadata": {},
   "outputs": [
    {
     "name": "stdout",
     "output_type": "stream",
     "text": [
      "HPO version 2024-04-04\n",
      "Created encoders for 32 fields\n",
      "Importing OMIM:231670, Glutaricaciduria, type I, HGNC:4189, GCDH,  NM_000159.4\n",
      "We output 7 GA4GH phenopackets to the directory phenopackets\n"
     ]
    }
   ],
   "source": [
    "timporter = TemplateImporter(template=template, hp_json=hp_json, created_by=created_by)\n",
    "individual_list, cvalidator = timporter.import_phenopackets_from_template()"
   ]
  },
  {
   "cell_type": "code",
   "execution_count": 4,
   "id": "db99715d-ab0d-48c4-a04d-eec158e82ba6",
   "metadata": {},
   "outputs": [
    {
     "data": {
      "text/html": [
       "<h2>Cohort validation</h2>\n",
       "<p>No errors found for the cohort with 7 individuals</p>"
      ],
      "text/plain": [
       "<IPython.core.display.HTML object>"
      ]
     },
     "metadata": {},
     "output_type": "display_data"
    }
   ],
   "source": [
    "qc = QcVisualizer(cohort_validator=cvalidator)\n",
    "display(HTML(qc.to_summary_html()))"
   ]
  },
  {
   "cell_type": "code",
   "execution_count": 5,
   "id": "67c6c04b-d185-4141-a376-baef2e12d806",
   "metadata": {},
   "outputs": [
    {
     "data": {
      "text/html": [
       "<table style=\"border: 2px solid black; align: \"left\">\n",
       "<caption>7 phenopackets - PMID:27672653 (n=7)</caption>\n",
       "<tr><th style=\"text-align: left;font-weight: bold;\">Individual</th><th style=\"text-align: left;font-weight: bold;\">Disease</th><th style=\"text-align: left;font-weight: bold;\">Genotype</th><th style=\"text-align: left;font-weight: bold;\">Phenotypic features</th></tr>\n",
       "<tr><td style=\"text-align: left;\">Individual 1 (MALE; P20Y)</td><td style=\"text-align: left;\">Glutaricaciduria, type I (OMIM:231670)</td><td style=\"text-align: left;\"><ul> <li>NM_000159.4:c.892G>A (heterozygous)</li> <li>NM_000159.4:c.1244-2A>C (heterozygous)</li> </ul></td><td style=\"text-align: left;\">Acute encephalopathy (HP:0006846); Elevated urine 3-hydroxyglutaric level (HP:0034656); Glutaric aciduria (HP:0003150); Inability to walk (HP:0002540); Dystonia (HP:0001332); Enlarged sylvian cistern (HP:0100952); Seizure (HP:0001250); Macrocephaly (HP:0000256); Irritability (HP:0000737); Subdural hemorrhage (HP:0100309); Absent speech (HP:0001344); excluded: Cerebral atrophy (HP:0002059); excluded: Hydrocephalus (HP:0000238); excluded: Developmental regression (HP:0002376)</td></tr>\n",
       "<tr><td style=\"text-align: left;\">Individual 2 (MALE; P23Y)</td><td style=\"text-align: left;\">Glutaricaciduria, type I (OMIM:231670)</td><td style=\"text-align: left;\"><ul> <li>NM_000159.4:c.1060G>A (heterozygous)</li> <li>NM_000159.4:c.1168G>T (heterozygous)</li> </ul></td><td style=\"text-align: left;\">Acute encephalopathy (HP:0006846); Elevated urine 3-hydroxyglutaric level (HP:0034656); Glutaric aciduria (HP:0003150); Inability to walk (HP:0002540); Dystonia (HP:0001332); Enlarged sylvian cistern (HP:0100952); Seizure (HP:0001250); Macrocephaly (HP:0000256); Irritability (HP:0000737); Hydrocephalus (HP:0000238); Absent speech (HP:0001344); Elevated circulating glutarylcarnitine concentration (HP:0033442); excluded: Cerebral atrophy (HP:0002059); excluded: Subdural hemorrhage (HP:0100309); excluded: Developmental regression (HP:0002376)</td></tr>\n",
       "<tr><td style=\"text-align: left;\">Individual 3 (MALE; P11Y)</td><td style=\"text-align: left;\">Glutaricaciduria, type I (OMIM:231670)</td><td style=\"text-align: left;\"><ul> <li>NM_000159.4:c.1063C>T (heterozygous)</li> <li>NM_000159.4:c.1261G>A (heterozygous)</li> </ul></td><td style=\"text-align: left;\">Elevated urine 3-hydroxyglutaric level (HP:0034656); Glutaric aciduria (HP:0003150); Inability to walk (HP:0002540); Dystonia (HP:0001332); Enlarged sylvian cistern (HP:0100952); Macrocephaly (HP:0000256); Subdural hemorrhage (HP:0100309); Developmental regression (HP:0002376); Absent speech (HP:0001344); excluded: Acute encephalopathy (HP:0006846); excluded: Cerebral atrophy (HP:0002059); excluded: Seizure (HP:0001250); excluded: Irritability (HP:0000737); excluded: Hydrocephalus (HP:0000238)</td></tr>\n",
       "<tr><td style=\"text-align: left;\">Individual 4 (MALE; P4Y)</td><td style=\"text-align: left;\">Glutaricaciduria, type I (OMIM:231670)</td><td style=\"text-align: left;\"><ul> <li>NM_000159.4:c.382C>T (heterozygous)</li> <li>NM_000159.4:c.1063C>T (heterozygous)</li> </ul></td><td style=\"text-align: left;\">Elevated urine 3-hydroxyglutaric level (HP:0034656); Glutaric aciduria (HP:0003150); Inability to walk (HP:0002540); Dystonia (HP:0001332); Enlarged sylvian cistern (HP:0100952); Macrocephaly (HP:0000256); Subdural hemorrhage (HP:0100309); Absent speech (HP:0001344); excluded: Acute encephalopathy (HP:0006846); excluded: Cerebral atrophy (HP:0002059); excluded: Seizure (HP:0001250); excluded: Irritability (HP:0000737); excluded: Hydrocephalus (HP:0000238); excluded: Developmental regression (HP:0002376)</td></tr>\n",
       "<tr><td style=\"text-align: left;\">Individual 5 (FEMALE; P14Y)</td><td style=\"text-align: left;\">Glutaricaciduria, type I (OMIM:231670)</td><td style=\"text-align: left;\">NM_000159.4:c.227A>C (homozygous)</td><td style=\"text-align: left;\">Elevated urine 3-hydroxyglutaric level (HP:0034656); Glutaric aciduria (HP:0003150); Dystonia (HP:0001332); Enlarged sylvian cistern (HP:0100952); Macrocephaly (HP:0000256); Subdural hemorrhage (HP:0100309); Elevated circulating glutarylcarnitine concentration (HP:0033442); excluded: Acute encephalopathy (HP:0006846); excluded: Inability to walk (HP:0002540); excluded: Cerebral atrophy (HP:0002059); excluded: Seizure (HP:0001250); excluded: Irritability (HP:0000737); excluded: Hydrocephalus (HP:0000238); excluded: Developmental regression (HP:0002376); excluded: Absent speech (HP:0001344)</td></tr>\n",
       "<tr><td style=\"text-align: left;\">Individual 6 (FEMALE; P1Y8M)</td><td style=\"text-align: left;\">Glutaricaciduria, type I (OMIM:231670)</td><td style=\"text-align: left;\"><ul> <li>NM_000159.4:c.392A>T (heterozygous)</li> <li>NM_000159.4:c.1244-2A>C (heterozygous)</li> </ul></td><td style=\"text-align: left;\">Acute encephalopathy (HP:0006846); Elevated urine 3-hydroxyglutaric level (HP:0034656); Glutaric aciduria (HP:0003150); Inability to walk (HP:0002540); Dystonia (HP:0001332); Enlarged sylvian cistern (HP:0100952); Seizure (HP:0001250); Macrocephaly (HP:0000256); Irritability (HP:0000737); Subdural hemorrhage (HP:0100309); Absent speech (HP:0001344); Elevated circulating glutarylcarnitine concentration (HP:0033442); excluded: Cerebral atrophy (HP:0002059); excluded: Hydrocephalus (HP:0000238); excluded: Developmental regression (HP:0002376)</td></tr>\n",
       "<tr><td style=\"text-align: left;\">Individual 7 (FEMALE; P2Y)</td><td style=\"text-align: left;\">Glutaricaciduria, type I (OMIM:231670)</td><td style=\"text-align: left;\">NM_000159.4:c.1157G>A (homozygous)</td><td style=\"text-align: left;\">Elevated urine 3-hydroxyglutaric level (HP:0034656); Glutaric aciduria (HP:0003150); Cerebral atrophy (HP:0002059); Macrocephaly (HP:0000256); Subdural hemorrhage (HP:0100309); Developmental regression (HP:0002376); Elevated circulating glutarylcarnitine concentration (HP:0033442); excluded: Acute encephalopathy (HP:0006846); excluded: Inability to walk (HP:0002540); excluded: Dystonia (HP:0001332); excluded: Enlarged sylvian cistern (HP:0100952); excluded: Seizure (HP:0001250); excluded: Irritability (HP:0000737); excluded: Hydrocephalus (HP:0000238); excluded: Absent speech (HP:0001344)</td></tr>\n",
       "</table>"
      ],
      "text/plain": [
       "<IPython.core.display.HTML object>"
      ]
     },
     "metadata": {},
     "output_type": "display_data"
    }
   ],
   "source": [
    "table = IndividualTable(cvalidator.get_error_free_individual_list())\n",
    "display(HTML(table.to_html()))"
   ]
  },
  {
   "cell_type": "code",
   "execution_count": 6,
   "id": "f98d6ad6-1fd5-4437-99fa-493469b36239",
   "metadata": {},
   "outputs": [
    {
     "name": "stdout",
     "output_type": "stream",
     "text": [
      "[pyphetools] Ingested 7 GA4GH phenopackets.\n",
      "\tGlutaricaciduria, type I (OMIM:231670): n=7\n",
      "We found a total of 15 unique HPO terms\n",
      "Extracted disease: Glutaricaciduria, type I (OMIM:231670)\n",
      "Wrote HPOA disease file to OMIM-231670.tab\n"
     ]
    }
   ],
   "source": [
    "pmid = \"PMID:27672653\"\n",
    "df = timporter.create_hpoa_from_phenopackets(pmid=pmid, moi=\"Autosomal recessive\")"
   ]
  }
 ],
 "metadata": {
  "kernelspec": {
   "display_name": "ps24venv",
   "language": "python",
   "name": "ps24venv"
  },
  "language_info": {
   "codemirror_mode": {
    "name": "ipython",
    "version": 3
   },
   "file_extension": ".py",
   "mimetype": "text/x-python",
   "name": "python",
   "nbconvert_exporter": "python",
   "pygments_lexer": "ipython3",
   "version": "3.9.6"
  }
 },
 "nbformat": 4,
 "nbformat_minor": 5
}
