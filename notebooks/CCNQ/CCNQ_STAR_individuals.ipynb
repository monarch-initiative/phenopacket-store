{
 "cells": [
  {
   "cell_type": "markdown",
   "metadata": {},
   "source": [
    "# CCNQ\n",
    "[STAR syndrome (STAR)](https://omim.org/entry/300707) is caused by mutation in the FAM58A gene (CCNQ)."
   ]
  },
  {
   "cell_type": "code",
   "execution_count": 2,
   "metadata": {},
   "outputs": [
    {
     "name": "stdout",
     "output_type": "stream",
     "text": [
      "Using pyphetools version 0.9.91\n"
     ]
    }
   ],
   "source": [
    "from pyphetools.creation import TemplateImporter\n",
    "from pyphetools.visualization import IndividualTable, QcVisualizer\n",
    "from IPython.display import display, HTML\n",
    "import pyphetools\n",
    "print(f\"Using pyphetools version {pyphetools.__version__}\")"
   ]
  },
  {
   "cell_type": "code",
   "execution_count": 3,
   "metadata": {},
   "outputs": [],
   "source": [
    "template = \"input/CCNQ_STAR_individuals.xlsx\"\n",
    "created_by = \"0000-0002-0736-9199\""
   ]
  },
  {
   "cell_type": "code",
   "execution_count": 4,
   "metadata": {},
   "outputs": [
    {
     "name": "stdout",
     "output_type": "stream",
     "text": [
      "HPO version 2024-04-26\n",
      "Created encoders for 54 fields\n",
      "Importing OMIM:300707, STAR syndrome, HGNC:28434, CCNQ,  NM_152274.5\n",
      "We output 6 GA4GH phenopackets to the directory phenopackets\n"
     ]
    }
   ],
   "source": [
    "del_set = {\"NC_000023.11:g.153585471_153589719del\", \"NC_000023.11:g.153595512_153635582del\"}\n",
    "timporter = TemplateImporter(template=template,  created_by=created_by)\n",
    "individual_list, cvalidator = timporter.import_phenopackets_from_template(deletions=del_set)"
   ]
  },
  {
   "cell_type": "code",
   "execution_count": 5,
   "metadata": {},
   "outputs": [
    {
     "data": {
      "text/html": [
       "<h2>Cohort validation</h2>\n",
       "<p>Errors found with 5 of 6 phenopackets.</p>\n",
       "<table style=\"border: 2px solid black; align: \"left\">\n",
       "<caption>Error counts</caption>\n",
       "<tr><th style=\"text-align: left;font-weight: bold;\">Level</th><th style=\"text-align: left;font-weight: bold;\">Error category</th><th style=\"text-align: left;font-weight: bold;\">Count</th></tr>\n",
       "<tr><td style=\"text-align: left;\">ERROR</td><td style=\"text-align: left;\">CONFLICT</td><td style=\"text-align: left;\">1</td></tr>\n",
       "<tr><td style=\"text-align: left;\">WARNING</td><td style=\"text-align: left;\">REDUNDANT</td><td style=\"text-align: left;\">4</td></tr>\n",
       "</table>\n",
       "<p>A total of 5 issues were fixed and no individual was removed from the cohort.</p>"
      ],
      "text/plain": [
       "<IPython.core.display.HTML object>"
      ]
     },
     "metadata": {},
     "output_type": "display_data"
    }
   ],
   "source": [
    "qc = QcVisualizer(cohort_validator=cvalidator)\n",
    "display(HTML(qc.to_summary_html()))"
   ]
  },
  {
   "cell_type": "code",
   "execution_count": 6,
   "metadata": {},
   "outputs": [
    {
     "data": {
      "text/html": [
       "<table style=\"border: 2px solid black; align: \"left\">\n",
       "<caption>6 phenopackets - PMID:18297069 (n=6)</caption>\n",
       "<tr><th style=\"text-align: left;font-weight: bold;\">Individual</th><th style=\"text-align: left;font-weight: bold;\">Disease</th><th style=\"text-align: left;font-weight: bold;\">Genotype</th><th style=\"text-align: left;font-weight: bold;\">Phenotypic features</th></tr>\n",
       "<tr><td style=\"text-align: left;\">Case 1 (FEMALE; n/a)</td><td style=\"text-align: left;\">STAR syndrome (OMIM:300707)</td><td style=\"text-align: left;\">NC_000023.11:g.153595512_153635582del: chromosomal_deletion (SO:1000029)</td><td style=\"text-align: left;\">Craniosynostosis (HP:0001363); Telecanthus (HP:0000506); Vesicoureteral reflux (HP:0000076); Labial hypoplasia (HP:0000066); Uterus didelphys (HP:0003762); Clinodactyly of the 5th finger (HP:0004209); Toe syndactyly (HP:0001770); Anal atresia (HP:0002023); Lop ear (HP:0000394); excluded: Hydronephrosis (HP:0000126); excluded: Hydroureter (HP:0000072); excluded: Hypoplasia of the bladder (HP:0005343); excluded: Clitoral hypertrophy (HP:0008665); excluded: Pelvic kidney (HP:0000125); excluded: Crossed fused renal ectopia (HP:0004736); excluded: Stage 5 chronic kidney disease (HP:0003774); excluded: Unilateral renal agenesis (HP:0000122); excluded: Intrauterine growth retardation (HP:0001511); excluded: Short stature (HP:0004322); excluded: Peripheral pulmonary artery stenosis (HP:0004969); excluded: Valvular pulmonary stenosis (HP:0034350); excluded: Bicuspid aortic valve (HP:0001647); excluded: Patent foramen ovale (HP:0001655); excluded: Low-set ears (HP:0000369); excluded: Moderate myopia (HP:0031624); excluded: Macular hypoplasia (HP:0001104); excluded: Duane anomaly (HP:0009921)</td></tr>\n",
       "<tr><td style=\"text-align: left;\">Case 2 (FEMALE; n/a)</td><td style=\"text-align: left;\">STAR syndrome (OMIM:300707)</td><td style=\"text-align: left;\">NM_152274.5:c.657+1G>A (heterozygous)</td><td style=\"text-align: left;\">Telecanthus (HP:0000506); Hydronephrosis (HP:0000126); Hydroureter (HP:0000072); Vesicoureteral reflux (HP:0000076); Labial hypoplasia (HP:0000066); Intrauterine growth retardation (HP:0001511); Short stature (HP:0004322); Clinodactyly of the 5th finger (HP:0004209); Toe syndactyly (HP:0001770); Peripheral pulmonary artery stenosis (HP:0004969); Patent foramen ovale (HP:0001655); Anal atresia (HP:0002023); Lop ear (HP:0000394); Macular hypoplasia (HP:0001104); excluded: Craniosynostosis (HP:0001363); excluded: Hypoplasia of the bladder (HP:0005343); excluded: Clitoral hypertrophy (HP:0008665); excluded: Pelvic kidney (HP:0000125); excluded: Crossed fused renal ectopia (HP:0004736); excluded: Stage 5 chronic kidney disease (HP:0003774); excluded: Unilateral renal agenesis (HP:0000122); excluded: Uterus didelphys (HP:0003762); excluded: Valvular pulmonary stenosis (HP:0034350); excluded: Bicuspid aortic valve (HP:0001647); excluded: Low-set ears (HP:0000369); excluded: Moderate myopia (HP:0031624); excluded: Duane anomaly (HP:0009921)</td></tr>\n",
       "<tr><td style=\"text-align: left;\">Case 3 (FEMALE; n/a)</td><td style=\"text-align: left;\">STAR syndrome (OMIM:300707)</td><td style=\"text-align: left;\">NC_000023.11:g.153585471_153589719del: chromosomal_deletion (SO:1000029)</td><td style=\"text-align: left;\">Craniosynostosis (HP:0001363); Telecanthus (HP:0000506); Labial hypoplasia (HP:0000066); Unilateral renal agenesis (HP:0000122); Uterus didelphys (HP:0003762); Short stature (HP:0004322); Clinodactyly of the 5th finger (HP:0004209); Toe syndactyly (HP:0001770); Valvular pulmonary stenosis (HP:0034350); Bicuspid aortic valve (HP:0001647); Anal atresia (HP:0002023); Lop ear (HP:0000394); Moderate myopia (HP:0031624); excluded: Hydronephrosis (HP:0000126); excluded: Hydroureter (HP:0000072); excluded: Hypoplasia of the bladder (HP:0005343); excluded: Vesicoureteral reflux (HP:0000076); excluded: Clitoral hypertrophy (HP:0008665); excluded: Pelvic kidney (HP:0000125); excluded: Crossed fused renal ectopia (HP:0004736); excluded: Stage 5 chronic kidney disease (HP:0003774); excluded: Intrauterine growth retardation (HP:0001511); excluded: Peripheral pulmonary artery stenosis (HP:0004969); excluded: Patent foramen ovale (HP:0001655); excluded: Low-set ears (HP:0000369); excluded: Macular hypoplasia (HP:0001104); excluded: Duane anomaly (HP:0009921)</td></tr>\n",
       "<tr><td style=\"text-align: left;\">Case 4 (FEMALE; n/a)</td><td style=\"text-align: left;\">STAR syndrome (OMIM:300707)</td><td style=\"text-align: left;\">NM_152274.5:c.303dup (heterozygous)</td><td style=\"text-align: left;\">Telecanthus (HP:0000506); Vesicoureteral reflux (HP:0000076); Labial hypoplasia (HP:0000066); Crossed fused renal ectopia (HP:0004736); Clinodactyly of the 5th finger (HP:0004209); Toe syndactyly (HP:0001770); Atrial septal defect (HP:0001631); Anal atresia (HP:0002023); Lop ear (HP:0000394); excluded: Craniosynostosis (HP:0001363); excluded: Hydronephrosis (HP:0000126); excluded: Hydroureter (HP:0000072); excluded: Hypoplasia of the bladder (HP:0005343); excluded: Clitoral hypertrophy (HP:0008665); excluded: Pelvic kidney (HP:0000125); excluded: Stage 5 chronic kidney disease (HP:0003774); excluded: Unilateral renal agenesis (HP:0000122); excluded: Intrauterine growth retardation (HP:0001511); excluded: Uterus didelphys (HP:0003762); excluded: Short stature (HP:0004322); excluded: Peripheral pulmonary artery stenosis (HP:0004969); excluded: Valvular pulmonary stenosis (HP:0034350); excluded: Bicuspid aortic valve (HP:0001647); excluded: Patent foramen ovale (HP:0001655); excluded: Low-set ears (HP:0000369); excluded: Moderate myopia (HP:0031624); excluded: Macular hypoplasia (HP:0001104); excluded: Duane anomaly (HP:0009921)</td></tr>\n",
       "<tr><td style=\"text-align: left;\">Case 5 (FEMALE; n/a)</td><td style=\"text-align: left;\">STAR syndrome (OMIM:300707)</td><td style=\"text-align: left;\">NM_152274.5:c.658-1G>A (heterozygous)</td><td style=\"text-align: left;\">Hydronephrosis (HP:0000126); Hypoplasia of the bladder (HP:0005343); Clitoral hypertrophy (HP:0008665); Pelvic kidney (HP:0000125); Stage 5 chronic kidney disease (HP:0003774); Short stature (HP:0004322); Clinodactyly of the 5th finger (HP:0004209); Toe syndactyly (HP:0001770); Anal atresia (HP:0002023); excluded: Craniosynostosis (HP:0001363); excluded: Telecanthus (HP:0000506); excluded: Hydroureter (HP:0000072); excluded: Vesicoureteral reflux (HP:0000076); excluded: Labial hypoplasia (HP:0000066); excluded: Crossed fused renal ectopia (HP:0004736); excluded: Unilateral renal agenesis (HP:0000122); excluded: Intrauterine growth retardation (HP:0001511); excluded: Uterus didelphys (HP:0003762); excluded: Peripheral pulmonary artery stenosis (HP:0004969); excluded: Valvular pulmonary stenosis (HP:0034350); excluded: Bicuspid aortic valve (HP:0001647); excluded: Patent foramen ovale (HP:0001655); excluded: Lop ear (HP:0000394); excluded: Low-set ears (HP:0000369); excluded: Moderate myopia (HP:0031624); excluded: Macular hypoplasia (HP:0001104); excluded: Duane anomaly (HP:0009921)</td></tr>\n",
       "<tr><td style=\"text-align: left;\">Case 6 (FEMALE; n/a)</td><td style=\"text-align: left;\">STAR syndrome (OMIM:300707)</td><td style=\"text-align: left;\">NM_152274.5:c.658-1G>A (heterozygous)</td><td style=\"text-align: left;\">Vesicoureteral reflux (HP:0000076); Clitoral hypertrophy (HP:0008665); Stage 5 chronic kidney disease (HP:0003774); Unilateral renal agenesis (HP:0000122); Short stature (HP:0004322); Clinodactyly of the 5th finger (HP:0004209); Toe syndactyly (HP:0001770); Anal atresia (HP:0002023); Low-set ears (HP:0000369); excluded: Craniosynostosis (HP:0001363); excluded: Telecanthus (HP:0000506); excluded: Hydronephrosis (HP:0000126); excluded: Hydroureter (HP:0000072); excluded: Hypoplasia of the bladder (HP:0005343); excluded: Labial hypoplasia (HP:0000066); excluded: Pelvic kidney (HP:0000125); excluded: Crossed fused renal ectopia (HP:0004736); excluded: Intrauterine growth retardation (HP:0001511); excluded: Uterus didelphys (HP:0003762); excluded: Peripheral pulmonary artery stenosis (HP:0004969); excluded: Valvular pulmonary stenosis (HP:0034350); excluded: Bicuspid aortic valve (HP:0001647); excluded: Patent foramen ovale (HP:0001655); excluded: Lop ear (HP:0000394); excluded: Moderate myopia (HP:0031624); excluded: Macular hypoplasia (HP:0001104); excluded: Duane anomaly (HP:0009921)</td></tr>\n",
       "</table>"
      ],
      "text/plain": [
       "<IPython.core.display.HTML object>"
      ]
     },
     "metadata": {},
     "output_type": "display_data"
    }
   ],
   "source": [
    "table = IndividualTable(cvalidator.get_error_free_individual_list())\n",
    "display(HTML(table.to_html()))"
   ]
  },
  {
   "cell_type": "code",
   "execution_count": 7,
   "metadata": {},
   "outputs": [
    {
     "name": "stdout",
     "output_type": "stream",
     "text": [
      "[pyphetools] Ingested 6 GA4GH phenopackets.\n",
      "[INFO] Extracted 6 from 6 phenopackets with OMIM:300707\n",
      "\n",
      "\tSTAR syndrome (OMIM:300707): n=6\n",
      "We found a total of 28 unique HPO terms\n",
      "Extracted disease: STAR syndrome (OMIM:300707)\n",
      "Wrote HPOA disease file to OMIM-300707.tab\n"
     ]
    }
   ],
   "source": [
    "pmid = \"PMID:18297069\"\n",
    "df = timporter.create_hpoa_from_phenopackets(pmid=pmid, moi=\"X-linked dominant inheritance\", target=\"OMIM:300707\")"
   ]
  }
 ],
 "metadata": {
  "kernelspec": {
   "display_name": "ps24venv",
   "language": "python",
   "name": "python3"
  },
  "language_info": {
   "codemirror_mode": {
    "name": "ipython",
    "version": 3
   },
   "file_extension": ".py",
   "mimetype": "text/x-python",
   "name": "python",
   "nbconvert_exporter": "python",
   "pygments_lexer": "ipython3",
   "version": "3.9.6"
  }
 },
 "nbformat": 4,
 "nbformat_minor": 2
}
