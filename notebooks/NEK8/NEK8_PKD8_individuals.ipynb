{
 "cells": [
  {
   "cell_type": "markdown",
   "metadata": {},
   "source": [
    "# NEK8\n",
    "[polycystic kidney disease-8 (PKD8)](https://omim.org/entry/620903) is caused by heterozygous mutation in the NEK8 gene."
   ]
  },
  {
   "cell_type": "code",
   "execution_count": 1,
   "metadata": {},
   "outputs": [
    {
     "name": "stdout",
     "output_type": "stream",
     "text": [
      "Using pyphetools version 0.9.115\n"
     ]
    }
   ],
   "source": [
    "from pyphetools.creation import TemplateImporter, Moi\n",
    "from pyphetools.visualization import IndividualTable, QcVisualizer\n",
    "from IPython.display import display, HTML\n",
    "import pyphetools\n",
    "print(f\"Using pyphetools version {pyphetools.__version__}\")"
   ]
  },
  {
   "cell_type": "code",
   "execution_count": 2,
   "metadata": {},
   "outputs": [],
   "source": [
    "template = \"input/NEK8_PKD8_individuals.xlsx\"\n",
    "created_by = \"0000-0002-0736-9199\""
   ]
  },
  {
   "cell_type": "code",
   "execution_count": 5,
   "metadata": {},
   "outputs": [
    {
     "name": "stdout",
     "output_type": "stream",
     "text": [
      "HPO version 2024-12-12\n",
      "Created encoders for 29 fields\n",
      "Importing OMIM:620903, Polycystic kidney disease 8, HGNC:13387, NEK8,  NM_178170.3\n",
      "[INFO] encoding variant \"c.133C>T\"\n",
      "https://rest.variantvalidator.org/VariantValidator/variantvalidator/hg38/NM_178170.3%3Ac.133C>T/NM_178170.3?content-type=application%2Fjson\n",
      "[INFO] encoding variant \"c.469A>G\"\n",
      "https://rest.variantvalidator.org/VariantValidator/variantvalidator/hg38/NM_178170.3%3Ac.469A>G/NM_178170.3?content-type=application%2Fjson\n",
      "[INFO] encoding variant \"c.450C>G\"\n",
      "https://rest.variantvalidator.org/VariantValidator/variantvalidator/hg38/NM_178170.3%3Ac.450C>G/NM_178170.3?content-type=application%2Fjson\n",
      "We output 20 GA4GH phenopackets to the directory phenopackets\n"
     ]
    }
   ],
   "source": [
    "timporter = TemplateImporter(template=template,  created_by=created_by)\n",
    "individual_list, cvalidator = timporter.import_phenopackets_from_template()"
   ]
  },
  {
   "cell_type": "code",
   "execution_count": 6,
   "metadata": {},
   "outputs": [
    {
     "data": {
      "text/html": [
       "<h2>Cohort validation</h2>\n",
       "<p>No errors found for the cohort with 20 individuals</p>"
      ],
      "text/plain": [
       "<IPython.core.display.HTML object>"
      ]
     },
     "metadata": {},
     "output_type": "display_data"
    }
   ],
   "source": [
    "qc = QcVisualizer(cohort_validator=cvalidator)\n",
    "display(HTML(qc.to_summary_html()))"
   ]
  },
  {
   "cell_type": "code",
   "execution_count": 7,
   "metadata": {},
   "outputs": [
    {
     "data": {
      "text/html": [
       "<table style=\"border: 2px solid black; align: \"left\">\n",
       "<caption>20 phenopackets - PMID:37598857 (n=19); PMID:36215968 (n=1)</caption>\n",
       "<tr><th style=\"text-align: left;font-weight: bold;\">Individual</th><th style=\"text-align: left;font-weight: bold;\">Disease</th><th style=\"text-align: left;font-weight: bold;\">Genotype</th><th style=\"text-align: left;font-weight: bold;\">Phenotypic features</th></tr>\n",
       "<tr><td style=\"text-align: left;\">Family 1 individual (MALE)</td><td style=\"text-align: left;\">Polycystic kidney disease 8 (OMIM:620903)</td><td style=\"text-align: left;\">NM_178170.3:c.133C>T (heterozygous)</td><td style=\"text-align: left;\">Enlarged kidney (HP:0000105): onset ; Nephronophthisis (HP:0000090): onset ; Hypertension (HP:0000822): onset ; excluded: Hepatic cysts (HP:0001407): onset ; excluded: Short stature (HP:0004322): onset <br/><b>TimeElement(element=Age(iso8601duration=P11Y))</b>: Stage 5 chronic kidney disease (HP:0003774): onset age {\n",
       "  iso8601duration: \"P11Y\"\n",
       "}\n",
       "</td></tr>\n",
       "<tr><td style=\"text-align: left;\">Family 2 individual (FEMALE)</td><td style=\"text-align: left;\">Polycystic kidney disease 8 (OMIM:620903)</td><td style=\"text-align: left;\">NM_178170.3:c.133C>T (heterozygous)</td><td style=\"text-align: left;\">Enlarged kidney (HP:0000105): onset ; Hypertension (HP:0000822): onset ; excluded: Hepatic cysts (HP:0001407): onset ; excluded: Short stature (HP:0004322): onset <br/><b>TimeElement(element=Age(iso8601duration=P4Y))</b>: Stage 5 chronic kidney disease (HP:0003774): onset age {\n",
       "  iso8601duration: \"P4Y\"\n",
       "}\n",
       "</td></tr>\n",
       "<tr><td style=\"text-align: left;\">Family 3 individual (MALE)</td><td style=\"text-align: left;\">Polycystic kidney disease 8 (OMIM:620903)</td><td style=\"text-align: left;\">NM_178170.3:c.133C>T (heterozygous)</td><td style=\"text-align: left;\">Enlarged kidney (HP:0000105): onset ; Hypertension (HP:0000822): onset ; excluded: Hepatic cysts (HP:0001407): onset ; excluded: Short stature (HP:0004322): onset <br/><b>TimeElement(element=Age(iso8601duration=P19Y))</b>: Stage 5 chronic kidney disease (HP:0003774): onset age {\n",
       "  iso8601duration: \"P19Y\"\n",
       "}\n",
       "</td></tr>\n",
       "<tr><td style=\"text-align: left;\">Family 4 individual (MALE)</td><td style=\"text-align: left;\">Polycystic kidney disease 8 (OMIM:620903)</td><td style=\"text-align: left;\">NM_178170.3:c.133C>T (heterozygous)</td><td style=\"text-align: left;\">Enlarged kidney (HP:0000105): onset ; Hypertension (HP:0000822): onset ; excluded: Hepatic cysts (HP:0001407): onset ; excluded: Short stature (HP:0004322): onset <br/><b>TimeElement(element=Age(iso8601duration=P5Y))</b>: Stage 5 chronic kidney disease (HP:0003774): onset age {\n",
       "  iso8601duration: \"P5Y\"\n",
       "}\n",
       "</td></tr>\n",
       "<tr><td style=\"text-align: left;\">Family 5 individual (MALE)</td><td style=\"text-align: left;\">Polycystic kidney disease 8 (OMIM:620903)</td><td style=\"text-align: left;\">NM_178170.3:c.133C>T (heterozygous)</td><td style=\"text-align: left;\">Enlarged kidney (HP:0000105): onset ; Hypertension (HP:0000822): onset ; Left ventricular hypertrophy (HP:0001712): onset ; excluded: Hepatic cysts (HP:0001407): onset ; excluded: Short stature (HP:0004322): onset <br/><b>TimeElement(element=Age(iso8601duration=P12Y))</b>: Stage 5 chronic kidney disease (HP:0003774): onset age {\n",
       "  iso8601duration: \"P12Y\"\n",
       "}\n",
       "</td></tr>\n",
       "<tr><td style=\"text-align: left;\">Family 6 individual (FEMALE)</td><td style=\"text-align: left;\">Polycystic kidney disease 8 (OMIM:620903)</td><td style=\"text-align: left;\">NM_178170.3:c.133C>T (heterozygous)</td><td style=\"text-align: left;\">Hypertension (HP:0000822): onset ; excluded: Enlarged kidney (HP:0000105): onset ; excluded: Hepatic cysts (HP:0001407): onset ; excluded: Short stature (HP:0004322): onset <br/><b>TimeElement(element=Age(iso8601duration=P11Y))</b>: Stage 5 chronic kidney disease (HP:0003774): onset age {\n",
       "  iso8601duration: \"P11Y\"\n",
       "}\n",
       "</td></tr>\n",
       "<tr><td style=\"text-align: left;\">Family 7 individual III-3 (MALE)</td><td style=\"text-align: left;\">Polycystic kidney disease 8 (OMIM:620903)</td><td style=\"text-align: left;\">NM_178170.3:c.133C>T (heterozygous)</td><td style=\"text-align: left;\">Enlarged kidney (HP:0000105): onset ; Hypertension (HP:0000822): onset ; Short stature (HP:0004322): onset ; excluded: Hepatic cysts (HP:0001407): onset <br/><b>TimeElement(element=Age(iso8601duration=P14Y))</b>: Stage 5 chronic kidney disease (HP:0003774): onset age {\n",
       "  iso8601duration: \"P14Y\"\n",
       "}\n",
       "</td></tr>\n",
       "<tr><td style=\"text-align: left;\">Family 7 individual III-4 (MALE)</td><td style=\"text-align: left;\">Polycystic kidney disease 8 (OMIM:620903)</td><td style=\"text-align: left;\">NM_178170.3:c.133C>T (heterozygous)</td><td style=\"text-align: left;\">Enlarged kidney (HP:0000105): onset ; Hypertension (HP:0000822): onset ; Short stature (HP:0004322): onset ; excluded: Hepatic cysts (HP:0001407): onset <br/><b>TimeElement(element=Age(iso8601duration=P15Y))</b>: Stage 5 chronic kidney disease (HP:0003774): onset age {\n",
       "  iso8601duration: \"P15Y\"\n",
       "}\n",
       "</td></tr>\n",
       "<tr><td style=\"text-align: left;\">Family 8 individual (MALE)</td><td style=\"text-align: left;\">Polycystic kidney disease 8 (OMIM:620903)</td><td style=\"text-align: left;\">NM_178170.3:c.133C>T (heterozygous)</td><td style=\"text-align: left;\">Enlarged kidney (HP:0000105): onset ; Hypertension (HP:0000822): onset ; Left ventricular hypertrophy (HP:0001712): onset ; excluded: Hepatic cysts (HP:0001407): onset ; excluded: Short stature (HP:0004322): onset <br/><b>TimeElement(element=Age(iso8601duration=P7Y))</b>: Stage 5 chronic kidney disease (HP:0003774): onset age {\n",
       "  iso8601duration: \"P7Y\"\n",
       "}\n",
       "</td></tr>\n",
       "<tr><td style=\"text-align: left;\">Family 9 individual III-1 (FEMALE)</td><td style=\"text-align: left;\">Polycystic kidney disease 8 (OMIM:620903)</td><td style=\"text-align: left;\">NM_178170.3:c.133C>T (heterozygous)</td><td style=\"text-align: left;\">Enlarged kidney (HP:0000105): onset ; Hypertension (HP:0000822): onset ; excluded: Hepatic cysts (HP:0001407): onset ; excluded: Short stature (HP:0004322): onset <br/><b>TimeElement(element=Age(iso8601duration=P1Y))</b>: Stage 5 chronic kidney disease (HP:0003774): onset age {\n",
       "  iso8601duration: \"P1Y\"\n",
       "}\n",
       "</td></tr>\n",
       "<tr><td style=\"text-align: left;\">Family 9 individual IV-1 (FEMALE)</td><td style=\"text-align: left;\">Polycystic kidney disease 8 (OMIM:620903)</td><td style=\"text-align: left;\">NM_178170.3:c.133C>T (heterozygous)</td><td style=\"text-align: left;\">Enlarged kidney (HP:0000105): onset ; Hypertension (HP:0000822): onset ; excluded: Hepatic cysts (HP:0001407): onset ; excluded: Short stature (HP:0004322): onset <br/><b>TimeElement(element=Age(iso8601duration=P6Y))</b>: Stage 5 chronic kidney disease (HP:0003774): onset age {\n",
       "  iso8601duration: \"P6Y\"\n",
       "}\n",
       "</td></tr>\n",
       "<tr><td style=\"text-align: left;\">Family 10 individual (FEMALE)</td><td style=\"text-align: left;\">Polycystic kidney disease 8 (OMIM:620903)</td><td style=\"text-align: left;\">NM_178170.3:c.133C>T (heterozygous)</td><td style=\"text-align: left;\">Enlarged kidney (HP:0000105): onset ; Nephronophthisis (HP:0000090): onset ; Hypertension (HP:0000822): onset ; excluded: Hepatic cysts (HP:0001407): onset ; excluded: Short stature (HP:0004322): onset </td></tr>\n",
       "<tr><td style=\"text-align: left;\">Family 11 individual II-1 (FEMALE)</td><td style=\"text-align: left;\">Polycystic kidney disease 8 (OMIM:620903)</td><td style=\"text-align: left;\">NM_178170.3:c.450C>G (heterozygous)</td><td style=\"text-align: left;\">Hypertension (HP:0000822): onset ; excluded: Enlarged kidney (HP:0000105): onset ; excluded: Hepatic cysts (HP:0001407): onset ; excluded: Short stature (HP:0004322): onset <br/><b>TimeElement(element=Age(iso8601duration=P70Y))</b>: Stage 5 chronic kidney disease (HP:0003774): onset age {\n",
       "  iso8601duration: \"P70Y\"\n",
       "}\n",
       "</td></tr>\n",
       "<tr><td style=\"text-align: left;\">Family 11 individual III-1 (FEMALE)</td><td style=\"text-align: left;\">Polycystic kidney disease 8 (OMIM:620903)</td><td style=\"text-align: left;\">NM_178170.3:c.450C>G (heterozygous)</td><td style=\"text-align: left;\">excluded: Enlarged kidney (HP:0000105): onset ; excluded: Hypertension (HP:0000822): onset ; excluded: Short stature (HP:0004322): onset <br/><b>TimeElement(element=Age(iso8601duration=P52Y))</b>: Hepatic cysts (HP:0001407): onset age {\n",
       "  iso8601duration: \"P52Y\"\n",
       "}\n",
       "</td></tr>\n",
       "<tr><td style=\"text-align: left;\">Family 11 individual III-2 (MALE)</td><td style=\"text-align: left;\">Polycystic kidney disease 8 (OMIM:620903)</td><td style=\"text-align: left;\">NM_178170.3:c.450C>G (heterozygous)</td><td style=\"text-align: left;\">Enlarged kidney (HP:0000105): onset ; Hypertension (HP:0000822): onset ; excluded: Hepatic cysts (HP:0001407): onset ; excluded: Short stature (HP:0004322): onset </td></tr>\n",
       "<tr><td style=\"text-align: left;\">Family 11 individual III-3 (FEMALE)</td><td style=\"text-align: left;\">Polycystic kidney disease 8 (OMIM:620903)</td><td style=\"text-align: left;\">NM_178170.3:c.450C>G (heterozygous)</td><td style=\"text-align: left;\">excluded: Enlarged kidney (HP:0000105): onset ; excluded: Hepatic cysts (HP:0001407): onset ; excluded: Hypertension (HP:0000822): onset ; excluded: Short stature (HP:0004322): onset </td></tr>\n",
       "<tr><td style=\"text-align: left;\">Family 11 11 individual IV-3 (MALE)</td><td style=\"text-align: left;\">Polycystic kidney disease 8 (OMIM:620903)</td><td style=\"text-align: left;\">NM_178170.3:c.450C>G (heterozygous)</td><td style=\"text-align: left;\">Focal segmental glomerulosclerosis (HP:0000097): onset ; excluded: Enlarged kidney (HP:0000105): onset ; excluded: Hepatic cysts (HP:0001407): onset ; excluded: Hypertension (HP:0000822): onset ; excluded: Short stature (HP:0004322): onset </td></tr>\n",
       "<tr><td style=\"text-align: left;\">Family 11 individual IV-4 (FEMALE)</td><td style=\"text-align: left;\">Polycystic kidney disease 8 (OMIM:620903)</td><td style=\"text-align: left;\">NM_178170.3:c.450C>G (heterozygous)</td><td style=\"text-align: left;\">Focal segmental glomerulosclerosis (HP:0000097): onset ; excluded: Enlarged kidney (HP:0000105): onset ; excluded: Hypertension (HP:0000822): onset ; excluded: Short stature (HP:0004322): onset <br/><b>TimeElement(element=Age(iso8601duration=P18Y))</b>: Hepatic cysts (HP:0001407): onset age {\n",
       "  iso8601duration: \"P18Y\"\n",
       "}\n",
       "</td></tr>\n",
       "<tr><td style=\"text-align: left;\">Family 12 individual (MALE)</td><td style=\"text-align: left;\">Polycystic kidney disease 8 (OMIM:620903)</td><td style=\"text-align: left;\">NM_178170.3:c.469A>G (heterozygous)</td><td style=\"text-align: left;\">Enlarged kidney (HP:0000105): onset ; Hypertension (HP:0000822): onset ; excluded: Hepatic cysts (HP:0001407): onset ; excluded: Short stature (HP:0004322): onset <br/><b>TimeElement(element=Age(iso8601duration=P4Y))</b>: Stage 5 chronic kidney disease (HP:0003774): onset age {\n",
       "  iso8601duration: \"P4Y\"\n",
       "}\n",
       "</td></tr>\n",
       "<tr><td style=\"text-align: left;\">patient (MALE; P2M)</td><td style=\"text-align: left;\">Polycystic kidney disease 8 (OMIM:620903)</td><td style=\"text-align: left;\">NM_178170.3:c.133C>T (heterozygous)</td><td style=\"text-align: left;\">Enlarged kidney (HP:0000105): onset ; excluded: Nephronophthisis (HP:0000090): onset ; excluded: Hepatic cysts (HP:0001407): onset ; excluded: Stage 5 chronic kidney disease (HP:0003774): onset <br/><b>TimeElement(element=Age(iso8601duration=P1M))</b>: Renal insufficiency (HP:0000083): onset age {\n",
       "  iso8601duration: \"P1M\"\n",
       "}\n",
       "; Polyuria (HP:0000103): onset age {\n",
       "  iso8601duration: \"P1M\"\n",
       "}\n",
       "; Polydipsia (HP:0001959): onset age {\n",
       "  iso8601duration: \"P1M\"\n",
       "}\n",
       "; Hyperechogenic kidneys (HP:0004719): onset age {\n",
       "  iso8601duration: \"P1M\"\n",
       "}\n",
       "<br/><b>TimeElement(element=Age(iso8601duration=P2M))</b>: Hypertension (HP:0000822): onset age {\n",
       "  iso8601duration: \"P2M\"\n",
       "}\n",
       "</td></tr>\n",
       "</table>"
      ],
      "text/plain": [
       "<IPython.core.display.HTML object>"
      ]
     },
     "metadata": {},
     "output_type": "display_data"
    }
   ],
   "source": [
    "table = IndividualTable(cvalidator.get_error_free_individual_list())\n",
    "display(HTML(table.to_html()))"
   ]
  },
  {
   "cell_type": "code",
   "execution_count": 8,
   "metadata": {},
   "outputs": [
    {
     "name": "stdout",
     "output_type": "stream",
     "text": [
      "[pyphetools] Ingested 20 GA4GH phenopackets.\n",
      "[INFO] Extracted 20 from 20 phenopackets with OMIM:620903\n",
      "\n",
      "\tPolycystic kidney disease 8 (OMIM:620903): n=20\n",
      "We found a total of 12 unique HPO terms\n",
      "Extracted disease: Polycystic kidney disease 8 (OMIM:620903)\n",
      "Wrote HPOA disease file to OMIM-620903.tab\n"
     ]
    }
   ],
   "source": [
    "pmid = \"PMID:37598857\"\n",
    "df = timporter.create_hpoa_from_phenopackets(pmid=pmid, mode_of_inheritance=Moi.AD, target=\"OMIM:620903\")"
   ]
  }
 ],
 "metadata": {
  "kernelspec": {
   "display_name": "ps24venv",
   "language": "python",
   "name": "python3"
  },
  "language_info": {
   "codemirror_mode": {
    "name": "ipython",
    "version": 3
   },
   "file_extension": ".py",
   "mimetype": "text/x-python",
   "name": "python",
   "nbconvert_exporter": "python",
   "pygments_lexer": "ipython3",
   "version": "3.12.4"
  }
 },
 "nbformat": 4,
 "nbformat_minor": 2
}
