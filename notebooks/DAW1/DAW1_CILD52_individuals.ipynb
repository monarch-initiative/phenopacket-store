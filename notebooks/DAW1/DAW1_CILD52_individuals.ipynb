{
 "cells": [
  {
   "cell_type": "markdown",
   "metadata": {},
   "source": [
    "# DAW1\n",
    "[primary ciliary dyskinesia-52 (CILD52)](https://omim.org/entry/620570) is caused by homozygous or compound heterozygous mutation in the DAW1 gene."
   ]
  },
  {
   "cell_type": "code",
   "execution_count": 4,
   "metadata": {},
   "outputs": [
    {
     "name": "stdout",
     "output_type": "stream",
     "text": [
      "Using pyphetools version 0.9.84\n"
     ]
    }
   ],
   "source": [
    "from pyphetools.creation import TemplateImporter\n",
    "from pyphetools.visualization import IndividualTable, QcVisualizer\n",
    "from IPython.display import display, HTML\n",
    "import pyphetools\n",
    "print(f\"Using pyphetools version {pyphetools.__version__}\")"
   ]
  },
  {
   "cell_type": "code",
   "execution_count": 6,
   "metadata": {},
   "outputs": [],
   "source": [
    "template = \"input/DAW1_CILD52_individuals.xlsx\"\n",
    "created_by = \"0000-0002-0736-9199\""
   ]
  },
  {
   "cell_type": "code",
   "execution_count": 7,
   "metadata": {},
   "outputs": [
    {
     "name": "stdout",
     "output_type": "stream",
     "text": [
      "HPO version 2024-04-26\n",
      "Created encoders for 35 fields\n",
      "Importing OMIM:620570, Ciliary dyskinesia, primary, 52, HGNC:26383, DAW1,  NM_178821.3\n",
      "[INFO] encoding variant \"c.1116G>T\"\n",
      "https://rest.variantvalidator.org/VariantValidator/variantvalidator/hg38/NM_178821.3%3Ac.1116G>T/NM_178821.3?content-type=application%2Fjson\n",
      "[INFO] encoding variant \"c.427A>G\"\n",
      "https://rest.variantvalidator.org/VariantValidator/variantvalidator/hg38/NM_178821.3%3Ac.427A>G/NM_178821.3?content-type=application%2Fjson\n",
      "[INFO] encoding variant \"c.357G>A\"\n",
      "https://rest.variantvalidator.org/VariantValidator/variantvalidator/hg38/NM_178821.3%3Ac.357G>A/NM_178821.3?content-type=application%2Fjson\n",
      "[INFO] encoding variant \"c.1091G>C\"\n",
      "https://rest.variantvalidator.org/VariantValidator/variantvalidator/hg38/NM_178821.3%3Ac.1091G>C/NM_178821.3?content-type=application%2Fjson\n",
      "[INFO] encoding variant \"c.197T>A\"\n",
      "https://rest.variantvalidator.org/VariantValidator/variantvalidator/hg38/NM_178821.3%3Ac.197T>A/NM_178821.3?content-type=application%2Fjson\n",
      "We output 6 GA4GH phenopackets to the directory phenopackets\n"
     ]
    }
   ],
   "source": [
    "timporter = TemplateImporter(template=template,  created_by=created_by)\n",
    "individual_list, cvalidator = timporter.import_phenopackets_from_template()"
   ]
  },
  {
   "cell_type": "code",
   "execution_count": 8,
   "metadata": {},
   "outputs": [
    {
     "data": {
      "text/html": [
       "<h2>Cohort validation</h2>\n",
       "<p>Errors found with 4 of 6 phenopackets.</p>\n",
       "<table style=\"border: 2px solid black; align: \"left\">\n",
       "<caption>Error counts</caption>\n",
       "<tr><th style=\"text-align: left;font-weight: bold;\">Level</th><th style=\"text-align: left;font-weight: bold;\">Error category</th><th style=\"text-align: left;font-weight: bold;\">Count</th></tr>\n",
       "<tr><td style=\"text-align: left;\">WARNING</td><td style=\"text-align: left;\">REDUNDANT</td><td style=\"text-align: left;\">4</td></tr>\n",
       "</table>\n",
       "<p>A total of 4 issues were fixed and no individual was removed from the cohort.</p>"
      ],
      "text/plain": [
       "<IPython.core.display.HTML object>"
      ]
     },
     "metadata": {},
     "output_type": "display_data"
    }
   ],
   "source": [
    "qc = QcVisualizer(cohort_validator=cvalidator)\n",
    "display(HTML(qc.to_summary_html()))"
   ]
  },
  {
   "cell_type": "code",
   "execution_count": 9,
   "metadata": {},
   "outputs": [
    {
     "data": {
      "text/html": [
       "<table style=\"border: 2px solid black; align: \"left\">\n",
       "<caption>6 phenopackets - PMID:36074124 (n=6)</caption>\n",
       "<tr><th style=\"text-align: left;font-weight: bold;\">Individual</th><th style=\"text-align: left;font-weight: bold;\">Disease</th><th style=\"text-align: left;font-weight: bold;\">Genotype</th><th style=\"text-align: left;font-weight: bold;\">Phenotypic features</th></tr>\n",
       "<tr><td style=\"text-align: left;\">1-VII-1 (FEMALE; P76Y)</td><td style=\"text-align: left;\">Ciliary dyskinesia, primary, 52 (OMIM:620570)</td><td style=\"text-align: left;\">NM_178821.3:c.427A>G (homozygous)</td><td style=\"text-align: left;\">Recurrent otitis media (HP:0000403); Situs inversus totalis (HP:0001696); excluded: Pulmonic stenosis (HP:0001642); excluded: Mitral atresia (HP:0011560); excluded: Discordant atrioventricular connection (HP:0011553); excluded: Total anomalous pulmonary venous return (HP:0005160); excluded: Ventricular septal defect (HP:0001629); excluded: Patent foramen ovale (HP:0001655); excluded: Patent ductus arteriosus (HP:0001643); excluded: Abdominal situs ambiguus (HP:0031565); excluded: Abdominal situs inversus (HP:0003363); excluded: Sinus venosus atrial septal defect (HP:0011567); excluded: Double outlet right ventricle (HP:0001719); excluded: Transposition of the great arteries (HP:0001669); excluded: Hypoplastic left heart (HP:0004383); excluded: Recurrent lower respiratory tract infections (HP:0002783); excluded: Chronic cough (HP:0034315)</td></tr>\n",
       "<tr><td style=\"text-align: left;\">1-VII-5 (FEMALE; P74Y)</td><td style=\"text-align: left;\">Ciliary dyskinesia, primary, 52 (OMIM:620570)</td><td style=\"text-align: left;\">NM_178821.3:c.427A>G (homozygous)</td><td style=\"text-align: left;\">Chronic cough (HP:0034315); Recurrent otitis media (HP:0000403); Recurrent lower respiratory tract infections (HP:0002783); excluded: Pulmonic stenosis (HP:0001642); excluded: Mitral atresia (HP:0011560); excluded: Discordant atrioventricular connection (HP:0011553); excluded: Total anomalous pulmonary venous return (HP:0005160); excluded: Ventricular septal defect (HP:0001629); excluded: Patent foramen ovale (HP:0001655); excluded: Patent ductus arteriosus (HP:0001643); excluded: Situs inversus totalis (HP:0001696); excluded: Abdominal situs ambiguus (HP:0031565); excluded: Abdominal situs inversus (HP:0003363); excluded: Sinus venosus atrial septal defect (HP:0011567); excluded: Double outlet right ventricle (HP:0001719); excluded: Transposition of the great arteries (HP:0001669); excluded: Hypoplastic left heart (HP:0004383)</td></tr>\n",
       "<tr><td style=\"text-align: left;\">1-VII-8 (FEMALE; P63Y)</td><td style=\"text-align: left;\">Ciliary dyskinesia, primary, 52 (OMIM:620570)</td><td style=\"text-align: left;\">NM_178821.3:c.427A>G (homozygous)</td><td style=\"text-align: left;\">Recurrent otitis media (HP:0000403); Situs inversus totalis (HP:0001696); excluded: Pulmonic stenosis (HP:0001642); excluded: Mitral atresia (HP:0011560); excluded: Discordant atrioventricular connection (HP:0011553); excluded: Total anomalous pulmonary venous return (HP:0005160); excluded: Ventricular septal defect (HP:0001629); excluded: Patent foramen ovale (HP:0001655); excluded: Patent ductus arteriosus (HP:0001643); excluded: Abdominal situs ambiguus (HP:0031565); excluded: Abdominal situs inversus (HP:0003363); excluded: Sinus venosus atrial septal defect (HP:0011567); excluded: Double outlet right ventricle (HP:0001719); excluded: Transposition of the great arteries (HP:0001669); excluded: Hypoplastic left heart (HP:0004383); excluded: Recurrent lower respiratory tract infections (HP:0002783); excluded: Chronic cough (HP:0034315)</td></tr>\n",
       "<tr><td style=\"text-align: left;\">2-IV-1 (FEMALE; P8Y)</td><td style=\"text-align: left;\">Ciliary dyskinesia, primary, 52 (OMIM:620570)</td><td style=\"text-align: left;\">NM_178821.3:c.357G>A (homozygous)</td><td style=\"text-align: left;\">Pulmonic stenosis (HP:0001642); Mitral atresia (HP:0011560); Total anomalous pulmonary venous return (HP:0005160); Abdominal situs ambiguus (HP:0031565); Double outlet right ventricle (HP:0001719); Transposition of the great arteries (HP:0001669); Hypoplastic left heart (HP:0004383); excluded: Discordant atrioventricular connection (HP:0011553); excluded: Ventricular septal defect (HP:0001629); excluded: Patent foramen ovale (HP:0001655); excluded: Patent ductus arteriosus (HP:0001643); excluded: Situs inversus totalis (HP:0001696); excluded: Abdominal situs inversus (HP:0003363); excluded: Sinus venosus atrial septal defect (HP:0011567); excluded: Recurrent lower respiratory tract infections (HP:0002783); excluded: Chronic cough (HP:0034315); excluded: Recurrent otitis media (HP:0000403)</td></tr>\n",
       "<tr><td style=\"text-align: left;\">1-06817 (UNKNOWN; n/a)</td><td style=\"text-align: left;\">Ciliary dyskinesia, primary, 52 (OMIM:620570)</td><td style=\"text-align: left;\"><ul> <li>NM_178821.3:c.197T>A (heterozygous)</li> <li>NM_178821.3:c.1116G>T (heterozygous)</li> </ul></td><td style=\"text-align: left;\">Ventricular septal defect (HP:0001629); Patent foramen ovale (HP:0001655); Patent ductus arteriosus (HP:0001643); Sinus venosus atrial septal defect (HP:0011567); Hypoplastic left heart (HP:0004383); excluded: Pulmonic stenosis (HP:0001642); excluded: Mitral atresia (HP:0011560); excluded: Discordant atrioventricular connection (HP:0011553); excluded: Total anomalous pulmonary venous return (HP:0005160); excluded: Double outlet right ventricle (HP:0001719); excluded: Transposition of the great arteries (HP:0001669)</td></tr>\n",
       "<tr><td style=\"text-align: left;\">1-01687 (UNKNOWN; n/a)</td><td style=\"text-align: left;\">Ciliary dyskinesia, primary, 52 (OMIM:620570)</td><td style=\"text-align: left;\">NM_178821.3:c.1091G>C (homozygous)</td><td style=\"text-align: left;\">Pulmonic stenosis (HP:0001642); Discordant atrioventricular connection (HP:0011553); Ventricular septal defect (HP:0001629); Abdominal situs ambiguus (HP:0031565); Abdominal situs inversus (HP:0003363); Atrial septal defect (HP:0001631); Double outlet right ventricle (HP:0001719); excluded: Mitral atresia (HP:0011560); excluded: Total anomalous pulmonary venous return (HP:0005160); excluded: Patent foramen ovale (HP:0001655); excluded: Patent ductus arteriosus (HP:0001643); excluded: Situs inversus totalis (HP:0001696); excluded: Sinus venosus atrial septal defect (HP:0011567); excluded: Transposition of the great arteries (HP:0001669); excluded: Hypoplastic left heart (HP:0004383)</td></tr>\n",
       "</table>"
      ],
      "text/plain": [
       "<IPython.core.display.HTML object>"
      ]
     },
     "metadata": {},
     "output_type": "display_data"
    }
   ],
   "source": [
    "table = IndividualTable(cvalidator.get_error_free_individual_list())\n",
    "display(HTML(table.to_html()))"
   ]
  },
  {
   "cell_type": "code",
   "execution_count": 10,
   "metadata": {},
   "outputs": [
    {
     "name": "stdout",
     "output_type": "stream",
     "text": [
      "[pyphetools] Ingested 6 GA4GH phenopackets.\n",
      "\tCiliary dyskinesia, primary, 52 (OMIM:620570): n=6\n",
      "We found a total of 18 unique HPO terms\n",
      "Extracted disease: Ciliary dyskinesia, primary, 52 (OMIM:620570)\n",
      "Wrote HPOA disease file to OMIM-620570.tab\n"
     ]
    }
   ],
   "source": [
    "pmid = \"PMID:36333996\"\n",
    "df = timporter.create_hpoa_from_phenopackets(pmid=pmid, moi=\"Autosomal recessive\")"
   ]
  }
 ],
 "metadata": {
  "kernelspec": {
   "display_name": "ps24venv",
   "language": "python",
   "name": "python3"
  },
  "language_info": {
   "codemirror_mode": {
    "name": "ipython",
    "version": 3
   },
   "file_extension": ".py",
   "mimetype": "text/x-python",
   "name": "python",
   "nbconvert_exporter": "python",
   "pygments_lexer": "ipython3",
   "version": "3.9.6"
  }
 },
 "nbformat": 4,
 "nbformat_minor": 2
}
