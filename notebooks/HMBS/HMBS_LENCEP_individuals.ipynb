{
 "cells": [
  {
   "cell_type": "markdown",
   "metadata": {},
   "source": [
    "# HMBS\n",
    "[porphyria-related leukoencephalopathy (LENCEP)](https://omim.org/entry/620711) is caused by homozygous or compound heterozygous mutation in the HMBS gene."
   ]
  },
  {
   "cell_type": "code",
   "execution_count": 3,
   "metadata": {},
   "outputs": [
    {
     "name": "stdout",
     "output_type": "stream",
     "text": [
      "Using pyphetools version 0.9.92\n"
     ]
    }
   ],
   "source": [
    "from pyphetools.creation import TemplateImporter\n",
    "from pyphetools.visualization import IndividualTable, QcVisualizer\n",
    "from IPython.display import display, HTML\n",
    "import pyphetools\n",
    "print(f\"Using pyphetools version {pyphetools.__version__}\")"
   ]
  },
  {
   "cell_type": "code",
   "execution_count": 4,
   "metadata": {},
   "outputs": [],
   "source": [
    "template = \"input/HMBS_LENCEP_individuals.xlsx\"\n",
    "created_by = \"0000-0002-0736-9199\""
   ]
  },
  {
   "cell_type": "code",
   "execution_count": 5,
   "metadata": {},
   "outputs": [
    {
     "name": "stdout",
     "output_type": "stream",
     "text": [
      "HPO version 2024-06-25\n",
      "Created encoders for 39 fields\n",
      "Importing OMIM:620711, Leukoencephalopathy, porphyria-related, HGNC:4982, HMBS,  NM_000190.4\n",
      "[INFO] encoding variant \"c.674G>A\"\n",
      "https://rest.variantvalidator.org/VariantValidator/variantvalidator/hg38/NM_000190.4%3Ac.674G>A/NM_000190.4?content-type=application%2Fjson\n",
      "We output 4 GA4GH phenopackets to the directory phenopackets\n"
     ]
    }
   ],
   "source": [
    "timporter = TemplateImporter(template=template,  created_by=created_by)\n",
    "individual_list, cvalidator = timporter.import_phenopackets_from_template()"
   ]
  },
  {
   "cell_type": "code",
   "execution_count": 6,
   "metadata": {},
   "outputs": [
    {
     "data": {
      "text/html": [
       "<h2>Cohort validation</h2>\n",
       "<p>No errors found for the cohort with 4 individuals</p>"
      ],
      "text/plain": [
       "<IPython.core.display.HTML object>"
      ]
     },
     "metadata": {},
     "output_type": "display_data"
    }
   ],
   "source": [
    "qc = QcVisualizer(cohort_validator=cvalidator)\n",
    "display(HTML(qc.to_summary_html()))"
   ]
  },
  {
   "cell_type": "code",
   "execution_count": 7,
   "metadata": {},
   "outputs": [
    {
     "data": {
      "text/html": [
       "<table style=\"border: 2px solid black; align: \"left\">\n",
       "<caption>4 phenopackets - PMID:27558376 (n=3); PMID:34089223 (n=1)</caption>\n",
       "<tr><th style=\"text-align: left;font-weight: bold;\">Individual</th><th style=\"text-align: left;font-weight: bold;\">Disease</th><th style=\"text-align: left;font-weight: bold;\">Genotype</th><th style=\"text-align: left;font-weight: bold;\">Phenotypic features</th></tr>\n",
       "<tr><td style=\"text-align: left;\">Patient 1 (MALE; P58Y)</td><td style=\"text-align: left;\">Leukoencephalopathy, porphyria-related (OMIM:620711)</td><td style=\"text-align: left;\"><ul> <li>NM_000190.4:c.500G>A (heterozygous)</li> <li>NM_000190.4:c.674G>A (heterozygous)</li> </ul></td><td style=\"text-align: left;\">Spastic paraparesis (HP:0002313); Sensorimotor neuropathy (HP:0007141); Hearing impairment (HP:0000365); Cerebellar atrophy (HP:0001272); excluded: Delayed ability to walk (HP:0031936); excluded: Cognitive impairment (HP:0100543); excluded: Increased CSF lactate (HP:0002490)</td></tr>\n",
       "<tr><td style=\"text-align: left;\">Patient 2 (FEMALE; P63Y)</td><td style=\"text-align: left;\">Leukoencephalopathy, porphyria-related (OMIM:620711)</td><td style=\"text-align: left;\"><ul> <li>NM_000190.4:c.500G>A (heterozygous)</li> <li>NM_000190.4:c.674G>A (heterozygous)</li> </ul></td><td style=\"text-align: left;\"><b>P2Y</b>: Delayed ability to walk (HP:0031936)<br/><b>P4Y</b>: Loss of ambulation (HP:0002505)<br/><b>P63Y</b>: Apraxia (HP:0002186); Nystagmus (HP:0000639); Ataxia (HP:0001251)<br/>Spastic paraparesis (HP:0002313); Sensorimotor neuropathy (HP:0007141); Optic atrophy (HP:0000648); Cognitive impairment (HP:0100543); Cerebellar atrophy (HP:0001272); Progressive visual loss (HP:0000529); Increased CSF lactate (HP:0002490); excluded: Hearing impairment (HP:0000365)</td></tr>\n",
       "<tr><td style=\"text-align: left;\">Patient 3 (MALE; P57Y)</td><td style=\"text-align: left;\">Leukoencephalopathy, porphyria-related (OMIM:620711)</td><td style=\"text-align: left;\"><ul> <li>NM_000190.4:c.500G>A (heterozygous)</li> <li>NM_000190.4:c.674G>A (heterozygous)</li> </ul></td><td style=\"text-align: left;\"><b>P4Y</b>: Optic atrophy (HP:0000648)<br/><b>P35Y</b>: Loss of ambulation (HP:0002505)<br/><b>P57Y</b>: Apraxia (HP:0002186); Nystagmus (HP:0000639); Ataxia (HP:0001251)<br/>Spastic paraparesis (HP:0002313); Cognitive impairment (HP:0100543); Cerebellar atrophy (HP:0001272); Increased CSF lactate (HP:0002490); excluded: Hearing impairment (HP:0000365)</td></tr>\n",
       "<tr><td style=\"text-align: left;\">Individual 3 (MALE; P45Y)</td><td style=\"text-align: left;\">Leukoencephalopathy, porphyria-related (OMIM:620711)</td><td style=\"text-align: left;\"><ul> <li>NM_000190.4:c.500G>A (heterozygous)</li> <li>NM_000190.4:c.674G>A (heterozygous)</li> </ul></td><td style=\"text-align: left;\"><b>P13Y</b>: Unsteady gait (HP:0002317)<br/>Spastic paraparesis (HP:0002313); Sensorimotor neuropathy (HP:0007141); excluded: Cognitive impairment (HP:0100543)</td></tr>\n",
       "</table>"
      ],
      "text/plain": [
       "<IPython.core.display.HTML object>"
      ]
     },
     "metadata": {},
     "output_type": "display_data"
    }
   ],
   "source": [
    "table = IndividualTable(cvalidator.get_error_free_individual_list())\n",
    "display(HTML(table.to_html()))"
   ]
  },
  {
   "cell_type": "code",
   "execution_count": 8,
   "metadata": {},
   "outputs": [
    {
     "name": "stdout",
     "output_type": "stream",
     "text": [
      "[pyphetools] Ingested 7 GA4GH phenopackets.\n",
      "[INFO] Extracted 4 from 7 phenopackets with OMIM:620711\n",
      "\n",
      "\tLeukoencephalopathy, porphyria-related (OMIM:620711): n=4\n",
      "We found a total of 14 unique HPO terms\n",
      "Extracted disease: Leukoencephalopathy, porphyria-related (OMIM:620711)\n",
      "Wrote HPOA disease file to OMIM-620711.tab\n"
     ]
    }
   ],
   "source": [
    "pmid = \"PMID:27558376\"\n",
    "DF = timporter.create_hpoa_from_phenopackets(pmid=pmid, moi=\"Autosomal recessive\", target=\"OMIM:620711\")"
   ]
  },
  {
   "cell_type": "code",
   "execution_count": null,
   "metadata": {},
   "outputs": [],
   "source": []
  }
 ],
 "metadata": {
  "kernelspec": {
   "display_name": "ps24venv",
   "language": "python",
   "name": "python3"
  },
  "language_info": {
   "codemirror_mode": {
    "name": "ipython",
    "version": 3
   },
   "file_extension": ".py",
   "mimetype": "text/x-python",
   "name": "python",
   "nbconvert_exporter": "python",
   "pygments_lexer": "ipython3",
   "version": "3.9.6"
  }
 },
 "nbformat": 4,
 "nbformat_minor": 2
}
