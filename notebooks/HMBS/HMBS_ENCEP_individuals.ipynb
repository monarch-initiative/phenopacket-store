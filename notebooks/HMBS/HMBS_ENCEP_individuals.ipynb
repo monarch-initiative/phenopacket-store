{
 "cells": [
  {
   "cell_type": "markdown",
   "metadata": {},
   "source": [
    "# HMBS\n",
    "[porphyria-related encephalopathy (ENCEP)](https://omim.org/entry/620704) is caused by homozygous or compound heterozygous mutation in the HMBS gene."
   ]
  },
  {
   "cell_type": "code",
   "execution_count": 3,
   "metadata": {},
   "outputs": [
    {
     "name": "stdout",
     "output_type": "stream",
     "text": [
      "Using pyphetools version 0.9.92\n"
     ]
    }
   ],
   "source": [
    "from pyphetools.creation import TemplateImporter\n",
    "from pyphetools.visualization import IndividualTable, QcVisualizer\n",
    "from IPython.display import display, HTML\n",
    "import pyphetools\n",
    "print(f\"Using pyphetools version {pyphetools.__version__}\")"
   ]
  },
  {
   "cell_type": "code",
   "execution_count": 4,
   "metadata": {},
   "outputs": [],
   "source": [
    "template = \"input/HMBS_ENCEP_individuals.xlsx\"\n",
    "created_by = \"0000-0002-0736-9199\""
   ]
  },
  {
   "cell_type": "code",
   "execution_count": 5,
   "metadata": {},
   "outputs": [
    {
     "name": "stdout",
     "output_type": "stream",
     "text": [
      "HPO version 2024-06-25\n",
      "Created encoders for 63 fields\n",
      "Importing OMIM:620704, Encephalopathy, porphyria-related, HGNC:4982, HMBS,  NM_000190.4\n",
      "[INFO] encoding variant \"c.499C>T\"\n",
      "https://rest.variantvalidator.org/VariantValidator/variantvalidator/hg38/NM_000190.4%3Ac.499C>T/NM_000190.4?content-type=application%2Fjson\n",
      "[INFO] encoding variant \"c.500G>A\"\n",
      "https://rest.variantvalidator.org/VariantValidator/variantvalidator/hg38/NM_000190.4%3Ac.500G>A/NM_000190.4?content-type=application%2Fjson\n",
      "We output 3 GA4GH phenopackets to the directory phenopackets\n"
     ]
    }
   ],
   "source": [
    "timporter = TemplateImporter(template=template,  created_by=created_by)\n",
    "individual_list, cvalidator = timporter.import_phenopackets_from_template()"
   ]
  },
  {
   "cell_type": "code",
   "execution_count": 6,
   "metadata": {},
   "outputs": [
    {
     "data": {
      "text/html": [
       "<h2>Cohort validation</h2>\n",
       "<p>No errors found for the cohort with 3 individuals</p>"
      ],
      "text/plain": [
       "<IPython.core.display.HTML object>"
      ]
     },
     "metadata": {},
     "output_type": "display_data"
    }
   ],
   "source": [
    "qc = QcVisualizer(cohort_validator=cvalidator)\n",
    "display(HTML(qc.to_summary_html()))"
   ]
  },
  {
   "cell_type": "code",
   "execution_count": 7,
   "metadata": {},
   "outputs": [
    {
     "data": {
      "text/html": [
       "<table style=\"border: 2px solid black; align: \"left\">\n",
       "<caption>3 phenopackets - PMID:1577472 (n=1); PMID:14970743 (n=1); PMID:15534187 (n=1)</caption>\n",
       "<tr><th style=\"text-align: left;font-weight: bold;\">Individual</th><th style=\"text-align: left;font-weight: bold;\">Disease</th><th style=\"text-align: left;font-weight: bold;\">Genotype</th><th style=\"text-align: left;font-weight: bold;\">Phenotypic features</th></tr>\n",
       "<tr><td style=\"text-align: left;\">sister (FEMALE; P3Y)</td><td style=\"text-align: left;\">Encephalopathy, porphyria-related (OMIM:620704)</td><td style=\"text-align: left;\"><ul> <li>NM_000190.4:c.500G>A (heterozygous)</li> <li>NM_000190.4:c.499C>T (heterozygous)</li> </ul></td><td style=\"text-align: left;\"><b>P1Y6M</b>: Reduced erythrocyte porphobilinogen deaminase activity (HP:4000199); Increased urine urobilinogen (HP:0031890); Cataract (HP:0000518); Partial absence of cerebellar vermis (HP:0002951); Ataxia (HP:0001251); Intention tremor (HP:0002080); Optic nerve hypoplasia (HP:0000609); Febrile seizure (within the age range of 3 months to 6 years) (HP:0002373)<br/>excluded: Anemia (HP:0001903); excluded: Hyperbilirubinemia (HP:0002904); excluded: Hyporeflexia (HP:0001265); excluded: Coarse facial features (HP:0000280); excluded: Global developmental delay (HP:0001263); excluded: Splenomegaly (HP:0001744); excluded: Hepatomegaly (HP:0002240); excluded: Postnatal growth retardation (HP:0008897); excluded: Yellow-brown discoloration of the teeth (HP:0006286); excluded: Red urine (HP:0040318); excluded: Orange urine (HP:0032002); excluded: Long philtrum (HP:0000343); excluded: Protruding tongue (HP:0010808); excluded: Kyphosis (HP:0002808)</td></tr>\n",
       "<tr><td style=\"text-align: left;\">patient MA (MALE; P7Y)</td><td style=\"text-align: left;\">Encephalopathy, porphyria-related (OMIM:620704)</td><td style=\"text-align: left;\"><ul> <li>NM_000190.4:c.500G>A (heterozygous)</li> <li>NM_000190.4:c.499C>T (heterozygous)</li> </ul></td><td style=\"text-align: left;\"><b>P9M</b>: Global developmental delay (HP:0001263); Postnatal growth retardation (HP:0008897)<br/><b>P11M</b>: Yellow-brown discoloration of the teeth (HP:0006286)<br/><b>P7Y</b>: Reduced erythrocyte porphobilinogen deaminase activity (HP:4000199); Increased urine urobilinogen (HP:0031890); Elevated urinary coproporphyrin level (HP:6000536); Red urine (HP:0040318)<br/>Anemia (HP:0001903); Splenomegaly (HP:0001744); Hepatomegaly (HP:0002240); Hyperbilirubinemia (HP:0002904); excluded: Hyporeflexia (HP:0001265); excluded: Coarse facial features (HP:0000280); excluded: Cataract (HP:0000518); excluded: Partial absence of cerebellar vermis (HP:0002951); excluded: Ataxia (HP:0001251); excluded: Intention tremor (HP:0002080); excluded: Febrile seizure (within the age range of 3 months to 6 years) (HP:0002373); excluded: Orange urine (HP:0032002); excluded: Long philtrum (HP:0000343); excluded: Protruding tongue (HP:0010808); excluded: Kyphosis (HP:0002808)</td></tr>\n",
       "<tr><td style=\"text-align: left;\">proband (MALE; P1Y1M)</td><td style=\"text-align: left;\">Encephalopathy, porphyria-related (OMIM:620704)</td><td style=\"text-align: left;\">NM_000190.4:c.499C>T (homozygous)</td><td style=\"text-align: left;\"><b>P3M</b>: Global developmental delay (HP:0001263)<br/><b>P9M</b>: Cataract (HP:0000518)<br/><b>P1Y1M</b>: Reduced erythrocyte porphobilinogen deaminase activity (HP:4000199); Increased urine urobilinogen (HP:0031890); Elevated urinary coproporphyrin level (HP:6000536); Hyporeflexia (HP:0001265); Coarse facial features (HP:0000280); Sensorimotor neuropathy (HP:0007141); Delayed CNS myelination (HP:0002188); Ptosis (HP:0000508); Splenomegaly (HP:0001744); Hepatomegaly (HP:0002240); Babinski sign (HP:0003487); Axial hypotonia (HP:0008936); Long philtrum (HP:0000343); Protruding tongue (HP:0010808); Kyphosis (HP:0002808)<br/>Orange urine (HP:0032002); excluded: Anemia (HP:0001903); excluded: Hyperbilirubinemia (HP:0002904); excluded: Red urine (HP:0040318)</td></tr>\n",
       "</table>"
      ],
      "text/plain": [
       "<IPython.core.display.HTML object>"
      ]
     },
     "metadata": {},
     "output_type": "display_data"
    }
   ],
   "source": [
    "table = IndividualTable(cvalidator.get_error_free_individual_list())\n",
    "display(HTML(table.to_html()))"
   ]
  },
  {
   "cell_type": "code",
   "execution_count": 9,
   "metadata": {},
   "outputs": [
    {
     "name": "stdout",
     "output_type": "stream",
     "text": [
      "[pyphetools] Ingested 3 GA4GH phenopackets.\n",
      "[INFO] Extracted 3 from 3 phenopackets with OMIM:620704\n",
      "\n",
      "\tEncephalopathy, porphyria-related (OMIM:620704): n=3\n",
      "We found a total of 28 unique HPO terms\n",
      "Extracted disease: Encephalopathy, porphyria-related (OMIM:620704)\n",
      "Wrote HPOA disease file to OMIM-620704.tab\n"
     ]
    }
   ],
   "source": [
    "pmid = \"PMID:1577472\"\n",
    "df = timporter.create_hpoa_from_phenopackets(pmid=pmid, moi=\"Autosomal recessive\", target=\"OMIM:620704\")"
   ]
  },
  {
   "cell_type": "code",
   "execution_count": null,
   "metadata": {},
   "outputs": [],
   "source": []
  }
 ],
 "metadata": {
  "kernelspec": {
   "display_name": "ps24venv",
   "language": "python",
   "name": "python3"
  },
  "language_info": {
   "codemirror_mode": {
    "name": "ipython",
    "version": 3
   },
   "file_extension": ".py",
   "mimetype": "text/x-python",
   "name": "python",
   "nbconvert_exporter": "python",
   "pygments_lexer": "ipython3",
   "version": "3.9.6"
  }
 },
 "nbformat": 4,
 "nbformat_minor": 2
}
