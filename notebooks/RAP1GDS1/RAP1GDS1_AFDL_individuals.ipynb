{
 "cells": [
  {
   "cell_type": "markdown",
   "id": "f29bd076-3215-4db6-81ff-981a48a369e8",
   "metadata": {},
   "source": [
    "# RAP1GDS1\n",
    "[Alfadhel syndrome (AFDL)](https://omim.org/entry/620655) is caused by homozygous mutation in the RAP1GDS1 gene"
   ]
  },
  {
   "cell_type": "code",
   "execution_count": null,
   "id": "7edb3de0-6aee-4de5-9aff-dbfd84b364e3",
   "metadata": {},
   "outputs": [],
   "source": [
    "from pyphetools.creation import TemplateImporter\n",
    "from pyphetools.visualization import IndividualTable, QcVisualizer\n",
    "from IPython.display import display, HTML\n",
    "import pyphetools\n",
    "print(f\"Using pyphetools version {pyphetools.__version__}\")"
   ]
  },
  {
   "cell_type": "code",
   "execution_count": null,
   "id": "4bf30cce-3589-44ce-aa8d-972cb47c96bd",
   "metadata": {},
   "outputs": [],
   "source": [
    "template = \"input/RAP1GDS1_AFDL_individuals.xlsx\"\n",
    "hp_json = \"../hp.json\"\n",
    "created_by = \"0000-0002-0736-9199\""
   ]
  },
  {
   "cell_type": "code",
   "execution_count": null,
   "id": "2ab5f88a-6539-4792-a800-596df005947e",
   "metadata": {},
   "outputs": [],
   "source": [
    "timporter = TemplateImporter(template=template, hp_json=hp_json, created_by=created_by)\n",
    "individual_list, cvalidator = timporter.import_phenopackets_from_template()"
   ]
  },
  {
   "cell_type": "code",
   "execution_count": null,
   "id": "55c157b3-754f-49c6-9d10-dd27efd071c0",
   "metadata": {},
   "outputs": [],
   "source": [
    "qc = QcVisualizer(cohort_validator=cvalidator)\n",
    "display(HTML(qc.to_summary_html()))"
   ]
  }
 ],
 "metadata": {
  "kernelspec": {
   "display_name": "Python 3 (ipykernel)",
   "language": "python",
   "name": "python3"
  },
  "language_info": {
   "codemirror_mode": {
    "name": "ipython",
    "version": 3
   },
   "file_extension": ".py",
   "mimetype": "text/x-python",
   "name": "python",
   "nbconvert_exporter": "python",
   "pygments_lexer": "ipython3",
   "version": "3.8.10"
  }
 },
 "nbformat": 4,
 "nbformat_minor": 5
}
