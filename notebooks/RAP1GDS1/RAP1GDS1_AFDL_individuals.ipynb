{
 "cells": [
  {
   "cell_type": "markdown",
   "id": "f29bd076-3215-4db6-81ff-981a48a369e8",
   "metadata": {},
   "source": [
    "# RAP1GDS1\n",
    "[Alfadhel syndrome (AFDL)](https://omim.org/entry/620655) is caused by homozygous mutation in the RAP1GDS1 gene"
   ]
  },
  {
   "cell_type": "code",
   "execution_count": 1,
   "id": "7edb3de0-6aee-4de5-9aff-dbfd84b364e3",
   "metadata": {},
   "outputs": [
    {
     "name": "stdout",
     "output_type": "stream",
     "text": [
      "Using pyphetools version 0.9.74\n"
     ]
    }
   ],
   "source": [
    "from pyphetools.creation import TemplateImporter\n",
    "from pyphetools.visualization import IndividualTable, QcVisualizer\n",
    "from IPython.display import display, HTML\n",
    "import pyphetools\n",
    "print(f\"Using pyphetools version {pyphetools.__version__}\")"
   ]
  },
  {
   "cell_type": "code",
   "execution_count": 2,
   "id": "4bf30cce-3589-44ce-aa8d-972cb47c96bd",
   "metadata": {},
   "outputs": [],
   "source": [
    "template = \"input/RAP1GDS1_AFDL_individuals.xlsx\"\n",
    "hp_json = \"../hp.json\"\n",
    "created_by = \"0000-0002-0736-9199\""
   ]
  },
  {
   "cell_type": "code",
   "execution_count": 4,
   "id": "2ab5f88a-6539-4792-a800-596df005947e",
   "metadata": {},
   "outputs": [
    {
     "name": "stdout",
     "output_type": "stream",
     "text": [
      "HPO version 2024-03-06\n",
      "Created encoders for 47 fields\n",
      "Importing OMIM:620655, Alfadhel syndrome, HGNC:9859, RAP1GDS1,  NM_001100427.2\n",
      "[INFO] encoding variant \"c.80del\"\n",
      "https://rest.variantvalidator.org/VariantValidator/variantvalidator/hg38/NM_001100427.2%3Ac.80del/NM_001100427.2?content-type=application%2Fjson\n",
      "[INFO] encoding variant \"c.1441-1G>A\"\n",
      "https://rest.variantvalidator.org/VariantValidator/variantvalidator/hg38/NM_001100427.2%3Ac.1441-1G>A/NM_001100427.2?content-type=application%2Fjson\n",
      "We output 6 GA4GH phenopackets to the directory phenopackets\n"
     ]
    }
   ],
   "source": [
    "timporter = TemplateImporter(template=template, hp_json=hp_json, created_by=created_by)\n",
    "individual_list, cvalidator = timporter.import_phenopackets_from_template()"
   ]
  },
  {
   "cell_type": "code",
   "execution_count": 5,
   "id": "55c157b3-754f-49c6-9d10-dd27efd071c0",
   "metadata": {},
   "outputs": [
    {
     "data": {
      "text/html": [
       "<h2>Cohort validation</h2>\n",
       "<p>Errors found with 3 of 6 phenopackets.</p>\n",
       "<table style=\"border: 2px solid black; align: \"left\">\n",
       "<caption>Error counts</caption>\n",
       "<tr><th style=\"text-align: left;font-weight: bold;\">Level</th><th style=\"text-align: left;font-weight: bold;\">Error category</th><th style=\"text-align: left;font-weight: bold;\">Count</th></tr>\n",
       "<tr><td style=\"text-align: left;\">WARNING</td><td style=\"text-align: left;\">REDUNDANT</td><td style=\"text-align: left;\">3</td></tr>\n",
       "</table>\n",
       "<p>A total of 3 issues were fixed and no individual was removed from the cohort.</p>"
      ],
      "text/plain": [
       "<IPython.core.display.HTML object>"
      ]
     },
     "metadata": {},
     "output_type": "display_data"
    }
   ],
   "source": [
    "qc = QcVisualizer(cohort_validator=cvalidator)\n",
    "display(HTML(qc.to_summary_html()))"
   ]
  },
  {
   "cell_type": "code",
   "execution_count": 6,
   "id": "e614f9b6-04cd-4e1d-8975-5e7c99ecc458",
   "metadata": {},
   "outputs": [
    {
     "data": {
      "text/html": [
       "<table style=\"border: 2px solid black; align: \"left\">\n",
       "<caption>6 phenopackets - PMID:32431071 (n=4); PMID:33875846 (n=2)</caption>\n",
       "<tr><th style=\"text-align: left;font-weight: bold;\">Individual</th><th style=\"text-align: left;font-weight: bold;\">Disease</th><th style=\"text-align: left;font-weight: bold;\">Genotype</th><th style=\"text-align: left;font-weight: bold;\">Phenotypic features</th></tr>\n",
       "<tr><td style=\"text-align: left;\">Family 1 IV-9 (MALE; P4M)</td><td style=\"text-align: left;\">Alfadhel syndrome (OMIM:620655)</td><td style=\"text-align: left;\">NM_001100427.2:c.1441-1G>A (homozygous)</td><td style=\"text-align: left;\">Motor delay (HP:0001270); Global developmental delay (HP:0001263); Intellectual disability (HP:0001249); Hyporeflexia (HP:0001265); Axial hypotonia (HP:0008936); Smooth philtrum (HP:0000319); Thin vermilion border (HP:0000233); Bulbous nose (HP:0000414); Retrognathia (HP:0000278); Highly arched eyebrow (HP:0002553); Expressive language delay (HP:0002474); Horseshoe kidney (HP:0000085); Aggressive behavior (HP:0000718); excluded: Bilateral tonic-clonic seizure (HP:0002069); excluded: Talipes equinovarus (HP:0001762); excluded: Receptive language delay (HP:0010863)</td></tr>\n",
       "<tr><td style=\"text-align: left;\">Family 1 IV-10 (MALE; P3Y4M)</td><td style=\"text-align: left;\">Alfadhel syndrome (OMIM:620655)</td><td style=\"text-align: left;\">NM_001100427.2:c.1441-1G>A (homozygous)</td><td style=\"text-align: left;\">Motor delay (HP:0001270); Global developmental delay (HP:0001263); Intellectual disability (HP:0001249); Hyporeflexia (HP:0001265); Axial hypotonia (HP:0008936); Smooth philtrum (HP:0000319); Thin vermilion border (HP:0000233); Bulbous nose (HP:0000414); Retrognathia (HP:0000278); Highly arched eyebrow (HP:0002553); Expressive language delay (HP:0002474); excluded: Bilateral tonic-clonic seizure (HP:0002069); excluded: Talipes equinovarus (HP:0001762); excluded: Receptive language delay (HP:0010863); excluded: Horseshoe kidney (HP:0000085)</td></tr>\n",
       "<tr><td style=\"text-align: left;\">Family 2 IV-4 (MALE; P27Y)</td><td style=\"text-align: left;\">Alfadhel syndrome (OMIM:620655)</td><td style=\"text-align: left;\">NM_001100427.2:c.1441-1G>A (homozygous)</td><td style=\"text-align: left;\"><b>P10Y</b>: Bilateral tonic-clonic seizure (HP:0002069)<br/>Motor delay (HP:0001270); Global developmental delay (HP:0001263); Intellectual disability (HP:0001249); Axial hypotonia (HP:0008936); Short philtrum (HP:0000322); Triangular face (HP:0000325); Retrognathia (HP:0000278); Talipes equinovarus (HP:0001762); Expressive language delay (HP:0002474); excluded: Receptive language delay (HP:0010863); excluded: Horseshoe kidney (HP:0000085)</td></tr>\n",
       "<tr><td style=\"text-align: left;\">Family 2 IV-2 (MALE; P5Y)</td><td style=\"text-align: left;\">Alfadhel syndrome (OMIM:620655)</td><td style=\"text-align: left;\">NM_001100427.2:c.1441-1G>A (homozygous)</td><td style=\"text-align: left;\">Motor delay (HP:0001270); Global developmental delay (HP:0001263); Intellectual disability (HP:0001249); Axial hypotonia (HP:0008936); Smooth philtrum (HP:0000319); Short philtrum (HP:0000322); Bulbous nose (HP:0000414); Triangular face (HP:0000325); Retrognathia (HP:0000278); Talipes equinovarus (HP:0001762); Expressive language delay (HP:0002474); excluded: Seizure (HP:0001250); excluded: Receptive language delay (HP:0010863); excluded: Horseshoe kidney (HP:0000085)</td></tr>\n",
       "<tr><td style=\"text-align: left;\">patient 22 (UNKNOWN; n/a)</td><td style=\"text-align: left;\">Alfadhel syndrome (OMIM:620655)</td><td style=\"text-align: left;\">NM_001100427.2:c.1441-1G>A (homozygous)</td><td style=\"text-align: left;\">Motor delay (HP:0001270); Global developmental delay (HP:0001263); Delayed CNS myelination (HP:0002188); Microcephaly (HP:0000252); Spastic paraplegia (HP:0001258)</td></tr>\n",
       "<tr><td style=\"text-align: left;\">patient 23 (UNKNOWN; n/a)</td><td style=\"text-align: left;\">Alfadhel syndrome (OMIM:620655)</td><td style=\"text-align: left;\">NM_001100427.2:c.80del (homozygous)</td><td style=\"text-align: left;\">Axial hypotonia (HP:0008936); Joint hypermobility (HP:0001382); Highly arched eyebrow (HP:0002553); High forehead (HP:0000348); Low-set ears (HP:0000369); Hypertelorism (HP:0000316); Short stature (HP:0004322); Nasal flaring (HP:0030863)</td></tr>\n",
       "</table>"
      ],
      "text/plain": [
       "<IPython.core.display.HTML object>"
      ]
     },
     "metadata": {},
     "output_type": "display_data"
    }
   ],
   "source": [
    "table = IndividualTable(cvalidator.get_error_free_individual_list())\n",
    "display(HTML(table.to_html()))"
   ]
  },
  {
   "cell_type": "code",
   "execution_count": 7,
   "id": "b35eb7b1-54b3-4025-b082-ca8a1f37a9a3",
   "metadata": {},
   "outputs": [
    {
     "name": "stdout",
     "output_type": "stream",
     "text": [
      "[pyphetools] Ingested 6 GA4GH phenopackets.\n",
      "\tAlfadhel syndrome (OMIM:620655): n=6\n",
      "We found a total of 28 unique HPO terms\n",
      "Extracted disease: Alfadhel syndrome (OMIM:620655)\n",
      "Wrote HPOA disease file to OMIM-620655.tab\n"
     ]
    }
   ],
   "source": [
    "pmid = \"PMID:32431071\"\n",
    "df = timporter.create_hpoa_from_phenopackets(pmid=pmid, moi=\"Autosomal recessive\")"
   ]
  },
  {
   "cell_type": "code",
   "execution_count": null,
   "id": "03e052fc-3dd7-4f07-ae8d-2ad2a1fea45a",
   "metadata": {},
   "outputs": [],
   "source": []
  }
 ],
 "metadata": {
  "kernelspec": {
   "display_name": "Python 3 (ipykernel)",
   "language": "python",
   "name": "python3"
  },
  "language_info": {
   "codemirror_mode": {
    "name": "ipython",
    "version": 3
   },
   "file_extension": ".py",
   "mimetype": "text/x-python",
   "name": "python",
   "nbconvert_exporter": "python",
   "pygments_lexer": "ipython3",
   "version": "3.8.10"
  }
 },
 "nbformat": 4,
 "nbformat_minor": 5
}
