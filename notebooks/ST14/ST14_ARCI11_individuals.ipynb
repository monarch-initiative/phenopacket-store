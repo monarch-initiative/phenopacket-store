{
 "cells": [
  {
   "cell_type": "markdown",
   "metadata": {},
   "source": [
    "# ST14\n",
    "[autosomal recessive congenital ichthyosis-11 (ARCI11)](https://omim.org/entry/602400) is caused by homozygous mutation in the ST14 gene."
   ]
  },
  {
   "cell_type": "code",
   "execution_count": 1,
   "metadata": {},
   "outputs": [
    {
     "name": "stdout",
     "output_type": "stream",
     "text": [
      "Using pyphetools version 0.9.80\n"
     ]
    },
    {
     "name": "stderr",
     "output_type": "stream",
     "text": [
      "/Users/robin/GIT/phenopacket-store/ps24venv/lib/python3.9/site-packages/urllib3/__init__.py:35: NotOpenSSLWarning: urllib3 v2 only supports OpenSSL 1.1.1+, currently the 'ssl' module is compiled with 'LibreSSL 2.8.3'. See: https://github.com/urllib3/urllib3/issues/3020\n",
      "  warnings.warn(\n"
     ]
    }
   ],
   "source": [
    "from pyphetools.creation import TemplateImporter\n",
    "from pyphetools.visualization import IndividualTable, QcVisualizer\n",
    "from IPython.display import display, HTML\n",
    "import pyphetools\n",
    "print(f\"Using pyphetools version {pyphetools.__version__}\")"
   ]
  },
  {
   "cell_type": "code",
   "execution_count": 2,
   "metadata": {},
   "outputs": [],
   "source": [
    "template = \"input/ST14_ARCI11_individuals.xlsx\"\n",
    "created_by = \"0000-0002-0736-9199\""
   ]
  },
  {
   "cell_type": "code",
   "execution_count": 3,
   "metadata": {},
   "outputs": [
    {
     "name": "stdout",
     "output_type": "stream",
     "text": [
      "HPO version 2024-04-26\n",
      "Created encoders for 39 fields\n",
      "Importing OMIM:602400, Ichthyosis, congenital, autosomal recessive 11, HGNC:11344, ST14,  NM_021978.4\n",
      "We output 4 GA4GH phenopackets to the directory phenopackets\n"
     ]
    }
   ],
   "source": [
    "timporter = TemplateImporter(template=template,  created_by=created_by)\n",
    "individual_list, cvalidator = timporter.import_phenopackets_from_template()"
   ]
  },
  {
   "cell_type": "code",
   "execution_count": 4,
   "metadata": {},
   "outputs": [
    {
     "data": {
      "text/html": [
       "<h2>Cohort validation</h2>\n",
       "<p>Errors found with 1 of 4 phenopackets.</p>\n",
       "<table style=\"border: 2px solid black; align: \"left\">\n",
       "<caption>Error counts</caption>\n",
       "<tr><th style=\"text-align: left;font-weight: bold;\">Level</th><th style=\"text-align: left;font-weight: bold;\">Error category</th><th style=\"text-align: left;font-weight: bold;\">Count</th></tr>\n",
       "<tr><td style=\"text-align: left;\">WARNING</td><td style=\"text-align: left;\">REDUNDANT</td><td style=\"text-align: left;\">1</td></tr>\n",
       "</table>\n",
       "<p>A total of 1 issues were fixed and no individual was removed from the cohort.</p>"
      ],
      "text/plain": [
       "<IPython.core.display.HTML object>"
      ]
     },
     "metadata": {},
     "output_type": "display_data"
    }
   ],
   "source": [
    "qc = QcVisualizer(cohort_validator=cvalidator)\n",
    "display(HTML(qc.to_summary_html()))"
   ]
  },
  {
   "cell_type": "code",
   "execution_count": 5,
   "metadata": {},
   "outputs": [
    {
     "data": {
      "text/html": [
       "<table style=\"border: 2px solid black; align: \"left\">\n",
       "<caption>4 phenopackets - PMID:17273967 (n=3); PMID:18445049 (n=1)</caption>\n",
       "<tr><th style=\"text-align: left;font-weight: bold;\">Individual</th><th style=\"text-align: left;font-weight: bold;\">Disease</th><th style=\"text-align: left;font-weight: bold;\">Genotype</th><th style=\"text-align: left;font-weight: bold;\">Phenotypic features</th></tr>\n",
       "<tr><td style=\"text-align: left;\">III-1 (UNKNOWN; n/a)</td><td style=\"text-align: left;\">Ichthyosis, congenital, autosomal recessive 11 (OMIM:602400)</td><td style=\"text-align: left;\">NM_021978.4:c.2479G>A (homozygous)</td><td style=\"text-align: left;\">Ichthyosis (HP:0008064); Sparse hair (HP:0008070); Curly hair (HP:0002212); Pinguecula (HP:0031830); Photophobia (HP:0000613); Pili torti (HP:0003777); Brittle scalp hair (HP:0004779); Dry hair (HP:0011359); Pruritus (HP:0000989); excluded: Blepharitis (HP:0000498); excluded: Corneal opacity (HP:0007957); excluded: Hypohidrosis (HP:0000966); excluded: Congenital nonbullous ichthyosiform erythroderma (HP:0007479); excluded: Caseous vernix-like desquamation (HP:0025724); excluded: Conical tooth (HP:0000698); excluded: Abnormality of the nail (HP:0001597)</td></tr>\n",
       "<tr><td style=\"text-align: left;\">III-5 (UNKNOWN; n/a)</td><td style=\"text-align: left;\">Ichthyosis, congenital, autosomal recessive 11 (OMIM:602400)</td><td style=\"text-align: left;\">NM_021978.4:c.2479G>A (homozygous)</td><td style=\"text-align: left;\">Ichthyosis (HP:0008064); Sparse hair (HP:0008070); Curly hair (HP:0002212); Photophobia (HP:0000613); Pili torti (HP:0003777); Brittle scalp hair (HP:0004779); Dry hair (HP:0011359); Caseous vernix-like desquamation (HP:0025724); Pruritus (HP:0000989); excluded: Blepharitis (HP:0000498); excluded: Corneal opacity (HP:0007957); excluded: Pinguecula (HP:0031830); excluded: Hypohidrosis (HP:0000966); excluded: Congenital nonbullous ichthyosiform erythroderma (HP:0007479); excluded: Conical tooth (HP:0000698); excluded: Abnormality of the nail (HP:0001597)</td></tr>\n",
       "<tr><td style=\"text-align: left;\">III-8 (UNKNOWN; n/a)</td><td style=\"text-align: left;\">Ichthyosis, congenital, autosomal recessive 11 (OMIM:602400)</td><td style=\"text-align: left;\">NM_021978.4:c.2479G>A (homozygous)</td><td style=\"text-align: left;\">Ichthyosis (HP:0008064); Sparse hair (HP:0008070); Curly hair (HP:0002212); Corneal opacity (HP:0007957); Photophobia (HP:0000613); Pili torti (HP:0003777); Brittle scalp hair (HP:0004779); Dry hair (HP:0011359); Caseous vernix-like desquamation (HP:0025724); Conical tooth (HP:0000698); Pruritus (HP:0000989); excluded: Blepharitis (HP:0000498); excluded: Pinguecula (HP:0031830); excluded: Hypohidrosis (HP:0000966); excluded: Congenital nonbullous ichthyosiform erythroderma (HP:0007479); excluded: Abnormality of the nail (HP:0001597)</td></tr>\n",
       "<tr><td style=\"text-align: left;\">patient (FEMALE; P2Y6M)</td><td style=\"text-align: left;\">Ichthyosis, congenital, autosomal recessive 11 (OMIM:602400)</td><td style=\"text-align: left;\">NM_021978.4:c.3G>A (homozygous)</td><td style=\"text-align: left;\">Ichthyosis (HP:0008064); Sparse hair (HP:0008070); Blepharitis (HP:0000498); Sparse eyebrow (HP:0045075); Curly hair (HP:0002212); Caseous vernix-like desquamation (HP:0025724); excluded: Corneal opacity (HP:0007957); excluded: Photophobia (HP:0000613); excluded: Congenital nonbullous ichthyosiform erythroderma (HP:0007479); excluded: Conical tooth (HP:0000698); excluded: Abnormality of the nail (HP:0001597)</td></tr>\n",
       "</table>"
      ],
      "text/plain": [
       "<IPython.core.display.HTML object>"
      ]
     },
     "metadata": {},
     "output_type": "display_data"
    }
   ],
   "source": [
    "table = IndividualTable(cvalidator.get_error_free_individual_list())\n",
    "display(HTML(table.to_html()))"
   ]
  }
 ],
 "metadata": {
  "kernelspec": {
   "display_name": "ps24venv",
   "language": "python",
   "name": "python3"
  },
  "language_info": {
   "codemirror_mode": {
    "name": "ipython",
    "version": 3
   },
   "file_extension": ".py",
   "mimetype": "text/x-python",
   "name": "python",
   "nbconvert_exporter": "python",
   "pygments_lexer": "ipython3",
   "version": "3.9.6"
  }
 },
 "nbformat": 4,
 "nbformat_minor": 2
}
