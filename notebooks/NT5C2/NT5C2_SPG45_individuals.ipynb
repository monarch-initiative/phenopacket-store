{
 "cells": [
  {
   "cell_type": "markdown",
   "metadata": {},
   "source": [
    "# NT5C2\n",
    "[autosomal recessive spastic paraplegia-45 (SPG45)](https://omim.org/entry/613162) is caused by homozygous mutation in the NT5C2 gene."
   ]
  },
  {
   "cell_type": "code",
   "execution_count": 3,
   "metadata": {},
   "outputs": [
    {
     "name": "stdout",
     "output_type": "stream",
     "text": [
      "Using pyphetools version 0.9.91\n"
     ]
    }
   ],
   "source": [
    "from pyphetools.creation import TemplateImporter\n",
    "from pyphetools.visualization import IndividualTable, QcVisualizer\n",
    "from IPython.display import display, HTML\n",
    "import pyphetools\n",
    "print(f\"Using pyphetools version {pyphetools.__version__}\")"
   ]
  },
  {
   "cell_type": "code",
   "execution_count": 4,
   "metadata": {},
   "outputs": [],
   "source": [
    "template = \"input/NT5C2_SPG45_individuals.xlsx\"\n",
    "created_by = \"0000-0002-0736-9199\""
   ]
  },
  {
   "cell_type": "code",
   "execution_count": 7,
   "metadata": {},
   "outputs": [
    {
     "name": "stdout",
     "output_type": "stream",
     "text": [
      "HPO version 2024-04-26\n",
      "Created encoders for 33 fields\n",
      "Importing OMIM:613162, Spastic paraplegia 45, autosomal recessive, HGNC:8022, NT5C2,  NM_001351169.2\n",
      "We output 2 GA4GH phenopackets to the directory phenopackets\n"
     ]
    }
   ],
   "source": [
    "timporter = TemplateImporter(template=template,  created_by=created_by)\n",
    "individual_list, cvalidator = timporter.import_phenopackets_from_template()"
   ]
  },
  {
   "cell_type": "code",
   "execution_count": 8,
   "metadata": {},
   "outputs": [
    {
     "data": {
      "text/html": [
       "<h2>Cohort validation</h2>\n",
       "<p>Errors found with 1 of 2 phenopackets.</p>\n",
       "<table style=\"border: 2px solid black; align: \"left\">\n",
       "<caption>Error counts</caption>\n",
       "<tr><th style=\"text-align: left;font-weight: bold;\">Level</th><th style=\"text-align: left;font-weight: bold;\">Error category</th><th style=\"text-align: left;font-weight: bold;\">Count</th></tr>\n",
       "<tr><td style=\"text-align: left;\">WARNING</td><td style=\"text-align: left;\">REDUNDANT</td><td style=\"text-align: left;\">1</td></tr>\n",
       "</table>\n",
       "<p>A total of 1 issues were fixed and no individual was removed from the cohort.</p>"
      ],
      "text/plain": [
       "<IPython.core.display.HTML object>"
      ]
     },
     "metadata": {},
     "output_type": "display_data"
    }
   ],
   "source": [
    "qc = QcVisualizer(cohort_validator=cvalidator)\n",
    "display(HTML(qc.to_summary_html()))"
   ]
  },
  {
   "cell_type": "code",
   "execution_count": 9,
   "metadata": {},
   "outputs": [
    {
     "data": {
      "text/html": [
       "<table style=\"border: 2px solid black; align: \"left\">\n",
       "<caption>2 phenopackets - PMID:28327087 (n=2)</caption>\n",
       "<tr><th style=\"text-align: left;font-weight: bold;\">Individual</th><th style=\"text-align: left;font-weight: bold;\">Disease</th><th style=\"text-align: left;font-weight: bold;\">Genotype</th><th style=\"text-align: left;font-weight: bold;\">Phenotypic features</th></tr>\n",
       "<tr><td style=\"text-align: left;\">Patient II.3 (MALE; P3Y)</td><td style=\"text-align: left;\">Spastic paraplegia 45, autosomal recessive (OMIM:613162)</td><td style=\"text-align: left;\">NM_001351169.2:c.1159+1G>T (homozygous)</td><td style=\"text-align: left;\"><b>P2Y</b>: Axial hypotonia (HP:0008936); Delayed speech and language development (HP:0000750); Ankle clonus (HP:0011448); Tip-toe gait (HP:0030051)<br/>Lower limb spasticity (HP:0002061); Motor delay (HP:0001270); Dysarthria (HP:0001260); Global developmental delay (HP:0001263); Intellectual disability (HP:0001249); Thin corpus callosum (HP:0033725); Talipes equinovarus (HP:0001762); excluded: Cerebral atrophy (HP:0002059)</td></tr>\n",
       "<tr><td style=\"text-align: left;\">Patient II.1 (MALE; P9Y)</td><td style=\"text-align: left;\">Spastic paraplegia 45, autosomal recessive (OMIM:613162)</td><td style=\"text-align: left;\">NM_001351169.2:c.1159+1G>T (homozygous)</td><td style=\"text-align: left;\">Lower limb spasticity (HP:0002061); Axial hypotonia (HP:0008936); Dysarthria (HP:0001260); Delayed speech and language development (HP:0000750); Global developmental delay (HP:0001263); Spastic gait (HP:0002064); Ankle clonus (HP:0011448); Motor delay (HP:0001270); Intellectual disability (HP:0001249); Thin corpus callosum (HP:0033725); Cerebral atrophy (HP:0002059); Talipes equinovarus (HP:0001762)</td></tr>\n",
       "</table>"
      ],
      "text/plain": [
       "<IPython.core.display.HTML object>"
      ]
     },
     "metadata": {},
     "output_type": "display_data"
    }
   ],
   "source": [
    "table = IndividualTable(cvalidator.get_error_free_individual_list())\n",
    "display(HTML(table.to_html()))"
   ]
  },
  {
   "cell_type": "code",
   "execution_count": 10,
   "metadata": {},
   "outputs": [
    {
     "name": "stdout",
     "output_type": "stream",
     "text": [
      "[pyphetools] Ingested 2 GA4GH phenopackets.\n",
      "[INFO] Extracted 2 from 2 phenopackets with OMIM:613162\n",
      "\n",
      "\tSpastic paraplegia 45, autosomal recessive (OMIM:613162): n=2\n",
      "We found a total of 13 unique HPO terms\n",
      "Extracted disease: Spastic paraplegia 45, autosomal recessive (OMIM:613162)\n",
      "Wrote HPOA disease file to OMIM-613162.tab\n"
     ]
    }
   ],
   "source": [
    "pmid = \"PMID:28327087\"\n",
    "df = timporter.create_hpoa_from_phenopackets(pmid=pmid, moi=\"Autosomal recessive\", target=\"OMIM:613162\")"
   ]
  },
  {
   "cell_type": "code",
   "execution_count": null,
   "metadata": {},
   "outputs": [],
   "source": []
  }
 ],
 "metadata": {
  "kernelspec": {
   "display_name": "ps24venv",
   "language": "python",
   "name": "python3"
  },
  "language_info": {
   "codemirror_mode": {
    "name": "ipython",
    "version": 3
   },
   "file_extension": ".py",
   "mimetype": "text/x-python",
   "name": "python",
   "nbconvert_exporter": "python",
   "pygments_lexer": "ipython3",
   "version": "3.9.6"
  }
 },
 "nbformat": 4,
 "nbformat_minor": 2
}
