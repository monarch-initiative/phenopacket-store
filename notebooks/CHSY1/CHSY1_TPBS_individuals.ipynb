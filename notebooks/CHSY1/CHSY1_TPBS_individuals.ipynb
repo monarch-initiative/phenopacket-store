{
 "cells": [
  {
   "cell_type": "markdown",
   "metadata": {},
   "source": [
    "# CHSY1\n",
    "[Temtamy preaxial brachydactyly syndrome (TPBS)](https://omim.org/entry/605282) is caused by homozygous mutation in the CHSY1 gene."
   ]
  },
  {
   "cell_type": "code",
   "execution_count": 4,
   "metadata": {},
   "outputs": [
    {
     "name": "stdout",
     "output_type": "stream",
     "text": [
      "Using pyphetools version 0.9.92\n"
     ]
    }
   ],
   "source": [
    "from pyphetools.creation import TemplateImporter\n",
    "from pyphetools.visualization import IndividualTable, QcVisualizer\n",
    "from IPython.display import display, HTML\n",
    "import pyphetools\n",
    "print(f\"Using pyphetools version {pyphetools.__version__}\")"
   ]
  },
  {
   "cell_type": "code",
   "execution_count": 5,
   "metadata": {},
   "outputs": [],
   "source": [
    "template = \"input/CHSY1_TPBS_individuals.xlsx\"\n",
    "created_by = \"0000-0002-0736-9199\""
   ]
  },
  {
   "cell_type": "code",
   "execution_count": 7,
   "metadata": {},
   "outputs": [
    {
     "name": "stdout",
     "output_type": "stream",
     "text": [
      "HPO version 2024-07-01\n",
      "Created encoders for 40 fields\n",
      "Importing OMIM:605282, Temtamy preaxial brachydactyly syndrome, HGNC:17198, CHSY1,  NM_014918.5\n",
      "[INFO] encoding variant \"c.1897G>A\"\n",
      "https://rest.variantvalidator.org/VariantValidator/variantvalidator/hg38/NM_014918.5%3Ac.1897G>A/NM_014918.5?content-type=application%2Fjson\n",
      "We output 2 GA4GH phenopackets to the directory phenopackets\n"
     ]
    }
   ],
   "source": [
    "timporter = TemplateImporter(template=template,  created_by=created_by)\n",
    "individual_list, cvalidator = timporter.import_phenopackets_from_template()"
   ]
  },
  {
   "cell_type": "code",
   "execution_count": 8,
   "metadata": {},
   "outputs": [
    {
     "data": {
      "text/html": [
       "<h2>Cohort validation</h2>\n",
       "<p>No errors found for the cohort with 2 individuals</p>"
      ],
      "text/plain": [
       "<IPython.core.display.HTML object>"
      ]
     },
     "metadata": {},
     "output_type": "display_data"
    }
   ],
   "source": [
    "qc = QcVisualizer(cohort_validator=cvalidator)\n",
    "display(HTML(qc.to_summary_html()))"
   ]
  },
  {
   "cell_type": "code",
   "execution_count": 9,
   "metadata": {},
   "outputs": [
    {
     "data": {
      "text/html": [
       "<table style=\"border: 2px solid black; align: \"left\">\n",
       "<caption>2 phenopackets - PMID:24269551 (n=2)</caption>\n",
       "<tr><th style=\"text-align: left;font-weight: bold;\">Individual</th><th style=\"text-align: left;font-weight: bold;\">Disease</th><th style=\"text-align: left;font-weight: bold;\">Genotype</th><th style=\"text-align: left;font-weight: bold;\">Phenotypic features</th></tr>\n",
       "<tr><td style=\"text-align: left;\">patient IV-1 (MALE; P21Y)</td><td style=\"text-align: left;\">Temtamy preaxial brachydactyly syndrome (OMIM:605282)</td><td style=\"text-align: left;\">NM_014918.5:c.1897G>A (homozygous)</td><td style=\"text-align: left;\">Finger hyperphalangy (HP:0030367); Finger clinodactyly (HP:0040019); Microdontia (HP:0000691); Oligodontia (HP:0000677); Round face (HP:0000311); Low-set ears (HP:0000369); Hitchhiker thumb (HP:0001234); excluded: Talon cusp (HP:0011087)</td></tr>\n",
       "<tr><td style=\"text-align: left;\">patient IV-2 (MALE; P12Y)</td><td style=\"text-align: left;\">Temtamy preaxial brachydactyly syndrome (OMIM:605282)</td><td style=\"text-align: left;\">NM_014918.5:c.1897G>A (homozygous)</td><td style=\"text-align: left;\">Talon cusp (HP:0011087); Finger hyperphalangy (HP:0030367); Finger clinodactyly (HP:0040019); Round face (HP:0000311); Low-set ears (HP:0000369); Hitchhiker thumb (HP:0001234); excluded: Microdontia (HP:0000691); excluded: Oligodontia (HP:0000677)</td></tr>\n",
       "</table>"
      ],
      "text/plain": [
       "<IPython.core.display.HTML object>"
      ]
     },
     "metadata": {},
     "output_type": "display_data"
    }
   ],
   "source": [
    "table = IndividualTable(cvalidator.get_error_free_individual_list())\n",
    "display(HTML(table.to_html()))"
   ]
  }
 ],
 "metadata": {
  "kernelspec": {
   "display_name": "ps24venv",
   "language": "python",
   "name": "python3"
  },
  "language_info": {
   "codemirror_mode": {
    "name": "ipython",
    "version": 3
   },
   "file_extension": ".py",
   "mimetype": "text/x-python",
   "name": "python",
   "nbconvert_exporter": "python",
   "pygments_lexer": "ipython3",
   "version": "3.9.6"
  }
 },
 "nbformat": 4,
 "nbformat_minor": 2
}
