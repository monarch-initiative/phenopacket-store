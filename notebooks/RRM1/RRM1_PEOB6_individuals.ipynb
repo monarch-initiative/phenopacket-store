{
 "cells": [
  {
   "cell_type": "markdown",
   "metadata": {},
   "source": [
    "# RRM1\n",
    "[autosomal recessive progressive external ophthalmoplegia with mitochondrial DNA deletions-6 (PEOB6)](https://omim.org/entry/620647) is caused by homozygous mutation in the RRM1 gene"
   ]
  },
  {
   "cell_type": "code",
   "execution_count": 1,
   "metadata": {},
   "outputs": [
    {
     "name": "stdout",
     "output_type": "stream",
     "text": [
      "Using pyphetools version 0.9.83\n"
     ]
    },
    {
     "name": "stderr",
     "output_type": "stream",
     "text": [
      "/Users/robin/GIT/phenopacket-store/ps24venv/lib/python3.9/site-packages/urllib3/__init__.py:35: NotOpenSSLWarning: urllib3 v2 only supports OpenSSL 1.1.1+, currently the 'ssl' module is compiled with 'LibreSSL 2.8.3'. See: https://github.com/urllib3/urllib3/issues/3020\n",
      "  warnings.warn(\n"
     ]
    }
   ],
   "source": [
    "from pyphetools.creation import TemplateImporter\n",
    "from pyphetools.visualization import IndividualTable, QcVisualizer\n",
    "from IPython.display import display, HTML\n",
    "import pyphetools\n",
    "print(f\"Using pyphetools version {pyphetools.__version__}\")"
   ]
  },
  {
   "cell_type": "code",
   "execution_count": 4,
   "metadata": {},
   "outputs": [],
   "source": [
    "template = \"input/RRM1_PEOB6_individuals.xlsx\"\n",
    "created_by = \"0000-0002-0736-9199\""
   ]
  },
  {
   "cell_type": "code",
   "execution_count": 5,
   "metadata": {},
   "outputs": [
    {
     "name": "stdout",
     "output_type": "stream",
     "text": [
      "HPO version 2024-04-26\n",
      "Created encoders for 43 fields\n",
      "Importing OMIM:620647, Progressive external ophthalmoplegia with mitochondrial DNA deletions, autosomal recessive 6, HGNC:10451, RRM1,  NM_001033.5\n",
      "We output 5 GA4GH phenopackets to the directory phenopackets\n"
     ]
    }
   ],
   "source": [
    "timporter = TemplateImporter(template=template,  created_by=created_by)\n",
    "individual_list, cvalidator = timporter.import_phenopackets_from_template(leniant_MOI=True)"
   ]
  },
  {
   "cell_type": "code",
   "execution_count": 6,
   "metadata": {},
   "outputs": [
    {
     "data": {
      "text/html": [
       "<h2>Cohort validation</h2>\n",
       "<p>Errors found with 4 of 5 phenopackets.</p>\n",
       "<table style=\"border: 2px solid black; align: \"left\">\n",
       "<caption>Error counts</caption>\n",
       "<tr><th style=\"text-align: left;font-weight: bold;\">Level</th><th style=\"text-align: left;font-weight: bold;\">Error category</th><th style=\"text-align: left;font-weight: bold;\">Count</th></tr>\n",
       "<tr><td style=\"text-align: left;\">WARNING</td><td style=\"text-align: left;\">REDUNDANT</td><td style=\"text-align: left;\">4</td></tr>\n",
       "</table>\n",
       "<p>A total of 4 issues were fixed and no individual was removed from the cohort.</p>"
      ],
      "text/plain": [
       "<IPython.core.display.HTML object>"
      ]
     },
     "metadata": {},
     "output_type": "display_data"
    }
   ],
   "source": [
    "qc = QcVisualizer(cohort_validator=cvalidator)\n",
    "display(HTML(qc.to_summary_html()))"
   ]
  },
  {
   "cell_type": "code",
   "execution_count": 7,
   "metadata": {},
   "outputs": [
    {
     "data": {
      "text/html": [
       "<table style=\"border: 2px solid black; align: \"left\">\n",
       "<caption>5 phenopackets - PMID:35617047 (n=5)</caption>\n",
       "<tr><th style=\"text-align: left;font-weight: bold;\">Individual</th><th style=\"text-align: left;font-weight: bold;\">Disease</th><th style=\"text-align: left;font-weight: bold;\">Genotype</th><th style=\"text-align: left;font-weight: bold;\">Phenotypic features</th></tr>\n",
       "<tr><td style=\"text-align: left;\">Proband 1a (MALE; P32Y)</td><td style=\"text-align: left;\">Progressive external ophthalmoplegia with mitochondrial DNA deletions, autosomal recessive 6 (OMIM:620647)</td><td style=\"text-align: left;\">NM_001033.5:c.1142G>A (homozygous)</td><td style=\"text-align: left;\"><b>P7Y</b>: Nausea (HP:0002018); Vomiting (HP:0002013)<br/><b>P17Y</b>: Ophthalmoplegia (HP:0000602)<br/><b>P31Y</b>: Areflexia (HP:0001284); Sensorimotor neuropathy (HP:0007141); Ptosis (HP:0000508); Skeletal muscle atrophy (HP:0003202); Elevated circulating creatine kinase concentration (HP:0003236); Cytochrome C oxidase-negative muscle fibers (HP:0003688); Ragged-red muscle fibers (HP:0003200); Centrally nucleated skeletal muscle fibers (HP:0003687); Multiple mitochondrial DNA deletions (HP:0003689)<br/>Gastrointestinal dysmotility (HP:0002579); Gastroparesis (HP:0002578); Dysphagia (HP:0002015); Cachexia (HP:0004326); Weakness of facial musculature (HP:0030319); Myopathy (HP:0003198); Limb muscle weakness (HP:0003690); excluded: Sensorineural hearing impairment (HP:0000407); excluded: Axial muscle weakness (HP:0003327); excluded: Loss of ambulation (HP:0002505); excluded: Intellectual disability (HP:0001249); excluded: Elevated circulating alanine aminotransferase concentration (HP:0031964); excluded: Elevated circulating aspartate aminotransferase concentration (HP:0031956)</td></tr>\n",
       "<tr><td style=\"text-align: left;\">Proband 1b (MALE; n/a)</td><td style=\"text-align: left;\">Progressive external ophthalmoplegia with mitochondrial DNA deletions, autosomal recessive 6 (OMIM:620647)</td><td style=\"text-align: left;\">NM_001033.5:c.1142G>A (homozygous)</td><td style=\"text-align: left;\"><b>P18Y</b>: Dysphagia (HP:0002015)<br/>Gastrointestinal dysmotility (HP:0002579); Nausea (HP:0002018); Vomiting (HP:0002013); Ophthalmoplegia (HP:0000602); Ptosis (HP:0000508); Cachexia (HP:0004326); Weakness of facial musculature (HP:0030319); Myopathy (HP:0003198); Limb muscle weakness (HP:0003690); Elevated circulating alanine aminotransferase concentration (HP:0031964); excluded: Sensorineural hearing impairment (HP:0000407); excluded: Gastroparesis (HP:0002578); excluded: Areflexia (HP:0001284); excluded: Sensorimotor neuropathy (HP:0007141); excluded: Axial muscle weakness (HP:0003327); excluded: Skeletal muscle atrophy (HP:0003202); excluded: Elevated circulating creatine kinase concentration (HP:0003236); excluded: Loss of ambulation (HP:0002505); excluded: Intellectual disability (HP:0001249); excluded: Elevated circulating aspartate aminotransferase concentration (HP:0031956)</td></tr>\n",
       "<tr><td style=\"text-align: left;\">Proband 2 (FEMALE; n/a)</td><td style=\"text-align: left;\">Progressive external ophthalmoplegia with mitochondrial DNA deletions, autosomal recessive 6 (OMIM:620647)</td><td style=\"text-align: left;\">NM_001033.5:c.1141C>T (homozygous)</td><td style=\"text-align: left;\"><b>P45Y</b>: Ophthalmoplegia (HP:0000602); Ptosis (HP:0000508); Myopathy (HP:0003198); Multiple mitochondrial DNA deletions (HP:0003689)<br/>Dysphagia (HP:0002015); excluded: Sensorineural hearing impairment (HP:0000407); excluded: Gastrointestinal dysmotility (HP:0002579); excluded: Gastroparesis (HP:0002578); excluded: Nausea (HP:0002018); excluded: Vomiting (HP:0002013); excluded: Areflexia (HP:0001284); excluded: Sensorimotor neuropathy (HP:0007141); excluded: Weakness of facial musculature (HP:0030319); excluded: Axial muscle weakness (HP:0003327); excluded: Limb muscle weakness (HP:0003690); excluded: Skeletal muscle atrophy (HP:0003202); excluded: Elevated circulating creatine kinase concentration (HP:0003236); excluded: Cytochrome C oxidase-negative muscle fibers (HP:0003688); excluded: Ragged-red muscle fibers (HP:0003200); excluded: Centrally nucleated skeletal muscle fibers (HP:0003687); excluded: Loss of ambulation (HP:0002505); excluded: Intellectual disability (HP:0001249); excluded: Elevated circulating alanine aminotransferase concentration (HP:0031964); excluded: Elevated circulating aspartate aminotransferase concentration (HP:0031956)</td></tr>\n",
       "<tr><td style=\"text-align: left;\">Proband 3 (MALE; n/a)</td><td style=\"text-align: left;\">Progressive external ophthalmoplegia with mitochondrial DNA deletions, autosomal recessive 6 (OMIM:620647)</td><td style=\"text-align: left;\">NM_001033.5:c.1281C>A (heterozygous)</td><td style=\"text-align: left;\"><b>P40Y</b>: Ptosis (HP:0000508)<br/>Sensorineural hearing impairment (HP:0000407); Ophthalmoplegia (HP:0000602); Myopathy (HP:0003198); Limb muscle weakness (HP:0003690); Skeletal muscle atrophy (HP:0003202); Cytochrome C oxidase-negative muscle fibers (HP:0003688); Ragged-red muscle fibers (HP:0003200); Multiple mitochondrial DNA deletions (HP:0003689); Loss of ambulation (HP:0002505); excluded: Gastrointestinal dysmotility (HP:0002579); excluded: Gastroparesis (HP:0002578); excluded: Nausea (HP:0002018); excluded: Vomiting (HP:0002013); excluded: Areflexia (HP:0001284); excluded: Dysphagia (HP:0002015); excluded: Sensorimotor neuropathy (HP:0007141); excluded: Weakness of facial musculature (HP:0030319); excluded: Axial muscle weakness (HP:0003327); excluded: Elevated circulating creatine kinase concentration (HP:0003236); excluded: Centrally nucleated skeletal muscle fibers (HP:0003687); excluded: Intellectual disability (HP:0001249); excluded: Elevated circulating alanine aminotransferase concentration (HP:0031964); excluded: Elevated circulating aspartate aminotransferase concentration (HP:0031956)</td></tr>\n",
       "<tr><td style=\"text-align: left;\">Proband 4 (FEMALE; P61Y)</td><td style=\"text-align: left;\">Progressive external ophthalmoplegia with mitochondrial DNA deletions, autosomal recessive 6 (OMIM:620647)</td><td style=\"text-align: left;\">NM_001033.5:c.1141C>T (homozygous)</td><td style=\"text-align: left;\"><b>P61Y</b>: Cytochrome C oxidase-negative muscle fibers (HP:0003688); Ragged-red muscle fibers (HP:0003200); Multiple mitochondrial DNA deletions (HP:0003689)<br/>Dysphagia (HP:0002015); Ophthalmoplegia (HP:0000602); Ptosis (HP:0000508); Myopathy (HP:0003198); Limb muscle weakness (HP:0003690); Loss of ambulation (HP:0002505); excluded: Sensorineural hearing impairment (HP:0000407); excluded: Gastrointestinal dysmotility (HP:0002579); excluded: Gastroparesis (HP:0002578); excluded: Nausea (HP:0002018); excluded: Vomiting (HP:0002013); excluded: Areflexia (HP:0001284); excluded: Sensorimotor neuropathy (HP:0007141); excluded: Cachexia (HP:0004326); excluded: Weakness of facial musculature (HP:0030319); excluded: Axial muscle weakness (HP:0003327); excluded: Skeletal muscle atrophy (HP:0003202); excluded: Elevated circulating creatine kinase concentration (HP:0003236); excluded: Centrally nucleated skeletal muscle fibers (HP:0003687); excluded: Intellectual disability (HP:0001249); excluded: Elevated circulating alanine aminotransferase concentration (HP:0031964); excluded: Elevated circulating aspartate aminotransferase concentration (HP:0031956)</td></tr>\n",
       "</table>"
      ],
      "text/plain": [
       "<IPython.core.display.HTML object>"
      ]
     },
     "metadata": {},
     "output_type": "display_data"
    }
   ],
   "source": [
    "table = IndividualTable(cvalidator.get_error_free_individual_list())\n",
    "display(HTML(table.to_html()))"
   ]
  },
  {
   "cell_type": "code",
   "execution_count": null,
   "metadata": {},
   "outputs": [],
   "source": []
  }
 ],
 "metadata": {
  "kernelspec": {
   "display_name": "ps24venv",
   "language": "python",
   "name": "python3"
  },
  "language_info": {
   "codemirror_mode": {
    "name": "ipython",
    "version": 3
   },
   "file_extension": ".py",
   "mimetype": "text/x-python",
   "name": "python",
   "nbconvert_exporter": "python",
   "pygments_lexer": "ipython3",
   "version": "3.9.6"
  }
 },
 "nbformat": 4,
 "nbformat_minor": 2
}
