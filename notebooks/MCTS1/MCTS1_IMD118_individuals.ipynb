{
 "cells": [
  {
   "cell_type": "markdown",
   "metadata": {},
   "source": [
    "# MCTS1\n",
    "[X-linked recessive immunodeficiency-118 (IMD118)](https://omim.org/entry/301115) is caused by hemizygous mutation in the MCTS1 gene.\n"
   ]
  },
  {
   "cell_type": "code",
   "execution_count": 10,
   "metadata": {},
   "outputs": [
    {
     "name": "stdout",
     "output_type": "stream",
     "text": [
      "Using pyphetools version 0.9.78\n"
     ]
    }
   ],
   "source": [
    "from pyphetools.creation import TemplateImporter\n",
    "from pyphetools.visualization import IndividualTable, QcVisualizer\n",
    "from IPython.display import display, HTML\n",
    "import pyphetools\n",
    "print(f\"Using pyphetools version {pyphetools.__version__}\")"
   ]
  },
  {
   "cell_type": "code",
   "execution_count": 11,
   "metadata": {},
   "outputs": [],
   "source": [
    "template = \"input/MCTS1_IMD118_individuals.xlsx\"\n",
    "hp_json = \"../hp.json\"\n",
    "created_by = \"0000-0002-0736-9199\""
   ]
  },
  {
   "cell_type": "code",
   "execution_count": 12,
   "metadata": {},
   "outputs": [
    {
     "name": "stdout",
     "output_type": "stream",
     "text": [
      "HPO version 2024-04-04\n",
      "Created encoders for 26 fields\n",
      "Importing OMIM:301115, Immunodeficiency 118, mycobacteriosis, HGNC:23357, MCTS1,  NM_014060.3\n",
      "We output 7 GA4GH phenopackets to the directory phenopackets\n"
     ]
    }
   ],
   "source": [
    "del_set = {\"g.120610122_120614250del\", \"g.120610241_120615860delinsCAT\"}\n",
    "timporter = TemplateImporter(template=template, hp_json=hp_json, created_by=created_by)\n",
    "individual_list, cvalidator = timporter.import_phenopackets_from_template(deletions=del_set)"
   ]
  },
  {
   "cell_type": "code",
   "execution_count": 13,
   "metadata": {},
   "outputs": [
    {
     "data": {
      "text/html": [
       "<h2>Cohort validation</h2>\n",
       "<p>No errors found for the cohort with 7 individuals</p>"
      ],
      "text/plain": [
       "<IPython.core.display.HTML object>"
      ]
     },
     "metadata": {},
     "output_type": "display_data"
    }
   ],
   "source": [
    "qc = QcVisualizer(cohort_validator=cvalidator)\n",
    "display(HTML(qc.to_summary_html()))"
   ]
  },
  {
   "cell_type": "code",
   "execution_count": 14,
   "metadata": {},
   "outputs": [
    {
     "data": {
      "text/html": [
       "<table style=\"border: 2px solid black; align: \"left\">\n",
       "<caption>7 phenopackets - PMID:37875108 (n=7)</caption>\n",
       "<tr><th style=\"text-align: left;font-weight: bold;\">Individual</th><th style=\"text-align: left;font-weight: bold;\">Disease</th><th style=\"text-align: left;font-weight: bold;\">Genotype</th><th style=\"text-align: left;font-weight: bold;\">Phenotypic features</th></tr>\n",
       "<tr><td style=\"text-align: left;\">Patient 1 (MALE; P1Y)</td><td style=\"text-align: left;\">Immunodeficiency 118, mycobacteriosis (OMIM:301115)</td><td style=\"text-align: left;\">NM_014060.3:c.228dup (heterozygous)</td><td style=\"text-align: left;\"><b>P7M</b>: BCGosis (HP:0020087)<br/>Osteomyelitis (HP:0002754); Recurrent fever (HP:0001954); Splenomegaly (HP:0001744); Hepatomegaly (HP:0002240); excluded: BCGitis (HP:0020086); excluded: Global developmental delay (HP:0001263)</td></tr>\n",
       "<tr><td style=\"text-align: left;\">Patient 2 (MALE; P18Y)</td><td style=\"text-align: left;\">Immunodeficiency 118, mycobacteriosis (OMIM:301115)</td><td style=\"text-align: left;\">NM_014060.3:c.213dup (heterozygous)</td><td style=\"text-align: left;\"><b>P3M</b>: BCGosis (HP:0020087)<br/>Recurrent fever (HP:0001954); excluded: Osteomyelitis (HP:0002754); excluded: Splenomegaly (HP:0001744); excluded: Hepatomegaly (HP:0002240); excluded: BCGitis (HP:0020086); excluded: Global developmental delay (HP:0001263); excluded: Decreased circulating antibody level (HP:0004313)</td></tr>\n",
       "<tr><td style=\"text-align: left;\">Patient 3 (MALE; P12Y)</td><td style=\"text-align: left;\">Immunodeficiency 118, mycobacteriosis (OMIM:301115)</td><td style=\"text-align: left;\">NM_014060.3:c.164+3_164+6del (heterozygous)</td><td style=\"text-align: left;\"><b>P1Y</b>: BCGosis (HP:0020087)<br/>Osteomyelitis (HP:0002754); excluded: Recurrent fever (HP:0001954); excluded: Splenomegaly (HP:0001744); excluded: Hepatomegaly (HP:0002240); excluded: BCGitis (HP:0020086); excluded: Global developmental delay (HP:0001263); excluded: Decreased circulating antibody level (HP:0004313)</td></tr>\n",
       "<tr><td style=\"text-align: left;\">Patient 4 (MALE; P6Y)</td><td style=\"text-align: left;\">Immunodeficiency 118, mycobacteriosis (OMIM:301115)</td><td style=\"text-align: left;\">g.120610122_120614250del: chromosomal_deletion (SO:1000029)</td><td style=\"text-align: left;\"><b>P5M</b>: BCGitis (HP:0020086)<br/>Recurrent fever (HP:0001954); Lymphadenopathy (HP:0002716); excluded: Osteomyelitis (HP:0002754); excluded: Splenomegaly (HP:0001744); excluded: Hepatomegaly (HP:0002240); excluded: BCGosis (HP:0020087); excluded: Global developmental delay (HP:0001263); excluded: Decreased circulating antibody level (HP:0004313)</td></tr>\n",
       "<tr><td style=\"text-align: left;\">Patient 5 (MALE; P3Y)</td><td style=\"text-align: left;\">Immunodeficiency 118, mycobacteriosis (OMIM:301115)</td><td style=\"text-align: left;\">g.120610241_120615860delinsCAT: chromosomal_deletion (SO:1000029)</td><td style=\"text-align: left;\"><b>P3M</b>: BCGosis (HP:0020087)<br/>excluded: Osteomyelitis (HP:0002754); excluded: Recurrent fever (HP:0001954); excluded: Splenomegaly (HP:0001744); excluded: Hepatomegaly (HP:0002240); excluded: BCGitis (HP:0020086); excluded: Global developmental delay (HP:0001263); excluded: Decreased circulating antibody level (HP:0004313)</td></tr>\n",
       "<tr><td style=\"text-align: left;\">Patient 6 (MALE; P2Y)</td><td style=\"text-align: left;\">Immunodeficiency 118, mycobacteriosis (OMIM:301115)</td><td style=\"text-align: left;\">g.120610241_120615860delinsCAT: chromosomal_deletion (SO:1000029)</td><td style=\"text-align: left;\">Recurrent fever (HP:0001954); Splenomegaly (HP:0001744); Hepatomegaly (HP:0002240); excluded: Osteomyelitis (HP:0002754); excluded: Global developmental delay (HP:0001263)</td></tr>\n",
       "<tr><td style=\"text-align: left;\">Patient 7 (MALE; P1Y)</td><td style=\"text-align: left;\">Immunodeficiency 118, mycobacteriosis (OMIM:301115)</td><td style=\"text-align: left;\">g.120610241_120615860delinsCAT: chromosomal_deletion (SO:1000029)</td><td style=\"text-align: left;\">excluded: Osteomyelitis (HP:0002754); excluded: Recurrent fever (HP:0001954); excluded: Splenomegaly (HP:0001744); excluded: Hepatomegaly (HP:0002240); excluded: Global developmental delay (HP:0001263)</td></tr>\n",
       "</table>"
      ],
      "text/plain": [
       "<IPython.core.display.HTML object>"
      ]
     },
     "metadata": {},
     "output_type": "display_data"
    }
   ],
   "source": [
    "table = IndividualTable(cvalidator.get_error_free_individual_list())\n",
    "display(HTML(table.to_html()))"
   ]
  },
  {
   "cell_type": "code",
   "execution_count": 16,
   "metadata": {},
   "outputs": [
    {
     "name": "stdout",
     "output_type": "stream",
     "text": [
      "[pyphetools] Ingested 7 GA4GH phenopackets.\n",
      "\tImmunodeficiency 118, mycobacteriosis (OMIM:301115): n=7\n",
      "We found a total of 9 unique HPO terms\n",
      "Extracted disease: Immunodeficiency 118, mycobacteriosis (OMIM:301115)\n",
      "Wrote HPOA disease file to OMIM-301115.tab\n"
     ]
    },
    {
     "data": {
      "text/html": [
       "<div>\n",
       "<style scoped>\n",
       "    .dataframe tbody tr th:only-of-type {\n",
       "        vertical-align: middle;\n",
       "    }\n",
       "\n",
       "    .dataframe tbody tr th {\n",
       "        vertical-align: top;\n",
       "    }\n",
       "\n",
       "    .dataframe thead th {\n",
       "        text-align: right;\n",
       "    }\n",
       "</style>\n",
       "<table border=\"1\" class=\"dataframe\">\n",
       "  <thead>\n",
       "    <tr style=\"text-align: right;\">\n",
       "      <th></th>\n",
       "      <th>#diseaseID</th>\n",
       "      <th>diseaseName</th>\n",
       "      <th>phenotypeID</th>\n",
       "      <th>phenotypeName</th>\n",
       "      <th>onsetID</th>\n",
       "      <th>onsetName</th>\n",
       "      <th>frequency</th>\n",
       "      <th>sex</th>\n",
       "      <th>negation</th>\n",
       "      <th>modifier</th>\n",
       "      <th>description</th>\n",
       "      <th>publication</th>\n",
       "      <th>evidence</th>\n",
       "      <th>biocuration</th>\n",
       "    </tr>\n",
       "  </thead>\n",
       "  <tbody>\n",
       "    <tr>\n",
       "      <th>0</th>\n",
       "      <td>OMIM:301115</td>\n",
       "      <td>Immunodeficiency 118, mycobacteriosis</td>\n",
       "      <td>HP:0001954</td>\n",
       "      <td>Recurrent fever</td>\n",
       "      <td></td>\n",
       "      <td></td>\n",
       "      <td>4/7</td>\n",
       "      <td></td>\n",
       "      <td></td>\n",
       "      <td></td>\n",
       "      <td></td>\n",
       "      <td>PMID:37875108</td>\n",
       "      <td>PCS</td>\n",
       "      <td>ORCID:0000-0002-0736-9199[2024-04-25]</td>\n",
       "    </tr>\n",
       "    <tr>\n",
       "      <th>1</th>\n",
       "      <td>OMIM:301115</td>\n",
       "      <td>Immunodeficiency 118, mycobacteriosis</td>\n",
       "      <td>HP:0001744</td>\n",
       "      <td>Splenomegaly</td>\n",
       "      <td></td>\n",
       "      <td></td>\n",
       "      <td>2/7</td>\n",
       "      <td></td>\n",
       "      <td></td>\n",
       "      <td></td>\n",
       "      <td></td>\n",
       "      <td>PMID:37875108</td>\n",
       "      <td>PCS</td>\n",
       "      <td>ORCID:0000-0002-0736-9199[2024-04-25]</td>\n",
       "    </tr>\n",
       "    <tr>\n",
       "      <th>2</th>\n",
       "      <td>OMIM:301115</td>\n",
       "      <td>Immunodeficiency 118, mycobacteriosis</td>\n",
       "      <td>HP:0002240</td>\n",
       "      <td>Hepatomegaly</td>\n",
       "      <td></td>\n",
       "      <td></td>\n",
       "      <td>2/7</td>\n",
       "      <td></td>\n",
       "      <td></td>\n",
       "      <td></td>\n",
       "      <td></td>\n",
       "      <td>PMID:37875108</td>\n",
       "      <td>PCS</td>\n",
       "      <td>ORCID:0000-0002-0736-9199[2024-04-25]</td>\n",
       "    </tr>\n",
       "    <tr>\n",
       "      <th>3</th>\n",
       "      <td>OMIM:301115</td>\n",
       "      <td>Immunodeficiency 118, mycobacteriosis</td>\n",
       "      <td>HP:0002754</td>\n",
       "      <td>Osteomyelitis</td>\n",
       "      <td></td>\n",
       "      <td></td>\n",
       "      <td>2/7</td>\n",
       "      <td></td>\n",
       "      <td></td>\n",
       "      <td></td>\n",
       "      <td></td>\n",
       "      <td>PMID:37875108</td>\n",
       "      <td>PCS</td>\n",
       "      <td>ORCID:0000-0002-0736-9199[2024-04-25]</td>\n",
       "    </tr>\n",
       "    <tr>\n",
       "      <th>4</th>\n",
       "      <td>OMIM:301115</td>\n",
       "      <td>Immunodeficiency 118, mycobacteriosis</td>\n",
       "      <td>HP:0001263</td>\n",
       "      <td>Global developmental delay</td>\n",
       "      <td></td>\n",
       "      <td></td>\n",
       "      <td>0/7</td>\n",
       "      <td></td>\n",
       "      <td></td>\n",
       "      <td></td>\n",
       "      <td></td>\n",
       "      <td>PMID:37875108</td>\n",
       "      <td>PCS</td>\n",
       "      <td>ORCID:0000-0002-0736-9199[2024-04-25]</td>\n",
       "    </tr>\n",
       "    <tr>\n",
       "      <th>5</th>\n",
       "      <td>OMIM:301115</td>\n",
       "      <td>Immunodeficiency 118, mycobacteriosis</td>\n",
       "      <td>HP:0020087</td>\n",
       "      <td>BCGosis</td>\n",
       "      <td></td>\n",
       "      <td></td>\n",
       "      <td>4/5</td>\n",
       "      <td></td>\n",
       "      <td></td>\n",
       "      <td></td>\n",
       "      <td></td>\n",
       "      <td>PMID:37875108</td>\n",
       "      <td>PCS</td>\n",
       "      <td>ORCID:0000-0002-0736-9199[2024-04-25]</td>\n",
       "    </tr>\n",
       "    <tr>\n",
       "      <th>6</th>\n",
       "      <td>OMIM:301115</td>\n",
       "      <td>Immunodeficiency 118, mycobacteriosis</td>\n",
       "      <td>HP:0020086</td>\n",
       "      <td>BCGitis</td>\n",
       "      <td></td>\n",
       "      <td></td>\n",
       "      <td>1/5</td>\n",
       "      <td></td>\n",
       "      <td></td>\n",
       "      <td></td>\n",
       "      <td></td>\n",
       "      <td>PMID:37875108</td>\n",
       "      <td>PCS</td>\n",
       "      <td>ORCID:0000-0002-0736-9199[2024-04-25]</td>\n",
       "    </tr>\n",
       "    <tr>\n",
       "      <th>7</th>\n",
       "      <td>OMIM:301115</td>\n",
       "      <td>Immunodeficiency 118, mycobacteriosis</td>\n",
       "      <td>HP:0004313</td>\n",
       "      <td>Decreased circulating antibody level</td>\n",
       "      <td></td>\n",
       "      <td></td>\n",
       "      <td>0/4</td>\n",
       "      <td></td>\n",
       "      <td></td>\n",
       "      <td></td>\n",
       "      <td></td>\n",
       "      <td>PMID:37875108</td>\n",
       "      <td>PCS</td>\n",
       "      <td>ORCID:0000-0002-0736-9199[2024-04-25]</td>\n",
       "    </tr>\n",
       "    <tr>\n",
       "      <th>8</th>\n",
       "      <td>OMIM:301115</td>\n",
       "      <td>Immunodeficiency 118, mycobacteriosis</td>\n",
       "      <td>HP:0002716</td>\n",
       "      <td>Lymphadenopathy</td>\n",
       "      <td></td>\n",
       "      <td></td>\n",
       "      <td>1/1</td>\n",
       "      <td></td>\n",
       "      <td></td>\n",
       "      <td></td>\n",
       "      <td></td>\n",
       "      <td>PMID:37875108</td>\n",
       "      <td>PCS</td>\n",
       "      <td>ORCID:0000-0002-0736-9199[2024-04-25]</td>\n",
       "    </tr>\n",
       "    <tr>\n",
       "      <th>9</th>\n",
       "      <td>OMIM:301115</td>\n",
       "      <td>Immunodeficiency 118, mycobacteriosis</td>\n",
       "      <td>HP:0003593</td>\n",
       "      <td>Infantile onset</td>\n",
       "      <td></td>\n",
       "      <td></td>\n",
       "      <td>4/5</td>\n",
       "      <td></td>\n",
       "      <td></td>\n",
       "      <td></td>\n",
       "      <td></td>\n",
       "      <td>PMID:37875108</td>\n",
       "      <td>PCS</td>\n",
       "      <td>ORCID:0000-0002-0736-9199[2024-04-25]</td>\n",
       "    </tr>\n",
       "    <tr>\n",
       "      <th>10</th>\n",
       "      <td>OMIM:301115</td>\n",
       "      <td>Immunodeficiency 118, mycobacteriosis</td>\n",
       "      <td>HP:0011463</td>\n",
       "      <td>Childhood onset</td>\n",
       "      <td></td>\n",
       "      <td></td>\n",
       "      <td>1/5</td>\n",
       "      <td></td>\n",
       "      <td></td>\n",
       "      <td></td>\n",
       "      <td></td>\n",
       "      <td>PMID:37875108</td>\n",
       "      <td>PCS</td>\n",
       "      <td>ORCID:0000-0002-0736-9199[2024-04-25]</td>\n",
       "    </tr>\n",
       "    <tr>\n",
       "      <th>11</th>\n",
       "      <td>OMIM:301115</td>\n",
       "      <td>Immunodeficiency 118, mycobacteriosis</td>\n",
       "      <td>HP:0001419</td>\n",
       "      <td>X-linked recessive inheritance</td>\n",
       "      <td></td>\n",
       "      <td></td>\n",
       "      <td></td>\n",
       "      <td></td>\n",
       "      <td></td>\n",
       "      <td></td>\n",
       "      <td></td>\n",
       "      <td>PMID:37875108</td>\n",
       "      <td>PCS</td>\n",
       "      <td>ORCID:0000-0002-0736-9199[2024-04-25]</td>\n",
       "    </tr>\n",
       "  </tbody>\n",
       "</table>\n",
       "</div>"
      ],
      "text/plain": [
       "     #diseaseID  ...                            biocuration\n",
       "0   OMIM:301115  ...  ORCID:0000-0002-0736-9199[2024-04-25]\n",
       "1   OMIM:301115  ...  ORCID:0000-0002-0736-9199[2024-04-25]\n",
       "2   OMIM:301115  ...  ORCID:0000-0002-0736-9199[2024-04-25]\n",
       "3   OMIM:301115  ...  ORCID:0000-0002-0736-9199[2024-04-25]\n",
       "4   OMIM:301115  ...  ORCID:0000-0002-0736-9199[2024-04-25]\n",
       "5   OMIM:301115  ...  ORCID:0000-0002-0736-9199[2024-04-25]\n",
       "6   OMIM:301115  ...  ORCID:0000-0002-0736-9199[2024-04-25]\n",
       "7   OMIM:301115  ...  ORCID:0000-0002-0736-9199[2024-04-25]\n",
       "8   OMIM:301115  ...  ORCID:0000-0002-0736-9199[2024-04-25]\n",
       "9   OMIM:301115  ...  ORCID:0000-0002-0736-9199[2024-04-25]\n",
       "10  OMIM:301115  ...  ORCID:0000-0002-0736-9199[2024-04-25]\n",
       "11  OMIM:301115  ...  ORCID:0000-0002-0736-9199[2024-04-25]\n",
       "\n",
       "[12 rows x 14 columns]"
      ]
     },
     "execution_count": 16,
     "metadata": {},
     "output_type": "execute_result"
    }
   ],
   "source": [
    "pmid = \"PMID:37875108\"\n",
    "timporter.create_hpoa_from_phenopackets(pmid=pmid, moi=\"X-linked recessive inheritance\")"
   ]
  }
 ],
 "metadata": {
  "kernelspec": {
   "display_name": "ps24venv",
   "language": "python",
   "name": "python3"
  },
  "language_info": {
   "codemirror_mode": {
    "name": "ipython",
    "version": 3
   },
   "file_extension": ".py",
   "mimetype": "text/x-python",
   "name": "python",
   "nbconvert_exporter": "python",
   "pygments_lexer": "ipython3",
   "version": "3.9.6"
  }
 },
 "nbformat": 4,
 "nbformat_minor": 2
}
