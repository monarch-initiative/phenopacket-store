{
 "cells": [
  {
   "cell_type": "markdown",
   "metadata": {},
   "source": [
    "# AMN\n",
    "[Imerslund-Grasbeck syndrome-2 (IGS2)](https://omim.org/entry/618882) is caused by homozygous or compound heterozygous mutation in AMN."
   ]
  },
  {
   "cell_type": "code",
   "execution_count": 3,
   "metadata": {},
   "outputs": [
    {
     "name": "stdout",
     "output_type": "stream",
     "text": [
      "Using pyphetools version 0.9.92\n"
     ]
    }
   ],
   "source": [
    "from pyphetools.creation import TemplateImporter\n",
    "from pyphetools.visualization import IndividualTable, QcVisualizer\n",
    "from IPython.display import display, HTML\n",
    "import pyphetools\n",
    "print(f\"Using pyphetools version {pyphetools.__version__}\")"
   ]
  },
  {
   "cell_type": "code",
   "execution_count": 4,
   "metadata": {},
   "outputs": [],
   "source": [
    "template = \"input/AMN_IGS2_individuals.xlsx\"\n",
    "created_by = \"0000-0002-0736-9199\""
   ]
  },
  {
   "cell_type": "code",
   "execution_count": 6,
   "metadata": {},
   "outputs": [
    {
     "name": "stdout",
     "output_type": "stream",
     "text": [
      "HPO version 2024-06-25\n",
      "Created encoders for 28 fields\n",
      "Importing OMIM:618882, Imerslund-Grasbeck syndrome 2, HGNC:14604, AMN,  NM_030943.4\n",
      "[INFO] encoding variant \"c.206T>A\"\n",
      "https://rest.variantvalidator.org/VariantValidator/variantvalidator/hg38/NM_030943.4%3Ac.206T>A/NM_030943.4?content-type=application%2Fjson\n",
      "[INFO] encoding variant \"c.35del\"\n",
      "https://rest.variantvalidator.org/VariantValidator/variantvalidator/hg38/NM_030943.4%3Ac.35del/NM_030943.4?content-type=application%2Fjson\n",
      "We output 2 GA4GH phenopackets to the directory phenopackets\n"
     ]
    }
   ],
   "source": [
    "timporter = TemplateImporter(template=template,  created_by=created_by)\n",
    "individual_list, cvalidator = timporter.import_phenopackets_from_template()"
   ]
  },
  {
   "cell_type": "code",
   "execution_count": 7,
   "metadata": {},
   "outputs": [
    {
     "data": {
      "text/html": [
       "<h2>Cohort validation</h2>\n",
       "<p>No errors found for the cohort with 2 individuals</p>"
      ],
      "text/plain": [
       "<IPython.core.display.HTML object>"
      ]
     },
     "metadata": {},
     "output_type": "display_data"
    }
   ],
   "source": [
    "qc = QcVisualizer(cohort_validator=cvalidator)\n",
    "display(HTML(qc.to_summary_html()))"
   ]
  },
  {
   "cell_type": "code",
   "execution_count": 8,
   "metadata": {},
   "outputs": [
    {
     "data": {
      "text/html": [
       "<table style=\"border: 2px solid black; align: \"left\">\n",
       "<caption>2 phenopackets - PMID:26040326 (n=2)</caption>\n",
       "<tr><th style=\"text-align: left;font-weight: bold;\">Individual</th><th style=\"text-align: left;font-weight: bold;\">Disease</th><th style=\"text-align: left;font-weight: bold;\">Genotype</th><th style=\"text-align: left;font-weight: bold;\">Phenotypic features</th></tr>\n",
       "<tr><td style=\"text-align: left;\">eldest sister III:1 (FEMALE; P33Y)</td><td style=\"text-align: left;\">Imerslund-Grasbeck syndrome 2 (OMIM:618882)</td><td style=\"text-align: left;\"><ul> <li>NM_030943.4:c.35del (heterozygous)</li> <li>NM_030943.4:c.206T>A (heterozygous)</li> </ul></td><td style=\"text-align: left;\"><b>P2Y</b>: Megaloblastic anemia (HP:0001889)<br/>Proteinuria (HP:0000093); Decreased circulating vitamin B12 concentration (HP:0100502)</td></tr>\n",
       "<tr><td style=\"text-align: left;\">younger sister III:2 (FEMALE; P23Y)</td><td style=\"text-align: left;\">Imerslund-Grasbeck syndrome 2 (OMIM:618882)</td><td style=\"text-align: left;\"><ul> <li>NM_030943.4:c.35del (heterozygous)</li> <li>NM_030943.4:c.206T>A (heterozygous)</li> </ul></td><td style=\"text-align: left;\"><b>P3Y</b>: Megaloblastic anemia (HP:0001889)<br/><b>P10Y</b>: Proteinuria (HP:0000093)<br/>Decreased circulating vitamin B12 concentration (HP:0100502)</td></tr>\n",
       "</table>"
      ],
      "text/plain": [
       "<IPython.core.display.HTML object>"
      ]
     },
     "metadata": {},
     "output_type": "display_data"
    }
   ],
   "source": [
    "table = IndividualTable(cvalidator.get_error_free_individual_list())\n",
    "display(HTML(table.to_html()))"
   ]
  }
 ],
 "metadata": {
  "kernelspec": {
   "display_name": "ps24venv",
   "language": "python",
   "name": "python3"
  },
  "language_info": {
   "codemirror_mode": {
    "name": "ipython",
    "version": 3
   },
   "file_extension": ".py",
   "mimetype": "text/x-python",
   "name": "python",
   "nbconvert_exporter": "python",
   "pygments_lexer": "ipython3",
   "version": "3.9.6"
  }
 },
 "nbformat": 4,
 "nbformat_minor": 2
}
