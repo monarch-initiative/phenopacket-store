{
 "cells": [
  {
   "cell_type": "markdown",
   "metadata": {},
   "source": [
    "# DHX9\n",
    "[autosomal dominant intellectual developmental disorder-75 (MRD75)](https://omim.org/entry/620988) is caused by heterozygous mutation in the DHX9 gene."
   ]
  },
  {
   "cell_type": "code",
   "execution_count": 1,
   "metadata": {},
   "outputs": [
    {
     "name": "stdout",
     "output_type": "stream",
     "text": [
      "Using pyphetools version 0.9.115\n"
     ]
    }
   ],
   "source": [
    "from pyphetools.creation import TemplateImporter, Moi\n",
    "from pyphetools.visualization import IndividualTable, QcVisualizer\n",
    "from IPython.display import display, HTML\n",
    "import pyphetools\n",
    "print(f\"Using pyphetools version {pyphetools.__version__}\")"
   ]
  },
  {
   "cell_type": "code",
   "execution_count": 2,
   "metadata": {},
   "outputs": [],
   "source": [
    "template = \"input/DHX9_MRD75_individuals.xlsx\"\n",
    "created_by = \"0000-0002-0736-9199\""
   ]
  },
  {
   "cell_type": "code",
   "execution_count": 7,
   "metadata": {},
   "outputs": [
    {
     "name": "stdout",
     "output_type": "stream",
     "text": [
      "HPO version 2024-12-12\n",
      "Created encoders for 72 fields\n",
      "Importing OMIM:620988, Intellectual developmental disorder, autosomal dominant 75, HGNC:2750, DHX9,  NM_001357.5\n",
      "We output 15 GA4GH phenopackets to the directory phenopackets\n"
     ]
    }
   ],
   "source": [
    "timporter = TemplateImporter(template=template,  created_by=created_by)\n",
    "individual_list, cvalidator = timporter.import_phenopackets_from_template()"
   ]
  },
  {
   "cell_type": "code",
   "execution_count": 8,
   "metadata": {},
   "outputs": [
    {
     "data": {
      "text/html": [
       "<h2>Cohort validation</h2>\n",
       "<p>Errors found with 11 of 15 phenopackets.</p>\n",
       "<table style=\"border: 2px solid black; align: \"left\">\n",
       "<caption>Error counts</caption>\n",
       "<tr><th style=\"text-align: left;font-weight: bold;\">Level</th><th style=\"text-align: left;font-weight: bold;\">Error category</th><th style=\"text-align: left;font-weight: bold;\">Count</th></tr>\n",
       "<tr><td style=\"text-align: left;\">WARNING</td><td style=\"text-align: left;\">REDUNDANT</td><td style=\"text-align: left;\">11</td></tr>\n",
       "</table>\n",
       "<p>A total of 11 issues were fixed and no individual was removed from the cohort.</p>"
      ],
      "text/plain": [
       "<IPython.core.display.HTML object>"
      ]
     },
     "metadata": {},
     "output_type": "display_data"
    }
   ],
   "source": [
    "qc = QcVisualizer(cohort_validator=cvalidator)\n",
    "display(HTML(qc.to_summary_html()))"
   ]
  },
  {
   "cell_type": "code",
   "execution_count": 9,
   "metadata": {},
   "outputs": [
    {
     "data": {
      "text/html": [
       "<table style=\"border: 2px solid black; align: \"left\">\n",
       "<caption>15 phenopackets - PMID:37467750 (n=14); PMID:37369308 (n=1)</caption>\n",
       "<tr><th style=\"text-align: left;font-weight: bold;\">Individual</th><th style=\"text-align: left;font-weight: bold;\">Disease</th><th style=\"text-align: left;font-weight: bold;\">Genotype</th><th style=\"text-align: left;font-weight: bold;\">Phenotypic features</th></tr>\n",
       "<tr><td style=\"text-align: left;\">Individual 1 (MALE; P16Y)</td><td style=\"text-align: left;\">Intellectual developmental disorder, autosomal dominant 75 (OMIM:620988)</td><td style=\"text-align: left;\">NM_001357.5:c.422G>A (heterozygous)</td><td style=\"text-align: left;\">Intellectual disability, severe (HP:0010864): onset ; Global developmental delay (HP:0001263): onset ; Hyperreflexia (HP:0001347): onset ; Microcephaly (HP:0000252): onset ; Axial hypotonia (HP:0008936): onset ; Appendicular hypotonia (HP:0012389): onset ; Reduced cerebral white matter volume (HP:0034295): onset ; Ventriculomegaly (HP:0002119): onset ; Cerebellar atrophy (HP:0001272): onset ; Seizure (HP:0001250): onset ; Peripheral axonal neuropathy (HP:0003477): onset ; excluded: Intellectual disability, moderate (HP:0002342): onset ; excluded: Intellectual disability, mild (HP:0001256): onset ; excluded: Intellectual disability, borderline (HP:0006889): onset ; excluded: Abnormal facial shape (HP:0001999): onset ; excluded: Ataxia (HP:0001251): onset <br/><b>TimeElement(element=OntologyClass(id=HP:0003593, label=Infantile onset))</b>: Failure to thrive (HP:0001508): onset ontology_class {\n",
       "  id: \"HP:0003593\"\n",
       "  label: \"Infantile onset\"\n",
       "}\n",
       "</td></tr>\n",
       "<tr><td style=\"text-align: left;\">Individual 2 (FEMALE; P16Y)</td><td style=\"text-align: left;\">Intellectual developmental disorder, autosomal dominant 75 (OMIM:620988)</td><td style=\"text-align: left;\">NM_001357.5:c.1822T>G (heterozygous)</td><td style=\"text-align: left;\">Intellectual disability, borderline (HP:0006889): onset ; Global developmental delay (HP:0001263): onset ; Abnormal facial shape (HP:0001999): onset ; Axial hypotonia (HP:0008936): onset ; excluded: Intellectual disability, severe (HP:0010864): onset ; excluded: Intellectual disability, moderate (HP:0002342): onset ; excluded: Intellectual disability, mild (HP:0001256): onset ; excluded: Hyperreflexia (HP:0001347): onset ; excluded: Failure to thrive (HP:0001508): onset ; excluded: Ataxia (HP:0001251): onset ; excluded: Microcephaly (HP:0000252): onset ; excluded: Appendicular hypotonia (HP:0012389): onset ; excluded: Seizure (HP:0001250): onset </td></tr>\n",
       "<tr><td style=\"text-align: left;\">Individual 3 (MALE; P5Y)</td><td style=\"text-align: left;\">Intellectual developmental disorder, autosomal dominant 75 (OMIM:620988)</td><td style=\"text-align: left;\">NM_001357.5:c.3497G>C (heterozygous)</td><td style=\"text-align: left;\">Intellectual disability, severe (HP:0010864): onset ; Global developmental delay (HP:0001263): onset ; Abnormal facial shape (HP:0001999): onset ; Hyperreflexia (HP:0001347): onset ; Ataxia (HP:0001251): onset ; Microcephaly (HP:0000252): onset ; Axial hypotonia (HP:0008936): onset ; Cerebellar atrophy (HP:0001272): onset ; excluded: Intellectual disability, moderate (HP:0002342): onset ; excluded: Intellectual disability, mild (HP:0001256): onset ; excluded: Intellectual disability, borderline (HP:0006889): onset ; excluded: Failure to thrive (HP:0001508): onset ; excluded: Appendicular hypotonia (HP:0012389): onset ; excluded: Reduced cerebral white matter volume (HP:0034295): onset ; excluded: Ventriculomegaly (HP:0002119): onset ; excluded: Seizure (HP:0001250): onset </td></tr>\n",
       "<tr><td style=\"text-align: left;\">Individual 4 (MALE; P3Y6M)</td><td style=\"text-align: left;\">Intellectual developmental disorder, autosomal dominant 75 (OMIM:620988)</td><td style=\"text-align: left;\">NM_001357.5:c.627-4dup (heterozygous)</td><td style=\"text-align: left;\">Global developmental delay (HP:0001263): onset ; excluded: Abnormal facial shape (HP:0001999): onset ; excluded: Hyperreflexia (HP:0001347): onset ; excluded: Failure to thrive (HP:0001508): onset ; excluded: Ataxia (HP:0001251): onset ; excluded: Microcephaly (HP:0000252): onset ; excluded: Axial hypotonia (HP:0008936): onset ; excluded: Appendicular hypotonia (HP:0012389): onset ; excluded: Seizure (HP:0001250): onset </td></tr>\n",
       "<tr><td style=\"text-align: left;\">Individual 5 (FEMALE; P19Y)</td><td style=\"text-align: left;\">Intellectual developmental disorder, autosomal dominant 75 (OMIM:620988)</td><td style=\"text-align: left;\">NM_001357.5:c.1417G>A (heterozygous)</td><td style=\"text-align: left;\">Global developmental delay (HP:0001263): onset ; Axial hypotonia (HP:0008936): onset ; Seizure (HP:0001250): onset ; excluded: Intellectual disability, severe (HP:0010864): onset ; excluded: Intellectual disability, moderate (HP:0002342): onset ; excluded: Intellectual disability, mild (HP:0001256): onset ; excluded: Intellectual disability, borderline (HP:0006889): onset ; excluded: Abnormal facial shape (HP:0001999): onset ; excluded: Hyperreflexia (HP:0001347): onset ; excluded: Failure to thrive (HP:0001508): onset ; excluded: Ataxia (HP:0001251): onset ; excluded: Microcephaly (HP:0000252): onset ; excluded: Appendicular hypotonia (HP:0012389): onset </td></tr>\n",
       "<tr><td style=\"text-align: left;\">Individual 6 (MALE; P8Y)</td><td style=\"text-align: left;\">Intellectual developmental disorder, autosomal dominant 75 (OMIM:620988)</td><td style=\"text-align: left;\">NM_001357.5:c.3488A>G (heterozygous)</td><td style=\"text-align: left;\">Intellectual disability, severe (HP:0010864): onset ; Global developmental delay (HP:0001263): onset ; Abnormal facial shape (HP:0001999): onset ; Hyperreflexia (HP:0001347): onset ; Microcephaly (HP:0000252): onset ; Axial hypotonia (HP:0008936): onset ; Appendicular hypotonia (HP:0012389): onset ; Cerebellar atrophy (HP:0001272): onset ; excluded: Intellectual disability, moderate (HP:0002342): onset ; excluded: Intellectual disability, mild (HP:0001256): onset ; excluded: Intellectual disability, borderline (HP:0006889): onset ; excluded: Ataxia (HP:0001251): onset ; excluded: Reduced cerebral white matter volume (HP:0034295): onset ; excluded: Ventriculomegaly (HP:0002119): onset ; excluded: Seizure (HP:0001250): onset <br/><b>TimeElement(element=OntologyClass(id=HP:0003593, label=Infantile onset))</b>: Failure to thrive (HP:0001508): onset ontology_class {\n",
       "  id: \"HP:0003593\"\n",
       "  label: \"Infantile onset\"\n",
       "}\n",
       "</td></tr>\n",
       "<tr><td style=\"text-align: left;\">Individual 7 (MALE; P7Y)</td><td style=\"text-align: left;\">Intellectual developmental disorder, autosomal dominant 75 (OMIM:620988)</td><td style=\"text-align: left;\">NM_001357.5:c.2786+1G>T (heterozygous)</td><td style=\"text-align: left;\">Intellectual disability, mild (HP:0001256): onset ; Global developmental delay (HP:0001263): onset ; Abnormal facial shape (HP:0001999): onset ; excluded: Intellectual disability, severe (HP:0010864): onset ; excluded: Intellectual disability, moderate (HP:0002342): onset ; excluded: Intellectual disability, borderline (HP:0006889): onset ; excluded: Hyperreflexia (HP:0001347): onset ; excluded: Failure to thrive (HP:0001508): onset ; excluded: Ataxia (HP:0001251): onset ; excluded: Microcephaly (HP:0000252): onset ; excluded: Axial hypotonia (HP:0008936): onset ; excluded: Appendicular hypotonia (HP:0012389): onset ; excluded: Seizure (HP:0001250): onset </td></tr>\n",
       "<tr><td style=\"text-align: left;\">Individual 8 (FEMALE; P15Y)</td><td style=\"text-align: left;\">Intellectual developmental disorder, autosomal dominant 75 (OMIM:620988)</td><td style=\"text-align: left;\">NM_001357.5:c.685C>T (heterozygous)</td><td style=\"text-align: left;\">Intellectual disability, mild (HP:0001256): onset ; Global developmental delay (HP:0001263): onset ; Abnormal facial shape (HP:0001999): onset ; Seizure (HP:0001250): onset ; excluded: Intellectual disability, severe (HP:0010864): onset ; excluded: Intellectual disability, moderate (HP:0002342): onset ; excluded: Intellectual disability, borderline (HP:0006889): onset ; excluded: Hyperreflexia (HP:0001347): onset ; excluded: Failure to thrive (HP:0001508): onset ; excluded: Ataxia (HP:0001251): onset ; excluded: Microcephaly (HP:0000252): onset ; excluded: Axial hypotonia (HP:0008936): onset ; excluded: Appendicular hypotonia (HP:0012389): onset </td></tr>\n",
       "<tr><td style=\"text-align: left;\">Individual 9 (FEMALE; P11Y)</td><td style=\"text-align: left;\">Intellectual developmental disorder, autosomal dominant 75 (OMIM:620988)</td><td style=\"text-align: left;\">NM_001357.5:c.1232G>A (heterozygous)</td><td style=\"text-align: left;\">Intellectual disability, mild (HP:0001256): onset ; Global developmental delay (HP:0001263): onset ; Abnormal facial shape (HP:0001999): onset ; Seizure (HP:0001250): onset ; excluded: Intellectual disability, severe (HP:0010864): onset ; excluded: Intellectual disability, moderate (HP:0002342): onset ; excluded: Intellectual disability, borderline (HP:0006889): onset ; excluded: Hyperreflexia (HP:0001347): onset ; excluded: Failure to thrive (HP:0001508): onset ; excluded: Ataxia (HP:0001251): onset ; excluded: Microcephaly (HP:0000252): onset ; excluded: Axial hypotonia (HP:0008936): onset ; excluded: Appendicular hypotonia (HP:0012389): onset </td></tr>\n",
       "<tr><td style=\"text-align: left;\">Individual 10 (MALE; P23Y)</td><td style=\"text-align: left;\">Intellectual developmental disorder, autosomal dominant 75 (OMIM:620988)</td><td style=\"text-align: left;\">NM_001357.5:c.2078_2079del (heterozygous)</td><td style=\"text-align: left;\">Global developmental delay (HP:0001263): onset ; excluded: Intellectual disability, severe (HP:0010864): onset ; excluded: Intellectual disability, moderate (HP:0002342): onset ; excluded: Intellectual disability, mild (HP:0001256): onset ; excluded: Intellectual disability, borderline (HP:0006889): onset ; excluded: Abnormal facial shape (HP:0001999): onset ; excluded: Hyperreflexia (HP:0001347): onset ; excluded: Failure to thrive (HP:0001508): onset ; excluded: Ataxia (HP:0001251): onset ; excluded: Microcephaly (HP:0000252): onset ; excluded: Axial hypotonia (HP:0008936): onset ; excluded: Appendicular hypotonia (HP:0012389): onset ; excluded: Seizure (HP:0001250): onset ; excluded: Peripheral axonal neuropathy (HP:0003477): onset </td></tr>\n",
       "<tr><td style=\"text-align: left;\">Individual 11 (MALE; P3Y)</td><td style=\"text-align: left;\">Intellectual developmental disorder, autosomal dominant 75 (OMIM:620988)</td><td style=\"text-align: left;\">NM_001357.5:c.2282G>A (heterozygous)</td><td style=\"text-align: left;\">Global developmental delay (HP:0001263): onset ; excluded: Abnormal facial shape (HP:0001999): onset ; excluded: Hyperreflexia (HP:0001347): onset ; excluded: Failure to thrive (HP:0001508): onset ; excluded: Ataxia (HP:0001251): onset ; excluded: Microcephaly (HP:0000252): onset ; excluded: Axial hypotonia (HP:0008936): onset ; excluded: Appendicular hypotonia (HP:0012389): onset ; excluded: Seizure (HP:0001250): onset </td></tr>\n",
       "<tr><td style=\"text-align: left;\">Individual 12 (MALE; P12Y)</td><td style=\"text-align: left;\">Intellectual developmental disorder, autosomal dominant 75 (OMIM:620988)</td><td style=\"text-align: left;\">NM_001357.5:c.3497G>C (heterozygous)</td><td style=\"text-align: left;\">Intellectual disability, severe (HP:0010864): onset ; Global developmental delay (HP:0001263): onset ; Abnormal facial shape (HP:0001999): onset ; Ataxia (HP:0001251): onset ; Microcephaly (HP:0000252): onset ; Axial hypotonia (HP:0008936): onset ; excluded: Intellectual disability, moderate (HP:0002342): onset ; excluded: Intellectual disability, mild (HP:0001256): onset ; excluded: Intellectual disability, borderline (HP:0006889): onset ; excluded: Hyperreflexia (HP:0001347): onset ; excluded: Failure to thrive (HP:0001508): onset ; excluded: Appendicular hypotonia (HP:0012389): onset ; excluded: Seizure (HP:0001250): onset </td></tr>\n",
       "<tr><td style=\"text-align: left;\">Individual 13 (FEMALE; P8Y)</td><td style=\"text-align: left;\">Intellectual developmental disorder, autosomal dominant 75 (OMIM:620988)</td><td style=\"text-align: left;\">NM_001357.5:c.2281C>T (heterozygous)</td><td style=\"text-align: left;\">Intellectual disability, moderate (HP:0002342): onset ; Global developmental delay (HP:0001263): onset ; Abnormal facial shape (HP:0001999): onset ; Microcephaly (HP:0000252): onset ; Seizure (HP:0001250): onset ; excluded: Intellectual disability, severe (HP:0010864): onset ; excluded: Intellectual disability, mild (HP:0001256): onset ; excluded: Intellectual disability, borderline (HP:0006889): onset ; excluded: Hyperreflexia (HP:0001347): onset ; excluded: Failure to thrive (HP:0001508): onset ; excluded: Ataxia (HP:0001251): onset ; excluded: Axial hypotonia (HP:0008936): onset ; excluded: Appendicular hypotonia (HP:0012389): onset </td></tr>\n",
       "<tr><td style=\"text-align: left;\">Individual 14 (MALE; P6M)</td><td style=\"text-align: left;\">Intellectual developmental disorder, autosomal dominant 75 (OMIM:620988)</td><td style=\"text-align: left;\">NM_001357.5:c.3787C>T (heterozygous)</td><td style=\"text-align: left;\">Global developmental delay (HP:0001263): onset ; Microcephaly (HP:0000252): onset ; Axial hypotonia (HP:0008936): onset ; Seizure (HP:0001250): onset ; excluded: Abnormal facial shape (HP:0001999): onset ; excluded: Hyperreflexia (HP:0001347): onset ; excluded: Failure to thrive (HP:0001508): onset ; excluded: Ataxia (HP:0001251): onset ; excluded: Appendicular hypotonia (HP:0012389): onset </td></tr>\n",
       "<tr><td style=\"text-align: left;\">patient (FEMALE; P8Y)</td><td style=\"text-align: left;\">Intellectual developmental disorder, autosomal dominant 75 (OMIM:620988)</td><td style=\"text-align: left;\">NM_001357.5:c.1240G>A (heterozygous)</td><td style=\"text-align: left;\">Global developmental delay (HP:0001263): onset ; Epicanthus (HP:0000286): onset ; Abnormal facial shape (HP:0001999): onset ; Thin upper lip vermilion (HP:0000219): onset ; Upslanted palpebral fissure (HP:0000582): onset ; Low-set ears (HP:0000369): onset ; Retrognathia (HP:0000278): onset ; Short stature (HP:0004322): onset ; Small for gestational age (HP:0001518): onset ; Microcephaly (HP:0000252): onset ; Wide nasal bridge (HP:0000431): onset ; Smooth philtrum (HP:0000319): onset ; Narrow palpebral fissure (HP:0045025): onset ; Hypertelorism (HP:0000316): onset ; Noncompaction cardiomyopathy (HP:0012817): onset <br/><b>TimeElement(element=OntologyClass(id=HP:0003593, label=Infantile onset))</b>: Gastroesophageal reflux (HP:0002020): onset ontology_class {\n",
       "  id: \"HP:0003593\"\n",
       "  label: \"Infantile onset\"\n",
       "}\n",
       "; Failure to thrive (HP:0001508): onset ontology_class {\n",
       "  id: \"HP:0003593\"\n",
       "  label: \"Infantile onset\"\n",
       "}\n",
       "; Feeding difficulties (HP:0011968): onset ontology_class {\n",
       "  id: \"HP:0003593\"\n",
       "  label: \"Infantile onset\"\n",
       "}\n",
       "</td></tr>\n",
       "</table>"
      ],
      "text/plain": [
       "<IPython.core.display.HTML object>"
      ]
     },
     "metadata": {},
     "output_type": "display_data"
    }
   ],
   "source": [
    "table = IndividualTable(cvalidator.get_error_free_individual_list())\n",
    "display(HTML(table.to_html()))"
   ]
  },
  {
   "cell_type": "code",
   "execution_count": 10,
   "metadata": {},
   "outputs": [
    {
     "name": "stdout",
     "output_type": "stream",
     "text": [
      "[pyphetools] Ingested 15 GA4GH phenopackets.\n",
      "[INFO] Extracted 15 from 15 phenopackets with OMIM:620988\n",
      "\n",
      "\tIntellectual developmental disorder, autosomal dominant 75 (OMIM:620988): n=15\n",
      "We found a total of 31 unique HPO terms\n",
      "Extracted disease: Intellectual developmental disorder, autosomal dominant 75 (OMIM:620988)\n",
      "Wrote HPOA disease file to OMIM-620988.tab\n"
     ]
    }
   ],
   "source": [
    "pmid = \"PMID:37467750\"\n",
    "df = timporter.create_hpoa_from_phenopackets(pmid=pmid, mode_of_inheritance=Moi.AD, target=\"OMIM:620988\")"
   ]
  }
 ],
 "metadata": {
  "kernelspec": {
   "display_name": "ps24venv",
   "language": "python",
   "name": "python3"
  },
  "language_info": {
   "codemirror_mode": {
    "name": "ipython",
    "version": 3
   },
   "file_extension": ".py",
   "mimetype": "text/x-python",
   "name": "python",
   "nbconvert_exporter": "python",
   "pygments_lexer": "ipython3",
   "version": "3.12.8"
  }
 },
 "nbformat": 4,
 "nbformat_minor": 2
}
