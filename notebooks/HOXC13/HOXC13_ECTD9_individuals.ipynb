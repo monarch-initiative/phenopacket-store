{
 "cells": [
  {
   "cell_type": "markdown",
   "metadata": {},
   "source": [
    "# HOXC13\n",
    "[ectodermal dysplasia-9 (ECTD9)](https://omim.org/entry/614931)  can be caused by homozygous mutation in the HOXC13 gene."
   ]
  },
  {
   "cell_type": "code",
   "execution_count": 3,
   "metadata": {},
   "outputs": [
    {
     "name": "stdout",
     "output_type": "stream",
     "text": [
      "Using pyphetools version 0.9.86\n"
     ]
    }
   ],
   "source": [
    "from pyphetools.creation import TemplateImporter\n",
    "from pyphetools.visualization import IndividualTable, QcVisualizer\n",
    "from IPython.display import display, HTML\n",
    "import pyphetools\n",
    "print(f\"Using pyphetools version {pyphetools.__version__}\")"
   ]
  },
  {
   "cell_type": "code",
   "execution_count": 4,
   "metadata": {},
   "outputs": [],
   "source": [
    "template = \"input/HOXC13_ECTD9_individuals.xlsx\"\n",
    "created_by = \"0000-0002-0736-9199\""
   ]
  },
  {
   "cell_type": "code",
   "execution_count": 6,
   "metadata": {},
   "outputs": [
    {
     "name": "stdout",
     "output_type": "stream",
     "text": [
      "HPO version 2024-04-26\n",
      "Created encoders for 27 fields\n",
      "Importing OMIM:614931, Ectodermal dysplasia 9, hair/nail type, HGNC:5125, HOXC13,  NM_017410.3\n",
      "[INFO] encoding variant \"c.929A>C\"\n",
      "https://rest.variantvalidator.org/VariantValidator/variantvalidator/hg38/NM_017410.3%3Ac.929A>C/NM_017410.3?content-type=application%2Fjson\n",
      "[INFO] encoding variant \"c.390C>A\"\n",
      "https://rest.variantvalidator.org/VariantValidator/variantvalidator/hg38/NM_017410.3%3Ac.390C>A/NM_017410.3?content-type=application%2Fjson\n",
      "We output 6 GA4GH phenopackets to the directory phenopackets\n"
     ]
    }
   ],
   "source": [
    "timporter = TemplateImporter(template=template,  created_by=created_by)\n",
    "individual_list, cvalidator = timporter.import_phenopackets_from_template()"
   ]
  },
  {
   "cell_type": "code",
   "execution_count": 7,
   "metadata": {},
   "outputs": [
    {
     "data": {
      "text/html": [
       "<h2>Cohort validation</h2>\n",
       "<p>No errors found for the cohort with 6 individuals</p>"
      ],
      "text/plain": [
       "<IPython.core.display.HTML object>"
      ]
     },
     "metadata": {},
     "output_type": "display_data"
    }
   ],
   "source": [
    "qc = QcVisualizer(cohort_validator=cvalidator)\n",
    "display(HTML(qc.to_summary_html()))"
   ]
  },
  {
   "cell_type": "code",
   "execution_count": 8,
   "metadata": {},
   "outputs": [
    {
     "data": {
      "text/html": [
       "<table style=\"border: 2px solid black; align: \"left\">\n",
       "<caption>6 phenopackets - PMID:23063621 (n=3); PMID:28403827 (n=3)</caption>\n",
       "<tr><th style=\"text-align: left;font-weight: bold;\">Individual</th><th style=\"text-align: left;font-weight: bold;\">Disease</th><th style=\"text-align: left;font-weight: bold;\">Genotype</th><th style=\"text-align: left;font-weight: bold;\">Phenotypic features</th></tr>\n",
       "<tr><td style=\"text-align: left;\">individual V2 (MALE; n/a)</td><td style=\"text-align: left;\">Ectodermal dysplasia 9, hair/nail type (OMIM:614931)</td><td style=\"text-align: left;\">NM_017410.3:c.390C>A (homozygous)</td><td style=\"text-align: left;\">Atrichia (HP:0500262); Nail dystrophy (HP:0008404); Small nail (HP:0001792); Unilateral cryptorchidism (HP:0012741); Inguinal hernia (HP:0000023); excluded: Onycholysis of fingernails (HP:0040039); excluded: Abnormality of the dentition (HP:0000164)</td></tr>\n",
       "<tr><td style=\"text-align: left;\">individual V3 (FEMALE; n/a)</td><td style=\"text-align: left;\">Ectodermal dysplasia 9, hair/nail type (OMIM:614931)</td><td style=\"text-align: left;\">NM_017410.3:c.390C>A (homozygous)</td><td style=\"text-align: left;\">Atrichia (HP:0500262); Nail dystrophy (HP:0008404); Small nail (HP:0001792); excluded: Onycholysis of fingernails (HP:0040039); excluded: Inguinal hernia (HP:0000023); excluded: Abnormality of the dentition (HP:0000164)</td></tr>\n",
       "<tr><td style=\"text-align: left;\">individual IV10 (MALE; n/a)</td><td style=\"text-align: left;\">Ectodermal dysplasia 9, hair/nail type (OMIM:614931)</td><td style=\"text-align: left;\">NM_017410.3:c.390C>A (homozygous)</td><td style=\"text-align: left;\">Atrichia (HP:0500262); Nail dystrophy (HP:0008404); Small nail (HP:0001792); Unilateral cryptorchidism (HP:0012741); Inguinal hernia (HP:0000023); excluded: Onycholysis of fingernails (HP:0040039); excluded: Abnormality of the dentition (HP:0000164)</td></tr>\n",
       "<tr><td style=\"text-align: left;\">IV-1 (MALE; P37Y)</td><td style=\"text-align: left;\">Ectodermal dysplasia 9, hair/nail type (OMIM:614931)</td><td style=\"text-align: left;\">NM_017410.3:c.929A>C (homozygous)</td><td style=\"text-align: left;\">Atrichia (HP:0500262); Nail dystrophy (HP:0008404); Absent eyebrow (HP:0002223); Absent eyelashes (HP:0000561); excluded: Onycholysis of fingernails (HP:0040039); excluded: Unilateral cryptorchidism (HP:0012741); excluded: Inguinal hernia (HP:0000023); excluded: Abnormality of the dentition (HP:0000164)</td></tr>\n",
       "<tr><td style=\"text-align: left;\">IV-3 (FEMALE; P31Y)</td><td style=\"text-align: left;\">Ectodermal dysplasia 9, hair/nail type (OMIM:614931)</td><td style=\"text-align: left;\">NM_017410.3:c.929A>C (homozygous)</td><td style=\"text-align: left;\">Atrichia (HP:0500262); Nail dystrophy (HP:0008404); Onycholysis of fingernails (HP:0040039); excluded: Unilateral cryptorchidism (HP:0012741); excluded: Inguinal hernia (HP:0000023); excluded: Abnormality of the dentition (HP:0000164)</td></tr>\n",
       "<tr><td style=\"text-align: left;\">IV-4 (FEMALE; P25Y)</td><td style=\"text-align: left;\">Ectodermal dysplasia 9, hair/nail type (OMIM:614931)</td><td style=\"text-align: left;\">NM_017410.3:c.929A>C (homozygous)</td><td style=\"text-align: left;\">Atrichia (HP:0500262); Nail dystrophy (HP:0008404); Onycholysis of fingernails (HP:0040039); excluded: Unilateral cryptorchidism (HP:0012741); excluded: Inguinal hernia (HP:0000023); excluded: Abnormality of the dentition (HP:0000164)</td></tr>\n",
       "</table>"
      ],
      "text/plain": [
       "<IPython.core.display.HTML object>"
      ]
     },
     "metadata": {},
     "output_type": "display_data"
    }
   ],
   "source": [
    "table = IndividualTable(cvalidator.get_error_free_individual_list())\n",
    "display(HTML(table.to_html()))"
   ]
  },
  {
   "cell_type": "code",
   "execution_count": 9,
   "metadata": {},
   "outputs": [
    {
     "name": "stdout",
     "output_type": "stream",
     "text": [
      "[pyphetools] Ingested 6 GA4GH phenopackets.\n",
      "[INFO] Extracted 6 from 6 phenopackets with OMIM:614931\n",
      "\n",
      "\tEctodermal dysplasia 9, hair/nail type (OMIM:614931): n=6\n",
      "We found a total of 9 unique HPO terms\n",
      "Extracted disease: Ectodermal dysplasia 9, hair/nail type (OMIM:614931)\n",
      "Wrote HPOA disease file to OMIM-614931.tab\n"
     ]
    }
   ],
   "source": [
    "pmid = \"PMID:23063621\"\n",
    "df = timporter.create_hpoa_from_phenopackets(pmid=pmid, moi=\"Autosomal recessive\", target=\"OMIM:614931\")"
   ]
  }
 ],
 "metadata": {
  "kernelspec": {
   "display_name": "ps24venv",
   "language": "python",
   "name": "python3"
  },
  "language_info": {
   "codemirror_mode": {
    "name": "ipython",
    "version": 3
   },
   "file_extension": ".py",
   "mimetype": "text/x-python",
   "name": "python",
   "nbconvert_exporter": "python",
   "pygments_lexer": "ipython3",
   "version": "3.9.6"
  }
 },
 "nbformat": 4,
 "nbformat_minor": 2
}
