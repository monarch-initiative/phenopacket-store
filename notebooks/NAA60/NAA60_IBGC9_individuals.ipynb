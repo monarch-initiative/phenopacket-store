{
 "cells": [
  {
   "cell_type": "code",
   "execution_count": null,
   "metadata": {},
   "outputs": [],
   "source": []
  },
  {
   "cell_type": "markdown",
   "metadata": {},
   "source": [
    "# NAA60\n",
    "[autosomal recessive idiopathic basal ganglia calcification-9 (IBGC9)](https://omim.org/entry/620786) is caused by homozygous mutation in the NAA60 gene."
   ]
  },
  {
   "cell_type": "code",
   "execution_count": 10,
   "metadata": {},
   "outputs": [
    {
     "name": "stdout",
     "output_type": "stream",
     "text": [
      "Using pyphetools version 0.9.94\n"
     ]
    }
   ],
   "source": [
    "from pyphetools.creation import TemplateImporter, Moi\n",
    "from pyphetools.visualization import IndividualTable, QcVisualizer\n",
    "from IPython.display import display, HTML\n",
    "import pyphetools\n",
    "print(f\"Using pyphetools version {pyphetools.__version__}\")"
   ]
  },
  {
   "cell_type": "code",
   "execution_count": 11,
   "metadata": {},
   "outputs": [],
   "source": [
    "template = \"input/NAA60_IBGC9_individuals.xlsx\"\n",
    "created_by = \"0000-0002-0736-9199\""
   ]
  },
  {
   "cell_type": "code",
   "execution_count": 16,
   "metadata": {},
   "outputs": [
    {
     "name": "stdout",
     "output_type": "stream",
     "text": [
      "HPO version 2024-07-01\n",
      "Created encoders for 56 fields\n",
      "Importing OMIM:620786, Basal ganglia calcification, idiopathic, 9, autosomal recessive, HGNC:25875, NAA60,  NM_001083601.3\n",
      "We output 10 GA4GH phenopackets to the directory phenopackets\n"
     ]
    }
   ],
   "source": [
    "timporter = TemplateImporter(template=template,  created_by=created_by)\n",
    "individual_list, cvalidator = timporter.import_phenopackets_from_template()"
   ]
  },
  {
   "cell_type": "code",
   "execution_count": 17,
   "metadata": {},
   "outputs": [
    {
     "data": {
      "text/html": [
       "<h2>Cohort validation</h2>\n",
       "<p>Errors found with 8 of 10 phenopackets.</p>\n",
       "<table style=\"border: 2px solid black; align: \"left\">\n",
       "<caption>Error counts</caption>\n",
       "<tr><th style=\"text-align: left;font-weight: bold;\">Level</th><th style=\"text-align: left;font-weight: bold;\">Error category</th><th style=\"text-align: left;font-weight: bold;\">Count</th></tr>\n",
       "<tr><td style=\"text-align: left;\">WARNING</td><td style=\"text-align: left;\">REDUNDANT</td><td style=\"text-align: left;\">8</td></tr>\n",
       "</table>\n",
       "<p>A total of 8 issues were fixed and no individual was removed from the cohort.</p>"
      ],
      "text/plain": [
       "<IPython.core.display.HTML object>"
      ]
     },
     "metadata": {},
     "output_type": "display_data"
    }
   ],
   "source": [
    "qc = QcVisualizer(cohort_validator=cvalidator)\n",
    "display(HTML(qc.to_summary_html()))"
   ]
  },
  {
   "cell_type": "code",
   "execution_count": 18,
   "metadata": {},
   "outputs": [
    {
     "data": {
      "text/html": [
       "<table style=\"border: 2px solid black; align: \"left\">\n",
       "<caption>10 phenopackets - PMID:38480682 (n=10)</caption>\n",
       "<tr><th style=\"text-align: left;font-weight: bold;\">Individual</th><th style=\"text-align: left;font-weight: bold;\">Disease</th><th style=\"text-align: left;font-weight: bold;\">Genotype</th><th style=\"text-align: left;font-weight: bold;\">Phenotypic features</th></tr>\n",
       "<tr><td style=\"text-align: left;\">F1-II-1 (UNKNOWN; P64Y)</td><td style=\"text-align: left;\">Basal ganglia calcification, idiopathic, 9, autosomal recessive (OMIM:620786)</td><td style=\"text-align: left;\">NM_001083601.3:c.323_329del (homozygous)</td><td style=\"text-align: left;\"><b>P64Y</b>: Basal ganglia calcification (HP:0002135); Cerebellar calcifications (HP:0007352)<br/>Parkinsonism (HP:0001300); Ataxia (HP:0001251); Anarthria (HP:0002425); Dysphagia (HP:0002015); Reduced cerebral white matter volume (HP:0034295); Migraine (HP:0002076); excluded: Intellectual disability, mild (HP:0001256); excluded: Motor delay (HP:0001270); excluded: Tetraparesis (HP:0002273); excluded: Subcortical white matter calcifications (HP:0007346); excluded: Globus pallidus calcification (HP:0031627); excluded: Intracerebral periventricular calcifications (HP:0007229); excluded: Depression (HP:0000716); excluded: Psychosis (HP:0000709); excluded: Attention deficit hyperactivity disorder (HP:0007018); excluded: Abnormal pyramidal sign (HP:0007256); excluded: Dystonia (HP:0001332); excluded: Anxiety (HP:0000739); excluded: Motor stereotypy (HP:0000733); excluded: Hypotonia (HP:0001252); excluded: Chorea (HP:0002072); excluded: Polymicrogyria (HP:0002126); excluded: High palate (HP:0000218); excluded: Developmental cataract (HP:0000519); excluded: Low-set ears (HP:0000369); excluded: Short stature (HP:0004322); excluded: Microcephaly (HP:0000252); excluded: Coarctation of aorta (HP:0001680); excluded: Strabismus (HP:0000486); excluded: Seizure (HP:0001250); excluded: Proptosis (HP:0000520); excluded: Proximal upper limb amyotrophy (HP:0008948); excluded: Genu valgum (HP:0002857); excluded: Almond-shaped palpebral fissure (HP:0007874); excluded: Macrocephaly (HP:0000256); excluded: Hyperacusis (HP:0010780)</td></tr>\n",
       "<tr><td style=\"text-align: left;\">F1-II-2 (UNKNOWN; n/a)</td><td style=\"text-align: left;\">Basal ganglia calcification, idiopathic, 9, autosomal recessive (OMIM:620786)</td><td style=\"text-align: left;\">NM_001083601.3:c.323_329del (homozygous)</td><td style=\"text-align: left;\">Basal ganglia calcification (HP:0002135); Cerebellar calcifications (HP:0007352); Parkinsonism (HP:0001300); Psychosis (HP:0000709); Ataxia (HP:0001251); Anarthria (HP:0002425); Dysphagia (HP:0002015); excluded: Intellectual disability, mild (HP:0001256); excluded: Motor delay (HP:0001270); excluded: Tetraparesis (HP:0002273); excluded: Subcortical white matter calcifications (HP:0007346); excluded: Globus pallidus calcification (HP:0031627); excluded: Intracerebral periventricular calcifications (HP:0007229); excluded: Depression (HP:0000716); excluded: Attention deficit hyperactivity disorder (HP:0007018); excluded: Abnormal pyramidal sign (HP:0007256); excluded: Dystonia (HP:0001332); excluded: Anxiety (HP:0000739); excluded: Motor stereotypy (HP:0000733); excluded: Hypotonia (HP:0001252); excluded: Chorea (HP:0002072); excluded: High palate (HP:0000218); excluded: Developmental cataract (HP:0000519); excluded: Low-set ears (HP:0000369); excluded: Short stature (HP:0004322); excluded: Migraine (HP:0002076); excluded: Microcephaly (HP:0000252); excluded: Coarctation of aorta (HP:0001680); excluded: Strabismus (HP:0000486); excluded: Seizure (HP:0001250); excluded: Proptosis (HP:0000520); excluded: Proximal upper limb amyotrophy (HP:0008948); excluded: Genu valgum (HP:0002857); excluded: Almond-shaped palpebral fissure (HP:0007874); excluded: Macrocephaly (HP:0000256); excluded: Hyperacusis (HP:0010780)</td></tr>\n",
       "<tr><td style=\"text-align: left;\">F2-II-2 (UNKNOWN; n/a)</td><td style=\"text-align: left;\">Basal ganglia calcification, idiopathic, 9, autosomal recessive (OMIM:620786)</td><td style=\"text-align: left;\">NM_001083601.3:c.338-1G>C (homozygous)</td><td style=\"text-align: left;\">Basal ganglia calcification (HP:0002135); Subcortical white matter calcifications (HP:0007346); Seizure (HP:0001250); Macrocephaly (HP:0000256); excluded: Intellectual disability, mild (HP:0001256); excluded: Motor delay (HP:0001270); excluded: Tetraparesis (HP:0002273); excluded: Cerebellar calcifications (HP:0007352); excluded: Globus pallidus calcification (HP:0031627); excluded: Intracerebral periventricular calcifications (HP:0007229); excluded: Depression (HP:0000716); excluded: Parkinsonism (HP:0001300); excluded: Psychosis (HP:0000709); excluded: Attention deficit hyperactivity disorder (HP:0007018); excluded: Ataxia (HP:0001251); excluded: Abnormal pyramidal sign (HP:0007256); excluded: Anarthria (HP:0002425); excluded: Dystonia (HP:0001332); excluded: Anxiety (HP:0000739); excluded: Dysphagia (HP:0002015); excluded: Motor stereotypy (HP:0000733); excluded: Hypotonia (HP:0001252); excluded: Chorea (HP:0002072); excluded: Reduced cerebral white matter volume (HP:0034295); excluded: Polymicrogyria (HP:0002126); excluded: High palate (HP:0000218); excluded: Developmental cataract (HP:0000519); excluded: Low-set ears (HP:0000369); excluded: Short stature (HP:0004322); excluded: Migraine (HP:0002076); excluded: Microcephaly (HP:0000252); excluded: Coarctation of aorta (HP:0001680); excluded: Strabismus (HP:0000486); excluded: Proptosis (HP:0000520); excluded: Proximal upper limb amyotrophy (HP:0008948); excluded: Genu valgum (HP:0002857); excluded: Almond-shaped palpebral fissure (HP:0007874); excluded: Hyperacusis (HP:0010780)</td></tr>\n",
       "<tr><td style=\"text-align: left;\">F2-II-1 (UNKNOWN; P32Y)</td><td style=\"text-align: left;\">Basal ganglia calcification, idiopathic, 9, autosomal recessive (OMIM:620786)</td><td style=\"text-align: left;\">NM_001083601.3:c.338-1G>C (homozygous)</td><td style=\"text-align: left;\"><b>P32Y</b>: Basal ganglia calcification (HP:0002135); Subcortical white matter calcifications (HP:0007346); Cerebellar calcifications (HP:0007352); Dystonia (HP:0001332)<br/>Parkinsonism (HP:0001300); Ataxia (HP:0001251); Seizure (HP:0001250); Macrocephaly (HP:0000256); excluded: Intellectual disability, mild (HP:0001256); excluded: Motor delay (HP:0001270); excluded: Tetraparesis (HP:0002273); excluded: Globus pallidus calcification (HP:0031627); excluded: Intracerebral periventricular calcifications (HP:0007229); excluded: Depression (HP:0000716); excluded: Psychosis (HP:0000709); excluded: Attention deficit hyperactivity disorder (HP:0007018); excluded: Abnormal pyramidal sign (HP:0007256); excluded: Anarthria (HP:0002425); excluded: Anxiety (HP:0000739); excluded: Dysphagia (HP:0002015); excluded: Motor stereotypy (HP:0000733); excluded: Hypotonia (HP:0001252); excluded: Chorea (HP:0002072); excluded: High palate (HP:0000218); excluded: Developmental cataract (HP:0000519); excluded: Low-set ears (HP:0000369); excluded: Short stature (HP:0004322); excluded: Migraine (HP:0002076); excluded: Microcephaly (HP:0000252); excluded: Coarctation of aorta (HP:0001680); excluded: Strabismus (HP:0000486); excluded: Proptosis (HP:0000520); excluded: Proximal upper limb amyotrophy (HP:0008948); excluded: Genu valgum (HP:0002857); excluded: Almond-shaped palpebral fissure (HP:0007874); excluded: Hyperacusis (HP:0010780)</td></tr>\n",
       "<tr><td style=\"text-align: left;\">F3-II-1 (UNKNOWN; P24Y)</td><td style=\"text-align: left;\">Basal ganglia calcification, idiopathic, 9, autosomal recessive (OMIM:620786)</td><td style=\"text-align: left;\">NM_001083601.3:c.338-1G>C (homozygous)</td><td style=\"text-align: left;\"><b>P24Y</b>: Basal ganglia calcification (HP:0002135); Cerebellar calcifications (HP:0007352)<br/>Intellectual disability, mild (HP:0001256); Depression (HP:0000716); Ataxia (HP:0001251); Abnormality of extrapyramidal motor function (HP:0002071); Anxiety (HP:0000739); Migraine (HP:0002076); Coarctation of aorta (HP:0001680); Seizure (HP:0001250); Genu valgum (HP:0002857); excluded: Motor delay (HP:0001270); excluded: Tetraparesis (HP:0002273); excluded: Subcortical white matter calcifications (HP:0007346); excluded: Globus pallidus calcification (HP:0031627); excluded: Intracerebral periventricular calcifications (HP:0007229); excluded: Parkinsonism (HP:0001300); excluded: Psychosis (HP:0000709); excluded: Attention deficit hyperactivity disorder (HP:0007018); excluded: Abnormal pyramidal sign (HP:0007256); excluded: Anarthria (HP:0002425); excluded: Dystonia (HP:0001332); excluded: Dysphagia (HP:0002015); excluded: Motor stereotypy (HP:0000733); excluded: Hypotonia (HP:0001252); excluded: Chorea (HP:0002072); excluded: High palate (HP:0000218); excluded: Developmental cataract (HP:0000519); excluded: Low-set ears (HP:0000369); excluded: Short stature (HP:0004322); excluded: Microcephaly (HP:0000252); excluded: Strabismus (HP:0000486); excluded: Proptosis (HP:0000520); excluded: Proximal upper limb amyotrophy (HP:0008948); excluded: Almond-shaped palpebral fissure (HP:0007874); excluded: Macrocephaly (HP:0000256); excluded: Hyperacusis (HP:0010780)</td></tr>\n",
       "<tr><td style=\"text-align: left;\">F3-II-2 (UNKNOWN; P31Y)</td><td style=\"text-align: left;\">Basal ganglia calcification, idiopathic, 9, autosomal recessive (OMIM:620786)</td><td style=\"text-align: left;\">NM_001083601.3:c.338-1G>C (homozygous)</td><td style=\"text-align: left;\"><b>P31Y</b>: Basal ganglia calcification (HP:0002135); Cerebellar calcifications (HP:0007352)<br/>Intellectual disability, mild (HP:0001256); Parkinsonism (HP:0001300); Ataxia (HP:0001251); Abnormal pyramidal sign (HP:0007256); Migraine (HP:0002076); Macrocephaly (HP:0000256); excluded: Motor delay (HP:0001270); excluded: Tetraparesis (HP:0002273); excluded: Subcortical white matter calcifications (HP:0007346); excluded: Globus pallidus calcification (HP:0031627); excluded: Intracerebral periventricular calcifications (HP:0007229); excluded: Depression (HP:0000716); excluded: Psychosis (HP:0000709); excluded: Attention deficit hyperactivity disorder (HP:0007018); excluded: Anarthria (HP:0002425); excluded: Dystonia (HP:0001332); excluded: Anxiety (HP:0000739); excluded: Dysphagia (HP:0002015); excluded: Motor stereotypy (HP:0000733); excluded: Hypotonia (HP:0001252); excluded: Chorea (HP:0002072); excluded: High palate (HP:0000218); excluded: Developmental cataract (HP:0000519); excluded: Low-set ears (HP:0000369); excluded: Short stature (HP:0004322); excluded: Microcephaly (HP:0000252); excluded: Coarctation of aorta (HP:0001680); excluded: Strabismus (HP:0000486); excluded: Seizure (HP:0001250); excluded: Proptosis (HP:0000520); excluded: Proximal upper limb amyotrophy (HP:0008948); excluded: Genu valgum (HP:0002857); excluded: Almond-shaped palpebral fissure (HP:0007874); excluded: Hyperacusis (HP:0010780)</td></tr>\n",
       "<tr><td style=\"text-align: left;\">F4-II-1 (UNKNOWN; P19Y)</td><td style=\"text-align: left;\">Basal ganglia calcification, idiopathic, 9, autosomal recessive (OMIM:620786)</td><td style=\"text-align: left;\">NM_001083601.3:c.391C>T (homozygous)</td><td style=\"text-align: left;\"><b>P19Y</b>: Globus pallidus calcification (HP:0031627)<br/>Attention deficit hyperactivity disorder (HP:0007018); Abnormal pyramidal sign (HP:0007256); Dystonia (HP:0001332); Motor stereotypy (HP:0000733); Hypotonia (HP:0001252); Chorea (HP:0002072); Developmental cataract (HP:0000519); Low-set ears (HP:0000369); Short stature (HP:0004322); Almond-shaped palpebral fissure (HP:0007874); Hyperacusis (HP:0010780); excluded: Intellectual disability, mild (HP:0001256); excluded: Motor delay (HP:0001270); excluded: Tetraparesis (HP:0002273); excluded: Basal ganglia calcification (HP:0002135); excluded: Subcortical white matter calcifications (HP:0007346); excluded: Cerebellar calcifications (HP:0007352); excluded: Intracerebral periventricular calcifications (HP:0007229); excluded: Depression (HP:0000716); excluded: Psychosis (HP:0000709); excluded: Abnormality of extrapyramidal motor function (HP:0002071); excluded: Anxiety (HP:0000739); excluded: Dysphagia (HP:0002015); excluded: Reduced cerebral white matter volume (HP:0034295); excluded: Polymicrogyria (HP:0002126); excluded: High palate (HP:0000218); excluded: Migraine (HP:0002076); excluded: Microcephaly (HP:0000252); excluded: Coarctation of aorta (HP:0001680); excluded: Strabismus (HP:0000486); excluded: Seizure (HP:0001250); excluded: Proptosis (HP:0000520); excluded: Proximal upper limb amyotrophy (HP:0008948); excluded: Genu valgum (HP:0002857); excluded: Macrocephaly (HP:0000256)</td></tr>\n",
       "<tr><td style=\"text-align: left;\">F5-II-1 (UNKNOWN; n/a)</td><td style=\"text-align: left;\">Basal ganglia calcification, idiopathic, 9, autosomal recessive (OMIM:620786)</td><td style=\"text-align: left;\">NM_001083601.3:c.130C>T (homozygous)</td><td style=\"text-align: left;\">Motor delay (HP:0001270); Tetraparesis (HP:0002273); Abnormal pyramidal sign (HP:0007256); Dystonia (HP:0001332); Polymicrogyria (HP:0002126); Microcephaly (HP:0000252); Seizure (HP:0001250); Proptosis (HP:0000520); Proximal upper limb amyotrophy (HP:0008948); excluded: Intellectual disability, mild (HP:0001256); excluded: Depression (HP:0000716); excluded: Parkinsonism (HP:0001300); excluded: Psychosis (HP:0000709); excluded: Attention deficit hyperactivity disorder (HP:0007018); excluded: Anarthria (HP:0002425); excluded: Anxiety (HP:0000739); excluded: Dysphagia (HP:0002015); excluded: Motor stereotypy (HP:0000733); excluded: Hypotonia (HP:0001252); excluded: Chorea (HP:0002072); excluded: Reduced cerebral white matter volume (HP:0034295); excluded: High palate (HP:0000218); excluded: Developmental cataract (HP:0000519); excluded: Low-set ears (HP:0000369); excluded: Short stature (HP:0004322); excluded: Migraine (HP:0002076); excluded: Coarctation of aorta (HP:0001680); excluded: Strabismus (HP:0000486); excluded: Genu valgum (HP:0002857); excluded: Almond-shaped palpebral fissure (HP:0007874); excluded: Macrocephaly (HP:0000256); excluded: Hyperacusis (HP:0010780)</td></tr>\n",
       "<tr><td style=\"text-align: left;\">F6-II-6 (UNKNOWN; n/a)</td><td style=\"text-align: left;\">Basal ganglia calcification, idiopathic, 9, autosomal recessive (OMIM:620786)</td><td style=\"text-align: left;\">NM_001083601.3:c.50T>G (homozygous)</td><td style=\"text-align: left;\"><b>P12Y</b>: Intracerebral periventricular calcifications (HP:0007229)<br/>Intellectual disability, mild (HP:0001256); Attention deficit hyperactivity disorder (HP:0007018); Abnormal pyramidal sign (HP:0007256); Reduced cerebral white matter volume (HP:0034295); High palate (HP:0000218); Microcephaly (HP:0000252); Strabismus (HP:0000486); Seizure (HP:0001250); excluded: Motor delay (HP:0001270); excluded: Tetraparesis (HP:0002273); excluded: Basal ganglia calcification (HP:0002135); excluded: Subcortical white matter calcifications (HP:0007346); excluded: Cerebellar calcifications (HP:0007352); excluded: Globus pallidus calcification (HP:0031627); excluded: Depression (HP:0000716); excluded: Parkinsonism (HP:0001300); excluded: Psychosis (HP:0000709); excluded: Anarthria (HP:0002425); excluded: Dystonia (HP:0001332); excluded: Anxiety (HP:0000739); excluded: Dysphagia (HP:0002015); excluded: Motor stereotypy (HP:0000733); excluded: Hypotonia (HP:0001252); excluded: Chorea (HP:0002072); excluded: Polymicrogyria (HP:0002126); excluded: Developmental cataract (HP:0000519); excluded: Low-set ears (HP:0000369); excluded: Short stature (HP:0004322); excluded: Migraine (HP:0002076); excluded: Coarctation of aorta (HP:0001680); excluded: Proptosis (HP:0000520); excluded: Proximal upper limb amyotrophy (HP:0008948); excluded: Genu valgum (HP:0002857); excluded: Almond-shaped palpebral fissure (HP:0007874); excluded: Macrocephaly (HP:0000256); excluded: Hyperacusis (HP:0010780)</td></tr>\n",
       "<tr><td style=\"text-align: left;\">F7-II-6 (UNKNOWN; P43Y)</td><td style=\"text-align: left;\">Basal ganglia calcification, idiopathic, 9, autosomal recessive (OMIM:620786)</td><td style=\"text-align: left;\">NM_001083601.3:c.428A>C (homozygous)</td><td style=\"text-align: left;\"><b>P43Y</b>: Basal ganglia calcification (HP:0002135); Cerebellar calcifications (HP:0007352)<br/>Ataxia (HP:0001251); Abnormal pyramidal sign (HP:0007256); excluded: Intellectual disability, mild (HP:0001256); excluded: Motor delay (HP:0001270); excluded: Tetraparesis (HP:0002273); excluded: Subcortical white matter calcifications (HP:0007346); excluded: Globus pallidus calcification (HP:0031627); excluded: Intracerebral periventricular calcifications (HP:0007229); excluded: Depression (HP:0000716); excluded: Parkinsonism (HP:0001300); excluded: Psychosis (HP:0000709); excluded: Attention deficit hyperactivity disorder (HP:0007018); excluded: Anarthria (HP:0002425); excluded: Dystonia (HP:0001332); excluded: Anxiety (HP:0000739); excluded: Dysphagia (HP:0002015); excluded: Motor stereotypy (HP:0000733); excluded: Hypotonia (HP:0001252); excluded: Chorea (HP:0002072); excluded: Reduced cerebral white matter volume (HP:0034295); excluded: Polymicrogyria (HP:0002126); excluded: High palate (HP:0000218); excluded: Developmental cataract (HP:0000519); excluded: Low-set ears (HP:0000369); excluded: Short stature (HP:0004322); excluded: Migraine (HP:0002076); excluded: Microcephaly (HP:0000252); excluded: Coarctation of aorta (HP:0001680); excluded: Strabismus (HP:0000486); excluded: Seizure (HP:0001250); excluded: Proptosis (HP:0000520); excluded: Proximal upper limb amyotrophy (HP:0008948); excluded: Genu valgum (HP:0002857); excluded: Almond-shaped palpebral fissure (HP:0007874); excluded: Macrocephaly (HP:0000256); excluded: Hyperacusis (HP:0010780)</td></tr>\n",
       "</table>"
      ],
      "text/plain": [
       "<IPython.core.display.HTML object>"
      ]
     },
     "metadata": {},
     "output_type": "display_data"
    }
   ],
   "source": [
    "table = IndividualTable(cvalidator.get_error_free_individual_list())\n",
    "display(HTML(table.to_html()))"
   ]
  },
  {
   "cell_type": "code",
   "execution_count": 19,
   "metadata": {},
   "outputs": [
    {
     "name": "stdout",
     "output_type": "stream",
     "text": [
      "[pyphetools] Ingested 10 GA4GH phenopackets.\n",
      "[INFO] Extracted 10 from 10 phenopackets with OMIM:620786\n",
      "\n",
      "\tBasal ganglia calcification, idiopathic, 9, autosomal recessive (OMIM:620786): n=10\n",
      "We found a total of 39 unique HPO terms\n",
      "Extracted disease: Basal ganglia calcification, idiopathic, 9, autosomal recessive (OMIM:620786)\n",
      "Wrote HPOA disease file to OMIM-620786.tab\n"
     ]
    },
    {
     "data": {
      "text/html": [
       "<div>\n",
       "<style scoped>\n",
       "    .dataframe tbody tr th:only-of-type {\n",
       "        vertical-align: middle;\n",
       "    }\n",
       "\n",
       "    .dataframe tbody tr th {\n",
       "        vertical-align: top;\n",
       "    }\n",
       "\n",
       "    .dataframe thead th {\n",
       "        text-align: right;\n",
       "    }\n",
       "</style>\n",
       "<table border=\"1\" class=\"dataframe\">\n",
       "  <thead>\n",
       "    <tr style=\"text-align: right;\">\n",
       "      <th></th>\n",
       "      <th>#diseaseID</th>\n",
       "      <th>diseaseName</th>\n",
       "      <th>phenotypeID</th>\n",
       "      <th>phenotypeName</th>\n",
       "      <th>onsetID</th>\n",
       "      <th>onsetName</th>\n",
       "      <th>frequency</th>\n",
       "      <th>sex</th>\n",
       "      <th>negation</th>\n",
       "      <th>modifier</th>\n",
       "      <th>description</th>\n",
       "      <th>publication</th>\n",
       "      <th>evidence</th>\n",
       "      <th>biocuration</th>\n",
       "    </tr>\n",
       "  </thead>\n",
       "  <tbody>\n",
       "    <tr>\n",
       "      <th>0</th>\n",
       "      <td>OMIM:620786</td>\n",
       "      <td>Basal ganglia calcification, idiopathic, 9, au...</td>\n",
       "      <td>HP:0001270</td>\n",
       "      <td>Motor delay</td>\n",
       "      <td></td>\n",
       "      <td></td>\n",
       "      <td>1/10</td>\n",
       "      <td></td>\n",
       "      <td></td>\n",
       "      <td></td>\n",
       "      <td></td>\n",
       "      <td>PMID:38480682</td>\n",
       "      <td>PCS</td>\n",
       "      <td>ORCID:0000-0002-0736-9199[2024-07-22]</td>\n",
       "    </tr>\n",
       "    <tr>\n",
       "      <th>1</th>\n",
       "      <td>OMIM:620786</td>\n",
       "      <td>Basal ganglia calcification, idiopathic, 9, au...</td>\n",
       "      <td>HP:0002273</td>\n",
       "      <td>Tetraparesis</td>\n",
       "      <td></td>\n",
       "      <td></td>\n",
       "      <td>1/10</td>\n",
       "      <td></td>\n",
       "      <td></td>\n",
       "      <td></td>\n",
       "      <td></td>\n",
       "      <td>PMID:38480682</td>\n",
       "      <td>PCS</td>\n",
       "      <td>ORCID:0000-0002-0736-9199[2024-07-22]</td>\n",
       "    </tr>\n",
       "    <tr>\n",
       "      <th>2</th>\n",
       "      <td>OMIM:620786</td>\n",
       "      <td>Basal ganglia calcification, idiopathic, 9, au...</td>\n",
       "      <td>HP:0007256</td>\n",
       "      <td>Abnormal pyramidal sign</td>\n",
       "      <td></td>\n",
       "      <td></td>\n",
       "      <td>5/10</td>\n",
       "      <td></td>\n",
       "      <td></td>\n",
       "      <td></td>\n",
       "      <td></td>\n",
       "      <td>PMID:38480682</td>\n",
       "      <td>PCS</td>\n",
       "      <td>ORCID:0000-0002-0736-9199[2024-07-22]</td>\n",
       "    </tr>\n",
       "    <tr>\n",
       "      <th>3</th>\n",
       "      <td>OMIM:620786</td>\n",
       "      <td>Basal ganglia calcification, idiopathic, 9, au...</td>\n",
       "      <td>HP:0001332</td>\n",
       "      <td>Dystonia</td>\n",
       "      <td></td>\n",
       "      <td></td>\n",
       "      <td>3/10</td>\n",
       "      <td></td>\n",
       "      <td></td>\n",
       "      <td></td>\n",
       "      <td></td>\n",
       "      <td>PMID:38480682</td>\n",
       "      <td>PCS</td>\n",
       "      <td>ORCID:0000-0002-0736-9199[2024-07-22]</td>\n",
       "    </tr>\n",
       "    <tr>\n",
       "      <th>4</th>\n",
       "      <td>OMIM:620786</td>\n",
       "      <td>Basal ganglia calcification, idiopathic, 9, au...</td>\n",
       "      <td>HP:0002126</td>\n",
       "      <td>Polymicrogyria</td>\n",
       "      <td></td>\n",
       "      <td></td>\n",
       "      <td>1/6</td>\n",
       "      <td></td>\n",
       "      <td></td>\n",
       "      <td></td>\n",
       "      <td></td>\n",
       "      <td>PMID:38480682</td>\n",
       "      <td>PCS</td>\n",
       "      <td>ORCID:0000-0002-0736-9199[2024-07-22]</td>\n",
       "    </tr>\n",
       "  </tbody>\n",
       "</table>\n",
       "</div>"
      ],
      "text/plain": [
       "    #diseaseID  ...                            biocuration\n",
       "0  OMIM:620786  ...  ORCID:0000-0002-0736-9199[2024-07-22]\n",
       "1  OMIM:620786  ...  ORCID:0000-0002-0736-9199[2024-07-22]\n",
       "2  OMIM:620786  ...  ORCID:0000-0002-0736-9199[2024-07-22]\n",
       "3  OMIM:620786  ...  ORCID:0000-0002-0736-9199[2024-07-22]\n",
       "4  OMIM:620786  ...  ORCID:0000-0002-0736-9199[2024-07-22]\n",
       "\n",
       "[5 rows x 14 columns]"
      ]
     },
     "execution_count": 19,
     "metadata": {},
     "output_type": "execute_result"
    }
   ],
   "source": [
    "pmid = \"PMID:38480682\"\n",
    "df = timporter.create_hpoa_from_phenopackets(pmid=pmid, mode_of_inheritance=Moi.AR, target=\"OMIM:620786\")\n",
    "df.head()"
   ]
  },
  {
   "cell_type": "code",
   "execution_count": null,
   "metadata": {},
   "outputs": [],
   "source": []
  }
 ],
 "metadata": {
  "kernelspec": {
   "display_name": "ps24venv",
   "language": "python",
   "name": "python3"
  },
  "language_info": {
   "codemirror_mode": {
    "name": "ipython",
    "version": 3
   },
   "file_extension": ".py",
   "mimetype": "text/x-python",
   "name": "python",
   "nbconvert_exporter": "python",
   "pygments_lexer": "ipython3",
   "version": "3.9.6"
  }
 },
 "nbformat": 4,
 "nbformat_minor": 2
}
