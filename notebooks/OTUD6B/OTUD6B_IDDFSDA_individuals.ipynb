{
 "cells": [
  {
   "cell_type": "markdown",
   "metadata": {},
   "source": [
    "# OTUD6B\n",
    "[intellectual developmental disorder with dysmorphic facies, seizures, and distal limb anomalies (IDDFSDA) ](https://omim.org/entry/617452) is caused by homozygous mutation in the OTUD6B gene."
   ]
  },
  {
   "cell_type": "code",
   "execution_count": 3,
   "metadata": {},
   "outputs": [
    {
     "name": "stdout",
     "output_type": "stream",
     "text": [
      "Using pyphetools version 0.9.91\n"
     ]
    }
   ],
   "source": [
    "from pyphetools.creation import TemplateImporter\n",
    "from pyphetools.visualization import IndividualTable, QcVisualizer\n",
    "from IPython.display import display, HTML\n",
    "import pyphetools\n",
    "print(f\"Using pyphetools version {pyphetools.__version__}\")"
   ]
  },
  {
   "cell_type": "code",
   "execution_count": 4,
   "metadata": {},
   "outputs": [],
   "source": [
    "template = \"input/OTUD6B_IDDFSDA_individuals.xlsx\"\n",
    "created_by = \"0000-0002-0736-9199\""
   ]
  },
  {
   "cell_type": "code",
   "execution_count": 8,
   "metadata": {},
   "outputs": [
    {
     "name": "stdout",
     "output_type": "stream",
     "text": [
      "HPO version 2024-04-26\n",
      "Created encoders for 70 fields\n",
      "Importing OMIM:617452, Intellectual developmental disorder with dysmorphic facies, seizures, and distal limb anomalies, HGNC:24281, OTUD6B,  NM_016023.5\n",
      "[INFO] encoding variant \"c.234+1G>C\"\n",
      "https://rest.variantvalidator.org/VariantValidator/variantvalidator/hg38/NM_016023.5%3Ac.234+1G>C/NM_016023.5?content-type=application%2Fjson\n",
      "[INFO] encoding variant \"c.315+1G>A\"\n",
      "https://rest.variantvalidator.org/VariantValidator/variantvalidator/hg38/NM_016023.5%3Ac.315+1G>A/NM_016023.5?content-type=application%2Fjson\n",
      "We output 1 GA4GH phenopackets to the directory phenopackets\n"
     ]
    }
   ],
   "source": [
    "timporter = TemplateImporter(template=template,  created_by=created_by)\n",
    "individual_list, cvalidator = timporter.import_phenopackets_from_template()"
   ]
  },
  {
   "cell_type": "code",
   "execution_count": 9,
   "metadata": {},
   "outputs": [
    {
     "data": {
      "text/html": [
       "<h2>Cohort validation</h2>\n",
       "<p>No errors found for the cohort with 1 individuals</p>"
      ],
      "text/plain": [
       "<IPython.core.display.HTML object>"
      ]
     },
     "metadata": {},
     "output_type": "display_data"
    }
   ],
   "source": [
    "qc = QcVisualizer(cohort_validator=cvalidator)\n",
    "display(HTML(qc.to_summary_html()))"
   ]
  },
  {
   "cell_type": "code",
   "execution_count": 10,
   "metadata": {},
   "outputs": [
    {
     "data": {
      "text/html": [
       "<table style=\"border: 2px solid black; align: \"left\">\n",
       "<caption>1 phenopacket - PMID:30364145 (n=1)</caption>\n",
       "<tr><th style=\"text-align: left;font-weight: bold;\">Individual</th><th style=\"text-align: left;font-weight: bold;\">Disease</th><th style=\"text-align: left;font-weight: bold;\">Genotype</th><th style=\"text-align: left;font-weight: bold;\">Phenotypic features</th></tr>\n",
       "<tr><td style=\"text-align: left;\">proband (FEMALE; P6Y)</td><td style=\"text-align: left;\">Intellectual developmental disorder with dysmorphic facies, seizures, and distal limb anomalies (OMIM:617452)</td><td style=\"text-align: left;\"><ul> <li>NM_016023.5:c.234+1G>C (heterozygous)</li> <li>NM_016023.5:c.315+1G>A (heterozygous)</li> </ul></td><td style=\"text-align: left;\"><b>P5Y</b>: Bilateral tonic-clonic seizure (HP:0002069)<br/><b>P6Y</b>: Intellectual disability, mild (HP:0001256)<br/>Global developmental delay (HP:0001263); Ptosis (HP:0000508); Gastroesophageal reflux (HP:0002020); Feeding difficulties (HP:0011968); Tetralogy of Fallot (HP:0001636); Intrauterine growth retardation (HP:0001511); Long philtrum (HP:0000343); Smooth philtrum (HP:0000319); High palate (HP:0000218); Low hanging columella (HP:0009765); Deeply set eye (HP:0000490); Broad forehead (HP:0000337); Long face (HP:0000276); Thin upper lip vermilion (HP:0000219); Macrotia (HP:0000400); Hypotelorism (HP:0000601); Prominent fingertip pads (HP:0001212); Broad thumb (HP:0011304); Broad hallux (HP:0010055); excluded: Retrognathia (HP:0000278); excluded: Prominent nasal bridge (HP:0000426); excluded: Long palpebral fissure (HP:0000637); excluded: Highly arched eyebrow (HP:0002553); excluded: Scoliosis (HP:0002650)</td></tr>\n",
       "</table>"
      ],
      "text/plain": [
       "<IPython.core.display.HTML object>"
      ]
     },
     "metadata": {},
     "output_type": "display_data"
    }
   ],
   "source": [
    "table = IndividualTable(cvalidator.get_error_free_individual_list())\n",
    "display(HTML(table.to_html()))"
   ]
  }
 ],
 "metadata": {
  "kernelspec": {
   "display_name": "ps24venv",
   "language": "python",
   "name": "python3"
  },
  "language_info": {
   "codemirror_mode": {
    "name": "ipython",
    "version": 3
   },
   "file_extension": ".py",
   "mimetype": "text/x-python",
   "name": "python",
   "nbconvert_exporter": "python",
   "pygments_lexer": "ipython3",
   "version": "3.9.6"
  }
 },
 "nbformat": 4,
 "nbformat_minor": 2
}
