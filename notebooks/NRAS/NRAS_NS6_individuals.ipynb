{
 "cells": [
  {
   "cell_type": "markdown",
   "metadata": {},
   "source": [
    "# NRAS\n",
    "[Noonan syndrome-6 (NS6)](https://omim.org/entry/613224) is caused by heterozygous mutation in the NRAS gene."
   ]
  },
  {
   "cell_type": "code",
   "execution_count": 3,
   "metadata": {},
   "outputs": [
    {
     "name": "stdout",
     "output_type": "stream",
     "text": [
      "Using pyphetools version 0.9.86\n"
     ]
    }
   ],
   "source": [
    "from pyphetools.creation import TemplateImporter\n",
    "from pyphetools.visualization import IndividualTable, QcVisualizer\n",
    "from IPython.display import display, HTML\n",
    "import pyphetools\n",
    "print(f\"Using pyphetools version {pyphetools.__version__}\")"
   ]
  },
  {
   "cell_type": "code",
   "execution_count": 5,
   "metadata": {},
   "outputs": [],
   "source": [
    "template = \"input/NRAS_NS6_individuals.xlsx\"\n",
    "created_by = \"0000-0002-0736-9199\""
   ]
  },
  {
   "cell_type": "code",
   "execution_count": 7,
   "metadata": {},
   "outputs": [
    {
     "name": "stdout",
     "output_type": "stream",
     "text": [
      "HPO version 2024-04-26\n",
      "Created encoders for 56 fields\n",
      "Importing OMIM:613224, Noonan syndrome 6, HGNC:7989, NRAS,  NM_002524.5\n",
      "[INFO] encoding variant \"c.149C>T\"\n",
      "https://rest.variantvalidator.org/VariantValidator/variantvalidator/hg38/NM_002524.5%3Ac.149C>T/NM_002524.5?content-type=application%2Fjson\n",
      "[INFO] encoding variant \"c.71T>A\"\n",
      "https://rest.variantvalidator.org/VariantValidator/variantvalidator/hg38/NM_002524.5%3Ac.71T>A/NM_002524.5?content-type=application%2Fjson\n",
      "[INFO] encoding variant \"c.179G>A\"\n",
      "https://rest.variantvalidator.org/VariantValidator/variantvalidator/hg38/NM_002524.5%3Ac.179G>A/NM_002524.5?content-type=application%2Fjson\n",
      "[INFO] encoding variant \"c.101C>T\"\n",
      "https://rest.variantvalidator.org/VariantValidator/variantvalidator/hg38/NM_002524.5%3Ac.101C>T/NM_002524.5?content-type=application%2Fjson\n",
      "[INFO] encoding variant \"c.37G>C\"\n",
      "https://rest.variantvalidator.org/VariantValidator/variantvalidator/hg38/NM_002524.5%3Ac.37G>C/NM_002524.5?content-type=application%2Fjson\n",
      "We output 14 GA4GH phenopackets to the directory phenopackets\n"
     ]
    }
   ],
   "source": [
    "timporter = TemplateImporter(template=template,  created_by=created_by)\n",
    "individual_list, cvalidator = timporter.import_phenopackets_from_template()"
   ]
  },
  {
   "cell_type": "code",
   "execution_count": 8,
   "metadata": {},
   "outputs": [
    {
     "data": {
      "text/html": [
       "<h2>Cohort validation</h2>\n",
       "<p>Errors found with 12 of 14 phenopackets.</p>\n",
       "<table style=\"border: 2px solid black; align: \"left\">\n",
       "<caption>Error counts</caption>\n",
       "<tr><th style=\"text-align: left;font-weight: bold;\">Level</th><th style=\"text-align: left;font-weight: bold;\">Error category</th><th style=\"text-align: left;font-weight: bold;\">Count</th></tr>\n",
       "<tr><td style=\"text-align: left;\">ERROR</td><td style=\"text-align: left;\">CONFLICT</td><td style=\"text-align: left;\">1</td></tr>\n",
       "<tr><td style=\"text-align: left;\">WARNING</td><td style=\"text-align: left;\">REDUNDANT</td><td style=\"text-align: left;\">11</td></tr>\n",
       "</table>\n",
       "<p>A total of 12 issues were fixed and no individual was removed from the cohort.</p>"
      ],
      "text/plain": [
       "<IPython.core.display.HTML object>"
      ]
     },
     "metadata": {},
     "output_type": "display_data"
    }
   ],
   "source": [
    "qc = QcVisualizer(cohort_validator=cvalidator)\n",
    "display(HTML(qc.to_summary_html()))"
   ]
  },
  {
   "cell_type": "code",
   "execution_count": 9,
   "metadata": {},
   "outputs": [
    {
     "data": {
      "text/html": [
       "<table style=\"border: 2px solid black; align: \"left\">\n",
       "<caption>14 phenopackets - PMID:26467218 (n=14)</caption>\n",
       "<tr><th style=\"text-align: left;font-weight: bold;\">Individual</th><th style=\"text-align: left;font-weight: bold;\">Disease</th><th style=\"text-align: left;font-weight: bold;\">Genotype</th><th style=\"text-align: left;font-weight: bold;\">Phenotypic features</th></tr>\n",
       "<tr><td style=\"text-align: left;\">individual 1-De Filippi et al. [20] (MALE; P3Y)</td><td style=\"text-align: left;\">Noonan syndrome 6 (OMIM:613224)</td><td style=\"text-align: left;\">NM_002524.5:c.37G>C (heterozygous)</td><td style=\"text-align: left;\">High forehead (HP:0000348); Downslanted palpebral fissures (HP:0000494); Hypertelorism (HP:0000316); Cafe-au-lait spot (HP:0000957); Low-set ears (HP:0000369); Posteriorly rotated ears (HP:0000358); Juvenile myelomonocytic leukemia (HP:0012209); excluded: Macrocephaly (HP:0000256); excluded: Webbed neck (HP:0000465); excluded: Ptosis (HP:0000508); excluded: Curly hair (HP:0002212); excluded: Bruising susceptibility (HP:0000978); excluded: Coarctation of aorta (HP:0001680); excluded: Patent foramen ovale (HP:0001655); excluded: Motor delay (HP:0001270); excluded: Strabismus (HP:0000486); excluded: Astigmatism (HP:0000483); excluded: Cryptorchidism (HP:0000028); excluded: Pectus excavatum (HP:0000767); excluded: Short stature (HP:0004322)</td></tr>\n",
       "<tr><td style=\"text-align: left;\">individual 2-Runtuwene et al. [21] (MALE; P30Y)</td><td style=\"text-align: left;\">Noonan syndrome 6 (OMIM:613224)</td><td style=\"text-align: left;\">NM_002524.5:c.71T>A (heterozygous)</td><td style=\"text-align: left;\">Polyhydramnios (HP:0001561); High forehead (HP:0000348); Downslanted palpebral fissures (HP:0000494); Webbed neck (HP:0000465); Hypertelorism (HP:0000316); Motor delay (HP:0001270); Low-set ears (HP:0000369); Posteriorly rotated ears (HP:0000358); Cryptorchidism (HP:0000028); Pectus excavatum (HP:0000767); Short stature (HP:0004322); excluded: Macrocephaly (HP:0000256); excluded: Ptosis (HP:0000508); excluded: Keratosis pilaris (HP:0032152); excluded: Curly hair (HP:0002212); excluded: Cafe-au-lait spot (HP:0000957); excluded: Bruising susceptibility (HP:0000978); excluded: Single umbilical artery (HP:0001195); excluded: Coarctation of aorta (HP:0001680); excluded: Patent foramen ovale (HP:0001655); excluded: Premature atrial contractions (HP:0006699); excluded: Myopia (HP:0000545); excluded: Strabismus (HP:0000486); excluded: Astigmatism (HP:0000483); excluded: Keratoconus (HP:0000563); excluded: Juvenile myelomonocytic leukemia (HP:0012209)</td></tr>\n",
       "<tr><td style=\"text-align: left;\">individual 3-Denayer et al. [22] (MALE; P13Y)</td><td style=\"text-align: left;\">Noonan syndrome 6 (OMIM:613224)</td><td style=\"text-align: left;\">NM_002524.5:c.71T>A (heterozygous)</td><td style=\"text-align: left;\">High forehead (HP:0000348); Macrocephaly (HP:0000256); Downslanted palpebral fissures (HP:0000494); Hypertelorism (HP:0000316); Motor delay (HP:0001270); Strabismus (HP:0000486); Keratoconus (HP:0000563); Low-set ears (HP:0000369); Posteriorly rotated ears (HP:0000358); Cryptorchidism (HP:0000028); Pectus excavatum (HP:0000767); Short stature (HP:0004322); excluded: Ptosis (HP:0000508); excluded: Cafe-au-lait spot (HP:0000957); excluded: Coarctation of aorta (HP:0001680); excluded: Patent foramen ovale (HP:0001655); excluded: Myopia (HP:0000545); excluded: Astigmatism (HP:0000483); excluded: Juvenile myelomonocytic leukemia (HP:0012209)</td></tr>\n",
       "<tr><td style=\"text-align: left;\">individual 4-Denayer et al. [22] (MALE; P19Y)</td><td style=\"text-align: left;\">Noonan syndrome 6 (OMIM:613224)</td><td style=\"text-align: left;\">NM_002524.5:c.101C>T (heterozygous)</td><td style=\"text-align: left;\">High forehead (HP:0000348); Downslanted palpebral fissures (HP:0000494); Hypertelorism (HP:0000316); Bruising susceptibility (HP:0000978); Low-set ears (HP:0000369); Posteriorly rotated ears (HP:0000358); excluded: Ptosis (HP:0000508); excluded: Cafe-au-lait spot (HP:0000957); excluded: Short stature (HP:0004322); excluded: Juvenile myelomonocytic leukemia (HP:0012209)</td></tr>\n",
       "<tr><td style=\"text-align: left;\">individual 5-Denayer et al. [22] (MALE; P2Y6M)</td><td style=\"text-align: left;\">Noonan syndrome 6 (OMIM:613224)</td><td style=\"text-align: left;\">NM_002524.5:c.149C>T (heterozygous)</td><td style=\"text-align: left;\">High forehead (HP:0000348); Downslanted palpebral fissures (HP:0000494); Webbed neck (HP:0000465); Hypertelorism (HP:0000316); Coarctation of aorta (HP:0001680); Patent foramen ovale (HP:0001655); Low-set ears (HP:0000369); Posteriorly rotated ears (HP:0000358); Cryptorchidism (HP:0000028); Pectus excavatum (HP:0000767); excluded: Macrocephaly (HP:0000256); excluded: Ptosis (HP:0000508); excluded: Cafe-au-lait spot (HP:0000957); excluded: Premature atrial contractions (HP:0006699); excluded: Short stature (HP:0004322); excluded: Juvenile myelomonocytic leukemia (HP:0012209)</td></tr>\n",
       "<tr><td style=\"text-align: left;\">individual 6-Cirstea et al. [14] (MALE; P14Y)</td><td style=\"text-align: left;\">Noonan syndrome 6 (OMIM:613224)</td><td style=\"text-align: left;\">NM_002524.5:c.149C>T (heterozygous)</td><td style=\"text-align: left;\">Polyhydramnios (HP:0001561); High forehead (HP:0000348); Macrocephaly (HP:0000256); Downslanted palpebral fissures (HP:0000494); Webbed neck (HP:0000465); Hypertelorism (HP:0000316); Keratosis pilaris (HP:0032152); Curly hair (HP:0002212); Hypertrophic cardiomyopathy (HP:0001639); Premature atrial contractions (HP:0006699); Motor delay (HP:0001270); Myopia (HP:0000545); Low-set ears (HP:0000369); Posteriorly rotated ears (HP:0000358); Cryptorchidism (HP:0000028); Pectus excavatum (HP:0000767); excluded: Ptosis (HP:0000508); excluded: Cafe-au-lait spot (HP:0000957); excluded: Bruising susceptibility (HP:0000978); excluded: Single umbilical artery (HP:0001195); excluded: Coarctation of aorta (HP:0001680); excluded: Patent foramen ovale (HP:0001655); excluded: Strabismus (HP:0000486); excluded: Astigmatism (HP:0000483); excluded: Keratoconus (HP:0000563); excluded: Short stature (HP:0004322); excluded: Juvenile myelomonocytic leukemia (HP:0012209)</td></tr>\n",
       "<tr><td style=\"text-align: left;\">individual 7-Cirstea et al. [14] (MALE; P7Y)</td><td style=\"text-align: left;\">Noonan syndrome 6 (OMIM:613224)</td><td style=\"text-align: left;\">NM_002524.5:c.149C>T (heterozygous)</td><td style=\"text-align: left;\">Polyhydramnios (HP:0001561); High forehead (HP:0000348); Downslanted palpebral fissures (HP:0000494); Hypertelorism (HP:0000316); Curly hair (HP:0002212); Pulmonic stenosis (HP:0001642); Motor delay (HP:0001270); Low-set ears (HP:0000369); Posteriorly rotated ears (HP:0000358); Cryptorchidism (HP:0000028); Short stature (HP:0004322); excluded: Macrocephaly (HP:0000256); excluded: Webbed neck (HP:0000465); excluded: Ptosis (HP:0000508); excluded: Keratosis pilaris (HP:0032152); excluded: Cafe-au-lait spot (HP:0000957); excluded: Bruising susceptibility (HP:0000978); excluded: Single umbilical artery (HP:0001195); excluded: Coarctation of aorta (HP:0001680); excluded: Patent foramen ovale (HP:0001655); excluded: Premature atrial contractions (HP:0006699); excluded: Myopia (HP:0000545); excluded: Strabismus (HP:0000486); excluded: Astigmatism (HP:0000483); excluded: Keratoconus (HP:0000563); excluded: Pectus excavatum (HP:0000767); excluded: Juvenile myelomonocytic leukemia (HP:0012209)</td></tr>\n",
       "<tr><td style=\"text-align: left;\">individual 8-Cirstea et al. [14] (FEMALE; P3Y3M)</td><td style=\"text-align: left;\">Noonan syndrome 6 (OMIM:613224)</td><td style=\"text-align: left;\">NM_002524.5:c.179G>A (heterozygous)</td><td style=\"text-align: left;\">High forehead (HP:0000348); Downslanted palpebral fissures (HP:0000494); Webbed neck (HP:0000465); Hypertelorism (HP:0000316); Ptosis (HP:0000508); Keratosis pilaris (HP:0032152); Single umbilical artery (HP:0001195); Hypertrophic cardiomyopathy (HP:0001639); Pulmonic stenosis (HP:0001642); Motor delay (HP:0001270); Low-set ears (HP:0000369); Posteriorly rotated ears (HP:0000358); Pectus excavatum (HP:0000767); Short stature (HP:0004322); excluded: Macrocephaly (HP:0000256); excluded: Curly hair (HP:0002212); excluded: Cafe-au-lait spot (HP:0000957); excluded: Bruising susceptibility (HP:0000978); excluded: Polyhydramnios (HP:0001561); excluded: Coarctation of aorta (HP:0001680); excluded: Patent foramen ovale (HP:0001655); excluded: Premature atrial contractions (HP:0006699); excluded: Myopia (HP:0000545); excluded: Strabismus (HP:0000486); excluded: Astigmatism (HP:0000483); excluded: Keratoconus (HP:0000563); excluded: Juvenile myelomonocytic leukemia (HP:0012209)</td></tr>\n",
       "<tr><td style=\"text-align: left;\">individual 9-Cirstea et al. [14] (MALE; P20Y)</td><td style=\"text-align: left;\">Noonan syndrome 6 (OMIM:613224)</td><td style=\"text-align: left;\">NM_002524.5:c.179G>A (heterozygous)</td><td style=\"text-align: left;\">High forehead (HP:0000348); Macrocephaly (HP:0000256); Downslanted palpebral fissures (HP:0000494); Webbed neck (HP:0000465); Hypertelorism (HP:0000316); Keratosis pilaris (HP:0032152); Curly hair (HP:0002212); Motor delay (HP:0001270); Low-set ears (HP:0000369); Posteriorly rotated ears (HP:0000358); Cryptorchidism (HP:0000028); Pectus excavatum (HP:0000767); excluded: Ptosis (HP:0000508); excluded: Cafe-au-lait spot (HP:0000957); excluded: Bruising susceptibility (HP:0000978); excluded: Polyhydramnios (HP:0001561); excluded: Single umbilical artery (HP:0001195); excluded: Coarctation of aorta (HP:0001680); excluded: Patent foramen ovale (HP:0001655); excluded: Premature atrial contractions (HP:0006699); excluded: Myopia (HP:0000545); excluded: Strabismus (HP:0000486); excluded: Astigmatism (HP:0000483); excluded: Keratoconus (HP:0000563); excluded: Short stature (HP:0004322); excluded: Juvenile myelomonocytic leukemia (HP:0012209)</td></tr>\n",
       "<tr><td style=\"text-align: left;\">individual 9 M-Cirstea et al. [14] (FEMALE; P50Y)</td><td style=\"text-align: left;\">Noonan syndrome 6 (OMIM:613224)</td><td style=\"text-align: left;\">NM_002524.5:c.179G>A (heterozygous)</td><td style=\"text-align: left;\">High forehead (HP:0000348); Macrocephaly (HP:0000256); Downslanted palpebral fissures (HP:0000494); Webbed neck (HP:0000465); Hypertelorism (HP:0000316); Keratosis pilaris (HP:0032152); Motor delay (HP:0001270); Myopia (HP:0000545); Low-set ears (HP:0000369); Posteriorly rotated ears (HP:0000358); Pectus excavatum (HP:0000767); excluded: Ptosis (HP:0000508); excluded: Curly hair (HP:0002212); excluded: Cafe-au-lait spot (HP:0000957); excluded: Bruising susceptibility (HP:0000978); excluded: Polyhydramnios (HP:0001561); excluded: Single umbilical artery (HP:0001195); excluded: Coarctation of aorta (HP:0001680); excluded: Patent foramen ovale (HP:0001655); excluded: Premature atrial contractions (HP:0006699); excluded: Strabismus (HP:0000486); excluded: Astigmatism (HP:0000483); excluded: Keratoconus (HP:0000563); excluded: Short stature (HP:0004322); excluded: Juvenile myelomonocytic leukemia (HP:0012209)</td></tr>\n",
       "<tr><td style=\"text-align: left;\">individual 10-Kraoua et al. [23] (MALE; P24Y)</td><td style=\"text-align: left;\">Noonan syndrome 6 (OMIM:613224)</td><td style=\"text-align: left;\">NM_002524.5:c.179G>A (heterozygous)</td><td style=\"text-align: left;\">Polyhydramnios (HP:0001561); High forehead (HP:0000348); Downslanted palpebral fissures (HP:0000494); Webbed neck (HP:0000465); Hypertelorism (HP:0000316); Ptosis (HP:0000508); Cafe-au-lait spot (HP:0000957); Bruising susceptibility (HP:0000978); Motor delay (HP:0001270); Low-set ears (HP:0000369); Posteriorly rotated ears (HP:0000358); Pectus excavatum (HP:0000767); Short stature (HP:0004322); excluded: Macrocephaly (HP:0000256); excluded: Curly hair (HP:0002212); excluded: Single umbilical artery (HP:0001195); excluded: Coarctation of aorta (HP:0001680); excluded: Patent foramen ovale (HP:0001655); excluded: Premature atrial contractions (HP:0006699); excluded: Myopia (HP:0000545); excluded: Strabismus (HP:0000486); excluded: Astigmatism (HP:0000483); excluded: Keratoconus (HP:0000563); excluded: Cryptorchidism (HP:0000028); excluded: Juvenile myelomonocytic leukemia (HP:0012209)</td></tr>\n",
       "<tr><td style=\"text-align: left;\">individual 11-Kraoua et al. [23] (FEMALE; P3M)</td><td style=\"text-align: left;\">Noonan syndrome 6 (OMIM:613224)</td><td style=\"text-align: left;\">NM_002524.5:c.179G>A (heterozygous)</td><td style=\"text-align: left;\">High forehead (HP:0000348); Downslanted palpebral fissures (HP:0000494); Webbed neck (HP:0000465); Hypertelorism (HP:0000316); Ptosis (HP:0000508); Curly hair (HP:0002212); Cafe-au-lait spot (HP:0000957); Pulmonic stenosis (HP:0001642); Motor delay (HP:0001270); Low-set ears (HP:0000369); Posteriorly rotated ears (HP:0000358); Pectus excavatum (HP:0000767); excluded: Macrocephaly (HP:0000256); excluded: Keratosis pilaris (HP:0032152); excluded: Polyhydramnios (HP:0001561); excluded: Single umbilical artery (HP:0001195); excluded: Coarctation of aorta (HP:0001680); excluded: Patent foramen ovale (HP:0001655); excluded: Premature atrial contractions (HP:0006699); excluded: Myopia (HP:0000545); excluded: Strabismus (HP:0000486); excluded: Astigmatism (HP:0000483); excluded: Keratoconus (HP:0000563); excluded: Short stature (HP:0004322); excluded: Juvenile myelomonocytic leukemia (HP:0012209)</td></tr>\n",
       "<tr><td style=\"text-align: left;\">individual 12-Present study (FEMALE; P28Y)</td><td style=\"text-align: left;\">Noonan syndrome 6 (OMIM:613224)</td><td style=\"text-align: left;\">NM_002524.5:c.179G>A (heterozygous)</td><td style=\"text-align: left;\">High forehead (HP:0000348); Macrocephaly (HP:0000256); Downslanted palpebral fissures (HP:0000494); Webbed neck (HP:0000465); Hypertelorism (HP:0000316); Cafe-au-lait spot (HP:0000957); Bruising susceptibility (HP:0000978); Hypertrophic cardiomyopathy (HP:0001639); Atrial septal defect (HP:0001631); Myopia (HP:0000545); Strabismus (HP:0000486); Astigmatism (HP:0000483); Low-set ears (HP:0000369); Posteriorly rotated ears (HP:0000358); excluded: Ptosis (HP:0000508); excluded: Keratosis pilaris (HP:0032152); excluded: Curly hair (HP:0002212); excluded: Polyhydramnios (HP:0001561); excluded: Single umbilical artery (HP:0001195); excluded: Coarctation of aorta (HP:0001680); excluded: Patent foramen ovale (HP:0001655); excluded: Premature atrial contractions (HP:0006699); excluded: Motor delay (HP:0001270); excluded: Keratoconus (HP:0000563); excluded: Pectus excavatum (HP:0000767); excluded: Short stature (HP:0004322); excluded: Juvenile myelomonocytic leukemia (HP:0012209)</td></tr>\n",
       "<tr><td style=\"text-align: left;\">individual 12 F-Present study (MALE; P62Y)</td><td style=\"text-align: left;\">Noonan syndrome 6 (OMIM:613224)</td><td style=\"text-align: left;\">NM_002524.5:c.179G>A (heterozygous)</td><td style=\"text-align: left;\">High forehead (HP:0000348); Downslanted palpebral fissures (HP:0000494); Webbed neck (HP:0000465); Hypertelorism (HP:0000316); Curly hair (HP:0002212); Cafe-au-lait spot (HP:0000957); Low-set ears (HP:0000369); Posteriorly rotated ears (HP:0000358); excluded: Macrocephaly (HP:0000256); excluded: Ptosis (HP:0000508); excluded: Keratosis pilaris (HP:0032152); excluded: Bruising susceptibility (HP:0000978); excluded: Polyhydramnios (HP:0001561); excluded: Single umbilical artery (HP:0001195); excluded: Coarctation of aorta (HP:0001680); excluded: Patent foramen ovale (HP:0001655); excluded: Premature atrial contractions (HP:0006699); excluded: Motor delay (HP:0001270); excluded: Myopia (HP:0000545); excluded: Strabismus (HP:0000486); excluded: Astigmatism (HP:0000483); excluded: Keratoconus (HP:0000563); excluded: Cryptorchidism (HP:0000028); excluded: Pectus excavatum (HP:0000767); excluded: Short stature (HP:0004322); excluded: Juvenile myelomonocytic leukemia (HP:0012209)</td></tr>\n",
       "</table>"
      ],
      "text/plain": [
       "<IPython.core.display.HTML object>"
      ]
     },
     "metadata": {},
     "output_type": "display_data"
    }
   ],
   "source": [
    "table = IndividualTable(cvalidator.get_error_free_individual_list())\n",
    "display(HTML(table.to_html()))"
   ]
  },
  {
   "cell_type": "code",
   "execution_count": 10,
   "metadata": {},
   "outputs": [
    {
     "name": "stdout",
     "output_type": "stream",
     "text": [
      "[pyphetools] Ingested 14 GA4GH phenopackets.\n",
      "[INFO] Extracted 14 from 14 phenopackets with OMIM:613224\n",
      "\n",
      "\tNoonan syndrome 6 (OMIM:613224): n=14\n",
      "We found a total of 29 unique HPO terms\n",
      "Extracted disease: Noonan syndrome 6 (OMIM:613224)\n",
      "Wrote HPOA disease file to OMIM-613224.tab\n"
     ]
    }
   ],
   "source": [
    "pmid = \"PMID:26467218\"\n",
    "df = timporter.create_hpoa_from_phenopackets(pmid=pmid, moi=\"Autosomal dominant\", target=\"OMIM:613224\")"
   ]
  }
 ],
 "metadata": {
  "kernelspec": {
   "display_name": "ps24venv",
   "language": "python",
   "name": "python3"
  },
  "language_info": {
   "codemirror_mode": {
    "name": "ipython",
    "version": 3
   },
   "file_extension": ".py",
   "mimetype": "text/x-python",
   "name": "python",
   "nbconvert_exporter": "python",
   "pygments_lexer": "ipython3",
   "version": "3.9.6"
  }
 },
 "nbformat": 4,
 "nbformat_minor": 2
}
