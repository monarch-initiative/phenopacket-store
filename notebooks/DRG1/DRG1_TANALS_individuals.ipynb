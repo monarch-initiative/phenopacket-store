{
 "cells": [
  {
   "cell_type": "markdown",
   "metadata": {},
   "source": [
    "# DRG1\n",
    "[Tan-Almurshedi syndrome (TANALS)](https://omim.org/entry/620641) is caused by homozygous or compound heterozygous mutation in the DRG1 gene."
   ]
  },
  {
   "cell_type": "code",
   "execution_count": 4,
   "metadata": {},
   "outputs": [
    {
     "name": "stdout",
     "output_type": "stream",
     "text": [
      "Using pyphetools version 0.9.82\n"
     ]
    }
   ],
   "source": [
    "from pyphetools.creation import TemplateImporter\n",
    "from pyphetools.visualization import IndividualTable, QcVisualizer\n",
    "from IPython.display import display, HTML\n",
    "import pyphetools\n",
    "print(f\"Using pyphetools version {pyphetools.__version__}\")"
   ]
  },
  {
   "cell_type": "code",
   "execution_count": 8,
   "metadata": {},
   "outputs": [],
   "source": [
    "template = \"input/DRG1_TANALS_individuals.xlsx\"\n",
    "created_by = \"0000-0002-0736-9199\""
   ]
  },
  {
   "cell_type": "code",
   "execution_count": 13,
   "metadata": {},
   "outputs": [
    {
     "name": "stdout",
     "output_type": "stream",
     "text": [
      "HPO version 2024-04-26\n",
      "Created encoders for 42 fields\n",
      "Importing OMIM:620641, Tan-Almurshedi syndrome, HGNC:3029, DRG1,  NM_004147.4\n",
      "We output 4 GA4GH phenopackets to the directory phenopackets\n"
     ]
    }
   ],
   "source": [
    "timporter = TemplateImporter(template=template,  created_by=created_by)\n",
    "individual_list, cvalidator = timporter.import_phenopackets_from_template()"
   ]
  },
  {
   "cell_type": "code",
   "execution_count": 14,
   "metadata": {},
   "outputs": [
    {
     "data": {
      "text/html": [
       "<h2>Cohort validation</h2>\n",
       "<p>No errors found for the cohort with 4 individuals</p>"
      ],
      "text/plain": [
       "<IPython.core.display.HTML object>"
      ]
     },
     "metadata": {},
     "output_type": "display_data"
    }
   ],
   "source": [
    "qc = QcVisualizer(cohort_validator=cvalidator)\n",
    "display(HTML(qc.to_summary_html()))"
   ]
  },
  {
   "cell_type": "code",
   "execution_count": 15,
   "metadata": {},
   "outputs": [
    {
     "data": {
      "text/html": [
       "<table style=\"border: 2px solid black; align: \"left\">\n",
       "<caption>4 phenopackets - PMID:37179472 (n=4)</caption>\n",
       "<tr><th style=\"text-align: left;font-weight: bold;\">Individual</th><th style=\"text-align: left;font-weight: bold;\">Disease</th><th style=\"text-align: left;font-weight: bold;\">Genotype</th><th style=\"text-align: left;font-weight: bold;\">Phenotypic features</th></tr>\n",
       "<tr><td style=\"text-align: left;\">Family 1 II:1 (MALE; n/a)</td><td style=\"text-align: left;\">Tan-Almurshedi syndrome (OMIM:620641)</td><td style=\"text-align: left;\">NM_004147.4:c.160G>T (homozygous)</td><td style=\"text-align: left;\">Intrauterine growth retardation (HP:0001511); Eczematoid dermatitis (HP:0000964); Microcephaly (HP:0000252); Failure to thrive (HP:0001508); Short palpebral fissure (HP:0012745); Brachycephaly (HP:0000248); Prominent forehead (HP:0011220); Underdeveloped supraorbital ridges (HP:0009891); Short eyelashes (HP:0010764); Wide nasal bridge (HP:0000431); Low-set ears (HP:0000369); Posteriorly rotated ears (HP:0000358); Everted lower lip vermilion (HP:0000232); Widely spaced teeth (HP:0000687); Proportionate short stature (HP:0003508); Camptodactyly (HP:0012385); Talipes equinovarus (HP:0001762); Neurodevelopmental delay (HP:0012758); Spasticity (HP:0001257); Seizure (HP:0001250); Dry skin (HP:0000958); excluded: Myelomeningocele (HP:0002475)</td></tr>\n",
       "<tr><td style=\"text-align: left;\">Family 1 II:2 (FEMALE; n/a)</td><td style=\"text-align: left;\">Tan-Almurshedi syndrome (OMIM:620641)</td><td style=\"text-align: left;\">NM_004147.4:c.160G>T (homozygous)</td><td style=\"text-align: left;\">Intrauterine growth retardation (HP:0001511); Eczematoid dermatitis (HP:0000964); Microcephaly (HP:0000252); Failure to thrive (HP:0001508); Short palpebral fissure (HP:0012745); Brachycephaly (HP:0000248); Prominent forehead (HP:0011220); Underdeveloped supraorbital ridges (HP:0009891); Short eyelashes (HP:0010764); Wide nasal bridge (HP:0000431); Low-set ears (HP:0000369); Posteriorly rotated ears (HP:0000358); Everted lower lip vermilion (HP:0000232); Widely spaced teeth (HP:0000687); Proportionate short stature (HP:0003508); Camptodactyly (HP:0012385); Talipes equinovarus (HP:0001762); Neurodevelopmental delay (HP:0012758); Spasticity (HP:0001257); Dry skin (HP:0000958); excluded: Seizure (HP:0001250); excluded: Myelomeningocele (HP:0002475)</td></tr>\n",
       "<tr><td style=\"text-align: left;\">Family 2II:6 (FEMALE; n/a)</td><td style=\"text-align: left;\">Tan-Almurshedi syndrome (OMIM:620641)</td><td style=\"text-align: left;\"><ul> <li>NM_004147.4:c.787A>T (heterozygous)</li> <li>NM_004147.4:c.742_743inv (heterozygous)</li> </ul></td><td style=\"text-align: left;\">Intrauterine growth retardation (HP:0001511); Eczematoid dermatitis (HP:0000964); Microcephaly (HP:0000252); Failure to thrive (HP:0001508); Short palpebral fissure (HP:0012745); Brachycephaly (HP:0000248); Prominent forehead (HP:0011220); Underdeveloped supraorbital ridges (HP:0009891); Short eyelashes (HP:0010764); Wide nasal bridge (HP:0000431); Low-set ears (HP:0000369); Widely spaced teeth (HP:0000687); Proportionate short stature (HP:0003508); Camptodactyly (HP:0012385); Recurrent infections (HP:0002719); Increased circulating antibody level (HP:0010702); Autoimmune hemolytic anemia (HP:0001890); Neurodevelopmental delay (HP:0012758); Dry skin (HP:0000958); excluded: Posteriorly rotated ears (HP:0000358); excluded: Everted lower lip vermilion (HP:0000232); excluded: Talipes equinovarus (HP:0001762); excluded: Spasticity (HP:0001257); excluded: Seizure (HP:0001250); excluded: Myelomeningocele (HP:0002475)</td></tr>\n",
       "<tr><td style=\"text-align: left;\">Family 3 II:7 (MALE; n/a)</td><td style=\"text-align: left;\">Tan-Almurshedi syndrome (OMIM:620641)</td><td style=\"text-align: left;\">NM_004147.4:c.418C>T (homozygous)</td><td style=\"text-align: left;\">Intrauterine growth retardation (HP:0001511); Eczematoid dermatitis (HP:0000964); Microcephaly (HP:0000252); Failure to thrive (HP:0001508); Short palpebral fissure (HP:0012745); Brachycephaly (HP:0000248); Prominent forehead (HP:0011220); Underdeveloped supraorbital ridges (HP:0009891); Wide nasal bridge (HP:0000431); Low-set ears (HP:0000369); Posteriorly rotated ears (HP:0000358); Everted lower lip vermilion (HP:0000232); Widely spaced teeth (HP:0000687); Proportionate short stature (HP:0003508); Camptodactyly (HP:0012385); Talipes equinovarus (HP:0001762); Neurodevelopmental delay (HP:0012758); Myelomeningocele (HP:0002475); excluded: Short eyelashes (HP:0010764); excluded: Recurrent infections (HP:0002719); excluded: Increased circulating antibody level (HP:0010702); excluded: Autoimmune hemolytic anemia (HP:0001890); excluded: Spasticity (HP:0001257); excluded: Seizure (HP:0001250); excluded: Dry skin (HP:0000958)</td></tr>\n",
       "</table>"
      ],
      "text/plain": [
       "<IPython.core.display.HTML object>"
      ]
     },
     "metadata": {},
     "output_type": "display_data"
    }
   ],
   "source": [
    "table = IndividualTable(cvalidator.get_error_free_individual_list())\n",
    "display(HTML(table.to_html()))"
   ]
  },
  {
   "cell_type": "code",
   "execution_count": 16,
   "metadata": {},
   "outputs": [
    {
     "name": "stdout",
     "output_type": "stream",
     "text": [
      "[pyphetools] Ingested 4 GA4GH phenopackets.\n",
      "\tTan-Almurshedi syndrome (OMIM:620641): n=4\n",
      "We found a total of 25 unique HPO terms\n",
      "Extracted disease: Tan-Almurshedi syndrome (OMIM:620641)\n",
      "Wrote HPOA disease file to OMIM-620641.tab\n"
     ]
    }
   ],
   "source": [
    "pmid = \"PMID:37179472\"\n",
    "df = timporter.create_hpoa_from_phenopackets(pmid=pmid, moi=\"Autosomal recessive\")"
   ]
  }
 ],
 "metadata": {
  "kernelspec": {
   "display_name": "ps24venv",
   "language": "python",
   "name": "python3"
  },
  "language_info": {
   "codemirror_mode": {
    "name": "ipython",
    "version": 3
   },
   "file_extension": ".py",
   "mimetype": "text/x-python",
   "name": "python",
   "nbconvert_exporter": "python",
   "pygments_lexer": "ipython3",
   "version": "3.9.6"
  }
 },
 "nbformat": 4,
 "nbformat_minor": 2
}
