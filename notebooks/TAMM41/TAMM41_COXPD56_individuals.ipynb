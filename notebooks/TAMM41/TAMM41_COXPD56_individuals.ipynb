{
 "cells": [
  {
   "cell_type": "markdown",
   "metadata": {},
   "source": [
    "# TAMM41\n",
    "[ombined oxidative phosphorylation deficiency-56 (COXPD56)](https://omim.org/entry/620139) is caused by compound heterozygous mutation in the TAMM41 gene."
   ]
  },
  {
   "cell_type": "code",
   "execution_count": 1,
   "metadata": {},
   "outputs": [
    {
     "name": "stdout",
     "output_type": "stream",
     "text": [
      "Using pyphetools version 0.9.97\n"
     ]
    }
   ],
   "source": [
    "from pyphetools.creation import TemplateImporter, Moi\n",
    "from pyphetools.visualization import IndividualTable, QcVisualizer\n",
    "from IPython.display import display, HTML\n",
    "import pyphetools\n",
    "print(f\"Using pyphetools version {pyphetools.__version__}\")"
   ]
  },
  {
   "cell_type": "code",
   "execution_count": 2,
   "metadata": {},
   "outputs": [],
   "source": [
    "template = \"input/TAMM41_COXPD56_individuals.xlsx\"\n",
    "created_by = \"0000-0002-0736-9199\""
   ]
  },
  {
   "cell_type": "code",
   "execution_count": 6,
   "metadata": {},
   "outputs": [
    {
     "name": "stdout",
     "output_type": "stream",
     "text": [
      "HPO version 2024-07-01\n",
      "Created encoders for 37 fields\n",
      "Importing OMIM:620139, Combined oxidative phosphorylation deficiency 56, HGNC:251871, TAMM4,  NM_001284401.2\n",
      "We output 3 GA4GH phenopackets to the directory phenopackets\n"
     ]
    }
   ],
   "source": [
    "timporter = TemplateImporter(template=template,  created_by=created_by)\n",
    "individual_list, cvalidator = timporter.import_phenopackets_from_template()"
   ]
  },
  {
   "cell_type": "code",
   "execution_count": 7,
   "metadata": {},
   "outputs": [
    {
     "data": {
      "text/html": [
       "<h2>Cohort validation</h2>\n",
       "<p>No errors found for the cohort with 3 individuals</p>"
      ],
      "text/plain": [
       "<IPython.core.display.HTML object>"
      ]
     },
     "metadata": {},
     "output_type": "display_data"
    }
   ],
   "source": [
    "qc = QcVisualizer(cohort_validator=cvalidator)\n",
    "display(HTML(qc.to_summary_html()))"
   ]
  },
  {
   "cell_type": "code",
   "execution_count": 8,
   "metadata": {},
   "outputs": [
    {
     "data": {
      "text/html": [
       "<table style=\"border: 2px solid black; align: \"left\">\n",
       "<caption>3 phenopackets - PMID:35321494 (n=3)</caption>\n",
       "<tr><th style=\"text-align: left;font-weight: bold;\">Individual</th><th style=\"text-align: left;font-weight: bold;\">Disease</th><th style=\"text-align: left;font-weight: bold;\">Genotype</th><th style=\"text-align: left;font-weight: bold;\">Phenotypic features</th></tr>\n",
       "<tr><td style=\"text-align: left;\">Subject 1 (FEMALE; P11Y)</td><td style=\"text-align: left;\">Combined oxidative phosphorylation deficiency 56 (OMIM:620139)</td><td style=\"text-align: left;\"><ul> <li>NM_001284401.2:c.410C>T (heterozygous)</li> <li>NM_001284401.2:c.709-2A>G (heterozygous)</li> </ul></td><td style=\"text-align: left;\">Lethargy (HP:0001254); Failure to thrive (HP:0001508); Progressive external ophthalmoplegia (HP:0000590); Hypotonia (HP:0001252); Global developmental delay (HP:0001263); Proximal muscle weakness (HP:0003701); Ptosis (HP:0000508); Dysphagia (HP:0002015); Areflexia (HP:0001284); Elevated circulating creatine kinase concentration (HP:0003236); Delayed gross motor development (HP:0002194); Decreased activity of mitochondrial complex I (HP:0011923); Decreased activity of mitochondrial complex IV (HP:0008347); Methylmalonic aciduria (HP:0012120); Lacticaciduria (HP:0003648); Ketonuria (HP:0002919); excluded: Decreased activity of mitochondrial complex III (HP:0011924); excluded: Type 1 muscle fiber predominance (HP:0003803); excluded: Increased variability in muscle fiber diameter (HP:0003557); excluded: Respiratory failure (HP:0002878)</td></tr>\n",
       "<tr><td style=\"text-align: left;\">Subject 2 (FEMALE; P12Y)</td><td style=\"text-align: left;\">Combined oxidative phosphorylation deficiency 56 (OMIM:620139)</td><td style=\"text-align: left;\"><ul> <li>NM_001284401.2:c.256T>C (heterozygous)</li> <li>NM_001284401.2:c.411+1G>T (heterozygous)</li> </ul></td><td style=\"text-align: left;\"><b>P2Y</b>: Proximal muscle weakness (HP:0003701)<br/>Lethargy (HP:0001254); Hypotonia (HP:0001252); Global developmental delay (HP:0001263); Ptosis (HP:0000508); Areflexia (HP:0001284); Elevated circulating creatine kinase concentration (HP:0003236); Type 1 muscle fiber predominance (HP:0003803); Increased variability in muscle fiber diameter (HP:0003557); excluded: Progressive external ophthalmoplegia (HP:0000590); excluded: Dysphagia (HP:0002015); excluded: Failure to thrive (HP:0001508); excluded: Respiratory failure (HP:0002878)</td></tr>\n",
       "<tr><td style=\"text-align: left;\">Subject 3 (FEMALE; P3M)</td><td style=\"text-align: left;\">Combined oxidative phosphorylation deficiency 56 (OMIM:620139)</td><td style=\"text-align: left;\"><ul> <li>NM_001284401.2:c.329A>G (heterozygous)</li> <li>NM_001284401.2:c.806dup (heterozygous)</li> </ul></td><td style=\"text-align: left;\"><b>P3M</b>: Respiratory failure (HP:0002878)<br/>Lethargy (HP:0001254); Hypotonia (HP:0001252); Global developmental delay (HP:0001263); Ptosis (HP:0000508); Dysphagia (HP:0002015); Decreased activity of mitochondrial complex I (HP:0011923); Decreased activity of mitochondrial complex III (HP:0011924); Decreased activity of mitochondrial complex IV (HP:0008347); excluded: Failure to thrive (HP:0001508); excluded: Methylmalonic aciduria (HP:0012120); excluded: Lacticaciduria (HP:0003648); excluded: Ketonuria (HP:0002919)</td></tr>\n",
       "</table>"
      ],
      "text/plain": [
       "<IPython.core.display.HTML object>"
      ]
     },
     "metadata": {},
     "output_type": "display_data"
    }
   ],
   "source": [
    "table = IndividualTable(cvalidator.get_error_free_individual_list())\n",
    "display(HTML(table.to_html()))"
   ]
  },
  {
   "cell_type": "code",
   "execution_count": 10,
   "metadata": {},
   "outputs": [
    {
     "name": "stdout",
     "output_type": "stream",
     "text": [
      "[pyphetools] Ingested 3 GA4GH phenopackets.\n",
      "[INFO] Extracted 3 from 3 phenopackets with OMIM:620139\n",
      "\n",
      "\tCombined oxidative phosphorylation deficiency 56 (OMIM:620139): n=3\n",
      "We found a total of 20 unique HPO terms\n",
      "Extracted disease: Combined oxidative phosphorylation deficiency 56 (OMIM:620139)\n",
      "Wrote HPOA disease file to OMIM-620139.tab\n"
     ]
    },
    {
     "data": {
      "text/html": [
       "<div>\n",
       "<style scoped>\n",
       "    .dataframe tbody tr th:only-of-type {\n",
       "        vertical-align: middle;\n",
       "    }\n",
       "\n",
       "    .dataframe tbody tr th {\n",
       "        vertical-align: top;\n",
       "    }\n",
       "\n",
       "    .dataframe thead th {\n",
       "        text-align: right;\n",
       "    }\n",
       "</style>\n",
       "<table border=\"1\" class=\"dataframe\">\n",
       "  <thead>\n",
       "    <tr style=\"text-align: right;\">\n",
       "      <th></th>\n",
       "      <th>#diseaseID</th>\n",
       "      <th>diseaseName</th>\n",
       "      <th>phenotypeID</th>\n",
       "      <th>phenotypeName</th>\n",
       "      <th>onsetID</th>\n",
       "      <th>onsetName</th>\n",
       "      <th>frequency</th>\n",
       "      <th>sex</th>\n",
       "      <th>negation</th>\n",
       "      <th>modifier</th>\n",
       "      <th>description</th>\n",
       "      <th>publication</th>\n",
       "      <th>evidence</th>\n",
       "      <th>biocuration</th>\n",
       "    </tr>\n",
       "  </thead>\n",
       "  <tbody>\n",
       "    <tr>\n",
       "      <th>0</th>\n",
       "      <td>OMIM:620139</td>\n",
       "      <td>Combined oxidative phosphorylation deficiency 56</td>\n",
       "      <td>HP:0001254</td>\n",
       "      <td>Lethargy</td>\n",
       "      <td></td>\n",
       "      <td></td>\n",
       "      <td>3/3</td>\n",
       "      <td></td>\n",
       "      <td></td>\n",
       "      <td></td>\n",
       "      <td></td>\n",
       "      <td>PMID:35321494</td>\n",
       "      <td>PCS</td>\n",
       "      <td>ORCID:0000-0002-0736-9199[2024-08-12]</td>\n",
       "    </tr>\n",
       "    <tr>\n",
       "      <th>1</th>\n",
       "      <td>OMIM:620139</td>\n",
       "      <td>Combined oxidative phosphorylation deficiency 56</td>\n",
       "      <td>HP:0001252</td>\n",
       "      <td>Hypotonia</td>\n",
       "      <td></td>\n",
       "      <td></td>\n",
       "      <td>3/3</td>\n",
       "      <td></td>\n",
       "      <td></td>\n",
       "      <td></td>\n",
       "      <td></td>\n",
       "      <td>PMID:35321494</td>\n",
       "      <td>PCS</td>\n",
       "      <td>ORCID:0000-0002-0736-9199[2024-08-12]</td>\n",
       "    </tr>\n",
       "    <tr>\n",
       "      <th>2</th>\n",
       "      <td>OMIM:620139</td>\n",
       "      <td>Combined oxidative phosphorylation deficiency 56</td>\n",
       "      <td>HP:0003701</td>\n",
       "      <td>Proximal muscle weakness</td>\n",
       "      <td></td>\n",
       "      <td></td>\n",
       "      <td>2/2</td>\n",
       "      <td></td>\n",
       "      <td></td>\n",
       "      <td></td>\n",
       "      <td></td>\n",
       "      <td>PMID:35321494</td>\n",
       "      <td>PCS</td>\n",
       "      <td>ORCID:0000-0002-0736-9199[2024-08-12]</td>\n",
       "    </tr>\n",
       "    <tr>\n",
       "      <th>3</th>\n",
       "      <td>OMIM:620139</td>\n",
       "      <td>Combined oxidative phosphorylation deficiency 56</td>\n",
       "      <td>HP:0001263</td>\n",
       "      <td>Global developmental delay</td>\n",
       "      <td></td>\n",
       "      <td></td>\n",
       "      <td>3/3</td>\n",
       "      <td></td>\n",
       "      <td></td>\n",
       "      <td></td>\n",
       "      <td></td>\n",
       "      <td>PMID:35321494</td>\n",
       "      <td>PCS</td>\n",
       "      <td>ORCID:0000-0002-0736-9199[2024-08-12]</td>\n",
       "    </tr>\n",
       "    <tr>\n",
       "      <th>4</th>\n",
       "      <td>OMIM:620139</td>\n",
       "      <td>Combined oxidative phosphorylation deficiency 56</td>\n",
       "      <td>HP:0000508</td>\n",
       "      <td>Ptosis</td>\n",
       "      <td></td>\n",
       "      <td></td>\n",
       "      <td>3/3</td>\n",
       "      <td></td>\n",
       "      <td></td>\n",
       "      <td></td>\n",
       "      <td></td>\n",
       "      <td>PMID:35321494</td>\n",
       "      <td>PCS</td>\n",
       "      <td>ORCID:0000-0002-0736-9199[2024-08-12]</td>\n",
       "    </tr>\n",
       "  </tbody>\n",
       "</table>\n",
       "</div>"
      ],
      "text/plain": [
       "    #diseaseID                                       diseaseName phenotypeID  \\\n",
       "0  OMIM:620139  Combined oxidative phosphorylation deficiency 56  HP:0001254   \n",
       "1  OMIM:620139  Combined oxidative phosphorylation deficiency 56  HP:0001252   \n",
       "2  OMIM:620139  Combined oxidative phosphorylation deficiency 56  HP:0003701   \n",
       "3  OMIM:620139  Combined oxidative phosphorylation deficiency 56  HP:0001263   \n",
       "4  OMIM:620139  Combined oxidative phosphorylation deficiency 56  HP:0000508   \n",
       "\n",
       "                phenotypeName onsetID onsetName frequency sex negation  \\\n",
       "0                    Lethargy                         3/3                \n",
       "1                   Hypotonia                         3/3                \n",
       "2    Proximal muscle weakness                         2/2                \n",
       "3  Global developmental delay                         3/3                \n",
       "4                      Ptosis                         3/3                \n",
       "\n",
       "  modifier description    publication evidence  \\\n",
       "0                       PMID:35321494      PCS   \n",
       "1                       PMID:35321494      PCS   \n",
       "2                       PMID:35321494      PCS   \n",
       "3                       PMID:35321494      PCS   \n",
       "4                       PMID:35321494      PCS   \n",
       "\n",
       "                             biocuration  \n",
       "0  ORCID:0000-0002-0736-9199[2024-08-12]  \n",
       "1  ORCID:0000-0002-0736-9199[2024-08-12]  \n",
       "2  ORCID:0000-0002-0736-9199[2024-08-12]  \n",
       "3  ORCID:0000-0002-0736-9199[2024-08-12]  \n",
       "4  ORCID:0000-0002-0736-9199[2024-08-12]  "
      ]
     },
     "execution_count": 10,
     "metadata": {},
     "output_type": "execute_result"
    }
   ],
   "source": [
    "pmid = \"PMID:35321494\"\n",
    "df = timporter.create_hpoa_from_phenopackets(pmid=pmid, mode_of_inheritance=Moi.AR, target=\"OMIM:620139\")\n",
    "df.head()"
   ]
  },
  {
   "cell_type": "code",
   "execution_count": null,
   "metadata": {},
   "outputs": [],
   "source": []
  }
 ],
 "metadata": {
  "kernelspec": {
   "display_name": "ps24venv",
   "language": "python",
   "name": "python3"
  },
  "language_info": {
   "codemirror_mode": {
    "name": "ipython",
    "version": 3
   },
   "file_extension": ".py",
   "mimetype": "text/x-python",
   "name": "python",
   "nbconvert_exporter": "python",
   "pygments_lexer": "ipython3",
   "version": "3.12.4"
  }
 },
 "nbformat": 4,
 "nbformat_minor": 2
}
