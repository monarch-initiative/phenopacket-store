{
 "cells": [
  {
   "cell_type": "markdown",
   "metadata": {},
   "source": [
    "# FOXE1\n",
    "[Bamforth-Lazarus syndrome (BAMLAZ)](https://omim.org/entry/241850) is caused by homozygous mutation in the FKHL15 gene."
   ]
  },
  {
   "cell_type": "code",
   "execution_count": 3,
   "metadata": {},
   "outputs": [
    {
     "name": "stdout",
     "output_type": "stream",
     "text": [
      "Using pyphetools version 0.9.82\n"
     ]
    }
   ],
   "source": [
    "from pyphetools.creation import TemplateImporter\n",
    "from pyphetools.visualization import IndividualTable, QcVisualizer\n",
    "from IPython.display import display, HTML\n",
    "import pyphetools\n",
    "print(f\"Using pyphetools version {pyphetools.__version__}\")"
   ]
  },
  {
   "cell_type": "code",
   "execution_count": 6,
   "metadata": {},
   "outputs": [],
   "source": [
    "template = \"input/FOXE1_BAMLAZ_individuals.xlsx\"\n",
    "created_by = \"0000-0002-0736-9199\""
   ]
  },
  {
   "cell_type": "code",
   "execution_count": 10,
   "metadata": {},
   "outputs": [
    {
     "name": "stdout",
     "output_type": "stream",
     "text": [
      "HPO version 2024-04-26\n",
      "Created encoders for 34 fields\n",
      "Importing OMIM:241850, Bamforth-Lazarus syndrome, HGNC:3806, FOXE1,  NM_004473.4\n",
      "[INFO] encoding variant \"c.141dup\"\n",
      "https://rest.variantvalidator.org/VariantValidator/variantvalidator/hg38/NM_004473.4%3Ac.141dup/NM_004473.4?content-type=application%2Fjson\n",
      "We output 7 GA4GH phenopackets to the directory phenopackets\n"
     ]
    }
   ],
   "source": [
    "timporter = TemplateImporter(template=template,  created_by=created_by)\n",
    "individual_list, cvalidator = timporter.import_phenopackets_from_template()"
   ]
  },
  {
   "cell_type": "code",
   "execution_count": 11,
   "metadata": {},
   "outputs": [
    {
     "data": {
      "text/html": [
       "<h2>Cohort validation</h2>\n",
       "<p>No errors found for the cohort with 7 individuals</p>"
      ],
      "text/plain": [
       "<IPython.core.display.HTML object>"
      ]
     },
     "metadata": {},
     "output_type": "display_data"
    }
   ],
   "source": [
    "qc = QcVisualizer(cohort_validator=cvalidator)\n",
    "display(HTML(qc.to_summary_html()))"
   ]
  },
  {
   "cell_type": "code",
   "execution_count": 12,
   "metadata": {},
   "outputs": [
    {
     "data": {
      "text/html": [
       "<table style=\"border: 2px solid black; align: \"left\">\n",
       "<caption>7 phenopackets - PMID:9697705 (n=2); PMID:12165566 (n=2); PMID:16882747 (n=1); PMID:24219130 (n=1); PMID:35963604 (n=1)</caption>\n",
       "<tr><th style=\"text-align: left;font-weight: bold;\">Individual</th><th style=\"text-align: left;font-weight: bold;\">Disease</th><th style=\"text-align: left;font-weight: bold;\">Genotype</th><th style=\"text-align: left;font-weight: bold;\">Phenotypic features</th></tr>\n",
       "<tr><td style=\"text-align: left;\">proband (MALE; P16Y)</td><td style=\"text-align: left;\">Bamforth-Lazarus syndrome (OMIM:241850)</td><td style=\"text-align: left;\">NM_004473.4:c.194C>T (homozygous)</td><td style=\"text-align: left;\">Bifid epiglottis (HP:0010564); Cleft palate (HP:0000175); Choanal atresia (HP:0000453); Hypothyroidism (HP:0000821); Thyroid agenesis (HP:0008191); Decreased circulating T4 concentration (HP:0031507); excluded: Global developmental delay (HP:0001263); excluded: Low-set ears (HP:0000369); excluded: Posteriorly rotated ears (HP:0000358)</td></tr>\n",
       "<tr><td style=\"text-align: left;\">brother (MALE; P13Y)</td><td style=\"text-align: left;\">Bamforth-Lazarus syndrome (OMIM:241850)</td><td style=\"text-align: left;\">NM_004473.4:c.194C>T (homozygous)</td><td style=\"text-align: left;\">Bifid epiglottis (HP:0010564); Cleft palate (HP:0000175); Choanal atresia (HP:0000453); Hypothyroidism (HP:0000821); Thyroid agenesis (HP:0008191); Decreased circulating T4 concentration (HP:0031507); excluded: Global developmental delay (HP:0001263); excluded: Low-set ears (HP:0000369); excluded: Posteriorly rotated ears (HP:0000358)</td></tr>\n",
       "<tr><td style=\"text-align: left;\">IV-5 (MALE; P28Y)</td><td style=\"text-align: left;\">Bamforth-Lazarus syndrome (OMIM:241850)</td><td style=\"text-align: left;\">NM_004473.4:c.170G>A (homozygous)</td><td style=\"text-align: left;\">Cleft palate (HP:0000175); Hypothyroidism (HP:0000821); Thyroid agenesis (HP:0008191); Decreased circulating T4 concentration (HP:0031507); Global developmental delay (HP:0001263); Delayed skeletal maturation (HP:0002750); Hypertelorism (HP:0000316); Low-set ears (HP:0000369); Posteriorly rotated ears (HP:0000358); excluded: Bifid epiglottis (HP:0010564); excluded: Choanal atresia (HP:0000453); excluded: Anti-thyroid antibody positivity (HP:0430050)</td></tr>\n",
       "<tr><td style=\"text-align: left;\">IV-11 (MALE; P18Y)</td><td style=\"text-align: left;\">Bamforth-Lazarus syndrome (OMIM:241850)</td><td style=\"text-align: left;\">NM_004473.4:c.170G>A (homozygous)</td><td style=\"text-align: left;\">Cleft palate (HP:0000175); Hypothyroidism (HP:0000821); Thyroid agenesis (HP:0008191); Decreased circulating T4 concentration (HP:0031507); Elevated circulating thyroid-stimulating hormone concentration (HP:0002925); excluded: Bifid epiglottis (HP:0010564); excluded: Choanal atresia (HP:0000453); excluded: Low-set ears (HP:0000369); excluded: Posteriorly rotated ears (HP:0000358)</td></tr>\n",
       "<tr><td style=\"text-align: left;\">proband (FEMALE; P1Y7M)</td><td style=\"text-align: left;\">Bamforth-Lazarus syndrome (OMIM:241850)</td><td style=\"text-align: left;\">NM_004473.4:c.304C>T (homozygous)</td><td style=\"text-align: left;\">Cleft palate (HP:0000175); Choanal atresia (HP:0000453); Decreased circulating T4 concentration (HP:0031507); Elevated circulating thyroid-stimulating hormone concentration (HP:0002925); Hypothyroidism (HP:0000821); Decreased circulating thyroglobulin concentration (HP:6000244); excluded: Thyroid agenesis (HP:0008191); excluded: Bifid epiglottis (HP:0010564); excluded: Low-set ears (HP:0000369); excluded: Posteriorly rotated ears (HP:0000358)</td></tr>\n",
       "<tr><td style=\"text-align: left;\">boy (MALE; P1M)</td><td style=\"text-align: left;\">Bamforth-Lazarus syndrome (OMIM:241850)</td><td style=\"text-align: left;\">NM_004473.4:c.217C>A (homozygous)</td><td style=\"text-align: left;\"><b>P1M</b>: Hypersomnia (HP:0100786); Feeding difficulties (HP:0011968)<br/>Cleft palate (HP:0000175); Choanal atresia (HP:0000453); Thyroid agenesis (HP:0008191); Hypothyroidism (HP:0000821); excluded: Bifid epiglottis (HP:0010564); excluded: Low-set ears (HP:0000369); excluded: Posteriorly rotated ears (HP:0000358)</td></tr>\n",
       "<tr><td style=\"text-align: left;\">proband (MALE; P18Y)</td><td style=\"text-align: left;\">Bamforth-Lazarus syndrome (OMIM:241850)</td><td style=\"text-align: left;\">NM_004473.4:c.145dup (homozygous)</td><td style=\"text-align: left;\">Cleft palate (HP:0000175); Feeding difficulties (HP:0011968); Thyroid agenesis (HP:0008191); Hypothyroidism (HP:0000821); Global developmental delay (HP:0001263); Posteriorly rotated ears (HP:0000358); excluded: Bifid epiglottis (HP:0010564); excluded: Anti-thyroid antibody positivity (HP:0430050); excluded: Low-set ears (HP:0000369)</td></tr>\n",
       "</table>"
      ],
      "text/plain": [
       "<IPython.core.display.HTML object>"
      ]
     },
     "metadata": {},
     "output_type": "display_data"
    }
   ],
   "source": [
    "table = IndividualTable(cvalidator.get_error_free_individual_list())\n",
    "display(HTML(table.to_html()))"
   ]
  },
  {
   "cell_type": "code",
   "execution_count": 13,
   "metadata": {},
   "outputs": [
    {
     "name": "stdout",
     "output_type": "stream",
     "text": [
      "[pyphetools] Ingested 7 GA4GH phenopackets.\n",
      "\tBamforth-Lazarus syndrome (OMIM:241850): n=7\n",
      "We found a total of 16 unique HPO terms\n",
      "Extracted disease: Bamforth-Lazarus syndrome (OMIM:241850)\n",
      "Wrote HPOA disease file to OMIM-241850.tab\n"
     ]
    }
   ],
   "source": [
    "pmid = \"PMID:9697705\"\n",
    "df = timporter.create_hpoa_from_phenopackets(pmid=pmid, moi=\"Autosomal recessive\")"
   ]
  }
 ],
 "metadata": {
  "kernelspec": {
   "display_name": "ps24venv",
   "language": "python",
   "name": "python3"
  },
  "language_info": {
   "codemirror_mode": {
    "name": "ipython",
    "version": 3
   },
   "file_extension": ".py",
   "mimetype": "text/x-python",
   "name": "python",
   "nbconvert_exporter": "python",
   "pygments_lexer": "ipython3",
   "version": "3.9.6"
  }
 },
 "nbformat": 4,
 "nbformat_minor": 2
}
