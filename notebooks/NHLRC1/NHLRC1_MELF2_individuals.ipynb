{
 "cells": [
  {
   "cell_type": "markdown",
   "metadata": {},
   "source": [
    "# NHLRC1\n",
    "[myoclonic epilepsy of Lafora-2 (MELF2), also known as progressive myoclonic epilepsy-2B (EPM2B)](https://omim.org/entry/620681) , is caused by homozygous or compound heterozygous mutation in the NHLRC1 gene."
   ]
  },
  {
   "cell_type": "code",
   "execution_count": 1,
   "metadata": {},
   "outputs": [
    {
     "name": "stdout",
     "output_type": "stream",
     "text": [
      "Using pyphetools version 0.9.83\n"
     ]
    },
    {
     "name": "stderr",
     "output_type": "stream",
     "text": [
      "/Users/robin/GIT/phenopacket-store/ps24venv/lib/python3.9/site-packages/urllib3/__init__.py:35: NotOpenSSLWarning: urllib3 v2 only supports OpenSSL 1.1.1+, currently the 'ssl' module is compiled with 'LibreSSL 2.8.3'. See: https://github.com/urllib3/urllib3/issues/3020\n",
      "  warnings.warn(\n"
     ]
    }
   ],
   "source": [
    "from pyphetools.creation import TemplateImporter\n",
    "from pyphetools.visualization import IndividualTable, QcVisualizer\n",
    "from IPython.display import display, HTML\n",
    "import pyphetools\n",
    "print(f\"Using pyphetools version {pyphetools.__version__}\")"
   ]
  },
  {
   "cell_type": "code",
   "execution_count": 2,
   "metadata": {},
   "outputs": [],
   "source": [
    "template = \"input/NHLRC1_MELF2_individuals.xlsx\"\n",
    "created_by = \"0000-0002-0736-9199\""
   ]
  },
  {
   "cell_type": "code",
   "execution_count": 3,
   "metadata": {},
   "outputs": [
    {
     "name": "stdout",
     "output_type": "stream",
     "text": [
      "HPO version 2024-04-26\n",
      "Created encoders for 32 fields\n",
      "Importing OMIM:620681, Myoclonic epilepsy of Lafora 2, HGNC:21576, NHLRC1,  NM_198586.3\n",
      "We output 22 GA4GH phenopackets to the directory phenopackets\n"
     ]
    }
   ],
   "source": [
    "timporter = TemplateImporter(template=template,  created_by=created_by)\n",
    "individual_list, cvalidator = timporter.import_phenopackets_from_template()"
   ]
  },
  {
   "cell_type": "code",
   "execution_count": 4,
   "metadata": {},
   "outputs": [
    {
     "data": {
      "text/html": [
       "<h2>Cohort validation</h2>\n",
       "<p>No errors found for the cohort with 22 individuals</p>"
      ],
      "text/plain": [
       "<IPython.core.display.HTML object>"
      ]
     },
     "metadata": {},
     "output_type": "display_data"
    }
   ],
   "source": [
    "qc = QcVisualizer(cohort_validator=cvalidator)\n",
    "display(HTML(qc.to_summary_html()))"
   ]
  },
  {
   "cell_type": "code",
   "execution_count": 5,
   "metadata": {},
   "outputs": [
    {
     "data": {
      "text/html": [
       "<table style=\"border: 2px solid black; align: \"left\">\n",
       "<caption>22 phenopackets - PMID:16021330 (n=5); PMID:15781812 (n=17)</caption>\n",
       "<tr><th style=\"text-align: left;font-weight: bold;\">Individual</th><th style=\"text-align: left;font-weight: bold;\">Disease</th><th style=\"text-align: left;font-weight: bold;\">Genotype</th><th style=\"text-align: left;font-weight: bold;\">Phenotypic features</th></tr>\n",
       "<tr><td style=\"text-align: left;\">SIZ545 (1) (UNKNOWN; n/a)</td><td style=\"text-align: left;\">Myoclonic epilepsy of Lafora 2 (OMIM:620681)</td><td style=\"text-align: left;\">NM_198586.3:c.459T>G (homozygous)</td><td style=\"text-align: left;\"><b>P9Y</b>: Bilateral tonic-clonic seizure (HP:0002069); Myoclonic seizure (HP:0032794)<br/><b>P15Y</b>: Progressive neurologic deterioration (HP:0002344)<br/>Lafora bodies (HP:0100318); excluded: Atonic seizure (HP:0010819); excluded: Tonic seizure (HP:0032792); excluded: Typical absence seizure (HP:0011147); excluded: Focal impaired awareness seizure (HP:0002384)</td></tr>\n",
       "<tr><td style=\"text-align: left;\">LDJP12 (1) (UNKNOWN; n/a)</td><td style=\"text-align: left;\">Myoclonic epilepsy of Lafora 2 (OMIM:620681)</td><td style=\"text-align: left;\">NM_198586.3:c.478T>C (homozygous)</td><td style=\"text-align: left;\"><b>P7Y</b>: Bilateral tonic-clonic seizure (HP:0002069)<br/><b>P15Y</b>: Myoclonic seizure (HP:0032794); Progressive neurologic deterioration (HP:0002344)<br/>excluded: Atonic seizure (HP:0010819); excluded: Tonic seizure (HP:0032792); excluded: Typical absence seizure (HP:0011147); excluded: Focal impaired awareness seizure (HP:0002384)</td></tr>\n",
       "<tr><td style=\"text-align: left;\">LDJP11 (1) (UNKNOWN; n/a)</td><td style=\"text-align: left;\">Myoclonic epilepsy of Lafora 2 (OMIM:620681)</td><td style=\"text-align: left;\">NM_198586.3:c.655T>C (homozygous)</td><td style=\"text-align: left;\"><b>P12Y</b>: Bilateral tonic-clonic seizure (HP:0002069)<br/><b>P13Y</b>: Progressive neurologic deterioration (HP:0002344)<br/><b>P14Y</b>: Myoclonic seizure (HP:0032794)<br/>Lafora bodies (HP:0100318); excluded: Atonic seizure (HP:0010819); excluded: Tonic seizure (HP:0032792); excluded: Typical absence seizure (HP:0011147); excluded: Focal impaired awareness seizure (HP:0002384)</td></tr>\n",
       "<tr><td style=\"text-align: left;\">LDJP1 (1) (UNKNOWN; n/a)</td><td style=\"text-align: left;\">Myoclonic epilepsy of Lafora 2 (OMIM:620681)</td><td style=\"text-align: left;\"><ul> <li>NM_198586.3:c.733G>A (heterozygous)</li> <li>NM_198586.3:c.758G>A (heterozygous)</li> </ul></td><td style=\"text-align: left;\"><b>P12Y</b>: Bilateral tonic-clonic seizure (HP:0002069)<br/><b>P14Y</b>: Myoclonic seizure (HP:0032794); Progressive neurologic deterioration (HP:0002344)<br/>Lafora bodies (HP:0100318); excluded: Atonic seizure (HP:0010819); excluded: Tonic seizure (HP:0032792); excluded: Typical absence seizure (HP:0011147); excluded: Focal impaired awareness seizure (HP:0002384)</td></tr>\n",
       "<tr><td style=\"text-align: left;\">LDJP2 (1) (UNKNOWN; n/a)</td><td style=\"text-align: left;\">Myoclonic epilepsy of Lafora 2 (OMIM:620681)</td><td style=\"text-align: left;\">NM_198586.3:c.898del (homozygous)</td><td style=\"text-align: left;\"><b>P11Y</b>: Bilateral tonic-clonic seizure (HP:0002069)<br/><b>P14Y</b>: Progressive neurologic deterioration (HP:0002344)<br/><b>P15Y</b>: Myoclonic seizure (HP:0032794)<br/>Lafora bodies (HP:0100318); excluded: Atonic seizure (HP:0010819); excluded: Tonic seizure (HP:0032792); excluded: Typical absence seizure (HP:0011147); excluded: Focal impaired awareness seizure (HP:0002384)</td></tr>\n",
       "<tr><td style=\"text-align: left;\">individual 103 (UNKNOWN; n/a)</td><td style=\"text-align: left;\">Myoclonic epilepsy of Lafora 2 (OMIM:620681)</td><td style=\"text-align: left;\">NM_198586.3:c.205C>G (homozygous)</td><td style=\"text-align: left;\"><b>P14Y</b>: Bilateral tonic-clonic seizure (HP:0002069)<br/><b>P15Y</b>: Myoclonic seizure (HP:0032794); Progressive neurologic deterioration (HP:0002344)<br/>Myoclonus (HP:0001336); excluded: Dementia (HP:0000726); excluded: Atonic seizure (HP:0010819); excluded: Tonic seizure (HP:0032792); excluded: Typical absence seizure (HP:0011147); excluded: Focal impaired awareness seizure (HP:0002384); excluded: Gait disturbance (HP:0001288)</td></tr>\n",
       "<tr><td style=\"text-align: left;\">individual 123 (UNKNOWN; P35Y)</td><td style=\"text-align: left;\">Myoclonic epilepsy of Lafora 2 (OMIM:620681)</td><td style=\"text-align: left;\">NM_198586.3:c.205C>G (homozygous)</td><td style=\"text-align: left;\"><b>P13Y</b>: Typical absence seizure (HP:0011147); Bilateral tonic-clonic seizure (HP:0002069); Myoclonic seizure (HP:0032794)<br/>Myoclonus (HP:0001336); excluded: Dementia (HP:0000726); excluded: Atonic seizure (HP:0010819); excluded: Tonic seizure (HP:0032792); excluded: Focal impaired awareness seizure (HP:0002384); excluded: Progressive neurologic deterioration (HP:0002344)</td></tr>\n",
       "<tr><td style=\"text-align: left;\">individual 138 (UNKNOWN; n/a)</td><td style=\"text-align: left;\">Myoclonic epilepsy of Lafora 2 (OMIM:620681)</td><td style=\"text-align: left;\">NM_198586.3:c.205C>G (homozygous)</td><td style=\"text-align: left;\"><b>P12Y</b>: Bilateral tonic-clonic seizure (HP:0002069); Myoclonic seizure (HP:0032794)<br/><b>P15Y</b>: Progressive neurologic deterioration (HP:0002344)<br/><b>P16Y</b>: Gait disturbance (HP:0001288)<br/><b>P17Y</b>: Dementia (HP:0000726)<br/>Myoclonus (HP:0001336); excluded: Atonic seizure (HP:0010819); excluded: Tonic seizure (HP:0032792); excluded: Typical absence seizure (HP:0011147); excluded: Focal impaired awareness seizure (HP:0002384)</td></tr>\n",
       "<tr><td style=\"text-align: left;\">individual 146 (UNKNOWN; n/a)</td><td style=\"text-align: left;\">Myoclonic epilepsy of Lafora 2 (OMIM:620681)</td><td style=\"text-align: left;\">NM_198586.3:c.205C>G (homozygous)</td><td style=\"text-align: left;\">Myoclonus (HP:0001336); excluded: Dementia (HP:0000726); excluded: Atonic seizure (HP:0010819); excluded: Tonic seizure (HP:0032792); excluded: Typical absence seizure (HP:0011147); excluded: Focal impaired awareness seizure (HP:0002384); excluded: Bilateral tonic-clonic seizure (HP:0002069); excluded: Myoclonic seizure (HP:0032794); excluded: Progressive neurologic deterioration (HP:0002344); excluded: Gait disturbance (HP:0001288)</td></tr>\n",
       "<tr><td style=\"text-align: left;\">individual 104 (UNKNOWN; n/a)</td><td style=\"text-align: left;\">Myoclonic epilepsy of Lafora 2 (OMIM:620681)</td><td style=\"text-align: left;\">NM_198586.3:c.791C>G (homozygous)</td><td style=\"text-align: left;\"><b>P14Y6M</b>: Typical absence seizure (HP:0011147)<br/><b>P16Y</b>: Bilateral tonic-clonic seizure (HP:0002069); Myoclonic seizure (HP:0032794)<br/><b>P17Y</b>: Progressive neurologic deterioration (HP:0002344); Gait disturbance (HP:0001288)<br/>Myoclonus (HP:0001336); excluded: Dementia (HP:0000726); excluded: Atonic seizure (HP:0010819); excluded: Tonic seizure (HP:0032792); excluded: Focal impaired awareness seizure (HP:0002384)</td></tr>\n",
       "<tr><td style=\"text-align: left;\">individual 120 (UNKNOWN; n/a)</td><td style=\"text-align: left;\">Myoclonic epilepsy of Lafora 2 (OMIM:620681)</td><td style=\"text-align: left;\"><ul> <li>NM_198586.3:c.468del (heterozygous)</li> <li>NM_198586.3:c.205C>G (heterozygous)</li> </ul></td><td style=\"text-align: left;\"><b>P12Y</b>: Typical absence seizure (HP:0011147); Bilateral tonic-clonic seizure (HP:0002069)<br/><b>P13Y</b>: Focal impaired awareness seizure (HP:0002384); Myoclonic seizure (HP:0032794)<br/><b>P14Y</b>: Atonic seizure (HP:0010819); Progressive neurologic deterioration (HP:0002344)<br/>Myoclonus (HP:0001336); excluded: Dementia (HP:0000726); excluded: Tonic seizure (HP:0032792); excluded: Gait disturbance (HP:0001288)</td></tr>\n",
       "<tr><td style=\"text-align: left;\">individual 127 (UNKNOWN; n/a)</td><td style=\"text-align: left;\">Myoclonic epilepsy of Lafora 2 (OMIM:620681)</td><td style=\"text-align: left;\"><ul> <li>NM_198586.3:c.1014_1017dup (heterozygous)</li> <li>NM_198586.3:c.436G>A (heterozygous)</li> </ul></td><td style=\"text-align: left;\"><b>P23Y</b>: Myoclonic seizure (HP:0032794)<br/><b>P28Y</b>: Progressive neurologic deterioration (HP:0002344)<br/><b>P30Y</b>: Dementia (HP:0000726); Gait disturbance (HP:0001288)<br/>Bilateral tonic-clonic seizure (HP:0002069); Myoclonus (HP:0001336); excluded: Atonic seizure (HP:0010819); excluded: Tonic seizure (HP:0032792); excluded: Typical absence seizure (HP:0011147); excluded: Focal impaired awareness seizure (HP:0002384)</td></tr>\n",
       "<tr><td style=\"text-align: left;\">individual 137-3 (UNKNOWN; P20Y)</td><td style=\"text-align: left;\">Myoclonic epilepsy of Lafora 2 (OMIM:620681)</td><td style=\"text-align: left;\">NM_198586.3:c.1049_1050del (homozygous)</td><td style=\"text-align: left;\"><b>P12Y</b>: Typical absence seizure (HP:0011147)<br/><b>P14Y</b>: Bilateral tonic-clonic seizure (HP:0002069)<br/><b>P15Y</b>: Progressive neurologic deterioration (HP:0002344)<br/><b>P16Y</b>: Myoclonic seizure (HP:0032794); Gait disturbance (HP:0001288)<br/><b>P19Y</b>: Dementia (HP:0000726)<br/>Myoclonus (HP:0001336); excluded: Atonic seizure (HP:0010819); excluded: Tonic seizure (HP:0032792); excluded: Focal impaired awareness seizure (HP:0002384)</td></tr>\n",
       "<tr><td style=\"text-align: left;\">individual 137-4 (UNKNOWN; n/a)</td><td style=\"text-align: left;\">Myoclonic epilepsy of Lafora 2 (OMIM:620681)</td><td style=\"text-align: left;\">NM_198586.3:c.1049_1050del (homozygous)</td><td style=\"text-align: left;\"><b>P12Y</b>: Bilateral tonic-clonic seizure (HP:0002069)<br/><b>P13Y</b>: Myoclonic seizure (HP:0032794)<br/><b>P15Y</b>: Progressive neurologic deterioration (HP:0002344)<br/><b>P16Y</b>: Gait disturbance (HP:0001288)<br/><b>P17Y</b>: Dementia (HP:0000726)<br/>Myoclonus (HP:0001336); excluded: Atonic seizure (HP:0010819); excluded: Tonic seizure (HP:0032792); excluded: Typical absence seizure (HP:0011147); excluded: Focal impaired awareness seizure (HP:0002384)</td></tr>\n",
       "<tr><td style=\"text-align: left;\">individual 143 (UNKNOWN; n/a)</td><td style=\"text-align: left;\">Myoclonic epilepsy of Lafora 2 (OMIM:620681)</td><td style=\"text-align: left;\"><ul> <li>NM_198586.3:c.78C>A (heterozygous)</li> <li>NM_198586.3:c.205C>G (heterozygous)</li> </ul></td><td style=\"text-align: left;\"><b>P7Y</b>: Bilateral tonic-clonic seizure (HP:0002069)<br/><b>P14Y</b>: Dementia (HP:0000726); Myoclonic seizure (HP:0032794); Progressive neurologic deterioration (HP:0002344)<br/>Myoclonus (HP:0001336); excluded: Atonic seizure (HP:0010819); excluded: Tonic seizure (HP:0032792); excluded: Typical absence seizure (HP:0011147); excluded: Focal impaired awareness seizure (HP:0002384)</td></tr>\n",
       "<tr><td style=\"text-align: left;\">individual 147-3 (UNKNOWN; P20Y)</td><td style=\"text-align: left;\">Myoclonic epilepsy of Lafora 2 (OMIM:620681)</td><td style=\"text-align: left;\"><ul> <li>NM_198586.3:c.838G>A (heterozygous)</li> <li>NM_198586.3:c.205C>G (heterozygous)</li> </ul></td><td style=\"text-align: left;\"><b>P12Y</b>: Bilateral tonic-clonic seizure (HP:0002069)<br/><b>P13Y</b>: Myoclonic seizure (HP:0032794)<br/><b>P16Y</b>: Progressive neurologic deterioration (HP:0002344); Gait disturbance (HP:0001288)<br/><b>P17Y</b>: Dementia (HP:0000726)<br/>Myoclonus (HP:0001336); excluded: Atonic seizure (HP:0010819); excluded: Tonic seizure (HP:0032792); excluded: Typical absence seizure (HP:0011147); excluded: Focal impaired awareness seizure (HP:0002384)</td></tr>\n",
       "<tr><td style=\"text-align: left;\">individual 147-4 (UNKNOWN; P22Y)</td><td style=\"text-align: left;\">Myoclonic epilepsy of Lafora 2 (OMIM:620681)</td><td style=\"text-align: left;\"><ul> <li>NM_198586.3:c.838G>A (heterozygous)</li> <li>NM_198586.3:c.205C>G (heterozygous)</li> </ul></td><td style=\"text-align: left;\"><b>P13Y</b>: Bilateral tonic-clonic seizure (HP:0002069); Myoclonic seizure (HP:0032794)<br/><b>P16Y</b>: Progressive neurologic deterioration (HP:0002344)<br/><b>P17Y</b>: Gait disturbance (HP:0001288)<br/><b>P20Y</b>: Dementia (HP:0000726)<br/>Myoclonus (HP:0001336); excluded: Atonic seizure (HP:0010819); excluded: Tonic seizure (HP:0032792); excluded: Typical absence seizure (HP:0011147); excluded: Focal impaired awareness seizure (HP:0002384)</td></tr>\n",
       "<tr><td style=\"text-align: left;\">individual 148 (UNKNOWN; n/a)</td><td style=\"text-align: left;\">Myoclonic epilepsy of Lafora 2 (OMIM:620681)</td><td style=\"text-align: left;\"><ul> <li>NM_198586.3:c.838G>A (heterozygous)</li> <li>NM_198586.3:c.205C>G (heterozygous)</li> </ul></td><td style=\"text-align: left;\"><b>P13Y</b>: Bilateral tonic-clonic seizure (HP:0002069)<br/><b>P14Y</b>: Myoclonic seizure (HP:0032794)<br/><b>P16Y</b>: Progressive neurologic deterioration (HP:0002344)<br/><b>P17Y</b>: Dementia (HP:0000726); Gait disturbance (HP:0001288)<br/>Myoclonus (HP:0001336); excluded: Atonic seizure (HP:0010819); excluded: Tonic seizure (HP:0032792); excluded: Typical absence seizure (HP:0011147); excluded: Focal impaired awareness seizure (HP:0002384)</td></tr>\n",
       "<tr><td style=\"text-align: left;\">individual 167 (UNKNOWN; P20Y)</td><td style=\"text-align: left;\">Myoclonic epilepsy of Lafora 2 (OMIM:620681)</td><td style=\"text-align: left;\">NM_198586.3:c.199G>T (homozygous)</td><td style=\"text-align: left;\"><b>P13Y6M</b>: Bilateral tonic-clonic seizure (HP:0002069)<br/><b>P14Y6M</b>: Myoclonic seizure (HP:0032794); Progressive neurologic deterioration (HP:0002344)<br/><b>P16Y</b>: Dementia (HP:0000726)<br/>Myoclonus (HP:0001336); excluded: Atonic seizure (HP:0010819); excluded: Tonic seizure (HP:0032792); excluded: Typical absence seizure (HP:0011147); excluded: Focal impaired awareness seizure (HP:0002384)</td></tr>\n",
       "<tr><td style=\"text-align: left;\">individual 174 (UNKNOWN; n/a)</td><td style=\"text-align: left;\">Myoclonic epilepsy of Lafora 2 (OMIM:620681)</td><td style=\"text-align: left;\">NM_198586.3:c.923A>T (homozygous)</td><td style=\"text-align: left;\"><b>P16Y</b>: Typical absence seizure (HP:0011147); Myoclonic seizure (HP:0032794)<br/>Myoclonus (HP:0001336); excluded: Dementia (HP:0000726); excluded: Atonic seizure (HP:0010819); excluded: Tonic seizure (HP:0032792); excluded: Focal impaired awareness seizure (HP:0002384); excluded: Bilateral tonic-clonic seizure (HP:0002069); excluded: Progressive neurologic deterioration (HP:0002344); excluded: Gait disturbance (HP:0001288)</td></tr>\n",
       "<tr><td style=\"text-align: left;\">individual 175 (UNKNOWN; n/a)</td><td style=\"text-align: left;\">Myoclonic epilepsy of Lafora 2 (OMIM:620681)</td><td style=\"text-align: left;\">NM_198586.3:c.793C>T (homozygous)</td><td style=\"text-align: left;\"><b>P13Y</b>: Atonic seizure (HP:0010819); Myoclonic seizure (HP:0032794)<br/>Myoclonus (HP:0001336); excluded: Dementia (HP:0000726); excluded: Tonic seizure (HP:0032792); excluded: Typical absence seizure (HP:0011147); excluded: Focal impaired awareness seizure (HP:0002384); excluded: Bilateral tonic-clonic seizure (HP:0002069); excluded: Progressive neurologic deterioration (HP:0002344); excluded: Gait disturbance (HP:0001288)</td></tr>\n",
       "<tr><td style=\"text-align: left;\">individual 176 (UNKNOWN; n/a)</td><td style=\"text-align: left;\">Myoclonic epilepsy of Lafora 2 (OMIM:620681)</td><td style=\"text-align: left;\">NM_198586.3:c.593T>A (homozygous)</td><td style=\"text-align: left;\"><b>P12Y</b>: Progressive neurologic deterioration (HP:0002344)<br/><b>P14Y6M</b>: Typical absence seizure (HP:0011147); Bilateral tonic-clonic seizure (HP:0002069); Myoclonic seizure (HP:0032794)<br/>Myoclonus (HP:0001336); excluded: Dementia (HP:0000726); excluded: Atonic seizure (HP:0010819); excluded: Tonic seizure (HP:0032792); excluded: Focal impaired awareness seizure (HP:0002384); excluded: Gait disturbance (HP:0001288)</td></tr>\n",
       "</table>"
      ],
      "text/plain": [
       "<IPython.core.display.HTML object>"
      ]
     },
     "metadata": {},
     "output_type": "display_data"
    }
   ],
   "source": [
    "table = IndividualTable(cvalidator.get_error_free_individual_list())\n",
    "display(HTML(table.to_html()))"
   ]
  },
  {
   "cell_type": "code",
   "execution_count": 6,
   "metadata": {},
   "outputs": [
    {
     "name": "stdout",
     "output_type": "stream",
     "text": [
      "[pyphetools] Ingested 22 GA4GH phenopackets.\n",
      "\tMyoclonic epilepsy of Lafora 2 (OMIM:620681): n=22\n",
      "We found a total of 11 unique HPO terms\n",
      "Extracted disease: Myoclonic epilepsy of Lafora 2 (OMIM:620681)\n",
      "Wrote HPOA disease file to OMIM-620681.tab\n"
     ]
    }
   ],
   "source": [
    "pmid = \"PMID:15781812\"\n",
    "df = timporter.create_hpoa_from_phenopackets(pmid=pmid, moi=\"Autosomal recessive\")"
   ]
  },
  {
   "cell_type": "code",
   "execution_count": null,
   "metadata": {},
   "outputs": [],
   "source": []
  }
 ],
 "metadata": {
  "kernelspec": {
   "display_name": "ps24venv",
   "language": "python",
   "name": "python3"
  },
  "language_info": {
   "codemirror_mode": {
    "name": "ipython",
    "version": 3
   },
   "file_extension": ".py",
   "mimetype": "text/x-python",
   "name": "python",
   "nbconvert_exporter": "python",
   "pygments_lexer": "ipython3",
   "version": "3.9.6"
  }
 },
 "nbformat": 4,
 "nbformat_minor": 2
}
