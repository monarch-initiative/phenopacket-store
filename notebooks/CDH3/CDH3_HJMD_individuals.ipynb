{
 "cells": [
  {
   "cell_type": "markdown",
   "metadata": {},
   "source": [
    "# CDH3\n",
    "[congenital hypotrichosis with juvenile macular dystrophy (HJMD)](https://omim.org/entry/601553) is caused by homozygous mutation in the CDH3 gene."
   ]
  },
  {
   "cell_type": "code",
   "execution_count": 1,
   "metadata": {},
   "outputs": [
    {
     "name": "stdout",
     "output_type": "stream",
     "text": [
      "Using pyphetools version 0.9.86\n"
     ]
    },
    {
     "name": "stderr",
     "output_type": "stream",
     "text": [
      "/Users/robin/GIT/phenopacket-store/ps24venv/lib/python3.9/site-packages/urllib3/__init__.py:35: NotOpenSSLWarning: urllib3 v2 only supports OpenSSL 1.1.1+, currently the 'ssl' module is compiled with 'LibreSSL 2.8.3'. See: https://github.com/urllib3/urllib3/issues/3020\n",
      "  warnings.warn(\n"
     ]
    }
   ],
   "source": [
    "from pyphetools.creation import TemplateImporter\n",
    "from pyphetools.visualization import IndividualTable, QcVisualizer\n",
    "from IPython.display import display, HTML\n",
    "import pyphetools\n",
    "print(f\"Using pyphetools version {pyphetools.__version__}\")"
   ]
  },
  {
   "cell_type": "markdown",
   "metadata": {},
   "source": []
  },
  {
   "cell_type": "code",
   "execution_count": 2,
   "metadata": {},
   "outputs": [],
   "source": [
    "template = \"input/CDH3_HJMD_individuals.xlsx\"\n",
    "created_by = \"0000-0002-0736-9199\""
   ]
  },
  {
   "cell_type": "code",
   "execution_count": 3,
   "metadata": {},
   "outputs": [
    {
     "name": "stdout",
     "output_type": "stream",
     "text": [
      "HPO version 2024-04-26\n",
      "Created encoders for 30 fields\n",
      "Importing OMIM:601553, Hypotrichosis, congenital, with juvenile macular dystrophy, HGNC:1762, CDH3,  NM_001793.6\n",
      "We output 2 GA4GH phenopackets to the directory phenopackets\n"
     ]
    }
   ],
   "source": [
    "timporter = TemplateImporter(template=template,  created_by=created_by)\n",
    "individual_list, cvalidator = timporter.import_phenopackets_from_template()"
   ]
  },
  {
   "cell_type": "code",
   "execution_count": 4,
   "metadata": {},
   "outputs": [
    {
     "data": {
      "text/html": [
       "<h2>Cohort validation</h2>\n",
       "<p>No errors found for the cohort with 2 individuals</p>"
      ],
      "text/plain": [
       "<IPython.core.display.HTML object>"
      ]
     },
     "metadata": {},
     "output_type": "display_data"
    }
   ],
   "source": [
    "qc = QcVisualizer(cohort_validator=cvalidator)\n",
    "display(HTML(qc.to_summary_html()))"
   ]
  },
  {
   "cell_type": "code",
   "execution_count": 5,
   "metadata": {},
   "outputs": [
    {
     "data": {
      "text/html": [
       "<table style=\"border: 2px solid black; align: \"left\">\n",
       "<caption>2 phenopackets - PMID:12445216 (n=1); PMID:28061825 (n=1)</caption>\n",
       "<tr><th style=\"text-align: left;font-weight: bold;\">Individual</th><th style=\"text-align: left;font-weight: bold;\">Disease</th><th style=\"text-align: left;font-weight: bold;\">Genotype</th><th style=\"text-align: left;font-weight: bold;\">Phenotypic features</th></tr>\n",
       "<tr><td style=\"text-align: left;\">affected 13-y-old patient (FEMALE; P13Y)</td><td style=\"text-align: left;\">Hypotrichosis, congenital, with juvenile macular dystrophy (OMIM:601553)</td><td style=\"text-align: left;\">NM_001793.6:c.1508G>A (homozygous)</td><td style=\"text-align: left;\"><b>P13Y</b>: Macular dystrophy (HP:0007754)<br/>Sparse hair (HP:0008070); Reduced visual acuity (HP:0007663); Pili torti (HP:0003777)</td></tr>\n",
       "<tr><td style=\"text-align: left;\">proband (MALE; P13Y)</td><td style=\"text-align: left;\">Hypotrichosis, congenital, with juvenile macular dystrophy (OMIM:601553)</td><td style=\"text-align: left;\"><ul> <li>NM_001793.6:c.613G>A (heterozygous)</li> <li>NM_001793.6:c.830del (heterozygous)</li> </ul></td><td style=\"text-align: left;\"><b>P5Y</b>: Reduced visual acuity (HP:0007663)<br/><b>P12Y</b>: Macular atrophy (HP:0007401); Macular hyperpigmentation (HP:0011509)<br/>Sparse hair (HP:0008070); Pili torti (HP:0003777); Follicular hyperkeratosis (HP:0007502); Epidermoid cyst (HP:0200040); Absent sebaceous glands (HP:0410400); Pallor (HP:0000980); excluded: Abnormal dental morphology (HP:0006482); excluded: Abnormality of the hand (HP:0001155); excluded: Abnormal foot morphology (HP:0001760)</td></tr>\n",
       "</table>"
      ],
      "text/plain": [
       "<IPython.core.display.HTML object>"
      ]
     },
     "metadata": {},
     "output_type": "display_data"
    }
   ],
   "source": [
    "table = IndividualTable(cvalidator.get_error_free_individual_list())\n",
    "display(HTML(table.to_html()))"
   ]
  },
  {
   "cell_type": "code",
   "execution_count": 6,
   "metadata": {},
   "outputs": [
    {
     "name": "stdout",
     "output_type": "stream",
     "text": [
      "[pyphetools] Ingested 3 GA4GH phenopackets.\n",
      "[INFO] Extracted 3 from 3 phenopackets with OMIM:601553\n",
      "\n",
      "\tHypotrichosis, congenital, with juvenile macular dystrophy (OMIM:601553): n=3\n",
      "We found a total of 13 unique HPO terms\n",
      "Extracted disease: Hypotrichosis, congenital, with juvenile macular dystrophy (OMIM:601553)\n",
      "Wrote HPOA disease file to OMIM-601553.tab\n"
     ]
    }
   ],
   "source": [
    "pmid = \"PMID:12445216\"\n",
    "df = timporter.create_hpoa_from_phenopackets(pmid=pmid, moi=\"Autosomal recessive\", target=\"OMIM:601553\")"
   ]
  }
 ],
 "metadata": {
  "kernelspec": {
   "display_name": "ps24venv",
   "language": "python",
   "name": "python3"
  },
  "language_info": {
   "codemirror_mode": {
    "name": "ipython",
    "version": 3
   },
   "file_extension": ".py",
   "mimetype": "text/x-python",
   "name": "python",
   "nbconvert_exporter": "python",
   "pygments_lexer": "ipython3",
   "version": "3.9.6"
  }
 },
 "nbformat": 4,
 "nbformat_minor": 2
}
