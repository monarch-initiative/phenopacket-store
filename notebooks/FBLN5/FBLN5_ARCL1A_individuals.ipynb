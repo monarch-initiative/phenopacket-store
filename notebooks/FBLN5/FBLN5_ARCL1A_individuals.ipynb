{
 "cells": [
  {
   "cell_type": "markdown",
   "metadata": {},
   "source": [
    "# FBLN5\n",
    "[autosomal recessive cutis laxa type IA (ARCL1A)](https://omim.org/entry/219100) is caused by homozygous or compound heterozygous mutation in the FBLN5 gene."
   ]
  },
  {
   "cell_type": "code",
   "execution_count": 4,
   "metadata": {},
   "outputs": [
    {
     "name": "stdout",
     "output_type": "stream",
     "text": [
      "Using pyphetools version 0.9.80\n"
     ]
    }
   ],
   "source": [
    "from pyphetools.creation import TemplateImporter\n",
    "from pyphetools.visualization import IndividualTable, QcVisualizer\n",
    "from IPython.display import display, HTML\n",
    "import pyphetools\n",
    "print(f\"Using pyphetools version {pyphetools.__version__}\")"
   ]
  },
  {
   "cell_type": "code",
   "execution_count": 8,
   "metadata": {},
   "outputs": [],
   "source": [
    "template = \"input/FBLN5_ARCL1A_individuals.xlsx\"\n",
    "created_by = \"0000-0002-0736-9199\""
   ]
  },
  {
   "cell_type": "code",
   "execution_count": 10,
   "metadata": {},
   "outputs": [
    {
     "name": "stdout",
     "output_type": "stream",
     "text": [
      "HPO version 2024-04-26\n",
      "Created encoders for 48 fields\n",
      "Importing OMIM:219100, Cutis laxa, autosomal recessive, type IA, HGNC:3602, FBLN5,  NM_006329.4\n",
      "[INFO] encoding variant \"c.432C>G\"\n",
      "https://rest.variantvalidator.org/VariantValidator/variantvalidator/hg38/NM_006329.4%3Ac.432C>G/NM_006329.4?content-type=application%2Fjson\n",
      "[INFO] encoding variant \"c.679T>C\"\n",
      "https://rest.variantvalidator.org/VariantValidator/variantvalidator/hg38/NM_006329.4%3Ac.679T>C/NM_006329.4?content-type=application%2Fjson\n",
      "We output 5 GA4GH phenopackets to the directory phenopackets\n"
     ]
    }
   ],
   "source": [
    "timporter = TemplateImporter(template=template,  created_by=created_by)\n",
    "individual_list, cvalidator = timporter.import_phenopackets_from_template()"
   ]
  },
  {
   "cell_type": "code",
   "execution_count": 11,
   "metadata": {},
   "outputs": [
    {
     "data": {
      "text/html": [
       "<h2>Cohort validation</h2>\n",
       "<p>Errors found with 5 of 5 phenopackets.</p>\n",
       "<table style=\"border: 2px solid black; align: \"left\">\n",
       "<caption>Error counts</caption>\n",
       "<tr><th style=\"text-align: left;font-weight: bold;\">Level</th><th style=\"text-align: left;font-weight: bold;\">Error category</th><th style=\"text-align: left;font-weight: bold;\">Count</th></tr>\n",
       "<tr><td style=\"text-align: left;\">WARNING</td><td style=\"text-align: left;\">REDUNDANT</td><td style=\"text-align: left;\">5</td></tr>\n",
       "</table>\n",
       "<p>A total of 5 issues were fixed and no individual was removed from the cohort.</p>"
      ],
      "text/plain": [
       "<IPython.core.display.HTML object>"
      ]
     },
     "metadata": {},
     "output_type": "display_data"
    }
   ],
   "source": [
    "qc = QcVisualizer(cohort_validator=cvalidator)\n",
    "display(HTML(qc.to_summary_html()))"
   ]
  },
  {
   "cell_type": "code",
   "execution_count": 12,
   "metadata": {},
   "outputs": [
    {
     "data": {
      "text/html": [
       "<table style=\"border: 2px solid black; align: \"left\">\n",
       "<caption>5 phenopackets - PMID:12189163 (n=4); PMID:24962763 (n=1)</caption>\n",
       "<tr><th style=\"text-align: left;font-weight: bold;\">Individual</th><th style=\"text-align: left;font-weight: bold;\">Disease</th><th style=\"text-align: left;font-weight: bold;\">Genotype</th><th style=\"text-align: left;font-weight: bold;\">Phenotypic features</th></tr>\n",
       "<tr><td style=\"text-align: left;\">V:6 (FEMALE; n/a)</td><td style=\"text-align: left;\">Cutis laxa, autosomal recessive, type IA (OMIM:219100)</td><td style=\"text-align: left;\">NM_006329.4:c.679T>C (homozygous)</td><td style=\"text-align: left;\"><b>P1M</b>: Supravalvular aortic stenosis (HP:0004381); Cutis laxa (HP:0000973)<br/><b>P6M</b>: Emphysema (HP:0002097)<br/>Failure to thrive (HP:0001508); Recurrent lower respiratory tract infections (HP:0002783); excluded: Inguinal hernia (HP:0000023); excluded: Pyloric stenosis (HP:0002021)</td></tr>\n",
       "<tr><td style=\"text-align: left;\">Sib 1 (FEMALE; P3Y6M)</td><td style=\"text-align: left;\">Cutis laxa, autosomal recessive, type IA (OMIM:219100)</td><td style=\"text-align: left;\">NM_006329.4:c.679T>C (homozygous)</td><td style=\"text-align: left;\">Redundant skin (HP:0001582); Delayed skeletal maturation (HP:0002750); Emphysema (HP:0002097); Pyloric stenosis (HP:0002021); Pulmonary arterial hypertension (HP:0002092); Right ventricular hypertrophy (HP:0001667); Cardiorespiratory arrest (HP:0006543); excluded: Inguinal hernia (HP:0000023); excluded: Recurrent lower respiratory tract infections (HP:0002783)</td></tr>\n",
       "<tr><td style=\"text-align: left;\">Sib 2 (FEMALE; P8Y)</td><td style=\"text-align: left;\">Cutis laxa, autosomal recessive, type IA (OMIM:219100)</td><td style=\"text-align: left;\">NM_006329.4:c.679T>C (homozygous)</td><td style=\"text-align: left;\">Anteverted nares (HP:0000463); Ptosis (HP:0000508); Macrotia (HP:0000400); Redundant skin (HP:0001582); Delayed skeletal maturation (HP:0002750); Emphysema (HP:0002097); Recurrent lower respiratory tract infections (HP:0002783); excluded: Inguinal hernia (HP:0000023); excluded: Pyloric stenosis (HP:0002021)</td></tr>\n",
       "<tr><td style=\"text-align: left;\">Sib 3 (MALE; P6M)</td><td style=\"text-align: left;\">Cutis laxa, autosomal recessive, type IA (OMIM:219100)</td><td style=\"text-align: left;\">NM_006329.4:c.679T>C (homozygous)</td><td style=\"text-align: left;\">Inguinal hernia (HP:0000023); Bladder diverticulum (HP:0000015); Redundant skin (HP:0001582); Emphysema (HP:0002097); excluded: Pyloric stenosis (HP:0002021); excluded: Pulmonary arterial hypertension (HP:0002092); excluded: Right ventricular hypertrophy (HP:0001667)</td></tr>\n",
       "<tr><td style=\"text-align: left;\">4-year-old Burmese girl (FEMALE; P4Y)</td><td style=\"text-align: left;\">Cutis laxa, autosomal recessive, type IA (OMIM:219100)</td><td style=\"text-align: left;\">NM_006329.4:c.432C>G (homozygous)</td><td style=\"text-align: left;\"><b>P4Y</b>: Mitral valve prolapse (HP:0001634)<br/>Inguinal hernia (HP:0000023); Redundant skin (HP:0001582); Emphysema (HP:0002097); Recurrent lower respiratory tract infections (HP:0002783); Nasolacrimal duct obstruction (HP:0000579); Vesicoureteral reflux (HP:0000076); Flat sella turcica (HP:0100857)</td></tr>\n",
       "</table>"
      ],
      "text/plain": [
       "<IPython.core.display.HTML object>"
      ]
     },
     "metadata": {},
     "output_type": "display_data"
    }
   ],
   "source": [
    "table = IndividualTable(cvalidator.get_error_free_individual_list())\n",
    "display(HTML(table.to_html()))"
   ]
  }
 ],
 "metadata": {
  "kernelspec": {
   "display_name": "ps24venv",
   "language": "python",
   "name": "python3"
  },
  "language_info": {
   "codemirror_mode": {
    "name": "ipython",
    "version": 3
   },
   "file_extension": ".py",
   "mimetype": "text/x-python",
   "name": "python",
   "nbconvert_exporter": "python",
   "pygments_lexer": "ipython3",
   "version": "3.9.6"
  }
 },
 "nbformat": 4,
 "nbformat_minor": 2
}
