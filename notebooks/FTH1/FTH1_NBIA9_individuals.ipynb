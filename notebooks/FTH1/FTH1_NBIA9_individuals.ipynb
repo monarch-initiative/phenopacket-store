{
 "cells": [
  {
   "cell_type": "markdown",
   "metadata": {},
   "source": [
    "# FTH1\n",
    "[neurodegeneration with brain iron accumulation-9 (NBIA9)](https://omim.org/entry/620669) is caused by heterozygous mutation in the FTH1 gene."
   ]
  },
  {
   "cell_type": "code",
   "execution_count": 3,
   "metadata": {},
   "outputs": [
    {
     "name": "stdout",
     "output_type": "stream",
     "text": [
      "Using pyphetools version 0.9.84\n"
     ]
    }
   ],
   "source": [
    "from pyphetools.creation import TemplateImporter\n",
    "from pyphetools.visualization import IndividualTable, QcVisualizer\n",
    "from IPython.display import display, HTML\n",
    "import pyphetools\n",
    "print(f\"Using pyphetools version {pyphetools.__version__}\")"
   ]
  },
  {
   "cell_type": "code",
   "execution_count": 5,
   "metadata": {},
   "outputs": [],
   "source": [
    "template = \"input/FTH1_NBIA9_individuals.xlsx\"\n",
    "created_by = \"0000-0002-0736-9199\""
   ]
  },
  {
   "cell_type": "code",
   "execution_count": 7,
   "metadata": {},
   "outputs": [
    {
     "name": "stdout",
     "output_type": "stream",
     "text": [
      "HPO version 2024-04-26\n",
      "Created encoders for 49 fields\n",
      "Importing OMIM:620669, Neurodegeneration with brain iron accumulation 9, HGNC:3976, FTH1,  NM_002032.3\n",
      "[INFO] encoding variant \"c.487_490dup\"\n",
      "https://rest.variantvalidator.org/VariantValidator/variantvalidator/hg38/NM_002032.3%3Ac.487_490dup/NM_002032.3?content-type=application%2Fjson\n",
      "[INFO] encoding variant \"c.512_513del\"\n",
      "https://rest.variantvalidator.org/VariantValidator/variantvalidator/hg38/NM_002032.3%3Ac.512_513del/NM_002032.3?content-type=application%2Fjson\n",
      "We output 5 GA4GH phenopackets to the directory phenopackets\n"
     ]
    }
   ],
   "source": [
    "timporter = TemplateImporter(template=template,  created_by=created_by)\n",
    "individual_list, cvalidator = timporter.import_phenopackets_from_template()"
   ]
  },
  {
   "cell_type": "code",
   "execution_count": 8,
   "metadata": {},
   "outputs": [
    {
     "data": {
      "text/html": [
       "<h2>Cohort validation</h2>\n",
       "<p>Errors found with 2 of 5 phenopackets.</p>\n",
       "<table style=\"border: 2px solid black; align: \"left\">\n",
       "<caption>Error counts</caption>\n",
       "<tr><th style=\"text-align: left;font-weight: bold;\">Level</th><th style=\"text-align: left;font-weight: bold;\">Error category</th><th style=\"text-align: left;font-weight: bold;\">Count</th></tr>\n",
       "<tr><td style=\"text-align: left;\">WARNING</td><td style=\"text-align: left;\">REDUNDANT</td><td style=\"text-align: left;\">3</td></tr>\n",
       "</table>\n",
       "<p>A total of 3 issues were fixed and no individual was removed from the cohort.</p>"
      ],
      "text/plain": [
       "<IPython.core.display.HTML object>"
      ]
     },
     "metadata": {},
     "output_type": "display_data"
    }
   ],
   "source": [
    "qc = QcVisualizer(cohort_validator=cvalidator)\n",
    "display(HTML(qc.to_summary_html()))"
   ]
  },
  {
   "cell_type": "code",
   "execution_count": 9,
   "metadata": {},
   "outputs": [
    {
     "data": {
      "text/html": [
       "<table style=\"border: 2px solid black; align: \"left\">\n",
       "<caption>5 phenopackets - PMID:37660254 (n=5)</caption>\n",
       "<tr><th style=\"text-align: left;font-weight: bold;\">Individual</th><th style=\"text-align: left;font-weight: bold;\">Disease</th><th style=\"text-align: left;font-weight: bold;\">Genotype</th><th style=\"text-align: left;font-weight: bold;\">Phenotypic features</th></tr>\n",
       "<tr><td style=\"text-align: left;\">Patient 1 (FEMALE; P13Y)</td><td style=\"text-align: left;\">Neurodegeneration with brain iron accumulation 9 (OMIM:620669)</td><td style=\"text-align: left;\">NM_002032.3:c.487_490dup (heterozygous)</td><td style=\"text-align: left;\"><b>P5Y</b>: Spasticity (HP:0001257); Hyperreflexia (HP:0001347)<br/><b>P8Y</b>: Mental deterioration (HP:0001268); Dysmetria (HP:0001310)<br/><b>P11Y</b>: Eye of the tiger anomaly of globus pallidus (HP:0002454); Reduced cerebral white matter volume (HP:0034295); Cerebellar atrophy (HP:0001272); Thin corpus callosum (HP:0033725)<br/>Seizure (HP:0001250); Dystonia (HP:0001332); Delayed speech and language development (HP:0000750); Dysarthria (HP:0001260); Neurodegeneration (HP:0002180); Global developmental delay (HP:0001263); Delayed ability to sit (HP:0025336); Failure to thrive (HP:0001508); Decreased circulating ferritin concentration (HP:0012343); Decreased transferrin saturation (HP:0012464); excluded: Exaggerated startle response (HP:0002267); excluded: Athetosis (HP:0002305); excluded: Absent speech (HP:0001344); excluded: Delayed ability to walk (HP:0031936); excluded: Hot cross bun sign (HP:0041056); excluded: Cerebellar hypoplasia (HP:0001321); excluded: Dysphagia (HP:0002015); excluded: Cerebral visual impairment (HP:0100704); excluded: Axial hypotonia (HP:0008936); excluded: Feeding difficulties (HP:0011968); excluded: Microcephaly (HP:0000252); excluded: Abnormal circulating iron concentration (HP:0040130)</td></tr>\n",
       "<tr><td style=\"text-align: left;\">Patient 2 (FEMALE; P23Y)</td><td style=\"text-align: left;\">Neurodegeneration with brain iron accumulation 9 (OMIM:620669)</td><td style=\"text-align: left;\">NM_002032.3:c.512_513del (heterozygous)</td><td style=\"text-align: left;\"><b>P4Y</b>: Seizure (HP:0001250)<br/><b>P10Y</b>: Mental deterioration (HP:0001268)<br/><b>P13Y</b>: Dystonia (HP:0001332)<br/><b>P19Y</b>: Reduced cerebral white matter volume (HP:0034295); Cerebellar hypoplasia (HP:0001321); Thin corpus callosum (HP:0033725)<br/>Ataxia (HP:0001251); Athetosis (HP:0002305); Delayed speech and language development (HP:0000750); Neurodegeneration (HP:0002180); Global developmental delay (HP:0001263); Delayed ability to sit (HP:0025336); Delayed ability to walk (HP:0031936); Cerebellar atrophy (HP:0001272); Iron accumulation in brain (HP:0012675); Dysphagia (HP:0002015); Microcephaly (HP:0000252); Failure to thrive (HP:0001508); Decreased circulating ferritin concentration (HP:0012343); Decreased transferrin saturation (HP:0012464); excluded: Exaggerated startle response (HP:0002267); excluded: Absent speech (HP:0001344); excluded: Dysarthria (HP:0001260); excluded: Spasticity (HP:0001257); excluded: Dysmetria (HP:0001310); excluded: Hyperreflexia (HP:0001347); excluded: Hot cross bun sign (HP:0041056); excluded: Eye of the tiger anomaly of globus pallidus (HP:0002454); excluded: Cerebral visual impairment (HP:0100704); excluded: Axial hypotonia (HP:0008936); excluded: Feeding difficulties (HP:0011968); excluded: Abnormal circulating iron concentration (HP:0040130)</td></tr>\n",
       "<tr><td style=\"text-align: left;\">Patient 3 (FEMALE; P4Y)</td><td style=\"text-align: left;\">Neurodegeneration with brain iron accumulation 9 (OMIM:620669)</td><td style=\"text-align: left;\">NM_002032.3:c.512_513del (heterozygous)</td><td style=\"text-align: left;\"><b>P9M</b>: Hot cross bun sign (HP:0041056); Cerebellar hypoplasia (HP:0001321)<br/><b>P4Y</b>: Dysphagia (HP:0002015); Feeding difficulties (HP:0011968)<br/><b>P5Y</b>: Thin corpus callosum (HP:0033725)<br/>Seizure (HP:0001250); Ataxia (HP:0001251); Absent speech (HP:0001344); Neurodegeneration (HP:0002180); Global developmental delay (HP:0001263); Delayed ability to walk (HP:0031936); Reduced cerebral white matter volume (HP:0034295); Iron accumulation in brain (HP:0012675); Microcephaly (HP:0000252); Failure to thrive (HP:0001508); Decreased circulating ferritin concentration (HP:0012343); Decreased transferrin saturation (HP:0012464); excluded: Exaggerated startle response (HP:0002267); excluded: Dystonia (HP:0001332); excluded: Athetosis (HP:0002305); excluded: Dysarthria (HP:0001260); excluded: Spasticity (HP:0001257); excluded: Dysmetria (HP:0001310); excluded: Delayed ability to sit (HP:0025336); excluded: Hyperreflexia (HP:0001347); excluded: Eye of the tiger anomaly of globus pallidus (HP:0002454); excluded: Cerebellar atrophy (HP:0001272); excluded: Cerebral visual impairment (HP:0100704); excluded: Axial hypotonia (HP:0008936); excluded: Abnormal circulating iron concentration (HP:0040130)</td></tr>\n",
       "<tr><td style=\"text-align: left;\">Patient 4 (FEMALE; P1Y8M)</td><td style=\"text-align: left;\">Neurodegeneration with brain iron accumulation 9 (OMIM:620669)</td><td style=\"text-align: left;\">NM_002032.3:c.512_513del (heterozygous)</td><td style=\"text-align: left;\"><b>P2D</b>: Reduced cerebral white matter volume (HP:0034295); Cerebellar hypoplasia (HP:0001321); Thin corpus callosum (HP:0033725)<br/><b>P1Y8M</b>: Spasticity (HP:0001257)<br/>Microcephaly (HP:0000252); Exaggerated startle response (HP:0002267); Ataxia (HP:0001251); Delayed speech and language development (HP:0000750); Neurodegeneration (HP:0002180); Global developmental delay (HP:0001263); Delayed ability to sit (HP:0025336); Delayed ability to walk (HP:0031936); Hyperreflexia (HP:0001347); Iron accumulation in brain (HP:0012675); Dysphagia (HP:0002015); Axial hypotonia (HP:0008936); Failure to thrive (HP:0001508); excluded: Seizure (HP:0001250); excluded: Dystonia (HP:0001332); excluded: Athetosis (HP:0002305); excluded: Absent speech (HP:0001344); excluded: Dysarthria (HP:0001260); excluded: Dysmetria (HP:0001310); excluded: Hot cross bun sign (HP:0041056); excluded: Eye of the tiger anomaly of globus pallidus (HP:0002454); excluded: Cerebellar atrophy (HP:0001272); excluded: Cerebral visual impairment (HP:0100704); excluded: Feeding difficulties (HP:0011968); excluded: Decreased circulating ferritin concentration (HP:0012343); excluded: Decreased transferrin saturation (HP:0012464); excluded: Abnormal circulating iron concentration (HP:0040130)</td></tr>\n",
       "<tr><td style=\"text-align: left;\">Patient 5 (FEMALE; P13Y)</td><td style=\"text-align: left;\">Neurodegeneration with brain iron accumulation 9 (OMIM:620669)</td><td style=\"text-align: left;\">NM_002032.3:c.512_513del (heterozygous)</td><td style=\"text-align: left;\"><b>P6M</b>: Microcephaly (HP:0000252)<br/><b>P9M</b>: Reduced cerebral white matter volume (HP:0034295); Cerebellar hypoplasia (HP:0001321); Dysphagia (HP:0002015); Feeding difficulties (HP:0011968)<br/><b>P14Y</b>: Thin corpus callosum (HP:0033725)<br/>Exaggerated startle response (HP:0002267); Ataxia (HP:0001251); Delayed speech and language development (HP:0000750); Neurodegeneration (HP:0002180); Spasticity (HP:0001257); Global developmental delay (HP:0001263); Delayed ability to sit (HP:0025336); Delayed ability to walk (HP:0031936); Cerebellar atrophy (HP:0001272); Iron accumulation in brain (HP:0012675); Cerebral visual impairment (HP:0100704); Failure to thrive (HP:0001508); excluded: Seizure (HP:0001250); excluded: Dystonia (HP:0001332); excluded: Athetosis (HP:0002305); excluded: Absent speech (HP:0001344); excluded: Dysarthria (HP:0001260); excluded: Mental deterioration (HP:0001268); excluded: Dysmetria (HP:0001310); excluded: Hyperreflexia (HP:0001347); excluded: Hot cross bun sign (HP:0041056); excluded: Eye of the tiger anomaly of globus pallidus (HP:0002454); excluded: Axial hypotonia (HP:0008936); excluded: Decreased circulating ferritin concentration (HP:0012343); excluded: Decreased transferrin saturation (HP:0012464); excluded: Abnormal circulating iron concentration (HP:0040130)</td></tr>\n",
       "</table>"
      ],
      "text/plain": [
       "<IPython.core.display.HTML object>"
      ]
     },
     "metadata": {},
     "output_type": "display_data"
    }
   ],
   "source": [
    "table = IndividualTable(cvalidator.get_error_free_individual_list())\n",
    "display(HTML(table.to_html()))"
   ]
  },
  {
   "cell_type": "code",
   "execution_count": 10,
   "metadata": {},
   "outputs": [
    {
     "name": "stdout",
     "output_type": "stream",
     "text": [
      "[pyphetools] Ingested 5 GA4GH phenopackets.\n",
      "[INFO] Extracted 5 from 5 phenopackets with OMIM:620669\n",
      "\n",
      "\tNeurodegeneration with brain iron accumulation 9 (OMIM:620669): n=5\n",
      "We found a total of 32 unique HPO terms\n",
      "Extracted disease: Neurodegeneration with brain iron accumulation 9 (OMIM:620669)\n",
      "Wrote HPOA disease file to OMIM-620669.tab\n"
     ]
    }
   ],
   "source": [
    "pmid = \"PMID:37660254\"\n",
    "df = timporter.create_hpoa_from_phenopackets(pmid=pmid, moi=\"Autosomal dominant\", target=\"OMIM:620669\")"
   ]
  }
 ],
 "metadata": {
  "kernelspec": {
   "display_name": "ps24venv",
   "language": "python",
   "name": "python3"
  },
  "language_info": {
   "codemirror_mode": {
    "name": "ipython",
    "version": 3
   },
   "file_extension": ".py",
   "mimetype": "text/x-python",
   "name": "python",
   "nbconvert_exporter": "python",
   "pygments_lexer": "ipython3",
   "version": "3.9.6"
  }
 },
 "nbformat": 4,
 "nbformat_minor": 2
}
