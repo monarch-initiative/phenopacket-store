{
 "cells": [
  {
   "cell_type": "markdown",
   "metadata": {},
   "source": [
    "# SLC35C1\n",
    "[congenital disorder of glycosylation type IIc (CDG2C) ](https://omim.org/entry/266265) is caused by homozygous or compound heterozygous mutation in the SLC35C1 gene."
   ]
  },
  {
   "cell_type": "code",
   "execution_count": 3,
   "metadata": {},
   "outputs": [
    {
     "name": "stdout",
     "output_type": "stream",
     "text": [
      "Using pyphetools version 0.9.91\n"
     ]
    }
   ],
   "source": [
    "from pyphetools.creation import TemplateImporter\n",
    "from pyphetools.visualization import IndividualTable, QcVisualizer\n",
    "from IPython.display import display, HTML\n",
    "import pyphetools\n",
    "print(f\"Using pyphetools version {pyphetools.__version__}\")"
   ]
  },
  {
   "cell_type": "code",
   "execution_count": 5,
   "metadata": {},
   "outputs": [],
   "source": [
    "template = \"input/SLC35C1_CDG2C_individuals.xlsx\"\n",
    "created_by = \"0000-0002-0736-9199\""
   ]
  },
  {
   "cell_type": "code",
   "execution_count": 8,
   "metadata": {},
   "outputs": [
    {
     "name": "stdout",
     "output_type": "stream",
     "text": [
      "HPO version 2024-04-26\n",
      "Created encoders for 46 fields\n",
      "Importing OMIM:266265, Congenital disorder of glycosylation, type IIc, HGNC:20197, SLC35C1,  NM_018389.5\n",
      "We output 2 GA4GH phenopackets to the directory phenopackets\n"
     ]
    }
   ],
   "source": [
    "timporter = TemplateImporter(template=template,  created_by=created_by)\n",
    "individual_list, cvalidator = timporter.import_phenopackets_from_template()"
   ]
  },
  {
   "cell_type": "code",
   "execution_count": 9,
   "metadata": {},
   "outputs": [
    {
     "data": {
      "text/html": [
       "<h2>Cohort validation</h2>\n",
       "<p>Errors found with 2 of 2 phenopackets.</p>\n",
       "<table style=\"border: 2px solid black; align: \"left\">\n",
       "<caption>Error counts</caption>\n",
       "<tr><th style=\"text-align: left;font-weight: bold;\">Level</th><th style=\"text-align: left;font-weight: bold;\">Error category</th><th style=\"text-align: left;font-weight: bold;\">Count</th></tr>\n",
       "<tr><td style=\"text-align: left;\">WARNING</td><td style=\"text-align: left;\">REDUNDANT</td><td style=\"text-align: left;\">2</td></tr>\n",
       "</table>\n",
       "<p>A total of 2 issues were fixed and no individual was removed from the cohort.</p>"
      ],
      "text/plain": [
       "<IPython.core.display.HTML object>"
      ]
     },
     "metadata": {},
     "output_type": "display_data"
    }
   ],
   "source": [
    "qc = QcVisualizer(cohort_validator=cvalidator)\n",
    "display(HTML(qc.to_summary_html()))"
   ]
  },
  {
   "cell_type": "code",
   "execution_count": 10,
   "metadata": {},
   "outputs": [
    {
     "data": {
      "text/html": [
       "<table style=\"border: 2px solid black; align: \"left\">\n",
       "<caption>2 phenopackets - PMID:24403049 (n=2)</caption>\n",
       "<tr><th style=\"text-align: left;font-weight: bold;\">Individual</th><th style=\"text-align: left;font-weight: bold;\">Disease</th><th style=\"text-align: left;font-weight: bold;\">Genotype</th><th style=\"text-align: left;font-weight: bold;\">Phenotypic features</th></tr>\n",
       "<tr><td style=\"text-align: left;\">Proband 1 (MALE; P21Y)</td><td style=\"text-align: left;\">Congenital disorder of glycosylation, type IIc (OMIM:266265)</td><td style=\"text-align: left;\"><ul> <li>NM_018389.5:c.91G>T (heterozygous)</li> <li>NM_018389.5:c.503_505del (heterozygous)</li> </ul></td><td style=\"text-align: left;\">Recurrent otitis media (HP:0000403); Intellectual disability, severe (HP:0010864); Global developmental delay (HP:0001263); Anxiety (HP:0000739); Echolalia (HP:0010529); Delayed speech and language development (HP:0000750); Autistic behavior (HP:0000729); Prominent fingertip pads (HP:0001212); Brachydactyly (HP:0001156); Small hand (HP:0200055); Bulbous nose (HP:0000414); Widow's peak (HP:0000349); Coarse facial features (HP:0000280); Short stature (HP:0004322); excluded: Neutrophilia (HP:0011897); excluded: Abnormal circulating amino acid concentration (HP:0003112); excluded: Mucopolysacchariduria (HP:0008155); excluded: Oligosacchariduria (HP:0010471); excluded: Organic aciduria (HP:0001992); excluded: Abnormal serum insulin-like growth factor 1 level (HP:0030352); excluded: Aminoaciduria (HP:0003355)</td></tr>\n",
       "<tr><td style=\"text-align: left;\">Proband 2 (MALE; P19Y)</td><td style=\"text-align: left;\">Congenital disorder of glycosylation, type IIc (OMIM:266265)</td><td style=\"text-align: left;\"><ul> <li>NM_018389.5:c.91G>T (heterozygous)</li> <li>NM_018389.5:c.503_505del (heterozygous)</li> </ul></td><td style=\"text-align: left;\">Recurrent otitis media (HP:0000403); Intellectual disability, severe (HP:0010864); Global developmental delay (HP:0001263); Delayed speech and language development (HP:0000750); Autistic behavior (HP:0000729); Prominent fingertip pads (HP:0001212); Brachydactyly (HP:0001156); Small hand (HP:0200055); Bulbous nose (HP:0000414); Widow's peak (HP:0000349); Coarse facial features (HP:0000280); Short stature (HP:0004322); excluded: Anxiety (HP:0000739); excluded: Echolalia (HP:0010529); excluded: Neutrophilia (HP:0011897); excluded: Abnormal circulating amino acid concentration (HP:0003112); excluded: Mucopolysacchariduria (HP:0008155); excluded: Oligosacchariduria (HP:0010471); excluded: Organic aciduria (HP:0001992); excluded: Abnormal serum insulin-like growth factor 1 level (HP:0030352); excluded: Aminoaciduria (HP:0003355)</td></tr>\n",
       "</table>"
      ],
      "text/plain": [
       "<IPython.core.display.HTML object>"
      ]
     },
     "metadata": {},
     "output_type": "display_data"
    }
   ],
   "source": [
    "table = IndividualTable(cvalidator.get_error_free_individual_list())\n",
    "display(HTML(table.to_html()))"
   ]
  },
  {
   "cell_type": "code",
   "execution_count": 11,
   "metadata": {},
   "outputs": [
    {
     "name": "stdout",
     "output_type": "stream",
     "text": [
      "[pyphetools] Ingested 2 GA4GH phenopackets.\n",
      "[INFO] Extracted 2 from 2 phenopackets with OMIM:266265\n",
      "\n",
      "\tCongenital disorder of glycosylation, type IIc (OMIM:266265): n=2\n",
      "We found a total of 21 unique HPO terms\n",
      "Extracted disease: Congenital disorder of glycosylation, type IIc (OMIM:266265)\n",
      "Wrote HPOA disease file to OMIM-266265.tab\n"
     ]
    }
   ],
   "source": [
    "pmid = \"PMID:24403049\"\n",
    "df = timporter.create_hpoa_from_phenopackets(pmid=pmid, moi=\"Autosomal recessive\", target=\"OMIM:266265\")"
   ]
  }
 ],
 "metadata": {
  "kernelspec": {
   "display_name": "ps24venv",
   "language": "python",
   "name": "python3"
  },
  "language_info": {
   "codemirror_mode": {
    "name": "ipython",
    "version": 3
   },
   "file_extension": ".py",
   "mimetype": "text/x-python",
   "name": "python",
   "nbconvert_exporter": "python",
   "pygments_lexer": "ipython3",
   "version": "3.9.6"
  }
 },
 "nbformat": 4,
 "nbformat_minor": 2
}
