{
 "cells": [
  {
   "cell_type": "markdown",
   "id": "a18e6c29-130e-462c-a28b-0b8df3d5feec",
   "metadata": {},
   "source": [
    "# TAF4\n",
    "[Intellectual developmental disorder, autosomal dominant 73](https://omim.org/entry/620450) is associated with variants in TAF4."
   ]
  },
  {
   "cell_type": "code",
   "execution_count": 1,
   "id": "5e946d7b-c383-4d55-b240-df6203f86ea4",
   "metadata": {},
   "outputs": [
    {
     "name": "stdout",
     "output_type": "stream",
     "text": [
      "Using pyphetools version 0.9.78\n"
     ]
    },
    {
     "name": "stderr",
     "output_type": "stream",
     "text": [
      "/Users/robin/GIT/phenopacket-store/ps24venv/lib/python3.9/site-packages/urllib3/__init__.py:35: NotOpenSSLWarning: urllib3 v2 only supports OpenSSL 1.1.1+, currently the 'ssl' module is compiled with 'LibreSSL 2.8.3'. See: https://github.com/urllib3/urllib3/issues/3020\n",
      "  warnings.warn(\n"
     ]
    }
   ],
   "source": [
    "from pyphetools.creation import TemplateImporter\n",
    "from pyphetools.visualization import IndividualTable, QcVisualizer\n",
    "from IPython.display import display, HTML\n",
    "import pyphetools\n",
    "print(f\"Using pyphetools version {pyphetools.__version__}\")"
   ]
  },
  {
   "cell_type": "code",
   "execution_count": 2,
   "id": "4d9204cd-5912-456b-ae11-316ffe68f543",
   "metadata": {},
   "outputs": [],
   "source": [
    "template = \"input/TAF4_individuals.xlsx\"\n",
    "hp_json = \"../hp.json\"\n",
    "created_by = \"0000-0002-0736-9199\""
   ]
  },
  {
   "cell_type": "code",
   "execution_count": 3,
   "id": "96451606-1420-486e-b6a2-27d65a47d11a",
   "metadata": {},
   "outputs": [
    {
     "name": "stdout",
     "output_type": "stream",
     "text": [
      "HPO version 2024-04-04\n",
      "Created encoders for 27 fields\n",
      "Importing OMIM:620450, Intellectual developmental disorder, autosomal dominant 73, HGNC:11537, TAF4,  NM_003185.4\n",
      "[INFO] encoding variant \"c.2845C>T\"\n",
      "https://rest.variantvalidator.org/VariantValidator/variantvalidator/hg38/NM_003185.4%3Ac.2845C>T/NM_003185.4?content-type=application%2Fjson\n",
      "[INFO] encoding variant \"c.3091-1G>A\"\n",
      "https://rest.variantvalidator.org/VariantValidator/variantvalidator/hg38/NM_003185.4%3Ac.3091-1G>A/NM_003185.4?content-type=application%2Fjson\n",
      "We output 2 GA4GH phenopackets to the directory phenopackets\n"
     ]
    }
   ],
   "source": [
    "timporter = TemplateImporter(template=template, hp_json=hp_json, created_by=created_by)\n",
    "individual_list, cvalidator = timporter.import_phenopackets_from_template()"
   ]
  },
  {
   "cell_type": "code",
   "execution_count": 4,
   "id": "0901ba57-488d-4e9b-b5e5-fff5f9f54569",
   "metadata": {},
   "outputs": [
    {
     "data": {
      "text/html": [
       "<h2>Cohort validation</h2>\n",
       "<p>Errors found with 1 of 2 phenopackets.</p>\n",
       "<table style=\"border: 2px solid black; align: \"left\">\n",
       "<caption>Error counts</caption>\n",
       "<tr><th style=\"text-align: left;font-weight: bold;\">Level</th><th style=\"text-align: left;font-weight: bold;\">Error category</th><th style=\"text-align: left;font-weight: bold;\">Count</th></tr>\n",
       "<tr><td style=\"text-align: left;\">WARNING</td><td style=\"text-align: left;\">REDUNDANT</td><td style=\"text-align: left;\">1</td></tr>\n",
       "</table>\n",
       "<p>A total of 1 issues were fixed and no individual was removed from the cohort.</p>"
      ],
      "text/plain": [
       "<IPython.core.display.HTML object>"
      ]
     },
     "metadata": {},
     "output_type": "display_data"
    }
   ],
   "source": [
    "qc = QcVisualizer(cohort_validator=cvalidator)\n",
    "display(HTML(qc.to_summary_html()))"
   ]
  },
  {
   "cell_type": "code",
   "execution_count": 5,
   "id": "a1e330fc-2eb2-4862-aee2-3246b0682730",
   "metadata": {},
   "outputs": [
    {
     "data": {
      "text/html": [
       "<table style=\"border: 2px solid black; align: \"left\">\n",
       "<caption>2 phenopackets - PMID:33875846 (n=2)</caption>\n",
       "<tr><th style=\"text-align: left;font-weight: bold;\">Individual</th><th style=\"text-align: left;font-weight: bold;\">Disease</th><th style=\"text-align: left;font-weight: bold;\">Genotype</th><th style=\"text-align: left;font-weight: bold;\">Phenotypic features</th></tr>\n",
       "<tr><td style=\"text-align: left;\">individual row 22 (UNKNOWN; n/a)</td><td style=\"text-align: left;\">Intellectual developmental disorder, autosomal dominant 73 (OMIM:620450)</td><td style=\"text-align: left;\">NM_003185.4:c.3091-1G>A (heterozygous)</td><td style=\"text-align: left;\">Abnormal facial shape (HP:0001999); Global developmental delay (HP:0001263); Increased nuchal translucency (HP:0010880); Intellectual disability (HP:0001249); Premature birth (HP:0001622); Short stature (HP:0004322)</td></tr>\n",
       "<tr><td style=\"text-align: left;\">individual row 24 (UNKNOWN; n/a)</td><td style=\"text-align: left;\">Intellectual developmental disorder, autosomal dominant 73 (OMIM:620450)</td><td style=\"text-align: left;\">NM_003185.4:c.2845C>T (heterozygous)</td><td style=\"text-align: left;\">Global developmental delay (HP:0001263); Deeply set eye (HP:0000490); Delayed speech and language development (HP:0000750); Hypotonia (HP:0001252); Narrow nasal bridge (HP:0000446); Triangular face (HP:0000325); excluded: Increased nuchal translucency (HP:0010880)</td></tr>\n",
       "</table>"
      ],
      "text/plain": [
       "<IPython.core.display.HTML object>"
      ]
     },
     "metadata": {},
     "output_type": "display_data"
    }
   ],
   "source": [
    "table = IndividualTable(cvalidator.get_error_free_individual_list())\n",
    "display(HTML(table.to_html()))"
   ]
  },
  {
   "cell_type": "code",
   "execution_count": null,
   "id": "3b938cdf-0964-4dd6-8994-32150349f89a",
   "metadata": {},
   "outputs": [],
   "source": []
  }
 ],
 "metadata": {
  "kernelspec": {
   "display_name": "Python 3 (ipykernel)",
   "language": "python",
   "name": "python3"
  },
  "language_info": {
   "codemirror_mode": {
    "name": "ipython",
    "version": 3
   },
   "file_extension": ".py",
   "mimetype": "text/x-python",
   "name": "python",
   "nbconvert_exporter": "python",
   "pygments_lexer": "ipython3",
   "version": "3.9.6"
  }
 },
 "nbformat": 4,
 "nbformat_minor": 5
}
