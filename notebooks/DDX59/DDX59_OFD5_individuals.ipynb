{
 "cells": [
  {
   "cell_type": "markdown",
   "metadata": {},
   "source": [
    "# DDX59\n",
    "[orofaciodigital syndrome-5 (OFD5)](https://omim.org/entry/174300) is caused by homozygous mutation in the DDX59 gene."
   ]
  },
  {
   "cell_type": "code",
   "execution_count": 1,
   "metadata": {},
   "outputs": [
    {
     "name": "stdout",
     "output_type": "stream",
     "text": [
      "Using pyphetools version 0.9.91\n"
     ]
    },
    {
     "name": "stderr",
     "output_type": "stream",
     "text": [
      "/Users/robin/GIT/phenopacket-store/ps24venv/lib/python3.9/site-packages/urllib3/__init__.py:35: NotOpenSSLWarning: urllib3 v2 only supports OpenSSL 1.1.1+, currently the 'ssl' module is compiled with 'LibreSSL 2.8.3'. See: https://github.com/urllib3/urllib3/issues/3020\n",
      "  warnings.warn(\n"
     ]
    }
   ],
   "source": [
    "from pyphetools.creation import TemplateImporter\n",
    "from pyphetools.visualization import IndividualTable, QcVisualizer\n",
    "from IPython.display import display, HTML\n",
    "import pyphetools\n",
    "print(f\"Using pyphetools version {pyphetools.__version__}\")"
   ]
  },
  {
   "cell_type": "code",
   "execution_count": 2,
   "metadata": {},
   "outputs": [],
   "source": [
    "template = \"input/DDX59_OFD5_individuals.xlsx\"\n",
    "created_by = \"0000-0002-0736-9199\""
   ]
  },
  {
   "cell_type": "code",
   "execution_count": 5,
   "metadata": {},
   "outputs": [
    {
     "name": "stdout",
     "output_type": "stream",
     "text": [
      "HPO version 2024-04-26\n",
      "Created encoders for 50 fields\n",
      "Importing OMIM:174300, Orofaciodigital syndrome V, HGNC:25360, DDX59,  NM_001031725.6\n",
      "[INFO] encoding variant \"c.185del\"\n",
      "https://rest.variantvalidator.org/VariantValidator/variantvalidator/hg38/NM_001031725.6%3Ac.185del/NM_001031725.6?content-type=application%2Fjson\n",
      "We output 8 GA4GH phenopackets to the directory phenopackets\n"
     ]
    }
   ],
   "source": [
    "timporter = TemplateImporter(template=template,  created_by=created_by)\n",
    "individual_list, cvalidator = timporter.import_phenopackets_from_template()"
   ]
  },
  {
   "cell_type": "code",
   "execution_count": 6,
   "metadata": {},
   "outputs": [
    {
     "data": {
      "text/html": [
       "<h2>Cohort validation</h2>\n",
       "<p>No errors found for the cohort with 8 individuals</p>"
      ],
      "text/plain": [
       "<IPython.core.display.HTML object>"
      ]
     },
     "metadata": {},
     "output_type": "display_data"
    }
   ],
   "source": [
    "qc = QcVisualizer(cohort_validator=cvalidator)\n",
    "display(HTML(qc.to_summary_html()))"
   ]
  },
  {
   "cell_type": "code",
   "execution_count": 7,
   "metadata": {},
   "outputs": [
    {
     "data": {
      "text/html": [
       "<table style=\"border: 2px solid black; align: \"left\">\n",
       "<caption>8 phenopackets - PMID:23972372 (n=6); PMID:29127725 (n=2)</caption>\n",
       "<tr><th style=\"text-align: left;font-weight: bold;\">Individual</th><th style=\"text-align: left;font-weight: bold;\">Disease</th><th style=\"text-align: left;font-weight: bold;\">Genotype</th><th style=\"text-align: left;font-weight: bold;\">Phenotypic features</th></tr>\n",
       "<tr><td style=\"text-align: left;\">family 1 V:4 (FEMALE; n/a)</td><td style=\"text-align: left;\">Orofaciodigital syndrome V (OMIM:174300)</td><td style=\"text-align: left;\">NM_001031725.6:c.1100T>G (homozygous)</td><td style=\"text-align: left;\">Postaxial polydactyly (HP:0100259); Scoliosis (HP:0002650); Lobulated tongue (HP:0000180); Frontal bossing (HP:0002007); Cleft palate (HP:0000175); Hypertelorism (HP:0000316); Agenesis of corpus callosum (HP:0001274); Intellectual disability (HP:0001249); Tetralogy of Fallot (HP:0001636); Crossed fused renal ectopia (HP:0004736); excluded: Bifid uvula (HP:0000193); excluded: Aganglionic megacolon (HP:0002251); excluded: Ventricular septal defect (HP:0001629)</td></tr>\n",
       "<tr><td style=\"text-align: left;\">family 1 V:13 (FEMALE; n/a)</td><td style=\"text-align: left;\">Orofaciodigital syndrome V (OMIM:174300)</td><td style=\"text-align: left;\">NM_001031725.6:c.1100T>G (homozygous)</td><td style=\"text-align: left;\">Postaxial polydactyly (HP:0100259); Lobulated tongue (HP:0000180); Frontal bossing (HP:0002007); Cleft palate (HP:0000175); Hypertelorism (HP:0000316); Intellectual disability (HP:0001249); Ventricular septal defect (HP:0001629); excluded: Scoliosis (HP:0002650); excluded: Bifid uvula (HP:0000193); excluded: Agenesis of corpus callosum (HP:0001274); excluded: Aganglionic megacolon (HP:0002251); excluded: Tetralogy of Fallot (HP:0001636); excluded: Crossed fused renal ectopia (HP:0004736)</td></tr>\n",
       "<tr><td style=\"text-align: left;\">family 2 V:1 (MALE; n/a)</td><td style=\"text-align: left;\">Orofaciodigital syndrome V (OMIM:174300)</td><td style=\"text-align: left;\">NM_001031725.6:c.1600G>A (homozygous)</td><td style=\"text-align: left;\">Postaxial polydactyly (HP:0100259); Lobulated tongue (HP:0000180); Bifid uvula (HP:0000193); Frontal bossing (HP:0002007); Hypertelorism (HP:0000316); Aganglionic megacolon (HP:0002251); Intellectual disability (HP:0001249); excluded: Scoliosis (HP:0002650); excluded: Cleft palate (HP:0000175); excluded: Agenesis of corpus callosum (HP:0001274); excluded: Tetralogy of Fallot (HP:0001636); excluded: Ventricular septal defect (HP:0001629); excluded: Crossed fused renal ectopia (HP:0004736)</td></tr>\n",
       "<tr><td style=\"text-align: left;\">family 2  V:2 (FEMALE; n/a)</td><td style=\"text-align: left;\">Orofaciodigital syndrome V (OMIM:174300)</td><td style=\"text-align: left;\">NM_001031725.6:c.1600G>A (homozygous)</td><td style=\"text-align: left;\">Postaxial polydactyly (HP:0100259); Lobulated tongue (HP:0000180); Bifid uvula (HP:0000193); Frontal bossing (HP:0002007); Hypertelorism (HP:0000316); Intellectual disability (HP:0001249); excluded: Scoliosis (HP:0002650); excluded: Cleft palate (HP:0000175); excluded: Agenesis of corpus callosum (HP:0001274); excluded: Aganglionic megacolon (HP:0002251); excluded: Tetralogy of Fallot (HP:0001636); excluded: Ventricular septal defect (HP:0001629); excluded: Crossed fused renal ectopia (HP:0004736)</td></tr>\n",
       "<tr><td style=\"text-align: left;\">family 2 V:7 (MALE; n/a)</td><td style=\"text-align: left;\">Orofaciodigital syndrome V (OMIM:174300)</td><td style=\"text-align: left;\">NM_001031725.6:c.1600G>A (homozygous)</td><td style=\"text-align: left;\">Postaxial polydactyly (HP:0100259); Lobulated tongue (HP:0000180); Bifid uvula (HP:0000193); Frontal bossing (HP:0002007); Hypertelorism (HP:0000316); Intellectual disability (HP:0001249); excluded: Scoliosis (HP:0002650); excluded: Cleft palate (HP:0000175); excluded: Agenesis of corpus callosum (HP:0001274); excluded: Aganglionic megacolon (HP:0002251); excluded: Tetralogy of Fallot (HP:0001636); excluded: Ventricular septal defect (HP:0001629); excluded: Crossed fused renal ectopia (HP:0004736)</td></tr>\n",
       "<tr><td style=\"text-align: left;\">family 2 V:12 (FEMALE; n/a)</td><td style=\"text-align: left;\">Orofaciodigital syndrome V (OMIM:174300)</td><td style=\"text-align: left;\">NM_001031725.6:c.1600G>A (homozygous)</td><td style=\"text-align: left;\">Postaxial polydactyly (HP:0100259); Lobulated tongue (HP:0000180); Bifid uvula (HP:0000193); Frontal bossing (HP:0002007); Hypertelorism (HP:0000316); Intellectual disability (HP:0001249); excluded: Scoliosis (HP:0002650); excluded: Cleft palate (HP:0000175); excluded: Agenesis of corpus callosum (HP:0001274); excluded: Aganglionic megacolon (HP:0002251); excluded: Tetralogy of Fallot (HP:0001636); excluded: Ventricular septal defect (HP:0001629); excluded: Crossed fused renal ectopia (HP:0004736)</td></tr>\n",
       "<tr><td style=\"text-align: left;\">Patient 1 (MALE; P30Y)</td><td style=\"text-align: left;\">Orofaciodigital syndrome V (OMIM:174300)</td><td style=\"text-align: left;\">NM_001031725.6:c.185del (homozygous)</td><td style=\"text-align: left;\">Postaxial polydactyly (HP:0100259); Cutaneous syndactyly (HP:0012725); Clinodactyly of the 5th finger (HP:0004209); Prominent fingertip pads (HP:0001212); High palate (HP:0000218); Thick eyebrow (HP:0000574); Mandibular prognathia (HP:0000303); Dental malocclusion (HP:0000689); Generalized-onset seizure (HP:0002197); Global developmental delay (HP:0001263); Intellectual disability (HP:0001249); Recurrent subcortical infarcts (HP:0007236); excluded: Microcephaly (HP:0000252)</td></tr>\n",
       "<tr><td style=\"text-align: left;\">Patient 2 (FEMALE; P21Y)</td><td style=\"text-align: left;\">Orofaciodigital syndrome V (OMIM:174300)</td><td style=\"text-align: left;\">NM_001031725.6:c.185del (homozygous)</td><td style=\"text-align: left;\">Postaxial polydactyly (HP:0100259); High palate (HP:0000218); Microcephaly (HP:0000252); Dental malocclusion (HP:0000689); Bilateral tonic-clonic seizure with generalized onset (HP:0025190); Global developmental delay (HP:0001263); Intellectual disability (HP:0001249)</td></tr>\n",
       "</table>"
      ],
      "text/plain": [
       "<IPython.core.display.HTML object>"
      ]
     },
     "metadata": {},
     "output_type": "display_data"
    }
   ],
   "source": [
    "table = IndividualTable(cvalidator.get_error_free_individual_list())\n",
    "display(HTML(table.to_html()))"
   ]
  },
  {
   "cell_type": "code",
   "execution_count": 8,
   "metadata": {},
   "outputs": [
    {
     "name": "stdout",
     "output_type": "stream",
     "text": [
      "[pyphetools] Ingested 8 GA4GH phenopackets.\n",
      "[INFO] Extracted 8 from 8 phenopackets with OMIM:174300\n",
      "\n",
      "\tOrofaciodigital syndrome V (OMIM:174300): n=8\n",
      "We found a total of 25 unique HPO terms\n",
      "Extracted disease: Orofaciodigital syndrome V (OMIM:174300)\n",
      "Wrote HPOA disease file to OMIM-174300.tab\n"
     ]
    }
   ],
   "source": [
    "pmid = \"PMID:23972372\"\n",
    "df = timporter.create_hpoa_from_phenopackets(pmid=pmid, moi=\"Autosomal recessive\", target=\"OMIM:174300\")"
   ]
  }
 ],
 "metadata": {
  "kernelspec": {
   "display_name": "ps24venv",
   "language": "python",
   "name": "python3"
  },
  "language_info": {
   "codemirror_mode": {
    "name": "ipython",
    "version": 3
   },
   "file_extension": ".py",
   "mimetype": "text/x-python",
   "name": "python",
   "nbconvert_exporter": "python",
   "pygments_lexer": "ipython3",
   "version": "3.9.6"
  }
 },
 "nbformat": 4,
 "nbformat_minor": 2
}
