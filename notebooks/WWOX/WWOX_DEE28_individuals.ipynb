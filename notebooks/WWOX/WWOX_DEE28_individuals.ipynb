{
 "cells": [
  {
   "cell_type": "markdown",
   "id": "a39f3c65",
   "metadata": {},
   "source": [
    "<h1>WWOX: Developmental and epileptic encephalopathy 28</h1>"
   ]
  },
  {
   "cell_type": "code",
   "execution_count": 1,
   "id": "e5d196a5-0eea-4172-8e54-e1b0cbcd7d21",
   "metadata": {},
   "outputs": [
    {
     "name": "stdout",
     "output_type": "stream",
     "text": [
      "Using pyphetools version 0.9.84\n"
     ]
    },
    {
     "name": "stderr",
     "output_type": "stream",
     "text": [
      "/Users/robin/GIT/phenopacket-store/ps24venv/lib/python3.9/site-packages/urllib3/__init__.py:35: NotOpenSSLWarning: urllib3 v2 only supports OpenSSL 1.1.1+, currently the 'ssl' module is compiled with 'LibreSSL 2.8.3'. See: https://github.com/urllib3/urllib3/issues/3020\n",
      "  warnings.warn(\n"
     ]
    }
   ],
   "source": [
    "from pyphetools.creation import TemplateImporter\n",
    "from pyphetools.visualization import IndividualTable, QcVisualizer\n",
    "from IPython.display import display, HTML\n",
    "import pyphetools\n",
    "print(f\"Using pyphetools version {pyphetools.__version__}\")"
   ]
  },
  {
   "cell_type": "code",
   "execution_count": 2,
   "id": "6fbeec2a-08f4-409a-80f7-60fe62e5c626",
   "metadata": {},
   "outputs": [],
   "source": [
    "template = \"input/WWOX_DEE28_individuals.xlsx\"\n",
    "hp_json = \"../hp.json\"\n",
    "created_by = \"0000-0002-0736-9199\""
   ]
  },
  {
   "cell_type": "code",
   "execution_count": 3,
   "id": "5a7789fc",
   "metadata": {},
   "outputs": [
    {
     "name": "stdout",
     "output_type": "stream",
     "text": [
      "HPO version 2024-04-04\n",
      "Created encoders for 67 fields\n",
      "Importing OMIM:616211, Developmental and epileptic encephalopathy 28, HGNC:12799, WWOX,  NM_016373.2\n",
      "We output 28 GA4GH phenopackets to the directory phenopackets\n"
     ]
    }
   ],
   "source": [
    "dels = {\"DEL:c.517-?_605+?del\",\"DEL:c.517-?_1056+?del\",\"DEL:c.-366-? *871+?del\",\"DEL:c.-366-?_516+?del\" }\n",
    "\n",
    "timporter = TemplateImporter(template=template, hp_json=hp_json, created_by=created_by)\n",
    "individual_list, cvalidator = timporter.import_phenopackets_from_template(deletions=dels)"
   ]
  },
  {
   "cell_type": "code",
   "execution_count": 4,
   "id": "56ee298e-10fa-445e-8349-5ab11d8dedad",
   "metadata": {},
   "outputs": [
    {
     "data": {
      "text/html": [
       "<h2>Cohort validation</h2>\n",
       "<p>Errors found with 26 of 28 phenopackets.</p>\n",
       "<table style=\"border: 2px solid black; align: \"left\">\n",
       "<caption>Error counts</caption>\n",
       "<tr><th style=\"text-align: left;font-weight: bold;\">Level</th><th style=\"text-align: left;font-weight: bold;\">Error category</th><th style=\"text-align: left;font-weight: bold;\">Count</th></tr>\n",
       "<tr><td style=\"text-align: left;\">ERROR</td><td style=\"text-align: left;\">CONFLICT</td><td style=\"text-align: left;\">4</td></tr>\n",
       "<tr><td style=\"text-align: left;\">WARNING</td><td style=\"text-align: left;\">REDUNDANT</td><td style=\"text-align: left;\">42</td></tr>\n",
       "</table>\n",
       "<p>A total of 46 issues were fixed and no individual was removed from the cohort.</p>"
      ],
      "text/plain": [
       "<IPython.core.display.HTML object>"
      ]
     },
     "metadata": {},
     "output_type": "display_data"
    }
   ],
   "source": [
    "qc = QcVisualizer(cohort_validator=cvalidator)\n",
    "display(HTML(qc.to_summary_html()))"
   ]
  },
  {
   "cell_type": "code",
   "execution_count": 5,
   "id": "5d044b78",
   "metadata": {},
   "outputs": [
    {
     "data": {
      "text/html": [
       "<h2>Cohort validation</h2>\n",
       "<p>Errors found with 26 of 28 phenopackets.</p>\n",
       "<table style=\"border: 2px solid black; align: \"left\">\n",
       "<caption>Error counts</caption>\n",
       "<tr><th style=\"text-align: left;font-weight: bold;\">Level</th><th style=\"text-align: left;font-weight: bold;\">Error category</th><th style=\"text-align: left;font-weight: bold;\">Count</th></tr>\n",
       "<tr><td style=\"text-align: left;\">ERROR</td><td style=\"text-align: left;\">CONFLICT</td><td style=\"text-align: left;\">4</td></tr>\n",
       "<tr><td style=\"text-align: left;\">WARNING</td><td style=\"text-align: left;\">REDUNDANT</td><td style=\"text-align: left;\">42</td></tr>\n",
       "</table>\n",
       "<p>A total of 46 issues were fixed and no individual was removed from the cohort.</p>"
      ],
      "text/plain": [
       "<IPython.core.display.HTML object>"
      ]
     },
     "metadata": {},
     "output_type": "display_data"
    }
   ],
   "source": [
    "qc = QcVisualizer(cohort_validator=cvalidator)\n",
    "display(HTML(qc.to_summary_html()))"
   ]
  },
  {
   "cell_type": "code",
   "execution_count": 6,
   "id": "23f1094f",
   "metadata": {},
   "outputs": [
    {
     "data": {
      "text/html": [
       "<table style=\"border: 2px solid black; align: \"left\">\n",
       "<caption>28 phenopackets - PMID:25411445 (n=6); PMID:30356099 (n=20); PMID:27495153 (n=2)</caption>\n",
       "<tr><th style=\"text-align: left;font-weight: bold;\">Individual</th><th style=\"text-align: left;font-weight: bold;\">Disease</th><th style=\"text-align: left;font-weight: bold;\">Genotype</th><th style=\"text-align: left;font-weight: bold;\">Phenotypic features</th></tr>\n",
       "<tr><td style=\"text-align: left;\">Patient 1 (FEMALE; P3Y)</td><td style=\"text-align: left;\">Developmental and epileptic encephalopathy 28 (OMIM:616211)</td><td style=\"text-align: left;\"><ul> <li>DEL:c.-366-?_516+?del: chromosomal_deletion (SO:1000029)</li> <li>DEL:c.517-?_1056+?del: chromosomal_deletion (SO:1000029)</li> </ul></td><td style=\"text-align: left;\">Thin corpus callosum (HP:0033725); Focal tonic seizure (HP:0011167); Epileptic encephalopathy (HP:0200134); Hypokinesia (HP:0002375); Global developmental delay (HP:0001263); Axial hypotonia (HP:0008936); Secondary microcephaly (HP:0005484); EEG abnormality (HP:0002353); Reduced eye contact (HP:0000817); excluded: Abnormal electroretinogram (HP:0000512); excluded: Optic atrophy (HP:0000648); excluded: Retinal degeneration (HP:0000546); excluded: Cerebral atrophy (HP:0002059); excluded: Generalized non-motor (absence) seizure (HP:0002121); excluded: Epileptic spasm (HP:0011097); excluded: Bilateral tonic-clonic seizure with focal onset (HP:0007334); excluded: Generalized clonic seizure (HP:0011169); excluded: Focal clonic seizure (HP:0002266); excluded: Spasticity (HP:0001257); excluded: Delayed CNS myelination (HP:0002188); excluded: Hyperreflexia (HP:0001347); excluded: Rigidity (HP:0002063); excluded: Ataxia (HP:0001251); excluded: Sudden unexpected death in epilepsy (HP:0033258); excluded: Increased nuchal translucency (HP:0010880)</td></tr>\n",
       "<tr><td style=\"text-align: left;\">Patient 2 (FEMALE; P1Y10M)</td><td style=\"text-align: left;\">Developmental and epileptic encephalopathy 28 (OMIM:616211)</td><td style=\"text-align: left;\"><ul> <li>NM_016373.2:c.1005G>A (heterozygous)</li> <li>DEL:c.517-?_605+?del: chromosomal_deletion (SO:1000029)</li> </ul></td><td style=\"text-align: left;\">Abnormal electroretinogram (HP:0000512); Generalized clonic seizure (HP:0011169); Focal tonic seizure (HP:0011167); Epileptic encephalopathy (HP:0200134); Spasticity (HP:0001257); Hypokinesia (HP:0002375); Global developmental delay (HP:0001263); Delayed CNS myelination (HP:0002188); Hyperreflexia (HP:0001347); Rigidity (HP:0002063); Axial hypotonia (HP:0008936); Secondary microcephaly (HP:0005484); EEG abnormality (HP:0002353); Reduced eye contact (HP:0000817); Sudden unexpected death in epilepsy (HP:0033258); excluded: Optic atrophy (HP:0000648); excluded: Retinal degeneration (HP:0000546); excluded: Thin corpus callosum (HP:0033725); excluded: Cerebral atrophy (HP:0002059); excluded: Generalized non-motor (absence) seizure (HP:0002121); excluded: Epileptic spasm (HP:0011097); excluded: Bilateral tonic-clonic seizure with focal onset (HP:0007334); excluded: Focal clonic seizure (HP:0002266); excluded: Ataxia (HP:0001251); excluded: Increased nuchal translucency (HP:0010880)</td></tr>\n",
       "<tr><td style=\"text-align: left;\">Patient 3 (MALE; P4Y)</td><td style=\"text-align: left;\">Developmental and epileptic encephalopathy 28 (OMIM:616211)</td><td style=\"text-align: left;\"><ul> <li>NM_016373.2:c.46_49del (heterozygous)</li> <li>NM_016373.2:c.140C>G (heterozygous)</li> </ul></td><td style=\"text-align: left;\">Increased nuchal translucency (HP:0010880); Bilateral tonic-clonic seizure with focal onset (HP:0007334); Epileptic encephalopathy (HP:0200134); Global developmental delay (HP:0001263); Axial hypotonia (HP:0008936); EEG abnormality (HP:0002353); excluded: Abnormal electroretinogram (HP:0000512); excluded: Optic atrophy (HP:0000648); excluded: Retinal degeneration (HP:0000546); excluded: Thin corpus callosum (HP:0033725); excluded: Cerebral atrophy (HP:0002059); excluded: Generalized non-motor (absence) seizure (HP:0002121); excluded: Epileptic spasm (HP:0011097); excluded: Generalized clonic seizure (HP:0011169); excluded: Focal clonic seizure (HP:0002266); excluded: Focal tonic seizure (HP:0011167); excluded: Spasticity (HP:0001257); excluded: Hypokinesia (HP:0002375); excluded: Delayed CNS myelination (HP:0002188); excluded: Hyperreflexia (HP:0001347); excluded: Rigidity (HP:0002063); excluded: Secondary microcephaly (HP:0005484); excluded: Ataxia (HP:0001251); excluded: Reduced eye contact (HP:0000817); excluded: Sudden unexpected death in epilepsy (HP:0033258)</td></tr>\n",
       "<tr><td style=\"text-align: left;\">Patient 4 (FEMALE; P3Y)</td><td style=\"text-align: left;\">Developmental and epileptic encephalopathy 28 (OMIM:616211)</td><td style=\"text-align: left;\"><ul> <li>NM_016373.2:c.46_49del (heterozygous)</li> <li>NM_016373.2:c.140C>G (heterozygous)</li> </ul></td><td style=\"text-align: left;\">Increased nuchal translucency (HP:0010880); Bilateral tonic-clonic seizure with focal onset (HP:0007334); Epileptic encephalopathy (HP:0200134); Global developmental delay (HP:0001263); Axial hypotonia (HP:0008936); EEG abnormality (HP:0002353); excluded: Abnormal electroretinogram (HP:0000512); excluded: Optic atrophy (HP:0000648); excluded: Retinal degeneration (HP:0000546); excluded: Thin corpus callosum (HP:0033725); excluded: Cerebral atrophy (HP:0002059); excluded: Generalized non-motor (absence) seizure (HP:0002121); excluded: Epileptic spasm (HP:0011097); excluded: Generalized clonic seizure (HP:0011169); excluded: Focal clonic seizure (HP:0002266); excluded: Focal tonic seizure (HP:0011167); excluded: Spasticity (HP:0001257); excluded: Hypokinesia (HP:0002375); excluded: Delayed CNS myelination (HP:0002188); excluded: Hyperreflexia (HP:0001347); excluded: Rigidity (HP:0002063); excluded: Secondary microcephaly (HP:0005484); excluded: Ataxia (HP:0001251); excluded: Reduced eye contact (HP:0000817); excluded: Sudden unexpected death in epilepsy (HP:0033258)</td></tr>\n",
       "<tr><td style=\"text-align: left;\">Patient 5 (FEMALE; P3Y2M)</td><td style=\"text-align: left;\">Developmental and epileptic encephalopathy 28 (OMIM:616211)</td><td style=\"text-align: left;\"><ul> <li>NM_016373.2:c.889A>T (heterozygous)</li> <li>DEL:c.-366-? *871+?del: chromosomal_deletion (SO:1000029)</li> </ul></td><td style=\"text-align: left;\">Increased nuchal translucency (HP:0010880); Abnormal electroretinogram (HP:0000512); Cerebral atrophy (HP:0002059); Epileptic spasm (HP:0011097); Epileptic encephalopathy (HP:0200134); Spasticity (HP:0001257); Hypokinesia (HP:0002375); Global developmental delay (HP:0001263); Hyperreflexia (HP:0001347); Rigidity (HP:0002063); Axial hypotonia (HP:0008936); EEG abnormality (HP:0002353); Reduced eye contact (HP:0000817); Sudden unexpected death in epilepsy (HP:0033258); excluded: Optic atrophy (HP:0000648); excluded: Retinal degeneration (HP:0000546); excluded: Thin corpus callosum (HP:0033725); excluded: Generalized non-motor (absence) seizure (HP:0002121); excluded: Bilateral tonic-clonic seizure with focal onset (HP:0007334); excluded: Generalized clonic seizure (HP:0011169); excluded: Focal clonic seizure (HP:0002266); excluded: Focal tonic seizure (HP:0011167); excluded: Delayed CNS myelination (HP:0002188); excluded: Secondary microcephaly (HP:0005484); excluded: Ataxia (HP:0001251)</td></tr>\n",
       "<tr><td style=\"text-align: left;\">Abdel-Salam et al II:4 (FEMALE; n/a)</td><td style=\"text-align: left;\">Developmental and epileptic encephalopathy 28 (OMIM:616211)</td><td style=\"text-align: left;\">NM_016373.2:c.160C>T (homozygous)</td><td style=\"text-align: left;\">Optic atrophy (HP:0000648); Retinal degeneration (HP:0000546); Thin corpus callosum (HP:0033725); Cerebral atrophy (HP:0002059); Seizure (HP:0001250); Epileptic encephalopathy (HP:0200134); Global developmental delay (HP:0001263); Hyperreflexia (HP:0001347); Secondary microcephaly (HP:0005484); EEG abnormality (HP:0002353); Reduced eye contact (HP:0000817); Sudden unexpected death in epilepsy (HP:0033258); excluded: Generalized non-motor (absence) seizure (HP:0002121); excluded: Epileptic spasm (HP:0011097); excluded: Bilateral tonic-clonic seizure with focal onset (HP:0007334); excluded: Generalized clonic seizure (HP:0011169); excluded: Focal clonic seizure (HP:0002266); excluded: Focal tonic seizure (HP:0011167); excluded: Hypokinesia (HP:0002375); excluded: Delayed CNS myelination (HP:0002188); excluded: Rigidity (HP:0002063); excluded: Ataxia (HP:0001251)</td></tr>\n",
       "<tr><td style=\"text-align: left;\">Patient 1 (FEMALE; P1Y4M)</td><td style=\"text-align: left;\">Developmental and epileptic encephalopathy 28 (OMIM:616211)</td><td style=\"text-align: left;\"><ul> <li>NM_016373.2:c.173-1G>T (heterozygous)</li> <li>NM_016373.2:c.517_1056dup (heterozygous)</li> </ul></td><td style=\"text-align: left;\">Thin corpus callosum (HP:0033725); Bilateral tonic-clonic seizure with focal onset (HP:0007334); Focal clonic seizure (HP:0002266); Epileptic encephalopathy (HP:0200134); Global developmental delay (HP:0001263); Axial hypotonia (HP:0008936); EEG abnormality (HP:0002353); Micrognathia (HP:0000347); Anteverted nares (HP:0000463); excluded: Optic atrophy (HP:0000648); excluded: Cerebral atrophy (HP:0002059); excluded: Generalized non-motor (absence) seizure (HP:0002121); excluded: Epileptic spasm (HP:0011097); excluded: Generalized clonic seizure (HP:0011169); excluded: Focal tonic seizure (HP:0011167); excluded: Hypokinesia (HP:0002375); excluded: Delayed CNS myelination (HP:0002188); excluded: Reduced eye contact (HP:0000817); excluded: Decreased fetal movement (HP:0001558); excluded: Round face (HP:0000311); excluded: Frontal bossing (HP:0002007); excluded: Short neck (HP:0000470); excluded: Narrow forehead (HP:0000341); excluded: Upslanted palpebral fissure (HP:0000582); excluded: Uplifted earlobe (HP:0009909)</td></tr>\n",
       "<tr><td style=\"text-align: left;\">Patient 2  (FEMALE; P3Y5M)</td><td style=\"text-align: left;\">Developmental and epileptic encephalopathy 28 (OMIM:616211)</td><td style=\"text-align: left;\"><ul> <li>NM_016373.2:c.231_409del (heterozygous)</li> <li>NM_016373.2:c.607_791+1del (heterozygous)</li> </ul></td><td style=\"text-align: left;\">Abnormal electroretinogram (HP:0000512); Thin corpus callosum (HP:0033725); Cerebral atrophy (HP:0002059); Bilateral tonic-clonic seizure with focal onset (HP:0007334); Epileptic encephalopathy (HP:0200134); Spasticity (HP:0001257); Hypokinesia (HP:0002375); Global developmental delay (HP:0001263); Axial hypotonia (HP:0008936); EEG abnormality (HP:0002353); Reduced eye contact (HP:0000817); excluded: Optic atrophy (HP:0000648); excluded: Generalized non-motor (absence) seizure (HP:0002121); excluded: Epileptic spasm (HP:0011097); excluded: Generalized clonic seizure (HP:0011169); excluded: Focal clonic seizure (HP:0002266); excluded: Focal tonic seizure (HP:0011167); excluded: Delayed CNS myelination (HP:0002188); excluded: Decreased fetal movement (HP:0001558); excluded: Round face (HP:0000311); excluded: Frontal bossing (HP:0002007); excluded: Short neck (HP:0000470); excluded: Narrow forehead (HP:0000341); excluded: Micrognathia (HP:0000347); excluded: Anteverted nares (HP:0000463); excluded: Upslanted palpebral fissure (HP:0000582); excluded: Uplifted earlobe (HP:0009909)</td></tr>\n",
       "<tr><td style=\"text-align: left;\">Patient 3 (FEMALE; P1Y3M)</td><td style=\"text-align: left;\">Developmental and epileptic encephalopathy 28 (OMIM:616211)</td><td style=\"text-align: left;\"><ul> <li>NM_016373.2:c.953C>T (heterozygous)</li> <li>NM_016373.2:c.517_1056del (heterozygous)</li> </ul></td><td style=\"text-align: left;\">Thin corpus callosum (HP:0033725); Cerebral atrophy (HP:0002059); Epileptic spasm (HP:0011097); Epileptic encephalopathy (HP:0200134); Hypokinesia (HP:0002375); Global developmental delay (HP:0001263); EEG abnormality (HP:0002353); excluded: Abnormal electroretinogram (HP:0000512); excluded: Optic atrophy (HP:0000648); excluded: Generalized non-motor (absence) seizure (HP:0002121); excluded: Bilateral tonic-clonic seizure with focal onset (HP:0007334); excluded: Generalized clonic seizure (HP:0011169); excluded: Focal clonic seizure (HP:0002266); excluded: Focal tonic seizure (HP:0011167); excluded: Spasticity (HP:0001257); excluded: Delayed CNS myelination (HP:0002188); excluded: Reduced eye contact (HP:0000817); excluded: Decreased fetal movement (HP:0001558); excluded: Round face (HP:0000311); excluded: Frontal bossing (HP:0002007); excluded: Short neck (HP:0000470); excluded: Narrow forehead (HP:0000341); excluded: Micrognathia (HP:0000347); excluded: Anteverted nares (HP:0000463); excluded: Upslanted palpebral fissure (HP:0000582); excluded: Uplifted earlobe (HP:0009909)</td></tr>\n",
       "<tr><td style=\"text-align: left;\">Patient 4 (FEMALE; P6M)</td><td style=\"text-align: left;\">Developmental and epileptic encephalopathy 28 (OMIM:616211)</td><td style=\"text-align: left;\"><ul> <li>NM_016373.2:c.411_516+1del (heterozygous)</li> <li>NM_016373.2:c.607_791+1del (heterozygous)</li> </ul></td><td style=\"text-align: left;\">Thin corpus callosum (HP:0033725); Cerebral atrophy (HP:0002059); Bilateral tonic-clonic seizure with focal onset (HP:0007334); Epileptic encephalopathy (HP:0200134); Spasticity (HP:0001257); Hypokinesia (HP:0002375); Global developmental delay (HP:0001263); EEG abnormality (HP:0002353); Reduced eye contact (HP:0000817); Decreased fetal movement (HP:0001558); Round face (HP:0000311); Frontal bossing (HP:0002007); Short neck (HP:0000470); Narrow forehead (HP:0000341); Micrognathia (HP:0000347); excluded: Optic atrophy (HP:0000648); excluded: Generalized non-motor (absence) seizure (HP:0002121); excluded: Epileptic spasm (HP:0011097); excluded: Generalized clonic seizure (HP:0011169); excluded: Focal clonic seizure (HP:0002266); excluded: Focal tonic seizure (HP:0011167); excluded: Delayed CNS myelination (HP:0002188); excluded: Anteverted nares (HP:0000463); excluded: Upslanted palpebral fissure (HP:0000582); excluded: Uplifted earlobe (HP:0009909)</td></tr>\n",
       "<tr><td style=\"text-align: left;\">Patient 5 (MALE; P2Y4M)</td><td style=\"text-align: left;\">Developmental and epileptic encephalopathy 28 (OMIM:616211)</td><td style=\"text-align: left;\">NM_016373.2:c.517_1056del (homozygous)</td><td style=\"text-align: left;\">Abnormal electroretinogram (HP:0000512); Optic atrophy (HP:0000648); Thin corpus callosum (HP:0033725); Cerebral atrophy (HP:0002059); Bilateral tonic-clonic seizure with focal onset (HP:0007334); Focal clonic seizure (HP:0002266); Epileptic encephalopathy (HP:0200134); Spasticity (HP:0001257); Hypokinesia (HP:0002375); Global developmental delay (HP:0001263); EEG abnormality (HP:0002353); Reduced eye contact (HP:0000817); Anteverted nares (HP:0000463); excluded: Generalized non-motor (absence) seizure (HP:0002121); excluded: Epileptic spasm (HP:0011097); excluded: Generalized clonic seizure (HP:0011169); excluded: Focal tonic seizure (HP:0011167); excluded: Delayed CNS myelination (HP:0002188); excluded: Axial hypotonia (HP:0008936); excluded: Decreased fetal movement (HP:0001558); excluded: Round face (HP:0000311); excluded: Frontal bossing (HP:0002007); excluded: Short neck (HP:0000470); excluded: Narrow forehead (HP:0000341); excluded: Micrognathia (HP:0000347); excluded: Upslanted palpebral fissure (HP:0000582); excluded: Uplifted earlobe (HP:0009909)</td></tr>\n",
       "<tr><td style=\"text-align: left;\">Patient 6  (FEMALE; P10Y)</td><td style=\"text-align: left;\">Developmental and epileptic encephalopathy 28 (OMIM:616211)</td><td style=\"text-align: left;\"><ul> <li>NM_016373.2:c.689A>C (heterozygous)</li> <li>NM_016373.2:c.1138dup (heterozygous)</li> </ul></td><td style=\"text-align: left;\">Optic atrophy (HP:0000648); Thin corpus callosum (HP:0033725); Epileptic spasm (HP:0011097); Focal clonic seizure (HP:0002266); Epileptic encephalopathy (HP:0200134); Spasticity (HP:0001257); Hypokinesia (HP:0002375); Global developmental delay (HP:0001263); EEG abnormality (HP:0002353); Reduced eye contact (HP:0000817); Round face (HP:0000311); excluded: Cerebral atrophy (HP:0002059); excluded: Generalized non-motor (absence) seizure (HP:0002121); excluded: Bilateral tonic-clonic seizure with focal onset (HP:0007334); excluded: Generalized clonic seizure (HP:0011169); excluded: Focal tonic seizure (HP:0011167); excluded: Delayed CNS myelination (HP:0002188); excluded: Decreased fetal movement (HP:0001558); excluded: Frontal bossing (HP:0002007); excluded: Short neck (HP:0000470); excluded: Narrow forehead (HP:0000341); excluded: Micrognathia (HP:0000347); excluded: Anteverted nares (HP:0000463); excluded: Upslanted palpebral fissure (HP:0000582); excluded: Uplifted earlobe (HP:0009909)</td></tr>\n",
       "<tr><td style=\"text-align: left;\">Patient 7  (FEMALE; P3Y)</td><td style=\"text-align: left;\">Developmental and epileptic encephalopathy 28 (OMIM:616211)</td><td style=\"text-align: left;\">NM_016373.2:c.689A>C (homozygous)</td><td style=\"text-align: left;\">Thin corpus callosum (HP:0033725); Cerebral atrophy (HP:0002059); Generalized non-motor (absence) seizure (HP:0002121); Bilateral tonic-clonic seizure (HP:0002069); Epileptic encephalopathy (HP:0200134); Hypokinesia (HP:0002375); Global developmental delay (HP:0001263); EEG abnormality (HP:0002353); Reduced eye contact (HP:0000817); excluded: Abnormal electroretinogram (HP:0000512); excluded: Optic atrophy (HP:0000648); excluded: Epileptic spasm (HP:0011097); excluded: Bilateral tonic-clonic seizure with focal onset (HP:0007334); excluded: Generalized clonic seizure (HP:0011169); excluded: Focal clonic seizure (HP:0002266); excluded: Focal tonic seizure (HP:0011167); excluded: Spasticity (HP:0001257); excluded: Delayed CNS myelination (HP:0002188); excluded: Decreased fetal movement (HP:0001558); excluded: Round face (HP:0000311); excluded: Frontal bossing (HP:0002007); excluded: Short neck (HP:0000470); excluded: Narrow forehead (HP:0000341); excluded: Micrognathia (HP:0000347); excluded: Anteverted nares (HP:0000463); excluded: Upslanted palpebral fissure (HP:0000582); excluded: Uplifted earlobe (HP:0009909)</td></tr>\n",
       "<tr><td style=\"text-align: left;\">Patient 8 (MALE; P2Y4M)</td><td style=\"text-align: left;\">Developmental and epileptic encephalopathy 28 (OMIM:616211)</td><td style=\"text-align: left;\"><ul> <li>NM_016373.2:c.173-1G>T (heterozygous)</li> <li>NM_016373.2:c.918del (heterozygous)</li> </ul></td><td style=\"text-align: left;\">Optic atrophy (HP:0000648); Thin corpus callosum (HP:0033725); Cerebral atrophy (HP:0002059); Epileptic spasm (HP:0011097); Bilateral tonic-clonic seizure (HP:0002069); Epileptic encephalopathy (HP:0200134); Spasticity (HP:0001257); Hypokinesia (HP:0002375); Global developmental delay (HP:0001263); Axial hypotonia (HP:0008936); EEG abnormality (HP:0002353); Reduced eye contact (HP:0000817); Decreased fetal movement (HP:0001558); excluded: Generalized non-motor (absence) seizure (HP:0002121); excluded: Bilateral tonic-clonic seizure with focal onset (HP:0007334); excluded: Generalized clonic seizure (HP:0011169); excluded: Focal clonic seizure (HP:0002266); excluded: Focal tonic seizure (HP:0011167); excluded: Delayed CNS myelination (HP:0002188); excluded: Round face (HP:0000311); excluded: Frontal bossing (HP:0002007); excluded: Short neck (HP:0000470); excluded: Narrow forehead (HP:0000341); excluded: Micrognathia (HP:0000347); excluded: Anteverted nares (HP:0000463); excluded: Upslanted palpebral fissure (HP:0000582); excluded: Uplifted earlobe (HP:0009909)</td></tr>\n",
       "<tr><td style=\"text-align: left;\">Patient 9  (MALE; P2Y6M)</td><td style=\"text-align: left;\">Developmental and epileptic encephalopathy 28 (OMIM:616211)</td><td style=\"text-align: left;\"><ul> <li>NM_016373.2:c.410G>A (heterozygous)</li> <li>NM_016373.2:c.517_791del (heterozygous)</li> </ul></td><td style=\"text-align: left;\">Thin corpus callosum (HP:0033725); Epileptic spasm (HP:0011097); Epileptic encephalopathy (HP:0200134); Hypokinesia (HP:0002375); Global developmental delay (HP:0001263); EEG abnormality (HP:0002353); Decreased fetal movement (HP:0001558); excluded: Optic atrophy (HP:0000648); excluded: Cerebral atrophy (HP:0002059); excluded: Generalized non-motor (absence) seizure (HP:0002121); excluded: Bilateral tonic-clonic seizure with focal onset (HP:0007334); excluded: Generalized clonic seizure (HP:0011169); excluded: Focal clonic seizure (HP:0002266); excluded: Focal tonic seizure (HP:0011167); excluded: Delayed CNS myelination (HP:0002188); excluded: Axial hypotonia (HP:0008936); excluded: Round face (HP:0000311); excluded: Frontal bossing (HP:0002007); excluded: Short neck (HP:0000470); excluded: Narrow forehead (HP:0000341); excluded: Micrognathia (HP:0000347); excluded: Anteverted nares (HP:0000463); excluded: Upslanted palpebral fissure (HP:0000582); excluded: Uplifted earlobe (HP:0009909)</td></tr>\n",
       "<tr><td style=\"text-align: left;\">Patient 10  (MALE; P2Y)</td><td style=\"text-align: left;\">Developmental and epileptic encephalopathy 28 (OMIM:616211)</td><td style=\"text-align: left;\">NM_016373.2:c.1_409del (homozygous)</td><td style=\"text-align: left;\">Bilateral tonic-clonic seizure (HP:0002069); Epileptic encephalopathy (HP:0200134); Hypokinesia (HP:0002375); Global developmental delay (HP:0001263); EEG abnormality (HP:0002353); Short neck (HP:0000470); Uplifted earlobe (HP:0009909); excluded: Optic atrophy (HP:0000648); excluded: Thin corpus callosum (HP:0033725); excluded: Cerebral atrophy (HP:0002059); excluded: Generalized non-motor (absence) seizure (HP:0002121); excluded: Epileptic spasm (HP:0011097); excluded: Bilateral tonic-clonic seizure with focal onset (HP:0007334); excluded: Generalized clonic seizure (HP:0011169); excluded: Focal clonic seizure (HP:0002266); excluded: Focal tonic seizure (HP:0011167); excluded: Delayed CNS myelination (HP:0002188); excluded: Axial hypotonia (HP:0008936); excluded: Reduced eye contact (HP:0000817); excluded: Decreased fetal movement (HP:0001558); excluded: Round face (HP:0000311); excluded: Frontal bossing (HP:0002007); excluded: Narrow forehead (HP:0000341); excluded: Micrognathia (HP:0000347); excluded: Anteverted nares (HP:0000463); excluded: Upslanted palpebral fissure (HP:0000582)</td></tr>\n",
       "<tr><td style=\"text-align: left;\">Patient 11  (FEMALE; P2Y6M)</td><td style=\"text-align: left;\">Developmental and epileptic encephalopathy 28 (OMIM:616211)</td><td style=\"text-align: left;\"><ul> <li>NM_016373.2:c.517_1056del (heterozygous)</li> <li>NM_016373.2:c.705dup (heterozygous)</li> </ul></td><td style=\"text-align: left;\">Abnormal electroretinogram (HP:0000512); Epileptic spasm (HP:0011097); Epileptic encephalopathy (HP:0200134); Hypokinesia (HP:0002375); Global developmental delay (HP:0001263); EEG abnormality (HP:0002353); Reduced eye contact (HP:0000817); excluded: Optic atrophy (HP:0000648); excluded: Thin corpus callosum (HP:0033725); excluded: Cerebral atrophy (HP:0002059); excluded: Generalized non-motor (absence) seizure (HP:0002121); excluded: Bilateral tonic-clonic seizure with focal onset (HP:0007334); excluded: Generalized clonic seizure (HP:0011169); excluded: Focal clonic seizure (HP:0002266); excluded: Focal tonic seizure (HP:0011167); excluded: Delayed CNS myelination (HP:0002188); excluded: Axial hypotonia (HP:0008936); excluded: Decreased fetal movement (HP:0001558); excluded: Round face (HP:0000311); excluded: Frontal bossing (HP:0002007); excluded: Short neck (HP:0000470); excluded: Narrow forehead (HP:0000341); excluded: Micrognathia (HP:0000347); excluded: Anteverted nares (HP:0000463); excluded: Upslanted palpebral fissure (HP:0000582); excluded: Uplifted earlobe (HP:0009909)</td></tr>\n",
       "<tr><td style=\"text-align: left;\">Patient 12 (FEMALE; P1Y5M)</td><td style=\"text-align: left;\">Developmental and epileptic encephalopathy 28 (OMIM:616211)</td><td style=\"text-align: left;\"><ul> <li>NM_016373.2:c.49G>A (heterozygous)</li> <li>NM_016373.2:c.911C>T (heterozygous)</li> </ul></td><td style=\"text-align: left;\">Bilateral tonic-clonic seizure (HP:0002069); Epileptic encephalopathy (HP:0200134); Global developmental delay (HP:0001263); excluded: Thin corpus callosum (HP:0033725); excluded: Cerebral atrophy (HP:0002059); excluded: Generalized non-motor (absence) seizure (HP:0002121); excluded: Epileptic spasm (HP:0011097); excluded: Bilateral tonic-clonic seizure with focal onset (HP:0007334); excluded: Generalized clonic seizure (HP:0011169); excluded: Focal clonic seizure (HP:0002266); excluded: Focal tonic seizure (HP:0011167); excluded: Delayed CNS myelination (HP:0002188); excluded: Reduced eye contact (HP:0000817); excluded: Decreased fetal movement (HP:0001558); excluded: Round face (HP:0000311); excluded: Frontal bossing (HP:0002007); excluded: Short neck (HP:0000470); excluded: Narrow forehead (HP:0000341); excluded: Micrognathia (HP:0000347); excluded: Anteverted nares (HP:0000463); excluded: Upslanted palpebral fissure (HP:0000582); excluded: Uplifted earlobe (HP:0009909)</td></tr>\n",
       "<tr><td style=\"text-align: left;\">Patient 13 (FEMALE; P8Y)</td><td style=\"text-align: left;\">Developmental and epileptic encephalopathy 28 (OMIM:616211)</td><td style=\"text-align: left;\">NM_016373.2:c.790C>T (homozygous)</td><td style=\"text-align: left;\">Abnormal electroretinogram (HP:0000512); Thin corpus callosum (HP:0033725); Cerebral atrophy (HP:0002059); Epileptic spasm (HP:0011097); Epileptic encephalopathy (HP:0200134); Spasticity (HP:0001257); Hypokinesia (HP:0002375); Global developmental delay (HP:0001263); Delayed CNS myelination (HP:0002188); EEG abnormality (HP:0002353); Reduced eye contact (HP:0000817); Narrow forehead (HP:0000341); Upslanted palpebral fissure (HP:0000582); Uplifted earlobe (HP:0009909); excluded: Optic atrophy (HP:0000648); excluded: Generalized non-motor (absence) seizure (HP:0002121); excluded: Bilateral tonic-clonic seizure with focal onset (HP:0007334); excluded: Generalized clonic seizure (HP:0011169); excluded: Focal clonic seizure (HP:0002266); excluded: Focal tonic seizure (HP:0011167); excluded: Decreased fetal movement (HP:0001558); excluded: Round face (HP:0000311); excluded: Frontal bossing (HP:0002007); excluded: Short neck (HP:0000470); excluded: Micrognathia (HP:0000347); excluded: Anteverted nares (HP:0000463)</td></tr>\n",
       "<tr><td style=\"text-align: left;\">Patient 14 (MALE; P5Y2M)</td><td style=\"text-align: left;\">Developmental and epileptic encephalopathy 28 (OMIM:616211)</td><td style=\"text-align: left;\">NM_016373.2:c.790C>T (homozygous)</td><td style=\"text-align: left;\">Epileptic spasm (HP:0011097); Epileptic encephalopathy (HP:0200134); Hypokinesia (HP:0002375); Global developmental delay (HP:0001263); Reduced eye contact (HP:0000817); Narrow forehead (HP:0000341); Upslanted palpebral fissure (HP:0000582); Uplifted earlobe (HP:0009909); excluded: Optic atrophy (HP:0000648); excluded: Thin corpus callosum (HP:0033725); excluded: Cerebral atrophy (HP:0002059); excluded: Generalized non-motor (absence) seizure (HP:0002121); excluded: Bilateral tonic-clonic seizure with focal onset (HP:0007334); excluded: Generalized clonic seizure (HP:0011169); excluded: Focal clonic seizure (HP:0002266); excluded: Focal tonic seizure (HP:0011167); excluded: Delayed CNS myelination (HP:0002188); excluded: Decreased fetal movement (HP:0001558); excluded: Round face (HP:0000311); excluded: Frontal bossing (HP:0002007); excluded: Short neck (HP:0000470); excluded: Micrognathia (HP:0000347); excluded: Anteverted nares (HP:0000463)</td></tr>\n",
       "<tr><td style=\"text-align: left;\">Patient 15 (MALE; P5Y)</td><td style=\"text-align: left;\">Developmental and epileptic encephalopathy 28 (OMIM:616211)</td><td style=\"text-align: left;\"><ul> <li>NM_016373.2:c.449A>C (heterozygous)</li> <li>NM_016373.2:c.517_791del (heterozygous)</li> </ul></td><td style=\"text-align: left;\">Thin corpus callosum (HP:0033725); Focal clonic seizure (HP:0002266); Epileptic encephalopathy (HP:0200134); Spasticity (HP:0001257); Hypokinesia (HP:0002375); Global developmental delay (HP:0001263); Axial hypotonia (HP:0008936); EEG abnormality (HP:0002353); Reduced eye contact (HP:0000817); excluded: Optic atrophy (HP:0000648); excluded: Cerebral atrophy (HP:0002059); excluded: Generalized non-motor (absence) seizure (HP:0002121); excluded: Epileptic spasm (HP:0011097); excluded: Bilateral tonic-clonic seizure with focal onset (HP:0007334); excluded: Generalized clonic seizure (HP:0011169); excluded: Focal tonic seizure (HP:0011167); excluded: Delayed CNS myelination (HP:0002188); excluded: Decreased fetal movement (HP:0001558); excluded: Round face (HP:0000311); excluded: Frontal bossing (HP:0002007); excluded: Short neck (HP:0000470); excluded: Narrow forehead (HP:0000341); excluded: Micrognathia (HP:0000347); excluded: Anteverted nares (HP:0000463); excluded: Upslanted palpebral fissure (HP:0000582); excluded: Uplifted earlobe (HP:0009909)</td></tr>\n",
       "<tr><td style=\"text-align: left;\">Patient 16 (MALE; P8Y)</td><td style=\"text-align: left;\">Developmental and epileptic encephalopathy 28 (OMIM:616211)</td><td style=\"text-align: left;\"><ul> <li>NM_016373.2:c.449A>C (heterozygous)</li> <li>NM_016373.2:c.517_791del (heterozygous)</li> </ul></td><td style=\"text-align: left;\">Thin corpus callosum (HP:0033725); Focal clonic seizure (HP:0002266); Epileptic encephalopathy (HP:0200134); Spasticity (HP:0001257); Hypokinesia (HP:0002375); Global developmental delay (HP:0001263); Axial hypotonia (HP:0008936); EEG abnormality (HP:0002353); Reduced eye contact (HP:0000817); excluded: Abnormal electroretinogram (HP:0000512); excluded: Optic atrophy (HP:0000648); excluded: Cerebral atrophy (HP:0002059); excluded: Generalized non-motor (absence) seizure (HP:0002121); excluded: Epileptic spasm (HP:0011097); excluded: Bilateral tonic-clonic seizure with focal onset (HP:0007334); excluded: Generalized clonic seizure (HP:0011169); excluded: Focal tonic seizure (HP:0011167); excluded: Delayed CNS myelination (HP:0002188); excluded: Decreased fetal movement (HP:0001558); excluded: Round face (HP:0000311); excluded: Frontal bossing (HP:0002007); excluded: Short neck (HP:0000470); excluded: Narrow forehead (HP:0000341); excluded: Micrognathia (HP:0000347); excluded: Anteverted nares (HP:0000463); excluded: Upslanted palpebral fissure (HP:0000582); excluded: Uplifted earlobe (HP:0009909)</td></tr>\n",
       "<tr><td style=\"text-align: left;\">Patient 17 (MALE; P1Y)</td><td style=\"text-align: left;\">Developmental and epileptic encephalopathy 28 (OMIM:616211)</td><td style=\"text-align: left;\"><ul> <li>NM_016373.2:c.410G>A (heterozygous)</li> <li>NM_016373.2:c.953C>T (heterozygous)</li> </ul></td><td style=\"text-align: left;\">Thin corpus callosum (HP:0033725); Cerebral atrophy (HP:0002059); Focal clonic seizure (HP:0002266); Epileptic encephalopathy (HP:0200134); Global developmental delay (HP:0001263); EEG abnormality (HP:0002353); Reduced eye contact (HP:0000817); excluded: Abnormal electroretinogram (HP:0000512); excluded: Generalized non-motor (absence) seizure (HP:0002121); excluded: Epileptic spasm (HP:0011097); excluded: Bilateral tonic-clonic seizure with focal onset (HP:0007334); excluded: Generalized clonic seizure (HP:0011169); excluded: Focal tonic seizure (HP:0011167); excluded: Spasticity (HP:0001257); excluded: Hypokinesia (HP:0002375); excluded: Delayed CNS myelination (HP:0002188); excluded: Decreased fetal movement (HP:0001558); excluded: Round face (HP:0000311); excluded: Frontal bossing (HP:0002007); excluded: Short neck (HP:0000470); excluded: Narrow forehead (HP:0000341); excluded: Micrognathia (HP:0000347); excluded: Anteverted nares (HP:0000463); excluded: Upslanted palpebral fissure (HP:0000582); excluded: Uplifted earlobe (HP:0009909)</td></tr>\n",
       "<tr><td style=\"text-align: left;\">Patient 18 (FEMALE; P2Y4M)</td><td style=\"text-align: left;\">Developmental and epileptic encephalopathy 28 (OMIM:616211)</td><td style=\"text-align: left;\"><ul> <li>NM_016373.2:c.160C>T (heterozygous)</li> <li>NM_016373.2:c.1094_1095del (heterozygous)</li> </ul></td><td style=\"text-align: left;\">Thin corpus callosum (HP:0033725); Cerebral atrophy (HP:0002059); Epileptic spasm (HP:0011097); Epileptic encephalopathy (HP:0200134); Spasticity (HP:0001257); Hypokinesia (HP:0002375); Global developmental delay (HP:0001263); EEG abnormality (HP:0002353); Reduced eye contact (HP:0000817); excluded: Abnormal electroretinogram (HP:0000512); excluded: Generalized non-motor (absence) seizure (HP:0002121); excluded: Bilateral tonic-clonic seizure with focal onset (HP:0007334); excluded: Generalized clonic seizure (HP:0011169); excluded: Focal clonic seizure (HP:0002266); excluded: Focal tonic seizure (HP:0011167); excluded: Delayed CNS myelination (HP:0002188); excluded: Axial hypotonia (HP:0008936); excluded: Decreased fetal movement (HP:0001558); excluded: Round face (HP:0000311); excluded: Frontal bossing (HP:0002007); excluded: Short neck (HP:0000470); excluded: Narrow forehead (HP:0000341); excluded: Micrognathia (HP:0000347); excluded: Anteverted nares (HP:0000463); excluded: Upslanted palpebral fissure (HP:0000582); excluded: Uplifted earlobe (HP:0009909)</td></tr>\n",
       "<tr><td style=\"text-align: left;\">Patient 19 (FEMALE; P15Y)</td><td style=\"text-align: left;\">Developmental and epileptic encephalopathy 28 (OMIM:616211)</td><td style=\"text-align: left;\"><ul> <li>NM_016373.2:c.598A>G (heterozygous)</li> <li>NM_016373.2:c.689A>C (heterozygous)</li> </ul></td><td style=\"text-align: left;\">Cerebral atrophy (HP:0002059); Focal tonic seizure (HP:0011167); Epileptic encephalopathy (HP:0200134); Spasticity (HP:0001257); Hypokinesia (HP:0002375); Global developmental delay (HP:0001263); EEG abnormality (HP:0002353); Reduced eye contact (HP:0000817); Round face (HP:0000311); excluded: Abnormal electroretinogram (HP:0000512); excluded: Optic atrophy (HP:0000648); excluded: Generalized non-motor (absence) seizure (HP:0002121); excluded: Epileptic spasm (HP:0011097); excluded: Bilateral tonic-clonic seizure with focal onset (HP:0007334); excluded: Generalized clonic seizure (HP:0011169); excluded: Focal clonic seizure (HP:0002266); excluded: Delayed CNS myelination (HP:0002188); excluded: Decreased fetal movement (HP:0001558); excluded: Frontal bossing (HP:0002007); excluded: Short neck (HP:0000470); excluded: Narrow forehead (HP:0000341); excluded: Micrognathia (HP:0000347); excluded: Anteverted nares (HP:0000463); excluded: Upslanted palpebral fissure (HP:0000582); excluded: Uplifted earlobe (HP:0009909)</td></tr>\n",
       "<tr><td style=\"text-align: left;\">Patient 20 (FEMALE; P3Y3M)</td><td style=\"text-align: left;\">Developmental and epileptic encephalopathy 28 (OMIM:616211)</td><td style=\"text-align: left;\">NM_016373.2:c.689A>C (homozygous)</td><td style=\"text-align: left;\">Thin corpus callosum (HP:0033725); Generalized non-motor (absence) seizure (HP:0002121); Bilateral tonic-clonic seizure (HP:0002069); Epileptic encephalopathy (HP:0200134); Spasticity (HP:0001257); Hypokinesia (HP:0002375); Global developmental delay (HP:0001263); EEG abnormality (HP:0002353); Reduced eye contact (HP:0000817); Round face (HP:0000311); Uplifted earlobe (HP:0009909); excluded: Abnormal electroretinogram (HP:0000512); excluded: Cerebral atrophy (HP:0002059); excluded: Epileptic spasm (HP:0011097); excluded: Bilateral tonic-clonic seizure with focal onset (HP:0007334); excluded: Generalized clonic seizure (HP:0011169); excluded: Focal clonic seizure (HP:0002266); excluded: Focal tonic seizure (HP:0011167); excluded: Delayed CNS myelination (HP:0002188); excluded: Decreased fetal movement (HP:0001558); excluded: Frontal bossing (HP:0002007); excluded: Short neck (HP:0000470); excluded: Narrow forehead (HP:0000341); excluded: Micrognathia (HP:0000347); excluded: Anteverted nares (HP:0000463); excluded: Upslanted palpebral fissure (HP:0000582)</td></tr>\n",
       "<tr><td style=\"text-align: left;\">Patient 1 (FEMALE; P7Y)</td><td style=\"text-align: left;\">Developmental and epileptic encephalopathy 28 (OMIM:616211)</td><td style=\"text-align: left;\">NM_016373.2:c.131G>A (homozygous)</td><td style=\"text-align: left;\"><b>P1M18D</b>: Enlarged sylvian cistern (HP:0100952); Myoclonus (HP:0001336); Poor head control (HP:0002421)<br/><b>P4M</b>: Hyperreflexia (HP:0001347)<br/><b>P6M</b>: Global developmental delay (HP:0001263); Generalized hypotonia (HP:0001290); Optic disc pallor (HP:0000543)<br/><b>P9M</b>: Feeding difficulties (HP:0011968)<br/><b>P2Y</b>: Respiratory insufficiency (HP:0002093)<br/><b>P4Y</b>: Cerebral atrophy (HP:0002059); Seizure (HP:0001250); Epileptic encephalopathy (HP:0200134); Vegetative state (HP:0031358); CNS demyelination (HP:0007305); EEG abnormality (HP:0002353); Progressive muscle weakness (HP:0003323); Hypertonia (HP:0001276)<br/>excluded: Organic aciduria (HP:0001992); excluded: Babinski sign (HP:0003487)</td></tr>\n",
       "<tr><td style=\"text-align: left;\">Patient 2 (FEMALE; P1Y4M)</td><td style=\"text-align: left;\">Developmental and epileptic encephalopathy 28 (OMIM:616211)</td><td style=\"text-align: left;\">NM_016373.2:c.131G>A (homozygous)</td><td style=\"text-align: left;\"><b>P6M</b>: Global developmental delay (HP:0001263); Hyperreflexia (HP:0001347); Poor head control (HP:0002421); Hypertonia (HP:0001276)<br/><b>P8M</b>: Feeding difficulties (HP:0011968)<br/><b>P1Y4M</b>: Cerebral atrophy (HP:0002059); Epileptic encephalopathy (HP:0200134); CNS demyelination (HP:0007305); Babinski sign (HP:0003487)<br/><b>P1Y6M</b>: Bilateral tonic-clonic seizure with focal onset (HP:0007334)</td></tr>\n",
       "</table>"
      ],
      "text/plain": [
       "<IPython.core.display.HTML object>"
      ]
     },
     "metadata": {},
     "output_type": "display_data"
    }
   ],
   "source": [
    "table = IndividualTable(cvalidator.get_error_free_individual_list())\n",
    "display(HTML(table.to_html()))"
   ]
  },
  {
   "cell_type": "code",
   "execution_count": 7,
   "id": "b137eb6e-84df-4d7b-a5f2-57a1190fe7ca",
   "metadata": {},
   "outputs": [
    {
     "name": "stdout",
     "output_type": "stream",
     "text": [
      "[pyphetools] Ingested 34 GA4GH phenopackets.\n",
      "[INFO] Extracted 28 from 34 phenopackets with OMIM:616211\n",
      "\n",
      "\tDevelopmental and epileptic encephalopathy 28 (OMIM:616211): n=28\n",
      "We found a total of 49 unique HPO terms\n",
      "Extracted disease: Developmental and epileptic encephalopathy 28 (OMIM:616211)\n",
      "Wrote HPOA disease file to OMIM-616211.tab\n"
     ]
    }
   ],
   "source": [
    "pmid = \"PMID:25411445\"\n",
    "df = timporter.create_hpoa_from_phenopackets(pmid=pmid, moi=\"Autosomal recessive\", target=\"OMIM:616211\")"
   ]
  },
  {
   "cell_type": "code",
   "execution_count": null,
   "id": "5d747002-112a-4341-b239-4fc695e2be6e",
   "metadata": {},
   "outputs": [],
   "source": []
  }
 ],
 "metadata": {
  "kernelspec": {
   "display_name": "Python 3 (ipykernel)",
   "language": "python",
   "name": "python3"
  },
  "language_info": {
   "codemirror_mode": {
    "name": "ipython",
    "version": 3
   },
   "file_extension": ".py",
   "mimetype": "text/x-python",
   "name": "python",
   "nbconvert_exporter": "python",
   "pygments_lexer": "ipython3",
   "version": "3.9.6"
  }
 },
 "nbformat": 4,
 "nbformat_minor": 5
}
