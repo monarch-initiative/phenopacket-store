{
 "cells": [
  {
   "cell_type": "markdown",
   "id": "a39f3c65",
   "metadata": {},
   "source": [
    "<h1>WWOX: Developmental and epileptic encephalopathy 28</h1>"
   ]
  },
  {
   "cell_type": "code",
   "execution_count": 3,
   "id": "e5d196a5-0eea-4172-8e54-e1b0cbcd7d21",
   "metadata": {},
   "outputs": [
    {
     "name": "stdout",
     "output_type": "stream",
     "text": [
      "Using pyphetools version 0.9.115\n"
     ]
    }
   ],
   "source": [
    "from pyphetools.creation import TemplateImporter, Moi\n",
    "from pyphetools.visualization import IndividualTable, QcVisualizer\n",
    "from IPython.display import display, HTML\n",
    "import pyphetools\n",
    "print(f\"Using pyphetools version {pyphetools.__version__}\")"
   ]
  },
  {
   "cell_type": "code",
   "execution_count": 4,
   "id": "6fbeec2a-08f4-409a-80f7-60fe62e5c626",
   "metadata": {},
   "outputs": [],
   "source": [
    "template = \"input/WWOX_DEE28_individuals.xlsx\"\n",
    "hp_json = \"../hp.json\"\n",
    "created_by = \"0000-0002-0736-9199\""
   ]
  },
  {
   "cell_type": "code",
   "execution_count": 9,
   "id": "5a7789fc",
   "metadata": {},
   "outputs": [
    {
     "name": "stdout",
     "output_type": "stream",
     "text": [
      "HPO version 2024-08-13\n",
      "Created encoders for 84 fields\n",
      "Importing OMIM:616211, Developmental and epileptic encephalopathy 28, HGNC:12799, WWOX,  NM_016373.4\n",
      "We output 32 GA4GH phenopackets to the directory phenopackets\n"
     ]
    }
   ],
   "source": [
    "dels = {\"DEL:exon 1-5\" , \"DEL:exon 6-8\",\"DEL:2.8 Mb\"  }\n",
    "dups = {\"DUP:exon 6-8\"}\n",
    "timporter = TemplateImporter(template=template, hp_json=hp_json, created_by=created_by)\n",
    "individual_list, cvalidator = timporter.import_phenopackets_from_template(deletions=dels, duplications=dups)"
   ]
  },
  {
   "cell_type": "code",
   "execution_count": 10,
   "id": "56ee298e-10fa-445e-8349-5ab11d8dedad",
   "metadata": {},
   "outputs": [
    {
     "data": {
      "text/html": [
       "<h2>Cohort validation</h2>\n",
       "<p>Errors found with 27 of 32 phenopackets.</p>\n",
       "<table style=\"border: 2px solid black; align: \"left\">\n",
       "<caption>Error counts</caption>\n",
       "<tr><th style=\"text-align: left;font-weight: bold;\">Level</th><th style=\"text-align: left;font-weight: bold;\">Error category</th><th style=\"text-align: left;font-weight: bold;\">Count</th></tr>\n",
       "<tr><td style=\"text-align: left;\">ERROR</td><td style=\"text-align: left;\">CONFLICT</td><td style=\"text-align: left;\">4</td></tr>\n",
       "<tr><td style=\"text-align: left;\">WARNING</td><td style=\"text-align: left;\">REDUNDANT</td><td style=\"text-align: left;\">43</td></tr>\n",
       "</table>\n",
       "<p>A total of 47 issues were fixed and no individual was removed from the cohort.</p>"
      ],
      "text/plain": [
       "<IPython.core.display.HTML object>"
      ]
     },
     "metadata": {},
     "output_type": "display_data"
    }
   ],
   "source": [
    "qc = QcVisualizer(cohort_validator=cvalidator)\n",
    "display(HTML(qc.to_summary_html()))"
   ]
  },
  {
   "cell_type": "code",
   "execution_count": 11,
   "id": "5d044b78",
   "metadata": {},
   "outputs": [
    {
     "data": {
      "text/html": [
       "<h2>Cohort validation</h2>\n",
       "<p>Errors found with 27 of 32 phenopackets.</p>\n",
       "<table style=\"border: 2px solid black; align: \"left\">\n",
       "<caption>Error counts</caption>\n",
       "<tr><th style=\"text-align: left;font-weight: bold;\">Level</th><th style=\"text-align: left;font-weight: bold;\">Error category</th><th style=\"text-align: left;font-weight: bold;\">Count</th></tr>\n",
       "<tr><td style=\"text-align: left;\">ERROR</td><td style=\"text-align: left;\">CONFLICT</td><td style=\"text-align: left;\">4</td></tr>\n",
       "<tr><td style=\"text-align: left;\">WARNING</td><td style=\"text-align: left;\">REDUNDANT</td><td style=\"text-align: left;\">43</td></tr>\n",
       "</table>\n",
       "<p>A total of 47 issues were fixed and no individual was removed from the cohort.</p>"
      ],
      "text/plain": [
       "<IPython.core.display.HTML object>"
      ]
     },
     "metadata": {},
     "output_type": "display_data"
    }
   ],
   "source": [
    "qc = QcVisualizer(cohort_validator=cvalidator)\n",
    "display(HTML(qc.to_summary_html()))"
   ]
  },
  {
   "cell_type": "code",
   "execution_count": 23,
   "id": "23f1094f",
   "metadata": {},
   "outputs": [
    {
     "data": {
      "text/html": [
       "<table style=\"border: 2px solid black; align: \"left\">\n",
       "<caption>32 phenopackets - PMID:25411445 (n=6); PMID:30356099 (n=20); PMID:27495153 (n=2); PMID:39416860 (n=1); PMID:39507621 (n=1); PMID:39101447 (n=1); PMID:30094525 (n=1)</caption>\n",
       "<tr><th style=\"text-align: left;font-weight: bold;\">Individual</th><th style=\"text-align: left;font-weight: bold;\">Disease</th><th style=\"text-align: left;font-weight: bold;\">Genotype</th><th style=\"text-align: left;font-weight: bold;\">Phenotypic features</th></tr>\n",
       "<tr><td style=\"text-align: left;\">Patient 1 (FEMALE; P3Y)</td><td style=\"text-align: left;\">Developmental and epileptic encephalopathy 28 (OMIM:616211)</td><td style=\"text-align: left;\"><ul> <li>DEL exon 1-5: chromosomal_deletion (SO:1000029)</li> <li>DEL exon 6-8: chromosomal_deletion (SO:1000029)</li> </ul></td><td style=\"text-align: left;\">Thin corpus callosum (HP:0033725): onset ; Focal tonic seizure (HP:0011167): onset ; Epileptic encephalopathy (HP:0200134): onset ; Hypokinesia (HP:0002375): onset ; Global developmental delay (HP:0001263): onset ; Axial hypotonia (HP:0008936): onset ; Secondary microcephaly (HP:0005484): onset ; EEG abnormality (HP:0002353): onset ; Reduced eye contact (HP:0000817): onset ; excluded: Abnormal electroretinogram (HP:0000512): onset ; excluded: Optic atrophy (HP:0000648): onset ; excluded: Retinal degeneration (HP:0000546): onset ; excluded: Cerebral atrophy (HP:0002059): onset ; excluded: Generalized non-motor (absence) seizure (HP:0002121): onset ; excluded: Epileptic spasm (HP:0011097): onset ; excluded: Bilateral tonic-clonic seizure with focal onset (HP:0007334): onset ; excluded: Generalized clonic seizure (HP:0011169): onset ; excluded: Focal clonic seizure (HP:0002266): onset ; excluded: Spasticity (HP:0001257): onset ; excluded: Delayed CNS myelination (HP:0002188): onset ; excluded: Hyperreflexia (HP:0001347): onset ; excluded: Rigidity (HP:0002063): onset ; excluded: Ataxia (HP:0001251): onset ; excluded: Sudden unexpected death in epilepsy (HP:0033258): onset ; excluded: Increased nuchal translucency (HP:0010880): onset </td></tr>\n",
       "<tr><td style=\"text-align: left;\">Patient 2 (FEMALE; P1Y10M)</td><td style=\"text-align: left;\">Developmental and epileptic encephalopathy 28 (OMIM:616211)</td><td style=\"text-align: left;\"><ul> <li>NM_016373.4:c.1005G>A (heterozygous)</li> <li>DEL exon 6-8: chromosomal_deletion (SO:1000029)</li> </ul></td><td style=\"text-align: left;\">Abnormal electroretinogram (HP:0000512): onset ; Generalized clonic seizure (HP:0011169): onset ; Focal tonic seizure (HP:0011167): onset ; Epileptic encephalopathy (HP:0200134): onset ; Spasticity (HP:0001257): onset ; Hypokinesia (HP:0002375): onset ; Global developmental delay (HP:0001263): onset ; Delayed CNS myelination (HP:0002188): onset ; Hyperreflexia (HP:0001347): onset ; Rigidity (HP:0002063): onset ; Axial hypotonia (HP:0008936): onset ; Secondary microcephaly (HP:0005484): onset ; EEG abnormality (HP:0002353): onset ; Reduced eye contact (HP:0000817): onset ; Sudden unexpected death in epilepsy (HP:0033258): onset ; excluded: Optic atrophy (HP:0000648): onset ; excluded: Retinal degeneration (HP:0000546): onset ; excluded: Thin corpus callosum (HP:0033725): onset ; excluded: Cerebral atrophy (HP:0002059): onset ; excluded: Generalized non-motor (absence) seizure (HP:0002121): onset ; excluded: Epileptic spasm (HP:0011097): onset ; excluded: Bilateral tonic-clonic seizure with focal onset (HP:0007334): onset ; excluded: Focal clonic seizure (HP:0002266): onset ; excluded: Ataxia (HP:0001251): onset ; excluded: Increased nuchal translucency (HP:0010880): onset </td></tr>\n",
       "<tr><td style=\"text-align: left;\">Patient 3 (MALE; P4Y)</td><td style=\"text-align: left;\">Developmental and epileptic encephalopathy 28 (OMIM:616211)</td><td style=\"text-align: left;\"><ul> <li>NM_016373.4:c.46_49del (heterozygous)</li> <li>NM_016373.4:c.140C>G (heterozygous)</li> </ul></td><td style=\"text-align: left;\"><b>TimeElement(element=OntologyClass(id=HP:0034199, label=Late first trimester onset))</b>: Increased nuchal translucency (HP:0010880): onset ontology_class {\n",
       "  id: \"HP:0034199\"\n",
       "  label: \"Late first trimester onset\"\n",
       "}\n",
       "<br/>Bilateral tonic-clonic seizure with focal onset (HP:0007334): onset ; Epileptic encephalopathy (HP:0200134): onset ; Global developmental delay (HP:0001263): onset ; Axial hypotonia (HP:0008936): onset ; EEG abnormality (HP:0002353): onset ; excluded: Abnormal electroretinogram (HP:0000512): onset ; excluded: Optic atrophy (HP:0000648): onset ; excluded: Retinal degeneration (HP:0000546): onset ; excluded: Thin corpus callosum (HP:0033725): onset ; excluded: Cerebral atrophy (HP:0002059): onset ; excluded: Generalized non-motor (absence) seizure (HP:0002121): onset ; excluded: Epileptic spasm (HP:0011097): onset ; excluded: Generalized clonic seizure (HP:0011169): onset ; excluded: Focal clonic seizure (HP:0002266): onset ; excluded: Focal tonic seizure (HP:0011167): onset ; excluded: Spasticity (HP:0001257): onset ; excluded: Hypokinesia (HP:0002375): onset ; excluded: Delayed CNS myelination (HP:0002188): onset ; excluded: Hyperreflexia (HP:0001347): onset ; excluded: Rigidity (HP:0002063): onset ; excluded: Secondary microcephaly (HP:0005484): onset ; excluded: Ataxia (HP:0001251): onset ; excluded: Reduced eye contact (HP:0000817): onset ; excluded: Sudden unexpected death in epilepsy (HP:0033258): onset </td></tr>\n",
       "<tr><td style=\"text-align: left;\">Patient 4 (FEMALE; P3Y)</td><td style=\"text-align: left;\">Developmental and epileptic encephalopathy 28 (OMIM:616211)</td><td style=\"text-align: left;\"><ul> <li>NM_016373.4:c.46_49del (heterozygous)</li> <li>NM_016373.4:c.140C>G (heterozygous)</li> </ul></td><td style=\"text-align: left;\"><b>TimeElement(element=OntologyClass(id=HP:0034199, label=Late first trimester onset))</b>: Increased nuchal translucency (HP:0010880): onset ontology_class {\n",
       "  id: \"HP:0034199\"\n",
       "  label: \"Late first trimester onset\"\n",
       "}\n",
       "<br/>Bilateral tonic-clonic seizure with focal onset (HP:0007334): onset ; Epileptic encephalopathy (HP:0200134): onset ; Global developmental delay (HP:0001263): onset ; Axial hypotonia (HP:0008936): onset ; EEG abnormality (HP:0002353): onset ; excluded: Abnormal electroretinogram (HP:0000512): onset ; excluded: Optic atrophy (HP:0000648): onset ; excluded: Retinal degeneration (HP:0000546): onset ; excluded: Thin corpus callosum (HP:0033725): onset ; excluded: Cerebral atrophy (HP:0002059): onset ; excluded: Generalized non-motor (absence) seizure (HP:0002121): onset ; excluded: Epileptic spasm (HP:0011097): onset ; excluded: Generalized clonic seizure (HP:0011169): onset ; excluded: Focal clonic seizure (HP:0002266): onset ; excluded: Focal tonic seizure (HP:0011167): onset ; excluded: Spasticity (HP:0001257): onset ; excluded: Hypokinesia (HP:0002375): onset ; excluded: Delayed CNS myelination (HP:0002188): onset ; excluded: Hyperreflexia (HP:0001347): onset ; excluded: Rigidity (HP:0002063): onset ; excluded: Secondary microcephaly (HP:0005484): onset ; excluded: Ataxia (HP:0001251): onset ; excluded: Reduced eye contact (HP:0000817): onset ; excluded: Sudden unexpected death in epilepsy (HP:0033258): onset </td></tr>\n",
       "<tr><td style=\"text-align: left;\">Patient 5 (FEMALE; P3Y2M)</td><td style=\"text-align: left;\">Developmental and epileptic encephalopathy 28 (OMIM:616211)</td><td style=\"text-align: left;\"><ul> <li>NM_016373.4:c.889A>T (heterozygous)</li> <li>DEL 2.8 Mb: chromosomal_deletion (SO:1000029)</li> </ul></td><td style=\"text-align: left;\"><b>TimeElement(element=OntologyClass(id=HP:0034199, label=Late first trimester onset))</b>: Increased nuchal translucency (HP:0010880): onset ontology_class {\n",
       "  id: \"HP:0034199\"\n",
       "  label: \"Late first trimester onset\"\n",
       "}\n",
       "<br/>Abnormal electroretinogram (HP:0000512): onset ; Cerebral atrophy (HP:0002059): onset ; Epileptic spasm (HP:0011097): onset ; Epileptic encephalopathy (HP:0200134): onset ; Spasticity (HP:0001257): onset ; Hypokinesia (HP:0002375): onset ; Global developmental delay (HP:0001263): onset ; Hyperreflexia (HP:0001347): onset ; Rigidity (HP:0002063): onset ; Axial hypotonia (HP:0008936): onset ; EEG abnormality (HP:0002353): onset ; Reduced eye contact (HP:0000817): onset ; Sudden unexpected death in epilepsy (HP:0033258): onset ; excluded: Optic atrophy (HP:0000648): onset ; excluded: Retinal degeneration (HP:0000546): onset ; excluded: Thin corpus callosum (HP:0033725): onset ; excluded: Generalized non-motor (absence) seizure (HP:0002121): onset ; excluded: Bilateral tonic-clonic seizure with focal onset (HP:0007334): onset ; excluded: Generalized clonic seizure (HP:0011169): onset ; excluded: Focal clonic seizure (HP:0002266): onset ; excluded: Focal tonic seizure (HP:0011167): onset ; excluded: Delayed CNS myelination (HP:0002188): onset ; excluded: Secondary microcephaly (HP:0005484): onset ; excluded: Ataxia (HP:0001251): onset </td></tr>\n",
       "<tr><td style=\"text-align: left;\">Abdel-Salam et al II:4 (FEMALE)</td><td style=\"text-align: left;\">Developmental and epileptic encephalopathy 28 (OMIM:616211)</td><td style=\"text-align: left;\">NM_016373.4:c.160C>T (homozygous)</td><td style=\"text-align: left;\">Optic atrophy (HP:0000648): onset ; Retinal degeneration (HP:0000546): onset ; Thin corpus callosum (HP:0033725): onset ; Cerebral atrophy (HP:0002059): onset ; Seizure (HP:0001250): onset ; Epileptic encephalopathy (HP:0200134): onset ; Global developmental delay (HP:0001263): onset ; Hyperreflexia (HP:0001347): onset ; Secondary microcephaly (HP:0005484): onset ; EEG abnormality (HP:0002353): onset ; Reduced eye contact (HP:0000817): onset ; Sudden unexpected death in epilepsy (HP:0033258): onset ; excluded: Generalized non-motor (absence) seizure (HP:0002121): onset ; excluded: Epileptic spasm (HP:0011097): onset ; excluded: Bilateral tonic-clonic seizure with focal onset (HP:0007334): onset ; excluded: Generalized clonic seizure (HP:0011169): onset ; excluded: Focal clonic seizure (HP:0002266): onset ; excluded: Focal tonic seizure (HP:0011167): onset ; excluded: Hypokinesia (HP:0002375): onset ; excluded: Delayed CNS myelination (HP:0002188): onset ; excluded: Rigidity (HP:0002063): onset ; excluded: Ataxia (HP:0001251): onset </td></tr>\n",
       "<tr><td style=\"text-align: left;\">Patient 1 (FEMALE; P1Y4M)</td><td style=\"text-align: left;\">Developmental and epileptic encephalopathy 28 (OMIM:616211)</td><td style=\"text-align: left;\"><ul> <li>NM_016373.4:c.173-1G>T (heterozygous)</li> <li>NM_016373.4:c.517_1056dup (heterozygous)</li> </ul></td><td style=\"text-align: left;\">Thin corpus callosum (HP:0033725): onset ; Bilateral tonic-clonic seizure with focal onset (HP:0007334): onset ; Focal clonic seizure (HP:0002266): onset ; Epileptic encephalopathy (HP:0200134): onset ; Global developmental delay (HP:0001263): onset ; Axial hypotonia (HP:0008936): onset ; EEG abnormality (HP:0002353): onset ; Micrognathia (HP:0000347): onset ; Anteverted nares (HP:0000463): onset ; excluded: Optic atrophy (HP:0000648): onset ; excluded: Cerebral atrophy (HP:0002059): onset ; excluded: Generalized non-motor (absence) seizure (HP:0002121): onset ; excluded: Epileptic spasm (HP:0011097): onset ; excluded: Generalized clonic seizure (HP:0011169): onset ; excluded: Focal tonic seizure (HP:0011167): onset ; excluded: Hypokinesia (HP:0002375): onset ; excluded: Delayed CNS myelination (HP:0002188): onset ; excluded: Reduced eye contact (HP:0000817): onset ; excluded: Decreased fetal movement (HP:0001558): onset ; excluded: Round face (HP:0000311): onset ; excluded: Frontal bossing (HP:0002007): onset ; excluded: Short neck (HP:0000470): onset ; excluded: Narrow forehead (HP:0000341): onset ; excluded: Upslanted palpebral fissure (HP:0000582): onset ; excluded: Uplifted earlobe (HP:0009909): onset </td></tr>\n",
       "<tr><td style=\"text-align: left;\">Patient 2  (FEMALE; P3Y5M)</td><td style=\"text-align: left;\">Developmental and epileptic encephalopathy 28 (OMIM:616211)</td><td style=\"text-align: left;\"><ul> <li>NM_016373.4:c.231_409del (heterozygous)</li> <li>NM_016373.4:c.607_791+1del (heterozygous)</li> </ul></td><td style=\"text-align: left;\">Abnormal electroretinogram (HP:0000512): onset ; Thin corpus callosum (HP:0033725): onset ; Cerebral atrophy (HP:0002059): onset ; Bilateral tonic-clonic seizure with focal onset (HP:0007334): onset ; Epileptic encephalopathy (HP:0200134): onset ; Spasticity (HP:0001257): onset ; Hypokinesia (HP:0002375): onset ; Global developmental delay (HP:0001263): onset ; Axial hypotonia (HP:0008936): onset ; EEG abnormality (HP:0002353): onset ; Reduced eye contact (HP:0000817): onset ; excluded: Optic atrophy (HP:0000648): onset ; excluded: Generalized non-motor (absence) seizure (HP:0002121): onset ; excluded: Epileptic spasm (HP:0011097): onset ; excluded: Generalized clonic seizure (HP:0011169): onset ; excluded: Focal clonic seizure (HP:0002266): onset ; excluded: Focal tonic seizure (HP:0011167): onset ; excluded: Delayed CNS myelination (HP:0002188): onset ; excluded: Decreased fetal movement (HP:0001558): onset ; excluded: Round face (HP:0000311): onset ; excluded: Frontal bossing (HP:0002007): onset ; excluded: Short neck (HP:0000470): onset ; excluded: Narrow forehead (HP:0000341): onset ; excluded: Micrognathia (HP:0000347): onset ; excluded: Anteverted nares (HP:0000463): onset ; excluded: Upslanted palpebral fissure (HP:0000582): onset ; excluded: Uplifted earlobe (HP:0009909): onset </td></tr>\n",
       "<tr><td style=\"text-align: left;\">Patient 3 (FEMALE; P1Y3M)</td><td style=\"text-align: left;\">Developmental and epileptic encephalopathy 28 (OMIM:616211)</td><td style=\"text-align: left;\"><ul> <li>NM_016373.4:c.953C>T (heterozygous)</li> <li>NM_016373.4:c.517_1056del (heterozygous)</li> </ul></td><td style=\"text-align: left;\">Thin corpus callosum (HP:0033725): onset ; Cerebral atrophy (HP:0002059): onset ; Epileptic spasm (HP:0011097): onset ; Epileptic encephalopathy (HP:0200134): onset ; Hypokinesia (HP:0002375): onset ; Global developmental delay (HP:0001263): onset ; EEG abnormality (HP:0002353): onset ; excluded: Abnormal electroretinogram (HP:0000512): onset ; excluded: Optic atrophy (HP:0000648): onset ; excluded: Generalized non-motor (absence) seizure (HP:0002121): onset ; excluded: Bilateral tonic-clonic seizure with focal onset (HP:0007334): onset ; excluded: Generalized clonic seizure (HP:0011169): onset ; excluded: Focal clonic seizure (HP:0002266): onset ; excluded: Focal tonic seizure (HP:0011167): onset ; excluded: Spasticity (HP:0001257): onset ; excluded: Delayed CNS myelination (HP:0002188): onset ; excluded: Reduced eye contact (HP:0000817): onset ; excluded: Decreased fetal movement (HP:0001558): onset ; excluded: Round face (HP:0000311): onset ; excluded: Frontal bossing (HP:0002007): onset ; excluded: Short neck (HP:0000470): onset ; excluded: Narrow forehead (HP:0000341): onset ; excluded: Micrognathia (HP:0000347): onset ; excluded: Anteverted nares (HP:0000463): onset ; excluded: Upslanted palpebral fissure (HP:0000582): onset ; excluded: Uplifted earlobe (HP:0009909): onset </td></tr>\n",
       "<tr><td style=\"text-align: left;\">Patient 4 (FEMALE; P6M)</td><td style=\"text-align: left;\">Developmental and epileptic encephalopathy 28 (OMIM:616211)</td><td style=\"text-align: left;\"><ul> <li>NM_016373.4:c.411_516+1del (heterozygous)</li> <li>NM_016373.4:c.607_791+1del (heterozygous)</li> </ul></td><td style=\"text-align: left;\">Thin corpus callosum (HP:0033725): onset ; Cerebral atrophy (HP:0002059): onset ; Bilateral tonic-clonic seizure with focal onset (HP:0007334): onset ; Epileptic encephalopathy (HP:0200134): onset ; Spasticity (HP:0001257): onset ; Hypokinesia (HP:0002375): onset ; Global developmental delay (HP:0001263): onset ; EEG abnormality (HP:0002353): onset ; Reduced eye contact (HP:0000817): onset ; Decreased fetal movement (HP:0001558): onset ; Round face (HP:0000311): onset ; Frontal bossing (HP:0002007): onset ; Short neck (HP:0000470): onset ; Narrow forehead (HP:0000341): onset ; Micrognathia (HP:0000347): onset ; excluded: Optic atrophy (HP:0000648): onset ; excluded: Generalized non-motor (absence) seizure (HP:0002121): onset ; excluded: Epileptic spasm (HP:0011097): onset ; excluded: Generalized clonic seizure (HP:0011169): onset ; excluded: Focal clonic seizure (HP:0002266): onset ; excluded: Focal tonic seizure (HP:0011167): onset ; excluded: Delayed CNS myelination (HP:0002188): onset ; excluded: Anteverted nares (HP:0000463): onset ; excluded: Upslanted palpebral fissure (HP:0000582): onset ; excluded: Uplifted earlobe (HP:0009909): onset </td></tr>\n",
       "<tr><td style=\"text-align: left;\">Patient 5 (MALE; P2Y4M)</td><td style=\"text-align: left;\">Developmental and epileptic encephalopathy 28 (OMIM:616211)</td><td style=\"text-align: left;\">NM_016373.4:c.517_1056del (homozygous)</td><td style=\"text-align: left;\">Abnormal electroretinogram (HP:0000512): onset ; Optic atrophy (HP:0000648): onset ; Thin corpus callosum (HP:0033725): onset ; Cerebral atrophy (HP:0002059): onset ; Bilateral tonic-clonic seizure with focal onset (HP:0007334): onset ; Focal clonic seizure (HP:0002266): onset ; Epileptic encephalopathy (HP:0200134): onset ; Spasticity (HP:0001257): onset ; Hypokinesia (HP:0002375): onset ; Global developmental delay (HP:0001263): onset ; EEG abnormality (HP:0002353): onset ; Reduced eye contact (HP:0000817): onset ; Anteverted nares (HP:0000463): onset ; excluded: Generalized non-motor (absence) seizure (HP:0002121): onset ; excluded: Epileptic spasm (HP:0011097): onset ; excluded: Generalized clonic seizure (HP:0011169): onset ; excluded: Focal tonic seizure (HP:0011167): onset ; excluded: Delayed CNS myelination (HP:0002188): onset ; excluded: Axial hypotonia (HP:0008936): onset ; excluded: Decreased fetal movement (HP:0001558): onset ; excluded: Round face (HP:0000311): onset ; excluded: Frontal bossing (HP:0002007): onset ; excluded: Short neck (HP:0000470): onset ; excluded: Narrow forehead (HP:0000341): onset ; excluded: Micrognathia (HP:0000347): onset ; excluded: Upslanted palpebral fissure (HP:0000582): onset ; excluded: Uplifted earlobe (HP:0009909): onset </td></tr>\n",
       "<tr><td style=\"text-align: left;\">Patient 6  (FEMALE; P10Y)</td><td style=\"text-align: left;\">Developmental and epileptic encephalopathy 28 (OMIM:616211)</td><td style=\"text-align: left;\"><ul> <li>NM_016373.4:c.689A>C (heterozygous)</li> <li>NM_016373.4:c.1138dup (heterozygous)</li> </ul></td><td style=\"text-align: left;\">Optic atrophy (HP:0000648): onset ; Thin corpus callosum (HP:0033725): onset ; Epileptic spasm (HP:0011097): onset ; Focal clonic seizure (HP:0002266): onset ; Epileptic encephalopathy (HP:0200134): onset ; Spasticity (HP:0001257): onset ; Hypokinesia (HP:0002375): onset ; Global developmental delay (HP:0001263): onset ; EEG abnormality (HP:0002353): onset ; Reduced eye contact (HP:0000817): onset ; Round face (HP:0000311): onset ; excluded: Cerebral atrophy (HP:0002059): onset ; excluded: Generalized non-motor (absence) seizure (HP:0002121): onset ; excluded: Bilateral tonic-clonic seizure with focal onset (HP:0007334): onset ; excluded: Generalized clonic seizure (HP:0011169): onset ; excluded: Focal tonic seizure (HP:0011167): onset ; excluded: Delayed CNS myelination (HP:0002188): onset ; excluded: Decreased fetal movement (HP:0001558): onset ; excluded: Frontal bossing (HP:0002007): onset ; excluded: Short neck (HP:0000470): onset ; excluded: Narrow forehead (HP:0000341): onset ; excluded: Micrognathia (HP:0000347): onset ; excluded: Anteverted nares (HP:0000463): onset ; excluded: Upslanted palpebral fissure (HP:0000582): onset ; excluded: Uplifted earlobe (HP:0009909): onset </td></tr>\n",
       "<tr><td style=\"text-align: left;\">Patient 7  (FEMALE; P3Y)</td><td style=\"text-align: left;\">Developmental and epileptic encephalopathy 28 (OMIM:616211)</td><td style=\"text-align: left;\">NM_016373.4:c.689A>C (homozygous)</td><td style=\"text-align: left;\">Thin corpus callosum (HP:0033725): onset ; Cerebral atrophy (HP:0002059): onset ; Generalized non-motor (absence) seizure (HP:0002121): onset ; Bilateral tonic-clonic seizure (HP:0002069): onset ; Epileptic encephalopathy (HP:0200134): onset ; Hypokinesia (HP:0002375): onset ; Global developmental delay (HP:0001263): onset ; EEG abnormality (HP:0002353): onset ; Reduced eye contact (HP:0000817): onset ; excluded: Abnormal electroretinogram (HP:0000512): onset ; excluded: Optic atrophy (HP:0000648): onset ; excluded: Epileptic spasm (HP:0011097): onset ; excluded: Bilateral tonic-clonic seizure with focal onset (HP:0007334): onset ; excluded: Generalized clonic seizure (HP:0011169): onset ; excluded: Focal clonic seizure (HP:0002266): onset ; excluded: Focal tonic seizure (HP:0011167): onset ; excluded: Spasticity (HP:0001257): onset ; excluded: Delayed CNS myelination (HP:0002188): onset ; excluded: Decreased fetal movement (HP:0001558): onset ; excluded: Round face (HP:0000311): onset ; excluded: Frontal bossing (HP:0002007): onset ; excluded: Short neck (HP:0000470): onset ; excluded: Narrow forehead (HP:0000341): onset ; excluded: Micrognathia (HP:0000347): onset ; excluded: Anteverted nares (HP:0000463): onset ; excluded: Upslanted palpebral fissure (HP:0000582): onset ; excluded: Uplifted earlobe (HP:0009909): onset </td></tr>\n",
       "<tr><td style=\"text-align: left;\">Patient 8 (MALE; P2Y4M)</td><td style=\"text-align: left;\">Developmental and epileptic encephalopathy 28 (OMIM:616211)</td><td style=\"text-align: left;\"><ul> <li>NM_016373.4:c.173-1G>T (heterozygous)</li> <li>NM_016373.4:c.918del (heterozygous)</li> </ul></td><td style=\"text-align: left;\">Optic atrophy (HP:0000648): onset ; Thin corpus callosum (HP:0033725): onset ; Cerebral atrophy (HP:0002059): onset ; Epileptic spasm (HP:0011097): onset ; Bilateral tonic-clonic seizure (HP:0002069): onset ; Epileptic encephalopathy (HP:0200134): onset ; Spasticity (HP:0001257): onset ; Hypokinesia (HP:0002375): onset ; Global developmental delay (HP:0001263): onset ; Axial hypotonia (HP:0008936): onset ; EEG abnormality (HP:0002353): onset ; Reduced eye contact (HP:0000817): onset ; Decreased fetal movement (HP:0001558): onset ; excluded: Generalized non-motor (absence) seizure (HP:0002121): onset ; excluded: Bilateral tonic-clonic seizure with focal onset (HP:0007334): onset ; excluded: Generalized clonic seizure (HP:0011169): onset ; excluded: Focal clonic seizure (HP:0002266): onset ; excluded: Focal tonic seizure (HP:0011167): onset ; excluded: Delayed CNS myelination (HP:0002188): onset ; excluded: Round face (HP:0000311): onset ; excluded: Frontal bossing (HP:0002007): onset ; excluded: Short neck (HP:0000470): onset ; excluded: Narrow forehead (HP:0000341): onset ; excluded: Micrognathia (HP:0000347): onset ; excluded: Anteverted nares (HP:0000463): onset ; excluded: Upslanted palpebral fissure (HP:0000582): onset ; excluded: Uplifted earlobe (HP:0009909): onset </td></tr>\n",
       "<tr><td style=\"text-align: left;\">Patient 9  (MALE; P2Y6M)</td><td style=\"text-align: left;\">Developmental and epileptic encephalopathy 28 (OMIM:616211)</td><td style=\"text-align: left;\"><ul> <li>NM_016373.4:c.410G>A (heterozygous)</li> <li>NM_016373.4:c.517_791del (heterozygous)</li> </ul></td><td style=\"text-align: left;\">Thin corpus callosum (HP:0033725): onset ; Epileptic spasm (HP:0011097): onset ; Epileptic encephalopathy (HP:0200134): onset ; Hypokinesia (HP:0002375): onset ; Global developmental delay (HP:0001263): onset ; EEG abnormality (HP:0002353): onset ; Decreased fetal movement (HP:0001558): onset ; excluded: Optic atrophy (HP:0000648): onset ; excluded: Cerebral atrophy (HP:0002059): onset ; excluded: Generalized non-motor (absence) seizure (HP:0002121): onset ; excluded: Bilateral tonic-clonic seizure with focal onset (HP:0007334): onset ; excluded: Generalized clonic seizure (HP:0011169): onset ; excluded: Focal clonic seizure (HP:0002266): onset ; excluded: Focal tonic seizure (HP:0011167): onset ; excluded: Delayed CNS myelination (HP:0002188): onset ; excluded: Axial hypotonia (HP:0008936): onset ; excluded: Round face (HP:0000311): onset ; excluded: Frontal bossing (HP:0002007): onset ; excluded: Short neck (HP:0000470): onset ; excluded: Narrow forehead (HP:0000341): onset ; excluded: Micrognathia (HP:0000347): onset ; excluded: Anteverted nares (HP:0000463): onset ; excluded: Upslanted palpebral fissure (HP:0000582): onset ; excluded: Uplifted earlobe (HP:0009909): onset </td></tr>\n",
       "<tr><td style=\"text-align: left;\">Patient 10  (MALE; P2Y)</td><td style=\"text-align: left;\">Developmental and epileptic encephalopathy 28 (OMIM:616211)</td><td style=\"text-align: left;\">NM_016373.4:c.1_409del (homozygous)</td><td style=\"text-align: left;\">Bilateral tonic-clonic seizure (HP:0002069): onset ; Epileptic encephalopathy (HP:0200134): onset ; Hypokinesia (HP:0002375): onset ; Global developmental delay (HP:0001263): onset ; EEG abnormality (HP:0002353): onset ; Short neck (HP:0000470): onset ; Uplifted earlobe (HP:0009909): onset ; excluded: Optic atrophy (HP:0000648): onset ; excluded: Thin corpus callosum (HP:0033725): onset ; excluded: Cerebral atrophy (HP:0002059): onset ; excluded: Generalized non-motor (absence) seizure (HP:0002121): onset ; excluded: Epileptic spasm (HP:0011097): onset ; excluded: Bilateral tonic-clonic seizure with focal onset (HP:0007334): onset ; excluded: Generalized clonic seizure (HP:0011169): onset ; excluded: Focal clonic seizure (HP:0002266): onset ; excluded: Focal tonic seizure (HP:0011167): onset ; excluded: Delayed CNS myelination (HP:0002188): onset ; excluded: Axial hypotonia (HP:0008936): onset ; excluded: Reduced eye contact (HP:0000817): onset ; excluded: Decreased fetal movement (HP:0001558): onset ; excluded: Round face (HP:0000311): onset ; excluded: Frontal bossing (HP:0002007): onset ; excluded: Narrow forehead (HP:0000341): onset ; excluded: Micrognathia (HP:0000347): onset ; excluded: Anteverted nares (HP:0000463): onset ; excluded: Upslanted palpebral fissure (HP:0000582): onset </td></tr>\n",
       "<tr><td style=\"text-align: left;\">Patient 11  (FEMALE; P2Y6M)</td><td style=\"text-align: left;\">Developmental and epileptic encephalopathy 28 (OMIM:616211)</td><td style=\"text-align: left;\"><ul> <li>NM_016373.4:c.517_1056del (heterozygous)</li> <li>NM_016373.4:c.705dup (heterozygous)</li> </ul></td><td style=\"text-align: left;\">Abnormal electroretinogram (HP:0000512): onset ; Epileptic spasm (HP:0011097): onset ; Epileptic encephalopathy (HP:0200134): onset ; Hypokinesia (HP:0002375): onset ; Global developmental delay (HP:0001263): onset ; EEG abnormality (HP:0002353): onset ; Reduced eye contact (HP:0000817): onset ; excluded: Optic atrophy (HP:0000648): onset ; excluded: Thin corpus callosum (HP:0033725): onset ; excluded: Cerebral atrophy (HP:0002059): onset ; excluded: Generalized non-motor (absence) seizure (HP:0002121): onset ; excluded: Bilateral tonic-clonic seizure with focal onset (HP:0007334): onset ; excluded: Generalized clonic seizure (HP:0011169): onset ; excluded: Focal clonic seizure (HP:0002266): onset ; excluded: Focal tonic seizure (HP:0011167): onset ; excluded: Delayed CNS myelination (HP:0002188): onset ; excluded: Axial hypotonia (HP:0008936): onset ; excluded: Decreased fetal movement (HP:0001558): onset ; excluded: Round face (HP:0000311): onset ; excluded: Frontal bossing (HP:0002007): onset ; excluded: Short neck (HP:0000470): onset ; excluded: Narrow forehead (HP:0000341): onset ; excluded: Micrognathia (HP:0000347): onset ; excluded: Anteverted nares (HP:0000463): onset ; excluded: Upslanted palpebral fissure (HP:0000582): onset ; excluded: Uplifted earlobe (HP:0009909): onset </td></tr>\n",
       "<tr><td style=\"text-align: left;\">Patient 12 (FEMALE; P1Y5M)</td><td style=\"text-align: left;\">Developmental and epileptic encephalopathy 28 (OMIM:616211)</td><td style=\"text-align: left;\"><ul> <li>NM_016373.4:c.49G>A (heterozygous)</li> <li>NM_016373.4:c.911C>T (heterozygous)</li> </ul></td><td style=\"text-align: left;\">Bilateral tonic-clonic seizure (HP:0002069): onset ; Epileptic encephalopathy (HP:0200134): onset ; Global developmental delay (HP:0001263): onset ; excluded: Thin corpus callosum (HP:0033725): onset ; excluded: Cerebral atrophy (HP:0002059): onset ; excluded: Generalized non-motor (absence) seizure (HP:0002121): onset ; excluded: Epileptic spasm (HP:0011097): onset ; excluded: Bilateral tonic-clonic seizure with focal onset (HP:0007334): onset ; excluded: Generalized clonic seizure (HP:0011169): onset ; excluded: Focal clonic seizure (HP:0002266): onset ; excluded: Focal tonic seizure (HP:0011167): onset ; excluded: Delayed CNS myelination (HP:0002188): onset ; excluded: Reduced eye contact (HP:0000817): onset ; excluded: Decreased fetal movement (HP:0001558): onset ; excluded: Round face (HP:0000311): onset ; excluded: Frontal bossing (HP:0002007): onset ; excluded: Short neck (HP:0000470): onset ; excluded: Narrow forehead (HP:0000341): onset ; excluded: Micrognathia (HP:0000347): onset ; excluded: Anteverted nares (HP:0000463): onset ; excluded: Upslanted palpebral fissure (HP:0000582): onset ; excluded: Uplifted earlobe (HP:0009909): onset </td></tr>\n",
       "<tr><td style=\"text-align: left;\">Patient 13 (FEMALE; P8Y)</td><td style=\"text-align: left;\">Developmental and epileptic encephalopathy 28 (OMIM:616211)</td><td style=\"text-align: left;\">NM_016373.4:c.790C>T (homozygous)</td><td style=\"text-align: left;\">Abnormal electroretinogram (HP:0000512): onset ; Thin corpus callosum (HP:0033725): onset ; Cerebral atrophy (HP:0002059): onset ; Epileptic spasm (HP:0011097): onset ; Epileptic encephalopathy (HP:0200134): onset ; Spasticity (HP:0001257): onset ; Hypokinesia (HP:0002375): onset ; Global developmental delay (HP:0001263): onset ; Delayed CNS myelination (HP:0002188): onset ; EEG abnormality (HP:0002353): onset ; Reduced eye contact (HP:0000817): onset ; Narrow forehead (HP:0000341): onset ; Upslanted palpebral fissure (HP:0000582): onset ; Uplifted earlobe (HP:0009909): onset ; excluded: Optic atrophy (HP:0000648): onset ; excluded: Generalized non-motor (absence) seizure (HP:0002121): onset ; excluded: Bilateral tonic-clonic seizure with focal onset (HP:0007334): onset ; excluded: Generalized clonic seizure (HP:0011169): onset ; excluded: Focal clonic seizure (HP:0002266): onset ; excluded: Focal tonic seizure (HP:0011167): onset ; excluded: Decreased fetal movement (HP:0001558): onset ; excluded: Round face (HP:0000311): onset ; excluded: Frontal bossing (HP:0002007): onset ; excluded: Short neck (HP:0000470): onset ; excluded: Micrognathia (HP:0000347): onset ; excluded: Anteverted nares (HP:0000463): onset </td></tr>\n",
       "<tr><td style=\"text-align: left;\">Patient 14 (MALE; P5Y2M)</td><td style=\"text-align: left;\">Developmental and epileptic encephalopathy 28 (OMIM:616211)</td><td style=\"text-align: left;\">NM_016373.4:c.790C>T (homozygous)</td><td style=\"text-align: left;\">Epileptic spasm (HP:0011097): onset ; Epileptic encephalopathy (HP:0200134): onset ; Hypokinesia (HP:0002375): onset ; Global developmental delay (HP:0001263): onset ; Reduced eye contact (HP:0000817): onset ; Narrow forehead (HP:0000341): onset ; Upslanted palpebral fissure (HP:0000582): onset ; Uplifted earlobe (HP:0009909): onset ; excluded: Optic atrophy (HP:0000648): onset ; excluded: Thin corpus callosum (HP:0033725): onset ; excluded: Cerebral atrophy (HP:0002059): onset ; excluded: Generalized non-motor (absence) seizure (HP:0002121): onset ; excluded: Bilateral tonic-clonic seizure with focal onset (HP:0007334): onset ; excluded: Generalized clonic seizure (HP:0011169): onset ; excluded: Focal clonic seizure (HP:0002266): onset ; excluded: Focal tonic seizure (HP:0011167): onset ; excluded: Delayed CNS myelination (HP:0002188): onset ; excluded: Decreased fetal movement (HP:0001558): onset ; excluded: Round face (HP:0000311): onset ; excluded: Frontal bossing (HP:0002007): onset ; excluded: Short neck (HP:0000470): onset ; excluded: Micrognathia (HP:0000347): onset ; excluded: Anteverted nares (HP:0000463): onset </td></tr>\n",
       "<tr><td style=\"text-align: left;\">Patient 15 (MALE; P5Y)</td><td style=\"text-align: left;\">Developmental and epileptic encephalopathy 28 (OMIM:616211)</td><td style=\"text-align: left;\"><ul> <li>NM_016373.4:c.449A>C (heterozygous)</li> <li>NM_016373.4:c.517_791del (heterozygous)</li> </ul></td><td style=\"text-align: left;\">Thin corpus callosum (HP:0033725): onset ; Focal clonic seizure (HP:0002266): onset ; Epileptic encephalopathy (HP:0200134): onset ; Spasticity (HP:0001257): onset ; Hypokinesia (HP:0002375): onset ; Global developmental delay (HP:0001263): onset ; Axial hypotonia (HP:0008936): onset ; EEG abnormality (HP:0002353): onset ; Reduced eye contact (HP:0000817): onset ; excluded: Optic atrophy (HP:0000648): onset ; excluded: Cerebral atrophy (HP:0002059): onset ; excluded: Generalized non-motor (absence) seizure (HP:0002121): onset ; excluded: Epileptic spasm (HP:0011097): onset ; excluded: Bilateral tonic-clonic seizure with focal onset (HP:0007334): onset ; excluded: Generalized clonic seizure (HP:0011169): onset ; excluded: Focal tonic seizure (HP:0011167): onset ; excluded: Delayed CNS myelination (HP:0002188): onset ; excluded: Decreased fetal movement (HP:0001558): onset ; excluded: Round face (HP:0000311): onset ; excluded: Frontal bossing (HP:0002007): onset ; excluded: Short neck (HP:0000470): onset ; excluded: Narrow forehead (HP:0000341): onset ; excluded: Micrognathia (HP:0000347): onset ; excluded: Anteverted nares (HP:0000463): onset ; excluded: Upslanted palpebral fissure (HP:0000582): onset ; excluded: Uplifted earlobe (HP:0009909): onset </td></tr>\n",
       "<tr><td style=\"text-align: left;\">Patient 16 (MALE; P8Y)</td><td style=\"text-align: left;\">Developmental and epileptic encephalopathy 28 (OMIM:616211)</td><td style=\"text-align: left;\"><ul> <li>NM_016373.4:c.449A>C (heterozygous)</li> <li>NM_016373.4:c.517_791del (heterozygous)</li> </ul></td><td style=\"text-align: left;\">Thin corpus callosum (HP:0033725): onset ; Focal clonic seizure (HP:0002266): onset ; Epileptic encephalopathy (HP:0200134): onset ; Spasticity (HP:0001257): onset ; Hypokinesia (HP:0002375): onset ; Global developmental delay (HP:0001263): onset ; Axial hypotonia (HP:0008936): onset ; EEG abnormality (HP:0002353): onset ; Reduced eye contact (HP:0000817): onset ; excluded: Abnormal electroretinogram (HP:0000512): onset ; excluded: Optic atrophy (HP:0000648): onset ; excluded: Cerebral atrophy (HP:0002059): onset ; excluded: Generalized non-motor (absence) seizure (HP:0002121): onset ; excluded: Epileptic spasm (HP:0011097): onset ; excluded: Bilateral tonic-clonic seizure with focal onset (HP:0007334): onset ; excluded: Generalized clonic seizure (HP:0011169): onset ; excluded: Focal tonic seizure (HP:0011167): onset ; excluded: Delayed CNS myelination (HP:0002188): onset ; excluded: Decreased fetal movement (HP:0001558): onset ; excluded: Round face (HP:0000311): onset ; excluded: Frontal bossing (HP:0002007): onset ; excluded: Short neck (HP:0000470): onset ; excluded: Narrow forehead (HP:0000341): onset ; excluded: Micrognathia (HP:0000347): onset ; excluded: Anteverted nares (HP:0000463): onset ; excluded: Upslanted palpebral fissure (HP:0000582): onset ; excluded: Uplifted earlobe (HP:0009909): onset </td></tr>\n",
       "<tr><td style=\"text-align: left;\">Patient 17 (MALE; P1Y)</td><td style=\"text-align: left;\">Developmental and epileptic encephalopathy 28 (OMIM:616211)</td><td style=\"text-align: left;\"><ul> <li>NM_016373.4:c.410G>A (heterozygous)</li> <li>NM_016373.4:c.953C>T (heterozygous)</li> </ul></td><td style=\"text-align: left;\">Thin corpus callosum (HP:0033725): onset ; Cerebral atrophy (HP:0002059): onset ; Focal clonic seizure (HP:0002266): onset ; Epileptic encephalopathy (HP:0200134): onset ; Global developmental delay (HP:0001263): onset ; EEG abnormality (HP:0002353): onset ; Reduced eye contact (HP:0000817): onset ; excluded: Abnormal electroretinogram (HP:0000512): onset ; excluded: Generalized non-motor (absence) seizure (HP:0002121): onset ; excluded: Epileptic spasm (HP:0011097): onset ; excluded: Bilateral tonic-clonic seizure with focal onset (HP:0007334): onset ; excluded: Generalized clonic seizure (HP:0011169): onset ; excluded: Focal tonic seizure (HP:0011167): onset ; excluded: Spasticity (HP:0001257): onset ; excluded: Hypokinesia (HP:0002375): onset ; excluded: Delayed CNS myelination (HP:0002188): onset ; excluded: Decreased fetal movement (HP:0001558): onset ; excluded: Round face (HP:0000311): onset ; excluded: Frontal bossing (HP:0002007): onset ; excluded: Short neck (HP:0000470): onset ; excluded: Narrow forehead (HP:0000341): onset ; excluded: Micrognathia (HP:0000347): onset ; excluded: Anteverted nares (HP:0000463): onset ; excluded: Upslanted palpebral fissure (HP:0000582): onset ; excluded: Uplifted earlobe (HP:0009909): onset </td></tr>\n",
       "<tr><td style=\"text-align: left;\">Patient 18 (FEMALE; P2Y4M)</td><td style=\"text-align: left;\">Developmental and epileptic encephalopathy 28 (OMIM:616211)</td><td style=\"text-align: left;\"><ul> <li>NM_016373.4:c.160C>T (heterozygous)</li> <li>NM_016373.4:c.1094_1095del (heterozygous)</li> </ul></td><td style=\"text-align: left;\">Thin corpus callosum (HP:0033725): onset ; Cerebral atrophy (HP:0002059): onset ; Epileptic spasm (HP:0011097): onset ; Epileptic encephalopathy (HP:0200134): onset ; Spasticity (HP:0001257): onset ; Hypokinesia (HP:0002375): onset ; Global developmental delay (HP:0001263): onset ; EEG abnormality (HP:0002353): onset ; Reduced eye contact (HP:0000817): onset ; excluded: Abnormal electroretinogram (HP:0000512): onset ; excluded: Generalized non-motor (absence) seizure (HP:0002121): onset ; excluded: Bilateral tonic-clonic seizure with focal onset (HP:0007334): onset ; excluded: Generalized clonic seizure (HP:0011169): onset ; excluded: Focal clonic seizure (HP:0002266): onset ; excluded: Focal tonic seizure (HP:0011167): onset ; excluded: Delayed CNS myelination (HP:0002188): onset ; excluded: Axial hypotonia (HP:0008936): onset ; excluded: Decreased fetal movement (HP:0001558): onset ; excluded: Round face (HP:0000311): onset ; excluded: Frontal bossing (HP:0002007): onset ; excluded: Short neck (HP:0000470): onset ; excluded: Narrow forehead (HP:0000341): onset ; excluded: Micrognathia (HP:0000347): onset ; excluded: Anteverted nares (HP:0000463): onset ; excluded: Upslanted palpebral fissure (HP:0000582): onset ; excluded: Uplifted earlobe (HP:0009909): onset </td></tr>\n",
       "<tr><td style=\"text-align: left;\">Patient 19 (FEMALE; P15Y)</td><td style=\"text-align: left;\">Developmental and epileptic encephalopathy 28 (OMIM:616211)</td><td style=\"text-align: left;\"><ul> <li>NM_016373.4:c.598A>G (heterozygous)</li> <li>NM_016373.4:c.689A>C (heterozygous)</li> </ul></td><td style=\"text-align: left;\">Cerebral atrophy (HP:0002059): onset ; Focal tonic seizure (HP:0011167): onset ; Epileptic encephalopathy (HP:0200134): onset ; Spasticity (HP:0001257): onset ; Hypokinesia (HP:0002375): onset ; Global developmental delay (HP:0001263): onset ; EEG abnormality (HP:0002353): onset ; Reduced eye contact (HP:0000817): onset ; Round face (HP:0000311): onset ; excluded: Abnormal electroretinogram (HP:0000512): onset ; excluded: Optic atrophy (HP:0000648): onset ; excluded: Generalized non-motor (absence) seizure (HP:0002121): onset ; excluded: Epileptic spasm (HP:0011097): onset ; excluded: Bilateral tonic-clonic seizure with focal onset (HP:0007334): onset ; excluded: Generalized clonic seizure (HP:0011169): onset ; excluded: Focal clonic seizure (HP:0002266): onset ; excluded: Delayed CNS myelination (HP:0002188): onset ; excluded: Decreased fetal movement (HP:0001558): onset ; excluded: Frontal bossing (HP:0002007): onset ; excluded: Short neck (HP:0000470): onset ; excluded: Narrow forehead (HP:0000341): onset ; excluded: Micrognathia (HP:0000347): onset ; excluded: Anteverted nares (HP:0000463): onset ; excluded: Upslanted palpebral fissure (HP:0000582): onset ; excluded: Uplifted earlobe (HP:0009909): onset </td></tr>\n",
       "<tr><td style=\"text-align: left;\">Patient 20 (FEMALE; P3Y3M)</td><td style=\"text-align: left;\">Developmental and epileptic encephalopathy 28 (OMIM:616211)</td><td style=\"text-align: left;\">NM_016373.4:c.689A>C (homozygous)</td><td style=\"text-align: left;\">Thin corpus callosum (HP:0033725): onset ; Generalized non-motor (absence) seizure (HP:0002121): onset ; Bilateral tonic-clonic seizure (HP:0002069): onset ; Epileptic encephalopathy (HP:0200134): onset ; Spasticity (HP:0001257): onset ; Hypokinesia (HP:0002375): onset ; Global developmental delay (HP:0001263): onset ; EEG abnormality (HP:0002353): onset ; Reduced eye contact (HP:0000817): onset ; Round face (HP:0000311): onset ; Uplifted earlobe (HP:0009909): onset ; excluded: Abnormal electroretinogram (HP:0000512): onset ; excluded: Cerebral atrophy (HP:0002059): onset ; excluded: Epileptic spasm (HP:0011097): onset ; excluded: Bilateral tonic-clonic seizure with focal onset (HP:0007334): onset ; excluded: Generalized clonic seizure (HP:0011169): onset ; excluded: Focal clonic seizure (HP:0002266): onset ; excluded: Focal tonic seizure (HP:0011167): onset ; excluded: Delayed CNS myelination (HP:0002188): onset ; excluded: Decreased fetal movement (HP:0001558): onset ; excluded: Frontal bossing (HP:0002007): onset ; excluded: Short neck (HP:0000470): onset ; excluded: Narrow forehead (HP:0000341): onset ; excluded: Micrognathia (HP:0000347): onset ; excluded: Anteverted nares (HP:0000463): onset ; excluded: Upslanted palpebral fissure (HP:0000582): onset </td></tr>\n",
       "<tr><td style=\"text-align: left;\">Patient 1 (FEMALE; P7Y)</td><td style=\"text-align: left;\">Developmental and epileptic encephalopathy 28 (OMIM:616211)</td><td style=\"text-align: left;\">NM_016373.4:c.131G>A (homozygous)</td><td style=\"text-align: left;\">excluded: Organic aciduria (HP:0001992): onset ; excluded: Babinski sign (HP:0003487): onset <br/><b>TimeElement(element=Age(iso8601duration=P1M18D))</b>: Enlarged sylvian cistern (HP:0100952): onset age {\n",
       "  iso8601duration: \"P1M18D\"\n",
       "}\n",
       "; Myoclonus (HP:0001336): onset age {\n",
       "  iso8601duration: \"P1M18D\"\n",
       "}\n",
       "; Poor head control (HP:0002421): onset age {\n",
       "  iso8601duration: \"P1M18D\"\n",
       "}\n",
       "<br/><b>TimeElement(element=Age(iso8601duration=P4M))</b>: Hyperreflexia (HP:0001347): onset age {\n",
       "  iso8601duration: \"P4M\"\n",
       "}\n",
       "<br/><b>TimeElement(element=Age(iso8601duration=P6M))</b>: Global developmental delay (HP:0001263): onset age {\n",
       "  iso8601duration: \"P6M\"\n",
       "}\n",
       "; Generalized hypotonia (HP:0001290): onset age {\n",
       "  iso8601duration: \"P6M\"\n",
       "}\n",
       "; Optic disc pallor (HP:0000543): onset age {\n",
       "  iso8601duration: \"P6M\"\n",
       "}\n",
       "<br/><b>TimeElement(element=Age(iso8601duration=P9M))</b>: Feeding difficulties (HP:0011968): onset age {\n",
       "  iso8601duration: \"P9M\"\n",
       "}\n",
       "<br/><b>TimeElement(element=Age(iso8601duration=P2Y))</b>: Respiratory insufficiency (HP:0002093): onset age {\n",
       "  iso8601duration: \"P2Y\"\n",
       "}\n",
       "<br/><b>TimeElement(element=Age(iso8601duration=P4Y))</b>: Cerebral atrophy (HP:0002059): onset age {\n",
       "  iso8601duration: \"P4Y\"\n",
       "}\n",
       "; Seizure (HP:0001250): onset age {\n",
       "  iso8601duration: \"P4Y\"\n",
       "}\n",
       "; Epileptic encephalopathy (HP:0200134): onset age {\n",
       "  iso8601duration: \"P4Y\"\n",
       "}\n",
       "; Vegetative state (HP:0031358): onset age {\n",
       "  iso8601duration: \"P4Y\"\n",
       "}\n",
       "; CNS demyelination (HP:0007305): onset age {\n",
       "  iso8601duration: \"P4Y\"\n",
       "}\n",
       "; EEG abnormality (HP:0002353): onset age {\n",
       "  iso8601duration: \"P4Y\"\n",
       "}\n",
       "; Progressive muscle weakness (HP:0003323): onset age {\n",
       "  iso8601duration: \"P4Y\"\n",
       "}\n",
       "; Hypertonia (HP:0001276): onset age {\n",
       "  iso8601duration: \"P4Y\"\n",
       "}\n",
       "</td></tr>\n",
       "<tr><td style=\"text-align: left;\">Patient 2 (FEMALE; P1Y4M)</td><td style=\"text-align: left;\">Developmental and epileptic encephalopathy 28 (OMIM:616211)</td><td style=\"text-align: left;\">NM_016373.4:c.131G>A (homozygous)</td><td style=\"text-align: left;\"><b>TimeElement(element=Age(iso8601duration=P6M))</b>: Global developmental delay (HP:0001263): onset age {\n",
       "  iso8601duration: \"P6M\"\n",
       "}\n",
       "; Hyperreflexia (HP:0001347): onset age {\n",
       "  iso8601duration: \"P6M\"\n",
       "}\n",
       "; Poor head control (HP:0002421): onset age {\n",
       "  iso8601duration: \"P6M\"\n",
       "}\n",
       "; Hypertonia (HP:0001276): onset age {\n",
       "  iso8601duration: \"P6M\"\n",
       "}\n",
       "<br/><b>TimeElement(element=Age(iso8601duration=P8M))</b>: Feeding difficulties (HP:0011968): onset age {\n",
       "  iso8601duration: \"P8M\"\n",
       "}\n",
       "<br/><b>TimeElement(element=Age(iso8601duration=P1Y4M))</b>: Cerebral atrophy (HP:0002059): onset age {\n",
       "  iso8601duration: \"P1Y4M\"\n",
       "}\n",
       "; Epileptic encephalopathy (HP:0200134): onset age {\n",
       "  iso8601duration: \"P1Y4M\"\n",
       "}\n",
       "; CNS demyelination (HP:0007305): onset age {\n",
       "  iso8601duration: \"P1Y4M\"\n",
       "}\n",
       "; Babinski sign (HP:0003487): onset age {\n",
       "  iso8601duration: \"P1Y4M\"\n",
       "}\n",
       "<br/><b>TimeElement(element=Age(iso8601duration=P1Y6M))</b>: Bilateral tonic-clonic seizure with focal onset (HP:0007334): onset age {\n",
       "  iso8601duration: \"P1Y6M\"\n",
       "}\n",
       "</td></tr>\n",
       "<tr><td style=\"text-align: left;\">proband (MALE; P4M)</td><td style=\"text-align: left;\">Developmental and epileptic encephalopathy 28 (OMIM:616211)</td><td style=\"text-align: left;\">NM_016373.4:c.911C>A (homozygous)</td><td style=\"text-align: left;\">Thin corpus callosum (HP:0033725): onset ; Patent foramen ovale (HP:0001655): onset <br/><b>TimeElement(element=Age(iso8601duration=P1M))</b>: Seizure (HP:0001250): onset age {\n",
       "  iso8601duration: \"P1M\"\n",
       "}\n",
       "; Epileptic encephalopathy (HP:0200134): onset age {\n",
       "  iso8601duration: \"P1M\"\n",
       "}\n",
       "; Hearing impairment (HP:0000365): onset age {\n",
       "  iso8601duration: \"P1M\"\n",
       "}\n",
       "</td></tr>\n",
       "<tr><td style=\"text-align: left;\">patient (MALE; P40Y)</td><td style=\"text-align: left;\">Developmental and epileptic encephalopathy 28 (OMIM:616211)</td><td style=\"text-align: left;\">NM_016373.4:c.35C>T (homozygous)</td><td style=\"text-align: left;\">Focal behavior arrest seizure (HP:0011173): onset ; Focal impaired awareness autonomic seizure (HP:0032755): onset ; Myoclonic seizure (HP:0032794): onset ; Epileptic spasm (HP:0011097): onset ; Tetraparesis (HP:0002273): onset ; EEG abnormality (HP:0002353): onset ; Ankle clonus (HP:0011448): onset ; Decreased fetal movement (HP:0001558): onset ; Upslanted palpebral fissure (HP:0000582): onset ; Highly arched eyebrow (HP:0002553): onset ; Hypertelorism (HP:0000316): onset ; Babinski sign (HP:0003487): onset <br/><b>TimeElement(element=Age(iso8601duration=P4M))</b>: Bilateral tonic-clonic seizure (HP:0002069): onset age {\n",
       "  iso8601duration: \"P4M\"\n",
       "}\n",
       "; Global developmental delay (HP:0001263): onset age {\n",
       "  iso8601duration: \"P4M\"\n",
       "}\n",
       "<br/><b>TimeElement(element=Age(iso8601duration=P1Y))</b>: Tonic seizure (HP:0032792): onset age {\n",
       "  iso8601duration: \"P1Y\"\n",
       "}\n",
       "<br/><b>TimeElement(element=Age(iso8601duration=P12Y))</b>: Developmental regression (HP:0002376): onset age {\n",
       "  iso8601duration: \"P12Y\"\n",
       "}\n",
       "</td></tr>\n",
       "<tr><td style=\"text-align: left;\">case presentation (FEMALE; P1Y1M)</td><td style=\"text-align: left;\">Developmental and epileptic encephalopathy 28 (OMIM:616211)</td><td style=\"text-align: left;\">NM_016373.4:c.172+1G>C (homozygous)</td><td style=\"text-align: left;\">Thin corpus callosum (HP:0033725): onset ; Delayed gross motor development (HP:0002194): onset ; Failure to thrive (HP:0001508): onset ; Generalized hypotonia (HP:0001290): onset ; EEG abnormality (HP:0002353): onset ; Short neck (HP:0000470): onset ; Depressed nasal bridge (HP:0005280): onset ; Wide nose (HP:0000445): onset ; Highly arched eyebrow (HP:0002553): onset ; excluded: Babinski sign (HP:0003487): onset <br/><b>TimeElement(element=Age(iso8601duration=P19D))</b>: Focal-onset seizure (HP:0007359): onset age {\n",
       "  iso8601duration: \"P19D\"\n",
       "}\n",
       "<br/><b>TimeElement(element=Age(iso8601duration=P4M))</b>: Tonic seizure (HP:0032792): onset age {\n",
       "  iso8601duration: \"P4M\"\n",
       "}\n",
       "<br/><b>TimeElement(element=Age(iso8601duration=P8M))</b>: Epileptic spasm (HP:0011097): onset age {\n",
       "  iso8601duration: \"P8M\"\n",
       "}\n",
       "</td></tr>\n",
       "<tr><td style=\"text-align: left;\">Case report (FEMALE; P1Y)</td><td style=\"text-align: left;\">Developmental and epileptic encephalopathy 28 (OMIM:616211)</td><td style=\"text-align: left;\">NM_016373.4:c.716T>G (homozygous)</td><td style=\"text-align: left;\">Optic atrophy (HP:0000648): onset ; Appendicular spasticity (HP:0034353): onset ; Global developmental delay (HP:0001263): onset ; Axial hypotonia (HP:0008936): onset ; EEG abnormality (HP:0002353): onset ; Hearing impairment (HP:0000365): onset ; excluded: Ataxia (HP:0001251): onset <br/><b>TimeElement(element=Age(iso8601duration=P2M))</b>: Epileptic spasm (HP:0011097): onset age {\n",
       "  iso8601duration: \"P2M\"\n",
       "}\n",
       "<br/><b>TimeElement(element=Age(iso8601duration=P1Y))</b>: Secondary microcephaly (HP:0005484): onset age {\n",
       "  iso8601duration: \"P1Y\"\n",
       "}\n",
       "</td></tr>\n",
       "</table>"
      ],
      "text/plain": [
       "<IPython.core.display.HTML object>"
      ]
     },
     "metadata": {},
     "output_type": "display_data"
    }
   ],
   "source": [
    "table = IndividualTable(cvalidator.get_error_free_individual_list())\n",
    "display(HTML(table.to_html()))"
   ]
  },
  {
   "cell_type": "code",
   "execution_count": 24,
   "id": "b137eb6e-84df-4d7b-a5f2-57a1190fe7ca",
   "metadata": {},
   "outputs": [
    {
     "name": "stdout",
     "output_type": "stream",
     "text": [
      "[pyphetools] Ingested 38 GA4GH phenopackets.\n",
      "[INFO] Extracted 32 from 38 phenopackets with OMIM:616211\n",
      "\n",
      "\tDevelopmental and epileptic encephalopathy 28 (OMIM:616211): n=32\n",
      "We found a total of 66 unique HPO terms\n",
      "Extracted disease: Developmental and epileptic encephalopathy 28 (OMIM:616211)\n",
      "Wrote HPOA disease file to OMIM-616211.tab\n"
     ]
    }
   ],
   "source": [
    "pmid = \"PMID:25411445\"\n",
    "df = timporter.create_hpoa_from_phenopackets(pmid=pmid, mode_of_inheritance=Moi.AR, target=\"OMIM:616211\")"
   ]
  },
  {
   "cell_type": "code",
   "execution_count": null,
   "id": "5d747002-112a-4341-b239-4fc695e2be6e",
   "metadata": {},
   "outputs": [],
   "source": []
  }
 ],
 "metadata": {
  "kernelspec": {
   "display_name": "ps24venv",
   "language": "python",
   "name": "python3"
  },
  "language_info": {
   "codemirror_mode": {
    "name": "ipython",
    "version": 3
   },
   "file_extension": ".py",
   "mimetype": "text/x-python",
   "name": "python",
   "nbconvert_exporter": "python",
   "pygments_lexer": "ipython3",
   "version": "3.12.8"
  }
 },
 "nbformat": 4,
 "nbformat_minor": 5
}
