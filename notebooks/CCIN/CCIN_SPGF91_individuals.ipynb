{
 "cells": [
  {
   "cell_type": "markdown",
   "metadata": {},
   "source": [
    "# CCIN\n",
    "[spermatogenic failure-91 (SPGF91)](https://omim.org/entry/620838) is caused by homozygous or compound heterozygous mutation in the CCIN gene."
   ]
  },
  {
   "cell_type": "code",
   "execution_count": 3,
   "metadata": {},
   "outputs": [
    {
     "name": "stdout",
     "output_type": "stream",
     "text": [
      "Using pyphetools version 0.9.94\n"
     ]
    }
   ],
   "source": [
    "from pyphetools.creation import TemplateImporter, Moi\n",
    "from pyphetools.visualization import IndividualTable, QcVisualizer\n",
    "from IPython.display import display, HTML\n",
    "import pyphetools\n",
    "print(f\"Using pyphetools version {pyphetools.__version__}\")"
   ]
  },
  {
   "cell_type": "code",
   "execution_count": 4,
   "metadata": {},
   "outputs": [],
   "source": [
    "template = \"input/CCIN_SPGF91_individuals.xlsx\"\n",
    "created_by = \"0000-0002-0736-9199\""
   ]
  },
  {
   "cell_type": "code",
   "execution_count": 5,
   "metadata": {},
   "outputs": [
    {
     "name": "stdout",
     "output_type": "stream",
     "text": [
      "HPO version 2024-07-01\n",
      "Created encoders for 24 fields\n",
      "ERROR: Error - HPO label ends with whitespace: \\”Coiled sperm flagella \"\n",
      "Importing OMIM:620838, Spermatogenic failure 91, HGNC:1568, CCIN,  NM_005893.3\n",
      "[INFO] encoding variant \"c.125A>T\"\n",
      "https://rest.variantvalidator.org/VariantValidator/variantvalidator/hg38/NM_005893.3%3Ac.125A>T/NM_005893.3?content-type=application%2Fjson\n",
      "[INFO] encoding variant \"c.1341C>A\"\n",
      "https://rest.variantvalidator.org/VariantValidator/variantvalidator/hg38/NM_005893.3%3Ac.1341C>A/NM_005893.3?content-type=application%2Fjson\n",
      "[INFO] encoding variant \"c.853G>A\"\n",
      "https://rest.variantvalidator.org/VariantValidator/variantvalidator/hg38/NM_005893.3%3Ac.853G>A/NM_005893.3?content-type=application%2Fjson\n",
      "[INFO] encoding variant \"c.1294C>T\"\n",
      "https://rest.variantvalidator.org/VariantValidator/variantvalidator/hg38/NM_005893.3%3Ac.1294C>T/NM_005893.3?content-type=application%2Fjson\n",
      "[INFO] encoding variant \"c.230T>C\"\n",
      "https://rest.variantvalidator.org/VariantValidator/variantvalidator/hg38/NM_005893.3%3Ac.230T>C/NM_005893.3?content-type=application%2Fjson\n",
      "We output 5 GA4GH phenopackets to the directory phenopackets\n"
     ]
    }
   ],
   "source": [
    "timporter = TemplateImporter(template=template,  created_by=created_by)\n",
    "individual_list, cvalidator = timporter.import_phenopackets_from_template()"
   ]
  },
  {
   "cell_type": "code",
   "execution_count": 6,
   "metadata": {},
   "outputs": [
    {
     "data": {
      "text/html": [
       "<h2>Cohort validation</h2>\n",
       "<p>No errors found for the cohort with 5 individuals</p>"
      ],
      "text/plain": [
       "<IPython.core.display.HTML object>"
      ]
     },
     "metadata": {},
     "output_type": "display_data"
    }
   ],
   "source": [
    "qc = QcVisualizer(cohort_validator=cvalidator)\n",
    "display(HTML(qc.to_summary_html()))"
   ]
  },
  {
   "cell_type": "code",
   "execution_count": 7,
   "metadata": {},
   "outputs": [
    {
     "data": {
      "text/html": [
       "<table style=\"border: 2px solid black; align: \"left\">\n",
       "<caption>5 phenopackets - PMID:31985809 (n=1); PMID:36546111 (n=3); PMID:36527329 (n=1)</caption>\n",
       "<tr><th style=\"text-align: left;font-weight: bold;\">Individual</th><th style=\"text-align: left;font-weight: bold;\">Disease</th><th style=\"text-align: left;font-weight: bold;\">Genotype</th><th style=\"text-align: left;font-weight: bold;\">Phenotypic features</th></tr>\n",
       "<tr><td style=\"text-align: left;\">GL-12 (MALE; n/a)</td><td style=\"text-align: left;\">Spermatogenic failure 91 (OMIM:620838)</td><td style=\"text-align: left;\">NM_005893.3:c.853G>A (homozygous)</td><td style=\"text-align: left;\">Globozoospermia (HP:0012205); Male infertility (HP:0003251); Oligozoospermia (HP:0000798)</td></tr>\n",
       "<tr><td style=\"text-align: left;\">brother  F1-1 (MALE; P31Y)</td><td style=\"text-align: left;\">Spermatogenic failure 91 (OMIM:620838)</td><td style=\"text-align: left;\">NM_005893.3:c.125A>T (homozygous)</td><td style=\"text-align: left;\">Globozoospermia (HP:0012205); Male infertility (HP:0003251); Irregularly shaped sperm tail (HP:0033393); excluded: Oligozoospermia (HP:0000798); excluded: Reduced sperm motility (HP:0012207); excluded: Reduced progressive sperm motility (HP:0034011)</td></tr>\n",
       "<tr><td style=\"text-align: left;\">brother  F1-2 (MALE; P29Y)</td><td style=\"text-align: left;\">Spermatogenic failure 91 (OMIM:620838)</td><td style=\"text-align: left;\">NM_005893.3:c.125A>T (homozygous)</td><td style=\"text-align: left;\">Globozoospermia (HP:0012205); Male infertility (HP:0003251); Reduced sperm motility (HP:0012207); Reduced progressive sperm motility (HP:0034011); Irregularly shaped sperm tail (HP:0033393); excluded: Oligozoospermia (HP:0000798)</td></tr>\n",
       "<tr><td style=\"text-align: left;\">nan (MALE; P30Y)</td><td style=\"text-align: left;\">Spermatogenic failure 91 (OMIM:620838)</td><td style=\"text-align: left;\"><ul> <li>NM_005893.3:c.1294C>T (heterozygous)</li> <li>NM_005893.3:c.1341C>A (heterozygous)</li> </ul></td><td style=\"text-align: left;\">Globozoospermia (HP:0012205); Male infertility (HP:0003251); Irregularly shaped sperm tail (HP:0033393); excluded: Oligozoospermia (HP:0000798); excluded: Reduced sperm motility (HP:0012207); excluded: Reduced progressive sperm motility (HP:0034011)</td></tr>\n",
       "<tr><td style=\"text-align: left;\">nan (MALE; P30Y)</td><td style=\"text-align: left;\">Spermatogenic failure 91 (OMIM:620838)</td><td style=\"text-align: left;\">NM_005893.3:c.230T>C (homozygous)</td><td style=\"text-align: left;\">Male infertility (HP:0003251); Reduced progressive sperm motility (HP:0034011); excluded: Reduced sperm motility (HP:0012207)</td></tr>\n",
       "</table>"
      ],
      "text/plain": [
       "<IPython.core.display.HTML object>"
      ]
     },
     "metadata": {},
     "output_type": "display_data"
    }
   ],
   "source": [
    "table = IndividualTable(cvalidator.get_error_free_individual_list())\n",
    "display(HTML(table.to_html()))"
   ]
  },
  {
   "cell_type": "code",
   "execution_count": 8,
   "metadata": {},
   "outputs": [
    {
     "name": "stdout",
     "output_type": "stream",
     "text": [
      "[pyphetools] Ingested 5 GA4GH phenopackets.\n",
      "[INFO] Extracted 5 from 5 phenopackets with OMIM:620838\n",
      "\n",
      "\tSpermatogenic failure 91 (OMIM:620838): n=5\n",
      "We found a total of 6 unique HPO terms\n",
      "Extracted disease: Spermatogenic failure 91 (OMIM:620838)\n",
      "Wrote HPOA disease file to OMIM-620838.tab\n"
     ]
    },
    {
     "data": {
      "text/html": [
       "<div>\n",
       "<style scoped>\n",
       "    .dataframe tbody tr th:only-of-type {\n",
       "        vertical-align: middle;\n",
       "    }\n",
       "\n",
       "    .dataframe tbody tr th {\n",
       "        vertical-align: top;\n",
       "    }\n",
       "\n",
       "    .dataframe thead th {\n",
       "        text-align: right;\n",
       "    }\n",
       "</style>\n",
       "<table border=\"1\" class=\"dataframe\">\n",
       "  <thead>\n",
       "    <tr style=\"text-align: right;\">\n",
       "      <th></th>\n",
       "      <th>#diseaseID</th>\n",
       "      <th>diseaseName</th>\n",
       "      <th>phenotypeID</th>\n",
       "      <th>phenotypeName</th>\n",
       "      <th>onsetID</th>\n",
       "      <th>onsetName</th>\n",
       "      <th>frequency</th>\n",
       "      <th>sex</th>\n",
       "      <th>negation</th>\n",
       "      <th>modifier</th>\n",
       "      <th>description</th>\n",
       "      <th>publication</th>\n",
       "      <th>evidence</th>\n",
       "      <th>biocuration</th>\n",
       "    </tr>\n",
       "  </thead>\n",
       "  <tbody>\n",
       "    <tr>\n",
       "      <th>0</th>\n",
       "      <td>OMIM:620838</td>\n",
       "      <td>Spermatogenic failure 91</td>\n",
       "      <td>HP:0012205</td>\n",
       "      <td>Globozoospermia</td>\n",
       "      <td></td>\n",
       "      <td></td>\n",
       "      <td>3/3</td>\n",
       "      <td></td>\n",
       "      <td></td>\n",
       "      <td></td>\n",
       "      <td></td>\n",
       "      <td>PMID:36546111</td>\n",
       "      <td>PCS</td>\n",
       "      <td>ORCID:0000-0002-0736-9199[2024-08-02]</td>\n",
       "    </tr>\n",
       "    <tr>\n",
       "      <th>1</th>\n",
       "      <td>OMIM:620838</td>\n",
       "      <td>Spermatogenic failure 91</td>\n",
       "      <td>HP:0003251</td>\n",
       "      <td>Male infertility</td>\n",
       "      <td></td>\n",
       "      <td></td>\n",
       "      <td>3/3</td>\n",
       "      <td></td>\n",
       "      <td></td>\n",
       "      <td></td>\n",
       "      <td></td>\n",
       "      <td>PMID:36546111</td>\n",
       "      <td>PCS</td>\n",
       "      <td>ORCID:0000-0002-0736-9199[2024-08-02]</td>\n",
       "    </tr>\n",
       "    <tr>\n",
       "      <th>2</th>\n",
       "      <td>OMIM:620838</td>\n",
       "      <td>Spermatogenic failure 91</td>\n",
       "      <td>HP:0033393</td>\n",
       "      <td>Irregularly shaped sperm tail</td>\n",
       "      <td></td>\n",
       "      <td></td>\n",
       "      <td>3/3</td>\n",
       "      <td></td>\n",
       "      <td></td>\n",
       "      <td></td>\n",
       "      <td></td>\n",
       "      <td>PMID:36546111</td>\n",
       "      <td>PCS</td>\n",
       "      <td>ORCID:0000-0002-0736-9199[2024-08-02]</td>\n",
       "    </tr>\n",
       "    <tr>\n",
       "      <th>3</th>\n",
       "      <td>OMIM:620838</td>\n",
       "      <td>Spermatogenic failure 91</td>\n",
       "      <td>HP:0000798</td>\n",
       "      <td>Oligozoospermia</td>\n",
       "      <td></td>\n",
       "      <td></td>\n",
       "      <td>0/3</td>\n",
       "      <td></td>\n",
       "      <td></td>\n",
       "      <td></td>\n",
       "      <td></td>\n",
       "      <td>PMID:36546111</td>\n",
       "      <td>PCS</td>\n",
       "      <td>ORCID:0000-0002-0736-9199[2024-08-02]</td>\n",
       "    </tr>\n",
       "    <tr>\n",
       "      <th>4</th>\n",
       "      <td>OMIM:620838</td>\n",
       "      <td>Spermatogenic failure 91</td>\n",
       "      <td>HP:0012207</td>\n",
       "      <td>Reduced sperm motility</td>\n",
       "      <td></td>\n",
       "      <td></td>\n",
       "      <td>1/3</td>\n",
       "      <td></td>\n",
       "      <td></td>\n",
       "      <td></td>\n",
       "      <td></td>\n",
       "      <td>PMID:36546111</td>\n",
       "      <td>PCS</td>\n",
       "      <td>ORCID:0000-0002-0736-9199[2024-08-02]</td>\n",
       "    </tr>\n",
       "  </tbody>\n",
       "</table>\n",
       "</div>"
      ],
      "text/plain": [
       "    #diseaseID  ...                            biocuration\n",
       "0  OMIM:620838  ...  ORCID:0000-0002-0736-9199[2024-08-02]\n",
       "1  OMIM:620838  ...  ORCID:0000-0002-0736-9199[2024-08-02]\n",
       "2  OMIM:620838  ...  ORCID:0000-0002-0736-9199[2024-08-02]\n",
       "3  OMIM:620838  ...  ORCID:0000-0002-0736-9199[2024-08-02]\n",
       "4  OMIM:620838  ...  ORCID:0000-0002-0736-9199[2024-08-02]\n",
       "\n",
       "[5 rows x 14 columns]"
      ]
     },
     "execution_count": 8,
     "metadata": {},
     "output_type": "execute_result"
    }
   ],
   "source": [
    "pmid = \"PMID:31985809\"\n",
    "df = timporter.create_hpoa_from_phenopackets(pmid=pmid, mode_of_inheritance=Moi.AR, target=\"OMIM:620838\")\n",
    "df.head()"
   ]
  },
  {
   "cell_type": "code",
   "execution_count": null,
   "metadata": {},
   "outputs": [],
   "source": []
  }
 ],
 "metadata": {
  "kernelspec": {
   "display_name": "ps24venv",
   "language": "python",
   "name": "python3"
  },
  "language_info": {
   "codemirror_mode": {
    "name": "ipython",
    "version": 3
   },
   "file_extension": ".py",
   "mimetype": "text/x-python",
   "name": "python",
   "nbconvert_exporter": "python",
   "pygments_lexer": "ipython3",
   "version": "3.9.6"
  }
 },
 "nbformat": 4,
 "nbformat_minor": 2
}
