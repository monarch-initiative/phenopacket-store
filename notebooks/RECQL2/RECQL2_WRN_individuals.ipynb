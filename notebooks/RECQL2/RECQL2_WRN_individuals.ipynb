{
 "cells": [
  {
   "cell_type": "markdown",
   "metadata": {},
   "source": [
    "# RECQL2\n",
    "[Werner syndrome (WRN)]() is caused by homozygous or compound heterozygous mutation in the RECQL2 gene."
   ]
  },
  {
   "cell_type": "code",
   "execution_count": 1,
   "metadata": {},
   "outputs": [
    {
     "name": "stdout",
     "output_type": "stream",
     "text": [
      "Using pyphetools version 0.9.90\n"
     ]
    },
    {
     "name": "stderr",
     "output_type": "stream",
     "text": [
      "/Users/robin/GIT/phenopacket-store/ps24venv/lib/python3.9/site-packages/urllib3/__init__.py:35: NotOpenSSLWarning: urllib3 v2 only supports OpenSSL 1.1.1+, currently the 'ssl' module is compiled with 'LibreSSL 2.8.3'. See: https://github.com/urllib3/urllib3/issues/3020\n",
      "  warnings.warn(\n"
     ]
    }
   ],
   "source": [
    "from pyphetools.creation import TemplateImporter\n",
    "from pyphetools.visualization import IndividualTable, QcVisualizer\n",
    "from IPython.display import display, HTML\n",
    "import pyphetools\n",
    "print(f\"Using pyphetools version {pyphetools.__version__}\")"
   ]
  },
  {
   "cell_type": "code",
   "execution_count": 2,
   "metadata": {},
   "outputs": [],
   "source": [
    "template = \"input/RECQL2_WRN_individuals.xlsx\"\n",
    "created_by = \"0000-0002-0736-9199\""
   ]
  },
  {
   "cell_type": "code",
   "execution_count": 3,
   "metadata": {},
   "outputs": [
    {
     "name": "stdout",
     "output_type": "stream",
     "text": [
      "HPO version 2024-04-26\n",
      "Created encoders for 44 fields\n",
      "Importing OMIM:277700, Werner syndrome, HGNC:12791, RECQL2,  NM_000553.6\n",
      "[INFO] encoding variant \"c.1720+1G>A\"\n",
      "https://rest.variantvalidator.org/VariantValidator/variantvalidator/hg38/NM_000553.6%3Ac.1720+1G>A/NM_000553.6?content-type=application%2Fjson\n",
      "[INFO] encoding variant \"c.3139-1G>C\"\n",
      "https://rest.variantvalidator.org/VariantValidator/variantvalidator/hg38/NM_000553.6%3Ac.3139-1G>C/NM_000553.6?content-type=application%2Fjson\n",
      "We output 2 GA4GH phenopackets to the directory phenopackets\n"
     ]
    }
   ],
   "source": [
    "timporter = TemplateImporter(template=template,  created_by=created_by)\n",
    "individual_list, cvalidator = timporter.import_phenopackets_from_template()"
   ]
  },
  {
   "cell_type": "code",
   "execution_count": 4,
   "metadata": {},
   "outputs": [
    {
     "data": {
      "text/html": [
       "<h2>Cohort validation</h2>\n",
       "<p>Errors found with 2 of 2 phenopackets.</p>\n",
       "<table style=\"border: 2px solid black; align: \"left\">\n",
       "<caption>Error counts</caption>\n",
       "<tr><th style=\"text-align: left;font-weight: bold;\">Level</th><th style=\"text-align: left;font-weight: bold;\">Error category</th><th style=\"text-align: left;font-weight: bold;\">Count</th></tr>\n",
       "<tr><td style=\"text-align: left;\">WARNING</td><td style=\"text-align: left;\">REDUNDANT</td><td style=\"text-align: left;\">2</td></tr>\n",
       "</table>\n",
       "<p>A total of 2 issues were fixed and no individual was removed from the cohort.</p>"
      ],
      "text/plain": [
       "<IPython.core.display.HTML object>"
      ]
     },
     "metadata": {},
     "output_type": "display_data"
    }
   ],
   "source": [
    "qc = QcVisualizer(cohort_validator=cvalidator)\n",
    "display(HTML(qc.to_summary_html()))"
   ]
  },
  {
   "cell_type": "code",
   "execution_count": 5,
   "metadata": {},
   "outputs": [
    {
     "data": {
      "text/html": [
       "<table style=\"border: 2px solid black; align: \"left\">\n",
       "<caption>2 phenopackets - PMID:30891318 (n=1); PMID:30568144 (n=1)</caption>\n",
       "<tr><th style=\"text-align: left;font-weight: bold;\">Individual</th><th style=\"text-align: left;font-weight: bold;\">Disease</th><th style=\"text-align: left;font-weight: bold;\">Genotype</th><th style=\"text-align: left;font-weight: bold;\">Phenotypic features</th></tr>\n",
       "<tr><td style=\"text-align: left;\">case (MALE; P48Y)</td><td style=\"text-align: left;\">Werner syndrome (OMIM:277700)</td><td style=\"text-align: left;\">NM_000553.6:c.2581C>T (homozygous)</td><td style=\"text-align: left;\"><b>P32Y</b>: Cataract (HP:0000518)<br/><b>P35Y</b>: High pitched voice (HP:0001620); Premature graying of hair (HP:0002216)<br/><b>P44Y</b>: Diabetes mellitus (HP:0000819)<br/><b>P48Y</b>: Myelodysplasia (HP:0002863)<br/>Convex nasal ridge (HP:0000444); Achilles tendon calcification (HP:0025441); Progeroid facial appearance (HP:0005328); Plantar hyperkeratosis (HP:0007556); Dermal atrophy (HP:0004334); Nail dystrophy (HP:0008404); Elevated hemoglobin A1c (HP:0040217); Hypertriglyceridemia (HP:0002155); Hyperglycemia (HP:0003074); excluded: Retinal degeneration (HP:0000546); excluded: Short stature (HP:0004322); excluded: Meningioma (HP:0002858); excluded: Premature arteriosclerosis (HP:0005177); excluded: Osteosarcoma (HP:0002669)</td></tr>\n",
       "<tr><td style=\"text-align: left;\">Case Report (MALE; P38Y)</td><td style=\"text-align: left;\">Werner syndrome (OMIM:277700)</td><td style=\"text-align: left;\"><ul> <li>NM_000553.6:c.1720+1G>A (heterozygous)</li> <li>NM_000553.6:c.3139-1G>C (heterozygous)</li> </ul></td><td style=\"text-align: left;\"><b>P19Y</b>: Cataract (HP:0000518)<br/><b>P25Y</b>: Premature graying of hair (HP:0002216)<br/>High pitched voice (HP:0001620); Convex nasal ridge (HP:0000444); Achilles tendon calcification (HP:0025441); Diabetes mellitus (HP:0000819); Osteoporosis (HP:0000939); Dermal atrophy (HP:0004334); Elevated hemoglobin A1c (HP:0040217); Hypertriglyceridemia (HP:0002155); Hyperglycemia (HP:0003074); Elevated circulating aspartate aminotransferase concentration (HP:0031956); Elevated circulating alanine aminotransferase concentration (HP:0031964); Body ache (HP:0033047); excluded: Retinal degeneration (HP:0000546); excluded: Meningioma (HP:0002858); excluded: Osteosarcoma (HP:0002669); excluded: Myelodysplasia (HP:0002863)</td></tr>\n",
       "</table>"
      ],
      "text/plain": [
       "<IPython.core.display.HTML object>"
      ]
     },
     "metadata": {},
     "output_type": "display_data"
    }
   ],
   "source": [
    "table = IndividualTable(cvalidator.get_error_free_individual_list())\n",
    "display(HTML(table.to_html()))"
   ]
  },
  {
   "cell_type": "code",
   "execution_count": 6,
   "metadata": {},
   "outputs": [
    {
     "name": "stdout",
     "output_type": "stream",
     "text": [
      "[pyphetools] Ingested 2 GA4GH phenopackets.\n",
      "[INFO] Extracted 2 from 2 phenopackets with OMIM:277700\n",
      "\n",
      "\tWerner syndrome (OMIM:277700): n=2\n",
      "We found a total of 23 unique HPO terms\n",
      "Extracted disease: Werner syndrome (OMIM:277700)\n",
      "Wrote HPOA disease file to OMIM-277700.tab\n"
     ]
    }
   ],
   "source": [
    "pmid = \"PMID:30891318\"\n",
    "df = timporter.create_hpoa_from_phenopackets(pmid=pmid, moi=\"Autosomal recessive\", target=\"OMIM:277700\")"
   ]
  }
 ],
 "metadata": {
  "kernelspec": {
   "display_name": "ps24venv",
   "language": "python",
   "name": "python3"
  },
  "language_info": {
   "codemirror_mode": {
    "name": "ipython",
    "version": 3
   },
   "file_extension": ".py",
   "mimetype": "text/x-python",
   "name": "python",
   "nbconvert_exporter": "python",
   "pygments_lexer": "ipython3",
   "version": "3.9.6"
  }
 },
 "nbformat": 4,
 "nbformat_minor": 2
}
