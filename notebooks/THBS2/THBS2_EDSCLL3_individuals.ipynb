{
 "cells": [
  {
   "cell_type": "markdown",
   "metadata": {},
   "source": [
    "# THBS2\n",
    "[Ehlers-Danlos syndrome classic-like-3 (EDSCLL3)](https://omim.org/entry/620865) is caused by heterozygous mutation in the THBS2 gene."
   ]
  },
  {
   "cell_type": "code",
   "execution_count": 3,
   "metadata": {},
   "outputs": [
    {
     "name": "stdout",
     "output_type": "stream",
     "text": [
      "Using pyphetools version 0.9.95\n"
     ]
    }
   ],
   "source": [
    "from pyphetools.creation import TemplateImporter, Moi\n",
    "from pyphetools.visualization import IndividualTable, QcVisualizer\n",
    "from IPython.display import display, HTML\n",
    "import pyphetools\n",
    "print(f\"Using pyphetools version {pyphetools.__version__}\")"
   ]
  },
  {
   "cell_type": "code",
   "execution_count": 4,
   "metadata": {},
   "outputs": [],
   "source": [
    "template = \"input/THBS2_EDSCLL3_individuals.xlsx\"\n",
    "created_by = \"0000-0002-0736-9199\""
   ]
  },
  {
   "cell_type": "code",
   "execution_count": 8,
   "metadata": {},
   "outputs": [
    {
     "name": "stdout",
     "output_type": "stream",
     "text": [
      "HPO version 2024-07-01\n",
      "Created encoders for 37 fields\n",
      "Importing OMIM:620865, Ehlers-Danlos syndrome, classic-like, 3, HGNC:11786, THBS2,  NM_003247.5\n",
      "We output 3 GA4GH phenopackets to the directory phenopackets\n"
     ]
    }
   ],
   "source": [
    "timporter = TemplateImporter(template=template,  created_by=created_by)\n",
    "individual_list, cvalidator = timporter.import_phenopackets_from_template()"
   ]
  },
  {
   "cell_type": "code",
   "execution_count": 9,
   "metadata": {},
   "outputs": [
    {
     "data": {
      "text/html": [
       "<h2>Cohort validation</h2>\n",
       "<p>No errors found for the cohort with 3 individuals</p>"
      ],
      "text/plain": [
       "<IPython.core.display.HTML object>"
      ]
     },
     "metadata": {},
     "output_type": "display_data"
    }
   ],
   "source": [
    "qc = QcVisualizer(cohort_validator=cvalidator)\n",
    "display(HTML(qc.to_summary_html()))"
   ]
  },
  {
   "cell_type": "code",
   "execution_count": 10,
   "metadata": {},
   "outputs": [
    {
     "data": {
      "text/html": [
       "<table style=\"border: 2px solid black; align: \"left\">\n",
       "<caption>3 phenopackets - PMID:38433265 (n=3)</caption>\n",
       "<tr><th style=\"text-align: left;font-weight: bold;\">Individual</th><th style=\"text-align: left;font-weight: bold;\">Disease</th><th style=\"text-align: left;font-weight: bold;\">Genotype</th><th style=\"text-align: left;font-weight: bold;\">Phenotypic features</th></tr>\n",
       "<tr><td style=\"text-align: left;\">index case patient III:1 (FEMALE; P29Y)</td><td style=\"text-align: left;\">Ehlers-Danlos syndrome, classic-like, 3 (OMIM:620865)</td><td style=\"text-align: left;\">NM_003247.5:c.2686T>C (heterozygous)</td><td style=\"text-align: left;\">Atrophic scars (HP:0001075); Bruising susceptibility (HP:0000978); Prolonged bleeding time (HP:0003010); Joint hypermobility (HP:0001382); Tendon rupture (HP:0100550); Multiple joint dislocation (HP:0012095); Piezogenic pedal papules (HP:0025509); Venous insufficiency (HP:0005293); excluded: Hyperextensible skin (HP:0000974); excluded: Cardiomyopathy (HP:0001638); excluded: Abnormal platelet count (HP:0011873); excluded: Abnormal prothrombin time (HP:0032199); excluded: Reduced von Willebrand factor activity (HP:0008330); excluded: Abnormal factor VIII activity (HP:0030976); excluded: Abnormality of circulating fibrinogen (HP:0011898)</td></tr>\n",
       "<tr><td style=\"text-align: left;\">sister III:2 (FEMALE; P35Y)</td><td style=\"text-align: left;\">Ehlers-Danlos syndrome, classic-like, 3 (OMIM:620865)</td><td style=\"text-align: left;\">NM_003247.5:c.2686T>C (heterozygous)</td><td style=\"text-align: left;\">Atrophic scars (HP:0001075); Bruising susceptibility (HP:0000978); Prolonged bleeding time (HP:0003010); Joint hypermobility (HP:0001382); Tendon rupture (HP:0100550); Multiple joint dislocation (HP:0012095); Piezogenic pedal papules (HP:0025509); excluded: Hyperextensible skin (HP:0000974); excluded: Cardiomyopathy (HP:0001638); excluded: Abnormal platelet count (HP:0011873); excluded: Abnormal prothrombin time (HP:0032199); excluded: Reduced von Willebrand factor activity (HP:0008330); excluded: Abnormal factor VIII activity (HP:0030976); excluded: Abnormality of circulating fibrinogen (HP:0011898)</td></tr>\n",
       "<tr><td style=\"text-align: left;\">mother II:1 (FEMALE; P55Y)</td><td style=\"text-align: left;\">Ehlers-Danlos syndrome, classic-like, 3 (OMIM:620865)</td><td style=\"text-align: left;\">NM_003247.5:c.2686T>C (heterozygous)</td><td style=\"text-align: left;\">Atrophic scars (HP:0001075); Bruising susceptibility (HP:0000978); Prolonged bleeding time (HP:0003010); Joint hypermobility (HP:0001382); Tendon rupture (HP:0100550); Multiple joint dislocation (HP:0012095); Piezogenic pedal papules (HP:0025509); Venous insufficiency (HP:0005293); Thickened mitral valve cusp (HP:6000342); Aortic arch aneurysm (HP:0005113); excluded: Hyperextensible skin (HP:0000974); excluded: Ascending tubular aorta aneurysm (HP:0004970); excluded: Cardiomyopathy (HP:0001638); excluded: Abnormal platelet count (HP:0011873); excluded: Abnormal prothrombin time (HP:0032199)</td></tr>\n",
       "</table>"
      ],
      "text/plain": [
       "<IPython.core.display.HTML object>"
      ]
     },
     "metadata": {},
     "output_type": "display_data"
    }
   ],
   "source": [
    "table = IndividualTable(cvalidator.get_error_free_individual_list())\n",
    "display(HTML(table.to_html()))"
   ]
  },
  {
   "cell_type": "code",
   "execution_count": 11,
   "metadata": {},
   "outputs": [
    {
     "name": "stdout",
     "output_type": "stream",
     "text": [
      "[pyphetools] Ingested 3 GA4GH phenopackets.\n",
      "[INFO] Extracted 3 from 3 phenopackets with OMIM:620865\n",
      "\n",
      "\tEhlers-Danlos syndrome, classic-like, 3 (OMIM:620865): n=3\n",
      "We found a total of 18 unique HPO terms\n",
      "Extracted disease: Ehlers-Danlos syndrome, classic-like, 3 (OMIM:620865)\n",
      "Wrote HPOA disease file to OMIM-620865.tab\n"
     ]
    },
    {
     "data": {
      "text/html": [
       "<div>\n",
       "<style scoped>\n",
       "    .dataframe tbody tr th:only-of-type {\n",
       "        vertical-align: middle;\n",
       "    }\n",
       "\n",
       "    .dataframe tbody tr th {\n",
       "        vertical-align: top;\n",
       "    }\n",
       "\n",
       "    .dataframe thead th {\n",
       "        text-align: right;\n",
       "    }\n",
       "</style>\n",
       "<table border=\"1\" class=\"dataframe\">\n",
       "  <thead>\n",
       "    <tr style=\"text-align: right;\">\n",
       "      <th></th>\n",
       "      <th>#diseaseID</th>\n",
       "      <th>diseaseName</th>\n",
       "      <th>phenotypeID</th>\n",
       "      <th>phenotypeName</th>\n",
       "      <th>onsetID</th>\n",
       "      <th>onsetName</th>\n",
       "      <th>frequency</th>\n",
       "      <th>sex</th>\n",
       "      <th>negation</th>\n",
       "      <th>modifier</th>\n",
       "      <th>description</th>\n",
       "      <th>publication</th>\n",
       "      <th>evidence</th>\n",
       "      <th>biocuration</th>\n",
       "    </tr>\n",
       "  </thead>\n",
       "  <tbody>\n",
       "    <tr>\n",
       "      <th>0</th>\n",
       "      <td>OMIM:620865</td>\n",
       "      <td>Ehlers-Danlos syndrome, classic-like, 3</td>\n",
       "      <td>HP:0001075</td>\n",
       "      <td>Atrophic scars</td>\n",
       "      <td></td>\n",
       "      <td></td>\n",
       "      <td>3/3</td>\n",
       "      <td></td>\n",
       "      <td></td>\n",
       "      <td></td>\n",
       "      <td></td>\n",
       "      <td>PMID:38433265</td>\n",
       "      <td>PCS</td>\n",
       "      <td>ORCID:0000-0002-0736-9199[2024-08-04]</td>\n",
       "    </tr>\n",
       "    <tr>\n",
       "      <th>1</th>\n",
       "      <td>OMIM:620865</td>\n",
       "      <td>Ehlers-Danlos syndrome, classic-like, 3</td>\n",
       "      <td>HP:0000978</td>\n",
       "      <td>Bruising susceptibility</td>\n",
       "      <td></td>\n",
       "      <td></td>\n",
       "      <td>3/3</td>\n",
       "      <td></td>\n",
       "      <td></td>\n",
       "      <td></td>\n",
       "      <td></td>\n",
       "      <td>PMID:38433265</td>\n",
       "      <td>PCS</td>\n",
       "      <td>ORCID:0000-0002-0736-9199[2024-08-04]</td>\n",
       "    </tr>\n",
       "    <tr>\n",
       "      <th>2</th>\n",
       "      <td>OMIM:620865</td>\n",
       "      <td>Ehlers-Danlos syndrome, classic-like, 3</td>\n",
       "      <td>HP:0003010</td>\n",
       "      <td>Prolonged bleeding time</td>\n",
       "      <td></td>\n",
       "      <td></td>\n",
       "      <td>3/3</td>\n",
       "      <td></td>\n",
       "      <td></td>\n",
       "      <td></td>\n",
       "      <td></td>\n",
       "      <td>PMID:38433265</td>\n",
       "      <td>PCS</td>\n",
       "      <td>ORCID:0000-0002-0736-9199[2024-08-04]</td>\n",
       "    </tr>\n",
       "    <tr>\n",
       "      <th>3</th>\n",
       "      <td>OMIM:620865</td>\n",
       "      <td>Ehlers-Danlos syndrome, classic-like, 3</td>\n",
       "      <td>HP:0001382</td>\n",
       "      <td>Joint hypermobility</td>\n",
       "      <td></td>\n",
       "      <td></td>\n",
       "      <td>3/3</td>\n",
       "      <td></td>\n",
       "      <td></td>\n",
       "      <td></td>\n",
       "      <td></td>\n",
       "      <td>PMID:38433265</td>\n",
       "      <td>PCS</td>\n",
       "      <td>ORCID:0000-0002-0736-9199[2024-08-04]</td>\n",
       "    </tr>\n",
       "    <tr>\n",
       "      <th>4</th>\n",
       "      <td>OMIM:620865</td>\n",
       "      <td>Ehlers-Danlos syndrome, classic-like, 3</td>\n",
       "      <td>HP:0100550</td>\n",
       "      <td>Tendon rupture</td>\n",
       "      <td></td>\n",
       "      <td></td>\n",
       "      <td>3/3</td>\n",
       "      <td></td>\n",
       "      <td></td>\n",
       "      <td></td>\n",
       "      <td></td>\n",
       "      <td>PMID:38433265</td>\n",
       "      <td>PCS</td>\n",
       "      <td>ORCID:0000-0002-0736-9199[2024-08-04]</td>\n",
       "    </tr>\n",
       "  </tbody>\n",
       "</table>\n",
       "</div>"
      ],
      "text/plain": [
       "    #diseaseID  ...                            biocuration\n",
       "0  OMIM:620865  ...  ORCID:0000-0002-0736-9199[2024-08-04]\n",
       "1  OMIM:620865  ...  ORCID:0000-0002-0736-9199[2024-08-04]\n",
       "2  OMIM:620865  ...  ORCID:0000-0002-0736-9199[2024-08-04]\n",
       "3  OMIM:620865  ...  ORCID:0000-0002-0736-9199[2024-08-04]\n",
       "4  OMIM:620865  ...  ORCID:0000-0002-0736-9199[2024-08-04]\n",
       "\n",
       "[5 rows x 14 columns]"
      ]
     },
     "execution_count": 11,
     "metadata": {},
     "output_type": "execute_result"
    }
   ],
   "source": [
    "pmid = \"PMID:38433265\"\n",
    "df = timporter.create_hpoa_from_phenopackets(pmid=pmid, mode_of_inheritance=Moi.AD, target=\"OMIM:620865\")\n",
    "df.head()"
   ]
  }
 ],
 "metadata": {
  "kernelspec": {
   "display_name": "ps24venv",
   "language": "python",
   "name": "python3"
  },
  "language_info": {
   "codemirror_mode": {
    "name": "ipython",
    "version": 3
   },
   "file_extension": ".py",
   "mimetype": "text/x-python",
   "name": "python",
   "nbconvert_exporter": "python",
   "pygments_lexer": "ipython3",
   "version": "3.12.4"
  }
 },
 "nbformat": 4,
 "nbformat_minor": 2
}
