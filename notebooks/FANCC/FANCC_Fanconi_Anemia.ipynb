{
 "cells": [
  {
   "cell_type": "markdown",
   "id": "18bf0e5e-b798-4ff7-aed2-200571f7b193",
   "metadata": {},
   "source": [
    "# FANCC\n",
    "[Fanconi anemia of complementation group C (FANCC)](https://www.omim.org/entry/227645) is caused by homozygous or compound heterozygous mutation in the FANCC gene."
   ]
  },
  {
   "cell_type": "code",
   "execution_count": 10,
   "id": "76d65e41-3205-4a05-802f-89b6250789c5",
   "metadata": {},
   "outputs": [
    {
     "name": "stdout",
     "output_type": "stream",
     "text": [
      "Using pyphetools version 0.9.78\n"
     ]
    }
   ],
   "source": [
    "from pyphetools.creation import TemplateImporter\n",
    "from pyphetools.visualization import IndividualTable, QcVisualizer\n",
    "from IPython.display import display, HTML\n",
    "import pyphetools\n",
    "print(f\"Using pyphetools version {pyphetools.__version__}\")"
   ]
  },
  {
   "cell_type": "code",
   "execution_count": 11,
   "id": "3b4ff201-32a3-497c-8a16-e2459255828b",
   "metadata": {},
   "outputs": [],
   "source": [
    "template = \"input/FANCC_FA_individuals.xlsx\"\n",
    "hp_json = \"../hp.json\"\n",
    "created_by = \"0000-0002-0736-9199\""
   ]
  },
  {
   "cell_type": "code",
   "execution_count": 12,
   "id": "42078413-110c-4888-b245-0f4f0e52ed76",
   "metadata": {},
   "outputs": [
    {
     "name": "stdout",
     "output_type": "stream",
     "text": [
      "HPO version 2024-04-04\n",
      "Created encoders for 52 fields\n",
      "Importing OMIM:227645, Fanconi anemia, complementation group C, HGNC:3584, FANCC,  NM_000136.3\n",
      "[INFO] encoding variant \"c.67del\"\n",
      "https://rest.variantvalidator.org/VariantValidator/variantvalidator/hg38/NM_000136.3%3Ac.67del/NM_000136.3?content-type=application%2Fjson\n",
      "[INFO] encoding variant \"c.1393C>T\"\n",
      "https://rest.variantvalidator.org/VariantValidator/variantvalidator/hg38/NM_000136.3%3Ac.1393C>T/NM_000136.3?content-type=application%2Fjson\n",
      "[INFO] encoding variant \"c.996G>A\"\n",
      "https://rest.variantvalidator.org/VariantValidator/variantvalidator/hg38/NM_000136.3%3Ac.996G>A/NM_000136.3?content-type=application%2Fjson\n",
      "[INFO] encoding variant \"c.455dup\"\n",
      "https://rest.variantvalidator.org/VariantValidator/variantvalidator/hg38/NM_000136.3%3Ac.455dup/NM_000136.3?content-type=application%2Fjson\n",
      "We output 4 GA4GH phenopackets to the directory phenopackets\n"
     ]
    }
   ],
   "source": [
    "timporter = TemplateImporter(template=template, hp_json=hp_json, created_by=created_by)\n",
    "individual_list, cvalidator = timporter.import_phenopackets_from_template()"
   ]
  },
  {
   "cell_type": "code",
   "execution_count": 13,
   "id": "5e95d28d-5806-480e-9c55-ddff5b92fe0f",
   "metadata": {},
   "outputs": [
    {
     "data": {
      "text/html": [
       "<h2>Cohort validation</h2>\n",
       "<p>No errors found for the cohort with 4 individuals</p>"
      ],
      "text/plain": [
       "<IPython.core.display.HTML object>"
      ]
     },
     "metadata": {},
     "output_type": "display_data"
    }
   ],
   "source": [
    "qc = QcVisualizer(cohort_validator=cvalidator)\n",
    "display(HTML(qc.to_summary_html()))"
   ]
  },
  {
   "cell_type": "code",
   "execution_count": 14,
   "id": "bbd0c725-5868-4ab6-a137-185705065e3a",
   "metadata": {},
   "outputs": [
    {
     "data": {
      "text/html": [
       "<table style=\"border: 2px solid black; align: \"left\">\n",
       "<caption>4 phenopackets - PMID:22701786 (n=1); PMID:31044565 (n=1); PMID:16429406 (n=2)</caption>\n",
       "<tr><th style=\"text-align: left;font-weight: bold;\">Individual</th><th style=\"text-align: left;font-weight: bold;\">Disease</th><th style=\"text-align: left;font-weight: bold;\">Genotype</th><th style=\"text-align: left;font-weight: bold;\">Phenotypic features</th></tr>\n",
       "<tr><td style=\"text-align: left;\">proband (FEMALE; P6Y)</td><td style=\"text-align: left;\">Fanconi anemia, complementation group C (OMIM:227645)</td><td style=\"text-align: left;\">NM_000136.3:c.67del (homozygous)</td><td style=\"text-align: left;\"><b>P5Y</b>: Short stature (HP:0004322); Cafe-au-lait spot (HP:0000957); Bone marrow hypocellularity (HP:0005528); Triangular face (HP:0000325)<br/>Ventricular septal defect (HP:0001629); Intrauterine growth retardation (HP:0001511); Chromosomal breakage induced by crosslinking agents (HP:0003221); excluded: Short thumb (HP:0009778); excluded: Absent thumb (HP:0009777); excluded: Duplication of thumb phalanx (HP:0009942); excluded: Absent radius (HP:0003974)</td></tr>\n",
       "<tr><td style=\"text-align: left;\">proband (MALE; P11Y)</td><td style=\"text-align: left;\">Fanconi anemia, complementation group C (OMIM:227645)</td><td style=\"text-align: left;\">NM_000136.3:c.67del (homozygous)</td><td style=\"text-align: left;\"><b>P2Y</b>: Anemia (HP:0001903)<br/><b>P11Y</b>: Pancytopenia (HP:0001876); Cafe-au-lait spot (HP:0000957); Hypopigmented macule (HP:0020073); Bone marrow hypocellularity (HP:0005528)<br/>Chromosomal breakage induced by crosslinking agents (HP:0003221); Anterior wedging of T12 (HP:0011940); excluded: Short thumb (HP:0009778); excluded: Absent thumb (HP:0009777); excluded: Duplication of thumb phalanx (HP:0009942); excluded: Absent radius (HP:0003974); excluded: Short stature (HP:0004322)</td></tr>\n",
       "<tr><td style=\"text-align: left;\">first patient (FEMALE; P7Y)</td><td style=\"text-align: left;\">Fanconi anemia, complementation group C (OMIM:227645)</td><td style=\"text-align: left;\"><ul> <li>NM_000136.3:c.455dup (heterozygous)</li> <li>NM_000136.3:c.1393C>T (heterozygous)</li> </ul></td><td style=\"text-align: left;\">Chromosomal breakage induced by crosslinking agents (HP:0003221); Absent thumb (HP:0009777); Short stature (HP:0004322); excluded: Leukemia (HP:0001909)</td></tr>\n",
       "<tr><td style=\"text-align: left;\">second patient (UNKNOWN; P5Y)</td><td style=\"text-align: left;\">Fanconi anemia, complementation group C (OMIM:227645)</td><td style=\"text-align: left;\"><ul> <li>NM_000136.3:c.1393C>T (heterozygous)</li> <li>NM_000136.3:c.996G>A (heterozygous)</li> </ul></td><td style=\"text-align: left;\"><b>P5Y</b>: Anemia (HP:0001903); Thrombocytopenia (HP:0001873); Pancytopenia (HP:0001876); Neutropenia (HP:0001875); Short stature (HP:0004322); Cafe-au-lait spot (HP:0000957)<br/>Absent thumb (HP:0009777); Absent radius (HP:0003974); Chromosomal breakage induced by crosslinking agents (HP:0003221); excluded: Leukemia (HP:0001909)</td></tr>\n",
       "</table>"
      ],
      "text/plain": [
       "<IPython.core.display.HTML object>"
      ]
     },
     "metadata": {},
     "output_type": "display_data"
    }
   ],
   "source": [
    "table = IndividualTable(cvalidator.get_error_free_individual_list())\n",
    "display(HTML(table.to_html()))"
   ]
  },
  {
   "cell_type": "code",
   "execution_count": 16,
   "id": "a0433f41-3549-4856-bd7f-c6812822a7c2",
   "metadata": {},
   "outputs": [
    {
     "name": "stdout",
     "output_type": "stream",
     "text": [
      "[pyphetools] Ingested 4 GA4GH phenopackets.\n",
      "\tFanconi anemia, complementation group C (OMIM:227645): n=4\n",
      "We found a total of 18 unique HPO terms\n",
      "Extracted disease: Fanconi anemia, complementation group C (OMIM:227645)\n",
      "Wrote HPOA disease file to OMIM-227645.tab\n"
     ]
    }
   ],
   "source": [
    "pmid = \"PMID:22701786\"\n",
    "df = timporter.create_hpoa_from_phenopackets(pmid=pmid, moi=\"Autosomal recessive\")"
   ]
  },
  {
   "cell_type": "code",
   "execution_count": null,
   "id": "5ff0af6a-d4b4-437a-864d-05aaabe0a9c8",
   "metadata": {},
   "outputs": [],
   "source": []
  }
 ],
 "metadata": {
  "kernelspec": {
   "display_name": "ps24venv",
   "language": "python",
   "name": "ps24venv"
  },
  "language_info": {
   "codemirror_mode": {
    "name": "ipython",
    "version": 3
   },
   "file_extension": ".py",
   "mimetype": "text/x-python",
   "name": "python",
   "nbconvert_exporter": "python",
   "pygments_lexer": "ipython3",
   "version": "3.9.6"
  }
 },
 "nbformat": 4,
 "nbformat_minor": 5
}
