{
 "cells": [
  {
   "cell_type": "markdown",
   "metadata": {},
   "source": [
    "# TECRL\n",
    "[catecholaminergic polymorphic ventricular tachycardia-3 (CPVT3)](https://omim.org/entry/614021) is caused by homozygous or compound heterozygous mutation in the TECRL gene."
   ]
  },
  {
   "cell_type": "code",
   "execution_count": 3,
   "metadata": {},
   "outputs": [
    {
     "name": "stdout",
     "output_type": "stream",
     "text": [
      "Using pyphetools version 0.9.91\n"
     ]
    }
   ],
   "source": [
    "from pyphetools.creation import TemplateImporter\n",
    "from pyphetools.visualization import IndividualTable, QcVisualizer\n",
    "from IPython.display import display, HTML\n",
    "import pyphetools\n",
    "print(f\"Using pyphetools version {pyphetools.__version__}\")"
   ]
  },
  {
   "cell_type": "code",
   "execution_count": 4,
   "metadata": {},
   "outputs": [],
   "source": [
    "template = \"input/TECRL_CPTV3_individuals.xlsx\"\n",
    "created_by = \"0000-0002-0736-9199\""
   ]
  },
  {
   "cell_type": "code",
   "execution_count": 5,
   "metadata": {},
   "outputs": [
    {
     "name": "stdout",
     "output_type": "stream",
     "text": [
      "HPO version 2024-04-26\n",
      "Created encoders for 26 fields\n",
      "Importing OMIM:614021, Ventricular tachycardia, catecholaminergic polymorphic, 3, HGNC:27365, TECRL,  NM_001010874.5\n",
      "[INFO] encoding variant \"c.587G>A\"\n",
      "https://rest.variantvalidator.org/VariantValidator/variantvalidator/hg38/NM_001010874.5%3Ac.587G>A/NM_001010874.5?content-type=application%2Fjson\n",
      "[INFO] encoding variant \"c.331+1G>A\"\n",
      "https://rest.variantvalidator.org/VariantValidator/variantvalidator/hg38/NM_001010874.5%3Ac.331+1G>A/NM_001010874.5?content-type=application%2Fjson\n",
      "We output 3 GA4GH phenopackets to the directory phenopackets\n"
     ]
    }
   ],
   "source": [
    "timporter = TemplateImporter(template=template,  created_by=created_by)\n",
    "individual_list, cvalidator = timporter.import_phenopackets_from_template()"
   ]
  },
  {
   "cell_type": "code",
   "execution_count": 6,
   "metadata": {},
   "outputs": [
    {
     "data": {
      "text/html": [
       "<h2>Cohort validation</h2>\n",
       "<p>No errors found for the cohort with 3 individuals</p>"
      ],
      "text/plain": [
       "<IPython.core.display.HTML object>"
      ]
     },
     "metadata": {},
     "output_type": "display_data"
    }
   ],
   "source": [
    "qc = QcVisualizer(cohort_validator=cvalidator)\n",
    "display(HTML(qc.to_summary_html()))"
   ]
  },
  {
   "cell_type": "code",
   "execution_count": 7,
   "metadata": {},
   "outputs": [
    {
     "data": {
      "text/html": [
       "<table style=\"border: 2px solid black; align: \"left\">\n",
       "<caption>3 phenopackets - PMID:27861123 (n=3)</caption>\n",
       "<tr><th style=\"text-align: left;font-weight: bold;\">Individual</th><th style=\"text-align: left;font-weight: bold;\">Disease</th><th style=\"text-align: left;font-weight: bold;\">Genotype</th><th style=\"text-align: left;font-weight: bold;\">Phenotypic features</th></tr>\n",
       "<tr><td style=\"text-align: left;\">Patient 1 (FEMALE; P22Y)</td><td style=\"text-align: left;\">Ventricular tachycardia, catecholaminergic polymorphic, 3 (OMIM:614021)</td><td style=\"text-align: left;\">NM_001010874.5:c.587G>A (homozygous)</td><td style=\"text-align: left;\"><b>P22Y</b>: Atrial arrhythmia (HP:0001692); Prolonged QT interval (HP:0001657); Effort-induced polymorphic ventricular tachycardia (HP:0004758); Ventricular fibrillation (HP:0001663); Cardiac arrest (HP:0001695)<br/>excluded: Syncope (HP:0001279); excluded: Sudden death (HP:0001699); excluded: Torsade de pointes (HP:0001664)</td></tr>\n",
       "<tr><td style=\"text-align: left;\">Patient 2 (FEMALE; P33Y)</td><td style=\"text-align: left;\">Ventricular tachycardia, catecholaminergic polymorphic, 3 (OMIM:614021)</td><td style=\"text-align: left;\">NM_001010874.5:c.587G>A (homozygous)</td><td style=\"text-align: left;\"><b>P18Y</b>: Syncope (HP:0001279); Prolonged QT interval (HP:0001657); Effort-induced polymorphic ventricular tachycardia (HP:0004758)<br/><b>P31Y</b>: Cardiac arrest (HP:0001695)<br/>Atrial arrhythmia (HP:0001692); Ventricular fibrillation (HP:0001663); excluded: Sudden death (HP:0001699); excluded: Torsade de pointes (HP:0001664)</td></tr>\n",
       "<tr><td style=\"text-align: left;\">Patient 3 (MALE; P4Y)</td><td style=\"text-align: left;\">Ventricular tachycardia, catecholaminergic polymorphic, 3 (OMIM:614021)</td><td style=\"text-align: left;\">NM_001010874.5:c.331+1G>A (homozygous)</td><td style=\"text-align: left;\"><b>P4Y</b>: Ventricular fibrillation (HP:0001663); Cardiac arrest (HP:0001695); Torsade de pointes (HP:0001664)<br/>excluded: Syncope (HP:0001279); excluded: Sudden death (HP:0001699)</td></tr>\n",
       "</table>"
      ],
      "text/plain": [
       "<IPython.core.display.HTML object>"
      ]
     },
     "metadata": {},
     "output_type": "display_data"
    }
   ],
   "source": [
    "table = IndividualTable(cvalidator.get_error_free_individual_list())\n",
    "display(HTML(table.to_html()))"
   ]
  }
 ],
 "metadata": {
  "kernelspec": {
   "display_name": "ps24venv",
   "language": "python",
   "name": "python3"
  },
  "language_info": {
   "codemirror_mode": {
    "name": "ipython",
    "version": 3
   },
   "file_extension": ".py",
   "mimetype": "text/x-python",
   "name": "python",
   "nbconvert_exporter": "python",
   "pygments_lexer": "ipython3",
   "version": "3.9.6"
  }
 },
 "nbformat": 4,
 "nbformat_minor": 2
}
