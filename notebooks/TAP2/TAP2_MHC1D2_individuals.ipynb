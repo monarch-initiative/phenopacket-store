{
 "cells": [
  {
   "cell_type": "markdown",
   "metadata": {},
   "source": [
    "# TAP2\n",
    "[MHC class I deficiency-2 (MHC1D2)](https://omim.org/entry/620813) is caused by homozygous mutation in the TAP2 gene\n",
    "\n",
    "TAP2_MHC1D2_individuals.ipynb"
   ]
  },
  {
   "cell_type": "code",
   "execution_count": 1,
   "metadata": {},
   "outputs": [
    {
     "name": "stdout",
     "output_type": "stream",
     "text": [
      "Using pyphetools version 0.9.110\n"
     ]
    }
   ],
   "source": [
    "from pyphetools.creation import TemplateImporter, Moi\n",
    "from pyphetools.visualization import IndividualTable, QcVisualizer\n",
    "from IPython.display import display, HTML\n",
    "import pyphetools\n",
    "print(f\"Using pyphetools version {pyphetools.__version__}\")"
   ]
  },
  {
   "cell_type": "code",
   "execution_count": 2,
   "metadata": {},
   "outputs": [
    {
     "name": "stdout",
     "output_type": "stream",
     "text": [
      "HPO version 2024-08-13\n",
      "Created encoders for 30 fields\n",
      "Importing OMIM:620813, MHC class I deficiency 2, HGNC:44, TAP2,  NM_001290043.2\n",
      "We output 4 GA4GH phenopackets to the directory phenopackets\n"
     ]
    }
   ],
   "source": [
    "template = \"input/TAP2_MHC1D2_individuals.xlsx\"\n",
    "created_by = \"0000-0002-0736-9199\"\n",
    "timporter = TemplateImporter(template=template,  created_by=created_by)\n",
    "individual_list, cvalidator = timporter.import_phenopackets_from_template()"
   ]
  },
  {
   "cell_type": "code",
   "execution_count": 3,
   "metadata": {},
   "outputs": [
    {
     "data": {
      "text/html": [
       "<h2>Cohort validation</h2>\n",
       "<p>No errors found for the cohort with 4 individuals</p>"
      ],
      "text/plain": [
       "<IPython.core.display.HTML object>"
      ]
     },
     "metadata": {},
     "output_type": "display_data"
    }
   ],
   "source": [
    "qc = QcVisualizer(cohort_validator=cvalidator)\n",
    "display(HTML(qc.to_summary_html()))"
   ]
  },
  {
   "cell_type": "code",
   "execution_count": 4,
   "metadata": {},
   "outputs": [
    {
     "data": {
      "text/html": [
       "<table style=\"border: 2px solid black; align: \"left\">\n",
       "<caption>4 phenopackets - PMID:7517574 (n=1); PMID:10560675 (n=2); PMID:36229627 (n=1)</caption>\n",
       "<tr><th style=\"text-align: left;font-weight: bold;\">Individual</th><th style=\"text-align: left;font-weight: bold;\">Disease</th><th style=\"text-align: left;font-weight: bold;\">Genotype</th><th style=\"text-align: left;font-weight: bold;\">Phenotypic features</th></tr>\n",
       "<tr><td style=\"text-align: left;\">EFA (FEMALE; P15Y)</td><td style=\"text-align: left;\">MHC class I deficiency 2 (OMIM:620813)</td><td style=\"text-align: left;\">NM_001290043.2:c.817C>T (homozygous)</td><td style=\"text-align: left;\">Chronic sinusitis (HP:0011109): onset ; Chronic bronchitis (HP:0004469): onset ; excluded: Chronic rhinitis (HP:0002257): onset ; excluded: Nasal polyposis (HP:0100582): onset ; excluded: Recurrent viral infections (HP:0004429): onset ; excluded: Severe viral infection (HP:0031691): onset </td></tr>\n",
       "<tr><td style=\"text-align: left;\">P1 (FEMALE; P36Y)</td><td style=\"text-align: left;\">MHC class I deficiency 2 (OMIM:620813)</td><td style=\"text-align: left;\">NM_001290043.2:c.979del (homozygous)</td><td style=\"text-align: left;\">Bronchiectasis (HP:0002110): onset ; Chronic rhinitis (HP:0002257): onset ; Nasal polyposis (HP:0100582): onset ; excluded: Severe viral infection (HP:0031691): onset ; excluded: Cytoplasmic antineutrophil antibody positivity (HP:0032230): onset <br/><b>TimeElement(element=OntologyClass(id=HP:0011463, label=Childhood onset))</b>: Chronic sinusitis (HP:0011109): onset ontology_class {\n",
       "  id: \"HP:0011463\"\n",
       "  label: \"Childhood onset\"\n",
       "}\n",
       "<br/><b>TimeElement(element=Age(iso8601duration=P10Y))</b>: Chronic bronchitis (HP:0004469): onset age {\n",
       "  iso8601duration: \"P10Y\"\n",
       "}\n",
       "</td></tr>\n",
       "<tr><td style=\"text-align: left;\">P3 (UNKNOWN)</td><td style=\"text-align: left;\">MHC class I deficiency 2 (OMIM:620813)</td><td style=\"text-align: left;\">NM_001290043.2:c.979del (homozygous)</td><td style=\"text-align: left;\">Chronic rhinitis (HP:0002257): onset ; Nasal polyposis (HP:0100582): onset ; excluded: Severe viral infection (HP:0031691): onset <br/><b>TimeElement(element=OntologyClass(id=HP:0011463, label=Childhood onset))</b>: Chronic sinusitis (HP:0011109): onset ontology_class {\n",
       "  id: \"HP:0011463\"\n",
       "  label: \"Childhood onset\"\n",
       "}\n",
       "<br/><b>TimeElement(element=OntologyClass(id=HP:0003621, label=Juvenile onset))</b>: Chronic bronchitis (HP:0004469): onset ontology_class {\n",
       "  id: \"HP:0003621\"\n",
       "  label: \"Juvenile onset\"\n",
       "}\n",
       "</td></tr>\n",
       "<tr><td style=\"text-align: left;\">Case Description (MALE; P3Y)</td><td style=\"text-align: left;\">MHC class I deficiency 2 (OMIM:620813)</td><td style=\"text-align: left;\">NM_001290043.2:c.373del (homozygous)</td><td style=\"text-align: left;\">Recurrent respiratory infections (HP:0002205): onset ; Recurrent infection of the gastrointestinal tract (HP:0004798): onset </td></tr>\n",
       "</table>"
      ],
      "text/plain": [
       "<IPython.core.display.HTML object>"
      ]
     },
     "metadata": {},
     "output_type": "display_data"
    }
   ],
   "source": [
    "table = IndividualTable(cvalidator.get_error_free_individual_list())\n",
    "display(HTML(table.to_html()))"
   ]
  },
  {
   "cell_type": "code",
   "execution_count": 5,
   "metadata": {},
   "outputs": [
    {
     "name": "stdout",
     "output_type": "stream",
     "text": [
      "[pyphetools] Ingested 4 GA4GH phenopackets.\n",
      "[INFO] Extracted 4 from 4 phenopackets with OMIM:620813\n",
      "\n",
      "\tMHC class I deficiency 2 (OMIM:620813): n=4\n",
      "We found a total of 10 unique HPO terms\n",
      "Extracted disease: MHC class I deficiency 2 (OMIM:620813)\n",
      "Wrote HPOA disease file to OMIM-620813.tab\n"
     ]
    },
    {
     "data": {
      "text/html": [
       "<div>\n",
       "<style scoped>\n",
       "    .dataframe tbody tr th:only-of-type {\n",
       "        vertical-align: middle;\n",
       "    }\n",
       "\n",
       "    .dataframe tbody tr th {\n",
       "        vertical-align: top;\n",
       "    }\n",
       "\n",
       "    .dataframe thead th {\n",
       "        text-align: right;\n",
       "    }\n",
       "</style>\n",
       "<table border=\"1\" class=\"dataframe\">\n",
       "  <thead>\n",
       "    <tr style=\"text-align: right;\">\n",
       "      <th></th>\n",
       "      <th>#diseaseID</th>\n",
       "      <th>diseaseName</th>\n",
       "      <th>phenotypeID</th>\n",
       "      <th>phenotypeName</th>\n",
       "      <th>onsetID</th>\n",
       "      <th>onsetName</th>\n",
       "      <th>frequency</th>\n",
       "      <th>sex</th>\n",
       "      <th>negation</th>\n",
       "      <th>modifier</th>\n",
       "      <th>description</th>\n",
       "      <th>publication</th>\n",
       "      <th>evidence</th>\n",
       "      <th>biocuration</th>\n",
       "    </tr>\n",
       "  </thead>\n",
       "  <tbody>\n",
       "    <tr>\n",
       "      <th>0</th>\n",
       "      <td>OMIM:620813</td>\n",
       "      <td>MHC class I deficiency 2</td>\n",
       "      <td>HP:0011109</td>\n",
       "      <td>Chronic sinusitis</td>\n",
       "      <td></td>\n",
       "      <td></td>\n",
       "      <td>2/2</td>\n",
       "      <td></td>\n",
       "      <td></td>\n",
       "      <td></td>\n",
       "      <td></td>\n",
       "      <td>PMID:10560675</td>\n",
       "      <td>PCS</td>\n",
       "      <td>ORCID:0000-0002-0736-9199[2024-10-24]</td>\n",
       "    </tr>\n",
       "    <tr>\n",
       "      <th>1</th>\n",
       "      <td>OMIM:620813</td>\n",
       "      <td>MHC class I deficiency 2</td>\n",
       "      <td>HP:0004469</td>\n",
       "      <td>Chronic bronchitis</td>\n",
       "      <td></td>\n",
       "      <td></td>\n",
       "      <td>2/2</td>\n",
       "      <td></td>\n",
       "      <td></td>\n",
       "      <td></td>\n",
       "      <td></td>\n",
       "      <td>PMID:10560675</td>\n",
       "      <td>PCS</td>\n",
       "      <td>ORCID:0000-0002-0736-9199[2024-10-24]</td>\n",
       "    </tr>\n",
       "    <tr>\n",
       "      <th>2</th>\n",
       "      <td>OMIM:620813</td>\n",
       "      <td>MHC class I deficiency 2</td>\n",
       "      <td>HP:0002257</td>\n",
       "      <td>Chronic rhinitis</td>\n",
       "      <td></td>\n",
       "      <td></td>\n",
       "      <td>2/2</td>\n",
       "      <td></td>\n",
       "      <td></td>\n",
       "      <td></td>\n",
       "      <td></td>\n",
       "      <td>PMID:10560675</td>\n",
       "      <td>PCS</td>\n",
       "      <td>ORCID:0000-0002-0736-9199[2024-10-24]</td>\n",
       "    </tr>\n",
       "    <tr>\n",
       "      <th>3</th>\n",
       "      <td>OMIM:620813</td>\n",
       "      <td>MHC class I deficiency 2</td>\n",
       "      <td>HP:0100582</td>\n",
       "      <td>Nasal polyposis</td>\n",
       "      <td></td>\n",
       "      <td></td>\n",
       "      <td>2/2</td>\n",
       "      <td></td>\n",
       "      <td></td>\n",
       "      <td></td>\n",
       "      <td></td>\n",
       "      <td>PMID:10560675</td>\n",
       "      <td>PCS</td>\n",
       "      <td>ORCID:0000-0002-0736-9199[2024-10-24]</td>\n",
       "    </tr>\n",
       "    <tr>\n",
       "      <th>4</th>\n",
       "      <td>OMIM:620813</td>\n",
       "      <td>MHC class I deficiency 2</td>\n",
       "      <td>HP:0031691</td>\n",
       "      <td>Severe viral infection</td>\n",
       "      <td></td>\n",
       "      <td></td>\n",
       "      <td>0/2</td>\n",
       "      <td></td>\n",
       "      <td></td>\n",
       "      <td></td>\n",
       "      <td></td>\n",
       "      <td>PMID:10560675</td>\n",
       "      <td>PCS</td>\n",
       "      <td>ORCID:0000-0002-0736-9199[2024-10-24]</td>\n",
       "    </tr>\n",
       "  </tbody>\n",
       "</table>\n",
       "</div>"
      ],
      "text/plain": [
       "    #diseaseID               diseaseName phenotypeID           phenotypeName  \\\n",
       "0  OMIM:620813  MHC class I deficiency 2  HP:0011109       Chronic sinusitis   \n",
       "1  OMIM:620813  MHC class I deficiency 2  HP:0004469      Chronic bronchitis   \n",
       "2  OMIM:620813  MHC class I deficiency 2  HP:0002257        Chronic rhinitis   \n",
       "3  OMIM:620813  MHC class I deficiency 2  HP:0100582         Nasal polyposis   \n",
       "4  OMIM:620813  MHC class I deficiency 2  HP:0031691  Severe viral infection   \n",
       "\n",
       "  onsetID onsetName frequency sex negation modifier description  \\\n",
       "0                         2/2                                     \n",
       "1                         2/2                                     \n",
       "2                         2/2                                     \n",
       "3                         2/2                                     \n",
       "4                         0/2                                     \n",
       "\n",
       "     publication evidence                            biocuration  \n",
       "0  PMID:10560675      PCS  ORCID:0000-0002-0736-9199[2024-10-24]  \n",
       "1  PMID:10560675      PCS  ORCID:0000-0002-0736-9199[2024-10-24]  \n",
       "2  PMID:10560675      PCS  ORCID:0000-0002-0736-9199[2024-10-24]  \n",
       "3  PMID:10560675      PCS  ORCID:0000-0002-0736-9199[2024-10-24]  \n",
       "4  PMID:10560675      PCS  ORCID:0000-0002-0736-9199[2024-10-24]  "
      ]
     },
     "execution_count": 5,
     "metadata": {},
     "output_type": "execute_result"
    }
   ],
   "source": [
    "pmid=\"PMID:7517574\"\n",
    "df = timporter.create_hpoa_from_phenopackets(pmid=pmid, mode_of_inheritance=Moi.AR, target=\"OMIM:620813\")\n",
    "df.head()"
   ]
  }
 ],
 "metadata": {
  "kernelspec": {
   "display_name": "ps24venv",
   "language": "python",
   "name": "python3"
  },
  "language_info": {
   "codemirror_mode": {
    "name": "ipython",
    "version": 3
   },
   "file_extension": ".py",
   "mimetype": "text/x-python",
   "name": "python",
   "nbconvert_exporter": "python",
   "pygments_lexer": "ipython3",
   "version": "3.12.4"
  }
 },
 "nbformat": 4,
 "nbformat_minor": 2
}
