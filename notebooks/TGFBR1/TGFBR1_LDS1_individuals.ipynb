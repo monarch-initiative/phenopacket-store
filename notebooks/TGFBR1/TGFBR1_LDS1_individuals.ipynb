{
 "cells": [
  {
   "cell_type": "markdown",
   "id": "82f4b97b-9a37-451b-a783-e451281a83be",
   "metadata": {},
   "source": [
    "# TGFBR1: Loeys-Dietz syndrome 1 \t609192 \n",
    "\n",
    "[Loeys-Dietz syndrome-1](https://omim.org/entry/609192)(LDS1) is caused by heterozygous mutation in the TGFBR1 gene"
   ]
  },
  {
   "cell_type": "code",
   "execution_count": 1,
   "id": "10564ef4-df8b-4860-9331-97054d935178",
   "metadata": {},
   "outputs": [
    {
     "name": "stderr",
     "output_type": "stream",
     "text": [
      "/Users/robin/GIT/phenopacket-store/ps24venv/lib/python3.9/site-packages/urllib3/__init__.py:35: NotOpenSSLWarning: urllib3 v2 only supports OpenSSL 1.1.1+, currently the 'ssl' module is compiled with 'LibreSSL 2.8.3'. See: https://github.com/urllib3/urllib3/issues/3020\n",
      "  warnings.warn(\n"
     ]
    }
   ],
   "source": [
    "from pyphetools.creation import TemplateCreator"
   ]
  },
  {
   "cell_type": "code",
   "execution_count": 2,
   "id": "ce0868e3-8cbf-4cf3-8da3-3a05581588b0",
   "metadata": {},
   "outputs": [
    {
     "name": "stdout",
     "output_type": "stream",
     "text": [
      "Using pyphetools version 0.9.91\n"
     ]
    }
   ],
   "source": [
    "from pyphetools.creation import TemplateImporter\n",
    "from pyphetools.visualization import IndividualTable, QcVisualizer\n",
    "from IPython.display import display, HTML\n",
    "import pyphetools\n",
    "print(f\"Using pyphetools version {pyphetools.__version__}\")"
   ]
  },
  {
   "cell_type": "code",
   "execution_count": 3,
   "id": "8effe6f8-6355-4a07-b145-7ae53aa16e90",
   "metadata": {},
   "outputs": [],
   "source": [
    "template = \"input/TGFBR1_LDS1_individuals.xlsx\"\n",
    "hp_json = \"../hp.json\"\n",
    "created_by = \"0000-0002-0736-9199\""
   ]
  },
  {
   "cell_type": "code",
   "execution_count": 4,
   "id": "f7b5cf06-9999-4ccb-8281-9388f76d45e3",
   "metadata": {},
   "outputs": [
    {
     "name": "stdout",
     "output_type": "stream",
     "text": [
      "HPO version 2024-04-04\n",
      "Created encoders for 77 fields\n",
      "Importing OMIM:609192, Loeys-Dietz syndrome 1, HGNC:11772, TGFBR1,  NM_004612.4\n",
      "[INFO] encoding variant \"c.973+1G>A\"\n",
      "https://rest.variantvalidator.org/VariantValidator/variantvalidator/hg38/NM_004612.4%3Ac.973+1G>A/NM_004612.4?content-type=application%2Fjson\n",
      "[INFO] encoding variant \"c.722C>T\"\n",
      "https://rest.variantvalidator.org/VariantValidator/variantvalidator/hg38/NM_004612.4%3Ac.722C>T/NM_004612.4?content-type=application%2Fjson\n",
      "[INFO] encoding variant \"c.1126A>G\"\n",
      "https://rest.variantvalidator.org/VariantValidator/variantvalidator/hg38/NM_004612.4%3Ac.1126A>G/NM_004612.4?content-type=application%2Fjson\n",
      "[INFO] encoding variant \"c.599C>T\"\n",
      "https://rest.variantvalidator.org/VariantValidator/variantvalidator/hg38/NM_004612.4%3Ac.599C>T/NM_004612.4?content-type=application%2Fjson\n",
      "[INFO] encoding variant \"c.1199A>G\"\n",
      "https://rest.variantvalidator.org/VariantValidator/variantvalidator/hg38/NM_004612.4%3Ac.1199A>G/NM_004612.4?content-type=application%2Fjson\n",
      "[INFO] encoding variant \"c.1460G>C\"\n",
      "https://rest.variantvalidator.org/VariantValidator/variantvalidator/hg38/NM_004612.4%3Ac.1460G>C/NM_004612.4?content-type=application%2Fjson\n",
      "[INFO] encoding variant \"c.1043G>A\"\n",
      "https://rest.variantvalidator.org/VariantValidator/variantvalidator/hg38/NM_004612.4%3Ac.1043G>A/NM_004612.4?content-type=application%2Fjson\n",
      "[INFO] encoding variant \"c.953T>G\"\n",
      "https://rest.variantvalidator.org/VariantValidator/variantvalidator/hg38/NM_004612.4%3Ac.953T>G/NM_004612.4?content-type=application%2Fjson\n",
      "We output 11 GA4GH phenopackets to the directory phenopackets\n"
     ]
    }
   ],
   "source": [
    "timporter = TemplateImporter(template=template, hp_json=hp_json, created_by=created_by)\n",
    "individual_list, cvalidator = timporter.import_phenopackets_from_template()"
   ]
  },
  {
   "cell_type": "code",
   "execution_count": 5,
   "id": "5bd17404-7102-4256-85d7-163da5d6bf6f",
   "metadata": {},
   "outputs": [
    {
     "data": {
      "text/html": [
       "<table style=\"border: 2px solid black; align: \"left\">\n",
       "<caption>11 phenopackets - PMID:15731757 (n=6); PMID:16596670 (n=2); PMID:29706644 (n=1); PMID:31475485 (n=1); PMID:30701076 (n=1)</caption>\n",
       "<tr><th style=\"text-align: left;font-weight: bold;\">Individual</th><th style=\"text-align: left;font-weight: bold;\">Disease</th><th style=\"text-align: left;font-weight: bold;\">Genotype</th><th style=\"text-align: left;font-weight: bold;\">Phenotypic features</th></tr>\n",
       "<tr><td style=\"text-align: left;\">Family 7 II-1 (MALE; P1Y3M)</td><td style=\"text-align: left;\">Loeys-Dietz syndrome 1 (OMIM:609192)</td><td style=\"text-align: left;\">NM_004612.4:c.599C>T (heterozygous)</td><td style=\"text-align: left;\">Aortic root aneurysm (HP:0002616); Pulmonary artery aneurysm (HP:0004937); Malar flattening (HP:0000272); Bifid uvula (HP:0000193); Joint hypermobility (HP:0001382); Scoliosis (HP:0002650); Pectus carinatum (HP:0000768); Exotropia (HP:0000577); Hypertelorism (HP:0000316); Blue sclerae (HP:0000592); excluded: Patent ductus arteriosus (HP:0001643); excluded: Atrial septal defect (HP:0001631); excluded: Bicuspid pulmonary valve (HP:0005182); excluded: Bicuspid aortic valve (HP:0001647); excluded: Mitral valve prolapse (HP:0001634); excluded: Cleft palate (HP:0000175); excluded: Retrognathia (HP:0000278); excluded: Craniosynostosis (HP:0001363); excluded: Camptodactyly (HP:0012385); excluded: Arachnodactyly (HP:0001166); excluded: Postaxial polydactyly (HP:0100259); excluded: Self-healing squamous epithelioma (HP:0034720); excluded: Soft skin (HP:0000977); excluded: Dermal translucency (HP:0010648); excluded: Talipes equinovarus (HP:0001762); excluded: Proptosis (HP:0000520); excluded: Hydrocephalus (HP:0000238); excluded: Chiari malformation (HP:0002308); excluded: Global developmental delay (HP:0001263); excluded: Disproportionate tall stature (HP:0001519)</td></tr>\n",
       "<tr><td style=\"text-align: left;\">Family 8 II-1 (MALE; P1Y5M)</td><td style=\"text-align: left;\">Loeys-Dietz syndrome 1 (OMIM:609192)</td><td style=\"text-align: left;\">NM_004612.4:c.953T>G (heterozygous)</td><td style=\"text-align: left;\">Patent ductus arteriosus (HP:0001643); Aortic root aneurysm (HP:0002616); Arterial tortuosity (HP:0005116); Mitral valve prolapse (HP:0001634); Pulmonary artery aneurysm (HP:0004937); Cleft palate (HP:0000175); Retrognathia (HP:0000278); Craniosynostosis (HP:0001363); Camptodactyly (HP:0012385); Joint hypermobility (HP:0001382); Arachnodactyly (HP:0001166); Talipes equinovarus (HP:0001762); Exotropia (HP:0000577); Hypertelorism (HP:0000316); Blue sclerae (HP:0000592); Global developmental delay (HP:0001263); Disproportionate tall stature (HP:0001519); excluded: Bicuspid pulmonary valve (HP:0005182); excluded: Bicuspid aortic valve (HP:0001647); excluded: Malar flattening (HP:0000272); excluded: Bifid uvula (HP:0000193); excluded: Scoliosis (HP:0002650); excluded: Pectus carinatum (HP:0000768); excluded: Postaxial polydactyly (HP:0100259); excluded: Self-healing squamous epithelioma (HP:0034720); excluded: Soft skin (HP:0000977); excluded: Dermal translucency (HP:0010648); excluded: Proptosis (HP:0000520); excluded: Hydrocephalus (HP:0000238); excluded: Chiari malformation (HP:0002308)</td></tr>\n",
       "<tr><td style=\"text-align: left;\">Family 9 II-1 (MALE; P10Y)</td><td style=\"text-align: left;\">Loeys-Dietz syndrome 1 (OMIM:609192)</td><td style=\"text-align: left;\">NM_004612.4:c.1199A>G (heterozygous)</td><td style=\"text-align: left;\">Aortic root aneurysm (HP:0002616); Arterial tortuosity (HP:0005116); Retrognathia (HP:0000278); Malar flattening (HP:0000272); Craniosynostosis (HP:0001363); Bifid uvula (HP:0000193); Camptodactyly (HP:0012385); Joint hypermobility (HP:0001382); Scoliosis (HP:0002650); Arachnodactyly (HP:0001166); Hypertelorism (HP:0000316); Blue sclerae (HP:0000592); excluded: Patent ductus arteriosus (HP:0001643); excluded: Mitral valve prolapse (HP:0001634); excluded: Cleft palate (HP:0000175); excluded: Postaxial polydactyly (HP:0100259); excluded: Self-healing squamous epithelioma (HP:0034720); excluded: Talipes equinovarus (HP:0001762); excluded: Global developmental delay (HP:0001263); excluded: Disproportionate tall stature (HP:0001519)</td></tr>\n",
       "<tr><td style=\"text-align: left;\">Family 10 I-2 (MALE; P27Y)</td><td style=\"text-align: left;\">Loeys-Dietz syndrome 1 (OMIM:609192)</td><td style=\"text-align: left;\">NM_004612.4:c.1460G>C (heterozygous)</td><td style=\"text-align: left;\">Aortic root aneurysm (HP:0002616); excluded: Cleft palate (HP:0000175); excluded: Self-healing squamous epithelioma (HP:0034720)</td></tr>\n",
       "<tr><td style=\"text-align: left;\">Family 10 II-1 (MALE; P25Y)</td><td style=\"text-align: left;\">Loeys-Dietz syndrome 1 (OMIM:609192)</td><td style=\"text-align: left;\">NM_004612.4:c.1460G>C (heterozygous)</td><td style=\"text-align: left;\">Aortic root aneurysm (HP:0002616); Arterial tortuosity (HP:0005116); Pulmonary artery aneurysm (HP:0004937); Retrognathia (HP:0000278); Malar flattening (HP:0000272); Joint hypermobility (HP:0001382); Scoliosis (HP:0002650); Soft skin (HP:0000977); Dermal translucency (HP:0010648); Hypertelorism (HP:0000316); Disproportionate tall stature (HP:0001519); excluded: Atrial septal defect (HP:0001631); excluded: Bicuspid pulmonary valve (HP:0005182); excluded: Bicuspid aortic valve (HP:0001647); excluded: Mitral valve prolapse (HP:0001634); excluded: Descending thoracic aorta aneurysm (HP:0004959); excluded: Cleft palate (HP:0000175); excluded: Craniosynostosis (HP:0001363); excluded: Camptodactyly (HP:0012385); excluded: Arachnodactyly (HP:0001166); excluded: Postaxial polydactyly (HP:0100259); excluded: Self-healing squamous epithelioma (HP:0034720); excluded: Talipes equinovarus (HP:0001762); excluded: Proptosis (HP:0000520); excluded: Exotropia (HP:0000577); excluded: Blue sclerae (HP:0000592); excluded: Hydrocephalus (HP:0000238); excluded: Chiari malformation (HP:0002308); excluded: Global developmental delay (HP:0001263)</td></tr>\n",
       "<tr><td style=\"text-align: left;\">Family 10 II-2 (MALE; P22Y)</td><td style=\"text-align: left;\">Loeys-Dietz syndrome 1 (OMIM:609192)</td><td style=\"text-align: left;\">NM_004612.4:c.1460G>C (heterozygous)</td><td style=\"text-align: left;\">Patent ductus arteriosus (HP:0001643); Aortic root aneurysm (HP:0002616); Atrial septal defect (HP:0001631); Arterial tortuosity (HP:0005116); Pulmonary artery aneurysm (HP:0004937); Retrognathia (HP:0000278); Malar flattening (HP:0000272); Joint hypermobility (HP:0001382); Scoliosis (HP:0002650); Soft skin (HP:0000977); Dermal translucency (HP:0010648); Hypertelorism (HP:0000316); Disproportionate tall stature (HP:0001519); excluded: Bicuspid pulmonary valve (HP:0005182); excluded: Bicuspid aortic valve (HP:0001647); excluded: Mitral valve prolapse (HP:0001634); excluded: Descending thoracic aorta aneurysm (HP:0004959); excluded: Cleft palate (HP:0000175); excluded: Craniosynostosis (HP:0001363); excluded: Camptodactyly (HP:0012385); excluded: Pectus carinatum (HP:0000768); excluded: Arachnodactyly (HP:0001166); excluded: Postaxial polydactyly (HP:0100259); excluded: Self-healing squamous epithelioma (HP:0034720); excluded: Talipes equinovarus (HP:0001762); excluded: Proptosis (HP:0000520); excluded: Exotropia (HP:0000577); excluded: Blue sclerae (HP:0000592); excluded: Hydrocephalus (HP:0000238); excluded: Chiari malformation (HP:0002308); excluded: Global developmental delay (HP:0001263)</td></tr>\n",
       "<tr><td style=\"text-align: left;\">Patient 3 (MALE; P14Y6M)</td><td style=\"text-align: left;\">Loeys-Dietz syndrome 1 (OMIM:609192)</td><td style=\"text-align: left;\">NM_004612.4:c.722C>T (heterozygous)</td><td style=\"text-align: left;\">Cleft palate (HP:0000175); Inguinal hernia (HP:0000023); Aortic root aneurysm (HP:0002616); Malar flattening (HP:0000272); Craniosynostosis (HP:0001363); High palate (HP:0000218); Protruding ear (HP:0000411); Pes planus (HP:0001763); Joint hypermobility (HP:0001382); Supernumerary ribs (HP:0005815); Scoliosis (HP:0002650); Pectus carinatum (HP:0000768); Arachnodactyly (HP:0001166); Strabismus (HP:0000486); Proptosis (HP:0000520); Blue sclerae (HP:0000592); Chronic fatigue (HP:0012432); Facial asymmetry (HP:0000324); excluded: Ascending aortic dissection (HP:0004933); excluded: Atrial septal defect (HP:0001631); excluded: Bicuspid pulmonary valve (HP:0005182); excluded: Bicuspid aortic valve (HP:0001647); excluded: Pulmonary artery aneurysm (HP:0004937); excluded: Descending thoracic aorta aneurysm (HP:0004959); excluded: Retrognathia (HP:0000278); excluded: Micrognathia (HP:0000347); excluded: Low-set ears (HP:0000369); excluded: Self-healing squamous epithelioma (HP:0034720); excluded: Ectopia lentis (HP:0001083); excluded: Downslanted palpebral fissures (HP:0000494); excluded: Ptosis (HP:0000508); excluded: Hypertelorism (HP:0000316); excluded: Spondylolisthesis (HP:0003302); excluded: Obstructive sleep apnea (HP:0002870)</td></tr>\n",
       "<tr><td style=\"text-align: left;\">Patient 4 (MALE; P22Y)</td><td style=\"text-align: left;\">Loeys-Dietz syndrome 1 (OMIM:609192)</td><td style=\"text-align: left;\">NM_004612.4:c.722C>T (heterozygous)</td><td style=\"text-align: left;\">Aortic root aneurysm (HP:0002616); Bicuspid aortic valve (HP:0001647); Mitral valve prolapse (HP:0001634); Pulmonary artery aneurysm (HP:0004937); Malar flattening (HP:0000272); Micrognathia (HP:0000347); High palate (HP:0000218); Protruding ear (HP:0000411); Low-set ears (HP:0000369); Pes planus (HP:0001763); Joint hypermobility (HP:0001382); Scoliosis (HP:0002650); Soft skin (HP:0000977); Downslanted palpebral fissures (HP:0000494); Ptosis (HP:0000508); Inguinal hernia (HP:0000023); Spondylolisthesis (HP:0003302); Hypoplasia of the musculature (HP:0009004); Obstructive sleep apnea (HP:0002870); excluded: Ascending aortic dissection (HP:0004933); excluded: Retrognathia (HP:0000278); excluded: Self-healing squamous epithelioma (HP:0034720); excluded: Hypertelorism (HP:0000316)</td></tr>\n",
       "<tr><td style=\"text-align: left;\">proband III-1 (FEMALE; P51Y)</td><td style=\"text-align: left;\">Loeys-Dietz syndrome 1 (OMIM:609192)</td><td style=\"text-align: left;\">NM_004612.4:c.973+1G>A (heterozygous)</td><td style=\"text-align: left;\">Aortic root aneurysm (HP:0002616); Arterial tortuosity (HP:0005116); High palate (HP:0000218); Scoliosis (HP:0002650); Pectus excavatum (HP:0000767); Striae distensae (HP:0001065); excluded: Ascending aortic dissection (HP:0004933); excluded: Atrial septal defect (HP:0001631); excluded: Bicuspid pulmonary valve (HP:0005182); excluded: Bicuspid aortic valve (HP:0001647); excluded: Mitral valve prolapse (HP:0001634); excluded: Pulmonary artery aneurysm (HP:0004937); excluded: Descending thoracic aorta aneurysm (HP:0004959); excluded: Cleft palate (HP:0000175); excluded: Retrognathia (HP:0000278); excluded: Pectus carinatum (HP:0000768); excluded: Postaxial polydactyly (HP:0100259); excluded: Self-healing squamous epithelioma (HP:0034720); excluded: Ectopia lentis (HP:0001083); excluded: Global developmental delay (HP:0001263)</td></tr>\n",
       "<tr><td style=\"text-align: left;\">index patient II.5 (FEMALE; P61Y)</td><td style=\"text-align: left;\">Loeys-Dietz syndrome 1 (OMIM:609192)</td><td style=\"text-align: left;\">NM_004612.4:c.1043G>A (heterozygous)</td><td style=\"text-align: left;\"><b>P61Y</b>: Aortic root aneurysm (HP:0002616)<br/><b>P65Y</b>: Ascending aortic dissection (HP:0004933)<br/>Bifid uvula (HP:0000193); Dural ectasia (HP:0100775); excluded: Patent ductus arteriosus (HP:0001643); excluded: Atrial septal defect (HP:0001631); excluded: Bicuspid pulmonary valve (HP:0005182); excluded: Bicuspid aortic valve (HP:0001647); excluded: Mitral valve prolapse (HP:0001634); excluded: Pulmonary artery aneurysm (HP:0004937); excluded: Descending thoracic aorta aneurysm (HP:0004959); excluded: Cleft palate (HP:0000175); excluded: Retrognathia (HP:0000278); excluded: Malar flattening (HP:0000272); excluded: Micrognathia (HP:0000347); excluded: Craniosynostosis (HP:0001363); excluded: High palate (HP:0000218); excluded: Protruding ear (HP:0000411); excluded: Low-set ears (HP:0000369); excluded: Camptodactyly (HP:0012385); excluded: Self-healing squamous epithelioma (HP:0034720)</td></tr>\n",
       "<tr><td style=\"text-align: left;\">patient (MALE; P31Y)</td><td style=\"text-align: left;\">Loeys-Dietz syndrome 1 (OMIM:609192)</td><td style=\"text-align: left;\">NM_004612.4:c.1126A>G (heterozygous)</td><td style=\"text-align: left;\"><b>P15Y</b>: Aortic root aneurysm (HP:0002616); Scoliosis (HP:0002650); Disproportionate tall stature (HP:0001519)<br/><b>P27Y</b>: Tortuous cerebral arteries (HP:0004938); Mitral valve prolapse (HP:0001634); Malar flattening (HP:0000272); Bifid uvula (HP:0000193); Pectus excavatum (HP:0000767); Arachnodactyly (HP:0001166); Downslanted palpebral fissures (HP:0000494); Hypertelorism (HP:0000316); Striae distensae (HP:0001065); Dural ectasia (HP:0100775); Protrusio acetabuli (HP:0003179); Dolichocephaly (HP:0000268); High myopia (HP:0011003); Cervical spine instability (HP:0010646); Cystic medial necrosis (HP:0012180)<br/>excluded: Pectus carinatum (HP:0000768); excluded: Self-healing squamous epithelioma (HP:0034720)</td></tr>\n",
       "</table>"
      ],
      "text/plain": [
       "<IPython.core.display.HTML object>"
      ]
     },
     "metadata": {},
     "output_type": "display_data"
    }
   ],
   "source": [
    "table = IndividualTable(cvalidator.get_error_free_individual_list())\n",
    "display(HTML(table.to_html()))"
   ]
  },
  {
   "cell_type": "code",
   "execution_count": 6,
   "id": "9504902f-0724-4053-b2c1-c4ea42d60b9e",
   "metadata": {},
   "outputs": [
    {
     "name": "stdout",
     "output_type": "stream",
     "text": [
      "[pyphetools] Ingested 29 GA4GH phenopackets.\n",
      "[INFO] Extracted 11 from 29 phenopackets with OMIM:609192\n",
      "\n",
      "\tLoeys-Dietz syndrome 1 (OMIM:609192): n=11\n",
      "We found a total of 58 unique HPO terms\n",
      "Extracted disease: Loeys-Dietz syndrome 1 (OMIM:609192)\n",
      "Wrote HPOA disease file to OMIM-609192.tab\n"
     ]
    }
   ],
   "source": [
    "pmid = \"PMID:15731757\"\n",
    "df = timporter.create_hpoa_from_phenopackets(pmid=pmid, moi=\"Autosomal dominant\", target=\"OMIM:609192\")"
   ]
  },
  {
   "cell_type": "code",
   "execution_count": null,
   "id": "b6615631-bb2d-4179-83fd-f2ca9217c150",
   "metadata": {},
   "outputs": [],
   "source": []
  }
 ],
 "metadata": {
  "kernelspec": {
   "display_name": "Python 3 (ipykernel)",
   "language": "python",
   "name": "python3"
  },
  "language_info": {
   "codemirror_mode": {
    "name": "ipython",
    "version": 3
   },
   "file_extension": ".py",
   "mimetype": "text/x-python",
   "name": "python",
   "nbconvert_exporter": "python",
   "pygments_lexer": "ipython3",
   "version": "3.9.6"
  }
 },
 "nbformat": 4,
 "nbformat_minor": 5
}
