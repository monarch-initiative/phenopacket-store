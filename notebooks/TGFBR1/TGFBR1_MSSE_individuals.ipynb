{
 "cells": [
  {
   "cell_type": "markdown",
   "id": "8f800d7f-dcf2-459a-b5db-aea47717b94e",
   "metadata": {},
   "source": [
    "# TGFBR1 MSSE\n",
    "[Multiple self-healing squamous epithelioma, susceptibility to](https://omim.org/entry/132800) is conferred by heterozygous loss-of-function mutation in the TGFBR1 gene (190181).\n",
    "\n",
    "The main article in the literature on the genetics of this disease is [Goudie DR, et al. Multiple self-healing squamous epithelioma is caused by a disease-specific spectrum of mutations in TGFBR1. Nat Genet. 2011 Feb 27;43(4):365-9](https://pubmed.ncbi.nlm.nih.gov/21358634/). From this and from other articles including [Goudie DR, et al. Multiple self-healing squamous epitheliomata (ESS1) mapped to chromosome 9q22-q31 in families with common ancestry. Nat Genet. 1993 Feb;3(2):165-9](https://pubmed.ncbi.nlm.nih.gov/8499949/) we infer that the main clinical feature of this disease is the presence of multiple [Self-healing squamous epithelioma (HP:0034720)](https://hpo.jax.org/app/browse/term/HP:0034720) and that features of Loeys-Dietz syndrome including Hypertelorism, Bifid uvula , Arterial tortuosity, Ascending aortic aneurysm, and Talipes equinovarus are absent. "
   ]
  },
  {
   "cell_type": "code",
   "execution_count": 1,
   "id": "e8393260-2639-4eae-8bff-d6949b4bb1c0",
   "metadata": {},
   "outputs": [
    {
     "name": "stdout",
     "output_type": "stream",
     "text": [
      "Using pyphetools version 0.9.71\n"
     ]
    }
   ],
   "source": [
    "from pyphetools.creation import TemplateImporter\n",
    "from pyphetools.visualization import IndividualTable, QcVisualizer\n",
    "from IPython.display import display, HTML\n",
    "import pyphetools\n",
    "print(f\"Using pyphetools version {pyphetools.__version__}\")"
   ]
  },
  {
   "cell_type": "code",
   "execution_count": 2,
   "id": "9737b850-9758-4135-8804-0837566ae1cf",
   "metadata": {},
   "outputs": [],
   "source": [
    "template = \"input/TGFBR1_MSSE_individuals.xlsx\"\n",
    "hp_json = \"../hp.json\"\n",
    "created_by = \"0000-0002-0736-9199\""
   ]
  },
  {
   "cell_type": "code",
   "execution_count": 3,
   "id": "b7baa869-7435-4c9b-9d09-cc0bd7d26836",
   "metadata": {},
   "outputs": [
    {
     "name": "stdout",
     "output_type": "stream",
     "text": [
      "HPO version 2024-03-06\n",
      "Created encoders for 23 fields\n",
      "Importing OMIM:132800, Multiple self-healing squamous epithelioma, susceptibility to, HGNC:11772, TGFBR1,  NM_004612.4\n",
      "We output 18 GA4GH phenopackets to the directory phenopackets\n"
     ]
    }
   ],
   "source": [
    "timporter = TemplateImporter(template=template, hp_json=hp_json, created_by=created_by)\n",
    "individual_list, cvalidator = timporter.import_phenopackets_from_template()"
   ]
  },
  {
   "cell_type": "code",
   "execution_count": 4,
   "id": "ae708039-69e3-4e23-83b6-de827cf8a6e4",
   "metadata": {},
   "outputs": [
    {
     "data": {
      "text/html": [
       "<h2>Cohort validation</h2>\n",
       "<p>No errors found for the cohort with 18 individuals</p>"
      ],
      "text/plain": [
       "<IPython.core.display.HTML object>"
      ]
     },
     "metadata": {},
     "output_type": "display_data"
    }
   ],
   "source": [
    "qc = QcVisualizer(cohort_validator=cvalidator)\n",
    "display(HTML(qc.to_summary_html()))"
   ]
  },
  {
   "cell_type": "code",
   "execution_count": 5,
   "id": "182f9152-2d95-415f-82c2-8eac346b7d49",
   "metadata": {},
   "outputs": [
    {
     "data": {
      "text/html": [
       "<table style=\"border: 2px solid black; align: \"left\">\n",
       "<caption>18 phenopackets - PMID:21358634 (n=18)</caption>\n",
       "<tr><th style=\"text-align: left;font-weight: bold;\">Individual</th><th style=\"text-align: left;font-weight: bold;\">Disease</th><th style=\"text-align: left;font-weight: bold;\">Genotype</th><th style=\"text-align: left;font-weight: bold;\">Phenotypic features</th></tr>\n",
       "<tr><td style=\"text-align: left;\">Family 1 (UNKNOWN; n/a)</td><td style=\"text-align: left;\">Multiple self-healing squamous epithelioma, susceptibility to (OMIM:132800)</td><td style=\"text-align: left;\">NM_004612.4:c.122G>A (heterozygous)</td><td style=\"text-align: left;\">Self-healing squamous epithelioma (HP:0034720); excluded: Arterial tortuosity (HP:0005116); excluded: Ascending tubular aorta aneurysm (HP:0004970); excluded: Hypertelorism (HP:0000316); excluded: Talipes equinovarus (HP:0001762); excluded: Bifid uvula (HP:0000193)</td></tr>\n",
       "<tr><td style=\"text-align: left;\">Family 2 (UNKNOWN; n/a)</td><td style=\"text-align: left;\">Multiple self-healing squamous epithelioma, susceptibility to (OMIM:132800)</td><td style=\"text-align: left;\">NM_004612.4:c.134A>G (heterozygous)</td><td style=\"text-align: left;\">Self-healing squamous epithelioma (HP:0034720); excluded: Arterial tortuosity (HP:0005116); excluded: Ascending tubular aorta aneurysm (HP:0004970); excluded: Hypertelorism (HP:0000316); excluded: Talipes equinovarus (HP:0001762); excluded: Bifid uvula (HP:0000193)</td></tr>\n",
       "<tr><td style=\"text-align: left;\">Family 3 (UNKNOWN; n/a)</td><td style=\"text-align: left;\">Multiple self-healing squamous epithelioma, susceptibility to (OMIM:132800)</td><td style=\"text-align: left;\">NM_004612.4:c.134dup (heterozygous)</td><td style=\"text-align: left;\">Self-healing squamous epithelioma (HP:0034720); excluded: Arterial tortuosity (HP:0005116); excluded: Ascending tubular aorta aneurysm (HP:0004970); excluded: Hypertelorism (HP:0000316); excluded: Talipes equinovarus (HP:0001762); excluded: Bifid uvula (HP:0000193)</td></tr>\n",
       "<tr><td style=\"text-align: left;\">Family 4 (UNKNOWN; n/a)</td><td style=\"text-align: left;\">Multiple self-healing squamous epithelioma, susceptibility to (OMIM:132800)</td><td style=\"text-align: left;\">NM_004612.4:c.154G>C (heterozygous)</td><td style=\"text-align: left;\">Self-healing squamous epithelioma (HP:0034720); excluded: Arterial tortuosity (HP:0005116); excluded: Ascending tubular aorta aneurysm (HP:0004970); excluded: Hypertelorism (HP:0000316); excluded: Talipes equinovarus (HP:0001762); excluded: Bifid uvula (HP:0000193)</td></tr>\n",
       "<tr><td style=\"text-align: left;\">Family 5 (UNKNOWN; n/a)</td><td style=\"text-align: left;\">Multiple self-healing squamous epithelioma, susceptibility to (OMIM:132800)</td><td style=\"text-align: left;\">NM_004612.4:c.154G>C (heterozygous)</td><td style=\"text-align: left;\">Self-healing squamous epithelioma (HP:0034720); excluded: Arterial tortuosity (HP:0005116); excluded: Ascending tubular aorta aneurysm (HP:0004970); excluded: Hypertelorism (HP:0000316); excluded: Talipes equinovarus (HP:0001762); excluded: Bifid uvula (HP:0000193)</td></tr>\n",
       "<tr><td style=\"text-align: left;\">Family 6 (UNKNOWN; n/a)</td><td style=\"text-align: left;\">Multiple self-healing squamous epithelioma, susceptibility to (OMIM:132800)</td><td style=\"text-align: left;\">NM_004612.4:c.154G>C (heterozygous)</td><td style=\"text-align: left;\">Self-healing squamous epithelioma (HP:0034720); excluded: Arterial tortuosity (HP:0005116); excluded: Ascending tubular aorta aneurysm (HP:0004970); excluded: Hypertelorism (HP:0000316); excluded: Talipes equinovarus (HP:0001762); excluded: Bifid uvula (HP:0000193)</td></tr>\n",
       "<tr><td style=\"text-align: left;\">Family 7 (UNKNOWN; n/a)</td><td style=\"text-align: left;\">Multiple self-healing squamous epithelioma, susceptibility to (OMIM:132800)</td><td style=\"text-align: left;\">NM_004612.4:c.154G>C (heterozygous)</td><td style=\"text-align: left;\">Self-healing squamous epithelioma (HP:0034720); excluded: Arterial tortuosity (HP:0005116); excluded: Ascending tubular aorta aneurysm (HP:0004970); excluded: Hypertelorism (HP:0000316); excluded: Talipes equinovarus (HP:0001762); excluded: Bifid uvula (HP:0000193)</td></tr>\n",
       "<tr><td style=\"text-align: left;\">Family 8 (UNKNOWN; n/a)</td><td style=\"text-align: left;\">Multiple self-healing squamous epithelioma, susceptibility to (OMIM:132800)</td><td style=\"text-align: left;\">NM_004612.4:c.154G>C (heterozygous)</td><td style=\"text-align: left;\">Self-healing squamous epithelioma (HP:0034720); excluded: Arterial tortuosity (HP:0005116); excluded: Ascending tubular aorta aneurysm (HP:0004970); excluded: Hypertelorism (HP:0000316); excluded: Talipes equinovarus (HP:0001762); excluded: Bifid uvula (HP:0000193)</td></tr>\n",
       "<tr><td style=\"text-align: left;\">Family 9 (UNKNOWN; n/a)</td><td style=\"text-align: left;\">Multiple self-healing squamous epithelioma, susceptibility to (OMIM:132800)</td><td style=\"text-align: left;\">NM_004612.4:c.154G>C (heterozygous)</td><td style=\"text-align: left;\">Self-healing squamous epithelioma (HP:0034720); excluded: Arterial tortuosity (HP:0005116); excluded: Ascending tubular aorta aneurysm (HP:0004970); excluded: Hypertelorism (HP:0000316); excluded: Talipes equinovarus (HP:0001762); excluded: Bifid uvula (HP:0000193)</td></tr>\n",
       "<tr><td style=\"text-align: left;\">Family 10 (UNKNOWN; n/a)</td><td style=\"text-align: left;\">Multiple self-healing squamous epithelioma, susceptibility to (OMIM:132800)</td><td style=\"text-align: left;\">NM_004612.4:c.154G>C (heterozygous)</td><td style=\"text-align: left;\">Self-healing squamous epithelioma (HP:0034720); excluded: Arterial tortuosity (HP:0005116); excluded: Ascending tubular aorta aneurysm (HP:0004970); excluded: Hypertelorism (HP:0000316); excluded: Talipes equinovarus (HP:0001762); excluded: Bifid uvula (HP:0000193)</td></tr>\n",
       "<tr><td style=\"text-align: left;\">Family 11 (UNKNOWN; n/a)</td><td style=\"text-align: left;\">Multiple self-healing squamous epithelioma, susceptibility to (OMIM:132800)</td><td style=\"text-align: left;\">NM_004612.4:c.238C>T (heterozygous)</td><td style=\"text-align: left;\">Self-healing squamous epithelioma (HP:0034720); excluded: Arterial tortuosity (HP:0005116); excluded: Ascending tubular aorta aneurysm (HP:0004970); excluded: Hypertelorism (HP:0000316); excluded: Talipes equinovarus (HP:0001762); excluded: Bifid uvula (HP:0000193)</td></tr>\n",
       "<tr><td style=\"text-align: left;\">Family 12 (UNKNOWN; n/a)</td><td style=\"text-align: left;\">Multiple self-healing squamous epithelioma, susceptibility to (OMIM:132800)</td><td style=\"text-align: left;\">NM_004612.4:c.248C>T (heterozygous)</td><td style=\"text-align: left;\">Self-healing squamous epithelioma (HP:0034720); excluded: Arterial tortuosity (HP:0005116); excluded: Ascending tubular aorta aneurysm (HP:0004970); excluded: Hypertelorism (HP:0000316); excluded: Talipes equinovarus (HP:0001762); excluded: Bifid uvula (HP:0000193)</td></tr>\n",
       "<tr><td style=\"text-align: left;\">Family 13 (UNKNOWN; n/a)</td><td style=\"text-align: left;\">Multiple self-healing squamous epithelioma, susceptibility to (OMIM:132800)</td><td style=\"text-align: left;\">NM_004612.4:c.725G>A (heterozygous)</td><td style=\"text-align: left;\">Self-healing squamous epithelioma (HP:0034720); excluded: Arterial tortuosity (HP:0005116); excluded: Ascending tubular aorta aneurysm (HP:0004970); excluded: Hypertelorism (HP:0000316); excluded: Talipes equinovarus (HP:0001762); excluded: Bifid uvula (HP:0000193)</td></tr>\n",
       "<tr><td style=\"text-align: left;\">Family 14 (UNKNOWN; n/a)</td><td style=\"text-align: left;\">Multiple self-healing squamous epithelioma, susceptibility to (OMIM:132800)</td><td style=\"text-align: left;\">NM_004612.4:c.806-2A>C (heterozygous)</td><td style=\"text-align: left;\">Self-healing squamous epithelioma (HP:0034720); excluded: Arterial tortuosity (HP:0005116); excluded: Ascending tubular aorta aneurysm (HP:0004970); excluded: Hypertelorism (HP:0000316); excluded: Talipes equinovarus (HP:0001762); excluded: Bifid uvula (HP:0000193)</td></tr>\n",
       "<tr><td style=\"text-align: left;\">Family 15 (UNKNOWN; n/a)</td><td style=\"text-align: left;\">Multiple self-healing squamous epithelioma, susceptibility to (OMIM:132800)</td><td style=\"text-align: left;\">NM_004612.4:c.980del (heterozygous)</td><td style=\"text-align: left;\">Self-healing squamous epithelioma (HP:0034720); excluded: Arterial tortuosity (HP:0005116); excluded: Ascending tubular aorta aneurysm (HP:0004970); excluded: Hypertelorism (HP:0000316); excluded: Talipes equinovarus (HP:0001762); excluded: Bifid uvula (HP:0000193)</td></tr>\n",
       "<tr><td style=\"text-align: left;\">Family 16 (UNKNOWN; n/a)</td><td style=\"text-align: left;\">Multiple self-healing squamous epithelioma, susceptibility to (OMIM:132800)</td><td style=\"text-align: left;\">NM_004612.4:c.980del (heterozygous)</td><td style=\"text-align: left;\">Self-healing squamous epithelioma (HP:0034720); excluded: Arterial tortuosity (HP:0005116); excluded: Ascending tubular aorta aneurysm (HP:0004970); excluded: Hypertelorism (HP:0000316); excluded: Talipes equinovarus (HP:0001762); excluded: Bifid uvula (HP:0000193)</td></tr>\n",
       "<tr><td style=\"text-align: left;\">Family 17 (UNKNOWN; n/a)</td><td style=\"text-align: left;\">Multiple self-healing squamous epithelioma, susceptibility to (OMIM:132800)</td><td style=\"text-align: left;\">NM_004612.4:c.1059_1062delinsCAATAA (heterozygous)</td><td style=\"text-align: left;\">Self-healing squamous epithelioma (HP:0034720); excluded: Arterial tortuosity (HP:0005116); excluded: Ascending tubular aorta aneurysm (HP:0004970); excluded: Hypertelorism (HP:0000316); excluded: Talipes equinovarus (HP:0001762); excluded: Bifid uvula (HP:0000193)</td></tr>\n",
       "<tr><td style=\"text-align: left;\">Family 18 (UNKNOWN; n/a)</td><td style=\"text-align: left;\">Multiple self-healing squamous epithelioma, susceptibility to (OMIM:132800)</td><td style=\"text-align: left;\">NM_004612.4:c.1240C>T (heterozygous)</td><td style=\"text-align: left;\">Self-healing squamous epithelioma (HP:0034720); excluded: Arterial tortuosity (HP:0005116); excluded: Ascending tubular aorta aneurysm (HP:0004970); excluded: Hypertelorism (HP:0000316); excluded: Talipes equinovarus (HP:0001762); excluded: Bifid uvula (HP:0000193)</td></tr>\n",
       "</table>"
      ],
      "text/plain": [
       "<IPython.core.display.HTML object>"
      ]
     },
     "metadata": {},
     "output_type": "display_data"
    }
   ],
   "source": [
    "table = IndividualTable(cvalidator.get_error_free_individual_list())\n",
    "display(HTML(table.to_html()))"
   ]
  },
  {
   "cell_type": "code",
   "execution_count": 6,
   "id": "ba752783-1d77-4ea2-810a-6f2994a1d2d1",
   "metadata": {},
   "outputs": [
    {
     "name": "stdout",
     "output_type": "stream",
     "text": [
      "[pyphetools] Ingested 18 GA4GH phenopackets.\n",
      "\tMultiple self-healing squamous epithelioma, susceptibility to (OMIM:132800): n=18\n",
      "We found a total of 6 unique HPO terms\n",
      "Extracted disease: Multiple self-healing squamous epithelioma, susceptibility to (OMIM:132800)\n",
      "Wrote HPOA disease file to OMIM-132800.tab\n"
     ]
    }
   ],
   "source": [
    "PMID = \"PMID:21358634\"\n",
    "df = timporter.create_hpoa_from_phenopackets(pmid=PMID, moi=\"Autosomal dominant\")"
   ]
  },
  {
   "cell_type": "code",
   "execution_count": null,
   "id": "bdcbd4c7-7ac6-48c2-a87e-960d25f70a26",
   "metadata": {},
   "outputs": [],
   "source": []
  }
 ],
 "metadata": {
  "kernelspec": {
   "display_name": "Python 3 (ipykernel)",
   "language": "python",
   "name": "python3"
  },
  "language_info": {
   "codemirror_mode": {
    "name": "ipython",
    "version": 3
   },
   "file_extension": ".py",
   "mimetype": "text/x-python",
   "name": "python",
   "nbconvert_exporter": "python",
   "pygments_lexer": "ipython3",
   "version": "3.8.10"
  }
 },
 "nbformat": 4,
 "nbformat_minor": 5
}
