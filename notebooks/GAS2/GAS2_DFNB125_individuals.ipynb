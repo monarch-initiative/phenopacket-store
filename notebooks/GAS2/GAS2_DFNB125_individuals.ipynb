{
 "cells": [
  {
   "cell_type": "markdown",
   "metadata": {},
   "source": [
    "# GAS2\n",
    "[Autosomal recessive deafness-125 (DFNB125)](https://omim.org/entry/620877) is caused by homozygous mutation in the GAS2 gene."
   ]
  },
  {
   "cell_type": "code",
   "execution_count": 3,
   "metadata": {},
   "outputs": [
    {
     "name": "stdout",
     "output_type": "stream",
     "text": [
      "Using pyphetools version 0.9.113\n"
     ]
    }
   ],
   "source": [
    "from pyphetools.creation import TemplateImporter, Moi\n",
    "from pyphetools.visualization import IndividualTable, QcVisualizer\n",
    "from IPython.display import display, HTML\n",
    "import pyphetools\n",
    "print(f\"Using pyphetools version {pyphetools.__version__}\")"
   ]
  },
  {
   "cell_type": "code",
   "execution_count": 6,
   "metadata": {},
   "outputs": [
    {
     "name": "stdout",
     "output_type": "stream",
     "text": [
      "HPO version 2024-12-12\n",
      "Created encoders for 21 fields\n",
      "Importing OMIM:620877, Deafness, autosomal recessive 125, HGNC:4167, GAS2,  NM_001143830.3\n",
      "We output 4 GA4GH phenopackets to the directory phenopackets\n"
     ]
    }
   ],
   "source": [
    "template = \"input/GAS2_DFNB125_individuals.xlsx\"\n",
    "created_by = \"0000-0002-0736-9199\"\n",
    "timporter = TemplateImporter(template=template,  created_by=created_by)\n",
    "individual_list, cvalidator = timporter.import_phenopackets_from_template()"
   ]
  },
  {
   "cell_type": "code",
   "execution_count": 7,
   "metadata": {},
   "outputs": [
    {
     "data": {
      "text/html": [
       "<h2>Cohort validation</h2>\n",
       "<p>No errors found for the cohort with 4 individuals</p>"
      ],
      "text/plain": [
       "<IPython.core.display.HTML object>"
      ]
     },
     "metadata": {},
     "output_type": "display_data"
    }
   ],
   "source": [
    "qc = QcVisualizer(cohort_validator=cvalidator)\n",
    "display(HTML(qc.to_summary_html()))"
   ]
  },
  {
   "cell_type": "code",
   "execution_count": 8,
   "metadata": {},
   "outputs": [
    {
     "data": {
      "text/html": [
       "<table style=\"border: 2px solid black; align: \"left\">\n",
       "<caption>4 phenopackets - PMID:33964205 (n=4)</caption>\n",
       "<tr><th style=\"text-align: left;font-weight: bold;\">Individual</th><th style=\"text-align: left;font-weight: bold;\">Disease</th><th style=\"text-align: left;font-weight: bold;\">Genotype</th><th style=\"text-align: left;font-weight: bold;\">Phenotypic features</th></tr>\n",
       "<tr><td style=\"text-align: left;\">individual V.2 (MALE)</td><td style=\"text-align: left;\">Deafness, autosomal recessive 125 (OMIM:620877)</td><td style=\"text-align: left;\">NM_001143830.3:c.723+1G>A (homozygous)</td><td style=\"text-align: left;\">Delayed speech and language development (HP:0000750): onset ; excluded: Abnormal facial shape (HP:0001999): onset ; excluded: Abnormal vestibular function (HP:0001751): onset <br/><b>TimeElement(element=Age(iso8601duration=P1Y))</b>: Sensorineural hearing impairment (HP:0000407): onset age {\n",
       "  iso8601duration: \"P1Y\"\n",
       "}\n",
       "</td></tr>\n",
       "<tr><td style=\"text-align: left;\">individual V.5 (MALE)</td><td style=\"text-align: left;\">Deafness, autosomal recessive 125 (OMIM:620877)</td><td style=\"text-align: left;\">NM_001143830.3:c.723+1G>A (homozygous)</td><td style=\"text-align: left;\">Delayed speech and language development (HP:0000750): onset ; excluded: Abnormal facial shape (HP:0001999): onset <br/><b>TimeElement(element=Age(iso8601duration=P1Y))</b>: Sensorineural hearing impairment (HP:0000407): onset age {\n",
       "  iso8601duration: \"P1Y\"\n",
       "}\n",
       "</td></tr>\n",
       "<tr><td style=\"text-align: left;\">individual V.6 (MALE)</td><td style=\"text-align: left;\">Deafness, autosomal recessive 125 (OMIM:620877)</td><td style=\"text-align: left;\">NM_001143830.3:c.723+1G>A (homozygous)</td><td style=\"text-align: left;\">Delayed speech and language development (HP:0000750): onset ; excluded: Abnormal facial shape (HP:0001999): onset ; excluded: Abnormal vestibular function (HP:0001751): onset <br/><b>TimeElement(element=OntologyClass(id=HP:0003577, label=Congenital onset))</b>: Sensorineural hearing impairment (HP:0000407): onset ontology_class {\n",
       "  id: \"HP:0003577\"\n",
       "  label: \"Congenital onset\"\n",
       "}\n",
       "</td></tr>\n",
       "<tr><td style=\"text-align: left;\">individual V.7 (MALE)</td><td style=\"text-align: left;\">Deafness, autosomal recessive 125 (OMIM:620877)</td><td style=\"text-align: left;\">NM_001143830.3:c.723+1G>A (homozygous)</td><td style=\"text-align: left;\">Delayed speech and language development (HP:0000750): onset ; excluded: Abnormal facial shape (HP:0001999): onset ; excluded: Abnormal vestibular function (HP:0001751): onset <br/><b>TimeElement(element=OntologyClass(id=HP:0003577, label=Congenital onset))</b>: Sensorineural hearing impairment (HP:0000407): onset ontology_class {\n",
       "  id: \"HP:0003577\"\n",
       "  label: \"Congenital onset\"\n",
       "}\n",
       "</td></tr>\n",
       "</table>"
      ],
      "text/plain": [
       "<IPython.core.display.HTML object>"
      ]
     },
     "metadata": {},
     "output_type": "display_data"
    }
   ],
   "source": [
    "table = IndividualTable(cvalidator.get_error_free_individual_list())\n",
    "display(HTML(table.to_html()))"
   ]
  },
  {
   "cell_type": "code",
   "execution_count": 9,
   "metadata": {},
   "outputs": [
    {
     "name": "stdout",
     "output_type": "stream",
     "text": [
      "[pyphetools] Ingested 4 GA4GH phenopackets.\n",
      "[INFO] Extracted 4 from 4 phenopackets with OMIM:620877\n",
      "\n",
      "\tDeafness, autosomal recessive 125 (OMIM:620877): n=4\n",
      "We found a total of 4 unique HPO terms\n",
      "Extracted disease: Deafness, autosomal recessive 125 (OMIM:620877)\n",
      "Wrote HPOA disease file to OMIM-620877.tab\n"
     ]
    }
   ],
   "source": [
    "pmid = \"PMID:33964205\"\n",
    "df = timporter.create_hpoa_from_phenopackets(pmid=pmid, mode_of_inheritance=Moi.AR, target=\"OMIM:620877\")"
   ]
  }
 ],
 "metadata": {
  "kernelspec": {
   "display_name": "ps24venv",
   "language": "python",
   "name": "python3"
  },
  "language_info": {
   "codemirror_mode": {
    "name": "ipython",
    "version": 3
   },
   "file_extension": ".py",
   "mimetype": "text/x-python",
   "name": "python",
   "nbconvert_exporter": "python",
   "pygments_lexer": "ipython3",
   "version": "3.12.4"
  }
 },
 "nbformat": 4,
 "nbformat_minor": 2
}
