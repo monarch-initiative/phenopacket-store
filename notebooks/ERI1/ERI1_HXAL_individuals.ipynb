{
 "cells": [
  {
   "cell_type": "markdown",
   "metadata": {},
   "source": [
    "# ERI1\n",
    "[Hoxha-Aliu syndrome (HXAL)](https://omim.org/entry/620662) is caused by homozygous mutation in the ERI1 gene."
   ]
  },
  {
   "cell_type": "code",
   "execution_count": 1,
   "metadata": {},
   "outputs": [
    {
     "name": "stdout",
     "output_type": "stream",
     "text": [
      "Using pyphetools version 0.9.78\n"
     ]
    }
   ],
   "source": [
    "from pyphetools.creation import TemplateImporter\n",
    "from pyphetools.visualization import IndividualTable, QcVisualizer\n",
    "from IPython.display import display, HTML\n",
    "import pyphetools\n",
    "print(f\"Using pyphetools version {pyphetools.__version__}\")"
   ]
  },
  {
   "cell_type": "code",
   "execution_count": 2,
   "metadata": {},
   "outputs": [],
   "source": [
    "template = \"input/ERI1_HXAL_individuals.xlsx\"\n",
    "hp_json = \"../hp.json\"\n",
    "created_by = \"0000-0002-0736-9199\""
   ]
  },
  {
   "cell_type": "code",
   "execution_count": 3,
   "metadata": {},
   "outputs": [
    {
     "name": "stdout",
     "output_type": "stream",
     "text": [
      "HPO version 2024-04-03\n",
      "Created encoders for 82 fields\n",
      "Importing OMIM:620662, Hoxha-Aliu syndrome, HGNC:23994, ERI1,  NM_153332.4\n",
      "We output 5 GA4GH phenopackets to the directory phenopackets\n"
     ]
    }
   ],
   "source": [
    "deletions = {\"g.8783887_9068578del\"}\n",
    "timporter = TemplateImporter(template=template, hp_json=hp_json, created_by=created_by)\n",
    "individual_list, cvalidator = timporter.import_phenopackets_from_template(deletions=deletions)"
   ]
  },
  {
   "cell_type": "code",
   "execution_count": 4,
   "metadata": {},
   "outputs": [
    {
     "data": {
      "text/html": [
       "<h2>Cohort validation</h2>\n",
       "<p>Errors found with 3 of 5 phenopackets.</p>\n",
       "<table style=\"border: 2px solid black; align: \"left\">\n",
       "<caption>Error counts</caption>\n",
       "<tr><th style=\"text-align: left;font-weight: bold;\">Level</th><th style=\"text-align: left;font-weight: bold;\">Error category</th><th style=\"text-align: left;font-weight: bold;\">Count</th></tr>\n",
       "<tr><td style=\"text-align: left;\">ERROR</td><td style=\"text-align: left;\">CONFLICT</td><td style=\"text-align: left;\">1</td></tr>\n",
       "<tr><td style=\"text-align: left;\">WARNING</td><td style=\"text-align: left;\">REDUNDANT</td><td style=\"text-align: left;\">3</td></tr>\n",
       "</table>\n",
       "<p>A total of 4 issues were fixed and no individual was removed from the cohort.</p>"
      ],
      "text/plain": [
       "<IPython.core.display.HTML object>"
      ]
     },
     "metadata": {},
     "output_type": "display_data"
    }
   ],
   "source": [
    "qc = QcVisualizer(cohort_validator=cvalidator)\n",
    "display(HTML(qc.to_summary_html()))"
   ]
  },
  {
   "cell_type": "code",
   "execution_count": 5,
   "metadata": {},
   "outputs": [
    {
     "data": {
      "text/html": [
       "<table style=\"border: 2px solid black; align: \"left\">\n",
       "<caption>5 phenopackets - PMID:37352860 (n=3); PMID:36208065 (n=1); PMID:28488351 (n=1)</caption>\n",
       "<tr><th style=\"text-align: left;font-weight: bold;\">Individual</th><th style=\"text-align: left;font-weight: bold;\">Disease</th><th style=\"text-align: left;font-weight: bold;\">Genotype</th><th style=\"text-align: left;font-weight: bold;\">Phenotypic features</th></tr>\n",
       "<tr><td style=\"text-align: left;\">Individual 5 (FEMALE; P8Y9M)</td><td style=\"text-align: left;\">Hoxha-Aliu syndrome (OMIM:620662)</td><td style=\"text-align: left;\">NM_153332.4:c.514C>T (homozygous)</td><td style=\"text-align: left;\">Foot oligodactyly (HP:0001849); Absent toenail (HP:0001802); Hypoplastic fingernail (HP:0001804); Deep-set nails (HP:0001814); Cupped ear (HP:0000378); Narrow forehead (HP:0000341); Autism (HP:0000717); Global developmental delay (HP:0001263); Inguinal hernia (HP:0000023); Perimembranous ventricular septal defect (HP:0011682); Brachycephaly (HP:0000248); excluded: Abnormal metaphysis morphology (HP:0000944); excluded: Abnormal epiphysis morphology (HP:0005930); excluded: Increased vertebral height (HP:0004570); excluded: Pectus excavatum (HP:0000767); excluded: Pectus carinatum (HP:0000768); excluded: Platyspondyly (HP:0000926); excluded: Delayed skeletal maturation (HP:0002750); excluded: Osteopenia (HP:0000938); excluded: Wormian bones (HP:0002645); excluded: Low-set ears (HP:0000369); excluded: Uplifted earlobe (HP:0009909); excluded: Hydronephrosis (HP:0000126); excluded: Scoliosis (HP:0002650)</td></tr>\n",
       "<tr><td style=\"text-align: left;\">Individual 6 (MALE; P13Y3M)</td><td style=\"text-align: left;\">Hoxha-Aliu syndrome (OMIM:620662)</td><td style=\"text-align: left;\">NM_153332.4:c.730C>T (homozygous)</td><td style=\"text-align: left;\">Short fifth metatarsal (HP:0004704); Short fourth metatarsal (HP:0004689); Clinodactyly of the 5th finger (HP:0004209); Pseudoepiphyses of hand bones (HP:0004288); Brachydactyly (HP:0001156); Broad foot (HP:0001769); Short 4th toe (HP:0008093); Short distal phalanx of finger (HP:0009882); Low-set ears (HP:0000369); Strabismus (HP:0000486); Highly arched eyebrow (HP:0002553); Low anterior hairline (HP:0000294); Intellectual disability (HP:0001249); excluded: Abnormal metaphysis morphology (HP:0000944); excluded: Foot oligodactyly (HP:0001849); excluded: Absent toenail (HP:0001802); excluded: Increased vertebral height (HP:0004570); excluded: Hip dislocation (HP:0002827); excluded: Patellar dislocation (HP:0002999); excluded: Pectus excavatum (HP:0000767); excluded: Pectus carinatum (HP:0000768); excluded: Platyspondyly (HP:0000926); excluded: Delayed skeletal maturation (HP:0002750); excluded: Osteopenia (HP:0000938); excluded: Wormian bones (HP:0002645); excluded: Cupped ear (HP:0000378); excluded: Uplifted earlobe (HP:0009909); excluded: High anterior hairline (HP:0009890); excluded: Autism (HP:0000717); excluded: Hydronephrosis (HP:0000126); excluded: Scoliosis (HP:0002650)</td></tr>\n",
       "<tr><td style=\"text-align: left;\">Individual 7 (FEMALE; P7Y)</td><td style=\"text-align: left;\">Hoxha-Aliu syndrome (OMIM:620662)</td><td style=\"text-align: left;\">NM_153332.4:c.582+1G>A (homozygous)</td><td style=\"text-align: left;\">Short 5th metacarpal (HP:0010047); Absent fifth metatarsal (HP:0008079); Overlapping toe (HP:0001845); Abnormal epiphysis morphology (HP:0005930); Foot oligodactyly (HP:0001849); Short proximal phalanx of thumb (HP:0009638); Short distal phalanx of the 5th finger (HP:0004227); Uplifted earlobe (HP:0009909); Epicanthus (HP:0000286); Intellectual disability (HP:0001249); Hydronephrosis (HP:0000126); Vesicoureteral reflux (HP:0000076); excluded: Abnormal metaphysis morphology (HP:0000944); excluded: Absent toenail (HP:0001802); excluded: Increased vertebral height (HP:0004570); excluded: Hip dislocation (HP:0002827); excluded: Patellar dislocation (HP:0002999); excluded: Pectus carinatum (HP:0000768); excluded: Platyspondyly (HP:0000926); excluded: Delayed skeletal maturation (HP:0002750); excluded: Osteopenia (HP:0000938); excluded: Wormian bones (HP:0002645); excluded: Low-set ears (HP:0000369); excluded: Cupped ear (HP:0000378); excluded: Autism (HP:0000717)</td></tr>\n",
       "<tr><td style=\"text-align: left;\">7-year-old female (FEMALE; P7Y)</td><td style=\"text-align: left;\">Hoxha-Aliu syndrome (OMIM:620662)</td><td style=\"text-align: left;\">NM_153332.4:c.352A>T (homozygous)</td><td style=\"text-align: left;\">Sacral dimple (HP:0000960); Posteriorly rotated ears (HP:0000358); Astigmatism (HP:0000483); Ptosis (HP:0000508); Myopia (HP:0000545); Intellectual disability (HP:0001249); Global developmental delay (HP:0001263); Delayed speech and language development (HP:0000750); excluded: Low-set ears (HP:0000369); excluded: Autism (HP:0000717)</td></tr>\n",
       "<tr><td style=\"text-align: left;\">male patient (MALE; P5Y6M)</td><td style=\"text-align: left;\">Hoxha-Aliu syndrome (OMIM:620662)</td><td style=\"text-align: left;\">g.8783887_9068578del: chromosomal_deletion (SO:1000029)</td><td style=\"text-align: left;\">Short metacarpal (HP:0010049); Syndactyly (HP:0001159); Hypoplastic fingernail (HP:0001804); Contracture of the proximal interphalangeal joint of the 4th finger (HP:0009276); Brachydactyly (HP:0001156); Triangular face (HP:0000325); Flat forehead (HP:0004425); Ptosis (HP:0000508); Webbed neck (HP:0000465); Pointed chin (HP:0000307); High palate (HP:0000218); Wide nasal bridge (HP:0000431); High anterior hairline (HP:0009890); Intellectual disability (HP:0001249); Global developmental delay (HP:0001263); Atrial septal defect (HP:0001631); excluded: Abnormal vertebral morphology (HP:0003468); excluded: Abnormal metaphysis morphology (HP:0000944); excluded: Abnormal epiphysis morphology (HP:0005930); excluded: Foot oligodactyly (HP:0001849); excluded: Absent toenail (HP:0001802); excluded: Low-set ears (HP:0000369); excluded: Low anterior hairline (HP:0000294); excluded: Autism (HP:0000717); excluded: Hydronephrosis (HP:0000126)</td></tr>\n",
       "</table>"
      ],
      "text/plain": [
       "<IPython.core.display.HTML object>"
      ]
     },
     "metadata": {},
     "output_type": "display_data"
    }
   ],
   "source": [
    "table = IndividualTable(cvalidator.get_error_free_individual_list())\n",
    "display(HTML(table.to_html()))"
   ]
  },
  {
   "cell_type": "code",
   "execution_count": 6,
   "metadata": {},
   "outputs": [
    {
     "name": "stdout",
     "output_type": "stream",
     "text": [
      "[pyphetools] Ingested 5 GA4GH phenopackets.\n",
      "[INFO] Extracted 5 from 5 phenopackets with OMIM:620662\n",
      "\n",
      "\tHoxha-Aliu syndrome (OMIM:620662): n=5\n",
      "We found a total of 63 unique HPO terms\n",
      "Extracted disease: Hoxha-Aliu syndrome (OMIM:620662)\n",
      "Wrote HPOA disease file to OMIM-620662.tab\n"
     ]
    }
   ],
   "source": [
    "pmid = \"PMID:36333996\"\n",
    "df = timporter.create_hpoa_from_phenopackets(pmid=pmid, moi=\"Autosomal recessive\", target=\"OMIM:620662\")"
   ]
  }
 ],
 "metadata": {
  "kernelspec": {
   "display_name": "Python 3 (ipykernel)",
   "language": "python",
   "name": "python3"
  },
  "language_info": {
   "codemirror_mode": {
    "name": "ipython",
    "version": 3
   },
   "file_extension": ".py",
   "mimetype": "text/x-python",
   "name": "python",
   "nbconvert_exporter": "python",
   "pygments_lexer": "ipython3",
   "version": "3.8.10"
  }
 },
 "nbformat": 4,
 "nbformat_minor": 4
}
