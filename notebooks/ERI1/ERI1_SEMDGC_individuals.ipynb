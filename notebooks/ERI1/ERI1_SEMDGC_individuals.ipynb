{
 "cells": [
  {
   "cell_type": "markdown",
   "metadata": {},
   "source": [
    "# ERI1\n",
    "[Spondyloepimetaphyseal dysplasia, Guo-Campeau type](https://omim.org/entry/620663) is caused by homozygous mutation in the ERI1 gene."
   ]
  },
  {
   "cell_type": "code",
   "execution_count": 1,
   "metadata": {},
   "outputs": [
    {
     "name": "stdout",
     "output_type": "stream",
     "text": [
      "Using pyphetools version 0.9.78\n"
     ]
    }
   ],
   "source": [
    "from pyphetools.creation import TemplateImporter\n",
    "from pyphetools.visualization import IndividualTable, QcVisualizer\n",
    "from IPython.display import display, HTML\n",
    "import pyphetools\n",
    "print(f\"Using pyphetools version {pyphetools.__version__}\")"
   ]
  },
  {
   "cell_type": "code",
   "execution_count": 2,
   "metadata": {},
   "outputs": [],
   "source": [
    "template = \"input/ERI1_SEMDGC_individuals.xlsx\"\n",
    "hp_json = \"../hp.json\"\n",
    "created_by = \"0000-0002-0736-9199\""
   ]
  },
  {
   "cell_type": "code",
   "execution_count": 3,
   "metadata": {},
   "outputs": [
    {
     "name": "stdout",
     "output_type": "stream",
     "text": [
      "HPO version 2024-04-03\n",
      "Created encoders for 76 fields\n",
      "Importing OMIM:620663, Spondyloepimetaphyseal dysplasia, Guo-Campeau type, HGNC:23994, ERI1,  NM_153332.4\n",
      "We output 5 GA4GH phenopackets to the directory phenopackets\n"
     ]
    }
   ],
   "source": [
    "timporter = TemplateImporter(template=template, hp_json=hp_json, created_by=created_by)\n",
    "individual_list, cvalidator = timporter.import_phenopackets_from_template()"
   ]
  },
  {
   "cell_type": "code",
   "execution_count": 4,
   "metadata": {},
   "outputs": [
    {
     "data": {
      "text/html": [
       "<h2>Cohort validation</h2>\n",
       "<p>Errors found with 1 of 5 phenopackets.</p>\n",
       "<table style=\"border: 2px solid black; align: \"left\">\n",
       "<caption>Error counts</caption>\n",
       "<tr><th style=\"text-align: left;font-weight: bold;\">Level</th><th style=\"text-align: left;font-weight: bold;\">Error category</th><th style=\"text-align: left;font-weight: bold;\">Count</th></tr>\n",
       "<tr><td style=\"text-align: left;\">WARNING</td><td style=\"text-align: left;\">REDUNDANT</td><td style=\"text-align: left;\">1</td></tr>\n",
       "</table>\n",
       "<p>A total of 1 issues were fixed and no individual was removed from the cohort.</p>"
      ],
      "text/plain": [
       "<IPython.core.display.HTML object>"
      ]
     },
     "metadata": {},
     "output_type": "display_data"
    }
   ],
   "source": [
    "qc = QcVisualizer(cohort_validator=cvalidator)\n",
    "display(HTML(qc.to_summary_html()))"
   ]
  },
  {
   "cell_type": "code",
   "execution_count": 5,
   "metadata": {},
   "outputs": [
    {
     "data": {
      "text/html": [
       "<table style=\"border: 2px solid black; align: \"left\">\n",
       "<caption>5 phenopackets - PMID:37352860 (n=5)</caption>\n",
       "<tr><th style=\"text-align: left;font-weight: bold;\">Individual</th><th style=\"text-align: left;font-weight: bold;\">Disease</th><th style=\"text-align: left;font-weight: bold;\">Genotype</th><th style=\"text-align: left;font-weight: bold;\">Phenotypic features</th></tr>\n",
       "<tr><td style=\"text-align: left;\">Individual 1B (FEMALE; P28Y)</td><td style=\"text-align: left;\">Spondyloepimetaphyseal dysplasia, Guo-Campeau type (OMIM:620663)</td><td style=\"text-align: left;\"><ul> <li>NM_153332.4:c.450A>T (heterozygous)</li> <li>NM_153332.4:c.893A>G (heterozygous)</li> </ul></td><td style=\"text-align: left;\">Hip dislocation (HP:0002827); Hydronephrosis (HP:0000126); Syndactyly (HP:0001159); Short stature (HP:0004322); Short foot (HP:0001773); Short palm (HP:0004279); Increased vertebral height (HP:0004570); Dislocated radial head (HP:0003083); Hypernasal speech (HP:0001611); Hypoplasia of the zygomatic bone (HP:0010669); Upslanted palpebral fissure (HP:0000582); Proptosis (HP:0000520); Clinodactyly of the 2nd finger (HP:0040022); Clinodactyly of the 3rd finger (HP:0040024); Clinodactyly of the 5th finger (HP:0004209); Pes planus (HP:0001763); Diaphyseal undertubulation (HP:0005019); Finger joint hypermobility (HP:0006094); Decreased hip abduction (HP:0003184); Limited elbow extension (HP:0001377); Dolichocephaly (HP:0000268); Microtia (HP:0008551); Low-set ears (HP:0000369); Vesicoureteral reflux (HP:0000076); Scoliosis (HP:0002650); Asthma (HP:0002099); excluded: Absent toe (HP:0010760); excluded: Absent toenail (HP:0001802); excluded: Velopharyngeal insufficiency (HP:0000220); excluded: Intellectual disability (HP:0001249)</td></tr>\n",
       "<tr><td style=\"text-align: left;\">Individual 1A (MALE; P26Y)</td><td style=\"text-align: left;\">Spondyloepimetaphyseal dysplasia, Guo-Campeau type (OMIM:620663)</td><td style=\"text-align: left;\"><ul> <li>NM_153332.4:c.450A>T (heterozygous)</li> <li>NM_153332.4:c.893A>G (heterozygous)</li> </ul></td><td style=\"text-align: left;\">Hip dislocation (HP:0002827); Hydronephrosis (HP:0000126); Syndactyly (HP:0001159); Short stature (HP:0004322); Velopharyngeal insufficiency (HP:0000220); Patellar dislocation (HP:0002999); Pectus excavatum (HP:0000767); Hypernasal speech (HP:0001611); Hypoplasia of the zygomatic bone (HP:0010669); Upslanted palpebral fissure (HP:0000582); Proptosis (HP:0000520); Pes planus (HP:0001763); Finger joint hypermobility (HP:0006094); Limited elbow extension (HP:0001377); Low-set ears (HP:0000369); Narrow forehead (HP:0000341); High palate (HP:0000218); Asthma (HP:0002099); excluded: Absent toe (HP:0010760); excluded: Absent toenail (HP:0001802); excluded: Intellectual disability (HP:0001249)</td></tr>\n",
       "<tr><td style=\"text-align: left;\">Individual 2 (MALE; P3Y6M)</td><td style=\"text-align: left;\">Spondyloepimetaphyseal dysplasia, Guo-Campeau type (OMIM:620663)</td><td style=\"text-align: left;\"><ul> <li>NM_153332.4:c.464C>T (heterozygous)</li> <li>NM_153332.4:c.893A>C (heterozygous)</li> </ul></td><td style=\"text-align: left;\">Limb undergrowth (HP:0009826); Syndactyly (HP:0001159); Short stature (HP:0004322); Dislocated radial head (HP:0003083); Platyspondyly (HP:0000926); Brachydactyly (HP:0001156); Clinodactyly of the 5th finger (HP:0004209); Micrognathia (HP:0000347); Macrotia (HP:0000400); excluded: Absent toe (HP:0010760); excluded: Absent toenail (HP:0001802); excluded: Hydronephrosis (HP:0000126)</td></tr>\n",
       "<tr><td style=\"text-align: left;\">Individual 3 (MALE; P3Y6M)</td><td style=\"text-align: left;\">Spondyloepimetaphyseal dysplasia, Guo-Campeau type (OMIM:620663)</td><td style=\"text-align: left;\"><ul> <li>NM_153332.4:c.401A>G (heterozygous)</li> <li>NM_153332.4:c.895T>C (heterozygous)</li> </ul></td><td style=\"text-align: left;\">Syndactyly (HP:0001159); Short stature (HP:0004322); Proximal placement of thumb (HP:0009623); Finger aplasia (HP:0009380); Ulnar deviation of the hand (HP:0009487); Pulmonary arterial hypertension (HP:0002092); Tricuspid regurgitation (HP:0005180); excluded: Absent toe (HP:0010760); excluded: Absent toenail (HP:0001802)</td></tr>\n",
       "<tr><td style=\"text-align: left;\">Individual 4 (MALE; P2Y)</td><td style=\"text-align: left;\">Spondyloepimetaphyseal dysplasia, Guo-Campeau type (OMIM:620663)</td><td style=\"text-align: left;\"><ul> <li>NM_153332.4:c.464C>T (heterozygous)</li> <li>NM_153332.4:c.62C>A (heterozygous)</li> </ul></td><td style=\"text-align: left;\">Severe intrauterine growth retardation (HP:0008846); Absent toe (HP:0010760); Syndactyly (HP:0001159); Pectus carinatum (HP:0000768); Delayed skeletal maturation (HP:0002750); Osteopenia (HP:0000938); Wormian bones (HP:0002645); Frontal bossing (HP:0002007); Posteriorly rotated ears (HP:0000358); Microtia (HP:0008551); Low-set ears (HP:0000369); Trigonocephaly (HP:0000243); Delayed speech and language development (HP:0000750); Motor delay (HP:0001270); Generalized hypotonia (HP:0001290); Ventricular septal defect (HP:0001629); Atrial septal defect (HP:0001631); excluded: Absent toenail (HP:0001802); excluded: Pectus excavatum (HP:0000767); excluded: Hydronephrosis (HP:0000126)</td></tr>\n",
       "</table>"
      ],
      "text/plain": [
       "<IPython.core.display.HTML object>"
      ]
     },
     "metadata": {},
     "output_type": "display_data"
    }
   ],
   "source": [
    "table = IndividualTable(cvalidator.get_error_free_individual_list())\n",
    "display(HTML(table.to_html()))"
   ]
  },
  {
   "cell_type": "code",
   "execution_count": 6,
   "metadata": {},
   "outputs": [
    {
     "name": "stdout",
     "output_type": "stream",
     "text": [
      "[pyphetools] Ingested 10 GA4GH phenopackets.\n",
      "[INFO] Extracted 5 from 10 phenopackets with OMIM:620663\n",
      "\n",
      "\tSpondyloepimetaphyseal dysplasia, Guo-Campeau type (OMIM:620663): n=5\n",
      "We found a total of 57 unique HPO terms\n",
      "Extracted disease: Spondyloepimetaphyseal dysplasia, Guo-Campeau type (OMIM:620663)\n",
      "Wrote HPOA disease file to OMIM-620663.tab\n"
     ]
    }
   ],
   "source": [
    "pmid = \"PMID:36333996\"\n",
    "df = timporter.create_hpoa_from_phenopackets(pmid=pmid, moi=\"Autosomal recessive\", target=\"OMIM:620663\")"
   ]
  }
 ],
 "metadata": {
  "kernelspec": {
   "display_name": "Python 3 (ipykernel)",
   "language": "python",
   "name": "python3"
  },
  "language_info": {
   "codemirror_mode": {
    "name": "ipython",
    "version": 3
   },
   "file_extension": ".py",
   "mimetype": "text/x-python",
   "name": "python",
   "nbconvert_exporter": "python",
   "pygments_lexer": "ipython3",
   "version": "3.8.10"
  }
 },
 "nbformat": 4,
 "nbformat_minor": 4
}
