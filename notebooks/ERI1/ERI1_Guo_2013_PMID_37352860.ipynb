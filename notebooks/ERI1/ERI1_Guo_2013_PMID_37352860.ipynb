{
 "cells": [
  {
   "cell_type": "markdown",
   "id": "14ee3127",
   "metadata": {},
   "source": [
    "<h1>ERI1: Guo et al 2013 </h1>\n",
    "<p>Extract the clinical data from <a href=\"https://pubmed.ncbi.nlm.nih.gov/37352860/\"target=\"__blank\">Guo L, et al. (2023) Null and missense mutations of ERI1 cause a recessive phenotypic dichotomy in humans. Am J Hum Genet.  PMID:37352860</a>.<p>\n",
    "<p>The authors report a phenotypic dichotomy associated with bi-allelic ERI1 variants by reporting eight affected individuals from seven unrelated families. A severe spondyloepimetaphyseal dysplasia (SEMD) was identified in five affected individuals with missense variants but not in those with bi-allelic null variants, who showed mild intellectual disability and digital anomalies.</p>"
   ]
  },
  {
   "cell_type": "code",
   "execution_count": 28,
   "id": "3d9c8a7f",
   "metadata": {},
   "outputs": [
    {
     "name": "stdout",
     "output_type": "stream",
     "text": [
      "Using pyphetools version 0.9.73\n"
     ]
    }
   ],
   "source": [
    "import pandas as pd\n",
    "import math\n",
    "pd.set_option('display.max_colwidth', None) # show entire column contents, important!\n",
    "from collections import defaultdict\n",
    "import re\n",
    "from pyphetools.creation import *\n",
    "from pyphetools.visualization import PhenopacketTable, QcVisualizer, HpoaTableBuilder\n",
    "from pyphetools.validation import *\n",
    "import pyphetools\n",
    "print(f\"Using pyphetools version {pyphetools.__version__}\")"
   ]
  },
  {
   "cell_type": "code",
   "execution_count": 2,
   "id": "3d06141b",
   "metadata": {},
   "outputs": [
    {
     "name": "stdout",
     "output_type": "stream",
     "text": [
      "HPO version 2024-03-06\n"
     ]
    }
   ],
   "source": [
    "PMID=\"PMID:37352860\"\n",
    "title = \"Null and missense mutations of ERI1 cause a recessive phenotypic dichotomy in humans\"\n",
    "cite = Citation(pmid=PMID, title=title)\n",
    "parser = HpoParser(hpo_json_file=\"../hp.json\")\n",
    "hpo_cr = parser.get_hpo_concept_recognizer()\n",
    "hpo_version = parser.get_version()\n",
    "hpo_ontology = parser.get_ontology()\n",
    "metadata = MetaData(created_by=\"ORCID:0000-0002-0736-9199\", citation=cite)\n",
    "metadata.default_versions_with_hpo(version=hpo_version)\n",
    "print(f\"HPO version {hpo_version}\")"
   ]
  },
  {
   "cell_type": "code",
   "execution_count": 3,
   "id": "1f2ca0a7",
   "metadata": {},
   "outputs": [],
   "source": [
    "df = pd.read_excel(\"input/Guo_2023.xlsx\")"
   ]
  },
  {
   "cell_type": "code",
   "execution_count": 4,
   "id": "771713c5",
   "metadata": {},
   "outputs": [],
   "source": [
    "df = df.set_index('Individual').T.reset_index()\n",
    "df[\"individual_id\"] = df[\"index\"].apply(lambda x: f\"Individual {x}\")"
   ]
  },
  {
   "cell_type": "code",
   "execution_count": 5,
   "id": "9eefb904",
   "metadata": {},
   "outputs": [],
   "source": [
    "scg = SimpleColumnMapperGenerator(df=df,\n",
    "                                  observed='+',\n",
    "                                  excluded='-',\n",
    "                                  hpo_cr=hpo_cr)"
   ]
  },
  {
   "cell_type": "code",
   "execution_count": 6,
   "id": "2c585ebc",
   "metadata": {},
   "outputs": [],
   "source": [
    "column_mapper_list = scg.try_mapping_columns()"
   ]
  },
  {
   "cell_type": "code",
   "execution_count": 7,
   "id": "a1f215be",
   "metadata": {},
   "outputs": [
    {
     "data": {
      "text/html": [
       "<table style=\"border: 2px solid black;\">\n",
       "\n",
       "<tr>\n",
       "            <th>Result</th>\n",
       "            <th>Columns</th>\n",
       "        </tr>\n",
       "        \n",
       "<tr><td>Mapped</td><td>Syndactyly; Cardiac anomaly; Hydronephrosis; Vesicoureteral reflux; Asthma; Conductive hearing impairment; hypernasal speech; Dislocated radial head; Scoliosis; Hip pain; Short stature; Long face; Narrow face; proptosis; Coarse facies; Low-set ears; Limited elbow extension; Finger joint hypermobility; Clinodactyly of the 5th finger; Pes planus; Slender metacarpals; Increased vertebral height; Velopharyngeal insufficiency; Hip dislocation; Patellar dislocation; Narrow forehead; Upslanted palpebral fissure; High palate; Pectus excavatum; Tapered finger; Prominent forehead; Depressed nasal bridge; Micrognathia; Cutaneous syndactyly; Macrotia; Narrow chest; Pulmonary arterial hypertension; Oligodactyly; Tricuspid regurgitation; Platyspondyly; Intrauterine growth retardation; Motor delay; Failure to thrive; Trigonocephaly; Frontal bossing; Sparse hair; Pectus carinatum; Wormian bones; Osteopenia; Delayed skeletal maturation; Inguinal hernia; Ventricular septal defect; Brachycephaly; Anonychia; Strabismus; Low anterior hairline; Epicanthus</td></tr>\n",
       "<tr><td>Unmapped</td><td><q>index</q>; <q>DNA</q>; <q>allele_1</q>; <q>allele_2</q>; <q>Protein</q>; <q>Sex</q>; <q>age_of_onset</q>; <q>Age at last follow-up</q>; <q>Weight</q>; <q>Height</q>; <q>Consanguinity</q>; <q>Fetal ultrasound</q>; <q>Gestation age</q>; <q>Birth weight</q>; <q>Birth length</q>; <q>Spine anomaly</q>; <q>Metaphyseal anomaly</q>; <q>Epiphyseal anomaly</q>; <q>Brachydactyly/clinodactyly/camptodactyly</q>; <q>Intellectual disability/developmental delay</q>; <q>Zygomatic hypoplasia</q>; <q>Posteriorly rotated ear</q>; <q>Cupped ear </q>; <q>individual_id</q></td></tr>\n",
       "</table>\n"
      ],
      "text/plain": [
       "<IPython.core.display.HTML object>"
      ]
     },
     "metadata": {},
     "output_type": "display_data"
    }
   ],
   "source": [
    "from IPython.display import display, HTML\n",
    "display(HTML(scg.to_html()))"
   ]
  },
  {
   "cell_type": "code",
   "execution_count": 8,
   "id": "23b8f381",
   "metadata": {},
   "outputs": [],
   "source": [
    "# Now get the unmapped columns and try option mappers\n",
    "# The following was only needed to write the notebook\n",
    "# unmapped_columns = scg.get_unmapped_columns()\n",
    "# omit_columns = set(column_mapper_d.keys())\n",
    "# omit_columns.update(['index','DNA','Protein','Age at last follow-up','Consanguinity'])\n",
    "# auto_results = OptionColumnMapper.autoformat(df=df, concept_recognizer=hpo_cr, omit_columns=omit_columns)\n",
    "# print(auto_results)"
   ]
  },
  {
   "cell_type": "code",
   "execution_count": 9,
   "id": "9ede0bd6",
   "metadata": {},
   "outputs": [
    {
     "data": {
      "text/html": [
       "<div>\n",
       "<style scoped>\n",
       "    .dataframe tbody tr th:only-of-type {\n",
       "        vertical-align: middle;\n",
       "    }\n",
       "\n",
       "    .dataframe tbody tr th {\n",
       "        vertical-align: top;\n",
       "    }\n",
       "\n",
       "    .dataframe thead th {\n",
       "        text-align: right;\n",
       "    }\n",
       "</style>\n",
       "<table border=\"1\" class=\"dataframe\">\n",
       "  <thead>\n",
       "    <tr style=\"text-align: right;\">\n",
       "      <th></th>\n",
       "      <th>mapping</th>\n",
       "      <th>count</th>\n",
       "    </tr>\n",
       "  </thead>\n",
       "  <tbody>\n",
       "    <tr>\n",
       "      <th>0</th>\n",
       "      <td>Decreased body weight (HP:0004325) (observed)</td>\n",
       "      <td>3</td>\n",
       "    </tr>\n",
       "    <tr>\n",
       "      <th>1</th>\n",
       "      <td>Failure to thrive (HP:0001508) (observed)</td>\n",
       "      <td>1</td>\n",
       "    </tr>\n",
       "    <tr>\n",
       "      <th>2</th>\n",
       "      <td>Decreased body weight (HP:0004325) (excluded)</td>\n",
       "      <td>3</td>\n",
       "    </tr>\n",
       "    <tr>\n",
       "      <th>3</th>\n",
       "      <td>Failure to thrive (HP:0001508) (excluded)</td>\n",
       "      <td>1</td>\n",
       "    </tr>\n",
       "  </tbody>\n",
       "</table>\n",
       "</div>"
      ],
      "text/plain": [
       "                                         mapping count\n",
       "0  Decreased body weight (HP:0004325) (observed)     3\n",
       "1      Failure to thrive (HP:0001508) (observed)     1\n",
       "2  Decreased body weight (HP:0004325) (excluded)     3\n",
       "3      Failure to thrive (HP:0001508) (excluded)     1"
      ]
     },
     "execution_count": 9,
     "metadata": {},
     "output_type": "execute_result"
    }
   ],
   "source": [
    "weight_d = {'24\\xa0kg (−5 SD)': 'Decreased body weight',\n",
    " '26\\xa0kg (−5 SD)': 'Decreased body weight',\n",
    " '3.3\\xa0kg (- 4 SD)': 'Decreased body weight',\n",
    " 'failure to thrive': 'Failure to thrive'}\n",
    "excluded_d = {\n",
    "    '22\\xa0kg (8th centile)': 'Decreased body weight',\n",
    "    '62\\xa0kg (85th centile)': 'Decreased body weight',\n",
    "    '27.6\\xa0kg (50th centile)': 'Decreased body weight',\n",
    "    'normal': 'Failure to thrive',\n",
    "}\n",
    "weightMapper = OptionColumnMapper(column_name=\"Weight\", concept_recognizer=hpo_cr, option_d=weight_d,\n",
    "                                 excluded_d=excluded_d)\n",
    "column_mapper_list.append(weightMapper)\n",
    "weightMapper.preview_column(df)"
   ]
  },
  {
   "cell_type": "code",
   "execution_count": 10,
   "id": "a54cf9ec",
   "metadata": {},
   "outputs": [
    {
     "data": {
      "text/html": [
       "<div>\n",
       "<style scoped>\n",
       "    .dataframe tbody tr th:only-of-type {\n",
       "        vertical-align: middle;\n",
       "    }\n",
       "\n",
       "    .dataframe tbody tr th {\n",
       "        vertical-align: top;\n",
       "    }\n",
       "\n",
       "    .dataframe thead th {\n",
       "        text-align: right;\n",
       "    }\n",
       "</style>\n",
       "<table border=\"1\" class=\"dataframe\">\n",
       "  <thead>\n",
       "    <tr style=\"text-align: right;\">\n",
       "      <th></th>\n",
       "      <th>mapping</th>\n",
       "      <th>count</th>\n",
       "    </tr>\n",
       "  </thead>\n",
       "  <tbody>\n",
       "    <tr>\n",
       "      <th>0</th>\n",
       "      <td>Short stature (HP:0004322) (observed)</td>\n",
       "      <td>5</td>\n",
       "    </tr>\n",
       "    <tr>\n",
       "      <th>1</th>\n",
       "      <td>Short stature (HP:0004322) (excluded)</td>\n",
       "      <td>3</td>\n",
       "    </tr>\n",
       "  </tbody>\n",
       "</table>\n",
       "</div>"
      ],
      "text/plain": [
       "                                 mapping count\n",
       "0  Short stature (HP:0004322) (observed)     5\n",
       "1  Short stature (HP:0004322) (excluded)     3"
      ]
     },
     "execution_count": 10,
     "metadata": {},
     "output_type": "execute_result"
    }
   ],
   "source": [
    "height_d = {'112\\xa0cm (−8 SD)': 'Short stature',\n",
    " '128\\xa0cm (−7 SD)': 'Short stature',\n",
    " '50.3\\xa0cm (−5 SD)': 'Short stature',\n",
    " 'short stature': 'Short stature',\n",
    " \n",
    " '105\\xa0cm (<3rd centile)': 'Short stature'}\n",
    "\n",
    "excluded_d = {\n",
    "    '130.8\\xa0cm (46th centile)': 'Short stature',\n",
    " '155\\xa0cm (25th centile)': 'Short stature',\n",
    " '130\\xa0cm (90th centile)': 'Short stature',\n",
    "}\n",
    "heightMapper = OptionColumnMapper(column_name=\"Height\", concept_recognizer=hpo_cr, option_d=height_d,\n",
    "                                excluded_d=excluded_d)\n",
    "column_mapper_list.append(heightMapper)\n",
    "heightMapper.preview_column(df)"
   ]
  },
  {
   "cell_type": "code",
   "execution_count": 11,
   "id": "5b0aae33",
   "metadata": {},
   "outputs": [
    {
     "data": {
      "text/html": [
       "<div>\n",
       "<style scoped>\n",
       "    .dataframe tbody tr th:only-of-type {\n",
       "        vertical-align: middle;\n",
       "    }\n",
       "\n",
       "    .dataframe tbody tr th {\n",
       "        vertical-align: top;\n",
       "    }\n",
       "\n",
       "    .dataframe thead th {\n",
       "        text-align: right;\n",
       "    }\n",
       "</style>\n",
       "<table border=\"1\" class=\"dataframe\">\n",
       "  <thead>\n",
       "    <tr style=\"text-align: right;\">\n",
       "      <th></th>\n",
       "      <th>mapping</th>\n",
       "      <th>count</th>\n",
       "    </tr>\n",
       "  </thead>\n",
       "  <tbody>\n",
       "    <tr>\n",
       "      <th>0</th>\n",
       "      <td>Hydronephrosis (HP:0000126) (observed)</td>\n",
       "      <td>2</td>\n",
       "    </tr>\n",
       "    <tr>\n",
       "      <th>1</th>\n",
       "      <td>Limb undergrowth (HP:0009826) (observed)</td>\n",
       "      <td>1</td>\n",
       "    </tr>\n",
       "    <tr>\n",
       "      <th>2</th>\n",
       "      <td>Intrauterine growth retardation (HP:0001511) (observed)</td>\n",
       "      <td>1</td>\n",
       "    </tr>\n",
       "  </tbody>\n",
       "</table>\n",
       "</div>"
      ],
      "text/plain": [
       "                                                   mapping count\n",
       "0                   Hydronephrosis (HP:0000126) (observed)     2\n",
       "1                 Limb undergrowth (HP:0009826) (observed)     1\n",
       "2  Intrauterine growth retardation (HP:0001511) (observed)     1"
      ]
     },
     "execution_count": 11,
     "metadata": {},
     "output_type": "execute_result"
    }
   ],
   "source": [
    "fetal_ultrasound_d = {'hydronephrosis': 'Hydronephrosis',\n",
    " 'short limbs': 'Limb undergrowth',\n",
    " 'severe IUGR': 'Intrauterine growth retardation',\n",
    " }\n",
    "excluded = {\n",
    "    'unremarkable': 'Intrauterine growth retardation'\n",
    "}\n",
    "fetal_ultrasoundMapper = OptionColumnMapper(column_name='Fetal ultrasound',concept_recognizer=hpo_cr, option_d=fetal_ultrasound_d)\n",
    "column_mapper_list.append(fetal_ultrasoundMapper)\n",
    "fetal_ultrasoundMapper.preview_column(df)"
   ]
  },
  {
   "cell_type": "code",
   "execution_count": 12,
   "id": "7c592383",
   "metadata": {},
   "outputs": [
    {
     "data": {
      "text/html": [
       "<div>\n",
       "<style scoped>\n",
       "    .dataframe tbody tr th:only-of-type {\n",
       "        vertical-align: middle;\n",
       "    }\n",
       "\n",
       "    .dataframe tbody tr th {\n",
       "        vertical-align: top;\n",
       "    }\n",
       "\n",
       "    .dataframe thead th {\n",
       "        text-align: right;\n",
       "    }\n",
       "</style>\n",
       "<table border=\"1\" class=\"dataframe\">\n",
       "  <thead>\n",
       "    <tr style=\"text-align: right;\">\n",
       "      <th></th>\n",
       "      <th>mapping</th>\n",
       "      <th>count</th>\n",
       "    </tr>\n",
       "  </thead>\n",
       "  <tbody>\n",
       "    <tr>\n",
       "      <th>0</th>\n",
       "      <td>Small for gestational age (HP:0001518) (observed)</td>\n",
       "      <td>2</td>\n",
       "    </tr>\n",
       "  </tbody>\n",
       "</table>\n",
       "</div>"
      ],
      "text/plain": [
       "                                             mapping count\n",
       "0  Small for gestational age (HP:0001518) (observed)     2"
      ]
     },
     "execution_count": 12,
     "metadata": {},
     "output_type": "execute_result"
    }
   ],
   "source": [
    "birth_weight_d = {\n",
    " '2180\\xa0g (−3.2 SD)': 'Small for gestational age',\n",
    " '000\\xa0g (−3.3 SD)': 'Small for gestational age',}\n",
    "birth_weightMapper = OptionColumnMapper(column_name='Birth weight',concept_recognizer=hpo_cr, option_d=birth_weight_d)\n",
    "column_mapper_list.append(birth_weightMapper)\n",
    "birth_weightMapper.preview_column(df)"
   ]
  },
  {
   "cell_type": "code",
   "execution_count": 13,
   "id": "20695fa0",
   "metadata": {},
   "outputs": [],
   "source": [
    "# Omitting these because we manually curated detailed phenotypes and added them to the input table\n",
    "#spine_anomaly_d \n",
    "#metaphyseal_anomaly_d = {'nan': 'PLACEHOLDER'}\n",
    "#epiphyseal_anomaly_d = {'+ (wrists)': 'PLACEHOLDER'}"
   ]
  },
  {
   "cell_type": "code",
   "execution_count": 14,
   "id": "3025ad6f",
   "metadata": {},
   "outputs": [
    {
     "data": {
      "text/html": [
       "<div>\n",
       "<style scoped>\n",
       "    .dataframe tbody tr th:only-of-type {\n",
       "        vertical-align: middle;\n",
       "    }\n",
       "\n",
       "    .dataframe tbody tr th {\n",
       "        vertical-align: top;\n",
       "    }\n",
       "\n",
       "    .dataframe thead th {\n",
       "        text-align: right;\n",
       "    }\n",
       "</style>\n",
       "<table border=\"1\" class=\"dataframe\">\n",
       "  <thead>\n",
       "    <tr style=\"text-align: right;\">\n",
       "      <th></th>\n",
       "      <th>mapping</th>\n",
       "      <th>count</th>\n",
       "    </tr>\n",
       "  </thead>\n",
       "  <tbody>\n",
       "    <tr>\n",
       "      <th>0</th>\n",
       "      <td>Motor delay (HP:0001270) (observed)</td>\n",
       "      <td>1</td>\n",
       "    </tr>\n",
       "    <tr>\n",
       "      <th>1</th>\n",
       "      <td>Delayed speech and language development (HP:0000750) (observed)</td>\n",
       "      <td>1</td>\n",
       "    </tr>\n",
       "    <tr>\n",
       "      <th>2</th>\n",
       "      <td>Generalized hypotonia (HP:0001290) (observed)</td>\n",
       "      <td>1</td>\n",
       "    </tr>\n",
       "    <tr>\n",
       "      <th>3</th>\n",
       "      <td>Global developmental delay (HP:0001263) (observed)</td>\n",
       "      <td>4</td>\n",
       "    </tr>\n",
       "    <tr>\n",
       "      <th>4</th>\n",
       "      <td>Autism (HP:0000717) (observed)</td>\n",
       "      <td>1</td>\n",
       "    </tr>\n",
       "    <tr>\n",
       "      <th>5</th>\n",
       "      <td>Intellectual disability, mild (HP:0001256) (observed)</td>\n",
       "      <td>2</td>\n",
       "    </tr>\n",
       "    <tr>\n",
       "      <th>6</th>\n",
       "      <td>Intellectual disability (HP:0001249) (observed)</td>\n",
       "      <td>2</td>\n",
       "    </tr>\n",
       "  </tbody>\n",
       "</table>\n",
       "</div>"
      ],
      "text/plain": [
       "                                                           mapping count\n",
       "0                              Motor delay (HP:0001270) (observed)     1\n",
       "1  Delayed speech and language development (HP:0000750) (observed)     1\n",
       "2                    Generalized hypotonia (HP:0001290) (observed)     1\n",
       "3               Global developmental delay (HP:0001263) (observed)     4\n",
       "4                                   Autism (HP:0000717) (observed)     1\n",
       "5            Intellectual disability, mild (HP:0001256) (observed)     2\n",
       "6                  Intellectual disability (HP:0001249) (observed)     2"
      ]
     },
     "execution_count": 14,
     "metadata": {},
     "output_type": "execute_result"
    }
   ],
   "source": [
    "id_gdd_d = {\n",
    " 'Motor delay': 'Motor delay',\n",
    " 'Delayed speech and language development': 'Delayed speech and language development',\n",
    " 'generalized hypotonia': 'Generalized hypotonia',\n",
    " 'Global developmental delay': 'Global developmental delay',\n",
    " 'Autism': 'Autism',\n",
    " 'Intellectual disability mild': 'Intellectual disability, mild',}\n",
    "id_gddMapper = OptionColumnMapper(column_name='Intellectual disability/developmental delay',\n",
    "                                  concept_recognizer=hpo_cr, option_d=id_gdd_d)\n",
    "column_mapper_list.append(id_gddMapper)\n",
    "id_gddMapper.preview_column(df)"
   ]
  },
  {
   "cell_type": "code",
   "execution_count": 15,
   "id": "68cddc81-38a5-4ef7-86d1-977f89d69f10",
   "metadata": {},
   "outputs": [],
   "source": [
    "ERI1_transcript=\"NM_153332.4\"\n",
    "vman = VariantManager(df=df,individual_column_name=\"individual_id\",allele_1_column_name=\"allele_1\",\n",
    "                     allele_2_column_name=\"allele_2\", gene_id=\"HGNC:23994\", gene_symbol=\"ERI1\",\n",
    "                     transcript=ERI1_transcript)"
   ]
  },
  {
   "cell_type": "code",
   "execution_count": 16,
   "id": "12eea9ce",
   "metadata": {},
   "outputs": [
    {
     "data": {
      "text/html": [
       "<div>\n",
       "<style scoped>\n",
       "    .dataframe tbody tr th:only-of-type {\n",
       "        vertical-align: middle;\n",
       "    }\n",
       "\n",
       "    .dataframe tbody tr th {\n",
       "        vertical-align: top;\n",
       "    }\n",
       "\n",
       "    .dataframe thead th {\n",
       "        text-align: right;\n",
       "    }\n",
       "</style>\n",
       "<table border=\"1\" class=\"dataframe\">\n",
       "  <thead>\n",
       "    <tr style=\"text-align: right;\">\n",
       "      <th></th>\n",
       "      <th>status</th>\n",
       "      <th>count</th>\n",
       "      <th>alleles</th>\n",
       "    </tr>\n",
       "  </thead>\n",
       "  <tbody>\n",
       "    <tr>\n",
       "      <th>0</th>\n",
       "      <td>mapped</td>\n",
       "      <td>11</td>\n",
       "      <td>c.464C&gt;T, c.582+1G&gt;A, c.893A&gt;G, c.893A&gt;C, c.352A&gt;T, c.401A&gt;G, c.730C&gt;T, c.450A&gt;T, c.514C&gt;T, c.895T&gt;C, c.62C&gt;A</td>\n",
       "    </tr>\n",
       "    <tr>\n",
       "      <th>1</th>\n",
       "      <td>unmapped</td>\n",
       "      <td>1</td>\n",
       "      <td>g.8783887_9068578del</td>\n",
       "    </tr>\n",
       "  </tbody>\n",
       "</table>\n",
       "</div>"
      ],
      "text/plain": [
       "     status  count  \\\n",
       "0    mapped     11   \n",
       "1  unmapped      1   \n",
       "\n",
       "                                                                                                         alleles  \n",
       "0  c.464C>T, c.582+1G>A, c.893A>G, c.893A>C, c.352A>T, c.401A>G, c.730C>T, c.450A>T, c.514C>T, c.895T>C, c.62C>A  \n",
       "1                                                                                           g.8783887_9068578del  "
      ]
     },
     "execution_count": 16,
     "metadata": {},
     "output_type": "execute_result"
    }
   ],
   "source": [
    "vman.to_summary()"
   ]
  },
  {
   "cell_type": "code",
   "execution_count": 17,
   "id": "8fbb5a19-f405-481c-8aeb-5d2c650d39b9",
   "metadata": {},
   "outputs": [
    {
     "data": {
      "text/html": [
       "<div>\n",
       "<style scoped>\n",
       "    .dataframe tbody tr th:only-of-type {\n",
       "        vertical-align: middle;\n",
       "    }\n",
       "\n",
       "    .dataframe tbody tr th {\n",
       "        vertical-align: top;\n",
       "    }\n",
       "\n",
       "    .dataframe thead th {\n",
       "        text-align: right;\n",
       "    }\n",
       "</style>\n",
       "<table border=\"1\" class=\"dataframe\">\n",
       "  <thead>\n",
       "    <tr style=\"text-align: right;\">\n",
       "      <th></th>\n",
       "      <th>status</th>\n",
       "      <th>count</th>\n",
       "      <th>alleles</th>\n",
       "    </tr>\n",
       "  </thead>\n",
       "  <tbody>\n",
       "    <tr>\n",
       "      <th>0</th>\n",
       "      <td>mapped</td>\n",
       "      <td>12</td>\n",
       "      <td>c.464C&gt;T, c.582+1G&gt;A, c.893A&gt;G, c.893A&gt;C, c.352A&gt;T, c.401A&gt;G, c.730C&gt;T, c.450A&gt;T, c.514C&gt;T, c.895T&gt;C, c.62C&gt;A, g.8783887_9068578del</td>\n",
       "    </tr>\n",
       "    <tr>\n",
       "      <th>1</th>\n",
       "      <td>unmapped</td>\n",
       "      <td>0</td>\n",
       "      <td></td>\n",
       "    </tr>\n",
       "  </tbody>\n",
       "</table>\n",
       "</div>"
      ],
      "text/plain": [
       "     status  count  \\\n",
       "0    mapped     12   \n",
       "1  unmapped      0   \n",
       "\n",
       "                                                                                                                               alleles  \n",
       "0  c.464C>T, c.582+1G>A, c.893A>G, c.893A>C, c.352A>T, c.401A>G, c.730C>T, c.450A>T, c.514C>T, c.895T>C, c.62C>A, g.8783887_9068578del  \n",
       "1                                                                                                                                       "
      ]
     },
     "execution_count": 17,
     "metadata": {},
     "output_type": "execute_result"
    }
   ],
   "source": [
    "vman.code_as_chromosomal_deletion({\"g.8783887_9068578del\"})\n",
    "vman.to_summary()"
   ]
  },
  {
   "cell_type": "code",
   "execution_count": 18,
   "id": "034417a3",
   "metadata": {},
   "outputs": [],
   "source": [
    "ageMapper = AgeColumnMapper.by_year('Age at last follow-up')\n",
    "#ageMapper.preview_column(df)\n",
    "sexMapper = SexColumnMapper(male_symbol='M', female_symbol='F', column_name='Sex')\n",
    "#sexMapper.preview_column(df)\n",
    "onsetMapper = AgeColumnMapper.hpo_onset(column_name=\"age_of_onset\")\n",
    "#onsetMapper.preview_column(df)"
   ]
  },
  {
   "cell_type": "markdown",
   "id": "dc6c2845",
   "metadata": {},
   "source": [
    "<h2>Disease diagnosis</h2>\n",
    "<p>Diseases related to ERI1 are currenttly not represented in OMIM. For this reason, we represent the diagnosis as preliminary below. The authors write:  SEMD was present in the five individuals with at least one missense variant (Table 1). In contrast, three individuals with ERI1 null mutations and the Eri1 KO mice showed a much milder skeletal phenotype without any evidence for SEMD, consistent with the two individuals reported previously, who had homozygous a 284 kb deletion and p.Lys118∗. Notably, of the five individuals with SEMD, three died within 2 years after birth, suggesting missense variants lead to a poor prognosis.</p>"
   ]
  },
  {
   "cell_type": "code",
   "execution_count": 19,
   "id": "8105d0f1",
   "metadata": {},
   "outputs": [],
   "source": [
    "encoder = CohortEncoder(df=df, \n",
    "                        hpo_cr=hpo_cr, \n",
    "                        column_mapper_list=column_mapper_list, \n",
    "                        individual_column_name=\"individual_id\", \n",
    "                        age_at_last_encounter_mapper=ageMapper, \n",
    "                        age_of_onset_mapper=onsetMapper,\n",
    "                        sexmapper=sexMapper,\n",
    "                        metadata=metadata)\n",
    "eri1 = Disease(disease_id='OMIM:608739', disease_label='ERI1-related disease')\n",
    "encoder.set_disease(eri1)"
   ]
  },
  {
   "cell_type": "code",
   "execution_count": 20,
   "id": "528b4519",
   "metadata": {},
   "outputs": [
    {
     "name": "stdout",
     "output_type": "stream",
     "text": [
      "Could not parse the following as ISO8601 ages: na (n=2)\n"
     ]
    }
   ],
   "source": [
    "individuals = encoder.get_individuals()"
   ]
  },
  {
   "cell_type": "code",
   "execution_count": 21,
   "id": "457df693-c316-4213-913b-c3288f6f7ef0",
   "metadata": {},
   "outputs": [],
   "source": [
    "patient_to_variant_d = defaultdict(list)\n",
    "for _, row in df.iterrows():\n",
    "    patient_id = row[\"individual_id\"]\n",
    "    a1 = row[\"allele_1\"]\n",
    "    a2 = row[\"allele_2\"]\n",
    "    patient_to_variant_d[patient_id].append(a1)\n",
    "    patient_to_variant_d[patient_id].append(a2)\n",
    "validated_var_d = vman.get_variant_d()"
   ]
  },
  {
   "cell_type": "code",
   "execution_count": 22,
   "id": "43084079",
   "metadata": {},
   "outputs": [],
   "source": [
    "for indi in individuals:\n",
    "    if indi.id not in patient_to_variant_d:\n",
    "        for k,v in patient_to_variant_d.items():\n",
    "            print(k, '-'.join(v))\n",
    "        raise ValueError(f\"Error, individual id \\\"{indi.id}\\\" without variant data\")\n",
    "    var_list = patient_to_variant_d.get(indi.id)\n",
    "    if len(var_list) != 2:\n",
    "        \n",
    "        raise ValueError(f\"Error, malformed variant list for {indi.id}\")\n",
    "    v1 = var_list[0]\n",
    "    v2 = var_list[1]\n",
    "    if v1 == v2:\n",
    "        if v1 == \"g.8783887_9068578del\":\n",
    "            #This is a whole-gene deletion\n",
    "            eri1_id = \"HGNC:23994\"\n",
    "            eri1_sumbol = \"ERI1\"\n",
    "            var = StructuralVariant.chromosomal_deletion(cell_contents=v1, gene_id=eri1_id, gene_symbol=eri1_sumbol)\n",
    "            var.set_homozygous()\n",
    "            indi.add_variant(var)\n",
    "        else:\n",
    "            vvar = validated_var_d.get(v1)\n",
    "            vvar.set_homozygous()\n",
    "            indi.add_variant(vvar)\n",
    "    else:\n",
    "        vvar1 = validated_var_d.get(v1)\n",
    "        vvar1.set_heterozygous()\n",
    "        indi.add_variant(vvar1)\n",
    "        vvar2 = validated_var_d.get(v2)\n",
    "        vvar2.set_heterozygous()\n",
    "        indi.add_variant(vvar2)     "
   ]
  },
  {
   "cell_type": "markdown",
   "id": "2ccf9fba-e065-43f5-b3d8-56cbfaefd4b3",
   "metadata": {},
   "source": [
    "# Validation"
   ]
  },
  {
   "cell_type": "code",
   "execution_count": 23,
   "id": "e4a3fc0a-33e6-41c7-8186-64d53b45ade3",
   "metadata": {},
   "outputs": [
    {
     "data": {
      "text/html": [
       "<h2>Cohort validation</h2>\n",
       "<p>Errors found with 10 of 10 phenopackets.</p>\n",
       "<table style=\"border: 2px solid black; align: \"left\">\n",
       "<caption>Error counts</caption>\n",
       "<tr><th style=\"text-align: left;font-weight: bold;\">Level</th><th style=\"text-align: left;font-weight: bold;\">Error category</th><th style=\"text-align: left;font-weight: bold;\">Count</th></tr>\n",
       "<tr><td style=\"text-align: left;\">WARNING</td><td style=\"text-align: left;\">REDUNDANT</td><td style=\"text-align: left;\">5</td></tr>\n",
       "<tr><td style=\"text-align: left;\">INFORMATION</td><td style=\"text-align: left;\">NOT_MEASURED</td><td style=\"text-align: left;\">444</td></tr>\n",
       "</table>\n",
       "<p>A total of 457 issues were fixed and no individual was removed from the cohort.</p>"
      ],
      "text/plain": [
       "<IPython.core.display.HTML object>"
      ]
     },
     "metadata": {},
     "output_type": "display_data"
    }
   ],
   "source": [
    "cvalidator = CohortValidator(cohort=individuals, ontology=hpo_ontology, min_hpo=1, allelic_requirement=AllelicRequirement.BI_ALLELIC)\n",
    "qc = QcVisualizer(cohort_validator=cvalidator)\n",
    "display(HTML(qc.to_summary_html()))"
   ]
  },
  {
   "cell_type": "code",
   "execution_count": 24,
   "id": "56b4344e",
   "metadata": {},
   "outputs": [
    {
     "data": {
      "text/html": [
       "<table style=\"border: 2px solid black; align: \"left\">\n",
       "<caption>10 phenopackets - PMID:37352860 (n=10)</caption>\n",
       "<tr><th style=\"text-align: left;font-weight: bold;\">Individual</th><th style=\"text-align: left;font-weight: bold;\">Disease</th><th style=\"text-align: left;font-weight: bold;\">Genotype</th><th style=\"text-align: left;font-weight: bold;\">Phenotypic features</th></tr>\n",
       "<tr><td style=\"text-align: left;\">Individual 1A (FEMALE; P28Y)</td><td style=\"text-align: left;\">ERI1-related disease (OMIM:608739)</td><td style=\"text-align: left;\"><ul> <li>NM_153332.4:c.450A>T (heterozygous)</li> <li>NM_153332.4:c.893A>G (heterozygous)</li> </ul></td><td style=\"text-align: left;\">Clinodactyly of the 5th finger (HP:0004209); Pes planus (HP:0001763); Long face (HP:0000276); Increased vertebral height (HP:0004570); Slender metacarpals (HP:0006236); Hydronephrosis (HP:0000126); Dislocated radial head (HP:0003083); Coarse facial features (HP:0000280); Asthma (HP:0002099); Proptosis (HP:0000520); Finger joint hypermobility (HP:0006094); Decreased body weight (HP:0004325); Hip pain (HP:0030838); Narrow face (HP:0000275); Limited elbow extension (HP:0001377); Scoliosis (HP:0002650); Low-set ears (HP:0000369); Cutaneous syndactyly (HP:0012725); Vesicoureteral reflux (HP:0000076); Conductive hearing impairment (HP:0000405); Hypernasal speech (HP:0001611); Short stature (HP:0004322); excluded: Platyspondyly (HP:0000926); excluded: Failure to thrive (HP:0001508)</td></tr>\n",
       "<tr><td style=\"text-align: left;\">Individual 1B (MALE; P26Y)</td><td style=\"text-align: left;\">ERI1-related disease (OMIM:608739)</td><td style=\"text-align: left;\"><ul> <li>NM_153332.4:c.450A>T (heterozygous)</li> <li>NM_153332.4:c.893A>G (heterozygous)</li> </ul></td><td style=\"text-align: left;\">Pes planus (HP:0001763); Patellar dislocation (HP:0002999); Narrow forehead (HP:0000341); Increased vertebral height (HP:0004570); Hip dislocation (HP:0002827); Slender metacarpals (HP:0006236); Hydronephrosis (HP:0000126); Pectus excavatum (HP:0000767); Coarse facial features (HP:0000280); Asthma (HP:0002099); Upslanted palpebral fissure (HP:0000582); Decreased body weight (HP:0004325); Velopharyngeal insufficiency (HP:0000220); Limited elbow extension (HP:0001377); High palate (HP:0000218); Scoliosis (HP:0002650); Low-set ears (HP:0000369); Tapered finger (HP:0001182); Cutaneous syndactyly (HP:0012725); Vesicoureteral reflux (HP:0000076); Conductive hearing impairment (HP:0000405); Hypernasal speech (HP:0001611); Short stature (HP:0004322); excluded: Platyspondyly (HP:0000926); excluded: Failure to thrive (HP:0001508)</td></tr>\n",
       "<tr><td style=\"text-align: left;\">Individual 2 (MALE; P3Y6M)</td><td style=\"text-align: left;\">ERI1-related disease (OMIM:608739)</td><td style=\"text-align: left;\"><ul> <li>NM_153332.4:c.464C>T (heterozygous)</li> <li>NM_153332.4:c.893A>C (heterozygous)</li> </ul></td><td style=\"text-align: left;\">Abnormal heart morphology (HP:0001627); Short stature (HP:0004322); Prominent forehead (HP:0011220); Depressed nasal bridge (HP:0005280); Micrognathia (HP:0000347); Cutaneous syndactyly (HP:0012725); Macrotia (HP:0000400); Narrow chest (HP:0000774); Pulmonary arterial hypertension (HP:0002092); Limb undergrowth (HP:0009826); Small for gestational age (HP:0001518); excluded: Platyspondyly (HP:0000926); excluded: Failure to thrive (HP:0001508)</td></tr>\n",
       "<tr><td style=\"text-align: left;\">Individual 3 (MALE; P3Y6M)</td><td style=\"text-align: left;\">ERI1-related disease (OMIM:608739)</td><td style=\"text-align: left;\"><ul> <li>NM_153332.4:c.401A>G (heterozygous)</li> <li>NM_153332.4:c.895T>C (heterozygous)</li> </ul></td><td style=\"text-align: left;\">Pulmonary arterial hypertension (HP:0002092); Tricuspid regurgitation (HP:0005180); Small for gestational age (HP:0001518); Oligodactyly (HP:0012165); Syndactyly (HP:0001159); Platyspondyly (HP:0000926); Short stature (HP:0004322); excluded: Failure to thrive (HP:0001508)</td></tr>\n",
       "<tr><td style=\"text-align: left;\">Individual 4 (MALE; P2Y)</td><td style=\"text-align: left;\">ERI1-related disease (OMIM:608739)</td><td style=\"text-align: left;\"><ul> <li>NM_153332.4:c.464C>T (heterozygous)</li> <li>NM_153332.4:c.62C>A (heterozygous)</li> </ul></td><td style=\"text-align: left;\">Delayed skeletal maturation (HP:0002750); Pectus carinatum (HP:0000768); Wormian bones (HP:0002645); Motor delay (HP:0001270); Hydronephrosis (HP:0000126); Failure to thrive (HP:0001508); Delayed speech and language development (HP:0000750); Intrauterine growth retardation (HP:0001511); Frontal bossing (HP:0002007); Abnormal heart morphology (HP:0001627); Trigonocephaly (HP:0000243); Sparse hair (HP:0008070); Low-set ears (HP:0000369); Global developmental delay (HP:0001263); Micrognathia (HP:0000347); Generalized hypotonia (HP:0001290); Osteopenia (HP:0000938); Vesicoureteral reflux (HP:0000076); Syndactyly (HP:0001159); Short stature (HP:0004322)</td></tr>\n",
       "<tr><td style=\"text-align: left;\">Individual 5 (FEMALE; P8Y)</td><td style=\"text-align: left;\">ERI1-related disease (OMIM:608739)</td><td style=\"text-align: left;\">NM_153332.4:c.514C>T (homozygous)</td><td style=\"text-align: left;\">Syndactyly (HP:0001159); Narrow forehead (HP:0000341); Inguinal hernia (HP:0000023); Ventricular septal defect (HP:0001629); Brachycephaly (HP:0000248); Anonychia (HP:0001798); Global developmental delay (HP:0001263); Autism (HP:0000717); excluded: Scoliosis (HP:0002650); excluded: Increased vertebral height (HP:0004570); excluded: Pectus excavatum (HP:0000767); excluded: Platyspondyly (HP:0000926); excluded: Pectus carinatum (HP:0000768); excluded: Wormian bones (HP:0002645); excluded: Osteopenia (HP:0000938); excluded: Delayed skeletal maturation (HP:0002750); excluded: Decreased body weight (HP:0004325); excluded: Short stature (HP:0004322)</td></tr>\n",
       "<tr><td style=\"text-align: left;\">Individual 6 (MALE; P13Y)</td><td style=\"text-align: left;\">ERI1-related disease (OMIM:608739)</td><td style=\"text-align: left;\">NM_153332.4:c.730C>T (homozygous)</td><td style=\"text-align: left;\">Low-set ears (HP:0000369); Strabismus (HP:0000486); Low anterior hairline (HP:0000294); Intellectual disability, mild (HP:0001256); excluded: Scoliosis (HP:0002650); excluded: Increased vertebral height (HP:0004570); excluded: Hip dislocation (HP:0002827); excluded: Patellar dislocation (HP:0002999); excluded: Pectus excavatum (HP:0000767); excluded: Platyspondyly (HP:0000926); excluded: Pectus carinatum (HP:0000768); excluded: Wormian bones (HP:0002645); excluded: Osteopenia (HP:0000938); excluded: Delayed skeletal maturation (HP:0002750); excluded: Decreased body weight (HP:0004325); excluded: Short stature (HP:0004322)</td></tr>\n",
       "<tr><td style=\"text-align: left;\">Individual 7 (FEMALE; P7Y)</td><td style=\"text-align: left;\">ERI1-related disease (OMIM:608739)</td><td style=\"text-align: left;\">NM_153332.4:c.582+1G>A (homozygous)</td><td style=\"text-align: left;\">Syndactyly (HP:0001159); Hydronephrosis (HP:0000126); Vesicoureteral reflux (HP:0000076); Epicanthus (HP:0000286); Intellectual disability, mild (HP:0001256); excluded: Increased vertebral height (HP:0004570); excluded: Hip dislocation (HP:0002827); excluded: Patellar dislocation (HP:0002999); excluded: Platyspondyly (HP:0000926); excluded: Pectus carinatum (HP:0000768); excluded: Wormian bones (HP:0002645); excluded: Osteopenia (HP:0000938); excluded: Delayed skeletal maturation (HP:0002750); excluded: Decreased body weight (HP:0004325); excluded: Short stature (HP:0004322)</td></tr>\n",
       "<tr><td style=\"text-align: left;\">Individual Hoxha (FEMALE; P7Y)</td><td style=\"text-align: left;\">ERI1-related disease (OMIM:608739)</td><td style=\"text-align: left;\">NM_153332.4:c.352A>T (homozygous)</td><td style=\"text-align: left;\">Intellectual disability (HP:0001249); Global developmental delay (HP:0001263); excluded: Failure to thrive (HP:0001508)</td></tr>\n",
       "<tr><td style=\"text-align: left;\">Individual Choucair (MALE; P5Y)</td><td style=\"text-align: left;\">ERI1-related disease (OMIM:608739)</td><td style=\"text-align: left;\">g.8783887_9068578del: chromosomal_deletion (SO:1000029)</td><td style=\"text-align: left;\">Syndactyly (HP:0001159); Abnormal heart morphology (HP:0001627); Short stature (HP:0004322); Intellectual disability (HP:0001249); Global developmental delay (HP:0001263)</td></tr>\n",
       "</table>"
      ],
      "text/plain": [
       "<IPython.core.display.HTML object>"
      ]
     },
     "metadata": {},
     "output_type": "display_data"
    }
   ],
   "source": [
    "table = PhenopacketTable(individual_list=individuals, metadata=metadata)\n",
    "display(HTML(table.to_html()))"
   ]
  },
  {
   "cell_type": "code",
   "execution_count": 25,
   "id": "5c7e6c9d",
   "metadata": {
    "scrolled": true
   },
   "outputs": [
    {
     "name": "stdout",
     "output_type": "stream",
     "text": [
      "We output 10 GA4GH phenopackets to the directory phenopackets\n"
     ]
    }
   ],
   "source": [
    "output_directory = \"phenopackets\"\n",
    "Individual.output_individuals_as_phenopackets(individual_list=individuals, \n",
    "                                             metadata=metadata,\n",
    "                                             outdir=output_directory)"
   ]
  },
  {
   "cell_type": "code",
   "execution_count": 26,
   "id": "33739618-8842-4c90-b00f-f1e8472012ab",
   "metadata": {},
   "outputs": [],
   "source": [
    "ppkt_list = [i.to_ga4gh_phenopacket(metadata=metadata) for i in individuals]"
   ]
  },
  {
   "cell_type": "code",
   "execution_count": 29,
   "id": "d63cea26-13d4-4d7f-a189-add009d6c18b",
   "metadata": {},
   "outputs": [],
   "source": [
    "builder = HpoaTableBuilder(phenopacket_list=ppkt_list)"
   ]
  },
  {
   "cell_type": "code",
   "execution_count": 30,
   "id": "ac858f61-f6ee-49f3-8470-e815b0ac1abf",
   "metadata": {},
   "outputs": [
    {
     "name": "stdout",
     "output_type": "stream",
     "text": [
      "We found a total of 66 unique HPO terms\n",
      "Extracted disease: ERI1-related disease (OMIM:608739)\n"
     ]
    },
    {
     "data": {
      "text/html": [
       "<div>\n",
       "<style scoped>\n",
       "    .dataframe tbody tr th:only-of-type {\n",
       "        vertical-align: middle;\n",
       "    }\n",
       "\n",
       "    .dataframe tbody tr th {\n",
       "        vertical-align: top;\n",
       "    }\n",
       "\n",
       "    .dataframe thead th {\n",
       "        text-align: right;\n",
       "    }\n",
       "</style>\n",
       "<table border=\"1\" class=\"dataframe\">\n",
       "  <thead>\n",
       "    <tr style=\"text-align: right;\">\n",
       "      <th></th>\n",
       "      <th>#diseaseID</th>\n",
       "      <th>diseaseName</th>\n",
       "      <th>phenotypeID</th>\n",
       "      <th>phenotypeName</th>\n",
       "      <th>onsetID</th>\n",
       "      <th>onsetName</th>\n",
       "      <th>frequency</th>\n",
       "      <th>sex</th>\n",
       "      <th>negation</th>\n",
       "      <th>modifier</th>\n",
       "      <th>description</th>\n",
       "      <th>publication</th>\n",
       "      <th>evidence</th>\n",
       "      <th>biocuration</th>\n",
       "    </tr>\n",
       "  </thead>\n",
       "  <tbody>\n",
       "    <tr>\n",
       "      <th>0</th>\n",
       "      <td>OMIM:608739</td>\n",
       "      <td>ERI1-related disease</td>\n",
       "      <td>HP:0004209</td>\n",
       "      <td>Clinodactyly of the 5th finger</td>\n",
       "      <td></td>\n",
       "      <td></td>\n",
       "      <td>1/1</td>\n",
       "      <td></td>\n",
       "      <td></td>\n",
       "      <td></td>\n",
       "      <td></td>\n",
       "      <td>PMID:37352860</td>\n",
       "      <td>PCS</td>\n",
       "      <td>ORCID:0000-0002-0736-9199</td>\n",
       "    </tr>\n",
       "    <tr>\n",
       "      <th>1</th>\n",
       "      <td>OMIM:608739</td>\n",
       "      <td>ERI1-related disease</td>\n",
       "      <td>HP:0001763</td>\n",
       "      <td>Pes planus</td>\n",
       "      <td></td>\n",
       "      <td></td>\n",
       "      <td>2/2</td>\n",
       "      <td></td>\n",
       "      <td></td>\n",
       "      <td></td>\n",
       "      <td></td>\n",
       "      <td>PMID:37352860</td>\n",
       "      <td>PCS</td>\n",
       "      <td>ORCID:0000-0002-0736-9199</td>\n",
       "    </tr>\n",
       "    <tr>\n",
       "      <th>2</th>\n",
       "      <td>OMIM:608739</td>\n",
       "      <td>ERI1-related disease</td>\n",
       "      <td>HP:0000276</td>\n",
       "      <td>Long face</td>\n",
       "      <td></td>\n",
       "      <td></td>\n",
       "      <td>1/1</td>\n",
       "      <td></td>\n",
       "      <td></td>\n",
       "      <td></td>\n",
       "      <td></td>\n",
       "      <td>PMID:37352860</td>\n",
       "      <td>PCS</td>\n",
       "      <td>ORCID:0000-0002-0736-9199</td>\n",
       "    </tr>\n",
       "    <tr>\n",
       "      <th>3</th>\n",
       "      <td>OMIM:608739</td>\n",
       "      <td>ERI1-related disease</td>\n",
       "      <td>HP:0004570</td>\n",
       "      <td>Increased vertebral height</td>\n",
       "      <td></td>\n",
       "      <td></td>\n",
       "      <td>2/5</td>\n",
       "      <td></td>\n",
       "      <td></td>\n",
       "      <td></td>\n",
       "      <td></td>\n",
       "      <td>PMID:37352860</td>\n",
       "      <td>PCS</td>\n",
       "      <td>ORCID:0000-0002-0736-9199</td>\n",
       "    </tr>\n",
       "    <tr>\n",
       "      <th>4</th>\n",
       "      <td>OMIM:608739</td>\n",
       "      <td>ERI1-related disease</td>\n",
       "      <td>HP:0006236</td>\n",
       "      <td>Slender metacarpals</td>\n",
       "      <td></td>\n",
       "      <td></td>\n",
       "      <td>2/2</td>\n",
       "      <td></td>\n",
       "      <td></td>\n",
       "      <td></td>\n",
       "      <td></td>\n",
       "      <td>PMID:37352860</td>\n",
       "      <td>PCS</td>\n",
       "      <td>ORCID:0000-0002-0736-9199</td>\n",
       "    </tr>\n",
       "  </tbody>\n",
       "</table>\n",
       "</div>"
      ],
      "text/plain": [
       "    #diseaseID           diseaseName phenotypeID  \\\n",
       "0  OMIM:608739  ERI1-related disease  HP:0004209   \n",
       "1  OMIM:608739  ERI1-related disease  HP:0001763   \n",
       "2  OMIM:608739  ERI1-related disease  HP:0000276   \n",
       "3  OMIM:608739  ERI1-related disease  HP:0004570   \n",
       "4  OMIM:608739  ERI1-related disease  HP:0006236   \n",
       "\n",
       "                    phenotypeName onsetID onsetName frequency sex negation  \\\n",
       "0  Clinodactyly of the 5th finger                         1/1                \n",
       "1                      Pes planus                         2/2                \n",
       "2                       Long face                         1/1                \n",
       "3      Increased vertebral height                         2/5                \n",
       "4             Slender metacarpals                         2/2                \n",
       "\n",
       "  modifier description    publication evidence                biocuration  \n",
       "0                       PMID:37352860      PCS  ORCID:0000-0002-0736-9199  \n",
       "1                       PMID:37352860      PCS  ORCID:0000-0002-0736-9199  \n",
       "2                       PMID:37352860      PCS  ORCID:0000-0002-0736-9199  \n",
       "3                       PMID:37352860      PCS  ORCID:0000-0002-0736-9199  \n",
       "4                       PMID:37352860      PCS  ORCID:0000-0002-0736-9199  "
      ]
     },
     "execution_count": 30,
     "metadata": {},
     "output_type": "execute_result"
    }
   ],
   "source": [
    "PMID = \"PMID:37352860\" \n",
    "builder.autosomal_recessive(PMID)\n",
    "hpoa_table_creator = builder.build()\n",
    "df = hpoa_table_creator.get_dataframe()\n",
    "df.head()"
   ]
  },
  {
   "cell_type": "code",
   "execution_count": 31,
   "id": "b33b007e-666c-4cbe-9872-ad60609a5328",
   "metadata": {},
   "outputs": [
    {
     "name": "stdout",
     "output_type": "stream",
     "text": [
      "Wrote HPOA disease file to OMIM-608739.tab\n"
     ]
    }
   ],
   "source": [
    "hpoa_table_creator.write_data_frame()"
   ]
  },
  {
   "cell_type": "code",
   "execution_count": null,
   "id": "0622cabf-1a4e-4834-a490-d03739ff0e02",
   "metadata": {},
   "outputs": [],
   "source": []
  }
 ],
 "metadata": {
  "kernelspec": {
   "display_name": "Python 3 (ipykernel)",
   "language": "python",
   "name": "python3"
  },
  "language_info": {
   "codemirror_mode": {
    "name": "ipython",
    "version": 3
   },
   "file_extension": ".py",
   "mimetype": "text/x-python",
   "name": "python",
   "nbconvert_exporter": "python",
   "pygments_lexer": "ipython3",
   "version": "3.8.10"
  }
 },
 "nbformat": 4,
 "nbformat_minor": 5
}
