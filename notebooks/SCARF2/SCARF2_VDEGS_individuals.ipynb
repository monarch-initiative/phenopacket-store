{
 "cells": [
  {
   "cell_type": "markdown",
   "metadata": {},
   "source": [
    "# SCARF2\n",
    "[van den Ende-Gupta syndrome (VDEGS)](https://omim.org/entry/600920) is caused by homozygous mutation in the SCARF2 gene."
   ]
  },
  {
   "cell_type": "code",
   "execution_count": 4,
   "metadata": {},
   "outputs": [
    {
     "name": "stdout",
     "output_type": "stream",
     "text": [
      "Using pyphetools version 0.9.86\n"
     ]
    }
   ],
   "source": [
    "from pyphetools.creation import TemplateImporter\n",
    "from pyphetools.visualization import IndividualTable, QcVisualizer\n",
    "from IPython.display import display, HTML\n",
    "import pyphetools\n",
    "print(f\"Using pyphetools version {pyphetools.__version__}\")"
   ]
  },
  {
   "cell_type": "code",
   "execution_count": 6,
   "metadata": {},
   "outputs": [],
   "source": [
    "template = \"input/SCARF2_VDEGS_individuals.xlsx\"\n",
    "created_by = \"0000-0002-0736-9199\""
   ]
  },
  {
   "cell_type": "code",
   "execution_count": 12,
   "metadata": {},
   "outputs": [
    {
     "name": "stdout",
     "output_type": "stream",
     "text": [
      "HPO version 2024-04-26\n",
      "Created encoders for 71 fields\n",
      "Importing OMIM:600920, Van den Ende-Gupta syndrome, HGNC:19869, SCARF2,  NM_182895.5\n",
      "We output 6 GA4GH phenopackets to the directory phenopackets\n"
     ]
    }
   ],
   "source": [
    "timporter = TemplateImporter(template=template,  created_by=created_by)\n",
    "individual_list, cvalidator = timporter.import_phenopackets_from_template()"
   ]
  },
  {
   "cell_type": "code",
   "execution_count": 13,
   "metadata": {},
   "outputs": [
    {
     "data": {
      "text/html": [
       "<h2>Cohort validation</h2>\n",
       "<p>No errors found for the cohort with 6 individuals</p>"
      ],
      "text/plain": [
       "<IPython.core.display.HTML object>"
      ]
     },
     "metadata": {},
     "output_type": "display_data"
    }
   ],
   "source": [
    "qc = QcVisualizer(cohort_validator=cvalidator)\n",
    "display(HTML(qc.to_summary_html()))"
   ]
  },
  {
   "cell_type": "code",
   "execution_count": 14,
   "metadata": {},
   "outputs": [
    {
     "data": {
      "text/html": [
       "<table style=\"border: 2px solid black; align: \"left\">\n",
       "<caption>6 phenopackets - PMID:20887961 (n=4); PMID:29378527 (n=2)</caption>\n",
       "<tr><th style=\"text-align: left;font-weight: bold;\">Individual</th><th style=\"text-align: left;font-weight: bold;\">Disease</th><th style=\"text-align: left;font-weight: bold;\">Genotype</th><th style=\"text-align: left;font-weight: bold;\">Phenotypic features</th></tr>\n",
       "<tr><td style=\"text-align: left;\">Patient 1 (MALE; n/a)</td><td style=\"text-align: left;\">Van den Ende-Gupta syndrome (OMIM:600920)</td><td style=\"text-align: left;\">NM_182895.5:c.773G>A (homozygous)</td><td style=\"text-align: left;\">Camptodactyly (HP:0012385); Tapered finger (HP:0001182); Elbow contracture (HP:0034391); Radioulnar subluxation (HP:6000506); Long hallux (HP:0001847); Blepharophimosis (HP:0000581); Convex nasal ridge (HP:0000444); Hypoplasia of the maxilla (HP:0000327); Posteriorly rotated ears (HP:0000358); Overfolded helix (HP:0000396); Narrow mouth (HP:0000160); Scaphocephaly (HP:0030799); Everted lower lip vermilion (HP:0000232); High palate (HP:0000218); excluded: Sacral dimple (HP:0000960); excluded: Hypoplastic scapulae (HP:0000882); excluded: Short clavicles (HP:0000894); excluded: Short ribs (HP:0000773)</td></tr>\n",
       "<tr><td style=\"text-align: left;\">Patient 2 (FEMALE; n/a)</td><td style=\"text-align: left;\">Van den Ende-Gupta syndrome (OMIM:600920)</td><td style=\"text-align: left;\">NM_182895.5:c.773G>A (homozygous)</td><td style=\"text-align: left;\">Camptodactyly (HP:0012385); Tapered finger (HP:0001182); Elbow contracture (HP:0034391); Blepharophimosis (HP:0000581); Convex nasal ridge (HP:0000444); Hypoplasia of the maxilla (HP:0000327); Posteriorly rotated ears (HP:0000358); Overfolded helix (HP:0000396); Narrow mouth (HP:0000160); Scaphocephaly (HP:0030799); Everted lower lip vermilion (HP:0000232); High palate (HP:0000218); Micrognathia (HP:0000347); Sacral dimple (HP:0000960); excluded: Hypoplastic scapulae (HP:0000882); excluded: Short clavicles (HP:0000894); excluded: Short ribs (HP:0000773)</td></tr>\n",
       "<tr><td style=\"text-align: left;\">Patient 3 (FEMALE; n/a)</td><td style=\"text-align: left;\">Van den Ende-Gupta syndrome (OMIM:600920)</td><td style=\"text-align: left;\">NM_182895.5:c.1328_1329del (homozygous)</td><td style=\"text-align: left;\">Camptodactyly (HP:0012385); Tapered finger (HP:0001182); Elbow contracture (HP:0034391); Radioulnar subluxation (HP:6000506); Long hallux (HP:0001847); Blepharophimosis (HP:0000581); Convex nasal ridge (HP:0000444); Hypoplasia of the maxilla (HP:0000327); Posteriorly rotated ears (HP:0000358); Overfolded helix (HP:0000396); Narrow mouth (HP:0000160); Scaphocephaly (HP:0030799); Everted lower lip vermilion (HP:0000232); High palate (HP:0000218); Hypoplastic scapulae (HP:0000882); Short clavicles (HP:0000894); Short ribs (HP:0000773); excluded: Sacral dimple (HP:0000960)</td></tr>\n",
       "<tr><td style=\"text-align: left;\">Patient 4 (MALE; n/a)</td><td style=\"text-align: left;\">Van den Ende-Gupta syndrome (OMIM:600920)</td><td style=\"text-align: left;\">NM_182895.5:c.1328_1329del (homozygous)</td><td style=\"text-align: left;\">Camptodactyly (HP:0012385); Tapered finger (HP:0001182); Elbow contracture (HP:0034391); Radioulnar subluxation (HP:6000506); Long hallux (HP:0001847); Blepharophimosis (HP:0000581); Convex nasal ridge (HP:0000444); Hypoplasia of the maxilla (HP:0000327); Posteriorly rotated ears (HP:0000358); Overfolded helix (HP:0000396); Narrow mouth (HP:0000160); Scaphocephaly (HP:0030799); Everted lower lip vermilion (HP:0000232); High palate (HP:0000218); excluded: Sacral dimple (HP:0000960); excluded: Hypoplastic scapulae (HP:0000882); excluded: Short clavicles (HP:0000894); excluded: Short ribs (HP:0000773)</td></tr>\n",
       "<tr><td style=\"text-align: left;\">male sinbling (MALE; P11Y)</td><td style=\"text-align: left;\">Van den Ende-Gupta syndrome (OMIM:600920)</td><td style=\"text-align: left;\">NM_182895.5:c.773G>A (homozygous)</td><td style=\"text-align: left;\">Camptodactyly (HP:0012385); Distal ulnar hypoplasia (HP:0005033); Elbow contracture (HP:0034391); Radioulnar subluxation (HP:6000506); Hallux valgus (HP:0001822); Blepharophimosis (HP:0000581); Hypoplasia of the maxilla (HP:0000327); Narrow nose (HP:0000460); Depressed nasal bridge (HP:0005280); Everted lower lip vermilion (HP:0000232); High palate (HP:0000218); Triangular face (HP:0000325); Joint hypermobility (HP:0001382); Genu valgum (HP:0002857); Recurrent patellar dislocation (HP:0005001); Pes planus (HP:0001763); Lateral clavicle hook (HP:0000895); excluded: Posteriorly rotated ears (HP:0000358); excluded: Overfolded helix (HP:0000396)</td></tr>\n",
       "<tr><td style=\"text-align: left;\">female sibling (FEMALE; P15Y)</td><td style=\"text-align: left;\">Van den Ende-Gupta syndrome (OMIM:600920)</td><td style=\"text-align: left;\">NM_182895.5:c.773G>A (homozygous)</td><td style=\"text-align: left;\">Camptodactyly (HP:0012385); Distal ulnar hypoplasia (HP:0005033); Elbow contracture (HP:0034391); Radioulnar subluxation (HP:6000506); Hallux valgus (HP:0001822); Blepharophimosis (HP:0000581); Hypoplasia of the maxilla (HP:0000327); Narrow nose (HP:0000460); Depressed nasal bridge (HP:0005280); Everted lower lip vermilion (HP:0000232); High palate (HP:0000218); Triangular face (HP:0000325); Joint hypermobility (HP:0001382); Genu valgum (HP:0002857); Recurrent patellar dislocation (HP:0005001); Pes planus (HP:0001763); Lateral clavicle hook (HP:0000895); excluded: Posteriorly rotated ears (HP:0000358); excluded: Overfolded helix (HP:0000396)</td></tr>\n",
       "</table>"
      ],
      "text/plain": [
       "<IPython.core.display.HTML object>"
      ]
     },
     "metadata": {},
     "output_type": "display_data"
    }
   ],
   "source": [
    "table = IndividualTable(cvalidator.get_error_free_individual_list())\n",
    "display(HTML(table.to_html()))"
   ]
  },
  {
   "cell_type": "code",
   "execution_count": 16,
   "metadata": {},
   "outputs": [
    {
     "name": "stdout",
     "output_type": "stream",
     "text": [
      "[pyphetools] Ingested 6 GA4GH phenopackets.\n",
      "\tVan den Ende-Gupta syndrome (OMIM:600920): n=6\n",
      "We found a total of 29 unique HPO terms\n",
      "Extracted disease: Van den Ende-Gupta syndrome (OMIM:600920)\n",
      "Wrote HPOA disease file to OMIM-600920.tab\n"
     ]
    }
   ],
   "source": [
    "pmid = \"PMID:20887961\"\n",
    "df = timporter.create_hpoa_from_phenopackets(pmid=pmid, moi=\"Autosomal recessive\")"
   ]
  }
 ],
 "metadata": {
  "kernelspec": {
   "display_name": "ps24venv",
   "language": "python",
   "name": "python3"
  },
  "language_info": {
   "codemirror_mode": {
    "name": "ipython",
    "version": 3
   },
   "file_extension": ".py",
   "mimetype": "text/x-python",
   "name": "python",
   "nbconvert_exporter": "python",
   "pygments_lexer": "ipython3",
   "version": "3.9.6"
  }
 },
 "nbformat": 4,
 "nbformat_minor": 2
}
