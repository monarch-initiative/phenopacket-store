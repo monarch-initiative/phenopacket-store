{
 "cells": [
  {
   "cell_type": "markdown",
   "id": "a39f3c65",
   "metadata": {},
   "source": [
    "<h1>ZTTK syndrome (Dingemans, et al., 2022)</h1>\n",
    "<p>We will process <a href=\"https://pubmed.ncbi.nlm.nih.gov/34521999/\" target=\"__blank\">Dingemans, et al. (2022) Establishing the phenotypic spectrum of ZTTK syndrome by analysis of 52 individuals with variants in SON</a></p>\n",
    "<p>Phenotypic abnormalities, systematically collected and analyzed in Human Phenotype Ontology, were found in all organ systems. Significant inter-individual phenotypic variability was observed, even in individuals with the same recurrent variant (n = 13). SON haploinsufficiency was previously shown to lead to downregulation of downstream genes, contributing to specific phenotypic features. Similar functional analysis for one missense variant, however, suggests a different mechanism than for heterozygous loss-of-function..</p>"
   ]
  },
  {
   "cell_type": "code",
   "execution_count": 1,
   "id": "f0602c0e",
   "metadata": {},
   "outputs": [
    {
     "name": "stdout",
     "output_type": "stream",
     "text": [
      "Using pyphetools version 0.9.66\n"
     ]
    }
   ],
   "source": [
    "import pandas as pd\n",
    "pd.set_option('display.max_colwidth', None) # show entire column contents, important!\n",
    "from IPython.display import display, HTML\n",
    "from pyphetools.creation import *\n",
    "from pyphetools.visualization import *\n",
    "from pyphetools.validation import *\n",
    "import pyphetools\n",
    "print(f\"Using pyphetools version {pyphetools.__version__}\")"
   ]
  },
  {
   "cell_type": "markdown",
   "id": "8606e7eb",
   "metadata": {},
   "source": [
    "<h2>Importing HPO data</h2>"
   ]
  },
  {
   "cell_type": "code",
   "execution_count": 2,
   "id": "5a7789fc",
   "metadata": {},
   "outputs": [
    {
     "name": "stdout",
     "output_type": "stream",
     "text": [
      "HPO version 2024-03-06\n"
     ]
    }
   ],
   "source": [
    "PMID = \"PMID:34521999\"\n",
    "title = \"Establishing the phenotypic spectrum of ZTTK syndrome by analysis of 52 individuals with variants in SON\"\n",
    "cite = Citation(pmid=PMID, title=title)\n",
    "metadata = MetaData(created_by=\"ORCID:0000-0002-5648-2155\", citation=cite)\n",
    "parser = HpoParser(hpo_json_file=\"../hp.json\")\n",
    "hpo_cr = parser.get_hpo_concept_recognizer()\n",
    "hpo_version = parser.get_version()\n",
    "hpo_ontology = parser.get_ontology()\n",
    "metadata.default_versions_with_hpo(version=hpo_version)\n",
    "print(f\"HPO version {hpo_version}\")"
   ]
  },
  {
   "cell_type": "markdown",
   "id": "5102722a",
   "metadata": {},
   "source": [
    "<h2>Importing the supplemental table</h2>"
   ]
  },
  {
   "cell_type": "code",
   "execution_count": 3,
   "id": "f17c3924",
   "metadata": {},
   "outputs": [],
   "source": [
    "df = pd.read_excel('input/PMID_34521999.xlsx')"
   ]
  },
  {
   "cell_type": "code",
   "execution_count": 4,
   "id": "06ec7dbd",
   "metadata": {},
   "outputs": [
    {
     "data": {
      "text/html": [
       "<div>\n",
       "<style scoped>\n",
       "    .dataframe tbody tr th:only-of-type {\n",
       "        vertical-align: middle;\n",
       "    }\n",
       "\n",
       "    .dataframe tbody tr th {\n",
       "        vertical-align: top;\n",
       "    }\n",
       "\n",
       "    .dataframe thead th {\n",
       "        text-align: right;\n",
       "    }\n",
       "</style>\n",
       "<table border=\"1\" class=\"dataframe\">\n",
       "  <thead>\n",
       "    <tr style=\"text-align: right;\">\n",
       "      <th></th>\n",
       "      <th></th>\n",
       "      <th>1</th>\n",
       "      <th>2</th>\n",
       "      <th>3</th>\n",
       "      <th>4</th>\n",
       "      <th>5</th>\n",
       "      <th>6</th>\n",
       "      <th>7</th>\n",
       "      <th>8</th>\n",
       "      <th>9</th>\n",
       "      <th>...</th>\n",
       "      <th>43</th>\n",
       "      <th>44</th>\n",
       "      <th>45</th>\n",
       "      <th>46</th>\n",
       "      <th>47</th>\n",
       "      <th>48</th>\n",
       "      <th>49</th>\n",
       "      <th>50</th>\n",
       "      <th>51</th>\n",
       "      <th>52</th>\n",
       "    </tr>\n",
       "  </thead>\n",
       "  <tbody>\n",
       "    <tr>\n",
       "      <th>0</th>\n",
       "      <td>Gender</td>\n",
       "      <td>Male</td>\n",
       "      <td>Male</td>\n",
       "      <td>Female</td>\n",
       "      <td>Female</td>\n",
       "      <td>Male</td>\n",
       "      <td>Female</td>\n",
       "      <td>Male</td>\n",
       "      <td>Male</td>\n",
       "      <td>Female</td>\n",
       "      <td>...</td>\n",
       "      <td>Female</td>\n",
       "      <td>Female</td>\n",
       "      <td>Female</td>\n",
       "      <td>Female</td>\n",
       "      <td>Female</td>\n",
       "      <td>Female</td>\n",
       "      <td>Female</td>\n",
       "      <td>Male</td>\n",
       "      <td>Female</td>\n",
       "      <td>Male</td>\n",
       "    </tr>\n",
       "    <tr>\n",
       "      <th>1</th>\n",
       "      <td>Age at examination</td>\n",
       "      <td>5 years</td>\n",
       "      <td>2 years</td>\n",
       "      <td>2 years</td>\n",
       "      <td>4 years and 4 months</td>\n",
       "      <td>9 years and 11 months</td>\n",
       "      <td>15 years</td>\n",
       "      <td>7 years</td>\n",
       "      <td>3 years and 3 months</td>\n",
       "      <td>4 years</td>\n",
       "      <td>...</td>\n",
       "      <td>9 years</td>\n",
       "      <td>5 years</td>\n",
       "      <td>9 years</td>\n",
       "      <td>3 years</td>\n",
       "      <td>9 years</td>\n",
       "      <td>15 years</td>\n",
       "      <td>3 years</td>\n",
       "      <td>23 years</td>\n",
       "      <td>6 years</td>\n",
       "      <td>3 years and 5 months</td>\n",
       "    </tr>\n",
       "    <tr>\n",
       "      <th>2</th>\n",
       "      <td>Genomic position</td>\n",
       "      <td>g.34927290_34927293del</td>\n",
       "      <td>g.34927290_34927293del</td>\n",
       "      <td>g.34927290_34927293del</td>\n",
       "      <td>g.34924740C&gt;G</td>\n",
       "      <td>g.34921994del</td>\n",
       "      <td>g.34921921del</td>\n",
       "      <td>g.34783136_34975848del</td>\n",
       "      <td>g.34927547del</td>\n",
       "      <td>g.34925248del</td>\n",
       "      <td>...</td>\n",
       "      <td>g.34923418_34923419del</td>\n",
       "      <td>g.34927086_34927087del</td>\n",
       "      <td>g.34925389_34925393del</td>\n",
       "      <td>g.34927065C&gt;A</td>\n",
       "      <td>g.34924610dup</td>\n",
       "      <td>g.34927290_34927293del</td>\n",
       "      <td>g.34921823C&gt;T</td>\n",
       "      <td>g.34929534del</td>\n",
       "      <td>g.34927290_34927293del</td>\n",
       "      <td>g.34926456_34926460del</td>\n",
       "    </tr>\n",
       "    <tr>\n",
       "      <th>3</th>\n",
       "      <td>cDNA change</td>\n",
       "      <td>c.5753_5756del</td>\n",
       "      <td>c.5753_5756del</td>\n",
       "      <td>c.5753_5756del</td>\n",
       "      <td>c.3203C&gt;G</td>\n",
       "      <td>c.457del</td>\n",
       "      <td>c.384del</td>\n",
       "      <td>0.19Mb deletion</td>\n",
       "      <td>c.6010del</td>\n",
       "      <td>c.3711del</td>\n",
       "      <td>...</td>\n",
       "      <td>c.1881_1882del</td>\n",
       "      <td>c.5549_5550del</td>\n",
       "      <td>c.3852_3856del</td>\n",
       "      <td>c.5528C&gt;A</td>\n",
       "      <td>c.3073dup</td>\n",
       "      <td>c.5753_5756del</td>\n",
       "      <td>c.286C&gt;T</td>\n",
       "      <td>c.6233del</td>\n",
       "      <td>c.5753_5756del</td>\n",
       "      <td>c.4919_4923del</td>\n",
       "    </tr>\n",
       "    <tr>\n",
       "      <th>4</th>\n",
       "      <td>Predicted protein effect</td>\n",
       "      <td>p.(Val1918Glufs*87)</td>\n",
       "      <td>p.(Val1918Glufs*87)</td>\n",
       "      <td>p.(Val1918Glufs*87)</td>\n",
       "      <td>p.(Ser1068*)</td>\n",
       "      <td>p.(Asp153Ilefs*4)</td>\n",
       "      <td>p.(Lys128Asnfs*21)</td>\n",
       "      <td>NaN</td>\n",
       "      <td>p.(Val2004Trpfs*2)</td>\n",
       "      <td>p.(Ser1238Glnfs*3)</td>\n",
       "      <td>...</td>\n",
       "      <td>p.(Val629Alafs*56)</td>\n",
       "      <td>p.(Arg1850Ilefs*3)</td>\n",
       "      <td>p.(Met1284Ilefs*2)</td>\n",
       "      <td>p.(Ser1843Tyr)</td>\n",
       "      <td>p.(Met1025Asnfs*6)</td>\n",
       "      <td>p.(Val1918Glufs*87)</td>\n",
       "      <td>p.(Gln96*)</td>\n",
       "      <td>p.(Pro2078Hisfs*4)</td>\n",
       "      <td>p.(Val1918Glufs*87)</td>\n",
       "      <td>p.(Asp1640Glyfs*7)</td>\n",
       "    </tr>\n",
       "  </tbody>\n",
       "</table>\n",
       "<p>5 rows × 53 columns</p>\n",
       "</div>"
      ],
      "text/plain": [
       "                                                  1                       2  \\\n",
       "0                    Gender                    Male                    Male   \n",
       "1        Age at examination                 5 years                 2 years   \n",
       "2         Genomic position   g.34927290_34927293del  g.34927290_34927293del   \n",
       "3               cDNA change          c.5753_5756del          c.5753_5756del   \n",
       "4  Predicted protein effect     p.(Val1918Glufs*87)     p.(Val1918Glufs*87)   \n",
       "\n",
       "                        3                     4                      5  \\\n",
       "0                  Female                Female                   Male   \n",
       "1                 2 years  4 years and 4 months  9 years and 11 months   \n",
       "2  g.34927290_34927293del         g.34924740C>G          g.34921994del   \n",
       "3          c.5753_5756del             c.3203C>G               c.457del   \n",
       "4     p.(Val1918Glufs*87)          p.(Ser1068*)      p.(Asp153Ilefs*4)   \n",
       "\n",
       "                    6                       7                     8  \\\n",
       "0              Female                    Male                  Male   \n",
       "1            15 years                 7 years  3 years and 3 months   \n",
       "2       g.34921921del  g.34783136_34975848del         g.34927547del   \n",
       "3            c.384del         0.19Mb deletion             c.6010del   \n",
       "4  p.(Lys128Asnfs*21)                     NaN    p.(Val2004Trpfs*2)   \n",
       "\n",
       "                    9  ...                      43                      44  \\\n",
       "0              Female  ...                  Female                  Female   \n",
       "1             4 years  ...                 9 years                 5 years   \n",
       "2       g.34925248del  ...  g.34923418_34923419del  g.34927086_34927087del   \n",
       "3           c.3711del  ...         c.1881_1882del           c.5549_5550del   \n",
       "4  p.(Ser1238Glnfs*3)  ...      p.(Val629Alafs*56)      p.(Arg1850Ilefs*3)   \n",
       "\n",
       "                       45              46                  47  \\\n",
       "0                  Female          Female              Female   \n",
       "1                 9 years         3 years             9 years   \n",
       "2  g.34925389_34925393del   g.34927065C>A       g.34924610dup   \n",
       "3          c.3852_3856del       c.5528C>A           c.3073dup   \n",
       "4      p.(Met1284Ilefs*2)  p.(Ser1843Tyr)  p.(Met1025Asnfs*6)   \n",
       "\n",
       "                       48             49                  50  \\\n",
       "0                  Female         Female                Male   \n",
       "1                15 years        3 years            23 years   \n",
       "2  g.34927290_34927293del  g.34921823C>T       g.34929534del   \n",
       "3          c.5753_5756del       c.286C>T           c.6233del   \n",
       "4     p.(Val1918Glufs*87)     p.(Gln96*)  p.(Pro2078Hisfs*4)   \n",
       "\n",
       "                       51                      52  \n",
       "0                  Female                    Male  \n",
       "1                 6 years    3 years and 5 months  \n",
       "2  g.34927290_34927293del  g.34926456_34926460del  \n",
       "3          c.5753_5756del          c.4919_4923del  \n",
       "4     p.(Val1918Glufs*87)      p.(Asp1640Glyfs*7)  \n",
       "\n",
       "[5 rows x 53 columns]"
      ]
     },
     "execution_count": 4,
     "metadata": {},
     "output_type": "execute_result"
    }
   ],
   "source": [
    "df.head()"
   ]
  },
  {
   "cell_type": "markdown",
   "id": "f7f7bad9",
   "metadata": {},
   "source": [
    "<h1>Converting to row-based format</h1>\n",
    "<p>For this specific case, there is a Count features row that we want dropped, so we filter out any row that does not have Patient in the first column.</p> \n",
    "<p>Some column names might include spaces in front or after, and a couple of columns are subheadings and only contain NaNs, so lets correct that</p>"
   ]
  },
  {
   "cell_type": "code",
   "execution_count": 5,
   "id": "c85c793f",
   "metadata": {},
   "outputs": [
    {
     "data": {
      "text/html": [
       "<div>\n",
       "<style scoped>\n",
       "    .dataframe tbody tr th:only-of-type {\n",
       "        vertical-align: middle;\n",
       "    }\n",
       "\n",
       "    .dataframe tbody tr th {\n",
       "        vertical-align: top;\n",
       "    }\n",
       "\n",
       "    .dataframe thead th {\n",
       "        text-align: right;\n",
       "    }\n",
       "</style>\n",
       "<table border=\"1\" class=\"dataframe\">\n",
       "  <thead>\n",
       "    <tr style=\"text-align: right;\">\n",
       "      <th></th>\n",
       "      <th>Gender</th>\n",
       "      <th>Age at examination</th>\n",
       "      <th>Genomic position</th>\n",
       "      <th>cDNA change</th>\n",
       "      <th>Predicted protein effect</th>\n",
       "      <th>Other genomic variants potentially contributing to the phenotype</th>\n",
       "      <th>Head circumference (at birth) (HP:0011451 / HP:0004488)</th>\n",
       "      <th>Head circumference (HP:0000252 / HP:0000256)</th>\n",
       "      <th>Heigth (at birth) (HP:0003561 / HP:0003517)</th>\n",
       "      <th>Heigth (HP:0004322 / HP:0000098)</th>\n",
       "      <th>...</th>\n",
       "      <th>Abnormality of the immune system (HP:0002715)</th>\n",
       "      <th>Recurrent otitis media (HP:0000403)</th>\n",
       "      <th>Abnormality of the immunological system other</th>\n",
       "      <th>Abnormality of the endocrine system (HP:0000818)</th>\n",
       "      <th>Abnormality of metabolism/homeostasis (HP:0001939)</th>\n",
       "      <th>Neoplasia (HP:0002664)</th>\n",
       "      <th>Other</th>\n",
       "      <th>PMID</th>\n",
       "      <th>Description of the variants on genomic chromosomal level reported using NC_000021.8, and annotated based on NM_138927.2 unless indicated otherwise. Abbreviations: +, present; -, not present; NR, not reported; NA, not applicable; PMID, PubMed ID; U, unknown.</th>\n",
       "      <th>patient_id</th>\n",
       "    </tr>\n",
       "  </thead>\n",
       "  <tbody>\n",
       "    <tr>\n",
       "      <th>1</th>\n",
       "      <td>Male</td>\n",
       "      <td>5 years</td>\n",
       "      <td>g.34927290_34927293del</td>\n",
       "      <td>c.5753_5756del</td>\n",
       "      <td>p.(Val1918Glufs*87)</td>\n",
       "      <td>-</td>\n",
       "      <td>P3 - P98</td>\n",
       "      <td>P3 - P98</td>\n",
       "      <td>NR</td>\n",
       "      <td>P3 - P98</td>\n",
       "      <td>...</td>\n",
       "      <td>-</td>\n",
       "      <td>-</td>\n",
       "      <td>NaN</td>\n",
       "      <td>-</td>\n",
       "      <td>-</td>\n",
       "      <td>-</td>\n",
       "      <td>Pleural effusion,Wide intermamillary distance</td>\n",
       "      <td>NaN</td>\n",
       "      <td>NaN</td>\n",
       "      <td>1</td>\n",
       "    </tr>\n",
       "    <tr>\n",
       "      <th>2</th>\n",
       "      <td>Male</td>\n",
       "      <td>2 years</td>\n",
       "      <td>g.34927290_34927293del</td>\n",
       "      <td>c.5753_5756del</td>\n",
       "      <td>p.(Val1918Glufs*87)</td>\n",
       "      <td>-</td>\n",
       "      <td>NR</td>\n",
       "      <td>&gt; P98</td>\n",
       "      <td>P3 - P98</td>\n",
       "      <td>&lt; P3</td>\n",
       "      <td>...</td>\n",
       "      <td>-</td>\n",
       "      <td>-</td>\n",
       "      <td>NaN</td>\n",
       "      <td>-</td>\n",
       "      <td>-</td>\n",
       "      <td>-</td>\n",
       "      <td></td>\n",
       "      <td>NaN</td>\n",
       "      <td>NaN</td>\n",
       "      <td>2</td>\n",
       "    </tr>\n",
       "  </tbody>\n",
       "</table>\n",
       "<p>2 rows × 100 columns</p>\n",
       "</div>"
      ],
      "text/plain": [
       "  Gender Age at examination        Genomic position     cDNA change  \\\n",
       "1   Male            5 years  g.34927290_34927293del  c.5753_5756del   \n",
       "2   Male            2 years  g.34927290_34927293del  c.5753_5756del   \n",
       "\n",
       "  Predicted protein effect  \\\n",
       "1      p.(Val1918Glufs*87)   \n",
       "2      p.(Val1918Glufs*87)   \n",
       "\n",
       "  Other genomic variants potentially contributing to the phenotype  \\\n",
       "1                                                                -   \n",
       "2                                                                -   \n",
       "\n",
       "  Head circumference (at birth) (HP:0011451 / HP:0004488)  \\\n",
       "1                                                P3 - P98   \n",
       "2                                                      NR   \n",
       "\n",
       "  Head circumference (HP:0000252 / HP:0000256)  \\\n",
       "1                                     P3 - P98   \n",
       "2                                        > P98   \n",
       "\n",
       "  Heigth (at birth) (HP:0003561 / HP:0003517)  \\\n",
       "1                                          NR   \n",
       "2                                    P3 - P98   \n",
       "\n",
       "  Heigth (HP:0004322 / HP:0000098)  ...  \\\n",
       "1                         P3 - P98  ...   \n",
       "2                             < P3  ...   \n",
       "\n",
       "  Abnormality of the immune system (HP:0002715)  \\\n",
       "1                                             -   \n",
       "2                                             -   \n",
       "\n",
       "  Recurrent otitis media (HP:0000403)  \\\n",
       "1                                   -   \n",
       "2                                   -   \n",
       "\n",
       "  Abnormality of the immunological system other  \\\n",
       "1                                           NaN   \n",
       "2                                           NaN   \n",
       "\n",
       "  Abnormality of the endocrine system (HP:0000818)  \\\n",
       "1                                                -   \n",
       "2                                                -   \n",
       "\n",
       "  Abnormality of metabolism/homeostasis (HP:0001939) Neoplasia (HP:0002664)  \\\n",
       "1                                                  -                      -   \n",
       "2                                                  -                      -   \n",
       "\n",
       "                                           Other PMID  \\\n",
       "1  Pleural effusion,Wide intermamillary distance  NaN   \n",
       "2                                                 NaN   \n",
       "\n",
       "  Description of the variants on genomic chromosomal level reported using NC_000021.8, and annotated based on NM_138927.2 unless indicated otherwise. Abbreviations: +, present; -, not present; NR, not reported; NA, not applicable; PMID, PubMed ID; U, unknown.  \\\n",
       "1                                                                                                                                                                                                                                                               NaN   \n",
       "2                                                                                                                                                                                                                                                               NaN   \n",
       "\n",
       "  patient_id  \n",
       "1          1  \n",
       "2          2  \n",
       "\n",
       "[2 rows x 100 columns]"
      ]
     },
     "execution_count": 5,
     "metadata": {},
     "output_type": "execute_result"
    }
   ],
   "source": [
    "dft = df.transpose()\n",
    "dft.columns = dft.iloc[0]\n",
    "dft.drop(dft.index[0], inplace=True)\n",
    "dft.columns = dft.columns.str.strip()\n",
    "dft = dft.dropna(axis=1, how='all')\n",
    "dft['patient_id'] = dft.index\n",
    "dft.head(2)"
   ]
  },
  {
   "cell_type": "markdown",
   "id": "8314d6bd",
   "metadata": {},
   "source": [
    "<h2>Column mappers</h2>"
   ]
  },
  {
   "cell_type": "code",
   "execution_count": 6,
   "id": "59d9e9e8",
   "metadata": {},
   "outputs": [],
   "source": [
    "column_mapper_list = list()"
   ]
  },
  {
   "cell_type": "code",
   "execution_count": 7,
   "id": "55a9ef65",
   "metadata": {},
   "outputs": [
    {
     "data": {
      "text/html": [
       "<div>\n",
       "<style scoped>\n",
       "    .dataframe tbody tr th:only-of-type {\n",
       "        vertical-align: middle;\n",
       "    }\n",
       "\n",
       "    .dataframe tbody tr th {\n",
       "        vertical-align: top;\n",
       "    }\n",
       "\n",
       "    .dataframe thead th {\n",
       "        text-align: right;\n",
       "    }\n",
       "</style>\n",
       "<table border=\"1\" class=\"dataframe\">\n",
       "  <thead>\n",
       "    <tr style=\"text-align: right;\">\n",
       "      <th></th>\n",
       "      <th>mapping</th>\n",
       "      <th>count</th>\n",
       "    </tr>\n",
       "  </thead>\n",
       "  <tbody>\n",
       "    <tr>\n",
       "      <th>0</th>\n",
       "      <td>Primary microcephaly (HP:0011451) (observed)</td>\n",
       "      <td>1</td>\n",
       "    </tr>\n",
       "  </tbody>\n",
       "</table>\n",
       "</div>"
      ],
      "text/plain": [
       "                                        mapping count\n",
       "0  Primary microcephaly (HP:0011451) (observed)     1"
      ]
     },
     "execution_count": 7,
     "metadata": {},
     "output_type": "execute_result"
    }
   ],
   "source": [
    "headcircumference = {'> P98': 'Macrocephaly at birth',\n",
    "                 '< P3': 'Primary microcephaly' }\n",
    "headcircumferenceMapper = OptionColumnMapper(column_name='Head circumference (at birth) (HP:0011451 / HP:0004488)',\n",
    "                                             concept_recognizer=hpo_cr, option_d=headcircumference)\n",
    "column_mapper_list.append(headcircumferenceMapper)\n",
    "headcircumferenceMapper.preview_column(dft)"
   ]
  },
  {
   "cell_type": "code",
   "execution_count": 8,
   "id": "9e7866a7-eb0e-40da-837d-e8eb2db9a6e3",
   "metadata": {},
   "outputs": [
    {
     "data": {
      "text/html": [
       "<div>\n",
       "<style scoped>\n",
       "    .dataframe tbody tr th:only-of-type {\n",
       "        vertical-align: middle;\n",
       "    }\n",
       "\n",
       "    .dataframe tbody tr th {\n",
       "        vertical-align: top;\n",
       "    }\n",
       "\n",
       "    .dataframe thead th {\n",
       "        text-align: right;\n",
       "    }\n",
       "</style>\n",
       "<table border=\"1\" class=\"dataframe\">\n",
       "  <thead>\n",
       "    <tr style=\"text-align: right;\">\n",
       "      <th></th>\n",
       "      <th>mapping</th>\n",
       "      <th>count</th>\n",
       "    </tr>\n",
       "  </thead>\n",
       "  <tbody>\n",
       "    <tr>\n",
       "      <th>0</th>\n",
       "      <td>Macrocephaly (HP:0000256) (observed)</td>\n",
       "      <td>1</td>\n",
       "    </tr>\n",
       "    <tr>\n",
       "      <th>1</th>\n",
       "      <td>Microcephaly (HP:0000252) (observed)</td>\n",
       "      <td>12</td>\n",
       "    </tr>\n",
       "  </tbody>\n",
       "</table>\n",
       "</div>"
      ],
      "text/plain": [
       "                                mapping count\n",
       "0  Macrocephaly (HP:0000256) (observed)     1\n",
       "1  Microcephaly (HP:0000252) (observed)    12"
      ]
     },
     "execution_count": 8,
     "metadata": {},
     "output_type": "execute_result"
    }
   ],
   "source": [
    "headcircumference = {'> P98': 'Macrocephaly',\n",
    "                 '< P3': 'Microcephaly' }\n",
    "headcircumferenceMapper = OptionColumnMapper(column_name='Head circumference (HP:0000252 / HP:0000256)',\n",
    "                                             concept_recognizer=hpo_cr, option_d=headcircumference)\n",
    "column_mapper_list.append(headcircumferenceMapper)\n",
    "headcircumferenceMapper.preview_column(dft)"
   ]
  },
  {
   "cell_type": "code",
   "execution_count": 9,
   "id": "bd78a24f",
   "metadata": {},
   "outputs": [
    {
     "data": {
      "text/html": [
       "<div>\n",
       "<style scoped>\n",
       "    .dataframe tbody tr th:only-of-type {\n",
       "        vertical-align: middle;\n",
       "    }\n",
       "\n",
       "    .dataframe tbody tr th {\n",
       "        vertical-align: top;\n",
       "    }\n",
       "\n",
       "    .dataframe thead th {\n",
       "        text-align: right;\n",
       "    }\n",
       "</style>\n",
       "<table border=\"1\" class=\"dataframe\">\n",
       "  <thead>\n",
       "    <tr style=\"text-align: right;\">\n",
       "      <th></th>\n",
       "      <th>mapping</th>\n",
       "      <th>count</th>\n",
       "    </tr>\n",
       "  </thead>\n",
       "  <tbody>\n",
       "    <tr>\n",
       "      <th>0</th>\n",
       "      <td>Birth length less than 3rd percentile (HP:0003561) (observed)</td>\n",
       "      <td>1</td>\n",
       "    </tr>\n",
       "  </tbody>\n",
       "</table>\n",
       "</div>"
      ],
      "text/plain": [
       "                                                         mapping count\n",
       "0  Birth length less than 3rd percentile (HP:0003561) (observed)     1"
      ]
     },
     "execution_count": 9,
     "metadata": {},
     "output_type": "execute_result"
    }
   ],
   "source": [
    "birth_length = {'> P98': 'Birth length greater than 97th percentile',\n",
    "                 '< P3': 'Birth length less than 3rd percentile'}\n",
    "birth_lengthMapper = OptionColumnMapper(column_name='Heigth (at birth) (HP:0003561 / HP:0003517)',\n",
    "                                        concept_recognizer=hpo_cr, option_d=birth_length)\n",
    "column_mapper_list.append(birth_lengthMapper)\n",
    "birth_lengthMapper.preview_column(dft)"
   ]
  },
  {
   "cell_type": "code",
   "execution_count": 10,
   "id": "421efe7f-0907-4fab-82f5-1677d1f2c300",
   "metadata": {},
   "outputs": [
    {
     "data": {
      "text/html": [
       "<div>\n",
       "<style scoped>\n",
       "    .dataframe tbody tr th:only-of-type {\n",
       "        vertical-align: middle;\n",
       "    }\n",
       "\n",
       "    .dataframe tbody tr th {\n",
       "        vertical-align: top;\n",
       "    }\n",
       "\n",
       "    .dataframe thead th {\n",
       "        text-align: right;\n",
       "    }\n",
       "</style>\n",
       "<table border=\"1\" class=\"dataframe\">\n",
       "  <thead>\n",
       "    <tr style=\"text-align: right;\">\n",
       "      <th></th>\n",
       "      <th>mapping</th>\n",
       "      <th>count</th>\n",
       "    </tr>\n",
       "  </thead>\n",
       "  <tbody>\n",
       "    <tr>\n",
       "      <th>0</th>\n",
       "      <td>Short stature (HP:0004322) (observed)</td>\n",
       "      <td>27</td>\n",
       "    </tr>\n",
       "  </tbody>\n",
       "</table>\n",
       "</div>"
      ],
      "text/plain": [
       "                                 mapping count\n",
       "0  Short stature (HP:0004322) (observed)    27"
      ]
     },
     "execution_count": 10,
     "metadata": {},
     "output_type": "execute_result"
    }
   ],
   "source": [
    "length = {'> P98': 'Tall stature',\n",
    "                 '< P3': 'Short stature'}\n",
    "lengthMapper = OptionColumnMapper(column_name='Heigth (HP:0004322 / HP:0000098)',\n",
    "                                  concept_recognizer=hpo_cr, option_d=length)\n",
    "column_mapper_list.append(lengthMapper)\n",
    "lengthMapper.preview_column(dft)"
   ]
  },
  {
   "cell_type": "code",
   "execution_count": 11,
   "id": "3a1e1132",
   "metadata": {},
   "outputs": [
    {
     "data": {
      "text/html": [
       "<div>\n",
       "<style scoped>\n",
       "    .dataframe tbody tr th:only-of-type {\n",
       "        vertical-align: middle;\n",
       "    }\n",
       "\n",
       "    .dataframe tbody tr th {\n",
       "        vertical-align: top;\n",
       "    }\n",
       "\n",
       "    .dataframe thead th {\n",
       "        text-align: right;\n",
       "    }\n",
       "</style>\n",
       "<table border=\"1\" class=\"dataframe\">\n",
       "  <thead>\n",
       "    <tr style=\"text-align: right;\">\n",
       "      <th></th>\n",
       "      <th>mapping</th>\n",
       "      <th>count</th>\n",
       "    </tr>\n",
       "  </thead>\n",
       "  <tbody>\n",
       "    <tr>\n",
       "      <th>0</th>\n",
       "      <td>Small for gestational age (HP:0001518) (observed)</td>\n",
       "      <td>12</td>\n",
       "    </tr>\n",
       "  </tbody>\n",
       "</table>\n",
       "</div>"
      ],
      "text/plain": [
       "                                             mapping count\n",
       "0  Small for gestational age (HP:0001518) (observed)    12"
      ]
     },
     "execution_count": 11,
     "metadata": {},
     "output_type": "execute_result"
    }
   ],
   "source": [
    "birth_weight = {'> P98': 'Large for gestational age',\n",
    "                 '< P3': 'Small for gestational age'}\n",
    "birth_weightMapper = OptionColumnMapper(column_name='Weigth (at birth) (HP:0001518 / HP:0001520)',\n",
    "                                        concept_recognizer=hpo_cr, option_d=birth_weight)\n",
    "column_mapper_list.append(birth_weightMapper)\n",
    "birth_weightMapper.preview_column(dft)"
   ]
  },
  {
   "cell_type": "code",
   "execution_count": 12,
   "id": "14b6a9ce-41bd-4647-a80b-9e63a61ebb69",
   "metadata": {},
   "outputs": [
    {
     "data": {
      "text/html": [
       "<div>\n",
       "<style scoped>\n",
       "    .dataframe tbody tr th:only-of-type {\n",
       "        vertical-align: middle;\n",
       "    }\n",
       "\n",
       "    .dataframe tbody tr th {\n",
       "        vertical-align: top;\n",
       "    }\n",
       "\n",
       "    .dataframe thead th {\n",
       "        text-align: right;\n",
       "    }\n",
       "</style>\n",
       "<table border=\"1\" class=\"dataframe\">\n",
       "  <thead>\n",
       "    <tr style=\"text-align: right;\">\n",
       "      <th></th>\n",
       "      <th>mapping</th>\n",
       "      <th>count</th>\n",
       "    </tr>\n",
       "  </thead>\n",
       "  <tbody>\n",
       "    <tr>\n",
       "      <th>0</th>\n",
       "      <td>Decreased body weight (HP:0004325) (observed)</td>\n",
       "      <td>15</td>\n",
       "    </tr>\n",
       "    <tr>\n",
       "      <th>1</th>\n",
       "      <td>Increased body weight (HP:0004324) (observed)</td>\n",
       "      <td>1</td>\n",
       "    </tr>\n",
       "  </tbody>\n",
       "</table>\n",
       "</div>"
      ],
      "text/plain": [
       "                                         mapping count\n",
       "0  Decreased body weight (HP:0004325) (observed)    15\n",
       "1  Increased body weight (HP:0004324) (observed)     1"
      ]
     },
     "execution_count": 12,
     "metadata": {},
     "output_type": "execute_result"
    }
   ],
   "source": [
    "weight = {'> P98': 'Increased body weight',\n",
    "                 '< P3': 'Decreased body weight'}\n",
    "weightMapper = OptionColumnMapper(column_name='Weigth (HP:0004325 / HP:0004324)',concept_recognizer=hpo_cr, option_d=weight)\n",
    "column_mapper_list.append(weightMapper)\n",
    "weightMapper.preview_column(dft)"
   ]
  },
  {
   "cell_type": "code",
   "execution_count": 13,
   "id": "88e52430",
   "metadata": {},
   "outputs": [
    {
     "data": {
      "text/html": [
       "<div>\n",
       "<style scoped>\n",
       "    .dataframe tbody tr th:only-of-type {\n",
       "        vertical-align: middle;\n",
       "    }\n",
       "\n",
       "    .dataframe tbody tr th {\n",
       "        vertical-align: top;\n",
       "    }\n",
       "\n",
       "    .dataframe thead th {\n",
       "        text-align: right;\n",
       "    }\n",
       "</style>\n",
       "<table border=\"1\" class=\"dataframe\">\n",
       "  <thead>\n",
       "    <tr style=\"text-align: right;\">\n",
       "      <th></th>\n",
       "      <th>mapping</th>\n",
       "      <th>count</th>\n",
       "    </tr>\n",
       "  </thead>\n",
       "  <tbody>\n",
       "    <tr>\n",
       "      <th>0</th>\n",
       "      <td>Intellectual disability, severe (HP:0010864) (observed)</td>\n",
       "      <td>22</td>\n",
       "    </tr>\n",
       "    <tr>\n",
       "      <th>1</th>\n",
       "      <td>Intellectual disability, moderate (HP:0002342) (observed)</td>\n",
       "      <td>12</td>\n",
       "    </tr>\n",
       "    <tr>\n",
       "      <th>2</th>\n",
       "      <td>Intellectual disability, mild (HP:0001256) (observed)</td>\n",
       "      <td>9</td>\n",
       "    </tr>\n",
       "  </tbody>\n",
       "</table>\n",
       "</div>"
      ],
      "text/plain": [
       "                                                     mapping count\n",
       "0    Intellectual disability, severe (HP:0010864) (observed)    22\n",
       "1  Intellectual disability, moderate (HP:0002342) (observed)    12\n",
       "2      Intellectual disability, mild (HP:0001256) (observed)     9"
      ]
     },
     "execution_count": 13,
     "metadata": {},
     "output_type": "execute_result"
    }
   ],
   "source": [
    "id_severity = {'Mild': 'Intellectual disability, mild',\n",
    "                 'Moderate': 'Intellectual disability, moderate',\n",
    "         'Severe': 'Intellectual disability, severe'}\n",
    "id_severityMapper = OptionColumnMapper(column_name='Severity of intellectual disability (HP:0001256 / HP:0002342 / HP:0010864)',\n",
    "                                       concept_recognizer=hpo_cr, option_d=id_severity)\n",
    "column_mapper_list.append(id_severityMapper)\n",
    "id_severityMapper.preview_column(dft)"
   ]
  },
  {
   "cell_type": "markdown",
   "id": "cdc53600",
   "metadata": {},
   "source": [
    "For this particular file, there are HPO terms in the cells of the table as well, so we should loop them, parse contents and add them to the parser."
   ]
  },
  {
   "cell_type": "code",
   "execution_count": 14,
   "id": "6c1dedba",
   "metadata": {},
   "outputs": [
    {
     "name": "stdout",
     "output_type": "stream",
     "text": [
      "We created 43 mappers\n"
     ]
    }
   ],
   "source": [
    "hpo_term_d = {\n",
    "    'Speech delay (HP:0000750)': 'Delayed speech and language development' , \n",
    "    'Intellectual disability (HP:0001249)': 'Intellectual disability',\n",
    "    'Premature birth (HP:0001622)':'Premature birth', \n",
    "    'Caesarian section (HP:0011410)':'Caesarian section',\n",
    "    'Hypotonia (HP:0001252)': 'Hypotonia',\n",
    "       'Seizures (HP:0001250)':'Seizure', \n",
    "    'EEG abnormality (HP:0002353)': 'EEG abnormality',\n",
    "       'Ventriculomegaly (HP:0002119)':'Ventriculomegaly',\n",
    "       'Hypoplasia of the corpus callosum (HP:0002079)':'Hypoplasia of the corpus callosum',\n",
    "       'Polymicrogyria (HP:0002126)':'Polymicrogyria', \n",
    "    'Cortical dysplasia (HP:0002539)' : 'Cortical dysplasia',\n",
    "       'Autism spectrum disorder or autistic behavior (HP:0000729)':  'Autistic behavior',\n",
    "       'Sleep disturbance (HP:0002360)': 'Sleep abnormality', \n",
    "       'Horizontal eyebrow (HP:0011228)': 'Horizontal eyebrow', \n",
    "    'Facial asymmetry (HP:0000324)': 'Facial asymmetry',\n",
    "       'Midface retrusion (HP:0011800)':'Midface retrusion', \n",
    "       'Downward slanting palpebral fissures (HP:0000494)':'Downslanted palpebral fissures',\n",
    "       'Strabismus (HP:0000486)': 'Strabismus', \n",
    "    'Deeply set eye (HP:0000490)': 'Deeply set eye',\n",
    "       'Epicanthus (HP:0000286)': 'Epicanthus', \n",
    "   #   'Short or smooth philtrum (HP:0000322 / HP:0000319)',\n",
    "       'Thin upper lip vermilion (HP:0000219)':'Thin upper lip vermilion', \n",
    "       'Low-set ears (HP:0000369)': 'Low-set ears',\n",
    "       'Posteriorly rotated ears (HP:0000358)': 'Posteriorly rotated ears', \n",
    "       'Generalized joint laxity (HP:0002761)':'Generalized joint hypermobility',\n",
    "        'Pes planus (HP:0001763)': 'Pes planus',\n",
    "       'Feeding difficulties (HP:0008872)': 'Feeding difficulties',\n",
    "       'Dysphagia (HP:0002015)': 'Dysphagia',\n",
    "       'Ventricular septal defect (HP:0001629)': 'Ventricular septal defect',\n",
    "       'Atrial septal defect (HP:0001631)': 'Atrial septal defect',\n",
    "       'Horseshoe kidney (HP:0000085)': 'Horseshoe kidney', \n",
    "        'Renal cysts (HP:0000107)': 'Renal cyst',\n",
    "       'Visual impairment (HP:0000505)': 'Visual impairment', \n",
    "        'Hypermetropia (HP:0000540)': 'Hypermetropia',\n",
    "       'Cortical visual impairment (HP:0100704)': 'Cerebral visual impairment',\n",
    "       'Recurrent otitis media (HP:0000403)': 'Recurrent otitis media',\n",
    "       'Neoplasia (HP:0002664)':'Neoplasm'\n",
    "}\n",
    "for k, v in hpo_term_d.items():\n",
    "    hpo_term = hpo_cr.get_term_from_label(v)\n",
    "    mapper = SimpleColumnMapper(column_name=k,hpo_id=hpo_term.id, hpo_label=hpo_term.label, observed=\"+\", excluded='-')\n",
    "    column_mapper_list.append(mapper)\n",
    "print(f\"We created {len(column_mapper_list)} mappers\")"
   ]
  },
  {
   "cell_type": "markdown",
   "id": "5e53617d",
   "metadata": {},
   "source": [
    "<h2>Variant Data</h2>\n",
    "<p>The variant data (HGVS< transcript) is listed in the Variant (hg19, NM_015133.4) column.</p>"
   ]
  },
  {
   "cell_type": "code",
   "execution_count": 15,
   "id": "da4d5706",
   "metadata": {},
   "outputs": [],
   "source": [
    "genome = 'hg38'\n",
    "default_genotype = 'heterozygous'\n",
    "SON_transcript='NM_138927.2'\n",
    "son_id = \"HGNC:11183\"\n",
    "vman = VariantManager(df=dft, individual_column_name=\"patient_id\", allele_1_column_name=\"cDNA change\",\n",
    "                     gene_id=son_id, gene_symbol=\"SON\", transcript=SON_transcript)"
   ]
  },
  {
   "cell_type": "code",
   "execution_count": 16,
   "id": "29190c4e-8f12-4c6a-9f6a-5ccefe251c09",
   "metadata": {},
   "outputs": [
    {
     "data": {
      "text/html": [
       "<div>\n",
       "<style scoped>\n",
       "    .dataframe tbody tr th:only-of-type {\n",
       "        vertical-align: middle;\n",
       "    }\n",
       "\n",
       "    .dataframe tbody tr th {\n",
       "        vertical-align: top;\n",
       "    }\n",
       "\n",
       "    .dataframe thead th {\n",
       "        text-align: right;\n",
       "    }\n",
       "</style>\n",
       "<table border=\"1\" class=\"dataframe\">\n",
       "  <thead>\n",
       "    <tr style=\"text-align: right;\">\n",
       "      <th></th>\n",
       "      <th>status</th>\n",
       "      <th>count</th>\n",
       "      <th>alleles</th>\n",
       "    </tr>\n",
       "  </thead>\n",
       "  <tbody>\n",
       "    <tr>\n",
       "      <th>0</th>\n",
       "      <td>mapped</td>\n",
       "      <td>36</td>\n",
       "      <td>c.5753_5756del , c.3334C&gt;T, c.4919_4923del, c.3852_3856del, c.4640del, c.3711del, c.5549_5550del, c.6002_6003insCC, c.4678del, c.457del, c.268del, c.2365del, c.384del, c.3597_3598dup, c.6087del, c.1444del, c.4999_5013del, c.5753_5756del, c.1736C&gt;G, c.4152_4172del, c.3073dup, c.286C&gt;T, c.4055del , c.3203C&gt;G, c.668C&gt;T, c.5528C&gt;A, c.348_351del, c.6233del, c.6010del, c.394C&gt;T, c.4018del, c.5230del, c.4358_4359del , c.1881_1882del , c.4549dup, c.1881_1882del</td>\n",
       "    </tr>\n",
       "    <tr>\n",
       "      <th>1</th>\n",
       "      <td>unmapped</td>\n",
       "      <td>2</td>\n",
       "      <td>0.19Mb deletion, Whole gene deletion</td>\n",
       "    </tr>\n",
       "  </tbody>\n",
       "</table>\n",
       "</div>"
      ],
      "text/plain": [
       "     status  count  \\\n",
       "0    mapped     36   \n",
       "1  unmapped      2   \n",
       "\n",
       "                                                                                                                                                                                                                                                                                                                                                                                                                                                                     alleles  \n",
       "0  c.5753_5756del , c.3334C>T, c.4919_4923del, c.3852_3856del, c.4640del, c.3711del, c.5549_5550del, c.6002_6003insCC, c.4678del, c.457del, c.268del, c.2365del, c.384del, c.3597_3598dup, c.6087del, c.1444del, c.4999_5013del, c.5753_5756del, c.1736C>G, c.4152_4172del, c.3073dup, c.286C>T, c.4055del , c.3203C>G, c.668C>T, c.5528C>A, c.348_351del, c.6233del, c.6010del, c.394C>T, c.4018del, c.5230del, c.4358_4359del , c.1881_1882del , c.4549dup, c.1881_1882del  \n",
       "1                                                                                                                                                                                                                                                                                                                                                                                                                                       0.19Mb deletion, Whole gene deletion  "
      ]
     },
     "execution_count": 16,
     "metadata": {},
     "output_type": "execute_result"
    }
   ],
   "source": [
    "vman.to_summary()"
   ]
  },
  {
   "cell_type": "code",
   "execution_count": 17,
   "id": "73d5af2c-1122-41c0-aca8-309840f37d2b",
   "metadata": {},
   "outputs": [
    {
     "data": {
      "text/html": [
       "<div>\n",
       "<style scoped>\n",
       "    .dataframe tbody tr th:only-of-type {\n",
       "        vertical-align: middle;\n",
       "    }\n",
       "\n",
       "    .dataframe tbody tr th {\n",
       "        vertical-align: top;\n",
       "    }\n",
       "\n",
       "    .dataframe thead th {\n",
       "        text-align: right;\n",
       "    }\n",
       "</style>\n",
       "<table border=\"1\" class=\"dataframe\">\n",
       "  <thead>\n",
       "    <tr style=\"text-align: right;\">\n",
       "      <th></th>\n",
       "      <th>status</th>\n",
       "      <th>count</th>\n",
       "      <th>alleles</th>\n",
       "    </tr>\n",
       "  </thead>\n",
       "  <tbody>\n",
       "    <tr>\n",
       "      <th>0</th>\n",
       "      <td>mapped</td>\n",
       "      <td>38</td>\n",
       "      <td>c.5753_5756del , c.3334C&gt;T, c.4919_4923del, c.3852_3856del, c.4640del, c.3711del, c.5549_5550del, c.6002_6003insCC, c.4678del, c.457del, c.268del, c.2365del, c.384del, c.3597_3598dup, c.6087del, c.1444del, c.4999_5013del, c.5753_5756del, c.1736C&gt;G, c.4152_4172del, c.3073dup, c.286C&gt;T, c.4055del , c.3203C&gt;G, c.668C&gt;T, c.5528C&gt;A, c.348_351del, c.6233del, c.6010del, c.394C&gt;T, c.4018del, c.5230del, c.4358_4359del , c.1881_1882del , c.4549dup, c.1881_1882del, 0.19Mb deletion, Whole gene deletion</td>\n",
       "    </tr>\n",
       "    <tr>\n",
       "      <th>1</th>\n",
       "      <td>unmapped</td>\n",
       "      <td>0</td>\n",
       "      <td></td>\n",
       "    </tr>\n",
       "  </tbody>\n",
       "</table>\n",
       "</div>"
      ],
      "text/plain": [
       "     status  count  \\\n",
       "0    mapped     38   \n",
       "1  unmapped      0   \n",
       "\n",
       "                                                                                                                                                                                                                                                                                                                                                                                                                                                                                                           alleles  \n",
       "0  c.5753_5756del , c.3334C>T, c.4919_4923del, c.3852_3856del, c.4640del, c.3711del, c.5549_5550del, c.6002_6003insCC, c.4678del, c.457del, c.268del, c.2365del, c.384del, c.3597_3598dup, c.6087del, c.1444del, c.4999_5013del, c.5753_5756del, c.1736C>G, c.4152_4172del, c.3073dup, c.286C>T, c.4055del , c.3203C>G, c.668C>T, c.5528C>A, c.348_351del, c.6233del, c.6010del, c.394C>T, c.4018del, c.5230del, c.4358_4359del , c.1881_1882del , c.4549dup, c.1881_1882del, 0.19Mb deletion, Whole gene deletion  \n",
       "1                                                                                                                                                                                                                                                                                                                                                                                                                                                                                                                   "
      ]
     },
     "execution_count": 17,
     "metadata": {},
     "output_type": "execute_result"
    }
   ],
   "source": [
    "vman.code_as_chromosomal_deletion({\"Whole gene deletion\", \"0.19Mb deletion\"})\n",
    "vman.to_summary()"
   ]
  },
  {
   "cell_type": "code",
   "execution_count": 18,
   "id": "3ab7ddc0-75f9-4c2e-9e5d-0e4f72516425",
   "metadata": {},
   "outputs": [
    {
     "name": "stdout",
     "output_type": "stream",
     "text": [
      "We extracted 38 variants\n"
     ]
    }
   ],
   "source": [
    "variant_d = vman.get_variant_d()\n",
    "print(f\"We extracted {len(variant_d)} variants\") "
   ]
  },
  {
   "cell_type": "markdown",
   "id": "d1af2052",
   "metadata": {},
   "source": [
    "<h1>Demographic data</h1>"
   ]
  },
  {
   "cell_type": "code",
   "execution_count": 19,
   "id": "3e64dc08",
   "metadata": {},
   "outputs": [
    {
     "data": {
      "text/html": [
       "<div>\n",
       "<style scoped>\n",
       "    .dataframe tbody tr th:only-of-type {\n",
       "        vertical-align: middle;\n",
       "    }\n",
       "\n",
       "    .dataframe tbody tr th {\n",
       "        vertical-align: top;\n",
       "    }\n",
       "\n",
       "    .dataframe thead th {\n",
       "        text-align: right;\n",
       "    }\n",
       "</style>\n",
       "<table border=\"1\" class=\"dataframe\">\n",
       "  <thead>\n",
       "    <tr style=\"text-align: right;\">\n",
       "      <th></th>\n",
       "      <th>original column contents</th>\n",
       "      <th>age</th>\n",
       "    </tr>\n",
       "  </thead>\n",
       "  <tbody>\n",
       "    <tr>\n",
       "      <th>0</th>\n",
       "      <td>P5Y</td>\n",
       "      <td>5 years</td>\n",
       "    </tr>\n",
       "    <tr>\n",
       "      <th>1</th>\n",
       "      <td>P2Y</td>\n",
       "      <td>2 years and 9 months</td>\n",
       "    </tr>\n",
       "  </tbody>\n",
       "</table>\n",
       "</div>"
      ],
      "text/plain": [
       "  original column contents                   age\n",
       "0                      P5Y               5 years\n",
       "1                      P2Y  2 years and 9 months"
      ]
     },
     "execution_count": 19,
     "metadata": {},
     "output_type": "execute_result"
    }
   ],
   "source": [
    "ageMapper = AgeColumnMapper.by_year('Age at examination')\n",
    "ageMapper.preview_column(dft).head(2)"
   ]
  },
  {
   "cell_type": "code",
   "execution_count": 20,
   "id": "71f664cc",
   "metadata": {},
   "outputs": [
    {
     "data": {
      "text/html": [
       "<div>\n",
       "<style scoped>\n",
       "    .dataframe tbody tr th:only-of-type {\n",
       "        vertical-align: middle;\n",
       "    }\n",
       "\n",
       "    .dataframe tbody tr th {\n",
       "        vertical-align: top;\n",
       "    }\n",
       "\n",
       "    .dataframe thead th {\n",
       "        text-align: right;\n",
       "    }\n",
       "</style>\n",
       "<table border=\"1\" class=\"dataframe\">\n",
       "  <thead>\n",
       "    <tr style=\"text-align: right;\">\n",
       "      <th></th>\n",
       "      <th>original column contents</th>\n",
       "      <th>sex</th>\n",
       "    </tr>\n",
       "  </thead>\n",
       "  <tbody>\n",
       "    <tr>\n",
       "      <th>0</th>\n",
       "      <td>Male</td>\n",
       "      <td>MALE</td>\n",
       "    </tr>\n",
       "    <tr>\n",
       "      <th>1</th>\n",
       "      <td>Male</td>\n",
       "      <td>MALE</td>\n",
       "    </tr>\n",
       "  </tbody>\n",
       "</table>\n",
       "</div>"
      ],
      "text/plain": [
       "  original column contents   sex\n",
       "0                     Male  MALE\n",
       "1                     Male  MALE"
      ]
     },
     "execution_count": 20,
     "metadata": {},
     "output_type": "execute_result"
    }
   ],
   "source": [
    "sexMapper = SexColumnMapper(male_symbol='Male', female_symbol='Female', column_name='Gender')\n",
    "sexMapper.preview_column(dft).head(2)"
   ]
  },
  {
   "cell_type": "code",
   "execution_count": 21,
   "id": "f6581a8a",
   "metadata": {},
   "outputs": [],
   "source": [
    "varMapper = VariantColumnMapper(variant_d=variant_d, variant_column_name=\"cDNA change\", default_genotype=\"heterozygous\")\n",
    "encoder = CohortEncoder(df=dft, \n",
    "                        hpo_cr=hpo_cr, \n",
    "                        column_mapper_list=column_mapper_list, \n",
    "                        individual_column_name=\"patient_id\", \n",
    "                        age_at_last_encounter_mapper=ageMapper, \n",
    "                        sexmapper=sexMapper,\n",
    "                        variant_mapper=varMapper, \n",
    "                        metadata=metadata)\n",
    "zttk = Disease(disease_id='OMIM:617140', disease_label='ZTTK SYNDROME')\n",
    "encoder.set_disease(zttk)"
   ]
  },
  {
   "cell_type": "code",
   "execution_count": 22,
   "id": "fd367ed6",
   "metadata": {},
   "outputs": [
    {
     "data": {
      "text/html": [
       "<h2>Cohort validation</h2>\n",
       "<p>Errors found with 49 of 52 phenopackets.</p>\n",
       "<table style=\"border: 2px solid black; align: \"left\">\n",
       "<caption>Error counts</caption>\n",
       "<tr><th style=\"text-align: left;font-weight: bold;\">Level</th><th style=\"text-align: left;font-weight: bold;\">Error category</th><th style=\"text-align: left;font-weight: bold;\">Count</th></tr>\n",
       "<tr><td style=\"text-align: left;\">WARNING</td><td style=\"text-align: left;\">REDUNDANT</td><td style=\"text-align: left;\">80</td></tr>\n",
       "<tr><td style=\"text-align: left;\">INFORMATION</td><td style=\"text-align: left;\">NOT_MEASURED</td><td style=\"text-align: left;\">174</td></tr>\n",
       "</table>\n",
       "<p>A total of 254 issues were fixed and no individual was removed from the cohort.</p>"
      ],
      "text/plain": [
       "<IPython.core.display.HTML object>"
      ]
     },
     "metadata": {},
     "output_type": "display_data"
    }
   ],
   "source": [
    "individuals = encoder.get_individuals()\n",
    "cvalidator = CohortValidator(cohort=individuals, ontology=hpo_ontology, min_hpo=1, allelic_requirement=AllelicRequirement.MONO_ALLELIC)\n",
    "qc = QcVisualizer(cohort_validator=cvalidator)\n",
    "display(HTML(qc.to_summary_html()))"
   ]
  },
  {
   "cell_type": "code",
   "execution_count": 23,
   "id": "5d044b78",
   "metadata": {},
   "outputs": [
    {
     "data": {
      "text/html": [
       "<table style=\"border: 2px solid black; align: \"left\">\n",
       "<caption>52 phenopackets - PMID:34521999 (n=52)</caption>\n",
       "<tr><th style=\"text-align: left;font-weight: bold;\">Individual</th><th style=\"text-align: left;font-weight: bold;\">Disease</th><th style=\"text-align: left;font-weight: bold;\">Genotype</th><th style=\"text-align: left;font-weight: bold;\">Phenotypic features</th></tr>\n",
       "<tr><td style=\"text-align: left;\">1 (MALE; P5Y)</td><td style=\"text-align: left;\">ZTTK SYNDROME (OMIM:617140)</td><td style=\"text-align: left;\">NM_138927.2:c.5753_5756del (heterozygous)</td><td style=\"text-align: left;\">Decreased body weight (HP:0004325); Delayed speech and language development (HP:0000750); Intellectual disability (HP:0001249); Hypotonia (HP:0001252); Sleep abnormality (HP:0002360); Downslanted palpebral fissures (HP:0000494); Thin upper lip vermilion (HP:0000219); Low-set ears (HP:0000369); Posteriorly rotated ears (HP:0000358); Generalized joint hypermobility (HP:0002761); Pes planus (HP:0001763); Visual impairment (HP:0000505); Hypermetropia (HP:0000540); excluded: Premature birth (HP:0001622); excluded: Caesarian section (HP:0011410); excluded: Seizure (HP:0001250); excluded: EEG abnormality (HP:0002353); excluded: Ventriculomegaly (HP:0002119); excluded: Hypoplasia of the corpus callosum (HP:0002079); excluded: Polymicrogyria (HP:0002126); excluded: Cortical dysplasia (HP:0002539); excluded: Autistic behavior (HP:0000729); excluded: Horizontal eyebrow (HP:0011228); excluded: Facial asymmetry (HP:0000324); excluded: Midface retrusion (HP:0011800); excluded: Strabismus (HP:0000486); excluded: Deeply set eye (HP:0000490); excluded: Epicanthus (HP:0000286); excluded: Feeding difficulties (HP:0011968); excluded: Dysphagia (HP:0002015); excluded: Ventricular septal defect (HP:0001629); excluded: Atrial septal defect (HP:0001631); excluded: Horseshoe kidney (HP:0000085); excluded: Renal cyst (HP:0000107); excluded: Cerebral visual impairment (HP:0100704); excluded: Recurrent otitis media (HP:0000403); excluded: Neoplasm (HP:0002664)</td></tr>\n",
       "<tr><td style=\"text-align: left;\">2 (MALE; P2Y)</td><td style=\"text-align: left;\">ZTTK SYNDROME (OMIM:617140)</td><td style=\"text-align: left;\">NM_138927.2:c.5753_5756del (heterozygous)</td><td style=\"text-align: left;\">Macrocephaly (HP:0000256); Short stature (HP:0004322); Intellectual disability, severe (HP:0010864); Delayed speech and language development (HP:0000750); Seizure (HP:0001250); EEG abnormality (HP:0002353); Sleep abnormality (HP:0002360); excluded: Premature birth (HP:0001622); excluded: Caesarian section (HP:0011410); excluded: Hypotonia (HP:0001252); excluded: Ventriculomegaly (HP:0002119); excluded: Hypoplasia of the corpus callosum (HP:0002079); excluded: Polymicrogyria (HP:0002126); excluded: Cortical dysplasia (HP:0002539); excluded: Autistic behavior (HP:0000729); excluded: Horizontal eyebrow (HP:0011228); excluded: Facial asymmetry (HP:0000324); excluded: Midface retrusion (HP:0011800); excluded: Downslanted palpebral fissures (HP:0000494); excluded: Strabismus (HP:0000486); excluded: Deeply set eye (HP:0000490); excluded: Epicanthus (HP:0000286); excluded: Thin upper lip vermilion (HP:0000219); excluded: Low-set ears (HP:0000369); excluded: Posteriorly rotated ears (HP:0000358); excluded: Generalized joint hypermobility (HP:0002761); excluded: Pes planus (HP:0001763); excluded: Feeding difficulties (HP:0011968); excluded: Dysphagia (HP:0002015); excluded: Ventricular septal defect (HP:0001629); excluded: Atrial septal defect (HP:0001631); excluded: Horseshoe kidney (HP:0000085); excluded: Renal cyst (HP:0000107); excluded: Hypermetropia (HP:0000540); excluded: Cerebral visual impairment (HP:0100704); excluded: Recurrent otitis media (HP:0000403); excluded: Neoplasm (HP:0002664)</td></tr>\n",
       "<tr><td style=\"text-align: left;\">3 (FEMALE; P2Y)</td><td style=\"text-align: left;\">ZTTK SYNDROME (OMIM:617140)</td><td style=\"text-align: left;\">NM_138927.2:c.5753_5756del (heterozygous)</td><td style=\"text-align: left;\">Primary microcephaly (HP:0011451); Birth length less than 3rd percentile (HP:0003561); Small for gestational age (HP:0001518); Delayed speech and language development (HP:0000750); Hypotonia (HP:0001252); Sleep abnormality (HP:0002360); Downslanted palpebral fissures (HP:0000494); Strabismus (HP:0000486); Low-set ears (HP:0000369); excluded: Premature birth (HP:0001622); excluded: Caesarian section (HP:0011410); excluded: Seizure (HP:0001250); excluded: EEG abnormality (HP:0002353); excluded: Autistic behavior (HP:0000729); excluded: Horizontal eyebrow (HP:0011228); excluded: Facial asymmetry (HP:0000324); excluded: Midface retrusion (HP:0011800); excluded: Deeply set eye (HP:0000490); excluded: Epicanthus (HP:0000286); excluded: Thin upper lip vermilion (HP:0000219); excluded: Posteriorly rotated ears (HP:0000358); excluded: Generalized joint hypermobility (HP:0002761); excluded: Pes planus (HP:0001763); excluded: Feeding difficulties (HP:0011968); excluded: Dysphagia (HP:0002015); excluded: Ventricular septal defect (HP:0001629); excluded: Atrial septal defect (HP:0001631); excluded: Horseshoe kidney (HP:0000085); excluded: Renal cyst (HP:0000107); excluded: Hypermetropia (HP:0000540); excluded: Cerebral visual impairment (HP:0100704); excluded: Recurrent otitis media (HP:0000403); excluded: Neoplasm (HP:0002664)</td></tr>\n",
       "<tr><td style=\"text-align: left;\">4 (FEMALE; P4Y)</td><td style=\"text-align: left;\">ZTTK SYNDROME (OMIM:617140)</td><td style=\"text-align: left;\">NM_138927.2:c.3203C>G (heterozygous)</td><td style=\"text-align: left;\">Microcephaly (HP:0000252); Short stature (HP:0004322); Decreased body weight (HP:0004325); Intellectual disability, moderate (HP:0002342); Delayed speech and language development (HP:0000750); Hypotonia (HP:0001252); Seizure (HP:0001250); EEG abnormality (HP:0002353); Ventriculomegaly (HP:0002119); Downslanted palpebral fissures (HP:0000494); Strabismus (HP:0000486); Epicanthus (HP:0000286); Feeding difficulties (HP:0011968); excluded: Premature birth (HP:0001622); excluded: Caesarian section (HP:0011410); excluded: Hypoplasia of the corpus callosum (HP:0002079); excluded: Polymicrogyria (HP:0002126); excluded: Cortical dysplasia (HP:0002539); excluded: Autistic behavior (HP:0000729); excluded: Sleep abnormality (HP:0002360); excluded: Horizontal eyebrow (HP:0011228); excluded: Facial asymmetry (HP:0000324); excluded: Midface retrusion (HP:0011800); excluded: Deeply set eye (HP:0000490); excluded: Thin upper lip vermilion (HP:0000219); excluded: Low-set ears (HP:0000369); excluded: Posteriorly rotated ears (HP:0000358); excluded: Generalized joint hypermobility (HP:0002761); excluded: Pes planus (HP:0001763); excluded: Dysphagia (HP:0002015); excluded: Ventricular septal defect (HP:0001629); excluded: Atrial septal defect (HP:0001631); excluded: Horseshoe kidney (HP:0000085); excluded: Renal cyst (HP:0000107); excluded: Hypermetropia (HP:0000540); excluded: Cerebral visual impairment (HP:0100704); excluded: Recurrent otitis media (HP:0000403); excluded: Neoplasm (HP:0002664)</td></tr>\n",
       "<tr><td style=\"text-align: left;\">5 (MALE; P9Y)</td><td style=\"text-align: left;\">ZTTK SYNDROME (OMIM:617140)</td><td style=\"text-align: left;\">NM_138927.2:c.457del (heterozygous)</td><td style=\"text-align: left;\">Microcephaly (HP:0000252); Short stature (HP:0004322); Increased body weight (HP:0004324); Intellectual disability, severe (HP:0010864); Delayed speech and language development (HP:0000750); Seizure (HP:0001250); EEG abnormality (HP:0002353); Ventriculomegaly (HP:0002119); Sleep abnormality (HP:0002360); Downslanted palpebral fissures (HP:0000494); Low-set ears (HP:0000369); Generalized joint hypermobility (HP:0002761); Feeding difficulties (HP:0011968); Renal cyst (HP:0000107); Visual impairment (HP:0000505); Hypermetropia (HP:0000540); excluded: Premature birth (HP:0001622); excluded: Caesarian section (HP:0011410); excluded: Hypotonia (HP:0001252); excluded: Hypoplasia of the corpus callosum (HP:0002079); excluded: Polymicrogyria (HP:0002126); excluded: Cortical dysplasia (HP:0002539); excluded: Autistic behavior (HP:0000729); excluded: Horizontal eyebrow (HP:0011228); excluded: Facial asymmetry (HP:0000324); excluded: Midface retrusion (HP:0011800); excluded: Strabismus (HP:0000486); excluded: Deeply set eye (HP:0000490); excluded: Epicanthus (HP:0000286); excluded: Thin upper lip vermilion (HP:0000219); excluded: Posteriorly rotated ears (HP:0000358); excluded: Pes planus (HP:0001763); excluded: Dysphagia (HP:0002015); excluded: Ventricular septal defect (HP:0001629); excluded: Atrial septal defect (HP:0001631); excluded: Horseshoe kidney (HP:0000085); excluded: Cerebral visual impairment (HP:0100704); excluded: Recurrent otitis media (HP:0000403); excluded: Neoplasm (HP:0002664)</td></tr>\n",
       "<tr><td style=\"text-align: left;\">6 (FEMALE; P15Y)</td><td style=\"text-align: left;\">ZTTK SYNDROME (OMIM:617140)</td><td style=\"text-align: left;\">NM_138927.2:c.384del (heterozygous)</td><td style=\"text-align: left;\">Short stature (HP:0004322); Decreased body weight (HP:0004325); Intellectual disability, severe (HP:0010864); Delayed speech and language development (HP:0000750); Seizure (HP:0001250); EEG abnormality (HP:0002353); Ventriculomegaly (HP:0002119); Hypoplasia of the corpus callosum (HP:0002079); Polymicrogyria (HP:0002126); Sleep abnormality (HP:0002360); Strabismus (HP:0000486); Feeding difficulties (HP:0011968); Visual impairment (HP:0000505); excluded: Premature birth (HP:0001622); excluded: Caesarian section (HP:0011410); excluded: Hypotonia (HP:0001252); excluded: Cortical dysplasia (HP:0002539); excluded: Autistic behavior (HP:0000729); excluded: Horizontal eyebrow (HP:0011228); excluded: Facial asymmetry (HP:0000324); excluded: Midface retrusion (HP:0011800); excluded: Downslanted palpebral fissures (HP:0000494); excluded: Deeply set eye (HP:0000490); excluded: Epicanthus (HP:0000286); excluded: Thin upper lip vermilion (HP:0000219); excluded: Low-set ears (HP:0000369); excluded: Posteriorly rotated ears (HP:0000358); excluded: Generalized joint hypermobility (HP:0002761); excluded: Pes planus (HP:0001763); excluded: Dysphagia (HP:0002015); excluded: Ventricular septal defect (HP:0001629); excluded: Atrial septal defect (HP:0001631); excluded: Horseshoe kidney (HP:0000085); excluded: Renal cyst (HP:0000107); excluded: Hypermetropia (HP:0000540); excluded: Cerebral visual impairment (HP:0100704); excluded: Recurrent otitis media (HP:0000403); excluded: Neoplasm (HP:0002664)</td></tr>\n",
       "<tr><td style=\"text-align: left;\">7 (MALE; P7Y)</td><td style=\"text-align: left;\">ZTTK SYNDROME (OMIM:617140)</td><td style=\"text-align: left;\">0.19Mb deletion: chromosomal_deletion (SO:1000029)</td><td style=\"text-align: left;\">Short stature (HP:0004322); Decreased body weight (HP:0004325); Intellectual disability, moderate (HP:0002342); Delayed speech and language development (HP:0000750); Premature birth (HP:0001622); Ventriculomegaly (HP:0002119); Hypoplasia of the corpus callosum (HP:0002079); Autistic behavior (HP:0000729); Downslanted palpebral fissures (HP:0000494); Low-set ears (HP:0000369); Generalized joint hypermobility (HP:0002761); Horseshoe kidney (HP:0000085); Visual impairment (HP:0000505); Hypermetropia (HP:0000540); excluded: Caesarian section (HP:0011410); excluded: Hypotonia (HP:0001252); excluded: Seizure (HP:0001250); excluded: EEG abnormality (HP:0002353); excluded: Polymicrogyria (HP:0002126); excluded: Cortical dysplasia (HP:0002539); excluded: Sleep abnormality (HP:0002360); excluded: Horizontal eyebrow (HP:0011228); excluded: Facial asymmetry (HP:0000324); excluded: Midface retrusion (HP:0011800); excluded: Strabismus (HP:0000486); excluded: Deeply set eye (HP:0000490); excluded: Epicanthus (HP:0000286); excluded: Thin upper lip vermilion (HP:0000219); excluded: Posteriorly rotated ears (HP:0000358); excluded: Pes planus (HP:0001763); excluded: Feeding difficulties (HP:0011968); excluded: Dysphagia (HP:0002015); excluded: Ventricular septal defect (HP:0001629); excluded: Atrial septal defect (HP:0001631); excluded: Renal cyst (HP:0000107); excluded: Cerebral visual impairment (HP:0100704); excluded: Recurrent otitis media (HP:0000403); excluded: Neoplasm (HP:0002664)</td></tr>\n",
       "<tr><td style=\"text-align: left;\">8 (MALE; P3Y)</td><td style=\"text-align: left;\">ZTTK SYNDROME (OMIM:617140)</td><td style=\"text-align: left;\">NM_138927.2:c.6010del (heterozygous)</td><td style=\"text-align: left;\">Delayed speech and language development (HP:0000750); Intellectual disability (HP:0001249); Hypotonia (HP:0001252); Seizure (HP:0001250); Sleep abnormality (HP:0002360); excluded: Premature birth (HP:0001622); excluded: Caesarian section (HP:0011410); excluded: EEG abnormality (HP:0002353); excluded: Autistic behavior (HP:0000729); excluded: Horizontal eyebrow (HP:0011228); excluded: Facial asymmetry (HP:0000324); excluded: Midface retrusion (HP:0011800); excluded: Downslanted palpebral fissures (HP:0000494); excluded: Strabismus (HP:0000486); excluded: Deeply set eye (HP:0000490); excluded: Epicanthus (HP:0000286); excluded: Thin upper lip vermilion (HP:0000219); excluded: Low-set ears (HP:0000369); excluded: Posteriorly rotated ears (HP:0000358); excluded: Generalized joint hypermobility (HP:0002761); excluded: Pes planus (HP:0001763); excluded: Feeding difficulties (HP:0011968); excluded: Dysphagia (HP:0002015); excluded: Ventricular septal defect (HP:0001629); excluded: Atrial septal defect (HP:0001631); excluded: Horseshoe kidney (HP:0000085); excluded: Renal cyst (HP:0000107); excluded: Hypermetropia (HP:0000540); excluded: Cerebral visual impairment (HP:0100704); excluded: Recurrent otitis media (HP:0000403); excluded: Neoplasm (HP:0002664)</td></tr>\n",
       "<tr><td style=\"text-align: left;\">9 (FEMALE; P4Y)</td><td style=\"text-align: left;\">ZTTK SYNDROME (OMIM:617140)</td><td style=\"text-align: left;\">NM_138927.2:c.3711del (heterozygous)</td><td style=\"text-align: left;\">Short stature (HP:0004322); Decreased body weight (HP:0004325); Intellectual disability, mild (HP:0001256); Delayed speech and language development (HP:0000750); Caesarian section (HP:0011410); Sleep abnormality (HP:0002360); Strabismus (HP:0000486); Epicanthus (HP:0000286); Pes planus (HP:0001763); Feeding difficulties (HP:0011968); Ventricular septal defect (HP:0001629); Recurrent otitis media (HP:0000403); excluded: Premature birth (HP:0001622); excluded: Hypotonia (HP:0001252); excluded: Seizure (HP:0001250); excluded: EEG abnormality (HP:0002353); excluded: Autistic behavior (HP:0000729); excluded: Horizontal eyebrow (HP:0011228); excluded: Facial asymmetry (HP:0000324); excluded: Midface retrusion (HP:0011800); excluded: Downslanted palpebral fissures (HP:0000494); excluded: Deeply set eye (HP:0000490); excluded: Thin upper lip vermilion (HP:0000219); excluded: Low-set ears (HP:0000369); excluded: Posteriorly rotated ears (HP:0000358); excluded: Generalized joint hypermobility (HP:0002761); excluded: Dysphagia (HP:0002015); excluded: Atrial septal defect (HP:0001631); excluded: Hypermetropia (HP:0000540); excluded: Cerebral visual impairment (HP:0100704); excluded: Neoplasm (HP:0002664)</td></tr>\n",
       "<tr><td style=\"text-align: left;\">10 (MALE; P2Y)</td><td style=\"text-align: left;\">ZTTK SYNDROME (OMIM:617140)</td><td style=\"text-align: left;\">NM_138927.2:c.6010del (heterozygous)</td><td style=\"text-align: left;\">Short stature (HP:0004322); Decreased body weight (HP:0004325); Intellectual disability, moderate (HP:0002342); Delayed speech and language development (HP:0000750); Seizure (HP:0001250); EEG abnormality (HP:0002353); Sleep abnormality (HP:0002360); Downslanted palpebral fissures (HP:0000494); Low-set ears (HP:0000369); Generalized joint hypermobility (HP:0002761); excluded: Premature birth (HP:0001622); excluded: Caesarian section (HP:0011410); excluded: Hypotonia (HP:0001252); excluded: Autistic behavior (HP:0000729); excluded: Horizontal eyebrow (HP:0011228); excluded: Facial asymmetry (HP:0000324); excluded: Midface retrusion (HP:0011800); excluded: Strabismus (HP:0000486); excluded: Deeply set eye (HP:0000490); excluded: Epicanthus (HP:0000286); excluded: Thin upper lip vermilion (HP:0000219); excluded: Posteriorly rotated ears (HP:0000358); excluded: Pes planus (HP:0001763); excluded: Feeding difficulties (HP:0011968); excluded: Dysphagia (HP:0002015); excluded: Ventricular septal defect (HP:0001629); excluded: Atrial septal defect (HP:0001631); excluded: Horseshoe kidney (HP:0000085); excluded: Renal cyst (HP:0000107); excluded: Hypermetropia (HP:0000540); excluded: Cerebral visual impairment (HP:0100704); excluded: Recurrent otitis media (HP:0000403); excluded: Neoplasm (HP:0002664)</td></tr>\n",
       "<tr><td style=\"text-align: left;\">11 (FEMALE; P11Y)</td><td style=\"text-align: left;\">ZTTK SYNDROME (OMIM:617140)</td><td style=\"text-align: left;\">NM_138927.2:c.5753_5756del (heterozygous)</td><td style=\"text-align: left;\">Intellectual disability, mild (HP:0001256); Delayed speech and language development (HP:0000750); Posteriorly rotated ears (HP:0000358); excluded: Premature birth (HP:0001622); excluded: Caesarian section (HP:0011410); excluded: Hypotonia (HP:0001252); excluded: Seizure (HP:0001250); excluded: EEG abnormality (HP:0002353); excluded: Ventriculomegaly (HP:0002119); excluded: Hypoplasia of the corpus callosum (HP:0002079); excluded: Polymicrogyria (HP:0002126); excluded: Cortical dysplasia (HP:0002539); excluded: Autistic behavior (HP:0000729); excluded: Sleep abnormality (HP:0002360); excluded: Thin upper lip vermilion (HP:0000219); excluded: Low-set ears (HP:0000369); excluded: Generalized joint hypermobility (HP:0002761); excluded: Pes planus (HP:0001763); excluded: Hypermetropia (HP:0000540); excluded: Cerebral visual impairment (HP:0100704)</td></tr>\n",
       "<tr><td style=\"text-align: left;\">12 (MALE; P14Y)</td><td style=\"text-align: left;\">ZTTK SYNDROME (OMIM:617140)</td><td style=\"text-align: left;\">NM_138927.2:c.348_351del (heterozygous)</td><td style=\"text-align: left;\">Short stature (HP:0004322); Decreased body weight (HP:0004325); Intellectual disability, severe (HP:0010864); Delayed speech and language development (HP:0000750); Caesarian section (HP:0011410); Seizure (HP:0001250); Ventriculomegaly (HP:0002119); Hypoplasia of the corpus callosum (HP:0002079); Downslanted palpebral fissures (HP:0000494); Posteriorly rotated ears (HP:0000358); Generalized joint hypermobility (HP:0002761); Pes planus (HP:0001763); Visual impairment (HP:0000505); excluded: Premature birth (HP:0001622); excluded: Hypotonia (HP:0001252); excluded: EEG abnormality (HP:0002353); excluded: Polymicrogyria (HP:0002126); excluded: Cortical dysplasia (HP:0002539); excluded: Autistic behavior (HP:0000729); excluded: Sleep abnormality (HP:0002360); excluded: Horizontal eyebrow (HP:0011228); excluded: Facial asymmetry (HP:0000324); excluded: Midface retrusion (HP:0011800); excluded: Strabismus (HP:0000486); excluded: Deeply set eye (HP:0000490); excluded: Epicanthus (HP:0000286); excluded: Low-set ears (HP:0000369); excluded: Hypermetropia (HP:0000540); excluded: Cerebral visual impairment (HP:0100704); excluded: Neoplasm (HP:0002664)</td></tr>\n",
       "<tr><td style=\"text-align: left;\">13 (FEMALE; P27Y)</td><td style=\"text-align: left;\">ZTTK SYNDROME (OMIM:617140)</td><td style=\"text-align: left;\">NM_138927.2:c.5753_5756del (heterozygous)</td><td style=\"text-align: left;\">Short stature (HP:0004322); Intellectual disability, severe (HP:0010864); Delayed speech and language development (HP:0000750); Hypotonia (HP:0001252); Sleep abnormality (HP:0002360); Posteriorly rotated ears (HP:0000358); Generalized joint hypermobility (HP:0002761); Pes planus (HP:0001763); Feeding difficulties (HP:0011968); excluded: Premature birth (HP:0001622); excluded: Caesarian section (HP:0011410); excluded: Seizure (HP:0001250); excluded: EEG abnormality (HP:0002353); excluded: Autistic behavior (HP:0000729); excluded: Horizontal eyebrow (HP:0011228); excluded: Facial asymmetry (HP:0000324); excluded: Midface retrusion (HP:0011800); excluded: Downslanted palpebral fissures (HP:0000494); excluded: Strabismus (HP:0000486); excluded: Deeply set eye (HP:0000490); excluded: Epicanthus (HP:0000286); excluded: Thin upper lip vermilion (HP:0000219); excluded: Low-set ears (HP:0000369); excluded: Dysphagia (HP:0002015); excluded: Hypermetropia (HP:0000540); excluded: Cerebral visual impairment (HP:0100704)</td></tr>\n",
       "<tr><td style=\"text-align: left;\">14 (MALE; P13Y)</td><td style=\"text-align: left;\">ZTTK SYNDROME (OMIM:617140)</td><td style=\"text-align: left;\">NM_138927.2:c.5753_5756del (heterozygous)</td><td style=\"text-align: left;\">Intellectual disability, mild (HP:0001256); Delayed speech and language development (HP:0000750); Ventriculomegaly (HP:0002119); Midface retrusion (HP:0011800); Strabismus (HP:0000486); Feeding difficulties (HP:0011968); Visual impairment (HP:0000505); Hypermetropia (HP:0000540); excluded: Premature birth (HP:0001622); excluded: Caesarian section (HP:0011410); excluded: Hypotonia (HP:0001252); excluded: Seizure (HP:0001250); excluded: EEG abnormality (HP:0002353); excluded: Hypoplasia of the corpus callosum (HP:0002079); excluded: Polymicrogyria (HP:0002126); excluded: Cortical dysplasia (HP:0002539); excluded: Autistic behavior (HP:0000729); excluded: Sleep abnormality (HP:0002360); excluded: Horizontal eyebrow (HP:0011228); excluded: Facial asymmetry (HP:0000324); excluded: Downslanted palpebral fissures (HP:0000494); excluded: Deeply set eye (HP:0000490); excluded: Epicanthus (HP:0000286); excluded: Thin upper lip vermilion (HP:0000219); excluded: Low-set ears (HP:0000369); excluded: Posteriorly rotated ears (HP:0000358); excluded: Generalized joint hypermobility (HP:0002761); excluded: Pes planus (HP:0001763); excluded: Dysphagia (HP:0002015); excluded: Ventricular septal defect (HP:0001629); excluded: Atrial septal defect (HP:0001631); excluded: Horseshoe kidney (HP:0000085); excluded: Renal cyst (HP:0000107); excluded: Cerebral visual impairment (HP:0100704); excluded: Recurrent otitis media (HP:0000403); excluded: Neoplasm (HP:0002664)</td></tr>\n",
       "<tr><td style=\"text-align: left;\">15 (FEMALE; P4Y)</td><td style=\"text-align: left;\">ZTTK SYNDROME (OMIM:617140)</td><td style=\"text-align: left;\">NM_138927.2:c.668C>T (heterozygous)</td><td style=\"text-align: left;\">Hypotonia (HP:0001252); excluded: Premature birth (HP:0001622); excluded: Caesarian section (HP:0011410); excluded: Seizure (HP:0001250); excluded: EEG abnormality (HP:0002353); excluded: Ventriculomegaly (HP:0002119); excluded: Hypoplasia of the corpus callosum (HP:0002079); excluded: Polymicrogyria (HP:0002126); excluded: Cortical dysplasia (HP:0002539); excluded: Horizontal eyebrow (HP:0011228); excluded: Facial asymmetry (HP:0000324); excluded: Midface retrusion (HP:0011800); excluded: Downslanted palpebral fissures (HP:0000494); excluded: Strabismus (HP:0000486); excluded: Deeply set eye (HP:0000490); excluded: Epicanthus (HP:0000286); excluded: Thin upper lip vermilion (HP:0000219); excluded: Low-set ears (HP:0000369); excluded: Posteriorly rotated ears (HP:0000358); excluded: Generalized joint hypermobility (HP:0002761); excluded: Pes planus (HP:0001763); excluded: Feeding difficulties (HP:0011968); excluded: Dysphagia (HP:0002015); excluded: Ventricular septal defect (HP:0001629); excluded: Atrial septal defect (HP:0001631); excluded: Horseshoe kidney (HP:0000085); excluded: Renal cyst (HP:0000107); excluded: Recurrent otitis media (HP:0000403); excluded: Neoplasm (HP:0002664)</td></tr>\n",
       "<tr><td style=\"text-align: left;\">16 (MALE; P4Y)</td><td style=\"text-align: left;\">ZTTK SYNDROME (OMIM:617140)</td><td style=\"text-align: left;\">NM_138927.2:c.3334C>T (heterozygous)</td><td style=\"text-align: left;\">Delayed speech and language development (HP:0000750); Intellectual disability (HP:0001249); Hypotonia (HP:0001252); Strabismus (HP:0000486); Epicanthus (HP:0000286); Posteriorly rotated ears (HP:0000358); Generalized joint hypermobility (HP:0002761); Ventricular septal defect (HP:0001629); Atrial septal defect (HP:0001631); Visual impairment (HP:0000505); excluded: Premature birth (HP:0001622); excluded: Caesarian section (HP:0011410); excluded: Seizure (HP:0001250); excluded: EEG abnormality (HP:0002353); excluded: Ventriculomegaly (HP:0002119); excluded: Hypoplasia of the corpus callosum (HP:0002079); excluded: Polymicrogyria (HP:0002126); excluded: Cortical dysplasia (HP:0002539); excluded: Autistic behavior (HP:0000729); excluded: Sleep abnormality (HP:0002360); excluded: Horizontal eyebrow (HP:0011228); excluded: Facial asymmetry (HP:0000324); excluded: Midface retrusion (HP:0011800); excluded: Downslanted palpebral fissures (HP:0000494); excluded: Deeply set eye (HP:0000490); excluded: Thin upper lip vermilion (HP:0000219); excluded: Low-set ears (HP:0000369); excluded: Pes planus (HP:0001763); excluded: Feeding difficulties (HP:0011968); excluded: Dysphagia (HP:0002015); excluded: Horseshoe kidney (HP:0000085); excluded: Renal cyst (HP:0000107); excluded: Hypermetropia (HP:0000540); excluded: Cerebral visual impairment (HP:0100704); excluded: Recurrent otitis media (HP:0000403); excluded: Neoplasm (HP:0002664)</td></tr>\n",
       "<tr><td style=\"text-align: left;\">17 (FEMALE; P4Y)</td><td style=\"text-align: left;\">ZTTK SYNDROME (OMIM:617140)</td><td style=\"text-align: left;\">NM_138927.2:c.1881_1882del (heterozygous)</td><td style=\"text-align: left;\">Microcephaly (HP:0000252); Short stature (HP:0004322); Small for gestational age (HP:0001518); Intellectual disability, moderate (HP:0002342); Delayed speech and language development (HP:0000750); Seizure (HP:0001250); EEG abnormality (HP:0002353); Sleep abnormality (HP:0002360); Midface retrusion (HP:0011800); Low-set ears (HP:0000369); Horseshoe kidney (HP:0000085); Visual impairment (HP:0000505); excluded: Premature birth (HP:0001622); excluded: Caesarian section (HP:0011410); excluded: Hypotonia (HP:0001252); excluded: Ventriculomegaly (HP:0002119); excluded: Hypoplasia of the corpus callosum (HP:0002079); excluded: Polymicrogyria (HP:0002126); excluded: Cortical dysplasia (HP:0002539); excluded: Autistic behavior (HP:0000729); excluded: Horizontal eyebrow (HP:0011228); excluded: Facial asymmetry (HP:0000324); excluded: Downslanted palpebral fissures (HP:0000494); excluded: Strabismus (HP:0000486); excluded: Deeply set eye (HP:0000490); excluded: Epicanthus (HP:0000286); excluded: Thin upper lip vermilion (HP:0000219); excluded: Posteriorly rotated ears (HP:0000358); excluded: Generalized joint hypermobility (HP:0002761); excluded: Pes planus (HP:0001763); excluded: Feeding difficulties (HP:0011968); excluded: Dysphagia (HP:0002015); excluded: Ventricular septal defect (HP:0001629); excluded: Atrial septal defect (HP:0001631); excluded: Renal cyst (HP:0000107); excluded: Hypermetropia (HP:0000540); excluded: Cerebral visual impairment (HP:0100704); excluded: Recurrent otitis media (HP:0000403); excluded: Neoplasm (HP:0002664)</td></tr>\n",
       "<tr><td style=\"text-align: left;\">18 (MALE; P4Y)</td><td style=\"text-align: left;\">ZTTK SYNDROME (OMIM:617140)</td><td style=\"text-align: left;\">NM_138927.2:c.1736C>G (heterozygous)</td><td style=\"text-align: left;\">Microcephaly (HP:0000252); Decreased body weight (HP:0004325); Delayed speech and language development (HP:0000750); Epicanthus (HP:0000286); excluded: Intellectual disability (HP:0001249); excluded: Premature birth (HP:0001622); excluded: Caesarian section (HP:0011410); excluded: Hypotonia (HP:0001252); excluded: Seizure (HP:0001250); excluded: EEG abnormality (HP:0002353); excluded: Ventriculomegaly (HP:0002119); excluded: Hypoplasia of the corpus callosum (HP:0002079); excluded: Polymicrogyria (HP:0002126); excluded: Cortical dysplasia (HP:0002539); excluded: Autistic behavior (HP:0000729); excluded: Sleep abnormality (HP:0002360); excluded: Horizontal eyebrow (HP:0011228); excluded: Facial asymmetry (HP:0000324); excluded: Midface retrusion (HP:0011800); excluded: Downslanted palpebral fissures (HP:0000494); excluded: Strabismus (HP:0000486); excluded: Deeply set eye (HP:0000490); excluded: Thin upper lip vermilion (HP:0000219); excluded: Low-set ears (HP:0000369); excluded: Posteriorly rotated ears (HP:0000358); excluded: Generalized joint hypermobility (HP:0002761); excluded: Pes planus (HP:0001763); excluded: Feeding difficulties (HP:0011968); excluded: Dysphagia (HP:0002015); excluded: Ventricular septal defect (HP:0001629); excluded: Atrial septal defect (HP:0001631); excluded: Horseshoe kidney (HP:0000085); excluded: Renal cyst (HP:0000107); excluded: Hypermetropia (HP:0000540); excluded: Cerebral visual impairment (HP:0100704); excluded: Recurrent otitis media (HP:0000403); excluded: Neoplasm (HP:0002664)</td></tr>\n",
       "<tr><td style=\"text-align: left;\">19 (MALE; P4Y)</td><td style=\"text-align: left;\">ZTTK SYNDROME (OMIM:617140)</td><td style=\"text-align: left;\">NM_138927.2:c.4018del (heterozygous)</td><td style=\"text-align: left;\">Small for gestational age (HP:0001518); Delayed speech and language development (HP:0000750); Intellectual disability (HP:0001249); Hypotonia (HP:0001252); Ventriculomegaly (HP:0002119); Strabismus (HP:0000486); Epicanthus (HP:0000286); Thin upper lip vermilion (HP:0000219); Generalized joint hypermobility (HP:0002761); Pes planus (HP:0001763); Feeding difficulties (HP:0011968); Horseshoe kidney (HP:0000085); Renal cyst (HP:0000107); Visual impairment (HP:0000505); Hypermetropia (HP:0000540); Recurrent otitis media (HP:0000403); excluded: Premature birth (HP:0001622); excluded: Caesarian section (HP:0011410); excluded: Seizure (HP:0001250); excluded: EEG abnormality (HP:0002353); excluded: Hypoplasia of the corpus callosum (HP:0002079); excluded: Polymicrogyria (HP:0002126); excluded: Cortical dysplasia (HP:0002539); excluded: Autistic behavior (HP:0000729); excluded: Sleep abnormality (HP:0002360); excluded: Horizontal eyebrow (HP:0011228); excluded: Facial asymmetry (HP:0000324); excluded: Midface retrusion (HP:0011800); excluded: Downslanted palpebral fissures (HP:0000494); excluded: Deeply set eye (HP:0000490); excluded: Low-set ears (HP:0000369); excluded: Posteriorly rotated ears (HP:0000358); excluded: Dysphagia (HP:0002015); excluded: Ventricular septal defect (HP:0001629); excluded: Atrial septal defect (HP:0001631); excluded: Cerebral visual impairment (HP:0100704); excluded: Neoplasm (HP:0002664)</td></tr>\n",
       "<tr><td style=\"text-align: left;\">20 (FEMALE; P5Y)</td><td style=\"text-align: left;\">ZTTK SYNDROME (OMIM:617140)</td><td style=\"text-align: left;\">NM_138927.2:c.4678del (heterozygous)</td><td style=\"text-align: left;\">Intellectual disability (HP:0001249); excluded: Premature birth (HP:0001622); excluded: Caesarian section (HP:0011410); excluded: Ventricular septal defect (HP:0001629); excluded: Atrial septal defect (HP:0001631); excluded: Horseshoe kidney (HP:0000085); excluded: Renal cyst (HP:0000107); excluded: Recurrent otitis media (HP:0000403)</td></tr>\n",
       "<tr><td style=\"text-align: left;\">21 (FEMALE; P15Y)</td><td style=\"text-align: left;\">ZTTK SYNDROME (OMIM:617140)</td><td style=\"text-align: left;\">NM_138927.2:c.1444del (heterozygous)</td><td style=\"text-align: left;\">Intellectual disability, moderate (HP:0002342); Caesarian section (HP:0011410); Seizure (HP:0001250); Midface retrusion (HP:0011800); Strabismus (HP:0000486); Ventricular septal defect (HP:0001629); Atrial septal defect (HP:0001631); excluded: Premature birth (HP:0001622); excluded: Hypotonia (HP:0001252); excluded: EEG abnormality (HP:0002353); excluded: Ventriculomegaly (HP:0002119); excluded: Hypoplasia of the corpus callosum (HP:0002079); excluded: Polymicrogyria (HP:0002126); excluded: Cortical dysplasia (HP:0002539); excluded: Autistic behavior (HP:0000729); excluded: Sleep abnormality (HP:0002360); excluded: Horizontal eyebrow (HP:0011228); excluded: Facial asymmetry (HP:0000324); excluded: Downslanted palpebral fissures (HP:0000494); excluded: Deeply set eye (HP:0000490); excluded: Epicanthus (HP:0000286); excluded: Thin upper lip vermilion (HP:0000219); excluded: Low-set ears (HP:0000369); excluded: Posteriorly rotated ears (HP:0000358); excluded: Generalized joint hypermobility (HP:0002761); excluded: Pes planus (HP:0001763); excluded: Feeding difficulties (HP:0011968); excluded: Dysphagia (HP:0002015); excluded: Horseshoe kidney (HP:0000085); excluded: Renal cyst (HP:0000107); excluded: Hypermetropia (HP:0000540); excluded: Cerebral visual impairment (HP:0100704); excluded: Recurrent otitis media (HP:0000403); excluded: Neoplasm (HP:0002664)</td></tr>\n",
       "<tr><td style=\"text-align: left;\">22 (FEMALE; P13Y)</td><td style=\"text-align: left;\">ZTTK SYNDROME (OMIM:617140)</td><td style=\"text-align: left;\">NM_138927.2:c.394C>T (heterozygous)</td><td style=\"text-align: left;\">Short stature (HP:0004322); Small for gestational age (HP:0001518); Intellectual disability (HP:0001249); Hypoplasia of the corpus callosum (HP:0002079); Horizontal eyebrow (HP:0011228); Thin upper lip vermilion (HP:0000219); Low-set ears (HP:0000369); excluded: Premature birth (HP:0001622); excluded: Caesarian section (HP:0011410); excluded: Hypotonia (HP:0001252); excluded: Seizure (HP:0001250); excluded: EEG abnormality (HP:0002353); excluded: Ventriculomegaly (HP:0002119); excluded: Polymicrogyria (HP:0002126); excluded: Cortical dysplasia (HP:0002539); excluded: Autistic behavior (HP:0000729); excluded: Sleep abnormality (HP:0002360); excluded: Facial asymmetry (HP:0000324); excluded: Midface retrusion (HP:0011800); excluded: Downslanted palpebral fissures (HP:0000494); excluded: Strabismus (HP:0000486); excluded: Deeply set eye (HP:0000490); excluded: Epicanthus (HP:0000286); excluded: Posteriorly rotated ears (HP:0000358); excluded: Generalized joint hypermobility (HP:0002761); excluded: Pes planus (HP:0001763); excluded: Feeding difficulties (HP:0011968); excluded: Dysphagia (HP:0002015); excluded: Ventricular septal defect (HP:0001629); excluded: Atrial septal defect (HP:0001631); excluded: Horseshoe kidney (HP:0000085); excluded: Renal cyst (HP:0000107); excluded: Hypermetropia (HP:0000540); excluded: Cerebral visual impairment (HP:0100704); excluded: Recurrent otitis media (HP:0000403); excluded: Neoplasm (HP:0002664)</td></tr>\n",
       "<tr><td style=\"text-align: left;\">23 (MALE; P13Y)</td><td style=\"text-align: left;\">ZTTK SYNDROME (OMIM:617140)</td><td style=\"text-align: left;\">NM_138927.2:c.5753_5756del (heterozygous)</td><td style=\"text-align: left;\">Short stature (HP:0004322); Decreased body weight (HP:0004325); Intellectual disability, severe (HP:0010864); Delayed speech and language development (HP:0000750); Caesarian section (HP:0011410); Hypotonia (HP:0001252); Epicanthus (HP:0000286); Posteriorly rotated ears (HP:0000358); Feeding difficulties (HP:0011968); excluded: Premature birth (HP:0001622); excluded: Seizure (HP:0001250); excluded: EEG abnormality (HP:0002353); excluded: Ventriculomegaly (HP:0002119); excluded: Hypoplasia of the corpus callosum (HP:0002079); excluded: Polymicrogyria (HP:0002126); excluded: Cortical dysplasia (HP:0002539); excluded: Autistic behavior (HP:0000729); excluded: Sleep abnormality (HP:0002360); excluded: Horizontal eyebrow (HP:0011228); excluded: Facial asymmetry (HP:0000324); excluded: Midface retrusion (HP:0011800); excluded: Downslanted palpebral fissures (HP:0000494); excluded: Strabismus (HP:0000486); excluded: Deeply set eye (HP:0000490); excluded: Thin upper lip vermilion (HP:0000219); excluded: Low-set ears (HP:0000369); excluded: Generalized joint hypermobility (HP:0002761); excluded: Pes planus (HP:0001763); excluded: Dysphagia (HP:0002015); excluded: Ventricular septal defect (HP:0001629); excluded: Atrial septal defect (HP:0001631); excluded: Horseshoe kidney (HP:0000085); excluded: Renal cyst (HP:0000107); excluded: Hypermetropia (HP:0000540); excluded: Cerebral visual impairment (HP:0100704); excluded: Recurrent otitis media (HP:0000403); excluded: Neoplasm (HP:0002664)</td></tr>\n",
       "<tr><td style=\"text-align: left;\">24 (MALE; P4Y)</td><td style=\"text-align: left;\">ZTTK SYNDROME (OMIM:617140)</td><td style=\"text-align: left;\">NM_138927.2:c.5230del (heterozygous)</td><td style=\"text-align: left;\">Short stature (HP:0004322); Intellectual disability, severe (HP:0010864); Premature birth (HP:0001622); Hypotonia (HP:0001252); Ventriculomegaly (HP:0002119); Hypoplasia of the corpus callosum (HP:0002079); Epicanthus (HP:0000286); Low-set ears (HP:0000369); Feeding difficulties (HP:0011968); Horseshoe kidney (HP:0000085); excluded: Caesarian section (HP:0011410); excluded: Seizure (HP:0001250); excluded: EEG abnormality (HP:0002353); excluded: Polymicrogyria (HP:0002126); excluded: Cortical dysplasia (HP:0002539); excluded: Horizontal eyebrow (HP:0011228); excluded: Facial asymmetry (HP:0000324); excluded: Midface retrusion (HP:0011800); excluded: Downslanted palpebral fissures (HP:0000494); excluded: Strabismus (HP:0000486); excluded: Deeply set eye (HP:0000490); excluded: Thin upper lip vermilion (HP:0000219); excluded: Posteriorly rotated ears (HP:0000358); excluded: Generalized joint hypermobility (HP:0002761); excluded: Pes planus (HP:0001763); excluded: Dysphagia (HP:0002015); excluded: Ventricular septal defect (HP:0001629); excluded: Atrial septal defect (HP:0001631); excluded: Renal cyst (HP:0000107); excluded: Hypermetropia (HP:0000540); excluded: Cerebral visual impairment (HP:0100704); excluded: Recurrent otitis media (HP:0000403); excluded: Neoplasm (HP:0002664)</td></tr>\n",
       "<tr><td style=\"text-align: left;\">25 (MALE; P10Y)</td><td style=\"text-align: left;\">ZTTK SYNDROME (OMIM:617140)</td><td style=\"text-align: left;\">Whole gene deletion: chromosomal_deletion (SO:1000029)</td><td style=\"text-align: left;\">Microcephaly (HP:0000252); Short stature (HP:0004322); Small for gestational age (HP:0001518); Intellectual disability, severe (HP:0010864); Hypotonia (HP:0001252); Ventriculomegaly (HP:0002119); Cortical dysplasia (HP:0002539); Strabismus (HP:0000486); Generalized joint hypermobility (HP:0002761); Visual impairment (HP:0000505); Hypermetropia (HP:0000540); excluded: Premature birth (HP:0001622); excluded: Caesarian section (HP:0011410); excluded: Seizure (HP:0001250); excluded: EEG abnormality (HP:0002353); excluded: Hypoplasia of the corpus callosum (HP:0002079); excluded: Polymicrogyria (HP:0002126); excluded: Autistic behavior (HP:0000729); excluded: Sleep abnormality (HP:0002360); excluded: Horizontal eyebrow (HP:0011228); excluded: Facial asymmetry (HP:0000324); excluded: Midface retrusion (HP:0011800); excluded: Downslanted palpebral fissures (HP:0000494); excluded: Deeply set eye (HP:0000490); excluded: Epicanthus (HP:0000286); excluded: Pes planus (HP:0001763); excluded: Ventricular septal defect (HP:0001629); excluded: Atrial septal defect (HP:0001631); excluded: Horseshoe kidney (HP:0000085); excluded: Renal cyst (HP:0000107); excluded: Cerebral visual impairment (HP:0100704); excluded: Recurrent otitis media (HP:0000403); excluded: Neoplasm (HP:0002664)</td></tr>\n",
       "<tr><td style=\"text-align: left;\">26 (MALE; P10Y)</td><td style=\"text-align: left;\">ZTTK SYNDROME (OMIM:617140)</td><td style=\"text-align: left;\">NM_138927.2:c.5753_5756del (heterozygous)</td><td style=\"text-align: left;\">Short stature (HP:0004322); Small for gestational age (HP:0001518); Intellectual disability, moderate (HP:0002342); Seizure (HP:0001250); Ventriculomegaly (HP:0002119); Horizontal eyebrow (HP:0011228); Facial asymmetry (HP:0000324); Midface retrusion (HP:0011800); Downslanted palpebral fissures (HP:0000494); Deeply set eye (HP:0000490); Low-set ears (HP:0000369); Pes planus (HP:0001763); Feeding difficulties (HP:0011968); excluded: Premature birth (HP:0001622); excluded: Caesarian section (HP:0011410); excluded: Hypotonia (HP:0001252); excluded: EEG abnormality (HP:0002353); excluded: Hypoplasia of the corpus callosum (HP:0002079); excluded: Polymicrogyria (HP:0002126); excluded: Cortical dysplasia (HP:0002539); excluded: Autistic behavior (HP:0000729); excluded: Sleep abnormality (HP:0002360); excluded: Strabismus (HP:0000486); excluded: Epicanthus (HP:0000286); excluded: Thin upper lip vermilion (HP:0000219); excluded: Posteriorly rotated ears (HP:0000358); excluded: Generalized joint hypermobility (HP:0002761); excluded: Dysphagia (HP:0002015); excluded: Ventricular septal defect (HP:0001629); excluded: Atrial septal defect (HP:0001631); excluded: Horseshoe kidney (HP:0000085); excluded: Renal cyst (HP:0000107); excluded: Hypermetropia (HP:0000540); excluded: Cerebral visual impairment (HP:0100704); excluded: Recurrent otitis media (HP:0000403); excluded: Neoplasm (HP:0002664)</td></tr>\n",
       "<tr><td style=\"text-align: left;\">27 (FEMALE; P10Y)</td><td style=\"text-align: left;\">ZTTK SYNDROME (OMIM:617140)</td><td style=\"text-align: left;\">NM_138927.2:c.5753_5756del (heterozygous)</td><td style=\"text-align: left;\">Short stature (HP:0004322); Intellectual disability, severe (HP:0010864); Hypotonia (HP:0001252); Ventriculomegaly (HP:0002119); Horizontal eyebrow (HP:0011228); Facial asymmetry (HP:0000324); Midface retrusion (HP:0011800); Downslanted palpebral fissures (HP:0000494); Deeply set eye (HP:0000490); Low-set ears (HP:0000369); Generalized joint hypermobility (HP:0002761); Pes planus (HP:0001763); Feeding difficulties (HP:0011968); Atrial septal defect (HP:0001631); Renal cyst (HP:0000107); excluded: Premature birth (HP:0001622); excluded: Caesarian section (HP:0011410); excluded: Seizure (HP:0001250); excluded: EEG abnormality (HP:0002353); excluded: Hypoplasia of the corpus callosum (HP:0002079); excluded: Polymicrogyria (HP:0002126); excluded: Cortical dysplasia (HP:0002539); excluded: Autistic behavior (HP:0000729); excluded: Sleep abnormality (HP:0002360); excluded: Strabismus (HP:0000486); excluded: Epicanthus (HP:0000286); excluded: Thin upper lip vermilion (HP:0000219); excluded: Posteriorly rotated ears (HP:0000358); excluded: Dysphagia (HP:0002015); excluded: Ventricular septal defect (HP:0001629); excluded: Horseshoe kidney (HP:0000085); excluded: Hypermetropia (HP:0000540); excluded: Cerebral visual impairment (HP:0100704); excluded: Recurrent otitis media (HP:0000403); excluded: Neoplasm (HP:0002664)</td></tr>\n",
       "<tr><td style=\"text-align: left;\">28 (MALE; P4Y)</td><td style=\"text-align: left;\">ZTTK SYNDROME (OMIM:617140)</td><td style=\"text-align: left;\">NM_138927.2:c.4549dup (heterozygous)</td><td style=\"text-align: left;\">Short stature (HP:0004322); Intellectual disability, moderate (HP:0002342); Premature birth (HP:0001622); Hypotonia (HP:0001252); Ventriculomegaly (HP:0002119); Strabismus (HP:0000486); Pes planus (HP:0001763); Feeding difficulties (HP:0011968); excluded: Caesarian section (HP:0011410); excluded: Seizure (HP:0001250); excluded: EEG abnormality (HP:0002353); excluded: Hypoplasia of the corpus callosum (HP:0002079); excluded: Polymicrogyria (HP:0002126); excluded: Cortical dysplasia (HP:0002539); excluded: Autistic behavior (HP:0000729); excluded: Sleep abnormality (HP:0002360); excluded: Horizontal eyebrow (HP:0011228); excluded: Facial asymmetry (HP:0000324); excluded: Midface retrusion (HP:0011800); excluded: Downslanted palpebral fissures (HP:0000494); excluded: Deeply set eye (HP:0000490); excluded: Epicanthus (HP:0000286); excluded: Generalized joint hypermobility (HP:0002761); excluded: Dysphagia (HP:0002015); excluded: Ventricular septal defect (HP:0001629); excluded: Atrial septal defect (HP:0001631); excluded: Horseshoe kidney (HP:0000085); excluded: Renal cyst (HP:0000107); excluded: Hypermetropia (HP:0000540); excluded: Cerebral visual impairment (HP:0100704); excluded: Recurrent otitis media (HP:0000403); excluded: Neoplasm (HP:0002664)</td></tr>\n",
       "<tr><td style=\"text-align: left;\">29 (MALE; P4Y)</td><td style=\"text-align: left;\">ZTTK SYNDROME (OMIM:617140)</td><td style=\"text-align: left;\">NM_138927.2:c.4055del (heterozygous)</td><td style=\"text-align: left;\">Intellectual disability, moderate (HP:0002342); Premature birth (HP:0001622); Hypotonia (HP:0001252); Seizure (HP:0001250); Ventriculomegaly (HP:0002119); Horizontal eyebrow (HP:0011228); Facial asymmetry (HP:0000324); Midface retrusion (HP:0011800); Downslanted palpebral fissures (HP:0000494); Strabismus (HP:0000486); Deeply set eye (HP:0000490); Low-set ears (HP:0000369); Generalized joint hypermobility (HP:0002761); Pes planus (HP:0001763); Atrial septal defect (HP:0001631); Renal cyst (HP:0000107); Visual impairment (HP:0000505); Hypermetropia (HP:0000540); Recurrent otitis media (HP:0000403); excluded: Caesarian section (HP:0011410); excluded: EEG abnormality (HP:0002353); excluded: Hypoplasia of the corpus callosum (HP:0002079); excluded: Polymicrogyria (HP:0002126); excluded: Cortical dysplasia (HP:0002539); excluded: Autistic behavior (HP:0000729); excluded: Sleep abnormality (HP:0002360); excluded: Epicanthus (HP:0000286); excluded: Thin upper lip vermilion (HP:0000219); excluded: Posteriorly rotated ears (HP:0000358); excluded: Feeding difficulties (HP:0011968); excluded: Dysphagia (HP:0002015); excluded: Ventricular septal defect (HP:0001629); excluded: Horseshoe kidney (HP:0000085); excluded: Cerebral visual impairment (HP:0100704); excluded: Neoplasm (HP:0002664)</td></tr>\n",
       "<tr><td style=\"text-align: left;\">30 (MALE; P1Y)</td><td style=\"text-align: left;\">ZTTK SYNDROME (OMIM:617140)</td><td style=\"text-align: left;\">NM_138927.2:c.268del (heterozygous)</td><td style=\"text-align: left;\">Short stature (HP:0004322); Intellectual disability, severe (HP:0010864); Hypotonia (HP:0001252); Ventriculomegaly (HP:0002119); Horizontal eyebrow (HP:0011228); Facial asymmetry (HP:0000324); Midface retrusion (HP:0011800); Downslanted palpebral fissures (HP:0000494); Strabismus (HP:0000486); Deeply set eye (HP:0000490); Low-set ears (HP:0000369); Generalized joint hypermobility (HP:0002761); Feeding difficulties (HP:0011968); Atrial septal defect (HP:0001631); Visual impairment (HP:0000505); Hypermetropia (HP:0000540); excluded: Premature birth (HP:0001622); excluded: Caesarian section (HP:0011410); excluded: Seizure (HP:0001250); excluded: EEG abnormality (HP:0002353); excluded: Hypoplasia of the corpus callosum (HP:0002079); excluded: Polymicrogyria (HP:0002126); excluded: Cortical dysplasia (HP:0002539); excluded: Autistic behavior (HP:0000729); excluded: Sleep abnormality (HP:0002360); excluded: Epicanthus (HP:0000286); excluded: Thin upper lip vermilion (HP:0000219); excluded: Posteriorly rotated ears (HP:0000358); excluded: Pes planus (HP:0001763); excluded: Dysphagia (HP:0002015); excluded: Ventricular septal defect (HP:0001629); excluded: Horseshoe kidney (HP:0000085); excluded: Renal cyst (HP:0000107); excluded: Cerebral visual impairment (HP:0100704); excluded: Recurrent otitis media (HP:0000403); excluded: Neoplasm (HP:0002664)</td></tr>\n",
       "<tr><td style=\"text-align: left;\">31 (MALE; P7Y)</td><td style=\"text-align: left;\">ZTTK SYNDROME (OMIM:617140)</td><td style=\"text-align: left;\">NM_138927.2:c.3334C>T (heterozygous)</td><td style=\"text-align: left;\">Intellectual disability, severe (HP:0010864); Premature birth (HP:0001622); Hypotonia (HP:0001252); Ventriculomegaly (HP:0002119); Cortical dysplasia (HP:0002539); Autistic behavior (HP:0000729); Strabismus (HP:0000486); Pes planus (HP:0001763); Feeding difficulties (HP:0011968); excluded: Caesarian section (HP:0011410); excluded: Seizure (HP:0001250); excluded: EEG abnormality (HP:0002353); excluded: Hypoplasia of the corpus callosum (HP:0002079); excluded: Polymicrogyria (HP:0002126); excluded: Sleep abnormality (HP:0002360); excluded: Horizontal eyebrow (HP:0011228); excluded: Facial asymmetry (HP:0000324); excluded: Midface retrusion (HP:0011800); excluded: Downslanted palpebral fissures (HP:0000494); excluded: Deeply set eye (HP:0000490); excluded: Epicanthus (HP:0000286); excluded: Generalized joint hypermobility (HP:0002761); excluded: Dysphagia (HP:0002015); excluded: Ventricular septal defect (HP:0001629); excluded: Atrial septal defect (HP:0001631); excluded: Horseshoe kidney (HP:0000085); excluded: Renal cyst (HP:0000107); excluded: Hypermetropia (HP:0000540); excluded: Cerebral visual impairment (HP:0100704); excluded: Recurrent otitis media (HP:0000403); excluded: Neoplasm (HP:0002664)</td></tr>\n",
       "<tr><td style=\"text-align: left;\">32 (MALE; P14Y)</td><td style=\"text-align: left;\">ZTTK SYNDROME (OMIM:617140)</td><td style=\"text-align: left;\">NM_138927.2:c.2365del (heterozygous)</td><td style=\"text-align: left;\">Small for gestational age (HP:0001518); Intellectual disability, moderate (HP:0002342); Premature birth (HP:0001622); Hypotonia (HP:0001252); Seizure (HP:0001250); Ventriculomegaly (HP:0002119); Cortical dysplasia (HP:0002539); Horizontal eyebrow (HP:0011228); Facial asymmetry (HP:0000324); Midface retrusion (HP:0011800); Downslanted palpebral fissures (HP:0000494); Strabismus (HP:0000486); Deeply set eye (HP:0000490); Low-set ears (HP:0000369); Feeding difficulties (HP:0011968); excluded: Caesarian section (HP:0011410); excluded: EEG abnormality (HP:0002353); excluded: Hypoplasia of the corpus callosum (HP:0002079); excluded: Polymicrogyria (HP:0002126); excluded: Autistic behavior (HP:0000729); excluded: Sleep abnormality (HP:0002360); excluded: Epicanthus (HP:0000286); excluded: Thin upper lip vermilion (HP:0000219); excluded: Posteriorly rotated ears (HP:0000358); excluded: Generalized joint hypermobility (HP:0002761); excluded: Pes planus (HP:0001763); excluded: Dysphagia (HP:0002015); excluded: Ventricular septal defect (HP:0001629); excluded: Atrial septal defect (HP:0001631); excluded: Horseshoe kidney (HP:0000085); excluded: Renal cyst (HP:0000107); excluded: Hypermetropia (HP:0000540); excluded: Cerebral visual impairment (HP:0100704); excluded: Recurrent otitis media (HP:0000403); excluded: Neoplasm (HP:0002664)</td></tr>\n",
       "<tr><td style=\"text-align: left;\">33 (FEMALE; P2Y)</td><td style=\"text-align: left;\">ZTTK SYNDROME (OMIM:617140)</td><td style=\"text-align: left;\">NM_138927.2:c.4152_4172del (heterozygous)</td><td style=\"text-align: left;\">Microcephaly (HP:0000252); Short stature (HP:0004322); Small for gestational age (HP:0001518); Intellectual disability, moderate (HP:0002342); Hypotonia (HP:0001252); Sleep abnormality (HP:0002360); Feeding difficulties (HP:0011968); excluded: Premature birth (HP:0001622); excluded: Caesarian section (HP:0011410); excluded: Seizure (HP:0001250); excluded: EEG abnormality (HP:0002353); excluded: Autistic behavior (HP:0000729); excluded: Generalized joint hypermobility (HP:0002761); excluded: Pes planus (HP:0001763); excluded: Dysphagia (HP:0002015); excluded: Ventricular septal defect (HP:0001629); excluded: Atrial septal defect (HP:0001631); excluded: Horseshoe kidney (HP:0000085); excluded: Renal cyst (HP:0000107); excluded: Hypermetropia (HP:0000540); excluded: Cerebral visual impairment (HP:0100704); excluded: Recurrent otitis media (HP:0000403); excluded: Neoplasm (HP:0002664)</td></tr>\n",
       "<tr><td style=\"text-align: left;\">34 (MALE; P21Y)</td><td style=\"text-align: left;\">ZTTK SYNDROME (OMIM:617140)</td><td style=\"text-align: left;\">NM_138927.2:c.3597_3598dup (heterozygous)</td><td style=\"text-align: left;\">Microcephaly (HP:0000252); Short stature (HP:0004322); Small for gestational age (HP:0001518); Intellectual disability, severe (HP:0010864); Hypotonia (HP:0001252); Seizure (HP:0001250); Horizontal eyebrow (HP:0011228); Facial asymmetry (HP:0000324); Midface retrusion (HP:0011800); Downslanted palpebral fissures (HP:0000494); Deeply set eye (HP:0000490); Low-set ears (HP:0000369); excluded: Premature birth (HP:0001622); excluded: Caesarian section (HP:0011410); excluded: EEG abnormality (HP:0002353); excluded: Ventriculomegaly (HP:0002119); excluded: Hypoplasia of the corpus callosum (HP:0002079); excluded: Polymicrogyria (HP:0002126); excluded: Cortical dysplasia (HP:0002539); excluded: Autistic behavior (HP:0000729); excluded: Sleep abnormality (HP:0002360); excluded: Strabismus (HP:0000486); excluded: Epicanthus (HP:0000286); excluded: Thin upper lip vermilion (HP:0000219); excluded: Posteriorly rotated ears (HP:0000358); excluded: Generalized joint hypermobility (HP:0002761); excluded: Pes planus (HP:0001763); excluded: Feeding difficulties (HP:0011968); excluded: Dysphagia (HP:0002015); excluded: Ventricular septal defect (HP:0001629); excluded: Atrial septal defect (HP:0001631); excluded: Horseshoe kidney (HP:0000085); excluded: Renal cyst (HP:0000107); excluded: Hypermetropia (HP:0000540); excluded: Cerebral visual impairment (HP:0100704); excluded: Recurrent otitis media (HP:0000403); excluded: Neoplasm (HP:0002664)</td></tr>\n",
       "<tr><td style=\"text-align: left;\">35 (FEMALE; P6Y)</td><td style=\"text-align: left;\">ZTTK SYNDROME (OMIM:617140)</td><td style=\"text-align: left;\">NM_138927.2:c.6087del (heterozygous)</td><td style=\"text-align: left;\">Short stature (HP:0004322); Small for gestational age (HP:0001518); Intellectual disability, mild (HP:0001256); Hypotonia (HP:0001252); Seizure (HP:0001250); Horizontal eyebrow (HP:0011228); Facial asymmetry (HP:0000324); Midface retrusion (HP:0011800); Downslanted palpebral fissures (HP:0000494); Strabismus (HP:0000486); Deeply set eye (HP:0000490); Low-set ears (HP:0000369); Generalized joint hypermobility (HP:0002761); excluded: Premature birth (HP:0001622); excluded: Caesarian section (HP:0011410); excluded: EEG abnormality (HP:0002353); excluded: Ventriculomegaly (HP:0002119); excluded: Hypoplasia of the corpus callosum (HP:0002079); excluded: Polymicrogyria (HP:0002126); excluded: Cortical dysplasia (HP:0002539); excluded: Autistic behavior (HP:0000729); excluded: Sleep abnormality (HP:0002360); excluded: Epicanthus (HP:0000286); excluded: Thin upper lip vermilion (HP:0000219); excluded: Posteriorly rotated ears (HP:0000358); excluded: Pes planus (HP:0001763); excluded: Feeding difficulties (HP:0011968); excluded: Dysphagia (HP:0002015); excluded: Ventricular septal defect (HP:0001629); excluded: Atrial septal defect (HP:0001631); excluded: Horseshoe kidney (HP:0000085); excluded: Renal cyst (HP:0000107); excluded: Hypermetropia (HP:0000540); excluded: Cerebral visual impairment (HP:0100704); excluded: Recurrent otitis media (HP:0000403); excluded: Neoplasm (HP:0002664)</td></tr>\n",
       "<tr><td style=\"text-align: left;\">36 (FEMALE; P7Y)</td><td style=\"text-align: left;\">ZTTK SYNDROME (OMIM:617140)</td><td style=\"text-align: left;\">NM_138927.2:c.4640del (heterozygous)</td><td style=\"text-align: left;\">Short stature (HP:0004322); Intellectual disability, severe (HP:0010864); Hypotonia (HP:0001252); Seizure (HP:0001250); Ventriculomegaly (HP:0002119); Strabismus (HP:0000486); Generalized joint hypermobility (HP:0002761); Feeding difficulties (HP:0011968); Visual impairment (HP:0000505); Hypermetropia (HP:0000540); excluded: Premature birth (HP:0001622); excluded: Caesarian section (HP:0011410); excluded: EEG abnormality (HP:0002353); excluded: Hypoplasia of the corpus callosum (HP:0002079); excluded: Polymicrogyria (HP:0002126); excluded: Cortical dysplasia (HP:0002539); excluded: Autistic behavior (HP:0000729); excluded: Sleep abnormality (HP:0002360); excluded: Horizontal eyebrow (HP:0011228); excluded: Facial asymmetry (HP:0000324); excluded: Midface retrusion (HP:0011800); excluded: Downslanted palpebral fissures (HP:0000494); excluded: Deeply set eye (HP:0000490); excluded: Epicanthus (HP:0000286); excluded: Pes planus (HP:0001763); excluded: Dysphagia (HP:0002015); excluded: Ventricular septal defect (HP:0001629); excluded: Atrial septal defect (HP:0001631); excluded: Horseshoe kidney (HP:0000085); excluded: Renal cyst (HP:0000107); excluded: Cerebral visual impairment (HP:0100704); excluded: Recurrent otitis media (HP:0000403); excluded: Neoplasm (HP:0002664)</td></tr>\n",
       "<tr><td style=\"text-align: left;\">37 (FEMALE; P34Y)</td><td style=\"text-align: left;\">ZTTK SYNDROME (OMIM:617140)</td><td style=\"text-align: left;\">NM_138927.2:c.4358_4359del (heterozygous)</td><td style=\"text-align: left;\">Small for gestational age (HP:0001518); Intellectual disability, mild (HP:0001256); Hypotonia (HP:0001252); Ventriculomegaly (HP:0002119); Autistic behavior (HP:0000729); Horizontal eyebrow (HP:0011228); Facial asymmetry (HP:0000324); Midface retrusion (HP:0011800); Downslanted palpebral fissures (HP:0000494); Strabismus (HP:0000486); Deeply set eye (HP:0000490); Low-set ears (HP:0000369); Generalized joint hypermobility (HP:0002761); Feeding difficulties (HP:0011968); Horseshoe kidney (HP:0000085); excluded: Premature birth (HP:0001622); excluded: Caesarian section (HP:0011410); excluded: Seizure (HP:0001250); excluded: EEG abnormality (HP:0002353); excluded: Hypoplasia of the corpus callosum (HP:0002079); excluded: Polymicrogyria (HP:0002126); excluded: Cortical dysplasia (HP:0002539); excluded: Sleep abnormality (HP:0002360); excluded: Epicanthus (HP:0000286); excluded: Thin upper lip vermilion (HP:0000219); excluded: Posteriorly rotated ears (HP:0000358); excluded: Pes planus (HP:0001763); excluded: Dysphagia (HP:0002015); excluded: Ventricular septal defect (HP:0001629); excluded: Atrial septal defect (HP:0001631); excluded: Renal cyst (HP:0000107); excluded: Hypermetropia (HP:0000540); excluded: Cerebral visual impairment (HP:0100704); excluded: Recurrent otitis media (HP:0000403); excluded: Neoplasm (HP:0002664)</td></tr>\n",
       "<tr><td style=\"text-align: left;\">38 (MALE; P6Y)</td><td style=\"text-align: left;\">ZTTK SYNDROME (OMIM:617140)</td><td style=\"text-align: left;\">NM_138927.2:c.6002_6003insCC (heterozygous)</td><td style=\"text-align: left;\">Intellectual disability, mild (HP:0001256); Seizure (HP:0001250); Ventriculomegaly (HP:0002119); Hypoplasia of the corpus callosum (HP:0002079); Polymicrogyria (HP:0002126); Cortical dysplasia (HP:0002539); Generalized joint hypermobility (HP:0002761); Feeding difficulties (HP:0011968); Hypermetropia (HP:0000540); Cerebral visual impairment (HP:0100704); excluded: Premature birth (HP:0001622); excluded: Caesarian section (HP:0011410); excluded: Hypotonia (HP:0001252); excluded: EEG abnormality (HP:0002353); excluded: Autistic behavior (HP:0000729); excluded: Sleep abnormality (HP:0002360); excluded: Pes planus (HP:0001763); excluded: Dysphagia (HP:0002015); excluded: Ventricular septal defect (HP:0001629); excluded: Atrial septal defect (HP:0001631); excluded: Horseshoe kidney (HP:0000085); excluded: Renal cyst (HP:0000107); excluded: Recurrent otitis media (HP:0000403); excluded: Neoplasm (HP:0002664)</td></tr>\n",
       "<tr><td style=\"text-align: left;\">39 (FEMALE; P8Y)</td><td style=\"text-align: left;\">ZTTK SYNDROME (OMIM:617140)</td><td style=\"text-align: left;\">NM_138927.2:c.4999_5013del (heterozygous)</td><td style=\"text-align: left;\">Intellectual disability, mild (HP:0001256); Horizontal eyebrow (HP:0011228); Facial asymmetry (HP:0000324); Midface retrusion (HP:0011800); Downslanted palpebral fissures (HP:0000494); Deeply set eye (HP:0000490); Low-set ears (HP:0000369); Visual impairment (HP:0000505); Hypermetropia (HP:0000540); excluded: Premature birth (HP:0001622); excluded: Caesarian section (HP:0011410); excluded: Hypotonia (HP:0001252); excluded: Seizure (HP:0001250); excluded: EEG abnormality (HP:0002353); excluded: Ventriculomegaly (HP:0002119); excluded: Hypoplasia of the corpus callosum (HP:0002079); excluded: Polymicrogyria (HP:0002126); excluded: Cortical dysplasia (HP:0002539); excluded: Autistic behavior (HP:0000729); excluded: Sleep abnormality (HP:0002360); excluded: Strabismus (HP:0000486); excluded: Epicanthus (HP:0000286); excluded: Thin upper lip vermilion (HP:0000219); excluded: Posteriorly rotated ears (HP:0000358); excluded: Generalized joint hypermobility (HP:0002761); excluded: Pes planus (HP:0001763); excluded: Feeding difficulties (HP:0011968); excluded: Dysphagia (HP:0002015); excluded: Ventricular septal defect (HP:0001629); excluded: Atrial septal defect (HP:0001631); excluded: Horseshoe kidney (HP:0000085); excluded: Renal cyst (HP:0000107); excluded: Cerebral visual impairment (HP:0100704); excluded: Recurrent otitis media (HP:0000403); excluded: Neoplasm (HP:0002664)</td></tr>\n",
       "<tr><td style=\"text-align: left;\">40 (MALE; P6Y)</td><td style=\"text-align: left;\">ZTTK SYNDROME (OMIM:617140)</td><td style=\"text-align: left;\">NM_138927.2:c.5753_5756del (heterozygous)</td><td style=\"text-align: left;\">Intellectual disability, mild (HP:0001256); Premature birth (HP:0001622); Seizure (HP:0001250); Horizontal eyebrow (HP:0011228); Facial asymmetry (HP:0000324); Midface retrusion (HP:0011800); Downslanted palpebral fissures (HP:0000494); Deeply set eye (HP:0000490); Low-set ears (HP:0000369); Cerebral visual impairment (HP:0100704); excluded: Caesarian section (HP:0011410); excluded: Hypotonia (HP:0001252); excluded: EEG abnormality (HP:0002353); excluded: Ventriculomegaly (HP:0002119); excluded: Hypoplasia of the corpus callosum (HP:0002079); excluded: Polymicrogyria (HP:0002126); excluded: Cortical dysplasia (HP:0002539); excluded: Autistic behavior (HP:0000729); excluded: Sleep abnormality (HP:0002360); excluded: Strabismus (HP:0000486); excluded: Epicanthus (HP:0000286); excluded: Thin upper lip vermilion (HP:0000219); excluded: Posteriorly rotated ears (HP:0000358); excluded: Generalized joint hypermobility (HP:0002761); excluded: Pes planus (HP:0001763); excluded: Feeding difficulties (HP:0011968); excluded: Dysphagia (HP:0002015); excluded: Ventricular septal defect (HP:0001629); excluded: Atrial septal defect (HP:0001631); excluded: Horseshoe kidney (HP:0000085); excluded: Renal cyst (HP:0000107); excluded: Hypermetropia (HP:0000540); excluded: Recurrent otitis media (HP:0000403); excluded: Neoplasm (HP:0002664)</td></tr>\n",
       "<tr><td style=\"text-align: left;\">41 (MALE; P19Y)</td><td style=\"text-align: left;\">ZTTK SYNDROME (OMIM:617140)</td><td style=\"text-align: left;\">NM_138927.2:c.3852_3856del (heterozygous)</td><td style=\"text-align: left;\">Small for gestational age (HP:0001518); Intellectual disability, moderate (HP:0002342); Ventriculomegaly (HP:0002119); Horizontal eyebrow (HP:0011228); Facial asymmetry (HP:0000324); Midface retrusion (HP:0011800); Downslanted palpebral fissures (HP:0000494); Deeply set eye (HP:0000490); Low-set ears (HP:0000369); excluded: Premature birth (HP:0001622); excluded: Caesarian section (HP:0011410); excluded: Hypotonia (HP:0001252); excluded: Seizure (HP:0001250); excluded: EEG abnormality (HP:0002353); excluded: Hypoplasia of the corpus callosum (HP:0002079); excluded: Polymicrogyria (HP:0002126); excluded: Cortical dysplasia (HP:0002539); excluded: Autistic behavior (HP:0000729); excluded: Sleep abnormality (HP:0002360); excluded: Strabismus (HP:0000486); excluded: Epicanthus (HP:0000286); excluded: Thin upper lip vermilion (HP:0000219); excluded: Posteriorly rotated ears (HP:0000358); excluded: Generalized joint hypermobility (HP:0002761); excluded: Pes planus (HP:0001763); excluded: Feeding difficulties (HP:0011968); excluded: Dysphagia (HP:0002015); excluded: Ventricular septal defect (HP:0001629); excluded: Atrial septal defect (HP:0001631); excluded: Horseshoe kidney (HP:0000085); excluded: Renal cyst (HP:0000107); excluded: Hypermetropia (HP:0000540); excluded: Cerebral visual impairment (HP:0100704); excluded: Recurrent otitis media (HP:0000403); excluded: Neoplasm (HP:0002664)</td></tr>\n",
       "<tr><td style=\"text-align: left;\">42 (FEMALE; P4Y)</td><td style=\"text-align: left;\">ZTTK SYNDROME (OMIM:617140)</td><td style=\"text-align: left;\">NM_138927.2:c.5753_5756del (heterozygous)</td><td style=\"text-align: left;\">Intellectual disability, severe (HP:0010864); Premature birth (HP:0001622); Hypotonia (HP:0001252); Seizure (HP:0001250); Ventriculomegaly (HP:0002119); Cortical dysplasia (HP:0002539); Pes planus (HP:0001763); Feeding difficulties (HP:0011968); Dysphagia (HP:0002015); Ventricular septal defect (HP:0001629); Cerebral visual impairment (HP:0100704); excluded: Caesarian section (HP:0011410); excluded: EEG abnormality (HP:0002353); excluded: Hypoplasia of the corpus callosum (HP:0002079); excluded: Polymicrogyria (HP:0002126); excluded: Autistic behavior (HP:0000729); excluded: Sleep abnormality (HP:0002360); excluded: Generalized joint hypermobility (HP:0002761); excluded: Atrial septal defect (HP:0001631); excluded: Horseshoe kidney (HP:0000085); excluded: Renal cyst (HP:0000107); excluded: Hypermetropia (HP:0000540); excluded: Recurrent otitis media (HP:0000403); excluded: Neoplasm (HP:0002664)</td></tr>\n",
       "<tr><td style=\"text-align: left;\">43 (FEMALE; P9Y)</td><td style=\"text-align: left;\">ZTTK SYNDROME (OMIM:617140)</td><td style=\"text-align: left;\">NM_138927.2:c.1881_1882del (heterozygous)</td><td style=\"text-align: left;\">Microcephaly (HP:0000252); Short stature (HP:0004322); Intellectual disability, severe (HP:0010864); Premature birth (HP:0001622); Hypotonia (HP:0001252); Seizure (HP:0001250); Ventriculomegaly (HP:0002119); Hypoplasia of the corpus callosum (HP:0002079); Polymicrogyria (HP:0002126); Cortical dysplasia (HP:0002539); Horizontal eyebrow (HP:0011228); Facial asymmetry (HP:0000324); Midface retrusion (HP:0011800); Downslanted palpebral fissures (HP:0000494); Strabismus (HP:0000486); Deeply set eye (HP:0000490); Low-set ears (HP:0000369); Feeding difficulties (HP:0011968); Horseshoe kidney (HP:0000085); Renal cyst (HP:0000107); Cerebral visual impairment (HP:0100704); excluded: Caesarian section (HP:0011410); excluded: EEG abnormality (HP:0002353); excluded: Autistic behavior (HP:0000729); excluded: Sleep abnormality (HP:0002360); excluded: Epicanthus (HP:0000286); excluded: Thin upper lip vermilion (HP:0000219); excluded: Posteriorly rotated ears (HP:0000358); excluded: Generalized joint hypermobility (HP:0002761); excluded: Pes planus (HP:0001763); excluded: Dysphagia (HP:0002015); excluded: Ventricular septal defect (HP:0001629); excluded: Atrial septal defect (HP:0001631); excluded: Hypermetropia (HP:0000540); excluded: Recurrent otitis media (HP:0000403); excluded: Neoplasm (HP:0002664)</td></tr>\n",
       "<tr><td style=\"text-align: left;\">44 (FEMALE; P5Y)</td><td style=\"text-align: left;\">ZTTK SYNDROME (OMIM:617140)</td><td style=\"text-align: left;\">NM_138927.2:c.5549_5550del (heterozygous)</td><td style=\"text-align: left;\">Intellectual disability, moderate (HP:0002342); Hypotonia (HP:0001252); Seizure (HP:0001250); Polymicrogyria (HP:0002126); Cortical dysplasia (HP:0002539); Strabismus (HP:0000486); Feeding difficulties (HP:0011968); excluded: Premature birth (HP:0001622); excluded: Caesarian section (HP:0011410); excluded: EEG abnormality (HP:0002353); excluded: Ventriculomegaly (HP:0002119); excluded: Hypoplasia of the corpus callosum (HP:0002079); excluded: Autistic behavior (HP:0000729); excluded: Sleep abnormality (HP:0002360); excluded: Horizontal eyebrow (HP:0011228); excluded: Facial asymmetry (HP:0000324); excluded: Midface retrusion (HP:0011800); excluded: Downslanted palpebral fissures (HP:0000494); excluded: Deeply set eye (HP:0000490); excluded: Epicanthus (HP:0000286); excluded: Generalized joint hypermobility (HP:0002761); excluded: Pes planus (HP:0001763); excluded: Dysphagia (HP:0002015); excluded: Ventricular septal defect (HP:0001629); excluded: Atrial septal defect (HP:0001631); excluded: Horseshoe kidney (HP:0000085); excluded: Renal cyst (HP:0000107); excluded: Hypermetropia (HP:0000540); excluded: Cerebral visual impairment (HP:0100704); excluded: Recurrent otitis media (HP:0000403); excluded: Neoplasm (HP:0002664)</td></tr>\n",
       "<tr><td style=\"text-align: left;\">45 (FEMALE; P9Y)</td><td style=\"text-align: left;\">ZTTK SYNDROME (OMIM:617140)</td><td style=\"text-align: left;\">NM_138927.2:c.3852_3856del (heterozygous)</td><td style=\"text-align: left;\">Microcephaly (HP:0000252); Intellectual disability, severe (HP:0010864); Delayed speech and language development (HP:0000750); Hypotonia (HP:0001252); EEG abnormality (HP:0002353); Autistic behavior (HP:0000729); Downslanted palpebral fissures (HP:0000494); Thin upper lip vermilion (HP:0000219); Generalized joint hypermobility (HP:0002761); Feeding difficulties (HP:0011968); Recurrent otitis media (HP:0000403); excluded: Premature birth (HP:0001622); excluded: Caesarian section (HP:0011410); excluded: Seizure (HP:0001250); excluded: Sleep abnormality (HP:0002360); excluded: Horizontal eyebrow (HP:0011228); excluded: Facial asymmetry (HP:0000324); excluded: Midface retrusion (HP:0011800); excluded: Strabismus (HP:0000486); excluded: Deeply set eye (HP:0000490); excluded: Epicanthus (HP:0000286); excluded: Low-set ears (HP:0000369); excluded: Posteriorly rotated ears (HP:0000358); excluded: Pes planus (HP:0001763); excluded: Dysphagia (HP:0002015); excluded: Ventricular septal defect (HP:0001629); excluded: Atrial septal defect (HP:0001631); excluded: Horseshoe kidney (HP:0000085); excluded: Renal cyst (HP:0000107); excluded: Neoplasm (HP:0002664)</td></tr>\n",
       "<tr><td style=\"text-align: left;\">46 (FEMALE; P3Y)</td><td style=\"text-align: left;\">ZTTK SYNDROME (OMIM:617140)</td><td style=\"text-align: left;\">NM_138927.2:c.5528C>A (heterozygous)</td><td style=\"text-align: left;\">Microcephaly (HP:0000252); Short stature (HP:0004322); Decreased body weight (HP:0004325); Intellectual disability, severe (HP:0010864); Delayed speech and language development (HP:0000750); Premature birth (HP:0001622); Hypotonia (HP:0001252); Facial asymmetry (HP:0000324); Downslanted palpebral fissures (HP:0000494); Epicanthus (HP:0000286); Thin upper lip vermilion (HP:0000219); Low-set ears (HP:0000369); Feeding difficulties (HP:0011968); Ventricular septal defect (HP:0001629); excluded: Caesarian section (HP:0011410); excluded: Seizure (HP:0001250); excluded: EEG abnormality (HP:0002353); excluded: Ventriculomegaly (HP:0002119); excluded: Hypoplasia of the corpus callosum (HP:0002079); excluded: Polymicrogyria (HP:0002126); excluded: Cortical dysplasia (HP:0002539); excluded: Autistic behavior (HP:0000729); excluded: Sleep abnormality (HP:0002360); excluded: Horizontal eyebrow (HP:0011228); excluded: Midface retrusion (HP:0011800); excluded: Strabismus (HP:0000486); excluded: Deeply set eye (HP:0000490); excluded: Posteriorly rotated ears (HP:0000358); excluded: Generalized joint hypermobility (HP:0002761); excluded: Pes planus (HP:0001763); excluded: Dysphagia (HP:0002015); excluded: Atrial septal defect (HP:0001631); excluded: Horseshoe kidney (HP:0000085); excluded: Renal cyst (HP:0000107); excluded: Hypermetropia (HP:0000540); excluded: Cerebral visual impairment (HP:0100704)</td></tr>\n",
       "<tr><td style=\"text-align: left;\">47 (FEMALE; P9Y)</td><td style=\"text-align: left;\">ZTTK SYNDROME (OMIM:617140)</td><td style=\"text-align: left;\">NM_138927.2:c.3073dup (heterozygous)</td><td style=\"text-align: left;\">Short stature (HP:0004322); Decreased body weight (HP:0004325); Intellectual disability, severe (HP:0010864); Delayed speech and language development (HP:0000750); Premature birth (HP:0001622); Hypotonia (HP:0001252); EEG abnormality (HP:0002353); Downslanted palpebral fissures (HP:0000494); Strabismus (HP:0000486); Feeding difficulties (HP:0011968); Dysphagia (HP:0002015); Renal cyst (HP:0000107); excluded: Caesarian section (HP:0011410); excluded: Seizure (HP:0001250); excluded: Ventriculomegaly (HP:0002119); excluded: Hypoplasia of the corpus callosum (HP:0002079); excluded: Polymicrogyria (HP:0002126); excluded: Cortical dysplasia (HP:0002539); excluded: Autistic behavior (HP:0000729); excluded: Sleep abnormality (HP:0002360); excluded: Horizontal eyebrow (HP:0011228); excluded: Facial asymmetry (HP:0000324); excluded: Midface retrusion (HP:0011800); excluded: Deeply set eye (HP:0000490); excluded: Epicanthus (HP:0000286); excluded: Thin upper lip vermilion (HP:0000219); excluded: Low-set ears (HP:0000369); excluded: Posteriorly rotated ears (HP:0000358); excluded: Generalized joint hypermobility (HP:0002761); excluded: Pes planus (HP:0001763); excluded: Ventricular septal defect (HP:0001629); excluded: Atrial septal defect (HP:0001631); excluded: Horseshoe kidney (HP:0000085); excluded: Hypermetropia (HP:0000540); excluded: Cerebral visual impairment (HP:0100704); excluded: Recurrent otitis media (HP:0000403); excluded: Neoplasm (HP:0002664)</td></tr>\n",
       "<tr><td style=\"text-align: left;\">48 (FEMALE; P15Y)</td><td style=\"text-align: left;\">ZTTK SYNDROME (OMIM:617140)</td><td style=\"text-align: left;\">NM_138927.2:c.5753_5756del (heterozygous)</td><td style=\"text-align: left;\">Intellectual disability, severe (HP:0010864); Delayed speech and language development (HP:0000750); Premature birth (HP:0001622); Caesarian section (HP:0011410); EEG abnormality (HP:0002353); Downslanted palpebral fissures (HP:0000494); Feeding difficulties (HP:0011968); Visual impairment (HP:0000505); excluded: Hypotonia (HP:0001252); excluded: Seizure (HP:0001250); excluded: Ventriculomegaly (HP:0002119); excluded: Hypoplasia of the corpus callosum (HP:0002079); excluded: Polymicrogyria (HP:0002126); excluded: Cortical dysplasia (HP:0002539); excluded: Autistic behavior (HP:0000729); excluded: Sleep abnormality (HP:0002360); excluded: Horizontal eyebrow (HP:0011228); excluded: Facial asymmetry (HP:0000324); excluded: Midface retrusion (HP:0011800); excluded: Strabismus (HP:0000486); excluded: Deeply set eye (HP:0000490); excluded: Epicanthus (HP:0000286); excluded: Thin upper lip vermilion (HP:0000219); excluded: Low-set ears (HP:0000369); excluded: Posteriorly rotated ears (HP:0000358); excluded: Generalized joint hypermobility (HP:0002761); excluded: Pes planus (HP:0001763); excluded: Dysphagia (HP:0002015); excluded: Ventricular septal defect (HP:0001629); excluded: Atrial septal defect (HP:0001631); excluded: Horseshoe kidney (HP:0000085); excluded: Renal cyst (HP:0000107); excluded: Hypermetropia (HP:0000540); excluded: Cerebral visual impairment (HP:0100704); excluded: Recurrent otitis media (HP:0000403); excluded: Neoplasm (HP:0002664)</td></tr>\n",
       "<tr><td style=\"text-align: left;\">49 (FEMALE; P3Y)</td><td style=\"text-align: left;\">ZTTK SYNDROME (OMIM:617140)</td><td style=\"text-align: left;\">NM_138927.2:c.286C>T (heterozygous)</td><td style=\"text-align: left;\">Intellectual disability, severe (HP:0010864); Delayed speech and language development (HP:0000750); Premature birth (HP:0001622); Caesarian section (HP:0011410); Hypotonia (HP:0001252); Seizure (HP:0001250); Ventriculomegaly (HP:0002119); Epicanthus (HP:0000286); Feeding difficulties (HP:0011968); Dysphagia (HP:0002015); Cerebral visual impairment (HP:0100704); Recurrent otitis media (HP:0000403); excluded: EEG abnormality (HP:0002353); excluded: Hypoplasia of the corpus callosum (HP:0002079); excluded: Polymicrogyria (HP:0002126); excluded: Cortical dysplasia (HP:0002539); excluded: Horizontal eyebrow (HP:0011228); excluded: Facial asymmetry (HP:0000324); excluded: Midface retrusion (HP:0011800); excluded: Downslanted palpebral fissures (HP:0000494); excluded: Strabismus (HP:0000486); excluded: Deeply set eye (HP:0000490); excluded: Thin upper lip vermilion (HP:0000219); excluded: Low-set ears (HP:0000369); excluded: Posteriorly rotated ears (HP:0000358); excluded: Generalized joint hypermobility (HP:0002761); excluded: Pes planus (HP:0001763); excluded: Ventricular septal defect (HP:0001629); excluded: Atrial septal defect (HP:0001631); excluded: Horseshoe kidney (HP:0000085); excluded: Renal cyst (HP:0000107); excluded: Hypermetropia (HP:0000540); excluded: Neoplasm (HP:0002664)</td></tr>\n",
       "<tr><td style=\"text-align: left;\">50 (MALE; P23Y)</td><td style=\"text-align: left;\">ZTTK SYNDROME (OMIM:617140)</td><td style=\"text-align: left;\">NM_138927.2:c.6233del (heterozygous)</td><td style=\"text-align: left;\">Decreased body weight (HP:0004325); Intellectual disability, severe (HP:0010864); Delayed speech and language development (HP:0000750); Caesarian section (HP:0011410); Seizure (HP:0001250); Ventriculomegaly (HP:0002119); Autistic behavior (HP:0000729); Downslanted palpebral fissures (HP:0000494); Feeding difficulties (HP:0011968); Dysphagia (HP:0002015); Visual impairment (HP:0000505); excluded: Premature birth (HP:0001622); excluded: Hypotonia (HP:0001252); excluded: EEG abnormality (HP:0002353); excluded: Hypoplasia of the corpus callosum (HP:0002079); excluded: Polymicrogyria (HP:0002126); excluded: Cortical dysplasia (HP:0002539); excluded: Sleep abnormality (HP:0002360); excluded: Horizontal eyebrow (HP:0011228); excluded: Facial asymmetry (HP:0000324); excluded: Midface retrusion (HP:0011800); excluded: Strabismus (HP:0000486); excluded: Deeply set eye (HP:0000490); excluded: Epicanthus (HP:0000286); excluded: Thin upper lip vermilion (HP:0000219); excluded: Low-set ears (HP:0000369); excluded: Posteriorly rotated ears (HP:0000358); excluded: Generalized joint hypermobility (HP:0002761); excluded: Pes planus (HP:0001763); excluded: Ventricular septal defect (HP:0001629); excluded: Atrial septal defect (HP:0001631); excluded: Horseshoe kidney (HP:0000085); excluded: Renal cyst (HP:0000107); excluded: Hypermetropia (HP:0000540); excluded: Cerebral visual impairment (HP:0100704); excluded: Recurrent otitis media (HP:0000403); excluded: Neoplasm (HP:0002664)</td></tr>\n",
       "<tr><td style=\"text-align: left;\">51 (FEMALE; P6Y)</td><td style=\"text-align: left;\">ZTTK SYNDROME (OMIM:617140)</td><td style=\"text-align: left;\">NM_138927.2:c.5753_5756del (heterozygous)</td><td style=\"text-align: left;\">Microcephaly (HP:0000252); Short stature (HP:0004322); Intellectual disability, severe (HP:0010864); Delayed speech and language development (HP:0000750); Premature birth (HP:0001622); Caesarian section (HP:0011410); Hypotonia (HP:0001252); Seizure (HP:0001250); EEG abnormality (HP:0002353); Autistic behavior (HP:0000729); Horizontal eyebrow (HP:0011228); Epicanthus (HP:0000286); Thin upper lip vermilion (HP:0000219); Feeding difficulties (HP:0011968); Atrial septal defect (HP:0001631); Recurrent otitis media (HP:0000403); excluded: Ventriculomegaly (HP:0002119); excluded: Hypoplasia of the corpus callosum (HP:0002079); excluded: Polymicrogyria (HP:0002126); excluded: Cortical dysplasia (HP:0002539); excluded: Sleep abnormality (HP:0002360); excluded: Facial asymmetry (HP:0000324); excluded: Midface retrusion (HP:0011800); excluded: Downslanted palpebral fissures (HP:0000494); excluded: Strabismus (HP:0000486); excluded: Deeply set eye (HP:0000490); excluded: Low-set ears (HP:0000369); excluded: Posteriorly rotated ears (HP:0000358); excluded: Generalized joint hypermobility (HP:0002761); excluded: Pes planus (HP:0001763); excluded: Dysphagia (HP:0002015); excluded: Ventricular septal defect (HP:0001629); excluded: Horseshoe kidney (HP:0000085); excluded: Renal cyst (HP:0000107); excluded: Hypermetropia (HP:0000540); excluded: Cerebral visual impairment (HP:0100704); excluded: Neoplasm (HP:0002664)</td></tr>\n",
       "<tr><td style=\"text-align: left;\">52 (MALE; P3Y)</td><td style=\"text-align: left;\">ZTTK SYNDROME (OMIM:617140)</td><td style=\"text-align: left;\">NM_138927.2:c.4919_4923del (heterozygous)</td><td style=\"text-align: left;\">Decreased body weight (HP:0004325); Intellectual disability, mild (HP:0001256); Delayed speech and language development (HP:0000750); Hypotonia (HP:0001252); Seizure (HP:0001250); EEG abnormality (HP:0002353); Sleep abnormality (HP:0002360); Facial asymmetry (HP:0000324); Strabismus (HP:0000486); Epicanthus (HP:0000286); Low-set ears (HP:0000369); Feeding difficulties (HP:0011968); Dysphagia (HP:0002015); Recurrent otitis media (HP:0000403); excluded: Premature birth (HP:0001622); excluded: Caesarian section (HP:0011410); excluded: Ventriculomegaly (HP:0002119); excluded: Hypoplasia of the corpus callosum (HP:0002079); excluded: Polymicrogyria (HP:0002126); excluded: Cortical dysplasia (HP:0002539); excluded: Autistic behavior (HP:0000729); excluded: Horizontal eyebrow (HP:0011228); excluded: Midface retrusion (HP:0011800); excluded: Downslanted palpebral fissures (HP:0000494); excluded: Deeply set eye (HP:0000490); excluded: Thin upper lip vermilion (HP:0000219); excluded: Posteriorly rotated ears (HP:0000358); excluded: Generalized joint hypermobility (HP:0002761); excluded: Pes planus (HP:0001763); excluded: Ventricular septal defect (HP:0001629); excluded: Atrial septal defect (HP:0001631); excluded: Horseshoe kidney (HP:0000085); excluded: Renal cyst (HP:0000107); excluded: Hypermetropia (HP:0000540); excluded: Cerebral visual impairment (HP:0100704); excluded: Neoplasm (HP:0002664)</td></tr>\n",
       "</table>"
      ],
      "text/plain": [
       "<IPython.core.display.HTML object>"
      ]
     },
     "metadata": {},
     "output_type": "display_data"
    }
   ],
   "source": [
    "individuals = cvalidator.get_error_free_individual_list()\n",
    "table = PhenopacketTable(individual_list=individuals, metadata=metadata)\n",
    "display(HTML(table.to_html()))"
   ]
  },
  {
   "cell_type": "code",
   "execution_count": 24,
   "id": "23f1094f",
   "metadata": {},
   "outputs": [
    {
     "name": "stdout",
     "output_type": "stream",
     "text": [
      "We output 52 GA4GH phenopackets to the directory phenopackets\n"
     ]
    }
   ],
   "source": [
    "output_directory = \"phenopackets\"\n",
    "Individual.output_individuals_as_phenopackets(individual_list=individuals,\n",
    "                                              metadata=metadata,\n",
    "                                              outdir=output_directory)"
   ]
  },
  {
   "cell_type": "code",
   "execution_count": 25,
   "id": "d3c33832-9dda-4e8e-bd05-81fc4da46419",
   "metadata": {},
   "outputs": [],
   "source": [
    "# pxf validate --hpo hp.json *.json\n",
    "# No errors"
   ]
  }
 ],
 "metadata": {
  "kernelspec": {
   "display_name": "Python 3 (ipykernel)",
   "language": "python",
   "name": "python3"
  },
  "language_info": {
   "codemirror_mode": {
    "name": "ipython",
    "version": 3
   },
   "file_extension": ".py",
   "mimetype": "text/x-python",
   "name": "python",
   "nbconvert_exporter": "python",
   "pygments_lexer": "ipython3",
   "version": "3.8.10"
  }
 },
 "nbformat": 4,
 "nbformat_minor": 5
}
