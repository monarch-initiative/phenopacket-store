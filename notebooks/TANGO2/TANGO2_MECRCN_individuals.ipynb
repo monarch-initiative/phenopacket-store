{
 "cells": [
  {
   "cell_type": "markdown",
   "metadata": {},
   "source": [
    "# TANGO2\n",
    "[recurrent metabolic crises with rhabdomyolysis, cardiac arrhythmias, and neurodegeneration (MECRCN)](https://omim.org/entry/616878) is caused by homozygous or compound heterozygous mutation in the TANGO2 gene."
   ]
  },
  {
   "cell_type": "code",
   "execution_count": 1,
   "metadata": {},
   "outputs": [
    {
     "name": "stdout",
     "output_type": "stream",
     "text": [
      "Using pyphetools version 0.9.91\n"
     ]
    },
    {
     "name": "stderr",
     "output_type": "stream",
     "text": [
      "/Users/robin/GIT/phenopacket-store/ps24venv/lib/python3.9/site-packages/urllib3/__init__.py:35: NotOpenSSLWarning: urllib3 v2 only supports OpenSSL 1.1.1+, currently the 'ssl' module is compiled with 'LibreSSL 2.8.3'. See: https://github.com/urllib3/urllib3/issues/3020\n",
      "  warnings.warn(\n"
     ]
    }
   ],
   "source": [
    "from pyphetools.creation import TemplateImporter\n",
    "from pyphetools.visualization import IndividualTable, QcVisualizer\n",
    "from IPython.display import display, HTML\n",
    "import pyphetools\n",
    "print(f\"Using pyphetools version {pyphetools.__version__}\")"
   ]
  },
  {
   "cell_type": "code",
   "execution_count": 2,
   "metadata": {},
   "outputs": [],
   "source": [
    "template = \"input/TANGO2_MECRCN_individuals.xlsx\"\n",
    "created_by = \"0000-0002-0736-9199\""
   ]
  },
  {
   "cell_type": "code",
   "execution_count": 3,
   "metadata": {},
   "outputs": [
    {
     "name": "stdout",
     "output_type": "stream",
     "text": [
      "HPO version 2024-04-26\n",
      "Created encoders for 72 fields\n",
      "Importing OMIM:616878, Metabolic encephalomyopathic crises, recurrent, with rhabdomyolysis, cardiac arrhythmias, and neurodegeneration, HGNC:25439, TANGO2,  NM_152906.7\n",
      "We output 15 GA4GH phenopackets to the directory phenopackets\n"
     ]
    }
   ],
   "source": [
    "del_set = {\"exons 3–9 del\", \"exons 4–6 del\", \"34.6 kb exon 3–9 deletion\"}\n",
    "timporter = TemplateImporter(template=template,  created_by=created_by)\n",
    "individual_list, cvalidator = timporter.import_phenopackets_from_template(deletions=del_set)"
   ]
  },
  {
   "cell_type": "code",
   "execution_count": 4,
   "metadata": {},
   "outputs": [
    {
     "data": {
      "text/html": [
       "<h2>Cohort validation</h2>\n",
       "<p>Errors found with 1 of 15 phenopackets.</p>\n",
       "<table style=\"border: 2px solid black; align: \"left\">\n",
       "<caption>Error counts</caption>\n",
       "<tr><th style=\"text-align: left;font-weight: bold;\">Level</th><th style=\"text-align: left;font-weight: bold;\">Error category</th><th style=\"text-align: left;font-weight: bold;\">Count</th></tr>\n",
       "<tr><td style=\"text-align: left;\">WARNING</td><td style=\"text-align: left;\">REDUNDANT</td><td style=\"text-align: left;\">1</td></tr>\n",
       "</table>\n",
       "<p>A total of 1 issues were fixed and no individual was removed from the cohort.</p>"
      ],
      "text/plain": [
       "<IPython.core.display.HTML object>"
      ]
     },
     "metadata": {},
     "output_type": "display_data"
    }
   ],
   "source": [
    "qc = QcVisualizer(cohort_validator=cvalidator)\n",
    "display(HTML(qc.to_summary_html()))"
   ]
  },
  {
   "cell_type": "code",
   "execution_count": 5,
   "metadata": {},
   "outputs": [
    {
     "data": {
      "text/html": [
       "<table style=\"border: 2px solid black; align: \"left\">\n",
       "<caption>15 phenopackets - PMID:26805781 (n=12); PMID:26805782 (n=3)</caption>\n",
       "<tr><th style=\"text-align: left;font-weight: bold;\">Individual</th><th style=\"text-align: left;font-weight: bold;\">Disease</th><th style=\"text-align: left;font-weight: bold;\">Genotype</th><th style=\"text-align: left;font-weight: bold;\">Phenotypic features</th></tr>\n",
       "<tr><td style=\"text-align: left;\">Family 1-Subject 1-II-1 (FEMALE; P6Y)</td><td style=\"text-align: left;\">Metabolic encephalomyopathic crises, recurrent, with rhabdomyolysis, cardiac arrhythmias, and neurodegeneration (OMIM:616878)</td><td style=\"text-align: left;\">NM_152906.7:c.460G>A (homozygous)</td><td style=\"text-align: left;\"><b>P1Y</b>: Developmental regression (HP:0002376)<br/><b>P4Y</b>: Babinski sign (HP:0003487); Cerebral atrophy (HP:0002059); Elevated circulating aspartate aminotransferase concentration (HP:0031956); Elevated circulating alanine aminotransferase concentration (HP:0031964); Myopathic facies (HP:0002058); Microcephaly (HP:0000252); Drooling (HP:0002307); Myoglobinuria (HP:0002913)<br/>Intellectual disability (HP:0001249); Brisk reflexes (HP:0001348); Seizure (HP:0001250); Hypoglycemia (HP:0001943); Hyperammonemia (HP:0001987); Elevated circulating creatine kinase concentration (HP:0003236); Rhabdomyolysis (HP:0003201); excluded: Torsade de pointes (HP:0001664); excluded: Prolonged QTc interval (HP:0005184); excluded: Ventricular tachycardia (HP:0004756); excluded: Bradycardia (HP:0001662); excluded: Premature ventricular contraction (HP:0006682); excluded: Elevated circulating tetradecenoylcarnitine concentration (HP:6000476)</td></tr>\n",
       "<tr><td style=\"text-align: left;\">Family 2-Subject2-II-1 (FEMALE; P6Y)</td><td style=\"text-align: left;\">Metabolic encephalomyopathic crises, recurrent, with rhabdomyolysis, cardiac arrhythmias, and neurodegeneration (OMIM:616878)</td><td style=\"text-align: left;\"><ul> <li>NM_152906.7:c.460G>A (heterozygous)</li> <li>exons 3–9 del: chromosomal_deletion (SO:1000029)</li> </ul></td><td style=\"text-align: left;\"><b>P6M</b>: Metabolic acidosis (HP:0001942); Drooling (HP:0002307)<br/><b>P4Y</b>: Elevated circulating tetradecenoylcarnitine concentration (HP:6000476)<br/><b>P5Y</b>: Dysarthria (HP:0001260); Ataxia (HP:0001251); Elevated circulating aspartate aminotransferase concentration (HP:0031956); Elevated circulating alanine aminotransferase concentration (HP:0031964); Elevated circulating aldolase concentration (HP:0012544); Myopathic facies (HP:0002058)<br/>Intellectual disability (HP:0001249); Hypoglycemia (HP:0001943); Lactic acidosis (HP:0003128); Hyperammonemia (HP:0001987); Elevated circulating creatine kinase concentration (HP:0003236); Prolonged QTc interval (HP:0005184); Ventricular tachycardia (HP:0004756); Rhabdomyolysis (HP:0003201); excluded: Cerebral atrophy (HP:0002059); excluded: Seizure (HP:0001250); excluded: Torsade de pointes (HP:0001664); excluded: Bradycardia (HP:0001662); excluded: Premature ventricular contraction (HP:0006682); excluded: Microcephaly (HP:0000252)</td></tr>\n",
       "<tr><td style=\"text-align: left;\">Family 3-Subject 3-II-1 (FEMALE; P27Y)</td><td style=\"text-align: left;\">Metabolic encephalomyopathic crises, recurrent, with rhabdomyolysis, cardiac arrhythmias, and neurodegeneration (OMIM:616878)</td><td style=\"text-align: left;\">NM_152906.7:c.460G>A (homozygous)</td><td style=\"text-align: left;\"><b>P27Y</b>: Myopathic facies (HP:0002058); Microcephaly (HP:0000252); Drooling (HP:0002307)<br/>Intellectual disability (HP:0001249); Seizure (HP:0001250); Hypoglycemia (HP:0001943); Lactic acidosis (HP:0003128); Elevated circulating creatine kinase concentration (HP:0003236); Elevated circulating aspartate aminotransferase concentration (HP:0031956); Elevated circulating alanine aminotransferase concentration (HP:0031964); Ventricular tachycardia (HP:0004756); Rhabdomyolysis (HP:0003201); excluded: Cerebral atrophy (HP:0002059); excluded: Hyperammonemia (HP:0001987); excluded: Torsade de pointes (HP:0001664); excluded: Prolonged QTc interval (HP:0005184); excluded: Bradycardia (HP:0001662); excluded: Premature ventricular contraction (HP:0006682)</td></tr>\n",
       "<tr><td style=\"text-align: left;\">Family 4-Subject 4-II-1 (MALE; P14Y)</td><td style=\"text-align: left;\">Metabolic encephalomyopathic crises, recurrent, with rhabdomyolysis, cardiac arrhythmias, and neurodegeneration (OMIM:616878)</td><td style=\"text-align: left;\">NM_152906.7:c.460G>A (homozygous)</td><td style=\"text-align: left;\"><b>P8Y</b>: Clonus (HP:0002169); Brisk reflexes (HP:0001348); Myopathic facies (HP:0002058)<br/>Intellectual disability (HP:0001249); Seizure (HP:0001250); Hyperammonemia (HP:0001987); Elevated circulating creatine kinase concentration (HP:0003236); Prolonged QTc interval (HP:0005184); Rhabdomyolysis (HP:0003201); excluded: Cerebral atrophy (HP:0002059); excluded: Hypoglycemia (HP:0001943); excluded: Lactic acidosis (HP:0003128); excluded: Torsade de pointes (HP:0001664); excluded: Ventricular tachycardia (HP:0004756); excluded: Bradycardia (HP:0001662); excluded: Premature ventricular contraction (HP:0006682)</td></tr>\n",
       "<tr><td style=\"text-align: left;\">Family 5-Subject 5-II-1 (FEMALE; P17Y)</td><td style=\"text-align: left;\">Metabolic encephalomyopathic crises, recurrent, with rhabdomyolysis, cardiac arrhythmias, and neurodegeneration (OMIM:616878)</td><td style=\"text-align: left;\">NM_152906.7:c.460G>A (homozygous)</td><td style=\"text-align: left;\">Cerebral atrophy (HP:0002059); Intellectual disability (HP:0001249); Seizure (HP:0001250); Hypoglycemia (HP:0001943); Lactic acidosis (HP:0003128); Elevated circulating creatine kinase concentration (HP:0003236); Elevated circulating aspartate aminotransferase concentration (HP:0031956); Elevated circulating alanine aminotransferase concentration (HP:0031964); Torsade de pointes (HP:0001664); Prolonged QTc interval (HP:0005184); Rhabdomyolysis (HP:0003201); excluded: Ventricular tachycardia (HP:0004756); excluded: Bradycardia (HP:0001662); excluded: Premature ventricular contraction (HP:0006682)</td></tr>\n",
       "<tr><td style=\"text-align: left;\">Family 6-Subject 6-II-1 (MALE; P3Y)</td><td style=\"text-align: left;\">Metabolic encephalomyopathic crises, recurrent, with rhabdomyolysis, cardiac arrhythmias, and neurodegeneration (OMIM:616878)</td><td style=\"text-align: left;\">NM_152906.7:c.605+1G>A (homozygous)</td><td style=\"text-align: left;\">Intellectual disability (HP:0001249); Hypoglycemia (HP:0001943); Lactic acidosis (HP:0003128); Hyperammonemia (HP:0001987); Elevated circulating creatine kinase concentration (HP:0003236); Elevated circulating tetradecenoylcarnitine concentration (HP:6000476); excluded: Seizure (HP:0001250); excluded: Bradycardia (HP:0001662); excluded: Premature ventricular contraction (HP:0006682); excluded: Rhabdomyolysis (HP:0003201)</td></tr>\n",
       "<tr><td style=\"text-align: left;\">Family 7-Subject 7-III-2 (MALE; P9Y)</td><td style=\"text-align: left;\">Metabolic encephalomyopathic crises, recurrent, with rhabdomyolysis, cardiac arrhythmias, and neurodegeneration (OMIM:616878)</td><td style=\"text-align: left;\">exons 3–9 del: chromosomal_deletion (SO:1000029)</td><td style=\"text-align: left;\">Cerebral atrophy (HP:0002059); Intellectual disability (HP:0001249); Seizure (HP:0001250); Hypoglycemia (HP:0001943); Lactic acidosis (HP:0003128); Hyperammonemia (HP:0001987); Elevated circulating creatine kinase concentration (HP:0003236); Rhabdomyolysis (HP:0003201); excluded: Torsade de pointes (HP:0001664); excluded: Prolonged QTc interval (HP:0005184); excluded: Ventricular tachycardia (HP:0004756); excluded: Bradycardia (HP:0001662); excluded: Premature ventricular contraction (HP:0006682)</td></tr>\n",
       "<tr><td style=\"text-align: left;\">Family 8-Subject 8-II-1 (FEMALE; P2Y)</td><td style=\"text-align: left;\">Metabolic encephalomyopathic crises, recurrent, with rhabdomyolysis, cardiac arrhythmias, and neurodegeneration (OMIM:616878)</td><td style=\"text-align: left;\">exons 3–9 del: chromosomal_deletion (SO:1000029)</td><td style=\"text-align: left;\">Intellectual disability (HP:0001249); Seizure (HP:0001250); Hypoglycemia (HP:0001943); Lactic acidosis (HP:0003128); Elevated circulating creatine kinase concentration (HP:0003236); Prolonged QTc interval (HP:0005184); Rhabdomyolysis (HP:0003201); excluded: Cerebral atrophy (HP:0002059); excluded: Hyperammonemia (HP:0001987); excluded: Torsade de pointes (HP:0001664); excluded: Ventricular tachycardia (HP:0004756); excluded: Bradycardia (HP:0001662); excluded: Premature ventricular contraction (HP:0006682)</td></tr>\n",
       "<tr><td style=\"text-align: left;\">Family 8-Subject 9-II-2 (MALE; P1Y10M)</td><td style=\"text-align: left;\">Metabolic encephalomyopathic crises, recurrent, with rhabdomyolysis, cardiac arrhythmias, and neurodegeneration (OMIM:616878)</td><td style=\"text-align: left;\">exons 3–9 del: chromosomal_deletion (SO:1000029)</td><td style=\"text-align: left;\">Intellectual disability (HP:0001249); Seizure (HP:0001250); Hypoglycemia (HP:0001943); Lactic acidosis (HP:0003128); Hyperammonemia (HP:0001987); Elevated circulating creatine kinase concentration (HP:0003236); Prolonged QTc interval (HP:0005184); Bradycardia (HP:0001662); Premature ventricular contraction (HP:0006682); Rhabdomyolysis (HP:0003201); Elevated circulating tetradecenoylcarnitine concentration (HP:6000476); excluded: Cerebral atrophy (HP:0002059); excluded: Torsade de pointes (HP:0001664); excluded: Ventricular tachycardia (HP:0004756)</td></tr>\n",
       "<tr><td style=\"text-align: left;\">Family 8-Subject 10-II-3 (FEMALE; P11M)</td><td style=\"text-align: left;\">Metabolic encephalomyopathic crises, recurrent, with rhabdomyolysis, cardiac arrhythmias, and neurodegeneration (OMIM:616878)</td><td style=\"text-align: left;\">exons 3–9 del: chromosomal_deletion (SO:1000029)</td><td style=\"text-align: left;\">Intellectual disability (HP:0001249); Hypoglycemia (HP:0001943); Lactic acidosis (HP:0003128); Hyperammonemia (HP:0001987); Elevated circulating creatine kinase concentration (HP:0003236); excluded: Seizure (HP:0001250); excluded: Torsade de pointes (HP:0001664); excluded: Prolonged QTc interval (HP:0005184); excluded: Ventricular tachycardia (HP:0004756); excluded: Bradycardia (HP:0001662); excluded: Premature ventricular contraction (HP:0006682); excluded: Rhabdomyolysis (HP:0003201)</td></tr>\n",
       "<tr><td style=\"text-align: left;\">Family 9-Subject 11-II-2 (MALE; P11Y)</td><td style=\"text-align: left;\">Metabolic encephalomyopathic crises, recurrent, with rhabdomyolysis, cardiac arrhythmias, and neurodegeneration (OMIM:616878)</td><td style=\"text-align: left;\">exons 4–6 del: chromosomal_deletion (SO:1000029)</td><td style=\"text-align: left;\">Intellectual disability (HP:0001249); Seizure (HP:0001250); Lactic acidosis (HP:0003128); Hyperammonemia (HP:0001987); Elevated circulating creatine kinase concentration (HP:0003236); Elevated circulating aspartate aminotransferase concentration (HP:0031956); Elevated circulating alanine aminotransferase concentration (HP:0031964); Rhabdomyolysis (HP:0003201); excluded: Cerebral atrophy (HP:0002059); excluded: Hypoglycemia (HP:0001943); excluded: Torsade de pointes (HP:0001664); excluded: Prolonged QTc interval (HP:0005184); excluded: Ventricular tachycardia (HP:0004756); excluded: Bradycardia (HP:0001662); excluded: Premature ventricular contraction (HP:0006682)</td></tr>\n",
       "<tr><td style=\"text-align: left;\">Family 9-Subject 12-II-3 (MALE; P8Y)</td><td style=\"text-align: left;\">Metabolic encephalomyopathic crises, recurrent, with rhabdomyolysis, cardiac arrhythmias, and neurodegeneration (OMIM:616878)</td><td style=\"text-align: left;\">exons 4–6 del: chromosomal_deletion (SO:1000029)</td><td style=\"text-align: left;\">Intellectual disability (HP:0001249); Seizure (HP:0001250); Lactic acidosis (HP:0003128); Hyperammonemia (HP:0001987); Elevated circulating creatine kinase concentration (HP:0003236); Torsade de pointes (HP:0001664); Prolonged QTc interval (HP:0005184); Ventricular tachycardia (HP:0004756); Rhabdomyolysis (HP:0003201); excluded: Cerebral atrophy (HP:0002059); excluded: Hypoglycemia (HP:0001943); excluded: Bradycardia (HP:0001662); excluded: Premature ventricular contraction (HP:0006682)</td></tr>\n",
       "<tr><td style=\"text-align: left;\">F1:II.2 (FEMALE; P2Y10M)</td><td style=\"text-align: left;\">Metabolic encephalomyopathic crises, recurrent, with rhabdomyolysis, cardiac arrhythmias, and neurodegeneration (OMIM:616878)</td><td style=\"text-align: left;\"><ul> <li>NM_152906.7:c.4del (heterozygous)</li> <li>34.6 kb exon 3–9 deletion: chromosomal_deletion (SO:1000029)</li> </ul></td><td style=\"text-align: left;\"><b>P2Y7M</b>: Global developmental delay (HP:0001263); Absent speech (HP:0001344); Cerebral atrophy (HP:0002059); Lower limb spasticity (HP:0002061); Status epilepticus (HP:0002133); Hypoglycemia (HP:0001943); Lactic acidosis (HP:0003128); Elevated circulating creatine kinase concentration (HP:0003236); Rhabdomyolysis (HP:0003201); Myoglobinuria (HP:0002913); Elevated circulating tetradecenoylcarnitine concentration (HP:6000476)<br/><b>P2Y10M</b>: Torsade de pointes (HP:0001664); Prolonged QTc interval (HP:0005184); Microcephaly (HP:0000252)<br/>Motor delay (HP:0001270)</td></tr>\n",
       "<tr><td style=\"text-align: left;\">F2:II.2 (FEMALE; P12Y)</td><td style=\"text-align: left;\">Metabolic encephalomyopathic crises, recurrent, with rhabdomyolysis, cardiac arrhythmias, and neurodegeneration (OMIM:616878)</td><td style=\"text-align: left;\">NM_152906.7:c.418C>T (homozygous)</td><td style=\"text-align: left;\"><b>P5M</b>: Global developmental delay (HP:0001263)<br/><b>P1Y</b>: Lower limb spasticity (HP:0002061)<br/><b>P1Y3M</b>: Coma (HP:0001259); Hypoglycemia (HP:0001943); Lactic acidosis (HP:0003128)<br/><b>P5Y6M</b>: Elevated circulating tetradecenoylcarnitine concentration (HP:6000476)<br/><b>P6Y</b>: Rhabdomyolysis (HP:0003201)</td></tr>\n",
       "<tr><td style=\"text-align: left;\">F3:II.1 (FEMALE; P15Y)</td><td style=\"text-align: left;\">Metabolic encephalomyopathic crises, recurrent, with rhabdomyolysis, cardiac arrhythmias, and neurodegeneration (OMIM:616878)</td><td style=\"text-align: left;\">34.6 kb exon 3–9 deletion: chromosomal_deletion (SO:1000029)</td><td style=\"text-align: left;\"><b>P10Y</b>: Intellectual disability (HP:0001249); Sensorineural hearing impairment (HP:0000407)<br/><b>P15Y</b>: Dysarthria (HP:0001260); Ataxia (HP:0001251)<br/><b>P17Y</b>: Elevated circulating creatine kinase concentration (HP:0003236); Rhabdomyolysis (HP:0003201)<br/><b>P23Y</b>: Prolonged QTc interval (HP:0005184); Ventricular tachycardia (HP:0004756)<br/>Elevated circulating aspartate aminotransferase concentration (HP:0031956); Elevated circulating alanine aminotransferase concentration (HP:0031964)</td></tr>\n",
       "</table>"
      ],
      "text/plain": [
       "<IPython.core.display.HTML object>"
      ]
     },
     "metadata": {},
     "output_type": "display_data"
    }
   ],
   "source": [
    "table = IndividualTable(cvalidator.get_error_free_individual_list())\n",
    "display(HTML(table.to_html()))"
   ]
  },
  {
   "cell_type": "code",
   "execution_count": 6,
   "metadata": {},
   "outputs": [
    {
     "name": "stdout",
     "output_type": "stream",
     "text": [
      "[pyphetools] Ingested 15 GA4GH phenopackets.\n",
      "[INFO] Extracted 15 from 15 phenopackets with OMIM:616878\n",
      "\n",
      "\tMetabolic encephalomyopathic crises, recurrent, with rhabdomyolysis, cardiac arrhythmias, and neurodegeneration (OMIM:616878): n=15\n",
      "We found a total of 35 unique HPO terms\n",
      "Extracted disease: Metabolic encephalomyopathic crises, recurrent, with rhabdomyolysis, cardiac arrhythmias, and neurodegeneration (OMIM:616878)\n",
      "Wrote HPOA disease file to OMIM-616878.tab\n"
     ]
    }
   ],
   "source": [
    "pmid = \"PMID:26805781\"\n",
    "df = timporter.create_hpoa_from_phenopackets(pmid=pmid, moi=\"Autosomal recessive\", target=\"OMIM:616878\")"
   ]
  },
  {
   "cell_type": "code",
   "execution_count": null,
   "metadata": {},
   "outputs": [],
   "source": []
  }
 ],
 "metadata": {
  "kernelspec": {
   "display_name": "ps24venv",
   "language": "python",
   "name": "python3"
  },
  "language_info": {
   "codemirror_mode": {
    "name": "ipython",
    "version": 3
   },
   "file_extension": ".py",
   "mimetype": "text/x-python",
   "name": "python",
   "nbconvert_exporter": "python",
   "pygments_lexer": "ipython3",
   "version": "3.12.4"
  }
 },
 "nbformat": 4,
 "nbformat_minor": 2
}
