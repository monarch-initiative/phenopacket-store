{
 "cells": [
  {
   "cell_type": "markdown",
   "id": "293e1b5d-78a6-4880-9788-2fc635ac255e",
   "metadata": {},
   "source": [
    " ### POLR1A \n",
    "\n",
    "[Acrofacial dysostosis, Cincinnati type - OMIM:616462](https://omim.org/entry/616462) is caused by variants in the POLR1A gene.\n",
    "\n",
    "Data is extracted from [Smallwood K, et al. POLR1A variants underlie phenotypic heterogeneity in craniofacial, neural, and cardiac anomalies. Am J Hum Genet. 2023;110(5):809-825](https://pubmed.ncbi.nlm.nih.gov/37075751/)."
   ]
  },
  {
   "cell_type": "code",
   "execution_count": 1,
   "id": "cb845a0f-adf2-4fcd-957f-2176b752372a",
   "metadata": {},
   "outputs": [
    {
     "name": "stdout",
     "output_type": "stream",
     "text": [
      "Using pyphetools version 0.9.66\n"
     ]
    }
   ],
   "source": [
    "import pandas as pd\n",
    "pd.set_option('display.max_colwidth', None) # show entire column contents, important!\n",
    "from IPython.display import display, HTML\n",
    "from pyphetools.creation import *\n",
    "from pyphetools.visualization import *\n",
    "from pyphetools.validation import *\n",
    "import pyphetools\n",
    "print(f\"Using pyphetools version {pyphetools.__version__}\")"
   ]
  },
  {
   "cell_type": "code",
   "execution_count": 2,
   "id": "a3972a01-7149-4c6f-ad1b-292bc5489821",
   "metadata": {},
   "outputs": [
    {
     "name": "stdout",
     "output_type": "stream",
     "text": [
      "HPO version 2024-03-06\n"
     ]
    }
   ],
   "source": [
    "PMID = \"PMID:37075751\"\n",
    "title = \"POLR1A variants underlie phenotypic heterogeneity in craniofacial, neural, and cardiac anomalies\"\n",
    "cite = Citation(pmid=PMID, title=title)\n",
    "parser = HpoParser(hpo_json_file=\"../hp.json\")\n",
    "hpo_cr = parser.get_hpo_concept_recognizer()\n",
    "hpo_version = parser.get_version()\n",
    "hpo_ontology = parser.get_ontology()\n",
    "metadata = MetaData(created_by=\"ORCID:0000-0001-7941-2961\", citation=cite)\n",
    "metadata.default_versions_with_hpo(version=hpo_version)\n",
    "print(f\"HPO version {hpo_version}\")"
   ]
  },
  {
   "cell_type": "code",
   "execution_count": 3,
   "id": "b9270778-a3f5-4d04-a957-e9e8937f429b",
   "metadata": {},
   "outputs": [
    {
     "data": {
      "text/html": [
       "<div>\n",
       "<style scoped>\n",
       "    .dataframe tbody tr th:only-of-type {\n",
       "        vertical-align: middle;\n",
       "    }\n",
       "\n",
       "    .dataframe tbody tr th {\n",
       "        vertical-align: top;\n",
       "    }\n",
       "\n",
       "    .dataframe thead th {\n",
       "        text-align: right;\n",
       "    }\n",
       "</style>\n",
       "<table border=\"1\" class=\"dataframe\">\n",
       "  <thead>\n",
       "    <tr style=\"text-align: right;\">\n",
       "      <th>individual_id</th>\n",
       "      <th>Test</th>\n",
       "      <th>NM_015425.6</th>\n",
       "      <th>Sex</th>\n",
       "      <th>Onset</th>\n",
       "      <th>Age (at most recent assessment)</th>\n",
       "      <th>Deceased</th>\n",
       "      <th>Protein</th>\n",
       "      <th>Inheritance</th>\n",
       "      <th>ACMG classification</th>\n",
       "      <th>ACMG criteria</th>\n",
       "      <th>...</th>\n",
       "      <th>IUGR</th>\n",
       "      <th>NaN</th>\n",
       "      <th>head circumference (cm)</th>\n",
       "      <th>length (cm)</th>\n",
       "      <th>weight (kg)</th>\n",
       "      <th>Any other features</th>\n",
       "      <th>Abbreviations: U/L unilateral; B/L bilateral; n/a not available; VUS variant of uncertain significance; BP4 lack of segregation in affected members of a family; PM2 absent from controls; PP3 computational evidence supports deleterious effect; PS2 de novo; PP5 reputable source reports variant as pathogenic; PM4 protein length changes due to in frame deletion in a non-repeat region</th>\n",
       "      <th>SD calculated using CDC growth charts</th>\n",
       "      <th>person</th>\n",
       "      <th>person_id</th>\n",
       "    </tr>\n",
       "  </thead>\n",
       "  <tbody>\n",
       "    <tr>\n",
       "      <th>1</th>\n",
       "      <td>Targeted variant</td>\n",
       "      <td>c.176A&gt;T</td>\n",
       "      <td>male</td>\n",
       "      <td>Congenital onset</td>\n",
       "      <td>P3M</td>\n",
       "      <td>yes</td>\n",
       "      <td>p.(Asp59Val)</td>\n",
       "      <td>paternal</td>\n",
       "      <td>VUS</td>\n",
       "      <td>PM2, PP3</td>\n",
       "      <td>...</td>\n",
       "      <td>no</td>\n",
       "      <td>NaN</td>\n",
       "      <td>NaN</td>\n",
       "      <td>NaN</td>\n",
       "      <td>NaN</td>\n",
       "      <td>NaN</td>\n",
       "      <td>NaN</td>\n",
       "      <td>NaN</td>\n",
       "      <td>1</td>\n",
       "      <td>Individual 1</td>\n",
       "    </tr>\n",
       "    <tr>\n",
       "      <th>2</th>\n",
       "      <td>Exome trio</td>\n",
       "      <td>c.176A&gt;T</td>\n",
       "      <td>male</td>\n",
       "      <td>Congenital onset</td>\n",
       "      <td>P5Y</td>\n",
       "      <td>no</td>\n",
       "      <td>p.(Asp59Val)</td>\n",
       "      <td>paternal</td>\n",
       "      <td>VUS</td>\n",
       "      <td>PM2, PP3</td>\n",
       "      <td>...</td>\n",
       "      <td>no</td>\n",
       "      <td>NaN</td>\n",
       "      <td>NaN</td>\n",
       "      <td>NaN</td>\n",
       "      <td>NaN</td>\n",
       "      <td>NaN</td>\n",
       "      <td>NaN</td>\n",
       "      <td>NaN</td>\n",
       "      <td>2</td>\n",
       "      <td>Individual 2</td>\n",
       "    </tr>\n",
       "  </tbody>\n",
       "</table>\n",
       "<p>2 rows × 49 columns</p>\n",
       "</div>"
      ],
      "text/plain": [
       "individual_id              Test NM_015425.6   Sex             Onset  \\\n",
       "1              Targeted variant    c.176A>T  male  Congenital onset   \n",
       "2                    Exome trio    c.176A>T  male  Congenital onset   \n",
       "\n",
       "individual_id Age (at most recent assessment) Deceased       Protein  \\\n",
       "1                                         P3M      yes  p.(Asp59Val)   \n",
       "2                                         P5Y       no  p.(Asp59Val)   \n",
       "\n",
       "individual_id Inheritance ACMG classification ACMG criteria  ... IUGR  NaN  \\\n",
       "1                paternal                 VUS      PM2, PP3  ...   no  NaN   \n",
       "2                paternal                 VUS      PM2, PP3  ...   no  NaN   \n",
       "\n",
       "individual_id head circumference (cm) length (cm) weight (kg)  \\\n",
       "1                                 NaN         NaN         NaN   \n",
       "2                                 NaN         NaN         NaN   \n",
       "\n",
       "individual_id Any other features  \\\n",
       "1                            NaN   \n",
       "2                            NaN   \n",
       "\n",
       "individual_id Abbreviations: U/L unilateral; B/L bilateral; n/a not available; VUS variant of uncertain significance; BP4 lack of segregation in affected members of a family; PM2 absent from controls; PP3 computational evidence supports deleterious effect; PS2 de novo; PP5 reputable source reports variant as pathogenic; PM4 protein length changes due to in frame deletion in a non-repeat region   \\\n",
       "1                                                                                                                                                                                                                                                                                                                                                                                                         NaN   \n",
       "2                                                                                                                                                                                                                                                                                                                                                                                                         NaN   \n",
       "\n",
       "individual_id SD calculated using CDC growth charts person     person_id  \n",
       "1                                               NaN      1  Individual 1  \n",
       "2                                               NaN      2  Individual 2  \n",
       "\n",
       "[2 rows x 49 columns]"
      ]
     },
     "execution_count": 3,
     "metadata": {},
     "output_type": "execute_result"
    }
   ],
   "source": [
    "df = pd.read_excel(\"input/POLR1A_Smallwood_2023.xlsx\")\n",
    "dft = df.transpose()\n",
    "dft.columns = dft.iloc[0] \n",
    "dft.drop(dft.index[0], inplace=True)\n",
    "dft['person'] = dft.index\n",
    "dft['person_id'] = dft['person'].apply(lambda x: f\"Individual {x}\")\n",
    "dft.head(2)"
   ]
  },
  {
   "cell_type": "code",
   "execution_count": 4,
   "id": "1e158836-4ee1-468f-9c68-ea653a27cd73",
   "metadata": {},
   "outputs": [
    {
     "data": {
      "text/html": [
       "<table style=\"border: 2px solid black;\">\n",
       "\n",
       "<tr>\n",
       "            <th>Result</th>\n",
       "            <th>Columns</th>\n",
       "        </tr>\n",
       "        \n",
       "<tr><td>Mapped</td><td>Macrocephaly; Microcephaly; Craniosynostosis; Ptosis; Hypertelorism; Cleft lip; Cleft palate; Micrognathia; Facial Asymmetry; Hypodontia; Ventriculomegaly; Hypotonia; Infantile spasms; Epilepsy; Developmental delay</td></tr>\n",
       "<tr><td>Unmapped</td><td><q>Test</q>; <q>NM_015425.6</q>; <q>Sex</q>; <q>Onset</q>; <q>Age (at most recent assessment)</q>; <q>Deceased</q>; <q>Protein</q>; <q>Inheritance</q>; <q>ACMG classification</q>; <q>ACMG criteria</q>; <q>gnomAD allele count (homozygotes)</q>; <q>Ears-low set</q>; <q>Microtia (unilateral or bilateral)</q>; <q>Other craniofacial</q>; <q>Brain imaging (CT, MRI, Ultrasound)</q>; <q>Structural Brain anomaly</q>; <q>Contractures</q>; <q>Regression</q>; <q>Other neuro</q>; <q>Limb defects</q>; <q>Echocardiogram (Y/N)</q>; <q>PFO/ASD</q>; <q>VSD</q>; <q>Other structural heart</q>; <q>IUGR</q>; <q>nan</q>; <q>head circumference (cm)</q>; <q>length (cm)</q>; <q>weight (kg)</q>; <q>Any other features</q>; <q>Abbreviations: U/L unilateral; B/L bilateral; n/a not available; VUS variant of uncertain significance; BP4 lack of segregation in affected members of a family; PM2 absent from controls; PP3 computational evidence supports deleterious effect; PS2 de novo; PP5 reputable source reports variant as pathogenic; PM4 protein length changes due to in frame deletion in a non-repeat region </q>; <q>SD calculated using CDC growth charts</q>; <q>person</q>; <q>person_id</q></td></tr>\n",
       "</table>\n"
      ],
      "text/plain": [
       "<IPython.core.display.HTML object>"
      ]
     },
     "metadata": {},
     "output_type": "display_data"
    }
   ],
   "source": [
    "generator = SimpleColumnMapperGenerator(df=dft,\n",
    "                                  observed='yes',\n",
    "                                  excluded='no',\n",
    "                                  hpo_cr=hpo_cr)\n",
    "column_mapper_list = generator.try_mapping_columns()\n",
    "display(HTML(generator.to_html()))"
   ]
  },
  {
   "cell_type": "code",
   "execution_count": 5,
   "id": "c9775e76-84b7-462a-8ddd-926aee250773",
   "metadata": {
    "scrolled": true
   },
   "outputs": [],
   "source": [
    "#output = OptionColumnMapper.autoformat(df=dft, hpo_cr=hpo_cr, delimiter=\";\")\n",
    "#print(output)"
   ]
  },
  {
   "cell_type": "code",
   "execution_count": 6,
   "id": "b28b812e-4845-45a9-a08e-4e4160503191",
   "metadata": {},
   "outputs": [
    {
     "data": {
      "text/html": [
       "<div>\n",
       "<style scoped>\n",
       "    .dataframe tbody tr th:only-of-type {\n",
       "        vertical-align: middle;\n",
       "    }\n",
       "\n",
       "    .dataframe tbody tr th {\n",
       "        vertical-align: top;\n",
       "    }\n",
       "\n",
       "    .dataframe thead th {\n",
       "        text-align: right;\n",
       "    }\n",
       "</style>\n",
       "<table border=\"1\" class=\"dataframe\">\n",
       "  <thead>\n",
       "    <tr style=\"text-align: right;\">\n",
       "      <th></th>\n",
       "      <th>mapping</th>\n",
       "      <th>count</th>\n",
       "    </tr>\n",
       "  </thead>\n",
       "  <tbody>\n",
       "    <tr>\n",
       "      <th>0</th>\n",
       "      <td>Macrocephaly (HP:0000256) (excluded)</td>\n",
       "      <td>13</td>\n",
       "    </tr>\n",
       "  </tbody>\n",
       "</table>\n",
       "</div>"
      ],
      "text/plain": [
       "                                mapping count\n",
       "0  Macrocephaly (HP:0000256) (excluded)    13"
      ]
     },
     "execution_count": 6,
     "metadata": {},
     "output_type": "execute_result"
    }
   ],
   "source": [
    "macrocephaly_d = { #'nan': 'PLACEHOLDER',\n",
    " #'no': 'PLACEHOLDER',\n",
    " #'unk': 'PLACEHOLDER'\n",
    "}\n",
    "excluded = {'no': 'Macrocephaly', }\n",
    "macrocephalyMapper = OptionColumnMapper(column_name=\"Macrocephaly\", concept_recognizer=hpo_cr, option_d=macrocephaly_d, excluded_d=excluded)\n",
    "column_mapper_list.append(macrocephalyMapper)\n",
    "macrocephalyMapper.preview_column(dft)"
   ]
  },
  {
   "cell_type": "code",
   "execution_count": 7,
   "id": "c34473ab-1a5d-4db5-b7d5-b8b4f93d0790",
   "metadata": {},
   "outputs": [
    {
     "data": {
      "text/html": [
       "<div>\n",
       "<style scoped>\n",
       "    .dataframe tbody tr th:only-of-type {\n",
       "        vertical-align: middle;\n",
       "    }\n",
       "\n",
       "    .dataframe tbody tr th {\n",
       "        vertical-align: top;\n",
       "    }\n",
       "\n",
       "    .dataframe thead th {\n",
       "        text-align: right;\n",
       "    }\n",
       "</style>\n",
       "<table border=\"1\" class=\"dataframe\">\n",
       "  <thead>\n",
       "    <tr style=\"text-align: right;\">\n",
       "      <th></th>\n",
       "      <th>mapping</th>\n",
       "      <th>count</th>\n",
       "    </tr>\n",
       "  </thead>\n",
       "  <tbody>\n",
       "    <tr>\n",
       "      <th>0</th>\n",
       "      <td>Microcephaly (HP:0000252) (observed)</td>\n",
       "      <td>5</td>\n",
       "    </tr>\n",
       "    <tr>\n",
       "      <th>1</th>\n",
       "      <td>Microcephaly (HP:0000252) (excluded)</td>\n",
       "      <td>8</td>\n",
       "    </tr>\n",
       "  </tbody>\n",
       "</table>\n",
       "</div>"
      ],
      "text/plain": [
       "                                mapping count\n",
       "0  Microcephaly (HP:0000252) (observed)     5\n",
       "1  Microcephaly (HP:0000252) (excluded)     8"
      ]
     },
     "execution_count": 7,
     "metadata": {},
     "output_type": "execute_result"
    }
   ],
   "source": [
    "microcephaly_d = {#'nan': 'PLACEHOLDER',\n",
    " 'yes': 'Microcephaly',\n",
    " 'yes (presumed)': 'Microcephaly',\n",
    "}\n",
    "excluded = {'no': 'Microcephaly',}\n",
    "microcephalyMapper = OptionColumnMapper(column_name=\"Microcephaly\", concept_recognizer=hpo_cr, option_d=microcephaly_d, excluded_d=excluded)\n",
    "column_mapper_list.append(microcephalyMapper)\n",
    "microcephalyMapper.preview_column(dft)\n"
   ]
  },
  {
   "cell_type": "code",
   "execution_count": 8,
   "id": "52dac6eb-a412-4a02-99fd-7cd52e76ab00",
   "metadata": {},
   "outputs": [
    {
     "data": {
      "text/html": [
       "<div>\n",
       "<style scoped>\n",
       "    .dataframe tbody tr th:only-of-type {\n",
       "        vertical-align: middle;\n",
       "    }\n",
       "\n",
       "    .dataframe tbody tr th {\n",
       "        vertical-align: top;\n",
       "    }\n",
       "\n",
       "    .dataframe thead th {\n",
       "        text-align: right;\n",
       "    }\n",
       "</style>\n",
       "<table border=\"1\" class=\"dataframe\">\n",
       "  <thead>\n",
       "    <tr style=\"text-align: right;\">\n",
       "      <th></th>\n",
       "      <th>mapping</th>\n",
       "      <th>count</th>\n",
       "    </tr>\n",
       "  </thead>\n",
       "  <tbody>\n",
       "    <tr>\n",
       "      <th>0</th>\n",
       "      <td>Metopic synostosis (HP:0011330) (observed)</td>\n",
       "      <td>3</td>\n",
       "    </tr>\n",
       "    <tr>\n",
       "      <th>1</th>\n",
       "      <td>Metopic synostosis (HP:0011330) (excluded)</td>\n",
       "      <td>15</td>\n",
       "    </tr>\n",
       "  </tbody>\n",
       "</table>\n",
       "</div>"
      ],
      "text/plain": [
       "                                      mapping count\n",
       "0  Metopic synostosis (HP:0011330) (observed)     3\n",
       "1  Metopic synostosis (HP:0011330) (excluded)    15"
      ]
     },
     "execution_count": 8,
     "metadata": {},
     "output_type": "execute_result"
    }
   ],
   "source": [
    "craniosynostosis_d = {'metopic': 'Metopic synostosis',\n",
    " 'Metopic': 'Metopic synostosis'}\n",
    "excluded = {'no': 'Metopic synostosis'}\n",
    "craniosynostosisMapper = OptionColumnMapper(column_name=\"Craniosynostosis\", concept_recognizer=hpo_cr, option_d=craniosynostosis_d, excluded_d=excluded)\n",
    "column_mapper_list.append(craniosynostosisMapper)\n",
    "craniosynostosisMapper.preview_column(dft)"
   ]
  },
  {
   "cell_type": "code",
   "execution_count": 9,
   "id": "07942336-fd15-4117-9d0c-63e23780369c",
   "metadata": {},
   "outputs": [
    {
     "data": {
      "text/html": [
       "<div>\n",
       "<style scoped>\n",
       "    .dataframe tbody tr th:only-of-type {\n",
       "        vertical-align: middle;\n",
       "    }\n",
       "\n",
       "    .dataframe tbody tr th {\n",
       "        vertical-align: top;\n",
       "    }\n",
       "\n",
       "    .dataframe thead th {\n",
       "        text-align: right;\n",
       "    }\n",
       "</style>\n",
       "<table border=\"1\" class=\"dataframe\">\n",
       "  <thead>\n",
       "    <tr style=\"text-align: right;\">\n",
       "      <th></th>\n",
       "      <th>mapping</th>\n",
       "      <th>count</th>\n",
       "    </tr>\n",
       "  </thead>\n",
       "  <tbody>\n",
       "    <tr>\n",
       "      <th>0</th>\n",
       "      <td>Ptosis (HP:0000508) (excluded)</td>\n",
       "      <td>13</td>\n",
       "    </tr>\n",
       "    <tr>\n",
       "      <th>1</th>\n",
       "      <td>Ptosis (HP:0000508) (observed)</td>\n",
       "      <td>5</td>\n",
       "    </tr>\n",
       "  </tbody>\n",
       "</table>\n",
       "</div>"
      ],
      "text/plain": [
       "                          mapping count\n",
       "0  Ptosis (HP:0000508) (excluded)    13\n",
       "1  Ptosis (HP:0000508) (observed)     5"
      ]
     },
     "execution_count": 9,
     "metadata": {},
     "output_type": "execute_result"
    }
   ],
   "source": [
    "ptosis_d = {#'no': 'PLACEHOLDER',\n",
    " 'yes': 'Ptosis'}\n",
    "excluded = {'no': 'Ptosis'}\n",
    "ptosisMapper = OptionColumnMapper(column_name=\"Ptosis\", concept_recognizer=hpo_cr, option_d=ptosis_d, excluded_d=excluded)\n",
    "column_mapper_list.append(ptosisMapper)\n",
    "ptosisMapper.preview_column(dft)"
   ]
  },
  {
   "cell_type": "code",
   "execution_count": 10,
   "id": "20a56452-7641-43f6-967d-15727271593c",
   "metadata": {},
   "outputs": [
    {
     "data": {
      "text/html": [
       "<div>\n",
       "<style scoped>\n",
       "    .dataframe tbody tr th:only-of-type {\n",
       "        vertical-align: middle;\n",
       "    }\n",
       "\n",
       "    .dataframe tbody tr th {\n",
       "        vertical-align: top;\n",
       "    }\n",
       "\n",
       "    .dataframe thead th {\n",
       "        text-align: right;\n",
       "    }\n",
       "</style>\n",
       "<table border=\"1\" class=\"dataframe\">\n",
       "  <thead>\n",
       "    <tr style=\"text-align: right;\">\n",
       "      <th></th>\n",
       "      <th>mapping</th>\n",
       "      <th>count</th>\n",
       "    </tr>\n",
       "  </thead>\n",
       "  <tbody>\n",
       "    <tr>\n",
       "      <th>0</th>\n",
       "      <td>Hypertelorism (HP:0000316) (excluded)</td>\n",
       "      <td>7</td>\n",
       "    </tr>\n",
       "    <tr>\n",
       "      <th>1</th>\n",
       "      <td>Hypertelorism (HP:0000316) (observed)</td>\n",
       "      <td>9</td>\n",
       "    </tr>\n",
       "  </tbody>\n",
       "</table>\n",
       "</div>"
      ],
      "text/plain": [
       "                                 mapping count\n",
       "0  Hypertelorism (HP:0000316) (excluded)     7\n",
       "1  Hypertelorism (HP:0000316) (observed)     9"
      ]
     },
     "execution_count": 10,
     "metadata": {},
     "output_type": "execute_result"
    }
   ],
   "source": [
    "hypertelorism_d = {#'no': 'PLACEHOLDER',\n",
    " 'yes': 'Hypertelorism',\n",
    " 'mild': 'Hypertelorism',\n",
    "}\n",
    "excluded = {'no': 'Hypertelorism'}\n",
    "hypertelorismMapper = OptionColumnMapper(column_name=\"Hypertelorism\", concept_recognizer=hpo_cr, option_d=hypertelorism_d, excluded_d=excluded)\n",
    "column_mapper_list.append(hypertelorismMapper)\n",
    "hypertelorismMapper.preview_column(dft)\n"
   ]
  },
  {
   "cell_type": "code",
   "execution_count": 11,
   "id": "075e130f-6186-4141-931b-622fc7b61183",
   "metadata": {},
   "outputs": [
    {
     "data": {
      "text/html": [
       "<div>\n",
       "<style scoped>\n",
       "    .dataframe tbody tr th:only-of-type {\n",
       "        vertical-align: middle;\n",
       "    }\n",
       "\n",
       "    .dataframe tbody tr th {\n",
       "        vertical-align: top;\n",
       "    }\n",
       "\n",
       "    .dataframe thead th {\n",
       "        text-align: right;\n",
       "    }\n",
       "</style>\n",
       "<table border=\"1\" class=\"dataframe\">\n",
       "  <thead>\n",
       "    <tr style=\"text-align: right;\">\n",
       "      <th></th>\n",
       "      <th>mapping</th>\n",
       "      <th>count</th>\n",
       "    </tr>\n",
       "  </thead>\n",
       "  <tbody>\n",
       "    <tr>\n",
       "      <th>0</th>\n",
       "      <td>Cleft lip (HP:0410030) (observed)</td>\n",
       "      <td>2</td>\n",
       "    </tr>\n",
       "    <tr>\n",
       "      <th>1</th>\n",
       "      <td>Cleft lip (HP:0410030) (excluded)</td>\n",
       "      <td>16</td>\n",
       "    </tr>\n",
       "  </tbody>\n",
       "</table>\n",
       "</div>"
      ],
      "text/plain": [
       "                             mapping count\n",
       "0  Cleft lip (HP:0410030) (observed)     2\n",
       "1  Cleft lip (HP:0410030) (excluded)    16"
      ]
     },
     "execution_count": 11,
     "metadata": {},
     "output_type": "execute_result"
    }
   ],
   "source": [
    "cleft_lip_d = {'yes': 'Cleft lip'}\n",
    "excluded = {'no': 'Cleft lip'}\n",
    "cleft_lipMapper = OptionColumnMapper(column_name=\"Cleft lip\", concept_recognizer=hpo_cr, option_d=cleft_lip_d, excluded_d=excluded)\n",
    "column_mapper_list.append(cleft_lipMapper)\n",
    "cleft_lipMapper.preview_column(dft)"
   ]
  },
  {
   "cell_type": "code",
   "execution_count": 12,
   "id": "eccff242-dc99-4533-8a35-e374b1e146af",
   "metadata": {},
   "outputs": [
    {
     "data": {
      "text/html": [
       "<div>\n",
       "<style scoped>\n",
       "    .dataframe tbody tr th:only-of-type {\n",
       "        vertical-align: middle;\n",
       "    }\n",
       "\n",
       "    .dataframe tbody tr th {\n",
       "        vertical-align: top;\n",
       "    }\n",
       "\n",
       "    .dataframe thead th {\n",
       "        text-align: right;\n",
       "    }\n",
       "</style>\n",
       "<table border=\"1\" class=\"dataframe\">\n",
       "  <thead>\n",
       "    <tr style=\"text-align: right;\">\n",
       "      <th></th>\n",
       "      <th>mapping</th>\n",
       "      <th>count</th>\n",
       "    </tr>\n",
       "  </thead>\n",
       "  <tbody>\n",
       "    <tr>\n",
       "      <th>0</th>\n",
       "      <td>Cleft palate (HP:0000175) (observed)</td>\n",
       "      <td>5</td>\n",
       "    </tr>\n",
       "    <tr>\n",
       "      <th>1</th>\n",
       "      <td>Cleft palate (HP:0000175) (excluded)</td>\n",
       "      <td>12</td>\n",
       "    </tr>\n",
       "    <tr>\n",
       "      <th>2</th>\n",
       "      <td>High palate (HP:0000218) (observed)</td>\n",
       "      <td>1</td>\n",
       "    </tr>\n",
       "  </tbody>\n",
       "</table>\n",
       "</div>"
      ],
      "text/plain": [
       "                                mapping count\n",
       "0  Cleft palate (HP:0000175) (observed)     5\n",
       "1  Cleft palate (HP:0000175) (excluded)    12\n",
       "2   High palate (HP:0000218) (observed)     1"
      ]
     },
     "execution_count": 12,
     "metadata": {},
     "output_type": "execute_result"
    }
   ],
   "source": [
    "cleft_palate_d = {'yes': 'Cleft palate',\n",
    " 'no (high palate)': 'High palate'}\n",
    "excluded = {'no': 'Cleft palate'}\n",
    "cleft_palateMapper = OptionColumnMapper(column_name=\"Cleft palate\", concept_recognizer=hpo_cr, option_d=cleft_palate_d, excluded_d=excluded)\n",
    "column_mapper_list.append(cleft_palateMapper)\n",
    "cleft_palateMapper.preview_column(dft)"
   ]
  },
  {
   "cell_type": "code",
   "execution_count": 13,
   "id": "9c526d50-f2be-48ff-98e0-5dbf59f64dec",
   "metadata": {},
   "outputs": [
    {
     "data": {
      "text/html": [
       "<div>\n",
       "<style scoped>\n",
       "    .dataframe tbody tr th:only-of-type {\n",
       "        vertical-align: middle;\n",
       "    }\n",
       "\n",
       "    .dataframe tbody tr th {\n",
       "        vertical-align: top;\n",
       "    }\n",
       "\n",
       "    .dataframe thead th {\n",
       "        text-align: right;\n",
       "    }\n",
       "</style>\n",
       "<table border=\"1\" class=\"dataframe\">\n",
       "  <thead>\n",
       "    <tr style=\"text-align: right;\">\n",
       "      <th></th>\n",
       "      <th>mapping</th>\n",
       "      <th>count</th>\n",
       "    </tr>\n",
       "  </thead>\n",
       "  <tbody>\n",
       "    <tr>\n",
       "      <th>0</th>\n",
       "      <td>Micrognathia (HP:0000347) (excluded)</td>\n",
       "      <td>11</td>\n",
       "    </tr>\n",
       "    <tr>\n",
       "      <th>1</th>\n",
       "      <td>Micrognathia (HP:0000347) (observed)</td>\n",
       "      <td>7</td>\n",
       "    </tr>\n",
       "  </tbody>\n",
       "</table>\n",
       "</div>"
      ],
      "text/plain": [
       "                                mapping count\n",
       "0  Micrognathia (HP:0000347) (excluded)    11\n",
       "1  Micrognathia (HP:0000347) (observed)     7"
      ]
     },
     "execution_count": 13,
     "metadata": {},
     "output_type": "execute_result"
    }
   ],
   "source": [
    "micrognathia_d = {'yes': 'Micrognathia'}\n",
    "excluded = {'no': 'Micrognathia'}\n",
    "micrognathiaMapper = OptionColumnMapper(column_name=\"Micrognathia\", concept_recognizer=hpo_cr, option_d=micrognathia_d, excluded_d=excluded)\n",
    "column_mapper_list.append(micrognathiaMapper)\n",
    "micrognathiaMapper.preview_column(dft)\n"
   ]
  },
  {
   "cell_type": "code",
   "execution_count": 14,
   "id": "a1c79810-c016-455e-a2ee-9652ec1a0f5e",
   "metadata": {},
   "outputs": [
    {
     "data": {
      "text/html": [
       "<div>\n",
       "<style scoped>\n",
       "    .dataframe tbody tr th:only-of-type {\n",
       "        vertical-align: middle;\n",
       "    }\n",
       "\n",
       "    .dataframe tbody tr th {\n",
       "        vertical-align: top;\n",
       "    }\n",
       "\n",
       "    .dataframe thead th {\n",
       "        text-align: right;\n",
       "    }\n",
       "</style>\n",
       "<table border=\"1\" class=\"dataframe\">\n",
       "  <thead>\n",
       "    <tr style=\"text-align: right;\">\n",
       "      <th></th>\n",
       "      <th>mapping</th>\n",
       "      <th>count</th>\n",
       "    </tr>\n",
       "  </thead>\n",
       "  <tbody>\n",
       "    <tr>\n",
       "      <th>0</th>\n",
       "      <td>Low-set ears (HP:0000369) (excluded)</td>\n",
       "      <td>11</td>\n",
       "    </tr>\n",
       "    <tr>\n",
       "      <th>1</th>\n",
       "      <td>Low-set ears (HP:0000369) (observed)</td>\n",
       "      <td>6</td>\n",
       "    </tr>\n",
       "  </tbody>\n",
       "</table>\n",
       "</div>"
      ],
      "text/plain": [
       "                                mapping count\n",
       "0  Low-set ears (HP:0000369) (excluded)    11\n",
       "1  Low-set ears (HP:0000369) (observed)     6"
      ]
     },
     "execution_count": 14,
     "metadata": {},
     "output_type": "execute_result"
    }
   ],
   "source": [
    "ears_low_set_d = {'yes': 'Low-set ears',}\n",
    "excluded = {'no': 'Low-set ears'}\n",
    "ears_low_setMapper = OptionColumnMapper(column_name=\"Ears-low set\", concept_recognizer=hpo_cr, option_d=ears_low_set_d, excluded_d=excluded)\n",
    "column_mapper_list.append(ears_low_setMapper)\n",
    "ears_low_setMapper.preview_column(dft)"
   ]
  },
  {
   "cell_type": "code",
   "execution_count": 15,
   "id": "5be0741e-9d2d-4255-acc4-dbe2bcdf76df",
   "metadata": {},
   "outputs": [
    {
     "data": {
      "text/html": [
       "<div>\n",
       "<style scoped>\n",
       "    .dataframe tbody tr th:only-of-type {\n",
       "        vertical-align: middle;\n",
       "    }\n",
       "\n",
       "    .dataframe tbody tr th {\n",
       "        vertical-align: top;\n",
       "    }\n",
       "\n",
       "    .dataframe thead th {\n",
       "        text-align: right;\n",
       "    }\n",
       "</style>\n",
       "<table border=\"1\" class=\"dataframe\">\n",
       "  <thead>\n",
       "    <tr style=\"text-align: right;\">\n",
       "      <th></th>\n",
       "      <th>mapping</th>\n",
       "      <th>count</th>\n",
       "    </tr>\n",
       "  </thead>\n",
       "  <tbody>\n",
       "    <tr>\n",
       "      <th>0</th>\n",
       "      <td>Microtia (HP:0008551) (excluded)</td>\n",
       "      <td>14</td>\n",
       "    </tr>\n",
       "    <tr>\n",
       "      <th>1</th>\n",
       "      <td>Microtia (HP:0008551) (observed)</td>\n",
       "      <td>4</td>\n",
       "    </tr>\n",
       "  </tbody>\n",
       "</table>\n",
       "</div>"
      ],
      "text/plain": [
       "                            mapping count\n",
       "0  Microtia (HP:0008551) (excluded)    14\n",
       "1  Microtia (HP:0008551) (observed)     4"
      ]
     },
     "execution_count": 15,
     "metadata": {},
     "output_type": "execute_result"
    }
   ],
   "source": [
    "microtia_d = {\n",
    " 'yes': 'Microtia',\n",
    " 'small ears': 'Microtia',\n",
    " 'U/L': 'Microtia',\n",
    " 'unilateral': 'Microtia'}\n",
    "excluded = {'no': 'Microtia'}\n",
    "microtiaMapper = OptionColumnMapper(column_name=\"Microtia (unilateral or bilateral)\", concept_recognizer=hpo_cr, option_d=microtia_d, excluded_d=excluded)\n",
    "column_mapper_list.append(microtiaMapper)\n",
    "microtiaMapper.preview_column(dft)"
   ]
  },
  {
   "cell_type": "code",
   "execution_count": 16,
   "id": "c6359953-61b0-4d5d-b9d6-6c0dd1d77b98",
   "metadata": {},
   "outputs": [
    {
     "data": {
      "text/html": [
       "<div>\n",
       "<style scoped>\n",
       "    .dataframe tbody tr th:only-of-type {\n",
       "        vertical-align: middle;\n",
       "    }\n",
       "\n",
       "    .dataframe tbody tr th {\n",
       "        vertical-align: top;\n",
       "    }\n",
       "\n",
       "    .dataframe thead th {\n",
       "        text-align: right;\n",
       "    }\n",
       "</style>\n",
       "<table border=\"1\" class=\"dataframe\">\n",
       "  <thead>\n",
       "    <tr style=\"text-align: right;\">\n",
       "      <th></th>\n",
       "      <th>mapping</th>\n",
       "      <th>count</th>\n",
       "    </tr>\n",
       "  </thead>\n",
       "  <tbody>\n",
       "    <tr>\n",
       "      <th>0</th>\n",
       "      <td>Facial asymmetry (HP:0000324) (excluded)</td>\n",
       "      <td>15</td>\n",
       "    </tr>\n",
       "    <tr>\n",
       "      <th>1</th>\n",
       "      <td>Facial asymmetry (HP:0000324) (observed)</td>\n",
       "      <td>3</td>\n",
       "    </tr>\n",
       "  </tbody>\n",
       "</table>\n",
       "</div>"
      ],
      "text/plain": [
       "                                    mapping count\n",
       "0  Facial asymmetry (HP:0000324) (excluded)    15\n",
       "1  Facial asymmetry (HP:0000324) (observed)     3"
      ]
     },
     "execution_count": 16,
     "metadata": {},
     "output_type": "execute_result"
    }
   ],
   "source": [
    "facial_asymmetry_d = {'yes': 'Facial asymmetry'}\n",
    "excluded = {'no': 'Facial asymmetry'}\n",
    "facial_asymmetryMapper = OptionColumnMapper(column_name=\"Facial Asymmetry\", concept_recognizer=hpo_cr, option_d=facial_asymmetry_d, excluded_d=excluded)\n",
    "column_mapper_list.append(facial_asymmetryMapper)\n",
    "facial_asymmetryMapper.preview_column(dft)"
   ]
  },
  {
   "cell_type": "code",
   "execution_count": 17,
   "id": "17bb438e-6b01-486f-ba0e-18e269758524",
   "metadata": {},
   "outputs": [
    {
     "data": {
      "text/html": [
       "<div>\n",
       "<style scoped>\n",
       "    .dataframe tbody tr th:only-of-type {\n",
       "        vertical-align: middle;\n",
       "    }\n",
       "\n",
       "    .dataframe tbody tr th {\n",
       "        vertical-align: top;\n",
       "    }\n",
       "\n",
       "    .dataframe thead th {\n",
       "        text-align: right;\n",
       "    }\n",
       "</style>\n",
       "<table border=\"1\" class=\"dataframe\">\n",
       "  <thead>\n",
       "    <tr style=\"text-align: right;\">\n",
       "      <th></th>\n",
       "      <th>mapping</th>\n",
       "      <th>count</th>\n",
       "    </tr>\n",
       "  </thead>\n",
       "  <tbody>\n",
       "    <tr>\n",
       "      <th>0</th>\n",
       "      <td>Hypodontia (HP:0000668) (observed)</td>\n",
       "      <td>2</td>\n",
       "    </tr>\n",
       "    <tr>\n",
       "      <th>1</th>\n",
       "      <td>Hypodontia (HP:0000668) (excluded)</td>\n",
       "      <td>5</td>\n",
       "    </tr>\n",
       "  </tbody>\n",
       "</table>\n",
       "</div>"
      ],
      "text/plain": [
       "                              mapping count\n",
       "0  Hypodontia (HP:0000668) (observed)     2\n",
       "1  Hypodontia (HP:0000668) (excluded)     5"
      ]
     },
     "execution_count": 17,
     "metadata": {},
     "output_type": "execute_result"
    }
   ],
   "source": [
    "hypodontia_d = {'yes': 'Hypodontia',}\n",
    "excluded = {'no': 'Hypodontia'}\n",
    "hypodontiaMapper = OptionColumnMapper(column_name=\"Hypodontia\", concept_recognizer=hpo_cr, option_d=hypodontia_d, excluded_d=excluded)\n",
    "column_mapper_list.append(hypodontiaMapper)\n",
    "hypodontiaMapper.preview_column(dft)"
   ]
  },
  {
   "cell_type": "code",
   "execution_count": 18,
   "id": "da5594f6-7ff6-434c-9053-d6443b14492b",
   "metadata": {},
   "outputs": [
    {
     "data": {
      "text/html": [
       "<div>\n",
       "<style scoped>\n",
       "    .dataframe tbody tr th:only-of-type {\n",
       "        vertical-align: middle;\n",
       "    }\n",
       "\n",
       "    .dataframe tbody tr th {\n",
       "        vertical-align: top;\n",
       "    }\n",
       "\n",
       "    .dataframe thead th {\n",
       "        text-align: right;\n",
       "    }\n",
       "</style>\n",
       "<table border=\"1\" class=\"dataframe\">\n",
       "  <thead>\n",
       "    <tr style=\"text-align: right;\">\n",
       "      <th></th>\n",
       "      <th>mapping</th>\n",
       "      <th>count</th>\n",
       "    </tr>\n",
       "  </thead>\n",
       "  <tbody>\n",
       "    <tr>\n",
       "      <th>0</th>\n",
       "      <td>Abnormality of the face (HP:0000271) (excluded)</td>\n",
       "      <td>6</td>\n",
       "    </tr>\n",
       "    <tr>\n",
       "      <th>1</th>\n",
       "      <td>Hearing impairment (HP:0000365) (observed)</td>\n",
       "      <td>3</td>\n",
       "    </tr>\n",
       "    <tr>\n",
       "      <th>2</th>\n",
       "      <td>Vocal cord paralysis (HP:0001605) (observed)</td>\n",
       "      <td>2</td>\n",
       "    </tr>\n",
       "    <tr>\n",
       "      <th>3</th>\n",
       "      <td>Short nose (HP:0003196) (observed)</td>\n",
       "      <td>1</td>\n",
       "    </tr>\n",
       "    <tr>\n",
       "      <th>4</th>\n",
       "      <td>Long palpebral fissure (HP:0000637) (observed)</td>\n",
       "      <td>1</td>\n",
       "    </tr>\n",
       "    <tr>\n",
       "      <th>5</th>\n",
       "      <td>Bilateral choanal atresia (HP:0004502) (observed)</td>\n",
       "      <td>1</td>\n",
       "    </tr>\n",
       "    <tr>\n",
       "      <th>6</th>\n",
       "      <td>Upper eyelid coloboma (HP:0000636) (observed)</td>\n",
       "      <td>1</td>\n",
       "    </tr>\n",
       "    <tr>\n",
       "      <th>7</th>\n",
       "      <td>Calvarial skull defect (HP:0001362) (observed)</td>\n",
       "      <td>1</td>\n",
       "    </tr>\n",
       "    <tr>\n",
       "      <th>8</th>\n",
       "      <td>Broad forehead (HP:0000337) (observed)</td>\n",
       "      <td>1</td>\n",
       "    </tr>\n",
       "    <tr>\n",
       "      <th>9</th>\n",
       "      <td>Thick eyebrow (HP:0000574) (observed)</td>\n",
       "      <td>1</td>\n",
       "    </tr>\n",
       "    <tr>\n",
       "      <th>10</th>\n",
       "      <td>Deeply set eye (HP:0000490) (observed)</td>\n",
       "      <td>2</td>\n",
       "    </tr>\n",
       "    <tr>\n",
       "      <th>11</th>\n",
       "      <td>Duane anomaly (HP:0009921) (observed)</td>\n",
       "      <td>1</td>\n",
       "    </tr>\n",
       "    <tr>\n",
       "      <th>12</th>\n",
       "      <td>Ptosis (HP:0000508) (observed)</td>\n",
       "      <td>1</td>\n",
       "    </tr>\n",
       "    <tr>\n",
       "      <th>13</th>\n",
       "      <td>Mild hearing impairment (HP:0012712) (observed)</td>\n",
       "      <td>1</td>\n",
       "    </tr>\n",
       "    <tr>\n",
       "      <th>14</th>\n",
       "      <td>Epicanthus (HP:0000286) (observed)</td>\n",
       "      <td>1</td>\n",
       "    </tr>\n",
       "    <tr>\n",
       "      <th>15</th>\n",
       "      <td>Depressed nasal bridge (HP:0005280) (observed)</td>\n",
       "      <td>1</td>\n",
       "    </tr>\n",
       "    <tr>\n",
       "      <th>16</th>\n",
       "      <td>Anteverted nares (HP:0000463) (observed)</td>\n",
       "      <td>1</td>\n",
       "    </tr>\n",
       "    <tr>\n",
       "      <th>17</th>\n",
       "      <td>Upslanted palpebral fissure (HP:0000582) (observed)</td>\n",
       "      <td>1</td>\n",
       "    </tr>\n",
       "    <tr>\n",
       "      <th>18</th>\n",
       "      <td>Median pseudocleft lip (HP:0034185) (observed)</td>\n",
       "      <td>1</td>\n",
       "    </tr>\n",
       "    <tr>\n",
       "      <th>19</th>\n",
       "      <td>Tracheobronchomalacia (HP:0002786) (observed)</td>\n",
       "      <td>1</td>\n",
       "    </tr>\n",
       "    <tr>\n",
       "      <th>20</th>\n",
       "      <td>Laryngomalacia (HP:0001601) (observed)</td>\n",
       "      <td>1</td>\n",
       "    </tr>\n",
       "  </tbody>\n",
       "</table>\n",
       "</div>"
      ],
      "text/plain": [
       "                                                mapping count\n",
       "0       Abnormality of the face (HP:0000271) (excluded)     6\n",
       "1            Hearing impairment (HP:0000365) (observed)     3\n",
       "2          Vocal cord paralysis (HP:0001605) (observed)     2\n",
       "3                    Short nose (HP:0003196) (observed)     1\n",
       "4        Long palpebral fissure (HP:0000637) (observed)     1\n",
       "5     Bilateral choanal atresia (HP:0004502) (observed)     1\n",
       "6         Upper eyelid coloboma (HP:0000636) (observed)     1\n",
       "7        Calvarial skull defect (HP:0001362) (observed)     1\n",
       "8                Broad forehead (HP:0000337) (observed)     1\n",
       "9                 Thick eyebrow (HP:0000574) (observed)     1\n",
       "10               Deeply set eye (HP:0000490) (observed)     2\n",
       "11                Duane anomaly (HP:0009921) (observed)     1\n",
       "12                       Ptosis (HP:0000508) (observed)     1\n",
       "13      Mild hearing impairment (HP:0012712) (observed)     1\n",
       "14                   Epicanthus (HP:0000286) (observed)     1\n",
       "15       Depressed nasal bridge (HP:0005280) (observed)     1\n",
       "16             Anteverted nares (HP:0000463) (observed)     1\n",
       "17  Upslanted palpebral fissure (HP:0000582) (observed)     1\n",
       "18       Median pseudocleft lip (HP:0034185) (observed)     1\n",
       "19        Tracheobronchomalacia (HP:0002786) (observed)     1\n",
       "20               Laryngomalacia (HP:0001601) (observed)     1"
      ]
     },
     "execution_count": 18,
     "metadata": {},
     "output_type": "execute_result"
    }
   ],
   "source": [
    "other_craniofacial_d = {\n",
    " 'Congenital hearing loss': 'Hearing impairment',\n",
    " 'B/L vocal cord paralysis. Tall and wide palpebral fissures. Short nose with upturned tip.': ['Vocal cord paralysis', 'Long palpebral fissure', 'Anteverted nares'],\n",
    " 'U/L vocal cord paralysis': 'Vocal cord paralysis',\n",
    " 'bilateral choanal atresia': 'Bilateral choanal atresia',\n",
    " 'partial acalvaria, bilateral upper eyelid colobomas': ['Upper eyelid coloboma', 'Calvarial skull defect'],\n",
    " 'wide forehead, full eyebrows, deep set eyes': ['Broad forehead', 'Thick eyebrow', 'Deeply set eye'],\n",
    " 'strabismus (Duane anomaly)': 'Duane anomaly',\n",
    " 'L enophthalmia with ptosis. L partial hearing loss': ['Deeply set eye', 'Hearing impairment', 'Ptosis', 'Mild hearing impairment'],\n",
    " 'B/l epicanthal folds': 'Epicanthus',\n",
    " 'broad, flat nasal bridge, mild ala nasi deficiency': ['Depressed nasal bridge', 'Underdeveloped nasal alae'],\n",
    " 'short upturned nose': 'Anteverted nares',\n",
    " 'upslanting palpebral fissures': 'Upslanted palpebral fissure',\n",
    " 'midline pseudocleft of upper lip':  'Median pseudocleft lip',\n",
    " 'airway malacia, hearing loss': ['Tracheobronchomalacia','Hearing impairment'],\n",
    " 's/p Md distraction': 'Abnormal mandible morphology', ##NOT SURE OF THE CORRECT TERM\n",
    " 'laryngomalacia': 'Laryngomalacia'}\n",
    "excluded = {'no': 'Abnormality of the face'}\n",
    "other_craniofacialMapper = OptionColumnMapper(column_name=\"Other craniofacial\", concept_recognizer=hpo_cr, option_d=other_craniofacial_d, excluded_d=excluded)\n",
    "column_mapper_list.append(other_craniofacialMapper)\n",
    "other_craniofacialMapper.preview_column(dft)"
   ]
  },
  {
   "cell_type": "code",
   "execution_count": 19,
   "id": "38ad6792-6af0-4923-a7be-327e48bd10bc",
   "metadata": {},
   "outputs": [
    {
     "data": {
      "text/html": [
       "<div>\n",
       "<style scoped>\n",
       "    .dataframe tbody tr th:only-of-type {\n",
       "        vertical-align: middle;\n",
       "    }\n",
       "\n",
       "    .dataframe tbody tr th {\n",
       "        vertical-align: top;\n",
       "    }\n",
       "\n",
       "    .dataframe thead th {\n",
       "        text-align: right;\n",
       "    }\n",
       "</style>\n",
       "<table border=\"1\" class=\"dataframe\">\n",
       "  <thead>\n",
       "    <tr style=\"text-align: right;\">\n",
       "      <th></th>\n",
       "      <th>mapping</th>\n",
       "      <th>count</th>\n",
       "    </tr>\n",
       "  </thead>\n",
       "  <tbody>\n",
       "    <tr>\n",
       "      <th>0</th>\n",
       "      <td>Brain imaging abnormality (HP:0410263) (excluded)</td>\n",
       "      <td>7</td>\n",
       "    </tr>\n",
       "    <tr>\n",
       "      <th>1</th>\n",
       "      <td>Hydrocephalus (HP:0000238) (observed)</td>\n",
       "      <td>1</td>\n",
       "    </tr>\n",
       "    <tr>\n",
       "      <th>2</th>\n",
       "      <td>Syringomyelia (HP:0003396) (observed)</td>\n",
       "      <td>1</td>\n",
       "    </tr>\n",
       "    <tr>\n",
       "      <th>3</th>\n",
       "      <td>Brain imaging abnormality (HP:0410263) (observed)</td>\n",
       "      <td>5</td>\n",
       "    </tr>\n",
       "  </tbody>\n",
       "</table>\n",
       "</div>"
      ],
      "text/plain": [
       "                                             mapping count\n",
       "0  Brain imaging abnormality (HP:0410263) (excluded)     7\n",
       "1              Hydrocephalus (HP:0000238) (observed)     1\n",
       "2              Syringomyelia (HP:0003396) (observed)     1\n",
       "3  Brain imaging abnormality (HP:0410263) (observed)     5"
      ]
     },
     "execution_count": 19,
     "metadata": {},
     "output_type": "execute_result"
    }
   ],
   "source": [
    "#NOTE: LEAST CONFIDENT OF THIS SECTION\n",
    "brain_imaging_d = {\n",
    " #'MRI': 'PLACEHOLDER',\n",
    " 'MRI: hydrocephaly with junctional stenosis C0-C1 and syringomyelia':['Hydrocephalus', 'Syringomyelia'], \n",
    "    ##NOT SURE IF HYDROCEPHALUS IS THE CORRECT TERM OR IF A CHILD TERM WOULD BE MORE APPROPRIATE\n",
    " 'MRI Punctate restricted diffusion in the right parietal white matter and periatrial white matter representing ischemia or infarctions with minimal petechial hemorrhage':['Brain ischemia', 'Encephalomalacia', 'Cerebral contusions'],\n",
    "    #'CT': 'PLACEHOLDER',\n",
    " 'yes': 'Brain imaging abnormality'}\n",
    "excluded = {'no': 'Brain imaging abnormality','normal': 'Brain imaging abnormality',}\n",
    "brain_imagingMapper = OptionColumnMapper(column_name=\"Brain imaging (CT, MRI, Ultrasound)\", concept_recognizer=hpo_cr, option_d=brain_imaging_d, excluded_d=excluded)\n",
    "column_mapper_list.append(brain_imagingMapper)\n",
    "brain_imagingMapper.preview_column(dft)"
   ]
  },
  {
   "cell_type": "code",
   "execution_count": 20,
   "id": "acaeedb5-e165-4385-a5aa-fc84fcafc1f5",
   "metadata": {},
   "outputs": [
    {
     "data": {
      "text/html": [
       "<div>\n",
       "<style scoped>\n",
       "    .dataframe tbody tr th:only-of-type {\n",
       "        vertical-align: middle;\n",
       "    }\n",
       "\n",
       "    .dataframe tbody tr th {\n",
       "        vertical-align: top;\n",
       "    }\n",
       "\n",
       "    .dataframe thead th {\n",
       "        text-align: right;\n",
       "    }\n",
       "</style>\n",
       "<table border=\"1\" class=\"dataframe\">\n",
       "  <thead>\n",
       "    <tr style=\"text-align: right;\">\n",
       "      <th></th>\n",
       "      <th>mapping</th>\n",
       "      <th>count</th>\n",
       "    </tr>\n",
       "  </thead>\n",
       "  <tbody>\n",
       "    <tr>\n",
       "      <th>0</th>\n",
       "      <td>Ventriculomegaly (HP:0002119) (excluded)</td>\n",
       "      <td>9</td>\n",
       "    </tr>\n",
       "    <tr>\n",
       "      <th>1</th>\n",
       "      <td>Ventriculomegaly (HP:0002119) (observed)</td>\n",
       "      <td>1</td>\n",
       "    </tr>\n",
       "    <tr>\n",
       "      <th>2</th>\n",
       "      <td>Dandy-Walker malformation (HP:0001305) (observed)</td>\n",
       "      <td>1</td>\n",
       "    </tr>\n",
       "  </tbody>\n",
       "</table>\n",
       "</div>"
      ],
      "text/plain": [
       "                                             mapping count\n",
       "0           Ventriculomegaly (HP:0002119) (excluded)     9\n",
       "1           Ventriculomegaly (HP:0002119) (observed)     1\n",
       "2  Dandy-Walker malformation (HP:0001305) (observed)     1"
      ]
     },
     "execution_count": 20,
     "metadata": {},
     "output_type": "execute_result"
    }
   ],
   "source": [
    "ventriculomegaly_d = { \n",
    " 'yes': 'Ventriculomegaly',\n",
    " 'mild prominent 4th ventricle and infracerebellar space': 'Dandy-Walker malformation',\n",
    "}\n",
    "excluded = {'no': 'Ventriculomegaly',}\n",
    "ventriculomegalyMapper = OptionColumnMapper(column_name=\"Ventriculomegaly\", concept_recognizer=hpo_cr, option_d=ventriculomegaly_d, excluded_d=excluded)\n",
    "column_mapper_list.append(ventriculomegalyMapper)\n",
    "ventriculomegalyMapper.preview_column(dft)"
   ]
  },
  {
   "cell_type": "code",
   "execution_count": 21,
   "id": "234c3c9c-8a33-4e89-bb8c-0fbdc21e5a8a",
   "metadata": {},
   "outputs": [
    {
     "data": {
      "text/html": [
       "<div>\n",
       "<style scoped>\n",
       "    .dataframe tbody tr th:only-of-type {\n",
       "        vertical-align: middle;\n",
       "    }\n",
       "\n",
       "    .dataframe tbody tr th {\n",
       "        vertical-align: top;\n",
       "    }\n",
       "\n",
       "    .dataframe thead th {\n",
       "        text-align: right;\n",
       "    }\n",
       "</style>\n",
       "<table border=\"1\" class=\"dataframe\">\n",
       "  <thead>\n",
       "    <tr style=\"text-align: right;\">\n",
       "      <th></th>\n",
       "      <th>mapping</th>\n",
       "      <th>count</th>\n",
       "    </tr>\n",
       "  </thead>\n",
       "  <tbody>\n",
       "    <tr>\n",
       "      <th>0</th>\n",
       "      <td>Abnormal brain morphology (HP:0012443) (excluded)</td>\n",
       "      <td>8</td>\n",
       "    </tr>\n",
       "    <tr>\n",
       "      <th>1</th>\n",
       "      <td>Cavum septum pellucidum (HP:0002389) (observed)</td>\n",
       "      <td>1</td>\n",
       "    </tr>\n",
       "    <tr>\n",
       "      <th>2</th>\n",
       "      <td>Aqueductal stenosis (HP:0002410) (observed)</td>\n",
       "      <td>1</td>\n",
       "    </tr>\n",
       "  </tbody>\n",
       "</table>\n",
       "</div>"
      ],
      "text/plain": [
       "                                             mapping count\n",
       "0  Abnormal brain morphology (HP:0012443) (excluded)     8\n",
       "1    Cavum septum pellucidum (HP:0002389) (observed)     1\n",
       "2        Aqueductal stenosis (HP:0002410) (observed)     1"
      ]
     },
     "execution_count": 21,
     "metadata": {},
     "output_type": "execute_result"
    }
   ],
   "source": [
    "structural_brain_anomaly_d = { #'nan': 'PLACEHOLDER',\n",
    " 'cavum septum pellucidum': 'Cavum septum pellucidum',\n",
    " 'aqueductal stenosis': 'Aqueductal stenosis'}\n",
    "excluded = { 'no': 'Abnormal brain morphology',}\n",
    "structural_brain_anomalyMapper = OptionColumnMapper(column_name=\"Structural Brain anomaly\", concept_recognizer=hpo_cr, option_d=structural_brain_anomaly_d, excluded_d=excluded)\n",
    "column_mapper_list.append(structural_brain_anomalyMapper)\n",
    "structural_brain_anomalyMapper.preview_column(dft)"
   ]
  },
  {
   "cell_type": "code",
   "execution_count": 22,
   "id": "110d0a40-5107-4133-9c5c-d4de2714f298",
   "metadata": {},
   "outputs": [
    {
     "data": {
      "text/html": [
       "<div>\n",
       "<style scoped>\n",
       "    .dataframe tbody tr th:only-of-type {\n",
       "        vertical-align: middle;\n",
       "    }\n",
       "\n",
       "    .dataframe tbody tr th {\n",
       "        vertical-align: top;\n",
       "    }\n",
       "\n",
       "    .dataframe thead th {\n",
       "        text-align: right;\n",
       "    }\n",
       "</style>\n",
       "<table border=\"1\" class=\"dataframe\">\n",
       "  <thead>\n",
       "    <tr style=\"text-align: right;\">\n",
       "      <th></th>\n",
       "      <th>mapping</th>\n",
       "      <th>count</th>\n",
       "    </tr>\n",
       "  </thead>\n",
       "  <tbody>\n",
       "    <tr>\n",
       "      <th>0</th>\n",
       "      <td>Hypotonia (HP:0001252) (excluded)</td>\n",
       "      <td>7</td>\n",
       "    </tr>\n",
       "    <tr>\n",
       "      <th>1</th>\n",
       "      <td>Hypotonia (HP:0001252) (observed)</td>\n",
       "      <td>10</td>\n",
       "    </tr>\n",
       "  </tbody>\n",
       "</table>\n",
       "</div>"
      ],
      "text/plain": [
       "                             mapping count\n",
       "0  Hypotonia (HP:0001252) (excluded)     7\n",
       "1  Hypotonia (HP:0001252) (observed)    10"
      ]
     },
     "execution_count": 22,
     "metadata": {},
     "output_type": "execute_result"
    }
   ],
   "source": [
    "hypotonia_d = {'yes': 'Hypotonia'}\n",
    "excluded = {'no': 'Hypotonia',}\n",
    "hypotoniaMapper = OptionColumnMapper(column_name=\"Hypotonia\", concept_recognizer=hpo_cr, option_d=hypotonia_d, excluded_d=excluded)\n",
    "column_mapper_list.append(hypotoniaMapper)\n",
    "hypotoniaMapper.preview_column(dft)"
   ]
  },
  {
   "cell_type": "code",
   "execution_count": 23,
   "id": "2da06742-62ef-4b56-ab71-37be8d1308f0",
   "metadata": {},
   "outputs": [
    {
     "data": {
      "text/html": [
       "<div>\n",
       "<style scoped>\n",
       "    .dataframe tbody tr th:only-of-type {\n",
       "        vertical-align: middle;\n",
       "    }\n",
       "\n",
       "    .dataframe tbody tr th {\n",
       "        vertical-align: top;\n",
       "    }\n",
       "\n",
       "    .dataframe thead th {\n",
       "        text-align: right;\n",
       "    }\n",
       "</style>\n",
       "<table border=\"1\" class=\"dataframe\">\n",
       "  <thead>\n",
       "    <tr style=\"text-align: right;\">\n",
       "      <th></th>\n",
       "      <th>mapping</th>\n",
       "      <th>count</th>\n",
       "    </tr>\n",
       "  </thead>\n",
       "  <tbody>\n",
       "    <tr>\n",
       "      <th>0</th>\n",
       "      <td>Joint contracture (HP:0034392) (excluded)</td>\n",
       "      <td>14</td>\n",
       "    </tr>\n",
       "    <tr>\n",
       "      <th>1</th>\n",
       "      <td>Joint contracture (HP:0034392) (observed)</td>\n",
       "      <td>2</td>\n",
       "    </tr>\n",
       "  </tbody>\n",
       "</table>\n",
       "</div>"
      ],
      "text/plain": [
       "                                     mapping count\n",
       "0  Joint contracture (HP:0034392) (excluded)    14\n",
       "1  Joint contracture (HP:0034392) (observed)     2"
      ]
     },
     "execution_count": 23,
     "metadata": {},
     "output_type": "execute_result"
    }
   ],
   "source": [
    "contractures_d = {'yes': 'Joint contracture'}\n",
    "excluded = {'no': 'Joint contracture',}\n",
    "contracturesMapper = OptionColumnMapper(column_name=\"Contractures\", concept_recognizer=hpo_cr, option_d=contractures_d, excluded_d=excluded)\n",
    "column_mapper_list.append(contracturesMapper)\n",
    "contracturesMapper.preview_column(dft)"
   ]
  },
  {
   "cell_type": "code",
   "execution_count": 24,
   "id": "3c22a815-df58-4c86-84bd-b89705e81bc9",
   "metadata": {},
   "outputs": [
    {
     "data": {
      "text/html": [
       "<div>\n",
       "<style scoped>\n",
       "    .dataframe tbody tr th:only-of-type {\n",
       "        vertical-align: middle;\n",
       "    }\n",
       "\n",
       "    .dataframe tbody tr th {\n",
       "        vertical-align: top;\n",
       "    }\n",
       "\n",
       "    .dataframe thead th {\n",
       "        text-align: right;\n",
       "    }\n",
       "</style>\n",
       "<table border=\"1\" class=\"dataframe\">\n",
       "  <thead>\n",
       "    <tr style=\"text-align: right;\">\n",
       "      <th></th>\n",
       "      <th>mapping</th>\n",
       "      <th>count</th>\n",
       "    </tr>\n",
       "  </thead>\n",
       "  <tbody>\n",
       "    <tr>\n",
       "      <th>0</th>\n",
       "      <td>Infantile spasms (HP:0012469) (excluded)</td>\n",
       "      <td>17</td>\n",
       "    </tr>\n",
       "    <tr>\n",
       "      <th>1</th>\n",
       "      <td>Infantile spasms (HP:0012469) (observed)</td>\n",
       "      <td>1</td>\n",
       "    </tr>\n",
       "  </tbody>\n",
       "</table>\n",
       "</div>"
      ],
      "text/plain": [
       "                                    mapping count\n",
       "0  Infantile spasms (HP:0012469) (excluded)    17\n",
       "1  Infantile spasms (HP:0012469) (observed)     1"
      ]
     },
     "execution_count": 24,
     "metadata": {},
     "output_type": "execute_result"
    }
   ],
   "source": [
    "infantile_spasms_d = {'yes': 'Infantile spasms'}\n",
    "excluded = {'no': 'Infantile spasms',}\n",
    "infantile_spasmsMapper = OptionColumnMapper(column_name=\"Infantile spasms\", concept_recognizer=hpo_cr, option_d=infantile_spasms_d, excluded_d=excluded)\n",
    "column_mapper_list.append(infantile_spasmsMapper)\n",
    "infantile_spasmsMapper.preview_column(dft)"
   ]
  },
  {
   "cell_type": "code",
   "execution_count": 25,
   "id": "7ed542a4-d15a-49c7-b78c-c0ec42e7dba0",
   "metadata": {},
   "outputs": [
    {
     "data": {
      "text/html": [
       "<div>\n",
       "<style scoped>\n",
       "    .dataframe tbody tr th:only-of-type {\n",
       "        vertical-align: middle;\n",
       "    }\n",
       "\n",
       "    .dataframe tbody tr th {\n",
       "        vertical-align: top;\n",
       "    }\n",
       "\n",
       "    .dataframe thead th {\n",
       "        text-align: right;\n",
       "    }\n",
       "</style>\n",
       "<table border=\"1\" class=\"dataframe\">\n",
       "  <thead>\n",
       "    <tr style=\"text-align: right;\">\n",
       "      <th></th>\n",
       "      <th>mapping</th>\n",
       "      <th>count</th>\n",
       "    </tr>\n",
       "  </thead>\n",
       "  <tbody>\n",
       "    <tr>\n",
       "      <th>0</th>\n",
       "      <td>Seizure (HP:0001250) (excluded)</td>\n",
       "      <td>11</td>\n",
       "    </tr>\n",
       "    <tr>\n",
       "      <th>1</th>\n",
       "      <td>Seizure (HP:0001250) (observed)</td>\n",
       "      <td>6</td>\n",
       "    </tr>\n",
       "    <tr>\n",
       "      <th>2</th>\n",
       "      <td>Epileptic encephalopathy (HP:0200134) (observed)</td>\n",
       "      <td>1</td>\n",
       "    </tr>\n",
       "    <tr>\n",
       "      <th>3</th>\n",
       "      <td>Myoclonus (HP:0001336) (observed)</td>\n",
       "      <td>1</td>\n",
       "    </tr>\n",
       "    <tr>\n",
       "      <th>4</th>\n",
       "      <td>Atonic seizure (HP:0010819) (observed)</td>\n",
       "      <td>1</td>\n",
       "    </tr>\n",
       "  </tbody>\n",
       "</table>\n",
       "</div>"
      ],
      "text/plain": [
       "                                            mapping count\n",
       "0                   Seizure (HP:0001250) (excluded)    11\n",
       "1                   Seizure (HP:0001250) (observed)     6\n",
       "2  Epileptic encephalopathy (HP:0200134) (observed)     1\n",
       "3                 Myoclonus (HP:0001336) (observed)     1\n",
       "4            Atonic seizure (HP:0010819) (observed)     1"
      ]
     },
     "execution_count": 25,
     "metadata": {},
     "output_type": "execute_result"
    }
   ],
   "source": [
    "epilepsy_d = {\n",
    " 'yes': 'Seizure',\n",
    " 'yes, epileptic encephalopathy, myoclonia, atonic seizures': ['Epileptic encephalopathy', 'Myoclonus', 'Atonic seizure'],\n",
    "}\n",
    "excluded = {'no': 'Seizure',}\n",
    "epilepsyMapper = OptionColumnMapper(column_name=\"Epilepsy\", concept_recognizer=hpo_cr, option_d=epilepsy_d, excluded_d=excluded)\n",
    "column_mapper_list.append(epilepsyMapper)\n",
    "epilepsyMapper.preview_column(dft)"
   ]
  },
  {
   "cell_type": "code",
   "execution_count": 26,
   "id": "e6fe3413-6466-4d82-b894-be73f427369b",
   "metadata": {},
   "outputs": [
    {
     "data": {
      "text/html": [
       "<div>\n",
       "<style scoped>\n",
       "    .dataframe tbody tr th:only-of-type {\n",
       "        vertical-align: middle;\n",
       "    }\n",
       "\n",
       "    .dataframe tbody tr th {\n",
       "        vertical-align: top;\n",
       "    }\n",
       "\n",
       "    .dataframe thead th {\n",
       "        text-align: right;\n",
       "    }\n",
       "</style>\n",
       "<table border=\"1\" class=\"dataframe\">\n",
       "  <thead>\n",
       "    <tr style=\"text-align: right;\">\n",
       "      <th></th>\n",
       "      <th>mapping</th>\n",
       "      <th>count</th>\n",
       "    </tr>\n",
       "  </thead>\n",
       "  <tbody>\n",
       "    <tr>\n",
       "      <th>0</th>\n",
       "      <td>Neurodevelopmental delay (HP:0012758) (excluded)</td>\n",
       "      <td>6</td>\n",
       "    </tr>\n",
       "    <tr>\n",
       "      <th>1</th>\n",
       "      <td>Neurodevelopmental delay (HP:0012758) (observed)</td>\n",
       "      <td>8</td>\n",
       "    </tr>\n",
       "    <tr>\n",
       "      <th>2</th>\n",
       "      <td>Seizure (HP:0001250) (observed)</td>\n",
       "      <td>1</td>\n",
       "    </tr>\n",
       "    <tr>\n",
       "      <th>3</th>\n",
       "      <td>Motor delay (HP:0001270) (observed)</td>\n",
       "      <td>1</td>\n",
       "    </tr>\n",
       "  </tbody>\n",
       "</table>\n",
       "</div>"
      ],
      "text/plain": [
       "                                            mapping count\n",
       "0  Neurodevelopmental delay (HP:0012758) (excluded)     6\n",
       "1  Neurodevelopmental delay (HP:0012758) (observed)     8\n",
       "2                   Seizure (HP:0001250) (observed)     1\n",
       "3               Motor delay (HP:0001270) (observed)     1"
      ]
     },
     "execution_count": 26,
     "metadata": {},
     "output_type": "execute_result"
    }
   ],
   "source": [
    "developmental_delay_d = {\n",
    " 'yes': 'Neurodevelopmental delay',\n",
    " 'slight motor': 'Motor delay'}\n",
    "excluded = {'no': 'Neurodevelopmental delay',}\n",
    "developmental_delayMapper = OptionColumnMapper(column_name=\"Developmental delay\", concept_recognizer=hpo_cr, option_d=developmental_delay_d, excluded_d=excluded)\n",
    "column_mapper_list.append(developmental_delayMapper)\n",
    "developmental_delayMapper.preview_column(dft)"
   ]
  },
  {
   "cell_type": "code",
   "execution_count": 27,
   "id": "fe55a058-8f2a-4bc9-8a6f-efd457d4a41f",
   "metadata": {},
   "outputs": [
    {
     "data": {
      "text/html": [
       "<div>\n",
       "<style scoped>\n",
       "    .dataframe tbody tr th:only-of-type {\n",
       "        vertical-align: middle;\n",
       "    }\n",
       "\n",
       "    .dataframe tbody tr th {\n",
       "        vertical-align: top;\n",
       "    }\n",
       "\n",
       "    .dataframe thead th {\n",
       "        text-align: right;\n",
       "    }\n",
       "</style>\n",
       "<table border=\"1\" class=\"dataframe\">\n",
       "  <thead>\n",
       "    <tr style=\"text-align: right;\">\n",
       "      <th></th>\n",
       "      <th>mapping</th>\n",
       "      <th>count</th>\n",
       "    </tr>\n",
       "  </thead>\n",
       "  <tbody>\n",
       "    <tr>\n",
       "      <th>0</th>\n",
       "      <td>Developmental regression (HP:0002376) (excluded)</td>\n",
       "      <td>15</td>\n",
       "    </tr>\n",
       "    <tr>\n",
       "      <th>1</th>\n",
       "      <td>Developmental regression (HP:0002376) (observed)</td>\n",
       "      <td>1</td>\n",
       "    </tr>\n",
       "  </tbody>\n",
       "</table>\n",
       "</div>"
      ],
      "text/plain": [
       "                                            mapping count\n",
       "0  Developmental regression (HP:0002376) (excluded)    15\n",
       "1  Developmental regression (HP:0002376) (observed)     1"
      ]
     },
     "execution_count": 27,
     "metadata": {},
     "output_type": "execute_result"
    }
   ],
   "source": [
    "regression_d = {'yes after onset epilepsy': 'Developmental regression'}\n",
    "excluded = {'no': 'Developmental regression',}\n",
    "regressionMapper = OptionColumnMapper(column_name=\"Regression\", concept_recognizer=hpo_cr, option_d=regression_d, excluded_d=excluded)\n",
    "column_mapper_list.append(regressionMapper)\n",
    "regressionMapper.preview_column(dft)"
   ]
  },
  {
   "cell_type": "code",
   "execution_count": 28,
   "id": "e2fca12f-66e8-4e3d-8dde-e9a1cc0aa340",
   "metadata": {},
   "outputs": [
    {
     "data": {
      "text/html": [
       "<div>\n",
       "<style scoped>\n",
       "    .dataframe tbody tr th:only-of-type {\n",
       "        vertical-align: middle;\n",
       "    }\n",
       "\n",
       "    .dataframe tbody tr th {\n",
       "        vertical-align: top;\n",
       "    }\n",
       "\n",
       "    .dataframe thead th {\n",
       "        text-align: right;\n",
       "    }\n",
       "</style>\n",
       "<table border=\"1\" class=\"dataframe\">\n",
       "  <thead>\n",
       "    <tr style=\"text-align: right;\">\n",
       "      <th></th>\n",
       "      <th>mapping</th>\n",
       "      <th>count</th>\n",
       "    </tr>\n",
       "  </thead>\n",
       "  <tbody>\n",
       "    <tr>\n",
       "      <th>0</th>\n",
       "      <td>Abnormality of coordination (HP:0011443) (excluded)</td>\n",
       "      <td>15</td>\n",
       "    </tr>\n",
       "    <tr>\n",
       "      <th>1</th>\n",
       "      <td>Abnormality of coordination (HP:0011443) (observed)</td>\n",
       "      <td>1</td>\n",
       "    </tr>\n",
       "    <tr>\n",
       "      <th>2</th>\n",
       "      <td>Lower limb spasticity (HP:0002061) (observed)</td>\n",
       "      <td>1</td>\n",
       "    </tr>\n",
       "    <tr>\n",
       "      <th>3</th>\n",
       "      <td>Laryngeal dystonia (HP:0012049) (observed)</td>\n",
       "      <td>1</td>\n",
       "    </tr>\n",
       "    <tr>\n",
       "      <th>4</th>\n",
       "      <td>Mild global developmental delay (HP:0011342) (observed)</td>\n",
       "      <td>1</td>\n",
       "    </tr>\n",
       "  </tbody>\n",
       "</table>\n",
       "</div>"
      ],
      "text/plain": [
       "                                                   mapping count\n",
       "0      Abnormality of coordination (HP:0011443) (excluded)    15\n",
       "1      Abnormality of coordination (HP:0011443) (observed)     1\n",
       "2            Lower limb spasticity (HP:0002061) (observed)     1\n",
       "3               Laryngeal dystonia (HP:0012049) (observed)     1\n",
       "4  Mild global developmental delay (HP:0011342) (observed)     1"
      ]
     },
     "execution_count": 28,
     "metadata": {},
     "output_type": "execute_result"
    }
   ],
   "source": [
    "other_neuro_d = {\n",
    " 'possible ataxia': 'Abnormality of coordination',\n",
    " 'leg spasticity, spastic dystonia, mild learning difficulties': ['Lower limb spasticity', 'Laryngeal dystonia', 'Mild global developmental delay'], }\n",
    "excluded = {'no': 'Abnormality of coordination',}\n",
    "other_neuroMapper = OptionColumnMapper(column_name=\"Other neuro\", concept_recognizer=hpo_cr, option_d=other_neuro_d, excluded_d=excluded)\n",
    "column_mapper_list.append(other_neuroMapper)\n",
    "other_neuroMapper.preview_column(dft)"
   ]
  },
  {
   "cell_type": "code",
   "execution_count": 29,
   "id": "77b2e513-fca3-41c3-9129-73e43cfd056a",
   "metadata": {},
   "outputs": [
    {
     "data": {
      "text/html": [
       "<div>\n",
       "<style scoped>\n",
       "    .dataframe tbody tr th:only-of-type {\n",
       "        vertical-align: middle;\n",
       "    }\n",
       "\n",
       "    .dataframe tbody tr th {\n",
       "        vertical-align: top;\n",
       "    }\n",
       "\n",
       "    .dataframe thead th {\n",
       "        text-align: right;\n",
       "    }\n",
       "</style>\n",
       "<table border=\"1\" class=\"dataframe\">\n",
       "  <thead>\n",
       "    <tr style=\"text-align: right;\">\n",
       "      <th></th>\n",
       "      <th>mapping</th>\n",
       "      <th>count</th>\n",
       "    </tr>\n",
       "  </thead>\n",
       "  <tbody>\n",
       "    <tr>\n",
       "      <th>0</th>\n",
       "      <td>Abnormality of limbs (HP:0040064) (excluded)</td>\n",
       "      <td>12</td>\n",
       "    </tr>\n",
       "    <tr>\n",
       "      <th>1</th>\n",
       "      <td>Abnormality of limbs (HP:0040064) (observed)</td>\n",
       "      <td>6</td>\n",
       "    </tr>\n",
       "  </tbody>\n",
       "</table>\n",
       "</div>"
      ],
      "text/plain": [
       "                                        mapping count\n",
       "0  Abnormality of limbs (HP:0040064) (excluded)    12\n",
       "1  Abnormality of limbs (HP:0040064) (observed)     6"
      ]
     },
     "execution_count": 29,
     "metadata": {},
     "output_type": "execute_result"
    }
   ],
   "source": [
    "limb_defects_d = {'yes': 'Abnormality of limbs'}\n",
    "excluded = {'no': 'Abnormality of limbs',}\n",
    "limb_defectsMapper = OptionColumnMapper(column_name=\"Limb defects\", concept_recognizer=hpo_cr, option_d=limb_defects_d, excluded_d=excluded)\n",
    "column_mapper_list.append(limb_defectsMapper)\n",
    "limb_defectsMapper.preview_column(dft)"
   ]
  },
  {
   "cell_type": "code",
   "execution_count": 30,
   "id": "6b24f6b2-025a-4dab-9381-a04569144826",
   "metadata": {},
   "outputs": [
    {
     "data": {
      "text/html": [
       "<div>\n",
       "<style scoped>\n",
       "    .dataframe tbody tr th:only-of-type {\n",
       "        vertical-align: middle;\n",
       "    }\n",
       "\n",
       "    .dataframe tbody tr th {\n",
       "        vertical-align: top;\n",
       "    }\n",
       "\n",
       "    .dataframe thead th {\n",
       "        text-align: right;\n",
       "    }\n",
       "</style>\n",
       "<table border=\"1\" class=\"dataframe\">\n",
       "  <thead>\n",
       "    <tr style=\"text-align: right;\">\n",
       "      <th></th>\n",
       "      <th>mapping</th>\n",
       "      <th>count</th>\n",
       "    </tr>\n",
       "  </thead>\n",
       "  <tbody>\n",
       "    <tr>\n",
       "      <th>0</th>\n",
       "      <td>Patent foramen ovale (HP:0001655) (excluded)</td>\n",
       "      <td>10</td>\n",
       "    </tr>\n",
       "    <tr>\n",
       "      <th>1</th>\n",
       "      <td>Atrial septal defect (HP:0001631) (excluded)</td>\n",
       "      <td>10</td>\n",
       "    </tr>\n",
       "    <tr>\n",
       "      <th>2</th>\n",
       "      <td>Patent foramen ovale (HP:0001655) (observed)</td>\n",
       "      <td>4</td>\n",
       "    </tr>\n",
       "    <tr>\n",
       "      <th>3</th>\n",
       "      <td>Atrial septal defect (HP:0001631) (observed)</td>\n",
       "      <td>3</td>\n",
       "    </tr>\n",
       "  </tbody>\n",
       "</table>\n",
       "</div>"
      ],
      "text/plain": [
       "                                        mapping count\n",
       "0  Patent foramen ovale (HP:0001655) (excluded)    10\n",
       "1  Atrial septal defect (HP:0001631) (excluded)    10\n",
       "2  Patent foramen ovale (HP:0001655) (observed)     4\n",
       "3  Atrial septal defect (HP:0001631) (observed)     3"
      ]
     },
     "execution_count": 30,
     "metadata": {},
     "output_type": "execute_result"
    }
   ],
   "source": [
    "pfo_asd_d = {\n",
    " 'yes': ['Patent foramen ovale', 'Atrial septal defect'],\n",
    " 'PFO': 'Patent foramen ovale'}\n",
    "excluded = {'no': ['Patent foramen ovale', 'Atrial septal defect'],}\n",
    "pfo_asdMapper = OptionColumnMapper(column_name=\"PFO/ASD\", concept_recognizer=hpo_cr, option_d=pfo_asd_d, excluded_d=excluded)\n",
    "column_mapper_list.append(pfo_asdMapper)\n",
    "pfo_asdMapper.preview_column(dft)"
   ]
  },
  {
   "cell_type": "code",
   "execution_count": 31,
   "id": "8a743749-de88-4f47-8f58-2167b34afef8",
   "metadata": {},
   "outputs": [
    {
     "data": {
      "text/html": [
       "<div>\n",
       "<style scoped>\n",
       "    .dataframe tbody tr th:only-of-type {\n",
       "        vertical-align: middle;\n",
       "    }\n",
       "\n",
       "    .dataframe tbody tr th {\n",
       "        vertical-align: top;\n",
       "    }\n",
       "\n",
       "    .dataframe thead th {\n",
       "        text-align: right;\n",
       "    }\n",
       "</style>\n",
       "<table border=\"1\" class=\"dataframe\">\n",
       "  <thead>\n",
       "    <tr style=\"text-align: right;\">\n",
       "      <th></th>\n",
       "      <th>mapping</th>\n",
       "      <th>count</th>\n",
       "    </tr>\n",
       "  </thead>\n",
       "  <tbody>\n",
       "    <tr>\n",
       "      <th>0</th>\n",
       "      <td>Ventricular septal defect (HP:0001629) (excluded)</td>\n",
       "      <td>11</td>\n",
       "    </tr>\n",
       "    <tr>\n",
       "      <th>1</th>\n",
       "      <td>Ventricular septal defect (HP:0001629) (observed)</td>\n",
       "      <td>3</td>\n",
       "    </tr>\n",
       "  </tbody>\n",
       "</table>\n",
       "</div>"
      ],
      "text/plain": [
       "                                             mapping count\n",
       "0  Ventricular septal defect (HP:0001629) (excluded)    11\n",
       "1  Ventricular septal defect (HP:0001629) (observed)     3"
      ]
     },
     "execution_count": 31,
     "metadata": {},
     "output_type": "execute_result"
    }
   ],
   "source": [
    "vsd_d = {'yes': 'Ventricular septal defect'}\n",
    "excluded = {'no': 'Ventricular septal defect',}\n",
    "vsdMapper = OptionColumnMapper(column_name=\"VSD\", concept_recognizer=hpo_cr, option_d=vsd_d, excluded_d=excluded)\n",
    "column_mapper_list.append(vsdMapper)\n",
    "vsdMapper.preview_column(dft)"
   ]
  },
  {
   "cell_type": "code",
   "execution_count": 32,
   "id": "cde28eec-772a-498b-807c-2c73e2a69f6a",
   "metadata": {},
   "outputs": [
    {
     "data": {
      "text/html": [
       "<div>\n",
       "<style scoped>\n",
       "    .dataframe tbody tr th:only-of-type {\n",
       "        vertical-align: middle;\n",
       "    }\n",
       "\n",
       "    .dataframe tbody tr th {\n",
       "        vertical-align: top;\n",
       "    }\n",
       "\n",
       "    .dataframe thead th {\n",
       "        text-align: right;\n",
       "    }\n",
       "</style>\n",
       "<table border=\"1\" class=\"dataframe\">\n",
       "  <thead>\n",
       "    <tr style=\"text-align: right;\">\n",
       "      <th></th>\n",
       "      <th>mapping</th>\n",
       "      <th>count</th>\n",
       "    </tr>\n",
       "  </thead>\n",
       "  <tbody>\n",
       "    <tr>\n",
       "      <th>0</th>\n",
       "      <td>Abnormal heart morphology (HP:0001627) (excluded)</td>\n",
       "      <td>10</td>\n",
       "    </tr>\n",
       "    <tr>\n",
       "      <th>1</th>\n",
       "      <td>Biventricular hypertrophy (HP:0200128) (observed)</td>\n",
       "      <td>1</td>\n",
       "    </tr>\n",
       "    <tr>\n",
       "      <th>2</th>\n",
       "      <td>Anomalous origin of right coronary artery from the pulmonary artery (HP:0011639) (observed)</td>\n",
       "      <td>1</td>\n",
       "    </tr>\n",
       "    <tr>\n",
       "      <th>3</th>\n",
       "      <td>Pulmonary artery stenosis (HP:0004415) (observed)</td>\n",
       "      <td>1</td>\n",
       "    </tr>\n",
       "    <tr>\n",
       "      <th>4</th>\n",
       "      <td>Bicuspid aortic valve (HP:0001647) (observed)</td>\n",
       "      <td>1</td>\n",
       "    </tr>\n",
       "    <tr>\n",
       "      <th>5</th>\n",
       "      <td>Aortic aneurysm (HP:0004942) (observed)</td>\n",
       "      <td>1</td>\n",
       "    </tr>\n",
       "    <tr>\n",
       "      <th>6</th>\n",
       "      <td>Pulmonary artery aneurysm (HP:0004937) (observed)</td>\n",
       "      <td>1</td>\n",
       "    </tr>\n",
       "    <tr>\n",
       "      <th>7</th>\n",
       "      <td>Partial atrioventricular canal defect (HP:0011577) (observed)</td>\n",
       "      <td>1</td>\n",
       "    </tr>\n",
       "    <tr>\n",
       "      <th>8</th>\n",
       "      <td>Cleft anterior mitral valve leaflet (HP:0011569) (observed)</td>\n",
       "      <td>1</td>\n",
       "    </tr>\n",
       "  </tbody>\n",
       "</table>\n",
       "</div>"
      ],
      "text/plain": [
       "                                                                                       mapping  \\\n",
       "0                                            Abnormal heart morphology (HP:0001627) (excluded)   \n",
       "1                                            Biventricular hypertrophy (HP:0200128) (observed)   \n",
       "2  Anomalous origin of right coronary artery from the pulmonary artery (HP:0011639) (observed)   \n",
       "3                                            Pulmonary artery stenosis (HP:0004415) (observed)   \n",
       "4                                                Bicuspid aortic valve (HP:0001647) (observed)   \n",
       "5                                                      Aortic aneurysm (HP:0004942) (observed)   \n",
       "6                                            Pulmonary artery aneurysm (HP:0004937) (observed)   \n",
       "7                                Partial atrioventricular canal defect (HP:0011577) (observed)   \n",
       "8                                  Cleft anterior mitral valve leaflet (HP:0011569) (observed)   \n",
       "\n",
       "  count  \n",
       "0    10  \n",
       "1     1  \n",
       "2     1  \n",
       "3     1  \n",
       "4     1  \n",
       "5     1  \n",
       "6     1  \n",
       "7     1  \n",
       "8     1  "
      ]
     },
     "execution_count": 32,
     "metadata": {},
     "output_type": "execute_result"
    }
   ],
   "source": [
    "other_structural_heart_d = {\n",
    " 'Biventricular hypertrophy': 'Biventricular hypertrophy',\n",
    " 'anomalous origin of right coronary artery': 'Anomalous origin of right coronary artery from the pulmonary artery',\n",
    " 'pulmonary artery stenosis': 'Pulmonary artery stenosis',\n",
    " 'yes (see text)': ['Bicuspid aortic valve', 'Aortic aneurysm', 'Pulmonary artery aneurysm', 'Partial atrioventricular canal defect', 'Cleft anterior mitral valve leaflet'] }\n",
    "excluded = {'no': 'Abnormal heart morphology',}\n",
    "other_structural_heartMapper = OptionColumnMapper(column_name=\"Other structural heart\", concept_recognizer=hpo_cr, option_d=other_structural_heart_d, excluded_d=excluded)\n",
    "column_mapper_list.append(other_structural_heartMapper)\n",
    "other_structural_heartMapper.preview_column(dft)"
   ]
  },
  {
   "cell_type": "code",
   "execution_count": 33,
   "id": "c9474eff-a8bd-4050-bd23-0dfbaa730e2b",
   "metadata": {},
   "outputs": [
    {
     "data": {
      "text/html": [
       "<div>\n",
       "<style scoped>\n",
       "    .dataframe tbody tr th:only-of-type {\n",
       "        vertical-align: middle;\n",
       "    }\n",
       "\n",
       "    .dataframe tbody tr th {\n",
       "        vertical-align: top;\n",
       "    }\n",
       "\n",
       "    .dataframe thead th {\n",
       "        text-align: right;\n",
       "    }\n",
       "</style>\n",
       "<table border=\"1\" class=\"dataframe\">\n",
       "  <thead>\n",
       "    <tr style=\"text-align: right;\">\n",
       "      <th></th>\n",
       "      <th>mapping</th>\n",
       "      <th>count</th>\n",
       "    </tr>\n",
       "  </thead>\n",
       "  <tbody>\n",
       "    <tr>\n",
       "      <th>0</th>\n",
       "      <td>Intrauterine growth retardation (HP:0001511) (excluded)</td>\n",
       "      <td>11</td>\n",
       "    </tr>\n",
       "    <tr>\n",
       "      <th>1</th>\n",
       "      <td>Intrauterine growth retardation (HP:0001511) (observed)</td>\n",
       "      <td>3</td>\n",
       "    </tr>\n",
       "  </tbody>\n",
       "</table>\n",
       "</div>"
      ],
      "text/plain": [
       "                                                   mapping count\n",
       "0  Intrauterine growth retardation (HP:0001511) (excluded)    11\n",
       "1  Intrauterine growth retardation (HP:0001511) (observed)     3"
      ]
     },
     "execution_count": 33,
     "metadata": {},
     "output_type": "execute_result"
    }
   ],
   "source": [
    "iugr_d = { 'yes': 'Intrauterine growth retardation'}\n",
    "excluded = {'no': 'Intrauterine growth retardation',}\n",
    "iugrMapper = OptionColumnMapper(column_name=\"IUGR\", concept_recognizer=hpo_cr, option_d=iugr_d, excluded_d=excluded)\n",
    "column_mapper_list.append(iugrMapper)\n",
    "iugrMapper.preview_column(dft)"
   ]
  },
  {
   "cell_type": "code",
   "execution_count": 34,
   "id": "2f30afe4-c4ac-46a4-8768-1a46af647153",
   "metadata": {},
   "outputs": [
    {
     "data": {
      "text/html": [
       "<div>\n",
       "<style scoped>\n",
       "    .dataframe tbody tr th:only-of-type {\n",
       "        vertical-align: middle;\n",
       "    }\n",
       "\n",
       "    .dataframe tbody tr th {\n",
       "        vertical-align: top;\n",
       "    }\n",
       "\n",
       "    .dataframe thead th {\n",
       "        text-align: right;\n",
       "    }\n",
       "</style>\n",
       "<table border=\"1\" class=\"dataframe\">\n",
       "  <thead>\n",
       "    <tr style=\"text-align: right;\">\n",
       "      <th></th>\n",
       "      <th>mapping</th>\n",
       "      <th>count</th>\n",
       "    </tr>\n",
       "  </thead>\n",
       "  <tbody>\n",
       "    <tr>\n",
       "      <th>0</th>\n",
       "      <td>Nevus (HP:0003764) (observed)</td>\n",
       "      <td>1</td>\n",
       "    </tr>\n",
       "    <tr>\n",
       "      <th>1</th>\n",
       "      <td>Clinodactyly of the 5th finger (HP:0004209) (observed)</td>\n",
       "      <td>1</td>\n",
       "    </tr>\n",
       "    <tr>\n",
       "      <th>2</th>\n",
       "      <td>Single transverse palmar crease (HP:0000954) (observed)</td>\n",
       "      <td>1</td>\n",
       "    </tr>\n",
       "    <tr>\n",
       "      <th>3</th>\n",
       "      <td>Hypoplastic toenails (HP:0001800) (observed)</td>\n",
       "      <td>1</td>\n",
       "    </tr>\n",
       "    <tr>\n",
       "      <th>4</th>\n",
       "      <td>Intellectual disability (HP:0001249) (excluded)</td>\n",
       "      <td>1</td>\n",
       "    </tr>\n",
       "    <tr>\n",
       "      <th>5</th>\n",
       "      <td>Bilateral cryptorchidism (HP:0008689) (observed)</td>\n",
       "      <td>1</td>\n",
       "    </tr>\n",
       "    <tr>\n",
       "      <th>6</th>\n",
       "      <td>Aspiration (HP:0002835) (observed)</td>\n",
       "      <td>1</td>\n",
       "    </tr>\n",
       "    <tr>\n",
       "      <th>7</th>\n",
       "      <td>Dysphagia (HP:0002015) (observed)</td>\n",
       "      <td>1</td>\n",
       "    </tr>\n",
       "    <tr>\n",
       "      <th>8</th>\n",
       "      <td>Hydronephrosis (HP:0000126) (observed)</td>\n",
       "      <td>1</td>\n",
       "    </tr>\n",
       "    <tr>\n",
       "      <th>9</th>\n",
       "      <td>Recurrent otitis media (HP:0000403) (observed)</td>\n",
       "      <td>1</td>\n",
       "    </tr>\n",
       "    <tr>\n",
       "      <th>10</th>\n",
       "      <td>Diaphragmatic eventration (HP:0009110) (observed)</td>\n",
       "      <td>1</td>\n",
       "    </tr>\n",
       "    <tr>\n",
       "      <th>11</th>\n",
       "      <td>Hearing impairment (HP:0000365) (observed)</td>\n",
       "      <td>2</td>\n",
       "    </tr>\n",
       "    <tr>\n",
       "      <th>12</th>\n",
       "      <td>Inguinal hernia (HP:0000023) (observed)</td>\n",
       "      <td>1</td>\n",
       "    </tr>\n",
       "    <tr>\n",
       "      <th>13</th>\n",
       "      <td>Cryptorchidism (HP:0000028) (observed)</td>\n",
       "      <td>1</td>\n",
       "    </tr>\n",
       "    <tr>\n",
       "      <th>14</th>\n",
       "      <td>Failure to thrive (HP:0001508) (observed)</td>\n",
       "      <td>1</td>\n",
       "    </tr>\n",
       "    <tr>\n",
       "      <th>15</th>\n",
       "      <td>Gastrostomy tube feeding in infancy (HP:0011471) (observed)</td>\n",
       "      <td>2</td>\n",
       "    </tr>\n",
       "    <tr>\n",
       "      <th>16</th>\n",
       "      <td>Scoliosis (HP:0002650) (observed)</td>\n",
       "      <td>1</td>\n",
       "    </tr>\n",
       "    <tr>\n",
       "      <th>17</th>\n",
       "      <td>Pterygium (HP:0001059) (observed)</td>\n",
       "      <td>1</td>\n",
       "    </tr>\n",
       "  </tbody>\n",
       "</table>\n",
       "</div>"
      ],
      "text/plain": [
       "                                                        mapping count\n",
       "0                                 Nevus (HP:0003764) (observed)     1\n",
       "1        Clinodactyly of the 5th finger (HP:0004209) (observed)     1\n",
       "2       Single transverse palmar crease (HP:0000954) (observed)     1\n",
       "3                  Hypoplastic toenails (HP:0001800) (observed)     1\n",
       "4               Intellectual disability (HP:0001249) (excluded)     1\n",
       "5              Bilateral cryptorchidism (HP:0008689) (observed)     1\n",
       "6                            Aspiration (HP:0002835) (observed)     1\n",
       "7                             Dysphagia (HP:0002015) (observed)     1\n",
       "8                        Hydronephrosis (HP:0000126) (observed)     1\n",
       "9                Recurrent otitis media (HP:0000403) (observed)     1\n",
       "10            Diaphragmatic eventration (HP:0009110) (observed)     1\n",
       "11                   Hearing impairment (HP:0000365) (observed)     2\n",
       "12                      Inguinal hernia (HP:0000023) (observed)     1\n",
       "13                       Cryptorchidism (HP:0000028) (observed)     1\n",
       "14                    Failure to thrive (HP:0001508) (observed)     1\n",
       "15  Gastrostomy tube feeding in infancy (HP:0011471) (observed)     2\n",
       "16                            Scoliosis (HP:0002650) (observed)     1\n",
       "17                            Pterygium (HP:0001059) (observed)     1"
      ]
     },
     "execution_count": 34,
     "metadata": {},
     "output_type": "execute_result"
    }
   ],
   "source": [
    "any_other_features_d = { #'nan': 'PLACEHOLDER',\n",
    " 'Large scalp congenital naevus. Persistently raised lactates. Muscle and liver biopsies consistent with combined respiratory chain enzyme defect affecting primarily  complexes I and IV in muscle and borderline IV in the liver.': ['Nevus', 'Increased circulating lactate concentration', 'Muscle abnormality related to mitochondrial dysfunction'],\n",
    " 'fifth finger clinodactyly, single palmar crease, mild toenail hypoplasia': ['Clinodactyly of the 5th finger', 'Single transverse palmar crease', 'Hypoplastic toenails'],\n",
    " 'bilateral cryptorchidism,dysphagia and aspiration requiring GJ dependence, OSA, right hydronephrosis': ['Bilateral cryptorchidism', 'Dysphagia', 'Aspiration', 'Gastrojejunal tube feeding in infancy', 'Obstructive sleep apnea', 'Hydronephrosis'], \n",
    " 'recurrent otitis media': 'Recurrent otitis media',\n",
    " 'L diaphragmatic eventration. L partial hearing loss': ['Diaphragmatic eventration', 'Hearing impairment'],\n",
    " 'R inguinal hernia': 'Inguinal hernia',\n",
    " 'L cryptorchidism': 'Cryptorchidism',\n",
    " 'FTT requiring G tube placemenet': ['Failure to thrive', 'Gastrostomy tube feeding in infancy'],\n",
    " 'G-tube for feeding.': 'Gastrostomy tube feeding in infancy',\n",
    " 'G-tube': 'Gastrostomy tube feeding in infancy',\n",
    " 'Scoliosis': 'Scoliosis',\n",
    " 'Eye skin growth': 'Pterygium', \n",
    "'hearing loss (b/l)': 'Hearing impairment'}\n",
    "excluded = {'no intellectual disability': 'Intellectual disability'}\n",
    "any_other_featuresMapper = OptionColumnMapper(column_name=\"Any other features\", concept_recognizer=hpo_cr, option_d=any_other_features_d, excluded_d=excluded)\n",
    "column_mapper_list.append(any_other_featuresMapper)\n",
    "any_other_featuresMapper.preview_column(dft)"
   ]
  },
  {
   "cell_type": "code",
   "execution_count": 35,
   "id": "58ebe63b-f700-4ffc-ae4f-179100012bde",
   "metadata": {},
   "outputs": [],
   "source": [
    "def correct_hgvs(hgvs):\n",
    "    if hgvs == \"c.3649delC\":\n",
    "        return \"c.3649del\"\n",
    "    elif hgvs == \"c.3988_3990delGAG\":\n",
    "        return \"c.3988_3990del\"\n",
    "    else:\n",
    "        return hgvs\n",
    "\n",
    "dft[\"allele_1\"] = dft['NM_015425.6'].apply(lambda x: correct_hgvs(x))"
   ]
  },
  {
   "cell_type": "code",
   "execution_count": 36,
   "id": "a0474e49-b597-4b60-b541-d559ee6e9a6f",
   "metadata": {},
   "outputs": [],
   "source": [
    "POLR1C_transcript = \"NM_015425.6\"\n",
    "vman = VariantManager(df=dft, \n",
    "                      individual_column_name=\"person_id\", \n",
    "                      gene_symbol=\"POLR1C\",\n",
    "                      allele_1_column_name=\"allele_1\", \n",
    "                      transcript=POLR1C_transcript)"
   ]
  },
  {
   "cell_type": "code",
   "execution_count": 37,
   "id": "b3e5aa96-2a05-4d93-8463-80a47017e7b5",
   "metadata": {},
   "outputs": [],
   "source": [
    "sexMapper = SexColumnMapper(column_name='Sex',male_symbol=\"male\", female_symbol=\"female\")\n",
    "#sexMapper.preview_column(dft)\n",
    "onsetMapper = AgeColumnMapper.hpo_onset(column_name='Onset')\n",
    "#onsetMapper.preview_column(dft)\n",
    "encounterMapper = AgeColumnMapper.iso8601(column_name='Age (at most recent assessment)')\n",
    "#encounterMapper.preview_column(dft)"
   ]
  },
  {
   "cell_type": "code",
   "execution_count": 38,
   "id": "6b25d772-879b-4ffe-bab8-7cfd76d488cf",
   "metadata": {},
   "outputs": [],
   "source": [
    "AFDCIN = Disease(disease_id=\"OMIM:616462\", disease_label=\"Acrofacial dysostosis, Cincinnati type\")\n",
    "varMapper = VariantColumnMapper(variant_d=vman.get_variant_d(),\n",
    "                                variant_column_name=\"allele_1\", \n",
    "                                default_genotype=\"heterozygous\")"
   ]
  },
  {
   "cell_type": "code",
   "execution_count": 39,
   "id": "016e89bb-b5fc-4f22-a412-c432f6fcb7bf",
   "metadata": {},
   "outputs": [],
   "source": [
    "encoder = CohortEncoder(df=dft, \n",
    "                        hpo_cr=hpo_cr, \n",
    "                        column_mapper_list=column_mapper_list, \n",
    "                        individual_column_name=\"person_id\", \n",
    "                        age_of_onset_mapper=onsetMapper, \n",
    "                        age_at_last_encounter_mapper=encounterMapper,\n",
    "                        sexmapper=sexMapper,\n",
    "                        variant_mapper=varMapper,\n",
    "                        metadata=metadata)\n",
    "encoder.set_disease(AFDCIN)"
   ]
  },
  {
   "cell_type": "code",
   "execution_count": 40,
   "id": "175fa419-1eed-4cae-b94c-0749344b6893",
   "metadata": {},
   "outputs": [
    {
     "name": "stdout",
     "output_type": "stream",
     "text": [
      "Could not parse the following as ISO8601 ages: na (n=1)\n",
      "Could not parse the following as ISO8601 ages: adult (n=1)\n"
     ]
    }
   ],
   "source": [
    "individuals = encoder.get_individuals()"
   ]
  },
  {
   "cell_type": "code",
   "execution_count": 41,
   "id": "e2075191-5e6b-4bc7-9100-52bf8f73d497",
   "metadata": {},
   "outputs": [
    {
     "data": {
      "text/html": [
       "<h2>Cohort validation</h2>\n",
       "<p>Errors found with 18 of 18 phenopackets.</p>\n",
       "<table style=\"border: 2px solid black; align: \"left\">\n",
       "<caption>Error counts</caption>\n",
       "<tr><th style=\"text-align: left;font-weight: bold;\">Level</th><th style=\"text-align: left;font-weight: bold;\">Error category</th><th style=\"text-align: left;font-weight: bold;\">Count</th></tr>\n",
       "<tr><td style=\"text-align: left;\">ERROR</td><td style=\"text-align: left;\">CONFLICT</td><td style=\"text-align: left;\">2</td></tr>\n",
       "<tr><td style=\"text-align: left;\">WARNING</td><td style=\"text-align: left;\">REDUNDANT</td><td style=\"text-align: left;\">65</td></tr>\n",
       "<tr><td style=\"text-align: left;\">INFORMATION</td><td style=\"text-align: left;\">NOT_MEASURED</td><td style=\"text-align: left;\">43</td></tr>\n",
       "</table>\n",
       "<p>A total of 310 issues were fixed and no individual was removed from the cohort.</p>"
      ],
      "text/plain": [
       "<IPython.core.display.HTML object>"
      ]
     },
     "metadata": {},
     "output_type": "display_data"
    }
   ],
   "source": [
    "cvalidator = CohortValidator(cohort=individuals, ontology=hpo_ontology, min_hpo=1, allelic_requirement=AllelicRequirement.MONO_ALLELIC)\n",
    "qc = QcVisualizer(cohort_validator=cvalidator)\n",
    "display(HTML(qc.to_summary_html()))"
   ]
  },
  {
   "cell_type": "code",
   "execution_count": 42,
   "id": "7309bb65-6abe-4237-bd83-701fb4bc5e9b",
   "metadata": {},
   "outputs": [
    {
     "data": {
      "text/html": [
       "<table style=\"border: 2px solid black; align: \"left\">\n",
       "<caption>18 phenopackets - PMID:37075751 (n=18)</caption>\n",
       "<tr><th style=\"text-align: left;font-weight: bold;\">Individual</th><th style=\"text-align: left;font-weight: bold;\">Disease</th><th style=\"text-align: left;font-weight: bold;\">Genotype</th><th style=\"text-align: left;font-weight: bold;\">Phenotypic features</th></tr>\n",
       "<tr><td style=\"text-align: left;\">Individual 1 (MALE; P3M)</td><td style=\"text-align: left;\">Acrofacial dysostosis, Cincinnati type (OMIM:616462)</td><td style=\"text-align: left;\">NM_203290.4:c.176A>T (heterozygous)</td><td style=\"text-align: left;\">Cleft palate (HP:0000175); Metopic synostosis (HP:0011330); Cleft lip (HP:0410030); excluded: Abnormality of limbs (HP:0040064); excluded: Patent foramen ovale (HP:0001655); excluded: Microtia (HP:0008551); excluded: Low-set ears (HP:0000369); excluded: Hypotonia (HP:0001252); excluded: Hypertelorism (HP:0000316); excluded: Ptosis (HP:0000508); excluded: Ventricular septal defect (HP:0001629); excluded: Brain imaging abnormality (HP:0410263); excluded: Micrognathia (HP:0000347); excluded: Intrauterine growth retardation (HP:0001511); excluded: Joint contracture (HP:0034392); excluded: Global developmental delay (HP:0001263); excluded: Developmental regression (HP:0002376); excluded: Facial asymmetry (HP:0000324); excluded: Abnormality of coordination (HP:0011443); excluded: Infantile spasms (HP:0012469)</td></tr>\n",
       "<tr><td style=\"text-align: left;\">Individual 2 (MALE; P5Y)</td><td style=\"text-align: left;\">Acrofacial dysostosis, Cincinnati type (OMIM:616462)</td><td style=\"text-align: left;\">NM_203290.4:c.176A>T (heterozygous)</td><td style=\"text-align: left;\">Cleft palate (HP:0000175); Metopic synostosis (HP:0011330); Cleft lip (HP:0410030); excluded: Abnormality of limbs (HP:0040064); excluded: Patent foramen ovale (HP:0001655); excluded: Microtia (HP:0008551); excluded: Low-set ears (HP:0000369); excluded: Hypotonia (HP:0001252); excluded: Hypertelorism (HP:0000316); excluded: Ptosis (HP:0000508); excluded: Ventricular septal defect (HP:0001629); excluded: Brain imaging abnormality (HP:0410263); excluded: Micrognathia (HP:0000347); excluded: Intrauterine growth retardation (HP:0001511); excluded: Joint contracture (HP:0034392); excluded: Global developmental delay (HP:0001263); excluded: Developmental regression (HP:0002376); excluded: Facial asymmetry (HP:0000324); excluded: Abnormality of coordination (HP:0011443); excluded: Infantile spasms (HP:0012469)</td></tr>\n",
       "<tr><td style=\"text-align: left;\">Individual 3 (FEMALE; P1M26D)</td><td style=\"text-align: left;\">Acrofacial dysostosis, Cincinnati type (OMIM:616462)</td><td style=\"text-align: left;\">NM_015425.6:c.190del (heterozygous)</td><td style=\"text-align: left;\">Global developmental delay (HP:0001263); Hearing impairment (HP:0000365); Biventricular hypertrophy (HP:0200128); Nevus (HP:0003764); Microcephaly (HP:0000252); Hypotonia (HP:0001252); excluded: Abnormality of limbs (HP:0040064); excluded: Patent foramen ovale (HP:0001655); excluded: Microtia (HP:0008551); excluded: Low-set ears (HP:0000369); excluded: Macrocephaly (HP:0000256); excluded: Craniosynostosis (HP:0001363); excluded: Cleft lip (HP:0410030); excluded: Hypertelorism (HP:0000316); excluded: Ptosis (HP:0000508); excluded: Ventricular septal defect (HP:0001629); excluded: Micrognathia (HP:0000347); excluded: Intrauterine growth retardation (HP:0001511); excluded: Cleft palate (HP:0000175); excluded: Joint contracture (HP:0034392); excluded: Metopic synostosis (HP:0011330); excluded: Developmental regression (HP:0002376); excluded: Ventriculomegaly (HP:0002119); excluded: Facial asymmetry (HP:0000324); excluded: Abnormality of coordination (HP:0011443); excluded: Infantile spasms (HP:0012469)</td></tr>\n",
       "<tr><td style=\"text-align: left;\">Individual 4 (MALE; P11M)</td><td style=\"text-align: left;\">Acrofacial dysostosis, Cincinnati type (OMIM:616462)</td><td style=\"text-align: left;\">NM_015425.6:c.1178G>A (heterozygous)</td><td style=\"text-align: left;\">Single transverse palmar crease (HP:0000954); Low-set ears (HP:0000369); Long palpebral fissure (HP:0000637); Anomalous origin of right coronary artery from the pulmonary artery (HP:0011639); Vocal cord paralysis (HP:0001605); Hypoplastic toenails (HP:0001800); Clinodactyly of the 5th finger (HP:0004209); Short nose (HP:0003196); Hypotonia (HP:0001252); excluded: Patent foramen ovale (HP:0001655); excluded: Microtia (HP:0008551); excluded: Microcephaly (HP:0000252); excluded: Macrocephaly (HP:0000256); excluded: Craniosynostosis (HP:0001363); excluded: Cleft lip (HP:0410030); excluded: Hypertelorism (HP:0000316); excluded: Ptosis (HP:0000508); excluded: Ventricular septal defect (HP:0001629); excluded: Brain imaging abnormality (HP:0410263); excluded: Micrognathia (HP:0000347); excluded: Intrauterine growth retardation (HP:0001511); excluded: Cleft palate (HP:0000175); excluded: Joint contracture (HP:0034392); excluded: Metopic synostosis (HP:0011330); excluded: Facial asymmetry (HP:0000324); excluded: Abnormality of coordination (HP:0011443); excluded: Infantile spasms (HP:0012469)</td></tr>\n",
       "<tr><td style=\"text-align: left;\">Individual 5 (FEMALE; n/a)</td><td style=\"text-align: left;\">Acrofacial dysostosis, Cincinnati type (OMIM:616462)</td><td style=\"text-align: left;\">NM_015425.6:c.1178G>A (heterozygous)</td><td style=\"text-align: left;\">Ptosis (HP:0000508); Ventricular septal defect (HP:0001629); Vocal cord paralysis (HP:0001605); Hypotonia (HP:0001252); excluded: Craniosynostosis (HP:0001363); excluded: Cleft lip (HP:0410030); excluded: Micrognathia (HP:0000347); excluded: Hypertelorism (HP:0000316); excluded: Abnormality of limbs (HP:0040064); excluded: Metopic synostosis (HP:0011330); excluded: Joint contracture (HP:0034392); excluded: Patent foramen ovale (HP:0001655); excluded: Facial asymmetry (HP:0000324); excluded: Microtia (HP:0008551); excluded: Low-set ears (HP:0000369); excluded: Brain imaging abnormality (HP:0410263); excluded: Cleft palate (HP:0000175); excluded: Infantile spasms (HP:0012469)</td></tr>\n",
       "<tr><td style=\"text-align: left;\">Individual 6 (FEMALE; P10Y4M)</td><td style=\"text-align: left;\">Acrofacial dysostosis, Cincinnati type (OMIM:616462)</td><td style=\"text-align: left;\">NM_015425.6:c.1442G>A (heterozygous)</td><td style=\"text-align: left;\">Hypodontia (HP:0000668); Hydrocephalus (HP:0000238); Hypertelorism (HP:0000316); Cleft palate (HP:0000175); Low-set ears (HP:0000369); Facial asymmetry (HP:0000324); Ventriculomegaly (HP:0002119); Bilateral choanal atresia (HP:0004502); Micrognathia (HP:0000347); Syringomyelia (HP:0003396); Intrauterine growth retardation (HP:0001511); excluded: Abnormality of limbs (HP:0040064); excluded: Patent foramen ovale (HP:0001655); excluded: Microtia (HP:0008551); excluded: Microcephaly (HP:0000252); excluded: Macrocephaly (HP:0000256); excluded: Craniosynostosis (HP:0001363); excluded: Hypotonia (HP:0001252); excluded: Cleft lip (HP:0410030); excluded: Ptosis (HP:0000508); excluded: Ventricular septal defect (HP:0001629); excluded: Joint contracture (HP:0034392); excluded: Global developmental delay (HP:0001263); excluded: Intellectual disability (HP:0001249); excluded: Metopic synostosis (HP:0011330); excluded: Developmental regression (HP:0002376); excluded: Abnormality of coordination (HP:0011443); excluded: Infantile spasms (HP:0012469)</td></tr>\n",
       "<tr><td style=\"text-align: left;\">Individual 7 (FEMALE; P44Y)</td><td style=\"text-align: left;\">Acrofacial dysostosis, Cincinnati type (OMIM:616462)</td><td style=\"text-align: left;\">NM_015425.6:c.1442G>A (heterozygous)</td><td style=\"text-align: left;\">Cleft palate (HP:0000175); Micrognathia (HP:0000347); Low-set ears (HP:0000369); Hypertelorism (HP:0000316); excluded: Abnormality of limbs (HP:0040064); excluded: Patent foramen ovale (HP:0001655); excluded: Microtia (HP:0008551); excluded: Microcephaly (HP:0000252); excluded: Macrocephaly (HP:0000256); excluded: Craniosynostosis (HP:0001363); excluded: Hypotonia (HP:0001252); excluded: Cleft lip (HP:0410030); excluded: Ptosis (HP:0000508); excluded: Ventricular septal defect (HP:0001629); excluded: Brain imaging abnormality (HP:0410263); excluded: Joint contracture (HP:0034392); excluded: Global developmental delay (HP:0001263); excluded: Metopic synostosis (HP:0011330); excluded: Hypodontia (HP:0000668); excluded: Developmental regression (HP:0002376); excluded: Ventriculomegaly (HP:0002119); excluded: Facial asymmetry (HP:0000324); excluded: Abnormality of coordination (HP:0011443); excluded: Infantile spasms (HP:0012469)</td></tr>\n",
       "<tr><td style=\"text-align: left;\">Individual 8 (MALE; P2Y)</td><td style=\"text-align: left;\">Acrofacial dysostosis, Cincinnati type (OMIM:616462)</td><td style=\"text-align: left;\">NM_015425.6:c.1488G>T (heterozygous)</td><td style=\"text-align: left;\">Calvarial skull defect (HP:0001362); Global developmental delay (HP:0001263); Microtia (HP:0008551); Seizure (HP:0001250); Patent foramen ovale (HP:0001655); Hypertelorism (HP:0000316); Hydronephrosis (HP:0000126); Dysphagia (HP:0002015); Low-set ears (HP:0000369); Abnormality of limbs (HP:0040064); Upper eyelid coloboma (HP:0000636); Micrognathia (HP:0000347); Bilateral cryptorchidism (HP:0008689); Microcephaly (HP:0000252); Aspiration (HP:0002835); Hypotonia (HP:0001252); excluded: Craniosynostosis (HP:0001363); excluded: Cleft lip (HP:0410030); excluded: Metopic synostosis (HP:0011330); excluded: Intrauterine growth retardation (HP:0001511); excluded: Ptosis (HP:0000508); excluded: Joint contracture (HP:0034392); excluded: Ventricular septal defect (HP:0001629); excluded: Developmental regression (HP:0002376); excluded: Ventriculomegaly (HP:0002119); excluded: Facial asymmetry (HP:0000324); excluded: Macrocephaly (HP:0000256); excluded: Cleft palate (HP:0000175); excluded: Abnormality of coordination (HP:0011443); excluded: Infantile spasms (HP:0012469)</td></tr>\n",
       "<tr><td style=\"text-align: left;\">Individual 9 (MALE; P4Y)</td><td style=\"text-align: left;\">Acrofacial dysostosis, Cincinnati type (OMIM:616462)</td><td style=\"text-align: left;\">NM_015425.6:c.2583_2586del (heterozygous)</td><td style=\"text-align: left;\">Broad forehead (HP:0000337); Microtia (HP:0008551); Hypertelorism (HP:0000316); Deeply set eye (HP:0000490); Developmental regression (HP:0002376); Abnormality of coordination (HP:0011443); Dandy-Walker malformation (HP:0001305); Myoclonus (HP:0001336); Epileptic encephalopathy (HP:0200134); Atonic seizure (HP:0010819); Thick eyebrow (HP:0000574); excluded: Craniosynostosis (HP:0001363); excluded: Hypotonia (HP:0001252); excluded: Cleft lip (HP:0410030); excluded: Micrognathia (HP:0000347); excluded: Low-set ears (HP:0000369); excluded: Abnormality of limbs (HP:0040064); excluded: Metopic synostosis (HP:0011330); excluded: Intrauterine growth retardation (HP:0001511); excluded: Hypodontia (HP:0000668); excluded: Ptosis (HP:0000508); excluded: Joint contracture (HP:0034392); excluded: Facial asymmetry (HP:0000324); excluded: Microcephaly (HP:0000252); excluded: Macrocephaly (HP:0000256); excluded: Cleft palate (HP:0000175); excluded: Infantile spasms (HP:0012469)</td></tr>\n",
       "<tr><td style=\"text-align: left;\">Individual 10 (FEMALE; P7Y7M)</td><td style=\"text-align: left;\">Acrofacial dysostosis, Cincinnati type (OMIM:616462)</td><td style=\"text-align: left;\">NM_015425.6:c.3649del (heterozygous)</td><td style=\"text-align: left;\">Hypodontia (HP:0000668); Duane anomaly (HP:0009921); Ptosis (HP:0000508); Recurrent otitis media (HP:0000403); Hypertelorism (HP:0000316); Cleft palate (HP:0000175); Abnormality of limbs (HP:0040064); Micrognathia (HP:0000347); excluded: Patent foramen ovale (HP:0001655); excluded: Microtia (HP:0008551); excluded: Low-set ears (HP:0000369); excluded: Microcephaly (HP:0000252); excluded: Macrocephaly (HP:0000256); excluded: Craniosynostosis (HP:0001363); excluded: Hypotonia (HP:0001252); excluded: Cleft lip (HP:0410030); excluded: Ventricular septal defect (HP:0001629); excluded: Intrauterine growth retardation (HP:0001511); excluded: Joint contracture (HP:0034392); excluded: Global developmental delay (HP:0001263); excluded: Metopic synostosis (HP:0011330); excluded: Developmental regression (HP:0002376); excluded: Ventriculomegaly (HP:0002119); excluded: Facial asymmetry (HP:0000324); excluded: Abnormality of coordination (HP:0011443); excluded: Infantile spasms (HP:0012469)</td></tr>\n",
       "<tr><td style=\"text-align: left;\">Individual 11 (MALE; P11Y)</td><td style=\"text-align: left;\">Acrofacial dysostosis, Cincinnati type (OMIM:616462)</td><td style=\"text-align: left;\">NM_015425.6:c.3721G>A (heterozygous)</td><td style=\"text-align: left;\">Motor delay (HP:0001270); Hypertelorism (HP:0000316); Laryngeal dystonia (HP:0012049); Lower limb spasticity (HP:0002061); Mild global developmental delay (HP:0011342); Hypotonia (HP:0001252); excluded: Abnormality of limbs (HP:0040064); excluded: Microtia (HP:0008551); excluded: Low-set ears (HP:0000369); excluded: Microcephaly (HP:0000252); excluded: Macrocephaly (HP:0000256); excluded: Craniosynostosis (HP:0001363); excluded: Cleft lip (HP:0410030); excluded: Ptosis (HP:0000508); excluded: Micrognathia (HP:0000347); excluded: Intrauterine growth retardation (HP:0001511); excluded: Cleft palate (HP:0000175); excluded: Joint contracture (HP:0034392); excluded: Metopic synostosis (HP:0011330); excluded: Hypodontia (HP:0000668); excluded: Developmental regression (HP:0002376); excluded: Ventriculomegaly (HP:0002119); excluded: Facial asymmetry (HP:0000324); excluded: Infantile spasms (HP:0012469)</td></tr>\n",
       "<tr><td style=\"text-align: left;\">Individual 12 (MALE; P4Y3M)</td><td style=\"text-align: left;\">Acrofacial dysostosis, Cincinnati type (OMIM:616462)</td><td style=\"text-align: left;\">NM_015425.6:c.3850C>T (heterozygous)</td><td style=\"text-align: left;\">Pulmonary artery stenosis (HP:0004415); Microtia (HP:0008551); Ptosis (HP:0000508); Ventricular septal defect (HP:0001629); Deeply set eye (HP:0000490); Abnormality of limbs (HP:0040064); Diaphragmatic eventration (HP:0009110); Facial asymmetry (HP:0000324); Mild hearing impairment (HP:0012712); Microcephaly (HP:0000252); Intrauterine growth retardation (HP:0001511); excluded: Patent foramen ovale (HP:0001655); excluded: Low-set ears (HP:0000369); excluded: Macrocephaly (HP:0000256); excluded: Craniosynostosis (HP:0001363); excluded: Hypotonia (HP:0001252); excluded: Cleft lip (HP:0410030); excluded: Hypertelorism (HP:0000316); excluded: Brain imaging abnormality (HP:0410263); excluded: Micrognathia (HP:0000347); excluded: Cleft palate (HP:0000175); excluded: Joint contracture (HP:0034392); excluded: Global developmental delay (HP:0001263); excluded: Metopic synostosis (HP:0011330); excluded: Hypodontia (HP:0000668); excluded: Developmental regression (HP:0002376); excluded: Abnormality of coordination (HP:0011443); excluded: Infantile spasms (HP:0012469)</td></tr>\n",
       "<tr><td style=\"text-align: left;\">Individual 13 (MALE; P24Y)</td><td style=\"text-align: left;\">Acrofacial dysostosis, Cincinnati type (OMIM:616462)</td><td style=\"text-align: left;\">NM_015425.6:c.3988_3990del (heterozygous)</td><td style=\"text-align: left;\">Global developmental delay (HP:0001263); Ptosis (HP:0000508); Seizure (HP:0001250); Low-set ears (HP:0000369); Brain imaging abnormality (HP:0410263); Abnormality of limbs (HP:0040064); Hypotonia (HP:0001252); excluded: Craniosynostosis (HP:0001363); excluded: Cleft lip (HP:0410030); excluded: Micrognathia (HP:0000347); excluded: Hypertelorism (HP:0000316); excluded: Metopic synostosis (HP:0011330); excluded: Hypodontia (HP:0000668); excluded: Developmental regression (HP:0002376); excluded: Ventriculomegaly (HP:0002119); excluded: Facial asymmetry (HP:0000324); excluded: Microtia (HP:0008551); excluded: Cleft palate (HP:0000175); excluded: Abnormality of coordination (HP:0011443); excluded: Infantile spasms (HP:0012469)</td></tr>\n",
       "<tr><td style=\"text-align: left;\">Individual 14 (MALE; P6M)</td><td style=\"text-align: left;\">Acrofacial dysostosis, Cincinnati type (OMIM:616462)</td><td style=\"text-align: left;\">NM_015425.6:c.3988_3990del (heterozygous)</td><td style=\"text-align: left;\">Global developmental delay (HP:0001263); Upslanted palpebral fissure (HP:0000582); Seizure (HP:0001250); Failure to thrive (HP:0001508); Hypertelorism (HP:0000316); Low-set ears (HP:0000369); Depressed nasal bridge (HP:0005280); Brain imaging abnormality (HP:0410263); Cavum septum pellucidum (HP:0002389); Anteverted nares (HP:0000463); Inguinal hernia (HP:0000023); Micrognathia (HP:0000347); Cryptorchidism (HP:0000028); Metopic synostosis (HP:0011330); Epicanthus (HP:0000286); Hypotonia (HP:0001252); excluded: Cleft lip (HP:0410030); excluded: Abnormality of limbs (HP:0040064); excluded: Intrauterine growth retardation (HP:0001511); excluded: Ptosis (HP:0000508); excluded: Joint contracture (HP:0034392); excluded: Ventricular septal defect (HP:0001629); excluded: Developmental regression (HP:0002376); excluded: Patent foramen ovale (HP:0001655); excluded: Ventriculomegaly (HP:0002119); excluded: Facial asymmetry (HP:0000324); excluded: Microtia (HP:0008551); excluded: Microcephaly (HP:0000252); excluded: Macrocephaly (HP:0000256); excluded: Cleft palate (HP:0000175); excluded: Abnormality of coordination (HP:0011443); excluded: Infantile spasms (HP:0012469)</td></tr>\n",
       "<tr><td style=\"text-align: left;\">Individual 15 (MALE; P6Y)</td><td style=\"text-align: left;\">Acrofacial dysostosis, Cincinnati type (OMIM:616462)</td><td style=\"text-align: left;\">NM_015425.6:c.4685G>T (heterozygous)</td><td style=\"text-align: left;\">Global developmental delay (HP:0001263); Patent foramen ovale (HP:0001655); Infantile spasms (HP:0012469); Hypertelorism (HP:0000316); Median pseudocleft lip (HP:0034185); Abnormality of limbs (HP:0040064); Brain imaging abnormality (HP:0410263); Microcephaly (HP:0000252); Joint contracture (HP:0034392); Hypotonia (HP:0001252); excluded: Craniosynostosis (HP:0001363); excluded: Micrognathia (HP:0000347); excluded: Metopic synostosis (HP:0011330); excluded: Intrauterine growth retardation (HP:0001511); excluded: Ptosis (HP:0000508); excluded: Ventricular septal defect (HP:0001629); excluded: Developmental regression (HP:0002376); excluded: Ventriculomegaly (HP:0002119); excluded: Facial asymmetry (HP:0000324); excluded: Microtia (HP:0008551); excluded: Low-set ears (HP:0000369); excluded: Macrocephaly (HP:0000256); excluded: Cleft palate (HP:0000175); excluded: Abnormality of coordination (HP:0011443)</td></tr>\n",
       "<tr><td style=\"text-align: left;\">Individual 16 (MALE; P3Y)</td><td style=\"text-align: left;\">Acrofacial dysostosis, Cincinnati type (OMIM:616462)</td><td style=\"text-align: left;\">NM_015425.6:c.4685G>T (heterozygous)</td><td style=\"text-align: left;\">Global developmental delay (HP:0001263); Seizure (HP:0001250); Hypertelorism (HP:0000316); Brain imaging abnormality (HP:0410263); Microcephaly (HP:0000252); Gastrostomy tube feeding in infancy (HP:0011471); Hypotonia (HP:0001252); excluded: Craniosynostosis (HP:0001363); excluded: Cleft lip (HP:0410030); excluded: Micrognathia (HP:0000347); excluded: Abnormality of limbs (HP:0040064); excluded: Metopic synostosis (HP:0011330); excluded: Intrauterine growth retardation (HP:0001511); excluded: Ptosis (HP:0000508); excluded: Joint contracture (HP:0034392); excluded: Developmental regression (HP:0002376); excluded: Ventriculomegaly (HP:0002119); excluded: Facial asymmetry (HP:0000324); excluded: Microtia (HP:0008551); excluded: Low-set ears (HP:0000369); excluded: Macrocephaly (HP:0000256); excluded: Cleft palate (HP:0000175); excluded: Abnormality of coordination (HP:0011443); excluded: Infantile spasms (HP:0012469)</td></tr>\n",
       "<tr><td style=\"text-align: left;\">Individual 17 (FEMALE; P7Y)</td><td style=\"text-align: left;\">Acrofacial dysostosis, Cincinnati type (OMIM:616462)</td><td style=\"text-align: left;\">NM_015425.6:c.4891G>A (heterozygous)</td><td style=\"text-align: left;\">High palate (HP:0000218); Global developmental delay (HP:0001263); Microtia (HP:0008551); Seizure (HP:0001250); Aqueductal stenosis (HP:0002410); Patent foramen ovale (HP:0001655); Pterygium (HP:0001059); Hearing impairment (HP:0000365); Brain imaging abnormality (HP:0410263); Facial asymmetry (HP:0000324); Micrognathia (HP:0000347); Tracheobronchomalacia (HP:0002786); Gastrostomy tube feeding in infancy (HP:0011471); Scoliosis (HP:0002650); Intrauterine growth retardation (HP:0001511); excluded: Craniosynostosis (HP:0001363); excluded: Cleft lip (HP:0410030); excluded: Abnormality of limbs (HP:0040064); excluded: Metopic synostosis (HP:0011330); excluded: Ptosis (HP:0000508); excluded: Ventricular septal defect (HP:0001629); excluded: Developmental regression (HP:0002376); excluded: Microcephaly (HP:0000252); excluded: Macrocephaly (HP:0000256); excluded: Abnormality of coordination (HP:0011443); excluded: Infantile spasms (HP:0012469)</td></tr>\n",
       "<tr><td style=\"text-align: left;\">Individual 18 (FEMALE; P11Y)</td><td style=\"text-align: left;\">Acrofacial dysostosis, Cincinnati type (OMIM:616462)</td><td style=\"text-align: left;\">NM_015425.6:c.4913C>T (heterozygous)</td><td style=\"text-align: left;\">Global developmental delay (HP:0001263); Ptosis (HP:0000508); Patent foramen ovale (HP:0001655); Ventricular septal defect (HP:0001629); Bicuspid aortic valve (HP:0001647); Cleft anterior mitral valve leaflet (HP:0011569); Abnormality of limbs (HP:0040064); Laryngomalacia (HP:0001601); Pulmonary artery aneurysm (HP:0004937); Micrognathia (HP:0000347); Aortic aneurysm (HP:0004942); Joint contracture (HP:0034392); Partial atrioventricular canal defect (HP:0011577); Hypotonia (HP:0001252); excluded: Craniosynostosis (HP:0001363); excluded: Cleft lip (HP:0410030); excluded: Metopic synostosis (HP:0011330); excluded: Developmental regression (HP:0002376); excluded: Facial asymmetry (HP:0000324); excluded: Microtia (HP:0008551); excluded: Low-set ears (HP:0000369); excluded: Brain imaging abnormality (HP:0410263); excluded: Cleft palate (HP:0000175); excluded: Abnormality of coordination (HP:0011443); excluded: Infantile spasms (HP:0012469)</td></tr>\n",
       "</table>"
      ],
      "text/plain": [
       "<IPython.core.display.HTML object>"
      ]
     },
     "metadata": {},
     "output_type": "display_data"
    }
   ],
   "source": [
    "individuals = cvalidator.get_error_free_individual_list()\n",
    "table = PhenopacketTable(individual_list=individuals, metadata=metadata)\n",
    "display(HTML(table.to_html()))"
   ]
  },
  {
   "cell_type": "code",
   "execution_count": 43,
   "id": "db4424ba-a717-4363-bebd-1cefec7dfab2",
   "metadata": {},
   "outputs": [
    {
     "name": "stdout",
     "output_type": "stream",
     "text": [
      "We output 18 GA4GH phenopackets to the directory phenopackets\n"
     ]
    }
   ],
   "source": [
    "Individual.output_individuals_as_phenopackets(individual_list=individuals,\n",
    "                                              metadata=metadata)"
   ]
  },
  {
   "cell_type": "code",
   "execution_count": 44,
   "id": "b6ddb633-c59d-46d3-a897-83077b29c440",
   "metadata": {},
   "outputs": [
    {
     "name": "stdout",
     "output_type": "stream",
     "text": [
      "[pyphetools] Ingested 18 GA4GH phenopackets.\n"
     ]
    }
   ],
   "source": [
    "ingestor = PhenopacketIngestor(indir=\"phenopackets\")\n",
    "ppkt_d = ingestor.get_phenopacket_dictionary()\n",
    "ppkt_list = list(ppkt_d.values())"
   ]
  },
  {
   "cell_type": "code",
   "execution_count": 45,
   "id": "c43871aa-6bcb-426a-b60e-1caf9fc3edc5",
   "metadata": {},
   "outputs": [],
   "source": [
    "builder = HpoaTableBuilder(phenopacket_list=ppkt_list)"
   ]
  },
  {
   "cell_type": "code",
   "execution_count": 46,
   "id": "fad8be12-e00a-409a-b8cf-2bfee602e70f",
   "metadata": {},
   "outputs": [
    {
     "name": "stdout",
     "output_type": "stream",
     "text": [
      "We found a total of 83 unique HPO terms\n",
      "Extracted disease: Acrofacial dysostosis, Cincinnati type (OMIM:616462)\n",
      "Wrote HPOA disease file to OMIM-616462.tab\n"
     ]
    }
   ],
   "source": [
    "PMID = \"PMID:37075751\" # \n",
    "creator = builder.autosomal_dominant(PMID).build()\n",
    "df = creator.get_dataframe()\n",
    "creator.write_data_frame()"
   ]
  },
  {
   "cell_type": "code",
   "execution_count": null,
   "id": "4f6ccbac-52ac-490e-a128-3ebeab3759df",
   "metadata": {},
   "outputs": [],
   "source": []
  }
 ],
 "metadata": {
  "kernelspec": {
   "display_name": "Python 3 (ipykernel)",
   "language": "python",
   "name": "python3"
  },
  "language_info": {
   "codemirror_mode": {
    "name": "ipython",
    "version": 3
   },
   "file_extension": ".py",
   "mimetype": "text/x-python",
   "name": "python",
   "nbconvert_exporter": "python",
   "pygments_lexer": "ipython3",
   "version": "3.8.10"
  }
 },
 "nbformat": 4,
 "nbformat_minor": 5
}
