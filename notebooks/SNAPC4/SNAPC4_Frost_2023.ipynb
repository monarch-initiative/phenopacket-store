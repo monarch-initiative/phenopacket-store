{
 "cells": [
  {
   "cell_type": "markdown",
   "id": "ad7c2a1c-100f-49c4-b63a-6bdda6888a14",
   "metadata": {},
   "source": [
    "# SNAPC4\n",
    "Variants in SNAPC4 are associated with [Neurodevelopmental disorder with motor regression, progressive spastic paraplegia, and oromotor dysfunction](https://omim.org/entry/620515). Data derived from\n",
    "[Frost FG, et al. Bi-allelic SNAPC4 variants dysregulate global alternative splicing and lead to neuroregression and progressive spastic paraparesis. Am J Hum Genet. 2023](https://pubmed.ncbi.nlm.nih.gov/36965478/)"
   ]
  },
  {
   "cell_type": "code",
   "execution_count": 5,
   "id": "327aaeaa-8494-41a7-b677-b3a2858c0c74",
   "metadata": {},
   "outputs": [
    {
     "name": "stdout",
     "output_type": "stream",
     "text": [
      "Using pyphetools version 0.9.66\n"
     ]
    }
   ],
   "source": [
    "from pyphetools.creation import TemplateImporter\n",
    "from pyphetools.visualization import IndividualTable, QcVisualizer\n",
    "from IPython.display import display, HTML\n",
    "import pyphetools\n",
    "print(f\"Using pyphetools version {pyphetools.__version__}\")"
   ]
  },
  {
   "cell_type": "code",
   "execution_count": 6,
   "id": "1f024c44-4ccb-4bc1-8bcd-b7ee758383ae",
   "metadata": {},
   "outputs": [],
   "source": [
    "template = \"input/SNAPC4_Frost_2023.xlsx\"\n",
    "hp_json = \"../hp.json\"\n",
    "created_by = \"0000-0002-0736-9199\""
   ]
  },
  {
   "cell_type": "code",
   "execution_count": 7,
   "id": "33709229-ff0c-4a4d-8583-9261a8152b3d",
   "metadata": {},
   "outputs": [
    {
     "name": "stdout",
     "output_type": "stream",
     "text": [
      "HPO version 2024-03-06\n",
      "Created encoders for 29 fields\n",
      " we got OMIM:620515  NM_003086.4\n",
      "We output 10 GA4GH phenopackets to the directory phenopackets\n"
     ]
    }
   ],
   "source": [
    "timporter = TemplateImporter(template=template, hp_json=hp_json, created_by=created_by)\n",
    "individual_list, cvalidator = timporter.import_phenopackets_from_template()"
   ]
  },
  {
   "cell_type": "code",
   "execution_count": 8,
   "id": "76cff515-97f3-48a5-868a-7020e1dcc977",
   "metadata": {},
   "outputs": [
    {
     "data": {
      "text/html": [
       "<h2>Cohort validation</h2>\n",
       "<p>Errors found with 6 of 10 phenopackets.</p>\n",
       "<table style=\"border: 2px solid black; align: \"left\">\n",
       "<caption>Error counts</caption>\n",
       "<tr><th style=\"text-align: left;font-weight: bold;\">Level</th><th style=\"text-align: left;font-weight: bold;\">Error category</th><th style=\"text-align: left;font-weight: bold;\">Count</th></tr>\n",
       "<tr><td style=\"text-align: left;\">WARNING</td><td style=\"text-align: left;\">REDUNDANT</td><td style=\"text-align: left;\">6</td></tr>\n",
       "</table>\n",
       "<p>A total of 6 issues were fixed and no individual was removed from the cohort.</p>"
      ],
      "text/plain": [
       "<IPython.core.display.HTML object>"
      ]
     },
     "metadata": {},
     "output_type": "display_data"
    }
   ],
   "source": [
    "qc = QcVisualizer(cohort_validator=cvalidator)\n",
    "display(HTML(qc.to_summary_html()))"
   ]
  },
  {
   "cell_type": "code",
   "execution_count": 9,
   "id": "d4a3362a-65e0-46bb-af33-390d770a7545",
   "metadata": {},
   "outputs": [
    {
     "data": {
      "text/html": [
       "<table style=\"border: 2px solid black; align: \"left\">\n",
       "<caption>10 phenopackets - PMID:36965478 (n=10)</caption>\n",
       "<tr><th style=\"text-align: left;font-weight: bold;\">Individual</th><th style=\"text-align: left;font-weight: bold;\">Disease</th><th style=\"text-align: left;font-weight: bold;\">Genotype</th><th style=\"text-align: left;font-weight: bold;\">Phenotypic features</th></tr>\n",
       "<tr><td style=\"text-align: left;\">Individual 1 (FEMALE; n/a)</td><td style=\"text-align: left;\">Neurodevelopmental disorder with motor regression, progressive spastic paraplegia, and oromotor dysfunction (OMIM:620515)</td><td style=\"text-align: left;\"><ul> <li>NM_003086.4:c.1436T>C (heterozygous)</li> <li>NM_003086.4:c.472-2_472-1del (heterozygous)</li> </ul></td><td style=\"text-align: left;\"><b>P1Y3M</b>: Cognitive regression (HP:0034332); Motor regression (HP:0033044)<br/>Short stature (HP:0004322); Microcephaly (HP:0000252); Spastic tetraparesis (HP:0001285); Dystonia (HP:0001332); Dysarthria (HP:0001260); Gait disturbance (HP:0001288); Hyperreflexia (HP:0001347); Cerebral atrophy (HP:0002059); excluded: Drooling (HP:0002307); excluded: Cerebellar atrophy (HP:0001272)</td></tr>\n",
       "<tr><td style=\"text-align: left;\">Individual 2 (FEMALE; n/a)</td><td style=\"text-align: left;\">Neurodevelopmental disorder with motor regression, progressive spastic paraplegia, and oromotor dysfunction (OMIM:620515)</td><td style=\"text-align: left;\"><ul> <li>NM_003086.4:c.595G>A (heterozygous)</li> <li>NM_003086.4:c.1325+1G>T (heterozygous)</li> </ul></td><td style=\"text-align: left;\"><b>P1Y3M</b>: Cognitive regression (HP:0034332); Motor regression (HP:0033044)<br/>Short stature (HP:0004322); Spastic tetraparesis (HP:0001285); Dystonia (HP:0001332); Drooling (HP:0002307); Gait disturbance (HP:0001288); Hyperreflexia (HP:0001347); Cerebellar atrophy (HP:0001272); excluded: Microcephaly (HP:0000252); excluded: Dysarthria (HP:0001260); excluded: Cerebral atrophy (HP:0002059)</td></tr>\n",
       "<tr><td style=\"text-align: left;\">Individual 3 (MALE; n/a)</td><td style=\"text-align: left;\">Neurodevelopmental disorder with motor regression, progressive spastic paraplegia, and oromotor dysfunction (OMIM:620515)</td><td style=\"text-align: left;\"><ul> <li>NM_003086.4:c.1321G>A (heterozygous)</li> <li>NM_003086.4:c.1157A>G (heterozygous)</li> </ul></td><td style=\"text-align: left;\"><b>P2Y6M</b>: Cognitive regression (HP:0034332); Motor regression (HP:0033044)<br/>Short stature (HP:0004322); Microcephaly (HP:0000252); Spastic tetraparesis (HP:0001285); Dystonia (HP:0001332); Dysarthria (HP:0001260); Drooling (HP:0002307); Gait disturbance (HP:0001288); Hyperreflexia (HP:0001347)</td></tr>\n",
       "<tr><td style=\"text-align: left;\">Individual 4 (MALE; n/a)</td><td style=\"text-align: left;\">Neurodevelopmental disorder with motor regression, progressive spastic paraplegia, and oromotor dysfunction (OMIM:620515)</td><td style=\"text-align: left;\"><ul> <li>NM_003086.4:c.1321G>A (heterozygous)</li> <li>NM_003086.4:c.1157A>G (heterozygous)</li> </ul></td><td style=\"text-align: left;\"><b>P3Y</b>: Cognitive regression (HP:0034332); Motor regression (HP:0033044)<br/>Short stature (HP:0004322); Microcephaly (HP:0000252); Spastic tetraparesis (HP:0001285); Dystonia (HP:0001332); Dysarthria (HP:0001260); Drooling (HP:0002307); Gait disturbance (HP:0001288); Hyperreflexia (HP:0001347); excluded: Cerebral atrophy (HP:0002059); excluded: Cerebellar atrophy (HP:0001272)</td></tr>\n",
       "<tr><td style=\"text-align: left;\">Individual 5 (MALE; n/a)</td><td style=\"text-align: left;\">Neurodevelopmental disorder with motor regression, progressive spastic paraplegia, and oromotor dysfunction (OMIM:620515)</td><td style=\"text-align: left;\"><ul> <li>NM_003086.4:c.553A>G (heterozygous)</li> <li>NM_003086.4:c.2317+1G>T (heterozygous)</li> </ul></td><td style=\"text-align: left;\">Short stature (HP:0004322); Microcephaly (HP:0000252); Spasticity (HP:0001257); Dysarthria (HP:0001260); Drooling (HP:0002307); Gait disturbance (HP:0001288); Hyperreflexia (HP:0001347); excluded: Spastic tetraparesis (HP:0001285); excluded: Cerebral atrophy (HP:0002059); excluded: Cerebellar atrophy (HP:0001272)</td></tr>\n",
       "<tr><td style=\"text-align: left;\">Individual 6 (FEMALE; n/a)</td><td style=\"text-align: left;\">Neurodevelopmental disorder with motor regression, progressive spastic paraplegia, and oromotor dysfunction (OMIM:620515)</td><td style=\"text-align: left;\"><ul> <li>NM_003086.4:c.2428C>T (heterozygous)</li> <li>NM_003086.4:c.737+5G>T (heterozygous)</li> </ul></td><td style=\"text-align: left;\"><b>P6M</b>: Cognitive regression (HP:0034332); Motor regression (HP:0033044)<br/>Short stature (HP:0004322); Microcephaly (HP:0000252); Spasticity (HP:0001257); Dystonia (HP:0001332); Dysarthria (HP:0001260); Drooling (HP:0002307); Gait disturbance (HP:0001288); Hyperreflexia (HP:0001347); Cerebral atrophy (HP:0002059); Cerebellar atrophy (HP:0001272); excluded: Spastic tetraparesis (HP:0001285)</td></tr>\n",
       "<tr><td style=\"text-align: left;\">Individual 7 (FEMALE; n/a)</td><td style=\"text-align: left;\">Neurodevelopmental disorder with motor regression, progressive spastic paraplegia, and oromotor dysfunction (OMIM:620515)</td><td style=\"text-align: left;\">NM_003086.4:c.2527+1G>A (homozygous)</td><td style=\"text-align: left;\"><b>P1Y4M</b>: Cognitive regression (HP:0034332); Motor regression (HP:0033044)<br/>Short stature (HP:0004322); Microcephaly (HP:0000252); Spastic tetraparesis (HP:0001285); Dysarthria (HP:0001260); Drooling (HP:0002307); Gait disturbance (HP:0001288); Hyperreflexia (HP:0001347); Cerebral atrophy (HP:0002059); Cerebellar atrophy (HP:0001272); excluded: Dystonia (HP:0001332)</td></tr>\n",
       "<tr><td style=\"text-align: left;\">Individual 8 (FEMALE; n/a)</td><td style=\"text-align: left;\">Neurodevelopmental disorder with motor regression, progressive spastic paraplegia, and oromotor dysfunction (OMIM:620515)</td><td style=\"text-align: left;\">NM_003086.4:c.2527+1G>A (homozygous)</td><td style=\"text-align: left;\"><b>P1Y6M</b>: Cognitive regression (HP:0034332); Motor regression (HP:0033044)<br/>Short stature (HP:0004322); Microcephaly (HP:0000252); Spastic tetraparesis (HP:0001285); Dysarthria (HP:0001260); Drooling (HP:0002307); Gait disturbance (HP:0001288); Hyperreflexia (HP:0001347); Cerebellar atrophy (HP:0001272); excluded: Dystonia (HP:0001332); excluded: Cerebral atrophy (HP:0002059)</td></tr>\n",
       "<tr><td style=\"text-align: left;\">Individual 9 (MALE; n/a)</td><td style=\"text-align: left;\">Neurodevelopmental disorder with motor regression, progressive spastic paraplegia, and oromotor dysfunction (OMIM:620515)</td><td style=\"text-align: left;\">NM_003086.4:c.2527+1G>A (homozygous)</td><td style=\"text-align: left;\">Short stature (HP:0004322); Microcephaly (HP:0000252); Spasticity (HP:0001257); Gait disturbance (HP:0001288); Hyperreflexia (HP:0001347); Cerebellar atrophy (HP:0001272); excluded: Spastic tetraparesis (HP:0001285); excluded: Dystonia (HP:0001332); excluded: Dysarthria (HP:0001260); excluded: Drooling (HP:0002307); excluded: Cerebral atrophy (HP:0002059)</td></tr>\n",
       "<tr><td style=\"text-align: left;\">Individual 10 (MALE; n/a)</td><td style=\"text-align: left;\">Neurodevelopmental disorder with motor regression, progressive spastic paraplegia, and oromotor dysfunction (OMIM:620515)</td><td style=\"text-align: left;\"><ul> <li>NM_003086.4:c.1889_1899del (heterozygous)</li> <li>NM_003086.4:c.2900G>T (heterozygous)</li> </ul></td><td style=\"text-align: left;\"><b>P3Y</b>: Cognitive regression (HP:0034332); Motor regression (HP:0033044)<br/>Short stature (HP:0004322); Spasticity (HP:0001257); Dysarthria (HP:0001260); Gait disturbance (HP:0001288); excluded: Microcephaly (HP:0000252); excluded: Spastic tetraparesis (HP:0001285); excluded: Drooling (HP:0002307); excluded: Hyperreflexia (HP:0001347)</td></tr>\n",
       "</table>"
      ],
      "text/plain": [
       "<IPython.core.display.HTML object>"
      ]
     },
     "metadata": {},
     "output_type": "display_data"
    }
   ],
   "source": [
    "table = IndividualTable(cvalidator.get_error_free_individual_list())\n",
    "display(HTML(table.to_html()))"
   ]
  },
  {
   "cell_type": "markdown",
   "id": "3f60ab8f-8b62-4943-811f-6b6af5cc65d4",
   "metadata": {},
   "source": [
    "# HPOA file"
   ]
  },
  {
   "cell_type": "code",
   "execution_count": 11,
   "id": "6ef47489-5393-4f8d-bb7e-8b1408c72281",
   "metadata": {},
   "outputs": [
    {
     "name": "stdout",
     "output_type": "stream",
     "text": [
      "[pyphetools] Ingested 10 GA4GH phenopackets.\n",
      "\tNeurodevelopmental disorder with motor regression, progressive spastic paraplegia, and oromotor dysfunction (OMIM:620515): n=10\n",
      "We found a total of 13 unique HPO terms\n",
      "Extracted disease: Neurodevelopmental disorder with motor regression, progressive spastic paraplegia, and oromotor dysfunction (OMIM:620515)\n",
      "Wrote HPOA disease file to OMIM-620515.tab\n"
     ]
    },
    {
     "data": {
      "text/html": [
       "<div>\n",
       "<style scoped>\n",
       "    .dataframe tbody tr th:only-of-type {\n",
       "        vertical-align: middle;\n",
       "    }\n",
       "\n",
       "    .dataframe tbody tr th {\n",
       "        vertical-align: top;\n",
       "    }\n",
       "\n",
       "    .dataframe thead th {\n",
       "        text-align: right;\n",
       "    }\n",
       "</style>\n",
       "<table border=\"1\" class=\"dataframe\">\n",
       "  <thead>\n",
       "    <tr style=\"text-align: right;\">\n",
       "      <th></th>\n",
       "      <th>#diseaseID</th>\n",
       "      <th>diseaseName</th>\n",
       "      <th>phenotypeID</th>\n",
       "      <th>phenotypeName</th>\n",
       "      <th>onsetID</th>\n",
       "      <th>onsetName</th>\n",
       "      <th>frequency</th>\n",
       "      <th>sex</th>\n",
       "      <th>negation</th>\n",
       "      <th>modifier</th>\n",
       "      <th>description</th>\n",
       "      <th>publication</th>\n",
       "      <th>evidence</th>\n",
       "      <th>biocuration</th>\n",
       "    </tr>\n",
       "  </thead>\n",
       "  <tbody>\n",
       "    <tr>\n",
       "      <th>0</th>\n",
       "      <td>OMIM:620515</td>\n",
       "      <td>Neurodevelopmental disorder with motor regression, progressive spastic paraplegia, and oromotor dysfunction</td>\n",
       "      <td>HP:0034332</td>\n",
       "      <td>Cognitive regression</td>\n",
       "      <td></td>\n",
       "      <td></td>\n",
       "      <td>8/8</td>\n",
       "      <td></td>\n",
       "      <td></td>\n",
       "      <td></td>\n",
       "      <td></td>\n",
       "      <td>PMID:36965478</td>\n",
       "      <td>PCS</td>\n",
       "      <td>ORCID:0000-0002-0736-9199</td>\n",
       "    </tr>\n",
       "    <tr>\n",
       "      <th>1</th>\n",
       "      <td>OMIM:620515</td>\n",
       "      <td>Neurodevelopmental disorder with motor regression, progressive spastic paraplegia, and oromotor dysfunction</td>\n",
       "      <td>HP:0033044</td>\n",
       "      <td>Motor regression</td>\n",
       "      <td></td>\n",
       "      <td></td>\n",
       "      <td>8/8</td>\n",
       "      <td></td>\n",
       "      <td></td>\n",
       "      <td></td>\n",
       "      <td></td>\n",
       "      <td>PMID:36965478</td>\n",
       "      <td>PCS</td>\n",
       "      <td>ORCID:0000-0002-0736-9199</td>\n",
       "    </tr>\n",
       "    <tr>\n",
       "      <th>2</th>\n",
       "      <td>OMIM:620515</td>\n",
       "      <td>Neurodevelopmental disorder with motor regression, progressive spastic paraplegia, and oromotor dysfunction</td>\n",
       "      <td>HP:0004322</td>\n",
       "      <td>Short stature</td>\n",
       "      <td></td>\n",
       "      <td></td>\n",
       "      <td>10/10</td>\n",
       "      <td></td>\n",
       "      <td></td>\n",
       "      <td></td>\n",
       "      <td></td>\n",
       "      <td>PMID:36965478</td>\n",
       "      <td>PCS</td>\n",
       "      <td>ORCID:0000-0002-0736-9199</td>\n",
       "    </tr>\n",
       "    <tr>\n",
       "      <th>3</th>\n",
       "      <td>OMIM:620515</td>\n",
       "      <td>Neurodevelopmental disorder with motor regression, progressive spastic paraplegia, and oromotor dysfunction</td>\n",
       "      <td>HP:0001257</td>\n",
       "      <td>Spasticity</td>\n",
       "      <td></td>\n",
       "      <td></td>\n",
       "      <td>4/4</td>\n",
       "      <td></td>\n",
       "      <td></td>\n",
       "      <td></td>\n",
       "      <td></td>\n",
       "      <td>PMID:36965478</td>\n",
       "      <td>PCS</td>\n",
       "      <td>ORCID:0000-0002-0736-9199</td>\n",
       "    </tr>\n",
       "    <tr>\n",
       "      <th>4</th>\n",
       "      <td>OMIM:620515</td>\n",
       "      <td>Neurodevelopmental disorder with motor regression, progressive spastic paraplegia, and oromotor dysfunction</td>\n",
       "      <td>HP:0001260</td>\n",
       "      <td>Dysarthria</td>\n",
       "      <td></td>\n",
       "      <td></td>\n",
       "      <td>8/10</td>\n",
       "      <td></td>\n",
       "      <td></td>\n",
       "      <td></td>\n",
       "      <td></td>\n",
       "      <td>PMID:36965478</td>\n",
       "      <td>PCS</td>\n",
       "      <td>ORCID:0000-0002-0736-9199</td>\n",
       "    </tr>\n",
       "  </tbody>\n",
       "</table>\n",
       "</div>"
      ],
      "text/plain": [
       "    #diseaseID  \\\n",
       "0  OMIM:620515   \n",
       "1  OMIM:620515   \n",
       "2  OMIM:620515   \n",
       "3  OMIM:620515   \n",
       "4  OMIM:620515   \n",
       "\n",
       "                                                                                                   diseaseName  \\\n",
       "0  Neurodevelopmental disorder with motor regression, progressive spastic paraplegia, and oromotor dysfunction   \n",
       "1  Neurodevelopmental disorder with motor regression, progressive spastic paraplegia, and oromotor dysfunction   \n",
       "2  Neurodevelopmental disorder with motor regression, progressive spastic paraplegia, and oromotor dysfunction   \n",
       "3  Neurodevelopmental disorder with motor regression, progressive spastic paraplegia, and oromotor dysfunction   \n",
       "4  Neurodevelopmental disorder with motor regression, progressive spastic paraplegia, and oromotor dysfunction   \n",
       "\n",
       "  phenotypeID         phenotypeName onsetID onsetName frequency sex negation  \\\n",
       "0  HP:0034332  Cognitive regression                         8/8                \n",
       "1  HP:0033044      Motor regression                         8/8                \n",
       "2  HP:0004322         Short stature                       10/10                \n",
       "3  HP:0001257            Spasticity                         4/4                \n",
       "4  HP:0001260            Dysarthria                        8/10                \n",
       "\n",
       "  modifier description    publication evidence                biocuration  \n",
       "0                       PMID:36965478      PCS  ORCID:0000-0002-0736-9199  \n",
       "1                       PMID:36965478      PCS  ORCID:0000-0002-0736-9199  \n",
       "2                       PMID:36965478      PCS  ORCID:0000-0002-0736-9199  \n",
       "3                       PMID:36965478      PCS  ORCID:0000-0002-0736-9199  \n",
       "4                       PMID:36965478      PCS  ORCID:0000-0002-0736-9199  "
      ]
     },
     "execution_count": 11,
     "metadata": {},
     "output_type": "execute_result"
    }
   ],
   "source": [
    "PMID = \"PMID:36965478\"\n",
    "df = timporter.create_hpoa_from_phenopackets(pmid=PMID, moi=\"Autosomal recessive\")\n",
    "df.head()"
   ]
  },
  {
   "cell_type": "code",
   "execution_count": null,
   "id": "c0bb2ea0-06e1-418b-a53d-cdb7ba938291",
   "metadata": {},
   "outputs": [],
   "source": []
  }
 ],
 "metadata": {
  "kernelspec": {
   "display_name": "Python 3 (ipykernel)",
   "language": "python",
   "name": "python3"
  },
  "language_info": {
   "codemirror_mode": {
    "name": "ipython",
    "version": 3
   },
   "file_extension": ".py",
   "mimetype": "text/x-python",
   "name": "python",
   "nbconvert_exporter": "python",
   "pygments_lexer": "ipython3",
   "version": "3.8.10"
  }
 },
 "nbformat": 4,
 "nbformat_minor": 5
}
