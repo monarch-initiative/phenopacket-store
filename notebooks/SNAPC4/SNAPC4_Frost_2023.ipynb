{
 "cells": [
  {
   "cell_type": "markdown",
   "id": "ad7c2a1c-100f-49c4-b63a-6bdda6888a14",
   "metadata": {},
   "source": [
    "# SNAPC4\n",
    "Variants in SNAPC4 are associated with [Neurodevelopmental disorder with motor regression, progressive spastic paraplegia, and oromotor dysfunction](https://omim.org/entry/620515). Data derived from\n",
    "[Frost FG, et al. Bi-allelic SNAPC4 variants dysregulate global alternative splicing and lead to neuroregression and progressive spastic paraparesis. Am J Hum Genet. 2023](https://pubmed.ncbi.nlm.nih.gov/36965478/)"
   ]
  },
  {
   "cell_type": "code",
   "execution_count": 1,
   "id": "327aaeaa-8494-41a7-b677-b3a2858c0c74",
   "metadata": {},
   "outputs": [
    {
     "name": "stdout",
     "output_type": "stream",
     "text": [
      "Using pyphetools version 0.9.56\n"
     ]
    }
   ],
   "source": [
    "import pandas as pd\n",
    "from IPython.display import display, HTML\n",
    "pd.set_option('display.max_colwidth', None) # show entire column contents, important!\n",
    "from collections import defaultdict\n",
    "from pyphetools.creation import *\n",
    "from pyphetools.visualization import *\n",
    "from pyphetools.validation import *\n",
    "import pyphetools\n",
    "print(f\"Using pyphetools version {pyphetools.__version__}\")"
   ]
  },
  {
   "cell_type": "code",
   "execution_count": 2,
   "id": "1f024c44-4ccb-4bc1-8bcd-b7ee758383ae",
   "metadata": {},
   "outputs": [
    {
     "name": "stdout",
     "output_type": "stream",
     "text": [
      "HPO version 2024-02-27\n"
     ]
    }
   ],
   "source": [
    "parser = HpoParser(hpo_json_file=\"../hp.json\")\n",
    "hpo_cr = parser.get_hpo_concept_recognizer()\n",
    "hpo_version = parser.get_version()\n",
    "hpo_ontology = parser.get_ontology()\n",
    "created_by=\"ORCID:0000-0002-0736-9199\"\n",
    "print(f\"HPO version {hpo_version}\")"
   ]
  },
  {
   "cell_type": "code",
   "execution_count": 3,
   "id": "33709229-ff0c-4a4d-8583-9261a8152b3d",
   "metadata": {},
   "outputs": [
    {
     "data": {
      "text/html": [
       "<div>\n",
       "<style scoped>\n",
       "    .dataframe tbody tr th:only-of-type {\n",
       "        vertical-align: middle;\n",
       "    }\n",
       "\n",
       "    .dataframe tbody tr th {\n",
       "        vertical-align: top;\n",
       "    }\n",
       "\n",
       "    .dataframe thead th {\n",
       "        text-align: right;\n",
       "    }\n",
       "</style>\n",
       "<table border=\"1\" class=\"dataframe\">\n",
       "  <thead>\n",
       "    <tr style=\"text-align: right;\">\n",
       "      <th></th>\n",
       "      <th>PMID</th>\n",
       "      <th>title</th>\n",
       "      <th>individual_id</th>\n",
       "      <th>comment</th>\n",
       "      <th>disease_id</th>\n",
       "      <th>disease_label</th>\n",
       "      <th>transcript</th>\n",
       "      <th>allele_1</th>\n",
       "      <th>allele_2</th>\n",
       "      <th>variant.comment</th>\n",
       "      <th>...</th>\n",
       "      <th>Motor regression</th>\n",
       "      <th>Spasticity</th>\n",
       "      <th>Spastic tetraparesis</th>\n",
       "      <th>Dystonia</th>\n",
       "      <th>Dysarthria</th>\n",
       "      <th>Drooling</th>\n",
       "      <th>Gait disturbance</th>\n",
       "      <th>Hyperreflexia</th>\n",
       "      <th>Cerebral atrophy</th>\n",
       "      <th>Cerebellar atrophy</th>\n",
       "    </tr>\n",
       "  </thead>\n",
       "  <tbody>\n",
       "    <tr>\n",
       "      <th>0</th>\n",
       "      <td>str</td>\n",
       "      <td>str</td>\n",
       "      <td>str</td>\n",
       "      <td>optional str</td>\n",
       "      <td>str</td>\n",
       "      <td>str</td>\n",
       "      <td>str</td>\n",
       "      <td>str</td>\n",
       "      <td>str</td>\n",
       "      <td>optional str</td>\n",
       "      <td>...</td>\n",
       "      <td>HP:0033044</td>\n",
       "      <td>HP:0001257</td>\n",
       "      <td>HP:0001285</td>\n",
       "      <td>HP:0001332</td>\n",
       "      <td>HP:0001260</td>\n",
       "      <td>HP:0002307</td>\n",
       "      <td>HP:0001288</td>\n",
       "      <td>HP:0001347</td>\n",
       "      <td>HP:0002059</td>\n",
       "      <td>HP:0001272</td>\n",
       "    </tr>\n",
       "    <tr>\n",
       "      <th>1</th>\n",
       "      <td>PMID:36965478</td>\n",
       "      <td>Bi-allelic SNAPC4 variants dysregulate global alternative splicing and lead to neuroregression and progressive spastic paraparesis</td>\n",
       "      <td>Individual 1</td>\n",
       "      <td>NaN</td>\n",
       "      <td>OMIM:620515</td>\n",
       "      <td>Neurodevelopmental disorder with motor regression, progressive spastic paraplegia, and oromotor dysfunction</td>\n",
       "      <td>NM_003086.4</td>\n",
       "      <td>c.1436T&gt;C</td>\n",
       "      <td>c.472-2_472-1del</td>\n",
       "      <td>NaN</td>\n",
       "      <td>...</td>\n",
       "      <td>P1Y3M</td>\n",
       "      <td>observed</td>\n",
       "      <td>observed</td>\n",
       "      <td>observed</td>\n",
       "      <td>observed</td>\n",
       "      <td>excluded</td>\n",
       "      <td>observed</td>\n",
       "      <td>observed</td>\n",
       "      <td>observed</td>\n",
       "      <td>excluded</td>\n",
       "    </tr>\n",
       "    <tr>\n",
       "      <th>2</th>\n",
       "      <td>PMID:36965478</td>\n",
       "      <td>Bi-allelic SNAPC4 variants dysregulate global alternative splicing and lead to neuroregression and progressive spastic paraparesis</td>\n",
       "      <td>Individual 2</td>\n",
       "      <td>NaN</td>\n",
       "      <td>OMIM:620515</td>\n",
       "      <td>Neurodevelopmental disorder with motor regression, progressive spastic paraplegia, and oromotor dysfunction</td>\n",
       "      <td>NM_003086.4</td>\n",
       "      <td>c.595G&gt;A</td>\n",
       "      <td>c.1325+1G&gt;T</td>\n",
       "      <td>NaN</td>\n",
       "      <td>...</td>\n",
       "      <td>P1Y3M</td>\n",
       "      <td>observed</td>\n",
       "      <td>observed</td>\n",
       "      <td>observed</td>\n",
       "      <td>excluded</td>\n",
       "      <td>observed</td>\n",
       "      <td>observed</td>\n",
       "      <td>observed</td>\n",
       "      <td>excluded</td>\n",
       "      <td>observed</td>\n",
       "    </tr>\n",
       "    <tr>\n",
       "      <th>3</th>\n",
       "      <td>PMID:36965478</td>\n",
       "      <td>Bi-allelic SNAPC4 variants dysregulate global alternative splicing and lead to neuroregression and progressive spastic paraparesis</td>\n",
       "      <td>Individual 3</td>\n",
       "      <td>NaN</td>\n",
       "      <td>OMIM:620515</td>\n",
       "      <td>Neurodevelopmental disorder with motor regression, progressive spastic paraplegia, and oromotor dysfunction</td>\n",
       "      <td>NM_003086.4</td>\n",
       "      <td>c.1321G&gt;A</td>\n",
       "      <td>c.1157A&gt;G</td>\n",
       "      <td>NaN</td>\n",
       "      <td>...</td>\n",
       "      <td>P2Y6M</td>\n",
       "      <td>observed</td>\n",
       "      <td>observed</td>\n",
       "      <td>observed</td>\n",
       "      <td>observed</td>\n",
       "      <td>observed</td>\n",
       "      <td>observed</td>\n",
       "      <td>observed</td>\n",
       "      <td>na</td>\n",
       "      <td>na</td>\n",
       "    </tr>\n",
       "    <tr>\n",
       "      <th>4</th>\n",
       "      <td>PMID:36965478</td>\n",
       "      <td>Bi-allelic SNAPC4 variants dysregulate global alternative splicing and lead to neuroregression and progressive spastic paraparesis</td>\n",
       "      <td>Individual 4</td>\n",
       "      <td>NaN</td>\n",
       "      <td>OMIM:620515</td>\n",
       "      <td>Neurodevelopmental disorder with motor regression, progressive spastic paraplegia, and oromotor dysfunction</td>\n",
       "      <td>NM_003086.4</td>\n",
       "      <td>c.1321G&gt;A</td>\n",
       "      <td>c.1157A&gt;G</td>\n",
       "      <td>NaN</td>\n",
       "      <td>...</td>\n",
       "      <td>P3Y</td>\n",
       "      <td>observed</td>\n",
       "      <td>observed</td>\n",
       "      <td>observed</td>\n",
       "      <td>observed</td>\n",
       "      <td>observed</td>\n",
       "      <td>observed</td>\n",
       "      <td>observed</td>\n",
       "      <td>excluded</td>\n",
       "      <td>excluded</td>\n",
       "    </tr>\n",
       "  </tbody>\n",
       "</table>\n",
       "<p>5 rows × 27 columns</p>\n",
       "</div>"
      ],
      "text/plain": [
       "            PMID  \\\n",
       "0            str   \n",
       "1  PMID:36965478   \n",
       "2  PMID:36965478   \n",
       "3  PMID:36965478   \n",
       "4  PMID:36965478   \n",
       "\n",
       "                                                                                                                                title  \\\n",
       "0                                                                                                                                 str   \n",
       "1  Bi-allelic SNAPC4 variants dysregulate global alternative splicing and lead to neuroregression and progressive spastic paraparesis   \n",
       "2  Bi-allelic SNAPC4 variants dysregulate global alternative splicing and lead to neuroregression and progressive spastic paraparesis   \n",
       "3  Bi-allelic SNAPC4 variants dysregulate global alternative splicing and lead to neuroregression and progressive spastic paraparesis   \n",
       "4  Bi-allelic SNAPC4 variants dysregulate global alternative splicing and lead to neuroregression and progressive spastic paraparesis   \n",
       "\n",
       "  individual_id       comment   disease_id  \\\n",
       "0           str  optional str          str   \n",
       "1  Individual 1           NaN  OMIM:620515   \n",
       "2  Individual 2           NaN  OMIM:620515   \n",
       "3  Individual 3           NaN  OMIM:620515   \n",
       "4  Individual 4           NaN  OMIM:620515   \n",
       "\n",
       "                                                                                                 disease_label  \\\n",
       "0                                                                                                          str   \n",
       "1  Neurodevelopmental disorder with motor regression, progressive spastic paraplegia, and oromotor dysfunction   \n",
       "2  Neurodevelopmental disorder with motor regression, progressive spastic paraplegia, and oromotor dysfunction   \n",
       "3  Neurodevelopmental disorder with motor regression, progressive spastic paraplegia, and oromotor dysfunction   \n",
       "4  Neurodevelopmental disorder with motor regression, progressive spastic paraplegia, and oromotor dysfunction   \n",
       "\n",
       "    transcript   allele_1          allele_2 variant.comment  ...  \\\n",
       "0          str        str               str    optional str  ...   \n",
       "1  NM_003086.4  c.1436T>C  c.472-2_472-1del             NaN  ...   \n",
       "2  NM_003086.4   c.595G>A       c.1325+1G>T             NaN  ...   \n",
       "3  NM_003086.4  c.1321G>A         c.1157A>G             NaN  ...   \n",
       "4  NM_003086.4  c.1321G>A         c.1157A>G             NaN  ...   \n",
       "\n",
       "  Motor regression  Spasticity Spastic tetraparesis    Dystonia  Dysarthria  \\\n",
       "0       HP:0033044  HP:0001257           HP:0001285  HP:0001332  HP:0001260   \n",
       "1            P1Y3M    observed             observed    observed    observed   \n",
       "2            P1Y3M    observed             observed    observed    excluded   \n",
       "3            P2Y6M    observed             observed    observed    observed   \n",
       "4              P3Y    observed             observed    observed    observed   \n",
       "\n",
       "     Drooling Gait disturbance Hyperreflexia Cerebral atrophy  \\\n",
       "0  HP:0002307       HP:0001288    HP:0001347       HP:0002059   \n",
       "1    excluded         observed      observed         observed   \n",
       "2    observed         observed      observed         excluded   \n",
       "3    observed         observed      observed               na   \n",
       "4    observed         observed      observed         excluded   \n",
       "\n",
       "  Cerebellar atrophy  \n",
       "0         HP:0001272  \n",
       "1           excluded  \n",
       "2           observed  \n",
       "3                 na  \n",
       "4           excluded  \n",
       "\n",
       "[5 rows x 27 columns]"
      ]
     },
     "execution_count": 3,
     "metadata": {},
     "output_type": "execute_result"
    }
   ],
   "source": [
    "df = pd.read_excel(\"input/SNAPC4_Frost_2023.xlsx\")\n",
    "df.head() "
   ]
  },
  {
   "cell_type": "code",
   "execution_count": 4,
   "id": "76cff515-97f3-48a5-868a-7020e1dcc977",
   "metadata": {},
   "outputs": [
    {
     "name": "stdout",
     "output_type": "stream",
     "text": [
      "Created encoders for 27 fields\n"
     ]
    }
   ],
   "source": [
    "encoder = CaseTemplateEncoder(df=df, hpo_cr=hpo_cr, created_by=created_by)\n",
    "individuals = encoder.get_individuals()"
   ]
  },
  {
   "cell_type": "code",
   "execution_count": 5,
   "id": "d4a3362a-65e0-46bb-af33-390d770a7545",
   "metadata": {},
   "outputs": [
    {
     "name": "stdout",
     "output_type": "stream",
     "text": [
      "[INFO] encoding variant \"c.472-2_472-1del\"\n",
      "https://rest.variantvalidator.org/VariantValidator/variantvalidator/hg38/NM_003086.4%3Ac.472-2_472-1del/NM_003086.4?content-type=application%2Fjson\n"
     ]
    }
   ],
   "source": [
    "SNAPC4_transcript = \"NM_003086.4\"\n",
    "vmanager = VariantManager(df=df,\n",
    "                          individual_column_name=\"individual_id\",\n",
    "                          gene_symbol=\"SNAPC4\",\n",
    "                          transcript=SNAPC4_transcript,\n",
    "                          allele_1_column_name=\"allele_1\",\n",
    "                          allele_2_column_name=\"allele_2\")"
   ]
  },
  {
   "cell_type": "code",
   "execution_count": 6,
   "id": "e56f6e2e-ed5d-4cee-9ff7-ec87d88a3f75",
   "metadata": {},
   "outputs": [
    {
     "data": {
      "text/html": [
       "<div>\n",
       "<style scoped>\n",
       "    .dataframe tbody tr th:only-of-type {\n",
       "        vertical-align: middle;\n",
       "    }\n",
       "\n",
       "    .dataframe tbody tr th {\n",
       "        vertical-align: top;\n",
       "    }\n",
       "\n",
       "    .dataframe thead th {\n",
       "        text-align: right;\n",
       "    }\n",
       "</style>\n",
       "<table border=\"1\" class=\"dataframe\">\n",
       "  <thead>\n",
       "    <tr style=\"text-align: right;\">\n",
       "      <th></th>\n",
       "      <th>status</th>\n",
       "      <th>count</th>\n",
       "      <th>alleles</th>\n",
       "    </tr>\n",
       "  </thead>\n",
       "  <tbody>\n",
       "    <tr>\n",
       "      <th>0</th>\n",
       "      <td>mapped</td>\n",
       "      <td>13</td>\n",
       "      <td>c.553A&gt;G, c.2428C&gt;T, c.1889_1899del, c.1321G&gt;A, c.1157A&gt;G, c.2317+1G&gt;T, c.2900G&gt;T, c.1436T&gt;C, c.2527+1G&gt;A, c.737+5G&gt;T, c.595G&gt;A, c.1325+1G&gt;T, c.472-2_472-1del</td>\n",
       "    </tr>\n",
       "    <tr>\n",
       "      <th>1</th>\n",
       "      <td>unmapped</td>\n",
       "      <td>0</td>\n",
       "      <td></td>\n",
       "    </tr>\n",
       "  </tbody>\n",
       "</table>\n",
       "</div>"
      ],
      "text/plain": [
       "     status  count  \\\n",
       "0    mapped     13   \n",
       "1  unmapped      0   \n",
       "\n",
       "                                                                                                                                                          alleles  \n",
       "0  c.553A>G, c.2428C>T, c.1889_1899del, c.1321G>A, c.1157A>G, c.2317+1G>T, c.2900G>T, c.1436T>C, c.2527+1G>A, c.737+5G>T, c.595G>A, c.1325+1G>T, c.472-2_472-1del  \n",
       "1                                                                                                                                                                  "
      ]
     },
     "execution_count": 6,
     "metadata": {},
     "output_type": "execute_result"
    }
   ],
   "source": [
    "vmanager.to_summary()\n"
   ]
  },
  {
   "cell_type": "code",
   "execution_count": 7,
   "id": "8b247368-e081-4a5b-adf2-efe3706a6201",
   "metadata": {},
   "outputs": [],
   "source": [
    "vmanager.add_variants_to_individuals(individuals)"
   ]
  },
  {
   "cell_type": "code",
   "execution_count": 8,
   "id": "27b780ef-d4e1-4e6d-b0b4-7d238a091101",
   "metadata": {},
   "outputs": [
    {
     "data": {
      "text/html": [
       "<h2>Cohort validation</h2>\n",
       "<p>Errors found with 6 of 10 phenopackets.</p>\n",
       "<table style=\"border: 2px solid black; align: \"left\">\n",
       "<caption>Error counts</caption>\n",
       "<tr><th style=\"text-align: left;font-weight: bold;\">Level</th><th style=\"text-align: left;font-weight: bold;\">Error category</th><th style=\"text-align: left;font-weight: bold;\">Count</th></tr>\n",
       "<tr><td style=\"text-align: left;\">WARNING</td><td style=\"text-align: left;\">REDUNDANT</td><td style=\"text-align: left;\">6</td></tr>\n",
       "</table>\n",
       "<p>A total of 6 issues were fixed and no individual was removed from the cohort.</p>"
      ],
      "text/plain": [
       "<IPython.core.display.HTML object>"
      ]
     },
     "metadata": {},
     "output_type": "display_data"
    }
   ],
   "source": [
    "cvalidator = CohortValidator(cohort=individuals, ontology=hpo_ontology, min_hpo=1,\n",
    "                                allelic_requirement=AllelicRequirement.BI_ALLELIC)\n",
    "qc = QcVisualizer(cohort_validator=cvalidator)\n",
    "display(HTML(qc.to_summary_html()))"
   ]
  },
  {
   "cell_type": "code",
   "execution_count": 9,
   "id": "6b015227-0eb7-4923-8dc3-ba692ea6e873",
   "metadata": {},
   "outputs": [
    {
     "data": {
      "text/html": [
       "<table style=\"border: 2px solid black; align: \"left\">\n",
       "<caption>10 phenopackets - PMID:36965478 (n=10)</caption>\n",
       "<tr><th style=\"text-align: left;font-weight: bold;\">Individual</th><th style=\"text-align: left;font-weight: bold;\">Disease</th><th style=\"text-align: left;font-weight: bold;\">Genotype</th><th style=\"text-align: left;font-weight: bold;\">Phenotypic features</th></tr>\n",
       "<tr><td style=\"text-align: left;\">Individual 1 (FEMALE; )</td><td style=\"text-align: left;\">Neurodevelopmental disorder with motor regression, progressive spastic paraplegia, and oromotor dysfunction (OMIM:620515)</td><td style=\"text-align: left;\"><ul> <li>NM_003086.4:c.1436T>C (heterozygous)</li> <li>NM_003086.4:c.472-2_472-1del (heterozygous)</li> </ul></td><td style=\"text-align: left;\"><b>P1Y3M</b>: Cognitive regression (HP:0034332); Motor regression (HP:0033044)<br/>Short stature (HP:0004322); Microcephaly (HP:0000252); Spastic tetraparesis (HP:0001285); Dystonia (HP:0001332); Dysarthria (HP:0001260); Gait disturbance (HP:0001288); Hyperreflexia (HP:0001347); Cerebral atrophy (HP:0002059); excluded: Drooling (HP:0002307); excluded: Cerebellar atrophy (HP:0001272)</td></tr>\n",
       "<tr><td style=\"text-align: left;\">Individual 2 (FEMALE; )</td><td style=\"text-align: left;\">Neurodevelopmental disorder with motor regression, progressive spastic paraplegia, and oromotor dysfunction (OMIM:620515)</td><td style=\"text-align: left;\"><ul> <li>NM_003086.4:c.595G>A (heterozygous)</li> <li>NM_003086.4:c.1325+1G>T (heterozygous)</li> </ul></td><td style=\"text-align: left;\"><b>P1Y3M</b>: Cognitive regression (HP:0034332); Motor regression (HP:0033044)<br/>Short stature (HP:0004322); Spastic tetraparesis (HP:0001285); Dystonia (HP:0001332); Drooling (HP:0002307); Gait disturbance (HP:0001288); Hyperreflexia (HP:0001347); Cerebellar atrophy (HP:0001272); excluded: Microcephaly (HP:0000252); excluded: Dysarthria (HP:0001260); excluded: Cerebral atrophy (HP:0002059)</td></tr>\n",
       "<tr><td style=\"text-align: left;\">Individual 3 (MALE; )</td><td style=\"text-align: left;\">Neurodevelopmental disorder with motor regression, progressive spastic paraplegia, and oromotor dysfunction (OMIM:620515)</td><td style=\"text-align: left;\"><ul> <li>NM_003086.4:c.1321G>A (heterozygous)</li> <li>NM_003086.4:c.1157A>G (heterozygous)</li> </ul></td><td style=\"text-align: left;\"><b>P2Y6M</b>: Cognitive regression (HP:0034332); Motor regression (HP:0033044)<br/>Short stature (HP:0004322); Microcephaly (HP:0000252); Spastic tetraparesis (HP:0001285); Dystonia (HP:0001332); Dysarthria (HP:0001260); Drooling (HP:0002307); Gait disturbance (HP:0001288); Hyperreflexia (HP:0001347)</td></tr>\n",
       "<tr><td style=\"text-align: left;\">Individual 4 (MALE; )</td><td style=\"text-align: left;\">Neurodevelopmental disorder with motor regression, progressive spastic paraplegia, and oromotor dysfunction (OMIM:620515)</td><td style=\"text-align: left;\"><ul> <li>NM_003086.4:c.1321G>A (heterozygous)</li> <li>NM_003086.4:c.1157A>G (heterozygous)</li> </ul></td><td style=\"text-align: left;\"><b>P3Y</b>: Cognitive regression (HP:0034332); Motor regression (HP:0033044)<br/>Short stature (HP:0004322); Microcephaly (HP:0000252); Spastic tetraparesis (HP:0001285); Dystonia (HP:0001332); Dysarthria (HP:0001260); Drooling (HP:0002307); Gait disturbance (HP:0001288); Hyperreflexia (HP:0001347); excluded: Cerebral atrophy (HP:0002059); excluded: Cerebellar atrophy (HP:0001272)</td></tr>\n",
       "<tr><td style=\"text-align: left;\">Individual 5 (MALE; )</td><td style=\"text-align: left;\">Neurodevelopmental disorder with motor regression, progressive spastic paraplegia, and oromotor dysfunction (OMIM:620515)</td><td style=\"text-align: left;\"><ul> <li>NM_003086.4:c.553A>G (heterozygous)</li> <li>NM_003086.4:c.2317+1G>T (heterozygous)</li> </ul></td><td style=\"text-align: left;\">Short stature (HP:0004322); Microcephaly (HP:0000252); Spasticity (HP:0001257); Dysarthria (HP:0001260); Drooling (HP:0002307); Gait disturbance (HP:0001288); Hyperreflexia (HP:0001347); excluded: Spastic tetraparesis (HP:0001285); excluded: Cerebral atrophy (HP:0002059); excluded: Cerebellar atrophy (HP:0001272)</td></tr>\n",
       "<tr><td style=\"text-align: left;\">Individual 6 (FEMALE; )</td><td style=\"text-align: left;\">Neurodevelopmental disorder with motor regression, progressive spastic paraplegia, and oromotor dysfunction (OMIM:620515)</td><td style=\"text-align: left;\"><ul> <li>NM_003086.4:c.2428C>T (heterozygous)</li> <li>NM_003086.4:c.737+5G>T (heterozygous)</li> </ul></td><td style=\"text-align: left;\"><b>P6M</b>: Cognitive regression (HP:0034332); Motor regression (HP:0033044)<br/>Short stature (HP:0004322); Microcephaly (HP:0000252); Spasticity (HP:0001257); Dystonia (HP:0001332); Dysarthria (HP:0001260); Drooling (HP:0002307); Gait disturbance (HP:0001288); Hyperreflexia (HP:0001347); Cerebral atrophy (HP:0002059); Cerebellar atrophy (HP:0001272); excluded: Spastic tetraparesis (HP:0001285)</td></tr>\n",
       "<tr><td style=\"text-align: left;\">Individual 7 (FEMALE; )</td><td style=\"text-align: left;\">Neurodevelopmental disorder with motor regression, progressive spastic paraplegia, and oromotor dysfunction (OMIM:620515)</td><td style=\"text-align: left;\">NM_003086.4:c.2527+1G>A (homozygous)</td><td style=\"text-align: left;\"><b>P1Y4M</b>: Cognitive regression (HP:0034332); Motor regression (HP:0033044)<br/>Short stature (HP:0004322); Microcephaly (HP:0000252); Spastic tetraparesis (HP:0001285); Dysarthria (HP:0001260); Drooling (HP:0002307); Gait disturbance (HP:0001288); Hyperreflexia (HP:0001347); Cerebral atrophy (HP:0002059); Cerebellar atrophy (HP:0001272); excluded: Dystonia (HP:0001332)</td></tr>\n",
       "<tr><td style=\"text-align: left;\">Individual 8 (FEMALE; )</td><td style=\"text-align: left;\">Neurodevelopmental disorder with motor regression, progressive spastic paraplegia, and oromotor dysfunction (OMIM:620515)</td><td style=\"text-align: left;\">NM_003086.4:c.2527+1G>A (homozygous)</td><td style=\"text-align: left;\"><b>P1Y6M</b>: Cognitive regression (HP:0034332); Motor regression (HP:0033044)<br/>Short stature (HP:0004322); Microcephaly (HP:0000252); Spastic tetraparesis (HP:0001285); Dysarthria (HP:0001260); Drooling (HP:0002307); Gait disturbance (HP:0001288); Hyperreflexia (HP:0001347); Cerebellar atrophy (HP:0001272); excluded: Dystonia (HP:0001332); excluded: Cerebral atrophy (HP:0002059)</td></tr>\n",
       "<tr><td style=\"text-align: left;\">Individual 9 (MALE; )</td><td style=\"text-align: left;\">Neurodevelopmental disorder with motor regression, progressive spastic paraplegia, and oromotor dysfunction (OMIM:620515)</td><td style=\"text-align: left;\">NM_003086.4:c.2527+1G>A (homozygous)</td><td style=\"text-align: left;\">Short stature (HP:0004322); Microcephaly (HP:0000252); Spasticity (HP:0001257); Gait disturbance (HP:0001288); Hyperreflexia (HP:0001347); Cerebellar atrophy (HP:0001272); excluded: Spastic tetraparesis (HP:0001285); excluded: Dystonia (HP:0001332); excluded: Dysarthria (HP:0001260); excluded: Drooling (HP:0002307); excluded: Cerebral atrophy (HP:0002059)</td></tr>\n",
       "<tr><td style=\"text-align: left;\">Individual 10 (MALE; )</td><td style=\"text-align: left;\">Neurodevelopmental disorder with motor regression, progressive spastic paraplegia, and oromotor dysfunction (OMIM:620515)</td><td style=\"text-align: left;\"><ul> <li>NM_003086.4:c.1889_1899del (heterozygous)</li> <li>NM_003086.4:c.2900G>T (heterozygous)</li> </ul></td><td style=\"text-align: left;\"><b>P3Y</b>: Cognitive regression (HP:0034332); Motor regression (HP:0033044)<br/>Short stature (HP:0004322); Spasticity (HP:0001257); Dysarthria (HP:0001260); Gait disturbance (HP:0001288); excluded: Microcephaly (HP:0000252); excluded: Spastic tetraparesis (HP:0001285); excluded: Drooling (HP:0002307); excluded: Hyperreflexia (HP:0001347)</td></tr>\n",
       "</table>"
      ],
      "text/plain": [
       "<IPython.core.display.HTML object>"
      ]
     },
     "metadata": {},
     "output_type": "display_data"
    }
   ],
   "source": [
    "individuals = cvalidator.get_error_free_individual_list()\n",
    "table = IndividualTable(individuals)\n",
    "display(HTML(table.to_html()))"
   ]
  },
  {
   "cell_type": "code",
   "execution_count": 10,
   "id": "1c10fbb9-0f20-4f44-a92f-072dcf691cb9",
   "metadata": {},
   "outputs": [
    {
     "name": "stdout",
     "output_type": "stream",
     "text": [
      "We output 10 GA4GH phenopackets to the directory phenopackets\n"
     ]
    }
   ],
   "source": [
    "encoder.output_individuals_as_phenopackets(individual_list=individuals)"
   ]
  },
  {
   "cell_type": "markdown",
   "id": "3f60ab8f-8b62-4943-811f-6b6af5cc65d4",
   "metadata": {},
   "source": [
    "# HPOA file"
   ]
  },
  {
   "cell_type": "code",
   "execution_count": 11,
   "id": "4b708001-a05a-40cf-82ea-49038a7cbbf4",
   "metadata": {},
   "outputs": [
    {
     "name": "stdout",
     "output_type": "stream",
     "text": [
      "[pyphetools] Ingested 10 GA4GH phenopackets.\n"
     ]
    }
   ],
   "source": [
    "ingestor = PhenopacketIngestor(indir=\"phenopackets\")\n",
    "ppkt_d = ingestor.get_phenopacket_dictionary()\n",
    "ppkt_list = list(ppkt_d.values())"
   ]
  },
  {
   "cell_type": "code",
   "execution_count": 12,
   "id": "cf0a189e-8b58-4406-989b-6f35296d2518",
   "metadata": {},
   "outputs": [],
   "source": [
    "builder = HpoaTableBuilder(phenopacket_list=ppkt_list)"
   ]
  },
  {
   "cell_type": "code",
   "execution_count": 13,
   "id": "6ef47489-5393-4f8d-bb7e-8b1408c72281",
   "metadata": {},
   "outputs": [
    {
     "name": "stdout",
     "output_type": "stream",
     "text": [
      "We found a total of 13 unique HPO terms\n",
      "Extracted disease: Neurodevelopmental disorder with motor regression, progressive spastic paraplegia, and oromotor dysfunction (OMIM:620515)\n"
     ]
    },
    {
     "data": {
      "text/html": [
       "<div>\n",
       "<style scoped>\n",
       "    .dataframe tbody tr th:only-of-type {\n",
       "        vertical-align: middle;\n",
       "    }\n",
       "\n",
       "    .dataframe tbody tr th {\n",
       "        vertical-align: top;\n",
       "    }\n",
       "\n",
       "    .dataframe thead th {\n",
       "        text-align: right;\n",
       "    }\n",
       "</style>\n",
       "<table border=\"1\" class=\"dataframe\">\n",
       "  <thead>\n",
       "    <tr style=\"text-align: right;\">\n",
       "      <th></th>\n",
       "      <th>#diseaseID</th>\n",
       "      <th>diseaseName</th>\n",
       "      <th>phenotypeID</th>\n",
       "      <th>phenotypeName</th>\n",
       "      <th>onsetID</th>\n",
       "      <th>onsetName</th>\n",
       "      <th>frequency</th>\n",
       "      <th>sex</th>\n",
       "      <th>negation</th>\n",
       "      <th>modifier</th>\n",
       "      <th>description</th>\n",
       "      <th>publication</th>\n",
       "      <th>evidence</th>\n",
       "      <th>biocuration</th>\n",
       "    </tr>\n",
       "  </thead>\n",
       "  <tbody>\n",
       "    <tr>\n",
       "      <th>0</th>\n",
       "      <td>OMIM:620515</td>\n",
       "      <td>Neurodevelopmental disorder with motor regression, progressive spastic paraplegia, and oromotor dysfunction</td>\n",
       "      <td>HP:0034332</td>\n",
       "      <td>Cognitive regression</td>\n",
       "      <td></td>\n",
       "      <td></td>\n",
       "      <td>8/8</td>\n",
       "      <td></td>\n",
       "      <td></td>\n",
       "      <td></td>\n",
       "      <td></td>\n",
       "      <td>PMID:36965478</td>\n",
       "      <td>PCS</td>\n",
       "      <td>ORCID:0000-0002-0736-9199</td>\n",
       "    </tr>\n",
       "    <tr>\n",
       "      <th>1</th>\n",
       "      <td>OMIM:620515</td>\n",
       "      <td>Neurodevelopmental disorder with motor regression, progressive spastic paraplegia, and oromotor dysfunction</td>\n",
       "      <td>HP:0033044</td>\n",
       "      <td>Motor regression</td>\n",
       "      <td></td>\n",
       "      <td></td>\n",
       "      <td>8/8</td>\n",
       "      <td></td>\n",
       "      <td></td>\n",
       "      <td></td>\n",
       "      <td></td>\n",
       "      <td>PMID:36965478</td>\n",
       "      <td>PCS</td>\n",
       "      <td>ORCID:0000-0002-0736-9199</td>\n",
       "    </tr>\n",
       "    <tr>\n",
       "      <th>2</th>\n",
       "      <td>OMIM:620515</td>\n",
       "      <td>Neurodevelopmental disorder with motor regression, progressive spastic paraplegia, and oromotor dysfunction</td>\n",
       "      <td>HP:0004322</td>\n",
       "      <td>Short stature</td>\n",
       "      <td></td>\n",
       "      <td></td>\n",
       "      <td>10/10</td>\n",
       "      <td></td>\n",
       "      <td></td>\n",
       "      <td></td>\n",
       "      <td></td>\n",
       "      <td>PMID:36965478</td>\n",
       "      <td>PCS</td>\n",
       "      <td>ORCID:0000-0002-0736-9199</td>\n",
       "    </tr>\n",
       "    <tr>\n",
       "      <th>3</th>\n",
       "      <td>OMIM:620515</td>\n",
       "      <td>Neurodevelopmental disorder with motor regression, progressive spastic paraplegia, and oromotor dysfunction</td>\n",
       "      <td>HP:0001257</td>\n",
       "      <td>Spasticity</td>\n",
       "      <td></td>\n",
       "      <td></td>\n",
       "      <td>4/4</td>\n",
       "      <td></td>\n",
       "      <td></td>\n",
       "      <td></td>\n",
       "      <td></td>\n",
       "      <td>PMID:36965478</td>\n",
       "      <td>PCS</td>\n",
       "      <td>ORCID:0000-0002-0736-9199</td>\n",
       "    </tr>\n",
       "    <tr>\n",
       "      <th>4</th>\n",
       "      <td>OMIM:620515</td>\n",
       "      <td>Neurodevelopmental disorder with motor regression, progressive spastic paraplegia, and oromotor dysfunction</td>\n",
       "      <td>HP:0001260</td>\n",
       "      <td>Dysarthria</td>\n",
       "      <td></td>\n",
       "      <td></td>\n",
       "      <td>8/10</td>\n",
       "      <td></td>\n",
       "      <td></td>\n",
       "      <td></td>\n",
       "      <td></td>\n",
       "      <td>PMID:36965478</td>\n",
       "      <td>PCS</td>\n",
       "      <td>ORCID:0000-0002-0736-9199</td>\n",
       "    </tr>\n",
       "  </tbody>\n",
       "</table>\n",
       "</div>"
      ],
      "text/plain": [
       "    #diseaseID  \\\n",
       "0  OMIM:620515   \n",
       "1  OMIM:620515   \n",
       "2  OMIM:620515   \n",
       "3  OMIM:620515   \n",
       "4  OMIM:620515   \n",
       "\n",
       "                                                                                                   diseaseName  \\\n",
       "0  Neurodevelopmental disorder with motor regression, progressive spastic paraplegia, and oromotor dysfunction   \n",
       "1  Neurodevelopmental disorder with motor regression, progressive spastic paraplegia, and oromotor dysfunction   \n",
       "2  Neurodevelopmental disorder with motor regression, progressive spastic paraplegia, and oromotor dysfunction   \n",
       "3  Neurodevelopmental disorder with motor regression, progressive spastic paraplegia, and oromotor dysfunction   \n",
       "4  Neurodevelopmental disorder with motor regression, progressive spastic paraplegia, and oromotor dysfunction   \n",
       "\n",
       "  phenotypeID         phenotypeName onsetID onsetName frequency sex negation  \\\n",
       "0  HP:0034332  Cognitive regression                         8/8                \n",
       "1  HP:0033044      Motor regression                         8/8                \n",
       "2  HP:0004322         Short stature                       10/10                \n",
       "3  HP:0001257            Spasticity                         4/4                \n",
       "4  HP:0001260            Dysarthria                        8/10                \n",
       "\n",
       "  modifier description    publication evidence                biocuration  \n",
       "0                       PMID:36965478      PCS  ORCID:0000-0002-0736-9199  \n",
       "1                       PMID:36965478      PCS  ORCID:0000-0002-0736-9199  \n",
       "2                       PMID:36965478      PCS  ORCID:0000-0002-0736-9199  \n",
       "3                       PMID:36965478      PCS  ORCID:0000-0002-0736-9199  \n",
       "4                       PMID:36965478      PCS  ORCID:0000-0002-0736-9199  "
      ]
     },
     "execution_count": 13,
     "metadata": {},
     "output_type": "execute_result"
    }
   ],
   "source": [
    "PMID = \"PMID:36965478\"\n",
    "hpoa_table_creator = builder.autosomal_recessive(PMID).build()\n",
    "df = hpoa_table_creator.get_dataframe()\n",
    "df.head()"
   ]
  },
  {
   "cell_type": "code",
   "execution_count": 14,
   "id": "ea30d226-e94a-40f8-8c3d-fb87bb3d5178",
   "metadata": {},
   "outputs": [
    {
     "name": "stdout",
     "output_type": "stream",
     "text": [
      "Wrote HPOA disease file to OMIM-620515.tab\n"
     ]
    }
   ],
   "source": [
    "hpoa_table_creator.write_data_frame()"
   ]
  },
  {
   "cell_type": "code",
   "execution_count": null,
   "id": "c0bb2ea0-06e1-418b-a53d-cdb7ba938291",
   "metadata": {},
   "outputs": [],
   "source": []
  }
 ],
 "metadata": {
  "kernelspec": {
   "display_name": "Python 3 (ipykernel)",
   "language": "python",
   "name": "python3"
  },
  "language_info": {
   "codemirror_mode": {
    "name": "ipython",
    "version": 3
   },
   "file_extension": ".py",
   "mimetype": "text/x-python",
   "name": "python",
   "nbconvert_exporter": "python",
   "pygments_lexer": "ipython3",
   "version": "3.8.10"
  }
 },
 "nbformat": 4,
 "nbformat_minor": 5
}
