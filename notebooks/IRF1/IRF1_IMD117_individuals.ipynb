{
 "cells": [
  {
   "cell_type": "markdown",
   "metadata": {},
   "source": [
    "# IRF1\n",
    "[immunodeficiency-117 (IMD117)](https://omim.org/entry/620668) is caused by homozygous mutation in the IRF1 gene."
   ]
  },
  {
   "cell_type": "code",
   "execution_count": 3,
   "metadata": {},
   "outputs": [
    {
     "name": "stdout",
     "output_type": "stream",
     "text": [
      "Using pyphetools version 0.9.84\n"
     ]
    }
   ],
   "source": [
    "from pyphetools.creation import TemplateImporter\n",
    "from pyphetools.visualization import IndividualTable, QcVisualizer\n",
    "from IPython.display import display, HTML\n",
    "import pyphetools\n",
    "print(f\"Using pyphetools version {pyphetools.__version__}\")"
   ]
  },
  {
   "cell_type": "code",
   "execution_count": 5,
   "metadata": {},
   "outputs": [],
   "source": [
    "template = \"input/IRF1_IMD117_individuals.xlsx\"\n",
    "created_by = \"0000-0002-0736-9199\""
   ]
  },
  {
   "cell_type": "code",
   "execution_count": 8,
   "metadata": {},
   "outputs": [
    {
     "name": "stdout",
     "output_type": "stream",
     "text": [
      "HPO version 2024-04-26\n",
      "Created encoders for 23 fields\n",
      "Importing OMIM:620668, Immunodeficiency 117, mycobacteriosis, autosomal recessive, HGNC:6116, IRF1,  NM_002198.3\n",
      "[INFO] encoding variant \"c.103C>T\"\n",
      "https://rest.variantvalidator.org/VariantValidator/variantvalidator/hg38/NM_002198.3%3Ac.103C>T/NM_002198.3?content-type=application%2Fjson\n",
      "[INFO] encoding variant \"c.385C>T\"\n",
      "https://rest.variantvalidator.org/VariantValidator/variantvalidator/hg38/NM_002198.3%3Ac.385C>T/NM_002198.3?content-type=application%2Fjson\n",
      "We output 2 GA4GH phenopackets to the directory phenopackets\n"
     ]
    }
   ],
   "source": [
    "timporter = TemplateImporter(template=template,  created_by=created_by)\n",
    "individual_list, cvalidator = timporter.import_phenopackets_from_template()"
   ]
  },
  {
   "cell_type": "code",
   "execution_count": 9,
   "metadata": {},
   "outputs": [
    {
     "data": {
      "text/html": [
       "<h2>Cohort validation</h2>\n",
       "<p>No errors found for the cohort with 2 individuals</p>"
      ],
      "text/plain": [
       "<IPython.core.display.HTML object>"
      ]
     },
     "metadata": {},
     "output_type": "display_data"
    }
   ],
   "source": [
    "qc = QcVisualizer(cohort_validator=cvalidator)\n",
    "display(HTML(qc.to_summary_html()))"
   ]
  },
  {
   "cell_type": "code",
   "execution_count": 10,
   "metadata": {},
   "outputs": [
    {
     "data": {
      "text/html": [
       "<table style=\"border: 2px solid black; align: \"left\">\n",
       "<caption>2 phenopackets - PMID:36736301 (n=2)</caption>\n",
       "<tr><th style=\"text-align: left;font-weight: bold;\">Individual</th><th style=\"text-align: left;font-weight: bold;\">Disease</th><th style=\"text-align: left;font-weight: bold;\">Genotype</th><th style=\"text-align: left;font-weight: bold;\">Phenotypic features</th></tr>\n",
       "<tr><td style=\"text-align: left;\">P1 (FEMALE; P6Y)</td><td style=\"text-align: left;\">Immunodeficiency 117, mycobacteriosis, autosomal recessive (OMIM:620668)</td><td style=\"text-align: left;\">NM_002198.3:c.385C>T (homozygous)</td><td style=\"text-align: left;\"><b>P1M</b>: BCGitis (HP:0020086)<br/><b>P5M</b>: BCGosis (HP:0020087)<br/>Recurrent mycobacterial infections (HP:0011274); Histoplasmosis (HP:0032256); Recurrent lower respiratory tract infections (HP:0002783); Failure to thrive (HP:0001508)</td></tr>\n",
       "<tr><td style=\"text-align: left;\">P2 (FEMALE; P5Y)</td><td style=\"text-align: left;\">Immunodeficiency 117, mycobacteriosis, autosomal recessive (OMIM:620668)</td><td style=\"text-align: left;\">NM_002198.3:c.103C>T (homozygous)</td><td style=\"text-align: left;\"><b>P5M</b>: BCGitis (HP:0020086)<br/>Recurrent mycobacterial infections (HP:0011274); excluded: Histoplasmosis (HP:0032256); excluded: BCGosis (HP:0020087); excluded: Recurrent lower respiratory tract infections (HP:0002783); excluded: Failure to thrive (HP:0001508)</td></tr>\n",
       "</table>"
      ],
      "text/plain": [
       "<IPython.core.display.HTML object>"
      ]
     },
     "metadata": {},
     "output_type": "display_data"
    }
   ],
   "source": [
    "table = IndividualTable(cvalidator.get_error_free_individual_list())\n",
    "display(HTML(table.to_html()))"
   ]
  },
  {
   "cell_type": "code",
   "execution_count": 11,
   "metadata": {},
   "outputs": [
    {
     "name": "stdout",
     "output_type": "stream",
     "text": [
      "[pyphetools] Ingested 2 GA4GH phenopackets.\n",
      "\tImmunodeficiency 117, mycobacteriosis, autosomal recessive (OMIM:620668): n=2\n",
      "We found a total of 6 unique HPO terms\n",
      "Extracted disease: Immunodeficiency 117, mycobacteriosis, autosomal recessive (OMIM:620668)\n",
      "Wrote HPOA disease file to OMIM-620668.tab\n"
     ]
    },
    {
     "data": {
      "text/html": [
       "<div>\n",
       "<style scoped>\n",
       "    .dataframe tbody tr th:only-of-type {\n",
       "        vertical-align: middle;\n",
       "    }\n",
       "\n",
       "    .dataframe tbody tr th {\n",
       "        vertical-align: top;\n",
       "    }\n",
       "\n",
       "    .dataframe thead th {\n",
       "        text-align: right;\n",
       "    }\n",
       "</style>\n",
       "<table border=\"1\" class=\"dataframe\">\n",
       "  <thead>\n",
       "    <tr style=\"text-align: right;\">\n",
       "      <th></th>\n",
       "      <th>#diseaseID</th>\n",
       "      <th>diseaseName</th>\n",
       "      <th>phenotypeID</th>\n",
       "      <th>phenotypeName</th>\n",
       "      <th>onsetID</th>\n",
       "      <th>onsetName</th>\n",
       "      <th>frequency</th>\n",
       "      <th>sex</th>\n",
       "      <th>negation</th>\n",
       "      <th>modifier</th>\n",
       "      <th>description</th>\n",
       "      <th>publication</th>\n",
       "      <th>evidence</th>\n",
       "      <th>biocuration</th>\n",
       "    </tr>\n",
       "  </thead>\n",
       "  <tbody>\n",
       "    <tr>\n",
       "      <th>0</th>\n",
       "      <td>OMIM:620668</td>\n",
       "      <td>Immunodeficiency 117, mycobacteriosis, autosom...</td>\n",
       "      <td>HP:0011274</td>\n",
       "      <td>Recurrent mycobacterial infections</td>\n",
       "      <td></td>\n",
       "      <td></td>\n",
       "      <td>2/2</td>\n",
       "      <td></td>\n",
       "      <td></td>\n",
       "      <td></td>\n",
       "      <td></td>\n",
       "      <td>PMID:36736301</td>\n",
       "      <td>PCS</td>\n",
       "      <td>ORCID:0000-0002-0736-9199[2024-05-10]</td>\n",
       "    </tr>\n",
       "    <tr>\n",
       "      <th>1</th>\n",
       "      <td>OMIM:620668</td>\n",
       "      <td>Immunodeficiency 117, mycobacteriosis, autosom...</td>\n",
       "      <td>HP:0032256</td>\n",
       "      <td>Histoplasmosis</td>\n",
       "      <td></td>\n",
       "      <td></td>\n",
       "      <td>1/2</td>\n",
       "      <td></td>\n",
       "      <td></td>\n",
       "      <td></td>\n",
       "      <td></td>\n",
       "      <td>PMID:36736301</td>\n",
       "      <td>PCS</td>\n",
       "      <td>ORCID:0000-0002-0736-9199[2024-05-10]</td>\n",
       "    </tr>\n",
       "    <tr>\n",
       "      <th>2</th>\n",
       "      <td>OMIM:620668</td>\n",
       "      <td>Immunodeficiency 117, mycobacteriosis, autosom...</td>\n",
       "      <td>HP:0020086</td>\n",
       "      <td>BCGitis</td>\n",
       "      <td></td>\n",
       "      <td></td>\n",
       "      <td>2/2</td>\n",
       "      <td></td>\n",
       "      <td></td>\n",
       "      <td></td>\n",
       "      <td></td>\n",
       "      <td>PMID:36736301</td>\n",
       "      <td>PCS</td>\n",
       "      <td>ORCID:0000-0002-0736-9199[2024-05-10]</td>\n",
       "    </tr>\n",
       "    <tr>\n",
       "      <th>3</th>\n",
       "      <td>OMIM:620668</td>\n",
       "      <td>Immunodeficiency 117, mycobacteriosis, autosom...</td>\n",
       "      <td>HP:0020087</td>\n",
       "      <td>BCGosis</td>\n",
       "      <td></td>\n",
       "      <td></td>\n",
       "      <td>1/2</td>\n",
       "      <td></td>\n",
       "      <td></td>\n",
       "      <td></td>\n",
       "      <td></td>\n",
       "      <td>PMID:36736301</td>\n",
       "      <td>PCS</td>\n",
       "      <td>ORCID:0000-0002-0736-9199[2024-05-10]</td>\n",
       "    </tr>\n",
       "    <tr>\n",
       "      <th>4</th>\n",
       "      <td>OMIM:620668</td>\n",
       "      <td>Immunodeficiency 117, mycobacteriosis, autosom...</td>\n",
       "      <td>HP:0002783</td>\n",
       "      <td>Recurrent lower respiratory tract infections</td>\n",
       "      <td></td>\n",
       "      <td></td>\n",
       "      <td>1/2</td>\n",
       "      <td></td>\n",
       "      <td></td>\n",
       "      <td></td>\n",
       "      <td></td>\n",
       "      <td>PMID:36736301</td>\n",
       "      <td>PCS</td>\n",
       "      <td>ORCID:0000-0002-0736-9199[2024-05-10]</td>\n",
       "    </tr>\n",
       "    <tr>\n",
       "      <th>5</th>\n",
       "      <td>OMIM:620668</td>\n",
       "      <td>Immunodeficiency 117, mycobacteriosis, autosom...</td>\n",
       "      <td>HP:0001508</td>\n",
       "      <td>Failure to thrive</td>\n",
       "      <td></td>\n",
       "      <td></td>\n",
       "      <td>1/2</td>\n",
       "      <td></td>\n",
       "      <td></td>\n",
       "      <td></td>\n",
       "      <td></td>\n",
       "      <td>PMID:36736301</td>\n",
       "      <td>PCS</td>\n",
       "      <td>ORCID:0000-0002-0736-9199[2024-05-10]</td>\n",
       "    </tr>\n",
       "    <tr>\n",
       "      <th>6</th>\n",
       "      <td>OMIM:620668</td>\n",
       "      <td>Immunodeficiency 117, mycobacteriosis, autosom...</td>\n",
       "      <td>HP:0003593</td>\n",
       "      <td>Infantile onset</td>\n",
       "      <td></td>\n",
       "      <td></td>\n",
       "      <td>2/2</td>\n",
       "      <td></td>\n",
       "      <td></td>\n",
       "      <td></td>\n",
       "      <td></td>\n",
       "      <td>PMID:36736301</td>\n",
       "      <td>PCS</td>\n",
       "      <td>ORCID:0000-0002-0736-9199[2024-05-10]</td>\n",
       "    </tr>\n",
       "    <tr>\n",
       "      <th>7</th>\n",
       "      <td>OMIM:620668</td>\n",
       "      <td>Immunodeficiency 117, mycobacteriosis, autosom...</td>\n",
       "      <td>HP:0000007</td>\n",
       "      <td>Autosomal recessive inheritance</td>\n",
       "      <td></td>\n",
       "      <td></td>\n",
       "      <td></td>\n",
       "      <td></td>\n",
       "      <td></td>\n",
       "      <td></td>\n",
       "      <td></td>\n",
       "      <td>PMID:36736301</td>\n",
       "      <td>PCS</td>\n",
       "      <td>ORCID:0000-0002-0736-9199[2024-05-10]</td>\n",
       "    </tr>\n",
       "  </tbody>\n",
       "</table>\n",
       "</div>"
      ],
      "text/plain": [
       "    #diseaseID  ...                            biocuration\n",
       "0  OMIM:620668  ...  ORCID:0000-0002-0736-9199[2024-05-10]\n",
       "1  OMIM:620668  ...  ORCID:0000-0002-0736-9199[2024-05-10]\n",
       "2  OMIM:620668  ...  ORCID:0000-0002-0736-9199[2024-05-10]\n",
       "3  OMIM:620668  ...  ORCID:0000-0002-0736-9199[2024-05-10]\n",
       "4  OMIM:620668  ...  ORCID:0000-0002-0736-9199[2024-05-10]\n",
       "5  OMIM:620668  ...  ORCID:0000-0002-0736-9199[2024-05-10]\n",
       "6  OMIM:620668  ...  ORCID:0000-0002-0736-9199[2024-05-10]\n",
       "7  OMIM:620668  ...  ORCID:0000-0002-0736-9199[2024-05-10]\n",
       "\n",
       "[8 rows x 14 columns]"
      ]
     },
     "execution_count": 11,
     "metadata": {},
     "output_type": "execute_result"
    }
   ],
   "source": [
    "pmid = \"PMID:36736301\"\n",
    "timporter.create_hpoa_from_phenopackets(pmid=pmid, moi=\"Autosomal recessive\")"
   ]
  }
 ],
 "metadata": {
  "kernelspec": {
   "display_name": "ps24venv",
   "language": "python",
   "name": "python3"
  },
  "language_info": {
   "codemirror_mode": {
    "name": "ipython",
    "version": 3
   },
   "file_extension": ".py",
   "mimetype": "text/x-python",
   "name": "python",
   "nbconvert_exporter": "python",
   "pygments_lexer": "ipython3",
   "version": "3.9.6"
  }
 },
 "nbformat": 4,
 "nbformat_minor": 2
}
