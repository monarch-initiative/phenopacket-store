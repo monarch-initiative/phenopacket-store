{
 "cells": [
  {
   "cell_type": "markdown",
   "metadata": {},
   "source": [
    "# IRF1\n",
    "[immunodeficiency-117 (IMD117)](https://omim.org/entry/620668) is caused by homozygous mutation in the IRF1 gene."
   ]
  },
  {
   "cell_type": "code",
   "execution_count": 1,
   "metadata": {},
   "outputs": [
    {
     "name": "stdout",
     "output_type": "stream",
     "text": [
      "Using pyphetools version 0.9.94\n"
     ]
    },
    {
     "name": "stderr",
     "output_type": "stream",
     "text": [
      "/Users/robin/GIT/phenopacket-store/ps24venv/lib/python3.9/site-packages/urllib3/__init__.py:35: NotOpenSSLWarning: urllib3 v2 only supports OpenSSL 1.1.1+, currently the 'ssl' module is compiled with 'LibreSSL 2.8.3'. See: https://github.com/urllib3/urllib3/issues/3020\n",
      "  warnings.warn(\n"
     ]
    }
   ],
   "source": [
    "from pyphetools.creation import TemplateImporter, Moi\n",
    "from pyphetools.visualization import IndividualTable, QcVisualizer\n",
    "from IPython.display import display, HTML\n",
    "import pyphetools\n",
    "print(f\"Using pyphetools version {pyphetools.__version__}\")"
   ]
  },
  {
   "cell_type": "code",
   "execution_count": 2,
   "metadata": {},
   "outputs": [],
   "source": [
    "template = \"input/IRF1_IMD117_individuals.xlsx\"\n",
    "created_by = \"0000-0002-0736-9199\""
   ]
  },
  {
   "cell_type": "code",
   "execution_count": 3,
   "metadata": {},
   "outputs": [
    {
     "name": "stdout",
     "output_type": "stream",
     "text": [
      "HPO version 2024-07-01\n",
      "Created encoders for 50 fields\n",
      "Importing OMIM:620668, Immunodeficiency 117, mycobacteriosis, autosomal recessive, HGNC:6116, IRF1,  NM_002198.3\n",
      "We output 2 GA4GH phenopackets to the directory phenopackets\n"
     ]
    }
   ],
   "source": [
    "timporter = TemplateImporter(template=template,  created_by=created_by)\n",
    "individual_list, cvalidator = timporter.import_phenopackets_from_template()"
   ]
  },
  {
   "cell_type": "code",
   "execution_count": 4,
   "metadata": {},
   "outputs": [
    {
     "data": {
      "text/html": [
       "<h2>Cohort validation</h2>\n",
       "<p>No errors found for the cohort with 2 individuals</p>"
      ],
      "text/plain": [
       "<IPython.core.display.HTML object>"
      ]
     },
     "metadata": {},
     "output_type": "display_data"
    }
   ],
   "source": [
    "qc = QcVisualizer(cohort_validator=cvalidator)\n",
    "display(HTML(qc.to_summary_html()))"
   ]
  },
  {
   "cell_type": "code",
   "execution_count": 5,
   "metadata": {},
   "outputs": [
    {
     "data": {
      "text/html": [
       "<table style=\"border: 2px solid black; align: \"left\">\n",
       "<caption>2 phenopackets - PMID:36736301 (n=2)</caption>\n",
       "<tr><th style=\"text-align: left;font-weight: bold;\">Individual</th><th style=\"text-align: left;font-weight: bold;\">Disease</th><th style=\"text-align: left;font-weight: bold;\">Genotype</th><th style=\"text-align: left;font-weight: bold;\">Phenotypic features</th></tr>\n",
       "<tr><td style=\"text-align: left;\">P1 (FEMALE; P6Y)</td><td style=\"text-align: left;\">Immunodeficiency 117, mycobacteriosis, autosomal recessive (OMIM:620668)</td><td style=\"text-align: left;\">NM_002198.3:c.385C>T (homozygous)</td><td style=\"text-align: left;\"><b>P5M</b>: BCGosis (HP:0020087); Diarrhea (HP:0002014); Splenomegaly (HP:0001744); Hepatomegaly (HP:0002240)<br/><b>P8M</b>: Intestinal malrotation (HP:0002566)<br/><b>P3Y</b>: Decreased proportion of naive CD8 T cells (HP:0410377); Decreased proportion of central memory CD8-positive, alpha-beta T cells (HP:0410389); Increased proportion of effector memory CD8-positive, alpha-beta T cells (HP:0410395); T lymphocytopenia (HP:0005403); Fever (HP:0001945)<br/><b>P5Y</b>: Positive Mycobacterium avium sputum culture (HP:0430108); Sinusitis (HP:0000246)<br/>Recurrent mycobacterial infections (HP:0011274); Histoplasmosis (HP:0032256); Recurrent lower respiratory tract infections (HP:0002783); Failure to thrive (HP:0001508); Reduced natural killer cell count (HP:0040218); Increased proportion of CD8-positive, alpha-beta TEMRA T cells (HP:0500265); Lymphadenitis (HP:0002840); Mediastinal lymphadenopathy (HP:0100721); Nontuberculous mycobacterial pulmonary infection (HP:0032261); Pneumonia (HP:0002090); Increased circulating IgA level (HP:0003261); Thrombocytopenia (HP:0001873); Anemia (HP:0001903); Leukopenia (HP:0001882); Cafe-au-lait spot (HP:0000957); Disseminated nontuberculous mycobacterial infection (HP:0032283); excluded: BCGitis (HP:0020086); excluded: Increased proportion of transitional B cells (HP:0030381); excluded: Pustular rash (HP:0033605); excluded: Axillary lymphadenopathy (HP:0034752); excluded: Clubbing (HP:0001217)</td></tr>\n",
       "<tr><td style=\"text-align: left;\">P2 (FEMALE; P5Y)</td><td style=\"text-align: left;\">Immunodeficiency 117, mycobacteriosis, autosomal recessive (OMIM:620668)</td><td style=\"text-align: left;\">NM_002198.3:c.103C>T (homozygous)</td><td style=\"text-align: left;\"><b>P5M</b>: BCGitis (HP:0020086)<br/><b>P5Y</b>: Fever (HP:0001945); Clubbing (HP:0001217)<br/><b>P6Y</b>: Decreased proportion of naive CD8 T cells (HP:0410377); Decreased proportion of central memory CD8-positive, alpha-beta T cells (HP:0410389); Increased proportion of transitional B cells (HP:0030381); Increased proportion of effector memory CD8-positive, alpha-beta T cells (HP:0410395)<br/>Recurrent mycobacterial infections (HP:0011274); Reduced natural killer cell count (HP:0040218); Increased proportion of CD8-positive, alpha-beta TEMRA T cells (HP:0500265); Lymphadenitis (HP:0002840); Mediastinal lymphadenopathy (HP:0100721); Nontuberculous mycobacterial pulmonary infection (HP:0032261); Pneumonia (HP:0002090); Pustular rash (HP:0033605); Axillary lymphadenopathy (HP:0034752); excluded: Histoplasmosis (HP:0032256); excluded: BCGosis (HP:0020087); excluded: Recurrent lower respiratory tract infections (HP:0002783); excluded: Failure to thrive (HP:0001508); excluded: T lymphocytopenia (HP:0005403); excluded: Increased circulating IgA level (HP:0003261); excluded: Sinusitis (HP:0000246); excluded: Thrombocytopenia (HP:0001873); excluded: Anemia (HP:0001903); excluded: Leukopenia (HP:0001882); excluded: Diarrhea (HP:0002014); excluded: Cafe-au-lait spot (HP:0000957); excluded: Splenomegaly (HP:0001744); excluded: Hepatomegaly (HP:0002240); excluded: Intestinal malrotation (HP:0002566); excluded: Disseminated nontuberculous mycobacterial infection (HP:0032283)</td></tr>\n",
       "</table>"
      ],
      "text/plain": [
       "<IPython.core.display.HTML object>"
      ]
     },
     "metadata": {},
     "output_type": "display_data"
    }
   ],
   "source": [
    "table = IndividualTable(cvalidator.get_error_free_individual_list())\n",
    "display(HTML(table.to_html()))"
   ]
  },
  {
   "cell_type": "code",
   "execution_count": 8,
   "metadata": {},
   "outputs": [
    {
     "name": "stdout",
     "output_type": "stream",
     "text": [
      "[pyphetools] Ingested 2 GA4GH phenopackets.\n",
      "[INFO] Extracted 2 from 2 phenopackets with OMIM:620668\n",
      "\n",
      "\tImmunodeficiency 117, mycobacteriosis, autosomal recessive (OMIM:620668): n=2\n",
      "We found a total of 33 unique HPO terms\n",
      "Extracted disease: Immunodeficiency 117, mycobacteriosis, autosomal recessive (OMIM:620668)\n",
      "Wrote HPOA disease file to OMIM-620668.tab\n"
     ]
    }
   ],
   "source": [
    "pmid = \"PMID:36736301\"\n",
    "df = timporter.create_hpoa_from_phenopackets(pmid=pmid, mode_of_inheritance=Moi.AD, target=\"OMIM:620668\")"
   ]
  }
 ],
 "metadata": {
  "kernelspec": {
   "display_name": "ps24venv",
   "language": "python",
   "name": "python3"
  },
  "language_info": {
   "codemirror_mode": {
    "name": "ipython",
    "version": 3
   },
   "file_extension": ".py",
   "mimetype": "text/x-python",
   "name": "python",
   "nbconvert_exporter": "python",
   "pygments_lexer": "ipython3",
   "version": "3.9.6"
  }
 },
 "nbformat": 4,
 "nbformat_minor": 2
}
