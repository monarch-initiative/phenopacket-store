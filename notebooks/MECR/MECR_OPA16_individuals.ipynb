{
 "cells": [
  {
   "cell_type": "markdown",
   "metadata": {},
   "source": [
    "# MECR\n",
    "[optic atrophy-16 (OPA16)](https://omim.org/entry/620629) is caused by homozygous mutation in the MECR gene."
   ]
  },
  {
   "cell_type": "code",
   "execution_count": 3,
   "metadata": {},
   "outputs": [
    {
     "name": "stdout",
     "output_type": "stream",
     "text": [
      "Using pyphetools version 0.9.84\n"
     ]
    }
   ],
   "source": [
    "from pyphetools.creation import TemplateImporter\n",
    "from pyphetools.visualization import IndividualTable, QcVisualizer\n",
    "from IPython.display import display, HTML\n",
    "import pyphetools\n",
    "print(f\"Using pyphetools version {pyphetools.__version__}\")"
   ]
  },
  {
   "cell_type": "code",
   "execution_count": 5,
   "metadata": {},
   "outputs": [],
   "source": [
    "template = \"input/MECR_OPA16_individuals.xlsx\"\n",
    "created_by = \"0000-0002-0736-9199\""
   ]
  },
  {
   "cell_type": "code",
   "execution_count": 6,
   "metadata": {},
   "outputs": [
    {
     "name": "stdout",
     "output_type": "stream",
     "text": [
      "HPO version 2024-04-26\n",
      "Created encoders for 25 fields\n",
      "Importing OMIM:620629, Optic atrophy 16, HGNC:19691, MECR,  NM_016011.5\n",
      "[INFO] encoding variant \"c.772C>T\"\n",
      "https://rest.variantvalidator.org/VariantValidator/variantvalidator/hg38/NM_016011.5%3Ac.772C>T/NM_016011.5?content-type=application%2Fjson\n",
      "We output 2 GA4GH phenopackets to the directory phenopackets\n"
     ]
    }
   ],
   "source": [
    "timporter = TemplateImporter(template=template,  created_by=created_by)\n",
    "individual_list, cvalidator = timporter.import_phenopackets_from_template()"
   ]
  },
  {
   "cell_type": "code",
   "execution_count": 7,
   "metadata": {},
   "outputs": [
    {
     "data": {
      "text/html": [
       "<h2>Cohort validation</h2>\n",
       "<p>No errors found for the cohort with 2 individuals</p>"
      ],
      "text/plain": [
       "<IPython.core.display.HTML object>"
      ]
     },
     "metadata": {},
     "output_type": "display_data"
    }
   ],
   "source": [
    "qc = QcVisualizer(cohort_validator=cvalidator)\n",
    "display(HTML(qc.to_summary_html()))"
   ]
  },
  {
   "cell_type": "code",
   "execution_count": 8,
   "metadata": {},
   "outputs": [
    {
     "data": {
      "text/html": [
       "<table style=\"border: 2px solid black; align: \"left\">\n",
       "<caption>2 phenopackets - PMID:37734847 (n=2)</caption>\n",
       "<tr><th style=\"text-align: left;font-weight: bold;\">Individual</th><th style=\"text-align: left;font-weight: bold;\">Disease</th><th style=\"text-align: left;font-weight: bold;\">Genotype</th><th style=\"text-align: left;font-weight: bold;\">Phenotypic features</th></tr>\n",
       "<tr><td style=\"text-align: left;\">Patient 1 (FEMALE; P50Y)</td><td style=\"text-align: left;\">Optic atrophy 16 (OMIM:620629)</td><td style=\"text-align: left;\">NM_016011.5:c.772C>T (homozygous)</td><td style=\"text-align: left;\"><b>P6Y</b>: Reduced visual acuity (HP:0007663)<br/><b>P12Y</b>: Headache (HP:0002315)<br/><b>P22Y</b>: Central scotoma (HP:0000603)<br/><b>P28Y</b>: Visual loss (HP:0000572)<br/><b>P44Y</b>: Dyschromatopsia (HP:0007641); Temporal optic disc pallor (HP:0012511)<br/><b>P45Y</b>: Sensorineural hearing impairment (HP:0000407)<br/>Optic atrophy (HP:0000648)</td></tr>\n",
       "<tr><td style=\"text-align: left;\">Patient 2 (FEMALE; P40Y)</td><td style=\"text-align: left;\">Optic atrophy 16 (OMIM:620629)</td><td style=\"text-align: left;\">NM_016011.5:c.772C>T (homozygous)</td><td style=\"text-align: left;\"><b>P14Y</b>: Headache (HP:0002315)<br/><b>P18Y</b>: Visual loss (HP:0000572)<br/><b>P19Y</b>: Central scotoma (HP:0000603)<br/><b>P34Y</b>: Dyschromatopsia (HP:0007641); Temporal optic disc pallor (HP:0012511)<br/><b>P38Y</b>: Sensorineural hearing impairment (HP:0000407)<br/>Optic atrophy (HP:0000648); excluded: Reduced visual acuity (HP:0007663)</td></tr>\n",
       "</table>"
      ],
      "text/plain": [
       "<IPython.core.display.HTML object>"
      ]
     },
     "metadata": {},
     "output_type": "display_data"
    }
   ],
   "source": [
    "table = IndividualTable(cvalidator.get_error_free_individual_list())\n",
    "display(HTML(table.to_html()))"
   ]
  },
  {
   "cell_type": "code",
   "execution_count": 9,
   "metadata": {},
   "outputs": [
    {
     "name": "stdout",
     "output_type": "stream",
     "text": [
      "[pyphetools] Ingested 2 GA4GH phenopackets.\n",
      "[INFO] Extracted 2 from 2 phenopackets with OMIM:620629\n",
      "\n",
      "\tOptic atrophy 16 (OMIM:620629): n=2\n",
      "We found a total of 8 unique HPO terms\n",
      "Extracted disease: Optic atrophy 16 (OMIM:620629)\n",
      "Wrote HPOA disease file to OMIM-620629.tab\n"
     ]
    },
    {
     "data": {
      "text/html": [
       "<div>\n",
       "<style scoped>\n",
       "    .dataframe tbody tr th:only-of-type {\n",
       "        vertical-align: middle;\n",
       "    }\n",
       "\n",
       "    .dataframe tbody tr th {\n",
       "        vertical-align: top;\n",
       "    }\n",
       "\n",
       "    .dataframe thead th {\n",
       "        text-align: right;\n",
       "    }\n",
       "</style>\n",
       "<table border=\"1\" class=\"dataframe\">\n",
       "  <thead>\n",
       "    <tr style=\"text-align: right;\">\n",
       "      <th></th>\n",
       "      <th>#diseaseID</th>\n",
       "      <th>diseaseName</th>\n",
       "      <th>phenotypeID</th>\n",
       "      <th>phenotypeName</th>\n",
       "      <th>onsetID</th>\n",
       "      <th>onsetName</th>\n",
       "      <th>frequency</th>\n",
       "      <th>sex</th>\n",
       "      <th>negation</th>\n",
       "      <th>modifier</th>\n",
       "      <th>description</th>\n",
       "      <th>publication</th>\n",
       "      <th>evidence</th>\n",
       "      <th>biocuration</th>\n",
       "    </tr>\n",
       "  </thead>\n",
       "  <tbody>\n",
       "    <tr>\n",
       "      <th>0</th>\n",
       "      <td>OMIM:620629</td>\n",
       "      <td>Optic atrophy 16</td>\n",
       "      <td>HP:0000407</td>\n",
       "      <td>Sensorineural hearing impairment</td>\n",
       "      <td></td>\n",
       "      <td></td>\n",
       "      <td>2/2</td>\n",
       "      <td></td>\n",
       "      <td></td>\n",
       "      <td></td>\n",
       "      <td></td>\n",
       "      <td>PMID:37734847</td>\n",
       "      <td>PCS</td>\n",
       "      <td>ORCID:0000-0002-0736-9199[2024-05-10]</td>\n",
       "    </tr>\n",
       "    <tr>\n",
       "      <th>1</th>\n",
       "      <td>OMIM:620629</td>\n",
       "      <td>Optic atrophy 16</td>\n",
       "      <td>HP:0002315</td>\n",
       "      <td>Headache</td>\n",
       "      <td></td>\n",
       "      <td></td>\n",
       "      <td>2/2</td>\n",
       "      <td></td>\n",
       "      <td></td>\n",
       "      <td></td>\n",
       "      <td></td>\n",
       "      <td>PMID:37734847</td>\n",
       "      <td>PCS</td>\n",
       "      <td>ORCID:0000-0002-0736-9199[2024-05-10]</td>\n",
       "    </tr>\n",
       "    <tr>\n",
       "      <th>2</th>\n",
       "      <td>OMIM:620629</td>\n",
       "      <td>Optic atrophy 16</td>\n",
       "      <td>HP:0007641</td>\n",
       "      <td>Dyschromatopsia</td>\n",
       "      <td></td>\n",
       "      <td></td>\n",
       "      <td>2/2</td>\n",
       "      <td></td>\n",
       "      <td></td>\n",
       "      <td></td>\n",
       "      <td></td>\n",
       "      <td>PMID:37734847</td>\n",
       "      <td>PCS</td>\n",
       "      <td>ORCID:0000-0002-0736-9199[2024-05-10]</td>\n",
       "    </tr>\n",
       "    <tr>\n",
       "      <th>3</th>\n",
       "      <td>OMIM:620629</td>\n",
       "      <td>Optic atrophy 16</td>\n",
       "      <td>HP:0012511</td>\n",
       "      <td>Temporal optic disc pallor</td>\n",
       "      <td></td>\n",
       "      <td></td>\n",
       "      <td>2/2</td>\n",
       "      <td></td>\n",
       "      <td></td>\n",
       "      <td></td>\n",
       "      <td></td>\n",
       "      <td>PMID:37734847</td>\n",
       "      <td>PCS</td>\n",
       "      <td>ORCID:0000-0002-0736-9199[2024-05-10]</td>\n",
       "    </tr>\n",
       "    <tr>\n",
       "      <th>4</th>\n",
       "      <td>OMIM:620629</td>\n",
       "      <td>Optic atrophy 16</td>\n",
       "      <td>HP:0000603</td>\n",
       "      <td>Central scotoma</td>\n",
       "      <td></td>\n",
       "      <td></td>\n",
       "      <td>2/2</td>\n",
       "      <td></td>\n",
       "      <td></td>\n",
       "      <td></td>\n",
       "      <td></td>\n",
       "      <td>PMID:37734847</td>\n",
       "      <td>PCS</td>\n",
       "      <td>ORCID:0000-0002-0736-9199[2024-05-10]</td>\n",
       "    </tr>\n",
       "    <tr>\n",
       "      <th>5</th>\n",
       "      <td>OMIM:620629</td>\n",
       "      <td>Optic atrophy 16</td>\n",
       "      <td>HP:0007663</td>\n",
       "      <td>Reduced visual acuity</td>\n",
       "      <td></td>\n",
       "      <td></td>\n",
       "      <td>1/2</td>\n",
       "      <td></td>\n",
       "      <td></td>\n",
       "      <td></td>\n",
       "      <td></td>\n",
       "      <td>PMID:37734847</td>\n",
       "      <td>PCS</td>\n",
       "      <td>ORCID:0000-0002-0736-9199[2024-05-10]</td>\n",
       "    </tr>\n",
       "    <tr>\n",
       "      <th>6</th>\n",
       "      <td>OMIM:620629</td>\n",
       "      <td>Optic atrophy 16</td>\n",
       "      <td>HP:0000572</td>\n",
       "      <td>Visual loss</td>\n",
       "      <td></td>\n",
       "      <td></td>\n",
       "      <td>2/2</td>\n",
       "      <td></td>\n",
       "      <td></td>\n",
       "      <td></td>\n",
       "      <td></td>\n",
       "      <td>PMID:37734847</td>\n",
       "      <td>PCS</td>\n",
       "      <td>ORCID:0000-0002-0736-9199[2024-05-10]</td>\n",
       "    </tr>\n",
       "    <tr>\n",
       "      <th>7</th>\n",
       "      <td>OMIM:620629</td>\n",
       "      <td>Optic atrophy 16</td>\n",
       "      <td>HP:0000648</td>\n",
       "      <td>Optic atrophy</td>\n",
       "      <td></td>\n",
       "      <td></td>\n",
       "      <td>2/2</td>\n",
       "      <td></td>\n",
       "      <td></td>\n",
       "      <td></td>\n",
       "      <td></td>\n",
       "      <td>PMID:37734847</td>\n",
       "      <td>PCS</td>\n",
       "      <td>ORCID:0000-0002-0736-9199[2024-05-10]</td>\n",
       "    </tr>\n",
       "    <tr>\n",
       "      <th>8</th>\n",
       "      <td>OMIM:620629</td>\n",
       "      <td>Optic atrophy 16</td>\n",
       "      <td>HP:0003621</td>\n",
       "      <td>Juvenile onset</td>\n",
       "      <td></td>\n",
       "      <td></td>\n",
       "      <td>1/2</td>\n",
       "      <td></td>\n",
       "      <td></td>\n",
       "      <td></td>\n",
       "      <td></td>\n",
       "      <td>PMID:37734847</td>\n",
       "      <td>PCS</td>\n",
       "      <td>ORCID:0000-0002-0736-9199[2024-05-10]</td>\n",
       "    </tr>\n",
       "    <tr>\n",
       "      <th>9</th>\n",
       "      <td>OMIM:620629</td>\n",
       "      <td>Optic atrophy 16</td>\n",
       "      <td>HP:0011462</td>\n",
       "      <td>Young adult onset</td>\n",
       "      <td></td>\n",
       "      <td></td>\n",
       "      <td>1/2</td>\n",
       "      <td></td>\n",
       "      <td></td>\n",
       "      <td></td>\n",
       "      <td></td>\n",
       "      <td>PMID:37734847</td>\n",
       "      <td>PCS</td>\n",
       "      <td>ORCID:0000-0002-0736-9199[2024-05-10]</td>\n",
       "    </tr>\n",
       "    <tr>\n",
       "      <th>10</th>\n",
       "      <td>OMIM:620629</td>\n",
       "      <td>Optic atrophy 16</td>\n",
       "      <td>HP:0000007</td>\n",
       "      <td>Autosomal recessive inheritance</td>\n",
       "      <td></td>\n",
       "      <td></td>\n",
       "      <td></td>\n",
       "      <td></td>\n",
       "      <td></td>\n",
       "      <td></td>\n",
       "      <td></td>\n",
       "      <td>PMID:37734847</td>\n",
       "      <td>PCS</td>\n",
       "      <td>ORCID:0000-0002-0736-9199[2024-05-10]</td>\n",
       "    </tr>\n",
       "  </tbody>\n",
       "</table>\n",
       "</div>"
      ],
      "text/plain": [
       "     #diseaseID  ...                            biocuration\n",
       "0   OMIM:620629  ...  ORCID:0000-0002-0736-9199[2024-05-10]\n",
       "1   OMIM:620629  ...  ORCID:0000-0002-0736-9199[2024-05-10]\n",
       "2   OMIM:620629  ...  ORCID:0000-0002-0736-9199[2024-05-10]\n",
       "3   OMIM:620629  ...  ORCID:0000-0002-0736-9199[2024-05-10]\n",
       "4   OMIM:620629  ...  ORCID:0000-0002-0736-9199[2024-05-10]\n",
       "5   OMIM:620629  ...  ORCID:0000-0002-0736-9199[2024-05-10]\n",
       "6   OMIM:620629  ...  ORCID:0000-0002-0736-9199[2024-05-10]\n",
       "7   OMIM:620629  ...  ORCID:0000-0002-0736-9199[2024-05-10]\n",
       "8   OMIM:620629  ...  ORCID:0000-0002-0736-9199[2024-05-10]\n",
       "9   OMIM:620629  ...  ORCID:0000-0002-0736-9199[2024-05-10]\n",
       "10  OMIM:620629  ...  ORCID:0000-0002-0736-9199[2024-05-10]\n",
       "\n",
       "[11 rows x 14 columns]"
      ]
     },
     "execution_count": 9,
     "metadata": {},
     "output_type": "execute_result"
    }
   ],
   "source": [
    "pmid = \"PMID:37734847\"\n",
    "timporter.create_hpoa_from_phenopackets(pmid=pmid, moi=\"Autosomal recessive\", target=\"OMIM:620629\")"
   ]
  }
 ],
 "metadata": {
  "kernelspec": {
   "display_name": "ps24venv",
   "language": "python",
   "name": "python3"
  },
  "language_info": {
   "codemirror_mode": {
    "name": "ipython",
    "version": 3
   },
   "file_extension": ".py",
   "mimetype": "text/x-python",
   "name": "python",
   "nbconvert_exporter": "python",
   "pygments_lexer": "ipython3",
   "version": "3.9.6"
  }
 },
 "nbformat": 4,
 "nbformat_minor": 2
}
