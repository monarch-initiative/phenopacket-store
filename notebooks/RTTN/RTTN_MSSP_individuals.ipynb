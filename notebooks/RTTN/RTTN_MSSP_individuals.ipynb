{
 "cells": [
  {
   "cell_type": "markdown",
   "metadata": {},
   "source": [
    "# RTTN\n",
    "[microcephaly, short stature, and polymicrogyria with or without seizures (MSSP)](https://omim.org/entry/614833) is caused by homozygous or compound heterozygous mutation in the RTTN gene."
   ]
  },
  {
   "cell_type": "code",
   "execution_count": 6,
   "metadata": {},
   "outputs": [
    {
     "name": "stdout",
     "output_type": "stream",
     "text": [
      "Using pyphetools version 0.9.90\n"
     ]
    }
   ],
   "source": [
    "from pyphetools.creation import TemplateImporter\n",
    "from pyphetools.visualization import IndividualTable, QcVisualizer\n",
    "from IPython.display import display, HTML\n",
    "import pyphetools\n",
    "print(f\"Using pyphetools version {pyphetools.__version__}\")"
   ]
  },
  {
   "cell_type": "code",
   "execution_count": 5,
   "metadata": {},
   "outputs": [],
   "source": [
    "template = \"input/RTTN_MSSP_individuals.xlsx\"\n",
    "created_by = \"0000-0002-0736-9199\""
   ]
  },
  {
   "cell_type": "code",
   "execution_count": 7,
   "metadata": {},
   "outputs": [
    {
     "name": "stdout",
     "output_type": "stream",
     "text": [
      "HPO version 2024-04-26\n",
      "Created encoders for 41 fields\n",
      "Importing OMIM:614833, Microcephaly, short stature, and polymicrogyria with seizures, HGNC:18654, RTTN,  NM_173630.4\n",
      "[INFO] encoding variant \"c.80G>A\"\n",
      "https://rest.variantvalidator.org/VariantValidator/variantvalidator/hg38/NM_173630.4%3Ac.80G>A/NM_173630.4?content-type=application%2Fjson\n",
      "[INFO] encoding variant \"c.3714A>G\"\n",
      "https://rest.variantvalidator.org/VariantValidator/variantvalidator/hg38/NM_173630.4%3Ac.3714A>G/NM_173630.4?content-type=application%2Fjson\n",
      "[INFO] encoding variant \"c.2315G>A\"\n",
      "https://rest.variantvalidator.org/VariantValidator/variantvalidator/hg38/NM_173630.4%3Ac.2315G>A/NM_173630.4?content-type=application%2Fjson\n",
      "[INFO] encoding variant \"c.1754A>G\"\n",
      "https://rest.variantvalidator.org/VariantValidator/variantvalidator/hg38/NM_173630.4%3Ac.1754A>G/NM_173630.4?content-type=application%2Fjson\n",
      "[INFO] encoding variant \"c.2796A>T\"\n",
      "https://rest.variantvalidator.org/VariantValidator/variantvalidator/hg38/NM_173630.4%3Ac.2796A>T/NM_173630.4?content-type=application%2Fjson\n",
      "We output 7 GA4GH phenopackets to the directory phenopackets\n"
     ]
    }
   ],
   "source": [
    "timporter = TemplateImporter(template=template,  created_by=created_by)\n",
    "individual_list, cvalidator = timporter.import_phenopackets_from_template()"
   ]
  },
  {
   "cell_type": "code",
   "execution_count": 8,
   "metadata": {},
   "outputs": [
    {
     "data": {
      "text/html": [
       "<h2>Cohort validation</h2>\n",
       "<p>No errors found for the cohort with 7 individuals</p>"
      ],
      "text/plain": [
       "<IPython.core.display.HTML object>"
      ]
     },
     "metadata": {},
     "output_type": "display_data"
    }
   ],
   "source": [
    "qc = QcVisualizer(cohort_validator=cvalidator)\n",
    "display(HTML(qc.to_summary_html()))"
   ]
  },
  {
   "cell_type": "code",
   "execution_count": 9,
   "metadata": {},
   "outputs": [
    {
     "data": {
      "text/html": [
       "<table style=\"border: 2px solid black; align: \"left\">\n",
       "<caption>7 phenopackets - PMID:22939636 (n=4); PMID:29883675 (n=3)</caption>\n",
       "<tr><th style=\"text-align: left;font-weight: bold;\">Individual</th><th style=\"text-align: left;font-weight: bold;\">Disease</th><th style=\"text-align: left;font-weight: bold;\">Genotype</th><th style=\"text-align: left;font-weight: bold;\">Phenotypic features</th></tr>\n",
       "<tr><td style=\"text-align: left;\">Family 1, Individual 1 (MALE; P12Y)</td><td style=\"text-align: left;\">Microcephaly, short stature, and polymicrogyria with seizures (OMIM:614833)</td><td style=\"text-align: left;\">NM_173630.4:c.2796A>T (homozygous)</td><td style=\"text-align: left;\">Microcephaly (HP:0000252); Polymicrogyria (HP:0002126); Thin corpus callosum (HP:0033725); Seizure (HP:0001250); Abnormal pyramidal sign (HP:0007256); EEG abnormality (HP:0002353); Dysarthria (HP:0001260); Intellectual disability (HP:0001249); Frequent temper tantrums (HP:0025161); excluded: Absent speech (HP:0001344); excluded: Cerebellar atrophy (HP:0001272); excluded: Overfriendliness (HP:0100025)</td></tr>\n",
       "<tr><td style=\"text-align: left;\">Family 1, Individual 2 (FEMALE; P14Y)</td><td style=\"text-align: left;\">Microcephaly, short stature, and polymicrogyria with seizures (OMIM:614833)</td><td style=\"text-align: left;\">NM_173630.4:c.2796A>T (homozygous)</td><td style=\"text-align: left;\">Microcephaly (HP:0000252); Polymicrogyria (HP:0002126); Seizure (HP:0001250); Dysarthria (HP:0001260); Intellectual disability (HP:0001249); Cerebellar atrophy (HP:0001272); Overfriendliness (HP:0100025); excluded: Thin corpus callosum (HP:0033725); excluded: Absent speech (HP:0001344); excluded: Short stature (HP:0004322); excluded: Frequent temper tantrums (HP:0025161)</td></tr>\n",
       "<tr><td style=\"text-align: left;\">Family 1, Individual 3 (MALE; P18Y)</td><td style=\"text-align: left;\">Microcephaly, short stature, and polymicrogyria with seizures (OMIM:614833)</td><td style=\"text-align: left;\">NM_173630.4:c.2796A>T (homozygous)</td><td style=\"text-align: left;\">Seizure (HP:0001250); Intellectual disability (HP:0001249); Overfriendliness (HP:0100025); excluded: Frequent temper tantrums (HP:0025161)</td></tr>\n",
       "<tr><td style=\"text-align: left;\">Family 2, Individual 1 (MALE; P16Y)</td><td style=\"text-align: left;\">Microcephaly, short stature, and polymicrogyria with seizures (OMIM:614833)</td><td style=\"text-align: left;\">NM_173630.4:c.80G>A (homozygous)</td><td style=\"text-align: left;\">Polymicrogyria (HP:0002126); Seizure (HP:0001250); Absent speech (HP:0001344); EEG abnormality (HP:0002353); Intellectual disability (HP:0001249); Short stature (HP:0004322); Overfriendliness (HP:0100025); excluded: Microcephaly (HP:0000252); excluded: Thin corpus callosum (HP:0033725); excluded: Abnormal pyramidal sign (HP:0007256); excluded: Cerebellar atrophy (HP:0001272); excluded: Frequent temper tantrums (HP:0025161)</td></tr>\n",
       "<tr><td style=\"text-align: left;\">first family patient 1 (FEMALE; P24Y)</td><td style=\"text-align: left;\">Microcephaly, short stature, and polymicrogyria with seizures (OMIM:614833)</td><td style=\"text-align: left;\"><ul> <li>NM_173630.4:c.2315G>A (heterozygous)</li> <li>NM_173630.4:c.3714A>G (heterozygous)</li> </ul></td><td style=\"text-align: left;\">Microcephaly (HP:0000252); Polymicrogyria (HP:0002126); Thin corpus callosum (HP:0033725); Absent speech (HP:0001344); Intellectual disability (HP:0001249); Short stature (HP:0004322); excluded: Overfriendliness (HP:0100025); excluded: Aggressive behavior (HP:0000718); excluded: Emotional lability (HP:0000712); excluded: Overlapping toe (HP:0001845)</td></tr>\n",
       "<tr><td style=\"text-align: left;\">first family patient 2 (FEMALE; P20Y)</td><td style=\"text-align: left;\">Microcephaly, short stature, and polymicrogyria with seizures (OMIM:614833)</td><td style=\"text-align: left;\"><ul> <li>NM_173630.4:c.2315G>A (heterozygous)</li> <li>NM_173630.4:c.3714A>G (heterozygous)</li> </ul></td><td style=\"text-align: left;\">Microcephaly (HP:0000252); Polymicrogyria (HP:0002126); Thin corpus callosum (HP:0033725); Short stature (HP:0004322); Aggressive behavior (HP:0000718); excluded: Overfriendliness (HP:0100025); excluded: Emotional lability (HP:0000712); excluded: Overlapping toe (HP:0001845)</td></tr>\n",
       "<tr><td style=\"text-align: left;\">second family patient 3 (FEMALE; P6Y)</td><td style=\"text-align: left;\">Microcephaly, short stature, and polymicrogyria with seizures (OMIM:614833)</td><td style=\"text-align: left;\">NM_173630.4:c.1754A>G (homozygous)</td><td style=\"text-align: left;\">Microcephaly (HP:0000252); Polymicrogyria (HP:0002126); Thin corpus callosum (HP:0033725); Cerebellar vermis hypoplasia (HP:0001320); Delayed speech and language development (HP:0000750); Short stature (HP:0004322); Emotional lability (HP:0000712); Overlapping toe (HP:0001845); excluded: Overfriendliness (HP:0100025)</td></tr>\n",
       "</table>"
      ],
      "text/plain": [
       "<IPython.core.display.HTML object>"
      ]
     },
     "metadata": {},
     "output_type": "display_data"
    }
   ],
   "source": [
    "table = IndividualTable(cvalidator.get_error_free_individual_list())\n",
    "display(HTML(table.to_html()))"
   ]
  },
  {
   "cell_type": "code",
   "execution_count": 11,
   "metadata": {},
   "outputs": [
    {
     "name": "stdout",
     "output_type": "stream",
     "text": [
      "[pyphetools] Ingested 7 GA4GH phenopackets.\n",
      "[INFO] Extracted 7 from 7 phenopackets with OMIM:614833\n",
      "\n",
      "\tMicrocephaly, short stature, and polymicrogyria with seizures (OMIM:614833): n=7\n",
      "We found a total of 18 unique HPO terms\n",
      "Extracted disease: Microcephaly, short stature, and polymicrogyria with seizures (OMIM:614833)\n",
      "Wrote HPOA disease file to OMIM-614833.tab\n"
     ]
    }
   ],
   "source": [
    "pmid = \"PMID:22939636\"\n",
    "df = timporter.create_hpoa_from_phenopackets(pmid=pmid, moi=\"Autosomal recessive\", target=\"OMIM:614833\")"
   ]
  },
  {
   "cell_type": "code",
   "execution_count": null,
   "metadata": {},
   "outputs": [],
   "source": []
  }
 ],
 "metadata": {
  "kernelspec": {
   "display_name": "ps24venv",
   "language": "python",
   "name": "python3"
  },
  "language_info": {
   "codemirror_mode": {
    "name": "ipython",
    "version": 3
   },
   "file_extension": ".py",
   "mimetype": "text/x-python",
   "name": "python",
   "nbconvert_exporter": "python",
   "pygments_lexer": "ipython3",
   "version": "3.9.6"
  }
 },
 "nbformat": 4,
 "nbformat_minor": 2
}
