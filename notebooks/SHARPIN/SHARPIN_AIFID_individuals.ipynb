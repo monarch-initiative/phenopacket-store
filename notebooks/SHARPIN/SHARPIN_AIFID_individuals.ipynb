{
 "cells": [
  {
   "cell_type": "markdown",
   "metadata": {},
   "source": [
    "# SHARPIN\n",
    "[autoinflammation with episodic fever and immune dysregulation (AIFID)](https://omim.org/entry/620795) is caused by homozygous mutation in the SHARPIN gene."
   ]
  },
  {
   "cell_type": "code",
   "execution_count": 3,
   "metadata": {},
   "outputs": [
    {
     "name": "stdout",
     "output_type": "stream",
     "text": [
      "Using pyphetools version 0.9.94\n"
     ]
    }
   ],
   "source": [
    "from pyphetools.creation import TemplateImporter, Moi\n",
    "from pyphetools.visualization import IndividualTable, QcVisualizer\n",
    "from IPython.display import display, HTML\n",
    "import pyphetools\n",
    "print(f\"Using pyphetools version {pyphetools.__version__}\")"
   ]
  },
  {
   "cell_type": "code",
   "execution_count": 4,
   "metadata": {},
   "outputs": [],
   "source": [
    "template = \"input/SHARPIN_AIFID_individuals.xlsx\"\n",
    "created_by = \"0000-0002-0736-9199\""
   ]
  },
  {
   "cell_type": "code",
   "execution_count": 7,
   "metadata": {},
   "outputs": [
    {
     "name": "stdout",
     "output_type": "stream",
     "text": [
      "HPO version 2024-07-01\n",
      "Created encoders for 34 fields\n",
      "Importing OMIM:620795, Autoinflammation with episodic fever and immune dysregulation, HGNC:25321, SHARPIN,  NM_030974.4\n",
      "We output 2 GA4GH phenopackets to the directory phenopackets\n"
     ]
    }
   ],
   "source": [
    "timporter = TemplateImporter(template=template,  created_by=created_by)\n",
    "individual_list, cvalidator = timporter.import_phenopackets_from_template()"
   ]
  },
  {
   "cell_type": "code",
   "execution_count": 8,
   "metadata": {},
   "outputs": [
    {
     "data": {
      "text/html": [
       "<h2>Cohort validation</h2>\n",
       "<p>Errors found with 2 of 2 phenopackets.</p>\n",
       "<table style=\"border: 2px solid black; align: \"left\">\n",
       "<caption>Error counts</caption>\n",
       "<tr><th style=\"text-align: left;font-weight: bold;\">Level</th><th style=\"text-align: left;font-weight: bold;\">Error category</th><th style=\"text-align: left;font-weight: bold;\">Count</th></tr>\n",
       "<tr><td style=\"text-align: left;\">WARNING</td><td style=\"text-align: left;\">REDUNDANT</td><td style=\"text-align: left;\">2</td></tr>\n",
       "</table>\n",
       "<p>A total of 2 issues were fixed and no individual was removed from the cohort.</p>"
      ],
      "text/plain": [
       "<IPython.core.display.HTML object>"
      ]
     },
     "metadata": {},
     "output_type": "display_data"
    }
   ],
   "source": [
    "qc = QcVisualizer(cohort_validator=cvalidator)\n",
    "display(HTML(qc.to_summary_html()))"
   ]
  },
  {
   "cell_type": "code",
   "execution_count": 9,
   "metadata": {},
   "outputs": [
    {
     "data": {
      "text/html": [
       "<table style=\"border: 2px solid black; align: \"left\">\n",
       "<caption>2 phenopackets - PMID:38609546 (n=2)</caption>\n",
       "<tr><th style=\"text-align: left;font-weight: bold;\">Individual</th><th style=\"text-align: left;font-weight: bold;\">Disease</th><th style=\"text-align: left;font-weight: bold;\">Genotype</th><th style=\"text-align: left;font-weight: bold;\">Phenotypic features</th></tr>\n",
       "<tr><td style=\"text-align: left;\">patient P1 (MALE; P14Y)</td><td style=\"text-align: left;\">Autoinflammation with episodic fever and immune dysregulation (OMIM:620795)</td><td style=\"text-align: left;\">NM_030974.4:c.220dup (homozygous)</td><td style=\"text-align: left;\"><b>P4Y</b>: Hepatomegaly (HP:0002240); Splenomegaly (HP:0001744); Colitis (HP:0002583); Recurrent fever (HP:0001954); Arthritis (HP:0001369); Parotitis (HP:0011850); Lymphadenopathy (HP:0002716)<br/><b>P8Y</b>: Hematochezia (HP:0002573)<br/><b>P14Y</b>: Increased hepatic glycogen content (HP:0006568)<br/><b>P16Y</b>: Chronic otitis media (HP:0000389)<br/>excluded: Autoimmune antibody positivity (HP:0030057); excluded: Complete or near-complete absence of specific antibody response to tetanus vaccine (HP:0410295)</td></tr>\n",
       "<tr><td style=\"text-align: left;\">patient P2 (FEMALE; P4Y)</td><td style=\"text-align: left;\">Autoinflammation with episodic fever and immune dysregulation (OMIM:620795)</td><td style=\"text-align: left;\">NM_030974.4:c.613_614del (homozygous)</td><td style=\"text-align: left;\"><b>P5M</b>: Elevated erythrocyte sedimentation rate (HP:0003565); Leukocytosis (HP:0001974); Recurrent fever (HP:0001954); Lymphadenopathy (HP:0002716)<br/>excluded: Hepatomegaly (HP:0002240); excluded: Splenomegaly (HP:0001744); excluded: Colitis (HP:0002583); excluded: Hematochezia (HP:0002573); excluded: Arthritis (HP:0001369); excluded: Parotitis (HP:0011850); excluded: Increased hepatic glycogen content (HP:0006568); excluded: Chronic otitis media (HP:0000389); excluded: Autoimmune antibody positivity (HP:0030057); excluded: Complete or near-complete absence of specific antibody response to tetanus vaccine (HP:0410295)</td></tr>\n",
       "</table>"
      ],
      "text/plain": [
       "<IPython.core.display.HTML object>"
      ]
     },
     "metadata": {},
     "output_type": "display_data"
    }
   ],
   "source": [
    "table = IndividualTable(cvalidator.get_error_free_individual_list())\n",
    "display(HTML(table.to_html()))"
   ]
  },
  {
   "cell_type": "code",
   "execution_count": 10,
   "metadata": {},
   "outputs": [
    {
     "name": "stdout",
     "output_type": "stream",
     "text": [
      "[pyphetools] Ingested 2 GA4GH phenopackets.\n",
      "[INFO] Extracted 2 from 2 phenopackets with OMIM:620795\n",
      "\n",
      "\tAutoinflammation with episodic fever and immune dysregulation (OMIM:620795): n=2\n",
      "We found a total of 14 unique HPO terms\n",
      "Extracted disease: Autoinflammation with episodic fever and immune dysregulation (OMIM:620795)\n",
      "Wrote HPOA disease file to OMIM-620795.tab\n"
     ]
    }
   ],
   "source": [
    "pmid = \"PMID:38609546\"\n",
    "df = timporter.create_hpoa_from_phenopackets(pmid=pmid, mode_of_inheritance=Moi.AR, target=\"OMIM:620795\")"
   ]
  }
 ],
 "metadata": {
  "kernelspec": {
   "display_name": "ps24venv",
   "language": "python",
   "name": "python3"
  },
  "language_info": {
   "codemirror_mode": {
    "name": "ipython",
    "version": 3
   },
   "file_extension": ".py",
   "mimetype": "text/x-python",
   "name": "python",
   "nbconvert_exporter": "python",
   "pygments_lexer": "ipython3",
   "version": "3.9.6"
  }
 },
 "nbformat": 4,
 "nbformat_minor": 2
}
