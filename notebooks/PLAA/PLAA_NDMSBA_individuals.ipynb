{
 "cells": [
  {
   "cell_type": "markdown",
   "metadata": {},
   "source": [
    "# PLAA\n",
    "[Neurodevelopmental disorder with progressive microcephaly, spasticity, and brain anomalies (NDMSBA)](https://omim.org/entry/617527) is caused by homozygous or compound heterozygous mutation in the PLAA gene."
   ]
  },
  {
   "cell_type": "code",
   "execution_count": 1,
   "metadata": {},
   "outputs": [
    {
     "name": "stdout",
     "output_type": "stream",
     "text": [
      "Using pyphetools version 0.9.78\n"
     ]
    },
    {
     "name": "stderr",
     "output_type": "stream",
     "text": [
      "/Users/robin/GIT/phenopacket-store/ps24venv/lib/python3.9/site-packages/urllib3/__init__.py:35: NotOpenSSLWarning: urllib3 v2 only supports OpenSSL 1.1.1+, currently the 'ssl' module is compiled with 'LibreSSL 2.8.3'. See: https://github.com/urllib3/urllib3/issues/3020\n",
      "  warnings.warn(\n"
     ]
    }
   ],
   "source": [
    "from pyphetools.creation import TemplateImporter\n",
    "from pyphetools.visualization import IndividualTable, QcVisualizer\n",
    "from IPython.display import display, HTML\n",
    "import pyphetools\n",
    "print(f\"Using pyphetools version {pyphetools.__version__}\")"
   ]
  },
  {
   "cell_type": "code",
   "execution_count": 2,
   "metadata": {},
   "outputs": [],
   "source": [
    "template = \"input/PLAA_NDMSBA_individuals.xlsx\"\n",
    "hp_json = \"../hp.json\"\n",
    "created_by = \"0000-0002-0736-9199\""
   ]
  },
  {
   "cell_type": "code",
   "execution_count": 5,
   "metadata": {},
   "outputs": [
    {
     "name": "stdout",
     "output_type": "stream",
     "text": [
      "HPO version 2024-04-04\n",
      "Created encoders for 77 fields\n",
      "Importing OMIM:617527, Neurodevelopmental disorder with progressive microcephaly, spasticity, and brain anomalies, HGNC:9043, PLAA,  NM_001031689.3\n",
      "We output 14 GA4GH phenopackets to the directory phenopackets\n"
     ]
    }
   ],
   "source": [
    "timporter = TemplateImporter(template=template, hp_json=hp_json, created_by=created_by)\n",
    "individual_list, cvalidator = timporter.import_phenopackets_from_template()"
   ]
  },
  {
   "cell_type": "code",
   "execution_count": 6,
   "metadata": {},
   "outputs": [
    {
     "data": {
      "text/html": [
       "<h2>Cohort validation</h2>\n",
       "<p>No errors found for the cohort with 14 individuals</p>"
      ],
      "text/plain": [
       "<IPython.core.display.HTML object>"
      ]
     },
     "metadata": {},
     "output_type": "display_data"
    }
   ],
   "source": [
    "qc = QcVisualizer(cohort_validator=cvalidator)\n",
    "display(HTML(qc.to_summary_html()))"
   ]
  },
  {
   "cell_type": "code",
   "execution_count": 7,
   "metadata": {},
   "outputs": [
    {
     "data": {
      "text/html": [
       "<table style=\"border: 2px solid black; align: \"left\">\n",
       "<caption>14 phenopackets - PMID:28413018 (n=7); PMID:28007986 (n=7)</caption>\n",
       "<tr><th style=\"text-align: left;font-weight: bold;\">Individual</th><th style=\"text-align: left;font-weight: bold;\">Disease</th><th style=\"text-align: left;font-weight: bold;\">Genotype</th><th style=\"text-align: left;font-weight: bold;\">Phenotypic features</th></tr>\n",
       "<tr><td style=\"text-align: left;\">A-IV-6 (MALE; P12D)</td><td style=\"text-align: left;\">Neurodevelopmental disorder with progressive microcephaly, spasticity, and brain anomalies (OMIM:617527)</td><td style=\"text-align: left;\">NM_001031689.3:c.68G>T (homozygous)</td><td style=\"text-align: left;\">Congenital hypothyroidism (HP:0000851); Polyhydramnios (HP:0001561); Postaxial polydactyly (HP:0100259); Hypotonia (HP:0001252); Hypertonia (HP:0001276); Thin corpus callosum (HP:0033725); Periventricular cysts (HP:0007109); Bulbar palsy (HP:0001283); Global developmental delay (HP:0001263); Single transverse palmar crease (HP:0000954); Hirsutism (HP:0001007); Coarse facial features (HP:0000280); Long philtrum (HP:0000343); Short nose (HP:0003196); High palate (HP:0000218); Low-set ears (HP:0000369); excluded: Micrognathia (HP:0000347); excluded: Smooth philtrum (HP:0000319); excluded: Highly arched eyebrow (HP:0002553); excluded: Narrow forehead (HP:0000341); excluded: Deeply set eye (HP:0000490); excluded: Posteriorly rotated ears (HP:0000358); excluded: Edema of the dorsum of hands (HP:0007514); excluded: Edema of the dorsum of feet (HP:0012098)</td></tr>\n",
       "<tr><td style=\"text-align: left;\">A-IV-7 (MALE; P1Y6M)</td><td style=\"text-align: left;\">Neurodevelopmental disorder with progressive microcephaly, spasticity, and brain anomalies (OMIM:617527)</td><td style=\"text-align: left;\">NM_001031689.3:c.68G>T (homozygous)</td><td style=\"text-align: left;\">Postaxial polydactyly (HP:0100259); Hypotonia (HP:0001252); Hypertonia (HP:0001276); Thin corpus callosum (HP:0033725); Delayed fine motor development (HP:0010862); Delayed gross motor development (HP:0002194); Absent speech (HP:0001344); Cessation of head growth (HP:0004485); Ventriculomegaly (HP:0002119); Wide cavum septum pellucidum (HP:0034964); Bulbar palsy (HP:0001283); Global developmental delay (HP:0001263); Delayed CNS myelination (HP:0002188); Abnormal cortical gyration (HP:0002536); Single transverse palmar crease (HP:0000954); Optic atrophy (HP:0000648); Coarse facial features (HP:0000280); Micrognathia (HP:0000347); Smooth philtrum (HP:0000319); High palate (HP:0000218); Low-set ears (HP:0000369); Posteriorly rotated ears (HP:0000358); Edema of the dorsum of feet (HP:0012098); excluded: Long philtrum (HP:0000343); excluded: Short nose (HP:0003196); excluded: Highly arched eyebrow (HP:0002553); excluded: Narrow forehead (HP:0000341); excluded: Deeply set eye (HP:0000490); excluded: Edema of the dorsum of hands (HP:0007514); excluded: Congenital hypothyroidism (HP:0000851)</td></tr>\n",
       "<tr><td style=\"text-align: left;\">A-IV-8 (FEMALE; P2Y3M)</td><td style=\"text-align: left;\">Neurodevelopmental disorder with progressive microcephaly, spasticity, and brain anomalies (OMIM:617527)</td><td style=\"text-align: left;\">NM_001031689.3:c.68G>T (homozygous)</td><td style=\"text-align: left;\">Thin corpus callosum (HP:0033725); Generalized-onset seizure (HP:0002197); Delayed fine motor development (HP:0010862); Delayed gross motor development (HP:0002194); Absent speech (HP:0001344); Cessation of head growth (HP:0004485); Ventriculomegaly (HP:0002119); Wide cavum septum pellucidum (HP:0034964); Global developmental delay (HP:0001263); Delayed CNS myelination (HP:0002188); Abnormal cortical gyration (HP:0002536); Optic atrophy (HP:0000648); Nystagmus (HP:0000639); Coarse facial features (HP:0000280); Deeply set eye (HP:0000490); excluded: Postaxial polydactyly (HP:0100259); excluded: Single transverse palmar crease (HP:0000954); excluded: Micrognathia (HP:0000347); excluded: Smooth philtrum (HP:0000319); excluded: Long philtrum (HP:0000343); excluded: Short nose (HP:0003196); excluded: High palate (HP:0000218); excluded: Highly arched eyebrow (HP:0002553); excluded: Narrow forehead (HP:0000341); excluded: Low-set ears (HP:0000369); excluded: Posteriorly rotated ears (HP:0000358); excluded: Edema of the dorsum of hands (HP:0007514); excluded: Edema of the dorsum of feet (HP:0012098); excluded: Congenital hypothyroidism (HP:0000851)</td></tr>\n",
       "<tr><td style=\"text-align: left;\">A-IV-10 (MALE; P6M)</td><td style=\"text-align: left;\">Neurodevelopmental disorder with progressive microcephaly, spasticity, and brain anomalies (OMIM:617527)</td><td style=\"text-align: left;\">NM_001031689.3:c.68G>T (homozygous)</td><td style=\"text-align: left;\">Hypotonia (HP:0001252); Hypertonia (HP:0001276); Thin corpus callosum (HP:0033725); Generalized-onset seizure (HP:0002197); Delayed fine motor development (HP:0010862); Delayed gross motor development (HP:0002194); Absent speech (HP:0001344); Cessation of head growth (HP:0004485); Bulbar palsy (HP:0001283); Global developmental delay (HP:0001263); Abnormal cortical gyration (HP:0002536); Hirsutism (HP:0001007); Nystagmus (HP:0000639); Coarse facial features (HP:0000280); Narrow forehead (HP:0000341); Low-set ears (HP:0000369); Posteriorly rotated ears (HP:0000358); Edema of the dorsum of hands (HP:0007514); Edema of the dorsum of feet (HP:0012098); excluded: Postaxial polydactyly (HP:0100259); excluded: Single transverse palmar crease (HP:0000954); excluded: Micrognathia (HP:0000347); excluded: Smooth philtrum (HP:0000319); excluded: Long philtrum (HP:0000343); excluded: Short nose (HP:0003196); excluded: High palate (HP:0000218); excluded: Highly arched eyebrow (HP:0002553); excluded: Deeply set eye (HP:0000490); excluded: Congenital hypothyroidism (HP:0000851)</td></tr>\n",
       "<tr><td style=\"text-align: left;\">A-IV-1 (FEMALE; P1Y2M)</td><td style=\"text-align: left;\">Neurodevelopmental disorder with progressive microcephaly, spasticity, and brain anomalies (OMIM:617527)</td><td style=\"text-align: left;\">NM_001031689.3:c.68G>T (homozygous)</td><td style=\"text-align: left;\">Hypotonia (HP:0001252); Hypertonia (HP:0001276); Generalized-onset seizure (HP:0002197); Delayed fine motor development (HP:0010862); Delayed gross motor development (HP:0002194); Absent speech (HP:0001344); Cessation of head growth (HP:0004485); Wide cavum septum pellucidum (HP:0034964); Bulbar palsy (HP:0001283); Global developmental delay (HP:0001263); Abnormal cortical gyration (HP:0002536); Single transverse palmar crease (HP:0000954); Nystagmus (HP:0000639); Coarse facial features (HP:0000280); excluded: Postaxial polydactyly (HP:0100259); excluded: Delayed CNS myelination (HP:0002188); excluded: Micrognathia (HP:0000347); excluded: Smooth philtrum (HP:0000319); excluded: Long philtrum (HP:0000343); excluded: Short nose (HP:0003196); excluded: High palate (HP:0000218); excluded: Highly arched eyebrow (HP:0002553); excluded: Narrow forehead (HP:0000341); excluded: Deeply set eye (HP:0000490); excluded: Low-set ears (HP:0000369); excluded: Posteriorly rotated ears (HP:0000358); excluded: Edema of the dorsum of hands (HP:0007514); excluded: Edema of the dorsum of feet (HP:0012098); excluded: Congenital hypothyroidism (HP:0000851)</td></tr>\n",
       "<tr><td style=\"text-align: left;\">B-III-1 (MALE; P5Y)</td><td style=\"text-align: left;\">Neurodevelopmental disorder with progressive microcephaly, spasticity, and brain anomalies (OMIM:617527)</td><td style=\"text-align: left;\">NM_001031689.3:c.68G>T (homozygous)</td><td style=\"text-align: left;\">Hypertonia (HP:0001276); Generalized-onset seizure (HP:0002197); Delayed fine motor development (HP:0010862); Delayed gross motor development (HP:0002194); Absent speech (HP:0001344); Cessation of head growth (HP:0004485); Global developmental delay (HP:0001263); Abnormal cortical gyration (HP:0002536); Optic atrophy (HP:0000648); Nystagmus (HP:0000639); Coarse facial features (HP:0000280); Deeply set eye (HP:0000490); Edema of the dorsum of feet (HP:0012098); excluded: Postaxial polydactyly (HP:0100259); excluded: Single transverse palmar crease (HP:0000954); excluded: Micrognathia (HP:0000347); excluded: Smooth philtrum (HP:0000319); excluded: Long philtrum (HP:0000343); excluded: Short nose (HP:0003196); excluded: High palate (HP:0000218); excluded: Highly arched eyebrow (HP:0002553); excluded: Narrow forehead (HP:0000341); excluded: Low-set ears (HP:0000369); excluded: Posteriorly rotated ears (HP:0000358); excluded: Edema of the dorsum of hands (HP:0007514); excluded: Congenital hypothyroidism (HP:0000851)</td></tr>\n",
       "<tr><td style=\"text-align: left;\">C-III-1 (MALE; P6Y)</td><td style=\"text-align: left;\">Neurodevelopmental disorder with progressive microcephaly, spasticity, and brain anomalies (OMIM:617527)</td><td style=\"text-align: left;\">NM_001031689.3:c.68G>T (homozygous)</td><td style=\"text-align: left;\">Hypotonia (HP:0001252); Hypertonia (HP:0001276); Thin corpus callosum (HP:0033725); Generalized-onset seizure (HP:0002197); Delayed fine motor development (HP:0010862); Delayed gross motor development (HP:0002194); Absent speech (HP:0001344); Cessation of head growth (HP:0004485); Global developmental delay (HP:0001263); Delayed CNS myelination (HP:0002188); Optic atrophy (HP:0000648); Coarse facial features (HP:0000280); Highly arched eyebrow (HP:0002553); Narrow forehead (HP:0000341); Deeply set eye (HP:0000490); Edema of the dorsum of hands (HP:0007514); Edema of the dorsum of feet (HP:0012098); excluded: Postaxial polydactyly (HP:0100259); excluded: Single transverse palmar crease (HP:0000954); excluded: Micrognathia (HP:0000347); excluded: Smooth philtrum (HP:0000319); excluded: Long philtrum (HP:0000343); excluded: Short nose (HP:0003196); excluded: High palate (HP:0000218); excluded: Low-set ears (HP:0000369); excluded: Posteriorly rotated ears (HP:0000358); excluded: Congenital hypothyroidism (HP:0000851)</td></tr>\n",
       "<tr><td style=\"text-align: left;\">A(VI3) (FEMALE; P15Y)</td><td style=\"text-align: left;\">Neurodevelopmental disorder with progressive microcephaly, spasticity, and brain anomalies (OMIM:617527)</td><td style=\"text-align: left;\">NM_001031689.3:c.2254C>T (homozygous)</td><td style=\"text-align: left;\">Rocker bottom foot (HP:0001838); Small joint hypermobilty (HP:0430046); Pectus carinatum (HP:0000768); Kyphosis (HP:0002808); Contractures of the large joints (HP:0005781); Thin corpus callosum (HP:0033725); Cerebral cortical atrophy (HP:0002120); Delayed speech and language development (HP:0000750); Babinski sign (HP:0003487); Exaggerated startle response (HP:0002267); Intellectual disability, severe (HP:0010864); Delayed CNS myelination (HP:0002188); Palmoplantar hyperhidrosis (HP:0007410); Progressive microcephaly (HP:0000253); excluded: Generalized-onset seizure (HP:0002197); excluded: Ventriculomegaly (HP:0002119)</td></tr>\n",
       "<tr><td style=\"text-align: left;\">A(VI4) (FEMALE; P11Y)</td><td style=\"text-align: left;\">Neurodevelopmental disorder with progressive microcephaly, spasticity, and brain anomalies (OMIM:617527)</td><td style=\"text-align: left;\">NM_001031689.3:c.2254C>T (homozygous)</td><td style=\"text-align: left;\">Small joint hypermobilty (HP:0430046); Pectus carinatum (HP:0000768); Kyphosis (HP:0002808); Contractures of the large joints (HP:0005781); Thin corpus callosum (HP:0033725); Delayed speech and language development (HP:0000750); Ventriculomegaly (HP:0002119); Babinski sign (HP:0003487); Exaggerated startle response (HP:0002267); Intellectual disability, severe (HP:0010864); Palmoplantar hyperhidrosis (HP:0007410); Progressive microcephaly (HP:0000253); excluded: Rocker bottom foot (HP:0001838); excluded: Cerebral cortical atrophy (HP:0002120); excluded: Generalized-onset seizure (HP:0002197); excluded: Delayed CNS myelination (HP:0002188)</td></tr>\n",
       "<tr><td style=\"text-align: left;\">A(VI5) (MALE; P16Y)</td><td style=\"text-align: left;\">Neurodevelopmental disorder with progressive microcephaly, spasticity, and brain anomalies (OMIM:617527)</td><td style=\"text-align: left;\">NM_001031689.3:c.2254C>T (homozygous)</td><td style=\"text-align: left;\"><b>P2Y</b>: Thin corpus callosum (HP:0033725)<br/>Small joint hypermobilty (HP:0430046); Pectus carinatum (HP:0000768); Kyphosis (HP:0002808); Contractures of the large joints (HP:0005781); Cerebral cortical atrophy (HP:0002120); Generalized-onset seizure (HP:0002197); Delayed speech and language development (HP:0000750); Babinski sign (HP:0003487); Exaggerated startle response (HP:0002267); Intellectual disability, severe (HP:0010864); Progressive microcephaly (HP:0000253); excluded: Rocker bottom foot (HP:0001838); excluded: Ventriculomegaly (HP:0002119); excluded: Delayed CNS myelination (HP:0002188); excluded: Palmoplantar hyperhidrosis (HP:0007410)</td></tr>\n",
       "<tr><td style=\"text-align: left;\">A(VI6) (MALE; P34Y)</td><td style=\"text-align: left;\">Neurodevelopmental disorder with progressive microcephaly, spasticity, and brain anomalies (OMIM:617527)</td><td style=\"text-align: left;\">NM_001031689.3:c.2254C>T (homozygous)</td><td style=\"text-align: left;\">Rocker bottom foot (HP:0001838); Pectus carinatum (HP:0000768); Kyphosis (HP:0002808); Contractures of the large joints (HP:0005781); Thin corpus callosum (HP:0033725); Cerebral cortical atrophy (HP:0002120); Generalized-onset seizure (HP:0002197); Delayed speech and language development (HP:0000750); Babinski sign (HP:0003487); Intellectual disability, severe (HP:0010864); Palmoplantar hyperhidrosis (HP:0007410); Progressive microcephaly (HP:0000253); excluded: Small joint hypermobilty (HP:0430046); excluded: Ventriculomegaly (HP:0002119); excluded: Delayed CNS myelination (HP:0002188)</td></tr>\n",
       "<tr><td style=\"text-align: left;\">A(VI10) (MALE; P5Y)</td><td style=\"text-align: left;\">Neurodevelopmental disorder with progressive microcephaly, spasticity, and brain anomalies (OMIM:617527)</td><td style=\"text-align: left;\">NM_001031689.3:c.2254C>T (homozygous)</td><td style=\"text-align: left;\">Small joint hypermobilty (HP:0430046); Pectus carinatum (HP:0000768); Kyphosis (HP:0002808); Contractures of the large joints (HP:0005781); Thin corpus callosum (HP:0033725); Cerebral cortical atrophy (HP:0002120); Delayed speech and language development (HP:0000750); Ventriculomegaly (HP:0002119); Babinski sign (HP:0003487); Exaggerated startle response (HP:0002267); Intellectual disability, severe (HP:0010864); Palmoplantar hyperhidrosis (HP:0007410); Progressive microcephaly (HP:0000253); excluded: Rocker bottom foot (HP:0001838); excluded: Generalized-onset seizure (HP:0002197); excluded: Delayed CNS myelination (HP:0002188)</td></tr>\n",
       "<tr><td style=\"text-align: left;\">B(IV2) (MALE; P3Y)</td><td style=\"text-align: left;\">Neurodevelopmental disorder with progressive microcephaly, spasticity, and brain anomalies (OMIM:617527)</td><td style=\"text-align: left;\">NM_001031689.3:c.2254C>T (homozygous)</td><td style=\"text-align: left;\">Small joint hypermobilty (HP:0430046); Pectus carinatum (HP:0000768); Kyphosis (HP:0002808); Contractures of the large joints (HP:0005781); Thin corpus callosum (HP:0033725); Generalized-onset seizure (HP:0002197); Delayed speech and language development (HP:0000750); Ventriculomegaly (HP:0002119); Exaggerated startle response (HP:0002267); Intellectual disability, severe (HP:0010864); Delayed CNS myelination (HP:0002188); Palmoplantar hyperhidrosis (HP:0007410); Progressive microcephaly (HP:0000253); excluded: Rocker bottom foot (HP:0001838); excluded: Cerebral cortical atrophy (HP:0002120); excluded: Babinski sign (HP:0003487)</td></tr>\n",
       "<tr><td style=\"text-align: left;\">A(VI1) (MALE; P2Y3M)</td><td style=\"text-align: left;\">Neurodevelopmental disorder with progressive microcephaly, spasticity, and brain anomalies (OMIM:617527)</td><td style=\"text-align: left;\">NM_001031689.3:c.2254C>T (homozygous)</td><td style=\"text-align: left;\">Small joint hypermobilty (HP:0430046); Pectus carinatum (HP:0000768); Kyphosis (HP:0002808); Contractures of the large joints (HP:0005781); Delayed speech and language development (HP:0000750); Exaggerated startle response (HP:0002267); Intellectual disability, severe (HP:0010864); Delayed CNS myelination (HP:0002188); Palmoplantar hyperhidrosis (HP:0007410); Progressive microcephaly (HP:0000253); excluded: Rocker bottom foot (HP:0001838); excluded: Thin corpus callosum (HP:0033725); excluded: Cerebral cortical atrophy (HP:0002120); excluded: Generalized-onset seizure (HP:0002197); excluded: Ventriculomegaly (HP:0002119); excluded: Babinski sign (HP:0003487)</td></tr>\n",
       "</table>"
      ],
      "text/plain": [
       "<IPython.core.display.HTML object>"
      ]
     },
     "metadata": {},
     "output_type": "display_data"
    }
   ],
   "source": [
    "table = IndividualTable(cvalidator.get_error_free_individual_list())\n",
    "display(HTML(table.to_html()))"
   ]
  },
  {
   "cell_type": "code",
   "execution_count": 8,
   "metadata": {},
   "outputs": [
    {
     "name": "stdout",
     "output_type": "stream",
     "text": [
      "[pyphetools] Ingested 14 GA4GH phenopackets.\n",
      "\tNeurodevelopmental disorder with progressive microcephaly, spasticity, and brain anomalies (OMIM:617527): n=14\n",
      "We found a total of 47 unique HPO terms\n",
      "Extracted disease: Neurodevelopmental disorder with progressive microcephaly, spasticity, and brain anomalies (OMIM:617527)\n",
      "Wrote HPOA disease file to OMIM-617527.tab\n"
     ]
    }
   ],
   "source": [
    "pmid = \"PMID:28413018\"\n",
    "df = timporter.create_hpoa_from_phenopackets(pmid=pmid, moi=\"Autosomal recessive\")"
   ]
  }
 ],
 "metadata": {
  "kernelspec": {
   "display_name": "ps24venv",
   "language": "python",
   "name": "python3"
  },
  "language_info": {
   "codemirror_mode": {
    "name": "ipython",
    "version": 3
   },
   "file_extension": ".py",
   "mimetype": "text/x-python",
   "name": "python",
   "nbconvert_exporter": "python",
   "pygments_lexer": "ipython3",
   "version": "3.9.6"
  }
 },
 "nbformat": 4,
 "nbformat_minor": 2
}
