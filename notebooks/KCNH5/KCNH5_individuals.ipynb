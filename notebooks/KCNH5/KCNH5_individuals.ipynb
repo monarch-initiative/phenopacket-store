{
 "cells": [
  {
   "cell_type": "markdown",
   "id": "8f41d44c-87b0-4c84-8ece-a47c37fb2fd1",
   "metadata": {},
   "source": [
    "# KCNH5 Individuals"
   ]
  },
  {
   "cell_type": "code",
   "execution_count": 1,
   "id": "71e97109-4097-4c6d-b04c-a907addbb767",
   "metadata": {},
   "outputs": [
    {
     "name": "stdout",
     "output_type": "stream",
     "text": [
      "pyphetools version 0.9.105\n"
     ]
    }
   ],
   "source": [
    "import pyphetools\n",
    "from pyphetools.visualization import IndividualTable, QcVisualizer\n",
    "from IPython.display import display, HTML\n",
    "from pyphetools.creation import TemplateImporter, Moi\n",
    "template = \"input/KCNH5_individuals.xlsx\"\n",
    "hp_json = \"../hp.json\"\n",
    "created_by = \"0000-0002-0736-9199\"\n",
    "print(f\"pyphetools version {pyphetools.__version__}\")"
   ]
  },
  {
   "cell_type": "code",
   "execution_count": 2,
   "id": "239507bc-693b-46de-9ef2-b45a7216c821",
   "metadata": {},
   "outputs": [],
   "source": [
    "timporter = TemplateImporter(template=template, hp_json=hp_json, created_by=created_by)"
   ]
  },
  {
   "cell_type": "code",
   "execution_count": 3,
   "id": "b97a5194-2076-4d84-b82b-39eaace2f82c",
   "metadata": {},
   "outputs": [
    {
     "name": "stdout",
     "output_type": "stream",
     "text": [
      "HPO version 2024-08-13\n",
      "Created encoders for 44 fields\n",
      "Importing OMIM:620537, Developmental and epileptic encephalopathy 112, HGNC:6254, KCNH5,  NM_139318.5\n",
      "We output 27 GA4GH phenopackets to the directory phenopackets\n"
     ]
    }
   ],
   "source": [
    "individuals, cvalidator = timporter.import_phenopackets_from_template()"
   ]
  },
  {
   "cell_type": "code",
   "execution_count": 4,
   "id": "f2b08202-8608-492d-b8ff-4db67dd10bae",
   "metadata": {},
   "outputs": [
    {
     "data": {
      "text/html": [
       "<h2>Cohort validation</h2>\n",
       "<p>Errors found with 22 of 27 phenopackets.</p>\n",
       "<table style=\"border: 2px solid black; align: \"left\">\n",
       "<caption>Error counts</caption>\n",
       "<tr><th style=\"text-align: left;font-weight: bold;\">Level</th><th style=\"text-align: left;font-weight: bold;\">Error category</th><th style=\"text-align: left;font-weight: bold;\">Count</th></tr>\n",
       "<tr><td style=\"text-align: left;\">ERROR</td><td style=\"text-align: left;\">CONFLICT</td><td style=\"text-align: left;\">1</td></tr>\n",
       "<tr><td style=\"text-align: left;\">WARNING</td><td style=\"text-align: left;\">REDUNDANT</td><td style=\"text-align: left;\">55</td></tr>\n",
       "</table>\n",
       "<p>A total of 56 issues were fixed and no individual was removed from the cohort.</p>"
      ],
      "text/plain": [
       "<IPython.core.display.HTML object>"
      ]
     },
     "metadata": {},
     "output_type": "display_data"
    }
   ],
   "source": [
    "qc = QcVisualizer(cohort_validator=cvalidator)\n",
    "display(HTML(qc.to_summary_html()))"
   ]
  },
  {
   "cell_type": "code",
   "execution_count": 5,
   "id": "618b9068-3203-4f65-a693-26cf848879b5",
   "metadata": {},
   "outputs": [
    {
     "data": {
      "text/html": [
       "<table style=\"border: 2px solid black; align: \"left\">\n",
       "<caption>27 phenopackets - PMID:23647072 (n=1); PMID:32725632 (n=1); PMID:35874597 (n=3); PMID:36307226 (n=17); PMID:38708366 (n=5)</caption>\n",
       "<tr><th style=\"text-align: left;font-weight: bold;\">Individual</th><th style=\"text-align: left;font-weight: bold;\">Disease</th><th style=\"text-align: left;font-weight: bold;\">Genotype</th><th style=\"text-align: left;font-weight: bold;\">Phenotypic features</th></tr>\n",
       "<tr><td style=\"text-align: left;\">Proband F (MALE; P13Y)</td><td style=\"text-align: left;\">Developmental and epileptic encephalopathy 112 (OMIM:620537)</td><td style=\"text-align: left;\">NM_139318.5:c.980G>A (heterozygous)</td><td style=\"text-align: left;\">Focal hemiclonic seizure (HP:0006813): onset ; Epileptic encephalopathy (HP:0200134): onset ; Motor delay (HP:0001270): onset ; Delayed speech and language development (HP:0000750): onset ; EEG abnormality (HP:0002353): onset ; Autistic behavior (HP:0000729): onset ; excluded: Bilateral tonic-clonic seizure with focal onset (HP:0007334): onset ; excluded: Infantile spasms (HP:0012469): onset ; excluded: Myoclonic seizure (HP:0032794): onset ; excluded: Generalized non-motor (absence) seizure (HP:0002121): onset ; excluded: Status epilepticus (HP:0002133): onset ; excluded: Attention deficit hyperactivity disorder (HP:0007018): onset <br/><b>TimeElement(element=Age(iso8601duration=P6M))</b>: Bilateral tonic-clonic seizure (HP:0002069): onset age {\n",
       "  iso8601duration: \"P6M\"\n",
       "}\n",
       "<br/><b>TimeElement(element=Age(iso8601duration=P3Y))</b>: Developmental regression (HP:0002376): onset age {\n",
       "  iso8601duration: \"P3Y\"\n",
       "}\n",
       "; Hypotonia (HP:0001252): onset age {\n",
       "  iso8601duration: \"P3Y\"\n",
       "}\n",
       "</td></tr>\n",
       "<tr><td style=\"text-align: left;\">patient 25 (MALE; P61Y)</td><td style=\"text-align: left;\">Developmental and epileptic encephalopathy 112 (OMIM:620537)</td><td style=\"text-align: left;\">NM_139318.5:c.980G>A (heterozygous)</td><td style=\"text-align: left;\">Bilateral tonic-clonic seizure (HP:0002069): onset ; Epileptic encephalopathy (HP:0200134): onset ; Intellectual disability (HP:0001249): onset ; Hyperintensity of cerebral white matter on MRI (HP:0030890): onset ; Macroglossia (HP:0000158): onset ; excluded: Bilateral tonic-clonic seizure with focal onset (HP:0007334): onset ; excluded: Focal hemiclonic seizure (HP:0006813): onset ; excluded: Infantile spasms (HP:0012469): onset ; excluded: Myoclonic seizure (HP:0032794): onset ; excluded: Generalized non-motor (absence) seizure (HP:0002121): onset ; excluded: Status epilepticus (HP:0002133): onset ; excluded: Developmental regression (HP:0002376): onset ; excluded: Hypotonia (HP:0001252): onset </td></tr>\n",
       "<tr><td style=\"text-align: left;\">Case 1 (MALE; P4Y)</td><td style=\"text-align: left;\">Developmental and epileptic encephalopathy 112 (OMIM:620537)</td><td style=\"text-align: left;\">NM_139318.5:c.980G>A (heterozygous)</td><td style=\"text-align: left;\">Delayed speech and language development (HP:0000750): onset ; EEG abnormality (HP:0002353): onset ; Autistic behavior (HP:0000729): onset ; excluded: Bilateral tonic-clonic seizure with focal onset (HP:0007334): onset ; excluded: Focal hemiclonic seizure (HP:0006813): onset ; excluded: Infantile spasms (HP:0012469): onset ; excluded: Myoclonic seizure (HP:0032794): onset ; excluded: Generalized non-motor (absence) seizure (HP:0002121): onset ; excluded: Status epilepticus (HP:0002133): onset ; excluded: Motor delay (HP:0001270): onset ; excluded: Hyperintensity of cerebral white matter on MRI (HP:0030890): onset ; excluded: Attention deficit hyperactivity disorder (HP:0007018): onset <br/><b>TimeElement(element=Age(iso8601duration=P8M))</b>: Bilateral tonic-clonic seizure (HP:0002069): onset age {\n",
       "  iso8601duration: \"P8M\"\n",
       "}\n",
       "</td></tr>\n",
       "<tr><td style=\"text-align: left;\">Case 2 (FEMALE; P4Y)</td><td style=\"text-align: left;\">Developmental and epileptic encephalopathy 112 (OMIM:620537)</td><td style=\"text-align: left;\">NM_139318.5:c.2020-4A>G (heterozygous)</td><td style=\"text-align: left;\">Focal-onset seizure (HP:0007359): onset ; Infantile spasms (HP:0012469): onset ; Clonic seizure (HP:0020221): onset ; EEG abnormality (HP:0002353): onset ; excluded: Bilateral tonic-clonic seizure with focal onset (HP:0007334): onset ; excluded: Focal hemiclonic seizure (HP:0006813): onset ; excluded: Myoclonic seizure (HP:0032794): onset ; excluded: Generalized non-motor (absence) seizure (HP:0002121): onset ; excluded: Status epilepticus (HP:0002133): onset ; excluded: Hyperintensity of cerebral white matter on MRI (HP:0030890): onset ; excluded: Autistic behavior (HP:0000729): onset ; excluded: Attention deficit hyperactivity disorder (HP:0007018): onset </td></tr>\n",
       "<tr><td style=\"text-align: left;\">Case 3 (MALE; P2Y)</td><td style=\"text-align: left;\">Developmental and epileptic encephalopathy 112 (OMIM:620537)</td><td style=\"text-align: left;\">NM_139318.5:c.962G>A (heterozygous)</td><td style=\"text-align: left;\">EEG abnormality (HP:0002353): onset ; excluded: Bilateral tonic-clonic seizure with focal onset (HP:0007334): onset ; excluded: Focal hemiclonic seizure (HP:0006813): onset ; excluded: Infantile spasms (HP:0012469): onset ; excluded: Myoclonic seizure (HP:0032794): onset ; excluded: Generalized non-motor (absence) seizure (HP:0002121): onset ; excluded: Status epilepticus (HP:0002133): onset ; excluded: Motor delay (HP:0001270): onset ; excluded: Delayed speech and language development (HP:0000750): onset ; excluded: Developmental regression (HP:0002376): onset ; excluded: Intellectual disability (HP:0001249): onset ; excluded: Hypotonia (HP:0001252): onset ; excluded: Hyperintensity of cerebral white matter on MRI (HP:0030890): onset ; excluded: Autistic behavior (HP:0000729): onset ; excluded: Attention deficit hyperactivity disorder (HP:0007018): onset <br/><b>TimeElement(element=Age(iso8601duration=P7M))</b>: Clonic seizure (HP:0020221): onset age {\n",
       "  iso8601duration: \"P7M\"\n",
       "}\n",
       "</td></tr>\n",
       "<tr><td style=\"text-align: left;\">Proband 1 (MALE; P4Y)</td><td style=\"text-align: left;\">Developmental and epileptic encephalopathy 112 (OMIM:620537)</td><td style=\"text-align: left;\">NM_139318.5:c.970A>G (heterozygous)</td><td style=\"text-align: left;\">Bilateral tonic-clonic seizure with focal onset (HP:0007334): onset ; Status epilepticus (HP:0002133): onset ; Epileptic encephalopathy (HP:0200134): onset ; Global developmental delay (HP:0001263): onset ; EEG abnormality (HP:0002353): onset ; Attention deficit hyperactivity disorder (HP:0007018): onset ; excluded: Focal impaired awareness motor seizure (HP:0032712): onset ; excluded: Focal aware motor seizure (HP:0020217): onset ; excluded: Focal tonic seizure (HP:0011167): onset ; excluded: Focal hemiclonic seizure (HP:0006813): onset ; excluded: Myoclonic seizure (HP:0032794): onset ; excluded: Generalized non-motor (absence) seizure (HP:0002121): onset ; excluded: Developmental regression (HP:0002376): onset ; excluded: Hypotonia (HP:0001252): onset ; excluded: Chiari type I malformation (HP:0007099): onset ; excluded: Cerebral atrophy (HP:0002059): onset ; excluded: Delayed CNS myelination (HP:0002188): onset ; excluded: Autistic behavior (HP:0000729): onset <br/><b>TimeElement(element=Age(iso8601duration=P3M))</b>: Focal motor seizure (HP:0011153): onset age {\n",
       "  iso8601duration: \"P3M\"\n",
       "}\n",
       "</td></tr>\n",
       "<tr><td style=\"text-align: left;\">Proband 2 (MALE; P13Y)</td><td style=\"text-align: left;\">Developmental and epileptic encephalopathy 112 (OMIM:620537)</td><td style=\"text-align: left;\">NM_139318.5:c.980G>A (heterozygous)</td><td style=\"text-align: left;\">Focal motor seizure (HP:0011153): onset ; Epileptic encephalopathy (HP:0200134): onset ; Delayed speech and language development (HP:0000750): onset ; Developmental regression (HP:0002376): onset ; Intellectual disability (HP:0001249): onset ; EEG abnormality (HP:0002353): onset ; Autistic behavior (HP:0000729): onset ; excluded: Bilateral tonic-clonic seizure with focal onset (HP:0007334): onset ; excluded: Focal impaired awareness motor seizure (HP:0032712): onset ; excluded: Focal aware motor seizure (HP:0020217): onset ; excluded: Focal tonic seizure (HP:0011167): onset ; excluded: Focal hemiclonic seizure (HP:0006813): onset ; excluded: Myoclonic seizure (HP:0032794): onset ; excluded: Generalized non-motor (absence) seizure (HP:0002121): onset ; excluded: Status epilepticus (HP:0002133): onset ; excluded: Hypotonia (HP:0001252): onset ; excluded: Attention deficit hyperactivity disorder (HP:0007018): onset <br/><b>TimeElement(element=Age(iso8601duration=P6M))</b>: Bilateral tonic-clonic seizure (HP:0002069): onset age {\n",
       "  iso8601duration: \"P6M\"\n",
       "}\n",
       "</td></tr>\n",
       "<tr><td style=\"text-align: left;\">Proband 3 (MALE; P5Y6M)</td><td style=\"text-align: left;\">Developmental and epileptic encephalopathy 112 (OMIM:620537)</td><td style=\"text-align: left;\">NM_139318.5:c.980G>A (heterozygous)</td><td style=\"text-align: left;\">Bilateral tonic-clonic seizure with focal onset (HP:0007334): onset ; Focal motor seizure (HP:0011153): onset ; Epileptic encephalopathy (HP:0200134): onset ; Delayed speech and language development (HP:0000750): onset ; Developmental regression (HP:0002376): onset ; Intellectual disability (HP:0001249): onset ; EEG abnormality (HP:0002353): onset ; Attention deficit hyperactivity disorder (HP:0007018): onset ; excluded: Focal impaired awareness motor seizure (HP:0032712): onset ; excluded: Focal aware motor seizure (HP:0020217): onset ; excluded: Focal tonic seizure (HP:0011167): onset ; excluded: Focal hemiclonic seizure (HP:0006813): onset ; excluded: Myoclonic seizure (HP:0032794): onset ; excluded: Generalized non-motor (absence) seizure (HP:0002121): onset ; excluded: Status epilepticus (HP:0002133): onset ; excluded: Hypotonia (HP:0001252): onset ; excluded: Chiari type I malformation (HP:0007099): onset ; excluded: Cerebral atrophy (HP:0002059): onset ; excluded: Delayed CNS myelination (HP:0002188): onset ; excluded: Autistic behavior (HP:0000729): onset </td></tr>\n",
       "<tr><td style=\"text-align: left;\">Proband 4 (FEMALE; P61Y)</td><td style=\"text-align: left;\">Developmental and epileptic encephalopathy 112 (OMIM:620537)</td><td style=\"text-align: left;\">NM_139318.5:c.980G>A (heterozygous)</td><td style=\"text-align: left;\">Bilateral tonic-clonic seizure (HP:0002069): onset ; Focal aware motor seizure (HP:0020217): onset ; EEG abnormality (HP:0002353): onset ; excluded: Bilateral tonic-clonic seizure with focal onset (HP:0007334): onset ; excluded: Focal impaired awareness motor seizure (HP:0032712): onset ; excluded: Focal tonic seizure (HP:0011167): onset ; excluded: Focal hemiclonic seizure (HP:0006813): onset ; excluded: Myoclonic seizure (HP:0032794): onset ; excluded: Generalized non-motor (absence) seizure (HP:0002121): onset ; excluded: Status epilepticus (HP:0002133): onset ; excluded: Developmental regression (HP:0002376): onset ; excluded: Hypotonia (HP:0001252): onset ; excluded: Chiari type I malformation (HP:0007099): onset ; excluded: Cerebral atrophy (HP:0002059): onset ; excluded: Delayed CNS myelination (HP:0002188): onset ; excluded: Autistic behavior (HP:0000729): onset ; excluded: Attention deficit hyperactivity disorder (HP:0007018): onset </td></tr>\n",
       "<tr><td style=\"text-align: left;\">Proband 5 (FEMALE; P5Y6M)</td><td style=\"text-align: left;\">Developmental and epileptic encephalopathy 112 (OMIM:620537)</td><td style=\"text-align: left;\">NM_139318.5:c.980G>A (heterozygous)</td><td style=\"text-align: left;\">Epileptic encephalopathy (HP:0200134): onset ; Delayed speech and language development (HP:0000750): onset ; Intellectual disability (HP:0001249): onset ; EEG abnormality (HP:0002353): onset ; Autistic behavior (HP:0000729): onset ; excluded: Focal impaired awareness motor seizure (HP:0032712): onset ; excluded: Focal aware motor seizure (HP:0020217): onset ; excluded: Focal tonic seizure (HP:0011167): onset ; excluded: Focal hemiclonic seizure (HP:0006813): onset ; excluded: Myoclonic seizure (HP:0032794): onset ; excluded: Generalized non-motor (absence) seizure (HP:0002121): onset ; excluded: Status epilepticus (HP:0002133): onset ; excluded: Developmental regression (HP:0002376): onset ; excluded: Hypotonia (HP:0001252): onset ; excluded: Attention deficit hyperactivity disorder (HP:0007018): onset <br/><b>TimeElement(element=Age(iso8601duration=P6M))</b>: Focal-onset seizure (HP:0007359): onset age {\n",
       "  iso8601duration: \"P6M\"\n",
       "}\n",
       "</td></tr>\n",
       "<tr><td style=\"text-align: left;\">Proband 6 (FEMALE; P10Y)</td><td style=\"text-align: left;\">Developmental and epileptic encephalopathy 112 (OMIM:620537)</td><td style=\"text-align: left;\">NM_139318.5:c.980G>A (heterozygous)</td><td style=\"text-align: left;\">Bilateral tonic-clonic seizure with focal onset (HP:0007334): onset ; Focal motor seizure (HP:0011153): onset ; Epileptic encephalopathy (HP:0200134): onset ; Delayed speech and language development (HP:0000750): onset ; Intellectual disability (HP:0001249): onset ; EEG abnormality (HP:0002353): onset ; excluded: Focal impaired awareness motor seizure (HP:0032712): onset ; excluded: Focal aware motor seizure (HP:0020217): onset ; excluded: Focal tonic seizure (HP:0011167): onset ; excluded: Focal hemiclonic seizure (HP:0006813): onset ; excluded: Myoclonic seizure (HP:0032794): onset ; excluded: Generalized non-motor (absence) seizure (HP:0002121): onset ; excluded: Status epilepticus (HP:0002133): onset ; excluded: Developmental regression (HP:0002376): onset ; excluded: Hypotonia (HP:0001252): onset ; excluded: Chiari type I malformation (HP:0007099): onset ; excluded: Cerebral atrophy (HP:0002059): onset ; excluded: Delayed CNS myelination (HP:0002188): onset ; excluded: Autistic behavior (HP:0000729): onset ; excluded: Attention deficit hyperactivity disorder (HP:0007018): onset </td></tr>\n",
       "<tr><td style=\"text-align: left;\">Proband 7 (MALE; P9Y)</td><td style=\"text-align: left;\">Developmental and epileptic encephalopathy 112 (OMIM:620537)</td><td style=\"text-align: left;\">NM_139318.5:c.980G>A (heterozygous)</td><td style=\"text-align: left;\">Bilateral tonic-clonic seizure (HP:0002069): onset ; Myoclonic seizure (HP:0032794): onset ; Clonic seizure (HP:0020221): onset ; Generalized non-motor (absence) seizure (HP:0002121): onset ; Epileptic encephalopathy (HP:0200134): onset ; Delayed speech and language development (HP:0000750): onset ; Intellectual disability (HP:0001249): onset ; EEG abnormality (HP:0002353): onset ; excluded: Bilateral tonic-clonic seizure with focal onset (HP:0007334): onset ; excluded: Focal aware motor seizure (HP:0020217): onset ; excluded: Focal tonic seizure (HP:0011167): onset ; excluded: Focal hemiclonic seizure (HP:0006813): onset ; excluded: Status epilepticus (HP:0002133): onset ; excluded: Developmental regression (HP:0002376): onset ; excluded: Hypotonia (HP:0001252): onset ; excluded: Chiari type I malformation (HP:0007099): onset ; excluded: Cerebral atrophy (HP:0002059): onset ; excluded: Delayed CNS myelination (HP:0002188): onset ; excluded: Autistic behavior (HP:0000729): onset ; excluded: Attention deficit hyperactivity disorder (HP:0007018): onset <br/><b>TimeElement(element=Age(iso8601duration=P10M))</b>: Focal impaired awareness motor seizure (HP:0032712): onset age {\n",
       "  iso8601duration: \"P10M\"\n",
       "}\n",
       "</td></tr>\n",
       "<tr><td style=\"text-align: left;\">Proband 8 (FEMALE; P3Y8M)</td><td style=\"text-align: left;\">Developmental and epileptic encephalopathy 112 (OMIM:620537)</td><td style=\"text-align: left;\">NM_139318.5:c.980G>A (heterozygous)</td><td style=\"text-align: left;\">Bilateral tonic-clonic seizure with focal onset (HP:0007334): onset ; Epileptic encephalopathy (HP:0200134): onset ; Delayed speech and language development (HP:0000750): onset ; Intellectual disability (HP:0001249): onset ; EEG abnormality (HP:0002353): onset ; Autistic behavior (HP:0000729): onset ; excluded: Focal aware motor seizure (HP:0020217): onset ; excluded: Focal tonic seizure (HP:0011167): onset ; excluded: Focal hemiclonic seizure (HP:0006813): onset ; excluded: Myoclonic seizure (HP:0032794): onset ; excluded: Generalized non-motor (absence) seizure (HP:0002121): onset ; excluded: Status epilepticus (HP:0002133): onset ; excluded: Developmental regression (HP:0002376): onset ; excluded: Hypotonia (HP:0001252): onset ; excluded: Chiari type I malformation (HP:0007099): onset ; excluded: Cerebral atrophy (HP:0002059): onset ; excluded: Delayed CNS myelination (HP:0002188): onset ; excluded: Attention deficit hyperactivity disorder (HP:0007018): onset <br/><b>TimeElement(element=Age(iso8601duration=P2M))</b>: Focal motor seizure (HP:0011153): onset age {\n",
       "  iso8601duration: \"P2M\"\n",
       "}\n",
       "</td></tr>\n",
       "<tr><td style=\"text-align: left;\">Proband 9 (FEMALE; P1Y7M)</td><td style=\"text-align: left;\">Developmental and epileptic encephalopathy 112 (OMIM:620537)</td><td style=\"text-align: left;\">NM_139318.5:c.980G>A (heterozygous)</td><td style=\"text-align: left;\">Bilateral tonic-clonic seizure (HP:0002069): onset ; Epileptic encephalopathy (HP:0200134): onset ; Delayed speech and language development (HP:0000750): onset ; EEG abnormality (HP:0002353): onset ; excluded: Bilateral tonic-clonic seizure with focal onset (HP:0007334): onset ; excluded: Focal impaired awareness motor seizure (HP:0032712): onset ; excluded: Focal aware motor seizure (HP:0020217): onset ; excluded: Focal tonic seizure (HP:0011167): onset ; excluded: Focal hemiclonic seizure (HP:0006813): onset ; excluded: Myoclonic seizure (HP:0032794): onset ; excluded: Generalized non-motor (absence) seizure (HP:0002121): onset ; excluded: Status epilepticus (HP:0002133): onset ; excluded: Developmental regression (HP:0002376): onset ; excluded: Hypotonia (HP:0001252): onset ; excluded: Chiari type I malformation (HP:0007099): onset ; excluded: Cerebral atrophy (HP:0002059): onset ; excluded: Delayed CNS myelination (HP:0002188): onset ; excluded: Autistic behavior (HP:0000729): onset ; excluded: Attention deficit hyperactivity disorder (HP:0007018): onset </td></tr>\n",
       "<tr><td style=\"text-align: left;\">Proband 10 (MALE; Infantile onset (HP:0003593))</td><td style=\"text-align: left;\">Developmental and epileptic encephalopathy 112 (OMIM:620537)</td><td style=\"text-align: left;\">NM_139318.5:c.980G>A (heterozygous)</td><td style=\"text-align: left;\">Bilateral tonic-clonic seizure (HP:0002069): onset ; Epileptic encephalopathy (HP:0200134): onset ; Global developmental delay (HP:0001263): onset ; Intellectual disability (HP:0001249): onset ; EEG abnormality (HP:0002353): onset ; excluded: Bilateral tonic-clonic seizure with focal onset (HP:0007334): onset ; excluded: Focal impaired awareness motor seizure (HP:0032712): onset ; excluded: Focal aware motor seizure (HP:0020217): onset ; excluded: Focal tonic seizure (HP:0011167): onset ; excluded: Focal hemiclonic seizure (HP:0006813): onset ; excluded: Myoclonic seizure (HP:0032794): onset ; excluded: Generalized non-motor (absence) seizure (HP:0002121): onset ; excluded: Status epilepticus (HP:0002133): onset ; excluded: Developmental regression (HP:0002376): onset ; excluded: Hypotonia (HP:0001252): onset ; excluded: Chiari type I malformation (HP:0007099): onset ; excluded: Cerebral atrophy (HP:0002059): onset ; excluded: Delayed CNS myelination (HP:0002188): onset ; excluded: Autistic behavior (HP:0000729): onset ; excluded: Attention deficit hyperactivity disorder (HP:0007018): onset </td></tr>\n",
       "<tr><td style=\"text-align: left;\">Proband 11 (FEMALE; P3Y6M)</td><td style=\"text-align: left;\">Developmental and epileptic encephalopathy 112 (OMIM:620537)</td><td style=\"text-align: left;\">NM_139318.5:c.998G>A (heterozygous)</td><td style=\"text-align: left;\">Bilateral tonic-clonic seizure with focal onset (HP:0007334): onset ; excluded: Focal aware motor seizure (HP:0020217): onset ; excluded: Focal tonic seizure (HP:0011167): onset ; excluded: Focal hemiclonic seizure (HP:0006813): onset ; excluded: Myoclonic seizure (HP:0032794): onset ; excluded: Generalized non-motor (absence) seizure (HP:0002121): onset ; excluded: Status epilepticus (HP:0002133): onset ; excluded: Epileptic encephalopathy (HP:0200134): onset ; excluded: Global developmental delay (HP:0001263): onset ; excluded: Developmental regression (HP:0002376): onset ; excluded: Hypotonia (HP:0001252): onset ; excluded: Chiari type I malformation (HP:0007099): onset ; excluded: Cerebral atrophy (HP:0002059): onset ; excluded: Delayed CNS myelination (HP:0002188): onset ; excluded: EEG abnormality (HP:0002353): onset ; excluded: Autistic behavior (HP:0000729): onset ; excluded: Attention deficit hyperactivity disorder (HP:0007018): onset <br/><b>TimeElement(element=Age(iso8601duration=P8M))</b>: Focal impaired awareness motor seizure (HP:0032712): onset age {\n",
       "  iso8601duration: \"P8M\"\n",
       "}\n",
       "</td></tr>\n",
       "<tr><td style=\"text-align: left;\">Proband 12 (FEMALE; P7Y)</td><td style=\"text-align: left;\">Developmental and epileptic encephalopathy 112 (OMIM:620537)</td><td style=\"text-align: left;\">NM_139318.5:c.998G>A (heterozygous)</td><td style=\"text-align: left;\">Delayed speech and language development (HP:0000750): onset ; excluded: Bilateral tonic-clonic seizure with focal onset (HP:0007334): onset ; excluded: Focal impaired awareness motor seizure (HP:0032712): onset ; excluded: Focal aware motor seizure (HP:0020217): onset ; excluded: Focal tonic seizure (HP:0011167): onset ; excluded: Focal hemiclonic seizure (HP:0006813): onset ; excluded: Myoclonic seizure (HP:0032794): onset ; excluded: Generalized non-motor (absence) seizure (HP:0002121): onset ; excluded: Status epilepticus (HP:0002133): onset ; excluded: Developmental regression (HP:0002376): onset ; excluded: Intellectual disability (HP:0001249): onset ; excluded: Hypotonia (HP:0001252): onset ; excluded: Chiari type I malformation (HP:0007099): onset ; excluded: Cerebral atrophy (HP:0002059): onset ; excluded: Delayed CNS myelination (HP:0002188): onset ; excluded: EEG abnormality (HP:0002353): onset ; excluded: Autistic behavior (HP:0000729): onset ; excluded: Attention deficit hyperactivity disorder (HP:0007018): onset <br/><b>TimeElement(element=Age(iso8601duration=P9M))</b>: Bilateral tonic-clonic seizure (HP:0002069): onset age {\n",
       "  iso8601duration: \"P9M\"\n",
       "}\n",
       "</td></tr>\n",
       "<tr><td style=\"text-align: left;\">Proband 13 (FEMALE; P10Y)</td><td style=\"text-align: left;\">Developmental and epileptic encephalopathy 112 (OMIM:620537)</td><td style=\"text-align: left;\">NM_139318.5:c.998G>A (heterozygous)</td><td style=\"text-align: left;\">Bilateral tonic-clonic seizure with focal onset (HP:0007334): onset ; Global developmental delay (HP:0001263): onset ; Motor delay (HP:0001270): onset ; Delayed speech and language development (HP:0000750): onset ; Chiari type I malformation (HP:0007099): onset ; EEG abnormality (HP:0002353): onset ; excluded: Focal aware motor seizure (HP:0020217): onset ; excluded: Focal tonic seizure (HP:0011167): onset ; excluded: Focal hemiclonic seizure (HP:0006813): onset ; excluded: Myoclonic seizure (HP:0032794): onset ; excluded: Generalized non-motor (absence) seizure (HP:0002121): onset ; excluded: Status epilepticus (HP:0002133): onset ; excluded: Epileptic encephalopathy (HP:0200134): onset ; excluded: Developmental regression (HP:0002376): onset ; excluded: Intellectual disability (HP:0001249): onset ; excluded: Hypotonia (HP:0001252): onset ; excluded: Cerebral atrophy (HP:0002059): onset ; excluded: Delayed CNS myelination (HP:0002188): onset ; excluded: Autistic behavior (HP:0000729): onset ; excluded: Attention deficit hyperactivity disorder (HP:0007018): onset <br/><b>TimeElement(element=Age(iso8601duration=P10M))</b>: Focal impaired awareness motor seizure (HP:0032712): onset age {\n",
       "  iso8601duration: \"P10M\"\n",
       "}\n",
       "</td></tr>\n",
       "<tr><td style=\"text-align: left;\">Proband 14 (FEMALE; P1Y3M)</td><td style=\"text-align: left;\">Developmental and epileptic encephalopathy 112 (OMIM:620537)</td><td style=\"text-align: left;\">NM_139318.5:c.998G>A (heterozygous)</td><td style=\"text-align: left;\">Bilateral tonic-clonic seizure (HP:0002069): onset ; Myoclonic seizure (HP:0032794): onset ; Hypotonia (HP:0001252): onset ; EEG abnormality (HP:0002353): onset ; excluded: Bilateral tonic-clonic seizure with focal onset (HP:0007334): onset ; excluded: Focal impaired awareness motor seizure (HP:0032712): onset ; excluded: Focal aware motor seizure (HP:0020217): onset ; excluded: Focal tonic seizure (HP:0011167): onset ; excluded: Focal hemiclonic seizure (HP:0006813): onset ; excluded: Generalized non-motor (absence) seizure (HP:0002121): onset ; excluded: Status epilepticus (HP:0002133): onset ; excluded: Epileptic encephalopathy (HP:0200134): onset ; excluded: Chiari type I malformation (HP:0007099): onset ; excluded: Cerebral atrophy (HP:0002059): onset ; excluded: Delayed CNS myelination (HP:0002188): onset ; excluded: Autistic behavior (HP:0000729): onset ; excluded: Attention deficit hyperactivity disorder (HP:0007018): onset </td></tr>\n",
       "<tr><td style=\"text-align: left;\">Proband 15 (FEMALE; P11M)</td><td style=\"text-align: left;\">Developmental and epileptic encephalopathy 112 (OMIM:620537)</td><td style=\"text-align: left;\">NM_139318.5:c.1388T>C (heterozygous)</td><td style=\"text-align: left;\">Bilateral tonic-clonic seizure (HP:0002069): onset ; Myoclonic seizure (HP:0032794): onset ; Status epilepticus (HP:0002133): onset ; Epileptic encephalopathy (HP:0200134): onset ; Global developmental delay (HP:0001263): onset ; Hypotonia (HP:0001252): onset ; Cerebral atrophy (HP:0002059): onset ; Delayed CNS myelination (HP:0002188): onset ; EEG abnormality (HP:0002353): onset ; excluded: Bilateral tonic-clonic seizure with focal onset (HP:0007334): onset ; excluded: Focal impaired awareness motor seizure (HP:0032712): onset ; excluded: Focal aware motor seizure (HP:0020217): onset ; excluded: Focal hemiclonic seizure (HP:0006813): onset ; excluded: Generalized non-motor (absence) seizure (HP:0002121): onset ; excluded: Developmental regression (HP:0002376): onset ; excluded: Chiari type I malformation (HP:0007099): onset ; excluded: Autistic behavior (HP:0000729): onset ; excluded: Attention deficit hyperactivity disorder (HP:0007018): onset <br/><b>TimeElement(element=Age(iso8601duration=P3M))</b>: Focal tonic seizure (HP:0011167): onset age {\n",
       "  iso8601duration: \"P3M\"\n",
       "}\n",
       "</td></tr>\n",
       "<tr><td style=\"text-align: left;\">Proband 16 (FEMALE; P9Y)</td><td style=\"text-align: left;\">Developmental and epileptic encephalopathy 112 (OMIM:620537)</td><td style=\"text-align: left;\">NM_139318.5:c.1402A>C (heterozygous)</td><td style=\"text-align: left;\">Bilateral tonic-clonic seizure (HP:0002069): onset ; Focal tonic seizure (HP:0011167): onset ; Myoclonic seizure (HP:0032794): onset ; Status epilepticus (HP:0002133): onset ; Epileptic encephalopathy (HP:0200134): onset ; Global developmental delay (HP:0001263): onset ; Intellectual disability (HP:0001249): onset ; Hypotonia (HP:0001252): onset ; Cerebral atrophy (HP:0002059): onset ; EEG abnormality (HP:0002353): onset ; excluded: Bilateral tonic-clonic seizure with focal onset (HP:0007334): onset ; excluded: Focal impaired awareness motor seizure (HP:0032712): onset ; excluded: Focal aware motor seizure (HP:0020217): onset ; excluded: Focal hemiclonic seizure (HP:0006813): onset ; excluded: Generalized non-motor (absence) seizure (HP:0002121): onset ; excluded: Developmental regression (HP:0002376): onset ; excluded: Chiari type I malformation (HP:0007099): onset ; excluded: Delayed CNS myelination (HP:0002188): onset ; excluded: Autistic behavior (HP:0000729): onset ; excluded: Attention deficit hyperactivity disorder (HP:0007018): onset </td></tr>\n",
       "<tr><td style=\"text-align: left;\">Proband 17 (FEMALE; P12Y)</td><td style=\"text-align: left;\">Developmental and epileptic encephalopathy 112 (OMIM:620537)</td><td style=\"text-align: left;\">NM_139318.5:c.1412T>C (heterozygous)</td><td style=\"text-align: left;\">Focal impaired awareness motor seizure (HP:0032712): onset ; Epileptic encephalopathy (HP:0200134): onset ; Global developmental delay (HP:0001263): onset ; Intellectual disability (HP:0001249): onset ; EEG abnormality (HP:0002353): onset ; excluded: Bilateral tonic-clonic seizure with focal onset (HP:0007334): onset ; excluded: Focal aware motor seizure (HP:0020217): onset ; excluded: Focal tonic seizure (HP:0011167): onset ; excluded: Focal hemiclonic seizure (HP:0006813): onset ; excluded: Myoclonic seizure (HP:0032794): onset ; excluded: Generalized non-motor (absence) seizure (HP:0002121): onset ; excluded: Status epilepticus (HP:0002133): onset ; excluded: Developmental regression (HP:0002376): onset ; excluded: Hypotonia (HP:0001252): onset ; excluded: Chiari type I malformation (HP:0007099): onset ; excluded: Cerebral atrophy (HP:0002059): onset ; excluded: Delayed CNS myelination (HP:0002188): onset ; excluded: Autistic behavior (HP:0000729): onset ; excluded: Attention deficit hyperactivity disorder (HP:0007018): onset <br/><b>TimeElement(element=Age(iso8601duration=P1Y))</b>: Bilateral tonic-clonic seizure (HP:0002069): onset age {\n",
       "  iso8601duration: \"P1Y\"\n",
       "}\n",
       "</td></tr>\n",
       "<tr><td style=\"text-align: left;\">Patient 1 (MALE; P7Y6M)</td><td style=\"text-align: left;\">Developmental and epileptic encephalopathy 112 (OMIM:620537)</td><td style=\"text-align: left;\">NM_139318.5:c.980G>A (heterozygous)</td><td style=\"text-align: left;\">Bilateral tonic-clonic seizure (HP:0002069): onset ; Focal-onset seizure (HP:0007359): onset ; Epileptic encephalopathy (HP:0200134): onset ; Global developmental delay (HP:0001263): onset ; Intellectual disability (HP:0001249): onset ; EEG abnormality (HP:0002353): onset ; excluded: Infantile spasms (HP:0012469): onset ; excluded: Myoclonic seizure (HP:0032794): onset ; excluded: Clonic seizure (HP:0020221): onset ; excluded: Generalized non-motor (absence) seizure (HP:0002121): onset ; excluded: Status epilepticus (HP:0002133): onset ; excluded: Autistic behavior (HP:0000729): onset ; excluded: Attention deficit hyperactivity disorder (HP:0007018): onset </td></tr>\n",
       "<tr><td style=\"text-align: left;\">Patient 2 (MALE; P15Y7M)</td><td style=\"text-align: left;\">Developmental and epileptic encephalopathy 112 (OMIM:620537)</td><td style=\"text-align: left;\">NM_139318.5:c.980G>A (heterozygous)</td><td style=\"text-align: left;\">Bilateral tonic-clonic seizure (HP:0002069): onset ; Focal-onset seizure (HP:0007359): onset ; Epileptic encephalopathy (HP:0200134): onset ; Global developmental delay (HP:0001263): onset ; Intellectual disability (HP:0001249): onset ; EEG abnormality (HP:0002353): onset ; excluded: Infantile spasms (HP:0012469): onset ; excluded: Myoclonic seizure (HP:0032794): onset ; excluded: Clonic seizure (HP:0020221): onset ; excluded: Generalized non-motor (absence) seizure (HP:0002121): onset ; excluded: Status epilepticus (HP:0002133): onset ; excluded: Autistic behavior (HP:0000729): onset ; excluded: Attention deficit hyperactivity disorder (HP:0007018): onset </td></tr>\n",
       "<tr><td style=\"text-align: left;\">Patient 3 (MALE; P14Y8M)</td><td style=\"text-align: left;\">Developmental and epileptic encephalopathy 112 (OMIM:620537)</td><td style=\"text-align: left;\">NM_139318.5:c.980G>A (heterozygous)</td><td style=\"text-align: left;\">Bilateral tonic-clonic seizure (HP:0002069): onset ; Focal-onset seizure (HP:0007359): onset ; Epileptic encephalopathy (HP:0200134): onset ; Global developmental delay (HP:0001263): onset ; Intellectual disability (HP:0001249): onset ; EEG abnormality (HP:0002353): onset ; excluded: Infantile spasms (HP:0012469): onset ; excluded: Myoclonic seizure (HP:0032794): onset ; excluded: Clonic seizure (HP:0020221): onset ; excluded: Generalized non-motor (absence) seizure (HP:0002121): onset ; excluded: Status epilepticus (HP:0002133): onset ; excluded: Autistic behavior (HP:0000729): onset ; excluded: Attention deficit hyperactivity disorder (HP:0007018): onset </td></tr>\n",
       "<tr><td style=\"text-align: left;\">Patient 4 (MALE; P4Y)</td><td style=\"text-align: left;\">Developmental and epileptic encephalopathy 112 (OMIM:620537)</td><td style=\"text-align: left;\">NM_139318.5:c.980G>A (heterozygous)</td><td style=\"text-align: left;\">Focal-onset seizure (HP:0007359): onset ; Epileptic encephalopathy (HP:0200134): onset ; Global developmental delay (HP:0001263): onset ; EEG abnormality (HP:0002353): onset ; excluded: Bilateral tonic-clonic seizure (HP:0002069): onset ; excluded: Infantile spasms (HP:0012469): onset ; excluded: Myoclonic seizure (HP:0032794): onset ; excluded: Clonic seizure (HP:0020221): onset ; excluded: Generalized non-motor (absence) seizure (HP:0002121): onset ; excluded: Status epilepticus (HP:0002133): onset ; excluded: Autistic behavior (HP:0000729): onset ; excluded: Attention deficit hyperactivity disorder (HP:0007018): onset </td></tr>\n",
       "<tr><td style=\"text-align: left;\">Patient 5 (FEMALE; P2Y2M)</td><td style=\"text-align: left;\">Developmental and epileptic encephalopathy 112 (OMIM:620537)</td><td style=\"text-align: left;\">NM_139318.5:c.980G>A (heterozygous)</td><td style=\"text-align: left;\">Bilateral tonic-clonic seizure (HP:0002069): onset ; Focal-onset seizure (HP:0007359): onset ; Epileptic encephalopathy (HP:0200134): onset ; Global developmental delay (HP:0001263): onset ; EEG abnormality (HP:0002353): onset ; excluded: Infantile spasms (HP:0012469): onset ; excluded: Myoclonic seizure (HP:0032794): onset ; excluded: Clonic seizure (HP:0020221): onset ; excluded: Generalized non-motor (absence) seizure (HP:0002121): onset ; excluded: Status epilepticus (HP:0002133): onset ; excluded: Autistic behavior (HP:0000729): onset ; excluded: Attention deficit hyperactivity disorder (HP:0007018): onset </td></tr>\n",
       "</table>"
      ],
      "text/plain": [
       "<IPython.core.display.HTML object>"
      ]
     },
     "metadata": {},
     "output_type": "display_data"
    }
   ],
   "source": [
    "table = IndividualTable(cvalidator.get_error_free_individual_list())\n",
    "display(HTML(table.to_html()))"
   ]
  },
  {
   "cell_type": "code",
   "execution_count": 6,
   "id": "fbb4efe5-bf8e-4640-950d-8cd20b25fde9",
   "metadata": {},
   "outputs": [
    {
     "name": "stdout",
     "output_type": "stream",
     "text": [
      "[pyphetools] Ingested 27 GA4GH phenopackets.\n",
      "\tDevelopmental and epileptic encephalopathy 112 (OMIM:620537): n=27\n",
      "We found a total of 28 unique HPO terms\n",
      "Extracted disease: Developmental and epileptic encephalopathy 112 (OMIM:620537)\n",
      "Wrote HPOA disease file to OMIM-620537.tab\n"
     ]
    },
    {
     "data": {
      "text/html": [
       "<div>\n",
       "<style scoped>\n",
       "    .dataframe tbody tr th:only-of-type {\n",
       "        vertical-align: middle;\n",
       "    }\n",
       "\n",
       "    .dataframe tbody tr th {\n",
       "        vertical-align: top;\n",
       "    }\n",
       "\n",
       "    .dataframe thead th {\n",
       "        text-align: right;\n",
       "    }\n",
       "</style>\n",
       "<table border=\"1\" class=\"dataframe\">\n",
       "  <thead>\n",
       "    <tr style=\"text-align: right;\">\n",
       "      <th></th>\n",
       "      <th>#diseaseID</th>\n",
       "      <th>diseaseName</th>\n",
       "      <th>phenotypeID</th>\n",
       "      <th>phenotypeName</th>\n",
       "      <th>onsetID</th>\n",
       "      <th>onsetName</th>\n",
       "      <th>frequency</th>\n",
       "      <th>sex</th>\n",
       "      <th>negation</th>\n",
       "      <th>modifier</th>\n",
       "      <th>description</th>\n",
       "      <th>publication</th>\n",
       "      <th>evidence</th>\n",
       "      <th>biocuration</th>\n",
       "    </tr>\n",
       "  </thead>\n",
       "  <tbody>\n",
       "    <tr>\n",
       "      <th>0</th>\n",
       "      <td>OMIM:620537</td>\n",
       "      <td>Developmental and epileptic encephalopathy 112</td>\n",
       "      <td>HP:0007359</td>\n",
       "      <td>Focal-onset seizure</td>\n",
       "      <td></td>\n",
       "      <td></td>\n",
       "      <td>5/5</td>\n",
       "      <td></td>\n",
       "      <td></td>\n",
       "      <td></td>\n",
       "      <td></td>\n",
       "      <td>PMID:38708366</td>\n",
       "      <td>PCS</td>\n",
       "      <td>ORCID:0000-0002-0736-9199[2024-09-10]</td>\n",
       "    </tr>\n",
       "    <tr>\n",
       "      <th>1</th>\n",
       "      <td>OMIM:620537</td>\n",
       "      <td>Developmental and epileptic encephalopathy 112</td>\n",
       "      <td>HP:0200134</td>\n",
       "      <td>Epileptic encephalopathy</td>\n",
       "      <td></td>\n",
       "      <td></td>\n",
       "      <td>5/5</td>\n",
       "      <td></td>\n",
       "      <td></td>\n",
       "      <td></td>\n",
       "      <td></td>\n",
       "      <td>PMID:38708366</td>\n",
       "      <td>PCS</td>\n",
       "      <td>ORCID:0000-0002-0736-9199[2024-09-10]</td>\n",
       "    </tr>\n",
       "    <tr>\n",
       "      <th>2</th>\n",
       "      <td>OMIM:620537</td>\n",
       "      <td>Developmental and epileptic encephalopathy 112</td>\n",
       "      <td>HP:0001263</td>\n",
       "      <td>Global developmental delay</td>\n",
       "      <td></td>\n",
       "      <td></td>\n",
       "      <td>5/5</td>\n",
       "      <td></td>\n",
       "      <td></td>\n",
       "      <td></td>\n",
       "      <td></td>\n",
       "      <td>PMID:38708366</td>\n",
       "      <td>PCS</td>\n",
       "      <td>ORCID:0000-0002-0736-9199[2024-09-10]</td>\n",
       "    </tr>\n",
       "    <tr>\n",
       "      <th>3</th>\n",
       "      <td>OMIM:620537</td>\n",
       "      <td>Developmental and epileptic encephalopathy 112</td>\n",
       "      <td>HP:0002353</td>\n",
       "      <td>EEG abnormality</td>\n",
       "      <td></td>\n",
       "      <td></td>\n",
       "      <td>5/5</td>\n",
       "      <td></td>\n",
       "      <td></td>\n",
       "      <td></td>\n",
       "      <td></td>\n",
       "      <td>PMID:38708366</td>\n",
       "      <td>PCS</td>\n",
       "      <td>ORCID:0000-0002-0736-9199[2024-09-10]</td>\n",
       "    </tr>\n",
       "    <tr>\n",
       "      <th>4</th>\n",
       "      <td>OMIM:620537</td>\n",
       "      <td>Developmental and epileptic encephalopathy 112</td>\n",
       "      <td>HP:0002069</td>\n",
       "      <td>Bilateral tonic-clonic seizure</td>\n",
       "      <td></td>\n",
       "      <td></td>\n",
       "      <td>4/5</td>\n",
       "      <td></td>\n",
       "      <td></td>\n",
       "      <td></td>\n",
       "      <td></td>\n",
       "      <td>PMID:38708366</td>\n",
       "      <td>PCS</td>\n",
       "      <td>ORCID:0000-0002-0736-9199[2024-09-10]</td>\n",
       "    </tr>\n",
       "  </tbody>\n",
       "</table>\n",
       "</div>"
      ],
      "text/plain": [
       "    #diseaseID                                     diseaseName phenotypeID  \\\n",
       "0  OMIM:620537  Developmental and epileptic encephalopathy 112  HP:0007359   \n",
       "1  OMIM:620537  Developmental and epileptic encephalopathy 112  HP:0200134   \n",
       "2  OMIM:620537  Developmental and epileptic encephalopathy 112  HP:0001263   \n",
       "3  OMIM:620537  Developmental and epileptic encephalopathy 112  HP:0002353   \n",
       "4  OMIM:620537  Developmental and epileptic encephalopathy 112  HP:0002069   \n",
       "\n",
       "                    phenotypeName onsetID onsetName frequency sex negation  \\\n",
       "0             Focal-onset seizure                         5/5                \n",
       "1        Epileptic encephalopathy                         5/5                \n",
       "2      Global developmental delay                         5/5                \n",
       "3                 EEG abnormality                         5/5                \n",
       "4  Bilateral tonic-clonic seizure                         4/5                \n",
       "\n",
       "  modifier description    publication evidence  \\\n",
       "0                       PMID:38708366      PCS   \n",
       "1                       PMID:38708366      PCS   \n",
       "2                       PMID:38708366      PCS   \n",
       "3                       PMID:38708366      PCS   \n",
       "4                       PMID:38708366      PCS   \n",
       "\n",
       "                             biocuration  \n",
       "0  ORCID:0000-0002-0736-9199[2024-09-10]  \n",
       "1  ORCID:0000-0002-0736-9199[2024-09-10]  \n",
       "2  ORCID:0000-0002-0736-9199[2024-09-10]  \n",
       "3  ORCID:0000-0002-0736-9199[2024-09-10]  \n",
       "4  ORCID:0000-0002-0736-9199[2024-09-10]  "
      ]
     },
     "execution_count": 6,
     "metadata": {},
     "output_type": "execute_result"
    }
   ],
   "source": [
    "PMID = \"PMID:36307226\"\n",
    "df = timporter.create_hpoa_from_phenopackets(pmid=PMID, mode_of_inheritance=Moi.AD)\n",
    "df.head()"
   ]
  },
  {
   "cell_type": "code",
   "execution_count": null,
   "id": "2335d0e8-3c5d-4190-93fa-e09718024930",
   "metadata": {},
   "outputs": [],
   "source": []
  }
 ],
 "metadata": {
  "kernelspec": {
   "display_name": "Python 3 (ipykernel)",
   "language": "python",
   "name": "python3"
  },
  "language_info": {
   "codemirror_mode": {
    "name": "ipython",
    "version": 3
   },
   "file_extension": ".py",
   "mimetype": "text/x-python",
   "name": "python",
   "nbconvert_exporter": "python",
   "pygments_lexer": "ipython3",
   "version": "3.12.4"
  }
 },
 "nbformat": 4,
 "nbformat_minor": 5
}
