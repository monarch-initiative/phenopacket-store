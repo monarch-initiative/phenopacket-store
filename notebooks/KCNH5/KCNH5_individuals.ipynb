{
 "cells": [
  {
   "cell_type": "markdown",
   "id": "8f41d44c-87b0-4c84-8ece-a47c37fb2fd1",
   "metadata": {},
   "source": [
    "# KCNH5 Individuals"
   ]
  },
  {
   "cell_type": "code",
   "execution_count": 1,
   "id": "71e97109-4097-4c6d-b04c-a907addbb767",
   "metadata": {},
   "outputs": [
    {
     "name": "stdout",
     "output_type": "stream",
     "text": [
      "Using pyphetools version 0.9.54\n"
     ]
    }
   ],
   "source": [
    "import pandas as pd\n",
    "from IPython.display import display, HTML\n",
    "pd.set_option('display.max_colwidth', None) # show entire column contents, important!\n",
    "from collections import defaultdict\n",
    "from pyphetools.creation import *\n",
    "from pyphetools.visualization import *\n",
    "from pyphetools.validation import *\n",
    "import pyphetools\n",
    "print(f\"Using pyphetools version {pyphetools.__version__}\")"
   ]
  },
  {
   "cell_type": "code",
   "execution_count": 2,
   "id": "239507bc-693b-46de-9ef2-b45a7216c821",
   "metadata": {},
   "outputs": [
    {
     "name": "stdout",
     "output_type": "stream",
     "text": [
      "HPO version 2024-02-27\n"
     ]
    }
   ],
   "source": [
    "parser = HpoParser(hpo_json_file=\"../hp.json\")\n",
    "hpo_cr = parser.get_hpo_concept_recognizer()\n",
    "hpo_version = parser.get_version()\n",
    "hpo_ontology = parser.get_ontology()\n",
    "created_by=\"ORCID:0000-0002-0736-9199\"\n",
    "print(f\"HPO version {hpo_version}\")"
   ]
  },
  {
   "cell_type": "code",
   "execution_count": 3,
   "id": "b97a5194-2076-4d84-b82b-39eaace2f82c",
   "metadata": {},
   "outputs": [
    {
     "data": {
      "text/html": [
       "<div>\n",
       "<style scoped>\n",
       "    .dataframe tbody tr th:only-of-type {\n",
       "        vertical-align: middle;\n",
       "    }\n",
       "\n",
       "    .dataframe tbody tr th {\n",
       "        vertical-align: top;\n",
       "    }\n",
       "\n",
       "    .dataframe thead th {\n",
       "        text-align: right;\n",
       "    }\n",
       "</style>\n",
       "<table border=\"1\" class=\"dataframe\">\n",
       "  <thead>\n",
       "    <tr style=\"text-align: right;\">\n",
       "      <th></th>\n",
       "      <th>PMID</th>\n",
       "      <th>title</th>\n",
       "      <th>individual_id</th>\n",
       "      <th>comment</th>\n",
       "      <th>disease_id</th>\n",
       "      <th>disease_label</th>\n",
       "      <th>transcript</th>\n",
       "      <th>allele_1</th>\n",
       "      <th>allele_2</th>\n",
       "      <th>variant.comment</th>\n",
       "      <th>...</th>\n",
       "      <th>Motor delay</th>\n",
       "      <th>Delayed speech and language development</th>\n",
       "      <th>Developmental regression</th>\n",
       "      <th>Intellectual disability</th>\n",
       "      <th>Hypotonia</th>\n",
       "      <th>Hyperintensity of cerebral white matter on MRI</th>\n",
       "      <th>Chiari type I malformation</th>\n",
       "      <th>Cerebral atrophy</th>\n",
       "      <th>Delayed CNS myelination</th>\n",
       "      <th>Miscellaneous</th>\n",
       "    </tr>\n",
       "  </thead>\n",
       "  <tbody>\n",
       "    <tr>\n",
       "      <th>0</th>\n",
       "      <td>str</td>\n",
       "      <td>str</td>\n",
       "      <td>str</td>\n",
       "      <td>optional str</td>\n",
       "      <td>str</td>\n",
       "      <td>str</td>\n",
       "      <td>str</td>\n",
       "      <td>str</td>\n",
       "      <td>str</td>\n",
       "      <td>optional str</td>\n",
       "      <td>...</td>\n",
       "      <td>HP:0001270</td>\n",
       "      <td>HP:0000750</td>\n",
       "      <td>HP:0002376</td>\n",
       "      <td>HP:0001249</td>\n",
       "      <td>HP:0001252</td>\n",
       "      <td>HP:0030890</td>\n",
       "      <td>HP:0007099</td>\n",
       "      <td>HP:0002059</td>\n",
       "      <td>HP:0002188</td>\n",
       "      <td>Miscellaneous</td>\n",
       "    </tr>\n",
       "    <tr>\n",
       "      <th>1</th>\n",
       "      <td>PMID:23647072</td>\n",
       "      <td>Exome sequencing reveals new causal mutations in children with epileptic encephalopathies</td>\n",
       "      <td>Proband F</td>\n",
       "      <td>NaN</td>\n",
       "      <td>OMIM:620537</td>\n",
       "      <td>Developmental and epileptic encephalopathy 112</td>\n",
       "      <td>NM_139318.5</td>\n",
       "      <td>c.980G&gt;A</td>\n",
       "      <td>na</td>\n",
       "      <td>R327H</td>\n",
       "      <td>...</td>\n",
       "      <td>observed</td>\n",
       "      <td>observed</td>\n",
       "      <td>P3Y</td>\n",
       "      <td>na</td>\n",
       "      <td>P3Y</td>\n",
       "      <td>na</td>\n",
       "      <td>na</td>\n",
       "      <td>na</td>\n",
       "      <td>na</td>\n",
       "      <td>Autistic behavior</td>\n",
       "    </tr>\n",
       "  </tbody>\n",
       "</table>\n",
       "<p>2 rows × 39 columns</p>\n",
       "</div>"
      ],
      "text/plain": [
       "            PMID  \\\n",
       "0            str   \n",
       "1  PMID:23647072   \n",
       "\n",
       "                                                                                       title  \\\n",
       "0                                                                                        str   \n",
       "1  Exome sequencing reveals new causal mutations in children with epileptic encephalopathies   \n",
       "\n",
       "  individual_id       comment   disease_id  \\\n",
       "0           str  optional str          str   \n",
       "1     Proband F           NaN  OMIM:620537   \n",
       "\n",
       "                                    disease_label   transcript  allele_1  \\\n",
       "0                                             str          str       str   \n",
       "1  Developmental and epileptic encephalopathy 112  NM_139318.5  c.980G>A   \n",
       "\n",
       "  allele_2 variant.comment  ... Motor delay  \\\n",
       "0      str    optional str  ...  HP:0001270   \n",
       "1       na           R327H  ...    observed   \n",
       "\n",
       "  Delayed speech and language development Developmental regression  \\\n",
       "0                              HP:0000750               HP:0002376   \n",
       "1                                observed                      P3Y   \n",
       "\n",
       "  Intellectual disability   Hypotonia  \\\n",
       "0              HP:0001249  HP:0001252   \n",
       "1                      na         P3Y   \n",
       "\n",
       "  Hyperintensity of cerebral white matter on MRI Chiari type I malformation  \\\n",
       "0                                     HP:0030890                 HP:0007099   \n",
       "1                                             na                         na   \n",
       "\n",
       "  Cerebral atrophy Delayed CNS myelination      Miscellaneous  \n",
       "0       HP:0002059              HP:0002188      Miscellaneous  \n",
       "1               na                      na  Autistic behavior  \n",
       "\n",
       "[2 rows x 39 columns]"
      ]
     },
     "execution_count": 3,
     "metadata": {},
     "output_type": "execute_result"
    }
   ],
   "source": [
    "df = pd.read_excel(\"input/KCNH5_individuals.xlsx\")\n",
    "df.head(2)"
   ]
  },
  {
   "cell_type": "code",
   "execution_count": 4,
   "id": "f2b08202-8608-492d-b8ff-4db67dd10bae",
   "metadata": {},
   "outputs": [
    {
     "name": "stdout",
     "output_type": "stream",
     "text": [
      "Created encoders for 39 fields\n"
     ]
    }
   ],
   "source": [
    "encoder = CaseTemplateEncoder(df=df, hpo_cr=hpo_cr, created_by=created_by)\n",
    "individuals = encoder.get_individuals()"
   ]
  },
  {
   "cell_type": "code",
   "execution_count": 5,
   "id": "618b9068-3203-4f65-a693-26cf848879b5",
   "metadata": {},
   "outputs": [],
   "source": [
    "KCNH5_transcript = \"NM_139318.5\"\n",
    "\n",
    "vmanager = VariantManager(df=df,\n",
    "                          individual_column_name=\"individual_id\",\n",
    "                          gene_symbol=\"KCNH5\",\n",
    "                          transcript=KCNH5_transcript,\n",
    "                          allele_1_column_name=\"allele_1\")"
   ]
  },
  {
   "cell_type": "code",
   "execution_count": 6,
   "id": "08d8a8e4-94fa-4214-b5a0-71912b791803",
   "metadata": {},
   "outputs": [
    {
     "data": {
      "text/html": [
       "<div>\n",
       "<style scoped>\n",
       "    .dataframe tbody tr th:only-of-type {\n",
       "        vertical-align: middle;\n",
       "    }\n",
       "\n",
       "    .dataframe tbody tr th {\n",
       "        vertical-align: top;\n",
       "    }\n",
       "\n",
       "    .dataframe thead th {\n",
       "        text-align: right;\n",
       "    }\n",
       "</style>\n",
       "<table border=\"1\" class=\"dataframe\">\n",
       "  <thead>\n",
       "    <tr style=\"text-align: right;\">\n",
       "      <th></th>\n",
       "      <th>status</th>\n",
       "      <th>count</th>\n",
       "      <th>alleles</th>\n",
       "    </tr>\n",
       "  </thead>\n",
       "  <tbody>\n",
       "    <tr>\n",
       "      <th>0</th>\n",
       "      <td>mapped</td>\n",
       "      <td>8</td>\n",
       "      <td>c.1402A&gt;C, c.2020-4A&gt;G, c.970A&gt;G, c.962G&gt;A, c.1388T&gt;C, c.1412T&gt;C, c.998G&gt;A, c.980G&gt;A</td>\n",
       "    </tr>\n",
       "    <tr>\n",
       "      <th>1</th>\n",
       "      <td>unmapped</td>\n",
       "      <td>0</td>\n",
       "      <td></td>\n",
       "    </tr>\n",
       "  </tbody>\n",
       "</table>\n",
       "</div>"
      ],
      "text/plain": [
       "     status  count  \\\n",
       "0    mapped      8   \n",
       "1  unmapped      0   \n",
       "\n",
       "                                                                                alleles  \n",
       "0  c.1402A>C, c.2020-4A>G, c.970A>G, c.962G>A, c.1388T>C, c.1412T>C, c.998G>A, c.980G>A  \n",
       "1                                                                                        "
      ]
     },
     "execution_count": 6,
     "metadata": {},
     "output_type": "execute_result"
    }
   ],
   "source": [
    "vmanager.to_summary()"
   ]
  },
  {
   "cell_type": "code",
   "execution_count": 7,
   "id": "fe2c6314-1dc1-45d6-92e8-7ae3c1de8245",
   "metadata": {},
   "outputs": [],
   "source": [
    "vmanager.add_variants_to_individuals(individuals)"
   ]
  },
  {
   "cell_type": "code",
   "execution_count": 8,
   "id": "d55e8a47-876e-4db2-9b7b-14f27855ae4c",
   "metadata": {},
   "outputs": [
    {
     "data": {
      "text/html": [
       "<h2>Cohort validation</h2>\n",
       "<p>Errors found with 22 of 22 phenopackets.</p>\n",
       "<table style=\"border: 2px solid black; align: \"left\">\n",
       "<caption>Error counts</caption>\n",
       "<tr><th style=\"text-align: left;font-weight: bold;\">Level</th><th style=\"text-align: left;font-weight: bold;\">Error category</th><th style=\"text-align: left;font-weight: bold;\">Count</th></tr>\n",
       "<tr><td style=\"text-align: left;\">ERROR</td><td style=\"text-align: left;\">CONFLICT</td><td style=\"text-align: left;\">1</td></tr>\n",
       "<tr><td style=\"text-align: left;\">WARNING</td><td style=\"text-align: left;\">REDUNDANT</td><td style=\"text-align: left;\">55</td></tr>\n",
       "</table>\n",
       "<p>A total of 56 issues were fixed and no individual was removed from the cohort.</p>"
      ],
      "text/plain": [
       "<IPython.core.display.HTML object>"
      ]
     },
     "metadata": {},
     "output_type": "display_data"
    }
   ],
   "source": [
    "cvalidator = CohortValidator(cohort=individuals, ontology=hpo_ontology, min_hpo=1, allelic_requirement=AllelicRequirement.MONO_ALLELIC)\n",
    "qc = QcVisualizer(cohort_validator=cvalidator)\n",
    "display(HTML(qc.to_summary_html()))"
   ]
  },
  {
   "cell_type": "code",
   "execution_count": 9,
   "id": "99fbb497-401b-479e-ac3b-4439e53c335c",
   "metadata": {},
   "outputs": [
    {
     "data": {
      "text/html": [
       "<table style=\"border: 2px solid black; align: \"left\">\n",
       "<caption>22 phenopackets - PMID:23647072 (n=1); PMID:32725632 (n=1); PMID:35874597 (n=3); PMID:36307226 (n=17)</caption>\n",
       "<tr><th style=\"text-align: left;font-weight: bold;\">Individual</th><th style=\"text-align: left;font-weight: bold;\">Disease</th><th style=\"text-align: left;font-weight: bold;\">Genotype</th><th style=\"text-align: left;font-weight: bold;\">Phenotypic features</th></tr>\n",
       "<tr><td style=\"text-align: left;\">Proband F (MALE; P13Y)</td><td style=\"text-align: left;\">Developmental and epileptic encephalopathy 112 (OMIM:620537)</td><td style=\"text-align: left;\">NM_139318.5:c.980G>A (heterozygous)</td><td style=\"text-align: left;\"><b>P6M</b>: Bilateral tonic-clonic seizure (HP:0002069)<br/><b>P3Y</b>: Developmental regression (HP:0002376); Hypotonia (HP:0001252)<br/>Focal hemiclonic seizure (HP:0006813); Epileptic encephalopathy (HP:0200134); Motor delay (HP:0001270); Delayed speech and language development (HP:0000750); Autistic behavior (HP:0000729); excluded: Bilateral tonic-clonic seizure with focal onset (HP:0007334); excluded: Infantile spasms (HP:0012469); excluded: Myoclonic seizure (HP:0032794); excluded: Generalized non-motor (absence) seizure (HP:0002121); excluded: Status epilepticus (HP:0002133)</td></tr>\n",
       "<tr><td style=\"text-align: left;\">patient 25 (MALE; P61Y)</td><td style=\"text-align: left;\">Developmental and epileptic encephalopathy 112 (OMIM:620537)</td><td style=\"text-align: left;\">NM_139318.5:c.980G>A (heterozygous)</td><td style=\"text-align: left;\">Bilateral tonic-clonic seizure (HP:0002069); Epileptic encephalopathy (HP:0200134); Intellectual disability (HP:0001249); Hyperintensity of cerebral white matter on MRI (HP:0030890); Macroglossia (HP:0000158); excluded: Bilateral tonic-clonic seizure with focal onset (HP:0007334); excluded: Focal hemiclonic seizure (HP:0006813); excluded: Infantile spasms (HP:0012469); excluded: Myoclonic seizure (HP:0032794); excluded: Generalized non-motor (absence) seizure (HP:0002121); excluded: Status epilepticus (HP:0002133); excluded: Developmental regression (HP:0002376); excluded: Hypotonia (HP:0001252)</td></tr>\n",
       "<tr><td style=\"text-align: left;\">Case 1 (MALE; P4Y)</td><td style=\"text-align: left;\">Developmental and epileptic encephalopathy 112 (OMIM:620537)</td><td style=\"text-align: left;\">NM_139318.5:c.980G>A (heterozygous)</td><td style=\"text-align: left;\"><b>P8M</b>: Bilateral tonic-clonic seizure (HP:0002069)<br/>Delayed speech and language development (HP:0000750); Autistic behavior (HP:0000729); excluded: Bilateral tonic-clonic seizure with focal onset (HP:0007334); excluded: Focal hemiclonic seizure (HP:0006813); excluded: Infantile spasms (HP:0012469); excluded: Myoclonic seizure (HP:0032794); excluded: Generalized non-motor (absence) seizure (HP:0002121); excluded: Status epilepticus (HP:0002133); excluded: Motor delay (HP:0001270); excluded: Hyperintensity of cerebral white matter on MRI (HP:0030890)</td></tr>\n",
       "<tr><td style=\"text-align: left;\">Case 2 (FEMALE; P4Y)</td><td style=\"text-align: left;\">Developmental and epileptic encephalopathy 112 (OMIM:620537)</td><td style=\"text-align: left;\">NM_139318.5:c.2020-4A>G (heterozygous)</td><td style=\"text-align: left;\">Focal-onset seizure (HP:0007359); Infantile spasms (HP:0012469); Clonic seizure (HP:0020221); excluded: Bilateral tonic-clonic seizure with focal onset (HP:0007334); excluded: Focal hemiclonic seizure (HP:0006813); excluded: Myoclonic seizure (HP:0032794); excluded: Generalized non-motor (absence) seizure (HP:0002121); excluded: Status epilepticus (HP:0002133); excluded: Hyperintensity of cerebral white matter on MRI (HP:0030890)</td></tr>\n",
       "<tr><td style=\"text-align: left;\">Case 3 (MALE; P2Y)</td><td style=\"text-align: left;\">Developmental and epileptic encephalopathy 112 (OMIM:620537)</td><td style=\"text-align: left;\">NM_139318.5:c.962G>A (heterozygous)</td><td style=\"text-align: left;\"><b>P7M</b>: Clonic seizure (HP:0020221)<br/>excluded: Bilateral tonic-clonic seizure with focal onset (HP:0007334); excluded: Focal hemiclonic seizure (HP:0006813); excluded: Infantile spasms (HP:0012469); excluded: Myoclonic seizure (HP:0032794); excluded: Generalized non-motor (absence) seizure (HP:0002121); excluded: Status epilepticus (HP:0002133); excluded: Motor delay (HP:0001270); excluded: Delayed speech and language development (HP:0000750); excluded: Developmental regression (HP:0002376); excluded: Intellectual disability (HP:0001249); excluded: Hypotonia (HP:0001252); excluded: Hyperintensity of cerebral white matter on MRI (HP:0030890)</td></tr>\n",
       "<tr><td style=\"text-align: left;\">Proband 1 (MALE; P4Y)</td><td style=\"text-align: left;\">Developmental and epileptic encephalopathy 112 (OMIM:620537)</td><td style=\"text-align: left;\">NM_139318.5:c.970A>G (heterozygous)</td><td style=\"text-align: left;\"><b>P3M</b>: Focal motor seizure (HP:0011153)<br/>Bilateral tonic-clonic seizure with focal onset (HP:0007334); Status epilepticus (HP:0002133); Epileptic encephalopathy (HP:0200134); Global developmental delay (HP:0001263); excluded: Focal impaired awareness motor seizure (HP:0032712); excluded: Focal aware motor seizure (HP:0020217); excluded: Focal tonic seizure (HP:0011167); excluded: Focal hemiclonic seizure (HP:0006813); excluded: Myoclonic seizure (HP:0032794); excluded: Generalized non-motor (absence) seizure (HP:0002121); excluded: Developmental regression (HP:0002376); excluded: Hypotonia (HP:0001252); excluded: Chiari type I malformation (HP:0007099); excluded: Cerebral atrophy (HP:0002059); excluded: Delayed CNS myelination (HP:0002188)</td></tr>\n",
       "<tr><td style=\"text-align: left;\">Proband 2 (MALE; P13Y)</td><td style=\"text-align: left;\">Developmental and epileptic encephalopathy 112 (OMIM:620537)</td><td style=\"text-align: left;\">NM_139318.5:c.980G>A (heterozygous)</td><td style=\"text-align: left;\"><b>P6M</b>: Bilateral tonic-clonic seizure (HP:0002069)<br/>Focal motor seizure (HP:0011153); Epileptic encephalopathy (HP:0200134); Delayed speech and language development (HP:0000750); Developmental regression (HP:0002376); Intellectual disability (HP:0001249); excluded: Bilateral tonic-clonic seizure with focal onset (HP:0007334); excluded: Focal impaired awareness motor seizure (HP:0032712); excluded: Focal aware motor seizure (HP:0020217); excluded: Focal tonic seizure (HP:0011167); excluded: Focal hemiclonic seizure (HP:0006813); excluded: Myoclonic seizure (HP:0032794); excluded: Generalized non-motor (absence) seizure (HP:0002121); excluded: Status epilepticus (HP:0002133); excluded: Hypotonia (HP:0001252)</td></tr>\n",
       "<tr><td style=\"text-align: left;\">Proband 3 (MALE; P5Y6M)</td><td style=\"text-align: left;\">Developmental and epileptic encephalopathy 112 (OMIM:620537)</td><td style=\"text-align: left;\">NM_139318.5:c.980G>A (heterozygous)</td><td style=\"text-align: left;\">Bilateral tonic-clonic seizure with focal onset (HP:0007334); Focal motor seizure (HP:0011153); Epileptic encephalopathy (HP:0200134); Delayed speech and language development (HP:0000750); Developmental regression (HP:0002376); Intellectual disability (HP:0001249); Attention deficit hyperactivity disorder (HP:0007018); excluded: Focal impaired awareness motor seizure (HP:0032712); excluded: Focal aware motor seizure (HP:0020217); excluded: Focal tonic seizure (HP:0011167); excluded: Focal hemiclonic seizure (HP:0006813); excluded: Myoclonic seizure (HP:0032794); excluded: Generalized non-motor (absence) seizure (HP:0002121); excluded: Status epilepticus (HP:0002133); excluded: Hypotonia (HP:0001252); excluded: Chiari type I malformation (HP:0007099); excluded: Cerebral atrophy (HP:0002059); excluded: Delayed CNS myelination (HP:0002188)</td></tr>\n",
       "<tr><td style=\"text-align: left;\">Proband 4 (FEMALE; P61Y)</td><td style=\"text-align: left;\">Developmental and epileptic encephalopathy 112 (OMIM:620537)</td><td style=\"text-align: left;\">NM_139318.5:c.980G>A (heterozygous)</td><td style=\"text-align: left;\">Bilateral tonic-clonic seizure (HP:0002069); Focal aware motor seizure (HP:0020217); excluded: Bilateral tonic-clonic seizure with focal onset (HP:0007334); excluded: Focal impaired awareness motor seizure (HP:0032712); excluded: Focal tonic seizure (HP:0011167); excluded: Focal hemiclonic seizure (HP:0006813); excluded: Myoclonic seizure (HP:0032794); excluded: Generalized non-motor (absence) seizure (HP:0002121); excluded: Status epilepticus (HP:0002133); excluded: Developmental regression (HP:0002376); excluded: Hypotonia (HP:0001252); excluded: Chiari type I malformation (HP:0007099); excluded: Cerebral atrophy (HP:0002059); excluded: Delayed CNS myelination (HP:0002188)</td></tr>\n",
       "<tr><td style=\"text-align: left;\">Proband 5 (FEMALE; P5Y6M)</td><td style=\"text-align: left;\">Developmental and epileptic encephalopathy 112 (OMIM:620537)</td><td style=\"text-align: left;\">NM_139318.5:c.980G>A (heterozygous)</td><td style=\"text-align: left;\"><b>P6M</b>: Focal-onset seizure (HP:0007359)<br/>Epileptic encephalopathy (HP:0200134); Delayed speech and language development (HP:0000750); Intellectual disability (HP:0001249); excluded: Focal impaired awareness motor seizure (HP:0032712); excluded: Focal aware motor seizure (HP:0020217); excluded: Focal tonic seizure (HP:0011167); excluded: Focal hemiclonic seizure (HP:0006813); excluded: Myoclonic seizure (HP:0032794); excluded: Generalized non-motor (absence) seizure (HP:0002121); excluded: Status epilepticus (HP:0002133); excluded: Developmental regression (HP:0002376); excluded: Hypotonia (HP:0001252)</td></tr>\n",
       "<tr><td style=\"text-align: left;\">Proband 6 (FEMALE; P10Y)</td><td style=\"text-align: left;\">Developmental and epileptic encephalopathy 112 (OMIM:620537)</td><td style=\"text-align: left;\">NM_139318.5:c.980G>A (heterozygous)</td><td style=\"text-align: left;\">Bilateral tonic-clonic seizure with focal onset (HP:0007334); Focal motor seizure (HP:0011153); Epileptic encephalopathy (HP:0200134); Delayed speech and language development (HP:0000750); Intellectual disability (HP:0001249); excluded: Focal impaired awareness motor seizure (HP:0032712); excluded: Focal aware motor seizure (HP:0020217); excluded: Focal tonic seizure (HP:0011167); excluded: Focal hemiclonic seizure (HP:0006813); excluded: Myoclonic seizure (HP:0032794); excluded: Generalized non-motor (absence) seizure (HP:0002121); excluded: Status epilepticus (HP:0002133); excluded: Developmental regression (HP:0002376); excluded: Hypotonia (HP:0001252); excluded: Chiari type I malformation (HP:0007099); excluded: Cerebral atrophy (HP:0002059); excluded: Delayed CNS myelination (HP:0002188)</td></tr>\n",
       "<tr><td style=\"text-align: left;\">Proband 7 (MALE; P9Y)</td><td style=\"text-align: left;\">Developmental and epileptic encephalopathy 112 (OMIM:620537)</td><td style=\"text-align: left;\">NM_139318.5:c.980G>A (heterozygous)</td><td style=\"text-align: left;\"><b>P10M</b>: Focal impaired awareness motor seizure (HP:0032712)<br/>Bilateral tonic-clonic seizure (HP:0002069); Myoclonic seizure (HP:0032794); Clonic seizure (HP:0020221); Generalized non-motor (absence) seizure (HP:0002121); Epileptic encephalopathy (HP:0200134); Delayed speech and language development (HP:0000750); Intellectual disability (HP:0001249); excluded: Bilateral tonic-clonic seizure with focal onset (HP:0007334); excluded: Focal aware motor seizure (HP:0020217); excluded: Focal tonic seizure (HP:0011167); excluded: Focal hemiclonic seizure (HP:0006813); excluded: Status epilepticus (HP:0002133); excluded: Developmental regression (HP:0002376); excluded: Hypotonia (HP:0001252); excluded: Chiari type I malformation (HP:0007099); excluded: Cerebral atrophy (HP:0002059); excluded: Delayed CNS myelination (HP:0002188)</td></tr>\n",
       "<tr><td style=\"text-align: left;\">Proband 8 (FEMALE; P3Y8M)</td><td style=\"text-align: left;\">Developmental and epileptic encephalopathy 112 (OMIM:620537)</td><td style=\"text-align: left;\">NM_139318.5:c.980G>A (heterozygous)</td><td style=\"text-align: left;\"><b>P2M</b>: Focal motor seizure (HP:0011153)<br/>Bilateral tonic-clonic seizure with focal onset (HP:0007334); Epileptic encephalopathy (HP:0200134); Delayed speech and language development (HP:0000750); Intellectual disability (HP:0001249); excluded: Focal aware motor seizure (HP:0020217); excluded: Focal tonic seizure (HP:0011167); excluded: Focal hemiclonic seizure (HP:0006813); excluded: Myoclonic seizure (HP:0032794); excluded: Generalized non-motor (absence) seizure (HP:0002121); excluded: Status epilepticus (HP:0002133); excluded: Developmental regression (HP:0002376); excluded: Hypotonia (HP:0001252); excluded: Chiari type I malformation (HP:0007099); excluded: Cerebral atrophy (HP:0002059); excluded: Delayed CNS myelination (HP:0002188)</td></tr>\n",
       "<tr><td style=\"text-align: left;\">Proband 9 (FEMALE; P1Y7M)</td><td style=\"text-align: left;\">Developmental and epileptic encephalopathy 112 (OMIM:620537)</td><td style=\"text-align: left;\">NM_139318.5:c.980G>A (heterozygous)</td><td style=\"text-align: left;\">Bilateral tonic-clonic seizure (HP:0002069); Epileptic encephalopathy (HP:0200134); Delayed speech and language development (HP:0000750); excluded: Bilateral tonic-clonic seizure with focal onset (HP:0007334); excluded: Focal impaired awareness motor seizure (HP:0032712); excluded: Focal aware motor seizure (HP:0020217); excluded: Focal tonic seizure (HP:0011167); excluded: Focal hemiclonic seizure (HP:0006813); excluded: Myoclonic seizure (HP:0032794); excluded: Generalized non-motor (absence) seizure (HP:0002121); excluded: Status epilepticus (HP:0002133); excluded: Developmental regression (HP:0002376); excluded: Hypotonia (HP:0001252); excluded: Chiari type I malformation (HP:0007099); excluded: Cerebral atrophy (HP:0002059); excluded: Delayed CNS myelination (HP:0002188)</td></tr>\n",
       "<tr><td style=\"text-align: left;\">Proband 10 (MALE; )</td><td style=\"text-align: left;\">Developmental and epileptic encephalopathy 112 (OMIM:620537)</td><td style=\"text-align: left;\">NM_139318.5:c.980G>A (heterozygous)</td><td style=\"text-align: left;\">Bilateral tonic-clonic seizure (HP:0002069); Epileptic encephalopathy (HP:0200134); Global developmental delay (HP:0001263); Intellectual disability (HP:0001249); excluded: Bilateral tonic-clonic seizure with focal onset (HP:0007334); excluded: Focal impaired awareness motor seizure (HP:0032712); excluded: Focal aware motor seizure (HP:0020217); excluded: Focal tonic seizure (HP:0011167); excluded: Focal hemiclonic seizure (HP:0006813); excluded: Myoclonic seizure (HP:0032794); excluded: Generalized non-motor (absence) seizure (HP:0002121); excluded: Status epilepticus (HP:0002133); excluded: Developmental regression (HP:0002376); excluded: Hypotonia (HP:0001252); excluded: Chiari type I malformation (HP:0007099); excluded: Cerebral atrophy (HP:0002059); excluded: Delayed CNS myelination (HP:0002188)</td></tr>\n",
       "<tr><td style=\"text-align: left;\">Proband 11 (FEMALE; P3Y6M)</td><td style=\"text-align: left;\">Developmental and epileptic encephalopathy 112 (OMIM:620537)</td><td style=\"text-align: left;\">NM_139318.5:c.998G>A (heterozygous)</td><td style=\"text-align: left;\"><b>P8M</b>: Focal impaired awareness motor seizure (HP:0032712)<br/>Bilateral tonic-clonic seizure with focal onset (HP:0007334); excluded: Focal aware motor seizure (HP:0020217); excluded: Focal tonic seizure (HP:0011167); excluded: Focal hemiclonic seizure (HP:0006813); excluded: Myoclonic seizure (HP:0032794); excluded: Generalized non-motor (absence) seizure (HP:0002121); excluded: Status epilepticus (HP:0002133); excluded: Epileptic encephalopathy (HP:0200134); excluded: Global developmental delay (HP:0001263); excluded: Developmental regression (HP:0002376); excluded: Hypotonia (HP:0001252); excluded: Chiari type I malformation (HP:0007099); excluded: Cerebral atrophy (HP:0002059); excluded: Delayed CNS myelination (HP:0002188)</td></tr>\n",
       "<tr><td style=\"text-align: left;\">Proband 12 (FEMALE; P7Y)</td><td style=\"text-align: left;\">Developmental and epileptic encephalopathy 112 (OMIM:620537)</td><td style=\"text-align: left;\">NM_139318.5:c.998G>A (heterozygous)</td><td style=\"text-align: left;\"><b>P9M</b>: Bilateral tonic-clonic seizure (HP:0002069)<br/>Delayed speech and language development (HP:0000750); excluded: Bilateral tonic-clonic seizure with focal onset (HP:0007334); excluded: Focal impaired awareness motor seizure (HP:0032712); excluded: Focal aware motor seizure (HP:0020217); excluded: Focal tonic seizure (HP:0011167); excluded: Focal hemiclonic seizure (HP:0006813); excluded: Myoclonic seizure (HP:0032794); excluded: Generalized non-motor (absence) seizure (HP:0002121); excluded: Status epilepticus (HP:0002133); excluded: Developmental regression (HP:0002376); excluded: Intellectual disability (HP:0001249); excluded: Hypotonia (HP:0001252); excluded: Chiari type I malformation (HP:0007099); excluded: Cerebral atrophy (HP:0002059); excluded: Delayed CNS myelination (HP:0002188)</td></tr>\n",
       "<tr><td style=\"text-align: left;\">Proband 13 (FEMALE; P10Y)</td><td style=\"text-align: left;\">Developmental and epileptic encephalopathy 112 (OMIM:620537)</td><td style=\"text-align: left;\">NM_139318.5:c.998G>A (heterozygous)</td><td style=\"text-align: left;\"><b>P10M</b>: Focal impaired awareness motor seizure (HP:0032712)<br/>Bilateral tonic-clonic seizure with focal onset (HP:0007334); Global developmental delay (HP:0001263); Motor delay (HP:0001270); Delayed speech and language development (HP:0000750); Chiari type I malformation (HP:0007099); excluded: Focal aware motor seizure (HP:0020217); excluded: Focal tonic seizure (HP:0011167); excluded: Focal hemiclonic seizure (HP:0006813); excluded: Myoclonic seizure (HP:0032794); excluded: Generalized non-motor (absence) seizure (HP:0002121); excluded: Status epilepticus (HP:0002133); excluded: Epileptic encephalopathy (HP:0200134); excluded: Developmental regression (HP:0002376); excluded: Intellectual disability (HP:0001249); excluded: Hypotonia (HP:0001252); excluded: Cerebral atrophy (HP:0002059); excluded: Delayed CNS myelination (HP:0002188)</td></tr>\n",
       "<tr><td style=\"text-align: left;\">Proband 14 (FEMALE; P1Y3M)</td><td style=\"text-align: left;\">Developmental and epileptic encephalopathy 112 (OMIM:620537)</td><td style=\"text-align: left;\">NM_139318.5:c.998G>A (heterozygous)</td><td style=\"text-align: left;\">Bilateral tonic-clonic seizure (HP:0002069); Myoclonic seizure (HP:0032794); Hypotonia (HP:0001252); excluded: Bilateral tonic-clonic seizure with focal onset (HP:0007334); excluded: Focal impaired awareness motor seizure (HP:0032712); excluded: Focal aware motor seizure (HP:0020217); excluded: Focal tonic seizure (HP:0011167); excluded: Focal hemiclonic seizure (HP:0006813); excluded: Generalized non-motor (absence) seizure (HP:0002121); excluded: Status epilepticus (HP:0002133); excluded: Epileptic encephalopathy (HP:0200134); excluded: Chiari type I malformation (HP:0007099); excluded: Cerebral atrophy (HP:0002059); excluded: Delayed CNS myelination (HP:0002188)</td></tr>\n",
       "<tr><td style=\"text-align: left;\">Proband 15 (FEMALE; P11M)</td><td style=\"text-align: left;\">Developmental and epileptic encephalopathy 112 (OMIM:620537)</td><td style=\"text-align: left;\">NM_139318.5:c.1388T>C (heterozygous)</td><td style=\"text-align: left;\"><b>P3M</b>: Focal tonic seizure (HP:0011167)<br/>Bilateral tonic-clonic seizure (HP:0002069); Myoclonic seizure (HP:0032794); Status epilepticus (HP:0002133); Epileptic encephalopathy (HP:0200134); Global developmental delay (HP:0001263); Hypotonia (HP:0001252); Cerebral atrophy (HP:0002059); Delayed CNS myelination (HP:0002188); excluded: Bilateral tonic-clonic seizure with focal onset (HP:0007334); excluded: Focal impaired awareness motor seizure (HP:0032712); excluded: Focal aware motor seizure (HP:0020217); excluded: Focal hemiclonic seizure (HP:0006813); excluded: Generalized non-motor (absence) seizure (HP:0002121); excluded: Developmental regression (HP:0002376); excluded: Chiari type I malformation (HP:0007099)</td></tr>\n",
       "<tr><td style=\"text-align: left;\">Proband 16 (FEMALE; P9Y)</td><td style=\"text-align: left;\">Developmental and epileptic encephalopathy 112 (OMIM:620537)</td><td style=\"text-align: left;\">NM_139318.5:c.1402A>C (heterozygous)</td><td style=\"text-align: left;\">Bilateral tonic-clonic seizure (HP:0002069); Focal tonic seizure (HP:0011167); Myoclonic seizure (HP:0032794); Status epilepticus (HP:0002133); Epileptic encephalopathy (HP:0200134); Global developmental delay (HP:0001263); Intellectual disability (HP:0001249); Hypotonia (HP:0001252); Cerebral atrophy (HP:0002059); excluded: Bilateral tonic-clonic seizure with focal onset (HP:0007334); excluded: Focal impaired awareness motor seizure (HP:0032712); excluded: Focal aware motor seizure (HP:0020217); excluded: Focal hemiclonic seizure (HP:0006813); excluded: Generalized non-motor (absence) seizure (HP:0002121); excluded: Developmental regression (HP:0002376); excluded: Chiari type I malformation (HP:0007099); excluded: Delayed CNS myelination (HP:0002188)</td></tr>\n",
       "<tr><td style=\"text-align: left;\">Proband 17 (FEMALE; P12Y)</td><td style=\"text-align: left;\">Developmental and epileptic encephalopathy 112 (OMIM:620537)</td><td style=\"text-align: left;\">NM_139318.5:c.1412T>C (heterozygous)</td><td style=\"text-align: left;\"><b>P1Y</b>: Bilateral tonic-clonic seizure (HP:0002069)<br/>Focal impaired awareness motor seizure (HP:0032712); Epileptic encephalopathy (HP:0200134); Global developmental delay (HP:0001263); Intellectual disability (HP:0001249); excluded: Bilateral tonic-clonic seizure with focal onset (HP:0007334); excluded: Focal aware motor seizure (HP:0020217); excluded: Focal tonic seizure (HP:0011167); excluded: Focal hemiclonic seizure (HP:0006813); excluded: Myoclonic seizure (HP:0032794); excluded: Generalized non-motor (absence) seizure (HP:0002121); excluded: Status epilepticus (HP:0002133); excluded: Developmental regression (HP:0002376); excluded: Hypotonia (HP:0001252); excluded: Chiari type I malformation (HP:0007099); excluded: Cerebral atrophy (HP:0002059); excluded: Delayed CNS myelination (HP:0002188)</td></tr>\n",
       "</table>"
      ],
      "text/plain": [
       "<IPython.core.display.HTML object>"
      ]
     },
     "metadata": {},
     "output_type": "display_data"
    }
   ],
   "source": [
    "individuals = cvalidator.get_error_free_individual_list()\n",
    "table = IndividualTable(individuals)\n",
    "display(HTML(table.to_html()))"
   ]
  },
  {
   "cell_type": "code",
   "execution_count": 10,
   "id": "7e7b33e3-aea1-46c8-8723-0909e8bcddf2",
   "metadata": {},
   "outputs": [
    {
     "name": "stdout",
     "output_type": "stream",
     "text": [
      "We output 22 GA4GH phenopackets to the directory phenopackets\n"
     ]
    }
   ],
   "source": [
    "encoder.output_individuals_as_phenopackets(individual_list=individuals)"
   ]
  },
  {
   "cell_type": "markdown",
   "id": "6d2c4ddc-749d-469b-8afe-1048239fa4ff",
   "metadata": {},
   "source": [
    "# HPOA file"
   ]
  },
  {
   "cell_type": "code",
   "execution_count": 11,
   "id": "fee2450f-68ec-4e1c-a7c5-c55ecc558e4d",
   "metadata": {},
   "outputs": [
    {
     "name": "stdout",
     "output_type": "stream",
     "text": [
      "[pyphetools] Ingested 22 GA4GH phenopackets.\n"
     ]
    }
   ],
   "source": [
    "ingestor = PhenopacketIngestor(indir=\"phenopackets\")\n",
    "ppkt_d = ingestor.get_phenopacket_dictionary()\n",
    "ppkt_list = list(ppkt_d.values())"
   ]
  },
  {
   "cell_type": "code",
   "execution_count": 12,
   "id": "8a793503-bb71-46a4-94ae-a86cf77121b8",
   "metadata": {},
   "outputs": [],
   "source": [
    "builder = HpoaTableBuilder(phenopacket_list=ppkt_list)"
   ]
  },
  {
   "cell_type": "code",
   "execution_count": 13,
   "id": "fbb4efe5-bf8e-4640-950d-8cd20b25fde9",
   "metadata": {},
   "outputs": [
    {
     "name": "stdout",
     "output_type": "stream",
     "text": [
      "We found a total of 27 unique HPO terms\n",
      "Extracted disease: Developmental and epileptic encephalopathy 112 (OMIM:620537)\n"
     ]
    },
    {
     "data": {
      "text/html": [
       "<div>\n",
       "<style scoped>\n",
       "    .dataframe tbody tr th:only-of-type {\n",
       "        vertical-align: middle;\n",
       "    }\n",
       "\n",
       "    .dataframe tbody tr th {\n",
       "        vertical-align: top;\n",
       "    }\n",
       "\n",
       "    .dataframe thead th {\n",
       "        text-align: right;\n",
       "    }\n",
       "</style>\n",
       "<table border=\"1\" class=\"dataframe\">\n",
       "  <thead>\n",
       "    <tr style=\"text-align: right;\">\n",
       "      <th></th>\n",
       "      <th>#diseaseID</th>\n",
       "      <th>diseaseName</th>\n",
       "      <th>phenotypeID</th>\n",
       "      <th>phenotypeName</th>\n",
       "      <th>onsetID</th>\n",
       "      <th>onsetName</th>\n",
       "      <th>frequency</th>\n",
       "      <th>sex</th>\n",
       "      <th>negation</th>\n",
       "      <th>modifier</th>\n",
       "      <th>description</th>\n",
       "      <th>publication</th>\n",
       "      <th>evidence</th>\n",
       "      <th>biocuration</th>\n",
       "    </tr>\n",
       "  </thead>\n",
       "  <tbody>\n",
       "    <tr>\n",
       "      <th>0</th>\n",
       "      <td>OMIM:620537</td>\n",
       "      <td>Developmental and epileptic encephalopathy 112</td>\n",
       "      <td>HP:0002069</td>\n",
       "      <td>Bilateral tonic-clonic seizure</td>\n",
       "      <td></td>\n",
       "      <td></td>\n",
       "      <td>10/10</td>\n",
       "      <td></td>\n",
       "      <td></td>\n",
       "      <td></td>\n",
       "      <td></td>\n",
       "      <td>PMID:36307226</td>\n",
       "      <td>PCS</td>\n",
       "      <td>ORCID:0000-0002-0736-9199</td>\n",
       "    </tr>\n",
       "    <tr>\n",
       "      <th>1</th>\n",
       "      <td>OMIM:620537</td>\n",
       "      <td>Developmental and epileptic encephalopathy 112</td>\n",
       "      <td>HP:0000750</td>\n",
       "      <td>Delayed speech and language development</td>\n",
       "      <td></td>\n",
       "      <td></td>\n",
       "      <td>9/9</td>\n",
       "      <td></td>\n",
       "      <td></td>\n",
       "      <td></td>\n",
       "      <td></td>\n",
       "      <td>PMID:36307226</td>\n",
       "      <td>PCS</td>\n",
       "      <td>ORCID:0000-0002-0736-9199</td>\n",
       "    </tr>\n",
       "    <tr>\n",
       "      <th>2</th>\n",
       "      <td>OMIM:620537</td>\n",
       "      <td>Developmental and epileptic encephalopathy 112</td>\n",
       "      <td>HP:0007334</td>\n",
       "      <td>Bilateral tonic-clonic seizure with focal onset</td>\n",
       "      <td></td>\n",
       "      <td></td>\n",
       "      <td>6/16</td>\n",
       "      <td></td>\n",
       "      <td></td>\n",
       "      <td></td>\n",
       "      <td></td>\n",
       "      <td>PMID:36307226</td>\n",
       "      <td>PCS</td>\n",
       "      <td>ORCID:0000-0002-0736-9199</td>\n",
       "    </tr>\n",
       "    <tr>\n",
       "      <th>3</th>\n",
       "      <td>OMIM:620537</td>\n",
       "      <td>Developmental and epileptic encephalopathy 112</td>\n",
       "      <td>HP:0032712</td>\n",
       "      <td>Focal impaired awareness motor seizure</td>\n",
       "      <td></td>\n",
       "      <td></td>\n",
       "      <td>4/16</td>\n",
       "      <td></td>\n",
       "      <td></td>\n",
       "      <td></td>\n",
       "      <td></td>\n",
       "      <td>PMID:36307226</td>\n",
       "      <td>PCS</td>\n",
       "      <td>ORCID:0000-0002-0736-9199</td>\n",
       "    </tr>\n",
       "    <tr>\n",
       "      <th>4</th>\n",
       "      <td>OMIM:620537</td>\n",
       "      <td>Developmental and epileptic encephalopathy 112</td>\n",
       "      <td>HP:0020217</td>\n",
       "      <td>Focal aware motor seizure</td>\n",
       "      <td></td>\n",
       "      <td></td>\n",
       "      <td>1/17</td>\n",
       "      <td></td>\n",
       "      <td></td>\n",
       "      <td></td>\n",
       "      <td></td>\n",
       "      <td>PMID:36307226</td>\n",
       "      <td>PCS</td>\n",
       "      <td>ORCID:0000-0002-0736-9199</td>\n",
       "    </tr>\n",
       "    <tr>\n",
       "      <th>...</th>\n",
       "      <td>...</td>\n",
       "      <td>...</td>\n",
       "      <td>...</td>\n",
       "      <td>...</td>\n",
       "      <td>...</td>\n",
       "      <td>...</td>\n",
       "      <td>...</td>\n",
       "      <td>...</td>\n",
       "      <td>...</td>\n",
       "      <td>...</td>\n",
       "      <td>...</td>\n",
       "      <td>...</td>\n",
       "      <td>...</td>\n",
       "      <td>...</td>\n",
       "    </tr>\n",
       "    <tr>\n",
       "      <th>67</th>\n",
       "      <td>OMIM:620537</td>\n",
       "      <td>Developmental and epileptic encephalopathy 112</td>\n",
       "      <td>HP:0003584</td>\n",
       "      <td>Late onset</td>\n",
       "      <td></td>\n",
       "      <td></td>\n",
       "      <td>1/17</td>\n",
       "      <td></td>\n",
       "      <td></td>\n",
       "      <td></td>\n",
       "      <td></td>\n",
       "      <td>PMID:36307226</td>\n",
       "      <td>PCS</td>\n",
       "      <td>ORCID:0000-0002-0736-9199</td>\n",
       "    </tr>\n",
       "    <tr>\n",
       "      <th>68</th>\n",
       "      <td>OMIM:620537</td>\n",
       "      <td>Developmental and epileptic encephalopathy 112</td>\n",
       "      <td>HP:0003623</td>\n",
       "      <td>Neonatal onset</td>\n",
       "      <td></td>\n",
       "      <td></td>\n",
       "      <td>1/1</td>\n",
       "      <td></td>\n",
       "      <td></td>\n",
       "      <td></td>\n",
       "      <td></td>\n",
       "      <td>PMID:32725632</td>\n",
       "      <td>PCS</td>\n",
       "      <td>ORCID:0000-0002-0736-9199</td>\n",
       "    </tr>\n",
       "    <tr>\n",
       "      <th>69</th>\n",
       "      <td>OMIM:620537</td>\n",
       "      <td>Developmental and epileptic encephalopathy 112</td>\n",
       "      <td>HP:0003593</td>\n",
       "      <td>Infantile onset</td>\n",
       "      <td></td>\n",
       "      <td></td>\n",
       "      <td>1/1</td>\n",
       "      <td></td>\n",
       "      <td></td>\n",
       "      <td></td>\n",
       "      <td></td>\n",
       "      <td>PMID:23647072</td>\n",
       "      <td>PCS</td>\n",
       "      <td>ORCID:0000-0002-0736-9199</td>\n",
       "    </tr>\n",
       "    <tr>\n",
       "      <th>70</th>\n",
       "      <td>OMIM:620537</td>\n",
       "      <td>Developmental and epileptic encephalopathy 112</td>\n",
       "      <td>HP:0003593</td>\n",
       "      <td>Infantile onset</td>\n",
       "      <td></td>\n",
       "      <td></td>\n",
       "      <td>3/3</td>\n",
       "      <td></td>\n",
       "      <td></td>\n",
       "      <td></td>\n",
       "      <td></td>\n",
       "      <td>PMID:35874597</td>\n",
       "      <td>PCS</td>\n",
       "      <td>ORCID:0000-0002-0736-9199</td>\n",
       "    </tr>\n",
       "    <tr>\n",
       "      <th>71</th>\n",
       "      <td>OMIM:620537</td>\n",
       "      <td>Developmental and epileptic encephalopathy 112</td>\n",
       "      <td>HP:0000006</td>\n",
       "      <td>Autosomal dominant inheritance</td>\n",
       "      <td></td>\n",
       "      <td></td>\n",
       "      <td></td>\n",
       "      <td></td>\n",
       "      <td></td>\n",
       "      <td></td>\n",
       "      <td></td>\n",
       "      <td>PMID:36307226</td>\n",
       "      <td>PCS</td>\n",
       "      <td>ORCID:0000-0002-0736-9199</td>\n",
       "    </tr>\n",
       "  </tbody>\n",
       "</table>\n",
       "<p>72 rows × 14 columns</p>\n",
       "</div>"
      ],
      "text/plain": [
       "     #diseaseID                                     diseaseName phenotypeID  \\\n",
       "0   OMIM:620537  Developmental and epileptic encephalopathy 112  HP:0002069   \n",
       "1   OMIM:620537  Developmental and epileptic encephalopathy 112  HP:0000750   \n",
       "2   OMIM:620537  Developmental and epileptic encephalopathy 112  HP:0007334   \n",
       "3   OMIM:620537  Developmental and epileptic encephalopathy 112  HP:0032712   \n",
       "4   OMIM:620537  Developmental and epileptic encephalopathy 112  HP:0020217   \n",
       "..          ...                                             ...         ...   \n",
       "67  OMIM:620537  Developmental and epileptic encephalopathy 112  HP:0003584   \n",
       "68  OMIM:620537  Developmental and epileptic encephalopathy 112  HP:0003623   \n",
       "69  OMIM:620537  Developmental and epileptic encephalopathy 112  HP:0003593   \n",
       "70  OMIM:620537  Developmental and epileptic encephalopathy 112  HP:0003593   \n",
       "71  OMIM:620537  Developmental and epileptic encephalopathy 112  HP:0000006   \n",
       "\n",
       "                                      phenotypeName onsetID onsetName  \\\n",
       "0                    Bilateral tonic-clonic seizure                     \n",
       "1           Delayed speech and language development                     \n",
       "2   Bilateral tonic-clonic seizure with focal onset                     \n",
       "3            Focal impaired awareness motor seizure                     \n",
       "4                         Focal aware motor seizure                     \n",
       "..                                              ...     ...       ...   \n",
       "67                                       Late onset                     \n",
       "68                                   Neonatal onset                     \n",
       "69                                  Infantile onset                     \n",
       "70                                  Infantile onset                     \n",
       "71                   Autosomal dominant inheritance                     \n",
       "\n",
       "   frequency sex negation modifier description    publication evidence  \\\n",
       "0      10/10                                    PMID:36307226      PCS   \n",
       "1        9/9                                    PMID:36307226      PCS   \n",
       "2       6/16                                    PMID:36307226      PCS   \n",
       "3       4/16                                    PMID:36307226      PCS   \n",
       "4       1/17                                    PMID:36307226      PCS   \n",
       "..       ...  ..      ...      ...         ...            ...      ...   \n",
       "67      1/17                                    PMID:36307226      PCS   \n",
       "68       1/1                                    PMID:32725632      PCS   \n",
       "69       1/1                                    PMID:23647072      PCS   \n",
       "70       3/3                                    PMID:35874597      PCS   \n",
       "71                                              PMID:36307226      PCS   \n",
       "\n",
       "                  biocuration  \n",
       "0   ORCID:0000-0002-0736-9199  \n",
       "1   ORCID:0000-0002-0736-9199  \n",
       "2   ORCID:0000-0002-0736-9199  \n",
       "3   ORCID:0000-0002-0736-9199  \n",
       "4   ORCID:0000-0002-0736-9199  \n",
       "..                        ...  \n",
       "67  ORCID:0000-0002-0736-9199  \n",
       "68  ORCID:0000-0002-0736-9199  \n",
       "69  ORCID:0000-0002-0736-9199  \n",
       "70  ORCID:0000-0002-0736-9199  \n",
       "71  ORCID:0000-0002-0736-9199  \n",
       "\n",
       "[72 rows x 14 columns]"
      ]
     },
     "execution_count": 13,
     "metadata": {},
     "output_type": "execute_result"
    }
   ],
   "source": [
    "PMID = \"PMID:36307226\"\n",
    "hpoa_table_creator = builder.autosomal_dominant(PMID).build()\n",
    "hpoa_table_creator.get_dataframe()"
   ]
  },
  {
   "cell_type": "code",
   "execution_count": 14,
   "id": "c8903031-cec6-45fd-ba47-e6ffb43b00c6",
   "metadata": {},
   "outputs": [
    {
     "name": "stdout",
     "output_type": "stream",
     "text": [
      "Wrote HPOA disease file to OMIM-620537.tab\n"
     ]
    }
   ],
   "source": [
    "hpoa_table_creator.write_data_frame()"
   ]
  },
  {
   "cell_type": "code",
   "execution_count": null,
   "id": "2335d0e8-3c5d-4190-93fa-e09718024930",
   "metadata": {},
   "outputs": [],
   "source": []
  }
 ],
 "metadata": {
  "kernelspec": {
   "display_name": "Python 3 (ipykernel)",
   "language": "python",
   "name": "python3"
  },
  "language_info": {
   "codemirror_mode": {
    "name": "ipython",
    "version": 3
   },
   "file_extension": ".py",
   "mimetype": "text/x-python",
   "name": "python",
   "nbconvert_exporter": "python",
   "pygments_lexer": "ipython3",
   "version": "3.8.10"
  }
 },
 "nbformat": 4,
 "nbformat_minor": 5
}
