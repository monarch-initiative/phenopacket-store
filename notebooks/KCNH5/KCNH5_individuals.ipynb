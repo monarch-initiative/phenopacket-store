{
 "cells": [
  {
   "cell_type": "markdown",
   "id": "8f41d44c-87b0-4c84-8ece-a47c37fb2fd1",
   "metadata": {},
   "source": [
    "# KCNH5 Individuals"
   ]
  },
  {
   "cell_type": "code",
   "execution_count": 6,
   "id": "71e97109-4097-4c6d-b04c-a907addbb767",
   "metadata": {},
   "outputs": [
    {
     "name": "stdout",
     "output_type": "stream",
     "text": [
      "pyphetools version 0.9.65\n"
     ]
    }
   ],
   "source": [
    "import pyphetools\n",
    "from pyphetools.visualization import IndividualTable, QcVisualizer\n",
    "from IPython.display import display, HTML\n",
    "from pyphetools.creation import TemplateImporter\n",
    "template = \"input/KCNH5_individuals.xlsx\"\n",
    "hp_json = \"../hp.json\"\n",
    "created_by = \"0000-0002-0736-9199\"\n",
    "print(f\"pyphetools version {pyphetools.__version__}\")"
   ]
  },
  {
   "cell_type": "code",
   "execution_count": 9,
   "id": "239507bc-693b-46de-9ef2-b45a7216c821",
   "metadata": {},
   "outputs": [],
   "source": [
    "timporter = TemplateImporter(template=template, hp_json=hp_json, created_by=created_by)"
   ]
  },
  {
   "cell_type": "code",
   "execution_count": 10,
   "id": "b97a5194-2076-4d84-b82b-39eaace2f82c",
   "metadata": {},
   "outputs": [
    {
     "name": "stdout",
     "output_type": "stream",
     "text": [
      "HPO version 2024-02-27\n",
      "Created encoders for 41 fields\n",
      " we got OMIM:620537  NM_139318.5\n",
      "We output 22 GA4GH phenopackets to the directory phenopackets\n"
     ]
    }
   ],
   "source": [
    "individuals, cvalidator = timporter.import_phenopackets_from_template()"
   ]
  },
  {
   "cell_type": "code",
   "execution_count": 11,
   "id": "f2b08202-8608-492d-b8ff-4db67dd10bae",
   "metadata": {},
   "outputs": [
    {
     "data": {
      "text/html": [
       "<h2>Cohort validation</h2>\n",
       "<p>Errors found with 22 of 22 phenopackets.</p>\n",
       "<table style=\"border: 2px solid black; align: \"left\">\n",
       "<caption>Error counts</caption>\n",
       "<tr><th style=\"text-align: left;font-weight: bold;\">Level</th><th style=\"text-align: left;font-weight: bold;\">Error category</th><th style=\"text-align: left;font-weight: bold;\">Count</th></tr>\n",
       "<tr><td style=\"text-align: left;\">ERROR</td><td style=\"text-align: left;\">CONFLICT</td><td style=\"text-align: left;\">1</td></tr>\n",
       "<tr><td style=\"text-align: left;\">WARNING</td><td style=\"text-align: left;\">REDUNDANT</td><td style=\"text-align: left;\">55</td></tr>\n",
       "</table>\n",
       "<p>A total of 56 issues were fixed and no individual was removed from the cohort.</p>"
      ],
      "text/plain": [
       "<IPython.core.display.HTML object>"
      ]
     },
     "metadata": {},
     "output_type": "display_data"
    }
   ],
   "source": [
    "qc = QcVisualizer(cohort_validator=cvalidator)\n",
    "display(HTML(qc.to_summary_html()))"
   ]
  },
  {
   "cell_type": "code",
   "execution_count": 12,
   "id": "618b9068-3203-4f65-a693-26cf848879b5",
   "metadata": {},
   "outputs": [
    {
     "data": {
      "text/html": [
       "<table style=\"border: 2px solid black; align: \"left\">\n",
       "<caption>22 phenopackets - PMID:23647072 (n=1); PMID:32725632 (n=1); PMID:35874597 (n=3); PMID:36307226 (n=17)</caption>\n",
       "<tr><th style=\"text-align: left;font-weight: bold;\">Individual</th><th style=\"text-align: left;font-weight: bold;\">Disease</th><th style=\"text-align: left;font-weight: bold;\">Genotype</th><th style=\"text-align: left;font-weight: bold;\">Phenotypic features</th></tr>\n",
       "<tr><td style=\"text-align: left;\">Proband F (MALE; P13Y)</td><td style=\"text-align: left;\">Developmental and epileptic encephalopathy 112 (OMIM:620537)</td><td style=\"text-align: left;\">NM_139318.5:c.980G>A (heterozygous)</td><td style=\"text-align: left;\"><b>P6M</b>: Bilateral tonic-clonic seizure (HP:0002069)<br/><b>P3Y</b>: Developmental regression (HP:0002376); Hypotonia (HP:0001252)<br/>Focal hemiclonic seizure (HP:0006813); Epileptic encephalopathy (HP:0200134); Motor delay (HP:0001270); Delayed speech and language development (HP:0000750); Autistic behavior (HP:0000729); excluded: Bilateral tonic-clonic seizure with focal onset (HP:0007334); excluded: Infantile spasms (HP:0012469); excluded: Myoclonic seizure (HP:0032794); excluded: Generalized non-motor (absence) seizure (HP:0002121); excluded: Status epilepticus (HP:0002133)</td></tr>\n",
       "<tr><td style=\"text-align: left;\">patient 25 (MALE; P61Y)</td><td style=\"text-align: left;\">Developmental and epileptic encephalopathy 112 (OMIM:620537)</td><td style=\"text-align: left;\">NM_139318.5:c.980G>A (heterozygous)</td><td style=\"text-align: left;\">Bilateral tonic-clonic seizure (HP:0002069); Epileptic encephalopathy (HP:0200134); Intellectual disability (HP:0001249); Hyperintensity of cerebral white matter on MRI (HP:0030890); Macroglossia (HP:0000158); excluded: Bilateral tonic-clonic seizure with focal onset (HP:0007334); excluded: Focal hemiclonic seizure (HP:0006813); excluded: Infantile spasms (HP:0012469); excluded: Myoclonic seizure (HP:0032794); excluded: Generalized non-motor (absence) seizure (HP:0002121); excluded: Status epilepticus (HP:0002133); excluded: Developmental regression (HP:0002376); excluded: Hypotonia (HP:0001252)</td></tr>\n",
       "<tr><td style=\"text-align: left;\">Case 1 (MALE; P4Y)</td><td style=\"text-align: left;\">Developmental and epileptic encephalopathy 112 (OMIM:620537)</td><td style=\"text-align: left;\">NM_139318.5:c.980G>A (heterozygous)</td><td style=\"text-align: left;\"><b>P8M</b>: Bilateral tonic-clonic seizure (HP:0002069)<br/>Delayed speech and language development (HP:0000750); Autistic behavior (HP:0000729); excluded: Bilateral tonic-clonic seizure with focal onset (HP:0007334); excluded: Focal hemiclonic seizure (HP:0006813); excluded: Infantile spasms (HP:0012469); excluded: Myoclonic seizure (HP:0032794); excluded: Generalized non-motor (absence) seizure (HP:0002121); excluded: Status epilepticus (HP:0002133); excluded: Motor delay (HP:0001270); excluded: Hyperintensity of cerebral white matter on MRI (HP:0030890)</td></tr>\n",
       "<tr><td style=\"text-align: left;\">Case 2 (FEMALE; P4Y)</td><td style=\"text-align: left;\">Developmental and epileptic encephalopathy 112 (OMIM:620537)</td><td style=\"text-align: left;\">NM_139318.5:c.2020-4A>G (heterozygous)</td><td style=\"text-align: left;\">Focal-onset seizure (HP:0007359); Infantile spasms (HP:0012469); Clonic seizure (HP:0020221); excluded: Bilateral tonic-clonic seizure with focal onset (HP:0007334); excluded: Focal hemiclonic seizure (HP:0006813); excluded: Myoclonic seizure (HP:0032794); excluded: Generalized non-motor (absence) seizure (HP:0002121); excluded: Status epilepticus (HP:0002133); excluded: Hyperintensity of cerebral white matter on MRI (HP:0030890)</td></tr>\n",
       "<tr><td style=\"text-align: left;\">Case 3 (MALE; P2Y)</td><td style=\"text-align: left;\">Developmental and epileptic encephalopathy 112 (OMIM:620537)</td><td style=\"text-align: left;\">NM_139318.5:c.962G>A (heterozygous)</td><td style=\"text-align: left;\"><b>P7M</b>: Clonic seizure (HP:0020221)<br/>excluded: Bilateral tonic-clonic seizure with focal onset (HP:0007334); excluded: Focal hemiclonic seizure (HP:0006813); excluded: Infantile spasms (HP:0012469); excluded: Myoclonic seizure (HP:0032794); excluded: Generalized non-motor (absence) seizure (HP:0002121); excluded: Status epilepticus (HP:0002133); excluded: Motor delay (HP:0001270); excluded: Delayed speech and language development (HP:0000750); excluded: Developmental regression (HP:0002376); excluded: Intellectual disability (HP:0001249); excluded: Hypotonia (HP:0001252); excluded: Hyperintensity of cerebral white matter on MRI (HP:0030890)</td></tr>\n",
       "<tr><td style=\"text-align: left;\">Proband 1 (MALE; P4Y)</td><td style=\"text-align: left;\">Developmental and epileptic encephalopathy 112 (OMIM:620537)</td><td style=\"text-align: left;\">NM_139318.5:c.970A>G (heterozygous)</td><td style=\"text-align: left;\"><b>P3M</b>: Focal motor seizure (HP:0011153)<br/>Bilateral tonic-clonic seizure with focal onset (HP:0007334); Status epilepticus (HP:0002133); Epileptic encephalopathy (HP:0200134); Global developmental delay (HP:0001263); excluded: Focal impaired awareness motor seizure (HP:0032712); excluded: Focal aware motor seizure (HP:0020217); excluded: Focal tonic seizure (HP:0011167); excluded: Focal hemiclonic seizure (HP:0006813); excluded: Myoclonic seizure (HP:0032794); excluded: Generalized non-motor (absence) seizure (HP:0002121); excluded: Developmental regression (HP:0002376); excluded: Hypotonia (HP:0001252); excluded: Chiari type I malformation (HP:0007099); excluded: Cerebral atrophy (HP:0002059); excluded: Delayed CNS myelination (HP:0002188)</td></tr>\n",
       "<tr><td style=\"text-align: left;\">Proband 2 (MALE; P13Y)</td><td style=\"text-align: left;\">Developmental and epileptic encephalopathy 112 (OMIM:620537)</td><td style=\"text-align: left;\">NM_139318.5:c.980G>A (heterozygous)</td><td style=\"text-align: left;\"><b>P6M</b>: Bilateral tonic-clonic seizure (HP:0002069)<br/>Focal motor seizure (HP:0011153); Epileptic encephalopathy (HP:0200134); Delayed speech and language development (HP:0000750); Developmental regression (HP:0002376); Intellectual disability (HP:0001249); excluded: Bilateral tonic-clonic seizure with focal onset (HP:0007334); excluded: Focal impaired awareness motor seizure (HP:0032712); excluded: Focal aware motor seizure (HP:0020217); excluded: Focal tonic seizure (HP:0011167); excluded: Focal hemiclonic seizure (HP:0006813); excluded: Myoclonic seizure (HP:0032794); excluded: Generalized non-motor (absence) seizure (HP:0002121); excluded: Status epilepticus (HP:0002133); excluded: Hypotonia (HP:0001252)</td></tr>\n",
       "<tr><td style=\"text-align: left;\">Proband 3 (MALE; P5Y6M)</td><td style=\"text-align: left;\">Developmental and epileptic encephalopathy 112 (OMIM:620537)</td><td style=\"text-align: left;\">NM_139318.5:c.980G>A (heterozygous)</td><td style=\"text-align: left;\">Bilateral tonic-clonic seizure with focal onset (HP:0007334); Focal motor seizure (HP:0011153); Epileptic encephalopathy (HP:0200134); Delayed speech and language development (HP:0000750); Developmental regression (HP:0002376); Intellectual disability (HP:0001249); Attention deficit hyperactivity disorder (HP:0007018); excluded: Focal impaired awareness motor seizure (HP:0032712); excluded: Focal aware motor seizure (HP:0020217); excluded: Focal tonic seizure (HP:0011167); excluded: Focal hemiclonic seizure (HP:0006813); excluded: Myoclonic seizure (HP:0032794); excluded: Generalized non-motor (absence) seizure (HP:0002121); excluded: Status epilepticus (HP:0002133); excluded: Hypotonia (HP:0001252); excluded: Chiari type I malformation (HP:0007099); excluded: Cerebral atrophy (HP:0002059); excluded: Delayed CNS myelination (HP:0002188)</td></tr>\n",
       "<tr><td style=\"text-align: left;\">Proband 4 (FEMALE; P61Y)</td><td style=\"text-align: left;\">Developmental and epileptic encephalopathy 112 (OMIM:620537)</td><td style=\"text-align: left;\">NM_139318.5:c.980G>A (heterozygous)</td><td style=\"text-align: left;\">Bilateral tonic-clonic seizure (HP:0002069); Focal aware motor seizure (HP:0020217); excluded: Bilateral tonic-clonic seizure with focal onset (HP:0007334); excluded: Focal impaired awareness motor seizure (HP:0032712); excluded: Focal tonic seizure (HP:0011167); excluded: Focal hemiclonic seizure (HP:0006813); excluded: Myoclonic seizure (HP:0032794); excluded: Generalized non-motor (absence) seizure (HP:0002121); excluded: Status epilepticus (HP:0002133); excluded: Developmental regression (HP:0002376); excluded: Hypotonia (HP:0001252); excluded: Chiari type I malformation (HP:0007099); excluded: Cerebral atrophy (HP:0002059); excluded: Delayed CNS myelination (HP:0002188)</td></tr>\n",
       "<tr><td style=\"text-align: left;\">Proband 5 (FEMALE; P5Y6M)</td><td style=\"text-align: left;\">Developmental and epileptic encephalopathy 112 (OMIM:620537)</td><td style=\"text-align: left;\">NM_139318.5:c.980G>A (heterozygous)</td><td style=\"text-align: left;\"><b>P6M</b>: Focal-onset seizure (HP:0007359)<br/>Epileptic encephalopathy (HP:0200134); Delayed speech and language development (HP:0000750); Intellectual disability (HP:0001249); excluded: Focal impaired awareness motor seizure (HP:0032712); excluded: Focal aware motor seizure (HP:0020217); excluded: Focal tonic seizure (HP:0011167); excluded: Focal hemiclonic seizure (HP:0006813); excluded: Myoclonic seizure (HP:0032794); excluded: Generalized non-motor (absence) seizure (HP:0002121); excluded: Status epilepticus (HP:0002133); excluded: Developmental regression (HP:0002376); excluded: Hypotonia (HP:0001252)</td></tr>\n",
       "<tr><td style=\"text-align: left;\">Proband 6 (FEMALE; P10Y)</td><td style=\"text-align: left;\">Developmental and epileptic encephalopathy 112 (OMIM:620537)</td><td style=\"text-align: left;\">NM_139318.5:c.980G>A (heterozygous)</td><td style=\"text-align: left;\">Bilateral tonic-clonic seizure with focal onset (HP:0007334); Focal motor seizure (HP:0011153); Epileptic encephalopathy (HP:0200134); Delayed speech and language development (HP:0000750); Intellectual disability (HP:0001249); excluded: Focal impaired awareness motor seizure (HP:0032712); excluded: Focal aware motor seizure (HP:0020217); excluded: Focal tonic seizure (HP:0011167); excluded: Focal hemiclonic seizure (HP:0006813); excluded: Myoclonic seizure (HP:0032794); excluded: Generalized non-motor (absence) seizure (HP:0002121); excluded: Status epilepticus (HP:0002133); excluded: Developmental regression (HP:0002376); excluded: Hypotonia (HP:0001252); excluded: Chiari type I malformation (HP:0007099); excluded: Cerebral atrophy (HP:0002059); excluded: Delayed CNS myelination (HP:0002188)</td></tr>\n",
       "<tr><td style=\"text-align: left;\">Proband 7 (MALE; P9Y)</td><td style=\"text-align: left;\">Developmental and epileptic encephalopathy 112 (OMIM:620537)</td><td style=\"text-align: left;\">NM_139318.5:c.980G>A (heterozygous)</td><td style=\"text-align: left;\"><b>P10M</b>: Focal impaired awareness motor seizure (HP:0032712)<br/>Bilateral tonic-clonic seizure (HP:0002069); Myoclonic seizure (HP:0032794); Clonic seizure (HP:0020221); Generalized non-motor (absence) seizure (HP:0002121); Epileptic encephalopathy (HP:0200134); Delayed speech and language development (HP:0000750); Intellectual disability (HP:0001249); excluded: Bilateral tonic-clonic seizure with focal onset (HP:0007334); excluded: Focal aware motor seizure (HP:0020217); excluded: Focal tonic seizure (HP:0011167); excluded: Focal hemiclonic seizure (HP:0006813); excluded: Status epilepticus (HP:0002133); excluded: Developmental regression (HP:0002376); excluded: Hypotonia (HP:0001252); excluded: Chiari type I malformation (HP:0007099); excluded: Cerebral atrophy (HP:0002059); excluded: Delayed CNS myelination (HP:0002188)</td></tr>\n",
       "<tr><td style=\"text-align: left;\">Proband 8 (FEMALE; P3Y8M)</td><td style=\"text-align: left;\">Developmental and epileptic encephalopathy 112 (OMIM:620537)</td><td style=\"text-align: left;\">NM_139318.5:c.980G>A (heterozygous)</td><td style=\"text-align: left;\"><b>P2M</b>: Focal motor seizure (HP:0011153)<br/>Bilateral tonic-clonic seizure with focal onset (HP:0007334); Epileptic encephalopathy (HP:0200134); Delayed speech and language development (HP:0000750); Intellectual disability (HP:0001249); excluded: Focal aware motor seizure (HP:0020217); excluded: Focal tonic seizure (HP:0011167); excluded: Focal hemiclonic seizure (HP:0006813); excluded: Myoclonic seizure (HP:0032794); excluded: Generalized non-motor (absence) seizure (HP:0002121); excluded: Status epilepticus (HP:0002133); excluded: Developmental regression (HP:0002376); excluded: Hypotonia (HP:0001252); excluded: Chiari type I malformation (HP:0007099); excluded: Cerebral atrophy (HP:0002059); excluded: Delayed CNS myelination (HP:0002188)</td></tr>\n",
       "<tr><td style=\"text-align: left;\">Proband 9 (FEMALE; P1Y7M)</td><td style=\"text-align: left;\">Developmental and epileptic encephalopathy 112 (OMIM:620537)</td><td style=\"text-align: left;\">NM_139318.5:c.980G>A (heterozygous)</td><td style=\"text-align: left;\">Bilateral tonic-clonic seizure (HP:0002069); Epileptic encephalopathy (HP:0200134); Delayed speech and language development (HP:0000750); excluded: Bilateral tonic-clonic seizure with focal onset (HP:0007334); excluded: Focal impaired awareness motor seizure (HP:0032712); excluded: Focal aware motor seizure (HP:0020217); excluded: Focal tonic seizure (HP:0011167); excluded: Focal hemiclonic seizure (HP:0006813); excluded: Myoclonic seizure (HP:0032794); excluded: Generalized non-motor (absence) seizure (HP:0002121); excluded: Status epilepticus (HP:0002133); excluded: Developmental regression (HP:0002376); excluded: Hypotonia (HP:0001252); excluded: Chiari type I malformation (HP:0007099); excluded: Cerebral atrophy (HP:0002059); excluded: Delayed CNS myelination (HP:0002188)</td></tr>\n",
       "<tr><td style=\"text-align: left;\">Proband 10 (MALE; Infantile onset (HP:0003593))</td><td style=\"text-align: left;\">Developmental and epileptic encephalopathy 112 (OMIM:620537)</td><td style=\"text-align: left;\">NM_139318.5:c.980G>A (heterozygous)</td><td style=\"text-align: left;\">Bilateral tonic-clonic seizure (HP:0002069); Epileptic encephalopathy (HP:0200134); Global developmental delay (HP:0001263); Intellectual disability (HP:0001249); excluded: Bilateral tonic-clonic seizure with focal onset (HP:0007334); excluded: Focal impaired awareness motor seizure (HP:0032712); excluded: Focal aware motor seizure (HP:0020217); excluded: Focal tonic seizure (HP:0011167); excluded: Focal hemiclonic seizure (HP:0006813); excluded: Myoclonic seizure (HP:0032794); excluded: Generalized non-motor (absence) seizure (HP:0002121); excluded: Status epilepticus (HP:0002133); excluded: Developmental regression (HP:0002376); excluded: Hypotonia (HP:0001252); excluded: Chiari type I malformation (HP:0007099); excluded: Cerebral atrophy (HP:0002059); excluded: Delayed CNS myelination (HP:0002188)</td></tr>\n",
       "<tr><td style=\"text-align: left;\">Proband 11 (FEMALE; P3Y6M)</td><td style=\"text-align: left;\">Developmental and epileptic encephalopathy 112 (OMIM:620537)</td><td style=\"text-align: left;\">NM_139318.5:c.998G>A (heterozygous)</td><td style=\"text-align: left;\"><b>P8M</b>: Focal impaired awareness motor seizure (HP:0032712)<br/>Bilateral tonic-clonic seizure with focal onset (HP:0007334); excluded: Focal aware motor seizure (HP:0020217); excluded: Focal tonic seizure (HP:0011167); excluded: Focal hemiclonic seizure (HP:0006813); excluded: Myoclonic seizure (HP:0032794); excluded: Generalized non-motor (absence) seizure (HP:0002121); excluded: Status epilepticus (HP:0002133); excluded: Epileptic encephalopathy (HP:0200134); excluded: Global developmental delay (HP:0001263); excluded: Developmental regression (HP:0002376); excluded: Hypotonia (HP:0001252); excluded: Chiari type I malformation (HP:0007099); excluded: Cerebral atrophy (HP:0002059); excluded: Delayed CNS myelination (HP:0002188)</td></tr>\n",
       "<tr><td style=\"text-align: left;\">Proband 12 (FEMALE; P7Y)</td><td style=\"text-align: left;\">Developmental and epileptic encephalopathy 112 (OMIM:620537)</td><td style=\"text-align: left;\">NM_139318.5:c.998G>A (heterozygous)</td><td style=\"text-align: left;\"><b>P9M</b>: Bilateral tonic-clonic seizure (HP:0002069)<br/>Delayed speech and language development (HP:0000750); excluded: Bilateral tonic-clonic seizure with focal onset (HP:0007334); excluded: Focal impaired awareness motor seizure (HP:0032712); excluded: Focal aware motor seizure (HP:0020217); excluded: Focal tonic seizure (HP:0011167); excluded: Focal hemiclonic seizure (HP:0006813); excluded: Myoclonic seizure (HP:0032794); excluded: Generalized non-motor (absence) seizure (HP:0002121); excluded: Status epilepticus (HP:0002133); excluded: Developmental regression (HP:0002376); excluded: Intellectual disability (HP:0001249); excluded: Hypotonia (HP:0001252); excluded: Chiari type I malformation (HP:0007099); excluded: Cerebral atrophy (HP:0002059); excluded: Delayed CNS myelination (HP:0002188)</td></tr>\n",
       "<tr><td style=\"text-align: left;\">Proband 13 (FEMALE; P10Y)</td><td style=\"text-align: left;\">Developmental and epileptic encephalopathy 112 (OMIM:620537)</td><td style=\"text-align: left;\">NM_139318.5:c.998G>A (heterozygous)</td><td style=\"text-align: left;\"><b>P10M</b>: Focal impaired awareness motor seizure (HP:0032712)<br/>Bilateral tonic-clonic seizure with focal onset (HP:0007334); Global developmental delay (HP:0001263); Motor delay (HP:0001270); Delayed speech and language development (HP:0000750); Chiari type I malformation (HP:0007099); excluded: Focal aware motor seizure (HP:0020217); excluded: Focal tonic seizure (HP:0011167); excluded: Focal hemiclonic seizure (HP:0006813); excluded: Myoclonic seizure (HP:0032794); excluded: Generalized non-motor (absence) seizure (HP:0002121); excluded: Status epilepticus (HP:0002133); excluded: Epileptic encephalopathy (HP:0200134); excluded: Developmental regression (HP:0002376); excluded: Intellectual disability (HP:0001249); excluded: Hypotonia (HP:0001252); excluded: Cerebral atrophy (HP:0002059); excluded: Delayed CNS myelination (HP:0002188)</td></tr>\n",
       "<tr><td style=\"text-align: left;\">Proband 14 (FEMALE; P1Y3M)</td><td style=\"text-align: left;\">Developmental and epileptic encephalopathy 112 (OMIM:620537)</td><td style=\"text-align: left;\">NM_139318.5:c.998G>A (heterozygous)</td><td style=\"text-align: left;\">Bilateral tonic-clonic seizure (HP:0002069); Myoclonic seizure (HP:0032794); Hypotonia (HP:0001252); excluded: Bilateral tonic-clonic seizure with focal onset (HP:0007334); excluded: Focal impaired awareness motor seizure (HP:0032712); excluded: Focal aware motor seizure (HP:0020217); excluded: Focal tonic seizure (HP:0011167); excluded: Focal hemiclonic seizure (HP:0006813); excluded: Generalized non-motor (absence) seizure (HP:0002121); excluded: Status epilepticus (HP:0002133); excluded: Epileptic encephalopathy (HP:0200134); excluded: Chiari type I malformation (HP:0007099); excluded: Cerebral atrophy (HP:0002059); excluded: Delayed CNS myelination (HP:0002188)</td></tr>\n",
       "<tr><td style=\"text-align: left;\">Proband 15 (FEMALE; P11M)</td><td style=\"text-align: left;\">Developmental and epileptic encephalopathy 112 (OMIM:620537)</td><td style=\"text-align: left;\">NM_139318.5:c.1388T>C (heterozygous)</td><td style=\"text-align: left;\"><b>P3M</b>: Focal tonic seizure (HP:0011167)<br/>Bilateral tonic-clonic seizure (HP:0002069); Myoclonic seizure (HP:0032794); Status epilepticus (HP:0002133); Epileptic encephalopathy (HP:0200134); Global developmental delay (HP:0001263); Hypotonia (HP:0001252); Cerebral atrophy (HP:0002059); Delayed CNS myelination (HP:0002188); excluded: Bilateral tonic-clonic seizure with focal onset (HP:0007334); excluded: Focal impaired awareness motor seizure (HP:0032712); excluded: Focal aware motor seizure (HP:0020217); excluded: Focal hemiclonic seizure (HP:0006813); excluded: Generalized non-motor (absence) seizure (HP:0002121); excluded: Developmental regression (HP:0002376); excluded: Chiari type I malformation (HP:0007099)</td></tr>\n",
       "<tr><td style=\"text-align: left;\">Proband 16 (FEMALE; P9Y)</td><td style=\"text-align: left;\">Developmental and epileptic encephalopathy 112 (OMIM:620537)</td><td style=\"text-align: left;\">NM_139318.5:c.1402A>C (heterozygous)</td><td style=\"text-align: left;\">Bilateral tonic-clonic seizure (HP:0002069); Focal tonic seizure (HP:0011167); Myoclonic seizure (HP:0032794); Status epilepticus (HP:0002133); Epileptic encephalopathy (HP:0200134); Global developmental delay (HP:0001263); Intellectual disability (HP:0001249); Hypotonia (HP:0001252); Cerebral atrophy (HP:0002059); excluded: Bilateral tonic-clonic seizure with focal onset (HP:0007334); excluded: Focal impaired awareness motor seizure (HP:0032712); excluded: Focal aware motor seizure (HP:0020217); excluded: Focal hemiclonic seizure (HP:0006813); excluded: Generalized non-motor (absence) seizure (HP:0002121); excluded: Developmental regression (HP:0002376); excluded: Chiari type I malformation (HP:0007099); excluded: Delayed CNS myelination (HP:0002188)</td></tr>\n",
       "<tr><td style=\"text-align: left;\">Proband 17 (FEMALE; P12Y)</td><td style=\"text-align: left;\">Developmental and epileptic encephalopathy 112 (OMIM:620537)</td><td style=\"text-align: left;\">NM_139318.5:c.1412T>C (heterozygous)</td><td style=\"text-align: left;\"><b>P1Y</b>: Bilateral tonic-clonic seizure (HP:0002069)<br/>Focal impaired awareness motor seizure (HP:0032712); Epileptic encephalopathy (HP:0200134); Global developmental delay (HP:0001263); Intellectual disability (HP:0001249); excluded: Bilateral tonic-clonic seizure with focal onset (HP:0007334); excluded: Focal aware motor seizure (HP:0020217); excluded: Focal tonic seizure (HP:0011167); excluded: Focal hemiclonic seizure (HP:0006813); excluded: Myoclonic seizure (HP:0032794); excluded: Generalized non-motor (absence) seizure (HP:0002121); excluded: Status epilepticus (HP:0002133); excluded: Developmental regression (HP:0002376); excluded: Hypotonia (HP:0001252); excluded: Chiari type I malformation (HP:0007099); excluded: Cerebral atrophy (HP:0002059); excluded: Delayed CNS myelination (HP:0002188)</td></tr>\n",
       "</table>"
      ],
      "text/plain": [
       "<IPython.core.display.HTML object>"
      ]
     },
     "metadata": {},
     "output_type": "display_data"
    }
   ],
   "source": [
    "table = IndividualTable(cvalidator.get_error_free_individual_list())\n",
    "display(HTML(table.to_html()))"
   ]
  },
  {
   "cell_type": "code",
   "execution_count": 13,
   "id": "fbb4efe5-bf8e-4640-950d-8cd20b25fde9",
   "metadata": {},
   "outputs": [
    {
     "name": "stdout",
     "output_type": "stream",
     "text": [
      "[pyphetools] Ingested 22 GA4GH phenopackets.\n",
      "\tDevelopmental and epileptic encephalopathy 112 (OMIM:620537): n=22\n",
      "We found a total of 27 unique HPO terms\n",
      "Extracted disease: Developmental and epileptic encephalopathy 112 (OMIM:620537)\n",
      "Wrote HPOA disease file to OMIM-620537.tab\n"
     ]
    }
   ],
   "source": [
    "PMID = \"PMID:36307226\"\n",
    "df = timporter.create_hpoa_from_phenopackets(pmid=PMID, moi=\"Autosomal dominant\")"
   ]
  },
  {
   "cell_type": "code",
   "execution_count": 14,
   "id": "c8903031-cec6-45fd-ba47-e6ffb43b00c6",
   "metadata": {},
   "outputs": [
    {
     "name": "stdout",
     "output_type": "stream",
     "text": [
      "Wrote HPOA disease file to OMIM-620537.tab\n"
     ]
    }
   ],
   "source": [
    "hpoa_table_creator.write_data_frame()"
   ]
  },
  {
   "cell_type": "code",
   "execution_count": null,
   "id": "2335d0e8-3c5d-4190-93fa-e09718024930",
   "metadata": {},
   "outputs": [],
   "source": []
  }
 ],
 "metadata": {
  "kernelspec": {
   "display_name": "Python 3 (ipykernel)",
   "language": "python",
   "name": "python3"
  },
  "language_info": {
   "codemirror_mode": {
    "name": "ipython",
    "version": 3
   },
   "file_extension": ".py",
   "mimetype": "text/x-python",
   "name": "python",
   "nbconvert_exporter": "python",
   "pygments_lexer": "ipython3",
   "version": "3.8.10"
  }
 },
 "nbformat": 4,
 "nbformat_minor": 5
}
