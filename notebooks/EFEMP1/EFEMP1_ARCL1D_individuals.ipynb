{
 "cells": [
  {
   "cell_type": "markdown",
   "metadata": {},
   "source": [
    "# EFEMP1\n",
    "[autosomal recessive cutis laxa type ID (ARCL1D)](https://omim.org/entry/620780) is caused by homozygous or compound heterozygous mutation in the EFEMP1."
   ]
  },
  {
   "cell_type": "code",
   "execution_count": 3,
   "metadata": {},
   "outputs": [
    {
     "name": "stdout",
     "output_type": "stream",
     "text": [
      "Using pyphetools version 0.9.84\n"
     ]
    }
   ],
   "source": [
    "from pyphetools.creation import TemplateImporter\n",
    "from pyphetools.visualization import IndividualTable, QcVisualizer\n",
    "from IPython.display import display, HTML\n",
    "import pyphetools\n",
    "print(f\"Using pyphetools version {pyphetools.__version__}\")"
   ]
  },
  {
   "cell_type": "code",
   "execution_count": 5,
   "metadata": {},
   "outputs": [],
   "source": [
    "template = \"input/EFEMP1_ARCL1D_individuals.xlsx\"\n",
    "created_by = \"0000-0002-0736-9199\""
   ]
  },
  {
   "cell_type": "code",
   "execution_count": 6,
   "metadata": {},
   "outputs": [
    {
     "name": "stdout",
     "output_type": "stream",
     "text": [
      "HPO version 2024-04-26\n",
      "Created encoders for 63 fields\n",
      "Importing OMIM:620780, Cutis laxa, autosomal recessive, type ID, HGNC:3218, EFEMP1,  NM_001039348.3\n",
      "[INFO] encoding variant \"c.163T>C\"\n",
      "https://rest.variantvalidator.org/VariantValidator/variantvalidator/hg38/NM_001039348.3%3Ac.163T>C/NM_001039348.3?content-type=application%2Fjson\n",
      "[INFO] encoding variant \"c.1201C>T\"\n",
      "https://rest.variantvalidator.org/VariantValidator/variantvalidator/hg38/NM_001039348.3%3Ac.1201C>T/NM_001039348.3?content-type=application%2Fjson\n",
      "[INFO] encoding variant \"c.320_324del\"\n",
      "https://rest.variantvalidator.org/VariantValidator/variantvalidator/hg38/NM_001039348.3%3Ac.320_324del/NM_001039348.3?content-type=application%2Fjson\n",
      "[INFO] encoding variant \"c.615T>A\"\n",
      "https://rest.variantvalidator.org/VariantValidator/variantvalidator/hg38/NM_001039348.3%3Ac.615T>A/NM_001039348.3?content-type=application%2Fjson\n",
      "We output 4 GA4GH phenopackets to the directory phenopackets\n"
     ]
    }
   ],
   "source": [
    "timporter = TemplateImporter(template=template,  created_by=created_by)\n",
    "individual_list, cvalidator = timporter.import_phenopackets_from_template()"
   ]
  },
  {
   "cell_type": "code",
   "execution_count": 7,
   "metadata": {},
   "outputs": [
    {
     "data": {
      "text/html": [
       "<h2>Cohort validation</h2>\n",
       "<p>Errors found with 1 of 4 phenopackets.</p>\n",
       "<table style=\"border: 2px solid black; align: \"left\">\n",
       "<caption>Error counts</caption>\n",
       "<tr><th style=\"text-align: left;font-weight: bold;\">Level</th><th style=\"text-align: left;font-weight: bold;\">Error category</th><th style=\"text-align: left;font-weight: bold;\">Count</th></tr>\n",
       "<tr><td style=\"text-align: left;\">WARNING</td><td style=\"text-align: left;\">REDUNDANT</td><td style=\"text-align: left;\">1</td></tr>\n",
       "</table>\n",
       "<p>A total of 1 issues were fixed and no individual was removed from the cohort.</p>"
      ],
      "text/plain": [
       "<IPython.core.display.HTML object>"
      ]
     },
     "metadata": {},
     "output_type": "display_data"
    }
   ],
   "source": [
    "qc = QcVisualizer(cohort_validator=cvalidator)\n",
    "display(HTML(qc.to_summary_html()))"
   ]
  },
  {
   "cell_type": "code",
   "execution_count": 8,
   "metadata": {},
   "outputs": [
    {
     "data": {
      "text/html": [
       "<table style=\"border: 2px solid black; align: \"left\">\n",
       "<caption>4 phenopackets - PMID:32006683 (n=2); PMID:31792352 (n=1); PMID:33807164 (n=1)</caption>\n",
       "<tr><th style=\"text-align: left;font-weight: bold;\">Individual</th><th style=\"text-align: left;font-weight: bold;\">Disease</th><th style=\"text-align: left;font-weight: bold;\">Genotype</th><th style=\"text-align: left;font-weight: bold;\">Phenotypic features</th></tr>\n",
       "<tr><td style=\"text-align: left;\">patients IV.1 (FEMALE; P19Y)</td><td style=\"text-align: left;\">Cutis laxa, autosomal recessive, type ID (OMIM:620780)</td><td style=\"text-align: left;\">NM_001039348.3:c.163T>C (homozygous)</td><td style=\"text-align: left;\"><b>P10Y</b>: Tall stature (HP:0000098); Accelerated skeletal maturation (HP:0005616); Downslanted palpebral fissures (HP:0000494); Ectropion of lower eyelids (HP:0007651); Telecanthus (HP:0000506); Long face (HP:0000276); Narrow face (HP:0000275); High palate (HP:0000218); High myopia (HP:0011003); Ptosis (HP:0000508); Macrotia (HP:0000400); Inguinal hernia (HP:0000023); Arachnodactyly (HP:0001166); Joint hypermobility (HP:0001382); Pectus excavatum (HP:0000767)<br/><b>P17Y</b>: Intestinal obstruction (HP:0005214); Colonic diverticula (HP:0002253); Gastric diverticulum (HP:0100808)<br/><b>P18Y</b>: Ventral hernia (HP:0002933)<br/><b>P19Y</b>: Rectocele (HP:0100822)<br/>Narrow uvula (HP:0010811); Dental crowding (HP:0000678); Astigmatism (HP:0000483); Pes planus (HP:0001763); excluded: Thin skin (HP:0000963); excluded: Cutis laxa (HP:0000973); excluded: Bruising susceptibility (HP:0000978); excluded: Posterolateral diaphragmatic hernia (HP:0025193); excluded: Scoliosis (HP:0002650); excluded: Hypotonia (HP:0001252); excluded: Pulmonary bulla (HP:0032446); excluded: Bladder diverticulum (HP:0000015); excluded: Volvulus (HP:0002580); excluded: Failure to thrive (HP:0001508)</td></tr>\n",
       "<tr><td style=\"text-align: left;\">patients IV.3 (MALE; P14Y)</td><td style=\"text-align: left;\">Cutis laxa, autosomal recessive, type ID (OMIM:620780)</td><td style=\"text-align: left;\">NM_001039348.3:c.163T>C (homozygous)</td><td style=\"text-align: left;\"><b>P5Y</b>: Tall stature (HP:0000098); Accelerated skeletal maturation (HP:0005616); Downslanted palpebral fissures (HP:0000494); Ectropion of lower eyelids (HP:0007651); Telecanthus (HP:0000506); Long face (HP:0000276); Narrow face (HP:0000275); High palate (HP:0000218); High myopia (HP:0011003); Ptosis (HP:0000508); Macrotia (HP:0000400); Inguinal hernia (HP:0000023); Arachnodactyly (HP:0001166); Joint hypermobility (HP:0001382); Pectus excavatum (HP:0000767)<br/><b>P10Y</b>: Rectal prolapse (HP:0002035); Scoliosis (HP:0002650); Bladder diverticulum (HP:0000015); Volvulus (HP:0002580); Colonic diverticula (HP:0002253); Gastric diverticulum (HP:0100808)<br/>Narrow uvula (HP:0010811); Dental crowding (HP:0000678); Astigmatism (HP:0000483); Congenital diaphragmatic hernia (HP:0000776); Pes planus (HP:0001763); excluded: Thin skin (HP:0000963); excluded: Cutis laxa (HP:0000973); excluded: Bruising susceptibility (HP:0000978); excluded: Intestinal obstruction (HP:0005214); excluded: Ventral hernia (HP:0002933); excluded: Hypotonia (HP:0001252); excluded: Pulmonary bulla (HP:0032446); excluded: Failure to thrive (HP:0001508)</td></tr>\n",
       "<tr><td style=\"text-align: left;\">proband (MALE; P20Y)</td><td style=\"text-align: left;\">Cutis laxa, autosomal recessive, type ID (OMIM:620780)</td><td style=\"text-align: left;\"><ul> <li>NM_001039348.3:c.320_324del (heterozygous)</li> <li>NM_001039348.3:c.615T>A (heterozygous)</li> </ul></td><td style=\"text-align: left;\"><b>P1M5D</b>: Inguinal hernia (HP:0000023)<br/><b>P7Y</b>: Accelerated skeletal maturation (HP:0005616); Narrow palate (HP:0000189); Joint hypermobility (HP:0001382); Pectus excavatum (HP:0000767)<br/>Hypotonia (HP:0001252); Bladder diverticulum (HP:0000015); Tall stature (HP:0000098); Downslanted palpebral fissures (HP:0000494); Ectropion of lower eyelids (HP:0007651); Dental crowding (HP:0000678); High myopia (HP:0011003); Bruising susceptibility (HP:0000978); Femoral hernia (HP:0100541); Posterolateral diaphragmatic hernia (HP:0025193); Arachnodactyly (HP:0001166); Scoliosis (HP:0002650); Pulmonary bulla (HP:0032446); Dural ectasia (HP:0100775); excluded: Ptosis (HP:0000508); excluded: Thin skin (HP:0000963); excluded: Cutis laxa (HP:0000973); excluded: Intestinal obstruction (HP:0005214); excluded: Ventral hernia (HP:0002933); excluded: Volvulus (HP:0002580); excluded: Failure to thrive (HP:0001508)</td></tr>\n",
       "<tr><td style=\"text-align: left;\">proband (MALE; P9Y)</td><td style=\"text-align: left;\">Cutis laxa, autosomal recessive, type ID (OMIM:620780)</td><td style=\"text-align: left;\">NM_001039348.3:c.1201C>T (homozygous)</td><td style=\"text-align: left;\"><b>P7Y</b>: Dental malocclusion (HP:0000689); Telecanthus (HP:0000506); Blepharochalasis (HP:0010749); Long face (HP:0000276); Narrow face (HP:0000275); Downturned corners of mouth (HP:0002714); High anterior hairline (HP:0009890); Long philtrum (HP:0000343); Joint hypermobility (HP:0001382); Hypotonia (HP:0001252); Failure to thrive (HP:0001508)<br/>Cutis laxa (HP:0000973); Inguinal hernia (HP:0000023); Congenital diaphragmatic hernia (HP:0000776); Dermal translucency (HP:0010648); Thin skin (HP:0000963); Bruising susceptibility (HP:0000978); Bladder diverticulum (HP:0000015); excluded: Tall stature (HP:0000098); excluded: Dental crowding (HP:0000678); excluded: High myopia (HP:0011003); excluded: Ptosis (HP:0000508); excluded: Intestinal obstruction (HP:0005214); excluded: Ventral hernia (HP:0002933); excluded: Scoliosis (HP:0002650); excluded: Pectus excavatum (HP:0000767); excluded: Pulmonary bulla (HP:0032446); excluded: Volvulus (HP:0002580)</td></tr>\n",
       "</table>"
      ],
      "text/plain": [
       "<IPython.core.display.HTML object>"
      ]
     },
     "metadata": {},
     "output_type": "display_data"
    }
   ],
   "source": [
    "table = IndividualTable(cvalidator.get_error_free_individual_list())\n",
    "display(HTML(table.to_html()))"
   ]
  },
  {
   "cell_type": "code",
   "execution_count": 9,
   "metadata": {},
   "outputs": [
    {
     "name": "stdout",
     "output_type": "stream",
     "text": [
      "[pyphetools] Ingested 4 GA4GH phenopackets.\n",
      "\tCutis laxa, autosomal recessive, type ID (OMIM:620780): n=4\n",
      "We found a total of 45 unique HPO terms\n",
      "Extracted disease: Cutis laxa, autosomal recessive, type ID (OMIM:620780)\n",
      "Wrote HPOA disease file to OMIM-620780.tab\n"
     ]
    }
   ],
   "source": [
    "pmid = \"PMID:32006683\"\n",
    "df = timporter.create_hpoa_from_phenopackets(pmid=pmid, moi=\"Autosomal recessive\")"
   ]
  }
 ],
 "metadata": {
  "kernelspec": {
   "display_name": "ps24venv",
   "language": "python",
   "name": "python3"
  },
  "language_info": {
   "codemirror_mode": {
    "name": "ipython",
    "version": 3
   },
   "file_extension": ".py",
   "mimetype": "text/x-python",
   "name": "python",
   "nbconvert_exporter": "python",
   "pygments_lexer": "ipython3",
   "version": "3.9.6"
  }
 },
 "nbformat": 4,
 "nbformat_minor": 2
}
