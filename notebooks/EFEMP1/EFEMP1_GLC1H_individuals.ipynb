{
 "cells": [
  {
   "cell_type": "markdown",
   "metadata": {},
   "source": [
    "# EFEMP1\n",
    "[open angle glaucoma-1H (GLC1H)](https://omim.org/entry/611276) is caused by heterozygous mutation in the EFEMP1 gene."
   ]
  },
  {
   "cell_type": "code",
   "execution_count": 3,
   "metadata": {},
   "outputs": [
    {
     "name": "stdout",
     "output_type": "stream",
     "text": [
      "Using pyphetools version 0.9.92\n"
     ]
    }
   ],
   "source": [
    "from pyphetools.creation import TemplateImporter\n",
    "from pyphetools.visualization import IndividualTable, QcVisualizer\n",
    "from IPython.display import display, HTML\n",
    "import pyphetools\n",
    "print(f\"Using pyphetools version {pyphetools.__version__}\")"
   ]
  },
  {
   "cell_type": "code",
   "execution_count": 4,
   "metadata": {},
   "outputs": [],
   "source": [
    "template = \"input/EFEMP1_GLC1H_individuals.xlsx\"\n",
    "created_by = \"0000-0002-0736-9199\""
   ]
  },
  {
   "cell_type": "code",
   "execution_count": 6,
   "metadata": {},
   "outputs": [
    {
     "name": "stdout",
     "output_type": "stream",
     "text": [
      "HPO version 2024-07-01\n",
      "Created encoders for 21 fields\n",
      "Importing OMIM:611276, Glaucoma 1, open angle, H, HGNC:3218, EFEMP1,  NM_001039348.3\n",
      "[INFO] encoding variant \"c.418C>T\"\n",
      "https://rest.variantvalidator.org/VariantValidator/variantvalidator/hg38/NM_001039348.3%3Ac.418C>T/NM_001039348.3?content-type=application%2Fjson\n",
      "We output 5 GA4GH phenopackets to the directory phenopackets\n"
     ]
    }
   ],
   "source": [
    "timporter = TemplateImporter(template=template,  created_by=created_by)\n",
    "individual_list, cvalidator = timporter.import_phenopackets_from_template()"
   ]
  },
  {
   "cell_type": "code",
   "execution_count": 7,
   "metadata": {},
   "outputs": [
    {
     "data": {
      "text/html": [
       "<h2>Cohort validation</h2>\n",
       "<p>No errors found for the cohort with 5 individuals</p>"
      ],
      "text/plain": [
       "<IPython.core.display.HTML object>"
      ]
     },
     "metadata": {},
     "output_type": "display_data"
    }
   ],
   "source": [
    "qc = QcVisualizer(cohort_validator=cvalidator)\n",
    "display(HTML(qc.to_summary_html()))"
   ]
  },
  {
   "cell_type": "code",
   "execution_count": 8,
   "metadata": {},
   "outputs": [
    {
     "data": {
      "text/html": [
       "<table style=\"border: 2px solid black; align: \"left\">\n",
       "<caption>5 phenopackets - PMID:26162006 (n=5)</caption>\n",
       "<tr><th style=\"text-align: left;font-weight: bold;\">Individual</th><th style=\"text-align: left;font-weight: bold;\">Disease</th><th style=\"text-align: left;font-weight: bold;\">Genotype</th><th style=\"text-align: left;font-weight: bold;\">Phenotypic features</th></tr>\n",
       "<tr><td style=\"text-align: left;\">Individual I:1 (MALE; n/a)</td><td style=\"text-align: left;\">Glaucoma 1, open angle, H (OMIM:611276)</td><td style=\"text-align: left;\">NM_001039348.3:c.418C>T (heterozygous)</td><td style=\"text-align: left;\">Visual field defect (HP:0001123); Ocular hypertension (HP:0007906); Open angle glaucoma (HP:0012108); excluded: Nuclear cataract (HP:0100018)</td></tr>\n",
       "<tr><td style=\"text-align: left;\">Individual II:4 (MALE; n/a)</td><td style=\"text-align: left;\">Glaucoma 1, open angle, H (OMIM:611276)</td><td style=\"text-align: left;\">NM_001039348.3:c.418C>T (heterozygous)</td><td style=\"text-align: left;\">Visual field defect (HP:0001123); Ocular hypertension (HP:0007906); Open angle glaucoma (HP:0012108); excluded: Nuclear cataract (HP:0100018)</td></tr>\n",
       "<tr><td style=\"text-align: left;\">Individual II:5 (MALE; n/a)</td><td style=\"text-align: left;\">Glaucoma 1, open angle, H (OMIM:611276)</td><td style=\"text-align: left;\">NM_001039348.3:c.418C>T (heterozygous)</td><td style=\"text-align: left;\">Visual field defect (HP:0001123); Ocular hypertension (HP:0007906); Open angle glaucoma (HP:0012108); excluded: Nuclear cataract (HP:0100018)</td></tr>\n",
       "<tr><td style=\"text-align: left;\">Individual II:7 (MALE; n/a)</td><td style=\"text-align: left;\">Glaucoma 1, open angle, H (OMIM:611276)</td><td style=\"text-align: left;\">NM_001039348.3:c.418C>T (heterozygous)</td><td style=\"text-align: left;\">Visual field defect (HP:0001123); Ocular hypertension (HP:0007906); Nuclear cataract (HP:0100018); Open angle glaucoma (HP:0012108)</td></tr>\n",
       "<tr><td style=\"text-align: left;\">Individual II:10 (MALE; n/a)</td><td style=\"text-align: left;\">Glaucoma 1, open angle, H (OMIM:611276)</td><td style=\"text-align: left;\">NM_001039348.3:c.418C>T (heterozygous)</td><td style=\"text-align: left;\">Visual field defect (HP:0001123); Ocular hypertension (HP:0007906); Nuclear cataract (HP:0100018); Open angle glaucoma (HP:0012108)</td></tr>\n",
       "</table>"
      ],
      "text/plain": [
       "<IPython.core.display.HTML object>"
      ]
     },
     "metadata": {},
     "output_type": "display_data"
    }
   ],
   "source": [
    "table = IndividualTable(cvalidator.get_error_free_individual_list())\n",
    "display(HTML(table.to_html()))"
   ]
  },
  {
   "cell_type": "code",
   "execution_count": 9,
   "metadata": {},
   "outputs": [
    {
     "name": "stdout",
     "output_type": "stream",
     "text": [
      "[pyphetools] Ingested 9 GA4GH phenopackets.\n",
      "[INFO] Extracted 5 from 9 phenopackets with OMIM:611276\n",
      "\n",
      "\tGlaucoma 1, open angle, H (OMIM:611276): n=5\n",
      "We found a total of 4 unique HPO terms\n",
      "Extracted disease: Glaucoma 1, open angle, H (OMIM:611276)\n",
      "Wrote HPOA disease file to OMIM-611276.tab\n"
     ]
    },
    {
     "data": {
      "text/html": [
       "<div>\n",
       "<style scoped>\n",
       "    .dataframe tbody tr th:only-of-type {\n",
       "        vertical-align: middle;\n",
       "    }\n",
       "\n",
       "    .dataframe tbody tr th {\n",
       "        vertical-align: top;\n",
       "    }\n",
       "\n",
       "    .dataframe thead th {\n",
       "        text-align: right;\n",
       "    }\n",
       "</style>\n",
       "<table border=\"1\" class=\"dataframe\">\n",
       "  <thead>\n",
       "    <tr style=\"text-align: right;\">\n",
       "      <th></th>\n",
       "      <th>#diseaseID</th>\n",
       "      <th>diseaseName</th>\n",
       "      <th>phenotypeID</th>\n",
       "      <th>phenotypeName</th>\n",
       "      <th>onsetID</th>\n",
       "      <th>onsetName</th>\n",
       "      <th>frequency</th>\n",
       "      <th>sex</th>\n",
       "      <th>negation</th>\n",
       "      <th>modifier</th>\n",
       "      <th>description</th>\n",
       "      <th>publication</th>\n",
       "      <th>evidence</th>\n",
       "      <th>biocuration</th>\n",
       "    </tr>\n",
       "  </thead>\n",
       "  <tbody>\n",
       "    <tr>\n",
       "      <th>0</th>\n",
       "      <td>OMIM:611276</td>\n",
       "      <td>Glaucoma 1, open angle, H</td>\n",
       "      <td>HP:0001123</td>\n",
       "      <td>Visual field defect</td>\n",
       "      <td></td>\n",
       "      <td></td>\n",
       "      <td>5/5</td>\n",
       "      <td></td>\n",
       "      <td></td>\n",
       "      <td></td>\n",
       "      <td></td>\n",
       "      <td>PMID:26162006</td>\n",
       "      <td>PCS</td>\n",
       "      <td>ORCID:0000-0002-0736-9199[2024-07-06]</td>\n",
       "    </tr>\n",
       "    <tr>\n",
       "      <th>1</th>\n",
       "      <td>OMIM:611276</td>\n",
       "      <td>Glaucoma 1, open angle, H</td>\n",
       "      <td>HP:0007906</td>\n",
       "      <td>Ocular hypertension</td>\n",
       "      <td></td>\n",
       "      <td></td>\n",
       "      <td>5/5</td>\n",
       "      <td></td>\n",
       "      <td></td>\n",
       "      <td></td>\n",
       "      <td></td>\n",
       "      <td>PMID:26162006</td>\n",
       "      <td>PCS</td>\n",
       "      <td>ORCID:0000-0002-0736-9199[2024-07-06]</td>\n",
       "    </tr>\n",
       "    <tr>\n",
       "      <th>2</th>\n",
       "      <td>OMIM:611276</td>\n",
       "      <td>Glaucoma 1, open angle, H</td>\n",
       "      <td>HP:0100018</td>\n",
       "      <td>Nuclear cataract</td>\n",
       "      <td></td>\n",
       "      <td></td>\n",
       "      <td>2/5</td>\n",
       "      <td></td>\n",
       "      <td></td>\n",
       "      <td></td>\n",
       "      <td></td>\n",
       "      <td>PMID:26162006</td>\n",
       "      <td>PCS</td>\n",
       "      <td>ORCID:0000-0002-0736-9199[2024-07-06]</td>\n",
       "    </tr>\n",
       "    <tr>\n",
       "      <th>3</th>\n",
       "      <td>OMIM:611276</td>\n",
       "      <td>Glaucoma 1, open angle, H</td>\n",
       "      <td>HP:0012108</td>\n",
       "      <td>Open angle glaucoma</td>\n",
       "      <td></td>\n",
       "      <td></td>\n",
       "      <td>5/5</td>\n",
       "      <td></td>\n",
       "      <td></td>\n",
       "      <td></td>\n",
       "      <td></td>\n",
       "      <td>PMID:26162006</td>\n",
       "      <td>PCS</td>\n",
       "      <td>ORCID:0000-0002-0736-9199[2024-07-06]</td>\n",
       "    </tr>\n",
       "    <tr>\n",
       "      <th>4</th>\n",
       "      <td>OMIM:611276</td>\n",
       "      <td>Glaucoma 1, open angle, H</td>\n",
       "      <td>HP:0003581</td>\n",
       "      <td>Adult onset</td>\n",
       "      <td></td>\n",
       "      <td></td>\n",
       "      <td>5/5</td>\n",
       "      <td></td>\n",
       "      <td></td>\n",
       "      <td></td>\n",
       "      <td></td>\n",
       "      <td>PMID:26162006</td>\n",
       "      <td>PCS</td>\n",
       "      <td>ORCID:0000-0002-0736-9199[2024-07-06]</td>\n",
       "    </tr>\n",
       "    <tr>\n",
       "      <th>5</th>\n",
       "      <td>OMIM:611276</td>\n",
       "      <td>Glaucoma 1, open angle, H</td>\n",
       "      <td>HP:0000006</td>\n",
       "      <td>Autosomal dominant inheritance</td>\n",
       "      <td></td>\n",
       "      <td></td>\n",
       "      <td></td>\n",
       "      <td></td>\n",
       "      <td></td>\n",
       "      <td></td>\n",
       "      <td></td>\n",
       "      <td>PMID:26162006</td>\n",
       "      <td>PCS</td>\n",
       "      <td>ORCID:0000-0002-0736-9199[2024-07-06]</td>\n",
       "    </tr>\n",
       "  </tbody>\n",
       "</table>\n",
       "</div>"
      ],
      "text/plain": [
       "    #diseaseID  ...                            biocuration\n",
       "0  OMIM:611276  ...  ORCID:0000-0002-0736-9199[2024-07-06]\n",
       "1  OMIM:611276  ...  ORCID:0000-0002-0736-9199[2024-07-06]\n",
       "2  OMIM:611276  ...  ORCID:0000-0002-0736-9199[2024-07-06]\n",
       "3  OMIM:611276  ...  ORCID:0000-0002-0736-9199[2024-07-06]\n",
       "4  OMIM:611276  ...  ORCID:0000-0002-0736-9199[2024-07-06]\n",
       "5  OMIM:611276  ...  ORCID:0000-0002-0736-9199[2024-07-06]\n",
       "\n",
       "[6 rows x 14 columns]"
      ]
     },
     "execution_count": 9,
     "metadata": {},
     "output_type": "execute_result"
    }
   ],
   "source": [
    "pmid = \"PMID:26162006\"\n",
    "timporter.create_hpoa_from_phenopackets(pmid=pmid, moi=\"Autosomal dominant\", target=\"OMIM:611276\")"
   ]
  }
 ],
 "metadata": {
  "kernelspec": {
   "display_name": "ps24venv",
   "language": "python",
   "name": "python3"
  },
  "language_info": {
   "codemirror_mode": {
    "name": "ipython",
    "version": 3
   },
   "file_extension": ".py",
   "mimetype": "text/x-python",
   "name": "python",
   "nbconvert_exporter": "python",
   "pygments_lexer": "ipython3",
   "version": "3.9.6"
  }
 },
 "nbformat": 4,
 "nbformat_minor": 2
}
