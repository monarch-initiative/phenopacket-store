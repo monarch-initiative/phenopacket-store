{
 "cells": [
  {
   "cell_type": "markdown",
   "metadata": {},
   "source": [
    "# PUM1\n",
    "[neurodevelopmental disorder with motor abnormalities, seizures, and facial dysmorphism (NEDMSF)]() is caused by heterozygous mutation in the PUM1 gene."
   ]
  },
  {
   "cell_type": "code",
   "execution_count": 3,
   "metadata": {},
   "outputs": [
    {
     "name": "stdout",
     "output_type": "stream",
     "text": [
      "Using pyphetools version 0.9.91\n"
     ]
    }
   ],
   "source": [
    "from pyphetools.creation import TemplateImporter\n",
    "from pyphetools.visualization import IndividualTable, QcVisualizer\n",
    "from IPython.display import display, HTML\n",
    "import pyphetools\n",
    "print(f\"Using pyphetools version {pyphetools.__version__}\")"
   ]
  },
  {
   "cell_type": "code",
   "execution_count": 4,
   "metadata": {},
   "outputs": [],
   "source": [
    "template = \"input/PUM1_NEDMSF_individuals.xlsx\"\n",
    "created_by = \"0000-0002-0736-9199\""
   ]
  },
  {
   "cell_type": "code",
   "execution_count": 7,
   "metadata": {},
   "outputs": [
    {
     "name": "stdout",
     "output_type": "stream",
     "text": [
      "HPO version 2024-04-26\n",
      "Created encoders for 76 fields\n",
      "Importing OMIM:620719, Neurodevelopmental disorder with motor abnormalities, seizures, and facial dysmorphism, HGNC:14957, PUM1,  NM_001020658.2\n",
      "[INFO] encoding variant \"c.2509C>T\"\n",
      "https://rest.variantvalidator.org/VariantValidator/variantvalidator/hg38/NM_001020658.2%3Ac.2509C>T/NM_001020658.2?content-type=application%2Fjson\n",
      "[INFO] encoding variant \"c.3439C>T\"\n",
      "https://rest.variantvalidator.org/VariantValidator/variantvalidator/hg38/NM_001020658.2%3Ac.3439C>T/NM_001020658.2?content-type=application%2Fjson\n",
      "We output 5 GA4GH phenopackets to the directory phenopackets\n"
     ]
    }
   ],
   "source": [
    "timporter = TemplateImporter(template=template,  created_by=created_by)\n",
    "individual_list, cvalidator = timporter.import_phenopackets_from_template()"
   ]
  },
  {
   "cell_type": "code",
   "execution_count": 8,
   "metadata": {},
   "outputs": [
    {
     "data": {
      "text/html": [
       "<h2>Cohort validation</h2>\n",
       "<p>Errors found with 1 of 5 phenopackets.</p>\n",
       "<table style=\"border: 2px solid black; align: \"left\">\n",
       "<caption>Error counts</caption>\n",
       "<tr><th style=\"text-align: left;font-weight: bold;\">Level</th><th style=\"text-align: left;font-weight: bold;\">Error category</th><th style=\"text-align: left;font-weight: bold;\">Count</th></tr>\n",
       "<tr><td style=\"text-align: left;\">WARNING</td><td style=\"text-align: left;\">REDUNDANT</td><td style=\"text-align: left;\">1</td></tr>\n",
       "</table>\n",
       "<p>A total of 1 issues were fixed and no individual was removed from the cohort.</p>"
      ],
      "text/plain": [
       "<IPython.core.display.HTML object>"
      ]
     },
     "metadata": {},
     "output_type": "display_data"
    }
   ],
   "source": [
    "qc = QcVisualizer(cohort_validator=cvalidator)\n",
    "display(HTML(qc.to_summary_html()))"
   ]
  },
  {
   "cell_type": "code",
   "execution_count": 9,
   "metadata": {},
   "outputs": [
    {
     "data": {
      "text/html": [
       "<table style=\"border: 2px solid black; align: \"left\">\n",
       "<caption>5 phenopackets - PMID:29474920 (n=1); PMID:30903679 (n=1); PMID:31859446 (n=2); PMID:35386260 (n=1)</caption>\n",
       "<tr><th style=\"text-align: left;font-weight: bold;\">Individual</th><th style=\"text-align: left;font-weight: bold;\">Disease</th><th style=\"text-align: left;font-weight: bold;\">Genotype</th><th style=\"text-align: left;font-weight: bold;\">Phenotypic features</th></tr>\n",
       "<tr><td style=\"text-align: left;\">Subject 11 (FEMALE; P9Y)</td><td style=\"text-align: left;\">Neurodevelopmental disorder with motor abnormalities, seizures, and facial dysmorphism (OMIM:620719)</td><td style=\"text-align: left;\">NM_001020658.2:c.3439C>T (heterozygous)</td><td style=\"text-align: left;\">Almond-shaped palpebral fissure (HP:0007874); Narrow forehead (HP:0000341); Wide nasal bridge (HP:0000431); High palate (HP:0000218); Appendicular hypotonia (HP:0012389); Global developmental delay (HP:0001263); Intellectual disability (HP:0001249); Generalized-onset seizure (HP:0002197); Dilated fourth ventricle (HP:0002198); Ataxia (HP:0001251); Ptosis (HP:0000508); Cerebral visual impairment (HP:0100704); Stereotypical hand wringing (HP:0012171); Toe syndactyly (HP:0001770); Small hand (HP:0200055); Tapered finger (HP:0001182); Reduced bone mineral density (HP:0004349); Scoliosis (HP:0002650); Low-set ears (HP:0000369); excluded: Sloping forehead (HP:0000340); excluded: Epicanthus (HP:0000286); excluded: Pointed chin (HP:0000307); excluded: Prominent nasal bridge (HP:0000426); excluded: Prominent nose (HP:0000448); excluded: Oligodontia (HP:0000677); excluded: Status epilepticus (HP:0002133); excluded: Typical absence seizure (HP:0011147); excluded: Intrauterine growth retardation (HP:0001511)</td></tr>\n",
       "<tr><td style=\"text-align: left;\">proband (MALE; P17Y)</td><td style=\"text-align: left;\">Neurodevelopmental disorder with motor abnormalities, seizures, and facial dysmorphism (OMIM:620719)</td><td style=\"text-align: left;\">NM_001020658.2:c.3439C>T (heterozygous)</td><td style=\"text-align: left;\">Epicanthus (HP:0000286); Almond-shaped palpebral fissure (HP:0007874); Narrow forehead (HP:0000341); Wide nasal bridge (HP:0000431); High palate (HP:0000218); Oligodontia (HP:0000677); Delayed ability to walk (HP:0031936); Axial hypotonia (HP:0008936); Microcephaly (HP:0000252); Global developmental delay (HP:0001263); Intellectual disability (HP:0001249); Typical absence seizure (HP:0011147); Intrauterine growth retardation (HP:0001511); Short stature (HP:0004322); Sparse eyebrow (HP:0045075); Sparse eyelashes (HP:0000653); Fine hair (HP:0002213); Cryptorchidism (HP:0000028); Hypospadias (HP:0000047); Hypertelorism (HP:0000316); Ptosis (HP:0000508); Clinodactyly (HP:0030084); Short middle phalanx of the 5th finger (HP:0004220); Low-set ears (HP:0000369); excluded: Sloping forehead (HP:0000340); excluded: Pointed chin (HP:0000307); excluded: Prominent nasal bridge (HP:0000426); excluded: Prominent nose (HP:0000448); excluded: Status epilepticus (HP:0002133)</td></tr>\n",
       "<tr><td style=\"text-align: left;\">first case (MALE; P15Y)</td><td style=\"text-align: left;\">Neurodevelopmental disorder with motor abnormalities, seizures, and facial dysmorphism (OMIM:620719)</td><td style=\"text-align: left;\">NM_001020658.2:c.3439C>T (heterozygous)</td><td style=\"text-align: left;\">Sloping forehead (HP:0000340); Epicanthus (HP:0000286); Pointed chin (HP:0000307); Prominent nasal bridge (HP:0000426); Prominent nose (HP:0000448); High palate (HP:0000218); Low hanging columella (HP:0009765); Thin corpus callosum (HP:0033725); Cerebral atrophy (HP:0002059); Microcephaly (HP:0000252); Global developmental delay (HP:0001263); Intellectual disability (HP:0001249); Status epilepticus (HP:0002133); Bilateral tonic-clonic seizure (HP:0002069); Typical absence seizure (HP:0011147); Hyporeflexia (HP:0001265); Short stature (HP:0004322); Hirsutism (HP:0001007); Cryptorchidism (HP:0000028); Hypertelorism (HP:0000316); Clinodactyly (HP:0030084); Tapered finger (HP:0001182); Hypotonia (HP:0001252); Joint hypermobility (HP:0001382); Pectus excavatum (HP:0000767); excluded: Almond-shaped palpebral fissure (HP:0007874); excluded: Narrow forehead (HP:0000341); excluded: Wide nasal bridge (HP:0000431); excluded: Oligodontia (HP:0000677); excluded: Intrauterine growth retardation (HP:0001511); excluded: Ataxia (HP:0001251); excluded: Hypospadias (HP:0000047); excluded: Ptosis (HP:0000508); excluded: Low-set ears (HP:0000369)</td></tr>\n",
       "<tr><td style=\"text-align: left;\">second case (MALE; P13Y)</td><td style=\"text-align: left;\">Neurodevelopmental disorder with motor abnormalities, seizures, and facial dysmorphism (OMIM:620719)</td><td style=\"text-align: left;\">NM_001020658.2:c.2509C>T (heterozygous)</td><td style=\"text-align: left;\">Sloping forehead (HP:0000340); Pointed chin (HP:0000307); Prominent nose (HP:0000448); Low hanging columella (HP:0009765); Global developmental delay (HP:0001263); Intellectual disability (HP:0001249); Bilateral tonic-clonic seizure (HP:0002069); Typical absence seizure (HP:0011147); Hyporeflexia (HP:0001265); Hypertelorism (HP:0000316); Clinodactyly (HP:0030084); Hypotonia (HP:0001252); excluded: Epicanthus (HP:0000286); excluded: Almond-shaped palpebral fissure (HP:0007874); excluded: Narrow forehead (HP:0000341); excluded: Wide nasal bridge (HP:0000431); excluded: Prominent nasal bridge (HP:0000426); excluded: High palate (HP:0000218); excluded: Oligodontia (HP:0000677); excluded: Microcephaly (HP:0000252); excluded: Status epilepticus (HP:0002133); excluded: Intrauterine growth retardation (HP:0001511); excluded: Ataxia (HP:0001251); excluded: Short stature (HP:0004322); excluded: Ptosis (HP:0000508); excluded: Low-set ears (HP:0000369)</td></tr>\n",
       "<tr><td style=\"text-align: left;\">proband (FEMALE; P3Y)</td><td style=\"text-align: left;\">Neurodevelopmental disorder with motor abnormalities, seizures, and facial dysmorphism (OMIM:620719)</td><td style=\"text-align: left;\">NM_001020658.2:c.3439C>T (heterozygous)</td><td style=\"text-align: left;\"><b>P4M</b>: Status epilepticus (HP:0002133)<br/>Almond-shaped palpebral fissure (HP:0007874); Narrow forehead (HP:0000341); Wide nasal bridge (HP:0000431); High palate (HP:0000218); Thin corpus callosum (HP:0033725); Axial hypotonia (HP:0008936); Global developmental delay (HP:0001263); Intellectual disability (HP:0001249); Hypertelorism (HP:0000316); Ptosis (HP:0000508); Low-set ears (HP:0000369); excluded: Sloping forehead (HP:0000340); excluded: Epicanthus (HP:0000286); excluded: Pointed chin (HP:0000307); excluded: Prominent nasal bridge (HP:0000426); excluded: Prominent nose (HP:0000448); excluded: Oligodontia (HP:0000677); excluded: Cerebral atrophy (HP:0002059); excluded: Typical absence seizure (HP:0011147); excluded: Intrauterine growth retardation (HP:0001511)</td></tr>\n",
       "</table>"
      ],
      "text/plain": [
       "<IPython.core.display.HTML object>"
      ]
     },
     "metadata": {},
     "output_type": "display_data"
    }
   ],
   "source": [
    "table = IndividualTable(cvalidator.get_error_free_individual_list())\n",
    "display(HTML(table.to_html()))"
   ]
  },
  {
   "cell_type": "code",
   "execution_count": 10,
   "metadata": {},
   "outputs": [
    {
     "name": "stdout",
     "output_type": "stream",
     "text": [
      "[pyphetools] Ingested 5 GA4GH phenopackets.\n",
      "[INFO] Extracted 5 from 5 phenopackets with OMIM:620719\n",
      "\n",
      "\tNeurodevelopmental disorder with motor abnormalities, seizures, and facial dysmorphism (OMIM:620719): n=5\n",
      "We found a total of 49 unique HPO terms\n",
      "Extracted disease: Neurodevelopmental disorder with motor abnormalities, seizures, and facial dysmorphism (OMIM:620719)\n",
      "Wrote HPOA disease file to OMIM-620719.tab\n"
     ]
    }
   ],
   "source": [
    "pmid = \"PMID:29474920\"\n",
    "df = timporter.create_hpoa_from_phenopackets(pmid=pmid, moi=\"Autosomal dominant\", target=\"OMIM:620719\")"
   ]
  }
 ],
 "metadata": {
  "kernelspec": {
   "display_name": "ps24venv",
   "language": "python",
   "name": "python3"
  },
  "language_info": {
   "codemirror_mode": {
    "name": "ipython",
    "version": 3
   },
   "file_extension": ".py",
   "mimetype": "text/x-python",
   "name": "python",
   "nbconvert_exporter": "python",
   "pygments_lexer": "ipython3",
   "version": "3.9.6"
  }
 },
 "nbformat": 4,
 "nbformat_minor": 2
}
