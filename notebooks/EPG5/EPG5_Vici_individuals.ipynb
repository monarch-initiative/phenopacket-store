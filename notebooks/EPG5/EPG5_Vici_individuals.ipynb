{
 "cells": [
  {
   "cell_type": "markdown",
   "metadata": {},
   "source": [
    "# EPG5\n",
    "[Vici syndrome (VICIS)](https://omim.org/entry/242840) is caused by homozygous or compound heterozygous mutation in the EPG5 gene."
   ]
  },
  {
   "cell_type": "code",
   "execution_count": 1,
   "metadata": {},
   "outputs": [
    {
     "name": "stdout",
     "output_type": "stream",
     "text": [
      "Using pyphetools version 0.9.78\n"
     ]
    },
    {
     "name": "stderr",
     "output_type": "stream",
     "text": [
      "/Users/robin/GIT/phenopacket-store/ps24venv/lib/python3.9/site-packages/urllib3/__init__.py:35: NotOpenSSLWarning: urllib3 v2 only supports OpenSSL 1.1.1+, currently the 'ssl' module is compiled with 'LibreSSL 2.8.3'. See: https://github.com/urllib3/urllib3/issues/3020\n",
      "  warnings.warn(\n"
     ]
    }
   ],
   "source": [
    "from pyphetools.creation import TemplateImporter\n",
    "from pyphetools.visualization import IndividualTable, QcVisualizer\n",
    "from IPython.display import display, HTML\n",
    "import pyphetools\n",
    "print(f\"Using pyphetools version {pyphetools.__version__}\")"
   ]
  },
  {
   "cell_type": "code",
   "execution_count": 2,
   "metadata": {},
   "outputs": [],
   "source": [
    "template = \"input/EPG5_Vici_individuals.xlsx\"\n",
    "hp_json = \"../hp.json\"\n",
    "created_by = \"0000-0002-0736-9199\""
   ]
  },
  {
   "cell_type": "code",
   "execution_count": 3,
   "metadata": {},
   "outputs": [
    {
     "name": "stdout",
     "output_type": "stream",
     "text": [
      "HPO version 2024-04-04\n",
      "Created encoders for 70 fields\n",
      "Importing OMIM:242840, Vici syndrome, HGNC:29331, EPG5,  NM_020964.3\n",
      "We output 17 GA4GH phenopackets to the directory phenopackets\n"
     ]
    }
   ],
   "source": [
    "timporter = TemplateImporter(template=template, hp_json=hp_json, created_by=created_by)\n",
    "individual_list, cvalidator = timporter.import_phenopackets_from_template()"
   ]
  },
  {
   "cell_type": "code",
   "execution_count": 4,
   "metadata": {},
   "outputs": [
    {
     "data": {
      "text/html": [
       "<h2>Cohort validation</h2>\n",
       "<p>Errors found with 1 of 17 phenopackets.</p>\n",
       "<table style=\"border: 2px solid black; align: \"left\">\n",
       "<caption>Error counts</caption>\n",
       "<tr><th style=\"text-align: left;font-weight: bold;\">Level</th><th style=\"text-align: left;font-weight: bold;\">Error category</th><th style=\"text-align: left;font-weight: bold;\">Count</th></tr>\n",
       "<tr><td style=\"text-align: left;\">WARNING</td><td style=\"text-align: left;\">REDUNDANT</td><td style=\"text-align: left;\">1</td></tr>\n",
       "</table>\n",
       "<p>A total of 1 issues were fixed and no individual was removed from the cohort.</p>"
      ],
      "text/plain": [
       "<IPython.core.display.HTML object>"
      ]
     },
     "metadata": {},
     "output_type": "display_data"
    }
   ],
   "source": [
    "qc = QcVisualizer(cohort_validator=cvalidator)\n",
    "display(HTML(qc.to_summary_html()))"
   ]
  },
  {
   "cell_type": "code",
   "execution_count": 5,
   "metadata": {},
   "outputs": [
    {
     "data": {
      "text/html": [
       "<table style=\"border: 2px solid black; align: \"left\">\n",
       "<caption>17 phenopackets - PMID:23222957 (n=16); PMID:25331754 (n=1)</caption>\n",
       "<tr><th style=\"text-align: left;font-weight: bold;\">Individual</th><th style=\"text-align: left;font-weight: bold;\">Disease</th><th style=\"text-align: left;font-weight: bold;\">Genotype</th><th style=\"text-align: left;font-weight: bold;\">Phenotypic features</th></tr>\n",
       "<tr><td style=\"text-align: left;\">Family 1 1.1 (UNKNOWN; P2Y)</td><td style=\"text-align: left;\">Vici syndrome (OMIM:242840)</td><td style=\"text-align: left;\"><ul> <li>NM_020964.3:c.4588C>T (heterozygous)</li> <li>NM_020964.3:c.5704dup (heterozygous)</li> </ul></td><td style=\"text-align: left;\">Cardiomyopathy (HP:0001638); Seizure (HP:0001250); Motor delay (HP:0001270); Cataract (HP:0000518); Nystagmus (HP:0000639); Hypopigmentation of the skin (HP:0001010); Cleft lip (HP:0410030); Microcephaly (HP:0000252); Hypospadias (HP:0000047); Failure to thrive (HP:0001508); Aplasia of the thymus (HP:0005359); Immunodeficiency (HP:0002721); excluded: Hepatomegaly (HP:0002240); excluded: Cleft palate (HP:0000175); excluded: Hypoplasia of the thymus (HP:0000778); excluded: Scoliosis (HP:0002650)</td></tr>\n",
       "<tr><td style=\"text-align: left;\">Family 1 1.2 (UNKNOWN; P3Y)</td><td style=\"text-align: left;\">Vici syndrome (OMIM:242840)</td><td style=\"text-align: left;\"><ul> <li>NM_020964.3:c.4588C>T (heterozygous)</li> <li>NM_020964.3:c.5704dup (heterozygous)</li> </ul></td><td style=\"text-align: left;\">Cardiomyopathy (HP:0001638); Seizure (HP:0001250); Motor delay (HP:0001270); Agenesis of corpus callosum (HP:0001274); Cataract (HP:0000518); Hypopigmentation of the skin (HP:0001010); Cleft lip (HP:0410030); Cleft palate (HP:0000175); Microcephaly (HP:0000252); Hypoplasia of the thymus (HP:0000778); Immunodeficiency (HP:0002721); excluded: Nystagmus (HP:0000639); excluded: Hepatomegaly (HP:0002240); excluded: Aplasia of the thymus (HP:0005359); excluded: Scoliosis (HP:0002650)</td></tr>\n",
       "<tr><td style=\"text-align: left;\">Family 2 2.1 (UNKNOWN; P3Y)</td><td style=\"text-align: left;\">Vici syndrome (OMIM:242840)</td><td style=\"text-align: left;\"><ul> <li>NM_020964.3:c.2413-2A>G (heterozygous)</li> <li>NM_020964.3:c.6724del (heterozygous)</li> </ul></td><td style=\"text-align: left;\">Cardiomyopathy (HP:0001638); Motor delay (HP:0001270); Agenesis of corpus callosum (HP:0001274); Cataract (HP:0000518); Nystagmus (HP:0000639); Hypopigmentation of the skin (HP:0001010); Microcephaly (HP:0000252); Myopathy (HP:0003198); Sensorineural hearing impairment (HP:0000407); Immunodeficiency (HP:0002721); excluded: Seizure (HP:0001250); excluded: Hepatomegaly (HP:0002240); excluded: Cleft lip (HP:0410030); excluded: Cleft palate (HP:0000175); excluded: Aplasia of the thymus (HP:0005359); excluded: Hypoplasia of the thymus (HP:0000778); excluded: Scoliosis (HP:0002650)</td></tr>\n",
       "<tr><td style=\"text-align: left;\">Family 3 3.1 (UNKNOWN; P3M)</td><td style=\"text-align: left;\">Vici syndrome (OMIM:242840)</td><td style=\"text-align: left;\"><ul> <li>NM_020964.3:c.1253-1G>T (heterozygous)</li> <li>NM_020964.3:c.5110-1G>C (heterozygous)</li> </ul></td><td style=\"text-align: left;\">Cardiomyopathy (HP:0001638); Motor delay (HP:0001270); Agenesis of corpus callosum (HP:0001274); Cataract (HP:0000518); Nystagmus (HP:0000639); Hypopigmentation of the skin (HP:0001010); Myopathy (HP:0003198); Sensorineural hearing impairment (HP:0000407); Immunodeficiency (HP:0002721); excluded: Seizure (HP:0001250); excluded: Hepatomegaly (HP:0002240); excluded: Cleft lip (HP:0410030); excluded: Cleft palate (HP:0000175); excluded: Microcephaly (HP:0000252); excluded: Aplasia of the thymus (HP:0005359); excluded: Hypoplasia of the thymus (HP:0000778); excluded: Scoliosis (HP:0002650)</td></tr>\n",
       "<tr><td style=\"text-align: left;\">Family 4 4.1 (UNKNOWN; P3M)</td><td style=\"text-align: left;\">Vici syndrome (OMIM:242840)</td><td style=\"text-align: left;\">NM_020964.3:c.4952+1G>A (homozygous)</td><td style=\"text-align: left;\">Seizure (HP:0001250); Motor delay (HP:0001270); Agenesis of corpus callosum (HP:0001274); Cataract (HP:0000518); Hepatomegaly (HP:0002240); Hypopigmentation of the skin (HP:0001010); Myopathy (HP:0003198); Immunodeficiency (HP:0002721); excluded: Cardiomyopathy (HP:0001638); excluded: Nystagmus (HP:0000639); excluded: Cleft lip (HP:0410030); excluded: Cleft palate (HP:0000175); excluded: Microcephaly (HP:0000252); excluded: Aplasia of the thymus (HP:0005359); excluded: Hypoplasia of the thymus (HP:0000778); excluded: Scoliosis (HP:0002650)</td></tr>\n",
       "<tr><td style=\"text-align: left;\">Family 5 5.1 (UNKNOWN; P4Y)</td><td style=\"text-align: left;\">Vici syndrome (OMIM:242840)</td><td style=\"text-align: left;\">NM_020964.3:c.3481C>T (homozygous)</td><td style=\"text-align: left;\">Cardiomyopathy (HP:0001638); Seizure (HP:0001250); Motor delay (HP:0001270); Agenesis of corpus callosum (HP:0001274); Cataract (HP:0000518); Hypopigmentation of the skin (HP:0001010); Immunodeficiency (HP:0002721); excluded: Nystagmus (HP:0000639); excluded: Hepatomegaly (HP:0002240); excluded: Cleft lip (HP:0410030); excluded: Cleft palate (HP:0000175); excluded: Microcephaly (HP:0000252); excluded: Aplasia of the thymus (HP:0005359); excluded: Hypoplasia of the thymus (HP:0000778); excluded: Scoliosis (HP:0002650)</td></tr>\n",
       "<tr><td style=\"text-align: left;\">Family 5 5.2 (UNKNOWN; P3Y)</td><td style=\"text-align: left;\">Vici syndrome (OMIM:242840)</td><td style=\"text-align: left;\">NM_020964.3:c.3481C>T (homozygous)</td><td style=\"text-align: left;\">Cardiomyopathy (HP:0001638); Motor delay (HP:0001270); Agenesis of corpus callosum (HP:0001274); Cataract (HP:0000518); Hypopigmentation of the skin (HP:0001010); Immunodeficiency (HP:0002721); excluded: Seizure (HP:0001250); excluded: Nystagmus (HP:0000639); excluded: Hepatomegaly (HP:0002240); excluded: Cleft lip (HP:0410030); excluded: Cleft palate (HP:0000175); excluded: Microcephaly (HP:0000252); excluded: Sensorineural hearing impairment (HP:0000407); excluded: Aplasia of the thymus (HP:0005359); excluded: Hypoplasia of the thymus (HP:0000778); excluded: Scoliosis (HP:0002650)</td></tr>\n",
       "<tr><td style=\"text-align: left;\">Family 6 6.1 (UNKNOWN; P9M)</td><td style=\"text-align: left;\">Vici syndrome (OMIM:242840)</td><td style=\"text-align: left;\"><ul> <li>NM_020964.3:c.5835T>A (heterozygous)</li> <li>NM_020964.3:c.1370T>C (heterozygous)</li> </ul></td><td style=\"text-align: left;\">Cardiomyopathy (HP:0001638); Motor delay (HP:0001270); Agenesis of corpus callosum (HP:0001274); Cataract (HP:0000518); Hypopigmentation of the skin (HP:0001010); Myopathy (HP:0003198); Immunodeficiency (HP:0002721); excluded: Seizure (HP:0001250); excluded: Nystagmus (HP:0000639); excluded: Hepatomegaly (HP:0002240); excluded: Cleft lip (HP:0410030); excluded: Cleft palate (HP:0000175); excluded: Microcephaly (HP:0000252); excluded: Aplasia of the thymus (HP:0005359); excluded: Hypoplasia of the thymus (HP:0000778); excluded: Scoliosis (HP:0002650)</td></tr>\n",
       "<tr><td style=\"text-align: left;\">Family 7 7.1 (UNKNOWN; P3Y)</td><td style=\"text-align: left;\">Vici syndrome (OMIM:242840)</td><td style=\"text-align: left;\">NM_020964.3:c.1007A>G (homozygous)</td><td style=\"text-align: left;\">Cardiomyopathy (HP:0001638); Seizure (HP:0001250); Motor delay (HP:0001270); Agenesis of corpus callosum (HP:0001274); Cataract (HP:0000518); Hypopigmentation of the skin (HP:0001010); Myopathy (HP:0003198); Sensorineural hearing impairment (HP:0000407); Immunodeficiency (HP:0002721); excluded: Nystagmus (HP:0000639); excluded: Hepatomegaly (HP:0002240); excluded: Cleft lip (HP:0410030); excluded: Cleft palate (HP:0000175); excluded: Microcephaly (HP:0000252); excluded: Aplasia of the thymus (HP:0005359); excluded: Hypoplasia of the thymus (HP:0000778); excluded: Scoliosis (HP:0002650)</td></tr>\n",
       "<tr><td style=\"text-align: left;\">Family 8 8.1 (UNKNOWN; P8Y)</td><td style=\"text-align: left;\">Vici syndrome (OMIM:242840)</td><td style=\"text-align: left;\">NM_020964.3:c.2575G>T (homozygous)</td><td style=\"text-align: left;\">Cardiomyopathy (HP:0001638); Seizure (HP:0001250); Motor delay (HP:0001270); Agenesis of corpus callosum (HP:0001274); Cataract (HP:0000518); Hypopigmentation of the skin (HP:0001010); Hypoplasia of the thymus (HP:0000778); Immunodeficiency (HP:0002721); excluded: Nystagmus (HP:0000639); excluded: Hepatomegaly (HP:0002240); excluded: Cleft lip (HP:0410030); excluded: Cleft palate (HP:0000175); excluded: Microcephaly (HP:0000252); excluded: Aplasia of the thymus (HP:0005359); excluded: Scoliosis (HP:0002650)</td></tr>\n",
       "<tr><td style=\"text-align: left;\">Family 8 8.2 (UNKNOWN; P8Y)</td><td style=\"text-align: left;\">Vici syndrome (OMIM:242840)</td><td style=\"text-align: left;\">NM_020964.3:c.2575G>T (homozygous)</td><td style=\"text-align: left;\">Cardiomyopathy (HP:0001638); Seizure (HP:0001250); Motor delay (HP:0001270); Agenesis of corpus callosum (HP:0001274); Cataract (HP:0000518); Hypopigmentation of the skin (HP:0001010); Immunodeficiency (HP:0002721); Scoliosis (HP:0002650); excluded: Nystagmus (HP:0000639); excluded: Hepatomegaly (HP:0002240); excluded: Cleft lip (HP:0410030); excluded: Cleft palate (HP:0000175); excluded: Microcephaly (HP:0000252); excluded: Aplasia of the thymus (HP:0005359); excluded: Hypoplasia of the thymus (HP:0000778)</td></tr>\n",
       "<tr><td style=\"text-align: left;\">Family 9 9.1 (UNKNOWN; P9M)</td><td style=\"text-align: left;\">Vici syndrome (OMIM:242840)</td><td style=\"text-align: left;\">NM_020964.3:c.4751T>A (homozygous)</td><td style=\"text-align: left;\">Cardiomyopathy (HP:0001638); Seizure (HP:0001250); Motor delay (HP:0001270); Agenesis of corpus callosum (HP:0001274); Cataract (HP:0000518); Hypopigmentation of the skin (HP:0001010); Myopathy (HP:0003198); Immunodeficiency (HP:0002721); excluded: Nystagmus (HP:0000639); excluded: Hepatomegaly (HP:0002240); excluded: Cleft lip (HP:0410030); excluded: Cleft palate (HP:0000175); excluded: Microcephaly (HP:0000252); excluded: Aplasia of the thymus (HP:0005359); excluded: Hypoplasia of the thymus (HP:0000778); excluded: Scoliosis (HP:0002650)</td></tr>\n",
       "<tr><td style=\"text-align: left;\">Family 10 10.1 (UNKNOWN; P1Y)</td><td style=\"text-align: left;\">Vici syndrome (OMIM:242840)</td><td style=\"text-align: left;\"><ul> <li>NM_020964.3:c.2719-1G>A (heterozygous)</li> <li>NM_020964.3:c.6295dup (heterozygous)</li> </ul></td><td style=\"text-align: left;\">Cardiomyopathy (HP:0001638); Seizure (HP:0001250); Motor delay (HP:0001270); Agenesis of corpus callosum (HP:0001274); Nystagmus (HP:0000639); Hypopigmentation of the skin (HP:0001010); Microcephaly (HP:0000252); Immunodeficiency (HP:0002721); excluded: Cataract (HP:0000518); excluded: Hepatomegaly (HP:0002240); excluded: Cleft lip (HP:0410030); excluded: Cleft palate (HP:0000175); excluded: Aplasia of the thymus (HP:0005359); excluded: Hypoplasia of the thymus (HP:0000778); excluded: Scoliosis (HP:0002650)</td></tr>\n",
       "<tr><td style=\"text-align: left;\">Family 11 11.1 (UNKNOWN; P2Y)</td><td style=\"text-align: left;\">Vici syndrome (OMIM:242840)</td><td style=\"text-align: left;\">NM_020964.3:c.6724del (homozygous)</td><td style=\"text-align: left;\">Cardiomyopathy (HP:0001638); Motor delay (HP:0001270); Agenesis of corpus callosum (HP:0001274); Cataract (HP:0000518); Hypopigmentation of the skin (HP:0001010); Myopathy (HP:0003198); Immunodeficiency (HP:0002721); excluded: Seizure (HP:0001250); excluded: Nystagmus (HP:0000639); excluded: Hepatomegaly (HP:0002240); excluded: Cleft lip (HP:0410030); excluded: Cleft palate (HP:0000175); excluded: Microcephaly (HP:0000252); excluded: Sensorineural hearing impairment (HP:0000407); excluded: Aplasia of the thymus (HP:0005359); excluded: Hypoplasia of the thymus (HP:0000778); excluded: Scoliosis (HP:0002650)</td></tr>\n",
       "<tr><td style=\"text-align: left;\">Family 12 12.1 (UNKNOWN; P2Y)</td><td style=\"text-align: left;\">Vici syndrome (OMIM:242840)</td><td style=\"text-align: left;\"><ul> <li>NM_020964.3:c.6005_6006dup (heterozygous)</li> <li>NM_020964.3:c.6112T>C (heterozygous)</li> </ul></td><td style=\"text-align: left;\">Cardiomyopathy (HP:0001638); Seizure (HP:0001250); Motor delay (HP:0001270); Agenesis of corpus callosum (HP:0001274); Cataract (HP:0000518); Hypopigmentation of the skin (HP:0001010); Myopathy (HP:0003198); Immunodeficiency (HP:0002721); excluded: Nystagmus (HP:0000639); excluded: Hepatomegaly (HP:0002240); excluded: Cleft lip (HP:0410030); excluded: Cleft palate (HP:0000175); excluded: Microcephaly (HP:0000252); excluded: Aplasia of the thymus (HP:0005359); excluded: Hypoplasia of the thymus (HP:0000778); excluded: Scoliosis (HP:0002650)</td></tr>\n",
       "<tr><td style=\"text-align: left;\">Family 13 13.1 (UNKNOWN; P2Y)</td><td style=\"text-align: left;\">Vici syndrome (OMIM:242840)</td><td style=\"text-align: left;\">NM_020964.3:c.4783C>T (homozygous)</td><td style=\"text-align: left;\">Cardiomyopathy (HP:0001638); Motor delay (HP:0001270); Agenesis of corpus callosum (HP:0001274); Cataract (HP:0000518); Hypopigmentation of the skin (HP:0001010); Immunodeficiency (HP:0002721); excluded: Nystagmus (HP:0000639); excluded: Hepatomegaly (HP:0002240); excluded: Cleft lip (HP:0410030); excluded: Cleft palate (HP:0000175); excluded: Microcephaly (HP:0000252); excluded: Aplasia of the thymus (HP:0005359); excluded: Hypoplasia of the thymus (HP:0000778); excluded: Scoliosis (HP:0002650)</td></tr>\n",
       "<tr><td style=\"text-align: left;\">patient (MALE; P3M15D)</td><td style=\"text-align: left;\">Vici syndrome (OMIM:242840)</td><td style=\"text-align: left;\">NM_020964.3:c.7447C>T (homozygous)</td><td style=\"text-align: left;\"><b>P2M</b>: Feeding difficulties in infancy (HP:0008872); Axial hypotonia (HP:0008936); Failure to thrive (HP:0001508)<br/>Cardiomyopathy (HP:0001638); Cerebellar hypoplasia (HP:0001321); Global developmental delay (HP:0001263); Agenesis of corpus callosum (HP:0001274); Macular atrophy (HP:0007401); Hypopigmentation of the skin (HP:0001010); Hypopigmentation of hair (HP:0005599); Depressed nasal bridge (HP:0005280); Micrognathia (HP:0000347); Microcephaly (HP:0000252); Low-set ears (HP:0000369); Postnatal growth retardation (HP:0008897); Recurrent infections (HP:0002719); Immunodeficiency (HP:0002721); Elevated circulating creatine kinase concentration (HP:0003236); excluded: Seizure (HP:0001250); excluded: Cataract (HP:0000518); excluded: Nystagmus (HP:0000639); excluded: Scoliosis (HP:0002650)</td></tr>\n",
       "</table>"
      ],
      "text/plain": [
       "<IPython.core.display.HTML object>"
      ]
     },
     "metadata": {},
     "output_type": "display_data"
    }
   ],
   "source": [
    "table = IndividualTable(cvalidator.get_error_free_individual_list())\n",
    "display(HTML(table.to_html()))"
   ]
  }
 ],
 "metadata": {
  "kernelspec": {
   "display_name": "ps24venv",
   "language": "python",
   "name": "python3"
  },
  "language_info": {
   "codemirror_mode": {
    "name": "ipython",
    "version": 3
   },
   "file_extension": ".py",
   "mimetype": "text/x-python",
   "name": "python",
   "nbconvert_exporter": "python",
   "pygments_lexer": "ipython3",
   "version": "3.9.6"
  }
 },
 "nbformat": 4,
 "nbformat_minor": 2
}
