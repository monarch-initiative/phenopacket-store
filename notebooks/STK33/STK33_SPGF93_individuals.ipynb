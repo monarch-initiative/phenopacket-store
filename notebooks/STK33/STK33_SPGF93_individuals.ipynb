{
 "cells": [
  {
   "cell_type": "markdown",
   "metadata": {},
   "source": [
    "# STK33\n",
    "[spermatogenic failure-93 (SPGF93)](https://omim.org/entry/620849) is caused by homozygous mutation in the STK33 gene."
   ]
  },
  {
   "cell_type": "code",
   "execution_count": 1,
   "metadata": {},
   "outputs": [
    {
     "name": "stdout",
     "output_type": "stream",
     "text": [
      "Using pyphetools version 0.9.113\n"
     ]
    }
   ],
   "source": [
    "from pyphetools.creation import TemplateImporter, Moi\n",
    "from pyphetools.visualization import IndividualTable, QcVisualizer\n",
    "from IPython.display import display, HTML\n",
    "import pyphetools\n",
    "print(f\"Using pyphetools version {pyphetools.__version__}\")"
   ]
  },
  {
   "cell_type": "code",
   "execution_count": 2,
   "metadata": {},
   "outputs": [
    {
     "name": "stdout",
     "output_type": "stream",
     "text": [
      "HPO version 2024-12-12\n",
      "Created encoders for 26 fields\n",
      "Importing OMIM:620849, Spermatogenic failure 93, HGNC:14568, STK33,  NM_001352389.2\n",
      "[INFO] encoding variant \"c.1235del\"\n",
      "https://rest.variantvalidator.org/VariantValidator/variantvalidator/hg38/NM_001352389.2%3Ac.1235del/NM_001352389.2?content-type=application%2Fjson\n",
      "We output 4 GA4GH phenopackets to the directory phenopackets\n"
     ]
    }
   ],
   "source": [
    "template = \"input/STK33_SPGF93_individuals.xlsx\"\n",
    "created_by = \"0000-0002-0736-9199\"\n",
    "timporter = TemplateImporter(template=template,  created_by=created_by)\n",
    "individual_list, cvalidator = timporter.import_phenopackets_from_template()"
   ]
  },
  {
   "cell_type": "code",
   "execution_count": 3,
   "metadata": {},
   "outputs": [
    {
     "data": {
      "text/html": [
       "<h2>Cohort validation</h2>\n",
       "<p>No errors found for the cohort with 4 individuals</p>"
      ],
      "text/plain": [
       "<IPython.core.display.HTML object>"
      ]
     },
     "metadata": {},
     "output_type": "display_data"
    }
   ],
   "source": [
    "qc = QcVisualizer(cohort_validator=cvalidator)\n",
    "display(HTML(qc.to_summary_html()))"
   ]
  },
  {
   "cell_type": "code",
   "execution_count": 4,
   "metadata": {},
   "outputs": [
    {
     "data": {
      "text/html": [
       "<table style=\"border: 2px solid black; align: \"left\">\n",
       "<caption>4 phenopackets - PMID:34155512 (n=4)</caption>\n",
       "<tr><th style=\"text-align: left;font-weight: bold;\">Individual</th><th style=\"text-align: left;font-weight: bold;\">Disease</th><th style=\"text-align: left;font-weight: bold;\">Genotype</th><th style=\"text-align: left;font-weight: bold;\">Phenotypic features</th></tr>\n",
       "<tr><td style=\"text-align: left;\">III:1 (MALE; P41Y)</td><td style=\"text-align: left;\">Spermatogenic failure 93 (OMIM:620849)</td><td style=\"text-align: left;\">NM_001352389.2:c.1235del (homozygous)</td><td style=\"text-align: left;\">Male infertility (HP:0003251): onset ; Reduced progressive sperm motility (HP:0034011): onset ; Reduced sperm motility (HP:0012207): onset ; Coiled sperm flagella (HP:0032560): onset ; Bent sperm flagella (HP:0034811): onset ; Short sperm flagella (HP:0032559): onset ; Absent sperm flagella (HP:0032558): onset ; Oligozoospermia (HP:0000798): onset ; Irregularly shaped sperm tail (HP:0033393): onset </td></tr>\n",
       "<tr><td style=\"text-align: left;\">III:3  (MALE; P36Y)</td><td style=\"text-align: left;\">Spermatogenic failure 93 (OMIM:620849)</td><td style=\"text-align: left;\">NM_001352389.2:c.1235del (homozygous)</td><td style=\"text-align: left;\">Male infertility (HP:0003251): onset ; Reduced progressive sperm motility (HP:0034011): onset ; Reduced sperm motility (HP:0012207): onset ; Coiled sperm flagella (HP:0032560): onset ; Bent sperm flagella (HP:0034811): onset ; Short sperm flagella (HP:0032559): onset ; Absent sperm flagella (HP:0032558): onset ; Irregularly shaped sperm tail (HP:0033393): onset ; excluded: Oligozoospermia (HP:0000798): onset </td></tr>\n",
       "<tr><td style=\"text-align: left;\">III:5 (MALE; P32Y)</td><td style=\"text-align: left;\">Spermatogenic failure 93 (OMIM:620849)</td><td style=\"text-align: left;\">NM_001352389.2:c.1235del (homozygous)</td><td style=\"text-align: left;\">Male infertility (HP:0003251): onset ; Reduced progressive sperm motility (HP:0034011): onset ; Reduced sperm motility (HP:0012207): onset ; Coiled sperm flagella (HP:0032560): onset ; Bent sperm flagella (HP:0034811): onset ; Short sperm flagella (HP:0032559): onset ; Absent sperm flagella (HP:0032558): onset ; Irregularly shaped sperm tail (HP:0033393): onset ; excluded: Oligozoospermia (HP:0000798): onset </td></tr>\n",
       "<tr><td style=\"text-align: left;\">III:6 (MALE; P30Y)</td><td style=\"text-align: left;\">Spermatogenic failure 93 (OMIM:620849)</td><td style=\"text-align: left;\">NM_001352389.2:c.1235del (homozygous)</td><td style=\"text-align: left;\">Male infertility (HP:0003251): onset ; Reduced progressive sperm motility (HP:0034011): onset ; excluded: Reduced sperm motility (HP:0012207): onset ; excluded: Oligozoospermia (HP:0000798): onset </td></tr>\n",
       "</table>"
      ],
      "text/plain": [
       "<IPython.core.display.HTML object>"
      ]
     },
     "metadata": {},
     "output_type": "display_data"
    }
   ],
   "source": [
    "table = IndividualTable(cvalidator.get_error_free_individual_list())\n",
    "display(HTML(table.to_html()))"
   ]
  },
  {
   "cell_type": "code",
   "execution_count": 6,
   "metadata": {},
   "outputs": [
    {
     "name": "stdout",
     "output_type": "stream",
     "text": [
      "[pyphetools] Ingested 4 GA4GH phenopackets.\n",
      "[INFO] Extracted 4 from 4 phenopackets with OMIM:620849\n",
      "\n",
      "\tSpermatogenic failure 93 (OMIM:620849): n=4\n",
      "We found a total of 9 unique HPO terms\n",
      "Extracted disease: Spermatogenic failure 93 (OMIM:620849)\n",
      "Wrote HPOA disease file to OMIM-620849.tab\n"
     ]
    }
   ],
   "source": [
    "pmid = \"PMID:34155512\"\n",
    "df = timporter.create_hpoa_from_phenopackets(pmid=pmid, mode_of_inheritance=Moi.AR, target=\"OMIM:620849\")"
   ]
  }
 ],
 "metadata": {
  "kernelspec": {
   "display_name": "ps24venv",
   "language": "python",
   "name": "python3"
  },
  "language_info": {
   "codemirror_mode": {
    "name": "ipython",
    "version": 3
   },
   "file_extension": ".py",
   "mimetype": "text/x-python",
   "name": "python",
   "nbconvert_exporter": "python",
   "pygments_lexer": "ipython3",
   "version": "3.12.4"
  }
 },
 "nbformat": 4,
 "nbformat_minor": 2
}
