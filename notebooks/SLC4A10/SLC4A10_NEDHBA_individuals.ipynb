{
 "cells": [
  {
   "cell_type": "markdown",
   "metadata": {},
   "source": [
    "# SLC4A10\n",
    "[neurodevelopmental disorder with hypotonia and characteristic brain abnormalities (NEDHBA)](https://omim.org/entry/620746) is caused by homozygous or compound heterozygous mutation in the SLC4A10 gene."
   ]
  },
  {
   "cell_type": "code",
   "execution_count": 18,
   "metadata": {},
   "outputs": [
    {
     "name": "stdout",
     "output_type": "stream",
     "text": [
      "Using pyphetools version 0.9.94\n"
     ]
    }
   ],
   "source": [
    "from pyphetools.creation import TemplateImporter, Moi\n",
    "from pyphetools.visualization import IndividualTable, QcVisualizer\n",
    "from IPython.display import display, HTML\n",
    "import pyphetools\n",
    "print(f\"Using pyphetools version {pyphetools.__version__}\")"
   ]
  },
  {
   "cell_type": "code",
   "execution_count": 19,
   "metadata": {},
   "outputs": [],
   "source": [
    "template = \"input/SLC4A10_NEDHBA_individuals.xlsx\"\n",
    "created_by = \"0000-0002-0736-9199\""
   ]
  },
  {
   "cell_type": "code",
   "execution_count": 27,
   "metadata": {},
   "outputs": [
    {
     "name": "stdout",
     "output_type": "stream",
     "text": [
      "HPO version 2024-07-01\n",
      "Created encoders for 68 fields\n",
      "Importing OMIM:620746, Neurodevelopmental disorder with hypotonia and characteristic brain abnormalities, HGNC:13811, SLC4A10,  NM_001178015.2\n",
      "We output 16 GA4GH phenopackets to the directory phenopackets\n"
     ]
    }
   ],
   "source": [
    "del_set = {\"deletion of exons 5-11\"}\n",
    "timporter = TemplateImporter(template=template,  created_by=created_by)\n",
    "individual_list, cvalidator = timporter.import_phenopackets_from_template(deletions=del_set)"
   ]
  },
  {
   "cell_type": "code",
   "execution_count": 28,
   "metadata": {},
   "outputs": [
    {
     "data": {
      "text/html": [
       "<h2>Cohort validation</h2>\n",
       "<p>Errors found with 5 of 16 phenopackets.</p>\n",
       "<table style=\"border: 2px solid black; align: \"left\">\n",
       "<caption>Error counts</caption>\n",
       "<tr><th style=\"text-align: left;font-weight: bold;\">Level</th><th style=\"text-align: left;font-weight: bold;\">Error category</th><th style=\"text-align: left;font-weight: bold;\">Count</th></tr>\n",
       "<tr><td style=\"text-align: left;\">WARNING</td><td style=\"text-align: left;\">REDUNDANT</td><td style=\"text-align: left;\">9</td></tr>\n",
       "</table>\n",
       "<p>A total of 9 issues were fixed and no individual was removed from the cohort.</p>"
      ],
      "text/plain": [
       "<IPython.core.display.HTML object>"
      ]
     },
     "metadata": {},
     "output_type": "display_data"
    }
   ],
   "source": [
    "qc = QcVisualizer(cohort_validator=cvalidator)\n",
    "display(HTML(qc.to_summary_html()))"
   ]
  },
  {
   "cell_type": "code",
   "execution_count": 29,
   "metadata": {},
   "outputs": [
    {
     "data": {
      "text/html": [
       "<table style=\"border: 2px solid black; align: \"left\">\n",
       "<caption>16 phenopackets - PMID:37459438 (n=5); PMID:38054405 (n=11)</caption>\n",
       "<tr><th style=\"text-align: left;font-weight: bold;\">Individual</th><th style=\"text-align: left;font-weight: bold;\">Disease</th><th style=\"text-align: left;font-weight: bold;\">Genotype</th><th style=\"text-align: left;font-weight: bold;\">Phenotypic features</th></tr>\n",
       "<tr><td style=\"text-align: left;\">Family 1 III:1 (MALE; P8Y7M)</td><td style=\"text-align: left;\">Neurodevelopmental disorder with hypotonia and characteristic brain abnormalities (OMIM:620746)</td><td style=\"text-align: left;\">deletion of exons 5-11: chromosomal_deletion (SO:1000029)</td><td style=\"text-align: left;\"><b>P1Y</b>: Seizure (HP:0001250)<br/>Thick corpus callosum (HP:0007074); Hypotelorism (HP:0000601); Microcephaly (HP:0000252); Hyperreflexia (HP:0001347); Posteriorly rotated ears (HP:0000358); Hyperactivity (HP:0000752); Aggressive behavior (HP:0000718); Anxiety (HP:0000739); Global developmental delay (HP:0001263); Recurrent upper respiratory tract infections (HP:0002788); Recurrent lower respiratory tract infections (HP:0002783); Axial hypotonia (HP:0008936); Appendicular spasticity (HP:0034353); excluded: Hypoplasia of the corpus callosum (HP:0002079); excluded: Inverted nipples (HP:0003186); excluded: Macrotia (HP:0000400); excluded: Low-set ears (HP:0000369); excluded: Recurrent hand flapping (HP:0100023); excluded: Appendicular hypotonia (HP:0012389); excluded: Long face (HP:0000276); excluded: Prominent metopic ridge (HP:0005487); excluded: Tented upper lip vermilion (HP:0010804); excluded: Long philtrum (HP:0000343); excluded: Tapered finger (HP:0001182); excluded: Coxa vara (HP:0002812); excluded: Failure to thrive (HP:0001508); excluded: Ankle contracture (HP:0034677); excluded: Lambdoidal craniosynostosis (HP:0004443)</td></tr>\n",
       "<tr><td style=\"text-align: left;\">Family 1 III:2 (MALE; P5Y)</td><td style=\"text-align: left;\">Neurodevelopmental disorder with hypotonia and characteristic brain abnormalities (OMIM:620746)</td><td style=\"text-align: left;\">deletion of exons 5-11: chromosomal_deletion (SO:1000029)</td><td style=\"text-align: left;\">Thick corpus callosum (HP:0007074); Hypotelorism (HP:0000601); Inverted nipples (HP:0003186); Microcephaly (HP:0000252); Hyperreflexia (HP:0001347); Posteriorly rotated ears (HP:0000358); Aggressive behavior (HP:0000718); Recurrent hand flapping (HP:0100023); Global developmental delay (HP:0001263); Recurrent upper respiratory tract infections (HP:0002788); Recurrent lower respiratory tract infections (HP:0002783); Axial hypotonia (HP:0008936); Appendicular spasticity (HP:0034353); excluded: Hypoplasia of the corpus callosum (HP:0002079); excluded: Bilateral tonic-clonic seizure with generalized onset (HP:0025190); excluded: Macrotia (HP:0000400); excluded: Low-set ears (HP:0000369); excluded: Hyperactivity (HP:0000752); excluded: Anxiety (HP:0000739); excluded: Appendicular hypotonia (HP:0012389); excluded: Long face (HP:0000276); excluded: Prominent metopic ridge (HP:0005487); excluded: Tented upper lip vermilion (HP:0010804); excluded: Long philtrum (HP:0000343); excluded: Tapered finger (HP:0001182); excluded: Coxa vara (HP:0002812); excluded: Failure to thrive (HP:0001508); excluded: Ankle contracture (HP:0034677); excluded: Lambdoidal craniosynostosis (HP:0004443)</td></tr>\n",
       "<tr><td style=\"text-align: left;\">Family 2 II:1  (MALE; P4Y8M)</td><td style=\"text-align: left;\">Neurodevelopmental disorder with hypotonia and characteristic brain abnormalities (OMIM:620746)</td><td style=\"text-align: left;\">NM_001178015.2:c.2269C>T (homozygous)</td><td style=\"text-align: left;\">Hypotonia (HP:0001252); Hypoplasia of the corpus callosum (HP:0002079); Macrotia (HP:0000400); Low-set ears (HP:0000369); Global developmental delay (HP:0001263); Long face (HP:0000276); Prominent metopic ridge (HP:0005487); Tented upper lip vermilion (HP:0010804); Long philtrum (HP:0000343); Tapered finger (HP:0001182); Coxa vara (HP:0002812); Failure to thrive (HP:0001508); excluded: Thick corpus callosum (HP:0007074); excluded: Hypotelorism (HP:0000601); excluded: Inverted nipples (HP:0003186); excluded: Bilateral tonic-clonic seizure with generalized onset (HP:0025190); excluded: Microcephaly (HP:0000252); excluded: Hyperreflexia (HP:0001347); excluded: Posteriorly rotated ears (HP:0000358); excluded: Hyperactivity (HP:0000752); excluded: Aggressive behavior (HP:0000718); excluded: Anxiety (HP:0000739); excluded: Recurrent hand flapping (HP:0100023); excluded: Recurrent upper respiratory tract infections (HP:0002788); excluded: Recurrent lower respiratory tract infections (HP:0002783); excluded: Appendicular spasticity (HP:0034353); excluded: Ankle contracture (HP:0034677); excluded: Lambdoidal craniosynostosis (HP:0004443)</td></tr>\n",
       "<tr><td style=\"text-align: left;\">Family 3 II:2 (FEMALE; P12Y)</td><td style=\"text-align: left;\">Neurodevelopmental disorder with hypotonia and characteristic brain abnormalities (OMIM:620746)</td><td style=\"text-align: left;\">NM_001178015.2:c.2863-2A>C (homozygous)</td><td style=\"text-align: left;\"><b>P7Y</b>: Bilateral tonic-clonic seizure with generalized onset (HP:0025190)<br/>Ankle contracture (HP:0034677); Recurrent hand flapping (HP:0100023); Global developmental delay (HP:0001263); excluded: Thick corpus callosum (HP:0007074); excluded: Hypoplasia of the corpus callosum (HP:0002079); excluded: Hypotelorism (HP:0000601); excluded: Inverted nipples (HP:0003186); excluded: Microcephaly (HP:0000252); excluded: Hyperreflexia (HP:0001347); excluded: Macrotia (HP:0000400); excluded: Low-set ears (HP:0000369); excluded: Posteriorly rotated ears (HP:0000358); excluded: Hyperactivity (HP:0000752); excluded: Aggressive behavior (HP:0000718); excluded: Anxiety (HP:0000739); excluded: Recurrent upper respiratory tract infections (HP:0002788); excluded: Recurrent lower respiratory tract infections (HP:0002783); excluded: Axial hypotonia (HP:0008936); excluded: Appendicular hypotonia (HP:0012389); excluded: Appendicular spasticity (HP:0034353); excluded: Long face (HP:0000276); excluded: Prominent metopic ridge (HP:0005487); excluded: Tented upper lip vermilion (HP:0010804); excluded: Long philtrum (HP:0000343); excluded: Tapered finger (HP:0001182); excluded: Coxa vara (HP:0002812); excluded: Failure to thrive (HP:0001508); excluded: Lambdoidal craniosynostosis (HP:0004443)</td></tr>\n",
       "<tr><td style=\"text-align: left;\">Family 3 II:3 (FEMALE; n/a)</td><td style=\"text-align: left;\">Neurodevelopmental disorder with hypotonia and characteristic brain abnormalities (OMIM:620746)</td><td style=\"text-align: left;\">NM_001178015.2:c.2863-2A>C (homozygous)</td><td style=\"text-align: left;\">Microcephaly (HP:0000252); Ankle contracture (HP:0034677); Lambdoidal craniosynostosis (HP:0004443); excluded: Thick corpus callosum (HP:0007074); excluded: Hypoplasia of the corpus callosum (HP:0002079); excluded: Hypotelorism (HP:0000601); excluded: Inverted nipples (HP:0003186); excluded: Bilateral tonic-clonic seizure with generalized onset (HP:0025190); excluded: Hyperreflexia (HP:0001347); excluded: Macrotia (HP:0000400); excluded: Low-set ears (HP:0000369); excluded: Posteriorly rotated ears (HP:0000358); excluded: Hyperactivity (HP:0000752); excluded: Aggressive behavior (HP:0000718); excluded: Anxiety (HP:0000739); excluded: Recurrent hand flapping (HP:0100023); excluded: Global developmental delay (HP:0001263); excluded: Recurrent upper respiratory tract infections (HP:0002788); excluded: Recurrent lower respiratory tract infections (HP:0002783); excluded: Axial hypotonia (HP:0008936); excluded: Appendicular hypotonia (HP:0012389); excluded: Appendicular spasticity (HP:0034353); excluded: Long face (HP:0000276); excluded: Prominent metopic ridge (HP:0005487); excluded: Tented upper lip vermilion (HP:0010804); excluded: Long philtrum (HP:0000343); excluded: Tapered finger (HP:0001182); excluded: Coxa vara (HP:0002812); excluded: Failure to thrive (HP:0001508)</td></tr>\n",
       "<tr><td style=\"text-align: left;\">Family 1  individual P1 (MALE; P6Y)</td><td style=\"text-align: left;\">Neurodevelopmental disorder with hypotonia and characteristic brain abnormalities (OMIM:620746)</td><td style=\"text-align: left;\">NM_001178015.2:c.2894C>T (homozygous)</td><td style=\"text-align: left;\">Gray matter heterotopia (HP:0002282); Short corpus callosum (HP:0200012); Microcephaly (HP:0000252); Global developmental delay (HP:0001263); Axial hypotonia (HP:0008936); Protruding ear (HP:0000411); Synophrys (HP:0000664); excluded: Thin corpus callosum (HP:0033725); excluded: Chorea (HP:0002072); excluded: Seizure (HP:0001250); excluded: Macrotia (HP:0000400); excluded: Appendicular hypotonia (HP:0012389); excluded: Failure to thrive (HP:0001508); excluded: Small for gestational age (HP:0001518); excluded: Absent speech (HP:0001344); excluded: Developmental regression (HP:0002376); excluded: Hearing impairment (HP:0000365); excluded: Visual impairment (HP:0000505); excluded: Mandibular prognathia (HP:0000303); excluded: Anteverted nares (HP:0000463); excluded: Long eyelashes (HP:0000527); excluded: Wide nasal bridge (HP:0000431); excluded: Scarring (HP:0100699); excluded: Retrognathia (HP:0000278); excluded: Preauricular skin tag (HP:0000384)</td></tr>\n",
       "<tr><td style=\"text-align: left;\">Family 1 individual P2 (FEMALE; P7Y)</td><td style=\"text-align: left;\">Neurodevelopmental disorder with hypotonia and characteristic brain abnormalities (OMIM:620746)</td><td style=\"text-align: left;\">NM_001178015.2:c.2894C>T (homozygous)</td><td style=\"text-align: left;\">Gray matter heterotopia (HP:0002282); Short corpus callosum (HP:0200012); Microcephaly (HP:0000252); Global developmental delay (HP:0001263); Axial hypotonia (HP:0008936); Appendicular hypotonia (HP:0012389); Synophrys (HP:0000664); Retrognathia (HP:0000278); Preauricular skin tag (HP:0000384); excluded: Thin corpus callosum (HP:0033725); excluded: Chorea (HP:0002072); excluded: Seizure (HP:0001250); excluded: Macrotia (HP:0000400); excluded: Failure to thrive (HP:0001508); excluded: Small for gestational age (HP:0001518); excluded: Absent speech (HP:0001344); excluded: Developmental regression (HP:0002376); excluded: Hearing impairment (HP:0000365); excluded: Visual impairment (HP:0000505); excluded: Mandibular prognathia (HP:0000303); excluded: Anteverted nares (HP:0000463); excluded: Long eyelashes (HP:0000527); excluded: Protruding ear (HP:0000411); excluded: Wide nasal bridge (HP:0000431); excluded: Scarring (HP:0100699)</td></tr>\n",
       "<tr><td style=\"text-align: left;\">Family 2 individual P3 (FEMALE; P7Y)</td><td style=\"text-align: left;\">Neurodevelopmental disorder with hypotonia and characteristic brain abnormalities (OMIM:620746)</td><td style=\"text-align: left;\"><ul> <li>NM_001178015.2:c.1052G>C (heterozygous)</li> <li>NM_001178015.2:c.1864C>T (heterozygous)</li> </ul></td><td style=\"text-align: left;\">Gray matter heterotopia (HP:0002282); Short corpus callosum (HP:0200012); Seizure (HP:0001250); Microcephaly (HP:0000252); Macrotia (HP:0000400); Global developmental delay (HP:0001263); Axial hypotonia (HP:0008936); Appendicular hypotonia (HP:0012389); Failure to thrive (HP:0001508); Small for gestational age (HP:0001518); Absent speech (HP:0001344); Developmental regression (HP:0002376); Anteverted nares (HP:0000463); Long eyelashes (HP:0000527); Wide nasal bridge (HP:0000431); excluded: Thin corpus callosum (HP:0033725); excluded: Chorea (HP:0002072); excluded: Hearing impairment (HP:0000365); excluded: Visual impairment (HP:0000505); excluded: Mandibular prognathia (HP:0000303); excluded: Protruding ear (HP:0000411); excluded: Synophrys (HP:0000664); excluded: Scarring (HP:0100699); excluded: Retrognathia (HP:0000278); excluded: Preauricular skin tag (HP:0000384)</td></tr>\n",
       "<tr><td style=\"text-align: left;\">Family 3 individual P4 (FEMALE; P37Y)</td><td style=\"text-align: left;\">Neurodevelopmental disorder with hypotonia and characteristic brain abnormalities (OMIM:620746)</td><td style=\"text-align: left;\">NM_001178015.2:c.2162A>G (homozygous)</td><td style=\"text-align: left;\">Global developmental delay (HP:0001263); Axial hypotonia (HP:0008936); Absent speech (HP:0001344); Scarring (HP:0100699); excluded: Chorea (HP:0002072); excluded: Seizure (HP:0001250); excluded: Microcephaly (HP:0000252); excluded: Macrotia (HP:0000400); excluded: Appendicular hypotonia (HP:0012389); excluded: Small for gestational age (HP:0001518); excluded: Developmental regression (HP:0002376); excluded: Hearing impairment (HP:0000365); excluded: Visual impairment (HP:0000505); excluded: Mandibular prognathia (HP:0000303); excluded: Anteverted nares (HP:0000463); excluded: Long eyelashes (HP:0000527); excluded: Protruding ear (HP:0000411); excluded: Wide nasal bridge (HP:0000431); excluded: Synophrys (HP:0000664); excluded: Retrognathia (HP:0000278); excluded: Preauricular skin tag (HP:0000384)</td></tr>\n",
       "<tr><td style=\"text-align: left;\">Family 3 individual P5 (MALE; P16Y)</td><td style=\"text-align: left;\">Neurodevelopmental disorder with hypotonia and characteristic brain abnormalities (OMIM:620746)</td><td style=\"text-align: left;\">NM_001178015.2:c.2162A>G (homozygous)</td><td style=\"text-align: left;\">Global developmental delay (HP:0001263); Axial hypotonia (HP:0008936); Appendicular hypotonia (HP:0012389); Absent speech (HP:0001344); Scarring (HP:0100699); excluded: Gray matter heterotopia (HP:0002282); excluded: Thin corpus callosum (HP:0033725); excluded: Short corpus callosum (HP:0200012); excluded: Chorea (HP:0002072); excluded: Seizure (HP:0001250); excluded: Microcephaly (HP:0000252); excluded: Macrotia (HP:0000400); excluded: Small for gestational age (HP:0001518); excluded: Developmental regression (HP:0002376); excluded: Hearing impairment (HP:0000365); excluded: Visual impairment (HP:0000505); excluded: Mandibular prognathia (HP:0000303); excluded: Anteverted nares (HP:0000463); excluded: Long eyelashes (HP:0000527); excluded: Protruding ear (HP:0000411); excluded: Wide nasal bridge (HP:0000431); excluded: Synophrys (HP:0000664); excluded: Retrognathia (HP:0000278); excluded: Preauricular skin tag (HP:0000384)</td></tr>\n",
       "<tr><td style=\"text-align: left;\">Family 3 individual P6 (MALE; P33Y)</td><td style=\"text-align: left;\">Neurodevelopmental disorder with hypotonia and characteristic brain abnormalities (OMIM:620746)</td><td style=\"text-align: left;\">NM_001178015.2:c.2162A>G (homozygous)</td><td style=\"text-align: left;\">Global developmental delay (HP:0001263); Axial hypotonia (HP:0008936); Absent speech (HP:0001344); Scarring (HP:0100699); excluded: Chorea (HP:0002072); excluded: Seizure (HP:0001250); excluded: Microcephaly (HP:0000252); excluded: Macrotia (HP:0000400); excluded: Appendicular hypotonia (HP:0012389); excluded: Small for gestational age (HP:0001518); excluded: Developmental regression (HP:0002376); excluded: Hearing impairment (HP:0000365); excluded: Visual impairment (HP:0000505); excluded: Mandibular prognathia (HP:0000303); excluded: Anteverted nares (HP:0000463); excluded: Long eyelashes (HP:0000527); excluded: Protruding ear (HP:0000411); excluded: Wide nasal bridge (HP:0000431); excluded: Synophrys (HP:0000664); excluded: Retrognathia (HP:0000278); excluded: Preauricular skin tag (HP:0000384)</td></tr>\n",
       "<tr><td style=\"text-align: left;\">Family 4 individual P7 (FEMALE; P7Y)</td><td style=\"text-align: left;\">Neurodevelopmental disorder with hypotonia and characteristic brain abnormalities (OMIM:620746)</td><td style=\"text-align: left;\">NM_001178015.2:c.667C>T (homozygous)</td><td style=\"text-align: left;\">Global developmental delay (HP:0001263); Axial hypotonia (HP:0008936); Small for gestational age (HP:0001518); Ataxia (HP:0001251); excluded: Chorea (HP:0002072); excluded: Seizure (HP:0001250); excluded: Microcephaly (HP:0000252); excluded: Macrotia (HP:0000400); excluded: Appendicular hypotonia (HP:0012389); excluded: Absent speech (HP:0001344); excluded: Developmental regression (HP:0002376); excluded: Hearing impairment (HP:0000365); excluded: Visual impairment (HP:0000505); excluded: Mandibular prognathia (HP:0000303); excluded: Anteverted nares (HP:0000463); excluded: Long eyelashes (HP:0000527); excluded: Protruding ear (HP:0000411); excluded: Wide nasal bridge (HP:0000431); excluded: Synophrys (HP:0000664); excluded: Scarring (HP:0100699); excluded: Retrognathia (HP:0000278); excluded: Preauricular skin tag (HP:0000384)</td></tr>\n",
       "<tr><td style=\"text-align: left;\">Family 4 individual P8 (FEMALE; P5Y)</td><td style=\"text-align: left;\">Neurodevelopmental disorder with hypotonia and characteristic brain abnormalities (OMIM:620746)</td><td style=\"text-align: left;\">NM_001178015.2:c.667C>T (homozygous)</td><td style=\"text-align: left;\">Thin corpus callosum (HP:0033725); Global developmental delay (HP:0001263); Axial hypotonia (HP:0008936); Ataxia (HP:0001251); excluded: Gray matter heterotopia (HP:0002282); excluded: Short corpus callosum (HP:0200012); excluded: Chorea (HP:0002072); excluded: Seizure (HP:0001250); excluded: Microcephaly (HP:0000252); excluded: Macrotia (HP:0000400); excluded: Appendicular hypotonia (HP:0012389); excluded: Small for gestational age (HP:0001518); excluded: Absent speech (HP:0001344); excluded: Developmental regression (HP:0002376); excluded: Hearing impairment (HP:0000365); excluded: Visual impairment (HP:0000505); excluded: Mandibular prognathia (HP:0000303); excluded: Anteverted nares (HP:0000463); excluded: Long eyelashes (HP:0000527); excluded: Protruding ear (HP:0000411); excluded: Wide nasal bridge (HP:0000431); excluded: Synophrys (HP:0000664); excluded: Scarring (HP:0100699); excluded: Retrognathia (HP:0000278); excluded: Preauricular skin tag (HP:0000384)</td></tr>\n",
       "<tr><td style=\"text-align: left;\">Family 5 individual P9 (FEMALE; P4Y)</td><td style=\"text-align: left;\">Neurodevelopmental disorder with hypotonia and characteristic brain abnormalities (OMIM:620746)</td><td style=\"text-align: left;\">NM_001178015.2:c.49-62142T>C (homozygous)</td><td style=\"text-align: left;\">Global developmental delay (HP:0001263); Axial hypotonia (HP:0008936); Appendicular hypotonia (HP:0012389); Failure to thrive (HP:0001508); Small for gestational age (HP:0001518); Absent speech (HP:0001344); Mandibular prognathia (HP:0000303); excluded: Chorea (HP:0002072); excluded: Seizure (HP:0001250); excluded: Microcephaly (HP:0000252); excluded: Macrotia (HP:0000400); excluded: Developmental regression (HP:0002376); excluded: Hearing impairment (HP:0000365); excluded: Visual impairment (HP:0000505); excluded: Anteverted nares (HP:0000463); excluded: Long eyelashes (HP:0000527); excluded: Protruding ear (HP:0000411); excluded: Wide nasal bridge (HP:0000431); excluded: Synophrys (HP:0000664); excluded: Scarring (HP:0100699); excluded: Retrognathia (HP:0000278); excluded: Preauricular skin tag (HP:0000384)</td></tr>\n",
       "<tr><td style=\"text-align: left;\">Family 5 individual P10 (MALE; P7Y)</td><td style=\"text-align: left;\">Neurodevelopmental disorder with hypotonia and characteristic brain abnormalities (OMIM:620746)</td><td style=\"text-align: left;\">NM_001178015.2:c.49-62142T>C (homozygous)</td><td style=\"text-align: left;\">Thin corpus callosum (HP:0033725); Global developmental delay (HP:0001263); Axial hypotonia (HP:0008936); Appendicular hypotonia (HP:0012389); Failure to thrive (HP:0001508); Mandibular prognathia (HP:0000303); excluded: Gray matter heterotopia (HP:0002282); excluded: Short corpus callosum (HP:0200012); excluded: Chorea (HP:0002072); excluded: Seizure (HP:0001250); excluded: Microcephaly (HP:0000252); excluded: Macrotia (HP:0000400); excluded: Small for gestational age (HP:0001518); excluded: Absent speech (HP:0001344); excluded: Developmental regression (HP:0002376); excluded: Hearing impairment (HP:0000365); excluded: Visual impairment (HP:0000505); excluded: Anteverted nares (HP:0000463); excluded: Long eyelashes (HP:0000527); excluded: Protruding ear (HP:0000411); excluded: Wide nasal bridge (HP:0000431); excluded: Synophrys (HP:0000664); excluded: Scarring (HP:0100699); excluded: Retrognathia (HP:0000278); excluded: Preauricular skin tag (HP:0000384)</td></tr>\n",
       "<tr><td style=\"text-align: left;\">Family 6 individual P11 (FEMALE; P9Y)</td><td style=\"text-align: left;\">Neurodevelopmental disorder with hypotonia and characteristic brain abnormalities (OMIM:620746)</td><td style=\"text-align: left;\"><ul> <li>NM_001178015.2:c.2118G>T (heterozygous)</li> <li>NM_001178015.2:c.1612C>T (heterozygous)</li> </ul></td><td style=\"text-align: left;\">Thin corpus callosum (HP:0033725); Chorea (HP:0002072); Seizure (HP:0001250); Global developmental delay (HP:0001263); Axial hypotonia (HP:0008936); Appendicular hypotonia (HP:0012389); Absent speech (HP:0001344); excluded: Gray matter heterotopia (HP:0002282); excluded: Short corpus callosum (HP:0200012); excluded: Macrotia (HP:0000400); excluded: Mandibular prognathia (HP:0000303); excluded: Anteverted nares (HP:0000463); excluded: Long eyelashes (HP:0000527); excluded: Protruding ear (HP:0000411); excluded: Wide nasal bridge (HP:0000431); excluded: Synophrys (HP:0000664); excluded: Scarring (HP:0100699); excluded: Retrognathia (HP:0000278); excluded: Preauricular skin tag (HP:0000384)</td></tr>\n",
       "</table>"
      ],
      "text/plain": [
       "<IPython.core.display.HTML object>"
      ]
     },
     "metadata": {},
     "output_type": "display_data"
    }
   ],
   "source": [
    "table = IndividualTable(cvalidator.get_error_free_individual_list())\n",
    "display(HTML(table.to_html()))"
   ]
  },
  {
   "cell_type": "code",
   "execution_count": 30,
   "metadata": {},
   "outputs": [
    {
     "name": "stdout",
     "output_type": "stream",
     "text": [
      "[pyphetools] Ingested 16 GA4GH phenopackets.\n",
      "[INFO] Extracted 16 from 16 phenopackets with OMIM:620746\n",
      "\n",
      "\tNeurodevelopmental disorder with hypotonia and characteristic brain abnormalities (OMIM:620746): n=16\n",
      "We found a total of 50 unique HPO terms\n",
      "Extracted disease: Neurodevelopmental disorder with hypotonia and characteristic brain abnormalities (OMIM:620746)\n",
      "Wrote HPOA disease file to OMIM-620746.tab\n"
     ]
    }
   ],
   "source": [
    "pmid = \"PMID:37459438\"\n",
    "df = timporter.create_hpoa_from_phenopackets(pmid=pmid, mode_of_inheritance=Moi.AD, target=\"OMIM:620746\")"
   ]
  }
 ],
 "metadata": {
  "kernelspec": {
   "display_name": "ps24venv",
   "language": "python",
   "name": "python3"
  },
  "language_info": {
   "codemirror_mode": {
    "name": "ipython",
    "version": 3
   },
   "file_extension": ".py",
   "mimetype": "text/x-python",
   "name": "python",
   "nbconvert_exporter": "python",
   "pygments_lexer": "ipython3",
   "version": "3.9.6"
  }
 },
 "nbformat": 4,
 "nbformat_minor": 2
}
