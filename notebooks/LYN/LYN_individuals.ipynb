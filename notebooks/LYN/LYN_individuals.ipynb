{
 "cells": [
  {
   "cell_type": "markdown",
   "id": "36d71a75-4d61-46df-be91-e114175daa2e",
   "metadata": {},
   "source": [
    "# Louvrier et al (2023)\n",
    "\n",
    "The authors reported a a 4-year-old girl with SAIDV in\n",
    "[Louvrier C, et al. (2023) De Novo Gain-Of-Function Variations in LYN Associated With an Early-Onset Systemic Autoinflammatory Disorder. Arthritis Rheumatol.  Mar;75(3):468-474. PMID:36122175](https://pubmed.ncbi.nlm.nih.gov/36122175/)."
   ]
  },
  {
   "cell_type": "code",
   "execution_count": 1,
   "id": "05be170d-9aeb-4636-8e08-bd439c65f9af",
   "metadata": {},
   "outputs": [],
   "source": [
    "from pyphetools.visualization import IndividualTable, QcVisualizer\n",
    "from IPython.display import display, HTML\n",
    "from pyphetools.creation import *"
   ]
  },
  {
   "cell_type": "code",
   "execution_count": 2,
   "id": "a735571f-a6f0-4506-8f45-82436a8d527f",
   "metadata": {},
   "outputs": [],
   "source": [
    "template = \"input/LYN_OMIM_620376_individuals.xlsx\"\n",
    "created_by=\"ORCID:0000-0002-0736-9199\"\n",
    "hp_json = \"../hp.json\""
   ]
  },
  {
   "cell_type": "code",
   "execution_count": 3,
   "id": "66d4cabc-2aeb-49df-b0cf-7c8dc7cf00b9",
   "metadata": {},
   "outputs": [],
   "source": [
    "timporter = TemplateImporter(template=template, hp_json=hp_json, created_by=created_by)"
   ]
  },
  {
   "cell_type": "code",
   "execution_count": 4,
   "id": "4bec0e03-fb29-4454-8c41-c33a20bf7c79",
   "metadata": {},
   "outputs": [
    {
     "name": "stdout",
     "output_type": "stream",
     "text": [
      "HPO version 2024-03-06\n",
      "Created encoders for 60 fields\n",
      " we got OMIM:620376  NM_002350.4\n",
      "We output 4 GA4GH phenopackets to the directory phenopackets\n"
     ]
    }
   ],
   "source": [
    "individuals, cvalidator = timporter.import_phenopackets_from_template()"
   ]
  },
  {
   "cell_type": "code",
   "execution_count": 5,
   "id": "77027204-8a17-43aa-91c8-71e0fbb826ee",
   "metadata": {},
   "outputs": [
    {
     "data": {
      "text/html": [
       "<h2>Cohort validation</h2>\n",
       "<p>Errors found with 1 of 4 phenopackets.</p>\n",
       "<table style=\"border: 2px solid black; align: \"left\">\n",
       "<caption>Error counts</caption>\n",
       "<tr><th style=\"text-align: left;font-weight: bold;\">Level</th><th style=\"text-align: left;font-weight: bold;\">Error category</th><th style=\"text-align: left;font-weight: bold;\">Count</th></tr>\n",
       "<tr><td style=\"text-align: left;\">WARNING</td><td style=\"text-align: left;\">REDUNDANT</td><td style=\"text-align: left;\">1</td></tr>\n",
       "</table>\n",
       "<p>A total of 1 issues were fixed and no individual was removed from the cohort.</p>"
      ],
      "text/plain": [
       "<IPython.core.display.HTML object>"
      ]
     },
     "metadata": {},
     "output_type": "display_data"
    }
   ],
   "source": [
    "### Here, we begin QC and display\n",
    "qc = QcVisualizer(cohort_validator=cvalidator)\n",
    "display(HTML(qc.to_summary_html()))"
   ]
  },
  {
   "cell_type": "code",
   "execution_count": 7,
   "id": "71b9a2ee-a42c-4c49-bca1-59ce6abf8925",
   "metadata": {},
   "outputs": [
    {
     "data": {
      "text/html": [
       "<table style=\"border: 2px solid black; align: \"left\">\n",
       "<caption>4 phenopackets - PMID:36122175 (n=1); PMID:36932076 (n=3)</caption>\n",
       "<tr><th style=\"text-align: left;font-weight: bold;\">Individual</th><th style=\"text-align: left;font-weight: bold;\">Disease</th><th style=\"text-align: left;font-weight: bold;\">Genotype</th><th style=\"text-align: left;font-weight: bold;\">Phenotypic features</th></tr>\n",
       "<tr><td style=\"text-align: left;\">Patient in the present study (FEMALE; P2Y)</td><td style=\"text-align: left;\">Autoinflammatory disease, systemic, with vasculitis (OMIM:620376)</td><td style=\"text-align: left;\">NM_002350.4:c.1522T>C (heterozygous)</td><td style=\"text-align: left;\"><b>P1D</b>: Ascending tubular aorta aneurysm (HP:0004970); Hepatic calcification (HP:0006559); Hepatomegaly (HP:0002240); Cholestasis (HP:0001396); Splenomegaly (HP:0001744); Cardiomegaly (HP:0001640)<br/><b>P3D</b>: Abdominal pain (HP:0002027); Diarrhea (HP:0002014); Urticaria (HP:0001025); Atopic dermatitis (HP:0001047); Fever (HP:0001945); Asthma (HP:0002099); Arthritis (HP:0001369); Elevated circulating C-reactive protein concentration (HP:0011227)<br/><b>P1Y2M</b>: Frontal bossing (HP:0002007)<br/><b>P2Y</b>: Increased T cell count (HP:0100828); Increased circulating interleukin 6 concentration (HP:0030783)<br/>Intrauterine growth retardation (HP:0001511); Premature birth (HP:0001622); excluded: Hydrops fetalis (HP:0001789)</td></tr>\n",
       "<tr><td style=\"text-align: left;\">Patient 1 (MALE; P2Y6M)</td><td style=\"text-align: left;\">Autoinflammatory disease, systemic, with vasculitis (OMIM:620376)</td><td style=\"text-align: left;\">NM_002350.4:c.1522T>C (heterozygous)</td><td style=\"text-align: left;\">Purpura (HP:0000979); Thrombocytopenia (HP:0001873); Hepatic fibrosis (HP:0001395); Abdominal pain (HP:0002027); Hepatomegaly (HP:0002240); Elevated circulating hepatic transaminase concentration (HP:0002910); Splenomegaly (HP:0001744); Small vessel vasculitis (HP:0011944); Antimitochondrial antibody positivity (HP:0030167); Anti-thyroid peroxidase antibody positivity (HP:0025379); Lupus anticoagulant (HP:0025343); Antinuclear antibody positivity (HP:0003493); Headache (HP:0002315); Epididymitis (HP:0000031); Anemia (HP:0001903); Leukocytosis (HP:0001974); Fever (HP:0001945); Myalgia (HP:0003326); Testicular pain (HP:0033839); Arthralgia (HP:0002829); Conjunctivitis (HP:0000509); Periorbital edema (HP:0100539); Hydrops fetalis (HP:0001789); Elevated circulating C-reactive protein concentration (HP:0011227); Decreased circulating total IgM (HP:0002850); excluded: Failure to thrive (HP:0001508); excluded: Asthma (HP:0002099); excluded: Premature birth (HP:0001622); excluded: Increased B cell count (HP:0005404); excluded: Abnormal circulating IgG level (HP:0410242); excluded: Decreased circulating IgA level (HP:0002720)</td></tr>\n",
       "<tr><td style=\"text-align: left;\">Patient 2 (MALE; P15Y)</td><td style=\"text-align: left;\">Autoinflammatory disease, systemic, with vasculitis (OMIM:620376)</td><td style=\"text-align: left;\">NM_002350.4:c.1524C>G (heterozygous)</td><td style=\"text-align: left;\">Purpura (HP:0000979); Abdominal pain (HP:0002027); Headache (HP:0002315); Epididymitis (HP:0000031); Leukocytosis (HP:0001974); Fever (HP:0001945); Testicular pain (HP:0033839); Arthralgia (HP:0002829); Conjunctivitis (HP:0000509); Periorbital edema (HP:0100539); Elevated circulating C-reactive protein concentration (HP:0011227); Decreased circulating total IgM (HP:0002850); excluded: Thrombocytopenia (HP:0001873); excluded: Hepatic fibrosis (HP:0001395); excluded: Hepatomegaly (HP:0002240); excluded: Elevated circulating hepatic transaminase concentration (HP:0002910); excluded: Splenomegaly (HP:0001744); excluded: Small vessel vasculitis (HP:0011944); excluded: Antimitochondrial antibody positivity (HP:0030167); excluded: Anti-thyroid peroxidase antibody positivity (HP:0025379); excluded: Lupus anticoagulant (HP:0025343); excluded: Antinuclear antibody positivity (HP:0003493); excluded: Failure to thrive (HP:0001508); excluded: Anemia (HP:0001903); excluded: Myalgia (HP:0003326); excluded: Hydrops fetalis (HP:0001789); excluded: Asthma (HP:0002099); excluded: Premature birth (HP:0001622); excluded: Increased B cell count (HP:0005404); excluded: Abnormal circulating IgG level (HP:0410242); excluded: Decreased circulating IgA level (HP:0002720)</td></tr>\n",
       "<tr><td style=\"text-align: left;\">Patient 3 (MALE; P4M)</td><td style=\"text-align: left;\">Autoinflammatory disease, systemic, with vasculitis (OMIM:620376)</td><td style=\"text-align: left;\">NM_002350.4:c.1523A>T (heterozygous)</td><td style=\"text-align: left;\">Intrauterine growth retardation (HP:0001511); Purpura (HP:0000979); Thrombocytopenia (HP:0001873); Hepatic fibrosis (HP:0001395); Hepatomegaly (HP:0002240); Elevated circulating hepatic transaminase concentration (HP:0002910); Splenomegaly (HP:0001744); Small vessel vasculitis (HP:0011944); Failure to thrive (HP:0001508); Anemia (HP:0001903); Fever (HP:0001945); Testicular pain (HP:0033839); Conjunctivitis (HP:0000509); Elevated circulating C-reactive protein concentration (HP:0011227); Increased B cell count (HP:0005404); Decreased circulating IgA level (HP:0002720); excluded: Abdominal pain (HP:0002027); excluded: Antimitochondrial antibody positivity (HP:0030167); excluded: Anti-thyroid peroxidase antibody positivity (HP:0025379); excluded: Lupus anticoagulant (HP:0025343); excluded: Antinuclear antibody positivity (HP:0003493); excluded: Headache (HP:0002315); excluded: Epididymitis (HP:0000031); excluded: Myalgia (HP:0003326); excluded: Arthralgia (HP:0002829); excluded: Periorbital edema (HP:0100539); excluded: Hydrops fetalis (HP:0001789); excluded: Asthma (HP:0002099); excluded: Premature birth (HP:0001622); excluded: Abnormal circulating IgG level (HP:0410242); excluded: Decreased circulating total IgM (HP:0002850)</td></tr>\n",
       "</table>"
      ],
      "text/plain": [
       "<IPython.core.display.HTML object>"
      ]
     },
     "metadata": {},
     "output_type": "display_data"
    }
   ],
   "source": [
    "table = IndividualTable(cvalidator.get_error_free_individual_list())\n",
    "display(HTML(table.to_html()))"
   ]
  },
  {
   "cell_type": "code",
   "execution_count": 8,
   "id": "2c1648be-d758-425e-8733-71d2f9a8a324",
   "metadata": {},
   "outputs": [
    {
     "name": "stdout",
     "output_type": "stream",
     "text": [
      "[pyphetools] Ingested 4 GA4GH phenopackets.\n",
      "\tAutoinflammatory disease, systemic, with vasculitis (OMIM:620376): n=4\n",
      "We found a total of 43 unique HPO terms\n",
      "Extracted disease: Autoinflammatory disease, systemic, with vasculitis (OMIM:620376)\n",
      "Wrote HPOA disease file to OMIM-620376.tab\n"
     ]
    }
   ],
   "source": [
    "df = timporter.create_hpoa_from_phenopackets(pmid=\"PMID:36932076\", moi=\"Autosomal dominant\")"
   ]
  },
  {
   "cell_type": "code",
   "execution_count": null,
   "id": "364a7fac-6196-4732-be66-a500d0e811a0",
   "metadata": {},
   "outputs": [],
   "source": []
  }
 ],
 "metadata": {
  "kernelspec": {
   "display_name": "ps24venv",
   "language": "python",
   "name": "ps24venv"
  },
  "language_info": {
   "codemirror_mode": {
    "name": "ipython",
    "version": 3
   },
   "file_extension": ".py",
   "mimetype": "text/x-python",
   "name": "python",
   "nbconvert_exporter": "python",
   "pygments_lexer": "ipython3",
   "version": "3.8.10"
  }
 },
 "nbformat": 4,
 "nbformat_minor": 5
}
