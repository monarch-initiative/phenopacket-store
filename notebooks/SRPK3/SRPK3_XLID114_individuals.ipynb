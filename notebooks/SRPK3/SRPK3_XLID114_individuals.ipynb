{
 "cells": [
  {
   "cell_type": "markdown",
   "metadata": {},
   "source": [
    "# SRPK3\n",
    "[X-linked intellectual developmental disorder-114 (XLID114)](https://omim.org/entry/301134) is caused by hemizygous mutation in the SRPK3 gene."
   ]
  },
  {
   "cell_type": "code",
   "execution_count": 1,
   "metadata": {},
   "outputs": [
    {
     "name": "stdout",
     "output_type": "stream",
     "text": [
      "Using pyphetools version 0.9.115\n"
     ]
    }
   ],
   "source": [
    "from pyphetools.creation import TemplateImporter, Moi\n",
    "from pyphetools.visualization import IndividualTable, QcVisualizer\n",
    "from IPython.display import display, HTML\n",
    "import pyphetools\n",
    "print(f\"Using pyphetools version {pyphetools.__version__}\")"
   ]
  },
  {
   "cell_type": "code",
   "execution_count": 3,
   "metadata": {},
   "outputs": [
    {
     "name": "stdout",
     "output_type": "stream",
     "text": [
      "HPO version 2024-12-12\n",
      "Created encoders for 43 fields\n",
      "Importing OMIM:301134, Intellectual developmental disorder, X-linked 114, HGNC:11402, SRPK3,  NM_014370.4\n",
      "[INFO] encoding variant \"c.1373C>A\"\n",
      "https://rest.variantvalidator.org/VariantValidator/variantvalidator/hg38/NM_014370.4%3Ac.1373C>A/NM_014370.4?content-type=application%2Fjson\n",
      "[INFO] encoding variant \"c.1585G>A\"\n",
      "https://rest.variantvalidator.org/VariantValidator/variantvalidator/hg38/NM_014370.4%3Ac.1585G>A/NM_014370.4?content-type=application%2Fjson\n",
      "[INFO] encoding variant \"c.1413_1414del\"\n",
      "https://rest.variantvalidator.org/VariantValidator/variantvalidator/hg38/NM_014370.4%3Ac.1413_1414del/NM_014370.4?content-type=application%2Fjson\n",
      "[INFO] encoding variant \"c.953C>T\"\n",
      "https://rest.variantvalidator.org/VariantValidator/variantvalidator/hg38/NM_014370.4%3Ac.953C>T/NM_014370.4?content-type=application%2Fjson\n",
      "[INFO] encoding variant \"c.475C>G\"\n",
      "https://rest.variantvalidator.org/VariantValidator/variantvalidator/hg38/NM_014370.4%3Ac.475C>G/NM_014370.4?content-type=application%2Fjson\n",
      "We output 9 GA4GH phenopackets to the directory phenopackets\n"
     ]
    }
   ],
   "source": [
    "template = \"input/SRPK3_XLID114_individuals.xlsx\"\n",
    "created_by = \"0000-0002-0736-9199\"\n",
    "timporter = TemplateImporter(template=template,  created_by=created_by)\n",
    "individual_list, cvalidator = timporter.import_phenopackets_from_template()"
   ]
  },
  {
   "cell_type": "code",
   "execution_count": 4,
   "metadata": {},
   "outputs": [
    {
     "data": {
      "text/html": [
       "<h2>Cohort validation</h2>\n",
       "<p>Errors found with 8 of 9 phenopackets.</p>\n",
       "<table style=\"border: 2px solid black; align: \"left\">\n",
       "<caption>Error counts</caption>\n",
       "<tr><th style=\"text-align: left;font-weight: bold;\">Level</th><th style=\"text-align: left;font-weight: bold;\">Error category</th><th style=\"text-align: left;font-weight: bold;\">Count</th></tr>\n",
       "<tr><td style=\"text-align: left;\">ERROR</td><td style=\"text-align: left;\">CONFLICT</td><td style=\"text-align: left;\">1</td></tr>\n",
       "<tr><td style=\"text-align: left;\">WARNING</td><td style=\"text-align: left;\">REDUNDANT</td><td style=\"text-align: left;\">9</td></tr>\n",
       "</table>\n",
       "<p>A total of 10 issues were fixed and no individual was removed from the cohort.</p>"
      ],
      "text/plain": [
       "<IPython.core.display.HTML object>"
      ]
     },
     "metadata": {},
     "output_type": "display_data"
    }
   ],
   "source": [
    "qc = QcVisualizer(cohort_validator=cvalidator)\n",
    "display(HTML(qc.to_summary_html()))"
   ]
  },
  {
   "cell_type": "code",
   "execution_count": 5,
   "metadata": {},
   "outputs": [
    {
     "data": {
      "text/html": [
       "<table style=\"border: 2px solid black; align: \"left\">\n",
       "<caption>9 phenopackets - PMID:39073169 (n=9)</caption>\n",
       "<tr><th style=\"text-align: left;font-weight: bold;\">Individual</th><th style=\"text-align: left;font-weight: bold;\">Disease</th><th style=\"text-align: left;font-weight: bold;\">Genotype</th><th style=\"text-align: left;font-weight: bold;\">Phenotypic features</th></tr>\n",
       "<tr><td style=\"text-align: left;\">Patient F1:II-1 (MALE; P69Y)</td><td style=\"text-align: left;\">Intellectual developmental disorder, X-linked 114 (OMIM:301134)</td><td style=\"text-align: left;\">NM_014370.4:c.475C>G (heterozygous)</td><td style=\"text-align: left;\">Partial agenesis of the corpus callosum (HP:0001338): onset ; Macrocephaly (HP:0000256): onset ; Prominent forehead (HP:0011220): onset ; Global developmental delay (HP:0001263): onset ; Intellectual disability, severe (HP:0010864): onset ; excluded: Absent speech (HP:0001344): onset ; excluded: Intellectual disability, borderline (HP:0006889): onset ; excluded: Intellectual disability, mild (HP:0001256): onset ; excluded: Intellectual disability, moderate (HP:0002342): onset </td></tr>\n",
       "<tr><td style=\"text-align: left;\">Patient F1:III-3 (MALE; P35Y)</td><td style=\"text-align: left;\">Intellectual developmental disorder, X-linked 114 (OMIM:301134)</td><td style=\"text-align: left;\">NM_014370.4:c.475C>G (heterozygous)</td><td style=\"text-align: left;\">Motor delay (HP:0001270): onset ; Colpocephaly (HP:0030048): onset ; Partial agenesis of the corpus callosum (HP:0001338): onset ; Lateral ventricle dilatation (HP:0006956): onset ; Reduced cerebral white matter volume (HP:0034295): onset ; Global developmental delay (HP:0001263): onset ; Intellectual disability, moderate (HP:0002342): onset ; Delayed speech and language development (HP:0000750): onset ; excluded: Absent speech (HP:0001344): onset ; excluded: Enlarged cisterna magna (HP:0002280): onset ; excluded: Macrocephaly (HP:0000256): onset ; excluded: Prominent forehead (HP:0011220): onset ; excluded: Intellectual disability, borderline (HP:0006889): onset ; excluded: Intellectual disability, mild (HP:0001256): onset ; excluded: Intellectual disability, severe (HP:0010864): onset </td></tr>\n",
       "<tr><td style=\"text-align: left;\">Patient F1:III-4 (MALE; P27Y)</td><td style=\"text-align: left;\">Intellectual developmental disorder, X-linked 114 (OMIM:301134)</td><td style=\"text-align: left;\">NM_014370.4:c.475C>G (heterozygous)</td><td style=\"text-align: left;\">Motor delay (HP:0001270): onset ; Short attention span (HP:0000736): onset ; Colpocephaly (HP:0030048): onset ; Agenesis of corpus callosum (HP:0001274): onset ; Lateral ventricle dilatation (HP:0006956): onset ; Reduced cerebral white matter volume (HP:0034295): onset ; Global developmental delay (HP:0001263): onset ; Intellectual disability, moderate (HP:0002342): onset ; Delayed speech and language development (HP:0000750): onset ; excluded: Absent speech (HP:0001344): onset ; excluded: Emotional lability (HP:0000712): onset ; excluded: Enlarged cisterna magna (HP:0002280): onset ; excluded: Macrocephaly (HP:0000256): onset ; excluded: Prominent forehead (HP:0011220): onset ; excluded: Strabismus (HP:0000486): onset ; excluded: Intellectual disability, borderline (HP:0006889): onset ; excluded: Intellectual disability, mild (HP:0001256): onset ; excluded: Intellectual disability, severe (HP:0010864): onset </td></tr>\n",
       "<tr><td style=\"text-align: left;\">Patient F1:III-5 (MALE; P35Y)</td><td style=\"text-align: left;\">Intellectual developmental disorder, X-linked 114 (OMIM:301134)</td><td style=\"text-align: left;\">NM_014370.4:c.475C>G (heterozygous)</td><td style=\"text-align: left;\">Motor delay (HP:0001270): onset ; Short attention span (HP:0000736): onset ; Emotional lability (HP:0000712): onset ; Global developmental delay (HP:0001263): onset ; Intellectual disability, moderate (HP:0002342): onset ; Delayed speech and language development (HP:0000750): onset ; excluded: Absent speech (HP:0001344): onset ; excluded: Macrocephaly (HP:0000256): onset ; excluded: Prominent forehead (HP:0011220): onset ; excluded: Strabismus (HP:0000486): onset ; excluded: Intellectual disability, borderline (HP:0006889): onset ; excluded: Intellectual disability, mild (HP:0001256): onset ; excluded: Intellectual disability, severe (HP:0010864): onset </td></tr>\n",
       "<tr><td style=\"text-align: left;\">Patient F1:III-7 (MALE; P32Y)</td><td style=\"text-align: left;\">Intellectual developmental disorder, X-linked 114 (OMIM:301134)</td><td style=\"text-align: left;\">NM_014370.4:c.475C>G (heterozygous)</td><td style=\"text-align: left;\">Motor delay (HP:0001270): onset ; Partial agenesis of the corpus callosum (HP:0001338): onset ; Lateral ventricle dilatation (HP:0006956): onset ; Reduced cerebral white matter volume (HP:0034295): onset ; Global developmental delay (HP:0001263): onset ; Intellectual disability, moderate (HP:0002342): onset ; Delayed speech and language development (HP:0000750): onset ; excluded: Absent speech (HP:0001344): onset ; excluded: Colpocephaly (HP:0030048): onset ; excluded: Enlarged cisterna magna (HP:0002280): onset ; excluded: Ataxia (HP:0001251): onset ; excluded: Vertigo (HP:0002321): onset ; excluded: Proximal muscle weakness (HP:0003701): onset ; excluded: Hypotonia (HP:0001252): onset ; excluded: Limb dystonia (HP:0002451): onset ; excluded: Macrocephaly (HP:0000256): onset ; excluded: Prominent forehead (HP:0011220): onset ; excluded: Intellectual disability, borderline (HP:0006889): onset ; excluded: Intellectual disability, mild (HP:0001256): onset ; excluded: Intellectual disability, severe (HP:0010864): onset </td></tr>\n",
       "<tr><td style=\"text-align: left;\">Patient F2 (MALE; P28Y)</td><td style=\"text-align: left;\">Intellectual developmental disorder, X-linked 114 (OMIM:301134)</td><td style=\"text-align: left;\">NM_014370.4:c.1373C>A (heterozygous)</td><td style=\"text-align: left;\">Ataxia (HP:0001251): onset ; Vertigo (HP:0002321): onset ; Cerebellar atrophy (HP:0001272): onset ; Strabismus (HP:0000486): onset ; Intellectual disability, borderline (HP:0006889): onset ; excluded: Absent speech (HP:0001344): onset ; excluded: Proximal muscle weakness (HP:0003701): onset ; excluded: Hypotonia (HP:0001252): onset ; excluded: Limb dystonia (HP:0002451): onset ; excluded: Macrocephaly (HP:0000256): onset ; excluded: Prominent forehead (HP:0011220): onset ; excluded: Intellectual disability, mild (HP:0001256): onset ; excluded: Intellectual disability, moderate (HP:0002342): onset ; excluded: Intellectual disability, severe (HP:0010864): onset </td></tr>\n",
       "<tr><td style=\"text-align: left;\">Patient F3:III-1 (MALE; P15Y)</td><td style=\"text-align: left;\">Intellectual developmental disorder, X-linked 114 (OMIM:301134)</td><td style=\"text-align: left;\">NM_014370.4:c.1585G>A (heterozygous)</td><td style=\"text-align: left;\">Ataxia (HP:0001251): onset ; Vertigo (HP:0002321): onset ; Proximal muscle weakness (HP:0003701): onset ; Global developmental delay (HP:0001263): onset ; Intellectual disability, borderline (HP:0006889): onset ; excluded: Motor delay (HP:0001270): onset ; excluded: Hypotonia (HP:0001252): onset ; excluded: Limb dystonia (HP:0002451): onset ; excluded: Macrocephaly (HP:0000256): onset ; excluded: Prominent forehead (HP:0011220): onset ; excluded: Strabismus (HP:0000486): onset ; excluded: Intellectual disability, mild (HP:0001256): onset ; excluded: Intellectual disability, moderate (HP:0002342): onset ; excluded: Intellectual disability, severe (HP:0010864): onset </td></tr>\n",
       "<tr><td style=\"text-align: left;\">Patient F4 (MALE; P5Y)</td><td style=\"text-align: left;\">Intellectual developmental disorder, X-linked 114 (OMIM:301134)</td><td style=\"text-align: left;\">NM_014370.4:c.953C>T (heterozygous)</td><td style=\"text-align: left;\">Absent speech (HP:0001344): onset ; Motor delay (HP:0001270): onset ; Hypotonia (HP:0001252): onset ; Limb dystonia (HP:0002451): onset ; Global developmental delay (HP:0001263): onset ; Intellectual disability, severe (HP:0010864): onset ; excluded: Short attention span (HP:0000736): onset ; excluded: Emotional lability (HP:0000712): onset ; excluded: Colpocephaly (HP:0030048): onset ; excluded: Partial agenesis of the corpus callosum (HP:0001338): onset ; excluded: Lateral ventricle dilatation (HP:0006956): onset ; excluded: Reduced cerebral white matter volume (HP:0034295): onset ; excluded: Enlarged cisterna magna (HP:0002280): onset ; excluded: Ataxia (HP:0001251): onset ; excluded: Vertigo (HP:0002321): onset ; excluded: Proximal muscle weakness (HP:0003701): onset ; excluded: Macrocephaly (HP:0000256): onset ; excluded: Prominent forehead (HP:0011220): onset ; excluded: Strabismus (HP:0000486): onset ; excluded: Intellectual disability, borderline (HP:0006889): onset ; excluded: Intellectual disability, mild (HP:0001256): onset ; excluded: Intellectual disability, moderate (HP:0002342): onset </td></tr>\n",
       "<tr><td style=\"text-align: left;\">Patient F5 (MALE; P21D)</td><td style=\"text-align: left;\">Intellectual developmental disorder, X-linked 114 (OMIM:301134)</td><td style=\"text-align: left;\">NM_014370.4:c.1413_1414del (heterozygous)</td><td style=\"text-align: left;\">Lateral ventricle dilatation (HP:0006956): onset ; Enlarged cisterna magna (HP:0002280): onset ; excluded: Macrocephaly (HP:0000256): onset ; excluded: Prominent forehead (HP:0011220): onset ; excluded: Strabismus (HP:0000486): onset </td></tr>\n",
       "</table>"
      ],
      "text/plain": [
       "<IPython.core.display.HTML object>"
      ]
     },
     "metadata": {},
     "output_type": "display_data"
    }
   ],
   "source": [
    "table = IndividualTable(cvalidator.get_error_free_individual_list())\n",
    "display(HTML(table.to_html()))"
   ]
  },
  {
   "cell_type": "code",
   "execution_count": 7,
   "metadata": {},
   "outputs": [
    {
     "name": "stdout",
     "output_type": "stream",
     "text": [
      "[pyphetools] Ingested 9 GA4GH phenopackets.\n",
      "[INFO] Extracted 9 from 9 phenopackets with OMIM:301134\n",
      "\n",
      "\tIntellectual developmental disorder, X-linked 114 (OMIM:301134): n=9\n",
      "We found a total of 25 unique HPO terms\n",
      "Extracted disease: Intellectual developmental disorder, X-linked 114 (OMIM:301134)\n",
      "Wrote HPOA disease file to OMIM-301134.tab\n"
     ]
    }
   ],
   "source": [
    "pmid = \"PMID:39073169\"\n",
    "df = timporter.create_hpoa_from_phenopackets(pmid=pmid, mode_of_inheritance=Moi.XLI, target=\"OMIM:301134\")"
   ]
  }
 ],
 "metadata": {
  "kernelspec": {
   "display_name": "ps24venv",
   "language": "python",
   "name": "python3"
  },
  "language_info": {
   "codemirror_mode": {
    "name": "ipython",
    "version": 3
   },
   "file_extension": ".py",
   "mimetype": "text/x-python",
   "name": "python",
   "nbconvert_exporter": "python",
   "pygments_lexer": "ipython3",
   "version": "3.12.4"
  }
 },
 "nbformat": 4,
 "nbformat_minor": 2
}
