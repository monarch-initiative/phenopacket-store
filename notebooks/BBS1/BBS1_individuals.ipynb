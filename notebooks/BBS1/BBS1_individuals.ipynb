{
 "cells": [
  {
   "cell_type": "markdown",
   "id": "394c73e0-6442-48d1-bd54-3d9edc54356e",
   "metadata": {},
   "source": [
    "# BBS1\n",
    "[Bardet-Biedl syndrome-1 (BBS1)](https://www.omim.org/entry/209900) is caused by homozygous or compound heterozygous mutation in the BBS1 gene"
   ]
  },
  {
   "cell_type": "code",
   "execution_count": 5,
   "id": "04b404ac-3c54-4f48-89b0-ab962a588c0b",
   "metadata": {},
   "outputs": [
    {
     "name": "stdout",
     "output_type": "stream",
     "text": [
      "Using pyphetools version 0.9.78\n"
     ]
    }
   ],
   "source": [
    "from pyphetools.creation import TemplateImporter\n",
    "from pyphetools.visualization import IndividualTable, QcVisualizer\n",
    "from IPython.display import display, HTML\n",
    "import pyphetools\n",
    "print(f\"Using pyphetools version {pyphetools.__version__}\")"
   ]
  },
  {
   "cell_type": "code",
   "execution_count": 6,
   "id": "6298dd87-33c8-4292-8e00-8976f5b061fa",
   "metadata": {},
   "outputs": [],
   "source": [
    "template = \"input/BBS1_individuals.xlsx\"\n",
    "hp_json = \"../hp.json\"\n",
    "created_by = \"0000-0002-0736-9199\""
   ]
  },
  {
   "cell_type": "code",
   "execution_count": 10,
   "id": "3f2ddb79-82e6-417a-8c3e-7c1fe8fca942",
   "metadata": {},
   "outputs": [
    {
     "name": "stdout",
     "output_type": "stream",
     "text": [
      "HPO version 2024-04-04\n",
      "Created encoders for 43 fields\n",
      "Importing OMIM:209900, Bardet-Biedl syndrome 1, HGNC:966, BBS1,  NM_024649.5\n",
      "[INFO] encoding variant \"c.1110+3G>A\"\n",
      "https://rest.variantvalidator.org/VariantValidator/variantvalidator/hg38/NM_024649.5%3Ac.1110+3G>A/NM_024649.5?content-type=application%2Fjson\n",
      "Removed 3 individuals with unfixable errors\n",
      "We output 13 GA4GH phenopackets to the directory phenopackets\n"
     ]
    }
   ],
   "source": [
    "timporter = TemplateImporter(template=template, hp_json=hp_json, created_by=created_by)\n",
    "individual_list, cvalidator = timporter.import_phenopackets_from_template()"
   ]
  },
  {
   "cell_type": "code",
   "execution_count": 11,
   "id": "0f9e9942-ec15-4b81-8eaf-5f065d5193fe",
   "metadata": {},
   "outputs": [
    {
     "data": {
      "text/html": [
       "<h2>Cohort validation</h2>\n",
       "<p>Errors found with 3 of 16 phenopackets.</p>\n",
       "<table style=\"border: 2px solid black; align: \"left\">\n",
       "<caption>Error counts</caption>\n",
       "<tr><th style=\"text-align: left;font-weight: bold;\">Level</th><th style=\"text-align: left;font-weight: bold;\">Error category</th><th style=\"text-align: left;font-weight: bold;\">Count</th></tr>\n",
       "<tr><td style=\"text-align: left;\">ERROR</td><td style=\"text-align: left;\">MALFORMED_LABEL</td><td style=\"text-align: left;\">3</td></tr>\n",
       "</table>\n",
       "<p>A total of 3 issues were fixed and 3 individuals were removed from the cohort because of irreparable errors. The cohort validator will return 13 individual objects without errors.</p>\n",
       "<p>The following malformed labels were found: Invalid label 'Intellectual disability.1' found for Intellectual disability (HP:0001249). These need to be corrected before continuing.</p>\n",
       "<h2>Individuals with unfixable errors</h2>\n",
       "<table style=\"border: 2px solid black; align: \"left\">\n",
       "<caption>Error analysis</caption>\n",
       "<tr><th style=\"text-align: left;font-weight: bold;\">ID</th><th style=\"text-align: left;font-weight: bold;\">Level</th><th style=\"text-align: left;font-weight: bold;\">Category</th><th style=\"text-align: left;font-weight: bold;\">Message</th><th style=\"text-align: left;font-weight: bold;\">HPO Term</th></tr>\n",
       "<tr><td style=\"text-align: left;\">PMID_23559858_Family_A_IV:5</td><td style=\"text-align: left;\">ERROR</td><td style=\"text-align: left;\">MALFORMED_LABEL</td><td style=\"text-align: left;\">Invalid label 'Intellectual disability.1' found for Intellectual disability (HP:0001249)</td><td style=\"text-align: left;\">Intellectual disability (HP:0001249)</td></tr>\n",
       "<tr><td style=\"text-align: left;\">PMID_23559858_Family_A_IV:4</td><td style=\"text-align: left;\">ERROR</td><td style=\"text-align: left;\">MALFORMED_LABEL</td><td style=\"text-align: left;\">Invalid label 'Intellectual disability.1' found for Intellectual disability (HP:0001249)</td><td style=\"text-align: left;\">Intellectual disability (HP:0001249)</td></tr>\n",
       "<tr><td style=\"text-align: left;\">PMID_23559858_Family_B_IV:5</td><td style=\"text-align: left;\">ERROR</td><td style=\"text-align: left;\">MALFORMED_LABEL</td><td style=\"text-align: left;\">Invalid label 'Intellectual disability.1' found for Intellectual disability (HP:0001249)</td><td style=\"text-align: left;\">Intellectual disability (HP:0001249)</td></tr>\n",
       "</table>"
      ],
      "text/plain": [
       "<IPython.core.display.HTML object>"
      ]
     },
     "metadata": {},
     "output_type": "display_data"
    }
   ],
   "source": [
    "qc = QcVisualizer(cohort_validator=cvalidator)\n",
    "display(HTML(qc.to_summary_html()))"
   ]
  },
  {
   "cell_type": "code",
   "execution_count": 12,
   "id": "1de603f0-d037-4f66-9c8e-b620541d6318",
   "metadata": {},
   "outputs": [
    {
     "data": {
      "text/html": [
       "<table style=\"border: 2px solid black; align: \"left\">\n",
       "<caption>13 phenopackets - PMID:18669544 (n=10); PMID:22940089 (n=3)</caption>\n",
       "<tr><th style=\"text-align: left;font-weight: bold;\">Individual</th><th style=\"text-align: left;font-weight: bold;\">Disease</th><th style=\"text-align: left;font-weight: bold;\">Genotype</th><th style=\"text-align: left;font-weight: bold;\">Phenotypic features</th></tr>\n",
       "<tr><td style=\"text-align: left;\">FO-01 (UNKNOWN; P23Y)</td><td style=\"text-align: left;\">Bardet-Biedl syndrome 1 (OMIM:209900)</td><td style=\"text-align: left;\">NM_024649.5:c.1110+3G>A (homozygous)</td><td style=\"text-align: left;\">Scoliosis (HP:0002650); Myopia (HP:0000545); Reduced visual acuity (HP:0007663); Nyctalopia (HP:0000662); Obesity (HP:0001513); excluded: Postaxial polydactyly (HP:0100259); excluded: Cataract (HP:0000518)</td></tr>\n",
       "<tr><td style=\"text-align: left;\">FO-02 (UNKNOWN; P17Y)</td><td style=\"text-align: left;\">Bardet-Biedl syndrome 1 (OMIM:209900)</td><td style=\"text-align: left;\">NM_024649.5:c.1110+3G>A (homozygous)</td><td style=\"text-align: left;\">Postaxial polydactyly (HP:0100259); Reduced visual acuity (HP:0007663); Nyctalopia (HP:0000662); Intellectual disability (HP:0001249); Obesity (HP:0001513); excluded: Scoliosis (HP:0002650); excluded: Cataract (HP:0000518); excluded: Myopia (HP:0000545)</td></tr>\n",
       "<tr><td style=\"text-align: left;\">FO-03 (UNKNOWN; P29Y)</td><td style=\"text-align: left;\">Bardet-Biedl syndrome 1 (OMIM:209900)</td><td style=\"text-align: left;\">NM_024649.5:c.1110+3G>A (homozygous)</td><td style=\"text-align: left;\">Postaxial polydactyly (HP:0100259); Reduced visual acuity (HP:0007663); Nyctalopia (HP:0000662); Intellectual disability (HP:0001249); excluded: Scoliosis (HP:0002650); excluded: Cataract (HP:0000518); excluded: Myopia (HP:0000545)</td></tr>\n",
       "<tr><td style=\"text-align: left;\">FO-04 (UNKNOWN; P30Y)</td><td style=\"text-align: left;\">Bardet-Biedl syndrome 1 (OMIM:209900)</td><td style=\"text-align: left;\">NM_024649.5:c.1110+3G>A (homozygous)</td><td style=\"text-align: left;\">Myopia (HP:0000545); Reduced visual acuity (HP:0007663); Nyctalopia (HP:0000662); Intellectual disability (HP:0001249); Obesity (HP:0001513); excluded: Postaxial polydactyly (HP:0100259); excluded: Scoliosis (HP:0002650); excluded: Cataract (HP:0000518)</td></tr>\n",
       "<tr><td style=\"text-align: left;\">FO-05 (UNKNOWN; P18Y)</td><td style=\"text-align: left;\">Bardet-Biedl syndrome 1 (OMIM:209900)</td><td style=\"text-align: left;\">NM_024649.5:c.1110+3G>A (homozygous)</td><td style=\"text-align: left;\">Reduced visual acuity (HP:0007663); Nyctalopia (HP:0000662); Intellectual disability (HP:0001249); Obesity (HP:0001513); Primary amenorrhea (HP:0000786); excluded: Postaxial polydactyly (HP:0100259); excluded: Scoliosis (HP:0002650); excluded: Cataract (HP:0000518); excluded: Myopia (HP:0000545)</td></tr>\n",
       "<tr><td style=\"text-align: left;\">FO-06 (UNKNOWN; P20Y)</td><td style=\"text-align: left;\">Bardet-Biedl syndrome 1 (OMIM:209900)</td><td style=\"text-align: left;\">NM_024649.5:c.1110+3G>A (homozygous)</td><td style=\"text-align: left;\">Postaxial polydactyly (HP:0100259); Myopia (HP:0000545); Reduced visual acuity (HP:0007663); Nyctalopia (HP:0000662); Intellectual disability (HP:0001249); Obesity (HP:0001513); Primary amenorrhea (HP:0000786); excluded: Scoliosis (HP:0002650); excluded: Cataract (HP:0000518)</td></tr>\n",
       "<tr><td style=\"text-align: left;\">FO-07 (UNKNOWN; P4Y)</td><td style=\"text-align: left;\">Bardet-Biedl syndrome 1 (OMIM:209900)</td><td style=\"text-align: left;\">NM_024649.5:c.1110+3G>A (homozygous)</td><td style=\"text-align: left;\">Postaxial polydactyly (HP:0100259); Myopia (HP:0000545); Reduced visual acuity (HP:0007663); Nyctalopia (HP:0000662); Obesity (HP:0001513); excluded: Scoliosis (HP:0002650); excluded: Cataract (HP:0000518)</td></tr>\n",
       "<tr><td style=\"text-align: left;\">FO-08 (UNKNOWN; P24Y)</td><td style=\"text-align: left;\">Bardet-Biedl syndrome 1 (OMIM:209900)</td><td style=\"text-align: left;\">NM_024649.5:c.1110+3G>A (homozygous)</td><td style=\"text-align: left;\">Postaxial polydactyly (HP:0100259); Cataract (HP:0000518); Myopia (HP:0000545); Reduced visual acuity (HP:0007663); Nyctalopia (HP:0000662); Intellectual disability (HP:0001249); Obesity (HP:0001513); excluded: Scoliosis (HP:0002650)</td></tr>\n",
       "<tr><td style=\"text-align: left;\">FO-09 (UNKNOWN; P24Y)</td><td style=\"text-align: left;\">Bardet-Biedl syndrome 1 (OMIM:209900)</td><td style=\"text-align: left;\">NM_024649.5:c.1110+3G>A (homozygous)</td><td style=\"text-align: left;\">Postaxial polydactyly (HP:0100259); Reduced visual acuity (HP:0007663); Nyctalopia (HP:0000662); Intellectual disability (HP:0001249); Obesity (HP:0001513); excluded: Scoliosis (HP:0002650); excluded: Cataract (HP:0000518); excluded: Myopia (HP:0000545)</td></tr>\n",
       "<tr><td style=\"text-align: left;\">FO-10 (UNKNOWN; P31Y)</td><td style=\"text-align: left;\">Bardet-Biedl syndrome 1 (OMIM:209900)</td><td style=\"text-align: left;\"><ul> <li>NM_024649.5:c.1110+3G>A (heterozygous)</li> <li>NM_024649.5:c.1169T>G (heterozygous)</li> </ul></td><td style=\"text-align: left;\">Postaxial polydactyly (HP:0100259); Myopia (HP:0000545); Reduced visual acuity (HP:0007663); Nyctalopia (HP:0000662); excluded: Scoliosis (HP:0002650); excluded: Cataract (HP:0000518); excluded: Intellectual disability (HP:0001249); excluded: Obesity (HP:0001513)</td></tr>\n",
       "<tr><td style=\"text-align: left;\">PT1 (FEMALE; P27Y)</td><td style=\"text-align: left;\">Bardet-Biedl syndrome 1 (OMIM:209900)</td><td style=\"text-align: left;\">NM_024649.5:c.1169T>G (homozygous)</td><td style=\"text-align: left;\"><b>P2Y</b>: Nystagmus (HP:0000639)<br/><b>P3Y</b>: Nyctalopia (HP:0000662)<br/>Postaxial polydactyly (HP:0100259); Cataract (HP:0000518); Dermatochalasis (HP:0010750); Ptosis (HP:0000508); Astigmatism (HP:0000483); Reduced visual acuity (HP:0007663); Intellectual disability (HP:0001249); Global developmental delay (HP:0001263); Obesity (HP:0001513); excluded: Myopia (HP:0000545)</td></tr>\n",
       "<tr><td style=\"text-align: left;\">PT2 (FEMALE; P15Y)</td><td style=\"text-align: left;\">Bardet-Biedl syndrome 1 (OMIM:209900)</td><td style=\"text-align: left;\">NM_024649.5:c.1169T>G (homozygous)</td><td style=\"text-align: left;\"><b>P3Y</b>: Reduced visual acuity (HP:0007663)<br/><b>P7Y</b>: Nyctalopia (HP:0000662)<br/>Postaxial polydactyly (HP:0100259); Astigmatism (HP:0000483); Obesity (HP:0001513); excluded: Cataract (HP:0000518); excluded: Dermatochalasis (HP:0010750); excluded: Ptosis (HP:0000508); excluded: Myopia (HP:0000545); excluded: Intellectual disability (HP:0001249); excluded: Global developmental delay (HP:0001263)</td></tr>\n",
       "<tr><td style=\"text-align: left;\">PT3 (MALE; P15Y)</td><td style=\"text-align: left;\">Bardet-Biedl syndrome 1 (OMIM:209900)</td><td style=\"text-align: left;\">NM_024649.5:c.1169T>G (homozygous)</td><td style=\"text-align: left;\"><b>P5Y</b>: Nyctalopia (HP:0000662)<br/>Postaxial polydactyly (HP:0100259); Ptosis (HP:0000508); Astigmatism (HP:0000483); Reduced visual acuity (HP:0007663); Obesity (HP:0001513); excluded: Cataract (HP:0000518); excluded: Dermatochalasis (HP:0010750); excluded: Myopia (HP:0000545); excluded: Intellectual disability (HP:0001249); excluded: Global developmental delay (HP:0001263)</td></tr>\n",
       "</table>"
      ],
      "text/plain": [
       "<IPython.core.display.HTML object>"
      ]
     },
     "metadata": {},
     "output_type": "display_data"
    }
   ],
   "source": [
    "table = IndividualTable(cvalidator.get_error_free_individual_list())\n",
    "display(HTML(table.to_html()))"
   ]
  },
  {
   "cell_type": "code",
   "execution_count": 13,
   "id": "cee6589f-a630-4361-8fe0-024b85cc1540",
   "metadata": {},
   "outputs": [
    {
     "name": "stdout",
     "output_type": "stream",
     "text": [
      "[pyphetools] Ingested 13 GA4GH phenopackets.\n",
      "\tBardet-Biedl syndrome 1 (OMIM:209900): n=13\n",
      "We found a total of 14 unique HPO terms\n",
      "Extracted disease: Bardet-Biedl syndrome 1 (OMIM:209900)\n",
      "Wrote HPOA disease file to OMIM-209900.tab\n"
     ]
    }
   ],
   "source": [
    "pmid = \"PMID:18669544\"\n",
    "df = timporter.create_hpoa_from_phenopackets(pmid=pmid, moi=\"Autosomal recessive\")"
   ]
  },
  {
   "cell_type": "code",
   "execution_count": null,
   "id": "ec90be34-9126-41a9-8aa0-b8b8903625c0",
   "metadata": {},
   "outputs": [],
   "source": []
  }
 ],
 "metadata": {
  "kernelspec": {
   "display_name": "ps24venv",
   "language": "python",
   "name": "ps24venv"
  },
  "language_info": {
   "codemirror_mode": {
    "name": "ipython",
    "version": 3
   },
   "file_extension": ".py",
   "mimetype": "text/x-python",
   "name": "python",
   "nbconvert_exporter": "python",
   "pygments_lexer": "ipython3",
   "version": "3.9.6"
  }
 },
 "nbformat": 4,
 "nbformat_minor": 5
}
