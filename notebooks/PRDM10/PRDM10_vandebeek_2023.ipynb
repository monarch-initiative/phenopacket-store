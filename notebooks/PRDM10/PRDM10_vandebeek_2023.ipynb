{
 "cells": [
  {
   "cell_type": "markdown",
   "id": "ae25dbd2-ede4-408f-ba18-ff6f3d154d24",
   "metadata": {},
   "source": [
    "# PRDM10\n",
    "\n",
    "Data derived from [van de Beek I, et al. (2023) PRDM10 directs FLCN expression in a novel disorder overlapping with Birt-Hogg-Dubé syndrome and familial lipomatosis. Hum Mol Genet. 2023;32(7):1223-1235. PMID:36440963](https://pubmed.ncbi.nlm.nih.gov/36440963/)"
   ]
  },
  {
   "cell_type": "code",
   "execution_count": 5,
   "id": "20fcf0a0-5593-45e8-96b7-b4e76b33c733",
   "metadata": {},
   "outputs": [
    {
     "name": "stdout",
     "output_type": "stream",
     "text": [
      "Using pyphetools version 0.9.71\n"
     ]
    }
   ],
   "source": [
    "from pyphetools.creation import TemplateImporter\n",
    "from pyphetools.visualization import IndividualTable, QcVisualizer\n",
    "from IPython.display import display, HTML\n",
    "import pyphetools\n",
    "print(f\"Using pyphetools version {pyphetools.__version__}\")"
   ]
  },
  {
   "cell_type": "code",
   "execution_count": 6,
   "id": "3e7e842e-60b2-478f-ab2f-d45f74bf2b6e",
   "metadata": {},
   "outputs": [],
   "source": [
    "template = \"input/PRDM10_individuals.xlsx\"\n",
    "hp_json = \"../hp.json\"\n",
    "created_by = \"0000-0002-0736-9199\""
   ]
  },
  {
   "cell_type": "code",
   "execution_count": 9,
   "id": "770fc541-0c75-4968-bfa9-567725504b33",
   "metadata": {},
   "outputs": [
    {
     "name": "stdout",
     "output_type": "stream",
     "text": [
      "HPO version 2024-03-06\n",
      "Created encoders for 21 fields\n",
      "Importing OMIM:620459, Birt-Hogg-Dube syndrome 2, HGNC:13995, PRDM10,  NM_020228.3\n",
      "We output 7 GA4GH phenopackets to the directory phenopackets\n"
     ]
    }
   ],
   "source": [
    "timporter = TemplateImporter(template=template, hp_json=hp_json, created_by=created_by)\n",
    "individual_list, cvalidator = timporter.import_phenopackets_from_template()"
   ]
  },
  {
   "cell_type": "code",
   "execution_count": 10,
   "id": "19d7873d-641e-4396-b8c1-962c3a4da485",
   "metadata": {},
   "outputs": [
    {
     "data": {
      "text/html": [
       "<h2>Cohort validation</h2>\n",
       "<p>No errors found for the cohort with 7 individuals</p>"
      ],
      "text/plain": [
       "<IPython.core.display.HTML object>"
      ]
     },
     "metadata": {},
     "output_type": "display_data"
    }
   ],
   "source": [
    "qc = QcVisualizer(cohort_validator=cvalidator)\n",
    "display(HTML(qc.to_summary_html()))"
   ]
  },
  {
   "cell_type": "code",
   "execution_count": 11,
   "id": "03ed9029",
   "metadata": {},
   "outputs": [
    {
     "data": {
      "text/html": [
       "<table style=\"border: 2px solid black; align: \"left\">\n",
       "<caption>7 phenopackets - PMID:36440963 (n=7)</caption>\n",
       "<tr><th style=\"text-align: left;font-weight: bold;\">Individual</th><th style=\"text-align: left;font-weight: bold;\">Disease</th><th style=\"text-align: left;font-weight: bold;\">Genotype</th><th style=\"text-align: left;font-weight: bold;\">Phenotypic features</th></tr>\n",
       "<tr><td style=\"text-align: left;\">IV-1 (MALE; n/a)</td><td style=\"text-align: left;\">Birt-Hogg-Dube syndrome 2 (OMIM:620459)</td><td style=\"text-align: left;\">NM_020228.3:c.2030G>A (heterozygous)</td><td style=\"text-align: left;\">Multiple lipomas (HP:0001012); Fibrofolliculoma (HP:0030436); Perifollicular fibroma (HP:0032225); excluded: Pulmonary cyst (HP:0032445); excluded: Clear cell renal cell carcinoma (HP:0006770)</td></tr>\n",
       "<tr><td style=\"text-align: left;\">III-2 (MALE; n/a)</td><td style=\"text-align: left;\">Birt-Hogg-Dube syndrome 2 (OMIM:620459)</td><td style=\"text-align: left;\">NM_020228.3:c.2030G>A (heterozygous)</td><td style=\"text-align: left;\">Multiple lipomas (HP:0001012); Fibrofolliculoma (HP:0030436); Perifollicular fibroma (HP:0032225); excluded: Clear cell renal cell carcinoma (HP:0006770)</td></tr>\n",
       "<tr><td style=\"text-align: left;\">III-3 (MALE; n/a)</td><td style=\"text-align: left;\">Birt-Hogg-Dube syndrome 2 (OMIM:620459)</td><td style=\"text-align: left;\">NM_020228.3:c.2030G>A (heterozygous)</td><td style=\"text-align: left;\">Multiple lipomas (HP:0001012); Clear cell renal cell carcinoma (HP:0006770); excluded: Fibrofolliculoma (HP:0030436); excluded: Perifollicular fibroma (HP:0032225)</td></tr>\n",
       "<tr><td style=\"text-align: left;\">III-4 (FEMALE; n/a)</td><td style=\"text-align: left;\">Birt-Hogg-Dube syndrome 2 (OMIM:620459)</td><td style=\"text-align: left;\">NM_020228.3:c.2030G>A (heterozygous)</td><td style=\"text-align: left;\">Multiple lipomas (HP:0001012); Clear cell renal cell carcinoma (HP:0006770); excluded: Fibrofolliculoma (HP:0030436); excluded: Perifollicular fibroma (HP:0032225); excluded: Pulmonary cyst (HP:0032445)</td></tr>\n",
       "<tr><td style=\"text-align: left;\">IV-2 (FEMALE; n/a)</td><td style=\"text-align: left;\">Birt-Hogg-Dube syndrome 2 (OMIM:620459)</td><td style=\"text-align: left;\">NM_020228.3:c.2030G>A (heterozygous)</td><td style=\"text-align: left;\">Multiple lipomas (HP:0001012); Fibrofolliculoma (HP:0030436); Perifollicular fibroma (HP:0032225); excluded: Clear cell renal cell carcinoma (HP:0006770)</td></tr>\n",
       "<tr><td style=\"text-align: left;\">IV-3 (MALE; n/a)</td><td style=\"text-align: left;\">Birt-Hogg-Dube syndrome 2 (OMIM:620459)</td><td style=\"text-align: left;\">NM_020228.3:c.2030G>A (heterozygous)</td><td style=\"text-align: left;\">Multiple lipomas (HP:0001012); Fibrofolliculoma (HP:0030436); Perifollicular fibroma (HP:0032225); Clear cell renal cell carcinoma (HP:0006770); excluded: Pulmonary cyst (HP:0032445)</td></tr>\n",
       "<tr><td style=\"text-align: left;\">IV-4 (FEMALE; n/a)</td><td style=\"text-align: left;\">Birt-Hogg-Dube syndrome 2 (OMIM:620459)</td><td style=\"text-align: left;\">NM_020228.3:c.2030G>A (heterozygous)</td><td style=\"text-align: left;\">Multiple lipomas (HP:0001012); Fibrofolliculoma (HP:0030436); Perifollicular fibroma (HP:0032225); excluded: Clear cell renal cell carcinoma (HP:0006770)</td></tr>\n",
       "</table>"
      ],
      "text/plain": [
       "<IPython.core.display.HTML object>"
      ]
     },
     "metadata": {},
     "output_type": "display_data"
    }
   ],
   "source": [
    "table = IndividualTable(cvalidator.get_error_free_individual_list())\n",
    "display(HTML(table.to_html()))"
   ]
  },
  {
   "cell_type": "code",
   "execution_count": 13,
   "id": "e107e05f-5788-4e07-9187-6695c887a9c1",
   "metadata": {},
   "outputs": [
    {
     "name": "stdout",
     "output_type": "stream",
     "text": [
      "[pyphetools] Ingested 7 GA4GH phenopackets.\n",
      "\tBirt-Hogg-Dube syndrome 2 (OMIM:620459): n=7\n",
      "We found a total of 5 unique HPO terms\n",
      "Extracted disease: Birt-Hogg-Dube syndrome 2 (OMIM:620459)\n",
      "Wrote HPOA disease file to OMIM-620459.tab\n"
     ]
    },
    {
     "data": {
      "text/html": [
       "<div>\n",
       "<style scoped>\n",
       "    .dataframe tbody tr th:only-of-type {\n",
       "        vertical-align: middle;\n",
       "    }\n",
       "\n",
       "    .dataframe tbody tr th {\n",
       "        vertical-align: top;\n",
       "    }\n",
       "\n",
       "    .dataframe thead th {\n",
       "        text-align: right;\n",
       "    }\n",
       "</style>\n",
       "<table border=\"1\" class=\"dataframe\">\n",
       "  <thead>\n",
       "    <tr style=\"text-align: right;\">\n",
       "      <th></th>\n",
       "      <th>#diseaseID</th>\n",
       "      <th>diseaseName</th>\n",
       "      <th>phenotypeID</th>\n",
       "      <th>phenotypeName</th>\n",
       "      <th>onsetID</th>\n",
       "      <th>onsetName</th>\n",
       "      <th>frequency</th>\n",
       "      <th>sex</th>\n",
       "      <th>negation</th>\n",
       "      <th>modifier</th>\n",
       "      <th>description</th>\n",
       "      <th>publication</th>\n",
       "      <th>evidence</th>\n",
       "      <th>biocuration</th>\n",
       "    </tr>\n",
       "  </thead>\n",
       "  <tbody>\n",
       "    <tr>\n",
       "      <th>0</th>\n",
       "      <td>OMIM:620459</td>\n",
       "      <td>Birt-Hogg-Dube syndrome 2</td>\n",
       "      <td>HP:0001012</td>\n",
       "      <td>Multiple lipomas</td>\n",
       "      <td></td>\n",
       "      <td></td>\n",
       "      <td>7/7</td>\n",
       "      <td></td>\n",
       "      <td></td>\n",
       "      <td></td>\n",
       "      <td></td>\n",
       "      <td>PMID:36440963</td>\n",
       "      <td>PCS</td>\n",
       "      <td>ORCID:0000-0002-0736-9199</td>\n",
       "    </tr>\n",
       "    <tr>\n",
       "      <th>1</th>\n",
       "      <td>OMIM:620459</td>\n",
       "      <td>Birt-Hogg-Dube syndrome 2</td>\n",
       "      <td>HP:0030436</td>\n",
       "      <td>Fibrofolliculoma</td>\n",
       "      <td></td>\n",
       "      <td></td>\n",
       "      <td>5/7</td>\n",
       "      <td></td>\n",
       "      <td></td>\n",
       "      <td></td>\n",
       "      <td></td>\n",
       "      <td>PMID:36440963</td>\n",
       "      <td>PCS</td>\n",
       "      <td>ORCID:0000-0002-0736-9199</td>\n",
       "    </tr>\n",
       "  </tbody>\n",
       "</table>\n",
       "</div>"
      ],
      "text/plain": [
       "    #diseaseID                diseaseName phenotypeID     phenotypeName  \\\n",
       "0  OMIM:620459  Birt-Hogg-Dube syndrome 2  HP:0001012  Multiple lipomas   \n",
       "1  OMIM:620459  Birt-Hogg-Dube syndrome 2  HP:0030436  Fibrofolliculoma   \n",
       "\n",
       "  onsetID onsetName frequency sex negation modifier description  \\\n",
       "0                         7/7                                     \n",
       "1                         5/7                                     \n",
       "\n",
       "     publication evidence                biocuration  \n",
       "0  PMID:36440963      PCS  ORCID:0000-0002-0736-9199  \n",
       "1  PMID:36440963      PCS  ORCID:0000-0002-0736-9199  "
      ]
     },
     "execution_count": 13,
     "metadata": {},
     "output_type": "execute_result"
    }
   ],
   "source": [
    "PMID=\"PMID:36440963\"\n",
    "df = timporter.create_hpoa_from_phenopackets(pmid=PMID, moi=\"Autosomal dominant\")\n",
    "df.head(2)"
   ]
  },
  {
   "cell_type": "code",
   "execution_count": null,
   "id": "6a736220-28b8-4fde-9546-c6899bae40ad",
   "metadata": {},
   "outputs": [],
   "source": []
  }
 ],
 "metadata": {
  "kernelspec": {
   "display_name": "ps24venv",
   "language": "python",
   "name": "python3"
  },
  "language_info": {
   "codemirror_mode": {
    "name": "ipython",
    "version": 3
   },
   "file_extension": ".py",
   "mimetype": "text/x-python",
   "name": "python",
   "nbconvert_exporter": "python",
   "pygments_lexer": "ipython3",
   "version": "3.8.10"
  }
 },
 "nbformat": 4,
 "nbformat_minor": 5
}
