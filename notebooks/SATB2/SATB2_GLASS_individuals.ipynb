{
 "cells": [
  {
   "cell_type": "code",
   "execution_count": 1,
   "metadata": {},
   "outputs": [
    {
     "name": "stdout",
     "output_type": "stream",
     "text": [
      "Using pyphetools version 0.9.86\n"
     ]
    },
    {
     "name": "stderr",
     "output_type": "stream",
     "text": [
      "/Users/robin/GIT/phenopacket-store/ps24venv/lib/python3.9/site-packages/urllib3/__init__.py:35: NotOpenSSLWarning: urllib3 v2 only supports OpenSSL 1.1.1+, currently the 'ssl' module is compiled with 'LibreSSL 2.8.3'. See: https://github.com/urllib3/urllib3/issues/3020\n",
      "  warnings.warn(\n"
     ]
    }
   ],
   "source": [
    "from pyphetools.creation import TemplateImporter\n",
    "from pyphetools.visualization import IndividualTable, QcVisualizer\n",
    "from IPython.display import display, HTML\n",
    "import pyphetools\n",
    "print(f\"Using pyphetools version {pyphetools.__version__}\")"
   ]
  },
  {
   "cell_type": "code",
   "execution_count": 2,
   "metadata": {},
   "outputs": [],
   "source": [
    "template = \"input/SATB2_GLASS_individuals.xlsx\"\n",
    "created_by = \"0000-0002-0736-9199\""
   ]
  },
  {
   "cell_type": "code",
   "execution_count": 3,
   "metadata": {},
   "outputs": [
    {
     "name": "stdout",
     "output_type": "stream",
     "text": [
      "HPO version 2024-04-26\n",
      "Created encoders for 28 fields\n",
      "Importing OMIM:612313, Glass syndrome, HGNC:21637, SATB2,  NM_001172509.1\n",
      "[INFO] encoding variant \"c.1136A>C\"\n",
      "https://rest.variantvalidator.org/VariantValidator/variantvalidator/hg38/NM_001172509.1%3Ac.1136A>C/NM_001172509.1?content-type=application%2Fjson\n",
      "[INFO] encoding variant \"c.257T>G\"\n",
      "https://rest.variantvalidator.org/VariantValidator/variantvalidator/hg38/NM_001172509.1%3Ac.257T>G/NM_001172509.1?content-type=application%2Fjson\n",
      "[INFO] encoding variant \"c.1645del\"\n",
      "https://rest.variantvalidator.org/VariantValidator/variantvalidator/hg38/NM_001172509.1%3Ac.1645del/NM_001172509.1?content-type=application%2Fjson\n",
      "[INFO] encoding variant \"c.1627del\"\n",
      "https://rest.variantvalidator.org/VariantValidator/variantvalidator/hg38/NM_001172509.1%3Ac.1627del/NM_001172509.1?content-type=application%2Fjson\n",
      "Could not find allele Exons 5-7\n"
     ]
    },
    {
     "ename": "ValueError",
     "evalue": "[ERROR] We can only map alleles that were passed to the constructor - are you trying to map \"new\" alleles?",
     "output_type": "error",
     "traceback": [
      "\u001b[0;31m---------------------------------------------------------------------------\u001b[0m",
      "\u001b[0;31mValueError\u001b[0m                                Traceback (most recent call last)",
      "Cell \u001b[0;32mIn[3], line 8\u001b[0m\n\u001b[1;32m      6\u001b[0m translocation_set \u001b[38;5;241m=\u001b[39m {\u001b[38;5;124m\"\u001b[39m\u001b[38;5;124mtranslocation\u001b[39m\u001b[38;5;124m\"\u001b[39m,}\n\u001b[1;32m      7\u001b[0m timporter \u001b[38;5;241m=\u001b[39m TemplateImporter(template\u001b[38;5;241m=\u001b[39mtemplate,  created_by\u001b[38;5;241m=\u001b[39mcreated_by)\n\u001b[0;32m----> 8\u001b[0m individual_list, cvalidator \u001b[38;5;241m=\u001b[39m \u001b[43mtimporter\u001b[49m\u001b[38;5;241;43m.\u001b[39;49m\u001b[43mimport_phenopackets_from_template\u001b[49m\u001b[43m(\u001b[49m\u001b[43mdeletions\u001b[49m\u001b[38;5;241;43m=\u001b[39;49m\u001b[43mdeletion_set\u001b[49m\u001b[43m,\u001b[49m\u001b[43m \u001b[49m\u001b[43mtranslocations\u001b[49m\u001b[38;5;241;43m=\u001b[39;49m\u001b[43mtranslocation_set\u001b[49m\u001b[43m)\u001b[49m\n",
      "File \u001b[0;32m~/GIT/phenopacket-store/ps24venv/lib/python3.9/site-packages/pyphetools/creation/import_template.py:167\u001b[0m, in \u001b[0;36mTemplateImporter.import_phenopackets_from_template\u001b[0;34m(self, deletions, duplications, inversions, translocations, hemizygous, leniant_MOI)\u001b[0m\n\u001b[1;32m    160\u001b[0m vman \u001b[38;5;241m=\u001b[39m VariantManager(df\u001b[38;5;241m=\u001b[39mdf, individual_column_name\u001b[38;5;241m=\u001b[39m\u001b[38;5;124m\"\u001b[39m\u001b[38;5;124mindividual_id\u001b[39m\u001b[38;5;124m\"\u001b[39m,\n\u001b[1;32m    161\u001b[0m                         allele_1_column_name\u001b[38;5;241m=\u001b[39m\u001b[38;5;124m\"\u001b[39m\u001b[38;5;124mallele_1\u001b[39m\u001b[38;5;124m\"\u001b[39m,\n\u001b[1;32m    162\u001b[0m                         allele_2_column_name\u001b[38;5;241m=\u001b[39m\u001b[38;5;124m\"\u001b[39m\u001b[38;5;124mallele_2\u001b[39m\u001b[38;5;124m\"\u001b[39m,\n\u001b[1;32m    163\u001b[0m                         gene_id\u001b[38;5;241m=\u001b[39mHGNC_id,\n\u001b[1;32m    164\u001b[0m                         gene_symbol\u001b[38;5;241m=\u001b[39mgene_symbol,\n\u001b[1;32m    165\u001b[0m                         transcript\u001b[38;5;241m=\u001b[39mtranscript)\n\u001b[1;32m    166\u001b[0m \u001b[38;5;28;01mif\u001b[39;00m \u001b[38;5;28mlen\u001b[39m(deletions) \u001b[38;5;241m>\u001b[39m \u001b[38;5;241m0\u001b[39m:\n\u001b[0;32m--> 167\u001b[0m     \u001b[43mvman\u001b[49m\u001b[38;5;241;43m.\u001b[39;49m\u001b[43mcode_as_chromosomal_deletion\u001b[49m\u001b[43m(\u001b[49m\u001b[43mdeletions\u001b[49m\u001b[43m)\u001b[49m\n\u001b[1;32m    168\u001b[0m \u001b[38;5;28;01mif\u001b[39;00m \u001b[38;5;28mlen\u001b[39m(duplications) \u001b[38;5;241m>\u001b[39m \u001b[38;5;241m0\u001b[39m:\n\u001b[1;32m    169\u001b[0m     vman\u001b[38;5;241m.\u001b[39mcode_as_chromosomal_duplication(duplications)\n",
      "File \u001b[0;32m~/GIT/phenopacket-store/ps24venv/lib/python3.9/site-packages/pyphetools/creation/variant_manager.py:195\u001b[0m, in \u001b[0;36mVariantManager.code_as_chromosomal_deletion\u001b[0;34m(self, allele_set)\u001b[0m\n\u001b[1;32m    193\u001b[0m         \u001b[38;5;28;01mif\u001b[39;00m \u001b[38;5;129;01mnot\u001b[39;00m a \u001b[38;5;129;01min\u001b[39;00m \u001b[38;5;28mself\u001b[39m\u001b[38;5;241m.\u001b[39m_unmapped_alleles:\n\u001b[1;32m    194\u001b[0m             \u001b[38;5;28mprint\u001b[39m(\u001b[38;5;124mf\u001b[39m\u001b[38;5;124m\"\u001b[39m\u001b[38;5;124mCould not find allele \u001b[39m\u001b[38;5;132;01m{\u001b[39;00ma\u001b[38;5;132;01m}\u001b[39;00m\u001b[38;5;124m\"\u001b[39m)\n\u001b[0;32m--> 195\u001b[0m     \u001b[38;5;28;01mraise\u001b[39;00m \u001b[38;5;167;01mValueError\u001b[39;00m(\u001b[38;5;124m\"\u001b[39m\u001b[38;5;124m[ERROR] We can only map alleles that were passed to the constructor - are you trying to map \u001b[39m\u001b[38;5;130;01m\\\"\u001b[39;00m\u001b[38;5;124mnew\u001b[39m\u001b[38;5;130;01m\\\"\u001b[39;00m\u001b[38;5;124m alleles?\u001b[39m\u001b[38;5;124m\"\u001b[39m)\n\u001b[1;32m    196\u001b[0m \u001b[38;5;28;01mif\u001b[39;00m \u001b[38;5;28mself\u001b[39m\u001b[38;5;241m.\u001b[39m_gene_id \u001b[38;5;129;01mis\u001b[39;00m \u001b[38;5;28;01mNone\u001b[39;00m \u001b[38;5;129;01mor\u001b[39;00m \u001b[38;5;28mself\u001b[39m\u001b[38;5;241m.\u001b[39m_gene_symbol \u001b[38;5;129;01mis\u001b[39;00m \u001b[38;5;28;01mNone\u001b[39;00m:\n\u001b[1;32m    197\u001b[0m     \u001b[38;5;28;01mraise\u001b[39;00m \u001b[38;5;167;01mValueError\u001b[39;00m(\u001b[38;5;124m\"\u001b[39m\u001b[38;5;124m[ERROR] We cannot use this method unless the gene ID (HGNC) and symbol were passed to the constructor\u001b[39m\u001b[38;5;124m\"\u001b[39m)\n",
      "\u001b[0;31mValueError\u001b[0m: [ERROR] We can only map alleles that were passed to the constructor - are you trying to map \"new\" alleles?"
     ]
    }
   ],
   "source": [
    "deletion_set = {\"Exons 9-10\", \"Exons 7-8\", \"Exons 1-11\", \"Exon 5\", \n",
    "                \"Exons 5-12\", \"Exons 2-4\", \"Exons 4-8\", \"Exons 8-9\", \"Exons 5-8\",\n",
    "                \"Exon 9\", \"Exon 4\", \"Exon 7\", \"Exons 1-12\", \"Exons 9-11\", \"Exons 1-8\", \n",
    "                \"Exons 4-12\",  \"Exons 1-4\", \"Exons 3-11\",          \n",
    "                }\n",
    "translocation_set = {\"translocation\",}\n",
    "duplication_set = {\"DUP Exons 5-7}\n",
    "timporter = TemplateImporter(template=template,  created_by=created_by)\n",
    "individual_list, cvalidator = timporter.import_phenopackets_from_template(deletions=deletion_set, translocations=translocation_set)"
   ]
  },
  {
   "cell_type": "code",
   "execution_count": null,
   "metadata": {},
   "outputs": [],
   "source": [
    "qc = QcVisualizer(cohort_validator=cvalidator)\n",
    "display(HTML(qc.to_summary_html()))"
   ]
  },
  {
   "cell_type": "code",
   "execution_count": null,
   "metadata": {},
   "outputs": [],
   "source": [
    "table = IndividualTable(cvalidator.get_error_free_individual_list())\n",
    "display(HTML(table.to_html()))"
   ]
  },
  {
   "cell_type": "code",
   "execution_count": null,
   "metadata": {},
   "outputs": [],
   "source": [
    "pmid = \"PMID:31021519\"\n",
    "timporter.create_hpoa_from_phenopackets(pmid=pmid, moi=\"Autosomal dominant\")"
   ]
  }
 ],
 "metadata": {
  "kernelspec": {
   "display_name": "ps24venv",
   "language": "python",
   "name": "python3"
  },
  "language_info": {
   "codemirror_mode": {
    "name": "ipython",
    "version": 3
   },
   "file_extension": ".py",
   "mimetype": "text/x-python",
   "name": "python",
   "nbconvert_exporter": "python",
   "pygments_lexer": "ipython3",
   "version": "3.9.6"
  }
 },
 "nbformat": 4,
 "nbformat_minor": 2
}
