{
 "cells": [
  {
   "cell_type": "markdown",
   "id": "4ba5f0be-5ab8-42d2-a6b3-1f6d884d8827",
   "metadata": {},
   "source": [
    "# GNAO1 DEE17\n",
    "[Developmental and epileptic encephalopathy 17](https://omim.org/entry/615473) is caused\n",
    "by monoallelic variants in GNAO1."
   ]
  },
  {
   "cell_type": "code",
   "execution_count": 1,
   "id": "483a65ae-f55e-4a70-b687-02c2d6eb6bf8",
   "metadata": {},
   "outputs": [
    {
     "name": "stdout",
     "output_type": "stream",
     "text": [
      "pyphetools version 0.9.64\n"
     ]
    }
   ],
   "source": [
    "import pyphetools\n",
    "from pyphetools.visualization import IndividualTable, QcVisualizer\n",
    "from IPython.display import display, HTML\n",
    "from pyphetools.creation import TemplateImporter\n",
    "template = \"input/GNAO1_DEE17_individuals.xlsx\"\n",
    "hp_json = \"../hp.json\"\n",
    "created_by = \"0000-0002-0736-9199\"\n",
    "print(f\"pyphetools version {pyphetools.__version__}\")"
   ]
  },
  {
   "cell_type": "code",
   "execution_count": 2,
   "id": "d6dcf7dc-5fe1-4c4c-b209-e080ecbedd2d",
   "metadata": {},
   "outputs": [],
   "source": [
    "timporter = TemplateImporter(template=template, hp_json=hp_json, created_by=created_by)"
   ]
  },
  {
   "cell_type": "code",
   "execution_count": 3,
   "id": "d9d29a6c-f0f1-42f4-8678-e92ce3acaff8",
   "metadata": {},
   "outputs": [
    {
     "name": "stdout",
     "output_type": "stream",
     "text": [
      "HPO version 2024-02-27\n"
     ]
    },
    {
     "ename": "ValueError",
     "evalue": "'deceased' is not in list",
     "output_type": "error",
     "traceback": [
      "\u001b[0;31m---------------------------------------------------------------------------\u001b[0m",
      "\u001b[0;31mValueError\u001b[0m                                Traceback (most recent call last)",
      "Cell \u001b[0;32mIn[3], line 1\u001b[0m\n\u001b[0;32m----> 1\u001b[0m individuals, cvalidator \u001b[38;5;241m=\u001b[39m \u001b[43mtimporter\u001b[49m\u001b[38;5;241;43m.\u001b[39;49m\u001b[43mimport_phenopackets_from_template\u001b[49m\u001b[43m(\u001b[49m\u001b[43m)\u001b[49m\n",
      "File \u001b[0;32m~/GIT/phenopacket-store/ps24venv/lib/python3.8/site-packages/pyphetools/creation/import_template.py:143\u001b[0m, in \u001b[0;36mTemplateImporter.import_phenopackets_from_template\u001b[0;34m(self, deletions, duplications, inversions)\u001b[0m\n\u001b[1;32m    141\u001b[0m \u001b[38;5;28mprint\u001b[39m(\u001b[38;5;124mf\u001b[39m\u001b[38;5;124m\"\u001b[39m\u001b[38;5;124mHPO version \u001b[39m\u001b[38;5;132;01m{\u001b[39;00mhpo_ontology\u001b[38;5;241m.\u001b[39mversion\u001b[38;5;132;01m}\u001b[39;00m\u001b[38;5;124m\"\u001b[39m)\n\u001b[1;32m    142\u001b[0m df \u001b[38;5;241m=\u001b[39m pd\u001b[38;5;241m.\u001b[39mread_excel(\u001b[38;5;28mself\u001b[39m\u001b[38;5;241m.\u001b[39m_template)\n\u001b[0;32m--> 143\u001b[0m encoder \u001b[38;5;241m=\u001b[39m \u001b[43mCaseTemplateEncoder\u001b[49m\u001b[43m(\u001b[49m\u001b[43mdf\u001b[49m\u001b[38;5;241;43m=\u001b[39;49m\u001b[43mdf\u001b[49m\u001b[43m,\u001b[49m\u001b[43m \u001b[49m\u001b[43mhpo_cr\u001b[49m\u001b[38;5;241;43m=\u001b[39;49m\u001b[43mhpo_cr\u001b[49m\u001b[43m,\u001b[49m\u001b[43m \u001b[49m\u001b[43mcreated_by\u001b[49m\u001b[38;5;241;43m=\u001b[39;49m\u001b[38;5;28;43mself\u001b[39;49m\u001b[38;5;241;43m.\u001b[39;49m\u001b[43m_created_by\u001b[49m\u001b[43m,\u001b[49m\u001b[43m \u001b[49m\u001b[43mhpo_ontology\u001b[49m\u001b[38;5;241;43m=\u001b[39;49m\u001b[43mhpo_ontology\u001b[49m\u001b[43m)\u001b[49m\n\u001b[1;32m    144\u001b[0m individuals \u001b[38;5;241m=\u001b[39m encoder\u001b[38;5;241m.\u001b[39mget_individuals()\n\u001b[1;32m    145\u001b[0m disease_id, disease_label, HGNC_id, gene_symbol, transcript \u001b[38;5;241m=\u001b[39m TemplateImporter\u001b[38;5;241m.\u001b[39m_get_data_from_template(df)\n",
      "File \u001b[0;32m~/GIT/phenopacket-store/ps24venv/lib/python3.8/site-packages/pyphetools/creation/case_template_encoder.py:230\u001b[0m, in \u001b[0;36mCaseTemplateEncoder.__init__\u001b[0;34m(self, df, hpo_cr, created_by, hpo_ontology)\u001b[0m\n\u001b[1;32m    228\u001b[0m idx \u001b[38;5;241m=\u001b[39m \u001b[38;5;241m0\u001b[39m\n\u001b[1;32m    229\u001b[0m \u001b[38;5;66;03m## The deceased field is optional\u001b[39;00m\n\u001b[0;32m--> 230\u001b[0m \u001b[38;5;28;01mif\u001b[39;00m \u001b[43mheader_1\u001b[49m\u001b[38;5;241;43m.\u001b[39;49m\u001b[43mindex\u001b[49m\u001b[43m(\u001b[49m\u001b[38;5;124;43m\"\u001b[39;49m\u001b[38;5;124;43mdeceased\u001b[39;49m\u001b[38;5;124;43m\"\u001b[39;49m\u001b[43m)\u001b[49m \u001b[38;5;241m>\u001b[39m \u001b[38;5;241m0\u001b[39m:\n\u001b[1;32m    231\u001b[0m     required_h1 \u001b[38;5;241m=\u001b[39m OPTIONAL_H1_FIELDS\n\u001b[1;32m    232\u001b[0m     required_h2 \u001b[38;5;241m=\u001b[39m OPTIONAL_H2_FIELDS\n",
      "\u001b[0;31mValueError\u001b[0m: 'deceased' is not in list"
     ]
    }
   ],
   "source": [
    "individuals, cvalidator = timporter.import_phenopackets_from_template()"
   ]
  },
  {
   "cell_type": "code",
   "execution_count": null,
   "id": "d8c8b2cd-ac2f-4a1b-9837-57629674039a",
   "metadata": {},
   "outputs": [],
   "source": [
    "qc = QcVisualizer(cohort_validator=cvalidator)\n",
    "display(HTML(qc.to_summary_html()))"
   ]
  },
  {
   "cell_type": "code",
   "execution_count": null,
   "id": "846c8002-183f-44ce-966d-d21ab81ee7a2",
   "metadata": {},
   "outputs": [],
   "source": [
    "table = IndividualTable(individuals)\n",
    "display(HTML(table.to_html()))"
   ]
  },
  {
   "cell_type": "code",
   "execution_count": null,
   "id": "4b264f7d-0d56-487c-b1cd-f1d8883f71c9",
   "metadata": {},
   "outputs": [],
   "source": [
    "df = timporter.create_hpoa_from_phenopackets(pmid=\"PMID:23993195\", moi=\"Autosomal dominant\")"
   ]
  },
  {
   "cell_type": "code",
   "execution_count": null,
   "id": "53ac12d8-11d4-4238-95e7-60b8d8ba3745",
   "metadata": {},
   "outputs": [],
   "source": []
  }
 ],
 "metadata": {
  "kernelspec": {
   "display_name": "Python 3 (ipykernel)",
   "language": "python",
   "name": "python3"
  },
  "language_info": {
   "codemirror_mode": {
    "name": "ipython",
    "version": 3
   },
   "file_extension": ".py",
   "mimetype": "text/x-python",
   "name": "python",
   "nbconvert_exporter": "python",
   "pygments_lexer": "ipython3",
   "version": "3.8.10"
  }
 },
 "nbformat": 4,
 "nbformat_minor": 5
}
