{
 "cells": [
  {
   "cell_type": "markdown",
   "id": "4ba5f0be-5ab8-42d2-a6b3-1f6d884d8827",
   "metadata": {},
   "source": [
    "# GNAO1 DEE17\n",
    "[Developmental and epileptic encephalopathy 17](https://omim.org/entry/615473) is caused\n",
    "by monoallelic variants in GNAO1."
   ]
  },
  {
   "cell_type": "code",
   "execution_count": 3,
   "id": "483a65ae-f55e-4a70-b687-02c2d6eb6bf8",
   "metadata": {},
   "outputs": [
    {
     "name": "stdout",
     "output_type": "stream",
     "text": [
      "pyphetools version 0.9.63\n"
     ]
    }
   ],
   "source": [
    "import pyphetools\n",
    "from pyphetools.visualization import IndividualTable, QcVisualizer\n",
    "from IPython.display import display, HTML\n",
    "from pyphetools.creation import TemplateImporter\n",
    "template = \"input/GNAO1_DEE17_individuals.xlsx\"\n",
    "hp_json = \"../hp.json\"\n",
    "created_by = \"0000-0002-0736-9199\"\n",
    "print(f\"pyphetools version {pyphetools.__version__}\")"
   ]
  },
  {
   "cell_type": "code",
   "execution_count": 6,
   "id": "d6dcf7dc-5fe1-4c4c-b209-e080ecbedd2d",
   "metadata": {},
   "outputs": [],
   "source": [
    "timporter = TemplateImporter(template=template, hp_json=hp_json, created_by=created_by)"
   ]
  },
  {
   "cell_type": "code",
   "execution_count": 7,
   "id": "d9d29a6c-f0f1-42f4-8678-e92ce3acaff8",
   "metadata": {},
   "outputs": [
    {
     "name": "stdout",
     "output_type": "stream",
     "text": [
      "HPO version 2024-02-27\n",
      "Created encoders for 22 fields\n",
      " we got OMIM:615473  NM_020988.3\n",
      "We output 2 GA4GH phenopackets to the directory phenopackets\n"
     ]
    }
   ],
   "source": [
    "individuals, cvalidator = timporter.import_phenopackets_from_template()"
   ]
  },
  {
   "cell_type": "code",
   "execution_count": 8,
   "id": "d8c8b2cd-ac2f-4a1b-9837-57629674039a",
   "metadata": {},
   "outputs": [
    {
     "data": {
      "text/html": [
       "<h2>Cohort validation</h2>\n",
       "<p>No errors found for the cohort with 2 individuals</p>"
      ],
      "text/plain": [
       "<IPython.core.display.HTML object>"
      ]
     },
     "metadata": {},
     "output_type": "display_data"
    }
   ],
   "source": [
    "qc = QcVisualizer(cohort_validator=cvalidator)\n",
    "display(HTML(qc.to_summary_html()))"
   ]
  },
  {
   "cell_type": "code",
   "execution_count": 9,
   "id": "846c8002-183f-44ce-966d-d21ab81ee7a2",
   "metadata": {},
   "outputs": [
    {
     "data": {
      "text/html": [
       "<table style=\"border: 2px solid black; align: \"left\">\n",
       "<caption>2 phenopackets - PMID:23993195 (n=2)</caption>\n",
       "<tr><th style=\"text-align: left;font-weight: bold;\">Individual</th><th style=\"text-align: left;font-weight: bold;\">Disease</th><th style=\"text-align: left;font-weight: bold;\">Genotype</th><th style=\"text-align: left;font-weight: bold;\">Phenotypic features</th></tr>\n",
       "<tr><td style=\"text-align: left;\">Individual 1 (FEMALE; P13Y)</td><td style=\"text-align: left;\">Developmental and epileptic encephalopathy 17  (OMIM:615473)</td><td style=\"text-align: left;\">NM_020988.3:c.836T>A (heterozygous)</td><td style=\"text-align: left;\"><b>P4D</b>: Tonic seizure (HP:0032792); EEG with burst suppression (HP:0010851)<br/>excluded: Hypsarrhythmia (HP:0002521); excluded: Dystonia (HP:0001332); excluded: Chorea (HP:0002072); excluded: Athetosis (HP:0002305)</td></tr>\n",
       "<tr><td style=\"text-align: left;\">Individual 2 (FEMALE; P4Y1M)</td><td style=\"text-align: left;\">Developmental and epileptic encephalopathy 17  (OMIM:615473)</td><td style=\"text-align: left;\">NM_020988.3:c.521A>G (heterozygous)</td><td style=\"text-align: left;\"><b>P3M</b>: Hypsarrhythmia (HP:0002521)<br/><b>P4Y1M</b>: Tonic seizure (HP:0032792); EEG with burst suppression (HP:0010851)<br/>excluded: Dystonia (HP:0001332); excluded: Chorea (HP:0002072); excluded: Athetosis (HP:0002305)</td></tr>\n",
       "</table>"
      ],
      "text/plain": [
       "<IPython.core.display.HTML object>"
      ]
     },
     "metadata": {},
     "output_type": "display_data"
    }
   ],
   "source": [
    "table = IndividualTable(individuals)\n",
    "display(HTML(table.to_html()))"
   ]
  },
  {
   "cell_type": "code",
   "execution_count": 10,
   "id": "4b264f7d-0d56-487c-b1cd-f1d8883f71c9",
   "metadata": {},
   "outputs": [
    {
     "name": "stdout",
     "output_type": "stream",
     "text": [
      "[pyphetools] Ingested 2 GA4GH phenopackets.\n",
      "\tDevelopmental and epileptic encephalopathy 17  (OMIM:615473): n=2\n",
      "We found a total of 6 unique HPO terms\n",
      "Extracted disease: Developmental and epileptic encephalopathy 17  (OMIM:615473)\n",
      "Wrote HPOA disease file to OMIM-615473.tab\n"
     ]
    }
   ],
   "source": [
    "df = timporter.create_hpoa_from_phenopackets(pmid=\"PMID:23993195\", moi=\"Autosomal dominant\")"
   ]
  },
  {
   "cell_type": "code",
   "execution_count": null,
   "id": "53ac12d8-11d4-4238-95e7-60b8d8ba3745",
   "metadata": {},
   "outputs": [],
   "source": []
  }
 ],
 "metadata": {
  "kernelspec": {
   "display_name": "Python 3 (ipykernel)",
   "language": "python",
   "name": "python3"
  },
  "language_info": {
   "codemirror_mode": {
    "name": "ipython",
    "version": 3
   },
   "file_extension": ".py",
   "mimetype": "text/x-python",
   "name": "python",
   "nbconvert_exporter": "python",
   "pygments_lexer": "ipython3",
   "version": "3.8.10"
  }
 },
 "nbformat": 4,
 "nbformat_minor": 5
}
