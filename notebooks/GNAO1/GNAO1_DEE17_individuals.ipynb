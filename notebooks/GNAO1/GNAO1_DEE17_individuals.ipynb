{
 "cells": [
  {
   "cell_type": "markdown",
   "id": "4ba5f0be-5ab8-42d2-a6b3-1f6d884d8827",
   "metadata": {},
   "source": [
    "# GNAO1 DEE17\n",
    "to do short intro to DEE17"
   ]
  },
  {
   "cell_type": "code",
   "execution_count": 1,
   "id": "483a65ae-f55e-4a70-b687-02c2d6eb6bf8",
   "metadata": {},
   "outputs": [
    {
     "name": "stdout",
     "output_type": "stream",
     "text": [
      "Using pyphetools version 0.9.56\n"
     ]
    }
   ],
   "source": [
    "import pandas as pd\n",
    "from IPython.display import display, HTML\n",
    "pd.set_option('display.max_colwidth', None) # show entire column contents, important!\n",
    "from collections import defaultdict\n",
    "from pyphetools.creation import *\n",
    "from pyphetools.visualization import *\n",
    "from pyphetools.validation import *\n",
    "import pyphetools\n",
    "print(f\"Using pyphetools version {pyphetools.__version__}\")"
   ]
  },
  {
   "cell_type": "code",
   "execution_count": 2,
   "id": "d6dcf7dc-5fe1-4c4c-b209-e080ecbedd2d",
   "metadata": {},
   "outputs": [
    {
     "name": "stdout",
     "output_type": "stream",
     "text": [
      "HPO version 2024-02-27\n"
     ]
    }
   ],
   "source": [
    "parser = HpoParser(hpo_json_file=\"../hp.json\")\n",
    "hpo_cr = parser.get_hpo_concept_recognizer()\n",
    "hpo_version = parser.get_version()\n",
    "hpo_ontology = parser.get_ontology()\n",
    "created_by=\"ORCID:0000-0002-0736-9199\"\n",
    "print(f\"HPO version {hpo_version}\")"
   ]
  },
  {
   "cell_type": "code",
   "execution_count": 4,
   "id": "d9d29a6c-f0f1-42f4-8678-e92ce3acaff8",
   "metadata": {},
   "outputs": [
    {
     "data": {
      "text/html": [
       "<div>\n",
       "<style scoped>\n",
       "    .dataframe tbody tr th:only-of-type {\n",
       "        vertical-align: middle;\n",
       "    }\n",
       "\n",
       "    .dataframe tbody tr th {\n",
       "        vertical-align: top;\n",
       "    }\n",
       "\n",
       "    .dataframe thead th {\n",
       "        text-align: right;\n",
       "    }\n",
       "</style>\n",
       "<table border=\"1\" class=\"dataframe\">\n",
       "  <thead>\n",
       "    <tr style=\"text-align: right;\">\n",
       "      <th></th>\n",
       "      <th>PMID</th>\n",
       "      <th>title</th>\n",
       "      <th>individual_id</th>\n",
       "      <th>comment</th>\n",
       "      <th>disease_id</th>\n",
       "      <th>disease_label</th>\n",
       "      <th>transcript</th>\n",
       "      <th>allele_1</th>\n",
       "      <th>allele_2</th>\n",
       "      <th>variant.comment</th>\n",
       "      <th>age_of_onset</th>\n",
       "      <th>age_at_last_encounter</th>\n",
       "      <th>sex</th>\n",
       "      <th>HPO</th>\n",
       "      <th>Tonic seizure</th>\n",
       "      <th>EEG with burst suppression</th>\n",
       "      <th>Hypsarrhythmia</th>\n",
       "      <th>Dystonia</th>\n",
       "      <th>Chorea</th>\n",
       "      <th>Athetosis</th>\n",
       "    </tr>\n",
       "  </thead>\n",
       "  <tbody>\n",
       "    <tr>\n",
       "      <th>0</th>\n",
       "      <td>str</td>\n",
       "      <td>str</td>\n",
       "      <td>str</td>\n",
       "      <td>optional str</td>\n",
       "      <td>str</td>\n",
       "      <td>str</td>\n",
       "      <td>str</td>\n",
       "      <td>str</td>\n",
       "      <td>str</td>\n",
       "      <td>optional str</td>\n",
       "      <td>age</td>\n",
       "      <td>age</td>\n",
       "      <td>M:F:O:U</td>\n",
       "      <td>na</td>\n",
       "      <td>HP:0032792</td>\n",
       "      <td>HP:0010851</td>\n",
       "      <td>HP:0002521</td>\n",
       "      <td>HP:0001332</td>\n",
       "      <td>HP:0002072</td>\n",
       "      <td>HP:0002305</td>\n",
       "    </tr>\n",
       "    <tr>\n",
       "      <th>1</th>\n",
       "      <td>PMID:23993195</td>\n",
       "      <td>De Novo mutations in GNAO1, encoding a Gαo subunit of heterotrimeric G proteins, cause epileptic encephalopathy</td>\n",
       "      <td>Individual 1</td>\n",
       "      <td>NaN</td>\n",
       "      <td>OMIM:615473</td>\n",
       "      <td>Developmental and epileptic encephalopathy 17</td>\n",
       "      <td>NM_020988.3</td>\n",
       "      <td>c.836T&gt;A</td>\n",
       "      <td>na</td>\n",
       "      <td>RCV000056405.29</td>\n",
       "      <td>P4D</td>\n",
       "      <td>P13Y</td>\n",
       "      <td>F</td>\n",
       "      <td>na</td>\n",
       "      <td>P4D</td>\n",
       "      <td>P4D</td>\n",
       "      <td>excluded</td>\n",
       "      <td>excluded</td>\n",
       "      <td>excluded</td>\n",
       "      <td>excluded</td>\n",
       "    </tr>\n",
       "    <tr>\n",
       "      <th>2</th>\n",
       "      <td>PMID:23993195</td>\n",
       "      <td>De Novo mutations in GNAO1, encoding a Gαo subunit of heterotrimeric G proteins, cause epileptic encephalopathy</td>\n",
       "      <td>Individual 2</td>\n",
       "      <td>NaN</td>\n",
       "      <td>OMIM:615473</td>\n",
       "      <td>Developmental and epileptic encephalopathy 17</td>\n",
       "      <td>NM_020988.3</td>\n",
       "      <td>c.521A&gt;G</td>\n",
       "      <td>na</td>\n",
       "      <td>VCV000066113.3</td>\n",
       "      <td>P29D</td>\n",
       "      <td>P4Y1M</td>\n",
       "      <td>F</td>\n",
       "      <td>na</td>\n",
       "      <td>P4Y1M</td>\n",
       "      <td>P4Y1M</td>\n",
       "      <td>P3M</td>\n",
       "      <td>excluded</td>\n",
       "      <td>excluded</td>\n",
       "      <td>excluded</td>\n",
       "    </tr>\n",
       "  </tbody>\n",
       "</table>\n",
       "</div>"
      ],
      "text/plain": [
       "            PMID  \\\n",
       "0            str   \n",
       "1  PMID:23993195   \n",
       "2  PMID:23993195   \n",
       "\n",
       "                                                                                                             title  \\\n",
       "0                                                                                                              str   \n",
       "1  De Novo mutations in GNAO1, encoding a Gαo subunit of heterotrimeric G proteins, cause epileptic encephalopathy   \n",
       "2  De Novo mutations in GNAO1, encoding a Gαo subunit of heterotrimeric G proteins, cause epileptic encephalopathy   \n",
       "\n",
       "  individual_id       comment   disease_id  \\\n",
       "0           str  optional str          str   \n",
       "1  Individual 1           NaN  OMIM:615473   \n",
       "2  Individual 2           NaN  OMIM:615473   \n",
       "\n",
       "                                    disease_label   transcript  allele_1  \\\n",
       "0                                             str          str       str   \n",
       "1  Developmental and epileptic encephalopathy 17   NM_020988.3  c.836T>A   \n",
       "2  Developmental and epileptic encephalopathy 17   NM_020988.3  c.521A>G   \n",
       "\n",
       "  allele_2  variant.comment age_of_onset age_at_last_encounter      sex HPO  \\\n",
       "0      str     optional str          age                   age  M:F:O:U  na   \n",
       "1       na  RCV000056405.29          P4D                  P13Y        F  na   \n",
       "2       na   VCV000066113.3         P29D                 P4Y1M        F  na   \n",
       "\n",
       "  Tonic seizure EEG with burst suppression Hypsarrhythmia    Dystonia  \\\n",
       "0    HP:0032792                 HP:0010851     HP:0002521  HP:0001332   \n",
       "1           P4D                        P4D       excluded    excluded   \n",
       "2         P4Y1M                      P4Y1M            P3M    excluded   \n",
       "\n",
       "       Chorea   Athetosis  \n",
       "0  HP:0002072  HP:0002305  \n",
       "1    excluded    excluded  \n",
       "2    excluded    excluded  "
      ]
     },
     "execution_count": 4,
     "metadata": {},
     "output_type": "execute_result"
    }
   ],
   "source": [
    "df = pd.read_excel(\"input/GNAO1_DEE17_individuals.xlsx\")\n",
    "df.head(20)"
   ]
  },
  {
   "cell_type": "code",
   "execution_count": 5,
   "id": "d8c8b2cd-ac2f-4a1b-9837-57629674039a",
   "metadata": {},
   "outputs": [
    {
     "name": "stdout",
     "output_type": "stream",
     "text": [
      "Created encoders for 20 fields\n"
     ]
    }
   ],
   "source": [
    "encoder = CaseTemplateEncoder(df=df, hpo_cr=hpo_cr, created_by=created_by)\n",
    "individuals = encoder.get_individuals()"
   ]
  },
  {
   "cell_type": "code",
   "execution_count": 6,
   "id": "846c8002-183f-44ce-966d-d21ab81ee7a2",
   "metadata": {},
   "outputs": [
    {
     "name": "stdout",
     "output_type": "stream",
     "text": [
      "[INFO] encoding variant \"c.521A>G\"\n",
      "https://rest.variantvalidator.org/VariantValidator/variantvalidator/hg38/NM_020988.3%3Ac.521A>G/NM_020988.3?content-type=application%2Fjson\n",
      "[INFO] encoding variant \"c.836T>A\"\n",
      "https://rest.variantvalidator.org/VariantValidator/variantvalidator/hg38/NM_020988.3%3Ac.836T>A/NM_020988.3?content-type=application%2Fjson\n"
     ]
    }
   ],
   "source": [
    "GNAO1_transcript = \"NM_020988.3\"\n",
    "vmanager = VariantManager(df=df,\n",
    "                          individual_column_name=\"individual_id\",\n",
    "                          gene_symbol=\"GNAO1\",\n",
    "                          transcript=GNAO1_transcript,\n",
    "                          allele_1_column_name=\"allele_1\")"
   ]
  },
  {
   "cell_type": "code",
   "execution_count": 7,
   "id": "6a282a77-4512-4751-806a-813a7e91ab6c",
   "metadata": {},
   "outputs": [
    {
     "data": {
      "text/html": [
       "<div>\n",
       "<style scoped>\n",
       "    .dataframe tbody tr th:only-of-type {\n",
       "        vertical-align: middle;\n",
       "    }\n",
       "\n",
       "    .dataframe tbody tr th {\n",
       "        vertical-align: top;\n",
       "    }\n",
       "\n",
       "    .dataframe thead th {\n",
       "        text-align: right;\n",
       "    }\n",
       "</style>\n",
       "<table border=\"1\" class=\"dataframe\">\n",
       "  <thead>\n",
       "    <tr style=\"text-align: right;\">\n",
       "      <th></th>\n",
       "      <th>status</th>\n",
       "      <th>count</th>\n",
       "      <th>alleles</th>\n",
       "    </tr>\n",
       "  </thead>\n",
       "  <tbody>\n",
       "    <tr>\n",
       "      <th>0</th>\n",
       "      <td>mapped</td>\n",
       "      <td>2</td>\n",
       "      <td>c.521A&gt;G, c.836T&gt;A</td>\n",
       "    </tr>\n",
       "    <tr>\n",
       "      <th>1</th>\n",
       "      <td>unmapped</td>\n",
       "      <td>0</td>\n",
       "      <td></td>\n",
       "    </tr>\n",
       "  </tbody>\n",
       "</table>\n",
       "</div>"
      ],
      "text/plain": [
       "     status  count             alleles\n",
       "0    mapped      2  c.521A>G, c.836T>A\n",
       "1  unmapped      0                    "
      ]
     },
     "execution_count": 7,
     "metadata": {},
     "output_type": "execute_result"
    }
   ],
   "source": [
    "vmanager.to_summary()"
   ]
  },
  {
   "cell_type": "code",
   "execution_count": 8,
   "id": "b0b4ba3c-b669-45a6-bcd2-61478ac5f5df",
   "metadata": {},
   "outputs": [],
   "source": [
    "vmanager.add_variants_to_individuals(individuals)"
   ]
  },
  {
   "cell_type": "code",
   "execution_count": 10,
   "id": "7dc8fbd8-611a-4a91-b81c-8782a74f22a8",
   "metadata": {},
   "outputs": [
    {
     "data": {
      "text/html": [
       "<h2>Cohort validation</h2>\n",
       "<p>No errors found for the cohort with 2 individuals</p>"
      ],
      "text/plain": [
       "<IPython.core.display.HTML object>"
      ]
     },
     "metadata": {},
     "output_type": "display_data"
    }
   ],
   "source": [
    "cvalidator = CohortValidator(cohort=individuals, ontology=hpo_ontology, min_hpo=1,\n",
    "                                allelic_requirement=AllelicRequirement.MONO_ALLELIC)\n",
    "qc = QcVisualizer(cohort_validator=cvalidator)\n",
    "display(HTML(qc.to_summary_html()))"
   ]
  },
  {
   "cell_type": "code",
   "execution_count": 11,
   "id": "09da658b-f37e-415f-88bd-c4656c81e7de",
   "metadata": {},
   "outputs": [
    {
     "data": {
      "text/html": [
       "<table style=\"border: 2px solid black; align: \"left\">\n",
       "<caption>2 phenopackets - PMID:23993195 (n=2)</caption>\n",
       "<tr><th style=\"text-align: left;font-weight: bold;\">Individual</th><th style=\"text-align: left;font-weight: bold;\">Disease</th><th style=\"text-align: left;font-weight: bold;\">Genotype</th><th style=\"text-align: left;font-weight: bold;\">Phenotypic features</th></tr>\n",
       "<tr><td style=\"text-align: left;\">Individual 1 (FEMALE; P13Y)</td><td style=\"text-align: left;\">Developmental and epileptic encephalopathy 17  (OMIM:615473)</td><td style=\"text-align: left;\">NM_020988.3:c.836T>A (heterozygous)</td><td style=\"text-align: left;\"><b>P4D</b>: Tonic seizure (HP:0032792); EEG with burst suppression (HP:0010851)<br/>excluded: Hypsarrhythmia (HP:0002521); excluded: Dystonia (HP:0001332); excluded: Chorea (HP:0002072); excluded: Athetosis (HP:0002305)</td></tr>\n",
       "<tr><td style=\"text-align: left;\">Individual 2 (FEMALE; P4Y1M)</td><td style=\"text-align: left;\">Developmental and epileptic encephalopathy 17  (OMIM:615473)</td><td style=\"text-align: left;\">NM_020988.3:c.521A>G (heterozygous)</td><td style=\"text-align: left;\"><b>P3M</b>: Hypsarrhythmia (HP:0002521)<br/><b>P4Y1M</b>: Tonic seizure (HP:0032792); EEG with burst suppression (HP:0010851)<br/>excluded: Dystonia (HP:0001332); excluded: Chorea (HP:0002072); excluded: Athetosis (HP:0002305)</td></tr>\n",
       "</table>"
      ],
      "text/plain": [
       "<IPython.core.display.HTML object>"
      ]
     },
     "metadata": {},
     "output_type": "display_data"
    }
   ],
   "source": [
    "individuals = cvalidator.get_error_free_individual_list()\n",
    "table = IndividualTable(individuals)\n",
    "display(HTML(table.to_html()))"
   ]
  },
  {
   "cell_type": "code",
   "execution_count": 12,
   "id": "2cb98c5e-1d9c-4f39-b3ec-7fc94613595b",
   "metadata": {},
   "outputs": [
    {
     "name": "stdout",
     "output_type": "stream",
     "text": [
      "We output 2 GA4GH phenopackets to the directory phenopackets\n"
     ]
    }
   ],
   "source": [
    "encoder.output_individuals_as_phenopackets(individual_list=individuals)"
   ]
  },
  {
   "cell_type": "code",
   "execution_count": null,
   "id": "4b264f7d-0d56-487c-b1cd-f1d8883f71c9",
   "metadata": {},
   "outputs": [],
   "source": []
  }
 ],
 "metadata": {
  "kernelspec": {
   "display_name": "Python 3 (ipykernel)",
   "language": "python",
   "name": "python3"
  },
  "language_info": {
   "codemirror_mode": {
    "name": "ipython",
    "version": 3
   },
   "file_extension": ".py",
   "mimetype": "text/x-python",
   "name": "python",
   "nbconvert_exporter": "python",
   "pygments_lexer": "ipython3",
   "version": "3.8.10"
  }
 },
 "nbformat": 4,
 "nbformat_minor": 5
}
