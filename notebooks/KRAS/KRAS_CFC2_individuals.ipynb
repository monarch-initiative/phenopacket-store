{
 "cells": [
  {
   "cell_type": "markdown",
   "metadata": {},
   "source": [
    "# KRAS\n",
    "[cardiofaciocutaneous syndrome-2 (CFC2)](https://omim.org/entry/615278) is caused by heterozygous mutation in the KRAS gene."
   ]
  },
  {
   "cell_type": "code",
   "execution_count": 2,
   "metadata": {},
   "outputs": [
    {
     "name": "stderr",
     "output_type": "stream",
     "text": [
      "/Users/robin/GIT/phenopacket-store/ps24venv/lib/python3.9/site-packages/urllib3/__init__.py:35: NotOpenSSLWarning: urllib3 v2 only supports OpenSSL 1.1.1+, currently the 'ssl' module is compiled with 'LibreSSL 2.8.3'. See: https://github.com/urllib3/urllib3/issues/3020\n",
      "  warnings.warn(\n"
     ]
    },
    {
     "name": "stdout",
     "output_type": "stream",
     "text": [
      "Using pyphetools version 0.9.91\n"
     ]
    }
   ],
   "source": [
    "from pyphetools.creation import TemplateImporter\n",
    "from pyphetools.visualization import IndividualTable, QcVisualizer\n",
    "from IPython.display import display, HTML\n",
    "import pyphetools\n",
    "print(f\"Using pyphetools version {pyphetools.__version__}\")"
   ]
  },
  {
   "cell_type": "code",
   "execution_count": 4,
   "metadata": {},
   "outputs": [],
   "source": [
    "template = \"input/KRAS_CFC2_individuals.xlsx\"\n",
    "created_by = \"0000-0002-0736-9199\""
   ]
  },
  {
   "cell_type": "code",
   "execution_count": 5,
   "metadata": {},
   "outputs": [
    {
     "name": "stdout",
     "output_type": "stream",
     "text": [
      "HPO version 2024-04-26\n",
      "Created encoders for 68 fields\n",
      "Importing OMIM:615278, Cardiofaciocutaneous syndrome 2, HGNC:6407, KRAS,  NM_004985.5\n",
      "[INFO] encoding variant \"c.64C>G\"\n",
      "https://rest.variantvalidator.org/VariantValidator/variantvalidator/hg38/NM_004985.5%3Ac.64C>G/NM_004985.5?content-type=application%2Fjson\n",
      "We output 1 GA4GH phenopackets to the directory phenopackets\n"
     ]
    }
   ],
   "source": [
    "timporter = TemplateImporter(template=template,  created_by=created_by)\n",
    "individual_list, cvalidator = timporter.import_phenopackets_from_template()"
   ]
  },
  {
   "cell_type": "code",
   "execution_count": 6,
   "metadata": {},
   "outputs": [
    {
     "data": {
      "text/html": [
       "<h2>Cohort validation</h2>\n",
       "<p>No errors found for the cohort with 1 individuals</p>"
      ],
      "text/plain": [
       "<IPython.core.display.HTML object>"
      ]
     },
     "metadata": {},
     "output_type": "display_data"
    }
   ],
   "source": [
    "qc = QcVisualizer(cohort_validator=cvalidator)\n",
    "display(HTML(qc.to_summary_html()))"
   ]
  },
  {
   "cell_type": "code",
   "execution_count": 7,
   "metadata": {},
   "outputs": [
    {
     "data": {
      "text/html": [
       "<table style=\"border: 2px solid black; align: \"left\">\n",
       "<caption>1 phenopacket - PMID:17056636 (n=1)</caption>\n",
       "<tr><th style=\"text-align: left;font-weight: bold;\">Individual</th><th style=\"text-align: left;font-weight: bold;\">Disease</th><th style=\"text-align: left;font-weight: bold;\">Genotype</th><th style=\"text-align: left;font-weight: bold;\">Phenotypic features</th></tr>\n",
       "<tr><td style=\"text-align: left;\">nan (MALE; P2Y)</td><td style=\"text-align: left;\">Cardiofaciocutaneous syndrome 2 (OMIM:615278)</td><td style=\"text-align: left;\">NM_004985.5:c.64C>G (heterozygous)</td><td style=\"text-align: left;\">Pulmonic stenosis (HP:0001642); Webbed neck (HP:0000465); Short neck (HP:0000470); Hypertelorism (HP:0000316); Anteverted nares (HP:0000463); Low-set ears (HP:0000369); Sparse hair (HP:0008070); Sparse eyebrow (HP:0045075); Deep palmar crease (HP:0006191); Deep plantar creases (HP:0001869); Ptosis (HP:0000508); Intellectual disability (HP:0001249); Global developmental delay (HP:0001263); Failure to thrive (HP:0001508); excluded: Relative macrocephaly (HP:0004482); excluded: Depressed nasal bridge (HP:0005280); excluded: Coarse facial features (HP:0000280); excluded: Posteriorly rotated ears (HP:0000358); excluded: Cryptorchidism (HP:0000028); excluded: Pectus excavatum (HP:0000767); excluded: Pectus carinatum (HP:0000768); excluded: Shield chest (HP:0000914); excluded: Dandy-Walker malformation (HP:0001305); excluded: Atrial septal defect (HP:0001631); excluded: Hypertrophic cardiomyopathy (HP:0001639); excluded: Low posterior hairline (HP:0002162); excluded: Redundant skin (HP:0001582); excluded: Nystagmus (HP:0000639); excluded: Strabismus (HP:0000486); excluded: Short stature (HP:0004322); excluded: Seizure (HP:0001250)</td></tr>\n",
       "</table>"
      ],
      "text/plain": [
       "<IPython.core.display.HTML object>"
      ]
     },
     "metadata": {},
     "output_type": "display_data"
    }
   ],
   "source": [
    "table = IndividualTable(cvalidator.get_error_free_individual_list())\n",
    "display(HTML(table.to_html()))"
   ]
  }
 ],
 "metadata": {
  "kernelspec": {
   "display_name": "ps24venv",
   "language": "python",
   "name": "python3"
  },
  "language_info": {
   "codemirror_mode": {
    "name": "ipython",
    "version": 3
   },
   "file_extension": ".py",
   "mimetype": "text/x-python",
   "name": "python",
   "nbconvert_exporter": "python",
   "pygments_lexer": "ipython3",
   "version": "3.9.6"
  }
 },
 "nbformat": 4,
 "nbformat_minor": 2
}
