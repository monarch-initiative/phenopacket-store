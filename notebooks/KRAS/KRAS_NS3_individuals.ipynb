{
 "cells": [
  {
   "cell_type": "markdown",
   "metadata": {},
   "source": [
    "# KRAS\n",
    "[Noonan syndrome-3 (NS3)](https://omim.org/entry/609942) is caused by heterozygous mutation in the KRAS gene."
   ]
  },
  {
   "cell_type": "code",
   "execution_count": 3,
   "metadata": {},
   "outputs": [
    {
     "name": "stdout",
     "output_type": "stream",
     "text": [
      "Using pyphetools version 0.9.91\n"
     ]
    }
   ],
   "source": [
    "from pyphetools.creation import TemplateImporter\n",
    "from pyphetools.visualization import IndividualTable, QcVisualizer\n",
    "from IPython.display import display, HTML\n",
    "import pyphetools\n",
    "print(f\"Using pyphetools version {pyphetools.__version__}\")"
   ]
  },
  {
   "cell_type": "code",
   "execution_count": 7,
   "metadata": {},
   "outputs": [],
   "source": [
    "template = \"input/KRAS_NS3_individuals.xlsx\"\n",
    "created_by = \"0000-0002-0736-9199\""
   ]
  },
  {
   "cell_type": "code",
   "execution_count": 9,
   "metadata": {},
   "outputs": [
    {
     "name": "stdout",
     "output_type": "stream",
     "text": [
      "HPO version 2024-04-26\n",
      "Created encoders for 70 fields\n",
      "Importing OMIM:609942, Noonan syndrome 3, HGNC:6407, KRAS,  NM_004985.5\n",
      "[INFO] encoding variant \"c.458A>T\"\n",
      "https://rest.variantvalidator.org/VariantValidator/variantvalidator/hg38/NM_004985.5%3Ac.458A>T/NM_004985.5?content-type=application%2Fjson\n",
      "We output 7 GA4GH phenopackets to the directory phenopackets\n"
     ]
    }
   ],
   "source": [
    "timporter = TemplateImporter(template=template,  created_by=created_by)\n",
    "individual_list, cvalidator = timporter.import_phenopackets_from_template()"
   ]
  },
  {
   "cell_type": "code",
   "execution_count": 10,
   "metadata": {},
   "outputs": [
    {
     "data": {
      "text/html": [
       "<h2>Cohort validation</h2>\n",
       "<p>No errors found for the cohort with 7 individuals</p>"
      ],
      "text/plain": [
       "<IPython.core.display.HTML object>"
      ]
     },
     "metadata": {},
     "output_type": "display_data"
    }
   ],
   "source": [
    "qc = QcVisualizer(cohort_validator=cvalidator)\n",
    "display(HTML(qc.to_summary_html()))"
   ]
  },
  {
   "cell_type": "code",
   "execution_count": 11,
   "metadata": {},
   "outputs": [
    {
     "data": {
      "text/html": [
       "<table style=\"border: 2px solid black; align: \"left\">\n",
       "<caption>7 phenopackets - PMID:17056636 (n=7)</caption>\n",
       "<tr><th style=\"text-align: left;font-weight: bold;\">Individual</th><th style=\"text-align: left;font-weight: bold;\">Disease</th><th style=\"text-align: left;font-weight: bold;\">Genotype</th><th style=\"text-align: left;font-weight: bold;\">Phenotypic features</th></tr>\n",
       "<tr><td style=\"text-align: left;\">Patient No 2 (MALE; P16Y)</td><td style=\"text-align: left;\">Noonan syndrome 3 (OMIM:609942)</td><td style=\"text-align: left;\">NM_004985.5:c.40G>A (heterozygous)</td><td style=\"text-align: left;\">Sparse hair (HP:0008070); Short neck (HP:0000470); Hypertelorism (HP:0000316); Relative macrocephaly (HP:0004482); Low-set ears (HP:0000369); Pectus excavatum (HP:0000767); Cubitus valgus (HP:0002967); Strabismus (HP:0000486); Ptosis (HP:0000508); Intellectual disability (HP:0001249); Global developmental delay (HP:0001263); Short stature (HP:0004322); Seizure (HP:0001250); excluded: Webbed neck (HP:0000465); excluded: Downslanted palpebral fissures (HP:0000494); excluded: Anteverted nares (HP:0000463); excluded: Depressed nasal bridge (HP:0005280); excluded: Coarse facial features (HP:0000280); excluded: Posteriorly rotated ears (HP:0000358); excluded: Cryptorchidism (HP:0000028); excluded: Pectus carinatum (HP:0000768); excluded: Shield chest (HP:0000914); excluded: Brachydactyly (HP:0001156); excluded: Wide intermamillary distance (HP:0006610); excluded: Dandy-Walker malformation (HP:0001305); excluded: Atrial septal defect (HP:0001631); excluded: Pulmonic stenosis (HP:0001642); excluded: Hypertrophic cardiomyopathy (HP:0001639); excluded: Sparse eyebrow (HP:0045075); excluded: Low posterior hairline (HP:0002162); excluded: Redundant skin (HP:0001582); excluded: Deep palmar crease (HP:0006191); excluded: Deep plantar creases (HP:0001869); excluded: Nystagmus (HP:0000639); excluded: Feeding difficulties (HP:0011968); excluded: Failure to thrive (HP:0001508)</td></tr>\n",
       "<tr><td style=\"text-align: left;\">Patient No 4 (FEMALE; P3Y3M)</td><td style=\"text-align: left;\">Noonan syndrome 3 (OMIM:609942)</td><td style=\"text-align: left;\">NM_004985.5:c.65A>G (heterozygous)</td><td style=\"text-align: left;\">Pulmonic stenosis (HP:0001642); Webbed neck (HP:0000465); Short neck (HP:0000470); Hypertelorism (HP:0000316); Downslanted palpebral fissures (HP:0000494); Relative macrocephaly (HP:0004482); Low-set ears (HP:0000369); Pectus excavatum (HP:0000767); Shield chest (HP:0000914); Strabismus (HP:0000486); Ptosis (HP:0000508); Intellectual disability (HP:0001249); Global developmental delay (HP:0001263); excluded: Anteverted nares (HP:0000463); excluded: Depressed nasal bridge (HP:0005280); excluded: Coarse facial features (HP:0000280); excluded: Posteriorly rotated ears (HP:0000358); excluded: Pectus carinatum (HP:0000768); excluded: Cubitus valgus (HP:0002967); excluded: Brachydactyly (HP:0001156); excluded: Wide intermamillary distance (HP:0006610); excluded: Dandy-Walker malformation (HP:0001305); excluded: Atrial septal defect (HP:0001631); excluded: Hypertrophic cardiomyopathy (HP:0001639); excluded: Sparse hair (HP:0008070); excluded: Sparse eyebrow (HP:0045075); excluded: Low posterior hairline (HP:0002162); excluded: Redundant skin (HP:0001582); excluded: Deep palmar crease (HP:0006191); excluded: Deep plantar creases (HP:0001869); excluded: Nystagmus (HP:0000639); excluded: Short stature (HP:0004322); excluded: Feeding difficulties (HP:0011968); excluded: Failure to thrive (HP:0001508); excluded: Seizure (HP:0001250)</td></tr>\n",
       "<tr><td style=\"text-align: left;\">Patient No 5 (MALE; P17Y)</td><td style=\"text-align: left;\">Noonan syndrome 3 (OMIM:609942)</td><td style=\"text-align: left;\">NM_004985.5:c.101C>T (heterozygous)</td><td style=\"text-align: left;\">Short neck (HP:0000470); Hypertelorism (HP:0000316); Downslanted palpebral fissures (HP:0000494); Relative macrocephaly (HP:0004482); Pectus excavatum (HP:0000767); Strabismus (HP:0000486); Intellectual disability (HP:0001249); Global developmental delay (HP:0001263); Short stature (HP:0004322); excluded: Webbed neck (HP:0000465); excluded: Anteverted nares (HP:0000463); excluded: Depressed nasal bridge (HP:0005280); excluded: Coarse facial features (HP:0000280); excluded: Low-set ears (HP:0000369); excluded: Posteriorly rotated ears (HP:0000358); excluded: Cryptorchidism (HP:0000028); excluded: Pectus carinatum (HP:0000768); excluded: Shield chest (HP:0000914); excluded: Cubitus valgus (HP:0002967); excluded: Brachydactyly (HP:0001156); excluded: Wide intermamillary distance (HP:0006610); excluded: Dandy-Walker malformation (HP:0001305); excluded: Atrial septal defect (HP:0001631); excluded: Pulmonic stenosis (HP:0001642); excluded: Hypertrophic cardiomyopathy (HP:0001639); excluded: Sparse hair (HP:0008070); excluded: Sparse eyebrow (HP:0045075); excluded: Low posterior hairline (HP:0002162); excluded: Redundant skin (HP:0001582); excluded: Deep palmar crease (HP:0006191); excluded: Deep plantar creases (HP:0001869); excluded: Nystagmus (HP:0000639); excluded: Ptosis (HP:0000508); excluded: Feeding difficulties (HP:0011968); excluded: Failure to thrive (HP:0001508); excluded: Seizure (HP:0001250)</td></tr>\n",
       "<tr><td style=\"text-align: left;\">Patient No 6 (MALE; P3Y4M)</td><td style=\"text-align: left;\">Noonan syndrome 3 (OMIM:609942)</td><td style=\"text-align: left;\">NM_004985.5:c.101C>A (heterozygous)</td><td style=\"text-align: left;\">Pulmonic stenosis (HP:0001642); Webbed neck (HP:0000465); Hypertelorism (HP:0000316); Depressed nasal bridge (HP:0005280); Low-set ears (HP:0000369); Posteriorly rotated ears (HP:0000358); Ptosis (HP:0000508); Intellectual disability (HP:0001249); Global developmental delay (HP:0001263); Short stature (HP:0004322); Feeding difficulties (HP:0011968); Failure to thrive (HP:0001508); excluded: Short neck (HP:0000470); excluded: Downslanted palpebral fissures (HP:0000494); excluded: Anteverted nares (HP:0000463); excluded: Relative macrocephaly (HP:0004482); excluded: Coarse facial features (HP:0000280); excluded: Cryptorchidism (HP:0000028); excluded: Pectus excavatum (HP:0000767); excluded: Pectus carinatum (HP:0000768); excluded: Shield chest (HP:0000914); excluded: Cubitus valgus (HP:0002967); excluded: Brachydactyly (HP:0001156); excluded: Wide intermamillary distance (HP:0006610); excluded: Dandy-Walker malformation (HP:0001305); excluded: Atrial septal defect (HP:0001631); excluded: Hypertrophic cardiomyopathy (HP:0001639); excluded: Sparse hair (HP:0008070); excluded: Sparse eyebrow (HP:0045075); excluded: Low posterior hairline (HP:0002162); excluded: Redundant skin (HP:0001582); excluded: Deep palmar crease (HP:0006191); excluded: Deep plantar creases (HP:0001869); excluded: Nystagmus (HP:0000639); excluded: Strabismus (HP:0000486); excluded: Seizure (HP:0001250)</td></tr>\n",
       "<tr><td style=\"text-align: left;\">Patient No 7 (FEMALE; P17Y)</td><td style=\"text-align: left;\">Noonan syndrome 3 (OMIM:609942)</td><td style=\"text-align: left;\">NM_004985.5:c.108A>G (heterozygous)</td><td style=\"text-align: left;\">Atrial septal defect (HP:0001631); Webbed neck (HP:0000465); Short neck (HP:0000470); Hypertelorism (HP:0000316); Downslanted palpebral fissures (HP:0000494); Relative macrocephaly (HP:0004482); Posteriorly rotated ears (HP:0000358); Pectus excavatum (HP:0000767); Sparse hair (HP:0008070); Redundant skin (HP:0001582); Ptosis (HP:0000508); Intellectual disability (HP:0001249); Global developmental delay (HP:0001263); excluded: Anteverted nares (HP:0000463); excluded: Depressed nasal bridge (HP:0005280); excluded: Coarse facial features (HP:0000280); excluded: Low-set ears (HP:0000369); excluded: Pectus carinatum (HP:0000768); excluded: Shield chest (HP:0000914); excluded: Cubitus valgus (HP:0002967); excluded: Brachydactyly (HP:0001156); excluded: Wide intermamillary distance (HP:0006610); excluded: Dandy-Walker malformation (HP:0001305); excluded: Pulmonic stenosis (HP:0001642); excluded: Hypertrophic cardiomyopathy (HP:0001639); excluded: Sparse eyebrow (HP:0045075); excluded: Low posterior hairline (HP:0002162); excluded: Deep palmar crease (HP:0006191); excluded: Deep plantar creases (HP:0001869); excluded: Nystagmus (HP:0000639); excluded: Strabismus (HP:0000486); excluded: Short stature (HP:0004322); excluded: Feeding difficulties (HP:0011968); excluded: Failure to thrive (HP:0001508); excluded: Seizure (HP:0001250)</td></tr>\n",
       "<tr><td style=\"text-align: left;\">Patient No 9 (MALE; P20Y)</td><td style=\"text-align: left;\">Noonan syndrome 3 (OMIM:609942)</td><td style=\"text-align: left;\">NM_004985.5:c.458A>T (heterozygous)</td><td style=\"text-align: left;\">Webbed neck (HP:0000465); Short neck (HP:0000470); Hypertelorism (HP:0000316); Downslanted palpebral fissures (HP:0000494); Relative macrocephaly (HP:0004482); Posteriorly rotated ears (HP:0000358); Cryptorchidism (HP:0000028); Pectus excavatum (HP:0000767); Ptosis (HP:0000508); Intellectual disability (HP:0001249); Global developmental delay (HP:0001263); excluded: Anteverted nares (HP:0000463); excluded: Depressed nasal bridge (HP:0005280); excluded: Coarse facial features (HP:0000280); excluded: Low-set ears (HP:0000369); excluded: Pectus carinatum (HP:0000768); excluded: Shield chest (HP:0000914); excluded: Cubitus valgus (HP:0002967); excluded: Brachydactyly (HP:0001156); excluded: Wide intermamillary distance (HP:0006610); excluded: Dandy-Walker malformation (HP:0001305); excluded: Atrial septal defect (HP:0001631); excluded: Pulmonic stenosis (HP:0001642); excluded: Hypertrophic cardiomyopathy (HP:0001639); excluded: Sparse hair (HP:0008070); excluded: Sparse eyebrow (HP:0045075); excluded: Low posterior hairline (HP:0002162); excluded: Redundant skin (HP:0001582); excluded: Deep palmar crease (HP:0006191); excluded: Deep plantar creases (HP:0001869); excluded: Nystagmus (HP:0000639); excluded: Strabismus (HP:0000486); excluded: Short stature (HP:0004322); excluded: Feeding difficulties (HP:0011968); excluded: Failure to thrive (HP:0001508); excluded: Seizure (HP:0001250)</td></tr>\n",
       "<tr><td style=\"text-align: left;\">Patient No 10 (MALE; P5Y6M)</td><td style=\"text-align: left;\">Noonan syndrome 3 (OMIM:609942)</td><td style=\"text-align: left;\">NM_004985.5:c.458A>T (heterozygous)</td><td style=\"text-align: left;\">Pulmonic stenosis (HP:0001642); Short neck (HP:0000470); Hypertelorism (HP:0000316); Anteverted nares (HP:0000463); Relative macrocephaly (HP:0004482); Low-set ears (HP:0000369); Pectus excavatum (HP:0000767); Brachydactyly (HP:0001156); Strabismus (HP:0000486); Ptosis (HP:0000508); Intellectual disability (HP:0001249); Global developmental delay (HP:0001263); Short stature (HP:0004322); excluded: Webbed neck (HP:0000465); excluded: Downslanted palpebral fissures (HP:0000494); excluded: Depressed nasal bridge (HP:0005280); excluded: Coarse facial features (HP:0000280); excluded: Posteriorly rotated ears (HP:0000358); excluded: Cryptorchidism (HP:0000028); excluded: Pectus carinatum (HP:0000768); excluded: Shield chest (HP:0000914); excluded: Cubitus valgus (HP:0002967); excluded: Wide intermamillary distance (HP:0006610); excluded: Dandy-Walker malformation (HP:0001305); excluded: Atrial septal defect (HP:0001631); excluded: Hypertrophic cardiomyopathy (HP:0001639); excluded: Sparse hair (HP:0008070); excluded: Sparse eyebrow (HP:0045075); excluded: Low posterior hairline (HP:0002162); excluded: Redundant skin (HP:0001582); excluded: Deep palmar crease (HP:0006191); excluded: Deep plantar creases (HP:0001869); excluded: Nystagmus (HP:0000639); excluded: Feeding difficulties (HP:0011968); excluded: Failure to thrive (HP:0001508); excluded: Seizure (HP:0001250)</td></tr>\n",
       "</table>"
      ],
      "text/plain": [
       "<IPython.core.display.HTML object>"
      ]
     },
     "metadata": {},
     "output_type": "display_data"
    }
   ],
   "source": [
    "table = IndividualTable(cvalidator.get_error_free_individual_list())\n",
    "display(HTML(table.to_html()))"
   ]
  },
  {
   "cell_type": "code",
   "execution_count": 12,
   "metadata": {},
   "outputs": [
    {
     "name": "stdout",
     "output_type": "stream",
     "text": [
      "[pyphetools] Ingested 7 GA4GH phenopackets.\n",
      "[INFO] Extracted 7 from 7 phenopackets with OMIM:609942\n",
      "\n",
      "\tNoonan syndrome 3 (OMIM:609942): n=7\n",
      "We found a total of 36 unique HPO terms\n",
      "Extracted disease: Noonan syndrome 3 (OMIM:609942)\n",
      "Wrote HPOA disease file to OMIM-609942.tab\n"
     ]
    }
   ],
   "source": [
    "pmid = \"PMID:17056636\"\n",
    "df = timporter.create_hpoa_from_phenopackets(pmid=pmid, moi=\"Autosomal dominant\", target=\"OMIM:609942\")"
   ]
  }
 ],
 "metadata": {
  "kernelspec": {
   "display_name": "ps24venv",
   "language": "python",
   "name": "python3"
  },
  "language_info": {
   "codemirror_mode": {
    "name": "ipython",
    "version": 3
   },
   "file_extension": ".py",
   "mimetype": "text/x-python",
   "name": "python",
   "nbconvert_exporter": "python",
   "pygments_lexer": "ipython3",
   "version": "3.9.6"
  }
 },
 "nbformat": 4,
 "nbformat_minor": 2
}
