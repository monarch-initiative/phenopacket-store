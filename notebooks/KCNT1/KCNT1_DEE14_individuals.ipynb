{
 "cells": [
  {
   "cell_type": "markdown",
   "metadata": {},
   "source": [
    "# KCNT1\n",
    "[developmental and epileptic encephalopathy-14 (DEE14)](https://omim.org/entry/614959) is caused by heterozygous mutation in the KCNT1 gene."
   ]
  },
  {
   "cell_type": "code",
   "execution_count": 1,
   "metadata": {},
   "outputs": [
    {
     "name": "stdout",
     "output_type": "stream",
     "text": [
      "Using pyphetools version 0.9.86\n"
     ]
    },
    {
     "name": "stderr",
     "output_type": "stream",
     "text": [
      "/Users/robin/GIT/phenopacket-store/ps24venv/lib/python3.9/site-packages/urllib3/__init__.py:35: NotOpenSSLWarning: urllib3 v2 only supports OpenSSL 1.1.1+, currently the 'ssl' module is compiled with 'LibreSSL 2.8.3'. See: https://github.com/urllib3/urllib3/issues/3020\n",
      "  warnings.warn(\n"
     ]
    }
   ],
   "source": [
    "from pyphetools.creation import TemplateImporter\n",
    "from pyphetools.visualization import IndividualTable, QcVisualizer\n",
    "from IPython.display import display, HTML\n",
    "import pyphetools\n",
    "print(f\"Using pyphetools version {pyphetools.__version__}\")"
   ]
  },
  {
   "cell_type": "code",
   "execution_count": 2,
   "metadata": {},
   "outputs": [],
   "source": [
    "template = \"input/KCNT1_DEE14_individuals.xlsx\"\n",
    "created_by = \"0000-0002-0736-9199\""
   ]
  },
  {
   "cell_type": "code",
   "execution_count": 3,
   "metadata": {},
   "outputs": [
    {
     "name": "stdout",
     "output_type": "stream",
     "text": [
      "HPO version 2024-04-26\n",
      "Created encoders for 47 fields\n",
      "Importing OMIM:614959, Developmental and epileptic encephalopathy 14, HGNC:18865, KCNT1,  NM_020822.3\n",
      "We output 8 GA4GH phenopackets to the directory phenopackets\n"
     ]
    }
   ],
   "source": [
    "timporter = TemplateImporter(template=template,  created_by=created_by)\n",
    "individual_list, cvalidator = timporter.import_phenopackets_from_template()"
   ]
  },
  {
   "cell_type": "code",
   "execution_count": 4,
   "metadata": {},
   "outputs": [
    {
     "data": {
      "text/html": [
       "<h2>Cohort validation</h2>\n",
       "<p>Errors found with 1 of 8 phenopackets.</p>\n",
       "<table style=\"border: 2px solid black; align: \"left\">\n",
       "<caption>Error counts</caption>\n",
       "<tr><th style=\"text-align: left;font-weight: bold;\">Level</th><th style=\"text-align: left;font-weight: bold;\">Error category</th><th style=\"text-align: left;font-weight: bold;\">Count</th></tr>\n",
       "<tr><td style=\"text-align: left;\">WARNING</td><td style=\"text-align: left;\">REDUNDANT</td><td style=\"text-align: left;\">1</td></tr>\n",
       "</table>\n",
       "<p>A total of 1 issues were fixed and no individual was removed from the cohort.</p>"
      ],
      "text/plain": [
       "<IPython.core.display.HTML object>"
      ]
     },
     "metadata": {},
     "output_type": "display_data"
    }
   ],
   "source": [
    "qc = QcVisualizer(cohort_validator=cvalidator)\n",
    "display(HTML(qc.to_summary_html()))"
   ]
  },
  {
   "cell_type": "code",
   "execution_count": 5,
   "metadata": {},
   "outputs": [
    {
     "data": {
      "text/html": [
       "<table style=\"border: 2px solid black; align: \"left\">\n",
       "<caption>8 phenopackets - PMID:23086397 (n=6); PMID:24029078 (n=2)</caption>\n",
       "<tr><th style=\"text-align: left;font-weight: bold;\">Individual</th><th style=\"text-align: left;font-weight: bold;\">Disease</th><th style=\"text-align: left;font-weight: bold;\">Genotype</th><th style=\"text-align: left;font-weight: bold;\">Phenotypic features</th></tr>\n",
       "<tr><td style=\"text-align: left;\">Patient 1 (MALE; P10Y)</td><td style=\"text-align: left;\">Developmental and epileptic encephalopathy 14 (OMIM:614959)</td><td style=\"text-align: left;\">NM_020822.3:c.2800G>A (heterozygous)</td><td style=\"text-align: left;\"><b>P10Y</b>: Delayed CNS myelination (HP:0002188); Cerebral cortical atrophy (HP:0002120)<br/>Profound global developmental delay (HP:0012736); Absent speech (HP:0001344); Inability to walk by childhood/adolescence (HP:0006915); Focal tonic seizure (HP:0011167); Generalized tonic seizure (HP:0010818); Generalized hypotonia (HP:0001290); Microcephaly (HP:0000252); Epileptic encephalopathy (HP:0200134); excluded: Thin corpus callosum (HP:0033725); excluded: Focal autonomic seizure with palpitations/tachycardia/bradycardia/asystole (HP:0032773); excluded: Focal clonic seizure (HP:0002266); excluded: Generalized clonic seizure (HP:0011169); excluded: Axial hypotonia (HP:0008936)</td></tr>\n",
       "<tr><td style=\"text-align: left;\">Patient 2 (MALE; P10Y)</td><td style=\"text-align: left;\">Developmental and epileptic encephalopathy 14 (OMIM:614959)</td><td style=\"text-align: left;\">NM_020822.3:c.1283G>A (heterozygous)</td><td style=\"text-align: left;\"><b>P5Y</b>: Delayed CNS myelination (HP:0002188); Cerebral cortical atrophy (HP:0002120); Thin corpus callosum (HP:0033725)<br/>Profound global developmental delay (HP:0012736); Absent speech (HP:0001344); Inability to walk by childhood/adolescence (HP:0006915); Focal clonic seizure (HP:0002266); Generalized clonic seizure (HP:0011169); Focal tonic seizure (HP:0011167); Generalized tonic seizure (HP:0010818); Generalized hypotonia (HP:0001290); Microcephaly (HP:0000252); Epileptic encephalopathy (HP:0200134); excluded: Focal autonomic seizure with palpitations/tachycardia/bradycardia/asystole (HP:0032773); excluded: Axial hypotonia (HP:0008936)</td></tr>\n",
       "<tr><td style=\"text-align: left;\">Patient 3 (MALE; P8Y)</td><td style=\"text-align: left;\">Developmental and epileptic encephalopathy 14 (OMIM:614959)</td><td style=\"text-align: left;\">NM_020822.3:c.1283G>A (heterozygous)</td><td style=\"text-align: left;\"><b>P4Y6M</b>: Delayed CNS myelination (HP:0002188); Cerebral cortical atrophy (HP:0002120); Thin corpus callosum (HP:0033725)<br/>Profound global developmental delay (HP:0012736); Inability to walk by childhood/adolescence (HP:0006915); Focal autonomic seizure with palpitations/tachycardia/bradycardia/asystole (HP:0032773); Focal tonic seizure (HP:0011167); Generalized tonic seizure (HP:0010818); Axial hypotonia (HP:0008936); Microcephaly (HP:0000252); Epileptic encephalopathy (HP:0200134); excluded: Absent speech (HP:0001344); excluded: Focal clonic seizure (HP:0002266); excluded: Generalized clonic seizure (HP:0011169); excluded: Generalized hypotonia (HP:0001290)</td></tr>\n",
       "<tr><td style=\"text-align: left;\">Patient 4 (MALE; P6M)</td><td style=\"text-align: left;\">Developmental and epileptic encephalopathy 14 (OMIM:614959)</td><td style=\"text-align: left;\">NM_020822.3:c.1283G>A (heterozygous)</td><td style=\"text-align: left;\"><b>P2M</b>: Thin corpus callosum (HP:0033725)<br/>Profound global developmental delay (HP:0012736); Focal motor seizure (HP:0011153); Axial hypotonia (HP:0008936); Microcephaly (HP:0000252); Epileptic encephalopathy (HP:0200134); excluded: Delayed CNS myelination (HP:0002188); excluded: Cerebral cortical atrophy (HP:0002120); excluded: Absent speech (HP:0001344); excluded: Inability to walk by childhood/adolescence (HP:0006915); excluded: Focal autonomic seizure with palpitations/tachycardia/bradycardia/asystole (HP:0032773); excluded: Generalized clonic seizure (HP:0011169); excluded: Generalized tonic seizure (HP:0010818); excluded: Generalized hypotonia (HP:0001290)</td></tr>\n",
       "<tr><td style=\"text-align: left;\">Patient 5 (MALE; P6M)</td><td style=\"text-align: left;\">Developmental and epileptic encephalopathy 14 (OMIM:614959)</td><td style=\"text-align: left;\">NM_020822.3:c.1421G>A (heterozygous)</td><td style=\"text-align: left;\">Profound global developmental delay (HP:0012736); Focal motor seizure (HP:0011153); Axial hypotonia (HP:0008936); Epileptic encephalopathy (HP:0200134); excluded: Delayed CNS myelination (HP:0002188); excluded: Cerebral cortical atrophy (HP:0002120); excluded: Thin corpus callosum (HP:0033725); excluded: Absent speech (HP:0001344); excluded: Inability to walk by childhood/adolescence (HP:0006915); excluded: Focal autonomic seizure with palpitations/tachycardia/bradycardia/asystole (HP:0032773); excluded: Generalized clonic seizure (HP:0011169); excluded: Generalized tonic seizure (HP:0010818); excluded: Generalized hypotonia (HP:0001290); excluded: Microcephaly (HP:0000252)</td></tr>\n",
       "<tr><td style=\"text-align: left;\">Patient 6 (FEMALE; P6M)</td><td style=\"text-align: left;\">Developmental and epileptic encephalopathy 14 (OMIM:614959)</td><td style=\"text-align: left;\">NM_020822.3:c.2280C>G (heterozygous)</td><td style=\"text-align: left;\">Profound global developmental delay (HP:0012736); Focal autonomic seizure with palpitations/tachycardia/bradycardia/asystole (HP:0032773); Focal motor seizure (HP:0011153); Axial hypotonia (HP:0008936); Epileptic encephalopathy (HP:0200134); excluded: Delayed CNS myelination (HP:0002188); excluded: Cerebral cortical atrophy (HP:0002120); excluded: Thin corpus callosum (HP:0033725); excluded: Absent speech (HP:0001344); excluded: Inability to walk by childhood/adolescence (HP:0006915); excluded: Generalized clonic seizure (HP:0011169); excluded: Generalized tonic seizure (HP:0010818); excluded: Generalized hypotonia (HP:0001290); excluded: Microcephaly (HP:0000252)</td></tr>\n",
       "<tr><td style=\"text-align: left;\">Patient 1 (FEMALE; P8Y1M)</td><td style=\"text-align: left;\">Developmental and epileptic encephalopathy 14 (OMIM:614959)</td><td style=\"text-align: left;\">NM_020822.3:c.862G>A (heterozygous)</td><td style=\"text-align: left;\"><b>P2M</b>: Focal motor seizure (HP:0011153); Generalized hypotonia (HP:0001290)<br/>Epileptic encephalopathy (HP:0200134); Interictal epileptiform activity (HP:0011182); excluded: Profound global developmental delay (HP:0012736); excluded: Delayed CNS myelination (HP:0002188); excluded: Cerebral cortical atrophy (HP:0002120); excluded: Thin corpus callosum (HP:0033725); excluded: Absent speech (HP:0001344); excluded: Inability to walk by childhood/adolescence (HP:0006915); excluded: Focal autonomic seizure with palpitations/tachycardia/bradycardia/asystole (HP:0032773); excluded: Focal clonic seizure (HP:0002266); excluded: Generalized clonic seizure (HP:0011169); excluded: Focal tonic seizure (HP:0011167); excluded: Generalized tonic seizure (HP:0010818); excluded: Developmental regression (HP:0002376); excluded: Axial hypotonia (HP:0008936); excluded: Microcephaly (HP:0000252)</td></tr>\n",
       "<tr><td style=\"text-align: left;\">Patient 2 (FEMALE; P8M)</td><td style=\"text-align: left;\">Developmental and epileptic encephalopathy 14 (OMIM:614959)</td><td style=\"text-align: left;\">NM_020822.3:c.862G>A (heterozygous)</td><td style=\"text-align: left;\"><b>P2M</b>: Generalized-onset motor seizure (HP:0032677); Generalized hypotonia (HP:0001290)<br/>Brain atrophy (HP:0012444); Developmental regression (HP:0002376); Epileptic encephalopathy (HP:0200134); Interictal epileptiform activity (HP:0011182); excluded: Profound global developmental delay (HP:0012736); excluded: Delayed CNS myelination (HP:0002188); excluded: Cerebral cortical atrophy (HP:0002120); excluded: Thin corpus callosum (HP:0033725); excluded: Absent speech (HP:0001344); excluded: Inability to walk by childhood/adolescence (HP:0006915); excluded: Focal autonomic seizure with palpitations/tachycardia/bradycardia/asystole (HP:0032773); excluded: Focal clonic seizure (HP:0002266); excluded: Generalized clonic seizure (HP:0011169); excluded: Focal tonic seizure (HP:0011167); excluded: Generalized tonic seizure (HP:0010818); excluded: Axial hypotonia (HP:0008936); excluded: Microcephaly (HP:0000252)</td></tr>\n",
       "</table>"
      ],
      "text/plain": [
       "<IPython.core.display.HTML object>"
      ]
     },
     "metadata": {},
     "output_type": "display_data"
    }
   ],
   "source": [
    "table = IndividualTable(cvalidator.get_error_free_individual_list())\n",
    "display(HTML(table.to_html()))"
   ]
  },
  {
   "cell_type": "code",
   "execution_count": 6,
   "metadata": {},
   "outputs": [
    {
     "name": "stdout",
     "output_type": "stream",
     "text": [
      "[pyphetools] Ingested 8 GA4GH phenopackets.\n",
      "[INFO] Extracted 8 from 8 phenopackets with OMIM:614959\n",
      "\n",
      "\tDevelopmental and epileptic encephalopathy 14 (OMIM:614959): n=8\n",
      "We found a total of 20 unique HPO terms\n",
      "Extracted disease: Developmental and epileptic encephalopathy 14 (OMIM:614959)\n",
      "Wrote HPOA disease file to OMIM-614959.tab\n"
     ]
    }
   ],
   "source": [
    "pmid = \"PMID:23086397\"\n",
    "df = timporter.create_hpoa_from_phenopackets(pmid=pmid, moi=\"Autosomal dominant\", target=\"OMIM:614959\")"
   ]
  }
 ],
 "metadata": {
  "kernelspec": {
   "display_name": "ps24venv",
   "language": "python",
   "name": "python3"
  },
  "language_info": {
   "codemirror_mode": {
    "name": "ipython",
    "version": 3
   },
   "file_extension": ".py",
   "mimetype": "text/x-python",
   "name": "python",
   "nbconvert_exporter": "python",
   "pygments_lexer": "ipython3",
   "version": "3.9.6"
  }
 },
 "nbformat": 4,
 "nbformat_minor": 2
}
