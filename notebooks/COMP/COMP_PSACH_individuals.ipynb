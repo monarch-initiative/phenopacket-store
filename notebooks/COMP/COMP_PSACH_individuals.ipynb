{
 "cells": [
  {
   "cell_type": "markdown",
   "metadata": {},
   "source": [
    "# COMP\n",
    "[pseudoachondroplasia (PSACH)](https://omim.org/entry/177170) is caused by heterozygous mutation in the gene encoding cartilage oligomeric matrix protein (COMP)."
   ]
  },
  {
   "cell_type": "code",
   "execution_count": 1,
   "metadata": {},
   "outputs": [
    {
     "name": "stdout",
     "output_type": "stream",
     "text": [
      "Using pyphetools version 0.9.91\n"
     ]
    },
    {
     "name": "stderr",
     "output_type": "stream",
     "text": [
      "/Users/robin/GIT/phenopacket-store/ps24venv/lib/python3.9/site-packages/urllib3/__init__.py:35: NotOpenSSLWarning: urllib3 v2 only supports OpenSSL 1.1.1+, currently the 'ssl' module is compiled with 'LibreSSL 2.8.3'. See: https://github.com/urllib3/urllib3/issues/3020\n",
      "  warnings.warn(\n"
     ]
    }
   ],
   "source": [
    "from pyphetools.creation import TemplateImporter\n",
    "from pyphetools.visualization import IndividualTable, QcVisualizer\n",
    "from IPython.display import display, HTML\n",
    "import pyphetools\n",
    "print(f\"Using pyphetools version {pyphetools.__version__}\")"
   ]
  },
  {
   "cell_type": "code",
   "execution_count": 2,
   "metadata": {},
   "outputs": [],
   "source": [
    "template = \"input/COMP_PSACH_individuals.xlsx\"\n",
    "created_by = \"0000-0002-0736-9199\""
   ]
  },
  {
   "cell_type": "code",
   "execution_count": 6,
   "metadata": {},
   "outputs": [
    {
     "name": "stdout",
     "output_type": "stream",
     "text": [
      "HPO version 2024-04-26\n",
      "Created encoders for 48 fields\n",
      "Importing OMIM:177170, Pseudoachondroplasia, HGNC:2227, COMP,  NM_000095.3\n",
      "We output 2 GA4GH phenopackets to the directory phenopackets\n"
     ]
    }
   ],
   "source": [
    "timporter = TemplateImporter(template=template,  created_by=created_by)\n",
    "individual_list, cvalidator = timporter.import_phenopackets_from_template()"
   ]
  },
  {
   "cell_type": "code",
   "execution_count": 7,
   "metadata": {},
   "outputs": [
    {
     "data": {
      "text/html": [
       "<h2>Cohort validation</h2>\n",
       "<p>No errors found for the cohort with 2 individuals</p>"
      ],
      "text/plain": [
       "<IPython.core.display.HTML object>"
      ]
     },
     "metadata": {},
     "output_type": "display_data"
    }
   ],
   "source": [
    "qc = QcVisualizer(cohort_validator=cvalidator)\n",
    "display(HTML(qc.to_summary_html()))"
   ]
  },
  {
   "cell_type": "code",
   "execution_count": 8,
   "metadata": {},
   "outputs": [
    {
     "data": {
      "text/html": [
       "<table style=\"border: 2px solid black; align: \"left\">\n",
       "<caption>2 phenopackets - PMID:23562786 (n=1); PMID:27330822 (n=1)</caption>\n",
       "<tr><th style=\"text-align: left;font-weight: bold;\">Individual</th><th style=\"text-align: left;font-weight: bold;\">Disease</th><th style=\"text-align: left;font-weight: bold;\">Genotype</th><th style=\"text-align: left;font-weight: bold;\">Phenotypic features</th></tr>\n",
       "<tr><td style=\"text-align: left;\">patient (MALE; P2Y9M)</td><td style=\"text-align: left;\">Pseudoachondroplasia (OMIM:177170)</td><td style=\"text-align: left;\">NM_000095.3:c.1511G>A (heterozygous)</td><td style=\"text-align: left;\"><b>P1Y6M</b>: Lower limb pain (HP:0012514)<br/><b>P2Y9M</b>: Irregular epiphyses (HP:0010582); Limited elbow extension (HP:0001377); Genu valgum (HP:0002857); Flared femoral metaphysis (HP:0002834); Delayed ossification of carpal bones (HP:0001216); Metaphyseal irregularity (HP:0003025); Flat acetabular roof (HP:0003180); Irregular acetabular roof (HP:0008833); Beaking of vertebral bodies (HP:0004568); Hypoplasia of the capital femoral epiphysis (HP:0003090); Brachydactyly (HP:0001156); Short long bone (HP:0003026); Waddling gait (HP:0002515); Disproportionate short-limb short stature (HP:0008873)<br/>excluded: Abnormal facial shape (HP:0001999); excluded: Mucopolysacchariduria (HP:0008155)</td></tr>\n",
       "<tr><td style=\"text-align: left;\">proband II-1 (MALE; P3Y)</td><td style=\"text-align: left;\">Pseudoachondroplasia (OMIM:177170)</td><td style=\"text-align: left;\">NM_000095.3:c.1160_1162del (heterozygous)</td><td style=\"text-align: left;\"><b>P3Y</b>: Platyspondyly (HP:0000926); Small hand (HP:0200055); Wide pubic symphysis (HP:0003183); Irregular acetabular roof (HP:0008833); Beaking of vertebral bodies (HP:0004568); Flared metaphysis (HP:0003015); Hypoplasia of the femoral head (HP:0008802); Brachydactyly (HP:0001156); Waddling gait (HP:0002515); Lower limb pain (HP:0012514)</td></tr>\n",
       "</table>"
      ],
      "text/plain": [
       "<IPython.core.display.HTML object>"
      ]
     },
     "metadata": {},
     "output_type": "display_data"
    }
   ],
   "source": [
    "table = IndividualTable(cvalidator.get_error_free_individual_list())\n",
    "display(HTML(table.to_html()))"
   ]
  }
 ],
 "metadata": {
  "kernelspec": {
   "display_name": "ps24venv",
   "language": "python",
   "name": "python3"
  },
  "language_info": {
   "codemirror_mode": {
    "name": "ipython",
    "version": 3
   },
   "file_extension": ".py",
   "mimetype": "text/x-python",
   "name": "python",
   "nbconvert_exporter": "python",
   "pygments_lexer": "ipython3",
   "version": "3.12.4"
  }
 },
 "nbformat": 4,
 "nbformat_minor": 2
}
