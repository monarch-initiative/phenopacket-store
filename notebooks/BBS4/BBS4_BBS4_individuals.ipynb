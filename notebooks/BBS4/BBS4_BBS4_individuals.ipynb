{
 "cells": [
  {
   "cell_type": "markdown",
   "metadata": {},
   "source": [
    "# BBS4\n",
    "[Bardet-Biedl syndrome-4 (BBS4)](https://omim.org/entry/615982) is caused by homozygous mutation in the BBS4 gene."
   ]
  },
  {
   "cell_type": "code",
   "execution_count": 3,
   "metadata": {},
   "outputs": [
    {
     "name": "stdout",
     "output_type": "stream",
     "text": [
      "Using pyphetools version 0.9.86\n"
     ]
    }
   ],
   "source": [
    "from pyphetools.creation import TemplateImporter\n",
    "from pyphetools.visualization import IndividualTable, QcVisualizer\n",
    "from IPython.display import display, HTML\n",
    "import pyphetools\n",
    "print(f\"Using pyphetools version {pyphetools.__version__}\")"
   ]
  },
  {
   "cell_type": "code",
   "execution_count": 5,
   "metadata": {},
   "outputs": [],
   "source": [
    "template = \"input/BBS4_BBS4_individuals.xlsx\"\n",
    "created_by = \"0000-0002-0736-9199\""
   ]
  },
  {
   "cell_type": "code",
   "execution_count": 6,
   "metadata": {},
   "outputs": [
    {
     "name": "stdout",
     "output_type": "stream",
     "text": [
      "HPO version 2024-04-26\n",
      "Created encoders for 39 fields\n",
      "Importing OMIM:615982, Bardet-Biedl syndrome 4, HGNC:969, BBS4,  NM_033028.5\n",
      "[INFO] encoding variant \"c.70A>T\"\n",
      "https://rest.variantvalidator.org/VariantValidator/variantvalidator/hg38/NM_033028.5%3Ac.70A>T/NM_033028.5?content-type=application%2Fjson\n",
      "[INFO] encoding variant \"c.77-220del\"\n",
      "https://rest.variantvalidator.org/VariantValidator/variantvalidator/hg38/NM_033028.5%3Ac.77-220del/NM_033028.5?content-type=application%2Fjson\n",
      "We output 4 GA4GH phenopackets to the directory phenopackets\n"
     ]
    }
   ],
   "source": [
    "timporter = TemplateImporter(template=template,  created_by=created_by)\n",
    "individual_list, cvalidator = timporter.import_phenopackets_from_template()"
   ]
  },
  {
   "cell_type": "code",
   "execution_count": 7,
   "metadata": {},
   "outputs": [
    {
     "data": {
      "text/html": [
       "<h2>Cohort validation</h2>\n",
       "<p>No errors found for the cohort with 4 individuals</p>"
      ],
      "text/plain": [
       "<IPython.core.display.HTML object>"
      ]
     },
     "metadata": {},
     "output_type": "display_data"
    }
   ],
   "source": [
    "qc = QcVisualizer(cohort_validator=cvalidator)\n",
    "display(HTML(qc.to_summary_html()))"
   ]
  },
  {
   "cell_type": "code",
   "execution_count": 8,
   "metadata": {},
   "outputs": [
    {
     "data": {
      "text/html": [
       "<table style=\"border: 2px solid black; align: \"left\">\n",
       "<caption>4 phenopackets - PMID:15654695 (n=3); PMID:25533820 (n=1)</caption>\n",
       "<tr><th style=\"text-align: left;font-weight: bold;\">Individual</th><th style=\"text-align: left;font-weight: bold;\">Disease</th><th style=\"text-align: left;font-weight: bold;\">Genotype</th><th style=\"text-align: left;font-weight: bold;\">Phenotypic features</th></tr>\n",
       "<tr><td style=\"text-align: left;\">Patient 1 (MALE; P28Y)</td><td style=\"text-align: left;\">Bardet-Biedl syndrome 4 (OMIM:615982)</td><td style=\"text-align: left;\">NM_033028.5:c.77-216del (homozygous)</td><td style=\"text-align: left;\">Syndactyly (HP:0001159); Nyctalopia (HP:0000662); Reduced visual acuity (HP:0007663); Rod-cone dystrophy (HP:0000510); Cryptorchidism (HP:0000028); Obesity (HP:0001513); Anosmia (HP:0000458); excluded: Intellectual disability (HP:0001249); excluded: Hyposmia (HP:0004409)</td></tr>\n",
       "<tr><td style=\"text-align: left;\">Patient 2 (FEMALE; P22Y)</td><td style=\"text-align: left;\">Bardet-Biedl syndrome 4 (OMIM:615982)</td><td style=\"text-align: left;\">NM_033028.5:c.77-216del (homozygous)</td><td style=\"text-align: left;\">Polydactyly (HP:0010442); Brachydactyly (HP:0001156); Reduced visual acuity (HP:0007663); Clinodactyly of the 5th finger (HP:0004209); Obesity (HP:0001513); Intellectual disability (HP:0001249); excluded: Anosmia (HP:0000458); excluded: Hyposmia (HP:0004409)</td></tr>\n",
       "<tr><td style=\"text-align: left;\">Patient 3 (MALE; P27Y)</td><td style=\"text-align: left;\">Bardet-Biedl syndrome 4 (OMIM:615982)</td><td style=\"text-align: left;\">NM_033028.5:c.77-216del (homozygous)</td><td style=\"text-align: left;\"><b>P19Y</b>: Reduced visual acuity (HP:0007663)<br/>Syndactyly (HP:0001159); Renal cyst (HP:0000107); Cryptorchidism (HP:0000028); Hyposmia (HP:0004409); excluded: Intellectual disability (HP:0001249); excluded: Anosmia (HP:0000458)</td></tr>\n",
       "<tr><td style=\"text-align: left;\">proband (FEMALE; P4Y)</td><td style=\"text-align: left;\">Bardet-Biedl syndrome 4 (OMIM:615982)</td><td style=\"text-align: left;\">NM_033028.5:c.70A>T (homozygous)</td><td style=\"text-align: left;\">Nyctalopia (HP:0000662); Polydactyly (HP:0010442); Obesity (HP:0001513); Retinal thinning (HP:0030329); Optic atrophy (HP:0000648); Reduced visual acuity (HP:0007663); Attenuation of retinal blood vessels (HP:0007843); Retinal pigment epithelial mottling (HP:0007814); Rod-cone dystrophy (HP:0000510); Intellectual disability (HP:0001249); Delayed speech and language development (HP:0000750)</td></tr>\n",
       "</table>"
      ],
      "text/plain": [
       "<IPython.core.display.HTML object>"
      ]
     },
     "metadata": {},
     "output_type": "display_data"
    }
   ],
   "source": [
    "table = IndividualTable(cvalidator.get_error_free_individual_list())\n",
    "display(HTML(table.to_html()))"
   ]
  }
 ],
 "metadata": {
  "kernelspec": {
   "display_name": "ps24venv",
   "language": "python",
   "name": "python3"
  },
  "language_info": {
   "codemirror_mode": {
    "name": "ipython",
    "version": 3
   },
   "file_extension": ".py",
   "mimetype": "text/x-python",
   "name": "python",
   "nbconvert_exporter": "python",
   "pygments_lexer": "ipython3",
   "version": "3.9.6"
  }
 },
 "nbformat": 4,
 "nbformat_minor": 2
}
