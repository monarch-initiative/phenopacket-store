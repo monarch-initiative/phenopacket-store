{
 "cells": [
  {
   "cell_type": "markdown",
   "id": "8ac91e7d-0956-4486-82ef-2a7b291a834c",
   "metadata": {},
   "source": [
    "# MAP3K14 individuals"
   ]
  },
  {
   "cell_type": "code",
   "execution_count": 14,
   "id": "370caa0a-d792-498d-b49a-4d6489fef46c",
   "metadata": {},
   "outputs": [
    {
     "name": "stdout",
     "output_type": "stream",
     "text": [
      "Using pyphetools version 0.9.65\n"
     ]
    }
   ],
   "source": [
    "from pyphetools.creation import TemplateImporter\n",
    "from pyphetools.visualization import IndividualTable, QcVisualizer\n",
    "from IPython.display import display, HTML\n",
    "import pyphetools\n",
    "print(f\"Using pyphetools version {pyphetools.__version__}\")"
   ]
  },
  {
   "cell_type": "code",
   "execution_count": 7,
   "id": "68c3f25d-b205-4cc4-8737-95a1c5132766",
   "metadata": {},
   "outputs": [],
   "source": [
    "hpo_json_file=\"../hp.json\"\n",
    "created_by=\"ORCID:0000-0002-0736-9199\"\n",
    "template = \"input/MAP3K14_individuals.xlsx\""
   ]
  },
  {
   "cell_type": "code",
   "execution_count": 8,
   "id": "f7577a5c-e2ef-41e9-a2a1-2137d17be814",
   "metadata": {},
   "outputs": [],
   "source": [
    "timporter = TemplateImporter(template=template, hp_json=hpo_json_file, created_by=created_by)"
   ]
  },
  {
   "cell_type": "code",
   "execution_count": 9,
   "id": "94370eaf-7693-410a-a4cf-005b401872a6",
   "metadata": {},
   "outputs": [
    {
     "name": "stdout",
     "output_type": "stream",
     "text": [
      "HPO version 2024-03-06\n",
      "Created encoders for 33 fields\n",
      " we got OMIM:620449  NM_003954.5\n",
      "We output 3 GA4GH phenopackets to the directory phenopackets\n"
     ]
    }
   ],
   "source": [
    "individuals, cvalidator = timporter.import_phenopackets_from_template()"
   ]
  },
  {
   "cell_type": "code",
   "execution_count": 12,
   "id": "caba81ad-824c-4da1-bc9c-b2b71fc94577",
   "metadata": {},
   "outputs": [
    {
     "data": {
      "text/html": [
       "<h2>Cohort validation</h2>\n",
       "<p>No errors found for the cohort with 3 individuals</p>"
      ],
      "text/plain": [
       "<IPython.core.display.HTML object>"
      ]
     },
     "metadata": {},
     "output_type": "display_data"
    }
   ],
   "source": [
    "qc = QcVisualizer(cohort_validator=cvalidator)\n",
    "display(HTML(qc.to_summary_html()))"
   ]
  },
  {
   "cell_type": "code",
   "execution_count": 15,
   "id": "0732e2fd-7d0f-4628-9561-5d2e65232e03",
   "metadata": {},
   "outputs": [
    {
     "data": {
      "text/html": [
       "<table style=\"border: 2px solid black; align: \"left\">\n",
       "<caption>3 phenopackets - PMID:25406581 (n=2); PMID:29230214 (n=1)</caption>\n",
       "<tr><th style=\"text-align: left;font-weight: bold;\">Individual</th><th style=\"text-align: left;font-weight: bold;\">Disease</th><th style=\"text-align: left;font-weight: bold;\">Genotype</th><th style=\"text-align: left;font-weight: bold;\">Phenotypic features</th></tr>\n",
       "<tr><td style=\"text-align: left;\">P1 (FEMALE; P9Y)</td><td style=\"text-align: left;\">Immunodeficiency 112 (OMIM:620449)</td><td style=\"text-align: left;\">NM_003954.5:c.1694C>G (homozygous)</td><td style=\"text-align: left;\"><b>P10M</b>: Decreased circulating IgG level (HP:0004315); Decreased circulating IgA level (HP:0002720)<br/><b>P9Y</b>: Decreased circulating total IgM (HP:0002850)<br/>B lymphocytopenia (HP:0010976); Reduced natural killer cell count (HP:0040218); Decreased proportion of class-switched memory B cells (HP:0030388); Recurrent viral infections (HP:0004429); Recurrent bacterial infections (HP:0002718); BCGosis (HP:0020087); excluded: Increased B cell count (HP:0005404); excluded: Increased T cell count (HP:0100828); excluded: T lymphocytopenia (HP:0005403); excluded: BCGitis (HP:0020086); excluded: Chronic mucocutaneous candidiasis (HP:0002728); excluded: Chronic diarrhea (HP:0002028)</td></tr>\n",
       "<tr><td style=\"text-align: left;\">P2 (FEMALE; n/a)</td><td style=\"text-align: left;\">Immunodeficiency 112 (OMIM:620449)</td><td style=\"text-align: left;\">NM_003954.5:c.1694C>G (homozygous)</td><td style=\"text-align: left;\"><b>P1Y3M</b>: Decreased circulating IgA level (HP:0002720)<br/><b>P1Y9M</b>: Decreased circulating total IgM (HP:0002850)<br/>B lymphocytopenia (HP:0010976); Reduced natural killer cell count (HP:0040218); Decreased proportion of class-switched memory B cells (HP:0030388); Recurrent viral infections (HP:0004429); Recurrent bacterial infections (HP:0002718); Recurrent lower respiratory tract infections (HP:0002783); Chronic mucocutaneous candidiasis (HP:0002728); Chronic diarrhea (HP:0002028); excluded: Increased B cell count (HP:0005404); excluded: Increased T cell count (HP:0100828); excluded: T lymphocytopenia (HP:0005403); excluded: BCGitis (HP:0020086)</td></tr>\n",
       "<tr><td style=\"text-align: left;\">proband (FEMALE; P6Y)</td><td style=\"text-align: left;\">Immunodeficiency 112 (OMIM:620449)</td><td style=\"text-align: left;\">NM_003954.5:c.1033G>A (homozygous)</td><td style=\"text-align: left;\"><b>P2Y</b>: BCGitis (HP:0020086)<br/><b>P3Y</b>: BCGosis (HP:0020087)<br/>Decreased circulating IgG level (HP:0004315); Decreased circulating total IgM (HP:0002850); Decreased circulating IgA level (HP:0002720); Increased B cell count (HP:0005404); Increased T cell count (HP:0100828); Decreased proportion of gamma-delta T cells (HP:0500271); excluded: B lymphocytopenia (HP:0010976); excluded: Reduced natural killer cell count (HP:0040218); excluded: T lymphocytopenia (HP:0005403); excluded: Recurrent viral infections (HP:0004429); excluded: Recurrent bacterial infections (HP:0002718)</td></tr>\n",
       "</table>"
      ],
      "text/plain": [
       "<IPython.core.display.HTML object>"
      ]
     },
     "metadata": {},
     "output_type": "display_data"
    }
   ],
   "source": [
    "table = IndividualTable(cvalidator.get_error_free_individual_list())\n",
    "display(HTML(table.to_html()))"
   ]
  },
  {
   "cell_type": "code",
   "execution_count": 16,
   "id": "d5bb4be2-6ec8-4093-9212-d64d4802d960",
   "metadata": {},
   "outputs": [
    {
     "name": "stdout",
     "output_type": "stream",
     "text": [
      "[pyphetools] Ingested 3 GA4GH phenopackets.\n",
      "\tImmunodeficiency 112 (OMIM:620449): n=3\n",
      "We found a total of 17 unique HPO terms\n",
      "Extracted disease: Immunodeficiency 112 (OMIM:620449)\n",
      "Wrote HPOA disease file to OMIM-620449.tab\n"
     ]
    }
   ],
   "source": [
    "PMID = \"PMID:25406581\"\n",
    "df = timporter.create_hpoa_from_phenopackets(pmid=PMID, moi=\"Autosomal recessive\")"
   ]
  },
  {
   "cell_type": "code",
   "execution_count": null,
   "id": "fca193ed-cde0-45a6-a330-146bf74a7261",
   "metadata": {},
   "outputs": [],
   "source": []
  }
 ],
 "metadata": {
  "kernelspec": {
   "display_name": "Python 3 (ipykernel)",
   "language": "python",
   "name": "python3"
  },
  "language_info": {
   "codemirror_mode": {
    "name": "ipython",
    "version": 3
   },
   "file_extension": ".py",
   "mimetype": "text/x-python",
   "name": "python",
   "nbconvert_exporter": "python",
   "pygments_lexer": "ipython3",
   "version": "3.8.10"
  }
 },
 "nbformat": 4,
 "nbformat_minor": 5
}
