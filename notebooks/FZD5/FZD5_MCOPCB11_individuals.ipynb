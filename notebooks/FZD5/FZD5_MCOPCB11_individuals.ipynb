{
 "cells": [
  {
   "cell_type": "markdown",
   "metadata": {},
   "source": [
    "# FZD5\n",
    "[microphthalmia/coloboma-11 (MCOPCB11)](https://omim.org/entry/620731) is caused by heterozygous mutation in the FZD5 gene."
   ]
  },
  {
   "cell_type": "code",
   "execution_count": 3,
   "metadata": {},
   "outputs": [
    {
     "name": "stdout",
     "output_type": "stream",
     "text": [
      "Using pyphetools version 0.9.90\n"
     ]
    }
   ],
   "source": [
    "from pyphetools.creation import TemplateImporter\n",
    "from pyphetools.visualization import IndividualTable, QcVisualizer\n",
    "from IPython.display import display, HTML\n",
    "import pyphetools\n",
    "print(f\"Using pyphetools version {pyphetools.__version__}\")"
   ]
  },
  {
   "cell_type": "code",
   "execution_count": 6,
   "metadata": {},
   "outputs": [],
   "source": [
    "template = \"input/FZD5_MCOPCB11_individuals.xlsx\"\n",
    "created_by = \"0000-0002-0736-9199\""
   ]
  },
  {
   "cell_type": "code",
   "execution_count": 15,
   "metadata": {},
   "outputs": [
    {
     "name": "stdout",
     "output_type": "stream",
     "text": [
      "HPO version 2024-04-26\n",
      "Created encoders for 32 fields\n",
      "Importing OMIM:620731, Microphthalmia/coloboma 11, HGNC:4043, FZD5,  NM_003468.4\n",
      "[INFO] encoding variant \"c.577C>T\"\n",
      "https://rest.variantvalidator.org/VariantValidator/variantvalidator/hg38/NM_003468.4%3Ac.577C>T/NM_003468.4?content-type=application%2Fjson\n",
      "We output 28 GA4GH phenopackets to the directory phenopackets\n"
     ]
    }
   ],
   "source": [
    "timporter = TemplateImporter(template=template,  created_by=created_by)\n",
    "individual_list, cvalidator = timporter.import_phenopackets_from_template()"
   ]
  },
  {
   "cell_type": "code",
   "execution_count": 16,
   "metadata": {},
   "outputs": [
    {
     "data": {
      "text/html": [
       "<h2>Cohort validation</h2>\n",
       "<p>No errors found for the cohort with 28 individuals</p>"
      ],
      "text/plain": [
       "<IPython.core.display.HTML object>"
      ]
     },
     "metadata": {},
     "output_type": "display_data"
    }
   ],
   "source": [
    "qc = QcVisualizer(cohort_validator=cvalidator)\n",
    "display(HTML(qc.to_summary_html()))"
   ]
  },
  {
   "cell_type": "code",
   "execution_count": 17,
   "metadata": {},
   "outputs": [
    {
     "data": {
      "text/html": [
       "<table style=\"border: 2px solid black; align: \"left\">\n",
       "<caption>28 phenopackets - PMID:32737437 (n=3); PMID:33633439 (n=17); PMID:36695497 (n=8)</caption>\n",
       "<tr><th style=\"text-align: left;font-weight: bold;\">Individual</th><th style=\"text-align: left;font-weight: bold;\">Disease</th><th style=\"text-align: left;font-weight: bold;\">Genotype</th><th style=\"text-align: left;font-weight: bold;\">Phenotypic features</th></tr>\n",
       "<tr><td style=\"text-align: left;\">ADN120143 (FEMALE; P10Y)</td><td style=\"text-align: left;\">Microphthalmia/coloboma 11 (OMIM:620731)</td><td style=\"text-align: left;\">NM_003468.4:c.820del (heterozygous)</td><td style=\"text-align: left;\">Iris coloboma (HP:0000612); Retinal coloboma (HP:0000480); Optic disc coloboma (HP:0000588); Chorioretinal coloboma (HP:0000567); excluded: Nystagmus (HP:0000639); excluded: High myopia (HP:0011003); excluded: Microphthalmia (HP:0000568); excluded: Cortical cataract (HP:0100019)</td></tr>\n",
       "<tr><td style=\"text-align: left;\">ADN140259 (FEMALE; P43Y)</td><td style=\"text-align: left;\">Microphthalmia/coloboma 11 (OMIM:620731)</td><td style=\"text-align: left;\">NM_003468.4:c.1081_1082insGAA (heterozygous)</td><td style=\"text-align: left;\">Iris coloboma (HP:0000612); Optic disc coloboma (HP:0000588); Cortical cataract (HP:0100019); excluded: Nystagmus (HP:0000639); excluded: High myopia (HP:0011003); excluded: Microphthalmia (HP:0000568); excluded: Retinal coloboma (HP:0000480); excluded: Chorioretinal coloboma (HP:0000567)</td></tr>\n",
       "<tr><td style=\"text-align: left;\">SG170145 (FEMALE; P26Y)</td><td style=\"text-align: left;\">Microphthalmia/coloboma 11 (OMIM:620731)</td><td style=\"text-align: left;\">NM_003468.4:c.1181_1246del (heterozygous)</td><td style=\"text-align: left;\">Nystagmus (HP:0000639); High myopia (HP:0011003); Iris coloboma (HP:0000612); Chorioretinal coloboma (HP:0000567); excluded: Microphthalmia (HP:0000568); excluded: Retinal coloboma (HP:0000480); excluded: Optic disc coloboma (HP:0000588); excluded: Cortical cataract (HP:0100019)</td></tr>\n",
       "<tr><td style=\"text-align: left;\">9574-I:1 (MALE; P32Y)</td><td style=\"text-align: left;\">Microphthalmia/coloboma 11 (OMIM:620731)</td><td style=\"text-align: left;\">NM_003468.4:c.1428del (heterozygous)</td><td style=\"text-align: left;\">Reduced visual acuity (HP:0007663); Retinal coloboma (HP:0000480); Optic disc hypoplasia (HP:0007766); excluded: Nystagmus (HP:0000639); excluded: Strabismus (HP:0000486); excluded: Photophobia (HP:0000613); excluded: Iris coloboma (HP:0000612); excluded: Hypoplasia of the fovea (HP:0007750)</td></tr>\n",
       "<tr><td style=\"text-align: left;\">9574-II:1 (MALE; P1Y)</td><td style=\"text-align: left;\">Microphthalmia/coloboma 11 (OMIM:620731)</td><td style=\"text-align: left;\">NM_003468.4:c.1428del (heterozygous)</td><td style=\"text-align: left;\">Strabismus (HP:0000486); Iris coloboma (HP:0000612); Retinal coloboma (HP:0000480); excluded: Nystagmus (HP:0000639); excluded: Photophobia (HP:0000613); excluded: Optic disc hypoplasia (HP:0007766); excluded: Hypoplasia of the fovea (HP:0007750)</td></tr>\n",
       "<tr><td style=\"text-align: left;\">9574-II:2 (FEMALE; P3Y)</td><td style=\"text-align: left;\">Microphthalmia/coloboma 11 (OMIM:620731)</td><td style=\"text-align: left;\">NM_003468.4:c.1428del (heterozygous)</td><td style=\"text-align: left;\">Photophobia (HP:0000613); Iris coloboma (HP:0000612); Retinal coloboma (HP:0000480); excluded: Nystagmus (HP:0000639); excluded: Strabismus (HP:0000486); excluded: High myopia (HP:0011003); excluded: High hypermetropia (HP:0008499); excluded: Optic disc hypoplasia (HP:0007766); excluded: Hypoplasia of the fovea (HP:0007750)</td></tr>\n",
       "<tr><td style=\"text-align: left;\">5485-I:1 (MALE; P52Y)</td><td style=\"text-align: left;\">Microphthalmia/coloboma 11 (OMIM:620731)</td><td style=\"text-align: left;\">NM_003468.4:c.1403_1406dup (heterozygous)</td><td style=\"text-align: left;\">High hypermetropia (HP:0008499); Optic disc hypoplasia (HP:0007766); excluded: Nystagmus (HP:0000639); excluded: Strabismus (HP:0000486); excluded: Photophobia (HP:0000613); excluded: Reduced visual acuity (HP:0007663); excluded: High myopia (HP:0011003); excluded: Iris coloboma (HP:0000612); excluded: Retinal coloboma (HP:0000480); excluded: Hypoplasia of the fovea (HP:0007750)</td></tr>\n",
       "<tr><td style=\"text-align: left;\">5485-II:1 (MALE; P26Y)</td><td style=\"text-align: left;\">Microphthalmia/coloboma 11 (OMIM:620731)</td><td style=\"text-align: left;\">NM_003468.4:c.1403_1406dup (heterozygous)</td><td style=\"text-align: left;\">Nystagmus (HP:0000639); Reduced visual acuity (HP:0007663); High myopia (HP:0011003); Iris coloboma (HP:0000612); Retinal coloboma (HP:0000480); excluded: Strabismus (HP:0000486); excluded: Photophobia (HP:0000613); excluded: High hypermetropia (HP:0008499); excluded: Optic disc hypoplasia (HP:0007766); excluded: Hypoplasia of the fovea (HP:0007750)</td></tr>\n",
       "<tr><td style=\"text-align: left;\">5485-II:2 (FEMALE; P11Y)</td><td style=\"text-align: left;\">Microphthalmia/coloboma 11 (OMIM:620731)</td><td style=\"text-align: left;\">NM_003468.4:c.1403_1406dup (heterozygous)</td><td style=\"text-align: left;\">Nystagmus (HP:0000639); Iris coloboma (HP:0000612); Retinal coloboma (HP:0000480); excluded: Strabismus (HP:0000486); excluded: Photophobia (HP:0000613); excluded: High myopia (HP:0011003); excluded: Optic disc hypoplasia (HP:0007766); excluded: Hypoplasia of the fovea (HP:0007750)</td></tr>\n",
       "<tr><td style=\"text-align: left;\">12467-I:1 (MALE; P23Y)</td><td style=\"text-align: left;\">Microphthalmia/coloboma 11 (OMIM:620731)</td><td style=\"text-align: left;\">NM_003468.4:c.1162G>A (heterozygous)</td><td style=\"text-align: left;\">High hypermetropia (HP:0008499); Optic disc hypoplasia (HP:0007766); excluded: Nystagmus (HP:0000639); excluded: Strabismus (HP:0000486); excluded: Photophobia (HP:0000613); excluded: Reduced visual acuity (HP:0007663); excluded: High myopia (HP:0011003); excluded: Iris coloboma (HP:0000612); excluded: Retinal coloboma (HP:0000480); excluded: Hypoplasia of the fovea (HP:0007750)</td></tr>\n",
       "<tr><td style=\"text-align: left;\">12467-II:1 (FEMALE; P8M)</td><td style=\"text-align: left;\">Microphthalmia/coloboma 11 (OMIM:620731)</td><td style=\"text-align: left;\">NM_003468.4:c.1162G>A (heterozygous)</td><td style=\"text-align: left;\">Retinal coloboma (HP:0000480); excluded: Nystagmus (HP:0000639); excluded: Strabismus (HP:0000486); excluded: Photophobia (HP:0000613); excluded: Iris coloboma (HP:0000612); excluded: Optic disc hypoplasia (HP:0007766); excluded: Hypoplasia of the fovea (HP:0007750)</td></tr>\n",
       "<tr><td style=\"text-align: left;\">17413-I:2 (FEMALE; P28Y)</td><td style=\"text-align: left;\">Microphthalmia/coloboma 11 (OMIM:620731)</td><td style=\"text-align: left;\">NM_003468.4:c.388C>A (heterozygous)</td><td style=\"text-align: left;\">Optic disc hypoplasia (HP:0007766); excluded: Nystagmus (HP:0000639); excluded: Strabismus (HP:0000486); excluded: Photophobia (HP:0000613); excluded: Reduced visual acuity (HP:0007663); excluded: Iris coloboma (HP:0000612); excluded: Retinal coloboma (HP:0000480); excluded: Hypoplasia of the fovea (HP:0007750)</td></tr>\n",
       "<tr><td style=\"text-align: left;\">17413-II:1 (FEMALE; P2Y6M)</td><td style=\"text-align: left;\">Microphthalmia/coloboma 11 (OMIM:620731)</td><td style=\"text-align: left;\">NM_003468.4:c.388C>A (heterozygous)</td><td style=\"text-align: left;\">Nystagmus (HP:0000639); Iris coloboma (HP:0000612); Retinal coloboma (HP:0000480); excluded: Strabismus (HP:0000486); excluded: Photophobia (HP:0000613); excluded: High myopia (HP:0011003); excluded: High hypermetropia (HP:0008499); excluded: Optic disc hypoplasia (HP:0007766); excluded: Hypoplasia of the fovea (HP:0007750)</td></tr>\n",
       "<tr><td style=\"text-align: left;\">18739-I:1 (MALE; P36Y)</td><td style=\"text-align: left;\">Microphthalmia/coloboma 11 (OMIM:620731)</td><td style=\"text-align: left;\">NM_003468.4:c.1232A>G (heterozygous)</td><td style=\"text-align: left;\">High hypermetropia (HP:0008499); Optic disc hypoplasia (HP:0007766); excluded: Nystagmus (HP:0000639); excluded: Strabismus (HP:0000486); excluded: Photophobia (HP:0000613); excluded: Reduced visual acuity (HP:0007663); excluded: High myopia (HP:0011003); excluded: Iris coloboma (HP:0000612); excluded: Retinal coloboma (HP:0000480); excluded: Hypoplasia of the fovea (HP:0007750)</td></tr>\n",
       "<tr><td style=\"text-align: left;\">18739-II:1 (MALE; P4Y8M)</td><td style=\"text-align: left;\">Microphthalmia/coloboma 11 (OMIM:620731)</td><td style=\"text-align: left;\">NM_003468.4:c.1232A>G (heterozygous)</td><td style=\"text-align: left;\">Reduced visual acuity (HP:0007663); Optic disc hypoplasia (HP:0007766); excluded: Nystagmus (HP:0000639); excluded: Strabismus (HP:0000486); excluded: Photophobia (HP:0000613); excluded: High myopia (HP:0011003); excluded: High hypermetropia (HP:0008499); excluded: Iris coloboma (HP:0000612); excluded: Retinal coloboma (HP:0000480); excluded: Hypoplasia of the fovea (HP:0007750)</td></tr>\n",
       "<tr><td style=\"text-align: left;\">13706-I:1 (MALE; P32Y)</td><td style=\"text-align: left;\">Microphthalmia/coloboma 11 (OMIM:620731)</td><td style=\"text-align: left;\">NM_003468.4:c.794G>T (heterozygous)</td><td style=\"text-align: left;\">Reduced visual acuity (HP:0007663); Optic disc hypoplasia (HP:0007766); excluded: Nystagmus (HP:0000639); excluded: Strabismus (HP:0000486); excluded: Photophobia (HP:0000613); excluded: High myopia (HP:0011003); excluded: High hypermetropia (HP:0008499); excluded: Iris coloboma (HP:0000612); excluded: Retinal coloboma (HP:0000480); excluded: Hypoplasia of the fovea (HP:0007750)</td></tr>\n",
       "<tr><td style=\"text-align: left;\">13706-II:1 (MALE; P5Y)</td><td style=\"text-align: left;\">Microphthalmia/coloboma 11 (OMIM:620731)</td><td style=\"text-align: left;\">NM_003468.4:c.794G>T (heterozygous)</td><td style=\"text-align: left;\">Nystagmus (HP:0000639); Reduced visual acuity (HP:0007663); High myopia (HP:0011003); Hypoplasia of the fovea (HP:0007750); excluded: Strabismus (HP:0000486); excluded: Photophobia (HP:0000613); excluded: High hypermetropia (HP:0008499); excluded: Iris coloboma (HP:0000612); excluded: Retinal coloboma (HP:0000480); excluded: Optic disc hypoplasia (HP:0007766)</td></tr>\n",
       "<tr><td style=\"text-align: left;\">9472-II:1 (MALE; P48Y)</td><td style=\"text-align: left;\">Microphthalmia/coloboma 11 (OMIM:620731)</td><td style=\"text-align: left;\">NM_003468.4:c.1510A>T (heterozygous)</td><td style=\"text-align: left;\">Reduced visual acuity (HP:0007663); excluded: Nystagmus (HP:0000639); excluded: Strabismus (HP:0000486); excluded: Photophobia (HP:0000613); excluded: Iris coloboma (HP:0000612)</td></tr>\n",
       "<tr><td style=\"text-align: left;\">1267-II:1 (FEMALE; P19Y)</td><td style=\"text-align: left;\">Microphthalmia/coloboma 11 (OMIM:620731)</td><td style=\"text-align: left;\">NM_003468.4:c.1510A>T (heterozygous)</td><td style=\"text-align: left;\">High myopia (HP:0011003); excluded: Nystagmus (HP:0000639); excluded: Strabismus (HP:0000486); excluded: Photophobia (HP:0000613); excluded: Reduced visual acuity (HP:0007663); excluded: High hypermetropia (HP:0008499); excluded: Iris coloboma (HP:0000612)</td></tr>\n",
       "<tr><td style=\"text-align: left;\">940-I:1 (FEMALE; P20Y)</td><td style=\"text-align: left;\">Microphthalmia/coloboma 11 (OMIM:620731)</td><td style=\"text-align: left;\">NM_003468.4:c.350_356del (heterozygous)</td><td style=\"text-align: left;\">High myopia (HP:0011003); excluded: Nystagmus (HP:0000639); excluded: Strabismus (HP:0000486); excluded: Photophobia (HP:0000613); excluded: Reduced visual acuity (HP:0007663); excluded: High hypermetropia (HP:0008499); excluded: Iris coloboma (HP:0000612)</td></tr>\n",
       "<tr><td style=\"text-align: left;\">Individual 1 (UNKNOWN; n/a)</td><td style=\"text-align: left;\">Microphthalmia/coloboma 11 (OMIM:620731)</td><td style=\"text-align: left;\">NM_003468.4:c.147del (heterozygous)</td><td style=\"text-align: left;\">Nystagmus (HP:0000639); Strabismus (HP:0000486); Microphthalmia (HP:0000568); Iris coloboma (HP:0000612); Optic disc coloboma (HP:0000588); Chorioretinal coloboma (HP:0000567); excluded: Retinal detachment (HP:0000541)</td></tr>\n",
       "<tr><td style=\"text-align: left;\">Individual 2 (UNKNOWN; n/a)</td><td style=\"text-align: left;\">Microphthalmia/coloboma 11 (OMIM:620731)</td><td style=\"text-align: left;\">NM_003468.4:c.539dup (heterozygous)</td><td style=\"text-align: left;\">Microphthalmia (HP:0000568); Iris coloboma (HP:0000612); Chorioretinal coloboma (HP:0000567); excluded: Nystagmus (HP:0000639); excluded: Strabismus (HP:0000486); excluded: Optic disc coloboma (HP:0000588); excluded: Retinal detachment (HP:0000541)</td></tr>\n",
       "<tr><td style=\"text-align: left;\">Individual 3 (UNKNOWN; n/a)</td><td style=\"text-align: left;\">Microphthalmia/coloboma 11 (OMIM:620731)</td><td style=\"text-align: left;\">NM_003468.4:c.541G>T (heterozygous)</td><td style=\"text-align: left;\">Iris coloboma (HP:0000612); Chorioretinal coloboma (HP:0000567); excluded: Nystagmus (HP:0000639); excluded: Strabismus (HP:0000486); excluded: Microphthalmia (HP:0000568); excluded: Optic disc coloboma (HP:0000588); excluded: Retinal detachment (HP:0000541)</td></tr>\n",
       "<tr><td style=\"text-align: left;\">Individual 4 (UNKNOWN; n/a)</td><td style=\"text-align: left;\">Microphthalmia/coloboma 11 (OMIM:620731)</td><td style=\"text-align: left;\">NM_003468.4:c.577C>T (heterozygous)</td><td style=\"text-align: left;\">Iris coloboma (HP:0000612); excluded: Nystagmus (HP:0000639); excluded: Strabismus (HP:0000486); excluded: Microphthalmia (HP:0000568); excluded: Optic disc coloboma (HP:0000588); excluded: Chorioretinal coloboma (HP:0000567); excluded: Retinal detachment (HP:0000541)</td></tr>\n",
       "<tr><td style=\"text-align: left;\">Individual 5 (UNKNOWN; n/a)</td><td style=\"text-align: left;\">Microphthalmia/coloboma 11 (OMIM:620731)</td><td style=\"text-align: left;\">NM_003468.4:c.1150G>C (heterozygous)</td><td style=\"text-align: left;\">Nystagmus (HP:0000639); Iris coloboma (HP:0000612); Chorioretinal coloboma (HP:0000567); excluded: Strabismus (HP:0000486); excluded: Microphthalmia (HP:0000568); excluded: Optic disc coloboma (HP:0000588); excluded: Retinal detachment (HP:0000541)</td></tr>\n",
       "<tr><td style=\"text-align: left;\">Individual 6 (UNKNOWN; n/a)</td><td style=\"text-align: left;\">Microphthalmia/coloboma 11 (OMIM:620731)</td><td style=\"text-align: left;\">NM_003468.4:c.1406T>C (heterozygous)</td><td style=\"text-align: left;\">Nystagmus (HP:0000639); Iris coloboma (HP:0000612); Chorioretinal coloboma (HP:0000567); excluded: Strabismus (HP:0000486); excluded: Microphthalmia (HP:0000568); excluded: Optic disc coloboma (HP:0000588); excluded: Retinal detachment (HP:0000541)</td></tr>\n",
       "<tr><td style=\"text-align: left;\">Individual 7 (UNKNOWN; n/a)</td><td style=\"text-align: left;\">Microphthalmia/coloboma 11 (OMIM:620731)</td><td style=\"text-align: left;\">NM_003468.4:c.1495G>T (heterozygous)</td><td style=\"text-align: left;\">Nystagmus (HP:0000639); Iris coloboma (HP:0000612); Chorioretinal coloboma (HP:0000567); Retinal detachment (HP:0000541); excluded: Strabismus (HP:0000486); excluded: Microphthalmia (HP:0000568); excluded: Optic disc coloboma (HP:0000588)</td></tr>\n",
       "<tr><td style=\"text-align: left;\">Individual 8 (UNKNOWN; n/a)</td><td style=\"text-align: left;\">Microphthalmia/coloboma 11 (OMIM:620731)</td><td style=\"text-align: left;\">NM_003468.4:c.1566G>A (heterozygous)</td><td style=\"text-align: left;\">Iris coloboma (HP:0000612); Optic disc coloboma (HP:0000588); excluded: Nystagmus (HP:0000639); excluded: Strabismus (HP:0000486); excluded: Microphthalmia (HP:0000568); excluded: Chorioretinal coloboma (HP:0000567); excluded: Retinal detachment (HP:0000541)</td></tr>\n",
       "</table>"
      ],
      "text/plain": [
       "<IPython.core.display.HTML object>"
      ]
     },
     "metadata": {},
     "output_type": "display_data"
    }
   ],
   "source": [
    "table = IndividualTable(cvalidator.get_error_free_individual_list())\n",
    "display(HTML(table.to_html()))"
   ]
  },
  {
   "cell_type": "code",
   "execution_count": 19,
   "metadata": {},
   "outputs": [
    {
     "name": "stdout",
     "output_type": "stream",
     "text": [
      "[pyphetools] Ingested 28 GA4GH phenopackets.\n",
      "[INFO] Extracted 28 from 28 phenopackets with OMIM:620731\n",
      "\n",
      "\tMicrophthalmia/coloboma 11 (OMIM:620731): n=28\n",
      "We found a total of 15 unique HPO terms\n",
      "Extracted disease: Microphthalmia/coloboma 11 (OMIM:620731)\n",
      "Wrote HPOA disease file to OMIM-620731.tab\n"
     ]
    }
   ],
   "source": [
    "pmid = \"PMID:32737437\"\n",
    "df = timporter.create_hpoa_from_phenopackets(pmid=pmid, moi=\"Autosomal dominant\", target=\"OMIM:620731\")"
   ]
  }
 ],
 "metadata": {
  "kernelspec": {
   "display_name": "ps24venv",
   "language": "python",
   "name": "python3"
  },
  "language_info": {
   "codemirror_mode": {
    "name": "ipython",
    "version": 3
   },
   "file_extension": ".py",
   "mimetype": "text/x-python",
   "name": "python",
   "nbconvert_exporter": "python",
   "pygments_lexer": "ipython3",
   "version": "3.9.6"
  }
 },
 "nbformat": 4,
 "nbformat_minor": 2
}
