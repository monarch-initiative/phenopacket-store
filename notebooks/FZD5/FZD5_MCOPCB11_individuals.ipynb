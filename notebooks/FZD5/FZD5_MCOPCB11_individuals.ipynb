{
 "cells": [
  {
   "cell_type": "markdown",
   "metadata": {},
   "source": [
    "# FZD5\n",
    "[microphthalmia/coloboma-11 (MCOPCB11)](https://omim.org/entry/620731) is caused by heterozygous mutation in the FZD5 gene."
   ]
  },
  {
   "cell_type": "code",
   "execution_count": 1,
   "metadata": {},
   "outputs": [
    {
     "name": "stdout",
     "output_type": "stream",
     "text": [
      "Using pyphetools version 0.9.113\n"
     ]
    }
   ],
   "source": [
    "from pyphetools.creation import TemplateImporter, Moi\n",
    "from pyphetools.visualization import IndividualTable, QcVisualizer\n",
    "from IPython.display import display, HTML\n",
    "import pyphetools\n",
    "print(f\"Using pyphetools version {pyphetools.__version__}\")"
   ]
  },
  {
   "cell_type": "code",
   "execution_count": 2,
   "metadata": {},
   "outputs": [],
   "source": [
    "template = \"input/FZD5_MCOPCB11_individuals.xlsx\"\n",
    "created_by = \"0000-0002-0736-9199\""
   ]
  },
  {
   "cell_type": "code",
   "execution_count": 3,
   "metadata": {},
   "outputs": [
    {
     "name": "stdout",
     "output_type": "stream",
     "text": [
      "HPO version 2024-08-13\n",
      "Created encoders for 33 fields\n",
      "Importing OMIM:620731, Microphthalmia/coloboma 11, HGNC:4043, FZD5,  NM_003468.4\n",
      "We output 32 GA4GH phenopackets to the directory phenopackets\n"
     ]
    }
   ],
   "source": [
    "timporter = TemplateImporter(template=template,  created_by=created_by)\n",
    "individual_list, cvalidator = timporter.import_phenopackets_from_template()"
   ]
  },
  {
   "cell_type": "code",
   "execution_count": 4,
   "metadata": {},
   "outputs": [
    {
     "data": {
      "text/html": [
       "<h2>Cohort validation</h2>\n",
       "<p>Errors found with 3 of 32 phenopackets.</p>\n",
       "<table style=\"border: 2px solid black; align: \"left\">\n",
       "<caption>Error counts</caption>\n",
       "<tr><th style=\"text-align: left;font-weight: bold;\">Level</th><th style=\"text-align: left;font-weight: bold;\">Error category</th><th style=\"text-align: left;font-weight: bold;\">Count</th></tr>\n",
       "<tr><td style=\"text-align: left;\">ERROR</td><td style=\"text-align: left;\">CONFLICT</td><td style=\"text-align: left;\">1</td></tr>\n",
       "<tr><td style=\"text-align: left;\">WARNING</td><td style=\"text-align: left;\">REDUNDANT</td><td style=\"text-align: left;\">2</td></tr>\n",
       "</table>\n",
       "<p>A total of 3 issues were fixed and no individual was removed from the cohort.</p>"
      ],
      "text/plain": [
       "<IPython.core.display.HTML object>"
      ]
     },
     "metadata": {},
     "output_type": "display_data"
    }
   ],
   "source": [
    "qc = QcVisualizer(cohort_validator=cvalidator)\n",
    "display(HTML(qc.to_summary_html()))"
   ]
  },
  {
   "cell_type": "code",
   "execution_count": 5,
   "metadata": {},
   "outputs": [
    {
     "data": {
      "text/html": [
       "<table style=\"border: 2px solid black; align: \"left\">\n",
       "<caption>32 phenopackets - PMID:32737437 (n=7); PMID:33633439 (n=17); PMID:36695497 (n=8)</caption>\n",
       "<tr><th style=\"text-align: left;font-weight: bold;\">Individual</th><th style=\"text-align: left;font-weight: bold;\">Disease</th><th style=\"text-align: left;font-weight: bold;\">Genotype</th><th style=\"text-align: left;font-weight: bold;\">Phenotypic features</th></tr>\n",
       "<tr><td style=\"text-align: left;\">ADN120143 (FEMALE; P10Y)</td><td style=\"text-align: left;\">Microphthalmia/coloboma 11 (OMIM:620731)</td><td style=\"text-align: left;\">NM_003468.4:c.820del (heterozygous)</td><td style=\"text-align: left;\">excluded: Nystagmus (HP:0000639): onset ; excluded: High myopia (HP:0011003): onset ; excluded: Microphthalmia (HP:0000568): onset ; excluded: Cortical cataract (HP:0100019): onset <br/><b>TimeElement(element=OntologyClass(id=HP:0003577, label=Congenital onset))</b>: Iris coloboma (HP:0000612): onset ontology_class {\n",
       "  id: \"HP:0003577\"\n",
       "  label: \"Congenital onset\"\n",
       "}\n",
       "; Retinal coloboma (HP:0000480): onset ontology_class {\n",
       "  id: \"HP:0003577\"\n",
       "  label: \"Congenital onset\"\n",
       "}\n",
       "; Optic disc coloboma (HP:0000588): onset ontology_class {\n",
       "  id: \"HP:0003577\"\n",
       "  label: \"Congenital onset\"\n",
       "}\n",
       "; Chorioretinal coloboma (HP:0000567): onset ontology_class {\n",
       "  id: \"HP:0003577\"\n",
       "  label: \"Congenital onset\"\n",
       "}\n",
       "</td></tr>\n",
       "<tr><td style=\"text-align: left;\">ADN140259 (FEMALE; P43Y)</td><td style=\"text-align: left;\">Microphthalmia/coloboma 11 (OMIM:620731)</td><td style=\"text-align: left;\">NM_003468.4:c.1081_1082insGAA (heterozygous)</td><td style=\"text-align: left;\">Cortical cataract (HP:0100019): onset ; excluded: Nystagmus (HP:0000639): onset ; excluded: High myopia (HP:0011003): onset ; excluded: Microphthalmia (HP:0000568): onset ; excluded: Retinal coloboma (HP:0000480): onset ; excluded: Chorioretinal coloboma (HP:0000567): onset <br/><b>TimeElement(element=OntologyClass(id=HP:0003577, label=Congenital onset))</b>: Iris coloboma (HP:0000612): onset ontology_class {\n",
       "  id: \"HP:0003577\"\n",
       "  label: \"Congenital onset\"\n",
       "}\n",
       "; Optic disc coloboma (HP:0000588): onset ontology_class {\n",
       "  id: \"HP:0003577\"\n",
       "  label: \"Congenital onset\"\n",
       "}\n",
       "</td></tr>\n",
       "<tr><td style=\"text-align: left;\">SG170145 (FEMALE; P26Y)</td><td style=\"text-align: left;\">Microphthalmia/coloboma 11 (OMIM:620731)</td><td style=\"text-align: left;\">NM_003468.4:c.1181_1246del (heterozygous)</td><td style=\"text-align: left;\">excluded: Microphthalmia (HP:0000568): onset ; excluded: Retinal coloboma (HP:0000480): onset ; excluded: Optic disc coloboma (HP:0000588): onset ; excluded: Cortical cataract (HP:0100019): onset <br/><b>TimeElement(element=OntologyClass(id=HP:0003577, label=Congenital onset))</b>: Nystagmus (HP:0000639): onset ontology_class {\n",
       "  id: \"HP:0003577\"\n",
       "  label: \"Congenital onset\"\n",
       "}\n",
       "; High myopia (HP:0011003): onset ontology_class {\n",
       "  id: \"HP:0003577\"\n",
       "  label: \"Congenital onset\"\n",
       "}\n",
       "; Iris coloboma (HP:0000612): onset ontology_class {\n",
       "  id: \"HP:0003577\"\n",
       "  label: \"Congenital onset\"\n",
       "}\n",
       "; Chorioretinal coloboma (HP:0000567): onset ontology_class {\n",
       "  id: \"HP:0003577\"\n",
       "  label: \"Congenital onset\"\n",
       "}\n",
       "</td></tr>\n",
       "<tr><td style=\"text-align: left;\">9574-I:1 (MALE; P32Y)</td><td style=\"text-align: left;\">Microphthalmia/coloboma 11 (OMIM:620731)</td><td style=\"text-align: left;\">NM_003468.4:c.1428del (heterozygous)</td><td style=\"text-align: left;\">Reduced visual acuity (HP:0007663): onset ; Retinal coloboma (HP:0000480): onset ; Optic disc hypoplasia (HP:0007766): onset ; excluded: Nystagmus (HP:0000639): onset ; excluded: Strabismus (HP:0000486): onset ; excluded: Photophobia (HP:0000613): onset ; excluded: Iris coloboma (HP:0000612): onset ; excluded: Hypoplasia of the fovea (HP:0007750): onset </td></tr>\n",
       "<tr><td style=\"text-align: left;\">9574-II:1 (MALE; P1Y)</td><td style=\"text-align: left;\">Microphthalmia/coloboma 11 (OMIM:620731)</td><td style=\"text-align: left;\">NM_003468.4:c.1428del (heterozygous)</td><td style=\"text-align: left;\">Strabismus (HP:0000486): onset ; Iris coloboma (HP:0000612): onset ; Retinal coloboma (HP:0000480): onset ; excluded: Nystagmus (HP:0000639): onset ; excluded: Photophobia (HP:0000613): onset ; excluded: Optic disc hypoplasia (HP:0007766): onset ; excluded: Hypoplasia of the fovea (HP:0007750): onset </td></tr>\n",
       "<tr><td style=\"text-align: left;\">9574-II:2 (FEMALE; P3Y)</td><td style=\"text-align: left;\">Microphthalmia/coloboma 11 (OMIM:620731)</td><td style=\"text-align: left;\">NM_003468.4:c.1428del (heterozygous)</td><td style=\"text-align: left;\">Photophobia (HP:0000613): onset ; Iris coloboma (HP:0000612): onset ; Retinal coloboma (HP:0000480): onset ; excluded: Nystagmus (HP:0000639): onset ; excluded: Strabismus (HP:0000486): onset ; excluded: High myopia (HP:0011003): onset ; excluded: High hypermetropia (HP:0008499): onset ; excluded: Optic disc hypoplasia (HP:0007766): onset ; excluded: Hypoplasia of the fovea (HP:0007750): onset </td></tr>\n",
       "<tr><td style=\"text-align: left;\">5485-I:1 (MALE; P52Y)</td><td style=\"text-align: left;\">Microphthalmia/coloboma 11 (OMIM:620731)</td><td style=\"text-align: left;\">NM_003468.4:c.1403_1406dup (heterozygous)</td><td style=\"text-align: left;\">High hypermetropia (HP:0008499): onset ; Optic disc hypoplasia (HP:0007766): onset ; excluded: Nystagmus (HP:0000639): onset ; excluded: Strabismus (HP:0000486): onset ; excluded: Photophobia (HP:0000613): onset ; excluded: Reduced visual acuity (HP:0007663): onset ; excluded: High myopia (HP:0011003): onset ; excluded: Iris coloboma (HP:0000612): onset ; excluded: Retinal coloboma (HP:0000480): onset ; excluded: Hypoplasia of the fovea (HP:0007750): onset </td></tr>\n",
       "<tr><td style=\"text-align: left;\">5485-II:1 (MALE; P26Y)</td><td style=\"text-align: left;\">Microphthalmia/coloboma 11 (OMIM:620731)</td><td style=\"text-align: left;\">NM_003468.4:c.1403_1406dup (heterozygous)</td><td style=\"text-align: left;\">Nystagmus (HP:0000639): onset ; Reduced visual acuity (HP:0007663): onset ; High myopia (HP:0011003): onset ; Iris coloboma (HP:0000612): onset ; Retinal coloboma (HP:0000480): onset ; excluded: Strabismus (HP:0000486): onset ; excluded: Photophobia (HP:0000613): onset ; excluded: High hypermetropia (HP:0008499): onset ; excluded: Optic disc hypoplasia (HP:0007766): onset ; excluded: Hypoplasia of the fovea (HP:0007750): onset </td></tr>\n",
       "<tr><td style=\"text-align: left;\">5485-II:2 (FEMALE; P11Y)</td><td style=\"text-align: left;\">Microphthalmia/coloboma 11 (OMIM:620731)</td><td style=\"text-align: left;\">NM_003468.4:c.1403_1406dup (heterozygous)</td><td style=\"text-align: left;\">Nystagmus (HP:0000639): onset ; Iris coloboma (HP:0000612): onset ; Retinal coloboma (HP:0000480): onset ; excluded: Strabismus (HP:0000486): onset ; excluded: Photophobia (HP:0000613): onset ; excluded: High myopia (HP:0011003): onset ; excluded: Optic disc hypoplasia (HP:0007766): onset ; excluded: Hypoplasia of the fovea (HP:0007750): onset </td></tr>\n",
       "<tr><td style=\"text-align: left;\">12467-I:1 (MALE; P23Y)</td><td style=\"text-align: left;\">Microphthalmia/coloboma 11 (OMIM:620731)</td><td style=\"text-align: left;\">NM_003468.4:c.1162G>A (heterozygous)</td><td style=\"text-align: left;\">High hypermetropia (HP:0008499): onset ; Optic disc hypoplasia (HP:0007766): onset ; excluded: Nystagmus (HP:0000639): onset ; excluded: Strabismus (HP:0000486): onset ; excluded: Photophobia (HP:0000613): onset ; excluded: Reduced visual acuity (HP:0007663): onset ; excluded: High myopia (HP:0011003): onset ; excluded: Iris coloboma (HP:0000612): onset ; excluded: Retinal coloboma (HP:0000480): onset ; excluded: Hypoplasia of the fovea (HP:0007750): onset </td></tr>\n",
       "<tr><td style=\"text-align: left;\">12467-II:1 (FEMALE; P8M)</td><td style=\"text-align: left;\">Microphthalmia/coloboma 11 (OMIM:620731)</td><td style=\"text-align: left;\">NM_003468.4:c.1162G>A (heterozygous)</td><td style=\"text-align: left;\">Retinal coloboma (HP:0000480): onset ; excluded: Nystagmus (HP:0000639): onset ; excluded: Strabismus (HP:0000486): onset ; excluded: Photophobia (HP:0000613): onset ; excluded: Iris coloboma (HP:0000612): onset ; excluded: Optic disc hypoplasia (HP:0007766): onset ; excluded: Hypoplasia of the fovea (HP:0007750): onset </td></tr>\n",
       "<tr><td style=\"text-align: left;\">17413-I:2 (FEMALE; P28Y)</td><td style=\"text-align: left;\">Microphthalmia/coloboma 11 (OMIM:620731)</td><td style=\"text-align: left;\">NM_003468.4:c.388C>A (heterozygous)</td><td style=\"text-align: left;\">Optic disc hypoplasia (HP:0007766): onset ; excluded: Nystagmus (HP:0000639): onset ; excluded: Strabismus (HP:0000486): onset ; excluded: Photophobia (HP:0000613): onset ; excluded: Reduced visual acuity (HP:0007663): onset ; excluded: Iris coloboma (HP:0000612): onset ; excluded: Retinal coloboma (HP:0000480): onset ; excluded: Hypoplasia of the fovea (HP:0007750): onset </td></tr>\n",
       "<tr><td style=\"text-align: left;\">17413-II:1 (FEMALE; P2Y6M)</td><td style=\"text-align: left;\">Microphthalmia/coloboma 11 (OMIM:620731)</td><td style=\"text-align: left;\">NM_003468.4:c.388C>A (heterozygous)</td><td style=\"text-align: left;\">Nystagmus (HP:0000639): onset ; Iris coloboma (HP:0000612): onset ; Retinal coloboma (HP:0000480): onset ; excluded: Strabismus (HP:0000486): onset ; excluded: Photophobia (HP:0000613): onset ; excluded: High myopia (HP:0011003): onset ; excluded: High hypermetropia (HP:0008499): onset ; excluded: Optic disc hypoplasia (HP:0007766): onset ; excluded: Hypoplasia of the fovea (HP:0007750): onset </td></tr>\n",
       "<tr><td style=\"text-align: left;\">18739-I:1 (MALE; P36Y)</td><td style=\"text-align: left;\">Microphthalmia/coloboma 11 (OMIM:620731)</td><td style=\"text-align: left;\">NM_003468.4:c.1232A>G (heterozygous)</td><td style=\"text-align: left;\">High hypermetropia (HP:0008499): onset ; Optic disc hypoplasia (HP:0007766): onset ; excluded: Nystagmus (HP:0000639): onset ; excluded: Strabismus (HP:0000486): onset ; excluded: Photophobia (HP:0000613): onset ; excluded: Reduced visual acuity (HP:0007663): onset ; excluded: High myopia (HP:0011003): onset ; excluded: Iris coloboma (HP:0000612): onset ; excluded: Retinal coloboma (HP:0000480): onset ; excluded: Hypoplasia of the fovea (HP:0007750): onset </td></tr>\n",
       "<tr><td style=\"text-align: left;\">18739-II:1 (MALE; P4Y8M)</td><td style=\"text-align: left;\">Microphthalmia/coloboma 11 (OMIM:620731)</td><td style=\"text-align: left;\">NM_003468.4:c.1232A>G (heterozygous)</td><td style=\"text-align: left;\">Reduced visual acuity (HP:0007663): onset ; Optic disc hypoplasia (HP:0007766): onset ; excluded: Nystagmus (HP:0000639): onset ; excluded: Strabismus (HP:0000486): onset ; excluded: Photophobia (HP:0000613): onset ; excluded: High myopia (HP:0011003): onset ; excluded: High hypermetropia (HP:0008499): onset ; excluded: Iris coloboma (HP:0000612): onset ; excluded: Retinal coloboma (HP:0000480): onset ; excluded: Hypoplasia of the fovea (HP:0007750): onset </td></tr>\n",
       "<tr><td style=\"text-align: left;\">13706-I:1 (MALE; P32Y)</td><td style=\"text-align: left;\">Microphthalmia/coloboma 11 (OMIM:620731)</td><td style=\"text-align: left;\">NM_003468.4:c.794G>T (heterozygous)</td><td style=\"text-align: left;\">Reduced visual acuity (HP:0007663): onset ; Optic disc hypoplasia (HP:0007766): onset ; excluded: Nystagmus (HP:0000639): onset ; excluded: Strabismus (HP:0000486): onset ; excluded: Photophobia (HP:0000613): onset ; excluded: High myopia (HP:0011003): onset ; excluded: High hypermetropia (HP:0008499): onset ; excluded: Iris coloboma (HP:0000612): onset ; excluded: Retinal coloboma (HP:0000480): onset ; excluded: Hypoplasia of the fovea (HP:0007750): onset </td></tr>\n",
       "<tr><td style=\"text-align: left;\">13706-II:1 (MALE; P5Y)</td><td style=\"text-align: left;\">Microphthalmia/coloboma 11 (OMIM:620731)</td><td style=\"text-align: left;\">NM_003468.4:c.794G>T (heterozygous)</td><td style=\"text-align: left;\">Nystagmus (HP:0000639): onset ; Reduced visual acuity (HP:0007663): onset ; High myopia (HP:0011003): onset ; Hypoplasia of the fovea (HP:0007750): onset ; excluded: Strabismus (HP:0000486): onset ; excluded: Photophobia (HP:0000613): onset ; excluded: High hypermetropia (HP:0008499): onset ; excluded: Iris coloboma (HP:0000612): onset ; excluded: Retinal coloboma (HP:0000480): onset ; excluded: Optic disc hypoplasia (HP:0007766): onset </td></tr>\n",
       "<tr><td style=\"text-align: left;\">9472-II:1 (MALE; P48Y)</td><td style=\"text-align: left;\">Microphthalmia/coloboma 11 (OMIM:620731)</td><td style=\"text-align: left;\">NM_003468.4:c.1510A>T (heterozygous)</td><td style=\"text-align: left;\">Reduced visual acuity (HP:0007663): onset ; excluded: Nystagmus (HP:0000639): onset ; excluded: Strabismus (HP:0000486): onset ; excluded: Photophobia (HP:0000613): onset ; excluded: Iris coloboma (HP:0000612): onset </td></tr>\n",
       "<tr><td style=\"text-align: left;\">1267-II:1 (FEMALE; P19Y)</td><td style=\"text-align: left;\">Microphthalmia/coloboma 11 (OMIM:620731)</td><td style=\"text-align: left;\">NM_003468.4:c.1510A>T (heterozygous)</td><td style=\"text-align: left;\">High myopia (HP:0011003): onset ; excluded: Nystagmus (HP:0000639): onset ; excluded: Strabismus (HP:0000486): onset ; excluded: Photophobia (HP:0000613): onset ; excluded: Reduced visual acuity (HP:0007663): onset ; excluded: High hypermetropia (HP:0008499): onset ; excluded: Iris coloboma (HP:0000612): onset </td></tr>\n",
       "<tr><td style=\"text-align: left;\">940-I:1 (FEMALE; P20Y)</td><td style=\"text-align: left;\">Microphthalmia/coloboma 11 (OMIM:620731)</td><td style=\"text-align: left;\">NM_003468.4:c.350_356del (heterozygous)</td><td style=\"text-align: left;\">High myopia (HP:0011003): onset ; excluded: Nystagmus (HP:0000639): onset ; excluded: Strabismus (HP:0000486): onset ; excluded: Photophobia (HP:0000613): onset ; excluded: Reduced visual acuity (HP:0007663): onset ; excluded: High hypermetropia (HP:0008499): onset ; excluded: Iris coloboma (HP:0000612): onset </td></tr>\n",
       "<tr><td style=\"text-align: left;\">Individual 1 (UNKNOWN)</td><td style=\"text-align: left;\">Microphthalmia/coloboma 11 (OMIM:620731)</td><td style=\"text-align: left;\">NM_003468.4:c.147del (heterozygous)</td><td style=\"text-align: left;\">Nystagmus (HP:0000639): onset ; Strabismus (HP:0000486): onset ; Microphthalmia (HP:0000568): onset ; Iris coloboma (HP:0000612): onset ; Optic disc coloboma (HP:0000588): onset ; Chorioretinal coloboma (HP:0000567): onset ; excluded: Retinal detachment (HP:0000541): onset </td></tr>\n",
       "<tr><td style=\"text-align: left;\">Individual 2 (UNKNOWN)</td><td style=\"text-align: left;\">Microphthalmia/coloboma 11 (OMIM:620731)</td><td style=\"text-align: left;\">NM_003468.4:c.539dup (heterozygous)</td><td style=\"text-align: left;\">Microphthalmia (HP:0000568): onset ; Iris coloboma (HP:0000612): onset ; Chorioretinal coloboma (HP:0000567): onset ; excluded: Nystagmus (HP:0000639): onset ; excluded: Strabismus (HP:0000486): onset ; excluded: Optic disc coloboma (HP:0000588): onset ; excluded: Retinal detachment (HP:0000541): onset </td></tr>\n",
       "<tr><td style=\"text-align: left;\">Individual 3 (UNKNOWN)</td><td style=\"text-align: left;\">Microphthalmia/coloboma 11 (OMIM:620731)</td><td style=\"text-align: left;\">NM_003468.4:c.541G>T (heterozygous)</td><td style=\"text-align: left;\">Iris coloboma (HP:0000612): onset ; Chorioretinal coloboma (HP:0000567): onset ; excluded: Nystagmus (HP:0000639): onset ; excluded: Strabismus (HP:0000486): onset ; excluded: Microphthalmia (HP:0000568): onset ; excluded: Optic disc coloboma (HP:0000588): onset ; excluded: Retinal detachment (HP:0000541): onset </td></tr>\n",
       "<tr><td style=\"text-align: left;\">Individual 4 (UNKNOWN)</td><td style=\"text-align: left;\">Microphthalmia/coloboma 11 (OMIM:620731)</td><td style=\"text-align: left;\">NM_003468.4:c.577C>T (heterozygous)</td><td style=\"text-align: left;\">Iris coloboma (HP:0000612): onset ; excluded: Nystagmus (HP:0000639): onset ; excluded: Strabismus (HP:0000486): onset ; excluded: Microphthalmia (HP:0000568): onset ; excluded: Optic disc coloboma (HP:0000588): onset ; excluded: Chorioretinal coloboma (HP:0000567): onset ; excluded: Retinal detachment (HP:0000541): onset </td></tr>\n",
       "<tr><td style=\"text-align: left;\">Individual 5 (UNKNOWN)</td><td style=\"text-align: left;\">Microphthalmia/coloboma 11 (OMIM:620731)</td><td style=\"text-align: left;\">NM_003468.4:c.1150G>C (heterozygous)</td><td style=\"text-align: left;\">Nystagmus (HP:0000639): onset ; Iris coloboma (HP:0000612): onset ; Chorioretinal coloboma (HP:0000567): onset ; excluded: Strabismus (HP:0000486): onset ; excluded: Microphthalmia (HP:0000568): onset ; excluded: Optic disc coloboma (HP:0000588): onset ; excluded: Retinal detachment (HP:0000541): onset </td></tr>\n",
       "<tr><td style=\"text-align: left;\">Individual 6 (UNKNOWN)</td><td style=\"text-align: left;\">Microphthalmia/coloboma 11 (OMIM:620731)</td><td style=\"text-align: left;\">NM_003468.4:c.1406T>C (heterozygous)</td><td style=\"text-align: left;\">Nystagmus (HP:0000639): onset ; Iris coloboma (HP:0000612): onset ; Chorioretinal coloboma (HP:0000567): onset ; excluded: Strabismus (HP:0000486): onset ; excluded: Microphthalmia (HP:0000568): onset ; excluded: Optic disc coloboma (HP:0000588): onset ; excluded: Retinal detachment (HP:0000541): onset </td></tr>\n",
       "<tr><td style=\"text-align: left;\">Individual 7 (UNKNOWN)</td><td style=\"text-align: left;\">Microphthalmia/coloboma 11 (OMIM:620731)</td><td style=\"text-align: left;\">NM_003468.4:c.1495G>T (heterozygous)</td><td style=\"text-align: left;\">Nystagmus (HP:0000639): onset ; Iris coloboma (HP:0000612): onset ; Chorioretinal coloboma (HP:0000567): onset ; Retinal detachment (HP:0000541): onset ; excluded: Strabismus (HP:0000486): onset ; excluded: Microphthalmia (HP:0000568): onset ; excluded: Optic disc coloboma (HP:0000588): onset </td></tr>\n",
       "<tr><td style=\"text-align: left;\">Individual 8 (UNKNOWN)</td><td style=\"text-align: left;\">Microphthalmia/coloboma 11 (OMIM:620731)</td><td style=\"text-align: left;\">NM_003468.4:c.1566G>A (heterozygous)</td><td style=\"text-align: left;\">Iris coloboma (HP:0000612): onset ; Optic disc coloboma (HP:0000588): onset ; excluded: Nystagmus (HP:0000639): onset ; excluded: Strabismus (HP:0000486): onset ; excluded: Microphthalmia (HP:0000568): onset ; excluded: Chorioretinal coloboma (HP:0000567): onset ; excluded: Retinal detachment (HP:0000541): onset </td></tr>\n",
       "<tr><td style=\"text-align: left;\">Patient 1 ADN120143 (FEMALE; P10Y)</td><td style=\"text-align: left;\">Microphthalmia/coloboma 11 (OMIM:620731)</td><td style=\"text-align: left;\">NM_003468.4:c.820del (heterozygous)</td><td style=\"text-align: left;\">Iris coloboma (HP:0000612): onset ; Optic disc coloboma (HP:0000588): onset ; excluded: Nystagmus (HP:0000639): onset ; excluded: Strabismus (HP:0000486): onset ; excluded: Photophobia (HP:0000613): onset ; excluded: Reduced visual acuity (HP:0007663): onset ; excluded: High myopia (HP:0011003): onset ; excluded: High hypermetropia (HP:0008499): onset ; excluded: Microphthalmia (HP:0000568): onset ; excluded: Chorioretinal coloboma (HP:0000567): onset ; excluded: Posterior cortical cataract (HP:0010924): onset </td></tr>\n",
       "<tr><td style=\"text-align: left;\">Patient 2 ADN140259 (FEMALE; P43Y)</td><td style=\"text-align: left;\">Microphthalmia/coloboma 11 (OMIM:620731)</td><td style=\"text-align: left;\">NM_003468.4:c.1081_1082insGAA (heterozygous)</td><td style=\"text-align: left;\">Iris coloboma (HP:0000612): onset ; Optic disc coloboma (HP:0000588): onset ; Cortical cataract (HP:0100019): onset ; excluded: Chorioretinal coloboma (HP:0000567): onset ; excluded: Posterior cortical cataract (HP:0010924): onset </td></tr>\n",
       "<tr><td style=\"text-align: left;\">Patient 3 SG170145 (FEMALE; P26Y)</td><td style=\"text-align: left;\">Microphthalmia/coloboma 11 (OMIM:620731)</td><td style=\"text-align: left;\">NM_003468.4:c.1181_1246del (heterozygous)</td><td style=\"text-align: left;\">Nystagmus (HP:0000639): onset ; High myopia (HP:0011003): onset ; Iris coloboma (HP:0000612): onset ; Chorioretinal coloboma (HP:0000567): onset ; Posterior cortical cataract (HP:0010924): onset ; excluded: Optic disc coloboma (HP:0000588): onset </td></tr>\n",
       "<tr><td style=\"text-align: left;\">Patient 4 ADN190002 (FEMALE; P52Y)</td><td style=\"text-align: left;\">Microphthalmia/coloboma 11 (OMIM:620731)</td><td style=\"text-align: left;\">NM_003468.4:c.1181_1246del (heterozygous)</td><td style=\"text-align: left;\">Optic disc coloboma (HP:0000588): onset ; excluded: Iris coloboma (HP:0000612): onset ; excluded: Chorioretinal coloboma (HP:0000567): onset ; excluded: Posterior cortical cataract (HP:0010924): onset </td></tr>\n",
       "</table>"
      ],
      "text/plain": [
       "<IPython.core.display.HTML object>"
      ]
     },
     "metadata": {},
     "output_type": "display_data"
    }
   ],
   "source": [
    "table = IndividualTable(cvalidator.get_error_free_individual_list())\n",
    "display(HTML(table.to_html()))"
   ]
  },
  {
   "cell_type": "code",
   "execution_count": 6,
   "metadata": {},
   "outputs": [
    {
     "name": "stdout",
     "output_type": "stream",
     "text": [
      "[pyphetools] Ingested 32 GA4GH phenopackets.\n",
      "[INFO] Extracted 32 from 32 phenopackets with OMIM:620731\n",
      "\n",
      "\tMicrophthalmia/coloboma 11 (OMIM:620731): n=32\n",
      "We found a total of 16 unique HPO terms\n",
      "Extracted disease: Microphthalmia/coloboma 11 (OMIM:620731)\n",
      "Wrote HPOA disease file to OMIM-620731.tab\n"
     ]
    },
    {
     "data": {
      "text/html": [
       "<div>\n",
       "<style scoped>\n",
       "    .dataframe tbody tr th:only-of-type {\n",
       "        vertical-align: middle;\n",
       "    }\n",
       "\n",
       "    .dataframe tbody tr th {\n",
       "        vertical-align: top;\n",
       "    }\n",
       "\n",
       "    .dataframe thead th {\n",
       "        text-align: right;\n",
       "    }\n",
       "</style>\n",
       "<table border=\"1\" class=\"dataframe\">\n",
       "  <thead>\n",
       "    <tr style=\"text-align: right;\">\n",
       "      <th></th>\n",
       "      <th>#diseaseID</th>\n",
       "      <th>diseaseName</th>\n",
       "      <th>phenotypeID</th>\n",
       "      <th>phenotypeName</th>\n",
       "      <th>onsetID</th>\n",
       "      <th>onsetName</th>\n",
       "      <th>frequency</th>\n",
       "      <th>sex</th>\n",
       "      <th>negation</th>\n",
       "      <th>modifier</th>\n",
       "      <th>description</th>\n",
       "      <th>publication</th>\n",
       "      <th>evidence</th>\n",
       "      <th>biocuration</th>\n",
       "    </tr>\n",
       "  </thead>\n",
       "  <tbody>\n",
       "    <tr>\n",
       "      <th>0</th>\n",
       "      <td>OMIM:620731</td>\n",
       "      <td>Microphthalmia/coloboma 11</td>\n",
       "      <td>HP:0000568</td>\n",
       "      <td>Microphthalmia</td>\n",
       "      <td></td>\n",
       "      <td></td>\n",
       "      <td>2/8</td>\n",
       "      <td></td>\n",
       "      <td></td>\n",
       "      <td></td>\n",
       "      <td></td>\n",
       "      <td>PMID:36695497</td>\n",
       "      <td>PCS</td>\n",
       "      <td>ORCID:0000-0002-0736-9199[2024-11-20]</td>\n",
       "    </tr>\n",
       "    <tr>\n",
       "      <th>1</th>\n",
       "      <td>OMIM:620731</td>\n",
       "      <td>Microphthalmia/coloboma 11</td>\n",
       "      <td>HP:0000612</td>\n",
       "      <td>Iris coloboma</td>\n",
       "      <td></td>\n",
       "      <td></td>\n",
       "      <td>8/8</td>\n",
       "      <td></td>\n",
       "      <td></td>\n",
       "      <td></td>\n",
       "      <td></td>\n",
       "      <td>PMID:36695497</td>\n",
       "      <td>PCS</td>\n",
       "      <td>ORCID:0000-0002-0736-9199[2024-11-20]</td>\n",
       "    </tr>\n",
       "    <tr>\n",
       "      <th>2</th>\n",
       "      <td>OMIM:620731</td>\n",
       "      <td>Microphthalmia/coloboma 11</td>\n",
       "      <td>HP:0000567</td>\n",
       "      <td>Chorioretinal coloboma</td>\n",
       "      <td></td>\n",
       "      <td></td>\n",
       "      <td>6/8</td>\n",
       "      <td></td>\n",
       "      <td></td>\n",
       "      <td></td>\n",
       "      <td></td>\n",
       "      <td>PMID:36695497</td>\n",
       "      <td>PCS</td>\n",
       "      <td>ORCID:0000-0002-0736-9199[2024-11-20]</td>\n",
       "    </tr>\n",
       "    <tr>\n",
       "      <th>3</th>\n",
       "      <td>OMIM:620731</td>\n",
       "      <td>Microphthalmia/coloboma 11</td>\n",
       "      <td>HP:0000639</td>\n",
       "      <td>Nystagmus</td>\n",
       "      <td></td>\n",
       "      <td></td>\n",
       "      <td>4/8</td>\n",
       "      <td></td>\n",
       "      <td></td>\n",
       "      <td></td>\n",
       "      <td></td>\n",
       "      <td>PMID:36695497</td>\n",
       "      <td>PCS</td>\n",
       "      <td>ORCID:0000-0002-0736-9199[2024-11-20]</td>\n",
       "    </tr>\n",
       "    <tr>\n",
       "      <th>4</th>\n",
       "      <td>OMIM:620731</td>\n",
       "      <td>Microphthalmia/coloboma 11</td>\n",
       "      <td>HP:0000486</td>\n",
       "      <td>Strabismus</td>\n",
       "      <td></td>\n",
       "      <td></td>\n",
       "      <td>1/8</td>\n",
       "      <td></td>\n",
       "      <td></td>\n",
       "      <td></td>\n",
       "      <td></td>\n",
       "      <td>PMID:36695497</td>\n",
       "      <td>PCS</td>\n",
       "      <td>ORCID:0000-0002-0736-9199[2024-11-20]</td>\n",
       "    </tr>\n",
       "  </tbody>\n",
       "</table>\n",
       "</div>"
      ],
      "text/plain": [
       "    #diseaseID                 diseaseName phenotypeID  \\\n",
       "0  OMIM:620731  Microphthalmia/coloboma 11  HP:0000568   \n",
       "1  OMIM:620731  Microphthalmia/coloboma 11  HP:0000612   \n",
       "2  OMIM:620731  Microphthalmia/coloboma 11  HP:0000567   \n",
       "3  OMIM:620731  Microphthalmia/coloboma 11  HP:0000639   \n",
       "4  OMIM:620731  Microphthalmia/coloboma 11  HP:0000486   \n",
       "\n",
       "            phenotypeName onsetID onsetName frequency sex negation modifier  \\\n",
       "0          Microphthalmia                         2/8                         \n",
       "1           Iris coloboma                         8/8                         \n",
       "2  Chorioretinal coloboma                         6/8                         \n",
       "3               Nystagmus                         4/8                         \n",
       "4              Strabismus                         1/8                         \n",
       "\n",
       "  description    publication evidence                            biocuration  \n",
       "0              PMID:36695497      PCS  ORCID:0000-0002-0736-9199[2024-11-20]  \n",
       "1              PMID:36695497      PCS  ORCID:0000-0002-0736-9199[2024-11-20]  \n",
       "2              PMID:36695497      PCS  ORCID:0000-0002-0736-9199[2024-11-20]  \n",
       "3              PMID:36695497      PCS  ORCID:0000-0002-0736-9199[2024-11-20]  \n",
       "4              PMID:36695497      PCS  ORCID:0000-0002-0736-9199[2024-11-20]  "
      ]
     },
     "execution_count": 6,
     "metadata": {},
     "output_type": "execute_result"
    }
   ],
   "source": [
    "pmid = \"PMID:32737437\"\n",
    "df = timporter.create_hpoa_from_phenopackets(pmid=pmid, mode_of_inheritance=Moi.AD, target=\"OMIM:620731\")\n",
    "df.head()"
   ]
  }
 ],
 "metadata": {
  "kernelspec": {
   "display_name": "ps24venv",
   "language": "python",
   "name": "python3"
  },
  "language_info": {
   "codemirror_mode": {
    "name": "ipython",
    "version": 3
   },
   "file_extension": ".py",
   "mimetype": "text/x-python",
   "name": "python",
   "nbconvert_exporter": "python",
   "pygments_lexer": "ipython3",
   "version": "3.12.4"
  }
 },
 "nbformat": 4,
 "nbformat_minor": 2
}
