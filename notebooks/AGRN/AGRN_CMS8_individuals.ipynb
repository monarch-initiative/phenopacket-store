{
 "cells": [
  {
   "cell_type": "markdown",
   "metadata": {},
   "source": [
    "# AGRN\n",
    "[ congenital myasthenic syndrome-8 (CMS8)](https://omim.org/entry/615120) is caused by homozygous or compound heterozygous mutation in the AGRN gene."
   ]
  },
  {
   "cell_type": "code",
   "execution_count": 3,
   "metadata": {},
   "outputs": [
    {
     "name": "stdout",
     "output_type": "stream",
     "text": [
      "Using pyphetools version 0.9.92\n"
     ]
    }
   ],
   "source": [
    "from pyphetools.creation import TemplateImporter\n",
    "from pyphetools.visualization import IndividualTable, QcVisualizer\n",
    "from IPython.display import display, HTML\n",
    "import pyphetools\n",
    "print(f\"Using pyphetools version {pyphetools.__version__}\")"
   ]
  },
  {
   "cell_type": "code",
   "execution_count": 4,
   "metadata": {},
   "outputs": [],
   "source": [
    "template = \"input/AGRN_CMS8_individuals.xlsx\"\n",
    "created_by = \"0000-0002-0736-9199\""
   ]
  },
  {
   "cell_type": "code",
   "execution_count": 6,
   "metadata": {},
   "outputs": [
    {
     "name": "stdout",
     "output_type": "stream",
     "text": [
      "HPO version 2024-07-01\n",
      "Created encoders for 35 fields\n",
      "Importing OMIM:615120, Myasthenic syndrome, congenital, 8, with pre- and postsynaptic defects, HGNC:329, AGRN,  NM_198576.4\n",
      "[INFO] encoding variant \"c.226G>A\"\n",
      "https://rest.variantvalidator.org/VariantValidator/variantvalidator/hg38/NM_198576.4%3Ac.226G>A/NM_198576.4?content-type=application%2Fjson\n",
      "We output 5 GA4GH phenopackets to the directory phenopackets\n"
     ]
    }
   ],
   "source": [
    "timporter = TemplateImporter(template=template,  created_by=created_by)\n",
    "individual_list, cvalidator = timporter.import_phenopackets_from_template()"
   ]
  },
  {
   "cell_type": "code",
   "execution_count": 7,
   "metadata": {},
   "outputs": [
    {
     "data": {
      "text/html": [
       "<h2>Cohort validation</h2>\n",
       "<p>Errors found with 1 of 5 phenopackets.</p>\n",
       "<table style=\"border: 2px solid black; align: \"left\">\n",
       "<caption>Error counts</caption>\n",
       "<tr><th style=\"text-align: left;font-weight: bold;\">Level</th><th style=\"text-align: left;font-weight: bold;\">Error category</th><th style=\"text-align: left;font-weight: bold;\">Count</th></tr>\n",
       "<tr><td style=\"text-align: left;\">WARNING</td><td style=\"text-align: left;\">REDUNDANT</td><td style=\"text-align: left;\">1</td></tr>\n",
       "</table>\n",
       "<p>A total of 1 issues were fixed and no individual was removed from the cohort.</p>"
      ],
      "text/plain": [
       "<IPython.core.display.HTML object>"
      ]
     },
     "metadata": {},
     "output_type": "display_data"
    }
   ],
   "source": [
    "qc = QcVisualizer(cohort_validator=cvalidator)\n",
    "display(HTML(qc.to_summary_html()))"
   ]
  },
  {
   "cell_type": "code",
   "execution_count": 8,
   "metadata": {},
   "outputs": [
    {
     "data": {
      "text/html": [
       "<table style=\"border: 2px solid black; align: \"left\">\n",
       "<caption>5 phenopackets - PMID:24951643 (n=5)</caption>\n",
       "<tr><th style=\"text-align: left;font-weight: bold;\">Individual</th><th style=\"text-align: left;font-weight: bold;\">Disease</th><th style=\"text-align: left;font-weight: bold;\">Genotype</th><th style=\"text-align: left;font-weight: bold;\">Phenotypic features</th></tr>\n",
       "<tr><td style=\"text-align: left;\">Kinship 1 Patient 1 (FEMALE; P45Y)</td><td style=\"text-align: left;\">Myasthenic syndrome, congenital, 8, with pre- and postsynaptic defects (OMIM:615120)</td><td style=\"text-align: left;\">NM_198576.4:c.226G>A (homozygous)</td><td style=\"text-align: left;\"><b>P15Y</b>: Foot dorsiflexor weakness (HP:0009027)<br/><b>P18Y</b>: Hand muscle weakness (HP:0030237); Thenar muscle atrophy (HP:0003393)<br/><b>P30Y</b>: Waddling gait (HP:0002515); Proximal muscle weakness (HP:0003701)<br/><b>P43Y</b>: Shoulder girdle muscle weakness (HP:0003547)<br/>excluded: Weakness of facial musculature (HP:0030319); excluded: Ptosis (HP:0000508); excluded: Diplopia (HP:0000651); excluded: Bulbar palsy (HP:0001283)</td></tr>\n",
       "<tr><td style=\"text-align: left;\">Kinship 1 Patient 2 (MALE; P43Y)</td><td style=\"text-align: left;\">Myasthenic syndrome, congenital, 8, with pre- and postsynaptic defects (OMIM:615120)</td><td style=\"text-align: left;\">NM_198576.4:c.226G>A (homozygous)</td><td style=\"text-align: left;\"><b>P15Y</b>: Foot dorsiflexor weakness (HP:0009027)<br/><b>P18Y</b>: Hand muscle weakness (HP:0030237); Thenar muscle atrophy (HP:0003393)<br/><b>P43Y</b>: Impaired toe-walking ability (HP:0034052); Impaired heel-walking ability (HP:6000490)<br/>excluded: Proximal muscle weakness (HP:0003701)</td></tr>\n",
       "<tr><td style=\"text-align: left;\">Kinship 2 Patient 3 (MALE; P36Y)</td><td style=\"text-align: left;\">Myasthenic syndrome, congenital, 8, with pre- and postsynaptic defects (OMIM:615120)</td><td style=\"text-align: left;\">NM_198576.4:c.314A>T (homozygous)</td><td style=\"text-align: left;\"><b>P7Y</b>: Foot dorsiflexor weakness (HP:0009027); Easy fatigability (HP:0003388)<br/><b>P19Y</b>: Hand muscle weakness (HP:0030237)<br/><b>P30Y</b>: Respiratory insufficiency (HP:0002093)<br/><b>P36Y</b>: Distal amyotrophy (HP:0003693)</td></tr>\n",
       "<tr><td style=\"text-align: left;\">Kinship 2 Patient 4 (FEMALE; P27Y)</td><td style=\"text-align: left;\">Myasthenic syndrome, congenital, 8, with pre- and postsynaptic defects (OMIM:615120)</td><td style=\"text-align: left;\">NM_198576.4:c.314A>T (homozygous)</td><td style=\"text-align: left;\"><b>P7Y</b>: Easy fatigability (HP:0003388)<br/><b>P15Y</b>: Foot dorsiflexor weakness (HP:0009027)<br/><b>P16Y</b>: Hand muscle weakness (HP:0030237)<br/><b>P23Y</b>: Thenar muscle atrophy (HP:0003393); Impaired toe-walking ability (HP:0034052); Impaired heel-walking ability (HP:6000490)</td></tr>\n",
       "<tr><td style=\"text-align: left;\">Patient 5 (MALE; P34Y)</td><td style=\"text-align: left;\">Myasthenic syndrome, congenital, 8, with pre- and postsynaptic defects (OMIM:615120)</td><td style=\"text-align: left;\">NM_198576.4:c.5611G>A (homozygous)</td><td style=\"text-align: left;\"><b>P5Y</b>: Easy fatigability (HP:0003388)<br/><b>P8Y</b>: Foot dorsiflexor weakness (HP:0009027)<br/><b>P34Y</b>: Impaired toe-walking ability (HP:0034052); Impaired heel-walking ability (HP:6000490)<br/>excluded: Ptosis (HP:0000508); excluded: Bulbar palsy (HP:0001283)</td></tr>\n",
       "</table>"
      ],
      "text/plain": [
       "<IPython.core.display.HTML object>"
      ]
     },
     "metadata": {},
     "output_type": "display_data"
    }
   ],
   "source": [
    "table = IndividualTable(cvalidator.get_error_free_individual_list())\n",
    "display(HTML(table.to_html()))"
   ]
  }
 ],
 "metadata": {
  "kernelspec": {
   "display_name": "ps24venv",
   "language": "python",
   "name": "python3"
  },
  "language_info": {
   "codemirror_mode": {
    "name": "ipython",
    "version": 3
   },
   "file_extension": ".py",
   "mimetype": "text/x-python",
   "name": "python",
   "nbconvert_exporter": "python",
   "pygments_lexer": "ipython3",
   "version": "3.9.6"
  }
 },
 "nbformat": 4,
 "nbformat_minor": 2
}
