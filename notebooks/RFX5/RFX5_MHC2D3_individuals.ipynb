{
 "cells": [
  {
   "cell_type": "markdown",
   "metadata": {},
   "source": [
    "# RFX5\n",
    "[MHC class II deficiency-3 (MHC2D3)](https://omim.org/entry/620816) is caused by homozygous or compound heterozygous mutation in the RFX5 gene."
   ]
  },
  {
   "cell_type": "code",
   "execution_count": 19,
   "metadata": {},
   "outputs": [
    {
     "name": "stdout",
     "output_type": "stream",
     "text": [
      "Using pyphetools version 0.9.110\n"
     ]
    }
   ],
   "source": [
    "from pyphetools.creation import TemplateImporter, Moi\n",
    "from pyphetools.visualization import IndividualTable, QcVisualizer\n",
    "from IPython.display import display, HTML\n",
    "import pyphetools\n",
    "print(f\"Using pyphetools version {pyphetools.__version__}\")"
   ]
  },
  {
   "cell_type": "code",
   "execution_count": 20,
   "metadata": {},
   "outputs": [
    {
     "name": "stdout",
     "output_type": "stream",
     "text": [
      "HPO version 2024-08-13\n",
      "Created encoders for 43 fields\n",
      "Importing OMIM:620816, MHC class II deficiency 3, HGNC:9986, RFX5,  NM_001025603.2\n",
      "We output 8 GA4GH phenopackets to the directory phenopackets\n"
     ]
    }
   ],
   "source": [
    "template = \"input/RFX5_MHC2D3_individuals.xlsx\"\n",
    "created_by = \"0000-0002-0736-9199\"\n",
    "timporter = TemplateImporter(template=template, created_by=created_by)\n",
    "individual_list, cvalidator = timporter.import_phenopackets_from_template()"
   ]
  },
  {
   "cell_type": "code",
   "execution_count": 21,
   "metadata": {},
   "outputs": [
    {
     "data": {
      "text/html": [
       "<h2>Cohort validation</h2>\n",
       "<p>No errors found for the cohort with 8 individuals</p>"
      ],
      "text/plain": [
       "<IPython.core.display.HTML object>"
      ]
     },
     "metadata": {},
     "output_type": "display_data"
    }
   ],
   "source": [
    "qc = QcVisualizer(cohort_validator=cvalidator)\n",
    "display(HTML(qc.to_summary_html()))"
   ]
  },
  {
   "cell_type": "code",
   "execution_count": 22,
   "metadata": {},
   "outputs": [
    {
     "data": {
      "text/html": [
       "<table style=\"border: 2px solid black; align: \"left\">\n",
       "<caption>8 phenopackets - PMID:30170160 (n=3); PMID:37584719 (n=2); PMID:38441205 (n=3)</caption>\n",
       "<tr><th style=\"text-align: left;font-weight: bold;\">Individual</th><th style=\"text-align: left;font-weight: bold;\">Disease</th><th style=\"text-align: left;font-weight: bold;\">Genotype</th><th style=\"text-align: left;font-weight: bold;\">Phenotypic features</th></tr>\n",
       "<tr><td style=\"text-align: left;\">P5 (MALE; P1Y8M)</td><td style=\"text-align: left;\">MHC class II deficiency 3 (OMIM:620816)</td><td style=\"text-align: left;\">NM_001025603.2:c.455G>T (homozygous)</td><td style=\"text-align: left;\">Chronic oral candidiasis (HP:0009098): onset ; Failure to thrive (HP:0001508): onset ; T lymphocytopenia (HP:0005403): onset ; Recurrent pneumonia (HP:0006532): onset ; Protracted diarrhea (HP:0004385): onset ; Decreased circulating total IgM (HP:0002850): onset ; Sepsis (HP:0100806): onset ; Reduced MHC II surface expression (HP:0031390): onset ; excluded: B lymphocytopenia (HP:0010976): onset ; excluded: Recurrent otitis media (HP:0000403): onset ; excluded: BCGosis (HP:0020087): onset ; excluded: BCGitis (HP:0020086): onset ; excluded: Decreased circulating IgA concentration (HP:0002720): onset </td></tr>\n",
       "<tr><td style=\"text-align: left;\">P6 (MALE; P8M)</td><td style=\"text-align: left;\">MHC class II deficiency 3 (OMIM:620816)</td><td style=\"text-align: left;\">NM_001025603.2:c.116+1G>A (homozygous)</td><td style=\"text-align: left;\">Failure to thrive (HP:0001508): onset ; T lymphocytopenia (HP:0005403): onset ; Recurrent pneumonia (HP:0006532): onset ; Decreased circulating total IgM (HP:0002850): onset ; Sepsis (HP:0100806): onset ; excluded: Chronic oral candidiasis (HP:0009098): onset ; excluded: B lymphocytopenia (HP:0010976): onset ; excluded: Recurrent otitis media (HP:0000403): onset ; excluded: Protracted diarrhea (HP:0004385): onset ; excluded: BCGosis (HP:0020087): onset ; excluded: BCGitis (HP:0020086): onset ; excluded: Decreased circulating IgA concentration (HP:0002720): onset </td></tr>\n",
       "<tr><td style=\"text-align: left;\">P7 (MALE; P1Y)</td><td style=\"text-align: left;\">MHC class II deficiency 3 (OMIM:620816)</td><td style=\"text-align: left;\">NM_001025603.2:c.715C>T (homozygous)</td><td style=\"text-align: left;\">Chronic oral candidiasis (HP:0009098): onset ; Failure to thrive (HP:0001508): onset ; T lymphocytopenia (HP:0005403): onset ; Recurrent otitis media (HP:0000403): onset ; Recurrent pneumonia (HP:0006532): onset ; Decreased circulating total IgM (HP:0002850): onset ; Sepsis (HP:0100806): onset ; excluded: B lymphocytopenia (HP:0010976): onset ; excluded: Protracted diarrhea (HP:0004385): onset ; excluded: BCGosis (HP:0020087): onset ; excluded: BCGitis (HP:0020086): onset ; excluded: Decreased circulating IgA concentration (HP:0002720): onset </td></tr>\n",
       "<tr><td style=\"text-align: left;\">P17 (MALE; P12Y)</td><td style=\"text-align: left;\">MHC class II deficiency 3 (OMIM:620816)</td><td style=\"text-align: left;\">NM_001025603.2:c.433G>C (homozygous)</td><td style=\"text-align: left;\">Failure to thrive (HP:0001508): onset ; Lymphadenitis (HP:0002840): onset ; Splenomegaly (HP:0001744): onset ; Cellulitis (HP:0100658): onset ; B lymphocytopenia (HP:0010976): onset ; Recurrent otitis media (HP:0000403): onset ; Recurrent pneumonia (HP:0006532): onset ; Protracted diarrhea (HP:0004385): onset ; BCGitis (HP:0020086): onset ; Reduced MHC II surface expression (HP:0031390): onset ; excluded: T lymphocytopenia (HP:0005403): onset ; excluded: Decreased circulating IgG concentration (HP:0004315): onset ; excluded: Decreased circulating total IgM (HP:0002850): onset ; excluded: Decreased circulating IgA concentration (HP:0002720): onset </td></tr>\n",
       "<tr><td style=\"text-align: left;\">P18 (MALE; P11M)</td><td style=\"text-align: left;\">MHC class II deficiency 3 (OMIM:620816)</td><td style=\"text-align: left;\">NM_001025603.2:c.1480dup (homozygous)</td><td style=\"text-align: left;\">Failure to thrive (HP:0001508): onset ; T lymphocytopenia (HP:0005403): onset ; Decreased circulating total IgM (HP:0002850): onset ; Decreased circulating IgA concentration (HP:0002720): onset ; Reduced MHC II surface expression (HP:0031390): onset ; excluded: Lymphadenitis (HP:0002840): onset ; excluded: Splenomegaly (HP:0001744): onset ; excluded: Cellulitis (HP:0100658): onset ; excluded: B lymphocytopenia (HP:0010976): onset ; excluded: Recurrent pneumonia (HP:0006532): onset ; excluded: Protracted diarrhea (HP:0004385): onset ; excluded: BCGitis (HP:0020086): onset ; excluded: Decreased circulating IgG concentration (HP:0004315): onset </td></tr>\n",
       "<tr><td style=\"text-align: left;\">P1 (FEMALE; P11Y3M)</td><td style=\"text-align: left;\">MHC class II deficiency 3 (OMIM:620816)</td><td style=\"text-align: left;\">NM_001025603.2:c.616G>C (homozygous)</td><td style=\"text-align: left;\">Recurrent pneumonia (HP:0006532): onset ; Reduced MHC II surface expression (HP:0031390): onset ; excluded: Osteomyelitis (HP:0002754): onset ; excluded: Septic arthritis (HP:0003095): onset ; excluded: Chronic oral candidiasis (HP:0009098): onset ; excluded: Bronchiectasis (HP:0002110): onset ; excluded: Protracted diarrhea (HP:0004385): onset <br/><b>TimeElement(element=Age(iso8601duration=P11Y3M))</b>: Sepsis (HP:0100806): onset age {\n",
       "  iso8601duration: \"P11Y3M\"\n",
       "}\n",
       "</td></tr>\n",
       "<tr><td style=\"text-align: left;\">P4 (MALE; P2Y10M)</td><td style=\"text-align: left;\">MHC class II deficiency 3 (OMIM:620816)</td><td style=\"text-align: left;\">NM_001025603.2:c.1239_1240del (homozygous)</td><td style=\"text-align: left;\">Recurrent pneumonia (HP:0006532): onset ; Protracted diarrhea (HP:0004385): onset ; Reduced MHC II surface expression (HP:0031390): onset ; excluded: Osteomyelitis (HP:0002754): onset ; excluded: Septic arthritis (HP:0003095): onset ; excluded: Chronic oral candidiasis (HP:0009098): onset ; excluded: Bronchiectasis (HP:0002110): onset ; excluded: Sepsis (HP:0100806): onset </td></tr>\n",
       "<tr><td style=\"text-align: left;\">P8 (MALE; P11Y3M)</td><td style=\"text-align: left;\">MHC class II deficiency 3 (OMIM:620816)</td><td style=\"text-align: left;\">NM_001025603.2:c.616G>C (homozygous)</td><td style=\"text-align: left;\">Osteomyelitis (HP:0002754): onset ; Septic arthritis (HP:0003095): onset ; Chronic oral candidiasis (HP:0009098): onset ; Bronchiectasis (HP:0002110): onset ; Recurrent pneumonia (HP:0006532): onset ; Protracted diarrhea (HP:0004385): onset ; Reduced MHC II surface expression (HP:0031390): onset ; excluded: Sepsis (HP:0100806): onset </td></tr>\n",
       "</table>"
      ],
      "text/plain": [
       "<IPython.core.display.HTML object>"
      ]
     },
     "metadata": {},
     "output_type": "display_data"
    }
   ],
   "source": [
    "table = IndividualTable(cvalidator.get_error_free_individual_list())\n",
    "display(HTML(table.to_html()))"
   ]
  },
  {
   "cell_type": "code",
   "execution_count": 23,
   "metadata": {},
   "outputs": [
    {
     "name": "stdout",
     "output_type": "stream",
     "text": [
      "[pyphetools] Ingested 8 GA4GH phenopackets.\n",
      "[INFO] Extracted 8 from 8 phenopackets with OMIM:620816\n",
      "\n",
      "\tMHC class II deficiency 3 (OMIM:620816): n=8\n",
      "We found a total of 20 unique HPO terms\n",
      "Extracted disease: MHC class II deficiency 3 (OMIM:620816)\n",
      "Wrote HPOA disease file to OMIM-620816.tab\n"
     ]
    },
    {
     "data": {
      "text/html": [
       "<div>\n",
       "<style scoped>\n",
       "    .dataframe tbody tr th:only-of-type {\n",
       "        vertical-align: middle;\n",
       "    }\n",
       "\n",
       "    .dataframe tbody tr th {\n",
       "        vertical-align: top;\n",
       "    }\n",
       "\n",
       "    .dataframe thead th {\n",
       "        text-align: right;\n",
       "    }\n",
       "</style>\n",
       "<table border=\"1\" class=\"dataframe\">\n",
       "  <thead>\n",
       "    <tr style=\"text-align: right;\">\n",
       "      <th></th>\n",
       "      <th>#diseaseID</th>\n",
       "      <th>diseaseName</th>\n",
       "      <th>phenotypeID</th>\n",
       "      <th>phenotypeName</th>\n",
       "      <th>onsetID</th>\n",
       "      <th>onsetName</th>\n",
       "      <th>frequency</th>\n",
       "      <th>sex</th>\n",
       "      <th>negation</th>\n",
       "      <th>modifier</th>\n",
       "      <th>description</th>\n",
       "      <th>publication</th>\n",
       "      <th>evidence</th>\n",
       "      <th>biocuration</th>\n",
       "    </tr>\n",
       "  </thead>\n",
       "  <tbody>\n",
       "    <tr>\n",
       "      <th>0</th>\n",
       "      <td>OMIM:620816</td>\n",
       "      <td>MHC class II deficiency 3</td>\n",
       "      <td>HP:0002754</td>\n",
       "      <td>Osteomyelitis</td>\n",
       "      <td></td>\n",
       "      <td></td>\n",
       "      <td>1/3</td>\n",
       "      <td></td>\n",
       "      <td></td>\n",
       "      <td></td>\n",
       "      <td></td>\n",
       "      <td>PMID:38441205</td>\n",
       "      <td>PCS</td>\n",
       "      <td>ORCID:0000-0002-0736-9199[2024-10-19]</td>\n",
       "    </tr>\n",
       "    <tr>\n",
       "      <th>1</th>\n",
       "      <td>OMIM:620816</td>\n",
       "      <td>MHC class II deficiency 3</td>\n",
       "      <td>HP:0003095</td>\n",
       "      <td>Septic arthritis</td>\n",
       "      <td></td>\n",
       "      <td></td>\n",
       "      <td>1/3</td>\n",
       "      <td></td>\n",
       "      <td></td>\n",
       "      <td></td>\n",
       "      <td></td>\n",
       "      <td>PMID:38441205</td>\n",
       "      <td>PCS</td>\n",
       "      <td>ORCID:0000-0002-0736-9199[2024-10-19]</td>\n",
       "    </tr>\n",
       "    <tr>\n",
       "      <th>2</th>\n",
       "      <td>OMIM:620816</td>\n",
       "      <td>MHC class II deficiency 3</td>\n",
       "      <td>HP:0009098</td>\n",
       "      <td>Chronic oral candidiasis</td>\n",
       "      <td></td>\n",
       "      <td></td>\n",
       "      <td>1/3</td>\n",
       "      <td></td>\n",
       "      <td></td>\n",
       "      <td></td>\n",
       "      <td></td>\n",
       "      <td>PMID:38441205</td>\n",
       "      <td>PCS</td>\n",
       "      <td>ORCID:0000-0002-0736-9199[2024-10-19]</td>\n",
       "    </tr>\n",
       "    <tr>\n",
       "      <th>3</th>\n",
       "      <td>OMIM:620816</td>\n",
       "      <td>MHC class II deficiency 3</td>\n",
       "      <td>HP:0002110</td>\n",
       "      <td>Bronchiectasis</td>\n",
       "      <td></td>\n",
       "      <td></td>\n",
       "      <td>1/3</td>\n",
       "      <td></td>\n",
       "      <td></td>\n",
       "      <td></td>\n",
       "      <td></td>\n",
       "      <td>PMID:38441205</td>\n",
       "      <td>PCS</td>\n",
       "      <td>ORCID:0000-0002-0736-9199[2024-10-19]</td>\n",
       "    </tr>\n",
       "    <tr>\n",
       "      <th>4</th>\n",
       "      <td>OMIM:620816</td>\n",
       "      <td>MHC class II deficiency 3</td>\n",
       "      <td>HP:0006532</td>\n",
       "      <td>Recurrent pneumonia</td>\n",
       "      <td></td>\n",
       "      <td></td>\n",
       "      <td>3/3</td>\n",
       "      <td></td>\n",
       "      <td></td>\n",
       "      <td></td>\n",
       "      <td></td>\n",
       "      <td>PMID:38441205</td>\n",
       "      <td>PCS</td>\n",
       "      <td>ORCID:0000-0002-0736-9199[2024-10-19]</td>\n",
       "    </tr>\n",
       "  </tbody>\n",
       "</table>\n",
       "</div>"
      ],
      "text/plain": [
       "    #diseaseID  ...                            biocuration\n",
       "0  OMIM:620816  ...  ORCID:0000-0002-0736-9199[2024-10-19]\n",
       "1  OMIM:620816  ...  ORCID:0000-0002-0736-9199[2024-10-19]\n",
       "2  OMIM:620816  ...  ORCID:0000-0002-0736-9199[2024-10-19]\n",
       "3  OMIM:620816  ...  ORCID:0000-0002-0736-9199[2024-10-19]\n",
       "4  OMIM:620816  ...  ORCID:0000-0002-0736-9199[2024-10-19]\n",
       "\n",
       "[5 rows x 14 columns]"
      ]
     },
     "execution_count": 23,
     "metadata": {},
     "output_type": "execute_result"
    }
   ],
   "source": [
    "pmid = \"PMID:30170160\"\n",
    "df = timporter.create_hpoa_from_phenopackets(pmid=pmid, mode_of_inheritance=Moi.AR, target=\"OMIM:620816\")\n",
    "df.head()"
   ]
  },
  {
   "cell_type": "code",
   "execution_count": null,
   "metadata": {},
   "outputs": [],
   "source": []
  }
 ],
 "metadata": {
  "kernelspec": {
   "display_name": "ps24venv",
   "language": "python",
   "name": "python3"
  },
  "language_info": {
   "codemirror_mode": {
    "name": "ipython",
    "version": 3
   },
   "file_extension": ".py",
   "mimetype": "text/x-python",
   "name": "python",
   "nbconvert_exporter": "python",
   "pygments_lexer": "ipython3",
   "version": "3.12.4"
  }
 },
 "nbformat": 4,
 "nbformat_minor": 2
}
