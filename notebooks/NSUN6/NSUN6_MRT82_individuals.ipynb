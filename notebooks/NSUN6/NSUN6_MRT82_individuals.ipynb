{
 "cells": [
  {
   "cell_type": "markdown",
   "metadata": {},
   "source": [
    "# NSUN6\n",
    "[autosomal recessive intellectual developmental disorder-82 (MRT82)](https://omim.org/entry/620779) is caused by homozygous mutation in the NSUN6 gene."
   ]
  },
  {
   "cell_type": "code",
   "execution_count": 3,
   "metadata": {},
   "outputs": [
    {
     "name": "stdout",
     "output_type": "stream",
     "text": [
      "Using pyphetools version 0.9.86\n"
     ]
    }
   ],
   "source": [
    "from pyphetools.creation import TemplateImporter\n",
    "from pyphetools.visualization import IndividualTable, QcVisualizer\n",
    "from IPython.display import display, HTML\n",
    "import pyphetools\n",
    "print(f\"Using pyphetools version {pyphetools.__version__}\")\n"
   ]
  },
  {
   "cell_type": "code",
   "execution_count": 5,
   "metadata": {},
   "outputs": [],
   "source": [
    "template = \"input/NSUN6_MRT82_individuals.xlsx\"\n",
    "created_by = \"0000-0002-0736-9199\""
   ]
  },
  {
   "cell_type": "code",
   "execution_count": 6,
   "metadata": {},
   "outputs": [
    {
     "name": "stdout",
     "output_type": "stream",
     "text": [
      "HPO version 2024-04-26\n",
      "Created encoders for 30 fields\n",
      "Importing OMIM:620779, Intellectual developmental disorder, autosomal recessive 82, HGNC:23529, NSUN6,  NM_182543.5\n",
      "[INFO] encoding variant \"c.25_26del\"\n",
      "https://rest.variantvalidator.org/VariantValidator/variantvalidator/hg38/NM_182543.5%3Ac.25_26del/NM_182543.5?content-type=application%2Fjson\n",
      "[INFO] encoding variant \"c.1320_1323del\"\n",
      "https://rest.variantvalidator.org/VariantValidator/variantvalidator/hg38/NM_182543.5%3Ac.1320_1323del/NM_182543.5?content-type=application%2Fjson\n",
      "[INFO] encoding variant \"c.967G>A\"\n",
      "https://rest.variantvalidator.org/VariantValidator/variantvalidator/hg38/NM_182543.5%3Ac.967G>A/NM_182543.5?content-type=application%2Fjson\n",
      "We output 3 GA4GH phenopackets to the directory phenopackets\n"
     ]
    }
   ],
   "source": [
    "timporter = TemplateImporter(template=template,  created_by=created_by)\n",
    "individual_list, cvalidator = timporter.import_phenopackets_from_template()"
   ]
  },
  {
   "cell_type": "code",
   "execution_count": 7,
   "metadata": {},
   "outputs": [
    {
     "data": {
      "text/html": [
       "<h2>Cohort validation</h2>\n",
       "<p>No errors found for the cohort with 3 individuals</p>"
      ],
      "text/plain": [
       "<IPython.core.display.HTML object>"
      ]
     },
     "metadata": {},
     "output_type": "display_data"
    }
   ],
   "source": [
    "qc = QcVisualizer(cohort_validator=cvalidator)\n",
    "display(HTML(qc.to_summary_html()))"
   ]
  },
  {
   "cell_type": "code",
   "execution_count": 8,
   "metadata": {},
   "outputs": [
    {
     "data": {
      "text/html": [
       "<table style=\"border: 2px solid black; align: \"left\">\n",
       "<caption>3 phenopackets - PMID:37226891 (n=3)</caption>\n",
       "<tr><th style=\"text-align: left;font-weight: bold;\">Individual</th><th style=\"text-align: left;font-weight: bold;\">Disease</th><th style=\"text-align: left;font-weight: bold;\">Genotype</th><th style=\"text-align: left;font-weight: bold;\">Phenotypic features</th></tr>\n",
       "<tr><td style=\"text-align: left;\">Individual 1 (FEMALE; P1Y2M)</td><td style=\"text-align: left;\">Intellectual developmental disorder, autosomal recessive 82 (OMIM:620779)</td><td style=\"text-align: left;\">NM_182543.5:c.25_26del (homozygous)</td><td style=\"text-align: left;\"><b>P2M</b>: Cerebellar vermis hypoplasia (HP:0001320)<br/>Low-set ears (HP:0000369); Global developmental delay (HP:0001263); Intellectual disability (HP:0001249); Motor delay (HP:0001270); Delayed speech and language development (HP:0000750); Seizure (HP:0001250); Microcephaly (HP:0000252); Growth delay (HP:0001510)</td></tr>\n",
       "<tr><td style=\"text-align: left;\">Individual 2 (MALE; P11Y)</td><td style=\"text-align: left;\">Intellectual developmental disorder, autosomal recessive 82 (OMIM:620779)</td><td style=\"text-align: left;\">NM_182543.5:c.967G>A (homozygous)</td><td style=\"text-align: left;\">Sleep abnormality (HP:0002360); Global developmental delay (HP:0001263); Intellectual disability (HP:0001249); Motor delay (HP:0001270); Delayed speech and language development (HP:0000750); Aggressive behavior (HP:0000718); excluded: Autism (HP:0000717); excluded: Attention deficit hyperactivity disorder (HP:0007018); excluded: Seizure (HP:0001250); excluded: Microcephaly (HP:0000252); excluded: Growth delay (HP:0001510); excluded: Low-set ears (HP:0000369)</td></tr>\n",
       "<tr><td style=\"text-align: left;\">Individual 3 (MALE; P23Y)</td><td style=\"text-align: left;\">Intellectual developmental disorder, autosomal recessive 82 (OMIM:620779)</td><td style=\"text-align: left;\">NM_182543.5:c.1320_1323del (homozygous)</td><td style=\"text-align: left;\">Autism (HP:0000717); Attention deficit hyperactivity disorder (HP:0007018); Intellectual disability (HP:0001249); Delayed speech and language development (HP:0000750); Growth delay (HP:0001510); excluded: Sleep abnormality (HP:0002360); excluded: Motor delay (HP:0001270); excluded: Aggressive behavior (HP:0000718); excluded: Seizure (HP:0001250); excluded: Microcephaly (HP:0000252); excluded: Low-set ears (HP:0000369)</td></tr>\n",
       "</table>"
      ],
      "text/plain": [
       "<IPython.core.display.HTML object>"
      ]
     },
     "metadata": {},
     "output_type": "display_data"
    }
   ],
   "source": [
    "table = IndividualTable(cvalidator.get_error_free_individual_list())\n",
    "display(HTML(table.to_html()))"
   ]
  },
  {
   "cell_type": "code",
   "execution_count": 9,
   "metadata": {},
   "outputs": [
    {
     "name": "stdout",
     "output_type": "stream",
     "text": [
      "[pyphetools] Ingested 3 GA4GH phenopackets.\n",
      "\tIntellectual developmental disorder, autosomal recessive 82 (OMIM:620779): n=3\n",
      "We found a total of 13 unique HPO terms\n",
      "Extracted disease: Intellectual developmental disorder, autosomal recessive 82 (OMIM:620779)\n",
      "Wrote HPOA disease file to OMIM-620779.tab\n"
     ]
    }
   ],
   "source": [
    "pmid = \"PMID:37226891\"\n",
    "df = timporter.create_hpoa_from_phenopackets(pmid=pmid, moi=\"Autosomal recessive\")"
   ]
  }
 ],
 "metadata": {
  "kernelspec": {
   "display_name": "ps24venv",
   "language": "python",
   "name": "python3"
  },
  "language_info": {
   "codemirror_mode": {
    "name": "ipython",
    "version": 3
   },
   "file_extension": ".py",
   "mimetype": "text/x-python",
   "name": "python",
   "nbconvert_exporter": "python",
   "pygments_lexer": "ipython3",
   "version": "3.9.6"
  }
 },
 "nbformat": 4,
 "nbformat_minor": 2
}
