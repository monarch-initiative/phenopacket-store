{
 "cells": [
  {
   "cell_type": "markdown",
   "metadata": {},
   "source": [
    "# POGLUT1\n",
    "[autosomal recessive limb-girdle muscular dystrophy-21 (LGMDR21)](https://omim.org/entry/617232) is caused by homozygous or compound heterozygous mutation in the POGLUT1 gene."
   ]
  },
  {
   "cell_type": "code",
   "execution_count": 1,
   "metadata": {},
   "outputs": [
    {
     "name": "stderr",
     "output_type": "stream",
     "text": [
      "/Users/robin/GIT/phenopacket-store/ps24venv/lib/python3.9/site-packages/urllib3/__init__.py:35: NotOpenSSLWarning: urllib3 v2 only supports OpenSSL 1.1.1+, currently the 'ssl' module is compiled with 'LibreSSL 2.8.3'. See: https://github.com/urllib3/urllib3/issues/3020\n",
      "  warnings.warn(\n"
     ]
    },
    {
     "name": "stdout",
     "output_type": "stream",
     "text": [
      "Using pyphetools version 0.9.92\n"
     ]
    }
   ],
   "source": [
    "from pyphetools.creation import TemplateImporter\n",
    "from pyphetools.visualization import IndividualTable, QcVisualizer\n",
    "from IPython.display import display, HTML\n",
    "import pyphetools\n",
    "print(f\"Using pyphetools version {pyphetools.__version__}\")"
   ]
  },
  {
   "cell_type": "code",
   "execution_count": 2,
   "metadata": {},
   "outputs": [],
   "source": [
    "template = \"input/POGLUT1_LGMDR21_individuals.xlsx\"\n",
    "created_by = \"0000-0002-0736-9199\""
   ]
  },
  {
   "cell_type": "code",
   "execution_count": 3,
   "metadata": {},
   "outputs": [
    {
     "name": "stdout",
     "output_type": "stream",
     "text": [
      "HPO version 2024-06-25\n",
      "Created encoders for 26 fields\n",
      "Importing OMIM:617232, Muscular dystrophy, limb-girdle, autosomal recessive 21, HGNC:22954, POGLUT1,  NM_152305.3\n",
      "[INFO] encoding variant \"c.699T>G\"\n",
      "https://rest.variantvalidator.org/VariantValidator/variantvalidator/hg38/NM_152305.3%3Ac.699T>G/NM_152305.3?content-type=application%2Fjson\n",
      "We output 4 GA4GH phenopackets to the directory phenopackets\n"
     ]
    }
   ],
   "source": [
    "timporter = TemplateImporter(template=template,  created_by=created_by)\n",
    "individual_list, cvalidator = timporter.import_phenopackets_from_template()"
   ]
  },
  {
   "cell_type": "code",
   "execution_count": 4,
   "metadata": {},
   "outputs": [
    {
     "data": {
      "text/html": [
       "<h2>Cohort validation</h2>\n",
       "<p>No errors found for the cohort with 4 individuals</p>"
      ],
      "text/plain": [
       "<IPython.core.display.HTML object>"
      ]
     },
     "metadata": {},
     "output_type": "display_data"
    }
   ],
   "source": [
    "qc = QcVisualizer(cohort_validator=cvalidator)\n",
    "display(HTML(qc.to_summary_html()))"
   ]
  },
  {
   "cell_type": "code",
   "execution_count": 5,
   "metadata": {},
   "outputs": [
    {
     "data": {
      "text/html": [
       "<table style=\"border: 2px solid black; align: \"left\">\n",
       "<caption>4 phenopackets - PMID:27807076 (n=4)</caption>\n",
       "<tr><th style=\"text-align: left;font-weight: bold;\">Individual</th><th style=\"text-align: left;font-weight: bold;\">Disease</th><th style=\"text-align: left;font-weight: bold;\">Genotype</th><th style=\"text-align: left;font-weight: bold;\">Phenotypic features</th></tr>\n",
       "<tr><td style=\"text-align: left;\">Patient II.1 (MALE; P43Y)</td><td style=\"text-align: left;\">Muscular dystrophy, limb-girdle, autosomal recessive 21 (OMIM:617232)</td><td style=\"text-align: left;\">NM_152305.3:c.699T>G (homozygous)</td><td style=\"text-align: left;\"><b>P50Y</b>: Loss of ambulation (HP:0002505)<br/>Proximal muscle weakness in lower limbs (HP:0008994); Scapular winging (HP:0003691); Reduced FEV1/FVC ratio (HP:0030877); Fatty replacement of skeletal muscle (HP:0012548); excluded: Elevated circulating creatine kinase concentration (HP:0003236)</td></tr>\n",
       "<tr><td style=\"text-align: left;\">Patient II.2 (FEMALE; P30Y)</td><td style=\"text-align: left;\">Muscular dystrophy, limb-girdle, autosomal recessive 21 (OMIM:617232)</td><td style=\"text-align: left;\">NM_152305.3:c.699T>G (homozygous)</td><td style=\"text-align: left;\"><b>P44Y</b>: Loss of ambulation (HP:0002505)<br/>Proximal muscle weakness in lower limbs (HP:0008994); Scapular winging (HP:0003691); Reduced FEV1/FVC ratio (HP:0030877); Fatty replacement of skeletal muscle (HP:0012548); excluded: Elevated circulating creatine kinase concentration (HP:0003236)</td></tr>\n",
       "<tr><td style=\"text-align: left;\">Patient II.4 (FEMALE; P40Y)</td><td style=\"text-align: left;\">Muscular dystrophy, limb-girdle, autosomal recessive 21 (OMIM:617232)</td><td style=\"text-align: left;\">NM_152305.3:c.699T>G (homozygous)</td><td style=\"text-align: left;\">Proximal muscle weakness in lower limbs (HP:0008994); Scapular winging (HP:0003691); Fatty replacement of skeletal muscle (HP:0012548); excluded: Elevated circulating creatine kinase concentration (HP:0003236); excluded: Loss of ambulation (HP:0002505); excluded: Reduced FEV1/FVC ratio (HP:0030877)</td></tr>\n",
       "<tr><td style=\"text-align: left;\">Patient II.5 (MALE; P37Y)</td><td style=\"text-align: left;\">Muscular dystrophy, limb-girdle, autosomal recessive 21 (OMIM:617232)</td><td style=\"text-align: left;\">NM_152305.3:c.699T>G (homozygous)</td><td style=\"text-align: left;\">Proximal muscle weakness in lower limbs (HP:0008994); Skeletal muscle atrophy (HP:0003202); Scapular winging (HP:0003691); Elevated circulating creatine kinase concentration (HP:0003236); Reduced FEV1/FVC ratio (HP:0030877); Fatty replacement of skeletal muscle (HP:0012548); excluded: Loss of ambulation (HP:0002505)</td></tr>\n",
       "</table>"
      ],
      "text/plain": [
       "<IPython.core.display.HTML object>"
      ]
     },
     "metadata": {},
     "output_type": "display_data"
    }
   ],
   "source": [
    "table = IndividualTable(cvalidator.get_error_free_individual_list())\n",
    "display(HTML(table.to_html()))"
   ]
  },
  {
   "cell_type": "code",
   "execution_count": 6,
   "metadata": {},
   "outputs": [
    {
     "name": "stdout",
     "output_type": "stream",
     "text": [
      "[pyphetools] Ingested 4 GA4GH phenopackets.\n",
      "[INFO] Extracted 4 from 4 phenopackets with OMIM:617232\n",
      "\n",
      "\tMuscular dystrophy, limb-girdle, autosomal recessive 21 (OMIM:617232): n=4\n",
      "We found a total of 7 unique HPO terms\n",
      "Extracted disease: Muscular dystrophy, limb-girdle, autosomal recessive 21 (OMIM:617232)\n",
      "Wrote HPOA disease file to OMIM-617232.tab\n"
     ]
    }
   ],
   "source": [
    "pmid = \"PMID:27807076\"\n",
    "df = timporter.create_hpoa_from_phenopackets(pmid=pmid, moi=\"Autosomal recessive\", target=\"OMIM:617232\")"
   ]
  },
  {
   "cell_type": "code",
   "execution_count": null,
   "metadata": {},
   "outputs": [],
   "source": []
  }
 ],
 "metadata": {
  "kernelspec": {
   "display_name": "ps24venv",
   "language": "python",
   "name": "python3"
  },
  "language_info": {
   "codemirror_mode": {
    "name": "ipython",
    "version": 3
   },
   "file_extension": ".py",
   "mimetype": "text/x-python",
   "name": "python",
   "nbconvert_exporter": "python",
   "pygments_lexer": "ipython3",
   "version": "3.9.6"
  }
 },
 "nbformat": 4,
 "nbformat_minor": 2
}
