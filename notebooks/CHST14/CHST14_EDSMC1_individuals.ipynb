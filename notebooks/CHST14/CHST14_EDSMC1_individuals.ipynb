{
 "cells": [
  {
   "cell_type": "markdown",
   "metadata": {},
   "source": [
    "# CHST14\n",
    "[Ehlers-Danlos syndrome musculocontractural type 1 (EDSMC1)](https://omim.org/entry/601776) is caused by homozygous or compound heterozygous mutation in the CHST14 gene."
   ]
  },
  {
   "cell_type": "code",
   "execution_count": 3,
   "metadata": {},
   "outputs": [
    {
     "name": "stdout",
     "output_type": "stream",
     "text": [
      "Using pyphetools version 0.9.91\n"
     ]
    }
   ],
   "source": [
    "from pyphetools.creation import TemplateImporter\n",
    "from pyphetools.visualization import IndividualTable, QcVisualizer\n",
    "from IPython.display import display, HTML\n",
    "import pyphetools\n",
    "print(f\"Using pyphetools version {pyphetools.__version__}\")"
   ]
  },
  {
   "cell_type": "code",
   "execution_count": 4,
   "metadata": {},
   "outputs": [],
   "source": [
    "template = \"input/CHST14_EDSMC1_individuals.xlsx\"\n",
    "created_by = \"0000-0002-0736-9199\""
   ]
  },
  {
   "cell_type": "code",
   "execution_count": 5,
   "metadata": {},
   "outputs": [
    {
     "name": "stdout",
     "output_type": "stream",
     "text": [
      "HPO version 2024-04-26\n",
      "Created encoders for 73 fields\n",
      "ERROR: Error: Did not recognize heaeder fields: - \"Tapered finger\" -- \"observed\"\n",
      "ERROR: Error: Did not recognize heaeder fields: - \"Adducted thumb\" -- \"observed\"\n",
      "Importing OMIM:601776, Ehlers-Danlos syndrome, musculocontractural type 1, HGNC:24464, CHST14,  NM_130468.4\n",
      "[INFO] encoding variant \"c.797dup\"\n",
      "https://rest.variantvalidator.org/VariantValidator/variantvalidator/hg38/NM_130468.4%3Ac.797dup/NM_130468.4?content-type=application%2Fjson\n",
      "We output 1 GA4GH phenopackets to the directory phenopackets\n"
     ]
    }
   ],
   "source": [
    "timporter = TemplateImporter(template=template,  created_by=created_by)\n",
    "individual_list, cvalidator = timporter.import_phenopackets_from_template()"
   ]
  },
  {
   "cell_type": "code",
   "execution_count": 6,
   "metadata": {},
   "outputs": [
    {
     "data": {
      "text/html": [
       "<h2>Cohort validation</h2>\n",
       "<p>No errors found for the cohort with 1 individuals</p>"
      ],
      "text/plain": [
       "<IPython.core.display.HTML object>"
      ]
     },
     "metadata": {},
     "output_type": "display_data"
    }
   ],
   "source": [
    "qc = QcVisualizer(cohort_validator=cvalidator)\n",
    "display(HTML(qc.to_summary_html()))"
   ]
  },
  {
   "cell_type": "code",
   "execution_count": 7,
   "metadata": {},
   "outputs": [
    {
     "data": {
      "text/html": [
       "<table style=\"border: 2px solid black; align: \"left\">\n",
       "<caption>1 phenopacket - PMID:30249733 (n=1)</caption>\n",
       "<tr><th style=\"text-align: left;font-weight: bold;\">Individual</th><th style=\"text-align: left;font-weight: bold;\">Disease</th><th style=\"text-align: left;font-weight: bold;\">Genotype</th><th style=\"text-align: left;font-weight: bold;\">Phenotypic features</th></tr>\n",
       "<tr><td style=\"text-align: left;\">Case presentation (MALE; P3Y)</td><td style=\"text-align: left;\">Ehlers-Danlos syndrome, musculocontractural type 1 (OMIM:601776)</td><td style=\"text-align: left;\">NM_130468.4:c.797dup (homozygous)</td><td style=\"text-align: left;\"><b>P3Y</b>: Generalized hypotonia (HP:0001290)<br/>Motor delay (HP:0001270); Talipes equinovarus (HP:0001762); Prominent nasolabial fold (HP:0005272); Hypertelorism (HP:0000316); Downslanted palpebral fissures (HP:0000494); Synophrys (HP:0000664); Low-set ears (HP:0000369); Thin upper lip vermilion (HP:0000219); High palate (HP:0000218); Joint hypermobility (HP:0001382); Hyperextensible skin (HP:0000974); Hydronephrosis (HP:0000126); Cryptorchidism (HP:0000028)</td></tr>\n",
       "</table>"
      ],
      "text/plain": [
       "<IPython.core.display.HTML object>"
      ]
     },
     "metadata": {},
     "output_type": "display_data"
    }
   ],
   "source": [
    "table = IndividualTable(cvalidator.get_error_free_individual_list())\n",
    "display(HTML(table.to_html()))"
   ]
  }
 ],
 "metadata": {
  "kernelspec": {
   "display_name": "ps24venv",
   "language": "python",
   "name": "python3"
  },
  "language_info": {
   "codemirror_mode": {
    "name": "ipython",
    "version": 3
   },
   "file_extension": ".py",
   "mimetype": "text/x-python",
   "name": "python",
   "nbconvert_exporter": "python",
   "pygments_lexer": "ipython3",
   "version": "3.9.6"
  }
 },
 "nbformat": 4,
 "nbformat_minor": 2
}
