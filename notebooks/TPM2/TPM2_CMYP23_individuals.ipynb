{
 "cells": [
  {
   "cell_type": "markdown",
   "metadata": {},
   "source": [
    "# TPM2\n",
    "[congenital myopathy-23 (CMYP23)]() is caused by heterozygous mutation in the tropomyosin-2 gene (TPM2)."
   ]
  },
  {
   "cell_type": "code",
   "execution_count": 4,
   "metadata": {},
   "outputs": [
    {
     "name": "stdout",
     "output_type": "stream",
     "text": [
      "Using pyphetools version 0.9.92\n"
     ]
    }
   ],
   "source": [
    "from pyphetools.creation import TemplateImporter\n",
    "from pyphetools.visualization import IndividualTable, QcVisualizer\n",
    "from IPython.display import display, HTML\n",
    "import pyphetools\n",
    "print(f\"Using pyphetools version {pyphetools.__version__}\")"
   ]
  },
  {
   "cell_type": "code",
   "execution_count": 5,
   "metadata": {},
   "outputs": [],
   "source": [
    "template = \"input/TPM2_CMYP23_individuals.xlsx\"\n",
    "created_by = \"0000-0002-0736-9199\""
   ]
  },
  {
   "cell_type": "code",
   "execution_count": 10,
   "metadata": {},
   "outputs": [
    {
     "name": "stdout",
     "output_type": "stream",
     "text": [
      "HPO version 2024-06-25\n",
      "Created encoders for 60 fields\n",
      "Importing OMIM:609285, Congenital myopathy 23, HGNC:12011, TPM2,  NM_003289.4\n",
      "We output 8 GA4GH phenopackets to the directory phenopackets\n"
     ]
    }
   ],
   "source": [
    "timporter = TemplateImporter(template=template,  created_by=created_by)\n",
    "individual_list, cvalidator = timporter.import_phenopackets_from_template()"
   ]
  },
  {
   "cell_type": "code",
   "execution_count": 11,
   "metadata": {},
   "outputs": [
    {
     "data": {
      "text/html": [
       "<h2>Cohort validation</h2>\n",
       "<p>Errors found with 7 of 8 phenopackets.</p>\n",
       "<table style=\"border: 2px solid black; align: \"left\">\n",
       "<caption>Error counts</caption>\n",
       "<tr><th style=\"text-align: left;font-weight: bold;\">Level</th><th style=\"text-align: left;font-weight: bold;\">Error category</th><th style=\"text-align: left;font-weight: bold;\">Count</th></tr>\n",
       "<tr><td style=\"text-align: left;\">WARNING</td><td style=\"text-align: left;\">REDUNDANT</td><td style=\"text-align: left;\">7</td></tr>\n",
       "</table>\n",
       "<p>A total of 7 issues were fixed and no individual was removed from the cohort.</p>"
      ],
      "text/plain": [
       "<IPython.core.display.HTML object>"
      ]
     },
     "metadata": {},
     "output_type": "display_data"
    }
   ],
   "source": [
    "qc = QcVisualizer(cohort_validator=cvalidator)\n",
    "display(HTML(qc.to_summary_html()))"
   ]
  },
  {
   "cell_type": "code",
   "execution_count": 12,
   "metadata": {},
   "outputs": [
    {
     "data": {
      "text/html": [
       "<table style=\"border: 2px solid black; align: \"left\">\n",
       "<caption>8 phenopackets - PMID:23378224 (n=8)</caption>\n",
       "<tr><th style=\"text-align: left;font-weight: bold;\">Individual</th><th style=\"text-align: left;font-weight: bold;\">Disease</th><th style=\"text-align: left;font-weight: bold;\">Genotype</th><th style=\"text-align: left;font-weight: bold;\">Phenotypic features</th></tr>\n",
       "<tr><td style=\"text-align: left;\">Patient 1 family A (FEMALE; P45Y)</td><td style=\"text-align: left;\">Congenital myopathy 23 (OMIM:609285)</td><td style=\"text-align: left;\">NM_003289.4:c.20_22del (heterozygous)</td><td style=\"text-align: left;\">Nemaline bodies (HP:0003798); Centrally nucleated skeletal muscle fibers (HP:0003687); Muscle fiber splitting (HP:0003555); Angulated muscle fibers (HP:0034045); Central core regions in muscle fibers (HP:0030230); Joint contracture (HP:0034392); Elevated circulating creatine kinase concentration (HP:0003236); Gait disturbance (HP:0001288); Proximal muscle weakness (HP:0003701); Lower limb muscle weakness (HP:0007340); Pectus carinatum (HP:0000768); Dysphagia (HP:0002015); excluded: Myofiber disarray (HP:0031318); excluded: Type 1 muscle fiber predominance (HP:0003803); excluded: Fiber type grouping (HP:0033685); excluded: Tip-toe gait (HP:0030051); excluded: Delayed ability to walk (HP:0031936); excluded: Falls (HP:0002527); excluded: Psychosis (HP:0000709); excluded: Schizophrenia (HP:0100753); excluded: Fatigue (HP:0012378); excluded: Thoracic kyphosis (HP:0002942); excluded: Hypertonia (HP:0001276); excluded: Pes planus (HP:0001763); excluded: Exercise-induced myalgia (HP:0003738); excluded: Scoliosis (HP:0002650); excluded: Seizure (HP:0001250)</td></tr>\n",
       "<tr><td style=\"text-align: left;\">Patient 2 family A (MALE; P14Y)</td><td style=\"text-align: left;\">Congenital myopathy 23 (OMIM:609285)</td><td style=\"text-align: left;\">NM_003289.4:c.20_22del (heterozygous)</td><td style=\"text-align: left;\">Nemaline bodies (HP:0003798); Central core regions in muscle fibers (HP:0030230); Joint contracture (HP:0034392); Delayed ability to walk (HP:0031936); Falls (HP:0002527); Thoracic kyphosis (HP:0002942); Hypertonia (HP:0001276); Pes planus (HP:0001763); Pectus carinatum (HP:0000768); excluded: Centrally nucleated skeletal muscle fibers (HP:0003687); excluded: Muscle fiber splitting (HP:0003555); excluded: Angulated muscle fibers (HP:0034045); excluded: Myofiber disarray (HP:0031318); excluded: Type 1 muscle fiber predominance (HP:0003803); excluded: Fiber type grouping (HP:0033685); excluded: Elevated circulating creatine kinase concentration (HP:0003236); excluded: Tip-toe gait (HP:0030051); excluded: Psychosis (HP:0000709); excluded: Schizophrenia (HP:0100753); excluded: Fatigue (HP:0012378); excluded: Proximal muscle weakness (HP:0003701); excluded: Exercise-induced myalgia (HP:0003738); excluded: Scoliosis (HP:0002650); excluded: Seizure (HP:0001250); excluded: Dysphagia (HP:0002015)</td></tr>\n",
       "<tr><td style=\"text-align: left;\">Patient 3 family B (MALE; P41Y)</td><td style=\"text-align: left;\">Congenital myopathy 23 (OMIM:609285)</td><td style=\"text-align: left;\">NM_003289.4:c.20_22del (heterozygous)</td><td style=\"text-align: left;\">Nemaline bodies (HP:0003798); Angulated muscle fibers (HP:0034045); Central core regions in muscle fibers (HP:0030230); Joint contracture (HP:0034392); Elevated circulating creatine kinase concentration (HP:0003236); Fatigue (HP:0012378); Exercise-induced myalgia (HP:0003738); excluded: Centrally nucleated skeletal muscle fibers (HP:0003687); excluded: Muscle fiber splitting (HP:0003555); excluded: Myofiber disarray (HP:0031318); excluded: Type 1 muscle fiber predominance (HP:0003803); excluded: Fiber type grouping (HP:0033685); excluded: Tip-toe gait (HP:0030051); excluded: Delayed ability to walk (HP:0031936); excluded: Falls (HP:0002527); excluded: Psychosis (HP:0000709); excluded: Schizophrenia (HP:0100753); excluded: Thoracic kyphosis (HP:0002942); excluded: Hypertonia (HP:0001276); excluded: Pes planus (HP:0001763); excluded: Proximal muscle weakness (HP:0003701); excluded: Scoliosis (HP:0002650); excluded: Seizure (HP:0001250); excluded: Pectus carinatum (HP:0000768); excluded: Dysphagia (HP:0002015)</td></tr>\n",
       "<tr><td style=\"text-align: left;\">Patient 4 family C (FEMALE; P74Y)</td><td style=\"text-align: left;\">Congenital myopathy 23 (OMIM:609285)</td><td style=\"text-align: left;\">NM_003289.4:c.20_22del (heterozygous)</td><td style=\"text-align: left;\">Nemaline bodies (HP:0003798); Centrally nucleated skeletal muscle fibers (HP:0003687); Muscle fiber splitting (HP:0003555); Myofiber disarray (HP:0031318); Joint contracture (HP:0034392); Elevated circulating creatine kinase concentration (HP:0003236); Psychosis (HP:0000709); Schizophrenia (HP:0100753); Proximal muscle weakness (HP:0003701); Scoliosis (HP:0002650); excluded: Angulated muscle fibers (HP:0034045); excluded: Central core regions in muscle fibers (HP:0030230); excluded: Type 1 muscle fiber predominance (HP:0003803); excluded: Fiber type grouping (HP:0033685); excluded: Tip-toe gait (HP:0030051); excluded: Delayed ability to walk (HP:0031936); excluded: Falls (HP:0002527); excluded: Fatigue (HP:0012378); excluded: Thoracic kyphosis (HP:0002942); excluded: Hypertonia (HP:0001276); excluded: Pes planus (HP:0001763); excluded: Exercise-induced myalgia (HP:0003738); excluded: Seizure (HP:0001250); excluded: Pectus carinatum (HP:0000768); excluded: Dysphagia (HP:0002015)</td></tr>\n",
       "<tr><td style=\"text-align: left;\">Patient 5 family C (FEMALE; P50Y)</td><td style=\"text-align: left;\">Congenital myopathy 23 (OMIM:609285)</td><td style=\"text-align: left;\">NM_003289.4:c.20_22del (heterozygous)</td><td style=\"text-align: left;\"><b>P50Y</b>: Difficulty walking (HP:0002355)<br/>Nemaline bodies (HP:0003798); Centrally nucleated skeletal muscle fibers (HP:0003687); Muscle fiber splitting (HP:0003555); Myofiber disarray (HP:0031318); Joint contracture (HP:0034392); Psychosis (HP:0000709); Schizophrenia (HP:0100753); Proximal muscle weakness (HP:0003701); excluded: Angulated muscle fibers (HP:0034045); excluded: Central core regions in muscle fibers (HP:0030230); excluded: Type 1 muscle fiber predominance (HP:0003803); excluded: Fiber type grouping (HP:0033685); excluded: Elevated circulating creatine kinase concentration (HP:0003236); excluded: Tip-toe gait (HP:0030051); excluded: Delayed ability to walk (HP:0031936); excluded: Falls (HP:0002527); excluded: Fatigue (HP:0012378); excluded: Thoracic kyphosis (HP:0002942); excluded: Hypertonia (HP:0001276); excluded: Pes planus (HP:0001763); excluded: Exercise-induced myalgia (HP:0003738); excluded: Scoliosis (HP:0002650); excluded: Seizure (HP:0001250); excluded: Pectus carinatum (HP:0000768); excluded: Dysphagia (HP:0002015)</td></tr>\n",
       "<tr><td style=\"text-align: left;\">Patient 6 family C (MALE; P40Y)</td><td style=\"text-align: left;\">Congenital myopathy 23 (OMIM:609285)</td><td style=\"text-align: left;\">NM_003289.4:c.20_22del (heterozygous)</td><td style=\"text-align: left;\">Joint contracture (HP:0034392); Psychosis (HP:0000709); Proximal muscle weakness (HP:0003701); excluded: Elevated circulating creatine kinase concentration (HP:0003236); excluded: Tip-toe gait (HP:0030051); excluded: Delayed ability to walk (HP:0031936); excluded: Falls (HP:0002527); excluded: Schizophrenia (HP:0100753); excluded: Fatigue (HP:0012378); excluded: Thoracic kyphosis (HP:0002942); excluded: Hypertonia (HP:0001276); excluded: Pes planus (HP:0001763); excluded: Exercise-induced myalgia (HP:0003738); excluded: Scoliosis (HP:0002650); excluded: Seizure (HP:0001250); excluded: Pectus carinatum (HP:0000768); excluded: Dysphagia (HP:0002015)</td></tr>\n",
       "<tr><td style=\"text-align: left;\">Patient 7 family D (MALE; P13Y)</td><td style=\"text-align: left;\">Congenital myopathy 23 (OMIM:609285)</td><td style=\"text-align: left;\">NM_003289.4:c.20_22del (heterozygous)</td><td style=\"text-align: left;\">Nemaline bodies (HP:0003798); Type 1 muscle fiber predominance (HP:0003803); Joint contracture (HP:0034392); Gait disturbance (HP:0001288); Scoliosis (HP:0002650); Lower limb muscle weakness (HP:0007340); Seizure (HP:0001250); excluded: Centrally nucleated skeletal muscle fibers (HP:0003687); excluded: Muscle fiber splitting (HP:0003555); excluded: Angulated muscle fibers (HP:0034045); excluded: Central core regions in muscle fibers (HP:0030230); excluded: Myofiber disarray (HP:0031318); excluded: Elevated circulating creatine kinase concentration (HP:0003236); excluded: Tip-toe gait (HP:0030051); excluded: Delayed ability to walk (HP:0031936); excluded: Falls (HP:0002527); excluded: Psychosis (HP:0000709); excluded: Schizophrenia (HP:0100753); excluded: Fatigue (HP:0012378); excluded: Thoracic kyphosis (HP:0002942); excluded: Hypertonia (HP:0001276); excluded: Pes planus (HP:0001763); excluded: Proximal muscle weakness (HP:0003701); excluded: Exercise-induced myalgia (HP:0003738); excluded: Pectus carinatum (HP:0000768); excluded: Dysphagia (HP:0002015)</td></tr>\n",
       "<tr><td style=\"text-align: left;\">Patient 8 family E (FEMALE; P65Y)</td><td style=\"text-align: left;\">Congenital myopathy 23 (OMIM:609285)</td><td style=\"text-align: left;\">NM_003289.4:c.20_22del (heterozygous)</td><td style=\"text-align: left;\">Nemaline bodies (HP:0003798); Centrally nucleated skeletal muscle fibers (HP:0003687); Muscle fiber splitting (HP:0003555); Fiber type grouping (HP:0033685); Joint contracture (HP:0034392); Elevated circulating creatine kinase concentration (HP:0003236); Tip-toe gait (HP:0030051); Motor delay (HP:0001270); Exercise-induced myalgia (HP:0003738); excluded: Angulated muscle fibers (HP:0034045); excluded: Central core regions in muscle fibers (HP:0030230); excluded: Myofiber disarray (HP:0031318); excluded: Type 1 muscle fiber predominance (HP:0003803); excluded: Falls (HP:0002527); excluded: Psychosis (HP:0000709); excluded: Schizophrenia (HP:0100753); excluded: Fatigue (HP:0012378); excluded: Thoracic kyphosis (HP:0002942); excluded: Hypertonia (HP:0001276); excluded: Pes planus (HP:0001763); excluded: Proximal muscle weakness (HP:0003701); excluded: Scoliosis (HP:0002650); excluded: Seizure (HP:0001250); excluded: Pectus carinatum (HP:0000768); excluded: Dysphagia (HP:0002015)</td></tr>\n",
       "</table>"
      ],
      "text/plain": [
       "<IPython.core.display.HTML object>"
      ]
     },
     "metadata": {},
     "output_type": "display_data"
    }
   ],
   "source": [
    "table = IndividualTable(cvalidator.get_error_free_individual_list())\n",
    "display(HTML(table.to_html()))"
   ]
  },
  {
   "cell_type": "code",
   "execution_count": 13,
   "metadata": {},
   "outputs": [
    {
     "name": "stdout",
     "output_type": "stream",
     "text": [
      "[pyphetools] Ingested 8 GA4GH phenopackets.\n",
      "[INFO] Extracted 8 from 8 phenopackets with OMIM:609285\n",
      "\n",
      "\tCongenital myopathy 23 (OMIM:609285): n=8\n",
      "We found a total of 29 unique HPO terms\n",
      "Extracted disease: Congenital myopathy 23 (OMIM:609285)\n",
      "Wrote HPOA disease file to OMIM-609285.tab\n"
     ]
    }
   ],
   "source": [
    "pmid = \"PMID:23378224\"\n",
    "df = timporter.create_hpoa_from_phenopackets(pmid=pmid, moi=\"Autosomal dominant\", target=\"OMIM:609285\")"
   ]
  },
  {
   "cell_type": "code",
   "execution_count": null,
   "metadata": {},
   "outputs": [],
   "source": []
  }
 ],
 "metadata": {
  "kernelspec": {
   "display_name": "Python 3",
   "language": "python",
   "name": "python3"
  },
  "language_info": {
   "codemirror_mode": {
    "name": "ipython",
    "version": 3
   },
   "file_extension": ".py",
   "mimetype": "text/x-python",
   "name": "python",
   "nbconvert_exporter": "python",
   "pygments_lexer": "ipython3",
   "version": "3.9.6"
  }
 },
 "nbformat": 4,
 "nbformat_minor": 2
}
