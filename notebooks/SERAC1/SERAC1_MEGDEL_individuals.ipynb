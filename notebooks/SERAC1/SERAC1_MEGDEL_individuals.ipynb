{
 "cells": [
  {
   "cell_type": "markdown",
   "metadata": {},
   "source": [
    "# SERAC1\n",
    "[3-methylglutaconic aciduria with deafness, encephalopathy, and Leigh-like syndrome (MEGDEL), also referred to as 3-methylglutaconic aciduria type VI (MGCA6)](https://omim.org/entry/614739) is caused by homozygous or compound heterozygous mutation in the SERAC1 gene."
   ]
  },
  {
   "cell_type": "code",
   "execution_count": 1,
   "metadata": {},
   "outputs": [
    {
     "name": "stdout",
     "output_type": "stream",
     "text": [
      "Using pyphetools version 0.9.91\n"
     ]
    },
    {
     "name": "stderr",
     "output_type": "stream",
     "text": [
      "/Users/robin/GIT/phenopacket-store/ps24venv/lib/python3.9/site-packages/urllib3/__init__.py:35: NotOpenSSLWarning: urllib3 v2 only supports OpenSSL 1.1.1+, currently the 'ssl' module is compiled with 'LibreSSL 2.8.3'. See: https://github.com/urllib3/urllib3/issues/3020\n",
      "  warnings.warn(\n"
     ]
    }
   ],
   "source": [
    "from pyphetools.creation import TemplateImporter\n",
    "from pyphetools.visualization import IndividualTable, QcVisualizer\n",
    "from IPython.display import display, HTML\n",
    "import pyphetools\n",
    "print(f\"Using pyphetools version {pyphetools.__version__}\")"
   ]
  },
  {
   "cell_type": "code",
   "execution_count": 2,
   "metadata": {},
   "outputs": [],
   "source": [
    "template = \"input/SERAC1_MEGDEL_individuals.xlsx\"\n",
    "created_by = \"0000-0002-0736-9199\""
   ]
  },
  {
   "cell_type": "code",
   "execution_count": 3,
   "metadata": {},
   "outputs": [
    {
     "name": "stdout",
     "output_type": "stream",
     "text": [
      "HPO version 2024-04-26\n",
      "Created encoders for 53 fields\n",
      "Importing OMIM:614739, 3-methylglutaconic aciduria with deafness, encephalopathy, and Leigh-like syndrome, HGNC:21061, SERAC1,  NM_032861.4\n",
      "We output 1 GA4GH phenopackets to the directory phenopackets\n"
     ]
    }
   ],
   "source": [
    "timporter = TemplateImporter(template=template,  created_by=created_by)\n",
    "individual_list, cvalidator = timporter.import_phenopackets_from_template()"
   ]
  },
  {
   "cell_type": "code",
   "execution_count": 4,
   "metadata": {},
   "outputs": [
    {
     "data": {
      "text/html": [
       "<h2>Cohort validation</h2>\n",
       "<p>No errors found for the cohort with 1 individuals</p>"
      ],
      "text/plain": [
       "<IPython.core.display.HTML object>"
      ]
     },
     "metadata": {},
     "output_type": "display_data"
    }
   ],
   "source": [
    "qc = QcVisualizer(cohort_validator=cvalidator)\n",
    "display(HTML(qc.to_summary_html()))"
   ]
  },
  {
   "cell_type": "code",
   "execution_count": 5,
   "metadata": {},
   "outputs": [
    {
     "data": {
      "text/html": [
       "<table style=\"border: 2px solid black; align: \"left\">\n",
       "<caption>1 phenopacket - PMID:31251474 (n=1)</caption>\n",
       "<tr><th style=\"text-align: left;font-weight: bold;\">Individual</th><th style=\"text-align: left;font-weight: bold;\">Disease</th><th style=\"text-align: left;font-weight: bold;\">Genotype</th><th style=\"text-align: left;font-weight: bold;\">Phenotypic features</th></tr>\n",
       "<tr><td style=\"text-align: left;\">proband (MALE; P8Y)</td><td style=\"text-align: left;\">3-methylglutaconic aciduria with deafness, encephalopathy, and Leigh-like syndrome (OMIM:614739)</td><td style=\"text-align: left;\"><ul> <li>NM_032861.4:c.202C>T (heterozygous)</li> <li>NM_032861.4:c.129-1G>C (heterozygous)</li> </ul></td><td style=\"text-align: left;\"><b>P5M</b>: Global developmental delay (HP:0001263); Failure to thrive (HP:0001508)<br/><b>P8M</b>: Lactic acidosis (HP:0003128); Hypoglycemia (HP:0001943); T2 hypointense basal ganglia (HP:0012753)<br/><b>P4Y</b>: Hearing impairment (HP:0000365); Delayed ability to sit (HP:0025336); Dystonia (HP:0001332); Axial hypotonia (HP:0008936); Subcortical cerebral atrophy (HP:0012157); Cerebral cortical atrophy (HP:0002120); Reduced brain N-acetyl aspartate level by MRS (HP:0012708); Elevated brain lactate level by MRS (HP:0012707); Optic atrophy (HP:0000648); 3-Methylglutaconic aciduria (HP:0003535); 3-Methylglutaric aciduria (HP:0003344); Microcephaly (HP:0000252)<br/><b>P7Y</b>: Drooling (HP:0002307)<br/><b>P8Y</b>: Global brain atrophy (HP:0002283)</td></tr>\n",
       "</table>"
      ],
      "text/plain": [
       "<IPython.core.display.HTML object>"
      ]
     },
     "metadata": {},
     "output_type": "display_data"
    }
   ],
   "source": [
    "table = IndividualTable(cvalidator.get_error_free_individual_list())\n",
    "display(HTML(table.to_html()))"
   ]
  }
 ],
 "metadata": {
  "kernelspec": {
   "display_name": "ps24venv",
   "language": "python",
   "name": "python3"
  },
  "language_info": {
   "codemirror_mode": {
    "name": "ipython",
    "version": 3
   },
   "file_extension": ".py",
   "mimetype": "text/x-python",
   "name": "python",
   "nbconvert_exporter": "python",
   "pygments_lexer": "ipython3",
   "version": "3.9.6"
  }
 },
 "nbformat": 4,
 "nbformat_minor": 2
}
