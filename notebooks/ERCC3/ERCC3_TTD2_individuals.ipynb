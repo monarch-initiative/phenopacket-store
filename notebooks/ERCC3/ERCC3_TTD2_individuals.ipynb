{
 "cells": [
  {
   "cell_type": "markdown",
   "metadata": {},
   "source": [
    "# ERCC3\n",
    "[photosensitive trichothiodystrophy-2 (TTD2)](https://omim.org/entry/616390) is caused by homozygous mutation in the ERCC3/XPB gene."
   ]
  },
  {
   "cell_type": "code",
   "execution_count": 1,
   "metadata": {},
   "outputs": [
    {
     "name": "stdout",
     "output_type": "stream",
     "text": [
      "Using pyphetools version 0.9.94\n"
     ]
    },
    {
     "name": "stderr",
     "output_type": "stream",
     "text": [
      "/Users/robin/GIT/phenopacket-store/ps24venv/lib/python3.9/site-packages/urllib3/__init__.py:35: NotOpenSSLWarning: urllib3 v2 only supports OpenSSL 1.1.1+, currently the 'ssl' module is compiled with 'LibreSSL 2.8.3'. See: https://github.com/urllib3/urllib3/issues/3020\n",
      "  warnings.warn(\n"
     ]
    }
   ],
   "source": [
    "from pyphetools.creation import TemplateImporter, Moi\n",
    "from pyphetools.visualization import IndividualTable, QcVisualizer\n",
    "from IPython.display import display, HTML\n",
    "import pyphetools\n",
    "print(f\"Using pyphetools version {pyphetools.__version__}\")"
   ]
  },
  {
   "cell_type": "code",
   "execution_count": 2,
   "metadata": {},
   "outputs": [],
   "source": [
    "template = \"input/ERCC3_TTD2_individuals.xlsx\"\n",
    "created_by = \"0000-0002-0736-9199\""
   ]
  },
  {
   "cell_type": "code",
   "execution_count": 3,
   "metadata": {},
   "outputs": [
    {
     "name": "stdout",
     "output_type": "stream",
     "text": [
      "HPO version 2024-07-01\n",
      "Created encoders for 28 fields\n",
      "Importing OMIM:616390, Trichothiodystrophy 2, photosensitive, HGNC:3435, ERCC3,  NM_000122.2\n",
      "We output 2 GA4GH phenopackets to the directory phenopackets\n"
     ]
    }
   ],
   "source": [
    "timporter = TemplateImporter(template=template,  created_by=created_by)\n",
    "individual_list, cvalidator = timporter.import_phenopackets_from_template()"
   ]
  },
  {
   "cell_type": "code",
   "execution_count": 4,
   "metadata": {},
   "outputs": [
    {
     "data": {
      "text/html": [
       "<h2>Cohort validation</h2>\n",
       "<p>Errors found with 2 of 2 phenopackets.</p>\n",
       "<table style=\"border: 2px solid black; align: \"left\">\n",
       "<caption>Error counts</caption>\n",
       "<tr><th style=\"text-align: left;font-weight: bold;\">Level</th><th style=\"text-align: left;font-weight: bold;\">Error category</th><th style=\"text-align: left;font-weight: bold;\">Count</th></tr>\n",
       "<tr><td style=\"text-align: left;\">WARNING</td><td style=\"text-align: left;\">REDUNDANT</td><td style=\"text-align: left;\">2</td></tr>\n",
       "</table>\n",
       "<p>A total of 2 issues were fixed and no individual was removed from the cohort.</p>"
      ],
      "text/plain": [
       "<IPython.core.display.HTML object>"
      ]
     },
     "metadata": {},
     "output_type": "display_data"
    }
   ],
   "source": [
    "qc = QcVisualizer(cohort_validator=cvalidator)\n",
    "display(HTML(qc.to_summary_html()))"
   ]
  },
  {
   "cell_type": "code",
   "execution_count": 5,
   "metadata": {},
   "outputs": [
    {
     "data": {
      "text/html": [
       "<table style=\"border: 2px solid black; align: \"left\">\n",
       "<caption>2 phenopackets - PMID:9012405 (n=2)</caption>\n",
       "<tr><th style=\"text-align: left;font-weight: bold;\">Individual</th><th style=\"text-align: left;font-weight: bold;\">Disease</th><th style=\"text-align: left;font-weight: bold;\">Genotype</th><th style=\"text-align: left;font-weight: bold;\">Phenotypic features</th></tr>\n",
       "<tr><td style=\"text-align: left;\">index case TTD6VI (MALE; P10Y)</td><td style=\"text-align: left;\">Trichothiodystrophy 2, photosensitive (OMIM:616390)</td><td style=\"text-align: left;\">NM_000122.2:c.355A>C (homozygous)</td><td style=\"text-align: left;\">Congenital nonbullous ichthyosiform erythroderma (HP:0007479); Cutaneous photosensitivity (HP:0000992); Coarse hair (HP:0002208); Agenesis of maxillary lateral incisor (HP:0000690); Tiger tail banding (HP:0045055); Retinal pigment epithelial mottling (HP:0007814); Increased circulating IgE level (HP:0003212); excluded: Short stature (HP:0004322); excluded: Intellectual disability (HP:0001249)</td></tr>\n",
       "<tr><td style=\"text-align: left;\">sister TTD4VI (FEMALE; P16Y)</td><td style=\"text-align: left;\">Trichothiodystrophy 2, photosensitive (OMIM:616390)</td><td style=\"text-align: left;\">NM_000122.2:c.355A>C (homozygous)</td><td style=\"text-align: left;\">Congenital nonbullous ichthyosiform erythroderma (HP:0007479); Coarse hair (HP:0002208); Tiger tail banding (HP:0045055); excluded: Intellectual disability (HP:0001249)</td></tr>\n",
       "</table>"
      ],
      "text/plain": [
       "<IPython.core.display.HTML object>"
      ]
     },
     "metadata": {},
     "output_type": "display_data"
    }
   ],
   "source": [
    "table = IndividualTable(cvalidator.get_error_free_individual_list())\n",
    "display(HTML(table.to_html()))"
   ]
  },
  {
   "cell_type": "code",
   "execution_count": 6,
   "metadata": {},
   "outputs": [
    {
     "name": "stdout",
     "output_type": "stream",
     "text": [
      "[pyphetools] Ingested 2 GA4GH phenopackets.\n",
      "[INFO] Extracted 2 from 2 phenopackets with OMIM:616390\n",
      "\n",
      "\tTrichothiodystrophy 2, photosensitive (OMIM:616390): n=2\n",
      "We found a total of 9 unique HPO terms\n",
      "Extracted disease: Trichothiodystrophy 2, photosensitive (OMIM:616390)\n",
      "Wrote HPOA disease file to OMIM-616390.tab\n"
     ]
    }
   ],
   "source": [
    "pmid = \"PMID:9012405\"\n",
    "df = timporter.create_hpoa_from_phenopackets(pmid=pmid, mode_of_inheritance=Moi.AD, target=\"OMIM:616390\")"
   ]
  }
 ],
 "metadata": {
  "kernelspec": {
   "display_name": "ps24venv",
   "language": "python",
   "name": "python3"
  },
  "language_info": {
   "codemirror_mode": {
    "name": "ipython",
    "version": 3
   },
   "file_extension": ".py",
   "mimetype": "text/x-python",
   "name": "python",
   "nbconvert_exporter": "python",
   "pygments_lexer": "ipython3",
   "version": "3.9.6"
  }
 },
 "nbformat": 4,
 "nbformat_minor": 2
}
