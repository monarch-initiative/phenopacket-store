{
 "cells": [
  {
   "cell_type": "markdown",
   "metadata": {},
   "source": [
    "# PIEZO2\n",
    "[distal arthrogryposis with impaired proprioception and touch (DAIPT)](https://omim.org/entry/617146) is caused by homozygous or compound heterozygous mutation in the PIEZO2 gene."
   ]
  },
  {
   "cell_type": "code",
   "execution_count": 3,
   "metadata": {},
   "outputs": [
    {
     "name": "stdout",
     "output_type": "stream",
     "text": [
      "Using pyphetools version 0.9.80\n"
     ]
    }
   ],
   "source": [
    "from pyphetools.creation import TemplateImporter\n",
    "from pyphetools.visualization import IndividualTable, QcVisualizer\n",
    "from IPython.display import display, HTML\n",
    "import pyphetools\n",
    "print(f\"Using pyphetools version {pyphetools.__version__}\")"
   ]
  },
  {
   "cell_type": "code",
   "execution_count": 5,
   "metadata": {},
   "outputs": [],
   "source": [
    "template = \"input/PIEZO2_DAIPT_individuals.xlsx\"\n",
    "created_by = \"0000-0002-0736-9199\""
   ]
  },
  {
   "cell_type": "code",
   "execution_count": 13,
   "metadata": {},
   "outputs": [
    {
     "name": "stdout",
     "output_type": "stream",
     "text": [
      "HPO version 2024-04-26\n",
      "Created encoders for 61 fields\n",
      "Importing OMIM:617146, Arthrogryposis, distal, with impaired proprioception and touch, HGNC:26270, PIEZO2,  NM_001378183.1\n",
      "We output 11 GA4GH phenopackets to the directory phenopackets\n"
     ]
    }
   ],
   "source": [
    "del_set = {\"del exons 6-7\"}\n",
    "timporter = TemplateImporter(template=template,  created_by=created_by)\n",
    "individual_list, cvalidator = timporter.import_phenopackets_from_template(deletions=del_set)"
   ]
  },
  {
   "cell_type": "code",
   "execution_count": 14,
   "metadata": {},
   "outputs": [
    {
     "data": {
      "text/html": [
       "<h2>Cohort validation</h2>\n",
       "<p>No errors found for the cohort with 11 individuals</p>"
      ],
      "text/plain": [
       "<IPython.core.display.HTML object>"
      ]
     },
     "metadata": {},
     "output_type": "display_data"
    }
   ],
   "source": [
    "qc = QcVisualizer(cohort_validator=cvalidator)\n",
    "display(HTML(qc.to_summary_html()))"
   ]
  },
  {
   "cell_type": "code",
   "execution_count": 15,
   "metadata": {},
   "outputs": [
    {
     "data": {
      "text/html": [
       "<table style=\"border: 2px solid black; align: \"left\">\n",
       "<caption>11 phenopackets - PMID:27843126 (n=10); PMID:27974811 (n=1)</caption>\n",
       "<tr><th style=\"text-align: left;font-weight: bold;\">Individual</th><th style=\"text-align: left;font-weight: bold;\">Disease</th><th style=\"text-align: left;font-weight: bold;\">Genotype</th><th style=\"text-align: left;font-weight: bold;\">Phenotypic features</th></tr>\n",
       "<tr><td style=\"text-align: left;\">A-III.1 (MALE; P9Y)</td><td style=\"text-align: left;\">Arthrogryposis, distal, with impaired proprioception and touch (OMIM:617146)</td><td style=\"text-align: left;\">NM_001378183.1:c.5621del (homozygous)</td><td style=\"text-align: left;\">Hypotonia (HP:0001252); Dysarthria (HP:0001260); Motor delay (HP:0001270); Proximal muscle weakness in lower limbs (HP:0008994); Distal lower limb muscle weakness (HP:0009053); Proximal muscle weakness in upper limbs (HP:0008997); Areflexia (HP:0001284); Talipes equinovarus (HP:0001762); Scoliosis (HP:0002650); excluded: Intellectual disability (HP:0001249); excluded: Distal upper limb muscle weakness (HP:0008959); excluded: Short stature (HP:0004322); excluded: Pes planus (HP:0001763); excluded: Sandal gap (HP:0001852); excluded: Camptodactyly (HP:0012385); excluded: Arachnodactyly (HP:0001166); excluded: Recurrent lower respiratory tract infections (HP:0002783)</td></tr>\n",
       "<tr><td style=\"text-align: left;\">A-III.5 (MALE; P23Y)</td><td style=\"text-align: left;\">Arthrogryposis, distal, with impaired proprioception and touch (OMIM:617146)</td><td style=\"text-align: left;\">NM_001378183.1:c.5621del (homozygous)</td><td style=\"text-align: left;\">Hypotonia (HP:0001252); Dysarthria (HP:0001260); Elevated circulating creatine kinase concentration (HP:0003236); Motor delay (HP:0001270); Distal lower limb muscle weakness (HP:0009053); Areflexia (HP:0001284); Short stature (HP:0004322); Pes planus (HP:0001763); Sandal gap (HP:0001852); Scoliosis (HP:0002650); excluded: Intellectual disability (HP:0001249); excluded: Proximal muscle weakness in lower limbs (HP:0008994); excluded: Distal upper limb muscle weakness (HP:0008959); excluded: Proximal muscle weakness in upper limbs (HP:0008997); excluded: Talipes equinovarus (HP:0001762); excluded: Myopathic facies (HP:0002058); excluded: Camptodactyly (HP:0012385); excluded: Arachnodactyly (HP:0001166); excluded: Recurrent lower respiratory tract infections (HP:0002783)</td></tr>\n",
       "<tr><td style=\"text-align: left;\">A-III.6 (FEMALE; P12Y)</td><td style=\"text-align: left;\">Arthrogryposis, distal, with impaired proprioception and touch (OMIM:617146)</td><td style=\"text-align: left;\">NM_001378183.1:c.5621del (homozygous)</td><td style=\"text-align: left;\">Hypotonia (HP:0001252); Dysarthria (HP:0001260); Motor delay (HP:0001270); Proximal muscle weakness in lower limbs (HP:0008994); Distal lower limb muscle weakness (HP:0009053); Distal upper limb muscle weakness (HP:0008959); Proximal muscle weakness in upper limbs (HP:0008997); Areflexia (HP:0001284); Short stature (HP:0004322); Talipes equinovarus (HP:0001762); Pes planus (HP:0001763); Myopathic facies (HP:0002058); Sandal gap (HP:0001852); Scoliosis (HP:0002650); excluded: Elevated circulating creatine kinase concentration (HP:0003236); excluded: Intellectual disability (HP:0001249); excluded: Camptodactyly (HP:0012385); excluded: Arachnodactyly (HP:0001166); excluded: Recurrent lower respiratory tract infections (HP:0002783)</td></tr>\n",
       "<tr><td style=\"text-align: left;\">B-III.1 (MALE; P17Y)</td><td style=\"text-align: left;\">Arthrogryposis, distal, with impaired proprioception and touch (OMIM:617146)</td><td style=\"text-align: left;\">NM_001378183.1:c.3019_3029del (homozygous)</td><td style=\"text-align: left;\">Hypotonia (HP:0001252); Dysarthria (HP:0001260); Motor delay (HP:0001270); Areflexia (HP:0001284); Short stature (HP:0004322); Gastroesophageal reflux (HP:0002020); Talipes equinovarus (HP:0001762); Pes planus (HP:0001763); Sandal gap (HP:0001852); Camptodactyly (HP:0012385); Arachnodactyly (HP:0001166); Scoliosis (HP:0002650); Recurrent lower respiratory tract infections (HP:0002783); excluded: Elevated circulating creatine kinase concentration (HP:0003236); excluded: Intellectual disability (HP:0001249); excluded: Myopathic facies (HP:0002058)</td></tr>\n",
       "<tr><td style=\"text-align: left;\">B-III.4 (FEMALE; P10Y)</td><td style=\"text-align: left;\">Arthrogryposis, distal, with impaired proprioception and touch (OMIM:617146)</td><td style=\"text-align: left;\">NM_001378183.1:c.3019_3029del (homozygous)</td><td style=\"text-align: left;\">Hypotonia (HP:0001252); Dysarthria (HP:0001260); Motor delay (HP:0001270); Distal lower limb muscle weakness (HP:0009053); Areflexia (HP:0001284); Short stature (HP:0004322); Talipes equinovarus (HP:0001762); Sandal gap (HP:0001852); Camptodactyly (HP:0012385); Arachnodactyly (HP:0001166); excluded: Elevated circulating creatine kinase concentration (HP:0003236); excluded: Intellectual disability (HP:0001249); excluded: Proximal muscle weakness in lower limbs (HP:0008994); excluded: Distal upper limb muscle weakness (HP:0008959); excluded: Proximal muscle weakness in upper limbs (HP:0008997); excluded: Pes planus (HP:0001763); excluded: Myopathic facies (HP:0002058); excluded: Scoliosis (HP:0002650); excluded: Recurrent lower respiratory tract infections (HP:0002783)</td></tr>\n",
       "<tr><td style=\"text-align: left;\">B-II.7 (MALE; P27Y)</td><td style=\"text-align: left;\">Arthrogryposis, distal, with impaired proprioception and touch (OMIM:617146)</td><td style=\"text-align: left;\">NM_001378183.1:c.3019_3029del (homozygous)</td><td style=\"text-align: left;\">Dysarthria (HP:0001260); Motor delay (HP:0001270); Areflexia (HP:0001284); Short stature (HP:0004322); Talipes equinovarus (HP:0001762); Pes planus (HP:0001763); Myopathic facies (HP:0002058); Sandal gap (HP:0001852); Camptodactyly (HP:0012385); Arachnodactyly (HP:0001166); Scoliosis (HP:0002650); excluded: Intellectual disability (HP:0001249); excluded: Proximal muscle weakness in lower limbs (HP:0008994); excluded: Distal lower limb muscle weakness (HP:0009053); excluded: Distal upper limb muscle weakness (HP:0008959); excluded: Proximal muscle weakness in upper limbs (HP:0008997); excluded: Recurrent lower respiratory tract infections (HP:0002783)</td></tr>\n",
       "<tr><td style=\"text-align: left;\">C-II.2 (MALE; P6Y)</td><td style=\"text-align: left;\">Arthrogryposis, distal, with impaired proprioception and touch (OMIM:617146)</td><td style=\"text-align: left;\">NM_001378183.1:c.1550_1552delinsCGAA (homozygous)</td><td style=\"text-align: left;\">Hypotonia (HP:0001252); Motor delay (HP:0001270); Intellectual disability (HP:0001249); Distal lower limb muscle weakness (HP:0009053); Distal upper limb muscle weakness (HP:0008959); Areflexia (HP:0001284); Short stature (HP:0004322); Feeding difficulties (HP:0011968); Talipes equinovarus (HP:0001762); Myopathic facies (HP:0002058); Sandal gap (HP:0001852); Camptodactyly (HP:0012385); Scoliosis (HP:0002650); excluded: Proximal muscle weakness in lower limbs (HP:0008994); excluded: Proximal muscle weakness in upper limbs (HP:0008997); excluded: Pes planus (HP:0001763); excluded: Arachnodactyly (HP:0001166); excluded: Recurrent lower respiratory tract infections (HP:0002783)</td></tr>\n",
       "<tr><td style=\"text-align: left;\">C-II.3 (FEMALE; P5Y)</td><td style=\"text-align: left;\">Arthrogryposis, distal, with impaired proprioception and touch (OMIM:617146)</td><td style=\"text-align: left;\">NM_001378183.1:c.1550_1552delinsCGAA (homozygous)</td><td style=\"text-align: left;\">Motor delay (HP:0001270); Intellectual disability (HP:0001249); Distal lower limb muscle weakness (HP:0009053); Distal upper limb muscle weakness (HP:0008959); Areflexia (HP:0001284); Short stature (HP:0004322); Pes planus (HP:0001763); Myopathic facies (HP:0002058); Sandal gap (HP:0001852); Camptodactyly (HP:0012385); Scoliosis (HP:0002650); excluded: Proximal muscle weakness in lower limbs (HP:0008994); excluded: Proximal muscle weakness in upper limbs (HP:0008997); excluded: Arachnodactyly (HP:0001166); excluded: Recurrent lower respiratory tract infections (HP:0002783)</td></tr>\n",
       "<tr><td style=\"text-align: left;\">C-I.7 (FEMALE; P26Y)</td><td style=\"text-align: left;\">Arthrogryposis, distal, with impaired proprioception and touch (OMIM:617146)</td><td style=\"text-align: left;\">NM_001378183.1:c.1550_1552delinsCGAA (homozygous)</td><td style=\"text-align: left;\">Motor delay (HP:0001270); Scoliosis (HP:0002650); excluded: Myopathic facies (HP:0002058); excluded: Recurrent lower respiratory tract infections (HP:0002783)</td></tr>\n",
       "<tr><td style=\"text-align: left;\">D-II.2 (MALE; P25Y)</td><td style=\"text-align: left;\">Arthrogryposis, distal, with impaired proprioception and touch (OMIM:617146)</td><td style=\"text-align: left;\">del exons 6-7: chromosomal_deletion (SO:1000029)</td><td style=\"text-align: left;\">Dysarthria (HP:0001260); Motor delay (HP:0001270); Intellectual disability (HP:0001249); Distal lower limb muscle weakness (HP:0009053); Distal upper limb muscle weakness (HP:0008959); Areflexia (HP:0001284); Short stature (HP:0004322); Gastroesophageal reflux (HP:0002020); Feeding difficulties (HP:0011968); Talipes equinovarus (HP:0001762); Camptodactyly (HP:0012385); Arachnodactyly (HP:0001166); Scoliosis (HP:0002650); Recurrent lower respiratory tract infections (HP:0002783); excluded: Elevated circulating creatine kinase concentration (HP:0003236); excluded: Proximal muscle weakness in lower limbs (HP:0008994); excluded: Proximal muscle weakness in upper limbs (HP:0008997); excluded: Pes planus (HP:0001763); excluded: Sandal gap (HP:0001852)</td></tr>\n",
       "<tr><td style=\"text-align: left;\">individual (MALE; P18Y6M)</td><td style=\"text-align: left;\">Arthrogryposis, distal, with impaired proprioception and touch (OMIM:617146)</td><td style=\"text-align: left;\">NM_001378183.1:c.1384C>T (homozygous)</td><td style=\"text-align: left;\"><b>P16Y</b>: Scoliosis (HP:0002650)<br/>Hypotonia (HP:0001252); Broad-based gait (HP:0002136); Delayed ability to walk (HP:0031936); Poor fine motor coordination (HP:0007010); Feeding difficulties (HP:0011968); Distal joint hypermobility (HP:0020152); High palate (HP:0000218); Flexion contracture (HP:0001371); Increased variability in muscle fiber diameter (HP:0003557); Hypernasal speech (HP:0001611); Type 1 muscle fiber predominance (HP:0003803); Impaired proprioception (HP:0010831); Hip dysplasia (HP:0001385); Sensory axonal neuropathy (HP:0003390); excluded: Elevated circulating creatine kinase concentration (HP:0003236)</td></tr>\n",
       "</table>"
      ],
      "text/plain": [
       "<IPython.core.display.HTML object>"
      ]
     },
     "metadata": {},
     "output_type": "display_data"
    }
   ],
   "source": [
    "table = IndividualTable(cvalidator.get_error_free_individual_list())\n",
    "display(HTML(table.to_html()))"
   ]
  }
 ],
 "metadata": {
  "kernelspec": {
   "display_name": "ps24venv",
   "language": "python",
   "name": "python3"
  },
  "language_info": {
   "codemirror_mode": {
    "name": "ipython",
    "version": 3
   },
   "file_extension": ".py",
   "mimetype": "text/x-python",
   "name": "python",
   "nbconvert_exporter": "python",
   "pygments_lexer": "ipython3",
   "version": "3.9.6"
  }
 },
 "nbformat": 4,
 "nbformat_minor": 2
}
