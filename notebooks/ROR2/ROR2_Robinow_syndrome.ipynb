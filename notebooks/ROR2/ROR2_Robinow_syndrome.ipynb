{
 "cells": [
  {
   "cell_type": "markdown",
   "id": "d86ee2d6-0a82-4aa0-8de3-b74d703b3557",
   "metadata": {},
   "source": [
    "# Robinow syndrome, autosomal recessive \t\n",
    "OMIM:268310"
   ]
  },
  {
   "cell_type": "code",
   "execution_count": 7,
   "id": "8b3c3023-5a5f-4d83-85d5-3bad2d45465c",
   "metadata": {},
   "outputs": [],
   "source": [
    "from pyphetools.creation import import_phenopackets_from_template, create_hpoa_from_phenopackets\n",
    "template = \"input/ROR2_Robinow_individuals.xlsx\"\n",
    "hp_json = \"../hp.json\""
   ]
  },
  {
   "cell_type": "code",
   "execution_count": 12,
   "id": "70990882-b46b-4331-8567-3ebc39ac3ffc",
   "metadata": {},
   "outputs": [
    {
     "name": "stdout",
     "output_type": "stream",
     "text": [
      "HPO version 2024-02-27\n",
      "Created encoders for 74 fields\n",
      " we got OMIM:268310  NM_004560.4\n",
      "[INFO] encoding variant \"c.(431_494+60)_(574_672)del\"\n",
      "https://rest.variantvalidator.org/VariantValidator/variantvalidator/hg38/NM_004560.4%3Ac.(431_494+60)_(574_672)del/NM_004560.4?content-type=application%2Fjson\n",
      "[ERROR] Could not retrieve Variant Validator information for c.(431_494+60)_(574_672)del: Expecting to get a gene_variant from Variant Validator but got warning\n",
      "We output 22 GA4GH phenopackets to the directory phenopackets\n"
     ]
    }
   ],
   "source": [
    "deletions = {\"c.(431_494+60)_(574_672)del\", \"470 Kb deletion\"}\n",
    "individuals, cvalidator = import_phenopackets_from_template(template, hp_json, deletions=deletions)"
   ]
  },
  {
   "cell_type": "code",
   "execution_count": 14,
   "id": "df8203dd-46ad-4fed-9719-f32b7b87a5d8",
   "metadata": {},
   "outputs": [
    {
     "name": "stdout",
     "output_type": "stream",
     "text": [
      "[pyphetools] Ingested 22 GA4GH phenopackets.\n",
      "\tRobinow syndrome, autosomal recessive (OMIM:268310): n=22\n",
      "We found a total of 58 unique HPO terms\n",
      "Extracted disease: Robinow syndrome, autosomal recessive (OMIM:268310)\n",
      "Wrote HPOA disease file to OMIM-268310.tab\n"
     ]
    }
   ],
   "source": [
    "PMID = \"PMID:35344616\"\n",
    "df = create_hpoa_from_phenopackets(pmid=PMID, moi=\"Autosomal recessive\")"
   ]
  },
  {
   "cell_type": "code",
   "execution_count": null,
   "id": "27566a07-6ef3-45a4-aba0-b300e131ec95",
   "metadata": {},
   "outputs": [],
   "source": []
  }
 ],
 "metadata": {
  "kernelspec": {
   "display_name": "Python 3 (ipykernel)",
   "language": "python",
   "name": "python3"
  },
  "language_info": {
   "codemirror_mode": {
    "name": "ipython",
    "version": 3
   },
   "file_extension": ".py",
   "mimetype": "text/x-python",
   "name": "python",
   "nbconvert_exporter": "python",
   "pygments_lexer": "ipython3",
   "version": "3.8.10"
  }
 },
 "nbformat": 4,
 "nbformat_minor": 5
}
