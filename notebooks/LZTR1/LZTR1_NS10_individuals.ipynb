{
 "cells": [
  {
   "cell_type": "markdown",
   "metadata": {},
   "source": [
    "# LZTR1 Noonan syndrome 10\n",
    "[Noonan syndrome-10 (NS10)](https://omim.org/entry/616564) is caused by heterozygous mutation in the LZTR1 gene."
   ]
  },
  {
   "cell_type": "code",
   "execution_count": 1,
   "metadata": {},
   "outputs": [
    {
     "name": "stdout",
     "output_type": "stream",
     "text": [
      "Using pyphetools version 0.9.105\n"
     ]
    }
   ],
   "source": [
    "from pyphetools.creation import TemplateImporter, Moi\n",
    "from pyphetools.visualization import IndividualTable, QcVisualizer\n",
    "from IPython.display import display, HTML\n",
    "import pyphetools\n",
    "print(f\"Using pyphetools version {pyphetools.__version__}\")"
   ]
  },
  {
   "cell_type": "code",
   "execution_count": 2,
   "metadata": {},
   "outputs": [],
   "source": [
    "template = \"input/LZTR1_NS10_individuals.xlsx\"\n",
    "hp_json = \"../hp.json\"\n",
    "created_by = \"0000-0002-0736-9199\""
   ]
  },
  {
   "cell_type": "code",
   "execution_count": 3,
   "metadata": {},
   "outputs": [
    {
     "name": "stdout",
     "output_type": "stream",
     "text": [
      "HPO version 2024-08-13\n",
      "Created encoders for 85 fields\n",
      "Importing OMIM:605275, Noonan syndrome 2, HGNC:6742, LZTR1,  NM_006767.4\n",
      "We output 6 GA4GH phenopackets to the directory phenopackets\n"
     ]
    }
   ],
   "source": [
    "timporter = TemplateImporter(template=template, hp_json=hp_json, created_by=created_by)\n",
    "individual_list, cvalidator = timporter.import_phenopackets_from_template()"
   ]
  },
  {
   "cell_type": "code",
   "execution_count": 4,
   "metadata": {},
   "outputs": [
    {
     "data": {
      "text/html": [
       "<h2>Cohort validation</h2>\n",
       "<p>Errors found with 5 of 6 phenopackets.</p>\n",
       "<table style=\"border: 2px solid black; align: \"left\">\n",
       "<caption>Error counts</caption>\n",
       "<tr><th style=\"text-align: left;font-weight: bold;\">Level</th><th style=\"text-align: left;font-weight: bold;\">Error category</th><th style=\"text-align: left;font-weight: bold;\">Count</th></tr>\n",
       "<tr><td style=\"text-align: left;\">WARNING</td><td style=\"text-align: left;\">REDUNDANT</td><td style=\"text-align: left;\">7</td></tr>\n",
       "</table>\n",
       "<p>A total of 7 issues were fixed and no individual was removed from the cohort.</p>"
      ],
      "text/plain": [
       "<IPython.core.display.HTML object>"
      ]
     },
     "metadata": {},
     "output_type": "display_data"
    }
   ],
   "source": [
    "qc = QcVisualizer(cohort_validator=cvalidator)\n",
    "display(HTML(qc.to_summary_html()))"
   ]
  },
  {
   "cell_type": "code",
   "execution_count": 5,
   "metadata": {},
   "outputs": [
    {
     "data": {
      "text/html": [
       "<table style=\"border: 2px solid black; align: \"left\">\n",
       "<caption>6 phenopackets - PMID:30368668 (n=6)</caption>\n",
       "<tr><th style=\"text-align: left;font-weight: bold;\">Individual</th><th style=\"text-align: left;font-weight: bold;\">Disease</th><th style=\"text-align: left;font-weight: bold;\">Genotype</th><th style=\"text-align: left;font-weight: bold;\">Phenotypic features</th></tr>\n",
       "<tr><td style=\"text-align: left;\">Individual NS269 (MALE; P11Y)</td><td style=\"text-align: left;\">Noonan syndrome 2 (OMIM:605275)</td><td style=\"text-align: left;\">NM_006767.4:c.848G>A (heterozygous)</td><td style=\"text-align: left;\">Downslanted palpebral fissures (HP:0000494): onset ; Low-set ears (HP:0000369): onset ; Intellectual disability (HP:0001249): onset ; Short stature (HP:0004322): onset ; Scoliosis (HP:0002650): onset ; Pulmonic stenosis (HP:0001642): onset ; Ventricular septal defect (HP:0001629): onset ; Patent foramen ovale (HP:0001655): onset ; Underdeveloped supraorbital ridges (HP:0009891): onset ; Narrow forehead (HP:0000341): onset ; Sparse eyebrow (HP:0045075): onset ; Epicanthus (HP:0000286): onset ; High palate (HP:0000218): onset ; Cafe-au-lait spot (HP:0000957): onset ; Palmoplantar cutis laxa (HP:0007517): onset ; Hyperkeratosis (HP:0000962): onset ; Hyperextensible skin (HP:0000974): onset ; Webbed neck (HP:0000465): onset ; Short neck (HP:0000470): onset ; excluded: Hypertrophic cardiomyopathy (HP:0001639): onset ; excluded: Hypertelorism (HP:0000316): onset ; excluded: Ptosis (HP:0000508): onset ; excluded: Cryptorchidism (HP:0000028): onset ; excluded: Curly hair (HP:0002212): onset ; excluded: Pectus carinatum (HP:0000768): onset ; excluded: Pectus excavatum (HP:0000767): onset ; excluded: Cubitus valgus (HP:0002967): onset ; excluded: Abnormal coronary artery origin (HP:0011636): onset ; excluded: Cleft palate (HP:0000175): onset ; excluded: Eczematoid dermatitis (HP:0000964): onset ; excluded: Nonimmune hydrops fetalis (HP:0001790): onset ; excluded: Fetal pleural effusion (HP:0025676): onset ; excluded: Relative macrocephaly (HP:0004482): onset ; excluded: Strabismus (HP:0000486): onset ; excluded: Optic atrophy (HP:0000648): onset ; excluded: Constriction of peripheral visual field (HP:0001133): onset ; excluded: Abnormality of coagulation (HP:0001928): onset <br/><b>TimeElement(element=OntologyClass(id=HP:0003593, label=Infantile onset))</b>: Global developmental delay (HP:0001263): onset ontology_class {\n",
       "  id: \"HP:0003593\"\n",
       "  label: \"Infantile onset\"\n",
       "}\n",
       "</td></tr>\n",
       "<tr><td style=\"text-align: left;\">Individual NS876 (MALE; P2Y)</td><td style=\"text-align: left;\">Noonan syndrome 2 (OMIM:605275)</td><td style=\"text-align: left;\">NM_006767.4:c.742G>A (heterozygous)</td><td style=\"text-align: left;\">Hypertelorism (HP:0000316): onset ; Ptosis (HP:0000508): onset ; Low-set ears (HP:0000369): onset ; Abnormal coronary artery origin (HP:0011636): onset ; High palate (HP:0000218): onset ; Increased nuchal translucency (HP:0010880): onset ; excluded: Downslanted palpebral fissures (HP:0000494): onset ; excluded: Hypertrophic cardiomyopathy (HP:0001639): onset ; excluded: Cryptorchidism (HP:0000028): onset ; excluded: Curly hair (HP:0002212): onset ; excluded: Intellectual disability (HP:0001249): onset ; excluded: Short stature (HP:0004322): onset ; excluded: Pectus carinatum (HP:0000768): onset ; excluded: Pectus excavatum (HP:0000767): onset ; excluded: Scoliosis (HP:0002650): onset ; excluded: Cubitus valgus (HP:0002967): onset ; excluded: Pulmonic stenosis (HP:0001642): onset ; excluded: Ventricular septal defect (HP:0001629): onset ; excluded: Patent foramen ovale (HP:0001655): onset ; excluded: Cleft palate (HP:0000175): onset ; excluded: Underdeveloped supraorbital ridges (HP:0009891): onset ; excluded: Narrow forehead (HP:0000341): onset ; excluded: Sparse eyebrow (HP:0045075): onset ; excluded: Epicanthus (HP:0000286): onset ; excluded: Cafe-au-lait spot (HP:0000957): onset ; excluded: Palmoplantar cutis laxa (HP:0007517): onset ; excluded: Hyperkeratosis (HP:0000962): onset ; excluded: Eczematoid dermatitis (HP:0000964): onset ; excluded: Hyperextensible skin (HP:0000974): onset ; excluded: Webbed neck (HP:0000465): onset ; excluded: Short neck (HP:0000470): onset ; excluded: Nonimmune hydrops fetalis (HP:0001790): onset ; excluded: Fetal pleural effusion (HP:0025676): onset ; excluded: Relative macrocephaly (HP:0004482): onset ; excluded: Strabismus (HP:0000486): onset ; excluded: Optic atrophy (HP:0000648): onset ; excluded: Constriction of peripheral visual field (HP:0001133): onset ; excluded: Seizure (HP:0001250): onset </td></tr>\n",
       "<tr><td style=\"text-align: left;\">Individual NS808 (MALE; P8Y)</td><td style=\"text-align: left;\">Noonan syndrome 2 (OMIM:605275)</td><td style=\"text-align: left;\">NM_006767.4:c.428A>G (heterozygous)</td><td style=\"text-align: left;\">Hypertrophic cardiomyopathy (HP:0001639): onset ; Hypertelorism (HP:0000316): onset ; Cryptorchidism (HP:0000028): onset ; Low-set ears (HP:0000369): onset ; Intellectual disability (HP:0001249): onset ; Short stature (HP:0004322): onset ; Pectus carinatum (HP:0000768): onset ; Underdeveloped supraorbital ridges (HP:0009891): onset ; Narrow forehead (HP:0000341): onset ; Sparse eyebrow (HP:0045075): onset ; Epicanthus (HP:0000286): onset ; Hyperpigmentation of the skin (HP:0000953): onset ; Palmoplantar cutis laxa (HP:0007517): onset ; Hyperkeratosis (HP:0000962): onset ; Relative macrocephaly (HP:0004482): onset ; excluded: Curly hair (HP:0002212): onset ; excluded: Pectus excavatum (HP:0000767): onset ; excluded: Scoliosis (HP:0002650): onset ; excluded: Cubitus valgus (HP:0002967): onset ; excluded: Pulmonic stenosis (HP:0001642): onset ; excluded: Ventricular septal defect (HP:0001629): onset ; excluded: Patent foramen ovale (HP:0001655): onset ; excluded: Abnormal coronary artery origin (HP:0011636): onset ; excluded: Cleft palate (HP:0000175): onset ; excluded: High palate (HP:0000218): onset ; excluded: Cafe-au-lait spot (HP:0000957): onset ; excluded: Eczematoid dermatitis (HP:0000964): onset ; excluded: Hyperextensible skin (HP:0000974): onset ; excluded: Webbed neck (HP:0000465): onset ; excluded: Short neck (HP:0000470): onset ; excluded: Nonimmune hydrops fetalis (HP:0001790): onset ; excluded: Fetal pleural effusion (HP:0025676): onset ; excluded: Strabismus (HP:0000486): onset ; excluded: Optic atrophy (HP:0000648): onset ; excluded: Constriction of peripheral visual field (HP:0001133): onset ; excluded: Seizure (HP:0001250): onset ; excluded: Abnormality of coagulation (HP:0001928): onset </td></tr>\n",
       "<tr><td style=\"text-align: left;\">Individual NS562 (FEMALE; P5Y)</td><td style=\"text-align: left;\">Noonan syndrome 2 (OMIM:605275)</td><td style=\"text-align: left;\">NM_006767.4:c.604_605del (heterozygous)</td><td style=\"text-align: left;\"><b>TimeElement(element=OntologyClass(id=HP:0011461, label=Fetal onset))</b>: Fetal pleural effusion (HP:0025676): onset ontology_class {\n",
       "  id: \"HP:0011461\"\n",
       "  label: \"Fetal onset\"\n",
       "}\n",
       "<br/>Hypertrophic cardiomyopathy (HP:0001639): onset ; Hypertelorism (HP:0000316): onset ; Ptosis (HP:0000508): onset ; Low-set ears (HP:0000369): onset ; Short stature (HP:0004322): onset ; Pulmonic stenosis (HP:0001642): onset ; Atrial septal defect (HP:0001631): onset ; Underdeveloped supraorbital ridges (HP:0009891): onset ; Narrow forehead (HP:0000341): onset ; Sparse eyebrow (HP:0045075): onset ; Epicanthus (HP:0000286): onset ; High palate (HP:0000218): onset ; Webbed neck (HP:0000465): onset ; Short neck (HP:0000470): onset ; Relative macrocephaly (HP:0004482): onset ; excluded: Downslanted palpebral fissures (HP:0000494): onset ; excluded: Curly hair (HP:0002212): onset ; excluded: Intellectual disability (HP:0001249): onset ; excluded: Pectus carinatum (HP:0000768): onset ; excluded: Pectus excavatum (HP:0000767): onset ; excluded: Scoliosis (HP:0002650): onset ; excluded: Cubitus valgus (HP:0002967): onset ; excluded: Ventricular septal defect (HP:0001629): onset ; excluded: Patent foramen ovale (HP:0001655): onset ; excluded: Abnormal coronary artery origin (HP:0011636): onset ; excluded: Cleft palate (HP:0000175): onset ; excluded: Cafe-au-lait spot (HP:0000957): onset ; excluded: Palmoplantar cutis laxa (HP:0007517): onset ; excluded: Hyperkeratosis (HP:0000962): onset ; excluded: Eczematoid dermatitis (HP:0000964): onset ; excluded: Hyperextensible skin (HP:0000974): onset ; excluded: Increased nuchal translucency (HP:0010880): onset ; excluded: Strabismus (HP:0000486): onset ; excluded: Optic atrophy (HP:0000648): onset ; excluded: Constriction of peripheral visual field (HP:0001133): onset ; excluded: Seizure (HP:0001250): onset ; excluded: Abnormality of coagulation (HP:0001928): onset </td></tr>\n",
       "<tr><td style=\"text-align: left;\">Individual NS535 (MALE; P11Y)</td><td style=\"text-align: left;\">Noonan syndrome 2 (OMIM:605275)</td><td style=\"text-align: left;\">NM_006767.4:c.760_762del (heterozygous)</td><td style=\"text-align: left;\">Downslanted palpebral fissures (HP:0000494): onset ; Hypertrophic cardiomyopathy (HP:0001639): onset ; Hypertelorism (HP:0000316): onset ; Ptosis (HP:0000508): onset ; Curly hair (HP:0002212): onset ; Low-set ears (HP:0000369): onset ; Intellectual disability (HP:0001249): onset ; Short stature (HP:0004322): onset ; Pectus carinatum (HP:0000768): onset ; Cubitus valgus (HP:0002967): onset ; Underdeveloped supraorbital ridges (HP:0009891): onset ; Epicanthus (HP:0000286): onset ; Hyperpigmentation of the skin (HP:0000953): onset ; Palmoplantar cutis laxa (HP:0007517): onset ; Hyperkeratosis (HP:0000962): onset ; Webbed neck (HP:0000465): onset ; Short neck (HP:0000470): onset ; Relative macrocephaly (HP:0004482): onset ; Optic atrophy (HP:0000648): onset ; Constriction of peripheral visual field (HP:0001133): onset ; excluded: Cryptorchidism (HP:0000028): onset ; excluded: Pectus excavatum (HP:0000767): onset ; excluded: Scoliosis (HP:0002650): onset ; excluded: Pulmonic stenosis (HP:0001642): onset ; excluded: Ventricular septal defect (HP:0001629): onset ; excluded: Patent foramen ovale (HP:0001655): onset ; excluded: Abnormal coronary artery origin (HP:0011636): onset ; excluded: Cleft palate (HP:0000175): onset ; excluded: Narrow forehead (HP:0000341): onset ; excluded: Sparse eyebrow (HP:0045075): onset ; excluded: Cafe-au-lait spot (HP:0000957): onset ; excluded: Eczematoid dermatitis (HP:0000964): onset ; excluded: Hyperextensible skin (HP:0000974): onset ; excluded: Strabismus (HP:0000486): onset ; excluded: Abnormality of coagulation (HP:0001928): onset </td></tr>\n",
       "<tr><td style=\"text-align: left;\">Individual NS130 (FEMALE; P16Y)</td><td style=\"text-align: left;\">Noonan syndrome 2 (OMIM:605275)</td><td style=\"text-align: left;\">NM_006767.4:c.1660G>C (heterozygous)</td><td style=\"text-align: left;\">Downslanted palpebral fissures (HP:0000494): onset ; Hypertrophic cardiomyopathy (HP:0001639): onset ; Hypertelorism (HP:0000316): onset ; Ptosis (HP:0000508): onset ; Curly hair (HP:0002212): onset ; Low-set ears (HP:0000369): onset ; Intellectual disability (HP:0001249): onset ; Cubitus valgus (HP:0002967): onset ; Atrial septal defect (HP:0001631): onset ; Underdeveloped supraorbital ridges (HP:0009891): onset ; Narrow forehead (HP:0000341): onset ; Sparse eyebrow (HP:0045075): onset ; Epicanthus (HP:0000286): onset ; Hyperpigmentation of the skin (HP:0000953): onset ; Palmoplantar cutis laxa (HP:0007517): onset ; Hyperkeratosis (HP:0000962): onset ; Hyperextensible skin (HP:0000974): onset ; Webbed neck (HP:0000465): onset ; Short neck (HP:0000470): onset ; Relative macrocephaly (HP:0004482): onset ; excluded: Short stature (HP:0004322): onset ; excluded: Pectus carinatum (HP:0000768): onset ; excluded: Pectus excavatum (HP:0000767): onset ; excluded: Scoliosis (HP:0002650): onset ; excluded: Pulmonic stenosis (HP:0001642): onset ; excluded: Ventricular septal defect (HP:0001629): onset ; excluded: Patent foramen ovale (HP:0001655): onset ; excluded: Abnormal coronary artery origin (HP:0011636): onset ; excluded: Cleft palate (HP:0000175): onset ; excluded: High palate (HP:0000218): onset ; excluded: Cafe-au-lait spot (HP:0000957): onset ; excluded: Eczematoid dermatitis (HP:0000964): onset ; excluded: Strabismus (HP:0000486): onset ; excluded: Optic atrophy (HP:0000648): onset ; excluded: Constriction of peripheral visual field (HP:0001133): onset ; excluded: Seizure (HP:0001250): onset </td></tr>\n",
       "</table>"
      ],
      "text/plain": [
       "<IPython.core.display.HTML object>"
      ]
     },
     "metadata": {},
     "output_type": "display_data"
    }
   ],
   "source": [
    "table = IndividualTable(cvalidator.get_error_free_individual_list())\n",
    "display(HTML(table.to_html()))"
   ]
  },
  {
   "cell_type": "code",
   "execution_count": 6,
   "metadata": {},
   "outputs": [
    {
     "name": "stdout",
     "output_type": "stream",
     "text": [
      "[pyphetools] Ingested 27 GA4GH phenopackets.\n",
      "\tNoonan syndrome 2 (OMIM:605275): n=27\n",
      "We found a total of 68 unique HPO terms\n",
      "Extracted disease: Noonan syndrome 2 (OMIM:605275)\n",
      "Wrote HPOA disease file to OMIM-605275.tab\n"
     ]
    },
    {
     "data": {
      "text/html": [
       "<div>\n",
       "<style scoped>\n",
       "    .dataframe tbody tr th:only-of-type {\n",
       "        vertical-align: middle;\n",
       "    }\n",
       "\n",
       "    .dataframe tbody tr th {\n",
       "        vertical-align: top;\n",
       "    }\n",
       "\n",
       "    .dataframe thead th {\n",
       "        text-align: right;\n",
       "    }\n",
       "</style>\n",
       "<table border=\"1\" class=\"dataframe\">\n",
       "  <thead>\n",
       "    <tr style=\"text-align: right;\">\n",
       "      <th></th>\n",
       "      <th>#diseaseID</th>\n",
       "      <th>diseaseName</th>\n",
       "      <th>phenotypeID</th>\n",
       "      <th>phenotypeName</th>\n",
       "      <th>onsetID</th>\n",
       "      <th>onsetName</th>\n",
       "      <th>frequency</th>\n",
       "      <th>sex</th>\n",
       "      <th>negation</th>\n",
       "      <th>modifier</th>\n",
       "      <th>description</th>\n",
       "      <th>publication</th>\n",
       "      <th>evidence</th>\n",
       "      <th>biocuration</th>\n",
       "    </tr>\n",
       "  </thead>\n",
       "  <tbody>\n",
       "    <tr>\n",
       "      <th>0</th>\n",
       "      <td>OMIM:605275</td>\n",
       "      <td>Noonan syndrome 2</td>\n",
       "      <td>HP:0006695</td>\n",
       "      <td>Atrioventricular canal defect</td>\n",
       "      <td></td>\n",
       "      <td></td>\n",
       "      <td>1/20</td>\n",
       "      <td></td>\n",
       "      <td></td>\n",
       "      <td></td>\n",
       "      <td></td>\n",
       "      <td>PMID:29469822</td>\n",
       "      <td>PCS</td>\n",
       "      <td>ORCID:0000-0002-0736-9199[2024-10-02]</td>\n",
       "    </tr>\n",
       "    <tr>\n",
       "      <th>1</th>\n",
       "      <td>OMIM:605275</td>\n",
       "      <td>Noonan syndrome 2</td>\n",
       "      <td>HP:0005989</td>\n",
       "      <td>Redundant neck skin</td>\n",
       "      <td></td>\n",
       "      <td></td>\n",
       "      <td>5/6</td>\n",
       "      <td></td>\n",
       "      <td></td>\n",
       "      <td></td>\n",
       "      <td></td>\n",
       "      <td>PMID:29469822</td>\n",
       "      <td>PCS</td>\n",
       "      <td>ORCID:0000-0002-0736-9199[2024-10-02]</td>\n",
       "    </tr>\n",
       "  </tbody>\n",
       "</table>\n",
       "</div>"
      ],
      "text/plain": [
       "    #diseaseID        diseaseName phenotypeID                  phenotypeName  \\\n",
       "0  OMIM:605275  Noonan syndrome 2  HP:0006695  Atrioventricular canal defect   \n",
       "1  OMIM:605275  Noonan syndrome 2  HP:0005989            Redundant neck skin   \n",
       "\n",
       "  onsetID onsetName frequency sex negation modifier description  \\\n",
       "0                        1/20                                     \n",
       "1                         5/6                                     \n",
       "\n",
       "     publication evidence                            biocuration  \n",
       "0  PMID:29469822      PCS  ORCID:0000-0002-0736-9199[2024-10-02]  \n",
       "1  PMID:29469822      PCS  ORCID:0000-0002-0736-9199[2024-10-02]  "
      ]
     },
     "execution_count": 6,
     "metadata": {},
     "output_type": "execute_result"
    }
   ],
   "source": [
    "pmid = \"PMID:30368668\"\n",
    "df = timporter.create_hpoa_from_phenopackets(pmid=pmid, mode_of_inheritance=Moi.AD)\n",
    "df.head(2)"
   ]
  }
 ],
 "metadata": {
  "kernelspec": {
   "display_name": "ps24venv",
   "language": "python",
   "name": "python3"
  },
  "language_info": {
   "codemirror_mode": {
    "name": "ipython",
    "version": 3
   },
   "file_extension": ".py",
   "mimetype": "text/x-python",
   "name": "python",
   "nbconvert_exporter": "python",
   "pygments_lexer": "ipython3",
   "version": "3.12.4"
  }
 },
 "nbformat": 4,
 "nbformat_minor": 2
}
