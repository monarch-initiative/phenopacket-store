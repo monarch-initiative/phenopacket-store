{
 "cells": [
  {
   "cell_type": "markdown",
   "id": "04dc1bb0-18e5-4249-aa2b-3f56aec4e0b9",
   "metadata": {},
   "source": [
    "# LZTR1 Noonan syndrome 2"
   ]
  },
  {
   "cell_type": "code",
   "execution_count": 1,
   "id": "b865867e-8ca7-4b8b-86b7-dd140935dd1e",
   "metadata": {},
   "outputs": [
    {
     "name": "stdout",
     "output_type": "stream",
     "text": [
      "Using pyphetools version 0.9.66\n"
     ]
    }
   ],
   "source": [
    "from pyphetools.creation import TemplateImporter\n",
    "from pyphetools.visualization import IndividualTable, QcVisualizer\n",
    "from IPython.display import display, HTML\n",
    "import pyphetools\n",
    "print(f\"Using pyphetools version {pyphetools.__version__}\")"
   ]
  },
  {
   "cell_type": "code",
   "execution_count": 2,
   "id": "deb53dd3-38dd-4126-99ab-a5d11762082f",
   "metadata": {},
   "outputs": [],
   "source": [
    "template = \"input/LZTR1_6NS2_individuals.xlsx\"\n",
    "hp_json = \"../hp.json\"\n",
    "created_by = \"0000-0002-0736-9199\""
   ]
  },
  {
   "cell_type": "code",
   "execution_count": 8,
   "id": "8756129e-a56d-4089-8f0a-f1028a110b9e",
   "metadata": {},
   "outputs": [
    {
     "name": "stdout",
     "output_type": "stream",
     "text": [
      "HPO version 2024-03-06\n",
      "Created encoders for 64 fields\n",
      " we got OMIM:605275  NM_006767.4\n",
      "We output 20 GA4GH phenopackets to the directory phenopackets\n"
     ]
    }
   ],
   "source": [
    "timporter = TemplateImporter(template=template, hp_json=hp_json, created_by=created_by)\n",
    "individual_list, cvalidator = timporter.import_phenopackets_from_template()"
   ]
  },
  {
   "cell_type": "code",
   "execution_count": 9,
   "id": "44888aac-22c1-42ff-986e-8ffac330e082",
   "metadata": {},
   "outputs": [
    {
     "data": {
      "text/html": [
       "<h2>Cohort validation</h2>\n",
       "<p>Errors found with 15 of 20 phenopackets.</p>\n",
       "<table style=\"border: 2px solid black; align: \"left\">\n",
       "<caption>Error counts</caption>\n",
       "<tr><th style=\"text-align: left;font-weight: bold;\">Level</th><th style=\"text-align: left;font-weight: bold;\">Error category</th><th style=\"text-align: left;font-weight: bold;\">Count</th></tr>\n",
       "<tr><td style=\"text-align: left;\">ERROR</td><td style=\"text-align: left;\">CONFLICT</td><td style=\"text-align: left;\">2</td></tr>\n",
       "<tr><td style=\"text-align: left;\">WARNING</td><td style=\"text-align: left;\">REDUNDANT</td><td style=\"text-align: left;\">13</td></tr>\n",
       "</table>\n",
       "<p>A total of 15 issues were fixed and no individual was removed from the cohort.</p>"
      ],
      "text/plain": [
       "<IPython.core.display.HTML object>"
      ]
     },
     "metadata": {},
     "output_type": "display_data"
    }
   ],
   "source": [
    "qc = QcVisualizer(cohort_validator=cvalidator)\n",
    "display(HTML(qc.to_summary_html()))"
   ]
  },
  {
   "cell_type": "code",
   "execution_count": 10,
   "id": "0431ca0f-54a5-499a-831b-65e5ff61870a",
   "metadata": {},
   "outputs": [
    {
     "data": {
      "text/html": [
       "<table style=\"border: 2px solid black; align: \"left\">\n",
       "<caption>20 phenopackets - PMID:29469822 (n=20)</caption>\n",
       "<tr><th style=\"text-align: left;font-weight: bold;\">Individual</th><th style=\"text-align: left;font-weight: bold;\">Disease</th><th style=\"text-align: left;font-weight: bold;\">Genotype</th><th style=\"text-align: left;font-weight: bold;\">Phenotypic features</th></tr>\n",
       "<tr><td style=\"text-align: left;\">Family 1 II-1 (FEMALE; P7Y6M)</td><td style=\"text-align: left;\">Noonan syndrome 2 (OMIM:605275)</td><td style=\"text-align: left;\"><ul> <li>NM_006767.4:c.628C>T (heterozygous)</li> <li>NM_006767.4:c.2220-17C>A (heterozygous)</li> </ul></td><td style=\"text-align: left;\"><b>P5Y</b>: Acute lymphoblastic leukemia (HP:0006721)<br/>Ptosis (HP:0000508); Posteriorly rotated ears (HP:0000358); Midface retrusion (HP:0011800); Micrognathia (HP:0000347); Low posterior hairline (HP:0002162); Short neck (HP:0000470); Pectus excavatum (HP:0000767); Hypermelanotic macule (HP:0001034); excluded: Downslanted palpebral fissures (HP:0000494); excluded: Hypertrophic cardiomyopathy (HP:0001639); excluded: Hypertelorism (HP:0000316); excluded: Curly hair (HP:0002212); excluded: Low-set ears (HP:0000369); excluded: Global developmental delay (HP:0001263); excluded: Short stature (HP:0004322); excluded: Pointed chin (HP:0000307); excluded: Pectus carinatum (HP:0000768); excluded: Pulmonic stenosis (HP:0001642); excluded: Atrioventricular canal defect (HP:0006695); excluded: Ventricular septal defect (HP:0001629); excluded: Bicuspid aortic valve (HP:0001647); excluded: Patent foramen ovale (HP:0001655); excluded: Anteverted nares (HP:0000463); excluded: Depressed nasal bridge (HP:0005280); excluded: Wide nasal bridge (HP:0000431); excluded: Telecanthus (HP:0000506); excluded: Epicanthus (HP:0000286); excluded: Overfolded helix (HP:0000396); excluded: Wide mouth (HP:0000154); excluded: Long philtrum (HP:0000343); excluded: High palate (HP:0000218); excluded: Prominent fingertip pads (HP:0001212); excluded: Anterior polar cataract (HP:0001134); excluded: Wide intermamillary distance (HP:0006610); excluded: Polyhydramnios (HP:0001561); excluded: Nonimmune hydrops fetalis (HP:0001790); excluded: Distal arthrogryposis (HP:0005684)</td></tr>\n",
       "<tr><td style=\"text-align: left;\">Family 1 II-2 (FEMALE; P5Y6M)</td><td style=\"text-align: left;\">Noonan syndrome 2 (OMIM:605275)</td><td style=\"text-align: left;\"><ul> <li>NM_006767.4:c.628C>T (heterozygous)</li> <li>NM_006767.4:c.2220-17C>A (heterozygous)</li> </ul></td><td style=\"text-align: left;\"><b>P5Y6M</b>: Pectus excavatum (HP:0000767); Anteverted nares (HP:0000463); Epicanthus (HP:0000286); Webbed neck (HP:0000465); Prominent fingertip pads (HP:0001212); Melanocytic nevus (HP:0000995)<br/>Redundant neck skin (HP:0005989); Anterior polar cataract (HP:0001134); Curly hair (HP:0002212); Posteriorly rotated ears (HP:0000358); Low-set ears (HP:0000369); Midface retrusion (HP:0011800); Micrognathia (HP:0000347); Low posterior hairline (HP:0002162); Bicuspid aortic valve (HP:0001647); Patent foramen ovale (HP:0001655); excluded: Downslanted palpebral fissures (HP:0000494); excluded: Hypertrophic cardiomyopathy (HP:0001639); excluded: Hypertelorism (HP:0000316); excluded: Ptosis (HP:0000508); excluded: Global developmental delay (HP:0001263); excluded: Short stature (HP:0004322); excluded: Acute lymphoblastic leukemia (HP:0006721); excluded: Pointed chin (HP:0000307); excluded: Short neck (HP:0000470); excluded: Pectus carinatum (HP:0000768); excluded: Pulmonic stenosis (HP:0001642); excluded: Atrioventricular canal defect (HP:0006695); excluded: Ventricular septal defect (HP:0001629); excluded: Depressed nasal bridge (HP:0005280); excluded: Wide nasal bridge (HP:0000431); excluded: Telecanthus (HP:0000506); excluded: Overfolded helix (HP:0000396); excluded: Wide mouth (HP:0000154); excluded: Long philtrum (HP:0000343); excluded: High palate (HP:0000218); excluded: Wide intermamillary distance (HP:0006610); excluded: Polyhydramnios (HP:0001561); excluded: Nonimmune hydrops fetalis (HP:0001790); excluded: Distal arthrogryposis (HP:0005684)</td></tr>\n",
       "<tr><td style=\"text-align: left;\">Family 1 II-3 (FEMALE; P8Y10M)</td><td style=\"text-align: left;\">Noonan syndrome 2 (OMIM:605275)</td><td style=\"text-align: left;\"><ul> <li>NM_006767.4:c.628C>T (heterozygous)</li> <li>NM_006767.4:c.2220-17C>A (heterozygous)</li> </ul></td><td style=\"text-align: left;\"><b>P3Y8M</b>: Pointed chin (HP:0000307); Pectus carinatum (HP:0000768); Epicanthus (HP:0000286); Webbed neck (HP:0000465); Prominent fingertip pads (HP:0001212); Wide intermamillary distance (HP:0006610)<br/><b>P5Y3M</b>: Acute lymphoblastic leukemia (HP:0006721)<br/>Redundant neck skin (HP:0005989); Curly hair (HP:0002212); Posteriorly rotated ears (HP:0000358); Micrognathia (HP:0000347); Low posterior hairline (HP:0002162); excluded: Downslanted palpebral fissures (HP:0000494); excluded: Hypertrophic cardiomyopathy (HP:0001639); excluded: Hypertelorism (HP:0000316); excluded: Ptosis (HP:0000508); excluded: Low-set ears (HP:0000369); excluded: Midface retrusion (HP:0011800); excluded: Global developmental delay (HP:0001263); excluded: Short stature (HP:0004322); excluded: Short neck (HP:0000470); excluded: Pectus excavatum (HP:0000767); excluded: Pulmonic stenosis (HP:0001642); excluded: Atrioventricular canal defect (HP:0006695); excluded: Ventricular septal defect (HP:0001629); excluded: Bicuspid aortic valve (HP:0001647); excluded: Patent foramen ovale (HP:0001655); excluded: Anteverted nares (HP:0000463); excluded: Depressed nasal bridge (HP:0005280); excluded: Wide nasal bridge (HP:0000431); excluded: Telecanthus (HP:0000506); excluded: Overfolded helix (HP:0000396); excluded: Wide mouth (HP:0000154); excluded: Long philtrum (HP:0000343); excluded: High palate (HP:0000218); excluded: Anterior polar cataract (HP:0001134); excluded: Polyhydramnios (HP:0001561); excluded: Nonimmune hydrops fetalis (HP:0001790); excluded: Distal arthrogryposis (HP:0005684)</td></tr>\n",
       "<tr><td style=\"text-align: left;\">Family 1 II-4 (MALE; P10M)</td><td style=\"text-align: left;\">Noonan syndrome 2 (OMIM:605275)</td><td style=\"text-align: left;\"><ul> <li>NM_006767.4:c.628C>T (heterozygous)</li> <li>NM_006767.4:c.2220-17C>A (heterozygous)</li> </ul></td><td style=\"text-align: left;\">Redundant neck skin (HP:0005989); Cystic hygroma (HP:0000476); Posteriorly rotated ears (HP:0000358); Low-set ears (HP:0000369); Micrognathia (HP:0000347); Low posterior hairline (HP:0002162); Short stature (HP:0004322); Bicuspid aortic valve (HP:0001647); Patent foramen ovale (HP:0001655); Depressed nasal bridge (HP:0005280); excluded: Downslanted palpebral fissures (HP:0000494); excluded: Hypertrophic cardiomyopathy (HP:0001639); excluded: Hypertelorism (HP:0000316); excluded: Ptosis (HP:0000508); excluded: Cryptorchidism (HP:0000028); excluded: Curly hair (HP:0002212); excluded: Midface retrusion (HP:0011800); excluded: Global developmental delay (HP:0001263); excluded: Acute lymphoblastic leukemia (HP:0006721); excluded: Pointed chin (HP:0000307); excluded: Short neck (HP:0000470); excluded: Pectus carinatum (HP:0000768); excluded: Pectus excavatum (HP:0000767); excluded: Pulmonic stenosis (HP:0001642); excluded: Atrioventricular canal defect (HP:0006695); excluded: Ventricular septal defect (HP:0001629); excluded: Anteverted nares (HP:0000463); excluded: Wide nasal bridge (HP:0000431); excluded: Telecanthus (HP:0000506); excluded: Epicanthus (HP:0000286); excluded: Overfolded helix (HP:0000396); excluded: Wide mouth (HP:0000154); excluded: Long philtrum (HP:0000343); excluded: High palate (HP:0000218); excluded: Prominent fingertip pads (HP:0001212); excluded: Anterior polar cataract (HP:0001134); excluded: Wide intermamillary distance (HP:0006610); excluded: Polyhydramnios (HP:0001561); excluded: Nonimmune hydrops fetalis (HP:0001790); excluded: Distal arthrogryposis (HP:0005684)</td></tr>\n",
       "<tr><td style=\"text-align: left;\">Family 2 II-4 (MALE; P8Y)</td><td style=\"text-align: left;\">Noonan syndrome 2 (OMIM:605275)</td><td style=\"text-align: left;\"><ul> <li>NM_006767.4:c.2178C>A (heterozygous)</li> <li>NM_006767.4:c.1943-256C>T (heterozygous)</li> </ul></td><td style=\"text-align: left;\">Overfolded helix (HP:0000396); Long philtrum (HP:0000343); Distal arthrogryposis (HP:0005684); Polyhydramnios (HP:0001561); Nonimmune hydrops fetalis (HP:0001790); Downslanted palpebral fissures (HP:0000494); Hypertrophic cardiomyopathy (HP:0001639); Hypertelorism (HP:0000316); Cryptorchidism (HP:0000028); Posteriorly rotated ears (HP:0000358); Low-set ears (HP:0000369); Midface retrusion (HP:0011800); Micrognathia (HP:0000347); Low posterior hairline (HP:0002162); Global developmental delay (HP:0001263); Short stature (HP:0004322); Pectus excavatum (HP:0000767); Pulmonary artery stenosis (HP:0004415); Atrial septal defect (HP:0001631); excluded: Ptosis (HP:0000508); excluded: Curly hair (HP:0002212); excluded: Acute lymphoblastic leukemia (HP:0006721); excluded: Pointed chin (HP:0000307); excluded: Short neck (HP:0000470); excluded: Pectus carinatum (HP:0000768); excluded: Pulmonic stenosis (HP:0001642); excluded: Atrioventricular canal defect (HP:0006695); excluded: Ventricular septal defect (HP:0001629); excluded: Bicuspid aortic valve (HP:0001647); excluded: Patent foramen ovale (HP:0001655); excluded: Anteverted nares (HP:0000463); excluded: Depressed nasal bridge (HP:0005280); excluded: Wide nasal bridge (HP:0000431); excluded: Telecanthus (HP:0000506); excluded: Epicanthus (HP:0000286); excluded: Wide mouth (HP:0000154); excluded: High palate (HP:0000218); excluded: Prominent fingertip pads (HP:0001212); excluded: Anterior polar cataract (HP:0001134); excluded: Wide intermamillary distance (HP:0006610)</td></tr>\n",
       "<tr><td style=\"text-align: left;\">Family 2 II-5 (MALE; P3Y)</td><td style=\"text-align: left;\">Noonan syndrome 2 (OMIM:605275)</td><td style=\"text-align: left;\"><ul> <li>NM_006767.4:c.2178C>A (heterozygous)</li> <li>NM_006767.4:c.1943-256C>T (heterozygous)</li> </ul></td><td style=\"text-align: left;\">Polyhydramnios (HP:0001561); Hypertrophic cardiomyopathy (HP:0001639); Posteriorly rotated ears (HP:0000358); Midface retrusion (HP:0011800); Micrognathia (HP:0000347); Global developmental delay (HP:0001263); Pulmonic stenosis (HP:0001642); Overfolded helix (HP:0000396); Long philtrum (HP:0000343); excluded: Downslanted palpebral fissures (HP:0000494); excluded: Hypertelorism (HP:0000316); excluded: Ptosis (HP:0000508); excluded: Cryptorchidism (HP:0000028); excluded: Curly hair (HP:0002212); excluded: Low-set ears (HP:0000369); excluded: Low posterior hairline (HP:0002162); excluded: Short stature (HP:0004322); excluded: Acute lymphoblastic leukemia (HP:0006721); excluded: Pointed chin (HP:0000307); excluded: Short neck (HP:0000470); excluded: Pectus carinatum (HP:0000768); excluded: Pectus excavatum (HP:0000767); excluded: Atrioventricular canal defect (HP:0006695); excluded: Ventricular septal defect (HP:0001629); excluded: Bicuspid aortic valve (HP:0001647); excluded: Patent foramen ovale (HP:0001655); excluded: Anteverted nares (HP:0000463); excluded: Depressed nasal bridge (HP:0005280); excluded: Wide nasal bridge (HP:0000431); excluded: Telecanthus (HP:0000506); excluded: Epicanthus (HP:0000286); excluded: Wide mouth (HP:0000154); excluded: High palate (HP:0000218); excluded: Prominent fingertip pads (HP:0001212); excluded: Anterior polar cataract (HP:0001134); excluded: Wide intermamillary distance (HP:0006610); excluded: Nonimmune hydrops fetalis (HP:0001790); excluded: Distal arthrogryposis (HP:0005684)</td></tr>\n",
       "<tr><td style=\"text-align: left;\">Family 3 II-1 (FEMALE; P1Y)</td><td style=\"text-align: left;\">Noonan syndrome 2 (OMIM:605275)</td><td style=\"text-align: left;\">NM_006767.4:c.1943-256C>T (homozygous)</td><td style=\"text-align: left;\">Increased nuchal translucency (HP:0010880); Polyhydramnios (HP:0001561); Hypertrophic cardiomyopathy (HP:0001639); Low-set ears (HP:0000369); Low posterior hairline (HP:0002162); Short stature (HP:0004322); Short neck (HP:0000470); Atrial septal defect (HP:0001631); Wide intermamillary distance (HP:0006610); excluded: Ptosis (HP:0000508); excluded: Acute lymphoblastic leukemia (HP:0006721); excluded: Pointed chin (HP:0000307); excluded: Pectus carinatum (HP:0000768); excluded: Pectus excavatum (HP:0000767); excluded: Pulmonic stenosis (HP:0001642); excluded: Atrioventricular canal defect (HP:0006695); excluded: Ventricular septal defect (HP:0001629); excluded: Bicuspid aortic valve (HP:0001647); excluded: Patent foramen ovale (HP:0001655); excluded: Anteverted nares (HP:0000463); excluded: Depressed nasal bridge (HP:0005280); excluded: Wide nasal bridge (HP:0000431); excluded: Telecanthus (HP:0000506); excluded: Epicanthus (HP:0000286); excluded: Overfolded helix (HP:0000396); excluded: Wide mouth (HP:0000154); excluded: Long philtrum (HP:0000343); excluded: High palate (HP:0000218); excluded: Prominent fingertip pads (HP:0001212); excluded: Anterior polar cataract (HP:0001134); excluded: Nonimmune hydrops fetalis (HP:0001790); excluded: Distal arthrogryposis (HP:0005684)</td></tr>\n",
       "<tr><td style=\"text-align: left;\">Family 3 II-4 (MALE; P3Y2M)</td><td style=\"text-align: left;\">Noonan syndrome 2 (OMIM:605275)</td><td style=\"text-align: left;\">NM_006767.4:c.1943-256C>T (homozygous)</td><td style=\"text-align: left;\">Atrial septal defect (HP:0001631); Cystic hygroma (HP:0000476); Downslanted palpebral fissures (HP:0000494); Hypertrophic cardiomyopathy (HP:0001639); Ptosis (HP:0000508); Low-set ears (HP:0000369); Depressed nasal bridge (HP:0005280); Wide mouth (HP:0000154); excluded: Low posterior hairline (HP:0002162); excluded: Short stature (HP:0004322); excluded: Acute lymphoblastic leukemia (HP:0006721); excluded: Pointed chin (HP:0000307); excluded: Short neck (HP:0000470); excluded: Pectus carinatum (HP:0000768); excluded: Pectus excavatum (HP:0000767); excluded: Pulmonic stenosis (HP:0001642); excluded: Atrioventricular canal defect (HP:0006695); excluded: Ventricular septal defect (HP:0001629); excluded: Bicuspid aortic valve (HP:0001647); excluded: Patent foramen ovale (HP:0001655); excluded: Anteverted nares (HP:0000463); excluded: Wide nasal bridge (HP:0000431); excluded: Telecanthus (HP:0000506); excluded: Epicanthus (HP:0000286); excluded: Overfolded helix (HP:0000396); excluded: Long philtrum (HP:0000343); excluded: High palate (HP:0000218); excluded: Prominent fingertip pads (HP:0001212); excluded: Anterior polar cataract (HP:0001134); excluded: Wide intermamillary distance (HP:0006610); excluded: Polyhydramnios (HP:0001561); excluded: Nonimmune hydrops fetalis (HP:0001790); excluded: Distal arthrogryposis (HP:0005684)</td></tr>\n",
       "<tr><td style=\"text-align: left;\">Family 4 II-1 (MALE; P3Y)</td><td style=\"text-align: left;\">Noonan syndrome 2 (OMIM:605275)</td><td style=\"text-align: left;\">NM_006767.4:c.1687G>C (homozygous)</td><td style=\"text-align: left;\"><b>P3Y</b>: Acute lymphoblastic leukemia (HP:0006721)<br/>Downslanted palpebral fissures (HP:0000494); Hypertrophic cardiomyopathy (HP:0001639); Hypertelorism (HP:0000316); Ptosis (HP:0000508); Posteriorly rotated ears (HP:0000358); Low-set ears (HP:0000369); Micrognathia (HP:0000347); Low posterior hairline (HP:0002162); Global developmental delay (HP:0001263); Short neck (HP:0000470); Pectus excavatum (HP:0000767); excluded: Cryptorchidism (HP:0000028); excluded: Curly hair (HP:0002212); excluded: Midface retrusion (HP:0011800); excluded: Short stature (HP:0004322); excluded: Pointed chin (HP:0000307); excluded: Pectus carinatum (HP:0000768); excluded: Pulmonic stenosis (HP:0001642); excluded: Atrioventricular canal defect (HP:0006695); excluded: Ventricular septal defect (HP:0001629); excluded: Bicuspid aortic valve (HP:0001647); excluded: Patent foramen ovale (HP:0001655); excluded: Anteverted nares (HP:0000463); excluded: Depressed nasal bridge (HP:0005280); excluded: Wide nasal bridge (HP:0000431); excluded: Telecanthus (HP:0000506); excluded: Epicanthus (HP:0000286); excluded: Overfolded helix (HP:0000396); excluded: Wide mouth (HP:0000154); excluded: Long philtrum (HP:0000343); excluded: High palate (HP:0000218); excluded: Prominent fingertip pads (HP:0001212); excluded: Anterior polar cataract (HP:0001134); excluded: Wide intermamillary distance (HP:0006610); excluded: Polyhydramnios (HP:0001561); excluded: Nonimmune hydrops fetalis (HP:0001790); excluded: Distal arthrogryposis (HP:0005684)</td></tr>\n",
       "<tr><td style=\"text-align: left;\">Family 4 II-2 (MALE; P4D)</td><td style=\"text-align: left;\">Noonan syndrome 2 (OMIM:605275)</td><td style=\"text-align: left;\">NM_006767.4:c.1687G>C (homozygous)</td><td style=\"text-align: left;\">Short neck (HP:0000470); Redundant neck skin (HP:0005989); Atrioventricular canal defect (HP:0006695); Hypertrophic cardiomyopathy (HP:0001639); Cryptorchidism (HP:0000028); excluded: Ptosis (HP:0000508); excluded: Low posterior hairline (HP:0002162); excluded: Acute lymphoblastic leukemia (HP:0006721); excluded: Pointed chin (HP:0000307); excluded: Pectus carinatum (HP:0000768); excluded: Pectus excavatum (HP:0000767); excluded: Pulmonic stenosis (HP:0001642); excluded: Ventricular septal defect (HP:0001629); excluded: Bicuspid aortic valve (HP:0001647); excluded: Patent foramen ovale (HP:0001655); excluded: Anteverted nares (HP:0000463); excluded: Depressed nasal bridge (HP:0005280); excluded: Wide nasal bridge (HP:0000431); excluded: Telecanthus (HP:0000506); excluded: Epicanthus (HP:0000286); excluded: Overfolded helix (HP:0000396); excluded: Wide mouth (HP:0000154); excluded: Long philtrum (HP:0000343); excluded: High palate (HP:0000218); excluded: Prominent fingertip pads (HP:0001212); excluded: Anterior polar cataract (HP:0001134); excluded: Wide intermamillary distance (HP:0006610); excluded: Polyhydramnios (HP:0001561); excluded: Nonimmune hydrops fetalis (HP:0001790); excluded: Distal arthrogryposis (HP:0005684)</td></tr>\n",
       "<tr><td style=\"text-align: left;\">Family 5 II-4 (FEMALE; P3Y10M)</td><td style=\"text-align: left;\">Noonan syndrome 2 (OMIM:605275)</td><td style=\"text-align: left;\"><ul> <li>NM_006767.4:c.2407-2A>G (heterozygous)</li> <li>NM_006767.4:c.2090G>A (heterozygous)</li> </ul></td><td style=\"text-align: left;\">Ventricular septal defect (HP:0001629); Increased nuchal translucency (HP:0010880); Cystic hygroma (HP:0000476); Downslanted palpebral fissures (HP:0000494); Hypertrophic cardiomyopathy (HP:0001639); Ptosis (HP:0000508); Curly hair (HP:0002212); Posteriorly rotated ears (HP:0000358); Low-set ears (HP:0000369); Midface retrusion (HP:0011800); Micrognathia (HP:0000347); Epicanthus (HP:0000286); Overfolded helix (HP:0000396); Prominent fingertip pads (HP:0001212); excluded: Hypertelorism (HP:0000316); excluded: Low posterior hairline (HP:0002162); excluded: Global developmental delay (HP:0001263); excluded: Short stature (HP:0004322); excluded: Acute lymphoblastic leukemia (HP:0006721); excluded: Pointed chin (HP:0000307); excluded: Short neck (HP:0000470); excluded: Pectus carinatum (HP:0000768); excluded: Pectus excavatum (HP:0000767); excluded: Pulmonic stenosis (HP:0001642); excluded: Atrioventricular canal defect (HP:0006695); excluded: Bicuspid aortic valve (HP:0001647); excluded: Patent foramen ovale (HP:0001655); excluded: Anteverted nares (HP:0000463); excluded: Depressed nasal bridge (HP:0005280); excluded: Wide nasal bridge (HP:0000431); excluded: Telecanthus (HP:0000506); excluded: Wide mouth (HP:0000154); excluded: Long philtrum (HP:0000343); excluded: High palate (HP:0000218); excluded: Anterior polar cataract (HP:0001134); excluded: Wide intermamillary distance (HP:0006610); excluded: Polyhydramnios (HP:0001561); excluded: Nonimmune hydrops fetalis (HP:0001790); excluded: Distal arthrogryposis (HP:0005684)</td></tr>\n",
       "<tr><td style=\"text-align: left;\">Family 5 II-1/2 (FEMALE; Antenatal onset (HP:0030674))</td><td style=\"text-align: left;\">Noonan syndrome 2 (OMIM:605275)</td><td style=\"text-align: left;\"><ul> <li>NM_006767.4:c.2407-2A>G (heterozygous)</li> <li>NM_006767.4:c.2090G>A (heterozygous)</li> </ul></td><td style=\"text-align: left;\">Increased nuchal translucency (HP:0010880); Cystic hygroma (HP:0000476); Nonimmune hydrops fetalis (HP:0001790); Short stature (HP:0004322); Ventricular septal defect (HP:0001629); excluded: Ptosis (HP:0000508); excluded: Low posterior hairline (HP:0002162); excluded: Acute lymphoblastic leukemia (HP:0006721); excluded: Pointed chin (HP:0000307); excluded: Short neck (HP:0000470); excluded: Pectus carinatum (HP:0000768); excluded: Pectus excavatum (HP:0000767); excluded: Pulmonic stenosis (HP:0001642); excluded: Atrioventricular canal defect (HP:0006695); excluded: Bicuspid aortic valve (HP:0001647); excluded: Patent foramen ovale (HP:0001655); excluded: Anteverted nares (HP:0000463); excluded: Depressed nasal bridge (HP:0005280); excluded: Wide nasal bridge (HP:0000431); excluded: Telecanthus (HP:0000506); excluded: Epicanthus (HP:0000286); excluded: Overfolded helix (HP:0000396); excluded: Wide mouth (HP:0000154); excluded: Long philtrum (HP:0000343); excluded: High palate (HP:0000218); excluded: Prominent fingertip pads (HP:0001212); excluded: Anterior polar cataract (HP:0001134); excluded: Wide intermamillary distance (HP:0006610); excluded: Polyhydramnios (HP:0001561); excluded: Distal arthrogryposis (HP:0005684)</td></tr>\n",
       "<tr><td style=\"text-align: left;\">Family 6 II-6 (FEMALE; P2Y1M)</td><td style=\"text-align: left;\">Noonan syndrome 2 (OMIM:605275)</td><td style=\"text-align: left;\"><ul> <li>NM_006767.4:c.27del (heterozygous)</li> <li>NM_006767.4:c.1149+1G>A (heterozygous)</li> </ul></td><td style=\"text-align: left;\">Polyhydramnios (HP:0001561); Downslanted palpebral fissures (HP:0000494); Hypertelorism (HP:0000316); Midface retrusion (HP:0011800); Short stature (HP:0004322); Short neck (HP:0000470); Patent foramen ovale (HP:0001655); Depressed nasal bridge (HP:0005280); Wide nasal bridge (HP:0000431); Epicanthus (HP:0000286); Long philtrum (HP:0000343); excluded: Ptosis (HP:0000508); excluded: Low posterior hairline (HP:0002162); excluded: Global developmental delay (HP:0001263); excluded: Acute lymphoblastic leukemia (HP:0006721); excluded: Pointed chin (HP:0000307); excluded: Pectus carinatum (HP:0000768); excluded: Pectus excavatum (HP:0000767); excluded: Pulmonic stenosis (HP:0001642); excluded: Atrioventricular canal defect (HP:0006695); excluded: Ventricular septal defect (HP:0001629); excluded: Bicuspid aortic valve (HP:0001647); excluded: Anteverted nares (HP:0000463); excluded: Telecanthus (HP:0000506); excluded: Overfolded helix (HP:0000396); excluded: Wide mouth (HP:0000154); excluded: High palate (HP:0000218); excluded: Increased nuchal translucency (HP:0010880); excluded: Cystic hygroma (HP:0000476); excluded: Prominent fingertip pads (HP:0001212); excluded: Anterior polar cataract (HP:0001134); excluded: Wide intermamillary distance (HP:0006610); excluded: Nonimmune hydrops fetalis (HP:0001790); excluded: Distal arthrogryposis (HP:0005684)</td></tr>\n",
       "<tr><td style=\"text-align: left;\">Family 7 II-1 (MALE; P7Y)</td><td style=\"text-align: left;\">Noonan syndrome 2 (OMIM:605275)</td><td style=\"text-align: left;\"><ul> <li>NM_006767.4:c.361C>G (heterozygous)</li> <li>NM_006767.4:c.2264G>A (heterozygous)</li> </ul></td><td style=\"text-align: left;\">Increased nuchal translucency (HP:0010880); Downslanted palpebral fissures (HP:0000494); Hypertrophic cardiomyopathy (HP:0001639); Hypertelorism (HP:0000316); Curly hair (HP:0002212); Posteriorly rotated ears (HP:0000358); Low-set ears (HP:0000369); Midface retrusion (HP:0011800); Low posterior hairline (HP:0002162); Global developmental delay (HP:0001263); Short stature (HP:0004322); Pointed chin (HP:0000307); Pectus excavatum (HP:0000767); Ventricular septal defect (HP:0001629); Atrial septal defect (HP:0001631); excluded: Ptosis (HP:0000508); excluded: Cryptorchidism (HP:0000028); excluded: Micrognathia (HP:0000347); excluded: Acute lymphoblastic leukemia (HP:0006721); excluded: Short neck (HP:0000470); excluded: Pectus carinatum (HP:0000768); excluded: Pulmonic stenosis (HP:0001642); excluded: Atrioventricular canal defect (HP:0006695); excluded: Bicuspid aortic valve (HP:0001647); excluded: Patent foramen ovale (HP:0001655); excluded: Anteverted nares (HP:0000463); excluded: Depressed nasal bridge (HP:0005280); excluded: Wide nasal bridge (HP:0000431); excluded: Telecanthus (HP:0000506); excluded: Epicanthus (HP:0000286); excluded: Overfolded helix (HP:0000396); excluded: Wide mouth (HP:0000154); excluded: Long philtrum (HP:0000343); excluded: High palate (HP:0000218); excluded: Prominent fingertip pads (HP:0001212); excluded: Anterior polar cataract (HP:0001134); excluded: Wide intermamillary distance (HP:0006610); excluded: Polyhydramnios (HP:0001561); excluded: Nonimmune hydrops fetalis (HP:0001790); excluded: Distal arthrogryposis (HP:0005684)</td></tr>\n",
       "<tr><td style=\"text-align: left;\">Family 8 II-11 (MALE; P3Y4M)</td><td style=\"text-align: left;\">Noonan syndrome 2 (OMIM:605275)</td><td style=\"text-align: left;\">NM_006767.4:c.508C>T (homozygous)</td><td style=\"text-align: left;\">Downslanted palpebral fissures (HP:0000494); Hypertrophic cardiomyopathy (HP:0001639); Hypertelorism (HP:0000316); Ptosis (HP:0000508); Cryptorchidism (HP:0000028); Curly hair (HP:0002212); Posteriorly rotated ears (HP:0000358); Low-set ears (HP:0000369); Global developmental delay (HP:0001263); Short stature (HP:0004322); Pulmonic stenosis (HP:0001642); Ventricular septal defect (HP:0001629); Atrial septal defect (HP:0001631); Webbed neck (HP:0000465); excluded: Midface retrusion (HP:0011800); excluded: Micrognathia (HP:0000347); excluded: Low posterior hairline (HP:0002162); excluded: Acute lymphoblastic leukemia (HP:0006721); excluded: Pointed chin (HP:0000307); excluded: Short neck (HP:0000470); excluded: Pectus carinatum (HP:0000768); excluded: Pectus excavatum (HP:0000767); excluded: Atrioventricular canal defect (HP:0006695); excluded: Bicuspid aortic valve (HP:0001647); excluded: Patent foramen ovale (HP:0001655); excluded: Anteverted nares (HP:0000463); excluded: Depressed nasal bridge (HP:0005280); excluded: Wide nasal bridge (HP:0000431); excluded: Telecanthus (HP:0000506); excluded: Epicanthus (HP:0000286); excluded: Overfolded helix (HP:0000396); excluded: Wide mouth (HP:0000154); excluded: Long philtrum (HP:0000343); excluded: High palate (HP:0000218); excluded: Prominent fingertip pads (HP:0001212); excluded: Anterior polar cataract (HP:0001134); excluded: Wide intermamillary distance (HP:0006610); excluded: Polyhydramnios (HP:0001561); excluded: Nonimmune hydrops fetalis (HP:0001790); excluded: Distal arthrogryposis (HP:0005684)</td></tr>\n",
       "<tr><td style=\"text-align: left;\">Family 9 II-2 (FEMALE; P2Y10M)</td><td style=\"text-align: left;\">Noonan syndrome 2 (OMIM:605275)</td><td style=\"text-align: left;\">NM_006767.4:c.650A>C (homozygous)</td><td style=\"text-align: left;\">Downslanted palpebral fissures (HP:0000494); Hypertrophic cardiomyopathy (HP:0001639); Hypertelorism (HP:0000316); Global developmental delay (HP:0001263); Short neck (HP:0000470); Anteverted nares (HP:0000463); Depressed nasal bridge (HP:0005280); Telecanthus (HP:0000506); Epicanthus (HP:0000286); High palate (HP:0000218); excluded: Ptosis (HP:0000508); excluded: Curly hair (HP:0002212); excluded: Low posterior hairline (HP:0002162); excluded: Short stature (HP:0004322); excluded: Acute lymphoblastic leukemia (HP:0006721); excluded: Pointed chin (HP:0000307); excluded: Pectus carinatum (HP:0000768); excluded: Pectus excavatum (HP:0000767); excluded: Pulmonic stenosis (HP:0001642); excluded: Atrioventricular canal defect (HP:0006695); excluded: Ventricular septal defect (HP:0001629); excluded: Bicuspid aortic valve (HP:0001647); excluded: Patent foramen ovale (HP:0001655); excluded: Wide nasal bridge (HP:0000431); excluded: Overfolded helix (HP:0000396); excluded: Wide mouth (HP:0000154); excluded: Long philtrum (HP:0000343); excluded: Increased nuchal translucency (HP:0010880); excluded: Cystic hygroma (HP:0000476); excluded: Prominent fingertip pads (HP:0001212); excluded: Anterior polar cataract (HP:0001134); excluded: Wide intermamillary distance (HP:0006610); excluded: Polyhydramnios (HP:0001561); excluded: Nonimmune hydrops fetalis (HP:0001790); excluded: Distal arthrogryposis (HP:0005684)</td></tr>\n",
       "<tr><td style=\"text-align: left;\">Family 10 II-3 (FEMALE; P4Y9M)</td><td style=\"text-align: left;\">Noonan syndrome 2 (OMIM:605275)</td><td style=\"text-align: left;\"><ul> <li>NM_006767.4:c.2062C>G (heterozygous)</li> <li>NM_006767.4:c.1943-256C>T (heterozygous)</li> </ul></td><td style=\"text-align: left;\">Increased nuchal translucency (HP:0010880); Polyhydramnios (HP:0001561); Hypertrophic cardiomyopathy (HP:0001639); Posteriorly rotated ears (HP:0000358); Low-set ears (HP:0000369); Micrognathia (HP:0000347); Global developmental delay (HP:0001263); Short stature (HP:0004322); Telecanthus (HP:0000506); Epicanthus (HP:0000286); Long philtrum (HP:0000343); Wide intermamillary distance (HP:0006610); excluded: Downslanted palpebral fissures (HP:0000494); excluded: Hypertelorism (HP:0000316); excluded: Ptosis (HP:0000508); excluded: Curly hair (HP:0002212); excluded: Midface retrusion (HP:0011800); excluded: Low posterior hairline (HP:0002162); excluded: Acute lymphoblastic leukemia (HP:0006721); excluded: Pointed chin (HP:0000307); excluded: Short neck (HP:0000470); excluded: Pectus carinatum (HP:0000768); excluded: Pectus excavatum (HP:0000767); excluded: Pulmonic stenosis (HP:0001642); excluded: Atrioventricular canal defect (HP:0006695); excluded: Ventricular septal defect (HP:0001629); excluded: Bicuspid aortic valve (HP:0001647); excluded: Patent foramen ovale (HP:0001655); excluded: Anteverted nares (HP:0000463); excluded: Depressed nasal bridge (HP:0005280); excluded: Wide nasal bridge (HP:0000431); excluded: Overfolded helix (HP:0000396); excluded: Wide mouth (HP:0000154); excluded: High palate (HP:0000218); excluded: Cystic hygroma (HP:0000476); excluded: Prominent fingertip pads (HP:0001212); excluded: Anterior polar cataract (HP:0001134); excluded: Nonimmune hydrops fetalis (HP:0001790); excluded: Distal arthrogryposis (HP:0005684)</td></tr>\n",
       "<tr><td style=\"text-align: left;\">Family 11 II-6 (MALE; P6M)</td><td style=\"text-align: left;\">Noonan syndrome 2 (OMIM:605275)</td><td style=\"text-align: left;\"><ul> <li>NM_006767.4:c.2325+1G>A (heterozygous)</li> <li>NM_006767.4:c.1943-256C>T (heterozygous)</li> </ul></td><td style=\"text-align: left;\">Cystic hygroma (HP:0000476); Polyhydramnios (HP:0001561); Downslanted palpebral fissures (HP:0000494); Hypertrophic cardiomyopathy (HP:0001639); Posteriorly rotated ears (HP:0000358); Low-set ears (HP:0000369); Short neck (HP:0000470); Pectus excavatum (HP:0000767); Anteverted nares (HP:0000463); Wide nasal bridge (HP:0000431); Redundant neck skin (HP:0005989); excluded: Ptosis (HP:0000508); excluded: Low posterior hairline (HP:0002162); excluded: Acute lymphoblastic leukemia (HP:0006721); excluded: Pointed chin (HP:0000307); excluded: Pectus carinatum (HP:0000768); excluded: Pulmonic stenosis (HP:0001642); excluded: Atrioventricular canal defect (HP:0006695); excluded: Ventricular septal defect (HP:0001629); excluded: Bicuspid aortic valve (HP:0001647); excluded: Patent foramen ovale (HP:0001655); excluded: Depressed nasal bridge (HP:0005280); excluded: Telecanthus (HP:0000506); excluded: Epicanthus (HP:0000286); excluded: Overfolded helix (HP:0000396); excluded: Wide mouth (HP:0000154); excluded: Long philtrum (HP:0000343); excluded: High palate (HP:0000218); excluded: Prominent fingertip pads (HP:0001212); excluded: Anterior polar cataract (HP:0001134); excluded: Wide intermamillary distance (HP:0006610); excluded: Nonimmune hydrops fetalis (HP:0001790); excluded: Distal arthrogryposis (HP:0005684)</td></tr>\n",
       "<tr><td style=\"text-align: left;\">Family 12 V-1 (FEMALE; P9Y)</td><td style=\"text-align: left;\">Noonan syndrome 2 (OMIM:605275)</td><td style=\"text-align: left;\">NM_006767.4:c.2462T>C (homozygous)</td><td style=\"text-align: left;\">Downslanted palpebral fissures (HP:0000494); Hypertrophic cardiomyopathy (HP:0001639); Hypertelorism (HP:0000316); Ptosis (HP:0000508); Curly hair (HP:0002212); Posteriorly rotated ears (HP:0000358); Low-set ears (HP:0000369); Midface retrusion (HP:0011800); Low posterior hairline (HP:0002162); Global developmental delay (HP:0001263); Pectus excavatum (HP:0000767); Ventricular septal defect (HP:0001629); Mitral valve prolapse (HP:0001634); excluded: Micrognathia (HP:0000347); excluded: Acute lymphoblastic leukemia (HP:0006721); excluded: Pointed chin (HP:0000307); excluded: Short neck (HP:0000470); excluded: Pectus carinatum (HP:0000768); excluded: Pulmonic stenosis (HP:0001642); excluded: Atrioventricular canal defect (HP:0006695); excluded: Bicuspid aortic valve (HP:0001647); excluded: Patent foramen ovale (HP:0001655); excluded: Anteverted nares (HP:0000463); excluded: Depressed nasal bridge (HP:0005280); excluded: Wide nasal bridge (HP:0000431); excluded: Telecanthus (HP:0000506); excluded: Epicanthus (HP:0000286); excluded: Overfolded helix (HP:0000396); excluded: Wide mouth (HP:0000154); excluded: Long philtrum (HP:0000343); excluded: High palate (HP:0000218); excluded: Increased nuchal translucency (HP:0010880); excluded: Redundant neck skin (HP:0005989); excluded: Cystic hygroma (HP:0000476); excluded: Prominent fingertip pads (HP:0001212); excluded: Anterior polar cataract (HP:0001134); excluded: Wide intermamillary distance (HP:0006610); excluded: Polyhydramnios (HP:0001561); excluded: Nonimmune hydrops fetalis (HP:0001790); excluded: Distal arthrogryposis (HP:0005684)</td></tr>\n",
       "<tr><td style=\"text-align: left;\">Family 12 V-4 (FEMALE; P9Y)</td><td style=\"text-align: left;\">Noonan syndrome 2 (OMIM:605275)</td><td style=\"text-align: left;\">NM_006767.4:c.2462T>C (homozygous)</td><td style=\"text-align: left;\">Hypertrophic cardiomyopathy (HP:0001639); Posteriorly rotated ears (HP:0000358); Low-set ears (HP:0000369); Midface retrusion (HP:0011800); Low posterior hairline (HP:0002162); Short stature (HP:0004322); High palate (HP:0000218); excluded: Downslanted palpebral fissures (HP:0000494); excluded: Hypertelorism (HP:0000316); excluded: Ptosis (HP:0000508); excluded: Curly hair (HP:0002212); excluded: Micrognathia (HP:0000347); excluded: Acute lymphoblastic leukemia (HP:0006721); excluded: Pointed chin (HP:0000307); excluded: Short neck (HP:0000470); excluded: Pectus carinatum (HP:0000768); excluded: Pectus excavatum (HP:0000767); excluded: Pulmonic stenosis (HP:0001642); excluded: Atrioventricular canal defect (HP:0006695); excluded: Ventricular septal defect (HP:0001629); excluded: Bicuspid aortic valve (HP:0001647); excluded: Patent foramen ovale (HP:0001655); excluded: Anteverted nares (HP:0000463); excluded: Depressed nasal bridge (HP:0005280); excluded: Wide nasal bridge (HP:0000431); excluded: Telecanthus (HP:0000506); excluded: Epicanthus (HP:0000286); excluded: Overfolded helix (HP:0000396); excluded: Wide mouth (HP:0000154); excluded: Long philtrum (HP:0000343); excluded: Prominent fingertip pads (HP:0001212); excluded: Anterior polar cataract (HP:0001134); excluded: Wide intermamillary distance (HP:0006610); excluded: Polyhydramnios (HP:0001561); excluded: Nonimmune hydrops fetalis (HP:0001790); excluded: Distal arthrogryposis (HP:0005684)</td></tr>\n",
       "</table>"
      ],
      "text/plain": [
       "<IPython.core.display.HTML object>"
      ]
     },
     "metadata": {},
     "output_type": "display_data"
    }
   ],
   "source": [
    "table = IndividualTable(cvalidator.get_error_free_individual_list())\n",
    "display(HTML(table.to_html()))"
   ]
  },
  {
   "cell_type": "code",
   "execution_count": 12,
   "id": "df655375-2e95-42c5-901e-08f12f52051e",
   "metadata": {},
   "outputs": [
    {
     "name": "stdout",
     "output_type": "stream",
     "text": [
      "[pyphetools] Ingested 20 GA4GH phenopackets.\n",
      "\tNoonan syndrome 2 (OMIM:605275): n=20\n",
      "We found a total of 47 unique HPO terms\n",
      "Extracted disease: Noonan syndrome 2 (OMIM:605275)\n",
      "Wrote HPOA disease file to OMIM-605275.tab\n"
     ]
    },
    {
     "data": {
      "text/html": [
       "<div>\n",
       "<style scoped>\n",
       "    .dataframe tbody tr th:only-of-type {\n",
       "        vertical-align: middle;\n",
       "    }\n",
       "\n",
       "    .dataframe tbody tr th {\n",
       "        vertical-align: top;\n",
       "    }\n",
       "\n",
       "    .dataframe thead th {\n",
       "        text-align: right;\n",
       "    }\n",
       "</style>\n",
       "<table border=\"1\" class=\"dataframe\">\n",
       "  <thead>\n",
       "    <tr style=\"text-align: right;\">\n",
       "      <th></th>\n",
       "      <th>#diseaseID</th>\n",
       "      <th>diseaseName</th>\n",
       "      <th>phenotypeID</th>\n",
       "      <th>phenotypeName</th>\n",
       "      <th>onsetID</th>\n",
       "      <th>onsetName</th>\n",
       "      <th>frequency</th>\n",
       "      <th>sex</th>\n",
       "      <th>negation</th>\n",
       "      <th>modifier</th>\n",
       "      <th>description</th>\n",
       "      <th>publication</th>\n",
       "      <th>evidence</th>\n",
       "      <th>biocuration</th>\n",
       "    </tr>\n",
       "  </thead>\n",
       "  <tbody>\n",
       "    <tr>\n",
       "      <th>0</th>\n",
       "      <td>OMIM:605275</td>\n",
       "      <td>Noonan syndrome 2</td>\n",
       "      <td>HP:0000470</td>\n",
       "      <td>Short neck</td>\n",
       "      <td></td>\n",
       "      <td></td>\n",
       "      <td>7/20</td>\n",
       "      <td></td>\n",
       "      <td></td>\n",
       "      <td></td>\n",
       "      <td></td>\n",
       "      <td>PMID:29469822</td>\n",
       "      <td>PCS</td>\n",
       "      <td>ORCID:0000-0002-0736-9199</td>\n",
       "    </tr>\n",
       "    <tr>\n",
       "      <th>1</th>\n",
       "      <td>OMIM:605275</td>\n",
       "      <td>Noonan syndrome 2</td>\n",
       "      <td>HP:0005989</td>\n",
       "      <td>Redundant neck skin</td>\n",
       "      <td></td>\n",
       "      <td></td>\n",
       "      <td>5/6</td>\n",
       "      <td></td>\n",
       "      <td></td>\n",
       "      <td></td>\n",
       "      <td></td>\n",
       "      <td>PMID:29469822</td>\n",
       "      <td>PCS</td>\n",
       "      <td>ORCID:0000-0002-0736-9199</td>\n",
       "    </tr>\n",
       "  </tbody>\n",
       "</table>\n",
       "</div>"
      ],
      "text/plain": [
       "    #diseaseID        diseaseName phenotypeID        phenotypeName onsetID  \\\n",
       "0  OMIM:605275  Noonan syndrome 2  HP:0000470           Short neck           \n",
       "1  OMIM:605275  Noonan syndrome 2  HP:0005989  Redundant neck skin           \n",
       "\n",
       "  onsetName frequency sex negation modifier description    publication  \\\n",
       "0                7/20                                    PMID:29469822   \n",
       "1                 5/6                                    PMID:29469822   \n",
       "\n",
       "  evidence                biocuration  \n",
       "0      PCS  ORCID:0000-0002-0736-9199  \n",
       "1      PCS  ORCID:0000-0002-0736-9199  "
      ]
     },
     "execution_count": 12,
     "metadata": {},
     "output_type": "execute_result"
    }
   ],
   "source": [
    "pmid = \"PMID:29469822\"\n",
    "df = timporter.create_hpoa_from_phenopackets(pmid=pmid, moi=\"Autosomal recessive\")\n",
    "df.head(2)"
   ]
  },
  {
   "cell_type": "code",
   "execution_count": null,
   "id": "27228fac-61e7-44f4-b70e-d448b9cdbb59",
   "metadata": {},
   "outputs": [],
   "source": []
  }
 ],
 "metadata": {
  "kernelspec": {
   "display_name": "Python 3 (ipykernel)",
   "language": "python",
   "name": "python3"
  },
  "language_info": {
   "codemirror_mode": {
    "name": "ipython",
    "version": 3
   },
   "file_extension": ".py",
   "mimetype": "text/x-python",
   "name": "python",
   "nbconvert_exporter": "python",
   "pygments_lexer": "ipython3",
   "version": "3.8.10"
  }
 },
 "nbformat": 4,
 "nbformat_minor": 5
}
