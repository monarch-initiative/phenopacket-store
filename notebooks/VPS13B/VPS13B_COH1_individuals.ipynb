{
 "cells": [
  {
   "cell_type": "markdown",
   "metadata": {},
   "source": [
    "# VPS13B\n",
    "Some patients wit [Cohen syndrome](https://omim.org/entry/216550) have homozygous or compound heterozygous mutations in the COH1 gene."
   ]
  },
  {
   "cell_type": "code",
   "execution_count": 3,
   "metadata": {},
   "outputs": [
    {
     "name": "stdout",
     "output_type": "stream",
     "text": [
      "Using pyphetools version 0.9.84\n"
     ]
    }
   ],
   "source": [
    "from pyphetools.creation import TemplateImporter\n",
    "from pyphetools.visualization import IndividualTable, QcVisualizer\n",
    "from IPython.display import display, HTML\n",
    "import pyphetools\n",
    "print(f\"Using pyphetools version {pyphetools.__version__}\")"
   ]
  },
  {
   "cell_type": "code",
   "execution_count": 5,
   "metadata": {},
   "outputs": [],
   "source": [
    "template = \"input/VPS13B_COH1_individuals.xlsx\"\n",
    "created_by = \"0000-0002-0736-9199\""
   ]
  },
  {
   "cell_type": "code",
   "execution_count": 6,
   "metadata": {},
   "outputs": [
    {
     "name": "stdout",
     "output_type": "stream",
     "text": [
      "HPO version 2024-04-26\n",
      "Created encoders for 63 fields\n",
      "Importing OMIM:216550, Cohen syndrome, HGNC:2183, VPS13B,  NM_152564.5\n",
      "[INFO] encoding variant \"c.6295_6296del\"\n",
      "https://rest.variantvalidator.org/VariantValidator/variantvalidator/hg38/NM_152564.5%3Ac.6295_6296del/NM_152564.5?content-type=application%2Fjson\n",
      "[INFO] encoding variant \"c.3582del\"\n",
      "https://rest.variantvalidator.org/VariantValidator/variantvalidator/hg38/NM_152564.5%3Ac.3582del/NM_152564.5?content-type=application%2Fjson\n",
      "We output 2 GA4GH phenopackets to the directory phenopackets\n"
     ]
    }
   ],
   "source": [
    "timporter = TemplateImporter(template=template,  created_by=created_by)\n",
    "individual_list, cvalidator = timporter.import_phenopackets_from_template()"
   ]
  },
  {
   "cell_type": "code",
   "execution_count": 7,
   "metadata": {},
   "outputs": [
    {
     "data": {
      "text/html": [
       "<h2>Cohort validation</h2>\n",
       "<p>No errors found for the cohort with 2 individuals</p>"
      ],
      "text/plain": [
       "<IPython.core.display.HTML object>"
      ]
     },
     "metadata": {},
     "output_type": "display_data"
    }
   ],
   "source": [
    "qc = QcVisualizer(cohort_validator=cvalidator)\n",
    "display(HTML(qc.to_summary_html()))"
   ]
  },
  {
   "cell_type": "code",
   "execution_count": 8,
   "metadata": {},
   "outputs": [
    {
     "data": {
      "text/html": [
       "<table style=\"border: 2px solid black; align: \"left\">\n",
       "<caption>2 phenopackets - PMID:29149870 (n=2)</caption>\n",
       "<tr><th style=\"text-align: left;font-weight: bold;\">Individual</th><th style=\"text-align: left;font-weight: bold;\">Disease</th><th style=\"text-align: left;font-weight: bold;\">Genotype</th><th style=\"text-align: left;font-weight: bold;\">Phenotypic features</th></tr>\n",
       "<tr><td style=\"text-align: left;\">proposita (FEMALE; P12Y)</td><td style=\"text-align: left;\">Cohen syndrome (OMIM:216550)</td><td style=\"text-align: left;\"><ul> <li>NM_152564.5:c.3582del (heterozygous)</li> <li>NM_152564.5:c.6295_6296del (heterozygous)</li> </ul></td><td style=\"text-align: left;\"><b>P3Y</b>: Pigmentary retinopathy (HP:0000580)<br/><b>P12Y</b>: Truncal obesity (HP:0001956); Short stature (HP:0004322); Intellectual disability (HP:0001249); Autistic behavior (HP:0000729); Thick eyebrow (HP:0000574); Prominent eyelashes (HP:0011231); Thick vermilion border (HP:0012471); Short philtrum (HP:0000322); Microcephaly (HP:0000252); Joint hypermobility (HP:0001382); Thick corpus callosum (HP:0007074); Narrow palm (HP:0004283); Tapered finger (HP:0001182); Neutropenia (HP:0001875)<br/>Delayed speech and language development (HP:0000750); Global developmental delay (HP:0001263); Hypotonia (HP:0001252); Poor suck (HP:0002033); Delayed ability to walk (HP:0031936)</td></tr>\n",
       "<tr><td style=\"text-align: left;\">brother (MALE; P6Y)</td><td style=\"text-align: left;\">Cohen syndrome (OMIM:216550)</td><td style=\"text-align: left;\"><ul> <li>NM_152564.5:c.3582del (heterozygous)</li> <li>NM_152564.5:c.6295_6296del (heterozygous)</li> </ul></td><td style=\"text-align: left;\"><b>P6Y</b>: Intellectual disability (HP:0001249); Myopia (HP:0000545); Thick eyebrow (HP:0000574); Prominent eyelashes (HP:0011231); Narrow palate (HP:0000189); Micrognathia (HP:0000347); Microcephaly (HP:0000252); Downslanted palpebral fissures (HP:0000494); Narrow foot (HP:0001786); Narrow palm (HP:0004283); Tapered finger (HP:0001182); Neutropenia (HP:0001875)<br/>Global developmental delay (HP:0001263); excluded: Poor suck (HP:0002033)</td></tr>\n",
       "</table>"
      ],
      "text/plain": [
       "<IPython.core.display.HTML object>"
      ]
     },
     "metadata": {},
     "output_type": "display_data"
    }
   ],
   "source": [
    "table = IndividualTable(cvalidator.get_error_free_individual_list())\n",
    "display(HTML(table.to_html()))"
   ]
  },
  {
   "cell_type": "code",
   "execution_count": 9,
   "metadata": {},
   "outputs": [
    {
     "name": "stdout",
     "output_type": "stream",
     "text": [
      "[pyphetools] Ingested 2 GA4GH phenopackets.\n",
      "\tCohen syndrome (OMIM:216550): n=2\n",
      "We found a total of 25 unique HPO terms\n",
      "Extracted disease: Cohen syndrome (OMIM:216550)\n",
      "Wrote HPOA disease file to OMIM-216550.tab\n"
     ]
    }
   ],
   "source": [
    "pmid = \"PMID:29149870\"\n",
    "df = timporter.create_hpoa_from_phenopackets(pmid=pmid, moi=\"Autosomal recessive\")"
   ]
  }
 ],
 "metadata": {
  "kernelspec": {
   "display_name": "ps24venv",
   "language": "python",
   "name": "python3"
  },
  "language_info": {
   "codemirror_mode": {
    "name": "ipython",
    "version": 3
   },
   "file_extension": ".py",
   "mimetype": "text/x-python",
   "name": "python",
   "nbconvert_exporter": "python",
   "pygments_lexer": "ipython3",
   "version": "3.9.6"
  }
 },
 "nbformat": 4,
 "nbformat_minor": 2
}
