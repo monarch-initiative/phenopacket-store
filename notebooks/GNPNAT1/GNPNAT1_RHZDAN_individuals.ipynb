{
 "cells": [
  {
   "cell_type": "markdown",
   "metadata": {},
   "source": [
    "# GNPNAT1\n",
    "The [Ain-Naz type of rhizomelic dysplasia (RHZDAN)](https://omim.org/entry/619598) is caused by homozygous mutation in the GNPNAT1 gene."
   ]
  },
  {
   "cell_type": "code",
   "execution_count": 1,
   "metadata": {},
   "outputs": [
    {
     "name": "stdout",
     "output_type": "stream",
     "text": [
      "Using pyphetools version 0.9.117\n"
     ]
    }
   ],
   "source": [
    "from pyphetools.creation import TemplateImporter, Moi\n",
    "from pyphetools.visualization import IndividualTable, QcVisualizer\n",
    "from IPython.display import display, HTML\n",
    "import pyphetools\n",
    "print(f\"Using pyphetools version {pyphetools.__version__}\")"
   ]
  },
  {
   "cell_type": "code",
   "execution_count": 2,
   "metadata": {},
   "outputs": [
    {
     "name": "stdout",
     "output_type": "stream",
     "text": [
      "HPO version 2025-01-16\n",
      "Created encoders for 55 fields\n",
      "Importing OMIM:619598, Rhizomelic dysplasia, Ain-Naz type, HGNC:19980, GNPNAT1,  NM_198066.4\n",
      "[INFO] encoding variant \"c.226G > A\"\n",
      "https://rest.variantvalidator.org/VariantValidator/variantvalidator/hg38/NM_198066.4%3Ac.226G > A/NM_198066.4?content-type=application%2Fjson\n",
      "[INFO] encoding variant \"c.77T>G\"\n",
      "https://rest.variantvalidator.org/VariantValidator/variantvalidator/hg38/NM_198066.4%3Ac.77T>G/NM_198066.4?content-type=application%2Fjson\n",
      "[INFO] encoding variant \"c.226G>A\"\n",
      "https://rest.variantvalidator.org/VariantValidator/variantvalidator/hg38/NM_198066.4%3Ac.226G>A/NM_198066.4?content-type=application%2Fjson\n",
      "We output 6 GA4GH phenopackets to the directory phenopackets\n"
     ]
    }
   ],
   "source": [
    "template = \"input/GNPNAT1_RHZDAN_individuals.xlsx\"\n",
    "created_by = \"0000-0002-0736-9199\"\n",
    "timporter = TemplateImporter(template=template,  created_by=created_by)\n",
    "individual_list, cvalidator = timporter.import_phenopackets_from_template()"
   ]
  },
  {
   "cell_type": "code",
   "execution_count": 3,
   "metadata": {},
   "outputs": [
    {
     "data": {
      "text/html": [
       "<h2>Cohort validation</h2>\n",
       "<p>No errors found for the cohort with 6 individuals</p>"
      ],
      "text/plain": [
       "<IPython.core.display.HTML object>"
      ]
     },
     "metadata": {},
     "output_type": "display_data"
    }
   ],
   "source": [
    "qc = QcVisualizer(cohort_validator=cvalidator)\n",
    "display(HTML(qc.to_summary_html()))"
   ]
  },
  {
   "cell_type": "code",
   "execution_count": 4,
   "metadata": {},
   "outputs": [
    {
     "data": {
      "text/html": [
       "<table style=\"border: 2px solid black; align: \"left\">\n",
       "<caption>6 phenopackets - PMID:32591345 (n=4); PMID:35427807 (n=1); PMID:36097642 (n=1)</caption>\n",
       "<tr><th style=\"text-align: left;font-weight: bold;\">Individual</th><th style=\"text-align: left;font-weight: bold;\">Disease</th><th style=\"text-align: left;font-weight: bold;\">Genotype</th><th style=\"text-align: left;font-weight: bold;\">Phenotypic features</th></tr>\n",
       "<tr><td style=\"text-align: left;\">NAD-07 individual IV:1 (MALE; P48Y)</td><td style=\"text-align: left;\">Rhizomelic dysplasia, Ain-Naz type (OMIM:619598)</td><td style=\"text-align: left;\">NM_198066.4:c.226G>A (homozygous)</td><td style=\"text-align: left;\">Rhizomelia (HP:0008905): onset ; Large hands (HP:0001176): onset ; Long foot (HP:0001833): onset ; Severe short stature (HP:0003510): onset ; Gait disturbance (HP:0001288): onset ; Limitation of joint mobility (HP:0001376): onset ; Enlarged joints (HP:0003037): onset ; excluded: Intellectual disability (HP:0001249): onset ; excluded: Frontal bossing (HP:0002007): onset ; excluded: Hypertelorism (HP:0000316): onset ; excluded: Ptosis (HP:0000508): onset ; excluded: Downslanted palpebral fissures (HP:0000494): onset ; excluded: Wide nasal bridge (HP:0000431): onset </td></tr>\n",
       "<tr><td style=\"text-align: left;\">NAD-07 individual IV:4 (MALE; P50Y)</td><td style=\"text-align: left;\">Rhizomelic dysplasia, Ain-Naz type (OMIM:619598)</td><td style=\"text-align: left;\">NM_198066.4:c.226G>A (homozygous)</td><td style=\"text-align: left;\">Hip dysplasia (HP:0001385): onset ; Rhizomelia (HP:0008905): onset ; Platyspondyly (HP:0000926): onset ; Large hands (HP:0001176): onset ; Aplasia of the femoral head (HP:0100862): onset ; Short femoral neck (HP:0100864): onset ; Long foot (HP:0001833): onset ; Severe short stature (HP:0003510): onset ; Short humerus (HP:0005792): onset ; Short femur (HP:0003097): onset ; Wide distal femoral metaphysis (HP:0006387): onset ; Gait disturbance (HP:0001288): onset ; Limitation of joint mobility (HP:0001376): onset ; Enlarged joints (HP:0003037): onset ; excluded: Intellectual disability (HP:0001249): onset ; excluded: Frontal bossing (HP:0002007): onset ; excluded: Hypertelorism (HP:0000316): onset ; excluded: Ptosis (HP:0000508): onset ; excluded: Downslanted palpebral fissures (HP:0000494): onset ; excluded: Wide nasal bridge (HP:0000431): onset </td></tr>\n",
       "<tr><td style=\"text-align: left;\">NAD-07 individual IV:5 (FEMALE; P45Y)</td><td style=\"text-align: left;\">Rhizomelic dysplasia, Ain-Naz type (OMIM:619598)</td><td style=\"text-align: left;\">NM_198066.4:c.226G>A (homozygous)</td><td style=\"text-align: left;\">Rhizomelia (HP:0008905): onset ; Large hands (HP:0001176): onset ; Long foot (HP:0001833): onset ; Severe short stature (HP:0003510): onset ; Gait disturbance (HP:0001288): onset ; Limitation of joint mobility (HP:0001376): onset ; Enlarged joints (HP:0003037): onset ; excluded: Intellectual disability (HP:0001249): onset ; excluded: Frontal bossing (HP:0002007): onset ; excluded: Hypertelorism (HP:0000316): onset ; excluded: Ptosis (HP:0000508): onset ; excluded: Downslanted palpebral fissures (HP:0000494): onset ; excluded: Wide nasal bridge (HP:0000431): onset </td></tr>\n",
       "<tr><td style=\"text-align: left;\">NAD-07 individual IV:6 (FEMALE; P46Y)</td><td style=\"text-align: left;\">Rhizomelic dysplasia, Ain-Naz type (OMIM:619598)</td><td style=\"text-align: left;\">NM_198066.4:c.226G>A (homozygous)</td><td style=\"text-align: left;\">Rhizomelia (HP:0008905): onset ; Large hands (HP:0001176): onset ; Long foot (HP:0001833): onset ; Severe short stature (HP:0003510): onset ; Gait disturbance (HP:0001288): onset ; Limitation of joint mobility (HP:0001376): onset ; Enlarged joints (HP:0003037): onset ; excluded: Intellectual disability (HP:0001249): onset ; excluded: Frontal bossing (HP:0002007): onset ; excluded: Hypertelorism (HP:0000316): onset ; excluded: Ptosis (HP:0000508): onset ; excluded: Downslanted palpebral fissures (HP:0000494): onset ; excluded: Wide nasal bridge (HP:0000431): onset </td></tr>\n",
       "<tr><td style=\"text-align: left;\">individual (FEMALE; P8Y)</td><td style=\"text-align: left;\">Rhizomelic dysplasia, Ain-Naz type (OMIM:619598)</td><td style=\"text-align: left;\">NM_198066.4:c.226G>A (homozygous)</td><td style=\"text-align: left;\">Hip dysplasia (HP:0001385): onset ; Rhizomelia (HP:0008905): onset ; Platyspondyly (HP:0000926): onset ; Large hands (HP:0001176): onset ; Short femoral neck (HP:0100864): onset ; Long foot (HP:0001833): onset ; Severe short stature (HP:0003510): onset ; Short humerus (HP:0005792): onset ; Short femur (HP:0003097): onset ; Wide distal femoral metaphysis (HP:0006387): onset ; Gait disturbance (HP:0001288): onset ; Limitation of joint mobility (HP:0001376): onset ; Short distal phalanx of finger (HP:0009882): onset ; Hallux valgus (HP:0001822): onset ; Overlapping toe (HP:0001845): onset ; Proximal humeral metaphyseal irregularity (HP:0005043): onset ; Distal humeral metaphyseal irregularity (HP:0003951): onset ; Enlarged joints (HP:0003037): onset ; Contracture of the proximal interphalangeal joint of the 5th finger (HP:0009185): onset ; excluded: Intellectual disability (HP:0001249): onset ; excluded: Abnormality of alkaline phosphatase level (HP:0004379): onset ; excluded: Frontal bossing (HP:0002007): onset ; excluded: Hypertelorism (HP:0000316): onset ; excluded: Ptosis (HP:0000508): onset ; excluded: Downslanted palpebral fissures (HP:0000494): onset ; excluded: Wide nasal bridge (HP:0000431): onset </td></tr>\n",
       "<tr><td style=\"text-align: left;\">subject (MALE; P12Y)</td><td style=\"text-align: left;\">Rhizomelic dysplasia, Ain-Naz type (OMIM:619598)</td><td style=\"text-align: left;\">NM_198066.4:c.77T>G (homozygous)</td><td style=\"text-align: left;\">Rhizomelia (HP:0008905): onset ; Short femoral neck (HP:0100864): onset ; Severe short stature (HP:0003510): onset ; Gait disturbance (HP:0001288): onset ; Limitation of joint mobility (HP:0001376): onset ; Enlarged joints (HP:0003037): onset ; Frontal bossing (HP:0002007): onset ; Hypertelorism (HP:0000316): onset ; Ptosis (HP:0000508): onset ; Downslanted palpebral fissures (HP:0000494): onset ; Wide nasal bridge (HP:0000431): onset ; Protuberant abdomen (HP:0001538): onset ; Short neck (HP:0000470): onset ; Pectus excavatum (HP:0000767): onset ; Flaring of rib cage (HP:0000904): onset ; Scoliosis (HP:0002650): onset ; Lumbar hyperlordosis (HP:0002938): onset ; Bowed forearm bones (HP:0003956): onset ; Wormian bones (HP:0002645): onset ; Posterior scalloping of vertebral bodies (HP:0005121): onset ; Squared iliac bones (HP:0003177): onset ; Flat acetabular roof (HP:0003180): onset ; excluded: Intellectual disability (HP:0001249): onset </td></tr>\n",
       "</table>"
      ],
      "text/plain": [
       "<IPython.core.display.HTML object>"
      ]
     },
     "metadata": {},
     "output_type": "display_data"
    }
   ],
   "source": [
    "table = IndividualTable(cvalidator.get_error_free_individual_list())\n",
    "display(HTML(table.to_html()))"
   ]
  },
  {
   "cell_type": "code",
   "execution_count": 5,
   "metadata": {},
   "outputs": [
    {
     "name": "stdout",
     "output_type": "stream",
     "text": [
      "[pyphetools] Ingested 6 GA4GH phenopackets.\n",
      "\tRhizomelic dysplasia, Ain-Naz type (OMIM:619598): n=6\n",
      "We found a total of 38 unique HPO terms\n",
      "Extracted disease: Rhizomelic dysplasia, Ain-Naz type (OMIM:619598)\n",
      "Wrote HPOA disease file to OMIM-619598.tab\n"
     ]
    }
   ],
   "source": [
    "pmid = \"PMID:32591345\"\n",
    "df = timporter.create_hpoa_from_phenopackets(pmid=pmid, mode_of_inheritance=Moi.AR)"
   ]
  }
 ],
 "metadata": {
  "kernelspec": {
   "display_name": "ps24venv",
   "language": "python",
   "name": "python3"
  },
  "language_info": {
   "codemirror_mode": {
    "name": "ipython",
    "version": 3
   },
   "file_extension": ".py",
   "mimetype": "text/x-python",
   "name": "python",
   "nbconvert_exporter": "python",
   "pygments_lexer": "ipython3",
   "version": "3.12.9"
  }
 },
 "nbformat": 4,
 "nbformat_minor": 2
}
