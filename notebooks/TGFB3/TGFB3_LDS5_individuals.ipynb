{
 "cells": [
  {
   "cell_type": "markdown",
   "id": "a34a7592-8354-4f48-aae8-ea7914ab70b5",
   "metadata": {},
   "source": [
    "# TGFB3\n",
    "[Loeys-Dietz syndrome-5 (LDS5)](https://omim.org/entry/615582) is caused by heterozygous mutation in the TGFB3 gene."
   ]
  },
  {
   "cell_type": "code",
   "execution_count": 1,
   "id": "5492c07a-eac4-4ee8-86e0-36e8e942c0eb",
   "metadata": {},
   "outputs": [
    {
     "name": "stdout",
     "output_type": "stream",
     "text": [
      "Using pyphetools version 0.9.74\n"
     ]
    }
   ],
   "source": [
    "from pyphetools.creation import TemplateImporter\n",
    "from pyphetools.visualization import IndividualTable, QcVisualizer\n",
    "from IPython.display import display, HTML\n",
    "import pyphetools\n",
    "print(f\"Using pyphetools version {pyphetools.__version__}\")"
   ]
  },
  {
   "cell_type": "code",
   "execution_count": 2,
   "id": "bc8f4b65-e6b0-4bc3-837d-b1714fcb612b",
   "metadata": {},
   "outputs": [],
   "source": [
    "template = \"input/TGFB3_LDS5_individuals.xlsx\"\n",
    "hp_json = \"../hp.json\"\n",
    "created_by = \"0000-0002-0736-9199\""
   ]
  },
  {
   "cell_type": "code",
   "execution_count": 3,
   "id": "f74d5c33-9e85-46e8-8f3d-bda7b633f43e",
   "metadata": {},
   "outputs": [
    {
     "name": "stdout",
     "output_type": "stream",
     "text": [
      "HPO version 2024-03-06\n",
      "Created encoders for 60 fields\n",
      "Importing OMIM:615582, Loeys-Dietz syndrome 5, HGNC:11769, TGFB3,  NM_003239.5\n",
      "We output 43 GA4GH phenopackets to the directory phenopackets\n"
     ]
    }
   ],
   "source": [
    "timporter = TemplateImporter(template=template, hp_json=hp_json, created_by=created_by)\n",
    "individual_list, cvalidator = timporter.import_phenopackets_from_template()"
   ]
  },
  {
   "cell_type": "code",
   "execution_count": 4,
   "id": "aa396c4e-9357-4947-b984-df6d8e61b489",
   "metadata": {},
   "outputs": [
    {
     "data": {
      "text/html": [
       "<h2>Cohort validation</h2>\n",
       "<p>No errors found for the cohort with 43 individuals</p>"
      ],
      "text/plain": [
       "<IPython.core.display.HTML object>"
      ]
     },
     "metadata": {},
     "output_type": "display_data"
    }
   ],
   "source": [
    "qc = QcVisualizer(cohort_validator=cvalidator)\n",
    "display(HTML(qc.to_summary_html()))"
   ]
  },
  {
   "cell_type": "code",
   "execution_count": 5,
   "id": "94877945-cae2-4b1b-b658-dea91464cf36",
   "metadata": {},
   "outputs": [
    {
     "data": {
      "text/html": [
       "<table style=\"border: 2px solid black; align: \"left\">\n",
       "<caption>43 phenopackets - PMID:25835445 (n=43)</caption>\n",
       "<tr><th style=\"text-align: left;font-weight: bold;\">Individual</th><th style=\"text-align: left;font-weight: bold;\">Disease</th><th style=\"text-align: left;font-weight: bold;\">Genotype</th><th style=\"text-align: left;font-weight: bold;\">Phenotypic features</th></tr>\n",
       "<tr><td style=\"text-align: left;\">1-II:4 (MALE; P57Y)</td><td style=\"text-align: left;\">Loeys-Dietz syndrome 5 (OMIM:615582)</td><td style=\"text-align: left;\">NM_003239.5:c.754+2T>C (heterozygous)</td><td style=\"text-align: left;\"><b>P57Y</b>: Descending thoracic aorta aneurysm (HP:0004959)<br/>excluded: Aortic rupture (HP:0031649); excluded: Abdominal aortic aneurysm (HP:0005112); excluded: Ascending aortic dissection (HP:0004933); excluded: Dilated left subclavian artery (HP:0031252); excluded: Mitral valve prolapse (HP:0001634); excluded: Mitral chordae tendinae rupture (HP:0034419); excluded: Scoliosis (HP:0002650); excluded: Motor delay (HP:0001270); excluded: Short stature (HP:0004322); excluded: Dermal translucency (HP:0010648); excluded: Soft skin (HP:0000977); excluded: Bruising susceptibility (HP:0000978)</td></tr>\n",
       "<tr><td style=\"text-align: left;\">1-II:5* (MALE; P56Y)</td><td style=\"text-align: left;\">Loeys-Dietz syndrome 5 (OMIM:615582)</td><td style=\"text-align: left;\">NM_003239.5:c.754+2T>C (heterozygous)</td><td style=\"text-align: left;\"><b>P50Y</b>: Descending thoracic aorta aneurysm (HP:0004959)<br/>Long face (HP:0000276); excluded: Aortic rupture (HP:0031649); excluded: Abdominal aortic aneurysm (HP:0005112); excluded: Ascending aortic dissection (HP:0004933); excluded: Dilated left subclavian artery (HP:0031252); excluded: Mitral valve prolapse (HP:0001634); excluded: Mitral chordae tendinae rupture (HP:0034419); excluded: Scoliosis (HP:0002650); excluded: Motor delay (HP:0001270); excluded: Short stature (HP:0004322); excluded: Dermal translucency (HP:0010648); excluded: Soft skin (HP:0000977); excluded: Bruising susceptibility (HP:0000978)</td></tr>\n",
       "<tr><td style=\"text-align: left;\">1-II:7 (MALE; P40Y)</td><td style=\"text-align: left;\">Loeys-Dietz syndrome 5 (OMIM:615582)</td><td style=\"text-align: left;\">NM_003239.5:c.754+2T>C (heterozygous)</td><td style=\"text-align: left;\"><b>P40Y</b>: Aortic rupture (HP:0031649)<br/>excluded: Abdominal aortic aneurysm (HP:0005112); excluded: Ascending aortic dissection (HP:0004933); excluded: Dilated left subclavian artery (HP:0031252); excluded: Descending thoracic aorta aneurysm (HP:0004959); excluded: Mitral valve prolapse (HP:0001634); excluded: Mitral chordae tendinae rupture (HP:0034419); excluded: Scoliosis (HP:0002650); excluded: Motor delay (HP:0001270); excluded: Short stature (HP:0004322); excluded: Dermal translucency (HP:0010648); excluded: Soft skin (HP:0000977); excluded: Bruising susceptibility (HP:0000978)</td></tr>\n",
       "<tr><td style=\"text-align: left;\">1-II:10 (FEMALE; P74Y)</td><td style=\"text-align: left;\">Loeys-Dietz syndrome 5 (OMIM:615582)</td><td style=\"text-align: left;\">NM_003239.5:c.754+2T>C (heterozygous)</td><td style=\"text-align: left;\">excluded: Aortic rupture (HP:0031649); excluded: Abdominal aortic aneurysm (HP:0005112); excluded: Ascending aortic dissection (HP:0004933); excluded: Dilated left subclavian artery (HP:0031252); excluded: Descending thoracic aorta aneurysm (HP:0004959); excluded: Mitral valve prolapse (HP:0001634); excluded: Mitral chordae tendinae rupture (HP:0034419); excluded: Scoliosis (HP:0002650); excluded: Motor delay (HP:0001270); excluded: Tall stature (HP:0000098); excluded: Short stature (HP:0004322); excluded: Dermal translucency (HP:0010648); excluded: Soft skin (HP:0000977); excluded: Bruising susceptibility (HP:0000978); excluded: Pelvic organ prolapse (HP:0031607)</td></tr>\n",
       "<tr><td style=\"text-align: left;\">1-III:6* (MALE; P51Y)</td><td style=\"text-align: left;\">Loeys-Dietz syndrome 5 (OMIM:615582)</td><td style=\"text-align: left;\">NM_003239.5:c.754+2T>C (heterozygous)</td><td style=\"text-align: left;\">Aortic root aneurysm (HP:0002616); Mitral valve prolapse (HP:0001634); Retrognathia (HP:0000278); Varicose veins (HP:0002619); excluded: Aortic rupture (HP:0031649); excluded: Abdominal aortic aneurysm (HP:0005112); excluded: Ascending aortic dissection (HP:0004933); excluded: Dilated left subclavian artery (HP:0031252); excluded: Descending thoracic aorta aneurysm (HP:0004959); excluded: Mitral chordae tendinae rupture (HP:0034419); excluded: Scoliosis (HP:0002650); excluded: Motor delay (HP:0001270); excluded: Tall stature (HP:0000098); excluded: Short stature (HP:0004322); excluded: Dermal translucency (HP:0010648); excluded: Soft skin (HP:0000977); excluded: Bruising susceptibility (HP:0000978)</td></tr>\n",
       "<tr><td style=\"text-align: left;\">1-III:8 (MALE; P49Y)</td><td style=\"text-align: left;\">Loeys-Dietz syndrome 5 (OMIM:615582)</td><td style=\"text-align: left;\">NM_003239.5:c.754+2T>C (heterozygous)</td><td style=\"text-align: left;\"><b>P49Y</b>: Mitral chordae tendinae rupture (HP:0034419)<br/>Aortic root aneurysm (HP:0002616); Tall stature (HP:0000098); excluded: Aortic rupture (HP:0031649); excluded: Abdominal aortic aneurysm (HP:0005112); excluded: Ascending aortic dissection (HP:0004933); excluded: Dilated left subclavian artery (HP:0031252); excluded: Descending thoracic aorta aneurysm (HP:0004959); excluded: Mitral valve prolapse (HP:0001634); excluded: Scoliosis (HP:0002650); excluded: Motor delay (HP:0001270); excluded: Short stature (HP:0004322); excluded: Dermal translucency (HP:0010648); excluded: Soft skin (HP:0000977); excluded: Bruising susceptibility (HP:0000978)</td></tr>\n",
       "<tr><td style=\"text-align: left;\">1-IV:1* (FEMALE; P17Y)</td><td style=\"text-align: left;\">Loeys-Dietz syndrome 5 (OMIM:615582)</td><td style=\"text-align: left;\">NM_003239.5:c.754+2T>C (heterozygous)</td><td style=\"text-align: left;\">Aortic root aneurysm (HP:0002616); Soft skin (HP:0000977); Bruising susceptibility (HP:0000978); excluded: Aortic rupture (HP:0031649); excluded: Abdominal aortic aneurysm (HP:0005112); excluded: Ascending aortic dissection (HP:0004933); excluded: Dilated left subclavian artery (HP:0031252); excluded: Descending thoracic aorta aneurysm (HP:0004959); excluded: Mitral valve prolapse (HP:0001634); excluded: Mitral chordae tendinae rupture (HP:0034419); excluded: Scoliosis (HP:0002650); excluded: Motor delay (HP:0001270); excluded: Tall stature (HP:0000098); excluded: Short stature (HP:0004322); excluded: Dermal translucency (HP:0010648); excluded: Pelvic organ prolapse (HP:0031607)</td></tr>\n",
       "<tr><td style=\"text-align: left;\">1-IV:2* (MALE; P24Y)</td><td style=\"text-align: left;\">Loeys-Dietz syndrome 5 (OMIM:615582)</td><td style=\"text-align: left;\">NM_003239.5:c.754+2T>C (heterozygous)</td><td style=\"text-align: left;\">Retrognathia (HP:0000278); Tall stature (HP:0000098); Varicose veins (HP:0002619); excluded: Aortic rupture (HP:0031649); excluded: Abdominal aortic aneurysm (HP:0005112); excluded: Ascending aortic dissection (HP:0004933); excluded: Dilated left subclavian artery (HP:0031252); excluded: Descending thoracic aorta aneurysm (HP:0004959); excluded: Mitral valve prolapse (HP:0001634); excluded: Mitral chordae tendinae rupture (HP:0034419); excluded: Scoliosis (HP:0002650); excluded: Motor delay (HP:0001270); excluded: Short stature (HP:0004322); excluded: Dermal translucency (HP:0010648); excluded: Soft skin (HP:0000977); excluded: Bruising susceptibility (HP:0000978)</td></tr>\n",
       "<tr><td style=\"text-align: left;\">1-II:12* (FEMALE; P72Y)</td><td style=\"text-align: left;\">Loeys-Dietz syndrome 5 (OMIM:615582)</td><td style=\"text-align: left;\">NM_003239.5:c.754+2T>C (heterozygous)</td><td style=\"text-align: left;\"><b>P45Y</b>: Dilated left subclavian artery (HP:0031252)<br/>Long face (HP:0000276); Dermal translucency (HP:0010648); Bruising susceptibility (HP:0000978); excluded: Aortic rupture (HP:0031649); excluded: Abdominal aortic aneurysm (HP:0005112); excluded: Ascending aortic dissection (HP:0004933); excluded: Descending thoracic aorta aneurysm (HP:0004959); excluded: Mitral valve prolapse (HP:0001634); excluded: Mitral chordae tendinae rupture (HP:0034419); excluded: Scoliosis (HP:0002650); excluded: Motor delay (HP:0001270); excluded: Tall stature (HP:0000098); excluded: Short stature (HP:0004322); excluded: Soft skin (HP:0000977); excluded: Pelvic organ prolapse (HP:0031607)</td></tr>\n",
       "<tr><td style=\"text-align: left;\">1-II:14* (FEMALE; P72Y)</td><td style=\"text-align: left;\">Loeys-Dietz syndrome 5 (OMIM:615582)</td><td style=\"text-align: left;\">NM_003239.5:c.754+2T>C (heterozygous)</td><td style=\"text-align: left;\">Hiatus hernia (HP:0002036); excluded: Aortic rupture (HP:0031649); excluded: Abdominal aortic aneurysm (HP:0005112); excluded: Ascending aortic dissection (HP:0004933); excluded: Dilated left subclavian artery (HP:0031252); excluded: Descending thoracic aorta aneurysm (HP:0004959); excluded: Mitral valve prolapse (HP:0001634); excluded: Mitral chordae tendinae rupture (HP:0034419); excluded: Scoliosis (HP:0002650); excluded: Motor delay (HP:0001270); excluded: Short stature (HP:0004322); excluded: Dermal translucency (HP:0010648); excluded: Soft skin (HP:0000977); excluded: Bruising susceptibility (HP:0000978); excluded: Pelvic organ prolapse (HP:0031607)</td></tr>\n",
       "<tr><td style=\"text-align: left;\">1-III:11* (MALE; P47Y)</td><td style=\"text-align: left;\">Loeys-Dietz syndrome 5 (OMIM:615582)</td><td style=\"text-align: left;\">NM_003239.5:c.754+2T>C (heterozygous)</td><td style=\"text-align: left;\">Mitral valve prolapse (HP:0001634); Hiatus hernia (HP:0002036); excluded: Aortic rupture (HP:0031649); excluded: Abdominal aortic aneurysm (HP:0005112); excluded: Ascending aortic dissection (HP:0004933); excluded: Dilated left subclavian artery (HP:0031252); excluded: Descending thoracic aorta aneurysm (HP:0004959); excluded: Mitral chordae tendinae rupture (HP:0034419); excluded: Scoliosis (HP:0002650); excluded: Motor delay (HP:0001270); excluded: Tall stature (HP:0000098); excluded: Short stature (HP:0004322); excluded: Dermal translucency (HP:0010648); excluded: Soft skin (HP:0000977); excluded: Bruising susceptibility (HP:0000978)</td></tr>\n",
       "<tr><td style=\"text-align: left;\">1-II:16* (FEMALE; P69Y)</td><td style=\"text-align: left;\">Loeys-Dietz syndrome 5 (OMIM:615582)</td><td style=\"text-align: left;\">NM_003239.5:c.754+2T>C (heterozygous)</td><td style=\"text-align: left;\">Aortic root aneurysm (HP:0002616); Hiatus hernia (HP:0002036); Varicose veins (HP:0002619); Pelvic organ prolapse (HP:0031607); excluded: Aortic rupture (HP:0031649); excluded: Abdominal aortic aneurysm (HP:0005112); excluded: Ascending aortic dissection (HP:0004933); excluded: Dilated left subclavian artery (HP:0031252); excluded: Descending thoracic aorta aneurysm (HP:0004959); excluded: Mitral valve prolapse (HP:0001634); excluded: Mitral chordae tendinae rupture (HP:0034419); excluded: Scoliosis (HP:0002650); excluded: Motor delay (HP:0001270); excluded: Tall stature (HP:0000098); excluded: Short stature (HP:0004322); excluded: Dermal translucency (HP:0010648); excluded: Soft skin (HP:0000977); excluded: Bruising susceptibility (HP:0000978)</td></tr>\n",
       "<tr><td style=\"text-align: left;\">1-III:13* (MALE; P44Y)</td><td style=\"text-align: left;\">Loeys-Dietz syndrome 5 (OMIM:615582)</td><td style=\"text-align: left;\">NM_003239.5:c.754+2T>C (heterozygous)</td><td style=\"text-align: left;\"><b>P44Y</b>: Iliac artery aneurysm (HP:4000067)<br/>Aortic root aneurysm (HP:0002616); Mitral valve prolapse (HP:0001634); Retrognathia (HP:0000278); Long face (HP:0000276); Tall stature (HP:0000098); excluded: Aortic rupture (HP:0031649); excluded: Abdominal aortic aneurysm (HP:0005112); excluded: Ascending aortic dissection (HP:0004933); excluded: Dilated left subclavian artery (HP:0031252); excluded: Descending thoracic aorta aneurysm (HP:0004959); excluded: Mitral chordae tendinae rupture (HP:0034419); excluded: Scoliosis (HP:0002650); excluded: Motor delay (HP:0001270); excluded: Short stature (HP:0004322); excluded: Dermal translucency (HP:0010648); excluded: Soft skin (HP:0000977); excluded: Bruising susceptibility (HP:0000978)</td></tr>\n",
       "<tr><td style=\"text-align: left;\">2-II:1 (MALE; P55Y)</td><td style=\"text-align: left;\">Loeys-Dietz syndrome 5 (OMIM:615582)</td><td style=\"text-align: left;\">NM_003239.5:c.898C>T (heterozygous)</td><td style=\"text-align: left;\">Dilatation of the cerebral artery (HP:0004944); Arachnodactyly (HP:0001166); Pectus excavatum (HP:0000767); excluded: Aortic rupture (HP:0031649); excluded: Abdominal aortic aneurysm (HP:0005112); excluded: Ascending aortic dissection (HP:0004933); excluded: Joint hypermobility (HP:0001382); excluded: Pectus carinatum (HP:0000768); excluded: Scoliosis (HP:0002650); excluded: Cervical spine instability (HP:0010646); excluded: Cervical ribs (HP:0000891); excluded: Motor delay (HP:0001270); excluded: Cleft palate (HP:0000175); excluded: Bifid uvula (HP:0000193); excluded: Talipes equinovarus (HP:0001762); excluded: Blue sclerae (HP:0000592); excluded: Hypertelorism (HP:0000316); excluded: Tall stature (HP:0000098); excluded: Short stature (HP:0004322); excluded: Dermal translucency (HP:0010648)</td></tr>\n",
       "<tr><td style=\"text-align: left;\">2-II:4 (FEMALE; P60Y)</td><td style=\"text-align: left;\">Loeys-Dietz syndrome 5 (OMIM:615582)</td><td style=\"text-align: left;\">NM_003239.5:c.898C>T (heterozygous)</td><td style=\"text-align: left;\">Joint hypermobility (HP:0001382); Bifid uvula (HP:0000193); excluded: Aortic rupture (HP:0031649); excluded: Abdominal aortic aneurysm (HP:0005112); excluded: Ascending aortic dissection (HP:0004933); excluded: Dilatation of the cerebral artery (HP:0004944); excluded: Arachnodactyly (HP:0001166); excluded: Pectus excavatum (HP:0000767); excluded: Pectus carinatum (HP:0000768); excluded: Scoliosis (HP:0002650); excluded: Cervical spine instability (HP:0010646); excluded: Cervical ribs (HP:0000891); excluded: Motor delay (HP:0001270); excluded: Cleft palate (HP:0000175); excluded: Talipes equinovarus (HP:0001762); excluded: Blue sclerae (HP:0000592); excluded: Hypertelorism (HP:0000316); excluded: Tall stature (HP:0000098); excluded: Short stature (HP:0004322); excluded: Dermal translucency (HP:0010648)</td></tr>\n",
       "<tr><td style=\"text-align: left;\">2-III:3 (FEMALE; P26Y)</td><td style=\"text-align: left;\">Loeys-Dietz syndrome 5 (OMIM:615582)</td><td style=\"text-align: left;\">NM_003239.5:c.898C>T (heterozygous)</td><td style=\"text-align: left;\">Bifid uvula (HP:0000193); Blue sclerae (HP:0000592); Hypertelorism (HP:0000316); excluded: Aortic rupture (HP:0031649); excluded: Abdominal aortic aneurysm (HP:0005112); excluded: Ascending aortic dissection (HP:0004933); excluded: Dilatation of the cerebral artery (HP:0004944); excluded: Joint hypermobility (HP:0001382); excluded: Arachnodactyly (HP:0001166); excluded: Pectus excavatum (HP:0000767); excluded: Pectus carinatum (HP:0000768); excluded: Scoliosis (HP:0002650); excluded: Cervical spine instability (HP:0010646); excluded: Cervical ribs (HP:0000891); excluded: Motor delay (HP:0001270); excluded: Cleft palate (HP:0000175); excluded: Talipes equinovarus (HP:0001762); excluded: Tall stature (HP:0000098); excluded: Short stature (HP:0004322); excluded: Dermal translucency (HP:0010648)</td></tr>\n",
       "<tr><td style=\"text-align: left;\">2-IV:1 (MALE; P6Y)</td><td style=\"text-align: left;\">Loeys-Dietz syndrome 5 (OMIM:615582)</td><td style=\"text-align: left;\">NM_003239.5:c.898C>T (heterozygous)</td><td style=\"text-align: left;\">Aortic root aneurysm (HP:0002616); Cleft palate (HP:0000175); Hypertelorism (HP:0000316); excluded: Aortic rupture (HP:0031649); excluded: Abdominal aortic aneurysm (HP:0005112); excluded: Ascending aortic dissection (HP:0004933); excluded: Dilatation of the cerebral artery (HP:0004944); excluded: Joint hypermobility (HP:0001382); excluded: Arachnodactyly (HP:0001166); excluded: Pectus excavatum (HP:0000767); excluded: Pectus carinatum (HP:0000768); excluded: Scoliosis (HP:0002650); excluded: Cervical spine instability (HP:0010646); excluded: Cervical ribs (HP:0000891); excluded: Motor delay (HP:0001270); excluded: Bifid uvula (HP:0000193); excluded: Talipes equinovarus (HP:0001762); excluded: Blue sclerae (HP:0000592); excluded: Tall stature (HP:0000098); excluded: Short stature (HP:0004322); excluded: Dermal translucency (HP:0010648)</td></tr>\n",
       "<tr><td style=\"text-align: left;\">2-III:7* (FEMALE; P31Y)</td><td style=\"text-align: left;\">Loeys-Dietz syndrome 5 (OMIM:615582)</td><td style=\"text-align: left;\">NM_003239.5:c.898C>T (heterozygous)</td><td style=\"text-align: left;\">Pectus carinatum (HP:0000768); Cervical ribs (HP:0000891); Bifid uvula (HP:0000193); Hypertelorism (HP:0000316); Dermal translucency (HP:0010648); excluded: Aortic rupture (HP:0031649); excluded: Abdominal aortic aneurysm (HP:0005112); excluded: Ascending aortic dissection (HP:0004933); excluded: Aortic root aneurysm (HP:0002616); excluded: Dilatation of the cerebral artery (HP:0004944); excluded: Joint hypermobility (HP:0001382); excluded: Arachnodactyly (HP:0001166); excluded: Pectus excavatum (HP:0000767); excluded: Scoliosis (HP:0002650); excluded: Cervical spine instability (HP:0010646); excluded: Motor delay (HP:0001270); excluded: Cleft palate (HP:0000175); excluded: Talipes equinovarus (HP:0001762); excluded: Blue sclerae (HP:0000592); excluded: Tall stature (HP:0000098); excluded: Short stature (HP:0004322)</td></tr>\n",
       "<tr><td style=\"text-align: left;\">2-IV:2* (FEMALE; P7Y)</td><td style=\"text-align: left;\">Loeys-Dietz syndrome 5 (OMIM:615582)</td><td style=\"text-align: left;\">NM_003239.5:c.898C>T (heterozygous)</td><td style=\"text-align: left;\">Joint hypermobility (HP:0001382); Cervical spine instability (HP:0010646); Bifid uvula (HP:0000193); Talipes equinovarus (HP:0001762); Hypertelorism (HP:0000316); Tall stature (HP:0000098); excluded: Aortic rupture (HP:0031649); excluded: Abdominal aortic aneurysm (HP:0005112); excluded: Ascending aortic dissection (HP:0004933); excluded: Aortic root aneurysm (HP:0002616); excluded: Dilatation of the cerebral artery (HP:0004944); excluded: Arachnodactyly (HP:0001166); excluded: Pectus excavatum (HP:0000767); excluded: Pectus carinatum (HP:0000768); excluded: Scoliosis (HP:0002650); excluded: Cervical ribs (HP:0000891); excluded: Motor delay (HP:0001270); excluded: Cleft palate (HP:0000175); excluded: Blue sclerae (HP:0000592); excluded: Short stature (HP:0004322); excluded: Dermal translucency (HP:0010648)</td></tr>\n",
       "<tr><td style=\"text-align: left;\">2-IV:3 (MALE; P6Y)</td><td style=\"text-align: left;\">Loeys-Dietz syndrome 5 (OMIM:615582)</td><td style=\"text-align: left;\">NM_003239.5:c.898C>T (heterozygous)</td><td style=\"text-align: left;\">Joint hypermobility (HP:0001382); Arachnodactyly (HP:0001166); Bifid uvula (HP:0000193); Hypertelorism (HP:0000316); excluded: Aortic rupture (HP:0031649); excluded: Abdominal aortic aneurysm (HP:0005112); excluded: Ascending aortic dissection (HP:0004933); excluded: Aortic root aneurysm (HP:0002616); excluded: Dilatation of the cerebral artery (HP:0004944); excluded: Pectus excavatum (HP:0000767); excluded: Pectus carinatum (HP:0000768); excluded: Scoliosis (HP:0002650); excluded: Cervical spine instability (HP:0010646); excluded: Cervical ribs (HP:0000891); excluded: Motor delay (HP:0001270); excluded: Cleft palate (HP:0000175); excluded: Talipes equinovarus (HP:0001762); excluded: Blue sclerae (HP:0000592); excluded: Tall stature (HP:0000098); excluded: Short stature (HP:0004322); excluded: Dermal translucency (HP:0010648)</td></tr>\n",
       "<tr><td style=\"text-align: left;\">3-II:2* (FEMALE; P64Y)</td><td style=\"text-align: left;\">Loeys-Dietz syndrome 5 (OMIM:615582)</td><td style=\"text-align: left;\">NM_003239.5:c.787G>C (heterozygous)</td><td style=\"text-align: left;\">Aortic root aneurysm (HP:0002616); excluded: Aortic rupture (HP:0031649); excluded: Abdominal aortic aneurysm (HP:0005112); excluded: Ascending aortic dissection (HP:0004933); excluded: Mitral valve prolapse (HP:0001634); excluded: Patent foramen ovale (HP:0001655); excluded: Pectus excavatum (HP:0000767); excluded: Pectus carinatum (HP:0000768); excluded: Scoliosis (HP:0002650); excluded: Motor delay (HP:0001270); excluded: Short stature (HP:0004322); excluded: Soft skin (HP:0000977); excluded: Bruising susceptibility (HP:0000978)</td></tr>\n",
       "<tr><td style=\"text-align: left;\">3-II:3* (FEMALE; P70Y)</td><td style=\"text-align: left;\">Loeys-Dietz syndrome 5 (OMIM:615582)</td><td style=\"text-align: left;\">NM_003239.5:c.787G>C (heterozygous)</td><td style=\"text-align: left;\">Aortic root aneurysm (HP:0002616); excluded: Aortic rupture (HP:0031649); excluded: Abdominal aortic aneurysm (HP:0005112); excluded: Ascending aortic dissection (HP:0004933); excluded: Mitral valve prolapse (HP:0001634); excluded: Patent foramen ovale (HP:0001655); excluded: Pectus excavatum (HP:0000767); excluded: Pectus carinatum (HP:0000768); excluded: Scoliosis (HP:0002650); excluded: Motor delay (HP:0001270); excluded: Short stature (HP:0004322); excluded: Soft skin (HP:0000977); excluded: Bruising susceptibility (HP:0000978)</td></tr>\n",
       "<tr><td style=\"text-align: left;\">3-III:1* (MALE; P31Y)</td><td style=\"text-align: left;\">Loeys-Dietz syndrome 5 (OMIM:615582)</td><td style=\"text-align: left;\">NM_003239.5:c.787G>C (heterozygous)</td><td style=\"text-align: left;\"><b>P30Y</b>: Ascending aortic dissection (HP:0004933); Aortic root aneurysm (HP:0002616)<br/>Retrognathia (HP:0000278); High palate (HP:0000218); Dolichocephaly (HP:0000268); Short stature (HP:0004322); excluded: Aortic rupture (HP:0031649); excluded: Abdominal aortic aneurysm (HP:0005112); excluded: Mitral valve prolapse (HP:0001634); excluded: Patent foramen ovale (HP:0001655); excluded: Pectus excavatum (HP:0000767); excluded: Pectus carinatum (HP:0000768); excluded: Scoliosis (HP:0002650); excluded: Motor delay (HP:0001270); excluded: Soft skin (HP:0000977); excluded: Bruising susceptibility (HP:0000978)</td></tr>\n",
       "<tr><td style=\"text-align: left;\">3-III:2* (MALE; P34Y)</td><td style=\"text-align: left;\">Loeys-Dietz syndrome 5 (OMIM:615582)</td><td style=\"text-align: left;\">NM_003239.5:c.787G>C (heterozygous)</td><td style=\"text-align: left;\">excluded: Aortic rupture (HP:0031649); excluded: Abdominal aortic aneurysm (HP:0005112); excluded: Ascending aortic dissection (HP:0004933); excluded: Aortic root aneurysm (HP:0002616); excluded: Mitral valve prolapse (HP:0001634); excluded: Patent foramen ovale (HP:0001655); excluded: Pectus excavatum (HP:0000767); excluded: Pectus carinatum (HP:0000768); excluded: Scoliosis (HP:0002650); excluded: Motor delay (HP:0001270); excluded: Short stature (HP:0004322); excluded: Soft skin (HP:0000977); excluded: Bruising susceptibility (HP:0000978)</td></tr>\n",
       "<tr><td style=\"text-align: left;\">4-II:2* (MALE; P42Y)</td><td style=\"text-align: left;\">Loeys-Dietz syndrome 5 (OMIM:615582)</td><td style=\"text-align: left;\">NM_003239.5:c.898C>T (heterozygous)</td><td style=\"text-align: left;\">Aortic root aneurysm (HP:0002616); Inguinal hernia (HP:0000023); Arachnodactyly (HP:0001166); Scoliosis (HP:0002650); Bifid uvula (HP:0000193); Retrognathia (HP:0000278); Pes planus (HP:0001763); Hypertelorism (HP:0000316); Soft skin (HP:0000977); excluded: Aortic rupture (HP:0031649); excluded: Abdominal aortic aneurysm (HP:0005112); excluded: Ascending aortic dissection (HP:0004933); excluded: Mitral valve prolapse (HP:0001634); excluded: Patent foramen ovale (HP:0001655); excluded: Pectus excavatum (HP:0000767); excluded: Pectus carinatum (HP:0000768); excluded: Motor delay (HP:0001270); excluded: Short stature (HP:0004322); excluded: Bruising susceptibility (HP:0000978)</td></tr>\n",
       "<tr><td style=\"text-align: left;\">4-III:1 (FEMALE; P13Y)</td><td style=\"text-align: left;\">Loeys-Dietz syndrome 5 (OMIM:615582)</td><td style=\"text-align: left;\">NM_003239.5:c.898C>T (heterozygous)</td><td style=\"text-align: left;\">Inguinal hernia (HP:0000023); Arachnodactyly (HP:0001166); Cleft palate (HP:0000175); excluded: Aortic rupture (HP:0031649); excluded: Abdominal aortic aneurysm (HP:0005112); excluded: Ascending aortic dissection (HP:0004933); excluded: Aortic root aneurysm (HP:0002616); excluded: Mitral valve prolapse (HP:0001634); excluded: Patent foramen ovale (HP:0001655); excluded: Pectus excavatum (HP:0000767); excluded: Pectus carinatum (HP:0000768); excluded: Scoliosis (HP:0002650); excluded: Motor delay (HP:0001270); excluded: Short stature (HP:0004322); excluded: Soft skin (HP:0000977); excluded: Bruising susceptibility (HP:0000978)</td></tr>\n",
       "<tr><td style=\"text-align: left;\">4-III:2 (FEMALE; P10Y)</td><td style=\"text-align: left;\">Loeys-Dietz syndrome 5 (OMIM:615582)</td><td style=\"text-align: left;\">NM_003239.5:c.898C>T (heterozygous)</td><td style=\"text-align: left;\">Cleft palate (HP:0000175); excluded: Aortic rupture (HP:0031649); excluded: Abdominal aortic aneurysm (HP:0005112); excluded: Ascending aortic dissection (HP:0004933); excluded: Aortic root aneurysm (HP:0002616); excluded: Mitral valve prolapse (HP:0001634); excluded: Patent foramen ovale (HP:0001655); excluded: Pectus excavatum (HP:0000767); excluded: Pectus carinatum (HP:0000768); excluded: Scoliosis (HP:0002650); excluded: Motor delay (HP:0001270); excluded: Short stature (HP:0004322); excluded: Soft skin (HP:0000977); excluded: Bruising susceptibility (HP:0000978)</td></tr>\n",
       "<tr><td style=\"text-align: left;\">5-II:1* (MALE; P24Y)</td><td style=\"text-align: left;\">Loeys-Dietz syndrome 5 (OMIM:615582)</td><td style=\"text-align: left;\">NM_003239.5:c.898C>T (heterozygous)</td><td style=\"text-align: left;\">Aortic root aneurysm (HP:0002616); Mitral valve prolapse (HP:0001634); Patent foramen ovale (HP:0001655); Pectus carinatum (HP:0000768); Cleft palate (HP:0000175); Bifid uvula (HP:0000193); Talipes equinovarus (HP:0001762); Pes planus (HP:0001763); Hypertelorism (HP:0000316); excluded: Aortic rupture (HP:0031649); excluded: Abdominal aortic aneurysm (HP:0005112); excluded: Ascending aortic dissection (HP:0004933); excluded: Pectus excavatum (HP:0000767); excluded: Scoliosis (HP:0002650); excluded: Motor delay (HP:0001270); excluded: Short stature (HP:0004322); excluded: Soft skin (HP:0000977); excluded: Bruising susceptibility (HP:0000978)</td></tr>\n",
       "<tr><td style=\"text-align: left;\">6-II:1* (FEMALE; P42Y)</td><td style=\"text-align: left;\">Loeys-Dietz syndrome 5 (OMIM:615582)</td><td style=\"text-align: left;\">NM_003239.5:c.1095C>A (heterozygous)</td><td style=\"text-align: left;\">Joint hypermobility (HP:0001382); Camptodactyly (HP:0012385); Arachnodactyly (HP:0001166); Motor delay (HP:0001270); Bifid uvula (HP:0000193); Pes planus (HP:0001763); Hypertelorism (HP:0000316); Bruising susceptibility (HP:0000978); Varicose veins (HP:0002619); excluded: Aortic rupture (HP:0031649); excluded: Abdominal aortic aneurysm (HP:0005112); excluded: Ascending aortic dissection (HP:0004933); excluded: Aortic root aneurysm (HP:0002616); excluded: Mitral valve prolapse (HP:0001634); excluded: Patent foramen ovale (HP:0001655); excluded: Pectus excavatum (HP:0000767); excluded: Pectus carinatum (HP:0000768); excluded: Scoliosis (HP:0002650); excluded: Short stature (HP:0004322); excluded: Soft skin (HP:0000977)</td></tr>\n",
       "<tr><td style=\"text-align: left;\">7-I:1 (MALE; P70Y)</td><td style=\"text-align: left;\">Loeys-Dietz syndrome 5 (OMIM:615582)</td><td style=\"text-align: left;\">NM_003239.5:c.1157del (heterozygous)</td><td style=\"text-align: left;\"><b>P61Y</b>: Aortic root aneurysm (HP:0002616)<br/><b>P70Y</b>: Ascending aortic dissection (HP:0004933)<br/>Cleft palate (HP:0000175); Tall stature (HP:0000098); excluded: Aortic rupture (HP:0031649); excluded: Abdominal aortic aneurysm (HP:0005112); excluded: Mitral valve prolapse (HP:0001634); excluded: Arachnodactyly (HP:0001166); excluded: Scoliosis (HP:0002650); excluded: Motor delay (HP:0001270); excluded: Short stature (HP:0004322)</td></tr>\n",
       "<tr><td style=\"text-align: left;\">7-II:1* (MALE; P43Y)</td><td style=\"text-align: left;\">Loeys-Dietz syndrome 5 (OMIM:615582)</td><td style=\"text-align: left;\">NM_003239.5:c.1157del (heterozygous)</td><td style=\"text-align: left;\">Mitral valve prolapse (HP:0001634); Arachnodactyly (HP:0001166); Scoliosis (HP:0002650); Cleft palate (HP:0000175); Bifid uvula (HP:0000193); Dolichocephaly (HP:0000268); Pes planus (HP:0001763); Hypertelorism (HP:0000316); Tall stature (HP:0000098); excluded: Aortic rupture (HP:0031649); excluded: Abdominal aortic aneurysm (HP:0005112); excluded: Ascending aortic dissection (HP:0004933); excluded: Aortic root aneurysm (HP:0002616); excluded: Motor delay (HP:0001270); excluded: Short stature (HP:0004322)</td></tr>\n",
       "<tr><td style=\"text-align: left;\">7-II:4 (FEMALE; n/a)</td><td style=\"text-align: left;\">Loeys-Dietz syndrome 5 (OMIM:615582)</td><td style=\"text-align: left;\">NM_003239.5:c.1157del (heterozygous)</td><td style=\"text-align: left;\">Arachnodactyly (HP:0001166); Tall stature (HP:0000098); excluded: Aortic rupture (HP:0031649); excluded: Abdominal aortic aneurysm (HP:0005112); excluded: Ascending aortic dissection (HP:0004933); excluded: Mitral valve prolapse (HP:0001634); excluded: Scoliosis (HP:0002650); excluded: Motor delay (HP:0001270); excluded: Short stature (HP:0004322)</td></tr>\n",
       "<tr><td style=\"text-align: left;\">7-III:4 (FEMALE; P14Y)</td><td style=\"text-align: left;\">Loeys-Dietz syndrome 5 (OMIM:615582)</td><td style=\"text-align: left;\">NM_003239.5:c.1157del (heterozygous)</td><td style=\"text-align: left;\">Arachnodactyly (HP:0001166); Scoliosis (HP:0002650); High palate (HP:0000218); Tall stature (HP:0000098); excluded: Aortic rupture (HP:0031649); excluded: Abdominal aortic aneurysm (HP:0005112); excluded: Ascending aortic dissection (HP:0004933); excluded: Aortic root aneurysm (HP:0002616); excluded: Mitral valve prolapse (HP:0001634); excluded: Motor delay (HP:0001270); excluded: Short stature (HP:0004322)</td></tr>\n",
       "<tr><td style=\"text-align: left;\">8-II:1* (MALE; P50Y)</td><td style=\"text-align: left;\">Loeys-Dietz syndrome 5 (OMIM:615582)</td><td style=\"text-align: left;\">NM_003239.5:c.1202T>C (heterozygous)</td><td style=\"text-align: left;\"><b>P42Y</b>: Aortic root aneurysm (HP:0002616)<br/><b>P43Y</b>: Ascending aortic dissection (HP:0004933)<br/><b>P50Y</b>: Abdominal aortic aneurysm (HP:0005112)<br/>Inguinal hernia (HP:0000023); Arachnodactyly (HP:0001166); Scoliosis (HP:0002650); Hypertelorism (HP:0000316); Tall stature (HP:0000098); excluded: Aortic rupture (HP:0031649); excluded: Mitral valve prolapse (HP:0001634); excluded: Motor delay (HP:0001270); excluded: Short stature (HP:0004322)</td></tr>\n",
       "<tr><td style=\"text-align: left;\">8-III:1* (FEMALE; P30Y)</td><td style=\"text-align: left;\">Loeys-Dietz syndrome 5 (OMIM:615582)</td><td style=\"text-align: left;\">NM_003239.5:c.1202T>C (heterozygous)</td><td style=\"text-align: left;\">Joint hypermobility (HP:0001382); Camptodactyly (HP:0012385); Arachnodactyly (HP:0001166); Scoliosis (HP:0002650); excluded: Aortic rupture (HP:0031649); excluded: Abdominal aortic aneurysm (HP:0005112); excluded: Ascending aortic dissection (HP:0004933); excluded: Mitral valve prolapse (HP:0001634); excluded: Motor delay (HP:0001270); excluded: Short stature (HP:0004322)</td></tr>\n",
       "<tr><td style=\"text-align: left;\">9-I:1 (MALE; P80Y)</td><td style=\"text-align: left;\">Loeys-Dietz syndrome 5 (OMIM:615582)</td><td style=\"text-align: left;\">NM_003239.5:c.704del (heterozygous)</td><td style=\"text-align: left;\"><b>P80Y</b>: Ascending aortic dissection (HP:0004933)<br/>Aortic root aneurysm (HP:0002616); excluded: Aortic rupture (HP:0031649); excluded: Abdominal aortic aneurysm (HP:0005112); excluded: Scoliosis (HP:0002650); excluded: Motor delay (HP:0001270); excluded: Short stature (HP:0004322)</td></tr>\n",
       "<tr><td style=\"text-align: left;\">9-II:2* (FEMALE; P67Y)</td><td style=\"text-align: left;\">Loeys-Dietz syndrome 5 (OMIM:615582)</td><td style=\"text-align: left;\">NM_003239.5:c.704del (heterozygous)</td><td style=\"text-align: left;\"><b>P59Y</b>: Ascending aortic dissection (HP:0004933)<br/>Aortic root aneurysm (HP:0002616); Inguinal hernia (HP:0000023); Arachnodactyly (HP:0001166); Tall stature (HP:0000098); excluded: Aortic rupture (HP:0031649); excluded: Abdominal aortic aneurysm (HP:0005112); excluded: Scoliosis (HP:0002650); excluded: Motor delay (HP:0001270); excluded: Short stature (HP:0004322)</td></tr>\n",
       "<tr><td style=\"text-align: left;\">9-III:1* (MALE; P43Y)</td><td style=\"text-align: left;\">Loeys-Dietz syndrome 5 (OMIM:615582)</td><td style=\"text-align: left;\">NM_003239.5:c.704del (heterozygous)</td><td style=\"text-align: left;\"><b>P40Y</b>: Ascending aortic dissection (HP:0004933)<br/>Aortic root aneurysm (HP:0002616); Scoliosis (HP:0002650); Retrognathia (HP:0000278); Tall stature (HP:0000098); excluded: Aortic rupture (HP:0031649); excluded: Abdominal aortic aneurysm (HP:0005112); excluded: Motor delay (HP:0001270); excluded: Short stature (HP:0004322)</td></tr>\n",
       "<tr><td style=\"text-align: left;\">10-II:1* (MALE; P56Y)</td><td style=\"text-align: left;\">Loeys-Dietz syndrome 5 (OMIM:615582)</td><td style=\"text-align: left;\">NM_003239.5:c.965T>C (heterozygous)</td><td style=\"text-align: left;\">Aortic root aneurysm (HP:0002616); Osteoarthritis (HP:0002758); Arachnodactyly (HP:0001166); Scoliosis (HP:0002650); Retrognathia (HP:0000278); Downslanted palpebral fissures (HP:0000494); Hypertelorism (HP:0000316); Tall stature (HP:0000098); excluded: Aortic rupture (HP:0031649); excluded: Abdominal aortic aneurysm (HP:0005112); excluded: Ascending aortic dissection (HP:0004933); excluded: Motor delay (HP:0001270); excluded: Short stature (HP:0004322)</td></tr>\n",
       "<tr><td style=\"text-align: left;\">10-III:1* (MALE; P24Y)</td><td style=\"text-align: left;\">Loeys-Dietz syndrome 5 (OMIM:615582)</td><td style=\"text-align: left;\">NM_003239.5:c.965T>C (heterozygous)</td><td style=\"text-align: left;\">Arachnodactyly (HP:0001166); Scoliosis (HP:0002650); Tall stature (HP:0000098); excluded: Aortic rupture (HP:0031649); excluded: Abdominal aortic aneurysm (HP:0005112); excluded: Ascending aortic dissection (HP:0004933); excluded: Motor delay (HP:0001270); excluded: Short stature (HP:0004322)</td></tr>\n",
       "<tr><td style=\"text-align: left;\">10-III:2* (FEMALE; P22Y)</td><td style=\"text-align: left;\">Loeys-Dietz syndrome 5 (OMIM:615582)</td><td style=\"text-align: left;\">NM_003239.5:c.965T>C (heterozygous)</td><td style=\"text-align: left;\">Aortic root aneurysm (HP:0002616); Joint hypermobility (HP:0001382); Arachnodactyly (HP:0001166); Scoliosis (HP:0002650); Bifid uvula (HP:0000193); Retrognathia (HP:0000278); Downslanted palpebral fissures (HP:0000494); Pes planus (HP:0001763); Hypertelorism (HP:0000316); Tall stature (HP:0000098); excluded: Aortic rupture (HP:0031649); excluded: Abdominal aortic aneurysm (HP:0005112); excluded: Ascending aortic dissection (HP:0004933); excluded: Motor delay (HP:0001270); excluded: Short stature (HP:0004322)</td></tr>\n",
       "<tr><td style=\"text-align: left;\">11-I:1* (MALE; P27Y)</td><td style=\"text-align: left;\">Loeys-Dietz syndrome 5 (OMIM:615582)</td><td style=\"text-align: left;\">NM_003239.5:c.965T>C (heterozygous)</td><td style=\"text-align: left;\">Joint hypermobility (HP:0001382); Arachnodactyly (HP:0001166); Spondylolisthesis (HP:0003302); Bifid uvula (HP:0000193); High palate (HP:0000218); Pes planus (HP:0001763); Hypertelorism (HP:0000316); Tall stature (HP:0000098); excluded: Aortic rupture (HP:0031649); excluded: Abdominal aortic aneurysm (HP:0005112); excluded: Ascending aortic dissection (HP:0004933); excluded: Scoliosis (HP:0002650); excluded: Motor delay (HP:0001270); excluded: Short stature (HP:0004322)</td></tr>\n",
       "<tr><td style=\"text-align: left;\">11-II:1* (FEMALE; P3Y)</td><td style=\"text-align: left;\">Loeys-Dietz syndrome 5 (OMIM:615582)</td><td style=\"text-align: left;\">NM_003239.5:c.965T>C (heterozygous)</td><td style=\"text-align: left;\">Aortic root aneurysm (HP:0002616); Joint hypermobility (HP:0001382); Osteoarthritis (HP:0002758); Arachnodactyly (HP:0001166); Bifid uvula (HP:0000193); Retrognathia (HP:0000278); Downslanted palpebral fissures (HP:0000494); Hypertelorism (HP:0000316); Dermal translucency (HP:0010648); Bruising susceptibility (HP:0000978); excluded: Aortic rupture (HP:0031649); excluded: Abdominal aortic aneurysm (HP:0005112); excluded: Ascending aortic dissection (HP:0004933); excluded: Scoliosis (HP:0002650); excluded: Motor delay (HP:0001270); excluded: Short stature (HP:0004322)</td></tr>\n",
       "</table>"
      ],
      "text/plain": [
       "<IPython.core.display.HTML object>"
      ]
     },
     "metadata": {},
     "output_type": "display_data"
    }
   ],
   "source": [
    "table = IndividualTable(cvalidator.get_error_free_individual_list())\n",
    "display(HTML(table.to_html()))"
   ]
  },
  {
   "cell_type": "code",
   "execution_count": 6,
   "id": "492407e3-ee62-4a73-aaba-e46330952dd6",
   "metadata": {},
   "outputs": [
    {
     "name": "stdout",
     "output_type": "stream",
     "text": [
      "[pyphetools] Ingested 43 GA4GH phenopackets.\n",
      "\tLoeys-Dietz syndrome 5 (OMIM:615582): n=43\n",
      "We found a total of 42 unique HPO terms\n",
      "Extracted disease: Loeys-Dietz syndrome 5 (OMIM:615582)\n",
      "Wrote HPOA disease file to OMIM-615582.tab\n"
     ]
    }
   ],
   "source": [
    "pmid = \"PMID:25835445\"\n",
    "df = timporter.create_hpoa_from_phenopackets(pmid=pmid, moi=\"Autosomal dominant\")"
   ]
  },
  {
   "cell_type": "code",
   "execution_count": null,
   "id": "1cb9f300-43a2-48bb-bd6f-f46e34f2815d",
   "metadata": {},
   "outputs": [],
   "source": []
  }
 ],
 "metadata": {
  "kernelspec": {
   "display_name": "Python 3 (ipykernel)",
   "language": "python",
   "name": "python3"
  },
  "language_info": {
   "codemirror_mode": {
    "name": "ipython",
    "version": 3
   },
   "file_extension": ".py",
   "mimetype": "text/x-python",
   "name": "python",
   "nbconvert_exporter": "python",
   "pygments_lexer": "ipython3",
   "version": "3.8.10"
  }
 },
 "nbformat": 4,
 "nbformat_minor": 5
}
