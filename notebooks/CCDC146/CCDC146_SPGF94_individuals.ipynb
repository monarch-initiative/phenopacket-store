{
 "cells": [
  {
   "cell_type": "markdown",
   "metadata": {},
   "source": [
    "# CCDC146\n",
    "[Spermatogenic failure-94 (SPGF94)](https://omim.org/entry/620850) is caused by homozygous mutation in the CCDC146 gene."
   ]
  },
  {
   "cell_type": "code",
   "execution_count": 1,
   "metadata": {},
   "outputs": [
    {
     "name": "stdout",
     "output_type": "stream",
     "text": [
      "Using pyphetools version 0.9.113\n"
     ]
    }
   ],
   "source": [
    "from pyphetools.creation import TemplateImporter, Moi\n",
    "from pyphetools.visualization import IndividualTable, QcVisualizer\n",
    "from IPython.display import display, HTML\n",
    "import pyphetools\n",
    "print(f\"Using pyphetools version {pyphetools.__version__}\")"
   ]
  },
  {
   "cell_type": "code",
   "execution_count": 2,
   "metadata": {},
   "outputs": [
    {
     "name": "stdout",
     "output_type": "stream",
     "text": [
      "HPO version 2024-12-12\n",
      "Created encoders for 25 fields\n",
      "Importing OMIM:620850, Spermatogenic failure 94, HGNC:29296, CCDC146,  NM_020879.3\n",
      "[INFO] encoding variant \"c.2112del\"\n",
      "https://rest.variantvalidator.org/VariantValidator/variantvalidator/hg38/NM_020879.3%3Ac.2112del/NM_020879.3?content-type=application%2Fjson\n",
      "[INFO] encoding variant \"c.1084C>T\"\n",
      "https://rest.variantvalidator.org/VariantValidator/variantvalidator/hg38/NM_020879.3%3Ac.1084C>T/NM_020879.3?content-type=application%2Fjson\n",
      "We output 2 GA4GH phenopackets to the directory phenopackets\n"
     ]
    }
   ],
   "source": [
    "template = \"input/CCDC146_SPGF94_individuals.xlsx\"\n",
    "created_by = \"0000-0002-0736-9199\"\n",
    "timporter = TemplateImporter(template=template,  created_by=created_by)\n",
    "individual_list, cvalidator = timporter.import_phenopackets_from_template()"
   ]
  },
  {
   "cell_type": "code",
   "execution_count": 4,
   "metadata": {},
   "outputs": [
    {
     "data": {
      "text/html": [
       "<h2>Cohort validation</h2>\n",
       "<p>No errors found for the cohort with 2 individuals</p>"
      ],
      "text/plain": [
       "<IPython.core.display.HTML object>"
      ]
     },
     "metadata": {},
     "output_type": "display_data"
    }
   ],
   "source": [
    "qc = QcVisualizer(cohort_validator=cvalidator)\n",
    "display(HTML(qc.to_summary_html()))"
   ]
  },
  {
   "cell_type": "code",
   "execution_count": 5,
   "metadata": {},
   "outputs": [
    {
     "data": {
      "text/html": [
       "<table style=\"border: 2px solid black; align: \"left\">\n",
       "<caption>2 phenopackets - PMID:38441556 (n=2)</caption>\n",
       "<tr><th style=\"text-align: left;font-weight: bold;\">Individual</th><th style=\"text-align: left;font-weight: bold;\">Disease</th><th style=\"text-align: left;font-weight: bold;\">Genotype</th><th style=\"text-align: left;font-weight: bold;\">Phenotypic features</th></tr>\n",
       "<tr><td style=\"text-align: left;\">Patient 08IF039 (MALE)</td><td style=\"text-align: left;\">Spermatogenic failure 94 (OMIM:620850)</td><td style=\"text-align: left;\">NM_020879.3:c.1084C>T (homozygous)</td><td style=\"text-align: left;\">Reduced progressive sperm motility (HP:0034011): onset ; Reduced sperm motility (HP:0012207): onset ; Male infertility (HP:0003251): onset ; Short sperm flagella (HP:0032559): onset ; Coiled sperm flagella (HP:0032560): onset ; Absent sperm flagella (HP:0032558): onset ; Multiflagellar spermatozoa (HP:0034309): onset ; excluded: Oligozoospermia (HP:0000798): onset </td></tr>\n",
       "<tr><td style=\"text-align: left;\">Patient 09IF026 (MALE)</td><td style=\"text-align: left;\">Spermatogenic failure 94 (OMIM:620850)</td><td style=\"text-align: left;\">NM_020879.3:c.2112del (homozygous)</td><td style=\"text-align: left;\">Reduced progressive sperm motility (HP:0034011): onset ; Reduced sperm motility (HP:0012207): onset ; Male infertility (HP:0003251): onset ; Short sperm flagella (HP:0032559): onset ; Coiled sperm flagella (HP:0032560): onset ; Absent sperm flagella (HP:0032558): onset ; Multiflagellar spermatozoa (HP:0034309): onset ; excluded: Oligozoospermia (HP:0000798): onset </td></tr>\n",
       "</table>"
      ],
      "text/plain": [
       "<IPython.core.display.HTML object>"
      ]
     },
     "metadata": {},
     "output_type": "display_data"
    }
   ],
   "source": [
    "table = IndividualTable(cvalidator.get_error_free_individual_list())\n",
    "display(HTML(table.to_html()))"
   ]
  },
  {
   "cell_type": "code",
   "execution_count": 6,
   "metadata": {},
   "outputs": [
    {
     "name": "stdout",
     "output_type": "stream",
     "text": [
      "[pyphetools] Ingested 2 GA4GH phenopackets.\n",
      "[INFO] Extracted 2 from 2 phenopackets with OMIM:620850\n",
      "\n",
      "\tSpermatogenic failure 94 (OMIM:620850): n=2\n",
      "We found a total of 8 unique HPO terms\n",
      "Extracted disease: Spermatogenic failure 94 (OMIM:620850)\n",
      "Wrote HPOA disease file to OMIM-620850.tab\n"
     ]
    }
   ],
   "source": [
    "pmid = \"PMID:38441556\"\n",
    "df = timporter.create_hpoa_from_phenopackets(pmid=pmid, mode_of_inheritance=Moi.AR, target=\"OMIM:620850\")"
   ]
  }
 ],
 "metadata": {
  "kernelspec": {
   "display_name": "ps24venv",
   "language": "python",
   "name": "python3"
  },
  "language_info": {
   "codemirror_mode": {
    "name": "ipython",
    "version": 3
   },
   "file_extension": ".py",
   "mimetype": "text/x-python",
   "name": "python",
   "nbconvert_exporter": "python",
   "pygments_lexer": "ipython3",
   "version": "3.12.4"
  }
 },
 "nbformat": 4,
 "nbformat_minor": 2
}
