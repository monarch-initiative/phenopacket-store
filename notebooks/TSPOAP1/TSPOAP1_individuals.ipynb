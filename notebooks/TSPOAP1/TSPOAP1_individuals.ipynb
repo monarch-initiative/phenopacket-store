{
 "cells": [
  {
   "cell_type": "markdown",
   "id": "bb53c3c6-4d16-45d2-ad83-4dfc8a4c9af3",
   "metadata": {},
   "source": [
    "# TSPOAP1\n",
    "\n",
    "Data derived from [Mencacci et al. (2021) Biallelic variants in TSPOAP1, encoding the active-zone protein RIMBP1, cause autosomal recessive dystonia. J Clin Invest;131:e140625 PMID:33539324](https://pubmed.ncbi.nlm.nih.gov/33539324/)"
   ]
  },
  {
   "cell_type": "code",
   "execution_count": 4,
   "id": "29b8ad61-b622-44a8-a9b6-4ea795336eb2",
   "metadata": {},
   "outputs": [
    {
     "name": "stdout",
     "output_type": "stream",
     "text": [
      "Using pyphetools version 0.9.71\n"
     ]
    }
   ],
   "source": [
    "from pyphetools.creation import TemplateImporter\n",
    "from pyphetools.visualization import IndividualTable, QcVisualizer\n",
    "from IPython.display import display, HTML\n",
    "import pyphetools\n",
    "print(f\"Using pyphetools version {pyphetools.__version__}\")"
   ]
  },
  {
   "cell_type": "code",
   "execution_count": 5,
   "id": "b9bcd6e0-9d7a-46a8-b80d-1a3989fb69f7",
   "metadata": {},
   "outputs": [],
   "source": [
    "template = \"input/TSPOAP1_Mencacci_2021.xlsx\"\n",
    "hp_json = \"../hp.json\"\n",
    "created_by = \"0000-0002-0736-9199\""
   ]
  },
  {
   "cell_type": "code",
   "execution_count": 7,
   "id": "782a8fd2-7064-492b-a1c7-7b48517cc909",
   "metadata": {},
   "outputs": [
    {
     "name": "stdout",
     "output_type": "stream",
     "text": [
      "HPO version 2024-03-06\n",
      "Created encoders for 24 fields\n",
      "Importing OMIM:620456, Dystonia 22, adult-onset, HGNC:16831, TSPOAP1,  NM_004758.4\n",
      "[INFO] encoding variant \"c.5422G>A\"\n",
      "https://rest.variantvalidator.org/VariantValidator/variantvalidator/hg38/NM_004758.4%3Ac.5422G>A/NM_004758.4?content-type=application%2Fjson\n",
      "We output 3 GA4GH phenopackets to the directory phenopackets\n"
     ]
    }
   ],
   "source": [
    "timporter = TemplateImporter(template=template, hp_json=hp_json, created_by=created_by)\n",
    "individual_list, cvalidator = timporter.import_phenopackets_from_template()"
   ]
  },
  {
   "cell_type": "code",
   "execution_count": 8,
   "id": "58281598-1bed-44b7-8099-684286a7d522",
   "metadata": {},
   "outputs": [
    {
     "data": {
      "text/html": [
       "<h2>Cohort validation</h2>\n",
       "<p>Errors found with 3 of 3 phenopackets.</p>\n",
       "<table style=\"border: 2px solid black; align: \"left\">\n",
       "<caption>Error counts</caption>\n",
       "<tr><th style=\"text-align: left;font-weight: bold;\">Level</th><th style=\"text-align: left;font-weight: bold;\">Error category</th><th style=\"text-align: left;font-weight: bold;\">Count</th></tr>\n",
       "<tr><td style=\"text-align: left;\">WARNING</td><td style=\"text-align: left;\">REDUNDANT</td><td style=\"text-align: left;\">4</td></tr>\n",
       "</table>\n",
       "<p>A total of 4 issues were fixed and no individual was removed from the cohort.</p>"
      ],
      "text/plain": [
       "<IPython.core.display.HTML object>"
      ]
     },
     "metadata": {},
     "output_type": "display_data"
    }
   ],
   "source": [
    "qc = QcVisualizer(cohort_validator=cvalidator)\n",
    "display(HTML(qc.to_summary_html()))"
   ]
  },
  {
   "cell_type": "code",
   "execution_count": 9,
   "id": "fc3d3628-46c6-4b11-8a81-36f2455e46ee",
   "metadata": {},
   "outputs": [
    {
     "data": {
      "text/html": [
       "<table style=\"border: 2px solid black; align: \"left\">\n",
       "<caption>3 phenopackets - PMID:33539324 (n=3)</caption>\n",
       "<tr><th style=\"text-align: left;font-weight: bold;\">Individual</th><th style=\"text-align: left;font-weight: bold;\">Disease</th><th style=\"text-align: left;font-weight: bold;\">Genotype</th><th style=\"text-align: left;font-weight: bold;\">Phenotypic features</th></tr>\n",
       "<tr><td style=\"text-align: left;\">C-II.1 (MALE; n/a)</td><td style=\"text-align: left;\">Dystonia 22, adult-onset (OMIM:620456)</td><td style=\"text-align: left;\">NM_004758.4:c.5422G>A (homozygous)</td><td style=\"text-align: left;\">Mental deterioration (HP:0001268); Focal dystonia (HP:0004373); excluded: Motor delay (HP:0001270); excluded: Retrocollis (HP:0002544); excluded: Gait disturbance (HP:0001288); excluded: Babinski sign (HP:0003487); excluded: Upper limb postural tremor (HP:0007351)</td></tr>\n",
       "<tr><td style=\"text-align: left;\">C-II.3 (MALE; n/a)</td><td style=\"text-align: left;\">Dystonia 22, adult-onset (OMIM:620456)</td><td style=\"text-align: left;\">NM_004758.4:c.5422G>A (homozygous)</td><td style=\"text-align: left;\">Torticollis (HP:0000473); Mental deterioration (HP:0001268); Upper limb postural tremor (HP:0007351); excluded: Motor delay (HP:0001270); excluded: Retrocollis (HP:0002544); excluded: Gait disturbance (HP:0001288); excluded: Babinski sign (HP:0003487)</td></tr>\n",
       "<tr><td style=\"text-align: left;\">C-II.4 (FEMALE; n/a)</td><td style=\"text-align: left;\">Dystonia 22, adult-onset (OMIM:620456)</td><td style=\"text-align: left;\">NM_004758.4:c.5422G>A (homozygous)</td><td style=\"text-align: left;\">Retrocollis (HP:0002544); Babinski sign (HP:0003487); Mental deterioration (HP:0001268); excluded: Motor delay (HP:0001270); excluded: Gait disturbance (HP:0001288); excluded: Upper limb postural tremor (HP:0007351)</td></tr>\n",
       "</table>"
      ],
      "text/plain": [
       "<IPython.core.display.HTML object>"
      ]
     },
     "metadata": {},
     "output_type": "display_data"
    }
   ],
   "source": [
    "table = IndividualTable(cvalidator.get_error_free_individual_list())\n",
    "display(HTML(table.to_html()))"
   ]
  },
  {
   "cell_type": "code",
   "execution_count": 10,
   "id": "0b4cbd83-bc00-4f64-969b-b48d3334bdc8",
   "metadata": {},
   "outputs": [
    {
     "name": "stdout",
     "output_type": "stream",
     "text": [
      "[pyphetools] Ingested 3 GA4GH phenopackets.\n",
      "\tDystonia 22, adult-onset (OMIM:620456): n=3\n",
      "We found a total of 8 unique HPO terms\n",
      "Extracted disease: Dystonia 22, adult-onset (OMIM:620456)\n",
      "Wrote HPOA disease file to OMIM-620456.tab\n"
     ]
    },
    {
     "data": {
      "text/html": [
       "<div>\n",
       "<style scoped>\n",
       "    .dataframe tbody tr th:only-of-type {\n",
       "        vertical-align: middle;\n",
       "    }\n",
       "\n",
       "    .dataframe tbody tr th {\n",
       "        vertical-align: top;\n",
       "    }\n",
       "\n",
       "    .dataframe thead th {\n",
       "        text-align: right;\n",
       "    }\n",
       "</style>\n",
       "<table border=\"1\" class=\"dataframe\">\n",
       "  <thead>\n",
       "    <tr style=\"text-align: right;\">\n",
       "      <th></th>\n",
       "      <th>#diseaseID</th>\n",
       "      <th>diseaseName</th>\n",
       "      <th>phenotypeID</th>\n",
       "      <th>phenotypeName</th>\n",
       "      <th>onsetID</th>\n",
       "      <th>onsetName</th>\n",
       "      <th>frequency</th>\n",
       "      <th>sex</th>\n",
       "      <th>negation</th>\n",
       "      <th>modifier</th>\n",
       "      <th>description</th>\n",
       "      <th>publication</th>\n",
       "      <th>evidence</th>\n",
       "      <th>biocuration</th>\n",
       "    </tr>\n",
       "  </thead>\n",
       "  <tbody>\n",
       "    <tr>\n",
       "      <th>0</th>\n",
       "      <td>OMIM:620456</td>\n",
       "      <td>Dystonia 22, adult-onset</td>\n",
       "      <td>HP:0000473</td>\n",
       "      <td>Torticollis</td>\n",
       "      <td></td>\n",
       "      <td></td>\n",
       "      <td>1/1</td>\n",
       "      <td></td>\n",
       "      <td></td>\n",
       "      <td></td>\n",
       "      <td></td>\n",
       "      <td>PMID:33539324</td>\n",
       "      <td>PCS</td>\n",
       "      <td>ORCID:0000-0002-0736-9199</td>\n",
       "    </tr>\n",
       "    <tr>\n",
       "      <th>1</th>\n",
       "      <td>OMIM:620456</td>\n",
       "      <td>Dystonia 22, adult-onset</td>\n",
       "      <td>HP:0001268</td>\n",
       "      <td>Mental deterioration</td>\n",
       "      <td></td>\n",
       "      <td></td>\n",
       "      <td>3/3</td>\n",
       "      <td></td>\n",
       "      <td></td>\n",
       "      <td></td>\n",
       "      <td></td>\n",
       "      <td>PMID:33539324</td>\n",
       "      <td>PCS</td>\n",
       "      <td>ORCID:0000-0002-0736-9199</td>\n",
       "    </tr>\n",
       "  </tbody>\n",
       "</table>\n",
       "</div>"
      ],
      "text/plain": [
       "    #diseaseID               diseaseName phenotypeID         phenotypeName  \\\n",
       "0  OMIM:620456  Dystonia 22, adult-onset  HP:0000473           Torticollis   \n",
       "1  OMIM:620456  Dystonia 22, adult-onset  HP:0001268  Mental deterioration   \n",
       "\n",
       "  onsetID onsetName frequency sex negation modifier description  \\\n",
       "0                         1/1                                     \n",
       "1                         3/3                                     \n",
       "\n",
       "     publication evidence                biocuration  \n",
       "0  PMID:33539324      PCS  ORCID:0000-0002-0736-9199  \n",
       "1  PMID:33539324      PCS  ORCID:0000-0002-0736-9199  "
      ]
     },
     "execution_count": 10,
     "metadata": {},
     "output_type": "execute_result"
    }
   ],
   "source": [
    "PMID=\"PMID:33539324\"\n",
    "df = timporter.create_hpoa_from_phenopackets(pmid=PMID, moi=\"Autosomal recessive\")\n",
    "df.head(2)"
   ]
  },
  {
   "cell_type": "code",
   "execution_count": 12,
   "id": "5f9a5ca1-0f38-4b3d-ac30-eaf7b4db6d61",
   "metadata": {},
   "outputs": [
    {
     "name": "stdout",
     "output_type": "stream",
     "text": [
      "Wrote HPOA disease file to OMIM-620456.tab\n"
     ]
    }
   ],
   "source": [
    "hpoa_creator.write_data_frame()"
   ]
  },
  {
   "cell_type": "code",
   "execution_count": null,
   "id": "534a094d-7aa6-43bb-9409-51d4809072bc",
   "metadata": {},
   "outputs": [],
   "source": []
  }
 ],
 "metadata": {
  "kernelspec": {
   "display_name": "ppt_venv",
   "language": "python",
   "name": "ppt_venv"
  },
  "language_info": {
   "codemirror_mode": {
    "name": "ipython",
    "version": 3
   },
   "file_extension": ".py",
   "mimetype": "text/x-python",
   "name": "python",
   "nbconvert_exporter": "python",
   "pygments_lexer": "ipython3",
   "version": "3.11.6"
  }
 },
 "nbformat": 4,
 "nbformat_minor": 5
}
