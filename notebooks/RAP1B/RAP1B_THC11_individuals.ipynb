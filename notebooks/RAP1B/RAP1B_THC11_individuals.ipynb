{
 "cells": [
  {
   "cell_type": "markdown",
   "id": "9ba3bcd3-543e-447b-aba9-fd7980fba3a2",
   "metadata": {},
   "source": [
    "# RAP1B\n",
    "[Thrombocytopenia-11 with multiple congenital anomalies and dysmorphic facies (THC11)](https://omim.org/entry/620654) is caused by heterozygous mutation in the RAP1B gene."
   ]
  },
  {
   "cell_type": "code",
   "execution_count": 1,
   "id": "858ab446-6e0c-49c8-9d1d-e6c67b5c3c48",
   "metadata": {},
   "outputs": [
    {
     "name": "stdout",
     "output_type": "stream",
     "text": [
      "Using pyphetools version 0.9.73\n"
     ]
    }
   ],
   "source": [
    "from pyphetools.creation import TemplateImporter\n",
    "from pyphetools.visualization import IndividualTable, QcVisualizer\n",
    "from IPython.display import display, HTML\n",
    "import pyphetools\n",
    "print(f\"Using pyphetools version {pyphetools.__version__}\")"
   ]
  },
  {
   "cell_type": "code",
   "execution_count": 2,
   "id": "0ce197ab-8fdf-4650-96e0-8477fcd5f4f7",
   "metadata": {},
   "outputs": [],
   "source": [
    "template = \"input/RAP1B_THC11_individuals.xlsx\"\n",
    "hp_json = \"../hp.json\"\n",
    "created_by = \"0000-0002-0736-9199\""
   ]
  },
  {
   "cell_type": "code",
   "execution_count": 3,
   "id": "196307ca-ced7-49fe-a5aa-20515e5b1637",
   "metadata": {},
   "outputs": [
    {
     "name": "stdout",
     "output_type": "stream",
     "text": [
      "HPO version 2024-03-06\n",
      "Created encoders for 89 fields\n",
      "Importing OMIM:620654, Thrombocytopenia 11 with multiple congenital anomalies and dysmorphic facies, HGNC:9857, RAP1B,  NM_001010942.3\n",
      "We output 5 GA4GH phenopackets to the directory phenopackets\n"
     ]
    }
   ],
   "source": [
    "timporter = TemplateImporter(template=template, hp_json=hp_json, created_by=created_by)\n",
    "individual_list, cvalidator = timporter.import_phenopackets_from_template()"
   ]
  },
  {
   "cell_type": "code",
   "execution_count": 4,
   "id": "2694ee1f-f5f2-4464-a092-efa72c89c84d",
   "metadata": {},
   "outputs": [
    {
     "data": {
      "text/html": [
       "<h2>Cohort validation</h2>\n",
       "<p>No errors found for the cohort with 5 individuals</p>"
      ],
      "text/plain": [
       "<IPython.core.display.HTML object>"
      ]
     },
     "metadata": {},
     "output_type": "display_data"
    }
   ],
   "source": [
    "qc = QcVisualizer(cohort_validator=cvalidator)\n",
    "display(HTML(qc.to_summary_html()))"
   ]
  },
  {
   "cell_type": "code",
   "execution_count": 5,
   "id": "feeaed72-17cb-42a9-ba6b-882af82ec2b8",
   "metadata": {},
   "outputs": [
    {
     "data": {
      "text/html": [
       "<table style=\"border: 2px solid black; align: \"left\">\n",
       "<caption>5 phenopackets - PMID:32627184 (n=2); PMID:35451551 (n=1); PMID:37850357 (n=2)</caption>\n",
       "<tr><th style=\"text-align: left;font-weight: bold;\">Individual</th><th style=\"text-align: left;font-weight: bold;\">Disease</th><th style=\"text-align: left;font-weight: bold;\">Genotype</th><th style=\"text-align: left;font-weight: bold;\">Phenotypic features</th></tr>\n",
       "<tr><td style=\"text-align: left;\">Case 1 (FEMALE; P36Y)</td><td style=\"text-align: left;\">Thrombocytopenia 11 with multiple congenital anomalies and dysmorphic facies (OMIM:620654)</td><td style=\"text-align: left;\">NM_001010942.3:c.35G>T (heterozygous)</td><td style=\"text-align: left;\"><b>P1Y2M</b>: Thrombocytopenia (HP:0001873)<br/>Hip dysplasia (HP:0001385); Lymphopenia (HP:0001888); Leukopenia (HP:0001882); Pancytopenia (HP:0001876); Anemia (HP:0001903); Feeding difficulties (HP:0011968); Upslanted palpebral fissure (HP:0000582); Depressed nasal bridge (HP:0005280); Midface retrusion (HP:0011800); Hypoplasia of teeth (HP:0000685); Sparse eyebrow (HP:0045075); Preauricular skin tag (HP:0000384); Secondary microcephaly (HP:0005484); Dry skin (HP:0000958); Intellectual disability, mild (HP:0001256); Global developmental delay (HP:0001263); Motor delay (HP:0001270); Reduced circulating growth hormone concentration (HP:0034323); Cavum septum pellucidum (HP:0002389); Low-set ears (HP:0000369); Posteriorly rotated ears (HP:0000358); Recurrent otitis media (HP:0000403); Joint hypermobility (HP:0001382); Renal hypoplasia (HP:0000089); Vesicoureteral reflux (HP:0000076); Short stature (HP:0004322); Obesity (HP:0001513); Brachydactyly (HP:0001156); Hypotonia (HP:0001252); excluded: Inguinal hernia (HP:0000023); excluded: Umbilical hernia (HP:0001537); excluded: Dental crowding (HP:0000678); excluded: Downslanted palpebral fissures (HP:0000494); excluded: Short palpebral fissure (HP:0012745); excluded: Prominent nasal bridge (HP:0000426); excluded: High palate (HP:0000218); excluded: Bulbous nose (HP:0000414); excluded: Epicanthus (HP:0000286); excluded: Open mouth (HP:0000194); excluded: Long philtrum (HP:0000343); excluded: Smooth philtrum (HP:0000319); excluded: Micrognathia (HP:0000347); excluded: Thin upper lip vermilion (HP:0000219); excluded: Retrognathia (HP:0000278); excluded: Pulmonic stenosis (HP:0001642); excluded: Bicuspid aortic valve (HP:0001647); excluded: Aortic root aneurysm (HP:0002616); excluded: Patent ductus arteriosus (HP:0001643); excluded: Ventricular hypertrophy (HP:0001714); excluded: Ventricular septal defect (HP:0001629); excluded: Anteverted ears (HP:0040080); excluded: Hypermetropia (HP:0000540); excluded: Hypertelorism (HP:0000316); excluded: Nystagmus (HP:0000639); excluded: Cataract (HP:0000518); excluded: Astigmatism (HP:0000483); excluded: Retinal coloboma (HP:0000480); excluded: Iris coloboma (HP:0000612); excluded: Recurrent respiratory infections (HP:0002205); excluded: Unilateral renal agenesis (HP:0000122); excluded: Pectus carinatum (HP:0000768); excluded: Syndactyly (HP:0001159); excluded: Tracheomalacia (HP:0002779); excluded: Increased nuchal translucency (HP:0010880)</td></tr>\n",
       "<tr><td style=\"text-align: left;\">Case 2 (MALE; P13Y)</td><td style=\"text-align: left;\">Thrombocytopenia 11 with multiple congenital anomalies and dysmorphic facies (OMIM:620654)</td><td style=\"text-align: left;\">NM_001010942.3:c.178G>C (heterozygous)</td><td style=\"text-align: left;\"><b>P11Y</b>: Leukopenia (HP:0001882)<br/>Thrombocytopenia (HP:0001873); Unilateral renal agenesis (HP:0000122); Inguinal hernia (HP:0000023); Long philtrum (HP:0000343); Thin upper lip vermilion (HP:0000219); Secondary microcephaly (HP:0005484); Ventricular septal defect (HP:0001629); Intellectual disability, mild (HP:0001256); Gray matter heterotopia (HP:0002282); Cerebellar vermis hypoplasia (HP:0001320); Anteverted ears (HP:0040080); Low-set ears (HP:0000369); Posteriorly rotated ears (HP:0000358); Hypermetropia (HP:0000540); Hypertelorism (HP:0000316); Astigmatism (HP:0000483); excluded: Lymphopenia (HP:0001888); excluded: Pancytopenia (HP:0001876); excluded: Anemia (HP:0001903); excluded: Umbilical hernia (HP:0001537); excluded: Feeding difficulties (HP:0011968); excluded: Dental crowding (HP:0000678); excluded: Upslanted palpebral fissure (HP:0000582); excluded: Downslanted palpebral fissures (HP:0000494); excluded: Depressed nasal bridge (HP:0005280); excluded: Short palpebral fissure (HP:0012745); excluded: Prominent nasal bridge (HP:0000426); excluded: High palate (HP:0000218); excluded: Bulbous nose (HP:0000414); excluded: Epicanthus (HP:0000286); excluded: Open mouth (HP:0000194); excluded: Smooth philtrum (HP:0000319); excluded: Micrognathia (HP:0000347); excluded: Midface retrusion (HP:0011800); excluded: Hypoplasia of teeth (HP:0000685); excluded: Retrognathia (HP:0000278); excluded: Sparse eyebrow (HP:0045075); excluded: Preauricular skin tag (HP:0000384); excluded: Pulmonic stenosis (HP:0001642); excluded: Bicuspid aortic valve (HP:0001647); excluded: Aortic root aneurysm (HP:0002616); excluded: Patent ductus arteriosus (HP:0001643); excluded: Ventricular hypertrophy (HP:0001714); excluded: Motor delay (HP:0001270); excluded: Delayed speech and language development (HP:0000750); excluded: Nystagmus (HP:0000639); excluded: Cataract (HP:0000518); excluded: Retinal coloboma (HP:0000480); excluded: Iris coloboma (HP:0000612); excluded: Recurrent otitis media (HP:0000403); excluded: Recurrent respiratory infections (HP:0002205); excluded: Short stature (HP:0004322); excluded: Brachydactyly (HP:0001156); excluded: Pectus carinatum (HP:0000768); excluded: Hip dysplasia (HP:0001385); excluded: Syndactyly (HP:0001159); excluded: Tracheomalacia (HP:0002779); excluded: Increased nuchal translucency (HP:0010880)</td></tr>\n",
       "<tr><td style=\"text-align: left;\">proband (MALE; P23Y)</td><td style=\"text-align: left;\">Thrombocytopenia 11 with multiple congenital anomalies and dysmorphic facies (OMIM:620654)</td><td style=\"text-align: left;\">NM_001010942.3:c.176C>G (heterozygous)</td><td style=\"text-align: left;\">Hypotonia (HP:0001252); Thrombocytopenia (HP:0001873); Anemia (HP:0001903); Feeding difficulties (HP:0011968); Short palpebral fissure (HP:0012745); Prominent nasal bridge (HP:0000426); Underdeveloped tragus (HP:0011272); High palate (HP:0000218); Midface retrusion (HP:0011800); Secondary microcephaly (HP:0005484); Bicuspid aortic valve (HP:0001647); Aortic root aneurysm (HP:0002616); Intellectual disability, mild (HP:0001256); Global developmental delay (HP:0001263); Motor delay (HP:0001270); Delayed speech and language development (HP:0000750); Cerebellar vermis hypoplasia (HP:0001320); Recurrent respiratory infections (HP:0002205); Brachydactyly (HP:0001156); Pectus carinatum (HP:0000768); Syndactyly (HP:0001159); Tracheomalacia (HP:0002779); excluded: Inguinal hernia (HP:0000023); excluded: Umbilical hernia (HP:0001537); excluded: Dental crowding (HP:0000678); excluded: Upslanted palpebral fissure (HP:0000582); excluded: Downslanted palpebral fissures (HP:0000494); excluded: Depressed nasal bridge (HP:0005280); excluded: Bulbous nose (HP:0000414); excluded: Epicanthus (HP:0000286); excluded: Open mouth (HP:0000194); excluded: Long philtrum (HP:0000343); excluded: Smooth philtrum (HP:0000319); excluded: Micrognathia (HP:0000347); excluded: Hypoplasia of teeth (HP:0000685); excluded: Thin upper lip vermilion (HP:0000219); excluded: Retrognathia (HP:0000278); excluded: Sparse eyebrow (HP:0045075); excluded: Preauricular skin tag (HP:0000384); excluded: Pulmonic stenosis (HP:0001642); excluded: Patent ductus arteriosus (HP:0001643); excluded: Ventricular hypertrophy (HP:0001714); excluded: Ventricular septal defect (HP:0001629); excluded: Anteverted ears (HP:0040080); excluded: Low-set ears (HP:0000369); excluded: Posteriorly rotated ears (HP:0000358); excluded: Hypermetropia (HP:0000540); excluded: Hypertelorism (HP:0000316); excluded: Nystagmus (HP:0000639); excluded: Cataract (HP:0000518); excluded: Astigmatism (HP:0000483); excluded: Retinal coloboma (HP:0000480); excluded: Iris coloboma (HP:0000612); excluded: Recurrent otitis media (HP:0000403); excluded: Increased nuchal translucency (HP:0010880)</td></tr>\n",
       "<tr><td style=\"text-align: left;\">Case 1 (FEMALE; P16Y)</td><td style=\"text-align: left;\">Thrombocytopenia 11 with multiple congenital anomalies and dysmorphic facies (OMIM:620654)</td><td style=\"text-align: left;\">NM_001010942.3:c.35G>A (heterozygous)</td><td style=\"text-align: left;\">Increased nuchal translucency (HP:0010880); Thrombocytopenia (HP:0001873); Lymphopenia (HP:0001888); Leukopenia (HP:0001882); Anemia (HP:0001903); Feeding difficulties (HP:0011968); Dental crowding (HP:0000678); Depressed nasal bridge (HP:0005280); Short palpebral fissure (HP:0012745); Bulbous nose (HP:0000414); Epicanthus (HP:0000286); Open mouth (HP:0000194); Long philtrum (HP:0000343); Smooth philtrum (HP:0000319); Micrognathia (HP:0000347); Sparse eyebrow (HP:0045075); Secondary microcephaly (HP:0005484); Pulmonic stenosis (HP:0001642); Aortic root aneurysm (HP:0002616); Patent ductus arteriosus (HP:0001643); Ventricular hypertrophy (HP:0001714); Ventriculomegaly (HP:0002119); Intellectual disability, mild (HP:0001256); Motor delay (HP:0001270); Delayed speech and language development (HP:0000750); Hippocampal malrotation (HP:0034396); Gray matter heterotopia (HP:0002282); Thin corpus callosum (HP:0033725); Low-set ears (HP:0000369); Nystagmus (HP:0000639); Cataract (HP:0000518); Retinal coloboma (HP:0000480); Iris coloboma (HP:0000612); Hypotonia (HP:0001252); excluded: Inguinal hernia (HP:0000023); excluded: Umbilical hernia (HP:0001537); excluded: Upslanted palpebral fissure (HP:0000582); excluded: Downslanted palpebral fissures (HP:0000494); excluded: Prominent nasal bridge (HP:0000426); excluded: High palate (HP:0000218); excluded: Midface retrusion (HP:0011800); excluded: Hypoplasia of teeth (HP:0000685); excluded: Thin upper lip vermilion (HP:0000219); excluded: Retrognathia (HP:0000278); excluded: Preauricular skin tag (HP:0000384); excluded: Bicuspid aortic valve (HP:0001647); excluded: Ventricular septal defect (HP:0001629); excluded: Anteverted ears (HP:0040080); excluded: Posteriorly rotated ears (HP:0000358); excluded: Hypermetropia (HP:0000540); excluded: Hypertelorism (HP:0000316); excluded: Astigmatism (HP:0000483); excluded: Pectus carinatum (HP:0000768)</td></tr>\n",
       "<tr><td style=\"text-align: left;\">Case 2 (MALE; P5Y)</td><td style=\"text-align: left;\">Thrombocytopenia 11 with multiple congenital anomalies and dysmorphic facies (OMIM:620654)</td><td style=\"text-align: left;\">NM_001010942.3:c.178G>A (heterozygous)</td><td style=\"text-align: left;\">Thrombocytopenia (HP:0001873); Umbilical hernia (HP:0001537); Upslanted palpebral fissure (HP:0000582); Retrognathia (HP:0000278); Delayed speech and language development (HP:0000750); Hypotonia (HP:0001252); excluded: Inguinal hernia (HP:0000023); excluded: Feeding difficulties (HP:0011968); excluded: Dental crowding (HP:0000678); excluded: Downslanted palpebral fissures (HP:0000494); excluded: Depressed nasal bridge (HP:0005280); excluded: Short palpebral fissure (HP:0012745); excluded: Prominent nasal bridge (HP:0000426); excluded: High palate (HP:0000218); excluded: Bulbous nose (HP:0000414); excluded: Epicanthus (HP:0000286); excluded: Open mouth (HP:0000194); excluded: Long philtrum (HP:0000343); excluded: Smooth philtrum (HP:0000319); excluded: Micrognathia (HP:0000347); excluded: Midface retrusion (HP:0011800); excluded: Hypoplasia of teeth (HP:0000685); excluded: Thin upper lip vermilion (HP:0000219); excluded: Sparse eyebrow (HP:0045075); excluded: Preauricular skin tag (HP:0000384); excluded: Ventricular septal defect (HP:0001629); excluded: Motor delay (HP:0001270); excluded: Anteverted ears (HP:0040080); excluded: Low-set ears (HP:0000369); excluded: Posteriorly rotated ears (HP:0000358); excluded: Hypermetropia (HP:0000540); excluded: Hypertelorism (HP:0000316); excluded: Nystagmus (HP:0000639); excluded: Cataract (HP:0000518); excluded: Astigmatism (HP:0000483); excluded: Retinal coloboma (HP:0000480); excluded: Iris coloboma (HP:0000612); excluded: Pectus carinatum (HP:0000768); excluded: Increased nuchal translucency (HP:0010880)</td></tr>\n",
       "</table>"
      ],
      "text/plain": [
       "<IPython.core.display.HTML object>"
      ]
     },
     "metadata": {},
     "output_type": "display_data"
    }
   ],
   "source": [
    "table = IndividualTable(cvalidator.get_error_free_individual_list())\n",
    "display(HTML(table.to_html()))"
   ]
  },
  {
   "cell_type": "code",
   "execution_count": 6,
   "id": "fc41363b-68c2-4449-8e67-1e992d880229",
   "metadata": {},
   "outputs": [
    {
     "name": "stdout",
     "output_type": "stream",
     "text": [
      "[pyphetools] Ingested 5 GA4GH phenopackets.\n",
      "\tThrombocytopenia 11 with multiple congenital anomalies and dysmorphic facies (OMIM:620654): n=5\n",
      "We found a total of 72 unique HPO terms\n",
      "Extracted disease: Thrombocytopenia 11 with multiple congenital anomalies and dysmorphic facies (OMIM:620654)\n",
      "Wrote HPOA disease file to OMIM-620654.tab\n"
     ]
    }
   ],
   "source": [
    "pmid = \"PMID:32627184\"\n",
    "df = timporter.create_hpoa_from_phenopackets(pmid=pmid, moi=\"Autosomal dominant\")"
   ]
  }
 ],
 "metadata": {
  "kernelspec": {
   "display_name": "Python 3 (ipykernel)",
   "language": "python",
   "name": "python3"
  },
  "language_info": {
   "codemirror_mode": {
    "name": "ipython",
    "version": 3
   },
   "file_extension": ".py",
   "mimetype": "text/x-python",
   "name": "python",
   "nbconvert_exporter": "python",
   "pygments_lexer": "ipython3",
   "version": "3.8.10"
  }
 },
 "nbformat": 4,
 "nbformat_minor": 5
}
