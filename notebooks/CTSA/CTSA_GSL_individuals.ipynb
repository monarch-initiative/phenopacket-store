{
 "cells": [
  {
   "cell_type": "markdown",
   "metadata": {},
   "source": [
    "# CTSA\n",
    "[galactosialidosis (GSL)](https://omim.org/entry/256540) is caused by homozygous or compound heterozygous mutation in the CTSA gene."
   ]
  },
  {
   "cell_type": "code",
   "execution_count": 3,
   "metadata": {},
   "outputs": [
    {
     "name": "stdout",
     "output_type": "stream",
     "text": [
      "Using pyphetools version 0.9.86\n"
     ]
    }
   ],
   "source": [
    "from pyphetools.creation import TemplateImporter\n",
    "from pyphetools.visualization import IndividualTable, QcVisualizer\n",
    "from IPython.display import display, HTML\n",
    "import pyphetools\n",
    "print(f\"Using pyphetools version {pyphetools.__version__}\")"
   ]
  },
  {
   "cell_type": "code",
   "execution_count": 5,
   "metadata": {},
   "outputs": [],
   "source": [
    "template = \"input/CTSA_GSL_individuals.xlsx\"\n",
    "created_by = \"0000-0002-0736-9199\"\n"
   ]
  },
  {
   "cell_type": "code",
   "execution_count": 6,
   "metadata": {},
   "outputs": [
    {
     "name": "stdout",
     "output_type": "stream",
     "text": [
      "HPO version 2024-04-26\n",
      "Created encoders for 42 fields\n",
      "Importing OMIM:256540, Galactosialidosis, HGNC:9251, CTSA,  NM_000308.4\n",
      "[INFO] encoding variant \"c.833_834del\"\n",
      "https://rest.variantvalidator.org/VariantValidator/variantvalidator/hg38/NM_000308.4%3Ac.833_834del/NM_000308.4?content-type=application%2Fjson\n",
      "[INFO] encoding variant \"c.745T>A\"\n",
      "https://rest.variantvalidator.org/VariantValidator/variantvalidator/hg38/NM_000308.4%3Ac.745T>A/NM_000308.4?content-type=application%2Fjson\n",
      "We output 1 GA4GH phenopackets to the directory phenopackets\n"
     ]
    }
   ],
   "source": [
    "timporter = TemplateImporter(template=template,  created_by=created_by)\n",
    "individual_list, cvalidator = timporter.import_phenopackets_from_template()"
   ]
  },
  {
   "cell_type": "code",
   "execution_count": 7,
   "metadata": {},
   "outputs": [
    {
     "data": {
      "text/html": [
       "<h2>Cohort validation</h2>\n",
       "<p>No errors found for the cohort with 1 individuals</p>"
      ],
      "text/plain": [
       "<IPython.core.display.HTML object>"
      ]
     },
     "metadata": {},
     "output_type": "display_data"
    }
   ],
   "source": [
    "qc = QcVisualizer(cohort_validator=cvalidator)\n",
    "display(HTML(qc.to_summary_html()))"
   ]
  },
  {
   "cell_type": "code",
   "execution_count": 8,
   "metadata": {},
   "outputs": [
    {
     "data": {
      "text/html": [
       "<table style=\"border: 2px solid black; align: \"left\">\n",
       "<caption>1 phenopacket - PMID:24769197 (n=1)</caption>\n",
       "<tr><th style=\"text-align: left;font-weight: bold;\">Individual</th><th style=\"text-align: left;font-weight: bold;\">Disease</th><th style=\"text-align: left;font-weight: bold;\">Genotype</th><th style=\"text-align: left;font-weight: bold;\">Phenotypic features</th></tr>\n",
       "<tr><td style=\"text-align: left;\">patient (FEMALE; P24Y)</td><td style=\"text-align: left;\">Galactosialidosis (OMIM:256540)</td><td style=\"text-align: left;\"><ul> <li>NM_000308.4:c.745T>A (heterozygous)</li> <li>NM_000308.4:c.833_834del (heterozygous)</li> </ul></td><td style=\"text-align: left;\">Dysostosis multiplex (HP:0000943); Coarse facial features (HP:0000280); Intellectual disability, mild (HP:0001256); Short palpebral fissure (HP:0012745); Short stature (HP:0004322); Conductive hearing impairment (HP:0000405); Aortic valve stenosis (HP:0001650); Hypertelorism (HP:0000316); Highly arched eyebrow (HP:0002553); Broad nasal tip (HP:0000455); Depressed nasal bridge (HP:0005280); Wide mouth (HP:0000154); Thick vermilion border (HP:0012471); Widely spaced teeth (HP:0000687); Short neck (HP:0000470); Pectus excavatum (HP:0000767); Kyphosis (HP:0002808); excluded: Cherry red spot of the macula (HP:0010729); excluded: Corneal opacity (HP:0007957); excluded: Hepatosplenomegaly (HP:0001433); excluded: Ataxia (HP:0001251); excluded: Angiokeratoma (HP:0001014); excluded: Aminoaciduria (HP:0003355)</td></tr>\n",
       "</table>"
      ],
      "text/plain": [
       "<IPython.core.display.HTML object>"
      ]
     },
     "metadata": {},
     "output_type": "display_data"
    }
   ],
   "source": [
    "table = IndividualTable(cvalidator.get_error_free_individual_list())\n",
    "display(HTML(table.to_html()))"
   ]
  }
 ],
 "metadata": {
  "kernelspec": {
   "display_name": "ps24venv",
   "language": "python",
   "name": "python3"
  },
  "language_info": {
   "codemirror_mode": {
    "name": "ipython",
    "version": 3
   },
   "file_extension": ".py",
   "mimetype": "text/x-python",
   "name": "python",
   "nbconvert_exporter": "python",
   "pygments_lexer": "ipython3",
   "version": "3.9.6"
  }
 },
 "nbformat": 4,
 "nbformat_minor": 2
}
