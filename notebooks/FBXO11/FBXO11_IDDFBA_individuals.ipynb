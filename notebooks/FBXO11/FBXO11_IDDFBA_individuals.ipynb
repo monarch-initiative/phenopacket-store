{
 "cells": [
  {
   "cell_type": "markdown",
   "metadata": {},
   "source": [
    "# FBXO11\n",
    "[intellectual developmental disorder with dysmorphic facies and behavioral abnormalities (IDDFBA)]() is caused by heterozygous mutation in the FBXO11 gene."
   ]
  },
  {
   "cell_type": "code",
   "execution_count": 13,
   "metadata": {},
   "outputs": [
    {
     "name": "stdout",
     "output_type": "stream",
     "text": [
      "Using pyphetools version 0.9.91\n"
     ]
    }
   ],
   "source": [
    "from pyphetools.creation import TemplateImporter\n",
    "from pyphetools.visualization import IndividualTable, QcVisualizer\n",
    "from IPython.display import display, HTML\n",
    "import pyphetools\n",
    "print(f\"Using pyphetools version {pyphetools.__version__}\")"
   ]
  },
  {
   "cell_type": "code",
   "execution_count": 14,
   "metadata": {},
   "outputs": [],
   "source": [
    "template = \"input/FBXO11_IDDFBA_individuals.xlsx\"\n",
    "created_by = \"0000-0002-0736-9199\""
   ]
  },
  {
   "cell_type": "code",
   "execution_count": 19,
   "metadata": {},
   "outputs": [
    {
     "name": "stdout",
     "output_type": "stream",
     "text": [
      "HPO version 2024-04-26\n",
      "Created encoders for 150 fields\n",
      "Importing OMIM:618089, Intellectual developmental disorder with dysmorphic facies and behavioral abnormalities, HGNC:13590, FBXO11,  NM_001190274.2\n",
      "[INFO] encoding variant \"c.1260+1G>C\"\n",
      "https://rest.variantvalidator.org/VariantValidator/variantvalidator/hg38/NM_001190274.2%3Ac.1260+1G>C/NM_001190274.2?content-type=application%2Fjson\n",
      "Removed 20 individuals with unfixable errors\n",
      "We output 0 GA4GH phenopackets to the directory phenopackets\n"
     ]
    }
   ],
   "source": [
    "del_set = {\"deletion plus 3 genes\",\"deletion exons 1-18\"}\n",
    "\n",
    "timporter = TemplateImporter(template=template,  created_by=created_by)\n",
    "individual_list, cvalidator = timporter.import_phenopackets_from_template(deletions=del_set)"
   ]
  },
  {
   "cell_type": "code",
   "execution_count": null,
   "metadata": {},
   "outputs": [],
   "source": []
  }
 ],
 "metadata": {
  "kernelspec": {
   "display_name": "ps24venv",
   "language": "python",
   "name": "python3"
  },
  "language_info": {
   "codemirror_mode": {
    "name": "ipython",
    "version": 3
   },
   "file_extension": ".py",
   "mimetype": "text/x-python",
   "name": "python",
   "nbconvert_exporter": "python",
   "pygments_lexer": "ipython3",
   "version": "3.9.6"
  }
 },
 "nbformat": 4,
 "nbformat_minor": 2
}
