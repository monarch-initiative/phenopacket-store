{
 "cells": [
  {
   "cell_type": "markdown",
   "metadata": {},
   "source": [
    "# PRTHD1\n",
    "[Neurodevelopmental disorder with early-onset parkinsonism and behavioral abnormalities (NEDPBA)]() is caused by homozygous mutation in the PTRHD1 gene."
   ]
  },
  {
   "cell_type": "code",
   "execution_count": 3,
   "metadata": {},
   "outputs": [
    {
     "name": "stdout",
     "output_type": "stream",
     "text": [
      "Using pyphetools version 0.9.94\n"
     ]
    }
   ],
   "source": [
    "from pyphetools.creation import TemplateImporter, Moi\n",
    "from pyphetools.visualization import IndividualTable, QcVisualizer\n",
    "from IPython.display import display, HTML\n",
    "import pyphetools\n",
    "print(f\"Using pyphetools version {pyphetools.__version__}\")"
   ]
  },
  {
   "cell_type": "code",
   "execution_count": 4,
   "metadata": {},
   "outputs": [],
   "source": [
    "template = \"input/PRTHD1_NEDPBA_individuals.xlsx\"\n",
    "created_by = \"0000-0002-0736-9199\""
   ]
  },
  {
   "cell_type": "code",
   "execution_count": 7,
   "metadata": {},
   "outputs": [
    {
     "name": "stdout",
     "output_type": "stream",
     "text": [
      "HPO version 2024-07-01\n",
      "Created encoders for 49 fields\n",
      "Importing OMIM:620747, Neurodevelopmental disorder with early-onset parkinsonism and behavioral abnormalities, HGNC:33782, PRTHD1,  NM_001013663.2\n",
      "[INFO] encoding variant \"c.169_196del\"\n",
      "https://rest.variantvalidator.org/VariantValidator/variantvalidator/hg38/NM_001013663.2%3Ac.169_196del/NM_001013663.2?content-type=application%2Fjson\n",
      "[INFO] encoding variant \"c.155G>A\"\n",
      "https://rest.variantvalidator.org/VariantValidator/variantvalidator/hg38/NM_001013663.2%3Ac.155G>A/NM_001013663.2?content-type=application%2Fjson\n",
      "[INFO] encoding variant \"c.157C>T\"\n",
      "https://rest.variantvalidator.org/VariantValidator/variantvalidator/hg38/NM_001013663.2%3Ac.157C>T/NM_001013663.2?content-type=application%2Fjson\n",
      "We output 7 GA4GH phenopackets to the directory phenopackets\n"
     ]
    }
   ],
   "source": [
    "timporter = TemplateImporter(template=template,  created_by=created_by)\n",
    "individual_list, cvalidator = timporter.import_phenopackets_from_template()"
   ]
  },
  {
   "cell_type": "code",
   "execution_count": 8,
   "metadata": {},
   "outputs": [
    {
     "data": {
      "text/html": [
       "<h2>Cohort validation</h2>\n",
       "<p>Errors found with 2 of 7 phenopackets.</p>\n",
       "<table style=\"border: 2px solid black; align: \"left\">\n",
       "<caption>Error counts</caption>\n",
       "<tr><th style=\"text-align: left;font-weight: bold;\">Level</th><th style=\"text-align: left;font-weight: bold;\">Error category</th><th style=\"text-align: left;font-weight: bold;\">Count</th></tr>\n",
       "<tr><td style=\"text-align: left;\">WARNING</td><td style=\"text-align: left;\">REDUNDANT</td><td style=\"text-align: left;\">2</td></tr>\n",
       "</table>\n",
       "<p>A total of 2 issues were fixed and no individual was removed from the cohort.</p>"
      ],
      "text/plain": [
       "<IPython.core.display.HTML object>"
      ]
     },
     "metadata": {},
     "output_type": "display_data"
    }
   ],
   "source": [
    "qc = QcVisualizer(cohort_validator=cvalidator)\n",
    "display(HTML(qc.to_summary_html()))"
   ]
  },
  {
   "cell_type": "code",
   "execution_count": 9,
   "metadata": {},
   "outputs": [
    {
     "data": {
      "text/html": [
       "<table style=\"border: 2px solid black; align: \"left\">\n",
       "<caption>7 phenopackets - PMID:27134041 (n=2); PMID:27753167 (n=2); PMID:30398675 (n=3)</caption>\n",
       "<tr><th style=\"text-align: left;font-weight: bold;\">Individual</th><th style=\"text-align: left;font-weight: bold;\">Disease</th><th style=\"text-align: left;font-weight: bold;\">Genotype</th><th style=\"text-align: left;font-weight: bold;\">Phenotypic features</th></tr>\n",
       "<tr><td style=\"text-align: left;\">PD-102-1 (MALE; P34Y)</td><td style=\"text-align: left;\">Neurodevelopmental disorder with early-onset parkinsonism and behavioral abnormalities (OMIM:620747)</td><td style=\"text-align: left;\">NM_001013663.2:c.155G>A (homozygous)</td><td style=\"text-align: left;\">Global developmental delay (HP:0001263); Parkinsonism (HP:0001300); Dysarthria (HP:0001260); Hypersexuality (HP:0030214); Bradykinesia (HP:0002067); Intellectual disability (HP:0001249); Restlessness (HP:0000711); Short attention span (HP:0000736); Resting tremor (HP:0002322); Babinski sign (HP:0003487); Anxiety (HP:0000739); Hyperreflexia (HP:0001347); Sensory axonal neuropathy (HP:0003390); Postural instability (HP:0002172); Freezing of gait (HP:0031825); Distal lower limb amyotrophy (HP:0008944); Foot dorsiflexor weakness (HP:0009027); excluded: Dysphagia (HP:0002015); excluded: Depression (HP:0000716); excluded: Slow saccadic eye movements (HP:0000514); excluded: Bruxism (HP:0003763); excluded: Postural tremor (HP:0002174); excluded: Hypersomnia (HP:0100786); excluded: Seizure (HP:0001250)</td></tr>\n",
       "<tr><td style=\"text-align: left;\">PD-102-2 (MALE; P30Y)</td><td style=\"text-align: left;\">Neurodevelopmental disorder with early-onset parkinsonism and behavioral abnormalities (OMIM:620747)</td><td style=\"text-align: left;\">NM_001013663.2:c.155G>A (homozygous)</td><td style=\"text-align: left;\">Global developmental delay (HP:0001263); Dysarthria (HP:0001260); Dysphagia (HP:0002015); Slow saccadic eye movements (HP:0000514); Bradykinesia (HP:0002067); Gait disturbance (HP:0001288); Intellectual disability (HP:0001249); Resting tremor (HP:0002322); Babinski sign (HP:0003487); Hyperreflexia (HP:0001347); Sensory axonal neuropathy (HP:0003390); Parkinsonism (HP:0001300); Postural instability (HP:0002172); excluded: Depression (HP:0000716); excluded: Hypersexuality (HP:0030214); excluded: Bruxism (HP:0003763); excluded: Postural tremor (HP:0002174); excluded: Anxiety (HP:0000739); excluded: Hypersomnia (HP:0100786); excluded: Seizure (HP:0001250)</td></tr>\n",
       "<tr><td style=\"text-align: left;\">proband II-I (MALE; P39Y)</td><td style=\"text-align: left;\">Neurodevelopmental disorder with early-onset parkinsonism and behavioral abnormalities (OMIM:620747)</td><td style=\"text-align: left;\">NM_001013663.2:c.157C>T (homozygous)</td><td style=\"text-align: left;\">Intellectual disability (HP:0001249); Dysarthria (HP:0001260); Hypersexuality (HP:0030214); Restlessness (HP:0000711); Postural tremor (HP:0002174); Resting tremor (HP:0002322); Babinski sign (HP:0003487); Anxiety (HP:0000739); Hypersomnia (HP:0100786); Mask-like facies (HP:0000298); Hyperreflexia (HP:0001347); Sensory axonal neuropathy (HP:0003390); Parkinsonism (HP:0001300); Cogwheel rigidity (HP:0002396); Froment sign (HP:0032121); Shuffling gait (HP:0002362); Postural instability (HP:0002172); Spasticity (HP:0001257); Distal lower limb amyotrophy (HP:0008944); excluded: Depression (HP:0000716); excluded: Bruxism (HP:0003763); excluded: Seizure (HP:0001250)</td></tr>\n",
       "<tr><td style=\"text-align: left;\">proband II-2 (MALE; P37Y)</td><td style=\"text-align: left;\">Neurodevelopmental disorder with early-onset parkinsonism and behavioral abnormalities (OMIM:620747)</td><td style=\"text-align: left;\">NM_001013663.2:c.157C>T (homozygous)</td><td style=\"text-align: left;\">Dysarthria (HP:0001260); Depression (HP:0000716); Hypersexuality (HP:0030214); Gait disturbance (HP:0001288); Intellectual disability (HP:0001249); Postural tremor (HP:0002174); Resting tremor (HP:0002322); Anxiety (HP:0000739); Hypersomnia (HP:0100786); Sensory axonal neuropathy (HP:0003390); Parkinsonism (HP:0001300); Postural instability (HP:0002172); excluded: Bruxism (HP:0003763); excluded: Seizure (HP:0001250)</td></tr>\n",
       "<tr><td style=\"text-align: left;\">Proband III-1 (FEMALE; P26Y)</td><td style=\"text-align: left;\">Neurodevelopmental disorder with early-onset parkinsonism and behavioral abnormalities (OMIM:620747)</td><td style=\"text-align: left;\">NM_001013663.2:c.169_196del (homozygous)</td><td style=\"text-align: left;\">Gait disturbance (HP:0001288); Global developmental delay (HP:0001263); Bruxism (HP:0003763); Resting tremor (HP:0002322); Hyperreflexia (HP:0001347); Parkinsonism (HP:0001300); excluded: Postural tremor (HP:0002174); excluded: Hypersomnia (HP:0100786); excluded: Seizure (HP:0001250)</td></tr>\n",
       "<tr><td style=\"text-align: left;\">Proband III-2 (FEMALE; P29Y)</td><td style=\"text-align: left;\">Neurodevelopmental disorder with early-onset parkinsonism and behavioral abnormalities (OMIM:620747)</td><td style=\"text-align: left;\">NM_001013663.2:c.169_196del (homozygous)</td><td style=\"text-align: left;\"><b>P7Y</b>: Seizure (HP:0001250)<br/>Gait disturbance (HP:0001288); Global developmental delay (HP:0001263); Postural tremor (HP:0002174); Resting tremor (HP:0002322); Hyperreflexia (HP:0001347); Parkinsonism (HP:0001300); Cogwheel rigidity (HP:0002396)</td></tr>\n",
       "<tr><td style=\"text-align: left;\">half aunt II-3 (FEMALE; P44Y)</td><td style=\"text-align: left;\">Neurodevelopmental disorder with early-onset parkinsonism and behavioral abnormalities (OMIM:620747)</td><td style=\"text-align: left;\">NM_001013663.2:c.169_196del (homozygous)</td><td style=\"text-align: left;\">Bradykinesia (HP:0002067); Gait disturbance (HP:0001288); Mask-like facies (HP:0000298); Cogwheel rigidity (HP:0002396); excluded: Postural tremor (HP:0002174); excluded: Resting tremor (HP:0002322); excluded: Babinski sign (HP:0003487); excluded: Hyperreflexia (HP:0001347); excluded: Seizure (HP:0001250)</td></tr>\n",
       "</table>"
      ],
      "text/plain": [
       "<IPython.core.display.HTML object>"
      ]
     },
     "metadata": {},
     "output_type": "display_data"
    }
   ],
   "source": [
    "table = IndividualTable(cvalidator.get_error_free_individual_list())\n",
    "display(HTML(table.to_html()))"
   ]
  },
  {
   "cell_type": "code",
   "execution_count": 10,
   "metadata": {},
   "outputs": [
    {
     "name": "stdout",
     "output_type": "stream",
     "text": [
      "[pyphetools] Ingested 7 GA4GH phenopackets.\n",
      "[INFO] Extracted 7 from 7 phenopackets with OMIM:620747\n",
      "\n",
      "\tNeurodevelopmental disorder with early-onset parkinsonism and behavioral abnormalities (OMIM:620747): n=7\n",
      "We found a total of 30 unique HPO terms\n",
      "Extracted disease: Neurodevelopmental disorder with early-onset parkinsonism and behavioral abnormalities (OMIM:620747)\n",
      "Wrote HPOA disease file to OMIM-620747.tab\n"
     ]
    },
    {
     "data": {
      "text/html": [
       "<div>\n",
       "<style scoped>\n",
       "    .dataframe tbody tr th:only-of-type {\n",
       "        vertical-align: middle;\n",
       "    }\n",
       "\n",
       "    .dataframe tbody tr th {\n",
       "        vertical-align: top;\n",
       "    }\n",
       "\n",
       "    .dataframe thead th {\n",
       "        text-align: right;\n",
       "    }\n",
       "</style>\n",
       "<table border=\"1\" class=\"dataframe\">\n",
       "  <thead>\n",
       "    <tr style=\"text-align: right;\">\n",
       "      <th></th>\n",
       "      <th>#diseaseID</th>\n",
       "      <th>diseaseName</th>\n",
       "      <th>phenotypeID</th>\n",
       "      <th>phenotypeName</th>\n",
       "      <th>onsetID</th>\n",
       "      <th>onsetName</th>\n",
       "      <th>frequency</th>\n",
       "      <th>sex</th>\n",
       "      <th>negation</th>\n",
       "      <th>modifier</th>\n",
       "      <th>description</th>\n",
       "      <th>publication</th>\n",
       "      <th>evidence</th>\n",
       "      <th>biocuration</th>\n",
       "    </tr>\n",
       "  </thead>\n",
       "  <tbody>\n",
       "    <tr>\n",
       "      <th>0</th>\n",
       "      <td>OMIM:620747</td>\n",
       "      <td>Neurodevelopmental disorder with early-onset p...</td>\n",
       "      <td>HP:0001288</td>\n",
       "      <td>Gait disturbance</td>\n",
       "      <td></td>\n",
       "      <td></td>\n",
       "      <td>3/3</td>\n",
       "      <td></td>\n",
       "      <td></td>\n",
       "      <td></td>\n",
       "      <td></td>\n",
       "      <td>PMID:30398675</td>\n",
       "      <td>PCS</td>\n",
       "      <td>ORCID:0000-0002-0736-9199[2024-07-21]</td>\n",
       "    </tr>\n",
       "    <tr>\n",
       "      <th>1</th>\n",
       "      <td>OMIM:620747</td>\n",
       "      <td>Neurodevelopmental disorder with early-onset p...</td>\n",
       "      <td>HP:0001263</td>\n",
       "      <td>Global developmental delay</td>\n",
       "      <td></td>\n",
       "      <td></td>\n",
       "      <td>2/2</td>\n",
       "      <td></td>\n",
       "      <td></td>\n",
       "      <td></td>\n",
       "      <td></td>\n",
       "      <td>PMID:30398675</td>\n",
       "      <td>PCS</td>\n",
       "      <td>ORCID:0000-0002-0736-9199[2024-07-21]</td>\n",
       "    </tr>\n",
       "    <tr>\n",
       "      <th>2</th>\n",
       "      <td>OMIM:620747</td>\n",
       "      <td>Neurodevelopmental disorder with early-onset p...</td>\n",
       "      <td>HP:0003763</td>\n",
       "      <td>Bruxism</td>\n",
       "      <td></td>\n",
       "      <td></td>\n",
       "      <td>1/1</td>\n",
       "      <td></td>\n",
       "      <td></td>\n",
       "      <td></td>\n",
       "      <td></td>\n",
       "      <td>PMID:30398675</td>\n",
       "      <td>PCS</td>\n",
       "      <td>ORCID:0000-0002-0736-9199[2024-07-21]</td>\n",
       "    </tr>\n",
       "    <tr>\n",
       "      <th>3</th>\n",
       "      <td>OMIM:620747</td>\n",
       "      <td>Neurodevelopmental disorder with early-onset p...</td>\n",
       "      <td>HP:0002322</td>\n",
       "      <td>Resting tremor</td>\n",
       "      <td></td>\n",
       "      <td></td>\n",
       "      <td>2/3</td>\n",
       "      <td></td>\n",
       "      <td></td>\n",
       "      <td></td>\n",
       "      <td></td>\n",
       "      <td>PMID:30398675</td>\n",
       "      <td>PCS</td>\n",
       "      <td>ORCID:0000-0002-0736-9199[2024-07-21]</td>\n",
       "    </tr>\n",
       "    <tr>\n",
       "      <th>4</th>\n",
       "      <td>OMIM:620747</td>\n",
       "      <td>Neurodevelopmental disorder with early-onset p...</td>\n",
       "      <td>HP:0001347</td>\n",
       "      <td>Hyperreflexia</td>\n",
       "      <td></td>\n",
       "      <td></td>\n",
       "      <td>2/3</td>\n",
       "      <td></td>\n",
       "      <td></td>\n",
       "      <td></td>\n",
       "      <td></td>\n",
       "      <td>PMID:30398675</td>\n",
       "      <td>PCS</td>\n",
       "      <td>ORCID:0000-0002-0736-9199[2024-07-21]</td>\n",
       "    </tr>\n",
       "  </tbody>\n",
       "</table>\n",
       "</div>"
      ],
      "text/plain": [
       "    #diseaseID  ...                            biocuration\n",
       "0  OMIM:620747  ...  ORCID:0000-0002-0736-9199[2024-07-21]\n",
       "1  OMIM:620747  ...  ORCID:0000-0002-0736-9199[2024-07-21]\n",
       "2  OMIM:620747  ...  ORCID:0000-0002-0736-9199[2024-07-21]\n",
       "3  OMIM:620747  ...  ORCID:0000-0002-0736-9199[2024-07-21]\n",
       "4  OMIM:620747  ...  ORCID:0000-0002-0736-9199[2024-07-21]\n",
       "\n",
       "[5 rows x 14 columns]"
      ]
     },
     "execution_count": 10,
     "metadata": {},
     "output_type": "execute_result"
    }
   ],
   "source": [
    "pmid = \"PMID:27134041\"\n",
    "df = timporter.create_hpoa_from_phenopackets(pmid=pmid, mode_of_inheritance=Moi.AR, target=\"OMIM:620747\")\n",
    "df.head()"
   ]
  },
  {
   "cell_type": "code",
   "execution_count": null,
   "metadata": {},
   "outputs": [],
   "source": []
  }
 ],
 "metadata": {
  "kernelspec": {
   "display_name": "ps24venv",
   "language": "python",
   "name": "python3"
  },
  "language_info": {
   "codemirror_mode": {
    "name": "ipython",
    "version": 3
   },
   "file_extension": ".py",
   "mimetype": "text/x-python",
   "name": "python",
   "nbconvert_exporter": "python",
   "pygments_lexer": "ipython3",
   "version": "3.9.6"
  }
 },
 "nbformat": 4,
 "nbformat_minor": 2
}
