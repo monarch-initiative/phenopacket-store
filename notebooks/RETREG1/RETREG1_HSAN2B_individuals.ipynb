{
 "cells": [
  {
   "cell_type": "markdown",
   "metadata": {},
   "source": [
    "# RETREG1\n",
    "[hereditary sensory and autonomic neuropathy type IIB (HSAN2B)](https://omim.org/entry/613115) is caused by homozygous mutation in the FAM134B gene (RETREG1)."
   ]
  },
  {
   "cell_type": "code",
   "execution_count": 1,
   "metadata": {},
   "outputs": [
    {
     "name": "stdout",
     "output_type": "stream",
     "text": [
      "Using pyphetools version 0.9.91\n"
     ]
    },
    {
     "name": "stderr",
     "output_type": "stream",
     "text": [
      "/Users/robin/GIT/phenopacket-store/ps24venv/lib/python3.9/site-packages/urllib3/__init__.py:35: NotOpenSSLWarning: urllib3 v2 only supports OpenSSL 1.1.1+, currently the 'ssl' module is compiled with 'LibreSSL 2.8.3'. See: https://github.com/urllib3/urllib3/issues/3020\n",
      "  warnings.warn(\n"
     ]
    }
   ],
   "source": [
    "from pyphetools.creation import TemplateImporter\n",
    "from pyphetools.visualization import IndividualTable, QcVisualizer\n",
    "from IPython.display import display, HTML\n",
    "import pyphetools\n",
    "print(f\"Using pyphetools version {pyphetools.__version__}\")"
   ]
  },
  {
   "cell_type": "code",
   "execution_count": 2,
   "metadata": {},
   "outputs": [],
   "source": [
    "template = \"input/RETREG1_HSAN2B_individuals.xlsx\"\n",
    "created_by = \"0000-0002-0736-9199\""
   ]
  },
  {
   "cell_type": "code",
   "execution_count": 3,
   "metadata": {},
   "outputs": [
    {
     "name": "stdout",
     "output_type": "stream",
     "text": [
      "HPO version 2024-04-26\n",
      "Created encoders for 35 fields\n",
      "Importing OMIM:613115, Neuropathy, hereditary sensory and autonomic, type IIB, HGNC:25964, RETREG1,  NM_001034850.3\n",
      "We output 4 GA4GH phenopackets to the directory phenopackets\n"
     ]
    }
   ],
   "source": [
    "timporter = TemplateImporter(template=template,  created_by=created_by)\n",
    "individual_list, cvalidator = timporter.import_phenopackets_from_template()"
   ]
  },
  {
   "cell_type": "code",
   "execution_count": 4,
   "metadata": {},
   "outputs": [
    {
     "data": {
      "text/html": [
       "<h2>Cohort validation</h2>\n",
       "<p>Errors found with 3 of 4 phenopackets.</p>\n",
       "<table style=\"border: 2px solid black; align: \"left\">\n",
       "<caption>Error counts</caption>\n",
       "<tr><th style=\"text-align: left;font-weight: bold;\">Level</th><th style=\"text-align: left;font-weight: bold;\">Error category</th><th style=\"text-align: left;font-weight: bold;\">Count</th></tr>\n",
       "<tr><td style=\"text-align: left;\">WARNING</td><td style=\"text-align: left;\">REDUNDANT</td><td style=\"text-align: left;\">3</td></tr>\n",
       "</table>\n",
       "<p>A total of 3 issues were fixed and no individual was removed from the cohort.</p>"
      ],
      "text/plain": [
       "<IPython.core.display.HTML object>"
      ]
     },
     "metadata": {},
     "output_type": "display_data"
    }
   ],
   "source": [
    "qc = QcVisualizer(cohort_validator=cvalidator)\n",
    "display(HTML(qc.to_summary_html()))"
   ]
  },
  {
   "cell_type": "code",
   "execution_count": 5,
   "metadata": {},
   "outputs": [
    {
     "data": {
      "text/html": [
       "<table style=\"border: 2px solid black; align: \"left\">\n",
       "<caption>4 phenopackets - PMID:30643655 (n=4)</caption>\n",
       "<tr><th style=\"text-align: left;font-weight: bold;\">Individual</th><th style=\"text-align: left;font-weight: bold;\">Disease</th><th style=\"text-align: left;font-weight: bold;\">Genotype</th><th style=\"text-align: left;font-weight: bold;\">Phenotypic features</th></tr>\n",
       "<tr><td style=\"text-align: left;\">F1:IV:1 (FEMALE; P10Y)</td><td style=\"text-align: left;\">Neuropathy, hereditary sensory and autonomic, type IIB (OMIM:613115)</td><td style=\"text-align: left;\">NM_001034850.3:c.926C>G (homozygous)</td><td style=\"text-align: left;\">Scissor gait (HP:0012407); Frequent falls (HP:0002359); Lower limb muscle weakness (HP:0007340); Distal sensory impairment (HP:0002936); Hyperactive deep tendon reflexes (HP:0006801); Peripheral axonal neuropathy (HP:0003477); Acral ulceration (HP:0006121); Acroosteolysis of distal phalanges (feet) (HP:0001870); Delayed ability to walk (HP:0031936)</td></tr>\n",
       "<tr><td style=\"text-align: left;\">F1:IV:2 (FEMALE; P28Y)</td><td style=\"text-align: left;\">Neuropathy, hereditary sensory and autonomic, type IIB (OMIM:613115)</td><td style=\"text-align: left;\">NM_001034850.3:c.926C>G (homozygous)</td><td style=\"text-align: left;\">Scissor gait (HP:0012407); Frequent falls (HP:0002359); Lower limb muscle weakness (HP:0007340); Distal sensory impairment (HP:0002936); Hyperactive deep tendon reflexes (HP:0006801); Peripheral axonal neuropathy (HP:0003477); Acral ulceration (HP:0006121); Acroosteolysis of distal phalanges (feet) (HP:0001870); excluded: Delayed ability to walk (HP:0031936)</td></tr>\n",
       "<tr><td style=\"text-align: left;\">F1:IV:3 (MALE; P23Y)</td><td style=\"text-align: left;\">Neuropathy, hereditary sensory and autonomic, type IIB (OMIM:613115)</td><td style=\"text-align: left;\">NM_001034850.3:c.926C>G (homozygous)</td><td style=\"text-align: left;\">Scissor gait (HP:0012407); Frequent falls (HP:0002359); Lower limb muscle weakness (HP:0007340); Distal sensory impairment (HP:0002936); Hyperactive deep tendon reflexes (HP:0006801); Peripheral axonal neuropathy (HP:0003477); Acral ulceration (HP:0006121); Acroosteolysis of distal phalanges (feet) (HP:0001870); Delayed ability to walk (HP:0031936)</td></tr>\n",
       "<tr><td style=\"text-align: left;\">F2:IV:1 (MALE; P10Y)</td><td style=\"text-align: left;\">Neuropathy, hereditary sensory and autonomic, type IIB (OMIM:613115)</td><td style=\"text-align: left;\">NM_001034850.3:c.926C>G (homozygous)</td><td style=\"text-align: left;\"><b>P4Y</b>: Frequent falls (HP:0002359)<br/>Hyperactive deep tendon reflexes (HP:0006801); Spasticity (HP:0001257); Peripheral axonal neuropathy (HP:0003477); Acral ulceration (HP:0006121); excluded: Distal sensory impairment (HP:0002936); excluded: Delayed ability to walk (HP:0031936); excluded: Babinski sign (HP:0003487)</td></tr>\n",
       "</table>"
      ],
      "text/plain": [
       "<IPython.core.display.HTML object>"
      ]
     },
     "metadata": {},
     "output_type": "display_data"
    }
   ],
   "source": [
    "table = IndividualTable(cvalidator.get_error_free_individual_list())\n",
    "display(HTML(table.to_html()))"
   ]
  },
  {
   "cell_type": "code",
   "execution_count": 6,
   "metadata": {},
   "outputs": [
    {
     "name": "stdout",
     "output_type": "stream",
     "text": [
      "[pyphetools] Ingested 4 GA4GH phenopackets.\n",
      "[INFO] Extracted 4 from 4 phenopackets with OMIM:613115\n",
      "\n",
      "\tNeuropathy, hereditary sensory and autonomic, type IIB (OMIM:613115): n=4\n",
      "We found a total of 11 unique HPO terms\n",
      "Extracted disease: Neuropathy, hereditary sensory and autonomic, type IIB (OMIM:613115)\n",
      "Wrote HPOA disease file to OMIM-613115.tab\n"
     ]
    }
   ],
   "source": [
    "pmid = \"PMID:30643655\"\n",
    "df = timporter.create_hpoa_from_phenopackets(pmid=pmid, moi=\"Autosomal recessive\", target=\"OMIM:613115\")"
   ]
  }
 ],
 "metadata": {
  "kernelspec": {
   "display_name": "ps24venv",
   "language": "python",
   "name": "python3"
  },
  "language_info": {
   "codemirror_mode": {
    "name": "ipython",
    "version": 3
   },
   "file_extension": ".py",
   "mimetype": "text/x-python",
   "name": "python",
   "nbconvert_exporter": "python",
   "pygments_lexer": "ipython3",
   "version": "3.9.6"
  }
 },
 "nbformat": 4,
 "nbformat_minor": 2
}
