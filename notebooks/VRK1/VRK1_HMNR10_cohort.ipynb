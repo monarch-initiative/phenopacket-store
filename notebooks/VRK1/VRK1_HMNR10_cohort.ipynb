{
 "cells": [
  {
   "cell_type": "markdown",
   "id": "d6964d08-b3b1-4356-b5fa-c7ed4e0b78f0",
   "metadata": {},
   "source": [
    "# VRK1 HMNR10 cohort\n",
    "Pathogenic variants in VRK1 are associated with Neuronopathy, distal hereditary motor, autosomal recessive 10 \t[OMIM:620542](https://omim.org/entry/620542)"
   ]
  },
  {
   "cell_type": "code",
   "execution_count": 1,
   "id": "4ee00c41-bbab-4fca-a54e-d753f242fa08",
   "metadata": {},
   "outputs": [
    {
     "name": "stdout",
     "output_type": "stream",
     "text": [
      "Using pyphetools version 0.9.71\n"
     ]
    }
   ],
   "source": [
    "from pyphetools.creation import TemplateImporter\n",
    "from pyphetools.visualization import IndividualTable, QcVisualizer\n",
    "from IPython.display import display, HTML\n",
    "import pyphetools\n",
    "print(f\"Using pyphetools version {pyphetools.__version__}\")"
   ]
  },
  {
   "cell_type": "code",
   "execution_count": 2,
   "id": "ae847b01-1fd5-41b7-99fa-cf06b391f73f",
   "metadata": {},
   "outputs": [],
   "source": [
    "template = \"input/VRK1_individuals.xlsx\"\n",
    "hp_json = \"../hp.json\"\n",
    "created_by = \"0000-0002-0736-9199\""
   ]
  },
  {
   "cell_type": "code",
   "execution_count": 4,
   "id": "e48f165b-53c4-41f1-8b9a-ff09a3c95858",
   "metadata": {},
   "outputs": [
    {
     "name": "stdout",
     "output_type": "stream",
     "text": [
      "HPO version 2024-03-06\n",
      "Created encoders for 40 fields\n",
      "Importing OMIM:620542, Neuronopathy, distal hereditary motor, autosomal recessive 10, HGNC:12718, VRK1,  NM_003384.3\n",
      "We output 8 GA4GH phenopackets to the directory phenopackets\n"
     ]
    }
   ],
   "source": [
    "timporter = TemplateImporter(template=template, hp_json=hp_json, created_by=created_by)\n",
    "individual_list, cvalidator = timporter.import_phenopackets_from_template()"
   ]
  },
  {
   "cell_type": "code",
   "execution_count": 5,
   "id": "160ca559-3c11-44aa-ae65-b1dccc2659d8",
   "metadata": {},
   "outputs": [
    {
     "data": {
      "text/html": [
       "<h2>Cohort validation</h2>\n",
       "<p>Errors found with 7 of 8 phenopackets.</p>\n",
       "<table style=\"border: 2px solid black; align: \"left\">\n",
       "<caption>Error counts</caption>\n",
       "<tr><th style=\"text-align: left;font-weight: bold;\">Level</th><th style=\"text-align: left;font-weight: bold;\">Error category</th><th style=\"text-align: left;font-weight: bold;\">Count</th></tr>\n",
       "<tr><td style=\"text-align: left;\">WARNING</td><td style=\"text-align: left;\">REDUNDANT</td><td style=\"text-align: left;\">8</td></tr>\n",
       "</table>\n",
       "<p>A total of 8 issues were fixed and no individual was removed from the cohort.</p>"
      ],
      "text/plain": [
       "<IPython.core.display.HTML object>"
      ]
     },
     "metadata": {},
     "output_type": "display_data"
    }
   ],
   "source": [
    "qc = QcVisualizer(cohort_validator=cvalidator)\n",
    "display(HTML(qc.to_summary_html()))"
   ]
  },
  {
   "cell_type": "code",
   "execution_count": 6,
   "id": "8cf5ae2c-df21-4ac4-878a-2426d989bdda",
   "metadata": {},
   "outputs": [
    {
     "data": {
      "text/html": [
       "<table style=\"border: 2px solid black; align: \"left\">\n",
       "<caption>8 phenopackets - PMID:24126608 (n=3); PMID:30847374 (n=1); PMID:31837156 (n=2); PMID:31090908 (n=2)</caption>\n",
       "<tr><th style=\"text-align: left;font-weight: bold;\">Individual</th><th style=\"text-align: left;font-weight: bold;\">Disease</th><th style=\"text-align: left;font-weight: bold;\">Genotype</th><th style=\"text-align: left;font-weight: bold;\">Phenotypic features</th></tr>\n",
       "<tr><td style=\"text-align: left;\">BAB3022 (FEMALE; P10Y)</td><td style=\"text-align: left;\">Neuronopathy, distal hereditary motor, autosomal recessive 10 (OMIM:620542)</td><td style=\"text-align: left;\"><ul> <li>NM_003384.3:c.706G>A (heterozygous)</li> <li>NM_003384.3:c.266G>A (heterozygous)</li> </ul></td><td style=\"text-align: left;\"><b>P1Y6M</b>: Motor delay (HP:0001270)<br/>Microcephaly (HP:0000252); Scoliosis (HP:0002650); Hypotonia (HP:0001252); Skeletal muscle atrophy (HP:0003202); Proximal muscle weakness (HP:0003701); Distal muscle weakness (HP:0002460); Simplified gyral pattern (HP:0009879); Motor axonal neuropathy (HP:0007002); Sensory axonal neuropathy (HP:0003390); Hyporeflexia (HP:0001265); Decreased number of peripheral myelinated nerve fibers (HP:0003380); Increased variability in muscle fiber diameter (HP:0003557); Increased endomysial connective tissue (HP:0100297); excluded: Nystagmus (HP:0000639); excluded: Hyperreflexia (HP:0001347); excluded: Babinski sign (HP:0003487); excluded: Hypoplasia of the pons (HP:0012110); excluded: Cerebellar hypoplasia (HP:0001321); excluded: Hammertoe (HP:0001765)</td></tr>\n",
       "<tr><td style=\"text-align: left;\">BAB3280 (FEMALE; P2Y)</td><td style=\"text-align: left;\">Neuronopathy, distal hereditary motor, autosomal recessive 10 (OMIM:620542)</td><td style=\"text-align: left;\"><ul> <li>NM_003384.3:c.706G>A (heterozygous)</li> <li>NM_003384.3:c.266G>A (heterozygous)</li> </ul></td><td style=\"text-align: left;\">Microcephaly (HP:0000252); Delayed ability to roll over (HP:0032989); Delayed ability to sit (HP:0025336); Hypotonia (HP:0001252); Simplified gyral pattern (HP:0009879); Motor axonal neuropathy (HP:0007002); Sensory axonal neuropathy (HP:0003390); Hyporeflexia (HP:0001265); excluded: Scoliosis (HP:0002650); excluded: Skeletal muscle atrophy (HP:0003202); excluded: Proximal muscle weakness (HP:0003701); excluded: Distal muscle weakness (HP:0002460); excluded: Nystagmus (HP:0000639); excluded: Hyperreflexia (HP:0001347); excluded: Babinski sign (HP:0003487); excluded: Hypoplasia of the pons (HP:0012110); excluded: Cerebellar hypoplasia (HP:0001321); excluded: Hammertoe (HP:0001765)</td></tr>\n",
       "<tr><td style=\"text-align: left;\">BAB5311 (MALE; P9Y)</td><td style=\"text-align: left;\">Neuronopathy, distal hereditary motor, autosomal recessive 10 (OMIM:620542)</td><td style=\"text-align: left;\">NM_003384.3:c.1072C>T (homozygous)</td><td style=\"text-align: left;\"><b>P4M</b>: Motor delay (HP:0001270)<br/>Microcephaly (HP:0000252); Scoliosis (HP:0002650); Hypotonia (HP:0001252); Skeletal muscle atrophy (HP:0003202); Proximal muscle weakness (HP:0003701); Distal muscle weakness (HP:0002460); Simplified gyral pattern (HP:0009879); Motor axonal neuropathy (HP:0007002); Sensory axonal neuropathy (HP:0003390); Hyporeflexia (HP:0001265); excluded: Delayed ability to sit (HP:0025336); excluded: Hyperreflexia (HP:0001347); excluded: Babinski sign (HP:0003487); excluded: Hypoplasia of the pons (HP:0012110); excluded: Cerebellar hypoplasia (HP:0001321); excluded: Hammertoe (HP:0001765)</td></tr>\n",
       "<tr><td style=\"text-align: left;\">V-1 (MALE; P37Y)</td><td style=\"text-align: left;\">Neuronopathy, distal hereditary motor, autosomal recessive 10 (OMIM:620542)</td><td style=\"text-align: left;\">NM_003384.3:c.1124G>A (homozygous)</td><td style=\"text-align: left;\">Pes cavus (HP:0001761); Skeletal muscle atrophy (HP:0003202); Distal muscle weakness (HP:0002460); Motor axonal neuropathy (HP:0007002); Hyporeflexia (HP:0001265); excluded: Microcephaly (HP:0000252); excluded: Delayed ability to roll over (HP:0032989); excluded: Delayed ability to sit (HP:0025336); excluded: Scoliosis (HP:0002650); excluded: Proximal muscle weakness (HP:0003701); excluded: Simplified gyral pattern (HP:0009879); excluded: Sensory axonal neuropathy (HP:0003390); excluded: Hyperreflexia (HP:0001347); excluded: Babinski sign (HP:0003487); excluded: Hypoplasia of the pons (HP:0012110); excluded: Cerebellar hypoplasia (HP:0001321); excluded: Hammertoe (HP:0001765)</td></tr>\n",
       "<tr><td style=\"text-align: left;\">Patient 1 (MALE; P61Y)</td><td style=\"text-align: left;\">Neuronopathy, distal hereditary motor, autosomal recessive 10 (OMIM:620542)</td><td style=\"text-align: left;\">NM_003384.3:c.1160G>A (homozygous)</td><td style=\"text-align: left;\">Hypotonia (HP:0001252); Skeletal muscle atrophy (HP:0003202); Distal muscle weakness (HP:0002460); Hyporeflexia (HP:0001265); excluded: Microcephaly (HP:0000252); excluded: Delayed ability to roll over (HP:0032989); excluded: Delayed ability to sit (HP:0025336); excluded: Scoliosis (HP:0002650); excluded: Proximal muscle weakness (HP:0003701); excluded: Simplified gyral pattern (HP:0009879); excluded: Hyperreflexia (HP:0001347); excluded: Pes cavus (HP:0001761); excluded: Babinski sign (HP:0003487); excluded: Hypoplasia of the pons (HP:0012110); excluded: Cerebellar hypoplasia (HP:0001321); excluded: Hammertoe (HP:0001765); excluded: Elevated circulating creatine kinase concentration (HP:0003236)</td></tr>\n",
       "<tr><td style=\"text-align: left;\">Patient 2 (MALE; P54Y)</td><td style=\"text-align: left;\">Neuronopathy, distal hereditary motor, autosomal recessive 10 (OMIM:620542)</td><td style=\"text-align: left;\">NM_003384.3:c.1160G>A (homozygous)</td><td style=\"text-align: left;\">Pes cavus (HP:0001761); Hammertoe (HP:0001765); Skeletal muscle atrophy (HP:0003202); Distal muscle weakness (HP:0002460); Hyporeflexia (HP:0001265); excluded: Microcephaly (HP:0000252); excluded: Delayed ability to roll over (HP:0032989); excluded: Delayed ability to sit (HP:0025336); excluded: Scoliosis (HP:0002650); excluded: Proximal muscle weakness (HP:0003701); excluded: Simplified gyral pattern (HP:0009879); excluded: Hyperreflexia (HP:0001347); excluded: Babinski sign (HP:0003487); excluded: Hypoplasia of the pons (HP:0012110); excluded: Cerebellar hypoplasia (HP:0001321); excluded: Elevated circulating creatine kinase concentration (HP:0003236)</td></tr>\n",
       "<tr><td style=\"text-align: left;\">II.2 (FEMALE; P47Y)</td><td style=\"text-align: left;\">Neuronopathy, distal hereditary motor, autosomal recessive 10 (OMIM:620542)</td><td style=\"text-align: left;\"><ul> <li>NM_003384.3:c.656G>T (heterozygous)</li> <li>NM_003384.3:c.761G>T (heterozygous)</li> </ul></td><td style=\"text-align: left;\">Skeletal muscle atrophy (HP:0003202); Distal muscle weakness (HP:0002460); Motor axonal neuropathy (HP:0007002); Hyperreflexia (HP:0001347); Babinski sign (HP:0003487); excluded: Microcephaly (HP:0000252); excluded: Delayed ability to roll over (HP:0032989); excluded: Delayed ability to sit (HP:0025336); excluded: Scoliosis (HP:0002650); excluded: Hypotonia (HP:0001252); excluded: Proximal muscle weakness (HP:0003701); excluded: Sensory axonal neuropathy (HP:0003390); excluded: Hyporeflexia (HP:0001265); excluded: Hypoplasia of the pons (HP:0012110); excluded: Cerebellar hypoplasia (HP:0001321); excluded: Hammertoe (HP:0001765)</td></tr>\n",
       "<tr><td style=\"text-align: left;\">II.3 (MALE; P38Y)</td><td style=\"text-align: left;\">Neuronopathy, distal hereditary motor, autosomal recessive 10 (OMIM:620542)</td><td style=\"text-align: left;\"><ul> <li>NM_003384.3:c.656G>T (heterozygous)</li> <li>NM_003384.3:c.761G>T (heterozygous)</li> </ul></td><td style=\"text-align: left;\">Skeletal muscle atrophy (HP:0003202); Distal muscle weakness (HP:0002460); Motor axonal neuropathy (HP:0007002); Hyperreflexia (HP:0001347); Babinski sign (HP:0003487); excluded: Microcephaly (HP:0000252); excluded: Delayed ability to roll over (HP:0032989); excluded: Delayed ability to sit (HP:0025336); excluded: Scoliosis (HP:0002650); excluded: Hypotonia (HP:0001252); excluded: Proximal muscle weakness (HP:0003701); excluded: Simplified gyral pattern (HP:0009879); excluded: Sensory axonal neuropathy (HP:0003390); excluded: Hyporeflexia (HP:0001265); excluded: Hypoplasia of the pons (HP:0012110); excluded: Cerebellar hypoplasia (HP:0001321); excluded: Hammertoe (HP:0001765)</td></tr>\n",
       "</table>"
      ],
      "text/plain": [
       "<IPython.core.display.HTML object>"
      ]
     },
     "metadata": {},
     "output_type": "display_data"
    }
   ],
   "source": [
    "table = IndividualTable(cvalidator.get_error_free_individual_list())\n",
    "display(HTML(table.to_html()))"
   ]
  },
  {
   "cell_type": "code",
   "execution_count": 7,
   "id": "28cc3698-6702-4d61-92de-6fabf10a37d9",
   "metadata": {},
   "outputs": [
    {
     "name": "stdout",
     "output_type": "stream",
     "text": [
      "[pyphetools] Ingested 8 GA4GH phenopackets.\n",
      "\tNeuronopathy, distal hereditary motor, autosomal recessive 10 (OMIM:620542): n=8\n",
      "We found a total of 24 unique HPO terms\n",
      "Extracted disease: Neuronopathy, distal hereditary motor, autosomal recessive 10 (OMIM:620542)\n",
      "Wrote HPOA disease file to OMIM-620542.tab\n"
     ]
    }
   ],
   "source": [
    "pmid = \"PMID:24126608\"\n",
    "df = timporter.create_hpoa_from_phenopackets(pmid=pmid, moi=\"Autosomal recessive\")"
   ]
  },
  {
   "cell_type": "code",
   "execution_count": null,
   "id": "2606410c-5b07-42b8-86ff-142918353960",
   "metadata": {},
   "outputs": [],
   "source": []
  }
 ],
 "metadata": {
  "kernelspec": {
   "display_name": "Python 3 (ipykernel)",
   "language": "python",
   "name": "python3"
  },
  "language_info": {
   "codemirror_mode": {
    "name": "ipython",
    "version": 3
   },
   "file_extension": ".py",
   "mimetype": "text/x-python",
   "name": "python",
   "nbconvert_exporter": "python",
   "pygments_lexer": "ipython3",
   "version": "3.8.10"
  }
 },
 "nbformat": 4,
 "nbformat_minor": 5
}
