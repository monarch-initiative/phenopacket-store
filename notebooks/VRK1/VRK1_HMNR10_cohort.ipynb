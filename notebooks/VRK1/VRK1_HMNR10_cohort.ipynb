{
 "cells": [
  {
   "cell_type": "markdown",
   "id": "d6964d08-b3b1-4356-b5fa-c7ed4e0b78f0",
   "metadata": {},
   "source": [
    "# VRK1 HMNR10 cohort\n",
    "Pathogenic variants in VRK1 are associated with Neuronopathy, distal hereditary motor, autosomal recessive 10 \t[OMIM:620542](https://omim.org/entry/620542)"
   ]
  },
  {
   "cell_type": "code",
   "execution_count": 1,
   "id": "4ee00c41-bbab-4fca-a54e-d753f242fa08",
   "metadata": {},
   "outputs": [
    {
     "name": "stdout",
     "output_type": "stream",
     "text": [
      "Using pyphetools version 0.9.56\n"
     ]
    }
   ],
   "source": [
    "import pandas as pd\n",
    "from IPython.display import display, HTML\n",
    "pd.set_option('display.max_colwidth', None) # show entire column contents, important!\n",
    "from collections import defaultdict\n",
    "from pyphetools.creation import *\n",
    "from pyphetools.visualization import *\n",
    "from pyphetools.validation import *\n",
    "import pyphetools\n",
    "print(f\"Using pyphetools version {pyphetools.__version__}\")"
   ]
  },
  {
   "cell_type": "code",
   "execution_count": 2,
   "id": "ae847b01-1fd5-41b7-99fa-cf06b391f73f",
   "metadata": {},
   "outputs": [
    {
     "name": "stdout",
     "output_type": "stream",
     "text": [
      "HPO version 2024-02-27\n"
     ]
    }
   ],
   "source": [
    "parser = HpoParser(hpo_json_file=\"../hp.json\")\n",
    "hpo_cr = parser.get_hpo_concept_recognizer()\n",
    "hpo_version = parser.get_version()\n",
    "hpo_ontology = parser.get_ontology()\n",
    "created_by=\"ORCID:0000-0002-0736-9199\"\n",
    "print(f\"HPO version {hpo_version}\")"
   ]
  },
  {
   "cell_type": "code",
   "execution_count": 3,
   "id": "e48f165b-53c4-41f1-8b9a-ff09a3c95858",
   "metadata": {},
   "outputs": [
    {
     "data": {
      "text/html": [
       "<div>\n",
       "<style scoped>\n",
       "    .dataframe tbody tr th:only-of-type {\n",
       "        vertical-align: middle;\n",
       "    }\n",
       "\n",
       "    .dataframe tbody tr th {\n",
       "        vertical-align: top;\n",
       "    }\n",
       "\n",
       "    .dataframe thead th {\n",
       "        text-align: right;\n",
       "    }\n",
       "</style>\n",
       "<table border=\"1\" class=\"dataframe\">\n",
       "  <thead>\n",
       "    <tr style=\"text-align: right;\">\n",
       "      <th></th>\n",
       "      <th>PMID</th>\n",
       "      <th>title</th>\n",
       "      <th>individual_id</th>\n",
       "      <th>comment</th>\n",
       "      <th>disease_id</th>\n",
       "      <th>disease_label</th>\n",
       "      <th>transcript</th>\n",
       "      <th>allele_1</th>\n",
       "      <th>allele_2</th>\n",
       "      <th>variant.comment</th>\n",
       "      <th>...</th>\n",
       "      <th>Hyporeflexia</th>\n",
       "      <th>Decreased number of peripheral myelinated nerve fibers</th>\n",
       "      <th>Increased variability in muscle fiber diameter</th>\n",
       "      <th>Increased endomysial connective tissue</th>\n",
       "      <th>Pes cavus</th>\n",
       "      <th>Babinski sign</th>\n",
       "      <th>Hypoplasia of the pons</th>\n",
       "      <th>Cerebellar hypoplasia</th>\n",
       "      <th>Hammertoe</th>\n",
       "      <th>Elevated circulating creatine kinase concentration</th>\n",
       "    </tr>\n",
       "  </thead>\n",
       "  <tbody>\n",
       "    <tr>\n",
       "      <th>0</th>\n",
       "      <td>str</td>\n",
       "      <td>str</td>\n",
       "      <td>str</td>\n",
       "      <td>optional str</td>\n",
       "      <td>str</td>\n",
       "      <td>str</td>\n",
       "      <td>str</td>\n",
       "      <td>str</td>\n",
       "      <td>str</td>\n",
       "      <td>optional str</td>\n",
       "      <td>...</td>\n",
       "      <td>HP:0001265</td>\n",
       "      <td>HP:0003380</td>\n",
       "      <td>HP:0003557</td>\n",
       "      <td>HP:0100297</td>\n",
       "      <td>HP:0001761</td>\n",
       "      <td>HP:0003487</td>\n",
       "      <td>HP:0012110</td>\n",
       "      <td>HP:0001321</td>\n",
       "      <td>HP:0001765</td>\n",
       "      <td>HP:0003236</td>\n",
       "    </tr>\n",
       "    <tr>\n",
       "      <th>1</th>\n",
       "      <td>PMID:24126608</td>\n",
       "      <td>Mutations in VRK1 associated with complex motor and sensory axonal neuropathy plus microcephaly</td>\n",
       "      <td>BAB3022</td>\n",
       "      <td>NaN</td>\n",
       "      <td>OMIM:620542</td>\n",
       "      <td>Neuronopathy, distal hereditary motor, autosomal recessive 10</td>\n",
       "      <td>NM_003384.3</td>\n",
       "      <td>c.706G&gt;A</td>\n",
       "      <td>c.266G&gt;A</td>\n",
       "      <td>NM_003384.3:c.706G&gt;A=V236M;NM_003384.3:c.266G&gt;A=R89Q</td>\n",
       "      <td>...</td>\n",
       "      <td>observed</td>\n",
       "      <td>observed</td>\n",
       "      <td>observed</td>\n",
       "      <td>observed</td>\n",
       "      <td>na</td>\n",
       "      <td>excluded</td>\n",
       "      <td>excluded</td>\n",
       "      <td>excluded</td>\n",
       "      <td>excluded</td>\n",
       "      <td>na</td>\n",
       "    </tr>\n",
       "  </tbody>\n",
       "</table>\n",
       "<p>2 rows × 38 columns</p>\n",
       "</div>"
      ],
      "text/plain": [
       "            PMID  \\\n",
       "0            str   \n",
       "1  PMID:24126608   \n",
       "\n",
       "                                                                                             title  \\\n",
       "0                                                                                              str   \n",
       "1  Mutations in VRK1 associated with complex motor and sensory axonal neuropathy plus microcephaly   \n",
       "\n",
       "  individual_id       comment   disease_id  \\\n",
       "0           str  optional str          str   \n",
       "1       BAB3022           NaN  OMIM:620542   \n",
       "\n",
       "                                                   disease_label   transcript  \\\n",
       "0                                                            str          str   \n",
       "1  Neuronopathy, distal hereditary motor, autosomal recessive 10  NM_003384.3   \n",
       "\n",
       "   allele_1  allele_2                                       variant.comment  \\\n",
       "0       str       str                                          optional str   \n",
       "1  c.706G>A  c.266G>A  NM_003384.3:c.706G>A=V236M;NM_003384.3:c.266G>A=R89Q   \n",
       "\n",
       "   ... Hyporeflexia Decreased number of peripheral myelinated nerve fibers  \\\n",
       "0  ...   HP:0001265                                             HP:0003380   \n",
       "1  ...     observed                                               observed   \n",
       "\n",
       "  Increased variability in muscle fiber diameter  \\\n",
       "0                                     HP:0003557   \n",
       "1                                       observed   \n",
       "\n",
       "  Increased endomysial connective tissue   Pes cavus Babinski sign  \\\n",
       "0                             HP:0100297  HP:0001761    HP:0003487   \n",
       "1                               observed          na      excluded   \n",
       "\n",
       "  Hypoplasia of the pons Cerebellar hypoplasia   Hammertoe  \\\n",
       "0             HP:0012110            HP:0001321  HP:0001765   \n",
       "1               excluded              excluded    excluded   \n",
       "\n",
       "  Elevated circulating creatine kinase concentration  \n",
       "0                                         HP:0003236  \n",
       "1                                                 na  \n",
       "\n",
       "[2 rows x 38 columns]"
      ]
     },
     "execution_count": 3,
     "metadata": {},
     "output_type": "execute_result"
    }
   ],
   "source": [
    "df = pd.read_excel(\"input/VRK1_individuals.xlsx\")\n",
    "df.head(2)"
   ]
  },
  {
   "cell_type": "code",
   "execution_count": 4,
   "id": "160ca559-3c11-44aa-ae65-b1dccc2659d8",
   "metadata": {},
   "outputs": [
    {
     "name": "stdout",
     "output_type": "stream",
     "text": [
      "Created encoders for 38 fields\n"
     ]
    }
   ],
   "source": [
    "encoder = CaseTemplateEncoder(df=df, hpo_cr=hpo_cr, created_by=created_by)\n",
    "individuals = encoder.get_individuals()"
   ]
  },
  {
   "cell_type": "code",
   "execution_count": 5,
   "id": "8cf5ae2c-df21-4ac4-878a-2426d989bdda",
   "metadata": {},
   "outputs": [
    {
     "name": "stdout",
     "output_type": "stream",
     "text": [
      "[INFO] encoding variant \"c.761G>T\"\n",
      "https://rest.variantvalidator.org/VariantValidator/variantvalidator/hg38/NM_003384.3%3Ac.761G>T/NM_003384.3?content-type=application%2Fjson\n",
      "[INFO] encoding variant \"c.1124G>A\"\n",
      "https://rest.variantvalidator.org/VariantValidator/variantvalidator/hg38/NM_003384.3%3Ac.1124G>A/NM_003384.3?content-type=application%2Fjson\n",
      "[INFO] encoding variant \"c.1160G>A\"\n",
      "https://rest.variantvalidator.org/VariantValidator/variantvalidator/hg38/NM_003384.3%3Ac.1160G>A/NM_003384.3?content-type=application%2Fjson\n",
      "[INFO] encoding variant \"c.656G>T\"\n",
      "https://rest.variantvalidator.org/VariantValidator/variantvalidator/hg38/NM_003384.3%3Ac.656G>T/NM_003384.3?content-type=application%2Fjson\n"
     ]
    }
   ],
   "source": [
    "VRK1_template = \"NM_003384.3\"\n",
    "vmanager = VariantManager(df=df,\n",
    "                          individual_column_name=\"individual_id\",\n",
    "                          gene_symbol=\"VRK1\",\n",
    "                          transcript=VRK1_template,\n",
    "                          allele_1_column_name=\"allele_1\",\n",
    "                          allele_2_column_name=\"allele_2\")"
   ]
  },
  {
   "cell_type": "code",
   "execution_count": 6,
   "id": "18c3a930-6de9-4e16-806a-1bc86e783eb6",
   "metadata": {},
   "outputs": [
    {
     "data": {
      "text/html": [
       "<div>\n",
       "<style scoped>\n",
       "    .dataframe tbody tr th:only-of-type {\n",
       "        vertical-align: middle;\n",
       "    }\n",
       "\n",
       "    .dataframe tbody tr th {\n",
       "        vertical-align: top;\n",
       "    }\n",
       "\n",
       "    .dataframe thead th {\n",
       "        text-align: right;\n",
       "    }\n",
       "</style>\n",
       "<table border=\"1\" class=\"dataframe\">\n",
       "  <thead>\n",
       "    <tr style=\"text-align: right;\">\n",
       "      <th></th>\n",
       "      <th>status</th>\n",
       "      <th>count</th>\n",
       "      <th>alleles</th>\n",
       "    </tr>\n",
       "  </thead>\n",
       "  <tbody>\n",
       "    <tr>\n",
       "      <th>0</th>\n",
       "      <td>mapped</td>\n",
       "      <td>7</td>\n",
       "      <td>c.1072C&gt;T, c.266G&gt;A, c.706G&gt;A, c.761G&gt;T, c.1124G&gt;A, c.1160G&gt;A, c.656G&gt;T</td>\n",
       "    </tr>\n",
       "    <tr>\n",
       "      <th>1</th>\n",
       "      <td>unmapped</td>\n",
       "      <td>0</td>\n",
       "      <td></td>\n",
       "    </tr>\n",
       "  </tbody>\n",
       "</table>\n",
       "</div>"
      ],
      "text/plain": [
       "     status  count  \\\n",
       "0    mapped      7   \n",
       "1  unmapped      0   \n",
       "\n",
       "                                                                   alleles  \n",
       "0  c.1072C>T, c.266G>A, c.706G>A, c.761G>T, c.1124G>A, c.1160G>A, c.656G>T  \n",
       "1                                                                           "
      ]
     },
     "execution_count": 6,
     "metadata": {},
     "output_type": "execute_result"
    }
   ],
   "source": [
    "vmanager.to_summary()"
   ]
  },
  {
   "cell_type": "code",
   "execution_count": 7,
   "id": "16cc153d-1431-43b8-9c65-c7029c0c243d",
   "metadata": {},
   "outputs": [],
   "source": [
    "vmanager.add_variants_to_individuals(individuals)"
   ]
  },
  {
   "cell_type": "code",
   "execution_count": 8,
   "id": "bd56596a-de6b-47de-ae0d-5ecb8d5d29f1",
   "metadata": {},
   "outputs": [
    {
     "data": {
      "text/html": [
       "<h2>Cohort validation</h2>\n",
       "<p>Errors found with 7 of 8 phenopackets.</p>\n",
       "<table style=\"border: 2px solid black; align: \"left\">\n",
       "<caption>Error counts</caption>\n",
       "<tr><th style=\"text-align: left;font-weight: bold;\">Level</th><th style=\"text-align: left;font-weight: bold;\">Error category</th><th style=\"text-align: left;font-weight: bold;\">Count</th></tr>\n",
       "<tr><td style=\"text-align: left;\">WARNING</td><td style=\"text-align: left;\">REDUNDANT</td><td style=\"text-align: left;\">8</td></tr>\n",
       "</table>\n",
       "<p>A total of 8 issues were fixed and no individual was removed from the cohort.</p>"
      ],
      "text/plain": [
       "<IPython.core.display.HTML object>"
      ]
     },
     "metadata": {},
     "output_type": "display_data"
    }
   ],
   "source": [
    "cvalidator = CohortValidator(cohort=individuals, ontology=hpo_ontology, min_hpo=1,\n",
    "                                allelic_requirement=AllelicRequirement.BI_ALLELIC)\n",
    "qc = QcVisualizer(cohort_validator=cvalidator)\n",
    "display(HTML(qc.to_summary_html()))"
   ]
  },
  {
   "cell_type": "code",
   "execution_count": 9,
   "id": "d2a3041a-56ee-4a18-8892-81a630577be2",
   "metadata": {},
   "outputs": [
    {
     "data": {
      "text/html": [
       "<table style=\"border: 2px solid black; align: \"left\">\n",
       "<caption>8 phenopackets - PMID:24126608 (n=3); PMID:30847374 (n=1); PMID:31837156 (n=2); PMID:31090908 (n=2)</caption>\n",
       "<tr><th style=\"text-align: left;font-weight: bold;\">Individual</th><th style=\"text-align: left;font-weight: bold;\">Disease</th><th style=\"text-align: left;font-weight: bold;\">Genotype</th><th style=\"text-align: left;font-weight: bold;\">Phenotypic features</th></tr>\n",
       "<tr><td style=\"text-align: left;\">BAB3022 (FEMALE; P10Y)</td><td style=\"text-align: left;\">Neuronopathy, distal hereditary motor, autosomal recessive 10 (OMIM:620542)</td><td style=\"text-align: left;\"><ul> <li>NM_003384.3:c.706G>A (heterozygous)</li> <li>NM_003384.3:c.266G>A (heterozygous)</li> </ul></td><td style=\"text-align: left;\"><b>P1Y6M</b>: Motor delay (HP:0001270)<br/>Microcephaly (HP:0000252); Scoliosis (HP:0002650); Hypotonia (HP:0001252); Skeletal muscle atrophy (HP:0003202); Proximal muscle weakness (HP:0003701); Distal muscle weakness (HP:0002460); Simplified gyral pattern (HP:0009879); Motor axonal neuropathy (HP:0007002); Sensory axonal neuropathy (HP:0003390); Hyporeflexia (HP:0001265); Decreased number of peripheral myelinated nerve fibers (HP:0003380); Increased variability in muscle fiber diameter (HP:0003557); Increased endomysial connective tissue (HP:0100297); excluded: Nystagmus (HP:0000639); excluded: Hyperreflexia (HP:0001347); excluded: Babinski sign (HP:0003487); excluded: Hypoplasia of the pons (HP:0012110); excluded: Cerebellar hypoplasia (HP:0001321); excluded: Hammertoe (HP:0001765)</td></tr>\n",
       "<tr><td style=\"text-align: left;\">BAB3280 (FEMALE; P2Y)</td><td style=\"text-align: left;\">Neuronopathy, distal hereditary motor, autosomal recessive 10 (OMIM:620542)</td><td style=\"text-align: left;\"><ul> <li>NM_003384.3:c.706G>A (heterozygous)</li> <li>NM_003384.3:c.266G>A (heterozygous)</li> </ul></td><td style=\"text-align: left;\">Microcephaly (HP:0000252); Delayed ability to roll over (HP:0032989); Delayed ability to sit (HP:0025336); Hypotonia (HP:0001252); Simplified gyral pattern (HP:0009879); Motor axonal neuropathy (HP:0007002); Sensory axonal neuropathy (HP:0003390); Hyporeflexia (HP:0001265); excluded: Scoliosis (HP:0002650); excluded: Skeletal muscle atrophy (HP:0003202); excluded: Proximal muscle weakness (HP:0003701); excluded: Distal muscle weakness (HP:0002460); excluded: Nystagmus (HP:0000639); excluded: Hyperreflexia (HP:0001347); excluded: Babinski sign (HP:0003487); excluded: Hypoplasia of the pons (HP:0012110); excluded: Cerebellar hypoplasia (HP:0001321); excluded: Hammertoe (HP:0001765)</td></tr>\n",
       "<tr><td style=\"text-align: left;\">BAB5311 (MALE; P9Y)</td><td style=\"text-align: left;\">Neuronopathy, distal hereditary motor, autosomal recessive 10 (OMIM:620542)</td><td style=\"text-align: left;\">NM_003384.3:c.1072C>T (homozygous)</td><td style=\"text-align: left;\"><b>P4M</b>: Motor delay (HP:0001270)<br/>Microcephaly (HP:0000252); Scoliosis (HP:0002650); Hypotonia (HP:0001252); Skeletal muscle atrophy (HP:0003202); Proximal muscle weakness (HP:0003701); Distal muscle weakness (HP:0002460); Simplified gyral pattern (HP:0009879); Motor axonal neuropathy (HP:0007002); Sensory axonal neuropathy (HP:0003390); Hyporeflexia (HP:0001265); excluded: Delayed ability to sit (HP:0025336); excluded: Hyperreflexia (HP:0001347); excluded: Babinski sign (HP:0003487); excluded: Hypoplasia of the pons (HP:0012110); excluded: Cerebellar hypoplasia (HP:0001321); excluded: Hammertoe (HP:0001765)</td></tr>\n",
       "<tr><td style=\"text-align: left;\">V-1 (MALE; P37Y)</td><td style=\"text-align: left;\">Neuronopathy, distal hereditary motor, autosomal recessive 10 (OMIM:620542)</td><td style=\"text-align: left;\">NM_003384.3:c.1124G>A (homozygous)</td><td style=\"text-align: left;\">Pes cavus (HP:0001761); Skeletal muscle atrophy (HP:0003202); Distal muscle weakness (HP:0002460); Motor axonal neuropathy (HP:0007002); Hyporeflexia (HP:0001265); excluded: Microcephaly (HP:0000252); excluded: Delayed ability to roll over (HP:0032989); excluded: Delayed ability to sit (HP:0025336); excluded: Scoliosis (HP:0002650); excluded: Proximal muscle weakness (HP:0003701); excluded: Simplified gyral pattern (HP:0009879); excluded: Sensory axonal neuropathy (HP:0003390); excluded: Hyperreflexia (HP:0001347); excluded: Babinski sign (HP:0003487); excluded: Hypoplasia of the pons (HP:0012110); excluded: Cerebellar hypoplasia (HP:0001321); excluded: Hammertoe (HP:0001765)</td></tr>\n",
       "<tr><td style=\"text-align: left;\">Patient 1 (MALE; P61Y)</td><td style=\"text-align: left;\">Neuronopathy, distal hereditary motor, autosomal recessive 10 (OMIM:620542)</td><td style=\"text-align: left;\">NM_003384.3:c.1160G>A (homozygous)</td><td style=\"text-align: left;\">Hypotonia (HP:0001252); Skeletal muscle atrophy (HP:0003202); Distal muscle weakness (HP:0002460); Hyporeflexia (HP:0001265); excluded: Microcephaly (HP:0000252); excluded: Delayed ability to roll over (HP:0032989); excluded: Delayed ability to sit (HP:0025336); excluded: Scoliosis (HP:0002650); excluded: Proximal muscle weakness (HP:0003701); excluded: Simplified gyral pattern (HP:0009879); excluded: Hyperreflexia (HP:0001347); excluded: Pes cavus (HP:0001761); excluded: Babinski sign (HP:0003487); excluded: Hypoplasia of the pons (HP:0012110); excluded: Cerebellar hypoplasia (HP:0001321); excluded: Hammertoe (HP:0001765); excluded: Elevated circulating creatine kinase concentration (HP:0003236)</td></tr>\n",
       "<tr><td style=\"text-align: left;\">Patient 2 (MALE; P54Y)</td><td style=\"text-align: left;\">Neuronopathy, distal hereditary motor, autosomal recessive 10 (OMIM:620542)</td><td style=\"text-align: left;\">NM_003384.3:c.1160G>A (homozygous)</td><td style=\"text-align: left;\">Pes cavus (HP:0001761); Hammertoe (HP:0001765); Skeletal muscle atrophy (HP:0003202); Distal muscle weakness (HP:0002460); Hyporeflexia (HP:0001265); excluded: Microcephaly (HP:0000252); excluded: Delayed ability to roll over (HP:0032989); excluded: Delayed ability to sit (HP:0025336); excluded: Scoliosis (HP:0002650); excluded: Proximal muscle weakness (HP:0003701); excluded: Simplified gyral pattern (HP:0009879); excluded: Hyperreflexia (HP:0001347); excluded: Babinski sign (HP:0003487); excluded: Hypoplasia of the pons (HP:0012110); excluded: Cerebellar hypoplasia (HP:0001321); excluded: Elevated circulating creatine kinase concentration (HP:0003236)</td></tr>\n",
       "<tr><td style=\"text-align: left;\">II.2 (FEMALE; P47Y)</td><td style=\"text-align: left;\">Neuronopathy, distal hereditary motor, autosomal recessive 10 (OMIM:620542)</td><td style=\"text-align: left;\"><ul> <li>NM_003384.3:c.656G>T (heterozygous)</li> <li>NM_003384.3:c.761G>T (heterozygous)</li> </ul></td><td style=\"text-align: left;\">Skeletal muscle atrophy (HP:0003202); Distal muscle weakness (HP:0002460); Motor axonal neuropathy (HP:0007002); Hyperreflexia (HP:0001347); Babinski sign (HP:0003487); excluded: Microcephaly (HP:0000252); excluded: Delayed ability to roll over (HP:0032989); excluded: Delayed ability to sit (HP:0025336); excluded: Scoliosis (HP:0002650); excluded: Hypotonia (HP:0001252); excluded: Proximal muscle weakness (HP:0003701); excluded: Sensory axonal neuropathy (HP:0003390); excluded: Hyporeflexia (HP:0001265); excluded: Hypoplasia of the pons (HP:0012110); excluded: Cerebellar hypoplasia (HP:0001321); excluded: Hammertoe (HP:0001765)</td></tr>\n",
       "<tr><td style=\"text-align: left;\">II.3 (MALE; P38Y)</td><td style=\"text-align: left;\">Neuronopathy, distal hereditary motor, autosomal recessive 10 (OMIM:620542)</td><td style=\"text-align: left;\"><ul> <li>NM_003384.3:c.656G>T (heterozygous)</li> <li>NM_003384.3:c.761G>T (heterozygous)</li> </ul></td><td style=\"text-align: left;\">Skeletal muscle atrophy (HP:0003202); Distal muscle weakness (HP:0002460); Motor axonal neuropathy (HP:0007002); Hyperreflexia (HP:0001347); Babinski sign (HP:0003487); excluded: Microcephaly (HP:0000252); excluded: Delayed ability to roll over (HP:0032989); excluded: Delayed ability to sit (HP:0025336); excluded: Scoliosis (HP:0002650); excluded: Hypotonia (HP:0001252); excluded: Proximal muscle weakness (HP:0003701); excluded: Simplified gyral pattern (HP:0009879); excluded: Sensory axonal neuropathy (HP:0003390); excluded: Hyporeflexia (HP:0001265); excluded: Hypoplasia of the pons (HP:0012110); excluded: Cerebellar hypoplasia (HP:0001321); excluded: Hammertoe (HP:0001765)</td></tr>\n",
       "</table>"
      ],
      "text/plain": [
       "<IPython.core.display.HTML object>"
      ]
     },
     "metadata": {},
     "output_type": "display_data"
    }
   ],
   "source": [
    "individuals = cvalidator.get_error_free_individual_list()\n",
    "table = IndividualTable(individuals)\n",
    "display(HTML(table.to_html()))"
   ]
  },
  {
   "cell_type": "code",
   "execution_count": 11,
   "id": "7923b82f-5325-4022-921d-448145d149ec",
   "metadata": {},
   "outputs": [
    {
     "name": "stdout",
     "output_type": "stream",
     "text": [
      "We output 8 GA4GH phenopackets to the directory phenopackets\n"
     ]
    }
   ],
   "source": [
    "encoder.output_individuals_as_phenopackets(individual_list=individuals)"
   ]
  },
  {
   "cell_type": "code",
   "execution_count": 12,
   "id": "9a2f4a49-7d98-4087-b0de-19e7edd93822",
   "metadata": {},
   "outputs": [
    {
     "name": "stdout",
     "output_type": "stream",
     "text": [
      "[pyphetools] Ingested 8 GA4GH phenopackets.\n"
     ]
    }
   ],
   "source": [
    "ingestor = PhenopacketIngestor(indir=\"phenopackets\")\n",
    "ppkt_d = ingestor.get_phenopacket_dictionary()\n",
    "ppkt_list = list(ppkt_d.values())"
   ]
  },
  {
   "cell_type": "code",
   "execution_count": 13,
   "id": "28cc3698-6702-4d61-92de-6fabf10a37d9",
   "metadata": {},
   "outputs": [
    {
     "name": "stdout",
     "output_type": "stream",
     "text": [
      "We found a total of 24 unique HPO terms\n",
      "Extracted disease: Neuronopathy, distal hereditary motor, autosomal recessive 10 (OMIM:620542)\n"
     ]
    }
   ],
   "source": [
    "builder = HpoaTableBuilder(phenopacket_list=ppkt_list)\n",
    "builder.autosomal_recessive(\"PMID:24126608\")\n",
    "hpoa_table_creator = builder.build()"
   ]
  },
  {
   "cell_type": "code",
   "execution_count": 14,
   "id": "681910ce-4a30-43cb-b3ab-acf59c08e944",
   "metadata": {},
   "outputs": [
    {
     "data": {
      "text/html": [
       "<div>\n",
       "<style scoped>\n",
       "    .dataframe tbody tr th:only-of-type {\n",
       "        vertical-align: middle;\n",
       "    }\n",
       "\n",
       "    .dataframe tbody tr th {\n",
       "        vertical-align: top;\n",
       "    }\n",
       "\n",
       "    .dataframe thead th {\n",
       "        text-align: right;\n",
       "    }\n",
       "</style>\n",
       "<table border=\"1\" class=\"dataframe\">\n",
       "  <thead>\n",
       "    <tr style=\"text-align: right;\">\n",
       "      <th></th>\n",
       "      <th>#diseaseID</th>\n",
       "      <th>diseaseName</th>\n",
       "      <th>phenotypeID</th>\n",
       "      <th>phenotypeName</th>\n",
       "      <th>onsetID</th>\n",
       "      <th>onsetName</th>\n",
       "      <th>frequency</th>\n",
       "      <th>sex</th>\n",
       "      <th>negation</th>\n",
       "      <th>modifier</th>\n",
       "      <th>description</th>\n",
       "      <th>publication</th>\n",
       "      <th>evidence</th>\n",
       "      <th>biocuration</th>\n",
       "    </tr>\n",
       "  </thead>\n",
       "  <tbody>\n",
       "    <tr>\n",
       "      <th>0</th>\n",
       "      <td>OMIM:620542</td>\n",
       "      <td>Neuronopathy, distal hereditary motor, autosomal recessive 10</td>\n",
       "      <td>HP:0001761</td>\n",
       "      <td>Pes cavus</td>\n",
       "      <td></td>\n",
       "      <td></td>\n",
       "      <td>1/1</td>\n",
       "      <td></td>\n",
       "      <td></td>\n",
       "      <td></td>\n",
       "      <td></td>\n",
       "      <td>PMID:30847374</td>\n",
       "      <td>PCS</td>\n",
       "      <td>ORCID:0000-0002-0736-9199</td>\n",
       "    </tr>\n",
       "    <tr>\n",
       "      <th>1</th>\n",
       "      <td>OMIM:620542</td>\n",
       "      <td>Neuronopathy, distal hereditary motor, autosomal recessive 10</td>\n",
       "      <td>HP:0003202</td>\n",
       "      <td>Skeletal muscle atrophy</td>\n",
       "      <td></td>\n",
       "      <td></td>\n",
       "      <td>1/1</td>\n",
       "      <td></td>\n",
       "      <td></td>\n",
       "      <td></td>\n",
       "      <td></td>\n",
       "      <td>PMID:30847374</td>\n",
       "      <td>PCS</td>\n",
       "      <td>ORCID:0000-0002-0736-9199</td>\n",
       "    </tr>\n",
       "    <tr>\n",
       "      <th>2</th>\n",
       "      <td>OMIM:620542</td>\n",
       "      <td>Neuronopathy, distal hereditary motor, autosomal recessive 10</td>\n",
       "      <td>HP:0002460</td>\n",
       "      <td>Distal muscle weakness</td>\n",
       "      <td></td>\n",
       "      <td></td>\n",
       "      <td>1/1</td>\n",
       "      <td></td>\n",
       "      <td></td>\n",
       "      <td></td>\n",
       "      <td></td>\n",
       "      <td>PMID:30847374</td>\n",
       "      <td>PCS</td>\n",
       "      <td>ORCID:0000-0002-0736-9199</td>\n",
       "    </tr>\n",
       "    <tr>\n",
       "      <th>3</th>\n",
       "      <td>OMIM:620542</td>\n",
       "      <td>Neuronopathy, distal hereditary motor, autosomal recessive 10</td>\n",
       "      <td>HP:0007002</td>\n",
       "      <td>Motor axonal neuropathy</td>\n",
       "      <td></td>\n",
       "      <td></td>\n",
       "      <td>1/1</td>\n",
       "      <td></td>\n",
       "      <td></td>\n",
       "      <td></td>\n",
       "      <td></td>\n",
       "      <td>PMID:30847374</td>\n",
       "      <td>PCS</td>\n",
       "      <td>ORCID:0000-0002-0736-9199</td>\n",
       "    </tr>\n",
       "    <tr>\n",
       "      <th>4</th>\n",
       "      <td>OMIM:620542</td>\n",
       "      <td>Neuronopathy, distal hereditary motor, autosomal recessive 10</td>\n",
       "      <td>HP:0001265</td>\n",
       "      <td>Hyporeflexia</td>\n",
       "      <td></td>\n",
       "      <td></td>\n",
       "      <td>1/1</td>\n",
       "      <td></td>\n",
       "      <td></td>\n",
       "      <td></td>\n",
       "      <td></td>\n",
       "      <td>PMID:30847374</td>\n",
       "      <td>PCS</td>\n",
       "      <td>ORCID:0000-0002-0736-9199</td>\n",
       "    </tr>\n",
       "    <tr>\n",
       "      <th>...</th>\n",
       "      <td>...</td>\n",
       "      <td>...</td>\n",
       "      <td>...</td>\n",
       "      <td>...</td>\n",
       "      <td>...</td>\n",
       "      <td>...</td>\n",
       "      <td>...</td>\n",
       "      <td>...</td>\n",
       "      <td>...</td>\n",
       "      <td>...</td>\n",
       "      <td>...</td>\n",
       "      <td>...</td>\n",
       "      <td>...</td>\n",
       "      <td>...</td>\n",
       "    </tr>\n",
       "    <tr>\n",
       "      <th>74</th>\n",
       "      <td>OMIM:620542</td>\n",
       "      <td>Neuronopathy, distal hereditary motor, autosomal recessive 10</td>\n",
       "      <td>HP:0003596</td>\n",
       "      <td>Middle age onset</td>\n",
       "      <td></td>\n",
       "      <td></td>\n",
       "      <td>2/2</td>\n",
       "      <td></td>\n",
       "      <td></td>\n",
       "      <td></td>\n",
       "      <td></td>\n",
       "      <td>PMID:31837156</td>\n",
       "      <td>PCS</td>\n",
       "      <td>ORCID:0000-0002-0736-9199</td>\n",
       "    </tr>\n",
       "    <tr>\n",
       "      <th>75</th>\n",
       "      <td>OMIM:620542</td>\n",
       "      <td>Neuronopathy, distal hereditary motor, autosomal recessive 10</td>\n",
       "      <td>HP:0030674</td>\n",
       "      <td>Antenatal onset</td>\n",
       "      <td></td>\n",
       "      <td></td>\n",
       "      <td>2/3</td>\n",
       "      <td></td>\n",
       "      <td></td>\n",
       "      <td></td>\n",
       "      <td></td>\n",
       "      <td>PMID:24126608</td>\n",
       "      <td>PCS</td>\n",
       "      <td>ORCID:0000-0002-0736-9199</td>\n",
       "    </tr>\n",
       "    <tr>\n",
       "      <th>76</th>\n",
       "      <td>OMIM:620542</td>\n",
       "      <td>Neuronopathy, distal hereditary motor, autosomal recessive 10</td>\n",
       "      <td>HP:0011463</td>\n",
       "      <td>Childhood onset</td>\n",
       "      <td></td>\n",
       "      <td></td>\n",
       "      <td>1/3</td>\n",
       "      <td></td>\n",
       "      <td></td>\n",
       "      <td></td>\n",
       "      <td></td>\n",
       "      <td>PMID:24126608</td>\n",
       "      <td>PCS</td>\n",
       "      <td>ORCID:0000-0002-0736-9199</td>\n",
       "    </tr>\n",
       "    <tr>\n",
       "      <th>77</th>\n",
       "      <td>OMIM:620542</td>\n",
       "      <td>Neuronopathy, distal hereditary motor, autosomal recessive 10</td>\n",
       "      <td>HP:0003621</td>\n",
       "      <td>Juvenile onset</td>\n",
       "      <td></td>\n",
       "      <td></td>\n",
       "      <td>2/2</td>\n",
       "      <td></td>\n",
       "      <td></td>\n",
       "      <td></td>\n",
       "      <td></td>\n",
       "      <td>PMID:31090908</td>\n",
       "      <td>PCS</td>\n",
       "      <td>ORCID:0000-0002-0736-9199</td>\n",
       "    </tr>\n",
       "    <tr>\n",
       "      <th>78</th>\n",
       "      <td>OMIM:620542</td>\n",
       "      <td>Neuronopathy, distal hereditary motor, autosomal recessive 10</td>\n",
       "      <td>HP:0000007</td>\n",
       "      <td>Autosomal recessive inheritance</td>\n",
       "      <td></td>\n",
       "      <td></td>\n",
       "      <td></td>\n",
       "      <td></td>\n",
       "      <td></td>\n",
       "      <td></td>\n",
       "      <td></td>\n",
       "      <td>PMID:24126608</td>\n",
       "      <td>PCS</td>\n",
       "      <td>ORCID:0000-0002-0736-9199</td>\n",
       "    </tr>\n",
       "  </tbody>\n",
       "</table>\n",
       "<p>79 rows × 14 columns</p>\n",
       "</div>"
      ],
      "text/plain": [
       "     #diseaseID  \\\n",
       "0   OMIM:620542   \n",
       "1   OMIM:620542   \n",
       "2   OMIM:620542   \n",
       "3   OMIM:620542   \n",
       "4   OMIM:620542   \n",
       "..          ...   \n",
       "74  OMIM:620542   \n",
       "75  OMIM:620542   \n",
       "76  OMIM:620542   \n",
       "77  OMIM:620542   \n",
       "78  OMIM:620542   \n",
       "\n",
       "                                                      diseaseName phenotypeID  \\\n",
       "0   Neuronopathy, distal hereditary motor, autosomal recessive 10  HP:0001761   \n",
       "1   Neuronopathy, distal hereditary motor, autosomal recessive 10  HP:0003202   \n",
       "2   Neuronopathy, distal hereditary motor, autosomal recessive 10  HP:0002460   \n",
       "3   Neuronopathy, distal hereditary motor, autosomal recessive 10  HP:0007002   \n",
       "4   Neuronopathy, distal hereditary motor, autosomal recessive 10  HP:0001265   \n",
       "..                                                            ...         ...   \n",
       "74  Neuronopathy, distal hereditary motor, autosomal recessive 10  HP:0003596   \n",
       "75  Neuronopathy, distal hereditary motor, autosomal recessive 10  HP:0030674   \n",
       "76  Neuronopathy, distal hereditary motor, autosomal recessive 10  HP:0011463   \n",
       "77  Neuronopathy, distal hereditary motor, autosomal recessive 10  HP:0003621   \n",
       "78  Neuronopathy, distal hereditary motor, autosomal recessive 10  HP:0000007   \n",
       "\n",
       "                      phenotypeName onsetID onsetName frequency sex negation  \\\n",
       "0                         Pes cavus                         1/1                \n",
       "1           Skeletal muscle atrophy                         1/1                \n",
       "2            Distal muscle weakness                         1/1                \n",
       "3           Motor axonal neuropathy                         1/1                \n",
       "4                      Hyporeflexia                         1/1                \n",
       "..                              ...     ...       ...       ...  ..      ...   \n",
       "74                 Middle age onset                         2/2                \n",
       "75                  Antenatal onset                         2/3                \n",
       "76                  Childhood onset                         1/3                \n",
       "77                   Juvenile onset                         2/2                \n",
       "78  Autosomal recessive inheritance                                            \n",
       "\n",
       "   modifier description    publication evidence                biocuration  \n",
       "0                        PMID:30847374      PCS  ORCID:0000-0002-0736-9199  \n",
       "1                        PMID:30847374      PCS  ORCID:0000-0002-0736-9199  \n",
       "2                        PMID:30847374      PCS  ORCID:0000-0002-0736-9199  \n",
       "3                        PMID:30847374      PCS  ORCID:0000-0002-0736-9199  \n",
       "4                        PMID:30847374      PCS  ORCID:0000-0002-0736-9199  \n",
       "..      ...         ...            ...      ...                        ...  \n",
       "74                       PMID:31837156      PCS  ORCID:0000-0002-0736-9199  \n",
       "75                       PMID:24126608      PCS  ORCID:0000-0002-0736-9199  \n",
       "76                       PMID:24126608      PCS  ORCID:0000-0002-0736-9199  \n",
       "77                       PMID:31090908      PCS  ORCID:0000-0002-0736-9199  \n",
       "78                       PMID:24126608      PCS  ORCID:0000-0002-0736-9199  \n",
       "\n",
       "[79 rows x 14 columns]"
      ]
     },
     "execution_count": 14,
     "metadata": {},
     "output_type": "execute_result"
    }
   ],
   "source": [
    "hpoa_table_creator.get_dataframe()"
   ]
  },
  {
   "cell_type": "code",
   "execution_count": 15,
   "id": "37725130-7d0d-47a4-a6d3-ec69339fec7d",
   "metadata": {},
   "outputs": [
    {
     "name": "stdout",
     "output_type": "stream",
     "text": [
      "Wrote HPOA disease file to OMIM-620542.tab\n"
     ]
    }
   ],
   "source": [
    "hpoa_table_creator.write_data_frame()"
   ]
  },
  {
   "cell_type": "code",
   "execution_count": null,
   "id": "2606410c-5b07-42b8-86ff-142918353960",
   "metadata": {},
   "outputs": [],
   "source": []
  }
 ],
 "metadata": {
  "kernelspec": {
   "display_name": "Python 3 (ipykernel)",
   "language": "python",
   "name": "python3"
  },
  "language_info": {
   "codemirror_mode": {
    "name": "ipython",
    "version": 3
   },
   "file_extension": ".py",
   "mimetype": "text/x-python",
   "name": "python",
   "nbconvert_exporter": "python",
   "pygments_lexer": "ipython3",
   "version": "3.8.10"
  }
 },
 "nbformat": 4,
 "nbformat_minor": 5
}
