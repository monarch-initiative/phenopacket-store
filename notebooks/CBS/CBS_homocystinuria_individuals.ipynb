{
 "cells": [
  {
   "cell_type": "markdown",
   "metadata": {},
   "source": [
    "# CBS\n",
    "[homocystinuria with or without response to pyridoxine](https://omim.org/entry/236200) is caused by homozygous or compound heterozygous mutation in the gene encoding cystathionine beta-synthase (CBS)."
   ]
  },
  {
   "cell_type": "code",
   "execution_count": 1,
   "metadata": {},
   "outputs": [
    {
     "name": "stdout",
     "output_type": "stream",
     "text": [
      "Using pyphetools version 0.9.91\n"
     ]
    },
    {
     "name": "stderr",
     "output_type": "stream",
     "text": [
      "/Users/robin/GIT/phenopacket-store/ps24venv/lib/python3.9/site-packages/urllib3/__init__.py:35: NotOpenSSLWarning: urllib3 v2 only supports OpenSSL 1.1.1+, currently the 'ssl' module is compiled with 'LibreSSL 2.8.3'. See: https://github.com/urllib3/urllib3/issues/3020\n",
      "  warnings.warn(\n"
     ]
    }
   ],
   "source": [
    "from pyphetools.creation import TemplateImporter\n",
    "from pyphetools.visualization import IndividualTable, QcVisualizer\n",
    "from IPython.display import display, HTML\n",
    "import pyphetools\n",
    "print(f\"Using pyphetools version {pyphetools.__version__}\")"
   ]
  },
  {
   "cell_type": "code",
   "execution_count": 2,
   "metadata": {},
   "outputs": [],
   "source": [
    "template = \"input/CBS_homocystinuria_individuals.xlsx\"\n",
    "created_by = \"0000-0002-0736-9199\""
   ]
  },
  {
   "cell_type": "code",
   "execution_count": 3,
   "metadata": {},
   "outputs": [
    {
     "name": "stdout",
     "output_type": "stream",
     "text": [
      "HPO version 2024-04-26\n",
      "Created encoders for 57 fields\n",
      "Importing OMIM:236200, Homocystinuria, B6-responsive and nonresponsive types, HGNC:1550, CBS,  NM_000071.3\n",
      "[INFO] encoding variant \"c.1330G>A\"\n",
      "https://rest.variantvalidator.org/VariantValidator/variantvalidator/hg38/NM_000071.3%3Ac.1330G>A/NM_000071.3?content-type=application%2Fjson\n",
      "We output 4 GA4GH phenopackets to the directory phenopackets\n"
     ]
    }
   ],
   "source": [
    "timporter = TemplateImporter(template=template,  created_by=created_by)\n",
    "individual_list, cvalidator = timporter.import_phenopackets_from_template()"
   ]
  },
  {
   "cell_type": "code",
   "execution_count": 4,
   "metadata": {},
   "outputs": [
    {
     "data": {
      "text/html": [
       "<h2>Cohort validation</h2>\n",
       "<p>Errors found with 1 of 4 phenopackets.</p>\n",
       "<table style=\"border: 2px solid black; align: \"left\">\n",
       "<caption>Error counts</caption>\n",
       "<tr><th style=\"text-align: left;font-weight: bold;\">Level</th><th style=\"text-align: left;font-weight: bold;\">Error category</th><th style=\"text-align: left;font-weight: bold;\">Count</th></tr>\n",
       "<tr><td style=\"text-align: left;\">WARNING</td><td style=\"text-align: left;\">REDUNDANT</td><td style=\"text-align: left;\">1</td></tr>\n",
       "</table>\n",
       "<p>A total of 1 issues were fixed and no individual was removed from the cohort.</p>"
      ],
      "text/plain": [
       "<IPython.core.display.HTML object>"
      ]
     },
     "metadata": {},
     "output_type": "display_data"
    }
   ],
   "source": [
    "qc = QcVisualizer(cohort_validator=cvalidator)\n",
    "display(HTML(qc.to_summary_html()))"
   ]
  },
  {
   "cell_type": "code",
   "execution_count": 5,
   "metadata": {},
   "outputs": [
    {
     "data": {
      "text/html": [
       "<table style=\"border: 2px solid black; align: \"left\">\n",
       "<caption>4 phenopackets - PMID:26667307 (n=3); PMID:8755636 (n=1)</caption>\n",
       "<tr><th style=\"text-align: left;font-weight: bold;\">Individual</th><th style=\"text-align: left;font-weight: bold;\">Disease</th><th style=\"text-align: left;font-weight: bold;\">Genotype</th><th style=\"text-align: left;font-weight: bold;\">Phenotypic features</th></tr>\n",
       "<tr><td style=\"text-align: left;\">III:2 (FEMALE; P28Y)</td><td style=\"text-align: left;\">Homocystinuria, B6-responsive and nonresponsive types (OMIM:236200)</td><td style=\"text-align: left;\"><ul> <li>NM_000071.3:c.407T>C (heterozygous)</li> <li>NM_000071.3:c.473C>T (heterozygous)</li> </ul></td><td style=\"text-align: left;\">Kyphoscoliosis (HP:0002751); Brain atrophy (HP:0012444); Unsteady gait (HP:0002317); Ataxia (HP:0001251); Dysarthria (HP:0001260); Intellectual disability (HP:0001249); Flushing (HP:0031284); Hyperhomocystinemia (HP:0002160); Hypermethioninemia (HP:0003235); Retinal detachment (HP:0000541); Exotropia (HP:0000577); Myopia (HP:0000545); Ectopia lentis (HP:0001083); excluded: Pectus carinatum (HP:0000768); excluded: Arachnodactyly (HP:0001166)</td></tr>\n",
       "<tr><td style=\"text-align: left;\">III:3 (FEMALE; P26Y)</td><td style=\"text-align: left;\">Homocystinuria, B6-responsive and nonresponsive types (OMIM:236200)</td><td style=\"text-align: left;\"><ul> <li>NM_000071.3:c.407T>C (heterozygous)</li> <li>NM_000071.3:c.473C>T (heterozygous)</li> </ul></td><td style=\"text-align: left;\">Arachnodactyly (HP:0001166); Brain atrophy (HP:0012444); Unsteady gait (HP:0002317); Ataxia (HP:0001251); Dysarthria (HP:0001260); Intellectual disability (HP:0001249); Flushing (HP:0031284); Hyperhomocystinemia (HP:0002160); Hypermethioninemia (HP:0003235); Exotropia (HP:0000577); Myopia (HP:0000545); Ectopia lentis (HP:0001083); excluded: Pectus carinatum (HP:0000768); excluded: Kyphoscoliosis (HP:0002751); excluded: Retinal detachment (HP:0000541)</td></tr>\n",
       "<tr><td style=\"text-align: left;\">III:4 (FEMALE; P5Y)</td><td style=\"text-align: left;\">Homocystinuria, B6-responsive and nonresponsive types (OMIM:236200)</td><td style=\"text-align: left;\"><ul> <li>NM_000071.3:c.407T>C (heterozygous)</li> <li>NM_000071.3:c.473C>T (heterozygous)</li> </ul></td><td style=\"text-align: left;\">Pectus carinatum (HP:0000768); Kyphoscoliosis (HP:0002751); Arachnodactyly (HP:0001166); Brain atrophy (HP:0012444); Unsteady gait (HP:0002317); Ataxia (HP:0001251); Dysarthria (HP:0001260); Intellectual disability (HP:0001249); Flushing (HP:0031284); Hyperhomocystinemia (HP:0002160); Hypermethioninemia (HP:0003235); Exotropia (HP:0000577); Myopia (HP:0000545); Ectopia lentis (HP:0001083); excluded: Retinal detachment (HP:0000541)</td></tr>\n",
       "<tr><td style=\"text-align: left;\">patient (FEMALE; P20Y)</td><td style=\"text-align: left;\">Homocystinuria, B6-responsive and nonresponsive types (OMIM:236200)</td><td style=\"text-align: left;\">NM_000071.3:c.1330G>A (homozygous)</td><td style=\"text-align: left;\"><b>P9Y</b>: Arachnodactyly (HP:0001166); Intellectual disability (HP:0001249); Disproportionate tall stature (HP:0001519)<br/>Hyperhomocystinemia (HP:0002160); excluded: Osteoporosis (HP:0000939); excluded: Ectopia lentis (HP:0001083)</td></tr>\n",
       "</table>"
      ],
      "text/plain": [
       "<IPython.core.display.HTML object>"
      ]
     },
     "metadata": {},
     "output_type": "display_data"
    }
   ],
   "source": [
    "table = IndividualTable(cvalidator.get_error_free_individual_list())\n",
    "display(HTML(table.to_html()))"
   ]
  },
  {
   "cell_type": "code",
   "execution_count": 6,
   "metadata": {},
   "outputs": [
    {
     "name": "stdout",
     "output_type": "stream",
     "text": [
      "[pyphetools] Ingested 4 GA4GH phenopackets.\n",
      "[INFO] Extracted 4 from 4 phenopackets with OMIM:236200\n",
      "\n",
      "\tHomocystinuria, B6-responsive and nonresponsive types (OMIM:236200): n=4\n",
      "We found a total of 17 unique HPO terms\n",
      "Extracted disease: Homocystinuria, B6-responsive and nonresponsive types (OMIM:236200)\n",
      "Wrote HPOA disease file to OMIM-236200.tab\n"
     ]
    }
   ],
   "source": [
    "pmid = \"PMID:26667307\"\n",
    "df = timporter.create_hpoa_from_phenopackets(pmid=pmid, moi=\"Autosomal recessive\", target=\"OMIM:236200\")"
   ]
  }
 ],
 "metadata": {
  "kernelspec": {
   "display_name": "ps24venv",
   "language": "python",
   "name": "python3"
  },
  "language_info": {
   "codemirror_mode": {
    "name": "ipython",
    "version": 3
   },
   "file_extension": ".py",
   "mimetype": "text/x-python",
   "name": "python",
   "nbconvert_exporter": "python",
   "pygments_lexer": "ipython3",
   "version": "3.9.6"
  }
 },
 "nbformat": 4,
 "nbformat_minor": 2
}
