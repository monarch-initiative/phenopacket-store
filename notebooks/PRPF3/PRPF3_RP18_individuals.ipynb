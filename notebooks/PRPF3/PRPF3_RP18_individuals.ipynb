{
 "cells": [
  {
   "cell_type": "markdown",
   "metadata": {},
   "source": [
    "# PRPF3\n",
    "[retinitis pigmentosa RP18](https://omim.org/entry/601414) is caused by heterozygous mutation in the PRPF3 gene."
   ]
  },
  {
   "cell_type": "code",
   "execution_count": 3,
   "metadata": {},
   "outputs": [
    {
     "name": "stdout",
     "output_type": "stream",
     "text": [
      "Using pyphetools version 0.9.88\n"
     ]
    }
   ],
   "source": [
    "from pyphetools.creation import TemplateImporter\n",
    "from pyphetools.visualization import IndividualTable, QcVisualizer\n",
    "from IPython.display import display, HTML\n",
    "import pyphetools\n",
    "print(f\"Using pyphetools version {pyphetools.__version__}\")"
   ]
  },
  {
   "cell_type": "code",
   "execution_count": 6,
   "metadata": {},
   "outputs": [],
   "source": [
    "template = \"input/PRPF3_RP18_individuals.xlsx\"\n",
    "created_by = \"0000-0002-0736-9199\""
   ]
  },
  {
   "cell_type": "code",
   "execution_count": 7,
   "metadata": {},
   "outputs": [
    {
     "name": "stdout",
     "output_type": "stream",
     "text": [
      "HPO version 2024-04-26\n",
      "Created encoders for 25 fields\n",
      "Importing OMIM:601414, Retinitis pigmentosa 18, HGNC:17348, PRPF3,  NM_004698.4\n",
      "[INFO] encoding variant \"c.1466C>A\"\n",
      "https://rest.variantvalidator.org/VariantValidator/variantvalidator/hg38/NM_004698.4%3Ac.1466C>A/NM_004698.4?content-type=application%2Fjson\n",
      "We output 2 GA4GH phenopackets to the directory phenopackets\n"
     ]
    }
   ],
   "source": [
    "timporter = TemplateImporter(template=template,  created_by=created_by)\n",
    "individual_list, cvalidator = timporter.import_phenopackets_from_template()"
   ]
  },
  {
   "cell_type": "code",
   "execution_count": 8,
   "metadata": {},
   "outputs": [
    {
     "data": {
      "text/html": [
       "<h2>Cohort validation</h2>\n",
       "<p>No errors found for the cohort with 2 individuals</p>"
      ],
      "text/plain": [
       "<IPython.core.display.HTML object>"
      ]
     },
     "metadata": {},
     "output_type": "display_data"
    }
   ],
   "source": [
    "qc = QcVisualizer(cohort_validator=cvalidator)\n",
    "display(HTML(qc.to_summary_html()))"
   ]
  },
  {
   "cell_type": "code",
   "execution_count": 9,
   "metadata": {},
   "outputs": [
    {
     "data": {
      "text/html": [
       "<table style=\"border: 2px solid black; align: \"left\">\n",
       "<caption>2 phenopackets - PMID:18412284 (n=2)</caption>\n",
       "<tr><th style=\"text-align: left;font-weight: bold;\">Individual</th><th style=\"text-align: left;font-weight: bold;\">Disease</th><th style=\"text-align: left;font-weight: bold;\">Genotype</th><th style=\"text-align: left;font-weight: bold;\">Phenotypic features</th></tr>\n",
       "<tr><td style=\"text-align: left;\">Patient II-6 (FEMALE; P67Y)</td><td style=\"text-align: left;\">Retinitis pigmentosa 18 (OMIM:601414)</td><td style=\"text-align: left;\">NM_004698.4:c.1466C>A (heterozygous)</td><td style=\"text-align: left;\"><b>P10Y</b>: Nyctalopia (HP:0000662)<br/>Progressive visual field defects (HP:0007987); Reduced visual acuity (HP:0007663); Attenuation of retinal blood vessels (HP:0007843); Bone spicule pigmentation of the retina (HP:0007737); Undetectable electroretinogram (HP:0000550)</td></tr>\n",
       "<tr><td style=\"text-align: left;\">Patient III-8 (FEMALE; P35Y)</td><td style=\"text-align: left;\">Retinitis pigmentosa 18 (OMIM:601414)</td><td style=\"text-align: left;\">NM_004698.4:c.1466C>A (heterozygous)</td><td style=\"text-align: left;\"><b>P10Y</b>: Nyctalopia (HP:0000662)<br/>Progressive visual field defects (HP:0007987); Reduced visual acuity (HP:0007663); Attenuation of retinal blood vessels (HP:0007843); Bone spicule pigmentation of the retina (HP:0007737); excluded: Undetectable electroretinogram (HP:0000550)</td></tr>\n",
       "</table>"
      ],
      "text/plain": [
       "<IPython.core.display.HTML object>"
      ]
     },
     "metadata": {},
     "output_type": "display_data"
    }
   ],
   "source": [
    "table = IndividualTable(cvalidator.get_error_free_individual_list())\n",
    "display(HTML(table.to_html()))"
   ]
  }
 ],
 "metadata": {
  "kernelspec": {
   "display_name": "ps24venv",
   "language": "python",
   "name": "python3"
  },
  "language_info": {
   "codemirror_mode": {
    "name": "ipython",
    "version": 3
   },
   "file_extension": ".py",
   "mimetype": "text/x-python",
   "name": "python",
   "nbconvert_exporter": "python",
   "pygments_lexer": "ipython3",
   "version": "3.9.6"
  }
 },
 "nbformat": 4,
 "nbformat_minor": 2
}
