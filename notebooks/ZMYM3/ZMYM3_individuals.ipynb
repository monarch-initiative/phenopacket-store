{
 "cells": [
  {
   "cell_type": "markdown",
   "id": "97bd3603-3a51-4f38-a53d-758383cc01c6",
   "metadata": {},
   "source": [
    "# ZMYM3 individuals"
   ]
  },
  {
   "cell_type": "code",
   "execution_count": 1,
   "id": "306c2f23-5087-4aeb-a09e-0a8d607d296b",
   "metadata": {},
   "outputs": [
    {
     "name": "stdout",
     "output_type": "stream",
     "text": [
      "Using pyphetools version 0.9.54\n"
     ]
    }
   ],
   "source": [
    "import pandas as pd\n",
    "from IPython.display import display, HTML\n",
    "pd.set_option('display.max_colwidth', None) # show entire column contents, important!\n",
    "from collections import defaultdict\n",
    "from pyphetools.creation import *\n",
    "from pyphetools.visualization import *\n",
    "from pyphetools.validation import *\n",
    "import pyphetools\n",
    "print(f\"Using pyphetools version {pyphetools.__version__}\")"
   ]
  },
  {
   "cell_type": "code",
   "execution_count": 2,
   "id": "1ec4197c-8ebb-4cf3-b3c9-247a3a350dac",
   "metadata": {},
   "outputs": [
    {
     "name": "stdout",
     "output_type": "stream",
     "text": [
      "HPO version 2024-02-27\n"
     ]
    }
   ],
   "source": [
    "parser = HpoParser(hpo_json_file=\"../hp.json\")\n",
    "hpo_cr = parser.get_hpo_concept_recognizer()\n",
    "hpo_version = parser.get_version()\n",
    "hpo_ontology = parser.get_ontology()\n",
    "created_by=\"ORCID:0000-0002-0736-9199\"\n",
    "print(f\"HPO version {hpo_version}\")"
   ]
  },
  {
   "cell_type": "code",
   "execution_count": 3,
   "id": "d94b3b00-cc9a-420f-aaeb-51c021afdeef",
   "metadata": {},
   "outputs": [
    {
     "data": {
      "text/html": [
       "<div>\n",
       "<style scoped>\n",
       "    .dataframe tbody tr th:only-of-type {\n",
       "        vertical-align: middle;\n",
       "    }\n",
       "\n",
       "    .dataframe tbody tr th {\n",
       "        vertical-align: top;\n",
       "    }\n",
       "\n",
       "    .dataframe thead th {\n",
       "        text-align: right;\n",
       "    }\n",
       "</style>\n",
       "<table border=\"1\" class=\"dataframe\">\n",
       "  <thead>\n",
       "    <tr style=\"text-align: right;\">\n",
       "      <th></th>\n",
       "      <th>PMID</th>\n",
       "      <th>title</th>\n",
       "      <th>individual_id</th>\n",
       "      <th>comment</th>\n",
       "      <th>disease_id</th>\n",
       "      <th>disease_label</th>\n",
       "      <th>transcript</th>\n",
       "      <th>allele_1</th>\n",
       "      <th>allele_2</th>\n",
       "      <th>variant.comment</th>\n",
       "      <th>...</th>\n",
       "      <th>HPO</th>\n",
       "      <th>Hypospadias</th>\n",
       "      <th>Horseshoe kidney</th>\n",
       "      <th>Enuresis nocturna</th>\n",
       "      <th>Cupped ear</th>\n",
       "      <th>Attention deficit hyperactivity disorder</th>\n",
       "      <th>Right aortic arch</th>\n",
       "      <th>Bicuspid aortic valve</th>\n",
       "      <th>Sleep abnormality</th>\n",
       "      <th>Intellectual disability, moderate</th>\n",
       "    </tr>\n",
       "  </thead>\n",
       "  <tbody>\n",
       "    <tr>\n",
       "      <th>0</th>\n",
       "      <td>str</td>\n",
       "      <td>str</td>\n",
       "      <td>str</td>\n",
       "      <td>optional str</td>\n",
       "      <td>str</td>\n",
       "      <td>str</td>\n",
       "      <td>str</td>\n",
       "      <td>str</td>\n",
       "      <td>str</td>\n",
       "      <td>optional str</td>\n",
       "      <td>...</td>\n",
       "      <td>na</td>\n",
       "      <td>HP:0000047</td>\n",
       "      <td>HP:0000085</td>\n",
       "      <td>HP:0010677</td>\n",
       "      <td>HP:0000378</td>\n",
       "      <td>HP:0007018</td>\n",
       "      <td>HP:0012020</td>\n",
       "      <td>HP:0001647</td>\n",
       "      <td>HP:0002360</td>\n",
       "      <td>HP:0002342</td>\n",
       "    </tr>\n",
       "    <tr>\n",
       "      <th>1</th>\n",
       "      <td>PMID:24721225</td>\n",
       "      <td>X-exome sequencing in Finnish families with intellectual disability--four novel mutations and two novel syndromic phenotypes</td>\n",
       "      <td>Patient III-1</td>\n",
       "      <td>NaN</td>\n",
       "      <td>OMIM:301111</td>\n",
       "      <td>Intellectual developmental disorder, X-linked 112</td>\n",
       "      <td>NM_005096.3</td>\n",
       "      <td>c.1321C&gt;T</td>\n",
       "      <td>na</td>\n",
       "      <td>R441W</td>\n",
       "      <td>...</td>\n",
       "      <td>na</td>\n",
       "      <td>P0D</td>\n",
       "      <td>excluded</td>\n",
       "      <td>observed</td>\n",
       "      <td>observed</td>\n",
       "      <td>observed</td>\n",
       "      <td>excluded</td>\n",
       "      <td>observed</td>\n",
       "      <td>observed</td>\n",
       "      <td>observed</td>\n",
       "    </tr>\n",
       "  </tbody>\n",
       "</table>\n",
       "<p>2 rows × 23 columns</p>\n",
       "</div>"
      ],
      "text/plain": [
       "            PMID  \\\n",
       "0            str   \n",
       "1  PMID:24721225   \n",
       "\n",
       "                                                                                                                          title  \\\n",
       "0                                                                                                                           str   \n",
       "1  X-exome sequencing in Finnish families with intellectual disability--four novel mutations and two novel syndromic phenotypes   \n",
       "\n",
       "   individual_id       comment   disease_id  \\\n",
       "0            str  optional str          str   \n",
       "1  Patient III-1           NaN  OMIM:301111   \n",
       "\n",
       "                                       disease_label   transcript   allele_1  \\\n",
       "0                                                str          str        str   \n",
       "1  Intellectual developmental disorder, X-linked 112  NM_005096.3  c.1321C>T   \n",
       "\n",
       "  allele_2 variant.comment  ... HPO Hypospadias Horseshoe kidney  \\\n",
       "0      str    optional str  ...  na  HP:0000047       HP:0000085   \n",
       "1       na           R441W  ...  na         P0D         excluded   \n",
       "\n",
       "  Enuresis nocturna  Cupped ear Attention deficit hyperactivity disorder  \\\n",
       "0        HP:0010677  HP:0000378                               HP:0007018   \n",
       "1          observed    observed                                 observed   \n",
       "\n",
       "  Right aortic arch Bicuspid aortic valve Sleep abnormality  \\\n",
       "0        HP:0012020            HP:0001647        HP:0002360   \n",
       "1          excluded              observed          observed   \n",
       "\n",
       "  Intellectual disability, moderate  \n",
       "0                        HP:0002342  \n",
       "1                          observed  \n",
       "\n",
       "[2 rows x 23 columns]"
      ]
     },
     "execution_count": 3,
     "metadata": {},
     "output_type": "execute_result"
    }
   ],
   "source": [
    "df = pd.read_excel(\"input/ZMYM3_individuals.xlsx\")\n",
    "df.head(2)"
   ]
  },
  {
   "cell_type": "code",
   "execution_count": 4,
   "id": "0605b440-b15f-4b0a-b9bc-e60252d5f88a",
   "metadata": {},
   "outputs": [
    {
     "name": "stdout",
     "output_type": "stream",
     "text": [
      "Created encoders for 23 fields\n"
     ]
    }
   ],
   "source": [
    "encoder = CaseTemplateEncoder(df=df, hpo_cr=hpo_cr, created_by=created_by)\n",
    "individuals = encoder.get_individuals()"
   ]
  },
  {
   "cell_type": "code",
   "execution_count": 5,
   "id": "eaf6bacd-a022-42a1-a464-f5ab3873bda3",
   "metadata": {},
   "outputs": [],
   "source": [
    "vmanager = VariantManager(df=df,\n",
    "                          individual_column_name=\"individual_id\",\n",
    "                          gene_symbol=\"ZMYM3\",\n",
    "                          transcript=\"NM_005096.3\",\n",
    "                          allele_1_column_name=\"allele_1\")"
   ]
  },
  {
   "cell_type": "code",
   "execution_count": 6,
   "id": "80acebc8-a6fc-40fc-8a39-2dda6bdae9d4",
   "metadata": {},
   "outputs": [
    {
     "data": {
      "text/html": [
       "<div>\n",
       "<style scoped>\n",
       "    .dataframe tbody tr th:only-of-type {\n",
       "        vertical-align: middle;\n",
       "    }\n",
       "\n",
       "    .dataframe tbody tr th {\n",
       "        vertical-align: top;\n",
       "    }\n",
       "\n",
       "    .dataframe thead th {\n",
       "        text-align: right;\n",
       "    }\n",
       "</style>\n",
       "<table border=\"1\" class=\"dataframe\">\n",
       "  <thead>\n",
       "    <tr style=\"text-align: right;\">\n",
       "      <th></th>\n",
       "      <th>status</th>\n",
       "      <th>count</th>\n",
       "      <th>alleles</th>\n",
       "    </tr>\n",
       "  </thead>\n",
       "  <tbody>\n",
       "    <tr>\n",
       "      <th>0</th>\n",
       "      <td>mapped</td>\n",
       "      <td>22</td>\n",
       "      <td>c.2193G&gt;C, c.1322G&gt;A, c.507A&gt;T, c.3409T&gt;A, c.3820C&gt;T, c.905G&gt;A, c.1183C&gt;A, c.3518G&gt;A, c.1360T&gt;C, c.2794A&gt;G, c.3880C&gt;T, c.3638T&gt;C, c.2255A&gt;G, c.1321C&gt;T, c.205G&gt;A, c.3371G&gt;A, c.721G&gt;A, c.1192C&gt;T, c.3605T&gt;A, c.3970C&gt;T, c.4029G&gt;A, c.671_674dup</td>\n",
       "    </tr>\n",
       "    <tr>\n",
       "      <th>1</th>\n",
       "      <td>unmapped</td>\n",
       "      <td>0</td>\n",
       "      <td></td>\n",
       "    </tr>\n",
       "  </tbody>\n",
       "</table>\n",
       "</div>"
      ],
      "text/plain": [
       "     status  count  \\\n",
       "0    mapped     22   \n",
       "1  unmapped      0   \n",
       "\n",
       "                                                                                                                                                                                                                                           alleles  \n",
       "0  c.2193G>C, c.1322G>A, c.507A>T, c.3409T>A, c.3820C>T, c.905G>A, c.1183C>A, c.3518G>A, c.1360T>C, c.2794A>G, c.3880C>T, c.3638T>C, c.2255A>G, c.1321C>T, c.205G>A, c.3371G>A, c.721G>A, c.1192C>T, c.3605T>A, c.3970C>T, c.4029G>A, c.671_674dup  \n",
       "1                                                                                                                                                                                                                                                   "
      ]
     },
     "execution_count": 6,
     "metadata": {},
     "output_type": "execute_result"
    }
   ],
   "source": [
    "vmanager.to_summary()"
   ]
  },
  {
   "cell_type": "code",
   "execution_count": 7,
   "id": "fff08b4d-7459-45b1-ab55-1168f5fec376",
   "metadata": {},
   "outputs": [],
   "source": [
    "vmanager.add_variants_to_individuals(individuals)"
   ]
  },
  {
   "cell_type": "code",
   "execution_count": 9,
   "id": "b091ea7e-7870-42b7-ad43-f155558eb243",
   "metadata": {},
   "outputs": [
    {
     "data": {
      "text/html": [
       "<h2>Cohort validation</h2>\n",
       "<p>No errors found for the cohort with 3 individuals</p>"
      ],
      "text/plain": [
       "<IPython.core.display.HTML object>"
      ]
     },
     "metadata": {},
     "output_type": "display_data"
    }
   ],
   "source": [
    "cvalidator = CohortValidator(cohort=individuals, ontology=hpo_ontology, min_hpo=1, allelic_requirement=AllelicRequirement.MONO_ALLELIC)\n",
    "qc = QcVisualizer(cohort_validator=cvalidator)\n",
    "display(HTML(qc.to_summary_html()))"
   ]
  },
  {
   "cell_type": "code",
   "execution_count": 10,
   "id": "08e3fc4b-bac9-4d55-bbb9-ed602242556a",
   "metadata": {},
   "outputs": [
    {
     "data": {
      "text/html": [
       "<table style=\"border: 2px solid black; align: \"left\">\n",
       "<caption>3 phenopackets - PMID:24721225 (n=3)</caption>\n",
       "<tr><th style=\"text-align: left;font-weight: bold;\">Individual</th><th style=\"text-align: left;font-weight: bold;\">Disease</th><th style=\"text-align: left;font-weight: bold;\">Genotype</th><th style=\"text-align: left;font-weight: bold;\">Phenotypic features</th></tr>\n",
       "<tr><td style=\"text-align: left;\">Patient III-1 (MALE; P15Y6M)</td><td style=\"text-align: left;\">Intellectual developmental disorder, X-linked 112 (OMIM:301111)</td><td style=\"text-align: left;\">NM_005096.3:c.1321C>T (heterozygous)</td><td style=\"text-align: left;\"><b>P0D</b>: Hypospadias (HP:0000047)<br/>Enuresis nocturna (HP:0010677); Cupped ear (HP:0000378); Attention deficit hyperactivity disorder (HP:0007018); Bicuspid aortic valve (HP:0001647); Sleep abnormality (HP:0002360); Intellectual disability, moderate (HP:0002342); excluded: Horseshoe kidney (HP:0000085); excluded: Right aortic arch (HP:0012020)</td></tr>\n",
       "<tr><td style=\"text-align: left;\">Patient III-2 (MALE; P8Y)</td><td style=\"text-align: left;\">Intellectual developmental disorder, X-linked 112 (OMIM:301111)</td><td style=\"text-align: left;\">NM_005096.3:c.1321C>T (heterozygous)</td><td style=\"text-align: left;\"><b>P0D</b>: Hypospadias (HP:0000047); Horseshoe kidney (HP:0000085)<br/>Enuresis nocturna (HP:0010677); Cupped ear (HP:0000378); Attention deficit hyperactivity disorder (HP:0007018); Right aortic arch (HP:0012020); Bicuspid aortic valve (HP:0001647); Sleep abnormality (HP:0002360); Intellectual disability, moderate (HP:0002342)</td></tr>\n",
       "<tr><td style=\"text-align: left;\">Patient III-3 (MALE; P7Y)</td><td style=\"text-align: left;\">Intellectual developmental disorder, X-linked 112 (OMIM:301111)</td><td style=\"text-align: left;\">NM_005096.3:c.1321C>T (heterozygous)</td><td style=\"text-align: left;\"><b>P0D</b>: Hypospadias (HP:0000047)<br/>Cupped ear (HP:0000378); Sleep abnormality (HP:0002360); Intellectual disability, moderate (HP:0002342); excluded: Horseshoe kidney (HP:0000085); excluded: Enuresis nocturna (HP:0010677); excluded: Right aortic arch (HP:0012020); excluded: Bicuspid aortic valve (HP:0001647)</td></tr>\n",
       "</table>"
      ],
      "text/plain": [
       "<IPython.core.display.HTML object>"
      ]
     },
     "metadata": {},
     "output_type": "display_data"
    }
   ],
   "source": [
    "individuals = cvalidator.get_error_free_individual_list()\n",
    "table = IndividualTable(individuals)\n",
    "display(HTML(table.to_html()))"
   ]
  },
  {
   "cell_type": "code",
   "execution_count": 11,
   "id": "7cc34f0d-495a-4196-9055-8d106adcbe48",
   "metadata": {},
   "outputs": [
    {
     "name": "stdout",
     "output_type": "stream",
     "text": [
      "We output 3 GA4GH phenopackets to the directory phenopackets\n"
     ]
    }
   ],
   "source": [
    "encoder.output_individuals_as_phenopackets(individual_list=individuals)"
   ]
  },
  {
   "cell_type": "code",
   "execution_count": null,
   "id": "7a33d6ce-8178-4a25-bed0-de7e64ecf4e1",
   "metadata": {},
   "outputs": [],
   "source": []
  }
 ],
 "metadata": {
  "kernelspec": {
   "display_name": "Python 3 (ipykernel)",
   "language": "python",
   "name": "python3"
  },
  "language_info": {
   "codemirror_mode": {
    "name": "ipython",
    "version": 3
   },
   "file_extension": ".py",
   "mimetype": "text/x-python",
   "name": "python",
   "nbconvert_exporter": "python",
   "pygments_lexer": "ipython3",
   "version": "3.8.10"
  }
 },
 "nbformat": 4,
 "nbformat_minor": 5
}
