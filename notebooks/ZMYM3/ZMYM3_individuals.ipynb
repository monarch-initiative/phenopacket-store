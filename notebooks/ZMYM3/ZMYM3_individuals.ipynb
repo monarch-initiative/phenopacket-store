{
 "cells": [
  {
   "cell_type": "markdown",
   "id": "97bd3603-3a51-4f38-a53d-758383cc01c6",
   "metadata": {},
   "source": [
    "# ZMYM3 individuals"
   ]
  },
  {
   "cell_type": "code",
   "execution_count": 1,
   "id": "306c2f23-5087-4aeb-a09e-0a8d607d296b",
   "metadata": {},
   "outputs": [
    {
     "name": "stdout",
     "output_type": "stream",
     "text": [
      "Using pyphetools version 0.9.71\n"
     ]
    }
   ],
   "source": [
    "from pyphetools.creation import TemplateImporter\n",
    "from pyphetools.visualization import IndividualTable, QcVisualizer\n",
    "from IPython.display import display, HTML\n",
    "import pyphetools\n",
    "print(f\"Using pyphetools version {pyphetools.__version__}\")"
   ]
  },
  {
   "cell_type": "code",
   "execution_count": 2,
   "id": "1ec4197c-8ebb-4cf3-b3c9-247a3a350dac",
   "metadata": {},
   "outputs": [],
   "source": [
    "template = \"input/ZMYM3_individuals.xlsx\"\n",
    "hp_json = \"../hp.json\"\n",
    "created_by = \"0000-0002-0736-9199\""
   ]
  },
  {
   "cell_type": "code",
   "execution_count": 3,
   "id": "d94b3b00-cc9a-420f-aaeb-51c021afdeef",
   "metadata": {},
   "outputs": [
    {
     "name": "stdout",
     "output_type": "stream",
     "text": [
      "HPO version 2024-03-06\n",
      "Created encoders for 25 fields\n",
      "Importing OMIM:301111, Intellectual developmental disorder, X-linked 112, HGNC:13054, ZMYM3,  NM_005096.3\n",
      "We output 3 GA4GH phenopackets to the directory phenopackets\n"
     ]
    }
   ],
   "source": [
    "timporter = TemplateImporter(template=template, hp_json=hp_json, created_by=created_by)\n",
    "individual_list, cvalidator = timporter.import_phenopackets_from_template()"
   ]
  },
  {
   "cell_type": "code",
   "execution_count": 4,
   "id": "0605b440-b15f-4b0a-b9bc-e60252d5f88a",
   "metadata": {},
   "outputs": [
    {
     "data": {
      "text/html": [
       "<h2>Cohort validation</h2>\n",
       "<p>No errors found for the cohort with 3 individuals</p>"
      ],
      "text/plain": [
       "<IPython.core.display.HTML object>"
      ]
     },
     "metadata": {},
     "output_type": "display_data"
    }
   ],
   "source": [
    "qc = QcVisualizer(cohort_validator=cvalidator)\n",
    "display(HTML(qc.to_summary_html()))"
   ]
  },
  {
   "cell_type": "code",
   "execution_count": 6,
   "id": "7a33d6ce-8178-4a25-bed0-de7e64ecf4e1",
   "metadata": {},
   "outputs": [
    {
     "data": {
      "text/html": [
       "<table style=\"border: 2px solid black; align: \"left\">\n",
       "<caption>3 phenopackets - PMID:24721225 (n=3)</caption>\n",
       "<tr><th style=\"text-align: left;font-weight: bold;\">Individual</th><th style=\"text-align: left;font-weight: bold;\">Disease</th><th style=\"text-align: left;font-weight: bold;\">Genotype</th><th style=\"text-align: left;font-weight: bold;\">Phenotypic features</th></tr>\n",
       "<tr><td style=\"text-align: left;\">Patient III-1 (MALE; P15Y6M)</td><td style=\"text-align: left;\">Intellectual developmental disorder, X-linked 112 (OMIM:301111)</td><td style=\"text-align: left;\">NM_005096.3:c.1321C>T (heterozygous)</td><td style=\"text-align: left;\"><b>P0D</b>: Hypospadias (HP:0000047)<br/>Enuresis nocturna (HP:0010677); Cupped ear (HP:0000378); Attention deficit hyperactivity disorder (HP:0007018); Bicuspid aortic valve (HP:0001647); Sleep abnormality (HP:0002360); Intellectual disability, moderate (HP:0002342); excluded: Horseshoe kidney (HP:0000085); excluded: Right aortic arch (HP:0012020)</td></tr>\n",
       "<tr><td style=\"text-align: left;\">Patient III-2 (MALE; P8Y)</td><td style=\"text-align: left;\">Intellectual developmental disorder, X-linked 112 (OMIM:301111)</td><td style=\"text-align: left;\">NM_005096.3:c.1321C>T (heterozygous)</td><td style=\"text-align: left;\"><b>P0D</b>: Hypospadias (HP:0000047); Horseshoe kidney (HP:0000085)<br/>Enuresis nocturna (HP:0010677); Cupped ear (HP:0000378); Attention deficit hyperactivity disorder (HP:0007018); Right aortic arch (HP:0012020); Bicuspid aortic valve (HP:0001647); Sleep abnormality (HP:0002360); Intellectual disability, moderate (HP:0002342)</td></tr>\n",
       "<tr><td style=\"text-align: left;\">Patient III-3 (MALE; P7Y)</td><td style=\"text-align: left;\">Intellectual developmental disorder, X-linked 112 (OMIM:301111)</td><td style=\"text-align: left;\">NM_005096.3:c.1321C>T (heterozygous)</td><td style=\"text-align: left;\"><b>P0D</b>: Hypospadias (HP:0000047)<br/>Cupped ear (HP:0000378); Sleep abnormality (HP:0002360); Intellectual disability, moderate (HP:0002342); excluded: Horseshoe kidney (HP:0000085); excluded: Enuresis nocturna (HP:0010677); excluded: Right aortic arch (HP:0012020); excluded: Bicuspid aortic valve (HP:0001647)</td></tr>\n",
       "</table>"
      ],
      "text/plain": [
       "<IPython.core.display.HTML object>"
      ]
     },
     "metadata": {},
     "output_type": "display_data"
    }
   ],
   "source": [
    "table = IndividualTable(cvalidator.get_error_free_individual_list())\n",
    "display(HTML(table.to_html()))"
   ]
  },
  {
   "cell_type": "code",
   "execution_count": null,
   "id": "cf77ca1b-8b41-40b1-b558-1d86a6c07729",
   "metadata": {},
   "outputs": [],
   "source": []
  }
 ],
 "metadata": {
  "kernelspec": {
   "display_name": "Python 3 (ipykernel)",
   "language": "python",
   "name": "python3"
  },
  "language_info": {
   "codemirror_mode": {
    "name": "ipython",
    "version": 3
   },
   "file_extension": ".py",
   "mimetype": "text/x-python",
   "name": "python",
   "nbconvert_exporter": "python",
   "pygments_lexer": "ipython3",
   "version": "3.8.10"
  }
 },
 "nbformat": 4,
 "nbformat_minor": 5
}
