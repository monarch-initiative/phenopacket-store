{
 "cells": [
  {
   "cell_type": "markdown",
   "id": "d44fd2dc-e80a-43cd-b4ae-29b8c4b8b4bd",
   "metadata": {},
   "source": [
    "# ZMYM3\n",
    "\n",
    "data derived from [Hiatt SM, et al. (2023) Deleterious, protein-altering variants in the transcriptional coregulator ZMYM3 in 27 individuals with a neurodevelopmental delay phenotype. Am J Hum Genet](https://pubmed.ncbi.nlm.nih.gov/36586412/).\n",
    "Note that precise information about the age of onset is not provided. From the context, we assume Infantile onset."
   ]
  },
  {
   "cell_type": "code",
   "execution_count": 1,
   "id": "d479d93d-571b-4c28-a5d8-c0df26dc9871",
   "metadata": {},
   "outputs": [
    {
     "name": "stdout",
     "output_type": "stream",
     "text": [
      "Using pyphetools version 0.9.78\n"
     ]
    },
    {
     "name": "stderr",
     "output_type": "stream",
     "text": [
      "/Users/robin/GIT/phenopacket-store/ps24venv/lib/python3.9/site-packages/urllib3/__init__.py:35: NotOpenSSLWarning: urllib3 v2 only supports OpenSSL 1.1.1+, currently the 'ssl' module is compiled with 'LibreSSL 2.8.3'. See: https://github.com/urllib3/urllib3/issues/3020\n",
      "  warnings.warn(\n"
     ]
    }
   ],
   "source": [
    "import pandas as pd\n",
    "pd.set_option('display.max_colwidth', None) # show entire column contents, important!\n",
    "from IPython.display import display, HTML\n",
    "from pyphetools.creation import *\n",
    "from pyphetools.visualization import *\n",
    "from pyphetools.validation import *\n",
    "import pyphetools\n",
    "print(f\"Using pyphetools version {pyphetools.__version__}\")"
   ]
  },
  {
   "cell_type": "code",
   "execution_count": 2,
   "id": "68bb0c9a-3ed8-47ca-af93-ebdceae56e89",
   "metadata": {},
   "outputs": [
    {
     "name": "stdout",
     "output_type": "stream",
     "text": [
      "HPO version 2024-04-04\n"
     ]
    }
   ],
   "source": [
    "PMID = \"PMID:36586412\"\n",
    "title = \"Deleterious, protein-altering variants in the transcriptional coregulator ZMYM3 in 27 individuals with a neurodevelopmental delay phenotype\"\n",
    "cite = Citation(pmid=PMID, title=title)\n",
    "metadata = MetaData(created_by=\"ORCID:0000-0002-5648-2155\", citation=cite)\n",
    "parser = HpoParser(hpo_json_file=\"../hp.json\")\n",
    "hpo_cr = parser.get_hpo_concept_recognizer()\n",
    "hpo_version = parser.get_version()\n",
    "hpo_ontology = parser.get_ontology()\n",
    "metadata.default_versions_with_hpo(version=hpo_version)\n",
    "print(f\"HPO version {hpo_version}\")\n"
   ]
  },
  {
   "cell_type": "code",
   "execution_count": 3,
   "id": "4a352451-b61d-4635-ac54-0bd4efc4753c",
   "metadata": {},
   "outputs": [],
   "source": [
    "df = pd.read_excel(\"input/Hiatt_ZMYM3_2023.xlsx\")"
   ]
  },
  {
   "cell_type": "code",
   "execution_count": 4,
   "id": "4373e5f5-7c5f-4710-b0db-cd04f1c37fbf",
   "metadata": {},
   "outputs": [
    {
     "data": {
      "text/html": [
       "<div>\n",
       "<style scoped>\n",
       "    .dataframe tbody tr th:only-of-type {\n",
       "        vertical-align: middle;\n",
       "    }\n",
       "\n",
       "    .dataframe tbody tr th {\n",
       "        vertical-align: top;\n",
       "    }\n",
       "\n",
       "    .dataframe thead th {\n",
       "        text-align: right;\n",
       "    }\n",
       "</style>\n",
       "<table border=\"1\" class=\"dataframe\">\n",
       "  <thead>\n",
       "    <tr style=\"text-align: right;\">\n",
       "      <th></th>\n",
       "      <th>Individual</th>\n",
       "      <th>Sex</th>\n",
       "      <th>Age (years)</th>\n",
       "      <th>Zygosity</th>\n",
       "      <th>Inheritance</th>\n",
       "      <th>Mother’s NDD-related phenotype</th>\n",
       "      <th>Variant (NM_005096.3; NP_005087.1)</th>\n",
       "      <th>Speech delay</th>\n",
       "      <th>Motor delay</th>\n",
       "      <th>ID</th>\n",
       "      <th>ASD traits</th>\n",
       "      <th>Behavioral problems</th>\n",
       "      <th>Facial dys-morphism</th>\n",
       "      <th>GU anomalies</th>\n",
       "      <th>Other</th>\n",
       "    </tr>\n",
       "  </thead>\n",
       "  <tbody>\n",
       "    <tr>\n",
       "      <th>0</th>\n",
       "      <td>1</td>\n",
       "      <td>male</td>\n",
       "      <td>3.0</td>\n",
       "      <td>hemizygous</td>\n",
       "      <td>maternal</td>\n",
       "      <td>none</td>\n",
       "      <td>c.205G&gt;A (p.Asp69Asn)</td>\n",
       "      <td>yes</td>\n",
       "      <td>yes</td>\n",
       "      <td>NaN</td>\n",
       "      <td>NaN</td>\n",
       "      <td>no</td>\n",
       "      <td>no</td>\n",
       "      <td>urinary tract dilatation of left kidney on ultrasound</td>\n",
       "      <td>congenital heart defects</td>\n",
       "    </tr>\n",
       "    <tr>\n",
       "      <th>1</th>\n",
       "      <td>21</td>\n",
       "      <td>male</td>\n",
       "      <td>18.2</td>\n",
       "      <td>hemizygous</td>\n",
       "      <td>unknown</td>\n",
       "      <td>none</td>\n",
       "      <td>c.507A&gt;T (p.Arg169Ser)</td>\n",
       "      <td>yes</td>\n",
       "      <td>no</td>\n",
       "      <td>yes</td>\n",
       "      <td>yes</td>\n",
       "      <td>yes</td>\n",
       "      <td>yes</td>\n",
       "      <td>hypospadias</td>\n",
       "      <td>–</td>\n",
       "    </tr>\n",
       "  </tbody>\n",
       "</table>\n",
       "</div>"
      ],
      "text/plain": [
       "  Individual   Sex  Age (years)    Zygosity Inheritance  \\\n",
       "0          1  male          3.0  hemizygous    maternal   \n",
       "1         21  male         18.2  hemizygous     unknown   \n",
       "\n",
       "  Mother’s NDD-related phenotype Variant (NM_005096.3; NP_005087.1)  \\\n",
       "0                           none              c.205G>A (p.Asp69Asn)   \n",
       "1                           none             c.507A>T (p.Arg169Ser)   \n",
       "\n",
       "  Speech delay Motor delay   ID ASD traits Behavioral problems  \\\n",
       "0          yes         yes  NaN        NaN                  no   \n",
       "1          yes          no  yes        yes                 yes   \n",
       "\n",
       "  Facial dys-morphism                                           GU anomalies  \\\n",
       "0                  no  urinary tract dilatation of left kidney on ultrasound   \n",
       "1                 yes                                            hypospadias   \n",
       "\n",
       "                      Other  \n",
       "0  congenital heart defects  \n",
       "1                         –  "
      ]
     },
     "execution_count": 4,
     "metadata": {},
     "output_type": "execute_result"
    }
   ],
   "source": [
    "df.head(2)"
   ]
  },
  {
   "cell_type": "code",
   "execution_count": 5,
   "id": "74191ef2-313b-48bd-986b-becbeed94df1",
   "metadata": {},
   "outputs": [
    {
     "data": {
      "text/plain": [
       "Index(['Individual', 'Sex', 'Age (years)', 'Zygosity', 'Inheritance',\n",
       "       'Mother’s NDD-related phenotype', 'Variant (NM_005096.3; NP_005087.1)',\n",
       "       'Speech delay', 'Motor delay', 'ID', 'ASD traits',\n",
       "       'Behavioral problems', 'Facial dys-morphism', 'GU anomalies', 'Other'],\n",
       "      dtype='object')"
      ]
     },
     "execution_count": 5,
     "metadata": {},
     "output_type": "execute_result"
    }
   ],
   "source": [
    "df.columns"
   ]
  },
  {
   "cell_type": "code",
   "execution_count": 6,
   "id": "39ea73e3-bb60-45e9-b3da-4a72ca03ecff",
   "metadata": {},
   "outputs": [],
   "source": [
    "sexMapper = SexColumnMapper(column_name=\"Sex\", male_symbol=\"male\", female_symbol=\"female\")\n",
    "#sexMapper.preview_column(df)"
   ]
  },
  {
   "cell_type": "code",
   "execution_count": 7,
   "id": "1ec338cc-0030-4f9b-aa59-2f77c884ebc0",
   "metadata": {},
   "outputs": [],
   "source": [
    "ageMapper = AgeColumnMapper.by_year(column_name=\"Age (years)\")\n",
    "#ageMapper.preview_column(df)\n",
    "# This is the age at last encounter, not age of onset, which is not specified. Leave out for now"
   ]
  },
  {
   "cell_type": "code",
   "execution_count": 8,
   "id": "b38a5ddb-3ba0-4dbf-ae75-12dc2d4a8f5e",
   "metadata": {},
   "outputs": [],
   "source": [
    "# isolate the HGVC cDNA variant\n",
    "df[\"NM_005096.3\"] = df[\"Variant (NM_005096.3; NP_005087.1)\"].apply(lambda x: x.split()[0])"
   ]
  },
  {
   "cell_type": "code",
   "execution_count": 9,
   "id": "ce5ac135-3cf9-4cf3-ac7c-af046dedcce0",
   "metadata": {},
   "outputs": [
    {
     "data": {
      "text/html": [
       "<div>\n",
       "<style scoped>\n",
       "    .dataframe tbody tr th:only-of-type {\n",
       "        vertical-align: middle;\n",
       "    }\n",
       "\n",
       "    .dataframe tbody tr th {\n",
       "        vertical-align: top;\n",
       "    }\n",
       "\n",
       "    .dataframe thead th {\n",
       "        text-align: right;\n",
       "    }\n",
       "</style>\n",
       "<table border=\"1\" class=\"dataframe\">\n",
       "  <thead>\n",
       "    <tr style=\"text-align: right;\">\n",
       "      <th></th>\n",
       "      <th>mapping</th>\n",
       "      <th>count</th>\n",
       "    </tr>\n",
       "  </thead>\n",
       "  <tbody>\n",
       "    <tr>\n",
       "      <th>0</th>\n",
       "      <td>original value: \"yes\" -&gt; HP: Delayed speech and language development (HP:0000750) (observed)</td>\n",
       "      <td>26</td>\n",
       "    </tr>\n",
       "    <tr>\n",
       "      <th>1</th>\n",
       "      <td>original value: \"nan\" -&gt; HP: Delayed speech and language development (HP:0000750) (not measured)</td>\n",
       "      <td>1</td>\n",
       "    </tr>\n",
       "  </tbody>\n",
       "</table>\n",
       "</div>"
      ],
      "text/plain": [
       "                                                                                            mapping  \\\n",
       "0      original value: \"yes\" -> HP: Delayed speech and language development (HP:0000750) (observed)   \n",
       "1  original value: \"nan\" -> HP: Delayed speech and language development (HP:0000750) (not measured)   \n",
       "\n",
       "  count  \n",
       "0    26  \n",
       "1     1  "
      ]
     },
     "execution_count": 9,
     "metadata": {},
     "output_type": "execute_result"
    }
   ],
   "source": [
    "column_mapper_list = list()\n",
    "speechMapper = SimpleColumnMapper(hpo_id=\"HP:0000750\", hpo_label=\"Delayed speech and language development\",\n",
    "                                 observed=\"yes\", excluded=\"no\", column_name=\"Speech delay\")\n",
    "column_mapper_list.append(speechMapper)\n",
    "speechMapper.preview_column(df)"
   ]
  },
  {
   "cell_type": "code",
   "execution_count": 10,
   "id": "7a61f6e7-2e89-44ef-9113-5fd9571f061e",
   "metadata": {},
   "outputs": [
    {
     "data": {
      "text/html": [
       "<div>\n",
       "<style scoped>\n",
       "    .dataframe tbody tr th:only-of-type {\n",
       "        vertical-align: middle;\n",
       "    }\n",
       "\n",
       "    .dataframe tbody tr th {\n",
       "        vertical-align: top;\n",
       "    }\n",
       "\n",
       "    .dataframe thead th {\n",
       "        text-align: right;\n",
       "    }\n",
       "</style>\n",
       "<table border=\"1\" class=\"dataframe\">\n",
       "  <thead>\n",
       "    <tr style=\"text-align: right;\">\n",
       "      <th></th>\n",
       "      <th>mapping</th>\n",
       "      <th>count</th>\n",
       "    </tr>\n",
       "  </thead>\n",
       "  <tbody>\n",
       "    <tr>\n",
       "      <th>0</th>\n",
       "      <td>original value: \"yes\" -&gt; HP: Motor delay (HP:0001270) (observed)</td>\n",
       "      <td>18</td>\n",
       "    </tr>\n",
       "    <tr>\n",
       "      <th>1</th>\n",
       "      <td>original value: \"no\" -&gt; HP: Motor delay (HP:0001270) (excluded)</td>\n",
       "      <td>8</td>\n",
       "    </tr>\n",
       "    <tr>\n",
       "      <th>2</th>\n",
       "      <td>original value: \"nan\" -&gt; HP: Motor delay (HP:0001270) (not measured)</td>\n",
       "      <td>1</td>\n",
       "    </tr>\n",
       "  </tbody>\n",
       "</table>\n",
       "</div>"
      ],
      "text/plain": [
       "                                                                mapping count\n",
       "0      original value: \"yes\" -> HP: Motor delay (HP:0001270) (observed)    18\n",
       "1       original value: \"no\" -> HP: Motor delay (HP:0001270) (excluded)     8\n",
       "2  original value: \"nan\" -> HP: Motor delay (HP:0001270) (not measured)     1"
      ]
     },
     "execution_count": 10,
     "metadata": {},
     "output_type": "execute_result"
    }
   ],
   "source": [
    "motorMapper = SimpleColumnMapper(hpo_id=\"HP:0001270\", hpo_label=\"Motor delay\",\n",
    "                                 observed=\"yes\", excluded=\"no\", column_name=\"Motor delay\")\n",
    "column_mapper_list.append(motorMapper)\n",
    "motorMapper.preview_column(df)"
   ]
  },
  {
   "cell_type": "code",
   "execution_count": 11,
   "id": "c3f94bb5-0bee-4cc7-97f0-3a695c53b9b0",
   "metadata": {},
   "outputs": [
    {
     "data": {
      "text/html": [
       "<div>\n",
       "<style scoped>\n",
       "    .dataframe tbody tr th:only-of-type {\n",
       "        vertical-align: middle;\n",
       "    }\n",
       "\n",
       "    .dataframe tbody tr th {\n",
       "        vertical-align: top;\n",
       "    }\n",
       "\n",
       "    .dataframe thead th {\n",
       "        text-align: right;\n",
       "    }\n",
       "</style>\n",
       "<table border=\"1\" class=\"dataframe\">\n",
       "  <thead>\n",
       "    <tr style=\"text-align: right;\">\n",
       "      <th></th>\n",
       "      <th>mapping</th>\n",
       "      <th>count</th>\n",
       "    </tr>\n",
       "  </thead>\n",
       "  <tbody>\n",
       "    <tr>\n",
       "      <th>0</th>\n",
       "      <td>original value: \"nan\" -&gt; HP: Intellectual disability (HP:0001249) (not measured)</td>\n",
       "      <td>7</td>\n",
       "    </tr>\n",
       "    <tr>\n",
       "      <th>1</th>\n",
       "      <td>original value: \"yes\" -&gt; HP: Intellectual disability (HP:0001249) (observed)</td>\n",
       "      <td>17</td>\n",
       "    </tr>\n",
       "    <tr>\n",
       "      <th>2</th>\n",
       "      <td>original value: \"no\" -&gt; HP: Intellectual disability (HP:0001249) (excluded)</td>\n",
       "      <td>3</td>\n",
       "    </tr>\n",
       "  </tbody>\n",
       "</table>\n",
       "</div>"
      ],
      "text/plain": [
       "                                                                            mapping  \\\n",
       "0  original value: \"nan\" -> HP: Intellectual disability (HP:0001249) (not measured)   \n",
       "1      original value: \"yes\" -> HP: Intellectual disability (HP:0001249) (observed)   \n",
       "2       original value: \"no\" -> HP: Intellectual disability (HP:0001249) (excluded)   \n",
       "\n",
       "  count  \n",
       "0     7  \n",
       "1    17  \n",
       "2     3  "
      ]
     },
     "execution_count": 11,
     "metadata": {},
     "output_type": "execute_result"
    }
   ],
   "source": [
    "idMapper = SimpleColumnMapper(hpo_id=\"HP:0001249\", hpo_label=\"Intellectual disability\",\n",
    "                                 observed=\"yes\", excluded=\"no\", column_name=\"ID\")\n",
    "column_mapper_list.append(idMapper)\n",
    "idMapper.preview_column(df)"
   ]
  },
  {
   "cell_type": "code",
   "execution_count": 12,
   "id": "9659b5b4-ced9-4186-ada7-3b3d8878e349",
   "metadata": {},
   "outputs": [
    {
     "data": {
      "text/html": [
       "<div>\n",
       "<style scoped>\n",
       "    .dataframe tbody tr th:only-of-type {\n",
       "        vertical-align: middle;\n",
       "    }\n",
       "\n",
       "    .dataframe tbody tr th {\n",
       "        vertical-align: top;\n",
       "    }\n",
       "\n",
       "    .dataframe thead th {\n",
       "        text-align: right;\n",
       "    }\n",
       "</style>\n",
       "<table border=\"1\" class=\"dataframe\">\n",
       "  <thead>\n",
       "    <tr style=\"text-align: right;\">\n",
       "      <th></th>\n",
       "      <th>mapping</th>\n",
       "      <th>count</th>\n",
       "    </tr>\n",
       "  </thead>\n",
       "  <tbody>\n",
       "    <tr>\n",
       "      <th>0</th>\n",
       "      <td>original value: \"nan\" -&gt; HP: Autistic behavior (HP:0000729) (not measured)</td>\n",
       "      <td>6</td>\n",
       "    </tr>\n",
       "    <tr>\n",
       "      <th>1</th>\n",
       "      <td>original value: \"yes\" -&gt; HP: Autistic behavior (HP:0000729) (observed)</td>\n",
       "      <td>15</td>\n",
       "    </tr>\n",
       "    <tr>\n",
       "      <th>2</th>\n",
       "      <td>original value: \"no\" -&gt; HP: Autistic behavior (HP:0000729) (excluded)</td>\n",
       "      <td>6</td>\n",
       "    </tr>\n",
       "  </tbody>\n",
       "</table>\n",
       "</div>"
      ],
      "text/plain": [
       "                                                                      mapping  \\\n",
       "0  original value: \"nan\" -> HP: Autistic behavior (HP:0000729) (not measured)   \n",
       "1      original value: \"yes\" -> HP: Autistic behavior (HP:0000729) (observed)   \n",
       "2       original value: \"no\" -> HP: Autistic behavior (HP:0000729) (excluded)   \n",
       "\n",
       "  count  \n",
       "0     6  \n",
       "1    15  \n",
       "2     6  "
      ]
     },
     "execution_count": 12,
     "metadata": {},
     "output_type": "execute_result"
    }
   ],
   "source": [
    "asdMapper = SimpleColumnMapper(hpo_id=\"HP:0000729\", hpo_label=\"Autistic behavior\",\n",
    "                                 observed=\"yes\", excluded=\"no\", column_name=\"ASD traits\")\n",
    "column_mapper_list.append(asdMapper)\n",
    "asdMapper.preview_column(df)"
   ]
  },
  {
   "cell_type": "code",
   "execution_count": 13,
   "id": "1ee7e065-09b6-4877-80f9-7d9739ba89d0",
   "metadata": {},
   "outputs": [
    {
     "data": {
      "text/html": [
       "<div>\n",
       "<style scoped>\n",
       "    .dataframe tbody tr th:only-of-type {\n",
       "        vertical-align: middle;\n",
       "    }\n",
       "\n",
       "    .dataframe tbody tr th {\n",
       "        vertical-align: top;\n",
       "    }\n",
       "\n",
       "    .dataframe thead th {\n",
       "        text-align: right;\n",
       "    }\n",
       "</style>\n",
       "<table border=\"1\" class=\"dataframe\">\n",
       "  <thead>\n",
       "    <tr style=\"text-align: right;\">\n",
       "      <th></th>\n",
       "      <th>mapping</th>\n",
       "      <th>count</th>\n",
       "    </tr>\n",
       "  </thead>\n",
       "  <tbody>\n",
       "    <tr>\n",
       "      <th>0</th>\n",
       "      <td>original value: \"no\" -&gt; HP: Atypical behavior (HP:0000708) (excluded)</td>\n",
       "      <td>7</td>\n",
       "    </tr>\n",
       "    <tr>\n",
       "      <th>1</th>\n",
       "      <td>original value: \"yes\" -&gt; HP: Atypical behavior (HP:0000708) (observed)</td>\n",
       "      <td>18</td>\n",
       "    </tr>\n",
       "    <tr>\n",
       "      <th>2</th>\n",
       "      <td>original value: \"nan\" -&gt; HP: Atypical behavior (HP:0000708) (not measured)</td>\n",
       "      <td>2</td>\n",
       "    </tr>\n",
       "  </tbody>\n",
       "</table>\n",
       "</div>"
      ],
      "text/plain": [
       "                                                                      mapping  \\\n",
       "0       original value: \"no\" -> HP: Atypical behavior (HP:0000708) (excluded)   \n",
       "1      original value: \"yes\" -> HP: Atypical behavior (HP:0000708) (observed)   \n",
       "2  original value: \"nan\" -> HP: Atypical behavior (HP:0000708) (not measured)   \n",
       "\n",
       "  count  \n",
       "0     7  \n",
       "1    18  \n",
       "2     2  "
      ]
     },
     "execution_count": 13,
     "metadata": {},
     "output_type": "execute_result"
    }
   ],
   "source": [
    "behavioralMapper =  SimpleColumnMapper(hpo_id=\"HP:0000708\", hpo_label=\"Atypical behavior\",\n",
    "                                 observed=\"yes\", excluded=\"no\", column_name=\"Behavioral problems\")\n",
    "column_mapper_list.append(behavioralMapper)\n",
    "behavioralMapper.preview_column(df)"
   ]
  },
  {
   "cell_type": "code",
   "execution_count": 14,
   "id": "04ff7352-8aaf-408e-affd-105e26b82182",
   "metadata": {},
   "outputs": [
    {
     "data": {
      "text/html": [
       "<div>\n",
       "<style scoped>\n",
       "    .dataframe tbody tr th:only-of-type {\n",
       "        vertical-align: middle;\n",
       "    }\n",
       "\n",
       "    .dataframe tbody tr th {\n",
       "        vertical-align: top;\n",
       "    }\n",
       "\n",
       "    .dataframe thead th {\n",
       "        text-align: right;\n",
       "    }\n",
       "</style>\n",
       "<table border=\"1\" class=\"dataframe\">\n",
       "  <thead>\n",
       "    <tr style=\"text-align: right;\">\n",
       "      <th></th>\n",
       "      <th>mapping</th>\n",
       "      <th>count</th>\n",
       "    </tr>\n",
       "  </thead>\n",
       "  <tbody>\n",
       "    <tr>\n",
       "      <th>0</th>\n",
       "      <td>Hypospadias (HP:0000047) (observed)</td>\n",
       "      <td>3</td>\n",
       "    </tr>\n",
       "    <tr>\n",
       "      <th>1</th>\n",
       "      <td>Pyelonephritis (HP:0012330) (observed)</td>\n",
       "      <td>1</td>\n",
       "    </tr>\n",
       "    <tr>\n",
       "      <th>2</th>\n",
       "      <td>Vesicoureteral reflux (HP:0000076) (observed)</td>\n",
       "      <td>2</td>\n",
       "    </tr>\n",
       "    <tr>\n",
       "      <th>3</th>\n",
       "      <td>Renal cyst (HP:0000107) (observed)</td>\n",
       "      <td>1</td>\n",
       "    </tr>\n",
       "    <tr>\n",
       "      <th>4</th>\n",
       "      <td>Cryptorchidism (HP:0000028) (observed)</td>\n",
       "      <td>2</td>\n",
       "    </tr>\n",
       "    <tr>\n",
       "      <th>5</th>\n",
       "      <td>Enuresis (HP:0000805) (observed)</td>\n",
       "      <td>2</td>\n",
       "    </tr>\n",
       "    <tr>\n",
       "      <th>6</th>\n",
       "      <td>Ambiguous genitalia (HP:0000062) (observed)</td>\n",
       "      <td>1</td>\n",
       "    </tr>\n",
       "    <tr>\n",
       "      <th>7</th>\n",
       "      <td>Ectopic kidney (HP:0000086) (observed)</td>\n",
       "      <td>1</td>\n",
       "    </tr>\n",
       "    <tr>\n",
       "      <th>8</th>\n",
       "      <td>Dilatation of the renal pelvis (HP:0010946) (observed)</td>\n",
       "      <td>1</td>\n",
       "    </tr>\n",
       "  </tbody>\n",
       "</table>\n",
       "</div>"
      ],
      "text/plain": [
       "                                                  mapping count\n",
       "0                     Hypospadias (HP:0000047) (observed)     3\n",
       "1                  Pyelonephritis (HP:0012330) (observed)     1\n",
       "2           Vesicoureteral reflux (HP:0000076) (observed)     2\n",
       "3                      Renal cyst (HP:0000107) (observed)     1\n",
       "4                  Cryptorchidism (HP:0000028) (observed)     2\n",
       "5                        Enuresis (HP:0000805) (observed)     2\n",
       "6             Ambiguous genitalia (HP:0000062) (observed)     1\n",
       "7                  Ectopic kidney (HP:0000086) (observed)     1\n",
       "8  Dilatation of the renal pelvis (HP:0010946) (observed)     1"
      ]
     },
     "execution_count": 14,
     "metadata": {},
     "output_type": "execute_result"
    }
   ],
   "source": [
    "# Omitting \"Facial dys-morphism\" as detailed descriptions not available\n",
    "gu_d = {\n",
    " 'hypospadias': 'Hypospadias',\n",
    " 'pielonephritis': 'Pyelonephritis',\n",
    " 'vesicoureteral reflux': 'Vesicoureteral reflux',\n",
    " 'single renal cyst': 'Renal cyst',\n",
    " 'cryptorchidism': 'Cryptorchidism',\n",
    " 'enuresis': 'Enuresis',\n",
    " 'ambiguous genitalia': 'Ambiguous genitalia',\n",
    " 'ectopic kidney': 'Ectopic kidney',\n",
    " 'pyelectasis': 'Dilatation of the renal pelvis'}\n",
    "excluded = {}\n",
    "guMapper = OptionColumnMapper(column_name=\"GU anomalies\", concept_recognizer=hpo_cr, option_d=gu_d, excluded_d=excluded)\n",
    "column_mapper_list.append(guMapper)\n",
    "guMapper.preview_column(df)"
   ]
  },
  {
   "cell_type": "code",
   "execution_count": 15,
   "id": "19ea2346-8c99-44ab-b115-75492d0b3314",
   "metadata": {},
   "outputs": [
    {
     "data": {
      "text/html": [
       "<div>\n",
       "<style scoped>\n",
       "    .dataframe tbody tr th:only-of-type {\n",
       "        vertical-align: middle;\n",
       "    }\n",
       "\n",
       "    .dataframe tbody tr th {\n",
       "        vertical-align: top;\n",
       "    }\n",
       "\n",
       "    .dataframe thead th {\n",
       "        text-align: right;\n",
       "    }\n",
       "</style>\n",
       "<table border=\"1\" class=\"dataframe\">\n",
       "  <thead>\n",
       "    <tr style=\"text-align: right;\">\n",
       "      <th></th>\n",
       "      <th>mapping</th>\n",
       "      <th>count</th>\n",
       "    </tr>\n",
       "  </thead>\n",
       "  <tbody>\n",
       "    <tr>\n",
       "      <th>0</th>\n",
       "      <td>Abnormal heart morphology (HP:0001627) (observed)</td>\n",
       "      <td>1</td>\n",
       "    </tr>\n",
       "    <tr>\n",
       "      <th>1</th>\n",
       "      <td>Heat intolerance (HP:0002046) (observed)</td>\n",
       "      <td>1</td>\n",
       "    </tr>\n",
       "    <tr>\n",
       "      <th>2</th>\n",
       "      <td>Fatigue (HP:0012378) (observed)</td>\n",
       "      <td>1</td>\n",
       "    </tr>\n",
       "    <tr>\n",
       "      <th>3</th>\n",
       "      <td>Gastroesophageal reflux (HP:0002020) (observed)</td>\n",
       "      <td>4</td>\n",
       "    </tr>\n",
       "    <tr>\n",
       "      <th>4</th>\n",
       "      <td>Mild short stature (HP:0003502) (observed)</td>\n",
       "      <td>1</td>\n",
       "    </tr>\n",
       "    <tr>\n",
       "      <th>5</th>\n",
       "      <td>Constipation (HP:0002019) (observed)</td>\n",
       "      <td>2</td>\n",
       "    </tr>\n",
       "    <tr>\n",
       "      <th>6</th>\n",
       "      <td>Short stature (HP:0004322) (observed)</td>\n",
       "      <td>5</td>\n",
       "    </tr>\n",
       "    <tr>\n",
       "      <th>7</th>\n",
       "      <td>Microcephaly (HP:0000252) (observed)</td>\n",
       "      <td>5</td>\n",
       "    </tr>\n",
       "    <tr>\n",
       "      <th>8</th>\n",
       "      <td>Myopia (HP:0000545) (observed)</td>\n",
       "      <td>1</td>\n",
       "    </tr>\n",
       "    <tr>\n",
       "      <th>9</th>\n",
       "      <td>Retinopathy (HP:0000488) (observed)</td>\n",
       "      <td>1</td>\n",
       "    </tr>\n",
       "    <tr>\n",
       "      <th>10</th>\n",
       "      <td>Gastrointestinal dysmotility (HP:0002579) (observed)</td>\n",
       "      <td>2</td>\n",
       "    </tr>\n",
       "    <tr>\n",
       "      <th>11</th>\n",
       "      <td>Kyphoscoliosis (HP:0002751) (observed)</td>\n",
       "      <td>1</td>\n",
       "    </tr>\n",
       "    <tr>\n",
       "      <th>12</th>\n",
       "      <td>Kyphosis (HP:0002808) (observed)</td>\n",
       "      <td>1</td>\n",
       "    </tr>\n",
       "    <tr>\n",
       "      <th>13</th>\n",
       "      <td>Madelung deformity (HP:0003067) (observed)</td>\n",
       "      <td>1</td>\n",
       "    </tr>\n",
       "    <tr>\n",
       "      <th>14</th>\n",
       "      <td>Scoliosis (HP:0002650) (observed)</td>\n",
       "      <td>2</td>\n",
       "    </tr>\n",
       "    <tr>\n",
       "      <th>15</th>\n",
       "      <td>Joint hypermobility (HP:0001382) (observed)</td>\n",
       "      <td>1</td>\n",
       "    </tr>\n",
       "    <tr>\n",
       "      <th>16</th>\n",
       "      <td>Pain (HP:0012531) (observed)</td>\n",
       "      <td>1</td>\n",
       "    </tr>\n",
       "    <tr>\n",
       "      <th>17</th>\n",
       "      <td>Volvulus (HP:0002580) (observed)</td>\n",
       "      <td>1</td>\n",
       "    </tr>\n",
       "    <tr>\n",
       "      <th>18</th>\n",
       "      <td>Pancreatic cysts (HP:0001737) (observed)</td>\n",
       "      <td>1</td>\n",
       "    </tr>\n",
       "  </tbody>\n",
       "</table>\n",
       "</div>"
      ],
      "text/plain": [
       "                                                 mapping count\n",
       "0      Abnormal heart morphology (HP:0001627) (observed)     1\n",
       "1               Heat intolerance (HP:0002046) (observed)     1\n",
       "2                        Fatigue (HP:0012378) (observed)     1\n",
       "3        Gastroesophageal reflux (HP:0002020) (observed)     4\n",
       "4             Mild short stature (HP:0003502) (observed)     1\n",
       "5                   Constipation (HP:0002019) (observed)     2\n",
       "6                  Short stature (HP:0004322) (observed)     5\n",
       "7                   Microcephaly (HP:0000252) (observed)     5\n",
       "8                         Myopia (HP:0000545) (observed)     1\n",
       "9                    Retinopathy (HP:0000488) (observed)     1\n",
       "10  Gastrointestinal dysmotility (HP:0002579) (observed)     2\n",
       "11                Kyphoscoliosis (HP:0002751) (observed)     1\n",
       "12                      Kyphosis (HP:0002808) (observed)     1\n",
       "13            Madelung deformity (HP:0003067) (observed)     1\n",
       "14                     Scoliosis (HP:0002650) (observed)     2\n",
       "15           Joint hypermobility (HP:0001382) (observed)     1\n",
       "16                          Pain (HP:0012531) (observed)     1\n",
       "17                      Volvulus (HP:0002580) (observed)     1\n",
       "18              Pancreatic cysts (HP:0001737) (observed)     1"
      ]
     },
     "execution_count": 15,
     "metadata": {},
     "output_type": "execute_result"
    }
   ],
   "source": [
    "other_d = {\n",
    " 'fasting and heat intolerance': 'Heat intolerance',\n",
    " 'excessive fatigue': 'Fatigue',\n",
    " 'GERD': 'Gastroesophageal reflux',\n",
    " 'mild short stature': 'Mild short stature',\n",
    " 'constipation': 'Constipation',\n",
    " 'short stature': 'Short stature',\n",
    " 'microcephaly': 'Microcephaly',\n",
    " 'myopia': 'Myopia',\n",
    " 'retinopathy': 'Retinopathy',\n",
    " 'GI dysmotility': 'Gastrointestinal dysmotility',\n",
    " 'kyphoscoliosis': 'Kyphoscoliosis',\n",
    " 'kyphosis': 'Kyphosis',\n",
    " 'Madelung deformity': 'Madelung deformity',\n",
    " 'scoliosis': 'Scoliosis',\n",
    " 'reflux': 'Gastroesophageal reflux',\n",
    " 'joint laxity': 'Joint hypermobility',\n",
    " 'volvulus of midgut': 'Volvulus',\n",
    " 'pancreatic cysts': 'Pancreatic cysts'}\n",
    "excluded = {}\n",
    "otherMapper = OptionColumnMapper(column_name=\"Other\", concept_recognizer=hpo_cr, option_d=other_d, excluded_d=excluded)\n",
    "column_mapper_list.append(otherMapper)\n",
    "otherMapper.preview_column(df)"
   ]
  },
  {
   "cell_type": "code",
   "execution_count": 16,
   "id": "faa15f37-2944-4361-8e5b-04ec2dbadf46",
   "metadata": {},
   "outputs": [
    {
     "name": "stdout",
     "output_type": "stream",
     "text": [
      "[INFO] encoding variant \"c.205G>A\"\n",
      "https://rest.variantvalidator.org/VariantValidator/variantvalidator/hg38/NM_005096.3%3Ac.205G>A/NM_005096.3?content-type=application%2Fjson\n",
      "[INFO] encoding variant \"c.3371G>A\"\n",
      "https://rest.variantvalidator.org/VariantValidator/variantvalidator/hg38/NM_005096.3%3Ac.3371G>A/NM_005096.3?content-type=application%2Fjson\n",
      "[INFO] encoding variant \"c.507A>T\"\n",
      "https://rest.variantvalidator.org/VariantValidator/variantvalidator/hg38/NM_005096.3%3Ac.507A>T/NM_005096.3?content-type=application%2Fjson\n",
      "[INFO] encoding variant \"c.1192C>T\"\n",
      "https://rest.variantvalidator.org/VariantValidator/variantvalidator/hg38/NM_005096.3%3Ac.1192C>T/NM_005096.3?content-type=application%2Fjson\n",
      "[INFO] encoding variant \"c.2193G>C\"\n",
      "https://rest.variantvalidator.org/VariantValidator/variantvalidator/hg38/NM_005096.3%3Ac.2193G>C/NM_005096.3?content-type=application%2Fjson\n",
      "[INFO] encoding variant \"c.1360T>C\"\n",
      "https://rest.variantvalidator.org/VariantValidator/variantvalidator/hg38/NM_005096.3%3Ac.1360T>C/NM_005096.3?content-type=application%2Fjson\n",
      "[INFO] encoding variant \"c.1322G>A\"\n",
      "https://rest.variantvalidator.org/VariantValidator/variantvalidator/hg38/NM_005096.3%3Ac.1322G>A/NM_005096.3?content-type=application%2Fjson\n",
      "[INFO] encoding variant \"c.2255A>G\"\n",
      "https://rest.variantvalidator.org/VariantValidator/variantvalidator/hg38/NM_005096.3%3Ac.2255A>G/NM_005096.3?content-type=application%2Fjson\n",
      "[INFO] encoding variant \"c.1183C>A\"\n",
      "https://rest.variantvalidator.org/VariantValidator/variantvalidator/hg38/NM_005096.3%3Ac.1183C>A/NM_005096.3?content-type=application%2Fjson\n",
      "[INFO] encoding variant \"c.3638T>C\"\n",
      "https://rest.variantvalidator.org/VariantValidator/variantvalidator/hg38/NM_005096.3%3Ac.3638T>C/NM_005096.3?content-type=application%2Fjson\n",
      "[INFO] encoding variant \"c.905G>A\"\n",
      "https://rest.variantvalidator.org/VariantValidator/variantvalidator/hg38/NM_005096.3%3Ac.905G>A/NM_005096.3?content-type=application%2Fjson\n",
      "[INFO] encoding variant \"c.3970C>T\"\n",
      "https://rest.variantvalidator.org/VariantValidator/variantvalidator/hg38/NM_005096.3%3Ac.3970C>T/NM_005096.3?content-type=application%2Fjson\n",
      "[INFO] encoding variant \"c.2794A>G\"\n",
      "https://rest.variantvalidator.org/VariantValidator/variantvalidator/hg38/NM_005096.3%3Ac.2794A>G/NM_005096.3?content-type=application%2Fjson\n",
      "[INFO] encoding variant \"c.3605T>A\"\n",
      "https://rest.variantvalidator.org/VariantValidator/variantvalidator/hg38/NM_005096.3%3Ac.3605T>A/NM_005096.3?content-type=application%2Fjson\n",
      "[INFO] encoding variant \"c.3880C>T\"\n",
      "https://rest.variantvalidator.org/VariantValidator/variantvalidator/hg38/NM_005096.3%3Ac.3880C>T/NM_005096.3?content-type=application%2Fjson\n",
      "[INFO] encoding variant \"c.3518G>A\"\n",
      "https://rest.variantvalidator.org/VariantValidator/variantvalidator/hg38/NM_005096.3%3Ac.3518G>A/NM_005096.3?content-type=application%2Fjson\n",
      "[INFO] encoding variant \"c.721G>A\"\n",
      "https://rest.variantvalidator.org/VariantValidator/variantvalidator/hg38/NM_005096.3%3Ac.721G>A/NM_005096.3?content-type=application%2Fjson\n",
      "[INFO] encoding variant \"c.4029G>A\"\n",
      "https://rest.variantvalidator.org/VariantValidator/variantvalidator/hg38/NM_005096.3%3Ac.4029G>A/NM_005096.3?content-type=application%2Fjson\n",
      "[INFO] encoding variant \"c.671_674dup\"\n",
      "https://rest.variantvalidator.org/VariantValidator/variantvalidator/hg38/NM_005096.3%3Ac.671_674dup/NM_005096.3?content-type=application%2Fjson\n",
      "[INFO] encoding variant \"c.3820C>T\"\n",
      "https://rest.variantvalidator.org/VariantValidator/variantvalidator/hg38/NM_005096.3%3Ac.3820C>T/NM_005096.3?content-type=application%2Fjson\n",
      "[INFO] encoding variant \"c.3409T>A\"\n",
      "https://rest.variantvalidator.org/VariantValidator/variantvalidator/hg38/NM_005096.3%3Ac.3409T>A/NM_005096.3?content-type=application%2Fjson\n"
     ]
    }
   ],
   "source": [
    "ZMYM3_transcript = \"NM_005096.3\"\n",
    "\n",
    "vman = VariantManager(df=df,\n",
    "                      individual_column_name=\"Individual\", \n",
    "                      allele_1_column_name=\"NM_005096.3\",\n",
    "                      gene_symbol=\"ZMYM3\", \n",
    "                      transcript=ZMYM3_transcript)"
   ]
  },
  {
   "cell_type": "code",
   "execution_count": 17,
   "id": "fe7d9205-fe15-4d7e-aace-bcc10c09aabc",
   "metadata": {},
   "outputs": [],
   "source": [
    "XLID112 = Disease(disease_label=\"Intellectual developmental disorder, X-linked 112\", \n",
    "                  disease_id=\"OMIM:301111\")\n",
    "varMapper = VariantColumnMapper(variant_column_name=\"NM_005096.3\",\n",
    "                               variant_d=vman.get_variant_d(),\n",
    "                               default_genotype=\"heterozygous\")\n",
    "\n",
    "encoder = CohortEncoder(df=df, \n",
    "                        hpo_cr=hpo_cr, \n",
    "                        column_mapper_list=column_mapper_list, \n",
    "                        individual_column_name=\"Individual\",\n",
    "                        age_at_last_encounter_mapper=AgeColumnMapper.not_provided(), \n",
    "                        sexmapper=sexMapper,\n",
    "                        variant_mapper=varMapper,\n",
    "                        metadata=metadata)\n",
    "encoder.set_disease(XLID112)"
   ]
  },
  {
   "cell_type": "code",
   "execution_count": 18,
   "id": "36d72092-886b-4f9a-8a7e-34b236e7c0e8",
   "metadata": {},
   "outputs": [],
   "source": [
    "individuals = encoder.get_individuals()"
   ]
  },
  {
   "cell_type": "code",
   "execution_count": 19,
   "id": "ceda5433-38da-41d5-b586-085c006a57c1",
   "metadata": {},
   "outputs": [
    {
     "data": {
      "text/html": [
       "<h2>Cohort validation</h2>\n",
       "<p>Errors found with 23 of 27 phenopackets.</p>\n",
       "<table style=\"border: 2px solid black; align: \"left\">\n",
       "<caption>Error counts</caption>\n",
       "<tr><th style=\"text-align: left;font-weight: bold;\">Level</th><th style=\"text-align: left;font-weight: bold;\">Error category</th><th style=\"text-align: left;font-weight: bold;\">Count</th></tr>\n",
       "<tr><td style=\"text-align: left;\">ERROR</td><td style=\"text-align: left;\">CONFLICT</td><td style=\"text-align: left;\">2</td></tr>\n",
       "<tr><td style=\"text-align: left;\">ERROR</td><td style=\"text-align: left;\">INSUFFICIENT_HPOS</td><td style=\"text-align: left;\">1</td></tr>\n",
       "<tr><td style=\"text-align: left;\">WARNING</td><td style=\"text-align: left;\">REDUNDANT</td><td style=\"text-align: left;\">15</td></tr>\n",
       "<tr><td style=\"text-align: left;\">INFORMATION</td><td style=\"text-align: left;\">NOT_MEASURED</td><td style=\"text-align: left;\">17</td></tr>\n",
       "</table>\n",
       "<p>A total of 35 issues were fixed and 1 individuals were removed from the cohort because of irreparable errors. The cohort validator will return 26 individual objects without errors.</p>\n",
       "<p>The following redundant terms were found: <b>Atypical behavior</b> is redundant because of <b>Autistic behavior</b>. Redundant terms will be removed, keeping only one instance of the most specific term.</p>\n",
       "<p>The following excluded terms were found to have a conflict with an observed descendent term: Autistic behavior (HP:0000729) conflicts with the excluded term excluded: Atypical behavior (HP:0000708) . The ancestor terms will be removed.</p>\n",
       "<h2>Individuals with unfixable errors</h2>\n",
       "<table style=\"border: 2px solid black; align: \"left\">\n",
       "<caption>Error analysis</caption>\n",
       "<tr><th style=\"text-align: left;font-weight: bold;\">ID</th><th style=\"text-align: left;font-weight: bold;\">Level</th><th style=\"text-align: left;font-weight: bold;\">Category</th><th style=\"text-align: left;font-weight: bold;\">Message</th><th style=\"text-align: left;font-weight: bold;\">HPO Term</th></tr>\n",
       "<tr><td style=\"text-align: left;\">PMID_36586412_16</td><td style=\"text-align: left;\">ERROR</td><td style=\"text-align: left;\">INSUFFICIENT_HPOS</td><td style=\"text-align: left;\">Minimum HPO terms required 1 but only 0 found</td><td style=\"text-align: left;\"></td></tr>\n",
       "</table>"
      ],
      "text/plain": [
       "<IPython.core.display.HTML object>"
      ]
     },
     "metadata": {},
     "output_type": "display_data"
    }
   ],
   "source": [
    "cvalidator = CohortValidator(cohort=individuals, ontology=hpo_ontology, min_hpo=1, allelic_requirement=AllelicRequirement.MONO_ALLELIC)\n",
    "qc = QcVisualizer(cohort_validator=cvalidator)\n",
    "display(HTML(qc.to_summary_html()))"
   ]
  },
  {
   "cell_type": "code",
   "execution_count": 20,
   "id": "75bb6f65-cff8-405e-b41d-14ef886decc0",
   "metadata": {},
   "outputs": [
    {
     "data": {
      "text/html": [
       "<table style=\"border: 2px solid black; align: \"left\">\n",
       "<caption>26 phenopackets - PMID:36586412 (n=26)</caption>\n",
       "<tr><th style=\"text-align: left;font-weight: bold;\">Individual</th><th style=\"text-align: left;font-weight: bold;\">Disease</th><th style=\"text-align: left;font-weight: bold;\">Genotype</th><th style=\"text-align: left;font-weight: bold;\">Phenotypic features</th></tr>\n",
       "<tr><td style=\"text-align: left;\">1 (MALE; n/a)</td><td style=\"text-align: left;\">Intellectual developmental disorder, X-linked 112 (OMIM:301111)</td><td style=\"text-align: left;\">NM_005096.3:c.205G>A (heterozygous)</td><td style=\"text-align: left;\">Delayed speech and language development (HP:0000750); Motor delay (HP:0001270); Abnormal heart morphology (HP:0001627); excluded: Atypical behavior (HP:0000708)</td></tr>\n",
       "<tr><td style=\"text-align: left;\">21 (MALE; n/a)</td><td style=\"text-align: left;\">Intellectual developmental disorder, X-linked 112 (OMIM:301111)</td><td style=\"text-align: left;\">NM_005096.3:c.507A>T (heterozygous)</td><td style=\"text-align: left;\">Delayed speech and language development (HP:0000750); Intellectual disability (HP:0001249); Autistic behavior (HP:0000729); Hypospadias (HP:0000047); excluded: Motor delay (HP:0001270)</td></tr>\n",
       "<tr><td style=\"text-align: left;\">2 (MALE; n/a)</td><td style=\"text-align: left;\">Intellectual developmental disorder, X-linked 112 (OMIM:301111)</td><td style=\"text-align: left;\">NM_005096.3:c.721G>A (heterozygous)</td><td style=\"text-align: left;\">Delayed speech and language development (HP:0000750); Motor delay (HP:0001270); Heat intolerance (HP:0002046); Fatigue (HP:0012378); excluded: Intellectual disability (HP:0001249); excluded: Autistic behavior (HP:0000729)</td></tr>\n",
       "<tr><td style=\"text-align: left;\">3 (MALE; n/a)</td><td style=\"text-align: left;\">Intellectual developmental disorder, X-linked 112 (OMIM:301111)</td><td style=\"text-align: left;\">NM_005096.3:c.905G>A (heterozygous)</td><td style=\"text-align: left;\">Delayed speech and language development (HP:0000750); Motor delay (HP:0001270); Autistic behavior (HP:0000729); Pyelonephritis (HP:0012330); Vesicoureteral reflux (HP:0000076); Gastroesophageal reflux (HP:0002020)</td></tr>\n",
       "<tr><td style=\"text-align: left;\">4a (MALE; n/a)</td><td style=\"text-align: left;\">Intellectual developmental disorder, X-linked 112 (OMIM:301111)</td><td style=\"text-align: left;\">NM_005096.3:c.1183C>A (heterozygous)</td><td style=\"text-align: left;\">Delayed speech and language development (HP:0000750); Motor delay (HP:0001270); Intellectual disability (HP:0001249); Autistic behavior (HP:0000729); Hypospadias (HP:0000047)</td></tr>\n",
       "<tr><td style=\"text-align: left;\">4b (MALE; n/a)</td><td style=\"text-align: left;\">Intellectual developmental disorder, X-linked 112 (OMIM:301111)</td><td style=\"text-align: left;\">NM_005096.3:c.1183C>A (heterozygous)</td><td style=\"text-align: left;\">Delayed speech and language development (HP:0000750); Intellectual disability (HP:0001249); Autistic behavior (HP:0000729); excluded: Motor delay (HP:0001270)</td></tr>\n",
       "<tr><td style=\"text-align: left;\">5 (MALE; n/a)</td><td style=\"text-align: left;\">Intellectual developmental disorder, X-linked 112 (OMIM:301111)</td><td style=\"text-align: left;\">NM_005096.3:c.1192C>T (heterozygous)</td><td style=\"text-align: left;\">Delayed speech and language development (HP:0000750); Motor delay (HP:0001270); Intellectual disability (HP:0001249); Autistic behavior (HP:0000729)</td></tr>\n",
       "<tr><td style=\"text-align: left;\">22 (MALE; n/a)</td><td style=\"text-align: left;\">Intellectual developmental disorder, X-linked 112 (OMIM:301111)</td><td style=\"text-align: left;\">NM_005096.3:c.1321C>T (heterozygous)</td><td style=\"text-align: left;\">Delayed speech and language development (HP:0000750); Intellectual disability (HP:0001249); Autistic behavior (HP:0000729); Mild short stature (HP:0003502); excluded: Motor delay (HP:0001270)</td></tr>\n",
       "<tr><td style=\"text-align: left;\">6 (MALE; n/a)</td><td style=\"text-align: left;\">Intellectual developmental disorder, X-linked 112 (OMIM:301111)</td><td style=\"text-align: left;\">NM_005096.3:c.1322G>A (heterozygous)</td><td style=\"text-align: left;\">Delayed speech and language development (HP:0000750); Motor delay (HP:0001270); Intellectual disability (HP:0001249); Autistic behavior (HP:0000729); Renal cyst (HP:0000107); Constipation (HP:0002019)</td></tr>\n",
       "<tr><td style=\"text-align: left;\">7 (MALE; n/a)</td><td style=\"text-align: left;\">Intellectual developmental disorder, X-linked 112 (OMIM:301111)</td><td style=\"text-align: left;\">NM_005096.3:c.1322G>A (heterozygous)</td><td style=\"text-align: left;\">Delayed speech and language development (HP:0000750); Motor delay (HP:0001270); Intellectual disability (HP:0001249); Autistic behavior (HP:0000729); Cryptorchidism (HP:0000028); Enuresis (HP:0000805); Short stature (HP:0004322)</td></tr>\n",
       "<tr><td style=\"text-align: left;\">8 (MALE; n/a)</td><td style=\"text-align: left;\">Intellectual developmental disorder, X-linked 112 (OMIM:301111)</td><td style=\"text-align: left;\">NM_005096.3:c.1322G>A (heterozygous)</td><td style=\"text-align: left;\">Delayed speech and language development (HP:0000750); Motor delay (HP:0001270); Intellectual disability (HP:0001249); Autistic behavior (HP:0000729); Hypospadias (HP:0000047); Ambiguous genitalia (HP:0000062); Short stature (HP:0004322)</td></tr>\n",
       "<tr><td style=\"text-align: left;\">23 (MALE; n/a)</td><td style=\"text-align: left;\">Intellectual developmental disorder, X-linked 112 (OMIM:301111)</td><td style=\"text-align: left;\">NM_005096.3:c.1360T>C (heterozygous)</td><td style=\"text-align: left;\">Delayed speech and language development (HP:0000750); Motor delay (HP:0001270); Atypical behavior (HP:0000708); Vesicoureteral reflux (HP:0000076); Short stature (HP:0004322); Microcephaly (HP:0000252); Myopia (HP:0000545); Retinopathy (HP:0000488); Gastrointestinal dysmotility (HP:0002579); excluded: Intellectual disability (HP:0001249); excluded: Autistic behavior (HP:0000729)</td></tr>\n",
       "<tr><td style=\"text-align: left;\">9a (MALE; n/a)</td><td style=\"text-align: left;\">Intellectual developmental disorder, X-linked 112 (OMIM:301111)</td><td style=\"text-align: left;\">NM_005096.3:c.2193G>C (heterozygous)</td><td style=\"text-align: left;\">Delayed speech and language development (HP:0000750); Intellectual disability (HP:0001249); Autistic behavior (HP:0000729); excluded: Motor delay (HP:0001270)</td></tr>\n",
       "<tr><td style=\"text-align: left;\">9b (MALE; n/a)</td><td style=\"text-align: left;\">Intellectual developmental disorder, X-linked 112 (OMIM:301111)</td><td style=\"text-align: left;\">NM_005096.3:c.2193G>C (heterozygous)</td><td style=\"text-align: left;\">Delayed speech and language development (HP:0000750); Intellectual disability (HP:0001249); Autistic behavior (HP:0000729); excluded: Motor delay (HP:0001270)</td></tr>\n",
       "<tr><td style=\"text-align: left;\">10 (MALE; n/a)</td><td style=\"text-align: left;\">Intellectual developmental disorder, X-linked 112 (OMIM:301111)</td><td style=\"text-align: left;\">NM_005096.3:c.2794A>G (heterozygous)</td><td style=\"text-align: left;\">Delayed speech and language development (HP:0000750); Atypical behavior (HP:0000708); Gastroesophageal reflux (HP:0002020); Constipation (HP:0002019); excluded: Motor delay (HP:0001270)</td></tr>\n",
       "<tr><td style=\"text-align: left;\">11 (MALE; n/a)</td><td style=\"text-align: left;\">Intellectual developmental disorder, X-linked 112 (OMIM:301111)</td><td style=\"text-align: left;\">NM_005096.3:c.3371G>A (heterozygous)</td><td style=\"text-align: left;\">Delayed speech and language development (HP:0000750); Intellectual disability (HP:0001249); Atypical behavior (HP:0000708); Ectopic kidney (HP:0000086); Short stature (HP:0004322); Kyphoscoliosis (HP:0002751); excluded: Motor delay (HP:0001270); excluded: Autistic behavior (HP:0000729)</td></tr>\n",
       "<tr><td style=\"text-align: left;\">12 (MALE; n/a)</td><td style=\"text-align: left;\">Intellectual developmental disorder, X-linked 112 (OMIM:301111)</td><td style=\"text-align: left;\">NM_005096.3:c.3409T>A (heterozygous)</td><td style=\"text-align: left;\">Delayed speech and language development (HP:0000750); Motor delay (HP:0001270); Intellectual disability (HP:0001249); Atypical behavior (HP:0000708); Microcephaly (HP:0000252); excluded: Autistic behavior (HP:0000729)</td></tr>\n",
       "<tr><td style=\"text-align: left;\">24 (MALE; n/a)</td><td style=\"text-align: left;\">Intellectual developmental disorder, X-linked 112 (OMIM:301111)</td><td style=\"text-align: left;\">NM_005096.3:c.3518G>A (heterozygous)</td><td style=\"text-align: left;\">Delayed speech and language development (HP:0000750); Motor delay (HP:0001270); Intellectual disability (HP:0001249); Autistic behavior (HP:0000729)</td></tr>\n",
       "<tr><td style=\"text-align: left;\">13 (MALE; n/a)</td><td style=\"text-align: left;\">Intellectual developmental disorder, X-linked 112 (OMIM:301111)</td><td style=\"text-align: left;\">NM_005096.3:c.3605T>A (heterozygous)</td><td style=\"text-align: left;\">Delayed speech and language development (HP:0000750); Motor delay (HP:0001270); Intellectual disability (HP:0001249); Atypical behavior (HP:0000708); Cryptorchidism (HP:0000028); Microcephaly (HP:0000252); Short stature (HP:0004322); Kyphosis (HP:0002808); Madelung deformity (HP:0003067); excluded: Autistic behavior (HP:0000729)</td></tr>\n",
       "<tr><td style=\"text-align: left;\">14 (MALE; n/a)</td><td style=\"text-align: left;\">Intellectual developmental disorder, X-linked 112 (OMIM:301111)</td><td style=\"text-align: left;\">NM_005096.3:c.3638T>C (heterozygous)</td><td style=\"text-align: left;\">Delayed speech and language development (HP:0000750); Motor delay (HP:0001270); Intellectual disability (HP:0001249); Enuresis (HP:0000805); Microcephaly (HP:0000252); Scoliosis (HP:0002650); Gastroesophageal reflux (HP:0002020); excluded: Autistic behavior (HP:0000729)</td></tr>\n",
       "<tr><td style=\"text-align: left;\">15 (MALE; n/a)</td><td style=\"text-align: left;\">Intellectual developmental disorder, X-linked 112 (OMIM:301111)</td><td style=\"text-align: left;\">NM_005096.3:c.3820C>T (heterozygous)</td><td style=\"text-align: left;\">Delayed speech and language development (HP:0000750); Motor delay (HP:0001270); Intellectual disability (HP:0001249); Autistic behavior (HP:0000729); Microcephaly (HP:0000252); Scoliosis (HP:0002650)</td></tr>\n",
       "<tr><td style=\"text-align: left;\">25 (MALE; n/a)</td><td style=\"text-align: left;\">Intellectual developmental disorder, X-linked 112 (OMIM:301111)</td><td style=\"text-align: left;\">NM_005096.3:c.3970C>T (heterozygous)</td><td style=\"text-align: left;\">Delayed speech and language development (HP:0000750); Intellectual disability (HP:0001249); Autistic behavior (HP:0000729); excluded: Motor delay (HP:0001270)</td></tr>\n",
       "<tr><td style=\"text-align: left;\">17 (MALE; n/a)</td><td style=\"text-align: left;\">Intellectual developmental disorder, X-linked 112 (OMIM:301111)</td><td style=\"text-align: left;\">NM_005096.3:c.4029G>A (heterozygous)</td><td style=\"text-align: left;\">Delayed speech and language development (HP:0000750); Motor delay (HP:0001270); Autistic behavior (HP:0000729); Gastrointestinal dysmotility (HP:0002579); Joint hypermobility (HP:0001382); Pain (HP:0012531); excluded: Intellectual disability (HP:0001249)</td></tr>\n",
       "<tr><td style=\"text-align: left;\">18 (FEMALE; n/a)</td><td style=\"text-align: left;\">Intellectual developmental disorder, X-linked 112 (OMIM:301111)</td><td style=\"text-align: left;\">NM_005096.3:c.671_674dup (heterozygous)</td><td style=\"text-align: left;\">Delayed speech and language development (HP:0000750); Motor delay (HP:0001270); Gastroesophageal reflux (HP:0002020); excluded: Atypical behavior (HP:0000708)</td></tr>\n",
       "<tr><td style=\"text-align: left;\">19 (FEMALE; n/a)</td><td style=\"text-align: left;\">Intellectual developmental disorder, X-linked 112 (OMIM:301111)</td><td style=\"text-align: left;\">NM_005096.3:c.2255A>G (heterozygous)</td><td style=\"text-align: left;\">Delayed speech and language development (HP:0000750); Motor delay (HP:0001270); excluded: Atypical behavior (HP:0000708)</td></tr>\n",
       "<tr><td style=\"text-align: left;\">20 (FEMALE; n/a)</td><td style=\"text-align: left;\">Intellectual developmental disorder, X-linked 112 (OMIM:301111)</td><td style=\"text-align: left;\">NM_005096.3:c.3880C>T (heterozygous)</td><td style=\"text-align: left;\">Delayed speech and language development (HP:0000750); Motor delay (HP:0001270); Dilatation of the renal pelvis (HP:0010946); Volvulus (HP:0002580); Pancreatic cysts (HP:0001737)</td></tr>\n",
       "</table>"
      ],
      "text/plain": [
       "<IPython.core.display.HTML object>"
      ]
     },
     "metadata": {},
     "output_type": "display_data"
    }
   ],
   "source": [
    "individuals = cvalidator.get_error_free_individual_list()\n",
    "table = PhenopacketTable(individual_list=individuals, metadata=metadata)\n",
    "display(HTML(table.to_html()))"
   ]
  },
  {
   "cell_type": "code",
   "execution_count": 21,
   "id": "dbbc0f9e-3f47-49dc-a625-db3372882ebf",
   "metadata": {},
   "outputs": [
    {
     "name": "stdout",
     "output_type": "stream",
     "text": [
      "We output 26 GA4GH phenopackets to the directory phenopackets\n"
     ]
    }
   ],
   "source": [
    "Individual.output_individuals_as_phenopackets(individual_list=individuals, metadata=metadata)"
   ]
  },
  {
   "cell_type": "code",
   "execution_count": null,
   "id": "e330a0b0-8153-46a7-81ea-141c2db71a27",
   "metadata": {},
   "outputs": [],
   "source": []
  }
 ],
 "metadata": {
  "kernelspec": {
   "display_name": "Python 3 (ipykernel)",
   "language": "python",
   "name": "python3"
  },
  "language_info": {
   "codemirror_mode": {
    "name": "ipython",
    "version": 3
   },
   "file_extension": ".py",
   "mimetype": "text/x-python",
   "name": "python",
   "nbconvert_exporter": "python",
   "pygments_lexer": "ipython3",
   "version": "3.9.6"
  }
 },
 "nbformat": 4,
 "nbformat_minor": 5
}
