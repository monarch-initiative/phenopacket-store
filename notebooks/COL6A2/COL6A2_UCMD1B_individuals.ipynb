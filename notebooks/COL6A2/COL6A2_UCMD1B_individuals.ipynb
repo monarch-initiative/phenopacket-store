{
 "cells": [
  {
   "cell_type": "markdown",
   "metadata": {},
   "source": [
    "# COL6A2\n",
    "[Ullrich congenital muscular dystrophy-1B (UCMD1B)](https://omim.org/entry/620727) is caused by homozygous, compound heterozygous, or heterozygous mutation in the COL6A2 gene."
   ]
  },
  {
   "cell_type": "code",
   "execution_count": 3,
   "metadata": {},
   "outputs": [
    {
     "name": "stdout",
     "output_type": "stream",
     "text": [
      "Using pyphetools version 0.9.92\n"
     ]
    }
   ],
   "source": [
    "from pyphetools.creation import TemplateImporter\n",
    "from pyphetools.visualization import IndividualTable, QcVisualizer\n",
    "from IPython.display import display, HTML\n",
    "import pyphetools\n",
    "print(f\"Using pyphetools version {pyphetools.__version__}\")"
   ]
  },
  {
   "cell_type": "code",
   "execution_count": 4,
   "metadata": {},
   "outputs": [],
   "source": [
    "template = \"input/COL6A2_UCMD1B_individuals.xlsx\"\n",
    "created_by = \"0000-0002-0736-9199\""
   ]
  },
  {
   "cell_type": "code",
   "execution_count": 7,
   "metadata": {},
   "outputs": [
    {
     "name": "stdout",
     "output_type": "stream",
     "text": [
      "HPO version 2024-06-25\n",
      "Created encoders for 65 fields\n",
      "Importing OMIM:620727, Ullrich congenital muscular dystrophy 1B, HGNC:2212, COL6A2,  NM_001849.4\n",
      "[INFO] encoding variant \"c.1459-2A>G\"\n",
      "https://rest.variantvalidator.org/VariantValidator/variantvalidator/hg38/NM_001849.4%3Ac.1459-2A>G/NM_001849.4?content-type=application%2Fjson\n",
      "[INFO] encoding variant \"c.1870G>A\"\n",
      "https://rest.variantvalidator.org/VariantValidator/variantvalidator/hg38/NM_001849.4%3Ac.1870G>A/NM_001849.4?content-type=application%2Fjson\n",
      "[INFO] encoding variant \"c.1151dup\"\n",
      "https://rest.variantvalidator.org/VariantValidator/variantvalidator/hg38/NM_001849.4%3Ac.1151dup/NM_001849.4?content-type=application%2Fjson\n",
      "[INFO] encoding variant \"c.1488_1513del\"\n",
      "https://rest.variantvalidator.org/VariantValidator/variantvalidator/hg38/NM_001849.4%3Ac.1488_1513del/NM_001849.4?content-type=application%2Fjson\n",
      "[INFO] encoding variant \"c.1856_1861del\"\n",
      "https://rest.variantvalidator.org/VariantValidator/variantvalidator/hg38/NM_001849.4%3Ac.1856_1861del/NM_001849.4?content-type=application%2Fjson\n",
      "[INFO] encoding variant \"c.1117-10A>G\"\n",
      "https://rest.variantvalidator.org/VariantValidator/variantvalidator/hg38/NM_001849.4%3Ac.1117-10A>G/NM_001849.4?content-type=application%2Fjson\n",
      "[INFO] encoding variant \"c.1771-1G>T\"\n",
      "https://rest.variantvalidator.org/VariantValidator/variantvalidator/hg38/NM_001849.4%3Ac.1771-1G>T/NM_001849.4?content-type=application%2Fjson\n",
      "[INFO] encoding variant \"c.1771-1G>A\"\n",
      "https://rest.variantvalidator.org/VariantValidator/variantvalidator/hg38/NM_001849.4%3Ac.1771-1G>A/NM_001849.4?content-type=application%2Fjson\n",
      "We output 7 GA4GH phenopackets to the directory phenopackets\n"
     ]
    }
   ],
   "source": [
    "timporter = TemplateImporter(template=template,  created_by=created_by)\n",
    "individual_list, cvalidator = timporter.import_phenopackets_from_template()"
   ]
  },
  {
   "cell_type": "code",
   "execution_count": 8,
   "metadata": {},
   "outputs": [
    {
     "data": {
      "text/html": [
       "<h2>Cohort validation</h2>\n",
       "<p>No errors found for the cohort with 7 individuals</p>"
      ],
      "text/plain": [
       "<IPython.core.display.HTML object>"
      ]
     },
     "metadata": {},
     "output_type": "display_data"
    }
   ],
   "source": [
    "qc = QcVisualizer(cohort_validator=cvalidator)\n",
    "display(HTML(qc.to_summary_html()))"
   ]
  },
  {
   "cell_type": "code",
   "execution_count": 9,
   "metadata": {},
   "outputs": [
    {
     "data": {
      "text/html": [
       "<table style=\"border: 2px solid black; align: \"left\">\n",
       "<caption>7 phenopackets - PMID:11381124 (n=2); PMID:11506412 (n=1); PMID:16075202 (n=1); PMID:20106987 (n=2); PMID:20729548 (n=1)</caption>\n",
       "<tr><th style=\"text-align: left;font-weight: bold;\">Individual</th><th style=\"text-align: left;font-weight: bold;\">Disease</th><th style=\"text-align: left;font-weight: bold;\">Genotype</th><th style=\"text-align: left;font-weight: bold;\">Phenotypic features</th></tr>\n",
       "<tr><td style=\"text-align: left;\">Family A son (MALE; P11Y)</td><td style=\"text-align: left;\">Ullrich congenital muscular dystrophy 1B (OMIM:620727)</td><td style=\"text-align: left;\">NM_001849.4:c.1151dup (homozygous)</td><td style=\"text-align: left;\"><b>P2M</b>: Elevated circulating creatine kinase concentration (HP:0003236); Increased variability in muscle fiber diameter (HP:0003557); Increased endomysial connective tissue (HP:0100297)<br/>Adducted thumb (HP:0001181); Long fingers (HP:0100807); Finger joint hypermobility (HP:0006094); Micrognathia (HP:0000347); Hip dislocation (HP:0002827); High palate (HP:0000218); Torticollis (HP:0000473); Knee contracture (HP:0034671); Elbow contracture (HP:0034391); Pes valgus (HP:0008081); Short neck (HP:0000470); Decreased fetal movement (HP:0001558); Scoliosis (HP:0002650); Respiratory failure (HP:0002878); Generalized muscle weakness (HP:0003324); Spinal rigidity (HP:0003306); excluded: Intellectual disability (HP:0001249); excluded: Esodeviation (HP:0020045); excluded: Recurrent lower respiratory tract infections (HP:0002783)</td></tr>\n",
       "<tr><td style=\"text-align: left;\">Family B proband (MALE; P3Y)</td><td style=\"text-align: left;\">Ullrich congenital muscular dystrophy 1B (OMIM:620727)</td><td style=\"text-align: left;\"><ul> <li>NM_001849.4:c.1459-2A>G (heterozygous)</li> <li>NM_001849.4:c.1771-1G>A (heterozygous)</li> </ul></td><td style=\"text-align: left;\"><b>P8M</b>: Finger joint hypermobility (HP:0006094); Knee contracture (HP:0034671); Elbow contracture (HP:0034391); Elevated circulating creatine kinase concentration (HP:0003236); Increased variability in muscle fiber diameter (HP:0003557); Increased endomysial connective tissue (HP:0100297)<br/><b>P2Y</b>: Neck flexor weakness (HP:0003722)<br/>Spinal rigidity (HP:0003306); High palate (HP:0000218); Kyphosis (HP:0002808); Esodeviation (HP:0020045); Hypotonia (HP:0001252); excluded: Adducted thumb (HP:0001181); excluded: Long fingers (HP:0100807); excluded: Decreased fetal movement (HP:0001558); excluded: Hip dislocation (HP:0002827); excluded: Scoliosis (HP:0002650); excluded: Torticollis (HP:0000473); excluded: Pes valgus (HP:0008081); excluded: Short neck (HP:0000470); excluded: Generalized muscle weakness (HP:0003324); excluded: Recurrent lower respiratory tract infections (HP:0002783)</td></tr>\n",
       "<tr><td style=\"text-align: left;\">nan (MALE; P20Y)</td><td style=\"text-align: left;\">Ullrich congenital muscular dystrophy 1B (OMIM:620727)</td><td style=\"text-align: left;\">NM_001849.4:c.1488_1513del (homozygous)</td><td style=\"text-align: left;\">Hypotonia (HP:0001252); Finger joint hypermobility (HP:0006094); Scoliosis (HP:0002650); High palate (HP:0000218); Kyphosis (HP:0002808); Motor delay (HP:0001270); Skeletal muscle atrophy (HP:0003202); Generalized muscle weakness (HP:0003324); excluded: Adducted thumb (HP:0001181); excluded: Long fingers (HP:0100807); excluded: Decreased fetal movement (HP:0001558); excluded: Hip dislocation (HP:0002827); excluded: Spinal rigidity (HP:0003306); excluded: Torticollis (HP:0000473); excluded: Knee contracture (HP:0034671); excluded: Elbow contracture (HP:0034391); excluded: Pes valgus (HP:0008081); excluded: Short neck (HP:0000470); excluded: Intellectual disability (HP:0001249); excluded: Recurrent lower respiratory tract infections (HP:0002783)</td></tr>\n",
       "<tr><td style=\"text-align: left;\">propositus (MALE; P5Y)</td><td style=\"text-align: left;\">Ullrich congenital muscular dystrophy 1B (OMIM:620727)</td><td style=\"text-align: left;\">NM_001849.4:c.1117-10A>G (homozygous)</td><td style=\"text-align: left;\"><b>P3M</b>: Hip dislocation (HP:0002827); Hypotonia (HP:0001252)<br/>Finger joint hypermobility (HP:0006094); Spinal rigidity (HP:0003306); Knee contracture (HP:0034671); Elbow contracture (HP:0034391); Motor delay (HP:0001270); Increased variability in muscle fiber diameter (HP:0003557); Reduced muscle collagen VI (HP:0030095); Generalized muscle weakness (HP:0003324); Recurrent lower respiratory tract infections (HP:0002783); excluded: Adducted thumb (HP:0001181); excluded: Long fingers (HP:0100807); excluded: Decreased fetal movement (HP:0001558); excluded: Scoliosis (HP:0002650); excluded: High palate (HP:0000218); excluded: Kyphosis (HP:0002808); excluded: Torticollis (HP:0000473); excluded: Pes valgus (HP:0008081); excluded: Short neck (HP:0000470)</td></tr>\n",
       "<tr><td style=\"text-align: left;\">UC3 (FEMALE; P10Y4M)</td><td style=\"text-align: left;\">Ullrich congenital muscular dystrophy 1B (OMIM:620727)</td><td style=\"text-align: left;\">NM_001849.4:c.1870G>A (homozygous)</td><td style=\"text-align: left;\"><b>P6M</b>: Hypotonia (HP:0001252)<br/><b>P3Y4M</b>: Finger joint hypermobility (HP:0006094); Knee contracture (HP:0034671); Elbow contracture (HP:0034391); Ankle contracture (HP:0034677); Skeletal muscle atrophy (HP:0003202); Proximal muscle weakness (HP:0003701)<br/><b>P3Y6M</b>: Increased variability in muscle fiber diameter (HP:0003557); Increased endomysial connective tissue (HP:0100297); Centrally nucleated skeletal muscle fibers (HP:0003687); Muscle fiber necrosis (HP:0003713)<br/>Delayed ability to walk (HP:0031936); excluded: Adducted thumb (HP:0001181); excluded: Long fingers (HP:0100807); excluded: Decreased fetal movement (HP:0001558); excluded: Hip dislocation (HP:0002827); excluded: Scoliosis (HP:0002650); excluded: Spinal rigidity (HP:0003306); excluded: High palate (HP:0000218); excluded: Kyphosis (HP:0002808); excluded: Torticollis (HP:0000473); excluded: Pes valgus (HP:0008081); excluded: Short neck (HP:0000470); excluded: Elevated circulating creatine kinase concentration (HP:0003236); excluded: Generalized muscle weakness (HP:0003324); excluded: Recurrent lower respiratory tract infections (HP:0002783)</td></tr>\n",
       "<tr><td style=\"text-align: left;\">UC15 (MALE; P14Y)</td><td style=\"text-align: left;\">Ullrich congenital muscular dystrophy 1B (OMIM:620727)</td><td style=\"text-align: left;\">NM_001849.4:c.1870G>A (homozygous)</td><td style=\"text-align: left;\">Hip dislocation (HP:0002827); Scoliosis (HP:0002650); Finger joint hypermobility (HP:0006094); Knee contracture (HP:0034671); Elbow contracture (HP:0034391); Shoulder contracture (HP:0034665); Hip contracture (HP:0003273); Delayed ability to walk (HP:0031936); Elevated circulating creatine kinase concentration (HP:0003236); Muscle weakness (HP:0001324); excluded: Adducted thumb (HP:0001181); excluded: Long fingers (HP:0100807); excluded: Decreased fetal movement (HP:0001558); excluded: Spinal rigidity (HP:0003306); excluded: High palate (HP:0000218); excluded: Kyphosis (HP:0002808); excluded: Torticollis (HP:0000473); excluded: Pes valgus (HP:0008081); excluded: Short neck (HP:0000470); excluded: Recurrent lower respiratory tract infections (HP:0002783)</td></tr>\n",
       "<tr><td style=\"text-align: left;\">UCMD21 (FEMALE; P1Y6M)</td><td style=\"text-align: left;\">Ullrich congenital muscular dystrophy 1B (OMIM:620727)</td><td style=\"text-align: left;\"><ul> <li>NM_001849.4:c.1856_1861del (heterozygous)</li> <li>NM_001849.4:c.1771-1G>T (heterozygous)</li> </ul></td><td style=\"text-align: left;\">Hip dislocation (HP:0002827); Hypotonia (HP:0001252); Finger joint hypermobility (HP:0006094); Torticollis (HP:0000473); Knee contracture (HP:0034671); Elbow contracture (HP:0034391); Motor delay (HP:0001270); Proximal muscle weakness (HP:0003701); excluded: Adducted thumb (HP:0001181); excluded: Long fingers (HP:0100807); excluded: Decreased fetal movement (HP:0001558); excluded: Scoliosis (HP:0002650); excluded: Spinal rigidity (HP:0003306); excluded: High palate (HP:0000218); excluded: Kyphosis (HP:0002808); excluded: Pes valgus (HP:0008081); excluded: Short neck (HP:0000470); excluded: Generalized muscle weakness (HP:0003324); excluded: Recurrent lower respiratory tract infections (HP:0002783)</td></tr>\n",
       "</table>"
      ],
      "text/plain": [
       "<IPython.core.display.HTML object>"
      ]
     },
     "metadata": {},
     "output_type": "display_data"
    }
   ],
   "source": [
    "table = IndividualTable(cvalidator.get_error_free_individual_list())\n",
    "display(HTML(table.to_html()))"
   ]
  },
  {
   "cell_type": "code",
   "execution_count": 10,
   "metadata": {},
   "outputs": [
    {
     "name": "stdout",
     "output_type": "stream",
     "text": [
      "[pyphetools] Ingested 7 GA4GH phenopackets.\n",
      "[INFO] Extracted 7 from 7 phenopackets with OMIM:620727\n",
      "\n",
      "\tUllrich congenital muscular dystrophy 1B (OMIM:620727): n=7\n",
      "We found a total of 36 unique HPO terms\n",
      "Extracted disease: Ullrich congenital muscular dystrophy 1B (OMIM:620727)\n",
      "Wrote HPOA disease file to OMIM-620727.tab\n"
     ]
    }
   ],
   "source": [
    "pmid = \"PMID:11381124\"\n",
    "df = timporter.create_hpoa_from_phenopackets(pmid=pmid, moi=\"Autosomal recessive\", target=\"OMIM:620727\")"
   ]
  },
  {
   "cell_type": "code",
   "execution_count": null,
   "metadata": {},
   "outputs": [],
   "source": []
  }
 ],
 "metadata": {
  "kernelspec": {
   "display_name": "ps24venv",
   "language": "python",
   "name": "python3"
  },
  "language_info": {
   "codemirror_mode": {
    "name": "ipython",
    "version": 3
   },
   "file_extension": ".py",
   "mimetype": "text/x-python",
   "name": "python",
   "nbconvert_exporter": "python",
   "pygments_lexer": "ipython3",
   "version": "3.9.6"
  }
 },
 "nbformat": 4,
 "nbformat_minor": 2
}
