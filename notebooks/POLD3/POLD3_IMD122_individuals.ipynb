{
 "cells": [
  {
   "cell_type": "markdown",
   "metadata": {},
   "source": [
    "# POLD3\n",
    "[Immunodeficiency-122 (IMD122)](https://omim.org/entry/620869) is caused by homozygous mutation in the POLD3 gene."
   ]
  },
  {
   "cell_type": "code",
   "execution_count": 1,
   "metadata": {},
   "outputs": [
    {
     "name": "stdout",
     "output_type": "stream",
     "text": [
      "Using pyphetools version 0.9.117\n"
     ]
    }
   ],
   "source": [
    "from pyphetools.creation import TemplateImporter, Moi\n",
    "from pyphetools.visualization import IndividualTable, QcVisualizer\n",
    "from IPython.display import display, HTML\n",
    "import pyphetools\n",
    "print(f\"Using pyphetools version {pyphetools.__version__}\")"
   ]
  },
  {
   "cell_type": "code",
   "execution_count": 2,
   "metadata": {},
   "outputs": [
    {
     "name": "stdout",
     "output_type": "stream",
     "text": [
      "HPO version 2025-01-16\n",
      "Created encoders for 54 fields\n",
      "Importing OMIM:620869, Immunodeficiency 122, HGNC:20932, POLD3,  NM_006591.3\n",
      "[INFO] encoding variant \"c.1118A>C\"\n",
      "https://rest.variantvalidator.org/VariantValidator/variantvalidator/hg38/NM_006591.3%3Ac.1118A>C/NM_006591.3?content-type=application%2Fjson\n",
      "[INFO] encoding variant \"c.29T>C\"\n",
      "https://rest.variantvalidator.org/VariantValidator/variantvalidator/hg38/NM_006591.3%3Ac.29T>C/NM_006591.3?content-type=application%2Fjson\n",
      "We output 2 GA4GH phenopackets to the directory phenopackets\n"
     ]
    }
   ],
   "source": [
    "template = \"input/POLD3_IMD122_individuals.xlsx\"\n",
    "created_by = \"0000-0002-0736-9199\"\n",
    "timporter = TemplateImporter(template=template,  created_by=created_by)\n",
    "individual_list, cvalidator = timporter.import_phenopackets_from_template()"
   ]
  },
  {
   "cell_type": "code",
   "execution_count": 3,
   "metadata": {},
   "outputs": [
    {
     "data": {
      "text/html": [
       "<h2>Cohort validation</h2>\n",
       "<p>Errors found with 2 of 2 phenopackets.</p>\n",
       "<table style=\"border: 2px solid black; align: \"left\">\n",
       "<caption>Error counts</caption>\n",
       "<tr><th style=\"text-align: left;font-weight: bold;\">Level</th><th style=\"text-align: left;font-weight: bold;\">Error category</th><th style=\"text-align: left;font-weight: bold;\">Count</th></tr>\n",
       "<tr><td style=\"text-align: left;\">ERROR</td><td style=\"text-align: left;\">CONFLICT</td><td style=\"text-align: left;\">1</td></tr>\n",
       "<tr><td style=\"text-align: left;\">WARNING</td><td style=\"text-align: left;\">REDUNDANT</td><td style=\"text-align: left;\">4</td></tr>\n",
       "</table>\n",
       "<p>A total of 5 issues were fixed and no individual was removed from the cohort.</p>"
      ],
      "text/plain": [
       "<IPython.core.display.HTML object>"
      ]
     },
     "metadata": {},
     "output_type": "display_data"
    }
   ],
   "source": [
    "qc = QcVisualizer(cohort_validator=cvalidator)\n",
    "display(HTML(qc.to_summary_html()))"
   ]
  },
  {
   "cell_type": "code",
   "execution_count": 4,
   "metadata": {},
   "outputs": [
    {
     "data": {
      "text/html": [
       "<table style=\"border: 2px solid black; align: \"left\">\n",
       "<caption>2 phenopackets - PMID:37030525 (n=1); PMID:38099988 (n=1)</caption>\n",
       "<tr><th style=\"text-align: left;font-weight: bold;\">Individual</th><th style=\"text-align: left;font-weight: bold;\">Disease</th><th style=\"text-align: left;font-weight: bold;\">Genotype</th><th style=\"text-align: left;font-weight: bold;\">Phenotypic features</th></tr>\n",
       "<tr><td style=\"text-align: left;\">proband IV-6 (MALE; P5Y)</td><td style=\"text-align: left;\">Immunodeficiency 122 (OMIM:620869)</td><td style=\"text-align: left;\">NM_006591.3:c.29T>C (homozygous)</td><td style=\"text-align: left;\">Hepatomegaly (HP:0002240): onset ; Splenomegaly (HP:0001744): onset ; T lymphocytopenia (HP:0005403): onset ; Reduced natural killer cell count (HP:0040218): onset ; Global developmental delay (HP:0001263): onset ; Severe combined immunodeficiency (HP:0004430): onset ; Sensorineural hearing impairment (HP:0000407): onset ; Dry skin (HP:0000958): onset ; Decreased proportion of naive CD4 T cells (HP:0410378): onset ; Decreased proportion of naive CD8 T cells (HP:0410377): onset ; excluded: Abnormal facial shape (HP:0001999): onset ; excluded: Frontal bossing (HP:0002007): onset ; excluded: Enamel hypoplasia (HP:0006297): onset ; excluded: Feeding difficulties (HP:0011968): onset ; excluded: Nail dystrophy (HP:0008404): onset ; excluded: Eosinophilia (HP:0001880): onset ; excluded: Motor delay (HP:0001270): onset ; excluded: Recurrent lower respiratory tract infections (HP:0002783): onset ; excluded: Abnormal circulating IgM concentration (HP:0410243): onset ; excluded: Decreased circulating IgG concentration (HP:0004315): onset ; excluded: Abnormal B cell count (HP:0010975): onset <br/><b>TimeElement(element=Age(iso8601duration=P7M))</b>: Recurrent upper respiratory tract infections (HP:0002788): onset age {\n",
       "  iso8601duration: \"P7M\"\n",
       "}\n",
       "; Bronchiectasis (HP:0002110): onset age {\n",
       "  iso8601duration: \"P7M\"\n",
       "}\n",
       "</td></tr>\n",
       "<tr><td style=\"text-align: left;\">patient (MALE; P3Y6M)</td><td style=\"text-align: left;\">Immunodeficiency 122 (OMIM:620869)</td><td style=\"text-align: left;\">NM_006591.3:c.1118A>C (homozygous)</td><td style=\"text-align: left;\">Abnormal facial shape (HP:0001999): onset ; Frontal bossing (HP:0002007): onset ; Enamel hypoplasia (HP:0006297): onset ; Feeding difficulties (HP:0011968): onset ; Nail dystrophy (HP:0008404): onset ; Splenomegaly (HP:0001744): onset ; Eosinophilia (HP:0001880): onset ; Erythroderma (HP:0001019): onset ; Lymphadenopathy (HP:0002716): onset ; Alopecia (HP:0001596): onset ; Food allergy (HP:0500093): onset ; Global developmental delay (HP:0001263): onset ; Motor delay (HP:0001270): onset ; Aplasia of the thymus (HP:0005359): onset ; Severe combined immunodeficiency (HP:0004430): onset ; Decreased circulating IgG concentration (HP:0004315): onset ; Increased circulating IgE concentration (HP:0003212): onset ; Decreased proportion of naive CD4 T cells (HP:0410378): onset ; Decreased proportion of naive CD8 T cells (HP:0410377): onset ; Decreased proportion of unswitched memory B cells (HP:0032126): onset ; Oligoclonal T cell expansion (HP:0031430): onset ; Recurrent bacterial infections (HP:0002718): onset ; Recurrent viral infections (HP:0004429): onset ; excluded: T lymphocytopenia (HP:0005403): onset ; excluded: Reduced natural killer cell count (HP:0040218): onset ; excluded: Sensorineural hearing impairment (HP:0000407): onset ; excluded: Bronchiectasis (HP:0002110): onset ; excluded: Abnormal circulating IgM concentration (HP:0410243): onset <br/><b>TimeElement(element=Age(iso8601duration=P3M))</b>: Recurrent upper respiratory tract infections (HP:0002788): onset age {\n",
       "  iso8601duration: \"P3M\"\n",
       "}\n",
       "; Recurrent lower respiratory tract infections (HP:0002783): onset age {\n",
       "  iso8601duration: \"P3M\"\n",
       "}\n",
       "</td></tr>\n",
       "</table>"
      ],
      "text/plain": [
       "<IPython.core.display.HTML object>"
      ]
     },
     "metadata": {},
     "output_type": "display_data"
    }
   ],
   "source": [
    "table = IndividualTable(cvalidator.get_error_free_individual_list())\n",
    "display(HTML(table.to_html()))"
   ]
  },
  {
   "cell_type": "code",
   "execution_count": 5,
   "metadata": {},
   "outputs": [
    {
     "name": "stdout",
     "output_type": "stream",
     "text": [
      "[pyphetools] Ingested 2 GA4GH phenopackets.\n",
      "[INFO] Extracted 2 from 2 phenopackets with OMIM:620869\n",
      "\n",
      "\tImmunodeficiency 122 (OMIM:620869): n=2\n",
      "We found a total of 33 unique HPO terms\n",
      "Extracted disease: Immunodeficiency 122 (OMIM:620869)\n",
      "Wrote HPOA disease file to OMIM-620869.tab\n"
     ]
    }
   ],
   "source": [
    "pmid = \"PMID:37030525\"\n",
    "df = timporter.create_hpoa_from_phenopackets(pmid=pmid, mode_of_inheritance=Moi.AD, target=\"OMIM:620869\")"
   ]
  }
 ],
 "metadata": {
  "kernelspec": {
   "display_name": "ps24venv",
   "language": "python",
   "name": "python3"
  },
  "language_info": {
   "codemirror_mode": {
    "name": "ipython",
    "version": 3
   },
   "file_extension": ".py",
   "mimetype": "text/x-python",
   "name": "python",
   "nbconvert_exporter": "python",
   "pygments_lexer": "ipython3",
   "version": "3.12.9"
  }
 },
 "nbformat": 4,
 "nbformat_minor": 2
}
