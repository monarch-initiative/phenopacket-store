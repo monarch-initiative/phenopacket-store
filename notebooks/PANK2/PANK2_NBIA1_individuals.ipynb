{
 "cells": [
  {
   "cell_type": "markdown",
   "id": "d329b1f7-c301-435b-803e-82f629823649",
   "metadata": {},
   "source": [
    "# PANK2\n",
    "[neurodegeneration with brain iron accumulation-1 (NBIA1)](https://www.omim.org/entry/234200) originally known as Hallervorden-Spatz disease, is caused by homozygous or compound heterozygous mutation in the pantothenate kinase-2 gene (PANK2)."
   ]
  },
  {
   "cell_type": "code",
   "execution_count": 1,
   "id": "4edcf7a7-bf70-4aba-ba6e-095b604fcdca",
   "metadata": {},
   "outputs": [
    {
     "name": "stdout",
     "output_type": "stream",
     "text": [
      "Using pyphetools version 0.9.83\n"
     ]
    },
    {
     "name": "stderr",
     "output_type": "stream",
     "text": [
      "/Users/robin/GIT/phenopacket-store/ps24venv/lib/python3.9/site-packages/urllib3/__init__.py:35: NotOpenSSLWarning: urllib3 v2 only supports OpenSSL 1.1.1+, currently the 'ssl' module is compiled with 'LibreSSL 2.8.3'. See: https://github.com/urllib3/urllib3/issues/3020\n",
      "  warnings.warn(\n"
     ]
    }
   ],
   "source": [
    "from pyphetools.creation import TemplateImporter\n",
    "from pyphetools.visualization import IndividualTable, QcVisualizer\n",
    "from IPython.display import display, HTML\n",
    "import pyphetools\n",
    "print(f\"Using pyphetools version {pyphetools.__version__}\")"
   ]
  },
  {
   "cell_type": "code",
   "execution_count": 2,
   "id": "2e42cf05-6490-47ab-9534-60894cd4815e",
   "metadata": {},
   "outputs": [],
   "source": [
    "template = \"input/PANK2_NBIA1_individuals.xlsx\"\n",
    "hp_json = \"../hp.json\"\n",
    "created_by = \"0000-0002-0736-9199\""
   ]
  },
  {
   "cell_type": "code",
   "execution_count": 3,
   "id": "a6aa1c7a-5664-44ce-9f87-2e377395b576",
   "metadata": {},
   "outputs": [
    {
     "name": "stdout",
     "output_type": "stream",
     "text": [
      "HPO version 2024-04-04\n",
      "Created encoders for 66 fields\n",
      "Importing OMIM:234200, Neurodegeneration with brain iron accumulation 1, HGNC:15894, PANK2,  NM_001386393.1\n",
      "We output 15 GA4GH phenopackets to the directory phenopackets\n"
     ]
    }
   ],
   "source": [
    "timporter = TemplateImporter(template=template, hp_json=hp_json, created_by=created_by)\n",
    "individual_list, cvalidator = timporter.import_phenopackets_from_template()"
   ]
  },
  {
   "cell_type": "code",
   "execution_count": 4,
   "id": "ea83774f-5c1f-4817-a786-1069f9705614",
   "metadata": {},
   "outputs": [
    {
     "data": {
      "text/html": [
       "<h2>Cohort validation</h2>\n",
       "<p>Errors found with 6 of 15 phenopackets.</p>\n",
       "<table style=\"border: 2px solid black; align: \"left\">\n",
       "<caption>Error counts</caption>\n",
       "<tr><th style=\"text-align: left;font-weight: bold;\">Level</th><th style=\"text-align: left;font-weight: bold;\">Error category</th><th style=\"text-align: left;font-weight: bold;\">Count</th></tr>\n",
       "<tr><td style=\"text-align: left;\">WARNING</td><td style=\"text-align: left;\">REDUNDANT</td><td style=\"text-align: left;\">6</td></tr>\n",
       "</table>\n",
       "<p>A total of 6 issues were fixed and no individual was removed from the cohort.</p>"
      ],
      "text/plain": [
       "<IPython.core.display.HTML object>"
      ]
     },
     "metadata": {},
     "output_type": "display_data"
    }
   ],
   "source": [
    "qc = QcVisualizer(cohort_validator=cvalidator)\n",
    "display(HTML(qc.to_summary_html()))"
   ]
  },
  {
   "cell_type": "code",
   "execution_count": 5,
   "id": "a1d9c6a5",
   "metadata": {},
   "outputs": [
    {
     "data": {
      "text/html": [
       "<table style=\"border: 2px solid black; align: \"left\">\n",
       "<caption>15 phenopackets - PMID:28821231 (n=1); PMID:15911822 (n=14)</caption>\n",
       "<tr><th style=\"text-align: left;font-weight: bold;\">Individual</th><th style=\"text-align: left;font-weight: bold;\">Disease</th><th style=\"text-align: left;font-weight: bold;\">Genotype</th><th style=\"text-align: left;font-weight: bold;\">Phenotypic features</th></tr>\n",
       "<tr><td style=\"text-align: left;\">Family I, patient I (FEMALE; P8Y)</td><td style=\"text-align: left;\">Neurodegeneration with brain iron accumulation 1 (OMIM:234200)</td><td style=\"text-align: left;\">NM_001386393.1:c.1096_1099del (homozygous)</td><td style=\"text-align: left;\"><b>P4Y</b>: Chorea (HP:0002072); Dystonia (HP:0001332); Poor coordination (HP:0002370); Rigidity (HP:0002063)<br/>Eye of the tiger anomaly of globus pallidus (HP:0002454); Cerebral cortical atrophy (HP:0002120); Seizure (HP:0001250); Elevated circulating alkaline phosphatase concentration (HP:0003155); Elevated circulating creatine kinase concentration (HP:0003236); excluded: Intellectual disability (HP:0001249); excluded: Depression (HP:0000716)</td></tr>\n",
       "<tr><td style=\"text-align: left;\">Patient 4 (MALE; P12Y)</td><td style=\"text-align: left;\">Neurodegeneration with brain iron accumulation 1 (OMIM:234200)</td><td style=\"text-align: left;\">NM_001386393.1:c.883T>G (homozygous)</td><td style=\"text-align: left;\"><b>P10Y</b>: Loss of ambulation (HP:0002505)<br/>Abnormal pyramidal sign (HP:0007256); Dysphagia (HP:0002015); Eye of the tiger anomaly of globus pallidus (HP:0002454); Dysarthria (HP:0001260); Dystonia (HP:0001332); Global developmental delay (HP:0001263); Pigmentary retinopathy (HP:0000580); Rigidity (HP:0002063); Acanthocytosis (HP:0001927); excluded: Obsessive-compulsive trait (HP:0008770); excluded: Hyperactivity (HP:0000752); excluded: Dementia (HP:0000726); excluded: Tremor (HP:0001337); excluded: Depression (HP:0000716); excluded: Optic atrophy (HP:0000648); excluded: Phonic tics (HP:0100035); excluded: Motor tics (HP:0100034)</td></tr>\n",
       "<tr><td style=\"text-align: left;\">Patient 13 (FEMALE; P19Y)</td><td style=\"text-align: left;\">Neurodegeneration with brain iron accumulation 1 (OMIM:234200)</td><td style=\"text-align: left;\"><ul> <li>NM_001386393.1:c.740G>C (heterozygous)</li> <li>NM_001386393.1:c.1231G>A (heterozygous)</li> </ul></td><td style=\"text-align: left;\"><b>P9Y</b>: Loss of ambulation (HP:0002505)<br/>Dysphagia (HP:0002015); Eye of the tiger anomaly of globus pallidus (HP:0002454); Dementia (HP:0000726); Dysarthria (HP:0001260); Dystonia (HP:0001332); Global developmental delay (HP:0001263); Rigidity (HP:0002063); excluded: Abnormal pyramidal sign (HP:0007256); excluded: Obsessive-compulsive trait (HP:0008770); excluded: Hyperactivity (HP:0000752); excluded: Tremor (HP:0001337); excluded: Depression (HP:0000716); excluded: Optic atrophy (HP:0000648); excluded: Pigmentary retinopathy (HP:0000580); excluded: Acanthocytosis (HP:0001927); excluded: Phonic tics (HP:0100035); excluded: Motor tics (HP:0100034)</td></tr>\n",
       "<tr><td style=\"text-align: left;\">Patient 14 (FEMALE; P13Y)</td><td style=\"text-align: left;\">Neurodegeneration with brain iron accumulation 1 (OMIM:234200)</td><td style=\"text-align: left;\"><ul> <li>NM_001386393.1:c.1231G>A (heterozygous)</li> <li>NM_001386393.1:c.1253C>T (heterozygous)</li> </ul></td><td style=\"text-align: left;\"><b>P10Y</b>: Loss of ambulation (HP:0002505)<br/>Dysphagia (HP:0002015); Eye of the tiger anomaly of globus pallidus (HP:0002454); Dysarthria (HP:0001260); Dystonia (HP:0001332); Optic atrophy (HP:0000648); excluded: Abnormal pyramidal sign (HP:0007256); excluded: Obsessive-compulsive trait (HP:0008770); excluded: Hyperactivity (HP:0000752); excluded: Dementia (HP:0000726); excluded: Tremor (HP:0001337); excluded: Depression (HP:0000716); excluded: Global developmental delay (HP:0001263); excluded: Pigmentary retinopathy (HP:0000580); excluded: Rigidity (HP:0002063); excluded: Acanthocytosis (HP:0001927); excluded: Phonic tics (HP:0100035); excluded: Motor tics (HP:0100034)</td></tr>\n",
       "<tr><td style=\"text-align: left;\">Patient 1 (MALE; P26Y)</td><td style=\"text-align: left;\">Neurodegeneration with brain iron accumulation 1 (OMIM:234200)</td><td style=\"text-align: left;\"><ul> <li>NM_001386393.1:c.460C>T (heterozygous)</li> <li>NM_001386393.1:c.635A>G (heterozygous)</li> </ul></td><td style=\"text-align: left;\">Abnormal pyramidal sign (HP:0007256); Obsessive-compulsive trait (HP:0008770); Hyperactivity (HP:0000752); Gait disturbance (HP:0001288); Eye of the tiger anomaly of globus pallidus (HP:0002454); Dementia (HP:0000726); Dysarthria (HP:0001260); Dystonia (HP:0001332); Rigidity (HP:0002063); Phonic tics (HP:0100035); excluded: Loss of ambulation (HP:0002505); excluded: Dysphagia (HP:0002015); excluded: Tremor (HP:0001337); excluded: Depression (HP:0000716); excluded: Global developmental delay (HP:0001263); excluded: Optic atrophy (HP:0000648); excluded: Pigmentary retinopathy (HP:0000580); excluded: Acanthocytosis (HP:0001927); excluded: Motor tics (HP:0100034)</td></tr>\n",
       "<tr><td style=\"text-align: left;\">Patient 8 (MALE; P51Y)</td><td style=\"text-align: left;\">Neurodegeneration with brain iron accumulation 1 (OMIM:234200)</td><td style=\"text-align: left;\">NM_001386393.1:c.526C>T (homozygous)</td><td style=\"text-align: left;\">Abnormal pyramidal sign (HP:0007256); Gait disturbance (HP:0001288); Dysphagia (HP:0002015); Eye of the tiger anomaly of globus pallidus (HP:0002454); Dementia (HP:0000726); Dysarthria (HP:0001260); Dystonia (HP:0001332); excluded: Obsessive-compulsive trait (HP:0008770); excluded: Hyperactivity (HP:0000752); excluded: Loss of ambulation (HP:0002505); excluded: Tremor (HP:0001337); excluded: Depression (HP:0000716); excluded: Global developmental delay (HP:0001263); excluded: Optic atrophy (HP:0000648); excluded: Pigmentary retinopathy (HP:0000580); excluded: Rigidity (HP:0002063); excluded: Acanthocytosis (HP:0001927); excluded: Phonic tics (HP:0100035); excluded: Motor tics (HP:0100034)</td></tr>\n",
       "<tr><td style=\"text-align: left;\">Patient 9 (FEMALE; P43Y)</td><td style=\"text-align: left;\">Neurodegeneration with brain iron accumulation 1 (OMIM:234200)</td><td style=\"text-align: left;\">NM_001386393.1:c.526C>T (homozygous)</td><td style=\"text-align: left;\">Abnormal pyramidal sign (HP:0007256); Gait disturbance (HP:0001288); Eye of the tiger anomaly of globus pallidus (HP:0002454); Dementia (HP:0000726); Dysarthria (HP:0001260); Dystonia (HP:0001332); excluded: Obsessive-compulsive trait (HP:0008770); excluded: Hyperactivity (HP:0000752); excluded: Loss of ambulation (HP:0002505); excluded: Dysphagia (HP:0002015); excluded: Tremor (HP:0001337); excluded: Depression (HP:0000716); excluded: Global developmental delay (HP:0001263); excluded: Optic atrophy (HP:0000648); excluded: Pigmentary retinopathy (HP:0000580); excluded: Rigidity (HP:0002063); excluded: Acanthocytosis (HP:0001927); excluded: Phonic tics (HP:0100035); excluded: Motor tics (HP:0100034)</td></tr>\n",
       "<tr><td style=\"text-align: left;\">Patient 15 (MALE; P33Y)</td><td style=\"text-align: left;\">Neurodegeneration with brain iron accumulation 1 (OMIM:234200)</td><td style=\"text-align: left;\">NM_001386393.1:c.740G>C (homozygous)</td><td style=\"text-align: left;\">Abnormal pyramidal sign (HP:0007256); Obsessive-compulsive trait (HP:0008770); Gait disturbance (HP:0001288); Eye of the tiger anomaly of globus pallidus (HP:0002454); Dementia (HP:0000726); Dysarthria (HP:0001260); Dystonia (HP:0001332); Pigmentary retinopathy (HP:0000580); Rigidity (HP:0002063); Motor tics (HP:0100034); excluded: Hyperactivity (HP:0000752); excluded: Loss of ambulation (HP:0002505); excluded: Dysphagia (HP:0002015); excluded: Tremor (HP:0001337); excluded: Depression (HP:0000716); excluded: Global developmental delay (HP:0001263); excluded: Optic atrophy (HP:0000648); excluded: Acanthocytosis (HP:0001927); excluded: Phonic tics (HP:0100035)</td></tr>\n",
       "<tr><td style=\"text-align: left;\">Patient 2 (FEMALE; P22Y)</td><td style=\"text-align: left;\">Neurodegeneration with brain iron accumulation 1 (OMIM:234200)</td><td style=\"text-align: left;\"><ul> <li>NM_001386393.1:c.1206+5G>C (heterozygous)</li> <li>NM_001386393.1:c.635A>G (heterozygous)</li> </ul></td><td style=\"text-align: left;\"><b>P2Y</b>: Gait disturbance (HP:0001288)<br/>Abnormal pyramidal sign (HP:0007256); Obsessive-compulsive trait (HP:0008770); Hyperactivity (HP:0000752); Eye of the tiger anomaly of globus pallidus (HP:0002454); Dysarthria (HP:0001260); Dystonia (HP:0001332); Rigidity (HP:0002063); excluded: Loss of ambulation (HP:0002505); excluded: Dysphagia (HP:0002015); excluded: Dementia (HP:0000726); excluded: Tremor (HP:0001337); excluded: Depression (HP:0000716); excluded: Global developmental delay (HP:0001263); excluded: Optic atrophy (HP:0000648); excluded: Pigmentary retinopathy (HP:0000580); excluded: Acanthocytosis (HP:0001927); excluded: Phonic tics (HP:0100035); excluded: Motor tics (HP:0100034)</td></tr>\n",
       "<tr><td style=\"text-align: left;\">Patient 5 (FEMALE; P42Y)</td><td style=\"text-align: left;\">Neurodegeneration with brain iron accumulation 1 (OMIM:234200)</td><td style=\"text-align: left;\"><ul> <li>NM_001386393.1:c.461G>A (heterozygous)</li> <li>NM_001386393.1:c.850_851del (heterozygous)</li> </ul></td><td style=\"text-align: left;\"><b>P5Y</b>: Loss of ambulation (HP:0002505)<br/>Abnormal pyramidal sign (HP:0007256); Hyperactivity (HP:0000752); Eye of the tiger anomaly of globus pallidus (HP:0002454); Dysarthria (HP:0001260); Dystonia (HP:0001332); Pigmentary retinopathy (HP:0000580); Rigidity (HP:0002063); Acanthocytosis (HP:0001927); excluded: Obsessive-compulsive trait (HP:0008770); excluded: Dysphagia (HP:0002015); excluded: Dementia (HP:0000726); excluded: Tremor (HP:0001337); excluded: Depression (HP:0000716); excluded: Global developmental delay (HP:0001263); excluded: Optic atrophy (HP:0000648); excluded: Phonic tics (HP:0100035); excluded: Motor tics (HP:0100034)</td></tr>\n",
       "<tr><td style=\"text-align: left;\">Patient 6 (MALE; P23Y)</td><td style=\"text-align: left;\">Neurodegeneration with brain iron accumulation 1 (OMIM:234200)</td><td style=\"text-align: left;\">NM_001386393.1:c.526C>T (homozygous)</td><td style=\"text-align: left;\">Abnormal pyramidal sign (HP:0007256); Obsessive-compulsive trait (HP:0008770); Eye of the tiger anomaly of globus pallidus (HP:0002454); Dementia (HP:0000726); Tremor (HP:0001337); Dysarthria (HP:0001260); Dystonia (HP:0001332); excluded: Hyperactivity (HP:0000752); excluded: Loss of ambulation (HP:0002505); excluded: Dysphagia (HP:0002015); excluded: Depression (HP:0000716); excluded: Global developmental delay (HP:0001263); excluded: Optic atrophy (HP:0000648); excluded: Pigmentary retinopathy (HP:0000580); excluded: Rigidity (HP:0002063); excluded: Acanthocytosis (HP:0001927); excluded: Phonic tics (HP:0100035); excluded: Motor tics (HP:0100034)</td></tr>\n",
       "<tr><td style=\"text-align: left;\">Patient 11 (MALE; P42Y)</td><td style=\"text-align: left;\">Neurodegeneration with brain iron accumulation 1 (OMIM:234200)</td><td style=\"text-align: left;\">NM_001386393.1:c.740G>C (homozygous)</td><td style=\"text-align: left;\"><b>P29Y</b>: Loss of ambulation (HP:0002505)<br/>Abnormal pyramidal sign (HP:0007256); Dysphagia (HP:0002015); Eye of the tiger anomaly of globus pallidus (HP:0002454); Tremor (HP:0001337); Depression (HP:0000716); Dysarthria (HP:0001260); Dystonia (HP:0001332); Rigidity (HP:0002063); excluded: Obsessive-compulsive trait (HP:0008770); excluded: Hyperactivity (HP:0000752); excluded: Dementia (HP:0000726); excluded: Global developmental delay (HP:0001263); excluded: Optic atrophy (HP:0000648); excluded: Pigmentary retinopathy (HP:0000580); excluded: Acanthocytosis (HP:0001927); excluded: Phonic tics (HP:0100035); excluded: Motor tics (HP:0100034)</td></tr>\n",
       "<tr><td style=\"text-align: left;\">Patient 3 (FEMALE; P6Y)</td><td style=\"text-align: left;\">Neurodegeneration with brain iron accumulation 1 (OMIM:234200)</td><td style=\"text-align: left;\"><ul> <li>NM_001386393.1:c.1021C>T (heterozygous)</li> <li>NM_001386393.1:c.1231G>A (heterozygous)</li> </ul></td><td style=\"text-align: left;\">Abnormal pyramidal sign (HP:0007256); Obsessive-compulsive trait (HP:0008770); Hyperactivity (HP:0000752); Gait disturbance (HP:0001288); Eye of the tiger anomaly of globus pallidus (HP:0002454); Dementia (HP:0000726); Dysarthria (HP:0001260); Dystonia (HP:0001332); Global developmental delay (HP:0001263); excluded: Loss of ambulation (HP:0002505); excluded: Dysphagia (HP:0002015); excluded: Tremor (HP:0001337); excluded: Depression (HP:0000716); excluded: Optic atrophy (HP:0000648); excluded: Pigmentary retinopathy (HP:0000580); excluded: Rigidity (HP:0002063); excluded: Acanthocytosis (HP:0001927); excluded: Phonic tics (HP:0100035); excluded: Motor tics (HP:0100034)</td></tr>\n",
       "<tr><td style=\"text-align: left;\">Patient 7 (MALE; P20Y)</td><td style=\"text-align: left;\">Neurodegeneration with brain iron accumulation 1 (OMIM:234200)</td><td style=\"text-align: left;\">NM_001386393.1:c.526C>T (homozygous)</td><td style=\"text-align: left;\">Abnormal pyramidal sign (HP:0007256); Obsessive-compulsive trait (HP:0008770); Gait disturbance (HP:0001288); Eye of the tiger anomaly of globus pallidus (HP:0002454); Dementia (HP:0000726); Dysarthria (HP:0001260); Dystonia (HP:0001332); Rigidity (HP:0002063); excluded: Hyperactivity (HP:0000752); excluded: Loss of ambulation (HP:0002505); excluded: Dysphagia (HP:0002015); excluded: Tremor (HP:0001337); excluded: Depression (HP:0000716); excluded: Global developmental delay (HP:0001263); excluded: Optic atrophy (HP:0000648); excluded: Pigmentary retinopathy (HP:0000580); excluded: Acanthocytosis (HP:0001927); excluded: Phonic tics (HP:0100035); excluded: Motor tics (HP:0100034)</td></tr>\n",
       "<tr><td style=\"text-align: left;\">Patient 12 (MALE; P22Y)</td><td style=\"text-align: left;\">Neurodegeneration with brain iron accumulation 1 (OMIM:234200)</td><td style=\"text-align: left;\"><ul> <li>NM_001386393.1:c.1231G>A (heterozygous)</li> <li>NM_001386393.1:c.1253C>T (heterozygous)</li> </ul></td><td style=\"text-align: left;\">Abnormal pyramidal sign (HP:0007256); Obsessive-compulsive trait (HP:0008770); Gait disturbance (HP:0001288); Eye of the tiger anomaly of globus pallidus (HP:0002454); Dysarthria (HP:0001260); Dystonia (HP:0001332); Pigmentary retinopathy (HP:0000580); Motor tics (HP:0100034); excluded: Hyperactivity (HP:0000752); excluded: Loss of ambulation (HP:0002505); excluded: Dysphagia (HP:0002015); excluded: Dementia (HP:0000726); excluded: Tremor (HP:0001337); excluded: Depression (HP:0000716); excluded: Global developmental delay (HP:0001263); excluded: Optic atrophy (HP:0000648); excluded: Rigidity (HP:0002063); excluded: Acanthocytosis (HP:0001927); excluded: Phonic tics (HP:0100035)</td></tr>\n",
       "</table>"
      ],
      "text/plain": [
       "<IPython.core.display.HTML object>"
      ]
     },
     "metadata": {},
     "output_type": "display_data"
    }
   ],
   "source": [
    "table = IndividualTable(cvalidator.get_error_free_individual_list())\n",
    "display(HTML(table.to_html()))"
   ]
  },
  {
   "cell_type": "code",
   "execution_count": 6,
   "id": "bd15352a",
   "metadata": {},
   "outputs": [
    {
     "name": "stdout",
     "output_type": "stream",
     "text": [
      "[pyphetools] Ingested 15 GA4GH phenopackets.\n",
      "\tNeurodegeneration with brain iron accumulation 1 (OMIM:234200): n=15\n",
      "We found a total of 26 unique HPO terms\n",
      "Extracted disease: Neurodegeneration with brain iron accumulation 1 (OMIM:234200)\n",
      "Wrote HPOA disease file to OMIM-234200.tab\n"
     ]
    }
   ],
   "source": [
    "pmid = \"PMID:15911822\"\n",
    "df = timporter.create_hpoa_from_phenopackets(pmid=pmid, moi=\"Autosomal recessive\")"
   ]
  }
 ],
 "metadata": {
  "kernelspec": {
   "display_name": "ps24venv",
   "language": "python",
   "name": "python3"
  },
  "language_info": {
   "codemirror_mode": {
    "name": "ipython",
    "version": 3
   },
   "file_extension": ".py",
   "mimetype": "text/x-python",
   "name": "python",
   "nbconvert_exporter": "python",
   "pygments_lexer": "ipython3",
   "version": "3.9.6"
  }
 },
 "nbformat": 4,
 "nbformat_minor": 5
}
