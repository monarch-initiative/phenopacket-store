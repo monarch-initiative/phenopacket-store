{
 "cells": [
  {
   "cell_type": "markdown",
   "metadata": {},
   "source": [
    "# TYRP1\n",
    "[oculocutaneous albinism-3](https://omim.org/entry/203290) is caused by homozygous or compound heterozygous mutation in tyrosinase-related protein-1 (TYRP1)."
   ]
  },
  {
   "cell_type": "code",
   "execution_count": 3,
   "metadata": {},
   "outputs": [
    {
     "name": "stdout",
     "output_type": "stream",
     "text": [
      "Using pyphetools version 0.9.88\n"
     ]
    }
   ],
   "source": [
    "from pyphetools.creation import TemplateImporter\n",
    "from pyphetools.visualization import IndividualTable, QcVisualizer\n",
    "from IPython.display import display, HTML\n",
    "import pyphetools\n",
    "print(f\"Using pyphetools version {pyphetools.__version__}\")"
   ]
  },
  {
   "cell_type": "code",
   "execution_count": 5,
   "metadata": {},
   "outputs": [],
   "source": [
    "template = \"input/TYRP1_OCA3_individuals.xlsx\"\n",
    "created_by = \"0000-0002-0736-9199\""
   ]
  },
  {
   "cell_type": "code",
   "execution_count": 6,
   "metadata": {},
   "outputs": [
    {
     "name": "stdout",
     "output_type": "stream",
     "text": [
      "HPO version 2024-04-26\n",
      "Created encoders for 23 fields\n",
      "Importing OMIM:203290, Albinism, oculocutaneous, type III, HGNC:12450, TYRP1,  NM_000550.3\n",
      "[INFO] encoding variant \"c.625delinsTT\"\n",
      "https://rest.variantvalidator.org/VariantValidator/variantvalidator/hg38/NM_000550.3%3Ac.625delinsTT/NM_000550.3?content-type=application%2Fjson\n",
      "[INFO] encoding variant \"c.780_791del\"\n",
      "https://rest.variantvalidator.org/VariantValidator/variantvalidator/hg38/NM_000550.3%3Ac.780_791del/NM_000550.3?content-type=application%2Fjson\n",
      "[INFO] encoding variant \"c.1067G>A\"\n",
      "https://rest.variantvalidator.org/VariantValidator/variantvalidator/hg38/NM_000550.3%3Ac.1067G>A/NM_000550.3?content-type=application%2Fjson\n",
      "[INFO] encoding variant \"c.643C>T\"\n",
      "https://rest.variantvalidator.org/VariantValidator/variantvalidator/hg38/NM_000550.3%3Ac.643C>T/NM_000550.3?content-type=application%2Fjson\n",
      "We output 2 GA4GH phenopackets to the directory phenopackets\n"
     ]
    }
   ],
   "source": [
    "timporter = TemplateImporter(template=template,  created_by=created_by)\n",
    "individual_list, cvalidator = timporter.import_phenopackets_from_template()"
   ]
  },
  {
   "cell_type": "code",
   "execution_count": 7,
   "metadata": {},
   "outputs": [
    {
     "data": {
      "text/html": [
       "<h2>Cohort validation</h2>\n",
       "<p>No errors found for the cohort with 2 individuals</p>"
      ],
      "text/plain": [
       "<IPython.core.display.HTML object>"
      ]
     },
     "metadata": {},
     "output_type": "display_data"
    }
   ],
   "source": [
    "qc = QcVisualizer(cohort_validator=cvalidator)\n",
    "display(HTML(qc.to_summary_html()))"
   ]
  },
  {
   "cell_type": "code",
   "execution_count": 8,
   "metadata": {},
   "outputs": [
    {
     "data": {
      "text/html": [
       "<table style=\"border: 2px solid black; align: \"left\">\n",
       "<caption>2 phenopackets - PMID:21739261 (n=2)</caption>\n",
       "<tr><th style=\"text-align: left;font-weight: bold;\">Individual</th><th style=\"text-align: left;font-weight: bold;\">Disease</th><th style=\"text-align: left;font-weight: bold;\">Genotype</th><th style=\"text-align: left;font-weight: bold;\">Phenotypic features</th></tr>\n",
       "<tr><td style=\"text-align: left;\">Patient 1 (FEMALE; P9M)</td><td style=\"text-align: left;\">Albinism, oculocutaneous, type III (OMIM:203290)</td><td style=\"text-align: left;\"><ul> <li>NM_000550.3:c.1067G>A (heterozygous)</li> <li>NM_000550.3:c.782_793del (heterozygous)</li> </ul></td><td style=\"text-align: left;\">Hypopigmentation of the skin (HP:0001010); Hypopigmentation of hair (HP:0005599); Nystagmus (HP:0000639); excluded: Strabismus (HP:0000486); excluded: Reduced visual acuity (HP:0007663)</td></tr>\n",
       "<tr><td style=\"text-align: left;\">Patient 2 (FEMALE; P1Y9M)</td><td style=\"text-align: left;\">Albinism, oculocutaneous, type III (OMIM:203290)</td><td style=\"text-align: left;\"><ul> <li>NM_000550.3:c.625delinsTT (heterozygous)</li> <li>NM_000550.3:c.643C>T (heterozygous)</li> </ul></td><td style=\"text-align: left;\">Hypopigmentation of the skin (HP:0001010); Red hair (HP:0002297); excluded: Nystagmus (HP:0000639); excluded: Strabismus (HP:0000486); excluded: Reduced visual acuity (HP:0007663)</td></tr>\n",
       "</table>"
      ],
      "text/plain": [
       "<IPython.core.display.HTML object>"
      ]
     },
     "metadata": {},
     "output_type": "display_data"
    }
   ],
   "source": [
    "table = IndividualTable(cvalidator.get_error_free_individual_list())\n",
    "display(HTML(table.to_html()))"
   ]
  }
 ],
 "metadata": {
  "kernelspec": {
   "display_name": "ps24venv",
   "language": "python",
   "name": "python3"
  },
  "language_info": {
   "codemirror_mode": {
    "name": "ipython",
    "version": 3
   },
   "file_extension": ".py",
   "mimetype": "text/x-python",
   "name": "python",
   "nbconvert_exporter": "python",
   "pygments_lexer": "ipython3",
   "version": "3.9.6"
  }
 },
 "nbformat": 4,
 "nbformat_minor": 2
}
