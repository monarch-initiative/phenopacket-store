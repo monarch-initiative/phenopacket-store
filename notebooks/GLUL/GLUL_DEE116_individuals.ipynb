{
 "cells": [
  {
   "cell_type": "markdown",
   "metadata": {},
   "source": [
    "# GLUL\n",
    "[developmental and epileptic encephalopathy-116 (DEE116)](https://omim.org/entry/620806) is caused by heterozygous mutation in the gene encoding glutamine synthetase (GLUL)."
   ]
  },
  {
   "cell_type": "code",
   "execution_count": 3,
   "metadata": {},
   "outputs": [
    {
     "name": "stdout",
     "output_type": "stream",
     "text": [
      "Using pyphetools version 0.9.92\n"
     ]
    }
   ],
   "source": [
    "from pyphetools.creation import TemplateImporter\n",
    "from pyphetools.visualization import IndividualTable, QcVisualizer\n",
    "from IPython.display import display, HTML\n",
    "import pyphetools\n",
    "print(f\"Using pyphetools version {pyphetools.__version__}\")"
   ]
  },
  {
   "cell_type": "code",
   "execution_count": 4,
   "metadata": {},
   "outputs": [],
   "source": [
    "template = \"input/GLUL_DEE116_individuals.xlsx\"\n",
    "created_by = \"0000-0002-0736-9199\""
   ]
  },
  {
   "cell_type": "code",
   "execution_count": 8,
   "metadata": {},
   "outputs": [
    {
     "name": "stdout",
     "output_type": "stream",
     "text": [
      "HPO version 2024-07-01\n",
      "Created encoders for 36 fields\n",
      "Importing OMIM:620806, Developmental and epileptic encephalopathy 116, HGNC:4341, GLUL,  NM_001033044.4\n",
      "[INFO] encoding variant \"c.-13-1G>A\"\n",
      "https://rest.variantvalidator.org/VariantValidator/variantvalidator/hg38/NM_001033044.4%3Ac.-13-1G>A/NM_001033044.4?content-type=application%2Fjson\n",
      "[INFO] encoding variant \"c.-13-2A>G\"\n",
      "https://rest.variantvalidator.org/VariantValidator/variantvalidator/hg38/NM_001033044.4%3Ac.-13-2A>G/NM_001033044.4?content-type=application%2Fjson\n",
      "We output 9 GA4GH phenopackets to the directory phenopackets\n"
     ]
    }
   ],
   "source": [
    "timporter = TemplateImporter(template=template,  created_by=created_by)\n",
    "individual_list, cvalidator = timporter.import_phenopackets_from_template()"
   ]
  },
  {
   "cell_type": "code",
   "execution_count": 9,
   "metadata": {},
   "outputs": [
    {
     "data": {
      "text/html": [
       "<h2>Cohort validation</h2>\n",
       "<p>Errors found with 9 of 9 phenopackets.</p>\n",
       "<table style=\"border: 2px solid black; align: \"left\">\n",
       "<caption>Error counts</caption>\n",
       "<tr><th style=\"text-align: left;font-weight: bold;\">Level</th><th style=\"text-align: left;font-weight: bold;\">Error category</th><th style=\"text-align: left;font-weight: bold;\">Count</th></tr>\n",
       "<tr><td style=\"text-align: left;\">ERROR</td><td style=\"text-align: left;\">CONFLICT</td><td style=\"text-align: left;\">2</td></tr>\n",
       "<tr><td style=\"text-align: left;\">WARNING</td><td style=\"text-align: left;\">REDUNDANT</td><td style=\"text-align: left;\">19</td></tr>\n",
       "</table>\n",
       "<p>A total of 21 issues were fixed and no individual was removed from the cohort.</p>"
      ],
      "text/plain": [
       "<IPython.core.display.HTML object>"
      ]
     },
     "metadata": {},
     "output_type": "display_data"
    }
   ],
   "source": [
    "qc = QcVisualizer(cohort_validator=cvalidator)\n",
    "display(HTML(qc.to_summary_html()))"
   ]
  },
  {
   "cell_type": "code",
   "execution_count": 10,
   "metadata": {},
   "outputs": [
    {
     "data": {
      "text/html": [
       "<table style=\"border: 2px solid black; align: \"left\">\n",
       "<caption>9 phenopackets - PMID:38579670 (n=9)</caption>\n",
       "<tr><th style=\"text-align: left;font-weight: bold;\">Individual</th><th style=\"text-align: left;font-weight: bold;\">Disease</th><th style=\"text-align: left;font-weight: bold;\">Genotype</th><th style=\"text-align: left;font-weight: bold;\">Phenotypic features</th></tr>\n",
       "<tr><td style=\"text-align: left;\">Individual 1 (FEMALE; n/a)</td><td style=\"text-align: left;\">Developmental and epileptic encephalopathy 116 (OMIM:620806)</td><td style=\"text-align: left;\">NM_001033044.4:c.3G>A (heterozygous)</td><td style=\"text-align: left;\"><b>P2M</b>: Bilateral tonic-clonic seizure (HP:0002069)<br/>Decreased CSF glutamine concentration (HP:0500198); Profound global developmental delay (HP:0012736); Dilation of Virchow-Robin spaces (HP:0012520); Thin corpus callosum (HP:0033725); Epileptic encephalopathy (HP:0200134); Hypotonia (HP:0001252); CNS hypomyelination (HP:0003429); excluded: Infantile spasms (HP:0012469); excluded: Hypoglutaminemia (HP:0500147); excluded: Generalized non-motor (absence) seizure (HP:0002121); excluded: Focal myoclonic seizure (HP:0011166); excluded: Generalized myoclonic-atonic seizure (HP:0011170); excluded: Focal clonic seizure (HP:0002266); excluded: Tonic seizure (HP:0032792)</td></tr>\n",
       "<tr><td style=\"text-align: left;\">Individual 2 (FEMALE; n/a)</td><td style=\"text-align: left;\">Developmental and epileptic encephalopathy 116 (OMIM:620806)</td><td style=\"text-align: left;\">NM_001033044.4:c.1A>T (heterozygous)</td><td style=\"text-align: left;\"><b>P8M</b>: Generalized-onset seizure (HP:0002197); Focal-onset seizure (HP:0007359)<br/>Hypoglutaminemia (HP:0500147); Profound global developmental delay (HP:0012736); Dilation of Virchow-Robin spaces (HP:0012520); Thin corpus callosum (HP:0033725); Epileptic encephalopathy (HP:0200134); Hypotonia (HP:0001252); CNS hypomyelination (HP:0003429); excluded: Infantile spasms (HP:0012469); excluded: Decreased CSF glutamine concentration (HP:0500198); excluded: Generalized non-motor (absence) seizure (HP:0002121); excluded: Focal myoclonic seizure (HP:0011166); excluded: Generalized myoclonic-atonic seizure (HP:0011170); excluded: Focal clonic seizure (HP:0002266); excluded: Tonic seizure (HP:0032792); excluded: Bilateral tonic-clonic seizure (HP:0002069)</td></tr>\n",
       "<tr><td style=\"text-align: left;\">Individual 3 (FEMALE; n/a)</td><td style=\"text-align: left;\">Developmental and epileptic encephalopathy 116 (OMIM:620806)</td><td style=\"text-align: left;\">NM_001033044.4:c.1A>T (heterozygous)</td><td style=\"text-align: left;\">Profound global developmental delay (HP:0012736); Hypotonia (HP:0001252); excluded: Infantile spasms (HP:0012469); excluded: Generalized non-motor (absence) seizure (HP:0002121); excluded: Focal myoclonic seizure (HP:0011166); excluded: Generalized myoclonic-atonic seizure (HP:0011170); excluded: Focal clonic seizure (HP:0002266); excluded: Tonic seizure (HP:0032792)</td></tr>\n",
       "<tr><td style=\"text-align: left;\">Individual 4 (FEMALE; n/a)</td><td style=\"text-align: left;\">Developmental and epileptic encephalopathy 116 (OMIM:620806)</td><td style=\"text-align: left;\">NM_001033044.4:c.1A>T (heterozygous)</td><td style=\"text-align: left;\"><b>P2M14D</b>: Generalized myoclonic-atonic seizure (HP:0011170); Focal clonic seizure (HP:0002266); Tonic seizure (HP:0032792); Bilateral tonic-clonic seizure (HP:0002069)<br/>Profound global developmental delay (HP:0012736); Dilation of Virchow-Robin spaces (HP:0012520); Thin corpus callosum (HP:0033725); Epileptic encephalopathy (HP:0200134); Hypotonia (HP:0001252); CNS hypomyelination (HP:0003429); excluded: Infantile spasms (HP:0012469); excluded: Hypoglutaminemia (HP:0500147); excluded: Generalized non-motor (absence) seizure (HP:0002121); excluded: Focal myoclonic seizure (HP:0011166)</td></tr>\n",
       "<tr><td style=\"text-align: left;\">Individual 5 (FEMALE; n/a)</td><td style=\"text-align: left;\">Developmental and epileptic encephalopathy 116 (OMIM:620806)</td><td style=\"text-align: left;\">NM_001033044.4:c.1A>T (heterozygous)</td><td style=\"text-align: left;\"><b>P8M</b>: Bilateral tonic-clonic seizure (HP:0002069)<br/>Profound global developmental delay (HP:0012736); Epileptic encephalopathy (HP:0200134); Hypotonia (HP:0001252); CNS hypomyelination (HP:0003429); excluded: Infantile spasms (HP:0012469); excluded: Hypoglutaminemia (HP:0500147); excluded: Decreased CSF glutamine concentration (HP:0500198); excluded: Generalized non-motor (absence) seizure (HP:0002121); excluded: Focal myoclonic seizure (HP:0011166); excluded: Generalized myoclonic-atonic seizure (HP:0011170); excluded: Focal clonic seizure (HP:0002266); excluded: Tonic seizure (HP:0032792); excluded: Dilation of Virchow-Robin spaces (HP:0012520); excluded: Thin corpus callosum (HP:0033725)</td></tr>\n",
       "<tr><td style=\"text-align: left;\">Individual 6 (FEMALE; n/a)</td><td style=\"text-align: left;\">Developmental and epileptic encephalopathy 116 (OMIM:620806)</td><td style=\"text-align: left;\">NM_001033044.4:c.1A>T (heterozygous)</td><td style=\"text-align: left;\"><b>P6M</b>: Myoclonic seizure (HP:0032794); Tonic seizure (HP:0032792); Bilateral tonic-clonic seizure (HP:0002069)<br/>Profound global developmental delay (HP:0012736); Epileptic encephalopathy (HP:0200134); Hypotonia (HP:0001252); CNS hypomyelination (HP:0003429); excluded: Infantile spasms (HP:0012469); excluded: Hypoglutaminemia (HP:0500147); excluded: Decreased CSF glutamine concentration (HP:0500198); excluded: Generalized non-motor (absence) seizure (HP:0002121); excluded: Focal myoclonic seizure (HP:0011166); excluded: Generalized myoclonic-atonic seizure (HP:0011170); excluded: Focal clonic seizure (HP:0002266); excluded: Dilation of Virchow-Robin spaces (HP:0012520); excluded: Thin corpus callosum (HP:0033725)</td></tr>\n",
       "<tr><td style=\"text-align: left;\">Individual 7 (FEMALE; n/a)</td><td style=\"text-align: left;\">Developmental and epileptic encephalopathy 116 (OMIM:620806)</td><td style=\"text-align: left;\">NM_001033044.4:c.-13-1G>A (heterozygous)</td><td style=\"text-align: left;\"><b>P11M</b>: Bilateral tonic-clonic seizure (HP:0002069)<br/>Hypoglutaminemia (HP:0500147); Profound global developmental delay (HP:0012736); Dilation of Virchow-Robin spaces (HP:0012520); Thin corpus callosum (HP:0033725); Epileptic encephalopathy (HP:0200134); Hypotonia (HP:0001252); CNS hypomyelination (HP:0003429); excluded: Infantile spasms (HP:0012469); excluded: Decreased CSF glutamine concentration (HP:0500198); excluded: Generalized non-motor (absence) seizure (HP:0002121); excluded: Focal myoclonic seizure (HP:0011166); excluded: Generalized myoclonic-atonic seizure (HP:0011170); excluded: Focal clonic seizure (HP:0002266); excluded: Tonic seizure (HP:0032792)</td></tr>\n",
       "<tr><td style=\"text-align: left;\">Individual 8 (FEMALE; n/a)</td><td style=\"text-align: left;\">Developmental and epileptic encephalopathy 116 (OMIM:620806)</td><td style=\"text-align: left;\">NM_001033044.4:c.-13-2A>G (heterozygous)</td><td style=\"text-align: left;\"><b>P1Y10M</b>: Generalized non-motor (absence) seizure (HP:0002121); Myoclonic seizure (HP:0032794); Bilateral tonic-clonic seizure (HP:0002069)<br/>Profound global developmental delay (HP:0012736); Epileptic encephalopathy (HP:0200134); Hypotonia (HP:0001252); excluded: Infantile spasms (HP:0012469); excluded: Hypoglutaminemia (HP:0500147); excluded: Decreased CSF glutamine concentration (HP:0500198); excluded: Focal myoclonic seizure (HP:0011166); excluded: Generalized myoclonic-atonic seizure (HP:0011170); excluded: Focal clonic seizure (HP:0002266); excluded: Tonic seizure (HP:0032792)</td></tr>\n",
       "<tr><td style=\"text-align: left;\">Individual 9 (FEMALE; n/a)</td><td style=\"text-align: left;\">Developmental and epileptic encephalopathy 116 (OMIM:620806)</td><td style=\"text-align: left;\">NM_001033044.4:c.1A>T (heterozygous)</td><td style=\"text-align: left;\"><b>P2M</b>: Infantile spasms (HP:0012469); Focal myoclonic seizure (HP:0011166); Focal clonic seizure (HP:0002266)<br/>Decreased CSF glutamine concentration (HP:0500198); Profound global developmental delay (HP:0012736); Dilation of Virchow-Robin spaces (HP:0012520); Thin corpus callosum (HP:0033725); Epileptic encephalopathy (HP:0200134); Hypotonia (HP:0001252); CNS hypomyelination (HP:0003429); excluded: Hypoglutaminemia (HP:0500147); excluded: Generalized non-motor (absence) seizure (HP:0002121); excluded: Generalized myoclonic-atonic seizure (HP:0011170); excluded: Tonic seizure (HP:0032792); excluded: Bilateral tonic-clonic seizure (HP:0002069)</td></tr>\n",
       "</table>"
      ],
      "text/plain": [
       "<IPython.core.display.HTML object>"
      ]
     },
     "metadata": {},
     "output_type": "display_data"
    }
   ],
   "source": [
    "table = IndividualTable(cvalidator.get_error_free_individual_list())\n",
    "display(HTML(table.to_html()))"
   ]
  },
  {
   "cell_type": "code",
   "execution_count": 11,
   "metadata": {},
   "outputs": [
    {
     "name": "stdout",
     "output_type": "stream",
     "text": [
      "[pyphetools] Ingested 9 GA4GH phenopackets.\n",
      "[INFO] Extracted 9 from 9 phenopackets with OMIM:620806\n",
      "\n",
      "\tDevelopmental and epileptic encephalopathy 116 (OMIM:620806): n=9\n",
      "We found a total of 18 unique HPO terms\n",
      "Extracted disease: Developmental and epileptic encephalopathy 116 (OMIM:620806)\n",
      "Wrote HPOA disease file to OMIM-620806.tab\n"
     ]
    }
   ],
   "source": [
    "pmid = \"PMID:38579670\"\n",
    "df = timporter.create_hpoa_from_phenopackets(pmid=pmid, moi=\"Autosomal dominant\", target=\"OMIM:620806\")"
   ]
  },
  {
   "cell_type": "code",
   "execution_count": null,
   "metadata": {},
   "outputs": [],
   "source": []
  }
 ],
 "metadata": {
  "kernelspec": {
   "display_name": "ps24venv",
   "language": "python",
   "name": "python3"
  },
  "language_info": {
   "codemirror_mode": {
    "name": "ipython",
    "version": 3
   },
   "file_extension": ".py",
   "mimetype": "text/x-python",
   "name": "python",
   "nbconvert_exporter": "python",
   "pygments_lexer": "ipython3",
   "version": "3.9.6"
  }
 },
 "nbformat": 4,
 "nbformat_minor": 2
}
