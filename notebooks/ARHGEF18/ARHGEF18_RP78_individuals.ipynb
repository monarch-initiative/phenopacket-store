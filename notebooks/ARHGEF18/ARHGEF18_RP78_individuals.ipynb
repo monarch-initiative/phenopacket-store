{
 "cells": [
  {
   "cell_type": "markdown",
   "metadata": {},
   "source": [
    "# ARHGEF18\n",
    "[ retinitis pigmentosa-78 (RP78)](https://omim.org/entry/617433) is caused by homozygous or compound heterozygous mutation in the ARHGEF18 gene."
   ]
  },
  {
   "cell_type": "code",
   "execution_count": 3,
   "metadata": {},
   "outputs": [
    {
     "name": "stdout",
     "output_type": "stream",
     "text": [
      "Using pyphetools version 0.9.86\n"
     ]
    }
   ],
   "source": [
    "from pyphetools.creation import TemplateImporter\n",
    "from pyphetools.visualization import IndividualTable, QcVisualizer\n",
    "from IPython.display import display, HTML\n",
    "import pyphetools\n",
    "print(f\"Using pyphetools version {pyphetools.__version__}\")"
   ]
  },
  {
   "cell_type": "code",
   "execution_count": 5,
   "metadata": {},
   "outputs": [],
   "source": [
    "template = \"input/ARHGEF18_RP78_individuals.xlsx\"\n",
    "created_by = \"0000-0002-0736-9199\""
   ]
  },
  {
   "cell_type": "code",
   "execution_count": 6,
   "metadata": {},
   "outputs": [
    {
     "name": "stdout",
     "output_type": "stream",
     "text": [
      "HPO version 2024-04-26\n",
      "Created encoders for 27 fields\n",
      "Importing OMIM:617433, Retinitis pigmentosa 78, HGNC:17090, ARHGEF18,  NM_001367823.1\n",
      "[INFO] encoding variant \"c.1372A>G\"\n",
      "https://rest.variantvalidator.org/VariantValidator/variantvalidator/hg38/NM_001367823.1%3Ac.1372A>G/NM_001367823.1?content-type=application%2Fjson\n",
      "[INFO] encoding variant \"c.3302_3325del\"\n",
      "https://rest.variantvalidator.org/VariantValidator/variantvalidator/hg38/NM_001367823.1%3Ac.3302_3325del/NM_001367823.1?content-type=application%2Fjson\n",
      "[INFO] encoding variant \"c.3196G>T\"\n",
      "https://rest.variantvalidator.org/VariantValidator/variantvalidator/hg38/NM_001367823.1%3Ac.3196G>T/NM_001367823.1?content-type=application%2Fjson\n",
      "[INFO] encoding variant \"c.2181+5G>A\"\n",
      "https://rest.variantvalidator.org/VariantValidator/variantvalidator/hg38/NM_001367823.1%3Ac.2181+5G>A/NM_001367823.1?content-type=application%2Fjson\n",
      "[INFO] encoding variant \"c.2560C>T\"\n",
      "https://rest.variantvalidator.org/VariantValidator/variantvalidator/hg38/NM_001367823.1%3Ac.2560C>T/NM_001367823.1?content-type=application%2Fjson\n",
      "We output 3 GA4GH phenopackets to the directory phenopackets\n"
     ]
    }
   ],
   "source": [
    "timporter = TemplateImporter(template=template,  created_by=created_by)\n",
    "individual_list, cvalidator = timporter.import_phenopackets_from_template()"
   ]
  },
  {
   "cell_type": "code",
   "execution_count": 7,
   "metadata": {},
   "outputs": [
    {
     "data": {
      "text/html": [
       "<h2>Cohort validation</h2>\n",
       "<p>No errors found for the cohort with 3 individuals</p>"
      ],
      "text/plain": [
       "<IPython.core.display.HTML object>"
      ]
     },
     "metadata": {},
     "output_type": "display_data"
    }
   ],
   "source": [
    "qc = QcVisualizer(cohort_validator=cvalidator)\n",
    "display(HTML(qc.to_summary_html()))"
   ]
  },
  {
   "cell_type": "code",
   "execution_count": 8,
   "metadata": {},
   "outputs": [
    {
     "data": {
      "text/html": [
       "<table style=\"border: 2px solid black; align: \"left\">\n",
       "<caption>3 phenopackets - PMID:28132693 (n=3)</caption>\n",
       "<tr><th style=\"text-align: left;font-weight: bold;\">Individual</th><th style=\"text-align: left;font-weight: bold;\">Disease</th><th style=\"text-align: left;font-weight: bold;\">Genotype</th><th style=\"text-align: left;font-weight: bold;\">Phenotypic features</th></tr>\n",
       "<tr><td style=\"text-align: left;\">individual 1 GC18203 (FEMALE; P37Y)</td><td style=\"text-align: left;\">Retinitis pigmentosa 78 (OMIM:617433)</td><td style=\"text-align: left;\"><ul> <li>NM_001367823.1:c.1372A>G (heterozygous)</li> <li>NM_001367823.1:c.2560C>T (heterozygous)</li> </ul></td><td style=\"text-align: left;\"><b>P20Y</b>: Visual field defect (HP:0001123); Reduced visual acuity (HP:0007663); Nyctalopia (HP:0000662)<br/>Optic disc pallor (HP:0000543); Cystoid macular edema (HP:0011505); Attenuation of retinal blood vessels (HP:0007843); Rod-cone dystrophy (HP:0000510); Hypoautofluorescent retinal lesion (HP:0025159); Pigmentary retinopathy (HP:0000580); excluded: Photopsia (HP:0030786)</td></tr>\n",
       "<tr><td style=\"text-align: left;\">individual 2 GC3626 (MALE; P51Y)</td><td style=\"text-align: left;\">Retinitis pigmentosa 78 (OMIM:617433)</td><td style=\"text-align: left;\"><ul> <li>NM_001367823.1:c.3196G>T (heterozygous)</li> <li>NM_001367823.1:c.3302_3325del (heterozygous)</li> </ul></td><td style=\"text-align: left;\"><b>P29Y</b>: Photopsia (HP:0030786); Reduced visual acuity (HP:0007663); Nyctalopia (HP:0000662)<br/>Optic disc pallor (HP:0000543); Visual field defect (HP:0001123); Cystoid macular edema (HP:0011505); Rod-cone dystrophy (HP:0000510); Hypoautofluorescent retinal lesion (HP:0025159); Pigmentary retinopathy (HP:0000580); excluded: Attenuation of retinal blood vessels (HP:0007843)</td></tr>\n",
       "<tr><td style=\"text-align: left;\">individual 3 GC17880 (FEMALE; P38Y)</td><td style=\"text-align: left;\">Retinitis pigmentosa 78 (OMIM:617433)</td><td style=\"text-align: left;\">NM_001367823.1:c.2181+5G>A (homozygous)</td><td style=\"text-align: left;\"><b>P30Y</b>: Visual field defect (HP:0001123); Photopsia (HP:0030786); Nyctalopia (HP:0000662)<br/>Reduced visual acuity (HP:0007663); Rod-cone dystrophy (HP:0000510); Hypoautofluorescent retinal lesion (HP:0025159); Pigmentary retinopathy (HP:0000580); excluded: Optic disc pallor (HP:0000543); excluded: Cystoid macular edema (HP:0011505); excluded: Attenuation of retinal blood vessels (HP:0007843)</td></tr>\n",
       "</table>"
      ],
      "text/plain": [
       "<IPython.core.display.HTML object>"
      ]
     },
     "metadata": {},
     "output_type": "display_data"
    }
   ],
   "source": [
    "table = IndividualTable(cvalidator.get_error_free_individual_list())\n",
    "display(HTML(table.to_html()))"
   ]
  }
 ],
 "metadata": {
  "kernelspec": {
   "display_name": "ps24venv",
   "language": "python",
   "name": "python3"
  },
  "language_info": {
   "codemirror_mode": {
    "name": "ipython",
    "version": 3
   },
   "file_extension": ".py",
   "mimetype": "text/x-python",
   "name": "python",
   "nbconvert_exporter": "python",
   "pygments_lexer": "ipython3",
   "version": "3.9.6"
  }
 },
 "nbformat": 4,
 "nbformat_minor": 2
}
