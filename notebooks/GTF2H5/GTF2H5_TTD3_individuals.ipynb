{
 "cells": [
  {
   "cell_type": "markdown",
   "metadata": {},
   "source": [
    "# GTF2H5\n",
    "[Photosensitive trichothiodystrophy-3 (TTD3)](https://omim.org/entry/616395) is caused by homozygous or compound heterozygous mutation in the TFB5 gene (GTF2H5)."
   ]
  },
  {
   "cell_type": "code",
   "execution_count": 3,
   "metadata": {},
   "outputs": [
    {
     "name": "stdout",
     "output_type": "stream",
     "text": [
      "Using pyphetools version 0.9.91\n"
     ]
    }
   ],
   "source": [
    "from pyphetools.creation import TemplateImporter\n",
    "from pyphetools.visualization import IndividualTable, QcVisualizer\n",
    "from IPython.display import display, HTML\n",
    "import pyphetools\n",
    "print(f\"Using pyphetools version {pyphetools.__version__}\")"
   ]
  },
  {
   "cell_type": "code",
   "execution_count": 4,
   "metadata": {},
   "outputs": [],
   "source": [
    "template = \"input/GTF2H5_TTD3_individuals.xlsx\"\n",
    "created_by = \"0000-0002-0736-9199\""
   ]
  },
  {
   "cell_type": "code",
   "execution_count": 8,
   "metadata": {},
   "outputs": [
    {
     "name": "stdout",
     "output_type": "stream",
     "text": [
      "HPO version 2024-06-25\n",
      "Created encoders for 52 fields\n",
      "Importing OMIM:616395, Trichothiodystrophy 3, photosensitive, HGNC:21157, GTF2H5,  NM_207118.3\n",
      "We output 1 GA4GH phenopackets to the directory phenopackets\n"
     ]
    }
   ],
   "source": [
    "timporter = TemplateImporter(template=template,  created_by=created_by)\n",
    "individual_list, cvalidator = timporter.import_phenopackets_from_template()"
   ]
  },
  {
   "cell_type": "code",
   "execution_count": 9,
   "metadata": {},
   "outputs": [
    {
     "data": {
      "text/html": [
       "<h2>Cohort validation</h2>\n",
       "<p>No errors found for the cohort with 1 individuals</p>"
      ],
      "text/plain": [
       "<IPython.core.display.HTML object>"
      ]
     },
     "metadata": {},
     "output_type": "display_data"
    }
   ],
   "source": [
    "qc = QcVisualizer(cohort_validator=cvalidator)\n",
    "display(HTML(qc.to_summary_html()))"
   ]
  },
  {
   "cell_type": "code",
   "execution_count": 10,
   "metadata": {},
   "outputs": [
    {
     "data": {
      "text/html": [
       "<table style=\"border: 2px solid black; align: \"left\">\n",
       "<caption>1 phenopacket - PMID:30359777 (n=1)</caption>\n",
       "<tr><th style=\"text-align: left;font-weight: bold;\">Individual</th><th style=\"text-align: left;font-weight: bold;\">Disease</th><th style=\"text-align: left;font-weight: bold;\">Genotype</th><th style=\"text-align: left;font-weight: bold;\">Phenotypic features</th></tr>\n",
       "<tr><td style=\"text-align: left;\">nan (MALE; P6M)</td><td style=\"text-align: left;\">Trichothiodystrophy 3, photosensitive (OMIM:616395)</td><td style=\"text-align: left;\"><ul> <li>NM_207118.3:c.49A>T (heterozygous)</li> <li>NM_207118.3:c.29T>A (heterozygous)</li> </ul></td><td style=\"text-align: left;\">Congenital nonbullous ichthyosiform erythroderma (HP:0007479); Premature rupture of membranes (HP:0001788); Microphthalmia (HP:0000568); Hypotelorism (HP:0000601); Low-set ears (HP:0000369); Trigonocephaly (HP:0000243); Natal tooth (HP:0000695); Ectropion (HP:0000656); Eclabion (HP:0012472); Hypoproteinemia (HP:0003075); Hypoalbuminemia (HP:0003073); Pyloric stenosis (HP:0002021); Sepsis (HP:0100806); Lymphopenia (HP:0001888); Hepatosplenomegaly (HP:0001433); Neutropenia (HP:0001875); Thrombocytopenia (HP:0001873); Nail dystrophy (HP:0008404); Intrauterine growth retardation (HP:0001511); Short stature (HP:0004322); Bilateral cryptorchidism (HP:0008689); Delayed CNS myelination (HP:0002188); Ventriculomegaly (HP:0002119); Increased circulating IgA level (HP:0003261); Increased circulating IgE level (HP:0003212)</td></tr>\n",
       "</table>"
      ],
      "text/plain": [
       "<IPython.core.display.HTML object>"
      ]
     },
     "metadata": {},
     "output_type": "display_data"
    }
   ],
   "source": [
    "table = IndividualTable(cvalidator.get_error_free_individual_list())\n",
    "display(HTML(table.to_html()))"
   ]
  }
 ],
 "metadata": {
  "kernelspec": {
   "display_name": "ps24venv",
   "language": "python",
   "name": "python3"
  },
  "language_info": {
   "codemirror_mode": {
    "name": "ipython",
    "version": 3
   },
   "file_extension": ".py",
   "mimetype": "text/x-python",
   "name": "python",
   "nbconvert_exporter": "python",
   "pygments_lexer": "ipython3",
   "version": "3.9.6"
  }
 },
 "nbformat": 4,
 "nbformat_minor": 2
}
