{
 "cells": [
  {
   "cell_type": "markdown",
   "metadata": {},
   "source": [
    "# ASCC3\n",
    "[autosomal recessive intellectual developmental disorder-81 (MRT81)](https://omim.org/entry/620700) is caused by homozygous or compound heterozygous mutation in the ASCC3 gene."
   ]
  },
  {
   "cell_type": "code",
   "execution_count": 16,
   "metadata": {},
   "outputs": [
    {
     "name": "stdout",
     "output_type": "stream",
     "text": [
      "Using pyphetools version 0.9.92\n"
     ]
    }
   ],
   "source": [
    "from pyphetools.creation import TemplateImporter\n",
    "from pyphetools.visualization import IndividualTable, QcVisualizer\n",
    "from IPython.display import display, HTML\n",
    "import pyphetools\n",
    "print(f\"Using pyphetools version {pyphetools.__version__}\")"
   ]
  },
  {
   "cell_type": "code",
   "execution_count": 17,
   "metadata": {},
   "outputs": [],
   "source": [
    "template = \"input/ASCC3_MRT81_individuals.xlsx\"\n",
    "created_by = \"0000-0002-0736-9199\""
   ]
  },
  {
   "cell_type": "code",
   "execution_count": 25,
   "metadata": {},
   "outputs": [
    {
     "name": "stdout",
     "output_type": "stream",
     "text": [
      "HPO version 2024-06-25\n",
      "Created encoders for 77 fields\n",
      "Importing OMIM:620700, Intellectual developmental disorder, autosomal recessive 81, HGNC:18697, ASCC3,  NM_006828.4\n",
      "We output 11 GA4GH phenopackets to the directory phenopackets\n"
     ]
    }
   ],
   "source": [
    "timporter = TemplateImporter(template=template,  created_by=created_by)\n",
    "individual_list, cvalidator = timporter.import_phenopackets_from_template()"
   ]
  },
  {
   "cell_type": "code",
   "execution_count": 26,
   "metadata": {},
   "outputs": [
    {
     "data": {
      "text/html": [
       "<h2>Cohort validation</h2>\n",
       "<p>Errors found with 7 of 11 phenopackets.</p>\n",
       "<table style=\"border: 2px solid black; align: \"left\">\n",
       "<caption>Error counts</caption>\n",
       "<tr><th style=\"text-align: left;font-weight: bold;\">Level</th><th style=\"text-align: left;font-weight: bold;\">Error category</th><th style=\"text-align: left;font-weight: bold;\">Count</th></tr>\n",
       "<tr><td style=\"text-align: left;\">ERROR</td><td style=\"text-align: left;\">CONFLICT</td><td style=\"text-align: left;\">4</td></tr>\n",
       "<tr><td style=\"text-align: left;\">WARNING</td><td style=\"text-align: left;\">REDUNDANT</td><td style=\"text-align: left;\">3</td></tr>\n",
       "</table>\n",
       "<p>A total of 7 issues were fixed and no individual was removed from the cohort.</p>"
      ],
      "text/plain": [
       "<IPython.core.display.HTML object>"
      ]
     },
     "metadata": {},
     "output_type": "display_data"
    }
   ],
   "source": [
    "qc = QcVisualizer(cohort_validator=cvalidator)\n",
    "display(HTML(qc.to_summary_html()))"
   ]
  },
  {
   "cell_type": "code",
   "execution_count": 27,
   "metadata": {},
   "outputs": [
    {
     "data": {
      "text/html": [
       "<table style=\"border: 2px solid black; align: \"left\">\n",
       "<caption>11 phenopackets - PMID:35047834 (n=11)</caption>\n",
       "<tr><th style=\"text-align: left;font-weight: bold;\">Individual</th><th style=\"text-align: left;font-weight: bold;\">Disease</th><th style=\"text-align: left;font-weight: bold;\">Genotype</th><th style=\"text-align: left;font-weight: bold;\">Phenotypic features</th></tr>\n",
       "<tr><td style=\"text-align: left;\">Individual 1-1 (FEMALE; P11Y)</td><td style=\"text-align: left;\">Intellectual developmental disorder, autosomal recessive 81 (OMIM:620700)</td><td style=\"text-align: left;\">NM_006828.4:c.4553G>A (homozygous)</td><td style=\"text-align: left;\">Fatigue (HP:0012378); Delayed gross motor development (HP:0002194); Delayed fine motor development (HP:0010862); Constipation (HP:0002019); Short stature (HP:0004322); Delayed skeletal maturation (HP:0002750); Macrodontia (HP:0001572); Long eyelashes (HP:0000527); Low posterior hairline (HP:0002162); Pointed chin (HP:0000307); Anteverted nares (HP:0000463); Thick eyebrow (HP:0000574); Thin upper lip vermilion (HP:0000219); Depressed nasal bridge (HP:0005280); Narrow palate (HP:0000189); excluded: Microcephaly (HP:0000252); excluded: Axial hypotonia (HP:0008936); excluded: Appendicular hypotonia (HP:0012389); excluded: Global developmental delay (HP:0001263); excluded: Developmental regression (HP:0002376); excluded: Attention deficit hyperactivity disorder (HP:0007018); excluded: Anxiety (HP:0000739); excluded: Seizure (HP:0001250); excluded: Autism (HP:0000717); excluded: Obsessive-compulsive trait (HP:0008770); excluded: Intrauterine growth retardation (HP:0001511); excluded: Delayed ability to walk (HP:0031936); excluded: Myopia (HP:0000545); excluded: Strabismus (HP:0000486); excluded: Dysphagia (HP:0002015); excluded: High forehead (HP:0000348); excluded: Short neck (HP:0000470); excluded: Ptosis (HP:0000508); excluded: Posteriorly rotated ears (HP:0000358); excluded: Mandibular prognathia (HP:0000303); excluded: Hypertelorism (HP:0000316); excluded: Osteopenia (HP:0000938); excluded: Kyphosis (HP:0002808); excluded: Short distal phalanx of finger (HP:0009882); excluded: Short toe (HP:0001831); excluded: Genu recurvatum (HP:0002816); excluded: Clinodactyly (HP:0030084); excluded: Short foot (HP:0001773); excluded: Slender finger (HP:0001238); excluded: Pes cavus (HP:0001761); excluded: Hyperlordosis (HP:0003307); excluded: Metaphyseal irregularity (HP:0003025); excluded: Delayed speech and language development (HP:0000750); excluded: Central sleep apnea (HP:0010536); excluded: Pes planus (HP:0001763); excluded: Proximal muscle weakness (HP:0003701); excluded: Spastic paraplegia (HP:0001258); excluded: Cleft palate (HP:0000175)</td></tr>\n",
       "<tr><td style=\"text-align: left;\">Individual 2-1 (FEMALE; n/a)</td><td style=\"text-align: left;\">Intellectual developmental disorder, autosomal recessive 81 (OMIM:620700)</td><td style=\"text-align: left;\"><ul> <li>NM_006828.4:c.5693A>G (heterozygous)</li> <li>NM_006828.4:c.801+1G>T (heterozygous)</li> </ul></td><td style=\"text-align: left;\">Intrauterine growth retardation (HP:0001511); excluded: Fatigue (HP:0012378); excluded: Obsessive-compulsive trait (HP:0008770); excluded: Long eyelashes (HP:0000527); excluded: High forehead (HP:0000348); excluded: Short neck (HP:0000470); excluded: Low posterior hairline (HP:0002162); excluded: Ptosis (HP:0000508); excluded: Pointed chin (HP:0000307); excluded: Anteverted nares (HP:0000463); excluded: Posteriorly rotated ears (HP:0000358); excluded: Mandibular prognathia (HP:0000303); excluded: Thick eyebrow (HP:0000574); excluded: Hypertelorism (HP:0000316); excluded: Thin upper lip vermilion (HP:0000219); excluded: Depressed nasal bridge (HP:0005280); excluded: Osteopenia (HP:0000938); excluded: Kyphosis (HP:0002808); excluded: Short distal phalanx of finger (HP:0009882); excluded: Short toe (HP:0001831); excluded: Genu recurvatum (HP:0002816); excluded: Clinodactyly (HP:0030084); excluded: Short foot (HP:0001773); excluded: Slender finger (HP:0001238); excluded: Pes cavus (HP:0001761); excluded: Hyperlordosis (HP:0003307); excluded: Metaphyseal irregularity (HP:0003025); excluded: Delayed speech and language development (HP:0000750); excluded: Central sleep apnea (HP:0010536); excluded: Pes planus (HP:0001763); excluded: Proximal muscle weakness (HP:0003701); excluded: Narrow palate (HP:0000189); excluded: Spastic paraplegia (HP:0001258); excluded: Cleft palate (HP:0000175)</td></tr>\n",
       "<tr><td style=\"text-align: left;\">Individual 3-1 (MALE; P9Y)</td><td style=\"text-align: left;\">Intellectual developmental disorder, autosomal recessive 81 (OMIM:620700)</td><td style=\"text-align: left;\"><ul> <li>NM_006828.4:c.4415G>A (heterozygous)</li> <li>NM_006828.4:c.3434del (heterozygous)</li> </ul></td><td style=\"text-align: left;\">Axial hypotonia (HP:0008936); Appendicular hypotonia (HP:0012389); Global developmental delay (HP:0001263); Developmental regression (HP:0002376); Attention deficit hyperactivity disorder (HP:0007018); Anxiety (HP:0000739); Seizure (HP:0001250); Autism (HP:0000717); Delayed fine motor development (HP:0010862); Delayed ability to walk (HP:0031936); Strabismus (HP:0000486); Proximal muscle weakness (HP:0003701); excluded: Microcephaly (HP:0000252); excluded: Fatigue (HP:0012378); excluded: Obsessive-compulsive trait (HP:0008770); excluded: Constipation (HP:0002019); excluded: Intrauterine growth retardation (HP:0001511); excluded: Myopia (HP:0000545); excluded: Short stature (HP:0004322); excluded: Delayed skeletal maturation (HP:0002750); excluded: Dysphagia (HP:0002015); excluded: Macrodontia (HP:0001572); excluded: Long eyelashes (HP:0000527); excluded: High forehead (HP:0000348); excluded: Short neck (HP:0000470); excluded: Low posterior hairline (HP:0002162); excluded: Ptosis (HP:0000508); excluded: Pointed chin (HP:0000307); excluded: Anteverted nares (HP:0000463); excluded: Posteriorly rotated ears (HP:0000358); excluded: Mandibular prognathia (HP:0000303); excluded: Thick eyebrow (HP:0000574); excluded: Hypertelorism (HP:0000316); excluded: Thin upper lip vermilion (HP:0000219); excluded: Depressed nasal bridge (HP:0005280); excluded: Osteopenia (HP:0000938); excluded: Kyphosis (HP:0002808); excluded: Short distal phalanx of finger (HP:0009882); excluded: Short toe (HP:0001831); excluded: Genu recurvatum (HP:0002816); excluded: Clinodactyly (HP:0030084); excluded: Short foot (HP:0001773); excluded: Slender finger (HP:0001238); excluded: Pes cavus (HP:0001761); excluded: Hyperlordosis (HP:0003307); excluded: Metaphyseal irregularity (HP:0003025); excluded: Delayed speech and language development (HP:0000750); excluded: Central sleep apnea (HP:0010536); excluded: Pes planus (HP:0001763); excluded: Narrow palate (HP:0000189); excluded: Spastic paraplegia (HP:0001258); excluded: Cleft palate (HP:0000175)</td></tr>\n",
       "<tr><td style=\"text-align: left;\">Individual 3-2 (MALE; P4Y)</td><td style=\"text-align: left;\">Intellectual developmental disorder, autosomal recessive 81 (OMIM:620700)</td><td style=\"text-align: left;\"><ul> <li>NM_006828.4:c.4415G>A (heterozygous)</li> <li>NM_006828.4:c.3434del (heterozygous)</li> </ul></td><td style=\"text-align: left;\">Axial hypotonia (HP:0008936); Appendicular hypotonia (HP:0012389); Attention deficit hyperactivity disorder (HP:0007018); Anxiety (HP:0000739); Seizure (HP:0001250); Autism (HP:0000717); Delayed fine motor development (HP:0010862); Constipation (HP:0002019); Delayed ability to walk (HP:0031936); Myopia (HP:0000545); Strabismus (HP:0000486); Macrodontia (HP:0001572); Short foot (HP:0001773); Pes cavus (HP:0001761); excluded: Microcephaly (HP:0000252); excluded: Developmental regression (HP:0002376); excluded: Fatigue (HP:0012378); excluded: Obsessive-compulsive trait (HP:0008770); excluded: Intrauterine growth retardation (HP:0001511); excluded: Short stature (HP:0004322); excluded: Delayed skeletal maturation (HP:0002750); excluded: Dysphagia (HP:0002015); excluded: Long eyelashes (HP:0000527); excluded: High forehead (HP:0000348); excluded: Short neck (HP:0000470); excluded: Low posterior hairline (HP:0002162); excluded: Ptosis (HP:0000508); excluded: Pointed chin (HP:0000307); excluded: Anteverted nares (HP:0000463); excluded: Posteriorly rotated ears (HP:0000358); excluded: Mandibular prognathia (HP:0000303); excluded: Thick eyebrow (HP:0000574); excluded: Hypertelorism (HP:0000316); excluded: Thin upper lip vermilion (HP:0000219); excluded: Depressed nasal bridge (HP:0005280); excluded: Osteopenia (HP:0000938); excluded: Kyphosis (HP:0002808); excluded: Short distal phalanx of finger (HP:0009882); excluded: Short toe (HP:0001831); excluded: Genu recurvatum (HP:0002816); excluded: Clinodactyly (HP:0030084); excluded: Slender finger (HP:0001238); excluded: Hyperlordosis (HP:0003307); excluded: Metaphyseal irregularity (HP:0003025); excluded: Delayed speech and language development (HP:0000750); excluded: Central sleep apnea (HP:0010536); excluded: Pes planus (HP:0001763); excluded: Proximal muscle weakness (HP:0003701); excluded: Narrow palate (HP:0000189); excluded: Spastic paraplegia (HP:0001258); excluded: Cleft palate (HP:0000175)</td></tr>\n",
       "<tr><td style=\"text-align: left;\">Individual 4-1 (FEMALE; P9Y)</td><td style=\"text-align: left;\">Intellectual developmental disorder, autosomal recessive 81 (OMIM:620700)</td><td style=\"text-align: left;\"><ul> <li>NM_006828.4:c.3631C>T (heterozygous)</li> <li>NM_006828.4:c.4280C>T (heterozygous)</li> </ul></td><td style=\"text-align: left;\">Axial hypotonia (HP:0008936); Global developmental delay (HP:0001263); Fatigue (HP:0012378); Delayed ability to walk (HP:0031936); Myopia (HP:0000545); Macrodontia (HP:0001572); High forehead (HP:0000348); Ptosis (HP:0000508); Posteriorly rotated ears (HP:0000358); Hypertelorism (HP:0000316); Thin upper lip vermilion (HP:0000219); Short distal phalanx of finger (HP:0009882); Short toe (HP:0001831); Clinodactyly (HP:0030084); Slender finger (HP:0001238); Hyperlordosis (HP:0003307); Delayed speech and language development (HP:0000750); Central sleep apnea (HP:0010536); Spastic paraplegia (HP:0001258); excluded: Microcephaly (HP:0000252); excluded: Appendicular hypotonia (HP:0012389); excluded: Developmental regression (HP:0002376); excluded: Attention deficit hyperactivity disorder (HP:0007018); excluded: Anxiety (HP:0000739); excluded: Seizure (HP:0001250); excluded: Autism (HP:0000717); excluded: Obsessive-compulsive trait (HP:0008770); excluded: Constipation (HP:0002019); excluded: Intrauterine growth retardation (HP:0001511); excluded: Strabismus (HP:0000486); excluded: Short stature (HP:0004322); excluded: Delayed skeletal maturation (HP:0002750); excluded: Dysphagia (HP:0002015); excluded: Long eyelashes (HP:0000527); excluded: Short neck (HP:0000470); excluded: Low posterior hairline (HP:0002162); excluded: Pointed chin (HP:0000307); excluded: Anteverted nares (HP:0000463); excluded: Mandibular prognathia (HP:0000303); excluded: Thick eyebrow (HP:0000574); excluded: Depressed nasal bridge (HP:0005280); excluded: Osteopenia (HP:0000938); excluded: Kyphosis (HP:0002808); excluded: Genu recurvatum (HP:0002816); excluded: Short foot (HP:0001773); excluded: Pes cavus (HP:0001761); excluded: Metaphyseal irregularity (HP:0003025); excluded: Pes planus (HP:0001763); excluded: Proximal muscle weakness (HP:0003701); excluded: Narrow palate (HP:0000189); excluded: Cleft palate (HP:0000175)</td></tr>\n",
       "<tr><td style=\"text-align: left;\">Inividual 5-1 (MALE; P4M)</td><td style=\"text-align: left;\">Intellectual developmental disorder, autosomal recessive 81 (OMIM:620700)</td><td style=\"text-align: left;\"><ul> <li>NM_006828.4:c.5281C>T (heterozygous)</li> <li>NM_006828.4:c.4955G>A (heterozygous)</li> </ul></td><td style=\"text-align: left;\">Axial hypotonia (HP:0008936); Appendicular hypotonia (HP:0012389); Global developmental delay (HP:0001263); Delayed gross motor development (HP:0002194); Delayed fine motor development (HP:0010862); Intrauterine growth retardation (HP:0001511); Dysphagia (HP:0002015); Short neck (HP:0000470); Osteopenia (HP:0000938); Genu recurvatum (HP:0002816); Metaphyseal irregularity (HP:0003025); Cleft palate (HP:0000175); excluded: Developmental regression (HP:0002376); excluded: Attention deficit hyperactivity disorder (HP:0007018); excluded: Anxiety (HP:0000739); excluded: Seizure (HP:0001250); excluded: Fatigue (HP:0012378); excluded: Autism (HP:0000717); excluded: Obsessive-compulsive trait (HP:0008770); excluded: Constipation (HP:0002019); excluded: Myopia (HP:0000545); excluded: Strabismus (HP:0000486); excluded: Short stature (HP:0004322); excluded: Delayed skeletal maturation (HP:0002750); excluded: Macrodontia (HP:0001572); excluded: Long eyelashes (HP:0000527); excluded: High forehead (HP:0000348); excluded: Low posterior hairline (HP:0002162); excluded: Ptosis (HP:0000508); excluded: Pointed chin (HP:0000307); excluded: Anteverted nares (HP:0000463); excluded: Posteriorly rotated ears (HP:0000358); excluded: Mandibular prognathia (HP:0000303); excluded: Thick eyebrow (HP:0000574); excluded: Hypertelorism (HP:0000316); excluded: Thin upper lip vermilion (HP:0000219); excluded: Depressed nasal bridge (HP:0005280); excluded: Kyphosis (HP:0002808); excluded: Short distal phalanx of finger (HP:0009882); excluded: Short toe (HP:0001831); excluded: Clinodactyly (HP:0030084); excluded: Short foot (HP:0001773); excluded: Slender finger (HP:0001238); excluded: Pes cavus (HP:0001761); excluded: Hyperlordosis (HP:0003307); excluded: Delayed speech and language development (HP:0000750); excluded: Central sleep apnea (HP:0010536); excluded: Pes planus (HP:0001763); excluded: Proximal muscle weakness (HP:0003701); excluded: Narrow palate (HP:0000189); excluded: Spastic paraplegia (HP:0001258)</td></tr>\n",
       "<tr><td style=\"text-align: left;\">Individual 6-1 (MALE; P2Y)</td><td style=\"text-align: left;\">Intellectual developmental disorder, autosomal recessive 81 (OMIM:620700)</td><td style=\"text-align: left;\"><ul> <li>NM_006828.4:c.4984A>T (heterozygous)</li> <li>NM_006828.4:c.3522dup (heterozygous)</li> </ul></td><td style=\"text-align: left;\">Axial hypotonia (HP:0008936); Delayed gross motor development (HP:0002194); Pes planus (HP:0001763); excluded: Fatigue (HP:0012378); excluded: Long eyelashes (HP:0000527); excluded: High forehead (HP:0000348); excluded: Short neck (HP:0000470); excluded: Low posterior hairline (HP:0002162); excluded: Ptosis (HP:0000508); excluded: Pointed chin (HP:0000307); excluded: Anteverted nares (HP:0000463); excluded: Posteriorly rotated ears (HP:0000358); excluded: Mandibular prognathia (HP:0000303); excluded: Thick eyebrow (HP:0000574); excluded: Hypertelorism (HP:0000316); excluded: Thin upper lip vermilion (HP:0000219); excluded: Depressed nasal bridge (HP:0005280); excluded: Osteopenia (HP:0000938); excluded: Kyphosis (HP:0002808); excluded: Short distal phalanx of finger (HP:0009882); excluded: Short toe (HP:0001831); excluded: Genu recurvatum (HP:0002816); excluded: Clinodactyly (HP:0030084); excluded: Short foot (HP:0001773); excluded: Slender finger (HP:0001238); excluded: Pes cavus (HP:0001761); excluded: Hyperlordosis (HP:0003307); excluded: Metaphyseal irregularity (HP:0003025); excluded: Delayed speech and language development (HP:0000750); excluded: Central sleep apnea (HP:0010536); excluded: Proximal muscle weakness (HP:0003701); excluded: Narrow palate (HP:0000189); excluded: Spastic paraplegia (HP:0001258); excluded: Cleft palate (HP:0000175)</td></tr>\n",
       "<tr><td style=\"text-align: left;\">Individual 7-1 (Najmabadi et al, 2011) (FEMALE; P41Y)</td><td style=\"text-align: left;\">Intellectual developmental disorder, autosomal recessive 81 (OMIM:620700)</td><td style=\"text-align: left;\">NM_006828.4:c.4690T>C (homozygous)</td><td style=\"text-align: left;\">Microcephaly (HP:0000252); Intellectual disability, mild (HP:0001256); Seizure (HP:0001250); Obsessive-compulsive trait (HP:0008770); Delayed ability to walk (HP:0031936); Myopia (HP:0000545); Mandibular prognathia (HP:0000303); Thick eyebrow (HP:0000574); excluded: Axial hypotonia (HP:0008936); excluded: Appendicular hypotonia (HP:0012389); excluded: Attention deficit hyperactivity disorder (HP:0007018); excluded: Anxiety (HP:0000739); excluded: Fatigue (HP:0012378); excluded: Delayed fine motor development (HP:0010862); excluded: Constipation (HP:0002019); excluded: Strabismus (HP:0000486); excluded: Short stature (HP:0004322); excluded: Delayed skeletal maturation (HP:0002750); excluded: Dysphagia (HP:0002015); excluded: Macrodontia (HP:0001572); excluded: Long eyelashes (HP:0000527); excluded: High forehead (HP:0000348); excluded: Short neck (HP:0000470); excluded: Low posterior hairline (HP:0002162); excluded: Ptosis (HP:0000508); excluded: Pointed chin (HP:0000307); excluded: Anteverted nares (HP:0000463); excluded: Posteriorly rotated ears (HP:0000358); excluded: Hypertelorism (HP:0000316); excluded: Thin upper lip vermilion (HP:0000219); excluded: Depressed nasal bridge (HP:0005280); excluded: Osteopenia (HP:0000938); excluded: Kyphosis (HP:0002808); excluded: Short distal phalanx of finger (HP:0009882); excluded: Short toe (HP:0001831); excluded: Genu recurvatum (HP:0002816); excluded: Clinodactyly (HP:0030084); excluded: Short foot (HP:0001773); excluded: Slender finger (HP:0001238); excluded: Pes cavus (HP:0001761); excluded: Hyperlordosis (HP:0003307); excluded: Metaphyseal irregularity (HP:0003025); excluded: Delayed speech and language development (HP:0000750); excluded: Central sleep apnea (HP:0010536); excluded: Pes planus (HP:0001763); excluded: Proximal muscle weakness (HP:0003701); excluded: Narrow palate (HP:0000189); excluded: Spastic paraplegia (HP:0001258); excluded: Cleft palate (HP:0000175)</td></tr>\n",
       "<tr><td style=\"text-align: left;\">Individual 7-2 (Najmabadi et al, 2011) (MALE; P38Y)</td><td style=\"text-align: left;\">Intellectual developmental disorder, autosomal recessive 81 (OMIM:620700)</td><td style=\"text-align: left;\">NM_006828.4:c.4690T>C (homozygous)</td><td style=\"text-align: left;\">Intellectual disability, mild (HP:0001256); Seizure (HP:0001250); Obsessive-compulsive trait (HP:0008770); Delayed ability to walk (HP:0031936); Myopia (HP:0000545); Mandibular prognathia (HP:0000303); Thick eyebrow (HP:0000574); excluded: Microcephaly (HP:0000252); excluded: Axial hypotonia (HP:0008936); excluded: Appendicular hypotonia (HP:0012389); excluded: Attention deficit hyperactivity disorder (HP:0007018); excluded: Anxiety (HP:0000739); excluded: Fatigue (HP:0012378); excluded: Delayed fine motor development (HP:0010862); excluded: Constipation (HP:0002019); excluded: Strabismus (HP:0000486); excluded: Short stature (HP:0004322); excluded: Delayed skeletal maturation (HP:0002750); excluded: Dysphagia (HP:0002015); excluded: Macrodontia (HP:0001572); excluded: Long eyelashes (HP:0000527); excluded: High forehead (HP:0000348); excluded: Short neck (HP:0000470); excluded: Low posterior hairline (HP:0002162); excluded: Ptosis (HP:0000508); excluded: Pointed chin (HP:0000307); excluded: Anteverted nares (HP:0000463); excluded: Posteriorly rotated ears (HP:0000358); excluded: Hypertelorism (HP:0000316); excluded: Thin upper lip vermilion (HP:0000219); excluded: Depressed nasal bridge (HP:0005280); excluded: Osteopenia (HP:0000938); excluded: Kyphosis (HP:0002808); excluded: Short distal phalanx of finger (HP:0009882); excluded: Short toe (HP:0001831); excluded: Genu recurvatum (HP:0002816); excluded: Clinodactyly (HP:0030084); excluded: Short foot (HP:0001773); excluded: Slender finger (HP:0001238); excluded: Pes cavus (HP:0001761); excluded: Hyperlordosis (HP:0003307); excluded: Metaphyseal irregularity (HP:0003025); excluded: Delayed speech and language development (HP:0000750); excluded: Central sleep apnea (HP:0010536); excluded: Pes planus (HP:0001763); excluded: Proximal muscle weakness (HP:0003701); excluded: Narrow palate (HP:0000189); excluded: Spastic paraplegia (HP:0001258); excluded: Cleft palate (HP:0000175)</td></tr>\n",
       "<tr><td style=\"text-align: left;\">Individual 7-3 (Najmabadi et al, 2011) (MALE; P37Y)</td><td style=\"text-align: left;\">Intellectual developmental disorder, autosomal recessive 81 (OMIM:620700)</td><td style=\"text-align: left;\">NM_006828.4:c.4690T>C (homozygous)</td><td style=\"text-align: left;\">Intellectual disability, mild (HP:0001256); Seizure (HP:0001250); Obsessive-compulsive trait (HP:0008770); Delayed ability to walk (HP:0031936); Myopia (HP:0000545); Mandibular prognathia (HP:0000303); Thick eyebrow (HP:0000574); Kyphosis (HP:0002808); excluded: Microcephaly (HP:0000252); excluded: Axial hypotonia (HP:0008936); excluded: Appendicular hypotonia (HP:0012389); excluded: Attention deficit hyperactivity disorder (HP:0007018); excluded: Anxiety (HP:0000739); excluded: Fatigue (HP:0012378); excluded: Delayed fine motor development (HP:0010862); excluded: Constipation (HP:0002019); excluded: Strabismus (HP:0000486); excluded: Short stature (HP:0004322); excluded: Delayed skeletal maturation (HP:0002750); excluded: Dysphagia (HP:0002015); excluded: Macrodontia (HP:0001572); excluded: Long eyelashes (HP:0000527); excluded: High forehead (HP:0000348); excluded: Short neck (HP:0000470); excluded: Low posterior hairline (HP:0002162); excluded: Ptosis (HP:0000508); excluded: Pointed chin (HP:0000307); excluded: Anteverted nares (HP:0000463); excluded: Posteriorly rotated ears (HP:0000358); excluded: Hypertelorism (HP:0000316); excluded: Thin upper lip vermilion (HP:0000219); excluded: Depressed nasal bridge (HP:0005280); excluded: Osteopenia (HP:0000938); excluded: Short distal phalanx of finger (HP:0009882); excluded: Short toe (HP:0001831); excluded: Genu recurvatum (HP:0002816); excluded: Clinodactyly (HP:0030084); excluded: Short foot (HP:0001773); excluded: Slender finger (HP:0001238); excluded: Pes cavus (HP:0001761); excluded: Hyperlordosis (HP:0003307); excluded: Metaphyseal irregularity (HP:0003025); excluded: Delayed speech and language development (HP:0000750); excluded: Central sleep apnea (HP:0010536); excluded: Pes planus (HP:0001763); excluded: Proximal muscle weakness (HP:0003701); excluded: Narrow palate (HP:0000189); excluded: Spastic paraplegia (HP:0001258); excluded: Cleft palate (HP:0000175)</td></tr>\n",
       "<tr><td style=\"text-align: left;\">Individual 7-4 (Najmabadi et al, 2011) (MALE; P33Y)</td><td style=\"text-align: left;\">Intellectual developmental disorder, autosomal recessive 81 (OMIM:620700)</td><td style=\"text-align: left;\">NM_006828.4:c.4690T>C (homozygous)</td><td style=\"text-align: left;\">Intellectual disability, mild (HP:0001256); Seizure (HP:0001250); Obsessive-compulsive trait (HP:0008770); Delayed ability to walk (HP:0031936); Myopia (HP:0000545); Mandibular prognathia (HP:0000303); Thick eyebrow (HP:0000574); excluded: Microcephaly (HP:0000252); excluded: Axial hypotonia (HP:0008936); excluded: Appendicular hypotonia (HP:0012389); excluded: Attention deficit hyperactivity disorder (HP:0007018); excluded: Anxiety (HP:0000739); excluded: Fatigue (HP:0012378); excluded: Delayed fine motor development (HP:0010862); excluded: Constipation (HP:0002019); excluded: Strabismus (HP:0000486); excluded: Short stature (HP:0004322); excluded: Delayed skeletal maturation (HP:0002750); excluded: Dysphagia (HP:0002015); excluded: Macrodontia (HP:0001572); excluded: Long eyelashes (HP:0000527); excluded: High forehead (HP:0000348); excluded: Short neck (HP:0000470); excluded: Low posterior hairline (HP:0002162); excluded: Ptosis (HP:0000508); excluded: Pointed chin (HP:0000307); excluded: Anteverted nares (HP:0000463); excluded: Posteriorly rotated ears (HP:0000358); excluded: Hypertelorism (HP:0000316); excluded: Thin upper lip vermilion (HP:0000219); excluded: Depressed nasal bridge (HP:0005280); excluded: Osteopenia (HP:0000938); excluded: Kyphosis (HP:0002808); excluded: Short distal phalanx of finger (HP:0009882); excluded: Short toe (HP:0001831); excluded: Genu recurvatum (HP:0002816); excluded: Clinodactyly (HP:0030084); excluded: Short foot (HP:0001773); excluded: Slender finger (HP:0001238); excluded: Pes cavus (HP:0001761); excluded: Hyperlordosis (HP:0003307); excluded: Metaphyseal irregularity (HP:0003025); excluded: Delayed speech and language development (HP:0000750); excluded: Central sleep apnea (HP:0010536); excluded: Pes planus (HP:0001763); excluded: Proximal muscle weakness (HP:0003701); excluded: Narrow palate (HP:0000189); excluded: Spastic paraplegia (HP:0001258); excluded: Cleft palate (HP:0000175)</td></tr>\n",
       "</table>"
      ],
      "text/plain": [
       "<IPython.core.display.HTML object>"
      ]
     },
     "metadata": {},
     "output_type": "display_data"
    }
   ],
   "source": [
    "table = IndividualTable(cvalidator.get_error_free_individual_list())\n",
    "display(HTML(table.to_html()))"
   ]
  },
  {
   "cell_type": "code",
   "execution_count": 28,
   "metadata": {},
   "outputs": [
    {
     "name": "stdout",
     "output_type": "stream",
     "text": [
      "[pyphetools] Ingested 11 GA4GH phenopackets.\n",
      "[INFO] Extracted 11 from 11 phenopackets with OMIM:620700\n",
      "\n",
      "\tIntellectual developmental disorder, autosomal recessive 81 (OMIM:620700): n=11\n",
      "We found a total of 54 unique HPO terms\n",
      "Extracted disease: Intellectual developmental disorder, autosomal recessive 81 (OMIM:620700)\n",
      "Wrote HPOA disease file to OMIM-620700.tab\n"
     ]
    }
   ],
   "source": [
    "pmid = \"PMID:35047834\"\n",
    "df = timporter.create_hpoa_from_phenopackets(pmid=pmid, moi=\"Autosomal recessive\", target=\"OMIM:620700\")"
   ]
  }
 ],
 "metadata": {
  "kernelspec": {
   "display_name": "ps24venv",
   "language": "python",
   "name": "python3"
  },
  "language_info": {
   "codemirror_mode": {
    "name": "ipython",
    "version": 3
   },
   "file_extension": ".py",
   "mimetype": "text/x-python",
   "name": "python",
   "nbconvert_exporter": "python",
   "pygments_lexer": "ipython3",
   "version": "3.9.6"
  }
 },
 "nbformat": 4,
 "nbformat_minor": 2
}
