{
 "cells": [
  {
   "cell_type": "markdown",
   "metadata": {},
   "source": [
    "# BCKDHB\n",
    "[maple syrup urine disease type IB (MSUD1B)](https://omim.org/entry/620698) is caused by homozygous or compound heterozygous mutation in the BCKDHB gene."
   ]
  },
  {
   "cell_type": "code",
   "execution_count": 3,
   "metadata": {},
   "outputs": [
    {
     "name": "stdout",
     "output_type": "stream",
     "text": [
      "Using pyphetools version 0.9.86\n"
     ]
    }
   ],
   "source": [
    "from pyphetools.creation import TemplateImporter\n",
    "from pyphetools.visualization import IndividualTable, QcVisualizer\n",
    "from IPython.display import display, HTML\n",
    "import pyphetools\n",
    "print(f\"Using pyphetools version {pyphetools.__version__}\")"
   ]
  },
  {
   "cell_type": "code",
   "execution_count": 7,
   "metadata": {},
   "outputs": [],
   "source": [
    "template = \"input/BCKDHB_MSUD1B_individuals.xlsx\"\n",
    "created_by = \"0000-0002-0736-9199\""
   ]
  },
  {
   "cell_type": "code",
   "execution_count": 9,
   "metadata": {},
   "outputs": [
    {
     "name": "stdout",
     "output_type": "stream",
     "text": [
      "HPO version 2024-04-26\n",
      "Created encoders for 29 fields\n",
      "Importing OMIM:620698, Maple syrup urine disease, type Ib, HGNC:987, BCKDHB,  NM_183050.4\n",
      "[INFO] encoding variant \"c.93_103del\"\n",
      "https://rest.variantvalidator.org/VariantValidator/variantvalidator/hg38/NM_183050.4%3Ac.93_103del/NM_183050.4?content-type=application%2Fjson\n",
      "[INFO] encoding variant \"c.356T>G\"\n",
      "https://rest.variantvalidator.org/VariantValidator/variantvalidator/hg38/NM_183050.4%3Ac.356T>G/NM_183050.4?content-type=application%2Fjson\n",
      "[INFO] encoding variant \"c.616C>T\"\n",
      "https://rest.variantvalidator.org/VariantValidator/variantvalidator/hg38/NM_183050.4%3Ac.616C>T/NM_183050.4?content-type=application%2Fjson\n",
      "We output 3 GA4GH phenopackets to the directory phenopackets\n"
     ]
    }
   ],
   "source": [
    "timporter = TemplateImporter(template=template,  created_by=created_by)\n",
    "individual_list, cvalidator = timporter.import_phenopackets_from_template()"
   ]
  },
  {
   "cell_type": "code",
   "execution_count": 10,
   "metadata": {},
   "outputs": [
    {
     "data": {
      "text/html": [
       "<h2>Cohort validation</h2>\n",
       "<p>Errors found with 1 of 3 phenopackets.</p>\n",
       "<table style=\"border: 2px solid black; align: \"left\">\n",
       "<caption>Error counts</caption>\n",
       "<tr><th style=\"text-align: left;font-weight: bold;\">Level</th><th style=\"text-align: left;font-weight: bold;\">Error category</th><th style=\"text-align: left;font-weight: bold;\">Count</th></tr>\n",
       "<tr><td style=\"text-align: left;\">WARNING</td><td style=\"text-align: left;\">REDUNDANT</td><td style=\"text-align: left;\">1</td></tr>\n",
       "</table>\n",
       "<p>A total of 1 issues were fixed and no individual was removed from the cohort.</p>"
      ],
      "text/plain": [
       "<IPython.core.display.HTML object>"
      ]
     },
     "metadata": {},
     "output_type": "display_data"
    }
   ],
   "source": [
    "qc = QcVisualizer(cohort_validator=cvalidator)\n",
    "display(HTML(qc.to_summary_html()))"
   ]
  },
  {
   "cell_type": "code",
   "execution_count": 11,
   "metadata": {},
   "outputs": [
    {
     "data": {
      "text/html": [
       "<table style=\"border: 2px solid black; align: \"left\">\n",
       "<caption>3 phenopackets - PMID:2022752 (n=1); PMID:14742428 (n=2)</caption>\n",
       "<tr><th style=\"text-align: left;font-weight: bold;\">Individual</th><th style=\"text-align: left;font-weight: bold;\">Disease</th><th style=\"text-align: left;font-weight: bold;\">Genotype</th><th style=\"text-align: left;font-weight: bold;\">Phenotypic features</th></tr>\n",
       "<tr><td style=\"text-align: left;\">nan (FEMALE; n/a)</td><td style=\"text-align: left;\">Maple syrup urine disease, type Ib (OMIM:620698)</td><td style=\"text-align: left;\">NM_183050.4:c.93_103del (homozygous)</td><td style=\"text-align: left;\"><b>P6D</b>: Feeding difficulties (HP:0011968)<br/><b>P10D</b>: Hyperleucinemia (HP:0010911)<br/><b>P26D</b>: Opisthotonus (HP:0002179)</td></tr>\n",
       "<tr><td style=\"text-align: left;\">WA (UNKNOWN; n/a)</td><td style=\"text-align: left;\">Maple syrup urine disease, type Ib (OMIM:620698)</td><td style=\"text-align: left;\">NM_183050.4:c.616C>T (homozygous)</td><td style=\"text-align: left;\">Feeding difficulties (HP:0011968); Lethargy (HP:0001254); Seizure (HP:0001250); Hyperleucinemia (HP:0010911); Hyperisoleucinemia (HP:0010913); Hypervalinemia (HP:0010910)</td></tr>\n",
       "<tr><td style=\"text-align: left;\">DM (UNKNOWN; n/a)</td><td style=\"text-align: left;\">Maple syrup urine disease, type Ib (OMIM:620698)</td><td style=\"text-align: left;\">NM_183050.4:c.356T>G (homozygous)</td><td style=\"text-align: left;\">Feeding difficulties (HP:0011968); Lethargy (HP:0001254); Seizure (HP:0001250); Hyperleucinemia (HP:0010911); Hyperisoleucinemia (HP:0010913); Hypervalinemia (HP:0010910)</td></tr>\n",
       "</table>"
      ],
      "text/plain": [
       "<IPython.core.display.HTML object>"
      ]
     },
     "metadata": {},
     "output_type": "display_data"
    }
   ],
   "source": [
    "table = IndividualTable(cvalidator.get_error_free_individual_list())\n",
    "display(HTML(table.to_html()))"
   ]
  },
  {
   "cell_type": "code",
   "execution_count": 12,
   "metadata": {},
   "outputs": [
    {
     "name": "stdout",
     "output_type": "stream",
     "text": [
      "[pyphetools] Ingested 3 GA4GH phenopackets.\n",
      "[INFO] Extracted 3 from 3 phenopackets with OMIM:620698\n",
      "\n",
      "\tMaple syrup urine disease, type Ib (OMIM:620698): n=3\n",
      "We found a total of 7 unique HPO terms\n",
      "Extracted disease: Maple syrup urine disease, type Ib (OMIM:620698)\n",
      "Wrote HPOA disease file to OMIM-620698.tab\n"
     ]
    }
   ],
   "source": [
    "pmid = \"PMID:2022752\"\n",
    "df = timporter.create_hpoa_from_phenopackets(pmid=pmid, moi=\"Autosomal recessive\", target=\"OMIM:620698\")"
   ]
  }
 ],
 "metadata": {
  "kernelspec": {
   "display_name": "ps24venv",
   "language": "python",
   "name": "python3"
  },
  "language_info": {
   "codemirror_mode": {
    "name": "ipython",
    "version": 3
   },
   "file_extension": ".py",
   "mimetype": "text/x-python",
   "name": "python",
   "nbconvert_exporter": "python",
   "pygments_lexer": "ipython3",
   "version": "3.9.6"
  }
 },
 "nbformat": 4,
 "nbformat_minor": 2
}
