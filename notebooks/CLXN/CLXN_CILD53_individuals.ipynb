{
 "cells": [
  {
   "cell_type": "markdown",
   "id": "0591ccef-ecff-4ef1-923e-3bfbee5d2990",
   "metadata": {},
   "source": [
    "# CLXN\n",
    "[Primary ciliary dyskinesia-53 (CILD53)](https://omim.org/entry/620642) is caused by homozygous mutation in the calaxin gene (CLXN)."
   ]
  },
  {
   "cell_type": "code",
   "execution_count": 5,
   "id": "a08ad38b-f535-4bcc-a2ad-9d1a0eca7a06",
   "metadata": {},
   "outputs": [
    {
     "name": "stdout",
     "output_type": "stream",
     "text": [
      "Using pyphetools version 0.9.72\n"
     ]
    }
   ],
   "source": [
    "from pyphetools.creation import TemplateImporter\n",
    "from pyphetools.visualization import IndividualTable, QcVisualizer\n",
    "from IPython.display import display, HTML\n",
    "import pyphetools\n",
    "print(f\"Using pyphetools version {pyphetools.__version__}\")"
   ]
  },
  {
   "cell_type": "code",
   "execution_count": 6,
   "id": "03ecba2a-e113-4730-a742-4a299808d763",
   "metadata": {},
   "outputs": [],
   "source": [
    "template = \"input/CLXN_CILD53_individuals.xlsx\"\n",
    "hp_json = \"../hp.json\"\n",
    "created_by = \"0000-0002-0736-9199\""
   ]
  },
  {
   "cell_type": "code",
   "execution_count": 8,
   "id": "cf501da2-9d85-4a8a-b77e-94788bd314da",
   "metadata": {},
   "outputs": [
    {
     "name": "stdout",
     "output_type": "stream",
     "text": [
      "HPO version 2024-03-06\n",
      "Created encoders for 36 fields\n",
      "Importing OMIM:620642, Ciliary dyskinesia, primary, 53, HGNC:25678, CLXN,  NM_024593.4\n",
      "[INFO] encoding variant \"c.117_129del\"\n",
      "https://rest.variantvalidator.org/VariantValidator/variantvalidator/hg38/NM_024593.4%3Ac.117_129del/NM_024593.4?content-type=application%2Fjson\n",
      "[INFO] encoding variant \"c.292C>T\"\n",
      "https://rest.variantvalidator.org/VariantValidator/variantvalidator/hg38/NM_024593.4%3Ac.292C>T/NM_024593.4?content-type=application%2Fjson\n",
      "[INFO] encoding variant \"c.367G>T\"\n",
      "https://rest.variantvalidator.org/VariantValidator/variantvalidator/hg38/NM_024593.4%3Ac.367G>T/NM_024593.4?content-type=application%2Fjson\n",
      "We output 3 GA4GH phenopackets to the directory phenopackets\n"
     ]
    }
   ],
   "source": [
    "timporter = TemplateImporter(template=template, hp_json=hp_json, created_by=created_by)\n",
    "individual_list, cvalidator = timporter.import_phenopackets_from_template()"
   ]
  },
  {
   "cell_type": "code",
   "execution_count": 9,
   "id": "16279988-9d91-4686-a1d5-ef52daf05702",
   "metadata": {},
   "outputs": [
    {
     "data": {
      "text/html": [
       "<h2>Cohort validation</h2>\n",
       "<p>Errors found with 3 of 3 phenopackets.</p>\n",
       "<table style=\"border: 2px solid black; align: \"left\">\n",
       "<caption>Error counts</caption>\n",
       "<tr><th style=\"text-align: left;font-weight: bold;\">Level</th><th style=\"text-align: left;font-weight: bold;\">Error category</th><th style=\"text-align: left;font-weight: bold;\">Count</th></tr>\n",
       "<tr><td style=\"text-align: left;\">WARNING</td><td style=\"text-align: left;\">REDUNDANT</td><td style=\"text-align: left;\">6</td></tr>\n",
       "</table>\n",
       "<p>A total of 6 issues were fixed and no individual was removed from the cohort.</p>"
      ],
      "text/plain": [
       "<IPython.core.display.HTML object>"
      ]
     },
     "metadata": {},
     "output_type": "display_data"
    }
   ],
   "source": [
    "qc = QcVisualizer(cohort_validator=cvalidator)\n",
    "display(HTML(qc.to_summary_html()))"
   ]
  },
  {
   "cell_type": "code",
   "execution_count": null,
   "id": "0162fe1c-7e26-4ed6-82c6-fbc7f3939a55",
   "metadata": {},
   "outputs": [],
   "source": []
  }
 ],
 "metadata": {
  "kernelspec": {
   "display_name": "Python 3 (ipykernel)",
   "language": "python",
   "name": "python3"
  },
  "language_info": {
   "codemirror_mode": {
    "name": "ipython",
    "version": 3
   },
   "file_extension": ".py",
   "mimetype": "text/x-python",
   "name": "python",
   "nbconvert_exporter": "python",
   "pygments_lexer": "ipython3",
   "version": "3.8.10"
  }
 },
 "nbformat": 4,
 "nbformat_minor": 5
}
