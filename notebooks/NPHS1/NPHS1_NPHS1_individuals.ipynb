{
 "cells": [
  {
   "cell_type": "markdown",
   "metadata": {},
   "source": [
    "# NPHS1\n",
    "[nephrotic syndrome type 1 (NPHS1)](https://omim.org/entry/256300) is caused by homozygous or compound heterozygous mutation in the gene encoding nephrin (NPHS1)."
   ]
  },
  {
   "cell_type": "code",
   "execution_count": 3,
   "metadata": {},
   "outputs": [
    {
     "name": "stdout",
     "output_type": "stream",
     "text": [
      "Using pyphetools version 0.9.92\n"
     ]
    }
   ],
   "source": [
    "from pyphetools.creation import TemplateImporter\n",
    "from pyphetools.visualization import IndividualTable, QcVisualizer\n",
    "from IPython.display import display, HTML\n",
    "import pyphetools\n",
    "print(f\"Using pyphetools version {pyphetools.__version__}\")"
   ]
  },
  {
   "cell_type": "code",
   "execution_count": 4,
   "metadata": {},
   "outputs": [],
   "source": [
    "template = \"input/NPHS1_NPHS1_individuals.xlsx\"\n",
    "created_by = \"0000-0002-0736-9199\""
   ]
  },
  {
   "cell_type": "code",
   "execution_count": 6,
   "metadata": {},
   "outputs": [
    {
     "name": "stdout",
     "output_type": "stream",
     "text": [
      "HPO version 2024-07-01\n",
      "Created encoders for 30 fields\n",
      "Importing OMIM:256300, Nephrotic syndrome, type 1, HGNC:7908, NPHS1,  NM_004646.4\n",
      "[INFO] encoding variant \"c.928G>A\"\n",
      "https://rest.variantvalidator.org/VariantValidator/variantvalidator/hg38/NM_004646.4%3Ac.928G>A/NM_004646.4?content-type=application%2Fjson\n",
      "[INFO] encoding variant \"c. 349G>A\"\n",
      "https://rest.variantvalidator.org/VariantValidator/variantvalidator/hg38/NM_004646.4%3Ac. 349G>A/NM_004646.4?content-type=application%2Fjson\n",
      "[INFO] encoding variant \"c. 970T>G\"\n",
      "https://rest.variantvalidator.org/VariantValidator/variantvalidator/hg38/NM_004646.4%3Ac. 970T>G/NM_004646.4?content-type=application%2Fjson\n",
      "[INFO] encoding variant \"c.3250_3251insG\"\n",
      "https://rest.variantvalidator.org/VariantValidator/variantvalidator/hg38/NM_004646.4%3Ac.3250_3251insG/NM_004646.4?content-type=application%2Fjson\n",
      "[INFO] encoding variant \"c. 2374A>T\"\n",
      "https://rest.variantvalidator.org/VariantValidator/variantvalidator/hg38/NM_004646.4%3Ac. 2374A>T/NM_004646.4?content-type=application%2Fjson\n",
      "[INFO] encoding variant \"c. 2405G>T\"\n",
      "https://rest.variantvalidator.org/VariantValidator/variantvalidator/hg38/NM_004646.4%3Ac. 2405G>T/NM_004646.4?content-type=application%2Fjson\n",
      "We output 3 GA4GH phenopackets to the directory phenopackets\n"
     ]
    }
   ],
   "source": [
    "timporter = TemplateImporter(template=template,  created_by=created_by)\n",
    "individual_list, cvalidator = timporter.import_phenopackets_from_template()"
   ]
  },
  {
   "cell_type": "code",
   "execution_count": 7,
   "metadata": {},
   "outputs": [
    {
     "data": {
      "text/html": [
       "<h2>Cohort validation</h2>\n",
       "<p>No errors found for the cohort with 3 individuals</p>"
      ],
      "text/plain": [
       "<IPython.core.display.HTML object>"
      ]
     },
     "metadata": {},
     "output_type": "display_data"
    }
   ],
   "source": [
    "qc = QcVisualizer(cohort_validator=cvalidator)\n",
    "display(HTML(qc.to_summary_html()))"
   ]
  },
  {
   "cell_type": "code",
   "execution_count": 8,
   "metadata": {},
   "outputs": [
    {
     "data": {
      "text/html": [
       "<table style=\"border: 2px solid black; align: \"left\">\n",
       "<caption>3 phenopackets - PMID:28392951 (n=3)</caption>\n",
       "<tr><th style=\"text-align: left;font-weight: bold;\">Individual</th><th style=\"text-align: left;font-weight: bold;\">Disease</th><th style=\"text-align: left;font-weight: bold;\">Genotype</th><th style=\"text-align: left;font-weight: bold;\">Phenotypic features</th></tr>\n",
       "<tr><td style=\"text-align: left;\">Patient 1 (MALE; P1M9D)</td><td style=\"text-align: left;\">Nephrotic syndrome, type 1 (OMIM:256300)</td><td style=\"text-align: left;\"><ul> <li>NM_004646.4:c.928G>A (heterozygous)</li> <li>NM_004646.4:c.3250dup (heterozygous)</li> </ul></td><td style=\"text-align: left;\"><b>P1M9D</b>: Proteinuria (HP:0000093); Anasarca (HP:0012050); Hypercholesterolemia (HP:0003124); Hypoproteinemia (HP:0003075); Hypoalbuminemia (HP:0003073); Nephrotic syndrome (HP:0000100)<br/>excluded: Stage 5 chronic kidney disease (HP:0003774)</td></tr>\n",
       "<tr><td style=\"text-align: left;\">Patient 2 (MALE; P2M)</td><td style=\"text-align: left;\">Nephrotic syndrome, type 1 (OMIM:256300)</td><td style=\"text-align: left;\"><ul> <li>NM_004646.4:c.349G>A (heterozygous)</li> <li>NM_004646.4:c.970T>G (heterozygous)</li> </ul></td><td style=\"text-align: left;\"><b>P2M</b>: Proteinuria (HP:0000093); Anasarca (HP:0012050); Hypercholesterolemia (HP:0003124); Hypoproteinemia (HP:0003075); Hypoalbuminemia (HP:0003073); Nephrotic syndrome (HP:0000100)<br/>excluded: Stage 5 chronic kidney disease (HP:0003774)</td></tr>\n",
       "<tr><td style=\"text-align: left;\">Patient 3 (MALE; P2M14D)</td><td style=\"text-align: left;\">Nephrotic syndrome, type 1 (OMIM:256300)</td><td style=\"text-align: left;\"><ul> <li>NM_004646.4:c.2374A>T (heterozygous)</li> <li>NM_004646.4:c.2405G>T (heterozygous)</li> </ul></td><td style=\"text-align: left;\"><b>P2M14D</b>: Proteinuria (HP:0000093); Stage 5 chronic kidney disease (HP:0003774); Hypercholesterolemia (HP:0003124); Hypoproteinemia (HP:0003075); Hypoalbuminemia (HP:0003073); Nephrotic syndrome (HP:0000100)</td></tr>\n",
       "</table>"
      ],
      "text/plain": [
       "<IPython.core.display.HTML object>"
      ]
     },
     "metadata": {},
     "output_type": "display_data"
    }
   ],
   "source": [
    "table = IndividualTable(cvalidator.get_error_free_individual_list())\n",
    "display(HTML(table.to_html()))"
   ]
  },
  {
   "cell_type": "code",
   "execution_count": 9,
   "metadata": {},
   "outputs": [
    {
     "name": "stdout",
     "output_type": "stream",
     "text": [
      "[pyphetools] Ingested 3 GA4GH phenopackets.\n",
      "[INFO] Extracted 3 from 3 phenopackets with OMIM:256300\n",
      "\n",
      "\tNephrotic syndrome, type 1 (OMIM:256300): n=3\n",
      "We found a total of 7 unique HPO terms\n",
      "Extracted disease: Nephrotic syndrome, type 1 (OMIM:256300)\n",
      "Wrote HPOA disease file to OMIM-256300.tab\n"
     ]
    }
   ],
   "source": [
    "pmid = \"PMID:28392951\"\n",
    "df = timporter.create_hpoa_from_phenopackets(pmid=pmid, moi=\"Autosomal recessive\", target=\"OMIM:256300\")"
   ]
  },
  {
   "cell_type": "code",
   "execution_count": null,
   "metadata": {},
   "outputs": [],
   "source": []
  }
 ],
 "metadata": {
  "kernelspec": {
   "display_name": "ps24venv",
   "language": "python",
   "name": "python3"
  },
  "language_info": {
   "codemirror_mode": {
    "name": "ipython",
    "version": 3
   },
   "file_extension": ".py",
   "mimetype": "text/x-python",
   "name": "python",
   "nbconvert_exporter": "python",
   "pygments_lexer": "ipython3",
   "version": "3.9.6"
  }
 },
 "nbformat": 4,
 "nbformat_minor": 2
}
