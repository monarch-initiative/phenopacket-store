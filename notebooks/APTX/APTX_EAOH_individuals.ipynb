{
 "cells": [
  {
   "cell_type": "markdown",
   "metadata": {},
   "source": [
    "# APTX\n",
    "[early-onset ataxia with oculomotor apraxia and hypoalbuminemia (EAOH)]() is caused by homozygous or compound heterozygous mutation in the gene encoding aprataxin (APTX)."
   ]
  },
  {
   "cell_type": "code",
   "execution_count": 3,
   "metadata": {},
   "outputs": [
    {
     "name": "stdout",
     "output_type": "stream",
     "text": [
      "Using pyphetools version 0.9.92\n"
     ]
    }
   ],
   "source": [
    "from pyphetools.creation import TemplateImporter\n",
    "from pyphetools.visualization import IndividualTable, QcVisualizer\n",
    "from IPython.display import display, HTML\n",
    "import pyphetools\n",
    "print(f\"Using pyphetools version {pyphetools.__version__}\")"
   ]
  },
  {
   "cell_type": "code",
   "execution_count": 4,
   "metadata": {},
   "outputs": [],
   "source": [
    "template = \"input/APTX_EAOH_individuals.xlsx\"\n",
    "created_by = \"0000-0002-0736-9199\""
   ]
  },
  {
   "cell_type": "code",
   "execution_count": 7,
   "metadata": {},
   "outputs": [
    {
     "name": "stdout",
     "output_type": "stream",
     "text": [
      "HPO version 2024-06-25\n",
      "Created encoders for 46 fields\n",
      "Importing OMIM:208920, Ataxia, early-onset, with oculomotor apraxia and hypoalbuminemia, HGNC:15984, APTX,  NM_001195248.2\n",
      "We output 5 GA4GH phenopackets to the directory phenopackets\n"
     ]
    }
   ],
   "source": [
    "timporter = TemplateImporter(template=template,  created_by=created_by)\n",
    "individual_list, cvalidator = timporter.import_phenopackets_from_template()"
   ]
  },
  {
   "cell_type": "code",
   "execution_count": 8,
   "metadata": {},
   "outputs": [
    {
     "data": {
      "text/html": [
       "<h2>Cohort validation</h2>\n",
       "<p>No errors found for the cohort with 5 individuals</p>"
      ],
      "text/plain": [
       "<IPython.core.display.HTML object>"
      ]
     },
     "metadata": {},
     "output_type": "display_data"
    }
   ],
   "source": [
    "qc = QcVisualizer(cohort_validator=cvalidator)\n",
    "display(HTML(qc.to_summary_html()))"
   ]
  },
  {
   "cell_type": "code",
   "execution_count": 9,
   "metadata": {},
   "outputs": [
    {
     "data": {
      "text/html": [
       "<table style=\"border: 2px solid black; align: \"left\">\n",
       "<caption>5 phenopackets - PMID:28652255 (n=5)</caption>\n",
       "<tr><th style=\"text-align: left;font-weight: bold;\">Individual</th><th style=\"text-align: left;font-weight: bold;\">Disease</th><th style=\"text-align: left;font-weight: bold;\">Genotype</th><th style=\"text-align: left;font-weight: bold;\">Phenotypic features</th></tr>\n",
       "<tr><td style=\"text-align: left;\">V-3 (MALE; P33Y)</td><td style=\"text-align: left;\">Ataxia, early-onset, with oculomotor apraxia and hypoalbuminemia (OMIM:208920)</td><td style=\"text-align: left;\">NM_001195248.2:c.697A>T (homozygous)</td><td style=\"text-align: left;\">Ataxia (HP:0001251); Hyporeflexia (HP:0001265); Supranuclear gaze palsy (HP:0000605); Dysarthria (HP:0001260); Athetosis (HP:0002305); excluded: Hypercholesterolemia (HP:0003124); excluded: Hypoalbuminemia (HP:0003073)</td></tr>\n",
       "<tr><td style=\"text-align: left;\">V-4 (FEMALE; P30Y)</td><td style=\"text-align: left;\">Ataxia, early-onset, with oculomotor apraxia and hypoalbuminemia (OMIM:208920)</td><td style=\"text-align: left;\">NM_001195248.2:c.697A>T (homozygous)</td><td style=\"text-align: left;\">Ataxia (HP:0001251); Hyporeflexia (HP:0001265); Supranuclear gaze palsy (HP:0000605); Dysarthria (HP:0001260); Athetosis (HP:0002305); Hypoalbuminemia (HP:0003073); excluded: Hypercholesterolemia (HP:0003124)</td></tr>\n",
       "<tr><td style=\"text-align: left;\">V-5 (FEMALE; P27Y)</td><td style=\"text-align: left;\">Ataxia, early-onset, with oculomotor apraxia and hypoalbuminemia (OMIM:208920)</td><td style=\"text-align: left;\">NM_001195248.2:c.697A>T (homozygous)</td><td style=\"text-align: left;\">Ataxia (HP:0001251); Hyporeflexia (HP:0001265); Supranuclear gaze palsy (HP:0000605); Dysarthria (HP:0001260); Athetosis (HP:0002305)</td></tr>\n",
       "<tr><td style=\"text-align: left;\">V-6 (FEMALE; P24Y)</td><td style=\"text-align: left;\">Ataxia, early-onset, with oculomotor apraxia and hypoalbuminemia (OMIM:208920)</td><td style=\"text-align: left;\">NM_001195248.2:c.697A>T (homozygous)</td><td style=\"text-align: left;\">Ataxia (HP:0001251); Hyporeflexia (HP:0001265); Supranuclear gaze palsy (HP:0000605); Dysarthria (HP:0001260); Athetosis (HP:0002305); excluded: Hypercholesterolemia (HP:0003124); excluded: Hypoalbuminemia (HP:0003073)</td></tr>\n",
       "<tr><td style=\"text-align: left;\">V-8 (MALE; P5Y)</td><td style=\"text-align: left;\">Ataxia, early-onset, with oculomotor apraxia and hypoalbuminemia (OMIM:208920)</td><td style=\"text-align: left;\">NM_001195248.2:c.697A>T (homozygous)</td><td style=\"text-align: left;\">Ataxia (HP:0001251); Hyporeflexia (HP:0001265); Supranuclear gaze palsy (HP:0000605); Dysarthria (HP:0001260); Athetosis (HP:0002305)</td></tr>\n",
       "</table>"
      ],
      "text/plain": [
       "<IPython.core.display.HTML object>"
      ]
     },
     "metadata": {},
     "output_type": "display_data"
    }
   ],
   "source": [
    "table = IndividualTable(cvalidator.get_error_free_individual_list())\n",
    "display(HTML(table.to_html()))"
   ]
  }
 ],
 "metadata": {
  "kernelspec": {
   "display_name": "ps24venv",
   "language": "python",
   "name": "python3"
  },
  "language_info": {
   "codemirror_mode": {
    "name": "ipython",
    "version": 3
   },
   "file_extension": ".py",
   "mimetype": "text/x-python",
   "name": "python",
   "nbconvert_exporter": "python",
   "pygments_lexer": "ipython3",
   "version": "3.9.6"
  }
 },
 "nbformat": 4,
 "nbformat_minor": 2
}
