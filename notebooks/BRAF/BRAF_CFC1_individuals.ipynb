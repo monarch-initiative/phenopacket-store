{
 "cells": [
  {
   "cell_type": "markdown",
   "metadata": {},
   "source": [
    "# BRAF\n",
    "[cardiofaciocutaneous syndrome-1 (CFC1)](https://omim.org/entry/115150) is caused by heterozygous mutation in the BRAF gene."
   ]
  },
  {
   "cell_type": "code",
   "execution_count": 3,
   "metadata": {},
   "outputs": [
    {
     "name": "stdout",
     "output_type": "stream",
     "text": [
      "Using pyphetools version 0.9.91\n"
     ]
    }
   ],
   "source": [
    "from pyphetools.creation import TemplateImporter\n",
    "from pyphetools.visualization import IndividualTable, QcVisualizer\n",
    "from IPython.display import display, HTML\n",
    "import pyphetools\n",
    "print(f\"Using pyphetools version {pyphetools.__version__}\")"
   ]
  },
  {
   "cell_type": "code",
   "execution_count": 4,
   "metadata": {},
   "outputs": [],
   "source": [
    "template = \"input/BRAF_CFC1_individuals.xlsx\"\n",
    "created_by = \"0000-0002-0736-9199\""
   ]
  },
  {
   "cell_type": "code",
   "execution_count": 6,
   "metadata": {},
   "outputs": [
    {
     "name": "stdout",
     "output_type": "stream",
     "text": [
      "HPO version 2024-04-26\n",
      "Created encoders for 64 fields\n",
      "Importing OMIM:115150, Cardiofaciocutaneous syndrome, HGNC:1097, BRAF,  NM_004333.6\n",
      "[INFO] encoding variant \"c.1442C>A\"\n",
      "https://rest.variantvalidator.org/VariantValidator/variantvalidator/hg38/NM_004333.6%3Ac.1442C>A/NM_004333.6?content-type=application%2Fjson\n",
      "We output 1 GA4GH phenopackets to the directory phenopackets\n"
     ]
    }
   ],
   "source": [
    "timporter = TemplateImporter(template=template,  created_by=created_by)\n",
    "individual_list, cvalidator = timporter.import_phenopackets_from_template()"
   ]
  },
  {
   "cell_type": "code",
   "execution_count": 7,
   "metadata": {},
   "outputs": [
    {
     "data": {
      "text/html": [
       "<h2>Cohort validation</h2>\n",
       "<p>No errors found for the cohort with 1 individuals</p>"
      ],
      "text/plain": [
       "<IPython.core.display.HTML object>"
      ]
     },
     "metadata": {},
     "output_type": "display_data"
    }
   ],
   "source": [
    "qc = QcVisualizer(cohort_validator=cvalidator)\n",
    "display(HTML(qc.to_summary_html()))"
   ]
  },
  {
   "cell_type": "code",
   "execution_count": 8,
   "metadata": {},
   "outputs": [
    {
     "data": {
      "text/html": [
       "<table style=\"border: 2px solid black; align: \"left\">\n",
       "<caption>1 phenopacket - PMID:24800029 (n=1)</caption>\n",
       "<tr><th style=\"text-align: left;font-weight: bold;\">Individual</th><th style=\"text-align: left;font-weight: bold;\">Disease</th><th style=\"text-align: left;font-weight: bold;\">Genotype</th><th style=\"text-align: left;font-weight: bold;\">Phenotypic features</th></tr>\n",
       "<tr><td style=\"text-align: left;\">boy (MALE; P10Y)</td><td style=\"text-align: left;\">Cardiofaciocutaneous syndrome (OMIM:115150)</td><td style=\"text-align: left;\">NM_004333.6:c.1442C>A (heterozygous)</td><td style=\"text-align: left;\">Low-set ears (HP:0000369); Hypertrophic cardiomyopathy (HP:0001639); Severe global developmental delay (HP:0011344); Cerebral cortical atrophy (HP:0002120); Intellectual disability, severe (HP:0010864); Ptosis (HP:0000508); Coarse facial features (HP:0000280); Pectus excavatum (HP:0000767); Clinodactyly of the 5th finger (HP:0004209); Bulbous nose (HP:0000414); Deep philtrum (HP:0002002); High palate (HP:0000218); Thick lower lip vermilion (HP:0000179); Epicanthus (HP:0000286); Downslanted palpebral fissures (HP:0000494); Sparse eyebrow (HP:0045075); Curly hair (HP:0002212); Few cafe-au-lait spots (HP:0007429); Short stature (HP:0004322)</td></tr>\n",
       "</table>"
      ],
      "text/plain": [
       "<IPython.core.display.HTML object>"
      ]
     },
     "metadata": {},
     "output_type": "display_data"
    }
   ],
   "source": [
    "table = IndividualTable(cvalidator.get_error_free_individual_list())\n",
    "display(HTML(table.to_html()))"
   ]
  }
 ],
 "metadata": {
  "kernelspec": {
   "display_name": "ps24venv",
   "language": "python",
   "name": "python3"
  },
  "language_info": {
   "codemirror_mode": {
    "name": "ipython",
    "version": 3
   },
   "file_extension": ".py",
   "mimetype": "text/x-python",
   "name": "python",
   "nbconvert_exporter": "python",
   "pygments_lexer": "ipython3",
   "version": "3.9.6"
  }
 },
 "nbformat": 4,
 "nbformat_minor": 2
}
