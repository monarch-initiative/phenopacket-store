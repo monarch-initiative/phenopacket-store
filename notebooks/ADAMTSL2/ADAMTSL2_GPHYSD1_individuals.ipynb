{
 "cells": [
  {
   "cell_type": "markdown",
   "metadata": {},
   "source": [
    "# ADAMTSL2\n",
    "[geleophysic dysplasia-1 (GPHYSD1)](https://omim.org/entry/231050) is caused by homozygous or compound heterozygous mutation in the ADAMTSL2 gene."
   ]
  },
  {
   "cell_type": "code",
   "execution_count": 3,
   "metadata": {},
   "outputs": [
    {
     "name": "stdout",
     "output_type": "stream",
     "text": [
      "Using pyphetools version 0.9.92\n"
     ]
    }
   ],
   "source": [
    "from pyphetools.creation import TemplateImporter\n",
    "from pyphetools.visualization import IndividualTable, QcVisualizer\n",
    "from IPython.display import display, HTML\n",
    "import pyphetools\n",
    "print(f\"Using pyphetools version {pyphetools.__version__}\")"
   ]
  },
  {
   "cell_type": "code",
   "execution_count": 4,
   "metadata": {},
   "outputs": [],
   "source": [
    "template = \"input/ADAMTSL2_GPHYSD1_individuals.xlsx\"\n",
    "created_by = \"0000-0002-0736-9199\""
   ]
  },
  {
   "cell_type": "code",
   "execution_count": 6,
   "metadata": {},
   "outputs": [
    {
     "name": "stdout",
     "output_type": "stream",
     "text": [
      "HPO version 2024-06-25\n",
      "Created encoders for 60 fields\n",
      "Importing OMIM:231050, Geleophysic dysplasia 1, HGNC:14631, ADAMTSL2,  NM_014694.4\n",
      "[INFO] encoding variant \"c.2533G>T\"\n",
      "https://rest.variantvalidator.org/VariantValidator/variantvalidator/hg38/NM_014694.4%3Ac.2533G>T/NM_014694.4?content-type=application%2Fjson\n",
      "[INFO] encoding variant \"c.799G>A\"\n",
      "https://rest.variantvalidator.org/VariantValidator/variantvalidator/hg38/NM_014694.4%3Ac.799G>A/NM_014694.4?content-type=application%2Fjson\n",
      "We output 1 GA4GH phenopackets to the directory phenopackets\n"
     ]
    }
   ],
   "source": [
    "timporter = TemplateImporter(template=template,  created_by=created_by)\n",
    "individual_list, cvalidator = timporter.import_phenopackets_from_template()"
   ]
  },
  {
   "cell_type": "code",
   "execution_count": 7,
   "metadata": {},
   "outputs": [
    {
     "data": {
      "text/html": [
       "<h2>Cohort validation</h2>\n",
       "<p>No errors found for the cohort with 1 individuals</p>"
      ],
      "text/plain": [
       "<IPython.core.display.HTML object>"
      ]
     },
     "metadata": {},
     "output_type": "display_data"
    }
   ],
   "source": [
    "qc = QcVisualizer(cohort_validator=cvalidator)\n",
    "display(HTML(qc.to_summary_html()))"
   ]
  },
  {
   "cell_type": "code",
   "execution_count": 8,
   "metadata": {},
   "outputs": [
    {
     "data": {
      "text/html": [
       "<table style=\"border: 2px solid black; align: \"left\">\n",
       "<caption>1 phenopacket - PMID:27057656 (n=1)</caption>\n",
       "<tr><th style=\"text-align: left;font-weight: bold;\">Individual</th><th style=\"text-align: left;font-weight: bold;\">Disease</th><th style=\"text-align: left;font-weight: bold;\">Genotype</th><th style=\"text-align: left;font-weight: bold;\">Phenotypic features</th></tr>\n",
       "<tr><td style=\"text-align: left;\">patient (MALE; P1Y3M)</td><td style=\"text-align: left;\">Geleophysic dysplasia 1 (OMIM:231050)</td><td style=\"text-align: left;\"><ul> <li>NM_014694.4:c.2533G>T (heterozygous)</li> <li>NM_014694.4:c.799G>A (heterozygous)</li> </ul></td><td style=\"text-align: left;\"><b>P1Y3M</b>: Limited knee extension (HP:0003066); Limited elbow extension (HP:0001377); Global developmental delay (HP:0001263); Short stature (HP:0004322); Bilateral ptosis (HP:0001488); Thin vermilion border (HP:0000233); Long philtrum (HP:0000343); Short femur (HP:0003097); Hypoplasia of the ulna (HP:0003022); Short humerus (HP:0005792); Delayed skeletal maturation (HP:0002750); Short phalanx of finger (HP:0009803); Short metacarpal (HP:0010049); Brachydactyly (HP:0001156)<br/>Polyhydramnios (HP:0001561); Recurrent respiratory infections (HP:0002205); excluded: Abnormality of skull size (HP:0000240)</td></tr>\n",
       "</table>"
      ],
      "text/plain": [
       "<IPython.core.display.HTML object>"
      ]
     },
     "metadata": {},
     "output_type": "display_data"
    }
   ],
   "source": [
    "table = IndividualTable(cvalidator.get_error_free_individual_list())\n",
    "display(HTML(table.to_html()))"
   ]
  }
 ],
 "metadata": {
  "kernelspec": {
   "display_name": "ps24venv",
   "language": "python",
   "name": "python3"
  },
  "language_info": {
   "codemirror_mode": {
    "name": "ipython",
    "version": 3
   },
   "file_extension": ".py",
   "mimetype": "text/x-python",
   "name": "python",
   "nbconvert_exporter": "python",
   "pygments_lexer": "ipython3",
   "version": "3.9.6"
  }
 },
 "nbformat": 4,
 "nbformat_minor": 2
}
