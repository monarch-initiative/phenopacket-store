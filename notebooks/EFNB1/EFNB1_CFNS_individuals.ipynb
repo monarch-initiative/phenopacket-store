{
 "cells": [
  {
   "cell_type": "markdown",
   "metadata": {},
   "source": [
    "# EFNB1\n",
    "[craniofrontonasal syndrome (CFNS)](https://omim.org/entry/304110) is caused by mutation in the EFNB1 gene."
   ]
  },
  {
   "cell_type": "code",
   "execution_count": 4,
   "metadata": {},
   "outputs": [
    {
     "name": "stdout",
     "output_type": "stream",
     "text": [
      "Using pyphetools version 0.9.91\n"
     ]
    }
   ],
   "source": [
    "from pyphetools.creation import TemplateImporter\n",
    "from pyphetools.visualization import IndividualTable, QcVisualizer\n",
    "from IPython.display import display, HTML\n",
    "import pyphetools\n",
    "print(f\"Using pyphetools version {pyphetools.__version__}\")"
   ]
  },
  {
   "cell_type": "code",
   "execution_count": 5,
   "metadata": {},
   "outputs": [],
   "source": [
    "template = \"input/EFNB1_CFNS_individuals.xlsx\"\n",
    "created_by = \"0000-0002-0736-9199\""
   ]
  },
  {
   "cell_type": "code",
   "execution_count": 7,
   "metadata": {},
   "outputs": [
    {
     "name": "stdout",
     "output_type": "stream",
     "text": [
      "HPO version 2024-04-26\n",
      "Created encoders for 69 fields\n",
      "Importing OMIM:304110, Craniofrontonasal dysplasia, HGNC:3226, EFNB1,  NM_004429.5\n",
      "We output 6 GA4GH phenopackets to the directory phenopackets\n"
     ]
    }
   ],
   "source": [
    "del_set = {\"deletion of all 5 exons\", \"del exons 3–5\"}\n",
    "timporter = TemplateImporter(template=template,  created_by=created_by)\n",
    "individual_list, cvalidator = timporter.import_phenopackets_from_template(deletions=del_set)"
   ]
  },
  {
   "cell_type": "code",
   "execution_count": 8,
   "metadata": {},
   "outputs": [
    {
     "data": {
      "text/html": [
       "<h2>Cohort validation</h2>\n",
       "<p>No errors found for the cohort with 6 individuals</p>"
      ],
      "text/plain": [
       "<IPython.core.display.HTML object>"
      ]
     },
     "metadata": {},
     "output_type": "display_data"
    }
   ],
   "source": [
    "qc = QcVisualizer(cohort_validator=cvalidator)\n",
    "display(HTML(qc.to_summary_html()))"
   ]
  },
  {
   "cell_type": "code",
   "execution_count": 9,
   "metadata": {},
   "outputs": [
    {
     "data": {
      "text/html": [
       "<table style=\"border: 2px solid black; align: \"left\">\n",
       "<caption>6 phenopackets - PMID:23335590 (n=6)</caption>\n",
       "<tr><th style=\"text-align: left;font-weight: bold;\">Individual</th><th style=\"text-align: left;font-weight: bold;\">Disease</th><th style=\"text-align: left;font-weight: bold;\">Genotype</th><th style=\"text-align: left;font-weight: bold;\">Phenotypic features</th></tr>\n",
       "<tr><td style=\"text-align: left;\">Subject 3269 (MALE; n/a)</td><td style=\"text-align: left;\">Craniofrontonasal dysplasia (OMIM:304110)</td><td style=\"text-align: left;\">NM_004429.5:c.496C>T (heterozygous)</td><td style=\"text-align: left;\">Hypertelorism (HP:0000316); Ptosis (HP:0000508); Coronal craniosynostosis (HP:0004440); Downslanted palpebral fissures (HP:0000494); Low-set ears (HP:0000369); Axillary pterygium (HP:0001060); Sprengel anomaly (HP:0000912); Cryptorchidism (HP:0000028); Brachydactyly (HP:0001156); Syndactyly (HP:0001159); Clinodactyly of the 5th finger (HP:0004209); Ridged nail (HP:0001807); Agenesis of corpus callosum (HP:0001274); Global developmental delay (HP:0001263); excluded: Cleft palate (HP:0000175); excluded: Cleft lip (HP:0410030); excluded: High palate (HP:0000218); excluded: Pectus excavatum (HP:0000767); excluded: Webbed neck (HP:0000465); excluded: Inguinal hernia (HP:0000023); excluded: Umbilical hernia (HP:0001537); excluded: Scoliosis (HP:0002650)</td></tr>\n",
       "<tr><td style=\"text-align: left;\">Subject 1330 (MALE; n/a)</td><td style=\"text-align: left;\">Craniofrontonasal dysplasia (OMIM:304110)</td><td style=\"text-align: left;\">NM_004429.5:c.-95T>C (heterozygous)</td><td style=\"text-align: left;\">Hypertelorism (HP:0000316); Coronal craniosynostosis (HP:0004440); Cleft palate (HP:0000175); Cleft lip (HP:0410030); Pectus excavatum (HP:0000767); Umbilical hernia (HP:0001537); Syndactyly (HP:0001159); Ridged nail (HP:0001807); Global developmental delay (HP:0001263); excluded: Ptosis (HP:0000508); excluded: Downslanted palpebral fissures (HP:0000494); excluded: Low-set ears (HP:0000369); excluded: High palate (HP:0000218); excluded: Webbed neck (HP:0000465); excluded: Inguinal hernia (HP:0000023); excluded: Axillary pterygium (HP:0001060); excluded: Sprengel anomaly (HP:0000912); excluded: Scoliosis (HP:0002650); excluded: Cryptorchidism (HP:0000028); excluded: Brachydactyly (HP:0001156); excluded: Clinodactyly of the 5th finger (HP:0004209); excluded: Agenesis of corpus callosum (HP:0001274)</td></tr>\n",
       "<tr><td style=\"text-align: left;\">Subject 4021 (MALE; n/a)</td><td style=\"text-align: left;\">Craniofrontonasal dysplasia (OMIM:304110)</td><td style=\"text-align: left;\">del exons 3–5: chromosomal_deletion (SO:1000029)</td><td style=\"text-align: left;\">Hypertelorism (HP:0000316); Ptosis (HP:0000508); Coronal craniosynostosis (HP:0004440); Downslanted palpebral fissures (HP:0000494); Low-set ears (HP:0000369); High palate (HP:0000218); Inguinal hernia (HP:0000023); Sprengel anomaly (HP:0000912); Cryptorchidism (HP:0000028); Brachydactyly (HP:0001156); Syndactyly (HP:0001159); Ridged nail (HP:0001807); Agenesis of corpus callosum (HP:0001274); Global developmental delay (HP:0001263); excluded: Cleft palate (HP:0000175); excluded: Cleft lip (HP:0410030); excluded: Pectus excavatum (HP:0000767); excluded: Webbed neck (HP:0000465); excluded: Umbilical hernia (HP:0001537); excluded: Axillary pterygium (HP:0001060); excluded: Scoliosis (HP:0002650); excluded: Clinodactyly of the 5th finger (HP:0004209)</td></tr>\n",
       "<tr><td style=\"text-align: left;\">Subject 4271 (MALE; n/a)</td><td style=\"text-align: left;\">Craniofrontonasal dysplasia (OMIM:304110)</td><td style=\"text-align: left;\">NM_004429.5:c.196C>T (heterozygous)</td><td style=\"text-align: left;\">Hypertelorism (HP:0000316); Ptosis (HP:0000508); Coronal craniosynostosis (HP:0004440); Downslanted palpebral fissures (HP:0000494); High palate (HP:0000218); Pectus excavatum (HP:0000767); Scoliosis (HP:0002650); Cryptorchidism (HP:0000028); Brachydactyly (HP:0001156); Ridged nail (HP:0001807); Agenesis of corpus callosum (HP:0001274); Global developmental delay (HP:0001263); excluded: Cleft palate (HP:0000175); excluded: Low-set ears (HP:0000369); excluded: Cleft lip (HP:0410030); excluded: Webbed neck (HP:0000465); excluded: Inguinal hernia (HP:0000023); excluded: Umbilical hernia (HP:0001537); excluded: Axillary pterygium (HP:0001060); excluded: Sprengel anomaly (HP:0000912); excluded: Syndactyly (HP:0001159); excluded: Clinodactyly of the 5th finger (HP:0004209)</td></tr>\n",
       "<tr><td style=\"text-align: left;\">Subject 4354 (MALE; n/a)</td><td style=\"text-align: left;\">Craniofrontonasal dysplasia (OMIM:304110)</td><td style=\"text-align: left;\">NM_004429.5:c.404C>A (heterozygous)</td><td style=\"text-align: left;\">Hypertelorism (HP:0000316); Coronal craniosynostosis (HP:0004440); Downslanted palpebral fissures (HP:0000494); Webbed neck (HP:0000465); Clinodactyly of the 5th finger (HP:0004209); Ridged nail (HP:0001807); Global developmental delay (HP:0001263); excluded: Ptosis (HP:0000508); excluded: Cleft palate (HP:0000175); excluded: Low-set ears (HP:0000369); excluded: Cleft lip (HP:0410030); excluded: High palate (HP:0000218); excluded: Pectus excavatum (HP:0000767); excluded: Inguinal hernia (HP:0000023); excluded: Umbilical hernia (HP:0001537); excluded: Axillary pterygium (HP:0001060); excluded: Scoliosis (HP:0002650); excluded: Brachydactyly (HP:0001156); excluded: Syndactyly (HP:0001159)</td></tr>\n",
       "<tr><td style=\"text-align: left;\">Subject 3301 (MALE; n/a)</td><td style=\"text-align: left;\">Craniofrontonasal dysplasia (OMIM:304110)</td><td style=\"text-align: left;\">deletion of all 5 exons: chromosomal_deletion (SO:1000029)</td><td style=\"text-align: left;\">Hypertelorism (HP:0000316); Coronal craniosynostosis (HP:0004440); Downslanted palpebral fissures (HP:0000494); Low-set ears (HP:0000369); Clinodactyly of the 5th finger (HP:0004209); excluded: Ptosis (HP:0000508); excluded: Cleft palate (HP:0000175); excluded: Cleft lip (HP:0410030); excluded: High palate (HP:0000218); excluded: Pectus excavatum (HP:0000767); excluded: Webbed neck (HP:0000465); excluded: Inguinal hernia (HP:0000023); excluded: Umbilical hernia (HP:0001537); excluded: Axillary pterygium (HP:0001060); excluded: Sprengel anomaly (HP:0000912); excluded: Scoliosis (HP:0002650); excluded: Brachydactyly (HP:0001156); excluded: Syndactyly (HP:0001159); excluded: Global developmental delay (HP:0001263)</td></tr>\n",
       "</table>"
      ],
      "text/plain": [
       "<IPython.core.display.HTML object>"
      ]
     },
     "metadata": {},
     "output_type": "display_data"
    }
   ],
   "source": [
    "table = IndividualTable(cvalidator.get_error_free_individual_list())\n",
    "display(HTML(table.to_html()))"
   ]
  }
 ],
 "metadata": {
  "kernelspec": {
   "display_name": "ps24venv",
   "language": "python",
   "name": "python3"
  },
  "language_info": {
   "codemirror_mode": {
    "name": "ipython",
    "version": 3
   },
   "file_extension": ".py",
   "mimetype": "text/x-python",
   "name": "python",
   "nbconvert_exporter": "python",
   "pygments_lexer": "ipython3",
   "version": "3.9.6"
  }
 },
 "nbformat": 4,
 "nbformat_minor": 2
}
