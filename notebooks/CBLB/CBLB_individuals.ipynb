{
 "cells": [
  {
   "cell_type": "markdown",
   "id": "f9621429-56da-4c3c-ac8e-6d34f5b55511",
   "metadata": {},
   "source": [
    "# CBLB cohort\n",
    "Data from \n",
    "[Janssen E, et al. (2022) Immune dysregulation caused by homozygous mutations in CBLB. J Clin Invest 132(20):e154487](https://pubmed.ncbi.nlm.nih.gov/36006710/)."
   ]
  },
  {
   "cell_type": "code",
   "execution_count": 1,
   "id": "cc92c05c-8d4d-460e-8203-c6581e5bf73d",
   "metadata": {},
   "outputs": [
    {
     "name": "stdout",
     "output_type": "stream",
     "text": [
      "Using pyphetools version 0.9.63\n"
     ]
    }
   ],
   "source": [
    "from pyphetools.creation import TemplateImporter\n",
    "import pyphetools\n",
    "print(f\"Using pyphetools version {pyphetools.__version__}\")"
   ]
  },
  {
   "cell_type": "code",
   "execution_count": 2,
   "id": "5f39412a-b633-48f7-bb2e-55be7ff4a7e5",
   "metadata": {},
   "outputs": [],
   "source": [
    "hpo_json_file=\"../hp.json\"\n",
    "created_by=\"ORCID:0000-0002-0736-9199\"\n",
    "template = \"input/CBLB_individuals.xlsx\""
   ]
  },
  {
   "cell_type": "code",
   "execution_count": 3,
   "id": "99ea7aec-6042-4fc9-93de-e574308ed322",
   "metadata": {},
   "outputs": [],
   "source": [
    "timporter = TemplateImporter(template=template, hp_json=hpo_json_file, created_by=created_by)"
   ]
  },
  {
   "cell_type": "code",
   "execution_count": 4,
   "id": "09eeb8e8-3248-4a47-b2c1-e9559d1ac2c0",
   "metadata": {},
   "outputs": [
    {
     "name": "stdout",
     "output_type": "stream",
     "text": [
      "HPO version 2024-02-27\n",
      "Created encoders for 35 fields\n",
      " we got OMIM:620430  NM_170662.5\n",
      "We output 3 GA4GH phenopackets to the directory phenopackets\n"
     ]
    }
   ],
   "source": [
    "individuals, cvalidator = timporter.import_phenopackets_from_template()"
   ]
  },
  {
   "cell_type": "code",
   "execution_count": 5,
   "id": "a9cfb617-2129-49b4-9816-dd48b9369c6f",
   "metadata": {},
   "outputs": [
    {
     "data": {
      "text/html": [
       "<h2>Cohort validation</h2>\n",
       "<p>No errors found for the cohort with 3 individuals</p>"
      ],
      "text/plain": [
       "<IPython.core.display.HTML object>"
      ]
     },
     "metadata": {},
     "output_type": "display_data"
    }
   ],
   "source": [
    "from pyphetools.visualization import QcVisualizer\n",
    "from IPython.display import HTML, display\n",
    "qc = QcVisualizer(cohort_validator=cvalidator)\n",
    "display(HTML(qc.to_summary_html()))"
   ]
  },
  {
   "cell_type": "code",
   "execution_count": 7,
   "id": "644ba5d7-0a39-4188-aa49-3b799b03cf98",
   "metadata": {},
   "outputs": [
    {
     "name": "stdout",
     "output_type": "stream",
     "text": [
      "[pyphetools] Ingested 3 GA4GH phenopackets.\n",
      "\tAutoimmune disease, multisystem, infantile-onset, 3 (OMIM:620430): n=3\n",
      "We found a total of 19 unique HPO terms\n",
      "Extracted disease: Autoimmune disease, multisystem, infantile-onset, 3 (OMIM:620430)\n",
      "Wrote HPOA disease file to OMIM-620430.tab\n"
     ]
    }
   ],
   "source": [
    "pmid = \"PMID:36006710\"\n",
    "df = timporter.create_hpoa_from_phenopackets(pmid=pmid, moi=\"Autosomal recessive\")"
   ]
  },
  {
   "cell_type": "code",
   "execution_count": null,
   "id": "3098a7cc-172f-4ae8-acc1-188ee9942a24",
   "metadata": {},
   "outputs": [],
   "source": []
  }
 ],
 "metadata": {
  "kernelspec": {
   "display_name": "ps24venv",
   "language": "python",
   "name": "ps24venv"
  },
  "language_info": {
   "codemirror_mode": {
    "name": "ipython",
    "version": 3
   },
   "file_extension": ".py",
   "mimetype": "text/x-python",
   "name": "python",
   "nbconvert_exporter": "python",
   "pygments_lexer": "ipython3",
   "version": "3.8.10"
  }
 },
 "nbformat": 4,
 "nbformat_minor": 5
}
