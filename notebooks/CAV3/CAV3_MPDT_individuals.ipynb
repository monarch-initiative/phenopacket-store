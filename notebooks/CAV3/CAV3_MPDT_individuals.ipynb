{
 "cells": [
  {
   "cell_type": "markdown",
   "metadata": {},
   "source": [
    "# CAV3\n",
    "[Tateyama type of distal myopathy (MPDT)](https://omim.org/entry/614321) is caused by heterozygous mutation in the caveolin-3 gene (CAV3)."
   ]
  },
  {
   "cell_type": "code",
   "execution_count": 4,
   "metadata": {},
   "outputs": [
    {
     "name": "stdout",
     "output_type": "stream",
     "text": [
      "Using pyphetools version 0.9.90\n"
     ]
    }
   ],
   "source": [
    "from pyphetools.creation import TemplateImporter\n",
    "from pyphetools.visualization import IndividualTable, QcVisualizer\n",
    "from IPython.display import display, HTML\n",
    "import pyphetools\n",
    "print(f\"Using pyphetools version {pyphetools.__version__}\")"
   ]
  },
  {
   "cell_type": "code",
   "execution_count": 6,
   "metadata": {},
   "outputs": [],
   "source": [
    "template = \"input/CAV3_MPDT_individuals.xlsx\"\n",
    "created_by = \"0000-0002-0736-9199\""
   ]
  },
  {
   "cell_type": "code",
   "execution_count": 9,
   "metadata": {},
   "outputs": [
    {
     "name": "stdout",
     "output_type": "stream",
     "text": [
      "HPO version 2024-04-26\n",
      "Created encoders for 38 fields\n",
      "Importing OMIM:614321, Myopathy, distal, Tateyama type, HGNC:1529, CAV3,  NM_033337.3\n",
      "[INFO] encoding variant \"c.80G>A\"\n",
      "https://rest.variantvalidator.org/VariantValidator/variantvalidator/hg38/NM_033337.3%3Ac.80G>A/NM_033337.3?content-type=application%2Fjson\n",
      "We output 8 GA4GH phenopackets to the directory phenopackets\n"
     ]
    }
   ],
   "source": [
    "timporter = TemplateImporter(template=template,  created_by=created_by)\n",
    "individual_list, cvalidator = timporter.import_phenopackets_from_template()"
   ]
  },
  {
   "cell_type": "code",
   "execution_count": 10,
   "metadata": {},
   "outputs": [
    {
     "data": {
      "text/html": [
       "<h2>Cohort validation</h2>\n",
       "<p>No errors found for the cohort with 8 individuals</p>"
      ],
      "text/plain": [
       "<IPython.core.display.HTML object>"
      ]
     },
     "metadata": {},
     "output_type": "display_data"
    }
   ],
   "source": [
    "qc = QcVisualizer(cohort_validator=cvalidator)\n",
    "display(HTML(qc.to_summary_html()))"
   ]
  },
  {
   "cell_type": "code",
   "execution_count": 11,
   "metadata": {},
   "outputs": [
    {
     "data": {
      "text/html": [
       "<table style=\"border: 2px solid black; align: \"left\">\n",
       "<caption>8 phenopackets - PMID:11805270 (n=1); PMID:18930476 (n=7)</caption>\n",
       "<tr><th style=\"text-align: left;font-weight: bold;\">Individual</th><th style=\"text-align: left;font-weight: bold;\">Disease</th><th style=\"text-align: left;font-weight: bold;\">Genotype</th><th style=\"text-align: left;font-weight: bold;\">Phenotypic features</th></tr>\n",
       "<tr><td style=\"text-align: left;\">patient (FEMALE; P25Y)</td><td style=\"text-align: left;\">Myopathy, distal, Tateyama type (OMIM:614321)</td><td style=\"text-align: left;\">NM_033337.3:c.80G>A (heterozygous)</td><td style=\"text-align: left;\"><b>P12Y</b>: Palpitations (HP:0001962); Elevated circulating creatine kinase concentration (HP:0003236)<br/><b>P25Y</b>: Neck flexor weakness (HP:0003722); Thenar muscle atrophy (HP:0003393); Elevated circulating aspartate aminotransferase concentration (HP:0031956); Increased circulating lactate dehydrogenase concentration (HP:0025435)<br/>excluded: Mental deterioration (HP:0001268)</td></tr>\n",
       "<tr><td style=\"text-align: left;\">proband I1 (MALE; P77Y)</td><td style=\"text-align: left;\">Myopathy, distal, Tateyama type (OMIM:614321)</td><td style=\"text-align: left;\">NM_033337.3:c.80G>A (heterozygous)</td><td style=\"text-align: left;\"><b>P45Y</b>: Weakness of the intrinsic hand muscles (HP:0009005); Finger flexor weakness (HP:0031177); Calf muscle hypertrophy (HP:0008981); Elevated circulating creatine kinase concentration (HP:0003236); Pes cavus (HP:0001761); Percussion-induced rapid rolling muscle contractions (HP:0003760); Thenar muscle atrophy (HP:0003393); Elevated circulating aspartate aminotransferase concentration (HP:0031956)<br/>excluded: Fatigue (HP:0012378); excluded: Muscle stiffness (HP:0003552); excluded: Myalgia (HP:0003326); excluded: Muscle spasm (HP:0003394); excluded: Involuntary movements (HP:0004305); excluded: Exercise intolerance (HP:0003546); excluded: Lactic acidosis (HP:0003128); excluded: Mental deterioration (HP:0001268)</td></tr>\n",
       "<tr><td style=\"text-align: left;\">individual II1 (MALE; P52Y)</td><td style=\"text-align: left;\">Myopathy, distal, Tateyama type (OMIM:614321)</td><td style=\"text-align: left;\">NM_033337.3:c.80G>A (heterozygous)</td><td style=\"text-align: left;\"><b>P28Y</b>: Calf muscle hypertrophy (HP:0008981); Elevated circulating creatine kinase concentration (HP:0003236); Pes cavus (HP:0001761)<br/><b>P35Y</b>: Hand muscle weakness (HP:0030237)<br/>excluded: Muscle stiffness (HP:0003552); excluded: Myalgia (HP:0003326)</td></tr>\n",
       "<tr><td style=\"text-align: left;\">individual II2 (MALE; P51Y)</td><td style=\"text-align: left;\">Myopathy, distal, Tateyama type (OMIM:614321)</td><td style=\"text-align: left;\">NM_033337.3:c.80G>A (heterozygous)</td><td style=\"text-align: left;\"><b>P26Y</b>: Calf muscle hypertrophy (HP:0008981); Elevated circulating creatine kinase concentration (HP:0003236); Pes cavus (HP:0001761); Percussion-induced rapid rolling muscle contractions (HP:0003760)<br/><b>P41Y</b>: Weakness of the intrinsic hand muscles (HP:0009005)<br/>excluded: Muscle stiffness (HP:0003552); excluded: Myalgia (HP:0003326)</td></tr>\n",
       "<tr><td style=\"text-align: left;\">individual II3 (MALE; P45Y)</td><td style=\"text-align: left;\">Myopathy, distal, Tateyama type (OMIM:614321)</td><td style=\"text-align: left;\">NM_033337.3:c.80G>A (heterozygous)</td><td style=\"text-align: left;\"><b>P21Y</b>: Calf muscle hypertrophy (HP:0008981); Elevated circulating creatine kinase concentration (HP:0003236); Pes cavus (HP:0001761)<br/><b>P42Y</b>: Weakness of the intrinsic hand muscles (HP:0009005); Thenar muscle atrophy (HP:0003393)<br/>excluded: Muscle stiffness (HP:0003552); excluded: Myalgia (HP:0003326)</td></tr>\n",
       "<tr><td style=\"text-align: left;\">individual II5 (MALE; P33Y)</td><td style=\"text-align: left;\">Myopathy, distal, Tateyama type (OMIM:614321)</td><td style=\"text-align: left;\">NM_033337.3:c.80G>A (heterozygous)</td><td style=\"text-align: left;\"><b>P9Y</b>: Elevated circulating creatine kinase concentration (HP:0003236); Pes cavus (HP:0001761)<br/>excluded: Calf muscle hypertrophy (HP:0008981); excluded: Muscle stiffness (HP:0003552); excluded: Myalgia (HP:0003326)</td></tr>\n",
       "<tr><td style=\"text-align: left;\">individual III2 (FEMALE; P22Y)</td><td style=\"text-align: left;\">Myopathy, distal, Tateyama type (OMIM:614321)</td><td style=\"text-align: left;\">NM_033337.3:c.80G>A (heterozygous)</td><td style=\"text-align: left;\"><b>P16Y</b>: Calf muscle hypertrophy (HP:0008981); Elevated circulating creatine kinase concentration (HP:0003236); Pes cavus (HP:0001761); Percussion-induced rapid rolling muscle contractions (HP:0003760)<br/>excluded: Muscle stiffness (HP:0003552); excluded: Myalgia (HP:0003326)</td></tr>\n",
       "<tr><td style=\"text-align: left;\">individual III3 (FEMALE; P23Y)</td><td style=\"text-align: left;\">Myopathy, distal, Tateyama type (OMIM:614321)</td><td style=\"text-align: left;\">NM_033337.3:c.80G>A (heterozygous)</td><td style=\"text-align: left;\"><b>P15Y</b>: Muscle stiffness (HP:0003552); Myalgia (HP:0003326)<br/><b>P23Y</b>: Elevated circulating creatine kinase concentration (HP:0003236); Pes cavus (HP:0001761)<br/>excluded: Calf muscle hypertrophy (HP:0008981); excluded: Percussion-induced rapid rolling muscle contractions (HP:0003760)</td></tr>\n",
       "</table>"
      ],
      "text/plain": [
       "<IPython.core.display.HTML object>"
      ]
     },
     "metadata": {},
     "output_type": "display_data"
    }
   ],
   "source": [
    "table = IndividualTable(cvalidator.get_error_free_individual_list())\n",
    "display(HTML(table.to_html()))"
   ]
  }
 ],
 "metadata": {
  "kernelspec": {
   "display_name": "ps24venv",
   "language": "python",
   "name": "python3"
  },
  "language_info": {
   "codemirror_mode": {
    "name": "ipython",
    "version": 3
   },
   "file_extension": ".py",
   "mimetype": "text/x-python",
   "name": "python",
   "nbconvert_exporter": "python",
   "pygments_lexer": "ipython3",
   "version": "3.9.6"
  }
 },
 "nbformat": 4,
 "nbformat_minor": 2
}
