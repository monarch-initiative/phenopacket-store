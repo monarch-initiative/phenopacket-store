{
 "cells": [
  {
   "cell_type": "markdown",
   "metadata": {},
   "source": [
    "# CYP27B1\n",
    "[vitamin D-dependent rickets type 1A (VDDR1A)](https://omim.org/entry/264700) is caused by mutation in the gene encoding 25-hydroxyvitamin D3-1-alpha-hydroxylase (CYP27B1)."
   ]
  },
  {
   "cell_type": "code",
   "execution_count": 3,
   "metadata": {},
   "outputs": [
    {
     "name": "stdout",
     "output_type": "stream",
     "text": [
      "Using pyphetools version 0.9.94\n"
     ]
    }
   ],
   "source": [
    "from pyphetools.creation import TemplateImporter, Moi\n",
    "from pyphetools.visualization import IndividualTable, QcVisualizer\n",
    "from IPython.display import display, HTML\n",
    "import pyphetools\n",
    "print(f\"Using pyphetools version {pyphetools.__version__}\")"
   ]
  },
  {
   "cell_type": "code",
   "execution_count": 4,
   "metadata": {},
   "outputs": [],
   "source": [
    "template = \"input/CYP27B1_VDDR1A_individuals.xlsx\"\n",
    "created_by = \"0000-0002-0736-9199\""
   ]
  },
  {
   "cell_type": "code",
   "execution_count": 5,
   "metadata": {},
   "outputs": [
    {
     "name": "stdout",
     "output_type": "stream",
     "text": [
      "HPO version 2024-07-01\n",
      "Created encoders for 61 fields\n",
      "Importing OMIM:264700, Vitamin D-dependent rickets, type I, HGNC:2606, CYP27B1,  NM_000785.4\n",
      "[INFO] encoding variant \"c.1294C>A\"\n",
      "https://rest.variantvalidator.org/VariantValidator/variantvalidator/hg38/NM_000785.4%3Ac.1294C>A/NM_000785.4?content-type=application%2Fjson\n",
      "[INFO] encoding variant \"c.1166 G>A\"\n",
      "https://rest.variantvalidator.org/VariantValidator/variantvalidator/hg38/NM_000785.4%3Ac.1166 G>A/NM_000785.4?content-type=application%2Fjson\n",
      "We output 1 GA4GH phenopackets to the directory phenopackets\n"
     ]
    }
   ],
   "source": [
    "timporter = TemplateImporter(template=template,  created_by=created_by)\n",
    "individual_list, cvalidator = timporter.import_phenopackets_from_template()"
   ]
  },
  {
   "cell_type": "code",
   "execution_count": 6,
   "metadata": {},
   "outputs": [
    {
     "data": {
      "text/html": [
       "<h2>Cohort validation</h2>\n",
       "<p>No errors found for the cohort with 1 individuals</p>"
      ],
      "text/plain": [
       "<IPython.core.display.HTML object>"
      ]
     },
     "metadata": {},
     "output_type": "display_data"
    }
   ],
   "source": [
    "qc = QcVisualizer(cohort_validator=cvalidator)\n",
    "display(HTML(qc.to_summary_html()))"
   ]
  },
  {
   "cell_type": "code",
   "execution_count": 7,
   "metadata": {},
   "outputs": [
    {
     "data": {
      "text/html": [
       "<table style=\"border: 2px solid black; align: \"left\">\n",
       "<caption>1 phenopacket - PMID:26734137 (n=1)</caption>\n",
       "<tr><th style=\"text-align: left;font-weight: bold;\">Individual</th><th style=\"text-align: left;font-weight: bold;\">Disease</th><th style=\"text-align: left;font-weight: bold;\">Genotype</th><th style=\"text-align: left;font-weight: bold;\">Phenotypic features</th></tr>\n",
       "<tr><td style=\"text-align: left;\">patient (MALE; P18Y)</td><td style=\"text-align: left;\">Vitamin D-dependent rickets, type I (OMIM:264700)</td><td style=\"text-align: left;\"><ul> <li>NM_000785.4:c.1166G>A (heterozygous)</li> <li>NM_000785.4:c.1294C>A (heterozygous)</li> </ul></td><td style=\"text-align: left;\"><b>P8M</b>: Postnatal growth retardation (HP:0008897)<br/><b>P1Y6M</b>: Muscle weakness (HP:0001324); Rickets (HP:0002748); Rachitic rosary (HP:0000897); Reduced subcutaneous adipose tissue (HP:0003758); Elevated circulating alkaline phosphatase concentration (HP:0003155); Hypocalcemia (HP:0002901); Hypophosphatemia (HP:0002148); Low serum calcitriol (HP:0012052); Elevated circulating parathyroid hormone level (HP:0003165); Generalized aminoaciduria (HP:0002909); Ketonuria (HP:0002919); Renal phosphate wasting (HP:0000117); Hypocalciuria (HP:0003127); Metabolic acidosis (HP:0001942); Delayed eruption of teeth (HP:0000684)<br/><b>P18Y</b>: Bone pain (HP:0002653)<br/>Metaphyseal cupping (HP:0003021); excluded: Abnormal blood chloride concentration (HP:0011422)</td></tr>\n",
       "</table>"
      ],
      "text/plain": [
       "<IPython.core.display.HTML object>"
      ]
     },
     "metadata": {},
     "output_type": "display_data"
    }
   ],
   "source": [
    "table = IndividualTable(cvalidator.get_error_free_individual_list())\n",
    "display(HTML(table.to_html()))"
   ]
  },
  {
   "cell_type": "code",
   "execution_count": 8,
   "metadata": {},
   "outputs": [
    {
     "name": "stdout",
     "output_type": "stream",
     "text": [
      "[pyphetools] Ingested 1 GA4GH phenopackets.\n",
      "[INFO] Extracted 1 from 1 phenopackets with OMIM:264700\n",
      "\n",
      "\tVitamin D-dependent rickets, type I (OMIM:264700): n=1\n",
      "We found a total of 19 unique HPO terms\n",
      "Extracted disease: Vitamin D-dependent rickets, type I (OMIM:264700)\n",
      "Wrote HPOA disease file to OMIM-264700.tab\n"
     ]
    }
   ],
   "source": [
    "pmid = \"PMID:26734137\"\n",
    "df = timporter.create_hpoa_from_phenopackets(pmid=pmid, mode_of_inheritance=Moi.AR, target=\"OMIM:264700\")"
   ]
  }
 ],
 "metadata": {
  "kernelspec": {
   "display_name": "ps24venv",
   "language": "python",
   "name": "python3"
  },
  "language_info": {
   "codemirror_mode": {
    "name": "ipython",
    "version": 3
   },
   "file_extension": ".py",
   "mimetype": "text/x-python",
   "name": "python",
   "nbconvert_exporter": "python",
   "pygments_lexer": "ipython3",
   "version": "3.9.6"
  }
 },
 "nbformat": 4,
 "nbformat_minor": 2
}
