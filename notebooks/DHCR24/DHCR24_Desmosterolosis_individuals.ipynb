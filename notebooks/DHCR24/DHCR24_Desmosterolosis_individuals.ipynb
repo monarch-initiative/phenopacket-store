{
 "cells": [
  {
   "cell_type": "markdown",
   "metadata": {},
   "source": [
    "# DHCR24\n",
    "[desmosterolosis](https://omim.org/entry/602398) is caused by homozygous or compound heterozygous mutation in the DHCR24 gene."
   ]
  },
  {
   "cell_type": "code",
   "execution_count": 1,
   "metadata": {},
   "outputs": [
    {
     "name": "stdout",
     "output_type": "stream",
     "text": [
      "Using pyphetools version 0.9.92\n"
     ]
    },
    {
     "name": "stderr",
     "output_type": "stream",
     "text": [
      "/Users/robin/GIT/phenopacket-store/ps24venv/lib/python3.9/site-packages/urllib3/__init__.py:35: NotOpenSSLWarning: urllib3 v2 only supports OpenSSL 1.1.1+, currently the 'ssl' module is compiled with 'LibreSSL 2.8.3'. See: https://github.com/urllib3/urllib3/issues/3020\n",
      "  warnings.warn(\n"
     ]
    }
   ],
   "source": [
    "from pyphetools.creation import TemplateImporter\n",
    "from pyphetools.visualization import IndividualTable, QcVisualizer\n",
    "from IPython.display import display, HTML\n",
    "import pyphetools\n",
    "print(f\"Using pyphetools version {pyphetools.__version__}\")"
   ]
  },
  {
   "cell_type": "code",
   "execution_count": 2,
   "metadata": {},
   "outputs": [],
   "source": [
    "template = \"input/DHCR24_Desmosterolosis_individuals.xlsx\"\n",
    "created_by = \"0000-0002-0736-9199\""
   ]
  },
  {
   "cell_type": "code",
   "execution_count": 3,
   "metadata": {},
   "outputs": [
    {
     "name": "stdout",
     "output_type": "stream",
     "text": [
      "HPO version 2024-07-01\n",
      "Created encoders for 53 fields\n",
      "Importing OMIM:602398, Desmosterolosis, HGNC:2859, DHCR24,  NM_014762.4\n",
      "We output 10 GA4GH phenopackets to the directory phenopackets\n"
     ]
    }
   ],
   "source": [
    "timporter = TemplateImporter(template=template,  created_by=created_by)\n",
    "individual_list, cvalidator = timporter.import_phenopackets_from_template()"
   ]
  },
  {
   "cell_type": "code",
   "execution_count": 4,
   "metadata": {},
   "outputs": [
    {
     "data": {
      "text/html": [
       "<h2>Cohort validation</h2>\n",
       "<p>Errors found with 1 of 10 phenopackets.</p>\n",
       "<table style=\"border: 2px solid black; align: \"left\">\n",
       "<caption>Error counts</caption>\n",
       "<tr><th style=\"text-align: left;font-weight: bold;\">Level</th><th style=\"text-align: left;font-weight: bold;\">Error category</th><th style=\"text-align: left;font-weight: bold;\">Count</th></tr>\n",
       "<tr><td style=\"text-align: left;\">ERROR</td><td style=\"text-align: left;\">CONFLICT</td><td style=\"text-align: left;\">1</td></tr>\n",
       "</table>\n",
       "<p>A total of 1 issues were fixed and no individual was removed from the cohort.</p>"
      ],
      "text/plain": [
       "<IPython.core.display.HTML object>"
      ]
     },
     "metadata": {},
     "output_type": "display_data"
    }
   ],
   "source": [
    "qc = QcVisualizer(cohort_validator=cvalidator)\n",
    "display(HTML(qc.to_summary_html()))"
   ]
  },
  {
   "cell_type": "code",
   "execution_count": 5,
   "metadata": {},
   "outputs": [
    {
     "data": {
      "text/html": [
       "<table style=\"border: 2px solid black; align: \"left\">\n",
       "<caption>10 phenopackets - PMID:29175559 (n=10)</caption>\n",
       "<tr><th style=\"text-align: left;font-weight: bold;\">Individual</th><th style=\"text-align: left;font-weight: bold;\">Disease</th><th style=\"text-align: left;font-weight: bold;\">Genotype</th><th style=\"text-align: left;font-weight: bold;\">Phenotypic features</th></tr>\n",
       "<tr><td style=\"text-align: left;\">Patient 1 FitzPatrick 1998 (FEMALE; n/a)</td><td style=\"text-align: left;\">Desmosterolosis (OMIM:602398)</td><td style=\"text-align: left;\"><ul> <li>NM_014762.4:c.1412A>C (heterozygous)</li> <li>NM_014762.4:c.918G>C (heterozygous)</li> </ul></td><td style=\"text-align: left;\">Frontal bossing (HP:0002007); Agenesis of corpus callosum (HP:0001274); Cleft palate (HP:0000175); Micrognathia (HP:0000347); Increased bone mineral density (HP:0011001); Low-set ears (HP:0000369); Ventriculomegaly (HP:0002119); Rhizomelia (HP:0008905); Elevated circulating desmosterol concentration (HP:0034937); Total anomalous pulmonary venous return (HP:0005160); Macrocephaly (HP:0000256); Short ribs (HP:0000773); excluded: Distal arthrogryposis (HP:0005684); excluded: Narrow forehead (HP:0000341); excluded: Dolichocephaly (HP:0000268); excluded: Telecanthus (HP:0000506); excluded: Epicanthus (HP:0000286); excluded: Downslanted palpebral fissures (HP:0000494); excluded: Short neck (HP:0000470); excluded: Microcephaly (HP:0000252); excluded: Talipes (HP:0001883)</td></tr>\n",
       "<tr><td style=\"text-align: left;\">Patient 2 Andersson 2002 (MALE; n/a)</td><td style=\"text-align: left;\">Desmosterolosis (OMIM:602398)</td><td style=\"text-align: left;\">NM_014762.4:c.571G>A (homozygous)</td><td style=\"text-align: left;\">Distal arthrogryposis (HP:0005684); Agenesis of corpus callosum (HP:0001274); Reduced cerebral white matter volume (HP:0034295); Cleft palate (HP:0000175); Micrognathia (HP:0000347); Epicanthus (HP:0000286); Downslanted palpebral fissures (HP:0000494); Short stature (HP:0004322); Elevated circulating desmosterol concentration (HP:0034937); Failure to thrive (HP:0001508); Microcephaly (HP:0000252); Spasticity (HP:0001257); Global developmental delay (HP:0001263); Talipes (HP:0001883); excluded: Frontal bossing (HP:0002007); excluded: Seizure (HP:0001250); excluded: Narrow forehead (HP:0000341); excluded: Dolichocephaly (HP:0000268); excluded: Telecanthus (HP:0000506); excluded: Increased bone mineral density (HP:0011001); excluded: Low-set ears (HP:0000369); excluded: Ventriculomegaly (HP:0002119); excluded: Rhizomelia (HP:0008905); excluded: Short neck (HP:0000470); excluded: Strabismus (HP:0000486); excluded: Total anomalous pulmonary venous return (HP:0005160); excluded: Macrocephaly (HP:0000256); excluded: Nystagmus (HP:0000639); excluded: Short ribs (HP:0000773)</td></tr>\n",
       "<tr><td style=\"text-align: left;\">Patient 3 Zolotushko 2011 V1 (MALE; P6Y)</td><td style=\"text-align: left;\">Desmosterolosis (OMIM:602398)</td><td style=\"text-align: left;\">NM_014762.4:c.307C>T (homozygous)</td><td style=\"text-align: left;\">Distal arthrogryposis (HP:0005684); Seizure (HP:0001250); Agenesis of corpus callosum (HP:0001274); Reduced cerebral white matter volume (HP:0034295); Micrognathia (HP:0000347); Ventriculomegaly (HP:0002119); Elevated circulating desmosterol concentration (HP:0034937); Strabismus (HP:0000486); Failure to thrive (HP:0001508); Microcephaly (HP:0000252); Spasticity (HP:0001257); Nystagmus (HP:0000639); Global developmental delay (HP:0001263); excluded: Frontal bossing (HP:0002007); excluded: Cleft palate (HP:0000175); excluded: Narrow forehead (HP:0000341); excluded: Dolichocephaly (HP:0000268); excluded: Telecanthus (HP:0000506); excluded: Epicanthus (HP:0000286); excluded: Downslanted palpebral fissures (HP:0000494); excluded: Increased bone mineral density (HP:0011001); excluded: Low-set ears (HP:0000369); excluded: Short neck (HP:0000470); excluded: Total anomalous pulmonary venous return (HP:0005160); excluded: Macrocephaly (HP:0000256)</td></tr>\n",
       "<tr><td style=\"text-align: left;\">Patient 4 Zolotushko 2011 V4 (FEMALE; P11Y)</td><td style=\"text-align: left;\">Desmosterolosis (OMIM:602398)</td><td style=\"text-align: left;\">NM_014762.4:c.307C>T (homozygous)</td><td style=\"text-align: left;\">Seizure (HP:0001250); Agenesis of corpus callosum (HP:0001274); Reduced cerebral white matter volume (HP:0034295); Micrognathia (HP:0000347); Ventriculomegaly (HP:0002119); Elevated circulating desmosterol concentration (HP:0034937); Failure to thrive (HP:0001508); Microcephaly (HP:0000252); Spasticity (HP:0001257); Global developmental delay (HP:0001263); excluded: Frontal bossing (HP:0002007); excluded: Cleft palate (HP:0000175); excluded: Narrow forehead (HP:0000341); excluded: Dolichocephaly (HP:0000268); excluded: Telecanthus (HP:0000506); excluded: Epicanthus (HP:0000286); excluded: Downslanted palpebral fissures (HP:0000494); excluded: Increased bone mineral density (HP:0011001); excluded: Low-set ears (HP:0000369); excluded: Strabismus (HP:0000486); excluded: Macrocephaly (HP:0000256); excluded: Nystagmus (HP:0000639)</td></tr>\n",
       "<tr><td style=\"text-align: left;\">Patient 5 Zolotushko 2011 V7 (MALE; P4Y)</td><td style=\"text-align: left;\">Desmosterolosis (OMIM:602398)</td><td style=\"text-align: left;\">NM_014762.4:c.307C>T (homozygous)</td><td style=\"text-align: left;\">Seizure (HP:0001250); Agenesis of corpus callosum (HP:0001274); Reduced cerebral white matter volume (HP:0034295); Micrognathia (HP:0000347); Ventriculomegaly (HP:0002119); Elevated circulating desmosterol concentration (HP:0034937); Strabismus (HP:0000486); Failure to thrive (HP:0001508); Microcephaly (HP:0000252); Spasticity (HP:0001257); Nystagmus (HP:0000639); Global developmental delay (HP:0001263); excluded: Frontal bossing (HP:0002007); excluded: Cleft palate (HP:0000175); excluded: Narrow forehead (HP:0000341); excluded: Dolichocephaly (HP:0000268); excluded: Telecanthus (HP:0000506); excluded: Epicanthus (HP:0000286); excluded: Downslanted palpebral fissures (HP:0000494); excluded: Increased bone mineral density (HP:0011001); excluded: Low-set ears (HP:0000369); excluded: Macrocephaly (HP:0000256)</td></tr>\n",
       "<tr><td style=\"text-align: left;\">Patient 6 Zolotushko 2011 IV5 (FEMALE; P4Y)</td><td style=\"text-align: left;\">Desmosterolosis (OMIM:602398)</td><td style=\"text-align: left;\">NM_014762.4:c.307C>T (homozygous)</td><td style=\"text-align: left;\">Agenesis of corpus callosum (HP:0001274); Reduced cerebral white matter volume (HP:0034295); Micrognathia (HP:0000347); Ventriculomegaly (HP:0002119); Elevated circulating desmosterol concentration (HP:0034937); Strabismus (HP:0000486); Failure to thrive (HP:0001508); Microcephaly (HP:0000252); Spasticity (HP:0001257); Nystagmus (HP:0000639); Global developmental delay (HP:0001263); excluded: Frontal bossing (HP:0002007); excluded: Seizure (HP:0001250); excluded: Cleft palate (HP:0000175); excluded: Narrow forehead (HP:0000341); excluded: Dolichocephaly (HP:0000268); excluded: Telecanthus (HP:0000506); excluded: Epicanthus (HP:0000286); excluded: Downslanted palpebral fissures (HP:0000494); excluded: Increased bone mineral density (HP:0011001); excluded: Low-set ears (HP:0000369); excluded: Macrocephaly (HP:0000256)</td></tr>\n",
       "<tr><td style=\"text-align: left;\">Patient 7 Schaaf 2011 (FEMALE; n/a)</td><td style=\"text-align: left;\">Desmosterolosis (OMIM:602398)</td><td style=\"text-align: left;\"><ul> <li>NM_014762.4:c.281G>A (heterozygous)</li> <li>NM_014762.4:c.1438G>A (heterozygous)</li> </ul></td><td style=\"text-align: left;\">Distal arthrogryposis (HP:0005684); Agenesis of corpus callosum (HP:0001274); Reduced cerebral white matter volume (HP:0034295); Micrognathia (HP:0000347); Telecanthus (HP:0000506); Ventriculomegaly (HP:0002119); Rhizomelia (HP:0008905); Elevated circulating desmosterol concentration (HP:0034937); Failure to thrive (HP:0001508); Global developmental delay (HP:0001263); Talipes (HP:0001883); excluded: Cleft palate (HP:0000175); excluded: Narrow forehead (HP:0000341); excluded: Dolichocephaly (HP:0000268); excluded: Epicanthus (HP:0000286); excluded: Downslanted palpebral fissures (HP:0000494); excluded: Increased bone mineral density (HP:0011001); excluded: Low-set ears (HP:0000369); excluded: Short neck (HP:0000470); excluded: Strabismus (HP:0000486); excluded: Total anomalous pulmonary venous return (HP:0005160); excluded: Microcephaly (HP:0000252); excluded: Macrocephaly (HP:0000256); excluded: Nystagmus (HP:0000639); excluded: Short ribs (HP:0000773)</td></tr>\n",
       "<tr><td style=\"text-align: left;\">Patient 8 Dias 2014 (FEMALE; n/a)</td><td style=\"text-align: left;\">Desmosterolosis (OMIM:602398)</td><td style=\"text-align: left;\">NM_014762.4:c.571G>A (homozygous)</td><td style=\"text-align: left;\">Seizure (HP:0001250); Agenesis of corpus callosum (HP:0001274); Reduced cerebral white matter volume (HP:0034295); Cleft palate (HP:0000175); Micrognathia (HP:0000347); Narrow forehead (HP:0000341); Dolichocephaly (HP:0000268); Downslanted palpebral fissures (HP:0000494); Low-set ears (HP:0000369); Ventriculomegaly (HP:0002119); Short stature (HP:0004322); Short neck (HP:0000470); Elevated circulating desmosterol concentration (HP:0034937); Strabismus (HP:0000486); Nystagmus (HP:0000639); Global developmental delay (HP:0001263); excluded: Frontal bossing (HP:0002007); excluded: Telecanthus (HP:0000506); excluded: Epicanthus (HP:0000286); excluded: Increased bone mineral density (HP:0011001); excluded: Failure to thrive (HP:0001508); excluded: Microcephaly (HP:0000252); excluded: Macrocephaly (HP:0000256); excluded: Talipes (HP:0001883)</td></tr>\n",
       "<tr><td style=\"text-align: left;\">Patient 9 Dias 2014 (FEMALE; n/a)</td><td style=\"text-align: left;\">Desmosterolosis (OMIM:602398)</td><td style=\"text-align: left;\">NM_014762.4:c.571G>A (homozygous)</td><td style=\"text-align: left;\">Distal arthrogryposis (HP:0005684); Seizure (HP:0001250); Agenesis of corpus callosum (HP:0001274); Reduced cerebral white matter volume (HP:0034295); Narrow forehead (HP:0000341); Dolichocephaly (HP:0000268); Downslanted palpebral fissures (HP:0000494); Low-set ears (HP:0000369); Ventriculomegaly (HP:0002119); Short stature (HP:0004322); Elevated circulating desmosterol concentration (HP:0034937); Strabismus (HP:0000486); Failure to thrive (HP:0001508); Spasticity (HP:0001257); Nystagmus (HP:0000639); Global developmental delay (HP:0001263); Talipes (HP:0001883); excluded: Frontal bossing (HP:0002007); excluded: Cleft palate (HP:0000175); excluded: Micrognathia (HP:0000347); excluded: Telecanthus (HP:0000506); excluded: Epicanthus (HP:0000286); excluded: Increased bone mineral density (HP:0011001); excluded: Rhizomelia (HP:0008905); excluded: Short neck (HP:0000470); excluded: Total anomalous pulmonary venous return (HP:0005160); excluded: Microcephaly (HP:0000252); excluded: Macrocephaly (HP:0000256); excluded: Short ribs (HP:0000773)</td></tr>\n",
       "<tr><td style=\"text-align: left;\">Present patient (MALE; n/a)</td><td style=\"text-align: left;\">Desmosterolosis (OMIM:602398)</td><td style=\"text-align: left;\">NM_014762.4:c.571G>A (homozygous)</td><td style=\"text-align: left;\">Distal arthrogryposis (HP:0005684); Agenesis of corpus callosum (HP:0001274); Cleft palate (HP:0000175); Micrognathia (HP:0000347); Downslanted palpebral fissures (HP:0000494); Low-set ears (HP:0000369); Ventriculomegaly (HP:0002119); Short stature (HP:0004322); Short neck (HP:0000470); Elevated circulating desmosterol concentration (HP:0034937); Strabismus (HP:0000486); Failure to thrive (HP:0001508); Spasticity (HP:0001257); Nystagmus (HP:0000639); Global developmental delay (HP:0001263); Talipes (HP:0001883); excluded: Frontal bossing (HP:0002007); excluded: Seizure (HP:0001250); excluded: Reduced cerebral white matter volume (HP:0034295); excluded: Narrow forehead (HP:0000341); excluded: Dolichocephaly (HP:0000268); excluded: Telecanthus (HP:0000506); excluded: Epicanthus (HP:0000286); excluded: Increased bone mineral density (HP:0011001); excluded: Rhizomelia (HP:0008905); excluded: Total anomalous pulmonary venous return (HP:0005160); excluded: Microcephaly (HP:0000252); excluded: Macrocephaly (HP:0000256); excluded: Short ribs (HP:0000773)</td></tr>\n",
       "</table>"
      ],
      "text/plain": [
       "<IPython.core.display.HTML object>"
      ]
     },
     "metadata": {},
     "output_type": "display_data"
    }
   ],
   "source": [
    "table = IndividualTable(cvalidator.get_error_free_individual_list())\n",
    "display(HTML(table.to_html()))"
   ]
  },
  {
   "cell_type": "code",
   "execution_count": 6,
   "metadata": {},
   "outputs": [
    {
     "name": "stdout",
     "output_type": "stream",
     "text": [
      "[pyphetools] Ingested 10 GA4GH phenopackets.\n",
      "[INFO] Extracted 10 from 10 phenopackets with OMIM:602398\n",
      "\n",
      "\tDesmosterolosis (OMIM:602398): n=10\n",
      "We found a total of 29 unique HPO terms\n",
      "Extracted disease: Desmosterolosis (OMIM:602398)\n",
      "Wrote HPOA disease file to OMIM-602398.tab\n"
     ]
    }
   ],
   "source": [
    "pmid = \"PMID:29175559\"\n",
    "df = timporter.create_hpoa_from_phenopackets(pmid=pmid, moi=\"Autosomal recessive\", target=\"OMIM:602398\")"
   ]
  },
  {
   "cell_type": "code",
   "execution_count": null,
   "metadata": {},
   "outputs": [],
   "source": []
  }
 ],
 "metadata": {
  "kernelspec": {
   "display_name": "ps24venv",
   "language": "python",
   "name": "python3"
  },
  "language_info": {
   "codemirror_mode": {
    "name": "ipython",
    "version": 3
   },
   "file_extension": ".py",
   "mimetype": "text/x-python",
   "name": "python",
   "nbconvert_exporter": "python",
   "pygments_lexer": "ipython3",
   "version": "3.9.6"
  }
 },
 "nbformat": 4,
 "nbformat_minor": 2
}
