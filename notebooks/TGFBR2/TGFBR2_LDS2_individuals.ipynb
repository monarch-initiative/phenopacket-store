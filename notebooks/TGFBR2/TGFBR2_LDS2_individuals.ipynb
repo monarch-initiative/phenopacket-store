{
 "cells": [
  {
   "cell_type": "markdown",
   "id": "f2d34734-779a-404d-aa6e-93772e55b249",
   "metadata": {},
   "source": [
    "# TGFBR2\n",
    "[Loeys-Dietz syndrome-2 (LDS2)](https://omim.org/entry/610168) is caused by heterozygous mutation in the TGFBR2 gene."
   ]
  },
  {
   "cell_type": "code",
   "execution_count": 1,
   "id": "6afb581e-1617-4df8-b743-62987f5c1b8f",
   "metadata": {},
   "outputs": [
    {
     "name": "stderr",
     "output_type": "stream",
     "text": [
      "/Users/robin/GIT/phenopacket-store/ps24venv/lib/python3.9/site-packages/urllib3/__init__.py:35: NotOpenSSLWarning: urllib3 v2 only supports OpenSSL 1.1.1+, currently the 'ssl' module is compiled with 'LibreSSL 2.8.3'. See: https://github.com/urllib3/urllib3/issues/3020\n",
      "  warnings.warn(\n"
     ]
    },
    {
     "name": "stdout",
     "output_type": "stream",
     "text": [
      "Using pyphetools version 0.9.82\n"
     ]
    }
   ],
   "source": [
    "from pyphetools.creation import TemplateImporter\n",
    "from pyphetools.visualization import IndividualTable, QcVisualizer\n",
    "from IPython.display import display, HTML\n",
    "import pyphetools\n",
    "print(f\"Using pyphetools version {pyphetools.__version__}\")"
   ]
  },
  {
   "cell_type": "code",
   "execution_count": 2,
   "id": "6fc13ad5-131d-4aef-ba0f-2e53a5f3eafb",
   "metadata": {},
   "outputs": [],
   "source": [
    "template = \"input/TGFBR2_LDS2_individuals.xlsx\"\n",
    "hp_json = \"../hp.json\"\n",
    "created_by = \"0000-0002-0736-9199\""
   ]
  },
  {
   "cell_type": "code",
   "execution_count": 3,
   "id": "f15b214b-d223-4e3b-bef8-0daa92a28edf",
   "metadata": {},
   "outputs": [
    {
     "name": "stdout",
     "output_type": "stream",
     "text": [
      "HPO version 2024-04-04\n",
      "Created encoders for 58 fields\n",
      "Importing OMIM:610168, Loeys-Dietz syndrome 2, HGNC:11773, TGFBR2,  NM_003242.6\n",
      "[INFO] encoding variant \"c.1063G>C\"\n",
      "https://rest.variantvalidator.org/VariantValidator/variantvalidator/hg38/NM_003242.6%3Ac.1063G>C/NM_003242.6?content-type=application%2Fjson\n",
      "[INFO] encoding variant \"c.1582C>T\"\n",
      "https://rest.variantvalidator.org/VariantValidator/variantvalidator/hg38/NM_003242.6%3Ac.1582C>T/NM_003242.6?content-type=application%2Fjson\n",
      "[INFO] encoding variant \"c.95-2A>G\"\n",
      "https://rest.variantvalidator.org/VariantValidator/variantvalidator/hg38/NM_003242.6%3Ac.95-2A>G/NM_003242.6?content-type=application%2Fjson\n",
      "[INFO] encoding variant \"c.1006T>A\"\n",
      "https://rest.variantvalidator.org/VariantValidator/variantvalidator/hg38/NM_003242.6%3Ac.1006T>A/NM_003242.6?content-type=application%2Fjson\n",
      "[INFO] encoding variant \"c.1067G>C\"\n",
      "https://rest.variantvalidator.org/VariantValidator/variantvalidator/hg38/NM_003242.6%3Ac.1067G>C/NM_003242.6?content-type=application%2Fjson\n",
      "[INFO] encoding variant \"c.1613T>C\"\n",
      "https://rest.variantvalidator.org/VariantValidator/variantvalidator/hg38/NM_003242.6%3Ac.1613T>C/NM_003242.6?content-type=application%2Fjson\n",
      "[INFO] encoding variant \"c.1255G>T\"\n",
      "https://rest.variantvalidator.org/VariantValidator/variantvalidator/hg38/NM_003242.6%3Ac.1255G>T/NM_003242.6?content-type=application%2Fjson\n",
      "[INFO] encoding variant \"c.923T>C\"\n",
      "https://rest.variantvalidator.org/VariantValidator/variantvalidator/hg38/NM_003242.6%3Ac.923T>C/NM_003242.6?content-type=application%2Fjson\n",
      "[INFO] encoding variant \"c.1061T>C\"\n",
      "https://rest.variantvalidator.org/VariantValidator/variantvalidator/hg38/NM_003242.6%3Ac.1061T>C/NM_003242.6?content-type=application%2Fjson\n",
      "[INFO] encoding variant \"c.1561T>C\"\n",
      "https://rest.variantvalidator.org/VariantValidator/variantvalidator/hg38/NM_003242.6%3Ac.1561T>C/NM_003242.6?content-type=application%2Fjson\n",
      "[INFO] encoding variant \"c.1069G>T\"\n",
      "https://rest.variantvalidator.org/VariantValidator/variantvalidator/hg38/NM_003242.6%3Ac.1069G>T/NM_003242.6?content-type=application%2Fjson\n",
      "[INFO] encoding variant \"c.1583G>A\"\n",
      "https://rest.variantvalidator.org/VariantValidator/variantvalidator/hg38/NM_003242.6%3Ac.1583G>A/NM_003242.6?content-type=application%2Fjson\n",
      "[INFO] encoding variant \"c.1483C>T\"\n",
      "https://rest.variantvalidator.org/VariantValidator/variantvalidator/hg38/NM_003242.6%3Ac.1483C>T/NM_003242.6?content-type=application%2Fjson\n",
      "We output 20 GA4GH phenopackets to the directory phenopackets\n"
     ]
    }
   ],
   "source": [
    "timporter = TemplateImporter(template=template, hp_json=hp_json, created_by=created_by)\n",
    "individual_list, cvalidator = timporter.import_phenopackets_from_template()"
   ]
  },
  {
   "cell_type": "code",
   "execution_count": 4,
   "id": "f5221111-0e03-4397-83ee-f17517bc1570",
   "metadata": {},
   "outputs": [
    {
     "data": {
      "text/html": [
       "<h2>Cohort validation</h2>\n",
       "<p>Errors found with 1 of 20 phenopackets.</p>\n",
       "<table style=\"border: 2px solid black; align: \"left\">\n",
       "<caption>Error counts</caption>\n",
       "<tr><th style=\"text-align: left;font-weight: bold;\">Level</th><th style=\"text-align: left;font-weight: bold;\">Error category</th><th style=\"text-align: left;font-weight: bold;\">Count</th></tr>\n",
       "<tr><td style=\"text-align: left;\">WARNING</td><td style=\"text-align: left;\">REDUNDANT</td><td style=\"text-align: left;\">1</td></tr>\n",
       "</table>\n",
       "<p>A total of 1 issues were fixed and no individual was removed from the cohort.</p>"
      ],
      "text/plain": [
       "<IPython.core.display.HTML object>"
      ]
     },
     "metadata": {},
     "output_type": "display_data"
    }
   ],
   "source": [
    "qc = QcVisualizer(cohort_validator=cvalidator)\n",
    "display(HTML(qc.to_summary_html()))"
   ]
  },
  {
   "cell_type": "code",
   "execution_count": 5,
   "id": "14c65352-13d1-4e65-97f2-74c18ff6d17c",
   "metadata": {},
   "outputs": [
    {
     "data": {
      "text/html": [
       "<table style=\"border: 2px solid black; align: \"left\">\n",
       "<caption>20 phenopackets - PMID:15731757 (n=10); PMID:16283890 (n=1); PMID:18084123 (n=2); PMID:19875893 (n=1); PMID:24220024 (n=1); PMID:28163941 (n=1); PMID:28679693 (n=1); PMID:32528524 (n=1); PMID:20358619 (n=2)</caption>\n",
       "<tr><th style=\"text-align: left;font-weight: bold;\">Individual</th><th style=\"text-align: left;font-weight: bold;\">Disease</th><th style=\"text-align: left;font-weight: bold;\">Genotype</th><th style=\"text-align: left;font-weight: bold;\">Phenotypic features</th></tr>\n",
       "<tr><td style=\"text-align: left;\">Family 1 I-2 (MALE; P29Y)</td><td style=\"text-align: left;\">Loeys-Dietz syndrome 2 (OMIM:610168)</td><td style=\"text-align: left;\">NM_003242.6:c.1063G>C (heterozygous)</td><td style=\"text-align: left;\">Patent ductus arteriosus (HP:0001643); Aortic root aneurysm (HP:0002616); excluded: Cleft palate (HP:0000175); excluded: Ectopia lentis (HP:0001083)</td></tr>\n",
       "<tr><td style=\"text-align: left;\">Family 1 II-1 (FEMALE; P37Y)</td><td style=\"text-align: left;\">Loeys-Dietz syndrome 2 (OMIM:610168)</td><td style=\"text-align: left;\">NM_003242.6:c.1063G>C (heterozygous)</td><td style=\"text-align: left;\">Aortic root aneurysm (HP:0002616); Arterial tortuosity (HP:0005116); Descending thoracic aorta aneurysm (HP:0004959); Malar flattening (HP:0000272); Bifid uvula (HP:0000193); Scoliosis (HP:0002650); Proptosis (HP:0000520); Hypertelorism (HP:0000316); excluded: Patent ductus arteriosus (HP:0001643); excluded: Dilatation of the ductus arteriosus (HP:0030745); excluded: Dilated left subclavian artery (HP:0031252); excluded: Atrial septal defect (HP:0001631); excluded: Bicuspid pulmonary valve (HP:0005182); excluded: Bicuspid aortic valve (HP:0001647); excluded: Mitral valve prolapse (HP:0001634); excluded: Pulmonary artery aneurysm (HP:0004937); excluded: Cleft palate (HP:0000175); excluded: Retrognathia (HP:0000278); excluded: Craniosynostosis (HP:0001363); excluded: Camptodactyly (HP:0012385); excluded: Joint hypermobility (HP:0001382); excluded: Arachnodactyly (HP:0001166); excluded: Postaxial polydactyly (HP:0100259); excluded: Soft skin (HP:0000977); excluded: Dermal translucency (HP:0010648); excluded: Talipes equinovarus (HP:0001762); excluded: Ectopia lentis (HP:0001083); excluded: Exotropia (HP:0000577); excluded: Blue sclerae (HP:0000592); excluded: Hydrocephalus (HP:0000238); excluded: Chiari malformation (HP:0002308); excluded: Global developmental delay (HP:0001263); excluded: Dilatation of the cerebral artery (HP:0004944); excluded: Disproportionate tall stature (HP:0001519)</td></tr>\n",
       "<tr><td style=\"text-align: left;\">Family 1 III-1 (MALE; P17Y)</td><td style=\"text-align: left;\">Loeys-Dietz syndrome 2 (OMIM:610168)</td><td style=\"text-align: left;\">NM_003242.6:c.1063G>C (heterozygous)</td><td style=\"text-align: left;\">Aortic root aneurysm (HP:0002616); Bicuspid aortic valve (HP:0001647); Arterial tortuosity (HP:0005116); Mitral valve prolapse (HP:0001634); Descending thoracic aorta aneurysm (HP:0004959); Malar flattening (HP:0000272); Bifid uvula (HP:0000193); Joint hypermobility (HP:0001382); Scoliosis (HP:0002650); excluded: Patent ductus arteriosus (HP:0001643); excluded: Dilatation of the ductus arteriosus (HP:0030745); excluded: Dilated left subclavian artery (HP:0031252); excluded: Atrial septal defect (HP:0001631); excluded: Bicuspid pulmonary valve (HP:0005182); excluded: Pulmonary artery aneurysm (HP:0004937); excluded: Cleft palate (HP:0000175); excluded: Retrognathia (HP:0000278); excluded: Craniosynostosis (HP:0001363); excluded: Camptodactyly (HP:0012385); excluded: Arachnodactyly (HP:0001166); excluded: Postaxial polydactyly (HP:0100259); excluded: Soft skin (HP:0000977); excluded: Dermal translucency (HP:0010648); excluded: Talipes equinovarus (HP:0001762); excluded: Ectopia lentis (HP:0001083); excluded: Proptosis (HP:0000520); excluded: Exotropia (HP:0000577); excluded: Hypertelorism (HP:0000316); excluded: Blue sclerae (HP:0000592); excluded: Hydrocephalus (HP:0000238); excluded: Chiari malformation (HP:0002308); excluded: Global developmental delay (HP:0001263); excluded: Dilatation of the cerebral artery (HP:0004944); excluded: Disproportionate tall stature (HP:0001519)</td></tr>\n",
       "<tr><td style=\"text-align: left;\">Family 2 II-1 (FEMALE; P1Y6M)</td><td style=\"text-align: left;\">Loeys-Dietz syndrome 2 (OMIM:610168)</td><td style=\"text-align: left;\">NM_003242.6:c.1583G>A (heterozygous)</td><td style=\"text-align: left;\">Patent ductus arteriosus (HP:0001643); Aortic root aneurysm (HP:0002616); Dilatation of the ductus arteriosus (HP:0030745); Atrial septal defect (HP:0001631); Arterial tortuosity (HP:0005116); Pulmonary artery aneurysm (HP:0004937); Bifid uvula (HP:0000193); Camptodactyly (HP:0012385); Joint hypermobility (HP:0001382); Arachnodactyly (HP:0001166); Dermal translucency (HP:0010648); Hypertelorism (HP:0000316); Blue sclerae (HP:0000592); excluded: Dilated left subclavian artery (HP:0031252); excluded: Bicuspid pulmonary valve (HP:0005182); excluded: Bicuspid aortic valve (HP:0001647); excluded: Mitral valve prolapse (HP:0001634); excluded: Cleft palate (HP:0000175); excluded: Retrognathia (HP:0000278); excluded: Malar flattening (HP:0000272); excluded: Craniosynostosis (HP:0001363); excluded: Scoliosis (HP:0002650); excluded: Postaxial polydactyly (HP:0100259); excluded: Soft skin (HP:0000977); excluded: Talipes equinovarus (HP:0001762); excluded: Ectopia lentis (HP:0001083); excluded: Proptosis (HP:0000520); excluded: Exotropia (HP:0000577); excluded: Hydrocephalus (HP:0000238); excluded: Chiari malformation (HP:0002308); excluded: Global developmental delay (HP:0001263); excluded: Dilatation of the cerebral artery (HP:0004944); excluded: Disproportionate tall stature (HP:0001519)</td></tr>\n",
       "<tr><td style=\"text-align: left;\">Family 3 II-1 (FEMALE; P6Y)</td><td style=\"text-align: left;\">Loeys-Dietz syndrome 2 (OMIM:610168)</td><td style=\"text-align: left;\">NM_003242.6:c.1582C>T (heterozygous)</td><td style=\"text-align: left;\">Aortic root aneurysm (HP:0002616); Arterial tortuosity (HP:0005116); Mitral valve prolapse (HP:0001634); Pulmonary artery aneurysm (HP:0004937); Cleft palate (HP:0000175); Malar flattening (HP:0000272); Bifid uvula (HP:0000193); Camptodactyly (HP:0012385); Arachnodactyly (HP:0001166); Hypertelorism (HP:0000316); excluded: Patent ductus arteriosus (HP:0001643); excluded: Dilatation of the ductus arteriosus (HP:0030745); excluded: Dilated left subclavian artery (HP:0031252); excluded: Atrial septal defect (HP:0001631); excluded: Bicuspid pulmonary valve (HP:0005182); excluded: Bicuspid aortic valve (HP:0001647); excluded: Descending thoracic aorta aneurysm (HP:0004959); excluded: Retrognathia (HP:0000278); excluded: Craniosynostosis (HP:0001363); excluded: Joint hypermobility (HP:0001382); excluded: Scoliosis (HP:0002650); excluded: Postaxial polydactyly (HP:0100259); excluded: Soft skin (HP:0000977); excluded: Dermal translucency (HP:0010648); excluded: Talipes equinovarus (HP:0001762); excluded: Ectopia lentis (HP:0001083); excluded: Proptosis (HP:0000520); excluded: Exotropia (HP:0000577); excluded: Blue sclerae (HP:0000592); excluded: Hydrocephalus (HP:0000238); excluded: Chiari malformation (HP:0002308); excluded: Global developmental delay (HP:0001263); excluded: Dilatation of the cerebral artery (HP:0004944); excluded: Disproportionate tall stature (HP:0001519)</td></tr>\n",
       "<tr><td style=\"text-align: left;\">Family 4 II-1 (MALE; P9Y)</td><td style=\"text-align: left;\">Loeys-Dietz syndrome 2 (OMIM:610168)</td><td style=\"text-align: left;\">NM_003242.6:c.1069G>T (heterozygous)</td><td style=\"text-align: left;\">Patent ductus arteriosus (HP:0001643); Aortic root aneurysm (HP:0002616); Dilatation of the ductus arteriosus (HP:0030745); Dilated left subclavian artery (HP:0031252); Atrial septal defect (HP:0001631); Bicuspid pulmonary valve (HP:0005182); Bicuspid aortic valve (HP:0001647); Arterial tortuosity (HP:0005116); Pulmonary artery aneurysm (HP:0004937); Descending thoracic aorta aneurysm (HP:0004959); Cleft palate (HP:0000175); Retrognathia (HP:0000278); Malar flattening (HP:0000272); Craniosynostosis (HP:0001363); Bifid uvula (HP:0000193); Camptodactyly (HP:0012385); Joint hypermobility (HP:0001382); Arachnodactyly (HP:0001166); Postaxial polydactyly (HP:0100259); Soft skin (HP:0000977); Talipes equinovarus (HP:0001762); Proptosis (HP:0000520); Exotropia (HP:0000577); Hypertelorism (HP:0000316); Blue sclerae (HP:0000592); Hydrocephalus (HP:0000238); Chiari malformation (HP:0002308); Dural ectasia (HP:0100775); Global developmental delay (HP:0001263); Dilatation of the cerebral artery (HP:0004944); excluded: Mitral valve prolapse (HP:0001634); excluded: Scoliosis (HP:0002650); excluded: Dermal translucency (HP:0010648); excluded: Ectopia lentis (HP:0001083); excluded: Disproportionate tall stature (HP:0001519)</td></tr>\n",
       "<tr><td style=\"text-align: left;\">Family 5 II-1 (MALE; P3Y)</td><td style=\"text-align: left;\">Loeys-Dietz syndrome 2 (OMIM:610168)</td><td style=\"text-align: left;\">NM_003242.6:c.95-2A>G (heterozygous)</td><td style=\"text-align: left;\">Aortic root aneurysm (HP:0002616); Atrial septal defect (HP:0001631); Arterial tortuosity (HP:0005116); Mitral valve prolapse (HP:0001634); Pulmonary artery aneurysm (HP:0004937); Craniosynostosis (HP:0001363); Joint hypermobility (HP:0001382); Scoliosis (HP:0002650); Arachnodactyly (HP:0001166); Dermal translucency (HP:0010648); Proptosis (HP:0000520); Exotropia (HP:0000577); Hypertelorism (HP:0000316); Hydrocephalus (HP:0000238); Chiari malformation (HP:0002308); Global developmental delay (HP:0001263); Dilatation of the cerebral artery (HP:0004944); Disproportionate tall stature (HP:0001519); excluded: Dilated left subclavian artery (HP:0031252); excluded: Cleft palate (HP:0000175); excluded: Retrognathia (HP:0000278); excluded: Camptodactyly (HP:0012385); excluded: Postaxial polydactyly (HP:0100259); excluded: Talipes equinovarus (HP:0001762); excluded: Ectopia lentis (HP:0001083)</td></tr>\n",
       "<tr><td style=\"text-align: left;\">Family 6 I-2 (MALE; P36Y)</td><td style=\"text-align: left;\">Loeys-Dietz syndrome 2 (OMIM:610168)</td><td style=\"text-align: left;\">NM_003242.6:c.1006T>A (heterozygous)</td><td style=\"text-align: left;\">Aortic root aneurysm (HP:0002616); Arterial tortuosity (HP:0005116); Retrognathia (HP:0000278); Malar flattening (HP:0000272); Bifid uvula (HP:0000193); Joint hypermobility (HP:0001382); Scoliosis (HP:0002650); Dermal translucency (HP:0010648); Talipes equinovarus (HP:0001762); Proptosis (HP:0000520); Exotropia (HP:0000577); Hypertelorism (HP:0000316); Blue sclerae (HP:0000592); excluded: Patent ductus arteriosus (HP:0001643); excluded: Dilatation of the ductus arteriosus (HP:0030745); excluded: Atrial septal defect (HP:0001631); excluded: Bicuspid aortic valve (HP:0001647); excluded: Mitral valve prolapse (HP:0001634); excluded: Pulmonary artery aneurysm (HP:0004937); excluded: Descending thoracic aorta aneurysm (HP:0004959); excluded: Cleft palate (HP:0000175); excluded: Camptodactyly (HP:0012385); excluded: Arachnodactyly (HP:0001166); excluded: Postaxial polydactyly (HP:0100259); excluded: Soft skin (HP:0000977); excluded: Ectopia lentis (HP:0001083); excluded: Hydrocephalus (HP:0000238); excluded: Dural ectasia (HP:0100775); excluded: Global developmental delay (HP:0001263); excluded: Dilatation of the cerebral artery (HP:0004944); excluded: Disproportionate tall stature (HP:0001519)</td></tr>\n",
       "<tr><td style=\"text-align: left;\">Family 6 II-1 (FEMALE; P10Y)</td><td style=\"text-align: left;\">Loeys-Dietz syndrome 2 (OMIM:610168)</td><td style=\"text-align: left;\">NM_003242.6:c.1006T>A (heterozygous)</td><td style=\"text-align: left;\">Patent ductus arteriosus (HP:0001643); Aortic root aneurysm (HP:0002616); Pulmonary artery aneurysm (HP:0004937); Retrognathia (HP:0000278); Malar flattening (HP:0000272); Bifid uvula (HP:0000193); Joint hypermobility (HP:0001382); Scoliosis (HP:0002650); Arachnodactyly (HP:0001166); Soft skin (HP:0000977); Dermal translucency (HP:0010648); Talipes equinovarus (HP:0001762); Proptosis (HP:0000520); Exotropia (HP:0000577); Hypertelorism (HP:0000316); Blue sclerae (HP:0000592); excluded: Dilatation of the ductus arteriosus (HP:0030745); excluded: Dilated left subclavian artery (HP:0031252); excluded: Atrial septal defect (HP:0001631); excluded: Bicuspid aortic valve (HP:0001647); excluded: Mitral valve prolapse (HP:0001634); excluded: Descending thoracic aorta aneurysm (HP:0004959); excluded: Cleft palate (HP:0000175); excluded: Camptodactyly (HP:0012385); excluded: Postaxial polydactyly (HP:0100259); excluded: Ectopia lentis (HP:0001083); excluded: Hydrocephalus (HP:0000238); excluded: Global developmental delay (HP:0001263); excluded: Dilatation of the cerebral artery (HP:0004944); excluded: Disproportionate tall stature (HP:0001519)</td></tr>\n",
       "<tr><td style=\"text-align: left;\">Family 6 II-2 (FEMALE; P6Y)</td><td style=\"text-align: left;\">Loeys-Dietz syndrome 2 (OMIM:610168)</td><td style=\"text-align: left;\">NM_003242.6:c.1006T>A (heterozygous)</td><td style=\"text-align: left;\">Patent ductus arteriosus (HP:0001643); Aortic root aneurysm (HP:0002616); Dilatation of the ductus arteriosus (HP:0030745); Retrognathia (HP:0000278); Malar flattening (HP:0000272); Bifid uvula (HP:0000193); Camptodactyly (HP:0012385); Joint hypermobility (HP:0001382); Scoliosis (HP:0002650); Arachnodactyly (HP:0001166); Soft skin (HP:0000977); Dermal translucency (HP:0010648); Proptosis (HP:0000520); Exotropia (HP:0000577); Hypertelorism (HP:0000316); Blue sclerae (HP:0000592); excluded: Atrial septal defect (HP:0001631); excluded: Bicuspid aortic valve (HP:0001647); excluded: Mitral valve prolapse (HP:0001634); excluded: Pulmonary artery aneurysm (HP:0004937); excluded: Descending thoracic aorta aneurysm (HP:0004959); excluded: Cleft palate (HP:0000175); excluded: Postaxial polydactyly (HP:0100259); excluded: Talipes equinovarus (HP:0001762); excluded: Ectopia lentis (HP:0001083); excluded: Hydrocephalus (HP:0000238); excluded: Global developmental delay (HP:0001263); excluded: Dilatation of the cerebral artery (HP:0004944); excluded: Disproportionate tall stature (HP:0001519)</td></tr>\n",
       "<tr><td style=\"text-align: left;\">II-2 (MALE; n/a)</td><td style=\"text-align: left;\">Loeys-Dietz syndrome 2 (OMIM:610168)</td><td style=\"text-align: left;\">NM_003242.6:c.1067G>C (heterozygous)</td><td style=\"text-align: left;\">Aortic root aneurysm (HP:0002616); Dilatation of the ductus arteriosus (HP:0030745); Arterial tortuosity (HP:0005116); Cleft palate (HP:0000175); Retrognathia (HP:0000278); Malar flattening (HP:0000272); Bifid uvula (HP:0000193); Camptodactyly (HP:0012385); Joint hypermobility (HP:0001382); Arachnodactyly (HP:0001166); Soft skin (HP:0000977); Proptosis (HP:0000520); Exotropia (HP:0000577); Hypertelorism (HP:0000316); Disproportionate tall stature (HP:0001519); excluded: Patent ductus arteriosus (HP:0001643); excluded: Atrial septal defect (HP:0001631); excluded: Bicuspid aortic valve (HP:0001647); excluded: Mitral valve prolapse (HP:0001634); excluded: Pulmonary artery aneurysm (HP:0004937); excluded: Descending thoracic aorta aneurysm (HP:0004959); excluded: Craniosynostosis (HP:0001363); excluded: Scoliosis (HP:0002650); excluded: Postaxial polydactyly (HP:0100259); excluded: Dermal translucency (HP:0010648); excluded: Talipes equinovarus (HP:0001762); excluded: Ectopia lentis (HP:0001083); excluded: Blue sclerae (HP:0000592); excluded: Hydrocephalus (HP:0000238); excluded: Chiari malformation (HP:0002308); excluded: Dural ectasia (HP:0100775); excluded: Global developmental delay (HP:0001263); excluded: Dilatation of the cerebral artery (HP:0004944)</td></tr>\n",
       "<tr><td style=\"text-align: left;\">patient (MALE; P24Y)</td><td style=\"text-align: left;\">Loeys-Dietz syndrome 2 (OMIM:610168)</td><td style=\"text-align: left;\">NM_003242.6:c.1483C>T (heterozygous)</td><td style=\"text-align: left;\">Arterial tortuosity (HP:0005116); Retrognathia (HP:0000278); Bifid uvula (HP:0000193); Camptodactyly (HP:0012385); Joint hypermobility (HP:0001382); Scoliosis (HP:0002650); Pectus excavatum (HP:0000767); Hypertelorism (HP:0000316); excluded: Ascending aortic dissection (HP:0004933); excluded: Patent ductus arteriosus (HP:0001643); excluded: Aortic root aneurysm (HP:0002616); excluded: Dilatation of the ductus arteriosus (HP:0030745); excluded: Atrial septal defect (HP:0001631); excluded: Bicuspid pulmonary valve (HP:0005182); excluded: Bicuspid aortic valve (HP:0001647); excluded: Malar flattening (HP:0000272); excluded: Craniosynostosis (HP:0001363); excluded: Pectus carinatum (HP:0000768); excluded: Arachnodactyly (HP:0001166); excluded: Talipes equinovarus (HP:0001762); excluded: Ectopia lentis (HP:0001083); excluded: Blue sclerae (HP:0000592); excluded: Hydrocephalus (HP:0000238); excluded: Chiari malformation (HP:0002308); excluded: Dural ectasia (HP:0100775); excluded: Global developmental delay (HP:0001263); excluded: Disproportionate tall stature (HP:0001519)</td></tr>\n",
       "<tr><td style=\"text-align: left;\">father (MALE; P54Y)</td><td style=\"text-align: left;\">Loeys-Dietz syndrome 2 (OMIM:610168)</td><td style=\"text-align: left;\">NM_003242.6:c.1483C>T (heterozygous)</td><td style=\"text-align: left;\"><b>P45Y</b>: Ascending aortic dissection (HP:0004933)<br/>Aortic root aneurysm (HP:0002616); Arterial tortuosity (HP:0005116); Camptodactyly (HP:0012385); Joint hypermobility (HP:0001382); Scoliosis (HP:0002650); Hypertelorism (HP:0000316); Dural ectasia (HP:0100775); excluded: Patent ductus arteriosus (HP:0001643); excluded: Atrial septal defect (HP:0001631); excluded: Malar flattening (HP:0000272); excluded: Craniosynostosis (HP:0001363); excluded: Pectus excavatum (HP:0000767); excluded: Pectus carinatum (HP:0000768); excluded: Arachnodactyly (HP:0001166); excluded: Talipes equinovarus (HP:0001762); excluded: Ectopia lentis (HP:0001083); excluded: Blue sclerae (HP:0000592); excluded: Hydrocephalus (HP:0000238); excluded: Chiari malformation (HP:0002308); excluded: Global developmental delay (HP:0001263); excluded: Disproportionate tall stature (HP:0001519)</td></tr>\n",
       "<tr><td style=\"text-align: left;\">2-year-old Polish girl (FEMALE; P2Y)</td><td style=\"text-align: left;\">Loeys-Dietz syndrome 2 (OMIM:610168)</td><td style=\"text-align: left;\">NM_003242.6:c.1582C>T (heterozygous)</td><td style=\"text-align: left;\"><b>P1Y4M</b>: Aortic root aneurysm (HP:0002616)<br/>Arterial tortuosity (HP:0005116); Patent foramen ovale (HP:0001655); Cleft palate (HP:0000175); Retrognathia (HP:0000278); Craniosynostosis (HP:0001363); Camptodactyly (HP:0012385); Joint hypermobility (HP:0001382); Arachnodactyly (HP:0001166); Soft skin (HP:0000977); Dermal translucency (HP:0010648); Proptosis (HP:0000520); Hypertelorism (HP:0000316); Blue sclerae (HP:0000592); Hydrocephalus (HP:0000238); excluded: Mitral valve prolapse (HP:0001634); excluded: Malar flattening (HP:0000272); excluded: Bifid uvula (HP:0000193); excluded: Scoliosis (HP:0002650); excluded: Pectus excavatum (HP:0000767); excluded: Pectus carinatum (HP:0000768); excluded: Talipes equinovarus (HP:0001762); excluded: Ectopia lentis (HP:0001083); excluded: Global developmental delay (HP:0001263); excluded: Disproportionate tall stature (HP:0001519)</td></tr>\n",
       "<tr><td style=\"text-align: left;\">7-year-old Japanese boy (MALE; P7Y)</td><td style=\"text-align: left;\">Loeys-Dietz syndrome 2 (OMIM:610168)</td><td style=\"text-align: left;\">NM_003242.6:c.1067G>C (heterozygous)</td><td style=\"text-align: left;\">Talipes equinovarus (HP:0001762); Patent ductus arteriosus (HP:0001643); Aortic root aneurysm (HP:0002616); Arterial tortuosity (HP:0005116); Bifid uvula (HP:0000193); Joint hypermobility (HP:0001382); Scoliosis (HP:0002650); Hypertelorism (HP:0000316); Dural ectasia (HP:0100775); Inguinal hernia (HP:0000023); excluded: Ectopia lentis (HP:0001083)</td></tr>\n",
       "<tr><td style=\"text-align: left;\">proband (MALE; P10Y)</td><td style=\"text-align: left;\">Loeys-Dietz syndrome 2 (OMIM:610168)</td><td style=\"text-align: left;\">NM_003242.6:c.1061T>C (heterozygous)</td><td style=\"text-align: left;\">Aortic root aneurysm (HP:0002616); Arterial tortuosity (HP:0005116); Bifid uvula (HP:0000193); Camptodactyly (HP:0012385); Scoliosis (HP:0002650); Pectus excavatum (HP:0000767); Dermal translucency (HP:0010648); Hypertelorism (HP:0000316); excluded: Ascending aortic dissection (HP:0004933); excluded: Mitral valve prolapse (HP:0001634); excluded: Pectus carinatum (HP:0000768); excluded: Arachnodactyly (HP:0001166); excluded: Ectopia lentis (HP:0001083)</td></tr>\n",
       "<tr><td style=\"text-align: left;\">a male patient (MALE; P42Y)</td><td style=\"text-align: left;\">Loeys-Dietz syndrome 2 (OMIM:610168)</td><td style=\"text-align: left;\">NM_003242.6:c.1255G>T (heterozygous)</td><td style=\"text-align: left;\">Aortic root aneurysm (HP:0002616); Arterial tortuosity (HP:0005116); Retrognathia (HP:0000278); Malar flattening (HP:0000272); Arachnodactyly (HP:0001166); Talipes equinovarus (HP:0001762); excluded: Ascending aortic dissection (HP:0004933); excluded: Patent ductus arteriosus (HP:0001643); excluded: Dilatation of the ductus arteriosus (HP:0030745); excluded: Bicuspid pulmonary valve (HP:0005182); excluded: Bicuspid aortic valve (HP:0001647); excluded: Mitral valve prolapse (HP:0001634); excluded: Pulmonary artery aneurysm (HP:0004937); excluded: Descending thoracic aorta aneurysm (HP:0004959); excluded: Patent foramen ovale (HP:0001655); excluded: Ectopia lentis (HP:0001083)</td></tr>\n",
       "<tr><td style=\"text-align: left;\">II-2 (FEMALE; P42Y)</td><td style=\"text-align: left;\">Loeys-Dietz syndrome 2 (OMIM:610168)</td><td style=\"text-align: left;\">NM_003242.6:c.1613T>C (heterozygous)</td><td style=\"text-align: left;\"><b>P37Y</b>: Ascending aortic dissection (HP:0004933)<br/>Aortic root aneurysm (HP:0002616); Dilated left subclavian artery (HP:0031252); Arterial tortuosity (HP:0005116); excluded: Cleft palate (HP:0000175); excluded: Retrognathia (HP:0000278); excluded: Malar flattening (HP:0000272); excluded: Craniosynostosis (HP:0001363); excluded: Bifid uvula (HP:0000193); excluded: Ectopia lentis (HP:0001083)</td></tr>\n",
       "<tr><td style=\"text-align: left;\">Patient 1 (MALE; P17Y)</td><td style=\"text-align: left;\">Loeys-Dietz syndrome 2 (OMIM:610168)</td><td style=\"text-align: left;\">NM_003242.6:c.923T>C (heterozygous)</td><td style=\"text-align: left;\"><b>P2Y</b>: Inguinal hernia (HP:0000023)<br/>Aortic root aneurysm (HP:0002616); Retrognathia (HP:0000278); Joint hypermobility (HP:0001382); Pectus carinatum (HP:0000768); Arachnodactyly (HP:0001166); Soft skin (HP:0000977); Hypertelorism (HP:0000316); Blue sclerae (HP:0000592); Disproportionate tall stature (HP:0001519); excluded: Ascending aortic dissection (HP:0004933); excluded: Patent ductus arteriosus (HP:0001643); excluded: Dilatation of the ductus arteriosus (HP:0030745); excluded: Dilated left subclavian artery (HP:0031252); excluded: Atrial septal defect (HP:0001631); excluded: Bicuspid pulmonary valve (HP:0005182); excluded: Bicuspid aortic valve (HP:0001647); excluded: Bifid uvula (HP:0000193); excluded: Pectus excavatum (HP:0000767); excluded: Dermal translucency (HP:0010648); excluded: Ectopia lentis (HP:0001083)</td></tr>\n",
       "<tr><td style=\"text-align: left;\">Patient 2 (MALE; P26Y)</td><td style=\"text-align: left;\">Loeys-Dietz syndrome 2 (OMIM:610168)</td><td style=\"text-align: left;\">NM_003242.6:c.1561T>C (heterozygous)</td><td style=\"text-align: left;\"><b>P22Y</b>: Ascending aortic dissection (HP:0004933)<br/>Talipes equinovarus (HP:0001762); Aortic root aneurysm (HP:0002616); Dilated left subclavian artery (HP:0031252); Retrognathia (HP:0000278); Joint hypermobility (HP:0001382); Scoliosis (HP:0002650); Pectus excavatum (HP:0000767); Hypertelorism (HP:0000316); Disproportionate tall stature (HP:0001519); Inguinal hernia (HP:0000023); Osteoporosis (HP:0000939); excluded: Pectus carinatum (HP:0000768); excluded: Ectopia lentis (HP:0001083)</td></tr>\n",
       "</table>"
      ],
      "text/plain": [
       "<IPython.core.display.HTML object>"
      ]
     },
     "metadata": {},
     "output_type": "display_data"
    }
   ],
   "source": [
    "table = IndividualTable(cvalidator.get_error_free_individual_list())\n",
    "display(HTML(table.to_html()))"
   ]
  },
  {
   "cell_type": "code",
   "execution_count": 6,
   "id": "84b1dd2e-fccb-4386-9bf9-06d80339be17",
   "metadata": {},
   "outputs": [
    {
     "name": "stdout",
     "output_type": "stream",
     "text": [
      "[pyphetools] Ingested 20 GA4GH phenopackets.\n",
      "\tLoeys-Dietz syndrome 2 (OMIM:610168): n=20\n",
      "We found a total of 41 unique HPO terms\n",
      "Extracted disease: Loeys-Dietz syndrome 2 (OMIM:610168)\n",
      "Wrote HPOA disease file to OMIM-610168.tab\n"
     ]
    }
   ],
   "source": [
    "PMID = \"PMID:15731757\"\n",
    "df = timporter.create_hpoa_from_phenopackets(pmid=PMID, moi=\"Autosomal dominant\")"
   ]
  },
  {
   "cell_type": "code",
   "execution_count": null,
   "id": "e6b7b59f-c5e3-4dd6-8eb6-04ecfd2d7e01",
   "metadata": {},
   "outputs": [],
   "source": []
  }
 ],
 "metadata": {
  "kernelspec": {
   "display_name": "Python 3 (ipykernel)",
   "language": "python",
   "name": "python3"
  },
  "language_info": {
   "codemirror_mode": {
    "name": "ipython",
    "version": 3
   },
   "file_extension": ".py",
   "mimetype": "text/x-python",
   "name": "python",
   "nbconvert_exporter": "python",
   "pygments_lexer": "ipython3",
   "version": "3.9.6"
  }
 },
 "nbformat": 4,
 "nbformat_minor": 5
}
