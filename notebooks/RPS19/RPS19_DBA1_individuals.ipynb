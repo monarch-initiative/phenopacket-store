{
 "cells": [
  {
   "cell_type": "markdown",
   "metadata": {},
   "source": [
    "# RPS19\n",
    "[Diamond-Blackfan anemia-1 (DBA1)](https://omim.org/entry/105650) is caused by heterozygous mutation in the gene encoding ribosomal protein S19 (RPS19)."
   ]
  },
  {
   "cell_type": "code",
   "execution_count": 1,
   "metadata": {},
   "outputs": [
    {
     "name": "stdout",
     "output_type": "stream",
     "text": [
      "Using pyphetools version 0.9.78\n"
     ]
    },
    {
     "name": "stderr",
     "output_type": "stream",
     "text": [
      "/Users/robin/GIT/phenopacket-store/ps24venv/lib/python3.9/site-packages/urllib3/__init__.py:35: NotOpenSSLWarning: urllib3 v2 only supports OpenSSL 1.1.1+, currently the 'ssl' module is compiled with 'LibreSSL 2.8.3'. See: https://github.com/urllib3/urllib3/issues/3020\n",
      "  warnings.warn(\n"
     ]
    }
   ],
   "source": [
    "from pyphetools.creation import TemplateImporter\n",
    "from pyphetools.visualization import IndividualTable, QcVisualizer\n",
    "from IPython.display import display, HTML\n",
    "import pyphetools\n",
    "print(f\"Using pyphetools version {pyphetools.__version__}\")"
   ]
  },
  {
   "cell_type": "code",
   "execution_count": 5,
   "metadata": {},
   "outputs": [],
   "source": [
    "template = \"input/RPS19_DBA1_individuals.xlsx\"\n",
    "hp_json = \"../hp.json\"\n",
    "created_by = \"0000-0002-0736-9199\""
   ]
  },
  {
   "cell_type": "code",
   "execution_count": 7,
   "metadata": {},
   "outputs": [
    {
     "name": "stdout",
     "output_type": "stream",
     "text": [
      "HPO version 2024-04-04\n",
      "Created encoders for 64 fields\n",
      "Importing OMIM:105650, Diamond-Blackfan anemia 1, HGNC:10402, RPS19,  NM_001022.4\n",
      "[INFO] encoding variant \"c.185G>A\"\n",
      "https://rest.variantvalidator.org/VariantValidator/variantvalidator/hg38/NM_001022.4%3Ac.185G>A/NM_001022.4?content-type=application%2Fjson\n",
      "We output 11 GA4GH phenopackets to the directory phenopackets\n"
     ]
    }
   ],
   "source": [
    "timporter = TemplateImporter(template=template, hp_json=hp_json, created_by=created_by)\n",
    "individual_list, cvalidator = timporter.import_phenopackets_from_template()"
   ]
  },
  {
   "cell_type": "code",
   "execution_count": 8,
   "metadata": {},
   "outputs": [
    {
     "data": {
      "text/html": [
       "<h2>Cohort validation</h2>\n",
       "<p>No errors found for the cohort with 11 individuals</p>"
      ],
      "text/plain": [
       "<IPython.core.display.HTML object>"
      ]
     },
     "metadata": {},
     "output_type": "display_data"
    }
   ],
   "source": [
    "qc = QcVisualizer(cohort_validator=cvalidator)\n",
    "display(HTML(qc.to_summary_html()))"
   ]
  },
  {
   "cell_type": "code",
   "execution_count": 9,
   "metadata": {},
   "outputs": [
    {
     "data": {
      "text/html": [
       "<table style=\"border: 2px solid black; align: \"left\">\n",
       "<caption>11 phenopackets - PMID:27732904 (n=1); PMID:35923690 (n=10)</caption>\n",
       "<tr><th style=\"text-align: left;font-weight: bold;\">Individual</th><th style=\"text-align: left;font-weight: bold;\">Disease</th><th style=\"text-align: left;font-weight: bold;\">Genotype</th><th style=\"text-align: left;font-weight: bold;\">Phenotypic features</th></tr>\n",
       "<tr><td style=\"text-align: left;\">patient (FEMALE; P2M)</td><td style=\"text-align: left;\">Diamond-Blackfan anemia 1 (OMIM:105650)</td><td style=\"text-align: left;\">NM_001022.4:c.251del (heterozygous)</td><td style=\"text-align: left;\"><b>P2M</b>: Pallor (HP:0000980); Increased mean corpuscular volume (HP:0005518); Anemia (HP:0001903)<br/>Intrauterine growth retardation (HP:0001511); excluded: Hypoplastic ilia (HP:0000946); excluded: Bifid thoracic vertebrae (HP:0008437); excluded: Triphalangeal thumb (HP:0001199); excluded: Absent thumb (HP:0009777); excluded: Narrow chest (HP:0000774); excluded: Hypoplasia of the radius (HP:0002984); excluded: 11 pairs of ribs (HP:0000878); excluded: Hypoplastic coccygeal vertebrae (HP:0008447); excluded: Hypoplastic sacral vertebrae (HP:0008475); excluded: Short thumb (HP:0009778); excluded: Delayed cranial suture closure (HP:0000270); excluded: Depressed nasal ridge (HP:0000457); excluded: Retrognathia (HP:0000278); excluded: Microcephaly (HP:0000252); excluded: Cleft palate (HP:0000175); excluded: Hypertelorism (HP:0000316); excluded: Downslanted palpebral fissures (HP:0000494); excluded: Webbed neck (HP:0000465); excluded: Micrognathia (HP:0000347); excluded: Parietal foramina (HP:0002697); excluded: Short neck (HP:0000470); excluded: Cleft lip (HP:0410030); excluded: High palate (HP:0000218); excluded: Global developmental delay (HP:0001263); excluded: Intellectual disability (HP:0001249); excluded: Premature birth (HP:0001622); excluded: Strabismus (HP:0000486); excluded: Failure to thrive (HP:0001508); excluded: Short stature (HP:0004322); excluded: Thrombocytosis (HP:0001894); excluded: Reticulocytopenia (HP:0001896); excluded: Neutropenia (HP:0001875); excluded: Thrombocytopenia (HP:0001873); excluded: Osteosarcoma (HP:0002669); excluded: Colon cancer (HP:0003003); excluded: Coarctation of aorta (HP:0001680); excluded: Atrial septal defect (HP:0001631); excluded: Ventricular septal defect (HP:0001629)</td></tr>\n",
       "<tr><td style=\"text-align: left;\">50–1 (MALE; P62Y)</td><td style=\"text-align: left;\">Diamond-Blackfan anemia 1 (OMIM:105650)</td><td style=\"text-align: left;\">NM_001022.4:c.185G>A (heterozygous)</td><td style=\"text-align: left;\"><b>P44Y</b>: Basal cell carcinoma (HP:0002671)<br/><b>P61Y</b>: Colon cancer (HP:0003003)<br/>Anemia (HP:0001903); Short stature (HP:0004322); Increased mean corpuscular volume (HP:0005518); Elevated red cell adenosine deaminase activity (HP:0030270); Persistence of hemoglobin F (HP:0011904); Small thenar eminence (HP:0001245); excluded: Hypertelorism (HP:0000316); excluded: Spina bifida occulta (HP:0003298); excluded: Global developmental delay (HP:0001263)</td></tr>\n",
       "<tr><td style=\"text-align: left;\">50–2 (MALE; P51Y)</td><td style=\"text-align: left;\">Diamond-Blackfan anemia 1 (OMIM:105650)</td><td style=\"text-align: left;\">NM_001022.4:c.185G>A (heterozygous)</td><td style=\"text-align: left;\">Anemia (HP:0001903); Short stature (HP:0004322); Increased mean corpuscular volume (HP:0005518); Elevated red cell adenosine deaminase activity (HP:0030270); Persistence of hemoglobin F (HP:0011904); Small thenar eminence (HP:0001245); excluded: Hypertelorism (HP:0000316); excluded: Spina bifida occulta (HP:0003298); excluded: Global developmental delay (HP:0001263)</td></tr>\n",
       "<tr><td style=\"text-align: left;\">50–3 (FEMALE; P28Y)</td><td style=\"text-align: left;\">Diamond-Blackfan anemia 1 (OMIM:105650)</td><td style=\"text-align: left;\">NM_001022.4:c.185G>A (heterozygous)</td><td style=\"text-align: left;\">Anemia (HP:0001903); Hypertelorism (HP:0000316); Global developmental delay (HP:0001263); Short stature (HP:0004322); Increased mean corpuscular volume (HP:0005518); Elevated red cell adenosine deaminase activity (HP:0030270); Persistence of hemoglobin F (HP:0011904); Small thenar eminence (HP:0001245); excluded: Spina bifida occulta (HP:0003298)</td></tr>\n",
       "<tr><td style=\"text-align: left;\">50–4 (MALE; P35Y)</td><td style=\"text-align: left;\">Diamond-Blackfan anemia 1 (OMIM:105650)</td><td style=\"text-align: left;\">NM_001022.4:c.185G>A (heterozygous)</td><td style=\"text-align: left;\">Anemia (HP:0001903); Spina bifida occulta (HP:0003298); Short stature (HP:0004322); Increased mean corpuscular volume (HP:0005518); Elevated red cell adenosine deaminase activity (HP:0030270); Persistence of hemoglobin F (HP:0011904); Small thenar eminence (HP:0001245); excluded: Hypertelorism (HP:0000316); excluded: Global developmental delay (HP:0001263)</td></tr>\n",
       "<tr><td style=\"text-align: left;\">50–5 (MALE; P52Y)</td><td style=\"text-align: left;\">Diamond-Blackfan anemia 1 (OMIM:105650)</td><td style=\"text-align: left;\">NM_001022.4:c.185G>A (heterozygous)</td><td style=\"text-align: left;\">Anemia (HP:0001903); Increased mean corpuscular volume (HP:0005518); Elevated red cell adenosine deaminase activity (HP:0030270); excluded: Hypertelorism (HP:0000316); excluded: Spina bifida occulta (HP:0003298); excluded: Global developmental delay (HP:0001263); excluded: Short stature (HP:0004322); excluded: Persistence of hemoglobin F (HP:0011904); excluded: Small thenar eminence (HP:0001245)</td></tr>\n",
       "<tr><td style=\"text-align: left;\">50–6 (FEMALE; P57Y)</td><td style=\"text-align: left;\">Diamond-Blackfan anemia 1 (OMIM:105650)</td><td style=\"text-align: left;\">NM_001022.4:c.185G>A (heterozygous)</td><td style=\"text-align: left;\"><b>P23Y</b>: Anemia (HP:0001903)<br/><b>P56Y</b>: Colon cancer (HP:0003003)<br/>Increased mean corpuscular volume (HP:0005518); Elevated red cell adenosine deaminase activity (HP:0030270); Small thenar eminence (HP:0001245); excluded: Hypertelorism (HP:0000316); excluded: Spina bifida occulta (HP:0003298); excluded: Global developmental delay (HP:0001263); excluded: Short stature (HP:0004322); excluded: Persistence of hemoglobin F (HP:0011904)</td></tr>\n",
       "<tr><td style=\"text-align: left;\">50–7 (MALE; P55Y)</td><td style=\"text-align: left;\">Diamond-Blackfan anemia 1 (OMIM:105650)</td><td style=\"text-align: left;\">NM_001022.4:c.185G>A (heterozygous)</td><td style=\"text-align: left;\"><b>P1M7D</b>: Anemia (HP:0001903)<br/>Short stature (HP:0004322); Increased mean corpuscular volume (HP:0005518); Elevated red cell adenosine deaminase activity (HP:0030270); Persistence of hemoglobin F (HP:0011904); excluded: Hypertelorism (HP:0000316); excluded: Spina bifida occulta (HP:0003298); excluded: Global developmental delay (HP:0001263); excluded: Small thenar eminence (HP:0001245)</td></tr>\n",
       "<tr><td style=\"text-align: left;\">50–8 (FEMALE; P29Y)</td><td style=\"text-align: left;\">Diamond-Blackfan anemia 1 (OMIM:105650)</td><td style=\"text-align: left;\">NM_001022.4:c.185G>A (heterozygous)</td><td style=\"text-align: left;\">Small thenar eminence (HP:0001245); excluded: Hypertelorism (HP:0000316); excluded: Spina bifida occulta (HP:0003298); excluded: Global developmental delay (HP:0001263); excluded: Short stature (HP:0004322); excluded: Increased mean corpuscular volume (HP:0005518); excluded: Anemia (HP:0001903); excluded: Elevated red cell adenosine deaminase activity (HP:0030270); excluded: Persistence of hemoglobin F (HP:0011904)</td></tr>\n",
       "<tr><td style=\"text-align: left;\">50–9 (FEMALE; P30Y)</td><td style=\"text-align: left;\">Diamond-Blackfan anemia 1 (OMIM:105650)</td><td style=\"text-align: left;\">NM_001022.4:c.185G>A (heterozygous)</td><td style=\"text-align: left;\"><b>P1M7D</b>: Anemia (HP:0001903)<br/>Short stature (HP:0004322); Increased mean corpuscular volume (HP:0005518); Elevated red cell adenosine deaminase activity (HP:0030270); Persistence of hemoglobin F (HP:0011904); Small thenar eminence (HP:0001245); excluded: Hypertelorism (HP:0000316); excluded: Spina bifida occulta (HP:0003298); excluded: Global developmental delay (HP:0001263)</td></tr>\n",
       "<tr><td style=\"text-align: left;\">50–10 (MALE; P5Y)</td><td style=\"text-align: left;\">Diamond-Blackfan anemia 1 (OMIM:105650)</td><td style=\"text-align: left;\">NM_001022.4:c.185G>A (heterozygous)</td><td style=\"text-align: left;\">Anemia (HP:0001903); excluded: Hypertelorism (HP:0000316); excluded: Spina bifida occulta (HP:0003298); excluded: Global developmental delay (HP:0001263); excluded: Short stature (HP:0004322); excluded: Small thenar eminence (HP:0001245)</td></tr>\n",
       "</table>"
      ],
      "text/plain": [
       "<IPython.core.display.HTML object>"
      ]
     },
     "metadata": {},
     "output_type": "display_data"
    }
   ],
   "source": [
    "table = IndividualTable(cvalidator.get_error_free_individual_list())\n",
    "display(HTML(table.to_html()))"
   ]
  }
 ],
 "metadata": {
  "kernelspec": {
   "display_name": "ps24venv",
   "language": "python",
   "name": "python3"
  },
  "language_info": {
   "codemirror_mode": {
    "name": "ipython",
    "version": 3
   },
   "file_extension": ".py",
   "mimetype": "text/x-python",
   "name": "python",
   "nbconvert_exporter": "python",
   "pygments_lexer": "ipython3",
   "version": "3.9.6"
  }
 },
 "nbformat": 4,
 "nbformat_minor": 2
}
