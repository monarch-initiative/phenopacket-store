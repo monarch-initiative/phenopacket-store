{
 "cells": [
  {
   "cell_type": "markdown",
   "metadata": {},
   "source": [
    "# TMEM199\n",
    "[congenital disorder of glycosylation type IIp (CDG2P)](https://omim.org/entry/616829) is caused by homozygous or compound heterozygous mutation in the TMEM199 gene."
   ]
  },
  {
   "cell_type": "code",
   "execution_count": 1,
   "metadata": {},
   "outputs": [
    {
     "name": "stdout",
     "output_type": "stream",
     "text": [
      "Using pyphetools version 0.9.84\n"
     ]
    },
    {
     "name": "stderr",
     "output_type": "stream",
     "text": [
      "/Users/robin/GIT/phenopacket-store/ps24venv/lib/python3.9/site-packages/urllib3/__init__.py:35: NotOpenSSLWarning: urllib3 v2 only supports OpenSSL 1.1.1+, currently the 'ssl' module is compiled with 'LibreSSL 2.8.3'. See: https://github.com/urllib3/urllib3/issues/3020\n",
      "  warnings.warn(\n"
     ]
    }
   ],
   "source": [
    "from pyphetools.creation import TemplateImporter\n",
    "from pyphetools.visualization import IndividualTable, QcVisualizer\n",
    "from IPython.display import display, HTML\n",
    "import pyphetools\n",
    "print(f\"Using pyphetools version {pyphetools.__version__}\")"
   ]
  },
  {
   "cell_type": "code",
   "execution_count": 2,
   "metadata": {},
   "outputs": [],
   "source": [
    "template = \"input/TMEM199_CDG2P_individuals.xlsx\"\n",
    "created_by = \"0000-0002-0736-9199\""
   ]
  },
  {
   "cell_type": "code",
   "execution_count": 3,
   "metadata": {},
   "outputs": [
    {
     "name": "stdout",
     "output_type": "stream",
     "text": [
      "HPO version 2024-04-26\n",
      "Created encoders for 32 fields\n",
      "Importing OMIM:616829, Congenital disorder of glycosylation, type Iip, HGNC:18085, TMEM199,  NM_152464.3\n",
      "[INFO] encoding variant \"c.13_14del\"\n",
      "https://rest.variantvalidator.org/VariantValidator/variantvalidator/hg38/NM_152464.3%3Ac.13_14del/NM_152464.3?content-type=application%2Fjson\n",
      "We output 7 GA4GH phenopackets to the directory phenopackets\n"
     ]
    }
   ],
   "source": [
    "timporter = TemplateImporter(template=template,  created_by=created_by)\n",
    "individual_list, cvalidator = timporter.import_phenopackets_from_template()"
   ]
  },
  {
   "cell_type": "code",
   "execution_count": 4,
   "metadata": {},
   "outputs": [
    {
     "data": {
      "text/html": [
       "<h2>Cohort validation</h2>\n",
       "<p>No errors found for the cohort with 7 individuals</p>"
      ],
      "text/plain": [
       "<IPython.core.display.HTML object>"
      ]
     },
     "metadata": {},
     "output_type": "display_data"
    }
   ],
   "source": [
    "qc = QcVisualizer(cohort_validator=cvalidator)\n",
    "display(HTML(qc.to_summary_html()))"
   ]
  },
  {
   "cell_type": "code",
   "execution_count": 5,
   "metadata": {},
   "outputs": [
    {
     "data": {
      "text/html": [
       "<table style=\"border: 2px solid black; align: \"left\">\n",
       "<caption>7 phenopackets - PMID:26833330 (n=4); PMID:29321044 (n=3)</caption>\n",
       "<tr><th style=\"text-align: left;font-weight: bold;\">Individual</th><th style=\"text-align: left;font-weight: bold;\">Disease</th><th style=\"text-align: left;font-weight: bold;\">Genotype</th><th style=\"text-align: left;font-weight: bold;\">Phenotypic features</th></tr>\n",
       "<tr><td style=\"text-align: left;\">F1-II2 (MALE; P23Y)</td><td style=\"text-align: left;\">Congenital disorder of glycosylation, type Iip (OMIM:616829)</td><td style=\"text-align: left;\">NM_152464.3:c.20C>A (homozygous)</td><td style=\"text-align: left;\">Hypercholesterolemia (HP:0003124); Elevated circulating aspartate aminotransferase concentration (HP:0031956); Elevated circulating alanine aminotransferase concentration (HP:0031964); Elevated circulating alkaline phosphatase concentration (HP:0003155); Increased LDL cholesterol concentration (HP:0003141); Decreased circulating ceruloplasmin concentration (HP:0010837); Hepatic steatosis (HP:0001397); Hepatic fibrosis (HP:0001395); Type II transferrin isoform profile (HP:0012301); Copper accumulation in liver (HP:0025321); excluded: Hypotonia (HP:0001252); excluded: Global developmental delay (HP:0001263); excluded: Hepatomegaly (HP:0002240)</td></tr>\n",
       "<tr><td style=\"text-align: left;\">F1-II3 (MALE; P15Y)</td><td style=\"text-align: left;\">Congenital disorder of glycosylation, type Iip (OMIM:616829)</td><td style=\"text-align: left;\">NM_152464.3:c.20C>A (homozygous)</td><td style=\"text-align: left;\">Hypercholesterolemia (HP:0003124); Elevated circulating aspartate aminotransferase concentration (HP:0031956); Elevated circulating alanine aminotransferase concentration (HP:0031964); Elevated circulating alkaline phosphatase concentration (HP:0003155); Increased LDL cholesterol concentration (HP:0003141); Decreased circulating ceruloplasmin concentration (HP:0010837); Hepatic steatosis (HP:0001397); Hepatic fibrosis (HP:0001395); Type II transferrin isoform profile (HP:0012301); excluded: Hypotonia (HP:0001252); excluded: Global developmental delay (HP:0001263); excluded: Hepatomegaly (HP:0002240)</td></tr>\n",
       "<tr><td style=\"text-align: left;\">F2-II2 (MALE; P41Y)</td><td style=\"text-align: left;\">Congenital disorder of glycosylation, type Iip (OMIM:616829)</td><td style=\"text-align: left;\"><ul> <li>NM_152464.3:c.40G>C (heterozygous)</li> <li>NM_152464.3:c.376-1G>A (heterozygous)</li> </ul></td><td style=\"text-align: left;\">Hypercholesterolemia (HP:0003124); Elevated circulating aspartate aminotransferase concentration (HP:0031956); Elevated circulating alanine aminotransferase concentration (HP:0031964); Elevated circulating alkaline phosphatase concentration (HP:0003155); Increased LDL cholesterol concentration (HP:0003141); Decreased circulating ceruloplasmin concentration (HP:0010837); Hepatic steatosis (HP:0001397); Hepatic fibrosis (HP:0001395); Type II transferrin isoform profile (HP:0012301); excluded: Hypotonia (HP:0001252); excluded: Global developmental delay (HP:0001263); excluded: Hepatomegaly (HP:0002240)</td></tr>\n",
       "<tr><td style=\"text-align: left;\">F3-II1 (FEMALE; P23Y)</td><td style=\"text-align: left;\">Congenital disorder of glycosylation, type Iip (OMIM:616829)</td><td style=\"text-align: left;\"><ul> <li>NM_152464.3:c.92G>C (heterozygous)</li> <li>NM_152464.3:c.92G>C (heterozygous)</li> </ul></td><td style=\"text-align: left;\"><b>P3M</b>: Hypotonia (HP:0001252)<br/>Global developmental delay (HP:0001263); Hypercholesterolemia (HP:0003124); Elevated circulating aspartate aminotransferase concentration (HP:0031956); Elevated circulating alanine aminotransferase concentration (HP:0031964); Elevated circulating alkaline phosphatase concentration (HP:0003155); Increased LDL cholesterol concentration (HP:0003141); Decreased circulating ceruloplasmin concentration (HP:0010837); Hepatic fibrosis (HP:0001395); Type II transferrin isoform profile (HP:0012301); excluded: Hepatomegaly (HP:0002240)</td></tr>\n",
       "<tr><td style=\"text-align: left;\">Patient 1 (FEMALE; P27Y)</td><td style=\"text-align: left;\">Congenital disorder of glycosylation, type Iip (OMIM:616829)</td><td style=\"text-align: left;\"><ul> <li>NM_152464.3:c.92G>C (heterozygous)</li> <li>NM_152464.3:c.13_14del (heterozygous)</li> </ul></td><td style=\"text-align: left;\"><b>P2Y</b>: Hypercholesterolemia (HP:0003124); Elevated circulating aspartate aminotransferase concentration (HP:0031956); Elevated circulating alanine aminotransferase concentration (HP:0031964); Elevated circulating alkaline phosphatase concentration (HP:0003155); Increased LDL cholesterol concentration (HP:0003141); Decreased circulating ceruloplasmin concentration (HP:0010837); Decreased circulating copper concentration (HP:0011967); Elevated circulating creatine kinase concentration (HP:0003236); Type II transferrin isoform profile (HP:0012301); Hepatomegaly (HP:0002240)<br/><b>P6Y</b>: Hepatic steatosis (HP:0001397); Copper accumulation in liver (HP:0025321)<br/>excluded: Hypotonia (HP:0001252); excluded: Global developmental delay (HP:0001263); excluded: Hepatic fibrosis (HP:0001395)</td></tr>\n",
       "<tr><td style=\"text-align: left;\">Patient 2 (MALE; P24Y)</td><td style=\"text-align: left;\">Congenital disorder of glycosylation, type Iip (OMIM:616829)</td><td style=\"text-align: left;\"><ul> <li>NM_152464.3:c.92G>C (heterozygous)</li> <li>NM_152464.3:c.13_14del (heterozygous)</li> </ul></td><td style=\"text-align: left;\"><b>P2Y</b>: Hypercholesterolemia (HP:0003124); Elevated circulating aspartate aminotransferase concentration (HP:0031956); Elevated circulating alanine aminotransferase concentration (HP:0031964); Elevated circulating alkaline phosphatase concentration (HP:0003155); Increased LDL cholesterol concentration (HP:0003141); Decreased circulating ceruloplasmin concentration (HP:0010837); Decreased circulating copper concentration (HP:0011967); Elevated circulating creatine kinase concentration (HP:0003236); Hepatic steatosis (HP:0001397); Type II transferrin isoform profile (HP:0012301); Copper accumulation in liver (HP:0025321); Hepatomegaly (HP:0002240)<br/>excluded: Hypotonia (HP:0001252); excluded: Global developmental delay (HP:0001263); excluded: Hepatic fibrosis (HP:0001395)</td></tr>\n",
       "<tr><td style=\"text-align: left;\">Patient 3 (MALE; P2Y4M)</td><td style=\"text-align: left;\">Congenital disorder of glycosylation, type Iip (OMIM:616829)</td><td style=\"text-align: left;\"><ul> <li>NM_152464.3:c.92G>C (heterozygous)</li> <li>NM_152464.3:c.13_14del (heterozygous)</li> </ul></td><td style=\"text-align: left;\"><b>P10M</b>: Elevated circulating aspartate aminotransferase concentration (HP:0031956); Elevated circulating alanine aminotransferase concentration (HP:0031964); Elevated circulating alkaline phosphatase concentration (HP:0003155); Decreased circulating ceruloplasmin concentration (HP:0010837); Decreased circulating copper concentration (HP:0011967); Elevated circulating creatine kinase concentration (HP:0003236); Type II transferrin isoform profile (HP:0012301); Hepatomegaly (HP:0002240)<br/>Hepatic fibrosis (HP:0001395); excluded: Hypercholesterolemia (HP:0003124); excluded: Increased LDL cholesterol concentration (HP:0003141); excluded: Hypotonia (HP:0001252); excluded: Global developmental delay (HP:0001263)</td></tr>\n",
       "</table>"
      ],
      "text/plain": [
       "<IPython.core.display.HTML object>"
      ]
     },
     "metadata": {},
     "output_type": "display_data"
    }
   ],
   "source": [
    "table = IndividualTable(cvalidator.get_error_free_individual_list())\n",
    "display(HTML(table.to_html()))"
   ]
  },
  {
   "cell_type": "code",
   "execution_count": 6,
   "metadata": {},
   "outputs": [
    {
     "name": "stdout",
     "output_type": "stream",
     "text": [
      "[pyphetools] Ingested 7 GA4GH phenopackets.\n",
      "\tCongenital disorder of glycosylation, type Iip (OMIM:616829): n=7\n",
      "We found a total of 15 unique HPO terms\n",
      "Extracted disease: Congenital disorder of glycosylation, type Iip (OMIM:616829)\n",
      "Wrote HPOA disease file to OMIM-616829.tab\n"
     ]
    }
   ],
   "source": [
    "pmid = \"PMID:26833330\"\n",
    "df = timporter.create_hpoa_from_phenopackets(pmid=pmid, moi=\"Autosomal recessive\")"
   ]
  }
 ],
 "metadata": {
  "kernelspec": {
   "display_name": "ps24venv",
   "language": "python",
   "name": "python3"
  },
  "language_info": {
   "codemirror_mode": {
    "name": "ipython",
    "version": 3
   },
   "file_extension": ".py",
   "mimetype": "text/x-python",
   "name": "python",
   "nbconvert_exporter": "python",
   "pygments_lexer": "ipython3",
   "version": "3.9.6"
  }
 },
 "nbformat": 4,
 "nbformat_minor": 2
}
