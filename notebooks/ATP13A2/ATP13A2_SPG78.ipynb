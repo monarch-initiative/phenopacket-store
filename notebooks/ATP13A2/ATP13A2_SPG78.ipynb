{
 "cells": [
  {
   "cell_type": "markdown",
   "id": "a7522459-1476-4119-982e-e80603fb8618",
   "metadata": {},
   "source": [
    "# ATP13A2 SPG78\n",
    "Variants in the gene for ATPase 13A2 (ATP13A2) are associated with\n",
    "- [Kufor-Rakeb syndrome](https://omim.org/entry/606693) \t\n",
    "- [Spastic paraplegia 78, autosomal recessive](https://omim.org/entry/617225)"
   ]
  },
  {
   "cell_type": "code",
   "execution_count": 1,
   "id": "17a3e4f9-d191-406c-a997-d08e662246e5",
   "metadata": {},
   "outputs": [
    {
     "name": "stdout",
     "output_type": "stream",
     "text": [
      "Using pyphetools version 0.9.61\n"
     ]
    }
   ],
   "source": [
    "import pandas as pd\n",
    "from IPython.display import display, HTML\n",
    "pd.set_option('display.max_colwidth', None) # show entire column contents, important!\n",
    "from collections import defaultdict\n",
    "from pyphetools.creation import *\n",
    "from pyphetools.visualization import IndividualTable, QcVisualizer\n",
    "from pyphetools.validation import *\n",
    "import pyphetools\n",
    "print(f\"Using pyphetools version {pyphetools.__version__}\")"
   ]
  },
  {
   "cell_type": "code",
   "execution_count": 2,
   "id": "a4bb4694-b406-4e08-96dc-bc7c84a0d88d",
   "metadata": {},
   "outputs": [
    {
     "name": "stdout",
     "output_type": "stream",
     "text": [
      "HPO version 2024-02-27\n"
     ]
    }
   ],
   "source": [
    "parser = HpoParser(hpo_json_file=\"../hp.json\")\n",
    "hpo_cr = parser.get_hpo_concept_recognizer()\n",
    "hpo_version = parser.get_version()\n",
    "hpo_ontology = parser.get_ontology()\n",
    "created_by=\"ORCID:0000-0002-0736-9199\"\n",
    "print(f\"HPO version {hpo_version}\")"
   ]
  },
  {
   "cell_type": "code",
   "execution_count": 3,
   "id": "d93a7b5c-11b9-4f47-bd8e-8a74cc20b3f0",
   "metadata": {},
   "outputs": [
    {
     "data": {
      "text/html": [
       "<div>\n",
       "<style scoped>\n",
       "    .dataframe tbody tr th:only-of-type {\n",
       "        vertical-align: middle;\n",
       "    }\n",
       "\n",
       "    .dataframe tbody tr th {\n",
       "        vertical-align: top;\n",
       "    }\n",
       "\n",
       "    .dataframe thead th {\n",
       "        text-align: right;\n",
       "    }\n",
       "</style>\n",
       "<table border=\"1\" class=\"dataframe\">\n",
       "  <thead>\n",
       "    <tr style=\"text-align: right;\">\n",
       "      <th></th>\n",
       "      <th>PMID</th>\n",
       "      <th>title</th>\n",
       "      <th>individual_id</th>\n",
       "      <th>comment</th>\n",
       "      <th>disease_id</th>\n",
       "      <th>disease_label</th>\n",
       "      <th>HGNC_id</th>\n",
       "      <th>gene_symbol</th>\n",
       "      <th>transcript</th>\n",
       "      <th>allele_1</th>\n",
       "      <th>...</th>\n",
       "      <th>Cerebellar atrophy</th>\n",
       "      <th>Cerebral cortical atrophy</th>\n",
       "      <th>Spastic paraplegia</th>\n",
       "      <th>Neurogenic bladder</th>\n",
       "      <th>Dementia</th>\n",
       "      <th>Aggressive behavior</th>\n",
       "      <th>Hyperreflexia</th>\n",
       "      <th>Dysdiadochokinesis</th>\n",
       "      <th>Miscellaneous</th>\n",
       "      <th>Bilateral tonic-clonic seizure</th>\n",
       "    </tr>\n",
       "  </thead>\n",
       "  <tbody>\n",
       "    <tr>\n",
       "      <th>0</th>\n",
       "      <td>CURIE</td>\n",
       "      <td>str</td>\n",
       "      <td>str</td>\n",
       "      <td>optional</td>\n",
       "      <td>CURIE</td>\n",
       "      <td>str</td>\n",
       "      <td>CURIE</td>\n",
       "      <td>str</td>\n",
       "      <td>str</td>\n",
       "      <td>str</td>\n",
       "      <td>...</td>\n",
       "      <td>HP:0001272</td>\n",
       "      <td>HP:0002120</td>\n",
       "      <td>HP:0001258</td>\n",
       "      <td>HP:0000011</td>\n",
       "      <td>HP:0000726</td>\n",
       "      <td>HP:0000718</td>\n",
       "      <td>HP:0001347</td>\n",
       "      <td>HP:0002075</td>\n",
       "      <td>Miscellaneous</td>\n",
       "      <td>HP:0002069</td>\n",
       "    </tr>\n",
       "    <tr>\n",
       "      <th>1</th>\n",
       "      <td>PMID:28137957</td>\n",
       "      <td>Loss-of-function mutations in the ATP13A2/PARK9 gene cause complicated hereditary spastic paraplegia (SPG78)</td>\n",
       "      <td>HSP84.II.1</td>\n",
       "      <td>NaN</td>\n",
       "      <td>OMIM:617225</td>\n",
       "      <td>Spastic paraplegia 78, autosomal recessive</td>\n",
       "      <td>HGNC:30213</td>\n",
       "      <td>ATP13A2</td>\n",
       "      <td>NM_022089.4</td>\n",
       "      <td>c.1550C&gt;T</td>\n",
       "      <td>...</td>\n",
       "      <td>observed</td>\n",
       "      <td>observed</td>\n",
       "      <td>excluded</td>\n",
       "      <td>excluded</td>\n",
       "      <td>excluded</td>\n",
       "      <td>excluded</td>\n",
       "      <td>na</td>\n",
       "      <td>na</td>\n",
       "      <td>NaN</td>\n",
       "      <td>NaN</td>\n",
       "    </tr>\n",
       "  </tbody>\n",
       "</table>\n",
       "<p>2 rows × 39 columns</p>\n",
       "</div>"
      ],
      "text/plain": [
       "            PMID  \\\n",
       "0          CURIE   \n",
       "1  PMID:28137957   \n",
       "\n",
       "                                                                                                          title  \\\n",
       "0                                                                                                           str   \n",
       "1  Loss-of-function mutations in the ATP13A2/PARK9 gene cause complicated hereditary spastic paraplegia (SPG78)   \n",
       "\n",
       "  individual_id   comment   disease_id  \\\n",
       "0           str  optional        CURIE   \n",
       "1    HSP84.II.1       NaN  OMIM:617225   \n",
       "\n",
       "                                disease_label     HGNC_id gene_symbol  \\\n",
       "0                                         str       CURIE         str   \n",
       "1  Spastic paraplegia 78, autosomal recessive  HGNC:30213     ATP13A2   \n",
       "\n",
       "    transcript   allele_1  ... Cerebellar atrophy Cerebral cortical atrophy  \\\n",
       "0          str        str  ...         HP:0001272                HP:0002120   \n",
       "1  NM_022089.4  c.1550C>T  ...           observed                  observed   \n",
       "\n",
       "  Spastic paraplegia Neurogenic bladder    Dementia Aggressive behavior  \\\n",
       "0         HP:0001258         HP:0000011  HP:0000726          HP:0000718   \n",
       "1           excluded           excluded    excluded            excluded   \n",
       "\n",
       "  Hyperreflexia Dysdiadochokinesis  Miscellaneous  \\\n",
       "0    HP:0001347         HP:0002075  Miscellaneous   \n",
       "1            na                 na            NaN   \n",
       "\n",
       "  Bilateral tonic-clonic seizure  \n",
       "0                     HP:0002069  \n",
       "1                            NaN  \n",
       "\n",
       "[2 rows x 39 columns]"
      ]
     },
     "execution_count": 3,
     "metadata": {},
     "output_type": "execute_result"
    }
   ],
   "source": [
    "df = pd.read_excel(\"input/ATP13A2_SPG78_individuals.xlsx\")\n",
    "df.head(2)"
   ]
  },
  {
   "cell_type": "code",
   "execution_count": 4,
   "id": "1cff95b2-1a96-45e7-b944-d57e39e6511b",
   "metadata": {},
   "outputs": [
    {
     "name": "stdout",
     "output_type": "stream",
     "text": [
      "Created encoders for 39 fields\n"
     ]
    }
   ],
   "source": [
    "encoder = CaseTemplateEncoder(df=df, hpo_cr=hpo_cr, created_by=created_by, hpo_ontology=hpo_ontology)\n",
    "individuals = encoder.get_individuals()"
   ]
  },
  {
   "cell_type": "code",
   "execution_count": 5,
   "id": "0b99b9ea-cc2f-4db8-943b-a1caedf7d8af",
   "metadata": {},
   "outputs": [],
   "source": [
    "vmanager = VariantManager(df=df,\n",
    "                          individual_column_name=\"individual_id\",\n",
    "                          gene_symbol=\"ATP13A2\",\n",
    "                          transcript=\"NM_022089.4\",\n",
    "                          allele_1_column_name=\"allele_1\",\n",
    "                          allele_2_column_name=\"allele_2\")"
   ]
  },
  {
   "cell_type": "code",
   "execution_count": 6,
   "id": "e4dc1d3f-9ab3-4848-b098-2c5d9d9643f0",
   "metadata": {},
   "outputs": [
    {
     "data": {
      "text/html": [
       "<div>\n",
       "<style scoped>\n",
       "    .dataframe tbody tr th:only-of-type {\n",
       "        vertical-align: middle;\n",
       "    }\n",
       "\n",
       "    .dataframe tbody tr th {\n",
       "        vertical-align: top;\n",
       "    }\n",
       "\n",
       "    .dataframe thead th {\n",
       "        text-align: right;\n",
       "    }\n",
       "</style>\n",
       "<table border=\"1\" class=\"dataframe\">\n",
       "  <thead>\n",
       "    <tr style=\"text-align: right;\">\n",
       "      <th></th>\n",
       "      <th>status</th>\n",
       "      <th>count</th>\n",
       "      <th>alleles</th>\n",
       "    </tr>\n",
       "  </thead>\n",
       "  <tbody>\n",
       "    <tr>\n",
       "      <th>0</th>\n",
       "      <td>mapped</td>\n",
       "      <td>24</td>\n",
       "      <td>c.2657T&gt;C, c.2608C&gt;T, c.3253del, c.3176T&gt;G, c.1459C&gt;T, c.1101_1102dup, c.2455C&gt;T, c.3057del, c.2629G&gt;A, c.1321A&gt;T, c.2572C&gt;T, c.3205G&gt;A, c.2552_2553del, c.2822del, c.2561T&gt;G, c.2473delinsAA, c.1550C&gt;T, c.3418C&gt;T, c.364C&gt;T, c.1345C&gt;T, c.2126G&gt;C, c.1942C&gt;T, c.2158G&gt;T, c.2780 T&gt;C</td>\n",
       "    </tr>\n",
       "    <tr>\n",
       "      <th>1</th>\n",
       "      <td>unmapped</td>\n",
       "      <td>0</td>\n",
       "      <td></td>\n",
       "    </tr>\n",
       "  </tbody>\n",
       "</table>\n",
       "</div>"
      ],
      "text/plain": [
       "     status  count  \\\n",
       "0    mapped     24   \n",
       "1  unmapped      0   \n",
       "\n",
       "                                                                                                                                                                                                                                                                                 alleles  \n",
       "0  c.2657T>C, c.2608C>T, c.3253del, c.3176T>G, c.1459C>T, c.1101_1102dup, c.2455C>T, c.3057del, c.2629G>A, c.1321A>T, c.2572C>T, c.3205G>A, c.2552_2553del, c.2822del, c.2561T>G, c.2473delinsAA, c.1550C>T, c.3418C>T, c.364C>T, c.1345C>T, c.2126G>C, c.1942C>T, c.2158G>T, c.2780 T>C  \n",
       "1                                                                                                                                                                                                                                                                                         "
      ]
     },
     "execution_count": 6,
     "metadata": {},
     "output_type": "execute_result"
    }
   ],
   "source": [
    "vmanager.to_summary()"
   ]
  },
  {
   "cell_type": "code",
   "execution_count": 7,
   "id": "985bef89-8311-45bc-837d-71a2847df402",
   "metadata": {},
   "outputs": [],
   "source": [
    "vmanager.add_variants_to_individuals(individuals)"
   ]
  },
  {
   "cell_type": "code",
   "execution_count": 8,
   "id": "c0a8858c-2136-413d-92fd-3a4a7999750a",
   "metadata": {},
   "outputs": [
    {
     "data": {
      "text/html": [
       "<h2>Cohort validation</h2>\n",
       "<p>Errors found with 3 of 11 phenopackets.</p>\n",
       "<table style=\"border: 2px solid black; align: \"left\">\n",
       "<caption>Error counts</caption>\n",
       "<tr><th style=\"text-align: left;font-weight: bold;\">Level</th><th style=\"text-align: left;font-weight: bold;\">Error category</th><th style=\"text-align: left;font-weight: bold;\">Count</th></tr>\n",
       "<tr><td style=\"text-align: left;\">WARNING</td><td style=\"text-align: left;\">REDUNDANT</td><td style=\"text-align: left;\">4</td></tr>\n",
       "</table>\n",
       "<p>A total of 4 issues were fixed and no individual was removed from the cohort.</p>"
      ],
      "text/plain": [
       "<IPython.core.display.HTML object>"
      ]
     },
     "metadata": {},
     "output_type": "display_data"
    }
   ],
   "source": [
    "cvalidator = CohortValidator(cohort=individuals, ontology=hpo_ontology, min_hpo=1, allelic_requirement=AllelicRequirement.BI_ALLELIC)\n",
    "qc = QcVisualizer(cohort_validator=cvalidator)\n",
    "display(HTML(qc.to_summary_html()))"
   ]
  },
  {
   "cell_type": "code",
   "execution_count": 9,
   "id": "920ddba0-7841-4caf-943f-bb4f8c2b7824",
   "metadata": {},
   "outputs": [
    {
     "data": {
      "text/html": [
       "<table style=\"border: 2px solid black; align: \"left\">\n",
       "<caption>11 phenopackets - PMID:28137957 (n=5); PMID:31944623 (n=3); PMID:33862550 (n=1); PMID:36247900 (n=1); PMID:38252374 (n=1)</caption>\n",
       "<tr><th style=\"text-align: left;font-weight: bold;\">Individual</th><th style=\"text-align: left;font-weight: bold;\">Disease</th><th style=\"text-align: left;font-weight: bold;\">Genotype</th><th style=\"text-align: left;font-weight: bold;\">Phenotypic features</th></tr>\n",
       "<tr><td style=\"text-align: left;\">HSP84.II.1 (MALE; P50Y)</td><td style=\"text-align: left;\">Spastic paraplegia 78, autosomal recessive (OMIM:617225)</td><td style=\"text-align: left;\">NM_022089.4:c.1550C>T (homozygous)</td><td style=\"text-align: left;\">Ataxia (HP:0001251); Motor axonal neuropathy (HP:0007002); Sensory axonal neuropathy (HP:0003390); Dysarthria (HP:0001260); Memory impairment (HP:0002354); Babinski sign (HP:0003487); Cerebellar atrophy (HP:0001272); Cerebral cortical atrophy (HP:0002120); excluded: Parkinsonism (HP:0001300); excluded: Skeletal muscle atrophy (HP:0003202); excluded: Bradykinesia (HP:0002067); excluded: Dystonia (HP:0001332); excluded: Tremor (HP:0001337); excluded: Slow saccadic eye movements (HP:0000514); excluded: Supranuclear gaze palsy (HP:0000605); excluded: Spastic paraplegia (HP:0001258); excluded: Neurogenic bladder (HP:0000011); excluded: Dementia (HP:0000726); excluded: Aggressive behavior (HP:0000718)</td></tr>\n",
       "<tr><td style=\"text-align: left;\">HSP84.II.3 (MALE; P40Y)</td><td style=\"text-align: left;\">Spastic paraplegia 78, autosomal recessive (OMIM:617225)</td><td style=\"text-align: left;\">NM_022089.4:c.1550C>T (homozygous)</td><td style=\"text-align: left;\">Ataxia (HP:0001251); Motor axonal neuropathy (HP:0007002); Sensory axonal neuropathy (HP:0003390); Dysarthria (HP:0001260); Babinski sign (HP:0003487); Cerebral cortical atrophy (HP:0002120); excluded: Parkinsonism (HP:0001300); excluded: Memory impairment (HP:0002354); excluded: Skeletal muscle atrophy (HP:0003202); excluded: Bradykinesia (HP:0002067); excluded: Dystonia (HP:0001332); excluded: Tremor (HP:0001337); excluded: Slow saccadic eye movements (HP:0000514); excluded: Supranuclear gaze palsy (HP:0000605); excluded: Cerebellar atrophy (HP:0001272); excluded: Spastic paraplegia (HP:0001258); excluded: Neurogenic bladder (HP:0000011); excluded: Dementia (HP:0000726); excluded: Aggressive behavior (HP:0000718)</td></tr>\n",
       "<tr><td style=\"text-align: left;\">HSP84.II.4 (MALE; P50Y)</td><td style=\"text-align: left;\">Spastic paraplegia 78, autosomal recessive (OMIM:617225)</td><td style=\"text-align: left;\">NM_022089.4:c.1550C>T (homozygous)</td><td style=\"text-align: left;\">Ataxia (HP:0001251); Motor axonal neuropathy (HP:0007002); Sensory axonal neuropathy (HP:0003390); Dysarthria (HP:0001260); Memory impairment (HP:0002354); Babinski sign (HP:0003487); Cerebellar atrophy (HP:0001272); Cerebral cortical atrophy (HP:0002120); excluded: Parkinsonism (HP:0001300); excluded: Skeletal muscle atrophy (HP:0003202); excluded: Bradykinesia (HP:0002067); excluded: Dystonia (HP:0001332); excluded: Tremor (HP:0001337); excluded: Slow saccadic eye movements (HP:0000514); excluded: Supranuclear gaze palsy (HP:0000605); excluded: Spastic paraplegia (HP:0001258); excluded: Neurogenic bladder (HP:0000011); excluded: Dementia (HP:0000726); excluded: Aggressive behavior (HP:0000718)</td></tr>\n",
       "<tr><td style=\"text-align: left;\">HIH21480.II.3 (FEMALE; P47Y)</td><td style=\"text-align: left;\">Spastic paraplegia 78, autosomal recessive (OMIM:617225)</td><td style=\"text-align: left;\">NM_022089.4:c.364C>T (homozygous)</td><td style=\"text-align: left;\">Ataxia (HP:0001251); Motor axonal neuropathy (HP:0007002); Dysarthria (HP:0001260); Supranuclear gaze palsy (HP:0000605); Cerebellar atrophy (HP:0001272); Cerebral cortical atrophy (HP:0002120); Spastic paraplegia (HP:0001258); Neurogenic bladder (HP:0000011); Dementia (HP:0000726); excluded: Parkinsonism (HP:0001300); excluded: Sensory axonal neuropathy (HP:0003390); excluded: Babinski sign (HP:0003487); excluded: Skeletal muscle atrophy (HP:0003202); excluded: Bradykinesia (HP:0002067); excluded: Dystonia (HP:0001332); excluded: Tremor (HP:0001337); excluded: Slow saccadic eye movements (HP:0000514); excluded: Aggressive behavior (HP:0000718)</td></tr>\n",
       "<tr><td style=\"text-align: left;\">HIH22132.II.1 (FEMALE; P39Y)</td><td style=\"text-align: left;\">Spastic paraplegia 78, autosomal recessive (OMIM:617225)</td><td style=\"text-align: left;\"><ul> <li>NM_022089.4:c.1345C>T (heterozygous)</li> <li>NM_022089.4:c.3418C>T (heterozygous)</li> </ul></td><td style=\"text-align: left;\">Ataxia (HP:0001251); Sensory axonal neuropathy (HP:0003390); Dysarthria (HP:0001260); Babinski sign (HP:0003487); Bradykinesia (HP:0002067); Dystonia (HP:0001332); Tremor (HP:0001337); Supranuclear gaze palsy (HP:0000605); Cerebellar atrophy (HP:0001272); Cerebral cortical atrophy (HP:0002120); Dementia (HP:0000726); Aggressive behavior (HP:0000718); Intellectual disability, mild (HP:0001256); Pes cavus (HP:0001761); excluded: Parkinsonism (HP:0001300); excluded: Motor axonal neuropathy (HP:0007002); excluded: Skeletal muscle atrophy (HP:0003202); excluded: Slow saccadic eye movements (HP:0000514); excluded: Spastic paraplegia (HP:0001258)</td></tr>\n",
       "<tr><td style=\"text-align: left;\">Patient A (FEMALE; P44Y)</td><td style=\"text-align: left;\">Spastic paraplegia 78, autosomal recessive (OMIM:617225)</td><td style=\"text-align: left;\">NM_022089.4:c.2473delinsAA (homozygous)</td><td style=\"text-align: left;\">Parkinsonism (HP:0001300); Dysarthria (HP:0001260); Babinski sign (HP:0003487); Bradykinesia (HP:0002067); Slow saccadic eye movements (HP:0000514); Cerebellar atrophy (HP:0001272); Spastic paraplegia (HP:0001258); Dementia (HP:0000726); Hyperreflexia (HP:0001347); Dysdiadochokinesis (HP:0002075); Dysphagia (HP:0002015); excluded: Cerebral cortical atrophy (HP:0002120)</td></tr>\n",
       "<tr><td style=\"text-align: left;\">Patient B (MALE; P24Y)</td><td style=\"text-align: left;\">Spastic paraplegia 78, autosomal recessive (OMIM:617225)</td><td style=\"text-align: left;\">NM_022089.4:c.2126G>C (homozygous)</td><td style=\"text-align: left;\">Parkinsonism (HP:0001300); Dysarthria (HP:0001260); Babinski sign (HP:0003487); Bradykinesia (HP:0002067); Slow saccadic eye movements (HP:0000514); Cerebellar atrophy (HP:0001272); Cerebral cortical atrophy (HP:0002120); Spastic paraplegia (HP:0001258); Hyperreflexia (HP:0001347); Dysdiadochokinesis (HP:0002075); Impaired vibratory sensation (HP:0002495); Hallucinations (HP:0000738); Delusion (HP:0000746)</td></tr>\n",
       "<tr><td style=\"text-align: left;\">Patient C (MALE; P32Y)</td><td style=\"text-align: left;\">Spastic paraplegia 78, autosomal recessive (OMIM:617225)</td><td style=\"text-align: left;\">NM_022089.4:c.2158G>T (homozygous)</td><td style=\"text-align: left;\">Dysarthria (HP:0001260); Babinski sign (HP:0003487); Cerebellar atrophy (HP:0001272); Cerebral cortical atrophy (HP:0002120); Spastic paraplegia (HP:0001258); Ankle clonus (HP:0011448); Psychosis (HP:0000709); Frequent falls (HP:0002359); Dysphagia (HP:0002015); excluded: Parkinsonism (HP:0001300); excluded: Bradykinesia (HP:0002067); excluded: Dysdiadochokinesis (HP:0002075)</td></tr>\n",
       "<tr><td style=\"text-align: left;\">patient (FEMALE; P27Y)</td><td style=\"text-align: left;\">Spastic paraplegia 78, autosomal recessive (OMIM:617225)</td><td style=\"text-align: left;\">NM_022089.4:c.1942C>T (homozygous)</td><td style=\"text-align: left;\">Babinski sign (HP:0003487); Hyperreflexia (HP:0001347); Spasticity (HP:0001257); Lower limb muscle weakness (HP:0007340); excluded: Parkinsonism (HP:0001300); excluded: Dysarthria (HP:0001260); excluded: Memory impairment (HP:0002354); excluded: Skeletal muscle atrophy (HP:0003202); excluded: Bradykinesia (HP:0002067); excluded: Dystonia (HP:0001332); excluded: Tremor (HP:0001337); excluded: Slow saccadic eye movements (HP:0000514); excluded: Supranuclear gaze palsy (HP:0000605); excluded: Cerebellar atrophy (HP:0001272); excluded: Cerebral cortical atrophy (HP:0002120); excluded: Spastic paraplegia (HP:0001258); excluded: Neurogenic bladder (HP:0000011); excluded: Dementia (HP:0000726); excluded: Aggressive behavior (HP:0000718); excluded: Dysdiadochokinesis (HP:0002075)</td></tr>\n",
       "<tr><td style=\"text-align: left;\"> IV-2 (MALE; P40Y)</td><td style=\"text-align: left;\">Spastic paraplegia 78, autosomal recessive (OMIM:617225)</td><td style=\"text-align: left;\">NM_022089.4:c.364C>T (homozygous)</td><td style=\"text-align: left;\"><b>P40Y</b>: Dementia (HP:0000726)<br/>Dysarthria (HP:0001260); Babinski sign (HP:0003487); Cerebellar atrophy (HP:0001272); Spastic paraplegia (HP:0001258); Dysdiadochokinesis (HP:0002075); Lower limb muscle weakness (HP:0007340); Ankle clonus (HP:0011448); Dysmetria (HP:0001310); Gaze-evoked nystagmus (HP:0000640); excluded: Parkinsonism (HP:0001300)</td></tr>\n",
       "<tr><td style=\"text-align: left;\">46-year-old Chinese woman (FEMALE; P46Y)</td><td style=\"text-align: left;\">Spastic paraplegia 78, autosomal recessive (OMIM:617225)</td><td style=\"text-align: left;\">NM_022089.4:c.2780T>C (homozygous)</td><td style=\"text-align: left;\"><b>P38Y</b>: Bilateral tonic-clonic seizure (HP:0002069)<br/><b>P46Y</b>: Motor axonal neuropathy (HP:0007002); Sensory axonal neuropathy (HP:0003390); Babinski sign (HP:0003487); Bradykinesia (HP:0002067); Cerebellar atrophy (HP:0001272); Cerebral cortical atrophy (HP:0002120); Spastic paraplegia (HP:0001258); Hyperreflexia (HP:0001347)<br/>Parkinsonism (HP:0001300); Frequent falls (HP:0002359); Cogwheel rigidity (HP:0002396); excluded: Ataxia (HP:0001251); excluded: Memory impairment (HP:0002354); excluded: Dementia (HP:0000726)</td></tr>\n",
       "</table>"
      ],
      "text/plain": [
       "<IPython.core.display.HTML object>"
      ]
     },
     "metadata": {},
     "output_type": "display_data"
    }
   ],
   "source": [
    "individuals = cvalidator.get_error_free_individual_list()\n",
    "table = IndividualTable(individuals)\n",
    "display(HTML(table.to_html()))"
   ]
  },
  {
   "cell_type": "code",
   "execution_count": 10,
   "id": "525c1259-537c-4d7c-b593-11a71dfef4d9",
   "metadata": {},
   "outputs": [
    {
     "name": "stdout",
     "output_type": "stream",
     "text": [
      "We output 11 GA4GH phenopackets to the directory phenopackets\n"
     ]
    }
   ],
   "source": [
    "encoder.output_individuals_as_phenopackets(individual_list=individuals)"
   ]
  }
 ],
 "metadata": {
  "kernelspec": {
   "display_name": "Python 3 (ipykernel)",
   "language": "python",
   "name": "python3"
  },
  "language_info": {
   "codemirror_mode": {
    "name": "ipython",
    "version": 3
   },
   "file_extension": ".py",
   "mimetype": "text/x-python",
   "name": "python",
   "nbconvert_exporter": "python",
   "pygments_lexer": "ipython3",
   "version": "3.8.10"
  }
 },
 "nbformat": 4,
 "nbformat_minor": 5
}
