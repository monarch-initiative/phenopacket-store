{
 "cells": [
  {
   "cell_type": "markdown",
   "id": "a7522459-1476-4119-982e-e80603fb8618",
   "metadata": {},
   "source": [
    "# ATP13A2 SPG78\n",
    "Variants in the gene for ATPase 13A2 (ATP13A2) are associated with\n",
    "- [Kufor-Rakeb syndrome](https://omim.org/entry/606693) \t\n",
    "- [Spastic paraplegia 78, autosomal recessive](https://omim.org/entry/617225)"
   ]
  },
  {
   "cell_type": "code",
   "execution_count": 1,
   "id": "17a3e4f9-d191-406c-a997-d08e662246e5",
   "metadata": {},
   "outputs": [
    {
     "name": "stdout",
     "output_type": "stream",
     "text": [
      "Using pyphetools version 0.9.115\n"
     ]
    }
   ],
   "source": [
    "from pyphetools.creation import TemplateImporter, Moi\n",
    "from pyphetools.visualization import IndividualTable, QcVisualizer\n",
    "from IPython.display import display, HTML\n",
    "import pyphetools\n",
    "print(f\"Using pyphetools version {pyphetools.__version__}\")"
   ]
  },
  {
   "cell_type": "code",
   "execution_count": null,
   "id": "a4bb4694-b406-4e08-96dc-bc7c84a0d88d",
   "metadata": {},
   "outputs": [],
   "source": [
    "template = \"input/ATP13A2_SPG78_individuals.xlsx\"\n",
    "created_by = \"0000-0002-0736-9199\""
   ]
  },
  {
   "cell_type": "code",
   "execution_count": 4,
   "id": "1cff95b2-1a96-45e7-b944-d57e39e6511b",
   "metadata": {},
   "outputs": [
    {
     "name": "stdout",
     "output_type": "stream",
     "text": [
      "HPO version 2024-12-12\n",
      "Created encoders for 40 fields\n",
      "Importing OMIM:617225, Spastic paraplegia 78, autosomal recessive, HGNC:30213, ATP13A2,  NM_022089.4\n",
      "[INFO] encoding variant \"c.1345C>T\"\n",
      "https://rest.variantvalidator.org/VariantValidator/variantvalidator/hg38/NM_022089.4%3Ac.1345C>T/NM_022089.4?content-type=application%2Fjson\n",
      "[INFO] encoding variant \"c.364C>T\"\n",
      "https://rest.variantvalidator.org/VariantValidator/variantvalidator/hg38/NM_022089.4%3Ac.364C>T/NM_022089.4?content-type=application%2Fjson\n",
      "[INFO] encoding variant \"c.2780 T>C\"\n",
      "https://rest.variantvalidator.org/VariantValidator/variantvalidator/hg38/NM_022089.4%3Ac.2780 T>C/NM_022089.4?content-type=application%2Fjson\n",
      "[INFO] encoding variant \"c.1550C>T\"\n",
      "https://rest.variantvalidator.org/VariantValidator/variantvalidator/hg38/NM_022089.4%3Ac.1550C>T/NM_022089.4?content-type=application%2Fjson\n",
      "[INFO] encoding variant \"c.2126G>C\"\n",
      "https://rest.variantvalidator.org/VariantValidator/variantvalidator/hg38/NM_022089.4%3Ac.2126G>C/NM_022089.4?content-type=application%2Fjson\n",
      "[INFO] encoding variant \"c.2158G>T\"\n",
      "https://rest.variantvalidator.org/VariantValidator/variantvalidator/hg38/NM_022089.4%3Ac.2158G>T/NM_022089.4?content-type=application%2Fjson\n",
      "[INFO] encoding variant \"c.1942C>T\"\n",
      "https://rest.variantvalidator.org/VariantValidator/variantvalidator/hg38/NM_022089.4%3Ac.1942C>T/NM_022089.4?content-type=application%2Fjson\n",
      "[INFO] encoding variant \"c.3418C>T\"\n",
      "https://rest.variantvalidator.org/VariantValidator/variantvalidator/hg38/NM_022089.4%3Ac.3418C>T/NM_022089.4?content-type=application%2Fjson\n",
      "We output 11 GA4GH phenopackets to the directory phenopackets\n"
     ]
    }
   ],
   "source": [
    "timporter = TemplateImporter(template=template,  created_by=created_by)\n",
    "individual_list, cvalidator = timporter.import_phenopackets_from_template()"
   ]
  },
  {
   "cell_type": "code",
   "execution_count": 5,
   "id": "0b99b9ea-cc2f-4db8-943b-a1caedf7d8af",
   "metadata": {},
   "outputs": [
    {
     "data": {
      "text/html": [
       "<h2>Cohort validation</h2>\n",
       "<p>Errors found with 3 of 11 phenopackets.</p>\n",
       "<table style=\"border: 2px solid black; align: \"left\">\n",
       "<caption>Error counts</caption>\n",
       "<tr><th style=\"text-align: left;font-weight: bold;\">Level</th><th style=\"text-align: left;font-weight: bold;\">Error category</th><th style=\"text-align: left;font-weight: bold;\">Count</th></tr>\n",
       "<tr><td style=\"text-align: left;\">WARNING</td><td style=\"text-align: left;\">REDUNDANT</td><td style=\"text-align: left;\">4</td></tr>\n",
       "</table>\n",
       "<p>A total of 4 issues were fixed and no individual was removed from the cohort.</p>"
      ],
      "text/plain": [
       "<IPython.core.display.HTML object>"
      ]
     },
     "metadata": {},
     "output_type": "display_data"
    }
   ],
   "source": [
    "qc = QcVisualizer(cohort_validator=cvalidator)\n",
    "display(HTML(qc.to_summary_html()))"
   ]
  },
  {
   "cell_type": "code",
   "execution_count": 6,
   "id": "e4dc1d3f-9ab3-4848-b098-2c5d9d9643f0",
   "metadata": {},
   "outputs": [
    {
     "data": {
      "text/html": [
       "<table style=\"border: 2px solid black; align: \"left\">\n",
       "<caption>11 phenopackets - PMID:28137957 (n=5); PMID:31944623 (n=3); PMID:33862550 (n=1); PMID:36247900 (n=1); PMID:38252374 (n=1)</caption>\n",
       "<tr><th style=\"text-align: left;font-weight: bold;\">Individual</th><th style=\"text-align: left;font-weight: bold;\">Disease</th><th style=\"text-align: left;font-weight: bold;\">Genotype</th><th style=\"text-align: left;font-weight: bold;\">Phenotypic features</th></tr>\n",
       "<tr><td style=\"text-align: left;\">HSP84.II.1 (MALE; P50Y)</td><td style=\"text-align: left;\">Spastic paraplegia 78, autosomal recessive (OMIM:617225)</td><td style=\"text-align: left;\">NM_022089.4:c.1550C>T (homozygous)</td><td style=\"text-align: left;\">Ataxia (HP:0001251): onset ; Motor axonal neuropathy (HP:0007002): onset ; Sensory axonal neuropathy (HP:0003390): onset ; Dysarthria (HP:0001260): onset ; Memory impairment (HP:0002354): onset ; Babinski sign (HP:0003487): onset ; Cerebellar atrophy (HP:0001272): onset ; Cerebral cortical atrophy (HP:0002120): onset ; excluded: Parkinsonism (HP:0001300): onset ; excluded: Skeletal muscle atrophy (HP:0003202): onset ; excluded: Bradykinesia (HP:0002067): onset ; excluded: Dystonia (HP:0001332): onset ; excluded: Tremor (HP:0001337): onset ; excluded: Slow saccadic eye movements (HP:0000514): onset ; excluded: Supranuclear gaze palsy (HP:0000605): onset ; excluded: Spastic paraplegia (HP:0001258): onset ; excluded: Neurogenic bladder (HP:0000011): onset ; excluded: Dementia (HP:0000726): onset ; excluded: Aggressive behavior (HP:0000718): onset </td></tr>\n",
       "<tr><td style=\"text-align: left;\">HSP84.II.3 (MALE; P40Y)</td><td style=\"text-align: left;\">Spastic paraplegia 78, autosomal recessive (OMIM:617225)</td><td style=\"text-align: left;\">NM_022089.4:c.1550C>T (homozygous)</td><td style=\"text-align: left;\">Ataxia (HP:0001251): onset ; Motor axonal neuropathy (HP:0007002): onset ; Sensory axonal neuropathy (HP:0003390): onset ; Dysarthria (HP:0001260): onset ; Babinski sign (HP:0003487): onset ; Cerebral cortical atrophy (HP:0002120): onset ; excluded: Parkinsonism (HP:0001300): onset ; excluded: Memory impairment (HP:0002354): onset ; excluded: Skeletal muscle atrophy (HP:0003202): onset ; excluded: Bradykinesia (HP:0002067): onset ; excluded: Dystonia (HP:0001332): onset ; excluded: Tremor (HP:0001337): onset ; excluded: Slow saccadic eye movements (HP:0000514): onset ; excluded: Supranuclear gaze palsy (HP:0000605): onset ; excluded: Cerebellar atrophy (HP:0001272): onset ; excluded: Spastic paraplegia (HP:0001258): onset ; excluded: Neurogenic bladder (HP:0000011): onset ; excluded: Dementia (HP:0000726): onset ; excluded: Aggressive behavior (HP:0000718): onset </td></tr>\n",
       "<tr><td style=\"text-align: left;\">HSP84.II.4 (MALE; P50Y)</td><td style=\"text-align: left;\">Spastic paraplegia 78, autosomal recessive (OMIM:617225)</td><td style=\"text-align: left;\">NM_022089.4:c.1550C>T (homozygous)</td><td style=\"text-align: left;\">Ataxia (HP:0001251): onset ; Motor axonal neuropathy (HP:0007002): onset ; Sensory axonal neuropathy (HP:0003390): onset ; Dysarthria (HP:0001260): onset ; Memory impairment (HP:0002354): onset ; Babinski sign (HP:0003487): onset ; Cerebellar atrophy (HP:0001272): onset ; Cerebral cortical atrophy (HP:0002120): onset ; excluded: Parkinsonism (HP:0001300): onset ; excluded: Skeletal muscle atrophy (HP:0003202): onset ; excluded: Bradykinesia (HP:0002067): onset ; excluded: Dystonia (HP:0001332): onset ; excluded: Tremor (HP:0001337): onset ; excluded: Slow saccadic eye movements (HP:0000514): onset ; excluded: Supranuclear gaze palsy (HP:0000605): onset ; excluded: Spastic paraplegia (HP:0001258): onset ; excluded: Neurogenic bladder (HP:0000011): onset ; excluded: Dementia (HP:0000726): onset ; excluded: Aggressive behavior (HP:0000718): onset </td></tr>\n",
       "<tr><td style=\"text-align: left;\">HIH21480.II.3 (FEMALE; P47Y)</td><td style=\"text-align: left;\">Spastic paraplegia 78, autosomal recessive (OMIM:617225)</td><td style=\"text-align: left;\">NM_022089.4:c.364C>T (homozygous)</td><td style=\"text-align: left;\">Ataxia (HP:0001251): onset ; Motor axonal neuropathy (HP:0007002): onset ; Dysarthria (HP:0001260): onset ; Supranuclear gaze palsy (HP:0000605): onset ; Cerebellar atrophy (HP:0001272): onset ; Cerebral cortical atrophy (HP:0002120): onset ; Spastic paraplegia (HP:0001258): onset ; Neurogenic bladder (HP:0000011): onset ; Dementia (HP:0000726): onset ; excluded: Parkinsonism (HP:0001300): onset ; excluded: Sensory axonal neuropathy (HP:0003390): onset ; excluded: Babinski sign (HP:0003487): onset ; excluded: Skeletal muscle atrophy (HP:0003202): onset ; excluded: Bradykinesia (HP:0002067): onset ; excluded: Dystonia (HP:0001332): onset ; excluded: Tremor (HP:0001337): onset ; excluded: Slow saccadic eye movements (HP:0000514): onset ; excluded: Aggressive behavior (HP:0000718): onset </td></tr>\n",
       "<tr><td style=\"text-align: left;\">HIH22132.II.1 (FEMALE; P39Y)</td><td style=\"text-align: left;\">Spastic paraplegia 78, autosomal recessive (OMIM:617225)</td><td style=\"text-align: left;\"><ul> <li>NM_022089.4:c.1345C>T (heterozygous)</li> <li>NM_022089.4:c.3418C>T (heterozygous)</li> </ul></td><td style=\"text-align: left;\">Ataxia (HP:0001251): onset ; Sensory axonal neuropathy (HP:0003390): onset ; Dysarthria (HP:0001260): onset ; Babinski sign (HP:0003487): onset ; Bradykinesia (HP:0002067): onset ; Dystonia (HP:0001332): onset ; Tremor (HP:0001337): onset ; Supranuclear gaze palsy (HP:0000605): onset ; Cerebellar atrophy (HP:0001272): onset ; Cerebral cortical atrophy (HP:0002120): onset ; Dementia (HP:0000726): onset ; Aggressive behavior (HP:0000718): onset ; Intellectual disability, mild (HP:0001256): onset ; Pes cavus (HP:0001761): onset ; excluded: Parkinsonism (HP:0001300): onset ; excluded: Motor axonal neuropathy (HP:0007002): onset ; excluded: Skeletal muscle atrophy (HP:0003202): onset ; excluded: Slow saccadic eye movements (HP:0000514): onset ; excluded: Spastic paraplegia (HP:0001258): onset </td></tr>\n",
       "<tr><td style=\"text-align: left;\">Patient A (FEMALE; P44Y)</td><td style=\"text-align: left;\">Spastic paraplegia 78, autosomal recessive (OMIM:617225)</td><td style=\"text-align: left;\">NM_022089.4:c.2473delinsAA (homozygous)</td><td style=\"text-align: left;\">Parkinsonism (HP:0001300): onset ; Dysarthria (HP:0001260): onset ; Babinski sign (HP:0003487): onset ; Bradykinesia (HP:0002067): onset ; Slow saccadic eye movements (HP:0000514): onset ; Cerebellar atrophy (HP:0001272): onset ; Spastic paraplegia (HP:0001258): onset ; Dementia (HP:0000726): onset ; Hyperreflexia (HP:0001347): onset ; Dysdiadochokinesis (HP:0002075): onset ; Dysphagia (HP:0002015): onset ; excluded: Cerebral cortical atrophy (HP:0002120): onset </td></tr>\n",
       "<tr><td style=\"text-align: left;\">Patient B (MALE; P24Y)</td><td style=\"text-align: left;\">Spastic paraplegia 78, autosomal recessive (OMIM:617225)</td><td style=\"text-align: left;\">NM_022089.4:c.2126G>C (homozygous)</td><td style=\"text-align: left;\">Parkinsonism (HP:0001300): onset ; Dysarthria (HP:0001260): onset ; Babinski sign (HP:0003487): onset ; Bradykinesia (HP:0002067): onset ; Slow saccadic eye movements (HP:0000514): onset ; Cerebellar atrophy (HP:0001272): onset ; Cerebral cortical atrophy (HP:0002120): onset ; Spastic paraplegia (HP:0001258): onset ; Hyperreflexia (HP:0001347): onset ; Dysdiadochokinesis (HP:0002075): onset ; Impaired vibratory sensation (HP:0002495): onset ; Hallucinations (HP:0000738): onset ; Delusion (HP:0000746): onset </td></tr>\n",
       "<tr><td style=\"text-align: left;\">Patient C (MALE; P32Y)</td><td style=\"text-align: left;\">Spastic paraplegia 78, autosomal recessive (OMIM:617225)</td><td style=\"text-align: left;\">NM_022089.4:c.2158G>T (homozygous)</td><td style=\"text-align: left;\">Dysarthria (HP:0001260): onset ; Babinski sign (HP:0003487): onset ; Cerebellar atrophy (HP:0001272): onset ; Cerebral cortical atrophy (HP:0002120): onset ; Spastic paraplegia (HP:0001258): onset ; Ankle clonus (HP:0011448): onset ; Psychosis (HP:0000709): onset ; Frequent falls (HP:0002359): onset ; Dysphagia (HP:0002015): onset ; excluded: Parkinsonism (HP:0001300): onset ; excluded: Bradykinesia (HP:0002067): onset ; excluded: Dysdiadochokinesis (HP:0002075): onset </td></tr>\n",
       "<tr><td style=\"text-align: left;\">patient (FEMALE; P27Y)</td><td style=\"text-align: left;\">Spastic paraplegia 78, autosomal recessive (OMIM:617225)</td><td style=\"text-align: left;\">NM_022089.4:c.1942C>T (homozygous)</td><td style=\"text-align: left;\">Babinski sign (HP:0003487): onset ; Hyperreflexia (HP:0001347): onset ; Spasticity (HP:0001257): onset ; Lower limb muscle weakness (HP:0007340): onset ; excluded: Parkinsonism (HP:0001300): onset ; excluded: Dysarthria (HP:0001260): onset ; excluded: Memory impairment (HP:0002354): onset ; excluded: Skeletal muscle atrophy (HP:0003202): onset ; excluded: Bradykinesia (HP:0002067): onset ; excluded: Dystonia (HP:0001332): onset ; excluded: Tremor (HP:0001337): onset ; excluded: Slow saccadic eye movements (HP:0000514): onset ; excluded: Supranuclear gaze palsy (HP:0000605): onset ; excluded: Cerebellar atrophy (HP:0001272): onset ; excluded: Cerebral cortical atrophy (HP:0002120): onset ; excluded: Spastic paraplegia (HP:0001258): onset ; excluded: Neurogenic bladder (HP:0000011): onset ; excluded: Dementia (HP:0000726): onset ; excluded: Aggressive behavior (HP:0000718): onset ; excluded: Dysdiadochokinesis (HP:0002075): onset </td></tr>\n",
       "<tr><td style=\"text-align: left;\"> IV-2 (MALE; P40Y)</td><td style=\"text-align: left;\">Spastic paraplegia 78, autosomal recessive (OMIM:617225)</td><td style=\"text-align: left;\">NM_022089.4:c.364C>T (homozygous)</td><td style=\"text-align: left;\">Dysarthria (HP:0001260): onset ; Babinski sign (HP:0003487): onset ; Cerebellar atrophy (HP:0001272): onset ; Spastic paraplegia (HP:0001258): onset ; Dysdiadochokinesis (HP:0002075): onset ; Lower limb muscle weakness (HP:0007340): onset ; Ankle clonus (HP:0011448): onset ; Dysmetria (HP:0001310): onset ; Gaze-evoked nystagmus (HP:0000640): onset ; excluded: Parkinsonism (HP:0001300): onset <br/><b>TimeElement(element=Age(iso8601duration=P40Y))</b>: Dementia (HP:0000726): onset age {\n",
       "  iso8601duration: \"P40Y\"\n",
       "}\n",
       "</td></tr>\n",
       "<tr><td style=\"text-align: left;\">46-year-old Chinese woman (FEMALE; P46Y)</td><td style=\"text-align: left;\">Spastic paraplegia 78, autosomal recessive (OMIM:617225)</td><td style=\"text-align: left;\">NM_022089.4:c.2780T>C (homozygous)</td><td style=\"text-align: left;\">Parkinsonism (HP:0001300): onset ; Frequent falls (HP:0002359): onset ; Cogwheel rigidity (HP:0002396): onset ; excluded: Ataxia (HP:0001251): onset ; excluded: Memory impairment (HP:0002354): onset ; excluded: Dementia (HP:0000726): onset <br/><b>TimeElement(element=Age(iso8601duration=P38Y))</b>: Bilateral tonic-clonic seizure (HP:0002069): onset age {\n",
       "  iso8601duration: \"P38Y\"\n",
       "}\n",
       "<br/><b>TimeElement(element=Age(iso8601duration=P46Y))</b>: Motor axonal neuropathy (HP:0007002): onset age {\n",
       "  iso8601duration: \"P46Y\"\n",
       "}\n",
       "; Sensory axonal neuropathy (HP:0003390): onset age {\n",
       "  iso8601duration: \"P46Y\"\n",
       "}\n",
       "; Babinski sign (HP:0003487): onset age {\n",
       "  iso8601duration: \"P46Y\"\n",
       "}\n",
       "; Bradykinesia (HP:0002067): onset age {\n",
       "  iso8601duration: \"P46Y\"\n",
       "}\n",
       "; Cerebellar atrophy (HP:0001272): onset age {\n",
       "  iso8601duration: \"P46Y\"\n",
       "}\n",
       "; Cerebral cortical atrophy (HP:0002120): onset age {\n",
       "  iso8601duration: \"P46Y\"\n",
       "}\n",
       "; Spastic paraplegia (HP:0001258): onset age {\n",
       "  iso8601duration: \"P46Y\"\n",
       "}\n",
       "; Hyperreflexia (HP:0001347): onset age {\n",
       "  iso8601duration: \"P46Y\"\n",
       "}\n",
       "</td></tr>\n",
       "</table>"
      ],
      "text/plain": [
       "<IPython.core.display.HTML object>"
      ]
     },
     "metadata": {},
     "output_type": "display_data"
    }
   ],
   "source": [
    "table = IndividualTable(cvalidator.get_error_free_individual_list())\n",
    "display(HTML(table.to_html()))"
   ]
  },
  {
   "cell_type": "code",
   "execution_count": 7,
   "id": "525c1259-537c-4d7c-b593-11a71dfef4d9",
   "metadata": {},
   "outputs": [
    {
     "name": "stdout",
     "output_type": "stream",
     "text": [
      "[pyphetools] Ingested 11 GA4GH phenopackets.\n",
      "[INFO] Extracted 11 from 11 phenopackets with OMIM:617225\n",
      "\n",
      "\tSpastic paraplegia 78, autosomal recessive (OMIM:617225): n=11\n",
      "We found a total of 36 unique HPO terms\n",
      "Extracted disease: Spastic paraplegia 78, autosomal recessive (OMIM:617225)\n",
      "Wrote HPOA disease file to OMIM-617225.tab\n"
     ]
    }
   ],
   "source": [
    "pmid = \"PMID:28137957\"\n",
    "df = timporter.create_hpoa_from_phenopackets(pmid=pmid, mode_of_inheritance=Moi.AR, target=\"OMIM:617225\")"
   ]
  }
 ],
 "metadata": {
  "kernelspec": {
   "display_name": "ps24venv",
   "language": "python",
   "name": "python3"
  },
  "language_info": {
   "codemirror_mode": {
    "name": "ipython",
    "version": 3
   },
   "file_extension": ".py",
   "mimetype": "text/x-python",
   "name": "python",
   "nbconvert_exporter": "python",
   "pygments_lexer": "ipython3",
   "version": "3.12.8"
  }
 },
 "nbformat": 4,
 "nbformat_minor": 5
}
