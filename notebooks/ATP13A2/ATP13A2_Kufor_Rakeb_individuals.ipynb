{
 "cells": [
  {
   "cell_type": "markdown",
   "id": "6eb3dd6f-aca5-4bc3-bc20-31fa48afad2c",
   "metadata": {},
   "source": [
    "# ATP13A2\n",
    "\n",
    "Variants in the gene for ATPase 13A2 (ATP13A2) are associated with \n",
    "- [Kufor-Rakeb syndrome](https://omim.org/entry/606693) \t\n",
    "- [Spastic paraplegia 78, autosomal recessive](https://omim.org/entry/617225)\n",
    "\n",
    "- This notebook collects information about individuals with Kufor-Rakeb syndrome.\n",
    "- Fong CY, Juvenile parkinsonism associated with heterozygous frameshift ATP13A2 gene mutation. Eur J Paediatr Neurol. 2011 (PMID:21316993): Omitted because only one pathogenic allele reported and diagnosis appears uncertain.\n",
    "- Ugolino J, et al. Mutant Atp13a2 proteins involved in parkinsonism are degraded by ER-associated degradation and sensitize cells to ER-stress induced cell death. Hum Mol Genet. 2011  (PMID:21665991) omitted because no clinical information presented.\n",
    "- Paisán-Ruiz C, Early-onset L-dopa-responsive parkinsonism with pyramidal signs due to ATP13A2, PLA2G6, FBXO7 and spatacsin mutations. Mov Disord. 2010 (PMID:20669327): omitted because variant appears to be inaccurate.\n",
    "- Bouhouche A, et al. Mutation Analysis of Consanguineous Moroccan Patients with Parkinson's Disease Combining Microarray and Gene Panel. Front Neurol. 2017 (PMID:29163333). Omitted because only protein variants presented."
   ]
  },
  {
   "cell_type": "markdown",
   "id": "9c43d199-da67-4414-9670-51b26b1d365c",
   "metadata": {},
   "source": [
    "# Variants\n",
    "The source publications used varying genome builds and transcripts to report variants. We have standardized to hg38 and NM_022089.4 (which is the MANE select transcript for ATP13A2). The following list provides details of cases where we had to map from other transcripts or builds.\n",
    "\n",
    "Note the following transcripts:\n",
    "- ENST00000326735.13 = NM_022089.4 (MANE select, ensembl canonical)\n",
    "- ENST00000341676.9: Transcript length: 3,681 bps, Translation length: 1,158 residues = NM_001141973.3 (This variant (2) uses an alternate in-frame splice site in the 5' coding region, compared to variant 1, resulting in a shorter protein (isoform 2). The transcript contains an upstream ORF that could encode a 103aa protein and may modulate translation from the downstream ORF encoding isoform 2.)\n",
    "\n",
    "- GRCh37:1:17316187:G:A -> NM_022089.4:c.2608C>T (Prashanth LK, First Report of Kufor-Rakeb Syndrome (PARK 9) from India, and a Novel Nonsense Mutation in ATP13A2 Gene. Mov Disord Clin Pract. 2015)\n",
    "- c.T2525C:p.L842P (ENST00000341676 is equivalent to Q9NQ11-2, NM_001141974.2) -> NM_001141974.3:c.2525T>C; NP_001135446.1:p.(Leu842Pro))-> NM_022089.4:c.2657T>C"
   ]
  },
  {
   "cell_type": "code",
   "execution_count": 1,
   "id": "7ef78f54-6bba-4445-adeb-bb7c1133e0e1",
   "metadata": {},
   "outputs": [
    {
     "name": "stdout",
     "output_type": "stream",
     "text": [
      "Using pyphetools version 0.9.61\n"
     ]
    }
   ],
   "source": [
    "import pandas as pd\n",
    "from IPython.display import display, HTML\n",
    "pd.set_option('display.max_colwidth', None) # show entire column contents, important!\n",
    "from collections import defaultdict\n",
    "from pyphetools.creation import *\n",
    "from pyphetools.visualization import IndividualTable, QcVisualizer\n",
    "from pyphetools.validation import *\n",
    "import pyphetools\n",
    "print(f\"Using pyphetools version {pyphetools.__version__}\")"
   ]
  },
  {
   "cell_type": "code",
   "execution_count": 2,
   "id": "8a5d2487-1cee-48da-9fd6-a15b2ada3448",
   "metadata": {},
   "outputs": [
    {
     "name": "stdout",
     "output_type": "stream",
     "text": [
      "HPO version 2024-02-27\n"
     ]
    }
   ],
   "source": [
    "parser = HpoParser(hpo_json_file=\"../hp.json\")\n",
    "hpo_cr = parser.get_hpo_concept_recognizer()\n",
    "hpo_version = parser.get_version()\n",
    "hpo_ontology = parser.get_ontology()\n",
    "created_by=\"ORCID:0000-0002-0736-9199\"\n",
    "print(f\"HPO version {hpo_version}\")"
   ]
  },
  {
   "cell_type": "code",
   "execution_count": 3,
   "id": "f6120e86-6794-4249-84bb-c114b536bdde",
   "metadata": {},
   "outputs": [
    {
     "data": {
      "text/html": [
       "<div>\n",
       "<style scoped>\n",
       "    .dataframe tbody tr th:only-of-type {\n",
       "        vertical-align: middle;\n",
       "    }\n",
       "\n",
       "    .dataframe tbody tr th {\n",
       "        vertical-align: top;\n",
       "    }\n",
       "\n",
       "    .dataframe thead th {\n",
       "        text-align: right;\n",
       "    }\n",
       "</style>\n",
       "<table border=\"1\" class=\"dataframe\">\n",
       "  <thead>\n",
       "    <tr style=\"text-align: right;\">\n",
       "      <th></th>\n",
       "      <th>PMID</th>\n",
       "      <th>title</th>\n",
       "      <th>individual_id</th>\n",
       "      <th>comment</th>\n",
       "      <th>disease_id</th>\n",
       "      <th>disease_label</th>\n",
       "      <th>HGNC_id</th>\n",
       "      <th>gene_symbol</th>\n",
       "      <th>transcript</th>\n",
       "      <th>allele_1</th>\n",
       "      <th>...</th>\n",
       "      <th>Supranuclear gaze palsy</th>\n",
       "      <th>Dystonia</th>\n",
       "      <th>Dysarthria</th>\n",
       "      <th>Dementia</th>\n",
       "      <th>Tremor</th>\n",
       "      <th>Hyperreflexia</th>\n",
       "      <th>Babinski sign</th>\n",
       "      <th>Depression</th>\n",
       "      <th>Visual hallucination</th>\n",
       "      <th>Miscellaneous</th>\n",
       "    </tr>\n",
       "  </thead>\n",
       "  <tbody>\n",
       "    <tr>\n",
       "      <th>0</th>\n",
       "      <td>CURIE</td>\n",
       "      <td>str</td>\n",
       "      <td>str</td>\n",
       "      <td>optional</td>\n",
       "      <td>CURIE</td>\n",
       "      <td>str</td>\n",
       "      <td>CURIE</td>\n",
       "      <td>str</td>\n",
       "      <td>str</td>\n",
       "      <td>str</td>\n",
       "      <td>...</td>\n",
       "      <td>HP:0000605</td>\n",
       "      <td>HP:0001332</td>\n",
       "      <td>HP:0001260</td>\n",
       "      <td>HP:0000726</td>\n",
       "      <td>HP:0001337</td>\n",
       "      <td>HP:0001347</td>\n",
       "      <td>HP:0003487</td>\n",
       "      <td>HP:0000716</td>\n",
       "      <td>HP:0002367</td>\n",
       "      <td>NaN</td>\n",
       "    </tr>\n",
       "    <tr>\n",
       "      <th>1</th>\n",
       "      <td>PMID:30838237</td>\n",
       "      <td>First Report of Kufor-Rakeb Syndrome (PARK 9) from India, and a Novel Nonsense Mutation in ATP13A2 Gene</td>\n",
       "      <td>18-year-old adolescent male</td>\n",
       "      <td>NaN</td>\n",
       "      <td>OMIM:606693</td>\n",
       "      <td>Kufor-Rakeb syndrome</td>\n",
       "      <td>HGNC:30213</td>\n",
       "      <td>ATP13A2</td>\n",
       "      <td>NM_022089.4</td>\n",
       "      <td>c.2608C&gt;T</td>\n",
       "      <td>...</td>\n",
       "      <td>na</td>\n",
       "      <td>observed</td>\n",
       "      <td>na</td>\n",
       "      <td>na</td>\n",
       "      <td>na</td>\n",
       "      <td>na</td>\n",
       "      <td>na</td>\n",
       "      <td>P18Y</td>\n",
       "      <td>excluded</td>\n",
       "      <td>Decreased social interactions;Micrographia</td>\n",
       "    </tr>\n",
       "  </tbody>\n",
       "</table>\n",
       "<p>2 rows × 31 columns</p>\n",
       "</div>"
      ],
      "text/plain": [
       "            PMID  \\\n",
       "0          CURIE   \n",
       "1  PMID:30838237   \n",
       "\n",
       "                                                                                                     title  \\\n",
       "0                                                                                                      str   \n",
       "1  First Report of Kufor-Rakeb Syndrome (PARK 9) from India, and a Novel Nonsense Mutation in ATP13A2 Gene   \n",
       "\n",
       "                 individual_id   comment   disease_id         disease_label  \\\n",
       "0                          str  optional        CURIE                   str   \n",
       "1  18-year-old adolescent male       NaN  OMIM:606693  Kufor-Rakeb syndrome   \n",
       "\n",
       "      HGNC_id gene_symbol   transcript   allele_1  ...  \\\n",
       "0       CURIE         str          str        str  ...   \n",
       "1  HGNC:30213     ATP13A2  NM_022089.4  c.2608C>T  ...   \n",
       "\n",
       "  Supranuclear gaze palsy    Dystonia  Dysarthria    Dementia      Tremor  \\\n",
       "0              HP:0000605  HP:0001332  HP:0001260  HP:0000726  HP:0001337   \n",
       "1                      na    observed          na          na          na   \n",
       "\n",
       "  Hyperreflexia Babinski sign  Depression Visual hallucination  \\\n",
       "0    HP:0001347    HP:0003487  HP:0000716           HP:0002367   \n",
       "1            na            na        P18Y             excluded   \n",
       "\n",
       "                                Miscellaneous  \n",
       "0                                         NaN  \n",
       "1  Decreased social interactions;Micrographia  \n",
       "\n",
       "[2 rows x 31 columns]"
      ]
     },
     "execution_count": 3,
     "metadata": {},
     "output_type": "execute_result"
    }
   ],
   "source": [
    "df = pd.read_excel(\"input/ATP13A2_Kufor_Rakeb_individuals.xlsx\")\n",
    "df.head(2)"
   ]
  },
  {
   "cell_type": "code",
   "execution_count": 4,
   "id": "ab115219-841c-477b-a429-01fb68560e28",
   "metadata": {},
   "outputs": [
    {
     "name": "stdout",
     "output_type": "stream",
     "text": [
      "Created encoders for 31 fields\n"
     ]
    }
   ],
   "source": [
    "encoder = CaseTemplateEncoder(df=df, hpo_cr=hpo_cr, created_by=created_by, hpo_ontology=hpo_ontology)\n",
    "individuals = encoder.get_individuals()"
   ]
  },
  {
   "cell_type": "code",
   "execution_count": 5,
   "id": "7fb7f504-9a63-4760-a8e6-22afb262c290",
   "metadata": {},
   "outputs": [],
   "source": [
    "vmanager = VariantManager(df=df,\n",
    "                          individual_column_name=\"individual_id\",\n",
    "                          gene_symbol=\"ATP13A2\",\n",
    "                          transcript=\"NM_022089.4\",\n",
    "                          allele_1_column_name=\"allele_1\",\n",
    "                          allele_2_column_name=\"allele_2\")"
   ]
  },
  {
   "cell_type": "code",
   "execution_count": 6,
   "id": "804688e4-2c61-4e72-be8a-e3e8601ddc7a",
   "metadata": {},
   "outputs": [
    {
     "data": {
      "text/html": [
       "<div>\n",
       "<style scoped>\n",
       "    .dataframe tbody tr th:only-of-type {\n",
       "        vertical-align: middle;\n",
       "    }\n",
       "\n",
       "    .dataframe tbody tr th {\n",
       "        vertical-align: top;\n",
       "    }\n",
       "\n",
       "    .dataframe thead th {\n",
       "        text-align: right;\n",
       "    }\n",
       "</style>\n",
       "<table border=\"1\" class=\"dataframe\">\n",
       "  <thead>\n",
       "    <tr style=\"text-align: right;\">\n",
       "      <th></th>\n",
       "      <th>status</th>\n",
       "      <th>count</th>\n",
       "      <th>alleles</th>\n",
       "    </tr>\n",
       "  </thead>\n",
       "  <tbody>\n",
       "    <tr>\n",
       "      <th>0</th>\n",
       "      <td>mapped</td>\n",
       "      <td>24</td>\n",
       "      <td>c.2657T&gt;C, c.2608C&gt;T, c.3253del, c.3176T&gt;G, c.1459C&gt;T, c.1101_1102dup, c.2455C&gt;T, c.3057del, c.2629G&gt;A, c.1321A&gt;T, c.2572C&gt;T, c.3205G&gt;A, c.2552_2553del, c.2822del, c.2561T&gt;G, c.2473delinsAA, c.1550C&gt;T, c.3418C&gt;T, c.364C&gt;T, c.1345C&gt;T, c.2126G&gt;C, c.1942C&gt;T, c.2158G&gt;T, c.2780 T&gt;C</td>\n",
       "    </tr>\n",
       "    <tr>\n",
       "      <th>1</th>\n",
       "      <td>unmapped</td>\n",
       "      <td>0</td>\n",
       "      <td></td>\n",
       "    </tr>\n",
       "  </tbody>\n",
       "</table>\n",
       "</div>"
      ],
      "text/plain": [
       "     status  count  \\\n",
       "0    mapped     24   \n",
       "1  unmapped      0   \n",
       "\n",
       "                                                                                                                                                                                                                                                                                 alleles  \n",
       "0  c.2657T>C, c.2608C>T, c.3253del, c.3176T>G, c.1459C>T, c.1101_1102dup, c.2455C>T, c.3057del, c.2629G>A, c.1321A>T, c.2572C>T, c.3205G>A, c.2552_2553del, c.2822del, c.2561T>G, c.2473delinsAA, c.1550C>T, c.3418C>T, c.364C>T, c.1345C>T, c.2126G>C, c.1942C>T, c.2158G>T, c.2780 T>C  \n",
       "1                                                                                                                                                                                                                                                                                         "
      ]
     },
     "execution_count": 6,
     "metadata": {},
     "output_type": "execute_result"
    }
   ],
   "source": [
    "vmanager.to_summary()"
   ]
  },
  {
   "cell_type": "code",
   "execution_count": 7,
   "id": "78587f53-021b-4844-97ec-6e4664728f92",
   "metadata": {},
   "outputs": [],
   "source": [
    "vmanager.add_variants_to_individuals(individuals)"
   ]
  },
  {
   "cell_type": "code",
   "execution_count": 8,
   "id": "7630c9cb-58cf-4686-a6a8-900f11b2e75b",
   "metadata": {},
   "outputs": [
    {
     "data": {
      "text/html": [
       "<h2>Cohort validation</h2>\n",
       "<p>Errors found with 5 of 34 phenopackets.</p>\n",
       "<table style=\"border: 2px solid black; align: \"left\">\n",
       "<caption>Error counts</caption>\n",
       "<tr><th style=\"text-align: left;font-weight: bold;\">Level</th><th style=\"text-align: left;font-weight: bold;\">Error category</th><th style=\"text-align: left;font-weight: bold;\">Count</th></tr>\n",
       "<tr><td style=\"text-align: left;\">ERROR</td><td style=\"text-align: left;\">MALFORMED_LABEL</td><td style=\"text-align: left;\">1</td></tr>\n",
       "<tr><td style=\"text-align: left;\">WARNING</td><td style=\"text-align: left;\">REDUNDANT</td><td style=\"text-align: left;\">5</td></tr>\n",
       "</table>\n",
       "<p>A total of 6 issues were fixed and 1 individuals were removed from the cohort because of irreparable errors. The cohort validator will return 33 individual objects without errors.</p>\n",
       "<p>The following malformed labels were found: Invalid label 'Cerebellar ataxia' found for Ataxia (HP:0001251). These need to be corrected before continuing.</p>\n",
       "<p>The following redundant terms were found: <b>Abnormal pyramidal sign</b> is redundant because of <b>Babinski sign</b>; <b>Dystonia</b> is redundant because of <b>Torticollis</b>; <b>Hyperreflexia</b> is redundant because of <b>Ankle clonus</b>. Redundant terms will be removed, keeping only one instance of the most specific term.</p>\n",
       "<h2>Individuals with unfixable errors</h2>\n",
       "<table style=\"border: 2px solid black; align: \"left\">\n",
       "<caption>Error analysis</caption>\n",
       "<tr><th style=\"text-align: left;font-weight: bold;\">ID</th><th style=\"text-align: left;font-weight: bold;\">Level</th><th style=\"text-align: left;font-weight: bold;\">Category</th><th style=\"text-align: left;font-weight: bold;\">Message</th><th style=\"text-align: left;font-weight: bold;\">HPO Term</th></tr>\n",
       "<tr><td style=\"text-align: left;\">PMID_22388936_II-1</td><td style=\"text-align: left;\">ERROR</td><td style=\"text-align: left;\">MALFORMED_LABEL</td><td style=\"text-align: left;\">Invalid label 'Cerebellar ataxia' found for Ataxia (HP:0001251)</td><td style=\"text-align: left;\">Ataxia (HP:0001251)</td></tr>\n",
       "</table>"
      ],
      "text/plain": [
       "<IPython.core.display.HTML object>"
      ]
     },
     "metadata": {},
     "output_type": "display_data"
    }
   ],
   "source": [
    "cvalidator = CohortValidator(cohort=individuals, ontology=hpo_ontology, min_hpo=1, allelic_requirement=AllelicRequirement.BI_ALLELIC)\n",
    "qc = QcVisualizer(cohort_validator=cvalidator)\n",
    "display(HTML(qc.to_summary_html()))"
   ]
  },
  {
   "cell_type": "code",
   "execution_count": 9,
   "id": "08868d2b-f424-4f91-8584-c22412984e9c",
   "metadata": {},
   "outputs": [
    {
     "data": {
      "text/html": [
       "<table style=\"border: 2px solid black; align: \"left\">\n",
       "<caption>33 phenopackets - PMID:30838237 (n=1); PMID:30713959 (n=1); PMID:21542062 (n=2); PMID:30746398 (n=2); PMID:30868101 (n=5); PMID:20310007 (n=1); PMID:20683840 (n=5); PMID:20853184 (n=2); PMID:29903538 (n=1); PMID:24949580 (n=2); PMID:21094623 (n=1); PMID:26421390 (n=1); PMID:22388936 (n=3); PMID:21696388 (n=6)</caption>\n",
       "<tr><th style=\"text-align: left;font-weight: bold;\">Individual</th><th style=\"text-align: left;font-weight: bold;\">Disease</th><th style=\"text-align: left;font-weight: bold;\">Genotype</th><th style=\"text-align: left;font-weight: bold;\">Phenotypic features</th></tr>\n",
       "<tr><td style=\"text-align: left;\">18-year-old adolescent male (MALE; P18Y)</td><td style=\"text-align: left;\">Kufor-Rakeb syndrome (OMIM:606693)</td><td style=\"text-align: left;\">NM_022089.4:c.2608C>T (homozygous)</td><td style=\"text-align: left;\"><b>P18Y</b>: Parkinsonism (HP:0001300); Mask-like facies (HP:0000298); Rigidity (HP:0002063); Bradykinesia (HP:0002067); Slow saccadic eye movements (HP:0000514); Depression (HP:0000716)<br/>Dystonia (HP:0001332); Decreased social interactions (HP:5200310); Micrographia (HP:0031908); excluded: Visual hallucination (HP:0002367)</td></tr>\n",
       "<tr><td style=\"text-align: left;\">A man aged 32 years (MALE; P32Y)</td><td style=\"text-align: left;\">Kufor-Rakeb syndrome (OMIM:606693)</td><td style=\"text-align: left;\">NM_022089.4:c.2657T>C (homozygous)</td><td style=\"text-align: left;\"><b>P21Y</b>: Parkinsonism (HP:0001300); Bradykinesia (HP:0002067)<br/>Rigidity (HP:0002063); Dysarthria (HP:0001260); Dementia (HP:0000726); Hyperreflexia (HP:0001347); Visual hallucination (HP:0002367); Auditory hallucination (HP:0008765); Hypersexuality (HP:0030214); Diffuse cerebral atrophy (HP:0002506); Foot dorsiflexor weakness (HP:0009027); Memory impairment (HP:0002354); Frequent falls (HP:0002359); Bowel incontinence (HP:0002607); Urinary incontinence (HP:0000020); Torticollis (HP:0000473); Resting tremor (HP:0002322); excluded: Babinski sign (HP:0003487)</td></tr>\n",
       "<tr><td style=\"text-align: left;\"> 22-year-old Asian mal (MALE; P22Y)</td><td style=\"text-align: left;\">Kufor-Rakeb syndrome (OMIM:606693)</td><td style=\"text-align: left;\"><ul> <li>NM_022089.4:c.3176T>G (heterozygous)</li> <li>NM_022089.4:c.3253del (heterozygous)</li> </ul></td><td style=\"text-align: left;\"><b>P19Y</b>: Parkinsonism (HP:0001300); Rigidity (HP:0002063); Bradykinesia (HP:0002067)<br/><b>P22Y</b>: Mask-like facies (HP:0000298)<br/>Slow saccadic eye movements (HP:0000514); Supranuclear gaze palsy (HP:0000605); Dystonia (HP:0001332); Dementia (HP:0000726); Hyperreflexia (HP:0001347); Babinski sign (HP:0003487); Mild global developmental delay (HP:0011342); Social Anxiety (HP:6000029); Upper limb postural tremor (HP:0007351); Glabellar reflex (HP:0030904); Hypometric saccades (HP:0000571); excluded: Visual hallucination (HP:0002367)</td></tr>\n",
       "<tr><td style=\"text-align: left;\">his siser (FEMALE; P19Y)</td><td style=\"text-align: left;\">Kufor-Rakeb syndrome (OMIM:606693)</td><td style=\"text-align: left;\"><ul> <li>NM_022089.4:c.3176T>G (heterozygous)</li> <li>NM_022089.4:c.3253del (heterozygous)</li> </ul></td><td style=\"text-align: left;\"><b>P17Y</b>: Depression (HP:0000716)<br/><b>P18Y</b>: Parkinsonism (HP:0001300)<br/>Rigidity (HP:0002063); Bradykinesia (HP:0002067); Slow saccadic eye movements (HP:0000514); Supranuclear gaze palsy (HP:0000605); Dementia (HP:0000726); Hyperreflexia (HP:0001347); Babinski sign (HP:0003487); Torticollis (HP:0000473); excluded: Visual hallucination (HP:0002367)</td></tr>\n",
       "<tr><td style=\"text-align: left;\">older brother (MALE; P30Y)</td><td style=\"text-align: left;\">Kufor-Rakeb syndrome (OMIM:606693)</td><td style=\"text-align: left;\">NM_022089.4:c.1459C>T (homozygous)</td><td style=\"text-align: left;\">Parkinsonism (HP:0001300); Mask-like facies (HP:0000298); Rigidity (HP:0002063); Bradykinesia (HP:0002067); Supranuclear gaze palsy (HP:0000605); Hyperreflexia (HP:0001347); excluded: Dystonia (HP:0001332); excluded: Dementia (HP:0000726); excluded: Visual hallucination (HP:0002367)</td></tr>\n",
       "<tr><td style=\"text-align: left;\">younger brother (MALE; P27Y)</td><td style=\"text-align: left;\">Kufor-Rakeb syndrome (OMIM:606693)</td><td style=\"text-align: left;\">NM_022089.4:c.1459C>T (homozygous)</td><td style=\"text-align: left;\">Parkinsonism (HP:0001300); Rigidity (HP:0002063); Bradykinesia (HP:0002067); Hyperreflexia (HP:0001347); Babinski sign (HP:0003487); Cerebellar atrophy (HP:0001272); Positive Romberg sign (HP:0002403); Stooped posture (HP:0025403); excluded: Visual hallucination (HP:0002367)</td></tr>\n",
       "<tr><td style=\"text-align: left;\">KRS-103-IV-2 (FEMALE; P45Y)</td><td style=\"text-align: left;\">Kufor-Rakeb syndrome (OMIM:606693)</td><td style=\"text-align: left;\">NM_022089.4:c.2455C>T (homozygous)</td><td style=\"text-align: left;\"><b>P10Y</b>: Bradykinesia (HP:0002067)<br/>Parkinsonism (HP:0001300); Rigidity (HP:0002063); Slow saccadic eye movements (HP:0000514); Supranuclear gaze palsy (HP:0000605); Dysarthria (HP:0001260); Dementia (HP:0000726); Tremor (HP:0001337); Hyperreflexia (HP:0001347); Babinski sign (HP:0003487); Depression (HP:0000716); Visual hallucination (HP:0002367); Postural instability (HP:0002172); Pes cavus (HP:0001761); Global brain atrophy (HP:0002283); Action myoclonus (HP:0034360); Pseudobulbar affect (HP:0002193); excluded: Dystonia (HP:0001332)</td></tr>\n",
       "<tr><td style=\"text-align: left;\">KRS-103-IV-9 (FEMALE; P30Y)</td><td style=\"text-align: left;\">Kufor-Rakeb syndrome (OMIM:606693)</td><td style=\"text-align: left;\">NM_022089.4:c.2455C>T (homozygous)</td><td style=\"text-align: left;\">Parkinsonism (HP:0001300); Rigidity (HP:0002063); Bradykinesia (HP:0002067); Slow saccadic eye movements (HP:0000514); Supranuclear gaze palsy (HP:0000605); Dysarthria (HP:0001260); Tremor (HP:0001337); Hyperreflexia (HP:0001347); Babinski sign (HP:0003487); Depression (HP:0000716); Visual hallucination (HP:0002367); Postural instability (HP:0002172); Pes cavus (HP:0001761); Seizure (HP:0001250); Freezing of gait (HP:0031825); excluded: Dystonia (HP:0001332)</td></tr>\n",
       "<tr><td style=\"text-align: left;\">KRS-103-IV-10 (FEMALE; P31Y)</td><td style=\"text-align: left;\">Kufor-Rakeb syndrome (OMIM:606693)</td><td style=\"text-align: left;\">NM_022089.4:c.2455C>T (homozygous)</td><td style=\"text-align: left;\">Parkinsonism (HP:0001300); Rigidity (HP:0002063); Bradykinesia (HP:0002067); Slow saccadic eye movements (HP:0000514); Supranuclear gaze palsy (HP:0000605); Dysarthria (HP:0001260); Tremor (HP:0001337); Hyperreflexia (HP:0001347); Depression (HP:0000716); Visual hallucination (HP:0002367); Pes cavus (HP:0001761); Seizure (HP:0001250); Decreased seeking of relationships (HP:5200320); excluded: Dystonia (HP:0001332); excluded: Babinski sign (HP:0003487)</td></tr>\n",
       "<tr><td style=\"text-align: left;\">KRS-103-IV-13 (MALE; P36Y)</td><td style=\"text-align: left;\">Kufor-Rakeb syndrome (OMIM:606693)</td><td style=\"text-align: left;\">NM_022089.4:c.2455C>T (homozygous)</td><td style=\"text-align: left;\">Parkinsonism (HP:0001300); Rigidity (HP:0002063); Bradykinesia (HP:0002067); Slow saccadic eye movements (HP:0000514); Supranuclear gaze palsy (HP:0000605); Dysarthria (HP:0001260); Tremor (HP:0001337); Hyperreflexia (HP:0001347); Babinski sign (HP:0003487); Depression (HP:0000716); Visual hallucination (HP:0002367); Pes cavus (HP:0001761); Drooling (HP:0002307); excluded: Dystonia (HP:0001332)</td></tr>\n",
       "<tr><td style=\"text-align: left;\">KRS-103-IV-14 (MALE; P24Y)</td><td style=\"text-align: left;\">Kufor-Rakeb syndrome (OMIM:606693)</td><td style=\"text-align: left;\">NM_022089.4:c.2455C>T (homozygous)</td><td style=\"text-align: left;\">Parkinsonism (HP:0001300); Rigidity (HP:0002063); Bradykinesia (HP:0002067); Slow saccadic eye movements (HP:0000514); Supranuclear gaze palsy (HP:0000605); Dysarthria (HP:0001260); Tremor (HP:0001337); Hyperreflexia (HP:0001347); Depression (HP:0000716); Visual hallucination (HP:0002367); Pes cavus (HP:0001761); Drooling (HP:0002307); excluded: Dystonia (HP:0001332); excluded: Babinski sign (HP:0003487)</td></tr>\n",
       "<tr><td style=\"text-align: left;\">40-year-old man (MALE; P40Y)</td><td style=\"text-align: left;\">Kufor-Rakeb syndrome (OMIM:606693)</td><td style=\"text-align: left;\">NM_022089.4:c.1101_1102dup (homozygous)</td><td style=\"text-align: left;\"><b>P18Y</b>: Parkinsonism (HP:0001300)<br/><b>P22Y</b>: Mask-like facies (HP:0000298); Rigidity (HP:0002063); Slow saccadic eye movements (HP:0000514); Supranuclear gaze palsy (HP:0000605); Dystonia (HP:0001332)<br/><b>P27Y</b>: Dysarthria (HP:0001260)<br/>Bradykinesia (HP:0002067); Babinski sign (HP:0003487); Visual hallucination (HP:0002367); Ankle clonus (HP:0011448); Dysphagia (HP:0002015); Cerebral atrophy (HP:0002059); Cerebellar atrophy (HP:0001272); excluded: Dementia (HP:0000726); excluded: Tremor (HP:0001337)</td></tr>\n",
       "<tr><td style=\"text-align: left;\">II-13 (MALE; P45Y)</td><td style=\"text-align: left;\">Kufor-Rakeb syndrome (OMIM:606693)</td><td style=\"text-align: left;\">NM_022089.4:c.3057del (homozygous)</td><td style=\"text-align: left;\">Parkinsonism (HP:0001300); Mask-like facies (HP:0000298); Rigidity (HP:0002063); Bradykinesia (HP:0002067); Supranuclear gaze palsy (HP:0000605); Dementia (HP:0000726); Hyperreflexia (HP:0001347); Babinski sign (HP:0003487); Visual hallucination (HP:0002367); Palmomental reflex (HP:0030902); Cerebral atrophy (HP:0002059); excluded: Tremor (HP:0001337)</td></tr>\n",
       "<tr><td style=\"text-align: left;\">II-14 (MALE; P45Y)</td><td style=\"text-align: left;\">Kufor-Rakeb syndrome (OMIM:606693)</td><td style=\"text-align: left;\">NM_022089.4:c.3057del (homozygous)</td><td style=\"text-align: left;\">Parkinsonism (HP:0001300); Mask-like facies (HP:0000298); Rigidity (HP:0002063); Bradykinesia (HP:0002067); Supranuclear gaze palsy (HP:0000605); Dementia (HP:0000726); Hyperreflexia (HP:0001347); Babinski sign (HP:0003487); Auditory hallucination (HP:0008765); Palmomental reflex (HP:0030902); Cerebral atrophy (HP:0002059); excluded: Tremor (HP:0001337); excluded: Visual hallucination (HP:0002367)</td></tr>\n",
       "<tr><td style=\"text-align: left;\">II-15 (MALE; P33Y)</td><td style=\"text-align: left;\">Kufor-Rakeb syndrome (OMIM:606693)</td><td style=\"text-align: left;\">NM_022089.4:c.3057del (homozygous)</td><td style=\"text-align: left;\">Parkinsonism (HP:0001300); Mask-like facies (HP:0000298); Rigidity (HP:0002063); Bradykinesia (HP:0002067); Dementia (HP:0000726); Tremor (HP:0001337); Hyperreflexia (HP:0001347); Babinski sign (HP:0003487); excluded: Visual hallucination (HP:0002367)</td></tr>\n",
       "<tr><td style=\"text-align: left;\">II-16 (FEMALE; P41Y)</td><td style=\"text-align: left;\">Kufor-Rakeb syndrome (OMIM:606693)</td><td style=\"text-align: left;\">NM_022089.4:c.3057del (homozygous)</td><td style=\"text-align: left;\">Parkinsonism (HP:0001300); Mask-like facies (HP:0000298); Bradykinesia (HP:0002067); Supranuclear gaze palsy (HP:0000605); Dementia (HP:0000726); Hyperreflexia (HP:0001347); Babinski sign (HP:0003487); Visual hallucination (HP:0002367); Palmomental reflex (HP:0030902); Cerebral atrophy (HP:0002059); excluded: Rigidity (HP:0002063); excluded: Tremor (HP:0001337)</td></tr>\n",
       "<tr><td style=\"text-align: left;\">II-17 (MALE; P37Y)</td><td style=\"text-align: left;\">Kufor-Rakeb syndrome (OMIM:606693)</td><td style=\"text-align: left;\">NM_022089.4:c.3057del (homozygous)</td><td style=\"text-align: left;\">Parkinsonism (HP:0001300); Mask-like facies (HP:0000298); Bradykinesia (HP:0002067); Supranuclear gaze palsy (HP:0000605); Dementia (HP:0000726); Hyperreflexia (HP:0001347); Babinski sign (HP:0003487); Palmomental reflex (HP:0030902); excluded: Rigidity (HP:0002063); excluded: Tremor (HP:0001337); excluded: Visual hallucination (HP:0002367)</td></tr>\n",
       "<tr><td style=\"text-align: left;\">NAPO-6 (MALE; P41Y)</td><td style=\"text-align: left;\">Kufor-Rakeb syndrome (OMIM:606693)</td><td style=\"text-align: left;\">NM_022089.4:c.2629G>A (homozygous)</td><td style=\"text-align: left;\">Parkinsonism (HP:0001300); Mask-like facies (HP:0000298); Rigidity (HP:0002063); Bradykinesia (HP:0002067); Slow saccadic eye movements (HP:0000514); Supranuclear gaze palsy (HP:0000605); Dystonia (HP:0001332); Dementia (HP:0000726); Hyperreflexia (HP:0001347); Babinski sign (HP:0003487); Palmomental reflex (HP:0030902); excluded: Tremor (HP:0001337)</td></tr>\n",
       "<tr><td style=\"text-align: left;\">NAPO-7 (MALE; P31Y)</td><td style=\"text-align: left;\">Kufor-Rakeb syndrome (OMIM:606693)</td><td style=\"text-align: left;\">NM_022089.4:c.2629G>A (homozygous)</td><td style=\"text-align: left;\">Parkinsonism (HP:0001300); Dementia (HP:0000726); Hyperreflexia (HP:0001347); Babinski sign (HP:0003487); excluded: Mask-like facies (HP:0000298); excluded: Rigidity (HP:0002063); excluded: Bradykinesia (HP:0002067); excluded: Slow saccadic eye movements (HP:0000514); excluded: Supranuclear gaze palsy (HP:0000605); excluded: Dystonia (HP:0001332); excluded: Tremor (HP:0001337)</td></tr>\n",
       "<tr><td style=\"text-align: left;\">0-year-old child (MALE; P10Y)</td><td style=\"text-align: left;\">Kufor-Rakeb syndrome (OMIM:606693)</td><td style=\"text-align: left;\"><ul> <li>NM_022089.4:c.1321A>T (heterozygous)</li> <li>NM_022089.4:c.3205G>A (heterozygous)</li> </ul></td><td style=\"text-align: left;\"><b>P8Y</b>: Dystonia (HP:0001332)<br/><b>P10Y</b>: Rigidity (HP:0002063); Dementia (HP:0000726); Tremor (HP:0001337)<br/>Parkinsonism (HP:0001300); Bradykinesia (HP:0002067); Frequent falls (HP:0002359); Delayed speech and language development (HP:0000750); Intellectual disability (HP:0001249)</td></tr>\n",
       "<tr><td style=\"text-align: left;\">X4015 (FEMALE; P24Y)</td><td style=\"text-align: left;\">Kufor-Rakeb syndrome (OMIM:606693)</td><td style=\"text-align: left;\">NM_022089.4:c.2572C>T (homozygous)</td><td style=\"text-align: left;\">Parkinsonism (HP:0001300); Mask-like facies (HP:0000298); Rigidity (HP:0002063); Bradykinesia (HP:0002067); Slow saccadic eye movements (HP:0000514); Dystonia (HP:0001332); Dysarthria (HP:0001260); Tremor (HP:0001337); Babinski sign (HP:0003487); Cerebellar atrophy (HP:0001272); excluded: Dementia (HP:0000726); excluded: Visual hallucination (HP:0002367)</td></tr>\n",
       "<tr><td style=\"text-align: left;\">X4014 (MALE; P25Y)</td><td style=\"text-align: left;\">Kufor-Rakeb syndrome (OMIM:606693)</td><td style=\"text-align: left;\">NM_022089.4:c.2572C>T (homozygous)</td><td style=\"text-align: left;\">Parkinsonism (HP:0001300); Mask-like facies (HP:0000298); Rigidity (HP:0002063); Bradykinesia (HP:0002067); Slow saccadic eye movements (HP:0000514); Dystonia (HP:0001332); Dysarthria (HP:0001260); Dementia (HP:0000726); Tremor (HP:0001337); Babinski sign (HP:0003487); Cerebellar atrophy (HP:0001272); excluded: Visual hallucination (HP:0002367)</td></tr>\n",
       "<tr><td style=\"text-align: left;\">II.3 (MALE; P10Y)</td><td style=\"text-align: left;\">Kufor-Rakeb syndrome (OMIM:606693)</td><td style=\"text-align: left;\">NM_022089.4:c.2552_2553del (homozygous)</td><td style=\"text-align: left;\"><b>P11Y</b>: Dementia (HP:0000726)<br/>Parkinsonism (HP:0001300); Mask-like facies (HP:0000298); Rigidity (HP:0002063); Bradykinesia (HP:0002067); Slow saccadic eye movements (HP:0000514); Dystonia (HP:0001332); Tremor (HP:0001337); Hyperreflexia (HP:0001347); excluded: Supranuclear gaze palsy (HP:0000605); excluded: Babinski sign (HP:0003487); excluded: Depression (HP:0000716)</td></tr>\n",
       "<tr><td style=\"text-align: left;\">a male patient (MALE; P34Y)</td><td style=\"text-align: left;\">Kufor-Rakeb syndrome (OMIM:606693)</td><td style=\"text-align: left;\">NM_022089.4:c.2822del (homozygous)</td><td style=\"text-align: left;\"><b>P27Y</b>: Bradykinesia (HP:0002067); Dysarthria (HP:0001260)<br/><b>P34Y</b>: Mask-like facies (HP:0000298); Rigidity (HP:0002063); Slow saccadic eye movements (HP:0000514); Supranuclear gaze palsy (HP:0000605); Hyperreflexia (HP:0001347)<br/>Parkinsonism (HP:0001300); Dystonia (HP:0001332); Dysphagia (HP:0002015); Frequent falls (HP:0002359); Cerebral cortical atrophy (HP:0002120)</td></tr>\n",
       "<tr><td style=\"text-align: left;\">II-5 (FEMALE; P31Y)</td><td style=\"text-align: left;\">Kufor-Rakeb syndrome (OMIM:606693)</td><td style=\"text-align: left;\">NM_022089.4:c.2561T>G (homozygous)</td><td style=\"text-align: left;\">Parkinsonism (HP:0001300); Rigidity (HP:0002063); Bradykinesia (HP:0002067); Dysarthria (HP:0001260); Dementia (HP:0000726); excluded: Tremor (HP:0001337)</td></tr>\n",
       "<tr><td style=\"text-align: left;\">II-8 (MALE; P26Y)</td><td style=\"text-align: left;\">Kufor-Rakeb syndrome (OMIM:606693)</td><td style=\"text-align: left;\">NM_022089.4:c.2561T>G (homozygous)</td><td style=\"text-align: left;\">Parkinsonism (HP:0001300); Rigidity (HP:0002063); Bradykinesia (HP:0002067); Dysarthria (HP:0001260); Dementia (HP:0000726); excluded: Tremor (HP:0001337)</td></tr>\n",
       "<tr><td style=\"text-align: left;\">II-9 (FEMALE; P28Y)</td><td style=\"text-align: left;\">Kufor-Rakeb syndrome (OMIM:606693)</td><td style=\"text-align: left;\">NM_022089.4:c.2561T>G (homozygous)</td><td style=\"text-align: left;\">Parkinsonism (HP:0001300); Rigidity (HP:0002063); Bradykinesia (HP:0002067); Dysarthria (HP:0001260); Dementia (HP:0000726)</td></tr>\n",
       "<tr><td style=\"text-align: left;\">IV-1 (FEMALE; n/a)</td><td style=\"text-align: left;\">Kufor-Rakeb syndrome (OMIM:606693)</td><td style=\"text-align: left;\">NM_022089.4:c.2473delinsAA (homozygous)</td><td style=\"text-align: left;\">Dementia (HP:0000726); Hyperreflexia (HP:0001347); Babinski sign (HP:0003487); Cerebral atrophy (HP:0002059); excluded: Visual hallucination (HP:0002367)</td></tr>\n",
       "<tr><td style=\"text-align: left;\">IV-6 (MALE; n/a)</td><td style=\"text-align: left;\">Kufor-Rakeb syndrome (OMIM:606693)</td><td style=\"text-align: left;\">NM_022089.4:c.2473delinsAA (homozygous)</td><td style=\"text-align: left;\">Dementia (HP:0000726); Psychosis (HP:0000709); Cerebral atrophy (HP:0002059); excluded: Visual hallucination (HP:0002367)</td></tr>\n",
       "<tr><td style=\"text-align: left;\">V-1 (MALE; n/a)</td><td style=\"text-align: left;\">Kufor-Rakeb syndrome (OMIM:606693)</td><td style=\"text-align: left;\">NM_022089.4:c.2473delinsAA (homozygous)</td><td style=\"text-align: left;\">Rigidity (HP:0002063); Bradykinesia (HP:0002067); Supranuclear gaze palsy (HP:0000605); Dementia (HP:0000726); Hyperreflexia (HP:0001347); Babinski sign (HP:0003487); Visual hallucination (HP:0002367); Spasticity (HP:0001257); Auditory hallucination (HP:0008765); excluded: Slow saccadic eye movements (HP:0000514); excluded: Tremor (HP:0001337)</td></tr>\n",
       "<tr><td style=\"text-align: left;\">V-3 (FEMALE; n/a)</td><td style=\"text-align: left;\">Kufor-Rakeb syndrome (OMIM:606693)</td><td style=\"text-align: left;\">NM_022089.4:c.2473delinsAA (homozygous)</td><td style=\"text-align: left;\">Rigidity (HP:0002063); Bradykinesia (HP:0002067); Dementia (HP:0000726); excluded: Slow saccadic eye movements (HP:0000514); excluded: Supranuclear gaze palsy (HP:0000605); excluded: Tremor (HP:0001337); excluded: Hyperreflexia (HP:0001347); excluded: Babinski sign (HP:0003487); excluded: Visual hallucination (HP:0002367)</td></tr>\n",
       "<tr><td style=\"text-align: left;\">V-5 (FEMALE; n/a)</td><td style=\"text-align: left;\">Kufor-Rakeb syndrome (OMIM:606693)</td><td style=\"text-align: left;\">NM_022089.4:c.2473delinsAA (homozygous)</td><td style=\"text-align: left;\">Slow saccadic eye movements (HP:0000514); Supranuclear gaze palsy (HP:0000605); Dementia (HP:0000726); Hyperreflexia (HP:0001347); Babinski sign (HP:0003487); Spasticity (HP:0001257); excluded: Rigidity (HP:0002063); excluded: Bradykinesia (HP:0002067); excluded: Tremor (HP:0001337); excluded: Visual hallucination (HP:0002367)</td></tr>\n",
       "<tr><td style=\"text-align: left;\">V-9 (FEMALE; n/a)</td><td style=\"text-align: left;\">Kufor-Rakeb syndrome (OMIM:606693)</td><td style=\"text-align: left;\">NM_022089.4:c.2473delinsAA (homozygous)</td><td style=\"text-align: left;\">Bradykinesia (HP:0002067); Dementia (HP:0000726); Tremor (HP:0001337); excluded: Visual hallucination (HP:0002367)</td></tr>\n",
       "</table>"
      ],
      "text/plain": [
       "<IPython.core.display.HTML object>"
      ]
     },
     "metadata": {},
     "output_type": "display_data"
    }
   ],
   "source": [
    "individuals = cvalidator.get_error_free_individual_list()\n",
    "table = IndividualTable(individuals)\n",
    "display(HTML(table.to_html()))"
   ]
  },
  {
   "cell_type": "code",
   "execution_count": 10,
   "id": "318392f8-f380-4434-b0b8-28d0595de787",
   "metadata": {},
   "outputs": [
    {
     "name": "stdout",
     "output_type": "stream",
     "text": [
      "We output 33 GA4GH phenopackets to the directory phenopackets\n"
     ]
    }
   ],
   "source": [
    "encoder.output_individuals_as_phenopackets(individual_list=individuals)"
   ]
  },
  {
   "cell_type": "code",
   "execution_count": null,
   "id": "66c2fa80-2115-4702-84d7-78d49b4b5d8e",
   "metadata": {},
   "outputs": [],
   "source": []
  }
 ],
 "metadata": {
  "kernelspec": {
   "display_name": "Python 3 (ipykernel)",
   "language": "python",
   "name": "python3"
  },
  "language_info": {
   "codemirror_mode": {
    "name": "ipython",
    "version": 3
   },
   "file_extension": ".py",
   "mimetype": "text/x-python",
   "name": "python",
   "nbconvert_exporter": "python",
   "pygments_lexer": "ipython3",
   "version": "3.8.10"
  }
 },
 "nbformat": 4,
 "nbformat_minor": 5
}
