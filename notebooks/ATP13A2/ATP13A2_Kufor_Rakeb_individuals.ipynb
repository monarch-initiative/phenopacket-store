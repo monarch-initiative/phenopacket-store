{
 "cells": [
  {
   "cell_type": "markdown",
   "id": "6eb3dd6f-aca5-4bc3-bc20-31fa48afad2c",
   "metadata": {},
   "source": [
    "# ATP13A2\n",
    "\n",
    "Variants in the gene for ATPase 13A2 (ATP13A2) are associated with \n",
    "- [Kufor-Rakeb syndrome](https://omim.org/entry/606693) \t\n",
    "- [Spastic paraplegia 78, autosomal recessive](https://omim.org/entry/617225)\n",
    "\n",
    "- This notebook collects information about individuals with Kufor-Rakeb syndrome.\n",
    "- Fong CY, Juvenile parkinsonism associated with heterozygous frameshift ATP13A2 gene mutation. Eur J Paediatr Neurol. 2011 (PMID:21316993): Omitted because only one pathogenic allele reported and diagnosis appears uncertain.\n",
    "- Ugolino J, et al. Mutant Atp13a2 proteins involved in parkinsonism are degraded by ER-associated degradation and sensitize cells to ER-stress induced cell death. Hum Mol Genet. 2011  (PMID:21665991) omitted because no clinical information presented.\n",
    "- Paisán-Ruiz C, Early-onset L-dopa-responsive parkinsonism with pyramidal signs due to ATP13A2, PLA2G6, FBXO7 and spatacsin mutations. Mov Disord. 2010 (PMID:20669327): omitted because variant appears to be inaccurate.\n",
    "- Bouhouche A, et al. Mutation Analysis of Consanguineous Moroccan Patients with Parkinson's Disease Combining Microarray and Gene Panel. Front Neurol. 2017 (PMID:29163333). Omitted because only protein variants presented."
   ]
  },
  {
   "cell_type": "markdown",
   "id": "9c43d199-da67-4414-9670-51b26b1d365c",
   "metadata": {},
   "source": [
    "# Variants\n",
    "The source publications used varying genome builds and transcripts to report variants. We have standardized to hg38 and NM_022089.4 (which is the MANE select transcript for ATP13A2). The following list provides details of cases where we had to map from other transcripts or builds.\n",
    "\n",
    "Note the following transcripts:\n",
    "- ENST00000326735.13 = NM_022089.4 (MANE select, ensembl canonical)\n",
    "- ENST00000341676.9: Transcript length: 3,681 bps, Translation length: 1,158 residues = NM_001141973.3 (This variant (2) uses an alternate in-frame splice site in the 5' coding region, compared to variant 1, resulting in a shorter protein (isoform 2). The transcript contains an upstream ORF that could encode a 103aa protein and may modulate translation from the downstream ORF encoding isoform 2.)\n",
    "\n",
    "- GRCh37:1:17316187:G:A -> NM_022089.4:c.2608C>T (Prashanth LK, First Report of Kufor-Rakeb Syndrome (PARK 9) from India, and a Novel Nonsense Mutation in ATP13A2 Gene. Mov Disord Clin Pract. 2015)\n",
    "- c.T2525C:p.L842P (ENST00000341676 is equivalent to Q9NQ11-2, NM_001141974.2) -> NM_001141974.3:c.2525T>C; NP_001135446.1:p.(Leu842Pro))-> NM_022089.4:c.2657T>C"
   ]
  },
  {
   "cell_type": "code",
   "execution_count": 16,
   "id": "7ef78f54-6bba-4445-adeb-bb7c1133e0e1",
   "metadata": {},
   "outputs": [
    {
     "name": "stdout",
     "output_type": "stream",
     "text": [
      "Using pyphetools version 0.9.115\n"
     ]
    }
   ],
   "source": [
    "from pyphetools.creation import TemplateImporter, Moi\n",
    "from pyphetools.visualization import IndividualTable, QcVisualizer\n",
    "from IPython.display import display, HTML\n",
    "import pyphetools\n",
    "print(f\"Using pyphetools version {pyphetools.__version__}\")"
   ]
  },
  {
   "cell_type": "code",
   "execution_count": 17,
   "id": "8a5d2487-1cee-48da-9fd6-a15b2ada3448",
   "metadata": {},
   "outputs": [],
   "source": [
    "template = \"input/ATP13A2_Kufor_Rakeb_individuals.xlsx\"\n",
    "created_by = \"0000-0002-0736-9199\""
   ]
  },
  {
   "cell_type": "code",
   "execution_count": 18,
   "id": "ab115219-841c-477b-a429-01fb68560e28",
   "metadata": {},
   "outputs": [
    {
     "name": "stdout",
     "output_type": "stream",
     "text": [
      "HPO version 2024-12-12\n",
      "Created encoders for 73 fields\n",
      "Importing OMIM:606693, Kufor-Rakeb syndrome, HGNC:30213, ATP13A2,  NM_022089.4\n",
      "We output 34 GA4GH phenopackets to the directory phenopackets\n"
     ]
    }
   ],
   "source": [
    "timporter = TemplateImporter(template=template,  created_by=created_by)\n",
    "individual_list, cvalidator = timporter.import_phenopackets_from_template()"
   ]
  },
  {
   "cell_type": "code",
   "execution_count": 19,
   "id": "7fb7f504-9a63-4760-a8e6-22afb262c290",
   "metadata": {},
   "outputs": [
    {
     "data": {
      "text/html": [
       "<h2>Cohort validation</h2>\n",
       "<p>Errors found with 4 of 34 phenopackets.</p>\n",
       "<table style=\"border: 2px solid black; align: \"left\">\n",
       "<caption>Error counts</caption>\n",
       "<tr><th style=\"text-align: left;font-weight: bold;\">Level</th><th style=\"text-align: left;font-weight: bold;\">Error category</th><th style=\"text-align: left;font-weight: bold;\">Count</th></tr>\n",
       "<tr><td style=\"text-align: left;\">WARNING</td><td style=\"text-align: left;\">REDUNDANT</td><td style=\"text-align: left;\">5</td></tr>\n",
       "</table>\n",
       "<p>A total of 5 issues were fixed and no individual was removed from the cohort.</p>"
      ],
      "text/plain": [
       "<IPython.core.display.HTML object>"
      ]
     },
     "metadata": {},
     "output_type": "display_data"
    }
   ],
   "source": [
    "qc = QcVisualizer(cohort_validator=cvalidator)\n",
    "display(HTML(qc.to_summary_html()))"
   ]
  },
  {
   "cell_type": "code",
   "execution_count": 20,
   "id": "804688e4-2c61-4e72-be8a-e3e8601ddc7a",
   "metadata": {},
   "outputs": [
    {
     "data": {
      "text/html": [
       "<table style=\"border: 2px solid black; align: \"left\">\n",
       "<caption>34 phenopackets - PMID:30838237 (n=1); PMID:30713959 (n=1); PMID:21542062 (n=2); PMID:30746398 (n=2); PMID:30868101 (n=5); PMID:20310007 (n=1); PMID:20683840 (n=5); PMID:20853184 (n=2); PMID:29903538 (n=1); PMID:24949580 (n=2); PMID:21094623 (n=1); PMID:26421390 (n=1); PMID:22388936 (n=4); PMID:21696388 (n=6)</caption>\n",
       "<tr><th style=\"text-align: left;font-weight: bold;\">Individual</th><th style=\"text-align: left;font-weight: bold;\">Disease</th><th style=\"text-align: left;font-weight: bold;\">Genotype</th><th style=\"text-align: left;font-weight: bold;\">Phenotypic features</th></tr>\n",
       "<tr><td style=\"text-align: left;\">18-year-old adolescent male (MALE; P18Y)</td><td style=\"text-align: left;\">Kufor-Rakeb syndrome (OMIM:606693)</td><td style=\"text-align: left;\">NM_022089.4:c.2608C>T (homozygous)</td><td style=\"text-align: left;\">Dystonia (HP:0001332): onset ; Micrographia (HP:0031908): onset ; excluded: Visual hallucination (HP:0002367): onset <br/><b>TimeElement(element=Age(iso8601duration=P18Y))</b>: Parkinsonism (HP:0001300): onset age {\n",
       "  iso8601duration: \"P18Y\"\n",
       "}\n",
       "; Mask-like facies (HP:0000298): onset age {\n",
       "  iso8601duration: \"P18Y\"\n",
       "}\n",
       "; Rigidity (HP:0002063): onset age {\n",
       "  iso8601duration: \"P18Y\"\n",
       "}\n",
       "; Bradykinesia (HP:0002067): onset age {\n",
       "  iso8601duration: \"P18Y\"\n",
       "}\n",
       "; Slow saccadic eye movements (HP:0000514): onset age {\n",
       "  iso8601duration: \"P18Y\"\n",
       "}\n",
       "; Depression (HP:0000716): onset age {\n",
       "  iso8601duration: \"P18Y\"\n",
       "}\n",
       "</td></tr>\n",
       "<tr><td style=\"text-align: left;\">A man aged 32 years (MALE; P32Y)</td><td style=\"text-align: left;\">Kufor-Rakeb syndrome (OMIM:606693)</td><td style=\"text-align: left;\">NM_022089.4:c.2657T>C (homozygous)</td><td style=\"text-align: left;\">Rigidity (HP:0002063): onset ; Dysarthria (HP:0001260): onset ; Dementia (HP:0000726): onset ; Hyperreflexia (HP:0001347): onset ; Visual hallucination (HP:0002367): onset ; Urinary incontinence (HP:0000020): onset ; Amplification of sexual behavior (HP:5200321): onset ; Foot dorsiflexor weakness (HP:0009027): onset ; Frequent falls (HP:0002359): onset ; Resting tremor (HP:0002322): onset ; Diffuse cerebral atrophy (HP:0002506): onset ; Memory impairment (HP:0002354): onset ; Bowel incontinence (HP:0002607): onset ; Torticollis (HP:0000473): onset ; Auditory hallucination (HP:0008765): onset ; excluded: Babinski sign (HP:0003487): onset <br/><b>TimeElement(element=Age(iso8601duration=P21Y))</b>: Parkinsonism (HP:0001300): onset age {\n",
       "  iso8601duration: \"P21Y\"\n",
       "}\n",
       "; Bradykinesia (HP:0002067): onset age {\n",
       "  iso8601duration: \"P21Y\"\n",
       "}\n",
       "</td></tr>\n",
       "<tr><td style=\"text-align: left;\"> 22-year-old Asian mal (MALE; P22Y)</td><td style=\"text-align: left;\">Kufor-Rakeb syndrome (OMIM:606693)</td><td style=\"text-align: left;\"><ul> <li>NM_022089.4:c.3176T>G (heterozygous)</li> <li>NM_022089.4:c.3253del (heterozygous)</li> </ul></td><td style=\"text-align: left;\">Slow saccadic eye movements (HP:0000514): onset ; Supranuclear gaze palsy (HP:0000605): onset ; Dystonia (HP:0001332): onset ; Dementia (HP:0000726): onset ; Hyperreflexia (HP:0001347): onset ; Babinski sign (HP:0003487): onset ; Mild global developmental delay (HP:0011342): onset ; Glabellar reflex (HP:0030904): onset ; Hypometric saccades (HP:0000571): onset ; Social anxiety (HP:6000029): onset ; Upper limb postural tremor (HP:0007351): onset ; excluded: Visual hallucination (HP:0002367): onset <br/><b>TimeElement(element=Age(iso8601duration=P19Y))</b>: Parkinsonism (HP:0001300): onset age {\n",
       "  iso8601duration: \"P19Y\"\n",
       "}\n",
       "; Rigidity (HP:0002063): onset age {\n",
       "  iso8601duration: \"P19Y\"\n",
       "}\n",
       "; Bradykinesia (HP:0002067): onset age {\n",
       "  iso8601duration: \"P19Y\"\n",
       "}\n",
       "<br/><b>TimeElement(element=Age(iso8601duration=P22Y))</b>: Mask-like facies (HP:0000298): onset age {\n",
       "  iso8601duration: \"P22Y\"\n",
       "}\n",
       "</td></tr>\n",
       "<tr><td style=\"text-align: left;\">his sister (FEMALE; P19Y)</td><td style=\"text-align: left;\">Kufor-Rakeb syndrome (OMIM:606693)</td><td style=\"text-align: left;\"><ul> <li>NM_022089.4:c.3176T>G (heterozygous)</li> <li>NM_022089.4:c.3253del (heterozygous)</li> </ul></td><td style=\"text-align: left;\">Rigidity (HP:0002063): onset ; Bradykinesia (HP:0002067): onset ; Slow saccadic eye movements (HP:0000514): onset ; Supranuclear gaze palsy (HP:0000605): onset ; Dementia (HP:0000726): onset ; Hyperreflexia (HP:0001347): onset ; Babinski sign (HP:0003487): onset ; Torticollis (HP:0000473): onset ; excluded: Visual hallucination (HP:0002367): onset <br/><b>TimeElement(element=Age(iso8601duration=P17Y))</b>: Depression (HP:0000716): onset age {\n",
       "  iso8601duration: \"P17Y\"\n",
       "}\n",
       "<br/><b>TimeElement(element=Age(iso8601duration=P18Y))</b>: Parkinsonism (HP:0001300): onset age {\n",
       "  iso8601duration: \"P18Y\"\n",
       "}\n",
       "</td></tr>\n",
       "<tr><td style=\"text-align: left;\">older brother (MALE; P30Y)</td><td style=\"text-align: left;\">Kufor-Rakeb syndrome (OMIM:606693)</td><td style=\"text-align: left;\">NM_022089.4:c.1459C>T (homozygous)</td><td style=\"text-align: left;\">Parkinsonism (HP:0001300): onset ; Mask-like facies (HP:0000298): onset ; Rigidity (HP:0002063): onset ; Bradykinesia (HP:0002067): onset ; Supranuclear gaze palsy (HP:0000605): onset ; Hyperreflexia (HP:0001347): onset ; excluded: Dystonia (HP:0001332): onset ; excluded: Dementia (HP:0000726): onset ; excluded: Visual hallucination (HP:0002367): onset </td></tr>\n",
       "<tr><td style=\"text-align: left;\">younger brother (MALE; P27Y)</td><td style=\"text-align: left;\">Kufor-Rakeb syndrome (OMIM:606693)</td><td style=\"text-align: left;\">NM_022089.4:c.1459C>T (homozygous)</td><td style=\"text-align: left;\">Parkinsonism (HP:0001300): onset ; Rigidity (HP:0002063): onset ; Bradykinesia (HP:0002067): onset ; Hyperreflexia (HP:0001347): onset ; Babinski sign (HP:0003487): onset ; Cerebellar atrophy (HP:0001272): onset ; Positive Romberg sign (HP:0002403): onset ; Stooped posture (HP:0025403): onset ; excluded: Visual hallucination (HP:0002367): onset </td></tr>\n",
       "<tr><td style=\"text-align: left;\">KRS-103-IV-2 (FEMALE; P45Y)</td><td style=\"text-align: left;\">Kufor-Rakeb syndrome (OMIM:606693)</td><td style=\"text-align: left;\">NM_022089.4:c.2455C>T (homozygous)</td><td style=\"text-align: left;\">Parkinsonism (HP:0001300): onset ; Rigidity (HP:0002063): onset ; Slow saccadic eye movements (HP:0000514): onset ; Supranuclear gaze palsy (HP:0000605): onset ; Dysarthria (HP:0001260): onset ; Dementia (HP:0000726): onset ; Tremor (HP:0001337): onset ; Hyperreflexia (HP:0001347): onset ; Babinski sign (HP:0003487): onset ; Depression (HP:0000716): onset ; Visual hallucination (HP:0002367): onset ; Pes cavus (HP:0001761): onset ; Postural instability (HP:0002172): onset ; Global brain atrophy (HP:0002283): onset ; Action myoclonus (HP:0034360): onset ; Pseudobulbar affect (HP:0002193): onset ; excluded: Dystonia (HP:0001332): onset <br/><b>TimeElement(element=Age(iso8601duration=P10Y))</b>: Bradykinesia (HP:0002067): onset age {\n",
       "  iso8601duration: \"P10Y\"\n",
       "}\n",
       "</td></tr>\n",
       "<tr><td style=\"text-align: left;\">KRS-103-IV-9 (FEMALE; P30Y)</td><td style=\"text-align: left;\">Kufor-Rakeb syndrome (OMIM:606693)</td><td style=\"text-align: left;\">NM_022089.4:c.2455C>T (homozygous)</td><td style=\"text-align: left;\">Parkinsonism (HP:0001300): onset ; Rigidity (HP:0002063): onset ; Bradykinesia (HP:0002067): onset ; Slow saccadic eye movements (HP:0000514): onset ; Supranuclear gaze palsy (HP:0000605): onset ; Dysarthria (HP:0001260): onset ; Tremor (HP:0001337): onset ; Hyperreflexia (HP:0001347): onset ; Babinski sign (HP:0003487): onset ; Depression (HP:0000716): onset ; Visual hallucination (HP:0002367): onset ; Seizure (HP:0001250): onset ; Pes cavus (HP:0001761): onset ; Postural instability (HP:0002172): onset ; Freezing of gait (HP:0031825): onset ; excluded: Dystonia (HP:0001332): onset </td></tr>\n",
       "<tr><td style=\"text-align: left;\">KRS-103-IV-10 (FEMALE; P31Y)</td><td style=\"text-align: left;\">Kufor-Rakeb syndrome (OMIM:606693)</td><td style=\"text-align: left;\">NM_022089.4:c.2455C>T (homozygous)</td><td style=\"text-align: left;\">Parkinsonism (HP:0001300): onset ; Rigidity (HP:0002063): onset ; Bradykinesia (HP:0002067): onset ; Slow saccadic eye movements (HP:0000514): onset ; Supranuclear gaze palsy (HP:0000605): onset ; Dysarthria (HP:0001260): onset ; Tremor (HP:0001337): onset ; Hyperreflexia (HP:0001347): onset ; Depression (HP:0000716): onset ; Visual hallucination (HP:0002367): onset ; Seizure (HP:0001250): onset ; Diminishment of relationship seeking (HP:5200320): onset ; Pes cavus (HP:0001761): onset ; excluded: Dystonia (HP:0001332): onset ; excluded: Babinski sign (HP:0003487): onset </td></tr>\n",
       "<tr><td style=\"text-align: left;\">KRS-103-IV-13 (MALE; P36Y)</td><td style=\"text-align: left;\">Kufor-Rakeb syndrome (OMIM:606693)</td><td style=\"text-align: left;\">NM_022089.4:c.2455C>T (homozygous)</td><td style=\"text-align: left;\">Parkinsonism (HP:0001300): onset ; Rigidity (HP:0002063): onset ; Bradykinesia (HP:0002067): onset ; Slow saccadic eye movements (HP:0000514): onset ; Supranuclear gaze palsy (HP:0000605): onset ; Dysarthria (HP:0001260): onset ; Tremor (HP:0001337): onset ; Hyperreflexia (HP:0001347): onset ; Babinski sign (HP:0003487): onset ; Depression (HP:0000716): onset ; Visual hallucination (HP:0002367): onset ; Pes cavus (HP:0001761): onset ; Drooling (HP:0002307): onset ; excluded: Dystonia (HP:0001332): onset </td></tr>\n",
       "<tr><td style=\"text-align: left;\">KRS-103-IV-14 (MALE; P24Y)</td><td style=\"text-align: left;\">Kufor-Rakeb syndrome (OMIM:606693)</td><td style=\"text-align: left;\">NM_022089.4:c.2455C>T (homozygous)</td><td style=\"text-align: left;\">Parkinsonism (HP:0001300): onset ; Rigidity (HP:0002063): onset ; Bradykinesia (HP:0002067): onset ; Slow saccadic eye movements (HP:0000514): onset ; Supranuclear gaze palsy (HP:0000605): onset ; Dysarthria (HP:0001260): onset ; Tremor (HP:0001337): onset ; Hyperreflexia (HP:0001347): onset ; Depression (HP:0000716): onset ; Visual hallucination (HP:0002367): onset ; Pes cavus (HP:0001761): onset ; Drooling (HP:0002307): onset ; excluded: Dystonia (HP:0001332): onset ; excluded: Babinski sign (HP:0003487): onset </td></tr>\n",
       "<tr><td style=\"text-align: left;\">40-year-old man (MALE; P40Y)</td><td style=\"text-align: left;\">Kufor-Rakeb syndrome (OMIM:606693)</td><td style=\"text-align: left;\">NM_022089.4:c.1101_1102dup (homozygous)</td><td style=\"text-align: left;\">Bradykinesia (HP:0002067): onset ; Babinski sign (HP:0003487): onset ; Visual hallucination (HP:0002367): onset ; Cerebellar atrophy (HP:0001272): onset ; Dysphagia (HP:0002015): onset ; Cerebral atrophy (HP:0002059): onset ; Ankle clonus (HP:0011448): onset ; excluded: Dementia (HP:0000726): onset ; excluded: Tremor (HP:0001337): onset <br/><b>TimeElement(element=Age(iso8601duration=P18Y))</b>: Parkinsonism (HP:0001300): onset age {\n",
       "  iso8601duration: \"P18Y\"\n",
       "}\n",
       "<br/><b>TimeElement(element=Age(iso8601duration=P22Y))</b>: Mask-like facies (HP:0000298): onset age {\n",
       "  iso8601duration: \"P22Y\"\n",
       "}\n",
       "; Rigidity (HP:0002063): onset age {\n",
       "  iso8601duration: \"P22Y\"\n",
       "}\n",
       "; Slow saccadic eye movements (HP:0000514): onset age {\n",
       "  iso8601duration: \"P22Y\"\n",
       "}\n",
       "; Supranuclear gaze palsy (HP:0000605): onset age {\n",
       "  iso8601duration: \"P22Y\"\n",
       "}\n",
       "; Dystonia (HP:0001332): onset age {\n",
       "  iso8601duration: \"P22Y\"\n",
       "}\n",
       "<br/><b>TimeElement(element=Age(iso8601duration=P27Y))</b>: Dysarthria (HP:0001260): onset age {\n",
       "  iso8601duration: \"P27Y\"\n",
       "}\n",
       "</td></tr>\n",
       "<tr><td style=\"text-align: left;\">II-13 (MALE; P45Y)</td><td style=\"text-align: left;\">Kufor-Rakeb syndrome (OMIM:606693)</td><td style=\"text-align: left;\">NM_022089.4:c.3057del (homozygous)</td><td style=\"text-align: left;\">Parkinsonism (HP:0001300): onset ; Mask-like facies (HP:0000298): onset ; Rigidity (HP:0002063): onset ; Bradykinesia (HP:0002067): onset ; Supranuclear gaze palsy (HP:0000605): onset ; Dementia (HP:0000726): onset ; Hyperreflexia (HP:0001347): onset ; Babinski sign (HP:0003487): onset ; Visual hallucination (HP:0002367): onset ; Palmomental reflex (HP:0030902): onset ; Cerebral atrophy (HP:0002059): onset ; excluded: Tremor (HP:0001337): onset </td></tr>\n",
       "<tr><td style=\"text-align: left;\">II-14 (MALE; P45Y)</td><td style=\"text-align: left;\">Kufor-Rakeb syndrome (OMIM:606693)</td><td style=\"text-align: left;\">NM_022089.4:c.3057del (homozygous)</td><td style=\"text-align: left;\">Parkinsonism (HP:0001300): onset ; Mask-like facies (HP:0000298): onset ; Rigidity (HP:0002063): onset ; Bradykinesia (HP:0002067): onset ; Supranuclear gaze palsy (HP:0000605): onset ; Dementia (HP:0000726): onset ; Hyperreflexia (HP:0001347): onset ; Babinski sign (HP:0003487): onset ; Palmomental reflex (HP:0030902): onset ; Cerebral atrophy (HP:0002059): onset ; Auditory hallucination (HP:0008765): onset ; excluded: Tremor (HP:0001337): onset ; excluded: Visual hallucination (HP:0002367): onset </td></tr>\n",
       "<tr><td style=\"text-align: left;\">II-15 (MALE; P33Y)</td><td style=\"text-align: left;\">Kufor-Rakeb syndrome (OMIM:606693)</td><td style=\"text-align: left;\">NM_022089.4:c.3057del (homozygous)</td><td style=\"text-align: left;\">Parkinsonism (HP:0001300): onset ; Mask-like facies (HP:0000298): onset ; Rigidity (HP:0002063): onset ; Bradykinesia (HP:0002067): onset ; Dementia (HP:0000726): onset ; Tremor (HP:0001337): onset ; Hyperreflexia (HP:0001347): onset ; Babinski sign (HP:0003487): onset ; excluded: Visual hallucination (HP:0002367): onset </td></tr>\n",
       "<tr><td style=\"text-align: left;\">II-16 (FEMALE; P41Y)</td><td style=\"text-align: left;\">Kufor-Rakeb syndrome (OMIM:606693)</td><td style=\"text-align: left;\">NM_022089.4:c.3057del (homozygous)</td><td style=\"text-align: left;\">Parkinsonism (HP:0001300): onset ; Mask-like facies (HP:0000298): onset ; Bradykinesia (HP:0002067): onset ; Supranuclear gaze palsy (HP:0000605): onset ; Dementia (HP:0000726): onset ; Hyperreflexia (HP:0001347): onset ; Babinski sign (HP:0003487): onset ; Visual hallucination (HP:0002367): onset ; Palmomental reflex (HP:0030902): onset ; Cerebral atrophy (HP:0002059): onset ; excluded: Rigidity (HP:0002063): onset ; excluded: Tremor (HP:0001337): onset </td></tr>\n",
       "<tr><td style=\"text-align: left;\">II-17 (MALE; P37Y)</td><td style=\"text-align: left;\">Kufor-Rakeb syndrome (OMIM:606693)</td><td style=\"text-align: left;\">NM_022089.4:c.3057del (homozygous)</td><td style=\"text-align: left;\">Parkinsonism (HP:0001300): onset ; Mask-like facies (HP:0000298): onset ; Bradykinesia (HP:0002067): onset ; Supranuclear gaze palsy (HP:0000605): onset ; Dementia (HP:0000726): onset ; Hyperreflexia (HP:0001347): onset ; Babinski sign (HP:0003487): onset ; Palmomental reflex (HP:0030902): onset ; excluded: Rigidity (HP:0002063): onset ; excluded: Tremor (HP:0001337): onset ; excluded: Visual hallucination (HP:0002367): onset </td></tr>\n",
       "<tr><td style=\"text-align: left;\">NAPO-6 (MALE; P41Y)</td><td style=\"text-align: left;\">Kufor-Rakeb syndrome (OMIM:606693)</td><td style=\"text-align: left;\">NM_022089.4:c.2629G>A (homozygous)</td><td style=\"text-align: left;\">Parkinsonism (HP:0001300): onset ; Mask-like facies (HP:0000298): onset ; Rigidity (HP:0002063): onset ; Bradykinesia (HP:0002067): onset ; Slow saccadic eye movements (HP:0000514): onset ; Supranuclear gaze palsy (HP:0000605): onset ; Dystonia (HP:0001332): onset ; Dementia (HP:0000726): onset ; Hyperreflexia (HP:0001347): onset ; Babinski sign (HP:0003487): onset ; Palmomental reflex (HP:0030902): onset ; excluded: Tremor (HP:0001337): onset </td></tr>\n",
       "<tr><td style=\"text-align: left;\">NAPO-7 (MALE; P31Y)</td><td style=\"text-align: left;\">Kufor-Rakeb syndrome (OMIM:606693)</td><td style=\"text-align: left;\">NM_022089.4:c.2629G>A (homozygous)</td><td style=\"text-align: left;\">Parkinsonism (HP:0001300): onset ; Dementia (HP:0000726): onset ; Hyperreflexia (HP:0001347): onset ; Babinski sign (HP:0003487): onset ; excluded: Mask-like facies (HP:0000298): onset ; excluded: Rigidity (HP:0002063): onset ; excluded: Bradykinesia (HP:0002067): onset ; excluded: Slow saccadic eye movements (HP:0000514): onset ; excluded: Supranuclear gaze palsy (HP:0000605): onset ; excluded: Dystonia (HP:0001332): onset ; excluded: Tremor (HP:0001337): onset </td></tr>\n",
       "<tr><td style=\"text-align: left;\">0-year-old child (MALE; P10Y)</td><td style=\"text-align: left;\">Kufor-Rakeb syndrome (OMIM:606693)</td><td style=\"text-align: left;\"><ul> <li>NM_022089.4:c.1321A>T (heterozygous)</li> <li>NM_022089.4:c.3205G>A (heterozygous)</li> </ul></td><td style=\"text-align: left;\">Parkinsonism (HP:0001300): onset ; Bradykinesia (HP:0002067): onset ; Frequent falls (HP:0002359): onset ; Intellectual disability (HP:0001249): onset ; Delayed speech and language development (HP:0000750): onset <br/><b>TimeElement(element=Age(iso8601duration=P8Y))</b>: Dystonia (HP:0001332): onset age {\n",
       "  iso8601duration: \"P8Y\"\n",
       "}\n",
       "<br/><b>TimeElement(element=Age(iso8601duration=P10Y))</b>: Rigidity (HP:0002063): onset age {\n",
       "  iso8601duration: \"P10Y\"\n",
       "}\n",
       "; Dementia (HP:0000726): onset age {\n",
       "  iso8601duration: \"P10Y\"\n",
       "}\n",
       "; Tremor (HP:0001337): onset age {\n",
       "  iso8601duration: \"P10Y\"\n",
       "}\n",
       "</td></tr>\n",
       "<tr><td style=\"text-align: left;\">X4015 (FEMALE; P24Y)</td><td style=\"text-align: left;\">Kufor-Rakeb syndrome (OMIM:606693)</td><td style=\"text-align: left;\">NM_022089.4:c.2572C>T (homozygous)</td><td style=\"text-align: left;\">Parkinsonism (HP:0001300): onset ; Mask-like facies (HP:0000298): onset ; Rigidity (HP:0002063): onset ; Bradykinesia (HP:0002067): onset ; Slow saccadic eye movements (HP:0000514): onset ; Dystonia (HP:0001332): onset ; Dysarthria (HP:0001260): onset ; Tremor (HP:0001337): onset ; Babinski sign (HP:0003487): onset ; Cerebellar atrophy (HP:0001272): onset ; excluded: Dementia (HP:0000726): onset ; excluded: Visual hallucination (HP:0002367): onset </td></tr>\n",
       "<tr><td style=\"text-align: left;\">X4014 (MALE; P25Y)</td><td style=\"text-align: left;\">Kufor-Rakeb syndrome (OMIM:606693)</td><td style=\"text-align: left;\">NM_022089.4:c.2572C>T (homozygous)</td><td style=\"text-align: left;\">Parkinsonism (HP:0001300): onset ; Mask-like facies (HP:0000298): onset ; Rigidity (HP:0002063): onset ; Bradykinesia (HP:0002067): onset ; Slow saccadic eye movements (HP:0000514): onset ; Dystonia (HP:0001332): onset ; Dysarthria (HP:0001260): onset ; Dementia (HP:0000726): onset ; Tremor (HP:0001337): onset ; Babinski sign (HP:0003487): onset ; Cerebellar atrophy (HP:0001272): onset ; excluded: Visual hallucination (HP:0002367): onset </td></tr>\n",
       "<tr><td style=\"text-align: left;\">II.3 (MALE; P10Y)</td><td style=\"text-align: left;\">Kufor-Rakeb syndrome (OMIM:606693)</td><td style=\"text-align: left;\">NM_022089.4:c.2552_2553del (homozygous)</td><td style=\"text-align: left;\">Parkinsonism (HP:0001300): onset ; Mask-like facies (HP:0000298): onset ; Rigidity (HP:0002063): onset ; Bradykinesia (HP:0002067): onset ; Slow saccadic eye movements (HP:0000514): onset ; Dystonia (HP:0001332): onset ; Tremor (HP:0001337): onset ; Hyperreflexia (HP:0001347): onset ; excluded: Supranuclear gaze palsy (HP:0000605): onset ; excluded: Babinski sign (HP:0003487): onset ; excluded: Depression (HP:0000716): onset <br/><b>TimeElement(element=Age(iso8601duration=P11Y))</b>: Dementia (HP:0000726): onset age {\n",
       "  iso8601duration: \"P11Y\"\n",
       "}\n",
       "</td></tr>\n",
       "<tr><td style=\"text-align: left;\">a male patient (MALE; P34Y)</td><td style=\"text-align: left;\">Kufor-Rakeb syndrome (OMIM:606693)</td><td style=\"text-align: left;\">NM_022089.4:c.2822del (homozygous)</td><td style=\"text-align: left;\">Parkinsonism (HP:0001300): onset ; Dystonia (HP:0001332): onset ; Dysphagia (HP:0002015): onset ; Frequent falls (HP:0002359): onset ; Cerebral cortical atrophy (HP:0002120): onset <br/><b>TimeElement(element=Age(iso8601duration=P27Y))</b>: Bradykinesia (HP:0002067): onset age {\n",
       "  iso8601duration: \"P27Y\"\n",
       "}\n",
       "; Dysarthria (HP:0001260): onset age {\n",
       "  iso8601duration: \"P27Y\"\n",
       "}\n",
       "<br/><b>TimeElement(element=Age(iso8601duration=P34Y))</b>: Mask-like facies (HP:0000298): onset age {\n",
       "  iso8601duration: \"P34Y\"\n",
       "}\n",
       "; Rigidity (HP:0002063): onset age {\n",
       "  iso8601duration: \"P34Y\"\n",
       "}\n",
       "; Slow saccadic eye movements (HP:0000514): onset age {\n",
       "  iso8601duration: \"P34Y\"\n",
       "}\n",
       "; Supranuclear gaze palsy (HP:0000605): onset age {\n",
       "  iso8601duration: \"P34Y\"\n",
       "}\n",
       "; Hyperreflexia (HP:0001347): onset age {\n",
       "  iso8601duration: \"P34Y\"\n",
       "}\n",
       "</td></tr>\n",
       "<tr><td style=\"text-align: left;\">II-1 (FEMALE; P35Y)</td><td style=\"text-align: left;\">Kufor-Rakeb syndrome (OMIM:606693)</td><td style=\"text-align: left;\">NM_022089.4:c.2561T>G (homozygous)</td><td style=\"text-align: left;\">Parkinsonism (HP:0001300): onset ; Rigidity (HP:0002063): onset ; Bradykinesia (HP:0002067): onset ; Dysarthria (HP:0001260): onset ; Dementia (HP:0000726): onset ; Tremor (HP:0001337): onset ; Fingerprint intracellular accumulation of autofluorescent lipopigment storage material (HP:0003208): onset ; Increased neuronal autofluorescent lipopigment (HP:0002074): onset ; Ataxia (HP:0001251): onset ; Myoclonus (HP:0001336): onset </td></tr>\n",
       "<tr><td style=\"text-align: left;\">II-5 (FEMALE; P31Y)</td><td style=\"text-align: left;\">Kufor-Rakeb syndrome (OMIM:606693)</td><td style=\"text-align: left;\">NM_022089.4:c.2561T>G (homozygous)</td><td style=\"text-align: left;\">Parkinsonism (HP:0001300): onset ; Rigidity (HP:0002063): onset ; Bradykinesia (HP:0002067): onset ; Dysarthria (HP:0001260): onset ; Dementia (HP:0000726): onset ; excluded: Tremor (HP:0001337): onset </td></tr>\n",
       "<tr><td style=\"text-align: left;\">II-8 (MALE; P26Y)</td><td style=\"text-align: left;\">Kufor-Rakeb syndrome (OMIM:606693)</td><td style=\"text-align: left;\">NM_022089.4:c.2561T>G (homozygous)</td><td style=\"text-align: left;\">Parkinsonism (HP:0001300): onset ; Rigidity (HP:0002063): onset ; Bradykinesia (HP:0002067): onset ; Dysarthria (HP:0001260): onset ; Dementia (HP:0000726): onset ; excluded: Tremor (HP:0001337): onset </td></tr>\n",
       "<tr><td style=\"text-align: left;\">II-9 (FEMALE; P28Y)</td><td style=\"text-align: left;\">Kufor-Rakeb syndrome (OMIM:606693)</td><td style=\"text-align: left;\">NM_022089.4:c.2561T>G (homozygous)</td><td style=\"text-align: left;\">Parkinsonism (HP:0001300): onset ; Rigidity (HP:0002063): onset ; Bradykinesia (HP:0002067): onset ; Dysarthria (HP:0001260): onset ; Dementia (HP:0000726): onset </td></tr>\n",
       "<tr><td style=\"text-align: left;\">IV-1 (FEMALE)</td><td style=\"text-align: left;\">Kufor-Rakeb syndrome (OMIM:606693)</td><td style=\"text-align: left;\">NM_022089.4:c.2473delinsAA (homozygous)</td><td style=\"text-align: left;\">Dementia (HP:0000726): onset ; Hyperreflexia (HP:0001347): onset ; Babinski sign (HP:0003487): onset ; Cerebral atrophy (HP:0002059): onset ; excluded: Visual hallucination (HP:0002367): onset </td></tr>\n",
       "<tr><td style=\"text-align: left;\">IV-6 (MALE)</td><td style=\"text-align: left;\">Kufor-Rakeb syndrome (OMIM:606693)</td><td style=\"text-align: left;\">NM_022089.4:c.2473delinsAA (homozygous)</td><td style=\"text-align: left;\">Dementia (HP:0000726): onset ; Psychosis (HP:0000709): onset ; Cerebral atrophy (HP:0002059): onset ; excluded: Visual hallucination (HP:0002367): onset </td></tr>\n",
       "<tr><td style=\"text-align: left;\">V-1 (MALE)</td><td style=\"text-align: left;\">Kufor-Rakeb syndrome (OMIM:606693)</td><td style=\"text-align: left;\">NM_022089.4:c.2473delinsAA (homozygous)</td><td style=\"text-align: left;\">Rigidity (HP:0002063): onset ; Bradykinesia (HP:0002067): onset ; Supranuclear gaze palsy (HP:0000605): onset ; Dementia (HP:0000726): onset ; Hyperreflexia (HP:0001347): onset ; Babinski sign (HP:0003487): onset ; Visual hallucination (HP:0002367): onset ; Spasticity (HP:0001257): onset ; Auditory hallucination (HP:0008765): onset ; excluded: Slow saccadic eye movements (HP:0000514): onset ; excluded: Tremor (HP:0001337): onset </td></tr>\n",
       "<tr><td style=\"text-align: left;\">V-3 (FEMALE)</td><td style=\"text-align: left;\">Kufor-Rakeb syndrome (OMIM:606693)</td><td style=\"text-align: left;\">NM_022089.4:c.2473delinsAA (homozygous)</td><td style=\"text-align: left;\">Rigidity (HP:0002063): onset ; Bradykinesia (HP:0002067): onset ; Dementia (HP:0000726): onset ; excluded: Slow saccadic eye movements (HP:0000514): onset ; excluded: Supranuclear gaze palsy (HP:0000605): onset ; excluded: Tremor (HP:0001337): onset ; excluded: Hyperreflexia (HP:0001347): onset ; excluded: Babinski sign (HP:0003487): onset ; excluded: Visual hallucination (HP:0002367): onset </td></tr>\n",
       "<tr><td style=\"text-align: left;\">V-5 (FEMALE)</td><td style=\"text-align: left;\">Kufor-Rakeb syndrome (OMIM:606693)</td><td style=\"text-align: left;\">NM_022089.4:c.2473delinsAA (homozygous)</td><td style=\"text-align: left;\">Slow saccadic eye movements (HP:0000514): onset ; Supranuclear gaze palsy (HP:0000605): onset ; Dementia (HP:0000726): onset ; Hyperreflexia (HP:0001347): onset ; Babinski sign (HP:0003487): onset ; Spasticity (HP:0001257): onset ; excluded: Rigidity (HP:0002063): onset ; excluded: Bradykinesia (HP:0002067): onset ; excluded: Tremor (HP:0001337): onset ; excluded: Visual hallucination (HP:0002367): onset </td></tr>\n",
       "<tr><td style=\"text-align: left;\">V-9 (FEMALE)</td><td style=\"text-align: left;\">Kufor-Rakeb syndrome (OMIM:606693)</td><td style=\"text-align: left;\">NM_022089.4:c.2473delinsAA (homozygous)</td><td style=\"text-align: left;\">Bradykinesia (HP:0002067): onset ; Dementia (HP:0000726): onset ; Tremor (HP:0001337): onset ; excluded: Visual hallucination (HP:0002367): onset </td></tr>\n",
       "</table>"
      ],
      "text/plain": [
       "<IPython.core.display.HTML object>"
      ]
     },
     "metadata": {},
     "output_type": "display_data"
    }
   ],
   "source": [
    "table = IndividualTable(cvalidator.get_error_free_individual_list())\n",
    "display(HTML(table.to_html()))"
   ]
  },
  {
   "cell_type": "code",
   "execution_count": null,
   "id": "318392f8-f380-4434-b0b8-28d0595de787",
   "metadata": {},
   "outputs": [
    {
     "name": "stdout",
     "output_type": "stream",
     "text": [
      "[pyphetools] Ingested 46 GA4GH phenopackets.\n",
      "[INFO] Extracted 35 from 46 phenopackets with OMIM:606693\n",
      "\n",
      "\tKufor-Rakeb syndrome (OMIM:606693): n=35\n",
      "We found a total of 55 unique HPO terms\n",
      "Extracted disease: Kufor-Rakeb syndrome (OMIM:606693)\n",
      "Wrote HPOA disease file to OMIM-606693.tab\n"
     ]
    }
   ],
   "source": [
    "pmid = \"PMID:30838237\"\n",
    "df = timporter.create_hpoa_from_phenopackets(pmid=pmid, mode_of_inheritance=Moi.AR, target=\"OMIM:606693\")"
   ]
  }
 ],
 "metadata": {
  "kernelspec": {
   "display_name": "ps24venv",
   "language": "python",
   "name": "python3"
  },
  "language_info": {
   "codemirror_mode": {
    "name": "ipython",
    "version": 3
   },
   "file_extension": ".py",
   "mimetype": "text/x-python",
   "name": "python",
   "nbconvert_exporter": "python",
   "pygments_lexer": "ipython3",
   "version": "3.12.8"
  }
 },
 "nbformat": 4,
 "nbformat_minor": 5
}
