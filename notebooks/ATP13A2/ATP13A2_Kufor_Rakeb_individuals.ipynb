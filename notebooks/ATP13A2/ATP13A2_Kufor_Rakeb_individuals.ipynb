{
 "cells": [
  {
   "cell_type": "markdown",
   "id": "6eb3dd6f-aca5-4bc3-bc20-31fa48afad2c",
   "metadata": {},
   "source": [
    "# ATP13A2\n",
    "\n",
    "Variants in the gene for ATPase 13A2 (ATP13A2) are associated with \n",
    "- [Kufor-Rakeb syndrome](https://omim.org/entry/606693) \t\n",
    "- [Spastic paraplegia 78, autosomal recessive](https://omim.org/entry/617225)\n",
    "\n",
    "- This notebook collects information about individuals with Kufor-Rakeb syndrome.\n",
    "- Fong CY, Juvenile parkinsonism associated with heterozygous frameshift ATP13A2 gene mutation. Eur J Paediatr Neurol. 2011 (PMID:21316993): Omitted because only one pathogenic allele reported and diagnosis appears uncertain.\n",
    "- Ugolino J, et al. Mutant Atp13a2 proteins involved in parkinsonism are degraded by ER-associated degradation and sensitize cells to ER-stress induced cell death. Hum Mol Genet. 2011  (PMID:21665991) omitted because no clinical information presented.\n",
    "- Paisán-Ruiz C, Early-onset L-dopa-responsive parkinsonism with pyramidal signs due to ATP13A2, PLA2G6, FBXO7 and spatacsin mutations. Mov Disord. 2010 (PMID:20669327): omitted because variant appears to be inaccurate.\n",
    "- Bouhouche A, et al. Mutation Analysis of Consanguineous Moroccan Patients with Parkinson's Disease Combining Microarray and Gene Panel. Front Neurol. 2017 (PMID:29163333). Omitted because only protein variants presented."
   ]
  },
  {
   "cell_type": "markdown",
   "id": "9c43d199-da67-4414-9670-51b26b1d365c",
   "metadata": {},
   "source": [
    "# Variants\n",
    "The source publications used varying genome builds and transcripts to report variants. We have standardized to hg38 and NM_022089.4 (which is the MANE select transcript for ATP13A2). The following list provides details of cases where we had to map from other transcripts or builds.\n",
    "\n",
    "Note the following transcripts:\n",
    "- ENST00000326735.13 = NM_022089.4 (MANE select, ensembl canonical)\n",
    "- ENST00000341676.9: Transcript length: 3,681 bps, Translation length: 1,158 residues = NM_001141973.3 (This variant (2) uses an alternate in-frame splice site in the 5' coding region, compared to variant 1, resulting in a shorter protein (isoform 2). The transcript contains an upstream ORF that could encode a 103aa protein and may modulate translation from the downstream ORF encoding isoform 2.)\n",
    "\n",
    "- GRCh37:1:17316187:G:A -> NM_022089.4:c.2608C>T (Prashanth LK, First Report of Kufor-Rakeb Syndrome (PARK 9) from India, and a Novel Nonsense Mutation in ATP13A2 Gene. Mov Disord Clin Pract. 2015)\n",
    "- c.T2525C:p.L842P (ENST00000341676 is equivalent to Q9NQ11-2, NM_001141974.2) -> NM_001141974.3:c.2525T>C; NP_001135446.1:p.(Leu842Pro))-> NM_022089.4:c.2657T>C"
   ]
  },
  {
   "cell_type": "code",
   "execution_count": 13,
   "id": "7ef78f54-6bba-4445-adeb-bb7c1133e0e1",
   "metadata": {},
   "outputs": [
    {
     "name": "stdout",
     "output_type": "stream",
     "text": [
      "Using pyphetools version 0.9.115\n"
     ]
    }
   ],
   "source": [
    "from pyphetools.creation import TemplateImporter, Moi\n",
    "from pyphetools.visualization import IndividualTable, QcVisualizer\n",
    "from IPython.display import display, HTML\n",
    "import pyphetools\n",
    "print(f\"Using pyphetools version {pyphetools.__version__}\")"
   ]
  },
  {
   "cell_type": "code",
   "execution_count": 14,
   "id": "8a5d2487-1cee-48da-9fd6-a15b2ada3448",
   "metadata": {},
   "outputs": [],
   "source": [
    "template = \"input/ATP13A2_Kufor_Rakeb_individuals.xlsx\"\n",
    "created_by = \"0000-0002-0736-9199\""
   ]
  },
  {
   "cell_type": "code",
   "execution_count": 15,
   "id": "ab115219-841c-477b-a429-01fb68560e28",
   "metadata": {},
   "outputs": [
    {
     "ename": "TimeoutError",
     "evalue": "The read operation timed out",
     "output_type": "error",
     "traceback": [
      "\u001b[0;31m---------------------------------------------------------------------------\u001b[0m",
      "\u001b[0;31mTimeoutError\u001b[0m                              Traceback (most recent call last)",
      "Cell \u001b[0;32mIn[15], line 2\u001b[0m\n\u001b[1;32m      1\u001b[0m timporter \u001b[38;5;241m=\u001b[39m TemplateImporter(template\u001b[38;5;241m=\u001b[39mtemplate,  created_by\u001b[38;5;241m=\u001b[39mcreated_by)\n\u001b[0;32m----> 2\u001b[0m individual_list, cvalidator \u001b[38;5;241m=\u001b[39m \u001b[43mtimporter\u001b[49m\u001b[38;5;241;43m.\u001b[39;49m\u001b[43mimport_phenopackets_from_template\u001b[49m\u001b[43m(\u001b[49m\u001b[43m)\u001b[49m\n",
      "File \u001b[0;32m~/GIT/phenopacket-store/ps24venv/lib/python3.12/site-packages/pyphetools/creation/import_template.py:152\u001b[0m, in \u001b[0;36mTemplateImporter.import_phenopackets_from_template\u001b[0;34m(self, deletions, duplications, inversions, translocations, hemizygous, leniant_MOI)\u001b[0m\n\u001b[1;32m    150\u001b[0m \u001b[38;5;28;01mfrom\u001b[39;00m \u001b[38;5;21;01mpyphetools\u001b[39;00m\u001b[38;5;21;01m.\u001b[39;00m\u001b[38;5;21;01mcreation\u001b[39;00m \u001b[38;5;28;01mimport\u001b[39;00m VariantManager\n\u001b[1;32m    151\u001b[0m \u001b[38;5;28;01mfrom\u001b[39;00m \u001b[38;5;21;01mpyphetools\u001b[39;00m\u001b[38;5;21;01m.\u001b[39;00m\u001b[38;5;21;01mvalidation\u001b[39;00m \u001b[38;5;28;01mimport\u001b[39;00m CohortValidator\n\u001b[0;32m--> 152\u001b[0m parser \u001b[38;5;241m=\u001b[39m \u001b[43mHpoParser\u001b[49m\u001b[43m(\u001b[49m\u001b[43mhpo_json_file\u001b[49m\u001b[38;5;241;43m=\u001b[39;49m\u001b[38;5;28;43mself\u001b[39;49m\u001b[38;5;241;43m.\u001b[39;49m\u001b[43m_hp_json\u001b[49m\u001b[43m)\u001b[49m\n\u001b[1;32m    153\u001b[0m hpo_cr \u001b[38;5;241m=\u001b[39m parser\u001b[38;5;241m.\u001b[39mget_hpo_concept_recognizer()\n\u001b[1;32m    154\u001b[0m hpo_ontology \u001b[38;5;241m=\u001b[39m parser\u001b[38;5;241m.\u001b[39mget_ontology()\n",
      "File \u001b[0;32m~/GIT/phenopacket-store/ps24venv/lib/python3.12/site-packages/pyphetools/creation/hpo_parser.py:41\u001b[0m, in \u001b[0;36mHpoParser.__init__\u001b[0;34m(self, hpo_json_file, release)\u001b[0m\n\u001b[1;32m     39\u001b[0m \u001b[38;5;28;01melse\u001b[39;00m:\n\u001b[1;32m     40\u001b[0m     store \u001b[38;5;241m=\u001b[39m hpotk\u001b[38;5;241m.\u001b[39mconfigure_ontology_store()\n\u001b[0;32m---> 41\u001b[0m     \u001b[38;5;28mself\u001b[39m\u001b[38;5;241m.\u001b[39m_ontology \u001b[38;5;241m=\u001b[39m \u001b[43mstore\u001b[49m\u001b[38;5;241;43m.\u001b[39;49m\u001b[43mload_hpo\u001b[49m\u001b[43m(\u001b[49m\u001b[43m)\u001b[49m\n",
      "File \u001b[0;32m~/GIT/phenopacket-store/ps24venv/lib/python3.12/site-packages/hpotk/store/_api.py:198\u001b[0m, in \u001b[0;36mOntologyStore.load_hpo\u001b[0;34m(self, release)\u001b[0m\n\u001b[1;32m    187\u001b[0m \u001b[38;5;28;01mdef\u001b[39;00m \u001b[38;5;21mload_hpo\u001b[39m(\n\u001b[1;32m    188\u001b[0m         \u001b[38;5;28mself\u001b[39m,\n\u001b[1;32m    189\u001b[0m         release: typing\u001b[38;5;241m.\u001b[39mOptional[\u001b[38;5;28mstr\u001b[39m] \u001b[38;5;241m=\u001b[39m \u001b[38;5;28;01mNone\u001b[39;00m,\n\u001b[1;32m    190\u001b[0m ) \u001b[38;5;241m-\u001b[39m\u001b[38;5;241m>\u001b[39m Ontology:\n\u001b[1;32m    191\u001b[0m \u001b[38;5;250m    \u001b[39m\u001b[38;5;124;03m\"\"\"\u001b[39;00m\n\u001b[1;32m    192\u001b[0m \u001b[38;5;124;03m    A convenience method for loading a specific HPO release.\u001b[39;00m\n\u001b[1;32m    193\u001b[0m \n\u001b[0;32m   (...)\u001b[0m\n\u001b[1;32m    196\u001b[0m \u001b[38;5;124;03m    :raises ValueError: if the `release` corresponds to a non-existing HPO release.\u001b[39;00m\n\u001b[1;32m    197\u001b[0m \u001b[38;5;124;03m    \"\"\"\u001b[39;00m\n\u001b[0;32m--> 198\u001b[0m     \u001b[38;5;28;01mreturn\u001b[39;00m \u001b[38;5;28;43mself\u001b[39;49m\u001b[38;5;241;43m.\u001b[39;49m\u001b[43mload_ontology\u001b[49m\u001b[43m(\u001b[49m\n\u001b[1;32m    199\u001b[0m \u001b[43m        \u001b[49m\u001b[43mOntologyType\u001b[49m\u001b[38;5;241;43m.\u001b[39;49m\u001b[43mHPO\u001b[49m\u001b[43m,\u001b[49m\u001b[43m \u001b[49m\n\u001b[1;32m    200\u001b[0m \u001b[43m        \u001b[49m\u001b[43mrelease\u001b[49m\u001b[38;5;241;43m=\u001b[39;49m\u001b[43mrelease\u001b[49m\u001b[43m,\u001b[49m\n\u001b[1;32m    201\u001b[0m \u001b[43m        \u001b[49m\u001b[43mprefixes_of_interest\u001b[49m\u001b[38;5;241;43m=\u001b[39;49m\u001b[43m{\u001b[49m\u001b[38;5;124;43m'\u001b[39;49m\u001b[38;5;124;43mHP\u001b[39;49m\u001b[38;5;124;43m'\u001b[39;49m\u001b[43m}\u001b[49m\u001b[43m,\u001b[49m\n\u001b[1;32m    202\u001b[0m \u001b[43m    \u001b[49m\u001b[43m)\u001b[49m\n",
      "File \u001b[0;32m~/GIT/phenopacket-store/ps24venv/lib/python3.12/site-packages/hpotk/store/_api.py:153\u001b[0m, in \u001b[0;36mOntologyStore.load_ontology\u001b[0;34m(self, ontology_type, release, **kwargs)\u001b[0m\n\u001b[1;32m    138\u001b[0m \u001b[38;5;28;01mdef\u001b[39;00m \u001b[38;5;21mload_ontology\u001b[39m(\n\u001b[1;32m    139\u001b[0m         \u001b[38;5;28mself\u001b[39m,\n\u001b[1;32m    140\u001b[0m         ontology_type: OntologyType,\n\u001b[1;32m    141\u001b[0m         release: typing\u001b[38;5;241m.\u001b[39mOptional[\u001b[38;5;28mstr\u001b[39m] \u001b[38;5;241m=\u001b[39m \u001b[38;5;28;01mNone\u001b[39;00m,\n\u001b[1;32m    142\u001b[0m         \u001b[38;5;241m*\u001b[39m\u001b[38;5;241m*\u001b[39mkwargs,\n\u001b[1;32m    143\u001b[0m ) \u001b[38;5;241m-\u001b[39m\u001b[38;5;241m>\u001b[39m Ontology:\n\u001b[1;32m    144\u001b[0m \u001b[38;5;250m    \u001b[39m\u001b[38;5;124;03m\"\"\"\u001b[39;00m\n\u001b[1;32m    145\u001b[0m \u001b[38;5;124;03m    Load a `release` of a given `ontology_type` as an ontology.\u001b[39;00m\n\u001b[1;32m    146\u001b[0m \n\u001b[0;32m   (...)\u001b[0m\n\u001b[1;32m    151\u001b[0m \u001b[38;5;124;03m    :raises ValueError: if the `release` corresponds to a non-existing ontology release.\u001b[39;00m\n\u001b[1;32m    152\u001b[0m \u001b[38;5;124;03m    \"\"\"\u001b[39;00m\n\u001b[0;32m--> 153\u001b[0m     \u001b[38;5;28;01mreturn\u001b[39;00m \u001b[38;5;28;43mself\u001b[39;49m\u001b[38;5;241;43m.\u001b[39;49m\u001b[43m_impl_load_ontology\u001b[49m\u001b[43m(\u001b[49m\n\u001b[1;32m    154\u001b[0m \u001b[43m        \u001b[49m\u001b[43mload_ontology\u001b[49m\u001b[43m,\u001b[49m\n\u001b[1;32m    155\u001b[0m \u001b[43m        \u001b[49m\u001b[43montology_type\u001b[49m\u001b[43m,\u001b[49m\n\u001b[1;32m    156\u001b[0m \u001b[43m        \u001b[49m\u001b[43mrelease\u001b[49m\u001b[43m,\u001b[49m\n\u001b[1;32m    157\u001b[0m \u001b[43m        \u001b[49m\u001b[38;5;241;43m*\u001b[39;49m\u001b[38;5;241;43m*\u001b[39;49m\u001b[43mkwargs\u001b[49m\u001b[43m,\u001b[49m\n\u001b[1;32m    158\u001b[0m \u001b[43m    \u001b[49m\u001b[43m)\u001b[49m\n",
      "File \u001b[0;32m~/GIT/phenopacket-store/ps24venv/lib/python3.12/site-packages/hpotk/store/_api.py:285\u001b[0m, in \u001b[0;36mOntologyStore._impl_load_ontology\u001b[0;34m(self, loader_func, ontology_type, release, **kwargs)\u001b[0m\n\u001b[1;32m    277\u001b[0m \u001b[38;5;28;01mdef\u001b[39;00m \u001b[38;5;21m_impl_load_ontology\u001b[39m(\n\u001b[1;32m    278\u001b[0m     \u001b[38;5;28mself\u001b[39m,\n\u001b[1;32m    279\u001b[0m     loader_func,\n\u001b[0;32m   (...)\u001b[0m\n\u001b[1;32m    282\u001b[0m     \u001b[38;5;241m*\u001b[39m\u001b[38;5;241m*\u001b[39mkwargs,\n\u001b[1;32m    283\u001b[0m ):\n\u001b[1;32m    284\u001b[0m     \u001b[38;5;28;01mif\u001b[39;00m release \u001b[38;5;129;01mis\u001b[39;00m \u001b[38;5;28;01mNone\u001b[39;00m:\n\u001b[0;32m--> 285\u001b[0m         release \u001b[38;5;241m=\u001b[39m \u001b[38;5;28;43mself\u001b[39;49m\u001b[38;5;241;43m.\u001b[39;49m\u001b[43m_fetch_latest_release_if_missing\u001b[49m\u001b[43m(\u001b[49m\u001b[43montology_type\u001b[49m\u001b[43m)\u001b[49m\n\u001b[1;32m    287\u001b[0m     fpath_ontology \u001b[38;5;241m=\u001b[39m \u001b[38;5;28mself\u001b[39m\u001b[38;5;241m.\u001b[39mresolve_store_path(ontology_type, release)\n\u001b[1;32m    289\u001b[0m     \u001b[38;5;66;03m# Download ontology if missing.\u001b[39;00m\n",
      "File \u001b[0;32m~/GIT/phenopacket-store/ps24venv/lib/python3.12/site-packages/hpotk/store/_api.py:271\u001b[0m, in \u001b[0;36mOntologyStore._fetch_latest_release_if_missing\u001b[0;34m(self, ontology_type)\u001b[0m\n\u001b[1;32m    261\u001b[0m \u001b[38;5;250m\u001b[39m\u001b[38;5;124;03m\"\"\"\u001b[39;00m\n\u001b[1;32m    262\u001b[0m \u001b[38;5;124;03mRetrieve the latest release tag of the given `ontology_type`.\u001b[39;00m\n\u001b[1;32m    263\u001b[0m \n\u001b[0;32m   (...)\u001b[0m\n\u001b[1;32m    266\u001b[0m \u001b[38;5;124;03m:raises ValueError` if unable to retrieve the latest release tag from the ontology release service\u001b[39;00m\n\u001b[1;32m    267\u001b[0m \u001b[38;5;124;03m\"\"\"\u001b[39;00m\n\u001b[1;32m    269\u001b[0m \u001b[38;5;66;03m# Fetch the latest release tag, assuming the lexicographic tag sort order.\u001b[39;00m\n\u001b[1;32m    270\u001b[0m latest_tag \u001b[38;5;241m=\u001b[39m \u001b[38;5;28mmax\u001b[39m(\n\u001b[0;32m--> 271\u001b[0m     \u001b[38;5;28;43mself\u001b[39;49m\u001b[38;5;241;43m.\u001b[39;49m\u001b[43m_ontology_release_service\u001b[49m\u001b[38;5;241;43m.\u001b[39;49m\u001b[43mfetch_tags\u001b[49m\u001b[43m(\u001b[49m\u001b[43montology_type\u001b[49m\u001b[43m)\u001b[49m, default\u001b[38;5;241m=\u001b[39m\u001b[38;5;28;01mNone\u001b[39;00m\n\u001b[1;32m    272\u001b[0m )\n\u001b[1;32m    273\u001b[0m \u001b[38;5;28;01mif\u001b[39;00m latest_tag \u001b[38;5;129;01mis\u001b[39;00m \u001b[38;5;28;01mNone\u001b[39;00m:\n\u001b[1;32m    274\u001b[0m     \u001b[38;5;28;01mraise\u001b[39;00m \u001b[38;5;167;01mValueError\u001b[39;00m(\u001b[38;5;124mf\u001b[39m\u001b[38;5;124m\"\u001b[39m\u001b[38;5;124mUnable to retrieve the latest tag for \u001b[39m\u001b[38;5;132;01m{\u001b[39;00montology_type\u001b[38;5;132;01m}\u001b[39;00m\u001b[38;5;124m\"\u001b[39m)\n",
      "File \u001b[0;32m~/GIT/phenopacket-store/ps24venv/lib/python3.12/site-packages/hpotk/store/_github.py:66\u001b[0m, in \u001b[0;36mGitHubOntologyReleaseService.fetch_tags\u001b[0;34m(self, ontology_type)\u001b[0m\n\u001b[1;32m     60\u001b[0m     \u001b[38;5;28;01mraise\u001b[39;00m \u001b[38;5;167;01mValueError\u001b[39;00m(\n\u001b[1;32m     61\u001b[0m         \u001b[38;5;124mf\u001b[39m\u001b[38;5;124m'\u001b[39m\u001b[38;5;124mOntology \u001b[39m\u001b[38;5;132;01m{\u001b[39;00montology_type\u001b[38;5;132;01m}\u001b[39;00m\u001b[38;5;124m not among \u001b[39m\u001b[38;5;124m'\u001b[39m\n\u001b[1;32m     62\u001b[0m         \u001b[38;5;124mf\u001b[39m\u001b[38;5;124m'\u001b[39m\u001b[38;5;124mthe known ontology credentials \u001b[39m\u001b[38;5;132;01m{\u001b[39;00m\u001b[38;5;28mset\u001b[39m(\u001b[38;5;28mself\u001b[39m\u001b[38;5;241m.\u001b[39m_ontology_credentials\u001b[38;5;241m.\u001b[39mkeys())\u001b[38;5;132;01m}\u001b[39;00m\u001b[38;5;124m'\u001b[39m\n\u001b[1;32m     63\u001b[0m     )\n\u001b[1;32m     64\u001b[0m credentials \u001b[38;5;241m=\u001b[39m \u001b[38;5;28mself\u001b[39m\u001b[38;5;241m.\u001b[39m_ontology_credentials[ontology_type]\n\u001b[0;32m---> 66\u001b[0m \u001b[38;5;28;01mreturn\u001b[39;00m \u001b[38;5;28;43mself\u001b[39;49m\u001b[38;5;241;43m.\u001b[39;49m\u001b[43m_get_tag_names\u001b[49m\u001b[43m(\u001b[49m\n\u001b[1;32m     67\u001b[0m \u001b[43m    \u001b[49m\u001b[43mowner\u001b[49m\u001b[38;5;241;43m=\u001b[39;49m\u001b[43mcredentials\u001b[49m\u001b[43m[\u001b[49m\u001b[38;5;124;43m'\u001b[39;49m\u001b[38;5;124;43mowner\u001b[39;49m\u001b[38;5;124;43m'\u001b[39;49m\u001b[43m]\u001b[49m\u001b[43m,\u001b[49m\n\u001b[1;32m     68\u001b[0m \u001b[43m    \u001b[49m\u001b[43mrepo\u001b[49m\u001b[38;5;241;43m=\u001b[39;49m\u001b[43mcredentials\u001b[49m\u001b[43m[\u001b[49m\u001b[38;5;124;43m'\u001b[39;49m\u001b[38;5;124;43mrepo\u001b[39;49m\u001b[38;5;124;43m'\u001b[39;49m\u001b[43m]\u001b[49m\u001b[43m,\u001b[49m\n\u001b[1;32m     69\u001b[0m \u001b[43m    \u001b[49m\u001b[43mtag_pt\u001b[49m\u001b[38;5;241;43m=\u001b[39;49m\u001b[43mcredentials\u001b[49m\u001b[43m[\u001b[49m\u001b[38;5;124;43m'\u001b[39;49m\u001b[38;5;124;43mtag_pt\u001b[39;49m\u001b[38;5;124;43m'\u001b[39;49m\u001b[43m]\u001b[49m\u001b[43m,\u001b[49m\n\u001b[1;32m     70\u001b[0m \u001b[43m\u001b[49m\u001b[43m)\u001b[49m\n",
      "File \u001b[0;32m~/GIT/phenopacket-store/ps24venv/lib/python3.12/site-packages/hpotk/store/_github.py:81\u001b[0m, in \u001b[0;36mGitHubOntologyReleaseService._get_tag_names\u001b[0;34m(self, owner, repo, tag_pt)\u001b[0m\n\u001b[1;32m     78\u001b[0m tag_url \u001b[38;5;241m=\u001b[39m \u001b[38;5;28mself\u001b[39m\u001b[38;5;241m.\u001b[39m_tag_api_url\u001b[38;5;241m.\u001b[39mformat(owner\u001b[38;5;241m=\u001b[39mowner, repo\u001b[38;5;241m=\u001b[39mrepo)\n\u001b[1;32m     79\u001b[0m \u001b[38;5;28mself\u001b[39m\u001b[38;5;241m.\u001b[39m_logger\u001b[38;5;241m.\u001b[39mdebug(\u001b[38;5;124m'\u001b[39m\u001b[38;5;124mPulling tag from \u001b[39m\u001b[38;5;132;01m%s\u001b[39;00m\u001b[38;5;124m'\u001b[39m, tag_url)\n\u001b[0;32m---> 81\u001b[0m \u001b[38;5;28;01mwith\u001b[39;00m \u001b[43murlopen\u001b[49m\u001b[43m(\u001b[49m\n\u001b[1;32m     82\u001b[0m \u001b[43m    \u001b[49m\u001b[43mtag_url\u001b[49m\u001b[43m,\u001b[49m\n\u001b[1;32m     83\u001b[0m \u001b[43m    \u001b[49m\u001b[43mtimeout\u001b[49m\u001b[38;5;241;43m=\u001b[39;49m\u001b[38;5;28;43mself\u001b[39;49m\u001b[38;5;241;43m.\u001b[39;49m\u001b[43m_timeout\u001b[49m\u001b[43m,\u001b[49m\n\u001b[1;32m     84\u001b[0m \u001b[43m    \u001b[49m\u001b[43mcontext\u001b[49m\u001b[38;5;241;43m=\u001b[39;49m\u001b[38;5;28;43mself\u001b[39;49m\u001b[38;5;241;43m.\u001b[39;49m\u001b[43m_ctx\u001b[49m\u001b[43m,\u001b[49m\n\u001b[1;32m     85\u001b[0m \u001b[43m\u001b[49m\u001b[43m)\u001b[49m \u001b[38;5;28;01mas\u001b[39;00m fh:\n\u001b[1;32m     86\u001b[0m     tags \u001b[38;5;241m=\u001b[39m json\u001b[38;5;241m.\u001b[39mload(fh)\n\u001b[1;32m     88\u001b[0m \u001b[38;5;28;01mif\u001b[39;00m \u001b[38;5;28mlen\u001b[39m(tags) \u001b[38;5;241m==\u001b[39m \u001b[38;5;241m0\u001b[39m:\n",
      "File \u001b[0;32m/opt/homebrew/Cellar/python@3.12/3.12.8/Frameworks/Python.framework/Versions/3.12/lib/python3.12/urllib/request.py:215\u001b[0m, in \u001b[0;36murlopen\u001b[0;34m(url, data, timeout, cafile, capath, cadefault, context)\u001b[0m\n\u001b[1;32m    213\u001b[0m \u001b[38;5;28;01melse\u001b[39;00m:\n\u001b[1;32m    214\u001b[0m     opener \u001b[38;5;241m=\u001b[39m _opener\n\u001b[0;32m--> 215\u001b[0m \u001b[38;5;28;01mreturn\u001b[39;00m \u001b[43mopener\u001b[49m\u001b[38;5;241;43m.\u001b[39;49m\u001b[43mopen\u001b[49m\u001b[43m(\u001b[49m\u001b[43murl\u001b[49m\u001b[43m,\u001b[49m\u001b[43m \u001b[49m\u001b[43mdata\u001b[49m\u001b[43m,\u001b[49m\u001b[43m \u001b[49m\u001b[43mtimeout\u001b[49m\u001b[43m)\u001b[49m\n",
      "File \u001b[0;32m/opt/homebrew/Cellar/python@3.12/3.12.8/Frameworks/Python.framework/Versions/3.12/lib/python3.12/urllib/request.py:515\u001b[0m, in \u001b[0;36mOpenerDirector.open\u001b[0;34m(self, fullurl, data, timeout)\u001b[0m\n\u001b[1;32m    512\u001b[0m     req \u001b[38;5;241m=\u001b[39m meth(req)\n\u001b[1;32m    514\u001b[0m sys\u001b[38;5;241m.\u001b[39maudit(\u001b[38;5;124m'\u001b[39m\u001b[38;5;124murllib.Request\u001b[39m\u001b[38;5;124m'\u001b[39m, req\u001b[38;5;241m.\u001b[39mfull_url, req\u001b[38;5;241m.\u001b[39mdata, req\u001b[38;5;241m.\u001b[39mheaders, req\u001b[38;5;241m.\u001b[39mget_method())\n\u001b[0;32m--> 515\u001b[0m response \u001b[38;5;241m=\u001b[39m \u001b[38;5;28;43mself\u001b[39;49m\u001b[38;5;241;43m.\u001b[39;49m\u001b[43m_open\u001b[49m\u001b[43m(\u001b[49m\u001b[43mreq\u001b[49m\u001b[43m,\u001b[49m\u001b[43m \u001b[49m\u001b[43mdata\u001b[49m\u001b[43m)\u001b[49m\n\u001b[1;32m    517\u001b[0m \u001b[38;5;66;03m# post-process response\u001b[39;00m\n\u001b[1;32m    518\u001b[0m meth_name \u001b[38;5;241m=\u001b[39m protocol\u001b[38;5;241m+\u001b[39m\u001b[38;5;124m\"\u001b[39m\u001b[38;5;124m_response\u001b[39m\u001b[38;5;124m\"\u001b[39m\n",
      "File \u001b[0;32m/opt/homebrew/Cellar/python@3.12/3.12.8/Frameworks/Python.framework/Versions/3.12/lib/python3.12/urllib/request.py:532\u001b[0m, in \u001b[0;36mOpenerDirector._open\u001b[0;34m(self, req, data)\u001b[0m\n\u001b[1;32m    529\u001b[0m     \u001b[38;5;28;01mreturn\u001b[39;00m result\n\u001b[1;32m    531\u001b[0m protocol \u001b[38;5;241m=\u001b[39m req\u001b[38;5;241m.\u001b[39mtype\n\u001b[0;32m--> 532\u001b[0m result \u001b[38;5;241m=\u001b[39m \u001b[38;5;28;43mself\u001b[39;49m\u001b[38;5;241;43m.\u001b[39;49m\u001b[43m_call_chain\u001b[49m\u001b[43m(\u001b[49m\u001b[38;5;28;43mself\u001b[39;49m\u001b[38;5;241;43m.\u001b[39;49m\u001b[43mhandle_open\u001b[49m\u001b[43m,\u001b[49m\u001b[43m \u001b[49m\u001b[43mprotocol\u001b[49m\u001b[43m,\u001b[49m\u001b[43m \u001b[49m\u001b[43mprotocol\u001b[49m\u001b[43m \u001b[49m\u001b[38;5;241;43m+\u001b[39;49m\n\u001b[1;32m    533\u001b[0m \u001b[43m                          \u001b[49m\u001b[38;5;124;43m'\u001b[39;49m\u001b[38;5;124;43m_open\u001b[39;49m\u001b[38;5;124;43m'\u001b[39;49m\u001b[43m,\u001b[49m\u001b[43m \u001b[49m\u001b[43mreq\u001b[49m\u001b[43m)\u001b[49m\n\u001b[1;32m    534\u001b[0m \u001b[38;5;28;01mif\u001b[39;00m result:\n\u001b[1;32m    535\u001b[0m     \u001b[38;5;28;01mreturn\u001b[39;00m result\n",
      "File \u001b[0;32m/opt/homebrew/Cellar/python@3.12/3.12.8/Frameworks/Python.framework/Versions/3.12/lib/python3.12/urllib/request.py:492\u001b[0m, in \u001b[0;36mOpenerDirector._call_chain\u001b[0;34m(self, chain, kind, meth_name, *args)\u001b[0m\n\u001b[1;32m    490\u001b[0m \u001b[38;5;28;01mfor\u001b[39;00m handler \u001b[38;5;129;01min\u001b[39;00m handlers:\n\u001b[1;32m    491\u001b[0m     func \u001b[38;5;241m=\u001b[39m \u001b[38;5;28mgetattr\u001b[39m(handler, meth_name)\n\u001b[0;32m--> 492\u001b[0m     result \u001b[38;5;241m=\u001b[39m \u001b[43mfunc\u001b[49m\u001b[43m(\u001b[49m\u001b[38;5;241;43m*\u001b[39;49m\u001b[43margs\u001b[49m\u001b[43m)\u001b[49m\n\u001b[1;32m    493\u001b[0m     \u001b[38;5;28;01mif\u001b[39;00m result \u001b[38;5;129;01mis\u001b[39;00m \u001b[38;5;129;01mnot\u001b[39;00m \u001b[38;5;28;01mNone\u001b[39;00m:\n\u001b[1;32m    494\u001b[0m         \u001b[38;5;28;01mreturn\u001b[39;00m result\n",
      "File \u001b[0;32m/opt/homebrew/Cellar/python@3.12/3.12.8/Frameworks/Python.framework/Versions/3.12/lib/python3.12/urllib/request.py:1392\u001b[0m, in \u001b[0;36mHTTPSHandler.https_open\u001b[0;34m(self, req)\u001b[0m\n\u001b[1;32m   1391\u001b[0m \u001b[38;5;28;01mdef\u001b[39;00m \u001b[38;5;21mhttps_open\u001b[39m(\u001b[38;5;28mself\u001b[39m, req):\n\u001b[0;32m-> 1392\u001b[0m     \u001b[38;5;28;01mreturn\u001b[39;00m \u001b[38;5;28;43mself\u001b[39;49m\u001b[38;5;241;43m.\u001b[39;49m\u001b[43mdo_open\u001b[49m\u001b[43m(\u001b[49m\u001b[43mhttp\u001b[49m\u001b[38;5;241;43m.\u001b[39;49m\u001b[43mclient\u001b[49m\u001b[38;5;241;43m.\u001b[39;49m\u001b[43mHTTPSConnection\u001b[49m\u001b[43m,\u001b[49m\u001b[43m \u001b[49m\u001b[43mreq\u001b[49m\u001b[43m,\u001b[49m\n\u001b[1;32m   1393\u001b[0m \u001b[43m                        \u001b[49m\u001b[43mcontext\u001b[49m\u001b[38;5;241;43m=\u001b[39;49m\u001b[38;5;28;43mself\u001b[39;49m\u001b[38;5;241;43m.\u001b[39;49m\u001b[43m_context\u001b[49m\u001b[43m)\u001b[49m\n",
      "File \u001b[0;32m/opt/homebrew/Cellar/python@3.12/3.12.8/Frameworks/Python.framework/Versions/3.12/lib/python3.12/urllib/request.py:1348\u001b[0m, in \u001b[0;36mAbstractHTTPHandler.do_open\u001b[0;34m(self, http_class, req, **http_conn_args)\u001b[0m\n\u001b[1;32m   1346\u001b[0m     \u001b[38;5;28;01mexcept\u001b[39;00m \u001b[38;5;167;01mOSError\u001b[39;00m \u001b[38;5;28;01mas\u001b[39;00m err: \u001b[38;5;66;03m# timeout error\u001b[39;00m\n\u001b[1;32m   1347\u001b[0m         \u001b[38;5;28;01mraise\u001b[39;00m URLError(err)\n\u001b[0;32m-> 1348\u001b[0m     r \u001b[38;5;241m=\u001b[39m \u001b[43mh\u001b[49m\u001b[38;5;241;43m.\u001b[39;49m\u001b[43mgetresponse\u001b[49m\u001b[43m(\u001b[49m\u001b[43m)\u001b[49m\n\u001b[1;32m   1349\u001b[0m \u001b[38;5;28;01mexcept\u001b[39;00m:\n\u001b[1;32m   1350\u001b[0m     h\u001b[38;5;241m.\u001b[39mclose()\n",
      "File \u001b[0;32m/opt/homebrew/Cellar/python@3.12/3.12.8/Frameworks/Python.framework/Versions/3.12/lib/python3.12/http/client.py:1428\u001b[0m, in \u001b[0;36mHTTPConnection.getresponse\u001b[0;34m(self)\u001b[0m\n\u001b[1;32m   1426\u001b[0m \u001b[38;5;28;01mtry\u001b[39;00m:\n\u001b[1;32m   1427\u001b[0m     \u001b[38;5;28;01mtry\u001b[39;00m:\n\u001b[0;32m-> 1428\u001b[0m         \u001b[43mresponse\u001b[49m\u001b[38;5;241;43m.\u001b[39;49m\u001b[43mbegin\u001b[49m\u001b[43m(\u001b[49m\u001b[43m)\u001b[49m\n\u001b[1;32m   1429\u001b[0m     \u001b[38;5;28;01mexcept\u001b[39;00m \u001b[38;5;167;01mConnectionError\u001b[39;00m:\n\u001b[1;32m   1430\u001b[0m         \u001b[38;5;28mself\u001b[39m\u001b[38;5;241m.\u001b[39mclose()\n",
      "File \u001b[0;32m/opt/homebrew/Cellar/python@3.12/3.12.8/Frameworks/Python.framework/Versions/3.12/lib/python3.12/http/client.py:331\u001b[0m, in \u001b[0;36mHTTPResponse.begin\u001b[0;34m(self)\u001b[0m\n\u001b[1;32m    329\u001b[0m \u001b[38;5;66;03m# read until we get a non-100 response\u001b[39;00m\n\u001b[1;32m    330\u001b[0m \u001b[38;5;28;01mwhile\u001b[39;00m \u001b[38;5;28;01mTrue\u001b[39;00m:\n\u001b[0;32m--> 331\u001b[0m     version, status, reason \u001b[38;5;241m=\u001b[39m \u001b[38;5;28;43mself\u001b[39;49m\u001b[38;5;241;43m.\u001b[39;49m\u001b[43m_read_status\u001b[49m\u001b[43m(\u001b[49m\u001b[43m)\u001b[49m\n\u001b[1;32m    332\u001b[0m     \u001b[38;5;28;01mif\u001b[39;00m status \u001b[38;5;241m!=\u001b[39m CONTINUE:\n\u001b[1;32m    333\u001b[0m         \u001b[38;5;28;01mbreak\u001b[39;00m\n",
      "File \u001b[0;32m/opt/homebrew/Cellar/python@3.12/3.12.8/Frameworks/Python.framework/Versions/3.12/lib/python3.12/http/client.py:292\u001b[0m, in \u001b[0;36mHTTPResponse._read_status\u001b[0;34m(self)\u001b[0m\n\u001b[1;32m    291\u001b[0m \u001b[38;5;28;01mdef\u001b[39;00m \u001b[38;5;21m_read_status\u001b[39m(\u001b[38;5;28mself\u001b[39m):\n\u001b[0;32m--> 292\u001b[0m     line \u001b[38;5;241m=\u001b[39m \u001b[38;5;28mstr\u001b[39m(\u001b[38;5;28;43mself\u001b[39;49m\u001b[38;5;241;43m.\u001b[39;49m\u001b[43mfp\u001b[49m\u001b[38;5;241;43m.\u001b[39;49m\u001b[43mreadline\u001b[49m\u001b[43m(\u001b[49m\u001b[43m_MAXLINE\u001b[49m\u001b[43m \u001b[49m\u001b[38;5;241;43m+\u001b[39;49m\u001b[43m \u001b[49m\u001b[38;5;241;43m1\u001b[39;49m\u001b[43m)\u001b[49m, \u001b[38;5;124m\"\u001b[39m\u001b[38;5;124miso-8859-1\u001b[39m\u001b[38;5;124m\"\u001b[39m)\n\u001b[1;32m    293\u001b[0m     \u001b[38;5;28;01mif\u001b[39;00m \u001b[38;5;28mlen\u001b[39m(line) \u001b[38;5;241m>\u001b[39m _MAXLINE:\n\u001b[1;32m    294\u001b[0m         \u001b[38;5;28;01mraise\u001b[39;00m LineTooLong(\u001b[38;5;124m\"\u001b[39m\u001b[38;5;124mstatus line\u001b[39m\u001b[38;5;124m\"\u001b[39m)\n",
      "File \u001b[0;32m/opt/homebrew/Cellar/python@3.12/3.12.8/Frameworks/Python.framework/Versions/3.12/lib/python3.12/socket.py:720\u001b[0m, in \u001b[0;36mSocketIO.readinto\u001b[0;34m(self, b)\u001b[0m\n\u001b[1;32m    718\u001b[0m \u001b[38;5;28;01mwhile\u001b[39;00m \u001b[38;5;28;01mTrue\u001b[39;00m:\n\u001b[1;32m    719\u001b[0m     \u001b[38;5;28;01mtry\u001b[39;00m:\n\u001b[0;32m--> 720\u001b[0m         \u001b[38;5;28;01mreturn\u001b[39;00m \u001b[38;5;28;43mself\u001b[39;49m\u001b[38;5;241;43m.\u001b[39;49m\u001b[43m_sock\u001b[49m\u001b[38;5;241;43m.\u001b[39;49m\u001b[43mrecv_into\u001b[49m\u001b[43m(\u001b[49m\u001b[43mb\u001b[49m\u001b[43m)\u001b[49m\n\u001b[1;32m    721\u001b[0m     \u001b[38;5;28;01mexcept\u001b[39;00m timeout:\n\u001b[1;32m    722\u001b[0m         \u001b[38;5;28mself\u001b[39m\u001b[38;5;241m.\u001b[39m_timeout_occurred \u001b[38;5;241m=\u001b[39m \u001b[38;5;28;01mTrue\u001b[39;00m\n",
      "File \u001b[0;32m/opt/homebrew/Cellar/python@3.12/3.12.8/Frameworks/Python.framework/Versions/3.12/lib/python3.12/ssl.py:1251\u001b[0m, in \u001b[0;36mSSLSocket.recv_into\u001b[0;34m(self, buffer, nbytes, flags)\u001b[0m\n\u001b[1;32m   1247\u001b[0m     \u001b[38;5;28;01mif\u001b[39;00m flags \u001b[38;5;241m!=\u001b[39m \u001b[38;5;241m0\u001b[39m:\n\u001b[1;32m   1248\u001b[0m         \u001b[38;5;28;01mraise\u001b[39;00m \u001b[38;5;167;01mValueError\u001b[39;00m(\n\u001b[1;32m   1249\u001b[0m           \u001b[38;5;124m\"\u001b[39m\u001b[38;5;124mnon-zero flags not allowed in calls to recv_into() on \u001b[39m\u001b[38;5;132;01m%s\u001b[39;00m\u001b[38;5;124m\"\u001b[39m \u001b[38;5;241m%\u001b[39m\n\u001b[1;32m   1250\u001b[0m           \u001b[38;5;28mself\u001b[39m\u001b[38;5;241m.\u001b[39m\u001b[38;5;18m__class__\u001b[39m)\n\u001b[0;32m-> 1251\u001b[0m     \u001b[38;5;28;01mreturn\u001b[39;00m \u001b[38;5;28;43mself\u001b[39;49m\u001b[38;5;241;43m.\u001b[39;49m\u001b[43mread\u001b[49m\u001b[43m(\u001b[49m\u001b[43mnbytes\u001b[49m\u001b[43m,\u001b[49m\u001b[43m \u001b[49m\u001b[43mbuffer\u001b[49m\u001b[43m)\u001b[49m\n\u001b[1;32m   1252\u001b[0m \u001b[38;5;28;01melse\u001b[39;00m:\n\u001b[1;32m   1253\u001b[0m     \u001b[38;5;28;01mreturn\u001b[39;00m \u001b[38;5;28msuper\u001b[39m()\u001b[38;5;241m.\u001b[39mrecv_into(buffer, nbytes, flags)\n",
      "File \u001b[0;32m/opt/homebrew/Cellar/python@3.12/3.12.8/Frameworks/Python.framework/Versions/3.12/lib/python3.12/ssl.py:1103\u001b[0m, in \u001b[0;36mSSLSocket.read\u001b[0;34m(self, len, buffer)\u001b[0m\n\u001b[1;32m   1101\u001b[0m \u001b[38;5;28;01mtry\u001b[39;00m:\n\u001b[1;32m   1102\u001b[0m     \u001b[38;5;28;01mif\u001b[39;00m buffer \u001b[38;5;129;01mis\u001b[39;00m \u001b[38;5;129;01mnot\u001b[39;00m \u001b[38;5;28;01mNone\u001b[39;00m:\n\u001b[0;32m-> 1103\u001b[0m         \u001b[38;5;28;01mreturn\u001b[39;00m \u001b[38;5;28;43mself\u001b[39;49m\u001b[38;5;241;43m.\u001b[39;49m\u001b[43m_sslobj\u001b[49m\u001b[38;5;241;43m.\u001b[39;49m\u001b[43mread\u001b[49m\u001b[43m(\u001b[49m\u001b[38;5;28;43mlen\u001b[39;49m\u001b[43m,\u001b[49m\u001b[43m \u001b[49m\u001b[43mbuffer\u001b[49m\u001b[43m)\u001b[49m\n\u001b[1;32m   1104\u001b[0m     \u001b[38;5;28;01melse\u001b[39;00m:\n\u001b[1;32m   1105\u001b[0m         \u001b[38;5;28;01mreturn\u001b[39;00m \u001b[38;5;28mself\u001b[39m\u001b[38;5;241m.\u001b[39m_sslobj\u001b[38;5;241m.\u001b[39mread(\u001b[38;5;28mlen\u001b[39m)\n",
      "\u001b[0;31mTimeoutError\u001b[0m: The read operation timed out"
     ]
    }
   ],
   "source": [
    "timporter = TemplateImporter(template=template,  created_by=created_by)\n",
    "individual_list, cvalidator = timporter.import_phenopackets_from_template()"
   ]
  },
  {
   "cell_type": "code",
   "execution_count": 10,
   "id": "7fb7f504-9a63-4760-a8e6-22afb262c290",
   "metadata": {},
   "outputs": [
    {
     "data": {
      "text/html": [
       "<h2>Cohort validation</h2>\n",
       "<p>Errors found with 4 of 34 phenopackets.</p>\n",
       "<table style=\"border: 2px solid black; align: \"left\">\n",
       "<caption>Error counts</caption>\n",
       "<tr><th style=\"text-align: left;font-weight: bold;\">Level</th><th style=\"text-align: left;font-weight: bold;\">Error category</th><th style=\"text-align: left;font-weight: bold;\">Count</th></tr>\n",
       "<tr><td style=\"text-align: left;\">WARNING</td><td style=\"text-align: left;\">REDUNDANT</td><td style=\"text-align: left;\">5</td></tr>\n",
       "</table>\n",
       "<p>A total of 5 issues were fixed and no individual was removed from the cohort.</p>"
      ],
      "text/plain": [
       "<IPython.core.display.HTML object>"
      ]
     },
     "metadata": {},
     "output_type": "display_data"
    }
   ],
   "source": [
    "qc = QcVisualizer(cohort_validator=cvalidator)\n",
    "display(HTML(qc.to_summary_html()))"
   ]
  },
  {
   "cell_type": "code",
   "execution_count": 11,
   "id": "804688e4-2c61-4e72-be8a-e3e8601ddc7a",
   "metadata": {},
   "outputs": [
    {
     "data": {
      "text/html": [
       "<table style=\"border: 2px solid black; align: \"left\">\n",
       "<caption>34 phenopackets - PMID:30838237 (n=1); PMID:30713959 (n=1); PMID:21542062 (n=2); PMID:30746398 (n=2); PMID:30868101 (n=5); PMID:20310007 (n=1); PMID:20683840 (n=5); PMID:20853184 (n=2); PMID:29903538 (n=1); PMID:24949580 (n=2); PMID:21094623 (n=1); PMID:26421390 (n=1); PMID:22388936 (n=4); PMID:21696388 (n=6)</caption>\n",
       "<tr><th style=\"text-align: left;font-weight: bold;\">Individual</th><th style=\"text-align: left;font-weight: bold;\">Disease</th><th style=\"text-align: left;font-weight: bold;\">Genotype</th><th style=\"text-align: left;font-weight: bold;\">Phenotypic features</th></tr>\n",
       "<tr><td style=\"text-align: left;\">18-year-old adolescent male (MALE; P18Y)</td><td style=\"text-align: left;\">Kufor-Rakeb syndrome (OMIM:606693)</td><td style=\"text-align: left;\">NM_022089.4:c.2608C>T (homozygous)</td><td style=\"text-align: left;\">Dystonia (HP:0001332): onset ; Micrographia (HP:0031908): onset ; excluded: Visual hallucination (HP:0002367): onset <br/><b>TimeElement(element=Age(iso8601duration=P18Y))</b>: Parkinsonism (HP:0001300): onset age {\n",
       "  iso8601duration: \"P18Y\"\n",
       "}\n",
       "; Mask-like facies (HP:0000298): onset age {\n",
       "  iso8601duration: \"P18Y\"\n",
       "}\n",
       "; Rigidity (HP:0002063): onset age {\n",
       "  iso8601duration: \"P18Y\"\n",
       "}\n",
       "; Bradykinesia (HP:0002067): onset age {\n",
       "  iso8601duration: \"P18Y\"\n",
       "}\n",
       "; Slow saccadic eye movements (HP:0000514): onset age {\n",
       "  iso8601duration: \"P18Y\"\n",
       "}\n",
       "; Depression (HP:0000716): onset age {\n",
       "  iso8601duration: \"P18Y\"\n",
       "}\n",
       "</td></tr>\n",
       "<tr><td style=\"text-align: left;\">A man aged 32 years (MALE; P32Y)</td><td style=\"text-align: left;\">Kufor-Rakeb syndrome (OMIM:606693)</td><td style=\"text-align: left;\">NM_022089.4:c.2657T>C (homozygous)</td><td style=\"text-align: left;\">Rigidity (HP:0002063): onset ; Dysarthria (HP:0001260): onset ; Dementia (HP:0000726): onset ; Hyperreflexia (HP:0001347): onset ; Visual hallucination (HP:0002367): onset ; Urinary incontinence (HP:0000020): onset ; Amplification of sexual behavior (HP:5200321): onset ; Foot dorsiflexor weakness (HP:0009027): onset ; Frequent falls (HP:0002359): onset ; Resting tremor (HP:0002322): onset ; Diffuse cerebral atrophy (HP:0002506): onset ; Memory impairment (HP:0002354): onset ; Bowel incontinence (HP:0002607): onset ; Torticollis (HP:0000473): onset ; Auditory hallucination (HP:0008765): onset ; excluded: Babinski sign (HP:0003487): onset <br/><b>TimeElement(element=Age(iso8601duration=P21Y))</b>: Parkinsonism (HP:0001300): onset age {\n",
       "  iso8601duration: \"P21Y\"\n",
       "}\n",
       "; Bradykinesia (HP:0002067): onset age {\n",
       "  iso8601duration: \"P21Y\"\n",
       "}\n",
       "</td></tr>\n",
       "<tr><td style=\"text-align: left;\"> 22-year-old Asian mal (MALE; P22Y)</td><td style=\"text-align: left;\">Kufor-Rakeb syndrome (OMIM:606693)</td><td style=\"text-align: left;\"><ul> <li>NM_022089.4:c.3176T>G (heterozygous)</li> <li>NM_022089.4:c.3253del (heterozygous)</li> </ul></td><td style=\"text-align: left;\">Slow saccadic eye movements (HP:0000514): onset ; Supranuclear gaze palsy (HP:0000605): onset ; Dystonia (HP:0001332): onset ; Dementia (HP:0000726): onset ; Hyperreflexia (HP:0001347): onset ; Babinski sign (HP:0003487): onset ; Mild global developmental delay (HP:0011342): onset ; Glabellar reflex (HP:0030904): onset ; Hypometric saccades (HP:0000571): onset ; Social anxiety (HP:6000029): onset ; Upper limb postural tremor (HP:0007351): onset ; excluded: Visual hallucination (HP:0002367): onset <br/><b>TimeElement(element=Age(iso8601duration=P19Y))</b>: Parkinsonism (HP:0001300): onset age {\n",
       "  iso8601duration: \"P19Y\"\n",
       "}\n",
       "; Rigidity (HP:0002063): onset age {\n",
       "  iso8601duration: \"P19Y\"\n",
       "}\n",
       "; Bradykinesia (HP:0002067): onset age {\n",
       "  iso8601duration: \"P19Y\"\n",
       "}\n",
       "<br/><b>TimeElement(element=Age(iso8601duration=P22Y))</b>: Mask-like facies (HP:0000298): onset age {\n",
       "  iso8601duration: \"P22Y\"\n",
       "}\n",
       "</td></tr>\n",
       "<tr><td style=\"text-align: left;\">his sister (FEMALE; P19Y)</td><td style=\"text-align: left;\">Kufor-Rakeb syndrome (OMIM:606693)</td><td style=\"text-align: left;\"><ul> <li>NM_022089.4:c.3176T>G (heterozygous)</li> <li>NM_022089.4:c.3253del (heterozygous)</li> </ul></td><td style=\"text-align: left;\">Rigidity (HP:0002063): onset ; Bradykinesia (HP:0002067): onset ; Slow saccadic eye movements (HP:0000514): onset ; Supranuclear gaze palsy (HP:0000605): onset ; Dementia (HP:0000726): onset ; Hyperreflexia (HP:0001347): onset ; Babinski sign (HP:0003487): onset ; Torticollis (HP:0000473): onset ; excluded: Visual hallucination (HP:0002367): onset <br/><b>TimeElement(element=Age(iso8601duration=P17Y))</b>: Depression (HP:0000716): onset age {\n",
       "  iso8601duration: \"P17Y\"\n",
       "}\n",
       "<br/><b>TimeElement(element=Age(iso8601duration=P18Y))</b>: Parkinsonism (HP:0001300): onset age {\n",
       "  iso8601duration: \"P18Y\"\n",
       "}\n",
       "</td></tr>\n",
       "<tr><td style=\"text-align: left;\">older brother (MALE; P30Y)</td><td style=\"text-align: left;\">Kufor-Rakeb syndrome (OMIM:606693)</td><td style=\"text-align: left;\">NM_022089.4:c.1459C>T (homozygous)</td><td style=\"text-align: left;\">Parkinsonism (HP:0001300): onset ; Mask-like facies (HP:0000298): onset ; Rigidity (HP:0002063): onset ; Bradykinesia (HP:0002067): onset ; Supranuclear gaze palsy (HP:0000605): onset ; Hyperreflexia (HP:0001347): onset ; excluded: Dystonia (HP:0001332): onset ; excluded: Dementia (HP:0000726): onset ; excluded: Visual hallucination (HP:0002367): onset </td></tr>\n",
       "<tr><td style=\"text-align: left;\">younger brother (MALE; P27Y)</td><td style=\"text-align: left;\">Kufor-Rakeb syndrome (OMIM:606693)</td><td style=\"text-align: left;\">NM_022089.4:c.1459C>T (homozygous)</td><td style=\"text-align: left;\">Parkinsonism (HP:0001300): onset ; Rigidity (HP:0002063): onset ; Bradykinesia (HP:0002067): onset ; Hyperreflexia (HP:0001347): onset ; Babinski sign (HP:0003487): onset ; Cerebellar atrophy (HP:0001272): onset ; Positive Romberg sign (HP:0002403): onset ; Stooped posture (HP:0025403): onset ; excluded: Visual hallucination (HP:0002367): onset </td></tr>\n",
       "<tr><td style=\"text-align: left;\">KRS-103-IV-2 (FEMALE; P45Y)</td><td style=\"text-align: left;\">Kufor-Rakeb syndrome (OMIM:606693)</td><td style=\"text-align: left;\">NM_022089.4:c.2455C>T (homozygous)</td><td style=\"text-align: left;\">Parkinsonism (HP:0001300): onset ; Rigidity (HP:0002063): onset ; Slow saccadic eye movements (HP:0000514): onset ; Supranuclear gaze palsy (HP:0000605): onset ; Dysarthria (HP:0001260): onset ; Dementia (HP:0000726): onset ; Tremor (HP:0001337): onset ; Hyperreflexia (HP:0001347): onset ; Babinski sign (HP:0003487): onset ; Depression (HP:0000716): onset ; Visual hallucination (HP:0002367): onset ; Pes cavus (HP:0001761): onset ; Postural instability (HP:0002172): onset ; Global brain atrophy (HP:0002283): onset ; Action myoclonus (HP:0034360): onset ; Pseudobulbar affect (HP:0002193): onset ; excluded: Dystonia (HP:0001332): onset <br/><b>TimeElement(element=Age(iso8601duration=P10Y))</b>: Bradykinesia (HP:0002067): onset age {\n",
       "  iso8601duration: \"P10Y\"\n",
       "}\n",
       "</td></tr>\n",
       "<tr><td style=\"text-align: left;\">KRS-103-IV-9 (FEMALE; P30Y)</td><td style=\"text-align: left;\">Kufor-Rakeb syndrome (OMIM:606693)</td><td style=\"text-align: left;\">NM_022089.4:c.2455C>T (homozygous)</td><td style=\"text-align: left;\">Parkinsonism (HP:0001300): onset ; Rigidity (HP:0002063): onset ; Bradykinesia (HP:0002067): onset ; Slow saccadic eye movements (HP:0000514): onset ; Supranuclear gaze palsy (HP:0000605): onset ; Dysarthria (HP:0001260): onset ; Tremor (HP:0001337): onset ; Hyperreflexia (HP:0001347): onset ; Babinski sign (HP:0003487): onset ; Depression (HP:0000716): onset ; Visual hallucination (HP:0002367): onset ; Seizure (HP:0001250): onset ; Pes cavus (HP:0001761): onset ; Postural instability (HP:0002172): onset ; Freezing of gait (HP:0031825): onset ; excluded: Dystonia (HP:0001332): onset </td></tr>\n",
       "<tr><td style=\"text-align: left;\">KRS-103-IV-10 (FEMALE; P31Y)</td><td style=\"text-align: left;\">Kufor-Rakeb syndrome (OMIM:606693)</td><td style=\"text-align: left;\">NM_022089.4:c.2455C>T (homozygous)</td><td style=\"text-align: left;\">Parkinsonism (HP:0001300): onset ; Rigidity (HP:0002063): onset ; Bradykinesia (HP:0002067): onset ; Slow saccadic eye movements (HP:0000514): onset ; Supranuclear gaze palsy (HP:0000605): onset ; Dysarthria (HP:0001260): onset ; Tremor (HP:0001337): onset ; Hyperreflexia (HP:0001347): onset ; Depression (HP:0000716): onset ; Visual hallucination (HP:0002367): onset ; Seizure (HP:0001250): onset ; Diminishment of relationship seeking (HP:5200320): onset ; Pes cavus (HP:0001761): onset ; excluded: Dystonia (HP:0001332): onset ; excluded: Babinski sign (HP:0003487): onset </td></tr>\n",
       "<tr><td style=\"text-align: left;\">KRS-103-IV-13 (MALE; P36Y)</td><td style=\"text-align: left;\">Kufor-Rakeb syndrome (OMIM:606693)</td><td style=\"text-align: left;\">NM_022089.4:c.2455C>T (homozygous)</td><td style=\"text-align: left;\">Parkinsonism (HP:0001300): onset ; Rigidity (HP:0002063): onset ; Bradykinesia (HP:0002067): onset ; Slow saccadic eye movements (HP:0000514): onset ; Supranuclear gaze palsy (HP:0000605): onset ; Dysarthria (HP:0001260): onset ; Tremor (HP:0001337): onset ; Hyperreflexia (HP:0001347): onset ; Babinski sign (HP:0003487): onset ; Depression (HP:0000716): onset ; Visual hallucination (HP:0002367): onset ; Pes cavus (HP:0001761): onset ; Drooling (HP:0002307): onset ; excluded: Dystonia (HP:0001332): onset </td></tr>\n",
       "<tr><td style=\"text-align: left;\">KRS-103-IV-14 (MALE; P24Y)</td><td style=\"text-align: left;\">Kufor-Rakeb syndrome (OMIM:606693)</td><td style=\"text-align: left;\">NM_022089.4:c.2455C>T (homozygous)</td><td style=\"text-align: left;\">Parkinsonism (HP:0001300): onset ; Rigidity (HP:0002063): onset ; Bradykinesia (HP:0002067): onset ; Slow saccadic eye movements (HP:0000514): onset ; Supranuclear gaze palsy (HP:0000605): onset ; Dysarthria (HP:0001260): onset ; Tremor (HP:0001337): onset ; Hyperreflexia (HP:0001347): onset ; Depression (HP:0000716): onset ; Visual hallucination (HP:0002367): onset ; Pes cavus (HP:0001761): onset ; Drooling (HP:0002307): onset ; excluded: Dystonia (HP:0001332): onset ; excluded: Babinski sign (HP:0003487): onset </td></tr>\n",
       "<tr><td style=\"text-align: left;\">40-year-old man (MALE; P40Y)</td><td style=\"text-align: left;\">Kufor-Rakeb syndrome (OMIM:606693)</td><td style=\"text-align: left;\">NM_022089.4:c.1101_1102dup (homozygous)</td><td style=\"text-align: left;\">Bradykinesia (HP:0002067): onset ; Babinski sign (HP:0003487): onset ; Visual hallucination (HP:0002367): onset ; Cerebellar atrophy (HP:0001272): onset ; Dysphagia (HP:0002015): onset ; Cerebral atrophy (HP:0002059): onset ; Ankle clonus (HP:0011448): onset ; excluded: Dementia (HP:0000726): onset ; excluded: Tremor (HP:0001337): onset <br/><b>TimeElement(element=Age(iso8601duration=P18Y))</b>: Parkinsonism (HP:0001300): onset age {\n",
       "  iso8601duration: \"P18Y\"\n",
       "}\n",
       "<br/><b>TimeElement(element=Age(iso8601duration=P22Y))</b>: Mask-like facies (HP:0000298): onset age {\n",
       "  iso8601duration: \"P22Y\"\n",
       "}\n",
       "; Rigidity (HP:0002063): onset age {\n",
       "  iso8601duration: \"P22Y\"\n",
       "}\n",
       "; Slow saccadic eye movements (HP:0000514): onset age {\n",
       "  iso8601duration: \"P22Y\"\n",
       "}\n",
       "; Supranuclear gaze palsy (HP:0000605): onset age {\n",
       "  iso8601duration: \"P22Y\"\n",
       "}\n",
       "; Dystonia (HP:0001332): onset age {\n",
       "  iso8601duration: \"P22Y\"\n",
       "}\n",
       "<br/><b>TimeElement(element=Age(iso8601duration=P27Y))</b>: Dysarthria (HP:0001260): onset age {\n",
       "  iso8601duration: \"P27Y\"\n",
       "}\n",
       "</td></tr>\n",
       "<tr><td style=\"text-align: left;\">II-13 (MALE; P45Y)</td><td style=\"text-align: left;\">Kufor-Rakeb syndrome (OMIM:606693)</td><td style=\"text-align: left;\">NM_022089.4:c.3057del (homozygous)</td><td style=\"text-align: left;\">Parkinsonism (HP:0001300): onset ; Mask-like facies (HP:0000298): onset ; Rigidity (HP:0002063): onset ; Bradykinesia (HP:0002067): onset ; Supranuclear gaze palsy (HP:0000605): onset ; Dementia (HP:0000726): onset ; Hyperreflexia (HP:0001347): onset ; Babinski sign (HP:0003487): onset ; Visual hallucination (HP:0002367): onset ; Palmomental reflex (HP:0030902): onset ; Cerebral atrophy (HP:0002059): onset ; excluded: Tremor (HP:0001337): onset </td></tr>\n",
       "<tr><td style=\"text-align: left;\">II-14 (MALE; P45Y)</td><td style=\"text-align: left;\">Kufor-Rakeb syndrome (OMIM:606693)</td><td style=\"text-align: left;\">NM_022089.4:c.3057del (homozygous)</td><td style=\"text-align: left;\">Parkinsonism (HP:0001300): onset ; Mask-like facies (HP:0000298): onset ; Rigidity (HP:0002063): onset ; Bradykinesia (HP:0002067): onset ; Supranuclear gaze palsy (HP:0000605): onset ; Dementia (HP:0000726): onset ; Hyperreflexia (HP:0001347): onset ; Babinski sign (HP:0003487): onset ; Palmomental reflex (HP:0030902): onset ; Cerebral atrophy (HP:0002059): onset ; Auditory hallucination (HP:0008765): onset ; excluded: Tremor (HP:0001337): onset ; excluded: Visual hallucination (HP:0002367): onset </td></tr>\n",
       "<tr><td style=\"text-align: left;\">II-15 (MALE; P33Y)</td><td style=\"text-align: left;\">Kufor-Rakeb syndrome (OMIM:606693)</td><td style=\"text-align: left;\">NM_022089.4:c.3057del (homozygous)</td><td style=\"text-align: left;\">Parkinsonism (HP:0001300): onset ; Mask-like facies (HP:0000298): onset ; Rigidity (HP:0002063): onset ; Bradykinesia (HP:0002067): onset ; Dementia (HP:0000726): onset ; Tremor (HP:0001337): onset ; Hyperreflexia (HP:0001347): onset ; Babinski sign (HP:0003487): onset ; excluded: Visual hallucination (HP:0002367): onset </td></tr>\n",
       "<tr><td style=\"text-align: left;\">II-16 (FEMALE; P41Y)</td><td style=\"text-align: left;\">Kufor-Rakeb syndrome (OMIM:606693)</td><td style=\"text-align: left;\">NM_022089.4:c.3057del (homozygous)</td><td style=\"text-align: left;\">Parkinsonism (HP:0001300): onset ; Mask-like facies (HP:0000298): onset ; Bradykinesia (HP:0002067): onset ; Supranuclear gaze palsy (HP:0000605): onset ; Dementia (HP:0000726): onset ; Hyperreflexia (HP:0001347): onset ; Babinski sign (HP:0003487): onset ; Visual hallucination (HP:0002367): onset ; Palmomental reflex (HP:0030902): onset ; Cerebral atrophy (HP:0002059): onset ; excluded: Rigidity (HP:0002063): onset ; excluded: Tremor (HP:0001337): onset </td></tr>\n",
       "<tr><td style=\"text-align: left;\">II-17 (MALE; P37Y)</td><td style=\"text-align: left;\">Kufor-Rakeb syndrome (OMIM:606693)</td><td style=\"text-align: left;\">NM_022089.4:c.3057del (homozygous)</td><td style=\"text-align: left;\">Parkinsonism (HP:0001300): onset ; Mask-like facies (HP:0000298): onset ; Bradykinesia (HP:0002067): onset ; Supranuclear gaze palsy (HP:0000605): onset ; Dementia (HP:0000726): onset ; Hyperreflexia (HP:0001347): onset ; Babinski sign (HP:0003487): onset ; Palmomental reflex (HP:0030902): onset ; excluded: Rigidity (HP:0002063): onset ; excluded: Tremor (HP:0001337): onset ; excluded: Visual hallucination (HP:0002367): onset </td></tr>\n",
       "<tr><td style=\"text-align: left;\">NAPO-6 (MALE; P41Y)</td><td style=\"text-align: left;\">Kufor-Rakeb syndrome (OMIM:606693)</td><td style=\"text-align: left;\">NM_022089.4:c.2629G>A (homozygous)</td><td style=\"text-align: left;\">Parkinsonism (HP:0001300): onset ; Mask-like facies (HP:0000298): onset ; Rigidity (HP:0002063): onset ; Bradykinesia (HP:0002067): onset ; Slow saccadic eye movements (HP:0000514): onset ; Supranuclear gaze palsy (HP:0000605): onset ; Dystonia (HP:0001332): onset ; Dementia (HP:0000726): onset ; Hyperreflexia (HP:0001347): onset ; Babinski sign (HP:0003487): onset ; Palmomental reflex (HP:0030902): onset ; excluded: Tremor (HP:0001337): onset </td></tr>\n",
       "<tr><td style=\"text-align: left;\">NAPO-7 (MALE; P31Y)</td><td style=\"text-align: left;\">Kufor-Rakeb syndrome (OMIM:606693)</td><td style=\"text-align: left;\">NM_022089.4:c.2629G>A (homozygous)</td><td style=\"text-align: left;\">Parkinsonism (HP:0001300): onset ; Dementia (HP:0000726): onset ; Hyperreflexia (HP:0001347): onset ; Babinski sign (HP:0003487): onset ; excluded: Mask-like facies (HP:0000298): onset ; excluded: Rigidity (HP:0002063): onset ; excluded: Bradykinesia (HP:0002067): onset ; excluded: Slow saccadic eye movements (HP:0000514): onset ; excluded: Supranuclear gaze palsy (HP:0000605): onset ; excluded: Dystonia (HP:0001332): onset ; excluded: Tremor (HP:0001337): onset </td></tr>\n",
       "<tr><td style=\"text-align: left;\">0-year-old child (MALE; P10Y)</td><td style=\"text-align: left;\">Kufor-Rakeb syndrome (OMIM:606693)</td><td style=\"text-align: left;\"><ul> <li>NM_022089.4:c.1321A>T (heterozygous)</li> <li>NM_022089.4:c.3205G>A (heterozygous)</li> </ul></td><td style=\"text-align: left;\">Parkinsonism (HP:0001300): onset ; Bradykinesia (HP:0002067): onset ; Frequent falls (HP:0002359): onset ; Intellectual disability (HP:0001249): onset ; Delayed speech and language development (HP:0000750): onset <br/><b>TimeElement(element=Age(iso8601duration=P8Y))</b>: Dystonia (HP:0001332): onset age {\n",
       "  iso8601duration: \"P8Y\"\n",
       "}\n",
       "<br/><b>TimeElement(element=Age(iso8601duration=P10Y))</b>: Rigidity (HP:0002063): onset age {\n",
       "  iso8601duration: \"P10Y\"\n",
       "}\n",
       "; Dementia (HP:0000726): onset age {\n",
       "  iso8601duration: \"P10Y\"\n",
       "}\n",
       "; Tremor (HP:0001337): onset age {\n",
       "  iso8601duration: \"P10Y\"\n",
       "}\n",
       "</td></tr>\n",
       "<tr><td style=\"text-align: left;\">X4015 (FEMALE; P24Y)</td><td style=\"text-align: left;\">Kufor-Rakeb syndrome (OMIM:606693)</td><td style=\"text-align: left;\">NM_022089.4:c.2572C>T (homozygous)</td><td style=\"text-align: left;\">Parkinsonism (HP:0001300): onset ; Mask-like facies (HP:0000298): onset ; Rigidity (HP:0002063): onset ; Bradykinesia (HP:0002067): onset ; Slow saccadic eye movements (HP:0000514): onset ; Dystonia (HP:0001332): onset ; Dysarthria (HP:0001260): onset ; Tremor (HP:0001337): onset ; Babinski sign (HP:0003487): onset ; Cerebellar atrophy (HP:0001272): onset ; excluded: Dementia (HP:0000726): onset ; excluded: Visual hallucination (HP:0002367): onset </td></tr>\n",
       "<tr><td style=\"text-align: left;\">X4014 (MALE; P25Y)</td><td style=\"text-align: left;\">Kufor-Rakeb syndrome (OMIM:606693)</td><td style=\"text-align: left;\">NM_022089.4:c.2572C>T (homozygous)</td><td style=\"text-align: left;\">Parkinsonism (HP:0001300): onset ; Mask-like facies (HP:0000298): onset ; Rigidity (HP:0002063): onset ; Bradykinesia (HP:0002067): onset ; Slow saccadic eye movements (HP:0000514): onset ; Dystonia (HP:0001332): onset ; Dysarthria (HP:0001260): onset ; Dementia (HP:0000726): onset ; Tremor (HP:0001337): onset ; Babinski sign (HP:0003487): onset ; Cerebellar atrophy (HP:0001272): onset ; excluded: Visual hallucination (HP:0002367): onset </td></tr>\n",
       "<tr><td style=\"text-align: left;\">II.3 (MALE; P10Y)</td><td style=\"text-align: left;\">Kufor-Rakeb syndrome (OMIM:606693)</td><td style=\"text-align: left;\">NM_022089.4:c.2552_2553del (homozygous)</td><td style=\"text-align: left;\">Parkinsonism (HP:0001300): onset ; Mask-like facies (HP:0000298): onset ; Rigidity (HP:0002063): onset ; Bradykinesia (HP:0002067): onset ; Slow saccadic eye movements (HP:0000514): onset ; Dystonia (HP:0001332): onset ; Tremor (HP:0001337): onset ; Hyperreflexia (HP:0001347): onset ; excluded: Supranuclear gaze palsy (HP:0000605): onset ; excluded: Babinski sign (HP:0003487): onset ; excluded: Depression (HP:0000716): onset <br/><b>TimeElement(element=Age(iso8601duration=P11Y))</b>: Dementia (HP:0000726): onset age {\n",
       "  iso8601duration: \"P11Y\"\n",
       "}\n",
       "</td></tr>\n",
       "<tr><td style=\"text-align: left;\">a male patient (MALE; P34Y)</td><td style=\"text-align: left;\">Kufor-Rakeb syndrome (OMIM:606693)</td><td style=\"text-align: left;\">NM_022089.4:c.2822del (homozygous)</td><td style=\"text-align: left;\">Parkinsonism (HP:0001300): onset ; Dystonia (HP:0001332): onset ; Dysphagia (HP:0002015): onset ; Frequent falls (HP:0002359): onset ; Cerebral cortical atrophy (HP:0002120): onset <br/><b>TimeElement(element=Age(iso8601duration=P27Y))</b>: Bradykinesia (HP:0002067): onset age {\n",
       "  iso8601duration: \"P27Y\"\n",
       "}\n",
       "; Dysarthria (HP:0001260): onset age {\n",
       "  iso8601duration: \"P27Y\"\n",
       "}\n",
       "<br/><b>TimeElement(element=Age(iso8601duration=P34Y))</b>: Mask-like facies (HP:0000298): onset age {\n",
       "  iso8601duration: \"P34Y\"\n",
       "}\n",
       "; Rigidity (HP:0002063): onset age {\n",
       "  iso8601duration: \"P34Y\"\n",
       "}\n",
       "; Slow saccadic eye movements (HP:0000514): onset age {\n",
       "  iso8601duration: \"P34Y\"\n",
       "}\n",
       "; Supranuclear gaze palsy (HP:0000605): onset age {\n",
       "  iso8601duration: \"P34Y\"\n",
       "}\n",
       "; Hyperreflexia (HP:0001347): onset age {\n",
       "  iso8601duration: \"P34Y\"\n",
       "}\n",
       "</td></tr>\n",
       "<tr><td style=\"text-align: left;\">II-1 (FEMALE; P35Y)</td><td style=\"text-align: left;\">Kufor-Rakeb syndrome (OMIM:606693)</td><td style=\"text-align: left;\">NM_022089.4:c.2561T>G (homozygous)</td><td style=\"text-align: left;\">Parkinsonism (HP:0001300): onset ; Rigidity (HP:0002063): onset ; Bradykinesia (HP:0002067): onset ; Dysarthria (HP:0001260): onset ; Dementia (HP:0000726): onset ; Tremor (HP:0001337): onset ; Fingerprint intracellular accumulation of autofluorescent lipopigment storage material (HP:0003208): onset ; Increased neuronal autofluorescent lipopigment (HP:0002074): onset ; Ataxia (HP:0001251): onset ; Myoclonus (HP:0001336): onset </td></tr>\n",
       "<tr><td style=\"text-align: left;\">II-5 (FEMALE; P31Y)</td><td style=\"text-align: left;\">Kufor-Rakeb syndrome (OMIM:606693)</td><td style=\"text-align: left;\">NM_022089.4:c.2561T>G (homozygous)</td><td style=\"text-align: left;\">Parkinsonism (HP:0001300): onset ; Rigidity (HP:0002063): onset ; Bradykinesia (HP:0002067): onset ; Dysarthria (HP:0001260): onset ; Dementia (HP:0000726): onset ; excluded: Tremor (HP:0001337): onset </td></tr>\n",
       "<tr><td style=\"text-align: left;\">II-8 (MALE; P26Y)</td><td style=\"text-align: left;\">Kufor-Rakeb syndrome (OMIM:606693)</td><td style=\"text-align: left;\">NM_022089.4:c.2561T>G (homozygous)</td><td style=\"text-align: left;\">Parkinsonism (HP:0001300): onset ; Rigidity (HP:0002063): onset ; Bradykinesia (HP:0002067): onset ; Dysarthria (HP:0001260): onset ; Dementia (HP:0000726): onset ; excluded: Tremor (HP:0001337): onset </td></tr>\n",
       "<tr><td style=\"text-align: left;\">II-9 (FEMALE; P28Y)</td><td style=\"text-align: left;\">Kufor-Rakeb syndrome (OMIM:606693)</td><td style=\"text-align: left;\">NM_022089.4:c.2561T>G (homozygous)</td><td style=\"text-align: left;\">Parkinsonism (HP:0001300): onset ; Rigidity (HP:0002063): onset ; Bradykinesia (HP:0002067): onset ; Dysarthria (HP:0001260): onset ; Dementia (HP:0000726): onset </td></tr>\n",
       "<tr><td style=\"text-align: left;\">IV-1 (FEMALE)</td><td style=\"text-align: left;\">Kufor-Rakeb syndrome (OMIM:606693)</td><td style=\"text-align: left;\">NM_022089.4:c.2473delinsAA (homozygous)</td><td style=\"text-align: left;\">Dementia (HP:0000726): onset ; Hyperreflexia (HP:0001347): onset ; Babinski sign (HP:0003487): onset ; Cerebral atrophy (HP:0002059): onset ; excluded: Visual hallucination (HP:0002367): onset </td></tr>\n",
       "<tr><td style=\"text-align: left;\">IV-6 (MALE)</td><td style=\"text-align: left;\">Kufor-Rakeb syndrome (OMIM:606693)</td><td style=\"text-align: left;\">NM_022089.4:c.2473delinsAA (homozygous)</td><td style=\"text-align: left;\">Dementia (HP:0000726): onset ; Psychosis (HP:0000709): onset ; Cerebral atrophy (HP:0002059): onset ; excluded: Visual hallucination (HP:0002367): onset </td></tr>\n",
       "<tr><td style=\"text-align: left;\">V-1 (MALE)</td><td style=\"text-align: left;\">Kufor-Rakeb syndrome (OMIM:606693)</td><td style=\"text-align: left;\">NM_022089.4:c.2473delinsAA (homozygous)</td><td style=\"text-align: left;\">Rigidity (HP:0002063): onset ; Bradykinesia (HP:0002067): onset ; Supranuclear gaze palsy (HP:0000605): onset ; Dementia (HP:0000726): onset ; Hyperreflexia (HP:0001347): onset ; Babinski sign (HP:0003487): onset ; Visual hallucination (HP:0002367): onset ; Spasticity (HP:0001257): onset ; Auditory hallucination (HP:0008765): onset ; excluded: Slow saccadic eye movements (HP:0000514): onset ; excluded: Tremor (HP:0001337): onset </td></tr>\n",
       "<tr><td style=\"text-align: left;\">V-3 (FEMALE)</td><td style=\"text-align: left;\">Kufor-Rakeb syndrome (OMIM:606693)</td><td style=\"text-align: left;\">NM_022089.4:c.2473delinsAA (homozygous)</td><td style=\"text-align: left;\">Rigidity (HP:0002063): onset ; Bradykinesia (HP:0002067): onset ; Dementia (HP:0000726): onset ; excluded: Slow saccadic eye movements (HP:0000514): onset ; excluded: Supranuclear gaze palsy (HP:0000605): onset ; excluded: Tremor (HP:0001337): onset ; excluded: Hyperreflexia (HP:0001347): onset ; excluded: Babinski sign (HP:0003487): onset ; excluded: Visual hallucination (HP:0002367): onset </td></tr>\n",
       "<tr><td style=\"text-align: left;\">V-5 (FEMALE)</td><td style=\"text-align: left;\">Kufor-Rakeb syndrome (OMIM:606693)</td><td style=\"text-align: left;\">NM_022089.4:c.2473delinsAA (homozygous)</td><td style=\"text-align: left;\">Slow saccadic eye movements (HP:0000514): onset ; Supranuclear gaze palsy (HP:0000605): onset ; Dementia (HP:0000726): onset ; Hyperreflexia (HP:0001347): onset ; Babinski sign (HP:0003487): onset ; Spasticity (HP:0001257): onset ; excluded: Rigidity (HP:0002063): onset ; excluded: Bradykinesia (HP:0002067): onset ; excluded: Tremor (HP:0001337): onset ; excluded: Visual hallucination (HP:0002367): onset </td></tr>\n",
       "<tr><td style=\"text-align: left;\">V-9 (FEMALE)</td><td style=\"text-align: left;\">Kufor-Rakeb syndrome (OMIM:606693)</td><td style=\"text-align: left;\">NM_022089.4:c.2473delinsAA (homozygous)</td><td style=\"text-align: left;\">Bradykinesia (HP:0002067): onset ; Dementia (HP:0000726): onset ; Tremor (HP:0001337): onset ; excluded: Visual hallucination (HP:0002367): onset </td></tr>\n",
       "</table>"
      ],
      "text/plain": [
       "<IPython.core.display.HTML object>"
      ]
     },
     "metadata": {},
     "output_type": "display_data"
    }
   ],
   "source": [
    "table = IndividualTable(cvalidator.get_error_free_individual_list())\n",
    "display(HTML(table.to_html()))"
   ]
  },
  {
   "cell_type": "code",
   "execution_count": null,
   "id": "318392f8-f380-4434-b0b8-28d0595de787",
   "metadata": {},
   "outputs": [
    {
     "name": "stdout",
     "output_type": "stream",
     "text": [
      "[pyphetools] Ingested 46 GA4GH phenopackets.\n",
      "[INFO] Extracted 35 from 46 phenopackets with OMIM:606693\n",
      "\n",
      "\tKufor-Rakeb syndrome (OMIM:606693): n=35\n",
      "We found a total of 55 unique HPO terms\n",
      "Extracted disease: Kufor-Rakeb syndrome (OMIM:606693)\n",
      "Wrote HPOA disease file to OMIM-606693.tab\n"
     ]
    }
   ],
   "source": [
    "pmid = \"PMID:30838237\"\n",
    "df = timporter.create_hpoa_from_phenopackets(pmid=pmid, mode_of_inheritance=Moi.AR, target=\"OMIM:606693\")"
   ]
  }
 ],
 "metadata": {
  "kernelspec": {
   "display_name": "ps24venv",
   "language": "python",
   "name": "python3"
  },
  "language_info": {
   "codemirror_mode": {
    "name": "ipython",
    "version": 3
   },
   "file_extension": ".py",
   "mimetype": "text/x-python",
   "name": "python",
   "nbconvert_exporter": "python",
   "pygments_lexer": "ipython3",
   "version": "3.12.8"
  }
 },
 "nbformat": 4,
 "nbformat_minor": 5
}
