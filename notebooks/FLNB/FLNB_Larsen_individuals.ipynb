{
 "cells": [
  {
   "cell_type": "markdown",
   "id": "66c1c1e5-6ffa-4873-b8b7-45f2f9c69592",
   "metadata": {},
   "source": [
    "# FLNB\n",
    "[Larsen syndrome (LRS)](https://www.omim.org/entry/150250)  is caused by heterozygous mutation in the gene encoding filamin B (FLNB)."
   ]
  },
  {
   "cell_type": "code",
   "execution_count": 1,
   "id": "81ff783d-90e6-4401-a953-67124438323d",
   "metadata": {},
   "outputs": [
    {
     "name": "stdout",
     "output_type": "stream",
     "text": [
      "Using pyphetools version 0.9.78\n"
     ]
    },
    {
     "name": "stderr",
     "output_type": "stream",
     "text": [
      "/Users/robin/GIT/phenopacket-store/ps24venv/lib/python3.9/site-packages/urllib3/__init__.py:35: NotOpenSSLWarning: urllib3 v2 only supports OpenSSL 1.1.1+, currently the 'ssl' module is compiled with 'LibreSSL 2.8.3'. See: https://github.com/urllib3/urllib3/issues/3020\n",
      "  warnings.warn(\n"
     ]
    }
   ],
   "source": [
    "from pyphetools.creation import TemplateImporter\n",
    "from pyphetools.visualization import IndividualTable, QcVisualizer\n",
    "from IPython.display import display, HTML\n",
    "import pyphetools\n",
    "print(f\"Using pyphetools version {pyphetools.__version__}\")"
   ]
  },
  {
   "cell_type": "code",
   "execution_count": 2,
   "id": "7ee859bb-0810-44fa-840f-3e50d819548e",
   "metadata": {},
   "outputs": [],
   "source": [
    "template = \"input/FLNB_Larsen_individuals.xlsx\"\n",
    "hp_json = \"../hp.json\"\n",
    "created_by = \"0000-0002-0736-9199\""
   ]
  },
  {
   "cell_type": "code",
   "execution_count": 3,
   "id": "a1668589-0dd4-429b-8804-d7958c080dcb",
   "metadata": {},
   "outputs": [
    {
     "name": "stdout",
     "output_type": "stream",
     "text": [
      "HPO version 2024-04-04\n",
      "Created encoders for 39 fields\n",
      "Importing OMIM:150250, Larsen syndrome, HGNC:, FLNB,  NM_001457.4\n",
      "We output 3 GA4GH phenopackets to the directory phenopackets\n"
     ]
    }
   ],
   "source": [
    "timporter = TemplateImporter(template=template, hp_json=hp_json, created_by=created_by)\n",
    "individual_list, cvalidator = timporter.import_phenopackets_from_template()"
   ]
  },
  {
   "cell_type": "code",
   "execution_count": 4,
   "id": "8a61a2db-0fbf-447c-a348-dee47f88e27c",
   "metadata": {},
   "outputs": [
    {
     "data": {
      "text/html": [
       "<h2>Cohort validation</h2>\n",
       "<p>No errors found for the cohort with 3 individuals</p>"
      ],
      "text/plain": [
       "<IPython.core.display.HTML object>"
      ]
     },
     "metadata": {},
     "output_type": "display_data"
    }
   ],
   "source": [
    "qc = QcVisualizer(cohort_validator=cvalidator)\n",
    "display(HTML(qc.to_summary_html()))"
   ]
  },
  {
   "cell_type": "code",
   "execution_count": 5,
   "id": "44049ae2-7f75-42ac-9e9e-a94626504e30",
   "metadata": {},
   "outputs": [
    {
     "data": {
      "text/html": [
       "<table style=\"border: 2px solid black; align: \"left\">\n",
       "<caption>3 phenopackets - PMID:36267862 (n=1); PMID:27977582 (n=1); PMID:18322662 (n=1)</caption>\n",
       "<tr><th style=\"text-align: left;font-weight: bold;\">Individual</th><th style=\"text-align: left;font-weight: bold;\">Disease</th><th style=\"text-align: left;font-weight: bold;\">Genotype</th><th style=\"text-align: left;font-weight: bold;\">Phenotypic features</th></tr>\n",
       "<tr><td style=\"text-align: left;\">5-month-old boy (MALE; P5M)</td><td style=\"text-align: left;\">Larsen syndrome (OMIM:150250)</td><td style=\"text-align: left;\">NM_001457.4:c.4928C>G (heterozygous)</td><td style=\"text-align: left;\"><b>P5M</b>: Prominent forehead (HP:0011220); Long philtrum (HP:0000343); Depressed nasal bridge (HP:0005280); Midface retrusion (HP:0011800); Hypertelorism (HP:0000316); Shoulder dislocation (HP:0003834); Spatulate thumbs (HP:0001222); Knee dislocation (HP:0004976); Irregular vertebral endplates (HP:0003301); Short stature (HP:0004322)<br/>Cleft palate (HP:0000175); Hip dislocation (HP:0002827); Talipes equinovarus (HP:0001762); excluded: Scoliosis (HP:0002650); excluded: Cervical kyphosis (HP:0002947); excluded: Breech presentation (HP:0001623)</td></tr>\n",
       "<tr><td style=\"text-align: left;\">male child  (MALE; P2Y6M)</td><td style=\"text-align: left;\">Larsen syndrome (OMIM:150250)</td><td style=\"text-align: left;\">NM_001457.4:c.5071G>A (heterozygous)</td><td style=\"text-align: left;\">Cleft palate (HP:0000175); Knee dislocation (HP:0004976); Hip dislocation (HP:0002827); Short metatarsal (HP:0010743); Talipes equinovarus (HP:0001762); Accessory carpal bones (HP:0004232); Hypoplastic cervical vertebrae (HP:0008434); excluded: Scoliosis (HP:0002650); excluded: Cervical kyphosis (HP:0002947); excluded: Breech presentation (HP:0001623)</td></tr>\n",
       "<tr><td style=\"text-align: left;\">patient (MALE; P1Y10M)</td><td style=\"text-align: left;\">Larsen syndrome (OMIM:150250)</td><td style=\"text-align: left;\">NM_001457.4:c.508G>C (heterozygous)</td><td style=\"text-align: left;\">Long philtrum (HP:0000343); Depressed nasal bridge (HP:0005280); Hypertelorism (HP:0000316); Knee dislocation (HP:0004976); Hip dislocation (HP:0002827); Scoliosis (HP:0002650); Cervical kyphosis (HP:0002947); Breech presentation (HP:0001623); Short metacarpal (HP:0010049); Elbow flexion contracture (HP:0002987); excluded: Cleft palate (HP:0000175)</td></tr>\n",
       "</table>"
      ],
      "text/plain": [
       "<IPython.core.display.HTML object>"
      ]
     },
     "metadata": {},
     "output_type": "display_data"
    }
   ],
   "source": [
    "table = IndividualTable(cvalidator.get_error_free_individual_list())\n",
    "display(HTML(table.to_html()))"
   ]
  },
  {
   "cell_type": "code",
   "execution_count": null,
   "id": "9d688f9b-c43a-45bf-8efe-36b56c72f24d",
   "metadata": {},
   "outputs": [],
   "source": []
  }
 ],
 "metadata": {
  "kernelspec": {
   "display_name": "ps24venv",
   "language": "python",
   "name": "ps24venv"
  },
  "language_info": {
   "codemirror_mode": {
    "name": "ipython",
    "version": 3
   },
   "file_extension": ".py",
   "mimetype": "text/x-python",
   "name": "python",
   "nbconvert_exporter": "python",
   "pygments_lexer": "ipython3",
   "version": "3.9.6"
  }
 },
 "nbformat": 4,
 "nbformat_minor": 5
}
