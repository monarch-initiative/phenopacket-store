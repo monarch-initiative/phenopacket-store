{
 "cells": [
  {
   "cell_type": "markdown",
   "metadata": {},
   "source": [
    "# SLC9A3\n",
    "[congenital secretory sodium diarrhea (DIAR8)](https://omim.org/entry/616868) is caused by homozygous or compound heterozygous mutation in the NHE3 gene."
   ]
  },
  {
   "cell_type": "code",
   "execution_count": 3,
   "metadata": {},
   "outputs": [
    {
     "name": "stdout",
     "output_type": "stream",
     "text": [
      "Using pyphetools version 0.9.91\n"
     ]
    }
   ],
   "source": [
    "from pyphetools.creation import TemplateImporter\n",
    "from pyphetools.visualization import IndividualTable, QcVisualizer\n",
    "from IPython.display import display, HTML\n",
    "import pyphetools\n",
    "print(f\"Using pyphetools version {pyphetools.__version__}\")"
   ]
  },
  {
   "cell_type": "code",
   "execution_count": 4,
   "metadata": {},
   "outputs": [],
   "source": [
    "template = \"input/SLC9A3_DIAR8_individuals.xlsx\"\n",
    "created_by = \"0000-0002-0736-9199\""
   ]
  },
  {
   "cell_type": "code",
   "execution_count": 7,
   "metadata": {},
   "outputs": [
    {
     "name": "stdout",
     "output_type": "stream",
     "text": [
      "HPO version 2024-06-25\n",
      "Created encoders for 31 fields\n",
      "Importing OMIM:616868, Diarrhea 8, secretory sodium, congenital, HGNC:11073, SLC9A3,  NM_004174.4\n",
      "We output 7 GA4GH phenopackets to the directory phenopackets\n"
     ]
    }
   ],
   "source": [
    "del_set = {\"Gene deletion\"}\n",
    "timporter = TemplateImporter(template=template,  created_by=created_by)\n",
    "individual_list, cvalidator = timporter.import_phenopackets_from_template(deletions=del_set)"
   ]
  },
  {
   "cell_type": "code",
   "execution_count": 8,
   "metadata": {},
   "outputs": [
    {
     "data": {
      "text/html": [
       "<h2>Cohort validation</h2>\n",
       "<p>No errors found for the cohort with 7 individuals</p>"
      ],
      "text/plain": [
       "<IPython.core.display.HTML object>"
      ]
     },
     "metadata": {},
     "output_type": "display_data"
    }
   ],
   "source": [
    "qc = QcVisualizer(cohort_validator=cvalidator)\n",
    "display(HTML(qc.to_summary_html()))"
   ]
  },
  {
   "cell_type": "code",
   "execution_count": 9,
   "metadata": {},
   "outputs": [
    {
     "data": {
      "text/html": [
       "<table style=\"border: 2px solid black; align: \"left\">\n",
       "<caption>7 phenopackets - PMID:26358773 (n=7)</caption>\n",
       "<tr><th style=\"text-align: left;font-weight: bold;\">Individual</th><th style=\"text-align: left;font-weight: bold;\">Disease</th><th style=\"text-align: left;font-weight: bold;\">Genotype</th><th style=\"text-align: left;font-weight: bold;\">Phenotypic features</th></tr>\n",
       "<tr><td style=\"text-align: left;\">Patient 1 (FEMALE; P2Y6M)</td><td style=\"text-align: left;\">Diarrhea 8, secretory sodium, congenital (OMIM:616868)</td><td style=\"text-align: left;\"><ul> <li>NM_004174.4:c.1145G>A (heterozygous)</li> <li>Gene deletion: chromosomal_deletion (SO:1000029)</li> </ul></td><td style=\"text-align: left;\">Secretory diarrhea (HP:0005208); Abdominal distention (HP:0003270); Polyhydramnios (HP:0001561); Elevated fecal sodium (HP:0032484); Elevated stool chloride content (HP:0034470); Elevated fecal pH (HP:0032489); Reduced fecal osmolality (HP:0032487); Postnatal growth retardation (HP:0008897); Dependency on parenteral nutrition (HP:0033994); excluded: Abnormal blood sodium concentration (HP:0010931); excluded: Ileal ulcer (HP:0032024); excluded: Villous atrophy (HP:0011473)</td></tr>\n",
       "<tr><td style=\"text-align: left;\">Patient 2 (FEMALE; P37Y)</td><td style=\"text-align: left;\">Diarrhea 8, secretory sodium, congenital (OMIM:616868)</td><td style=\"text-align: left;\"><ul> <li>NM_004174.4:c.932C>T (heterozygous)</li> <li>NM_004174.4:c.350_352del (heterozygous)</li> </ul></td><td style=\"text-align: left;\">Secretory diarrhea (HP:0005208); Abdominal distention (HP:0003270); Polyhydramnios (HP:0001561); Elevated fecal sodium (HP:0032484); Elevated stool chloride content (HP:0034470); excluded: Elevated fecal pH (HP:0032489); excluded: Abnormal blood sodium concentration (HP:0010931); excluded: Postnatal growth retardation (HP:0008897); excluded: Ileal ulcer (HP:0032024); excluded: Dependency on parenteral nutrition (HP:0033994)</td></tr>\n",
       "<tr><td style=\"text-align: left;\">Patient 4 (FEMALE; P1Y6M)</td><td style=\"text-align: left;\">Diarrhea 8, secretory sodium, congenital (OMIM:616868)</td><td style=\"text-align: left;\">NM_004174.4:c.805G>A (homozygous)</td><td style=\"text-align: left;\">Secretory diarrhea (HP:0005208); Abdominal distention (HP:0003270); Polyhydramnios (HP:0001561); Elevated stool chloride content (HP:0034470); Dependency on parenteral nutrition (HP:0033994); excluded: Elevated fecal sodium (HP:0032484); excluded: Elevated fecal pH (HP:0032489); excluded: Reduced fecal osmolality (HP:0032487); excluded: Abnormal blood sodium concentration (HP:0010931); excluded: Postnatal growth retardation (HP:0008897); excluded: Ileal ulcer (HP:0032024); excluded: Villous atrophy (HP:0011473)</td></tr>\n",
       "<tr><td style=\"text-align: left;\">Patient 5 (MALE; P1M)</td><td style=\"text-align: left;\">Diarrhea 8, secretory sodium, congenital (OMIM:616868)</td><td style=\"text-align: left;\">NM_004174.4:c.805G>A (homozygous)</td><td style=\"text-align: left;\">Secretory diarrhea (HP:0005208); Abdominal distention (HP:0003270); Polyhydramnios (HP:0001561); Elevated fecal sodium (HP:0032484); Elevated stool chloride content (HP:0034470); Dependency on parenteral nutrition (HP:0033994); excluded: Abnormal blood sodium concentration (HP:0010931); excluded: Postnatal growth retardation (HP:0008897); excluded: Ileal ulcer (HP:0032024)</td></tr>\n",
       "<tr><td style=\"text-align: left;\">Patient 6 (MALE; P6Y6M)</td><td style=\"text-align: left;\">Diarrhea 8, secretory sodium, congenital (OMIM:616868)</td><td style=\"text-align: left;\">NM_004174.4:c.1446+1G>A (homozygous)</td><td style=\"text-align: left;\">Secretory diarrhea (HP:0005208); Abdominal distention (HP:0003270); Polyhydramnios (HP:0001561); Elevated fecal sodium (HP:0032484); Elevated stool chloride content (HP:0034470); Reduced fecal osmolality (HP:0032487); Ileal ulcer (HP:0032024); Villous atrophy (HP:0011473); Dependency on parenteral nutrition (HP:0033994); excluded: Abnormal blood sodium concentration (HP:0010931); excluded: Postnatal growth retardation (HP:0008897)</td></tr>\n",
       "<tr><td style=\"text-align: left;\">Patient 7 (MALE; P4Y)</td><td style=\"text-align: left;\">Diarrhea 8, secretory sodium, congenital (OMIM:616868)</td><td style=\"text-align: left;\">NM_004174.4:c.782dup (homozygous)</td><td style=\"text-align: left;\">Secretory diarrhea (HP:0005208); Abdominal distention (HP:0003270); Polyhydramnios (HP:0001561); Elevated fecal sodium (HP:0032484); Elevated stool chloride content (HP:0034470); Elevated fecal pH (HP:0032489); Reduced fecal osmolality (HP:0032487); Dependency on parenteral nutrition (HP:0033994); excluded: Abnormal blood sodium concentration (HP:0010931); excluded: Postnatal growth retardation (HP:0008897); excluded: Ileal ulcer (HP:0032024); excluded: Villous atrophy (HP:0011473)</td></tr>\n",
       "<tr><td style=\"text-align: left;\">Patient 9 (MALE; P1Y6M)</td><td style=\"text-align: left;\">Diarrhea 8, secretory sodium, congenital (OMIM:616868)</td><td style=\"text-align: left;\"><ul> <li>NM_004174.4:c.1145G>A (heterozygous)</li> <li>NM_004174.4:c.1745del (heterozygous)</li> </ul></td><td style=\"text-align: left;\">Secretory diarrhea (HP:0005208); Abdominal distention (HP:0003270); Polyhydramnios (HP:0001561); Elevated fecal sodium (HP:0032484); Elevated stool chloride content (HP:0034470); Reduced fecal osmolality (HP:0032487); Postnatal growth retardation (HP:0008897); Dependency on parenteral nutrition (HP:0033994); excluded: Abnormal blood sodium concentration (HP:0010931); excluded: Ileal ulcer (HP:0032024); excluded: Villous atrophy (HP:0011473)</td></tr>\n",
       "</table>"
      ],
      "text/plain": [
       "<IPython.core.display.HTML object>"
      ]
     },
     "metadata": {},
     "output_type": "display_data"
    }
   ],
   "source": [
    "table = IndividualTable(cvalidator.get_error_free_individual_list())\n",
    "display(HTML(table.to_html()))"
   ]
  },
  {
   "cell_type": "code",
   "execution_count": 10,
   "metadata": {},
   "outputs": [
    {
     "name": "stdout",
     "output_type": "stream",
     "text": [
      "[pyphetools] Ingested 7 GA4GH phenopackets.\n",
      "[INFO] Extracted 7 from 7 phenopackets with OMIM:616868\n",
      "\n",
      "\tDiarrhea 8, secretory sodium, congenital (OMIM:616868): n=7\n",
      "We found a total of 12 unique HPO terms\n",
      "Extracted disease: Diarrhea 8, secretory sodium, congenital (OMIM:616868)\n",
      "Wrote HPOA disease file to OMIM-616868.tab\n"
     ]
    }
   ],
   "source": [
    "pmid = \"PMID:26358773\"\n",
    "df = timporter.create_hpoa_from_phenopackets(pmid=pmid, moi=\"Autosomal recessive\", target=\"OMIM:616868\")"
   ]
  },
  {
   "cell_type": "code",
   "execution_count": null,
   "metadata": {},
   "outputs": [],
   "source": []
  }
 ],
 "metadata": {
  "kernelspec": {
   "display_name": "ps24venv",
   "language": "python",
   "name": "python3"
  },
  "language_info": {
   "codemirror_mode": {
    "name": "ipython",
    "version": 3
   },
   "file_extension": ".py",
   "mimetype": "text/x-python",
   "name": "python",
   "nbconvert_exporter": "python",
   "pygments_lexer": "ipython3",
   "version": "3.9.6"
  }
 },
 "nbformat": 4,
 "nbformat_minor": 2
}
