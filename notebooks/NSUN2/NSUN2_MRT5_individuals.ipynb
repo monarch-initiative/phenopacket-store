{
 "cells": [
  {
   "cell_type": "markdown",
   "metadata": {},
   "source": [
    "# NSUN2\n",
    "[autosomal recessive intellectual developmental disorder-5 (MRT5)](https://omim.org/entry/611091) is caused by homozygous mutation in the NSUN2 gene."
   ]
  },
  {
   "cell_type": "code",
   "execution_count": 3,
   "metadata": {},
   "outputs": [
    {
     "name": "stdout",
     "output_type": "stream",
     "text": [
      "Using pyphetools version 0.9.94\n"
     ]
    }
   ],
   "source": [
    "from pyphetools.creation import TemplateImporter, Moi\n",
    "from pyphetools.visualization import IndividualTable, QcVisualizer\n",
    "from IPython.display import display, HTML\n",
    "import pyphetools\n",
    "print(f\"Using pyphetools version {pyphetools.__version__}\")"
   ]
  },
  {
   "cell_type": "code",
   "execution_count": 4,
   "metadata": {},
   "outputs": [],
   "source": [
    "template = \"input/NSUN2_MRT5_individuals.xlsx\"\n",
    "created_by = \"0000-0002-0736-9199\""
   ]
  },
  {
   "cell_type": "code",
   "execution_count": 6,
   "metadata": {},
   "outputs": [
    {
     "name": "stdout",
     "output_type": "stream",
     "text": [
      "HPO version 2024-07-01\n",
      "Created encoders for 62 fields\n",
      "Importing OMIM:611091, Intellectual developmental disorder, autosomal recessive 5, HGNC:25994, NSUN2,  NM_017755.6\n",
      "[INFO] encoding variant \"c.679C>T\"\n",
      "https://rest.variantvalidator.org/VariantValidator/variantvalidator/hg38/NM_017755.6%3Ac.679C>T/NM_017755.6?content-type=application%2Fjson\n",
      "[INFO] encoding variant \"c.560del\"\n",
      "https://rest.variantvalidator.org/VariantValidator/variantvalidator/hg38/NM_017755.6%3Ac.560del/NM_017755.6?content-type=application%2Fjson\n",
      "[INFO] encoding variant \"c.2035G>A\"\n",
      "https://rest.variantvalidator.org/VariantValidator/variantvalidator/hg38/NM_017755.6%3Ac.2035G>A/NM_017755.6?content-type=application%2Fjson\n",
      "[INFO] encoding variant \"c.538-11T>G\"\n",
      "https://rest.variantvalidator.org/VariantValidator/variantvalidator/hg38/NM_017755.6%3Ac.538-11T>G/NM_017755.6?content-type=application%2Fjson\n",
      "[INFO] encoding variant \"c.1114C>T\"\n",
      "https://rest.variantvalidator.org/VariantValidator/variantvalidator/hg38/NM_017755.6%3Ac.1114C>T/NM_017755.6?content-type=application%2Fjson\n",
      "We output 12 GA4GH phenopackets to the directory phenopackets\n"
     ]
    }
   ],
   "source": [
    "timporter = TemplateImporter(template=template,  created_by=created_by)\n",
    "individual_list, cvalidator = timporter.import_phenopackets_from_template()"
   ]
  },
  {
   "cell_type": "code",
   "execution_count": 7,
   "metadata": {},
   "outputs": [
    {
     "data": {
      "text/html": [
       "<h2>Cohort validation</h2>\n",
       "<p>Errors found with 1 of 12 phenopackets.</p>\n",
       "<table style=\"border: 2px solid black; align: \"left\">\n",
       "<caption>Error counts</caption>\n",
       "<tr><th style=\"text-align: left;font-weight: bold;\">Level</th><th style=\"text-align: left;font-weight: bold;\">Error category</th><th style=\"text-align: left;font-weight: bold;\">Count</th></tr>\n",
       "<tr><td style=\"text-align: left;\">WARNING</td><td style=\"text-align: left;\">REDUNDANT</td><td style=\"text-align: left;\">1</td></tr>\n",
       "</table>\n",
       "<p>A total of 1 issues were fixed and no individual was removed from the cohort.</p>"
      ],
      "text/plain": [
       "<IPython.core.display.HTML object>"
      ]
     },
     "metadata": {},
     "output_type": "display_data"
    }
   ],
   "source": [
    "qc = QcVisualizer(cohort_validator=cvalidator)\n",
    "display(HTML(qc.to_summary_html()))"
   ]
  },
  {
   "cell_type": "code",
   "execution_count": 8,
   "metadata": {},
   "outputs": [
    {
     "data": {
      "text/html": [
       "<table style=\"border: 2px solid black; align: \"left\">\n",
       "<caption>12 phenopackets - PMID:22541559 (n=11); PMID:36420349 (n=1)</caption>\n",
       "<tr><th style=\"text-align: left;font-weight: bold;\">Individual</th><th style=\"text-align: left;font-weight: bold;\">Disease</th><th style=\"text-align: left;font-weight: bold;\">Genotype</th><th style=\"text-align: left;font-weight: bold;\">Phenotypic features</th></tr>\n",
       "<tr><td style=\"text-align: left;\">individual M-192 V:3 (MALE; P29Y)</td><td style=\"text-align: left;\">Intellectual developmental disorder, autosomal recessive 5 (OMIM:611091)</td><td style=\"text-align: left;\">NM_017755.6:c.679C>T (homozygous)</td><td style=\"text-align: left;\">Intellectual disability (HP:0001249); Hypertonia (HP:0001276); Microcephaly (HP:0000252); excluded: Seizure (HP:0001250); excluded: Short stature (HP:0004322)</td></tr>\n",
       "<tr><td style=\"text-align: left;\">individual M-192 V:5 (FEMALE; P28Y)</td><td style=\"text-align: left;\">Intellectual developmental disorder, autosomal recessive 5 (OMIM:611091)</td><td style=\"text-align: left;\">NM_017755.6:c.679C>T (homozygous)</td><td style=\"text-align: left;\">Intellectual disability (HP:0001249); Hypertonia (HP:0001276); Short stature (HP:0004322); excluded: Seizure (HP:0001250); excluded: Microcephaly (HP:0000252)</td></tr>\n",
       "<tr><td style=\"text-align: left;\">individual M-192 V:7 (FEMALE; P17Y)</td><td style=\"text-align: left;\">Intellectual developmental disorder, autosomal recessive 5 (OMIM:611091)</td><td style=\"text-align: left;\">NM_017755.6:c.679C>T (homozygous)</td><td style=\"text-align: left;\">Intellectual disability (HP:0001249); Hypertonia (HP:0001276); Short stature (HP:0004322); excluded: Seizure (HP:0001250); excluded: Microcephaly (HP:0000252)</td></tr>\n",
       "<tr><td style=\"text-align: left;\">individual M-314 V:1 (FEMALE; P61Y)</td><td style=\"text-align: left;\">Intellectual developmental disorder, autosomal recessive 5 (OMIM:611091)</td><td style=\"text-align: left;\">NM_017755.6:c.538-11T>G (homozygous)</td><td style=\"text-align: left;\">Intellectual disability (HP:0001249); Hypertonia (HP:0001276); Short stature (HP:0004322); Microcephaly (HP:0000252); excluded: Seizure (HP:0001250)</td></tr>\n",
       "<tr><td style=\"text-align: left;\">individual M-314 VI:4 (FEMALE; P27Y)</td><td style=\"text-align: left;\">Intellectual developmental disorder, autosomal recessive 5 (OMIM:611091)</td><td style=\"text-align: left;\">NM_017755.6:c.538-11T>G (homozygous)</td><td style=\"text-align: left;\">Intellectual disability (HP:0001249); Hypertonia (HP:0001276); Microcephaly (HP:0000252); excluded: Seizure (HP:0001250); excluded: Short stature (HP:0004322)</td></tr>\n",
       "<tr><td style=\"text-align: left;\">individual M-314 VI:7 (MALE; P22Y)</td><td style=\"text-align: left;\">Intellectual developmental disorder, autosomal recessive 5 (OMIM:611091)</td><td style=\"text-align: left;\">NM_017755.6:c.538-11T>G (homozygous)</td><td style=\"text-align: left;\">Intellectual disability (HP:0001249); Hypertonia (HP:0001276); Microcephaly (HP:0000252); excluded: Seizure (HP:0001250); excluded: Short stature (HP:0004322)</td></tr>\n",
       "<tr><td style=\"text-align: left;\">individual G-013 IV:5 (FEMALE; P9Y)</td><td style=\"text-align: left;\">Intellectual developmental disorder, autosomal recessive 5 (OMIM:611091)</td><td style=\"text-align: left;\">NM_017755.6:c.1114C>T (homozygous)</td><td style=\"text-align: left;\">Strabismus (HP:0000486); Intellectual disability (HP:0001249); Short stature (HP:0004322); Microcephaly (HP:0000252); excluded: Seizure (HP:0001250); excluded: Hypertonia (HP:0001276)</td></tr>\n",
       "<tr><td style=\"text-align: left;\">individual G-013 IV:6 (MALE; P6Y)</td><td style=\"text-align: left;\">Intellectual developmental disorder, autosomal recessive 5 (OMIM:611091)</td><td style=\"text-align: left;\">NM_017755.6:c.1114C>T (homozygous)</td><td style=\"text-align: left;\">Strabismus (HP:0000486); Intellectual disability (HP:0001249); Seizure (HP:0001250); Short stature (HP:0004322); Microcephaly (HP:0000252); excluded: Hypertonia (HP:0001276)</td></tr>\n",
       "<tr><td style=\"text-align: left;\">individual Khan II:3 (FEMALE; P14Y)</td><td style=\"text-align: left;\">Intellectual developmental disorder, autosomal recessive 5 (OMIM:611091)</td><td style=\"text-align: left;\">NM_017755.6:c.2035G>A (homozygous)</td><td style=\"text-align: left;\">Strabismus (HP:0000486); Intellectual disability (HP:0001249); Hypertonia (HP:0001276); Elevated circulating creatine kinase concentration (HP:0003236); Microcephaly (HP:0000252); excluded: Seizure (HP:0001250); excluded: Short stature (HP:0004322)</td></tr>\n",
       "<tr><td style=\"text-align: left;\">individual Khan II:4 (FEMALE; P13Y)</td><td style=\"text-align: left;\">Intellectual developmental disorder, autosomal recessive 5 (OMIM:611091)</td><td style=\"text-align: left;\">NM_017755.6:c.2035G>A (homozygous)</td><td style=\"text-align: left;\">Intellectual disability (HP:0001249); Hypertonia (HP:0001276); Short stature (HP:0004322); Microcephaly (HP:0000252); excluded: Strabismus (HP:0000486); excluded: Seizure (HP:0001250)</td></tr>\n",
       "<tr><td style=\"text-align: left;\">individual Khan II:5 (FEMALE; P6Y)</td><td style=\"text-align: left;\">Intellectual developmental disorder, autosomal recessive 5 (OMIM:611091)</td><td style=\"text-align: left;\">NM_017755.6:c.2035G>A (homozygous)</td><td style=\"text-align: left;\">Intellectual disability (HP:0001249); Hypertonia (HP:0001276); excluded: Strabismus (HP:0000486); excluded: Seizure (HP:0001250); excluded: Elevated circulating creatine kinase concentration (HP:0003236)</td></tr>\n",
       "<tr><td style=\"text-align: left;\">patient (MALE; P14Y)</td><td style=\"text-align: left;\">Intellectual developmental disorder, autosomal recessive 5 (OMIM:611091)</td><td style=\"text-align: left;\">NM_017755.6:c.560del (homozygous)</td><td style=\"text-align: left;\"><b>P1Y</b>: Global developmental delay (HP:0001263)<br/><b>P3Y</b>: Gait ataxia (HP:0002066)<br/><b>P14Y</b>: Seizure (HP:0001250)<br/>Hearing impairment (HP:0000365); Autism (HP:0000717); Intellectual disability (HP:0001249); Inverted nipples (HP:0003186); Spastic gait (HP:0002064); Microcephaly (HP:0000252); Shawl scrotum (HP:0000049); Absent speech (HP:0001344); Tube feeding (HP:0033454)</td></tr>\n",
       "</table>"
      ],
      "text/plain": [
       "<IPython.core.display.HTML object>"
      ]
     },
     "metadata": {},
     "output_type": "display_data"
    }
   ],
   "source": [
    "table = IndividualTable(cvalidator.get_error_free_individual_list())\n",
    "display(HTML(table.to_html()))"
   ]
  },
  {
   "cell_type": "code",
   "execution_count": 9,
   "metadata": {},
   "outputs": [
    {
     "name": "stdout",
     "output_type": "stream",
     "text": [
      "[pyphetools] Ingested 12 GA4GH phenopackets.\n",
      "\tIntellectual developmental disorder, autosomal recessive 5 (OMIM:611091): n=12\n",
      "We found a total of 16 unique HPO terms\n",
      "Extracted disease: Intellectual developmental disorder, autosomal recessive 5 (OMIM:611091)\n",
      "Wrote HPOA disease file to OMIM-611091.tab\n"
     ]
    }
   ],
   "source": [
    "pmid = \"PMID:22541559\"\n",
    "df = timporter.create_hpoa_from_phenopackets(pmid=pmid, mode_of_inheritance=Moi.AR)"
   ]
  }
 ],
 "metadata": {
  "kernelspec": {
   "display_name": "ps24venv",
   "language": "python",
   "name": "python3"
  },
  "language_info": {
   "codemirror_mode": {
    "name": "ipython",
    "version": 3
   },
   "file_extension": ".py",
   "mimetype": "text/x-python",
   "name": "python",
   "nbconvert_exporter": "python",
   "pygments_lexer": "ipython3",
   "version": "3.9.6"
  }
 },
 "nbformat": 4,
 "nbformat_minor": 2
}
