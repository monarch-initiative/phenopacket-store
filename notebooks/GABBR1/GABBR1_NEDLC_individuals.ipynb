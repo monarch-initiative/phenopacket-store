{
 "cells": [
  {
   "cell_type": "markdown",
   "id": "cb6821a1-d423-4392-b5bc-20f8ab822c62",
   "metadata": {},
   "source": [
    "# GABBR1\n",
    "Pathogenic vartiants in GABBR1 are associated with [Neurodevelopmental disorder with language delay and variable cognitive abnormalities](https://omim.org/entry/620502) (NEDLC). "
   ]
  },
  {
   "cell_type": "code",
   "execution_count": 1,
   "id": "da5b990e-88e1-404c-a634-775411544e09",
   "metadata": {},
   "outputs": [],
   "source": [
    "from pyphetools.creation import TemplateImporter\n",
    "from pyphetools.visualization import IndividualTable, QcVisualizer\n",
    "from IPython.display import display, HTML\n",
    "template = \"input/GABBR1_individuals.xlsx\"\n",
    "hp_json = \"../hp.json\"\n",
    "created_by = \"0000-0002-0736-9199\""
   ]
  },
  {
   "cell_type": "code",
   "execution_count": 2,
   "id": "5377a76f-7f3d-4bd2-9f4f-eafb9a26abab",
   "metadata": {},
   "outputs": [],
   "source": [
    "timporter = TemplateImporter(template=template, hp_json=hp_json, created_by=created_by)"
   ]
  },
  {
   "cell_type": "code",
   "execution_count": 3,
   "id": "09573fdc-2017-42d4-88e2-e1ef54959f00",
   "metadata": {},
   "outputs": [
    {
     "name": "stdout",
     "output_type": "stream",
     "text": [
      "HPO version 2024-02-27\n",
      "Created encoders for 35 fields\n",
      " we got OMIM:620502  NM_001470.4\n",
      "We output 4 GA4GH phenopackets to the directory phenopackets\n"
     ]
    }
   ],
   "source": [
    "individuals, cvalidator = timporter.import_phenopackets_from_template()"
   ]
  },
  {
   "cell_type": "code",
   "execution_count": 4,
   "id": "1414d20e-b0c1-4a9c-9ccf-5caa312eb525",
   "metadata": {},
   "outputs": [
    {
     "data": {
      "text/html": [
       "<h2>Cohort validation</h2>\n",
       "<p>No errors found for the cohort with 4 individuals</p>"
      ],
      "text/plain": [
       "<IPython.core.display.HTML object>"
      ]
     },
     "metadata": {},
     "output_type": "display_data"
    }
   ],
   "source": [
    "### Here, we begin QC and display\n",
    "qc = QcVisualizer(cohort_validator=cvalidator)\n",
    "display(HTML(qc.to_summary_html()))"
   ]
  },
  {
   "cell_type": "code",
   "execution_count": 5,
   "id": "fc6c749e-d4e4-4a38-adcf-6307131b0964",
   "metadata": {},
   "outputs": [
    {
     "name": "stdout",
     "output_type": "stream",
     "text": [
      "[pyphetools] Ingested 4 GA4GH phenopackets.\n",
      "\tNeurodevelopmental disorder with language delay and variable cognitive abnormalities (OMIM:620502): n=4\n",
      "We found a total of 19 unique HPO terms\n",
      "Extracted disease: Neurodevelopmental disorder with language delay and variable cognitive abnormalities (OMIM:620502)\n",
      "Wrote HPOA disease file to OMIM-620502.tab\n"
     ]
    }
   ],
   "source": [
    "# Cediel ML, et al GABBR1 monoallelic de novo variants linked to neurodevelopmental delay and epilepsy. \n",
    "# Am J Hum Genet. 2022 Oct 6;109(10):1885-1893.  PMID: 36103875.\n",
    "PMID = \"PMID:36103875\"\n",
    "df = timporter.create_hpoa_from_phenopackets(pmid=PMID, moi=\"Autosomal dominant\")"
   ]
  },
  {
   "cell_type": "code",
   "execution_count": 6,
   "id": "51357c6c-62c7-4928-b1d4-a55d60d34eaf",
   "metadata": {},
   "outputs": [
    {
     "data": {
      "text/html": [
       "<table style=\"border: 2px solid black; align: \"left\">\n",
       "<caption>4 phenopackets - PMID:36103875 (n=4)</caption>\n",
       "<tr><th style=\"text-align: left;font-weight: bold;\">Individual</th><th style=\"text-align: left;font-weight: bold;\">Disease</th><th style=\"text-align: left;font-weight: bold;\">Genotype</th><th style=\"text-align: left;font-weight: bold;\">Phenotypic features</th></tr>\n",
       "<tr><td style=\"text-align: left;\">Individual 1 (FEMALE; P2Y6M)</td><td style=\"text-align: left;\">Neurodevelopmental disorder with language delay and variable cognitive abnormalities (OMIM:620502)</td><td style=\"text-align: left;\">NM_001470.4:c.1603G>A (heterozygous)</td><td style=\"text-align: left;\">Motor delay (HP:0001270); Delayed speech and language development (HP:0000750); Hypotonia (HP:0001252); Abnormal repetitive mannerisms (HP:0000733); excluded: Seizure (HP:0001250); excluded: Autistic behavior (HP:0000729); excluded: Attention deficit hyperactivity disorder (HP:0007018); excluded: Encopresis (HP:0040183); excluded: Sleep abnormality (HP:0002360); excluded: Optic nerve hypoplasia (HP:0000609); excluded: Nystagmus (HP:0000639); excluded: Scoliosis (HP:0002650); excluded: Increased femoral anteversion (HP:0012427); excluded: Dry skin (HP:0000958); excluded: Nail dystrophy (HP:0008404); excluded: Long philtrum (HP:0000343); excluded: Wide nasal bridge (HP:0000431); excluded: Clinodactyly of the 5th finger (HP:0004209)</td></tr>\n",
       "<tr><td style=\"text-align: left;\">Individual 2 (FEMALE; P4Y6M)</td><td style=\"text-align: left;\">Neurodevelopmental disorder with language delay and variable cognitive abnormalities (OMIM:620502)</td><td style=\"text-align: left;\">NM_001470.4:c.1104G>C (heterozygous)</td><td style=\"text-align: left;\">Motor delay (HP:0001270); Delayed speech and language development (HP:0000750); Hypotonia (HP:0001252); Seizure (HP:0001250); Intellectual disability (HP:0001249); Sleep abnormality (HP:0002360); Optic nerve hypoplasia (HP:0000609); Nystagmus (HP:0000639); Scoliosis (HP:0002650); Long philtrum (HP:0000343); Wide nasal bridge (HP:0000431); Clinodactyly of the 5th finger (HP:0004209); excluded: Abnormal repetitive mannerisms (HP:0000733); excluded: Autistic behavior (HP:0000729); excluded: Attention deficit hyperactivity disorder (HP:0007018); excluded: Encopresis (HP:0040183); excluded: Increased femoral anteversion (HP:0012427); excluded: Dry skin (HP:0000958); excluded: Nail dystrophy (HP:0008404)</td></tr>\n",
       "<tr><td style=\"text-align: left;\">Individual 3 (MALE; P13Y)</td><td style=\"text-align: left;\">Neurodevelopmental disorder with language delay and variable cognitive abnormalities (OMIM:620502)</td><td style=\"text-align: left;\">NM_001470.4:c.1190C>T (heterozygous)</td><td style=\"text-align: left;\">Delayed speech and language development (HP:0000750); Abnormal repetitive mannerisms (HP:0000733); Intellectual disability (HP:0001249); Attention deficit hyperactivity disorder (HP:0007018); Encopresis (HP:0040183); Sleep abnormality (HP:0002360); excluded: Motor delay (HP:0001270); excluded: Hypotonia (HP:0001252); excluded: Seizure (HP:0001250); excluded: Autistic behavior (HP:0000729); excluded: Optic nerve hypoplasia (HP:0000609); excluded: Nystagmus (HP:0000639); excluded: Scoliosis (HP:0002650); excluded: Increased femoral anteversion (HP:0012427); excluded: Dry skin (HP:0000958); excluded: Nail dystrophy (HP:0008404); excluded: Long philtrum (HP:0000343); excluded: Wide nasal bridge (HP:0000431); excluded: Clinodactyly of the 5th finger (HP:0004209)</td></tr>\n",
       "<tr><td style=\"text-align: left;\">Individual 4 (FEMALE; P17Y)</td><td style=\"text-align: left;\">Neurodevelopmental disorder with language delay and variable cognitive abnormalities (OMIM:620502)</td><td style=\"text-align: left;\">NM_001470.4:c.2018G>A (heterozygous)</td><td style=\"text-align: left;\">Motor delay (HP:0001270); Delayed speech and language development (HP:0000750); Autistic behavior (HP:0000729); Attention deficit hyperactivity disorder (HP:0007018); Increased femoral anteversion (HP:0012427); Dry skin (HP:0000958); Nail dystrophy (HP:0008404); excluded: Hypotonia (HP:0001252); excluded: Abnormal repetitive mannerisms (HP:0000733); excluded: Seizure (HP:0001250); excluded: Intellectual disability (HP:0001249); excluded: Encopresis (HP:0040183); excluded: Sleep abnormality (HP:0002360); excluded: Optic nerve hypoplasia (HP:0000609); excluded: Nystagmus (HP:0000639); excluded: Scoliosis (HP:0002650); excluded: Long philtrum (HP:0000343); excluded: Wide nasal bridge (HP:0000431); excluded: Clinodactyly of the 5th finger (HP:0004209)</td></tr>\n",
       "</table>"
      ],
      "text/plain": [
       "<IPython.core.display.HTML object>"
      ]
     },
     "metadata": {},
     "output_type": "display_data"
    }
   ],
   "source": [
    "table = IndividualTable(individuals)\n",
    "display(HTML(table.to_html()))"
   ]
  },
  {
   "cell_type": "code",
   "execution_count": null,
   "id": "be10033a-183e-4d98-a69f-20ddc2896576",
   "metadata": {},
   "outputs": [],
   "source": []
  }
 ],
 "metadata": {
  "kernelspec": {
   "display_name": "Python 3 (ipykernel)",
   "language": "python",
   "name": "python3"
  },
  "language_info": {
   "codemirror_mode": {
    "name": "ipython",
    "version": 3
   },
   "file_extension": ".py",
   "mimetype": "text/x-python",
   "name": "python",
   "nbconvert_exporter": "python",
   "pygments_lexer": "ipython3",
   "version": "3.8.10"
  }
 },
 "nbformat": 4,
 "nbformat_minor": 5
}
