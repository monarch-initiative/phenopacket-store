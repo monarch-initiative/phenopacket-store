{
 "cells": [
  {
   "cell_type": "markdown",
   "id": "cb6821a1-d423-4392-b5bc-20f8ab822c62",
   "metadata": {},
   "source": [
    "# GABBR1\n",
    "Pathogenic vartiants in GABBR1 are associated with [Neurodevelopmental disorder with language delay and variable cognitive abnormalities](https://omim.org/entry/620502) (NEDLC). "
   ]
  },
  {
   "cell_type": "code",
   "execution_count": 1,
   "id": "49da9671-20b9-42fa-b61f-f315183ad988",
   "metadata": {},
   "outputs": [
    {
     "name": "stdout",
     "output_type": "stream",
     "text": [
      "Using pyphetools version 0.9.56\n"
     ]
    }
   ],
   "source": [
    "import pandas as pd\n",
    "from IPython.display import display, HTML\n",
    "pd.set_option('display.max_colwidth', None) # show entire column contents, important!\n",
    "from collections import defaultdict\n",
    "from pyphetools.creation import *\n",
    "from pyphetools.visualization import *\n",
    "from pyphetools.validation import *\n",
    "import pyphetools\n",
    "print(f\"Using pyphetools version {pyphetools.__version__}\")"
   ]
  },
  {
   "cell_type": "code",
   "execution_count": 2,
   "id": "f7152f26-9b34-49fa-a025-4934e98439da",
   "metadata": {},
   "outputs": [
    {
     "name": "stdout",
     "output_type": "stream",
     "text": [
      "HPO version 2024-02-27\n"
     ]
    }
   ],
   "source": [
    "parser = HpoParser(hpo_json_file=\"../hp.json\")\n",
    "hpo_cr = parser.get_hpo_concept_recognizer()\n",
    "hpo_version = parser.get_version()\n",
    "hpo_ontology = parser.get_ontology()\n",
    "created_by=\"ORCID:0000-0002-0736-9199\"\n",
    "print(f\"HPO version {hpo_version}\")"
   ]
  },
  {
   "cell_type": "code",
   "execution_count": 3,
   "id": "eda1a350-173a-4bfd-ac8a-ecbc4bef85f4",
   "metadata": {},
   "outputs": [
    {
     "data": {
      "text/html": [
       "<div>\n",
       "<style scoped>\n",
       "    .dataframe tbody tr th:only-of-type {\n",
       "        vertical-align: middle;\n",
       "    }\n",
       "\n",
       "    .dataframe tbody tr th {\n",
       "        vertical-align: top;\n",
       "    }\n",
       "\n",
       "    .dataframe thead th {\n",
       "        text-align: right;\n",
       "    }\n",
       "</style>\n",
       "<table border=\"1\" class=\"dataframe\">\n",
       "  <thead>\n",
       "    <tr style=\"text-align: right;\">\n",
       "      <th></th>\n",
       "      <th>PMID</th>\n",
       "      <th>title</th>\n",
       "      <th>individual_id</th>\n",
       "      <th>comment</th>\n",
       "      <th>disease_id</th>\n",
       "      <th>disease_label</th>\n",
       "      <th>transcript</th>\n",
       "      <th>allele_1</th>\n",
       "      <th>allele_2</th>\n",
       "      <th>variant.comment</th>\n",
       "      <th>...</th>\n",
       "      <th>Sleep abnormality</th>\n",
       "      <th>Optic nerve hypoplasia</th>\n",
       "      <th>Nystagmus</th>\n",
       "      <th>Scoliosis</th>\n",
       "      <th>Increased femoral anteversion</th>\n",
       "      <th>Dry skin</th>\n",
       "      <th>Nail dystrophy</th>\n",
       "      <th>Long philtrum</th>\n",
       "      <th>Wide nasal bridge</th>\n",
       "      <th>Clinodactyly of the 5th finger</th>\n",
       "    </tr>\n",
       "  </thead>\n",
       "  <tbody>\n",
       "    <tr>\n",
       "      <th>0</th>\n",
       "      <td>str</td>\n",
       "      <td>str</td>\n",
       "      <td>str</td>\n",
       "      <td>optional str</td>\n",
       "      <td>str</td>\n",
       "      <td>str</td>\n",
       "      <td>str</td>\n",
       "      <td>str</td>\n",
       "      <td>str</td>\n",
       "      <td>optional str</td>\n",
       "      <td>...</td>\n",
       "      <td>HP:0002360</td>\n",
       "      <td>HP:0000609</td>\n",
       "      <td>HP:0000639</td>\n",
       "      <td>HP:0002650</td>\n",
       "      <td>HP:0012427</td>\n",
       "      <td>HP:0000958</td>\n",
       "      <td>HP:0008404</td>\n",
       "      <td>HP:0000343</td>\n",
       "      <td>HP:0000431</td>\n",
       "      <td>HP:0004209</td>\n",
       "    </tr>\n",
       "    <tr>\n",
       "      <th>1</th>\n",
       "      <td>PMID:36103875</td>\n",
       "      <td>GABBR1 monoallelic de novo variants linked to neurodevelopmental delay and epilepsy</td>\n",
       "      <td>Individual 1</td>\n",
       "      <td>NaN</td>\n",
       "      <td>OMIM:620502</td>\n",
       "      <td>Neurodevelopmental disorder with language delay and variable cognitive abnormalities</td>\n",
       "      <td>NM_001470.4</td>\n",
       "      <td>c.1603G&gt;A</td>\n",
       "      <td>na</td>\n",
       "      <td>p.Ala535Thr</td>\n",
       "      <td>...</td>\n",
       "      <td>excluded</td>\n",
       "      <td>excluded</td>\n",
       "      <td>excluded</td>\n",
       "      <td>excluded</td>\n",
       "      <td>excluded</td>\n",
       "      <td>excluded</td>\n",
       "      <td>excluded</td>\n",
       "      <td>excluded</td>\n",
       "      <td>excluded</td>\n",
       "      <td>excluded</td>\n",
       "    </tr>\n",
       "  </tbody>\n",
       "</table>\n",
       "<p>2 rows × 33 columns</p>\n",
       "</div>"
      ],
      "text/plain": [
       "            PMID  \\\n",
       "0            str   \n",
       "1  PMID:36103875   \n",
       "\n",
       "                                                                                 title  \\\n",
       "0                                                                                  str   \n",
       "1  GABBR1 monoallelic de novo variants linked to neurodevelopmental delay and epilepsy   \n",
       "\n",
       "  individual_id       comment   disease_id  \\\n",
       "0           str  optional str          str   \n",
       "1  Individual 1           NaN  OMIM:620502   \n",
       "\n",
       "                                                                          disease_label  \\\n",
       "0                                                                                   str   \n",
       "1  Neurodevelopmental disorder with language delay and variable cognitive abnormalities   \n",
       "\n",
       "    transcript    allele_1 allele_2 variant.comment  ... Sleep abnormality  \\\n",
       "0          str         str      str    optional str  ...        HP:0002360   \n",
       "1  NM_001470.4  c.1603G>A        na     p.Ala535Thr  ...          excluded   \n",
       "\n",
       "  Optic nerve hypoplasia   Nystagmus   Scoliosis  \\\n",
       "0             HP:0000609  HP:0000639  HP:0002650   \n",
       "1               excluded    excluded    excluded   \n",
       "\n",
       "  Increased femoral anteversion    Dry skin Nail dystrophy Long philtrum  \\\n",
       "0                    HP:0012427  HP:0000958     HP:0008404    HP:0000343   \n",
       "1                      excluded    excluded       excluded      excluded   \n",
       "\n",
       "  Wide nasal bridge Clinodactyly of the 5th finger  \n",
       "0        HP:0000431                     HP:0004209  \n",
       "1          excluded                       excluded  \n",
       "\n",
       "[2 rows x 33 columns]"
      ]
     },
     "execution_count": 3,
     "metadata": {},
     "output_type": "execute_result"
    }
   ],
   "source": [
    "df = pd.read_excel(\"input/GABBR1_individuals.xlsx\")\n",
    "df.head(2)"
   ]
  },
  {
   "cell_type": "code",
   "execution_count": 4,
   "id": "4e4a4e68-05ba-4124-a360-738d5c769c92",
   "metadata": {},
   "outputs": [
    {
     "name": "stdout",
     "output_type": "stream",
     "text": [
      "Created encoders for 33 fields\n"
     ]
    }
   ],
   "source": [
    "encoder = CaseTemplateEncoder(df=df, hpo_cr=hpo_cr, created_by=created_by)\n",
    "individuals = encoder.get_individuals()"
   ]
  },
  {
   "cell_type": "code",
   "execution_count": 5,
   "id": "1a7b08a2-da6b-4b8e-8f84-b42b41a0fc70",
   "metadata": {},
   "outputs": [],
   "source": [
    "GABBR1_transcript = \"NM_001470.4\"\n",
    "vmanager = VariantManager(df=df,\n",
    "                          individual_column_name=\"individual_id\",\n",
    "                          gene_symbol=\"GABBR1\",\n",
    "                          transcript=GABBR1_transcript,\n",
    "                          allele_1_column_name=\"allele_1\")"
   ]
  },
  {
   "cell_type": "code",
   "execution_count": 6,
   "id": "d915dc0a-159f-433d-995c-aef57ca98608",
   "metadata": {},
   "outputs": [
    {
     "data": {
      "text/html": [
       "<div>\n",
       "<style scoped>\n",
       "    .dataframe tbody tr th:only-of-type {\n",
       "        vertical-align: middle;\n",
       "    }\n",
       "\n",
       "    .dataframe tbody tr th {\n",
       "        vertical-align: top;\n",
       "    }\n",
       "\n",
       "    .dataframe thead th {\n",
       "        text-align: right;\n",
       "    }\n",
       "</style>\n",
       "<table border=\"1\" class=\"dataframe\">\n",
       "  <thead>\n",
       "    <tr style=\"text-align: right;\">\n",
       "      <th></th>\n",
       "      <th>status</th>\n",
       "      <th>count</th>\n",
       "      <th>alleles</th>\n",
       "    </tr>\n",
       "  </thead>\n",
       "  <tbody>\n",
       "    <tr>\n",
       "      <th>0</th>\n",
       "      <td>mapped</td>\n",
       "      <td>4</td>\n",
       "      <td>c.1104G&gt;C, c.1603G&gt;A , c.2018G&gt;A, c.1190C&gt;T</td>\n",
       "    </tr>\n",
       "    <tr>\n",
       "      <th>1</th>\n",
       "      <td>unmapped</td>\n",
       "      <td>0</td>\n",
       "      <td></td>\n",
       "    </tr>\n",
       "  </tbody>\n",
       "</table>\n",
       "</div>"
      ],
      "text/plain": [
       "     status  count                                      alleles\n",
       "0    mapped      4  c.1104G>C, c.1603G>A , c.2018G>A, c.1190C>T\n",
       "1  unmapped      0                                             "
      ]
     },
     "execution_count": 6,
     "metadata": {},
     "output_type": "execute_result"
    }
   ],
   "source": [
    "vmanager.to_summary()"
   ]
  },
  {
   "cell_type": "code",
   "execution_count": 7,
   "id": "ceaf9062-afd0-458f-b2ff-a6a7eb76e5d7",
   "metadata": {},
   "outputs": [
    {
     "data": {
      "text/html": [
       "<h2>Cohort validation</h2>\n",
       "<p>No errors found for the cohort with 4 individuals</p>"
      ],
      "text/plain": [
       "<IPython.core.display.HTML object>"
      ]
     },
     "metadata": {},
     "output_type": "display_data"
    }
   ],
   "source": [
    "vmanager.add_variants_to_individuals(individuals)\n",
    "cvalidator = CohortValidator(cohort=individuals, ontology=hpo_ontology, min_hpo=1, allelic_requirement=AllelicRequirement.MONO_ALLELIC)\n",
    "qc = QcVisualizer(cohort_validator=cvalidator)\n",
    "display(HTML(qc.to_summary_html()))"
   ]
  },
  {
   "cell_type": "code",
   "execution_count": 8,
   "id": "baddeb23-0f53-4a43-96a7-1619d886903b",
   "metadata": {},
   "outputs": [
    {
     "data": {
      "text/html": [
       "<table style=\"border: 2px solid black; align: \"left\">\n",
       "<caption>4 phenopackets - PMID:36103875 (n=4)</caption>\n",
       "<tr><th style=\"text-align: left;font-weight: bold;\">Individual</th><th style=\"text-align: left;font-weight: bold;\">Disease</th><th style=\"text-align: left;font-weight: bold;\">Genotype</th><th style=\"text-align: left;font-weight: bold;\">Phenotypic features</th></tr>\n",
       "<tr><td style=\"text-align: left;\">Individual 1 (FEMALE; P2Y6M)</td><td style=\"text-align: left;\">Neurodevelopmental disorder with language delay and variable cognitive abnormalities (OMIM:620502)</td><td style=\"text-align: left;\">NM_001470.4:c.1603G>A (heterozygous)</td><td style=\"text-align: left;\">Motor delay (HP:0001270); Delayed speech and language development (HP:0000750); Hypotonia (HP:0001252); Abnormal repetitive mannerisms (HP:0000733); excluded: Seizure (HP:0001250); excluded: Autistic behavior (HP:0000729); excluded: Attention deficit hyperactivity disorder (HP:0007018); excluded: Encopresis (HP:0040183); excluded: Sleep abnormality (HP:0002360); excluded: Optic nerve hypoplasia (HP:0000609); excluded: Nystagmus (HP:0000639); excluded: Scoliosis (HP:0002650); excluded: Increased femoral anteversion (HP:0012427); excluded: Dry skin (HP:0000958); excluded: Nail dystrophy (HP:0008404); excluded: Long philtrum (HP:0000343); excluded: Wide nasal bridge (HP:0000431); excluded: Clinodactyly of the 5th finger (HP:0004209)</td></tr>\n",
       "<tr><td style=\"text-align: left;\">Individual 2 (FEMALE; P4Y6M)</td><td style=\"text-align: left;\">Neurodevelopmental disorder with language delay and variable cognitive abnormalities (OMIM:620502)</td><td style=\"text-align: left;\">NM_001470.4:c.1104G>C (heterozygous)</td><td style=\"text-align: left;\">Motor delay (HP:0001270); Delayed speech and language development (HP:0000750); Hypotonia (HP:0001252); Seizure (HP:0001250); Intellectual disability (HP:0001249); Sleep abnormality (HP:0002360); Optic nerve hypoplasia (HP:0000609); Nystagmus (HP:0000639); Scoliosis (HP:0002650); Long philtrum (HP:0000343); Wide nasal bridge (HP:0000431); Clinodactyly of the 5th finger (HP:0004209); excluded: Abnormal repetitive mannerisms (HP:0000733); excluded: Autistic behavior (HP:0000729); excluded: Attention deficit hyperactivity disorder (HP:0007018); excluded: Encopresis (HP:0040183); excluded: Increased femoral anteversion (HP:0012427); excluded: Dry skin (HP:0000958); excluded: Nail dystrophy (HP:0008404)</td></tr>\n",
       "<tr><td style=\"text-align: left;\">Individual 3 (MALE; P13Y)</td><td style=\"text-align: left;\">Neurodevelopmental disorder with language delay and variable cognitive abnormalities (OMIM:620502)</td><td style=\"text-align: left;\">NM_001470.4:c.1190C>T (heterozygous)</td><td style=\"text-align: left;\">Delayed speech and language development (HP:0000750); Abnormal repetitive mannerisms (HP:0000733); Intellectual disability (HP:0001249); Attention deficit hyperactivity disorder (HP:0007018); Encopresis (HP:0040183); Sleep abnormality (HP:0002360); excluded: Motor delay (HP:0001270); excluded: Hypotonia (HP:0001252); excluded: Seizure (HP:0001250); excluded: Autistic behavior (HP:0000729); excluded: Optic nerve hypoplasia (HP:0000609); excluded: Nystagmus (HP:0000639); excluded: Scoliosis (HP:0002650); excluded: Increased femoral anteversion (HP:0012427); excluded: Dry skin (HP:0000958); excluded: Nail dystrophy (HP:0008404); excluded: Long philtrum (HP:0000343); excluded: Wide nasal bridge (HP:0000431); excluded: Clinodactyly of the 5th finger (HP:0004209)</td></tr>\n",
       "<tr><td style=\"text-align: left;\">Individual 4 (FEMALE; P17Y)</td><td style=\"text-align: left;\">Neurodevelopmental disorder with language delay and variable cognitive abnormalities (OMIM:620502)</td><td style=\"text-align: left;\">NM_001470.4:c.2018G>A (heterozygous)</td><td style=\"text-align: left;\">Motor delay (HP:0001270); Delayed speech and language development (HP:0000750); Autistic behavior (HP:0000729); Attention deficit hyperactivity disorder (HP:0007018); Increased femoral anteversion (HP:0012427); Dry skin (HP:0000958); Nail dystrophy (HP:0008404); excluded: Hypotonia (HP:0001252); excluded: Abnormal repetitive mannerisms (HP:0000733); excluded: Seizure (HP:0001250); excluded: Intellectual disability (HP:0001249); excluded: Encopresis (HP:0040183); excluded: Sleep abnormality (HP:0002360); excluded: Optic nerve hypoplasia (HP:0000609); excluded: Nystagmus (HP:0000639); excluded: Scoliosis (HP:0002650); excluded: Long philtrum (HP:0000343); excluded: Wide nasal bridge (HP:0000431); excluded: Clinodactyly of the 5th finger (HP:0004209)</td></tr>\n",
       "</table>"
      ],
      "text/plain": [
       "<IPython.core.display.HTML object>"
      ]
     },
     "metadata": {},
     "output_type": "display_data"
    }
   ],
   "source": [
    "individuals = cvalidator.get_error_free_individual_list()\n",
    "table = IndividualTable(individuals)\n",
    "display(HTML(table.to_html()))"
   ]
  },
  {
   "cell_type": "code",
   "execution_count": 9,
   "id": "f1573d84-6d4d-4d22-a067-a92980d83d2c",
   "metadata": {},
   "outputs": [
    {
     "name": "stdout",
     "output_type": "stream",
     "text": [
      "We output 4 GA4GH phenopackets to the directory phenopackets\n"
     ]
    }
   ],
   "source": [
    "encoder.output_individuals_as_phenopackets(individuals)"
   ]
  },
  {
   "cell_type": "markdown",
   "id": "2891c3db-7511-49f2-b1c9-f9507718557b",
   "metadata": {},
   "source": [
    "# HPOA file"
   ]
  },
  {
   "cell_type": "code",
   "execution_count": 10,
   "id": "51357c6c-62c7-4928-b1d4-a55d60d34eaf",
   "metadata": {},
   "outputs": [
    {
     "name": "stdout",
     "output_type": "stream",
     "text": [
      "[pyphetools] Ingested 4 GA4GH phenopackets.\n",
      "We found a total of 19 unique HPO terms\n",
      "Extracted disease: Neurodevelopmental disorder with language delay and variable cognitive abnormalities (OMIM:620502)\n"
     ]
    }
   ],
   "source": [
    "ingestor = PhenopacketIngestor(indir=\"phenopackets\")\n",
    "ppkt_d = ingestor.get_phenopacket_dictionary()\n",
    "ppkt_list = list(ppkt_d.values())\n",
    "builder = HpoaTableBuilder(phenopacket_list=ppkt_list)\n",
    "PMID = \"PMID:36103875\"\n",
    "hpo_table_creator = builder.autosomal_recessive(PMID).build()"
   ]
  },
  {
   "cell_type": "code",
   "execution_count": 11,
   "id": "9d0a33bc-8ffa-4e7b-8899-3083d0d29ef7",
   "metadata": {},
   "outputs": [
    {
     "data": {
      "text/html": [
       "<div>\n",
       "<style scoped>\n",
       "    .dataframe tbody tr th:only-of-type {\n",
       "        vertical-align: middle;\n",
       "    }\n",
       "\n",
       "    .dataframe tbody tr th {\n",
       "        vertical-align: top;\n",
       "    }\n",
       "\n",
       "    .dataframe thead th {\n",
       "        text-align: right;\n",
       "    }\n",
       "</style>\n",
       "<table border=\"1\" class=\"dataframe\">\n",
       "  <thead>\n",
       "    <tr style=\"text-align: right;\">\n",
       "      <th></th>\n",
       "      <th>#diseaseID</th>\n",
       "      <th>diseaseName</th>\n",
       "      <th>phenotypeID</th>\n",
       "      <th>phenotypeName</th>\n",
       "      <th>onsetID</th>\n",
       "      <th>onsetName</th>\n",
       "      <th>frequency</th>\n",
       "      <th>sex</th>\n",
       "      <th>negation</th>\n",
       "      <th>modifier</th>\n",
       "      <th>description</th>\n",
       "      <th>publication</th>\n",
       "      <th>evidence</th>\n",
       "      <th>biocuration</th>\n",
       "    </tr>\n",
       "  </thead>\n",
       "  <tbody>\n",
       "    <tr>\n",
       "      <th>0</th>\n",
       "      <td>OMIM:620502</td>\n",
       "      <td>Neurodevelopmental disorder with language delay and variable cognitive abnormalities</td>\n",
       "      <td>HP:0001270</td>\n",
       "      <td>Motor delay</td>\n",
       "      <td></td>\n",
       "      <td></td>\n",
       "      <td>3/4</td>\n",
       "      <td></td>\n",
       "      <td></td>\n",
       "      <td></td>\n",
       "      <td></td>\n",
       "      <td>PMID:36103875</td>\n",
       "      <td>PCS</td>\n",
       "      <td>ORCID:0000-0002-0736-9199</td>\n",
       "    </tr>\n",
       "    <tr>\n",
       "      <th>1</th>\n",
       "      <td>OMIM:620502</td>\n",
       "      <td>Neurodevelopmental disorder with language delay and variable cognitive abnormalities</td>\n",
       "      <td>HP:0000750</td>\n",
       "      <td>Delayed speech and language development</td>\n",
       "      <td></td>\n",
       "      <td></td>\n",
       "      <td>4/4</td>\n",
       "      <td></td>\n",
       "      <td></td>\n",
       "      <td></td>\n",
       "      <td></td>\n",
       "      <td>PMID:36103875</td>\n",
       "      <td>PCS</td>\n",
       "      <td>ORCID:0000-0002-0736-9199</td>\n",
       "    </tr>\n",
       "    <tr>\n",
       "      <th>2</th>\n",
       "      <td>OMIM:620502</td>\n",
       "      <td>Neurodevelopmental disorder with language delay and variable cognitive abnormalities</td>\n",
       "      <td>HP:0001252</td>\n",
       "      <td>Hypotonia</td>\n",
       "      <td></td>\n",
       "      <td></td>\n",
       "      <td>2/4</td>\n",
       "      <td></td>\n",
       "      <td></td>\n",
       "      <td></td>\n",
       "      <td></td>\n",
       "      <td>PMID:36103875</td>\n",
       "      <td>PCS</td>\n",
       "      <td>ORCID:0000-0002-0736-9199</td>\n",
       "    </tr>\n",
       "    <tr>\n",
       "      <th>3</th>\n",
       "      <td>OMIM:620502</td>\n",
       "      <td>Neurodevelopmental disorder with language delay and variable cognitive abnormalities</td>\n",
       "      <td>HP:0000733</td>\n",
       "      <td>Abnormal repetitive mannerisms</td>\n",
       "      <td></td>\n",
       "      <td></td>\n",
       "      <td>2/4</td>\n",
       "      <td></td>\n",
       "      <td></td>\n",
       "      <td></td>\n",
       "      <td></td>\n",
       "      <td>PMID:36103875</td>\n",
       "      <td>PCS</td>\n",
       "      <td>ORCID:0000-0002-0736-9199</td>\n",
       "    </tr>\n",
       "    <tr>\n",
       "      <th>4</th>\n",
       "      <td>OMIM:620502</td>\n",
       "      <td>Neurodevelopmental disorder with language delay and variable cognitive abnormalities</td>\n",
       "      <td>HP:0001250</td>\n",
       "      <td>Seizure</td>\n",
       "      <td></td>\n",
       "      <td></td>\n",
       "      <td>1/4</td>\n",
       "      <td></td>\n",
       "      <td></td>\n",
       "      <td></td>\n",
       "      <td></td>\n",
       "      <td>PMID:36103875</td>\n",
       "      <td>PCS</td>\n",
       "      <td>ORCID:0000-0002-0736-9199</td>\n",
       "    </tr>\n",
       "  </tbody>\n",
       "</table>\n",
       "</div>"
      ],
      "text/plain": [
       "    #diseaseID  \\\n",
       "0  OMIM:620502   \n",
       "1  OMIM:620502   \n",
       "2  OMIM:620502   \n",
       "3  OMIM:620502   \n",
       "4  OMIM:620502   \n",
       "\n",
       "                                                                            diseaseName  \\\n",
       "0  Neurodevelopmental disorder with language delay and variable cognitive abnormalities   \n",
       "1  Neurodevelopmental disorder with language delay and variable cognitive abnormalities   \n",
       "2  Neurodevelopmental disorder with language delay and variable cognitive abnormalities   \n",
       "3  Neurodevelopmental disorder with language delay and variable cognitive abnormalities   \n",
       "4  Neurodevelopmental disorder with language delay and variable cognitive abnormalities   \n",
       "\n",
       "  phenotypeID                            phenotypeName onsetID onsetName  \\\n",
       "0  HP:0001270                              Motor delay                     \n",
       "1  HP:0000750  Delayed speech and language development                     \n",
       "2  HP:0001252                                Hypotonia                     \n",
       "3  HP:0000733           Abnormal repetitive mannerisms                     \n",
       "4  HP:0001250                                  Seizure                     \n",
       "\n",
       "  frequency sex negation modifier description    publication evidence  \\\n",
       "0       3/4                                    PMID:36103875      PCS   \n",
       "1       4/4                                    PMID:36103875      PCS   \n",
       "2       2/4                                    PMID:36103875      PCS   \n",
       "3       2/4                                    PMID:36103875      PCS   \n",
       "4       1/4                                    PMID:36103875      PCS   \n",
       "\n",
       "                 biocuration  \n",
       "0  ORCID:0000-0002-0736-9199  \n",
       "1  ORCID:0000-0002-0736-9199  \n",
       "2  ORCID:0000-0002-0736-9199  \n",
       "3  ORCID:0000-0002-0736-9199  \n",
       "4  ORCID:0000-0002-0736-9199  "
      ]
     },
     "execution_count": 11,
     "metadata": {},
     "output_type": "execute_result"
    }
   ],
   "source": [
    "df = hpo_table_creator.get_dataframe()\n",
    "df.head(5)"
   ]
  },
  {
   "cell_type": "code",
   "execution_count": 12,
   "id": "94fe295e-2ed2-4e38-9a52-258912fb2b3f",
   "metadata": {},
   "outputs": [
    {
     "name": "stdout",
     "output_type": "stream",
     "text": [
      "Wrote HPOA disease file to OMIM-620502.tab\n"
     ]
    }
   ],
   "source": [
    "hpo_table_creator.write_data_frame()"
   ]
  },
  {
   "cell_type": "code",
   "execution_count": null,
   "id": "be10033a-183e-4d98-a69f-20ddc2896576",
   "metadata": {},
   "outputs": [],
   "source": []
  }
 ],
 "metadata": {
  "kernelspec": {
   "display_name": "Python 3 (ipykernel)",
   "language": "python",
   "name": "python3"
  },
  "language_info": {
   "codemirror_mode": {
    "name": "ipython",
    "version": 3
   },
   "file_extension": ".py",
   "mimetype": "text/x-python",
   "name": "python",
   "nbconvert_exporter": "python",
   "pygments_lexer": "ipython3",
   "version": "3.8.10"
  }
 },
 "nbformat": 4,
 "nbformat_minor": 5
}
