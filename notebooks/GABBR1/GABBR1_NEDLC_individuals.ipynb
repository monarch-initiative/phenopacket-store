{
 "cells": [
  {
   "cell_type": "markdown",
   "id": "cb6821a1-d423-4392-b5bc-20f8ab822c62",
   "metadata": {},
   "source": [
    "# GABBR1\n",
    "Pathogenic vartiants in GABBR1 are associated with [Neurodevelopmental disorder with language delay and variable cognitive abnormalities](https://omim.org/entry/620502) (NEDLC). "
   ]
  },
  {
   "cell_type": "code",
   "execution_count": 1,
   "id": "da5b990e-88e1-404c-a634-775411544e09",
   "metadata": {},
   "outputs": [],
   "source": [
    "from pyphetools.creation import TemplateImporter\n",
    "from pyphetools.visualization import IndividualTable, QcVisualizer\n",
    "from IPython.display import display, HTML\n",
    "template = \"input/GABBR1_individuals.xlsx\"\n",
    "hp_json = \"../hp.json\"\n",
    "created_by = \"0000-0002-0736-9199\""
   ]
  },
  {
   "cell_type": "code",
   "execution_count": 2,
   "id": "5377a76f-7f3d-4bd2-9f4f-eafb9a26abab",
   "metadata": {},
   "outputs": [],
   "source": [
    "timporter = TemplateImporter(template=template, hp_json=hp_json, created_by=created_by)"
   ]
  },
  {
   "cell_type": "code",
   "execution_count": 3,
   "id": "09573fdc-2017-42d4-88e2-e1ef54959f00",
   "metadata": {},
   "outputs": [
    {
     "name": "stdout",
     "output_type": "stream",
     "text": [
      "HPO version 2024-02-27\n",
      "Created encoders for 35 fields\n",
      " we got OMIM:620502  NM_001470.4\n",
      "We output 4 GA4GH phenopackets to the directory phenopackets\n"
     ]
    }
   ],
   "source": [
    "individuals, cvalidator = timporter.import_phenopackets_from_template()"
   ]
  },
  {
   "cell_type": "code",
   "execution_count": 4,
   "id": "1414d20e-b0c1-4a9c-9ccf-5caa312eb525",
   "metadata": {},
   "outputs": [
    {
     "data": {
      "text/html": [
       "<h2>Cohort validation</h2>\n",
       "<p>No errors found for the cohort with 4 individuals</p>"
      ],
      "text/plain": [
       "<IPython.core.display.HTML object>"
      ]
     },
     "metadata": {},
     "output_type": "display_data"
    }
   ],
   "source": [
    "### Here, we begin QC and display\n",
    "qc = QcVisualizer(cohort_validator=cvalidator)\n",
    "display(HTML(qc.to_summary_html()))"
   ]
  },
  {
   "cell_type": "code",
   "execution_count": 5,
   "id": "fc6c749e-d4e4-4a38-adcf-6307131b0964",
   "metadata": {},
   "outputs": [
    {
     "name": "stdout",
     "output_type": "stream",
     "text": [
      "[pyphetools] Ingested 4 GA4GH phenopackets.\n",
      "\tNeurodevelopmental disorder with language delay and variable cognitive abnormalities (OMIM:620502): n=4\n",
      "We found a total of 19 unique HPO terms\n",
      "Extracted disease: Neurodevelopmental disorder with language delay and variable cognitive abnormalities (OMIM:620502)\n",
      "Wrote HPOA disease file to OMIM-620502.tab\n"
     ]
    }
   ],
   "source": [
    "# Cediel ML, et al GABBR1 monoallelic de novo variants linked to neurodevelopmental delay and epilepsy. \n",
    "# Am J Hum Genet. 2022 Oct 6;109(10):1885-1893.  PMID: 36103875.\n",
    "PMID = \"PMID:36103875\"\n",
    "df = timporter.create_hpoa_from_phenopackets(pmid=PMID, moi=\"Autosomal dominant\")"
   ]
  },
  {
   "cell_type": "code",
   "execution_count": 6,
   "id": "f1573d84-6d4d-4d22-a067-a92980d83d2c",
   "metadata": {},
   "outputs": [
    {
     "ename": "NameError",
     "evalue": "name 'encoder' is not defined",
     "output_type": "error",
     "traceback": [
      "\u001b[0;31m---------------------------------------------------------------------------\u001b[0m",
      "\u001b[0;31mNameError\u001b[0m                                 Traceback (most recent call last)",
      "Cell \u001b[0;32mIn[6], line 1\u001b[0m\n\u001b[0;32m----> 1\u001b[0m \u001b[43mencoder\u001b[49m\u001b[38;5;241m.\u001b[39moutput_individuals_as_phenopackets(individuals)\n",
      "\u001b[0;31mNameError\u001b[0m: name 'encoder' is not defined"
     ]
    }
   ],
   "source": [
    "encoder.output_individuals_as_phenopackets(individuals)"
   ]
  },
  {
   "cell_type": "markdown",
   "id": "2891c3db-7511-49f2-b1c9-f9507718557b",
   "metadata": {},
   "source": [
    "# HPOA file"
   ]
  },
  {
   "cell_type": "code",
   "execution_count": null,
   "id": "51357c6c-62c7-4928-b1d4-a55d60d34eaf",
   "metadata": {},
   "outputs": [],
   "source": [
    "table = IndividualTable(individuals)\n",
    "display(HTML(table.to_html()))"
   ]
  },
  {
   "cell_type": "code",
   "execution_count": null,
   "id": "be10033a-183e-4d98-a69f-20ddc2896576",
   "metadata": {},
   "outputs": [],
   "source": []
  }
 ],
 "metadata": {
  "kernelspec": {
   "display_name": "Python 3 (ipykernel)",
   "language": "python",
   "name": "python3"
  },
  "language_info": {
   "codemirror_mode": {
    "name": "ipython",
    "version": 3
   },
   "file_extension": ".py",
   "mimetype": "text/x-python",
   "name": "python",
   "nbconvert_exporter": "python",
   "pygments_lexer": "ipython3",
   "version": "3.8.10"
  }
 },
 "nbformat": 4,
 "nbformat_minor": 5
}
