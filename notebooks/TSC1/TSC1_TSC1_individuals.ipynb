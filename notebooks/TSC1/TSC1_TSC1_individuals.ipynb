{
 "cells": [
  {
   "cell_type": "markdown",
   "metadata": {},
   "source": [
    "TSC1\n",
    "[tuberous sclerosis-1 (TSC1)](https://omim.org/entry/191100) is caused by heterozygous mutation in the TSC1 gene."
   ]
  },
  {
   "cell_type": "code",
   "execution_count": 5,
   "metadata": {},
   "outputs": [
    {
     "name": "stdout",
     "output_type": "stream",
     "text": [
      "Using pyphetools version 0.9.90\n"
     ]
    }
   ],
   "source": [
    "from pyphetools.creation import TemplateImporter\n",
    "from pyphetools.visualization import IndividualTable, QcVisualizer\n",
    "from IPython.display import display, HTML\n",
    "import pyphetools\n",
    "print(f\"Using pyphetools version {pyphetools.__version__}\")"
   ]
  },
  {
   "cell_type": "code",
   "execution_count": 7,
   "metadata": {},
   "outputs": [],
   "source": [
    "template = \"input/TSC1_TSC1_individuals.xlsx\"\n",
    "created_by = \"0000-0002-0736-9199\""
   ]
  },
  {
   "cell_type": "code",
   "execution_count": 8,
   "metadata": {},
   "outputs": [
    {
     "name": "stdout",
     "output_type": "stream",
     "text": [
      "HPO version 2024-04-26\n",
      "Created encoders for 47 fields\n",
      "Importing OMIM:191100, Tuberous sclerosis-1, HGNC:12362, TSC1,  NM_000368.5\n",
      "[INFO] encoding variant \"c.901C>T\"\n",
      "https://rest.variantvalidator.org/VariantValidator/variantvalidator/hg38/NM_000368.5%3Ac.901C>T/NM_000368.5?content-type=application%2Fjson\n",
      "[INFO] encoding variant \"c.1681_1700del\"\n",
      "https://rest.variantvalidator.org/VariantValidator/variantvalidator/hg38/NM_000368.5%3Ac.1681_1700del/NM_000368.5?content-type=application%2Fjson\n",
      "[INFO] encoding variant \"c.737G>A\"\n",
      "https://rest.variantvalidator.org/VariantValidator/variantvalidator/hg38/NM_000368.5%3Ac.737G>A/NM_000368.5?content-type=application%2Fjson\n",
      "[INFO] encoding variant \"c.2263C>T\"\n",
      "https://rest.variantvalidator.org/VariantValidator/variantvalidator/hg38/NM_000368.5%3Ac.2263C>T/NM_000368.5?content-type=application%2Fjson\n",
      "[INFO] encoding variant \"c.2701_2702del\"\n",
      "https://rest.variantvalidator.org/VariantValidator/variantvalidator/hg38/NM_000368.5%3Ac.2701_2702del/NM_000368.5?content-type=application%2Fjson\n",
      "We output 5 GA4GH phenopackets to the directory phenopackets\n"
     ]
    }
   ],
   "source": [
    "timporter = TemplateImporter(template=template,  created_by=created_by)\n",
    "individual_list, cvalidator = timporter.import_phenopackets_from_template()"
   ]
  },
  {
   "cell_type": "code",
   "execution_count": 9,
   "metadata": {},
   "outputs": [
    {
     "data": {
      "text/html": [
       "<h2>Cohort validation</h2>\n",
       "<p>No errors found for the cohort with 5 individuals</p>"
      ],
      "text/plain": [
       "<IPython.core.display.HTML object>"
      ]
     },
     "metadata": {},
     "output_type": "display_data"
    }
   ],
   "source": [
    "qc = QcVisualizer(cohort_validator=cvalidator)\n",
    "display(HTML(qc.to_summary_html()))"
   ]
  },
  {
   "cell_type": "code",
   "execution_count": 10,
   "metadata": {},
   "outputs": [
    {
     "data": {
      "text/html": [
       "<table style=\"border: 2px solid black; align: \"left\">\n",
       "<caption>5 phenopackets - PMID:29196670 (n=5)</caption>\n",
       "<tr><th style=\"text-align: left;font-weight: bold;\">Individual</th><th style=\"text-align: left;font-weight: bold;\">Disease</th><th style=\"text-align: left;font-weight: bold;\">Genotype</th><th style=\"text-align: left;font-weight: bold;\">Phenotypic features</th></tr>\n",
       "<tr><td style=\"text-align: left;\">Patient 4 (FEMALE; n/a)</td><td style=\"text-align: left;\">Tuberous sclerosis-1 (OMIM:191100)</td><td style=\"text-align: left;\">NM_000368.5:c.737G>A (heterozygous)</td><td style=\"text-align: left;\">Cortical tubers (HP:0009717); Angiofibromas (HP:0010615); Autistic behavior (HP:0000729); Seizure (HP:0001250); Renal angiomyolipoma (HP:0006772); Hypomelanotic macule (HP:0009719); Shagreen patch (HP:0009721); excluded: Subependymal nodules (HP:0009716); excluded: Retinal hamartoma (HP:0009594); excluded: Pulmonary lymphangiomyomatosis (HP:0012798); excluded: Intellectual disability (HP:0001249)</td></tr>\n",
       "<tr><td style=\"text-align: left;\">Patient 6 (MALE; n/a)</td><td style=\"text-align: left;\">Tuberous sclerosis-1 (OMIM:191100)</td><td style=\"text-align: left;\">NM_000368.5:c.901C>T (heterozygous)</td><td style=\"text-align: left;\">Cortical tubers (HP:0009717); Angiofibromas (HP:0010615); Autistic behavior (HP:0000729); Seizure (HP:0001250); Hypomelanotic macule (HP:0009719); excluded: Subependymal nodules (HP:0009716); excluded: Retinal hamartoma (HP:0009594); excluded: Pulmonary lymphangiomyomatosis (HP:0012798); excluded: Intellectual disability (HP:0001249); excluded: Renal angiomyolipoma (HP:0006772); excluded: Shagreen patch (HP:0009721)</td></tr>\n",
       "<tr><td style=\"text-align: left;\">Patient 7 (MALE; n/a)</td><td style=\"text-align: left;\">Tuberous sclerosis-1 (OMIM:191100)</td><td style=\"text-align: left;\">NM_000368.5:c.2701_2702del (heterozygous)</td><td style=\"text-align: left;\">Cortical tubers (HP:0009717); Autistic behavior (HP:0000729); Seizure (HP:0001250); excluded: Subependymal nodules (HP:0009716); excluded: Retinal hamartoma (HP:0009594); excluded: Pulmonary lymphangiomyomatosis (HP:0012798); excluded: Angiofibromas (HP:0010615); excluded: Intellectual disability (HP:0001249); excluded: Renal angiomyolipoma (HP:0006772); excluded: Hypomelanotic macule (HP:0009719); excluded: Shagreen patch (HP:0009721)</td></tr>\n",
       "<tr><td style=\"text-align: left;\">Patient 10 (FEMALE; n/a)</td><td style=\"text-align: left;\">Tuberous sclerosis-1 (OMIM:191100)</td><td style=\"text-align: left;\">NM_000368.5:c.1681_1700del (heterozygous)</td><td style=\"text-align: left;\">Subependymal nodules (HP:0009716); Angiofibromas (HP:0010615); Autistic behavior (HP:0000729); Intellectual disability (HP:0001249); Seizure (HP:0001250); excluded: Cortical tubers (HP:0009717); excluded: Retinal hamartoma (HP:0009594); excluded: Pulmonary lymphangiomyomatosis (HP:0012798); excluded: Renal angiomyolipoma (HP:0006772); excluded: Hypomelanotic macule (HP:0009719); excluded: Shagreen patch (HP:0009721)</td></tr>\n",
       "<tr><td style=\"text-align: left;\">Patient 14 (FEMALE; n/a)</td><td style=\"text-align: left;\">Tuberous sclerosis-1 (OMIM:191100)</td><td style=\"text-align: left;\">NM_000368.5:c.2263C>T (heterozygous)</td><td style=\"text-align: left;\">Cortical tubers (HP:0009717); Angiofibromas (HP:0010615); Renal angiomyolipoma (HP:0006772); excluded: Subependymal nodules (HP:0009716); excluded: Retinal hamartoma (HP:0009594); excluded: Pulmonary lymphangiomyomatosis (HP:0012798); excluded: Autistic behavior (HP:0000729); excluded: Intellectual disability (HP:0001249); excluded: Seizure (HP:0001250); excluded: Hypomelanotic macule (HP:0009719); excluded: Shagreen patch (HP:0009721)</td></tr>\n",
       "</table>"
      ],
      "text/plain": [
       "<IPython.core.display.HTML object>"
      ]
     },
     "metadata": {},
     "output_type": "display_data"
    }
   ],
   "source": [
    "table = IndividualTable(cvalidator.get_error_free_individual_list())\n",
    "display(HTML(table.to_html()))"
   ]
  },
  {
   "cell_type": "code",
   "execution_count": 11,
   "metadata": {},
   "outputs": [
    {
     "name": "stdout",
     "output_type": "stream",
     "text": [
      "[pyphetools] Ingested 5 GA4GH phenopackets.\n",
      "[INFO] Extracted 5 from 5 phenopackets with OMIM:191100\n",
      "\n",
      "\tTuberous sclerosis-1 (OMIM:191100): n=5\n",
      "We found a total of 11 unique HPO terms\n",
      "Extracted disease: Tuberous sclerosis-1 (OMIM:191100)\n",
      "Wrote HPOA disease file to OMIM-191100.tab\n"
     ]
    }
   ],
   "source": [
    "pmid = \"PMID:29196670\"\n",
    "df = timporter.create_hpoa_from_phenopackets(pmid=pmid, moi=\"Autosomal dominant\", target=\"OMIM:191100\")"
   ]
  }
 ],
 "metadata": {
  "language_info": {
   "name": "python"
  }
 },
 "nbformat": 4,
 "nbformat_minor": 2
}
