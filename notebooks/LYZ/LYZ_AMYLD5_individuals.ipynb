{
 "cells": [
  {
   "cell_type": "markdown",
   "metadata": {},
   "source": [
    "# LYZ\n",
    "[Hereditary systemic amyloidosis-5 (AMYLD5)](https://omim.org/entry/620658) is caused by heterozygous mutation in the LYZ gene."
   ]
  },
  {
   "cell_type": "code",
   "execution_count": 1,
   "metadata": {},
   "outputs": [
    {
     "name": "stdout",
     "output_type": "stream",
     "text": [
      "Using pyphetools version 0.9.113\n"
     ]
    }
   ],
   "source": [
    "from pyphetools.creation import TemplateImporter, Moi\n",
    "from pyphetools.visualization import IndividualTable, QcVisualizer\n",
    "from IPython.display import display, HTML\n",
    "import pyphetools\n",
    "print(f\"Using pyphetools version {pyphetools.__version__}\")"
   ]
  },
  {
   "cell_type": "code",
   "execution_count": 6,
   "metadata": {},
   "outputs": [
    {
     "name": "stdout",
     "output_type": "stream",
     "text": [
      "HPO version 2024-12-12\n",
      "Created encoders for 34 fields\n",
      "Importing OMIM:620658, Amyloidosis, hereditary systemic 5, HGNC:6740, LYZ,  NM_000239.3\n",
      "We output 9 GA4GH phenopackets to the directory phenopackets\n"
     ]
    }
   ],
   "source": [
    "template = \"input/LYZ_AMYLD5_individuals.xlsx\"\n",
    "created_by = \"0000-0002-0736-9199\"\n",
    "timporter = TemplateImporter(template=template,  created_by=created_by)\n",
    "individual_list, cvalidator = timporter.import_phenopackets_from_template()"
   ]
  },
  {
   "cell_type": "code",
   "execution_count": 7,
   "metadata": {},
   "outputs": [
    {
     "data": {
      "text/html": [
       "<h2>Cohort validation</h2>\n",
       "<p>Errors found with 2 of 9 phenopackets.</p>\n",
       "<table style=\"border: 2px solid black; align: \"left\">\n",
       "<caption>Error counts</caption>\n",
       "<tr><th style=\"text-align: left;font-weight: bold;\">Level</th><th style=\"text-align: left;font-weight: bold;\">Error category</th><th style=\"text-align: left;font-weight: bold;\">Count</th></tr>\n",
       "<tr><td style=\"text-align: left;\">WARNING</td><td style=\"text-align: left;\">REDUNDANT</td><td style=\"text-align: left;\">2</td></tr>\n",
       "</table>\n",
       "<p>A total of 2 issues were fixed and no individual was removed from the cohort.</p>"
      ],
      "text/plain": [
       "<IPython.core.display.HTML object>"
      ]
     },
     "metadata": {},
     "output_type": "display_data"
    }
   ],
   "source": [
    "qc = QcVisualizer(cohort_validator=cvalidator)\n",
    "display(HTML(qc.to_summary_html()))"
   ]
  },
  {
   "cell_type": "code",
   "execution_count": 8,
   "metadata": {},
   "outputs": [
    {
     "data": {
      "text/html": [
       "<table style=\"border: 2px solid black; align: \"left\">\n",
       "<caption>9 phenopackets - PMID:10534505 (n=4); PMID:11849445 (n=1); PMID:12675840 (n=3); PMID:12360495 (n=1)</caption>\n",
       "<tr><th style=\"text-align: left;font-weight: bold;\">Individual</th><th style=\"text-align: left;font-weight: bold;\">Disease</th><th style=\"text-align: left;font-weight: bold;\">Genotype</th><th style=\"text-align: left;font-weight: bold;\">Phenotypic features</th></tr>\n",
       "<tr><td style=\"text-align: left;\">proband (FEMALE)</td><td style=\"text-align: left;\">Amyloidosis, hereditary systemic 5 (OMIM:620658)</td><td style=\"text-align: left;\">NM_000239.3:c.199G>C (heterozygous)</td><td style=\"text-align: left;\">Renal insufficiency (HP:0000083): onset ; Hepatic amyloidosis (HP:0012280): onset ; Renal amyloidosis (HP:0001917): onset ; excluded: Stage 5 chronic kidney disease (HP:0003774): onset </td></tr>\n",
       "<tr><td style=\"text-align: left;\">III7 (MALE; P57Y)</td><td style=\"text-align: left;\">Amyloidosis, hereditary systemic 5 (OMIM:620658)</td><td style=\"text-align: left;\">NM_000239.3:c.199G>C (heterozygous)</td><td style=\"text-align: left;\">Stage 5 chronic kidney disease (HP:0003774): onset ; Congestive heart failure (HP:0001635): onset </td></tr>\n",
       "<tr><td style=\"text-align: left;\">III9 (MALE)</td><td style=\"text-align: left;\">Amyloidosis, hereditary systemic 5 (OMIM:620658)</td><td style=\"text-align: left;\">NM_000239.3:c.199G>C (heterozygous)</td><td style=\"text-align: left;\">Renal insufficiency (HP:0000083): onset ; Hepatic amyloidosis (HP:0012280): onset ; Renal amyloidosis (HP:0001917): onset ; Anemia (HP:0001903): onset </td></tr>\n",
       "<tr><td style=\"text-align: left;\">III4 (FEMALE; P48Y)</td><td style=\"text-align: left;\">Amyloidosis, hereditary systemic 5 (OMIM:620658)</td><td style=\"text-align: left;\">NM_000239.3:c.199G>C (heterozygous)</td><td style=\"text-align: left;\">Hypertension (HP:0000822): onset <br/><b>TimeElement(element=Age(iso8601duration=P48Y))</b>: Stage 5 chronic kidney disease (HP:0003774): onset age {\n",
       "  iso8601duration: \"P48Y\"\n",
       "}\n",
       "</td></tr>\n",
       "<tr><td style=\"text-align: left;\">Proband (MALE; P66Y)</td><td style=\"text-align: left;\">Amyloidosis, hereditary systemic 5 (OMIM:620658)</td><td style=\"text-align: left;\">NM_000239.3:c.244T>C (heterozygous)</td><td style=\"text-align: left;\">Renal insufficiency (HP:0000083): onset ; Hepatic amyloidosis (HP:0012280): onset ; Keratoconjunctivitis sicca (HP:0001097): onset ; excluded: Stage 5 chronic kidney disease (HP:0003774): onset ; excluded: Congestive heart failure (HP:0001635): onset </td></tr>\n",
       "<tr><td style=\"text-align: left;\">proband II-2 (FEMALE; P52Y)</td><td style=\"text-align: left;\">Amyloidosis, hereditary systemic 5 (OMIM:620658)</td><td style=\"text-align: left;\">NM_000239.3:c.223T>A (heterozygous)</td><td style=\"text-align: left;\">Renal amyloidosis (HP:0001917): onset ; excluded: Petechiae (HP:0000967): onset <br/><b>TimeElement(element=Age(iso8601duration=P42Y))</b>: Stage 5 chronic kidney disease (HP:0003774): onset age {\n",
       "  iso8601duration: \"P42Y\"\n",
       "}\n",
       "</td></tr>\n",
       "<tr><td style=\"text-align: left;\">daughter III-2 (FEMALE; P36Y)</td><td style=\"text-align: left;\">Amyloidosis, hereditary systemic 5 (OMIM:620658)</td><td style=\"text-align: left;\">NM_000239.3:c.223T>A (heterozygous)</td><td style=\"text-align: left;\">Renal amyloidosis (HP:0001917): onset <br/><b>TimeElement(element=Age(iso8601duration=P17Y))</b>: Hypertension (HP:0000822): onset age {\n",
       "  iso8601duration: \"P17Y\"\n",
       "}\n",
       "<br/><b>TimeElement(element=Age(iso8601duration=P23Y))</b>: Stage 5 chronic kidney disease (HP:0003774): onset age {\n",
       "  iso8601duration: \"P23Y\"\n",
       "}\n",
       "</td></tr>\n",
       "<tr><td style=\"text-align: left;\">daughter II-2 (FEMALE; P43Y)</td><td style=\"text-align: left;\">Amyloidosis, hereditary systemic 5 (OMIM:620658)</td><td style=\"text-align: left;\">NM_000239.3:c.223T>A (heterozygous)</td><td style=\"text-align: left;\">Renal insufficiency (HP:0000083): onset ; Proteinuria (HP:0000093): onset </td></tr>\n",
       "<tr><td style=\"text-align: left;\">Case report (FEMALE; P59Y)</td><td style=\"text-align: left;\">Amyloidosis, hereditary systemic 5 (OMIM:620658)</td><td style=\"text-align: left;\">NM_000239.3:c.244T>A (heterozygous)</td><td style=\"text-align: left;\">Amyloidosis (HP:0011034): onset ; excluded: Peripheral neuropathy (HP:0009830): onset ; excluded: Conjunctival amyloidosis (HP:0010637): onset ; excluded: Congestive heart failure (HP:0001635): onset ; excluded: Proteinuria (HP:0000093): onset </td></tr>\n",
       "</table>"
      ],
      "text/plain": [
       "<IPython.core.display.HTML object>"
      ]
     },
     "metadata": {},
     "output_type": "display_data"
    }
   ],
   "source": [
    "table = IndividualTable(cvalidator.get_error_free_individual_list())\n",
    "display(HTML(table.to_html()))"
   ]
  },
  {
   "cell_type": "code",
   "execution_count": 9,
   "metadata": {},
   "outputs": [
    {
     "name": "stdout",
     "output_type": "stream",
     "text": [
      "[pyphetools] Ingested 9 GA4GH phenopackets.\n",
      "[INFO] Extracted 9 from 9 phenopackets with OMIM:620658\n",
      "\n",
      "\tAmyloidosis, hereditary systemic 5 (OMIM:620658): n=9\n",
      "We found a total of 13 unique HPO terms\n",
      "Extracted disease: Amyloidosis, hereditary systemic 5 (OMIM:620658)\n",
      "Wrote HPOA disease file to OMIM-620658.tab\n"
     ]
    }
   ],
   "source": [
    "pmid = \"PMID:10534505\"\n",
    "df = timporter.create_hpoa_from_phenopackets(pmid=pmid, mode_of_inheritance=Moi.AD, target=\"OMIM:620658\")"
   ]
  }
 ],
 "metadata": {
  "kernelspec": {
   "display_name": "ps24venv",
   "language": "python",
   "name": "python3"
  },
  "language_info": {
   "codemirror_mode": {
    "name": "ipython",
    "version": 3
   },
   "file_extension": ".py",
   "mimetype": "text/x-python",
   "name": "python",
   "nbconvert_exporter": "python",
   "pygments_lexer": "ipython3",
   "version": "3.12.4"
  }
 },
 "nbformat": 4,
 "nbformat_minor": 2
}
