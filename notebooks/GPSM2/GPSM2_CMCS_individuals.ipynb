{
 "cells": [
  {
   "cell_type": "markdown",
   "metadata": {},
   "source": [
    "# GPSM2\n",
    "[Chudley-McCullough syndrome (CMCS)](https://omim.org/entry/604213) is caused by homozygous or compound heterozygous mutation in the GPSM2 gene."
   ]
  },
  {
   "cell_type": "code",
   "execution_count": 3,
   "metadata": {},
   "outputs": [
    {
     "name": "stdout",
     "output_type": "stream",
     "text": [
      "Using pyphetools version 0.9.91\n"
     ]
    }
   ],
   "source": [
    "from pyphetools.creation import TemplateImporter\n",
    "from pyphetools.visualization import IndividualTable, QcVisualizer\n",
    "from IPython.display import display, HTML\n",
    "import pyphetools\n",
    "print(f\"Using pyphetools version {pyphetools.__version__}\")"
   ]
  },
  {
   "cell_type": "code",
   "execution_count": 4,
   "metadata": {},
   "outputs": [],
   "source": [
    "template = \"input/GPSM2_CMCS_individuals.xlsx\"\n",
    "created_by = \"0000-0002-0736-9199\""
   ]
  },
  {
   "cell_type": "code",
   "execution_count": 5,
   "metadata": {},
   "outputs": [
    {
     "name": "stdout",
     "output_type": "stream",
     "text": [
      "HPO version 2024-04-26\n",
      "Created encoders for 39 fields\n",
      "Importing OMIM:604213, Chudley-McCullough syndrome, HGNC:29501, GPSM2,  NM_013296.5\n",
      "[INFO] encoding variant \"c.1055C>A\"\n",
      "https://rest.variantvalidator.org/VariantValidator/variantvalidator/hg38/NM_013296.5%3Ac.1055C>A/NM_013296.5?content-type=application%2Fjson\n",
      "We output 2 GA4GH phenopackets to the directory phenopackets\n"
     ]
    }
   ],
   "source": [
    "timporter = TemplateImporter(template=template,  created_by=created_by)\n",
    "individual_list, cvalidator = timporter.import_phenopackets_from_template()"
   ]
  },
  {
   "cell_type": "code",
   "execution_count": 6,
   "metadata": {},
   "outputs": [
    {
     "data": {
      "text/html": [
       "<h2>Cohort validation</h2>\n",
       "<p>No errors found for the cohort with 2 individuals</p>"
      ],
      "text/plain": [
       "<IPython.core.display.HTML object>"
      ]
     },
     "metadata": {},
     "output_type": "display_data"
    }
   ],
   "source": [
    "qc = QcVisualizer(cohort_validator=cvalidator)\n",
    "display(HTML(qc.to_summary_html()))"
   ]
  },
  {
   "cell_type": "code",
   "execution_count": 7,
   "metadata": {},
   "outputs": [
    {
     "data": {
      "text/html": [
       "<table style=\"border: 2px solid black; align: \"left\">\n",
       "<caption>2 phenopackets - PMID:27180139 (n=2)</caption>\n",
       "<tr><th style=\"text-align: left;font-weight: bold;\">Individual</th><th style=\"text-align: left;font-weight: bold;\">Disease</th><th style=\"text-align: left;font-weight: bold;\">Genotype</th><th style=\"text-align: left;font-weight: bold;\">Phenotypic features</th></tr>\n",
       "<tr><td style=\"text-align: left;\">case 1 (MALE; P12Y)</td><td style=\"text-align: left;\">Chudley-McCullough syndrome (OMIM:604213)</td><td style=\"text-align: left;\">NM_013296.5:c.1055C>A (homozygous)</td><td style=\"text-align: left;\"><b>P8M</b>: Sensorineural hearing impairment (HP:0000407)<br/>Partial agenesis of the corpus callosum (HP:0001338); Arachnoid cyst (HP:0100702); Intellectual disability (HP:0001249); Delayed speech and language development (HP:0000750); Posteriorly rotated ears (HP:0000358); Triangular face (HP:0000325); Deeply set eye (HP:0000490); Sparse eyebrow (HP:0045075); Hyperextensibility at elbow (HP:0010485); Knee joint hypermobility (HP:0045086); 2-3 toe syndactyly (HP:0004691)</td></tr>\n",
       "<tr><td style=\"text-align: left;\">case 2 (MALE; P11Y)</td><td style=\"text-align: left;\">Chudley-McCullough syndrome (OMIM:604213)</td><td style=\"text-align: left;\">NM_013296.5:c.1055C>A (homozygous)</td><td style=\"text-align: left;\">Partial agenesis of the corpus callosum (HP:0001338); Arachnoid cyst (HP:0100702); Intellectual disability (HP:0001249); Delayed speech and language development (HP:0000750); Posteriorly rotated ears (HP:0000358); Sensorineural hearing impairment (HP:0000407); Triangular face (HP:0000325); Deeply set eye (HP:0000490); Sparse eyebrow (HP:0045075); Hyperextensibility at elbow (HP:0010485)</td></tr>\n",
       "</table>"
      ],
      "text/plain": [
       "<IPython.core.display.HTML object>"
      ]
     },
     "metadata": {},
     "output_type": "display_data"
    }
   ],
   "source": [
    "table = IndividualTable(cvalidator.get_error_free_individual_list())\n",
    "display(HTML(table.to_html()))"
   ]
  }
 ],
 "metadata": {
  "kernelspec": {
   "display_name": "ps24venv",
   "language": "python",
   "name": "python3"
  },
  "language_info": {
   "codemirror_mode": {
    "name": "ipython",
    "version": 3
   },
   "file_extension": ".py",
   "mimetype": "text/x-python",
   "name": "python",
   "nbconvert_exporter": "python",
   "pygments_lexer": "ipython3",
   "version": "3.9.6"
  }
 },
 "nbformat": 4,
 "nbformat_minor": 2
}
