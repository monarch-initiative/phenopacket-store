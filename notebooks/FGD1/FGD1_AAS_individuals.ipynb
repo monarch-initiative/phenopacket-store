{
 "cells": [
  {
   "cell_type": "markdown",
   "metadata": {},
   "source": [
    "# FGD1\n",
    "[Aarskog-Scott syndrome (AAS)](https://omim.org/entry/305400) can be caused by mutation in the FGD1 gene."
   ]
  },
  {
   "cell_type": "code",
   "execution_count": 1,
   "metadata": {},
   "outputs": [
    {
     "name": "stdout",
     "output_type": "stream",
     "text": [
      "Using pyphetools version 0.9.80\n"
     ]
    },
    {
     "name": "stderr",
     "output_type": "stream",
     "text": [
      "/Users/robin/GIT/phenopacket-store/ps24venv/lib/python3.9/site-packages/urllib3/__init__.py:35: NotOpenSSLWarning: urllib3 v2 only supports OpenSSL 1.1.1+, currently the 'ssl' module is compiled with 'LibreSSL 2.8.3'. See: https://github.com/urllib3/urllib3/issues/3020\n",
      "  warnings.warn(\n"
     ]
    }
   ],
   "source": [
    "from pyphetools.creation import TemplateImporter\n",
    "from pyphetools.visualization import IndividualTable, QcVisualizer\n",
    "from IPython.display import display, HTML\n",
    "import pyphetools\n",
    "print(f\"Using pyphetools version {pyphetools.__version__}\")"
   ]
  },
  {
   "cell_type": "code",
   "execution_count": 2,
   "metadata": {},
   "outputs": [],
   "source": [
    "template = \"input/FGD1_AAS_individuals.xlsx\"\n",
    "created_by = \"0000-0002-0736-9199\""
   ]
  },
  {
   "cell_type": "code",
   "execution_count": 3,
   "metadata": {},
   "outputs": [
    {
     "name": "stdout",
     "output_type": "stream",
     "text": [
      "HPO version 2024-04-26\n",
      "Created encoders for 74 fields\n",
      "Importing OMIM:305400, Aarskog-Scott syndrome, HGNC:3663, FGD1,  NM_004463.3\n",
      "We output 15 GA4GH phenopackets to the directory phenopackets\n"
     ]
    }
   ],
   "source": [
    "del_set = {\"EX9-12DEL\"}\n",
    "timporter = TemplateImporter(template=template, created_by=created_by)\n",
    "individual_list, cvalidator = timporter.import_phenopackets_from_template(deletions=del_set)"
   ]
  },
  {
   "cell_type": "code",
   "execution_count": 4,
   "metadata": {},
   "outputs": [
    {
     "data": {
      "text/html": [
       "<h2>Cohort validation</h2>\n",
       "<p>No errors found for the cohort with 15 individuals</p>"
      ],
      "text/plain": [
       "<IPython.core.display.HTML object>"
      ]
     },
     "metadata": {},
     "output_type": "display_data"
    }
   ],
   "source": [
    "qc = QcVisualizer(cohort_validator=cvalidator)\n",
    "display(HTML(qc.to_summary_html()))"
   ]
  },
  {
   "cell_type": "code",
   "execution_count": 5,
   "metadata": {},
   "outputs": [
    {
     "data": {
      "text/html": [
       "<table style=\"border: 2px solid black; align: \"left\">\n",
       "<caption>15 phenopackets - PMID:11093277 (n=3); PMID:20082460 (n=11); PMID:23211637 (n=1)</caption>\n",
       "<tr><th style=\"text-align: left;font-weight: bold;\">Individual</th><th style=\"text-align: left;font-weight: bold;\">Disease</th><th style=\"text-align: left;font-weight: bold;\">Genotype</th><th style=\"text-align: left;font-weight: bold;\">Phenotypic features</th></tr>\n",
       "<tr><td style=\"text-align: left;\">K8345 III-1 FC (MALE; P7Y)</td><td style=\"text-align: left;\">Aarskog-Scott syndrome (OMIM:305400)</td><td style=\"text-align: left;\">NM_004463.3:c.1565G>A (heterozygous)</td><td style=\"text-align: left;\">Hypertelorism (HP:0000316); Ptosis (HP:0000508); Downslanted palpebral fissures (HP:0000494); Brachydactyly (HP:0001156); Single transverse palmar crease (HP:0000954); Short stature (HP:0004322); Broad philtrum (HP:0000289); Pointed chin (HP:0000307); Relative macrocephaly (HP:0004482); Umbilical hernia (HP:0001537); Shawl scrotum (HP:0000049); excluded: Widow's peak (HP:0000349); excluded: Anteverted nares (HP:0000463); excluded: Short nose (HP:0003196); excluded: Microcephaly (HP:0000252); excluded: Inguinal hernia (HP:0000023)</td></tr>\n",
       "<tr><td style=\"text-align: left;\">K8345 III-3 IT (MALE; P1Y8M)</td><td style=\"text-align: left;\">Aarskog-Scott syndrome (OMIM:305400)</td><td style=\"text-align: left;\">NM_004463.3:c.1565G>A (heterozygous)</td><td style=\"text-align: left;\">Hypertelorism (HP:0000316); Ptosis (HP:0000508); Downslanted palpebral fissures (HP:0000494); Brachydactyly (HP:0001156); Single transverse palmar crease (HP:0000954); Short stature (HP:0004322); Broad philtrum (HP:0000289); Pointed chin (HP:0000307); Relative macrocephaly (HP:0004482); Inguinal hernia (HP:0000023); excluded: Widow's peak (HP:0000349); excluded: Anteverted nares (HP:0000463); excluded: Short nose (HP:0003196); excluded: Microcephaly (HP:0000252); excluded: Umbilical hernia (HP:0001537); excluded: Shawl scrotum (HP:0000049)</td></tr>\n",
       "<tr><td style=\"text-align: left;\">MK-CMS0843 (MALE; P11Y)</td><td style=\"text-align: left;\">Aarskog-Scott syndrome (OMIM:305400)</td><td style=\"text-align: left;\">EX9-12DEL: chromosomal_deletion (SO:1000029)</td><td style=\"text-align: left;\">Hypertelorism (HP:0000316); Widow's peak (HP:0000349); Ptosis (HP:0000508); Downslanted palpebral fissures (HP:0000494); Brachydactyly (HP:0001156); Short stature (HP:0004322); Anteverted nares (HP:0000463); Short nose (HP:0003196); Microcephaly (HP:0000252); Inguinal hernia (HP:0000023); Cryptorchidism (HP:0000028); Shawl scrotum (HP:0000049); Delayed skeletal maturation (HP:0002750); excluded: Relative macrocephaly (HP:0004482); excluded: Umbilical hernia (HP:0001537)</td></tr>\n",
       "<tr><td style=\"text-align: left;\">case 9 (MALE; n/a)</td><td style=\"text-align: left;\">Aarskog-Scott syndrome (OMIM:305400)</td><td style=\"text-align: left;\">NM_004463.3:c.806del (heterozygous)</td><td style=\"text-align: left;\">Hypertelorism (HP:0000316); Broad palm (HP:0001169); Broad foot (HP:0001769); Clinodactyly of the 5th finger (HP:0004209); Short stature (HP:0004322); Anteverted nares (HP:0000463); Dental malocclusion (HP:0000689); Midface retrusion (HP:0011800); Long philtrum (HP:0000343); Short nose (HP:0003196); Cryptorchidism (HP:0000028); Shawl scrotum (HP:0000049); Obesity (HP:0001513); excluded: Widow's peak (HP:0000349); excluded: Ptosis (HP:0000508); excluded: Downslanted palpebral fissures (HP:0000494); excluded: Camptodactyly (HP:0012385); excluded: Hyperextensibility of the finger joints (HP:0001187); excluded: Single transverse palmar crease (HP:0000954); excluded: Global developmental delay (HP:0001263); excluded: Frontal bossing (HP:0002007); excluded: Umbilical hernia (HP:0001537); excluded: Inguinal hernia (HP:0000023); excluded: Hypospadias (HP:0000047); excluded: Delayed skeletal maturation (HP:0002750); excluded: Curved linear dimple below the lower lip (HP:0002055); excluded: Preauricular skin tag (HP:0000384); excluded: Metatarsus adductus (HP:0001840)</td></tr>\n",
       "<tr><td style=\"text-align: left;\">case 2 (MALE; n/a)</td><td style=\"text-align: left;\">Aarskog-Scott syndrome (OMIM:305400)</td><td style=\"text-align: left;\">NM_004463.3:c.1205G>A (heterozygous)</td><td style=\"text-align: left;\">Hypertelorism (HP:0000316); Widow's peak (HP:0000349); Broad palm (HP:0001169); Single transverse palmar crease (HP:0000954); Short stature (HP:0004322); Global developmental delay (HP:0001263); Anteverted nares (HP:0000463); Short nose (HP:0003196); Shawl scrotum (HP:0000049); Delayed skeletal maturation (HP:0002750); Obesity (HP:0001513); Preauricular skin tag (HP:0000384); excluded: Ptosis (HP:0000508); excluded: Downslanted palpebral fissures (HP:0000494); excluded: Broad foot (HP:0001769); excluded: Camptodactyly (HP:0012385); excluded: Clinodactyly of the 5th finger (HP:0004209); excluded: Hyperextensibility of the finger joints (HP:0001187); excluded: Frontal bossing (HP:0002007); excluded: Dental malocclusion (HP:0000689); excluded: Midface retrusion (HP:0011800); excluded: Long philtrum (HP:0000343); excluded: Umbilical hernia (HP:0001537); excluded: Inguinal hernia (HP:0000023); excluded: Cryptorchidism (HP:0000028); excluded: Hypospadias (HP:0000047); excluded: Curved linear dimple below the lower lip (HP:0002055); excluded: Metatarsus adductus (HP:0001840)</td></tr>\n",
       "<tr><td style=\"text-align: left;\">case 5 (MALE; n/a)</td><td style=\"text-align: left;\">Aarskog-Scott syndrome (OMIM:305400)</td><td style=\"text-align: left;\">NM_004463.3:c.1590T>A (heterozygous)</td><td style=\"text-align: left;\">Hypertelorism (HP:0000316); Widow's peak (HP:0000349); Ptosis (HP:0000508); Broad palm (HP:0001169); Broad foot (HP:0001769); Camptodactyly (HP:0012385); Single transverse palmar crease (HP:0000954); Short stature (HP:0004322); Global developmental delay (HP:0001263); Anteverted nares (HP:0000463); Long philtrum (HP:0000343); Short nose (HP:0003196); Umbilical hernia (HP:0001537); Inguinal hernia (HP:0000023); Cryptorchidism (HP:0000028); Shawl scrotum (HP:0000049); Metatarsus adductus (HP:0001840); excluded: Downslanted palpebral fissures (HP:0000494); excluded: Clinodactyly of the 5th finger (HP:0004209); excluded: Hyperextensibility of the finger joints (HP:0001187); excluded: Frontal bossing (HP:0002007); excluded: Dental malocclusion (HP:0000689); excluded: Midface retrusion (HP:0011800); excluded: Hypospadias (HP:0000047); excluded: Curved linear dimple below the lower lip (HP:0002055); excluded: Obesity (HP:0001513); excluded: Preauricular skin tag (HP:0000384)</td></tr>\n",
       "<tr><td style=\"text-align: left;\">case 10 (MALE; n/a)</td><td style=\"text-align: left;\">Aarskog-Scott syndrome (OMIM:305400)</td><td style=\"text-align: left;\">NM_004463.3:c.1620del (heterozygous)</td><td style=\"text-align: left;\">Hypertelorism (HP:0000316); Ptosis (HP:0000508); Downslanted palpebral fissures (HP:0000494); Broad palm (HP:0001169); Broad foot (HP:0001769); Camptodactyly (HP:0012385); Clinodactyly of the 5th finger (HP:0004209); Single transverse palmar crease (HP:0000954); Short stature (HP:0004322); Frontal bossing (HP:0002007); Anteverted nares (HP:0000463); Long philtrum (HP:0000343); Short nose (HP:0003196); Curved linear dimple below the lower lip (HP:0002055); Metatarsus adductus (HP:0001840); excluded: Widow's peak (HP:0000349); excluded: Hyperextensibility of the finger joints (HP:0001187); excluded: Global developmental delay (HP:0001263); excluded: Dental malocclusion (HP:0000689); excluded: Midface retrusion (HP:0011800); excluded: Umbilical hernia (HP:0001537); excluded: Inguinal hernia (HP:0000023); excluded: Cryptorchidism (HP:0000028); excluded: Shawl scrotum (HP:0000049); excluded: Hypospadias (HP:0000047); excluded: Obesity (HP:0001513); excluded: Preauricular skin tag (HP:0000384)</td></tr>\n",
       "<tr><td style=\"text-align: left;\">case 3 (MALE; n/a)</td><td style=\"text-align: left;\">Aarskog-Scott syndrome (OMIM:305400)</td><td style=\"text-align: left;\">NM_004463.3:c.1673C>G (heterozygous)</td><td style=\"text-align: left;\">Hypertelorism (HP:0000316); Widow's peak (HP:0000349); Ptosis (HP:0000508); Broad palm (HP:0001169); Clinodactyly of the 5th finger (HP:0004209); Short stature (HP:0004322); Global developmental delay (HP:0001263); Anteverted nares (HP:0000463); Midface retrusion (HP:0011800); Long philtrum (HP:0000343); Short nose (HP:0003196); Umbilical hernia (HP:0001537); Inguinal hernia (HP:0000023); Shawl scrotum (HP:0000049); Hypospadias (HP:0000047); Curved linear dimple below the lower lip (HP:0002055); Obesity (HP:0001513); excluded: Downslanted palpebral fissures (HP:0000494); excluded: Broad foot (HP:0001769); excluded: Camptodactyly (HP:0012385); excluded: Hyperextensibility of the finger joints (HP:0001187); excluded: Single transverse palmar crease (HP:0000954); excluded: Frontal bossing (HP:0002007); excluded: Dental malocclusion (HP:0000689); excluded: Cryptorchidism (HP:0000028); excluded: Preauricular skin tag (HP:0000384); excluded: Metatarsus adductus (HP:0001840)</td></tr>\n",
       "<tr><td style=\"text-align: left;\">case 11 (MALE; n/a)</td><td style=\"text-align: left;\">Aarskog-Scott syndrome (OMIM:305400)</td><td style=\"text-align: left;\">NM_004463.3:c.1935+3A>C (heterozygous)</td><td style=\"text-align: left;\">Hypertelorism (HP:0000316); Widow's peak (HP:0000349); Ptosis (HP:0000508); Downslanted palpebral fissures (HP:0000494); Broad palm (HP:0001169); Broad foot (HP:0001769); Clinodactyly of the 5th finger (HP:0004209); Short stature (HP:0004322); Frontal bossing (HP:0002007); Anteverted nares (HP:0000463); Midface retrusion (HP:0011800); Long philtrum (HP:0000343); Short nose (HP:0003196); Shawl scrotum (HP:0000049); Delayed skeletal maturation (HP:0002750); Curved linear dimple below the lower lip (HP:0002055); excluded: Camptodactyly (HP:0012385); excluded: Hyperextensibility of the finger joints (HP:0001187); excluded: Single transverse palmar crease (HP:0000954); excluded: Global developmental delay (HP:0001263); excluded: Dental malocclusion (HP:0000689); excluded: Umbilical hernia (HP:0001537); excluded: Inguinal hernia (HP:0000023); excluded: Cryptorchidism (HP:0000028); excluded: Hypospadias (HP:0000047); excluded: Obesity (HP:0001513); excluded: Preauricular skin tag (HP:0000384); excluded: Metatarsus adductus (HP:0001840)</td></tr>\n",
       "<tr><td style=\"text-align: left;\">case 8 (MALE; n/a)</td><td style=\"text-align: left;\">Aarskog-Scott syndrome (OMIM:305400)</td><td style=\"text-align: left;\">NM_004463.3:c.1966C>T (heterozygous)</td><td style=\"text-align: left;\">Hypertelorism (HP:0000316); Broad palm (HP:0001169); Broad foot (HP:0001769); Camptodactyly (HP:0012385); Clinodactyly of the 5th finger (HP:0004209); Short stature (HP:0004322); Anteverted nares (HP:0000463); Long philtrum (HP:0000343); Short nose (HP:0003196); Cryptorchidism (HP:0000028); Shawl scrotum (HP:0000049); Obesity (HP:0001513); excluded: Widow's peak (HP:0000349); excluded: Ptosis (HP:0000508); excluded: Downslanted palpebral fissures (HP:0000494); excluded: Hyperextensibility of the finger joints (HP:0001187); excluded: Single transverse palmar crease (HP:0000954); excluded: Global developmental delay (HP:0001263); excluded: Frontal bossing (HP:0002007); excluded: Dental malocclusion (HP:0000689); excluded: Midface retrusion (HP:0011800); excluded: Umbilical hernia (HP:0001537); excluded: Inguinal hernia (HP:0000023); excluded: Hypospadias (HP:0000047); excluded: Delayed skeletal maturation (HP:0002750); excluded: Curved linear dimple below the lower lip (HP:0002055); excluded: Preauricular skin tag (HP:0000384); excluded: Metatarsus adductus (HP:0001840)</td></tr>\n",
       "<tr><td style=\"text-align: left;\">case 6 (MALE; n/a)</td><td style=\"text-align: left;\">Aarskog-Scott syndrome (OMIM:305400)</td><td style=\"text-align: left;\">NM_004463.3:c.1966C>T (heterozygous)</td><td style=\"text-align: left;\">Hypertelorism (HP:0000316); Widow's peak (HP:0000349); Downslanted palpebral fissures (HP:0000494); Broad palm (HP:0001169); Broad foot (HP:0001769); Camptodactyly (HP:0012385); Clinodactyly of the 5th finger (HP:0004209); Hyperextensibility of the finger joints (HP:0001187); Single transverse palmar crease (HP:0000954); Short stature (HP:0004322); Anteverted nares (HP:0000463); Long philtrum (HP:0000343); Short nose (HP:0003196); Cryptorchidism (HP:0000028); Shawl scrotum (HP:0000049); Delayed skeletal maturation (HP:0002750); Curved linear dimple below the lower lip (HP:0002055); excluded: Ptosis (HP:0000508); excluded: Global developmental delay (HP:0001263); excluded: Frontal bossing (HP:0002007); excluded: Dental malocclusion (HP:0000689); excluded: Midface retrusion (HP:0011800); excluded: Umbilical hernia (HP:0001537); excluded: Inguinal hernia (HP:0000023); excluded: Hypospadias (HP:0000047); excluded: Obesity (HP:0001513); excluded: Preauricular skin tag (HP:0000384); excluded: Metatarsus adductus (HP:0001840)</td></tr>\n",
       "<tr><td style=\"text-align: left;\">case 7 (MALE; n/a)</td><td style=\"text-align: left;\">Aarskog-Scott syndrome (OMIM:305400)</td><td style=\"text-align: left;\">NM_004463.3:c.1966C>T (heterozygous)</td><td style=\"text-align: left;\">Hypertelorism (HP:0000316); Widow's peak (HP:0000349); Broad palm (HP:0001169); Broad foot (HP:0001769); Clinodactyly of the 5th finger (HP:0004209); Hyperextensibility of the finger joints (HP:0001187); Short stature (HP:0004322); Frontal bossing (HP:0002007); Anteverted nares (HP:0000463); Midface retrusion (HP:0011800); Long philtrum (HP:0000343); Short nose (HP:0003196); Cryptorchidism (HP:0000028); Shawl scrotum (HP:0000049); Curved linear dimple below the lower lip (HP:0002055); Metatarsus adductus (HP:0001840); excluded: Ptosis (HP:0000508); excluded: Downslanted palpebral fissures (HP:0000494); excluded: Camptodactyly (HP:0012385); excluded: Single transverse palmar crease (HP:0000954); excluded: Global developmental delay (HP:0001263); excluded: Dental malocclusion (HP:0000689); excluded: Umbilical hernia (HP:0001537); excluded: Inguinal hernia (HP:0000023); excluded: Hypospadias (HP:0000047); excluded: Obesity (HP:0001513); excluded: Preauricular skin tag (HP:0000384)</td></tr>\n",
       "<tr><td style=\"text-align: left;\">case 1 (MALE; n/a)</td><td style=\"text-align: left;\">Aarskog-Scott syndrome (OMIM:305400)</td><td style=\"text-align: left;\">NM_004463.3:c.2026_2028del (heterozygous)</td><td style=\"text-align: left;\">Hypertelorism (HP:0000316); Widow's peak (HP:0000349); Downslanted palpebral fissures (HP:0000494); Broad palm (HP:0001169); Broad foot (HP:0001769); Short stature (HP:0004322); Global developmental delay (HP:0001263); Anteverted nares (HP:0000463); Long philtrum (HP:0000343); Short nose (HP:0003196); Shawl scrotum (HP:0000049); Delayed skeletal maturation (HP:0002750); Curved linear dimple below the lower lip (HP:0002055); excluded: Ptosis (HP:0000508); excluded: Camptodactyly (HP:0012385); excluded: Clinodactyly of the 5th finger (HP:0004209); excluded: Hyperextensibility of the finger joints (HP:0001187); excluded: Single transverse palmar crease (HP:0000954); excluded: Frontal bossing (HP:0002007); excluded: Dental malocclusion (HP:0000689); excluded: Midface retrusion (HP:0011800); excluded: Umbilical hernia (HP:0001537); excluded: Inguinal hernia (HP:0000023); excluded: Cryptorchidism (HP:0000028); excluded: Hypospadias (HP:0000047); excluded: Obesity (HP:0001513); excluded: Preauricular skin tag (HP:0000384); excluded: Metatarsus adductus (HP:0001840)</td></tr>\n",
       "<tr><td style=\"text-align: left;\">case 4 (MALE; n/a)</td><td style=\"text-align: left;\">Aarskog-Scott syndrome (OMIM:305400)</td><td style=\"text-align: left;\">NM_004463.3:c.2242A>G (heterozygous)</td><td style=\"text-align: left;\">Hypertelorism (HP:0000316); Widow's peak (HP:0000349); Broad palm (HP:0001169); Camptodactyly (HP:0012385); Clinodactyly of the 5th finger (HP:0004209); Short stature (HP:0004322); Global developmental delay (HP:0001263); Frontal bossing (HP:0002007); Anteverted nares (HP:0000463); Short nose (HP:0003196); Cryptorchidism (HP:0000028); Shawl scrotum (HP:0000049); excluded: Ptosis (HP:0000508); excluded: Downslanted palpebral fissures (HP:0000494); excluded: Broad foot (HP:0001769); excluded: Hyperextensibility of the finger joints (HP:0001187); excluded: Single transverse palmar crease (HP:0000954); excluded: Dental malocclusion (HP:0000689); excluded: Midface retrusion (HP:0011800); excluded: Long philtrum (HP:0000343); excluded: Umbilical hernia (HP:0001537); excluded: Inguinal hernia (HP:0000023); excluded: Hypospadias (HP:0000047); excluded: Delayed skeletal maturation (HP:0002750); excluded: Curved linear dimple below the lower lip (HP:0002055); excluded: Obesity (HP:0001513); excluded: Preauricular skin tag (HP:0000384); excluded: Metatarsus adductus (HP:0001840)</td></tr>\n",
       "<tr><td style=\"text-align: left;\">index case (MALE; P16Y)</td><td style=\"text-align: left;\">Aarskog-Scott syndrome (OMIM:305400)</td><td style=\"text-align: left;\">NM_004463.3:c.1341G>A (heterozygous)</td><td style=\"text-align: left;\">Hypertelorism (HP:0000316); Ptosis (HP:0000508); Short stature (HP:0004322); Micrognathia (HP:0000347); Anteverted nares (HP:0000463); Short nose (HP:0003196); High palate (HP:0000218); Shawl scrotum (HP:0000049); Metatarsus adductus (HP:0001840); excluded: Global developmental delay (HP:0001263); excluded: Intellectual disability (HP:0001249); excluded: Cryptorchidism (HP:0000028)</td></tr>\n",
       "</table>"
      ],
      "text/plain": [
       "<IPython.core.display.HTML object>"
      ]
     },
     "metadata": {},
     "output_type": "display_data"
    }
   ],
   "source": [
    "table = IndividualTable(cvalidator.get_error_free_individual_list())\n",
    "display(HTML(table.to_html()))"
   ]
  },
  {
   "cell_type": "code",
   "execution_count": 6,
   "metadata": {},
   "outputs": [
    {
     "name": "stdout",
     "output_type": "stream",
     "text": [
      "[pyphetools] Ingested 16 GA4GH phenopackets.\n",
      "\tAarskog-Scott syndrome (OMIM:305400): n=16\n",
      "We found a total of 36 unique HPO terms\n",
      "Extracted disease: Aarskog-Scott syndrome (OMIM:305400)\n",
      "Wrote HPOA disease file to OMIM-305400.tab\n"
     ]
    }
   ],
   "source": [
    "pmid = \"PMID:36333996\"\n",
    "df = timporter.create_hpoa_from_phenopackets(pmid=pmid, moi=\"X-linked recessive inheritance\")"
   ]
  }
 ],
 "metadata": {
  "kernelspec": {
   "display_name": "ps24venv",
   "language": "python",
   "name": "python3"
  },
  "language_info": {
   "codemirror_mode": {
    "name": "ipython",
    "version": 3
   },
   "file_extension": ".py",
   "mimetype": "text/x-python",
   "name": "python",
   "nbconvert_exporter": "python",
   "pygments_lexer": "ipython3",
   "version": "3.9.6"
  }
 },
 "nbformat": 4,
 "nbformat_minor": 2
}
