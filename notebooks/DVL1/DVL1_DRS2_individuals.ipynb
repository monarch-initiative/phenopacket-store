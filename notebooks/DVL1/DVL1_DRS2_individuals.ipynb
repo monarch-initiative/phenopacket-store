{
 "cells": [
  {
   "cell_type": "markdown",
   "metadata": {},
   "source": [
    "# DVL1\n",
    "[autosomal dominant Robinow syndrome-2 (DRS2)](https://omim.org/entry/616331) is caused by heterozygous mutation in the DVL1 gene."
   ]
  },
  {
   "cell_type": "code",
   "execution_count": 32,
   "metadata": {},
   "outputs": [
    {
     "name": "stdout",
     "output_type": "stream",
     "text": [
      "Using pyphetools version 0.9.110\n"
     ]
    }
   ],
   "source": [
    "from pyphetools.creation import TemplateImporter, Moi\n",
    "from pyphetools.visualization import IndividualTable, QcVisualizer\n",
    "from IPython.display import display, HTML\n",
    "import pyphetools\n",
    "print(f\"Using pyphetools version {pyphetools.__version__}\")"
   ]
  },
  {
   "cell_type": "code",
   "execution_count": 33,
   "metadata": {},
   "outputs": [
    {
     "name": "stdout",
     "output_type": "stream",
     "text": [
      "HPO version 2024-08-13\n",
      "Created encoders for 84 fields\n",
      "Importing OMIM:616331, Robinow syndrome, autosomal dominant 2, HGNC:3084, DVL1,  NM_001330311.2\n",
      "We output 16 GA4GH phenopackets to the directory phenopackets\n"
     ]
    }
   ],
   "source": [
    "template = \"input/DVL1_DRS2_individuals.xlsx\"\n",
    "created_by = \"0000-0002-0736-9199\"\n",
    "timporter = TemplateImporter(template=template,  created_by=created_by)\n",
    "individual_list, cvalidator = timporter.import_phenopackets_from_template()"
   ]
  },
  {
   "cell_type": "code",
   "execution_count": 34,
   "metadata": {},
   "outputs": [
    {
     "data": {
      "text/html": [
       "<h2>Cohort validation</h2>\n",
       "<p>Errors found with 15 of 16 phenopackets.</p>\n",
       "<table style=\"border: 2px solid black; align: \"left\">\n",
       "<caption>Error counts</caption>\n",
       "<tr><th style=\"text-align: left;font-weight: bold;\">Level</th><th style=\"text-align: left;font-weight: bold;\">Error category</th><th style=\"text-align: left;font-weight: bold;\">Count</th></tr>\n",
       "<tr><td style=\"text-align: left;\">WARNING</td><td style=\"text-align: left;\">REDUNDANT</td><td style=\"text-align: left;\">24</td></tr>\n",
       "</table>\n",
       "<p>A total of 24 issues were fixed and no individual was removed from the cohort.</p>"
      ],
      "text/plain": [
       "<IPython.core.display.HTML object>"
      ]
     },
     "metadata": {},
     "output_type": "display_data"
    }
   ],
   "source": [
    "qc = QcVisualizer(cohort_validator=cvalidator)\n",
    "display(HTML(qc.to_summary_html()))"
   ]
  },
  {
   "cell_type": "code",
   "execution_count": 35,
   "metadata": {},
   "outputs": [
    {
     "data": {
      "text/html": [
       "<table style=\"border: 2px solid black; align: \"left\">\n",
       "<caption>16 phenopackets - PMID:25817016 (n=8); PMID:25817014 (n=3); PMID:26924530 (n=1); PMID:35137569 (n=1); PMID:35047859 (n=3)</caption>\n",
       "<tr><th style=\"text-align: left;font-weight: bold;\">Individual</th><th style=\"text-align: left;font-weight: bold;\">Disease</th><th style=\"text-align: left;font-weight: bold;\">Genotype</th><th style=\"text-align: left;font-weight: bold;\">Phenotypic features</th></tr>\n",
       "<tr><td style=\"text-align: left;\">Individual BAB4073 (FEMALE; P9Y)</td><td style=\"text-align: left;\">Robinow syndrome, autosomal dominant 2 (OMIM:616331)</td><td style=\"text-align: left;\">NM_001330311.2:c.1645_1646delinsC (heterozygous)</td><td style=\"text-align: left;\">Frontal bossing (HP:0002007): onset ; Anteverted nares (HP:0000463): onset ; Triangular mouth (HP:0000207): onset ; Thin upper lip vermilion (HP:0000219): onset ; Cleft soft palate (HP:0000185): onset ; Bifid tongue (HP:0010297): onset ; Broad thumb (HP:0011304): onset ; Broad hallux (HP:0010055): onset ; Camptodactyly (HP:0012385): onset ; Clinodactyly (HP:0030084): onset ; Brachydactyly (HP:0001156): onset ; Nail dysplasia (HP:0002164): onset ; Hypertelorism (HP:0000316): onset ; Short nose (HP:0003196): onset ; Gingival overgrowth (HP:0000212): onset ; Macrocephaly (HP:0000256): onset ; Umbilical hernia (HP:0001537): onset ; Midface retrusion (HP:0011800): onset ; Mesomelia (HP:0003027): onset ; Micrognathia (HP:0000347): onset ; High forehead (HP:0000348): onset ; Depressed nasal bridge (HP:0005280): onset ; Wide nasal bridge (HP:0000431): onset ; Upslanted palpebral fissure (HP:0000582): onset ; Long eyelashes (HP:0000527): onset ; Proptosis (HP:0000520): onset ; Blue sclerae (HP:0000592): onset ; Short neck (HP:0000470): onset ; Sacral dimple (HP:0000960): onset ; Abnormal atrial septum morphology (HP:0011994): onset ; excluded: Absent uvula (HP:0010292): onset ; excluded: Short stature (HP:0004322): onset ; excluded: Inguinal hernia (HP:0000023): onset ; excluded: Long philtrum (HP:0000343): onset ; excluded: Scoliosis (HP:0002650): onset ; excluded: Conductive hearing impairment (HP:0000405): onset ; excluded: Sensorineural hearing impairment (HP:0000407): onset ; excluded: Epicanthus (HP:0000286): onset ; excluded: Seizure (HP:0001250): onset ; excluded: Omphalocele (HP:0001539): onset ; excluded: Ventricular septal defect (HP:0001629): onset </td></tr>\n",
       "<tr><td style=\"text-align: left;\">Individual BAB4878 (FEMALE; P20Y)</td><td style=\"text-align: left;\">Robinow syndrome, autosomal dominant 2 (OMIM:616331)</td><td style=\"text-align: left;\">NM_001330311.2:c.1580_1592del (heterozygous)</td><td style=\"text-align: left;\">Frontal bossing (HP:0002007): onset ; Anteverted nares (HP:0000463): onset ; Triangular mouth (HP:0000207): onset ; Thin upper lip vermilion (HP:0000219): onset ; Bifid tongue (HP:0010297): onset ; Broad hallux (HP:0010055): onset ; Clinodactyly (HP:0030084): onset ; Brachydactyly (HP:0001156): onset ; Hypertelorism (HP:0000316): onset ; Short nose (HP:0003196): onset ; Gingival overgrowth (HP:0000212): onset ; Macrocephaly (HP:0000256): onset ; Umbilical hernia (HP:0001537): onset ; Midface retrusion (HP:0011800): onset ; Long philtrum (HP:0000343): onset ; Mesomelia (HP:0003027): onset ; High forehead (HP:0000348): onset ; Depressed nasal bridge (HP:0005280): onset ; Wide nasal bridge (HP:0000431): onset ; Upslanted palpebral fissure (HP:0000582): onset ; Long eyelashes (HP:0000527): onset ; Epicanthus (HP:0000286): onset ; Obstructive sleep apnea (HP:0002870): onset ; Ventricular septal defect (HP:0001629): onset ; excluded: Clitoral hypoplasia (HP:0000060): onset ; excluded: Absent uvula (HP:0010292): onset ; excluded: Cleft soft palate (HP:0000185): onset ; excluded: Broad thumb (HP:0011304): onset ; excluded: Camptodactyly (HP:0012385): onset ; excluded: Nail dysplasia (HP:0002164): onset ; excluded: Short stature (HP:0004322): onset ; excluded: Inguinal hernia (HP:0000023): onset ; excluded: Micrognathia (HP:0000347): onset ; excluded: Scoliosis (HP:0002650): onset ; excluded: Conductive hearing impairment (HP:0000405): onset ; excluded: Sensorineural hearing impairment (HP:0000407): onset ; excluded: Proptosis (HP:0000520): onset ; excluded: Blue sclerae (HP:0000592): onset ; excluded: Short neck (HP:0000470): onset ; excluded: Sacral dimple (HP:0000960): onset ; excluded: Seizure (HP:0001250): onset ; excluded: Omphalocele (HP:0001539): onset ; excluded: Abnormal atrial septum morphology (HP:0011994): onset </td></tr>\n",
       "<tr><td style=\"text-align: left;\">Individual BAB5264 (MALE; P2Y4M)</td><td style=\"text-align: left;\">Robinow syndrome, autosomal dominant 2 (OMIM:616331)</td><td style=\"text-align: left;\">NM_001330311.2:c.1594del (heterozygous)</td><td style=\"text-align: left;\">Frontal bossing (HP:0002007): onset ; Anteverted nares (HP:0000463): onset ; Triangular mouth (HP:0000207): onset ; Cryptorchidism (HP:0000028): onset ; Micropenis (HP:0000054): onset ; Thin upper lip vermilion (HP:0000219): onset ; Bifid tongue (HP:0010297): onset ; Broad thumb (HP:0011304): onset ; Broad hallux (HP:0010055): onset ; Clinodactyly (HP:0030084): onset ; Brachydactyly (HP:0001156): onset ; Hypertelorism (HP:0000316): onset ; Short nose (HP:0003196): onset ; Gingival overgrowth (HP:0000212): onset ; Macrocephaly (HP:0000256): onset ; Short stature (HP:0004322): onset ; Umbilical hernia (HP:0001537): onset ; Midface retrusion (HP:0011800): onset ; Long philtrum (HP:0000343): onset ; Mesomelia (HP:0003027): onset ; Micrognathia (HP:0000347): onset ; High forehead (HP:0000348): onset ; Hearing impairment (HP:0000365): onset ; Depressed nasal bridge (HP:0005280): onset ; Wide nasal bridge (HP:0000431): onset ; Long eyelashes (HP:0000527): onset ; Proptosis (HP:0000520): onset ; Blue sclerae (HP:0000592): onset ; Epicanthus (HP:0000286): onset ; excluded: Absent uvula (HP:0010292): onset ; excluded: Cleft soft palate (HP:0000185): onset ; excluded: Nail dysplasia (HP:0002164): onset ; excluded: Inguinal hernia (HP:0000023): onset ; excluded: Scoliosis (HP:0002650): onset ; excluded: Upslanted palpebral fissure (HP:0000582): onset ; excluded: Short neck (HP:0000470): onset ; excluded: Seizure (HP:0001250): onset ; excluded: Omphalocele (HP:0001539): onset ; excluded: Ventricular septal defect (HP:0001629): onset ; excluded: Abnormal atrial septum morphology (HP:0011994): onset </td></tr>\n",
       "<tr><td style=\"text-align: left;\">Individual 016462 (FEMALE; P20Y)</td><td style=\"text-align: left;\">Robinow syndrome, autosomal dominant 2 (OMIM:616331)</td><td style=\"text-align: left;\">NM_001330311.2:c.1580_1592del (heterozygous)</td><td style=\"text-align: left;\">Frontal bossing (HP:0002007): onset ; Anteverted nares (HP:0000463): onset ; Triangular mouth (HP:0000207): onset ; Clitoral hypoplasia (HP:0000060): onset ; Thin upper lip vermilion (HP:0000219): onset ; Broad thumb (HP:0011304): onset ; Broad hallux (HP:0010055): onset ; Clinodactyly (HP:0030084): onset ; Brachydactyly (HP:0001156): onset ; Nail dysplasia (HP:0002164): onset ; Hypertelorism (HP:0000316): onset ; Short nose (HP:0003196): onset ; Gingival overgrowth (HP:0000212): onset ; Macrocephaly (HP:0000256): onset ; Midface retrusion (HP:0011800): onset ; Long philtrum (HP:0000343): onset ; Mesomelia (HP:0003027): onset ; Micrognathia (HP:0000347): onset ; Scoliosis (HP:0002650): onset ; High forehead (HP:0000348): onset ; Conductive hearing impairment (HP:0000405): onset ; Epicanthus (HP:0000286): onset ; Obstructive sleep apnea (HP:0002870): onset ; excluded: Bifid tongue (HP:0010297): onset ; excluded: Short stature (HP:0004322): onset ; excluded: Sensorineural hearing impairment (HP:0000407): onset </td></tr>\n",
       "<tr><td style=\"text-align: left;\">Individual 016516 (MALE; P21Y)</td><td style=\"text-align: left;\">Robinow syndrome, autosomal dominant 2 (OMIM:616331)</td><td style=\"text-align: left;\">NM_001330311.2:c.1583del (heterozygous)</td><td style=\"text-align: left;\">Frontal bossing (HP:0002007): onset ; Anteverted nares (HP:0000463): onset ; Triangular mouth (HP:0000207): onset ; Cryptorchidism (HP:0000028): onset ; Micropenis (HP:0000054): onset ; Broad thumb (HP:0011304): onset ; Broad hallux (HP:0010055): onset ; Brachydactyly (HP:0001156): onset ; Hypertelorism (HP:0000316): onset ; Short nose (HP:0003196): onset ; Gingival overgrowth (HP:0000212): onset ; Macrocephaly (HP:0000256): onset ; Midface retrusion (HP:0011800): onset ; Mesomelia (HP:0003027): onset ; High forehead (HP:0000348): onset ; Depressed nasal bridge (HP:0005280): onset ; Wide nasal bridge (HP:0000431): onset ; Proptosis (HP:0000520): onset ; Omphalocele (HP:0001539): onset ; excluded: Hypospadias (HP:0000047): onset ; excluded: Thin upper lip vermilion (HP:0000219): onset ; excluded: Absent uvula (HP:0010292): onset ; excluded: Cleft soft palate (HP:0000185): onset ; excluded: Bifid tongue (HP:0010297): onset ; excluded: Camptodactyly (HP:0012385): onset ; excluded: Clinodactyly (HP:0030084): onset ; excluded: Nail dysplasia (HP:0002164): onset ; excluded: Short stature (HP:0004322): onset ; excluded: Umbilical hernia (HP:0001537): onset ; excluded: Inguinal hernia (HP:0000023): onset ; excluded: Long philtrum (HP:0000343): onset ; excluded: Micrognathia (HP:0000347): onset ; excluded: Scoliosis (HP:0002650): onset ; excluded: Conductive hearing impairment (HP:0000405): onset ; excluded: Sensorineural hearing impairment (HP:0000407): onset ; excluded: Upslanted palpebral fissure (HP:0000582): onset ; excluded: Long eyelashes (HP:0000527): onset ; excluded: Blue sclerae (HP:0000592): onset ; excluded: Epicanthus (HP:0000286): onset ; excluded: Short neck (HP:0000470): onset ; excluded: Sacral dimple (HP:0000960): onset ; excluded: Seizure (HP:0001250): onset ; excluded: Obstructive sleep apnea (HP:0002870): onset ; excluded: Ventricular septal defect (HP:0001629): onset ; excluded: Abnormal atrial septum morphology (HP:0011994): onset </td></tr>\n",
       "<tr><td style=\"text-align: left;\">Individual 016517 (MALE; P21Y)</td><td style=\"text-align: left;\">Robinow syndrome, autosomal dominant 2 (OMIM:616331)</td><td style=\"text-align: left;\">NM_001330311.2:c.1583del (heterozygous)</td><td style=\"text-align: left;\">Frontal bossing (HP:0002007): onset ; Anteverted nares (HP:0000463): onset ; Triangular mouth (HP:0000207): onset ; Cryptorchidism (HP:0000028): onset ; Micropenis (HP:0000054): onset ; Broad thumb (HP:0011304): onset ; Broad hallux (HP:0010055): onset ; Brachydactyly (HP:0001156): onset ; Hypertelorism (HP:0000316): onset ; Short nose (HP:0003196): onset ; Gingival overgrowth (HP:0000212): onset ; Macrocephaly (HP:0000256): onset ; Midface retrusion (HP:0011800): onset ; Mesomelia (HP:0003027): onset ; High forehead (HP:0000348): onset ; Depressed nasal bridge (HP:0005280): onset ; Wide nasal bridge (HP:0000431): onset ; Proptosis (HP:0000520): onset ; excluded: Hypospadias (HP:0000047): onset ; excluded: Thin upper lip vermilion (HP:0000219): onset ; excluded: Absent uvula (HP:0010292): onset ; excluded: Cleft soft palate (HP:0000185): onset ; excluded: Bifid tongue (HP:0010297): onset ; excluded: Camptodactyly (HP:0012385): onset ; excluded: Clinodactyly (HP:0030084): onset ; excluded: Nail dysplasia (HP:0002164): onset ; excluded: Short stature (HP:0004322): onset ; excluded: Umbilical hernia (HP:0001537): onset ; excluded: Inguinal hernia (HP:0000023): onset ; excluded: Long philtrum (HP:0000343): onset ; excluded: Micrognathia (HP:0000347): onset ; excluded: Scoliosis (HP:0002650): onset ; excluded: Conductive hearing impairment (HP:0000405): onset ; excluded: Sensorineural hearing impairment (HP:0000407): onset ; excluded: Upslanted palpebral fissure (HP:0000582): onset ; excluded: Long eyelashes (HP:0000527): onset ; excluded: Blue sclerae (HP:0000592): onset ; excluded: Epicanthus (HP:0000286): onset ; excluded: Short neck (HP:0000470): onset ; excluded: Sacral dimple (HP:0000960): onset ; excluded: Seizure (HP:0001250): onset ; excluded: Obstructive sleep apnea (HP:0002870): onset ; excluded: Omphalocele (HP:0001539): onset ; excluded: Ventricular septal defect (HP:0001629): onset ; excluded: Abnormal atrial septum morphology (HP:0011994): onset </td></tr>\n",
       "<tr><td style=\"text-align: left;\">Individual 17604 (MALE; P15Y6M)</td><td style=\"text-align: left;\">Robinow syndrome, autosomal dominant 2 (OMIM:616331)</td><td style=\"text-align: left;\">NM_001330311.2:c.1690del (heterozygous)</td><td style=\"text-align: left;\">Frontal bossing (HP:0002007): onset ; Triangular mouth (HP:0000207): onset ; Cryptorchidism (HP:0000028): onset ; Hypospadias (HP:0000047): onset ; Micropenis (HP:0000054): onset ; Absent uvula (HP:0010292): onset ; Bifid tongue (HP:0010297): onset ; Broad hallux (HP:0010055): onset ; Camptodactyly (HP:0012385): onset ; Clinodactyly (HP:0030084): onset ; Hypertelorism (HP:0000316): onset ; Short nose (HP:0003196): onset ; Gingival overgrowth (HP:0000212): onset ; Macrocephaly (HP:0000256): onset ; Umbilical hernia (HP:0001537): onset ; Midface retrusion (HP:0011800): onset ; Long philtrum (HP:0000343): onset ; Mesomelia (HP:0003027): onset ; Scoliosis (HP:0002650): onset ; High forehead (HP:0000348): onset ; Depressed nasal bridge (HP:0005280): onset ; Wide nasal bridge (HP:0000431): onset ; Epicanthus (HP:0000286): onset ; Seizure (HP:0001250): onset ; excluded: Anteverted nares (HP:0000463): onset ; excluded: Thin upper lip vermilion (HP:0000219): onset ; excluded: Cleft soft palate (HP:0000185): onset ; excluded: Broad thumb (HP:0011304): onset ; excluded: Brachydactyly (HP:0001156): onset ; excluded: Nail dysplasia (HP:0002164): onset ; excluded: Short stature (HP:0004322): onset ; excluded: Inguinal hernia (HP:0000023): onset ; excluded: Micrognathia (HP:0000347): onset ; excluded: Conductive hearing impairment (HP:0000405): onset ; excluded: Sensorineural hearing impairment (HP:0000407): onset ; excluded: Upslanted palpebral fissure (HP:0000582): onset ; excluded: Long eyelashes (HP:0000527): onset ; excluded: Proptosis (HP:0000520): onset ; excluded: Blue sclerae (HP:0000592): onset ; excluded: Short neck (HP:0000470): onset ; excluded: Sacral dimple (HP:0000960): onset ; excluded: Obstructive sleep apnea (HP:0002870): onset ; excluded: Omphalocele (HP:0001539): onset ; excluded: Ventricular septal defect (HP:0001629): onset ; excluded: Abnormal atrial septum morphology (HP:0011994): onset </td></tr>\n",
       "<tr><td style=\"text-align: left;\">Individual 30526 (FEMALE; P18Y)</td><td style=\"text-align: left;\">Robinow syndrome, autosomal dominant 2 (OMIM:616331)</td><td style=\"text-align: left;\">NM_001330311.2:c.1604del (heterozygous)</td><td style=\"text-align: left;\">Frontal bossing (HP:0002007): onset ; Broad hallux (HP:0010055): onset ; Clinodactyly (HP:0030084): onset ; Brachydactyly (HP:0001156): onset ; Hypertelorism (HP:0000316): onset ; Short nose (HP:0003196): onset ; Macrocephaly (HP:0000256): onset ; Short stature (HP:0004322): onset ; Midface retrusion (HP:0011800): onset ; Mesomelia (HP:0003027): onset ; Scoliosis (HP:0002650): onset ; High forehead (HP:0000348): onset ; Hearing impairment (HP:0000365): onset ; Depressed nasal bridge (HP:0005280): onset ; Wide nasal bridge (HP:0000431): onset ; Long eyelashes (HP:0000527): onset ; Proptosis (HP:0000520): onset ; Short neck (HP:0000470): onset ; excluded: Cleft soft palate (HP:0000185): onset ; excluded: Bifid tongue (HP:0010297): onset ; excluded: Broad thumb (HP:0011304): onset ; excluded: Camptodactyly (HP:0012385): onset ; excluded: Nail dysplasia (HP:0002164): onset ; excluded: Gingival overgrowth (HP:0000212): onset ; excluded: Umbilical hernia (HP:0001537): onset ; excluded: Inguinal hernia (HP:0000023): onset ; excluded: Long philtrum (HP:0000343): onset ; excluded: Micrognathia (HP:0000347): onset ; excluded: Upslanted palpebral fissure (HP:0000582): onset ; excluded: Blue sclerae (HP:0000592): onset ; excluded: Sacral dimple (HP:0000960): onset ; excluded: Seizure (HP:0001250): onset ; excluded: Obstructive sleep apnea (HP:0002870): onset ; excluded: Omphalocele (HP:0001539): onset ; excluded: Ventricular septal defect (HP:0001629): onset ; excluded: Abnormal atrial septum morphology (HP:0011994): onset </td></tr>\n",
       "<tr><td style=\"text-align: left;\">Individual 1 (FEMALE)</td><td style=\"text-align: left;\">Robinow syndrome, autosomal dominant 2 (OMIM:616331)</td><td style=\"text-align: left;\">NM_001330311.2:c.1594del (heterozygous)</td><td style=\"text-align: left;\">Camptodactyly (HP:0012385): onset ; Hypertelorism (HP:0000316): onset ; Gingival overgrowth (HP:0000212): onset ; Calvarial osteosclerosis (HP:0005450): onset ; Conductive hearing impairment (HP:0000405): onset ; Sensorineural hearing impairment (HP:0000407): onset ; Bifid distal phalanx of the thumb (HP:0009611): onset ; Oligodontia (HP:0000677): onset ; excluded: Cleft palate (HP:0000175): onset ; excluded: Mesomelia (HP:0003027): onset </td></tr>\n",
       "<tr><td style=\"text-align: left;\">Individual 2 (UNKNOWN)</td><td style=\"text-align: left;\">Robinow syndrome, autosomal dominant 2 (OMIM:616331)</td><td style=\"text-align: left;\">NM_001330311.2:c.1637del (heterozygous)</td><td style=\"text-align: left;\">Cleft palate (HP:0000175): onset ; Camptodactyly (HP:0012385): onset ; Hypertelorism (HP:0000316): onset ; Gingival overgrowth (HP:0000212): onset ; Calvarial osteosclerosis (HP:0005450): onset ; Conductive hearing impairment (HP:0000405): onset ; Sensorineural hearing impairment (HP:0000407): onset ; Bifid distal phalanx of the thumb (HP:0009611): onset ; Oligodontia (HP:0000677): onset ; excluded: Mesomelia (HP:0003027): onset </td></tr>\n",
       "<tr><td style=\"text-align: left;\">Individual 3 (UNKNOWN)</td><td style=\"text-align: left;\">Robinow syndrome, autosomal dominant 2 (OMIM:616331)</td><td style=\"text-align: left;\">NM_001330311.2:c.1651_1658delinsG (heterozygous)</td><td style=\"text-align: left;\">Cleft palate (HP:0000175): onset ; Hypertelorism (HP:0000316): onset ; Calvarial osteosclerosis (HP:0005450): onset ; Conductive hearing impairment (HP:0000405): onset ; Sensorineural hearing impairment (HP:0000407): onset ; Oligodontia (HP:0000677): onset ; excluded: Camptodactyly (HP:0012385): onset ; excluded: Gingival overgrowth (HP:0000212): onset ; excluded: Mesomelia (HP:0003027): onset </td></tr>\n",
       "<tr><td style=\"text-align: left;\">Individual BAB8062 (MALE; P1Y)</td><td style=\"text-align: left;\">Robinow syndrome, autosomal dominant 2 (OMIM:616331)</td><td style=\"text-align: left;\">NM_001330311.2:c.1598del (heterozygous)</td><td style=\"text-align: left;\">Frontal bossing (HP:0002007): onset ; Anteverted nares (HP:0000463): onset ; Cryptorchidism (HP:0000028): onset ; Hypospadias (HP:0000047): onset ; Micropenis (HP:0000054): onset ; Absent uvula (HP:0010292): onset ; Cleft soft palate (HP:0000185): onset ; Clinodactyly (HP:0030084): onset ; Brachydactyly (HP:0001156): onset ; Hypertelorism (HP:0000316): onset ; Short nose (HP:0003196): onset ; Gingival overgrowth (HP:0000212): onset ; Macrocephaly (HP:0000256): onset ; Calvarial osteosclerosis (HP:0005450): onset ; Mesomelia (HP:0003027): onset ; Micrognathia (HP:0000347): onset ; Scoliosis (HP:0002650): onset ; High forehead (HP:0000348): onset ; Depressed nasal bridge (HP:0005280): onset ; Upslanted palpebral fissure (HP:0000582): onset ; Proptosis (HP:0000520): onset ; Blue sclerae (HP:0000592): onset ; Epicanthus (HP:0000286): onset ; Short neck (HP:0000470): onset ; Sacral dimple (HP:0000960): onset ; excluded: Conductive hearing impairment (HP:0000405): onset ; excluded: Sensorineural hearing impairment (HP:0000407): onset ; excluded: Bifid distal phalanx of the thumb (HP:0009611): onset </td></tr>\n",
       "<tr><td style=\"text-align: left;\">proband (MALE; P3M)</td><td style=\"text-align: left;\">Robinow syndrome, autosomal dominant 2 (OMIM:616331)</td><td style=\"text-align: left;\">NM_001330311.2:c.1621del (heterozygous)</td><td style=\"text-align: left;\">Thick upper lip vermilion (HP:0000215): onset ; High palate (HP:0000218): onset ; Hypertelorism (HP:0000316): onset ; High forehead (HP:0000348): onset ; Depressed nasal bridge (HP:0005280): onset ; Low-set ears (HP:0000369): onset ; Limited hip extension (HP:0003093): onset ; Hip dislocation (HP:0002827): onset ; Global developmental delay (HP:0001263): onset ; Hypoplasia of the radius (HP:0002984): onset ; Thin corpus callosum (HP:0033725): onset ; excluded: Thin upper lip vermilion (HP:0000219): onset </td></tr>\n",
       "<tr><td style=\"text-align: left;\">Individual BAB10168 (MALE)</td><td style=\"text-align: left;\">Robinow syndrome, autosomal dominant 2 (OMIM:616331)</td><td style=\"text-align: left;\">NM_001330311.2:c.1675del (heterozygous)</td><td style=\"text-align: left;\">Frontal bossing (HP:0002007): onset ; Anteverted nares (HP:0000463): onset ; Triangular mouth (HP:0000207): onset ; Micropenis (HP:0000054): onset ; Thin upper lip vermilion (HP:0000219): onset ; Bifid tongue (HP:0010297): onset ; Clinodactyly (HP:0030084): onset ; Brachydactyly (HP:0001156): onset ; Hypertelorism (HP:0000316): onset ; Short nose (HP:0003196): onset ; Gingival overgrowth (HP:0000212): onset ; Macrocephaly (HP:0000256): onset ; Midface retrusion (HP:0011800): onset ; Long philtrum (HP:0000343): onset ; Mesomelia (HP:0003027): onset ; Micrognathia (HP:0000347): onset ; High forehead (HP:0000348): onset ; Wide nasal bridge (HP:0000431): onset ; Long eyelashes (HP:0000527): onset ; Proptosis (HP:0000520): onset ; Blue sclerae (HP:0000592): onset ; Seizure (HP:0001250): onset ; Obstructive sleep apnea (HP:0002870): onset ; excluded: Cryptorchidism (HP:0000028): onset ; excluded: Hypospadias (HP:0000047): onset ; excluded: Cleft palate (HP:0000175): onset ; excluded: Broad thumb (HP:0011304): onset ; excluded: Broad hallux (HP:0010055): onset ; excluded: Camptodactyly (HP:0012385): onset ; excluded: Nail dysplasia (HP:0002164): onset ; excluded: Short stature (HP:0004322): onset ; excluded: Umbilical hernia (HP:0001537): onset ; excluded: Inguinal hernia (HP:0000023): onset ; excluded: Conductive hearing impairment (HP:0000405): onset ; excluded: Sensorineural hearing impairment (HP:0000407): onset ; excluded: Upslanted palpebral fissure (HP:0000582): onset ; excluded: Short neck (HP:0000470): onset ; excluded: Omphalocele (HP:0001539): onset ; excluded: Hepatomegaly (HP:0002240): onset </td></tr>\n",
       "<tr><td style=\"text-align: left;\">Individual BAB13793 (FEMALE)</td><td style=\"text-align: left;\">Robinow syndrome, autosomal dominant 2 (OMIM:616331)</td><td style=\"text-align: left;\">NM_001330311.2:c.1594del (heterozygous)</td><td style=\"text-align: left;\">Anteverted nares (HP:0000463): onset ; Triangular mouth (HP:0000207): onset ; Cleft palate (HP:0000175): onset ; Bifid tongue (HP:0010297): onset ; Clinodactyly (HP:0030084): onset ; Brachydactyly (HP:0001156): onset ; Short nose (HP:0003196): onset ; Gingival overgrowth (HP:0000212): onset ; Macrocephaly (HP:0000256): onset ; Short stature (HP:0004322): onset ; Midface retrusion (HP:0011800): onset ; Long philtrum (HP:0000343): onset ; High forehead (HP:0000348): onset ; Hearing impairment (HP:0000365): onset ; Wide nasal bridge (HP:0000431): onset ; excluded: Thin upper lip vermilion (HP:0000219): onset ; excluded: Absent uvula (HP:0010292): onset ; excluded: Broad thumb (HP:0011304): onset ; excluded: Broad hallux (HP:0010055): onset ; excluded: Camptodactyly (HP:0012385): onset ; excluded: Nail dysplasia (HP:0002164): onset ; excluded: Hypertelorism (HP:0000316): onset ; excluded: Umbilical hernia (HP:0001537): onset ; excluded: Inguinal hernia (HP:0000023): onset ; excluded: Mesomelia (HP:0003027): onset ; excluded: Micrognathia (HP:0000347): onset ; excluded: Scoliosis (HP:0002650): onset ; excluded: Upslanted palpebral fissure (HP:0000582): onset ; excluded: Long eyelashes (HP:0000527): onset ; excluded: Proptosis (HP:0000520): onset ; excluded: Blue sclerae (HP:0000592): onset ; excluded: Epicanthus (HP:0000286): onset ; excluded: Short neck (HP:0000470): onset ; excluded: Seizure (HP:0001250): onset ; excluded: Omphalocele (HP:0001539): onset ; excluded: Ventricular septal defect (HP:0001629): onset ; excluded: Abnormal atrial septum morphology (HP:0011994): onset ; excluded: Hepatomegaly (HP:0002240): onset </td></tr>\n",
       "<tr><td style=\"text-align: left;\">Individual BAB13797 (FEMALE)</td><td style=\"text-align: left;\">Robinow syndrome, autosomal dominant 2 (OMIM:616331)</td><td style=\"text-align: left;\">NM_001330311.2:c.1715-1G>T (heterozygous)</td><td style=\"text-align: left;\">Frontal bossing (HP:0002007): onset ; Anteverted nares (HP:0000463): onset ; Triangular mouth (HP:0000207): onset ; Clitoral hypoplasia (HP:0000060): onset ; Bifid tongue (HP:0010297): onset ; Broad hallux (HP:0010055): onset ; Clinodactyly (HP:0030084): onset ; Brachydactyly (HP:0001156): onset ; Nail dysplasia (HP:0002164): onset ; Hypertelorism (HP:0000316): onset ; Short nose (HP:0003196): onset ; Gingival overgrowth (HP:0000212): onset ; Macrocephaly (HP:0000256): onset ; Midface retrusion (HP:0011800): onset ; Long philtrum (HP:0000343): onset ; High forehead (HP:0000348): onset ; Wide nasal bridge (HP:0000431): onset ; Blue sclerae (HP:0000592): onset ; excluded: Thin upper lip vermilion (HP:0000219): onset ; excluded: Cleft palate (HP:0000175): onset ; excluded: Broad thumb (HP:0011304): onset ; excluded: Camptodactyly (HP:0012385): onset ; excluded: Short stature (HP:0004322): onset ; excluded: Umbilical hernia (HP:0001537): onset ; excluded: Mesomelia (HP:0003027): onset ; excluded: Micrognathia (HP:0000347): onset ; excluded: Scoliosis (HP:0002650): onset ; excluded: Conductive hearing impairment (HP:0000405): onset ; excluded: Sensorineural hearing impairment (HP:0000407): onset ; excluded: Upslanted palpebral fissure (HP:0000582): onset ; excluded: Long eyelashes (HP:0000527): onset ; excluded: Proptosis (HP:0000520): onset ; excluded: Epicanthus (HP:0000286): onset ; excluded: Short neck (HP:0000470): onset ; excluded: Sacral dimple (HP:0000960): onset ; excluded: Seizure (HP:0001250): onset ; excluded: Obstructive sleep apnea (HP:0002870): onset ; excluded: Omphalocele (HP:0001539): onset ; excluded: Ventricular septal defect (HP:0001629): onset ; excluded: Abnormal atrial septum morphology (HP:0011994): onset ; excluded: Hepatomegaly (HP:0002240): onset </td></tr>\n",
       "</table>"
      ],
      "text/plain": [
       "<IPython.core.display.HTML object>"
      ]
     },
     "metadata": {},
     "output_type": "display_data"
    }
   ],
   "source": [
    "table = IndividualTable(cvalidator.get_error_free_individual_list())\n",
    "display(HTML(table.to_html()))"
   ]
  },
  {
   "cell_type": "code",
   "execution_count": 36,
   "metadata": {},
   "outputs": [
    {
     "name": "stdout",
     "output_type": "stream",
     "text": [
      "[pyphetools] Ingested 16 GA4GH phenopackets.\n",
      "[INFO] Extracted 16 from 16 phenopackets with OMIM:616331\n",
      "\n",
      "\tRobinow syndrome, autosomal dominant 2 (OMIM:616331): n=16\n",
      "We found a total of 60 unique HPO terms\n",
      "Extracted disease: Robinow syndrome, autosomal dominant 2 (OMIM:616331)\n",
      "Wrote HPOA disease file to OMIM-616331.tab\n"
     ]
    },
    {
     "data": {
      "text/html": [
       "<div>\n",
       "<style scoped>\n",
       "    .dataframe tbody tr th:only-of-type {\n",
       "        vertical-align: middle;\n",
       "    }\n",
       "\n",
       "    .dataframe tbody tr th {\n",
       "        vertical-align: top;\n",
       "    }\n",
       "\n",
       "    .dataframe thead th {\n",
       "        text-align: right;\n",
       "    }\n",
       "</style>\n",
       "<table border=\"1\" class=\"dataframe\">\n",
       "  <thead>\n",
       "    <tr style=\"text-align: right;\">\n",
       "      <th></th>\n",
       "      <th>#diseaseID</th>\n",
       "      <th>diseaseName</th>\n",
       "      <th>phenotypeID</th>\n",
       "      <th>phenotypeName</th>\n",
       "      <th>onsetID</th>\n",
       "      <th>onsetName</th>\n",
       "      <th>frequency</th>\n",
       "      <th>sex</th>\n",
       "      <th>negation</th>\n",
       "      <th>modifier</th>\n",
       "      <th>description</th>\n",
       "      <th>publication</th>\n",
       "      <th>evidence</th>\n",
       "      <th>biocuration</th>\n",
       "    </tr>\n",
       "  </thead>\n",
       "  <tbody>\n",
       "    <tr>\n",
       "      <th>0</th>\n",
       "      <td>OMIM:616331</td>\n",
       "      <td>Robinow syndrome, autosomal dominant 2</td>\n",
       "      <td>HP:0002007</td>\n",
       "      <td>Frontal bossing</td>\n",
       "      <td></td>\n",
       "      <td></td>\n",
       "      <td>2/2</td>\n",
       "      <td></td>\n",
       "      <td></td>\n",
       "      <td></td>\n",
       "      <td></td>\n",
       "      <td>PMID:35047859</td>\n",
       "      <td>PCS</td>\n",
       "      <td>ORCID:0000-0002-0736-9199[2024-10-31]</td>\n",
       "    </tr>\n",
       "    <tr>\n",
       "      <th>1</th>\n",
       "      <td>OMIM:616331</td>\n",
       "      <td>Robinow syndrome, autosomal dominant 2</td>\n",
       "      <td>HP:0000463</td>\n",
       "      <td>Anteverted nares</td>\n",
       "      <td></td>\n",
       "      <td></td>\n",
       "      <td>3/3</td>\n",
       "      <td></td>\n",
       "      <td></td>\n",
       "      <td></td>\n",
       "      <td></td>\n",
       "      <td>PMID:35047859</td>\n",
       "      <td>PCS</td>\n",
       "      <td>ORCID:0000-0002-0736-9199[2024-10-31]</td>\n",
       "    </tr>\n",
       "    <tr>\n",
       "      <th>2</th>\n",
       "      <td>OMIM:616331</td>\n",
       "      <td>Robinow syndrome, autosomal dominant 2</td>\n",
       "      <td>HP:0000207</td>\n",
       "      <td>Triangular mouth</td>\n",
       "      <td></td>\n",
       "      <td></td>\n",
       "      <td>3/3</td>\n",
       "      <td></td>\n",
       "      <td></td>\n",
       "      <td></td>\n",
       "      <td></td>\n",
       "      <td>PMID:35047859</td>\n",
       "      <td>PCS</td>\n",
       "      <td>ORCID:0000-0002-0736-9199[2024-10-31]</td>\n",
       "    </tr>\n",
       "    <tr>\n",
       "      <th>3</th>\n",
       "      <td>OMIM:616331</td>\n",
       "      <td>Robinow syndrome, autosomal dominant 2</td>\n",
       "      <td>HP:0000060</td>\n",
       "      <td>Clitoral hypoplasia</td>\n",
       "      <td></td>\n",
       "      <td></td>\n",
       "      <td>1/1</td>\n",
       "      <td></td>\n",
       "      <td></td>\n",
       "      <td></td>\n",
       "      <td></td>\n",
       "      <td>PMID:35047859</td>\n",
       "      <td>PCS</td>\n",
       "      <td>ORCID:0000-0002-0736-9199[2024-10-31]</td>\n",
       "    </tr>\n",
       "    <tr>\n",
       "      <th>4</th>\n",
       "      <td>OMIM:616331</td>\n",
       "      <td>Robinow syndrome, autosomal dominant 2</td>\n",
       "      <td>HP:0010297</td>\n",
       "      <td>Bifid tongue</td>\n",
       "      <td></td>\n",
       "      <td></td>\n",
       "      <td>3/3</td>\n",
       "      <td></td>\n",
       "      <td></td>\n",
       "      <td></td>\n",
       "      <td></td>\n",
       "      <td>PMID:35047859</td>\n",
       "      <td>PCS</td>\n",
       "      <td>ORCID:0000-0002-0736-9199[2024-10-31]</td>\n",
       "    </tr>\n",
       "  </tbody>\n",
       "</table>\n",
       "</div>"
      ],
      "text/plain": [
       "    #diseaseID                             diseaseName phenotypeID  \\\n",
       "0  OMIM:616331  Robinow syndrome, autosomal dominant 2  HP:0002007   \n",
       "1  OMIM:616331  Robinow syndrome, autosomal dominant 2  HP:0000463   \n",
       "2  OMIM:616331  Robinow syndrome, autosomal dominant 2  HP:0000207   \n",
       "3  OMIM:616331  Robinow syndrome, autosomal dominant 2  HP:0000060   \n",
       "4  OMIM:616331  Robinow syndrome, autosomal dominant 2  HP:0010297   \n",
       "\n",
       "         phenotypeName onsetID onsetName frequency sex negation modifier  \\\n",
       "0      Frontal bossing                         2/2                         \n",
       "1     Anteverted nares                         3/3                         \n",
       "2     Triangular mouth                         3/3                         \n",
       "3  Clitoral hypoplasia                         1/1                         \n",
       "4         Bifid tongue                         3/3                         \n",
       "\n",
       "  description    publication evidence                            biocuration  \n",
       "0              PMID:35047859      PCS  ORCID:0000-0002-0736-9199[2024-10-31]  \n",
       "1              PMID:35047859      PCS  ORCID:0000-0002-0736-9199[2024-10-31]  \n",
       "2              PMID:35047859      PCS  ORCID:0000-0002-0736-9199[2024-10-31]  \n",
       "3              PMID:35047859      PCS  ORCID:0000-0002-0736-9199[2024-10-31]  \n",
       "4              PMID:35047859      PCS  ORCID:0000-0002-0736-9199[2024-10-31]  "
      ]
     },
     "execution_count": 36,
     "metadata": {},
     "output_type": "execute_result"
    }
   ],
   "source": [
    "pmid = \"PMID:25817016\"\n",
    "df = timporter.create_hpoa_from_phenopackets(pmid=pmid, mode_of_inheritance=Moi.AD, target=\"OMIM:616331\")\n",
    "df.head()"
   ]
  },
  {
   "cell_type": "code",
   "execution_count": null,
   "metadata": {},
   "outputs": [],
   "source": []
  }
 ],
 "metadata": {
  "kernelspec": {
   "display_name": "ps24venv",
   "language": "python",
   "name": "python3"
  },
  "language_info": {
   "codemirror_mode": {
    "name": "ipython",
    "version": 3
   },
   "file_extension": ".py",
   "mimetype": "text/x-python",
   "name": "python",
   "nbconvert_exporter": "python",
   "pygments_lexer": "ipython3",
   "version": "3.12.4"
  }
 },
 "nbformat": 4,
 "nbformat_minor": 2
}
