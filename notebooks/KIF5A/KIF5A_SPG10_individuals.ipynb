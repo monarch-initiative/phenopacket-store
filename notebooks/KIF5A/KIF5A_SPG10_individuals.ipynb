{
 "cells": [
  {
   "cell_type": "markdown",
   "metadata": {},
   "source": [
    "# KIF5A_SPG10_individuals\n",
    "[spastic paraplegia-10 (SPG10)](https://omim.org/entry/604187) is caused by heterozygous mutation in the kinesin-5A gene (KIF5A]."
   ]
  },
  {
   "cell_type": "code",
   "execution_count": 5,
   "metadata": {},
   "outputs": [
    {
     "name": "stdout",
     "output_type": "stream",
     "text": [
      "Using pyphetools version 0.9.82\n"
     ]
    }
   ],
   "source": [
    "from pyphetools.creation import TemplateImporter\n",
    "from pyphetools.visualization import IndividualTable, QcVisualizer\n",
    "from IPython.display import display, HTML\n",
    "import pyphetools\n",
    "print(f\"Using pyphetools version {pyphetools.__version__}\")"
   ]
  },
  {
   "cell_type": "code",
   "execution_count": 7,
   "metadata": {},
   "outputs": [],
   "source": [
    "template = \"input/KIF5A_SPG10_individuals.xlsx\"\n",
    "created_by = \"0000-0002-0736-9199\""
   ]
  },
  {
   "cell_type": "code",
   "execution_count": 10,
   "metadata": {},
   "outputs": [
    {
     "name": "stdout",
     "output_type": "stream",
     "text": [
      "HPO version 2024-04-26\n",
      "Created encoders for 44 fields\n",
      "Importing OMIM:604187, Spastic paraplegia 10, autosomal dominant, HGNC:6323, KIF5A,  NM_004984.4\n",
      "We output 5 GA4GH phenopackets to the directory phenopackets\n"
     ]
    }
   ],
   "source": [
    "timporter = TemplateImporter(template=template,  created_by=created_by)\n",
    "individual_list, cvalidator = timporter.import_phenopackets_from_template()"
   ]
  },
  {
   "cell_type": "code",
   "execution_count": 11,
   "metadata": {},
   "outputs": [
    {
     "data": {
      "text/html": [
       "<h2>Cohort validation</h2>\n",
       "<p>No errors found for the cohort with 5 individuals</p>"
      ],
      "text/plain": [
       "<IPython.core.display.HTML object>"
      ]
     },
     "metadata": {},
     "output_type": "display_data"
    }
   ],
   "source": [
    "qc = QcVisualizer(cohort_validator=cvalidator)\n",
    "display(HTML(qc.to_summary_html()))"
   ]
  },
  {
   "cell_type": "code",
   "execution_count": 12,
   "metadata": {},
   "outputs": [
    {
     "data": {
      "text/html": [
       "<table style=\"border: 2px solid black; align: \"left\">\n",
       "<caption>5 phenopackets - PMID:15452312 (n=4); PMID:30057544 (n=1)</caption>\n",
       "<tr><th style=\"text-align: left;font-weight: bold;\">Individual</th><th style=\"text-align: left;font-weight: bold;\">Disease</th><th style=\"text-align: left;font-weight: bold;\">Genotype</th><th style=\"text-align: left;font-weight: bold;\">Phenotypic features</th></tr>\n",
       "<tr><td style=\"text-align: left;\">II-5 (MALE; P73Y)</td><td style=\"text-align: left;\">Spastic paraplegia 10, autosomal dominant (OMIM:604187)</td><td style=\"text-align: left;\">NM_004984.4:c.838C>T (heterozygous)</td><td style=\"text-align: left;\">Spastic gait (HP:0002064); Impaired vibration sensation in the lower limbs (HP:0002166); Babinski sign (HP:0003487); Lower limb hyperreflexia (HP:0002395); Lower limb hypertonia (HP:0006895); Lower limb muscle weakness (HP:0007340); Upper limb muscle weakness (HP:0003484); Scoliosis (HP:0002650); Urinary urgency (HP:0000012); Pes cavus (HP:0001761); excluded: Ataxia (HP:0001251); excluded: Skeletal muscle atrophy (HP:0003202); excluded: Dementia (HP:0000726); excluded: Intellectual disability (HP:0001249); excluded: Retinal degeneration (HP:0000546)</td></tr>\n",
       "<tr><td style=\"text-align: left;\">II-10 (MALE; P75Y)</td><td style=\"text-align: left;\">Spastic paraplegia 10, autosomal dominant (OMIM:604187)</td><td style=\"text-align: left;\">NM_004984.4:c.838C>T (heterozygous)</td><td style=\"text-align: left;\">Spastic gait (HP:0002064); Impaired vibration sensation in the lower limbs (HP:0002166); Babinski sign (HP:0003487); Lower limb hyperreflexia (HP:0002395); Lower limb hypertonia (HP:0006895); Lower limb muscle weakness (HP:0007340); Upper limb muscle weakness (HP:0003484); Scoliosis (HP:0002650); Urinary urgency (HP:0000012); Pes cavus (HP:0001761); excluded: Ataxia (HP:0001251); excluded: Skeletal muscle atrophy (HP:0003202); excluded: Dementia (HP:0000726); excluded: Intellectual disability (HP:0001249); excluded: Retinal degeneration (HP:0000546)</td></tr>\n",
       "<tr><td style=\"text-align: left;\">III-5 (FEMALE; P39Y)</td><td style=\"text-align: left;\">Spastic paraplegia 10, autosomal dominant (OMIM:604187)</td><td style=\"text-align: left;\">NM_004984.4:c.838C>T (heterozygous)</td><td style=\"text-align: left;\">Spastic gait (HP:0002064); Babinski sign (HP:0003487); Lower limb hyperreflexia (HP:0002395); Lower limb hypertonia (HP:0006895); Lower limb muscle weakness (HP:0007340); excluded: Impaired vibration sensation in the lower limbs (HP:0002166); excluded: Ataxia (HP:0001251); excluded: Upper limb muscle weakness (HP:0003484); excluded: Skeletal muscle atrophy (HP:0003202); excluded: Scoliosis (HP:0002650); excluded: Urinary urgency (HP:0000012); excluded: Pes cavus (HP:0001761); excluded: Dementia (HP:0000726); excluded: Intellectual disability (HP:0001249); excluded: Retinal degeneration (HP:0000546)</td></tr>\n",
       "<tr><td style=\"text-align: left;\">III-10 (MALE; P34Y)</td><td style=\"text-align: left;\">Spastic paraplegia 10, autosomal dominant (OMIM:604187)</td><td style=\"text-align: left;\">NM_004984.4:c.838C>T (heterozygous)</td><td style=\"text-align: left;\">Spastic gait (HP:0002064); Impaired vibration sensation in the lower limbs (HP:0002166); Babinski sign (HP:0003487); Lower limb hyperreflexia (HP:0002395); Lower limb hypertonia (HP:0006895); Lower limb muscle weakness (HP:0007340); Pes cavus (HP:0001761); excluded: Ataxia (HP:0001251); excluded: Upper limb muscle weakness (HP:0003484); excluded: Skeletal muscle atrophy (HP:0003202); excluded: Scoliosis (HP:0002650); excluded: Urinary urgency (HP:0000012); excluded: Dementia (HP:0000726); excluded: Intellectual disability (HP:0001249); excluded: Retinal degeneration (HP:0000546)</td></tr>\n",
       "<tr><td style=\"text-align: left;\">nan (MALE; P31Y)</td><td style=\"text-align: left;\">Spastic paraplegia 10, autosomal dominant (OMIM:604187)</td><td style=\"text-align: left;\">NM_004984.4:c.610C>T (heterozygous)</td><td style=\"text-align: left;\"><b>P30Y</b>: Dysesthesia (HP:0012534)<br/>Spastic gait (HP:0002064); Ankle clonus (HP:0011448); Lower limb hypertonia (HP:0006895); Lower limb muscle weakness (HP:0007340); Leg muscle stiffness (HP:0008969); Clumsiness (HP:0002312); Paresthesia (HP:0003401); excluded: Ataxia (HP:0001251); excluded: Dementia (HP:0000726); excluded: Intellectual disability (HP:0001249)</td></tr>\n",
       "</table>"
      ],
      "text/plain": [
       "<IPython.core.display.HTML object>"
      ]
     },
     "metadata": {},
     "output_type": "display_data"
    }
   ],
   "source": [
    "table = IndividualTable(cvalidator.get_error_free_individual_list())\n",
    "display(HTML(table.to_html()))"
   ]
  }
 ],
 "metadata": {
  "kernelspec": {
   "display_name": "ps24venv",
   "language": "python",
   "name": "python3"
  },
  "language_info": {
   "codemirror_mode": {
    "name": "ipython",
    "version": 3
   },
   "file_extension": ".py",
   "mimetype": "text/x-python",
   "name": "python",
   "nbconvert_exporter": "python",
   "pygments_lexer": "ipython3",
   "version": "3.9.6"
  }
 },
 "nbformat": 4,
 "nbformat_minor": 2
}
