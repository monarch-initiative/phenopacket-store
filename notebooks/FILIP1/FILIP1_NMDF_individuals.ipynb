{
 "cells": [
  {
   "cell_type": "markdown",
   "metadata": {},
   "source": [
    "# FILIP\n",
    "[Congenital neuromuscular disorder with dysmorphic facies (NMDF)](https://omim.org/entry/620775) is caused by homozygous mutation in the FILIP1 gene."
   ]
  },
  {
   "cell_type": "code",
   "execution_count": 1,
   "metadata": {},
   "outputs": [
    {
     "name": "stdout",
     "output_type": "stream",
     "text": [
      "Using pyphetools version 0.9.105\n"
     ]
    }
   ],
   "source": [
    "from pyphetools.creation import TemplateImporter, Moi\n",
    "from pyphetools.visualization import IndividualTable, QcVisualizer\n",
    "from IPython.display import display, HTML\n",
    "import pyphetools\n",
    "print(f\"Using pyphetools version {pyphetools.__version__}\")"
   ]
  },
  {
   "cell_type": "code",
   "execution_count": 2,
   "metadata": {},
   "outputs": [],
   "source": [
    "template = \"input/FILIP1_NMDF_individuals.xlsx\"\n",
    "created_by = \"0000-0002-0736-9199\""
   ]
  },
  {
   "cell_type": "code",
   "execution_count": 3,
   "metadata": {},
   "outputs": [
    {
     "name": "stdout",
     "output_type": "stream",
     "text": [
      "HPO version 2024-08-13\n",
      "Created encoders for 91 fields\n",
      "Importing OMIM:620775, Neuromuscular disorder, congenital, with dysmorphic facies, HGNC:21015, FILIP1,  NM_015687.5\n",
      "We output 10 GA4GH phenopackets to the directory phenopackets\n"
     ]
    }
   ],
   "source": [
    "deletion_set = {\"Deletion of exons 3–6\"}\n",
    "timporter = TemplateImporter(template=template,  created_by=created_by)\n",
    "individual_list, cvalidator = timporter.import_phenopackets_from_template(deletions=deletion_set)"
   ]
  },
  {
   "cell_type": "code",
   "execution_count": 4,
   "metadata": {},
   "outputs": [
    {
     "data": {
      "text/html": [
       "<h2>Cohort validation</h2>\n",
       "<p>Errors found with 5 of 10 phenopackets.</p>\n",
       "<table style=\"border: 2px solid black; align: \"left\">\n",
       "<caption>Error counts</caption>\n",
       "<tr><th style=\"text-align: left;font-weight: bold;\">Level</th><th style=\"text-align: left;font-weight: bold;\">Error category</th><th style=\"text-align: left;font-weight: bold;\">Count</th></tr>\n",
       "<tr><td style=\"text-align: left;\">WARNING</td><td style=\"text-align: left;\">REDUNDANT</td><td style=\"text-align: left;\">5</td></tr>\n",
       "</table>\n",
       "<p>A total of 5 issues were fixed and no individual was removed from the cohort.</p>"
      ],
      "text/plain": [
       "<IPython.core.display.HTML object>"
      ]
     },
     "metadata": {},
     "output_type": "display_data"
    }
   ],
   "source": [
    "qc = QcVisualizer(cohort_validator=cvalidator)\n",
    "display(HTML(qc.to_summary_html()))"
   ]
  },
  {
   "cell_type": "code",
   "execution_count": 5,
   "metadata": {},
   "outputs": [
    {
     "data": {
      "text/html": [
       "<table style=\"border: 2px solid black; align: \"left\">\n",
       "<caption>10 phenopackets - PMID:36943452 (n=5); PMID:37163662 (n=5)</caption>\n",
       "<tr><th style=\"text-align: left;font-weight: bold;\">Individual</th><th style=\"text-align: left;font-weight: bold;\">Disease</th><th style=\"text-align: left;font-weight: bold;\">Genotype</th><th style=\"text-align: left;font-weight: bold;\">Phenotypic features</th></tr>\n",
       "<tr><td style=\"text-align: left;\">Family 1 individual III.1 (MALE; P12Y)</td><td style=\"text-align: left;\">Neuromuscular disorder, congenital, with dysmorphic facies (OMIM:620775)</td><td style=\"text-align: left;\">NM_015687.5:c.463G>T (homozygous)</td><td style=\"text-align: left;\">Shoulder contracture (HP:0034665): onset ; Elbow contracture (HP:0034391): onset ; Wrist flexion contracture (HP:0001239): onset ; Hip contracture (HP:0003273): onset ; Knee contracture (HP:0034671): onset ; Camptodactyly (HP:0012385): onset ; Delayed speech and language development (HP:0000750): onset ; Scapular winging (HP:0003691): onset ; Dermal translucency (HP:0010648): onset ; Limited elbow movement (HP:0002996): onset ; Limited hip movement (HP:0008800): onset ; Microcephaly (HP:0000252): onset ; Scoliosis (HP:0002650): onset ; Pectus excavatum (HP:0000767): onset ; Long face (HP:0000276): onset ; Downslanted palpebral fissures (HP:0000494): onset ; Webbed neck (HP:0000465): onset ; Bifid uvula (HP:0000193): onset ; High palate (HP:0000218): onset ; Micrognathia (HP:0000347): onset ; excluded: Rocker bottom foot (HP:0001838): onset ; excluded: Talipes equinovarus (HP:0001762): onset ; excluded: Overlapping fingers (HP:0010557): onset ; excluded: Syndactyly (HP:0001159): onset ; excluded: Global developmental delay (HP:0001263): onset ; excluded: Motor delay (HP:0001270): onset ; excluded: Short stature (HP:0004322): onset ; excluded: Cerebral palsy (HP:0100021): onset ; excluded: Decreased fetal movement (HP:0001558): onset ; excluded: Hypotonia (HP:0001252): onset ; excluded: Kyphosis (HP:0002808): onset ; excluded: Prominent nose (HP:0000448): onset ; excluded: Triangular face (HP:0000325): onset ; excluded: Epicanthus (HP:0000286): onset ; excluded: Anteverted nares (HP:0000463): onset ; excluded: Short neck (HP:0000470): onset ; excluded: Broad neck (HP:0000475): onset ; excluded: Low anterior hairline (HP:0000294): onset ; excluded: Long philtrum (HP:0000343): onset ; excluded: Short columella (HP:0002000): onset </td></tr>\n",
       "<tr><td style=\"text-align: left;\">Family 1 individual III.2 (MALE; P6Y)</td><td style=\"text-align: left;\">Neuromuscular disorder, congenital, with dysmorphic facies (OMIM:620775)</td><td style=\"text-align: left;\">NM_015687.5:c.463G>T (homozygous)</td><td style=\"text-align: left;\">Shoulder contracture (HP:0034665): onset ; Elbow contracture (HP:0034391): onset ; Wrist flexion contracture (HP:0001239): onset ; Hip contracture (HP:0003273): onset ; Knee contracture (HP:0034671): onset ; Talipes equinovarus (HP:0001762): onset ; Camptodactyly (HP:0012385): onset ; Global developmental delay (HP:0001263): onset ; Delayed speech and language development (HP:0000750): onset ; Motor delay (HP:0001270): onset ; Scapular winging (HP:0003691): onset ; Dermal translucency (HP:0010648): onset ; Limited elbow movement (HP:0002996): onset ; Limitation of knee mobility (HP:0010501): onset ; Limited hip movement (HP:0008800): onset ; Scoliosis (HP:0002650): onset ; Long face (HP:0000276): onset ; Downslanted palpebral fissures (HP:0000494): onset ; Webbed neck (HP:0000465): onset ; Bifid uvula (HP:0000193): onset ; High palate (HP:0000218): onset ; Micrognathia (HP:0000347): onset ; excluded: Rocker bottom foot (HP:0001838): onset ; excluded: Overlapping fingers (HP:0010557): onset ; excluded: Syndactyly (HP:0001159): onset ; excluded: Microcephaly (HP:0000252): onset ; excluded: Short stature (HP:0004322): onset ; excluded: Cerebral palsy (HP:0100021): onset ; excluded: Decreased fetal movement (HP:0001558): onset ; excluded: Hypotonia (HP:0001252): onset ; excluded: Kyphosis (HP:0002808): onset ; excluded: Prominent nose (HP:0000448): onset ; excluded: Triangular face (HP:0000325): onset ; excluded: Epicanthus (HP:0000286): onset ; excluded: Anteverted nares (HP:0000463): onset ; excluded: Short neck (HP:0000470): onset ; excluded: Broad neck (HP:0000475): onset ; excluded: Low anterior hairline (HP:0000294): onset ; excluded: Long philtrum (HP:0000343): onset ; excluded: Short columella (HP:0002000): onset </td></tr>\n",
       "<tr><td style=\"text-align: left;\">Family 1 individual III.3 (MALE; P5Y)</td><td style=\"text-align: left;\">Neuromuscular disorder, congenital, with dysmorphic facies (OMIM:620775)</td><td style=\"text-align: left;\">NM_015687.5:c.463G>T (homozygous)</td><td style=\"text-align: left;\">Shoulder contracture (HP:0034665): onset ; Elbow contracture (HP:0034391): onset ; Wrist flexion contracture (HP:0001239): onset ; Hip contracture (HP:0003273): onset ; Knee contracture (HP:0034671): onset ; Camptodactyly (HP:0012385): onset ; Global developmental delay (HP:0001263): onset ; Delayed speech and language development (HP:0000750): onset ; Motor delay (HP:0001270): onset ; Dermal translucency (HP:0010648): onset ; Limited elbow movement (HP:0002996): onset ; Scoliosis (HP:0002650): onset ; Long face (HP:0000276): onset ; Downslanted palpebral fissures (HP:0000494): onset ; Webbed neck (HP:0000465): onset ; Micrognathia (HP:0000347): onset ; excluded: Rocker bottom foot (HP:0001838): onset ; excluded: Talipes equinovarus (HP:0001762): onset ; excluded: Overlapping fingers (HP:0010557): onset ; excluded: Syndactyly (HP:0001159): onset ; excluded: Cerebral palsy (HP:0100021): onset ; excluded: Decreased fetal movement (HP:0001558): onset ; excluded: Hypotonia (HP:0001252): onset ; excluded: Kyphosis (HP:0002808): onset ; excluded: Prominent nose (HP:0000448): onset ; excluded: Triangular face (HP:0000325): onset ; excluded: Epicanthus (HP:0000286): onset ; excluded: Anteverted nares (HP:0000463): onset ; excluded: Short neck (HP:0000470): onset ; excluded: Broad neck (HP:0000475): onset ; excluded: Bifid uvula (HP:0000193): onset ; excluded: Low anterior hairline (HP:0000294): onset ; excluded: Long philtrum (HP:0000343): onset ; excluded: High palate (HP:0000218): onset ; excluded: Short columella (HP:0002000): onset </td></tr>\n",
       "<tr><td style=\"text-align: left;\">Family 2 individual III.3 (MALE; P7Y)</td><td style=\"text-align: left;\">Neuromuscular disorder, congenital, with dysmorphic facies (OMIM:620775)</td><td style=\"text-align: left;\">NM_015687.5:c.2665C>T (homozygous)</td><td style=\"text-align: left;\">Elbow contracture (HP:0034391): onset ; Wrist flexion contracture (HP:0001239): onset ; Positional foot deformity (HP:0005656): onset ; Camptodactyly (HP:0012385): onset ; Syndactyly (HP:0001159): onset ; Limited elbow movement (HP:0002996): onset ; Microcephaly (HP:0000252): onset ; Decreased fetal movement (HP:0001558): onset ; Hypotonia (HP:0001252): onset ; Scoliosis (HP:0002650): onset ; Kyphosis (HP:0002808): onset ; Triangular face (HP:0000325): onset ; Downslanted palpebral fissures (HP:0000494): onset ; Low anterior hairline (HP:0000294): onset ; Micrognathia (HP:0000347): onset ; excluded: Shoulder contracture (HP:0034665): onset ; excluded: Hip contracture (HP:0003273): onset ; excluded: Knee contracture (HP:0034671): onset ; excluded: Rocker bottom foot (HP:0001838): onset ; excluded: Talipes equinovarus (HP:0001762): onset ; excluded: Overlapping fingers (HP:0010557): onset ; excluded: Global developmental delay (HP:0001263): onset ; excluded: Delayed speech and language development (HP:0000750): onset ; excluded: Motor delay (HP:0001270): onset ; excluded: Dermal translucency (HP:0010648): onset ; excluded: Short stature (HP:0004322): onset ; excluded: Cerebral palsy (HP:0100021): onset ; excluded: Prominent nose (HP:0000448): onset ; excluded: Long face (HP:0000276): onset ; excluded: Epicanthus (HP:0000286): onset ; excluded: Anteverted nares (HP:0000463): onset ; excluded: Webbed neck (HP:0000465): onset ; excluded: Short neck (HP:0000470): onset ; excluded: Broad neck (HP:0000475): onset ; excluded: Bifid uvula (HP:0000193): onset ; excluded: Long philtrum (HP:0000343): onset ; excluded: High palate (HP:0000218): onset ; excluded: Short columella (HP:0002000): onset </td></tr>\n",
       "<tr><td style=\"text-align: left;\">Family 3 individual III.3 (MALE; P11M)</td><td style=\"text-align: left;\">Neuromuscular disorder, congenital, with dysmorphic facies (OMIM:620775)</td><td style=\"text-align: left;\">Deletion of exons 3–6: chromosomal_deletion (SO:1000029)</td><td style=\"text-align: left;\">Elbow contracture (HP:0034391): onset ; Knee contracture (HP:0034671): onset ; Positional foot deformity (HP:0005656): onset ; Rocker bottom foot (HP:0001838): onset ; Camptodactyly (HP:0012385): onset ; Overlapping fingers (HP:0010557): onset ; Dermal translucency (HP:0010648): onset ; Limited elbow movement (HP:0002996): onset ; Microcephaly (HP:0000252): onset ; Short stature (HP:0004322): onset ; Prominent nose (HP:0000448): onset ; Epicanthus (HP:0000286): onset ; Anteverted nares (HP:0000463): onset ; Short neck (HP:0000470): onset ; Broad neck (HP:0000475): onset ; Long philtrum (HP:0000343): onset ; Short columella (HP:0002000): onset ; excluded: Shoulder contracture (HP:0034665): onset ; excluded: Wrist flexion contracture (HP:0001239): onset ; excluded: Hip contracture (HP:0003273): onset ; excluded: Talipes equinovarus (HP:0001762): onset ; excluded: Syndactyly (HP:0001159): onset ; excluded: Global developmental delay (HP:0001263): onset ; excluded: Delayed speech and language development (HP:0000750): onset ; excluded: Motor delay (HP:0001270): onset ; excluded: Cerebral palsy (HP:0100021): onset ; excluded: Scoliosis (HP:0002650): onset ; excluded: Long face (HP:0000276): onset ; excluded: Triangular face (HP:0000325): onset ; excluded: Downslanted palpebral fissures (HP:0000494): onset ; excluded: Webbed neck (HP:0000465): onset ; excluded: Bifid uvula (HP:0000193): onset ; excluded: Low anterior hairline (HP:0000294): onset ; excluded: High palate (HP:0000218): onset ; excluded: Micrognathia (HP:0000347): onset </td></tr>\n",
       "<tr><td style=\"text-align: left;\">Family A Patient 1 (FEMALE; P15Y)</td><td style=\"text-align: left;\">Neuromuscular disorder, congenital, with dysmorphic facies (OMIM:620775)</td><td style=\"text-align: left;\">NM_015687.5:c.169C>T (homozygous)</td><td style=\"text-align: left;\">Global developmental delay (HP:0001263): onset ; Delayed speech and language development (HP:0000750): onset ; Motor delay (HP:0001270): onset ; Intellectual disability (HP:0001249): onset ; Scapular winging (HP:0003691): onset ; Spinal rigidity (HP:0003306): onset ; Scoliosis (HP:0002650): onset ; Kyphosis (HP:0002808): onset ; Ptosis (HP:0000508): onset ; Webbed neck (HP:0000465): onset ; High palate (HP:0000218): onset ; Gowers sign (HP:0003391): onset ; Exercise-induced myalgia (HP:0003738): onset ; Mildly elevated creatine kinase (HP:0008180): onset ; excluded: Adducted thumb (HP:0001181): onset ; excluded: Joint hypermobility (HP:0001382): onset ; excluded: Single transverse palmar crease (HP:0000954): onset ; excluded: Narrow mouth (HP:0000160): onset ; excluded: Microcephaly (HP:0000252): onset ; excluded: Cerebral palsy (HP:0100021): onset ; excluded: Cleft lip (HP:0410030): onset ; excluded: Cleft palate (HP:0000175): onset ; excluded: Ventricular septal defect (HP:0001629): onset ; excluded: Secundum atrial septal defect (HP:0001684): onset ; excluded: Semilobar holoprosencephaly (HP:0002507): onset ; excluded: Parietal encephalocele (HP:0011816): onset ; excluded: Seizure (HP:0001250): onset ; excluded: Visual impairment (HP:0000505): onset ; excluded: Diabetes insipidus (HP:0000873): onset ; excluded: Oligohydramnios (HP:0001562): onset <br/><b>TimeElement(element=OntologyClass(id=HP:0003577, label=Congenital onset))</b>: Elbow contracture (HP:0034391): onset ontology_class {\n",
       "  id: \"HP:0003577\"\n",
       "  label: \"Congenital onset\"\n",
       "}\n",
       "; Knee contracture (HP:0034671): onset ontology_class {\n",
       "  id: \"HP:0003577\"\n",
       "  label: \"Congenital onset\"\n",
       "}\n",
       "; Hypotonia (HP:0001252): onset ontology_class {\n",
       "  id: \"HP:0003577\"\n",
       "  label: \"Congenital onset\"\n",
       "}\n",
       "</td></tr>\n",
       "<tr><td style=\"text-align: left;\">Family A Patient 2 (FEMALE; P11Y)</td><td style=\"text-align: left;\">Neuromuscular disorder, congenital, with dysmorphic facies (OMIM:620775)</td><td style=\"text-align: left;\">NM_015687.5:c.169C>T (homozygous)</td><td style=\"text-align: left;\">Global developmental delay (HP:0001263): onset ; Delayed speech and language development (HP:0000750): onset ; Motor delay (HP:0001270): onset ; Intellectual disability (HP:0001249): onset ; Scapular winging (HP:0003691): onset ; Spinal rigidity (HP:0003306): onset ; Scoliosis (HP:0002650): onset ; Kyphosis (HP:0002808): onset ; Ptosis (HP:0000508): onset ; Webbed neck (HP:0000465): onset ; High palate (HP:0000218): onset ; excluded: Adducted thumb (HP:0001181): onset ; excluded: Joint hypermobility (HP:0001382): onset ; excluded: Single transverse palmar crease (HP:0000954): onset ; excluded: Narrow mouth (HP:0000160): onset ; excluded: Microcephaly (HP:0000252): onset ; excluded: Cerebral palsy (HP:0100021): onset ; excluded: Cleft lip (HP:0410030): onset ; excluded: Cleft palate (HP:0000175): onset ; excluded: Ventricular septal defect (HP:0001629): onset ; excluded: Secundum atrial septal defect (HP:0001684): onset ; excluded: Semilobar holoprosencephaly (HP:0002507): onset ; excluded: Parietal encephalocele (HP:0011816): onset ; excluded: Seizure (HP:0001250): onset ; excluded: Visual impairment (HP:0000505): onset ; excluded: Diabetes insipidus (HP:0000873): onset ; excluded: Oligohydramnios (HP:0001562): onset <br/><b>TimeElement(element=OntologyClass(id=HP:0003577, label=Congenital onset))</b>: Elbow contracture (HP:0034391): onset ontology_class {\n",
       "  id: \"HP:0003577\"\n",
       "  label: \"Congenital onset\"\n",
       "}\n",
       "; Knee contracture (HP:0034671): onset ontology_class {\n",
       "  id: \"HP:0003577\"\n",
       "  label: \"Congenital onset\"\n",
       "}\n",
       "; Hypotonia (HP:0001252): onset ontology_class {\n",
       "  id: \"HP:0003577\"\n",
       "  label: \"Congenital onset\"\n",
       "}\n",
       "</td></tr>\n",
       "<tr><td style=\"text-align: left;\">Family B Patient 3 (MALE; P5Y6M)</td><td style=\"text-align: left;\">Neuromuscular disorder, congenital, with dysmorphic facies (OMIM:620775)</td><td style=\"text-align: left;\">NM_015687.5:c.3398C>T (homozygous)</td><td style=\"text-align: left;\">Talipes equinovarus (HP:0001762): onset ; Global developmental delay (HP:0001263): onset ; Delayed speech and language development (HP:0000750): onset ; Motor delay (HP:0001270): onset ; Intellectual disability (HP:0001249): onset ; Adducted thumb (HP:0001181): onset ; Joint hypermobility (HP:0001382): onset ; Epicanthus (HP:0000286): onset ; Hypertelorism (HP:0000316): onset ; Wide nasal bridge (HP:0000431): onset ; excluded: Elbow contracture (HP:0034391): onset ; excluded: Knee contracture (HP:0034671): onset ; excluded: Single transverse palmar crease (HP:0000954): onset ; excluded: Narrow mouth (HP:0000160): onset ; excluded: Microcephaly (HP:0000252): onset ; excluded: Cerebral palsy (HP:0100021): onset ; excluded: Cleft lip (HP:0410030): onset ; excluded: Cleft palate (HP:0000175): onset ; excluded: Ventricular septal defect (HP:0001629): onset ; excluded: Secundum atrial septal defect (HP:0001684): onset ; excluded: Semilobar holoprosencephaly (HP:0002507): onset ; excluded: Parietal encephalocele (HP:0011816): onset ; excluded: Seizure (HP:0001250): onset ; excluded: Visual impairment (HP:0000505): onset ; excluded: Micropenis (HP:0000054): onset ; excluded: Cryptorchidism (HP:0000028): onset ; excluded: Diabetes insipidus (HP:0000873): onset ; excluded: Oligohydramnios (HP:0001562): onset <br/><b>TimeElement(element=OntologyClass(id=HP:0003623, label=Neonatal onset))</b>: Hypotonia (HP:0001252): onset ontology_class {\n",
       "  id: \"HP:0003623\"\n",
       "  label: \"Neonatal onset\"\n",
       "}\n",
       "<br/><b>TimeElement(element=Age(iso8601duration=P3Y6M))</b>: Scoliosis (HP:0002650): onset age {\n",
       "  iso8601duration: \"P3Y6M\"\n",
       "}\n",
       "</td></tr>\n",
       "<tr><td style=\"text-align: left;\">Family C Patient 4 (MALE; P1Y1M)</td><td style=\"text-align: left;\">Neuromuscular disorder, congenital, with dysmorphic facies (OMIM:620775)</td><td style=\"text-align: left;\">NM_015687.5:c.1150C>T (homozygous)</td><td style=\"text-align: left;\">Elbow contracture (HP:0034391): onset ; Hip contracture (HP:0003273): onset ; Knee contracture (HP:0034671): onset ; Global developmental delay (HP:0001263): onset ; Delayed speech and language development (HP:0000750): onset ; Motor delay (HP:0001270): onset ; Intellectual disability (HP:0001249): onset ; Microcephaly (HP:0000252): onset ; Cerebral palsy (HP:0100021): onset ; Hypertelorism (HP:0000316): onset ; Cleft lip (HP:0410030): onset ; Cleft palate (HP:0000175): onset ; Ventricular septal defect (HP:0001629): onset ; Secundum atrial septal defect (HP:0001684): onset ; Semilobar holoprosencephaly (HP:0002507): onset ; Seizure (HP:0001250): onset ; Visual impairment (HP:0000505): onset ; Micropenis (HP:0000054): onset ; Cryptorchidism (HP:0000028): onset ; Diabetes insipidus (HP:0000873): onset ; Oligohydramnios (HP:0001562): onset ; excluded: Adducted thumb (HP:0001181): onset ; excluded: Joint hypermobility (HP:0001382): onset ; excluded: Single transverse palmar crease (HP:0000954): onset ; excluded: Narrow mouth (HP:0000160): onset ; excluded: Parietal encephalocele (HP:0011816): onset <br/><b>TimeElement(element=OntologyClass(id=HP:0003623, label=Neonatal onset))</b>: Hypotonia (HP:0001252): onset ontology_class {\n",
       "  id: \"HP:0003623\"\n",
       "  label: \"Neonatal onset\"\n",
       "}\n",
       "</td></tr>\n",
       "<tr><td style=\"text-align: left;\">Family D Patient 5 (MALE; P5Y9M)</td><td style=\"text-align: left;\">Neuromuscular disorder, congenital, with dysmorphic facies (OMIM:620775)</td><td style=\"text-align: left;\">NM_015687.5:c.1156C>T (homozygous)</td><td style=\"text-align: left;\">Global developmental delay (HP:0001263): onset ; Delayed speech and language development (HP:0000750): onset ; Motor delay (HP:0001270): onset ; Intellectual disability (HP:0001249): onset ; Single transverse palmar crease (HP:0000954): onset ; Microcephaly (HP:0000252): onset ; Downslanted palpebral fissures (HP:0000494): onset ; Depressed nasal bridge (HP:0005280): onset ; Parietal encephalocele (HP:0011816): onset ; excluded: Adducted thumb (HP:0001181): onset ; excluded: Joint hypermobility (HP:0001382): onset ; excluded: Narrow mouth (HP:0000160): onset ; excluded: Cerebral palsy (HP:0100021): onset ; excluded: Cleft lip (HP:0410030): onset ; excluded: Cleft palate (HP:0000175): onset ; excluded: Ventricular septal defect (HP:0001629): onset ; excluded: Secundum atrial septal defect (HP:0001684): onset ; excluded: Semilobar holoprosencephaly (HP:0002507): onset ; excluded: Seizure (HP:0001250): onset ; excluded: Visual impairment (HP:0000505): onset ; excluded: Micropenis (HP:0000054): onset ; excluded: Cryptorchidism (HP:0000028): onset ; excluded: Diabetes insipidus (HP:0000873): onset </td></tr>\n",
       "</table>"
      ],
      "text/plain": [
       "<IPython.core.display.HTML object>"
      ]
     },
     "metadata": {},
     "output_type": "display_data"
    }
   ],
   "source": [
    "table = IndividualTable(cvalidator.get_error_free_individual_list())\n",
    "display(HTML(table.to_html()))"
   ]
  },
  {
   "cell_type": "code",
   "execution_count": 6,
   "metadata": {},
   "outputs": [
    {
     "name": "stdout",
     "output_type": "stream",
     "text": [
      "[pyphetools] Ingested 10 GA4GH phenopackets.\n",
      "[INFO] Extracted 10 from 10 phenopackets with OMIM:620775\n",
      "\n",
      "\tNeuromuscular disorder, congenital, with dysmorphic facies (OMIM:620775): n=10\n",
      "We found a total of 67 unique HPO terms\n",
      "Extracted disease: Neuromuscular disorder, congenital, with dysmorphic facies (OMIM:620775)\n",
      "Wrote HPOA disease file to OMIM-620775.tab\n"
     ]
    },
    {
     "data": {
      "text/html": [
       "<div>\n",
       "<style scoped>\n",
       "    .dataframe tbody tr th:only-of-type {\n",
       "        vertical-align: middle;\n",
       "    }\n",
       "\n",
       "    .dataframe tbody tr th {\n",
       "        vertical-align: top;\n",
       "    }\n",
       "\n",
       "    .dataframe thead th {\n",
       "        text-align: right;\n",
       "    }\n",
       "</style>\n",
       "<table border=\"1\" class=\"dataframe\">\n",
       "  <thead>\n",
       "    <tr style=\"text-align: right;\">\n",
       "      <th></th>\n",
       "      <th>#diseaseID</th>\n",
       "      <th>diseaseName</th>\n",
       "      <th>phenotypeID</th>\n",
       "      <th>phenotypeName</th>\n",
       "      <th>onsetID</th>\n",
       "      <th>onsetName</th>\n",
       "      <th>frequency</th>\n",
       "      <th>sex</th>\n",
       "      <th>negation</th>\n",
       "      <th>modifier</th>\n",
       "      <th>description</th>\n",
       "      <th>publication</th>\n",
       "      <th>evidence</th>\n",
       "      <th>biocuration</th>\n",
       "    </tr>\n",
       "  </thead>\n",
       "  <tbody>\n",
       "    <tr>\n",
       "      <th>0</th>\n",
       "      <td>OMIM:620775</td>\n",
       "      <td>Neuromuscular disorder, congenital, with dysmo...</td>\n",
       "      <td>HP:0034391</td>\n",
       "      <td>Elbow contracture</td>\n",
       "      <td></td>\n",
       "      <td></td>\n",
       "      <td>5/5</td>\n",
       "      <td></td>\n",
       "      <td></td>\n",
       "      <td></td>\n",
       "      <td></td>\n",
       "      <td>PMID:36943452</td>\n",
       "      <td>PCS</td>\n",
       "      <td>ORCID:0000-0002-0736-9199[2024-09-22]</td>\n",
       "    </tr>\n",
       "    <tr>\n",
       "      <th>1</th>\n",
       "      <td>OMIM:620775</td>\n",
       "      <td>Neuromuscular disorder, congenital, with dysmo...</td>\n",
       "      <td>HP:0001239</td>\n",
       "      <td>Wrist flexion contracture</td>\n",
       "      <td></td>\n",
       "      <td></td>\n",
       "      <td>4/5</td>\n",
       "      <td></td>\n",
       "      <td></td>\n",
       "      <td></td>\n",
       "      <td></td>\n",
       "      <td>PMID:36943452</td>\n",
       "      <td>PCS</td>\n",
       "      <td>ORCID:0000-0002-0736-9199[2024-09-22]</td>\n",
       "    </tr>\n",
       "    <tr>\n",
       "      <th>2</th>\n",
       "      <td>OMIM:620775</td>\n",
       "      <td>Neuromuscular disorder, congenital, with dysmo...</td>\n",
       "      <td>HP:0005656</td>\n",
       "      <td>Positional foot deformity</td>\n",
       "      <td></td>\n",
       "      <td></td>\n",
       "      <td>2/2</td>\n",
       "      <td></td>\n",
       "      <td></td>\n",
       "      <td></td>\n",
       "      <td></td>\n",
       "      <td>PMID:36943452</td>\n",
       "      <td>PCS</td>\n",
       "      <td>ORCID:0000-0002-0736-9199[2024-09-22]</td>\n",
       "    </tr>\n",
       "    <tr>\n",
       "      <th>3</th>\n",
       "      <td>OMIM:620775</td>\n",
       "      <td>Neuromuscular disorder, congenital, with dysmo...</td>\n",
       "      <td>HP:0012385</td>\n",
       "      <td>Camptodactyly</td>\n",
       "      <td></td>\n",
       "      <td></td>\n",
       "      <td>5/5</td>\n",
       "      <td></td>\n",
       "      <td></td>\n",
       "      <td></td>\n",
       "      <td></td>\n",
       "      <td>PMID:36943452</td>\n",
       "      <td>PCS</td>\n",
       "      <td>ORCID:0000-0002-0736-9199[2024-09-22]</td>\n",
       "    </tr>\n",
       "    <tr>\n",
       "      <th>4</th>\n",
       "      <td>OMIM:620775</td>\n",
       "      <td>Neuromuscular disorder, congenital, with dysmo...</td>\n",
       "      <td>HP:0001159</td>\n",
       "      <td>Syndactyly</td>\n",
       "      <td></td>\n",
       "      <td></td>\n",
       "      <td>1/5</td>\n",
       "      <td></td>\n",
       "      <td></td>\n",
       "      <td></td>\n",
       "      <td></td>\n",
       "      <td>PMID:36943452</td>\n",
       "      <td>PCS</td>\n",
       "      <td>ORCID:0000-0002-0736-9199[2024-09-22]</td>\n",
       "    </tr>\n",
       "  </tbody>\n",
       "</table>\n",
       "</div>"
      ],
      "text/plain": [
       "    #diseaseID                                        diseaseName phenotypeID  \\\n",
       "0  OMIM:620775  Neuromuscular disorder, congenital, with dysmo...  HP:0034391   \n",
       "1  OMIM:620775  Neuromuscular disorder, congenital, with dysmo...  HP:0001239   \n",
       "2  OMIM:620775  Neuromuscular disorder, congenital, with dysmo...  HP:0005656   \n",
       "3  OMIM:620775  Neuromuscular disorder, congenital, with dysmo...  HP:0012385   \n",
       "4  OMIM:620775  Neuromuscular disorder, congenital, with dysmo...  HP:0001159   \n",
       "\n",
       "               phenotypeName onsetID onsetName frequency sex negation  \\\n",
       "0          Elbow contracture                         5/5                \n",
       "1  Wrist flexion contracture                         4/5                \n",
       "2  Positional foot deformity                         2/2                \n",
       "3              Camptodactyly                         5/5                \n",
       "4                 Syndactyly                         1/5                \n",
       "\n",
       "  modifier description    publication evidence  \\\n",
       "0                       PMID:36943452      PCS   \n",
       "1                       PMID:36943452      PCS   \n",
       "2                       PMID:36943452      PCS   \n",
       "3                       PMID:36943452      PCS   \n",
       "4                       PMID:36943452      PCS   \n",
       "\n",
       "                             biocuration  \n",
       "0  ORCID:0000-0002-0736-9199[2024-09-22]  \n",
       "1  ORCID:0000-0002-0736-9199[2024-09-22]  \n",
       "2  ORCID:0000-0002-0736-9199[2024-09-22]  \n",
       "3  ORCID:0000-0002-0736-9199[2024-09-22]  \n",
       "4  ORCID:0000-0002-0736-9199[2024-09-22]  "
      ]
     },
     "execution_count": 6,
     "metadata": {},
     "output_type": "execute_result"
    }
   ],
   "source": [
    "pmid = \"PMID:36943452\"\n",
    "df = timporter.create_hpoa_from_phenopackets(pmid=pmid, mode_of_inheritance=Moi.AR, target=\"OMIM:620775\")\n",
    "df.head()"
   ]
  }
 ],
 "metadata": {
  "kernelspec": {
   "display_name": "ps24venv",
   "language": "python",
   "name": "python3"
  },
  "language_info": {
   "codemirror_mode": {
    "name": "ipython",
    "version": 3
   },
   "file_extension": ".py",
   "mimetype": "text/x-python",
   "name": "python",
   "nbconvert_exporter": "python",
   "pygments_lexer": "ipython3",
   "version": "3.12.4"
  }
 },
 "nbformat": 4,
 "nbformat_minor": 2
}
