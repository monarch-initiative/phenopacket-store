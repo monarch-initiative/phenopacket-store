{
 "cells": [
  {
   "cell_type": "markdown",
   "metadata": {},
   "source": [
    "# TGIF1\n",
    "[holoprosencephaly-4 (HPE4)](https://omim.org/entry/142946) is caused by heterozygous mutation in the TGIF gene."
   ]
  },
  {
   "cell_type": "code",
   "execution_count": 3,
   "metadata": {},
   "outputs": [
    {
     "name": "stdout",
     "output_type": "stream",
     "text": [
      "Using pyphetools version 0.9.91\n"
     ]
    }
   ],
   "source": [
    "from pyphetools.creation import TemplateImporter\n",
    "from pyphetools.visualization import IndividualTable, QcVisualizer\n",
    "from IPython.display import display, HTML\n",
    "import pyphetools\n",
    "print(f\"Using pyphetools version {pyphetools.__version__}\")"
   ]
  },
  {
   "cell_type": "code",
   "execution_count": 4,
   "metadata": {},
   "outputs": [],
   "source": [
    "template = \"input/TGIF1_HPE4_individuals.xlsx\"\n",
    "created_by = \"0000-0002-0736-9199\""
   ]
  },
  {
   "cell_type": "code",
   "execution_count": 6,
   "metadata": {},
   "outputs": [
    {
     "name": "stdout",
     "output_type": "stream",
     "text": [
      "HPO version 2024-04-26\n",
      "Created encoders for 33 fields\n",
      "Importing OMIM:142946, Holoprosencephaly 4, HGNC:11776, TGIF1,  NM_003244.4\n",
      "[INFO] encoding variant \"c.133G>T\"\n",
      "https://rest.variantvalidator.org/VariantValidator/variantvalidator/hg38/NM_003244.4%3Ac.133G>T/NM_003244.4?content-type=application%2Fjson\n",
      "[INFO] encoding variant \"c.140_141del\"\n",
      "https://rest.variantvalidator.org/VariantValidator/variantvalidator/hg38/NM_003244.4%3Ac.140_141del/NM_003244.4?content-type=application%2Fjson\n",
      "We output 2 GA4GH phenopackets to the directory phenopackets\n"
     ]
    }
   ],
   "source": [
    "timporter = TemplateImporter(template=template,  created_by=created_by)\n",
    "individual_list, cvalidator = timporter.import_phenopackets_from_template()"
   ]
  },
  {
   "cell_type": "code",
   "execution_count": 7,
   "metadata": {},
   "outputs": [
    {
     "data": {
      "text/html": [
       "<h2>Cohort validation</h2>\n",
       "<p>No errors found for the cohort with 2 individuals</p>"
      ],
      "text/plain": [
       "<IPython.core.display.HTML object>"
      ]
     },
     "metadata": {},
     "output_type": "display_data"
    }
   ],
   "source": [
    "qc = QcVisualizer(cohort_validator=cvalidator)\n",
    "display(HTML(qc.to_summary_html()))"
   ]
  },
  {
   "cell_type": "code",
   "execution_count": 8,
   "metadata": {},
   "outputs": [
    {
     "data": {
      "text/html": [
       "<table style=\"border: 2px solid black; align: \"left\">\n",
       "<caption>2 phenopackets - PMID:16962354 (n=2)</caption>\n",
       "<tr><th style=\"text-align: left;font-weight: bold;\">Individual</th><th style=\"text-align: left;font-weight: bold;\">Disease</th><th style=\"text-align: left;font-weight: bold;\">Genotype</th><th style=\"text-align: left;font-weight: bold;\">Phenotypic features</th></tr>\n",
       "<tr><td style=\"text-align: left;\">first mutation (MALE; n/a)</td><td style=\"text-align: left;\">Holoprosencephaly 4 (OMIM:142946)</td><td style=\"text-align: left;\">NM_003244.4:c.133G>T (heterozygous)</td><td style=\"text-align: left;\">Median cleft upper lip (HP:0000161); Median cleft palate (HP:0009099); Depressed nasal tip (HP:0000437); Absent nasal septal cartilage (HP:0005273); Microcephaly (HP:0000252); Aplasia of the premaxilla (HP:0010757); Seizure (HP:0001250); Diabetes insipidus (HP:0000873); Lobar holoprosencephaly (HP:0006870); excluded: Semilobar holoprosencephaly (HP:0002507)</td></tr>\n",
       "<tr><td style=\"text-align: left;\">second mutation (FEMALE; n/a)</td><td style=\"text-align: left;\">Holoprosencephaly 4 (OMIM:142946)</td><td style=\"text-align: left;\">NM_003244.4:c.140_141del (heterozygous)</td><td style=\"text-align: left;\">Median cleft upper lip (HP:0000161); Median cleft palate (HP:0009099); Depressed nasal bridge (HP:0005280); Microcephaly (HP:0000252); Aplasia of the olfactory tract (HP:0020128); Dystonia (HP:0001332); Diabetes insipidus (HP:0000873); Semilobar holoprosencephaly (HP:0002507); excluded: Lobar holoprosencephaly (HP:0006870)</td></tr>\n",
       "</table>"
      ],
      "text/plain": [
       "<IPython.core.display.HTML object>"
      ]
     },
     "metadata": {},
     "output_type": "display_data"
    }
   ],
   "source": [
    "table = IndividualTable(cvalidator.get_error_free_individual_list())\n",
    "display(HTML(table.to_html()))"
   ]
  },
  {
   "cell_type": "code",
   "execution_count": 9,
   "metadata": {},
   "outputs": [
    {
     "name": "stdout",
     "output_type": "stream",
     "text": [
      "[pyphetools] Ingested 2 GA4GH phenopackets.\n",
      "[INFO] Extracted 2 from 2 phenopackets with OMIM:142946\n",
      "\n",
      "\tHoloprosencephaly 4 (OMIM:142946): n=2\n",
      "We found a total of 13 unique HPO terms\n",
      "Extracted disease: Holoprosencephaly 4 (OMIM:142946)\n",
      "Wrote HPOA disease file to OMIM-142946.tab\n"
     ]
    }
   ],
   "source": [
    "pmid = \"PMID:16962354\"\n",
    "df = timporter.create_hpoa_from_phenopackets(pmid=pmid, moi=\"Autosomal dominant\", target=\"OMIM:142946\")"
   ]
  }
 ],
 "metadata": {
  "kernelspec": {
   "display_name": "ps24venv",
   "language": "python",
   "name": "python3"
  },
  "language_info": {
   "codemirror_mode": {
    "name": "ipython",
    "version": 3
   },
   "file_extension": ".py",
   "mimetype": "text/x-python",
   "name": "python",
   "nbconvert_exporter": "python",
   "pygments_lexer": "ipython3",
   "version": "3.9.6"
  }
 },
 "nbformat": 4,
 "nbformat_minor": 2
}
