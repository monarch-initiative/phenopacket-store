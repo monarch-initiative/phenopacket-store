{
 "cells": [
  {
   "cell_type": "markdown",
   "metadata": {},
   "source": [
    "# \n",
    "[Autoimmune disease with susceptibility to mycobacterium tuberculosis (AIMTBS)](https://omim.org/entry/621004) is caused by homozygous mutation in the PDCD1 "
   ]
  },
  {
   "cell_type": "code",
   "execution_count": 1,
   "metadata": {},
   "outputs": [
    {
     "name": "stdout",
     "output_type": "stream",
     "text": [
      "Using pyphetools version 0.9.117\n"
     ]
    }
   ],
   "source": [
    "from pyphetools.creation import TemplateImporter, Moi\n",
    "from pyphetools.visualization import IndividualTable, QcVisualizer\n",
    "from IPython.display import display, HTML\n",
    "import pyphetools\n",
    "print(f\"Using pyphetools version {pyphetools.__version__}\")"
   ]
  },
  {
   "cell_type": "code",
   "execution_count": 2,
   "metadata": {},
   "outputs": [],
   "source": [
    "template = \"input/PCDC1_AIMTBS_individuals.xlsx\"\n",
    "created_by = \"0000-0002-0736-9199\""
   ]
  },
  {
   "cell_type": "code",
   "execution_count": 3,
   "metadata": {},
   "outputs": [
    {
     "name": "stdout",
     "output_type": "stream",
     "text": [
      "HPO version 2025-01-16\n",
      "Created encoders for 42 fields\n",
      "Importing OMIM:621004, Autoimmune disease with susceptibility to mycobacterium tuberculosis, HGNC:8760, PDCD1,  NM_005018.3\n",
      "We output 1 GA4GH phenopackets to the directory phenopackets\n"
     ]
    }
   ],
   "source": [
    "timporter = TemplateImporter(template=template,  created_by=created_by)\n",
    "individual_list, cvalidator = timporter.import_phenopackets_from_template()"
   ]
  },
  {
   "cell_type": "code",
   "execution_count": 4,
   "metadata": {},
   "outputs": [
    {
     "data": {
      "text/html": [
       "<h2>Cohort validation</h2>\n",
       "<p>Errors found with 1 of 1 phenopackets.</p>\n",
       "<table style=\"border: 2px solid black; align: \"left\">\n",
       "<caption>Error counts</caption>\n",
       "<tr><th style=\"text-align: left;font-weight: bold;\">Level</th><th style=\"text-align: left;font-weight: bold;\">Error category</th><th style=\"text-align: left;font-weight: bold;\">Count</th></tr>\n",
       "<tr><td style=\"text-align: left;\">WARNING</td><td style=\"text-align: left;\">REDUNDANT</td><td style=\"text-align: left;\">1</td></tr>\n",
       "</table>\n",
       "<p>A total of 1 issues were fixed and no individual was removed from the cohort.</p>"
      ],
      "text/plain": [
       "<IPython.core.display.HTML object>"
      ]
     },
     "metadata": {},
     "output_type": "display_data"
    }
   ],
   "source": [
    "qc = QcVisualizer(cohort_validator=cvalidator)\n",
    "display(HTML(qc.to_summary_html()))"
   ]
  },
  {
   "cell_type": "code",
   "execution_count": 5,
   "metadata": {},
   "outputs": [
    {
     "data": {
      "text/html": [
       "<table style=\"border: 2px solid black; align: \"left\">\n",
       "<caption>1 phenopacket - PMID:34183838 (n=1)</caption>\n",
       "<tr><th style=\"text-align: left;font-weight: bold;\">Individual</th><th style=\"text-align: left;font-weight: bold;\">Disease</th><th style=\"text-align: left;font-weight: bold;\">Genotype</th><th style=\"text-align: left;font-weight: bold;\">Phenotypic features</th></tr>\n",
       "<tr><td style=\"text-align: left;\">patient (MALE; P11Y)</td><td style=\"text-align: left;\">Autoimmune disease with susceptibility to mycobacterium tuberculosis (OMIM:621004)</td><td style=\"text-align: left;\">NM_005018.3:c.105dup (homozygous)</td><td style=\"text-align: left;\">Hepatomegaly (HP:0002240): onset ; Splenomegaly (HP:0001744): onset ; Immune dysregulation (HP:0002958): onset ; Recurrent otitis media (HP:0000403): onset ; Verrucae (HP:0200043): onset ; excluded: Lymphadenopathy (HP:0002716): onset ; excluded: Abnormal circulating IgM concentration (HP:0410243): onset ; excluded: Abnormal circulating IgE concentration (HP:0410241): onset ; excluded: Anti-glutamic acid decarboxylase antibody positivity (HP:0025329): onset ; excluded: Anti-islet antigen-2 antibody positivity (HP:0034063): onset ; excluded: Pneumocystis jirovecii pneumonia (HP:0020102): onset <br/><b>TimeElement(element=Age(iso8601duration=P3Y))</b>: Type I diabetes mellitus (HP:0100651): onset age {\n",
       "  iso8601duration: \"P3Y\"\n",
       "}\n",
       "; Arthritis (HP:0001369): onset age {\n",
       "  iso8601duration: \"P3Y\"\n",
       "}\n",
       "; Hypothyroidism (HP:0000821): onset age {\n",
       "  iso8601duration: \"P3Y\"\n",
       "}\n",
       "<br/><b>TimeElement(element=Age(iso8601duration=P10Y))</b>: Respiratory failure (HP:0002878): onset age {\n",
       "  iso8601duration: \"P10Y\"\n",
       "}\n",
       "; Peritoneal abscess (HP:0100592): onset age {\n",
       "  iso8601duration: \"P10Y\"\n",
       "}\n",
       "; Positive bloodstream tuberculosis-induced T-cell-based interferon-gamma release assay (HP:6000901): onset age {\n",
       "  iso8601duration: \"P10Y\"\n",
       "}\n",
       "<br/><b>TimeElement(element=Age(iso8601duration=P10Y6M))</b>: Extrapulmonary tuberculosis (HP:0032271): onset age {\n",
       "  iso8601duration: \"P10Y6M\"\n",
       "}\n",
       "; Bone marrow hypocellularity (HP:0005528): onset age {\n",
       "  iso8601duration: \"P10Y6M\"\n",
       "}\n",
       "; Increased circulating IgG concentration (HP:0003237): onset age {\n",
       "  iso8601duration: \"P10Y6M\"\n",
       "}\n",
       "; Increased circulating IgA concentration (HP:0003261): onset age {\n",
       "  iso8601duration: \"P10Y6M\"\n",
       "}\n",
       "; Anti-insulin antibody positivity (HP:0034062): onset age {\n",
       "  iso8601duration: \"P10Y6M\"\n",
       "}\n",
       "<br/><b>TimeElement(element=Age(iso8601duration=P11Y))</b>: Diffuse alveolar hemorrhage (HP:0025420): onset age {\n",
       "  iso8601duration: \"P11Y\"\n",
       "}\n",
       "; Ground-glass opacification (HP:0025179): onset age {\n",
       "  iso8601duration: \"P11Y\"\n",
       "}\n",
       "</td></tr>\n",
       "</table>"
      ],
      "text/plain": [
       "<IPython.core.display.HTML object>"
      ]
     },
     "metadata": {},
     "output_type": "display_data"
    }
   ],
   "source": [
    "table = IndividualTable(cvalidator.get_error_free_individual_list())\n",
    "display(HTML(table.to_html()))"
   ]
  },
  {
   "cell_type": "code",
   "execution_count": 6,
   "metadata": {},
   "outputs": [
    {
     "name": "stdout",
     "output_type": "stream",
     "text": [
      "[pyphetools] Ingested 1 GA4GH phenopackets.\n",
      "[INFO] Extracted 1 from 1 phenopackets with OMIM:621004\n",
      "\n",
      "\tAutoimmune disease with susceptibility to mycobacterium tuberculosis (OMIM:621004): n=1\n",
      "We found a total of 24 unique HPO terms\n",
      "Extracted disease: Autoimmune disease with susceptibility to mycobacterium tuberculosis (OMIM:621004)\n",
      "Wrote HPOA disease file to OMIM-621004.tab\n"
     ]
    },
    {
     "data": {
      "text/html": [
       "<div>\n",
       "<style scoped>\n",
       "    .dataframe tbody tr th:only-of-type {\n",
       "        vertical-align: middle;\n",
       "    }\n",
       "\n",
       "    .dataframe tbody tr th {\n",
       "        vertical-align: top;\n",
       "    }\n",
       "\n",
       "    .dataframe thead th {\n",
       "        text-align: right;\n",
       "    }\n",
       "</style>\n",
       "<table border=\"1\" class=\"dataframe\">\n",
       "  <thead>\n",
       "    <tr style=\"text-align: right;\">\n",
       "      <th></th>\n",
       "      <th>#diseaseID</th>\n",
       "      <th>diseaseName</th>\n",
       "      <th>phenotypeID</th>\n",
       "      <th>phenotypeName</th>\n",
       "      <th>onsetID</th>\n",
       "      <th>onsetName</th>\n",
       "      <th>frequency</th>\n",
       "      <th>sex</th>\n",
       "      <th>negation</th>\n",
       "      <th>modifier</th>\n",
       "      <th>description</th>\n",
       "      <th>publication</th>\n",
       "      <th>evidence</th>\n",
       "      <th>biocuration</th>\n",
       "    </tr>\n",
       "  </thead>\n",
       "  <tbody>\n",
       "    <tr>\n",
       "      <th>0</th>\n",
       "      <td>OMIM:621004</td>\n",
       "      <td>Autoimmune disease with susceptibility to myco...</td>\n",
       "      <td>HP:0100651</td>\n",
       "      <td>Type I diabetes mellitus</td>\n",
       "      <td></td>\n",
       "      <td></td>\n",
       "      <td>1/1</td>\n",
       "      <td></td>\n",
       "      <td></td>\n",
       "      <td></td>\n",
       "      <td></td>\n",
       "      <td>PMID:34183838</td>\n",
       "      <td>PCS</td>\n",
       "      <td>ORCID:0000-0002-0736-9199[2025-02-03]</td>\n",
       "    </tr>\n",
       "    <tr>\n",
       "      <th>1</th>\n",
       "      <td>OMIM:621004</td>\n",
       "      <td>Autoimmune disease with susceptibility to myco...</td>\n",
       "      <td>HP:0001369</td>\n",
       "      <td>Arthritis</td>\n",
       "      <td></td>\n",
       "      <td></td>\n",
       "      <td>1/1</td>\n",
       "      <td></td>\n",
       "      <td></td>\n",
       "      <td></td>\n",
       "      <td></td>\n",
       "      <td>PMID:34183838</td>\n",
       "      <td>PCS</td>\n",
       "      <td>ORCID:0000-0002-0736-9199[2025-02-03]</td>\n",
       "    </tr>\n",
       "    <tr>\n",
       "      <th>2</th>\n",
       "      <td>OMIM:621004</td>\n",
       "      <td>Autoimmune disease with susceptibility to myco...</td>\n",
       "      <td>HP:0000821</td>\n",
       "      <td>Hypothyroidism</td>\n",
       "      <td></td>\n",
       "      <td></td>\n",
       "      <td>1/1</td>\n",
       "      <td></td>\n",
       "      <td></td>\n",
       "      <td></td>\n",
       "      <td></td>\n",
       "      <td>PMID:34183838</td>\n",
       "      <td>PCS</td>\n",
       "      <td>ORCID:0000-0002-0736-9199[2025-02-03]</td>\n",
       "    </tr>\n",
       "    <tr>\n",
       "      <th>3</th>\n",
       "      <td>OMIM:621004</td>\n",
       "      <td>Autoimmune disease with susceptibility to myco...</td>\n",
       "      <td>HP:0002878</td>\n",
       "      <td>Respiratory failure</td>\n",
       "      <td></td>\n",
       "      <td></td>\n",
       "      <td>1/1</td>\n",
       "      <td></td>\n",
       "      <td></td>\n",
       "      <td></td>\n",
       "      <td></td>\n",
       "      <td>PMID:34183838</td>\n",
       "      <td>PCS</td>\n",
       "      <td>ORCID:0000-0002-0736-9199[2025-02-03]</td>\n",
       "    </tr>\n",
       "    <tr>\n",
       "      <th>4</th>\n",
       "      <td>OMIM:621004</td>\n",
       "      <td>Autoimmune disease with susceptibility to myco...</td>\n",
       "      <td>HP:0100592</td>\n",
       "      <td>Peritoneal abscess</td>\n",
       "      <td></td>\n",
       "      <td></td>\n",
       "      <td>1/1</td>\n",
       "      <td></td>\n",
       "      <td></td>\n",
       "      <td></td>\n",
       "      <td></td>\n",
       "      <td>PMID:34183838</td>\n",
       "      <td>PCS</td>\n",
       "      <td>ORCID:0000-0002-0736-9199[2025-02-03]</td>\n",
       "    </tr>\n",
       "  </tbody>\n",
       "</table>\n",
       "</div>"
      ],
      "text/plain": [
       "    #diseaseID                                        diseaseName phenotypeID  \\\n",
       "0  OMIM:621004  Autoimmune disease with susceptibility to myco...  HP:0100651   \n",
       "1  OMIM:621004  Autoimmune disease with susceptibility to myco...  HP:0001369   \n",
       "2  OMIM:621004  Autoimmune disease with susceptibility to myco...  HP:0000821   \n",
       "3  OMIM:621004  Autoimmune disease with susceptibility to myco...  HP:0002878   \n",
       "4  OMIM:621004  Autoimmune disease with susceptibility to myco...  HP:0100592   \n",
       "\n",
       "              phenotypeName onsetID onsetName frequency sex negation modifier  \\\n",
       "0  Type I diabetes mellitus                         1/1                         \n",
       "1                 Arthritis                         1/1                         \n",
       "2            Hypothyroidism                         1/1                         \n",
       "3       Respiratory failure                         1/1                         \n",
       "4        Peritoneal abscess                         1/1                         \n",
       "\n",
       "  description    publication evidence                            biocuration  \n",
       "0              PMID:34183838      PCS  ORCID:0000-0002-0736-9199[2025-02-03]  \n",
       "1              PMID:34183838      PCS  ORCID:0000-0002-0736-9199[2025-02-03]  \n",
       "2              PMID:34183838      PCS  ORCID:0000-0002-0736-9199[2025-02-03]  \n",
       "3              PMID:34183838      PCS  ORCID:0000-0002-0736-9199[2025-02-03]  \n",
       "4              PMID:34183838      PCS  ORCID:0000-0002-0736-9199[2025-02-03]  "
      ]
     },
     "execution_count": 6,
     "metadata": {},
     "output_type": "execute_result"
    }
   ],
   "source": [
    "pmid = \"PMID:34183838\"\n",
    "df = timporter.create_hpoa_from_phenopackets(pmid=pmid, mode_of_inheritance=Moi.AR, target=\"OMIM:621004\")\n",
    "df.head()"
   ]
  }
 ],
 "metadata": {
  "kernelspec": {
   "display_name": "ps24venv",
   "language": "python",
   "name": "python3"
  },
  "language_info": {
   "codemirror_mode": {
    "name": "ipython",
    "version": 3
   },
   "file_extension": ".py",
   "mimetype": "text/x-python",
   "name": "python",
   "nbconvert_exporter": "python",
   "pygments_lexer": "ipython3",
   "version": "3.12.8"
  }
 },
 "nbformat": 4,
 "nbformat_minor": 2
}
