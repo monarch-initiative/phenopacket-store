{
 "cells": [
  {
   "cell_type": "markdown",
   "id": "bb3af7b9-358f-4487-ad65-c52cfd8e1edf",
   "metadata": {},
   "source": [
    "# PCDH19\n",
    "[developmental and epileptic encephalopathy-9 (DEE9)](https://omim.org/entry/300088) is caused by mutation in the gene encoding protocadherin-19."
   ]
  },
  {
   "cell_type": "code",
   "execution_count": 6,
   "id": "c540264c-e10d-425c-a626-55ec67528092",
   "metadata": {},
   "outputs": [
    {
     "name": "stdout",
     "output_type": "stream",
     "text": [
      "Using pyphetools version 0.9.74\n"
     ]
    }
   ],
   "source": [
    "from pyphetools.creation import TemplateImporter\n",
    "from pyphetools.visualization import IndividualTable, QcVisualizer\n",
    "from IPython.display import display, HTML\n",
    "import pyphetools\n",
    "print(f\"Using pyphetools version {pyphetools.__version__}\")"
   ]
  },
  {
   "cell_type": "code",
   "execution_count": 7,
   "id": "5bf8de55-c2e0-4e09-9a72-d6ff38849315",
   "metadata": {},
   "outputs": [],
   "source": [
    "template = \"input/PCDH19_DEE9_individuals.xlsx\"\n",
    "hp_json = \"../hp.json\"\n",
    "created_by = \"0000-0002-0736-9199\""
   ]
  },
  {
   "cell_type": "code",
   "execution_count": 9,
   "id": "dc953bb1-d874-47c5-9a73-a71f01c99a12",
   "metadata": {},
   "outputs": [
    {
     "name": "stdout",
     "output_type": "stream",
     "text": [
      "HPO version 2024-04-03\n",
      "Created encoders for 30 fields\n",
      "Importing OMIM:300088, Developmental and epileptic encephalopathy 9, HGNC:14270, PCDH19,  NM_001184880.2\n",
      "We output 7 GA4GH phenopackets to the directory phenopackets\n"
     ]
    }
   ],
   "source": [
    "timporter = TemplateImporter(template=template, hp_json=hp_json, created_by=created_by)\n",
    "individual_list, cvalidator = timporter.import_phenopackets_from_template()"
   ]
  },
  {
   "cell_type": "code",
   "execution_count": 10,
   "id": "2104430b-2e1b-4f1e-92d5-b73931059d9c",
   "metadata": {},
   "outputs": [
    {
     "data": {
      "text/html": [
       "<h2>Cohort validation</h2>\n",
       "<p>Errors found with 7 of 7 phenopackets.</p>\n",
       "<table style=\"border: 2px solid black; align: \"left\">\n",
       "<caption>Error counts</caption>\n",
       "<tr><th style=\"text-align: left;font-weight: bold;\">Level</th><th style=\"text-align: left;font-weight: bold;\">Error category</th><th style=\"text-align: left;font-weight: bold;\">Count</th></tr>\n",
       "<tr><td style=\"text-align: left;\">WARNING</td><td style=\"text-align: left;\">REDUNDANT</td><td style=\"text-align: left;\">12</td></tr>\n",
       "</table>\n",
       "<p>A total of 12 issues were fixed and no individual was removed from the cohort.</p>"
      ],
      "text/plain": [
       "<IPython.core.display.HTML object>"
      ]
     },
     "metadata": {},
     "output_type": "display_data"
    }
   ],
   "source": [
    "qc = QcVisualizer(cohort_validator=cvalidator)\n",
    "display(HTML(qc.to_summary_html()))"
   ]
  },
  {
   "cell_type": "code",
   "execution_count": 11,
   "id": "4fef2376-483d-4296-8ea0-5e1757db51d8",
   "metadata": {},
   "outputs": [
    {
     "data": {
      "text/html": [
       "<table style=\"border: 2px solid black; align: \"left\">\n",
       "<caption>7 phenopackets - PMID:30451291 (n=7)</caption>\n",
       "<tr><th style=\"text-align: left;font-weight: bold;\">Individual</th><th style=\"text-align: left;font-weight: bold;\">Disease</th><th style=\"text-align: left;font-weight: bold;\">Genotype</th><th style=\"text-align: left;font-weight: bold;\">Phenotypic features</th></tr>\n",
       "<tr><td style=\"text-align: left;\">I:6 (FEMALE; P68Y)</td><td style=\"text-align: left;\">Developmental and epileptic encephalopathy 9 (OMIM:300088)</td><td style=\"text-align: left;\">NM_001184880.2:c.695A>G (heterozygous)</td><td style=\"text-align: left;\">Seizure (HP:0001250); Psychosis (HP:0000709); excluded: Autistic behavior (HP:0000729); excluded: Delayed speech and language development (HP:0000750); excluded: Intellectual disability, severe (HP:0010864); excluded: Intellectual disability, moderate (HP:0002342); excluded: Intellectual disability, mild (HP:0001256); excluded: Status epilepticus (HP:0002133)</td></tr>\n",
       "<tr><td style=\"text-align: left;\">II:8 (FEMALE; P66Y)</td><td style=\"text-align: left;\">Developmental and epileptic encephalopathy 9 (OMIM:300088)</td><td style=\"text-align: left;\">NM_001184880.2:c.695A>G (heterozygous)</td><td style=\"text-align: left;\">Seizure (HP:0001250); excluded: Autistic behavior (HP:0000729); excluded: Psychosis (HP:0000709); excluded: Delayed speech and language development (HP:0000750); excluded: Intellectual disability, severe (HP:0010864); excluded: Intellectual disability, moderate (HP:0002342); excluded: Intellectual disability, mild (HP:0001256); excluded: Status epilepticus (HP:0002133)</td></tr>\n",
       "<tr><td style=\"text-align: left;\">IV:3 (FEMALE; P14Y)</td><td style=\"text-align: left;\">Developmental and epileptic encephalopathy 9 (OMIM:300088)</td><td style=\"text-align: left;\">NM_001184880.2:c.695A>G (heterozygous)</td><td style=\"text-align: left;\"><b>P2Y6M</b>: Bilateral tonic-clonic seizure (HP:0002069)<br/>Intellectual disability, moderate (HP:0002342); excluded: Autistic behavior (HP:0000729); excluded: Psychosis (HP:0000709); excluded: Delayed speech and language development (HP:0000750); excluded: Intellectual disability, severe (HP:0010864); excluded: Intellectual disability, mild (HP:0001256); excluded: Status epilepticus (HP:0002133)</td></tr>\n",
       "<tr><td style=\"text-align: left;\">IV:4 (FEMALE; P12Y)</td><td style=\"text-align: left;\">Developmental and epileptic encephalopathy 9 (OMIM:300088)</td><td style=\"text-align: left;\">NM_001184880.2:c.695A>G (heterozygous)</td><td style=\"text-align: left;\"><b>P1Y7M</b>: Bilateral tonic-clonic seizure (HP:0002069)<br/>Autistic behavior (HP:0000729); Delayed speech and language development (HP:0000750); Intellectual disability, severe (HP:0010864); excluded: Psychosis (HP:0000709); excluded: Intellectual disability, moderate (HP:0002342); excluded: Intellectual disability, mild (HP:0001256); excluded: Status epilepticus (HP:0002133)</td></tr>\n",
       "<tr><td style=\"text-align: left;\">IV:5 (FEMALE; P10Y)</td><td style=\"text-align: left;\">Developmental and epileptic encephalopathy 9 (OMIM:300088)</td><td style=\"text-align: left;\">NM_001184880.2:c.695A>G (heterozygous)</td><td style=\"text-align: left;\"><b>P8M</b>: Bilateral tonic-clonic seizure (HP:0002069)<br/>Autistic behavior (HP:0000729); Delayed speech and language development (HP:0000750); Intellectual disability, severe (HP:0010864); excluded: Psychosis (HP:0000709); excluded: Intellectual disability, moderate (HP:0002342); excluded: Intellectual disability, mild (HP:0001256); excluded: Status epilepticus (HP:0002133)</td></tr>\n",
       "<tr><td style=\"text-align: left;\">IV:11 (FEMALE; P22Y)</td><td style=\"text-align: left;\">Developmental and epileptic encephalopathy 9 (OMIM:300088)</td><td style=\"text-align: left;\">NM_001184880.2:c.695A>G (heterozygous)</td><td style=\"text-align: left;\"><b>P1Y7M</b>: Bilateral tonic-clonic seizure (HP:0002069)<br/>Autistic behavior (HP:0000729); Intellectual disability, mild (HP:0001256); excluded: Psychosis (HP:0000709); excluded: Delayed speech and language development (HP:0000750); excluded: Intellectual disability, severe (HP:0010864); excluded: Intellectual disability, moderate (HP:0002342); excluded: Status epilepticus (HP:0002133)</td></tr>\n",
       "<tr><td style=\"text-align: left;\">V:1 (FEMALE; P6Y)</td><td style=\"text-align: left;\">Developmental and epileptic encephalopathy 9 (OMIM:300088)</td><td style=\"text-align: left;\">NM_001184880.2:c.695A>G (heterozygous)</td><td style=\"text-align: left;\"><b>P1Y7M</b>: Bilateral tonic-clonic seizure (HP:0002069)<br/>Intellectual disability, mild (HP:0001256); excluded: Autistic behavior (HP:0000729); excluded: Psychosis (HP:0000709); excluded: Delayed speech and language development (HP:0000750); excluded: Intellectual disability, severe (HP:0010864); excluded: Intellectual disability, moderate (HP:0002342); excluded: Status epilepticus (HP:0002133)</td></tr>\n",
       "</table>"
      ],
      "text/plain": [
       "<IPython.core.display.HTML object>"
      ]
     },
     "metadata": {},
     "output_type": "display_data"
    }
   ],
   "source": [
    "table = IndividualTable(cvalidator.get_error_free_individual_list())\n",
    "display(HTML(table.to_html()))"
   ]
  },
  {
   "cell_type": "code",
   "execution_count": null,
   "id": "7349d93d-ba3f-438f-825b-834605eeb61d",
   "metadata": {},
   "outputs": [],
   "source": []
  }
 ],
 "metadata": {
  "kernelspec": {
   "display_name": "ps24venv",
   "language": "python",
   "name": "ps24venv"
  },
  "language_info": {
   "codemirror_mode": {
    "name": "ipython",
    "version": 3
   },
   "file_extension": ".py",
   "mimetype": "text/x-python",
   "name": "python",
   "nbconvert_exporter": "python",
   "pygments_lexer": "ipython3",
   "version": "3.8.10"
  }
 },
 "nbformat": 4,
 "nbformat_minor": 5
}
