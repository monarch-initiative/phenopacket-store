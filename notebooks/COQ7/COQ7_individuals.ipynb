{
 "cells": [
  {
   "cell_type": "markdown",
   "id": "32d586ba-2de8-4f1f-a921-a9963d8a42f1",
   "metadata": {},
   "source": [
    "# COQ7\n",
    "Pathogenic variants in COQ7 are associated with [Neuronopathy, distal hereditary motor, autosomal recessive 9](https://omim.org/entry/620402)."
   ]
  },
  {
   "cell_type": "code",
   "execution_count": 1,
   "id": "5aedf096-a2df-4231-b86f-bede7e31ff0a",
   "metadata": {},
   "outputs": [
    {
     "name": "stdout",
     "output_type": "stream",
     "text": [
      "Using pyphetools version 0.9.56\n"
     ]
    }
   ],
   "source": [
    "import pandas as pd\n",
    "from IPython.display import display, HTML\n",
    "pd.set_option('display.max_colwidth', None) # show entire column contents, important!\n",
    "from collections import defaultdict\n",
    "from pyphetools.creation import *\n",
    "from pyphetools.visualization import *\n",
    "from pyphetools.validation import *\n",
    "import pyphetools\n",
    "print(f\"Using pyphetools version {pyphetools.__version__}\")"
   ]
  },
  {
   "cell_type": "code",
   "execution_count": 2,
   "id": "9a193c93-27d3-450b-be57-ff30765ef54a",
   "metadata": {},
   "outputs": [
    {
     "name": "stdout",
     "output_type": "stream",
     "text": [
      "HPO version 2024-02-27\n"
     ]
    }
   ],
   "source": [
    "parser = HpoParser(hpo_json_file=\"../hp.json\")\n",
    "hpo_cr = parser.get_hpo_concept_recognizer()\n",
    "hpo_version = parser.get_version()\n",
    "hpo_ontology = parser.get_ontology()\n",
    "created_by=\"ORCID:0000-0002-0736-9199\"\n",
    "print(f\"HPO version {hpo_version}\")"
   ]
  },
  {
   "cell_type": "code",
   "execution_count": 3,
   "id": "1a112a69-45ac-4456-b022-b43f36e2e013",
   "metadata": {},
   "outputs": [
    {
     "data": {
      "text/html": [
       "<div>\n",
       "<style scoped>\n",
       "    .dataframe tbody tr th:only-of-type {\n",
       "        vertical-align: middle;\n",
       "    }\n",
       "\n",
       "    .dataframe tbody tr th {\n",
       "        vertical-align: top;\n",
       "    }\n",
       "\n",
       "    .dataframe thead th {\n",
       "        text-align: right;\n",
       "    }\n",
       "</style>\n",
       "<table border=\"1\" class=\"dataframe\">\n",
       "  <thead>\n",
       "    <tr style=\"text-align: right;\">\n",
       "      <th></th>\n",
       "      <th>PMID</th>\n",
       "      <th>title</th>\n",
       "      <th>individual_id</th>\n",
       "      <th>comment</th>\n",
       "      <th>disease_id</th>\n",
       "      <th>disease_label</th>\n",
       "      <th>transcript</th>\n",
       "      <th>allele_1</th>\n",
       "      <th>allele_2</th>\n",
       "      <th>variant.comment</th>\n",
       "      <th>...</th>\n",
       "      <th>Hoffmann sign</th>\n",
       "      <th>Babinski sign</th>\n",
       "      <th>Disturbed sensory perception</th>\n",
       "      <th>Dementia</th>\n",
       "      <th>Lower limb amyotrophy</th>\n",
       "      <th>Fasciculations</th>\n",
       "      <th>Gowers sign</th>\n",
       "      <th>Increased variability in muscle fiber diameter</th>\n",
       "      <th>Oligohydramnios</th>\n",
       "      <th>Premature birth</th>\n",
       "    </tr>\n",
       "  </thead>\n",
       "  <tbody>\n",
       "    <tr>\n",
       "      <th>0</th>\n",
       "      <td>str</td>\n",
       "      <td>str</td>\n",
       "      <td>str</td>\n",
       "      <td>optional str</td>\n",
       "      <td>str</td>\n",
       "      <td>str</td>\n",
       "      <td>str</td>\n",
       "      <td>str</td>\n",
       "      <td>str</td>\n",
       "      <td>optional str</td>\n",
       "      <td>...</td>\n",
       "      <td>HP:0031993</td>\n",
       "      <td>HP:0003487</td>\n",
       "      <td>HP:0010524</td>\n",
       "      <td>HP:0000726</td>\n",
       "      <td>HP:0007210</td>\n",
       "      <td>HP:0002380</td>\n",
       "      <td>HP:0003391</td>\n",
       "      <td>HP:0003557</td>\n",
       "      <td>HP:0001562</td>\n",
       "      <td>HP:0001622</td>\n",
       "    </tr>\n",
       "    <tr>\n",
       "      <th>1</th>\n",
       "      <td>PMID:36454683</td>\n",
       "      <td>Homozygous COQ7 mutation: a new cause of potentially treatable distal hereditary motor neuropathy</td>\n",
       "      <td>II-2</td>\n",
       "      <td>NaN</td>\n",
       "      <td>OMIM:620402</td>\n",
       "      <td>Neuronopathy, distal hereditary motor, autosomal recessive 9</td>\n",
       "      <td>NM_016138.5</td>\n",
       "      <td>c.3G&gt;T</td>\n",
       "      <td>c.3G&gt;T</td>\n",
       "      <td>NP_057222.2, p.Met1?</td>\n",
       "      <td>...</td>\n",
       "      <td>observed</td>\n",
       "      <td>excluded</td>\n",
       "      <td>excluded</td>\n",
       "      <td>excluded</td>\n",
       "      <td>observed</td>\n",
       "      <td>excluded</td>\n",
       "      <td>excluded</td>\n",
       "      <td>na</td>\n",
       "      <td>NaN</td>\n",
       "      <td>NaN</td>\n",
       "    </tr>\n",
       "  </tbody>\n",
       "</table>\n",
       "<p>2 rows × 31 columns</p>\n",
       "</div>"
      ],
      "text/plain": [
       "            PMID  \\\n",
       "0            str   \n",
       "1  PMID:36454683   \n",
       "\n",
       "                                                                                               title  \\\n",
       "0                                                                                                str   \n",
       "1  Homozygous COQ7 mutation: a new cause of potentially treatable distal hereditary motor neuropathy   \n",
       "\n",
       "  individual_id       comment   disease_id  \\\n",
       "0           str  optional str          str   \n",
       "1          II-2           NaN  OMIM:620402   \n",
       "\n",
       "                                                  disease_label   transcript  \\\n",
       "0                                                           str          str   \n",
       "1  Neuronopathy, distal hereditary motor, autosomal recessive 9  NM_016138.5   \n",
       "\n",
       "  allele_1 allele_2       variant.comment  ... Hoffmann sign Babinski sign  \\\n",
       "0      str      str          optional str  ...    HP:0031993    HP:0003487   \n",
       "1   c.3G>T   c.3G>T  NP_057222.2, p.Met1?  ...      observed      excluded   \n",
       "\n",
       "  Disturbed sensory perception    Dementia Lower limb amyotrophy  \\\n",
       "0                   HP:0010524  HP:0000726            HP:0007210   \n",
       "1                     excluded    excluded              observed   \n",
       "\n",
       "  Fasciculations Gowers sign Increased variability in muscle fiber diameter  \\\n",
       "0     HP:0002380  HP:0003391                                     HP:0003557   \n",
       "1       excluded    excluded                                             na   \n",
       "\n",
       "  Oligohydramnios Premature birth  \n",
       "0      HP:0001562      HP:0001622  \n",
       "1             NaN             NaN  \n",
       "\n",
       "[2 rows x 31 columns]"
      ]
     },
     "execution_count": 3,
     "metadata": {},
     "output_type": "execute_result"
    }
   ],
   "source": [
    "df = pd.read_excel(\"input/COQ7_individuals.xlsx\")\n",
    "df.head(2)"
   ]
  },
  {
   "cell_type": "code",
   "execution_count": 4,
   "id": "e2ced17e-0dfa-4b77-8e35-8f918d69ebc8",
   "metadata": {},
   "outputs": [
    {
     "name": "stdout",
     "output_type": "stream",
     "text": [
      "Created encoders for 31 fields\n"
     ]
    }
   ],
   "source": [
    "encoder = CaseTemplateEncoder(df=df, hpo_cr=hpo_cr, created_by=created_by)\n",
    "individuals = encoder.get_individuals()"
   ]
  },
  {
   "cell_type": "code",
   "execution_count": 5,
   "id": "8a5aaf46-dcf8-4344-a771-aaf4fb16fdc4",
   "metadata": {},
   "outputs": [
    {
     "name": "stdout",
     "output_type": "stream",
     "text": [
      "[INFO] encoding variant \"c.1A>G\"\n",
      "https://rest.variantvalidator.org/VariantValidator/variantvalidator/hg38/NM_016138.5%3Ac.1A>G/NM_016138.5?content-type=application%2Fjson\n",
      "[INFO] encoding variant \"c.3G>T\"\n",
      "https://rest.variantvalidator.org/VariantValidator/variantvalidator/hg38/NM_016138.5%3Ac.3G>T/NM_016138.5?content-type=application%2Fjson\n"
     ]
    }
   ],
   "source": [
    "COQ7_transcript = \"NM_016138.5\"\n",
    "vmanager = VariantManager(df=df,\n",
    "                          individual_column_name=\"individual_id\",\n",
    "                          gene_symbol=\"COQ7\",\n",
    "                          transcript=COQ7_transcript,\n",
    "                          allele_1_column_name=\"allele_1\",\n",
    "                          allele_2_column_name=\"allele_2\")"
   ]
  },
  {
   "cell_type": "code",
   "execution_count": 6,
   "id": "abedfece-a9ef-4d5f-9d8c-95b709d56658",
   "metadata": {},
   "outputs": [
    {
     "data": {
      "text/html": [
       "<div>\n",
       "<style scoped>\n",
       "    .dataframe tbody tr th:only-of-type {\n",
       "        vertical-align: middle;\n",
       "    }\n",
       "\n",
       "    .dataframe tbody tr th {\n",
       "        vertical-align: top;\n",
       "    }\n",
       "\n",
       "    .dataframe thead th {\n",
       "        text-align: right;\n",
       "    }\n",
       "</style>\n",
       "<table border=\"1\" class=\"dataframe\">\n",
       "  <thead>\n",
       "    <tr style=\"text-align: right;\">\n",
       "      <th></th>\n",
       "      <th>status</th>\n",
       "      <th>count</th>\n",
       "      <th>alleles</th>\n",
       "    </tr>\n",
       "  </thead>\n",
       "  <tbody>\n",
       "    <tr>\n",
       "      <th>0</th>\n",
       "      <td>mapped</td>\n",
       "      <td>2</td>\n",
       "      <td>c.1A&gt;G, c.3G&gt;T</td>\n",
       "    </tr>\n",
       "    <tr>\n",
       "      <th>1</th>\n",
       "      <td>unmapped</td>\n",
       "      <td>0</td>\n",
       "      <td></td>\n",
       "    </tr>\n",
       "  </tbody>\n",
       "</table>\n",
       "</div>"
      ],
      "text/plain": [
       "     status  count         alleles\n",
       "0    mapped      2  c.1A>G, c.3G>T\n",
       "1  unmapped      0                "
      ]
     },
     "execution_count": 6,
     "metadata": {},
     "output_type": "execute_result"
    }
   ],
   "source": [
    "vmanager.to_summary()"
   ]
  },
  {
   "cell_type": "code",
   "execution_count": 7,
   "id": "568be823-933e-47fe-8411-b0697a8afbbd",
   "metadata": {},
   "outputs": [],
   "source": [
    "vmanager.add_variants_to_individuals(individuals)"
   ]
  },
  {
   "cell_type": "code",
   "execution_count": 8,
   "id": "916966fa-5032-4bcd-b162-d0f43d98bca8",
   "metadata": {},
   "outputs": [
    {
     "data": {
      "text/html": [
       "<h2>Cohort validation</h2>\n",
       "<p>No errors found for the cohort with 6 individuals</p>"
      ],
      "text/plain": [
       "<IPython.core.display.HTML object>"
      ]
     },
     "metadata": {},
     "output_type": "display_data"
    }
   ],
   "source": [
    "cvalidator = CohortValidator(cohort=individuals, ontology=hpo_ontology, min_hpo=1,\n",
    "                                allelic_requirement=AllelicRequirement.BI_ALLELIC)\n",
    "qc = QcVisualizer(cohort_validator=cvalidator)\n",
    "display(HTML(qc.to_summary_html()))"
   ]
  },
  {
   "cell_type": "code",
   "execution_count": 9,
   "id": "6ce0643b-c55e-4200-95fd-a58e350b9b44",
   "metadata": {},
   "outputs": [
    {
     "data": {
      "text/html": [
       "<table style=\"border: 2px solid black; align: \"left\">\n",
       "<caption>6 phenopackets - PMID:36454683 (n=3); PMID:37077559 (n=3)</caption>\n",
       "<tr><th style=\"text-align: left;font-weight: bold;\">Individual</th><th style=\"text-align: left;font-weight: bold;\">Disease</th><th style=\"text-align: left;font-weight: bold;\">Genotype</th><th style=\"text-align: left;font-weight: bold;\">Phenotypic features</th></tr>\n",
       "<tr><td style=\"text-align: left;\">II-2 (MALE; P36Y)</td><td style=\"text-align: left;\">Neuronopathy, distal hereditary motor, autosomal recessive 9 (OMIM:620402)</td><td style=\"text-align: left;\">NM_016138.5:c.3G>T (homozygous)</td><td style=\"text-align: left;\"><b>P12Y</b>: Difficulty walking (HP:0002355)<br/>Distal upper limb muscle weakness (HP:0008959); Distal lower limb muscle weakness (HP:0009053); Pes cavus (HP:0001761); Hyperreflexia (HP:0001347); Hoffmann sign (HP:0031993); Lower limb amyotrophy (HP:0007210); excluded: Proximal muscle weakness in upper limbs (HP:0008997); excluded: Proximal muscle weakness in lower limbs (HP:0008994); excluded: Babinski sign (HP:0003487); excluded: Disturbed sensory perception (HP:0010524); excluded: Dementia (HP:0000726); excluded: Fasciculations (HP:0002380); excluded: Gowers sign (HP:0003391)</td></tr>\n",
       "<tr><td style=\"text-align: left;\">II-3 (FEMALE; P25Y)</td><td style=\"text-align: left;\">Neuronopathy, distal hereditary motor, autosomal recessive 9 (OMIM:620402)</td><td style=\"text-align: left;\">NM_016138.5:c.3G>T (homozygous)</td><td style=\"text-align: left;\"><b>P9Y</b>: Difficulty walking (HP:0002355)<br/>Distal upper limb muscle weakness (HP:0008959); Distal lower limb muscle weakness (HP:0009053); Pes cavus (HP:0001761); Babinski sign (HP:0003487); Gowers sign (HP:0003391); excluded: Proximal muscle weakness in upper limbs (HP:0008997); excluded: Proximal muscle weakness in lower limbs (HP:0008994); excluded: Hyperreflexia (HP:0001347); excluded: Hoffmann sign (HP:0031993); excluded: Disturbed sensory perception (HP:0010524); excluded: Dementia (HP:0000726); excluded: Lower limb amyotrophy (HP:0007210)</td></tr>\n",
       "<tr><td style=\"text-align: left;\">II-1 (FEMALE; P42Y)</td><td style=\"text-align: left;\">Neuronopathy, distal hereditary motor, autosomal recessive 9 (OMIM:620402)</td><td style=\"text-align: left;\">NM_016138.5:c.3G>T (homozygous)</td><td style=\"text-align: left;\"><b>P10Y</b>: Difficulty walking (HP:0002355)<br/>Distal upper limb muscle weakness (HP:0008959); Distal lower limb muscle weakness (HP:0009053); Proximal muscle weakness in lower limbs (HP:0008994); Pes cavus (HP:0001761); Lower limb amyotrophy (HP:0007210); Fasciculations (HP:0002380); Gowers sign (HP:0003391); excluded: Proximal muscle weakness in upper limbs (HP:0008997); excluded: Hyperreflexia (HP:0001347); excluded: Hoffmann sign (HP:0031993); excluded: Babinski sign (HP:0003487); excluded: Disturbed sensory perception (HP:0010524); excluded: Dementia (HP:0000726)</td></tr>\n",
       "<tr><td style=\"text-align: left;\">Sibling 1 (MALE; )</td><td style=\"text-align: left;\">Neuronopathy, distal hereditary motor, autosomal recessive 9 (OMIM:620402)</td><td style=\"text-align: left;\">NM_016138.5:c.1A>G (homozygous)</td><td style=\"text-align: left;\">Distal upper limb muscle weakness (HP:0008959); Distal lower limb muscle weakness (HP:0009053); Lower limb amyotrophy (HP:0007210); excluded: Proximal muscle weakness in upper limbs (HP:0008997); excluded: Proximal muscle weakness in lower limbs (HP:0008994); excluded: Disturbed sensory perception (HP:0010524)</td></tr>\n",
       "<tr><td style=\"text-align: left;\">Sibling 2 (FEMALE; )</td><td style=\"text-align: left;\">Neuronopathy, distal hereditary motor, autosomal recessive 9 (OMIM:620402)</td><td style=\"text-align: left;\">NM_016138.5:c.1A>G (homozygous)</td><td style=\"text-align: left;\">Distal upper limb muscle weakness (HP:0008959); Distal lower limb muscle weakness (HP:0009053); Lower limb amyotrophy (HP:0007210); Increased variability in muscle fiber diameter (HP:0003557); excluded: Proximal muscle weakness in upper limbs (HP:0008997); excluded: Proximal muscle weakness in lower limbs (HP:0008994); excluded: Disturbed sensory perception (HP:0010524)</td></tr>\n",
       "<tr><td style=\"text-align: left;\">Sibling 3 (MALE; )</td><td style=\"text-align: left;\">Neuronopathy, distal hereditary motor, autosomal recessive 9 (OMIM:620402)</td><td style=\"text-align: left;\">NM_016138.5:c.1A>G (homozygous)</td><td style=\"text-align: left;\">Distal upper limb muscle weakness (HP:0008959); Distal lower limb muscle weakness (HP:0009053); Lower limb amyotrophy (HP:0007210); excluded: Proximal muscle weakness in upper limbs (HP:0008997); excluded: Proximal muscle weakness in lower limbs (HP:0008994); excluded: Disturbed sensory perception (HP:0010524)</td></tr>\n",
       "</table>"
      ],
      "text/plain": [
       "<IPython.core.display.HTML object>"
      ]
     },
     "metadata": {},
     "output_type": "display_data"
    }
   ],
   "source": [
    "individuals = cvalidator.get_error_free_individual_list()\n",
    "table = IndividualTable(individuals)\n",
    "display(HTML(table.to_html()))"
   ]
  },
  {
   "cell_type": "code",
   "execution_count": 10,
   "id": "a6f97dc5-8632-4473-a338-5a89e1f00390",
   "metadata": {},
   "outputs": [
    {
     "name": "stdout",
     "output_type": "stream",
     "text": [
      "We output 6 GA4GH phenopackets to the directory phenopackets\n"
     ]
    }
   ],
   "source": [
    "encoder.output_individuals_as_phenopackets(individual_list=individuals)"
   ]
  },
  {
   "cell_type": "markdown",
   "id": "24f318a5-aa8e-468e-b9bd-dfd289fb0620",
   "metadata": {},
   "source": [
    "# HPOA file"
   ]
  },
  {
   "cell_type": "code",
   "execution_count": 11,
   "id": "71e01424-8629-4503-a45a-2911d7116513",
   "metadata": {},
   "outputs": [
    {
     "name": "stdout",
     "output_type": "stream",
     "text": [
      "[pyphetools] Ingested 6 GA4GH phenopackets.\n",
      "We found a total of 15 unique HPO terms\n",
      "Extracted disease: Neuronopathy, distal hereditary motor, autosomal recessive 9 (OMIM:620402)\n"
     ]
    }
   ],
   "source": [
    "ingestor = PhenopacketIngestor(indir=\"phenopackets\")\n",
    "ppkt_d = ingestor.get_phenopacket_dictionary()\n",
    "ppkt_list = list(ppkt_d.values())\n",
    "builder = HpoaTableBuilder(phenopacket_list=ppkt_list)\n",
    "PMID = \"PMID:36454683\"\n",
    "hpoa_table_creator = builder.autosomal_recessive(PMID).build()"
   ]
  },
  {
   "cell_type": "code",
   "execution_count": 12,
   "id": "a8b93a37-269f-46f4-a25a-59804f2956a5",
   "metadata": {},
   "outputs": [
    {
     "data": {
      "text/html": [
       "<div>\n",
       "<style scoped>\n",
       "    .dataframe tbody tr th:only-of-type {\n",
       "        vertical-align: middle;\n",
       "    }\n",
       "\n",
       "    .dataframe tbody tr th {\n",
       "        vertical-align: top;\n",
       "    }\n",
       "\n",
       "    .dataframe thead th {\n",
       "        text-align: right;\n",
       "    }\n",
       "</style>\n",
       "<table border=\"1\" class=\"dataframe\">\n",
       "  <thead>\n",
       "    <tr style=\"text-align: right;\">\n",
       "      <th></th>\n",
       "      <th>#diseaseID</th>\n",
       "      <th>diseaseName</th>\n",
       "      <th>phenotypeID</th>\n",
       "      <th>phenotypeName</th>\n",
       "      <th>onsetID</th>\n",
       "      <th>onsetName</th>\n",
       "      <th>frequency</th>\n",
       "      <th>sex</th>\n",
       "      <th>negation</th>\n",
       "      <th>modifier</th>\n",
       "      <th>description</th>\n",
       "      <th>publication</th>\n",
       "      <th>evidence</th>\n",
       "      <th>biocuration</th>\n",
       "    </tr>\n",
       "  </thead>\n",
       "  <tbody>\n",
       "    <tr>\n",
       "      <th>0</th>\n",
       "      <td>OMIM:620402</td>\n",
       "      <td>Neuronopathy, distal hereditary motor, autosomal recessive 9</td>\n",
       "      <td>HP:0008959</td>\n",
       "      <td>Distal upper limb muscle weakness</td>\n",
       "      <td></td>\n",
       "      <td></td>\n",
       "      <td>3/3</td>\n",
       "      <td></td>\n",
       "      <td></td>\n",
       "      <td></td>\n",
       "      <td></td>\n",
       "      <td>PMID:37077559</td>\n",
       "      <td>PCS</td>\n",
       "      <td>ORCID:0000-0002-0736-9199</td>\n",
       "    </tr>\n",
       "    <tr>\n",
       "      <th>1</th>\n",
       "      <td>OMIM:620402</td>\n",
       "      <td>Neuronopathy, distal hereditary motor, autosomal recessive 9</td>\n",
       "      <td>HP:0009053</td>\n",
       "      <td>Distal lower limb muscle weakness</td>\n",
       "      <td></td>\n",
       "      <td></td>\n",
       "      <td>3/3</td>\n",
       "      <td></td>\n",
       "      <td></td>\n",
       "      <td></td>\n",
       "      <td></td>\n",
       "      <td>PMID:37077559</td>\n",
       "      <td>PCS</td>\n",
       "      <td>ORCID:0000-0002-0736-9199</td>\n",
       "    </tr>\n",
       "    <tr>\n",
       "      <th>2</th>\n",
       "      <td>OMIM:620402</td>\n",
       "      <td>Neuronopathy, distal hereditary motor, autosomal recessive 9</td>\n",
       "      <td>HP:0007210</td>\n",
       "      <td>Lower limb amyotrophy</td>\n",
       "      <td></td>\n",
       "      <td></td>\n",
       "      <td>3/3</td>\n",
       "      <td></td>\n",
       "      <td></td>\n",
       "      <td></td>\n",
       "      <td></td>\n",
       "      <td>PMID:37077559</td>\n",
       "      <td>PCS</td>\n",
       "      <td>ORCID:0000-0002-0736-9199</td>\n",
       "    </tr>\n",
       "    <tr>\n",
       "      <th>3</th>\n",
       "      <td>OMIM:620402</td>\n",
       "      <td>Neuronopathy, distal hereditary motor, autosomal recessive 9</td>\n",
       "      <td>HP:0008997</td>\n",
       "      <td>Proximal muscle weakness in upper limbs</td>\n",
       "      <td></td>\n",
       "      <td></td>\n",
       "      <td>0/3</td>\n",
       "      <td></td>\n",
       "      <td></td>\n",
       "      <td></td>\n",
       "      <td></td>\n",
       "      <td>PMID:37077559</td>\n",
       "      <td>PCS</td>\n",
       "      <td>ORCID:0000-0002-0736-9199</td>\n",
       "    </tr>\n",
       "    <tr>\n",
       "      <th>4</th>\n",
       "      <td>OMIM:620402</td>\n",
       "      <td>Neuronopathy, distal hereditary motor, autosomal recessive 9</td>\n",
       "      <td>HP:0008994</td>\n",
       "      <td>Proximal muscle weakness in lower limbs</td>\n",
       "      <td></td>\n",
       "      <td></td>\n",
       "      <td>0/3</td>\n",
       "      <td></td>\n",
       "      <td></td>\n",
       "      <td></td>\n",
       "      <td></td>\n",
       "      <td>PMID:37077559</td>\n",
       "      <td>PCS</td>\n",
       "      <td>ORCID:0000-0002-0736-9199</td>\n",
       "    </tr>\n",
       "  </tbody>\n",
       "</table>\n",
       "</div>"
      ],
      "text/plain": [
       "    #diseaseID                                                   diseaseName  \\\n",
       "0  OMIM:620402  Neuronopathy, distal hereditary motor, autosomal recessive 9   \n",
       "1  OMIM:620402  Neuronopathy, distal hereditary motor, autosomal recessive 9   \n",
       "2  OMIM:620402  Neuronopathy, distal hereditary motor, autosomal recessive 9   \n",
       "3  OMIM:620402  Neuronopathy, distal hereditary motor, autosomal recessive 9   \n",
       "4  OMIM:620402  Neuronopathy, distal hereditary motor, autosomal recessive 9   \n",
       "\n",
       "  phenotypeID                            phenotypeName onsetID onsetName  \\\n",
       "0  HP:0008959        Distal upper limb muscle weakness                     \n",
       "1  HP:0009053        Distal lower limb muscle weakness                     \n",
       "2  HP:0007210                    Lower limb amyotrophy                     \n",
       "3  HP:0008997  Proximal muscle weakness in upper limbs                     \n",
       "4  HP:0008994  Proximal muscle weakness in lower limbs                     \n",
       "\n",
       "  frequency sex negation modifier description    publication evidence  \\\n",
       "0       3/3                                    PMID:37077559      PCS   \n",
       "1       3/3                                    PMID:37077559      PCS   \n",
       "2       3/3                                    PMID:37077559      PCS   \n",
       "3       0/3                                    PMID:37077559      PCS   \n",
       "4       0/3                                    PMID:37077559      PCS   \n",
       "\n",
       "                 biocuration  \n",
       "0  ORCID:0000-0002-0736-9199  \n",
       "1  ORCID:0000-0002-0736-9199  \n",
       "2  ORCID:0000-0002-0736-9199  \n",
       "3  ORCID:0000-0002-0736-9199  \n",
       "4  ORCID:0000-0002-0736-9199  "
      ]
     },
     "execution_count": 12,
     "metadata": {},
     "output_type": "execute_result"
    }
   ],
   "source": [
    "df = hpoa_table_creator.get_dataframe()\n",
    "df.head()"
   ]
  },
  {
   "cell_type": "code",
   "execution_count": 13,
   "id": "d5793053-f127-47f9-b4b3-c351bee61174",
   "metadata": {},
   "outputs": [
    {
     "name": "stdout",
     "output_type": "stream",
     "text": [
      "Wrote HPOA disease file to OMIM-620402.tab\n"
     ]
    }
   ],
   "source": [
    "hpoa_table_creator.write_data_frame()"
   ]
  },
  {
   "cell_type": "code",
   "execution_count": null,
   "id": "6e026438-f23c-4567-9125-d3b94194877f",
   "metadata": {},
   "outputs": [],
   "source": []
  }
 ],
 "metadata": {
  "kernelspec": {
   "display_name": "Python 3 (ipykernel)",
   "language": "python",
   "name": "python3"
  },
  "language_info": {
   "codemirror_mode": {
    "name": "ipython",
    "version": 3
   },
   "file_extension": ".py",
   "mimetype": "text/x-python",
   "name": "python",
   "nbconvert_exporter": "python",
   "pygments_lexer": "ipython3",
   "version": "3.8.10"
  }
 },
 "nbformat": 4,
 "nbformat_minor": 5
}
