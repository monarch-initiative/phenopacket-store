{
 "cells": [
  {
   "cell_type": "markdown",
   "id": "32d586ba-2de8-4f1f-a921-a9963d8a42f1",
   "metadata": {},
   "source": [
    "# COQ7\n",
    "Pathogenic variants in COQ7 are associated with [Neuronopathy, distal hereditary motor, autosomal recessive 9](https://omim.org/entry/620402)."
   ]
  },
  {
   "cell_type": "code",
   "execution_count": 1,
   "id": "5aedf096-a2df-4231-b86f-bede7e31ff0a",
   "metadata": {},
   "outputs": [
    {
     "name": "stdout",
     "output_type": "stream",
     "text": [
      "Using pyphetools version 0.9.63\n"
     ]
    }
   ],
   "source": [
    "from pyphetools.creation import TemplateImporter\n",
    "from pyphetools.visualization import QcVisualizer\n",
    "from IPython.display import HTML, display\n",
    "import pyphetools\n",
    "print(f\"Using pyphetools version {pyphetools.__version__}\")"
   ]
  },
  {
   "cell_type": "code",
   "execution_count": 2,
   "id": "9a193c93-27d3-450b-be57-ff30765ef54a",
   "metadata": {},
   "outputs": [],
   "source": [
    "hpo_json_file=\"../hp.json\"\n",
    "created_by=\"ORCID:0000-0002-0736-9199\"\n",
    "template = \"input/COQ7_individuals.xlsx\"\n",
    "timporter = TemplateImporter(template=template, hp_json=hpo_json_file, created_by=created_by)"
   ]
  },
  {
   "cell_type": "code",
   "execution_count": 3,
   "id": "1a112a69-45ac-4456-b022-b43f36e2e013",
   "metadata": {},
   "outputs": [
    {
     "name": "stdout",
     "output_type": "stream",
     "text": [
      "HPO version 2024-02-27\n",
      "Created encoders for 33 fields\n",
      " we got OMIM:620402  NM_016138.5\n",
      "We output 6 GA4GH phenopackets to the directory phenopackets\n"
     ]
    }
   ],
   "source": [
    "individuals, cvalidator = timporter.import_phenopackets_from_template()"
   ]
  },
  {
   "cell_type": "code",
   "execution_count": 4,
   "id": "916966fa-5032-4bcd-b162-d0f43d98bca8",
   "metadata": {},
   "outputs": [
    {
     "data": {
      "text/html": [
       "<h2>Cohort validation</h2>\n",
       "<p>No errors found for the cohort with 6 individuals</p>"
      ],
      "text/plain": [
       "<IPython.core.display.HTML object>"
      ]
     },
     "metadata": {},
     "output_type": "display_data"
    }
   ],
   "source": [
    "qc = QcVisualizer(cohort_validator=cvalidator)\n",
    "display(HTML(qc.to_summary_html()))"
   ]
  },
  {
   "cell_type": "code",
   "execution_count": 8,
   "id": "6ce0643b-c55e-4200-95fd-a58e350b9b44",
   "metadata": {},
   "outputs": [
    {
     "name": "stdout",
     "output_type": "stream",
     "text": [
      "[pyphetools] Ingested 6 GA4GH phenopackets.\n",
      "\tNeuronopathy, distal hereditary motor, autosomal recessive 9 (OMIM:620402): n=6\n",
      "We found a total of 15 unique HPO terms\n",
      "Extracted disease: Neuronopathy, distal hereditary motor, autosomal recessive 9 (OMIM:620402)\n",
      "Wrote HPOA disease file to OMIM-620402.tab\n"
     ]
    }
   ],
   "source": [
    "PMID = \"PMID:36454683\"\n",
    "ar = \"Autosomal recessive\"\n",
    "df = timporter.create_hpoa_from_phenopackets(pmid=PMID, moi=ar)"
   ]
  },
  {
   "cell_type": "code",
   "execution_count": null,
   "id": "6e026438-f23c-4567-9125-d3b94194877f",
   "metadata": {},
   "outputs": [],
   "source": []
  }
 ],
 "metadata": {
  "kernelspec": {
   "display_name": "Python 3 (ipykernel)",
   "language": "python",
   "name": "python3"
  },
  "language_info": {
   "codemirror_mode": {
    "name": "ipython",
    "version": 3
   },
   "file_extension": ".py",
   "mimetype": "text/x-python",
   "name": "python",
   "nbconvert_exporter": "python",
   "pygments_lexer": "ipython3",
   "version": "3.8.10"
  }
 },
 "nbformat": 4,
 "nbformat_minor": 5
}
