{
 "cells": [
  {
   "cell_type": "markdown",
   "metadata": {},
   "source": [
    "# GRHPR\n",
    "[type II primary hyperoxaluria (HP2)](https://omim.org/entry/260000) is caused by homozygous or compound heterozygous mutation in the glyoxylate reductase/hydroxypyruvate reductase gene (GRHPR)."
   ]
  },
  {
   "cell_type": "code",
   "execution_count": 1,
   "metadata": {},
   "outputs": [],
   "source": [
    "from pyphetools.creation import *\n",
    "tc = TemplateCreator()\n",
    "tc.add_seed_terms(\"\"\"Calcium oxalate urolithiasis\n",
    "- Nephrocalcinosis\n",
    "- Hematuria\n",
    "- Renal failure (in some patients)\n",
    "LABORATORY ABNORMALITIES\n",
    "- Increased urinary oxylate\n",
    "- Increased urinary L-glycerate\n",
    "- Decreased GRHPR activity \"\"\")"
   ]
  },
  {
   "cell_type": "code",
   "execution_count": 2,
   "metadata": {},
   "outputs": [
    {
     "name": "stdout",
     "output_type": "stream",
     "text": [
      "[INFO] Add 4 HPO terms to template.\n",
      "Wrote Excel pyphetools template file to OMIM_260000_individuals.xlsx\n"
     ]
    }
   ],
   "source": [
    "tc.create_template(disease_id=\"OMIM:260000\",\n",
    "                         disease_label=\"Hyperoxaluria, primary, type II\",\n",
    "                         gene_symbol=\"GRHPR\",\n",
    "                         HGNC_id=\"HGNC:4570\",\n",
    "                         transcript=\"NM_012203.2\")"
   ]
  },
  {
   "cell_type": "code",
   "execution_count": null,
   "metadata": {},
   "outputs": [],
   "source": [
    "GRHPR_HP2_individuals"
   ]
  }
 ],
 "metadata": {
  "kernelspec": {
   "display_name": "ps24venv",
   "language": "python",
   "name": "python3"
  },
  "language_info": {
   "codemirror_mode": {
    "name": "ipython",
    "version": 3
   },
   "file_extension": ".py",
   "mimetype": "text/x-python",
   "name": "python",
   "nbconvert_exporter": "python",
   "pygments_lexer": "ipython3",
   "version": "3.9.6"
  }
 },
 "nbformat": 4,
 "nbformat_minor": 2
}
