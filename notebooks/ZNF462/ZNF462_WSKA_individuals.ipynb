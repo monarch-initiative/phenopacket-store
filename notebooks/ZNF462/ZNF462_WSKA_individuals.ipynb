{
 "cells": [
  {
   "cell_type": "markdown",
   "metadata": {},
   "source": [
    "# ZNF462\n",
    "[Weiss-Kruszka syndrome (WSKA)](https://omim.org/entry/618619) is caused by heterozygous mutation in the ZNF462 gene."
   ]
  },
  {
   "cell_type": "code",
   "execution_count": 1,
   "metadata": {},
   "outputs": [
    {
     "name": "stdout",
     "output_type": "stream",
     "text": [
      "Using pyphetools version 0.9.94\n"
     ]
    },
    {
     "name": "stderr",
     "output_type": "stream",
     "text": [
      "/Users/robin/GIT/phenopacket-store/ps24venv/lib/python3.9/site-packages/urllib3/__init__.py:35: NotOpenSSLWarning: urllib3 v2 only supports OpenSSL 1.1.1+, currently the 'ssl' module is compiled with 'LibreSSL 2.8.3'. See: https://github.com/urllib3/urllib3/issues/3020\n",
      "  warnings.warn(\n"
     ]
    }
   ],
   "source": [
    "from pyphetools.creation import TemplateImporter\n",
    "from pyphetools.visualization import IndividualTable, QcVisualizer\n",
    "from IPython.display import display, HTML\n",
    "import pyphetools\n",
    "print(f\"Using pyphetools version {pyphetools.__version__}\")"
   ]
  },
  {
   "cell_type": "code",
   "execution_count": 2,
   "metadata": {},
   "outputs": [],
   "source": [
    "template = \"input/ZNF462_WSKA_individuals.xlsx\"\n",
    "created_by = \"0000-0002-0736-9199\""
   ]
  },
  {
   "cell_type": "code",
   "execution_count": 10,
   "metadata": {},
   "outputs": [
    {
     "name": "stdout",
     "output_type": "stream",
     "text": [
      "HPO version 2024-07-01\n",
      "Created encoders for 56 fields\n",
      "Importing OMIM:618619, Weiss-Kruszka syndrome, HGNC:21684, ZNF462,  NM_021224.6\n",
      "[INFO] encoding variant \"c.3787C>T\"\n",
      "https://rest.variantvalidator.org/VariantValidator/variantvalidator/hg38/NM_021224.6%3Ac.3787C>T/NM_021224.6?content-type=application%2Fjson\n",
      "We were able to map 27 alleles.\n",
      "The following alleles could not be mapped. Either there is an error or the variants are structural and require special treatment (see documentation)\n",
      "- Chr9:g(108464368110362345)del(hg19) (may require coding as structural variant)\n",
      "- t(2;9)(p24;q32)disruptingKIAA1803andASXL2 (may require coding as structural variant)\n",
      "- chr9:106,635,504-112,484,507 (may require coding as structural variant)\n",
      "- chr9:99,302,837-110,030,098 (may require coding as structural variant)\n",
      "- t(2;9)(p24;q32);disruptingZNF462andASXL2 (may require coding as structural variant)\n",
      "- t(9;13)(q31.2;q22.1) (may require coding as structural variant)\n",
      "- Chr9:g.(108940763110561397)del(hg19) (may require coding as structural variant)\n",
      "Fix this error and then try again!\n"
     ]
    },
    {
     "ename": "SystemExit",
     "evalue": "1",
     "output_type": "error",
     "traceback": [
      "An exception has occurred, use %tb to see the full traceback.\n",
      "\u001b[0;31mSystemExit\u001b[0m\u001b[0;31m:\u001b[0m 1\n"
     ]
    },
    {
     "name": "stderr",
     "output_type": "stream",
     "text": [
      "/Users/robin/GIT/phenopacket-store/ps24venv/lib/python3.9/site-packages/IPython/core/interactiveshell.py:3558: UserWarning: To exit: use 'exit', 'quit', or Ctrl-D.\n",
      "  warn(\"To exit: use 'exit', 'quit', or Ctrl-D.\", stacklevel=1)\n"
     ]
    }
   ],
   "source": [
    "del_set = {\"Chr9:108,331,353–110,707,332(hg19)\",\"chr9:103,669,815-115,515,202\", \"Chr9:108,399,883–113,591,075,hg19\",\n",
    "           \"Chr9:g(108464368110362345)del(hg19)\", \"chr9:106,635,504-112,484,507\", \"chr9:99,302,837-110,030,098\",\n",
    "           \"Chr9:g.(108940763110561397)del(hg19)\"}\n",
    "transloc_set = {\"t(2;9)(p24;q32)disruptingKIAA1803andASXL2\",\n",
    "                \"t(2;9)(p24;q32);disruptingZNF462andASXL2\",\n",
    "                \"t(9;13)(q31.2;q22.1)\"}\n",
    "timporter = TemplateImporter(template=template, created_by=created_by)\n",
    "individual_list, cvalidator = timporter.import_phenopackets_from_template(deletions=del_set,\n",
    "                                                                          translocations=transloc_set)"
   ]
  },
  {
   "cell_type": "code",
   "execution_count": null,
   "metadata": {},
   "outputs": [],
   "source": [
    "qc = QcVisualizer(cohort_validator=cvalidator)\n",
    "display(HTML(qc.to_summary_html()))"
   ]
  }
 ],
 "metadata": {
  "kernelspec": {
   "display_name": "ps24venv",
   "language": "python",
   "name": "python3"
  },
  "language_info": {
   "codemirror_mode": {
    "name": "ipython",
    "version": 3
   },
   "file_extension": ".py",
   "mimetype": "text/x-python",
   "name": "python",
   "nbconvert_exporter": "python",
   "pygments_lexer": "ipython3",
   "version": "3.9.6"
  }
 },
 "nbformat": 4,
 "nbformat_minor": 2
}
