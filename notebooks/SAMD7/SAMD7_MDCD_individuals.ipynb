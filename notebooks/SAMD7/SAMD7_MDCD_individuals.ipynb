{
 "cells": [
  {
   "cell_type": "markdown",
   "metadata": {},
   "source": [
    "# SAMD7\n",
    "[macular dystrophy with or without cone dysfunction (MDCD)](https://omim.org/entry/620762) is caused by homozygous mutation in the SAMD7 gene."
   ]
  },
  {
   "cell_type": "code",
   "execution_count": 1,
   "metadata": {},
   "outputs": [
    {
     "name": "stdout",
     "output_type": "stream",
     "text": [
      "Using pyphetools version 0.9.94\n"
     ]
    },
    {
     "name": "stderr",
     "output_type": "stream",
     "text": [
      "/Users/robin/GIT/phenopacket-store/ps24venv/lib/python3.9/site-packages/urllib3/__init__.py:35: NotOpenSSLWarning: urllib3 v2 only supports OpenSSL 1.1.1+, currently the 'ssl' module is compiled with 'LibreSSL 2.8.3'. See: https://github.com/urllib3/urllib3/issues/3020\n",
      "  warnings.warn(\n"
     ]
    }
   ],
   "source": [
    "from pyphetools.creation import TemplateImporter, Moi\n",
    "from pyphetools.visualization import IndividualTable, QcVisualizer\n",
    "from IPython.display import display, HTML\n",
    "import pyphetools\n",
    "print(f\"Using pyphetools version {pyphetools.__version__}\")"
   ]
  },
  {
   "cell_type": "code",
   "execution_count": 2,
   "metadata": {},
   "outputs": [],
   "source": [
    "template = \"input/SAMD7_MDCD_individuals.xlsx\"\n",
    "created_by = \"0000-0002-0736-9199\""
   ]
  },
  {
   "cell_type": "code",
   "execution_count": 3,
   "metadata": {},
   "outputs": [
    {
     "name": "stdout",
     "output_type": "stream",
     "text": [
      "HPO version 2024-07-01\n",
      "Created encoders for 25 fields\n",
      "Importing OMIM:620762, Macular dystrophy with or without cone dysfunction, HGNC:25394, SAMD7,  NM_001304366.2\n",
      "We output 8 GA4GH phenopackets to the directory phenopackets\n"
     ]
    }
   ],
   "source": [
    "timporter = TemplateImporter(template=template,  created_by=created_by)\n",
    "individual_list, cvalidator = timporter.import_phenopackets_from_template()"
   ]
  },
  {
   "cell_type": "code",
   "execution_count": 4,
   "metadata": {},
   "outputs": [
    {
     "data": {
      "text/html": [
       "<h2>Cohort validation</h2>\n",
       "<p>Errors found with 8 of 8 phenopackets.</p>\n",
       "<table style=\"border: 2px solid black; align: \"left\">\n",
       "<caption>Error counts</caption>\n",
       "<tr><th style=\"text-align: left;font-weight: bold;\">Level</th><th style=\"text-align: left;font-weight: bold;\">Error category</th><th style=\"text-align: left;font-weight: bold;\">Count</th></tr>\n",
       "<tr><td style=\"text-align: left;\">WARNING</td><td style=\"text-align: left;\">REDUNDANT</td><td style=\"text-align: left;\">8</td></tr>\n",
       "</table>\n",
       "<p>A total of 8 issues were fixed and no individual was removed from the cohort.</p>"
      ],
      "text/plain": [
       "<IPython.core.display.HTML object>"
      ]
     },
     "metadata": {},
     "output_type": "display_data"
    }
   ],
   "source": [
    "qc = QcVisualizer(cohort_validator=cvalidator)\n",
    "display(HTML(qc.to_summary_html()))"
   ]
  },
  {
   "cell_type": "code",
   "execution_count": 5,
   "metadata": {},
   "outputs": [
    {
     "data": {
      "text/html": [
       "<table style=\"border: 2px solid black; align: \"left\">\n",
       "<caption>8 phenopackets - PMID:38272031 (n=8)</caption>\n",
       "<tr><th style=\"text-align: left;font-weight: bold;\">Individual</th><th style=\"text-align: left;font-weight: bold;\">Disease</th><th style=\"text-align: left;font-weight: bold;\">Genotype</th><th style=\"text-align: left;font-weight: bold;\">Phenotypic features</th></tr>\n",
       "<tr><td style=\"text-align: left;\">Individual 1-1 (FEMALE; P50Y)</td><td style=\"text-align: left;\">Macular dystrophy with or without cone dysfunction (OMIM:620762)</td><td style=\"text-align: left;\">NM_001304366.2:c.290+1G>A (homozygous)</td><td style=\"text-align: left;\">Reduced visual acuity (HP:0007663); Macular atrophy (HP:0007401); Macular dystrophy (HP:0007754); Retinal pigment epithelial atrophy (HP:0007722); Hypoautofluorescent retinal lesion (HP:0025159); excluded: Temporal optic disc pallor (HP:0012511); excluded: Central scotoma (HP:0000603)</td></tr>\n",
       "<tr><td style=\"text-align: left;\">Individual 2-1 (MALE; P23Y)</td><td style=\"text-align: left;\">Macular dystrophy with or without cone dysfunction (OMIM:620762)</td><td style=\"text-align: left;\">NM_001304366.2:c.919+1G>A (homozygous)</td><td style=\"text-align: left;\">Reduced visual acuity (HP:0007663); Macular atrophy (HP:0007401); Macular dystrophy (HP:0007754); Temporal optic disc pallor (HP:0012511); Hypoautofluorescent retinal lesion (HP:0025159); Central scotoma (HP:0000603); excluded: Retinal pigment epithelial atrophy (HP:0007722)</td></tr>\n",
       "<tr><td style=\"text-align: left;\">Individual 2-2 (MALE; P51Y)</td><td style=\"text-align: left;\">Macular dystrophy with or without cone dysfunction (OMIM:620762)</td><td style=\"text-align: left;\">NM_001304366.2:c.919+1G>A (homozygous)</td><td style=\"text-align: left;\">Reduced visual acuity (HP:0007663); Macular dystrophy (HP:0007754); Hypoautofluorescent retinal lesion (HP:0025159); excluded: Macular atrophy (HP:0007401); excluded: Retinal pigment epithelial atrophy (HP:0007722); excluded: Temporal optic disc pallor (HP:0012511); excluded: Central scotoma (HP:0000603)</td></tr>\n",
       "<tr><td style=\"text-align: left;\">Individual 3-1 (FEMALE; P57Y)</td><td style=\"text-align: left;\">Macular dystrophy with or without cone dysfunction (OMIM:620762)</td><td style=\"text-align: left;\">NM_001304366.2:c.211+1G>A (homozygous)</td><td style=\"text-align: left;\">Reduced visual acuity (HP:0007663); Macular dystrophy (HP:0007754); excluded: Macular atrophy (HP:0007401); excluded: Retinal pigment epithelial atrophy (HP:0007722); excluded: Temporal optic disc pallor (HP:0012511); excluded: Hypoautofluorescent retinal lesion (HP:0025159); excluded: Central scotoma (HP:0000603)</td></tr>\n",
       "<tr><td style=\"text-align: left;\">Individual 4-1 (FEMALE; P38Y)</td><td style=\"text-align: left;\">Macular dystrophy with or without cone dysfunction (OMIM:620762)</td><td style=\"text-align: left;\">NM_001304366.2:c.211+1G>A (homozygous)</td><td style=\"text-align: left;\">Reduced visual acuity (HP:0007663); Macular atrophy (HP:0007401); Macular dystrophy (HP:0007754); Hypoautofluorescent retinal lesion (HP:0025159); excluded: Retinal pigment epithelial atrophy (HP:0007722); excluded: Temporal optic disc pallor (HP:0012511); excluded: Central scotoma (HP:0000603)</td></tr>\n",
       "<tr><td style=\"text-align: left;\">Individual 4-2 (MALE; P29Y)</td><td style=\"text-align: left;\">Macular dystrophy with or without cone dysfunction (OMIM:620762)</td><td style=\"text-align: left;\">NM_001304366.2:c.211+1G>A (homozygous)</td><td style=\"text-align: left;\">Reduced visual acuity (HP:0007663); Macular atrophy (HP:0007401); Macular dystrophy (HP:0007754); Hypoautofluorescent retinal lesion (HP:0025159); excluded: Retinal pigment epithelial atrophy (HP:0007722); excluded: Temporal optic disc pallor (HP:0012511); excluded: Central scotoma (HP:0000603)</td></tr>\n",
       "<tr><td style=\"text-align: left;\">Individual 5-1 (FEMALE; P50Y)</td><td style=\"text-align: left;\">Macular dystrophy with or without cone dysfunction (OMIM:620762)</td><td style=\"text-align: left;\">NM_001304366.2:c.1153G>A (homozygous)</td><td style=\"text-align: left;\">Reduced visual acuity (HP:0007663); Macular dystrophy (HP:0007754); Hypoautofluorescent retinal lesion (HP:0025159); excluded: Macular atrophy (HP:0007401); excluded: Retinal pigment epithelial atrophy (HP:0007722); excluded: Temporal optic disc pallor (HP:0012511); excluded: Central scotoma (HP:0000603)</td></tr>\n",
       "<tr><td style=\"text-align: left;\">Individual 6-1 (FEMALE; P39Y)</td><td style=\"text-align: left;\">Macular dystrophy with or without cone dysfunction (OMIM:620762)</td><td style=\"text-align: left;\">NM_001304366.2:c.992A>T (homozygous)</td><td style=\"text-align: left;\">Macular atrophy (HP:0007401); Macular dystrophy (HP:0007754); Temporal optic disc pallor (HP:0012511); Hypoautofluorescent retinal lesion (HP:0025159); excluded: Reduced visual acuity (HP:0007663); excluded: Retinal pigment epithelial atrophy (HP:0007722); excluded: Central scotoma (HP:0000603)</td></tr>\n",
       "</table>"
      ],
      "text/plain": [
       "<IPython.core.display.HTML object>"
      ]
     },
     "metadata": {},
     "output_type": "display_data"
    }
   ],
   "source": [
    "table = IndividualTable(cvalidator.get_error_free_individual_list())\n",
    "display(HTML(table.to_html()))"
   ]
  },
  {
   "cell_type": "code",
   "execution_count": 6,
   "metadata": {},
   "outputs": [
    {
     "name": "stdout",
     "output_type": "stream",
     "text": [
      "[pyphetools] Ingested 8 GA4GH phenopackets.\n",
      "[INFO] Extracted 8 from 8 phenopackets with OMIM:620762\n",
      "\n",
      "\tMacular dystrophy with or without cone dysfunction (OMIM:620762): n=8\n",
      "We found a total of 7 unique HPO terms\n",
      "Extracted disease: Macular dystrophy with or without cone dysfunction (OMIM:620762)\n",
      "Wrote HPOA disease file to OMIM-620762.tab\n"
     ]
    }
   ],
   "source": [
    "pmid = \"PMID:36333996\"\n",
    "df = timporter.create_hpoa_from_phenopackets(pmid=pmid, mode_of_inheritance=Moi.AR, target=\"OMIM:620762\")"
   ]
  },
  {
   "cell_type": "code",
   "execution_count": null,
   "metadata": {},
   "outputs": [],
   "source": []
  }
 ],
 "metadata": {
  "kernelspec": {
   "display_name": "ps24venv",
   "language": "python",
   "name": "python3"
  },
  "language_info": {
   "codemirror_mode": {
    "name": "ipython",
    "version": 3
   },
   "file_extension": ".py",
   "mimetype": "text/x-python",
   "name": "python",
   "nbconvert_exporter": "python",
   "pygments_lexer": "ipython3",
   "version": "3.9.6"
  }
 },
 "nbformat": 4,
 "nbformat_minor": 2
}
