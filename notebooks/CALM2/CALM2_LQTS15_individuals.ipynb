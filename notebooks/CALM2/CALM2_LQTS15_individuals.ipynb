{
 "cells": [
  {
   "cell_type": "markdown",
   "metadata": {},
   "source": [
    "# CALM2\n",
    "[long QT syndrome-15 (LQT15)](https://omim.org/entry/616249)  is caused by heterozygous mutation in the CALM2 gene."
   ]
  },
  {
   "cell_type": "code",
   "execution_count": 1,
   "metadata": {},
   "outputs": [
    {
     "name": "stdout",
     "output_type": "stream",
     "text": [
      "Using pyphetools version 0.9.84\n"
     ]
    },
    {
     "name": "stderr",
     "output_type": "stream",
     "text": [
      "/Users/robin/GIT/phenopacket-store/ps24venv/lib/python3.9/site-packages/urllib3/__init__.py:35: NotOpenSSLWarning: urllib3 v2 only supports OpenSSL 1.1.1+, currently the 'ssl' module is compiled with 'LibreSSL 2.8.3'. See: https://github.com/urllib3/urllib3/issues/3020\n",
      "  warnings.warn(\n"
     ]
    }
   ],
   "source": [
    "from pyphetools.creation import TemplateImporter\n",
    "from pyphetools.visualization import IndividualTable, QcVisualizer\n",
    "from IPython.display import display, HTML\n",
    "import pyphetools\n",
    "print(f\"Using pyphetools version {pyphetools.__version__}\")"
   ]
  },
  {
   "cell_type": "code",
   "execution_count": 3,
   "metadata": {},
   "outputs": [],
   "source": [
    "template = \"input/CALM2_LQTS15_individuals.xlsx\"\n",
    "created_by = \"0000-0002-0736-9199\""
   ]
  },
  {
   "cell_type": "code",
   "execution_count": 4,
   "metadata": {},
   "outputs": [
    {
     "name": "stdout",
     "output_type": "stream",
     "text": [
      "HPO version 2024-04-26\n",
      "Created encoders for 26 fields\n",
      "Importing OMIM:616249, Long QT syndrome 15, HGNC:1445, CALM2,  NM_001743.6\n",
      "[INFO] encoding variant \"c.394G>C\"\n",
      "https://rest.variantvalidator.org/VariantValidator/variantvalidator/hg38/NM_001743.6%3Ac.394G>C/NM_001743.6?content-type=application%2Fjson\n",
      "[INFO] encoding variant \"c.287A>T\"\n",
      "https://rest.variantvalidator.org/VariantValidator/variantvalidator/hg38/NM_001743.6%3Ac.287A>T/NM_001743.6?content-type=application%2Fjson\n",
      "We output 2 GA4GH phenopackets to the directory phenopackets\n"
     ]
    }
   ],
   "source": [
    "timporter = TemplateImporter(template=template,  created_by=created_by)\n",
    "individual_list, cvalidator = timporter.import_phenopackets_from_template()"
   ]
  },
  {
   "cell_type": "code",
   "execution_count": 5,
   "metadata": {},
   "outputs": [
    {
     "data": {
      "text/html": [
       "<h2>Cohort validation</h2>\n",
       "<p>No errors found for the cohort with 2 individuals</p>"
      ],
      "text/plain": [
       "<IPython.core.display.HTML object>"
      ]
     },
     "metadata": {},
     "output_type": "display_data"
    }
   ],
   "source": [
    "qc = QcVisualizer(cohort_validator=cvalidator)\n",
    "display(HTML(qc.to_summary_html()))"
   ]
  },
  {
   "cell_type": "code",
   "execution_count": 6,
   "metadata": {},
   "outputs": [
    {
     "data": {
      "text/html": [
       "<table style=\"border: 2px solid black; align: \"left\">\n",
       "<caption>2 phenopackets - PMID:27374306 (n=1); PMID:23388215 (n=1)</caption>\n",
       "<tr><th style=\"text-align: left;font-weight: bold;\">Individual</th><th style=\"text-align: left;font-weight: bold;\">Disease</th><th style=\"text-align: left;font-weight: bold;\">Genotype</th><th style=\"text-align: left;font-weight: bold;\">Phenotypic features</th></tr>\n",
       "<tr><td style=\"text-align: left;\">Case 1 (MALE; P3Y)</td><td style=\"text-align: left;\">Long QT syndrome 15 (OMIM:616249)</td><td style=\"text-align: left;\">NM_001743.6:c.394G>C (heterozygous)</td><td style=\"text-align: left;\"><b>P1D</b>: Prolonged QTc interval (HP:0005184); Sinus bradycardia (HP:0001688)<br/><b>P2D</b>: 2:1 atrioventricular block (HP:0034305); Cardiogenic shock (HP:0030149)<br/>Left ventricular noncompaction cardiomyopathy (HP:0011664); excluded: Polymorphic ventricular tachycardia (HP:0031677); excluded: Ventricular fibrillation (HP:0001663); excluded: Cardiac arrest (HP:0001695); excluded: T-wave alternans (HP:0012266)</td></tr>\n",
       "<tr><td style=\"text-align: left;\">Proband 2 (FEMALE; P3Y)</td><td style=\"text-align: left;\">Long QT syndrome 15 (OMIM:616249)</td><td style=\"text-align: left;\">NM_001743.6:c.287A>T (heterozygous)</td><td style=\"text-align: left;\"><b>P21D</b>: Ventricular fibrillation (HP:0001663); Cardiac arrest (HP:0001695)<br/>Prolonged QTc interval (HP:0005184); T-wave alternans (HP:0012266); 2:1 atrioventricular block (HP:0034305); Sinus bradycardia (HP:0001688); Polymorphic ventricular tachycardia (HP:0031677)</td></tr>\n",
       "</table>"
      ],
      "text/plain": [
       "<IPython.core.display.HTML object>"
      ]
     },
     "metadata": {},
     "output_type": "display_data"
    }
   ],
   "source": [
    "table = IndividualTable(cvalidator.get_error_free_individual_list())\n",
    "display(HTML(table.to_html()))"
   ]
  },
  {
   "cell_type": "code",
   "execution_count": null,
   "metadata": {},
   "outputs": [],
   "source": []
  }
 ],
 "metadata": {
  "kernelspec": {
   "display_name": "ps24venv",
   "language": "python",
   "name": "python3"
  },
  "language_info": {
   "codemirror_mode": {
    "name": "ipython",
    "version": 3
   },
   "file_extension": ".py",
   "mimetype": "text/x-python",
   "name": "python",
   "nbconvert_exporter": "python",
   "pygments_lexer": "ipython3",
   "version": "3.9.6"
  }
 },
 "nbformat": 4,
 "nbformat_minor": 2
}
