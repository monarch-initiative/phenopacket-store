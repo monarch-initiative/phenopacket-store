{
 "cells": [
  {
   "cell_type": "markdown",
   "id": "0893f72a",
   "metadata": {},
   "source": [
    "<h1>Neurodevelopmental disorder with movement abnormalities, abnormal gait, and autistic features (ZSWIM6): Palmer et al 2021</h1>\n",
    "<p>Extract the clinical data from <a href=\"https://pubmed.ncbi.nlm.nih.gov/29198722/\"target=\"__blank\">Palmer EE, et al. (2017) A Recurrent De Novo Nonsense Variant in ZSWIM6 Results in Severe Intellectual Disability without Frontonasal or Limb Malformations. Am J Hum Genet. 101(6):995-1005. PMID:29198722</a>.<p>"
   ]
  },
  {
   "cell_type": "code",
   "execution_count": null,
   "id": "af552eb9-35a3-4770-b677-b6f7bb6c16f8",
   "metadata": {},
   "outputs": [],
   "source": [
    "from pyphetools.creation import TemplateCreator"
   ]
  },
  {
   "cell_type": "code",
   "execution_count": null,
   "id": "5abcbbc1-348a-4a1b-ab95-6b62b6c1ed9b",
   "metadata": {},
   "outputs": [],
   "source": [
    "tcreator = TemplateCreator(hp_json=\"../hp.json\")"
   ]
  },
  {
   "cell_type": "code",
   "execution_count": null,
   "id": "13692dd3-c2e2-4f48-bf58-781e9e9fa10a",
   "metadata": {},
   "outputs": [],
   "source": [
    "tcreator.add_seed_terms(\"\"\"\n",
    "\n",
    "\"\"\")"
   ]
  },
  {
   "cell_type": "code",
   "execution_count": null,
   "id": "354580ab-426d-428c-b16a-48e0da614d80",
   "metadata": {},
   "outputs": [],
   "source": [
    "ZSWIM6_transcript = \"NM_020928.2\"\n",
    "tcreator.create_template(disease_id=\"OMIM:617865\",\n",
    "                         disease_label=\"Neurodevelopmental disorder with movement abnormalities, abnormal gait, and autistic features\",\n",
    "                         gene_symbol=\"ZSWIM6\",\n",
    "                         HGNC_id=\"HGNC:29316\",\n",
    "                         transcript=ZSWIM6_transcript)"
   ]
  },
  {
   "cell_type": "code",
   "execution_count": null,
   "id": "a3f22e5c-a79a-4b14-8a00-c84980001809",
   "metadata": {},
   "outputs": [],
   "source": []
  },
  {
   "cell_type": "code",
   "execution_count": 1,
   "id": "355e81e5",
   "metadata": {},
   "outputs": [
    {
     "name": "stdout",
     "output_type": "stream",
     "text": [
      "pyphetools version 0.9.39\n"
     ]
    }
   ],
   "source": [
    "import pandas as pd\n",
    "pd.set_option('display.max_colwidth', None) # show entire column contents, important!\n",
    "from IPython.display import display, HTML\n",
    "import pyphetools\n",
    "from pyphetools.creation import *\n",
    "from pyphetools.visualization import *\n",
    "from pyphetools.validation import CohortValidator\n",
    "print(f\"pyphetools version {pyphetools.__version__}\")"
   ]
  },
  {
   "cell_type": "code",
   "execution_count": 2,
   "id": "8e459cd1",
   "metadata": {},
   "outputs": [
    {
     "name": "stdout",
     "output_type": "stream",
     "text": [
      "HPO version 2024-01-16\n"
     ]
    }
   ],
   "source": [
    "PMID=\"PMID:29198722\"\n",
    "title = \"A Recurrent De Novo Nonsense Variant in ZSWIM6 Results in Severe Intellectual Disability without Frontonasal or Limb Malformations\"\n",
    "cite = Citation(pmid=PMID, title=title)\n",
    "parser = HpoParser(hpo_json_file=\"../hp.json\")\n",
    "hpo_cr = parser.get_hpo_concept_recognizer()\n",
    "hpo_version = parser.get_version()\n",
    "hpo_ontology = parser.get_ontology()\n",
    "metadata = MetaData(created_by=\"ORCID:0000-0002-0736-9199\", citation=cite)\n",
    "metadata.default_versions_with_hpo(version=hpo_version)\n",
    "print(f\"HPO version {hpo_version}\")"
   ]
  },
  {
   "cell_type": "code",
   "execution_count": 3,
   "id": "18b3b9cf",
   "metadata": {},
   "outputs": [],
   "source": [
    "df = pd.read_excel(\"input/palmer_2017.xlsx\")"
   ]
  },
  {
   "cell_type": "code",
   "execution_count": 4,
   "id": "dc1c8796",
   "metadata": {},
   "outputs": [
    {
     "data": {
      "text/html": [
       "<div>\n",
       "<style scoped>\n",
       "    .dataframe tbody tr th:only-of-type {\n",
       "        vertical-align: middle;\n",
       "    }\n",
       "\n",
       "    .dataframe tbody tr th {\n",
       "        vertical-align: top;\n",
       "    }\n",
       "\n",
       "    .dataframe thead th {\n",
       "        text-align: right;\n",
       "    }\n",
       "</style>\n",
       "<table border=\"1\" class=\"dataframe\">\n",
       "  <thead>\n",
       "    <tr style=\"text-align: right;\">\n",
       "      <th>ZSWIM6 Variant/Affected Individual</th>\n",
       "      <th>Method of testing and confirmation</th>\n",
       "      <th>Inheritance, if known; parental ages at birth of child</th>\n",
       "      <th>Evidence of mosaicism? (wild-type: mutant reads)</th>\n",
       "      <th>Age (year)</th>\n",
       "      <th>Gender</th>\n",
       "      <th>Level of ID</th>\n",
       "      <th>OFC</th>\n",
       "      <th>Infantile hypotonia/delayed GM milestones?</th>\n",
       "      <th>ASD?</th>\n",
       "      <th>Communication</th>\n",
       "      <th>Ambulation</th>\n",
       "      <th>Temperament/behavior</th>\n",
       "      <th>Epilepsy</th>\n",
       "      <th>Progressive spasticity</th>\n",
       "      <th>Movement disorder?</th>\n",
       "      <th>Ophthalmological features</th>\n",
       "      <th>Brain MRI</th>\n",
       "      <th>Additional neurological features</th>\n",
       "      <th>Gastro-intestinal symptoms</th>\n",
       "      <th>Additional non- neurological features</th>\n",
       "    </tr>\n",
       "  </thead>\n",
       "  <tbody>\n",
       "    <tr>\n",
       "      <th>p.Arg913Ter Affected Individual 1</th>\n",
       "      <td>WGS of proband, SS to confirm and segregate in family</td>\n",
       "      <td>not maternal;b paternal 32, maternal 32</td>\n",
       "      <td>no (32:22)</td>\n",
       "      <td>16</td>\n",
       "      <td>M</td>\n",
       "      <td>severe-profound</td>\n",
       "      <td>normo-cephaly</td>\n",
       "      <td>+</td>\n",
       "      <td>+</td>\n",
       "      <td>non verbal</td>\n",
       "      <td>non ambulant (wheelchair); previously ambulant at 2.5 yr with wide unsteady gait</td>\n",
       "      <td>happy, affectionate, interested in family and TV; hyperactivity</td>\n",
       "      <td>+ (GTC and focal dyscognitive)</td>\n",
       "      <td>+</td>\n",
       "      <td>paroxysmal hypertonicity; unusual tongue movements</td>\n",
       "      <td>impairment lateral gaze</td>\n",
       "      <td>cortical atrophy (13 year)</td>\n",
       "      <td>mixed peripheral neuropathy</td>\n",
       "      <td>failure to thrive and severe GERD requiring fundoplication; constipation; ulcerative colitis from mid-teens</td>\n",
       "      <td>marked equinovarus deformity of feet; thoracolumbar scoliosis, distinctive facial features</td>\n",
       "    </tr>\n",
       "    <tr>\n",
       "      <th>p.Arg913Ter Affected Individual 2</th>\n",
       "      <td>Trio WES, SS confirmation</td>\n",
       "      <td>DN; paternal 31, maternal 28</td>\n",
       "      <td>no (75:62)</td>\n",
       "      <td>7</td>\n",
       "      <td>F</td>\n",
       "      <td>severe</td>\n",
       "      <td>progressive microcephaly (−2 SD)</td>\n",
       "      <td>+</td>\n",
       "      <td>-</td>\n",
       "      <td>non verbal; limited comprehension</td>\n",
       "      <td>ambulant (from 3 year) with wide-based ataxic gait</td>\n",
       "      <td>happy; bursts of laughter; hyperactivity</td>\n",
       "      <td>-</td>\n",
       "      <td>-</td>\n",
       "      <td>stereotypical hand movements; midline tongue protrusion; ataxia</td>\n",
       "      <td>strabismus</td>\n",
       "      <td>normal</td>\n",
       "      <td>–</td>\n",
       "      <td>infantile cow’s milk protein intolerance; recurrent diarrhea and vomiting from 18 mo improved on gluten-free diet</td>\n",
       "      <td>distinctive facial features</td>\n",
       "    </tr>\n",
       "  </tbody>\n",
       "</table>\n",
       "</div>"
      ],
      "text/plain": [
       "ZSWIM6 Variant/Affected Individual                     Method of testing and confirmation  \\\n",
       "p.Arg913Ter Affected Individual 1   WGS of proband, SS to confirm and segregate in family   \n",
       "p.Arg913Ter Affected Individual 2                               Trio WES, SS confirmation   \n",
       "\n",
       "ZSWIM6 Variant/Affected Individual Inheritance, if known; parental ages at birth of child  \\\n",
       "p.Arg913Ter Affected Individual 1                 not maternal;b paternal 32, maternal 32   \n",
       "p.Arg913Ter Affected Individual 2                            DN; paternal 31, maternal 28   \n",
       "\n",
       "ZSWIM6 Variant/Affected Individual Evidence of mosaicism? (wild-type: mutant reads)  \\\n",
       "p.Arg913Ter Affected Individual 1                                        no (32:22)   \n",
       "p.Arg913Ter Affected Individual 2                                        no (75:62)   \n",
       "\n",
       "ZSWIM6 Variant/Affected Individual Age (year) Gender      Level of ID  \\\n",
       "p.Arg913Ter Affected Individual 1          16      M  severe-profound   \n",
       "p.Arg913Ter Affected Individual 2           7      F           severe   \n",
       "\n",
       "ZSWIM6 Variant/Affected Individual                               OFC  \\\n",
       "p.Arg913Ter Affected Individual 1                      normo-cephaly   \n",
       "p.Arg913Ter Affected Individual 2   progressive microcephaly (−2 SD)   \n",
       "\n",
       "ZSWIM6 Variant/Affected Individual Infantile hypotonia/delayed GM milestones?  \\\n",
       "p.Arg913Ter Affected Individual 1                                           +   \n",
       "p.Arg913Ter Affected Individual 2                                           +   \n",
       "\n",
       "ZSWIM6 Variant/Affected Individual ASD?                      Communication  \\\n",
       "p.Arg913Ter Affected Individual 1     +                         non verbal   \n",
       "p.Arg913Ter Affected Individual 2     -  non verbal; limited comprehension   \n",
       "\n",
       "ZSWIM6 Variant/Affected Individual                                                                        Ambulation  \\\n",
       "p.Arg913Ter Affected Individual 1   non ambulant (wheelchair); previously ambulant at 2.5 yr with wide unsteady gait   \n",
       "p.Arg913Ter Affected Individual 2                                 ambulant (from 3 year) with wide-based ataxic gait   \n",
       "\n",
       "ZSWIM6 Variant/Affected Individual                                             Temperament/behavior  \\\n",
       "p.Arg913Ter Affected Individual 1   happy, affectionate, interested in family and TV; hyperactivity   \n",
       "p.Arg913Ter Affected Individual 2                          happy; bursts of laughter; hyperactivity   \n",
       "\n",
       "ZSWIM6 Variant/Affected Individual                        Epilepsy  \\\n",
       "p.Arg913Ter Affected Individual 1   + (GTC and focal dyscognitive)   \n",
       "p.Arg913Ter Affected Individual 2                                -   \n",
       "\n",
       "ZSWIM6 Variant/Affected Individual Progressive spasticity  \\\n",
       "p.Arg913Ter Affected Individual 1                       +   \n",
       "p.Arg913Ter Affected Individual 2                       -   \n",
       "\n",
       "ZSWIM6 Variant/Affected Individual                                               Movement disorder?  \\\n",
       "p.Arg913Ter Affected Individual 1                paroxysmal hypertonicity; unusual tongue movements   \n",
       "p.Arg913Ter Affected Individual 2   stereotypical hand movements; midline tongue protrusion; ataxia   \n",
       "\n",
       "ZSWIM6 Variant/Affected Individual Ophthalmological features  \\\n",
       "p.Arg913Ter Affected Individual 1    impairment lateral gaze   \n",
       "p.Arg913Ter Affected Individual 2                 strabismus   \n",
       "\n",
       "ZSWIM6 Variant/Affected Individual                   Brain MRI  \\\n",
       "p.Arg913Ter Affected Individual 1   cortical atrophy (13 year)   \n",
       "p.Arg913Ter Affected Individual 2                       normal   \n",
       "\n",
       "ZSWIM6 Variant/Affected Individual Additional neurological features  \\\n",
       "p.Arg913Ter Affected Individual 1       mixed peripheral neuropathy   \n",
       "p.Arg913Ter Affected Individual 2                                 –   \n",
       "\n",
       "ZSWIM6 Variant/Affected Individual                                                                                         Gastro-intestinal symptoms  \\\n",
       "p.Arg913Ter Affected Individual 1         failure to thrive and severe GERD requiring fundoplication; constipation; ulcerative colitis from mid-teens   \n",
       "p.Arg913Ter Affected Individual 2   infantile cow’s milk protein intolerance; recurrent diarrhea and vomiting from 18 mo improved on gluten-free diet   \n",
       "\n",
       "ZSWIM6 Variant/Affected Individual                                                       Additional non- neurological features  \n",
       "p.Arg913Ter Affected Individual 1   marked equinovarus deformity of feet; thoracolumbar scoliosis, distinctive facial features  \n",
       "p.Arg913Ter Affected Individual 2                                                                  distinctive facial features  "
      ]
     },
     "execution_count": 4,
     "metadata": {},
     "output_type": "execute_result"
    }
   ],
   "source": [
    "dft = df.transpose()\n",
    "dft.columns = dft.iloc[0]\n",
    "# remove the summary columns\n",
    "dft = dft.drop(\"Summary p.Arg913Ter Cohort (n = 7)\")\n",
    "dft = dft.drop(\"Summary Postnatal Non-mosaica p.Arg1163Trp Cohort (n = 6)\")\n",
    "dft.drop(dft.index[0], inplace=True)\n",
    "dft.head(2)"
   ]
  },
  {
   "cell_type": "code",
   "execution_count": 5,
   "id": "4d378cdb",
   "metadata": {},
   "outputs": [],
   "source": [
    "column_mapper_list = list()"
   ]
  },
  {
   "cell_type": "code",
   "execution_count": 6,
   "id": "841d00fb",
   "metadata": {},
   "outputs": [
    {
     "data": {
      "text/html": [
       "<div>\n",
       "<style scoped>\n",
       "    .dataframe tbody tr th:only-of-type {\n",
       "        vertical-align: middle;\n",
       "    }\n",
       "\n",
       "    .dataframe tbody tr th {\n",
       "        vertical-align: top;\n",
       "    }\n",
       "\n",
       "    .dataframe thead th {\n",
       "        text-align: right;\n",
       "    }\n",
       "</style>\n",
       "<table border=\"1\" class=\"dataframe\">\n",
       "  <thead>\n",
       "    <tr style=\"text-align: right;\">\n",
       "      <th></th>\n",
       "      <th>mapping</th>\n",
       "      <th>count</th>\n",
       "    </tr>\n",
       "  </thead>\n",
       "  <tbody>\n",
       "    <tr>\n",
       "      <th>0</th>\n",
       "      <td>Intellectual disability, profound (HP:0002187) (observed)</td>\n",
       "      <td>2</td>\n",
       "    </tr>\n",
       "    <tr>\n",
       "      <th>1</th>\n",
       "      <td>Intellectual disability, severe (HP:0010864) (observed)</td>\n",
       "      <td>5</td>\n",
       "    </tr>\n",
       "  </tbody>\n",
       "</table>\n",
       "</div>"
      ],
      "text/plain": [
       "                                                     mapping count\n",
       "0  Intellectual disability, profound (HP:0002187) (observed)     2\n",
       "1    Intellectual disability, severe (HP:0010864) (observed)     5"
      ]
     },
     "execution_count": 6,
     "metadata": {},
     "output_type": "execute_result"
    }
   ],
   "source": [
    "severity_d = {'severe': 'Intellectual disability, severe',\n",
    "              'severe-profound': 'Intellectual disability, profound',\n",
    "             'profound': 'Intellectual disability, profound'}\n",
    "idMapper = OptionColumnMapper(column_name='Level of ID',concept_recognizer=hpo_cr, option_d=severity_d)\n",
    "column_mapper_list.append(idMapper)\n",
    "idMapper.preview_column(dft)"
   ]
  },
  {
   "cell_type": "code",
   "execution_count": 7,
   "id": "d193bf81",
   "metadata": {},
   "outputs": [
    {
     "data": {
      "text/html": [
       "<div>\n",
       "<style scoped>\n",
       "    .dataframe tbody tr th:only-of-type {\n",
       "        vertical-align: middle;\n",
       "    }\n",
       "\n",
       "    .dataframe tbody tr th {\n",
       "        vertical-align: top;\n",
       "    }\n",
       "\n",
       "    .dataframe thead th {\n",
       "        text-align: right;\n",
       "    }\n",
       "</style>\n",
       "<table border=\"1\" class=\"dataframe\">\n",
       "  <thead>\n",
       "    <tr style=\"text-align: right;\">\n",
       "      <th></th>\n",
       "      <th>mapping</th>\n",
       "      <th>count</th>\n",
       "    </tr>\n",
       "  </thead>\n",
       "  <tbody>\n",
       "    <tr>\n",
       "      <th>0</th>\n",
       "      <td>Progressive microcephaly (HP:0000253) (observed)</td>\n",
       "      <td>3</td>\n",
       "    </tr>\n",
       "    <tr>\n",
       "      <th>1</th>\n",
       "      <td>Progressive macrocephaly (HP:0004481) (observed)</td>\n",
       "      <td>1</td>\n",
       "    </tr>\n",
       "  </tbody>\n",
       "</table>\n",
       "</div>"
      ],
      "text/plain": [
       "                                            mapping count\n",
       "0  Progressive microcephaly (HP:0000253) (observed)     3\n",
       "1  Progressive macrocephaly (HP:0004481) (observed)     1"
      ]
     },
     "execution_count": 7,
     "metadata": {},
     "output_type": "execute_result"
    }
   ],
   "source": [
    "ofc_d = {'progressive microcephaly (−2 SD)': 'Progressive microcephaly',\n",
    "              'progressive microcephaly': 'Progressive microcephaly',\n",
    "             'progressive macro-cephaly to 90–97th centile': 'Progressive macrocephaly'}\n",
    "ofcMapper = OptionColumnMapper(column_name='OFC',concept_recognizer=hpo_cr, option_d=ofc_d)\n",
    "column_mapper_list.append(ofcMapper)\n",
    "ofcMapper.preview_column(dft)"
   ]
  },
  {
   "cell_type": "code",
   "execution_count": 8,
   "id": "eaab2700",
   "metadata": {},
   "outputs": [
    {
     "data": {
      "text/html": [
       "<div>\n",
       "<style scoped>\n",
       "    .dataframe tbody tr th:only-of-type {\n",
       "        vertical-align: middle;\n",
       "    }\n",
       "\n",
       "    .dataframe tbody tr th {\n",
       "        vertical-align: top;\n",
       "    }\n",
       "\n",
       "    .dataframe thead th {\n",
       "        text-align: right;\n",
       "    }\n",
       "</style>\n",
       "<table border=\"1\" class=\"dataframe\">\n",
       "  <thead>\n",
       "    <tr style=\"text-align: right;\">\n",
       "      <th></th>\n",
       "      <th>0</th>\n",
       "    </tr>\n",
       "  </thead>\n",
       "  <tbody>\n",
       "    <tr>\n",
       "      <th>0</th>\n",
       "      <td>observed;observed</td>\n",
       "    </tr>\n",
       "    <tr>\n",
       "      <th>1</th>\n",
       "      <td>observed;observed</td>\n",
       "    </tr>\n",
       "    <tr>\n",
       "      <th>2</th>\n",
       "      <td>observed;observed</td>\n",
       "    </tr>\n",
       "    <tr>\n",
       "      <th>3</th>\n",
       "      <td>observed;observed</td>\n",
       "    </tr>\n",
       "    <tr>\n",
       "      <th>4</th>\n",
       "      <td>observed;observed</td>\n",
       "    </tr>\n",
       "    <tr>\n",
       "      <th>5</th>\n",
       "      <td>observed;observed</td>\n",
       "    </tr>\n",
       "    <tr>\n",
       "      <th>6</th>\n",
       "      <td>observed;observed</td>\n",
       "    </tr>\n",
       "  </tbody>\n",
       "</table>\n",
       "</div>"
      ],
      "text/plain": [
       "                   0\n",
       "0  observed;observed\n",
       "1  observed;observed\n",
       "2  observed;observed\n",
       "3  observed;observed\n",
       "4  observed;observed\n",
       "5  observed;observed\n",
       "6  observed;observed"
      ]
     },
     "execution_count": 8,
     "metadata": {},
     "output_type": "execute_result"
    }
   ],
   "source": [
    "hpo_terms = [[\"Hypotonia\", \"HP:0001252\"], [\"Delayed gross motor development\", \"HP:0002194\"] ]\n",
    "hypotoniaMapper = ConstantColumnMapper(column_name='Infantile hypotonia/delayed GM milestones?',term_list=hpo_terms)\n",
    "column_mapper_list.append(hypotoniaMapper)\n",
    "hypotoniaMapper.preview_column(dft)"
   ]
  },
  {
   "cell_type": "code",
   "execution_count": 9,
   "id": "4ffee780",
   "metadata": {},
   "outputs": [
    {
     "data": {
      "text/html": [
       "<div>\n",
       "<style scoped>\n",
       "    .dataframe tbody tr th:only-of-type {\n",
       "        vertical-align: middle;\n",
       "    }\n",
       "\n",
       "    .dataframe tbody tr th {\n",
       "        vertical-align: top;\n",
       "    }\n",
       "\n",
       "    .dataframe thead th {\n",
       "        text-align: right;\n",
       "    }\n",
       "</style>\n",
       "<table border=\"1\" class=\"dataframe\">\n",
       "  <thead>\n",
       "    <tr style=\"text-align: right;\">\n",
       "      <th></th>\n",
       "      <th>mapping</th>\n",
       "      <th>count</th>\n",
       "    </tr>\n",
       "  </thead>\n",
       "  <tbody>\n",
       "    <tr>\n",
       "      <th>0</th>\n",
       "      <td>original value: \"+\" -&gt; HP: Autistic behavior (HP:0000729) (observed)</td>\n",
       "      <td>5</td>\n",
       "    </tr>\n",
       "    <tr>\n",
       "      <th>1</th>\n",
       "      <td>original value: \"-\" -&gt; HP: Autistic behavior (HP:0000729) (excluded)</td>\n",
       "      <td>2</td>\n",
       "    </tr>\n",
       "  </tbody>\n",
       "</table>\n",
       "</div>"
      ],
      "text/plain": [
       "                                                                mapping count\n",
       "0  original value: \"+\" -> HP: Autistic behavior (HP:0000729) (observed)     5\n",
       "1  original value: \"-\" -> HP: Autistic behavior (HP:0000729) (excluded)     2"
      ]
     },
     "execution_count": 9,
     "metadata": {},
     "output_type": "execute_result"
    }
   ],
   "source": [
    "# ASD?  Autistic behavior HP:0000729\n",
    "asdMapper = SimpleColumnMapper(column_name='ASD?',hpo_id=\"HP:0000729\", hpo_label=\"Autistic behavior\", observed=\"+\", excluded=\"-\")\n",
    "column_mapper_list.append(asdMapper)\n",
    "asdMapper.preview_column(dft)"
   ]
  },
  {
   "cell_type": "code",
   "execution_count": 10,
   "id": "d6b9c825",
   "metadata": {},
   "outputs": [
    {
     "data": {
      "text/html": [
       "<div>\n",
       "<style scoped>\n",
       "    .dataframe tbody tr th:only-of-type {\n",
       "        vertical-align: middle;\n",
       "    }\n",
       "\n",
       "    .dataframe tbody tr th {\n",
       "        vertical-align: top;\n",
       "    }\n",
       "\n",
       "    .dataframe thead th {\n",
       "        text-align: right;\n",
       "    }\n",
       "</style>\n",
       "<table border=\"1\" class=\"dataframe\">\n",
       "  <thead>\n",
       "    <tr style=\"text-align: right;\">\n",
       "      <th></th>\n",
       "      <th>0</th>\n",
       "    </tr>\n",
       "  </thead>\n",
       "  <tbody>\n",
       "    <tr>\n",
       "      <th>0</th>\n",
       "      <td>observed</td>\n",
       "    </tr>\n",
       "    <tr>\n",
       "      <th>1</th>\n",
       "      <td>observed</td>\n",
       "    </tr>\n",
       "    <tr>\n",
       "      <th>2</th>\n",
       "      <td>observed</td>\n",
       "    </tr>\n",
       "    <tr>\n",
       "      <th>3</th>\n",
       "      <td>observed</td>\n",
       "    </tr>\n",
       "    <tr>\n",
       "      <th>4</th>\n",
       "      <td>observed</td>\n",
       "    </tr>\n",
       "    <tr>\n",
       "      <th>5</th>\n",
       "      <td>observed</td>\n",
       "    </tr>\n",
       "    <tr>\n",
       "      <th>6</th>\n",
       "      <td>observed</td>\n",
       "    </tr>\n",
       "  </tbody>\n",
       "</table>\n",
       "</div>"
      ],
      "text/plain": [
       "          0\n",
       "0  observed\n",
       "1  observed\n",
       "2  observed\n",
       "3  observed\n",
       "4  observed\n",
       "5  observed\n",
       "6  observed"
      ]
     },
     "execution_count": 10,
     "metadata": {},
     "output_type": "execute_result"
    }
   ],
   "source": [
    "hpo_terms = [[\"Delayed speech and language development\", \"HP:0000750\"] ]\n",
    "communicationMapper = ConstantColumnMapper(column_name='Communication',term_list=hpo_terms)\n",
    "column_mapper_list.append(communicationMapper)\n",
    "communicationMapper.preview_column(dft)"
   ]
  },
  {
   "cell_type": "code",
   "execution_count": 11,
   "id": "e9fa6c94",
   "metadata": {},
   "outputs": [
    {
     "data": {
      "text/html": [
       "<div>\n",
       "<style scoped>\n",
       "    .dataframe tbody tr th:only-of-type {\n",
       "        vertical-align: middle;\n",
       "    }\n",
       "\n",
       "    .dataframe tbody tr th {\n",
       "        vertical-align: top;\n",
       "    }\n",
       "\n",
       "    .dataframe thead th {\n",
       "        text-align: right;\n",
       "    }\n",
       "</style>\n",
       "<table border=\"1\" class=\"dataframe\">\n",
       "  <thead>\n",
       "    <tr style=\"text-align: right;\">\n",
       "      <th></th>\n",
       "      <th>mapping</th>\n",
       "      <th>count</th>\n",
       "    </tr>\n",
       "  </thead>\n",
       "  <tbody>\n",
       "    <tr>\n",
       "      <th>0</th>\n",
       "      <td>Loss of ambulation (HP:0002505) (observed)</td>\n",
       "      <td>1</td>\n",
       "    </tr>\n",
       "    <tr>\n",
       "      <th>1</th>\n",
       "      <td>Unsteady gait (HP:0002317) (observed)</td>\n",
       "      <td>4</td>\n",
       "    </tr>\n",
       "    <tr>\n",
       "      <th>2</th>\n",
       "      <td>Gait ataxia (HP:0002066) (observed)</td>\n",
       "      <td>1</td>\n",
       "    </tr>\n",
       "    <tr>\n",
       "      <th>3</th>\n",
       "      <td>Broad-based gait (HP:0002136) (observed)</td>\n",
       "      <td>1</td>\n",
       "    </tr>\n",
       "  </tbody>\n",
       "</table>\n",
       "</div>"
      ],
      "text/plain": [
       "                                      mapping count\n",
       "0  Loss of ambulation (HP:0002505) (observed)     1\n",
       "1       Unsteady gait (HP:0002317) (observed)     4\n",
       "2         Gait ataxia (HP:0002066) (observed)     1\n",
       "3    Broad-based gait (HP:0002136) (observed)     1"
      ]
     },
     "execution_count": 11,
     "metadata": {},
     "output_type": "execute_result"
    }
   ],
   "source": [
    "amb_d = {'previously ambulant': 'Loss of ambulation',\n",
    "              'gait': 'Unsteady gait'}\n",
    "hpo_terms = [[\"Unsteady gait\", \"HP:0002317\"] ]\n",
    "ambMapper = OptionColumnMapper(column_name='Ambulation',concept_recognizer=hpo_cr, option_d=amb_d)\n",
    "column_mapper_list.append(ambMapper)\n",
    "ambMapper.preview_column(dft)"
   ]
  },
  {
   "cell_type": "code",
   "execution_count": 12,
   "id": "b576b9e8",
   "metadata": {},
   "outputs": [
    {
     "data": {
      "text/html": [
       "<div>\n",
       "<style scoped>\n",
       "    .dataframe tbody tr th:only-of-type {\n",
       "        vertical-align: middle;\n",
       "    }\n",
       "\n",
       "    .dataframe tbody tr th {\n",
       "        vertical-align: top;\n",
       "    }\n",
       "\n",
       "    .dataframe thead th {\n",
       "        text-align: right;\n",
       "    }\n",
       "</style>\n",
       "<table border=\"1\" class=\"dataframe\">\n",
       "  <thead>\n",
       "    <tr style=\"text-align: right;\">\n",
       "      <th></th>\n",
       "      <th>mapping</th>\n",
       "      <th>count</th>\n",
       "    </tr>\n",
       "  </thead>\n",
       "  <tbody>\n",
       "    <tr>\n",
       "      <th>0</th>\n",
       "      <td>Hyperactivity (HP:0000752) (observed)</td>\n",
       "      <td>4</td>\n",
       "    </tr>\n",
       "    <tr>\n",
       "      <th>1</th>\n",
       "      <td>Abnormal repetitive mannerisms (HP:0000733) (observed)</td>\n",
       "      <td>1</td>\n",
       "    </tr>\n",
       "    <tr>\n",
       "      <th>2</th>\n",
       "      <td>Pica (HP:0011856) (observed)</td>\n",
       "      <td>2</td>\n",
       "    </tr>\n",
       "    <tr>\n",
       "      <th>3</th>\n",
       "      <td>Attention deficit hyperactivity disorder (HP:0007018) (observed)</td>\n",
       "      <td>1</td>\n",
       "    </tr>\n",
       "  </tbody>\n",
       "</table>\n",
       "</div>"
      ],
      "text/plain": [
       "                                                            mapping count\n",
       "0                             Hyperactivity (HP:0000752) (observed)     4\n",
       "1            Abnormal repetitive mannerisms (HP:0000733) (observed)     1\n",
       "2                                      Pica (HP:0011856) (observed)     2\n",
       "3  Attention deficit hyperactivity disorder (HP:0007018) (observed)     1"
      ]
     },
     "execution_count": 12,
     "metadata": {},
     "output_type": "execute_result"
    }
   ],
   "source": [
    "temp_d = {'hyperactivity': 'Hyperactivity',\n",
    "              'pica': 'Pica',\n",
    "             'repetitive behaviors': 'Abnormal repetitive mannerisms'}\n",
    "tempMapper = OptionColumnMapper(column_name='Temperament/behavior',concept_recognizer=hpo_cr, option_d=temp_d)\n",
    "column_mapper_list.append(tempMapper)\n",
    "tempMapper.preview_column(dft)"
   ]
  },
  {
   "cell_type": "code",
   "execution_count": 13,
   "id": "a91ef7fa",
   "metadata": {},
   "outputs": [
    {
     "data": {
      "text/html": [
       "<div>\n",
       "<style scoped>\n",
       "    .dataframe tbody tr th:only-of-type {\n",
       "        vertical-align: middle;\n",
       "    }\n",
       "\n",
       "    .dataframe tbody tr th {\n",
       "        vertical-align: top;\n",
       "    }\n",
       "\n",
       "    .dataframe thead th {\n",
       "        text-align: right;\n",
       "    }\n",
       "</style>\n",
       "<table border=\"1\" class=\"dataframe\">\n",
       "  <thead>\n",
       "    <tr style=\"text-align: right;\">\n",
       "      <th></th>\n",
       "      <th>mapping</th>\n",
       "      <th>count</th>\n",
       "    </tr>\n",
       "  </thead>\n",
       "  <tbody>\n",
       "    <tr>\n",
       "      <th>0</th>\n",
       "      <td>Focal impaired awareness seizure (HP:0002384) (observed)</td>\n",
       "      <td>1</td>\n",
       "    </tr>\n",
       "    <tr>\n",
       "      <th>1</th>\n",
       "      <td>Bilateral tonic-clonic seizure (HP:0002069) (observed)</td>\n",
       "      <td>2</td>\n",
       "    </tr>\n",
       "    <tr>\n",
       "      <th>2</th>\n",
       "      <td>Generalized non-motor (absence) seizure (HP:0002121) (observed)</td>\n",
       "      <td>2</td>\n",
       "    </tr>\n",
       "  </tbody>\n",
       "</table>\n",
       "</div>"
      ],
      "text/plain": [
       "                                                           mapping count\n",
       "0         Focal impaired awareness seizure (HP:0002384) (observed)     1\n",
       "1           Bilateral tonic-clonic seizure (HP:0002069) (observed)     2\n",
       "2  Generalized non-motor (absence) seizure (HP:0002121) (observed)     2"
      ]
     },
     "execution_count": 13,
     "metadata": {},
     "output_type": "execute_result"
    }
   ],
   "source": [
    "seizure_d = {'GTC': 'Bilateral tonic-clonic seizure',\n",
    "              'focal dyscognitive': 'Focal impaired awareness seizure',\n",
    "             'absence': 'Generalized non-motor (absence) seizure'}\n",
    "seizureMapper = OptionColumnMapper(column_name='Epilepsy',concept_recognizer=hpo_cr, option_d=seizure_d)\n",
    "column_mapper_list.append(seizureMapper)\n",
    "seizureMapper.preview_column(dft)"
   ]
  },
  {
   "cell_type": "code",
   "execution_count": 14,
   "id": "088c2237",
   "metadata": {},
   "outputs": [
    {
     "data": {
      "text/html": [
       "<div>\n",
       "<style scoped>\n",
       "    .dataframe tbody tr th:only-of-type {\n",
       "        vertical-align: middle;\n",
       "    }\n",
       "\n",
       "    .dataframe tbody tr th {\n",
       "        vertical-align: top;\n",
       "    }\n",
       "\n",
       "    .dataframe thead th {\n",
       "        text-align: right;\n",
       "    }\n",
       "</style>\n",
       "<table border=\"1\" class=\"dataframe\">\n",
       "  <thead>\n",
       "    <tr style=\"text-align: right;\">\n",
       "      <th></th>\n",
       "      <th>mapping</th>\n",
       "      <th>count</th>\n",
       "    </tr>\n",
       "  </thead>\n",
       "  <tbody>\n",
       "    <tr>\n",
       "      <th>0</th>\n",
       "      <td>original value: \"+\" -&gt; HP: Spasticity (HP:0001257) (observed)</td>\n",
       "      <td>3</td>\n",
       "    </tr>\n",
       "    <tr>\n",
       "      <th>1</th>\n",
       "      <td>original value: \"-\" -&gt; HP: Spasticity (HP:0001257) (excluded)</td>\n",
       "      <td>4</td>\n",
       "    </tr>\n",
       "  </tbody>\n",
       "</table>\n",
       "</div>"
      ],
      "text/plain": [
       "                                                         mapping count\n",
       "0  original value: \"+\" -> HP: Spasticity (HP:0001257) (observed)     3\n",
       "1  original value: \"-\" -> HP: Spasticity (HP:0001257) (excluded)     4"
      ]
     },
     "execution_count": 14,
     "metadata": {},
     "output_type": "execute_result"
    }
   ],
   "source": [
    "# Progressive spasticity\n",
    "spMapper = SimpleColumnMapper(column_name='Progressive spasticity',hpo_id=\"HP:0001257\", hpo_label=\"Spasticity\", observed=\"+\", excluded=\"-\")\n",
    "column_mapper_list.append(spMapper)\n",
    "spMapper.preview_column(dft)"
   ]
  },
  {
   "cell_type": "code",
   "execution_count": 15,
   "id": "7b8da2ee",
   "metadata": {},
   "outputs": [
    {
     "data": {
      "text/html": [
       "<div>\n",
       "<style scoped>\n",
       "    .dataframe tbody tr th:only-of-type {\n",
       "        vertical-align: middle;\n",
       "    }\n",
       "\n",
       "    .dataframe tbody tr th {\n",
       "        vertical-align: top;\n",
       "    }\n",
       "\n",
       "    .dataframe thead th {\n",
       "        text-align: right;\n",
       "    }\n",
       "</style>\n",
       "<table border=\"1\" class=\"dataframe\">\n",
       "  <thead>\n",
       "    <tr style=\"text-align: right;\">\n",
       "      <th></th>\n",
       "      <th>mapping</th>\n",
       "      <th>count</th>\n",
       "    </tr>\n",
       "  </thead>\n",
       "  <tbody>\n",
       "    <tr>\n",
       "      <th>0</th>\n",
       "      <td>Hypertonia (HP:0001276) (observed)</td>\n",
       "      <td>2</td>\n",
       "    </tr>\n",
       "    <tr>\n",
       "      <th>1</th>\n",
       "      <td>Stereotypical hand wringing (HP:0012171) (observed)</td>\n",
       "      <td>2</td>\n",
       "    </tr>\n",
       "    <tr>\n",
       "      <th>2</th>\n",
       "      <td>Protruding tongue (HP:0010808) (observed)</td>\n",
       "      <td>1</td>\n",
       "    </tr>\n",
       "    <tr>\n",
       "      <th>3</th>\n",
       "      <td>Ataxia (HP:0001251) (observed)</td>\n",
       "      <td>5</td>\n",
       "    </tr>\n",
       "    <tr>\n",
       "      <th>4</th>\n",
       "      <td>Stereotypical body rocking (HP:0012172) (observed)</td>\n",
       "      <td>1</td>\n",
       "    </tr>\n",
       "    <tr>\n",
       "      <th>5</th>\n",
       "      <td>Tongue thrusting (HP:0100703) (observed)</td>\n",
       "      <td>1</td>\n",
       "    </tr>\n",
       "    <tr>\n",
       "      <th>6</th>\n",
       "      <td>Tics (HP:0100033) (observed)</td>\n",
       "      <td>1</td>\n",
       "    </tr>\n",
       "  </tbody>\n",
       "</table>\n",
       "</div>"
      ],
      "text/plain": [
       "                                               mapping count\n",
       "0                   Hypertonia (HP:0001276) (observed)     2\n",
       "1  Stereotypical hand wringing (HP:0012171) (observed)     2\n",
       "2            Protruding tongue (HP:0010808) (observed)     1\n",
       "3                       Ataxia (HP:0001251) (observed)     5\n",
       "4   Stereotypical body rocking (HP:0012172) (observed)     1\n",
       "5             Tongue thrusting (HP:0100703) (observed)     1\n",
       "6                         Tics (HP:0100033) (observed)     1"
      ]
     },
     "execution_count": 15,
     "metadata": {},
     "output_type": "execute_result"
    }
   ],
   "source": [
    "mvt_d = {'paroxysmal hypertonicity': 'Hypertonia',\n",
    "              'stereotypical hand movements': 'Stereotypical hand wringing',\n",
    "             'ataxia': 'Ataxia',\n",
    "        'body rocking': 'Stereotypical body rocking'}\n",
    "mvtMapper = OptionColumnMapper(column_name='Movement disorder?',concept_recognizer=hpo_cr, option_d=mvt_d)\n",
    "column_mapper_list.append(mvtMapper)\n",
    "mvtMapper.preview_column(dft)"
   ]
  },
  {
   "cell_type": "code",
   "execution_count": 16,
   "id": "043565d2",
   "metadata": {},
   "outputs": [
    {
     "data": {
      "text/html": [
       "<div>\n",
       "<style scoped>\n",
       "    .dataframe tbody tr th:only-of-type {\n",
       "        vertical-align: middle;\n",
       "    }\n",
       "\n",
       "    .dataframe tbody tr th {\n",
       "        vertical-align: top;\n",
       "    }\n",
       "\n",
       "    .dataframe thead th {\n",
       "        text-align: right;\n",
       "    }\n",
       "</style>\n",
       "<table border=\"1\" class=\"dataframe\">\n",
       "  <thead>\n",
       "    <tr style=\"text-align: right;\">\n",
       "      <th></th>\n",
       "      <th>mapping</th>\n",
       "      <th>count</th>\n",
       "    </tr>\n",
       "  </thead>\n",
       "  <tbody>\n",
       "    <tr>\n",
       "      <th>0</th>\n",
       "      <td>Strabismus (HP:0000486) (observed)</td>\n",
       "      <td>1</td>\n",
       "    </tr>\n",
       "    <tr>\n",
       "      <th>1</th>\n",
       "      <td>Accommodative esotropia (HP:0020046) (observed)</td>\n",
       "      <td>1</td>\n",
       "    </tr>\n",
       "    <tr>\n",
       "      <th>2</th>\n",
       "      <td>Esotropia (HP:0000565) (observed)</td>\n",
       "      <td>2</td>\n",
       "    </tr>\n",
       "  </tbody>\n",
       "</table>\n",
       "</div>"
      ],
      "text/plain": [
       "                                           mapping count\n",
       "0               Strabismus (HP:0000486) (observed)     1\n",
       "1  Accommodative esotropia (HP:0020046) (observed)     1\n",
       "2                Esotropia (HP:0000565) (observed)     2"
      ]
     },
     "execution_count": 16,
     "metadata": {},
     "output_type": "execute_result"
    }
   ],
   "source": [
    "oph_d = {\"strabismus\": \"Strabismus\", \n",
    "         \"esotropia\": \"Esotropia\"}\n",
    "ophMapper =  OptionColumnMapper(column_name='Ophthalmological features',concept_recognizer=hpo_cr, option_d=oph_d)\n",
    "column_mapper_list.append(ophMapper)\n",
    "ophMapper.preview_column(dft)"
   ]
  },
  {
   "cell_type": "code",
   "execution_count": 17,
   "id": "a688b20c",
   "metadata": {},
   "outputs": [
    {
     "data": {
      "text/html": [
       "<div>\n",
       "<style scoped>\n",
       "    .dataframe tbody tr th:only-of-type {\n",
       "        vertical-align: middle;\n",
       "    }\n",
       "\n",
       "    .dataframe tbody tr th {\n",
       "        vertical-align: top;\n",
       "    }\n",
       "\n",
       "    .dataframe thead th {\n",
       "        text-align: right;\n",
       "    }\n",
       "</style>\n",
       "<table border=\"1\" class=\"dataframe\">\n",
       "  <thead>\n",
       "    <tr style=\"text-align: right;\">\n",
       "      <th></th>\n",
       "      <th>mapping</th>\n",
       "      <th>count</th>\n",
       "    </tr>\n",
       "  </thead>\n",
       "  <tbody>\n",
       "    <tr>\n",
       "      <th>0</th>\n",
       "      <td>Cerebral cortical atrophy (HP:0002120) (observed)</td>\n",
       "      <td>2</td>\n",
       "    </tr>\n",
       "  </tbody>\n",
       "</table>\n",
       "</div>"
      ],
      "text/plain": [
       "                                             mapping count\n",
       "0  Cerebral cortical atrophy (HP:0002120) (observed)     2"
      ]
     },
     "execution_count": 17,
     "metadata": {},
     "output_type": "execute_result"
    }
   ],
   "source": [
    "brain_d = {\"cortical atrophy (13 year)\": \"Cerebral cortical atrophy\"}\n",
    "brainMapper =  OptionColumnMapper(column_name='Brain MRI',concept_recognizer=hpo_cr, option_d=brain_d)\n",
    "column_mapper_list.append(brainMapper)\n",
    "brainMapper.preview_column(dft)"
   ]
  },
  {
   "cell_type": "code",
   "execution_count": 18,
   "id": "874b92d7",
   "metadata": {},
   "outputs": [
    {
     "data": {
      "text/html": [
       "<div>\n",
       "<style scoped>\n",
       "    .dataframe tbody tr th:only-of-type {\n",
       "        vertical-align: middle;\n",
       "    }\n",
       "\n",
       "    .dataframe tbody tr th {\n",
       "        vertical-align: top;\n",
       "    }\n",
       "\n",
       "    .dataframe thead th {\n",
       "        text-align: right;\n",
       "    }\n",
       "</style>\n",
       "<table border=\"1\" class=\"dataframe\">\n",
       "  <thead>\n",
       "    <tr style=\"text-align: right;\">\n",
       "      <th></th>\n",
       "      <th>mapping</th>\n",
       "      <th>count</th>\n",
       "    </tr>\n",
       "  </thead>\n",
       "  <tbody>\n",
       "    <tr>\n",
       "      <th>0</th>\n",
       "      <td>Peripheral neuropathy (HP:0009830) (observed)</td>\n",
       "      <td>1</td>\n",
       "    </tr>\n",
       "    <tr>\n",
       "      <th>1</th>\n",
       "      <td>Axial hypotonia (HP:0008936) (observed)</td>\n",
       "      <td>2</td>\n",
       "    </tr>\n",
       "    <tr>\n",
       "      <th>2</th>\n",
       "      <td>Pain insensitivity (HP:0007021) (observed)</td>\n",
       "      <td>2</td>\n",
       "    </tr>\n",
       "    <tr>\n",
       "      <th>3</th>\n",
       "      <td>Torticollis (HP:0000473) (observed)</td>\n",
       "      <td>1</td>\n",
       "    </tr>\n",
       "    <tr>\n",
       "      <th>4</th>\n",
       "      <td>Self-injurious behavior (HP:0100716) (observed)</td>\n",
       "      <td>1</td>\n",
       "    </tr>\n",
       "  </tbody>\n",
       "</table>\n",
       "</div>"
      ],
      "text/plain": [
       "                                           mapping count\n",
       "0    Peripheral neuropathy (HP:0009830) (observed)     1\n",
       "1          Axial hypotonia (HP:0008936) (observed)     2\n",
       "2       Pain insensitivity (HP:0007021) (observed)     2\n",
       "3              Torticollis (HP:0000473) (observed)     1\n",
       "4  Self-injurious behavior (HP:0100716) (observed)     1"
      ]
     },
     "execution_count": 18,
     "metadata": {},
     "output_type": "execute_result"
    }
   ],
   "source": [
    "neuro_d = {\"mixed peripheral neuropathy\" : \"Peripheral neuropathy\",\n",
    "          \"truncal hypotonia\": \"Axial hypotonia\",\n",
    "          \"torticollis\": \"Torticollis\",\n",
    "          \"high pain threshold\": \"Pain insensitivity\",\n",
    "          \"self-sustained injuries\": \"Self-injurious behavior\"}\n",
    "neuroMapper =  OptionColumnMapper(column_name='Additional neurological features',concept_recognizer=hpo_cr, option_d=neuro_d)\n",
    "column_mapper_list.append(neuroMapper)\n",
    "neuroMapper.preview_column(dft)"
   ]
  },
  {
   "cell_type": "code",
   "execution_count": 19,
   "id": "4c7f69e7",
   "metadata": {},
   "outputs": [
    {
     "data": {
      "text/html": [
       "<div>\n",
       "<style scoped>\n",
       "    .dataframe tbody tr th:only-of-type {\n",
       "        vertical-align: middle;\n",
       "    }\n",
       "\n",
       "    .dataframe tbody tr th {\n",
       "        vertical-align: top;\n",
       "    }\n",
       "\n",
       "    .dataframe thead th {\n",
       "        text-align: right;\n",
       "    }\n",
       "</style>\n",
       "<table border=\"1\" class=\"dataframe\">\n",
       "  <thead>\n",
       "    <tr style=\"text-align: right;\">\n",
       "      <th></th>\n",
       "      <th>mapping</th>\n",
       "      <th>count</th>\n",
       "    </tr>\n",
       "  </thead>\n",
       "  <tbody>\n",
       "    <tr>\n",
       "      <th>0</th>\n",
       "      <td>Failure to thrive (HP:0001508) (observed)</td>\n",
       "      <td>2</td>\n",
       "    </tr>\n",
       "    <tr>\n",
       "      <th>1</th>\n",
       "      <td>Gastroesophageal reflux (HP:0002020) (observed)</td>\n",
       "      <td>4</td>\n",
       "    </tr>\n",
       "    <tr>\n",
       "      <th>2</th>\n",
       "      <td>Constipation (HP:0002019) (observed)</td>\n",
       "      <td>2</td>\n",
       "    </tr>\n",
       "    <tr>\n",
       "      <th>3</th>\n",
       "      <td>Ulcerative colitis (HP:0100279) (observed)</td>\n",
       "      <td>1</td>\n",
       "    </tr>\n",
       "    <tr>\n",
       "      <th>4</th>\n",
       "      <td>Chronic diarrhea (HP:0002028) (observed)</td>\n",
       "      <td>1</td>\n",
       "    </tr>\n",
       "    <tr>\n",
       "      <th>5</th>\n",
       "      <td>Vomiting (HP:0002013) (observed)</td>\n",
       "      <td>1</td>\n",
       "    </tr>\n",
       "  </tbody>\n",
       "</table>\n",
       "</div>"
      ],
      "text/plain": [
       "                                           mapping count\n",
       "0        Failure to thrive (HP:0001508) (observed)     2\n",
       "1  Gastroesophageal reflux (HP:0002020) (observed)     4\n",
       "2             Constipation (HP:0002019) (observed)     2\n",
       "3       Ulcerative colitis (HP:0100279) (observed)     1\n",
       "4         Chronic diarrhea (HP:0002028) (observed)     1\n",
       "5                 Vomiting (HP:0002013) (observed)     1"
      ]
     },
     "execution_count": 19,
     "metadata": {},
     "output_type": "execute_result"
    }
   ],
   "source": [
    "gi_d =  {\"failure to thrive\": \"Failure to thrive\",\n",
    "        \"GERD\": \"Gastroesophageal reflux\"}\n",
    "giMapper =  OptionColumnMapper(column_name='Gastro-intestinal symptoms',concept_recognizer=hpo_cr, option_d=gi_d)\n",
    "column_mapper_list.append(giMapper)\n",
    "giMapper.preview_column(dft)"
   ]
  },
  {
   "cell_type": "code",
   "execution_count": 20,
   "id": "003fa9b5",
   "metadata": {},
   "outputs": [
    {
     "data": {
      "text/html": [
       "<div>\n",
       "<style scoped>\n",
       "    .dataframe tbody tr th:only-of-type {\n",
       "        vertical-align: middle;\n",
       "    }\n",
       "\n",
       "    .dataframe tbody tr th {\n",
       "        vertical-align: top;\n",
       "    }\n",
       "\n",
       "    .dataframe thead th {\n",
       "        text-align: right;\n",
       "    }\n",
       "</style>\n",
       "<table border=\"1\" class=\"dataframe\">\n",
       "  <thead>\n",
       "    <tr style=\"text-align: right;\">\n",
       "      <th></th>\n",
       "      <th>mapping</th>\n",
       "      <th>count</th>\n",
       "    </tr>\n",
       "  </thead>\n",
       "  <tbody>\n",
       "    <tr>\n",
       "      <th>0</th>\n",
       "      <td>Equinovarus deformity (HP:0008110) (observed)</td>\n",
       "      <td>1</td>\n",
       "    </tr>\n",
       "    <tr>\n",
       "      <th>1</th>\n",
       "      <td>Thoracolumbar scoliosis (HP:0002944) (observed)</td>\n",
       "      <td>1</td>\n",
       "    </tr>\n",
       "    <tr>\n",
       "      <th>2</th>\n",
       "      <td>Otitis media (HP:0000388) (observed)</td>\n",
       "      <td>1</td>\n",
       "    </tr>\n",
       "    <tr>\n",
       "      <th>3</th>\n",
       "      <td>Advanced eruption of teeth (HP:0006288) (observed)</td>\n",
       "      <td>2</td>\n",
       "    </tr>\n",
       "    <tr>\n",
       "      <th>4</th>\n",
       "      <td>Facial asymmetry (HP:0000324) (observed)</td>\n",
       "      <td>1</td>\n",
       "    </tr>\n",
       "    <tr>\n",
       "      <th>5</th>\n",
       "      <td>Frontal balding (HP:0002292) (observed)</td>\n",
       "      <td>1</td>\n",
       "    </tr>\n",
       "    <tr>\n",
       "      <th>6</th>\n",
       "      <td>Pes valgus (HP:0008081) (observed)</td>\n",
       "      <td>1</td>\n",
       "    </tr>\n",
       "    <tr>\n",
       "      <th>7</th>\n",
       "      <td>Enuresis nocturna (HP:0010677) (observed)</td>\n",
       "      <td>1</td>\n",
       "    </tr>\n",
       "  </tbody>\n",
       "</table>\n",
       "</div>"
      ],
      "text/plain": [
       "                                              mapping count\n",
       "0       Equinovarus deformity (HP:0008110) (observed)     1\n",
       "1     Thoracolumbar scoliosis (HP:0002944) (observed)     1\n",
       "2                Otitis media (HP:0000388) (observed)     1\n",
       "3  Advanced eruption of teeth (HP:0006288) (observed)     2\n",
       "4            Facial asymmetry (HP:0000324) (observed)     1\n",
       "5             Frontal balding (HP:0002292) (observed)     1\n",
       "6                  Pes valgus (HP:0008081) (observed)     1\n",
       "7           Enuresis nocturna (HP:0010677) (observed)     1"
      ]
     },
     "execution_count": 20,
     "metadata": {},
     "output_type": "execute_result"
    }
   ],
   "source": [
    "add_d = {\"equinovarus\": \"Talipes equinovarus\",\n",
    "       \"thoracolumbar scoliosis\": \"Thoracolumbar scoliosis\",\n",
    "        \"premature eruption of teeth\":\"Advanced eruption of teeth\",\n",
    "        \"facial asymmetry\": \"Facial asymmetry\",\n",
    "        \"planovalgus\":\"Pes valgus\",\n",
    "        \"nocturnal eneuresis\":\"Enuresis nocturna\"}\n",
    "addMapper =  OptionColumnMapper(column_name='Additional non- neurological features',concept_recognizer=hpo_cr, option_d=add_d)\n",
    "column_mapper_list.append(addMapper)\n",
    "addMapper.preview_column(dft)"
   ]
  },
  {
   "cell_type": "markdown",
   "id": "7e061508",
   "metadata": {},
   "source": [
    "<h2>Variants</h2>\n",
    "<p>In all case subjects, the c.2737C>T variant was confirmed.</p>"
   ]
  },
  {
   "cell_type": "code",
   "execution_count": 21,
   "id": "093284fa",
   "metadata": {},
   "outputs": [
    {
     "name": "stdout",
     "output_type": "stream",
     "text": [
      "https://rest.variantvalidator.org/VariantValidator/variantvalidator/hg38/NM_020928.2%3Ac.2737C>T/NM_020928.2?content-type=application%2Fjson\n"
     ]
    }
   ],
   "source": [
    "#c.2737C>T\n",
    "validator = VariantValidator(genome_build='hg38')\n",
    "transcript = \"NM_020928.2\"\n",
    "var_hgvs = \"c.2737C>T\"\n",
    "v = validator.encode_hgvs(hgvs=var_hgvs, custom_transcript=transcript)\n",
    "v.set_heterozygous()"
   ]
  },
  {
   "cell_type": "code",
   "execution_count": 22,
   "id": "97468004-840e-4cb4-944e-39cf060f2ebf",
   "metadata": {},
   "outputs": [],
   "source": [
    "variantMapper = VariantColumnMapper(variant_d={\"c.2737C>T\":v}, variant_column_name=\"variant\")"
   ]
  },
  {
   "cell_type": "code",
   "execution_count": 23,
   "id": "9ff66e0d",
   "metadata": {},
   "outputs": [],
   "source": [
    "ageMapper = AgeColumnMapper.by_year('Age (year)')\n",
    "#ageMapper.preview_column(dft['Age (year)'])\n",
    "sexMapper = SexColumnMapper(male_symbol='M', female_symbol='F', column_name='Gender')\n",
    "#sexMapper.preview_column(dft['Gender'])\n",
    "\n",
    "# Make a column for the patient id\n",
    "dft.index\n",
    "dft['patient_id'] = dft.index\n",
    "individual_column_name = 'patient_id'\n",
    "# Patient IDs are like this p.Arg913Ter Affected Individual 1\n",
    "# simplify\n",
    "dft['patient_id'] = dft['patient_id'].str.replace('p.Arg913Ter Affected ','')\n",
    "dft['variant'] = \"c.2737C>T\"\n",
    "encoder = CohortEncoder(df=dft, \n",
    "                        hpo_cr=hpo_cr, \n",
    "                        column_mapper_list=column_mapper_list, \n",
    "                        individual_column_name=individual_column_name,\n",
    "                        agemapper=ageMapper, \n",
    "                        sexmapper=sexMapper,\n",
    "                        variant_mapper=variantMapper,\n",
    "                        metadata=metadata)"
   ]
  },
  {
   "cell_type": "code",
   "execution_count": 24,
   "id": "924deeda",
   "metadata": {},
   "outputs": [],
   "source": [
    "disease_id = 'OMIM:617865'\n",
    "disease_name = 'Neurodevelopmental disorder with movement abnormalities, abnormal gait, and autistic features'\n",
    "disease = Disease(disease_id=disease_id, disease_label=disease_name)\n",
    "encoder.set_disease(disease=disease)"
   ]
  },
  {
   "cell_type": "code",
   "execution_count": 25,
   "id": "07fbbe2b",
   "metadata": {},
   "outputs": [
    {
     "data": {
      "text/html": [
       "<h2>Cohort validation</h2>\n",
       "<p>Errors found with 5 of 7 phenopackets.</p>\n",
       "<table style=\"border: 2px solid black; align: \"left\">\n",
       "<caption>Error counts</caption>\n",
       "<tr><th style=\"text-align: left;font-weight: bold;\">Level</th><th style=\"text-align: left;font-weight: bold;\">Error category</th><th style=\"text-align: left;font-weight: bold;\">Count</th></tr>\n",
       "<tr><td style=\"text-align: left;\">WARNING</td><td style=\"text-align: left;\">REDUNDANT</td><td style=\"text-align: left;\">5</td></tr>\n",
       "</table>\n",
       "<p>A total of 5 issues were fixed and no individual was removed from the cohort.</p>"
      ],
      "text/plain": [
       "<IPython.core.display.HTML object>"
      ]
     },
     "metadata": {},
     "output_type": "display_data"
    }
   ],
   "source": [
    "individuals = encoder.get_individuals()\n",
    "cvalidator = CohortValidator(cohort=individuals, ontology=hpo_ontology, min_hpo=1, allelic_requirement=AllelicRequirement.MONO_ALLELIC)\n",
    "qc = QcVisualizer(cohort_validator=cvalidator)\n",
    "display(HTML(qc.to_summary_html()))"
   ]
  },
  {
   "cell_type": "code",
   "execution_count": 26,
   "id": "451efc2f-2371-4424-a9ef-82e2f9fc27fe",
   "metadata": {},
   "outputs": [
    {
     "data": {
      "text/html": [
       "<table style=\"border: 2px solid black; align: \"left\">\n",
       "<caption>7 phenopackets - PMID:29198722 (n=7)</caption>\n",
       "<tr><th style=\"text-align: left;font-weight: bold;\">Individual</th><th style=\"text-align: left;font-weight: bold;\">Disease</th><th style=\"text-align: left;font-weight: bold;\">Genotype</th><th style=\"text-align: left;font-weight: bold;\">Phenotypic features</th></tr>\n",
       "<tr><td style=\"text-align: left;\">Individual 1 (MALE; P16Y)</td><td style=\"text-align: left;\">Neurodevelopmental disorder with movement abnormalities, abnormal gait, and autistic features (OMIM:617865)</td><td style=\"text-align: left;\">NM_020928.2:c.2737C>T (heterozygous)</td><td style=\"text-align: left;\">Intellectual disability, profound (HP:0002187); Hypotonia (HP:0001252); Delayed gross motor development (HP:0002194); Autistic behavior (HP:0000729); Delayed speech and language development (HP:0000750); Unsteady gait (HP:0002317); Loss of ambulation (HP:0002505); Hyperactivity (HP:0000752); Bilateral tonic-clonic seizure (HP:0002069); Focal impaired awareness seizure (HP:0002384); Spasticity (HP:0001257); Cerebral cortical atrophy (HP:0002120); Peripheral neuropathy (HP:0009830); Gastroesophageal reflux (HP:0002020); Failure to thrive (HP:0001508); Constipation (HP:0002019); Ulcerative colitis (HP:0100279); Equinovarus deformity (HP:0008110); Thoracolumbar scoliosis (HP:0002944)</td></tr>\n",
       "<tr><td style=\"text-align: left;\">Individual 2 (FEMALE; P7Y)</td><td style=\"text-align: left;\">Neurodevelopmental disorder with movement abnormalities, abnormal gait, and autistic features (OMIM:617865)</td><td style=\"text-align: left;\">NM_020928.2:c.2737C>T (heterozygous)</td><td style=\"text-align: left;\">Intellectual disability, severe (HP:0010864); Progressive microcephaly (HP:0000253); Hypotonia (HP:0001252); Delayed gross motor development (HP:0002194); Delayed speech and language development (HP:0000750); Gait ataxia (HP:0002066); Hyperactivity (HP:0000752); Stereotypical hand wringing (HP:0012171); Protruding tongue (HP:0010808); Strabismus (HP:0000486); Vomiting (HP:0002013); Chronic diarrhea (HP:0002028); excluded: Autistic behavior (HP:0000729); excluded: Spasticity (HP:0001257)</td></tr>\n",
       "<tr><td style=\"text-align: left;\">Individual 3 (FEMALE; P4Y)</td><td style=\"text-align: left;\">Neurodevelopmental disorder with movement abnormalities, abnormal gait, and autistic features (OMIM:617865)</td><td style=\"text-align: left;\">NM_020928.2:c.2737C>T (heterozygous)</td><td style=\"text-align: left;\">Intellectual disability, severe (HP:0010864); Progressive microcephaly (HP:0000253); Delayed gross motor development (HP:0002194); Autistic behavior (HP:0000729); Delayed speech and language development (HP:0000750); Unsteady gait (HP:0002317); Hyperactivity (HP:0000752); Abnormal repetitive mannerisms (HP:0000733); Pica (HP:0011856); Hypertonia (HP:0001276); Ataxia (HP:0001251); Axial hypotonia (HP:0008936); Pain insensitivity (HP:0007021); Gastroesophageal reflux (HP:0002020); Otitis media (HP:0000388); excluded: Spasticity (HP:0001257)</td></tr>\n",
       "<tr><td style=\"text-align: left;\">Individual 4 (FEMALE; P5Y)</td><td style=\"text-align: left;\">Neurodevelopmental disorder with movement abnormalities, abnormal gait, and autistic features (OMIM:617865)</td><td style=\"text-align: left;\">NM_020928.2:c.2737C>T (heterozygous)</td><td style=\"text-align: left;\">Intellectual disability, severe (HP:0010864); Delayed gross motor development (HP:0002194); Autistic behavior (HP:0000729); Delayed speech and language development (HP:0000750); Unsteady gait (HP:0002317); Spasticity (HP:0001257); Stereotypical body rocking (HP:0012172); Ataxia (HP:0001251); Accommodative esotropia (HP:0020046); Axial hypotonia (HP:0008936); Gastroesophageal reflux (HP:0002020); Advanced eruption of teeth (HP:0006288)</td></tr>\n",
       "<tr><td style=\"text-align: left;\">Individual 5 (FEMALE; P3Y)</td><td style=\"text-align: left;\">Neurodevelopmental disorder with movement abnormalities, abnormal gait, and autistic features (OMIM:617865)</td><td style=\"text-align: left;\">NM_020928.2:c.2737C>T (heterozygous)</td><td style=\"text-align: left;\">Intellectual disability, severe (HP:0010864); Progressive microcephaly (HP:0000253); Hypotonia (HP:0001252); Delayed gross motor development (HP:0002194); Autistic behavior (HP:0000729); Delayed speech and language development (HP:0000750); Stereotypical hand wringing (HP:0012171); Ataxia (HP:0001251); Esotropia (HP:0000565); Torticollis (HP:0000473); Gastroesophageal reflux (HP:0002020); Failure to thrive (HP:0001508); excluded: Spasticity (HP:0001257)</td></tr>\n",
       "<tr><td style=\"text-align: left;\">Individual 6 (MALE; P29Y)</td><td style=\"text-align: left;\">Neurodevelopmental disorder with movement abnormalities, abnormal gait, and autistic features (OMIM:617865)</td><td style=\"text-align: left;\">NM_020928.2:c.2737C>T (heterozygous)</td><td style=\"text-align: left;\">Intellectual disability, profound (HP:0002187); Progressive macrocephaly (HP:0004481); Hypotonia (HP:0001252); Delayed gross motor development (HP:0002194); Delayed speech and language development (HP:0000750); Broad-based gait (HP:0002136); Generalized non-motor (absence) seizure (HP:0002121); Bilateral tonic-clonic seizure (HP:0002069); Spasticity (HP:0001257); Cerebral cortical atrophy (HP:0002120); Facial asymmetry (HP:0000324); Advanced eruption of teeth (HP:0006288); Frontal balding (HP:0002292); excluded: Autistic behavior (HP:0000729)</td></tr>\n",
       "<tr><td style=\"text-align: left;\">Individual 7 (MALE; P29Y)</td><td style=\"text-align: left;\">Neurodevelopmental disorder with movement abnormalities, abnormal gait, and autistic features (OMIM:617865)</td><td style=\"text-align: left;\">NM_020928.2:c.2737C>T (heterozygous)</td><td style=\"text-align: left;\">Intellectual disability, severe (HP:0010864); Hypotonia (HP:0001252); Delayed gross motor development (HP:0002194); Autistic behavior (HP:0000729); Delayed speech and language development (HP:0000750); Unsteady gait (HP:0002317); Attention deficit hyperactivity disorder (HP:0007018); Pica (HP:0011856); Generalized non-motor (absence) seizure (HP:0002121); Ataxia (HP:0001251); Tongue thrusting (HP:0100703); Tics (HP:0100033); Esotropia (HP:0000565); Pain insensitivity (HP:0007021); Self-injurious behavior (HP:0100716); Constipation (HP:0002019); Pes valgus (HP:0008081); Enuresis nocturna (HP:0010677); excluded: Spasticity (HP:0001257)</td></tr>\n",
       "</table>"
      ],
      "text/plain": [
       "<IPython.core.display.HTML object>"
      ]
     },
     "metadata": {},
     "output_type": "display_data"
    }
   ],
   "source": [
    "individuals = cvalidator.get_error_free_individual_list()\n",
    "table = PhenopacketTable(individual_list=individuals, metadata=metadata)\n",
    "display(HTML(table.to_html()))"
   ]
  },
  {
   "cell_type": "code",
   "execution_count": 27,
   "id": "364edd47",
   "metadata": {},
   "outputs": [
    {
     "name": "stdout",
     "output_type": "stream",
     "text": [
      "We output 7 GA4GH phenopackets to the directory phenopackets\n"
     ]
    }
   ],
   "source": [
    "output_directory = \"phenopackets\"\n",
    "#encoder.output_phenopackets(outdir=output_directory)\n",
    "Individual.output_individuals_as_phenopackets(individual_list=individuals,\n",
    "                                              metadata=metadata,\n",
    "                                              outdir=output_directory)"
   ]
  },
  {
   "cell_type": "code",
   "execution_count": null,
   "id": "4b6dc0ba",
   "metadata": {},
   "outputs": [],
   "source": []
  }
 ],
 "metadata": {
  "kernelspec": {
   "display_name": "ps24venv",
   "language": "python",
   "name": "ps24venv"
  },
  "language_info": {
   "codemirror_mode": {
    "name": "ipython",
    "version": 3
   },
   "file_extension": ".py",
   "mimetype": "text/x-python",
   "name": "python",
   "nbconvert_exporter": "python",
   "pygments_lexer": "ipython3",
   "version": "3.8.10"
  }
 },
 "nbformat": 4,
 "nbformat_minor": 5
}
