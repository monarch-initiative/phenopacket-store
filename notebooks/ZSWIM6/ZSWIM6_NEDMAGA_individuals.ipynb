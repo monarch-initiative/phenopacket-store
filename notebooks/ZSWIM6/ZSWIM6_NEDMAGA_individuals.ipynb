{
 "cells": [
  {
   "cell_type": "markdown",
   "id": "0893f72a",
   "metadata": {},
   "source": [
    "<h1>Neurodevelopmental disorder with movement abnormalities, abnormal gait, and autistic features (ZSWIM6): Palmer et al 2021</h1>\n",
    "<p>Extract the clinical data from <a href=\"https://pubmed.ncbi.nlm.nih.gov/29198722/\"target=\"__blank\">Palmer EE, et al. (2017) A Recurrent De Novo Nonsense Variant in ZSWIM6 Results in Severe Intellectual Disability without Frontonasal or Limb Malformations. Am J Hum Genet. 101(6):995-1005. PMID:29198722</a>.<p>"
   ]
  },
  {
   "cell_type": "code",
   "execution_count": 5,
   "id": "a3f22e5c-a79a-4b14-8a00-c84980001809",
   "metadata": {},
   "outputs": [
    {
     "name": "stdout",
     "output_type": "stream",
     "text": [
      "Using pyphetools version 0.9.71\n"
     ]
    }
   ],
   "source": [
    "from pyphetools.creation import TemplateImporter\n",
    "from pyphetools.visualization import IndividualTable, QcVisualizer\n",
    "from IPython.display import display, HTML\n",
    "import pyphetools\n",
    "print(f\"Using pyphetools version {pyphetools.__version__}\")"
   ]
  },
  {
   "cell_type": "code",
   "execution_count": 12,
   "id": "4b6dc0ba",
   "metadata": {},
   "outputs": [],
   "source": [
    "template = \"input/ZSWIM6_NEDMAGA_individuals.xlsx\"\n",
    "hp_json = \"../hp.json\"\n",
    "created_by = \"0000-0002-0736-9199\""
   ]
  },
  {
   "cell_type": "code",
   "execution_count": 13,
   "id": "2f7a6984-3b47-46eb-acfe-d7877ba295c3",
   "metadata": {},
   "outputs": [
    {
     "name": "stdout",
     "output_type": "stream",
     "text": [
      "HPO version 2024-03-06\n",
      "Created encoders for 63 fields\n",
      "Importing OMIM:617865, Neurodevelopmental disorder with movement abnormalities, abnormal gait, and autistic features, HGNC:29316, ZSWIM6,  NM_020928.2\n",
      "We output 7 GA4GH phenopackets to the directory phenopackets\n"
     ]
    }
   ],
   "source": [
    "timporter = TemplateImporter(template=template, hp_json=hp_json, created_by=created_by)\n",
    "individual_list, cvalidator = timporter.import_phenopackets_from_template()"
   ]
  },
  {
   "cell_type": "code",
   "execution_count": 14,
   "id": "574a01e0-7c38-4de9-b1f1-cf5cd37f388a",
   "metadata": {},
   "outputs": [
    {
     "data": {
      "text/html": [
       "<h2>Cohort validation</h2>\n",
       "<p>Errors found with 7 of 7 phenopackets.</p>\n",
       "<table style=\"border: 2px solid black; align: \"left\">\n",
       "<caption>Error counts</caption>\n",
       "<tr><th style=\"text-align: left;font-weight: bold;\">Level</th><th style=\"text-align: left;font-weight: bold;\">Error category</th><th style=\"text-align: left;font-weight: bold;\">Count</th></tr>\n",
       "<tr><td style=\"text-align: left;\">ERROR</td><td style=\"text-align: left;\">CONFLICT</td><td style=\"text-align: left;\">4</td></tr>\n",
       "<tr><td style=\"text-align: left;\">WARNING</td><td style=\"text-align: left;\">REDUNDANT</td><td style=\"text-align: left;\">18</td></tr>\n",
       "</table>\n",
       "<p>A total of 22 issues were fixed and no individual was removed from the cohort.</p>"
      ],
      "text/plain": [
       "<IPython.core.display.HTML object>"
      ]
     },
     "metadata": {},
     "output_type": "display_data"
    }
   ],
   "source": [
    "qc = QcVisualizer(cohort_validator=cvalidator)\n",
    "display(HTML(qc.to_summary_html()))"
   ]
  },
  {
   "cell_type": "code",
   "execution_count": 15,
   "id": "7cb92d28-1c97-4d94-88cf-581abb8c2660",
   "metadata": {},
   "outputs": [
    {
     "data": {
      "text/html": [
       "<table style=\"border: 2px solid black; align: \"left\">\n",
       "<caption>7 phenopackets - PMID:29198722 (n=7)</caption>\n",
       "<tr><th style=\"text-align: left;font-weight: bold;\">Individual</th><th style=\"text-align: left;font-weight: bold;\">Disease</th><th style=\"text-align: left;font-weight: bold;\">Genotype</th><th style=\"text-align: left;font-weight: bold;\">Phenotypic features</th></tr>\n",
       "<tr><td style=\"text-align: left;\">p.Arg913Ter Affected Individual 1 (MALE; P16Y)</td><td style=\"text-align: left;\">Neurodevelopmental disorder with movement abnormalities, abnormal gait, and autistic features (OMIM:617865)</td><td style=\"text-align: left;\">NM_020928.2:c.2737C>T (heterozygous)</td><td style=\"text-align: left;\">Failure to thrive (HP:0001508); Tongue thrusting (HP:0100703); Loss of ambulation (HP:0002505); Happy demeanor (HP:0040082); Focal impaired awareness seizure (HP:0002384); Bilateral tonic-clonic seizure (HP:0002069); Unsteady gait (HP:0002317); Spasticity (HP:0001257); Cerebral cortical atrophy (HP:0002120); Autistic behavior (HP:0000729); Intellectual disability (HP:0001249); Absent speech (HP:0001344); Peripheral neuropathy (HP:0009830); Global developmental delay (HP:0001263); Gastroesophageal reflux (HP:0002020); Hypotonia (HP:0001252); Long face (HP:0000276); Horizontal eyebrow (HP:0011228); Widely spaced teeth (HP:0000687); Thick vermilion border (HP:0012471); Depressed nasal bridge (HP:0005280); Mandibular prognathia (HP:0000303); Bulbous nose (HP:0000414); Downturned corners of mouth (HP:0002714); excluded: Ataxia (HP:0001251); excluded: Infantile spasms (HP:0012469); excluded: Generalized non-motor (absence) seizure (HP:0002121); excluded: Esotropia (HP:0000565); excluded: Microcephaly (HP:0000252); excluded: Synophrys (HP:0000664); excluded: Narrow palpebral fissure (HP:0045025); excluded: High, narrow palate (HP:0002705); excluded: Highly arched eyebrow (HP:0002553); excluded: Thick eyebrow (HP:0000574); excluded: Flat occiput (HP:0005469); excluded: Cleft helix (HP:0009902); excluded: Epicanthus (HP:0000286); excluded: Smooth philtrum (HP:0000319); excluded: Thin upper lip vermilion (HP:0000219); excluded: Upslanted palpebral fissure (HP:0000582); excluded: Joint hypermobility (HP:0001382)</td></tr>\n",
       "<tr><td style=\"text-align: left;\">p.Arg913Ter Affected Individual 2 (FEMALE; P7Y)</td><td style=\"text-align: left;\">Neurodevelopmental disorder with movement abnormalities, abnormal gait, and autistic features (OMIM:617865)</td><td style=\"text-align: left;\">NM_020928.2:c.2737C>T (heterozygous)</td><td style=\"text-align: left;\">Tongue thrusting (HP:0100703); Ataxia (HP:0001251); Happy demeanor (HP:0040082); Unsteady gait (HP:0002317); Intellectual disability (HP:0001249); Absent speech (HP:0001344); Global developmental delay (HP:0001263); Strabismus (HP:0000486); Hypotonia (HP:0001252); Microcephaly (HP:0000252); excluded: Failure to thrive (HP:0001508); excluded: Loss of ambulation (HP:0002505); excluded: Infantile spasms (HP:0012469); excluded: Focal impaired awareness seizure (HP:0002384); excluded: Bilateral tonic-clonic seizure (HP:0002069); excluded: Generalized non-motor (absence) seizure (HP:0002121); excluded: Spasticity (HP:0001257); excluded: Cerebral cortical atrophy (HP:0002120); excluded: Autistic behavior (HP:0000729); excluded: Peripheral neuropathy (HP:0009830); excluded: Esotropia (HP:0000565); excluded: Gastroesophageal reflux (HP:0002020); excluded: Synophrys (HP:0000664); excluded: Narrow palpebral fissure (HP:0045025); excluded: Long face (HP:0000276); excluded: High, narrow palate (HP:0002705); excluded: Horizontal eyebrow (HP:0011228); excluded: Highly arched eyebrow (HP:0002553); excluded: Thick eyebrow (HP:0000574); excluded: Flat occiput (HP:0005469); excluded: Widely spaced teeth (HP:0000687); excluded: Cleft helix (HP:0009902); excluded: Thick vermilion border (HP:0012471); excluded: Depressed nasal bridge (HP:0005280); excluded: Epicanthus (HP:0000286); excluded: Smooth philtrum (HP:0000319); excluded: Mandibular prognathia (HP:0000303); excluded: Bulbous nose (HP:0000414); excluded: Thin upper lip vermilion (HP:0000219); excluded: Downturned corners of mouth (HP:0002714); excluded: Upslanted palpebral fissure (HP:0000582); excluded: Joint hypermobility (HP:0001382); excluded: Hypoplastic labia majora (HP:0000059)</td></tr>\n",
       "<tr><td style=\"text-align: left;\">p.Arg913Ter Affected Individual 3 (FEMALE; P4Y)</td><td style=\"text-align: left;\">Neurodevelopmental disorder with movement abnormalities, abnormal gait, and autistic features (OMIM:617865)</td><td style=\"text-align: left;\">NM_020928.2:c.2737C>T (heterozygous)</td><td style=\"text-align: left;\">Tongue thrusting (HP:0100703); Hypertonia (HP:0001276); Happy demeanor (HP:0040082); Unsteady gait (HP:0002317); Autistic behavior (HP:0000729); Intellectual disability (HP:0001249); Absent speech (HP:0001344); Global developmental delay (HP:0001263); Gastroesophageal reflux (HP:0002020); Hypotonia (HP:0001252); Microcephaly (HP:0000252); Synophrys (HP:0000664); Horizontal eyebrow (HP:0011228); Smooth philtrum (HP:0000319); Thin upper lip vermilion (HP:0000219); excluded: Failure to thrive (HP:0001508); excluded: Ataxia (HP:0001251); excluded: Loss of ambulation (HP:0002505); excluded: Infantile spasms (HP:0012469); excluded: Focal impaired awareness seizure (HP:0002384); excluded: Bilateral tonic-clonic seizure (HP:0002069); excluded: Generalized non-motor (absence) seizure (HP:0002121); excluded: Spasticity (HP:0001257); excluded: Cerebral cortical atrophy (HP:0002120); excluded: Peripheral neuropathy (HP:0009830); excluded: Esotropia (HP:0000565); excluded: Narrow palpebral fissure (HP:0045025); excluded: Long face (HP:0000276); excluded: High, narrow palate (HP:0002705); excluded: Highly arched eyebrow (HP:0002553); excluded: Thick eyebrow (HP:0000574); excluded: Flat occiput (HP:0005469); excluded: Widely spaced teeth (HP:0000687); excluded: Cleft helix (HP:0009902); excluded: Thick vermilion border (HP:0012471); excluded: Depressed nasal bridge (HP:0005280); excluded: Epicanthus (HP:0000286); excluded: Mandibular prognathia (HP:0000303); excluded: Bulbous nose (HP:0000414); excluded: Downturned corners of mouth (HP:0002714); excluded: Upslanted palpebral fissure (HP:0000582); excluded: Joint hypermobility (HP:0001382); excluded: Hypoplastic labia majora (HP:0000059)</td></tr>\n",
       "<tr><td style=\"text-align: left;\">p.Arg913Ter Affected Individual 4 (FEMALE; P5Y)</td><td style=\"text-align: left;\">Neurodevelopmental disorder with movement abnormalities, abnormal gait, and autistic features (OMIM:617865)</td><td style=\"text-align: left;\">NM_020928.2:c.2737C>T (heterozygous)</td><td style=\"text-align: left;\">Ataxia (HP:0001251); Unsteady gait (HP:0002317); Spasticity (HP:0001257); Autistic behavior (HP:0000729); Intellectual disability (HP:0001249); Absent speech (HP:0001344); Global developmental delay (HP:0001263); Esotropia (HP:0000565); Gastroesophageal reflux (HP:0002020); Hypotonia (HP:0001252); High, narrow palate (HP:0002705); Cleft helix (HP:0009902); Upslanted palpebral fissure (HP:0000582); excluded: Failure to thrive (HP:0001508); excluded: Tongue thrusting (HP:0100703); excluded: Loss of ambulation (HP:0002505); excluded: Infantile spasms (HP:0012469); excluded: Focal impaired awareness seizure (HP:0002384); excluded: Bilateral tonic-clonic seizure (HP:0002069); excluded: Generalized non-motor (absence) seizure (HP:0002121); excluded: Cerebral cortical atrophy (HP:0002120); excluded: Peripheral neuropathy (HP:0009830); excluded: Microcephaly (HP:0000252); excluded: Synophrys (HP:0000664); excluded: Narrow palpebral fissure (HP:0045025); excluded: Long face (HP:0000276); excluded: Horizontal eyebrow (HP:0011228); excluded: Highly arched eyebrow (HP:0002553); excluded: Thick eyebrow (HP:0000574); excluded: Flat occiput (HP:0005469); excluded: Widely spaced teeth (HP:0000687); excluded: Thick vermilion border (HP:0012471); excluded: Depressed nasal bridge (HP:0005280); excluded: Epicanthus (HP:0000286); excluded: Smooth philtrum (HP:0000319); excluded: Mandibular prognathia (HP:0000303); excluded: Bulbous nose (HP:0000414); excluded: Thin upper lip vermilion (HP:0000219); excluded: Downturned corners of mouth (HP:0002714); excluded: Joint hypermobility (HP:0001382); excluded: Hypoplastic labia majora (HP:0000059)</td></tr>\n",
       "<tr><td style=\"text-align: left;\">p.Arg913Ter Affected Individual 5 (FEMALE; P3Y)</td><td style=\"text-align: left;\">Neurodevelopmental disorder with movement abnormalities, abnormal gait, and autistic features (OMIM:617865)</td><td style=\"text-align: left;\">NM_020928.2:c.2737C>T (heterozygous)</td><td style=\"text-align: left;\">Failure to thrive (HP:0001508); Ataxia (HP:0001251); Infantile spasms (HP:0012469); Autistic behavior (HP:0000729); Intellectual disability (HP:0001249); Absent speech (HP:0001344); Global developmental delay (HP:0001263); Esotropia (HP:0000565); Gastroesophageal reflux (HP:0002020); Hypotonia (HP:0001252); Microcephaly (HP:0000252); High, narrow palate (HP:0002705); Flat occiput (HP:0005469); Widely spaced teeth (HP:0000687); Thick vermilion border (HP:0012471); Epicanthus (HP:0000286); Hypoplastic labia majora (HP:0000059); excluded: Tongue thrusting (HP:0100703); excluded: Loss of ambulation (HP:0002505); excluded: Happy demeanor (HP:0040082); excluded: Focal impaired awareness seizure (HP:0002384); excluded: Bilateral tonic-clonic seizure (HP:0002069); excluded: Generalized non-motor (absence) seizure (HP:0002121); excluded: Spasticity (HP:0001257); excluded: Cerebral cortical atrophy (HP:0002120); excluded: Peripheral neuropathy (HP:0009830); excluded: Synophrys (HP:0000664); excluded: Narrow palpebral fissure (HP:0045025); excluded: Long face (HP:0000276); excluded: Horizontal eyebrow (HP:0011228); excluded: Highly arched eyebrow (HP:0002553); excluded: Thick eyebrow (HP:0000574); excluded: Cleft helix (HP:0009902); excluded: Depressed nasal bridge (HP:0005280); excluded: Smooth philtrum (HP:0000319); excluded: Mandibular prognathia (HP:0000303); excluded: Bulbous nose (HP:0000414); excluded: Thin upper lip vermilion (HP:0000219); excluded: Downturned corners of mouth (HP:0002714); excluded: Upslanted palpebral fissure (HP:0000582); excluded: Joint hypermobility (HP:0001382)</td></tr>\n",
       "<tr><td style=\"text-align: left;\">p.Arg913Ter Affected Individual 6 (MALE; P29Y)</td><td style=\"text-align: left;\">Neurodevelopmental disorder with movement abnormalities, abnormal gait, and autistic features (OMIM:617865)</td><td style=\"text-align: left;\">NM_020928.2:c.2737C>T (heterozygous)</td><td style=\"text-align: left;\">Happy demeanor (HP:0040082); Bilateral tonic-clonic seizure (HP:0002069); Generalized non-motor (absence) seizure (HP:0002121); Unsteady gait (HP:0002317); Spasticity (HP:0001257); Cerebral cortical atrophy (HP:0002120); Intellectual disability (HP:0001249); Absent speech (HP:0001344); Global developmental delay (HP:0001263); Hypotonia (HP:0001252); Microcephaly (HP:0000252); Narrow palpebral fissure (HP:0045025); Highly arched eyebrow (HP:0002553); Widely spaced teeth (HP:0000687); Narrow palate (HP:0000189); Joint hypermobility (HP:0001382); excluded: Failure to thrive (HP:0001508); excluded: Tongue thrusting (HP:0100703); excluded: Ataxia (HP:0001251); excluded: Loss of ambulation (HP:0002505); excluded: Infantile spasms (HP:0012469); excluded: Focal impaired awareness seizure (HP:0002384); excluded: Autistic behavior (HP:0000729); excluded: Esotropia (HP:0000565); excluded: Gastroesophageal reflux (HP:0002020); excluded: Synophrys (HP:0000664); excluded: Long face (HP:0000276); excluded: High, narrow palate (HP:0002705); excluded: Horizontal eyebrow (HP:0011228); excluded: Thick eyebrow (HP:0000574); excluded: Flat occiput (HP:0005469); excluded: Cleft helix (HP:0009902); excluded: Thick vermilion border (HP:0012471); excluded: Depressed nasal bridge (HP:0005280); excluded: Epicanthus (HP:0000286); excluded: Smooth philtrum (HP:0000319); excluded: Mandibular prognathia (HP:0000303); excluded: Bulbous nose (HP:0000414); excluded: Thin upper lip vermilion (HP:0000219); excluded: Downturned corners of mouth (HP:0002714); excluded: Upslanted palpebral fissure (HP:0000582)</td></tr>\n",
       "<tr><td style=\"text-align: left;\">p.Arg913Ter Affected Individual 7 (MALE; P29Y)</td><td style=\"text-align: left;\">Neurodevelopmental disorder with movement abnormalities, abnormal gait, and autistic features (OMIM:617865)</td><td style=\"text-align: left;\">NM_020928.2:c.2737C>T (heterozygous)</td><td style=\"text-align: left;\">Tongue thrusting (HP:0100703); Ataxia (HP:0001251); Happy demeanor (HP:0040082); Seizure (HP:0001250); Unsteady gait (HP:0002317); Autistic behavior (HP:0000729); Intellectual disability (HP:0001249); Global developmental delay (HP:0001263); Esotropia (HP:0000565); Hypotonia (HP:0001252); Thick eyebrow (HP:0000574); excluded: Failure to thrive (HP:0001508); excluded: Loss of ambulation (HP:0002505); excluded: Infantile spasms (HP:0012469); excluded: Focal impaired awareness seizure (HP:0002384); excluded: Bilateral tonic-clonic seizure (HP:0002069); excluded: Generalized non-motor (absence) seizure (HP:0002121); excluded: Spasticity (HP:0001257); excluded: Cerebral cortical atrophy (HP:0002120); excluded: Absent speech (HP:0001344); excluded: Peripheral neuropathy (HP:0009830); excluded: Gastroesophageal reflux (HP:0002020); excluded: Microcephaly (HP:0000252); excluded: Synophrys (HP:0000664); excluded: Narrow palpebral fissure (HP:0045025); excluded: Long face (HP:0000276); excluded: High, narrow palate (HP:0002705); excluded: Horizontal eyebrow (HP:0011228); excluded: Highly arched eyebrow (HP:0002553); excluded: Flat occiput (HP:0005469); excluded: Widely spaced teeth (HP:0000687); excluded: Cleft helix (HP:0009902); excluded: Thick vermilion border (HP:0012471); excluded: Depressed nasal bridge (HP:0005280); excluded: Epicanthus (HP:0000286); excluded: Smooth philtrum (HP:0000319); excluded: Mandibular prognathia (HP:0000303); excluded: Bulbous nose (HP:0000414); excluded: Thin upper lip vermilion (HP:0000219); excluded: Downturned corners of mouth (HP:0002714); excluded: Upslanted palpebral fissure (HP:0000582); excluded: Joint hypermobility (HP:0001382)</td></tr>\n",
       "</table>"
      ],
      "text/plain": [
       "<IPython.core.display.HTML object>"
      ]
     },
     "metadata": {},
     "output_type": "display_data"
    }
   ],
   "source": [
    "table = IndividualTable(cvalidator.get_error_free_individual_list())\n",
    "display(HTML(table.to_html()))"
   ]
  },
  {
   "cell_type": "code",
   "execution_count": 17,
   "id": "d6a7854f-bc09-4bcf-aef4-90c84baeadbf",
   "metadata": {},
   "outputs": [
    {
     "name": "stdout",
     "output_type": "stream",
     "text": [
      "[pyphetools] Ingested 31 GA4GH phenopackets.\n",
      "[INFO] Extracted 7 from 31 phenopackets with OMIM:617865\n",
      "\n",
      "\tNeurodevelopmental disorder with movement abnormalities, abnormal gait, and autistic features (OMIM:617865): n=7\n",
      "We found a total of 46 unique HPO terms\n",
      "Extracted disease: Neurodevelopmental disorder with movement abnormalities, abnormal gait, and autistic features (OMIM:617865)\n",
      "Wrote HPOA disease file to OMIM-617865.tab\n"
     ]
    }
   ],
   "source": [
    "pmid = \"PMID:29198722\"\n",
    "df = timporter.create_hpoa_from_phenopackets(pmid=pmid, moi=\"Autosomal dominant\", target=\"OMIM:617865\")"
   ]
  },
  {
   "cell_type": "code",
   "execution_count": null,
   "id": "c0265188-8e9e-4e4d-84e9-2f574d40e96b",
   "metadata": {},
   "outputs": [],
   "source": []
  }
 ],
 "metadata": {
  "kernelspec": {
   "display_name": "ps24venv",
   "language": "python",
   "name": "ps24venv"
  },
  "language_info": {
   "codemirror_mode": {
    "name": "ipython",
    "version": 3
   },
   "file_extension": ".py",
   "mimetype": "text/x-python",
   "name": "python",
   "nbconvert_exporter": "python",
   "pygments_lexer": "ipython3",
   "version": "3.8.10"
  }
 },
 "nbformat": 4,
 "nbformat_minor": 5
}
