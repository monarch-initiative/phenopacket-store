{
 "cells": [
  {
   "cell_type": "markdown",
   "metadata": {},
   "source": [
    "# STX4\n",
    "[autosomal recessive deafness-123 (DFNB123)](https://omim.org/entry/620745) is caused by homozygous mutation in the STX4 gene."
   ]
  },
  {
   "cell_type": "code",
   "execution_count": 3,
   "metadata": {},
   "outputs": [
    {
     "name": "stdout",
     "output_type": "stream",
     "text": [
      "Using pyphetools version 0.9.86\n"
     ]
    }
   ],
   "source": [
    "from pyphetools.creation import TemplateImporter\n",
    "from pyphetools.visualization import IndividualTable, QcVisualizer\n",
    "from IPython.display import display, HTML\n",
    "import pyphetools\n",
    "print(f\"Using pyphetools version {pyphetools.__version__}\")"
   ]
  },
  {
   "cell_type": "code",
   "execution_count": 5,
   "metadata": {},
   "outputs": [],
   "source": [
    "template = \"input/STX4_DFNB123_individuals.xlsx\"\n",
    "created_by = \"0000-0002-0736-9199\""
   ]
  },
  {
   "cell_type": "code",
   "execution_count": 6,
   "metadata": {},
   "outputs": [
    {
     "name": "stdout",
     "output_type": "stream",
     "text": [
      "HPO version 2024-04-26\n",
      "Created encoders for 21 fields\n",
      "Importing OMIM:620745, Deafness, autosomal recessive 123, HGNC:11439, STX4,  NM_004604.5\n",
      "[INFO] encoding variant \"c.232+6T>C\"\n",
      "https://rest.variantvalidator.org/VariantValidator/variantvalidator/hg38/NM_004604.5%3Ac.232+6T>C/NM_004604.5?content-type=application%2Fjson\n",
      "We output 8 GA4GH phenopackets to the directory phenopackets\n"
     ]
    }
   ],
   "source": [
    "timporter = TemplateImporter(template=template,  created_by=created_by)\n",
    "individual_list, cvalidator = timporter.import_phenopackets_from_template()"
   ]
  },
  {
   "cell_type": "code",
   "execution_count": 7,
   "metadata": {},
   "outputs": [
    {
     "data": {
      "text/html": [
       "<h2>Cohort validation</h2>\n",
       "<p>No errors found for the cohort with 8 individuals</p>"
      ],
      "text/plain": [
       "<IPython.core.display.HTML object>"
      ]
     },
     "metadata": {},
     "output_type": "display_data"
    }
   ],
   "source": [
    "qc = QcVisualizer(cohort_validator=cvalidator)\n",
    "display(HTML(qc.to_summary_html()))"
   ]
  },
  {
   "cell_type": "code",
   "execution_count": 8,
   "metadata": {},
   "outputs": [
    {
     "data": {
      "text/html": [
       "<table style=\"border: 2px solid black; align: \"left\">\n",
       "<caption>8 phenopackets - PMID:36355422 (n=8)</caption>\n",
       "<tr><th style=\"text-align: left;font-weight: bold;\">Individual</th><th style=\"text-align: left;font-weight: bold;\">Disease</th><th style=\"text-align: left;font-weight: bold;\">Genotype</th><th style=\"text-align: left;font-weight: bold;\">Phenotypic features</th></tr>\n",
       "<tr><td style=\"text-align: left;\">IV:1 (MALE; P27Y)</td><td style=\"text-align: left;\">Deafness, autosomal recessive 123 (OMIM:620745)</td><td style=\"text-align: left;\">NM_004604.5:c.232+6T>C (homozygous)</td><td style=\"text-align: left;\">Sensorineural hearing impairment (HP:0000407); Macrocephaly (HP:0000256); excluded: Abnormal vestibular function (HP:0001751); excluded: Intellectual disability (HP:0001249)</td></tr>\n",
       "<tr><td style=\"text-align: left;\">IV:2 (MALE; n/a)</td><td style=\"text-align: left;\">Deafness, autosomal recessive 123 (OMIM:620745)</td><td style=\"text-align: left;\">NM_004604.5:c.232+6T>C (homozygous)</td><td style=\"text-align: left;\">Sensorineural hearing impairment (HP:0000407); excluded: Macrocephaly (HP:0000256); excluded: Abnormal vestibular function (HP:0001751); excluded: Intellectual disability (HP:0001249)</td></tr>\n",
       "<tr><td style=\"text-align: left;\">IV:4 (MALE; n/a)</td><td style=\"text-align: left;\">Deafness, autosomal recessive 123 (OMIM:620745)</td><td style=\"text-align: left;\">NM_004604.5:c.232+6T>C (homozygous)</td><td style=\"text-align: left;\">Sensorineural hearing impairment (HP:0000407); excluded: Macrocephaly (HP:0000256); excluded: Abnormal vestibular function (HP:0001751); excluded: Intellectual disability (HP:0001249)</td></tr>\n",
       "<tr><td style=\"text-align: left;\">IV:5 (MALE; P24Y)</td><td style=\"text-align: left;\">Deafness, autosomal recessive 123 (OMIM:620745)</td><td style=\"text-align: left;\">NM_004604.5:c.232+6T>C (homozygous)</td><td style=\"text-align: left;\">Sensorineural hearing impairment (HP:0000407); excluded: Macrocephaly (HP:0000256); excluded: Abnormal vestibular function (HP:0001751); excluded: Intellectual disability (HP:0001249)</td></tr>\n",
       "<tr><td style=\"text-align: left;\">IV:7 (MALE; P13Y)</td><td style=\"text-align: left;\">Deafness, autosomal recessive 123 (OMIM:620745)</td><td style=\"text-align: left;\">NM_004604.5:c.232+6T>C (homozygous)</td><td style=\"text-align: left;\">Sensorineural hearing impairment (HP:0000407); excluded: Macrocephaly (HP:0000256); excluded: Abnormal vestibular function (HP:0001751); excluded: Intellectual disability (HP:0001249)</td></tr>\n",
       "<tr><td style=\"text-align: left;\">IV:8 (MALE; P15Y)</td><td style=\"text-align: left;\">Deafness, autosomal recessive 123 (OMIM:620745)</td><td style=\"text-align: left;\">NM_004604.5:c.232+6T>C (homozygous)</td><td style=\"text-align: left;\">Sensorineural hearing impairment (HP:0000407); excluded: Macrocephaly (HP:0000256); excluded: Abnormal vestibular function (HP:0001751); excluded: Intellectual disability (HP:0001249)</td></tr>\n",
       "<tr><td style=\"text-align: left;\">IV:9 (MALE; P17Y)</td><td style=\"text-align: left;\">Deafness, autosomal recessive 123 (OMIM:620745)</td><td style=\"text-align: left;\">NM_004604.5:c.232+6T>C (homozygous)</td><td style=\"text-align: left;\">Sensorineural hearing impairment (HP:0000407); excluded: Macrocephaly (HP:0000256); excluded: Abnormal vestibular function (HP:0001751); excluded: Intellectual disability (HP:0001249)</td></tr>\n",
       "<tr><td style=\"text-align: left;\">IV:10 (FEMALE; P18Y)</td><td style=\"text-align: left;\">Deafness, autosomal recessive 123 (OMIM:620745)</td><td style=\"text-align: left;\">NM_004604.5:c.232+6T>C (homozygous)</td><td style=\"text-align: left;\">Sensorineural hearing impairment (HP:0000407); excluded: Macrocephaly (HP:0000256); excluded: Abnormal vestibular function (HP:0001751); excluded: Intellectual disability (HP:0001249)</td></tr>\n",
       "</table>"
      ],
      "text/plain": [
       "<IPython.core.display.HTML object>"
      ]
     },
     "metadata": {},
     "output_type": "display_data"
    }
   ],
   "source": [
    "table = IndividualTable(cvalidator.get_error_free_individual_list())\n",
    "display(HTML(table.to_html()))"
   ]
  },
  {
   "cell_type": "code",
   "execution_count": 9,
   "metadata": {},
   "outputs": [
    {
     "name": "stdout",
     "output_type": "stream",
     "text": [
      "[pyphetools] Ingested 8 GA4GH phenopackets.\n",
      "\tDeafness, autosomal recessive 123 (OMIM:620745): n=8\n",
      "We found a total of 4 unique HPO terms\n",
      "Extracted disease: Deafness, autosomal recessive 123 (OMIM:620745)\n",
      "Wrote HPOA disease file to OMIM-620745.tab\n"
     ]
    },
    {
     "data": {
      "text/html": [
       "<div>\n",
       "<style scoped>\n",
       "    .dataframe tbody tr th:only-of-type {\n",
       "        vertical-align: middle;\n",
       "    }\n",
       "\n",
       "    .dataframe tbody tr th {\n",
       "        vertical-align: top;\n",
       "    }\n",
       "\n",
       "    .dataframe thead th {\n",
       "        text-align: right;\n",
       "    }\n",
       "</style>\n",
       "<table border=\"1\" class=\"dataframe\">\n",
       "  <thead>\n",
       "    <tr style=\"text-align: right;\">\n",
       "      <th></th>\n",
       "      <th>#diseaseID</th>\n",
       "      <th>diseaseName</th>\n",
       "      <th>phenotypeID</th>\n",
       "      <th>phenotypeName</th>\n",
       "      <th>onsetID</th>\n",
       "      <th>onsetName</th>\n",
       "      <th>frequency</th>\n",
       "      <th>sex</th>\n",
       "      <th>negation</th>\n",
       "      <th>modifier</th>\n",
       "      <th>description</th>\n",
       "      <th>publication</th>\n",
       "      <th>evidence</th>\n",
       "      <th>biocuration</th>\n",
       "    </tr>\n",
       "  </thead>\n",
       "  <tbody>\n",
       "    <tr>\n",
       "      <th>0</th>\n",
       "      <td>OMIM:620745</td>\n",
       "      <td>Deafness, autosomal recessive 123</td>\n",
       "      <td>HP:0000407</td>\n",
       "      <td>Sensorineural hearing impairment</td>\n",
       "      <td></td>\n",
       "      <td></td>\n",
       "      <td>8/8</td>\n",
       "      <td></td>\n",
       "      <td></td>\n",
       "      <td></td>\n",
       "      <td></td>\n",
       "      <td>PMID:36355422</td>\n",
       "      <td>PCS</td>\n",
       "      <td>ORCID:0000-0002-0736-9199[2024-05-20]</td>\n",
       "    </tr>\n",
       "    <tr>\n",
       "      <th>1</th>\n",
       "      <td>OMIM:620745</td>\n",
       "      <td>Deafness, autosomal recessive 123</td>\n",
       "      <td>HP:0000256</td>\n",
       "      <td>Macrocephaly</td>\n",
       "      <td></td>\n",
       "      <td></td>\n",
       "      <td>1/8</td>\n",
       "      <td></td>\n",
       "      <td></td>\n",
       "      <td></td>\n",
       "      <td></td>\n",
       "      <td>PMID:36355422</td>\n",
       "      <td>PCS</td>\n",
       "      <td>ORCID:0000-0002-0736-9199[2024-05-20]</td>\n",
       "    </tr>\n",
       "    <tr>\n",
       "      <th>2</th>\n",
       "      <td>OMIM:620745</td>\n",
       "      <td>Deafness, autosomal recessive 123</td>\n",
       "      <td>HP:0001751</td>\n",
       "      <td>Abnormal vestibular function</td>\n",
       "      <td></td>\n",
       "      <td></td>\n",
       "      <td>0/8</td>\n",
       "      <td></td>\n",
       "      <td></td>\n",
       "      <td></td>\n",
       "      <td></td>\n",
       "      <td>PMID:36355422</td>\n",
       "      <td>PCS</td>\n",
       "      <td>ORCID:0000-0002-0736-9199[2024-05-20]</td>\n",
       "    </tr>\n",
       "    <tr>\n",
       "      <th>3</th>\n",
       "      <td>OMIM:620745</td>\n",
       "      <td>Deafness, autosomal recessive 123</td>\n",
       "      <td>HP:0001249</td>\n",
       "      <td>Intellectual disability</td>\n",
       "      <td></td>\n",
       "      <td></td>\n",
       "      <td>0/8</td>\n",
       "      <td></td>\n",
       "      <td></td>\n",
       "      <td></td>\n",
       "      <td></td>\n",
       "      <td>PMID:36355422</td>\n",
       "      <td>PCS</td>\n",
       "      <td>ORCID:0000-0002-0736-9199[2024-05-20]</td>\n",
       "    </tr>\n",
       "    <tr>\n",
       "      <th>4</th>\n",
       "      <td>OMIM:620745</td>\n",
       "      <td>Deafness, autosomal recessive 123</td>\n",
       "      <td>HP:0000007</td>\n",
       "      <td>Autosomal recessive inheritance</td>\n",
       "      <td></td>\n",
       "      <td></td>\n",
       "      <td></td>\n",
       "      <td></td>\n",
       "      <td></td>\n",
       "      <td></td>\n",
       "      <td></td>\n",
       "      <td>PMID:36355422</td>\n",
       "      <td>PCS</td>\n",
       "      <td>ORCID:0000-0002-0736-9199[2024-05-20]</td>\n",
       "    </tr>\n",
       "  </tbody>\n",
       "</table>\n",
       "</div>"
      ],
      "text/plain": [
       "    #diseaseID  ...                            biocuration\n",
       "0  OMIM:620745  ...  ORCID:0000-0002-0736-9199[2024-05-20]\n",
       "1  OMIM:620745  ...  ORCID:0000-0002-0736-9199[2024-05-20]\n",
       "2  OMIM:620745  ...  ORCID:0000-0002-0736-9199[2024-05-20]\n",
       "3  OMIM:620745  ...  ORCID:0000-0002-0736-9199[2024-05-20]\n",
       "4  OMIM:620745  ...  ORCID:0000-0002-0736-9199[2024-05-20]\n",
       "\n",
       "[5 rows x 14 columns]"
      ]
     },
     "execution_count": 9,
     "metadata": {},
     "output_type": "execute_result"
    }
   ],
   "source": [
    "pmid = \"PMID:36355422\"\n",
    "timporter.create_hpoa_from_phenopackets(pmid=pmid, moi=\"Autosomal recessive\")"
   ]
  }
 ],
 "metadata": {
  "kernelspec": {
   "display_name": "ps24venv",
   "language": "python",
   "name": "python3"
  },
  "language_info": {
   "codemirror_mode": {
    "name": "ipython",
    "version": 3
   },
   "file_extension": ".py",
   "mimetype": "text/x-python",
   "name": "python",
   "nbconvert_exporter": "python",
   "pygments_lexer": "ipython3",
   "version": "3.9.6"
  }
 },
 "nbformat": 4,
 "nbformat_minor": 2
}
