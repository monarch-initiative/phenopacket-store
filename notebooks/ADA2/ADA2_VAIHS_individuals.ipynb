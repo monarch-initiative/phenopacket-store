{
 "cells": [
  {
   "cell_type": "markdown",
   "metadata": {},
   "source": [
    "# ADA2\n",
    "[vasculitis, autoinflammation, immunodeficiency, and hematologic defects syndrome (VAIHS)](https://omim.org/entry/615688) is caused by homozygous or compound heterozygous mutation in the CECR1 gene (ADA2)."
   ]
  },
  {
   "cell_type": "code",
   "execution_count": 4,
   "metadata": {},
   "outputs": [
    {
     "name": "stdout",
     "output_type": "stream",
     "text": [
      "Using pyphetools version 0.9.90\n"
     ]
    }
   ],
   "source": [
    "from pyphetools.creation import TemplateImporter\n",
    "from pyphetools.visualization import IndividualTable, QcVisualizer\n",
    "from IPython.display import display, HTML\n",
    "import pyphetools\n",
    "print(f\"Using pyphetools version {pyphetools.__version__}\")"
   ]
  },
  {
   "cell_type": "code",
   "execution_count": 6,
   "metadata": {},
   "outputs": [],
   "source": [
    "template = \"input/ADA2_VAIHS_individuals.xlsx\"\n",
    "created_by = \"0000-0002-0736-9199\""
   ]
  },
  {
   "cell_type": "code",
   "execution_count": 14,
   "metadata": {},
   "outputs": [
    {
     "name": "stdout",
     "output_type": "stream",
     "text": [
      "HPO version 2024-04-26\n",
      "Created encoders for 64 fields\n",
      "Importing OMIM:615688, Vasculitis, autoinflammation, immunodeficiency, and hematologic defects syndrome, HGNC:1839, ADA2,  NM_001282225.2\n",
      "We output 2 GA4GH phenopackets to the directory phenopackets\n"
     ]
    }
   ],
   "source": [
    "timporter = TemplateImporter(template=template,  created_by=created_by)\n",
    "individual_list, cvalidator = timporter.import_phenopackets_from_template()"
   ]
  },
  {
   "cell_type": "code",
   "execution_count": 15,
   "metadata": {},
   "outputs": [
    {
     "data": {
      "text/html": [
       "<h2>Cohort validation</h2>\n",
       "<p>No errors found for the cohort with 2 individuals</p>"
      ],
      "text/plain": [
       "<IPython.core.display.HTML object>"
      ]
     },
     "metadata": {},
     "output_type": "display_data"
    }
   ],
   "source": [
    "qc = QcVisualizer(cohort_validator=cvalidator)\n",
    "display(HTML(qc.to_summary_html()))"
   ]
  },
  {
   "cell_type": "code",
   "execution_count": 16,
   "metadata": {},
   "outputs": [
    {
     "data": {
      "text/html": [
       "<table style=\"border: 2px solid black; align: \"left\">\n",
       "<caption>2 phenopackets - PMID:28830446 (n=2)</caption>\n",
       "<tr><th style=\"text-align: left;font-weight: bold;\">Individual</th><th style=\"text-align: left;font-weight: bold;\">Disease</th><th style=\"text-align: left;font-weight: bold;\">Genotype</th><th style=\"text-align: left;font-weight: bold;\">Phenotypic features</th></tr>\n",
       "<tr><td style=\"text-align: left;\">Patient 1 (MALE; P10Y)</td><td style=\"text-align: left;\">Vasculitis, autoinflammation, immunodeficiency, and hematologic defects syndrome (OMIM:615688)</td><td style=\"text-align: left;\"><ul> <li>NM_001282225.2:c.139G>C (heterozygous)</li> <li>NM_001282225.2:c.1223G>A (heterozygous)</li> </ul></td><td style=\"text-align: left;\"><b>P1Y10M</b>: Elevated circulating C-reactive protein concentration (HP:0011227); Recurrent fever (HP:0001954); Recurrent aphthous stomatitis (HP:0011107); Abdominal pain (HP:0002027)<br/><b>P3Y</b>: Antinuclear antibody positivity (HP:0003493); Elevated circulating soluble CD25 concentration (HP:0033833); Increased circulating interleukin 6 concentration (HP:0030783); Arthralgia (HP:0002829); Livedo reticularis (HP:0033505); Supranuclear ophthalmoplegia (HP:0000623); Oculomotor nerve palsy (HP:0012246)<br/><b>P5Y</b>: Ischemic stroke (HP:0002140); Hemiplegia (HP:0002301); Headache (HP:0002315); Vertigo (HP:0002321)<br/><b>P9Y</b>: Generalized morning stiffness (HP:0005197)<br/><b>P10Y</b>: Lupus anticoagulant (HP:0025343)</td></tr>\n",
       "<tr><td style=\"text-align: left;\">Patient 2 (MALE; P3Y)</td><td style=\"text-align: left;\">Vasculitis, autoinflammation, immunodeficiency, and hematologic defects syndrome (OMIM:615688)</td><td style=\"text-align: left;\"><ul> <li>NM_001282225.2:c.139G>C (heterozygous)</li> <li>NM_001282225.2:c.1223G>A (heterozygous)</li> </ul></td><td style=\"text-align: left;\"><b>P2Y6M</b>: Increased circulating antibody level (HP:0010702); Ischemic stroke (HP:0002140); Annular cutaneous lesion (HP:0025528); Hemiplegia (HP:0002301); Antinuclear antibody positivity (HP:0003493); Elevated circulating soluble CD25 concentration (HP:0033833); Increased circulating interleukin 6 concentration (HP:0030783); Recurrent fever (HP:0001954); Increased fecal calprotectin level (HP:0034056); Recurrent aphthous stomatitis (HP:0011107); Abdominal pain (HP:0002027)<br/><b>P3Y6M</b>: Raynaud phenomenon (HP:0030880); Generalized morning stiffness (HP:0005197); Livedo racemosa (HP:0033260)</td></tr>\n",
       "</table>"
      ],
      "text/plain": [
       "<IPython.core.display.HTML object>"
      ]
     },
     "metadata": {},
     "output_type": "display_data"
    }
   ],
   "source": [
    "table = IndividualTable(cvalidator.get_error_free_individual_list())\n",
    "display(HTML(table.to_html()))"
   ]
  }
 ],
 "metadata": {
  "kernelspec": {
   "display_name": "ps24venv",
   "language": "python",
   "name": "python3"
  },
  "language_info": {
   "codemirror_mode": {
    "name": "ipython",
    "version": 3
   },
   "file_extension": ".py",
   "mimetype": "text/x-python",
   "name": "python",
   "nbconvert_exporter": "python",
   "pygments_lexer": "ipython3",
   "version": "3.9.6"
  }
 },
 "nbformat": 4,
 "nbformat_minor": 2
}
