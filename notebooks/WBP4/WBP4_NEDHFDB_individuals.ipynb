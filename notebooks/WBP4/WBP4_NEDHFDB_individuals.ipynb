{
 "cells": [
  {
   "cell_type": "markdown",
   "metadata": {},
   "source": [
    "# WBP4\n",
    "[neurodevelopmental disorder with hypotonia, feeding difficulties, facial dysmorphism, and brain abnormalities (NEDHFDB)](https://omim.org/entry/620852) is caused by homozygous mutation in the WBP4 gene."
   ]
  },
  {
   "cell_type": "code",
   "execution_count": 1,
   "metadata": {},
   "outputs": [
    {
     "name": "stdout",
     "output_type": "stream",
     "text": [
      "Using pyphetools version 0.9.113\n"
     ]
    }
   ],
   "source": [
    "from pyphetools.creation import TemplateImporter, Moi\n",
    "from pyphetools.visualization import IndividualTable, QcVisualizer\n",
    "from IPython.display import display, HTML\n",
    "import pyphetools\n",
    "print(f\"Using pyphetools version {pyphetools.__version__}\")"
   ]
  },
  {
   "cell_type": "code",
   "execution_count": 9,
   "metadata": {},
   "outputs": [
    {
     "name": "stdout",
     "output_type": "stream",
     "text": [
      "HPO version 2024-12-12\n",
      "Created encoders for 88 fields\n",
      "ERROR: Error: Did not recognize heaeder fields: - \"Colpocephaly\" -- \"al shapeCo\"\n",
      "Importing OMIM:620852, Neurodevelopemental disorder with hypotonia, feeding difficulties, facial dysmorphism, and brain abnormalities, HGNC:12739, WBP4,  NM_007187.5\n",
      "We output 10 GA4GH phenopackets to the directory phenopackets\n"
     ]
    }
   ],
   "source": [
    "template = \"input/WBP4_NEDHFDB_individuals.xlsx\"\n",
    "created_by = \"0000-0002-0736-9199\"\n",
    "del_set = {\"deletion of the three last exons of WBP4\"}\n",
    "timporter = TemplateImporter(template=template,  created_by=created_by)\n",
    "individual_list, cvalidator = timporter.import_phenopackets_from_template(deletions=del_set)"
   ]
  },
  {
   "cell_type": "code",
   "execution_count": 10,
   "metadata": {},
   "outputs": [
    {
     "data": {
      "text/html": [
       "<h2>Cohort validation</h2>\n",
       "<p>Errors found with 8 of 10 phenopackets.</p>\n",
       "<table style=\"border: 2px solid black; align: \"left\">\n",
       "<caption>Error counts</caption>\n",
       "<tr><th style=\"text-align: left;font-weight: bold;\">Level</th><th style=\"text-align: left;font-weight: bold;\">Error category</th><th style=\"text-align: left;font-weight: bold;\">Count</th></tr>\n",
       "<tr><td style=\"text-align: left;\">WARNING</td><td style=\"text-align: left;\">REDUNDANT</td><td style=\"text-align: left;\">13</td></tr>\n",
       "</table>\n",
       "<p>A total of 13 issues were fixed and no individual was removed from the cohort.</p>"
      ],
      "text/plain": [
       "<IPython.core.display.HTML object>"
      ]
     },
     "metadata": {},
     "output_type": "display_data"
    }
   ],
   "source": [
    "qc = QcVisualizer(cohort_validator=cvalidator)\n",
    "display(HTML(qc.to_summary_html()))"
   ]
  },
  {
   "cell_type": "code",
   "execution_count": 11,
   "metadata": {},
   "outputs": [
    {
     "data": {
      "text/html": [
       "<table style=\"border: 2px solid black; align: \"left\">\n",
       "<caption>10 phenopackets - PMID:37963460 (n=10)</caption>\n",
       "<tr><th style=\"text-align: left;font-weight: bold;\">Individual</th><th style=\"text-align: left;font-weight: bold;\">Disease</th><th style=\"text-align: left;font-weight: bold;\">Genotype</th><th style=\"text-align: left;font-weight: bold;\">Phenotypic features</th></tr>\n",
       "<tr><td style=\"text-align: left;\">Family 1 individual III:1 (MALE; P7Y)</td><td style=\"text-align: left;\">Neurodevelopemental disorder with hypotonia, feeding difficulties, facial dysmorphism, and brain abnormalities (OMIM:620852)</td><td style=\"text-align: left;\">NM_007187.5:c.499del (homozygous)</td><td style=\"text-align: left;\">Motor delay (HP:0001270): onset ; Low-set ears (HP:0000369): onset ; Protruding ear (HP:0000411): onset ; Short philtrum (HP:0000322): onset ; Tented upper lip vermilion (HP:0010804): onset ; Hypotonia (HP:0001252): onset ; Hyperactivity (HP:0000752): onset ; Feeding difficulties (HP:0011968): onset ; Absent speech (HP:0001344): onset ; Global developmental delay (HP:0001263): onset ; Intellectual disability, severe (HP:0010864): onset ; Autistic behavior (HP:0000729): onset ; Retrognathia (HP:0000278): onset ; excluded: Small for gestational age (HP:0001518): onset ; excluded: Short stature (HP:0004322): onset ; excluded: Microcephaly (HP:0000252): onset ; excluded: Abnormal cortical gyration (HP:0002536): onset ; excluded: Agenesis of corpus callosum (HP:0001274): onset ; excluded: Hypoplasia of the corpus callosum (HP:0002079): onset ; excluded: Hydronephrosis (HP:0000126): onset ; excluded: Anal atresia (HP:0002023): onset ; excluded: Cryptorchidism (HP:0000028): onset ; excluded: Hypospadias (HP:0000047): onset ; excluded: Anteverted ears (HP:0040080): onset ; excluded: Stenosis of the external auditory canal (HP:0000402): onset ; excluded: Broad inferior crus of antihelix (HP:0011237): onset ; excluded: Linear earlobe crease (HP:0031510): onset ; excluded: Microtia (HP:0008551): onset ; excluded: Dental crowding (HP:0000678): onset ; excluded: Cleft palate (HP:0000175): onset ; excluded: High palate (HP:0000218): onset ; excluded: Smooth philtrum (HP:0000319): onset ; excluded: Thick vermilion border (HP:0012471): onset ; excluded: Oligohydramnios (HP:0001562): onset ; excluded: Polyhydramnios (HP:0001561): onset ; excluded: Seizure (HP:0001250): onset ; excluded: Fine hair (HP:0002213): onset ; excluded: Motor stereotypy (HP:0000733): onset ; excluded: Aggressive behavior (HP:0000718): onset ; excluded: Intellectual disability, moderate (HP:0002342): onset ; excluded: Strabismus (HP:0000486): onset ; excluded: Sensorineural hearing impairment (HP:0000407): onset ; excluded: Proptosis (HP:0000520): onset ; excluded: Sleep-wake cycle disturbance (HP:0006979): onset ; excluded: Atrioventricular canal defect (HP:0006695): onset ; excluded: Ventricular septal defect (HP:0001629): onset ; excluded: Atrial septal defect (HP:0001631): onset ; excluded: Mitral regurgitation (HP:0001653): onset ; excluded: Patent ductus arteriosus (HP:0001643): onset ; excluded: Ventriculomegaly (HP:0002119): onset </td></tr>\n",
       "<tr><td style=\"text-align: left;\">Family 1 individual III:4 (FEMALE)</td><td style=\"text-align: left;\">Neurodevelopemental disorder with hypotonia, feeding difficulties, facial dysmorphism, and brain abnormalities (OMIM:620852)</td><td style=\"text-align: left;\">NM_007187.5:c.499del (homozygous)</td><td style=\"text-align: left;\">Global developmental delay (HP:0001263): onset ; Atrioventricular canal defect (HP:0006695): onset ; excluded: Hydronephrosis (HP:0000126): onset ; excluded: Anal atresia (HP:0002023): onset ; excluded: Oligohydramnios (HP:0001562): onset ; excluded: Polyhydramnios (HP:0001561): onset ; excluded: Ventricular septal defect (HP:0001629): onset ; excluded: Atrial septal defect (HP:0001631): onset ; excluded: Mitral regurgitation (HP:0001653): onset ; excluded: Patent ductus arteriosus (HP:0001643): onset </td></tr>\n",
       "<tr><td style=\"text-align: left;\">Family 2 individual II:1 (MALE; P3Y)</td><td style=\"text-align: left;\">Neurodevelopemental disorder with hypotonia, feeding difficulties, facial dysmorphism, and brain abnormalities (OMIM:620852)</td><td style=\"text-align: left;\">deletion of the three last exons of WBP4: chromosomal_deletion (SO:1000029)</td><td style=\"text-align: left;\"><b>TimeElement(element=OntologyClass(id=HP:0011461, label=Fetal onset))</b>: Hydronephrosis (HP:0000126): onset ontology_class {\n",
       "  id: \"HP:0011461\"\n",
       "  label: \"Fetal onset\"\n",
       "}\n",
       "<br/>Small for gestational age (HP:0001518): onset ; Short stature (HP:0004322): onset ; Microcephaly (HP:0000252): onset ; Agenesis of corpus callosum (HP:0001274): onset ; Motor delay (HP:0001270): onset ; Anal atresia (HP:0002023): onset ; Turricephaly (HP:0000262): onset ; Cryptorchidism (HP:0000028): onset ; Hypospadias (HP:0000047): onset ; Low-set ears (HP:0000369): onset ; Broad inferior crus of antihelix (HP:0011237): onset ; High palate (HP:0000218): onset ; Smooth philtrum (HP:0000319): onset ; Oligohydramnios (HP:0001562): onset ; Depressed nasal bridge (HP:0005280): onset ; Hypotonia (HP:0001252): onset ; Motor stereotypy (HP:0000733): onset ; Feeding difficulties (HP:0011968): onset ; Absent speech (HP:0001344): onset ; Global developmental delay (HP:0001263): onset ; Downslanted palpebral fissures (HP:0000494): onset ; Strabismus (HP:0000486): onset ; Proptosis (HP:0000520): onset ; Sleep-wake cycle disturbance (HP:0006979): onset ; Hypertelorism (HP:0000316): onset ; Atrial septal defect (HP:0001631): onset ; Sandal gap (HP:0001852): onset ; excluded: Abnormal cortical gyration (HP:0002536): onset ; excluded: Hypoplasia of the corpus callosum (HP:0002079): onset ; excluded: Craniosynostosis (HP:0001363): onset ; excluded: Narrow forehead (HP:0000341): onset ; excluded: Anteverted ears (HP:0040080): onset ; excluded: Stenosis of the external auditory canal (HP:0000402): onset ; excluded: Linear earlobe crease (HP:0031510): onset ; excluded: Microtia (HP:0008551): onset ; excluded: Protruding ear (HP:0000411): onset ; excluded: Dental crowding (HP:0000678): onset ; excluded: Cleft palate (HP:0000175): onset ; excluded: Short philtrum (HP:0000322): onset ; excluded: Tented upper lip vermilion (HP:0010804): onset ; excluded: Thick vermilion border (HP:0012471): onset ; excluded: Polyhydramnios (HP:0001561): onset ; excluded: Prominent nasal bridge (HP:0000426): onset ; excluded: Seizure (HP:0001250): onset ; excluded: Fine hair (HP:0002213): onset ; excluded: Hyperactivity (HP:0000752): onset ; excluded: Aggressive behavior (HP:0000718): onset ; excluded: Autistic behavior (HP:0000729): onset ; excluded: Upslanted palpebral fissure (HP:0000582): onset ; excluded: Epicanthus (HP:0000286): onset ; excluded: Retrognathia (HP:0000278): onset ; excluded: Atrioventricular canal defect (HP:0006695): onset ; excluded: Ventricular septal defect (HP:0001629): onset ; excluded: Mitral regurgitation (HP:0001653): onset ; excluded: Patent ductus arteriosus (HP:0001643): onset ; excluded: Ventriculomegaly (HP:0002119): onset ; excluded: Pes planus (HP:0001763): onset ; excluded: Bilateral talipes equinovarus (HP:0001776): onset <br/><b>TimeElement(element=OntologyClass(id=HP:0003577, label=Congenital onset))</b>: Sensorineural hearing impairment (HP:0000407): onset ontology_class {\n",
       "  id: \"HP:0003577\"\n",
       "  label: \"Congenital onset\"\n",
       "}\n",
       "</td></tr>\n",
       "<tr><td style=\"text-align: left;\">Family 3 individual II:2 (FEMALE; P3Y)</td><td style=\"text-align: left;\">Neurodevelopemental disorder with hypotonia, feeding difficulties, facial dysmorphism, and brain abnormalities (OMIM:620852)</td><td style=\"text-align: left;\">NM_007187.5:c.499del (homozygous)</td><td style=\"text-align: left;\">Motor delay (HP:0001270): onset ; Delayed speech and language development (HP:0000750): onset ; Hypotonia (HP:0001252): onset ; Global developmental delay (HP:0001263): onset ; excluded: Small for gestational age (HP:0001518): onset ; excluded: Microcephaly (HP:0000252): onset ; excluded: Abnormal cortical gyration (HP:0002536): onset ; excluded: Agenesis of corpus callosum (HP:0001274): onset ; excluded: Hypoplasia of the corpus callosum (HP:0002079): onset ; excluded: Hydronephrosis (HP:0000126): onset ; excluded: Anal atresia (HP:0002023): onset ; excluded: Anteverted ears (HP:0040080): onset ; excluded: Stenosis of the external auditory canal (HP:0000402): onset ; excluded: Low-set ears (HP:0000369): onset ; excluded: Broad inferior crus of antihelix (HP:0011237): onset ; excluded: Linear earlobe crease (HP:0031510): onset ; excluded: Microtia (HP:0008551): onset ; excluded: Protruding ear (HP:0000411): onset ; excluded: Dental crowding (HP:0000678): onset ; excluded: Cleft palate (HP:0000175): onset ; excluded: High palate (HP:0000218): onset ; excluded: Short philtrum (HP:0000322): onset ; excluded: Smooth philtrum (HP:0000319): onset ; excluded: Tented upper lip vermilion (HP:0010804): onset ; excluded: Thick vermilion border (HP:0012471): onset ; excluded: Oligohydramnios (HP:0001562): onset ; excluded: Polyhydramnios (HP:0001561): onset ; excluded: Depressed nasal bridge (HP:0005280): onset ; excluded: Prominent nasal bridge (HP:0000426): onset ; excluded: Seizure (HP:0001250): onset ; excluded: Fine hair (HP:0002213): onset ; excluded: Hyperactivity (HP:0000752): onset ; excluded: Motor stereotypy (HP:0000733): onset ; excluded: Aggressive behavior (HP:0000718): onset ; excluded: Feeding difficulties (HP:0011968): onset ; excluded: Absent speech (HP:0001344): onset ; excluded: Autistic behavior (HP:0000729): onset ; excluded: Upslanted palpebral fissure (HP:0000582): onset ; excluded: Downslanted palpebral fissures (HP:0000494): onset ; excluded: Epicanthus (HP:0000286): onset ; excluded: Sensorineural hearing impairment (HP:0000407): onset ; excluded: Retrognathia (HP:0000278): onset ; excluded: Proptosis (HP:0000520): onset ; excluded: Hypertelorism (HP:0000316): onset ; excluded: Ventriculomegaly (HP:0002119): onset ; excluded: Sandal gap (HP:0001852): onset ; excluded: Pes planus (HP:0001763): onset ; excluded: Bilateral talipes equinovarus (HP:0001776): onset </td></tr>\n",
       "<tr><td style=\"text-align: left;\">Family 4 individual III:2 (FEMALE; P10Y)</td><td style=\"text-align: left;\">Neurodevelopemental disorder with hypotonia, feeding difficulties, facial dysmorphism, and brain abnormalities (OMIM:620852)</td><td style=\"text-align: left;\">NM_007187.5:c.499del (homozygous)</td><td style=\"text-align: left;\">Short stature (HP:0004322): onset ; Decreased body weight (HP:0004325): onset ; Hypoplasia of the corpus callosum (HP:0002079): onset ; Motor delay (HP:0001270): onset ; Delayed speech and language development (HP:0000750): onset ; Microtia (HP:0008551): onset ; Protruding ear (HP:0000411): onset ; Prominent nasal bridge (HP:0000426): onset ; Hypotonia (HP:0001252): onset ; Fine hair (HP:0002213): onset ; Hyperactivity (HP:0000752): onset ; Motor stereotypy (HP:0000733): onset ; Feeding difficulties (HP:0011968): onset ; Global developmental delay (HP:0001263): onset ; Intellectual disability, severe (HP:0010864): onset ; Autistic behavior (HP:0000729): onset ; Upslanted palpebral fissure (HP:0000582): onset ; Strabismus (HP:0000486): onset ; Sleep-wake cycle disturbance (HP:0006979): onset ; Hypertelorism (HP:0000316): onset ; Mitral regurgitation (HP:0001653): onset ; Patent ductus arteriosus (HP:0001643): onset ; excluded: Small for gestational age (HP:0001518): onset ; excluded: Microcephaly (HP:0000252): onset ; excluded: Abnormal cortical gyration (HP:0002536): onset ; excluded: Agenesis of corpus callosum (HP:0001274): onset ; excluded: Hydronephrosis (HP:0000126): onset ; excluded: Anal atresia (HP:0002023): onset ; excluded: Anteverted ears (HP:0040080): onset ; excluded: Stenosis of the external auditory canal (HP:0000402): onset ; excluded: Low-set ears (HP:0000369): onset ; excluded: Broad inferior crus of antihelix (HP:0011237): onset ; excluded: Linear earlobe crease (HP:0031510): onset ; excluded: Dental crowding (HP:0000678): onset ; excluded: Cleft palate (HP:0000175): onset ; excluded: High palate (HP:0000218): onset ; excluded: Short philtrum (HP:0000322): onset ; excluded: Smooth philtrum (HP:0000319): onset ; excluded: Tented upper lip vermilion (HP:0010804): onset ; excluded: Thick vermilion border (HP:0012471): onset ; excluded: Oligohydramnios (HP:0001562): onset ; excluded: Polyhydramnios (HP:0001561): onset ; excluded: Depressed nasal bridge (HP:0005280): onset ; excluded: Aggressive behavior (HP:0000718): onset ; excluded: Absent speech (HP:0001344): onset ; excluded: Intellectual disability, moderate (HP:0002342): onset ; excluded: Downslanted palpebral fissures (HP:0000494): onset ; excluded: Epicanthus (HP:0000286): onset ; excluded: Sensorineural hearing impairment (HP:0000407): onset ; excluded: Retrognathia (HP:0000278): onset ; excluded: Proptosis (HP:0000520): onset ; excluded: Atrioventricular canal defect (HP:0006695): onset ; excluded: Ventricular septal defect (HP:0001629): onset ; excluded: Atrial septal defect (HP:0001631): onset ; excluded: Ventriculomegaly (HP:0002119): onset <br/><b>TimeElement(element=Age(iso8601duration=P2Y))</b>: Seizure (HP:0001250): onset age {\n",
       "  iso8601duration: \"P2Y\"\n",
       "}\n",
       "</td></tr>\n",
       "<tr><td style=\"text-align: left;\">Family 5 individual II:3 (FEMALE; P9Y)</td><td style=\"text-align: left;\">Neurodevelopemental disorder with hypotonia, feeding difficulties, facial dysmorphism, and brain abnormalities (OMIM:620852)</td><td style=\"text-align: left;\">NM_007187.5:c.499del (homozygous)</td><td style=\"text-align: left;\">Short stature (HP:0004322): onset ; Decreased body weight (HP:0004325): onset ; Hypoplasia of the corpus callosum (HP:0002079): onset ; Motor delay (HP:0001270): onset ; Delayed speech and language development (HP:0000750): onset ; Low-set ears (HP:0000369): onset ; Protruding ear (HP:0000411): onset ; High palate (HP:0000218): onset ; Short philtrum (HP:0000322): onset ; Depressed nasal bridge (HP:0005280): onset ; Fine hair (HP:0002213): onset ; Hyperactivity (HP:0000752): onset ; Motor stereotypy (HP:0000733): onset ; Feeding difficulties (HP:0011968): onset ; Global developmental delay (HP:0001263): onset ; Intellectual disability, moderate (HP:0002342): onset ; Autistic behavior (HP:0000729): onset ; Sleep-wake cycle disturbance (HP:0006979): onset ; Hypertelorism (HP:0000316): onset ; excluded: Small for gestational age (HP:0001518): onset ; excluded: Microcephaly (HP:0000252): onset ; excluded: Abnormal cortical gyration (HP:0002536): onset ; excluded: Agenesis of corpus callosum (HP:0001274): onset ; excluded: Hydronephrosis (HP:0000126): onset ; excluded: Anal atresia (HP:0002023): onset ; excluded: Anteverted ears (HP:0040080): onset ; excluded: Stenosis of the external auditory canal (HP:0000402): onset ; excluded: Broad inferior crus of antihelix (HP:0011237): onset ; excluded: Linear earlobe crease (HP:0031510): onset ; excluded: Microtia (HP:0008551): onset ; excluded: Dental crowding (HP:0000678): onset ; excluded: Cleft palate (HP:0000175): onset ; excluded: Smooth philtrum (HP:0000319): onset ; excluded: Tented upper lip vermilion (HP:0010804): onset ; excluded: Thick vermilion border (HP:0012471): onset ; excluded: Oligohydramnios (HP:0001562): onset ; excluded: Polyhydramnios (HP:0001561): onset ; excluded: Prominent nasal bridge (HP:0000426): onset ; excluded: Seizure (HP:0001250): onset ; excluded: Aggressive behavior (HP:0000718): onset ; excluded: Absent speech (HP:0001344): onset ; excluded: Intellectual disability, severe (HP:0010864): onset ; excluded: Upslanted palpebral fissure (HP:0000582): onset ; excluded: Downslanted palpebral fissures (HP:0000494): onset ; excluded: Epicanthus (HP:0000286): onset ; excluded: Strabismus (HP:0000486): onset ; excluded: Sensorineural hearing impairment (HP:0000407): onset ; excluded: Atrioventricular canal defect (HP:0006695): onset ; excluded: Ventricular septal defect (HP:0001629): onset ; excluded: Atrial septal defect (HP:0001631): onset ; excluded: Mitral regurgitation (HP:0001653): onset ; excluded: Patent ductus arteriosus (HP:0001643): onset ; excluded: Ventriculomegaly (HP:0002119): onset <br/><b>TimeElement(element=OntologyClass(id=HP:0003593, label=Infantile onset))</b>: Hypotonia (HP:0001252): onset ontology_class {\n",
       "  id: \"HP:0003593\"\n",
       "  label: \"Infantile onset\"\n",
       "}\n",
       "</td></tr>\n",
       "<tr><td style=\"text-align: left;\">Family 5 individual II:6 (FEMALE; P3Y)</td><td style=\"text-align: left;\">Neurodevelopemental disorder with hypotonia, feeding difficulties, facial dysmorphism, and brain abnormalities (OMIM:620852)</td><td style=\"text-align: left;\">NM_007187.5:c.499del (homozygous)</td><td style=\"text-align: left;\">Hypoplasia of the corpus callosum (HP:0002079): onset ; Motor delay (HP:0001270): onset ; Delayed speech and language development (HP:0000750): onset ; Protruding ear (HP:0000411): onset ; Hypotonia (HP:0001252): onset ; Fine hair (HP:0002213): onset ; Hyperactivity (HP:0000752): onset ; Aggressive behavior (HP:0000718): onset ; Feeding difficulties (HP:0011968): onset ; Global developmental delay (HP:0001263): onset ; Intellectual disability, severe (HP:0010864): onset ; Autistic behavior (HP:0000729): onset ; Upslanted palpebral fissure (HP:0000582): onset ; Sleep-wake cycle disturbance (HP:0006979): onset ; Hypertelorism (HP:0000316): onset ; excluded: Small for gestational age (HP:0001518): onset ; excluded: Short stature (HP:0004322): onset ; excluded: Microcephaly (HP:0000252): onset ; excluded: Abnormal cortical gyration (HP:0002536): onset ; excluded: Agenesis of corpus callosum (HP:0001274): onset ; excluded: Hydronephrosis (HP:0000126): onset ; excluded: Anal atresia (HP:0002023): onset ; excluded: Anteverted ears (HP:0040080): onset ; excluded: Stenosis of the external auditory canal (HP:0000402): onset ; excluded: Low-set ears (HP:0000369): onset ; excluded: Broad inferior crus of antihelix (HP:0011237): onset ; excluded: Linear earlobe crease (HP:0031510): onset ; excluded: Microtia (HP:0008551): onset ; excluded: Dental crowding (HP:0000678): onset ; excluded: Cleft palate (HP:0000175): onset ; excluded: High palate (HP:0000218): onset ; excluded: Short philtrum (HP:0000322): onset ; excluded: Smooth philtrum (HP:0000319): onset ; excluded: Tented upper lip vermilion (HP:0010804): onset ; excluded: Thick vermilion border (HP:0012471): onset ; excluded: Oligohydramnios (HP:0001562): onset ; excluded: Polyhydramnios (HP:0001561): onset ; excluded: Seizure (HP:0001250): onset ; excluded: Motor stereotypy (HP:0000733): onset ; excluded: Absent speech (HP:0001344): onset ; excluded: Intellectual disability, moderate (HP:0002342): onset ; excluded: Downslanted palpebral fissures (HP:0000494): onset ; excluded: Epicanthus (HP:0000286): onset ; excluded: Strabismus (HP:0000486): onset ; excluded: Sensorineural hearing impairment (HP:0000407): onset ; excluded: Atrioventricular canal defect (HP:0006695): onset ; excluded: Ventricular septal defect (HP:0001629): onset ; excluded: Atrial septal defect (HP:0001631): onset ; excluded: Mitral regurgitation (HP:0001653): onset ; excluded: Patent ductus arteriosus (HP:0001643): onset ; excluded: Ventriculomegaly (HP:0002119): onset </td></tr>\n",
       "<tr><td style=\"text-align: left;\">Family 6 individual II:1 (MALE; P2Y5M)</td><td style=\"text-align: left;\">Neurodevelopemental disorder with hypotonia, feeding difficulties, facial dysmorphism, and brain abnormalities (OMIM:620852)</td><td style=\"text-align: left;\">NM_007187.5:c.668C>G (homozygous)</td><td style=\"text-align: left;\">Motor delay (HP:0001270): onset ; Narrow forehead (HP:0000341): onset ; Anteverted ears (HP:0040080): onset ; Dental crowding (HP:0000678): onset ; High palate (HP:0000218): onset ; Short philtrum (HP:0000322): onset ; Tented upper lip vermilion (HP:0010804): onset ; Thick vermilion border (HP:0012471): onset ; Polyhydramnios (HP:0001561): onset ; Hypotonia (HP:0001252): onset ; Hyperactivity (HP:0000752): onset ; Feeding difficulties (HP:0011968): onset ; Absent speech (HP:0001344): onset ; Global developmental delay (HP:0001263): onset ; Epicanthus (HP:0000286): onset ; Ventriculomegaly (HP:0002119): onset ; Pes planus (HP:0001763): onset ; excluded: Hydronephrosis (HP:0000126): onset ; excluded: Craniosynostosis (HP:0001363): onset ; excluded: Anal atresia (HP:0002023): onset ; excluded: Turricephaly (HP:0000262): onset ; excluded: Cryptorchidism (HP:0000028): onset ; excluded: Hypospadias (HP:0000047): onset ; excluded: Stenosis of the external auditory canal (HP:0000402): onset ; excluded: Low-set ears (HP:0000369): onset ; excluded: Broad inferior crus of antihelix (HP:0011237): onset ; excluded: Linear earlobe crease (HP:0031510): onset ; excluded: Microtia (HP:0008551): onset ; excluded: Protruding ear (HP:0000411): onset ; excluded: Cleft palate (HP:0000175): onset ; excluded: Smooth philtrum (HP:0000319): onset ; excluded: Oligohydramnios (HP:0001562): onset ; excluded: Depressed nasal bridge (HP:0005280): onset ; excluded: Prominent nasal bridge (HP:0000426): onset ; excluded: Seizure (HP:0001250): onset ; excluded: Fine hair (HP:0002213): onset ; excluded: Motor stereotypy (HP:0000733): onset ; excluded: Aggressive behavior (HP:0000718): onset ; excluded: Upslanted palpebral fissure (HP:0000582): onset ; excluded: Downslanted palpebral fissures (HP:0000494): onset ; excluded: Retrognathia (HP:0000278): onset ; excluded: Proptosis (HP:0000520): onset ; excluded: Hypertelorism (HP:0000316): onset ; excluded: Sandal gap (HP:0001852): onset ; excluded: Bilateral talipes equinovarus (HP:0001776): onset </td></tr>\n",
       "<tr><td style=\"text-align: left;\">Family 7 individual II:1 (FEMALE; P3Y)</td><td style=\"text-align: left;\">Neurodevelopemental disorder with hypotonia, feeding difficulties, facial dysmorphism, and brain abnormalities (OMIM:620852)</td><td style=\"text-align: left;\">NM_007187.5:c.944del (homozygous)</td><td style=\"text-align: left;\"><b>TimeElement(element=OntologyClass(id=HP:0011461, label=Fetal onset))</b>: Agenesis of corpus callosum (HP:0001274): onset ontology_class {\n",
       "  id: \"HP:0011461\"\n",
       "  label: \"Fetal onset\"\n",
       "}\n",
       "<br/>Small for gestational age (HP:0001518): onset ; Short stature (HP:0004322): onset ; Abnormal cortical gyration (HP:0002536): onset ; Motor delay (HP:0001270): onset ; Craniosynostosis (HP:0001363): onset ; Stenosis of the external auditory canal (HP:0000402): onset ; Low-set ears (HP:0000369): onset ; Oligohydramnios (HP:0001562): onset ; Hypotonia (HP:0001252): onset ; Feeding difficulties (HP:0011968): onset ; Absent speech (HP:0001344): onset ; Global developmental delay (HP:0001263): onset ; Intellectual disability (HP:0001249): onset ; Downslanted palpebral fissures (HP:0000494): onset ; Retrognathia (HP:0000278): onset ; Proptosis (HP:0000520): onset ; Hypertelorism (HP:0000316): onset ; Ventriculomegaly (HP:0002119): onset ; excluded: Microcephaly (HP:0000252): onset ; excluded: Hypoplasia of the corpus callosum (HP:0002079): onset ; excluded: Hydronephrosis (HP:0000126): onset ; excluded: Anal atresia (HP:0002023): onset ; excluded: Narrow forehead (HP:0000341): onset ; excluded: Turricephaly (HP:0000262): onset ; excluded: Anteverted ears (HP:0040080): onset ; excluded: Broad inferior crus of antihelix (HP:0011237): onset ; excluded: Linear earlobe crease (HP:0031510): onset ; excluded: Microtia (HP:0008551): onset ; excluded: Protruding ear (HP:0000411): onset ; excluded: Dental crowding (HP:0000678): onset ; excluded: Cleft palate (HP:0000175): onset ; excluded: High palate (HP:0000218): onset ; excluded: Short philtrum (HP:0000322): onset ; excluded: Smooth philtrum (HP:0000319): onset ; excluded: Tented upper lip vermilion (HP:0010804): onset ; excluded: Thick vermilion border (HP:0012471): onset ; excluded: Polyhydramnios (HP:0001561): onset ; excluded: Prominent nasal bridge (HP:0000426): onset ; excluded: Upslanted palpebral fissure (HP:0000582): onset ; excluded: Epicanthus (HP:0000286): onset ; excluded: Strabismus (HP:0000486): onset ; excluded: Sensorineural hearing impairment (HP:0000407): onset ; excluded: Atrioventricular canal defect (HP:0006695): onset ; excluded: Ventricular septal defect (HP:0001629): onset ; excluded: Atrial septal defect (HP:0001631): onset ; excluded: Mitral regurgitation (HP:0001653): onset ; excluded: Patent ductus arteriosus (HP:0001643): onset <br/><b>TimeElement(element=OntologyClass(id=HP:0003623, label=Neonatal onset))</b>: Depressed nasal bridge (HP:0005280): onset ontology_class {\n",
       "  id: \"HP:0003623\"\n",
       "  label: \"Neonatal onset\"\n",
       "}\n",
       "<br/><b>TimeElement(element=Age(iso8601duration=P2Y))</b>: Seizure (HP:0001250): onset age {\n",
       "  iso8601duration: \"P2Y\"\n",
       "}\n",
       "</td></tr>\n",
       "<tr><td style=\"text-align: left;\">Family 8 individual II:1 (FEMALE)</td><td style=\"text-align: left;\">Neurodevelopemental disorder with hypotonia, feeding difficulties, facial dysmorphism, and brain abnormalities (OMIM:620852)</td><td style=\"text-align: left;\">NM_007187.5:c.440-1G>A (homozygous)</td><td style=\"text-align: left;\">Abnormal cortical gyration (HP:0002536): onset ; Low-set ears (HP:0000369): onset ; Linear earlobe crease (HP:0031510): onset ; Cleft palate (HP:0000175): onset ; Hypotonia (HP:0001252): onset ; Global developmental delay (HP:0001263): onset ; Epicanthus (HP:0000286): onset ; Hypertelorism (HP:0000316): onset ; Ventricular septal defect (HP:0001629): onset ; excluded: Small for gestational age (HP:0001518): onset ; excluded: Agenesis of corpus callosum (HP:0001274): onset ; excluded: Hypoplasia of the corpus callosum (HP:0002079): onset ; excluded: Hydronephrosis (HP:0000126): onset ; excluded: Anal atresia (HP:0002023): onset ; excluded: Anteverted ears (HP:0040080): onset ; excluded: Stenosis of the external auditory canal (HP:0000402): onset ; excluded: Broad inferior crus of antihelix (HP:0011237): onset ; excluded: Microtia (HP:0008551): onset ; excluded: Protruding ear (HP:0000411): onset ; excluded: Dental crowding (HP:0000678): onset ; excluded: High palate (HP:0000218): onset ; excluded: Short philtrum (HP:0000322): onset ; excluded: Smooth philtrum (HP:0000319): onset ; excluded: Tented upper lip vermilion (HP:0010804): onset ; excluded: Thick vermilion border (HP:0012471): onset ; excluded: Prominent nasal bridge (HP:0000426): onset ; excluded: Seizure (HP:0001250): onset ; excluded: Upslanted palpebral fissure (HP:0000582): onset ; excluded: Downslanted palpebral fissures (HP:0000494): onset ; excluded: Atrioventricular canal defect (HP:0006695): onset ; excluded: Atrial septal defect (HP:0001631): onset ; excluded: Mitral regurgitation (HP:0001653): onset ; excluded: Patent ductus arteriosus (HP:0001643): onset ; excluded: Ventriculomegaly (HP:0002119): onset ; excluded: Sandal gap (HP:0001852): onset ; excluded: Pes planus (HP:0001763): onset ; excluded: Bilateral talipes equinovarus (HP:0001776): onset <br/><b>TimeElement(element=OntologyClass(id=HP:0003623, label=Neonatal onset))</b>: Depressed nasal bridge (HP:0005280): onset ontology_class {\n",
       "  id: \"HP:0003623\"\n",
       "  label: \"Neonatal onset\"\n",
       "}\n",
       "</td></tr>\n",
       "</table>"
      ],
      "text/plain": [
       "<IPython.core.display.HTML object>"
      ]
     },
     "metadata": {},
     "output_type": "display_data"
    }
   ],
   "source": [
    "table = IndividualTable(cvalidator.get_error_free_individual_list())\n",
    "display(HTML(table.to_html()))"
   ]
  },
  {
   "cell_type": "code",
   "execution_count": 12,
   "metadata": {},
   "outputs": [
    {
     "name": "stdout",
     "output_type": "stream",
     "text": [
      "[pyphetools] Ingested 10 GA4GH phenopackets.\n",
      "[INFO] Extracted 10 from 10 phenopackets with OMIM:620852\n",
      "\n",
      "\tNeurodevelopemental disorder with hypotonia, feeding difficulties, facial dysmorphism, and brain abnormalities (OMIM:620852): n=10\n",
      "We found a total of 65 unique HPO terms\n",
      "Extracted disease: Neurodevelopemental disorder with hypotonia, feeding difficulties, facial dysmorphism, and brain abnormalities (OMIM:620852)\n",
      "Wrote HPOA disease file to OMIM-620852.tab\n"
     ]
    }
   ],
   "source": [
    "pmid = \"PMID:37963460\"\n",
    "df = timporter.create_hpoa_from_phenopackets(pmid=pmid, mode_of_inheritance=Moi.AR, target=\"OMIM:620852\")"
   ]
  }
 ],
 "metadata": {
  "kernelspec": {
   "display_name": "ps24venv",
   "language": "python",
   "name": "python3"
  },
  "language_info": {
   "codemirror_mode": {
    "name": "ipython",
    "version": 3
   },
   "file_extension": ".py",
   "mimetype": "text/x-python",
   "name": "python",
   "nbconvert_exporter": "python",
   "pygments_lexer": "ipython3",
   "version": "3.12.4"
  }
 },
 "nbformat": 4,
 "nbformat_minor": 2
}
