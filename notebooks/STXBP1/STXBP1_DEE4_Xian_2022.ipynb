{
 "cells": [
  {
   "cell_type": "markdown",
   "metadata": {},
   "source": [
    "# STXBP1: Developmental and epileptic encephalopathy 4\n",
    "[developmental and epileptic encephalopathy-4 (DEE4)](https://omim.org/entry/612164) is caused by heterozygous mutation in the STXBP1 gene.\n",
    "\n",
    "Here, we have recoded the clinical data from [Xian et al. (2022) Assessing the landscape of STXBP1-related disorders in 534 individuals. Brain](https://pubmed.ncbi.nlm.nih.gov/35190816/). We do not use the diagnosis groups of the authors.\n",
    "\n",
    "The authors used five diagnostic labels.\n",
    "\n",
    "- The diagnostic label of Ohtahara Syndrome (OS) was used if individuals had EOEE as well as tonic seizures and suppression-burst EEG. (HPO codes for epileptic encephalopathy, infantile onset; Tonic seizure; EEG with burst suppression)\n",
    "- West Syndrome (WS) group included individuals with infantile spasms as the first seizure manifestation of STXBP1-related disorders. (HPO Code for Infantile spasm, infantile onset)\n",
    "- Early-Onset Epileptic Encephalopathy (EOEE) included individuals with onset of seizures in the first three months of life and clinical features of developmental and epileptic encephalopathy such as developmental delay, and/or additional neurological features such as spasticity or movement disorders. A more specific phenotypic grouping such as Ohtahara Syndrome or West Syndrome was assigned if this information was available.\n",
    "- Other Developmental and Epileptic Encephalopathies (other DEE)individuals that had a developmental and epileptic encephalopathy (DEE) that could not be classified as either EOEE, OS, or WS. This group of seizure phenotypes included severe epilepsies with seizures, which are often drug-resistant, as well as evidence of encephalopathy, including significant developmental delay or even loss of developmental skills.\n",
    "- Neurodevelopmental disorders (NDD): This group included individuals with developmental differences including developmental delay, autism, and intellectual disability without evidence of an epileptic encephalopathy. For individuals with NDD and seizures, the NDD rather than a DEE label was used if there was evidence that seizures could be controlled by medication and did not result in an epileptic encephalopathy,\n",
    "including prominent EEG findings.\n",
    "\n",
    "\n",
    "According to the authors, patients with R406H and R406C mutations were more likely to have a burst suppression pattern on EEG and spastic tetraplegia, and less likely to have ataxia, compared to the rest of the cohort. Additionally, patients with premature termination mutations or deletions in the STXBP1 gene were more likely to have infantile spasms, hypsarrhythmia on EEG, ataxia, hypotonia, and neonatal seizure onset compared to patients with missense mutations.\n",
    "\n",
    "Note that we have corrected HGVS syntax for several variants. We omit individual STX_23708187_T23289 because the variant is indicated as no cahnge at all: \"c.A1708A:p.T570T\", and thus we deem the diagnosis uncertain."
   ]
  },
  {
   "cell_type": "code",
   "execution_count": 1,
   "metadata": {},
   "outputs": [
    {
     "name": "stdout",
     "output_type": "stream",
     "text": [
      "Using pyphetools version 0.9.113\n"
     ]
    }
   ],
   "source": [
    "from pyphetools.creation import TemplateImporter, Moi\n",
    "from pyphetools.visualization import IndividualTable, QcVisualizer\n",
    "from IPython.display import display, HTML\n",
    "import pyphetools\n",
    "print(f\"Using pyphetools version {pyphetools.__version__}\")"
   ]
  },
  {
   "cell_type": "code",
   "execution_count": 2,
   "metadata": {},
   "outputs": [],
   "source": [
    "template = \"input/STXBP1_DEE4_Xian_2022.xlsx\"\n",
    "created_by = \"0000-0002-0736-9199\""
   ]
  },
  {
   "cell_type": "code",
   "execution_count": 3,
   "metadata": {},
   "outputs": [
    {
     "name": "stdout",
     "output_type": "stream",
     "text": [
      "HPO version 2024-08-13\n",
      "Created encoders for 537 fields\n",
      "Importing OMIM:612164, Developmental and epileptic encephalopathy 4, HGNC:11444, STXBP1,  NM_001032221.6\n",
      "We output 462 GA4GH phenopackets to the directory phenopackets\n"
     ]
    }
   ],
   "source": [
    "timporter = TemplateImporter(template=template,  created_by=created_by)\n",
    "individual_list, cvalidator = timporter.import_phenopackets_from_template()"
   ]
  },
  {
   "cell_type": "code",
   "execution_count": 4,
   "metadata": {},
   "outputs": [
    {
     "data": {
      "text/html": [
       "<h2>Cohort validation</h2>\n",
       "<p>Errors found with 200 of 462 phenopackets.</p>\n",
       "<table style=\"border: 2px solid black; align: \"left\">\n",
       "<caption>Error counts</caption>\n",
       "<tr><th style=\"text-align: left;font-weight: bold;\">Level</th><th style=\"text-align: left;font-weight: bold;\">Error category</th><th style=\"text-align: left;font-weight: bold;\">Count</th></tr>\n",
       "<tr><td style=\"text-align: left;\">WARNING</td><td style=\"text-align: left;\">REDUNDANT</td><td style=\"text-align: left;\">322</td></tr>\n",
       "</table>\n",
       "<p>A total of 322 issues were fixed and no individual was removed from the cohort.</p>"
      ],
      "text/plain": [
       "<IPython.core.display.HTML object>"
      ]
     },
     "metadata": {},
     "output_type": "display_data"
    }
   ],
   "source": [
    "qc = QcVisualizer(cohort_validator=cvalidator)\n",
    "display(HTML(qc.to_summary_html()))"
   ]
  },
  {
   "cell_type": "code",
   "execution_count": 5,
   "metadata": {},
   "outputs": [
    {
     "name": "stdout",
     "output_type": "stream",
     "text": [
      "[pyphetools] Ingested 462 GA4GH phenopackets.\n",
      "[INFO] Extracted 462 from 462 phenopackets with OMIM:612164\n",
      "\n",
      "\tDevelopmental and epileptic encephalopathy 4 (OMIM:612164): n=462\n",
      "We found a total of 516 unique HPO terms\n",
      "Extracted disease: Developmental and epileptic encephalopathy 4 (OMIM:612164)\n",
      "Wrote HPOA disease file to OMIM-612164.tab\n"
     ]
    },
    {
     "data": {
      "text/html": [
       "<div>\n",
       "<style scoped>\n",
       "    .dataframe tbody tr th:only-of-type {\n",
       "        vertical-align: middle;\n",
       "    }\n",
       "\n",
       "    .dataframe tbody tr th {\n",
       "        vertical-align: top;\n",
       "    }\n",
       "\n",
       "    .dataframe thead th {\n",
       "        text-align: right;\n",
       "    }\n",
       "</style>\n",
       "<table border=\"1\" class=\"dataframe\">\n",
       "  <thead>\n",
       "    <tr style=\"text-align: right;\">\n",
       "      <th></th>\n",
       "      <th>#diseaseID</th>\n",
       "      <th>diseaseName</th>\n",
       "      <th>phenotypeID</th>\n",
       "      <th>phenotypeName</th>\n",
       "      <th>onsetID</th>\n",
       "      <th>onsetName</th>\n",
       "      <th>frequency</th>\n",
       "      <th>sex</th>\n",
       "      <th>negation</th>\n",
       "      <th>modifier</th>\n",
       "      <th>description</th>\n",
       "      <th>publication</th>\n",
       "      <th>evidence</th>\n",
       "      <th>biocuration</th>\n",
       "    </tr>\n",
       "  </thead>\n",
       "  <tbody>\n",
       "    <tr>\n",
       "      <th>0</th>\n",
       "      <td>OMIM:612164</td>\n",
       "      <td>Developmental and epileptic encephalopathy 4</td>\n",
       "      <td>HP:0000733</td>\n",
       "      <td>Motor stereotypy</td>\n",
       "      <td></td>\n",
       "      <td></td>\n",
       "      <td>56/56</td>\n",
       "      <td></td>\n",
       "      <td></td>\n",
       "      <td></td>\n",
       "      <td></td>\n",
       "      <td>PMID:35190816</td>\n",
       "      <td>PCS</td>\n",
       "      <td>ORCID:0000-0002-0736-9199[2024-12-04]</td>\n",
       "    </tr>\n",
       "    <tr>\n",
       "      <th>1</th>\n",
       "      <td>OMIM:612164</td>\n",
       "      <td>Developmental and epileptic encephalopathy 4</td>\n",
       "      <td>HP:0012000</td>\n",
       "      <td>EEG with generalized spikes</td>\n",
       "      <td></td>\n",
       "      <td></td>\n",
       "      <td>2/2</td>\n",
       "      <td></td>\n",
       "      <td></td>\n",
       "      <td></td>\n",
       "      <td></td>\n",
       "      <td>PMID:35190816</td>\n",
       "      <td>PCS</td>\n",
       "      <td>ORCID:0000-0002-0736-9199[2024-12-04]</td>\n",
       "    </tr>\n",
       "    <tr>\n",
       "      <th>2</th>\n",
       "      <td>OMIM:612164</td>\n",
       "      <td>Developmental and epileptic encephalopathy 4</td>\n",
       "      <td>HP:0002376</td>\n",
       "      <td>Developmental regression</td>\n",
       "      <td></td>\n",
       "      <td></td>\n",
       "      <td>50/50</td>\n",
       "      <td></td>\n",
       "      <td></td>\n",
       "      <td></td>\n",
       "      <td></td>\n",
       "      <td>PMID:35190816</td>\n",
       "      <td>PCS</td>\n",
       "      <td>ORCID:0000-0002-0736-9199[2024-12-04]</td>\n",
       "    </tr>\n",
       "    <tr>\n",
       "      <th>3</th>\n",
       "      <td>OMIM:612164</td>\n",
       "      <td>Developmental and epileptic encephalopathy 4</td>\n",
       "      <td>HP:0200048</td>\n",
       "      <td>Cyanotic episode</td>\n",
       "      <td></td>\n",
       "      <td></td>\n",
       "      <td>1/1</td>\n",
       "      <td></td>\n",
       "      <td></td>\n",
       "      <td></td>\n",
       "      <td></td>\n",
       "      <td>PMID:35190816</td>\n",
       "      <td>PCS</td>\n",
       "      <td>ORCID:0000-0002-0736-9199[2024-12-04]</td>\n",
       "    </tr>\n",
       "    <tr>\n",
       "      <th>4</th>\n",
       "      <td>OMIM:612164</td>\n",
       "      <td>Developmental and epileptic encephalopathy 4</td>\n",
       "      <td>HP:0010536</td>\n",
       "      <td>Central sleep apnea</td>\n",
       "      <td></td>\n",
       "      <td></td>\n",
       "      <td>1/1</td>\n",
       "      <td></td>\n",
       "      <td></td>\n",
       "      <td></td>\n",
       "      <td></td>\n",
       "      <td>PMID:35190816</td>\n",
       "      <td>PCS</td>\n",
       "      <td>ORCID:0000-0002-0736-9199[2024-12-04]</td>\n",
       "    </tr>\n",
       "  </tbody>\n",
       "</table>\n",
       "</div>"
      ],
      "text/plain": [
       "    #diseaseID                                   diseaseName phenotypeID  \\\n",
       "0  OMIM:612164  Developmental and epileptic encephalopathy 4  HP:0000733   \n",
       "1  OMIM:612164  Developmental and epileptic encephalopathy 4  HP:0012000   \n",
       "2  OMIM:612164  Developmental and epileptic encephalopathy 4  HP:0002376   \n",
       "3  OMIM:612164  Developmental and epileptic encephalopathy 4  HP:0200048   \n",
       "4  OMIM:612164  Developmental and epileptic encephalopathy 4  HP:0010536   \n",
       "\n",
       "                 phenotypeName onsetID onsetName frequency sex negation  \\\n",
       "0             Motor stereotypy                       56/56                \n",
       "1  EEG with generalized spikes                         2/2                \n",
       "2     Developmental regression                       50/50                \n",
       "3             Cyanotic episode                         1/1                \n",
       "4          Central sleep apnea                         1/1                \n",
       "\n",
       "  modifier description    publication evidence  \\\n",
       "0                       PMID:35190816      PCS   \n",
       "1                       PMID:35190816      PCS   \n",
       "2                       PMID:35190816      PCS   \n",
       "3                       PMID:35190816      PCS   \n",
       "4                       PMID:35190816      PCS   \n",
       "\n",
       "                             biocuration  \n",
       "0  ORCID:0000-0002-0736-9199[2024-12-04]  \n",
       "1  ORCID:0000-0002-0736-9199[2024-12-04]  \n",
       "2  ORCID:0000-0002-0736-9199[2024-12-04]  \n",
       "3  ORCID:0000-0002-0736-9199[2024-12-04]  \n",
       "4  ORCID:0000-0002-0736-9199[2024-12-04]  "
      ]
     },
     "execution_count": 5,
     "metadata": {},
     "output_type": "execute_result"
    }
   ],
   "source": [
    "pmid = \"PMID: 35190816\" # Xian et al (2022) Assessing the landscape of STXBP1-related disorders in 534 individuals\n",
    "df = timporter.create_hpoa_from_phenopackets(pmid=pmid, mode_of_inheritance=Moi.AD, target=\"OMIM:612164\")\n",
    "df.head()"
   ]
  }
 ],
 "metadata": {
  "kernelspec": {
   "display_name": "ps24venv",
   "language": "python",
   "name": "python3"
  },
  "language_info": {
   "codemirror_mode": {
    "name": "ipython",
    "version": 3
   },
   "file_extension": ".py",
   "mimetype": "text/x-python",
   "name": "python",
   "nbconvert_exporter": "python",
   "pygments_lexer": "ipython3",
   "version": "3.12.4"
  }
 },
 "nbformat": 4,
 "nbformat_minor": 2
}
