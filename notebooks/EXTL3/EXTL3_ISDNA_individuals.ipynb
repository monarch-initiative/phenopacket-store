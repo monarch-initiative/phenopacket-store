{
 "cells": [
  {
   "cell_type": "markdown",
   "metadata": {},
   "source": [
    "# EXTL3\n",
    "[immunoskeletal dysplasia with neurodevelopmental abnormalities (ISDNA)](https://omim.org/entry/617425) is caused by homozygous mutation in the EXTL3 gene."
   ]
  },
  {
   "cell_type": "code",
   "execution_count": 1,
   "metadata": {},
   "outputs": [
    {
     "name": "stdout",
     "output_type": "stream",
     "text": [
      "Using pyphetools version 0.9.84\n"
     ]
    },
    {
     "name": "stderr",
     "output_type": "stream",
     "text": [
      "/Users/robin/GIT/phenopacket-store/ps24venv/lib/python3.9/site-packages/urllib3/__init__.py:35: NotOpenSSLWarning: urllib3 v2 only supports OpenSSL 1.1.1+, currently the 'ssl' module is compiled with 'LibreSSL 2.8.3'. See: https://github.com/urllib3/urllib3/issues/3020\n",
      "  warnings.warn(\n"
     ]
    }
   ],
   "source": [
    "from pyphetools.creation import TemplateImporter\n",
    "from pyphetools.visualization import IndividualTable, QcVisualizer\n",
    "from IPython.display import display, HTML\n",
    "import pyphetools\n",
    "print(f\"Using pyphetools version {pyphetools.__version__}\")"
   ]
  },
  {
   "cell_type": "code",
   "execution_count": 2,
   "metadata": {},
   "outputs": [],
   "source": [
    "template = \"input/EXTL3_ISDNA_individuals.xlsx\"\n",
    "created_by = \"0000-0002-0736-9199\""
   ]
  },
  {
   "cell_type": "code",
   "execution_count": 3,
   "metadata": {},
   "outputs": [
    {
     "name": "stdout",
     "output_type": "stream",
     "text": [
      "HPO version 2024-04-26\n",
      "Created encoders for 84 fields\n",
      "Importing OMIM:617425, Immunoskeletal dysplasia with neurodevelopmental abnormalitie, HGNC:3518, EXTL3,  NM_001440.4\n",
      "We output 14 GA4GH phenopackets to the directory phenopackets\n"
     ]
    }
   ],
   "source": [
    "timporter = TemplateImporter(template=template,  created_by=created_by)\n",
    "individual_list, cvalidator = timporter.import_phenopackets_from_template()"
   ]
  },
  {
   "cell_type": "code",
   "execution_count": 4,
   "metadata": {},
   "outputs": [
    {
     "data": {
      "text/html": [
       "<h2>Cohort validation</h2>\n",
       "<p>Errors found with 2 of 14 phenopackets.</p>\n",
       "<table style=\"border: 2px solid black; align: \"left\">\n",
       "<caption>Error counts</caption>\n",
       "<tr><th style=\"text-align: left;font-weight: bold;\">Level</th><th style=\"text-align: left;font-weight: bold;\">Error category</th><th style=\"text-align: left;font-weight: bold;\">Count</th></tr>\n",
       "<tr><td style=\"text-align: left;\">ERROR</td><td style=\"text-align: left;\">CONFLICT</td><td style=\"text-align: left;\">1</td></tr>\n",
       "<tr><td style=\"text-align: left;\">WARNING</td><td style=\"text-align: left;\">REDUNDANT</td><td style=\"text-align: left;\">1</td></tr>\n",
       "</table>\n",
       "<p>A total of 2 issues were fixed and no individual was removed from the cohort.</p>"
      ],
      "text/plain": [
       "<IPython.core.display.HTML object>"
      ]
     },
     "metadata": {},
     "output_type": "display_data"
    }
   ],
   "source": [
    "qc = QcVisualizer(cohort_validator=cvalidator)\n",
    "display(HTML(qc.to_summary_html()))"
   ]
  },
  {
   "cell_type": "code",
   "execution_count": 5,
   "metadata": {},
   "outputs": [
    {
     "data": {
      "text/html": [
       "<table style=\"border: 2px solid black; align: \"left\">\n",
       "<caption>14 phenopackets - PMID:28148688 (n=3); PMID:28132690 (n=9); PMID:28331220 (n=2)</caption>\n",
       "<tr><th style=\"text-align: left;font-weight: bold;\">Individual</th><th style=\"text-align: left;font-weight: bold;\">Disease</th><th style=\"text-align: left;font-weight: bold;\">Genotype</th><th style=\"text-align: left;font-weight: bold;\">Phenotypic features</th></tr>\n",
       "<tr><td style=\"text-align: left;\">P1 (MALE; P11M)</td><td style=\"text-align: left;\">Immunoskeletal dysplasia with neurodevelopmental abnormalitie (OMIM:617425)</td><td style=\"text-align: left;\">NM_001440.4:c.1015C>T (homozygous)</td><td style=\"text-align: left;\"><b>P3M</b>: Generalized-onset seizure (HP:0002197); Opisthotonus (HP:0002179); Hyperreflexia (HP:0001347); Abnormally low T cell receptor excision circle level (HP:0031545); Sepsis (HP:0100806)<br/>Global developmental delay (HP:0001263); Trident acetabulum (HP:0034374); Cervical spinal canal stenosis (HP:0008445); Hepatic cysts (HP:0001407); Laryngotracheal stenosis (HP:0004894); Scaphocephaly (HP:0030799); Limb undergrowth (HP:0009826); Recurrent infections (HP:0002719); Fetal distress (HP:0025116); Hypotonia (HP:0001252); Rigidity (HP:0002063); Brachydactyly (HP:0001156); Thoracolumbar kyphosis (HP:0005619); Spinal cord compression (HP:0002176); Micrognathia (HP:0000347); Failure to thrive (HP:0001508); Increased intervertebral space (HP:0030320); Disproportionate short-limb short stature (HP:0008873); excluded: Lumbar hyperlordosis (HP:0002938); excluded: Hip dysplasia (HP:0001385); excluded: Cloverleaf skull (HP:0002676); excluded: Simple ear (HP:0020206); excluded: Upslanted palpebral fissure (HP:0000582); excluded: Anal atresia (HP:0002023); excluded: Craniosynostosis (HP:0001363); excluded: Wide intermamillary distance (HP:0006610); excluded: Pectus excavatum (HP:0000767); excluded: Hypertriglyceridemia (HP:0002155); excluded: Severe combined immunodeficiency (HP:0004430); excluded: Chalazion (HP:0010605); excluded: Severe T-cell immunodeficiency (HP:0005352); excluded: Coxa vara (HP:0002812); excluded: Thoracic scoliosis (HP:0002943); excluded: Short chin (HP:0000331); excluded: Blepharitis (HP:0000498); excluded: Pear-shaped vertebrae (HP:0004566); excluded: Clonus (HP:0002169); excluded: Nystagmus (HP:0000639)</td></tr>\n",
       "<tr><td style=\"text-align: left;\">P2 (FEMALE; P7M)</td><td style=\"text-align: left;\">Immunoskeletal dysplasia with neurodevelopmental abnormalitie (OMIM:617425)</td><td style=\"text-align: left;\">NM_001440.4:c.1015C>T (homozygous)</td><td style=\"text-align: left;\">Global developmental delay (HP:0001263); Trident acetabulum (HP:0034374); Cervical spinal canal stenosis (HP:0008445); Cloverleaf skull (HP:0002676); Hepatic cysts (HP:0001407); Abnormally low T cell receptor excision circle level (HP:0031545); Limb undergrowth (HP:0009826); Anal atresia (HP:0002023); Craniosynostosis (HP:0001363); Recurrent infections (HP:0002719); Fetal distress (HP:0025116); Increased intervertebral space (HP:0030320); Severe combined immunodeficiency (HP:0004430); Disproportionate short-limb short stature (HP:0008873); Clonus (HP:0002169); Nystagmus (HP:0000639); excluded: Lumbar hyperlordosis (HP:0002938); excluded: Hip dysplasia (HP:0001385); excluded: Micrognathia (HP:0000347); excluded: Simple ear (HP:0020206); excluded: Upslanted palpebral fissure (HP:0000582); excluded: Generalized-onset seizure (HP:0002197); excluded: Opisthotonus (HP:0002179); excluded: Failure to thrive (HP:0001508); excluded: Laryngotracheal stenosis (HP:0004894); excluded: Scaphocephaly (HP:0030799); excluded: Wide intermamillary distance (HP:0006610); excluded: Pectus excavatum (HP:0000767); excluded: Hypertriglyceridemia (HP:0002155); excluded: Chalazion (HP:0010605); excluded: Severe T-cell immunodeficiency (HP:0005352); excluded: Coxa vara (HP:0002812); excluded: Thoracic scoliosis (HP:0002943); excluded: Short chin (HP:0000331); excluded: Blepharitis (HP:0000498); excluded: Pear-shaped vertebrae (HP:0004566)</td></tr>\n",
       "<tr><td style=\"text-align: left;\">P3 (FEMALE; P2Y7M)</td><td style=\"text-align: left;\">Immunoskeletal dysplasia with neurodevelopmental abnormalitie (OMIM:617425)</td><td style=\"text-align: left;\">NM_001440.4:c.1382C>T (homozygous)</td><td style=\"text-align: left;\"><b>P8M</b>: Platyspondyly (HP:0000926); Cervical spinal canal stenosis (HP:0008445); Spinal cord compression (HP:0002176)<br/><b>P2Y</b>: Thoracolumbar kyphosis (HP:0005619)<br/>Global developmental delay (HP:0001263); Hypotonia (HP:0001252); Failure to thrive (HP:0001508); Trident acetabulum (HP:0034374); Brachydactyly (HP:0001156); Micrognathia (HP:0000347); Simple ear (HP:0020206); Upslanted palpebral fissure (HP:0000582); Abnormally low T cell receptor excision circle level (HP:0031545); Limb undergrowth (HP:0009826); Wide intermamillary distance (HP:0006610); Pectus excavatum (HP:0000767); Lumbar hyperlordosis (HP:0002938); Hip dysplasia (HP:0001385); Hypertriglyceridemia (HP:0002155); Increased intervertebral space (HP:0030320); Severe combined immunodeficiency (HP:0004430); Chalazion (HP:0010605); Severe T-cell immunodeficiency (HP:0005352); Coxa vara (HP:0002812); Thoracic scoliosis (HP:0002943); Short chin (HP:0000331); Blepharitis (HP:0000498); Pear-shaped vertebrae (HP:0004566); Disproportionate short-limb short stature (HP:0008873); excluded: Cloverleaf skull (HP:0002676); excluded: Generalized-onset seizure (HP:0002197); excluded: Opisthotonus (HP:0002179); excluded: Hepatic cysts (HP:0001407); excluded: Recurrent infections (HP:0002719); excluded: Fetal distress (HP:0025116); excluded: Laryngotracheal stenosis (HP:0004894); excluded: Scaphocephaly (HP:0030799); excluded: Craniosynostosis (HP:0001363); excluded: Clonus (HP:0002169); excluded: Nystagmus (HP:0000639)</td></tr>\n",
       "<tr><td style=\"text-align: left;\">Family A II-1 (FEMALE; P1M4D)</td><td style=\"text-align: left;\">Immunoskeletal dysplasia with neurodevelopmental abnormalitie (OMIM:617425)</td><td style=\"text-align: left;\">NM_001440.4:c.1537C>T (homozygous)</td><td style=\"text-align: left;\">Brachydactyly (HP:0001156); Platyspondyly (HP:0000926); Hypertelorism (HP:0000316); Coarse facial features (HP:0000280); Single transverse palmar crease (HP:0000954); Hepatic cysts (HP:0001407); Multiple renal cysts (HP:0005562); Severe combined immunodeficiency (HP:0004430); excluded: Microcephaly (HP:0000252); excluded: Upslanted palpebral fissure (HP:0000582); excluded: Broad nasal tip (HP:0000455); excluded: Recurrent infections (HP:0002719); excluded: Limb undergrowth (HP:0009826); excluded: Pectus excavatum (HP:0000767); excluded: Eosinophilia (HP:0001880); excluded: Severe T-cell immunodeficiency (HP:0005352); excluded: Disproportionate short-limb short stature (HP:0008873)</td></tr>\n",
       "<tr><td style=\"text-align: left;\">Family B II-1 (MALE; P8Y3M)</td><td style=\"text-align: left;\">Immunoskeletal dysplasia with neurodevelopmental abnormalitie (OMIM:617425)</td><td style=\"text-align: left;\">NM_001440.4:c.2008T>G (homozygous)</td><td style=\"text-align: left;\"><b>P6M</b>: Global developmental delay (HP:0001263); Microcephaly (HP:0000252)<br/>Seizure (HP:0001250); Intellectual disability (HP:0001249); Brachydactyly (HP:0001156); Platyspondyly (HP:0000926); Hypoplasia of the capital femoral epiphysis (HP:0003090); Broad nasal tip (HP:0000455); Coarse facial features (HP:0000280); Single transverse palmar crease (HP:0000954); Recurrent infections (HP:0002719); Limb undergrowth (HP:0009826); Severe combined immunodeficiency (HP:0004430); Disproportionate short-limb short stature (HP:0008873); excluded: Upslanted palpebral fissure (HP:0000582); excluded: Hypertelorism (HP:0000316); excluded: Hepatic cysts (HP:0001407); excluded: Multiple renal cysts (HP:0005562); excluded: Pectus excavatum (HP:0000767); excluded: Eosinophilia (HP:0001880); excluded: Severe T-cell immunodeficiency (HP:0005352)</td></tr>\n",
       "<tr><td style=\"text-align: left;\">Family B II-2 (FEMALE; P1Y5M)</td><td style=\"text-align: left;\">Immunoskeletal dysplasia with neurodevelopmental abnormalitie (OMIM:617425)</td><td style=\"text-align: left;\">NM_001440.4:c.2008T>G (homozygous)</td><td style=\"text-align: left;\"><b>P21D</b>: Microcephaly (HP:0000252); Eosinophilia (HP:0001880)<br/>Intellectual disability (HP:0001249); Brachydactyly (HP:0001156); Platyspondyly (HP:0000926); Upslanted palpebral fissure (HP:0000582); Broad nasal tip (HP:0000455); Coarse facial features (HP:0000280); Seizure (HP:0001250); Single transverse palmar crease (HP:0000954); Severe combined immunodeficiency (HP:0004430); excluded: Hypertelorism (HP:0000316); excluded: Hepatic cysts (HP:0001407); excluded: Limb undergrowth (HP:0009826); excluded: Pectus excavatum (HP:0000767); excluded: Severe T-cell immunodeficiency (HP:0005352)</td></tr>\n",
       "<tr><td style=\"text-align: left;\">Family C II-1 (FEMALE; P4Y)</td><td style=\"text-align: left;\">Immunoskeletal dysplasia with neurodevelopmental abnormalitie (OMIM:617425)</td><td style=\"text-align: left;\">NM_001440.4:c.1382C>T (homozygous)</td><td style=\"text-align: left;\">Intellectual disability (HP:0001249); Platyspondyly (HP:0000926); Coarse facial features (HP:0000280); Pectus excavatum (HP:0000767); excluded: Brachydactyly (HP:0001156); excluded: Broad nasal tip (HP:0000455); excluded: Hypertelorism (HP:0000316); excluded: Seizure (HP:0001250); excluded: Single transverse palmar crease (HP:0000954); excluded: Hepatic cysts (HP:0001407); excluded: Limb undergrowth (HP:0009826); excluded: Severe combined immunodeficiency (HP:0004430); excluded: Eosinophilia (HP:0001880); excluded: Severe T-cell immunodeficiency (HP:0005352)</td></tr>\n",
       "<tr><td style=\"text-align: left;\">Family D III-1 (MALE; P30Y)</td><td style=\"text-align: left;\">Immunoskeletal dysplasia with neurodevelopmental abnormalitie (OMIM:617425)</td><td style=\"text-align: left;\">NM_001440.4:c.1382C>T (homozygous)</td><td style=\"text-align: left;\">Brachydactyly (HP:0001156); Platyspondyly (HP:0000926); Hypoplasia of the capital femoral epiphysis (HP:0003090); excluded: Intellectual disability (HP:0001249); excluded: Hepatic cysts (HP:0001407); excluded: Pectus excavatum (HP:0000767); excluded: Eosinophilia (HP:0001880); excluded: Severe T-cell immunodeficiency (HP:0005352)</td></tr>\n",
       "<tr><td style=\"text-align: left;\">Family D III-2 (FEMALE; P38Y)</td><td style=\"text-align: left;\">Immunoskeletal dysplasia with neurodevelopmental abnormalitie (OMIM:617425)</td><td style=\"text-align: left;\">NM_001440.4:c.1382C>T (homozygous)</td><td style=\"text-align: left;\">Platyspondyly (HP:0000926); Hypoplasia of the capital femoral epiphysis (HP:0003090); excluded: Intellectual disability (HP:0001249); excluded: Brachydactyly (HP:0001156); excluded: Hepatic cysts (HP:0001407); excluded: Pectus excavatum (HP:0000767); excluded: Eosinophilia (HP:0001880); excluded: Severe T-cell immunodeficiency (HP:0005352)</td></tr>\n",
       "<tr><td style=\"text-align: left;\">Family D IV-1 (FEMALE; n/a)</td><td style=\"text-align: left;\">Immunoskeletal dysplasia with neurodevelopmental abnormalitie (OMIM:617425)</td><td style=\"text-align: left;\">NM_001440.4:c.1382C>T (homozygous)</td><td style=\"text-align: left;\">Brachydactyly (HP:0001156); Platyspondyly (HP:0000926); Hypoplasia of the capital femoral epiphysis (HP:0003090); Broad nasal tip (HP:0000455); Coarse facial features (HP:0000280); Single transverse palmar crease (HP:0000954); Hepatic cysts (HP:0001407); Pectus excavatum (HP:0000767); excluded: Intellectual disability (HP:0001249); excluded: Hypertelorism (HP:0000316); excluded: Seizure (HP:0001250); excluded: Eosinophilia (HP:0001880); excluded: Severe T-cell immunodeficiency (HP:0005352)</td></tr>\n",
       "<tr><td style=\"text-align: left;\">Family E II-1 (MALE; P6M)</td><td style=\"text-align: left;\">Immunoskeletal dysplasia with neurodevelopmental abnormalitie (OMIM:617425)</td><td style=\"text-align: left;\">NM_001440.4:c.1970A>G (homozygous)</td><td style=\"text-align: left;\">Platyspondyly (HP:0000926); Hypoplasia of the capital femoral epiphysis (HP:0003090); Coarse facial features (HP:0000280); Seizure (HP:0001250); Eosinophilia (HP:0001880); excluded: Brachydactyly (HP:0001156); excluded: Broad nasal tip (HP:0000455); excluded: Hypertelorism (HP:0000316); excluded: Hepatic cysts (HP:0001407); excluded: Pectus excavatum (HP:0000767); excluded: Severe combined immunodeficiency (HP:0004430); excluded: Severe T-cell immunodeficiency (HP:0005352)</td></tr>\n",
       "<tr><td style=\"text-align: left;\">Family E II-2 (MALE; P10M)</td><td style=\"text-align: left;\">Immunoskeletal dysplasia with neurodevelopmental abnormalitie (OMIM:617425)</td><td style=\"text-align: left;\">NM_001440.4:c.1970A>G (homozygous)</td><td style=\"text-align: left;\">Platyspondyly (HP:0000926); Seizure (HP:0001250); Single transverse palmar crease (HP:0000954); Eosinophilia (HP:0001880); Severe T-cell immunodeficiency (HP:0005352); excluded: Brachydactyly (HP:0001156); excluded: Broad nasal tip (HP:0000455); excluded: Hypertelorism (HP:0000316); excluded: Coarse facial features (HP:0000280); excluded: Hepatic cysts (HP:0001407); excluded: Limb undergrowth (HP:0009826); excluded: Pectus excavatum (HP:0000767); excluded: Severe combined immunodeficiency (HP:0004430)</td></tr>\n",
       "<tr><td style=\"text-align: left;\">Patient 1 (FEMALE; P2Y7M)</td><td style=\"text-align: left;\">Immunoskeletal dysplasia with neurodevelopmental abnormalitie (OMIM:617425)</td><td style=\"text-align: left;\">NM_001440.4:c.953C>T (homozygous)</td><td style=\"text-align: left;\">Global developmental delay (HP:0001263); Microcephaly (HP:0000252); Hypotonia (HP:0001252); Brachydactyly (HP:0001156); Platyspondyly (HP:0000926); Thoracolumbar kyphosis (HP:0005619); Cervical spinal canal stenosis (HP:0008445); Spinal cord compression (HP:0002176); Micrognathia (HP:0000347); Depressed nasal bridge (HP:0005280); Short nose (HP:0003196); Frontal bossing (HP:0002007); Anteverted nares (HP:0000463); Broad ischia (HP:0100865); Sacral dimple (HP:0000960); Metaphyseal widening (HP:0003016); Hepatic cysts (HP:0001407); Limb undergrowth (HP:0009826); Decreased circulating total IgM (HP:0002850); Decreased circulating IgG level (HP:0004315); Trident hand (HP:0004060); Lower limb muscle weakness (HP:0007340); Polyhydramnios (HP:0001561); Recurrent pneumonia (HP:0006532)</td></tr>\n",
       "<tr><td style=\"text-align: left;\">Patient 2 (FEMALE; P3Y)</td><td style=\"text-align: left;\">Immunoskeletal dysplasia with neurodevelopmental abnormalitie (OMIM:617425)</td><td style=\"text-align: left;\">NM_001440.4:c.953C>T (homozygous)</td><td style=\"text-align: left;\">Cervical spinal canal stenosis (HP:0008445); Spinal cord compression (HP:0002176); Global developmental delay (HP:0001263); Brachydactyly (HP:0001156); Thoracolumbar kyphosis (HP:0005619); Micrognathia (HP:0000347); Frontal bossing (HP:0002007); Hepatic cysts (HP:0001407); Limb undergrowth (HP:0009826); excluded: Depressed nasal bridge (HP:0005280); excluded: Anteverted nares (HP:0000463); excluded: Recurrent pneumonia (HP:0006532)</td></tr>\n",
       "</table>"
      ],
      "text/plain": [
       "<IPython.core.display.HTML object>"
      ]
     },
     "metadata": {},
     "output_type": "display_data"
    }
   ],
   "source": [
    "table = IndividualTable(cvalidator.get_error_free_individual_list())\n",
    "display(HTML(table.to_html()))"
   ]
  },
  {
   "cell_type": "code",
   "execution_count": 6,
   "metadata": {},
   "outputs": [
    {
     "name": "stdout",
     "output_type": "stream",
     "text": [
      "[pyphetools] Ingested 14 GA4GH phenopackets.\n",
      "\tImmunoskeletal dysplasia with neurodevelopmental abnormalitie (OMIM:617425): n=14\n",
      "We found a total of 67 unique HPO terms\n",
      "Extracted disease: Immunoskeletal dysplasia with neurodevelopmental abnormalitie (OMIM:617425)\n",
      "Wrote HPOA disease file to OMIM-617425.tab\n"
     ]
    }
   ],
   "source": [
    "pmid = \"PMID:28148688\"\n",
    "df = timporter.create_hpoa_from_phenopackets(pmid=pmid, moi=\"Autosomal recessive\")"
   ]
  },
  {
   "cell_type": "code",
   "execution_count": null,
   "metadata": {},
   "outputs": [],
   "source": []
  }
 ],
 "metadata": {
  "kernelspec": {
   "display_name": "ps24venv",
   "language": "python",
   "name": "python3"
  },
  "language_info": {
   "codemirror_mode": {
    "name": "ipython",
    "version": 3
   },
   "file_extension": ".py",
   "mimetype": "text/x-python",
   "name": "python",
   "nbconvert_exporter": "python",
   "pygments_lexer": "ipython3",
   "version": "3.9.6"
  }
 },
 "nbformat": 4,
 "nbformat_minor": 2
}
