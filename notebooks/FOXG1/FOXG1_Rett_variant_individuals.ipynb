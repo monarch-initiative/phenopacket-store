{
 "cells": [
  {
   "cell_type": "markdown",
   "metadata": {},
   "source": [
    "# FOXG1\n",
    "[the congenital variant of Rett syndrome](https://omim.org/entry/613454)  is caused by heterozygous mutation in the FOXG1 gene."
   ]
  },
  {
   "cell_type": "code",
   "execution_count": 1,
   "metadata": {},
   "outputs": [
    {
     "name": "stdout",
     "output_type": "stream",
     "text": [
      "Using pyphetools version 0.9.84\n"
     ]
    },
    {
     "name": "stderr",
     "output_type": "stream",
     "text": [
      "/Users/robin/GIT/phenopacket-store/ps24venv/lib/python3.9/site-packages/urllib3/__init__.py:35: NotOpenSSLWarning: urllib3 v2 only supports OpenSSL 1.1.1+, currently the 'ssl' module is compiled with 'LibreSSL 2.8.3'. See: https://github.com/urllib3/urllib3/issues/3020\n",
      "  warnings.warn(\n"
     ]
    }
   ],
   "source": [
    "from pyphetools.creation import TemplateImporter\n",
    "from pyphetools.visualization import IndividualTable, QcVisualizer\n",
    "from IPython.display import display, HTML\n",
    "import pyphetools\n",
    "print(f\"Using pyphetools version {pyphetools.__version__}\")"
   ]
  },
  {
   "cell_type": "code",
   "execution_count": 3,
   "metadata": {},
   "outputs": [],
   "source": [
    "template = \"input/FOXG1_Rett_variant_individuals.xlsx\"\n",
    "created_by = \"0000-0002-0736-9199\""
   ]
  },
  {
   "cell_type": "code",
   "execution_count": 4,
   "metadata": {},
   "outputs": [
    {
     "name": "stdout",
     "output_type": "stream",
     "text": [
      "HPO version 2024-04-26\n",
      "Created encoders for 33 fields\n",
      "Importing OMIM:613454, Rett syndrome, congenital variant, HGNC:3811, FOXG1,  NM_005249.5\n",
      "[INFO] encoding variant \"c.974dup\"\n",
      "https://rest.variantvalidator.org/VariantValidator/variantvalidator/hg38/NM_005249.5%3Ac.974dup/NM_005249.5?content-type=application%2Fjson\n",
      "[INFO] encoding variant \"c.694A>T\"\n",
      "https://rest.variantvalidator.org/VariantValidator/variantvalidator/hg38/NM_005249.5%3Ac.694A>T/NM_005249.5?content-type=application%2Fjson\n",
      "[INFO] encoding variant \"c.460dup\"\n",
      "https://rest.variantvalidator.org/VariantValidator/variantvalidator/hg38/NM_005249.5%3Ac.460dup/NM_005249.5?content-type=application%2Fjson\n",
      "[INFO] encoding variant \"c.858dup\"\n",
      "https://rest.variantvalidator.org/VariantValidator/variantvalidator/hg38/NM_005249.5%3Ac.858dup/NM_005249.5?content-type=application%2Fjson\n",
      "We output 4 GA4GH phenopackets to the directory phenopackets\n"
     ]
    }
   ],
   "source": [
    "timporter = TemplateImporter(template=template,  created_by=created_by)\n",
    "individual_list, cvalidator = timporter.import_phenopackets_from_template()"
   ]
  },
  {
   "cell_type": "code",
   "execution_count": 5,
   "metadata": {},
   "outputs": [
    {
     "data": {
      "text/html": [
       "<h2>Cohort validation</h2>\n",
       "<p>Errors found with 3 of 4 phenopackets.</p>\n",
       "<table style=\"border: 2px solid black; align: \"left\">\n",
       "<caption>Error counts</caption>\n",
       "<tr><th style=\"text-align: left;font-weight: bold;\">Level</th><th style=\"text-align: left;font-weight: bold;\">Error category</th><th style=\"text-align: left;font-weight: bold;\">Count</th></tr>\n",
       "<tr><td style=\"text-align: left;\">WARNING</td><td style=\"text-align: left;\">REDUNDANT</td><td style=\"text-align: left;\">3</td></tr>\n",
       "</table>\n",
       "<p>A total of 3 issues were fixed and no individual was removed from the cohort.</p>"
      ],
      "text/plain": [
       "<IPython.core.display.HTML object>"
      ]
     },
     "metadata": {},
     "output_type": "display_data"
    }
   ],
   "source": [
    "qc = QcVisualizer(cohort_validator=cvalidator)\n",
    "display(HTML(qc.to_summary_html()))"
   ]
  },
  {
   "cell_type": "code",
   "execution_count": 6,
   "metadata": {},
   "outputs": [
    {
     "data": {
      "text/html": [
       "<table style=\"border: 2px solid black; align: \"left\">\n",
       "<caption>4 phenopackets - PMID:28851325 (n=4)</caption>\n",
       "<tr><th style=\"text-align: left;font-weight: bold;\">Individual</th><th style=\"text-align: left;font-weight: bold;\">Disease</th><th style=\"text-align: left;font-weight: bold;\">Genotype</th><th style=\"text-align: left;font-weight: bold;\">Phenotypic features</th></tr>\n",
       "<tr><td style=\"text-align: left;\">Case 1 (FEMALE; P1Y8M)</td><td style=\"text-align: left;\">Rett syndrome, congenital variant (OMIM:613454)</td><td style=\"text-align: left;\">NM_005249.5:c.858dup (heterozygous)</td><td style=\"text-align: left;\"><b>P10M14D</b>: Focal-onset seizure (HP:0007359)<br/>Developmental regression (HP:0002376); Hypoplasia of the corpus callosum (HP:0002079); Delayed speech and language development (HP:0000750); Hypoplasia of the frontal lobes (HP:0007333); Delayed CNS myelination (HP:0002188); Bruxism (HP:0003763); EEG abnormality (HP:0002353); Hypotonia (HP:0001252); Delayed ability to sit (HP:0025336); Delayed ability to walk (HP:0031936); Global developmental delay (HP:0001263); excluded: Feeding difficulties (HP:0011968); excluded: Sleep abnormality (HP:0002360)</td></tr>\n",
       "<tr><td style=\"text-align: left;\">Case 2 (FEMALE; P4Y6M)</td><td style=\"text-align: left;\">Rett syndrome, congenital variant (OMIM:613454)</td><td style=\"text-align: left;\">NM_005249.5:c.694A>T (heterozygous)</td><td style=\"text-align: left;\"><b>P4M</b>: Global developmental delay (HP:0001263)<br/><b>P6M</b>: Focal-onset seizure (HP:0007359)<br/>Hypoplasia of the corpus callosum (HP:0002079); Delayed speech and language development (HP:0000750); Hypoplasia of the frontal lobes (HP:0007333); Bruxism (HP:0003763); EEG abnormality (HP:0002353); Hypotonia (HP:0001252); Delayed ability to sit (HP:0025336); Delayed ability to walk (HP:0031936); Feeding difficulties (HP:0011968); Sleep abnormality (HP:0002360); excluded: Developmental regression (HP:0002376); excluded: Delayed CNS myelination (HP:0002188)</td></tr>\n",
       "<tr><td style=\"text-align: left;\">Case 3 (FEMALE; P1Y7M)</td><td style=\"text-align: left;\">Rett syndrome, congenital variant (OMIM:613454)</td><td style=\"text-align: left;\">NM_005249.5:c.460dup (heterozygous)</td><td style=\"text-align: left;\"><b>P10M</b>: Focal-onset seizure (HP:0007359)<br/>Global developmental delay (HP:0001263); Hypoplasia of the corpus callosum (HP:0002079); Delayed speech and language development (HP:0000750); Hypoplasia of the frontal lobes (HP:0007333); Bruxism (HP:0003763); Hypotonia (HP:0001252); Delayed ability to sit (HP:0025336); Feeding difficulties (HP:0011968); Sleep abnormality (HP:0002360); excluded: Developmental regression (HP:0002376); excluded: Delayed CNS myelination (HP:0002188); excluded: EEG abnormality (HP:0002353)</td></tr>\n",
       "<tr><td style=\"text-align: left;\">Case 4 (FEMALE; P2Y)</td><td style=\"text-align: left;\">Rett syndrome, congenital variant (OMIM:613454)</td><td style=\"text-align: left;\">NM_005249.5:c.974dup (heterozygous)</td><td style=\"text-align: left;\"><b>P10M14D</b>: Focal-onset seizure (HP:0007359)<br/>Hypotonia (HP:0001252); Hypoplasia of the corpus callosum (HP:0002079); Delayed speech and language development (HP:0000750); Hypoplasia of the frontal lobes (HP:0007333); EEG abnormality (HP:0002353); Delayed ability to sit (HP:0025336); Delayed ability to walk (HP:0031936); Motor stereotypy (HP:0000733); Feeding difficulties (HP:0011968); Sleep abnormality (HP:0002360); Global developmental delay (HP:0001263); excluded: Developmental regression (HP:0002376); excluded: Delayed CNS myelination (HP:0002188); excluded: Bruxism (HP:0003763)</td></tr>\n",
       "</table>"
      ],
      "text/plain": [
       "<IPython.core.display.HTML object>"
      ]
     },
     "metadata": {},
     "output_type": "display_data"
    }
   ],
   "source": [
    "table = IndividualTable(cvalidator.get_error_free_individual_list())\n",
    "display(HTML(table.to_html()))"
   ]
  },
  {
   "cell_type": "code",
   "execution_count": 8,
   "metadata": {},
   "outputs": [
    {
     "name": "stdout",
     "output_type": "stream",
     "text": [
      "[pyphetools] Ingested 4 GA4GH phenopackets.\n",
      "\tRett syndrome, congenital variant (OMIM:613454): n=4\n",
      "We found a total of 15 unique HPO terms\n",
      "Extracted disease: Rett syndrome, congenital variant (OMIM:613454)\n",
      "Wrote HPOA disease file to OMIM-613454.tab\n"
     ]
    }
   ],
   "source": [
    "pmid = \"PMID:28851325\"\n",
    "df = timporter.create_hpoa_from_phenopackets(pmid=pmid, moi=\"Autosomal dominant\")"
   ]
  }
 ],
 "metadata": {
  "kernelspec": {
   "display_name": "ps24venv",
   "language": "python",
   "name": "python3"
  },
  "language_info": {
   "codemirror_mode": {
    "name": "ipython",
    "version": 3
   },
   "file_extension": ".py",
   "mimetype": "text/x-python",
   "name": "python",
   "nbconvert_exporter": "python",
   "pygments_lexer": "ipython3",
   "version": "3.9.6"
  }
 },
 "nbformat": 4,
 "nbformat_minor": 2
}
