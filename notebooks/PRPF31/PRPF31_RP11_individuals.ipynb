{
 "cells": [
  {
   "cell_type": "markdown",
   "metadata": {},
   "source": [
    "# PRPF31\n",
    "[retinitis pigmentosa-11 (RP11)](https://omim.org/entry/600138) is caused by heterozygous mutation in the PRPF31 gene"
   ]
  },
  {
   "cell_type": "code",
   "execution_count": 4,
   "metadata": {},
   "outputs": [
    {
     "name": "stdout",
     "output_type": "stream",
     "text": [
      "Using pyphetools version 0.9.78\n"
     ]
    }
   ],
   "source": [
    "from pyphetools.creation import TemplateImporter\n",
    "from pyphetools.visualization import IndividualTable, QcVisualizer\n",
    "from IPython.display import display, HTML\n",
    "import pyphetools\n",
    "print(f\"Using pyphetools version {pyphetools.__version__}\")"
   ]
  },
  {
   "cell_type": "code",
   "execution_count": 6,
   "metadata": {},
   "outputs": [],
   "source": [
    "template = \"input/PRPF31_RP11_individuals.xlsx\"\n",
    "hp_json = \"../hp.json\"\n",
    "created_by = \"0000-0002-0736-9199\""
   ]
  },
  {
   "cell_type": "code",
   "execution_count": 8,
   "metadata": {},
   "outputs": [
    {
     "name": "stdout",
     "output_type": "stream",
     "text": [
      "HPO version 2024-04-04\n",
      "Created encoders for 32 fields\n",
      "Importing OMIM:600138, Retinitis pigmentosa 11, HGNC:15446, PRPF31,  NM_015629.4\n",
      "[INFO] encoding variant \"c.896G>A\"\n",
      "https://rest.variantvalidator.org/VariantValidator/variantvalidator/hg38/NM_015629.4%3Ac.896G>A/NM_015629.4?content-type=application%2Fjson\n",
      "We output 9 GA4GH phenopackets to the directory phenopackets\n"
     ]
    }
   ],
   "source": [
    "timporter = TemplateImporter(template=template, hp_json=hp_json, created_by=created_by)\n",
    "individual_list, cvalidator = timporter.import_phenopackets_from_template()"
   ]
  },
  {
   "cell_type": "code",
   "execution_count": 9,
   "metadata": {},
   "outputs": [
    {
     "data": {
      "text/html": [
       "<h2>Cohort validation</h2>\n",
       "<p>No errors found for the cohort with 9 individuals</p>"
      ],
      "text/plain": [
       "<IPython.core.display.HTML object>"
      ]
     },
     "metadata": {},
     "output_type": "display_data"
    }
   ],
   "source": [
    "qc = QcVisualizer(cohort_validator=cvalidator)\n",
    "display(HTML(qc.to_summary_html()))"
   ]
  },
  {
   "cell_type": "code",
   "execution_count": 10,
   "metadata": {},
   "outputs": [
    {
     "data": {
      "text/html": [
       "<table style=\"border: 2px solid black; align: \"left\">\n",
       "<caption>9 phenopackets - PMID:30099644 (n=9)</caption>\n",
       "<tr><th style=\"text-align: left;font-weight: bold;\">Individual</th><th style=\"text-align: left;font-weight: bold;\">Disease</th><th style=\"text-align: left;font-weight: bold;\">Genotype</th><th style=\"text-align: left;font-weight: bold;\">Phenotypic features</th></tr>\n",
       "<tr><td style=\"text-align: left;\">III:3 (FEMALE; P70Y)</td><td style=\"text-align: left;\">Retinitis pigmentosa 11 (OMIM:600138)</td><td style=\"text-align: left;\">NM_015629.4:c.896G>A (heterozygous)</td><td style=\"text-align: left;\">Cataract (HP:0000518); Reduced visual acuity (HP:0007663); Rod-cone dystrophy (HP:0000510)</td></tr>\n",
       "<tr><td style=\"text-align: left;\">III:7 (MALE; P66Y)</td><td style=\"text-align: left;\">Retinitis pigmentosa 11 (OMIM:600138)</td><td style=\"text-align: left;\">NM_015629.4:c.896G>A (heterozygous)</td><td style=\"text-align: left;\">Cataract (HP:0000518); Nyctalopia (HP:0000662); Constriction of peripheral visual field (HP:0001133); Reduced visual acuity (HP:0007663); Rod-cone dystrophy (HP:0000510); Bone spicule pigmentation of the retina (HP:0007737); Optic disc pallor (HP:0000543); Choroideremia (HP:0001139); excluded: Attenuation of retinal blood vessels (HP:0007843)</td></tr>\n",
       "<tr><td style=\"text-align: left;\">III:9 (MALE; P65Y)</td><td style=\"text-align: left;\">Retinitis pigmentosa 11 (OMIM:600138)</td><td style=\"text-align: left;\">NM_015629.4:c.896G>A (heterozygous)</td><td style=\"text-align: left;\">Cataract (HP:0000518); Nyctalopia (HP:0000662); Constriction of peripheral visual field (HP:0001133); Reduced visual acuity (HP:0007663); Rod-cone dystrophy (HP:0000510); Bone spicule pigmentation of the retina (HP:0007737); Optic disc pallor (HP:0000543); Choroideremia (HP:0001139); Attenuation of retinal blood vessels (HP:0007843)</td></tr>\n",
       "<tr><td style=\"text-align: left;\">IV:3 (MALE; P35Y)</td><td style=\"text-align: left;\">Retinitis pigmentosa 11 (OMIM:600138)</td><td style=\"text-align: left;\">NM_015629.4:c.896G>A (heterozygous)</td><td style=\"text-align: left;\">Nyctalopia (HP:0000662); Reduced visual acuity (HP:0007663); Rod-cone dystrophy (HP:0000510); Bone spicule pigmentation of the retina (HP:0007737); Optic disc pallor (HP:0000543); Attenuation of retinal blood vessels (HP:0007843); Abnormal electroretinogram (HP:0000512); excluded: Cataract (HP:0000518); excluded: Choroideremia (HP:0001139)</td></tr>\n",
       "<tr><td style=\"text-align: left;\">IV: 7 (FEMALE; P42Y)</td><td style=\"text-align: left;\">Retinitis pigmentosa 11 (OMIM:600138)</td><td style=\"text-align: left;\">NM_015629.4:c.896G>A (heterozygous)</td><td style=\"text-align: left;\">Cataract (HP:0000518); Nyctalopia (HP:0000662); Reduced visual acuity (HP:0007663); Rod-cone dystrophy (HP:0000510); Bone spicule pigmentation of the retina (HP:0007737); Optic disc pallor (HP:0000543); Attenuation of retinal blood vessels (HP:0007843); excluded: Choroideremia (HP:0001139)</td></tr>\n",
       "<tr><td style=\"text-align: left;\">IV:11 (FEMALE; P26Y)</td><td style=\"text-align: left;\">Retinitis pigmentosa 11 (OMIM:600138)</td><td style=\"text-align: left;\">NM_015629.4:c.896G>A (heterozygous)</td><td style=\"text-align: left;\">Reduced visual acuity (HP:0007663); Retinal pigment epithelial mottling (HP:0007814); Abnormal electroretinogram (HP:0000512); excluded: Nyctalopia (HP:0000662); excluded: Bone spicule pigmentation of the retina (HP:0007737); excluded: Optic disc pallor (HP:0000543); excluded: Choroideremia (HP:0001139); excluded: Attenuation of retinal blood vessels (HP:0007843)</td></tr>\n",
       "<tr><td style=\"text-align: left;\">IV:12 (MALE; P35Y)</td><td style=\"text-align: left;\">Retinitis pigmentosa 11 (OMIM:600138)</td><td style=\"text-align: left;\">NM_015629.4:c.896G>A (heterozygous)</td><td style=\"text-align: left;\">Abnormal electroretinogram (HP:0000512); excluded: Reduced visual acuity (HP:0007663); excluded: Nyctalopia (HP:0000662); excluded: Bone spicule pigmentation of the retina (HP:0007737); excluded: Optic disc pallor (HP:0000543); excluded: Choroideremia (HP:0001139); excluded: Attenuation of retinal blood vessels (HP:0007843)</td></tr>\n",
       "<tr><td style=\"text-align: left;\">IV:19 (MALE; P8Y)</td><td style=\"text-align: left;\">Retinitis pigmentosa 11 (OMIM:600138)</td><td style=\"text-align: left;\">NM_015629.4:c.896G>A (heterozygous)</td><td style=\"text-align: left;\">Nyctalopia (HP:0000662); Reduced visual acuity (HP:0007663); Rod-cone dystrophy (HP:0000510); Bone spicule pigmentation of the retina (HP:0007737); Optic disc pallor (HP:0000543); Attenuation of retinal blood vessels (HP:0007843); excluded: Choroideremia (HP:0001139)</td></tr>\n",
       "<tr><td style=\"text-align: left;\">V:9 (FEMALE; P18Y)</td><td style=\"text-align: left;\">Retinitis pigmentosa 11 (OMIM:600138)</td><td style=\"text-align: left;\">NM_015629.4:c.896G>A (heterozygous)</td><td style=\"text-align: left;\">Nyctalopia (HP:0000662); Reduced visual acuity (HP:0007663); Rod-cone dystrophy (HP:0000510); Bone spicule pigmentation of the retina (HP:0007737); Optic disc pallor (HP:0000543); Attenuation of retinal blood vessels (HP:0007843); excluded: Choroideremia (HP:0001139)</td></tr>\n",
       "</table>"
      ],
      "text/plain": [
       "<IPython.core.display.HTML object>"
      ]
     },
     "metadata": {},
     "output_type": "display_data"
    }
   ],
   "source": [
    "table = IndividualTable(cvalidator.get_error_free_individual_list())\n",
    "display(HTML(table.to_html()))"
   ]
  }
 ],
 "metadata": {
  "kernelspec": {
   "display_name": "ps24venv",
   "language": "python",
   "name": "python3"
  },
  "language_info": {
   "codemirror_mode": {
    "name": "ipython",
    "version": 3
   },
   "file_extension": ".py",
   "mimetype": "text/x-python",
   "name": "python",
   "nbconvert_exporter": "python",
   "pygments_lexer": "ipython3",
   "version": "3.9.6"
  }
 },
 "nbformat": 4,
 "nbformat_minor": 2
}
