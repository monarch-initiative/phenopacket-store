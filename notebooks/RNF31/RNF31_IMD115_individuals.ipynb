{
 "cells": [
  {
   "cell_type": "markdown",
   "id": "d5b08ba0-de3c-46bb-b19d-31d3c96d0009",
   "metadata": {},
   "source": [
    "# RNF31\n",
    "[Immunodeficiency-115 with autoinflammation (IMD115)](https://omim.org/entry/620632) is caused by homozygous or compound heterozygous mutation in the RNF31 gene."
   ]
  },
  {
   "cell_type": "code",
   "execution_count": 5,
   "id": "3607c29c-bdd1-4891-be91-dcef79d00a52",
   "metadata": {},
   "outputs": [
    {
     "name": "stdout",
     "output_type": "stream",
     "text": [
      "Using pyphetools version 0.9.72\n"
     ]
    }
   ],
   "source": [
    "from pyphetools.creation import TemplateImporter\n",
    "from pyphetools.visualization import IndividualTable, QcVisualizer\n",
    "from IPython.display import display, HTML\n",
    "import pyphetools\n",
    "print(f\"Using pyphetools version {pyphetools.__version__}\")"
   ]
  },
  {
   "cell_type": "code",
   "execution_count": 6,
   "id": "c2a05f95-bab2-49fc-b1b3-2396bb023014",
   "metadata": {},
   "outputs": [],
   "source": [
    "template = \"input/RNF31_individuals.xlsx\"\n",
    "hp_json = \"../hp.json\"\n",
    "created_by = \"0000-0002-0736-9199\""
   ]
  },
  {
   "cell_type": "code",
   "execution_count": 8,
   "id": "5921d115-1da1-4502-a1e3-615875e9d71d",
   "metadata": {},
   "outputs": [
    {
     "name": "stdout",
     "output_type": "stream",
     "text": [
      "HPO version 2024-03-06\n",
      "Created encoders for 48 fields\n",
      "Importing OMIM:620632, Immunodeficiency 115 with autoinflammation, HGNC:16031, RNF31,  NM_017999.5\n",
      "[INFO] encoding variant \"c.1197G>C\"\n",
      "https://rest.variantvalidator.org/VariantValidator/variantvalidator/hg38/NM_017999.5%3Ac.1197G>C/NM_017999.5?content-type=application%2Fjson\n",
      "[INFO] encoding variant \"c.215T>C\"\n",
      "https://rest.variantvalidator.org/VariantValidator/variantvalidator/hg38/NM_017999.5%3Ac.215T>C/NM_017999.5?content-type=application%2Fjson\n",
      "[INFO] encoding variant \"c.1737+3A>G\"\n",
      "https://rest.variantvalidator.org/VariantValidator/variantvalidator/hg38/NM_017999.5%3Ac.1737+3A>G/NM_017999.5?content-type=application%2Fjson\n",
      "We output 2 GA4GH phenopackets to the directory phenopackets\n"
     ]
    }
   ],
   "source": [
    "timporter = TemplateImporter(template=template, hp_json=hp_json, created_by=created_by)\n",
    "individual_list, cvalidator = timporter.import_phenopackets_from_template()"
   ]
  },
  {
   "cell_type": "code",
   "execution_count": 9,
   "id": "72b5b686-4a7c-4cc0-a864-bd3e4bbd53b6",
   "metadata": {},
   "outputs": [
    {
     "data": {
      "text/html": [
       "<h2>Cohort validation</h2>\n",
       "<p>Errors found with 2 of 2 phenopackets.</p>\n",
       "<table style=\"border: 2px solid black; align: \"left\">\n",
       "<caption>Error counts</caption>\n",
       "<tr><th style=\"text-align: left;font-weight: bold;\">Level</th><th style=\"text-align: left;font-weight: bold;\">Error category</th><th style=\"text-align: left;font-weight: bold;\">Count</th></tr>\n",
       "<tr><td style=\"text-align: left;\">WARNING</td><td style=\"text-align: left;\">REDUNDANT</td><td style=\"text-align: left;\">2</td></tr>\n",
       "</table>\n",
       "<p>A total of 2 issues were fixed and no individual was removed from the cohort.</p>"
      ],
      "text/plain": [
       "<IPython.core.display.HTML object>"
      ]
     },
     "metadata": {},
     "output_type": "display_data"
    }
   ],
   "source": [
    "qc = QcVisualizer(cohort_validator=cvalidator)\n",
    "display(HTML(qc.to_summary_html()))"
   ]
  },
  {
   "cell_type": "code",
   "execution_count": 10,
   "id": "42771da1-a8f6-42df-9295-5db25b17c573",
   "metadata": {},
   "outputs": [
    {
     "data": {
      "text/html": [
       "<table style=\"border: 2px solid black; align: \"left\">\n",
       "<caption>2 phenopackets - PMID:26008899 (n=1); PMID:30936877 (n=1)</caption>\n",
       "<tr><th style=\"text-align: left;font-weight: bold;\">Individual</th><th style=\"text-align: left;font-weight: bold;\">Disease</th><th style=\"text-align: left;font-weight: bold;\">Genotype</th><th style=\"text-align: left;font-weight: bold;\">Phenotypic features</th></tr>\n",
       "<tr><td style=\"text-align: left;\">patient (FEMALE; P19Y)</td><td style=\"text-align: left;\">Immunodeficiency 115 with autoinflammation (OMIM:620632)</td><td style=\"text-align: left;\">NM_017999.5:c.215T>C (homozygous)</td><td style=\"text-align: left;\"><b>P9Y</b>: Decreased circulating IgG level (HP:0004315); Reduced antigen-specific T cell proliferation (HP:0031402); T lymphocytopenia (HP:0005403); Partial absence of specific antibody response to Haemophilus influenzae type b (Hib) vaccine (HP:0410305); Hypoalbuminemia (HP:0003073)<br/><b>P16Y</b>: Intestinal lymphangiectasia (HP:0002593)<br/><b>P17Y</b>: Lower limb muscle weakness (HP:0007340); Skeletal muscle atrophy (HP:0003202); Fatty replacement of skeletal muscle (HP:0012548)<br/>Splenomegaly (HP:0001744); Neonatal omphalitis (HP:0032435); Recurrent fever (HP:0001954); Anemia (HP:0001903); Partial absence of specific antibody response to unconjugated pneumococcus vaccine (HP:0410301); Immunodeficiency (HP:0002721); Verrucae (HP:0200043); Elevated haptoglobin level (HP:0020180); Elevated circulating C-reactive protein concentration (HP:0011227); Elevated erythrocyte sedimentation rate (HP:0003565); Candida esophagitis (HP:0033351); Intermittent diarrhea (HP:0002254); Postnatal growth retardation (HP:0008897); Decreased proportion of memory T cells (HP:0032183); excluded: Global developmental delay (HP:0001263); excluded: Eczematoid dermatitis (HP:0000964); excluded: Abnormal circulating creatine kinase concentration (HP:0040081); excluded: Clubbing (HP:0001217)</td></tr>\n",
       "<tr><td style=\"text-align: left;\">8-year-old girl (FEMALE; P8Y)</td><td style=\"text-align: left;\">Immunodeficiency 115 with autoinflammation (OMIM:620632)</td><td style=\"text-align: left;\"><ul> <li>NM_017999.5:c.1197G>C (heterozygous)</li> <li>NM_017999.5:c.1737+3A>G (heterozygous)</li> </ul></td><td style=\"text-align: left;\">Global developmental delay (HP:0001263); Recurrent fever (HP:0001954); Recurrent bacterial infections (HP:0002718); Recurrent viral infections (HP:0004429); Eczematoid dermatitis (HP:0000964); Splenomegaly (HP:0001744); Reduced antigen-specific T cell proliferation (HP:0031402); Partial absence of specific antibody response to unconjugated pneumococcus vaccine (HP:0410301); Immunodeficiency (HP:0002721); Clubbing (HP:0001217); Superficial dermal perivascular inflammatory infiltrate (HP:0031190); Decreased proportion of memory T cells (HP:0032183); excluded: Intestinal lymphangiectasia (HP:0002593); excluded: Anemia (HP:0001903); excluded: Decreased circulating IgG level (HP:0004315); excluded: T lymphocytopenia (HP:0005403); excluded: Verrucae (HP:0200043); excluded: Candida esophagitis (HP:0033351); excluded: Neonatal omphalitis (HP:0032435); excluded: Postnatal growth retardation (HP:0008897); excluded: Lower limb muscle weakness (HP:0007340); excluded: Skeletal muscle atrophy (HP:0003202); excluded: Abnormal circulating creatine kinase concentration (HP:0040081)</td></tr>\n",
       "</table>"
      ],
      "text/plain": [
       "<IPython.core.display.HTML object>"
      ]
     },
     "metadata": {},
     "output_type": "display_data"
    }
   ],
   "source": [
    "table = IndividualTable(cvalidator.get_error_free_individual_list())\n",
    "display(HTML(table.to_html()))"
   ]
  },
  {
   "cell_type": "code",
   "execution_count": 11,
   "id": "5fcb8976-4a20-439a-8729-37efc126ca23",
   "metadata": {},
   "outputs": [
    {
     "name": "stdout",
     "output_type": "stream",
     "text": [
      "[pyphetools] Ingested 2 GA4GH phenopackets.\n",
      "\tImmunodeficiency 115 with autoinflammation (OMIM:620632): n=2\n",
      "We found a total of 30 unique HPO terms\n",
      "Extracted disease: Immunodeficiency 115 with autoinflammation (OMIM:620632)\n",
      "Wrote HPOA disease file to OMIM-620632.tab\n"
     ]
    }
   ],
   "source": [
    "pmid = \"PMID:26008899\"\n",
    "df = timporter.create_hpoa_from_phenopackets(pmid=pmid, moi=\"Autosomal recessive\")"
   ]
  },
  {
   "cell_type": "code",
   "execution_count": null,
   "id": "ca075053-278f-4c41-b8b2-f9f9b957eee4",
   "metadata": {},
   "outputs": [],
   "source": []
  }
 ],
 "metadata": {
  "kernelspec": {
   "display_name": "Python 3 (ipykernel)",
   "language": "python",
   "name": "python3"
  },
  "language_info": {
   "codemirror_mode": {
    "name": "ipython",
    "version": 3
   },
   "file_extension": ".py",
   "mimetype": "text/x-python",
   "name": "python",
   "nbconvert_exporter": "python",
   "pygments_lexer": "ipython3",
   "version": "3.8.10"
  }
 },
 "nbformat": 4,
 "nbformat_minor": 5
}
