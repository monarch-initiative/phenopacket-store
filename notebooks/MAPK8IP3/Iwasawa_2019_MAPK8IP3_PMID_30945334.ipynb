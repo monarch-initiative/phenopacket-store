{
 "cells": [
  {
   "cell_type": "markdown",
   "id": "cda4ac6d-6c72-463c-a23d-85416519c952",
   "metadata": {},
   "source": [
    "<H1>MAPK8IP3:  Iwasawa et al (2019)</H1>\n",
    "<p>This notebook uses the <a href=\"https://github.com/monarch-initiative/pyphetools\" target=\"__blank\">pyphetools</a> library\n",
    "to create GA4GH phenopackets from the data in  \n",
    "<a href=\"https://pubmed.ncbi.nlm.nih.gov/30945334/\" target=\"__blank\">Iwasawa S, et al. (2019) Recurrent de novo MAPK8IP3 variants cause neurological phenotypes. Ann Neurol. 85:927-933</a>. See the <a href=\"https://monarch-initiative.github.io/pyphetools/index.html\" target=\"__blank\">Pyphetools documentation</a> for more information about the code.</p>\n",
    "<p>The original article describes dentified 5 individuals from four families with recurrent de novo variants in MAPK8IP3. </p>\n",
    "<p>This notebook parses the information in the Supplemental Table (an Excel file).</p>"
   ]
  },
  {
   "cell_type": "code",
   "execution_count": 1,
   "id": "0fc429ac-b485-4098-b9a5-b6c95085e68a",
   "metadata": {},
   "outputs": [
    {
     "name": "stdout",
     "output_type": "stream",
     "text": [
      "Using pyphetools version 0.9.65\n"
     ]
    }
   ],
   "source": [
    "import pandas as pd\n",
    "pd.set_option('display.max_colwidth', None) # show entire column contents, important!\n",
    "from IPython.display import display, HTML\n",
    "from pyphetools.creation import *\n",
    "from pyphetools.visualization import *\n",
    "from pyphetools.validation import *\n",
    "import pyphetools\n",
    "print(f\"Using pyphetools version {pyphetools.__version__}\")"
   ]
  },
  {
   "cell_type": "markdown",
   "id": "e9aed497-7281-4823-8643-fb4987d5fd48",
   "metadata": {},
   "source": [
    "<h2>Importing HPO data</h2>"
   ]
  },
  {
   "cell_type": "code",
   "execution_count": 2,
   "id": "15f56d1e-55c8-450c-9384-44159ad71994",
   "metadata": {},
   "outputs": [
    {
     "name": "stdout",
     "output_type": "stream",
     "text": [
      "HPO version 2024-03-06\n"
     ]
    }
   ],
   "source": [
    "PMID=\"PMID:30945334\"\n",
    "title = \"Recurrent de novo MAPK8IP3 variants cause neurological phenotypes\"\n",
    "cite = Citation(pmid=PMID, title=title)\n",
    "parser = HpoParser(hpo_json_file=\"../hp.json\")\n",
    "hpo_cr = parser.get_hpo_concept_recognizer()\n",
    "hpo_version = parser.get_version()\n",
    "hpo_ontology = parser.get_ontology()\n",
    "metadata = MetaData(created_by=\"ORCID:0000-0002-0736-9199\", citation=cite)\n",
    "metadata.default_versions_with_hpo(version=hpo_version)\n",
    "print(f\"HPO version {hpo_version}\")"
   ]
  },
  {
   "cell_type": "markdown",
   "id": "1c6ed601-3f01-4030-a45d-bd991f41cb2d",
   "metadata": {},
   "source": [
    "<H2>Importing the supplemental file.</H2>"
   ]
  },
  {
   "cell_type": "code",
   "execution_count": 3,
   "id": "87858a0d-cfdf-4c3c-a7fa-1e2ab1820b23",
   "metadata": {},
   "outputs": [
    {
     "data": {
      "text/html": [
       "<div>\n",
       "<style scoped>\n",
       "    .dataframe tbody tr th:only-of-type {\n",
       "        vertical-align: middle;\n",
       "    }\n",
       "\n",
       "    .dataframe tbody tr th {\n",
       "        vertical-align: top;\n",
       "    }\n",
       "\n",
       "    .dataframe thead th {\n",
       "        text-align: right;\n",
       "    }\n",
       "</style>\n",
       "<table border=\"1\" class=\"dataframe\">\n",
       "  <thead>\n",
       "    <tr style=\"text-align: right;\">\n",
       "      <th></th>\n",
       "      <th>identifier</th>\n",
       "      <th>Individual 1</th>\n",
       "      <th>Individual 2</th>\n",
       "      <th>Individual 3</th>\n",
       "      <th>Individual 4</th>\n",
       "      <th>Individual 5</th>\n",
       "    </tr>\n",
       "  </thead>\n",
       "  <tbody>\n",
       "    <tr>\n",
       "      <th>0</th>\n",
       "      <td>Variant (hg19, NM_015133.4)</td>\n",
       "      <td>c.1732C&gt;T</td>\n",
       "      <td>c.1732C&gt;T</td>\n",
       "      <td>c.1732C&gt;T</td>\n",
       "      <td>c.3436C&gt;T</td>\n",
       "      <td>c.3436C&gt;T</td>\n",
       "    </tr>\n",
       "    <tr>\n",
       "      <th>1</th>\n",
       "      <td>Protein variant</td>\n",
       "      <td>(p.Arg578Cys)</td>\n",
       "      <td>(p.Arg578Cys)</td>\n",
       "      <td>(p.Arg578Cys)</td>\n",
       "      <td>(p.Arg1146Cys)</td>\n",
       "      <td>(p.Arg1146Cys)</td>\n",
       "    </tr>\n",
       "    <tr>\n",
       "      <th>2</th>\n",
       "      <td>Age (yr)</td>\n",
       "      <td>29</td>\n",
       "      <td>27</td>\n",
       "      <td>16</td>\n",
       "      <td>5</td>\n",
       "      <td>5</td>\n",
       "    </tr>\n",
       "    <tr>\n",
       "      <th>3</th>\n",
       "      <td>Onset</td>\n",
       "      <td>Infantile onset</td>\n",
       "      <td>Infantile onset</td>\n",
       "      <td>Infantile onset</td>\n",
       "      <td>Infantile onset</td>\n",
       "      <td>Infantile onset</td>\n",
       "    </tr>\n",
       "    <tr>\n",
       "      <th>4</th>\n",
       "      <td>Sex</td>\n",
       "      <td>Male</td>\n",
       "      <td>Female</td>\n",
       "      <td>Male</td>\n",
       "      <td>Male</td>\n",
       "      <td>Female</td>\n",
       "    </tr>\n",
       "  </tbody>\n",
       "</table>\n",
       "</div>"
      ],
      "text/plain": [
       "                    identifier     Individual 1     Individual 2  \\\n",
       "0  Variant (hg19, NM_015133.4)        c.1732C>T        c.1732C>T   \n",
       "1              Protein variant    (p.Arg578Cys)    (p.Arg578Cys)   \n",
       "2                     Age (yr)               29               27   \n",
       "3                        Onset  Infantile onset  Infantile onset   \n",
       "4                          Sex             Male           Female   \n",
       "\n",
       "      Individual 3     Individual 4     Individual 5  \n",
       "0        c.1732C>T        c.3436C>T        c.3436C>T  \n",
       "1    (p.Arg578Cys)   (p.Arg1146Cys)   (p.Arg1146Cys)  \n",
       "2               16                5                5  \n",
       "3  Infantile onset  Infantile onset  Infantile onset  \n",
       "4             Male             Male           Female  "
      ]
     },
     "execution_count": 3,
     "metadata": {},
     "output_type": "execute_result"
    }
   ],
   "source": [
    "df = pd.read_excel('input/PMID_30945334.xlsx')\n",
    "df.head()"
   ]
  },
  {
   "cell_type": "markdown",
   "id": "d548990e-3efe-448a-8852-1f74d24359da",
   "metadata": {},
   "source": [
    "<h2>Converting to row-based format</h2>"
   ]
  },
  {
   "cell_type": "code",
   "execution_count": 4,
   "id": "f624a5a3-a5d8-4427-b9ea-5ebb92b915e2",
   "metadata": {},
   "outputs": [
    {
     "data": {
      "text/html": [
       "<div>\n",
       "<style scoped>\n",
       "    .dataframe tbody tr th:only-of-type {\n",
       "        vertical-align: middle;\n",
       "    }\n",
       "\n",
       "    .dataframe tbody tr th {\n",
       "        vertical-align: top;\n",
       "    }\n",
       "\n",
       "    .dataframe thead th {\n",
       "        text-align: right;\n",
       "    }\n",
       "</style>\n",
       "<table border=\"1\" class=\"dataframe\">\n",
       "  <thead>\n",
       "    <tr style=\"text-align: right;\">\n",
       "      <th>identifier</th>\n",
       "      <th>Variant (hg19, NM_015133.4)</th>\n",
       "      <th>Protein variant</th>\n",
       "      <th>Age (yr)</th>\n",
       "      <th>Onset</th>\n",
       "      <th>Sex</th>\n",
       "      <th>Gestational ages (weeks)</th>\n",
       "      <th>Delayed motor development</th>\n",
       "      <th>Age at head control (months)</th>\n",
       "      <th>Age at rolling (months)</th>\n",
       "      <th>Age at unsupported sitting (months)</th>\n",
       "      <th>...</th>\n",
       "      <th>Corpus callosum hypoplasia</th>\n",
       "      <th>Facial dysmorphism</th>\n",
       "      <th>Round face</th>\n",
       "      <th>Prominent nasal bridge</th>\n",
       "      <th>Thin upper lip</th>\n",
       "      <th>Others</th>\n",
       "      <th>Short stature</th>\n",
       "      <th>Obesity</th>\n",
       "      <th>Precocious puberty</th>\n",
       "      <th>individual_id</th>\n",
       "    </tr>\n",
       "  </thead>\n",
       "  <tbody>\n",
       "    <tr>\n",
       "      <th>Individual 1</th>\n",
       "      <td>c.1732C&gt;T</td>\n",
       "      <td>(p.Arg578Cys)</td>\n",
       "      <td>29</td>\n",
       "      <td>Infantile onset</td>\n",
       "      <td>Male</td>\n",
       "      <td>39</td>\n",
       "      <td>+</td>\n",
       "      <td>2.5</td>\n",
       "      <td>ND</td>\n",
       "      <td>7</td>\n",
       "      <td>...</td>\n",
       "      <td>++</td>\n",
       "      <td>NaN</td>\n",
       "      <td>+</td>\n",
       "      <td>−</td>\n",
       "      <td>+</td>\n",
       "      <td>NaN</td>\n",
       "      <td>+</td>\n",
       "      <td>+</td>\n",
       "      <td>+</td>\n",
       "      <td>Individual 1</td>\n",
       "    </tr>\n",
       "    <tr>\n",
       "      <th>Individual 2</th>\n",
       "      <td>c.1732C&gt;T</td>\n",
       "      <td>(p.Arg578Cys)</td>\n",
       "      <td>27</td>\n",
       "      <td>Infantile onset</td>\n",
       "      <td>Female</td>\n",
       "      <td>40</td>\n",
       "      <td>+</td>\n",
       "      <td>3.5</td>\n",
       "      <td>11</td>\n",
       "      <td>6</td>\n",
       "      <td>...</td>\n",
       "      <td>++</td>\n",
       "      <td>NaN</td>\n",
       "      <td>+</td>\n",
       "      <td>−</td>\n",
       "      <td>+</td>\n",
       "      <td>NaN</td>\n",
       "      <td>+</td>\n",
       "      <td>+</td>\n",
       "      <td>+</td>\n",
       "      <td>Individual 2</td>\n",
       "    </tr>\n",
       "    <tr>\n",
       "      <th>Individual 3</th>\n",
       "      <td>c.1732C&gt;T</td>\n",
       "      <td>(p.Arg578Cys)</td>\n",
       "      <td>16</td>\n",
       "      <td>Infantile onset</td>\n",
       "      <td>Male</td>\n",
       "      <td>40</td>\n",
       "      <td>+</td>\n",
       "      <td>4</td>\n",
       "      <td>6</td>\n",
       "      <td>Not acquired</td>\n",
       "      <td>...</td>\n",
       "      <td>++</td>\n",
       "      <td>NaN</td>\n",
       "      <td>−</td>\n",
       "      <td>+</td>\n",
       "      <td>+</td>\n",
       "      <td>NaN</td>\n",
       "      <td>+</td>\n",
       "      <td>+</td>\n",
       "      <td>ND</td>\n",
       "      <td>Individual 3</td>\n",
       "    </tr>\n",
       "    <tr>\n",
       "      <th>Individual 4</th>\n",
       "      <td>c.3436C&gt;T</td>\n",
       "      <td>(p.Arg1146Cys)</td>\n",
       "      <td>5</td>\n",
       "      <td>Infantile onset</td>\n",
       "      <td>Male</td>\n",
       "      <td>36</td>\n",
       "      <td>+</td>\n",
       "      <td>5</td>\n",
       "      <td>7</td>\n",
       "      <td>15</td>\n",
       "      <td>...</td>\n",
       "      <td>++</td>\n",
       "      <td>NaN</td>\n",
       "      <td>+</td>\n",
       "      <td>+</td>\n",
       "      <td>+</td>\n",
       "      <td>NaN</td>\n",
       "      <td>+</td>\n",
       "      <td>−</td>\n",
       "      <td>−</td>\n",
       "      <td>Individual 4</td>\n",
       "    </tr>\n",
       "    <tr>\n",
       "      <th>Individual 5</th>\n",
       "      <td>c.3436C&gt;T</td>\n",
       "      <td>(p.Arg1146Cys)</td>\n",
       "      <td>5</td>\n",
       "      <td>Infantile onset</td>\n",
       "      <td>Female</td>\n",
       "      <td>41</td>\n",
       "      <td>+</td>\n",
       "      <td>5</td>\n",
       "      <td>6</td>\n",
       "      <td>11</td>\n",
       "      <td>...</td>\n",
       "      <td>++</td>\n",
       "      <td>NaN</td>\n",
       "      <td>+</td>\n",
       "      <td>+</td>\n",
       "      <td>+</td>\n",
       "      <td>Long and thick eyebrows, upper slanted palpebral fissures, anteverted nares, short philtrum</td>\n",
       "      <td>−</td>\n",
       "      <td>−</td>\n",
       "      <td>−</td>\n",
       "      <td>Individual 5</td>\n",
       "    </tr>\n",
       "  </tbody>\n",
       "</table>\n",
       "<p>5 rows × 35 columns</p>\n",
       "</div>"
      ],
      "text/plain": [
       "identifier   Variant (hg19, NM_015133.4) Protein variant Age (yr)  \\\n",
       "Individual 1                   c.1732C>T   (p.Arg578Cys)       29   \n",
       "Individual 2                   c.1732C>T   (p.Arg578Cys)       27   \n",
       "Individual 3                   c.1732C>T   (p.Arg578Cys)       16   \n",
       "Individual 4                   c.3436C>T  (p.Arg1146Cys)        5   \n",
       "Individual 5                   c.3436C>T  (p.Arg1146Cys)        5   \n",
       "\n",
       "identifier              Onset     Sex Gestational ages (weeks)  \\\n",
       "Individual 1  Infantile onset    Male                       39   \n",
       "Individual 2  Infantile onset  Female                       40   \n",
       "Individual 3  Infantile onset    Male                       40   \n",
       "Individual 4  Infantile onset    Male                       36   \n",
       "Individual 5  Infantile onset  Female                       41   \n",
       "\n",
       "identifier   Delayed motor development Age at head control (months)  \\\n",
       "Individual 1                         +                          2.5   \n",
       "Individual 2                         +                          3.5   \n",
       "Individual 3                         +                            4   \n",
       "Individual 4                         +                            5   \n",
       "Individual 5                         +                            5   \n",
       "\n",
       "identifier   Age at rolling (months) Age at unsupported sitting (months)  ...  \\\n",
       "Individual 1                      ND                                   7  ...   \n",
       "Individual 2                      11                                   6  ...   \n",
       "Individual 3                       6                        Not acquired  ...   \n",
       "Individual 4                       7                                  15  ...   \n",
       "Individual 5                       6                                  11  ...   \n",
       "\n",
       "identifier   Corpus callosum hypoplasia Facial dysmorphism Round face  \\\n",
       "Individual 1                         ++                NaN          +   \n",
       "Individual 2                         ++                NaN          +   \n",
       "Individual 3                         ++                NaN          −   \n",
       "Individual 4                         ++                NaN          +   \n",
       "Individual 5                         ++                NaN          +   \n",
       "\n",
       "identifier   Prominent nasal bridge Thin upper lip  \\\n",
       "Individual 1                      −              +   \n",
       "Individual 2                      −              +   \n",
       "Individual 3                      +              +   \n",
       "Individual 4                      +              +   \n",
       "Individual 5                      +              +   \n",
       "\n",
       "identifier                                                                                         Others  \\\n",
       "Individual 1                                                                                          NaN   \n",
       "Individual 2                                                                                          NaN   \n",
       "Individual 3                                                                                          NaN   \n",
       "Individual 4                                                                                          NaN   \n",
       "Individual 5  Long and thick eyebrows, upper slanted palpebral fissures, anteverted nares, short philtrum   \n",
       "\n",
       "identifier   Short stature Obesity Precocious puberty individual_id  \n",
       "Individual 1             +       +                  +  Individual 1  \n",
       "Individual 2             +       +                  +  Individual 2  \n",
       "Individual 3             +       +                 ND  Individual 3  \n",
       "Individual 4             +       −                  −  Individual 4  \n",
       "Individual 5             −       −                  −  Individual 5  \n",
       "\n",
       "[5 rows x 35 columns]"
      ]
     },
     "execution_count": 4,
     "metadata": {},
     "output_type": "execute_result"
    }
   ],
   "source": [
    "dft = df.transpose()\n",
    "dft.columns = dft.iloc[0]\n",
    "dft.drop(dft.index[0], inplace=True)\n",
    "dft['individual_id'] = dft.index\n",
    "dft.head()"
   ]
  },
  {
   "cell_type": "markdown",
   "id": "95e5fd83-8114-4c84-8d43-abf56f579ba4",
   "metadata": {},
   "source": [
    "## Column mappers"
   ]
  },
  {
   "cell_type": "code",
   "execution_count": 5,
   "id": "85176968-a6d2-4000-a768-ff9e6fdcf56e",
   "metadata": {},
   "outputs": [],
   "source": [
    "column_mapper_list = list()"
   ]
  },
  {
   "cell_type": "code",
   "execution_count": 6,
   "id": "6297f5eb-e924-4bb9-a431-ed020af5d787",
   "metadata": {},
   "outputs": [
    {
     "data": {
      "text/html": [
       "<div>\n",
       "<style scoped>\n",
       "    .dataframe tbody tr th:only-of-type {\n",
       "        vertical-align: middle;\n",
       "    }\n",
       "\n",
       "    .dataframe tbody tr th {\n",
       "        vertical-align: top;\n",
       "    }\n",
       "\n",
       "    .dataframe thead th {\n",
       "        text-align: right;\n",
       "    }\n",
       "</style>\n",
       "<table border=\"1\" class=\"dataframe\">\n",
       "  <thead>\n",
       "    <tr style=\"text-align: right;\">\n",
       "      <th></th>\n",
       "      <th>mapping</th>\n",
       "      <th>count</th>\n",
       "    </tr>\n",
       "  </thead>\n",
       "  <tbody>\n",
       "    <tr>\n",
       "      <th>0</th>\n",
       "      <td>original value: \"+\" -&gt; HP: Motor delay (HP:0001270) (observed)</td>\n",
       "      <td>5</td>\n",
       "    </tr>\n",
       "  </tbody>\n",
       "</table>\n",
       "</div>"
      ],
      "text/plain": [
       "                                                          mapping count\n",
       "0  original value: \"+\" -> HP: Motor delay (HP:0001270) (observed)     5"
      ]
     },
     "execution_count": 6,
     "metadata": {},
     "output_type": "execute_result"
    }
   ],
   "source": [
    "delayedMotorMapper = SimpleColumnMapper(column_name='Delayed motor development',\n",
    "                                        hpo_id='HP:0001270', hpo_label='Motor delay', observed='+',excluded='-')\n",
    "column_mapper_list.append(delayedMotorMapper)\n",
    "delayedMotorMapper.preview_column(dft)"
   ]
  },
  {
   "cell_type": "code",
   "execution_count": 7,
   "id": "1cbdd929-52c2-4171-9c7f-2987c1b14888",
   "metadata": {},
   "outputs": [
    {
     "data": {
      "text/html": [
       "<div>\n",
       "<style scoped>\n",
       "    .dataframe tbody tr th:only-of-type {\n",
       "        vertical-align: middle;\n",
       "    }\n",
       "\n",
       "    .dataframe tbody tr th {\n",
       "        vertical-align: top;\n",
       "    }\n",
       "\n",
       "    .dataframe thead th {\n",
       "        text-align: right;\n",
       "    }\n",
       "</style>\n",
       "<table border=\"1\" class=\"dataframe\">\n",
       "  <thead>\n",
       "    <tr style=\"text-align: right;\">\n",
       "      <th></th>\n",
       "      <th>mapping: None-4.0 month</th>\n",
       "      <th>count</th>\n",
       "    </tr>\n",
       "  </thead>\n",
       "  <tbody>\n",
       "    <tr>\n",
       "      <th>0</th>\n",
       "      <td>Persistent head lag (HP:0032988): not measured</td>\n",
       "      <td>3</td>\n",
       "    </tr>\n",
       "    <tr>\n",
       "      <th>1</th>\n",
       "      <td>Persistent head lag (HP:0032988): observed</td>\n",
       "      <td>2</td>\n",
       "    </tr>\n",
       "  </tbody>\n",
       "</table>\n",
       "</div>"
      ],
      "text/plain": [
       "                          mapping: None-4.0 month count\n",
       "0  Persistent head lag (HP:0032988): not measured     3\n",
       "1      Persistent head lag (HP:0032988): observed     2"
      ]
     },
     "execution_count": 7,
     "metadata": {},
     "output_type": "execute_result"
    }
   ],
   "source": [
    "hl = HpTerm(hpo_id=\"HP:0032988\", label=\"Persistent head lag\")\n",
    "hlt = Thresholder(unit=\"month\", hpo_term_abn=hl, hpo_term_high=hl, threshold_high=4)\n",
    "headLagMapper = ThresholdedColumnMapper(column_name=\"Age at head control (months)\",thresholder=hlt)\n",
    "column_mapper_list.append(headLagMapper)\n",
    "headLagMapper.preview_column(dft)"
   ]
  },
  {
   "cell_type": "code",
   "execution_count": 8,
   "id": "1941813e-31a3-4621-83e0-a1f4faeb2dcc",
   "metadata": {},
   "outputs": [
    {
     "data": {
      "text/html": [
       "<div>\n",
       "<style scoped>\n",
       "    .dataframe tbody tr th:only-of-type {\n",
       "        vertical-align: middle;\n",
       "    }\n",
       "\n",
       "    .dataframe tbody tr th {\n",
       "        vertical-align: top;\n",
       "    }\n",
       "\n",
       "    .dataframe thead th {\n",
       "        text-align: right;\n",
       "    }\n",
       "</style>\n",
       "<table border=\"1\" class=\"dataframe\">\n",
       "  <thead>\n",
       "    <tr style=\"text-align: right;\">\n",
       "      <th></th>\n",
       "      <th>mapping: None-6.0 month</th>\n",
       "      <th>count</th>\n",
       "    </tr>\n",
       "  </thead>\n",
       "  <tbody>\n",
       "    <tr>\n",
       "      <th>0</th>\n",
       "      <td>Delayed ability to roll over (HP:0032989): not measured</td>\n",
       "      <td>3</td>\n",
       "    </tr>\n",
       "    <tr>\n",
       "      <th>1</th>\n",
       "      <td>Delayed ability to roll over (HP:0032989): observed</td>\n",
       "      <td>2</td>\n",
       "    </tr>\n",
       "  </tbody>\n",
       "</table>\n",
       "</div>"
      ],
      "text/plain": [
       "                                   mapping: None-6.0 month count\n",
       "0  Delayed ability to roll over (HP:0032989): not measured     3\n",
       "1      Delayed ability to roll over (HP:0032989): observed     2"
      ]
     },
     "execution_count": 8,
     "metadata": {},
     "output_type": "execute_result"
    }
   ],
   "source": [
    "ro = HpTerm(hpo_id=\"HP:0032989\", label=\"Delayed ability to roll over\")\n",
    "rot = Thresholder(unit=\"month\", hpo_term_abn=ro, hpo_term_high=ro, threshold_high=6)\n",
    "rollOverMappper = ThresholdedColumnMapper(column_name=\"Age at rolling (months)\", thresholder=rot)\n",
    "column_mapper_list.append(rollOverMappper)\n",
    "rollOverMappper.preview_column(dft)"
   ]
  },
  {
   "cell_type": "code",
   "execution_count": 9,
   "id": "269302e6-b01c-410d-8ac7-7e13f4aae5af",
   "metadata": {},
   "outputs": [
    {
     "data": {
      "text/html": [
       "<div>\n",
       "<style scoped>\n",
       "    .dataframe tbody tr th:only-of-type {\n",
       "        vertical-align: middle;\n",
       "    }\n",
       "\n",
       "    .dataframe tbody tr th {\n",
       "        vertical-align: top;\n",
       "    }\n",
       "\n",
       "    .dataframe thead th {\n",
       "        text-align: right;\n",
       "    }\n",
       "</style>\n",
       "<table border=\"1\" class=\"dataframe\">\n",
       "  <thead>\n",
       "    <tr style=\"text-align: right;\">\n",
       "      <th></th>\n",
       "      <th>mapping: None-9.0 months</th>\n",
       "      <th>count</th>\n",
       "    </tr>\n",
       "  </thead>\n",
       "  <tbody>\n",
       "    <tr>\n",
       "      <th>0</th>\n",
       "      <td>Delayed ability to sit (HP:0025336): not measured</td>\n",
       "      <td>3</td>\n",
       "    </tr>\n",
       "    <tr>\n",
       "      <th>1</th>\n",
       "      <td>Delayed ability to sit (HP:0025336): observed</td>\n",
       "      <td>2</td>\n",
       "    </tr>\n",
       "  </tbody>\n",
       "</table>\n",
       "</div>"
      ],
      "text/plain": [
       "                            mapping: None-9.0 months count\n",
       "0  Delayed ability to sit (HP:0025336): not measured     3\n",
       "1      Delayed ability to sit (HP:0025336): observed     2"
      ]
     },
     "execution_count": 9,
     "metadata": {},
     "output_type": "execute_result"
    }
   ],
   "source": [
    "# Age at unsupported sitting (months) \tthreshold: 9 months\n",
    "ds = HpTerm(hpo_id=\"HP:0025336\", label=\"Delayed ability to sit\")\n",
    "dst = Thresholder(unit=\"months\", hpo_term_abn=ds, hpo_term_high=ds, threshold_high=9)\n",
    "delayedSittingMapper =  ThresholdedColumnMapper(column_name=\"Age at unsupported sitting (months)\", thresholder=dst)\n",
    "column_mapper_list.append(delayedSittingMapper)\n",
    "delayedSittingMapper.preview_column(dft)"
   ]
  },
  {
   "cell_type": "code",
   "execution_count": 10,
   "id": "1974b8b0-d4b8-41e7-b78d-f5d643cce302",
   "metadata": {},
   "outputs": [
    {
     "data": {
      "text/html": [
       "<div>\n",
       "<style scoped>\n",
       "    .dataframe tbody tr th:only-of-type {\n",
       "        vertical-align: middle;\n",
       "    }\n",
       "\n",
       "    .dataframe tbody tr th {\n",
       "        vertical-align: top;\n",
       "    }\n",
       "\n",
       "    .dataframe thead th {\n",
       "        text-align: right;\n",
       "    }\n",
       "</style>\n",
       "<table border=\"1\" class=\"dataframe\">\n",
       "  <thead>\n",
       "    <tr style=\"text-align: right;\">\n",
       "      <th></th>\n",
       "      <th>mapping: None-15.0 months</th>\n",
       "      <th>count</th>\n",
       "    </tr>\n",
       "  </thead>\n",
       "  <tbody>\n",
       "    <tr>\n",
       "      <th>0</th>\n",
       "      <td>Delayed ability to walk (HP:0031936): not measured</td>\n",
       "      <td>4</td>\n",
       "    </tr>\n",
       "    <tr>\n",
       "      <th>1</th>\n",
       "      <td>Delayed ability to walk (HP:0031936): observed</td>\n",
       "      <td>1</td>\n",
       "    </tr>\n",
       "  </tbody>\n",
       "</table>\n",
       "</div>"
      ],
      "text/plain": [
       "                            mapping: None-15.0 months count\n",
       "0  Delayed ability to walk (HP:0031936): not measured     4\n",
       "1      Delayed ability to walk (HP:0031936): observed     1"
      ]
     },
     "execution_count": 10,
     "metadata": {},
     "output_type": "execute_result"
    }
   ],
   "source": [
    "# Age at walking (months) - 15 months -- Delayed ability to walk HP:0031936\n",
    "dw = HpTerm(hpo_id=\"HP:0031936\", label=\"Delayed ability to walk\")\n",
    "dwt = Thresholder(unit=\"months\", hpo_term_abn=dw, hpo_term_high=dw, threshold_high=15)\n",
    "delayedWalkingMapper =  ThresholdedColumnMapper(column_name=\"Age at walking (months)\", thresholder=dwt)\n",
    "column_mapper_list.append(delayedWalkingMapper)\n",
    "delayedWalkingMapper.preview_column(dft)"
   ]
  },
  {
   "cell_type": "code",
   "execution_count": 11,
   "id": "486db1b4-7c8c-4add-97bb-aba9fc6d9b39",
   "metadata": {},
   "outputs": [
    {
     "name": "stdout",
     "output_type": "stream",
     "text": [
      "We created 13 simple column mappers\n"
     ]
    }
   ],
   "source": [
    "items = {\n",
    "    'History of regression': [\"Developmental regression\",\"HP:0002376\"],\n",
    "    'Spastic diplegia':['Spastic diplegia', 'HP:0001264'],     #       \n",
    "    'Autistic behavior': ['Autistic behavior', 'HP:0000729'],  # \n",
    "    'Infantile hypotonia':['Infantile muscular hypotonia','HP:0008947'], # \n",
    "    'Cerebral atrophy':[\"Cerebral atrophy\",\"HP:0002059\"], #\n",
    "    'Delayed myelination':[\"Delayed CNS myelination\",\"HP:0002188\"], #\n",
    "    'Corpus callosum hypoplasia':['Hypoplasia of the corpus callosum','HP:0002079'],#\n",
    "    'Prominent nasal bridge':['Prominent nasal bridge','HP:0000426'], #\n",
    "    'Thin upper lip':[\"Thin upper lip vermilion\",\"HP:0000219\"],\n",
    "    \"Round face\":[\"Round face\",\"HP:0000311\"],\n",
    "    \"Short stature\":[\"Short stature\",\"HP:0004322\"],\n",
    "    \"Obesity\":[\"Obesity\", \"HP:0001513\"],\n",
    "    \"Precocious puberty\":[\"Precocious puberty\", \"HP:0000826\"],\n",
    "}\n",
    "item_column_mapper_d = hpo_cr.initialize_simple_column_maps(column_name_to_hpo_label_map=items, observed='+',\n",
    "    excluded='-')\n",
    "print(f\"We created {len(item_column_mapper_d)} simple column mappers\")\n",
    "# Transfer to column_mapper_d\n",
    "for k, v in item_column_mapper_d.items():\n",
    "    column_mapper_list.append(v)"
   ]
  },
  {
   "cell_type": "code",
   "execution_count": 12,
   "id": "b1c74190-1c95-4509-a995-7fb20951655b",
   "metadata": {},
   "outputs": [
    {
     "data": {
      "text/html": [
       "<div>\n",
       "<style scoped>\n",
       "    .dataframe tbody tr th:only-of-type {\n",
       "        vertical-align: middle;\n",
       "    }\n",
       "\n",
       "    .dataframe tbody tr th {\n",
       "        vertical-align: top;\n",
       "    }\n",
       "\n",
       "    .dataframe thead th {\n",
       "        text-align: right;\n",
       "    }\n",
       "</style>\n",
       "<table border=\"1\" class=\"dataframe\">\n",
       "  <thead>\n",
       "    <tr style=\"text-align: right;\">\n",
       "      <th></th>\n",
       "      <th>mapping</th>\n",
       "      <th>count</th>\n",
       "    </tr>\n",
       "  </thead>\n",
       "  <tbody>\n",
       "    <tr>\n",
       "      <th>0</th>\n",
       "      <td>Intellectual disability, severe (HP:0010864) (observed)</td>\n",
       "      <td>4</td>\n",
       "    </tr>\n",
       "    <tr>\n",
       "      <th>1</th>\n",
       "      <td>Intellectual disability, profound (HP:0002187) (observed)</td>\n",
       "      <td>1</td>\n",
       "    </tr>\n",
       "  </tbody>\n",
       "</table>\n",
       "</div>"
      ],
      "text/plain": [
       "                                                     mapping count\n",
       "0    Intellectual disability, severe (HP:0010864) (observed)     4\n",
       "1  Intellectual disability, profound (HP:0002187) (observed)     1"
      ]
     },
     "execution_count": 12,
     "metadata": {},
     "output_type": "execute_result"
    }
   ],
   "source": [
    "severity_d = {'Severe': 'Intellectual disability, severe',\n",
    "             'Profound': 'Intellectual disability, profound'}\n",
    "idMapper = OptionColumnMapper(column_name='Intellectual disability',concept_recognizer=hpo_cr, option_d=severity_d)\n",
    "column_mapper_list.append(idMapper)\n",
    "idMapper.preview_column(dft)"
   ]
  },
  {
   "cell_type": "code",
   "execution_count": 13,
   "id": "07840aef-68dc-4772-91ef-318455b0b7cc",
   "metadata": {},
   "outputs": [
    {
     "data": {
      "text/html": [
       "<div>\n",
       "<style scoped>\n",
       "    .dataframe tbody tr th:only-of-type {\n",
       "        vertical-align: middle;\n",
       "    }\n",
       "\n",
       "    .dataframe tbody tr th {\n",
       "        vertical-align: top;\n",
       "    }\n",
       "\n",
       "    .dataframe thead th {\n",
       "        text-align: right;\n",
       "    }\n",
       "</style>\n",
       "<table border=\"1\" class=\"dataframe\">\n",
       "  <thead>\n",
       "    <tr style=\"text-align: right;\">\n",
       "      <th></th>\n",
       "      <th>mapping</th>\n",
       "      <th>count</th>\n",
       "    </tr>\n",
       "  </thead>\n",
       "  <tbody>\n",
       "    <tr>\n",
       "      <th>0</th>\n",
       "      <td>Delayed speech and language development (HP:0000750) (observed)</td>\n",
       "      <td>3</td>\n",
       "    </tr>\n",
       "    <tr>\n",
       "      <th>1</th>\n",
       "      <td>Absent speech (HP:0001344) (observed)</td>\n",
       "      <td>2</td>\n",
       "    </tr>\n",
       "  </tbody>\n",
       "</table>\n",
       "</div>"
      ],
      "text/plain": [
       "                                                           mapping count\n",
       "0  Delayed speech and language development (HP:0000750) (observed)     3\n",
       "1                            Absent speech (HP:0001344) (observed)     2"
      ]
     },
     "execution_count": 13,
     "metadata": {},
     "output_type": "execute_result"
    }
   ],
   "source": [
    "# Language skills\n",
    "language_d = {'Simple two-word sentences': 'Delayed speech and language development',\n",
    "             'Simple words': 'Delayed speech and language development',\n",
    "             'Nonverbal': 'Absent speech'}\n",
    "languageMapper = OptionColumnMapper(column_name='Language skills',concept_recognizer=hpo_cr, option_d=language_d)\n",
    "column_mapper_list.append(languageMapper)\n",
    "languageMapper.preview_column(dft)"
   ]
  },
  {
   "cell_type": "code",
   "execution_count": 14,
   "id": "3ac1ed63-858d-4aa3-a90d-07f1b7a67c02",
   "metadata": {},
   "outputs": [
    {
     "data": {
      "text/html": [
       "<div>\n",
       "<style scoped>\n",
       "    .dataframe tbody tr th:only-of-type {\n",
       "        vertical-align: middle;\n",
       "    }\n",
       "\n",
       "    .dataframe tbody tr th {\n",
       "        vertical-align: top;\n",
       "    }\n",
       "\n",
       "    .dataframe thead th {\n",
       "        text-align: right;\n",
       "    }\n",
       "</style>\n",
       "<table border=\"1\" class=\"dataframe\">\n",
       "  <thead>\n",
       "    <tr style=\"text-align: right;\">\n",
       "      <th></th>\n",
       "      <th>mapping</th>\n",
       "      <th>count</th>\n",
       "    </tr>\n",
       "  </thead>\n",
       "  <tbody>\n",
       "    <tr>\n",
       "      <th>0</th>\n",
       "      <td>Loss of ambulation (HP:0002505) (observed)</td>\n",
       "      <td>3</td>\n",
       "    </tr>\n",
       "    <tr>\n",
       "      <th>1</th>\n",
       "      <td>Delayed gross motor development (HP:0002194) (observed)</td>\n",
       "      <td>1</td>\n",
       "    </tr>\n",
       "  </tbody>\n",
       "</table>\n",
       "</div>"
      ],
      "text/plain": [
       "                                                   mapping count\n",
       "0               Loss of ambulation (HP:0002505) (observed)     3\n",
       "1  Delayed gross motor development (HP:0002194) (observed)     1"
      ]
     },
     "execution_count": 14,
     "metadata": {},
     "output_type": "execute_result"
    }
   ],
   "source": [
    "# Gross motor skills Wheelchair bound \tWheelchair bound \tWheelchair bound \tCruising (5y)\tWalking  (5y)\n",
    "gms_d = {\n",
    "    \"Wheelchair bound\": \"Loss of ambulation\",\n",
    "    \"Cruising\": \"Delayed gross motor development\"\n",
    "}\n",
    "gmsMapper = OptionColumnMapper(column_name='Gross motor skills',concept_recognizer=hpo_cr, option_d=gms_d)\n",
    "column_mapper_list.append(gmsMapper)\n",
    "gmsMapper.preview_column(dft)"
   ]
  },
  {
   "cell_type": "code",
   "execution_count": 15,
   "id": "9f3d91eb-27d2-439a-9a2d-ea1ac7f85282",
   "metadata": {},
   "outputs": [
    {
     "data": {
      "text/html": [
       "<div>\n",
       "<style scoped>\n",
       "    .dataframe tbody tr th:only-of-type {\n",
       "        vertical-align: middle;\n",
       "    }\n",
       "\n",
       "    .dataframe tbody tr th {\n",
       "        vertical-align: top;\n",
       "    }\n",
       "\n",
       "    .dataframe thead th {\n",
       "        text-align: right;\n",
       "    }\n",
       "</style>\n",
       "<table border=\"1\" class=\"dataframe\">\n",
       "  <thead>\n",
       "    <tr style=\"text-align: right;\">\n",
       "      <th></th>\n",
       "      <th>mapping</th>\n",
       "      <th>count</th>\n",
       "    </tr>\n",
       "  </thead>\n",
       "  <tbody>\n",
       "    <tr>\n",
       "      <th>0</th>\n",
       "      <td>Thick eyebrow (HP:0000574) (observed)</td>\n",
       "      <td>1</td>\n",
       "    </tr>\n",
       "    <tr>\n",
       "      <th>1</th>\n",
       "      <td>Upslanted palpebral fissure (HP:0000582) (observed)</td>\n",
       "      <td>1</td>\n",
       "    </tr>\n",
       "    <tr>\n",
       "      <th>2</th>\n",
       "      <td>Anteverted nares (HP:0000463) (observed)</td>\n",
       "      <td>1</td>\n",
       "    </tr>\n",
       "    <tr>\n",
       "      <th>3</th>\n",
       "      <td>Short philtrum (HP:0000322) (observed)</td>\n",
       "      <td>1</td>\n",
       "    </tr>\n",
       "  </tbody>\n",
       "</table>\n",
       "</div>"
      ],
      "text/plain": [
       "                                               mapping count\n",
       "0                Thick eyebrow (HP:0000574) (observed)     1\n",
       "1  Upslanted palpebral fissure (HP:0000582) (observed)     1\n",
       "2             Anteverted nares (HP:0000463) (observed)     1\n",
       "3               Short philtrum (HP:0000322) (observed)     1"
      ]
     },
     "execution_count": 15,
     "metadata": {},
     "output_type": "execute_result"
    }
   ],
   "source": [
    "other_d = {'upper slanted palpebral fissures': 'Upslanted palpebral fissure'}\n",
    "otherMapper = OptionColumnMapper(column_name='Others',concept_recognizer=hpo_cr, option_d=other_d)\n",
    "column_mapper_list.append(otherMapper)\n",
    "otherMapper.preview_column(dft)"
   ]
  },
  {
   "cell_type": "markdown",
   "id": "56d2b3fe-f62f-44fd-9567-5e601812feac",
   "metadata": {},
   "source": [
    "<h2>Variant Data</h2>\n",
    "<p>MAPK8IP3 variants reported by Platzer et al, Iwasama et al., and Yechieli et al. We have transformed the variants, which were originally expressed using the transcript  NM_015133.4 to be expressed using the MANE select transcript NM_001318852.2</p>\n",
    "<p>pyphetools maps variants using the VariantValidator API.</p>"
   ]
  },
  {
   "cell_type": "code",
   "execution_count": 16,
   "id": "1690a779-bdd3-4996-83ff-110166e30c92",
   "metadata": {},
   "outputs": [
    {
     "data": {
      "text/plain": [
       "Individual 1    c.1735C>T\n",
       "Individual 2    c.1735C>T\n",
       "Individual 3    c.1735C>T\n",
       "Individual 4    c.3439C>T\n",
       "Individual 5    c.3439C>T\n",
       "Name: NM_001318852, dtype: object"
      ]
     },
     "execution_count": 16,
     "metadata": {},
     "output_type": "execute_result"
    }
   ],
   "source": [
    "d_NM_015133_to_NM_001318852 = {\n",
    "\"c.45C>G\": \"c.45C>G\",\n",
    "\"c.65delG\":\"c.65del\",\n",
    "\"c.79G>T\":\"c.79G>T\",\n",
    "\"c.111C>G\": \"c.111C>G\",\n",
    "\"c.1198G>A\": \"c.1201G>A\",\n",
    "\"c.1331T>C\": \"c.1334T>C\",\n",
    "\"c.1574G>A\": \"c.1577G>A\",\n",
    "\"c.1732C>T\": \"c.1735C>T\",\n",
    "\"c.2982C>G\": \"c.2985C>G\",\n",
    "\"c.3436C>T\": \"c.3439C>T\"\n",
    "}\n",
    "\n",
    "dft['NM_001318852'] = dft['Variant (hg19, NM_015133.4)'].apply(lambda x: d_NM_015133_to_NM_001318852.get(x.replace(\" \",\"\")))\n",
    "dft['NM_001318852']"
   ]
  },
  {
   "cell_type": "code",
   "execution_count": 17,
   "id": "67de5e99-8bcd-42c7-93f7-730e076b1227",
   "metadata": {},
   "outputs": [],
   "source": [
    "MAPK8IP3_transcript='NM_001318852.2'\n",
    "vman = VariantManager(df=dft, allele_1_column_name='NM_001318852', gene_symbol=\"MAPK8IP3\", transcript=MAPK8IP3_transcript,\n",
    "                     individual_column_name=\"individual_id\", )\n",
    "var_d = vman.get_variant_d()\n",
    "varMapper = VariantColumnMapper(variant_d=var_d,\n",
    "                                variant_column_name='NM_001318852', \n",
    "                                default_genotype='heterozygous')\n",
    "#varMapper.preview_column(dft['NM_001318852'])"
   ]
  },
  {
   "cell_type": "markdown",
   "id": "8be68a08-7577-4724-a908-cf934cb44e5e",
   "metadata": {},
   "source": [
    "<h2>Demographic data</h2>"
   ]
  },
  {
   "cell_type": "code",
   "execution_count": 18,
   "id": "59e4f966-f5cf-46d8-a3d4-cdf3d074d6e2",
   "metadata": {},
   "outputs": [],
   "source": [
    "encounterMapper = AgeColumnMapper.by_year('Age (yr)')\n",
    "#encounterMapper.preview_column(dft)\n",
    "onsetMapper = AgeColumnMapper.hpo_onset(\"Onset\")\n",
    "#onsetMapper.preview_column(dft)"
   ]
  },
  {
   "cell_type": "code",
   "execution_count": 19,
   "id": "2f3778e9-f98a-43b1-9b2b-924a7d84c7cb",
   "metadata": {},
   "outputs": [],
   "source": [
    "sexMapper = SexColumnMapper(male_symbol='Male', female_symbol='Female', column_name='Sex')\n",
    "#sexMapper.preview_column(dft['Sex'])"
   ]
  },
  {
   "cell_type": "code",
   "execution_count": 20,
   "id": "c1ff6ec8-45e9-4a98-96d5-3cf42c4eaa73",
   "metadata": {},
   "outputs": [],
   "source": [
    "encoder = CohortEncoder(df=dft, hpo_cr=hpo_cr, \n",
    "                        column_mapper_list=column_mapper_list, \n",
    "                        individual_column_name=\"individual_id\", \n",
    "                        age_of_onset_mapper=onsetMapper,\n",
    "                        age_at_last_encounter_mapper=encounterMapper,\n",
    "                        sexmapper=sexMapper,\n",
    "                        metadata=metadata,\n",
    "                        variant_mapper=varMapper)\n",
    "disease_id = \"OMIM:618443\"\n",
    "disease_label = \"Neurodevelopmental disorder with or without variable brain abnormalities\"\n",
    "disease = Disease(disease_id=disease_id, disease_label=disease_label)\n",
    "encoder.set_disease(disease=disease)"
   ]
  },
  {
   "cell_type": "code",
   "execution_count": 21,
   "id": "655399ac-9de5-421f-b6c8-05dadd26ca0c",
   "metadata": {},
   "outputs": [
    {
     "data": {
      "text/html": [
       "<h2>Cohort validation</h2>\n",
       "<p>Errors found with 5 of 5 phenopackets.</p>\n",
       "<table style=\"border: 2px solid black; align: \"left\">\n",
       "<caption>Error counts</caption>\n",
       "<tr><th style=\"text-align: left;font-weight: bold;\">Level</th><th style=\"text-align: left;font-weight: bold;\">Error category</th><th style=\"text-align: left;font-weight: bold;\">Count</th></tr>\n",
       "<tr><td style=\"text-align: left;\">WARNING</td><td style=\"text-align: left;\">REDUNDANT</td><td style=\"text-align: left;\">4</td></tr>\n",
       "<tr><td style=\"text-align: left;\">INFORMATION</td><td style=\"text-align: left;\">NOT_MEASURED</td><td style=\"text-align: left;\">42</td></tr>\n",
       "</table>\n",
       "<p>A total of 46 issues were fixed and no individual was removed from the cohort.</p>"
      ],
      "text/plain": [
       "<IPython.core.display.HTML object>"
      ]
     },
     "metadata": {},
     "output_type": "display_data"
    }
   ],
   "source": [
    "individuals = encoder.get_individuals()\n",
    "cvalidator = CohortValidator(cohort=individuals, ontology=hpo_ontology, min_hpo=1, allelic_requirement=AllelicRequirement.MONO_ALLELIC)\n",
    "qc = QcVisualizer(cohort_validator=cvalidator)\n",
    "display(HTML(qc.to_summary_html()))"
   ]
  },
  {
   "cell_type": "code",
   "execution_count": 22,
   "id": "a9cdf725-c774-4733-b328-820c0ca91bde",
   "metadata": {},
   "outputs": [
    {
     "data": {
      "text/html": [
       "<table style=\"border: 2px solid black; align: \"left\">\n",
       "<caption>5 phenopackets - PMID:30945334 (n=5)</caption>\n",
       "<tr><th style=\"text-align: left;font-weight: bold;\">Individual</th><th style=\"text-align: left;font-weight: bold;\">Disease</th><th style=\"text-align: left;font-weight: bold;\">Genotype</th><th style=\"text-align: left;font-weight: bold;\">Phenotypic features</th></tr>\n",
       "<tr><td style=\"text-align: left;\">Individual 1 (MALE; P29Y)</td><td style=\"text-align: left;\">Neurodevelopmental disorder with or without variable brain abnormalities (OMIM:618443)</td><td style=\"text-align: left;\">NM_001318852.2:c.1735C>T (heterozygous)</td><td style=\"text-align: left;\">Motor delay (HP:0001270); Spastic diplegia (HP:0001264); Cerebral atrophy (HP:0002059); Delayed CNS myelination (HP:0002188); Thin upper lip vermilion (HP:0000219); Round face (HP:0000311); Short stature (HP:0004322); Obesity (HP:0001513); Precocious puberty (HP:0000826); Intellectual disability, severe (HP:0010864); Delayed speech and language development (HP:0000750); Loss of ambulation (HP:0002505)</td></tr>\n",
       "<tr><td style=\"text-align: left;\">Individual 2 (FEMALE; P27Y)</td><td style=\"text-align: left;\">Neurodevelopmental disorder with or without variable brain abnormalities (OMIM:618443)</td><td style=\"text-align: left;\">NM_001318852.2:c.1735C>T (heterozygous)</td><td style=\"text-align: left;\">Delayed ability to roll over (HP:0032989); Spastic diplegia (HP:0001264); Cerebral atrophy (HP:0002059); Delayed CNS myelination (HP:0002188); Thin upper lip vermilion (HP:0000219); Round face (HP:0000311); Short stature (HP:0004322); Obesity (HP:0001513); Precocious puberty (HP:0000826); Intellectual disability, severe (HP:0010864); Delayed speech and language development (HP:0000750); Loss of ambulation (HP:0002505)</td></tr>\n",
       "<tr><td style=\"text-align: left;\">Individual 3 (MALE; P16Y)</td><td style=\"text-align: left;\">Neurodevelopmental disorder with or without variable brain abnormalities (OMIM:618443)</td><td style=\"text-align: left;\">NM_001318852.2:c.1735C>T (heterozygous)</td><td style=\"text-align: left;\">Motor delay (HP:0001270); Spastic diplegia (HP:0001264); Prominent nasal bridge (HP:0000426); Thin upper lip vermilion (HP:0000219); Short stature (HP:0004322); Obesity (HP:0001513); Intellectual disability, profound (HP:0002187); Delayed speech and language development (HP:0000750); Loss of ambulation (HP:0002505)</td></tr>\n",
       "<tr><td style=\"text-align: left;\">Individual 4 (MALE; P5Y)</td><td style=\"text-align: left;\">Neurodevelopmental disorder with or without variable brain abnormalities (OMIM:618443)</td><td style=\"text-align: left;\">NM_001318852.2:c.3439C>T (heterozygous)</td><td style=\"text-align: left;\">Persistent head lag (HP:0032988); Delayed ability to roll over (HP:0032989); Delayed ability to sit (HP:0025336); Autistic behavior (HP:0000729); Infantile muscular hypotonia (HP:0008947); Cerebral atrophy (HP:0002059); Prominent nasal bridge (HP:0000426); Thin upper lip vermilion (HP:0000219); Round face (HP:0000311); Short stature (HP:0004322); Intellectual disability, severe (HP:0010864); Absent speech (HP:0001344)</td></tr>\n",
       "<tr><td style=\"text-align: left;\">Individual 5 (FEMALE; P5Y)</td><td style=\"text-align: left;\">Neurodevelopmental disorder with or without variable brain abnormalities (OMIM:618443)</td><td style=\"text-align: left;\">NM_001318852.2:c.3439C>T (heterozygous)</td><td style=\"text-align: left;\">Persistent head lag (HP:0032988); Delayed ability to sit (HP:0025336); Delayed ability to walk (HP:0031936); Spastic diplegia (HP:0001264); Autistic behavior (HP:0000729); Infantile muscular hypotonia (HP:0008947); Cerebral atrophy (HP:0002059); Delayed CNS myelination (HP:0002188); Prominent nasal bridge (HP:0000426); Thin upper lip vermilion (HP:0000219); Round face (HP:0000311); Intellectual disability, severe (HP:0010864); Absent speech (HP:0001344); Thick eyebrow (HP:0000574); Upslanted palpebral fissure (HP:0000582); Anteverted nares (HP:0000463); Short philtrum (HP:0000322)</td></tr>\n",
       "</table>"
      ],
      "text/plain": [
       "<IPython.core.display.HTML object>"
      ]
     },
     "metadata": {},
     "output_type": "display_data"
    }
   ],
   "source": [
    "individuals = cvalidator.get_error_free_individual_list()\n",
    "table = PhenopacketTable(individual_list=individuals, metadata=metadata)\n",
    "display(HTML(table.to_html()))"
   ]
  },
  {
   "cell_type": "code",
   "execution_count": 23,
   "id": "eba007c0-f07e-422f-846b-10725bf0d362",
   "metadata": {},
   "outputs": [
    {
     "name": "stdout",
     "output_type": "stream",
     "text": [
      "We output 5 GA4GH phenopackets to the directory phenopackets\n"
     ]
    }
   ],
   "source": [
    "Individual.output_individuals_as_phenopackets(individual_list=individuals, \n",
    "                                              metadata=metadata, \n",
    "                                              outdir=\"phenopackets\")"
   ]
  },
  {
   "cell_type": "code",
   "execution_count": 24,
   "id": "1e6a23a7-ba87-4502-9f23-23086cf0e7c7",
   "metadata": {},
   "outputs": [],
   "source": [
    "# pxf validate --hpo hp.json *.json\n",
    "# no errors"
   ]
  }
 ],
 "metadata": {
  "kernelspec": {
   "display_name": "Python 3 (ipykernel)",
   "language": "python",
   "name": "python3"
  },
  "language_info": {
   "codemirror_mode": {
    "name": "ipython",
    "version": 3
   },
   "file_extension": ".py",
   "mimetype": "text/x-python",
   "name": "python",
   "nbconvert_exporter": "python",
   "pygments_lexer": "ipython3",
   "version": "3.8.10"
  }
 },
 "nbformat": 4,
 "nbformat_minor": 5
}
