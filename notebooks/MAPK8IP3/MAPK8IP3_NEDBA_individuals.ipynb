{
 "cells": [
  {
   "cell_type": "markdown",
   "metadata": {},
   "source": [
    "# MAPK8IP3\n",
    "[neurodevelopmental disorder with or without variable brain abnormalities (NEDBA)](https://omim.org/entry/618443) is caused by heterozygous mutation in the MAPK8IP3 gene."
   ]
  },
  {
   "cell_type": "code",
   "execution_count": 1,
   "metadata": {},
   "outputs": [
    {
     "name": "stdout",
     "output_type": "stream",
     "text": [
      "Using pyphetools version 0.9.78\n"
     ]
    }
   ],
   "source": [
    "from pyphetools.creation import TemplateImporter\n",
    "from pyphetools.visualization import IndividualTable, QcVisualizer\n",
    "from IPython.display import display, HTML\n",
    "import pyphetools\n",
    "print(f\"Using pyphetools version {pyphetools.__version__}\")"
   ]
  },
  {
   "cell_type": "code",
   "execution_count": 2,
   "metadata": {},
   "outputs": [],
   "source": [
    "template = \"input/MAPK8IP3_NEDBA_individuals.xlsx\"\n",
    "hp_json = \"../hp.json\"\n",
    "created_by = \"0000-0002-0736-9199\""
   ]
  },
  {
   "cell_type": "code",
   "execution_count": 3,
   "metadata": {},
   "outputs": [
    {
     "name": "stdout",
     "output_type": "stream",
     "text": [
      "HPO version 2024-04-03\n",
      "Created encoders for 68 fields\n",
      "Importing OMIM:618443, Neurodevelopmental disorder with or without variable brain abnormalities, HGNC:6884, MAPK8IP3,  NM_001318852.2\n",
      "We output 7 GA4GH phenopackets to the directory phenopackets\n"
     ]
    }
   ],
   "source": [
    "timporter = TemplateImporter(template=template, hp_json=hp_json, created_by=created_by)\n",
    "individual_list, cvalidator = timporter.import_phenopackets_from_template()"
   ]
  },
  {
   "cell_type": "code",
   "execution_count": 4,
   "metadata": {},
   "outputs": [
    {
     "data": {
      "text/html": [
       "<h2>Cohort validation</h2>\n",
       "<p>Errors found with 6 of 7 phenopackets.</p>\n",
       "<table style=\"border: 2px solid black; align: \"left\">\n",
       "<caption>Error counts</caption>\n",
       "<tr><th style=\"text-align: left;font-weight: bold;\">Level</th><th style=\"text-align: left;font-weight: bold;\">Error category</th><th style=\"text-align: left;font-weight: bold;\">Count</th></tr>\n",
       "<tr><td style=\"text-align: left;\">WARNING</td><td style=\"text-align: left;\">REDUNDANT</td><td style=\"text-align: left;\">9</td></tr>\n",
       "</table>\n",
       "<p>A total of 9 issues were fixed and no individual was removed from the cohort.</p>"
      ],
      "text/plain": [
       "<IPython.core.display.HTML object>"
      ]
     },
     "metadata": {},
     "output_type": "display_data"
    }
   ],
   "source": [
    "qc = QcVisualizer(cohort_validator=cvalidator)\n",
    "display(HTML(qc.to_summary_html()))"
   ]
  },
  {
   "cell_type": "code",
   "execution_count": 5,
   "metadata": {},
   "outputs": [
    {
     "data": {
      "text/html": [
       "<table style=\"border: 2px solid black; align: \"left\">\n",
       "<caption>7 phenopackets - PMID:34321325 (n=1); PMID:37684057 (n=1); PMID:30945334 (n=5)</caption>\n",
       "<tr><th style=\"text-align: left;font-weight: bold;\">Individual</th><th style=\"text-align: left;font-weight: bold;\">Disease</th><th style=\"text-align: left;font-weight: bold;\">Genotype</th><th style=\"text-align: left;font-weight: bold;\">Phenotypic features</th></tr>\n",
       "<tr><td style=\"text-align: left;\">Patient S12 (MALE; P12Y)</td><td style=\"text-align: left;\">Neurodevelopmental disorder with or without variable brain abnormalities (OMIM:618443)</td><td style=\"text-align: left;\">NM_001318852.2:c.45C>G (heterozygous)</td><td style=\"text-align: left;\">Intellectual disability (HP:0001249); Spastic triplegia (HP:0034183); excluded: Cerebral hypoplasia (HP:0006872); excluded: Periventricular leukomalacia (HP:0006970); excluded: Reduced cerebral white matter volume (HP:0034295); excluded: Hypoplasia of the pons (HP:0012110); excluded: Thin corpus callosum (HP:0033725); excluded: Cerebellar hypoplasia (HP:0001321); excluded: Cerebral atrophy (HP:0002059); excluded: Perisylvian polymicrogyria (HP:0012650); excluded: Short philtrum (HP:0000322); excluded: Long philtrum (HP:0000343); excluded: Upslanted palpebral fissure (HP:0000582); excluded: Anteverted nares (HP:0000463); excluded: Microcephaly (HP:0000252); excluded: Prominent nasal bridge (HP:0000426); excluded: Round face (HP:0000311); excluded: Narrow mouth (HP:0000160); excluded: Thin upper lip vermilion (HP:0000219); excluded: Deeply set eye (HP:0000490); excluded: Hypertelorism (HP:0000316); excluded: Low-set ears (HP:0000369)</td></tr>\n",
       "<tr><td style=\"text-align: left;\">10-yr-old boy (MALE; P10Y)</td><td style=\"text-align: left;\">Neurodevelopmental disorder with or without variable brain abnormalities (OMIM:618443)</td><td style=\"text-align: left;\">NM_001318852.2:c.1735C>T (heterozygous)</td><td style=\"text-align: left;\"><b>P1Y</b>: Cerebral hypoplasia (HP:0006872); Periventricular leukomalacia (HP:0006970); Reduced cerebral white matter volume (HP:0034295); Hypoplasia of the pons (HP:0012110); Thin corpus callosum (HP:0033725); Cerebellar hypoplasia (HP:0001321)<br/><b>P1Y4M</b>: Global developmental delay (HP:0001263)<br/><b>P2Y</b>: Delayed speech and language development (HP:0000750); Delayed ability to walk (HP:0031936)<br/><b>P5Y</b>: Motor deterioration (HP:0002333); Spastic diplegia (HP:0001264); Microcephaly (HP:0000252)<br/>Nuchal cord (HP:0012498); Cerebral palsy (HP:0100021); Failure to thrive (HP:0001508); Optic nerve hypoplasia (HP:0000609); Elbow flexion contracture (HP:0002987); Knee flexion contracture (HP:0006380); Camptodactyly of finger (HP:0100490); Delayed ability to sit (HP:0025336); Nystagmus (HP:0000639); Bilateral talipes equinovarus (HP:0001776)</td></tr>\n",
       "<tr><td style=\"text-align: left;\">Individual 1 (MALE; P29Y)</td><td style=\"text-align: left;\">Neurodevelopmental disorder with or without variable brain abnormalities (OMIM:618443)</td><td style=\"text-align: left;\">NM_001318852.2:c.1735C>T (heterozygous)</td><td style=\"text-align: left;\">Inability to walk (HP:0002540); Global developmental delay (HP:0001263); Intellectual disability (HP:0001249); Thin corpus callosum (HP:0033725); Cerebral atrophy (HP:0002059); Delayed CNS myelination (HP:0002188); Delayed speech and language development (HP:0000750); Spastic diplegia (HP:0001264); Round face (HP:0000311); Thin upper lip vermilion (HP:0000219); Short stature (HP:0004322); Obesity (HP:0001513); Delayed ability to walk (HP:0031936); Precocious puberty (HP:0000826); excluded: Cerebral palsy (HP:0100021); excluded: Seizure (HP:0001250); excluded: Absent speech (HP:0001344); excluded: Autistic behavior (HP:0000729); excluded: Short philtrum (HP:0000322); excluded: Long philtrum (HP:0000343); excluded: Thick eyebrow (HP:0000574); excluded: Upslanted palpebral fissure (HP:0000582); excluded: Anteverted nares (HP:0000463); excluded: Prominent nasal bridge (HP:0000426); excluded: Hypotonia (HP:0001252); excluded: Persistent head lag (HP:0032988); excluded: Delayed ability to sit (HP:0025336)</td></tr>\n",
       "<tr><td style=\"text-align: left;\">Individual 2 (FEMALE; P27Y)</td><td style=\"text-align: left;\">Neurodevelopmental disorder with or without variable brain abnormalities (OMIM:618443)</td><td style=\"text-align: left;\">NM_001318852.2:c.1735C>T (heterozygous)</td><td style=\"text-align: left;\">Inability to walk (HP:0002540); Global developmental delay (HP:0001263); Intellectual disability (HP:0001249); Thin corpus callosum (HP:0033725); Cerebral atrophy (HP:0002059); Seizure (HP:0001250); Delayed CNS myelination (HP:0002188); Delayed speech and language development (HP:0000750); Spastic diplegia (HP:0001264); Round face (HP:0000311); Thin upper lip vermilion (HP:0000219); Short stature (HP:0004322); Obesity (HP:0001513); Delayed ability to walk (HP:0031936); Delayed ability to roll over (HP:0032989); Precocious puberty (HP:0000826); excluded: Cerebral palsy (HP:0100021); excluded: Absent speech (HP:0001344); excluded: Autistic behavior (HP:0000729); excluded: Short philtrum (HP:0000322); excluded: Long philtrum (HP:0000343); excluded: Thick eyebrow (HP:0000574); excluded: Upslanted palpebral fissure (HP:0000582); excluded: Anteverted nares (HP:0000463); excluded: Prominent nasal bridge (HP:0000426); excluded: Hypotonia (HP:0001252); excluded: Persistent head lag (HP:0032988); excluded: Delayed ability to sit (HP:0025336)</td></tr>\n",
       "<tr><td style=\"text-align: left;\">Individual 3 (MALE; P16Y)</td><td style=\"text-align: left;\">Neurodevelopmental disorder with or without variable brain abnormalities (OMIM:618443)</td><td style=\"text-align: left;\">NM_001318852.2:c.1735C>T (heterozygous)</td><td style=\"text-align: left;\">Inability to walk (HP:0002540); Global developmental delay (HP:0001263); Intellectual disability (HP:0001249); Thin corpus callosum (HP:0033725); Cerebral atrophy (HP:0002059); Seizure (HP:0001250); Delayed speech and language development (HP:0000750); Spastic diplegia (HP:0001264); Prominent nasal bridge (HP:0000426); Thin upper lip vermilion (HP:0000219); Short stature (HP:0004322); Obesity (HP:0001513); Delayed ability to walk (HP:0031936); excluded: Cerebral palsy (HP:0100021); excluded: Absent speech (HP:0001344); excluded: Delayed CNS myelination (HP:0002188); excluded: Autistic behavior (HP:0000729); excluded: Short philtrum (HP:0000322); excluded: Long philtrum (HP:0000343); excluded: Thick eyebrow (HP:0000574); excluded: Upslanted palpebral fissure (HP:0000582); excluded: Anteverted nares (HP:0000463); excluded: Round face (HP:0000311); excluded: Hypotonia (HP:0001252); excluded: Delayed ability to roll over (HP:0032989); excluded: Persistent head lag (HP:0032988)</td></tr>\n",
       "<tr><td style=\"text-align: left;\">Individual 4 (MALE; P5Y)</td><td style=\"text-align: left;\">Neurodevelopmental disorder with or without variable brain abnormalities (OMIM:618443)</td><td style=\"text-align: left;\">NM_001318852.2:c.3439C>T (heterozygous)</td><td style=\"text-align: left;\">Hypotonia (HP:0001252); Inability to walk (HP:0002540); Global developmental delay (HP:0001263); Intellectual disability (HP:0001249); Thin corpus callosum (HP:0033725); Cerebral atrophy (HP:0002059); Absent speech (HP:0001344); Autistic behavior (HP:0000729); Prominent nasal bridge (HP:0000426); Round face (HP:0000311); Thin upper lip vermilion (HP:0000219); Short stature (HP:0004322); Delayed ability to walk (HP:0031936); Delayed ability to roll over (HP:0032989); Persistent head lag (HP:0032988); excluded: Cerebral palsy (HP:0100021); excluded: Seizure (HP:0001250); excluded: Delayed CNS myelination (HP:0002188); excluded: Spastic diplegia (HP:0001264); excluded: Short philtrum (HP:0000322); excluded: Long philtrum (HP:0000343); excluded: Thick eyebrow (HP:0000574); excluded: Upslanted palpebral fissure (HP:0000582); excluded: Anteverted nares (HP:0000463); excluded: Obesity (HP:0001513); excluded: Precocious puberty (HP:0000826)</td></tr>\n",
       "<tr><td style=\"text-align: left;\">Individual 5 (FEMALE; P5Y)</td><td style=\"text-align: left;\">Neurodevelopmental disorder with or without variable brain abnormalities (OMIM:618443)</td><td style=\"text-align: left;\">NM_001318852.2:c.3439C>T (heterozygous)</td><td style=\"text-align: left;\">Hypotonia (HP:0001252); Global developmental delay (HP:0001263); Intellectual disability (HP:0001249); Thin corpus callosum (HP:0033725); Cerebral atrophy (HP:0002059); Absent speech (HP:0001344); Delayed CNS myelination (HP:0002188); Autistic behavior (HP:0000729); Spastic diplegia (HP:0001264); Short philtrum (HP:0000322); Thick eyebrow (HP:0000574); Upslanted palpebral fissure (HP:0000582); Anteverted nares (HP:0000463); Prominent nasal bridge (HP:0000426); Round face (HP:0000311); Thin upper lip vermilion (HP:0000219); Delayed ability to walk (HP:0031936); Persistent head lag (HP:0032988); excluded: Cerebral palsy (HP:0100021); excluded: Inability to walk (HP:0002540); excluded: Seizure (HP:0001250); excluded: Long philtrum (HP:0000343); excluded: Short stature (HP:0004322); excluded: Obesity (HP:0001513); excluded: Delayed ability to roll over (HP:0032989); excluded: Precocious puberty (HP:0000826)</td></tr>\n",
       "</table>"
      ],
      "text/plain": [
       "<IPython.core.display.HTML object>"
      ]
     },
     "metadata": {},
     "output_type": "display_data"
    }
   ],
   "source": [
    "table = IndividualTable(cvalidator.get_error_free_individual_list())\n",
    "display(HTML(table.to_html()))"
   ]
  }
 ],
 "metadata": {
  "kernelspec": {
   "display_name": "ps24venv",
   "language": "python",
   "name": "python3"
  },
  "language_info": {
   "codemirror_mode": {
    "name": "ipython",
    "version": 3
   },
   "file_extension": ".py",
   "mimetype": "text/x-python",
   "name": "python",
   "nbconvert_exporter": "python",
   "pygments_lexer": "ipython3",
   "version": "3.8.10"
  }
 },
 "nbformat": 4,
 "nbformat_minor": 2
}
