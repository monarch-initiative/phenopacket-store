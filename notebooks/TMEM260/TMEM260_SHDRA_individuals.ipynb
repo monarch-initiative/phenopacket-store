{
 "cells": [
  {
   "cell_type": "markdown",
   "metadata": {},
   "source": [
    "# TMEM260\n",
    "[structural heart defects and renal anomalies syndrome (SHDRA)](https://omim.org/entry/617478) is caused by homozygous or compound heterozygous mutation in the TMEM260 gene."
   ]
  },
  {
   "cell_type": "code",
   "execution_count": 6,
   "metadata": {},
   "outputs": [
    {
     "name": "stdout",
     "output_type": "stream",
     "text": [
      "Using pyphetools version 0.9.78\n"
     ]
    }
   ],
   "source": [
    "from pyphetools.creation import TemplateImporter\n",
    "from pyphetools.visualization import IndividualTable, QcVisualizer\n",
    "from IPython.display import display, HTML\n",
    "import pyphetools\n",
    "print(f\"Using pyphetools version {pyphetools.__version__}\")"
   ]
  },
  {
   "cell_type": "code",
   "execution_count": 8,
   "metadata": {},
   "outputs": [],
   "source": [
    "template = \"input/TMEM260_ SHDRA _individuals.xlsx\"\n",
    "hp_json = \"../hp.json\"\n",
    "created_by = \"0000-0002-0736-9199\""
   ]
  },
  {
   "cell_type": "code",
   "execution_count": 10,
   "metadata": {},
   "outputs": [
    {
     "name": "stdout",
     "output_type": "stream",
     "text": [
      "HPO version 2024-04-04\n",
      "Created encoders for 48 fields\n",
      "Importing OMIM:617478, Structural heart defects and renal anomalies syndrome, HGNC:20185, TMEM260,  NM_017799.4\n",
      "[INFO] encoding variant \"c.1698_1701delCTAT\"\n",
      "https://rest.variantvalidator.org/VariantValidator/variantvalidator/hg38/NM_017799.4%3Ac.1698_1701delCTAT/NM_017799.4?content-type=application%2Fjson\n",
      "[INFO] encoding variant \"c.1744G>C\"\n",
      "https://rest.variantvalidator.org/VariantValidator/variantvalidator/hg38/NM_017799.4%3Ac.1744G>C/NM_017799.4?content-type=application%2Fjson\n",
      "[INFO] encoding variant \"c.1410C>G\"\n",
      "https://rest.variantvalidator.org/VariantValidator/variantvalidator/hg38/NM_017799.4%3Ac.1410C>G/NM_017799.4?content-type=application%2Fjson\n",
      "[INFO] encoding variant \"c.1698_1701del\"\n",
      "https://rest.variantvalidator.org/VariantValidator/variantvalidator/hg38/NM_017799.4%3Ac.1698_1701del/NM_017799.4?content-type=application%2Fjson\n",
      "[INFO] encoding variant \"c.161_344del\"\n",
      "https://rest.variantvalidator.org/VariantValidator/variantvalidator/hg38/NM_017799.4%3Ac.161_344del/NM_017799.4?content-type=application%2Fjson\n",
      "[INFO] encoding variant \"c.1644delT\"\n",
      "https://rest.variantvalidator.org/VariantValidator/variantvalidator/hg38/NM_017799.4%3Ac.1644delT/NM_017799.4?content-type=application%2Fjson\n",
      "[INFO] encoding variant \"c.193-2A>G\"\n",
      "https://rest.variantvalidator.org/VariantValidator/variantvalidator/hg38/NM_017799.4%3Ac.193-2A>G/NM_017799.4?content-type=application%2Fjson\n",
      "[INFO] encoding variant \"c.344G>A\"\n",
      "https://rest.variantvalidator.org/VariantValidator/variantvalidator/hg38/NM_017799.4%3Ac.344G>A/NM_017799.4?content-type=application%2Fjson\n",
      "[INFO] encoding variant \"c.1393C>T\"\n",
      "https://rest.variantvalidator.org/VariantValidator/variantvalidator/hg38/NM_017799.4%3Ac.1393C>T/NM_017799.4?content-type=application%2Fjson\n",
      "We output 9 GA4GH phenopackets to the directory phenopackets\n"
     ]
    }
   ],
   "source": [
    "timporter = TemplateImporter(template=template, hp_json=hp_json, created_by=created_by)\n",
    "individual_list, cvalidator = timporter.import_phenopackets_from_template()"
   ]
  },
  {
   "cell_type": "code",
   "execution_count": 11,
   "metadata": {},
   "outputs": [
    {
     "data": {
      "text/html": [
       "<h2>Cohort validation</h2>\n",
       "<p>No errors found for the cohort with 9 individuals</p>"
      ],
      "text/plain": [
       "<IPython.core.display.HTML object>"
      ]
     },
     "metadata": {},
     "output_type": "display_data"
    }
   ],
   "source": [
    "qc = QcVisualizer(cohort_validator=cvalidator)\n",
    "display(HTML(qc.to_summary_html()))"
   ]
  },
  {
   "cell_type": "code",
   "execution_count": 12,
   "metadata": {},
   "outputs": [
    {
     "data": {
      "text/html": [
       "<table style=\"border: 2px solid black; align: \"left\">\n",
       "<caption>9 phenopackets - PMID:28318500 (n=4); PMID:34612517 (n=5)</caption>\n",
       "<tr><th style=\"text-align: left;font-weight: bold;\">Individual</th><th style=\"text-align: left;font-weight: bold;\">Disease</th><th style=\"text-align: left;font-weight: bold;\">Genotype</th><th style=\"text-align: left;font-weight: bold;\">Phenotypic features</th></tr>\n",
       "<tr><td style=\"text-align: left;\">1-II-1 (MALE; P2M)</td><td style=\"text-align: left;\">Structural heart defects and renal anomalies syndrome (OMIM:617478)</td><td style=\"text-align: left;\">NM_017799.4:c.1393C>T (homozygous)</td><td style=\"text-align: left;\">Interrupted aortic arch (HP:0011611); Ventricular septal defect (HP:0001629); Partial anomalous pulmonary venous return (HP:0010773); Truncus arteriosus (HP:0001660); Renal insufficiency (HP:0000083); Generalized edema (HP:0007430); Agenesis of corpus callosum (HP:0001274); Elevated circulating creatinine concentration (HP:0003259); Decreased urine output (HP:0011037); excluded: Atrial septal defect (HP:0001631); excluded: Tetralogy of Fallot (HP:0001636); excluded: Right aortic arch (HP:0012020); excluded: Persistent left superior vena cava (HP:0005301); excluded: Tricuspid atresia (HP:0011662); excluded: Microcephaly (HP:0000252); excluded: Renal cyst (HP:0000107); excluded: Overlapping toe (HP:0001845); excluded: Low-set ears (HP:0000369); excluded: Preauricular skin tag (HP:0000384); excluded: Webbed neck (HP:0000465); excluded: Hypotonia (HP:0001252); excluded: Cryptorchidism (HP:0000028); excluded: Cyanosis (HP:0000961); excluded: Postaxial hand polydactyly (HP:0001162)</td></tr>\n",
       "<tr><td style=\"text-align: left;\">1-II-2 (FEMALE; P1M7D)</td><td style=\"text-align: left;\">Structural heart defects and renal anomalies syndrome (OMIM:617478)</td><td style=\"text-align: left;\">NM_017799.4:c.1393C>T (homozygous)</td><td style=\"text-align: left;\">Right aortic arch (HP:0012020); Persistent left superior vena cava (HP:0005301); Ventricular septal defect (HP:0001629); Tricuspid atresia (HP:0011662); Truncus arteriosus (HP:0001660); Renal insufficiency (HP:0000083); Generalized edema (HP:0007430); Agenesis of corpus callosum (HP:0001274); Elevated circulating creatinine concentration (HP:0003259); Low-set ears (HP:0000369); Preauricular skin tag (HP:0000384); Webbed neck (HP:0000465); Cyanosis (HP:0000961); Postaxial hand polydactyly (HP:0001162); Decreased urine output (HP:0011037); excluded: Interrupted aortic arch (HP:0011611); excluded: Atrial septal defect (HP:0001631); excluded: Tetralogy of Fallot (HP:0001636); excluded: Partial anomalous pulmonary venous return (HP:0010773); excluded: Microcephaly (HP:0000252); excluded: Renal cyst (HP:0000107); excluded: Overlapping toe (HP:0001845); excluded: Hypotonia (HP:0001252)</td></tr>\n",
       "<tr><td style=\"text-align: left;\">1-II-3 (MALE; P2Y)</td><td style=\"text-align: left;\">Structural heart defects and renal anomalies syndrome (OMIM:617478)</td><td style=\"text-align: left;\">NM_017799.4:c.1393C>T (homozygous)</td><td style=\"text-align: left;\">Atrial septal defect (HP:0001631); Ventricular septal defect (HP:0001629); Renal cyst (HP:0000107); Overlapping toe (HP:0001845); Cryptorchidism (HP:0000028); excluded: Interrupted aortic arch (HP:0011611); excluded: Tetralogy of Fallot (HP:0001636); excluded: Right aortic arch (HP:0012020); excluded: Persistent left superior vena cava (HP:0005301); excluded: Partial anomalous pulmonary venous return (HP:0010773); excluded: Tricuspid atresia (HP:0011662); excluded: Truncus arteriosus (HP:0001660); excluded: Microcephaly (HP:0000252); excluded: Generalized edema (HP:0007430); excluded: Agenesis of corpus callosum (HP:0001274); excluded: Low-set ears (HP:0000369); excluded: Preauricular skin tag (HP:0000384); excluded: Webbed neck (HP:0000465); excluded: Hypotonia (HP:0001252); excluded: Cyanosis (HP:0000961); excluded: Postaxial hand polydactyly (HP:0001162); excluded: Decreased urine output (HP:0011037)</td></tr>\n",
       "<tr><td style=\"text-align: left;\">2-II-4 (FEMALE; P1Y)</td><td style=\"text-align: left;\">Structural heart defects and renal anomalies syndrome (OMIM:617478)</td><td style=\"text-align: left;\">NM_017799.4:c.1698_1701del (homozygous)</td><td style=\"text-align: left;\">Tetralogy of Fallot (HP:0001636); Ventricular septal defect (HP:0001629); Microcephaly (HP:0000252); Renal insufficiency (HP:0000083); Generalized edema (HP:0007430); Elevated circulating creatinine concentration (HP:0003259); Hypotonia (HP:0001252); Cyanosis (HP:0000961); excluded: Interrupted aortic arch (HP:0011611); excluded: Atrial septal defect (HP:0001631); excluded: Right aortic arch (HP:0012020); excluded: Persistent left superior vena cava (HP:0005301); excluded: Partial anomalous pulmonary venous return (HP:0010773); excluded: Tricuspid atresia (HP:0011662); excluded: Truncus arteriosus (HP:0001660); excluded: Renal cyst (HP:0000107); excluded: Overlapping toe (HP:0001845); excluded: Low-set ears (HP:0000369); excluded: Preauricular skin tag (HP:0000384); excluded: Webbed neck (HP:0000465); excluded: Postaxial hand polydactyly (HP:0001162); excluded: Decreased urine output (HP:0011037)</td></tr>\n",
       "<tr><td style=\"text-align: left;\">F1-II-3 (FEMALE; P4M)</td><td style=\"text-align: left;\">Structural heart defects and renal anomalies syndrome (OMIM:617478)</td><td style=\"text-align: left;\"><ul> <li>NM_017799.4:c.344G>A (heterozygous)</li> <li>NM_017799.4:c.162_344+1del (heterozygous)</li> </ul></td><td style=\"text-align: left;\">Truncus arteriosus (HP:0001660); Ventricular septal defect (HP:0001629); Pulmonic stenosis (HP:0001642); excluded: Single umbilical artery (HP:0001195); excluded: Interrupted aortic arch (HP:0011611); excluded: Tetralogy of Fallot (HP:0001636); excluded: Right aortic arch (HP:0012020); excluded: Partial anomalous pulmonary venous return (HP:0010773); excluded: Tricuspid atresia (HP:0011662); excluded: Protein-losing enteropathy (HP:0002243); excluded: Microcephaly (HP:0000252); excluded: Horseshoe kidney (HP:0000085); excluded: Renal cyst (HP:0000107); excluded: Agenesis of corpus callosum (HP:0001274); excluded: Overlapping toe (HP:0001845); excluded: Postaxial hand polydactyly (HP:0001162)</td></tr>\n",
       "<tr><td style=\"text-align: left;\">F1-II-4 (MALE; P5M)</td><td style=\"text-align: left;\">Structural heart defects and renal anomalies syndrome (OMIM:617478)</td><td style=\"text-align: left;\">NM_017799.4:c.1410C>G (homozygous)</td><td style=\"text-align: left;\">Single umbilical artery (HP:0001195); Ventricular septal defect (HP:0001629); Truncus arteriosus (HP:0001660); Pulmonic stenosis (HP:0001642); Horseshoe kidney (HP:0000085); excluded: Interrupted aortic arch (HP:0011611); excluded: Tetralogy of Fallot (HP:0001636); excluded: Right aortic arch (HP:0012020); excluded: Partial anomalous pulmonary venous return (HP:0010773); excluded: Tricuspid atresia (HP:0011662); excluded: Protein-losing enteropathy (HP:0002243); excluded: Microcephaly (HP:0000252); excluded: Renal cyst (HP:0000107); excluded: Agenesis of corpus callosum (HP:0001274); excluded: Overlapping toe (HP:0001845); excluded: Postaxial hand polydactyly (HP:0001162)</td></tr>\n",
       "<tr><td style=\"text-align: left;\">F2-II-2 (MALE; P5Y)</td><td style=\"text-align: left;\">Structural heart defects and renal anomalies syndrome (OMIM:617478)</td><td style=\"text-align: left;\"><ul> <li>NM_017799.4:c.1393C>T (heterozygous)</li> <li>NM_017799.4:c.1644del (heterozygous)</li> </ul></td><td style=\"text-align: left;\"><b>P1Y3M</b>: Elevated circulating creatinine concentration (HP:0003259)<br/>Ventricular septal defect (HP:0001629); Partial anomalous pulmonary venous return (HP:0010773); Tricuspid atresia (HP:0011662); Truncus arteriosus (HP:0001660); Protein-losing enteropathy (HP:0002243); Renal insufficiency (HP:0000083); Global developmental delay (HP:0001263); excluded: Single umbilical artery (HP:0001195); excluded: Pulmonic stenosis (HP:0001642); excluded: Horseshoe kidney (HP:0000085); excluded: Renal cyst (HP:0000107)</td></tr>\n",
       "<tr><td style=\"text-align: left;\">F3-II-2 (MALE; P5Y)</td><td style=\"text-align: left;\">Structural heart defects and renal anomalies syndrome (OMIM:617478)</td><td style=\"text-align: left;\"><ul> <li>NM_017799.4:c.1698_1701del (heterozygous)</li> <li>NM_017799.4:c.1698_1701del (heterozygous)</li> </ul></td><td style=\"text-align: left;\">Ventricular septal defect (HP:0001629); Truncus arteriosus (HP:0001660); excluded: Single umbilical artery (HP:0001195); excluded: Interrupted aortic arch (HP:0011611); excluded: Tetralogy of Fallot (HP:0001636); excluded: Right aortic arch (HP:0012020); excluded: Partial anomalous pulmonary venous return (HP:0010773); excluded: Tricuspid atresia (HP:0011662); excluded: Pulmonic stenosis (HP:0001642); excluded: Protein-losing enteropathy (HP:0002243); excluded: Microcephaly (HP:0000252); excluded: Horseshoe kidney (HP:0000085); excluded: Renal cyst (HP:0000107); excluded: Renal insufficiency (HP:0000083); excluded: Agenesis of corpus callosum (HP:0001274); excluded: Elevated circulating creatinine concentration (HP:0003259); excluded: Decreased urine output (HP:0011037); excluded: Global developmental delay (HP:0001263)</td></tr>\n",
       "<tr><td style=\"text-align: left;\">F3-II-3 (MALE; P3M)</td><td style=\"text-align: left;\">Structural heart defects and renal anomalies syndrome (OMIM:617478)</td><td style=\"text-align: left;\"><ul> <li>NM_017799.4:c.193-2A>G (heterozygous)</li> <li>NM_017799.4:c.1744G>C (heterozygous)</li> </ul></td><td style=\"text-align: left;\">Ventricular septal defect (HP:0001629); Truncus arteriosus (HP:0001660); Renal insufficiency (HP:0000083); Elevated circulating creatinine concentration (HP:0003259); Decreased urine output (HP:0011037); excluded: Single umbilical artery (HP:0001195); excluded: Interrupted aortic arch (HP:0011611); excluded: Tetralogy of Fallot (HP:0001636); excluded: Right aortic arch (HP:0012020); excluded: Partial anomalous pulmonary venous return (HP:0010773); excluded: Tricuspid atresia (HP:0011662); excluded: Pulmonic stenosis (HP:0001642); excluded: Protein-losing enteropathy (HP:0002243); excluded: Microcephaly (HP:0000252); excluded: Horseshoe kidney (HP:0000085); excluded: Renal cyst (HP:0000107); excluded: Agenesis of corpus callosum (HP:0001274)</td></tr>\n",
       "</table>"
      ],
      "text/plain": [
       "<IPython.core.display.HTML object>"
      ]
     },
     "metadata": {},
     "output_type": "display_data"
    }
   ],
   "source": [
    "table = IndividualTable(cvalidator.get_error_free_individual_list())\n",
    "display(HTML(table.to_html()))"
   ]
  },
  {
   "cell_type": "code",
   "execution_count": 14,
   "metadata": {},
   "outputs": [
    {
     "name": "stdout",
     "output_type": "stream",
     "text": [
      "[pyphetools] Ingested 9 GA4GH phenopackets.\n",
      "\tStructural heart defects and renal anomalies syndrome (OMIM:617478): n=9\n",
      "We found a total of 29 unique HPO terms\n",
      "Extracted disease: Structural heart defects and renal anomalies syndrome (OMIM:617478)\n",
      "Wrote HPOA disease file to OMIM-617478.tab\n"
     ]
    }
   ],
   "source": [
    "pmid = \"PMID:28318500\"\n",
    "df = timporter.create_hpoa_from_phenopackets(pmid=pmid, moi=\"Autosomal recessive\")"
   ]
  },
  {
   "cell_type": "code",
   "execution_count": null,
   "metadata": {},
   "outputs": [],
   "source": []
  }
 ],
 "metadata": {
  "kernelspec": {
   "display_name": "ps24venv",
   "language": "python",
   "name": "python3"
  },
  "language_info": {
   "codemirror_mode": {
    "name": "ipython",
    "version": 3
   },
   "file_extension": ".py",
   "mimetype": "text/x-python",
   "name": "python",
   "nbconvert_exporter": "python",
   "pygments_lexer": "ipython3",
   "version": "3.9.6"
  }
 },
 "nbformat": 4,
 "nbformat_minor": 2
}
