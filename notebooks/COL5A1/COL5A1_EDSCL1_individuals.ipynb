{
 "cells": [
  {
   "cell_type": "markdown",
   "metadata": {},
   "source": [
    "# COL5A1\n",
    "[Ehlers-Danlos syndrome classic type 1 (EDSCL1)]() is caused by heterozygous mutation in the collagen alpha-1(V) gene (COL5A1)."
   ]
  },
  {
   "cell_type": "code",
   "execution_count": 3,
   "metadata": {},
   "outputs": [
    {
     "name": "stdout",
     "output_type": "stream",
     "text": [
      "Using pyphetools version 0.9.91\n"
     ]
    }
   ],
   "source": [
    "from pyphetools.creation import TemplateImporter\n",
    "from pyphetools.visualization import IndividualTable, QcVisualizer\n",
    "from IPython.display import display, HTML\n",
    "import pyphetools\n",
    "print(f\"Using pyphetools version {pyphetools.__version__}\")"
   ]
  },
  {
   "cell_type": "code",
   "execution_count": 4,
   "metadata": {},
   "outputs": [],
   "source": [
    "template = \"input/COL5A1_EDSCL1_individuals.xlsx\"\n",
    "created_by = \"0000-0002-0736-9199\""
   ]
  },
  {
   "cell_type": "code",
   "execution_count": 5,
   "metadata": {},
   "outputs": [
    {
     "name": "stdout",
     "output_type": "stream",
     "text": [
      "HPO version 2024-04-26\n",
      "Created encoders for 48 fields\n",
      "Importing OMIM:130000, Ehlers-Danlos syndrome, classic type, 1, HGNC:2209, COL5A1,  NM_000093.5\n",
      "[INFO] encoding variant \"c.488G>A\"\n",
      "https://rest.variantvalidator.org/VariantValidator/variantvalidator/hg38/NM_000093.5%3Ac.488G>A/NM_000093.5?content-type=application%2Fjson\n",
      "We output 1 GA4GH phenopackets to the directory phenopackets\n"
     ]
    }
   ],
   "source": [
    "timporter = TemplateImporter(template=template,  created_by=created_by)\n",
    "individual_list, cvalidator = timporter.import_phenopackets_from_template()"
   ]
  },
  {
   "cell_type": "code",
   "execution_count": 6,
   "metadata": {},
   "outputs": [
    {
     "data": {
      "text/html": [
       "<h2>Cohort validation</h2>\n",
       "<p>No errors found for the cohort with 1 individuals</p>"
      ],
      "text/plain": [
       "<IPython.core.display.HTML object>"
      ]
     },
     "metadata": {},
     "output_type": "display_data"
    }
   ],
   "source": [
    "qc = QcVisualizer(cohort_validator=cvalidator)\n",
    "display(HTML(qc.to_summary_html()))"
   ]
  },
  {
   "cell_type": "code",
   "execution_count": 7,
   "metadata": {},
   "outputs": [
    {
     "data": {
      "text/html": [
       "<table style=\"border: 2px solid black; align: \"left\">\n",
       "<caption>1 phenopacket - PMID:38572164 (n=1)</caption>\n",
       "<tr><th style=\"text-align: left;font-weight: bold;\">Individual</th><th style=\"text-align: left;font-weight: bold;\">Disease</th><th style=\"text-align: left;font-weight: bold;\">Genotype</th><th style=\"text-align: left;font-weight: bold;\">Phenotypic features</th></tr>\n",
       "<tr><td style=\"text-align: left;\">nan (FEMALE; P39Y)</td><td style=\"text-align: left;\">Ehlers-Danlos syndrome, classic type, 1 (OMIM:130000)</td><td style=\"text-align: left;\">NM_000093.5:c.488G>A (heterozygous)</td><td style=\"text-align: left;\"><b>P29Y</b>: Bruising susceptibility (HP:0000978); Palpitations (HP:0001962); Back pain (HP:0003418); Hip pain (HP:0030838)<br/><b>P39Y</b>: Descending aortic dissection (HP:0012499)<br/>Joint hypermobility (HP:0001382); Transposition of the great arteries (HP:0001669); Scoliosis (HP:0002650); Recurrent respiratory infections (HP:0002205)</td></tr>\n",
       "</table>"
      ],
      "text/plain": [
       "<IPython.core.display.HTML object>"
      ]
     },
     "metadata": {},
     "output_type": "display_data"
    }
   ],
   "source": [
    "table = IndividualTable(cvalidator.get_error_free_individual_list())\n",
    "display(HTML(table.to_html()))"
   ]
  }
 ],
 "metadata": {
  "kernelspec": {
   "display_name": "ps24venv",
   "language": "python",
   "name": "python3"
  },
  "language_info": {
   "codemirror_mode": {
    "name": "ipython",
    "version": 3
   },
   "file_extension": ".py",
   "mimetype": "text/x-python",
   "name": "python",
   "nbconvert_exporter": "python",
   "pygments_lexer": "ipython3",
   "version": "3.9.6"
  }
 },
 "nbformat": 4,
 "nbformat_minor": 2
}
