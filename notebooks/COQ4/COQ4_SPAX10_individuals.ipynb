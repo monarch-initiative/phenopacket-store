{
 "cells": [
  {
   "cell_type": "markdown",
   "metadata": {},
   "source": [
    "# COQ4\n",
    "[autosomal recessive spastic ataxia-10 (SPAX10)](https://omim.org/entry/620666) is caused by homozygous or compound heterozygous mutation in the COQ4 gene."
   ]
  },
  {
   "cell_type": "code",
   "execution_count": 4,
   "metadata": {},
   "outputs": [
    {
     "name": "stdout",
     "output_type": "stream",
     "text": [
      "Using pyphetools version 0.9.84\n"
     ]
    }
   ],
   "source": [
    "from pyphetools.creation import TemplateImporter\n",
    "from pyphetools.visualization import IndividualTable, QcVisualizer\n",
    "from IPython.display import display, HTML\n",
    "import pyphetools\n",
    "print(f\"Using pyphetools version {pyphetools.__version__}\")"
   ]
  },
  {
   "cell_type": "code",
   "execution_count": 6,
   "metadata": {},
   "outputs": [],
   "source": [
    "template = \"input/COQ4_SPAX10_individuals.xlsx\"\n",
    "created_by = \"0000-0002-0736-9199\""
   ]
  },
  {
   "cell_type": "code",
   "execution_count": 10,
   "metadata": {},
   "outputs": [
    {
     "name": "stdout",
     "output_type": "stream",
     "text": [
      "HPO version 2024-04-26\n",
      "Created encoders for 42 fields\n",
      "Importing OMIM:620666, Spastic ataxia 10, autosomal recessive, HGNC:19693, COQ4,  NM_016035.5\n",
      "[INFO] encoding variant \"c.304C>T\"\n",
      "https://rest.variantvalidator.org/VariantValidator/variantvalidator/hg38/NM_016035.5%3Ac.304C>T/NM_016035.5?content-type=application%2Fjson\n",
      "[INFO] encoding variant \"c.533G>A\"\n",
      "https://rest.variantvalidator.org/VariantValidator/variantvalidator/hg38/NM_016035.5%3Ac.533G>A/NM_016035.5?content-type=application%2Fjson\n",
      "[INFO] encoding variant \"c.87dup\"\n",
      "https://rest.variantvalidator.org/VariantValidator/variantvalidator/hg38/NM_016035.5%3Ac.87dup/NM_016035.5?content-type=application%2Fjson\n",
      "[INFO] encoding variant \"c.433C>T\"\n",
      "https://rest.variantvalidator.org/VariantValidator/variantvalidator/hg38/NM_016035.5%3Ac.433C>T/NM_016035.5?content-type=application%2Fjson\n",
      "We output 16 GA4GH phenopackets to the directory phenopackets\n"
     ]
    }
   ],
   "source": [
    "timporter = TemplateImporter(template=template,  created_by=created_by)\n",
    "individual_list, cvalidator = timporter.import_phenopackets_from_template()"
   ]
  },
  {
   "cell_type": "code",
   "execution_count": 11,
   "metadata": {},
   "outputs": [
    {
     "data": {
      "text/html": [
       "<h2>Cohort validation</h2>\n",
       "<p>Errors found with 3 of 16 phenopackets.</p>\n",
       "<table style=\"border: 2px solid black; align: \"left\">\n",
       "<caption>Error counts</caption>\n",
       "<tr><th style=\"text-align: left;font-weight: bold;\">Level</th><th style=\"text-align: left;font-weight: bold;\">Error category</th><th style=\"text-align: left;font-weight: bold;\">Count</th></tr>\n",
       "<tr><td style=\"text-align: left;\">WARNING</td><td style=\"text-align: left;\">REDUNDANT</td><td style=\"text-align: left;\">3</td></tr>\n",
       "</table>\n",
       "<p>A total of 3 issues were fixed and no individual was removed from the cohort.</p>"
      ],
      "text/plain": [
       "<IPython.core.display.HTML object>"
      ]
     },
     "metadata": {},
     "output_type": "display_data"
    }
   ],
   "source": [
    "qc = QcVisualizer(cohort_validator=cvalidator)\n",
    "display(HTML(qc.to_summary_html()))"
   ]
  },
  {
   "cell_type": "code",
   "execution_count": 12,
   "metadata": {},
   "outputs": [
    {
     "data": {
      "text/html": [
       "<table style=\"border: 2px solid black; align: \"left\">\n",
       "<caption>16 phenopackets - PMID:36047608 (n=6); PMID:38014483 (n=7); PMID:38013626 (n=3)</caption>\n",
       "<tr><th style=\"text-align: left;font-weight: bold;\">Individual</th><th style=\"text-align: left;font-weight: bold;\">Disease</th><th style=\"text-align: left;font-weight: bold;\">Genotype</th><th style=\"text-align: left;font-weight: bold;\">Phenotypic features</th></tr>\n",
       "<tr><td style=\"text-align: left;\">Patient 1 F1:II.4 (MALE; P19Y)</td><td style=\"text-align: left;\">Spastic ataxia 10, autosomal recessive (OMIM:620666)</td><td style=\"text-align: left;\"><ul> <li>NM_016035.5:c.305G>A (heterozygous)</li> <li>NM_016035.5:c.473G>A (heterozygous)</li> </ul></td><td style=\"text-align: left;\">Limb ataxia (HP:0002070); Gait ataxia (HP:0002066); Cognitive impairment (HP:0100543); Dysarthria (HP:0001260); Lower limb spasticity (HP:0002061); Lower limb hyperreflexia (HP:0002395); excluded: Cerebellar atrophy (HP:0001272); excluded: Upper limb spasticity (HP:0006986); excluded: Hyperreflexia in upper limbs (HP:0007350); excluded: Postural tremor (HP:0002174); excluded: Babinski sign (HP:0003487)</td></tr>\n",
       "<tr><td style=\"text-align: left;\">Patient 2 F1:II:1 (FEMALE; P30Y)</td><td style=\"text-align: left;\">Spastic ataxia 10, autosomal recessive (OMIM:620666)</td><td style=\"text-align: left;\"><ul> <li>NM_016035.5:c.305G>A (heterozygous)</li> <li>NM_016035.5:c.473G>A (heterozygous)</li> </ul></td><td style=\"text-align: left;\">Gait ataxia (HP:0002066); Lower limb hyperreflexia (HP:0002395); excluded: Limb ataxia (HP:0002070); excluded: Cognitive impairment (HP:0100543); excluded: Dysarthria (HP:0001260); excluded: Lower limb spasticity (HP:0002061); excluded: Upper limb spasticity (HP:0006986); excluded: Hyperreflexia in upper limbs (HP:0007350); excluded: Postural tremor (HP:0002174); excluded: Babinski sign (HP:0003487)</td></tr>\n",
       "<tr><td style=\"text-align: left;\">Patient 3 F2:II:3 (MALE; P28Y)</td><td style=\"text-align: left;\">Spastic ataxia 10, autosomal recessive (OMIM:620666)</td><td style=\"text-align: left;\"><ul> <li>NM_016035.5:c.434G>A (heterozygous)</li> <li>NM_016035.5:c.437T>G (heterozygous)</li> </ul></td><td style=\"text-align: left;\">Limb ataxia (HP:0002070); Lower limb spasticity (HP:0002061); Hyperreflexia in upper limbs (HP:0007350); Lower limb hyperreflexia (HP:0002395); Postural tremor (HP:0002174); Babinski sign (HP:0003487); excluded: Gait ataxia (HP:0002066); excluded: Cognitive impairment (HP:0100543); excluded: Cerebellar atrophy (HP:0001272); excluded: Dysarthria (HP:0001260); excluded: Upper limb spasticity (HP:0006986)</td></tr>\n",
       "<tr><td style=\"text-align: left;\">Patient 4 F3:II:3 (MALE; P31Y)</td><td style=\"text-align: left;\">Spastic ataxia 10, autosomal recessive (OMIM:620666)</td><td style=\"text-align: left;\"><ul> <li>NM_016035.5:c.376G>A (heterozygous)</li> <li>NM_016035.5:c.473G>A (heterozygous)</li> </ul></td><td style=\"text-align: left;\">Lower limb spasticity (HP:0002061); Lower limb hyperreflexia (HP:0002395); Postural tremor (HP:0002174); excluded: Limb ataxia (HP:0002070); excluded: Gait ataxia (HP:0002066); excluded: Cognitive impairment (HP:0100543); excluded: Cerebellar atrophy (HP:0001272); excluded: Dysarthria (HP:0001260); excluded: Upper limb spasticity (HP:0006986); excluded: Hyperreflexia in upper limbs (HP:0007350); excluded: Babinski sign (HP:0003487)</td></tr>\n",
       "<tr><td style=\"text-align: left;\">Patient 5 F4:II:2 (FEMALE; P49Y)</td><td style=\"text-align: left;\">Spastic ataxia 10, autosomal recessive (OMIM:620666)</td><td style=\"text-align: left;\">NM_016035.5:c.202+4A>C (homozygous)</td><td style=\"text-align: left;\">Limb ataxia (HP:0002070); Gait ataxia (HP:0002066); Cognitive impairment (HP:0100543); Cerebellar atrophy (HP:0001272); Dysarthria (HP:0001260); excluded: Lower limb spasticity (HP:0002061); excluded: Upper limb spasticity (HP:0006986); excluded: Hyperreflexia in upper limbs (HP:0007350); excluded: Lower limb hyperreflexia (HP:0002395); excluded: Postural tremor (HP:0002174); excluded: Babinski sign (HP:0003487)</td></tr>\n",
       "<tr><td style=\"text-align: left;\">Patient 6 F4:II:1 (FEMALE; P52Y)</td><td style=\"text-align: left;\">Spastic ataxia 10, autosomal recessive (OMIM:620666)</td><td style=\"text-align: left;\">NM_016035.5:c.202+4A>C (homozygous)</td><td style=\"text-align: left;\">Limb ataxia (HP:0002070); Gait ataxia (HP:0002066); Cognitive impairment (HP:0100543); Cerebellar atrophy (HP:0001272); Dysarthria (HP:0001260); excluded: Lower limb spasticity (HP:0002061); excluded: Upper limb spasticity (HP:0006986); excluded: Hyperreflexia in upper limbs (HP:0007350); excluded: Lower limb hyperreflexia (HP:0002395); excluded: Postural tremor (HP:0002174); excluded: Babinski sign (HP:0003487)</td></tr>\n",
       "<tr><td style=\"text-align: left;\">Family a individual a.3 (MALE; P37Y)</td><td style=\"text-align: left;\">Spastic ataxia 10, autosomal recessive (OMIM:620666)</td><td style=\"text-align: left;\"><ul> <li>NM_016035.5:c.370G>A (heterozygous)</li> <li>NM_016035.5:c.434G>A (heterozygous)</li> </ul></td><td style=\"text-align: left;\">Lower limb spasticity (HP:0002061); Lower limb hyperreflexia (HP:0002395); excluded: Limb ataxia (HP:0002070); excluded: Gait ataxia (HP:0002066); excluded: Cognitive impairment (HP:0100543); excluded: Dysarthria (HP:0001260); excluded: Babinski sign (HP:0003487)</td></tr>\n",
       "<tr><td style=\"text-align: left;\">Family b individual b.3 (FEMALE; P18Y)</td><td style=\"text-align: left;\">Spastic ataxia 10, autosomal recessive (OMIM:620666)</td><td style=\"text-align: left;\"><ul> <li>NM_016035.5:c.550T>C (heterozygous)</li> <li>NM_016035.5:c.719G>A (heterozygous)</li> </ul></td><td style=\"text-align: left;\">Lower limb spasticity (HP:0002061); Lower limb hyperreflexia (HP:0002395); Babinski sign (HP:0003487); excluded: Limb ataxia (HP:0002070); excluded: Gait ataxia (HP:0002066); excluded: Cognitive impairment (HP:0100543); excluded: Cerebellar atrophy (HP:0001272); excluded: Cerebellar vermis hypoplasia (HP:0001320); excluded: Dysarthria (HP:0001260)</td></tr>\n",
       "<tr><td style=\"text-align: left;\">Family c individual c.3 (FEMALE; P20Y)</td><td style=\"text-align: left;\">Spastic ataxia 10, autosomal recessive (OMIM:620666)</td><td style=\"text-align: left;\"><ul> <li>NM_016035.5:c.370G>A (heterozygous)</li> <li>NM_016035.5:c.745C>T (heterozygous)</li> </ul></td><td style=\"text-align: left;\">Lower limb spasticity (HP:0002061); Lower limb hyperreflexia (HP:0002395); Babinski sign (HP:0003487); excluded: Limb ataxia (HP:0002070); excluded: Gait ataxia (HP:0002066); excluded: Cognitive impairment (HP:0100543); excluded: Cerebellar atrophy (HP:0001272); excluded: Cerebellar vermis hypoplasia (HP:0001320); excluded: Dysarthria (HP:0001260)</td></tr>\n",
       "<tr><td style=\"text-align: left;\">Family c individual c.4 (FEMALE; P20Y)</td><td style=\"text-align: left;\">Spastic ataxia 10, autosomal recessive (OMIM:620666)</td><td style=\"text-align: left;\"><ul> <li>NM_016035.5:c.370G>A (heterozygous)</li> <li>NM_016035.5:c.745C>T (heterozygous)</li> </ul></td><td style=\"text-align: left;\">Lower limb spasticity (HP:0002061); Lower limb hyperreflexia (HP:0002395); Babinski sign (HP:0003487); excluded: Limb ataxia (HP:0002070); excluded: Gait ataxia (HP:0002066); excluded: Cognitive impairment (HP:0100543); excluded: Cerebellar atrophy (HP:0001272); excluded: Cerebellar vermis hypoplasia (HP:0001320); excluded: Dysarthria (HP:0001260)</td></tr>\n",
       "<tr><td style=\"text-align: left;\">Family d individual d.4 (MALE; P31Y)</td><td style=\"text-align: left;\">Spastic ataxia 10, autosomal recessive (OMIM:620666)</td><td style=\"text-align: left;\"><ul> <li>NM_016035.5:c.403-1G>C (heterozygous)</li> <li>NM_016035.5:c.719G>A (heterozygous)</li> </ul></td><td style=\"text-align: left;\">Lower limb spasticity (HP:0002061); Lower limb hyperreflexia (HP:0002395); Babinski sign (HP:0003487); excluded: Limb ataxia (HP:0002070); excluded: Gait ataxia (HP:0002066); excluded: Cognitive impairment (HP:0100543); excluded: Cerebellar atrophy (HP:0001272); excluded: Cerebellar vermis hypoplasia (HP:0001320); excluded: Dysarthria (HP:0001260)</td></tr>\n",
       "<tr><td style=\"text-align: left;\">Family e individual e.1 (FEMALE; P65Y)</td><td style=\"text-align: left;\">Spastic ataxia 10, autosomal recessive (OMIM:620666)</td><td style=\"text-align: left;\"><ul> <li>NM_016035.5:c.370G>A (heterozygous)</li> <li>NM_016035.5:c.376G>A (heterozygous)</li> </ul></td><td style=\"text-align: left;\">Lower limb spasticity (HP:0002061); Lower limb hyperreflexia (HP:0002395); Babinski sign (HP:0003487); excluded: Limb ataxia (HP:0002070); excluded: Gait ataxia (HP:0002066); excluded: Cognitive impairment (HP:0100543); excluded: Cerebellar atrophy (HP:0001272); excluded: Cerebellar vermis hypoplasia (HP:0001320); excluded: Dysarthria (HP:0001260)</td></tr>\n",
       "<tr><td style=\"text-align: left;\">Family f individual f.3 (MALE; P35Y)</td><td style=\"text-align: left;\">Spastic ataxia 10, autosomal recessive (OMIM:620666)</td><td style=\"text-align: left;\"><ul> <li>NM_016035.5:c.402+1G>C (heterozygous)</li> <li>NM_016035.5:c.719G>A (heterozygous)</li> </ul></td><td style=\"text-align: left;\">Limb ataxia (HP:0002070); Gait ataxia (HP:0002066); Cerebellar vermis hypoplasia (HP:0001320); Lower limb spasticity (HP:0002061); Lower limb hyperreflexia (HP:0002395); Babinski sign (HP:0003487); excluded: Cognitive impairment (HP:0100543); excluded: Cerebellar atrophy (HP:0001272); excluded: Dysarthria (HP:0001260)</td></tr>\n",
       "<tr><td style=\"text-align: left;\">Patient 1 (II-1 in Family 1) (MALE; P15Y)</td><td style=\"text-align: left;\">Spastic ataxia 10, autosomal recessive (OMIM:620666)</td><td style=\"text-align: left;\"><ul> <li>NM_016035.5:c.87dup (heterozygous)</li> <li>NM_016035.5:c.433C>T (heterozygous)</li> </ul></td><td style=\"text-align: left;\"><b>P15Y</b>: Loss of ambulation (HP:0002505); Ankle clonus (HP:0011448); Knee clonus (HP:0011449)<br/>Lower limb spasticity (HP:0002061); Hyperreflexia in upper limbs (HP:0007350); Lower limb hyperreflexia (HP:0002395); Babinski sign (HP:0003487); excluded: Visual impairment (HP:0000505); excluded: Hippocampal sclerosis (HP:0033715)</td></tr>\n",
       "<tr><td style=\"text-align: left;\">Patient 2 (FEMALE; P27Y)</td><td style=\"text-align: left;\">Spastic ataxia 10, autosomal recessive (OMIM:620666)</td><td style=\"text-align: left;\"><ul> <li>NM_016035.5:c.305G>A (heterozygous)</li> <li>NM_016035.5:c.533G>A (heterozygous)</li> </ul></td><td style=\"text-align: left;\"><b>P17Y</b>: Postural instability (HP:0002172)<br/><b>P22Y</b>: Dysarthria (HP:0001260); Seizure (HP:0001250)<br/><b>P27Y</b>: Babinski sign (HP:0003487); Visual impairment (HP:0000505); Hypertonia (HP:0001276); Hippocampal sclerosis (HP:0033715)<br/>Hyperreflexia in upper limbs (HP:0007350); Lower limb hyperreflexia (HP:0002395)</td></tr>\n",
       "<tr><td style=\"text-align: left;\">Patient 3 (MALE; P15Y)</td><td style=\"text-align: left;\">Spastic ataxia 10, autosomal recessive (OMIM:620666)</td><td style=\"text-align: left;\"><ul> <li>NM_016035.5:c.305G>A (heterozygous)</li> <li>NM_016035.5:c.304C>T (heterozygous)</li> </ul></td><td style=\"text-align: left;\"><b>P15Y</b>: Hoffmann sign (HP:0031993)<br/>Lower limb spasticity (HP:0002061); Hyperreflexia in upper limbs (HP:0007350); Lower limb hyperreflexia (HP:0002395); Babinski sign (HP:0003487); excluded: Cognitive impairment (HP:0100543); excluded: Dysarthria (HP:0001260); excluded: Visual impairment (HP:0000505); excluded: Hippocampal sclerosis (HP:0033715)</td></tr>\n",
       "</table>"
      ],
      "text/plain": [
       "<IPython.core.display.HTML object>"
      ]
     },
     "metadata": {},
     "output_type": "display_data"
    }
   ],
   "source": [
    "table = IndividualTable(cvalidator.get_error_free_individual_list())\n",
    "display(HTML(table.to_html()))"
   ]
  },
  {
   "cell_type": "code",
   "execution_count": 13,
   "metadata": {},
   "outputs": [
    {
     "name": "stdout",
     "output_type": "stream",
     "text": [
      "[pyphetools] Ingested 16 GA4GH phenopackets.\n",
      "[INFO] Extracted 16 from 16 phenopackets with OMIM:620666\n",
      "\n",
      "\tSpastic ataxia 10, autosomal recessive (OMIM:620666): n=16\n",
      "We found a total of 21 unique HPO terms\n",
      "Extracted disease: Spastic ataxia 10, autosomal recessive (OMIM:620666)\n",
      "Wrote HPOA disease file to OMIM-620666.tab\n"
     ]
    }
   ],
   "source": [
    "pmid = \"PMID:36047608\"\n",
    "df = timporter.create_hpoa_from_phenopackets(pmid=pmid, moi=\"Autosomal recessive\", target=\"OMIM:620666\")"
   ]
  }
 ],
 "metadata": {
  "kernelspec": {
   "display_name": "ps24venv",
   "language": "python",
   "name": "python3"
  },
  "language_info": {
   "codemirror_mode": {
    "name": "ipython",
    "version": 3
   },
   "file_extension": ".py",
   "mimetype": "text/x-python",
   "name": "python",
   "nbconvert_exporter": "python",
   "pygments_lexer": "ipython3",
   "version": "3.9.6"
  }
 },
 "nbformat": 4,
 "nbformat_minor": 2
}
