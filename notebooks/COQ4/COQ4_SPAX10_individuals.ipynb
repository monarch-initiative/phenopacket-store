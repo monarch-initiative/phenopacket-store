{
 "cells": [
  {
   "cell_type": "markdown",
   "metadata": {},
   "source": [
    "# COQ4\n",
    "[autosomal recessive spastic ataxia-10 (SPAX10)](https://omim.org/entry/620666) is caused by homozygous or compound heterozygous mutation in the COQ4 gene."
   ]
  },
  {
   "cell_type": "code",
   "execution_count": 1,
   "metadata": {},
   "outputs": [
    {
     "name": "stdout",
     "output_type": "stream",
     "text": [
      "Using pyphetools version 0.9.108\n"
     ]
    }
   ],
   "source": [
    "from pyphetools.creation import TemplateImporter, Moi\n",
    "from pyphetools.visualization import IndividualTable, QcVisualizer\n",
    "from IPython.display import display, HTML\n",
    "import pyphetools\n",
    "print(f\"Using pyphetools version {pyphetools.__version__}\")"
   ]
  },
  {
   "cell_type": "code",
   "execution_count": 2,
   "metadata": {},
   "outputs": [],
   "source": [
    "template = \"input/COQ4_SPAX10_individuals.xlsx\"\n",
    "created_by = \"0000-0002-0736-9199\""
   ]
  },
  {
   "cell_type": "code",
   "execution_count": 3,
   "metadata": {},
   "outputs": [
    {
     "name": "stdout",
     "output_type": "stream",
     "text": [
      "HPO version 2024-08-13\n",
      "Created encoders for 42 fields\n",
      "Importing OMIM:620666, Spastic ataxia 10, autosomal recessive, HGNC:19693, COQ4,  NM_016035.5\n",
      "We output 16 GA4GH phenopackets to the directory phenopackets\n"
     ]
    }
   ],
   "source": [
    "timporter = TemplateImporter(template=template,  created_by=created_by)\n",
    "individual_list, cvalidator = timporter.import_phenopackets_from_template()"
   ]
  },
  {
   "cell_type": "code",
   "execution_count": 4,
   "metadata": {},
   "outputs": [
    {
     "data": {
      "text/html": [
       "<h2>Cohort validation</h2>\n",
       "<p>Errors found with 3 of 16 phenopackets.</p>\n",
       "<table style=\"border: 2px solid black; align: \"left\">\n",
       "<caption>Error counts</caption>\n",
       "<tr><th style=\"text-align: left;font-weight: bold;\">Level</th><th style=\"text-align: left;font-weight: bold;\">Error category</th><th style=\"text-align: left;font-weight: bold;\">Count</th></tr>\n",
       "<tr><td style=\"text-align: left;\">WARNING</td><td style=\"text-align: left;\">REDUNDANT</td><td style=\"text-align: left;\">3</td></tr>\n",
       "</table>\n",
       "<p>A total of 3 issues were fixed and no individual was removed from the cohort.</p>"
      ],
      "text/plain": [
       "<IPython.core.display.HTML object>"
      ]
     },
     "metadata": {},
     "output_type": "display_data"
    }
   ],
   "source": [
    "qc = QcVisualizer(cohort_validator=cvalidator)\n",
    "display(HTML(qc.to_summary_html()))"
   ]
  },
  {
   "cell_type": "code",
   "execution_count": 5,
   "metadata": {},
   "outputs": [
    {
     "data": {
      "text/html": [
       "<table style=\"border: 2px solid black; align: \"left\">\n",
       "<caption>16 phenopackets - PMID:36047608 (n=6); PMID:38014483 (n=7); PMID:38013626 (n=3)</caption>\n",
       "<tr><th style=\"text-align: left;font-weight: bold;\">Individual</th><th style=\"text-align: left;font-weight: bold;\">Disease</th><th style=\"text-align: left;font-weight: bold;\">Genotype</th><th style=\"text-align: left;font-weight: bold;\">Phenotypic features</th></tr>\n",
       "<tr><td style=\"text-align: left;\">Patient 1 F1:II.4 (MALE; P19Y)</td><td style=\"text-align: left;\">Spastic ataxia 10, autosomal recessive (OMIM:620666)</td><td style=\"text-align: left;\"><ul> <li>NM_016035.5:c.305G>A (heterozygous)</li> <li>NM_016035.5:c.473G>A (heterozygous)</li> </ul></td><td style=\"text-align: left;\">Limb ataxia (HP:0002070): onset ; Gait ataxia (HP:0002066): onset ; Cognitive impairment (HP:0100543): onset ; Dysarthria (HP:0001260): onset ; Lower limb spasticity (HP:0002061): onset ; Lower limb hyperreflexia (HP:0002395): onset ; excluded: Cerebellar atrophy (HP:0001272): onset ; excluded: Upper limb spasticity (HP:0006986): onset ; excluded: Hyperreflexia in upper limbs (HP:0007350): onset ; excluded: Postural tremor (HP:0002174): onset ; excluded: Babinski sign (HP:0003487): onset </td></tr>\n",
       "<tr><td style=\"text-align: left;\">Patient 2 F1:II:1 (FEMALE; P30Y)</td><td style=\"text-align: left;\">Spastic ataxia 10, autosomal recessive (OMIM:620666)</td><td style=\"text-align: left;\"><ul> <li>NM_016035.5:c.305G>A (heterozygous)</li> <li>NM_016035.5:c.473G>A (heterozygous)</li> </ul></td><td style=\"text-align: left;\">Gait ataxia (HP:0002066): onset ; Lower limb hyperreflexia (HP:0002395): onset ; excluded: Limb ataxia (HP:0002070): onset ; excluded: Cognitive impairment (HP:0100543): onset ; excluded: Dysarthria (HP:0001260): onset ; excluded: Lower limb spasticity (HP:0002061): onset ; excluded: Upper limb spasticity (HP:0006986): onset ; excluded: Hyperreflexia in upper limbs (HP:0007350): onset ; excluded: Postural tremor (HP:0002174): onset ; excluded: Babinski sign (HP:0003487): onset </td></tr>\n",
       "<tr><td style=\"text-align: left;\">Patient 3 F2:II:3 (MALE; P28Y)</td><td style=\"text-align: left;\">Spastic ataxia 10, autosomal recessive (OMIM:620666)</td><td style=\"text-align: left;\"><ul> <li>NM_016035.5:c.434G>A (heterozygous)</li> <li>NM_016035.5:c.437T>G (heterozygous)</li> </ul></td><td style=\"text-align: left;\">Limb ataxia (HP:0002070): onset ; Lower limb spasticity (HP:0002061): onset ; Hyperreflexia in upper limbs (HP:0007350): onset ; Lower limb hyperreflexia (HP:0002395): onset ; Postural tremor (HP:0002174): onset ; Babinski sign (HP:0003487): onset ; excluded: Gait ataxia (HP:0002066): onset ; excluded: Cognitive impairment (HP:0100543): onset ; excluded: Cerebellar atrophy (HP:0001272): onset ; excluded: Dysarthria (HP:0001260): onset ; excluded: Upper limb spasticity (HP:0006986): onset </td></tr>\n",
       "<tr><td style=\"text-align: left;\">Patient 4 F3:II:3 (MALE; P31Y)</td><td style=\"text-align: left;\">Spastic ataxia 10, autosomal recessive (OMIM:620666)</td><td style=\"text-align: left;\"><ul> <li>NM_016035.5:c.376G>A (heterozygous)</li> <li>NM_016035.5:c.473G>A (heterozygous)</li> </ul></td><td style=\"text-align: left;\">Lower limb spasticity (HP:0002061): onset ; Lower limb hyperreflexia (HP:0002395): onset ; Postural tremor (HP:0002174): onset ; excluded: Limb ataxia (HP:0002070): onset ; excluded: Gait ataxia (HP:0002066): onset ; excluded: Cognitive impairment (HP:0100543): onset ; excluded: Cerebellar atrophy (HP:0001272): onset ; excluded: Dysarthria (HP:0001260): onset ; excluded: Upper limb spasticity (HP:0006986): onset ; excluded: Hyperreflexia in upper limbs (HP:0007350): onset ; excluded: Babinski sign (HP:0003487): onset </td></tr>\n",
       "<tr><td style=\"text-align: left;\">Patient 5 F4:II:2 (FEMALE; P49Y)</td><td style=\"text-align: left;\">Spastic ataxia 10, autosomal recessive (OMIM:620666)</td><td style=\"text-align: left;\">NM_016035.5:c.202+4A>C (homozygous)</td><td style=\"text-align: left;\">Limb ataxia (HP:0002070): onset ; Gait ataxia (HP:0002066): onset ; Cognitive impairment (HP:0100543): onset ; Cerebellar atrophy (HP:0001272): onset ; Dysarthria (HP:0001260): onset ; excluded: Lower limb spasticity (HP:0002061): onset ; excluded: Upper limb spasticity (HP:0006986): onset ; excluded: Hyperreflexia in upper limbs (HP:0007350): onset ; excluded: Lower limb hyperreflexia (HP:0002395): onset ; excluded: Postural tremor (HP:0002174): onset ; excluded: Babinski sign (HP:0003487): onset </td></tr>\n",
       "<tr><td style=\"text-align: left;\">Patient 6 F4:II:1 (FEMALE; P52Y)</td><td style=\"text-align: left;\">Spastic ataxia 10, autosomal recessive (OMIM:620666)</td><td style=\"text-align: left;\">NM_016035.5:c.202+4A>C (homozygous)</td><td style=\"text-align: left;\">Limb ataxia (HP:0002070): onset ; Gait ataxia (HP:0002066): onset ; Cognitive impairment (HP:0100543): onset ; Cerebellar atrophy (HP:0001272): onset ; Dysarthria (HP:0001260): onset ; excluded: Lower limb spasticity (HP:0002061): onset ; excluded: Upper limb spasticity (HP:0006986): onset ; excluded: Hyperreflexia in upper limbs (HP:0007350): onset ; excluded: Lower limb hyperreflexia (HP:0002395): onset ; excluded: Postural tremor (HP:0002174): onset ; excluded: Babinski sign (HP:0003487): onset </td></tr>\n",
       "<tr><td style=\"text-align: left;\">Family a individual a.3 (MALE; P37Y)</td><td style=\"text-align: left;\">Spastic ataxia 10, autosomal recessive (OMIM:620666)</td><td style=\"text-align: left;\"><ul> <li>NM_016035.5:c.370G>A (heterozygous)</li> <li>NM_016035.5:c.434G>A (heterozygous)</li> </ul></td><td style=\"text-align: left;\">Lower limb spasticity (HP:0002061): onset ; Lower limb hyperreflexia (HP:0002395): onset ; excluded: Limb ataxia (HP:0002070): onset ; excluded: Gait ataxia (HP:0002066): onset ; excluded: Cognitive impairment (HP:0100543): onset ; excluded: Dysarthria (HP:0001260): onset ; excluded: Babinski sign (HP:0003487): onset </td></tr>\n",
       "<tr><td style=\"text-align: left;\">Family b individual b.3 (FEMALE; P18Y)</td><td style=\"text-align: left;\">Spastic ataxia 10, autosomal recessive (OMIM:620666)</td><td style=\"text-align: left;\"><ul> <li>NM_016035.5:c.550T>C (heterozygous)</li> <li>NM_016035.5:c.719G>A (heterozygous)</li> </ul></td><td style=\"text-align: left;\">Lower limb spasticity (HP:0002061): onset ; Lower limb hyperreflexia (HP:0002395): onset ; Babinski sign (HP:0003487): onset ; excluded: Limb ataxia (HP:0002070): onset ; excluded: Gait ataxia (HP:0002066): onset ; excluded: Cognitive impairment (HP:0100543): onset ; excluded: Cerebellar atrophy (HP:0001272): onset ; excluded: Cerebellar vermis hypoplasia (HP:0001320): onset ; excluded: Dysarthria (HP:0001260): onset </td></tr>\n",
       "<tr><td style=\"text-align: left;\">Family c individual c.3 (FEMALE; P20Y)</td><td style=\"text-align: left;\">Spastic ataxia 10, autosomal recessive (OMIM:620666)</td><td style=\"text-align: left;\"><ul> <li>NM_016035.5:c.370G>A (heterozygous)</li> <li>NM_016035.5:c.745C>T (heterozygous)</li> </ul></td><td style=\"text-align: left;\">Lower limb spasticity (HP:0002061): onset ; Lower limb hyperreflexia (HP:0002395): onset ; Babinski sign (HP:0003487): onset ; excluded: Limb ataxia (HP:0002070): onset ; excluded: Gait ataxia (HP:0002066): onset ; excluded: Cognitive impairment (HP:0100543): onset ; excluded: Cerebellar atrophy (HP:0001272): onset ; excluded: Cerebellar vermis hypoplasia (HP:0001320): onset ; excluded: Dysarthria (HP:0001260): onset </td></tr>\n",
       "<tr><td style=\"text-align: left;\">Family c individual c.4 (FEMALE; P20Y)</td><td style=\"text-align: left;\">Spastic ataxia 10, autosomal recessive (OMIM:620666)</td><td style=\"text-align: left;\"><ul> <li>NM_016035.5:c.370G>A (heterozygous)</li> <li>NM_016035.5:c.745C>T (heterozygous)</li> </ul></td><td style=\"text-align: left;\">Lower limb spasticity (HP:0002061): onset ; Lower limb hyperreflexia (HP:0002395): onset ; Babinski sign (HP:0003487): onset ; excluded: Limb ataxia (HP:0002070): onset ; excluded: Gait ataxia (HP:0002066): onset ; excluded: Cognitive impairment (HP:0100543): onset ; excluded: Cerebellar atrophy (HP:0001272): onset ; excluded: Cerebellar vermis hypoplasia (HP:0001320): onset ; excluded: Dysarthria (HP:0001260): onset </td></tr>\n",
       "<tr><td style=\"text-align: left;\">Family d individual d.4 (MALE; P31Y)</td><td style=\"text-align: left;\">Spastic ataxia 10, autosomal recessive (OMIM:620666)</td><td style=\"text-align: left;\"><ul> <li>NM_016035.5:c.403-1G>C (heterozygous)</li> <li>NM_016035.5:c.719G>A (heterozygous)</li> </ul></td><td style=\"text-align: left;\">Lower limb spasticity (HP:0002061): onset ; Lower limb hyperreflexia (HP:0002395): onset ; Babinski sign (HP:0003487): onset ; excluded: Limb ataxia (HP:0002070): onset ; excluded: Gait ataxia (HP:0002066): onset ; excluded: Cognitive impairment (HP:0100543): onset ; excluded: Cerebellar atrophy (HP:0001272): onset ; excluded: Cerebellar vermis hypoplasia (HP:0001320): onset ; excluded: Dysarthria (HP:0001260): onset </td></tr>\n",
       "<tr><td style=\"text-align: left;\">Family e individual e.1 (FEMALE; P65Y)</td><td style=\"text-align: left;\">Spastic ataxia 10, autosomal recessive (OMIM:620666)</td><td style=\"text-align: left;\"><ul> <li>NM_016035.5:c.370G>A (heterozygous)</li> <li>NM_016035.5:c.376G>A (heterozygous)</li> </ul></td><td style=\"text-align: left;\">Lower limb spasticity (HP:0002061): onset ; Lower limb hyperreflexia (HP:0002395): onset ; Babinski sign (HP:0003487): onset ; excluded: Limb ataxia (HP:0002070): onset ; excluded: Gait ataxia (HP:0002066): onset ; excluded: Cognitive impairment (HP:0100543): onset ; excluded: Cerebellar atrophy (HP:0001272): onset ; excluded: Cerebellar vermis hypoplasia (HP:0001320): onset ; excluded: Dysarthria (HP:0001260): onset </td></tr>\n",
       "<tr><td style=\"text-align: left;\">Family f individual f.3 (MALE; P35Y)</td><td style=\"text-align: left;\">Spastic ataxia 10, autosomal recessive (OMIM:620666)</td><td style=\"text-align: left;\"><ul> <li>NM_016035.5:c.402+1G>C (heterozygous)</li> <li>NM_016035.5:c.719G>A (heterozygous)</li> </ul></td><td style=\"text-align: left;\">Limb ataxia (HP:0002070): onset ; Gait ataxia (HP:0002066): onset ; Cerebellar vermis hypoplasia (HP:0001320): onset ; Lower limb spasticity (HP:0002061): onset ; Lower limb hyperreflexia (HP:0002395): onset ; Babinski sign (HP:0003487): onset ; excluded: Cognitive impairment (HP:0100543): onset ; excluded: Cerebellar atrophy (HP:0001272): onset ; excluded: Dysarthria (HP:0001260): onset </td></tr>\n",
       "<tr><td style=\"text-align: left;\">Patient 1 (II-1 in Family 1) (MALE; P15Y)</td><td style=\"text-align: left;\">Spastic ataxia 10, autosomal recessive (OMIM:620666)</td><td style=\"text-align: left;\"><ul> <li>NM_016035.5:c.87dup (heterozygous)</li> <li>NM_016035.5:c.433C>T (heterozygous)</li> </ul></td><td style=\"text-align: left;\">Lower limb spasticity (HP:0002061): onset ; Hyperreflexia in upper limbs (HP:0007350): onset ; Lower limb hyperreflexia (HP:0002395): onset ; Babinski sign (HP:0003487): onset ; excluded: Visual impairment (HP:0000505): onset ; excluded: Hippocampal sclerosis (HP:0033715): onset <br/><b>TimeElement(element=Age(iso8601duration=P15Y))</b>: Loss of ambulation (HP:0002505): onset age {\n",
       "  iso8601duration: \"P15Y\"\n",
       "}\n",
       "; Ankle clonus (HP:0011448): onset age {\n",
       "  iso8601duration: \"P15Y\"\n",
       "}\n",
       "; Knee clonus (HP:0011449): onset age {\n",
       "  iso8601duration: \"P15Y\"\n",
       "}\n",
       "</td></tr>\n",
       "<tr><td style=\"text-align: left;\">Patient 2 (FEMALE; P27Y)</td><td style=\"text-align: left;\">Spastic ataxia 10, autosomal recessive (OMIM:620666)</td><td style=\"text-align: left;\"><ul> <li>NM_016035.5:c.305G>A (heterozygous)</li> <li>NM_016035.5:c.533G>A (heterozygous)</li> </ul></td><td style=\"text-align: left;\">Hyperreflexia in upper limbs (HP:0007350): onset ; Lower limb hyperreflexia (HP:0002395): onset <br/><b>TimeElement(element=Age(iso8601duration=P17Y))</b>: Postural instability (HP:0002172): onset age {\n",
       "  iso8601duration: \"P17Y\"\n",
       "}\n",
       "<br/><b>TimeElement(element=Age(iso8601duration=P22Y))</b>: Dysarthria (HP:0001260): onset age {\n",
       "  iso8601duration: \"P22Y\"\n",
       "}\n",
       "; Seizure (HP:0001250): onset age {\n",
       "  iso8601duration: \"P22Y\"\n",
       "}\n",
       "<br/><b>TimeElement(element=Age(iso8601duration=P27Y))</b>: Babinski sign (HP:0003487): onset age {\n",
       "  iso8601duration: \"P27Y\"\n",
       "}\n",
       "; Visual impairment (HP:0000505): onset age {\n",
       "  iso8601duration: \"P27Y\"\n",
       "}\n",
       "; Hypertonia (HP:0001276): onset age {\n",
       "  iso8601duration: \"P27Y\"\n",
       "}\n",
       "; Hippocampal sclerosis (HP:0033715): onset age {\n",
       "  iso8601duration: \"P27Y\"\n",
       "}\n",
       "</td></tr>\n",
       "<tr><td style=\"text-align: left;\">Patient 3 (MALE; P15Y)</td><td style=\"text-align: left;\">Spastic ataxia 10, autosomal recessive (OMIM:620666)</td><td style=\"text-align: left;\"><ul> <li>NM_016035.5:c.305G>A (heterozygous)</li> <li>NM_016035.5:c.304C>T (heterozygous)</li> </ul></td><td style=\"text-align: left;\">Lower limb spasticity (HP:0002061): onset ; Hyperreflexia in upper limbs (HP:0007350): onset ; Lower limb hyperreflexia (HP:0002395): onset ; Babinski sign (HP:0003487): onset ; excluded: Cognitive impairment (HP:0100543): onset ; excluded: Dysarthria (HP:0001260): onset ; excluded: Visual impairment (HP:0000505): onset ; excluded: Hippocampal sclerosis (HP:0033715): onset <br/><b>TimeElement(element=Age(iso8601duration=P15Y))</b>: Hoffmann sign (HP:0031993): onset age {\n",
       "  iso8601duration: \"P15Y\"\n",
       "}\n",
       "</td></tr>\n",
       "</table>"
      ],
      "text/plain": [
       "<IPython.core.display.HTML object>"
      ]
     },
     "metadata": {},
     "output_type": "display_data"
    }
   ],
   "source": [
    "table = IndividualTable(cvalidator.get_error_free_individual_list())\n",
    "display(HTML(table.to_html()))"
   ]
  },
  {
   "cell_type": "code",
   "execution_count": 6,
   "metadata": {},
   "outputs": [
    {
     "name": "stdout",
     "output_type": "stream",
     "text": [
      "[pyphetools] Ingested 42 GA4GH phenopackets.\n",
      "[INFO] Extracted 16 from 42 phenopackets with OMIM:620666\n",
      "\n",
      "\tSpastic ataxia 10, autosomal recessive (OMIM:620666): n=16\n",
      "We found a total of 21 unique HPO terms\n",
      "Extracted disease: Spastic ataxia 10, autosomal recessive (OMIM:620666)\n",
      "Wrote HPOA disease file to OMIM-620666.tab\n"
     ]
    }
   ],
   "source": [
    "pmid = \"PMID:36047608\"\n",
    "df = timporter.create_hpoa_from_phenopackets(pmid=pmid, mode_of_inheritance=Moi.AR, target=\"OMIM:620666\")"
   ]
  }
 ],
 "metadata": {
  "kernelspec": {
   "display_name": "ps24venv",
   "language": "python",
   "name": "python3"
  },
  "language_info": {
   "codemirror_mode": {
    "name": "ipython",
    "version": 3
   },
   "file_extension": ".py",
   "mimetype": "text/x-python",
   "name": "python",
   "nbconvert_exporter": "python",
   "pygments_lexer": "ipython3",
   "version": "3.12.4"
  }
 },
 "nbformat": 4,
 "nbformat_minor": 2
}
