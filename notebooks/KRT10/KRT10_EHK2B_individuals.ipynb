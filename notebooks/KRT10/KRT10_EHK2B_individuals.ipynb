{
 "cells": [
  {
   "cell_type": "markdown",
   "metadata": {},
   "source": [
    "# KRT10_EHK2B_individuals.iypnb\n",
    "[autosomal recessive epidermolytic hyperkeratosis-2B (EHK2B)](https://omim.org/entry/620707) is caused by homozygous mutation in the KRT10 gene."
   ]
  },
  {
   "cell_type": "code",
   "execution_count": 1,
   "metadata": {},
   "outputs": [
    {
     "name": "stdout",
     "output_type": "stream",
     "text": [
      "Using pyphetools version 0.9.91\n"
     ]
    },
    {
     "name": "stderr",
     "output_type": "stream",
     "text": [
      "/Users/robin/GIT/phenopacket-store/ps24venv/lib/python3.9/site-packages/urllib3/__init__.py:35: NotOpenSSLWarning: urllib3 v2 only supports OpenSSL 1.1.1+, currently the 'ssl' module is compiled with 'LibreSSL 2.8.3'. See: https://github.com/urllib3/urllib3/issues/3020\n",
      "  warnings.warn(\n"
     ]
    }
   ],
   "source": [
    "from pyphetools.creation import TemplateImporter\n",
    "from pyphetools.visualization import IndividualTable, QcVisualizer\n",
    "from IPython.display import display, HTML\n",
    "import pyphetools\n",
    "print(f\"Using pyphetools version {pyphetools.__version__}\")"
   ]
  },
  {
   "cell_type": "code",
   "execution_count": 2,
   "metadata": {},
   "outputs": [],
   "source": [
    "template = \"input/KRT10_EHK2B_individuals.xlsx\"\n",
    "created_by = \"0000-0002-0736-9199\""
   ]
  },
  {
   "cell_type": "code",
   "execution_count": 3,
   "metadata": {},
   "outputs": [
    {
     "name": "stdout",
     "output_type": "stream",
     "text": [
      "HPO version 2024-04-26\n",
      "Created encoders for 30 fields\n",
      "Importing OMIM:620707, Epidermolytic hyperkeratosis 2B, autosomal recessive, HGNC:6413, KRT10,  NM_000421.5\n",
      "We output 4 GA4GH phenopackets to the directory phenopackets\n"
     ]
    }
   ],
   "source": [
    "timporter = TemplateImporter(template=template,  created_by=created_by)\n",
    "individual_list, cvalidator = timporter.import_phenopackets_from_template()"
   ]
  },
  {
   "cell_type": "code",
   "execution_count": 4,
   "metadata": {},
   "outputs": [
    {
     "data": {
      "text/html": [
       "<h2>Cohort validation</h2>\n",
       "<p>No errors found for the cohort with 4 individuals</p>"
      ],
      "text/plain": [
       "<IPython.core.display.HTML object>"
      ]
     },
     "metadata": {},
     "output_type": "display_data"
    }
   ],
   "source": [
    "qc = QcVisualizer(cohort_validator=cvalidator)\n",
    "display(HTML(qc.to_summary_html()))"
   ]
  },
  {
   "cell_type": "code",
   "execution_count": 5,
   "metadata": {},
   "outputs": [
    {
     "data": {
      "text/html": [
       "<table style=\"border: 2px solid black; align: \"left\">\n",
       "<caption>4 phenopackets - PMID:16505000 (n=2); PMID:18219278 (n=1); PMID:19474805 (n=1)</caption>\n",
       "<tr><th style=\"text-align: left;font-weight: bold;\">Individual</th><th style=\"text-align: left;font-weight: bold;\">Disease</th><th style=\"text-align: left;font-weight: bold;\">Genotype</th><th style=\"text-align: left;font-weight: bold;\">Phenotypic features</th></tr>\n",
       "<tr><td style=\"text-align: left;\">III-1 affected girl (MALE; P8Y)</td><td style=\"text-align: left;\">Epidermolytic hyperkeratosis 2B, autosomal recessive (OMIM:620707)</td><td style=\"text-align: left;\">NM_000421.5:c.1300C>T (homozygous)</td><td style=\"text-align: left;\">Generalized hyperkeratosis (HP:0005595); Cobblestone-like hyperkeratosis (HP:0031288); Erythroderma (HP:0001019); Congenital nonbullous ichthyosiform erythroderma (HP:0007479); Epidermal acanthosis (HP:0025092); Hypergranulosis (HP:0025114); Keratinocyte vacuolization (HP:0034703); excluded: Palmoplantar keratoderma (HP:0000982); excluded: Hypernatremic dehydration (HP:0004906); excluded: Abnormal blistering of the skin (HP:0008066)</td></tr>\n",
       "<tr><td style=\"text-align: left;\">III-2 affected boy (FEMALE; P6Y)</td><td style=\"text-align: left;\">Epidermolytic hyperkeratosis 2B, autosomal recessive (OMIM:620707)</td><td style=\"text-align: left;\">NM_000421.5:c.1300C>T (homozygous)</td><td style=\"text-align: left;\">Generalized hyperkeratosis (HP:0005595); Erythroderma (HP:0001019); Congenital nonbullous ichthyosiform erythroderma (HP:0007479); Epidermal acanthosis (HP:0025092); Hypergranulosis (HP:0025114); Keratinocyte vacuolization (HP:0034703); excluded: Palmoplantar keratoderma (HP:0000982); excluded: Cobblestone-like hyperkeratosis (HP:0031288); excluded: Hypernatremic dehydration (HP:0004906); excluded: Abnormal blistering of the skin (HP:0008066)</td></tr>\n",
       "<tr><td style=\"text-align: left;\">proband (FEMALE; P3Y)</td><td style=\"text-align: left;\">Epidermolytic hyperkeratosis 2B, autosomal recessive (OMIM:620707)</td><td style=\"text-align: left;\">NM_000421.5:c.1281C>A (homozygous)</td><td style=\"text-align: left;\">Epidermal acanthosis (HP:0025092); Orthokeratosis (HP:0040162); Erythroderma (HP:0001019); Abnormal blistering of the skin (HP:0008066); excluded: Palmoplantar keratoderma (HP:0000982); excluded: Hypernatremic dehydration (HP:0004906); excluded: Congenital nonbullous ichthyosiform erythroderma (HP:0007479)</td></tr>\n",
       "<tr><td style=\"text-align: left;\">affected girl (FEMALE; n/a)</td><td style=\"text-align: left;\">Epidermolytic hyperkeratosis 2B, autosomal recessive (OMIM:620707)</td><td style=\"text-align: left;\">NM_000421.5:c.1314_1315insC (homozygous)</td><td style=\"text-align: left;\">Epidermal acanthosis (HP:0025092); Hypernatremic dehydration (HP:0004906); Congenital nonbullous ichthyosiform erythroderma (HP:0007479); Abnormal blistering of the skin (HP:0008066); excluded: Palmoplantar keratoderma (HP:0000982)</td></tr>\n",
       "</table>"
      ],
      "text/plain": [
       "<IPython.core.display.HTML object>"
      ]
     },
     "metadata": {},
     "output_type": "display_data"
    }
   ],
   "source": [
    "table = IndividualTable(cvalidator.get_error_free_individual_list())\n",
    "display(HTML(table.to_html()))"
   ]
  },
  {
   "cell_type": "code",
   "execution_count": 6,
   "metadata": {},
   "outputs": [
    {
     "name": "stdout",
     "output_type": "stream",
     "text": [
      "[pyphetools] Ingested 4 GA4GH phenopackets.\n",
      "[INFO] Extracted 4 from 4 phenopackets with OMIM:620707\n",
      "\n",
      "\tEpidermolytic hyperkeratosis 2B, autosomal recessive (OMIM:620707): n=4\n",
      "We found a total of 11 unique HPO terms\n",
      "Extracted disease: Epidermolytic hyperkeratosis 2B, autosomal recessive (OMIM:620707)\n",
      "Wrote HPOA disease file to OMIM-620707.tab\n"
     ]
    }
   ],
   "source": [
    "pmid = \"PMID:16505000\"\n",
    "df = timporter.create_hpoa_from_phenopackets(pmid=pmid, moi=\"Autosomal recessive\", target=\"OMIM:620707\")"
   ]
  }
 ],
 "metadata": {
  "kernelspec": {
   "display_name": "ps24venv",
   "language": "python",
   "name": "python3"
  },
  "language_info": {
   "codemirror_mode": {
    "name": "ipython",
    "version": 3
   },
   "file_extension": ".py",
   "mimetype": "text/x-python",
   "name": "python",
   "nbconvert_exporter": "python",
   "pygments_lexer": "ipython3",
   "version": "3.9.6"
  }
 },
 "nbformat": 4,
 "nbformat_minor": 2
}
