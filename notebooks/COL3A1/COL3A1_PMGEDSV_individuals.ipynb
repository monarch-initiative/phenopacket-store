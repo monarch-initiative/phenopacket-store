{
 "cells": [
  {
   "cell_type": "markdown",
   "id": "c05a1b3d-14ba-47db-a038-c8273abecd17",
   "metadata": {},
   "source": [
    "# COL3A1\n",
    "\n",
    "Biallelic variants in COL3A1 are associated with [Polymicrogyria with or without vascular-type EDS](https://omim.org/entry/618343)."
   ]
  },
  {
   "cell_type": "code",
   "execution_count": 1,
   "id": "98c84004-f231-4d8f-9cdb-de050e8816b1",
   "metadata": {},
   "outputs": [],
   "source": [
    "from pyphetools.creation import TemplateImporter"
   ]
  },
  {
   "cell_type": "code",
   "execution_count": 2,
   "id": "4b642cae-4d2a-425a-818a-653938c1e5e5",
   "metadata": {},
   "outputs": [],
   "source": [
    "template = \"input/COL3A1_PMGEDSV_individuals.xlsx\"\n",
    "hp_json = \"../hp.json\"\n",
    "created_by = \"ORCID:0000-0002-5648-2155\"\n",
    "timporter = TemplateImporter(template=template, hp_json=hp_json, created_by=created_by)"
   ]
  },
  {
   "cell_type": "code",
   "execution_count": 4,
   "id": "67f7b7ae-fe5d-44c7-85a0-5fb0d717e7f0",
   "metadata": {},
   "outputs": [
    {
     "name": "stdout",
     "output_type": "stream",
     "text": [
      "HPO version 2024-02-27\n",
      "Created encoders for 55 fields\n",
      " we got OMIM:618343  NM_000090.3\n",
      "We output 6 GA4GH phenopackets to the directory phenopackets\n"
     ]
    }
   ],
   "source": [
    "individuals, cvalidator = timporter.import_phenopackets_from_template()"
   ]
  },
  {
   "cell_type": "code",
   "execution_count": 9,
   "id": "06a442f2-674e-431c-bf2d-7ea47080e241",
   "metadata": {},
   "outputs": [
    {
     "data": {
      "text/html": [
       "<h2>Cohort validation</h2>\n",
       "<p>No errors found for the cohort with 6 individuals</p>"
      ],
      "text/plain": [
       "<IPython.core.display.HTML object>"
      ]
     },
     "metadata": {},
     "output_type": "display_data"
    }
   ],
   "source": [
    "from pyphetools.visualization import QcVisualizer\n",
    "from IPython.display import HTML, display\n",
    "qc = QcVisualizer(cohort_validator=cvalidator)\n",
    "display(HTML(qc.to_summary_html()))"
   ]
  },
  {
   "cell_type": "code",
   "execution_count": null,
   "id": "e038cd7a-0c12-486d-a9eb-840befd621a8",
   "metadata": {},
   "outputs": [],
   "source": []
  }
 ],
 "metadata": {
  "kernelspec": {
   "display_name": "Python 3 (ipykernel)",
   "language": "python",
   "name": "python3"
  },
  "language_info": {
   "codemirror_mode": {
    "name": "ipython",
    "version": 3
   },
   "file_extension": ".py",
   "mimetype": "text/x-python",
   "name": "python",
   "nbconvert_exporter": "python",
   "pygments_lexer": "ipython3",
   "version": "3.8.10"
  }
 },
 "nbformat": 4,
 "nbformat_minor": 5
}
