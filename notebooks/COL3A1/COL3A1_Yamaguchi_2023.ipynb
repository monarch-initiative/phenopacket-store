{
 "cells": [
  {
   "cell_type": "markdown",
   "id": "7b24c5f7-0566-4c9d-9c87-adc19eace71e",
   "metadata": {},
   "source": [
    "# Yamaguchi T et al. (2023) COL3A1\n",
    "\n",
    "Data from [Yamaguchi T et al. (2023) Comprehensive genetic screening for vascular Ehlers-Danlos syndrome through an amplification-based next-generation sequencing system. Am J Med Genet A. 2023 Jan;191(1):37-51.](https://pubmed.ncbi.nlm.nih.gov/36189931/).\n",
    "The authors stated that the original diagnosis was 'vEDS', 'LDS/FTAAD', or 'FTAAD', but we will code all individuals with the final diagnosis of [Ehlers-Danlos syndrome, vascular type](https://omim.org/entry/130050)."
   ]
  },
  {
   "cell_type": "code",
   "execution_count": 1,
   "id": "d5ae75dc-e2a1-4ac4-8632-c0932ea9c657",
   "metadata": {},
   "outputs": [
    {
     "name": "stdout",
     "output_type": "stream",
     "text": [
      "pyphetools version 0.9.63\n"
     ]
    }
   ],
   "source": [
    "import pandas as pd\n",
    "pd.set_option('display.max_colwidth', None) # show entire column contents, important!\n",
    "from IPython.display import HTML, display\n",
    "from pyphetools.creation import *\n",
    "from pyphetools.validation import *\n",
    "from pyphetools.visualization import *\n",
    "import pyphetools\n",
    "print(f\"pyphetools version {pyphetools.__version__}\")"
   ]
  },
  {
   "cell_type": "code",
   "execution_count": 2,
   "id": "afeb3465-97de-4400-8089-bfd1a91ea780",
   "metadata": {},
   "outputs": [
    {
     "name": "stdout",
     "output_type": "stream",
     "text": [
      "HPO version 2024-02-27\n"
     ]
    }
   ],
   "source": [
    "PMID = \"PMID:36189931\"\n",
    "title = \"Comprehensive genetic screening for vascular Ehlers-Danlos syndrome through an amplification-based next-generation sequencing system\"\n",
    "cite = Citation(pmid=PMID, title=title)\n",
    "parser = HpoParser(hpo_json_file=\"../hp.json\")\n",
    "hpo_cr = parser.get_hpo_concept_recognizer()\n",
    "hpo_version = parser.get_version()\n",
    "hpo_ontology = parser.get_ontology()\n",
    "metadata = MetaData(created_by=\"ORCID:0000-0002-5648-2155\", citation=cite)\n",
    "metadata.default_versions_with_hpo(version=hpo_version)\n",
    "print(f\"HPO version {hpo_version}\")"
   ]
  },
  {
   "cell_type": "code",
   "execution_count": 3,
   "id": "ddc50aef-ff2c-428a-9899-dd59dad8dae0",
   "metadata": {},
   "outputs": [],
   "source": [
    "df = pd.read_excel('input/Yamaguchi_2022_PMID_36189931.xlsx')\n",
    "df = df.astype(str)"
   ]
  },
  {
   "cell_type": "code",
   "execution_count": 4,
   "id": "eaa2f3ad-7a0d-4126-b4b4-49b31864a140",
   "metadata": {},
   "outputs": [],
   "source": [
    "df[\"individual_id\"] = df[\"Patient\"].apply(lambda x: f\"Individual {x}\")"
   ]
  },
  {
   "cell_type": "code",
   "execution_count": 5,
   "id": "632bc487-d689-40cb-8428-de609eca922c",
   "metadata": {},
   "outputs": [
    {
     "data": {
      "text/html": [
       "<div>\n",
       "<style scoped>\n",
       "    .dataframe tbody tr th:only-of-type {\n",
       "        vertical-align: middle;\n",
       "    }\n",
       "\n",
       "    .dataframe tbody tr th {\n",
       "        vertical-align: top;\n",
       "    }\n",
       "\n",
       "    .dataframe thead th {\n",
       "        text-align: right;\n",
       "    }\n",
       "</style>\n",
       "<table border=\"1\" class=\"dataframe\">\n",
       "  <thead>\n",
       "    <tr style=\"text-align: right;\">\n",
       "      <th></th>\n",
       "      <th>Patient</th>\n",
       "      <th>Variants (NM_000090.3)</th>\n",
       "      <th>Suspected disease</th>\n",
       "      <th>Age at genetic diagnosis (years)</th>\n",
       "      <th>Sex</th>\n",
       "      <th>Aortic dissection</th>\n",
       "      <th>Aortic rupture</th>\n",
       "      <th>Arterial dissection</th>\n",
       "      <th>Arterial rupture</th>\n",
       "      <th>Uterine rupture</th>\n",
       "      <th>...</th>\n",
       "      <th>Acrogeria</th>\n",
       "      <th>Talipes equinovarus</th>\n",
       "      <th>Congenital hip dislocation</th>\n",
       "      <th>Hypermobility of small joints</th>\n",
       "      <th>Tendon and muscle rupture</th>\n",
       "      <th>Gingival recession/fragility</th>\n",
       "      <th>Keratoconus</th>\n",
       "      <th>Early onset varicose veins</th>\n",
       "      <th>Family history</th>\n",
       "      <th>individual_id</th>\n",
       "    </tr>\n",
       "  </thead>\n",
       "  <tbody>\n",
       "    <tr>\n",
       "      <th>0</th>\n",
       "      <td>1</td>\n",
       "      <td>c.547G&gt;A:p.Gly183Ser</td>\n",
       "      <td>vEDS</td>\n",
       "      <td>59</td>\n",
       "      <td>F</td>\n",
       "      <td>−</td>\n",
       "      <td>−</td>\n",
       "      <td>−</td>\n",
       "      <td>+</td>\n",
       "      <td>nan</td>\n",
       "      <td>...</td>\n",
       "      <td>−</td>\n",
       "      <td>−</td>\n",
       "      <td>−</td>\n",
       "      <td>−</td>\n",
       "      <td>−</td>\n",
       "      <td>−</td>\n",
       "      <td>nan</td>\n",
       "      <td>−</td>\n",
       "      <td>−</td>\n",
       "      <td>Individual 1</td>\n",
       "    </tr>\n",
       "    <tr>\n",
       "      <th>1</th>\n",
       "      <td>2</td>\n",
       "      <td>c.547G&gt;A:p.Gly183Ser</td>\n",
       "      <td>vEDS</td>\n",
       "      <td>29</td>\n",
       "      <td>F</td>\n",
       "      <td>−</td>\n",
       "      <td>−</td>\n",
       "      <td>+</td>\n",
       "      <td>−</td>\n",
       "      <td>−</td>\n",
       "      <td>...</td>\n",
       "      <td>−</td>\n",
       "      <td>−</td>\n",
       "      <td>−</td>\n",
       "      <td>−</td>\n",
       "      <td>−</td>\n",
       "      <td>−</td>\n",
       "      <td>nan</td>\n",
       "      <td>−</td>\n",
       "      <td>Mother, died, carotid-cavernous sinus fistula</td>\n",
       "      <td>Individual 2</td>\n",
       "    </tr>\n",
       "    <tr>\n",
       "      <th>2</th>\n",
       "      <td>3</td>\n",
       "      <td>c.556G&gt;A:p.Gly186Ser</td>\n",
       "      <td>vEDS</td>\n",
       "      <td>d.15</td>\n",
       "      <td>M</td>\n",
       "      <td>+</td>\n",
       "      <td>+</td>\n",
       "      <td>−</td>\n",
       "      <td>−</td>\n",
       "      <td>nan</td>\n",
       "      <td>...</td>\n",
       "      <td>−</td>\n",
       "      <td>−</td>\n",
       "      <td>−</td>\n",
       "      <td>−</td>\n",
       "      <td>−</td>\n",
       "      <td>−</td>\n",
       "      <td>nan</td>\n",
       "      <td>−</td>\n",
       "      <td>Mother, died at 30s, subarachnoid hemorrhage</td>\n",
       "      <td>Individual 3</td>\n",
       "    </tr>\n",
       "    <tr>\n",
       "      <th>3</th>\n",
       "      <td>4</td>\n",
       "      <td>c.565G&gt;C:p.Gly189Arg</td>\n",
       "      <td>vEDS</td>\n",
       "      <td>45</td>\n",
       "      <td>F</td>\n",
       "      <td>−</td>\n",
       "      <td>−</td>\n",
       "      <td>+</td>\n",
       "      <td>−</td>\n",
       "      <td>−</td>\n",
       "      <td>...</td>\n",
       "      <td>−</td>\n",
       "      <td>−</td>\n",
       "      <td>−</td>\n",
       "      <td>−</td>\n",
       "      <td>−</td>\n",
       "      <td>−</td>\n",
       "      <td>nan</td>\n",
       "      <td>−</td>\n",
       "      <td>−</td>\n",
       "      <td>Individual 4</td>\n",
       "    </tr>\n",
       "    <tr>\n",
       "      <th>4</th>\n",
       "      <td>5</td>\n",
       "      <td>c.583G&gt;A:p.Gly195Arg</td>\n",
       "      <td>vEDS</td>\n",
       "      <td>17</td>\n",
       "      <td>F</td>\n",
       "      <td>−</td>\n",
       "      <td>−</td>\n",
       "      <td>−</td>\n",
       "      <td>−</td>\n",
       "      <td>nan</td>\n",
       "      <td>...</td>\n",
       "      <td>−</td>\n",
       "      <td>−</td>\n",
       "      <td>−</td>\n",
       "      <td>+</td>\n",
       "      <td>−</td>\n",
       "      <td>−</td>\n",
       "      <td>nan</td>\n",
       "      <td>−</td>\n",
       "      <td>Mother, died at 32 years, aortic dissection; grandfather, died at 30s, aortic dissection</td>\n",
       "      <td>Individual 5</td>\n",
       "    </tr>\n",
       "  </tbody>\n",
       "</table>\n",
       "<p>5 rows × 26 columns</p>\n",
       "</div>"
      ],
      "text/plain": [
       "  Patient Variants (NM_000090.3) Suspected disease  \\\n",
       "0       1   c.547G>A:p.Gly183Ser              vEDS   \n",
       "1       2   c.547G>A:p.Gly183Ser              vEDS   \n",
       "2       3   c.556G>A:p.Gly186Ser              vEDS   \n",
       "3       4   c.565G>C:p.Gly189Arg              vEDS   \n",
       "4       5   c.583G>A:p.Gly195Arg              vEDS   \n",
       "\n",
       "  Age at genetic diagnosis (years) Sex Aortic dissection Aortic rupture  \\\n",
       "0                               59   F                 −              −   \n",
       "1                               29   F                 −              −   \n",
       "2                             d.15   M                 +              +   \n",
       "3                               45   F                 −              −   \n",
       "4                               17   F                 −              −   \n",
       "\n",
       "  Arterial dissection Arterial rupture Uterine rupture  ... Acrogeria  \\\n",
       "0                   −                +             nan  ...         −   \n",
       "1                   +                −               −  ...         −   \n",
       "2                   −                −             nan  ...         −   \n",
       "3                   +                −               −  ...         −   \n",
       "4                   −                −             nan  ...         −   \n",
       "\n",
       "  Talipes equinovarus Congenital hip dislocation  \\\n",
       "0                   −                          −   \n",
       "1                   −                          −   \n",
       "2                   −                          −   \n",
       "3                   −                          −   \n",
       "4                   −                          −   \n",
       "\n",
       "  Hypermobility of small joints Tendon and muscle rupture  \\\n",
       "0                             −                         −   \n",
       "1                             −                         −   \n",
       "2                             −                         −   \n",
       "3                             −                         −   \n",
       "4                             +                         −   \n",
       "\n",
       "  Gingival recession/fragility Keratoconus Early onset varicose veins  \\\n",
       "0                            −         nan                          −   \n",
       "1                            −         nan                          −   \n",
       "2                            −         nan                          −   \n",
       "3                            −         nan                          −   \n",
       "4                            −         nan                          −   \n",
       "\n",
       "                                                                             Family history  \\\n",
       "0                                                                                         −   \n",
       "1                                             Mother, died, carotid-cavernous sinus fistula   \n",
       "2                                              Mother, died at 30s, subarachnoid hemorrhage   \n",
       "3                                                                                         −   \n",
       "4  Mother, died at 32 years, aortic dissection; grandfather, died at 30s, aortic dissection   \n",
       "\n",
       "  individual_id  \n",
       "0  Individual 1  \n",
       "1  Individual 2  \n",
       "2  Individual 3  \n",
       "3  Individual 4  \n",
       "4  Individual 5  \n",
       "\n",
       "[5 rows x 26 columns]"
      ]
     },
     "execution_count": 5,
     "metadata": {},
     "output_type": "execute_result"
    }
   ],
   "source": [
    "df.head()"
   ]
  },
  {
   "cell_type": "markdown",
   "id": "c08eccf9-fc08-4244-bd54-6fe188f8f47e",
   "metadata": {},
   "source": [
    "## Phenotypic features\n",
    "\n",
    "The following code maps some columns automatically."
   ]
  },
  {
   "cell_type": "code",
   "execution_count": 6,
   "id": "89852d40-5d40-4687-85d0-b3a43229502b",
   "metadata": {},
   "outputs": [],
   "source": [
    "generator = SimpleColumnMapperGenerator(df=df, observed='+', excluded='−', hpo_cr=hpo_cr)\n",
    "column_mapper_list = generator.try_mapping_columns()"
   ]
  },
  {
   "cell_type": "code",
   "execution_count": 7,
   "id": "18a77e82-a699-4757-8a09-8aeff561e066",
   "metadata": {},
   "outputs": [
    {
     "data": {
      "text/html": [
       "<table style=\"border: 2px solid black;\">\n",
       "\n",
       "<tr>\n",
       "            <th>Result</th>\n",
       "            <th>Columns</th>\n",
       "        </tr>\n",
       "        \n",
       "<tr><td>Mapped</td><td>Aortic dissection; Aortic rupture; Arterial dissection; Arterial rupture; Uterine rupture; Easy bruising; Spontaneous pneumothorax; Talipes equinovarus; Congenital hip dislocation; Keratoconus</td></tr>\n",
       "<tr><td>Unmapped</td><td><q>Patient</q>; <q>Variants (NM_000090.3)</q>; <q>Suspected disease</q>; <q>Age at genetic diagnosis (years)</q>; <q>Sex</q>; <q>Sigmoid colon perforation</q>; <q>Carotid-cavernous sinus fistula</q>; <q>Thin, translucent skin</q>; <q>Characteristic facial features</q>; <q>Acrogeria</q>; <q>Hypermobility of small joints</q>; <q>Tendon and muscle rupture</q>; <q>Gingival recession/fragility</q>; <q>Early onset varicose veins</q>; <q>Family history</q>; <q>individual_id</q></td></tr>\n",
       "</table>\n"
      ],
      "text/plain": [
       "<IPython.core.display.HTML object>"
      ]
     },
     "metadata": {},
     "output_type": "display_data"
    }
   ],
   "source": [
    "display(HTML(generator.to_html()))"
   ]
  },
  {
   "cell_type": "code",
   "execution_count": 8,
   "id": "01beb29e-393f-4542-ae2d-80b52f334a32",
   "metadata": {},
   "outputs": [],
   "source": [
    "#Acrogeria\"; -- need HPO Term\n",
    "# Carotid-cavernous sinus fistula -- need HPO Term\n",
    "#v\"Characteristic facial features\"; \" -- too general to code\n",
    "feature_d = {\n",
    "    \"Early onset varicose veins\": [\"Varicose veins\", \"HP:0002619\"],\n",
    "    \"Gingival recession/fragility\": [\"Gingival fragility\", \"HP:0034518\"], \n",
    "    \"Tendon and muscle rupture\": [\"Tendon rupture\", \"HP:0100550\"],\n",
    "    \"Hypermobility of small joints\":  [\"Finger joint hypermobility\", \"HP:0006094\"],\n",
    "    \"Thin, translucent skin\": [\"Dermal translucency\", \"HP:0010648\"]\n",
    "}\n",
    "\n",
    "for k, v in feature_d.items():\n",
    "    mapper = SimpleColumnMapper(column_name=k, hpo_id=v[1], hpo_label=v[0], observed=\"+\", excluded=\"−\")\n",
    "    column_mapper_list.append(mapper)"
   ]
  },
  {
   "cell_type": "code",
   "execution_count": 9,
   "id": "cfec1d45-b51b-4ea5-a684-59110effe69e",
   "metadata": {},
   "outputs": [],
   "source": [
    "df[\"hgvs\"] = df[\"Variants (NM_000090.3)\"].apply(lambda x: x.split(\":\")[0])"
   ]
  },
  {
   "cell_type": "code",
   "execution_count": 10,
   "id": "50b0f6a3-458c-444b-9ad1-5007d1ebdff7",
   "metadata": {},
   "outputs": [
    {
     "name": "stdout",
     "output_type": "stream",
     "text": [
      "[INFO] encoding variant \"c.724C>T\"\n",
      "https://rest.variantvalidator.org/VariantValidator/variantvalidator/hg38/NM_000090.3%3Ac.724C>T/NM_000090.3?content-type=application%2Fjson\n",
      "[INFO] encoding variant \"c.[1546G>T;1556G>T]\"\n",
      "https://rest.variantvalidator.org/VariantValidator/variantvalidator/hg38/NM_000090.3%3Ac.[1546G>T;1556G>T]/NM_000090.3?content-type=application%2Fjson\n",
      "[INFO] encoding variant \"c.598C>T\"\n",
      "https://rest.variantvalidator.org/VariantValidator/variantvalidator/hg38/NM_000090.3%3Ac.598C>T/NM_000090.3?content-type=application%2Fjson\n",
      "[INFO] encoding variant \"c.565G>C\"\n",
      "https://rest.variantvalidator.org/VariantValidator/variantvalidator/hg38/NM_000090.3%3Ac.565G>C/NM_000090.3?content-type=application%2Fjson\n",
      "[INFO] encoding variant \"c.897+2T>A\"\n",
      "https://rest.variantvalidator.org/VariantValidator/variantvalidator/hg38/NM_000090.3%3Ac.897+2T>A/NM_000090.3?content-type=application%2Fjson\n",
      "[INFO] encoding variant \"c.2518G>A\"\n",
      "https://rest.variantvalidator.org/VariantValidator/variantvalidator/hg38/NM_000090.3%3Ac.2518G>A/NM_000090.3?content-type=application%2Fjson\n",
      "[INFO] encoding variant \"c.659_664del\"\n",
      "https://rest.variantvalidator.org/VariantValidator/variantvalidator/hg38/NM_000090.3%3Ac.659_664del/NM_000090.3?content-type=application%2Fjson\n",
      "[INFO] encoding variant \"c.1330G>A\"\n",
      "https://rest.variantvalidator.org/VariantValidator/variantvalidator/hg38/NM_000090.3%3Ac.1330G>A/NM_000090.3?content-type=application%2Fjson\n",
      "[INFO] encoding variant \"c.1662+1G>A\"\n",
      "https://rest.variantvalidator.org/VariantValidator/variantvalidator/hg38/NM_000090.3%3Ac.1662+1G>A/NM_000090.3?content-type=application%2Fjson\n",
      "[INFO] encoding variant \"c.755G>A\"\n",
      "https://rest.variantvalidator.org/VariantValidator/variantvalidator/hg38/NM_000090.3%3Ac.755G>A/NM_000090.3?content-type=application%2Fjson\n",
      "[INFO] encoding variant \"c.2283+5G>T\"\n",
      "https://rest.variantvalidator.org/VariantValidator/variantvalidator/hg38/NM_000090.3%3Ac.2283+5G>T/NM_000090.3?content-type=application%2Fjson\n",
      "[INFO] encoding variant \"c.547G>A\"\n",
      "https://rest.variantvalidator.org/VariantValidator/variantvalidator/hg38/NM_000090.3%3Ac.547G>A/NM_000090.3?content-type=application%2Fjson\n",
      "[INFO] encoding variant \"c.556G>A\"\n",
      "https://rest.variantvalidator.org/VariantValidator/variantvalidator/hg38/NM_000090.3%3Ac.556G>A/NM_000090.3?content-type=application%2Fjson\n",
      "[INFO] encoding variant \"c.2815G>A\"\n",
      "https://rest.variantvalidator.org/VariantValidator/variantvalidator/hg38/NM_000090.3%3Ac.2815G>A/NM_000090.3?content-type=application%2Fjson\n",
      "[INFO] encoding variant \"c.754G>A\"\n",
      "https://rest.variantvalidator.org/VariantValidator/variantvalidator/hg38/NM_000090.3%3Ac.754G>A/NM_000090.3?content-type=application%2Fjson\n",
      "[INFO] encoding variant \"c.3525+1G>A\"\n",
      "https://rest.variantvalidator.org/VariantValidator/variantvalidator/hg38/NM_000090.3%3Ac.3525+1G>A/NM_000090.3?content-type=application%2Fjson\n",
      "[INFO] encoding variant \"c.2134_2160del\"\n",
      "https://rest.variantvalidator.org/VariantValidator/variantvalidator/hg38/NM_000090.3%3Ac.2134_2160del/NM_000090.3?content-type=application%2Fjson\n",
      "[INFO] encoding variant \"c.848T>A\"\n",
      "https://rest.variantvalidator.org/VariantValidator/variantvalidator/hg38/NM_000090.3%3Ac.848T>A/NM_000090.3?content-type=application%2Fjson\n",
      "[INFO] encoding variant \"c.2870G>T\"\n",
      "https://rest.variantvalidator.org/VariantValidator/variantvalidator/hg38/NM_000090.3%3Ac.2870G>T/NM_000090.3?content-type=application%2Fjson\n",
      "[INFO] encoding variant \"c.665G>A\"\n",
      "https://rest.variantvalidator.org/VariantValidator/variantvalidator/hg38/NM_000090.3%3Ac.665G>A/NM_000090.3?content-type=application%2Fjson\n",
      "[INFO] encoding variant \"c.897+2T>G\"\n",
      "https://rest.variantvalidator.org/VariantValidator/variantvalidator/hg38/NM_000090.3%3Ac.897+2T>G/NM_000090.3?content-type=application%2Fjson\n",
      "[INFO] encoding variant \"c.1194+1G>A\"\n",
      "https://rest.variantvalidator.org/VariantValidator/variantvalidator/hg38/NM_000090.3%3Ac.1194+1G>A/NM_000090.3?content-type=application%2Fjson\n",
      "[INFO] encoding variant \"c.2869G>A\"\n",
      "https://rest.variantvalidator.org/VariantValidator/variantvalidator/hg38/NM_000090.3%3Ac.2869G>A/NM_000090.3?content-type=application%2Fjson\n",
      "[INFO] encoding variant \"c.763G>T\"\n",
      "https://rest.variantvalidator.org/VariantValidator/variantvalidator/hg38/NM_000090.3%3Ac.763G>T/NM_000090.3?content-type=application%2Fjson\n",
      "[INFO] encoding variant \"c.1346G>T\"\n",
      "https://rest.variantvalidator.org/VariantValidator/variantvalidator/hg38/NM_000090.3%3Ac.1346G>T/NM_000090.3?content-type=application%2Fjson\n",
      "[INFO] encoding variant \"c.1862G>A\"\n",
      "https://rest.variantvalidator.org/VariantValidator/variantvalidator/hg38/NM_000090.3%3Ac.1862G>A/NM_000090.3?content-type=application%2Fjson\n",
      "[INFO] encoding variant \"c.583G>A\"\n",
      "https://rest.variantvalidator.org/VariantValidator/variantvalidator/hg38/NM_000090.3%3Ac.583G>A/NM_000090.3?content-type=application%2Fjson\n",
      "[INFO] encoding variant \"c.1977+5G>C\"\n",
      "https://rest.variantvalidator.org/VariantValidator/variantvalidator/hg38/NM_000090.3%3Ac.1977+5G>C/NM_000090.3?content-type=application%2Fjson\n",
      "[INFO] encoding variant \"c.2357G>A\"\n",
      "https://rest.variantvalidator.org/VariantValidator/variantvalidator/hg38/NM_000090.3%3Ac.2357G>A/NM_000090.3?content-type=application%2Fjson\n",
      "[INFO] encoding variant \"c.951+5G>C\"\n",
      "https://rest.variantvalidator.org/VariantValidator/variantvalidator/hg38/NM_000090.3%3Ac.951+5G>C/NM_000090.3?content-type=application%2Fjson\n",
      "[INFO] encoding variant \"c.2356G>A\"\n",
      "https://rest.variantvalidator.org/VariantValidator/variantvalidator/hg38/NM_000090.3%3Ac.2356G>A/NM_000090.3?content-type=application%2Fjson\n",
      "[INFO] encoding variant \"c.3338G>A\"\n",
      "https://rest.variantvalidator.org/VariantValidator/variantvalidator/hg38/NM_000090.3%3Ac.3338G>A/NM_000090.3?content-type=application%2Fjson\n",
      "[INFO] encoding variant \"c.3256G>C\"\n",
      "https://rest.variantvalidator.org/VariantValidator/variantvalidator/hg38/NM_000090.3%3Ac.3256G>C/NM_000090.3?content-type=application%2Fjson\n"
     ]
    }
   ],
   "source": [
    "col3a1_transcript = \"NM_000090.3\"\n",
    "col3a1_id = \"HGNC:2201\"\n",
    "vmanager = VariantManager(df=df,\n",
    "                          transcript=col3a1_transcript,\n",
    "                          individual_column_name=\"Patient\",\n",
    "                          allele_1_column_name=\"hgvs\",\n",
    "                          gene_symbol=\"COL3A1\", \n",
    "                          gene_id=col3a1_id,\n",
    "                         overwrite=True)"
   ]
  },
  {
   "cell_type": "code",
   "execution_count": 11,
   "id": "d2079d6d-daa2-4d64-a3bf-316f18f21822",
   "metadata": {},
   "outputs": [
    {
     "data": {
      "text/html": [
       "<div>\n",
       "<style scoped>\n",
       "    .dataframe tbody tr th:only-of-type {\n",
       "        vertical-align: middle;\n",
       "    }\n",
       "\n",
       "    .dataframe tbody tr th {\n",
       "        vertical-align: top;\n",
       "    }\n",
       "\n",
       "    .dataframe thead th {\n",
       "        text-align: right;\n",
       "    }\n",
       "</style>\n",
       "<table border=\"1\" class=\"dataframe\">\n",
       "  <thead>\n",
       "    <tr style=\"text-align: right;\">\n",
       "      <th></th>\n",
       "      <th>status</th>\n",
       "      <th>count</th>\n",
       "      <th>alleles</th>\n",
       "    </tr>\n",
       "  </thead>\n",
       "  <tbody>\n",
       "    <tr>\n",
       "      <th>0</th>\n",
       "      <td>mapped</td>\n",
       "      <td>33</td>\n",
       "      <td>c.724C&gt;T, c.[1546G&gt;T;1556G&gt;T], c.598C&gt;T, c.565G&gt;C, c.897+2T&gt;A, c.2518G&gt;A, c.659_664del, c.1330G&gt;A, c.1662+1G&gt;A, c.755G&gt;A, c.2283+5G&gt;T, c.547G&gt;A, c.556G&gt;A, c.2815G&gt;A, c.754G&gt;A, c.3525+1G&gt;A, c.2134_2160del, c.848T&gt;A, c.2870G&gt;T, c.665G&gt;A, c.897+2T&gt;G, c.1194+1G&gt;A, c.2869G&gt;A, c.763G&gt;T, c.1346G&gt;T, c.1862G&gt;A, c.583G&gt;A, c.1977+5G&gt;C, c.2357G&gt;A, c.951+5G&gt;C, c.2356G&gt;A, c.3338G&gt;A, c.3256G&gt;C</td>\n",
       "    </tr>\n",
       "    <tr>\n",
       "      <th>1</th>\n",
       "      <td>unmapped</td>\n",
       "      <td>1</td>\n",
       "      <td>ex. 24–33 deletion</td>\n",
       "    </tr>\n",
       "  </tbody>\n",
       "</table>\n",
       "</div>"
      ],
      "text/plain": [
       "     status  count  \\\n",
       "0    mapped     33   \n",
       "1  unmapped      1   \n",
       "\n",
       "                                                                                                                                                                                                                                                                                                                                                                                         alleles  \n",
       "0  c.724C>T, c.[1546G>T;1556G>T], c.598C>T, c.565G>C, c.897+2T>A, c.2518G>A, c.659_664del, c.1330G>A, c.1662+1G>A, c.755G>A, c.2283+5G>T, c.547G>A, c.556G>A, c.2815G>A, c.754G>A, c.3525+1G>A, c.2134_2160del, c.848T>A, c.2870G>T, c.665G>A, c.897+2T>G, c.1194+1G>A, c.2869G>A, c.763G>T, c.1346G>T, c.1862G>A, c.583G>A, c.1977+5G>C, c.2357G>A, c.951+5G>C, c.2356G>A, c.3338G>A, c.3256G>C  \n",
       "1                                                                                                                                                                                                                                                                                                                                                                             ex. 24–33 deletion  "
      ]
     },
     "execution_count": 11,
     "metadata": {},
     "output_type": "execute_result"
    }
   ],
   "source": [
    "vmanager.to_summary()"
   ]
  },
  {
   "cell_type": "code",
   "execution_count": 12,
   "id": "3ddfff86-4c7e-41a0-b499-b9b65264f371",
   "metadata": {},
   "outputs": [],
   "source": [
    "vmanager.code_as_chromosomal_deletion({'ex. 24–33 deletion'})"
   ]
  },
  {
   "cell_type": "code",
   "execution_count": 13,
   "id": "a0ca9976-70a0-4486-9166-25bbda7ad1af",
   "metadata": {},
   "outputs": [
    {
     "data": {
      "text/html": [
       "<div>\n",
       "<style scoped>\n",
       "    .dataframe tbody tr th:only-of-type {\n",
       "        vertical-align: middle;\n",
       "    }\n",
       "\n",
       "    .dataframe tbody tr th {\n",
       "        vertical-align: top;\n",
       "    }\n",
       "\n",
       "    .dataframe thead th {\n",
       "        text-align: right;\n",
       "    }\n",
       "</style>\n",
       "<table border=\"1\" class=\"dataframe\">\n",
       "  <thead>\n",
       "    <tr style=\"text-align: right;\">\n",
       "      <th></th>\n",
       "      <th>status</th>\n",
       "      <th>count</th>\n",
       "      <th>alleles</th>\n",
       "    </tr>\n",
       "  </thead>\n",
       "  <tbody>\n",
       "    <tr>\n",
       "      <th>0</th>\n",
       "      <td>mapped</td>\n",
       "      <td>34</td>\n",
       "      <td>c.724C&gt;T, c.[1546G&gt;T;1556G&gt;T], c.598C&gt;T, c.565G&gt;C, c.897+2T&gt;A, c.2518G&gt;A, c.659_664del, c.1330G&gt;A, c.1662+1G&gt;A, c.755G&gt;A, c.2283+5G&gt;T, c.547G&gt;A, c.556G&gt;A, c.2815G&gt;A, c.754G&gt;A, c.3525+1G&gt;A, c.2134_2160del, c.848T&gt;A, c.2870G&gt;T, c.665G&gt;A, c.897+2T&gt;G, c.1194+1G&gt;A, c.2869G&gt;A, c.763G&gt;T, c.1346G&gt;T, c.1862G&gt;A, c.583G&gt;A, c.1977+5G&gt;C, c.2357G&gt;A, c.951+5G&gt;C, c.2356G&gt;A, c.3338G&gt;A, c.3256G&gt;C, ex. 24–33 deletion</td>\n",
       "    </tr>\n",
       "    <tr>\n",
       "      <th>1</th>\n",
       "      <td>unmapped</td>\n",
       "      <td>0</td>\n",
       "      <td></td>\n",
       "    </tr>\n",
       "  </tbody>\n",
       "</table>\n",
       "</div>"
      ],
      "text/plain": [
       "     status  count  \\\n",
       "0    mapped     34   \n",
       "1  unmapped      0   \n",
       "\n",
       "                                                                                                                                                                                                                                                                                                                                                                                                             alleles  \n",
       "0  c.724C>T, c.[1546G>T;1556G>T], c.598C>T, c.565G>C, c.897+2T>A, c.2518G>A, c.659_664del, c.1330G>A, c.1662+1G>A, c.755G>A, c.2283+5G>T, c.547G>A, c.556G>A, c.2815G>A, c.754G>A, c.3525+1G>A, c.2134_2160del, c.848T>A, c.2870G>T, c.665G>A, c.897+2T>G, c.1194+1G>A, c.2869G>A, c.763G>T, c.1346G>T, c.1862G>A, c.583G>A, c.1977+5G>C, c.2357G>A, c.951+5G>C, c.2356G>A, c.3338G>A, c.3256G>C, ex. 24–33 deletion  \n",
       "1                                                                                                                                                                                                                                                                                                                                                                                                                     "
      ]
     },
     "execution_count": 13,
     "metadata": {},
     "output_type": "execute_result"
    }
   ],
   "source": [
    "vmanager.to_summary()"
   ]
  },
  {
   "cell_type": "markdown",
   "id": "c60b7533-ae2a-4808-9ecf-426d80dd63dc",
   "metadata": {},
   "source": [
    "<h1>Demographic data</h1>"
   ]
  },
  {
   "cell_type": "code",
   "execution_count": 14,
   "id": "5cb3f0d8-c79c-48e7-9767-af7d121fd736",
   "metadata": {},
   "outputs": [],
   "source": [
    "# Revise the age column because it is a mix of years (e.g. 59) and days (e.g. d.17)\n",
    "def get_iso_8601(age_string):\n",
    "    if age_string.startswith(\"d.\"):\n",
    "        age_string = age_string[2:]\n",
    "        return f\"P{age_string}D\"\n",
    "    else:\n",
    "        return f\"P{age_string}Y\"\n",
    "df[\"isoAge\"] = df[\"Age at genetic diagnosis (years)\"].apply(lambda x: get_iso_8601(x))\n",
    "ageMapper = AgeColumnMapper.iso8601(column_name=\"isoAge\")\n",
    "#ageMapper.preview_column(df)"
   ]
  },
  {
   "cell_type": "code",
   "execution_count": 15,
   "id": "2c24df96-c74a-4011-bfc5-2eda98cb7f07",
   "metadata": {},
   "outputs": [],
   "source": [
    "sexMapper = SexColumnMapper(male_symbol='M', female_symbol='F', column_name='Sex')\n",
    "#sexMapper.preview_column(df)"
   ]
  },
  {
   "cell_type": "code",
   "execution_count": 19,
   "id": "9d6a2330-8e5f-42dc-bd3a-36ac18ee220c",
   "metadata": {},
   "outputs": [],
   "source": [
    "varMapper = VariantColumnMapper(variant_d=vmanager.get_variant_d(),\n",
    "                                variant_column_name=\"hgvs\", \n",
    "                                default_genotype=\"heterozygous\")"
   ]
  },
  {
   "cell_type": "code",
   "execution_count": 20,
   "id": "456a5290-27ee-483b-9ac0-524a9ef79352",
   "metadata": {},
   "outputs": [],
   "source": [
    "vEDS = Disease(disease_id='OMIM:130050', disease_label='Ehlers-Danlos syndrome, vascular type')\n",
    "encoder = CohortEncoder(df=df, \n",
    "                        hpo_cr=hpo_cr, \n",
    "                        column_mapper_list=column_mapper_list, \n",
    "                        individual_column_name=\"individual_id\", \n",
    "                        age_of_onset_mapper=ageMapper, \n",
    "                        age_at_last_encounter_mapper=AgeColumnMapper.not_provided(),\n",
    "                        sexmapper=sexMapper,\n",
    "                        variant_mapper=varMapper,\n",
    "                        metadata=metadata)\n",
    "encoder.set_disease(vEDS)"
   ]
  },
  {
   "cell_type": "code",
   "execution_count": 21,
   "id": "e48af718-36a5-4952-ab4e-d5dec5e822a1",
   "metadata": {},
   "outputs": [],
   "source": [
    "individuals = encoder.get_individuals()"
   ]
  },
  {
   "cell_type": "code",
   "execution_count": 22,
   "id": "1f9fc8db-8d92-4058-a15e-e5beecd1bde3",
   "metadata": {},
   "outputs": [
    {
     "data": {
      "text/html": [
       "<h2>Cohort validation</h2>\n",
       "<p>Errors found with 34 of 35 phenopackets.</p>\n",
       "<table style=\"border: 2px solid black; align: \"left\">\n",
       "<caption>Error counts</caption>\n",
       "<tr><th style=\"text-align: left;font-weight: bold;\">Level</th><th style=\"text-align: left;font-weight: bold;\">Error category</th><th style=\"text-align: left;font-weight: bold;\">Count</th></tr>\n",
       "<tr><td style=\"text-align: left;\">INFORMATION</td><td style=\"text-align: left;\">NOT_MEASURED</td><td style=\"text-align: left;\">82</td></tr>\n",
       "</table>\n",
       "<p>A total of 82 issues were fixed and no individual was removed from the cohort.</p>"
      ],
      "text/plain": [
       "<IPython.core.display.HTML object>"
      ]
     },
     "metadata": {},
     "output_type": "display_data"
    }
   ],
   "source": [
    "cvalidator = CohortValidator(cohort=individuals, ontology=hpo_ontology, min_hpo=1, allelic_requirement=AllelicRequirement.MONO_ALLELIC)\n",
    "qc = QcVisualizer(cohort_validator=cvalidator)\n",
    "display(HTML(qc.to_summary_html()))"
   ]
  },
  {
   "cell_type": "code",
   "execution_count": 23,
   "id": "8387ba45-993b-44c0-a725-4e03ebe50b2e",
   "metadata": {},
   "outputs": [
    {
     "data": {
      "text/html": [
       "<table style=\"border: 2px solid black; align: \"left\">\n",
       "<caption>35 phenopackets - PMID:36189931 (n=35)</caption>\n",
       "<tr><th style=\"text-align: left;font-weight: bold;\">Individual</th><th style=\"text-align: left;font-weight: bold;\">Disease</th><th style=\"text-align: left;font-weight: bold;\">Genotype</th><th style=\"text-align: left;font-weight: bold;\">Phenotypic features</th></tr>\n",
       "<tr><td style=\"text-align: left;\">Individual 1 (FEMALE; n/a)</td><td style=\"text-align: left;\">Ehlers-Danlos syndrome, vascular type (OMIM:130050)</td><td style=\"text-align: left;\">NM_000090.3:c.547G>A (heterozygous)</td><td style=\"text-align: left;\">Arterial rupture (HP:0025019); Bruising susceptibility (HP:0000978); Dermal translucency (HP:0010648); excluded: Aortic dissection (HP:0002647); excluded: Aortic rupture (HP:0031649); excluded: Arterial dissection (HP:0005294); excluded: Spontaneous pneumothorax (HP:0002108); excluded: Talipes equinovarus (HP:0001762); excluded: Congenital hip dislocation (HP:0001374); excluded: Varicose veins (HP:0002619); excluded: Gingival fragility (HP:0034518); excluded: Tendon rupture (HP:0100550); excluded: Finger joint hypermobility (HP:0006094)</td></tr>\n",
       "<tr><td style=\"text-align: left;\">Individual 2 (FEMALE; n/a)</td><td style=\"text-align: left;\">Ehlers-Danlos syndrome, vascular type (OMIM:130050)</td><td style=\"text-align: left;\">NM_000090.3:c.547G>A (heterozygous)</td><td style=\"text-align: left;\">Arterial dissection (HP:0005294); Bruising susceptibility (HP:0000978); excluded: Aortic dissection (HP:0002647); excluded: Aortic rupture (HP:0031649); excluded: Arterial rupture (HP:0025019); excluded: Uterine rupture (HP:0100718); excluded: Spontaneous pneumothorax (HP:0002108); excluded: Talipes equinovarus (HP:0001762); excluded: Congenital hip dislocation (HP:0001374); excluded: Varicose veins (HP:0002619); excluded: Gingival fragility (HP:0034518); excluded: Tendon rupture (HP:0100550); excluded: Finger joint hypermobility (HP:0006094); excluded: Dermal translucency (HP:0010648)</td></tr>\n",
       "<tr><td style=\"text-align: left;\">Individual 3 (MALE; n/a)</td><td style=\"text-align: left;\">Ehlers-Danlos syndrome, vascular type (OMIM:130050)</td><td style=\"text-align: left;\">NM_000090.3:c.556G>A (heterozygous)</td><td style=\"text-align: left;\">Aortic dissection (HP:0002647); Aortic rupture (HP:0031649); excluded: Arterial dissection (HP:0005294); excluded: Arterial rupture (HP:0025019); excluded: Bruising susceptibility (HP:0000978); excluded: Spontaneous pneumothorax (HP:0002108); excluded: Talipes equinovarus (HP:0001762); excluded: Congenital hip dislocation (HP:0001374); excluded: Varicose veins (HP:0002619); excluded: Gingival fragility (HP:0034518); excluded: Tendon rupture (HP:0100550); excluded: Finger joint hypermobility (HP:0006094); excluded: Dermal translucency (HP:0010648)</td></tr>\n",
       "<tr><td style=\"text-align: left;\">Individual 4 (FEMALE; n/a)</td><td style=\"text-align: left;\">Ehlers-Danlos syndrome, vascular type (OMIM:130050)</td><td style=\"text-align: left;\">NM_000090.3:c.565G>C (heterozygous)</td><td style=\"text-align: left;\">Arterial dissection (HP:0005294); Bruising susceptibility (HP:0000978); Dermal translucency (HP:0010648); excluded: Aortic dissection (HP:0002647); excluded: Aortic rupture (HP:0031649); excluded: Arterial rupture (HP:0025019); excluded: Uterine rupture (HP:0100718); excluded: Spontaneous pneumothorax (HP:0002108); excluded: Talipes equinovarus (HP:0001762); excluded: Congenital hip dislocation (HP:0001374); excluded: Varicose veins (HP:0002619); excluded: Gingival fragility (HP:0034518); excluded: Tendon rupture (HP:0100550); excluded: Finger joint hypermobility (HP:0006094)</td></tr>\n",
       "<tr><td style=\"text-align: left;\">Individual 5 (FEMALE; n/a)</td><td style=\"text-align: left;\">Ehlers-Danlos syndrome, vascular type (OMIM:130050)</td><td style=\"text-align: left;\">NM_000090.3:c.583G>A (heterozygous)</td><td style=\"text-align: left;\">Bruising susceptibility (HP:0000978); Finger joint hypermobility (HP:0006094); Dermal translucency (HP:0010648); excluded: Aortic dissection (HP:0002647); excluded: Aortic rupture (HP:0031649); excluded: Arterial dissection (HP:0005294); excluded: Arterial rupture (HP:0025019); excluded: Spontaneous pneumothorax (HP:0002108); excluded: Talipes equinovarus (HP:0001762); excluded: Congenital hip dislocation (HP:0001374); excluded: Varicose veins (HP:0002619); excluded: Gingival fragility (HP:0034518); excluded: Tendon rupture (HP:0100550)</td></tr>\n",
       "<tr><td style=\"text-align: left;\">Individual 6 (FEMALE; n/a)</td><td style=\"text-align: left;\">Ehlers-Danlos syndrome, vascular type (OMIM:130050)</td><td style=\"text-align: left;\">NM_000090.3:c.598C>T (heterozygous)</td><td style=\"text-align: left;\">Arterial dissection (HP:0005294); Bruising susceptibility (HP:0000978); Keratoconus (HP:0000563); Gingival fragility (HP:0034518); Dermal translucency (HP:0010648); excluded: Aortic dissection (HP:0002647); excluded: Aortic rupture (HP:0031649); excluded: Arterial rupture (HP:0025019); excluded: Uterine rupture (HP:0100718); excluded: Spontaneous pneumothorax (HP:0002108); excluded: Talipes equinovarus (HP:0001762); excluded: Congenital hip dislocation (HP:0001374); excluded: Varicose veins (HP:0002619); excluded: Tendon rupture (HP:0100550); excluded: Finger joint hypermobility (HP:0006094)</td></tr>\n",
       "<tr><td style=\"text-align: left;\">Individual 7 (FEMALE; n/a)</td><td style=\"text-align: left;\">Ehlers-Danlos syndrome, vascular type (OMIM:130050)</td><td style=\"text-align: left;\">NM_000090.3:c.659_664del (heterozygous)</td><td style=\"text-align: left;\">Bruising susceptibility (HP:0000978); Talipes equinovarus (HP:0001762); Finger joint hypermobility (HP:0006094); excluded: Aortic dissection (HP:0002647); excluded: Aortic rupture (HP:0031649); excluded: Arterial dissection (HP:0005294); excluded: Arterial rupture (HP:0025019); excluded: Spontaneous pneumothorax (HP:0002108); excluded: Congenital hip dislocation (HP:0001374); excluded: Varicose veins (HP:0002619); excluded: Gingival fragility (HP:0034518); excluded: Tendon rupture (HP:0100550); excluded: Dermal translucency (HP:0010648)</td></tr>\n",
       "<tr><td style=\"text-align: left;\">Individual 8 (FEMALE; n/a)</td><td style=\"text-align: left;\">Ehlers-Danlos syndrome, vascular type (OMIM:130050)</td><td style=\"text-align: left;\">NM_000090.3:c.665G>A (heterozygous)</td><td style=\"text-align: left;\">Aortic dissection (HP:0002647); Arterial dissection (HP:0005294); Bruising susceptibility (HP:0000978); Gingival fragility (HP:0034518); Dermal translucency (HP:0010648); excluded: Aortic rupture (HP:0031649); excluded: Arterial rupture (HP:0025019); excluded: Uterine rupture (HP:0100718); excluded: Spontaneous pneumothorax (HP:0002108); excluded: Talipes equinovarus (HP:0001762); excluded: Congenital hip dislocation (HP:0001374); excluded: Varicose veins (HP:0002619); excluded: Tendon rupture (HP:0100550); excluded: Finger joint hypermobility (HP:0006094)</td></tr>\n",
       "<tr><td style=\"text-align: left;\">Individual 9 (MALE; n/a)</td><td style=\"text-align: left;\">Ehlers-Danlos syndrome, vascular type (OMIM:130050)</td><td style=\"text-align: left;\">NM_000090.3:c.724C>T (heterozygous)</td><td style=\"text-align: left;\">Aortic dissection (HP:0002647); excluded: Aortic rupture (HP:0031649); excluded: Arterial dissection (HP:0005294); excluded: Arterial rupture (HP:0025019); excluded: Bruising susceptibility (HP:0000978); excluded: Spontaneous pneumothorax (HP:0002108); excluded: Talipes equinovarus (HP:0001762); excluded: Congenital hip dislocation (HP:0001374); excluded: Varicose veins (HP:0002619); excluded: Tendon rupture (HP:0100550); excluded: Finger joint hypermobility (HP:0006094); excluded: Dermal translucency (HP:0010648)</td></tr>\n",
       "<tr><td style=\"text-align: left;\">Individual 10 (MALE; n/a)</td><td style=\"text-align: left;\">Ehlers-Danlos syndrome, vascular type (OMIM:130050)</td><td style=\"text-align: left;\">NM_000090.3:c.754G>A (heterozygous)</td><td style=\"text-align: left;\">Aortic dissection (HP:0002647); Spontaneous pneumothorax (HP:0002108); excluded: Aortic rupture (HP:0031649); excluded: Arterial dissection (HP:0005294); excluded: Arterial rupture (HP:0025019)</td></tr>\n",
       "<tr><td style=\"text-align: left;\">Individual 11 (FEMALE; n/a)</td><td style=\"text-align: left;\">Ehlers-Danlos syndrome, vascular type (OMIM:130050)</td><td style=\"text-align: left;\">NM_000090.3:c.755G>A (heterozygous)</td><td style=\"text-align: left;\">Arterial rupture (HP:0025019); Bruising susceptibility (HP:0000978); Spontaneous pneumothorax (HP:0002108); Varicose veins (HP:0002619); Finger joint hypermobility (HP:0006094); Dermal translucency (HP:0010648); excluded: Aortic dissection (HP:0002647); excluded: Aortic rupture (HP:0031649); excluded: Arterial dissection (HP:0005294); excluded: Uterine rupture (HP:0100718); excluded: Talipes equinovarus (HP:0001762); excluded: Congenital hip dislocation (HP:0001374); excluded: Gingival fragility (HP:0034518); excluded: Tendon rupture (HP:0100550)</td></tr>\n",
       "<tr><td style=\"text-align: left;\">Individual 12 (MALE; n/a)</td><td style=\"text-align: left;\">Ehlers-Danlos syndrome, vascular type (OMIM:130050)</td><td style=\"text-align: left;\">NM_000090.3:c.763G>T (heterozygous)</td><td style=\"text-align: left;\">Arterial rupture (HP:0025019); Spontaneous pneumothorax (HP:0002108); excluded: Aortic dissection (HP:0002647); excluded: Aortic rupture (HP:0031649); excluded: Arterial dissection (HP:0005294); excluded: Bruising susceptibility (HP:0000978); excluded: Talipes equinovarus (HP:0001762); excluded: Congenital hip dislocation (HP:0001374); excluded: Varicose veins (HP:0002619); excluded: Gingival fragility (HP:0034518); excluded: Tendon rupture (HP:0100550); excluded: Finger joint hypermobility (HP:0006094); excluded: Dermal translucency (HP:0010648)</td></tr>\n",
       "<tr><td style=\"text-align: left;\">Individual 13 (FEMALE; n/a)</td><td style=\"text-align: left;\">Ehlers-Danlos syndrome, vascular type (OMIM:130050)</td><td style=\"text-align: left;\">NM_000090.3:c.848T>A (heterozygous)</td><td style=\"text-align: left;\">Aortic rupture (HP:0031649); Uterine rupture (HP:0100718); Bruising susceptibility (HP:0000978); Gingival fragility (HP:0034518); Tendon rupture (HP:0100550); Dermal translucency (HP:0010648); excluded: Aortic dissection (HP:0002647); excluded: Arterial dissection (HP:0005294); excluded: Arterial rupture (HP:0025019); excluded: Spontaneous pneumothorax (HP:0002108); excluded: Talipes equinovarus (HP:0001762); excluded: Congenital hip dislocation (HP:0001374); excluded: Finger joint hypermobility (HP:0006094)</td></tr>\n",
       "<tr><td style=\"text-align: left;\">Individual 14 (MALE; n/a)</td><td style=\"text-align: left;\">Ehlers-Danlos syndrome, vascular type (OMIM:130050)</td><td style=\"text-align: left;\">NM_000090.3:c.897+2T>G (heterozygous)</td><td style=\"text-align: left;\">Aortic rupture (HP:0031649); Arterial rupture (HP:0025019); Bruising susceptibility (HP:0000978); Spontaneous pneumothorax (HP:0002108); Varicose veins (HP:0002619); Gingival fragility (HP:0034518); Finger joint hypermobility (HP:0006094); Dermal translucency (HP:0010648); excluded: Aortic dissection (HP:0002647); excluded: Arterial dissection (HP:0005294); excluded: Talipes equinovarus (HP:0001762); excluded: Congenital hip dislocation (HP:0001374); excluded: Tendon rupture (HP:0100550)</td></tr>\n",
       "<tr><td style=\"text-align: left;\">Individual 15 (MALE; n/a)</td><td style=\"text-align: left;\">Ehlers-Danlos syndrome, vascular type (OMIM:130050)</td><td style=\"text-align: left;\">NM_000090.3:c.897+2T>A (heterozygous)</td><td style=\"text-align: left;\">Bruising susceptibility (HP:0000978); Finger joint hypermobility (HP:0006094); Dermal translucency (HP:0010648); excluded: Aortic dissection (HP:0002647); excluded: Aortic rupture (HP:0031649); excluded: Arterial dissection (HP:0005294); excluded: Arterial rupture (HP:0025019); excluded: Spontaneous pneumothorax (HP:0002108); excluded: Talipes equinovarus (HP:0001762); excluded: Congenital hip dislocation (HP:0001374); excluded: Varicose veins (HP:0002619); excluded: Gingival fragility (HP:0034518); excluded: Tendon rupture (HP:0100550)</td></tr>\n",
       "<tr><td style=\"text-align: left;\">Individual 16 (FEMALE; n/a)</td><td style=\"text-align: left;\">Ehlers-Danlos syndrome, vascular type (OMIM:130050)</td><td style=\"text-align: left;\">NM_000090.3:c.951+5G>C (heterozygous)</td><td style=\"text-align: left;\">Arterial dissection (HP:0005294); Arterial rupture (HP:0025019); Bruising susceptibility (HP:0000978); Spontaneous pneumothorax (HP:0002108); Dermal translucency (HP:0010648); excluded: Aortic dissection (HP:0002647); excluded: Aortic rupture (HP:0031649); excluded: Uterine rupture (HP:0100718); excluded: Talipes equinovarus (HP:0001762); excluded: Congenital hip dislocation (HP:0001374); excluded: Varicose veins (HP:0002619); excluded: Gingival fragility (HP:0034518); excluded: Tendon rupture (HP:0100550); excluded: Finger joint hypermobility (HP:0006094)</td></tr>\n",
       "<tr><td style=\"text-align: left;\">Individual 17 (MALE; n/a)</td><td style=\"text-align: left;\">Ehlers-Danlos syndrome, vascular type (OMIM:130050)</td><td style=\"text-align: left;\">NM_000090.3:c.1194+1G>A (heterozygous)</td><td style=\"text-align: left;\">Arterial rupture (HP:0025019); Bruising susceptibility (HP:0000978); Spontaneous pneumothorax (HP:0002108); Gingival fragility (HP:0034518); Finger joint hypermobility (HP:0006094); Dermal translucency (HP:0010648); excluded: Aortic dissection (HP:0002647); excluded: Aortic rupture (HP:0031649); excluded: Arterial dissection (HP:0005294); excluded: Talipes equinovarus (HP:0001762); excluded: Congenital hip dislocation (HP:0001374); excluded: Tendon rupture (HP:0100550)</td></tr>\n",
       "<tr><td style=\"text-align: left;\">Individual 18 (MALE; n/a)</td><td style=\"text-align: left;\">Ehlers-Danlos syndrome, vascular type (OMIM:130050)</td><td style=\"text-align: left;\">NM_000090.3:c.1330G>A (heterozygous)</td><td style=\"text-align: left;\">Bruising susceptibility (HP:0000978); Spontaneous pneumothorax (HP:0002108); Talipes equinovarus (HP:0001762); Finger joint hypermobility (HP:0006094); Dermal translucency (HP:0010648); excluded: Aortic dissection (HP:0002647); excluded: Aortic rupture (HP:0031649); excluded: Arterial dissection (HP:0005294); excluded: Arterial rupture (HP:0025019); excluded: Congenital hip dislocation (HP:0001374); excluded: Varicose veins (HP:0002619); excluded: Gingival fragility (HP:0034518); excluded: Tendon rupture (HP:0100550)</td></tr>\n",
       "<tr><td style=\"text-align: left;\">Individual 19 (FEMALE; n/a)</td><td style=\"text-align: left;\">Ehlers-Danlos syndrome, vascular type (OMIM:130050)</td><td style=\"text-align: left;\">NM_000090.3:c.1346G>T (heterozygous)</td><td style=\"text-align: left;\">Arterial rupture (HP:0025019); Bruising susceptibility (HP:0000978); Gingival fragility (HP:0034518); Finger joint hypermobility (HP:0006094); Dermal translucency (HP:0010648); excluded: Aortic dissection (HP:0002647); excluded: Aortic rupture (HP:0031649); excluded: Arterial dissection (HP:0005294); excluded: Spontaneous pneumothorax (HP:0002108); excluded: Talipes equinovarus (HP:0001762); excluded: Congenital hip dislocation (HP:0001374); excluded: Tendon rupture (HP:0100550)</td></tr>\n",
       "<tr><td style=\"text-align: left;\">Individual 20 (FEMALE; n/a)</td><td style=\"text-align: left;\">Ehlers-Danlos syndrome, vascular type (OMIM:130050)</td><td style=\"text-align: left;\">NM_000090.3:c.1546G>T (heterozygous)</td><td style=\"text-align: left;\">Aortic dissection (HP:0002647); Arterial dissection (HP:0005294); Arterial rupture (HP:0025019); Bruising susceptibility (HP:0000978); Dermal translucency (HP:0010648); excluded: Aortic rupture (HP:0031649); excluded: Uterine rupture (HP:0100718); excluded: Spontaneous pneumothorax (HP:0002108); excluded: Talipes equinovarus (HP:0001762); excluded: Congenital hip dislocation (HP:0001374); excluded: Varicose veins (HP:0002619); excluded: Gingival fragility (HP:0034518); excluded: Tendon rupture (HP:0100550); excluded: Finger joint hypermobility (HP:0006094)</td></tr>\n",
       "<tr><td style=\"text-align: left;\">Individual 21 (FEMALE; n/a)</td><td style=\"text-align: left;\">Ehlers-Danlos syndrome, vascular type (OMIM:130050)</td><td style=\"text-align: left;\">NM_000090.3:c.1662+1G>A (heterozygous)</td><td style=\"text-align: left;\">Bruising susceptibility (HP:0000978); Finger joint hypermobility (HP:0006094); excluded: Aortic dissection (HP:0002647); excluded: Aortic rupture (HP:0031649); excluded: Arterial dissection (HP:0005294); excluded: Arterial rupture (HP:0025019); excluded: Uterine rupture (HP:0100718); excluded: Spontaneous pneumothorax (HP:0002108); excluded: Talipes equinovarus (HP:0001762); excluded: Congenital hip dislocation (HP:0001374); excluded: Varicose veins (HP:0002619); excluded: Gingival fragility (HP:0034518); excluded: Tendon rupture (HP:0100550); excluded: Dermal translucency (HP:0010648)</td></tr>\n",
       "<tr><td style=\"text-align: left;\">Individual 22 (FEMALE; n/a)</td><td style=\"text-align: left;\">Ehlers-Danlos syndrome, vascular type (OMIM:130050)</td><td style=\"text-align: left;\">NM_000090.3:c.1862G>A (heterozygous)</td><td style=\"text-align: left;\">Arterial dissection (HP:0005294); Bruising susceptibility (HP:0000978); Finger joint hypermobility (HP:0006094); Dermal translucency (HP:0010648); excluded: Aortic dissection (HP:0002647); excluded: Aortic rupture (HP:0031649); excluded: Arterial rupture (HP:0025019); excluded: Spontaneous pneumothorax (HP:0002108); excluded: Talipes equinovarus (HP:0001762); excluded: Congenital hip dislocation (HP:0001374); excluded: Varicose veins (HP:0002619); excluded: Gingival fragility (HP:0034518); excluded: Tendon rupture (HP:0100550)</td></tr>\n",
       "<tr><td style=\"text-align: left;\">Individual 23 (FEMALE; n/a)</td><td style=\"text-align: left;\">Ehlers-Danlos syndrome, vascular type (OMIM:130050)</td><td style=\"text-align: left;\">NM_000090.3:c.1977+5G>C (heterozygous)</td><td style=\"text-align: left;\">Aortic dissection (HP:0002647); Arterial dissection (HP:0005294); Bruising susceptibility (HP:0000978); Varicose veins (HP:0002619); Finger joint hypermobility (HP:0006094); Dermal translucency (HP:0010648); excluded: Aortic rupture (HP:0031649); excluded: Arterial rupture (HP:0025019); excluded: Uterine rupture (HP:0100718); excluded: Spontaneous pneumothorax (HP:0002108)</td></tr>\n",
       "<tr><td style=\"text-align: left;\">Individual 24 (FEMALE; n/a)</td><td style=\"text-align: left;\">Ehlers-Danlos syndrome, vascular type (OMIM:130050)</td><td style=\"text-align: left;\">NM_000090.3:c.2134_2160del (heterozygous)</td><td style=\"text-align: left;\">Aortic dissection (HP:0002647); Arterial rupture (HP:0025019); Bruising susceptibility (HP:0000978); Spontaneous pneumothorax (HP:0002108); Gingival fragility (HP:0034518); Finger joint hypermobility (HP:0006094); Dermal translucency (HP:0010648); excluded: Aortic rupture (HP:0031649); excluded: Arterial dissection (HP:0005294); excluded: Talipes equinovarus (HP:0001762); excluded: Congenital hip dislocation (HP:0001374); excluded: Tendon rupture (HP:0100550)</td></tr>\n",
       "<tr><td style=\"text-align: left;\">Individual 25 (FEMALE; n/a)</td><td style=\"text-align: left;\">Ehlers-Danlos syndrome, vascular type (OMIM:130050)</td><td style=\"text-align: left;\">NM_000090.3:c.2283+5G>T (heterozygous)</td><td style=\"text-align: left;\">Spontaneous pneumothorax (HP:0002108); Finger joint hypermobility (HP:0006094); Dermal translucency (HP:0010648); excluded: Aortic dissection (HP:0002647); excluded: Aortic rupture (HP:0031649); excluded: Arterial dissection (HP:0005294); excluded: Arterial rupture (HP:0025019); excluded: Bruising susceptibility (HP:0000978); excluded: Talipes equinovarus (HP:0001762); excluded: Congenital hip dislocation (HP:0001374); excluded: Varicose veins (HP:0002619); excluded: Gingival fragility (HP:0034518); excluded: Tendon rupture (HP:0100550)</td></tr>\n",
       "<tr><td style=\"text-align: left;\">Individual 26 (FEMALE; n/a)</td><td style=\"text-align: left;\">Ehlers-Danlos syndrome, vascular type (OMIM:130050)</td><td style=\"text-align: left;\">NM_000090.3:c.2356G>A (heterozygous)</td><td style=\"text-align: left;\">Bruising susceptibility (HP:0000978); Spontaneous pneumothorax (HP:0002108); Finger joint hypermobility (HP:0006094); Dermal translucency (HP:0010648); excluded: Aortic dissection (HP:0002647); excluded: Aortic rupture (HP:0031649); excluded: Arterial dissection (HP:0005294); excluded: Arterial rupture (HP:0025019); excluded: Talipes equinovarus (HP:0001762); excluded: Congenital hip dislocation (HP:0001374); excluded: Varicose veins (HP:0002619); excluded: Gingival fragility (HP:0034518); excluded: Tendon rupture (HP:0100550)</td></tr>\n",
       "<tr><td style=\"text-align: left;\">Individual 27 (MALE; n/a)</td><td style=\"text-align: left;\">Ehlers-Danlos syndrome, vascular type (OMIM:130050)</td><td style=\"text-align: left;\">NM_000090.3:c.2357G>A (heterozygous)</td><td style=\"text-align: left;\">Arterial dissection (HP:0005294); excluded: Aortic dissection (HP:0002647); excluded: Aortic rupture (HP:0031649); excluded: Arterial rupture (HP:0025019); excluded: Bruising susceptibility (HP:0000978); excluded: Spontaneous pneumothorax (HP:0002108); excluded: Talipes equinovarus (HP:0001762); excluded: Congenital hip dislocation (HP:0001374); excluded: Varicose veins (HP:0002619); excluded: Gingival fragility (HP:0034518); excluded: Tendon rupture (HP:0100550); excluded: Finger joint hypermobility (HP:0006094); excluded: Dermal translucency (HP:0010648)</td></tr>\n",
       "<tr><td style=\"text-align: left;\">Individual 28 (MALE; n/a)</td><td style=\"text-align: left;\">Ehlers-Danlos syndrome, vascular type (OMIM:130050)</td><td style=\"text-align: left;\">NM_000090.3:c.2518G>A (heterozygous)</td><td style=\"text-align: left;\">Arterial rupture (HP:0025019); Bruising susceptibility (HP:0000978); Spontaneous pneumothorax (HP:0002108); Talipes equinovarus (HP:0001762); Finger joint hypermobility (HP:0006094); excluded: Aortic dissection (HP:0002647); excluded: Aortic rupture (HP:0031649); excluded: Arterial dissection (HP:0005294); excluded: Congenital hip dislocation (HP:0001374); excluded: Varicose veins (HP:0002619); excluded: Gingival fragility (HP:0034518); excluded: Tendon rupture (HP:0100550); excluded: Dermal translucency (HP:0010648)</td></tr>\n",
       "<tr><td style=\"text-align: left;\">Individual 29 (MALE; n/a)</td><td style=\"text-align: left;\">Ehlers-Danlos syndrome, vascular type (OMIM:130050)</td><td style=\"text-align: left;\">NM_000090.3:c.2815G>A (heterozygous)</td><td style=\"text-align: left;\">Arterial dissection (HP:0005294); Bruising susceptibility (HP:0000978); Finger joint hypermobility (HP:0006094); excluded: Aortic dissection (HP:0002647); excluded: Aortic rupture (HP:0031649); excluded: Arterial rupture (HP:0025019); excluded: Spontaneous pneumothorax (HP:0002108); excluded: Talipes equinovarus (HP:0001762); excluded: Congenital hip dislocation (HP:0001374); excluded: Varicose veins (HP:0002619); excluded: Gingival fragility (HP:0034518); excluded: Tendon rupture (HP:0100550); excluded: Dermal translucency (HP:0010648)</td></tr>\n",
       "<tr><td style=\"text-align: left;\">Individual 30 (MALE; n/a)</td><td style=\"text-align: left;\">Ehlers-Danlos syndrome, vascular type (OMIM:130050)</td><td style=\"text-align: left;\">NM_000090.3:c.2869G>A (heterozygous)</td><td style=\"text-align: left;\">Arterial rupture (HP:0025019); Bruising susceptibility (HP:0000978); excluded: Aortic dissection (HP:0002647); excluded: Aortic rupture (HP:0031649); excluded: Arterial dissection (HP:0005294); excluded: Spontaneous pneumothorax (HP:0002108); excluded: Tendon rupture (HP:0100550)</td></tr>\n",
       "<tr><td style=\"text-align: left;\">Individual 31 (MALE; n/a)</td><td style=\"text-align: left;\">Ehlers-Danlos syndrome, vascular type (OMIM:130050)</td><td style=\"text-align: left;\">NM_000090.3:c.2870G>T (heterozygous)</td><td style=\"text-align: left;\">Spontaneous pneumothorax (HP:0002108); Finger joint hypermobility (HP:0006094); Dermal translucency (HP:0010648); excluded: Aortic dissection (HP:0002647); excluded: Aortic rupture (HP:0031649); excluded: Arterial dissection (HP:0005294); excluded: Arterial rupture (HP:0025019); excluded: Bruising susceptibility (HP:0000978); excluded: Talipes equinovarus (HP:0001762); excluded: Congenital hip dislocation (HP:0001374); excluded: Varicose veins (HP:0002619); excluded: Gingival fragility (HP:0034518); excluded: Tendon rupture (HP:0100550)</td></tr>\n",
       "<tr><td style=\"text-align: left;\">Individual 32 (FEMALE; n/a)</td><td style=\"text-align: left;\">Ehlers-Danlos syndrome, vascular type (OMIM:130050)</td><td style=\"text-align: left;\">NM_000090.3:c.3256G>C (heterozygous)</td><td style=\"text-align: left;\">Bruising susceptibility (HP:0000978); Congenital hip dislocation (HP:0001374); Gingival fragility (HP:0034518); Tendon rupture (HP:0100550); Finger joint hypermobility (HP:0006094); Dermal translucency (HP:0010648); excluded: Aortic dissection (HP:0002647); excluded: Aortic rupture (HP:0031649); excluded: Arterial dissection (HP:0005294); excluded: Arterial rupture (HP:0025019); excluded: Spontaneous pneumothorax (HP:0002108); excluded: Talipes equinovarus (HP:0001762)</td></tr>\n",
       "<tr><td style=\"text-align: left;\">Individual 33 (MALE; n/a)</td><td style=\"text-align: left;\">Ehlers-Danlos syndrome, vascular type (OMIM:130050)</td><td style=\"text-align: left;\">NM_000090.3:c.3338G>A (heterozygous)</td><td style=\"text-align: left;\">Arterial rupture (HP:0025019); Spontaneous pneumothorax (HP:0002108); Tendon rupture (HP:0100550); excluded: Aortic dissection (HP:0002647); excluded: Aortic rupture (HP:0031649); excluded: Arterial dissection (HP:0005294); excluded: Bruising susceptibility (HP:0000978); excluded: Talipes equinovarus (HP:0001762); excluded: Congenital hip dislocation (HP:0001374); excluded: Varicose veins (HP:0002619); excluded: Gingival fragility (HP:0034518); excluded: Finger joint hypermobility (HP:0006094); excluded: Dermal translucency (HP:0010648)</td></tr>\n",
       "<tr><td style=\"text-align: left;\">Individual 34 (FEMALE; n/a)</td><td style=\"text-align: left;\">Ehlers-Danlos syndrome, vascular type (OMIM:130050)</td><td style=\"text-align: left;\">NM_000090.3:c.3525+1G>A (heterozygous)</td><td style=\"text-align: left;\">Bruising susceptibility (HP:0000978); Varicose veins (HP:0002619); Gingival fragility (HP:0034518); Tendon rupture (HP:0100550); Dermal translucency (HP:0010648); excluded: Aortic dissection (HP:0002647); excluded: Aortic rupture (HP:0031649); excluded: Arterial dissection (HP:0005294); excluded: Arterial rupture (HP:0025019); excluded: Uterine rupture (HP:0100718); excluded: Spontaneous pneumothorax (HP:0002108); excluded: Talipes equinovarus (HP:0001762); excluded: Congenital hip dislocation (HP:0001374); excluded: Finger joint hypermobility (HP:0006094)</td></tr>\n",
       "<tr><td style=\"text-align: left;\">Individual 35 (MALE; n/a)</td><td style=\"text-align: left;\">Ehlers-Danlos syndrome, vascular type (OMIM:130050)</td><td style=\"text-align: left;\">ex. 24–33 deletion: chromosomal_deletion (SO:1000029)</td><td style=\"text-align: left;\">Bruising susceptibility (HP:0000978); Spontaneous pneumothorax (HP:0002108); Talipes equinovarus (HP:0001762); Finger joint hypermobility (HP:0006094); Dermal translucency (HP:0010648); excluded: Aortic dissection (HP:0002647); excluded: Aortic rupture (HP:0031649); excluded: Arterial dissection (HP:0005294); excluded: Arterial rupture (HP:0025019); excluded: Congenital hip dislocation (HP:0001374); excluded: Varicose veins (HP:0002619); excluded: Gingival fragility (HP:0034518); excluded: Tendon rupture (HP:0100550)</td></tr>\n",
       "</table>"
      ],
      "text/plain": [
       "<IPython.core.display.HTML object>"
      ]
     },
     "metadata": {},
     "output_type": "display_data"
    }
   ],
   "source": [
    "individuals = cvalidator.get_error_free_individual_list()\n",
    "table = PhenopacketTable(individual_list=individuals, metadata=metadata)\n",
    "display(HTML(table.to_html()))"
   ]
  },
  {
   "cell_type": "code",
   "execution_count": 24,
   "id": "33a1affc-7592-443f-8b10-18438c7da1f2",
   "metadata": {},
   "outputs": [
    {
     "name": "stdout",
     "output_type": "stream",
     "text": [
      "We output 35 GA4GH phenopackets to the directory phenopackets\n"
     ]
    }
   ],
   "source": [
    "Individual.output_individuals_as_phenopackets(individual_list=individuals,\n",
    "                                              metadata=metadata)"
   ]
  },
  {
   "cell_type": "code",
   "execution_count": null,
   "id": "ae6a0c9e-ad2b-46cd-96e1-0edea51b8ce6",
   "metadata": {},
   "outputs": [],
   "source": []
  }
 ],
 "metadata": {
  "kernelspec": {
   "display_name": "ps24venv",
   "language": "python",
   "name": "ps24venv"
  },
  "language_info": {
   "codemirror_mode": {
    "name": "ipython",
    "version": 3
   },
   "file_extension": ".py",
   "mimetype": "text/x-python",
   "name": "python",
   "nbconvert_exporter": "python",
   "pygments_lexer": "ipython3",
   "version": "3.8.10"
  }
 },
 "nbformat": 4,
 "nbformat_minor": 5
}
