{
 "cells": [
  {
   "cell_type": "markdown",
   "metadata": {},
   "source": [
    "# DNA2\n",
    "[Rothmund-Thomson syndrome type 4 (RTS4)](https://omim.org/entry/620819) is caused by homozygous or compound heterozygous mutation in the DNA2 gene."
   ]
  },
  {
   "cell_type": "code",
   "execution_count": 1,
   "metadata": {},
   "outputs": [
    {
     "name": "stdout",
     "output_type": "stream",
     "text": [
      "Using pyphetools version 0.9.113\n"
     ]
    }
   ],
   "source": [
    "from pyphetools.creation import TemplateImporter, Moi\n",
    "from pyphetools.visualization import IndividualTable, QcVisualizer\n",
    "from IPython.display import display, HTML\n",
    "import pyphetools\n",
    "print(f\"Using pyphetools version {pyphetools.__version__}\")"
   ]
  },
  {
   "cell_type": "code",
   "execution_count": 6,
   "metadata": {},
   "outputs": [
    {
     "name": "stdout",
     "output_type": "stream",
     "text": [
      "HPO version 2024-12-12\n",
      "Created encoders for 56 fields\n",
      "Importing OMIM:620819, Rothmund-Thomson syndrome, type 4, HGNC:2939, DNA2,  NM_001080449.3\n",
      "[INFO] encoding variant \"c.588-2214A>G\"\n",
      "https://rest.variantvalidator.org/VariantValidator/variantvalidator/hg38/NM_001080449.3%3Ac.588-2214A>G/NM_001080449.3?content-type=application%2Fjson\n",
      "We output 7 GA4GH phenopackets to the directory phenopackets\n"
     ]
    }
   ],
   "source": [
    "template = \"input/DNA2_RTS4_individuals.xlsx\"\n",
    "created_by = \"0000-0002-0736-9199\"\n",
    "del_set = {\"Deletion exon 18–21\", \"Deletion exon 4\", \"Deletion exon 15\"}\n",
    "timporter = TemplateImporter(template=template,  created_by=created_by)\n",
    "individual_list, cvalidator = timporter.import_phenopackets_from_template(deletions=del_set)"
   ]
  },
  {
   "cell_type": "code",
   "execution_count": 7,
   "metadata": {},
   "outputs": [
    {
     "data": {
      "text/html": [
       "<h2>Cohort validation</h2>\n",
       "<p>Errors found with 5 of 7 phenopackets.</p>\n",
       "<table style=\"border: 2px solid black; align: \"left\">\n",
       "<caption>Error counts</caption>\n",
       "<tr><th style=\"text-align: left;font-weight: bold;\">Level</th><th style=\"text-align: left;font-weight: bold;\">Error category</th><th style=\"text-align: left;font-weight: bold;\">Count</th></tr>\n",
       "<tr><td style=\"text-align: left;\">WARNING</td><td style=\"text-align: left;\">REDUNDANT</td><td style=\"text-align: left;\">5</td></tr>\n",
       "</table>\n",
       "<p>A total of 5 issues were fixed and no individual was removed from the cohort.</p>"
      ],
      "text/plain": [
       "<IPython.core.display.HTML object>"
      ]
     },
     "metadata": {},
     "output_type": "display_data"
    }
   ],
   "source": [
    "qc = QcVisualizer(cohort_validator=cvalidator)\n",
    "display(HTML(qc.to_summary_html()))"
   ]
  },
  {
   "cell_type": "code",
   "execution_count": 8,
   "metadata": {},
   "outputs": [
    {
     "data": {
      "text/html": [
       "<table style=\"border: 2px solid black; align: \"left\">\n",
       "<caption>7 phenopackets - PMID:37055165 (n=7)</caption>\n",
       "<tr><th style=\"text-align: left;font-weight: bold;\">Individual</th><th style=\"text-align: left;font-weight: bold;\">Disease</th><th style=\"text-align: left;font-weight: bold;\">Genotype</th><th style=\"text-align: left;font-weight: bold;\">Phenotypic features</th></tr>\n",
       "<tr><td style=\"text-align: left;\">Individual F1.1 (MALE; P18Y)</td><td style=\"text-align: left;\">Rothmund-Thomson syndrome, type 4 (OMIM:620819)</td><td style=\"text-align: left;\"><ul> <li>NM_001080449.3:c.588-2214A>G (heterozygous)</li> <li>Deletion exon 18–21: chromosomal_deletion (SO:1000029)</li> </ul></td><td style=\"text-align: left;\">Cutaneous photosensitivity (HP:0000992): onset ; Platyspondyly (HP:0000926): onset ; Nail dystrophy (HP:0008404): onset ; Flared metaphysis (HP:0003015): onset ; Short metacarpal (HP:0010049): onset ; Micropenis (HP:0000054): onset ; Cryptorchidism (HP:0000028): onset ; Depressed nasal bridge (HP:0005280): onset ; Deeply set eye (HP:0000490): onset ; Microcephaly (HP:0000252): onset ; Osteopenia (HP:0000938): onset ; Decreased body weight (HP:0004325): onset ; Reduced visual acuity (HP:0007663): onset ; Glaucoma (HP:0000501): onset ; Short phalanx of finger (HP:0009803): onset ; Sparse scalp hair (HP:0002209): onset ; Hypothyroidism (HP:0000821): onset ; Frontal bossing (HP:0002007): onset ; Short stature (HP:0004322): onset ; Reduced circulating growth hormone concentration (HP:0034323): onset ; Decreased serum insulin-like growth factor 1 (HP:0030353): onset ; Sparse eyebrow (HP:0045075): onset ; Delayed skeletal maturation (HP:0002750): onset ; Abnormal blistering of the skin (HP:0008066): onset ; excluded: Ventriculomegaly (HP:0002119): onset ; excluded: Hypoplasia of the corpus callosum (HP:0002079): onset ; excluded: Hippocampal malrotation (HP:0034396): onset ; excluded: Empty sella turcica (HP:6000483): onset ; excluded: Peters anomaly (HP:0000659): onset ; excluded: Microphthalmia (HP:0000568): onset ; excluded: Corneal opacity (HP:0007957): onset ; excluded: Optic atrophy (HP:0000648): onset ; excluded: Small for gestational age (HP:0001518): onset ; excluded: Global developmental delay (HP:0001263): onset ; excluded: Neoplasm (HP:0002664): onset <br/><b>TimeElement(element=OntologyClass(id=HP:0003593, label=Infantile onset))</b>: Cataract (HP:0000518): onset ontology_class {\n",
       "  id: \"HP:0003593\"\n",
       "  label: \"Infantile onset\"\n",
       "}\n",
       "<br/><b>TimeElement(element=Age(iso8601duration=P6M))</b>: Poikiloderma (HP:0001029): onset age {\n",
       "  iso8601duration: \"P6M\"\n",
       "}\n",
       "</td></tr>\n",
       "<tr><td style=\"text-align: left;\">Individual F2.1 (FEMALE; P12Y)</td><td style=\"text-align: left;\">Rothmund-Thomson syndrome, type 4 (OMIM:620819)</td><td style=\"text-align: left;\"><ul> <li>NM_001080449.3:c.588-2214A>G (heterozygous)</li> <li>NM_001080449.3:c.143T>C (heterozygous)</li> </ul></td><td style=\"text-align: left;\">Cutaneous photosensitivity (HP:0000992): onset ; Nail dystrophy (HP:0008404): onset ; Hypoplasia of the corpus callosum (HP:0002079): onset ; Flared metaphysis (HP:0003015): onset ; Short metacarpal (HP:0010049): onset ; Depressed nasal bridge (HP:0005280): onset ; Deeply set eye (HP:0000490): onset ; Reduced visual acuity (HP:0007663): onset ; Microphthalmia (HP:0000568): onset ; Glaucoma (HP:0000501): onset ; Corneal opacity (HP:0007957): onset ; Short phalanx of finger (HP:0009803): onset ; Sparse scalp hair (HP:0002209): onset ; Hypothyroidism (HP:0000821): onset ; Frontal bossing (HP:0002007): onset ; Short stature (HP:0004322): onset ; Intrauterine growth retardation (HP:0001511): onset ; Small for gestational age (HP:0001518): onset ; Reduced circulating growth hormone concentration (HP:0034323): onset ; Decreased serum insulin-like growth factor 1 (HP:0030353): onset ; Sparse eyebrow (HP:0045075): onset ; Delayed skeletal maturation (HP:0002750): onset ; excluded: Ventriculomegaly (HP:0002119): onset ; excluded: Delayed eruption of teeth (HP:0000684): onset ; excluded: Hippocampal malrotation (HP:0034396): onset ; excluded: Empty sella turcica (HP:6000483): onset ; excluded: Microcephaly (HP:0000252): onset ; excluded: Osteopenia (HP:0000938): onset ; excluded: Peters anomaly (HP:0000659): onset ; excluded: Optic atrophy (HP:0000648): onset ; excluded: Global developmental delay (HP:0001263): onset ; excluded: Neoplasm (HP:0002664): onset ; excluded: Abnormal blistering of the skin (HP:0008066): onset <br/><b>TimeElement(element=OntologyClass(id=HP:0003593, label=Infantile onset))</b>: Cataract (HP:0000518): onset ontology_class {\n",
       "  id: \"HP:0003593\"\n",
       "  label: \"Infantile onset\"\n",
       "}\n",
       "<br/><b>TimeElement(element=Age(iso8601duration=P3M))</b>: Poikiloderma (HP:0001029): onset age {\n",
       "  iso8601duration: \"P3M\"\n",
       "}\n",
       "</td></tr>\n",
       "<tr><td style=\"text-align: left;\">Individual F3.1 (FEMALE; P7Y)</td><td style=\"text-align: left;\">Rothmund-Thomson syndrome, type 4 (OMIM:620819)</td><td style=\"text-align: left;\"><ul> <li>NM_001080449.3:c.588-2214A>G (heterozygous)</li> <li>Deletion exon 15: chromosomal_deletion (SO:1000029)</li> </ul></td><td style=\"text-align: left;\">Cutaneous photosensitivity (HP:0000992): onset ; Ventriculomegaly (HP:0002119): onset ; Nail dystrophy (HP:0008404): onset ; Hypoplasia of the corpus callosum (HP:0002079): onset ; Depressed nasal bridge (HP:0005280): onset ; Microcephaly (HP:0000252): onset ; Reduced visual acuity (HP:0007663): onset ; Glaucoma (HP:0000501): onset ; Sparse scalp hair (HP:0002209): onset ; Frontal bossing (HP:0002007): onset ; Short stature (HP:0004322): onset ; Small for gestational age (HP:0001518): onset ; Reduced circulating growth hormone concentration (HP:0034323): onset ; Decreased serum insulin-like growth factor 1 (HP:0030353): onset ; Sparse eyebrow (HP:0045075): onset ; Abnormal blistering of the skin (HP:0008066): onset ; excluded: Delayed eruption of teeth (HP:0000684): onset ; excluded: Hippocampal malrotation (HP:0034396): onset ; excluded: Empty sella turcica (HP:6000483): onset ; excluded: Deeply set eye (HP:0000490): onset ; excluded: Peters anomaly (HP:0000659): onset ; excluded: Microphthalmia (HP:0000568): onset ; excluded: Corneal opacity (HP:0007957): onset ; excluded: Optic atrophy (HP:0000648): onset ; excluded: Short phalanx of finger (HP:0009803): onset ; excluded: Hypothyroidism (HP:0000821): onset ; excluded: Global developmental delay (HP:0001263): onset ; excluded: Neoplasm (HP:0002664): onset <br/><b>TimeElement(element=Age(iso8601duration=P3M))</b>: Poikiloderma (HP:0001029): onset age {\n",
       "  iso8601duration: \"P3M\"\n",
       "}\n",
       "<br/><b>TimeElement(element=Age(iso8601duration=P11M))</b>: Cataract (HP:0000518): onset age {\n",
       "  iso8601duration: \"P11M\"\n",
       "}\n",
       "</td></tr>\n",
       "<tr><td style=\"text-align: left;\">Individual F4.1 (FEMALE; P12Y)</td><td style=\"text-align: left;\">Rothmund-Thomson syndrome, type 4 (OMIM:620819)</td><td style=\"text-align: left;\"><ul> <li>NM_001080449.3:c.588-2214A>G (heterozygous)</li> <li>Deletion exon 4: chromosomal_deletion (SO:1000029)</li> </ul></td><td style=\"text-align: left;\">Cutaneous photosensitivity (HP:0000992): onset ; Ventriculomegaly (HP:0002119): onset ; Platyspondyly (HP:0000926): onset ; Nail dystrophy (HP:0008404): onset ; Empty sella turcica (HP:6000483): onset ; Flared metaphysis (HP:0003015): onset ; Short metacarpal (HP:0010049): onset ; Depressed nasal bridge (HP:0005280): onset ; Deeply set eye (HP:0000490): onset ; Microcephaly (HP:0000252): onset ; Osteopenia (HP:0000938): onset ; Reduced visual acuity (HP:0007663): onset ; Microphthalmia (HP:0000568): onset ; Corneal opacity (HP:0007957): onset ; Short phalanx of finger (HP:0009803): onset ; Sparse scalp hair (HP:0002209): onset ; Hypothyroidism (HP:0000821): onset ; Frontal bossing (HP:0002007): onset ; Short stature (HP:0004322): onset ; Small for gestational age (HP:0001518): onset ; Global developmental delay (HP:0001263): onset ; Reduced circulating growth hormone concentration (HP:0034323): onset ; Decreased serum insulin-like growth factor 1 (HP:0030353): onset ; Sparse eyebrow (HP:0045075): onset ; Delayed skeletal maturation (HP:0002750): onset ; Abnormal blistering of the skin (HP:0008066): onset ; excluded: Delayed eruption of teeth (HP:0000684): onset ; excluded: Hypoplasia of the corpus callosum (HP:0002079): onset ; excluded: Hippocampal malrotation (HP:0034396): onset ; excluded: Peters anomaly (HP:0000659): onset ; excluded: Glaucoma (HP:0000501): onset ; excluded: Optic atrophy (HP:0000648): onset ; excluded: Neoplasm (HP:0002664): onset <br/><b>TimeElement(element=OntologyClass(id=HP:0003577, label=Congenital onset))</b>: Cataract (HP:0000518): onset ontology_class {\n",
       "  id: \"HP:0003577\"\n",
       "  label: \"Congenital onset\"\n",
       "}\n",
       "<br/><b>TimeElement(element=Age(iso8601duration=P3M))</b>: Poikiloderma (HP:0001029): onset age {\n",
       "  iso8601duration: \"P3M\"\n",
       "}\n",
       "</td></tr>\n",
       "<tr><td style=\"text-align: left;\">Individual F5.1 (MALE; P7Y)</td><td style=\"text-align: left;\">Rothmund-Thomson syndrome, type 4 (OMIM:620819)</td><td style=\"text-align: left;\"><ul> <li>NM_001080449.3:c.588-2214A>G (heterozygous)</li> <li>Deletion exon 4: chromosomal_deletion (SO:1000029)</li> </ul></td><td style=\"text-align: left;\">Cutaneous photosensitivity (HP:0000992): onset ; Nail dystrophy (HP:0008404): onset ; Micropenis (HP:0000054): onset ; Cryptorchidism (HP:0000028): onset ; Depressed nasal bridge (HP:0005280): onset ; Microcephaly (HP:0000252): onset ; Reduced visual acuity (HP:0007663): onset ; Peters anomaly (HP:0000659): onset ; Microphthalmia (HP:0000568): onset ; Glaucoma (HP:0000501): onset ; Corneal opacity (HP:0007957): onset ; Sparse scalp hair (HP:0002209): onset ; Hypothyroidism (HP:0000821): onset ; Frontal bossing (HP:0002007): onset ; Short stature (HP:0004322): onset ; Small for gestational age (HP:0001518): onset ; Global developmental delay (HP:0001263): onset ; Reduced circulating growth hormone concentration (HP:0034323): onset ; Decreased serum insulin-like growth factor 1 (HP:0030353): onset ; Sparse eyebrow (HP:0045075): onset ; Abnormal blistering of the skin (HP:0008066): onset ; excluded: Ventriculomegaly (HP:0002119): onset ; excluded: Delayed eruption of teeth (HP:0000684): onset ; excluded: Hypoplasia of the corpus callosum (HP:0002079): onset ; excluded: Hippocampal malrotation (HP:0034396): onset ; excluded: Empty sella turcica (HP:6000483): onset ; excluded: Deeply set eye (HP:0000490): onset ; excluded: Optic atrophy (HP:0000648): onset ; excluded: Short phalanx of finger (HP:0009803): onset ; excluded: Neoplasm (HP:0002664): onset <br/><b>TimeElement(element=Age(iso8601duration=P3M))</b>: Poikiloderma (HP:0001029): onset age {\n",
       "  iso8601duration: \"P3M\"\n",
       "}\n",
       "</td></tr>\n",
       "<tr><td style=\"text-align: left;\">Individual F6.1 (MALE; P2Y)</td><td style=\"text-align: left;\">Rothmund-Thomson syndrome, type 4 (OMIM:620819)</td><td style=\"text-align: left;\"><ul> <li>NM_001080449.3:c.588-2214A>G (heterozygous)</li> <li>Deletion exon 15: chromosomal_deletion (SO:1000029)</li> </ul></td><td style=\"text-align: left;\">Cutaneous photosensitivity (HP:0000992): onset ; Delayed eruption of teeth (HP:0000684): onset ; Hippocampal malrotation (HP:0034396): onset ; Micropenis (HP:0000054): onset ; Depressed nasal bridge (HP:0005280): onset ; Deeply set eye (HP:0000490): onset ; Reduced visual acuity (HP:0007663): onset ; Corneal opacity (HP:0007957): onset ; Sparse scalp hair (HP:0002209): onset ; Frontal bossing (HP:0002007): onset ; Short stature (HP:0004322): onset ; Small for gestational age (HP:0001518): onset ; Sparse eyebrow (HP:0045075): onset ; excluded: Ventriculomegaly (HP:0002119): onset ; excluded: Nail dystrophy (HP:0008404): onset ; excluded: Hypoplasia of the corpus callosum (HP:0002079): onset ; excluded: Empty sella turcica (HP:6000483): onset ; excluded: Cryptorchidism (HP:0000028): onset ; excluded: Microcephaly (HP:0000252): onset ; excluded: Peters anomaly (HP:0000659): onset ; excluded: Microphthalmia (HP:0000568): onset ; excluded: Glaucoma (HP:0000501): onset ; excluded: Optic atrophy (HP:0000648): onset ; excluded: Short phalanx of finger (HP:0009803): onset ; excluded: Global developmental delay (HP:0001263): onset ; excluded: Neoplasm (HP:0002664): onset ; excluded: Abnormal blistering of the skin (HP:0008066): onset <br/><b>TimeElement(element=OntologyClass(id=HP:0003593, label=Infantile onset))</b>: Cataract (HP:0000518): onset ontology_class {\n",
       "  id: \"HP:0003593\"\n",
       "  label: \"Infantile onset\"\n",
       "}\n",
       "<br/><b>TimeElement(element=Age(iso8601duration=P3M))</b>: Poikiloderma (HP:0001029): onset age {\n",
       "  iso8601duration: \"P3M\"\n",
       "}\n",
       "</td></tr>\n",
       "<tr><td style=\"text-align: left;\">Individual F7.1 (MALE; P7Y)</td><td style=\"text-align: left;\">Rothmund-Thomson syndrome, type 4 (OMIM:620819)</td><td style=\"text-align: left;\"><ul> <li>NM_001080449.3:c.588-2214A>G (heterozygous)</li> <li>NM_001080449.3:c.1711dup (heterozygous)</li> </ul></td><td style=\"text-align: left;\">Cutaneous photosensitivity (HP:0000992): onset ; Nail dystrophy (HP:0008404): onset ; Short metacarpal (HP:0010049): onset ; Micropenis (HP:0000054): onset ; Cryptorchidism (HP:0000028): onset ; Depressed nasal bridge (HP:0005280): onset ; Deeply set eye (HP:0000490): onset ; Microcephaly (HP:0000252): onset ; Reduced visual acuity (HP:0007663): onset ; Microphthalmia (HP:0000568): onset ; Glaucoma (HP:0000501): onset ; Corneal opacity (HP:0007957): onset ; Optic atrophy (HP:0000648): onset ; Short phalanx of finger (HP:0009803): onset ; Sparse scalp hair (HP:0002209): onset ; Hypothyroidism (HP:0000821): onset ; Frontal bossing (HP:0002007): onset ; Short stature (HP:0004322): onset ; Intrauterine growth retardation (HP:0001511): onset ; Small for gestational age (HP:0001518): onset ; Reduced circulating growth hormone concentration (HP:0034323): onset ; Decreased serum insulin-like growth factor 1 (HP:0030353): onset ; Sparse eyebrow (HP:0045075): onset ; Delayed skeletal maturation (HP:0002750): onset ; Abnormal blistering of the skin (HP:0008066): onset ; excluded: Ventriculomegaly (HP:0002119): onset ; excluded: Delayed eruption of teeth (HP:0000684): onset ; excluded: Hypoplasia of the corpus callosum (HP:0002079): onset ; excluded: Hippocampal malrotation (HP:0034396): onset ; excluded: Empty sella turcica (HP:6000483): onset ; excluded: Peters anomaly (HP:0000659): onset ; excluded: Global developmental delay (HP:0001263): onset ; excluded: Neoplasm (HP:0002664): onset <br/><b>TimeElement(element=Age(iso8601duration=P3M14D))</b>: Poikiloderma (HP:0001029): onset age {\n",
       "  iso8601duration: \"P3M14D\"\n",
       "}\n",
       "<br/><b>TimeElement(element=Age(iso8601duration=P1Y6M))</b>: Cataract (HP:0000518): onset age {\n",
       "  iso8601duration: \"P1Y6M\"\n",
       "}\n",
       "</td></tr>\n",
       "</table>"
      ],
      "text/plain": [
       "<IPython.core.display.HTML object>"
      ]
     },
     "metadata": {},
     "output_type": "display_data"
    }
   ],
   "source": [
    "table = IndividualTable(cvalidator.get_error_free_individual_list())\n",
    "display(HTML(table.to_html()))"
   ]
  },
  {
   "cell_type": "code",
   "execution_count": 10,
   "metadata": {},
   "outputs": [
    {
     "name": "stdout",
     "output_type": "stream",
     "text": [
      "[pyphetools] Ingested 7 GA4GH phenopackets.\n",
      "[INFO] Extracted 7 from 7 phenopackets with OMIM:620819\n",
      "\n",
      "\tRothmund-Thomson syndrome, type 4 (OMIM:620819): n=7\n",
      "We found a total of 39 unique HPO terms\n",
      "Extracted disease: Rothmund-Thomson syndrome, type 4 (OMIM:620819)\n",
      "Wrote HPOA disease file to OMIM-620819.tab\n"
     ]
    },
    {
     "data": {
      "text/html": [
       "<div>\n",
       "<style scoped>\n",
       "    .dataframe tbody tr th:only-of-type {\n",
       "        vertical-align: middle;\n",
       "    }\n",
       "\n",
       "    .dataframe tbody tr th {\n",
       "        vertical-align: top;\n",
       "    }\n",
       "\n",
       "    .dataframe thead th {\n",
       "        text-align: right;\n",
       "    }\n",
       "</style>\n",
       "<table border=\"1\" class=\"dataframe\">\n",
       "  <thead>\n",
       "    <tr style=\"text-align: right;\">\n",
       "      <th></th>\n",
       "      <th>#diseaseID</th>\n",
       "      <th>diseaseName</th>\n",
       "      <th>phenotypeID</th>\n",
       "      <th>phenotypeName</th>\n",
       "      <th>onsetID</th>\n",
       "      <th>onsetName</th>\n",
       "      <th>frequency</th>\n",
       "      <th>sex</th>\n",
       "      <th>negation</th>\n",
       "      <th>modifier</th>\n",
       "      <th>description</th>\n",
       "      <th>publication</th>\n",
       "      <th>evidence</th>\n",
       "      <th>biocuration</th>\n",
       "    </tr>\n",
       "  </thead>\n",
       "  <tbody>\n",
       "    <tr>\n",
       "      <th>0</th>\n",
       "      <td>OMIM:620819</td>\n",
       "      <td>Rothmund-Thomson syndrome, type 4</td>\n",
       "      <td>HP:0000518</td>\n",
       "      <td>Cataract</td>\n",
       "      <td></td>\n",
       "      <td></td>\n",
       "      <td>6/6</td>\n",
       "      <td></td>\n",
       "      <td></td>\n",
       "      <td></td>\n",
       "      <td></td>\n",
       "      <td>PMID:37055165</td>\n",
       "      <td>PCS</td>\n",
       "      <td>ORCID:0000-0002-0736-9199[2024-12-14]</td>\n",
       "    </tr>\n",
       "    <tr>\n",
       "      <th>1</th>\n",
       "      <td>OMIM:620819</td>\n",
       "      <td>Rothmund-Thomson syndrome, type 4</td>\n",
       "      <td>HP:0001029</td>\n",
       "      <td>Poikiloderma</td>\n",
       "      <td></td>\n",
       "      <td></td>\n",
       "      <td>7/7</td>\n",
       "      <td></td>\n",
       "      <td></td>\n",
       "      <td></td>\n",
       "      <td></td>\n",
       "      <td>PMID:37055165</td>\n",
       "      <td>PCS</td>\n",
       "      <td>ORCID:0000-0002-0736-9199[2024-12-14]</td>\n",
       "    </tr>\n",
       "    <tr>\n",
       "      <th>2</th>\n",
       "      <td>OMIM:620819</td>\n",
       "      <td>Rothmund-Thomson syndrome, type 4</td>\n",
       "      <td>HP:0000992</td>\n",
       "      <td>Cutaneous photosensitivity</td>\n",
       "      <td></td>\n",
       "      <td></td>\n",
       "      <td>7/7</td>\n",
       "      <td></td>\n",
       "      <td></td>\n",
       "      <td></td>\n",
       "      <td></td>\n",
       "      <td>PMID:37055165</td>\n",
       "      <td>PCS</td>\n",
       "      <td>ORCID:0000-0002-0736-9199[2024-12-14]</td>\n",
       "    </tr>\n",
       "    <tr>\n",
       "      <th>3</th>\n",
       "      <td>OMIM:620819</td>\n",
       "      <td>Rothmund-Thomson syndrome, type 4</td>\n",
       "      <td>HP:0002119</td>\n",
       "      <td>Ventriculomegaly</td>\n",
       "      <td></td>\n",
       "      <td></td>\n",
       "      <td>2/7</td>\n",
       "      <td></td>\n",
       "      <td></td>\n",
       "      <td></td>\n",
       "      <td></td>\n",
       "      <td>PMID:37055165</td>\n",
       "      <td>PCS</td>\n",
       "      <td>ORCID:0000-0002-0736-9199[2024-12-14]</td>\n",
       "    </tr>\n",
       "    <tr>\n",
       "      <th>4</th>\n",
       "      <td>OMIM:620819</td>\n",
       "      <td>Rothmund-Thomson syndrome, type 4</td>\n",
       "      <td>HP:0008404</td>\n",
       "      <td>Nail dystrophy</td>\n",
       "      <td></td>\n",
       "      <td></td>\n",
       "      <td>6/7</td>\n",
       "      <td></td>\n",
       "      <td></td>\n",
       "      <td></td>\n",
       "      <td></td>\n",
       "      <td>PMID:37055165</td>\n",
       "      <td>PCS</td>\n",
       "      <td>ORCID:0000-0002-0736-9199[2024-12-14]</td>\n",
       "    </tr>\n",
       "  </tbody>\n",
       "</table>\n",
       "</div>"
      ],
      "text/plain": [
       "    #diseaseID                        diseaseName phenotypeID  \\\n",
       "0  OMIM:620819  Rothmund-Thomson syndrome, type 4  HP:0000518   \n",
       "1  OMIM:620819  Rothmund-Thomson syndrome, type 4  HP:0001029   \n",
       "2  OMIM:620819  Rothmund-Thomson syndrome, type 4  HP:0000992   \n",
       "3  OMIM:620819  Rothmund-Thomson syndrome, type 4  HP:0002119   \n",
       "4  OMIM:620819  Rothmund-Thomson syndrome, type 4  HP:0008404   \n",
       "\n",
       "                phenotypeName onsetID onsetName frequency sex negation  \\\n",
       "0                    Cataract                         6/6                \n",
       "1                Poikiloderma                         7/7                \n",
       "2  Cutaneous photosensitivity                         7/7                \n",
       "3            Ventriculomegaly                         2/7                \n",
       "4              Nail dystrophy                         6/7                \n",
       "\n",
       "  modifier description    publication evidence  \\\n",
       "0                       PMID:37055165      PCS   \n",
       "1                       PMID:37055165      PCS   \n",
       "2                       PMID:37055165      PCS   \n",
       "3                       PMID:37055165      PCS   \n",
       "4                       PMID:37055165      PCS   \n",
       "\n",
       "                             biocuration  \n",
       "0  ORCID:0000-0002-0736-9199[2024-12-14]  \n",
       "1  ORCID:0000-0002-0736-9199[2024-12-14]  \n",
       "2  ORCID:0000-0002-0736-9199[2024-12-14]  \n",
       "3  ORCID:0000-0002-0736-9199[2024-12-14]  \n",
       "4  ORCID:0000-0002-0736-9199[2024-12-14]  "
      ]
     },
     "execution_count": 10,
     "metadata": {},
     "output_type": "execute_result"
    }
   ],
   "source": [
    "pmid = \"PMID:37055165\"\n",
    "df = timporter.create_hpoa_from_phenopackets(pmid=pmid, mode_of_inheritance=Moi.AR, target=\"OMIM:620819\")\n",
    "df.head()"
   ]
  },
  {
   "cell_type": "code",
   "execution_count": null,
   "metadata": {},
   "outputs": [],
   "source": []
  }
 ],
 "metadata": {
  "kernelspec": {
   "display_name": "ps24venv",
   "language": "python",
   "name": "python3"
  },
  "language_info": {
   "codemirror_mode": {
    "name": "ipython",
    "version": 3
   },
   "file_extension": ".py",
   "mimetype": "text/x-python",
   "name": "python",
   "nbconvert_exporter": "python",
   "pygments_lexer": "ipython3",
   "version": "3.12.4"
  }
 },
 "nbformat": 4,
 "nbformat_minor": 2
}
