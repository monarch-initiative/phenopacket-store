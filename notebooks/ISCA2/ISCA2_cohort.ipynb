{
 "cells": [
  {
   "cell_type": "markdown",
   "id": "e230d3c7-7f17-48fc-b09e-e141cdd8b943",
   "metadata": {},
   "source": [
    "# ISCA2\n",
    "\n",
    "Pathogenic variants in ISCA2 cause [Multiple mitochondrial dysfunctions syndrome 4 ](https://omim.org/entry/616370). This notebook contains information from several publications."
   ]
  },
  {
   "cell_type": "code",
   "execution_count": 9,
   "id": "718cb83d-6fe7-4724-a04c-f263a137378e",
   "metadata": {},
   "outputs": [
    {
     "name": "stdout",
     "output_type": "stream",
     "text": [
      "Using pyphetools version 0.9.66\n"
     ]
    }
   ],
   "source": [
    "from pyphetools.creation import TemplateImporter\n",
    "from pyphetools.visualization import IndividualTable, QcVisualizer\n",
    "from IPython.display import display, HTML\n",
    "import pyphetools\n",
    "print(f\"Using pyphetools version {pyphetools.__version__}\")"
   ]
  },
  {
   "cell_type": "code",
   "execution_count": 10,
   "id": "f99da07a-1900-4e72-9d7a-d9aacde210f9",
   "metadata": {},
   "outputs": [],
   "source": [
    "template = \"input/ISCA2_MMDS4_individuals.xlsx\"\n",
    "hp_json = \"../hp.json\"\n",
    "created_by = \"0000-0002-0736-9199\""
   ]
  },
  {
   "cell_type": "code",
   "execution_count": 13,
   "id": "2324589c-8e83-435c-9763-90a1910534bb",
   "metadata": {},
   "outputs": [
    {
     "name": "stdout",
     "output_type": "stream",
     "text": [
      "HPO version 2024-03-06\n",
      "Created encoders for 77 fields\n",
      " we got OMIM:616370  NM_194279.4\n",
      "We output 16 GA4GH phenopackets to the directory phenopackets\n"
     ]
    }
   ],
   "source": [
    "timporter = TemplateImporter(template=template, hp_json=hp_json, created_by=created_by)\n",
    "individual_list, cvalidator = timporter.import_phenopackets_from_template()"
   ]
  },
  {
   "cell_type": "code",
   "execution_count": 14,
   "id": "82a64764-da34-411b-b2fc-86dc27a403a6",
   "metadata": {},
   "outputs": [
    {
     "data": {
      "text/html": [
       "<h2>Cohort validation</h2>\n",
       "<p>Errors found with 1 of 16 phenopackets.</p>\n",
       "<table style=\"border: 2px solid black; align: \"left\">\n",
       "<caption>Error counts</caption>\n",
       "<tr><th style=\"text-align: left;font-weight: bold;\">Level</th><th style=\"text-align: left;font-weight: bold;\">Error category</th><th style=\"text-align: left;font-weight: bold;\">Count</th></tr>\n",
       "<tr><td style=\"text-align: left;\">WARNING</td><td style=\"text-align: left;\">REDUNDANT</td><td style=\"text-align: left;\">1</td></tr>\n",
       "</table>\n",
       "<p>A total of 1 issues were fixed and no individual was removed from the cohort.</p>"
      ],
      "text/plain": [
       "<IPython.core.display.HTML object>"
      ]
     },
     "metadata": {},
     "output_type": "display_data"
    }
   ],
   "source": [
    "qc = QcVisualizer(cohort_validator=cvalidator)\n",
    "display(HTML(qc.to_summary_html()))"
   ]
  },
  {
   "cell_type": "code",
   "execution_count": 15,
   "id": "4004f71c-512f-44f2-97b6-d9bf8e884622",
   "metadata": {},
   "outputs": [
    {
     "data": {
      "text/html": [
       "<table style=\"border: 2px solid black; align: \"left\">\n",
       "<caption>16 phenopackets - PMID:29297947 (n=2); PMID:29359243 (n=1); PMID:31279336 (n=1); PMID:32424628 (n=1); PMID:25539947 (n=1); PMID:29122497 (n=10)</caption>\n",
       "<tr><th style=\"text-align: left;font-weight: bold;\">Individual</th><th style=\"text-align: left;font-weight: bold;\">Disease</th><th style=\"text-align: left;font-weight: bold;\">Genotype</th><th style=\"text-align: left;font-weight: bold;\">Phenotypic features</th></tr>\n",
       "<tr><td style=\"text-align: left;\">29297947_P1 (MALE; P3Y)</td><td style=\"text-align: left;\">Multiple mitochondrial dysfunctions syndrome 4 (OMIM:616370)</td><td style=\"text-align: left;\">NM_194279.3:c.229G>A (homozygous)</td><td style=\"text-align: left;\">Increased CSF glycine concentration (HP:0500230); Hyperintensity of cerebral white matter on MRI (HP:0030890); Increased CSF lactate (HP:0002490); Wide nasal bridge (HP:0000431); Postnatal growth retardation (HP:0008897); Diffuse optic disc pallor (HP:0012512); Nasogastric tube feeding (HP:0040288); Hyperglycinuria (HP:0003108); Visual impairment (HP:0000505); Failure to thrive (HP:0001508); Hyperintensity of MRI T2 signal of the spinal cord (HP:0040272); Generalized hypotonia (HP:0001290); Leukodystrophy (HP:0002415); Low-set ears (HP:0000369); Increased CSF glutamate concentration (HP:0500200); Developmental regression (HP:0002376); Spasticity (HP:0001257); Global developmental delay (HP:0001263)</td></tr>\n",
       "<tr><td style=\"text-align: left;\">29297947_P2 (FEMALE; P9M)</td><td style=\"text-align: left;\">Multiple mitochondrial dysfunctions syndrome 4 (OMIM:616370)</td><td style=\"text-align: left;\">NM_194279.3:c.229G>A (homozygous)</td><td style=\"text-align: left;\">Hyperintensity of cerebral white matter on MRI (HP:0030890); Feeding difficulties in infancy (HP:0008872); Cutaneous syndactyly of toes (HP:0010621); Leg muscle stiffness (HP:0008969); Postnatal growth retardation (HP:0008897); Diffuse optic disc pallor (HP:0012512); Hypotonia (HP:0001252); Visual impairment (HP:0000505); Leukodystrophy (HP:0002415); Nystagmus (HP:0000639); Motor regression (HP:0033044); Short 4th metacarpal (HP:0010044); Spasticity (HP:0001257); Macrocephaly (HP:0000256); Global developmental delay (HP:0001263)</td></tr>\n",
       "<tr><td style=\"text-align: left;\">29359243_P1 (FEMALE; P3M)</td><td style=\"text-align: left;\">Multiple mitochondrial dysfunctions syndrome 4 (OMIM:616370)</td><td style=\"text-align: left;\"><ul> <li>NM_194279.3:c.297del (heterozygous)</li> <li>NM_194279.3:c.334A>G (heterozygous)</li> </ul></td><td style=\"text-align: left;\">Abnormal diffusion weighted cerebral MRI morphology (HP:0032615); Increased CSF lactate (HP:0002490); Brisk reflexes (HP:0001348); Feeding difficulties (HP:0011968); Abnormality of the internal capsule (HP:0012502); Respiratory failure requiring assisted ventilation (HP:0004887); Nystagmus (HP:0000639); Motor regression (HP:0033044); Abnormal cerebral cortex morphology (HP:0002538); Severe muscular hypotonia (HP:0006829)</td></tr>\n",
       "<tr><td style=\"text-align: left;\">31279336_P1 (MALE; P7M)</td><td style=\"text-align: left;\">Multiple mitochondrial dysfunctions syndrome 4 (OMIM:616370)</td><td style=\"text-align: left;\">NM_194279.3:c.355G>A (homozygous)</td><td style=\"text-align: left;\">Insomnia (HP:0100785); Irritability (HP:0000737); Hypotonia (HP:0001252); Abnormal periventricular white matter morphology (HP:0002518); Malaise (HP:0033834); Abnormal cerebellum morphology (HP:0001317); Muscle stiffness (HP:0003552)</td></tr>\n",
       "<tr><td style=\"text-align: left;\">32424628_P1 (MALE; P11Y)</td><td style=\"text-align: left;\">Multiple mitochondrial dysfunctions syndrome 4 (OMIM:616370)</td><td style=\"text-align: left;\"><ul> <li>NM_194279.3:c.5C>A (heterozygous)</li> <li>NM_194279.3:c.413C>G (heterozygous)</li> </ul></td><td style=\"text-align: left;\">Periventricular white matter hyperintensities (HP:0030891); Optic atrophy (HP:0000648); Abnormal pyramidal sign (HP:0007256); Vomiting (HP:0002013); Increased CSF lactate (HP:0002490); Arm dystonia (HP:0031960); Central nervous system cyst (HP:0030724); Thick corpus callosum (HP:0007074); Increased circulating lactate concentration (HP:0002151); Spastic tetraparesis (HP:0001285); Hyperreflexia (HP:0001347); Cognitive impairment (HP:0100543); Nystagmus (HP:0000639); Poor appetite (HP:0004396); Developmental regression (HP:0002376); Encephalopathy (HP:0001298)</td></tr>\n",
       "<tr><td style=\"text-align: left;\">25539947_P1 (FEMALE; P5Y)</td><td style=\"text-align: left;\">Multiple mitochondrial dysfunctions syndrome 4 (OMIM:616370)</td><td style=\"text-align: left;\">NM_194279.3:c.229G>A (homozygous)</td><td style=\"text-align: left;\">Periventricular white matter hyperintensities (HP:0030891); Optic atrophy (HP:0000648); Abnormal corpus callosum morphology (HP:0001273); Insomnia (HP:0100785); Irritability (HP:0000737); Hyperreflexia (HP:0001347); Abnormal midbrain morphology (HP:0002418); Developmental regression (HP:0002376); Spasticity (HP:0001257)</td></tr>\n",
       "<tr><td style=\"text-align: left;\">29122497_P1 (FEMALE; P1Y9M)</td><td style=\"text-align: left;\">Multiple mitochondrial dysfunctions syndrome 4 (OMIM:616370)</td><td style=\"text-align: left;\">NM_194279.3:c.229G>A (homozygous)</td><td style=\"text-align: left;\">Optic atrophy (HP:0000648); Lower limb spasticity (HP:0002061); Axial hypotonia (HP:0008936); Confluent hyperintensity of cerebral white matter on MRI (HP:0040330); Nystagmus (HP:0000639); Developmental regression (HP:0002376); Upper limb spasticity (HP:0006986)</td></tr>\n",
       "<tr><td style=\"text-align: left;\">29122497_P2 (FEMALE; P2Y4M)</td><td style=\"text-align: left;\">Multiple mitochondrial dysfunctions syndrome 4 (OMIM:616370)</td><td style=\"text-align: left;\">NM_194279.3:c.229G>A (homozygous)</td><td style=\"text-align: left;\">Optic atrophy (HP:0000648); Lower limb spasticity (HP:0002061); Axial hypotonia (HP:0008936); Hyperintensity of MRI T2 signal of the spinal cord (HP:0040272); Confluent hyperintensity of cerebral white matter on MRI (HP:0040330); Nystagmus (HP:0000639); Developmental regression (HP:0002376); Upper limb spasticity (HP:0006986)</td></tr>\n",
       "<tr><td style=\"text-align: left;\">29122497_P3 (FEMALE; P1Y1M)</td><td style=\"text-align: left;\">Multiple mitochondrial dysfunctions syndrome 4 (OMIM:616370)</td><td style=\"text-align: left;\">NM_194279.3:c.229G>A (homozygous)</td><td style=\"text-align: left;\">Optic atrophy (HP:0000648); Lower limb spasticity (HP:0002061); Axial hypotonia (HP:0008936); Hyperintensity of MRI T2 signal of the spinal cord (HP:0040272); Confluent hyperintensity of cerebral white matter on MRI (HP:0040330); Nystagmus (HP:0000639); Developmental regression (HP:0002376); Upper limb spasticity (HP:0006986)</td></tr>\n",
       "<tr><td style=\"text-align: left;\">29122497_P4 (FEMALE; P2Y2M)</td><td style=\"text-align: left;\">Multiple mitochondrial dysfunctions syndrome 4 (OMIM:616370)</td><td style=\"text-align: left;\">NM_194279.3:c.229G>A (homozygous)</td><td style=\"text-align: left;\">Optic atrophy (HP:0000648); Lower limb spasticity (HP:0002061); Axial hypotonia (HP:0008936); Hyperintensity of MRI T2 signal of the spinal cord (HP:0040272); Confluent hyperintensity of cerebral white matter on MRI (HP:0040330); Nystagmus (HP:0000639); Developmental regression (HP:0002376); Upper limb spasticity (HP:0006986)</td></tr>\n",
       "<tr><td style=\"text-align: left;\">29122497_P5 (FEMALE; P1Y4M)</td><td style=\"text-align: left;\">Multiple mitochondrial dysfunctions syndrome 4 (OMIM:616370)</td><td style=\"text-align: left;\">NM_194279.3:c.229G>A (homozygous)</td><td style=\"text-align: left;\">Optic atrophy (HP:0000648); Lower limb spasticity (HP:0002061); Axial hypotonia (HP:0008936); Hyperintensity of MRI T2 signal of the spinal cord (HP:0040272); Confluent hyperintensity of cerebral white matter on MRI (HP:0040330); Nystagmus (HP:0000639); Developmental regression (HP:0002376); Upper limb spasticity (HP:0006986)</td></tr>\n",
       "<tr><td style=\"text-align: left;\">29122497_P6 (FEMALE; P11M)</td><td style=\"text-align: left;\">Multiple mitochondrial dysfunctions syndrome 4 (OMIM:616370)</td><td style=\"text-align: left;\">NM_194279.3:c.229G>A (homozygous)</td><td style=\"text-align: left;\">Optic atrophy (HP:0000648); Lower limb spasticity (HP:0002061); Axial hypotonia (HP:0008936); Hyperintensity of MRI T2 signal of the spinal cord (HP:0040272); Confluent hyperintensity of cerebral white matter on MRI (HP:0040330); Nystagmus (HP:0000639); Developmental regression (HP:0002376); Upper limb spasticity (HP:0006986)</td></tr>\n",
       "<tr><td style=\"text-align: left;\">29122497_P7 (MALE; P11M)</td><td style=\"text-align: left;\">Multiple mitochondrial dysfunctions syndrome 4 (OMIM:616370)</td><td style=\"text-align: left;\">NM_194279.3:c.229G>A (homozygous)</td><td style=\"text-align: left;\">Optic atrophy (HP:0000648); Lower limb spasticity (HP:0002061); Axial hypotonia (HP:0008936); Hyperintensity of MRI T2 signal of the spinal cord (HP:0040272); Confluent hyperintensity of cerebral white matter on MRI (HP:0040330); Nystagmus (HP:0000639); Developmental regression (HP:0002376); Seizure (HP:0001250); Upper limb spasticity (HP:0006986)</td></tr>\n",
       "<tr><td style=\"text-align: left;\">29122497_P8 (MALE; P10M)</td><td style=\"text-align: left;\">Multiple mitochondrial dysfunctions syndrome 4 (OMIM:616370)</td><td style=\"text-align: left;\">NM_194279.3:c.229G>A (homozygous)</td><td style=\"text-align: left;\">Optic atrophy (HP:0000648); Lower limb spasticity (HP:0002061); Axial hypotonia (HP:0008936); Nystagmus (HP:0000639); Developmental regression (HP:0002376); Seizure (HP:0001250); Upper limb spasticity (HP:0006986)</td></tr>\n",
       "<tr><td style=\"text-align: left;\">29122497_P9 (MALE; P10M)</td><td style=\"text-align: left;\">Multiple mitochondrial dysfunctions syndrome 4 (OMIM:616370)</td><td style=\"text-align: left;\">NM_194279.3:c.229G>A (homozygous)</td><td style=\"text-align: left;\">Optic atrophy (HP:0000648); Lower limb spasticity (HP:0002061); Axial hypotonia (HP:0008936); Hyperintensity of MRI T2 signal of the spinal cord (HP:0040272); Confluent hyperintensity of cerebral white matter on MRI (HP:0040330); Nystagmus (HP:0000639); Developmental regression (HP:0002376); Seizure (HP:0001250); Upper limb spasticity (HP:0006986)</td></tr>\n",
       "<tr><td style=\"text-align: left;\">29122497_P10 (MALE; P2Y10M)</td><td style=\"text-align: left;\">Multiple mitochondrial dysfunctions syndrome 4 (OMIM:616370)</td><td style=\"text-align: left;\">NM_194279.3:c.229G>A (homozygous)</td><td style=\"text-align: left;\">Optic atrophy (HP:0000648); Lower limb spasticity (HP:0002061); Axial hypotonia (HP:0008936); Confluent hyperintensity of cerebral white matter on MRI (HP:0040330); Nystagmus (HP:0000639); Developmental regression (HP:0002376); Upper limb spasticity (HP:0006986)</td></tr>\n",
       "</table>"
      ],
      "text/plain": [
       "<IPython.core.display.HTML object>"
      ]
     },
     "metadata": {},
     "output_type": "display_data"
    }
   ],
   "source": [
    "table = IndividualTable(cvalidator.get_error_free_individual_list())\n",
    "display(HTML(table.to_html()))"
   ]
  },
  {
   "cell_type": "code",
   "execution_count": null,
   "id": "84d9908b-adb5-4112-946d-4bd6a506fa6c",
   "metadata": {},
   "outputs": [],
   "source": []
  }
 ],
 "metadata": {
  "kernelspec": {
   "display_name": "ps24venv",
   "language": "python",
   "name": "ps24venv"
  },
  "language_info": {
   "codemirror_mode": {
    "name": "ipython",
    "version": 3
   },
   "file_extension": ".py",
   "mimetype": "text/x-python",
   "name": "python",
   "nbconvert_exporter": "python",
   "pygments_lexer": "ipython3",
   "version": "3.8.10"
  }
 },
 "nbformat": 4,
 "nbformat_minor": 5
}
