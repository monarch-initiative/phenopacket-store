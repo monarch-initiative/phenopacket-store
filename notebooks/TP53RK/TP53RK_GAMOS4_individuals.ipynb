{
 "cells": [
  {
   "cell_type": "markdown",
   "metadata": {},
   "source": [
    "# TP53RK\n",
    "[Galloway-Mowat syndrome-4 (GAMOS4)]() is caused by homozygous or compound heterozygous mutation in the TP53RK gene."
   ]
  },
  {
   "cell_type": "code",
   "execution_count": 3,
   "metadata": {},
   "outputs": [
    {
     "name": "stdout",
     "output_type": "stream",
     "text": [
      "Using pyphetools version 0.9.92\n"
     ]
    }
   ],
   "source": [
    "from pyphetools.creation import TemplateImporter\n",
    "from pyphetools.visualization import IndividualTable, QcVisualizer\n",
    "from IPython.display import display, HTML\n",
    "import pyphetools\n",
    "print(f\"Using pyphetools version {pyphetools.__version__}\")"
   ]
  },
  {
   "cell_type": "code",
   "execution_count": 4,
   "metadata": {},
   "outputs": [],
   "source": [
    "template = \"input/TP53RK_GAMOS4_individuals.xlsx\"\n",
    "created_by = \"0000-0002-0736-9199\""
   ]
  },
  {
   "cell_type": "code",
   "execution_count": 6,
   "metadata": {},
   "outputs": [
    {
     "name": "stdout",
     "output_type": "stream",
     "text": [
      "HPO version 2024-06-25\n",
      "Created encoders for 51 fields\n",
      "Importing OMIM:617730, Galloway-Mowat syndrome 4, HGNC:16197, TP53RK,  NM_033550.4\n",
      "[INFO] encoding variant \"c.194A>T\"\n",
      "https://rest.variantvalidator.org/VariantValidator/variantvalidator/hg38/NM_033550.4%3Ac.194A>T/NM_033550.4?content-type=application%2Fjson\n",
      "We output 3 GA4GH phenopackets to the directory phenopackets\n"
     ]
    }
   ],
   "source": [
    "timporter = TemplateImporter(template=template,  created_by=created_by)\n",
    "individual_list, cvalidator = timporter.import_phenopackets_from_template()"
   ]
  },
  {
   "cell_type": "code",
   "execution_count": 7,
   "metadata": {},
   "outputs": [
    {
     "data": {
      "text/html": [
       "<h2>Cohort validation</h2>\n",
       "<p>No errors found for the cohort with 3 individuals</p>"
      ],
      "text/plain": [
       "<IPython.core.display.HTML object>"
      ]
     },
     "metadata": {},
     "output_type": "display_data"
    }
   ],
   "source": [
    "qc = QcVisualizer(cohort_validator=cvalidator)\n",
    "display(HTML(qc.to_summary_html()))"
   ]
  },
  {
   "cell_type": "code",
   "execution_count": 8,
   "metadata": {},
   "outputs": [
    {
     "data": {
      "text/html": [
       "<table style=\"border: 2px solid black; align: \"left\">\n",
       "<caption>3 phenopackets - PMID:30053862 (n=3)</caption>\n",
       "<tr><th style=\"text-align: left;font-weight: bold;\">Individual</th><th style=\"text-align: left;font-weight: bold;\">Disease</th><th style=\"text-align: left;font-weight: bold;\">Genotype</th><th style=\"text-align: left;font-weight: bold;\">Phenotypic features</th></tr>\n",
       "<tr><td style=\"text-align: left;\">Case II-1 (FEMALE; P10M)</td><td style=\"text-align: left;\">Galloway-Mowat syndrome 4 (OMIM:617730)</td><td style=\"text-align: left;\">NM_033550.4:c.194A>T (homozygous)</td><td style=\"text-align: left;\"><b>P6D</b>: Proteinuria (HP:0000093); Hyperechogenic kidneys (HP:0004719)<br/><b>P4M</b>: Nephrotic syndrome (HP:0000100); Focal segmental glomerulosclerosis (HP:0000097); Cerebral atrophy (HP:0002059)<br/>Congenital diaphragmatic hernia (HP:0000776); Hiatus hernia (HP:0002036); Volvulus (HP:0002580); Simplified gyral pattern (HP:0009879); Microcephaly (HP:0000252); Low-set ears (HP:0000369); Hypertelorism (HP:0000316); Reduced renal corticomedullary differentiation (HP:0005565); excluded: Narrow forehead (HP:0000341); excluded: Depressed nasal bridge (HP:0005280); excluded: Micrognathia (HP:0000347); excluded: Cleft palate (HP:0000175)</td></tr>\n",
       "<tr><td style=\"text-align: left;\">Case II-2 (MALE; P21D)</td><td style=\"text-align: left;\">Galloway-Mowat syndrome 4 (OMIM:617730)</td><td style=\"text-align: left;\">NM_033550.4:c.194A>T (homozygous)</td><td style=\"text-align: left;\"><b>P21D</b>: Stage 5 chronic kidney disease (HP:0003774)<br/>Proteinuria (HP:0000093); Hypoalbuminemia (HP:0003073); Microcephaly (HP:0000252); Generalized edema (HP:0007430); Macrotia (HP:0000400); Low-set ears (HP:0000369); Hypertelorism (HP:0000316); Narrow forehead (HP:0000341); Depressed nasal bridge (HP:0005280); Micrognathia (HP:0000347); Cleft palate (HP:0000175); Microlissencephaly (HP:0045028); Reduced renal corticomedullary differentiation (HP:0005565)</td></tr>\n",
       "<tr><td style=\"text-align: left;\">Case II-4 (MALE; P25D)</td><td style=\"text-align: left;\">Galloway-Mowat syndrome 4 (OMIM:617730)</td><td style=\"text-align: left;\">NM_033550.4:c.194A>T (homozygous)</td><td style=\"text-align: left;\"><b>P25D</b>: Stage 5 chronic kidney disease (HP:0003774)<br/>Generalized edema (HP:0007430); Low-set ears (HP:0000369); Hypertelorism (HP:0000316); Micrognathia (HP:0000347); Microlissencephaly (HP:0045028); Reduced renal corticomedullary differentiation (HP:0005565)</td></tr>\n",
       "</table>"
      ],
      "text/plain": [
       "<IPython.core.display.HTML object>"
      ]
     },
     "metadata": {},
     "output_type": "display_data"
    }
   ],
   "source": [
    "table = IndividualTable(cvalidator.get_error_free_individual_list())\n",
    "display(HTML(table.to_html()))"
   ]
  }
 ],
 "metadata": {
  "kernelspec": {
   "display_name": "ps24venv",
   "language": "python",
   "name": "python3"
  },
  "language_info": {
   "codemirror_mode": {
    "name": "ipython",
    "version": 3
   },
   "file_extension": ".py",
   "mimetype": "text/x-python",
   "name": "python",
   "nbconvert_exporter": "python",
   "pygments_lexer": "ipython3",
   "version": "3.9.6"
  }
 },
 "nbformat": 4,
 "nbformat_minor": 2
}
