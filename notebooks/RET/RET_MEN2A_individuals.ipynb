{
 "cells": [
  {
   "cell_type": "markdown",
   "metadata": {},
   "source": [
    "# RET\n",
    "[multiple endocrine neoplasia type IIA (MEN2A)](https://omim.org/entry/171400) is caused by heterozygous mutation in the RET oncogene."
   ]
  },
  {
   "cell_type": "code",
   "execution_count": 4,
   "metadata": {},
   "outputs": [
    {
     "name": "stdout",
     "output_type": "stream",
     "text": [
      "Using pyphetools version 0.9.92\n"
     ]
    }
   ],
   "source": [
    "from pyphetools.creation import TemplateImporter\n",
    "from pyphetools.visualization import IndividualTable, QcVisualizer\n",
    "from IPython.display import display, HTML\n",
    "import pyphetools\n",
    "print(f\"Using pyphetools version {pyphetools.__version__}\")"
   ]
  },
  {
   "cell_type": "code",
   "execution_count": 6,
   "metadata": {},
   "outputs": [],
   "source": [
    "template = \"input/RET_MEN2A_individuals.xlsx\"\n",
    "created_by = \"0000-0002-0736-9199\""
   ]
  },
  {
   "cell_type": "code",
   "execution_count": 14,
   "metadata": {},
   "outputs": [
    {
     "name": "stdout",
     "output_type": "stream",
     "text": [
      "HPO version 2024-06-25\n",
      "Created encoders for 29 fields\n",
      "Importing OMIM:171400, Multiple endocrine neoplasia IIA, HGNC:9967, RET,  NM_020975.6\n",
      "We output 2 GA4GH phenopackets to the directory phenopackets\n"
     ]
    }
   ],
   "source": [
    "timporter = TemplateImporter(template=template,  created_by=created_by)\n",
    "individual_list, cvalidator = timporter.import_phenopackets_from_template()"
   ]
  },
  {
   "cell_type": "code",
   "execution_count": 15,
   "metadata": {},
   "outputs": [
    {
     "data": {
      "text/html": [
       "<h2>Cohort validation</h2>\n",
       "<p>No errors found for the cohort with 2 individuals</p>"
      ],
      "text/plain": [
       "<IPython.core.display.HTML object>"
      ]
     },
     "metadata": {},
     "output_type": "display_data"
    }
   ],
   "source": [
    "qc = QcVisualizer(cohort_validator=cvalidator)\n",
    "display(HTML(qc.to_summary_html()))"
   ]
  },
  {
   "cell_type": "code",
   "execution_count": 16,
   "metadata": {},
   "outputs": [
    {
     "data": {
      "text/html": [
       "<table style=\"border: 2px solid black; align: \"left\">\n",
       "<caption>2 phenopackets - PMID:24331334 (n=2)</caption>\n",
       "<tr><th style=\"text-align: left;font-weight: bold;\">Individual</th><th style=\"text-align: left;font-weight: bold;\">Disease</th><th style=\"text-align: left;font-weight: bold;\">Genotype</th><th style=\"text-align: left;font-weight: bold;\">Phenotypic features</th></tr>\n",
       "<tr><td style=\"text-align: left;\">DM patient (FEMALE; P20Y)</td><td style=\"text-align: left;\">Multiple endocrine neoplasia IIA (OMIM:171400)</td><td style=\"text-align: left;\">NM_020975.6:c.1902C>G (heterozygous)</td><td style=\"text-align: left;\"><b>P19Y</b>: Pheochromocytoma (HP:0002666); Hypertensive crisis (HP:0100735)<br/><b>P20Y</b>: Thyroid nodule (HP:0025388); Elevated circulating calcitonin concentration (HP:0003528)<br/>excluded: Hyperparathyroidism (HP:0000843)</td></tr>\n",
       "<tr><td style=\"text-align: left;\">father (MALE; n/a)</td><td style=\"text-align: left;\">Multiple endocrine neoplasia IIA (OMIM:171400)</td><td style=\"text-align: left;\">NM_020975.6:c.1902C>G (heterozygous)</td><td style=\"text-align: left;\">Thyroid nodule (HP:0025388); Medullary thyroid carcinoma (HP:0002865); Elevated circulating calcitonin concentration (HP:0003528); excluded: Pheochromocytoma (HP:0002666); excluded: Hypertensive crisis (HP:0100735); excluded: Hyperparathyroidism (HP:0000843)</td></tr>\n",
       "</table>"
      ],
      "text/plain": [
       "<IPython.core.display.HTML object>"
      ]
     },
     "metadata": {},
     "output_type": "display_data"
    }
   ],
   "source": [
    "table = IndividualTable(cvalidator.get_error_free_individual_list())\n",
    "display(HTML(table.to_html()))"
   ]
  },
  {
   "cell_type": "code",
   "execution_count": 17,
   "metadata": {},
   "outputs": [
    {
     "name": "stdout",
     "output_type": "stream",
     "text": [
      "[pyphetools] Ingested 2 GA4GH phenopackets.\n",
      "[INFO] Extracted 2 from 2 phenopackets with OMIM:171400\n",
      "\n",
      "\tMultiple endocrine neoplasia IIA (OMIM:171400): n=2\n",
      "We found a total of 6 unique HPO terms\n",
      "Extracted disease: Multiple endocrine neoplasia IIA (OMIM:171400)\n",
      "Wrote HPOA disease file to OMIM-171400.tab\n"
     ]
    }
   ],
   "source": [
    "pmid = \"PMID:24331334\"\n",
    "df = timporter.create_hpoa_from_phenopackets(pmid=pmid, moi=\"Autosomal dominant\", target=\"OMIM:171400\")"
   ]
  },
  {
   "cell_type": "code",
   "execution_count": null,
   "metadata": {},
   "outputs": [],
   "source": []
  }
 ],
 "metadata": {
  "kernelspec": {
   "display_name": "ps24venv",
   "language": "python",
   "name": "python3"
  },
  "language_info": {
   "codemirror_mode": {
    "name": "ipython",
    "version": 3
   },
   "file_extension": ".py",
   "mimetype": "text/x-python",
   "name": "python",
   "nbconvert_exporter": "python",
   "pygments_lexer": "ipython3",
   "version": "3.9.6"
  }
 },
 "nbformat": 4,
 "nbformat_minor": 2
}
