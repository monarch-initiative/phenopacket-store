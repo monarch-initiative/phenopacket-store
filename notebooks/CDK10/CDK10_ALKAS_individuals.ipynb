{
 "cells": [
  {
   "cell_type": "markdown",
   "metadata": {},
   "source": [
    "# CDK10\n",
    "[Al Kaissi syndrome (ALKAS)](https://omim.org/entry/617694) is caused by homozygous mutation in the CDK10 gene."
   ]
  },
  {
   "cell_type": "code",
   "execution_count": 2,
   "metadata": {},
   "outputs": [
    {
     "name": "stdout",
     "output_type": "stream",
     "text": [
      "Using pyphetools version 0.9.86\n"
     ]
    },
    {
     "name": "stderr",
     "output_type": "stream",
     "text": [
      "/Users/robin/GIT/phenopacket-store/ps24venv/lib/python3.9/site-packages/urllib3/__init__.py:35: NotOpenSSLWarning: urllib3 v2 only supports OpenSSL 1.1.1+, currently the 'ssl' module is compiled with 'LibreSSL 2.8.3'. See: https://github.com/urllib3/urllib3/issues/3020\n",
      "  warnings.warn(\n"
     ]
    }
   ],
   "source": [
    "from pyphetools.creation import TemplateImporter\n",
    "from pyphetools.visualization import IndividualTable, QcVisualizer\n",
    "from IPython.display import display, HTML\n",
    "import pyphetools\n",
    "print(f\"Using pyphetools version {pyphetools.__version__}\")"
   ]
  },
  {
   "cell_type": "code",
   "execution_count": 3,
   "metadata": {},
   "outputs": [],
   "source": [
    "template = \"input/CDK10_ALKAS_individuals.xlsx\"\n",
    "created_by = \"0000-0002-0736-9199\""
   ]
  },
  {
   "cell_type": "code",
   "execution_count": 4,
   "metadata": {},
   "outputs": [
    {
     "name": "stdout",
     "output_type": "stream",
     "text": [
      "HPO version 2024-04-26\n",
      "Created encoders for 67 fields\n",
      "Importing OMIM:617694, Al Kaissi syndrome, HGNC:1770, CDK10,  NM_052988.5\n",
      "We output 9 GA4GH phenopackets to the directory phenopackets\n"
     ]
    }
   ],
   "source": [
    "del_set = {\"arr 16q24.3 DEL89,754,790 −89,757,400\"}\n",
    "timporter = TemplateImporter(template=template,  created_by=created_by)\n",
    "individual_list, cvalidator = timporter.import_phenopackets_from_template(deletions=del_set)"
   ]
  },
  {
   "cell_type": "code",
   "execution_count": 5,
   "metadata": {},
   "outputs": [
    {
     "data": {
      "text/html": [
       "<h2>Cohort validation</h2>\n",
       "<p>Errors found with 4 of 9 phenopackets.</p>\n",
       "<table style=\"border: 2px solid black; align: \"left\">\n",
       "<caption>Error counts</caption>\n",
       "<tr><th style=\"text-align: left;font-weight: bold;\">Level</th><th style=\"text-align: left;font-weight: bold;\">Error category</th><th style=\"text-align: left;font-weight: bold;\">Count</th></tr>\n",
       "<tr><td style=\"text-align: left;\">WARNING</td><td style=\"text-align: left;\">REDUNDANT</td><td style=\"text-align: left;\">4</td></tr>\n",
       "</table>\n",
       "<p>A total of 4 issues were fixed and no individual was removed from the cohort.</p>"
      ],
      "text/plain": [
       "<IPython.core.display.HTML object>"
      ]
     },
     "metadata": {},
     "output_type": "display_data"
    }
   ],
   "source": [
    "qc = QcVisualizer(cohort_validator=cvalidator)\n",
    "display(HTML(qc.to_summary_html()))"
   ]
  },
  {
   "cell_type": "code",
   "execution_count": 6,
   "metadata": {},
   "outputs": [
    {
     "data": {
      "text/html": [
       "<table style=\"border: 2px solid black; align: \"left\">\n",
       "<caption>9 phenopackets - PMID:28886341 (n=9)</caption>\n",
       "<tr><th style=\"text-align: left;font-weight: bold;\">Individual</th><th style=\"text-align: left;font-weight: bold;\">Disease</th><th style=\"text-align: left;font-weight: bold;\">Genotype</th><th style=\"text-align: left;font-weight: bold;\">Phenotypic features</th></tr>\n",
       "<tr><td style=\"text-align: left;\">Individual F1-II:1 (MALE; P9Y)</td><td style=\"text-align: left;\">Al Kaissi syndrome (OMIM:617694)</td><td style=\"text-align: left;\">NM_052988.5:c.609-1G>A (homozygous)</td><td style=\"text-align: left;\">Short stature (HP:0004322); Intrauterine growth retardation (HP:0001511); Postnatal growth retardation (HP:0008897); Epicanthus (HP:0000286); Long philtrum (HP:0000343); Telecanthus (HP:0000506); Microcephaly (HP:0000252); Broad nasal tip (HP:0000455); Depressed nasal bridge (HP:0005280); Downslanted palpebral fissures (HP:0000494); Triangular face (HP:0000325); Torticollis (HP:0000473); Short chin (HP:0000331); Posteriorly rotated ears (HP:0000358); Low-set ears (HP:0000369); Hyperactivity (HP:0000752); Global developmental delay (HP:0001263); Delayed ability to walk (HP:0031936); Delayed speech and language development (HP:0000750); Intellectual disability (HP:0001249); Small hand (HP:0200055); Deep palmar crease (HP:0006191); Joint hypermobility (HP:0001382); Macrodontia (HP:0001572); excluded: Decreased body weight (HP:0004325); excluded: Smooth philtrum (HP:0000319); excluded: Synophrys (HP:0000664); excluded: Wide nasal bridge (HP:0000431); excluded: High palate (HP:0000218); excluded: Seizure (HP:0001250); excluded: Broad-based gait (HP:0002136); excluded: Thin corpus callosum (HP:0033725); excluded: Ventriculomegaly (HP:0002119); excluded: Clinodactyly (HP:0030084); excluded: Sacral dimple (HP:0000960); excluded: Bilateral single transverse palmar creases (HP:0007598); excluded: Atrial septal defect (HP:0001631); excluded: Small joint hypermobilty (HP:0430046); excluded: Broad hallux (HP:0010055); excluded: Pes planus (HP:0001763); excluded: Nevus flammeus of the forehead (HP:0007413); excluded: Malar rash (HP:0025300); excluded: Brachycephaly (HP:0000248); excluded: Pointed chin (HP:0000307); excluded: Malar flattening (HP:0000272); excluded: Strabismus (HP:0000486)</td></tr>\n",
       "<tr><td style=\"text-align: left;\">Individual F1-II:3 (MALE; P4Y)</td><td style=\"text-align: left;\">Al Kaissi syndrome (OMIM:617694)</td><td style=\"text-align: left;\">NM_052988.5:c.609-1G>A (homozygous)</td><td style=\"text-align: left;\">Short stature (HP:0004322); Decreased body weight (HP:0004325); Intrauterine growth retardation (HP:0001511); Postnatal growth retardation (HP:0008897); Epicanthus (HP:0000286); Long philtrum (HP:0000343); Telecanthus (HP:0000506); Microcephaly (HP:0000252); Broad nasal tip (HP:0000455); Depressed nasal bridge (HP:0005280); Downslanted palpebral fissures (HP:0000494); Triangular face (HP:0000325); Torticollis (HP:0000473); Short chin (HP:0000331); Posteriorly rotated ears (HP:0000358); Low-set ears (HP:0000369); Hyperactivity (HP:0000752); Global developmental delay (HP:0001263); Delayed ability to walk (HP:0031936); Delayed speech and language development (HP:0000750); Intellectual disability (HP:0001249); Small hand (HP:0200055); Deep palmar crease (HP:0006191); Macrodontia (HP:0001572); excluded: Smooth philtrum (HP:0000319); excluded: Synophrys (HP:0000664); excluded: Wide nasal bridge (HP:0000431); excluded: High palate (HP:0000218); excluded: Seizure (HP:0001250); excluded: Broad-based gait (HP:0002136); excluded: Thin corpus callosum (HP:0033725); excluded: Ventriculomegaly (HP:0002119); excluded: Clinodactyly (HP:0030084); excluded: Sacral dimple (HP:0000960); excluded: Bilateral single transverse palmar creases (HP:0007598); excluded: Atrial septal defect (HP:0001631); excluded: Small joint hypermobilty (HP:0430046); excluded: Broad hallux (HP:0010055); excluded: Pes planus (HP:0001763); excluded: Nevus flammeus of the forehead (HP:0007413); excluded: Malar rash (HP:0025300); excluded: Brachycephaly (HP:0000248); excluded: Pointed chin (HP:0000307); excluded: Malar flattening (HP:0000272); excluded: Strabismus (HP:0000486)</td></tr>\n",
       "<tr><td style=\"text-align: left;\">Individual F2-II:4 (MALE; P7Y8M)</td><td style=\"text-align: left;\">Al Kaissi syndrome (OMIM:617694)</td><td style=\"text-align: left;\">arr 16q24.3 DEL89,754,790 −89,757,400: chromosomal_deletion (SO:1000029)</td><td style=\"text-align: left;\">Short stature (HP:0004322); Decreased body weight (HP:0004325); Intrauterine growth retardation (HP:0001511); Postnatal growth retardation (HP:0008897); Epicanthus (HP:0000286); Long philtrum (HP:0000343); Telecanthus (HP:0000506); Broad nasal tip (HP:0000455); Depressed nasal bridge (HP:0005280); Downslanted palpebral fissures (HP:0000494); Triangular face (HP:0000325); Short chin (HP:0000331); Posteriorly rotated ears (HP:0000358); Low-set ears (HP:0000369); Seizure (HP:0001250); Global developmental delay (HP:0001263); Delayed ability to walk (HP:0031936); Delayed speech and language development (HP:0000750); Intellectual disability (HP:0001249); Broad-based gait (HP:0002136); Small hand (HP:0200055); Sacral dimple (HP:0000960); Deep palmar crease (HP:0006191); Pes planus (HP:0001763); Nevus flammeus of the forehead (HP:0007413); excluded: Smooth philtrum (HP:0000319); excluded: Synophrys (HP:0000664); excluded: Microcephaly (HP:0000252); excluded: Wide nasal bridge (HP:0000431); excluded: Torticollis (HP:0000473); excluded: High palate (HP:0000218); excluded: Hyperactivity (HP:0000752); excluded: Thin corpus callosum (HP:0033725); excluded: Ventriculomegaly (HP:0002119); excluded: Clinodactyly (HP:0030084); excluded: Bilateral single transverse palmar creases (HP:0007598); excluded: Atrial septal defect (HP:0001631); excluded: Small joint hypermobilty (HP:0430046); excluded: Broad hallux (HP:0010055); excluded: Macrodontia (HP:0001572); excluded: Malar rash (HP:0025300); excluded: Brachycephaly (HP:0000248); excluded: Pointed chin (HP:0000307); excluded: Malar flattening (HP:0000272); excluded: Strabismus (HP:0000486)</td></tr>\n",
       "<tr><td style=\"text-align: left;\">Individual F2-II:5 (MALE; P4Y11M)</td><td style=\"text-align: left;\">Al Kaissi syndrome (OMIM:617694)</td><td style=\"text-align: left;\">arr 16q24.3 DEL89,754,790 −89,757,400: chromosomal_deletion (SO:1000029)</td><td style=\"text-align: left;\">Short stature (HP:0004322); Postnatal growth retardation (HP:0008897); Epicanthus (HP:0000286); Long philtrum (HP:0000343); Telecanthus (HP:0000506); Broad nasal tip (HP:0000455); Depressed nasal bridge (HP:0005280); Downslanted palpebral fissures (HP:0000494); Triangular face (HP:0000325); Short chin (HP:0000331); Posteriorly rotated ears (HP:0000358); Low-set ears (HP:0000369); Global developmental delay (HP:0001263); Delayed ability to walk (HP:0031936); Delayed speech and language development (HP:0000750); Intellectual disability (HP:0001249); Broad-based gait (HP:0002136); Small hand (HP:0200055); Sacral dimple (HP:0000960); Deep palmar crease (HP:0006191); Atrial septal defect (HP:0001631); Joint hypermobility (HP:0001382); Nevus flammeus of the forehead (HP:0007413); excluded: Decreased body weight (HP:0004325); excluded: Intrauterine growth retardation (HP:0001511); excluded: Smooth philtrum (HP:0000319); excluded: Synophrys (HP:0000664); excluded: Microcephaly (HP:0000252); excluded: Wide nasal bridge (HP:0000431); excluded: Torticollis (HP:0000473); excluded: High palate (HP:0000218); excluded: Hyperactivity (HP:0000752); excluded: Seizure (HP:0001250); excluded: Clinodactyly (HP:0030084); excluded: Bilateral single transverse palmar creases (HP:0007598); excluded: Small joint hypermobilty (HP:0430046); excluded: Broad hallux (HP:0010055); excluded: Pes planus (HP:0001763); excluded: Macrodontia (HP:0001572); excluded: Malar rash (HP:0025300); excluded: Brachycephaly (HP:0000248); excluded: Pointed chin (HP:0000307); excluded: Malar flattening (HP:0000272); excluded: Strabismus (HP:0000486)</td></tr>\n",
       "<tr><td style=\"text-align: left;\">Individual F3-II:2 (FEMALE; P1Y6M)</td><td style=\"text-align: left;\">Al Kaissi syndrome (OMIM:617694)</td><td style=\"text-align: left;\">NM_052988.5:c.139del (homozygous)</td><td style=\"text-align: left;\">Epicanthus (HP:0000286); Long philtrum (HP:0000343); Synophrys (HP:0000664); Microcephaly (HP:0000252); Broad nasal tip (HP:0000455); Depressed nasal bridge (HP:0005280); High palate (HP:0000218); Short chin (HP:0000331); Posteriorly rotated ears (HP:0000358); Low-set ears (HP:0000369); Seizure (HP:0001250); Global developmental delay (HP:0001263); Delayed ability to walk (HP:0031936); Delayed speech and language development (HP:0000750); Intellectual disability (HP:0001249); Ventriculomegaly (HP:0002119); Brachycephaly (HP:0000248); excluded: Short stature (HP:0004322); excluded: Decreased body weight (HP:0004325); excluded: Intrauterine growth retardation (HP:0001511); excluded: Postnatal growth retardation (HP:0008897); excluded: Smooth philtrum (HP:0000319); excluded: Telecanthus (HP:0000506); excluded: Wide nasal bridge (HP:0000431); excluded: Downslanted palpebral fissures (HP:0000494); excluded: Triangular face (HP:0000325); excluded: Torticollis (HP:0000473); excluded: Hyperactivity (HP:0000752); excluded: Broad-based gait (HP:0002136); excluded: Clinodactyly (HP:0030084); excluded: Small hand (HP:0200055); excluded: Sacral dimple (HP:0000960); excluded: Deep palmar crease (HP:0006191); excluded: Bilateral single transverse palmar creases (HP:0007598); excluded: Atrial septal defect (HP:0001631); excluded: Small joint hypermobilty (HP:0430046); excluded: Broad hallux (HP:0010055); excluded: Pes planus (HP:0001763); excluded: Macrodontia (HP:0001572); excluded: Nevus flammeus of the forehead (HP:0007413); excluded: Malar rash (HP:0025300); excluded: Pointed chin (HP:0000307); excluded: Malar flattening (HP:0000272); excluded: Strabismus (HP:0000486)</td></tr>\n",
       "<tr><td style=\"text-align: left;\">Individual F4-II:1 (MALE; P8Y11M)</td><td style=\"text-align: left;\">Al Kaissi syndrome (OMIM:617694)</td><td style=\"text-align: left;\">NM_052988.5:c.608+1G>A (homozygous)</td><td style=\"text-align: left;\">Short stature (HP:0004322); Decreased body weight (HP:0004325); Intrauterine growth retardation (HP:0001511); Postnatal growth retardation (HP:0008897); Epicanthus (HP:0000286); Smooth philtrum (HP:0000319); Long philtrum (HP:0000343); Microcephaly (HP:0000252); Broad nasal tip (HP:0000455); Wide nasal bridge (HP:0000431); High palate (HP:0000218); Posteriorly rotated ears (HP:0000358); Low-set ears (HP:0000369); Global developmental delay (HP:0001263); Delayed ability to walk (HP:0031936); Delayed speech and language development (HP:0000750); Intellectual disability (HP:0001249); Thin corpus callosum (HP:0033725); Small hand (HP:0200055); Sacral dimple (HP:0000960); Bilateral single transverse palmar creases (HP:0007598); Small joint hypermobilty (HP:0430046); Broad hallux (HP:0010055); Pes planus (HP:0001763); Malar rash (HP:0025300); Pointed chin (HP:0000307); excluded: Synophrys (HP:0000664); excluded: Telecanthus (HP:0000506); excluded: Depressed nasal bridge (HP:0005280); excluded: Downslanted palpebral fissures (HP:0000494); excluded: Triangular face (HP:0000325); excluded: Torticollis (HP:0000473); excluded: Short chin (HP:0000331); excluded: Hyperactivity (HP:0000752); excluded: Seizure (HP:0001250); excluded: Broad-based gait (HP:0002136); excluded: Ventriculomegaly (HP:0002119); excluded: Clinodactyly (HP:0030084); excluded: Deep palmar crease (HP:0006191); excluded: Atrial septal defect (HP:0001631); excluded: Macrodontia (HP:0001572); excluded: Nevus flammeus of the forehead (HP:0007413); excluded: Brachycephaly (HP:0000248); excluded: Malar flattening (HP:0000272); excluded: Strabismus (HP:0000486)</td></tr>\n",
       "<tr><td style=\"text-align: left;\">Individual F4-II:2 (FEMALE; P7Y3M)</td><td style=\"text-align: left;\">Al Kaissi syndrome (OMIM:617694)</td><td style=\"text-align: left;\">NM_052988.5:c.608+1G>A (homozygous)</td><td style=\"text-align: left;\">Short stature (HP:0004322); Postnatal growth retardation (HP:0008897); Epicanthus (HP:0000286); Smooth philtrum (HP:0000319); Long philtrum (HP:0000343); Telecanthus (HP:0000506); Microcephaly (HP:0000252); Broad nasal tip (HP:0000455); Wide nasal bridge (HP:0000431); High palate (HP:0000218); Posteriorly rotated ears (HP:0000358); Low-set ears (HP:0000369); Global developmental delay (HP:0001263); Delayed ability to walk (HP:0031936); Delayed speech and language development (HP:0000750); Intellectual disability (HP:0001249); Thin corpus callosum (HP:0033725); Small hand (HP:0200055); Sacral dimple (HP:0000960); Atrial septal defect (HP:0001631); Small joint hypermobilty (HP:0430046); Broad hallux (HP:0010055); Malar rash (HP:0025300); Pointed chin (HP:0000307); excluded: Decreased body weight (HP:0004325); excluded: Intrauterine growth retardation (HP:0001511); excluded: Synophrys (HP:0000664); excluded: Depressed nasal bridge (HP:0005280); excluded: Downslanted palpebral fissures (HP:0000494); excluded: Triangular face (HP:0000325); excluded: Torticollis (HP:0000473); excluded: Short chin (HP:0000331); excluded: Hyperactivity (HP:0000752); excluded: Seizure (HP:0001250); excluded: Broad-based gait (HP:0002136); excluded: Ventriculomegaly (HP:0002119); excluded: Clinodactyly (HP:0030084); excluded: Deep palmar crease (HP:0006191); excluded: Bilateral single transverse palmar creases (HP:0007598); excluded: Pes planus (HP:0001763); excluded: Macrodontia (HP:0001572); excluded: Nevus flammeus of the forehead (HP:0007413); excluded: Brachycephaly (HP:0000248); excluded: Malar flattening (HP:0000272); excluded: Strabismus (HP:0000486)</td></tr>\n",
       "<tr><td style=\"text-align: left;\">Individual F4-II:3 (MALE; P3Y9M)</td><td style=\"text-align: left;\">Al Kaissi syndrome (OMIM:617694)</td><td style=\"text-align: left;\">NM_052988.5:c.608+1G>A (homozygous)</td><td style=\"text-align: left;\">Short stature (HP:0004322); Postnatal growth retardation (HP:0008897); Epicanthus (HP:0000286); Smooth philtrum (HP:0000319); Long philtrum (HP:0000343); Telecanthus (HP:0000506); Microcephaly (HP:0000252); Broad nasal tip (HP:0000455); Depressed nasal bridge (HP:0005280); Posteriorly rotated ears (HP:0000358); Low-set ears (HP:0000369); Global developmental delay (HP:0001263); Delayed ability to walk (HP:0031936); Delayed speech and language development (HP:0000750); Intellectual disability (HP:0001249); Small hand (HP:0200055); Sacral dimple (HP:0000960); Pes planus (HP:0001763); Nevus flammeus of the forehead (HP:0007413); Malar rash (HP:0025300); excluded: Decreased body weight (HP:0004325); excluded: Intrauterine growth retardation (HP:0001511); excluded: Synophrys (HP:0000664); excluded: Wide nasal bridge (HP:0000431); excluded: Downslanted palpebral fissures (HP:0000494); excluded: Triangular face (HP:0000325); excluded: Torticollis (HP:0000473); excluded: High palate (HP:0000218); excluded: Short chin (HP:0000331); excluded: Hyperactivity (HP:0000752); excluded: Seizure (HP:0001250); excluded: Broad-based gait (HP:0002136); excluded: Thin corpus callosum (HP:0033725); excluded: Ventriculomegaly (HP:0002119); excluded: Clinodactyly (HP:0030084); excluded: Deep palmar crease (HP:0006191); excluded: Bilateral single transverse palmar creases (HP:0007598); excluded: Atrial septal defect (HP:0001631); excluded: Small joint hypermobilty (HP:0430046); excluded: Broad hallux (HP:0010055); excluded: Macrodontia (HP:0001572); excluded: Brachycephaly (HP:0000248); excluded: Pointed chin (HP:0000307); excluded: Malar flattening (HP:0000272); excluded: Strabismus (HP:0000486)</td></tr>\n",
       "<tr><td style=\"text-align: left;\">Individual F5-II:2 (MALE; P6Y8M)</td><td style=\"text-align: left;\">Al Kaissi syndrome (OMIM:617694)</td><td style=\"text-align: left;\">NM_052988.5:c.608+1G>A (homozygous)</td><td style=\"text-align: left;\">Short stature (HP:0004322); Decreased body weight (HP:0004325); Intrauterine growth retardation (HP:0001511); Postnatal growth retardation (HP:0008897); Epicanthus (HP:0000286); Smooth philtrum (HP:0000319); Long philtrum (HP:0000343); Telecanthus (HP:0000506); Broad nasal tip (HP:0000455); Wide nasal bridge (HP:0000431); High palate (HP:0000218); Posteriorly rotated ears (HP:0000358); Low-set ears (HP:0000369); Global developmental delay (HP:0001263); Delayed ability to walk (HP:0031936); Delayed speech and language development (HP:0000750); Intellectual disability (HP:0001249); Clinodactyly (HP:0030084); Small hand (HP:0200055); Small joint hypermobilty (HP:0430046); Malar flattening (HP:0000272); Strabismus (HP:0000486); excluded: Synophrys (HP:0000664); excluded: Microcephaly (HP:0000252); excluded: Depressed nasal bridge (HP:0005280); excluded: Downslanted palpebral fissures (HP:0000494); excluded: Triangular face (HP:0000325); excluded: Torticollis (HP:0000473); excluded: Short chin (HP:0000331); excluded: Hyperactivity (HP:0000752); excluded: Seizure (HP:0001250); excluded: Broad-based gait (HP:0002136); excluded: Thin corpus callosum (HP:0033725); excluded: Ventriculomegaly (HP:0002119); excluded: Sacral dimple (HP:0000960); excluded: Deep palmar crease (HP:0006191); excluded: Bilateral single transverse palmar creases (HP:0007598); excluded: Atrial septal defect (HP:0001631); excluded: Broad hallux (HP:0010055); excluded: Pes planus (HP:0001763); excluded: Macrodontia (HP:0001572); excluded: Nevus flammeus of the forehead (HP:0007413); excluded: Malar rash (HP:0025300); excluded: Brachycephaly (HP:0000248); excluded: Pointed chin (HP:0000307)</td></tr>\n",
       "</table>"
      ],
      "text/plain": [
       "<IPython.core.display.HTML object>"
      ]
     },
     "metadata": {},
     "output_type": "display_data"
    }
   ],
   "source": [
    "table = IndividualTable(cvalidator.get_error_free_individual_list())\n",
    "display(HTML(table.to_html()))"
   ]
  },
  {
   "cell_type": "code",
   "execution_count": 7,
   "metadata": {},
   "outputs": [
    {
     "name": "stdout",
     "output_type": "stream",
     "text": [
      "[pyphetools] Ingested 9 GA4GH phenopackets.\n",
      "[INFO] Extracted 9 from 9 phenopackets with OMIM:617694\n",
      "\n",
      "\tAl Kaissi syndrome (OMIM:617694): n=9\n",
      "We found a total of 46 unique HPO terms\n",
      "Extracted disease: Al Kaissi syndrome (OMIM:617694)\n",
      "Wrote HPOA disease file to OMIM-617694.tab\n"
     ]
    }
   ],
   "source": [
    "pmid = \"PMID:28886341\"\n",
    "df = timporter.create_hpoa_from_phenopackets(pmid=pmid, moi=\"Autosomal recessive\", target=\"OMIM:617694\")"
   ]
  },
  {
   "cell_type": "code",
   "execution_count": null,
   "metadata": {},
   "outputs": [],
   "source": []
  }
 ],
 "metadata": {
  "kernelspec": {
   "display_name": "ps24venv",
   "language": "python",
   "name": "python3"
  },
  "language_info": {
   "codemirror_mode": {
    "name": "ipython",
    "version": 3
   },
   "file_extension": ".py",
   "mimetype": "text/x-python",
   "name": "python",
   "nbconvert_exporter": "python",
   "pygments_lexer": "ipython3",
   "version": "3.9.6"
  }
 },
 "nbformat": 4,
 "nbformat_minor": 2
}
