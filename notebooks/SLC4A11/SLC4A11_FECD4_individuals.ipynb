{
 "cells": [
  {
   "cell_type": "markdown",
   "metadata": {},
   "source": [
    "# SLC4A11\n",
    "[Fuchs endothelial corneal dystrophy-4 (FECD4)](https://omim.org/entry/613268) is caused by heterozygous mutation in the SLC4A11 gene."
   ]
  },
  {
   "cell_type": "code",
   "execution_count": 3,
   "metadata": {},
   "outputs": [
    {
     "name": "stdout",
     "output_type": "stream",
     "text": [
      "Using pyphetools version 0.9.86\n"
     ]
    }
   ],
   "source": [
    "from pyphetools.creation import TemplateImporter\n",
    "from pyphetools.visualization import IndividualTable, QcVisualizer\n",
    "from IPython.display import display, HTML\n",
    "import pyphetools\n",
    "print(f\"Using pyphetools version {pyphetools.__version__}\")"
   ]
  },
  {
   "cell_type": "code",
   "execution_count": 5,
   "metadata": {},
   "outputs": [],
   "source": [
    "template = \"input/SLC4A11_FECD4_individuals.xlsx\"\n",
    "created_by = \"0000-0002-0736-9199\""
   ]
  },
  {
   "cell_type": "markdown",
   "metadata": {},
   "source": []
  },
  {
   "cell_type": "code",
   "execution_count": 8,
   "metadata": {},
   "outputs": [
    {
     "name": "stdout",
     "output_type": "stream",
     "text": [
      "HPO version 2024-04-26\n",
      "Created encoders for 20 fields\n",
      "Importing OMIM:613268, Corneal dystrophy, Fuchs endothelial, 4, HGNC:16438, SLC4A11,  NM_001174089.2\n",
      "[INFO] encoding variant \"c.671G>C\"\n",
      "https://rest.variantvalidator.org/VariantValidator/variantvalidator/hg38/NM_001174089.2%3Ac.671G>C/NM_001174089.2?content-type=application%2Fjson\n",
      "[INFO] encoding variant \"c.1256C>T\"\n",
      "https://rest.variantvalidator.org/VariantValidator/variantvalidator/hg38/NM_001174089.2%3Ac.1256C>T/NM_001174089.2?content-type=application%2Fjson\n",
      "[INFO] encoding variant \"c.1471G>A\"\n",
      "https://rest.variantvalidator.org/VariantValidator/variantvalidator/hg38/NM_001174089.2%3Ac.1471G>A/NM_001174089.2?content-type=application%2Fjson\n",
      "[INFO] encoding variant \"c.1147G>A\"\n",
      "https://rest.variantvalidator.org/VariantValidator/variantvalidator/hg38/NM_001174089.2%3Ac.1147G>A/NM_001174089.2?content-type=application%2Fjson\n",
      "We output 4 GA4GH phenopackets to the directory phenopackets\n"
     ]
    }
   ],
   "source": [
    "timporter = TemplateImporter(template=template,  created_by=created_by)\n",
    "individual_list, cvalidator = timporter.import_phenopackets_from_template()"
   ]
  },
  {
   "cell_type": "code",
   "execution_count": 9,
   "metadata": {},
   "outputs": [
    {
     "data": {
      "text/html": [
       "<h2>Cohort validation</h2>\n",
       "<p>No errors found for the cohort with 4 individuals</p>"
      ],
      "text/plain": [
       "<IPython.core.display.HTML object>"
      ]
     },
     "metadata": {},
     "output_type": "display_data"
    }
   ],
   "source": [
    "qc = QcVisualizer(cohort_validator=cvalidator)\n",
    "display(HTML(qc.to_summary_html()))"
   ]
  },
  {
   "cell_type": "code",
   "execution_count": 10,
   "metadata": {},
   "outputs": [
    {
     "data": {
      "text/html": [
       "<table style=\"border: 2px solid black; align: \"left\">\n",
       "<caption>4 phenopackets - PMID:25007886 (n=4)</caption>\n",
       "<tr><th style=\"text-align: left;font-weight: bold;\">Individual</th><th style=\"text-align: left;font-weight: bold;\">Disease</th><th style=\"text-align: left;font-weight: bold;\">Genotype</th><th style=\"text-align: left;font-weight: bold;\">Phenotypic features</th></tr>\n",
       "<tr><td style=\"text-align: left;\">Subject 1 (UNKNOWN; n/a)</td><td style=\"text-align: left;\">Corneal dystrophy, Fuchs endothelial, 4 (OMIM:613268)</td><td style=\"text-align: left;\">NM_001174089.2:c.671G>C (heterozygous)</td><td style=\"text-align: left;\">Corneal guttata (HP:0012038); Corneal dystrophy (HP:0001131); excluded: Reduced visual acuity (HP:0007663)</td></tr>\n",
       "<tr><td style=\"text-align: left;\">Subject 2 (UNKNOWN; n/a)</td><td style=\"text-align: left;\">Corneal dystrophy, Fuchs endothelial, 4 (OMIM:613268)</td><td style=\"text-align: left;\">NM_001174089.2:c.1147G>A (heterozygous)</td><td style=\"text-align: left;\">Reduced visual acuity (HP:0007663); Corneal guttata (HP:0012038); Corneal dystrophy (HP:0001131)</td></tr>\n",
       "<tr><td style=\"text-align: left;\">Subject 3 (UNKNOWN; n/a)</td><td style=\"text-align: left;\">Corneal dystrophy, Fuchs endothelial, 4 (OMIM:613268)</td><td style=\"text-align: left;\">NM_001174089.2:c.1256C>T (heterozygous)</td><td style=\"text-align: left;\">Reduced visual acuity (HP:0007663); Corneal guttata (HP:0012038); Corneal dystrophy (HP:0001131)</td></tr>\n",
       "<tr><td style=\"text-align: left;\">Subject 4 (UNKNOWN; n/a)</td><td style=\"text-align: left;\">Corneal dystrophy, Fuchs endothelial, 4 (OMIM:613268)</td><td style=\"text-align: left;\">NM_001174089.2:c.1471G>A (heterozygous)</td><td style=\"text-align: left;\">Reduced visual acuity (HP:0007663); Corneal guttata (HP:0012038); Corneal dystrophy (HP:0001131)</td></tr>\n",
       "</table>"
      ],
      "text/plain": [
       "<IPython.core.display.HTML object>"
      ]
     },
     "metadata": {},
     "output_type": "display_data"
    }
   ],
   "source": [
    "table = IndividualTable(cvalidator.get_error_free_individual_list())\n",
    "display(HTML(table.to_html()))"
   ]
  }
 ],
 "metadata": {
  "kernelspec": {
   "display_name": "ps24venv",
   "language": "python",
   "name": "python3"
  },
  "language_info": {
   "codemirror_mode": {
    "name": "ipython",
    "version": 3
   },
   "file_extension": ".py",
   "mimetype": "text/x-python",
   "name": "python",
   "nbconvert_exporter": "python",
   "pygments_lexer": "ipython3",
   "version": "3.9.6"
  }
 },
 "nbformat": 4,
 "nbformat_minor": 2
}
