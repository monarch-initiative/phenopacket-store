{
 "cells": [
  {
   "cell_type": "markdown",
   "id": "b935ac77-ed61-471d-9eb7-3d8e363ce441",
   "metadata": {},
   "source": [
    "# U2AF2 individuals\n",
    "DEVDFB: [Developmental delay, dysmorphic facies, and brain anomalies](https://omim.org/entry/620535)."
   ]
  },
  {
   "cell_type": "code",
   "execution_count": 1,
   "id": "c9735d73-4caa-4337-a8ec-0e67f8af5e9e",
   "metadata": {},
   "outputs": [
    {
     "name": "stdout",
     "output_type": "stream",
     "text": [
      "Using pyphetools version 0.9.71\n"
     ]
    }
   ],
   "source": [
    "from pyphetools.creation import TemplateImporter\n",
    "from pyphetools.visualization import IndividualTable, QcVisualizer\n",
    "from IPython.display import display, HTML\n",
    "import pyphetools\n",
    "print(f\"Using pyphetools version {pyphetools.__version__}\")"
   ]
  },
  {
   "cell_type": "code",
   "execution_count": 2,
   "id": "36a8465f-eb88-4572-830e-2032466e2c4a",
   "metadata": {},
   "outputs": [],
   "source": [
    "template = \"input/U2AF2_individuals.xlsx\"\n",
    "hp_json = \"../hp.json\"\n",
    "created_by = \"0000-0002-0736-9199\""
   ]
  },
  {
   "cell_type": "code",
   "execution_count": 3,
   "id": "bbed6fa6-3ae6-4082-b336-39078be183a9",
   "metadata": {},
   "outputs": [
    {
     "name": "stdout",
     "output_type": "stream",
     "text": [
      "HPO version 2024-03-06\n",
      "Created encoders for 39 fields\n",
      "Importing OMIM:620535, Developmental delay, dysmorphic facies, and brain anomalies, nan, nan,  NM_007279.3\n",
      "We output 3 GA4GH phenopackets to the directory phenopackets\n"
     ]
    }
   ],
   "source": [
    "timporter = TemplateImporter(template=template, hp_json=hp_json, created_by=created_by)\n",
    "individual_list, cvalidator = timporter.import_phenopackets_from_template()"
   ]
  },
  {
   "cell_type": "code",
   "execution_count": 4,
   "id": "627bcfc7-36b3-4e11-8095-91f7a81342e0",
   "metadata": {},
   "outputs": [
    {
     "data": {
      "text/html": [
       "<h2>Cohort validation</h2>\n",
       "<p>Errors found with 3 of 3 phenopackets.</p>\n",
       "<table style=\"border: 2px solid black; align: \"left\">\n",
       "<caption>Error counts</caption>\n",
       "<tr><th style=\"text-align: left;font-weight: bold;\">Level</th><th style=\"text-align: left;font-weight: bold;\">Error category</th><th style=\"text-align: left;font-weight: bold;\">Count</th></tr>\n",
       "<tr><td style=\"text-align: left;\">WARNING</td><td style=\"text-align: left;\">REDUNDANT</td><td style=\"text-align: left;\">3</td></tr>\n",
       "</table>\n",
       "<p>A total of 3 issues were fixed and no individual was removed from the cohort.</p>"
      ],
      "text/plain": [
       "<IPython.core.display.HTML object>"
      ]
     },
     "metadata": {},
     "output_type": "display_data"
    }
   ],
   "source": [
    "qc = QcVisualizer(cohort_validator=cvalidator)\n",
    "display(HTML(qc.to_summary_html()))"
   ]
  },
  {
   "cell_type": "code",
   "execution_count": 5,
   "id": "4d8388b7-36d2-4429-8ef1-76ff64397981",
   "metadata": {},
   "outputs": [
    {
     "data": {
      "text/html": [
       "<table style=\"border: 2px solid black; align: \"left\">\n",
       "<caption>3 phenopackets - PMID:34112922 (n=1); PMID:36747105 (n=1); PMID:37134193 (n=1)</caption>\n",
       "<tr><th style=\"text-align: left;font-weight: bold;\">Individual</th><th style=\"text-align: left;font-weight: bold;\">Disease</th><th style=\"text-align: left;font-weight: bold;\">Genotype</th><th style=\"text-align: left;font-weight: bold;\">Phenotypic features</th></tr>\n",
       "<tr><td style=\"text-align: left;\">A Japanese girl (FEMALE; P7Y6M)</td><td style=\"text-align: left;\">Developmental delay, dysmorphic facies, and brain anomalies (OMIM:620535)</td><td style=\"text-align: left;\">NM_007279.3:c.445C>T (heterozygous)</td><td style=\"text-align: left;\"><b>P3M</b>: Microcephaly (HP:0000252)<br/>Single transverse palmar crease (HP:0000954); Pes planus (HP:0001763); Exotropia (HP:0000577); Ptosis (HP:0000508); Global developmental delay (HP:0001263); Febrile seizure (within the age range of 3 months to 6 years) (HP:0002373); Hypoplasia of the corpus callosum (HP:0002079); Hypotonia (HP:0001252); excluded: Autistic behavior (HP:0000729); excluded: Microtia (HP:0008551); excluded: Low-set ears (HP:0000369); excluded: Mandibular prognathia (HP:0000303); excluded: Vertical nystagmus (HP:0010544); excluded: Chorea (HP:0002072); excluded: Lower limb hyperreflexia (HP:0002395); excluded: Thick eyebrow (HP:0000574); excluded: Upslanted palpebral fissure (HP:0000582); excluded: Depressed nasal bridge (HP:0005280); excluded: Deep philtrum (HP:0002002); excluded: Retrognathia (HP:0000278); excluded: Delayed CNS myelination (HP:0002188)</td></tr>\n",
       "<tr><td style=\"text-align: left;\">proband (MALE; P6Y)</td><td style=\"text-align: left;\">Developmental delay, dysmorphic facies, and brain anomalies (OMIM:620535)</td><td style=\"text-align: left;\">NM_007279.3:c.603G>T (heterozygous)</td><td style=\"text-align: left;\">Microcephaly (HP:0000252); Global developmental delay (HP:0001263); Febrile seizure (within the age range of 3 months to 6 years) (HP:0002373); Hypoplasia of the corpus callosum (HP:0002079); Microtia (HP:0008551); Low-set ears (HP:0000369); Mandibular prognathia (HP:0000303); excluded: Single transverse palmar crease (HP:0000954); excluded: Pes planus (HP:0001763); excluded: Exotropia (HP:0000577); excluded: Ptosis (HP:0000508); excluded: Hypotonia (HP:0001252); excluded: Autistic behavior (HP:0000729); excluded: Vertical nystagmus (HP:0010544); excluded: Chorea (HP:0002072); excluded: Lower limb hyperreflexia (HP:0002395); excluded: Thick eyebrow (HP:0000574); excluded: Upslanted palpebral fissure (HP:0000582); excluded: Depressed nasal bridge (HP:0005280); excluded: Deep philtrum (HP:0002002); excluded: Retrognathia (HP:0000278); excluded: Delayed CNS myelination (HP:0002188)</td></tr>\n",
       "<tr><td style=\"text-align: left;\">2-year-old female (FEMALE; P2Y)</td><td style=\"text-align: left;\">Developmental delay, dysmorphic facies, and brain anomalies (OMIM:620535)</td><td style=\"text-align: left;\">NM_007279.3:c.470C>T (heterozygous)</td><td style=\"text-align: left;\">Vertical nystagmus (HP:0010544); Global developmental delay (HP:0001263); Hypoplasia of the corpus callosum (HP:0002079); Chorea (HP:0002072); Lower limb hyperreflexia (HP:0002395); Thick eyebrow (HP:0000574); Upslanted palpebral fissure (HP:0000582); Depressed nasal bridge (HP:0005280); Deep philtrum (HP:0002002); Retrognathia (HP:0000278); Delayed CNS myelination (HP:0002188); excluded: Single transverse palmar crease (HP:0000954); excluded: Pes planus (HP:0001763); excluded: Exotropia (HP:0000577); excluded: Ptosis (HP:0000508); excluded: Febrile seizure (within the age range of 3 months to 6 years) (HP:0002373); excluded: Hypotonia (HP:0001252); excluded: Autistic behavior (HP:0000729); excluded: Microtia (HP:0008551); excluded: Low-set ears (HP:0000369); excluded: Mandibular prognathia (HP:0000303)</td></tr>\n",
       "</table>"
      ],
      "text/plain": [
       "<IPython.core.display.HTML object>"
      ]
     },
     "metadata": {},
     "output_type": "display_data"
    }
   ],
   "source": [
    "table = IndividualTable(cvalidator.get_error_free_individual_list())\n",
    "display(HTML(table.to_html()))"
   ]
  },
  {
   "cell_type": "markdown",
   "id": "cbe334f7-7518-402c-ace3-139c7e49bd7d",
   "metadata": {},
   "source": [
    "# HPOA file"
   ]
  },
  {
   "cell_type": "code",
   "execution_count": 8,
   "id": "8e68601b-49bf-4cce-aabc-dbca450588f9",
   "metadata": {},
   "outputs": [
    {
     "name": "stdout",
     "output_type": "stream",
     "text": [
      "[pyphetools] Ingested 3 GA4GH phenopackets.\n",
      "\tDevelopmental delay, dysmorphic facies, and brain anomalies (OMIM:620535): n=3\n",
      "We found a total of 22 unique HPO terms\n",
      "Extracted disease: Developmental delay, dysmorphic facies, and brain anomalies (OMIM:620535)\n",
      "Wrote HPOA disease file to OMIM-620535.tab\n"
     ]
    }
   ],
   "source": [
    "PMID = \"PMID:34112922\"\n",
    "df = timporter.create_hpoa_from_phenopackets(pmid=PMID, moi=\"Autosomal dominant\")"
   ]
  },
  {
   "cell_type": "code",
   "execution_count": null,
   "id": "674ee877-4735-4dff-9844-5bdda62e5321",
   "metadata": {},
   "outputs": [],
   "source": []
  }
 ],
 "metadata": {
  "kernelspec": {
   "display_name": "Python 3 (ipykernel)",
   "language": "python",
   "name": "python3"
  },
  "language_info": {
   "codemirror_mode": {
    "name": "ipython",
    "version": 3
   },
   "file_extension": ".py",
   "mimetype": "text/x-python",
   "name": "python",
   "nbconvert_exporter": "python",
   "pygments_lexer": "ipython3",
   "version": "3.8.10"
  }
 },
 "nbformat": 4,
 "nbformat_minor": 5
}
