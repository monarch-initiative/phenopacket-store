{
 "cells": [
  {
   "cell_type": "markdown",
   "id": "b935ac77-ed61-471d-9eb7-3d8e363ce441",
   "metadata": {},
   "source": [
    "# U2AF2 individuals\n",
    "DEVDFB: [Developmental delay, dysmorphic facies, and brain anomalies](https://omim.org/entry/620535)."
   ]
  },
  {
   "cell_type": "code",
   "execution_count": 1,
   "id": "c9735d73-4caa-4337-a8ec-0e67f8af5e9e",
   "metadata": {},
   "outputs": [
    {
     "name": "stdout",
     "output_type": "stream",
     "text": [
      "Using pyphetools version 0.9.56\n"
     ]
    }
   ],
   "source": [
    "import pandas as pd\n",
    "from IPython.display import display, HTML\n",
    "pd.set_option('display.max_colwidth', None) # show entire column contents, important!\n",
    "from collections import defaultdict\n",
    "from pyphetools.creation import *\n",
    "from pyphetools.visualization import *\n",
    "from pyphetools.validation import *\n",
    "import pyphetools\n",
    "print(f\"Using pyphetools version {pyphetools.__version__}\")"
   ]
  },
  {
   "cell_type": "code",
   "execution_count": 2,
   "id": "36a8465f-eb88-4572-830e-2032466e2c4a",
   "metadata": {},
   "outputs": [
    {
     "name": "stdout",
     "output_type": "stream",
     "text": [
      "HPO version 2024-02-27\n"
     ]
    }
   ],
   "source": [
    "parser = HpoParser(hpo_json_file=\"../hp.json\")\n",
    "hpo_cr = parser.get_hpo_concept_recognizer()\n",
    "hpo_version = parser.get_version()\n",
    "hpo_ontology = parser.get_ontology()\n",
    "created_by=\"ORCID:0000-0002-0736-9199\"\n",
    "print(f\"HPO version {hpo_version}\")"
   ]
  },
  {
   "cell_type": "code",
   "execution_count": 3,
   "id": "bbed6fa6-3ae6-4082-b336-39078be183a9",
   "metadata": {},
   "outputs": [
    {
     "data": {
      "text/html": [
       "<div>\n",
       "<style scoped>\n",
       "    .dataframe tbody tr th:only-of-type {\n",
       "        vertical-align: middle;\n",
       "    }\n",
       "\n",
       "    .dataframe tbody tr th {\n",
       "        vertical-align: top;\n",
       "    }\n",
       "\n",
       "    .dataframe thead th {\n",
       "        text-align: right;\n",
       "    }\n",
       "</style>\n",
       "<table border=\"1\" class=\"dataframe\">\n",
       "  <thead>\n",
       "    <tr style=\"text-align: right;\">\n",
       "      <th></th>\n",
       "      <th>PMID</th>\n",
       "      <th>title</th>\n",
       "      <th>individual_id</th>\n",
       "      <th>comment</th>\n",
       "      <th>disease_id</th>\n",
       "      <th>disease_label</th>\n",
       "      <th>transcript</th>\n",
       "      <th>allele_1</th>\n",
       "      <th>allele_2</th>\n",
       "      <th>variant.comment</th>\n",
       "      <th>...</th>\n",
       "      <th>Mandibular prognathia</th>\n",
       "      <th>Vertical nystagmus</th>\n",
       "      <th>Chorea</th>\n",
       "      <th>Lower limb hyperreflexia</th>\n",
       "      <th>Thick eyebrow</th>\n",
       "      <th>Upslanted palpebral fissure</th>\n",
       "      <th>Depressed nasal bridge</th>\n",
       "      <th>Deep philtrum</th>\n",
       "      <th>Retrognathia</th>\n",
       "      <th>Delayed CNS myelination</th>\n",
       "    </tr>\n",
       "  </thead>\n",
       "  <tbody>\n",
       "    <tr>\n",
       "      <th>0</th>\n",
       "      <td>str</td>\n",
       "      <td>str</td>\n",
       "      <td>str</td>\n",
       "      <td>optional str</td>\n",
       "      <td>str</td>\n",
       "      <td>str</td>\n",
       "      <td>str</td>\n",
       "      <td>str</td>\n",
       "      <td>str</td>\n",
       "      <td>optional str</td>\n",
       "      <td>...</td>\n",
       "      <td>HP:0000303</td>\n",
       "      <td>HP:0010544</td>\n",
       "      <td>HP:0002072</td>\n",
       "      <td>HP:0002395</td>\n",
       "      <td>HP:0000574</td>\n",
       "      <td>HP:0000582</td>\n",
       "      <td>HP:0005280</td>\n",
       "      <td>HP:0002002</td>\n",
       "      <td>HP:0000278</td>\n",
       "      <td>HP:0002188</td>\n",
       "    </tr>\n",
       "    <tr>\n",
       "      <th>1</th>\n",
       "      <td>PMID:34112922</td>\n",
       "      <td>Global developmental delay, systemic dysmorphism and epilepsy in a patient with a de novo U2AF2 variant</td>\n",
       "      <td>A Japanese girl</td>\n",
       "      <td>NaN</td>\n",
       "      <td>OMIM:620535</td>\n",
       "      <td>Developmental delay, dysmorphic facies, and brain anomalies</td>\n",
       "      <td>NM_007279.3</td>\n",
       "      <td>c.445C&gt;T</td>\n",
       "      <td>na</td>\n",
       "      <td>p.(Arg149Trp)</td>\n",
       "      <td>...</td>\n",
       "      <td>excluded</td>\n",
       "      <td>excluded</td>\n",
       "      <td>excluded</td>\n",
       "      <td>excluded</td>\n",
       "      <td>excluded</td>\n",
       "      <td>excluded</td>\n",
       "      <td>excluded</td>\n",
       "      <td>excluded</td>\n",
       "      <td>excluded</td>\n",
       "      <td>excluded</td>\n",
       "    </tr>\n",
       "  </tbody>\n",
       "</table>\n",
       "<p>2 rows × 37 columns</p>\n",
       "</div>"
      ],
      "text/plain": [
       "            PMID  \\\n",
       "0            str   \n",
       "1  PMID:34112922   \n",
       "\n",
       "                                                                                                     title  \\\n",
       "0                                                                                                      str   \n",
       "1  Global developmental delay, systemic dysmorphism and epilepsy in a patient with a de novo U2AF2 variant   \n",
       "\n",
       "     individual_id       comment   disease_id  \\\n",
       "0              str  optional str          str   \n",
       "1  A Japanese girl           NaN  OMIM:620535   \n",
       "\n",
       "                                                 disease_label   transcript  \\\n",
       "0                                                          str          str   \n",
       "1  Developmental delay, dysmorphic facies, and brain anomalies  NM_007279.3   \n",
       "\n",
       "   allele_1 allele_2 variant.comment  ... Mandibular prognathia  \\\n",
       "0       str      str    optional str  ...            HP:0000303   \n",
       "1  c.445C>T       na   p.(Arg149Trp)  ...              excluded   \n",
       "\n",
       "  Vertical nystagmus      Chorea Lower limb hyperreflexia Thick eyebrow  \\\n",
       "0         HP:0010544  HP:0002072               HP:0002395    HP:0000574   \n",
       "1           excluded    excluded                 excluded      excluded   \n",
       "\n",
       "  Upslanted palpebral fissure Depressed nasal bridge Deep philtrum  \\\n",
       "0                  HP:0000582             HP:0005280    HP:0002002   \n",
       "1                    excluded               excluded      excluded   \n",
       "\n",
       "  Retrognathia Delayed CNS myelination  \n",
       "0   HP:0000278              HP:0002188  \n",
       "1     excluded                excluded  \n",
       "\n",
       "[2 rows x 37 columns]"
      ]
     },
     "execution_count": 3,
     "metadata": {},
     "output_type": "execute_result"
    }
   ],
   "source": [
    "df = pd.read_excel(\"input/U2AF2_individuals.xlsx\")\n",
    "df.head(2)"
   ]
  },
  {
   "cell_type": "code",
   "execution_count": 4,
   "id": "627bcfc7-36b3-4e11-8095-91f7a81342e0",
   "metadata": {},
   "outputs": [
    {
     "name": "stdout",
     "output_type": "stream",
     "text": [
      "Created encoders for 37 fields\n"
     ]
    }
   ],
   "source": [
    "encoder = CaseTemplateEncoder(df=df, hpo_cr=hpo_cr, created_by=created_by)\n",
    "individuals = encoder.get_individuals()"
   ]
  },
  {
   "cell_type": "code",
   "execution_count": 5,
   "id": "2a1465e9-d257-4e3d-958b-d0fb7f425ddb",
   "metadata": {},
   "outputs": [
    {
     "name": "stdout",
     "output_type": "stream",
     "text": [
      "[INFO] encoding variant \"c.445C>T\"\n",
      "https://rest.variantvalidator.org/VariantValidator/variantvalidator/hg38/NM_007279.3%3Ac.445C>T/NM_007279.3?content-type=application%2Fjson\n",
      "[INFO] encoding variant \"c.603G>T\"\n",
      "https://rest.variantvalidator.org/VariantValidator/variantvalidator/hg38/NM_007279.3%3Ac.603G>T/NM_007279.3?content-type=application%2Fjson\n",
      "[INFO] encoding variant \"c.470C>T\"\n",
      "https://rest.variantvalidator.org/VariantValidator/variantvalidator/hg38/NM_007279.3%3Ac.470C>T/NM_007279.3?content-type=application%2Fjson\n"
     ]
    }
   ],
   "source": [
    "U2AF2_transcript = \"NM_007279.3\"\n",
    "vmanager = VariantManager(df=df,\n",
    "                          individual_column_name=\"individual_id\",\n",
    "                          gene_symbol=\"U2AF2\",\n",
    "                          transcript=U2AF2_transcript,\n",
    "                          allele_1_column_name=\"allele_1\")"
   ]
  },
  {
   "cell_type": "code",
   "execution_count": 6,
   "id": "9645de1d-2fd4-4746-aa21-e3ca97d4b711",
   "metadata": {},
   "outputs": [
    {
     "data": {
      "text/html": [
       "<div>\n",
       "<style scoped>\n",
       "    .dataframe tbody tr th:only-of-type {\n",
       "        vertical-align: middle;\n",
       "    }\n",
       "\n",
       "    .dataframe tbody tr th {\n",
       "        vertical-align: top;\n",
       "    }\n",
       "\n",
       "    .dataframe thead th {\n",
       "        text-align: right;\n",
       "    }\n",
       "</style>\n",
       "<table border=\"1\" class=\"dataframe\">\n",
       "  <thead>\n",
       "    <tr style=\"text-align: right;\">\n",
       "      <th></th>\n",
       "      <th>status</th>\n",
       "      <th>count</th>\n",
       "      <th>alleles</th>\n",
       "    </tr>\n",
       "  </thead>\n",
       "  <tbody>\n",
       "    <tr>\n",
       "      <th>0</th>\n",
       "      <td>mapped</td>\n",
       "      <td>3</td>\n",
       "      <td>c.445C&gt;T, c.603G&gt;T, c.470C&gt;T</td>\n",
       "    </tr>\n",
       "    <tr>\n",
       "      <th>1</th>\n",
       "      <td>unmapped</td>\n",
       "      <td>0</td>\n",
       "      <td></td>\n",
       "    </tr>\n",
       "  </tbody>\n",
       "</table>\n",
       "</div>"
      ],
      "text/plain": [
       "     status  count                       alleles\n",
       "0    mapped      3  c.445C>T, c.603G>T, c.470C>T\n",
       "1  unmapped      0                              "
      ]
     },
     "execution_count": 6,
     "metadata": {},
     "output_type": "execute_result"
    }
   ],
   "source": [
    "vmanager.to_summary()"
   ]
  },
  {
   "cell_type": "code",
   "execution_count": 7,
   "id": "4d8388b7-36d2-4429-8ef1-76ff64397981",
   "metadata": {},
   "outputs": [],
   "source": [
    "vmanager.add_variants_to_individuals(individuals)"
   ]
  },
  {
   "cell_type": "code",
   "execution_count": 8,
   "id": "9310f140-c7c2-4a11-b9ef-a12555a554db",
   "metadata": {},
   "outputs": [
    {
     "data": {
      "text/html": [
       "<h2>Cohort validation</h2>\n",
       "<p>Errors found with 3 of 3 phenopackets.</p>\n",
       "<table style=\"border: 2px solid black; align: \"left\">\n",
       "<caption>Error counts</caption>\n",
       "<tr><th style=\"text-align: left;font-weight: bold;\">Level</th><th style=\"text-align: left;font-weight: bold;\">Error category</th><th style=\"text-align: left;font-weight: bold;\">Count</th></tr>\n",
       "<tr><td style=\"text-align: left;\">WARNING</td><td style=\"text-align: left;\">REDUNDANT</td><td style=\"text-align: left;\">3</td></tr>\n",
       "</table>\n",
       "<p>A total of 3 issues were fixed and no individual was removed from the cohort.</p>"
      ],
      "text/plain": [
       "<IPython.core.display.HTML object>"
      ]
     },
     "metadata": {},
     "output_type": "display_data"
    }
   ],
   "source": [
    "cvalidator = CohortValidator(cohort=individuals, ontology=hpo_ontology, min_hpo=1,\n",
    "                                allelic_requirement=AllelicRequirement.MONO_ALLELIC)\n",
    "qc = QcVisualizer(cohort_validator=cvalidator)\n",
    "display(HTML(qc.to_summary_html()))"
   ]
  },
  {
   "cell_type": "code",
   "execution_count": 9,
   "id": "1bd60cd3-aa69-4634-9698-9dadd41b51a7",
   "metadata": {},
   "outputs": [
    {
     "data": {
      "text/html": [
       "<table style=\"border: 2px solid black; align: \"left\">\n",
       "<caption>3 phenopackets - PMID:34112922 (n=1); PMID:36747105 (n=1); PMID:37134193 (n=1)</caption>\n",
       "<tr><th style=\"text-align: left;font-weight: bold;\">Individual</th><th style=\"text-align: left;font-weight: bold;\">Disease</th><th style=\"text-align: left;font-weight: bold;\">Genotype</th><th style=\"text-align: left;font-weight: bold;\">Phenotypic features</th></tr>\n",
       "<tr><td style=\"text-align: left;\">A Japanese girl (FEMALE; P7Y6M)</td><td style=\"text-align: left;\">Developmental delay, dysmorphic facies, and brain anomalies (OMIM:620535)</td><td style=\"text-align: left;\">NM_007279.3:c.445C>T (heterozygous)</td><td style=\"text-align: left;\"><b>P3M</b>: Microcephaly (HP:0000252)<br/>Single transverse palmar crease (HP:0000954); Pes planus (HP:0001763); Exotropia (HP:0000577); Ptosis (HP:0000508); Global developmental delay (HP:0001263); Febrile seizure (within the age range of 3 months to 6 years) (HP:0002373); Hypoplasia of the corpus callosum (HP:0002079); Hypotonia (HP:0001252); excluded: Autistic behavior (HP:0000729); excluded: Microtia (HP:0008551); excluded: Low-set ears (HP:0000369); excluded: Mandibular prognathia (HP:0000303); excluded: Vertical nystagmus (HP:0010544); excluded: Chorea (HP:0002072); excluded: Lower limb hyperreflexia (HP:0002395); excluded: Thick eyebrow (HP:0000574); excluded: Upslanted palpebral fissure (HP:0000582); excluded: Depressed nasal bridge (HP:0005280); excluded: Deep philtrum (HP:0002002); excluded: Retrognathia (HP:0000278); excluded: Delayed CNS myelination (HP:0002188)</td></tr>\n",
       "<tr><td style=\"text-align: left;\">proband (MALE; P6Y)</td><td style=\"text-align: left;\">Developmental delay, dysmorphic facies, and brain anomalies (OMIM:620535)</td><td style=\"text-align: left;\">NM_007279.3:c.603G>T (heterozygous)</td><td style=\"text-align: left;\">Microcephaly (HP:0000252); Global developmental delay (HP:0001263); Febrile seizure (within the age range of 3 months to 6 years) (HP:0002373); Hypoplasia of the corpus callosum (HP:0002079); Microtia (HP:0008551); Low-set ears (HP:0000369); Mandibular prognathia (HP:0000303); excluded: Single transverse palmar crease (HP:0000954); excluded: Pes planus (HP:0001763); excluded: Exotropia (HP:0000577); excluded: Ptosis (HP:0000508); excluded: Hypotonia (HP:0001252); excluded: Autistic behavior (HP:0000729); excluded: Vertical nystagmus (HP:0010544); excluded: Chorea (HP:0002072); excluded: Lower limb hyperreflexia (HP:0002395); excluded: Thick eyebrow (HP:0000574); excluded: Upslanted palpebral fissure (HP:0000582); excluded: Depressed nasal bridge (HP:0005280); excluded: Deep philtrum (HP:0002002); excluded: Retrognathia (HP:0000278); excluded: Delayed CNS myelination (HP:0002188)</td></tr>\n",
       "<tr><td style=\"text-align: left;\">2-year-old female (FEMALE; P2Y)</td><td style=\"text-align: left;\">Developmental delay, dysmorphic facies, and brain anomalies (OMIM:620535)</td><td style=\"text-align: left;\">NM_007279.3:c.470C>T (heterozygous)</td><td style=\"text-align: left;\">Vertical nystagmus (HP:0010544); Global developmental delay (HP:0001263); Hypoplasia of the corpus callosum (HP:0002079); Chorea (HP:0002072); Lower limb hyperreflexia (HP:0002395); Thick eyebrow (HP:0000574); Upslanted palpebral fissure (HP:0000582); Depressed nasal bridge (HP:0005280); Deep philtrum (HP:0002002); Retrognathia (HP:0000278); Delayed CNS myelination (HP:0002188); excluded: Single transverse palmar crease (HP:0000954); excluded: Pes planus (HP:0001763); excluded: Exotropia (HP:0000577); excluded: Ptosis (HP:0000508); excluded: Febrile seizure (within the age range of 3 months to 6 years) (HP:0002373); excluded: Hypotonia (HP:0001252); excluded: Autistic behavior (HP:0000729); excluded: Microtia (HP:0008551); excluded: Low-set ears (HP:0000369); excluded: Mandibular prognathia (HP:0000303)</td></tr>\n",
       "</table>"
      ],
      "text/plain": [
       "<IPython.core.display.HTML object>"
      ]
     },
     "metadata": {},
     "output_type": "display_data"
    }
   ],
   "source": [
    "individuals = cvalidator.get_error_free_individual_list()\n",
    "table = IndividualTable(individuals)\n",
    "display(HTML(table.to_html()))"
   ]
  },
  {
   "cell_type": "code",
   "execution_count": 10,
   "id": "ee58f8cb-f200-40f3-b66e-2d8713816ece",
   "metadata": {},
   "outputs": [
    {
     "name": "stdout",
     "output_type": "stream",
     "text": [
      "We output 3 GA4GH phenopackets to the directory phenopackets\n"
     ]
    }
   ],
   "source": [
    "encoder.output_individuals_as_phenopackets(individual_list=individuals)"
   ]
  },
  {
   "cell_type": "markdown",
   "id": "cbe334f7-7518-402c-ace3-139c7e49bd7d",
   "metadata": {},
   "source": [
    "# HPOA file"
   ]
  },
  {
   "cell_type": "code",
   "execution_count": 11,
   "id": "8e68601b-49bf-4cce-aabc-dbca450588f9",
   "metadata": {},
   "outputs": [
    {
     "name": "stdout",
     "output_type": "stream",
     "text": [
      "[pyphetools] Ingested 3 GA4GH phenopackets.\n",
      "We found a total of 22 unique HPO terms\n",
      "Extracted disease: Developmental delay, dysmorphic facies, and brain anomalies (OMIM:620535)\n"
     ]
    }
   ],
   "source": [
    "ingestor = PhenopacketIngestor(indir=\"phenopackets\")\n",
    "ppkt_d = ingestor.get_phenopacket_dictionary()\n",
    "ppkt_list = list(ppkt_d.values())\n",
    "builder = HpoaTableBuilder(phenopacket_list=ppkt_list)\n",
    "PMID = \"PMID:34112922\"\n",
    "hpoa_table_creator = builder.autosomal_dominant(PMID).build()"
   ]
  },
  {
   "cell_type": "code",
   "execution_count": 12,
   "id": "7408197b-0010-401f-8807-b1f36b8a604d",
   "metadata": {},
   "outputs": [
    {
     "data": {
      "text/html": [
       "<div>\n",
       "<style scoped>\n",
       "    .dataframe tbody tr th:only-of-type {\n",
       "        vertical-align: middle;\n",
       "    }\n",
       "\n",
       "    .dataframe tbody tr th {\n",
       "        vertical-align: top;\n",
       "    }\n",
       "\n",
       "    .dataframe thead th {\n",
       "        text-align: right;\n",
       "    }\n",
       "</style>\n",
       "<table border=\"1\" class=\"dataframe\">\n",
       "  <thead>\n",
       "    <tr style=\"text-align: right;\">\n",
       "      <th></th>\n",
       "      <th>#diseaseID</th>\n",
       "      <th>diseaseName</th>\n",
       "      <th>phenotypeID</th>\n",
       "      <th>phenotypeName</th>\n",
       "      <th>onsetID</th>\n",
       "      <th>onsetName</th>\n",
       "      <th>frequency</th>\n",
       "      <th>sex</th>\n",
       "      <th>negation</th>\n",
       "      <th>modifier</th>\n",
       "      <th>description</th>\n",
       "      <th>publication</th>\n",
       "      <th>evidence</th>\n",
       "      <th>biocuration</th>\n",
       "    </tr>\n",
       "  </thead>\n",
       "  <tbody>\n",
       "    <tr>\n",
       "      <th>0</th>\n",
       "      <td>OMIM:620535</td>\n",
       "      <td>Developmental delay, dysmorphic facies, and brain anomalies</td>\n",
       "      <td>HP:0000954</td>\n",
       "      <td>Single transverse palmar crease</td>\n",
       "      <td></td>\n",
       "      <td></td>\n",
       "      <td>1/1</td>\n",
       "      <td></td>\n",
       "      <td></td>\n",
       "      <td></td>\n",
       "      <td></td>\n",
       "      <td>PMID:34112922</td>\n",
       "      <td>PCS</td>\n",
       "      <td>ORCID:0000-0002-0736-9199</td>\n",
       "    </tr>\n",
       "    <tr>\n",
       "      <th>1</th>\n",
       "      <td>OMIM:620535</td>\n",
       "      <td>Developmental delay, dysmorphic facies, and brain anomalies</td>\n",
       "      <td>HP:0001763</td>\n",
       "      <td>Pes planus</td>\n",
       "      <td></td>\n",
       "      <td></td>\n",
       "      <td>1/1</td>\n",
       "      <td></td>\n",
       "      <td></td>\n",
       "      <td></td>\n",
       "      <td></td>\n",
       "      <td>PMID:34112922</td>\n",
       "      <td>PCS</td>\n",
       "      <td>ORCID:0000-0002-0736-9199</td>\n",
       "    </tr>\n",
       "    <tr>\n",
       "      <th>2</th>\n",
       "      <td>OMIM:620535</td>\n",
       "      <td>Developmental delay, dysmorphic facies, and brain anomalies</td>\n",
       "      <td>HP:0000577</td>\n",
       "      <td>Exotropia</td>\n",
       "      <td></td>\n",
       "      <td></td>\n",
       "      <td>1/1</td>\n",
       "      <td></td>\n",
       "      <td></td>\n",
       "      <td></td>\n",
       "      <td></td>\n",
       "      <td>PMID:34112922</td>\n",
       "      <td>PCS</td>\n",
       "      <td>ORCID:0000-0002-0736-9199</td>\n",
       "    </tr>\n",
       "    <tr>\n",
       "      <th>3</th>\n",
       "      <td>OMIM:620535</td>\n",
       "      <td>Developmental delay, dysmorphic facies, and brain anomalies</td>\n",
       "      <td>HP:0000508</td>\n",
       "      <td>Ptosis</td>\n",
       "      <td></td>\n",
       "      <td></td>\n",
       "      <td>1/1</td>\n",
       "      <td></td>\n",
       "      <td></td>\n",
       "      <td></td>\n",
       "      <td></td>\n",
       "      <td>PMID:34112922</td>\n",
       "      <td>PCS</td>\n",
       "      <td>ORCID:0000-0002-0736-9199</td>\n",
       "    </tr>\n",
       "    <tr>\n",
       "      <th>4</th>\n",
       "      <td>OMIM:620535</td>\n",
       "      <td>Developmental delay, dysmorphic facies, and brain anomalies</td>\n",
       "      <td>HP:0000252</td>\n",
       "      <td>Microcephaly</td>\n",
       "      <td></td>\n",
       "      <td></td>\n",
       "      <td>1/1</td>\n",
       "      <td></td>\n",
       "      <td></td>\n",
       "      <td></td>\n",
       "      <td></td>\n",
       "      <td>PMID:34112922</td>\n",
       "      <td>PCS</td>\n",
       "      <td>ORCID:0000-0002-0736-9199</td>\n",
       "    </tr>\n",
       "  </tbody>\n",
       "</table>\n",
       "</div>"
      ],
      "text/plain": [
       "    #diseaseID                                                  diseaseName  \\\n",
       "0  OMIM:620535  Developmental delay, dysmorphic facies, and brain anomalies   \n",
       "1  OMIM:620535  Developmental delay, dysmorphic facies, and brain anomalies   \n",
       "2  OMIM:620535  Developmental delay, dysmorphic facies, and brain anomalies   \n",
       "3  OMIM:620535  Developmental delay, dysmorphic facies, and brain anomalies   \n",
       "4  OMIM:620535  Developmental delay, dysmorphic facies, and brain anomalies   \n",
       "\n",
       "  phenotypeID                    phenotypeName onsetID onsetName frequency  \\\n",
       "0  HP:0000954  Single transverse palmar crease                         1/1   \n",
       "1  HP:0001763                       Pes planus                         1/1   \n",
       "2  HP:0000577                        Exotropia                         1/1   \n",
       "3  HP:0000508                           Ptosis                         1/1   \n",
       "4  HP:0000252                     Microcephaly                         1/1   \n",
       "\n",
       "  sex negation modifier description    publication evidence  \\\n",
       "0                                    PMID:34112922      PCS   \n",
       "1                                    PMID:34112922      PCS   \n",
       "2                                    PMID:34112922      PCS   \n",
       "3                                    PMID:34112922      PCS   \n",
       "4                                    PMID:34112922      PCS   \n",
       "\n",
       "                 biocuration  \n",
       "0  ORCID:0000-0002-0736-9199  \n",
       "1  ORCID:0000-0002-0736-9199  \n",
       "2  ORCID:0000-0002-0736-9199  \n",
       "3  ORCID:0000-0002-0736-9199  \n",
       "4  ORCID:0000-0002-0736-9199  "
      ]
     },
     "execution_count": 12,
     "metadata": {},
     "output_type": "execute_result"
    }
   ],
   "source": [
    "df = hpoa_table_creator.get_dataframe()\n",
    "df.head()"
   ]
  },
  {
   "cell_type": "code",
   "execution_count": 13,
   "id": "2fd8e78e-59ac-4e1c-9ebb-d2e1be1444fc",
   "metadata": {},
   "outputs": [
    {
     "name": "stdout",
     "output_type": "stream",
     "text": [
      "Wrote HPOA disease file to OMIM-620535.tab\n"
     ]
    }
   ],
   "source": [
    "hpoa_table_creator.write_data_frame()"
   ]
  },
  {
   "cell_type": "code",
   "execution_count": null,
   "id": "674ee877-4735-4dff-9844-5bdda62e5321",
   "metadata": {},
   "outputs": [],
   "source": []
  }
 ],
 "metadata": {
  "kernelspec": {
   "display_name": "Python 3 (ipykernel)",
   "language": "python",
   "name": "python3"
  },
  "language_info": {
   "codemirror_mode": {
    "name": "ipython",
    "version": 3
   },
   "file_extension": ".py",
   "mimetype": "text/x-python",
   "name": "python",
   "nbconvert_exporter": "python",
   "pygments_lexer": "ipython3",
   "version": "3.8.10"
  }
 },
 "nbformat": 4,
 "nbformat_minor": 5
}
