{
 "cells": [
  {
   "cell_type": "markdown",
   "metadata": {},
   "source": [
    "# MED23\n",
    "[autosomal recessive intellectual developmental disorder-18 with or without epilepsy (MRT18)](https://omim.org/entry/614249) is caused by homozygous or compound heterozygous mutation in the MED23 gene."
   ]
  },
  {
   "cell_type": "code",
   "execution_count": 3,
   "metadata": {},
   "outputs": [
    {
     "name": "stdout",
     "output_type": "stream",
     "text": [
      "Using pyphetools version 0.9.90\n"
     ]
    }
   ],
   "source": [
    "from pyphetools.creation import TemplateImporter\n",
    "from pyphetools.visualization import IndividualTable, QcVisualizer\n",
    "from IPython.display import display, HTML\n",
    "import pyphetools\n",
    "print(f\"Using pyphetools version {pyphetools.__version__}\")"
   ]
  },
  {
   "cell_type": "code",
   "execution_count": 5,
   "metadata": {},
   "outputs": [],
   "source": [
    "template = \"input/MED23_MRT18_individuals.xlsx\"\n",
    "created_by = \"0000-0002-0736-9199\""
   ]
  },
  {
   "cell_type": "code",
   "execution_count": 6,
   "metadata": {},
   "outputs": [
    {
     "name": "stdout",
     "output_type": "stream",
     "text": [
      "HPO version 2024-04-26\n",
      "Created encoders for 38 fields\n",
      "Importing OMIM:614249, Intellectual developmental disorder, autosomal recessive 18, with or without epilepsy, HGNC:2372, MED23,  NM_004830.4\n",
      "[INFO] encoding variant \"c.670C>G\"\n",
      "https://rest.variantvalidator.org/VariantValidator/variantvalidator/hg38/NM_004830.4%3Ac.670C>G/NM_004830.4?content-type=application%2Fjson\n",
      "[INFO] encoding variant \"c.3988C>T\"\n",
      "https://rest.variantvalidator.org/VariantValidator/variantvalidator/hg38/NM_004830.4%3Ac.3988C>T/NM_004830.4?content-type=application%2Fjson\n",
      "[INFO] encoding variant \"c.3638A>G\"\n",
      "https://rest.variantvalidator.org/VariantValidator/variantvalidator/hg38/NM_004830.4%3Ac.3638A>G/NM_004830.4?content-type=application%2Fjson\n",
      "We output 3 GA4GH phenopackets to the directory phenopackets\n"
     ]
    }
   ],
   "source": [
    "timporter = TemplateImporter(template=template,  created_by=created_by)\n",
    "individual_list, cvalidator = timporter.import_phenopackets_from_template()"
   ]
  },
  {
   "cell_type": "code",
   "execution_count": 7,
   "metadata": {},
   "outputs": [
    {
     "data": {
      "text/html": [
       "<h2>Cohort validation</h2>\n",
       "<p>No errors found for the cohort with 3 individuals</p>"
      ],
      "text/plain": [
       "<IPython.core.display.HTML object>"
      ]
     },
     "metadata": {},
     "output_type": "display_data"
    }
   ],
   "source": [
    "qc = QcVisualizer(cohort_validator=cvalidator)\n",
    "display(HTML(qc.to_summary_html()))"
   ]
  },
  {
   "cell_type": "code",
   "execution_count": 8,
   "metadata": {},
   "outputs": [
    {
     "data": {
      "text/html": [
       "<table style=\"border: 2px solid black; align: \"left\">\n",
       "<caption>3 phenopackets - PMID:25845469 (n=2); PMID:30847200 (n=1)</caption>\n",
       "<tr><th style=\"text-align: left;font-weight: bold;\">Individual</th><th style=\"text-align: left;font-weight: bold;\">Disease</th><th style=\"text-align: left;font-weight: bold;\">Genotype</th><th style=\"text-align: left;font-weight: bold;\">Phenotypic features</th></tr>\n",
       "<tr><td style=\"text-align: left;\">Patient 1 (MALE; P11Y)</td><td style=\"text-align: left;\">Intellectual developmental disorder, autosomal recessive 18, with or without epilepsy (OMIM:614249)</td><td style=\"text-align: left;\"><ul> <li>NM_004830.4:c.3638A>G (heterozygous)</li> <li>NM_004830.4:c.3988C>T (heterozygous)</li> </ul></td><td style=\"text-align: left;\">Irritability (HP:0000737); Feeding difficulties (HP:0011968); Global developmental delay (HP:0001263); Intellectual disability, profound (HP:0002187); Nonprogressive encephalopathy (HP:0007030); EEG abnormality (HP:0002353); Dystonia (HP:0001332); Spasticity (HP:0001257); Hypoplasia of the pons (HP:0012110); Absent speech (HP:0001344); Ventricular septal defect (HP:0001629); Axial hypotonia (HP:0008936); excluded: Cerebral palsy (HP:0100021); excluded: Choreoathetosis (HP:0001266); excluded: Thin corpus callosum (HP:0033725); excluded: Atrial septal defect (HP:0001631)</td></tr>\n",
       "<tr><td style=\"text-align: left;\">Patient 2 (MALE; P5Y)</td><td style=\"text-align: left;\">Intellectual developmental disorder, autosomal recessive 18, with or without epilepsy (OMIM:614249)</td><td style=\"text-align: left;\"><ul> <li>NM_004830.4:c.3638A>G (heterozygous)</li> <li>NM_004830.4:c.3988C>T (heterozygous)</li> </ul></td><td style=\"text-align: left;\"><b>P1Y</b>: Cerebral palsy (HP:0100021)<br/>Irritability (HP:0000737); Feeding difficulties (HP:0011968); Global developmental delay (HP:0001263); Intellectual disability, profound (HP:0002187); Choreoathetosis (HP:0001266); Thin corpus callosum (HP:0033725); Nonprogressive encephalopathy (HP:0007030); EEG abnormality (HP:0002353); Spasticity (HP:0001257); Hypoplasia of the pons (HP:0012110); Absent speech (HP:0001344); Atrial septal defect (HP:0001631); Axial hypotonia (HP:0008936); excluded: Dystonia (HP:0001332); excluded: Ventricular septal defect (HP:0001629)</td></tr>\n",
       "<tr><td style=\"text-align: left;\">patient IV.8 (MALE; P25Y)</td><td style=\"text-align: left;\">Intellectual developmental disorder, autosomal recessive 18, with or without epilepsy (OMIM:614249)</td><td style=\"text-align: left;\">NM_004830.4:c.670C>G (homozygous)</td><td style=\"text-align: left;\"><b>P1Y6M</b>: Global developmental delay (HP:0001263); Spasticity (HP:0001257); Microcephaly (HP:0000252)<br/>Intellectual disability, profound (HP:0002187); Delayed speech and language development (HP:0000750); Difficulty walking (HP:0002355); excluded: Cerebral palsy (HP:0100021)</td></tr>\n",
       "</table>"
      ],
      "text/plain": [
       "<IPython.core.display.HTML object>"
      ]
     },
     "metadata": {},
     "output_type": "display_data"
    }
   ],
   "source": [
    "table = IndividualTable(cvalidator.get_error_free_individual_list())\n",
    "display(HTML(table.to_html()))"
   ]
  },
  {
   "cell_type": "code",
   "execution_count": 9,
   "metadata": {},
   "outputs": [
    {
     "name": "stdout",
     "output_type": "stream",
     "text": [
      "[pyphetools] Ingested 3 GA4GH phenopackets.\n",
      "[INFO] Extracted 3 from 3 phenopackets with OMIM:614249\n",
      "\n",
      "\tIntellectual developmental disorder, autosomal recessive 18, with or without epilepsy (OMIM:614249): n=3\n",
      "We found a total of 19 unique HPO terms\n",
      "Extracted disease: Intellectual developmental disorder, autosomal recessive 18, with or without epilepsy (OMIM:614249)\n",
      "Wrote HPOA disease file to OMIM-614249.tab\n"
     ]
    }
   ],
   "source": [
    "pmid = \"PMID:25845469\"\n",
    "df = timporter.create_hpoa_from_phenopackets(pmid=pmid, moi=\"Autosomal recessive\", target=\"OMIM:614249\")"
   ]
  }
 ],
 "metadata": {
  "kernelspec": {
   "display_name": "ps24venv",
   "language": "python",
   "name": "python3"
  },
  "language_info": {
   "codemirror_mode": {
    "name": "ipython",
    "version": 3
   },
   "file_extension": ".py",
   "mimetype": "text/x-python",
   "name": "python",
   "nbconvert_exporter": "python",
   "pygments_lexer": "ipython3",
   "version": "3.9.6"
  }
 },
 "nbformat": 4,
 "nbformat_minor": 2
}
