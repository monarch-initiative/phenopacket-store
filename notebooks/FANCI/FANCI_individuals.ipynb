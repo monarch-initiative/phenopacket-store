{
 "cells": [
  {
   "cell_type": "markdown",
   "id": "ded34985-fa43-4a16-878f-750069c0245d",
   "metadata": {},
   "source": [
    "# FANCI\n",
    "[Fanconi anemia complementation group I (FANCI)6(https://omim.org/entry/609053) is caused by homozygous or compound heterozygous mutation in the FANCI gene"
   ]
  },
  {
   "cell_type": "code",
   "execution_count": 1,
   "id": "19d87f5a-51eb-4341-bda6-9ae261d7dfd5",
   "metadata": {},
   "outputs": [
    {
     "name": "stdout",
     "output_type": "stream",
     "text": [
      "Using pyphetools version 0.9.78\n"
     ]
    },
    {
     "name": "stderr",
     "output_type": "stream",
     "text": [
      "/Users/robin/GIT/phenopacket-store/ps24venv/lib/python3.9/site-packages/urllib3/__init__.py:35: NotOpenSSLWarning: urllib3 v2 only supports OpenSSL 1.1.1+, currently the 'ssl' module is compiled with 'LibreSSL 2.8.3'. See: https://github.com/urllib3/urllib3/issues/3020\n",
      "  warnings.warn(\n"
     ]
    }
   ],
   "source": [
    "from pyphetools.creation import TemplateImporter\n",
    "from pyphetools.visualization import IndividualTable, QcVisualizer\n",
    "from IPython.display import display, HTML\n",
    "import pyphetools\n",
    "print(f\"Using pyphetools version {pyphetools.__version__}\")"
   ]
  },
  {
   "cell_type": "code",
   "execution_count": 2,
   "id": "a7ae43be-60a9-48c8-83a8-867bb887b54a",
   "metadata": {},
   "outputs": [],
   "source": [
    "template = \"input/FANCI_individuals.xlsx\"\n",
    "hp_json = \"../hp.json\"\n",
    "created_by = \"0000-0002-0736-9199\""
   ]
  },
  {
   "cell_type": "code",
   "execution_count": 5,
   "id": "3c1f9b11-e7af-4a31-9272-3a4e98a18454",
   "metadata": {},
   "outputs": [
    {
     "name": "stdout",
     "output_type": "stream",
     "text": [
      "HPO version 2024-04-04\n",
      "Created encoders for 57 fields\n",
      "Importing OMIM:609053, Fanconi anemia, complementation group I, HGNC:25568, FANCI,  NM_001113378.2\n",
      "We output 4 GA4GH phenopackets to the directory phenopackets\n"
     ]
    }
   ],
   "source": [
    "timporter = TemplateImporter(template=template, hp_json=hp_json, created_by=created_by)\n",
    "individual_list, cvalidator = timporter.import_phenopackets_from_template()"
   ]
  },
  {
   "cell_type": "code",
   "execution_count": 6,
   "id": "7ffe72e1-c0ca-49bf-8df3-5e04c1bd73f7",
   "metadata": {},
   "outputs": [
    {
     "data": {
      "text/html": [
       "<h2>Cohort validation</h2>\n",
       "<p>Errors found with 2 of 4 phenopackets.</p>\n",
       "<table style=\"border: 2px solid black; align: \"left\">\n",
       "<caption>Error counts</caption>\n",
       "<tr><th style=\"text-align: left;font-weight: bold;\">Level</th><th style=\"text-align: left;font-weight: bold;\">Error category</th><th style=\"text-align: left;font-weight: bold;\">Count</th></tr>\n",
       "<tr><td style=\"text-align: left;\">ERROR</td><td style=\"text-align: left;\">CONFLICT</td><td style=\"text-align: left;\">1</td></tr>\n",
       "<tr><td style=\"text-align: left;\">WARNING</td><td style=\"text-align: left;\">REDUNDANT</td><td style=\"text-align: left;\">1</td></tr>\n",
       "</table>\n",
       "<p>A total of 2 issues were fixed and no individual was removed from the cohort.</p>"
      ],
      "text/plain": [
       "<IPython.core.display.HTML object>"
      ]
     },
     "metadata": {},
     "output_type": "display_data"
    }
   ],
   "source": [
    "qc = QcVisualizer(cohort_validator=cvalidator)\n",
    "display(HTML(qc.to_summary_html()))"
   ]
  },
  {
   "cell_type": "code",
   "execution_count": 7,
   "id": "5bbe9d33-8e59-48f9-96e2-9bf901ee5bf5",
   "metadata": {},
   "outputs": [
    {
     "data": {
      "text/html": [
       "<table style=\"border: 2px solid black; align: \"left\">\n",
       "<caption>4 phenopackets - PMID:26590883 (n=3); PMID:17460694 (n=1)</caption>\n",
       "<tr><th style=\"text-align: left;font-weight: bold;\">Individual</th><th style=\"text-align: left;font-weight: bold;\">Disease</th><th style=\"text-align: left;font-weight: bold;\">Genotype</th><th style=\"text-align: left;font-weight: bold;\">Phenotypic features</th></tr>\n",
       "<tr><td style=\"text-align: left;\">Patient NCI‐82‐1 (FEMALE; P9Y5M)</td><td style=\"text-align: left;\">Fanconi anemia, complementation group I (OMIM:609053)</td><td style=\"text-align: left;\"><ul> <li>NM_001113378.2:c.3801_3804del (heterozygous)</li> <li>NM_001113378.2:c.3901dup (heterozygous)</li> </ul></td><td style=\"text-align: left;\"><b>P5Y9M</b>: Thrombocytopenia (HP:0001873)<br/>Chromosomal breakage induced by crosslinking agents (HP:0003221); Reduced circulating growth hormone concentration (HP:0034323); Hypothyroidism (HP:0000821); Decreased body weight (HP:0004325); Short stature (HP:0004322); Microcephaly (HP:0000252); Triangular face (HP:0000325); Ventricular septal defect (HP:0001629); Atrial septal defect (HP:0001631); Hearing impairment (HP:0000365); Atresia of the external auditory canal (HP:0000413); Absent septum pellucidum (HP:0001331); Optic nerve hypoplasia (HP:0000609); Absent thumb (HP:0009777); Fused cervical vertebrae (HP:0002949); Optic disc pallor (HP:0000543); Cafe-au-lait spot (HP:0000957); Duodenal atresia (HP:0002247); Renal hypoplasia (HP:0000089); Neutropenia (HP:0001875); Bone marrow hypocellularity (HP:0005528); excluded: Intrauterine growth retardation (HP:0001511); excluded: Patent foramen ovale (HP:0001655); excluded: Patent ductus arteriosus (HP:0001643); excluded: Agenesis of corpus callosum (HP:0001274); excluded: Colpocephaly (HP:0030048); excluded: Microphthalmia (HP:0000568); excluded: Short thumb (HP:0009778); excluded: Horseshoe kidney (HP:0000085); excluded: Vesicoureteral reflux (HP:0000076)</td></tr>\n",
       "<tr><td style=\"text-align: left;\">Patient NCI‐253‐1 (FEMALE; P3Y)</td><td style=\"text-align: left;\">Fanconi anemia, complementation group I (OMIM:609053)</td><td style=\"text-align: left;\"><ul> <li>NM_001113378.2:c.3041G>A (heterozygous)</li> <li>NM_001113378.2:c.1461T>A (heterozygous)</li> </ul></td><td style=\"text-align: left;\">Chromosomal breakage induced by crosslinking agents (HP:0003221); Hypothyroidism (HP:0000821); Intrauterine growth retardation (HP:0001511); Short stature (HP:0004322); Microcephaly (HP:0000252); Triangular face (HP:0000325); Patent foramen ovale (HP:0001655); Ventricular septal defect (HP:0001629); Agenesis of corpus callosum (HP:0001274); Colpocephaly (HP:0030048); Global developmental delay (HP:0001263); Astigmatism (HP:0000483); Myopia (HP:0000545); Absent thumb (HP:0009777); Fused cervical vertebrae (HP:0002949); Cafe-au-lait spot (HP:0000957); Horseshoe kidney (HP:0000085); Bone marrow hypocellularity (HP:0005528); excluded: Patent ductus arteriosus (HP:0001643); excluded: Microphthalmia (HP:0000568); excluded: Short thumb (HP:0009778); excluded: Optic disc pallor (HP:0000543); excluded: Duodenal atresia (HP:0002247); excluded: Renal hypoplasia (HP:0000089); excluded: Vesicoureteral reflux (HP:0000076); excluded: Neutropenia (HP:0001875); excluded: Thrombocytopenia (HP:0001873)</td></tr>\n",
       "<tr><td style=\"text-align: left;\">Patient  NCI‐309‐1 (FEMALE; P6Y)</td><td style=\"text-align: left;\">Fanconi anemia, complementation group I (OMIM:609053)</td><td style=\"text-align: left;\"><ul> <li>NM_001113378.2:c.1039T>C (heterozygous)</li> <li>NM_001113378.2:c.1202del (heterozygous)</li> </ul></td><td style=\"text-align: left;\">Chromosomal breakage induced by crosslinking agents (HP:0003221); Hypothyroidism (HP:0000821); Microcephaly (HP:0000252); Short neck (HP:0000470); Triangular face (HP:0000325); Ventricular septal defect (HP:0001629); Atrial septal defect (HP:0001631); Patent ductus arteriosus (HP:0001643); Hearing impairment (HP:0000365); Chiari malformation (HP:0002308); Global developmental delay (HP:0001263); Astigmatism (HP:0000483); Myopia (HP:0000545); Microphthalmia (HP:0000568); Short 1st metacarpal (HP:0010034); Cafe-au-lait spot (HP:0000957); Vesicoureteral reflux (HP:0000076); Neutropenia (HP:0001875); Bone marrow hypocellularity (HP:0005528); Small pituitary gland (HP:0012506); excluded: Patent foramen ovale (HP:0001655); excluded: Colpocephaly (HP:0030048); excluded: Absent septum pellucidum (HP:0001331); excluded: Optic nerve hypoplasia (HP:0000609); excluded: Absent thumb (HP:0009777); excluded: Fused cervical vertebrae (HP:0002949); excluded: Optic disc pallor (HP:0000543); excluded: Duodenal atresia (HP:0002247); excluded: Horseshoe kidney (HP:0000085); excluded: Renal hypoplasia (HP:0000089); excluded: Thrombocytopenia (HP:0001873)</td></tr>\n",
       "<tr><td style=\"text-align: left;\">F010191 (UNKNOWN; P31Y)</td><td style=\"text-align: left;\">Fanconi anemia, complementation group I (OMIM:609053)</td><td style=\"text-align: left;\"><ul> <li>NM_001113378.2:c.1840C>T (heterozygous)</li> <li>NM_001113378.2:c.3895C>T (heterozygous)</li> </ul></td><td style=\"text-align: left;\">Short stature (HP:0004322); Hearing impairment (HP:0000365); Absent thumb (HP:0009777); Absent radius (HP:0003974); Anemia (HP:0001903); excluded: Short thumb (HP:0009778)</td></tr>\n",
       "</table>"
      ],
      "text/plain": [
       "<IPython.core.display.HTML object>"
      ]
     },
     "metadata": {},
     "output_type": "display_data"
    }
   ],
   "source": [
    "table = IndividualTable(cvalidator.get_error_free_individual_list())\n",
    "display(HTML(table.to_html()))"
   ]
  },
  {
   "cell_type": "code",
   "execution_count": 9,
   "id": "24fde262-4bcb-4c14-99eb-0395c2af9b47",
   "metadata": {},
   "outputs": [
    {
     "name": "stdout",
     "output_type": "stream",
     "text": [
      "[pyphetools] Ingested 4 GA4GH phenopackets.\n",
      "\tFanconi anemia, complementation group I (OMIM:609053): n=4\n",
      "We found a total of 40 unique HPO terms\n",
      "Extracted disease: Fanconi anemia, complementation group I (OMIM:609053)\n",
      "Wrote HPOA disease file to OMIM-609053.tab\n"
     ]
    }
   ],
   "source": [
    "df = pmid = \"PMID:26590883\"\n",
    "df = timporter.create_hpoa_from_phenopackets(pmid=pmid, moi=\"Autosomal recessive\")"
   ]
  },
  {
   "cell_type": "code",
   "execution_count": null,
   "id": "dc7503a6-8d34-4f3b-9438-03e893e7d3a5",
   "metadata": {},
   "outputs": [],
   "source": []
  }
 ],
 "metadata": {
  "kernelspec": {
   "display_name": "ps24venv",
   "language": "python",
   "name": "ps24venv"
  },
  "language_info": {
   "codemirror_mode": {
    "name": "ipython",
    "version": 3
   },
   "file_extension": ".py",
   "mimetype": "text/x-python",
   "name": "python",
   "nbconvert_exporter": "python",
   "pygments_lexer": "ipython3",
   "version": "3.9.6"
  }
 },
 "nbformat": 4,
 "nbformat_minor": 5
}
