{
 "cells": [
  {
   "cell_type": "markdown",
   "metadata": {},
   "source": [
    "# ERCC8\n",
    "[Cockayne syndrome A (CSA)](https://omim.org/entry/216400) is caused by homozygous or compound heterozygous mutation in the gene encoding the group 8 excision repair cross-complementing protein (ERCC8)."
   ]
  },
  {
   "cell_type": "code",
   "execution_count": 3,
   "metadata": {},
   "outputs": [
    {
     "name": "stdout",
     "output_type": "stream",
     "text": [
      "Using pyphetools version 0.9.86\n"
     ]
    }
   ],
   "source": [
    "from pyphetools.creation import TemplateImporter\n",
    "from pyphetools.visualization import IndividualTable, QcVisualizer\n",
    "from IPython.display import display, HTML\n",
    "import pyphetools\n",
    "print(f\"Using pyphetools version {pyphetools.__version__}\")"
   ]
  },
  {
   "cell_type": "code",
   "execution_count": 5,
   "metadata": {},
   "outputs": [],
   "source": [
    "template = \"input/ERCC8_CSA_individuals.xlsx\"\n",
    "created_by = \"0000-0002-0736-9199\""
   ]
  },
  {
   "cell_type": "code",
   "execution_count": 9,
   "metadata": {},
   "outputs": [
    {
     "name": "stdout",
     "output_type": "stream",
     "text": [
      "HPO version 2024-04-26\n",
      "Created encoders for 82 fields\n",
      "Importing OMIM:216400, Cockayne syndrome, type A, HGNC:3439, ERCC8,  NM_000082.4\n",
      "[INFO] encoding variant \"c.618-1G>A\"\n",
      "https://rest.variantvalidator.org/VariantValidator/variantvalidator/hg38/NM_000082.4%3Ac.618-1G>A/NM_000082.4?content-type=application%2Fjson\n",
      "We output 10 GA4GH phenopackets to the directory phenopackets\n"
     ]
    }
   ],
   "source": [
    "timporter = TemplateImporter(template=template,  created_by=created_by)\n",
    "individual_list, cvalidator = timporter.import_phenopackets_from_template()"
   ]
  },
  {
   "cell_type": "code",
   "execution_count": 10,
   "metadata": {},
   "outputs": [
    {
     "data": {
      "text/html": [
       "<h2>Cohort validation</h2>\n",
       "<p>No errors found for the cohort with 10 individuals</p>"
      ],
      "text/plain": [
       "<IPython.core.display.HTML object>"
      ]
     },
     "metadata": {},
     "output_type": "display_data"
    }
   ],
   "source": [
    "qc = QcVisualizer(cohort_validator=cvalidator)\n",
    "display(HTML(qc.to_summary_html()))"
   ]
  },
  {
   "cell_type": "code",
   "execution_count": 11,
   "metadata": {},
   "outputs": [
    {
     "data": {
      "text/html": [
       "<table style=\"border: 2px solid black; align: \"left\">\n",
       "<caption>10 phenopackets - PMID:16865293 (n=8); PMID:30200888 (n=2)</caption>\n",
       "<tr><th style=\"text-align: left;font-weight: bold;\">Individual</th><th style=\"text-align: left;font-weight: bold;\">Disease</th><th style=\"text-align: left;font-weight: bold;\">Genotype</th><th style=\"text-align: left;font-weight: bold;\">Phenotypic features</th></tr>\n",
       "<tr><td style=\"text-align: left;\">Family 1 individual 3Y8M (MALE; P3Y8M)</td><td style=\"text-align: left;\">Cockayne syndrome, type A (OMIM:216400)</td><td style=\"text-align: left;\">NM_000082.4:c.311_312del (homozygous)</td><td style=\"text-align: left;\">Failure to thrive (HP:0001508); Microcephaly (HP:0000252); Deeply set eye (HP:0000490); Prominent nose (HP:0000448); Carious teeth (HP:0000670); Cerebral atrophy (HP:0002059); Ventriculomegaly (HP:0002119); Retinal pigment epithelial mottling (HP:0007814); Severe short stature (HP:0003510); Global developmental delay (HP:0001263); Sensorineural hearing impairment (HP:0000407); Joint contracture (HP:0034392); excluded: Cerebellar atrophy (HP:0001272); excluded: Basal ganglia calcification (HP:0002135); excluded: Cutaneous photosensitivity (HP:0000992)</td></tr>\n",
       "<tr><td style=\"text-align: left;\">Family 2 individual 9Y11M (MALE; P9Y11M)</td><td style=\"text-align: left;\">Cockayne syndrome, type A (OMIM:216400)</td><td style=\"text-align: left;\">NM_000082.4:c.311_312del (homozygous)</td><td style=\"text-align: left;\">Failure to thrive (HP:0001508); Microcephaly (HP:0000252); Deeply set eye (HP:0000490); Prominent nose (HP:0000448); Carious teeth (HP:0000670); Cerebral atrophy (HP:0002059); Cerebellar atrophy (HP:0001272); Ventriculomegaly (HP:0002119); Basal ganglia calcification (HP:0002135); Retinal pigment epithelial mottling (HP:0007814); Severe short stature (HP:0003510); Cutaneous photosensitivity (HP:0000992); Global developmental delay (HP:0001263); Sensorineural hearing impairment (HP:0000407); Joint contracture (HP:0034392)</td></tr>\n",
       "<tr><td style=\"text-align: left;\">Family 3 individual 12Y (MALE; P12Y)</td><td style=\"text-align: left;\">Cockayne syndrome, type A (OMIM:216400)</td><td style=\"text-align: left;\">NM_000082.4:c.797A>G (homozygous)</td><td style=\"text-align: left;\">Failure to thrive (HP:0001508); Microcephaly (HP:0000252); Deeply set eye (HP:0000490); Prominent nose (HP:0000448); Cerebellar atrophy (HP:0001272); Ventriculomegaly (HP:0002119); Basal ganglia calcification (HP:0002135); Retinal pigment epithelial mottling (HP:0007814); Severe short stature (HP:0003510); Cutaneous photosensitivity (HP:0000992); Sensorineural hearing impairment (HP:0000407); Joint contracture (HP:0034392); excluded: Carious teeth (HP:0000670); excluded: Cerebral atrophy (HP:0002059)</td></tr>\n",
       "<tr><td style=\"text-align: left;\">Family 3 individual 10Y4M (FEMALE; P10Y4M)</td><td style=\"text-align: left;\">Cockayne syndrome, type A (OMIM:216400)</td><td style=\"text-align: left;\">NM_000082.4:c.797A>G (homozygous)</td><td style=\"text-align: left;\">Failure to thrive (HP:0001508); Microcephaly (HP:0000252); Deeply set eye (HP:0000490); Prominent nose (HP:0000448); Carious teeth (HP:0000670); Cerebellar atrophy (HP:0001272); Ventriculomegaly (HP:0002119); Retinal pigment epithelial mottling (HP:0007814); Severe short stature (HP:0003510); Cutaneous photosensitivity (HP:0000992); Global developmental delay (HP:0001263); Joint contracture (HP:0034392); excluded: Cerebral atrophy (HP:0002059); excluded: Basal ganglia calcification (HP:0002135)</td></tr>\n",
       "<tr><td style=\"text-align: left;\">Family 4 individual 8Y1M (FEMALE; P8Y1M)</td><td style=\"text-align: left;\">Cockayne syndrome, type A (OMIM:216400)</td><td style=\"text-align: left;\"><ul> <li>NM_000082.4:c.311_312del (heterozygous)</li> <li>NM_000082.4:c.611C>A (heterozygous)</li> </ul></td><td style=\"text-align: left;\">Failure to thrive (HP:0001508); Microcephaly (HP:0000252); Deeply set eye (HP:0000490); Prominent nose (HP:0000448); Carious teeth (HP:0000670); Cerebral atrophy (HP:0002059); Retinal pigment epithelial mottling (HP:0007814); Severe short stature (HP:0003510); Cutaneous photosensitivity (HP:0000992); Joint contracture (HP:0034392); excluded: Cerebellar atrophy (HP:0001272); excluded: Ventriculomegaly (HP:0002119); excluded: Basal ganglia calcification (HP:0002135)</td></tr>\n",
       "<tr><td style=\"text-align: left;\">Family 4 individual 7Y1M (FEMALE; P7Y1M)</td><td style=\"text-align: left;\">Cockayne syndrome, type A (OMIM:216400)</td><td style=\"text-align: left;\"><ul> <li>NM_000082.4:c.311_312del (heterozygous)</li> <li>NM_000082.4:c.611C>A (heterozygous)</li> </ul></td><td style=\"text-align: left;\">Failure to thrive (HP:0001508); Microcephaly (HP:0000252); Deeply set eye (HP:0000490); Prominent nose (HP:0000448); Carious teeth (HP:0000670); Cerebral atrophy (HP:0002059); Retinal pigment epithelial mottling (HP:0007814); Severe short stature (HP:0003510); Cutaneous photosensitivity (HP:0000992); Sensorineural hearing impairment (HP:0000407); Joint contracture (HP:0034392); excluded: Cerebellar atrophy (HP:0001272); excluded: Ventriculomegaly (HP:0002119); excluded: Basal ganglia calcification (HP:0002135)</td></tr>\n",
       "<tr><td style=\"text-align: left;\">Family 5 individual 10Y11M (FEMALE; P10Y11M)</td><td style=\"text-align: left;\">Cockayne syndrome, type A (OMIM:216400)</td><td style=\"text-align: left;\">NM_000082.4:c.399+1G>A (homozygous)</td><td style=\"text-align: left;\">Failure to thrive (HP:0001508); Microcephaly (HP:0000252); Deeply set eye (HP:0000490); Prominent nose (HP:0000448); Carious teeth (HP:0000670); Cerebral atrophy (HP:0002059); Cerebellar atrophy (HP:0001272); Ventriculomegaly (HP:0002119); Basal ganglia calcification (HP:0002135); Retinal pigment epithelial mottling (HP:0007814); Severe short stature (HP:0003510); Cutaneous photosensitivity (HP:0000992); Global developmental delay (HP:0001263); Sensorineural hearing impairment (HP:0000407); Joint contracture (HP:0034392)</td></tr>\n",
       "<tr><td style=\"text-align: left;\">Family 6 individual 5Y5M (MALE; P5Y5M)</td><td style=\"text-align: left;\">Cockayne syndrome, type A (OMIM:216400)</td><td style=\"text-align: left;\">NM_000082.4:c.618-1G>A (homozygous)</td><td style=\"text-align: left;\">Failure to thrive (HP:0001508); Microcephaly (HP:0000252); Deeply set eye (HP:0000490); Prominent nose (HP:0000448); Cerebral atrophy (HP:0002059); Cerebellar atrophy (HP:0001272); Ventriculomegaly (HP:0002119); Severe short stature (HP:0003510); Cutaneous photosensitivity (HP:0000992); Global developmental delay (HP:0001263); Sensorineural hearing impairment (HP:0000407); Joint contracture (HP:0034392); excluded: Carious teeth (HP:0000670); excluded: Basal ganglia calcification (HP:0002135); excluded: Retinal pigment epithelial mottling (HP:0007814)</td></tr>\n",
       "<tr><td style=\"text-align: left;\">Patient A III.4 (MALE; P17Y)</td><td style=\"text-align: left;\">Cockayne syndrome, type A (OMIM:216400)</td><td style=\"text-align: left;\">NM_000082.4:c.966C>A (homozygous)</td><td style=\"text-align: left;\"><b>P3M</b>: Hypotonia (HP:0001252)<br/>Microcephaly (HP:0000252); Deeply set eye (HP:0000490); Prominent nose (HP:0000448); Carious teeth (HP:0000670); Severe short stature (HP:0003510); Postnatal growth retardation (HP:0008897); Cutaneous photosensitivity (HP:0000992); Sensorineural hearing impairment (HP:0000407)</td></tr>\n",
       "<tr><td style=\"text-align: left;\">Patient C VI.2 (FEMALE; P3Y)</td><td style=\"text-align: left;\">Cockayne syndrome, type A (OMIM:216400)</td><td style=\"text-align: left;\">NM_000082.4:c.843+1G>C (homozygous)</td><td style=\"text-align: left;\"><b>P2Y6M</b>: Cataract (HP:0000518)<br/><b>P3Y</b>: Sensorineural hearing impairment (HP:0000407)<br/>Microcephaly (HP:0000252); Deeply set eye (HP:0000490); Prominent nose (HP:0000448)</td></tr>\n",
       "</table>"
      ],
      "text/plain": [
       "<IPython.core.display.HTML object>"
      ]
     },
     "metadata": {},
     "output_type": "display_data"
    }
   ],
   "source": [
    "table = IndividualTable(cvalidator.get_error_free_individual_list())\n",
    "display(HTML(table.to_html()))"
   ]
  },
  {
   "cell_type": "code",
   "execution_count": 12,
   "metadata": {},
   "outputs": [
    {
     "name": "stdout",
     "output_type": "stream",
     "text": [
      "[pyphetools] Ingested 10 GA4GH phenopackets.\n",
      "[INFO] Extracted 10 from 10 phenopackets with OMIM:216400\n",
      "\n",
      "\tCockayne syndrome, type A (OMIM:216400): n=10\n",
      "We found a total of 18 unique HPO terms\n",
      "Extracted disease: Cockayne syndrome, type A (OMIM:216400)\n",
      "Wrote HPOA disease file to OMIM-216400.tab\n"
     ]
    }
   ],
   "source": [
    "pmid = \"PMID:16865293\"\n",
    "df = timporter.create_hpoa_from_phenopackets(pmid=pmid, moi=\"Autosomal recessive\", target=\"OMIM:216400\")"
   ]
  }
 ],
 "metadata": {
  "kernelspec": {
   "display_name": "ps24venv",
   "language": "python",
   "name": "python3"
  },
  "language_info": {
   "codemirror_mode": {
    "name": "ipython",
    "version": 3
   },
   "file_extension": ".py",
   "mimetype": "text/x-python",
   "name": "python",
   "nbconvert_exporter": "python",
   "pygments_lexer": "ipython3",
   "version": "3.9.6"
  }
 },
 "nbformat": 4,
 "nbformat_minor": 2
}
