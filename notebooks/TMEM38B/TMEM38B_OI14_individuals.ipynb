{
 "cells": [
  {
   "cell_type": "markdown",
   "metadata": {},
   "source": [
    "# TMEM38B\n",
    "[osteogenesis imperfecta type XIV (OI14)](https://omim.org/entry/615066) can be caused by homozygous mutation in the TMEM38B gene."
   ]
  },
  {
   "cell_type": "code",
   "execution_count": 6,
   "metadata": {},
   "outputs": [
    {
     "name": "stdout",
     "output_type": "stream",
     "text": [
      "Using pyphetools version 0.9.78\n"
     ]
    }
   ],
   "source": [
    "from pyphetools.creation import TemplateImporter\n",
    "from pyphetools.visualization import IndividualTable, QcVisualizer\n",
    "from IPython.display import display, HTML\n",
    "import pyphetools\n",
    "print(f\"Using pyphetools version {pyphetools.__version__}\")"
   ]
  },
  {
   "cell_type": "code",
   "execution_count": 8,
   "metadata": {},
   "outputs": [],
   "source": [
    "template = \"input/TMEM38B_OI14_individuals.xlsx\"\n",
    "hp_json = \"../hp.json\"\n",
    "created_by = \"0000-0002-0736-9199\""
   ]
  },
  {
   "cell_type": "code",
   "execution_count": 11,
   "metadata": {},
   "outputs": [
    {
     "name": "stdout",
     "output_type": "stream",
     "text": [
      "HPO version 2024-04-04\n",
      "Created encoders for 35 fields\n",
      "Importing OMIM:615066, Osteogenesis imperfecta, type XIV, HGNC:25535, TMEM38B,  NM_018112.3\n",
      "[INFO] encoding variant \"c.455-7T>G\"\n",
      "https://rest.variantvalidator.org/VariantValidator/variantvalidator/hg38/NM_018112.3%3Ac.455-7T>G/NM_018112.3?content-type=application%2Fjson\n",
      "We output 3 GA4GH phenopackets to the directory phenopackets\n"
     ]
    }
   ],
   "source": [
    "timporter = TemplateImporter(template=template, hp_json=hp_json, created_by=created_by)\n",
    "individual_list, cvalidator = timporter.import_phenopackets_from_template()"
   ]
  },
  {
   "cell_type": "code",
   "execution_count": 12,
   "metadata": {},
   "outputs": [
    {
     "data": {
      "text/html": [
       "<h2>Cohort validation</h2>\n",
       "<p>No errors found for the cohort with 3 individuals</p>"
      ],
      "text/plain": [
       "<IPython.core.display.HTML object>"
      ]
     },
     "metadata": {},
     "output_type": "display_data"
    }
   ],
   "source": [
    "qc = QcVisualizer(cohort_validator=cvalidator)\n",
    "display(HTML(qc.to_summary_html()))"
   ]
  },
  {
   "cell_type": "code",
   "execution_count": 13,
   "metadata": {},
   "outputs": [
    {
     "data": {
      "text/html": [
       "<table style=\"border: 2px solid black; align: \"left\">\n",
       "<caption>3 phenopackets - PMID:26911354 (n=3)</caption>\n",
       "<tr><th style=\"text-align: left;font-weight: bold;\">Individual</th><th style=\"text-align: left;font-weight: bold;\">Disease</th><th style=\"text-align: left;font-weight: bold;\">Genotype</th><th style=\"text-align: left;font-weight: bold;\">Phenotypic features</th></tr>\n",
       "<tr><td style=\"text-align: left;\">Family 1 Patient 1 (FEMALE; P4Y6M)</td><td style=\"text-align: left;\">Osteogenesis imperfecta, type XIV (OMIM:615066)</td><td style=\"text-align: left;\">NM_018112.3:c.455-7T>G (homozygous)</td><td style=\"text-align: left;\">Scoliosis (HP:0002650); Recurrent fractures (HP:0002757); Femoral bowing (HP:0002980); Osteoporosis (HP:0000939); Blue sclerae (HP:0000592); Thin bony cortex (HP:0002753); Slender long bone (HP:0003100); Increased circulating beta-C-terminal telopeptide concentration (HP:0031425); excluded: Short stature (HP:0004322); excluded: Wormian bones (HP:0002645); excluded: Dentinogenesis imperfecta (HP:0000703); excluded: Hearing impairment (HP:0000365); excluded: Elevated circulating alkaline phosphatase concentration (HP:0003155); excluded: Abnormal circulating calcium concentration (HP:0004363)</td></tr>\n",
       "<tr><td style=\"text-align: left;\">Family 2 Patient 2 (MALE; P8Y)</td><td style=\"text-align: left;\">Osteogenesis imperfecta, type XIV (OMIM:615066)</td><td style=\"text-align: left;\">NM_018112.3:c.507G>A (homozygous)</td><td style=\"text-align: left;\">Osteoporosis (HP:0000939); Thin bony cortex (HP:0002753); Slender long bone (HP:0003100); Increased circulating beta-C-terminal telopeptide concentration (HP:0031425); Elevated circulating alkaline phosphatase concentration (HP:0003155); excluded: Short stature (HP:0004322); excluded: Scoliosis (HP:0002650); excluded: Blue sclerae (HP:0000592); excluded: Wormian bones (HP:0002645); excluded: Dentinogenesis imperfecta (HP:0000703); excluded: Hearing impairment (HP:0000365); excluded: Abnormal circulating calcium concentration (HP:0004363)</td></tr>\n",
       "<tr><td style=\"text-align: left;\">Family 2 Patient 3 (MALE; P7Y)</td><td style=\"text-align: left;\">Osteogenesis imperfecta, type XIV (OMIM:615066)</td><td style=\"text-align: left;\">NM_018112.3:c.507G>A (homozygous)</td><td style=\"text-align: left;\">Short stature (HP:0004322); Osteoporosis (HP:0000939); Thin bony cortex (HP:0002753); Slender long bone (HP:0003100); Increased circulating beta-C-terminal telopeptide concentration (HP:0031425); excluded: Scoliosis (HP:0002650); excluded: Blue sclerae (HP:0000592); excluded: Wormian bones (HP:0002645); excluded: Elevated circulating alkaline phosphatase concentration (HP:0003155); excluded: Abnormal circulating calcium concentration (HP:0004363)</td></tr>\n",
       "</table>"
      ],
      "text/plain": [
       "<IPython.core.display.HTML object>"
      ]
     },
     "metadata": {},
     "output_type": "display_data"
    }
   ],
   "source": [
    "table = IndividualTable(cvalidator.get_error_free_individual_list())\n",
    "display(HTML(table.to_html()))"
   ]
  },
  {
   "cell_type": "code",
   "execution_count": 14,
   "metadata": {},
   "outputs": [
    {
     "name": "stdout",
     "output_type": "stream",
     "text": [
      "[pyphetools] Ingested 3 GA4GH phenopackets.\n",
      "\tOsteogenesis imperfecta, type XIV (OMIM:615066): n=3\n",
      "We found a total of 14 unique HPO terms\n",
      "Extracted disease: Osteogenesis imperfecta, type XIV (OMIM:615066)\n",
      "Wrote HPOA disease file to OMIM-615066.tab\n"
     ]
    }
   ],
   "source": [
    "pmid = \"PMID:26911354\"\n",
    "df = timporter.create_hpoa_from_phenopackets(pmid=pmid, moi=\"Autosomal recessive\")"
   ]
  }
 ],
 "metadata": {
  "kernelspec": {
   "display_name": "ps24venv",
   "language": "python",
   "name": "python3"
  },
  "language_info": {
   "codemirror_mode": {
    "name": "ipython",
    "version": 3
   },
   "file_extension": ".py",
   "mimetype": "text/x-python",
   "name": "python",
   "nbconvert_exporter": "python",
   "pygments_lexer": "ipython3",
   "version": "3.9.6"
  }
 },
 "nbformat": 4,
 "nbformat_minor": 2
}
