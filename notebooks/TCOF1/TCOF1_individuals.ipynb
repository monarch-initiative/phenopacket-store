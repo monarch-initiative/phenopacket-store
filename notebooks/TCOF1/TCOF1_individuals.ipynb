{
 "cells": [
  {
   "cell_type": "markdown",
   "metadata": {},
   "source": [
    "# TCOF1\n",
    "[Treacher Collins syndrome-1 (TCS1)](https://omim.org/entry/154500) is caused by heterozygous mutation in the 'treacle' gene (TCOF1)."
   ]
  },
  {
   "cell_type": "code",
   "execution_count": 4,
   "metadata": {},
   "outputs": [
    {
     "name": "stdout",
     "output_type": "stream",
     "text": [
      "Using pyphetools version 0.9.84\n"
     ]
    }
   ],
   "source": [
    "from pyphetools.creation import TemplateImporter\n",
    "from pyphetools.visualization import IndividualTable, QcVisualizer\n",
    "from IPython.display import display, HTML\n",
    "import pyphetools\n",
    "print(f\"Using pyphetools version {pyphetools.__version__}\")"
   ]
  },
  {
   "cell_type": "code",
   "execution_count": 6,
   "metadata": {},
   "outputs": [],
   "source": [
    "template = \"input/TCOF1_TCS1_individuals.xlsx\"\n",
    "created_by = \"0000-0002-0736-9199\""
   ]
  },
  {
   "cell_type": "code",
   "execution_count": 9,
   "metadata": {},
   "outputs": [
    {
     "name": "stdout",
     "output_type": "stream",
     "text": [
      "HPO version 2024-04-26\n",
      "Created encoders for 34 fields\n",
      "Importing OMIM:154500, Treacher Collins syndrome 1, HGNC:11654, TCOF1,  NM_001371623.1\n",
      "[INFO] encoding variant \"c.2962C>T\"\n",
      "https://rest.variantvalidator.org/VariantValidator/variantvalidator/hg38/NM_001371623.1%3Ac.2962C>T/NM_001371623.1?content-type=application%2Fjson\n",
      "[INFO] encoding variant \"c.3107dup\"\n",
      "https://rest.variantvalidator.org/VariantValidator/variantvalidator/hg38/NM_001371623.1%3Ac.3107dup/NM_001371623.1?content-type=application%2Fjson\n",
      "[INFO] encoding variant \"c.1637_1640del\"\n",
      "https://rest.variantvalidator.org/VariantValidator/variantvalidator/hg38/NM_001371623.1%3Ac.1637_1640del/NM_001371623.1?content-type=application%2Fjson\n",
      "We output 4 GA4GH phenopackets to the directory phenopackets\n"
     ]
    }
   ],
   "source": [
    "timporter = TemplateImporter(template=template,  created_by=created_by)\n",
    "individual_list, cvalidator = timporter.import_phenopackets_from_template()"
   ]
  },
  {
   "cell_type": "code",
   "execution_count": 10,
   "metadata": {},
   "outputs": [
    {
     "data": {
      "text/html": [
       "<h2>Cohort validation</h2>\n",
       "<p>No errors found for the cohort with 4 individuals</p>"
      ],
      "text/plain": [
       "<IPython.core.display.HTML object>"
      ]
     },
     "metadata": {},
     "output_type": "display_data"
    }
   ],
   "source": [
    "qc = QcVisualizer(cohort_validator=cvalidator)\n",
    "display(HTML(qc.to_summary_html()))"
   ]
  },
  {
   "cell_type": "code",
   "execution_count": 11,
   "metadata": {},
   "outputs": [
    {
     "data": {
      "text/html": [
       "<table style=\"border: 2px solid black; align: \"left\">\n",
       "<caption>4 phenopackets - PMID:15214011 (n=1); PMID:24108658 (n=3)</caption>\n",
       "<tr><th style=\"text-align: left;font-weight: bold;\">Individual</th><th style=\"text-align: left;font-weight: bold;\">Disease</th><th style=\"text-align: left;font-weight: bold;\">Genotype</th><th style=\"text-align: left;font-weight: bold;\">Phenotypic features</th></tr>\n",
       "<tr><td style=\"text-align: left;\">5 year-old girl (FEMALE; P5Y)</td><td style=\"text-align: left;\">Treacher Collins syndrome 1 (OMIM:154500)</td><td style=\"text-align: left;\">NM_001371623.1:c.2962C>T (heterozygous)</td><td style=\"text-align: left;\"><b>P2Y</b>: Coronal craniosynostosis (HP:0004440); Squamosal suture synostosis (HP:6000612); Lambdoidal craniosynostosis (HP:0004443); Hydrocephalus (HP:0000238)<br/>Micrognathia (HP:0000347); Downslanted palpebral fissures (HP:0000494); Lower eyelid coloboma (HP:0000652); Cleft palate (HP:0000175); Malar flattening (HP:0000272); Abnormal pinna morphology (HP:0000377); Choanal atresia (HP:0000453); Atresia of the external auditory canal (HP:0000413)</td></tr>\n",
       "<tr><td style=\"text-align: left;\">Family 1 Patient 1 (FEMALE; P28Y)</td><td style=\"text-align: left;\">Treacher Collins syndrome 1 (OMIM:154500)</td><td style=\"text-align: left;\">NM_001371623.1:c.1637_1640del (heterozygous)</td><td style=\"text-align: left;\">Micrognathia (HP:0000347); Downslanted palpebral fissures (HP:0000494); Lower eyelid coloboma (HP:0000652); Absent eyelashes (HP:0000561); Malar flattening (HP:0000272); Abnormal pinna morphology (HP:0000377); Atresia of the external auditory canal (HP:0000413); excluded: Cleft palate (HP:0000175); excluded: Conductive hearing impairment (HP:0000405); excluded: Choanal atresia (HP:0000453); excluded: Coronal craniosynostosis (HP:0004440); excluded: Squamosal suture synostosis (HP:6000612); excluded: Lambdoidal craniosynostosis (HP:0004443); excluded: Hydrocephalus (HP:0000238); excluded: Preauricular hair displacement (HP:0009554)</td></tr>\n",
       "<tr><td style=\"text-align: left;\">Family 1 Patient 2 (FEMALE; P26Y)</td><td style=\"text-align: left;\">Treacher Collins syndrome 1 (OMIM:154500)</td><td style=\"text-align: left;\">NM_001371623.1:c.1637_1640del (heterozygous)</td><td style=\"text-align: left;\">Downslanted palpebral fissures (HP:0000494); Lower eyelid coloboma (HP:0000652); Cleft palate (HP:0000175); Absent eyelashes (HP:0000561); Malar flattening (HP:0000272); Abnormal pinna morphology (HP:0000377); Conductive hearing impairment (HP:0000405); Atresia of the external auditory canal (HP:0000413); Preauricular hair displacement (HP:0009554); excluded: Micrognathia (HP:0000347); excluded: Choanal atresia (HP:0000453); excluded: Coronal craniosynostosis (HP:0004440); excluded: Squamosal suture synostosis (HP:6000612); excluded: Lambdoidal craniosynostosis (HP:0004443); excluded: Hydrocephalus (HP:0000238)</td></tr>\n",
       "<tr><td style=\"text-align: left;\">Family 2 Patient 3 (FEMALE; P17Y)</td><td style=\"text-align: left;\">Treacher Collins syndrome 1 (OMIM:154500)</td><td style=\"text-align: left;\">NM_001371623.1:c.3107dup (heterozygous)</td><td style=\"text-align: left;\">Micrognathia (HP:0000347); Downslanted palpebral fissures (HP:0000494); Lower eyelid coloboma (HP:0000652); Cleft palate (HP:0000175); Absent eyelashes (HP:0000561); Malar flattening (HP:0000272); Abnormal pinna morphology (HP:0000377); Conductive hearing impairment (HP:0000405); Atresia of the external auditory canal (HP:0000413); Preauricular hair displacement (HP:0009554); excluded: Choanal atresia (HP:0000453); excluded: Coronal craniosynostosis (HP:0004440); excluded: Squamosal suture synostosis (HP:6000612); excluded: Lambdoidal craniosynostosis (HP:0004443); excluded: Hydrocephalus (HP:0000238)</td></tr>\n",
       "</table>"
      ],
      "text/plain": [
       "<IPython.core.display.HTML object>"
      ]
     },
     "metadata": {},
     "output_type": "display_data"
    }
   ],
   "source": [
    "table = IndividualTable(cvalidator.get_error_free_individual_list())\n",
    "display(HTML(table.to_html()))"
   ]
  },
  {
   "cell_type": "code",
   "execution_count": 12,
   "metadata": {},
   "outputs": [
    {
     "name": "stdout",
     "output_type": "stream",
     "text": [
      "[pyphetools] Ingested 4 GA4GH phenopackets.\n",
      "\tTreacher Collins syndrome 1 (OMIM:154500): n=4\n",
      "We found a total of 15 unique HPO terms\n",
      "Extracted disease: Treacher Collins syndrome 1 (OMIM:154500)\n",
      "Wrote HPOA disease file to OMIM-154500.tab\n"
     ]
    }
   ],
   "source": [
    "pmid = \"PMID:15214011\"\n",
    "df = timporter.create_hpoa_from_phenopackets(pmid=pmid, moi=\"Autosomal dominant\")"
   ]
  }
 ],
 "metadata": {
  "kernelspec": {
   "display_name": "ps24venv",
   "language": "python",
   "name": "python3"
  },
  "language_info": {
   "codemirror_mode": {
    "name": "ipython",
    "version": 3
   },
   "file_extension": ".py",
   "mimetype": "text/x-python",
   "name": "python",
   "nbconvert_exporter": "python",
   "pygments_lexer": "ipython3",
   "version": "3.9.6"
  }
 },
 "nbformat": 4,
 "nbformat_minor": 2
}
