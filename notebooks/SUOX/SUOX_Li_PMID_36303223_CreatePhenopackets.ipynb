{
 "cells": [
  {
   "cell_type": "markdown",
   "id": "e3d05ea9-1192-42c3-a418-2e04f969f707",
   "metadata": {},
   "source": [
    "<H1>Sulfite Oxidase Deficiency SUOX</H1>\n",
    "<P>Data from <a href=\"https://pubmed.ncbi.nlm.nih.gov/36303223/\" target=\"__blank\">Li JT, et al. (2022) Mutation analysis of SUOX in isolated sulfite oxidase deficiency with ectopia lentis as the presenting feature: insights into genotype-phenotype correlation. Orphanet J Rare Dis.17(1):392. PMID:36303223</a>.</P>\n",
    "<P>We transferred information from Additional Files 5, 6, and 7 to two Excel files to parse the data.</P>"
   ]
  },
  {
   "cell_type": "code",
   "execution_count": 1,
   "id": "4bb11342-95e1-42e6-82a2-cb91d853461e",
   "metadata": {},
   "outputs": [
    {
     "name": "stdout",
     "output_type": "stream",
     "text": [
      "Using pyphetools version 0.9.70\n"
     ]
    }
   ],
   "source": [
    "import pandas as pd\n",
    "pd.set_option('display.max_colwidth', None) # show entire column contents, important!\n",
    "from IPython.display import display, HTML\n",
    "from pyphetools.creation import *\n",
    "from pyphetools.visualization import *\n",
    "from pyphetools.validation import *\n",
    "import pyphetools\n",
    "print(f\"Using pyphetools version {pyphetools.__version__}\")"
   ]
  },
  {
   "cell_type": "code",
   "execution_count": 2,
   "id": "ac59ce43-c3ba-4b45-a215-2cc651a9b6cf",
   "metadata": {},
   "outputs": [
    {
     "name": "stdout",
     "output_type": "stream",
     "text": [
      "HPO version 2024-03-06\n"
     ]
    }
   ],
   "source": [
    "PMID = \"PMID:36303223\"\n",
    "title = \"Mutation analysis of SUOX in isolated sulfite oxidase deficiency with ectopia lentis as the presenting feature: insights into genotype-phenotype correlation\"\n",
    "cite = Citation(pmid=PMID, title=title)\n",
    "parser = HpoParser(hpo_json_file=\"../hp.json\")\n",
    "hpo_cr = parser.get_hpo_concept_recognizer()\n",
    "hpo_version = parser.get_version()\n",
    "hpo_ontology = parser.get_ontology()\n",
    "metadata = MetaData(created_by=\"ORCID:0000-0003-2598-6622\", citation=cite)\n",
    "metadata.default_versions_with_hpo(version=hpo_version)\n",
    "print(f\"HPO version {hpo_version}\")"
   ]
  },
  {
   "cell_type": "code",
   "execution_count": 3,
   "id": "b26ef5b0-0284-44c2-842e-bb143d430ed4",
   "metadata": {},
   "outputs": [
    {
     "data": {
      "text/html": [
       "<div>\n",
       "<style scoped>\n",
       "    .dataframe tbody tr th:only-of-type {\n",
       "        vertical-align: middle;\n",
       "    }\n",
       "\n",
       "    .dataframe tbody tr th {\n",
       "        vertical-align: top;\n",
       "    }\n",
       "\n",
       "    .dataframe thead th {\n",
       "        text-align: right;\n",
       "    }\n",
       "</style>\n",
       "<table border=\"1\" class=\"dataframe\">\n",
       "  <thead>\n",
       "    <tr style=\"text-align: right;\">\n",
       "      <th></th>\n",
       "      <th>Proband ID</th>\n",
       "      <th>PMID</th>\n",
       "      <th>Ethnicity</th>\n",
       "      <th>Gender</th>\n",
       "      <th>Parental consanguity</th>\n",
       "      <th>Age at onset (months)</th>\n",
       "      <th>Variants</th>\n",
       "      <th>Amino acid</th>\n",
       "      <th>status</th>\n",
       "      <th>Typical type/Mild type</th>\n",
       "      <th>...</th>\n",
       "      <th>Thiosulfate NR: 0</th>\n",
       "      <th>Urine SSC (umol/mmolCr) NR: 0.1-10</th>\n",
       "      <th>Urine Taurine (mmol/molCr) NR: 12-150</th>\n",
       "      <th>Urine XA NR: 0-0.46mmol/L or &lt;40umol/mmolCr or &lt;0.29XA/Cr</th>\n",
       "      <th>Urine HypoXA NR: 0-0.18mmol/L or &lt;8umol/mmolCr or &lt;0.5HypoXA/Cr</th>\n",
       "      <th>Urine UA NR: 0.44-4.50mmol/L or 50-980umol/mmolCr</th>\n",
       "      <th>allele_1</th>\n",
       "      <th>allele_2</th>\n",
       "      <th>comment</th>\n",
       "      <th>individual_id</th>\n",
       "    </tr>\n",
       "  </thead>\n",
       "  <tbody>\n",
       "    <tr>\n",
       "      <th>0</th>\n",
       "      <td>1</td>\n",
       "      <td>9050047</td>\n",
       "      <td>EUR</td>\n",
       "      <td>M</td>\n",
       "      <td>No</td>\n",
       "      <td>0</td>\n",
       "      <td>c.(433delC); (433delC)</td>\n",
       "      <td>p.(Q145Sfs*16); (Q145Sfs*16)</td>\n",
       "      <td>Homo</td>\n",
       "      <td>T</td>\n",
       "      <td>...</td>\n",
       "      <td>n.a.</td>\n",
       "      <td>320umol/L</td>\n",
       "      <td>95</td>\n",
       "      <td>n.a.</td>\n",
       "      <td>n.a.</td>\n",
       "      <td>n.a.</td>\n",
       "      <td>c.433del</td>\n",
       "      <td>c.433del</td>\n",
       "      <td>c.433delC</td>\n",
       "      <td>individual_1_PMID_9050047</td>\n",
       "    </tr>\n",
       "    <tr>\n",
       "      <th>1</th>\n",
       "      <td>2</td>\n",
       "      <td>9600976</td>\n",
       "      <td>EUR</td>\n",
       "      <td>F</td>\n",
       "      <td>Yes</td>\n",
       "      <td>5</td>\n",
       "      <td>c.(650G&gt;A); (650G&gt;A)</td>\n",
       "      <td>p.(R217Q); (R217Q)</td>\n",
       "      <td>Homo</td>\n",
       "      <td>T</td>\n",
       "      <td>...</td>\n",
       "      <td>0.297-1.632mmol/L</td>\n",
       "      <td>240umol/L</td>\n",
       "      <td>n.a.</td>\n",
       "      <td>0.04mmol/L</td>\n",
       "      <td>0.05mmol/L</td>\n",
       "      <td>0.14mmol/L</td>\n",
       "      <td>c.650G&gt;A</td>\n",
       "      <td>c.650G&gt;A</td>\n",
       "      <td>NaN</td>\n",
       "      <td>individual_2_PMID_9600976</td>\n",
       "    </tr>\n",
       "  </tbody>\n",
       "</table>\n",
       "<p>2 rows × 40 columns</p>\n",
       "</div>"
      ],
      "text/plain": [
       "   Proband ID     PMID Ethnicity Gender Parental consanguity  \\\n",
       "0           1  9050047       EUR      M                   No   \n",
       "1           2  9600976       EUR      F                  Yes   \n",
       "\n",
       "  Age at onset (months)                Variants                    Amino acid  \\\n",
       "0                     0  c.(433delC); (433delC)  p.(Q145Sfs*16); (Q145Sfs*16)   \n",
       "1                     5    c.(650G>A); (650G>A)            p.(R217Q); (R217Q)   \n",
       "\n",
       "  status Typical type/Mild type  ... Thiosulfate NR: 0   \\\n",
       "0   Homo                      T  ...               n.a.   \n",
       "1   Homo                      T  ...  0.297-1.632mmol/L   \n",
       "\n",
       "  Urine SSC (umol/mmolCr) NR: 0.1-10 Urine Taurine (mmol/molCr) NR: 12-150  \\\n",
       "0                          320umol/L                                    95   \n",
       "1                          240umol/L                                  n.a.   \n",
       "\n",
       "  Urine XA NR: 0-0.46mmol/L or <40umol/mmolCr or <0.29XA/Cr  \\\n",
       "0                                                      n.a.   \n",
       "1                                                0.04mmol/L   \n",
       "\n",
       "  Urine HypoXA NR: 0-0.18mmol/L or <8umol/mmolCr or <0.5HypoXA/Cr  \\\n",
       "0                                                            n.a.   \n",
       "1                                                      0.05mmol/L   \n",
       "\n",
       "  Urine UA NR: 0.44-4.50mmol/L or 50-980umol/mmolCr  allele_1  allele_2  \\\n",
       "0                                              n.a.  c.433del  c.433del   \n",
       "1                                        0.14mmol/L  c.650G>A  c.650G>A   \n",
       "\n",
       "     comment              individual_id  \n",
       "0  c.433delC  individual_1_PMID_9050047  \n",
       "1        NaN  individual_2_PMID_9600976  \n",
       "\n",
       "[2 rows x 40 columns]"
      ]
     },
     "execution_count": 3,
     "metadata": {},
     "output_type": "execute_result"
    }
   ],
   "source": [
    "df = pd.read_excel(\"input/Suox-Li-2022.xlsx\")\n",
    "individual_column_name = 'individual_id'\n",
    "def get_individual_id(arr):\n",
    "    iid = arr.iloc[0]\n",
    "    pmid = arr.iloc[1]\n",
    "    if pmid == \"our patient\":\n",
    "        return \"individual_35_PMID_36303223\" # from current manuscript\n",
    "    else:\n",
    "        return f\"individual_{iid}_PMID_{pmid}\"\n",
    "df[individual_column_name] = df[['Proband ID', 'Resource (PMID)']].apply(lambda x: get_individual_id(x), axis=1)\n",
    "df.head(2)"
   ]
  },
  {
   "cell_type": "markdown",
   "id": "96a05018-e6b1-4a64-bd69-dedc2c24b4f0",
   "metadata": {},
   "source": [
    "<H2>SUOX variants</H2>\n",
    "<P>The original supplemental file   reported a variant that is erroneous according to Variant Validator:</p>\n",
    "<pre>NM_001032386.2:c.1355C>A: Variant reference (C) does not agree with reference sequence (G)</pre>\n",
    "<p>This is how the variant was reported in the original publication. We changed the C to a G and obtain the\n",
    "same amino acid change as reported in the original publication: <tt>NP_001027558.1:p.(G452D)</tt>.</p>"
   ]
  },
  {
   "cell_type": "code",
   "execution_count": 4,
   "id": "48cf8774-96a7-4768-98fd-323f47ba1d00",
   "metadata": {},
   "outputs": [],
   "source": [
    "SUOX_transcript = 'NM_001032386.2'\n",
    "vmanager = VariantManager(df=df, allele_1_column_name=\"allele_1\", allele_2_column_name=\"allele_2\",\n",
    "                          individual_column_name=individual_column_name,\n",
    "                          gene_symbol=\"SUOX\",\n",
    "                          transcript=SUOX_transcript)"
   ]
  },
  {
   "cell_type": "code",
   "execution_count": 5,
   "id": "ef99c452-08b0-46b9-9d96-5a1f932c0f2b",
   "metadata": {},
   "outputs": [
    {
     "data": {
      "text/html": [
       "<div>\n",
       "<style scoped>\n",
       "    .dataframe tbody tr th:only-of-type {\n",
       "        vertical-align: middle;\n",
       "    }\n",
       "\n",
       "    .dataframe tbody tr th {\n",
       "        vertical-align: top;\n",
       "    }\n",
       "\n",
       "    .dataframe thead th {\n",
       "        text-align: right;\n",
       "    }\n",
       "</style>\n",
       "<table border=\"1\" class=\"dataframe\">\n",
       "  <thead>\n",
       "    <tr style=\"text-align: right;\">\n",
       "      <th></th>\n",
       "      <th>status</th>\n",
       "      <th>count</th>\n",
       "      <th>alleles</th>\n",
       "    </tr>\n",
       "  </thead>\n",
       "  <tbody>\n",
       "    <tr>\n",
       "      <th>0</th>\n",
       "      <td>mapped</td>\n",
       "      <td>32</td>\n",
       "      <td>c.1096C&gt;T, c.1187A&gt;G, c.1261C&gt;T, c.352C&gt;T, c.1280C&gt;A, c.1376G&gt;A, c.475G&gt;T, c.1549_1574dup, c.205G&gt;C, c.1348T&gt;C, c.1136A&gt;G, c.182T&gt;C, c.1521_1524del, c.433del, c.1201A&gt;G, c.400_403del, c.650G&gt;A, c.284_285insC, c.1097G&gt;A, c.772A&gt;C, c.520del, c.733_736del, c.794C&gt;A, c.427C&gt;A, c.884G&gt;A, c.803G&gt;A, c.1382A&gt;T, c.1084G&gt;A, c.1355G&gt;A, c.1126C&gt;T, c.1200C&gt;G, c.649C&gt;G</td>\n",
       "    </tr>\n",
       "    <tr>\n",
       "      <th>1</th>\n",
       "      <td>unmapped</td>\n",
       "      <td>0</td>\n",
       "      <td></td>\n",
       "    </tr>\n",
       "  </tbody>\n",
       "</table>\n",
       "</div>"
      ],
      "text/plain": [
       "     status  count  \\\n",
       "0    mapped     32   \n",
       "1  unmapped      0   \n",
       "\n",
       "                                                                                                                                                                                                                                                                                                                                                                 alleles  \n",
       "0  c.1096C>T, c.1187A>G, c.1261C>T, c.352C>T, c.1280C>A, c.1376G>A, c.475G>T, c.1549_1574dup, c.205G>C, c.1348T>C, c.1136A>G, c.182T>C, c.1521_1524del, c.433del, c.1201A>G, c.400_403del, c.650G>A, c.284_285insC, c.1097G>A, c.772A>C, c.520del, c.733_736del, c.794C>A, c.427C>A, c.884G>A, c.803G>A, c.1382A>T, c.1084G>A, c.1355G>A, c.1126C>T, c.1200C>G, c.649C>G  \n",
       "1                                                                                                                                                                                                                                                                                                                                                                         "
      ]
     },
     "execution_count": 5,
     "metadata": {},
     "output_type": "execute_result"
    }
   ],
   "source": [
    "vmanager.to_summary()"
   ]
  },
  {
   "cell_type": "code",
   "execution_count": 6,
   "id": "4e2ac2d4-62f9-4671-a29b-12e753bf2286",
   "metadata": {},
   "outputs": [],
   "source": [
    "items = {\n",
    "    'Developmental delay': ['Neurodevelopmental delay', 'HP:0012758'],\n",
    "    'Regression': ['Cognitive regression', 'HP:0034332'],\n",
    "    'Seizure': ['Seizure', 'HP:0001250'],\n",
    "    'Extrapyramidal symptoms': ['Abnormality of extrapyramidal motor function', 'HP:0002071'],\n",
    "    'Hypertonia':['Hypertonia','HP:0001276'],\n",
    "    'Hypotonia': ['Hypotonia','HP:0001252'],\n",
    "    'Microcephaly':['Microcephaly', 'HP:0000252'],\n",
    "    'Ectopia lentis':['Ectopia lentis', 'HP:0001083'],\n",
    "}\n",
    "\n",
    "column_mapper_list = SimpleColumnMapperGenerator.from_map(items)"
   ]
  },
  {
   "cell_type": "markdown",
   "id": "c24292e2-b9e6-4e3e-8014-aed58554bdb2",
   "metadata": {},
   "source": [
    "<H2>Threshold mappers</H2>\n",
    "<p>The data contain information about biochemical abnormalities framed as tests with reference ranges and values. We can capture this using threshold mappers</p>"
   ]
  },
  {
   "cell_type": "markdown",
   "id": "216aaca5-3cb0-495c-ab24-bf0d64980493",
   "metadata": {},
   "source": [
    "<h3>SSC (umol/L) NR: 0</h3>\n",
    "<p>SSC refers to S-sulfocysteine; The normal range is absent (not more than zero). The corresponding\n",
    "HPO term is Elevated circulating S-sulfocysteine concentration HP:0034745.</p>"
   ]
  },
  {
   "cell_type": "code",
   "execution_count": 7,
   "id": "1dd7f30b-0275-431d-be7f-26744a16b2f9",
   "metadata": {},
   "outputs": [
    {
     "data": {
      "text/html": [
       "<div>\n",
       "<style scoped>\n",
       "    .dataframe tbody tr th:only-of-type {\n",
       "        vertical-align: middle;\n",
       "    }\n",
       "\n",
       "    .dataframe tbody tr th {\n",
       "        vertical-align: top;\n",
       "    }\n",
       "\n",
       "    .dataframe thead th {\n",
       "        text-align: right;\n",
       "    }\n",
       "</style>\n",
       "<table border=\"1\" class=\"dataframe\">\n",
       "  <thead>\n",
       "    <tr style=\"text-align: right;\">\n",
       "      <th></th>\n",
       "      <th>mapping: None-0.0 umol/L</th>\n",
       "      <th>count</th>\n",
       "    </tr>\n",
       "  </thead>\n",
       "  <tbody>\n",
       "    <tr>\n",
       "      <th>0</th>\n",
       "      <td>Elevated circulating S-sulfocysteine concentration (HP:0034745): not measured</td>\n",
       "      <td>33</td>\n",
       "    </tr>\n",
       "    <tr>\n",
       "      <th>1</th>\n",
       "      <td>Elevated circulating S-sulfocysteine concentration (HP:0034745): observed</td>\n",
       "      <td>2</td>\n",
       "    </tr>\n",
       "  </tbody>\n",
       "</table>\n",
       "</div>"
      ],
      "text/plain": [
       "                                                        mapping: None-0.0 umol/L  \\\n",
       "0  Elevated circulating S-sulfocysteine concentration (HP:0034745): not measured   \n",
       "1      Elevated circulating S-sulfocysteine concentration (HP:0034745): observed   \n",
       "\n",
       "  count  \n",
       "0    33  \n",
       "1     2  "
      ]
     },
     "execution_count": 7,
     "metadata": {},
     "output_type": "execute_result"
    }
   ],
   "source": [
    "elevatedSSC = HpTerm(hpo_id=\"HP:0034745\", label=\"Elevated circulating S-sulfocysteine concentration\")\n",
    "ssc = Thresholder(unit=\"umol/L\",threshold_high=0, hpo_term_high=elevatedSSC)\n",
    "\n",
    "sscMapper = ThresholdedColumnMapper(column_name='SSC (umol/L) NR: 0',thresholder=ssc)\n",
    "column_mapper_list.append(sscMapper)\n",
    "sscMapper.preview_column(df)"
   ]
  },
  {
   "cell_type": "code",
   "execution_count": 8,
   "id": "4c7472bb-4808-47d2-a911-aec7b1e63b17",
   "metadata": {},
   "outputs": [
    {
     "data": {
      "text/html": [
       "<div>\n",
       "<style scoped>\n",
       "    .dataframe tbody tr th:only-of-type {\n",
       "        vertical-align: middle;\n",
       "    }\n",
       "\n",
       "    .dataframe tbody tr th {\n",
       "        vertical-align: top;\n",
       "    }\n",
       "\n",
       "    .dataframe thead th {\n",
       "        text-align: right;\n",
       "    }\n",
       "</style>\n",
       "<table border=\"1\" class=\"dataframe\">\n",
       "  <thead>\n",
       "    <tr style=\"text-align: right;\">\n",
       "      <th></th>\n",
       "      <th>mapping: None-145.0 umol/L</th>\n",
       "      <th>count</th>\n",
       "    </tr>\n",
       "  </thead>\n",
       "  <tbody>\n",
       "    <tr>\n",
       "      <th>0</th>\n",
       "      <td>Hypertaurinemia (HP:0500181): observed</td>\n",
       "      <td>1</td>\n",
       "    </tr>\n",
       "    <tr>\n",
       "      <th>1</th>\n",
       "      <td>Hypertaurinemia (HP:0500181): not measured</td>\n",
       "      <td>34</td>\n",
       "    </tr>\n",
       "  </tbody>\n",
       "</table>\n",
       "</div>"
      ],
      "text/plain": [
       "                   mapping: None-145.0 umol/L count\n",
       "0      Hypertaurinemia (HP:0500181): observed     1\n",
       "1  Hypertaurinemia (HP:0500181): not measured    34"
      ]
     },
     "execution_count": 8,
     "metadata": {},
     "output_type": "execute_result"
    }
   ],
   "source": [
    "ht= HpTerm(hpo_id=\"HP:0500181\", label=\"Hypertaurinemia\")\n",
    "taurine = Thresholder(unit=\"umol/L\", threshold_high=145, hpo_term_high=ht)\n",
    "\n",
    "taurineMapper = ThresholdedColumnMapper(column_name='Taurine (umol/L) NR: 15-145', thresholder=taurine)\n",
    "column_mapper_list.append(taurineMapper)\n",
    "taurineMapper.preview_column(df)"
   ]
  },
  {
   "cell_type": "code",
   "execution_count": 9,
   "id": "987feeac-d3d3-4ba3-b5db-046f84b1a629",
   "metadata": {},
   "outputs": [
    {
     "data": {
      "text/html": [
       "<div>\n",
       "<style scoped>\n",
       "    .dataframe tbody tr th:only-of-type {\n",
       "        vertical-align: middle;\n",
       "    }\n",
       "\n",
       "    .dataframe tbody tr th {\n",
       "        vertical-align: top;\n",
       "    }\n",
       "\n",
       "    .dataframe thead th {\n",
       "        text-align: right;\n",
       "    }\n",
       "</style>\n",
       "<table border=\"1\" class=\"dataframe\">\n",
       "  <thead>\n",
       "    <tr style=\"text-align: right;\">\n",
       "      <th></th>\n",
       "      <th>mapping: 5.0-15.0 uumol/L</th>\n",
       "      <th>count</th>\n",
       "    </tr>\n",
       "  </thead>\n",
       "  <tbody>\n",
       "    <tr>\n",
       "      <th>0</th>\n",
       "      <td>Hyperhomocystinemia (HP:0002160): not measured</td>\n",
       "      <td>25</td>\n",
       "    </tr>\n",
       "    <tr>\n",
       "      <th>1</th>\n",
       "      <td>Hypohomocysteinemia (HP:0020222): observed</td>\n",
       "      <td>10</td>\n",
       "    </tr>\n",
       "  </tbody>\n",
       "</table>\n",
       "</div>"
      ],
      "text/plain": [
       "                        mapping: 5.0-15.0 uumol/L count\n",
       "0  Hyperhomocystinemia (HP:0002160): not measured    25\n",
       "1      Hypohomocysteinemia (HP:0020222): observed    10"
      ]
     },
     "execution_count": 9,
     "metadata": {},
     "output_type": "execute_result"
    }
   ],
   "source": [
    "# 'Homocys (umol/L) NR: 5-15' -- Hyperhomocystinemia\n",
    "hc_high = HpTerm(hpo_id=\"HP:0002160\", label=\"Hyperhomocystinemia\")\n",
    "hc_low = HpTerm(hpo_id=\"HP:0020222\", label=\"Hypohomocysteinemia\")\n",
    "homocyteine = Thresholder(unit=\"uumol/L\", threshold_low=5, threshold_high=15, hpo_term_high=hc_high, hpo_term_low=hc_low)\n",
    "homocyteineMapper = ThresholdedColumnMapper(column_name='Homocys (umol/L) NR: 5-15', thresholder=homocyteine)\n",
    "column_mapper_list.append(homocyteineMapper)\n",
    "homocyteineMapper.preview_column(df)"
   ]
  },
  {
   "cell_type": "code",
   "execution_count": 10,
   "id": "95d8a51e-5f41-4f24-9f08-597f8b7a07be",
   "metadata": {},
   "outputs": [
    {
     "data": {
      "text/html": [
       "<div>\n",
       "<style scoped>\n",
       "    .dataframe tbody tr th:only-of-type {\n",
       "        vertical-align: middle;\n",
       "    }\n",
       "\n",
       "    .dataframe tbody tr th {\n",
       "        vertical-align: top;\n",
       "    }\n",
       "\n",
       "    .dataframe thead th {\n",
       "        text-align: right;\n",
       "    }\n",
       "</style>\n",
       "<table border=\"1\" class=\"dataframe\">\n",
       "  <thead>\n",
       "    <tr style=\"text-align: right;\">\n",
       "      <th></th>\n",
       "      <th>mapping: 20.0-70.0 umol/L</th>\n",
       "      <th>count</th>\n",
       "    </tr>\n",
       "  </thead>\n",
       "  <tbody>\n",
       "    <tr>\n",
       "      <th>0</th>\n",
       "      <td>Hypocystinemia (HP:0500152): observed</td>\n",
       "      <td>7</td>\n",
       "    </tr>\n",
       "    <tr>\n",
       "      <th>1</th>\n",
       "      <td>Hypocystinemia (HP:0500152): not measured</td>\n",
       "      <td>28</td>\n",
       "    </tr>\n",
       "  </tbody>\n",
       "</table>\n",
       "</div>"
      ],
      "text/plain": [
       "                   mapping: 20.0-70.0 umol/L count\n",
       "0      Hypocystinemia (HP:0500152): observed     7\n",
       "1  Hypocystinemia (HP:0500152): not measured    28"
      ]
     },
     "execution_count": 10,
     "metadata": {},
     "output_type": "execute_result"
    }
   ],
   "source": [
    "# 'Cys (umol/L) NR: 20-70' -- \n",
    "# Note this manifests as low circulate Cystine (not Cysteine)\n",
    "#  \n",
    "hcy_low = HpTerm(hpo_id=\"HP:0500152\", label=\"Hypocystinemia\")\n",
    "hypocystinemia = Thresholder(unit=\"umol/L\", threshold_low=20, threshold_high=70, hpo_term_low=hcy_low)\n",
    "cystineMapper = ThresholdedColumnMapper(column_name='Cys (umol/L) NR: 20-70', thresholder=hypocystinemia)\n",
    "column_mapper_list.append(cystineMapper)\n",
    "cystineMapper.preview_column(df)"
   ]
  },
  {
   "cell_type": "code",
   "execution_count": 11,
   "id": "89268985-bd47-4c46-8e18-f5febfe53b64",
   "metadata": {},
   "outputs": [
    {
     "data": {
      "text/html": [
       "<div>\n",
       "<style scoped>\n",
       "    .dataframe tbody tr th:only-of-type {\n",
       "        vertical-align: middle;\n",
       "    }\n",
       "\n",
       "    .dataframe tbody tr th {\n",
       "        vertical-align: top;\n",
       "    }\n",
       "\n",
       "    .dataframe thead th {\n",
       "        text-align: right;\n",
       "    }\n",
       "</style>\n",
       "<table border=\"1\" class=\"dataframe\">\n",
       "  <thead>\n",
       "    <tr style=\"text-align: right;\">\n",
       "      <th></th>\n",
       "      <th>mapping: 210.0-430.0 umol/L</th>\n",
       "      <th>count</th>\n",
       "    </tr>\n",
       "  </thead>\n",
       "  <tbody>\n",
       "    <tr>\n",
       "      <th>0</th>\n",
       "      <td>Hypouricemia (HP:0003537): not measured</td>\n",
       "      <td>28</td>\n",
       "    </tr>\n",
       "    <tr>\n",
       "      <th>1</th>\n",
       "      <td>Hypouricemia (HP:0003537): observed</td>\n",
       "      <td>7</td>\n",
       "    </tr>\n",
       "  </tbody>\n",
       "</table>\n",
       "</div>"
      ],
      "text/plain": [
       "               mapping: 210.0-430.0 umol/L count\n",
       "0  Hypouricemia (HP:0003537): not measured    28\n",
       "1      Hypouricemia (HP:0003537): observed     7"
      ]
     },
     "execution_count": 11,
     "metadata": {},
     "output_type": "execute_result"
    }
   ],
   "source": [
    "# 'UA (umol/L) NR: 210-430'  --  \n",
    "ua_low = HpTerm(hpo_id=\"HP:0003537\", label=\"Hypouricemia\")\n",
    "uat = Thresholder(unit=\"umol/L\", threshold_low=210, threshold_high=430, hpo_term_low=ua_low)\n",
    "uricAcidMapper = ThresholdedColumnMapper(column_name='UA (umol/L) NR: 210-430', thresholder=uat)\n",
    "uricAcidMapper.preview_column(df)"
   ]
  },
  {
   "cell_type": "code",
   "execution_count": 12,
   "id": "d0871aa9-eb8d-4def-a1aa-f4bc6ceab017",
   "metadata": {},
   "outputs": [],
   "source": [
    "# 'Sulfite (mg/L) NR: 0' \n",
    "# df_clinical['Sulfite (mg/L) NR: 0']\n",
    "# requires new HPO term"
   ]
  },
  {
   "cell_type": "code",
   "execution_count": 13,
   "id": "9fbd8f6a-b715-4d10-8492-a50a5290d11d",
   "metadata": {},
   "outputs": [],
   "source": [
    "# 'Thiosulfate NR: 0 ' -- requires new HPO term"
   ]
  },
  {
   "cell_type": "code",
   "execution_count": 14,
   "id": "7b4f4501-5180-4f97-98c3-2403bd610291",
   "metadata": {},
   "outputs": [
    {
     "data": {
      "text/html": [
       "<div>\n",
       "<style scoped>\n",
       "    .dataframe tbody tr th:only-of-type {\n",
       "        vertical-align: middle;\n",
       "    }\n",
       "\n",
       "    .dataframe tbody tr th {\n",
       "        vertical-align: top;\n",
       "    }\n",
       "\n",
       "    .dataframe thead th {\n",
       "        text-align: right;\n",
       "    }\n",
       "</style>\n",
       "<table border=\"1\" class=\"dataframe\">\n",
       "  <thead>\n",
       "    <tr style=\"text-align: right;\">\n",
       "      <th></th>\n",
       "      <th>mapping: 0.1-10.0 umol/mmolCr</th>\n",
       "      <th>count</th>\n",
       "    </tr>\n",
       "  </thead>\n",
       "  <tbody>\n",
       "    <tr>\n",
       "      <th>0</th>\n",
       "      <td>Sulfocysteinuria (HP:0032350): not measured</td>\n",
       "      <td>22</td>\n",
       "    </tr>\n",
       "    <tr>\n",
       "      <th>1</th>\n",
       "      <td>Sulfocysteinuria (HP:0032350): observed</td>\n",
       "      <td>13</td>\n",
       "    </tr>\n",
       "  </tbody>\n",
       "</table>\n",
       "</div>"
      ],
      "text/plain": [
       "                 mapping: 0.1-10.0 umol/mmolCr count\n",
       "0  Sulfocysteinuria (HP:0032350): not measured    22\n",
       "1      Sulfocysteinuria (HP:0032350): observed    13"
      ]
     },
     "execution_count": 14,
     "metadata": {},
     "output_type": "execute_result"
    }
   ],
   "source": [
    "# 'Urine SSC (umol/mmolCr) NR: 0.1-10' \n",
    "scu = HpTerm(hpo_id=\"HP:0032350\", label=\"Sulfocysteinuria\")\n",
    "scu_high = Thresholder(unit=\"umol/mmolCr\", threshold_low=0.1, threshold_high=10, hpo_term_high=scu)\n",
    "urineSscMapper = ThresholdedColumnMapper(column_name='Urine SSC (umol/mmolCr) NR: 0.1-10', thresholder=scu_high)\n",
    "column_mapper_list.append(urineSscMapper)\n",
    "urineSscMapper.preview_column(df)"
   ]
  },
  {
   "cell_type": "code",
   "execution_count": 15,
   "id": "5ce627da-72c2-47f6-9c78-da573d65e030",
   "metadata": {},
   "outputs": [
    {
     "data": {
      "text/html": [
       "<div>\n",
       "<style scoped>\n",
       "    .dataframe tbody tr th:only-of-type {\n",
       "        vertical-align: middle;\n",
       "    }\n",
       "\n",
       "    .dataframe tbody tr th {\n",
       "        vertical-align: top;\n",
       "    }\n",
       "\n",
       "    .dataframe thead th {\n",
       "        text-align: right;\n",
       "    }\n",
       "</style>\n",
       "<table border=\"1\" class=\"dataframe\">\n",
       "  <thead>\n",
       "    <tr style=\"text-align: right;\">\n",
       "      <th></th>\n",
       "      <th>mapping: 12.0-150.0 mmol/molCr</th>\n",
       "      <th>count</th>\n",
       "    </tr>\n",
       "  </thead>\n",
       "  <tbody>\n",
       "    <tr>\n",
       "      <th>0</th>\n",
       "      <td>Increased urinary taurine (HP:0003166): not measured</td>\n",
       "      <td>30</td>\n",
       "    </tr>\n",
       "    <tr>\n",
       "      <th>1</th>\n",
       "      <td>Increased urinary taurine (HP:0003166): observed</td>\n",
       "      <td>5</td>\n",
       "    </tr>\n",
       "  </tbody>\n",
       "</table>\n",
       "</div>"
      ],
      "text/plain": [
       "                         mapping: 12.0-150.0 mmol/molCr count\n",
       "0  Increased urinary taurine (HP:0003166): not measured    30\n",
       "1      Increased urinary taurine (HP:0003166): observed     5"
      ]
     },
     "execution_count": 15,
     "metadata": {},
     "output_type": "execute_result"
    }
   ],
   "source": [
    "# 'Urine Taurine (mmol/molCr) NR: 12-150'  -- Increased urinary taurine \n",
    "ut = HpTerm(hpo_id=\"HP:0003166\", label=\"Increased urinary taurine\")\n",
    "utt = Thresholder(unit=\"mmol/molCr\", threshold_high=150, threshold_low=12, hpo_term_high=ut)\n",
    "urineTaurineMapper = ThresholdedColumnMapper(column_name='Urine Taurine (mmol/molCr) NR: 12-150', thresholder=utt)\n",
    "column_mapper_list.append(urineTaurineMapper)\n",
    "urineTaurineMapper.preview_column(df)"
   ]
  },
  {
   "cell_type": "code",
   "execution_count": 16,
   "id": "ce135a0e-c1f4-411e-b5eb-85273bfeff24",
   "metadata": {},
   "outputs": [
    {
     "data": {
      "text/html": [
       "<div>\n",
       "<style scoped>\n",
       "    .dataframe tbody tr th:only-of-type {\n",
       "        vertical-align: middle;\n",
       "    }\n",
       "\n",
       "    .dataframe tbody tr th {\n",
       "        vertical-align: top;\n",
       "    }\n",
       "\n",
       "    .dataframe thead th {\n",
       "        text-align: right;\n",
       "    }\n",
       "</style>\n",
       "<table border=\"1\" class=\"dataframe\">\n",
       "  <thead>\n",
       "    <tr style=\"text-align: right;\">\n",
       "      <th></th>\n",
       "      <th>mapping</th>\n",
       "      <th>count</th>\n",
       "    </tr>\n",
       "  </thead>\n",
       "  <tbody>\n",
       "    <tr>\n",
       "      <th>0</th>\n",
       "      <td>Xanthinuria (HP:0010934) (excluded)</td>\n",
       "      <td>9</td>\n",
       "    </tr>\n",
       "    <tr>\n",
       "      <th>1</th>\n",
       "      <td>Xanthinuria (HP:0010934) (observed)</td>\n",
       "      <td>2</td>\n",
       "    </tr>\n",
       "  </tbody>\n",
       "</table>\n",
       "</div>"
      ],
      "text/plain": [
       "                               mapping count\n",
       "0  Xanthinuria (HP:0010934) (excluded)     9\n",
       "1  Xanthinuria (HP:0010934) (observed)     2"
      ]
     },
     "execution_count": 16,
     "metadata": {},
     "output_type": "execute_result"
    }
   ],
   "source": [
    "# 'Urine XA NR: 0-0.46mmol/L or <40umol/mmolCr or <0.29XA/Cr'\n",
    "# Here we need to use an OptionColumnMapper because three different measurement ranges are used\n",
    "urine_xa_d = { '11.7umol/mmolCr':\"Xanthinuria\",\n",
    "       '1.7umol/mmolCr':\"Xanthinuria\" }\n",
    "urine_not_xa_d = {'0.04mmol/L': \"Xanthinuria\", \n",
    "                  \"1.6umol/mmolCr\": \"Xanthinuria\", \n",
    "                  \"0.0214XA/Cr\": \"Xanthinuria\",\n",
    "                 \"normal\": \"Xanthinuria\"}\n",
    "urineXAmapper = OptionColumnMapper(column_name=\"Urine XA NR: 0-0.46mmol/L or <40umol/mmolCr or <0.29XA/Cr\",\n",
    "                                   concept_recognizer=hpo_cr, \n",
    "                                   option_d=urine_xa_d, \n",
    "                                   excluded_d=urine_not_xa_d)\n",
    "column_mapper_list.append(urineXAmapper)\n",
    "urineXAmapper.preview_column(df)"
   ]
  },
  {
   "cell_type": "code",
   "execution_count": 17,
   "id": "daeec93a-df9d-41be-a64a-d5c7f1509972",
   "metadata": {},
   "outputs": [
    {
     "data": {
      "text/html": [
       "<div>\n",
       "<style scoped>\n",
       "    .dataframe tbody tr th:only-of-type {\n",
       "        vertical-align: middle;\n",
       "    }\n",
       "\n",
       "    .dataframe tbody tr th {\n",
       "        vertical-align: top;\n",
       "    }\n",
       "\n",
       "    .dataframe thead th {\n",
       "        text-align: right;\n",
       "    }\n",
       "</style>\n",
       "<table border=\"1\" class=\"dataframe\">\n",
       "  <thead>\n",
       "    <tr style=\"text-align: right;\">\n",
       "      <th></th>\n",
       "      <th>mapping</th>\n",
       "      <th>count</th>\n",
       "    </tr>\n",
       "  </thead>\n",
       "  <tbody>\n",
       "    <tr>\n",
       "      <th>0</th>\n",
       "      <td>Increased urinary hypoxanthine level (HP:0011814) (excluded)</td>\n",
       "      <td>8</td>\n",
       "    </tr>\n",
       "    <tr>\n",
       "      <th>1</th>\n",
       "      <td>Increased urinary hypoxanthine level (HP:0011814) (observed)</td>\n",
       "      <td>1</td>\n",
       "    </tr>\n",
       "  </tbody>\n",
       "</table>\n",
       "</div>"
      ],
      "text/plain": [
       "                                                        mapping count\n",
       "0  Increased urinary hypoxanthine level (HP:0011814) (excluded)     8\n",
       "1  Increased urinary hypoxanthine level (HP:0011814) (observed)     1"
      ]
     },
     "execution_count": 17,
     "metadata": {},
     "output_type": "execute_result"
    }
   ],
   "source": [
    "# 'Urine HypoXA NR: 0-0.18mmol/L or <8umol/mmolCr or <0.5HypoXA/Cr',\n",
    "# Increased urinary hypoxanthine level HP:0011814\n",
    "urine_hxa_d = {'8umol/mmolCr': \"Increased urinary hypoxanthine level\",}\n",
    "urine_hxa_excluded_d = {\n",
    "    'normal': \"Increased urinary hypoxanthine level\",\n",
    "    '0.05mmol/L': \"Increased urinary hypoxanthine level\",\n",
    "    '0.0264HypoXA/Cr': \"Increased urinary hypoxanthine level\",\n",
    "}\n",
    "urineHXAmapper = OptionColumnMapper(column_name='Urine HypoXA NR: 0-0.18mmol/L or <8umol/mmolCr or <0.5HypoXA/Cr',\n",
    "    concept_recognizer=hpo_cr, option_d=urine_hxa_d, excluded_d=urine_hxa_excluded_d)\n",
    "column_mapper_list.append(urineHXAmapper)\n",
    "urineHXAmapper.preview_column(df)"
   ]
  },
  {
   "cell_type": "code",
   "execution_count": 18,
   "id": "15700414-70dc-4fac-afb0-a1f4ba554866",
   "metadata": {},
   "outputs": [
    {
     "data": {
      "text/html": [
       "<div>\n",
       "<style scoped>\n",
       "    .dataframe tbody tr th:only-of-type {\n",
       "        vertical-align: middle;\n",
       "    }\n",
       "\n",
       "    .dataframe tbody tr th {\n",
       "        vertical-align: top;\n",
       "    }\n",
       "\n",
       "    .dataframe thead th {\n",
       "        text-align: right;\n",
       "    }\n",
       "</style>\n",
       "<table border=\"1\" class=\"dataframe\">\n",
       "  <thead>\n",
       "    <tr style=\"text-align: right;\">\n",
       "      <th></th>\n",
       "      <th>mapping</th>\n",
       "      <th>count</th>\n",
       "    </tr>\n",
       "  </thead>\n",
       "  <tbody>\n",
       "    <tr>\n",
       "      <th>0</th>\n",
       "      <td>Decreased urinary urate (HP:0011935) (observed)</td>\n",
       "      <td>2</td>\n",
       "    </tr>\n",
       "    <tr>\n",
       "      <th>1</th>\n",
       "      <td>Abnormality of urinary uric acid level (HP:0012610) (excluded)</td>\n",
       "      <td>5</td>\n",
       "    </tr>\n",
       "  </tbody>\n",
       "</table>\n",
       "</div>"
      ],
      "text/plain": [
       "                                                          mapping count\n",
       "0                 Decreased urinary urate (HP:0011935) (observed)     2\n",
       "1  Abnormality of urinary uric acid level (HP:0012610) (excluded)     5"
      ]
     },
     "execution_count": 18,
     "metadata": {},
     "output_type": "execute_result"
    }
   ],
   "source": [
    "# 'Urine UA NR: 0.44-4.50mmol/L or 50-980umol/mmolCr'\n",
    "# Hyperuricosuria HP:0003149\n",
    "# Decreased urinary urate HP:0011935\n",
    "# Abnormality of urinary uric acid level HP:0012610\n",
    "urine_ua_d = {'0.14mmol/L': \"Decreased urinary urate\",\n",
    "             '21umol/mmolCr': \"Decreased urinary urate\",}\n",
    "urine_ua_excluded_d = {'normal' : \"Abnormality of urinary uric acid level\",\n",
    "                      '385umol/mmolCr': \"Abnormality of urinary uric acid level\",\n",
    "                      '430umol/mmolCr': \"Abnormality of urinary uric acid level\",}\n",
    "urineUaMapper = OptionColumnMapper(column_name='Urine UA NR: 0.44-4.50mmol/L or 50-980umol/mmolCr',\n",
    "                                   concept_recognizer=hpo_cr,\n",
    "                                  option_d=urine_ua_d,\n",
    "                                  excluded_d=urine_ua_excluded_d)\n",
    "column_mapper_list.append(urineUaMapper)\n",
    "urineUaMapper.preview_column(df)"
   ]
  },
  {
   "cell_type": "markdown",
   "id": "7d3d623c-3e6f-427d-912a-541ea128435e",
   "metadata": {},
   "source": [
    "<H2>Putting it all together</H2>"
   ]
  },
  {
   "cell_type": "code",
   "execution_count": 19,
   "id": "e25b9519-f015-4e72-9f06-dda3cff04385",
   "metadata": {},
   "outputs": [],
   "source": [
    "ageMapper = AgeColumnMapper.by_month(column_name=\"Age at onset (months)\")\n",
    "#ageMapper.preview_column(df)"
   ]
  },
  {
   "cell_type": "code",
   "execution_count": 20,
   "id": "4623316f-eb64-443a-9dfc-6e93e16147ca",
   "metadata": {},
   "outputs": [],
   "source": [
    "sexMapper = SexColumnMapper(male_symbol='M', female_symbol='F', column_name='Gender', unknown_symbol='n.a.')\n",
    "#sexMapper.preview_column(df_clinical['Gender'])"
   ]
  },
  {
   "cell_type": "code",
   "execution_count": 21,
   "id": "49c57455-176b-49cc-8b20-ef5c4d9286c4",
   "metadata": {},
   "outputs": [],
   "source": [
    "encoder = CohortEncoder(df=df, \n",
    "                        hpo_cr=hpo_cr, \n",
    "                        column_mapper_list=column_mapper_list, \n",
    "                        individual_column_name=individual_column_name,\n",
    "                        age_of_onset_mapper=ageMapper, \n",
    "                        sexmapper=sexMapper,\n",
    "                        metadata=metadata)\n",
    "\n",
    "sod = Disease(disease_id='OMIM:272300', disease_label='Sulfite oxidase deficiency')\n",
    "encoder.set_disease(sod)"
   ]
  },
  {
   "cell_type": "code",
   "execution_count": 22,
   "id": "01873645-d89a-4b79-9467-bc9d5129114a",
   "metadata": {},
   "outputs": [],
   "source": [
    "individuals = encoder.get_individuals()\n",
    "individual_d = { i.id:i for i in individuals}"
   ]
  },
  {
   "cell_type": "code",
   "execution_count": 23,
   "id": "a8373023-7fe9-472b-8f2e-42dc4f3bc24f",
   "metadata": {},
   "outputs": [],
   "source": [
    "var_d = vmanager.get_variant_d()\n",
    "from collections import defaultdict\n",
    "in_to_var_d = defaultdict(list)\n",
    "for i, row in df.iterrows():\n",
    "    individ_id = row[\"individual_id\"]\n",
    "    if not individ_id in individual_d:\n",
    "        raise ValueError(f\"could not find individuals{individ_id}\")\n",
    "    individual = individual_d.get(individ_id)\n",
    "    allele_1 = row[\"allele_1\"]\n",
    "    allele_2 = row[\"allele_2\"]\n",
    "    var_1 = var_d.get(allele_1)\n",
    "    if allele_1 == allele_2:\n",
    "        var_1.set_homozygous()\n",
    "        individual.add_variant(var_1)\n",
    "    else:\n",
    "        var_2 = var_d.get(allele_2)\n",
    "        var_1.set_heterozygous()\n",
    "        var_2.set_heterozygous()\n",
    "        individual.add_variant(var_1)\n",
    "        individual.add_variant(var_2)"
   ]
  },
  {
   "cell_type": "code",
   "execution_count": 24,
   "id": "ba958cd8-ef94-4164-ab5d-eb0312dadfa2",
   "metadata": {},
   "outputs": [],
   "source": [
    "for indi in individuals:\n",
    "    var_list = in_to_var_d[indi.id]\n",
    "    for v in var_list:\n",
    "        indi.add_variant(v)"
   ]
  },
  {
   "cell_type": "code",
   "execution_count": 25,
   "id": "a4156e99-31e7-46e0-954f-34d0fd833be8",
   "metadata": {},
   "outputs": [
    {
     "data": {
      "text/html": [
       "<h2>Cohort validation</h2>\n",
       "<p>Errors found with 35 of 35 phenopackets.</p>\n",
       "<table style=\"border: 2px solid black; align: \"left\">\n",
       "<caption>Error counts</caption>\n",
       "<tr><th style=\"text-align: left;font-weight: bold;\">Level</th><th style=\"text-align: left;font-weight: bold;\">Error category</th><th style=\"text-align: left;font-weight: bold;\">Count</th></tr>\n",
       "<tr><td style=\"text-align: left;\">INFORMATION</td><td style=\"text-align: left;\">NOT_MEASURED</td><td style=\"text-align: left;\">257</td></tr>\n",
       "</table>\n",
       "<p>A total of 257 issues were fixed and no individual was removed from the cohort.</p>"
      ],
      "text/plain": [
       "<IPython.core.display.HTML object>"
      ]
     },
     "metadata": {},
     "output_type": "display_data"
    }
   ],
   "source": [
    "cvalidator = CohortValidator(cohort=individuals, ontology=hpo_ontology, min_hpo=1, allelic_requirement=AllelicRequirement.BI_ALLELIC)\n",
    "qc = QcVisualizer(cohort_validator=cvalidator)\n",
    "display(HTML(qc.to_summary_html()))"
   ]
  },
  {
   "cell_type": "markdown",
   "id": "62a878f8-fd1b-4c50-b9b3-030f63e4ebcb",
   "metadata": {},
   "source": [
    "<H2>Visualization</H2>"
   ]
  },
  {
   "cell_type": "code",
   "execution_count": 26,
   "id": "b02274ab-961a-4099-ab52-7af2565dca52",
   "metadata": {},
   "outputs": [
    {
     "data": {
      "text/html": [
       "<table style=\"border: 2px solid black; align: \"left\">\n",
       "<caption>35 phenopackets - PMID:36303223 (n=35)</caption>\n",
       "<tr><th style=\"text-align: left;font-weight: bold;\">Individual</th><th style=\"text-align: left;font-weight: bold;\">Disease</th><th style=\"text-align: left;font-weight: bold;\">Genotype</th><th style=\"text-align: left;font-weight: bold;\">Phenotypic features</th></tr>\n",
       "<tr><td style=\"text-align: left;\">individual_1_PMID_9050047 (MALE; n/a)</td><td style=\"text-align: left;\">Sulfite oxidase deficiency (OMIM:272300)</td><td style=\"text-align: left;\">NM_001032386.2:c.433del (homozygous)</td><td style=\"text-align: left;\">Neurodevelopmental delay (HP:0012758); Seizure (HP:0001250); Abnormality of extrapyramidal motor function (HP:0002071); Hypertonia (HP:0001276); Hypotonia (HP:0001252); Microcephaly (HP:0000252); Ectopia lentis (HP:0001083); Hypertaurinemia (HP:0500181); Hypocystinemia (HP:0500152); excluded: Cognitive regression (HP:0034332)</td></tr>\n",
       "<tr><td style=\"text-align: left;\">individual_2_PMID_9600976 (FEMALE; n/a)</td><td style=\"text-align: left;\">Sulfite oxidase deficiency (OMIM:272300)</td><td style=\"text-align: left;\">NM_001032386.2:c.650G>A (homozygous)</td><td style=\"text-align: left;\">Neurodevelopmental delay (HP:0012758); Seizure (HP:0001250); Abnormality of extrapyramidal motor function (HP:0002071); Hypertonia (HP:0001276); Hypotonia (HP:0001252); Ectopia lentis (HP:0001083); Decreased urinary urate (HP:0011935); excluded: Cognitive regression (HP:0034332); excluded: Xanthinuria (HP:0010934); excluded: Increased urinary hypoxanthine level (HP:0011814)</td></tr>\n",
       "<tr><td style=\"text-align: left;\">individual_3_PMID_10519592 (MALE; n/a)</td><td style=\"text-align: left;\">Sulfite oxidase deficiency (OMIM:272300)</td><td style=\"text-align: left;\"><ul> <li>NM_001032386.2:c.794C>A (heterozygous)</li> <li>NM_001032386.2:c.1280C>A (heterozygous)</li> </ul></td><td style=\"text-align: left;\">Seizure (HP:0001250); Abnormality of extrapyramidal motor function (HP:0002071); Hypertonia (HP:0001276); Ectopia lentis (HP:0001083); excluded: Neurodevelopmental delay (HP:0012758); excluded: Cognitive regression (HP:0034332); excluded: Hypotonia (HP:0001252); excluded: Microcephaly (HP:0000252); excluded: Xanthinuria (HP:0010934); excluded: Increased urinary hypoxanthine level (HP:0011814); excluded: Abnormality of urinary uric acid level (HP:0012610)</td></tr>\n",
       "<tr><td style=\"text-align: left;\">individual_4_PMID_12112661 (UNKNOWN; n/a)</td><td style=\"text-align: left;\">Sulfite oxidase deficiency (OMIM:272300)</td><td style=\"text-align: left;\">NM_001032386.2:c.734_737del (homozygous)</td><td style=\"text-align: left;\">Seizure (HP:0001250)</td></tr>\n",
       "<tr><td style=\"text-align: left;\">individual_5_PMID_12112661 (UNKNOWN; n/a)</td><td style=\"text-align: left;\">Sulfite oxidase deficiency (OMIM:272300)</td><td style=\"text-align: left;\"><ul> <li>NM_001032386.2:c.287dup (heterozygous)</li> <li>NM_001032386.2:c.1126C>T (heterozygous)</li> </ul></td><td style=\"text-align: left;\">Seizure (HP:0001250)</td></tr>\n",
       "<tr><td style=\"text-align: left;\">individual_6_PMID_12112661 (UNKNOWN; n/a)</td><td style=\"text-align: left;\">Sulfite oxidase deficiency (OMIM:272300)</td><td style=\"text-align: left;\">NM_001032386.2:c.772A>C (homozygous)</td><td style=\"text-align: left;\">Seizure (HP:0001250)</td></tr>\n",
       "<tr><td style=\"text-align: left;\">individual_7_PMID_12112661 (UNKNOWN; n/a)</td><td style=\"text-align: left;\">Sulfite oxidase deficiency (OMIM:272300)</td><td style=\"text-align: left;\">NM_001032386.2:c.803G>A (homozygous)</td><td style=\"text-align: left;\">Seizure (HP:0001250)</td></tr>\n",
       "<tr><td style=\"text-align: left;\">individual_8_PMID_12112661 (UNKNOWN; n/a)</td><td style=\"text-align: left;\">Sulfite oxidase deficiency (OMIM:272300)</td><td style=\"text-align: left;\">NM_001032386.2:c.1200C>G (homozygous)</td><td style=\"text-align: left;\">Seizure (HP:0001250)</td></tr>\n",
       "<tr><td style=\"text-align: left;\">individual_9_PMID_12112661 (UNKNOWN; n/a)</td><td style=\"text-align: left;\">Sulfite oxidase deficiency (OMIM:272300)</td><td style=\"text-align: left;\">NM_001032386.2:c.1261C>T (homozygous)</td><td style=\"text-align: left;\">Seizure (HP:0001250)</td></tr>\n",
       "<tr><td style=\"text-align: left;\">individual_10_PMID_12112661 (UNKNOWN; n/a)</td><td style=\"text-align: left;\">Sulfite oxidase deficiency (OMIM:272300)</td><td style=\"text-align: left;\">NM_001032386.2:c.1084G>A (homozygous)</td><td style=\"text-align: left;\">Seizure (HP:0001250)</td></tr>\n",
       "<tr><td style=\"text-align: left;\">individual_11_PMID_12112661 (UNKNOWN; n/a)</td><td style=\"text-align: left;\">Sulfite oxidase deficiency (OMIM:272300)</td><td style=\"text-align: left;\"><ul> <li>NM_001032386.2:c.1097G>A (heterozygous)</li> <li>NM_001032386.2:c.1187A>G (heterozygous)</li> </ul></td><td style=\"text-align: left;\">Seizure (HP:0001250)</td></tr>\n",
       "<tr><td style=\"text-align: left;\">individual_12_PMID_12112661 (UNKNOWN; n/a)</td><td style=\"text-align: left;\">Sulfite oxidase deficiency (OMIM:272300)</td><td style=\"text-align: left;\">NM_001032386.2:c.1136A>G (homozygous)</td><td style=\"text-align: left;\">Seizure (HP:0001250)</td></tr>\n",
       "<tr><td style=\"text-align: left;\">individual_13_PMID_12112661 (UNKNOWN; n/a)</td><td style=\"text-align: left;\">Sulfite oxidase deficiency (OMIM:272300)</td><td style=\"text-align: left;\">NM_001032386.2:c.1348T>C (homozygous)</td><td style=\"text-align: left;\">excluded: Seizure (HP:0001250)</td></tr>\n",
       "<tr><td style=\"text-align: left;\">individual_14_PMID_11825068 (FEMALE; n/a)</td><td style=\"text-align: left;\">Sulfite oxidase deficiency (OMIM:272300)</td><td style=\"text-align: left;\">NM_001032386.2:c.650G>A (homozygous)</td><td style=\"text-align: left;\">Cognitive regression (HP:0034332); Seizure (HP:0001250); Hypertonia (HP:0001276); Microcephaly (HP:0000252); Ectopia lentis (HP:0001083); Sulfocysteinuria (HP:0032350); Xanthinuria (HP:0010934); excluded: Neurodevelopmental delay (HP:0012758); excluded: Abnormality of extrapyramidal motor function (HP:0002071); excluded: Hypotonia (HP:0001252); excluded: Abnormality of urinary uric acid level (HP:0012610)</td></tr>\n",
       "<tr><td style=\"text-align: left;\">individual_15_PMID_12001203 (FEMALE; n/a)</td><td style=\"text-align: left;\">Sulfite oxidase deficiency (OMIM:272300)</td><td style=\"text-align: left;\">NM_001032386.2:c.400_403del (homozygous)</td><td style=\"text-align: left;\">Seizure (HP:0001250); Microcephaly (HP:0000252); excluded: Neurodevelopmental delay (HP:0012758); excluded: Cognitive regression (HP:0034332); excluded: Abnormality of extrapyramidal motor function (HP:0002071); excluded: Hypertonia (HP:0001276); excluded: Hypotonia (HP:0001252)</td></tr>\n",
       "<tr><td style=\"text-align: left;\">individual_16_PMID_12368985 (MALE; n/a)</td><td style=\"text-align: left;\">Sulfite oxidase deficiency (OMIM:272300)</td><td style=\"text-align: left;\"><ul> <li>NM_001032386.2:c.1200C>G (heterozygous)</li> <li>NM_001032386.2:c.650G>A (heterozygous)</li> </ul></td><td style=\"text-align: left;\">Seizure (HP:0001250); Hypertonia (HP:0001276); Hypotonia (HP:0001252); Microcephaly (HP:0000252); Ectopia lentis (HP:0001083); Sulfocysteinuria (HP:0032350); excluded: Neurodevelopmental delay (HP:0012758); excluded: Cognitive regression (HP:0034332); excluded: Abnormality of extrapyramidal motor function (HP:0002071)</td></tr>\n",
       "<tr><td style=\"text-align: left;\">individual_17_PMID_15952210 (MALE; n/a)</td><td style=\"text-align: left;\">Sulfite oxidase deficiency (OMIM:272300)</td><td style=\"text-align: left;\">NM_001032386.2:c.520del (homozygous)</td><td style=\"text-align: left;\">Neurodevelopmental delay (HP:0012758); Seizure (HP:0001250); Hypertonia (HP:0001276); Hypotonia (HP:0001252); Microcephaly (HP:0000252); Sulfocysteinuria (HP:0032350); Increased urinary hypoxanthine level (HP:0011814); Decreased urinary urate (HP:0011935); excluded: Cognitive regression (HP:0034332); excluded: Abnormality of extrapyramidal motor function (HP:0002071); excluded: Ectopia lentis (HP:0001083)</td></tr>\n",
       "<tr><td style=\"text-align: left;\">individual_18_PMID_23414711 (FEMALE; n/a)</td><td style=\"text-align: left;\">Sulfite oxidase deficiency (OMIM:272300)</td><td style=\"text-align: left;\">NM_001032386.2:c.427C>A (homozygous)</td><td style=\"text-align: left;\">Neurodevelopmental delay (HP:0012758); Hypotonia (HP:0001252); Elevated circulating S-sulfocysteine concentration (HP:0034745); Hypohomocysteinemia (HP:0020222); Hypocystinemia (HP:0500152); Sulfocysteinuria (HP:0032350); Increased urinary taurine (HP:0003166); excluded: Cognitive regression (HP:0034332); excluded: Seizure (HP:0001250); excluded: Abnormality of extrapyramidal motor function (HP:0002071); excluded: Hypertonia (HP:0001276); excluded: Ectopia lentis (HP:0001083)</td></tr>\n",
       "<tr><td style=\"text-align: left;\">individual_19_PMID_23452914 (FEMALE; n/a)</td><td style=\"text-align: left;\">Sulfite oxidase deficiency (OMIM:272300)</td><td style=\"text-align: left;\">NM_001032386.2:c.182T>C (homozygous)</td><td style=\"text-align: left;\">Abnormality of extrapyramidal motor function (HP:0002071); Hypotonia (HP:0001252); Ectopia lentis (HP:0001083); Elevated circulating S-sulfocysteine concentration (HP:0034745); Hypocystinemia (HP:0500152); Sulfocysteinuria (HP:0032350); Increased urinary taurine (HP:0003166); excluded: Neurodevelopmental delay (HP:0012758); excluded: Cognitive regression (HP:0034332); excluded: Seizure (HP:0001250); excluded: Hypertonia (HP:0001276); excluded: Microcephaly (HP:0000252); excluded: Xanthinuria (HP:0010934); excluded: Increased urinary hypoxanthine level (HP:0011814)</td></tr>\n",
       "<tr><td style=\"text-align: left;\">individual_20_PMID_24938149 (FEMALE; n/a)</td><td style=\"text-align: left;\">Sulfite oxidase deficiency (OMIM:272300)</td><td style=\"text-align: left;\"><ul> <li>NM_001032386.2:c.1200C>G (heterozygous)</li> <li>NM_001032386.2:c.1355G>A (heterozygous)</li> </ul></td><td style=\"text-align: left;\">Seizure (HP:0001250); excluded: Neurodevelopmental delay (HP:0012758); excluded: Cognitive regression (HP:0034332); excluded: Abnormality of extrapyramidal motor function (HP:0002071); excluded: Hypertonia (HP:0001276); excluded: Hypotonia (HP:0001252)</td></tr>\n",
       "<tr><td style=\"text-align: left;\">individual_21_PMID_27289259 (MALE; n/a)</td><td style=\"text-align: left;\">Sulfite oxidase deficiency (OMIM:272300)</td><td style=\"text-align: left;\">NM_001032386.2:c.884G>A (homozygous)</td><td style=\"text-align: left;\">Neurodevelopmental delay (HP:0012758); Seizure (HP:0001250); Abnormality of extrapyramidal motor function (HP:0002071); Hypertonia (HP:0001276); Hypotonia (HP:0001252); Microcephaly (HP:0000252); Sulfocysteinuria (HP:0032350); Xanthinuria (HP:0010934); excluded: Cognitive regression (HP:0034332); excluded: Ectopia lentis (HP:0001083)</td></tr>\n",
       "<tr><td style=\"text-align: left;\">individual_22_PMID_27289259 (FEMALE; n/a)</td><td style=\"text-align: left;\">Sulfite oxidase deficiency (OMIM:272300)</td><td style=\"text-align: left;\">NM_001032386.2:c.884G>A (homozygous)</td><td style=\"text-align: left;\">Neurodevelopmental delay (HP:0012758); Seizure (HP:0001250); Abnormality of extrapyramidal motor function (HP:0002071); Hypertonia (HP:0001276); Hypotonia (HP:0001252); Microcephaly (HP:0000252); Sulfocysteinuria (HP:0032350); excluded: Cognitive regression (HP:0034332); excluded: Ectopia lentis (HP:0001083); excluded: Xanthinuria (HP:0010934)</td></tr>\n",
       "<tr><td style=\"text-align: left;\">individual_23_PMID_28725568 (MALE; n/a)</td><td style=\"text-align: left;\">Sulfite oxidase deficiency (OMIM:272300)</td><td style=\"text-align: left;\"><ul> <li>NM_001032386.2:c.352C>T (heterozygous)</li> <li>NM_001032386.2:c.649C>G (heterozygous)</li> </ul></td><td style=\"text-align: left;\">Seizure (HP:0001250); Microcephaly (HP:0000252); Hypohomocysteinemia (HP:0020222); Hypocystinemia (HP:0500152); Sulfocysteinuria (HP:0032350); Increased urinary taurine (HP:0003166); excluded: Neurodevelopmental delay (HP:0012758); excluded: Cognitive regression (HP:0034332); excluded: Abnormality of extrapyramidal motor function (HP:0002071)</td></tr>\n",
       "<tr><td style=\"text-align: left;\">individual_24_PMID_28629418 (FEMALE; n/a)</td><td style=\"text-align: left;\">Sulfite oxidase deficiency (OMIM:272300)</td><td style=\"text-align: left;\">NM_001032386.2:c.1200C>G (homozygous)</td><td style=\"text-align: left;\">Seizure (HP:0001250); Hypertonia (HP:0001276); Microcephaly (HP:0000252); Hypocystinemia (HP:0500152); excluded: Neurodevelopmental delay (HP:0012758); excluded: Cognitive regression (HP:0034332); excluded: Abnormality of extrapyramidal motor function (HP:0002071); excluded: Hypotonia (HP:0001252); excluded: Ectopia lentis (HP:0001083)</td></tr>\n",
       "<tr><td style=\"text-align: left;\">individual_25_PMID_31870341 (MALE; n/a)</td><td style=\"text-align: left;\">Sulfite oxidase deficiency (OMIM:272300)</td><td style=\"text-align: left;\"><ul> <li>NM_001032386.2:c.1096C>T (heterozygous)</li> <li>NM_001032386.2:c.1376G>A (heterozygous)</li> </ul></td><td style=\"text-align: left;\">Cognitive regression (HP:0034332); Abnormality of extrapyramidal motor function (HP:0002071); Hypertonia (HP:0001276); Hypotonia (HP:0001252); Hypohomocysteinemia (HP:0020222); excluded: Neurodevelopmental delay (HP:0012758); excluded: Seizure (HP:0001250); excluded: Microcephaly (HP:0000252); excluded: Ectopia lentis (HP:0001083)</td></tr>\n",
       "<tr><td style=\"text-align: left;\">individual_26_PMID_31870341 (MALE; n/a)</td><td style=\"text-align: left;\">Sulfite oxidase deficiency (OMIM:272300)</td><td style=\"text-align: left;\"><ul> <li>NM_001032386.2:c.1096C>T (heterozygous)</li> <li>NM_001032386.2:c.1376G>A (heterozygous)</li> </ul></td><td style=\"text-align: left;\">Cognitive regression (HP:0034332); Abnormality of extrapyramidal motor function (HP:0002071); Hypotonia (HP:0001252); Hypohomocysteinemia (HP:0020222); excluded: Neurodevelopmental delay (HP:0012758); excluded: Seizure (HP:0001250); excluded: Hypertonia (HP:0001276); excluded: Microcephaly (HP:0000252); excluded: Ectopia lentis (HP:0001083)</td></tr>\n",
       "<tr><td style=\"text-align: left;\">individual_27_PMID_31870341 (FEMALE; n/a)</td><td style=\"text-align: left;\">Sulfite oxidase deficiency (OMIM:272300)</td><td style=\"text-align: left;\"><ul> <li>NM_001032386.2:c.1096C>T (heterozygous)</li> <li>NM_001032386.2:c.1376G>A (heterozygous)</li> </ul></td><td style=\"text-align: left;\">Cognitive regression (HP:0034332); Seizure (HP:0001250); Abnormality of extrapyramidal motor function (HP:0002071); Hypotonia (HP:0001252); Hypohomocysteinemia (HP:0020222); excluded: Neurodevelopmental delay (HP:0012758); excluded: Hypertonia (HP:0001276); excluded: Microcephaly (HP:0000252); excluded: Ectopia lentis (HP:0001083)</td></tr>\n",
       "<tr><td style=\"text-align: left;\">individual_28_PMID_33335014 (FEMALE; n/a)</td><td style=\"text-align: left;\">Sulfite oxidase deficiency (OMIM:272300)</td><td style=\"text-align: left;\">NM_001032386.2:c.1521_1524del (homozygous)</td><td style=\"text-align: left;\">Neurodevelopmental delay (HP:0012758); Seizure (HP:0001250); Hypertonia (HP:0001276); Hypocystinemia (HP:0500152); excluded: Cognitive regression (HP:0034332); excluded: Abnormality of extrapyramidal motor function (HP:0002071); excluded: Hypotonia (HP:0001252); excluded: Microcephaly (HP:0000252); excluded: Xanthinuria (HP:0010934); excluded: Increased urinary hypoxanthine level (HP:0011814)</td></tr>\n",
       "<tr><td style=\"text-align: left;\">individual_29_PMID_33335014 (MALE; n/a)</td><td style=\"text-align: left;\">Sulfite oxidase deficiency (OMIM:272300)</td><td style=\"text-align: left;\">NM_001032386.2:c.1521_1524del (homozygous)</td><td style=\"text-align: left;\">Neurodevelopmental delay (HP:0012758); Seizure (HP:0001250); Hypotonia (HP:0001252); Hypocystinemia (HP:0500152); Sulfocysteinuria (HP:0032350); excluded: Cognitive regression (HP:0034332); excluded: Abnormality of extrapyramidal motor function (HP:0002071); excluded: Hypertonia (HP:0001276); excluded: Microcephaly (HP:0000252); excluded: Xanthinuria (HP:0010934); excluded: Increased urinary hypoxanthine level (HP:0011814)</td></tr>\n",
       "<tr><td style=\"text-align: left;\">individual_30_PMID_31806255 (MALE; n/a)</td><td style=\"text-align: left;\">Sulfite oxidase deficiency (OMIM:272300)</td><td style=\"text-align: left;\">NM_001032386.2:c.1382A>T (homozygous)</td><td style=\"text-align: left;\">Cognitive regression (HP:0034332); Abnormality of extrapyramidal motor function (HP:0002071); Hypotonia (HP:0001252); Hypohomocysteinemia (HP:0020222); Sulfocysteinuria (HP:0032350); Increased urinary taurine (HP:0003166); excluded: Neurodevelopmental delay (HP:0012758); excluded: Seizure (HP:0001250); excluded: Hypertonia (HP:0001276); excluded: Microcephaly (HP:0000252); excluded: Ectopia lentis (HP:0001083); excluded: Xanthinuria (HP:0010934); excluded: Increased urinary hypoxanthine level (HP:0011814); excluded: Abnormality of urinary uric acid level (HP:0012610)</td></tr>\n",
       "<tr><td style=\"text-align: left;\">individual_31_PMID_31806255 (MALE; n/a)</td><td style=\"text-align: left;\">Sulfite oxidase deficiency (OMIM:272300)</td><td style=\"text-align: left;\">NM_001032386.2:c.1382A>T (homozygous)</td><td style=\"text-align: left;\">Cognitive regression (HP:0034332); Seizure (HP:0001250); Hypotonia (HP:0001252); Hypohomocysteinemia (HP:0020222); Sulfocysteinuria (HP:0032350); Increased urinary taurine (HP:0003166); excluded: Neurodevelopmental delay (HP:0012758); excluded: Abnormality of extrapyramidal motor function (HP:0002071); excluded: Hypertonia (HP:0001276); excluded: Microcephaly (HP:0000252); excluded: Ectopia lentis (HP:0001083); excluded: Xanthinuria (HP:0010934); excluded: Increased urinary hypoxanthine level (HP:0011814); excluded: Abnormality of urinary uric acid level (HP:0012610)</td></tr>\n",
       "<tr><td style=\"text-align: left;\">individual_32_PMID_34025712 (MALE; n/a)</td><td style=\"text-align: left;\">Sulfite oxidase deficiency (OMIM:272300)</td><td style=\"text-align: left;\"><ul> <li>NM_001032386.2:c.475G>T (heterozygous)</li> <li>NM_001032386.2:c.1201A>G (heterozygous)</li> </ul></td><td style=\"text-align: left;\">Seizure (HP:0001250); Hypotonia (HP:0001252); Microcephaly (HP:0000252); Hypohomocysteinemia (HP:0020222); Sulfocysteinuria (HP:0032350); excluded: Neurodevelopmental delay (HP:0012758); excluded: Cognitive regression (HP:0034332); excluded: Abnormality of extrapyramidal motor function (HP:0002071); excluded: Hypertonia (HP:0001276); excluded: Ectopia lentis (HP:0001083)</td></tr>\n",
       "<tr><td style=\"text-align: left;\">individual_33_PMID_33405344 (FEMALE; n/a)</td><td style=\"text-align: left;\">Sulfite oxidase deficiency (OMIM:272300)</td><td style=\"text-align: left;\"><ul> <li>NM_001032386.2:c.1200C>G (heterozygous)</li> <li>NM_001032386.2:c.1549_1574dup (heterozygous)</li> </ul></td><td style=\"text-align: left;\">Seizure (HP:0001250); Abnormality of extrapyramidal motor function (HP:0002071); Hypohomocysteinemia (HP:0020222); excluded: Neurodevelopmental delay (HP:0012758); excluded: Cognitive regression (HP:0034332); excluded: Microcephaly (HP:0000252)</td></tr>\n",
       "<tr><td style=\"text-align: left;\">individual_34_PMID_33405344 (MALE; n/a)</td><td style=\"text-align: left;\">Sulfite oxidase deficiency (OMIM:272300)</td><td style=\"text-align: left;\"><ul> <li>NM_001032386.2:c.1200C>G (heterozygous)</li> <li>NM_001032386.2:c.1549_1574dup (heterozygous)</li> </ul></td><td style=\"text-align: left;\">Seizure (HP:0001250); excluded: Neurodevelopmental delay (HP:0012758); excluded: Cognitive regression (HP:0034332); excluded: Abnormality of extrapyramidal motor function (HP:0002071); excluded: Hypertonia (HP:0001276); excluded: Hypotonia (HP:0001252)</td></tr>\n",
       "<tr><td style=\"text-align: left;\">individual_35_PMID_36303223 (MALE; n/a)</td><td style=\"text-align: left;\">Sulfite oxidase deficiency (OMIM:272300)</td><td style=\"text-align: left;\"><ul> <li>NM_001032386.2:c.205G>C (heterozygous)</li> <li>NM_001032386.2:c.1200C>G (heterozygous)</li> </ul></td><td style=\"text-align: left;\">Ectopia lentis (HP:0001083); Hypohomocysteinemia (HP:0020222); Sulfocysteinuria (HP:0032350); excluded: Neurodevelopmental delay (HP:0012758); excluded: Cognitive regression (HP:0034332); excluded: Seizure (HP:0001250); excluded: Abnormality of extrapyramidal motor function (HP:0002071); excluded: Hypertonia (HP:0001276); excluded: Hypotonia (HP:0001252); excluded: Microcephaly (HP:0000252); excluded: Xanthinuria (HP:0010934); excluded: Increased urinary hypoxanthine level (HP:0011814); excluded: Abnormality of urinary uric acid level (HP:0012610)</td></tr>\n",
       "</table>"
      ],
      "text/plain": [
       "<IPython.core.display.HTML object>"
      ]
     },
     "metadata": {},
     "output_type": "display_data"
    }
   ],
   "source": [
    "table = IndividualTable(individual_list=individuals, metadata=metadata)\n",
    "display(HTML(table.to_html()))"
   ]
  },
  {
   "cell_type": "code",
   "execution_count": 27,
   "id": "76bc37f6-cfbb-47bc-835a-194b76173f36",
   "metadata": {},
   "outputs": [
    {
     "name": "stdout",
     "output_type": "stream",
     "text": [
      "We output 35 GA4GH phenopackets to the directory phenopackets\n"
     ]
    }
   ],
   "source": [
    "Individual.output_individuals_as_phenopackets(individual_list=individuals, \n",
    "                                              metadata=metadata)"
   ]
  },
  {
   "cell_type": "markdown",
   "id": "67e8b1cb-2984-4adc-ba71-461bdac6984f",
   "metadata": {},
   "source": [
    "<H2>Validation</H2>"
   ]
  },
  {
   "cell_type": "markdown",
   "id": "81fca3b3-bdee-4b60-a363-2d58634fdafc",
   "metadata": {},
   "source": [
    "<p>Also validated with phenopacket-tools</p>\n",
    "<pre>pxf validate --hpo hp.json *.json</pre>\n",
    "<p>No errors found</p>"
   ]
  },
  {
   "cell_type": "code",
   "execution_count": null,
   "id": "1ff3e9f9-9cec-4760-a078-2d990e17b53c",
   "metadata": {},
   "outputs": [],
   "source": []
  }
 ],
 "metadata": {
  "kernelspec": {
   "display_name": "ps24venv",
   "language": "python",
   "name": "ps24venv"
  },
  "language_info": {
   "codemirror_mode": {
    "name": "ipython",
    "version": 3
   },
   "file_extension": ".py",
   "mimetype": "text/x-python",
   "name": "python",
   "nbconvert_exporter": "python",
   "pygments_lexer": "ipython3",
   "version": "3.8.10"
  }
 },
 "nbformat": 4,
 "nbformat_minor": 5
}
