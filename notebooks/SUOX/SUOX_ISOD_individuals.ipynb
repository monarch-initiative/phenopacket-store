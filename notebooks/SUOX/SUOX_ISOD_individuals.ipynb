{
 "cells": [
  {
   "cell_type": "markdown",
   "metadata": {},
   "source": [
    "# SUOX\n",
    "\n",
    "<H1>Sulfite Oxidase Deficiency SUOX</H1>\n",
    "<P>Data from <a href=\"https://pubmed.ncbi.nlm.nih.gov/36303223/\" target=\"__blank\">Li JT, et al. (2022) Mutation analysis of SUOX in isolated sulfite oxidase deficiency with ectopia lentis as the presenting feature: insights into genotype-phenotype correlation. Orphanet J Rare Dis.17(1):392. PMID:36303223</a>.</P>\n",
    "<P>We transferred information from Additional Files 5, 6, and 7 to two Excel files to parse the data.</P>\n",
    "<P>Insufficient numerical data was provided to attempt a t-test, and so we converted the available numerical data to categorical HPO terms using the provided normal ranges."
   ]
  },
  {
   "cell_type": "code",
   "execution_count": 1,
   "metadata": {},
   "outputs": [
    {
     "name": "stdout",
     "output_type": "stream",
     "text": [
      "Using pyphetools version 0.9.113\n"
     ]
    }
   ],
   "source": [
    "from pyphetools.creation import TemplateImporter, Moi\n",
    "from pyphetools.visualization import IndividualTable, QcVisualizer\n",
    "from IPython.display import display, HTML\n",
    "import pyphetools\n",
    "print(f\"Using pyphetools version {pyphetools.__version__}\")"
   ]
  },
  {
   "cell_type": "code",
   "execution_count": 2,
   "metadata": {},
   "outputs": [
    {
     "name": "stdout",
     "output_type": "stream",
     "text": [
      "HPO version 2024-08-13\n",
      "Created encoders for 46 fields\n",
      "Importing OMIM:272300, Sulfite oxidase deficiency, HGNC:11460, SUOX,  NM_001032386.2\n",
      "We output 35 GA4GH phenopackets to the directory phenopackets\n"
     ]
    }
   ],
   "source": [
    "template = \"input/SUOX_ISOD_individuals.xlsx\"\n",
    "created_by = \"0000-0002-0736-9199\"\n",
    "timporter = TemplateImporter(template=template,  created_by=created_by)\n",
    "individual_list, cvalidator = timporter.import_phenopackets_from_template()"
   ]
  },
  {
   "cell_type": "code",
   "execution_count": 3,
   "metadata": {},
   "outputs": [
    {
     "data": {
      "text/html": [
       "<h2>Cohort validation</h2>\n",
       "<p>No errors found for the cohort with 35 individuals</p>"
      ],
      "text/plain": [
       "<IPython.core.display.HTML object>"
      ]
     },
     "metadata": {},
     "output_type": "display_data"
    }
   ],
   "source": [
    "qc = QcVisualizer(cohort_validator=cvalidator)\n",
    "display(HTML(qc.to_summary_html()))"
   ]
  },
  {
   "cell_type": "code",
   "execution_count": 4,
   "metadata": {},
   "outputs": [
    {
     "data": {
      "text/html": [
       "<table style=\"border: 2px solid black; align: \"left\">\n",
       "<caption>35 phenopackets - PMID:36303223 (n=35)</caption>\n",
       "<tr><th style=\"text-align: left;font-weight: bold;\">Individual</th><th style=\"text-align: left;font-weight: bold;\">Disease</th><th style=\"text-align: left;font-weight: bold;\">Genotype</th><th style=\"text-align: left;font-weight: bold;\">Phenotypic features</th></tr>\n",
       "<tr><td style=\"text-align: left;\">Proband 1 from PMID 9050047 (MALE; P2Y8M)</td><td style=\"text-align: left;\">Sulfite oxidase deficiency (OMIM:272300)</td><td style=\"text-align: left;\">NM_001032386.2:c.433del (homozygous)</td><td style=\"text-align: left;\">Seizure (HP:0001250): onset ; Hypertonia (HP:0001276): onset ; Ectopia lentis (HP:0001083): onset ; Hypotonia (HP:0001252): onset ; Global developmental delay (HP:0001263): onset ; Microcephaly (HP:0000252): onset ; Abnormality of extrapyramidal motor function (HP:0002071): onset ; Hypertaurinemia (HP:0500181): onset ; Hypocystinemia (HP:0500152): onset ; Sulfocysteinuria (HP:0032350): onset ; excluded: Developmental regression (HP:0002376): onset ; excluded: Increased urinary taurine (HP:0003166): onset </td></tr>\n",
       "<tr><td style=\"text-align: left;\">Proband 2 from PMID 9600976 (FEMALE)</td><td style=\"text-align: left;\">Sulfite oxidase deficiency (OMIM:272300)</td><td style=\"text-align: left;\">NM_001032386.2:c.650G>A (homozygous)</td><td style=\"text-align: left;\">Seizure (HP:0001250): onset ; Hypertonia (HP:0001276): onset ; Ectopia lentis (HP:0001083): onset ; Hypotonia (HP:0001252): onset ; Global developmental delay (HP:0001263): onset ; Abnormality of extrapyramidal motor function (HP:0002071): onset ; Sulfocysteinuria (HP:0032350): onset ; Xanthinuria (HP:0010934): onset ; Increased urinary hypoxanthine level (HP:0011814): onset ; Decreased urinary urate (HP:0011935): onset ; excluded: Developmental regression (HP:0002376): onset ; excluded: Hyperuricosuria (HP:0003149): onset </td></tr>\n",
       "<tr><td style=\"text-align: left;\">Proband 3 from PMID 10519592 (MALE)</td><td style=\"text-align: left;\">Sulfite oxidase deficiency (OMIM:272300)</td><td style=\"text-align: left;\"><ul> <li>NM_001032386.2:c.794C>A (heterozygous)</li> <li>NM_001032386.2:c.1280C>A (heterozygous)</li> </ul></td><td style=\"text-align: left;\">Seizure (HP:0001250): onset ; Hypertonia (HP:0001276): onset ; Ectopia lentis (HP:0001083): onset ; Abnormality of extrapyramidal motor function (HP:0002071): onset ; Sulfocysteinuria (HP:0032350): onset ; excluded: Hypotonia (HP:0001252): onset ; excluded: Global developmental delay (HP:0001263): onset ; excluded: Developmental regression (HP:0002376): onset ; excluded: Microcephaly (HP:0000252): onset ; excluded: Hypouricemia (HP:0003537): onset ; excluded: Xanthinuria (HP:0010934): onset ; excluded: Increased urinary hypoxanthine level (HP:0011814): onset ; excluded: Hyperuricosuria (HP:0003149): onset ; excluded: Decreased urinary urate (HP:0011935): onset </td></tr>\n",
       "<tr><td style=\"text-align: left;\">Proband 4 from PMID 12112661 (UNKNOWN)</td><td style=\"text-align: left;\">Sulfite oxidase deficiency (OMIM:272300)</td><td style=\"text-align: left;\">NM_001032386.2:c.734_737del (homozygous)</td><td style=\"text-align: left;\">Seizure (HP:0001250): onset </td></tr>\n",
       "<tr><td style=\"text-align: left;\">Proband 5 from PMID 12112661 (UNKNOWN)</td><td style=\"text-align: left;\">Sulfite oxidase deficiency (OMIM:272300)</td><td style=\"text-align: left;\"><ul> <li>NM_001032386.2:c.287dup (heterozygous)</li> <li>NM_001032386.2:c.1126C>T (heterozygous)</li> </ul></td><td style=\"text-align: left;\">Seizure (HP:0001250): onset </td></tr>\n",
       "<tr><td style=\"text-align: left;\">Proband 6 from PMID 12112661 (UNKNOWN)</td><td style=\"text-align: left;\">Sulfite oxidase deficiency (OMIM:272300)</td><td style=\"text-align: left;\">NM_001032386.2:c.772A>C (homozygous)</td><td style=\"text-align: left;\">Seizure (HP:0001250): onset </td></tr>\n",
       "<tr><td style=\"text-align: left;\">Proband 7 from PMID 12112661 (UNKNOWN)</td><td style=\"text-align: left;\">Sulfite oxidase deficiency (OMIM:272300)</td><td style=\"text-align: left;\">NM_001032386.2:c.803G>A (homozygous)</td><td style=\"text-align: left;\">Seizure (HP:0001250): onset </td></tr>\n",
       "<tr><td style=\"text-align: left;\">Proband 8 from PMID 12112661 (UNKNOWN)</td><td style=\"text-align: left;\">Sulfite oxidase deficiency (OMIM:272300)</td><td style=\"text-align: left;\">NM_001032386.2:c.1200C>G (homozygous)</td><td style=\"text-align: left;\">Seizure (HP:0001250): onset </td></tr>\n",
       "<tr><td style=\"text-align: left;\">Proband 9 from PMID 12112661 (UNKNOWN)</td><td style=\"text-align: left;\">Sulfite oxidase deficiency (OMIM:272300)</td><td style=\"text-align: left;\">NM_001032386.2:c.1261C>T (homozygous)</td><td style=\"text-align: left;\">Seizure (HP:0001250): onset </td></tr>\n",
       "<tr><td style=\"text-align: left;\">Proband 10 from PMID 12112661 (UNKNOWN)</td><td style=\"text-align: left;\">Sulfite oxidase deficiency (OMIM:272300)</td><td style=\"text-align: left;\">NM_001032386.2:c.1084G>A (homozygous)</td><td style=\"text-align: left;\">Seizure (HP:0001250): onset </td></tr>\n",
       "<tr><td style=\"text-align: left;\">Proband 11 from PMID 12112661 (UNKNOWN)</td><td style=\"text-align: left;\">Sulfite oxidase deficiency (OMIM:272300)</td><td style=\"text-align: left;\"><ul> <li>NM_001032386.2:c.1097G>A (heterozygous)</li> <li>NM_001032386.2:c.1187A>G (heterozygous)</li> </ul></td><td style=\"text-align: left;\">Seizure (HP:0001250): onset </td></tr>\n",
       "<tr><td style=\"text-align: left;\">Proband 12 from PMID 12112661 (UNKNOWN)</td><td style=\"text-align: left;\">Sulfite oxidase deficiency (OMIM:272300)</td><td style=\"text-align: left;\">NM_001032386.2:c.1136A>G (homozygous)</td><td style=\"text-align: left;\">Seizure (HP:0001250): onset </td></tr>\n",
       "<tr><td style=\"text-align: left;\">Proband 13 from PMID 12112661 (UNKNOWN)</td><td style=\"text-align: left;\">Sulfite oxidase deficiency (OMIM:272300)</td><td style=\"text-align: left;\">NM_001032386.2:c.1348T>C (homozygous)</td><td style=\"text-align: left;\">excluded: Seizure (HP:0001250): onset </td></tr>\n",
       "<tr><td style=\"text-align: left;\">Proband 14 from PMID 11825068 (FEMALE)</td><td style=\"text-align: left;\">Sulfite oxidase deficiency (OMIM:272300)</td><td style=\"text-align: left;\">NM_001032386.2:c.650G>A (homozygous)</td><td style=\"text-align: left;\">Seizure (HP:0001250): onset ; Hypertonia (HP:0001276): onset ; Ectopia lentis (HP:0001083): onset ; Developmental regression (HP:0002376): onset ; Microcephaly (HP:0000252): onset ; Sulfocysteinuria (HP:0032350): onset ; excluded: Hypotonia (HP:0001252): onset ; excluded: Global developmental delay (HP:0001263): onset ; excluded: Abnormality of extrapyramidal motor function (HP:0002071): onset ; excluded: Xanthinuria (HP:0010934): onset ; excluded: Hyperuricosuria (HP:0003149): onset ; excluded: Decreased urinary urate (HP:0011935): onset </td></tr>\n",
       "<tr><td style=\"text-align: left;\">Proband 15 from PMID 12001203 (FEMALE; P2M15D)</td><td style=\"text-align: left;\">Sulfite oxidase deficiency (OMIM:272300)</td><td style=\"text-align: left;\">NM_001032386.2:c.400_403del (homozygous)</td><td style=\"text-align: left;\">Seizure (HP:0001250): onset ; Microcephaly (HP:0000252): onset ; Sulfocysteinuria (HP:0032350): onset ; Increased urinary taurine (HP:0003166): onset ; excluded: Hypertonia (HP:0001276): onset ; excluded: Hypotonia (HP:0001252): onset ; excluded: Global developmental delay (HP:0001263): onset ; excluded: Developmental regression (HP:0002376): onset ; excluded: Abnormality of extrapyramidal motor function (HP:0002071): onset </td></tr>\n",
       "<tr><td style=\"text-align: left;\">Proband 16 from PMID 12368985 (MALE)</td><td style=\"text-align: left;\">Sulfite oxidase deficiency (OMIM:272300)</td><td style=\"text-align: left;\"><ul> <li>NM_001032386.2:c.1200C>G (heterozygous)</li> <li>NM_001032386.2:c.650G>A (heterozygous)</li> </ul></td><td style=\"text-align: left;\">Seizure (HP:0001250): onset ; Hypertonia (HP:0001276): onset ; Ectopia lentis (HP:0001083): onset ; Hypotonia (HP:0001252): onset ; Microcephaly (HP:0000252): onset ; Sulfocysteinuria (HP:0032350): onset ; excluded: Global developmental delay (HP:0001263): onset ; excluded: Developmental regression (HP:0002376): onset ; excluded: Abnormality of extrapyramidal motor function (HP:0002071): onset ; excluded: Hypouricemia (HP:0003537): onset </td></tr>\n",
       "<tr><td style=\"text-align: left;\">Proband 17 from PMID 15952210 (MALE)</td><td style=\"text-align: left;\">Sulfite oxidase deficiency (OMIM:272300)</td><td style=\"text-align: left;\">NM_001032386.2:c.520del (homozygous)</td><td style=\"text-align: left;\">Seizure (HP:0001250): onset ; Hypertonia (HP:0001276): onset ; Hypotonia (HP:0001252): onset ; Global developmental delay (HP:0001263): onset ; Microcephaly (HP:0000252): onset ; Hypouricemia (HP:0003537): onset ; Sulfocysteinuria (HP:0032350): onset ; Decreased urinary urate (HP:0011935): onset ; excluded: Ectopia lentis (HP:0001083): onset ; excluded: Developmental regression (HP:0002376): onset ; excluded: Abnormality of extrapyramidal motor function (HP:0002071): onset ; excluded: Increased urinary hypoxanthine level (HP:0011814): onset ; excluded: Hyperuricosuria (HP:0003149): onset </td></tr>\n",
       "<tr><td style=\"text-align: left;\">Proband 18 from PMID 23414711 (FEMALE)</td><td style=\"text-align: left;\">Sulfite oxidase deficiency (OMIM:272300)</td><td style=\"text-align: left;\">NM_001032386.2:c.427C>A (homozygous)</td><td style=\"text-align: left;\">Hypotonia (HP:0001252): onset ; Global developmental delay (HP:0001263): onset ; Elevated circulating S-sulfocysteine concentration (HP:0034745): onset ; Hypohomocysteinemia (HP:0020222): onset ; Hypocystinemia (HP:0500152): onset ; Sulfocysteinuria (HP:0032350): onset ; Increased urinary taurine (HP:0003166): onset ; excluded: Seizure (HP:0001250): onset ; excluded: Hypertonia (HP:0001276): onset ; excluded: Ectopia lentis (HP:0001083): onset ; excluded: Developmental regression (HP:0002376): onset ; excluded: Abnormality of extrapyramidal motor function (HP:0002071): onset ; excluded: Hypertaurinemia (HP:0500181): onset ; excluded: Hyperhomocystinemia (HP:0002160): onset </td></tr>\n",
       "<tr><td style=\"text-align: left;\">Proband 19 from PMID 23452914 (FEMALE)</td><td style=\"text-align: left;\">Sulfite oxidase deficiency (OMIM:272300)</td><td style=\"text-align: left;\">NM_001032386.2:c.182T>C (homozygous)</td><td style=\"text-align: left;\">Ectopia lentis (HP:0001083): onset ; Hypotonia (HP:0001252): onset ; Abnormality of extrapyramidal motor function (HP:0002071): onset ; Elevated circulating S-sulfocysteine concentration (HP:0034745): onset ; Hypocystinemia (HP:0500152): onset ; Sulfocysteinuria (HP:0032350): onset ; Increased urinary taurine (HP:0003166): onset ; excluded: Seizure (HP:0001250): onset ; excluded: Hypertonia (HP:0001276): onset ; excluded: Global developmental delay (HP:0001263): onset ; excluded: Developmental regression (HP:0002376): onset ; excluded: Microcephaly (HP:0000252): onset ; excluded: Xanthinuria (HP:0010934): onset ; excluded: Increased urinary hypoxanthine level (HP:0011814): onset </td></tr>\n",
       "<tr><td style=\"text-align: left;\">Proband 20 from PMID 24938149 (FEMALE)</td><td style=\"text-align: left;\">Sulfite oxidase deficiency (OMIM:272300)</td><td style=\"text-align: left;\"><ul> <li>NM_001032386.2:c.1200C>G (heterozygous)</li> <li>NM_001032386.2:c.1355G>A (heterozygous)</li> </ul></td><td style=\"text-align: left;\">Seizure (HP:0001250): onset ; excluded: Hypertonia (HP:0001276): onset ; excluded: Hypotonia (HP:0001252): onset ; excluded: Global developmental delay (HP:0001263): onset ; excluded: Developmental regression (HP:0002376): onset ; excluded: Abnormality of extrapyramidal motor function (HP:0002071): onset ; excluded: Hypouricemia (HP:0003537): onset </td></tr>\n",
       "<tr><td style=\"text-align: left;\">Proband 21 from PMID 27289259 (MALE)</td><td style=\"text-align: left;\">Sulfite oxidase deficiency (OMIM:272300)</td><td style=\"text-align: left;\">NM_001032386.2:c.884G>A (homozygous)</td><td style=\"text-align: left;\">Seizure (HP:0001250): onset ; Hypertonia (HP:0001276): onset ; Hypotonia (HP:0001252): onset ; Global developmental delay (HP:0001263): onset ; Microcephaly (HP:0000252): onset ; Abnormality of extrapyramidal motor function (HP:0002071): onset ; Hypouricemia (HP:0003537): onset ; Sulfocysteinuria (HP:0032350): onset ; Xanthinuria (HP:0010934): onset ; excluded: Ectopia lentis (HP:0001083): onset ; excluded: Developmental regression (HP:0002376): onset </td></tr>\n",
       "<tr><td style=\"text-align: left;\">Proband 22 from PMID 27289259 (FEMALE)</td><td style=\"text-align: left;\">Sulfite oxidase deficiency (OMIM:272300)</td><td style=\"text-align: left;\">NM_001032386.2:c.884G>A (homozygous)</td><td style=\"text-align: left;\">Seizure (HP:0001250): onset ; Hypertonia (HP:0001276): onset ; Hypotonia (HP:0001252): onset ; Global developmental delay (HP:0001263): onset ; Microcephaly (HP:0000252): onset ; Abnormality of extrapyramidal motor function (HP:0002071): onset ; Hypouricemia (HP:0003537): onset ; Sulfocysteinuria (HP:0032350): onset ; Xanthinuria (HP:0010934): onset ; excluded: Ectopia lentis (HP:0001083): onset ; excluded: Developmental regression (HP:0002376): onset </td></tr>\n",
       "<tr><td style=\"text-align: left;\">Proband 23 from PMID 28725568 (MALE; P2Y8M)</td><td style=\"text-align: left;\">Sulfite oxidase deficiency (OMIM:272300)</td><td style=\"text-align: left;\"><ul> <li>NM_001032386.2:c.352C>T (heterozygous)</li> <li>NM_001032386.2:c.649C>G (heterozygous)</li> </ul></td><td style=\"text-align: left;\">Seizure (HP:0001250): onset ; Microcephaly (HP:0000252): onset ; Hypohomocysteinemia (HP:0020222): onset ; Hypocystinemia (HP:0500152): onset ; Hypouricemia (HP:0003537): onset ; Sulfocysteinuria (HP:0032350): onset ; Increased urinary taurine (HP:0003166): onset ; excluded: Global developmental delay (HP:0001263): onset ; excluded: Developmental regression (HP:0002376): onset ; excluded: Abnormality of extrapyramidal motor function (HP:0002071): onset ; excluded: Hyperhomocystinemia (HP:0002160): onset </td></tr>\n",
       "<tr><td style=\"text-align: left;\">Proband 24 from PMID 28629418 (FEMALE)</td><td style=\"text-align: left;\">Sulfite oxidase deficiency (OMIM:272300)</td><td style=\"text-align: left;\">NM_001032386.2:c.1200C>G (homozygous)</td><td style=\"text-align: left;\">Seizure (HP:0001250): onset ; Hypertonia (HP:0001276): onset ; Microcephaly (HP:0000252): onset ; Hypocystinemia (HP:0500152): onset ; excluded: Ectopia lentis (HP:0001083): onset ; excluded: Hypotonia (HP:0001252): onset ; excluded: Global developmental delay (HP:0001263): onset ; excluded: Developmental regression (HP:0002376): onset ; excluded: Abnormality of extrapyramidal motor function (HP:0002071): onset ; excluded: Hypouricemia (HP:0003537): onset </td></tr>\n",
       "<tr><td style=\"text-align: left;\">Proband 25 from PMID 31870341 (MALE)</td><td style=\"text-align: left;\">Sulfite oxidase deficiency (OMIM:272300)</td><td style=\"text-align: left;\"><ul> <li>NM_001032386.2:c.1096C>T (heterozygous)</li> <li>NM_001032386.2:c.1376G>A (heterozygous)</li> </ul></td><td style=\"text-align: left;\">Hypertonia (HP:0001276): onset ; Hypotonia (HP:0001252): onset ; Developmental regression (HP:0002376): onset ; Abnormality of extrapyramidal motor function (HP:0002071): onset ; Hypohomocysteinemia (HP:0020222): onset ; excluded: Seizure (HP:0001250): onset ; excluded: Ectopia lentis (HP:0001083): onset ; excluded: Global developmental delay (HP:0001263): onset ; excluded: Microcephaly (HP:0000252): onset ; excluded: Hyperhomocystinemia (HP:0002160): onset ; excluded: Hypouricemia (HP:0003537): onset </td></tr>\n",
       "<tr><td style=\"text-align: left;\">Proband 26 from PMID 31870341 (MALE)</td><td style=\"text-align: left;\">Sulfite oxidase deficiency (OMIM:272300)</td><td style=\"text-align: left;\"><ul> <li>NM_001032386.2:c.1096C>T (heterozygous)</li> <li>NM_001032386.2:c.1376G>A (heterozygous)</li> </ul></td><td style=\"text-align: left;\">Hypotonia (HP:0001252): onset ; Developmental regression (HP:0002376): onset ; Abnormality of extrapyramidal motor function (HP:0002071): onset ; Hypohomocysteinemia (HP:0020222): onset ; excluded: Seizure (HP:0001250): onset ; excluded: Hypertonia (HP:0001276): onset ; excluded: Ectopia lentis (HP:0001083): onset ; excluded: Global developmental delay (HP:0001263): onset ; excluded: Microcephaly (HP:0000252): onset ; excluded: Hyperhomocystinemia (HP:0002160): onset ; excluded: Hypouricemia (HP:0003537): onset </td></tr>\n",
       "<tr><td style=\"text-align: left;\">Proband 27 from PMID 31870341 (FEMALE)</td><td style=\"text-align: left;\">Sulfite oxidase deficiency (OMIM:272300)</td><td style=\"text-align: left;\"><ul> <li>NM_001032386.2:c.1096C>T (heterozygous)</li> <li>NM_001032386.2:c.1376G>A (heterozygous)</li> </ul></td><td style=\"text-align: left;\">Seizure (HP:0001250): onset ; Hypotonia (HP:0001252): onset ; Developmental regression (HP:0002376): onset ; Abnormality of extrapyramidal motor function (HP:0002071): onset ; Hypohomocysteinemia (HP:0020222): onset ; excluded: Hypertonia (HP:0001276): onset ; excluded: Ectopia lentis (HP:0001083): onset ; excluded: Global developmental delay (HP:0001263): onset ; excluded: Microcephaly (HP:0000252): onset ; excluded: Hyperhomocystinemia (HP:0002160): onset ; excluded: Hypouricemia (HP:0003537): onset </td></tr>\n",
       "<tr><td style=\"text-align: left;\">Proband 28 from PMID 33335014 (FEMALE; P9Y)</td><td style=\"text-align: left;\">Sulfite oxidase deficiency (OMIM:272300)</td><td style=\"text-align: left;\">NM_001032386.2:c.1521_1524del (homozygous)</td><td style=\"text-align: left;\">Seizure (HP:0001250): onset ; Hypertonia (HP:0001276): onset ; Global developmental delay (HP:0001263): onset ; Hypocystinemia (HP:0500152): onset ; Hypouricemia (HP:0003537): onset ; Sulfocysteinuria (HP:0032350): onset ; excluded: Hypotonia (HP:0001252): onset ; excluded: Developmental regression (HP:0002376): onset ; excluded: Microcephaly (HP:0000252): onset ; excluded: Abnormality of extrapyramidal motor function (HP:0002071): onset ; excluded: Xanthinuria (HP:0010934): onset ; excluded: Increased urinary hypoxanthine level (HP:0011814): onset </td></tr>\n",
       "<tr><td style=\"text-align: left;\">Proband 29 from PMID 33335014 (MALE; P1Y3M)</td><td style=\"text-align: left;\">Sulfite oxidase deficiency (OMIM:272300)</td><td style=\"text-align: left;\">NM_001032386.2:c.1521_1524del (homozygous)</td><td style=\"text-align: left;\">Seizure (HP:0001250): onset ; Hypotonia (HP:0001252): onset ; Global developmental delay (HP:0001263): onset ; Hypocystinemia (HP:0500152): onset ; Hypouricemia (HP:0003537): onset ; Sulfocysteinuria (HP:0032350): onset ; excluded: Hypertonia (HP:0001276): onset ; excluded: Developmental regression (HP:0002376): onset ; excluded: Microcephaly (HP:0000252): onset ; excluded: Abnormality of extrapyramidal motor function (HP:0002071): onset ; excluded: Xanthinuria (HP:0010934): onset ; excluded: Increased urinary hypoxanthine level (HP:0011814): onset </td></tr>\n",
       "<tr><td style=\"text-align: left;\">Proband 30 from PMID 31806255 (MALE)</td><td style=\"text-align: left;\">Sulfite oxidase deficiency (OMIM:272300)</td><td style=\"text-align: left;\">NM_001032386.2:c.1382A>T (homozygous)</td><td style=\"text-align: left;\">Hypotonia (HP:0001252): onset ; Developmental regression (HP:0002376): onset ; Abnormality of extrapyramidal motor function (HP:0002071): onset ; Hypohomocysteinemia (HP:0020222): onset ; Hypocystinemia (HP:0500152): onset ; Sulfocysteinuria (HP:0032350): onset ; Increased urinary taurine (HP:0003166): onset ; excluded: Seizure (HP:0001250): onset ; excluded: Hypertonia (HP:0001276): onset ; excluded: Ectopia lentis (HP:0001083): onset ; excluded: Global developmental delay (HP:0001263): onset ; excluded: Microcephaly (HP:0000252): onset ; excluded: Hyperhomocystinemia (HP:0002160): onset ; excluded: Hypouricemia (HP:0003537): onset ; excluded: Xanthinuria (HP:0010934): onset ; excluded: Increased urinary hypoxanthine level (HP:0011814): onset ; excluded: Hyperuricosuria (HP:0003149): onset ; excluded: Decreased urinary urate (HP:0011935): onset </td></tr>\n",
       "<tr><td style=\"text-align: left;\">Proband 31 from PMID 31806255 (MALE)</td><td style=\"text-align: left;\">Sulfite oxidase deficiency (OMIM:272300)</td><td style=\"text-align: left;\">NM_001032386.2:c.1382A>T (homozygous)</td><td style=\"text-align: left;\">Seizure (HP:0001250): onset ; Hypotonia (HP:0001252): onset ; Developmental regression (HP:0002376): onset ; Hypohomocysteinemia (HP:0020222): onset ; Hypocystinemia (HP:0500152): onset ; Sulfocysteinuria (HP:0032350): onset ; Increased urinary taurine (HP:0003166): onset ; excluded: Hypertonia (HP:0001276): onset ; excluded: Ectopia lentis (HP:0001083): onset ; excluded: Global developmental delay (HP:0001263): onset ; excluded: Microcephaly (HP:0000252): onset ; excluded: Abnormality of extrapyramidal motor function (HP:0002071): onset ; excluded: Hyperhomocystinemia (HP:0002160): onset ; excluded: Xanthinuria (HP:0010934): onset ; excluded: Increased urinary hypoxanthine level (HP:0011814): onset ; excluded: Hyperuricosuria (HP:0003149): onset ; excluded: Decreased urinary urate (HP:0011935): onset </td></tr>\n",
       "<tr><td style=\"text-align: left;\">Proband 32 from PMID 34025712 (MALE; P9M)</td><td style=\"text-align: left;\">Sulfite oxidase deficiency (OMIM:272300)</td><td style=\"text-align: left;\"><ul> <li>NM_001032386.2:c.475G>T (heterozygous)</li> <li>NM_001032386.2:c.1201A>G (heterozygous)</li> </ul></td><td style=\"text-align: left;\">Seizure (HP:0001250): onset ; Hypotonia (HP:0001252): onset ; Microcephaly (HP:0000252): onset ; Hypohomocysteinemia (HP:0020222): onset ; Sulfocysteinuria (HP:0032350): onset ; excluded: Hypertonia (HP:0001276): onset ; excluded: Ectopia lentis (HP:0001083): onset ; excluded: Global developmental delay (HP:0001263): onset ; excluded: Developmental regression (HP:0002376): onset ; excluded: Abnormality of extrapyramidal motor function (HP:0002071): onset ; excluded: Hyperhomocystinemia (HP:0002160): onset ; excluded: Hypouricemia (HP:0003537): onset </td></tr>\n",
       "<tr><td style=\"text-align: left;\">Proband 33 from PMID 33405344 (FEMALE)</td><td style=\"text-align: left;\">Sulfite oxidase deficiency (OMIM:272300)</td><td style=\"text-align: left;\"><ul> <li>NM_001032386.2:c.1200C>G (heterozygous)</li> <li>NM_001032386.2:c.1549_1574dup (heterozygous)</li> </ul></td><td style=\"text-align: left;\">Seizure (HP:0001250): onset ; Abnormality of extrapyramidal motor function (HP:0002071): onset ; Hypohomocysteinemia (HP:0020222): onset ; Hypouricemia (HP:0003537): onset ; excluded: Global developmental delay (HP:0001263): onset ; excluded: Developmental regression (HP:0002376): onset ; excluded: Microcephaly (HP:0000252): onset ; excluded: Hyperhomocystinemia (HP:0002160): onset </td></tr>\n",
       "<tr><td style=\"text-align: left;\">Proband 34 from PMID 33405344 (MALE; P1M)</td><td style=\"text-align: left;\">Sulfite oxidase deficiency (OMIM:272300)</td><td style=\"text-align: left;\"><ul> <li>NM_001032386.2:c.1200C>G (heterozygous)</li> <li>NM_001032386.2:c.1549_1574dup (heterozygous)</li> </ul></td><td style=\"text-align: left;\">Seizure (HP:0001250): onset ; excluded: Hypertonia (HP:0001276): onset ; excluded: Hypotonia (HP:0001252): onset ; excluded: Global developmental delay (HP:0001263): onset ; excluded: Developmental regression (HP:0002376): onset ; excluded: Abnormality of extrapyramidal motor function (HP:0002071): onset </td></tr>\n",
       "<tr><td style=\"text-align: left;\">Proband 35 our patient (MALE; P4Y2M)</td><td style=\"text-align: left;\">Sulfite oxidase deficiency (OMIM:272300)</td><td style=\"text-align: left;\"><ul> <li>NM_001032386.2:c.1200C>G (heterozygous)</li> <li>NM_001032386.2:c.205G>C (heterozygous)</li> </ul></td><td style=\"text-align: left;\">Ectopia lentis (HP:0001083): onset ; Hypohomocysteinemia (HP:0020222): onset ; Sulfocysteinuria (HP:0032350): onset ; Xanthinuria (HP:0010934): onset ; Increased urinary hypoxanthine level (HP:0011814): onset ; excluded: Seizure (HP:0001250): onset ; excluded: Hypertonia (HP:0001276): onset ; excluded: Hypotonia (HP:0001252): onset ; excluded: Global developmental delay (HP:0001263): onset ; excluded: Developmental regression (HP:0002376): onset ; excluded: Microcephaly (HP:0000252): onset ; excluded: Abnormality of extrapyramidal motor function (HP:0002071): onset ; excluded: Hyperhomocystinemia (HP:0002160): onset ; excluded: Hyperuricosuria (HP:0003149): onset ; excluded: Decreased urinary urate (HP:0011935): onset </td></tr>\n",
       "</table>"
      ],
      "text/plain": [
       "<IPython.core.display.HTML object>"
      ]
     },
     "metadata": {},
     "output_type": "display_data"
    }
   ],
   "source": [
    "table = IndividualTable(cvalidator.get_error_free_individual_list())\n",
    "display(HTML(table.to_html()))"
   ]
  },
  {
   "cell_type": "code",
   "execution_count": 5,
   "metadata": {},
   "outputs": [
    {
     "name": "stdout",
     "output_type": "stream",
     "text": [
      "[pyphetools] Ingested 35 GA4GH phenopackets.\n",
      "[INFO] Extracted 35 from 35 phenopackets with OMIM:272300\n",
      "\n",
      "\tSulfite oxidase deficiency (OMIM:272300): n=35\n",
      "We found a total of 20 unique HPO terms\n",
      "Extracted disease: Sulfite oxidase deficiency (OMIM:272300)\n",
      "Wrote HPOA disease file to OMIM-272300.tab\n"
     ]
    }
   ],
   "source": [
    "pmid=\"PMID:36303223\"\n",
    "df = timporter.create_hpoa_from_phenopackets(pmid=pmid, mode_of_inheritance=Moi.AR, target=\"OMIM:272300\")"
   ]
  }
 ],
 "metadata": {
  "kernelspec": {
   "display_name": "ps24venv",
   "language": "python",
   "name": "python3"
  },
  "language_info": {
   "codemirror_mode": {
    "name": "ipython",
    "version": 3
   },
   "file_extension": ".py",
   "mimetype": "text/x-python",
   "name": "python",
   "nbconvert_exporter": "python",
   "pygments_lexer": "ipython3",
   "version": "3.12.4"
  }
 },
 "nbformat": 4,
 "nbformat_minor": 2
}
