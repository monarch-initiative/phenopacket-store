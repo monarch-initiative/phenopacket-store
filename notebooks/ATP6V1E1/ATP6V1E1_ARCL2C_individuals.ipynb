{
 "cells": [
  {
   "cell_type": "markdown",
   "metadata": {},
   "source": [
    "# ATP6V1E1\n",
    "[autosomal recessive cutis laxa type IIC (ARCL2C)](https://omim.org/entry/617402) is caused by homozygous mutation in the ATP6V1E1 gene."
   ]
  },
  {
   "cell_type": "code",
   "execution_count": 6,
   "metadata": {},
   "outputs": [
    {
     "name": "stdout",
     "output_type": "stream",
     "text": [
      "Using pyphetools version 0.9.78\n"
     ]
    }
   ],
   "source": [
    "from pyphetools.creation import TemplateImporter\n",
    "from pyphetools.visualization import IndividualTable, QcVisualizer\n",
    "from IPython.display import display, HTML\n",
    "import pyphetools\n",
    "print(f\"Using pyphetools version {pyphetools.__version__}\")"
   ]
  },
  {
   "cell_type": "code",
   "execution_count": 7,
   "metadata": {},
   "outputs": [],
   "source": [
    "template = \"input/ATP6V1E1_ARCL2C_individuals.xlsx\"\n",
    "hp_json = \"../hp.json\"\n",
    "created_by = \"0000-0002-0736-9199\""
   ]
  },
  {
   "cell_type": "code",
   "execution_count": 8,
   "metadata": {},
   "outputs": [
    {
     "name": "stdout",
     "output_type": "stream",
     "text": [
      "HPO version 2024-04-04\n",
      "Created encoders for 76 fields\n",
      "Importing OMIM:617402, Cutis laxa, autosomal recessive, type IIC, HGNC:857, ATP6V1E1,  NM_001696.4\n",
      "[INFO] encoding variant \"c.383T>C\"\n",
      "https://rest.variantvalidator.org/VariantValidator/variantvalidator/hg38/NM_001696.4%3Ac.383T>C/NM_001696.4?content-type=application%2Fjson\n",
      "[INFO] encoding variant \"c.634C>T\"\n",
      "https://rest.variantvalidator.org/VariantValidator/variantvalidator/hg38/NM_001696.4%3Ac.634C>T/NM_001696.4?content-type=application%2Fjson\n",
      "We output 6 GA4GH phenopackets to the directory phenopackets\n"
     ]
    }
   ],
   "source": [
    "timporter = TemplateImporter(template=template, hp_json=hp_json, created_by=created_by)\n",
    "individual_list, cvalidator = timporter.import_phenopackets_from_template()"
   ]
  },
  {
   "cell_type": "code",
   "execution_count": 9,
   "metadata": {},
   "outputs": [
    {
     "data": {
      "text/html": [
       "<h2>Cohort validation</h2>\n",
       "<p>Errors found with 1 of 6 phenopackets.</p>\n",
       "<table style=\"border: 2px solid black; align: \"left\">\n",
       "<caption>Error counts</caption>\n",
       "<tr><th style=\"text-align: left;font-weight: bold;\">Level</th><th style=\"text-align: left;font-weight: bold;\">Error category</th><th style=\"text-align: left;font-weight: bold;\">Count</th></tr>\n",
       "<tr><td style=\"text-align: left;\">WARNING</td><td style=\"text-align: left;\">REDUNDANT</td><td style=\"text-align: left;\">1</td></tr>\n",
       "</table>\n",
       "<p>A total of 1 issues were fixed and no individual was removed from the cohort.</p>"
      ],
      "text/plain": [
       "<IPython.core.display.HTML object>"
      ]
     },
     "metadata": {},
     "output_type": "display_data"
    }
   ],
   "source": [
    "qc = QcVisualizer(cohort_validator=cvalidator)\n",
    "display(HTML(qc.to_summary_html()))"
   ]
  },
  {
   "cell_type": "code",
   "execution_count": 10,
   "metadata": {},
   "outputs": [
    {
     "data": {
      "text/html": [
       "<table style=\"border: 2px solid black; align: \"left\">\n",
       "<caption>6 phenopackets - PMID:27023906 (n=2); PMID:28065471 (n=4)</caption>\n",
       "<tr><th style=\"text-align: left;font-weight: bold;\">Individual</th><th style=\"text-align: left;font-weight: bold;\">Disease</th><th style=\"text-align: left;font-weight: bold;\">Genotype</th><th style=\"text-align: left;font-weight: bold;\">Phenotypic features</th></tr>\n",
       "<tr><td style=\"text-align: left;\">10DG0257 Individual 1 (MALE; P1Y)</td><td style=\"text-align: left;\">Cutis laxa, autosomal recessive, type IIC (OMIM:617402)</td><td style=\"text-align: left;\">NM_001696.4:c.634C>T (homozygous)</td><td style=\"text-align: left;\">Cutis laxa (HP:0000973); Prominent superficial veins (HP:0001015); Median cleft palate (HP:0009099); Premature sagging cheeks (HP:0034273); Dental crowding (HP:0000678); Anteverted nares (HP:0000463); Convex nasal ridge (HP:0000444); Long philtrum (HP:0000343); Small forehead (HP:0000350); Blepharophimosis (HP:0000581); Periorbital fullness (HP:0000629); Entropion (HP:0000621); Strabismus (HP:0000486); Overlapping toe (HP:0001845); Cryptorchidism (HP:0000028); Micropenis (HP:0000054); Camptodactyly (HP:0012385); Gowers sign (HP:0003391); excluded: Narrow mouth (HP:0000160); excluded: Patent foramen ovale (HP:0001655); excluded: Patent ductus arteriosus after birth at term (HP:0011648); excluded: Oligohydramnios (HP:0001562)</td></tr>\n",
       "<tr><td style=\"text-align: left;\">10DG0257 Individual 2 (MALE; P2Y)</td><td style=\"text-align: left;\">Cutis laxa, autosomal recessive, type IIC (OMIM:617402)</td><td style=\"text-align: left;\">NM_001696.4:c.634C>T (homozygous)</td><td style=\"text-align: left;\">Oligohydramnios (HP:0001562); Cutis laxa (HP:0000973); Prominent superficial veins (HP:0001015); Median cleft palate (HP:0009099); Premature sagging cheeks (HP:0034273); Dental crowding (HP:0000678); Narrow mouth (HP:0000160); Anteverted nares (HP:0000463); Convex nasal ridge (HP:0000444); Long philtrum (HP:0000343); Small forehead (HP:0000350); Blepharophimosis (HP:0000581); Periorbital fullness (HP:0000629); Entropion (HP:0000621); Strabismus (HP:0000486); Muscle weakness (HP:0001324); Overlapping toe (HP:0001845); Patent foramen ovale (HP:0001655); Patent ductus arteriosus after birth at term (HP:0011648); Tricuspid regurgitation (HP:0005180)</td></tr>\n",
       "<tr><td style=\"text-align: left;\">PI:1 (FEMALE; P5M)</td><td style=\"text-align: left;\">Cutis laxa, autosomal recessive, type IIC (OMIM:617402)</td><td style=\"text-align: left;\">NM_001696.4:c.383T>C (homozygous)</td><td style=\"text-align: left;\">Cutis laxa (HP:0000973); Triangular face (HP:0000325); Pointed chin (HP:0000307); Wide nasal base (HP:0012810); Convex nasal ridge (HP:0000444); Small forehead (HP:0000350); Low-set ears (HP:0000369); Entropion (HP:0000621); Hip dysplasia (HP:0001385); Joint contracture (HP:0034392); Hypotonia (HP:0001252); Thoracic aortic aneurysm (HP:0012727); Hypertelorism (HP:0000316); excluded: Kyphoscoliosis (HP:0002751); excluded: Disproportionate tall stature (HP:0001519)</td></tr>\n",
       "<tr><td style=\"text-align: left;\">PI:2 (FEMALE; n/a)</td><td style=\"text-align: left;\">Cutis laxa, autosomal recessive, type IIC (OMIM:617402)</td><td style=\"text-align: left;\">NM_001696.4:c.383T>C (homozygous)</td><td style=\"text-align: left;\">Triangular face (HP:0000325); Pointed chin (HP:0000307); Wide nasal base (HP:0012810); Convex nasal ridge (HP:0000444); Small forehead (HP:0000350); Low-set ears (HP:0000369); Entropion (HP:0000621); Hypertelorism (HP:0000316); excluded: Cutis laxa (HP:0000973); excluded: Joint contracture (HP:0034392); excluded: Kyphoscoliosis (HP:0002751); excluded: Disproportionate tall stature (HP:0001519); excluded: Spontaneous pneumothorax (HP:0002108); excluded: Thoracic aortic aneurysm (HP:0012727)</td></tr>\n",
       "<tr><td style=\"text-align: left;\">PII:1 (FEMALE; P10Y)</td><td style=\"text-align: left;\">Cutis laxa, autosomal recessive, type IIC (OMIM:617402)</td><td style=\"text-align: left;\">NM_001696.4:c.634C>T (homozygous)</td><td style=\"text-align: left;\">Cutis laxa (HP:0000973); Triangular face (HP:0000325); Pointed chin (HP:0000307); Wide nasal base (HP:0012810); Convex nasal ridge (HP:0000444); Small forehead (HP:0000350); Low-set ears (HP:0000369); Entropion (HP:0000621); Hip dysplasia (HP:0001385); Hypotonia (HP:0001252); Kyphoscoliosis (HP:0002751); Disproportionate tall stature (HP:0001519); Spontaneous pneumothorax (HP:0002108); Hypertelorism (HP:0000316); Type II transferrin isoform profile (HP:0012301); excluded: Joint contracture (HP:0034392); excluded: Thoracic aortic aneurysm (HP:0012727)</td></tr>\n",
       "<tr><td style=\"text-align: left;\">PII:2 (MALE; P9Y)</td><td style=\"text-align: left;\">Cutis laxa, autosomal recessive, type IIC (OMIM:617402)</td><td style=\"text-align: left;\">NM_001696.4:c.634C>T (homozygous)</td><td style=\"text-align: left;\">Cutis laxa (HP:0000973); Triangular face (HP:0000325); Pointed chin (HP:0000307); Wide nasal base (HP:0012810); Convex nasal ridge (HP:0000444); Small forehead (HP:0000350); Low-set ears (HP:0000369); Entropion (HP:0000621); Hypotonia (HP:0001252); Kyphoscoliosis (HP:0002751); Disproportionate tall stature (HP:0001519); Spontaneous pneumothorax (HP:0002108); Hypertelorism (HP:0000316); Type II transferrin isoform profile (HP:0012301); excluded: Hip dysplasia (HP:0001385); excluded: Joint contracture (HP:0034392); excluded: Thoracic aortic aneurysm (HP:0012727)</td></tr>\n",
       "</table>"
      ],
      "text/plain": [
       "<IPython.core.display.HTML object>"
      ]
     },
     "metadata": {},
     "output_type": "display_data"
    }
   ],
   "source": [
    "table = IndividualTable(cvalidator.get_error_free_individual_list())\n",
    "display(HTML(table.to_html()))"
   ]
  },
  {
   "cell_type": "code",
   "execution_count": 11,
   "metadata": {},
   "outputs": [
    {
     "name": "stdout",
     "output_type": "stream",
     "text": [
      "[pyphetools] Ingested 6 GA4GH phenopackets.\n",
      "\tCutis laxa, autosomal recessive, type IIC (OMIM:617402): n=6\n",
      "We found a total of 37 unique HPO terms\n",
      "Extracted disease: Cutis laxa, autosomal recessive, type IIC (OMIM:617402)\n",
      "Wrote HPOA disease file to OMIM-617402.tab\n"
     ]
    }
   ],
   "source": [
    "pmid = \"PMID:27023906\"\n",
    "df = timporter.create_hpoa_from_phenopackets(pmid=pmid, moi=\"Autosomal recessive\")"
   ]
  }
 ],
 "metadata": {
  "kernelspec": {
   "display_name": "ps24venv",
   "language": "python",
   "name": "python3"
  },
  "language_info": {
   "codemirror_mode": {
    "name": "ipython",
    "version": 3
   },
   "file_extension": ".py",
   "mimetype": "text/x-python",
   "name": "python",
   "nbconvert_exporter": "python",
   "pygments_lexer": "ipython3",
   "version": "3.9.6"
  }
 },
 "nbformat": 4,
 "nbformat_minor": 2
}
