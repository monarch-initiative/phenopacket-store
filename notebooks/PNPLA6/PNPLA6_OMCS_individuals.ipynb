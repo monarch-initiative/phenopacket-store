{
 "cells": [
  {
   "cell_type": "markdown",
   "metadata": {},
   "source": [
    "# PNPLA6\n",
    "[Oliver-McFarlane syndrome (OMCS)](https://omim.org/entry/275400) is caused by compound heterozygous mutation in the PNPLA6."
   ]
  },
  {
   "cell_type": "code",
   "execution_count": 3,
   "metadata": {},
   "outputs": [
    {
     "name": "stdout",
     "output_type": "stream",
     "text": [
      "Using pyphetools version 0.9.86\n"
     ]
    }
   ],
   "source": [
    "from pyphetools.creation import TemplateImporter\n",
    "from pyphetools.visualization import IndividualTable, QcVisualizer\n",
    "from IPython.display import display, HTML\n",
    "import pyphetools\n",
    "print(f\"Using pyphetools version {pyphetools.__version__}\")"
   ]
  },
  {
   "cell_type": "code",
   "execution_count": 5,
   "metadata": {},
   "outputs": [],
   "source": [
    "template = \"input/PNPLA6_OMCS_individuals.xlsx\"\n",
    "created_by = \"0000-0002-0736-9199\""
   ]
  },
  {
   "cell_type": "code",
   "execution_count": 10,
   "metadata": {},
   "outputs": [
    {
     "name": "stdout",
     "output_type": "stream",
     "text": [
      "HPO version 2024-04-26\n",
      "Created encoders for 57 fields\n",
      "Importing OMIM:275400, Oliver-McFarlane syndrome, HGNC:16268, PNPLA6,  NM_001166114.2\n",
      "We output 7 GA4GH phenopackets to the directory phenopackets\n"
     ]
    }
   ],
   "source": [
    "duplication_set = {\"dup(Ex14–20)\"}\n",
    "timporter = TemplateImporter(template=template,  created_by=created_by)\n",
    "individual_list, cvalidator = timporter.import_phenopackets_from_template(duplications=duplication_set)"
   ]
  },
  {
   "cell_type": "code",
   "execution_count": 11,
   "metadata": {},
   "outputs": [
    {
     "data": {
      "text/html": [
       "<h2>Cohort validation</h2>\n",
       "<p>No errors found for the cohort with 7 individuals</p>"
      ],
      "text/plain": [
       "<IPython.core.display.HTML object>"
      ]
     },
     "metadata": {},
     "output_type": "display_data"
    }
   ],
   "source": [
    "qc = QcVisualizer(cohort_validator=cvalidator)\n",
    "display(HTML(qc.to_summary_html()))"
   ]
  },
  {
   "cell_type": "code",
   "execution_count": 12,
   "metadata": {},
   "outputs": [
    {
     "data": {
      "text/html": [
       "<table style=\"border: 2px solid black; align: \"left\">\n",
       "<caption>7 phenopackets - PMID:30097146 (n=1); PMID:25480986 (n=6)</caption>\n",
       "<tr><th style=\"text-align: left;font-weight: bold;\">Individual</th><th style=\"text-align: left;font-weight: bold;\">Disease</th><th style=\"text-align: left;font-weight: bold;\">Genotype</th><th style=\"text-align: left;font-weight: bold;\">Phenotypic features</th></tr>\n",
       "<tr><td style=\"text-align: left;\">patient (FEMALE; P18Y)</td><td style=\"text-align: left;\">Oliver-McFarlane syndrome (OMIM:275400)</td><td style=\"text-align: left;\">NM_001166114.2:c.3620C>A (homozygous)</td><td style=\"text-align: left;\"><b>P12Y</b>: Cerebellar vermis atrophy (HP:0006855)<br/><b>P18Y</b>: Short stature (HP:0004322); Nystagmus (HP:0000639); Retinal degeneration (HP:0000546); Chorioretinal atrophy (HP:0000533); High myopia (HP:0011003); Gait ataxia (HP:0002066); Hyporeflexia (HP:0001265); Long eyelashes (HP:0000527); Intention tremor (HP:0002080); Pes cavus (HP:0001761); Dysarthria (HP:0001260); Unsteady gait (HP:0002317); Sparse hair (HP:0008070); Peripheral axonal neuropathy (HP:0003477)<br/>Hypogonadism (HP:0000135); Reduced circulating prolactin concentration (HP:0008202); Hypothyroidism (HP:0000821); Reduced circulating growth hormone concentration (HP:0034323); excluded: Intellectual disability (HP:0001249); excluded: Polydactyly (HP:0010442)</td></tr>\n",
       "<tr><td style=\"text-align: left;\">individual A:1 (FEMALE; P6Y8M)</td><td style=\"text-align: left;\">Oliver-McFarlane syndrome (OMIM:275400)</td><td style=\"text-align: left;\"><ul> <li>NM_001166114.2:c.3409C>T (heterozygous)</li> <li>NM_001166114.2:c.3496G>A (heterozygous)</li> </ul></td><td style=\"text-align: left;\">Short stature (HP:0004322); Chorioretinal atrophy (HP:0000533); Anterior pituitary hypoplasia (HP:0010627); Long eyelashes (HP:0000527); Hypothyroidism (HP:0000821); Reduced circulating growth hormone concentration (HP:0034323); Delayed skeletal maturation (HP:0002750); excluded: Obesity (HP:0001513); excluded: Intellectual disability (HP:0001249); excluded: Alopecia (HP:0001596); excluded: Peripheral axonal neuropathy (HP:0003477); excluded: Ataxia (HP:0001251); excluded: Spastic paraplegia (HP:0001258); excluded: Polydactyly (HP:0010442)</td></tr>\n",
       "<tr><td style=\"text-align: left;\">individual A:2 (MALE; P5Y7M)</td><td style=\"text-align: left;\">Oliver-McFarlane syndrome (OMIM:275400)</td><td style=\"text-align: left;\"><ul> <li>NM_001166114.2:c.3058_3061dup (heterozygous)</li> <li>NM_001166114.2:c.3355G>A (heterozygous)</li> </ul></td><td style=\"text-align: left;\">Short stature (HP:0004322); Chorioretinal atrophy (HP:0000533); Anterior pituitary hypoplasia (HP:0010627); Long eyelashes (HP:0000527); Hypothyroidism (HP:0000821); Reduced circulating growth hormone concentration (HP:0034323); Delayed skeletal maturation (HP:0002750); excluded: Obesity (HP:0001513); excluded: Intellectual disability (HP:0001249); excluded: Micropenis (HP:0000054); excluded: Alopecia (HP:0001596); excluded: Peripheral axonal neuropathy (HP:0003477); excluded: Ataxia (HP:0001251); excluded: Spastic paraplegia (HP:0001258); excluded: Polydactyly (HP:0010442)</td></tr>\n",
       "<tr><td style=\"text-align: left;\">individual B:1 (MALE; P2Y7M)</td><td style=\"text-align: left;\">Oliver-McFarlane syndrome (OMIM:275400)</td><td style=\"text-align: left;\"><ul> <li>NM_001166114.2:c.1946+2T>G (heterozygous)</li> <li>NM_001166114.2:c.3614T>C (heterozygous)</li> </ul></td><td style=\"text-align: left;\">Short stature (HP:0004322); Chorioretinal atrophy (HP:0000533); Anterior pituitary hypoplasia (HP:0010627); Long eyelashes (HP:0000527); Micropenis (HP:0000054); Hypothyroidism (HP:0000821); Reduced circulating growth hormone concentration (HP:0034323); Peripheral axonal neuropathy (HP:0003477); Delayed skeletal maturation (HP:0002750); excluded: Obesity (HP:0001513); excluded: Intellectual disability (HP:0001249); excluded: Alopecia (HP:0001596); excluded: Ataxia (HP:0001251); excluded: Spastic paraplegia (HP:0001258); excluded: Polydactyly (HP:0010442)</td></tr>\n",
       "<tr><td style=\"text-align: left;\">individual C:1 (MALE; P28Y4M)</td><td style=\"text-align: left;\">Oliver-McFarlane syndrome (OMIM:275400)</td><td style=\"text-align: left;\"><ul> <li>dup(Ex14–20): chromosomal_duplication (SO:1000037)</li> <li>NM_001166114.2:c.3614T>C (heterozygous)</li> </ul></td><td style=\"text-align: left;\">Short stature (HP:0004322); Chorioretinal atrophy (HP:0000533); Anterior pituitary hypoplasia (HP:0010627); Long eyelashes (HP:0000527); Micropenis (HP:0000054); Hypogonadism (HP:0000135); Reduced circulating growth hormone concentration (HP:0034323); Alopecia (HP:0001596); excluded: Obesity (HP:0001513); excluded: Intellectual disability (HP:0001249); excluded: Hypothyroidism (HP:0000821); excluded: Peripheral axonal neuropathy (HP:0003477); excluded: Ataxia (HP:0001251); excluded: Spastic paraplegia (HP:0001258); excluded: Polydactyly (HP:0010442)</td></tr>\n",
       "<tr><td style=\"text-align: left;\">individual D:1 (MALE; P8Y)</td><td style=\"text-align: left;\">Oliver-McFarlane syndrome (OMIM:275400)</td><td style=\"text-align: left;\"><ul> <li>NM_001166114.2:c.3058_3061dup (heterozygous)</li> <li>NM_001166114.2:c.3355G>A (heterozygous)</li> </ul></td><td style=\"text-align: left;\">Short stature (HP:0004322); Chorioretinal atrophy (HP:0000533); Anterior pituitary hypoplasia (HP:0010627); Long eyelashes (HP:0000527); Micropenis (HP:0000054); Hypothyroidism (HP:0000821); Reduced circulating growth hormone concentration (HP:0034323); Delayed skeletal maturation (HP:0002750); excluded: Obesity (HP:0001513); excluded: Intellectual disability (HP:0001249); excluded: Alopecia (HP:0001596); excluded: Peripheral axonal neuropathy (HP:0003477); excluded: Ataxia (HP:0001251); excluded: Spastic paraplegia (HP:0001258); excluded: Polydactyly (HP:0010442)</td></tr>\n",
       "<tr><td style=\"text-align: left;\">individual E:1 (MALE; P21Y8M)</td><td style=\"text-align: left;\">Oliver-McFarlane syndrome (OMIM:275400)</td><td style=\"text-align: left;\"><ul> <li>NM_001166114.2:c.2149G>C (heterozygous)</li> <li>NM_001166114.2:c.3058_3061dup (heterozygous)</li> </ul></td><td style=\"text-align: left;\">Short stature (HP:0004322); Chorioretinal atrophy (HP:0000533); Intellectual disability (HP:0001249); Anterior pituitary hypoplasia (HP:0010627); Long eyelashes (HP:0000527); Micropenis (HP:0000054); Hypogonadism (HP:0000135); Hypothyroidism (HP:0000821); Reduced circulating growth hormone concentration (HP:0034323); Alopecia (HP:0001596); Peripheral axonal neuropathy (HP:0003477); Delayed skeletal maturation (HP:0002750); Ataxia (HP:0001251); Spastic paraplegia (HP:0001258); excluded: Obesity (HP:0001513); excluded: Polydactyly (HP:0010442)</td></tr>\n",
       "</table>"
      ],
      "text/plain": [
       "<IPython.core.display.HTML object>"
      ]
     },
     "metadata": {},
     "output_type": "display_data"
    }
   ],
   "source": [
    "table = IndividualTable(cvalidator.get_error_free_individual_list())\n",
    "display(HTML(table.to_html()))"
   ]
  },
  {
   "cell_type": "code",
   "execution_count": 13,
   "metadata": {},
   "outputs": [
    {
     "name": "stdout",
     "output_type": "stream",
     "text": [
      "[pyphetools] Ingested 7 GA4GH phenopackets.\n",
      "[INFO] Extracted 7 from 7 phenopackets with OMIM:275400\n",
      "\n",
      "\tOliver-McFarlane syndrome (OMIM:275400): n=7\n",
      "We found a total of 28 unique HPO terms\n",
      "Extracted disease: Oliver-McFarlane syndrome (OMIM:275400)\n",
      "Wrote HPOA disease file to OMIM-275400.tab\n"
     ]
    }
   ],
   "source": [
    "pmid = \"PMID:25480986\"\n",
    "df = timporter.create_hpoa_from_phenopackets(pmid=pmid, moi=\"Autosomal recessive\", target=\"OMIM:275400\")"
   ]
  }
 ],
 "metadata": {
  "kernelspec": {
   "display_name": "ps24venv",
   "language": "python",
   "name": "python3"
  },
  "language_info": {
   "codemirror_mode": {
    "name": "ipython",
    "version": 3
   },
   "file_extension": ".py",
   "mimetype": "text/x-python",
   "name": "python",
   "nbconvert_exporter": "python",
   "pygments_lexer": "ipython3",
   "version": "3.9.6"
  }
 },
 "nbformat": 4,
 "nbformat_minor": 2
}
