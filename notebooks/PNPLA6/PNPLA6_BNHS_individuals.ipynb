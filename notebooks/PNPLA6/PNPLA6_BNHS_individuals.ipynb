{
 "cells": [
  {
   "cell_type": "markdown",
   "metadata": {},
   "source": [
    "# PNPLA6\n",
    "[Boucher-Neuhauser syndrome (BNHS)](https://omim.org/entry/215470) is caused by homozygous or compound heterozygous mutation in the PNPLA6 gene."
   ]
  },
  {
   "cell_type": "code",
   "execution_count": 3,
   "metadata": {},
   "outputs": [
    {
     "name": "stdout",
     "output_type": "stream",
     "text": [
      "Using pyphetools version 0.9.86\n"
     ]
    }
   ],
   "source": [
    "from pyphetools.creation import TemplateImporter\n",
    "from pyphetools.visualization import IndividualTable, QcVisualizer\n",
    "from IPython.display import display, HTML\n",
    "import pyphetools\n",
    "print(f\"Using pyphetools version {pyphetools.__version__}\")"
   ]
  },
  {
   "cell_type": "code",
   "execution_count": 5,
   "metadata": {},
   "outputs": [],
   "source": [
    "template = \"input/PNPLA6_BNHS_individuals.xlsx\"\n",
    "created_by = \"0000-0002-0736-9199\""
   ]
  },
  {
   "cell_type": "code",
   "execution_count": 10,
   "metadata": {},
   "outputs": [
    {
     "name": "stdout",
     "output_type": "stream",
     "text": [
      "HPO version 2024-04-26\n",
      "Created encoders for 45 fields\n",
      "Importing OMIM:215470, Boucher-Neuhauser syndrome, HGNC:16268, PNPLA6,  NM_001166114.2\n",
      "We output 10 GA4GH phenopackets to the directory phenopackets\n"
     ]
    }
   ],
   "source": [
    "timporter = TemplateImporter(template=template,  created_by=created_by)\n",
    "individual_list, cvalidator = timporter.import_phenopackets_from_template()"
   ]
  },
  {
   "cell_type": "code",
   "execution_count": 11,
   "metadata": {},
   "outputs": [
    {
     "data": {
      "text/html": [
       "<h2>Cohort validation</h2>\n",
       "<p>No errors found for the cohort with 10 individuals</p>"
      ],
      "text/plain": [
       "<IPython.core.display.HTML object>"
      ]
     },
     "metadata": {},
     "output_type": "display_data"
    }
   ],
   "source": [
    "qc = QcVisualizer(cohort_validator=cvalidator)\n",
    "display(HTML(qc.to_summary_html()))"
   ]
  },
  {
   "cell_type": "code",
   "execution_count": 12,
   "metadata": {},
   "outputs": [
    {
     "data": {
      "text/html": [
       "<table style=\"border: 2px solid black; align: \"left\">\n",
       "<caption>10 phenopackets - PMID:24355708 (n=9); PMID:29749493 (n=1)</caption>\n",
       "<tr><th style=\"text-align: left;font-weight: bold;\">Individual</th><th style=\"text-align: left;font-weight: bold;\">Disease</th><th style=\"text-align: left;font-weight: bold;\">Genotype</th><th style=\"text-align: left;font-weight: bold;\">Phenotypic features</th></tr>\n",
       "<tr><td style=\"text-align: left;\">IHG25190-individual-1 (FEMALE; P56Y)</td><td style=\"text-align: left;\">Boucher-Neuhauser syndrome (OMIM:215470)</td><td style=\"text-align: left;\">NM_001166114.2:c.3143C>T (homozygous)</td><td style=\"text-align: left;\"><b>P6Y</b>: Gait ataxia (HP:0002066)<br/>Cerebellar atrophy (HP:0001272); Anterior pituitary hypoplasia (HP:0010627); Intellectual disability, mild (HP:0001256); Decreased patellar reflex (HP:0011808); Decreased Achilles reflex (HP:0009072); Hypogonadotropic hypogonadism (HP:0000044); Primary amenorrhea (HP:0000786); Distal amyotrophy (HP:0003693); Chorioretinal atrophy (HP:0000533); excluded: Lower limb spasticity (HP:0002061); excluded: Babinski sign (HP:0003487); excluded: Hyperactive patellar reflex (HP:0007083); excluded: Hyperactive Achilles reflex (HP:0033206)</td></tr>\n",
       "<tr><td style=\"text-align: left;\">IHG25190-individual-2 (MALE; P55Y)</td><td style=\"text-align: left;\">Boucher-Neuhauser syndrome (OMIM:215470)</td><td style=\"text-align: left;\">NM_001166114.2:c.3143C>T (homozygous)</td><td style=\"text-align: left;\"><b>P6Y</b>: Gait ataxia (HP:0002066)<br/>Cerebellar atrophy (HP:0001272); Anterior pituitary hypoplasia (HP:0010627); Intellectual disability, mild (HP:0001256); Decreased patellar reflex (HP:0011808); Decreased Achilles reflex (HP:0009072); Hypogonadotropic hypogonadism (HP:0000044); Distal amyotrophy (HP:0003693); Chorioretinal atrophy (HP:0000533); excluded: Lower limb spasticity (HP:0002061); excluded: Babinski sign (HP:0003487); excluded: Hyperactive patellar reflex (HP:0007083); excluded: Hyperactive Achilles reflex (HP:0033206)</td></tr>\n",
       "<tr><td style=\"text-align: left;\">IHG25190-individual-3 (FEMALE; P53Y)</td><td style=\"text-align: left;\">Boucher-Neuhauser syndrome (OMIM:215470)</td><td style=\"text-align: left;\">NM_001166114.2:c.3143C>T (homozygous)</td><td style=\"text-align: left;\"><b>P7Y</b>: Gait ataxia (HP:0002066)<br/>Cerebellar atrophy (HP:0001272); Anterior pituitary hypoplasia (HP:0010627); Intellectual disability, mild (HP:0001256); Decreased patellar reflex (HP:0011808); Decreased Achilles reflex (HP:0009072); Hypogonadotropic hypogonadism (HP:0000044); Primary amenorrhea (HP:0000786); Distal amyotrophy (HP:0003693); Chorioretinal atrophy (HP:0000533); excluded: Lower limb spasticity (HP:0002061); excluded: Babinski sign (HP:0003487); excluded: Hyperactive patellar reflex (HP:0007083); excluded: Hyperactive Achilles reflex (HP:0033206)</td></tr>\n",
       "<tr><td style=\"text-align: left;\">IHG25190-individual-4 (FEMALE; P48Y)</td><td style=\"text-align: left;\">Boucher-Neuhauser syndrome (OMIM:215470)</td><td style=\"text-align: left;\">NM_001166114.2:c.3143C>T (homozygous)</td><td style=\"text-align: left;\"><b>P7Y</b>: Gait ataxia (HP:0002066)<br/>Cerebellar atrophy (HP:0001272); Anterior pituitary hypoplasia (HP:0010627); Intellectual disability, mild (HP:0001256); Decreased patellar reflex (HP:0011808); Decreased Achilles reflex (HP:0009072); Hypogonadotropic hypogonadism (HP:0000044); Primary amenorrhea (HP:0000786); Distal amyotrophy (HP:0003693); Chorioretinal atrophy (HP:0000533); excluded: Lower limb spasticity (HP:0002061); excluded: Babinski sign (HP:0003487); excluded: Hyperactive patellar reflex (HP:0007083); excluded: Hyperactive Achilles reflex (HP:0033206)</td></tr>\n",
       "<tr><td style=\"text-align: left;\">ARCA-05-individual-1 (FEMALE; P44Y)</td><td style=\"text-align: left;\">Boucher-Neuhauser syndrome (OMIM:215470)</td><td style=\"text-align: left;\"><ul> <li>NM_001166114.2:c.2185-1G>C (heterozygous)</li> <li>NM_001166114.2:c.3298G>A (heterozygous)</li> </ul></td><td style=\"text-align: left;\"><b>P27Y</b>: Gait ataxia (HP:0002066)<br/>Lower limb spasticity (HP:0002061); Babinski sign (HP:0003487); Cerebellar atrophy (HP:0001272); Intellectual disability, mild (HP:0001256); Hyperactive patellar reflex (HP:0007083); Hypogonadotropic hypogonadism (HP:0000044); Primary amenorrhea (HP:0000786); Distal amyotrophy (HP:0003693); Chorioretinal atrophy (HP:0000533); excluded: Anterior pituitary hypoplasia (HP:0010627); excluded: Decreased patellar reflex (HP:0011808)</td></tr>\n",
       "<tr><td style=\"text-align: left;\">ARCA-05-individual-2 (FEMALE; P42Y)</td><td style=\"text-align: left;\">Boucher-Neuhauser syndrome (OMIM:215470)</td><td style=\"text-align: left;\"><ul> <li>NM_001166114.2:c.2185-1G>C (heterozygous)</li> <li>NM_001166114.2:c.3298G>A (heterozygous)</li> </ul></td><td style=\"text-align: left;\"><b>P6Y</b>: Gait ataxia (HP:0002066)<br/>Lower limb spasticity (HP:0002061); Babinski sign (HP:0003487); Cerebellar atrophy (HP:0001272); Intellectual disability, mild (HP:0001256); Hypogonadotropic hypogonadism (HP:0000044); Primary amenorrhea (HP:0000786); excluded: Anterior pituitary hypoplasia (HP:0010627); excluded: Decreased patellar reflex (HP:0011808); excluded: Hyperactive patellar reflex (HP:0007083); excluded: Distal amyotrophy (HP:0003693); excluded: Chorioretinal atrophy (HP:0000533)</td></tr>\n",
       "<tr><td style=\"text-align: left;\">IHG25353-individual-1 (MALE; P61Y)</td><td style=\"text-align: left;\">Boucher-Neuhauser syndrome (OMIM:215470)</td><td style=\"text-align: left;\"><ul> <li>NM_001166114.2:c.1705G>T (heterozygous)</li> <li>NM_001166114.2:c.3167T>C (heterozygous)</li> </ul></td><td style=\"text-align: left;\"><b>P6Y</b>: Gait ataxia (HP:0002066)<br/>Cerebellar atrophy (HP:0001272); Decreased Achilles reflex (HP:0009072); Hyperactive patellar reflex (HP:0007083); Hypogonadotropic hypogonadism (HP:0000044); Chorioretinal atrophy (HP:0000533); excluded: Lower limb spasticity (HP:0002061); excluded: Babinski sign (HP:0003487); excluded: Anterior pituitary hypoplasia (HP:0010627); excluded: Intellectual disability, mild (HP:0001256); excluded: Decreased patellar reflex (HP:0011808); excluded: Hyperactive Achilles reflex (HP:0033206); excluded: Distal amyotrophy (HP:0003693)</td></tr>\n",
       "<tr><td style=\"text-align: left;\">IHG25353-individual-2 (MALE; P57Y)</td><td style=\"text-align: left;\">Boucher-Neuhauser syndrome (OMIM:215470)</td><td style=\"text-align: left;\"><ul> <li>NM_001166114.2:c.1705G>T (heterozygous)</li> <li>NM_001166114.2:c.3167T>C (heterozygous)</li> </ul></td><td style=\"text-align: left;\"><b>P6Y</b>: Gait ataxia (HP:0002066)<br/>Lower limb spasticity (HP:0002061); Cerebellar atrophy (HP:0001272); Decreased Achilles reflex (HP:0009072); Hyperactive patellar reflex (HP:0007083); Hypogonadotropic hypogonadism (HP:0000044); Chorioretinal atrophy (HP:0000533); excluded: Babinski sign (HP:0003487); excluded: Anterior pituitary hypoplasia (HP:0010627); excluded: Intellectual disability, mild (HP:0001256); excluded: Decreased patellar reflex (HP:0011808); excluded: Hyperactive Achilles reflex (HP:0033206); excluded: Distal amyotrophy (HP:0003693)</td></tr>\n",
       "<tr><td style=\"text-align: left;\">IHG25357-individual-1 (MALE; P26Y)</td><td style=\"text-align: left;\">Boucher-Neuhauser syndrome (OMIM:215470)</td><td style=\"text-align: left;\"><ul> <li>NM_001166114.2:c.3104C>T (heterozygous)</li> <li>NM_001166114.2:c.3335C>T (heterozygous)</li> </ul></td><td style=\"text-align: left;\"><b>P20Y</b>: Gait ataxia (HP:0002066)<br/>Cerebellar atrophy (HP:0001272); Hypogonadotropic hypogonadism (HP:0000044); Chorioretinal atrophy (HP:0000533); excluded: Lower limb spasticity (HP:0002061); excluded: Babinski sign (HP:0003487); excluded: Anterior pituitary hypoplasia (HP:0010627); excluded: Intellectual disability, mild (HP:0001256); excluded: Decreased patellar reflex (HP:0011808); excluded: Decreased Achilles reflex (HP:0009072); excluded: Hyperactive patellar reflex (HP:0007083); excluded: Hyperactive Achilles reflex (HP:0033206); excluded: Distal amyotrophy (HP:0003693)</td></tr>\n",
       "<tr><td style=\"text-align: left;\">proband (MALE; P39Y)</td><td style=\"text-align: left;\">Boucher-Neuhauser syndrome (OMIM:215470)</td><td style=\"text-align: left;\"><ul> <li>NM_001166114.2:c.3356G>T (heterozygous)</li> <li>NM_001166114.2:c.3504G>C (heterozygous)</li> </ul></td><td style=\"text-align: left;\"><b>P14Y</b>: Hypogonadotropic hypogonadism (HP:0000044)<br/>Dysdiadochokinesis (HP:0002075); Cerebellar atrophy (HP:0001272); Anterior pituitary hypoplasia (HP:0010627); Hyporeflexia (HP:0001265); Decreased serum testosterone concentration (HP:0040171); Decreased circulating follicle stimulating hormone concentration (HP:0030341); Decreased circulating luteinizing hormone level (HP:0030344); Retinal pigment epithelial atrophy (HP:0007722); excluded: Gait ataxia (HP:0002066)</td></tr>\n",
       "</table>"
      ],
      "text/plain": [
       "<IPython.core.display.HTML object>"
      ]
     },
     "metadata": {},
     "output_type": "display_data"
    }
   ],
   "source": [
    "table = IndividualTable(cvalidator.get_error_free_individual_list())\n",
    "display(HTML(table.to_html()))"
   ]
  },
  {
   "cell_type": "code",
   "execution_count": 13,
   "metadata": {},
   "outputs": [
    {
     "name": "stdout",
     "output_type": "stream",
     "text": [
      "[pyphetools] Ingested 17 GA4GH phenopackets.\n",
      "[INFO] Extracted 10 from 17 phenopackets with OMIM:215470\n",
      "\n",
      "\tBoucher-Neuhauser syndrome (OMIM:215470): n=10\n",
      "We found a total of 20 unique HPO terms\n",
      "Extracted disease: Boucher-Neuhauser syndrome (OMIM:215470)\n",
      "Wrote HPOA disease file to OMIM-215470.tab\n"
     ]
    }
   ],
   "source": [
    "pmid = \"PMID:24355708\"\n",
    "df = timporter.create_hpoa_from_phenopackets(pmid=pmid, moi=\"Autosomal recessive\", target=\"OMIM:215470\")"
   ]
  }
 ],
 "metadata": {
  "kernelspec": {
   "display_name": "ps24venv",
   "language": "python",
   "name": "python3"
  },
  "language_info": {
   "codemirror_mode": {
    "name": "ipython",
    "version": 3
   },
   "file_extension": ".py",
   "mimetype": "text/x-python",
   "name": "python",
   "nbconvert_exporter": "python",
   "pygments_lexer": "ipython3",
   "version": "3.9.6"
  }
 },
 "nbformat": 4,
 "nbformat_minor": 2
}
