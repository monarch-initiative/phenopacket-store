{
 "cells": [
  {
   "cell_type": "markdown",
   "metadata": {},
   "source": [
    "# MYH3\n",
    "[distal arthrogryposis type 2A (DA2A)](https://omim.org/entry/193700) is caused by heterozygous mutation in the MYH3 gene."
   ]
  },
  {
   "cell_type": "code",
   "execution_count": 1,
   "metadata": {},
   "outputs": [
    {
     "name": "stdout",
     "output_type": "stream",
     "text": [
      "Using pyphetools version 0.9.88\n"
     ]
    },
    {
     "name": "stderr",
     "output_type": "stream",
     "text": [
      "/Users/robin/GIT/phenopacket-store/ps24venv/lib/python3.9/site-packages/urllib3/__init__.py:35: NotOpenSSLWarning: urllib3 v2 only supports OpenSSL 1.1.1+, currently the 'ssl' module is compiled with 'LibreSSL 2.8.3'. See: https://github.com/urllib3/urllib3/issues/3020\n",
      "  warnings.warn(\n"
     ]
    }
   ],
   "source": [
    "from pyphetools.creation import TemplateImporter\n",
    "from pyphetools.visualization import IndividualTable, QcVisualizer\n",
    "from IPython.display import display, HTML\n",
    "import pyphetools\n",
    "print(f\"Using pyphetools version {pyphetools.__version__}\")"
   ]
  },
  {
   "cell_type": "code",
   "execution_count": 2,
   "metadata": {},
   "outputs": [],
   "source": [
    "template = \"input/MYH3_DA2A_individuals.xlsx\"\n",
    "created_by = \"0000-0002-0736-9199\""
   ]
  },
  {
   "cell_type": "code",
   "execution_count": 3,
   "metadata": {},
   "outputs": [
    {
     "name": "stdout",
     "output_type": "stream",
     "text": [
      "HPO version 2024-04-26\n",
      "Created encoders for 62 fields\n",
      "Importing OMIM:193700, Arthrogryposis, distal, type 2A (Freeman-Sheldon), HGNC:7573, MYH3,  NM_002470.4\n",
      "We output 2 GA4GH phenopackets to the directory phenopackets\n"
     ]
    }
   ],
   "source": [
    "timporter = TemplateImporter(template=template,  created_by=created_by)\n",
    "individual_list, cvalidator = timporter.import_phenopackets_from_template()"
   ]
  },
  {
   "cell_type": "code",
   "execution_count": 4,
   "metadata": {},
   "outputs": [
    {
     "data": {
      "text/html": [
       "<h2>Cohort validation</h2>\n",
       "<p>No errors found for the cohort with 2 individuals</p>"
      ],
      "text/plain": [
       "<IPython.core.display.HTML object>"
      ]
     },
     "metadata": {},
     "output_type": "display_data"
    }
   ],
   "source": [
    "qc = QcVisualizer(cohort_validator=cvalidator)\n",
    "display(HTML(qc.to_summary_html()))"
   ]
  },
  {
   "cell_type": "code",
   "execution_count": 5,
   "metadata": {},
   "outputs": [
    {
     "data": {
      "text/html": [
       "<table style=\"border: 2px solid black; align: \"left\">\n",
       "<caption>2 phenopackets - PMID:28584669 (n=1); PMID:20924721 (n=1)</caption>\n",
       "<tr><th style=\"text-align: left;font-weight: bold;\">Individual</th><th style=\"text-align: left;font-weight: bold;\">Disease</th><th style=\"text-align: left;font-weight: bold;\">Genotype</th><th style=\"text-align: left;font-weight: bold;\">Phenotypic features</th></tr>\n",
       "<tr><td style=\"text-align: left;\">newborn male (MALE; P10D)</td><td style=\"text-align: left;\">Arthrogryposis, distal, type 2A (Freeman-Sheldon) (OMIM:193700)</td><td style=\"text-align: left;\">NM_002470.4:c.2015G>A (heterozygous)</td><td style=\"text-align: left;\">Pursed lips (HP:0000205); Wide nasal bridge (HP:0000431); Depressed nasal bridge (HP:0005280); Micrognathia (HP:0000347); Low-set ears (HP:0000369); Narrow mouth (HP:0000160); Talipes equinovarus (HP:0001762); Camptodactyly (HP:0012385); Chordee (HP:0000041); Strabismus (HP:0000486); Hypertelorism (HP:0000316); Rocker bottom foot (HP:0001838); excluded: Cleft ala nasi (HP:0003191); excluded: Hypospadias (HP:0000047)</td></tr>\n",
       "<tr><td style=\"text-align: left;\">Egyptian infant (FEMALE; P1Y4M)</td><td style=\"text-align: left;\">Arthrogryposis, distal, type 2A (Freeman-Sheldon) (OMIM:193700)</td><td style=\"text-align: left;\">NM_002470.4:c.2014C>T (heterozygous)</td><td style=\"text-align: left;\"><b>P2M</b>: Depressed nasal bridge (HP:0005280); Cleft ala nasi (HP:0003191); Long philtrum (HP:0000343); Flat face (HP:0012368); Short neck (HP:0000470); Short nose (HP:0003196); Talipes equinovarus (HP:0001762); Overlapping toe (HP:0001845); Camptodactyly (HP:0012385); Deeply set eye (HP:0000490)</td></tr>\n",
       "</table>"
      ],
      "text/plain": [
       "<IPython.core.display.HTML object>"
      ]
     },
     "metadata": {},
     "output_type": "display_data"
    }
   ],
   "source": [
    "table = IndividualTable(cvalidator.get_error_free_individual_list())\n",
    "display(HTML(table.to_html()))"
   ]
  },
  {
   "cell_type": "code",
   "execution_count": 6,
   "metadata": {},
   "outputs": [
    {
     "name": "stdout",
     "output_type": "stream",
     "text": [
      "[pyphetools] Ingested 2 GA4GH phenopackets.\n",
      "[INFO] Extracted 2 from 2 phenopackets with OMIM:193700\n",
      "\n",
      "\tArthrogryposis, distal, type 2A (Freeman-Sheldon) (OMIM:193700): n=2\n",
      "We found a total of 20 unique HPO terms\n",
      "Extracted disease: Arthrogryposis, distal, type 2A (Freeman-Sheldon) (OMIM:193700)\n",
      "Wrote HPOA disease file to OMIM-193700.tab\n"
     ]
    }
   ],
   "source": [
    "pmid = \"PMID:28584669\"\n",
    "df = timporter.create_hpoa_from_phenopackets(pmid=pmid, moi=\"Autosomal dominant\", target=\"OMIM:193700\")"
   ]
  }
 ],
 "metadata": {
  "kernelspec": {
   "display_name": "ps24venv",
   "language": "python",
   "name": "python3"
  },
  "language_info": {
   "codemirror_mode": {
    "name": "ipython",
    "version": 3
   },
   "file_extension": ".py",
   "mimetype": "text/x-python",
   "name": "python",
   "nbconvert_exporter": "python",
   "pygments_lexer": "ipython3",
   "version": "3.9.6"
  }
 },
 "nbformat": 4,
 "nbformat_minor": 2
}
