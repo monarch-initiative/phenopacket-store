{
 "cells": [
  {
   "cell_type": "markdown",
   "metadata": {},
   "source": [
    "# PSMD12\n",
    "[Stankiewicz-Isidor syndrome (STISS)](https://omim.org/entry/617516) is caused by heterozygous mutation in the PSMD12 gene."
   ]
  },
  {
   "cell_type": "code",
   "execution_count": 3,
   "metadata": {},
   "outputs": [
    {
     "name": "stdout",
     "output_type": "stream",
     "text": [
      "Using pyphetools version 0.9.92\n"
     ]
    }
   ],
   "source": [
    "from pyphetools.creation import TemplateImporter\n",
    "from pyphetools.visualization import IndividualTable, QcVisualizer\n",
    "from IPython.display import display, HTML\n",
    "import pyphetools\n",
    "print(f\"Using pyphetools version {pyphetools.__version__}\")"
   ]
  },
  {
   "cell_type": "code",
   "execution_count": 4,
   "metadata": {},
   "outputs": [],
   "source": [
    "template = \"input/PSMD12_STISS_individuals.xlsx\"\n",
    "created_by = \"0000-0002-0736-9199\""
   ]
  },
  {
   "cell_type": "code",
   "execution_count": 7,
   "metadata": {},
   "outputs": [
    {
     "name": "stdout",
     "output_type": "stream",
     "text": [
      "HPO version 2024-07-01\n",
      "Created encoders for 52 fields\n",
      "Importing OMIM:617516, Stankiewicz-Isidor syndrome, HGNC:9557, PSMD12,  NM_002816.5\n",
      "[INFO] encoding variant \"c.367C>T\"\n",
      "https://rest.variantvalidator.org/VariantValidator/variantvalidator/hg38/NM_002816.5%3Ac.367C>T/NM_002816.5?content-type=application%2Fjson\n",
      "[INFO] encoding variant \"c.601C>T\"\n",
      "https://rest.variantvalidator.org/VariantValidator/variantvalidator/hg38/NM_002816.5%3Ac.601C>T/NM_002816.5?content-type=application%2Fjson\n",
      "[INFO] encoding variant \"c.1274 T>G\"\n",
      "https://rest.variantvalidator.org/VariantValidator/variantvalidator/hg38/NM_002816.5%3Ac.1274 T>G/NM_002816.5?content-type=application%2Fjson\n",
      "[INFO] encoding variant \"c.909-2A>G\"\n",
      "https://rest.variantvalidator.org/VariantValidator/variantvalidator/hg38/NM_002816.5%3Ac.909-2A>G/NM_002816.5?content-type=application%2Fjson\n",
      "We output 4 GA4GH phenopackets to the directory phenopackets\n"
     ]
    }
   ],
   "source": [
    "timporter = TemplateImporter(template=template,  created_by=created_by)\n",
    "individual_list, cvalidator = timporter.import_phenopackets_from_template()"
   ]
  },
  {
   "cell_type": "code",
   "execution_count": 8,
   "metadata": {},
   "outputs": [
    {
     "data": {
      "text/html": [
       "<h2>Cohort validation</h2>\n",
       "<p>No errors found for the cohort with 4 individuals</p>"
      ],
      "text/plain": [
       "<IPython.core.display.HTML object>"
      ]
     },
     "metadata": {},
     "output_type": "display_data"
    }
   ],
   "source": [
    "qc = QcVisualizer(cohort_validator=cvalidator)\n",
    "display(HTML(qc.to_summary_html()))"
   ]
  },
  {
   "cell_type": "code",
   "execution_count": 9,
   "metadata": {},
   "outputs": [
    {
     "data": {
      "text/html": [
       "<table style=\"border: 2px solid black; align: \"left\">\n",
       "<caption>4 phenopackets - PMID:28132691 (n=4)</caption>\n",
       "<tr><th style=\"text-align: left;font-weight: bold;\">Individual</th><th style=\"text-align: left;font-weight: bold;\">Disease</th><th style=\"text-align: left;font-weight: bold;\">Genotype</th><th style=\"text-align: left;font-weight: bold;\">Phenotypic features</th></tr>\n",
       "<tr><td style=\"text-align: left;\">Subject 1 (MALE; P8Y4M)</td><td style=\"text-align: left;\">Stankiewicz-Isidor syndrome (OMIM:617516)</td><td style=\"text-align: left;\">NM_002816.5:c.367C>T (heterozygous)</td><td style=\"text-align: left;\">Recurrent lower respiratory tract infections (HP:0002783); Crossed fused renal ectopia (HP:0004736); Absent thumb (HP:0009777); Hearing impairment (HP:0000365); Global developmental delay (HP:0001263); Posteriorly rotated ears (HP:0000358); Low-set ears (HP:0000369); Feeding difficulties (HP:0011968); Delayed speech and language development (HP:0000750); Hypotonia (HP:0001252); Retrognathia (HP:0000278); Micrognathia (HP:0000347); Intellectual disability (HP:0001249); Motor delay (HP:0001270); Patent ductus arteriosus (HP:0001643); Ventricular septal defect (HP:0001629); Atrial septal defect (HP:0001631); Strabismus (HP:0000486); Nystagmus (HP:0000639); Truncus arteriosus (HP:0001660); Hypospadias (HP:0000047); excluded: Ureteral duplication (HP:0000073); excluded: Short thumb (HP:0009778); excluded: Seizure (HP:0001250); excluded: Pineal cyst (HP:0012683); excluded: Prominent nose (HP:0000448); excluded: Autistic behavior (HP:0000729); excluded: Facial asymmetry (HP:0000324); excluded: Hypertelorism (HP:0000316); excluded: Cerebral visual impairment (HP:0100704); excluded: Cryptorchidism (HP:0000028); excluded: Chordee (HP:0000041); excluded: Shawl scrotum (HP:0000049); excluded: Micropenis (HP:0000054)</td></tr>\n",
       "<tr><td style=\"text-align: left;\">Subject 2 (MALE; P10Y7M)</td><td style=\"text-align: left;\">Stankiewicz-Isidor syndrome (OMIM:617516)</td><td style=\"text-align: left;\">NM_002816.5:c.1274T>G (heterozygous)</td><td style=\"text-align: left;\">Ureteral duplication (HP:0000073); Short thumb (HP:0009778); Seizure (HP:0001250); Hearing impairment (HP:0000365); Global developmental delay (HP:0001263); Low-set ears (HP:0000369); Feeding difficulties (HP:0011968); Delayed speech and language development (HP:0000750); Intellectual disability (HP:0001249); Motor delay (HP:0001270); Autistic behavior (HP:0000729); Patent ductus arteriosus (HP:0001643); Cerebral visual impairment (HP:0100704); Micropenis (HP:0000054); excluded: Recurrent lower respiratory tract infections (HP:0002783); excluded: Crossed fused renal ectopia (HP:0004736); excluded: Absent thumb (HP:0009777); excluded: Pineal cyst (HP:0012683); excluded: Posteriorly rotated ears (HP:0000358); excluded: Prominent nose (HP:0000448); excluded: Hypotonia (HP:0001252); excluded: Retrognathia (HP:0000278); excluded: Micrognathia (HP:0000347); excluded: Facial asymmetry (HP:0000324); excluded: Hypertelorism (HP:0000316); excluded: Ventricular septal defect (HP:0001629); excluded: Atrial septal defect (HP:0001631); excluded: Strabismus (HP:0000486); excluded: Nystagmus (HP:0000639); excluded: Truncus arteriosus (HP:0001660); excluded: Cryptorchidism (HP:0000028); excluded: Chordee (HP:0000041); excluded: Shawl scrotum (HP:0000049); excluded: Hypospadias (HP:0000047)</td></tr>\n",
       "<tr><td style=\"text-align: left;\">Subject 3 (MALE; P14Y8M)</td><td style=\"text-align: left;\">Stankiewicz-Isidor syndrome (OMIM:617516)</td><td style=\"text-align: left;\">NM_002816.5:c.601C>T (heterozygous)</td><td style=\"text-align: left;\">Global developmental delay (HP:0001263); Delayed speech and language development (HP:0000750); Intellectual disability (HP:0001249); Autistic behavior (HP:0000729); excluded: Crossed fused renal ectopia (HP:0004736); excluded: Ureteral duplication (HP:0000073); excluded: Short thumb (HP:0009778); excluded: Absent thumb (HP:0009777); excluded: Seizure (HP:0001250); excluded: Hearing impairment (HP:0000365); excluded: Feeding difficulties (HP:0011968); excluded: Motor delay (HP:0001270); excluded: Patent ductus arteriosus (HP:0001643); excluded: Ventricular septal defect (HP:0001629); excluded: Atrial septal defect (HP:0001631); excluded: Truncus arteriosus (HP:0001660); excluded: Chordee (HP:0000041); excluded: Shawl scrotum (HP:0000049); excluded: Micropenis (HP:0000054); excluded: Hypospadias (HP:0000047)</td></tr>\n",
       "<tr><td style=\"text-align: left;\">Subject 4 (MALE; P14Y10M)</td><td style=\"text-align: left;\">Stankiewicz-Isidor syndrome (OMIM:617516)</td><td style=\"text-align: left;\">NM_002816.5:c.909-2A>G (heterozygous)</td><td style=\"text-align: left;\">Chordee (HP:0000041); Seizure (HP:0001250); Pineal cyst (HP:0012683); Global developmental delay (HP:0001263); Posteriorly rotated ears (HP:0000358); Low-set ears (HP:0000369); Prominent nose (HP:0000448); Hypotonia (HP:0001252); Intellectual disability (HP:0001249); Autistic behavior (HP:0000729); Facial asymmetry (HP:0000324); Hypertelorism (HP:0000316); Cryptorchidism (HP:0000028); Shawl scrotum (HP:0000049); Micropenis (HP:0000054); excluded: Recurrent lower respiratory tract infections (HP:0002783); excluded: Crossed fused renal ectopia (HP:0004736); excluded: Ureteral duplication (HP:0000073); excluded: Short thumb (HP:0009778); excluded: Absent thumb (HP:0009777); excluded: Hearing impairment (HP:0000365); excluded: Feeding difficulties (HP:0011968); excluded: Delayed speech and language development (HP:0000750); excluded: Retrognathia (HP:0000278); excluded: Micrognathia (HP:0000347); excluded: Motor delay (HP:0001270); excluded: Patent ductus arteriosus (HP:0001643); excluded: Ventricular septal defect (HP:0001629); excluded: Atrial septal defect (HP:0001631); excluded: Strabismus (HP:0000486); excluded: Nystagmus (HP:0000639); excluded: Cerebral visual impairment (HP:0100704); excluded: Truncus arteriosus (HP:0001660); excluded: Hypospadias (HP:0000047)</td></tr>\n",
       "</table>"
      ],
      "text/plain": [
       "<IPython.core.display.HTML object>"
      ]
     },
     "metadata": {},
     "output_type": "display_data"
    }
   ],
   "source": [
    "table = IndividualTable(cvalidator.get_error_free_individual_list())\n",
    "display(HTML(table.to_html()))"
   ]
  },
  {
   "cell_type": "code",
   "execution_count": 11,
   "metadata": {},
   "outputs": [
    {
     "name": "stdout",
     "output_type": "stream",
     "text": [
      "[pyphetools] Ingested 4 GA4GH phenopackets.\n",
      "[INFO] Extracted 4 from 4 phenopackets with OMIM:617516\n",
      "\n",
      "\tStankiewicz-Isidor syndrome (OMIM:617516): n=4\n",
      "We found a total of 34 unique HPO terms\n",
      "Extracted disease: Stankiewicz-Isidor syndrome (OMIM:617516)\n",
      "Wrote HPOA disease file to OMIM-617516.tab\n"
     ]
    }
   ],
   "source": [
    "pmid = \"PMID:28132691\"\n",
    "df = timporter.create_hpoa_from_phenopackets(pmid=pmid, moi=\"Autosomal dominant\", target=\"OMIM:617516\")"
   ]
  },
  {
   "cell_type": "code",
   "execution_count": null,
   "metadata": {},
   "outputs": [],
   "source": []
  }
 ],
 "metadata": {
  "kernelspec": {
   "display_name": "ps24venv",
   "language": "python",
   "name": "python3"
  },
  "language_info": {
   "codemirror_mode": {
    "name": "ipython",
    "version": 3
   },
   "file_extension": ".py",
   "mimetype": "text/x-python",
   "name": "python",
   "nbconvert_exporter": "python",
   "pygments_lexer": "ipython3",
   "version": "3.9.6"
  }
 },
 "nbformat": 4,
 "nbformat_minor": 2
}
