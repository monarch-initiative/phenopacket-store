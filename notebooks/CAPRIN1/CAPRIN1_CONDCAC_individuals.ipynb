{
 "cells": [
  {
   "cell_type": "markdown",
   "id": "9829529c-895c-4a76-94af-4ed07a76b298",
   "metadata": {},
   "source": [
    "# CAPRIN1\n",
    "[childhood-onset neurodegeneration with cerebellar ataxia and cognitive decline (CONDCAC)](https://omim.org/entry/620636#) is caused by heterozygous mutation in the CAPRIN1 gene."
   ]
  },
  {
   "cell_type": "code",
   "execution_count": 6,
   "id": "54a01e63-3a93-4e63-a17b-fe0f9533d5fa",
   "metadata": {},
   "outputs": [
    {
     "name": "stdout",
     "output_type": "stream",
     "text": [
      "Using pyphetools version 0.9.74\n"
     ]
    }
   ],
   "source": [
    "from pyphetools.creation import TemplateImporter\n",
    "from pyphetools.visualization import IndividualTable, QcVisualizer\n",
    "from IPython.display import display, HTML\n",
    "import pyphetools\n",
    "print(f\"Using pyphetools version {pyphetools.__version__}\")"
   ]
  },
  {
   "cell_type": "code",
   "execution_count": 7,
   "id": "ae1d0d29-35d6-486e-8809-23496a0caf24",
   "metadata": {},
   "outputs": [],
   "source": [
    "template = \"input/CAPRIN1_CONDCAC_individuals.xlsx\"\n",
    "hp_json = \"../hp.json\"\n",
    "created_by = \"0000-0002-0736-9199\""
   ]
  },
  {
   "cell_type": "code",
   "execution_count": 9,
   "id": "c1e40021-c7b6-4d5a-98da-9ae655b4c904",
   "metadata": {},
   "outputs": [
    {
     "name": "stdout",
     "output_type": "stream",
     "text": [
      "HPO version 2024-04-03\n",
      "Created encoders for 33 fields\n",
      "Importing OMIM:620636, Neurodegeneration, childhood-onset, with cerebellar ataxia and cognitive decline, HGNC:6743, CAPRIN1,  NM_005898.5\n",
      "[INFO] encoding variant \"c.1535C>T\"\n",
      "https://rest.variantvalidator.org/VariantValidator/variantvalidator/hg38/NM_005898.5%3Ac.1535C>T/NM_005898.5?content-type=application%2Fjson\n",
      "We output 2 GA4GH phenopackets to the directory phenopackets\n"
     ]
    }
   ],
   "source": [
    "timporter = TemplateImporter(template=template, hp_json=hp_json, created_by=created_by)\n",
    "individual_list, cvalidator = timporter.import_phenopackets_from_template()"
   ]
  },
  {
   "cell_type": "code",
   "execution_count": 10,
   "id": "af6e1900-51ea-4981-885b-b80eb5a06f9c",
   "metadata": {},
   "outputs": [
    {
     "data": {
      "text/html": [
       "<h2>Cohort validation</h2>\n",
       "<p>Errors found with 1 of 2 phenopackets.</p>\n",
       "<table style=\"border: 2px solid black; align: \"left\">\n",
       "<caption>Error counts</caption>\n",
       "<tr><th style=\"text-align: left;font-weight: bold;\">Level</th><th style=\"text-align: left;font-weight: bold;\">Error category</th><th style=\"text-align: left;font-weight: bold;\">Count</th></tr>\n",
       "<tr><td style=\"text-align: left;\">WARNING</td><td style=\"text-align: left;\">REDUNDANT</td><td style=\"text-align: left;\">2</td></tr>\n",
       "</table>\n",
       "<p>A total of 2 issues were fixed and no individual was removed from the cohort.</p>"
      ],
      "text/plain": [
       "<IPython.core.display.HTML object>"
      ]
     },
     "metadata": {},
     "output_type": "display_data"
    }
   ],
   "source": [
    "qc = QcVisualizer(cohort_validator=cvalidator)\n",
    "display(HTML(qc.to_summary_html()))"
   ]
  },
  {
   "cell_type": "code",
   "execution_count": 11,
   "id": "a06191be-c187-48dc-9b12-74007b6984f0",
   "metadata": {},
   "outputs": [
    {
     "data": {
      "text/html": [
       "<table style=\"border: 2px solid black; align: \"left\">\n",
       "<caption>2 phenopackets - PMID:36136249 (n=2)</caption>\n",
       "<tr><th style=\"text-align: left;font-weight: bold;\">Individual</th><th style=\"text-align: left;font-weight: bold;\">Disease</th><th style=\"text-align: left;font-weight: bold;\">Genotype</th><th style=\"text-align: left;font-weight: bold;\">Phenotypic features</th></tr>\n",
       "<tr><td style=\"text-align: left;\">II.3 of family A (FEMALE; P16Y)</td><td style=\"text-align: left;\">Neurodegeneration, childhood-onset, with cerebellar ataxia and cognitive decline (OMIM:620636)</td><td style=\"text-align: left;\">NM_005898.5:c.1535C>T (heterozygous)</td><td style=\"text-align: left;\"><b>P10Y</b>: Gowers sign (HP:0003391)<br/><b>P16Y</b>: Cerebral atrophy (HP:0002059); Cerebellar atrophy (HP:0001272)<br/>Peripheral axonal neuropathy (HP:0003477); Dysdiadochokinesis (HP:0002075); Dysarthria (HP:0001260); Unsteady gait (HP:0002317); Tremor (HP:0001337); Loss of ambulation (HP:0002505); Dysphagia (HP:0002015); Skeletal muscle atrophy (HP:0003202); Scoliosis (HP:0002650); Cognitive regression (HP:0034332); excluded: Areflexia (HP:0001284)</td></tr>\n",
       "<tr><td style=\"text-align: left;\">II.2 of family B (MALE; P13Y)</td><td style=\"text-align: left;\">Neurodegeneration, childhood-onset, with cerebellar ataxia and cognitive decline (OMIM:620636)</td><td style=\"text-align: left;\">NM_005898.5:c.1535C>T (heterozygous)</td><td style=\"text-align: left;\"><b>P4Y</b>: Dysarthria (HP:0001260)<br/><b>P7Y</b>: Ataxia (HP:0001251)<br/><b>P12Y</b>: Cerebellar atrophy (HP:0001272)<br/><b>P13Y</b>: Areflexia (HP:0001284)<br/>Peripheral axonal neuropathy (HP:0003477); Unsteady gait (HP:0002317); Skeletal muscle atrophy (HP:0003202); Proximal muscle weakness (HP:0003701); excluded: Cerebral atrophy (HP:0002059); excluded: Dysdiadochokinesis (HP:0002075); excluded: Tremor (HP:0001337); excluded: Dysphagia (HP:0002015); excluded: Scoliosis (HP:0002650); excluded: Gowers sign (HP:0003391)</td></tr>\n",
       "</table>"
      ],
      "text/plain": [
       "<IPython.core.display.HTML object>"
      ]
     },
     "metadata": {},
     "output_type": "display_data"
    }
   ],
   "source": [
    "table = IndividualTable(cvalidator.get_error_free_individual_list())\n",
    "display(HTML(table.to_html()))"
   ]
  },
  {
   "cell_type": "code",
   "execution_count": null,
   "id": "80a94493-a267-4de0-b7f4-403744f357fa",
   "metadata": {},
   "outputs": [],
   "source": []
  }
 ],
 "metadata": {
  "kernelspec": {
   "display_name": "ps24venv",
   "language": "python",
   "name": "ps24venv"
  },
  "language_info": {
   "codemirror_mode": {
    "name": "ipython",
    "version": 3
   },
   "file_extension": ".py",
   "mimetype": "text/x-python",
   "name": "python",
   "nbconvert_exporter": "python",
   "pygments_lexer": "ipython3",
   "version": "3.8.10"
  }
 },
 "nbformat": 4,
 "nbformat_minor": 5
}
