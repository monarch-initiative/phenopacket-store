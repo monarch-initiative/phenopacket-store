{
 "cells": [
  {
   "cell_type": "markdown",
   "id": "9829529c-895c-4a76-94af-4ed07a76b298",
   "metadata": {},
   "source": [
    "# CAPRIN1\n",
    "[childhood-onset neurodegeneration with cerebellar ataxia and cognitive decline (CONDCAC)](https://omim.org/entry/620636#) is caused by heterozygous mutation in the CAPRIN1 gene."
   ]
  },
  {
   "cell_type": "code",
   "execution_count": 1,
   "id": "54a01e63-3a93-4e63-a17b-fe0f9533d5fa",
   "metadata": {},
   "outputs": [
    {
     "name": "stdout",
     "output_type": "stream",
     "text": [
      "Using pyphetools version 0.9.94\n"
     ]
    },
    {
     "name": "stderr",
     "output_type": "stream",
     "text": [
      "/Users/robin/GIT/phenopacket-store/ps24venv/lib/python3.9/site-packages/urllib3/__init__.py:35: NotOpenSSLWarning: urllib3 v2 only supports OpenSSL 1.1.1+, currently the 'ssl' module is compiled with 'LibreSSL 2.8.3'. See: https://github.com/urllib3/urllib3/issues/3020\n",
      "  warnings.warn(\n"
     ]
    }
   ],
   "source": [
    "from pyphetools.creation import TemplateImporter,Moi\n",
    "from pyphetools.visualization import IndividualTable, QcVisualizer\n",
    "from IPython.display import display, HTML\n",
    "import pyphetools\n",
    "print(f\"Using pyphetools version {pyphetools.__version__}\")"
   ]
  },
  {
   "cell_type": "code",
   "execution_count": 2,
   "id": "ae1d0d29-35d6-486e-8809-23496a0caf24",
   "metadata": {},
   "outputs": [],
   "source": [
    "template = \"input/CAPRIN1_CONDCAC_individuals.xlsx\"\n",
    "hp_json = \"../hp.json\"\n",
    "created_by = \"0000-0002-0736-9199\""
   ]
  },
  {
   "cell_type": "code",
   "execution_count": 3,
   "id": "c1e40021-c7b6-4d5a-98da-9ae655b4c904",
   "metadata": {},
   "outputs": [
    {
     "name": "stdout",
     "output_type": "stream",
     "text": [
      "HPO version 2024-04-04\n",
      "Created encoders for 33 fields\n",
      "Importing OMIM:620636, Neurodegeneration, childhood-onset, with cerebellar ataxia and cognitive decline, HGNC:6743, CAPRIN1,  NM_005898.5\n",
      "We output 2 GA4GH phenopackets to the directory phenopackets\n"
     ]
    }
   ],
   "source": [
    "timporter = TemplateImporter(template=template, hp_json=hp_json, created_by=created_by)\n",
    "individual_list, cvalidator = timporter.import_phenopackets_from_template()"
   ]
  },
  {
   "cell_type": "code",
   "execution_count": 4,
   "id": "af6e1900-51ea-4981-885b-b80eb5a06f9c",
   "metadata": {},
   "outputs": [
    {
     "data": {
      "text/html": [
       "<h2>Cohort validation</h2>\n",
       "<p>Errors found with 1 of 2 phenopackets.</p>\n",
       "<table style=\"border: 2px solid black; align: \"left\">\n",
       "<caption>Error counts</caption>\n",
       "<tr><th style=\"text-align: left;font-weight: bold;\">Level</th><th style=\"text-align: left;font-weight: bold;\">Error category</th><th style=\"text-align: left;font-weight: bold;\">Count</th></tr>\n",
       "<tr><td style=\"text-align: left;\">WARNING</td><td style=\"text-align: left;\">REDUNDANT</td><td style=\"text-align: left;\">2</td></tr>\n",
       "</table>\n",
       "<p>A total of 2 issues were fixed and no individual was removed from the cohort.</p>"
      ],
      "text/plain": [
       "<IPython.core.display.HTML object>"
      ]
     },
     "metadata": {},
     "output_type": "display_data"
    }
   ],
   "source": [
    "qc = QcVisualizer(cohort_validator=cvalidator)\n",
    "display(HTML(qc.to_summary_html()))"
   ]
  },
  {
   "cell_type": "code",
   "execution_count": 5,
   "id": "a06191be-c187-48dc-9b12-74007b6984f0",
   "metadata": {},
   "outputs": [
    {
     "data": {
      "text/html": [
       "<table style=\"border: 2px solid black; align: \"left\">\n",
       "<caption>2 phenopackets - PMID:36136249 (n=2)</caption>\n",
       "<tr><th style=\"text-align: left;font-weight: bold;\">Individual</th><th style=\"text-align: left;font-weight: bold;\">Disease</th><th style=\"text-align: left;font-weight: bold;\">Genotype</th><th style=\"text-align: left;font-weight: bold;\">Phenotypic features</th></tr>\n",
       "<tr><td style=\"text-align: left;\">II.3 of family A (FEMALE; P16Y)</td><td style=\"text-align: left;\">Neurodegeneration, childhood-onset, with cerebellar ataxia and cognitive decline (OMIM:620636)</td><td style=\"text-align: left;\">NM_005898.5:c.1535C>T (heterozygous)</td><td style=\"text-align: left;\"><b>P10Y</b>: Gowers sign (HP:0003391)<br/><b>P16Y</b>: Cerebral atrophy (HP:0002059); Cerebellar atrophy (HP:0001272)<br/>Peripheral axonal neuropathy (HP:0003477); Dysdiadochokinesis (HP:0002075); Dysarthria (HP:0001260); Unsteady gait (HP:0002317); Tremor (HP:0001337); Loss of ambulation (HP:0002505); Dysphagia (HP:0002015); Skeletal muscle atrophy (HP:0003202); Scoliosis (HP:0002650); Cognitive regression (HP:0034332); excluded: Areflexia (HP:0001284)</td></tr>\n",
       "<tr><td style=\"text-align: left;\">II.2 of family B (MALE; P13Y)</td><td style=\"text-align: left;\">Neurodegeneration, childhood-onset, with cerebellar ataxia and cognitive decline (OMIM:620636)</td><td style=\"text-align: left;\">NM_005898.5:c.1535C>T (heterozygous)</td><td style=\"text-align: left;\"><b>P4Y</b>: Dysarthria (HP:0001260)<br/><b>P7Y</b>: Ataxia (HP:0001251)<br/><b>P12Y</b>: Cerebellar atrophy (HP:0001272)<br/><b>P13Y</b>: Areflexia (HP:0001284)<br/>Peripheral axonal neuropathy (HP:0003477); Unsteady gait (HP:0002317); Skeletal muscle atrophy (HP:0003202); Proximal muscle weakness (HP:0003701); excluded: Cerebral atrophy (HP:0002059); excluded: Dysdiadochokinesis (HP:0002075); excluded: Tremor (HP:0001337); excluded: Dysphagia (HP:0002015); excluded: Scoliosis (HP:0002650); excluded: Gowers sign (HP:0003391)</td></tr>\n",
       "</table>"
      ],
      "text/plain": [
       "<IPython.core.display.HTML object>"
      ]
     },
     "metadata": {},
     "output_type": "display_data"
    }
   ],
   "source": [
    "table = IndividualTable(cvalidator.get_error_free_individual_list())\n",
    "display(HTML(table.to_html()))"
   ]
  },
  {
   "cell_type": "code",
   "execution_count": 6,
   "id": "80a94493-a267-4de0-b7f4-403744f357fa",
   "metadata": {},
   "outputs": [
    {
     "name": "stdout",
     "output_type": "stream",
     "text": [
      "[pyphetools] Ingested 14 GA4GH phenopackets.\n",
      "[INFO] Extracted 2 from 14 phenopackets with OMIM:620636\n",
      "\n",
      "\tNeurodegeneration, childhood-onset, with cerebellar ataxia and cognitive decline (OMIM:620636): n=2\n",
      "We found a total of 16 unique HPO terms\n",
      "Extracted disease: Neurodegeneration, childhood-onset, with cerebellar ataxia and cognitive decline (OMIM:620636)\n",
      "Wrote HPOA disease file to OMIM-620636.tab\n"
     ]
    },
    {
     "data": {
      "text/html": [
       "<div>\n",
       "<style scoped>\n",
       "    .dataframe tbody tr th:only-of-type {\n",
       "        vertical-align: middle;\n",
       "    }\n",
       "\n",
       "    .dataframe tbody tr th {\n",
       "        vertical-align: top;\n",
       "    }\n",
       "\n",
       "    .dataframe thead th {\n",
       "        text-align: right;\n",
       "    }\n",
       "</style>\n",
       "<table border=\"1\" class=\"dataframe\">\n",
       "  <thead>\n",
       "    <tr style=\"text-align: right;\">\n",
       "      <th></th>\n",
       "      <th>#diseaseID</th>\n",
       "      <th>diseaseName</th>\n",
       "      <th>phenotypeID</th>\n",
       "      <th>phenotypeName</th>\n",
       "      <th>onsetID</th>\n",
       "      <th>onsetName</th>\n",
       "      <th>frequency</th>\n",
       "      <th>sex</th>\n",
       "      <th>negation</th>\n",
       "      <th>modifier</th>\n",
       "      <th>description</th>\n",
       "      <th>publication</th>\n",
       "      <th>evidence</th>\n",
       "      <th>biocuration</th>\n",
       "    </tr>\n",
       "  </thead>\n",
       "  <tbody>\n",
       "    <tr>\n",
       "      <th>0</th>\n",
       "      <td>OMIM:620636</td>\n",
       "      <td>Neurodegeneration, childhood-onset, with cereb...</td>\n",
       "      <td>HP:0002059</td>\n",
       "      <td>Cerebral atrophy</td>\n",
       "      <td></td>\n",
       "      <td></td>\n",
       "      <td>1/2</td>\n",
       "      <td></td>\n",
       "      <td></td>\n",
       "      <td></td>\n",
       "      <td></td>\n",
       "      <td>PMID:36136249</td>\n",
       "      <td>PCS</td>\n",
       "      <td>ORCID:0000-0002-0736-9199[2024-07-29]</td>\n",
       "    </tr>\n",
       "    <tr>\n",
       "      <th>1</th>\n",
       "      <td>OMIM:620636</td>\n",
       "      <td>Neurodegeneration, childhood-onset, with cereb...</td>\n",
       "      <td>HP:0001272</td>\n",
       "      <td>Cerebellar atrophy</td>\n",
       "      <td></td>\n",
       "      <td></td>\n",
       "      <td>2/2</td>\n",
       "      <td></td>\n",
       "      <td></td>\n",
       "      <td></td>\n",
       "      <td></td>\n",
       "      <td>PMID:36136249</td>\n",
       "      <td>PCS</td>\n",
       "      <td>ORCID:0000-0002-0736-9199[2024-07-29]</td>\n",
       "    </tr>\n",
       "    <tr>\n",
       "      <th>2</th>\n",
       "      <td>OMIM:620636</td>\n",
       "      <td>Neurodegeneration, childhood-onset, with cereb...</td>\n",
       "      <td>HP:0003391</td>\n",
       "      <td>Gowers sign</td>\n",
       "      <td></td>\n",
       "      <td></td>\n",
       "      <td>1/2</td>\n",
       "      <td></td>\n",
       "      <td></td>\n",
       "      <td></td>\n",
       "      <td></td>\n",
       "      <td>PMID:36136249</td>\n",
       "      <td>PCS</td>\n",
       "      <td>ORCID:0000-0002-0736-9199[2024-07-29]</td>\n",
       "    </tr>\n",
       "    <tr>\n",
       "      <th>3</th>\n",
       "      <td>OMIM:620636</td>\n",
       "      <td>Neurodegeneration, childhood-onset, with cereb...</td>\n",
       "      <td>HP:0003477</td>\n",
       "      <td>Peripheral axonal neuropathy</td>\n",
       "      <td></td>\n",
       "      <td></td>\n",
       "      <td>2/2</td>\n",
       "      <td></td>\n",
       "      <td></td>\n",
       "      <td></td>\n",
       "      <td></td>\n",
       "      <td>PMID:36136249</td>\n",
       "      <td>PCS</td>\n",
       "      <td>ORCID:0000-0002-0736-9199[2024-07-29]</td>\n",
       "    </tr>\n",
       "    <tr>\n",
       "      <th>4</th>\n",
       "      <td>OMIM:620636</td>\n",
       "      <td>Neurodegeneration, childhood-onset, with cereb...</td>\n",
       "      <td>HP:0002075</td>\n",
       "      <td>Dysdiadochokinesis</td>\n",
       "      <td></td>\n",
       "      <td></td>\n",
       "      <td>1/2</td>\n",
       "      <td></td>\n",
       "      <td></td>\n",
       "      <td></td>\n",
       "      <td></td>\n",
       "      <td>PMID:36136249</td>\n",
       "      <td>PCS</td>\n",
       "      <td>ORCID:0000-0002-0736-9199[2024-07-29]</td>\n",
       "    </tr>\n",
       "  </tbody>\n",
       "</table>\n",
       "</div>"
      ],
      "text/plain": [
       "    #diseaseID                                        diseaseName phenotypeID  \\\n",
       "0  OMIM:620636  Neurodegeneration, childhood-onset, with cereb...  HP:0002059   \n",
       "1  OMIM:620636  Neurodegeneration, childhood-onset, with cereb...  HP:0001272   \n",
       "2  OMIM:620636  Neurodegeneration, childhood-onset, with cereb...  HP:0003391   \n",
       "3  OMIM:620636  Neurodegeneration, childhood-onset, with cereb...  HP:0003477   \n",
       "4  OMIM:620636  Neurodegeneration, childhood-onset, with cereb...  HP:0002075   \n",
       "\n",
       "                  phenotypeName onsetID onsetName frequency sex negation  \\\n",
       "0              Cerebral atrophy                         1/2                \n",
       "1            Cerebellar atrophy                         2/2                \n",
       "2                   Gowers sign                         1/2                \n",
       "3  Peripheral axonal neuropathy                         2/2                \n",
       "4            Dysdiadochokinesis                         1/2                \n",
       "\n",
       "  modifier description    publication evidence  \\\n",
       "0                       PMID:36136249      PCS   \n",
       "1                       PMID:36136249      PCS   \n",
       "2                       PMID:36136249      PCS   \n",
       "3                       PMID:36136249      PCS   \n",
       "4                       PMID:36136249      PCS   \n",
       "\n",
       "                             biocuration  \n",
       "0  ORCID:0000-0002-0736-9199[2024-07-29]  \n",
       "1  ORCID:0000-0002-0736-9199[2024-07-29]  \n",
       "2  ORCID:0000-0002-0736-9199[2024-07-29]  \n",
       "3  ORCID:0000-0002-0736-9199[2024-07-29]  \n",
       "4  ORCID:0000-0002-0736-9199[2024-07-29]  "
      ]
     },
     "execution_count": 6,
     "metadata": {},
     "output_type": "execute_result"
    }
   ],
   "source": [
    "pmid = \"PMID:36136249\"\n",
    "df = timporter.create_hpoa_from_phenopackets(pmid=pmid, mode_of_inheritance=Moi.AD, target=\"OMIM:620636\")\n",
    "df.head()"
   ]
  }
 ],
 "metadata": {
  "kernelspec": {
   "display_name": "ps24venv",
   "language": "python",
   "name": "python3"
  },
  "language_info": {
   "codemirror_mode": {
    "name": "ipython",
    "version": 3
   },
   "file_extension": ".py",
   "mimetype": "text/x-python",
   "name": "python",
   "nbconvert_exporter": "python",
   "pygments_lexer": "ipython3",
   "version": "3.9.6"
  }
 },
 "nbformat": 4,
 "nbformat_minor": 5
}
