{
 "cells": [
  {
   "cell_type": "markdown",
   "metadata": {},
   "source": [
    "# CAPRIN1\n",
    "[neurodevelopmental disorder with language impairment, autism, and attention deficit-hyperactivity disorder (NEDLAAD)](https://omim.org/entry/620782) is caused by heterozygous loss-of-function mutation in the CAPRIN1 gene."
   ]
  },
  {
   "cell_type": "code",
   "execution_count": 3,
   "metadata": {},
   "outputs": [
    {
     "name": "stdout",
     "output_type": "stream",
     "text": [
      "Using pyphetools version 0.9.94\n"
     ]
    }
   ],
   "source": [
    "from pyphetools.creation import TemplateImporter, Moi\n",
    "from pyphetools.visualization import IndividualTable, QcVisualizer\n",
    "from IPython.display import display, HTML\n",
    "import pyphetools\n",
    "print(f\"Using pyphetools version {pyphetools.__version__}\")"
   ]
  },
  {
   "cell_type": "code",
   "execution_count": 4,
   "metadata": {},
   "outputs": [],
   "source": [
    "template = \"input/CAPRIN1_NEDLAAD_individuals.xlsx\"\n",
    "created_by = \"0000-0002-0736-9199\""
   ]
  },
  {
   "cell_type": "code",
   "execution_count": 6,
   "metadata": {},
   "outputs": [
    {
     "name": "stdout",
     "output_type": "stream",
     "text": [
      "HPO version 2024-07-01\n",
      "Created encoders for 53 fields\n",
      "Importing OMIM:620782, Neurodevelopmental disorder with language impairment, autism, and attention deficit-hyperactivity disorder, HGNC:6743, CAPRIN1,  NM_005898.5\n",
      "We output 12 GA4GH phenopackets to the directory phenopackets\n"
     ]
    }
   ],
   "source": [
    "del_set = {\"1.14 Mb deletion\"}\n",
    "timporter = TemplateImporter(template=template,  created_by=created_by)\n",
    "individual_list, cvalidator = timporter.import_phenopackets_from_template(deletions=del_set)"
   ]
  },
  {
   "cell_type": "code",
   "execution_count": 7,
   "metadata": {},
   "outputs": [
    {
     "data": {
      "text/html": [
       "<h2>Cohort validation</h2>\n",
       "<p>Errors found with 12 of 12 phenopackets.</p>\n",
       "<table style=\"border: 2px solid black; align: \"left\">\n",
       "<caption>Error counts</caption>\n",
       "<tr><th style=\"text-align: left;font-weight: bold;\">Level</th><th style=\"text-align: left;font-weight: bold;\">Error category</th><th style=\"text-align: left;font-weight: bold;\">Count</th></tr>\n",
       "<tr><td style=\"text-align: left;\">WARNING</td><td style=\"text-align: left;\">REDUNDANT</td><td style=\"text-align: left;\">12</td></tr>\n",
       "</table>\n",
       "<p>A total of 12 issues were fixed and no individual was removed from the cohort.</p>"
      ],
      "text/plain": [
       "<IPython.core.display.HTML object>"
      ]
     },
     "metadata": {},
     "output_type": "display_data"
    }
   ],
   "source": [
    "qc = QcVisualizer(cohort_validator=cvalidator)\n",
    "display(HTML(qc.to_summary_html()))"
   ]
  },
  {
   "cell_type": "code",
   "execution_count": 8,
   "metadata": {},
   "outputs": [
    {
     "data": {
      "text/html": [
       "<table style=\"border: 2px solid black; align: \"left\">\n",
       "<caption>12 phenopackets - PMID:35979925 (n=12)</caption>\n",
       "<tr><th style=\"text-align: left;font-weight: bold;\">Individual</th><th style=\"text-align: left;font-weight: bold;\">Disease</th><th style=\"text-align: left;font-weight: bold;\">Genotype</th><th style=\"text-align: left;font-weight: bold;\">Phenotypic features</th></tr>\n",
       "<tr><td style=\"text-align: left;\">Case 1 (MALE; P7Y)</td><td style=\"text-align: left;\">Neurodevelopmental disorder with language impairment, autism, and attention deficit-hyperactivity disorder (OMIM:620782)</td><td style=\"text-align: left;\">1.14 Mb deletion: chromosomal_deletion (SO:1000029)</td><td style=\"text-align: left;\"><b>P2Y</b>: Autistic behavior (HP:0000729)<br/>Attention deficit hyperactivity disorder (HP:0007018); Delayed speech and language development (HP:0000750); excluded: Long face (HP:0000276); excluded: Hypsarrhythmia (HP:0002521); excluded: Focal-onset seizure (HP:0007359); excluded: Generalized non-motor (absence) seizure (HP:0002121); excluded: Infantile spasms (HP:0012469); excluded: Obstructive sleep apnea (HP:0002870); excluded: Hypertelorism (HP:0000316); excluded: Hypotelorism (HP:0000601); excluded: Cleft earlobe (HP:0011265); excluded: Ptosis (HP:0000508); excluded: Pierre-Robin sequence (HP:0000201); excluded: Micrognathia (HP:0000347); excluded: Strabismus (HP:0000486); excluded: Myopia (HP:0000545); excluded: Astigmatism (HP:0000483); excluded: Hypermetropia (HP:0000540); excluded: Cafe-au-lait spot (HP:0000957); excluded: Prominent fingertip pads (HP:0001212); excluded: Low hanging columella (HP:0009765); excluded: Low anterior hairline (HP:0000294); excluded: Thin upper lip vermilion (HP:0000219); excluded: Global developmental delay (HP:0001263); excluded: Clinodactyly of the 5th finger (HP:0004209); excluded: Aggressive behavior (HP:0000718); excluded: Broad nasal tip (HP:0000455); excluded: Deeply set eye (HP:0000490); excluded: Anxiety (HP:0000739); excluded: Hearing impairment (HP:0000365); excluded: Single umbilical artery (HP:0001195); excluded: Umbilical hernia (HP:0001537); excluded: Sacral dimple (HP:0000960)</td></tr>\n",
       "<tr><td style=\"text-align: left;\">Case 2 (MALE; P12Y)</td><td style=\"text-align: left;\">Neurodevelopmental disorder with language impairment, autism, and attention deficit-hyperactivity disorder (OMIM:620782)</td><td style=\"text-align: left;\">NM_005898.5:c.279+1G>T (heterozygous)</td><td style=\"text-align: left;\"><b>P3Y5M</b>: Autistic behavior (HP:0000729)<br/>Long face (HP:0000276); Generalized non-motor (absence) seizure (HP:0002121); Obstructive sleep apnea (HP:0002870); Cafe-au-lait spot (HP:0000957); Global developmental delay (HP:0001263); Attention deficit hyperactivity disorder (HP:0007018); Clinodactyly of the 5th finger (HP:0004209); Delayed speech and language development (HP:0000750); Umbilical hernia (HP:0001537); excluded: Hypsarrhythmia (HP:0002521); excluded: Focal-onset seizure (HP:0007359); excluded: Infantile spasms (HP:0012469); excluded: Hypertelorism (HP:0000316); excluded: Hypotelorism (HP:0000601); excluded: Cleft earlobe (HP:0011265); excluded: Ptosis (HP:0000508); excluded: Pierre-Robin sequence (HP:0000201); excluded: Micrognathia (HP:0000347); excluded: Strabismus (HP:0000486); excluded: Myopia (HP:0000545); excluded: Astigmatism (HP:0000483); excluded: Hypermetropia (HP:0000540); excluded: Prominent fingertip pads (HP:0001212); excluded: Low hanging columella (HP:0009765); excluded: Low anterior hairline (HP:0000294); excluded: Thin upper lip vermilion (HP:0000219); excluded: Aggressive behavior (HP:0000718); excluded: Broad nasal tip (HP:0000455); excluded: Deeply set eye (HP:0000490); excluded: Anxiety (HP:0000739); excluded: Hearing impairment (HP:0000365); excluded: Single umbilical artery (HP:0001195); excluded: Sacral dimple (HP:0000960)</td></tr>\n",
       "<tr><td style=\"text-align: left;\">Case 3 (MALE; P6Y)</td><td style=\"text-align: left;\">Neurodevelopmental disorder with language impairment, autism, and attention deficit-hyperactivity disorder (OMIM:620782)</td><td style=\"text-align: left;\">NM_005898.5:c.879G>A (heterozygous)</td><td style=\"text-align: left;\"><b>P3Y5M</b>: Autistic behavior (HP:0000729)<br/>Cleft earlobe (HP:0011265); Prominent fingertip pads (HP:0001212); Low hanging columella (HP:0009765); Low anterior hairline (HP:0000294); Thin upper lip vermilion (HP:0000219); Global developmental delay (HP:0001263); Delayed speech and language development (HP:0000750); Hearing impairment (HP:0000365); excluded: Long face (HP:0000276); excluded: Hypsarrhythmia (HP:0002521); excluded: Focal-onset seizure (HP:0007359); excluded: Generalized non-motor (absence) seizure (HP:0002121); excluded: Infantile spasms (HP:0012469); excluded: Obstructive sleep apnea (HP:0002870); excluded: Hypertelorism (HP:0000316); excluded: Hypotelorism (HP:0000601); excluded: Ptosis (HP:0000508); excluded: Pierre-Robin sequence (HP:0000201); excluded: Micrognathia (HP:0000347); excluded: Strabismus (HP:0000486); excluded: Myopia (HP:0000545); excluded: Astigmatism (HP:0000483); excluded: Hypermetropia (HP:0000540); excluded: Cafe-au-lait spot (HP:0000957); excluded: Attention deficit hyperactivity disorder (HP:0007018); excluded: Clinodactyly of the 5th finger (HP:0004209); excluded: Aggressive behavior (HP:0000718); excluded: Broad nasal tip (HP:0000455); excluded: Deeply set eye (HP:0000490); excluded: Anxiety (HP:0000739); excluded: Single umbilical artery (HP:0001195); excluded: Umbilical hernia (HP:0001537); excluded: Sacral dimple (HP:0000960)</td></tr>\n",
       "<tr><td style=\"text-align: left;\">Case 4 (FEMALE; P17Y)</td><td style=\"text-align: left;\">Neurodevelopmental disorder with language impairment, autism, and attention deficit-hyperactivity disorder (OMIM:620782)</td><td style=\"text-align: left;\">NM_005898.5:c.892C>T (heterozygous)</td><td style=\"text-align: left;\"><b>P16Y</b>: Anxiety (HP:0000739)<br/>Pierre-Robin sequence (HP:0000201); Obstructive sleep apnea (HP:0002870); Ptosis (HP:0000508); Micrognathia (HP:0000347); Myopia (HP:0000545); Astigmatism (HP:0000483); Autistic behavior (HP:0000729); Attention deficit hyperactivity disorder (HP:0007018); Delayed speech and language development (HP:0000750); Hearing impairment (HP:0000365); Single umbilical artery (HP:0001195); Sacral dimple (HP:0000960); excluded: Long face (HP:0000276); excluded: Hypsarrhythmia (HP:0002521); excluded: Focal-onset seizure (HP:0007359); excluded: Generalized non-motor (absence) seizure (HP:0002121); excluded: Infantile spasms (HP:0012469); excluded: Hypertelorism (HP:0000316); excluded: Hypotelorism (HP:0000601); excluded: Cleft earlobe (HP:0011265); excluded: Strabismus (HP:0000486); excluded: Hypermetropia (HP:0000540); excluded: Cafe-au-lait spot (HP:0000957); excluded: Prominent fingertip pads (HP:0001212); excluded: Low hanging columella (HP:0009765); excluded: Low anterior hairline (HP:0000294); excluded: Thin upper lip vermilion (HP:0000219); excluded: Global developmental delay (HP:0001263); excluded: Clinodactyly of the 5th finger (HP:0004209); excluded: Aggressive behavior (HP:0000718); excluded: Broad nasal tip (HP:0000455); excluded: Deeply set eye (HP:0000490); excluded: Umbilical hernia (HP:0001537)</td></tr>\n",
       "<tr><td style=\"text-align: left;\">Case 5 (MALE; P10Y)</td><td style=\"text-align: left;\">Neurodevelopmental disorder with language impairment, autism, and attention deficit-hyperactivity disorder (OMIM:620782)</td><td style=\"text-align: left;\">NM_005898.5:c.928A>T (heterozygous)</td><td style=\"text-align: left;\">Strabismus (HP:0000486); Hypermetropia (HP:0000540); Global developmental delay (HP:0001263); Autistic behavior (HP:0000729); Attention deficit hyperactivity disorder (HP:0007018); Delayed speech and language development (HP:0000750); excluded: Long face (HP:0000276); excluded: Hypsarrhythmia (HP:0002521); excluded: Focal-onset seizure (HP:0007359); excluded: Generalized non-motor (absence) seizure (HP:0002121); excluded: Infantile spasms (HP:0012469); excluded: Obstructive sleep apnea (HP:0002870); excluded: Hypertelorism (HP:0000316); excluded: Hypotelorism (HP:0000601); excluded: Cleft earlobe (HP:0011265); excluded: Ptosis (HP:0000508); excluded: Pierre-Robin sequence (HP:0000201); excluded: Micrognathia (HP:0000347); excluded: Myopia (HP:0000545); excluded: Astigmatism (HP:0000483); excluded: Cafe-au-lait spot (HP:0000957); excluded: Prominent fingertip pads (HP:0001212); excluded: Low hanging columella (HP:0009765); excluded: Low anterior hairline (HP:0000294); excluded: Thin upper lip vermilion (HP:0000219); excluded: Clinodactyly of the 5th finger (HP:0004209); excluded: Aggressive behavior (HP:0000718); excluded: Broad nasal tip (HP:0000455); excluded: Deeply set eye (HP:0000490); excluded: Anxiety (HP:0000739); excluded: Hearing impairment (HP:0000365); excluded: Single umbilical artery (HP:0001195); excluded: Umbilical hernia (HP:0001537); excluded: Sacral dimple (HP:0000960)</td></tr>\n",
       "<tr><td style=\"text-align: left;\">Case 6 (FEMALE; P8Y)</td><td style=\"text-align: left;\">Neurodevelopmental disorder with language impairment, autism, and attention deficit-hyperactivity disorder (OMIM:620782)</td><td style=\"text-align: left;\">NM_005898.5:c.1072C>T (heterozygous)</td><td style=\"text-align: left;\">Attention deficit hyperactivity disorder (HP:0007018); Broad nasal tip (HP:0000455); Deeply set eye (HP:0000490); Delayed speech and language development (HP:0000750); excluded: Long face (HP:0000276); excluded: Hypsarrhythmia (HP:0002521); excluded: Focal-onset seizure (HP:0007359); excluded: Generalized non-motor (absence) seizure (HP:0002121); excluded: Infantile spasms (HP:0012469); excluded: Obstructive sleep apnea (HP:0002870); excluded: Hypertelorism (HP:0000316); excluded: Hypotelorism (HP:0000601); excluded: Cleft earlobe (HP:0011265); excluded: Ptosis (HP:0000508); excluded: Pierre-Robin sequence (HP:0000201); excluded: Micrognathia (HP:0000347); excluded: Strabismus (HP:0000486); excluded: Myopia (HP:0000545); excluded: Astigmatism (HP:0000483); excluded: Hypermetropia (HP:0000540); excluded: Cafe-au-lait spot (HP:0000957); excluded: Prominent fingertip pads (HP:0001212); excluded: Low hanging columella (HP:0009765); excluded: Low anterior hairline (HP:0000294); excluded: Thin upper lip vermilion (HP:0000219); excluded: Global developmental delay (HP:0001263); excluded: Autistic behavior (HP:0000729); excluded: Clinodactyly of the 5th finger (HP:0004209); excluded: Aggressive behavior (HP:0000718); excluded: Anxiety (HP:0000739); excluded: Hearing impairment (HP:0000365); excluded: Single umbilical artery (HP:0001195); excluded: Umbilical hernia (HP:0001537); excluded: Sacral dimple (HP:0000960)</td></tr>\n",
       "<tr><td style=\"text-align: left;\">Case 7 (MALE; P7Y)</td><td style=\"text-align: left;\">Neurodevelopmental disorder with language impairment, autism, and attention deficit-hyperactivity disorder (OMIM:620782)</td><td style=\"text-align: left;\">NM_005898.5:c.1103delinsTATGT (heterozygous)</td><td style=\"text-align: left;\">Autistic behavior (HP:0000729); Delayed speech and language development (HP:0000750); excluded: Long face (HP:0000276); excluded: Hypsarrhythmia (HP:0002521); excluded: Focal-onset seizure (HP:0007359); excluded: Generalized non-motor (absence) seizure (HP:0002121); excluded: Infantile spasms (HP:0012469); excluded: Obstructive sleep apnea (HP:0002870); excluded: Hypertelorism (HP:0000316); excluded: Hypotelorism (HP:0000601); excluded: Cleft earlobe (HP:0011265); excluded: Ptosis (HP:0000508); excluded: Pierre-Robin sequence (HP:0000201); excluded: Micrognathia (HP:0000347); excluded: Strabismus (HP:0000486); excluded: Myopia (HP:0000545); excluded: Astigmatism (HP:0000483); excluded: Hypermetropia (HP:0000540); excluded: Cafe-au-lait spot (HP:0000957); excluded: Prominent fingertip pads (HP:0001212); excluded: Low hanging columella (HP:0009765); excluded: Low anterior hairline (HP:0000294); excluded: Thin upper lip vermilion (HP:0000219); excluded: Global developmental delay (HP:0001263); excluded: Clinodactyly of the 5th finger (HP:0004209); excluded: Aggressive behavior (HP:0000718); excluded: Broad nasal tip (HP:0000455); excluded: Deeply set eye (HP:0000490); excluded: Anxiety (HP:0000739); excluded: Hearing impairment (HP:0000365); excluded: Single umbilical artery (HP:0001195); excluded: Umbilical hernia (HP:0001537); excluded: Sacral dimple (HP:0000960)</td></tr>\n",
       "<tr><td style=\"text-align: left;\">Case 8 (MALE; P7Y)</td><td style=\"text-align: left;\">Neurodevelopmental disorder with language impairment, autism, and attention deficit-hyperactivity disorder (OMIM:620782)</td><td style=\"text-align: left;\">NM_005898.5:c.1195C>T (heterozygous)</td><td style=\"text-align: left;\">Autistic behavior (HP:0000729); Attention deficit hyperactivity disorder (HP:0007018); Delayed speech and language development (HP:0000750); excluded: Long face (HP:0000276); excluded: Hypsarrhythmia (HP:0002521); excluded: Focal-onset seizure (HP:0007359); excluded: Generalized non-motor (absence) seizure (HP:0002121); excluded: Infantile spasms (HP:0012469); excluded: Obstructive sleep apnea (HP:0002870); excluded: Hypertelorism (HP:0000316); excluded: Hypotelorism (HP:0000601); excluded: Cleft earlobe (HP:0011265); excluded: Ptosis (HP:0000508); excluded: Pierre-Robin sequence (HP:0000201); excluded: Micrognathia (HP:0000347); excluded: Strabismus (HP:0000486); excluded: Myopia (HP:0000545); excluded: Astigmatism (HP:0000483); excluded: Hypermetropia (HP:0000540); excluded: Cafe-au-lait spot (HP:0000957); excluded: Prominent fingertip pads (HP:0001212); excluded: Low hanging columella (HP:0009765); excluded: Low anterior hairline (HP:0000294); excluded: Thin upper lip vermilion (HP:0000219); excluded: Global developmental delay (HP:0001263); excluded: Clinodactyly of the 5th finger (HP:0004209); excluded: Aggressive behavior (HP:0000718); excluded: Broad nasal tip (HP:0000455); excluded: Deeply set eye (HP:0000490); excluded: Anxiety (HP:0000739); excluded: Hearing impairment (HP:0000365); excluded: Single umbilical artery (HP:0001195); excluded: Umbilical hernia (HP:0001537); excluded: Sacral dimple (HP:0000960)</td></tr>\n",
       "<tr><td style=\"text-align: left;\">Case 9 (MALE; P12Y)</td><td style=\"text-align: left;\">Neurodevelopmental disorder with language impairment, autism, and attention deficit-hyperactivity disorder (OMIM:620782)</td><td style=\"text-align: left;\">NM_005898.5:c.1372C>T (heterozygous)</td><td style=\"text-align: left;\">Strabismus (HP:0000486); Astigmatism (HP:0000483); Cafe-au-lait spot (HP:0000957); Prominent fingertip pads (HP:0001212); Thin upper lip vermilion (HP:0000219); Global developmental delay (HP:0001263); Attention deficit hyperactivity disorder (HP:0007018); Delayed speech and language development (HP:0000750); excluded: Long face (HP:0000276); excluded: Hypsarrhythmia (HP:0002521); excluded: Focal-onset seizure (HP:0007359); excluded: Generalized non-motor (absence) seizure (HP:0002121); excluded: Infantile spasms (HP:0012469); excluded: Obstructive sleep apnea (HP:0002870); excluded: Hypertelorism (HP:0000316); excluded: Hypotelorism (HP:0000601); excluded: Cleft earlobe (HP:0011265); excluded: Ptosis (HP:0000508); excluded: Pierre-Robin sequence (HP:0000201); excluded: Micrognathia (HP:0000347); excluded: Myopia (HP:0000545); excluded: Hypermetropia (HP:0000540); excluded: Low hanging columella (HP:0009765); excluded: Low anterior hairline (HP:0000294); excluded: Autistic behavior (HP:0000729); excluded: Clinodactyly of the 5th finger (HP:0004209); excluded: Aggressive behavior (HP:0000718); excluded: Broad nasal tip (HP:0000455); excluded: Deeply set eye (HP:0000490); excluded: Anxiety (HP:0000739); excluded: Hearing impairment (HP:0000365); excluded: Single umbilical artery (HP:0001195); excluded: Umbilical hernia (HP:0001537); excluded: Sacral dimple (HP:0000960)</td></tr>\n",
       "<tr><td style=\"text-align: left;\">Case 10 (MALE; P48Y)</td><td style=\"text-align: left;\">Neurodevelopmental disorder with language impairment, autism, and attention deficit-hyperactivity disorder (OMIM:620782)</td><td style=\"text-align: left;\">NM_005898.5:c.1372C>T (heterozygous)</td><td style=\"text-align: left;\">Long face (HP:0000276); Hypotelorism (HP:0000601); Strabismus (HP:0000486); Attention deficit hyperactivity disorder (HP:0007018); Aggressive behavior (HP:0000718); Delayed speech and language development (HP:0000750); Hearing impairment (HP:0000365); excluded: Hypsarrhythmia (HP:0002521); excluded: Focal-onset seizure (HP:0007359); excluded: Generalized non-motor (absence) seizure (HP:0002121); excluded: Infantile spasms (HP:0012469); excluded: Obstructive sleep apnea (HP:0002870); excluded: Hypertelorism (HP:0000316); excluded: Cleft earlobe (HP:0011265); excluded: Ptosis (HP:0000508); excluded: Pierre-Robin sequence (HP:0000201); excluded: Micrognathia (HP:0000347); excluded: Myopia (HP:0000545); excluded: Astigmatism (HP:0000483); excluded: Hypermetropia (HP:0000540); excluded: Cafe-au-lait spot (HP:0000957); excluded: Prominent fingertip pads (HP:0001212); excluded: Low hanging columella (HP:0009765); excluded: Low anterior hairline (HP:0000294); excluded: Thin upper lip vermilion (HP:0000219); excluded: Global developmental delay (HP:0001263); excluded: Autistic behavior (HP:0000729); excluded: Clinodactyly of the 5th finger (HP:0004209); excluded: Broad nasal tip (HP:0000455); excluded: Deeply set eye (HP:0000490); excluded: Anxiety (HP:0000739); excluded: Single umbilical artery (HP:0001195); excluded: Umbilical hernia (HP:0001537); excluded: Sacral dimple (HP:0000960)</td></tr>\n",
       "<tr><td style=\"text-align: left;\">Case 11 (MALE; P3Y)</td><td style=\"text-align: left;\">Neurodevelopmental disorder with language impairment, autism, and attention deficit-hyperactivity disorder (OMIM:620782)</td><td style=\"text-align: left;\">NM_005898.5:c.1493_1496del (heterozygous)</td><td style=\"text-align: left;\"><b>P9M</b>: Infantile spasms (HP:0012469)<br/><b>P3Y</b>: Hypsarrhythmia (HP:0002521); Generalized non-motor (absence) seizure (HP:0002121)<br/>Global developmental delay (HP:0001263); Autistic behavior (HP:0000729); Delayed speech and language development (HP:0000750); excluded: Long face (HP:0000276); excluded: Focal-onset seizure (HP:0007359); excluded: Obstructive sleep apnea (HP:0002870); excluded: Hypertelorism (HP:0000316); excluded: Hypotelorism (HP:0000601); excluded: Cleft earlobe (HP:0011265); excluded: Ptosis (HP:0000508); excluded: Pierre-Robin sequence (HP:0000201); excluded: Micrognathia (HP:0000347); excluded: Strabismus (HP:0000486); excluded: Myopia (HP:0000545); excluded: Astigmatism (HP:0000483); excluded: Hypermetropia (HP:0000540); excluded: Cafe-au-lait spot (HP:0000957); excluded: Prominent fingertip pads (HP:0001212); excluded: Low hanging columella (HP:0009765); excluded: Low anterior hairline (HP:0000294); excluded: Thin upper lip vermilion (HP:0000219); excluded: Attention deficit hyperactivity disorder (HP:0007018); excluded: Clinodactyly of the 5th finger (HP:0004209); excluded: Aggressive behavior (HP:0000718); excluded: Broad nasal tip (HP:0000455); excluded: Deeply set eye (HP:0000490); excluded: Anxiety (HP:0000739); excluded: Hearing impairment (HP:0000365); excluded: Single umbilical artery (HP:0001195); excluded: Umbilical hernia (HP:0001537); excluded: Sacral dimple (HP:0000960)</td></tr>\n",
       "<tr><td style=\"text-align: left;\">Case 12 (FEMALE; P10Y)</td><td style=\"text-align: left;\">Neurodevelopmental disorder with language impairment, autism, and attention deficit-hyperactivity disorder (OMIM:620782)</td><td style=\"text-align: left;\">NM_005898.5:c.1744C>T (heterozygous)</td><td style=\"text-align: left;\"><b>P8Y</b>: Focal-onset seizure (HP:0007359)<br/>Autistic behavior (HP:0000729); Hypertelorism (HP:0000316); Attention deficit hyperactivity disorder (HP:0007018); Delayed speech and language development (HP:0000750); excluded: Long face (HP:0000276); excluded: Hypsarrhythmia (HP:0002521); excluded: Generalized non-motor (absence) seizure (HP:0002121); excluded: Infantile spasms (HP:0012469); excluded: Obstructive sleep apnea (HP:0002870); excluded: Hypotelorism (HP:0000601); excluded: Cleft earlobe (HP:0011265); excluded: Ptosis (HP:0000508); excluded: Pierre-Robin sequence (HP:0000201); excluded: Micrognathia (HP:0000347); excluded: Strabismus (HP:0000486); excluded: Myopia (HP:0000545); excluded: Astigmatism (HP:0000483); excluded: Hypermetropia (HP:0000540); excluded: Cafe-au-lait spot (HP:0000957); excluded: Prominent fingertip pads (HP:0001212); excluded: Low hanging columella (HP:0009765); excluded: Low anterior hairline (HP:0000294); excluded: Thin upper lip vermilion (HP:0000219); excluded: Global developmental delay (HP:0001263); excluded: Clinodactyly of the 5th finger (HP:0004209); excluded: Aggressive behavior (HP:0000718); excluded: Broad nasal tip (HP:0000455); excluded: Deeply set eye (HP:0000490); excluded: Anxiety (HP:0000739); excluded: Hearing impairment (HP:0000365); excluded: Single umbilical artery (HP:0001195); excluded: Umbilical hernia (HP:0001537); excluded: Sacral dimple (HP:0000960)</td></tr>\n",
       "</table>"
      ],
      "text/plain": [
       "<IPython.core.display.HTML object>"
      ]
     },
     "metadata": {},
     "output_type": "display_data"
    }
   ],
   "source": [
    "table = IndividualTable(cvalidator.get_error_free_individual_list())\n",
    "display(HTML(table.to_html()))"
   ]
  },
  {
   "cell_type": "code",
   "execution_count": 9,
   "metadata": {},
   "outputs": [
    {
     "name": "stdout",
     "output_type": "stream",
     "text": [
      "[pyphetools] Ingested 14 GA4GH phenopackets.\n",
      "[INFO] Extracted 12 from 14 phenopackets with OMIM:620782\n",
      "\n",
      "\tNeurodevelopmental disorder with language impairment, autism, and attention deficit-hyperactivity disorder (OMIM:620782): n=12\n",
      "We found a total of 34 unique HPO terms\n",
      "Extracted disease: Neurodevelopmental disorder with language impairment, autism, and attention deficit-hyperactivity disorder (OMIM:620782)\n",
      "Wrote HPOA disease file to OMIM-620782.tab\n"
     ]
    },
    {
     "data": {
      "text/html": [
       "<div>\n",
       "<style scoped>\n",
       "    .dataframe tbody tr th:only-of-type {\n",
       "        vertical-align: middle;\n",
       "    }\n",
       "\n",
       "    .dataframe tbody tr th {\n",
       "        vertical-align: top;\n",
       "    }\n",
       "\n",
       "    .dataframe thead th {\n",
       "        text-align: right;\n",
       "    }\n",
       "</style>\n",
       "<table border=\"1\" class=\"dataframe\">\n",
       "  <thead>\n",
       "    <tr style=\"text-align: right;\">\n",
       "      <th></th>\n",
       "      <th>#diseaseID</th>\n",
       "      <th>diseaseName</th>\n",
       "      <th>phenotypeID</th>\n",
       "      <th>phenotypeName</th>\n",
       "      <th>onsetID</th>\n",
       "      <th>onsetName</th>\n",
       "      <th>frequency</th>\n",
       "      <th>sex</th>\n",
       "      <th>negation</th>\n",
       "      <th>modifier</th>\n",
       "      <th>description</th>\n",
       "      <th>publication</th>\n",
       "      <th>evidence</th>\n",
       "      <th>biocuration</th>\n",
       "    </tr>\n",
       "  </thead>\n",
       "  <tbody>\n",
       "    <tr>\n",
       "      <th>0</th>\n",
       "      <td>OMIM:620782</td>\n",
       "      <td>Neurodevelopmental disorder with language impa...</td>\n",
       "      <td>HP:0000486</td>\n",
       "      <td>Strabismus</td>\n",
       "      <td></td>\n",
       "      <td></td>\n",
       "      <td>3/12</td>\n",
       "      <td></td>\n",
       "      <td></td>\n",
       "      <td></td>\n",
       "      <td></td>\n",
       "      <td>PMID:35979925</td>\n",
       "      <td>PCS</td>\n",
       "      <td>ORCID:0000-0002-0736-9199[2024-07-22]</td>\n",
       "    </tr>\n",
       "    <tr>\n",
       "      <th>1</th>\n",
       "      <td>OMIM:620782</td>\n",
       "      <td>Neurodevelopmental disorder with language impa...</td>\n",
       "      <td>HP:0000483</td>\n",
       "      <td>Astigmatism</td>\n",
       "      <td></td>\n",
       "      <td></td>\n",
       "      <td>2/12</td>\n",
       "      <td></td>\n",
       "      <td></td>\n",
       "      <td></td>\n",
       "      <td></td>\n",
       "      <td>PMID:35979925</td>\n",
       "      <td>PCS</td>\n",
       "      <td>ORCID:0000-0002-0736-9199[2024-07-22]</td>\n",
       "    </tr>\n",
       "    <tr>\n",
       "      <th>2</th>\n",
       "      <td>OMIM:620782</td>\n",
       "      <td>Neurodevelopmental disorder with language impa...</td>\n",
       "      <td>HP:0000957</td>\n",
       "      <td>Cafe-au-lait spot</td>\n",
       "      <td></td>\n",
       "      <td></td>\n",
       "      <td>2/12</td>\n",
       "      <td></td>\n",
       "      <td></td>\n",
       "      <td></td>\n",
       "      <td></td>\n",
       "      <td>PMID:35979925</td>\n",
       "      <td>PCS</td>\n",
       "      <td>ORCID:0000-0002-0736-9199[2024-07-22]</td>\n",
       "    </tr>\n",
       "    <tr>\n",
       "      <th>3</th>\n",
       "      <td>OMIM:620782</td>\n",
       "      <td>Neurodevelopmental disorder with language impa...</td>\n",
       "      <td>HP:0001212</td>\n",
       "      <td>Prominent fingertip pads</td>\n",
       "      <td></td>\n",
       "      <td></td>\n",
       "      <td>2/12</td>\n",
       "      <td></td>\n",
       "      <td></td>\n",
       "      <td></td>\n",
       "      <td></td>\n",
       "      <td>PMID:35979925</td>\n",
       "      <td>PCS</td>\n",
       "      <td>ORCID:0000-0002-0736-9199[2024-07-22]</td>\n",
       "    </tr>\n",
       "    <tr>\n",
       "      <th>4</th>\n",
       "      <td>OMIM:620782</td>\n",
       "      <td>Neurodevelopmental disorder with language impa...</td>\n",
       "      <td>HP:0000219</td>\n",
       "      <td>Thin upper lip vermilion</td>\n",
       "      <td></td>\n",
       "      <td></td>\n",
       "      <td>2/12</td>\n",
       "      <td></td>\n",
       "      <td></td>\n",
       "      <td></td>\n",
       "      <td></td>\n",
       "      <td>PMID:35979925</td>\n",
       "      <td>PCS</td>\n",
       "      <td>ORCID:0000-0002-0736-9199[2024-07-22]</td>\n",
       "    </tr>\n",
       "  </tbody>\n",
       "</table>\n",
       "</div>"
      ],
      "text/plain": [
       "    #diseaseID  ...                            biocuration\n",
       "0  OMIM:620782  ...  ORCID:0000-0002-0736-9199[2024-07-22]\n",
       "1  OMIM:620782  ...  ORCID:0000-0002-0736-9199[2024-07-22]\n",
       "2  OMIM:620782  ...  ORCID:0000-0002-0736-9199[2024-07-22]\n",
       "3  OMIM:620782  ...  ORCID:0000-0002-0736-9199[2024-07-22]\n",
       "4  OMIM:620782  ...  ORCID:0000-0002-0736-9199[2024-07-22]\n",
       "\n",
       "[5 rows x 14 columns]"
      ]
     },
     "execution_count": 9,
     "metadata": {},
     "output_type": "execute_result"
    }
   ],
   "source": [
    "pmid = \"PMID:35979925\"\n",
    "df = timporter.create_hpoa_from_phenopackets(pmid=pmid, mode_of_inheritance=Moi.AD, target=\"OMIM:620782\")\n",
    "df.head()"
   ]
  },
  {
   "cell_type": "code",
   "execution_count": null,
   "metadata": {},
   "outputs": [],
   "source": []
  }
 ],
 "metadata": {
  "kernelspec": {
   "display_name": "ps24venv",
   "language": "python",
   "name": "python3"
  },
  "language_info": {
   "codemirror_mode": {
    "name": "ipython",
    "version": 3
   },
   "file_extension": ".py",
   "mimetype": "text/x-python",
   "name": "python",
   "nbconvert_exporter": "python",
   "pygments_lexer": "ipython3",
   "version": "3.9.6"
  }
 },
 "nbformat": 4,
 "nbformat_minor": 2
}
