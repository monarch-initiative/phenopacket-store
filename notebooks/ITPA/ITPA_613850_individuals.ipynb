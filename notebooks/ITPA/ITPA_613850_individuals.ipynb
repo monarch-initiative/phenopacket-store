{
 "cells": [
  {
   "cell_type": "markdown",
   "metadata": {},
   "source": [
    "# ITPA\n",
    "[inosine triphosphatase deficiency]() is caused by heterozygous, homozygous, or compound heterozygous mutation in the ITPA gene."
   ]
  },
  {
   "cell_type": "code",
   "execution_count": 4,
   "metadata": {},
   "outputs": [
    {
     "name": "stdout",
     "output_type": "stream",
     "text": [
      "Using pyphetools version 0.9.95\n"
     ]
    }
   ],
   "source": [
    "from pyphetools.creation import TemplateImporter, Moi\n",
    "from pyphetools.visualization import IndividualTable, QcVisualizer\n",
    "from IPython.display import display, HTML\n",
    "import pyphetools\n",
    "print(f\"Using pyphetools version {pyphetools.__version__}\")"
   ]
  },
  {
   "cell_type": "code",
   "execution_count": 5,
   "metadata": {},
   "outputs": [],
   "source": [
    "template = \"input/ITPA_613850_individuals.xlsx\"\n",
    "created_by = \"0000-0002-0736-9199\""
   ]
  },
  {
   "cell_type": "code",
   "execution_count": 6,
   "metadata": {},
   "outputs": [
    {
     "name": "stdout",
     "output_type": "stream",
     "text": [
      "HPO version 2024-07-01\n",
      "Created encoders for 19 fields\n",
      "Importing OMIM:613850, Inosine triphosphatase deficiency, HGNC:6176, ITPA,  NM_033453.4\n",
      "[INFO] encoding variant \"c.94C>A\"\n",
      "https://rest.variantvalidator.org/VariantValidator/variantvalidator/hg38/NM_033453.4%3Ac.94C>A/NM_033453.4?content-type=application%2Fjson\n",
      "We output 6 GA4GH phenopackets to the directory phenopackets\n"
     ]
    }
   ],
   "source": [
    "timporter = TemplateImporter(template=template,  created_by=created_by)\n",
    "individual_list, cvalidator = timporter.import_phenopackets_from_template()"
   ]
  },
  {
   "cell_type": "code",
   "execution_count": 7,
   "metadata": {},
   "outputs": [
    {
     "data": {
      "text/html": [
       "<h2>Cohort validation</h2>\n",
       "<p>No errors found for the cohort with 6 individuals</p>"
      ],
      "text/plain": [
       "<IPython.core.display.HTML object>"
      ]
     },
     "metadata": {},
     "output_type": "display_data"
    }
   ],
   "source": [
    "qc = QcVisualizer(cohort_validator=cvalidator)\n",
    "display(HTML(qc.to_summary_html()))"
   ]
  },
  {
   "cell_type": "code",
   "execution_count": 8,
   "metadata": {},
   "outputs": [
    {
     "data": {
      "text/html": [
       "<table style=\"border: 2px solid black; align: \"left\">\n",
       "<caption>6 phenopackets - PMID:12384777 (n=6)</caption>\n",
       "<tr><th style=\"text-align: left;font-weight: bold;\">Individual</th><th style=\"text-align: left;font-weight: bold;\">Disease</th><th style=\"text-align: left;font-weight: bold;\">Genotype</th><th style=\"text-align: left;font-weight: bold;\">Phenotypic features</th></tr>\n",
       "<tr><td style=\"text-align: left;\">Family 1  I.1 (FEMALE; n/a)</td><td style=\"text-align: left;\">Inosine triphosphatase deficiency (OMIM:613850)</td><td style=\"text-align: left;\">NM_033453.4:c.94C>A (homozygous)</td><td style=\"text-align: left;\">Elevated erythrocyte inosine triphosphate concentration (HP:6000510); Reduced erythrocyte inosine triphosphatase activity (HP:6000511)</td></tr>\n",
       "<tr><td style=\"text-align: left;\">Family 1  II.2 (UNKNOWN; n/a)</td><td style=\"text-align: left;\">Inosine triphosphatase deficiency (OMIM:613850)</td><td style=\"text-align: left;\">NM_033453.4:c.94C>A (homozygous)</td><td style=\"text-align: left;\">Elevated erythrocyte inosine triphosphate concentration (HP:6000510); Reduced erythrocyte inosine triphosphatase activity (HP:6000511)</td></tr>\n",
       "<tr><td style=\"text-align: left;\">Family 3 3A (UNKNOWN; n/a)</td><td style=\"text-align: left;\">Inosine triphosphatase deficiency (OMIM:613850)</td><td style=\"text-align: left;\">NM_033453.4:c.94C>A (homozygous)</td><td style=\"text-align: left;\">Elevated erythrocyte inosine triphosphate concentration (HP:6000510); Reduced erythrocyte inosine triphosphatase activity (HP:6000511)</td></tr>\n",
       "<tr><td style=\"text-align: left;\">Family 4 4A (UNKNOWN; n/a)</td><td style=\"text-align: left;\">Inosine triphosphatase deficiency (OMIM:613850)</td><td style=\"text-align: left;\">NM_033453.4:c.94C>A (homozygous)</td><td style=\"text-align: left;\">Elevated erythrocyte inosine triphosphate concentration (HP:6000510); Reduced erythrocyte inosine triphosphatase activity (HP:6000511)</td></tr>\n",
       "<tr><td style=\"text-align: left;\">Family 5 5A (UNKNOWN; n/a)</td><td style=\"text-align: left;\">Inosine triphosphatase deficiency (OMIM:613850)</td><td style=\"text-align: left;\">NM_033453.4:c.94C>A (homozygous)</td><td style=\"text-align: left;\">Elevated erythrocyte inosine triphosphate concentration (HP:6000510); Reduced erythrocyte inosine triphosphatase activity (HP:6000511)</td></tr>\n",
       "<tr><td style=\"text-align: left;\">Family 6 6A (UNKNOWN; n/a)</td><td style=\"text-align: left;\">Inosine triphosphatase deficiency (OMIM:613850)</td><td style=\"text-align: left;\">NM_033453.4:c.94C>A (homozygous)</td><td style=\"text-align: left;\">Elevated erythrocyte inosine triphosphate concentration (HP:6000510); Reduced erythrocyte inosine triphosphatase activity (HP:6000511)</td></tr>\n",
       "</table>"
      ],
      "text/plain": [
       "<IPython.core.display.HTML object>"
      ]
     },
     "metadata": {},
     "output_type": "display_data"
    }
   ],
   "source": [
    "table = IndividualTable(cvalidator.get_error_free_individual_list())\n",
    "display(HTML(table.to_html()))"
   ]
  },
  {
   "cell_type": "code",
   "execution_count": 9,
   "metadata": {},
   "outputs": [
    {
     "name": "stdout",
     "output_type": "stream",
     "text": [
      "[pyphetools] Ingested 6 GA4GH phenopackets.\n",
      "[INFO] Extracted 6 from 6 phenopackets with OMIM:613850\n",
      "\n",
      "\tInosine triphosphatase deficiency (OMIM:613850): n=6\n",
      "We found a total of 2 unique HPO terms\n",
      "Extracted disease: Inosine triphosphatase deficiency (OMIM:613850)\n",
      "Wrote HPOA disease file to OMIM-613850.tab\n"
     ]
    },
    {
     "data": {
      "text/html": [
       "<div>\n",
       "<style scoped>\n",
       "    .dataframe tbody tr th:only-of-type {\n",
       "        vertical-align: middle;\n",
       "    }\n",
       "\n",
       "    .dataframe tbody tr th {\n",
       "        vertical-align: top;\n",
       "    }\n",
       "\n",
       "    .dataframe thead th {\n",
       "        text-align: right;\n",
       "    }\n",
       "</style>\n",
       "<table border=\"1\" class=\"dataframe\">\n",
       "  <thead>\n",
       "    <tr style=\"text-align: right;\">\n",
       "      <th></th>\n",
       "      <th>#diseaseID</th>\n",
       "      <th>diseaseName</th>\n",
       "      <th>phenotypeID</th>\n",
       "      <th>phenotypeName</th>\n",
       "      <th>onsetID</th>\n",
       "      <th>onsetName</th>\n",
       "      <th>frequency</th>\n",
       "      <th>sex</th>\n",
       "      <th>negation</th>\n",
       "      <th>modifier</th>\n",
       "      <th>description</th>\n",
       "      <th>publication</th>\n",
       "      <th>evidence</th>\n",
       "      <th>biocuration</th>\n",
       "    </tr>\n",
       "  </thead>\n",
       "  <tbody>\n",
       "    <tr>\n",
       "      <th>0</th>\n",
       "      <td>OMIM:613850</td>\n",
       "      <td>Inosine triphosphatase deficiency</td>\n",
       "      <td>HP:6000510</td>\n",
       "      <td>Elevated erythrocyte inosine triphosphate conc...</td>\n",
       "      <td></td>\n",
       "      <td></td>\n",
       "      <td>6/6</td>\n",
       "      <td></td>\n",
       "      <td></td>\n",
       "      <td></td>\n",
       "      <td></td>\n",
       "      <td>PMID:12384777</td>\n",
       "      <td>PCS</td>\n",
       "      <td>ORCID:0000-0002-0736-9199[2024-08-04]</td>\n",
       "    </tr>\n",
       "    <tr>\n",
       "      <th>1</th>\n",
       "      <td>OMIM:613850</td>\n",
       "      <td>Inosine triphosphatase deficiency</td>\n",
       "      <td>HP:6000511</td>\n",
       "      <td>Reduced erythrocyte inosine triphosphatase act...</td>\n",
       "      <td></td>\n",
       "      <td></td>\n",
       "      <td>6/6</td>\n",
       "      <td></td>\n",
       "      <td></td>\n",
       "      <td></td>\n",
       "      <td></td>\n",
       "      <td>PMID:12384777</td>\n",
       "      <td>PCS</td>\n",
       "      <td>ORCID:0000-0002-0736-9199[2024-08-04]</td>\n",
       "    </tr>\n",
       "    <tr>\n",
       "      <th>2</th>\n",
       "      <td>OMIM:613850</td>\n",
       "      <td>Inosine triphosphatase deficiency</td>\n",
       "      <td>HP:0000007</td>\n",
       "      <td>Autosomal recessive inheritance</td>\n",
       "      <td></td>\n",
       "      <td></td>\n",
       "      <td></td>\n",
       "      <td></td>\n",
       "      <td></td>\n",
       "      <td></td>\n",
       "      <td></td>\n",
       "      <td>PMID:12384777</td>\n",
       "      <td>PCS</td>\n",
       "      <td>ORCID:0000-0002-0736-9199[2024-08-04]</td>\n",
       "    </tr>\n",
       "  </tbody>\n",
       "</table>\n",
       "</div>"
      ],
      "text/plain": [
       "    #diseaseID                        diseaseName phenotypeID  \\\n",
       "0  OMIM:613850  Inosine triphosphatase deficiency  HP:6000510   \n",
       "1  OMIM:613850  Inosine triphosphatase deficiency  HP:6000511   \n",
       "2  OMIM:613850  Inosine triphosphatase deficiency  HP:0000007   \n",
       "\n",
       "                                       phenotypeName onsetID onsetName  \\\n",
       "0  Elevated erythrocyte inosine triphosphate conc...                     \n",
       "1  Reduced erythrocyte inosine triphosphatase act...                     \n",
       "2                    Autosomal recessive inheritance                     \n",
       "\n",
       "  frequency sex negation modifier description    publication evidence  \\\n",
       "0       6/6                                    PMID:12384777      PCS   \n",
       "1       6/6                                    PMID:12384777      PCS   \n",
       "2                                              PMID:12384777      PCS   \n",
       "\n",
       "                             biocuration  \n",
       "0  ORCID:0000-0002-0736-9199[2024-08-04]  \n",
       "1  ORCID:0000-0002-0736-9199[2024-08-04]  \n",
       "2  ORCID:0000-0002-0736-9199[2024-08-04]  "
      ]
     },
     "execution_count": 9,
     "metadata": {},
     "output_type": "execute_result"
    }
   ],
   "source": [
    "pmid = \"PMID:12384777\"\n",
    "df = timporter.create_hpoa_from_phenopackets(pmid=pmid, mode_of_inheritance=Moi.AR, target=\"OMIM:613850\")\n",
    "df.head()"
   ]
  },
  {
   "cell_type": "code",
   "execution_count": null,
   "metadata": {},
   "outputs": [],
   "source": []
  }
 ],
 "metadata": {
  "kernelspec": {
   "display_name": "ps24venv",
   "language": "python",
   "name": "python3"
  },
  "language_info": {
   "codemirror_mode": {
    "name": "ipython",
    "version": 3
   },
   "file_extension": ".py",
   "mimetype": "text/x-python",
   "name": "python",
   "nbconvert_exporter": "python",
   "pygments_lexer": "ipython3",
   "version": "3.12.4"
  }
 },
 "nbformat": 4,
 "nbformat_minor": 2
}
