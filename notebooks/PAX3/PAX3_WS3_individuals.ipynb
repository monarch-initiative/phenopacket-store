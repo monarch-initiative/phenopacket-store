{
 "cells": [
  {
   "cell_type": "markdown",
   "metadata": {},
   "source": [
    "# PAX3\n",
    "[Waardenburg syndrome type 3 (WS3)](https://omim.org/entry/148820) is caused by heterozygous or homozygous mutation in the PAX3 gene."
   ]
  },
  {
   "cell_type": "code",
   "execution_count": 1,
   "metadata": {},
   "outputs": [
    {
     "name": "stdout",
     "output_type": "stream",
     "text": [
      "Using pyphetools version 0.9.86\n"
     ]
    },
    {
     "name": "stderr",
     "output_type": "stream",
     "text": [
      "/Users/robin/GIT/phenopacket-store/ps24venv/lib/python3.9/site-packages/urllib3/__init__.py:35: NotOpenSSLWarning: urllib3 v2 only supports OpenSSL 1.1.1+, currently the 'ssl' module is compiled with 'LibreSSL 2.8.3'. See: https://github.com/urllib3/urllib3/issues/3020\n",
      "  warnings.warn(\n"
     ]
    }
   ],
   "source": [
    "from pyphetools.creation import TemplateImporter\n",
    "from pyphetools.visualization import IndividualTable, QcVisualizer\n",
    "from IPython.display import display, HTML\n",
    "import pyphetools\n",
    "print(f\"Using pyphetools version {pyphetools.__version__}\")"
   ]
  },
  {
   "cell_type": "code",
   "execution_count": 2,
   "metadata": {},
   "outputs": [],
   "source": [
    "template = \"input/PAX3_WS3_individuals.xlsx\"\n",
    "created_by = \"0000-0002-0736-9199\""
   ]
  },
  {
   "cell_type": "code",
   "execution_count": 3,
   "metadata": {},
   "outputs": [
    {
     "name": "stdout",
     "output_type": "stream",
     "text": [
      "HPO version 2024-04-26\n",
      "Created encoders for 45 fields\n",
      "Importing OMIM:148820, Waardenburg syndrome, type 3, HGNC:8617, PAX3,  NM_181458.4\n",
      "We output 2 GA4GH phenopackets to the directory phenopackets\n"
     ]
    }
   ],
   "source": [
    "timporter = TemplateImporter(template=template,  created_by=created_by)\n",
    "individual_list, cvalidator = timporter.import_phenopackets_from_template()"
   ]
  },
  {
   "cell_type": "code",
   "execution_count": 4,
   "metadata": {},
   "outputs": [
    {
     "data": {
      "text/html": [
       "<h2>Cohort validation</h2>\n",
       "<p>No errors found for the cohort with 2 individuals</p>"
      ],
      "text/plain": [
       "<IPython.core.display.HTML object>"
      ]
     },
     "metadata": {},
     "output_type": "display_data"
    }
   ],
   "source": [
    "qc = QcVisualizer(cohort_validator=cvalidator)\n",
    "display(HTML(qc.to_summary_html()))"
   ]
  },
  {
   "cell_type": "code",
   "execution_count": 5,
   "metadata": {},
   "outputs": [
    {
     "data": {
      "text/html": [
       "<table style=\"border: 2px solid black; align: \"left\">\n",
       "<caption>2 phenopackets - PMID:12949970 (n=1); PMID:7726174 (n=1)</caption>\n",
       "<tr><th style=\"text-align: left;font-weight: bold;\">Individual</th><th style=\"text-align: left;font-weight: bold;\">Disease</th><th style=\"text-align: left;font-weight: bold;\">Genotype</th><th style=\"text-align: left;font-weight: bold;\">Phenotypic features</th></tr>\n",
       "<tr><td style=\"text-align: left;\">proposita (FEMALE; P1Y6M)</td><td style=\"text-align: left;\">Waardenburg syndrome, type 3 (OMIM:148820)</td><td style=\"text-align: left;\">NM_181458.4:c.268T>C (homozygous)</td><td style=\"text-align: left;\">Bilateral wrist flexion contracture (HP:0012453); Flexion contracture of finger (HP:0012785); White eyelashes (HP:0002227); White eyebrow (HP:0002226); Partial albinism (HP:0007443); Short palpebral fissure (HP:0012745); Telecanthus (HP:0000506); Epicanthus inversus (HP:0000537); Prominent nasal bridge (HP:0000426); Prominent nasal tip (HP:0005274); Narrow naris (HP:0009933); Posteriorly rotated ears (HP:0000358); Blue irides (HP:0000635); Delayed fine motor development (HP:0010862); excluded: Axillary pterygium (HP:0001060); excluded: Upper limb amyotrophy (HP:0009129)</td></tr>\n",
       "<tr><td style=\"text-align: left;\">propositus (MALE; P3M)</td><td style=\"text-align: left;\">Waardenburg syndrome, type 3 (OMIM:148820)</td><td style=\"text-align: left;\">NM_181458.4:c.251C>T (homozygous)</td><td style=\"text-align: left;\">Axillary pterygium (HP:0001060); Upper limb amyotrophy (HP:0009129); Bilateral wrist flexion contracture (HP:0012453); Flexion contracture of finger (HP:0012785); Premature graying of hair (HP:0002216); White eyelashes (HP:0002227); White eyebrow (HP:0002226); Partial albinism (HP:0007443); Short palpebral fissure (HP:0012745); Telecanthus (HP:0000506); Prominent nasal bridge (HP:0000426)</td></tr>\n",
       "</table>"
      ],
      "text/plain": [
       "<IPython.core.display.HTML object>"
      ]
     },
     "metadata": {},
     "output_type": "display_data"
    }
   ],
   "source": [
    "table = IndividualTable(cvalidator.get_error_free_individual_list())\n",
    "display(HTML(table.to_html()))"
   ]
  },
  {
   "cell_type": "code",
   "execution_count": 6,
   "metadata": {},
   "outputs": [
    {
     "name": "stdout",
     "output_type": "stream",
     "text": [
      "[pyphetools] Ingested 2 GA4GH phenopackets.\n",
      "[INFO] Extracted 2 from 2 phenopackets with OMIM:148820\n",
      "\n",
      "\tWaardenburg syndrome, type 3 (OMIM:148820): n=2\n",
      "We found a total of 17 unique HPO terms\n",
      "Extracted disease: Waardenburg syndrome, type 3 (OMIM:148820)\n",
      "Wrote HPOA disease file to OMIM-148820.tab\n"
     ]
    }
   ],
   "source": [
    "pmid = \"PMID:12949970\"\n",
    "df = timporter.create_hpoa_from_phenopackets(pmid=pmid, moi=\"Autosomal recessive\", target=\"OMIM:148820\")"
   ]
  }
 ],
 "metadata": {
  "kernelspec": {
   "display_name": "ps24venv",
   "language": "python",
   "name": "python3"
  },
  "language_info": {
   "codemirror_mode": {
    "name": "ipython",
    "version": 3
   },
   "file_extension": ".py",
   "mimetype": "text/x-python",
   "name": "python",
   "nbconvert_exporter": "python",
   "pygments_lexer": "ipython3",
   "version": "3.9.6"
  }
 },
 "nbformat": 4,
 "nbformat_minor": 2
}
