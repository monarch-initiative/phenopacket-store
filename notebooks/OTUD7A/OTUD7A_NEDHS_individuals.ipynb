{
 "cells": [
  {
   "cell_type": "markdown",
   "metadata": {},
   "source": [
    "# OTUD7A\n",
    "[neurodevelopmental disorder with hypotonia and seizures (NEDHS)](https://omim.org/entry/620790) is caused by homozygous or compound heterozygous mutation in the OTUD7A gene."
   ]
  },
  {
   "cell_type": "code",
   "execution_count": 3,
   "metadata": {},
   "outputs": [
    {
     "name": "stdout",
     "output_type": "stream",
     "text": [
      "Using pyphetools version 0.9.94\n"
     ]
    }
   ],
   "source": [
    "from pyphetools.creation import TemplateImporter, Moi\n",
    "from pyphetools.visualization import IndividualTable, QcVisualizer\n",
    "from IPython.display import display, HTML\n",
    "import pyphetools\n",
    "print(f\"Using pyphetools version {pyphetools.__version__}\")"
   ]
  },
  {
   "cell_type": "code",
   "execution_count": 5,
   "metadata": {},
   "outputs": [],
   "source": [
    "template = \"input/OTUD7A_NEDHS_individuals.xlsx\"\n",
    "created_by = \"0000-0002-0736-9199\""
   ]
  },
  {
   "cell_type": "code",
   "execution_count": 6,
   "metadata": {},
   "outputs": [
    {
     "name": "stdout",
     "output_type": "stream",
     "text": [
      "HPO version 2024-07-01\n",
      "Created encoders for 36 fields\n",
      "Importing OMIM:620790, Neurodevelopmental disorder with hypotonia and seizures, HGNC:20718, OTUD7A,  NM_001382637.1\n",
      "[INFO] encoding variant \"c.697C>T\"\n",
      "https://rest.variantvalidator.org/VariantValidator/variantvalidator/hg38/NM_001382637.1%3Ac.697C>T/NM_001382637.1?content-type=application%2Fjson\n",
      "[INFO] encoding variant \"c.1146del\"\n",
      "https://rest.variantvalidator.org/VariantValidator/variantvalidator/hg38/NM_001382637.1%3Ac.1146del/NM_001382637.1?content-type=application%2Fjson\n",
      "We output 2 GA4GH phenopackets to the directory phenopackets\n"
     ]
    }
   ],
   "source": [
    "timporter = TemplateImporter(template=template,  created_by=created_by)\n",
    "individual_list, cvalidator = timporter.import_phenopackets_from_template()"
   ]
  },
  {
   "cell_type": "code",
   "execution_count": 7,
   "metadata": {},
   "outputs": [
    {
     "data": {
      "text/html": [
       "<h2>Cohort validation</h2>\n",
       "<p>Errors found with 2 of 2 phenopackets.</p>\n",
       "<table style=\"border: 2px solid black; align: \"left\">\n",
       "<caption>Error counts</caption>\n",
       "<tr><th style=\"text-align: left;font-weight: bold;\">Level</th><th style=\"text-align: left;font-weight: bold;\">Error category</th><th style=\"text-align: left;font-weight: bold;\">Count</th></tr>\n",
       "<tr><td style=\"text-align: left;\">WARNING</td><td style=\"text-align: left;\">REDUNDANT</td><td style=\"text-align: left;\">4</td></tr>\n",
       "</table>\n",
       "<p>A total of 4 issues were fixed and no individual was removed from the cohort.</p>"
      ],
      "text/plain": [
       "<IPython.core.display.HTML object>"
      ]
     },
     "metadata": {},
     "output_type": "display_data"
    }
   ],
   "source": [
    "qc = QcVisualizer(cohort_validator=cvalidator)\n",
    "display(HTML(qc.to_summary_html()))"
   ]
  },
  {
   "cell_type": "code",
   "execution_count": 8,
   "metadata": {},
   "outputs": [
    {
     "data": {
      "text/html": [
       "<table style=\"border: 2px solid black; align: \"left\">\n",
       "<caption>2 phenopackets - PMID:31997314 (n=1); PMID:33381903 (n=1)</caption>\n",
       "<tr><th style=\"text-align: left;font-weight: bold;\">Individual</th><th style=\"text-align: left;font-weight: bold;\">Disease</th><th style=\"text-align: left;font-weight: bold;\">Genotype</th><th style=\"text-align: left;font-weight: bold;\">Phenotypic features</th></tr>\n",
       "<tr><td style=\"text-align: left;\">proband (MALE; P2Y4M)</td><td style=\"text-align: left;\">Neurodevelopmental disorder with hypotonia and seizures (OMIM:620790)</td><td style=\"text-align: left;\">NM_001382637.1:c.697C>T (homozygous)</td><td style=\"text-align: left;\"><b>P1Y2M</b>: Infantile spasms (HP:0012469); Hypsarrhythmia (HP:0002521)<br/><b>P2Y4M</b>: Inability to walk (HP:0002540); Atypical absence seizure (HP:0007270)<br/>Delayed ability to sit (HP:0025336); Delayed ability to walk (HP:0031936); Widened subarachnoid space (HP:0012704); Thin corpus callosum (HP:0033725); Hypotonia (HP:0001252); Global developmental delay (HP:0001263); Delayed speech and language development (HP:0000750); excluded: Febrile seizure (within the age range of 3 months to 6 years) (HP:0002373); excluded: Focal impaired awareness tonic seizure (HP:0032724); excluded: Macrotia (HP:0000400); excluded: Downslanted palpebral fissures (HP:0000494); excluded: Tented upper lip vermilion (HP:0010804); excluded: Scoliosis (HP:0002650)</td></tr>\n",
       "<tr><td style=\"text-align: left;\">nan (MALE; P3Y8M)</td><td style=\"text-align: left;\">Neurodevelopmental disorder with hypotonia and seizures (OMIM:620790)</td><td style=\"text-align: left;\">NM_001382637.1:c.1146del (homozygous)</td><td style=\"text-align: left;\"><b>P1Y2M</b>: Febrile seizure (within the age range of 3 months to 6 years) (HP:0002373)<br/><b>P3Y</b>: Focal impaired awareness tonic seizure (HP:0032724)<br/>Hypotonia (HP:0001252); Global developmental delay (HP:0001263); Delayed ability to sit (HP:0025336); Delayed ability to walk (HP:0031936); Delayed speech and language development (HP:0000750); Macrotia (HP:0000400); Downslanted palpebral fissures (HP:0000494); Tented upper lip vermilion (HP:0010804); Scoliosis (HP:0002650); excluded: Widened subarachnoid space (HP:0012704); excluded: Thin corpus callosum (HP:0033725); excluded: Infantile spasms (HP:0012469); excluded: Atypical absence seizure (HP:0007270); excluded: Hypsarrhythmia (HP:0002521)</td></tr>\n",
       "</table>"
      ],
      "text/plain": [
       "<IPython.core.display.HTML object>"
      ]
     },
     "metadata": {},
     "output_type": "display_data"
    }
   ],
   "source": [
    "table = IndividualTable(cvalidator.get_error_free_individual_list())\n",
    "display(HTML(table.to_html()))"
   ]
  },
  {
   "cell_type": "code",
   "execution_count": 9,
   "metadata": {},
   "outputs": [
    {
     "name": "stdout",
     "output_type": "stream",
     "text": [
      "[pyphetools] Ingested 2 GA4GH phenopackets.\n",
      "[INFO] Extracted 2 from 2 phenopackets with OMIM:620790\n",
      "\n",
      "\tNeurodevelopmental disorder with hypotonia and seizures (OMIM:620790): n=2\n",
      "We found a total of 17 unique HPO terms\n",
      "Extracted disease: Neurodevelopmental disorder with hypotonia and seizures (OMIM:620790)\n",
      "Wrote HPOA disease file to OMIM-620790.tab\n"
     ]
    }
   ],
   "source": [
    "pmid = \"PMID:31997314\"\n",
    "df = timporter.create_hpoa_from_phenopackets(pmid=pmid, mode_of_inheritance=Moi.AR, target=\"OMIM:620790\")"
   ]
  }
 ],
 "metadata": {
  "kernelspec": {
   "display_name": "ps24venv",
   "language": "python",
   "name": "python3"
  },
  "language_info": {
   "codemirror_mode": {
    "name": "ipython",
    "version": 3
   },
   "file_extension": ".py",
   "mimetype": "text/x-python",
   "name": "python",
   "nbconvert_exporter": "python",
   "pygments_lexer": "ipython3",
   "version": "3.9.6"
  }
 },
 "nbformat": 4,
 "nbformat_minor": 2
}
