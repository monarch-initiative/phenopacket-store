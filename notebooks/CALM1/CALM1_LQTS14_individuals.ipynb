{
 "cells": [
  {
   "cell_type": "markdown",
   "metadata": {},
   "source": [
    "# CALM1\n",
    "[long QT syndrome-14 (LQT14)](https://omim.org/entry/616247) is caused by heterozygous mutation in the CALM1 gene."
   ]
  },
  {
   "cell_type": "code",
   "execution_count": 1,
   "metadata": {},
   "outputs": [
    {
     "name": "stdout",
     "output_type": "stream",
     "text": [
      "Using pyphetools version 0.9.84\n"
     ]
    },
    {
     "name": "stderr",
     "output_type": "stream",
     "text": [
      "/Users/robin/GIT/phenopacket-store/ps24venv/lib/python3.9/site-packages/urllib3/__init__.py:35: NotOpenSSLWarning: urllib3 v2 only supports OpenSSL 1.1.1+, currently the 'ssl' module is compiled with 'LibreSSL 2.8.3'. See: https://github.com/urllib3/urllib3/issues/3020\n",
      "  warnings.warn(\n"
     ]
    }
   ],
   "source": [
    "from pyphetools.creation import TemplateImporter\n",
    "from pyphetools.visualization import IndividualTable, QcVisualizer\n",
    "from IPython.display import display, HTML\n",
    "import pyphetools\n",
    "print(f\"Using pyphetools version {pyphetools.__version__}\")"
   ]
  },
  {
   "cell_type": "code",
   "execution_count": 2,
   "metadata": {},
   "outputs": [],
   "source": [
    "template = \"input/CALM1_LQTS14_individuals.xlsx\"\n",
    "created_by = \"0000-0002-0736-9199\""
   ]
  },
  {
   "cell_type": "code",
   "execution_count": 4,
   "metadata": {},
   "outputs": [
    {
     "name": "stdout",
     "output_type": "stream",
     "text": [
      "HPO version 2024-04-26\n",
      "Created encoders for 25 fields\n",
      "Importing OMIM:616247, Long QT syndrome 14, HGNC:1442, CALM1,  NM_006888.6\n",
      "[INFO] encoding variant \"c.426C>G\"\n",
      "https://rest.variantvalidator.org/VariantValidator/variantvalidator/hg38/NM_006888.6%3Ac.426C>G/NM_006888.6?content-type=application%2Fjson\n",
      "[INFO] encoding variant \"c.389A>G\"\n",
      "https://rest.variantvalidator.org/VariantValidator/variantvalidator/hg38/NM_006888.6%3Ac.389A>G/NM_006888.6?content-type=application%2Fjson\n",
      "We output 4 GA4GH phenopackets to the directory phenopackets\n"
     ]
    }
   ],
   "source": [
    "timporter = TemplateImporter(template=template,  created_by=created_by)\n",
    "individual_list, cvalidator = timporter.import_phenopackets_from_template()"
   ]
  },
  {
   "cell_type": "code",
   "execution_count": 5,
   "metadata": {},
   "outputs": [
    {
     "data": {
      "text/html": [
       "<h2>Cohort validation</h2>\n",
       "<p>No errors found for the cohort with 4 individuals</p>"
      ],
      "text/plain": [
       "<IPython.core.display.HTML object>"
      ]
     },
     "metadata": {},
     "output_type": "display_data"
    }
   ],
   "source": [
    "qc = QcVisualizer(cohort_validator=cvalidator)\n",
    "display(HTML(qc.to_summary_html()))"
   ]
  },
  {
   "cell_type": "code",
   "execution_count": 6,
   "metadata": {},
   "outputs": [
    {
     "data": {
      "text/html": [
       "<table style=\"border: 2px solid black; align: \"left\">\n",
       "<caption>4 phenopackets - PMID:27374306 (n=1); PMID:23388215 (n=3)</caption>\n",
       "<tr><th style=\"text-align: left;font-weight: bold;\">Individual</th><th style=\"text-align: left;font-weight: bold;\">Disease</th><th style=\"text-align: left;font-weight: bold;\">Genotype</th><th style=\"text-align: left;font-weight: bold;\">Phenotypic features</th></tr>\n",
       "<tr><td style=\"text-align: left;\">Case 2 (MALE; P4Y)</td><td style=\"text-align: left;\">Long QT syndrome 14 (OMIM:616247)</td><td style=\"text-align: left;\">NM_006888.6:c.395A>T (heterozygous)</td><td style=\"text-align: left;\"><b>P3Y</b>: Polymorphic ventricular tachycardia (HP:0031677); Prolonged QTc interval (HP:0005184); Ventricular fibrillation (HP:0001663); Cardiac arrest (HP:0001695)<br/>excluded: Myocarditis (HP:0012819)</td></tr>\n",
       "<tr><td style=\"text-align: left;\">Proband 1 (FEMALE; P2Y)</td><td style=\"text-align: left;\">Long QT syndrome 14 (OMIM:616247)</td><td style=\"text-align: left;\">NM_006888.6:c.389A>G (heterozygous)</td><td style=\"text-align: left;\"><b>P6M</b>: Polymorphic ventricular tachycardia (HP:0031677); Prolonged QTc interval (HP:0005184); Ventricular fibrillation (HP:0001663); Cardiac arrest (HP:0001695); T-wave alternans (HP:0012266); 2:1 atrioventricular block (HP:0034305)</td></tr>\n",
       "<tr><td style=\"text-align: left;\">Proband 3 (MALE; P3Y)</td><td style=\"text-align: left;\">Long QT syndrome 14 (OMIM:616247)</td><td style=\"text-align: left;\">NM_006888.6:c.389A>G (heterozygous)</td><td style=\"text-align: left;\"><b>P1M</b>: Polymorphic ventricular tachycardia (HP:0031677); Prolonged QTc interval (HP:0005184); Ventricular fibrillation (HP:0001663); Cardiac arrest (HP:0001695); T-wave alternans (HP:0012266); 2:1 atrioventricular block (HP:0034305)</td></tr>\n",
       "<tr><td style=\"text-align: left;\">Proband 4 (MALE; P14Y)</td><td style=\"text-align: left;\">Long QT syndrome 14 (OMIM:616247)</td><td style=\"text-align: left;\">NM_006888.6:c.426C>G (heterozygous)</td><td style=\"text-align: left;\">Prolonged QTc interval (HP:0005184); Ventricular fibrillation (HP:0001663); Cardiac arrest (HP:0001695); T-wave alternans (HP:0012266); excluded: 2:1 atrioventricular block (HP:0034305)</td></tr>\n",
       "</table>"
      ],
      "text/plain": [
       "<IPython.core.display.HTML object>"
      ]
     },
     "metadata": {},
     "output_type": "display_data"
    }
   ],
   "source": [
    "table = IndividualTable(cvalidator.get_error_free_individual_list())\n",
    "display(HTML(table.to_html()))"
   ]
  },
  {
   "cell_type": "code",
   "execution_count": 7,
   "metadata": {},
   "outputs": [
    {
     "name": "stdout",
     "output_type": "stream",
     "text": [
      "[pyphetools] Ingested 4 GA4GH phenopackets.\n",
      "\tLong QT syndrome 14 (OMIM:616247): n=4\n",
      "We found a total of 7 unique HPO terms\n",
      "Extracted disease: Long QT syndrome 14 (OMIM:616247)\n",
      "Wrote HPOA disease file to OMIM-616247.tab\n"
     ]
    }
   ],
   "source": [
    "pmid = \"PMID:23388215\"\n",
    "df = timporter.create_hpoa_from_phenopackets(pmid=pmid, moi=\"Autosomal dominant\")"
   ]
  }
 ],
 "metadata": {
  "kernelspec": {
   "display_name": "ps24venv",
   "language": "python",
   "name": "python3"
  },
  "language_info": {
   "codemirror_mode": {
    "name": "ipython",
    "version": 3
   },
   "file_extension": ".py",
   "mimetype": "text/x-python",
   "name": "python",
   "nbconvert_exporter": "python",
   "pygments_lexer": "ipython3",
   "version": "3.9.6"
  }
 },
 "nbformat": 4,
 "nbformat_minor": 2
}
