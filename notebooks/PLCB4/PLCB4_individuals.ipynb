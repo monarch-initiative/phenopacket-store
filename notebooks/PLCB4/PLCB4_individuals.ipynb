{
 "cells": [
  {
   "cell_type": "markdown",
   "id": "bfe796df-98f0-4c6c-95fc-eb9158915a70",
   "metadata": {},
   "source": [
    "# PLCB4\n",
    "phospholipase C (PLC) beta 4 (PLCB4) encodes a subunit of PLC. Pathogenic variants in PLCB4 are associated with\n",
    "[Auriculocondylar syndrome 2A (OMIM:614669)]( https://omim.org/entry/614669) and \n",
    "[Auriculocondylar syndrome 2B (OMIM:620458)](https://omim.org/entry/614669)."
   ]
  },
  {
   "cell_type": "code",
   "execution_count": 1,
   "id": "d2ca2a95-f90d-4b27-9b9a-566f50440d8b",
   "metadata": {},
   "outputs": [
    {
     "name": "stdout",
     "output_type": "stream",
     "text": [
      "Using pyphetools version 0.9.71\n"
     ]
    }
   ],
   "source": [
    "from pyphetools.creation import TemplateImporter\n",
    "from pyphetools.visualization import IndividualTable, QcVisualizer\n",
    "from IPython.display import display, HTML\n",
    "import pyphetools\n",
    "print(f\"Using pyphetools version {pyphetools.__version__}\")"
   ]
  },
  {
   "cell_type": "code",
   "execution_count": 2,
   "id": "404d41ac-0677-4515-a558-8efb31fccd78",
   "metadata": {},
   "outputs": [],
   "source": [
    "template = \"input/PLCB4_individuals.xlsx\"\n",
    "hp_json = \"../hp.json\"\n",
    "created_by = \"0000-0002-0736-9199\""
   ]
  },
  {
   "cell_type": "code",
   "execution_count": 9,
   "id": "a0a9035a-51e0-4ff4-a679-09bee1067d6a",
   "metadata": {},
   "outputs": [
    {
     "name": "stdout",
     "output_type": "stream",
     "text": [
      "HPO version 2024-03-06\n",
      "Created encoders for 44 fields\n",
      "Importing OMIM:620458, Auriculocondylar syndrome 2B, HGNC:9059, PLCB4,  NM_001377142.1\n",
      "[INFO] encoding variant \"c.854-1G>A\"\n",
      "https://rest.variantvalidator.org/VariantValidator/variantvalidator/hg38/NM_001377142.1%3Ac.854-1G>A/NM_001377142.1?content-type=application%2Fjson\n",
      "[INFO] encoding variant \"c.1620dup\"\n",
      "https://rest.variantvalidator.org/VariantValidator/variantvalidator/hg38/NM_001377142.1%3Ac.1620dup/NM_001377142.1?content-type=application%2Fjson\n",
      "[INFO] encoding variant \"c.624del\"\n",
      "https://rest.variantvalidator.org/VariantValidator/variantvalidator/hg38/NM_001377142.1%3Ac.624del/NM_001377142.1?content-type=application%2Fjson\n",
      "[INFO] encoding variant \"c.1238+1G>C\"\n",
      "https://rest.variantvalidator.org/VariantValidator/variantvalidator/hg38/NM_001377142.1%3Ac.1238+1G>C/NM_001377142.1?content-type=application%2Fjson\n",
      "We output 5 GA4GH phenopackets to the directory phenopackets\n"
     ]
    }
   ],
   "source": [
    "deletion_set = {'4,997-bp intragenic deletion in the PLCB4 gene'}\n",
    "timporter = TemplateImporter(template=template, hp_json=hp_json, created_by=created_by)\n",
    "individual_list, cvalidator = timporter.import_phenopackets_from_template(deletions=deletion_set)"
   ]
  },
  {
   "cell_type": "code",
   "execution_count": 10,
   "id": "25d64cbd-db94-4451-af0c-4a5185575841",
   "metadata": {},
   "outputs": [
    {
     "data": {
      "text/html": [
       "<h2>Cohort validation</h2>\n",
       "<p>No errors found for the cohort with 5 individuals</p>"
      ],
      "text/plain": [
       "<IPython.core.display.HTML object>"
      ]
     },
     "metadata": {},
     "output_type": "display_data"
    }
   ],
   "source": [
    "qc = QcVisualizer(cohort_validator=cvalidator)\n",
    "display(HTML(qc.to_summary_html()))"
   ]
  },
  {
   "cell_type": "code",
   "execution_count": 11,
   "id": "88a367e2-d0b3-4af8-8402-f8057d751c22",
   "metadata": {},
   "outputs": [
    {
     "data": {
      "text/html": [
       "<table style=\"border: 2px solid black; align: \"left\">\n",
       "<caption>5 phenopackets - PMID:23315542 (n=1); PMID:23913798 (n=2); PMID:27007857 (n=1); PMID:35170830 (n=1)</caption>\n",
       "<tr><th style=\"text-align: left;font-weight: bold;\">Individual</th><th style=\"text-align: left;font-weight: bold;\">Disease</th><th style=\"text-align: left;font-weight: bold;\">Genotype</th><th style=\"text-align: left;font-weight: bold;\">Phenotypic features</th></tr>\n",
       "<tr><td style=\"text-align: left;\">case 8 (MALE; n/a)</td><td style=\"text-align: left;\">Auriculocondylar syndrome 2B (OMIM:620458)</td><td style=\"text-align: left;\">4,997-bp intragenic deletion in the PLCB4 gene: chromosomal_deletion (SO:1000029)</td><td style=\"text-align: left;\">Question mark ear (HP:0030022); Postauricular skin tag (HP:0004451); Micrognathia (HP:0000347); excluded: Preauricular skin tag (HP:0000384); excluded: Facial asymmetry (HP:0000324); excluded: Limbal dermoid (HP:0001140); excluded: Abnormality of the cervical spine (HP:0003319); excluded: Neonatal respiratory distress (HP:0002643); excluded: Omphalocele (HP:0001539)</td></tr>\n",
       "<tr><td style=\"text-align: left;\">Patient 1 (MALE; n/a)</td><td style=\"text-align: left;\">Auriculocondylar syndrome 2B (OMIM:620458)</td><td style=\"text-align: left;\"><ul> <li>NM_001377142.1:c.854-1G>A (heterozygous)</li> <li>NM_001377142.1:c.1238+1G>C (heterozygous)</li> </ul></td><td style=\"text-align: left;\"><b>P1D</b>: Neonatal respiratory distress (HP:0002643)<br/>Question mark ear (HP:0030022); Micrognathia (HP:0000347); Full cheeks (HP:0000293); Long penis (HP:0000040); Autistic behavior (HP:0000729); excluded: Omphalocele (HP:0001539); excluded: Feeding difficulties (HP:0011968)</td></tr>\n",
       "<tr><td style=\"text-align: left;\">Patient 2 (MALE; n/a)</td><td style=\"text-align: left;\">Auriculocondylar syndrome 2B (OMIM:620458)</td><td style=\"text-align: left;\"><ul> <li>NM_001377142.1:c.854-1G>A (heterozygous)</li> <li>NM_001377142.1:c.1238+1G>C (heterozygous)</li> </ul></td><td style=\"text-align: left;\">Question mark ear (HP:0030022); Micrognathia (HP:0000347); Full cheeks (HP:0000293); Long penis (HP:0000040); Chronic constipation (HP:0012450); Omphalocele (HP:0001539); Feeding difficulties (HP:0011968)</td></tr>\n",
       "<tr><td style=\"text-align: left;\">proband (MALE; n/a)</td><td style=\"text-align: left;\">Auriculocondylar syndrome 2B (OMIM:620458)</td><td style=\"text-align: left;\">NM_001377142.1:c.624del (homozygous)</td><td style=\"text-align: left;\"><b>P2Y</b>: Mild global developmental delay (HP:0011342)<br/>Question mark ear (HP:0030022); Postauricular skin tag (HP:0004451); Full cheeks (HP:0000293); Failure to thrive (HP:0001508); Darwin tubercle of helix (HP:0011261); Telecanthus (HP:0000506); Synophrys (HP:0000664); Narrow mouth (HP:0000160); Sparse hair (HP:0008070); Narrow forehead (HP:0000341); Opisthotonus (HP:0002179); Central sleep apnea (HP:0010536); Mandibular condyle hypoplasia (HP:0007628); Hypoplasia of the corpus callosum (HP:0002079); Postnatal growth retardation (HP:0008897); excluded: Preauricular skin tag (HP:0000384)</td></tr>\n",
       "<tr><td style=\"text-align: left;\">patient 23 (FEMALE; n/a)</td><td style=\"text-align: left;\">Auriculocondylar syndrome 2B (OMIM:620458)</td><td style=\"text-align: left;\">NM_001377142.1:c.1620dup (homozygous)</td><td style=\"text-align: left;\">Question mark ear (HP:0030022); Micrognathia (HP:0000347); Feeding difficulties (HP:0011968); Hypotonia (HP:0001252)</td></tr>\n",
       "</table>"
      ],
      "text/plain": [
       "<IPython.core.display.HTML object>"
      ]
     },
     "metadata": {},
     "output_type": "display_data"
    }
   ],
   "source": [
    "table = IndividualTable(cvalidator.get_error_free_individual_list())\n",
    "display(HTML(table.to_html()))"
   ]
  },
  {
   "cell_type": "code",
   "execution_count": null,
   "id": "38c3bf7d-792d-41a6-9f83-30ee4e3c9ebb",
   "metadata": {},
   "outputs": [],
   "source": [
    "pmid = \"PMID:23315542\"\n",
    "df = timporter.create_hpoa_from_phenopackets(pmid=pmid, moi=\"Autosomal recessive\")"
   ]
  }
 ],
 "metadata": {
  "kernelspec": {
   "display_name": "ps24venv",
   "language": "python",
   "name": "ps24venv"
  },
  "language_info": {
   "codemirror_mode": {
    "name": "ipython",
    "version": 3
   },
   "file_extension": ".py",
   "mimetype": "text/x-python",
   "name": "python",
   "nbconvert_exporter": "python",
   "pygments_lexer": "ipython3",
   "version": "3.8.10"
  }
 },
 "nbformat": 4,
 "nbformat_minor": 5
}
