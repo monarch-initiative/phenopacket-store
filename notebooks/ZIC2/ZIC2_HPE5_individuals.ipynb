{
 "cells": [
  {
   "cell_type": "markdown",
   "metadata": {},
   "source": [
    "# ZIC2\n",
    "[holoprosencephaly-5 (HPE5)](https://omim.org/entry/609637) is caused by heterozygous mutation in the ZIC2 gene."
   ]
  },
  {
   "cell_type": "code",
   "execution_count": 4,
   "metadata": {},
   "outputs": [
    {
     "name": "stdout",
     "output_type": "stream",
     "text": [
      "Using pyphetools version 0.9.84\n"
     ]
    }
   ],
   "source": [
    "from pyphetools.creation import TemplateImporter\n",
    "from pyphetools.visualization import IndividualTable, QcVisualizer\n",
    "from IPython.display import display, HTML\n",
    "import pyphetools\n",
    "print(f\"Using pyphetools version {pyphetools.__version__}\")"
   ]
  },
  {
   "cell_type": "code",
   "execution_count": 6,
   "metadata": {},
   "outputs": [],
   "source": [
    "template = \"input/ZIC2_HPE5_individuals.xlsx\"\n",
    "created_by = \"0000-0002-0736-9199\""
   ]
  },
  {
   "cell_type": "code",
   "execution_count": 7,
   "metadata": {},
   "outputs": [
    {
     "name": "stdout",
     "output_type": "stream",
     "text": [
      "HPO version 2024-04-26\n",
      "Created encoders for 43 fields\n",
      "Importing OMIM:609637, Holoprosencephaly 5, HGNC:12873, ZIC2,  NM_007129.5\n",
      "[INFO] encoding variant \"c.716_718dup\"\n",
      "https://rest.variantvalidator.org/VariantValidator/variantvalidator/hg38/NM_007129.5%3Ac.716_718dup/NM_007129.5?content-type=application%2Fjson\n",
      "[INFO] encoding variant \"c.1069C>G\"\n",
      "https://rest.variantvalidator.org/VariantValidator/variantvalidator/hg38/NM_007129.5%3Ac.1069C>G/NM_007129.5?content-type=application%2Fjson\n",
      "We output 2 GA4GH phenopackets to the directory phenopackets\n"
     ]
    }
   ],
   "source": [
    "timporter = TemplateImporter(template=template,  created_by=created_by)\n",
    "individual_list, cvalidator = timporter.import_phenopackets_from_template()"
   ]
  },
  {
   "cell_type": "code",
   "execution_count": 8,
   "metadata": {},
   "outputs": [
    {
     "data": {
      "text/html": [
       "<h2>Cohort validation</h2>\n",
       "<p>No errors found for the cohort with 2 individuals</p>"
      ],
      "text/plain": [
       "<IPython.core.display.HTML object>"
      ]
     },
     "metadata": {},
     "output_type": "display_data"
    }
   ],
   "source": [
    "qc = QcVisualizer(cohort_validator=cvalidator)\n",
    "display(HTML(qc.to_summary_html()))"
   ]
  },
  {
   "cell_type": "code",
   "execution_count": 9,
   "metadata": {},
   "outputs": [
    {
     "data": {
      "text/html": [
       "<table style=\"border: 2px solid black; align: \"left\">\n",
       "<caption>2 phenopackets - PMID:11479728 (n=1); PMID:30855487 (n=1)</caption>\n",
       "<tr><th style=\"text-align: left;font-weight: bold;\">Individual</th><th style=\"text-align: left;font-weight: bold;\">Disease</th><th style=\"text-align: left;font-weight: bold;\">Genotype</th><th style=\"text-align: left;font-weight: bold;\">Phenotypic features</th></tr>\n",
       "<tr><td style=\"text-align: left;\">nan (MALE; P1Y)</td><td style=\"text-align: left;\">Holoprosencephaly 5 (OMIM:609637)</td><td style=\"text-align: left;\">NM_007129.5:c.716_718dup (heterozygous)</td><td style=\"text-align: left;\">Semilobar holoprosencephaly (HP:0002507); Depressed nasal bridge (HP:0005280); Microcephaly (HP:0000252); Proptosis (HP:0000520); Camptodactyly (HP:0012385)</td></tr>\n",
       "<tr><td style=\"text-align: left;\">nan (FEMALE; P9M)</td><td style=\"text-align: left;\">Holoprosencephaly 5 (OMIM:609637)</td><td style=\"text-align: left;\">NM_007129.5:c.1069C>G (heterozygous)</td><td style=\"text-align: left;\"><b>P9M</b>: Ventriculomegaly (HP:0002119); Cerebellar atrophy (HP:0001272); Arachnoid cyst (HP:0100702); Global developmental delay (HP:0001263); Hyperreflexia (HP:0001347); Persistent asymmetrical tonic neck reflex (HP:0032549)<br/>Semilobar holoprosencephaly (HP:0002507); Hydrocephalus (HP:0000238)</td></tr>\n",
       "</table>"
      ],
      "text/plain": [
       "<IPython.core.display.HTML object>"
      ]
     },
     "metadata": {},
     "output_type": "display_data"
    }
   ],
   "source": [
    "table = IndividualTable(cvalidator.get_error_free_individual_list())\n",
    "display(HTML(table.to_html()))"
   ]
  },
  {
   "cell_type": "code",
   "execution_count": 11,
   "metadata": {},
   "outputs": [
    {
     "name": "stdout",
     "output_type": "stream",
     "text": [
      "[pyphetools] Ingested 2 GA4GH phenopackets.\n",
      "\tHoloprosencephaly 5 (OMIM:609637): n=2\n",
      "We found a total of 12 unique HPO terms\n",
      "Extracted disease: Holoprosencephaly 5 (OMIM:609637)\n",
      "Wrote HPOA disease file to OMIM-609637.tab\n"
     ]
    }
   ],
   "source": [
    "pmid = \"PMID:11479728\"\n",
    "df = timporter.create_hpoa_from_phenopackets(pmid=pmid, moi=\"Autosomal dominant\")"
   ]
  }
 ],
 "metadata": {
  "kernelspec": {
   "display_name": "ps24venv",
   "language": "python",
   "name": "python3"
  },
  "language_info": {
   "codemirror_mode": {
    "name": "ipython",
    "version": 3
   },
   "file_extension": ".py",
   "mimetype": "text/x-python",
   "name": "python",
   "nbconvert_exporter": "python",
   "pygments_lexer": "ipython3",
   "version": "3.9.6"
  }
 },
 "nbformat": 4,
 "nbformat_minor": 2
}
