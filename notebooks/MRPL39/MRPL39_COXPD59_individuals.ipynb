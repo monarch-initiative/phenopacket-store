{
 "cells": [
  {
   "cell_type": "markdown",
   "id": "36b061f1-652c-421a-a532-00fb47e824bc",
   "metadata": {},
   "source": [
    "# MRPL39\n",
    "[combined oxidative phosphorylation deficiency-59 (COXPD59)](https://omim.org/entry/620646) is caused by homozygous or compound heterozygous mutation in the MRPL39 gene"
   ]
  },
  {
   "cell_type": "code",
   "execution_count": 1,
   "id": "c5efd270-5d45-48a2-b6fb-f83a9cd2a23e",
   "metadata": {},
   "outputs": [
    {
     "name": "stdout",
     "output_type": "stream",
     "text": [
      "Using pyphetools version 0.9.74\n"
     ]
    }
   ],
   "source": [
    "from pyphetools.creation import TemplateImporter\n",
    "from pyphetools.visualization import IndividualTable, QcVisualizer\n",
    "from IPython.display import display, HTML\n",
    "import pyphetools\n",
    "print(f\"Using pyphetools version {pyphetools.__version__}\")"
   ]
  },
  {
   "cell_type": "code",
   "execution_count": 2,
   "id": "e2a0fa21-8107-45fd-9a76-b5925b809e02",
   "metadata": {},
   "outputs": [],
   "source": [
    "template = \"input/MRPL39_COXPD59_individuals.xlsx\"\n",
    "hp_json = \"../hp.json\"\n",
    "created_by = \"0000-0002-0736-9199\""
   ]
  },
  {
   "cell_type": "code",
   "execution_count": 4,
   "id": "56b7252c-eb9b-4298-bb37-8ad2c047afc3",
   "metadata": {},
   "outputs": [
    {
     "name": "stdout",
     "output_type": "stream",
     "text": [
      "HPO version 2024-03-06\n",
      "Created encoders for 44 fields\n",
      "Importing OMIM:620646, Combined oxidative phosphorylation deficiency 59, HGNC:14027, MRPL39,  NM_017446.4\n",
      "We output 3 GA4GH phenopackets to the directory phenopackets\n"
     ]
    }
   ],
   "source": [
    "timporter = TemplateImporter(template=template, hp_json=hp_json, created_by=created_by)\n",
    "individual_list, cvalidator = timporter.import_phenopackets_from_template()"
   ]
  },
  {
   "cell_type": "code",
   "execution_count": 5,
   "id": "41f87ae0-e5ca-4815-819c-ba3dfde6497a",
   "metadata": {},
   "outputs": [
    {
     "data": {
      "text/html": [
       "<h2>Cohort validation</h2>\n",
       "<p>No errors found for the cohort with 3 individuals</p>"
      ],
      "text/plain": [
       "<IPython.core.display.HTML object>"
      ]
     },
     "metadata": {},
     "output_type": "display_data"
    }
   ],
   "source": [
    "qc = QcVisualizer(cohort_validator=cvalidator)\n",
    "display(HTML(qc.to_summary_html()))"
   ]
  },
  {
   "cell_type": "code",
   "execution_count": 6,
   "id": "4f835ef1-7737-46f1-ab3c-118c6c7eae6b",
   "metadata": {},
   "outputs": [
    {
     "data": {
      "text/html": [
       "<table style=\"border: 2px solid black; align: \"left\">\n",
       "<caption>3 phenopackets - PMID:37133451 (n=3)</caption>\n",
       "<tr><th style=\"text-align: left;font-weight: bold;\">Individual</th><th style=\"text-align: left;font-weight: bold;\">Disease</th><th style=\"text-align: left;font-weight: bold;\">Genotype</th><th style=\"text-align: left;font-weight: bold;\">Phenotypic features</th></tr>\n",
       "<tr><td style=\"text-align: left;\">Individual P1 (FEMALE; P7M)</td><td style=\"text-align: left;\">Combined oxidative phosphorylation deficiency 59 (OMIM:620646)</td><td style=\"text-align: left;\"><ul> <li>NM_017446.4:c.602C>T (heterozygous)</li> <li>NM_017446.4:c.589-924G>A (heterozygous)</li> </ul></td><td style=\"text-align: left;\"><b>P5M</b>: Retinal degeneration (HP:0000546); Congestive heart failure (HP:0001635); Severely reduced left ventricular ejection fraction (HP:0012666); Cholelithiasis (HP:0001081); Decreased activity of mitochondrial complex I (HP:0011923); Decreased activity of mitochondrial complex IV (HP:0008347); Decreased activity of the pyruvate dehydrogenase complex (HP:0002928)<br/><b>P6M</b>: Apnea (HP:0002104); Vomiting (HP:0002013)<br/><b>P7M</b>: CNS demyelination (HP:0007305); Cerebral edema (HP:0002181)<br/>Feeding difficulties (HP:0011968); Global developmental delay (HP:0001263); Developmental regression (HP:0002376); Failure to thrive (HP:0001508); excluded: Hypertrophic cardiomyopathy (HP:0001639); excluded: Hypotonia (HP:0001252); excluded: Apathy (HP:0000741); excluded: Migraine (HP:0002076); excluded: Ketotic hypoglycemia (HP:0012734); excluded: Increased circulating lactate concentration (HP:0002151); excluded: Hyperalaninemia (HP:0003348); excluded: Dicarboxylic aciduria (HP:0003215); excluded: Abnormal basal ganglia MRI signal intensity (HP:0012751); excluded: Strabismus (HP:0000486)</td></tr>\n",
       "<tr><td style=\"text-align: left;\">Individual P2 (FEMALE; P11M)</td><td style=\"text-align: left;\">Combined oxidative phosphorylation deficiency 59 (OMIM:620646)</td><td style=\"text-align: left;\"><ul> <li>NM_017446.4:c.526del (heterozygous)</li> <li>NM_017446.4:c.589-924G>A (heterozygous)</li> </ul></td><td style=\"text-align: left;\"><b>P2D</b>: Feeding difficulties (HP:0011968)<br/><b>P3M</b>: Hypotonia (HP:0001252); Failure to thrive (HP:0001508)<br/><b>P5M</b>: Global developmental delay (HP:0001263); Strabismus (HP:0000486); Elevated brain lactate level by MRS (HP:0012707)<br/>excluded: Apnea (HP:0002104); excluded: Retinal degeneration (HP:0000546); excluded: Vomiting (HP:0002013); excluded: Hypertrophic cardiomyopathy (HP:0001639); excluded: Congestive heart failure (HP:0001635); excluded: Severely reduced left ventricular ejection fraction (HP:0012666); excluded: Apathy (HP:0000741); excluded: Developmental regression (HP:0002376); excluded: Migraine (HP:0002076); excluded: Ketotic hypoglycemia (HP:0012734); excluded: Cholelithiasis (HP:0001081); excluded: Increased circulating lactate concentration (HP:0002151); excluded: Hyperalaninemia (HP:0003348); excluded: Dicarboxylic aciduria (HP:0003215); excluded: Abnormal basal ganglia MRI signal intensity (HP:0012751); excluded: CNS demyelination (HP:0007305); excluded: Cerebral edema (HP:0002181)</td></tr>\n",
       "<tr><td style=\"text-align: left;\">Individual P3 (MALE; P15Y)</td><td style=\"text-align: left;\">Combined oxidative phosphorylation deficiency 59 (OMIM:620646)</td><td style=\"text-align: left;\">NM_017446.4:c.896G>T (homozygous)</td><td style=\"text-align: left;\"><b>P1Y3M</b>: Vomiting (HP:0002013); Hypotonia (HP:0001252); Apathy (HP:0000741); Migraine (HP:0002076); Ketotic hypoglycemia (HP:0012734); Elevated brain lactate level by MRS (HP:0012707)<br/><b>P4Y</b>: Attention deficit hyperactivity disorder (HP:0007018)<br/><b>P15Y</b>: Hypertrophic cardiomyopathy (HP:0001639)<br/>Decreased activity of mitochondrial complex IV (HP:0008347); Increased circulating lactate concentration (HP:0002151); Hyperalaninemia (HP:0003348); Dicarboxylic aciduria (HP:0003215); Abnormal basal ganglia MRI signal intensity (HP:0012751); excluded: Apnea (HP:0002104); excluded: Retinal degeneration (HP:0000546); excluded: Feeding difficulties (HP:0011968); excluded: Congestive heart failure (HP:0001635); excluded: Severely reduced left ventricular ejection fraction (HP:0012666); excluded: Global developmental delay (HP:0001263); excluded: Developmental regression (HP:0002376); excluded: Failure to thrive (HP:0001508); excluded: Cholelithiasis (HP:0001081); excluded: Decreased activity of the pyruvate dehydrogenase complex (HP:0002928); excluded: CNS demyelination (HP:0007305); excluded: Cerebral edema (HP:0002181); excluded: Strabismus (HP:0000486)</td></tr>\n",
       "</table>"
      ],
      "text/plain": [
       "<IPython.core.display.HTML object>"
      ]
     },
     "metadata": {},
     "output_type": "display_data"
    }
   ],
   "source": [
    "table = IndividualTable(cvalidator.get_error_free_individual_list())\n",
    "display(HTML(table.to_html()))"
   ]
  },
  {
   "cell_type": "code",
   "execution_count": 7,
   "id": "9845805e-bfdb-46b1-a91f-50ccebbf665b",
   "metadata": {},
   "outputs": [
    {
     "name": "stdout",
     "output_type": "stream",
     "text": [
      "[pyphetools] Ingested 3 GA4GH phenopackets.\n",
      "\tCombined oxidative phosphorylation deficiency 59 (OMIM:620646): n=3\n",
      "We found a total of 27 unique HPO terms\n",
      "Extracted disease: Combined oxidative phosphorylation deficiency 59 (OMIM:620646)\n",
      "Wrote HPOA disease file to OMIM-620646.tab\n"
     ]
    }
   ],
   "source": [
    "pmid = \"PMID:37133451\"\n",
    "df = timporter.create_hpoa_from_phenopackets(pmid=pmid, moi=\"Autosomal recessive\")"
   ]
  },
  {
   "cell_type": "code",
   "execution_count": null,
   "id": "1b278fe7-7d54-43ba-b8d7-2e74b7963f0c",
   "metadata": {},
   "outputs": [],
   "source": []
  }
 ],
 "metadata": {
  "kernelspec": {
   "display_name": "Python 3 (ipykernel)",
   "language": "python",
   "name": "python3"
  },
  "language_info": {
   "codemirror_mode": {
    "name": "ipython",
    "version": 3
   },
   "file_extension": ".py",
   "mimetype": "text/x-python",
   "name": "python",
   "nbconvert_exporter": "python",
   "pygments_lexer": "ipython3",
   "version": "3.8.10"
  }
 },
 "nbformat": 4,
 "nbformat_minor": 5
}
