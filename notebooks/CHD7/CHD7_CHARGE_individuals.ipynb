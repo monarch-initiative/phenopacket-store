{
 "cells": [
  {
   "cell_type": "markdown",
   "metadata": {},
   "source": [
    "# CDH7\n",
    "[CHARGE syndrome](https://omim.org/entry/214800) is caused by heterozygous mutation in the CHD7 gene."
   ]
  },
  {
   "cell_type": "code",
   "execution_count": 3,
   "metadata": {},
   "outputs": [
    {
     "name": "stdout",
     "output_type": "stream",
     "text": [
      "Using pyphetools version 0.9.91\n"
     ]
    }
   ],
   "source": [
    "from pyphetools.creation import TemplateImporter\n",
    "from pyphetools.visualization import IndividualTable, QcVisualizer\n",
    "from IPython.display import display, HTML\n",
    "import pyphetools\n",
    "print(f\"Using pyphetools version {pyphetools.__version__}\")"
   ]
  },
  {
   "cell_type": "code",
   "execution_count": 4,
   "metadata": {},
   "outputs": [],
   "source": [
    "template = \"input/CHD7_CHARGE_individuals.xlsx\"\n",
    "created_by = \"0000-0002-0736-9199\""
   ]
  },
  {
   "cell_type": "code",
   "execution_count": 8,
   "metadata": {},
   "outputs": [
    {
     "name": "stdout",
     "output_type": "stream",
     "text": [
      "HPO version 2024-04-26\n",
      "Created encoders for 94 fields\n",
      "Importing OMIM:214800, CHARGE syndrome, HGNC:20626, CHD7,  NM_017780.4\n",
      "We output 6 GA4GH phenopackets to the directory phenopackets\n"
     ]
    }
   ],
   "source": [
    "timporter = TemplateImporter(template=template,  created_by=created_by)\n",
    "individual_list, cvalidator = timporter.import_phenopackets_from_template()"
   ]
  },
  {
   "cell_type": "code",
   "execution_count": 9,
   "metadata": {},
   "outputs": [
    {
     "data": {
      "text/html": [
       "<h2>Cohort validation</h2>\n",
       "<p>No errors found for the cohort with 6 individuals</p>"
      ],
      "text/plain": [
       "<IPython.core.display.HTML object>"
      ]
     },
     "metadata": {},
     "output_type": "display_data"
    }
   ],
   "source": [
    "qc = QcVisualizer(cohort_validator=cvalidator)\n",
    "display(HTML(qc.to_summary_html()))"
   ]
  },
  {
   "cell_type": "code",
   "execution_count": 10,
   "metadata": {},
   "outputs": [
    {
     "data": {
      "text/html": [
       "<table style=\"border: 2px solid black; align: \"left\">\n",
       "<caption>6 phenopackets - PMID:17661815 (n=6)</caption>\n",
       "<tr><th style=\"text-align: left;font-weight: bold;\">Individual</th><th style=\"text-align: left;font-weight: bold;\">Disease</th><th style=\"text-align: left;font-weight: bold;\">Genotype</th><th style=\"text-align: left;font-weight: bold;\">Phenotypic features</th></tr>\n",
       "<tr><td style=\"text-align: left;\">Patient A III-2 (MALE; P15Y)</td><td style=\"text-align: left;\">CHARGE syndrome (OMIM:214800)</td><td style=\"text-align: left;\">NM_017780.4:c.2501C>T (heterozygous)</td><td style=\"text-align: left;\"><b>P15Y</b>: Long face (HP:0000276); Narrow mouth (HP:0000160)<br/>Cleft palate (HP:0000175); Cleft lip (HP:0410030); Bronchomalacia (HP:0002780); Tracheoesophageal fistula (HP:0002575); Esophageal atresia (HP:0002032); Overriding aorta (HP:0002623); Ventricular septal defect (HP:0001629); Polyhydramnios (HP:0001561); Prominent nasal bridge (HP:0000426); Cryptorchidism (HP:0000028); Postural instability (HP:0002172); Internal carotid artery hypoplasia (HP:0005290); Intellectual disability (HP:0001249); Recurrent otitis media (HP:0000403); Hypoplasia of the semicircular canal (HP:0011382); excluded: Retrognathia (HP:0000278); excluded: Micropenis (HP:0000054); excluded: Incomplete partition of the cochlea type II (HP:0000376); excluded: Supraventricular tachycardia (HP:0004755); excluded: Ebstein anomaly of the tricuspid valve (HP:0010316); excluded: Atrial septal defect (HP:0001631); excluded: Poor suck (HP:0002033); excluded: Gastroesophageal reflux (HP:0002020); excluded: Congestive heart failure (HP:0001635)</td></tr>\n",
       "<tr><td style=\"text-align: left;\">Patient A III-3 (MALE; n/a)</td><td style=\"text-align: left;\">CHARGE syndrome (OMIM:214800)</td><td style=\"text-align: left;\">NM_017780.4:c.2501C>T (heterozygous)</td><td style=\"text-align: left;\"><b>P4Y</b>: Generalized non-motor (absence) seizure (HP:0002121)<br/>Recurrent otitis media (HP:0000403); Prominent nasal bridge (HP:0000426); Postural instability (HP:0002172); Posterior embryotoxon (HP:0000627); Optic disc coloboma (HP:0000588); Strabismus (HP:0000486); Intellectual disability (HP:0001249); Hypoplasia of the semicircular canal (HP:0011382); excluded: Retrognathia (HP:0000278); excluded: Micropenis (HP:0000054); excluded: Cryptorchidism (HP:0000028); excluded: Incomplete partition of the cochlea type II (HP:0000376); excluded: Supraventricular tachycardia (HP:0004755); excluded: Ebstein anomaly of the tricuspid valve (HP:0010316); excluded: Overriding aorta (HP:0002623); excluded: Internal carotid artery hypoplasia (HP:0005290); excluded: Atrial septal defect (HP:0001631); excluded: Ventricular septal defect (HP:0001629); excluded: Polyhydramnios (HP:0001561); excluded: Poor suck (HP:0002033); excluded: Gastroesophageal reflux (HP:0002020); excluded: Congestive heart failure (HP:0001635)</td></tr>\n",
       "<tr><td style=\"text-align: left;\">Patient A II-2 (FEMALE; n/a)</td><td style=\"text-align: left;\">CHARGE syndrome (OMIM:214800)</td><td style=\"text-align: left;\">NM_017780.4:c.2501C>T (heterozygous)</td><td style=\"text-align: left;\">Postural instability (HP:0002172); Facial asymmetry (HP:0000324); Hearing impairment (HP:0000365); Posterior embryotoxon (HP:0000627); Optic disc coloboma (HP:0000588); excluded: Retrognathia (HP:0000278); excluded: Incomplete partition of the cochlea type II (HP:0000376); excluded: Supraventricular tachycardia (HP:0004755); excluded: Ebstein anomaly of the tricuspid valve (HP:0010316); excluded: Overriding aorta (HP:0002623); excluded: Internal carotid artery hypoplasia (HP:0005290); excluded: Atrial septal defect (HP:0001631); excluded: Ventricular septal defect (HP:0001629); excluded: Recurrent otitis media (HP:0000403); excluded: Polyhydramnios (HP:0001561); excluded: Hypoplasia of the semicircular canal (HP:0011382); excluded: Poor suck (HP:0002033); excluded: Gastroesophageal reflux (HP:0002020); excluded: Congestive heart failure (HP:0001635)</td></tr>\n",
       "<tr><td style=\"text-align: left;\">Patient B III-1 (MALE; P19D)</td><td style=\"text-align: left;\">CHARGE syndrome (OMIM:214800)</td><td style=\"text-align: left;\">NM_017780.4:c.469C>T (heterozygous)</td><td style=\"text-align: left;\">Retrognathia (HP:0000278); Facial palsy (HP:0010628); Bifid uvula (HP:0000193); Cryptorchidism (HP:0000028); Generalized hypotonia (HP:0001290); Cupped ear (HP:0000378); Retinal coloboma (HP:0000480); Atrial septal defect (HP:0001631); Aplasia of the olfactory bulb (HP:0032466); Thin corpus callosum (HP:0033725); Dysphagia (HP:0002015); excluded: Micropenis (HP:0000054); excluded: Incomplete partition of the cochlea type II (HP:0000376); excluded: Supraventricular tachycardia (HP:0004755); excluded: Ebstein anomaly of the tricuspid valve (HP:0010316); excluded: Overriding aorta (HP:0002623); excluded: Internal carotid artery hypoplasia (HP:0005290); excluded: Ventricular septal defect (HP:0001629); excluded: Recurrent otitis media (HP:0000403); excluded: Polyhydramnios (HP:0001561); excluded: Hypoplasia of the semicircular canal (HP:0011382); excluded: Poor suck (HP:0002033); excluded: Gastroesophageal reflux (HP:0002020); excluded: Congestive heart failure (HP:0001635)</td></tr>\n",
       "<tr><td style=\"text-align: left;\">Patient B III-3 (MALE; n/a)</td><td style=\"text-align: left;\">CHARGE syndrome (OMIM:214800)</td><td style=\"text-align: left;\">NM_017780.4:c.469C>T (heterozygous)</td><td style=\"text-align: left;\"><b>P2Y6M</b>: Congestive heart failure (HP:0001635)<br/>Neonatal respiratory distress (HP:0002643); Retrognathia (HP:0000278); Facial palsy (HP:0010628); Micropenis (HP:0000054); Cryptorchidism (HP:0000028); Cupped ear (HP:0000378); Incomplete partition of the cochlea type II (HP:0000376); Retinal coloboma (HP:0000480); Supraventricular tachycardia (HP:0004755); Ebstein anomaly of the tricuspid valve (HP:0010316); Poor suck (HP:0002033); Gastroesophageal reflux (HP:0002020); excluded: Overriding aorta (HP:0002623); excluded: Internal carotid artery hypoplasia (HP:0005290); excluded: Atrial septal defect (HP:0001631); excluded: Ventricular septal defect (HP:0001629); excluded: Recurrent otitis media (HP:0000403); excluded: Polyhydramnios (HP:0001561); excluded: Hypoplasia of the semicircular canal (HP:0011382)</td></tr>\n",
       "<tr><td style=\"text-align: left;\">Patient B II-2 (MALE; n/a)</td><td style=\"text-align: left;\">CHARGE syndrome (OMIM:214800)</td><td style=\"text-align: left;\">NM_017780.4:c.469C>T (heterozygous)</td><td style=\"text-align: left;\">Cupped ear (HP:0000378); excluded: Retrognathia (HP:0000278); excluded: Facial palsy (HP:0010628); excluded: Bifid uvula (HP:0000193); excluded: Micropenis (HP:0000054); excluded: Cryptorchidism (HP:0000028); excluded: Incomplete partition of the cochlea type II (HP:0000376); excluded: Retinal coloboma (HP:0000480); excluded: Supraventricular tachycardia (HP:0004755); excluded: Ebstein anomaly of the tricuspid valve (HP:0010316); excluded: Overriding aorta (HP:0002623); excluded: Internal carotid artery hypoplasia (HP:0005290); excluded: Atrial septal defect (HP:0001631); excluded: Ventricular septal defect (HP:0001629); excluded: Recurrent otitis media (HP:0000403); excluded: Polyhydramnios (HP:0001561); excluded: Hypoplasia of the semicircular canal (HP:0011382); excluded: Poor suck (HP:0002033); excluded: Gastroesophageal reflux (HP:0002020); excluded: Congestive heart failure (HP:0001635)</td></tr>\n",
       "</table>"
      ],
      "text/plain": [
       "<IPython.core.display.HTML object>"
      ]
     },
     "metadata": {},
     "output_type": "display_data"
    }
   ],
   "source": [
    "table = IndividualTable(cvalidator.get_error_free_individual_list())\n",
    "display(HTML(table.to_html()))"
   ]
  }
 ],
 "metadata": {
  "kernelspec": {
   "display_name": "ps24venv",
   "language": "python",
   "name": "python3"
  },
  "language_info": {
   "codemirror_mode": {
    "name": "ipython",
    "version": 3
   },
   "file_extension": ".py",
   "mimetype": "text/x-python",
   "name": "python",
   "nbconvert_exporter": "python",
   "pygments_lexer": "ipython3",
   "version": "3.9.6"
  }
 },
 "nbformat": 4,
 "nbformat_minor": 2
}
