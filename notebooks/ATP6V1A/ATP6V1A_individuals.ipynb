{
 "cells": [
  {
   "cell_type": "markdown",
   "metadata": {},
   "source": [
    "# ATP6V1A\n",
    "[ autosomal recessive cutis laxa type IID (ARCL2D)](https://omim.org/entry/617403) is caused by homozygous mutation in the ATP6V1A gene."
   ]
  },
  {
   "cell_type": "markdown",
   "metadata": {},
   "source": []
  },
  {
   "cell_type": "code",
   "execution_count": 7,
   "metadata": {},
   "outputs": [
    {
     "name": "stdout",
     "output_type": "stream",
     "text": [
      "Using pyphetools version 0.9.78\n"
     ]
    }
   ],
   "source": [
    "from pyphetools.creation import TemplateImporter\n",
    "from pyphetools.visualization import IndividualTable, QcVisualizer\n",
    "from IPython.display import display, HTML\n",
    "import pyphetools\n",
    "print(f\"Using pyphetools version {pyphetools.__version__}\")"
   ]
  },
  {
   "cell_type": "code",
   "execution_count": 8,
   "metadata": {},
   "outputs": [],
   "source": [
    "template = \"input/ATP6V1A_ARCL2D_individuals.xlsx\"\n",
    "hp_json = \"../hp.json\"\n",
    "created_by = \"0000-0002-0736-9199\""
   ]
  },
  {
   "cell_type": "code",
   "execution_count": 9,
   "metadata": {},
   "outputs": [
    {
     "name": "stdout",
     "output_type": "stream",
     "text": [
      "HPO version 2024-04-04\n",
      "Created encoders for 55 fields\n",
      "Importing OMIM:617403, Cutis laxa, autosomal recessive, type IID, HGNC:851, ATP6V1A,  NM_001690.4\n",
      "[INFO] encoding variant \"c.215G>A\"\n",
      "https://rest.variantvalidator.org/VariantValidator/variantvalidator/hg38/NM_001690.4%3Ac.215G>A/NM_001690.4?content-type=application%2Fjson\n",
      "[INFO] encoding variant \"c.1012C>T\"\n",
      "https://rest.variantvalidator.org/VariantValidator/variantvalidator/hg38/NM_001690.4%3Ac.1012C>T/NM_001690.4?content-type=application%2Fjson\n",
      "We output 3 GA4GH phenopackets to the directory phenopackets\n"
     ]
    }
   ],
   "source": [
    "timporter = TemplateImporter(template=template, hp_json=hp_json, created_by=created_by)\n",
    "individual_list, cvalidator = timporter.import_phenopackets_from_template()"
   ]
  },
  {
   "cell_type": "code",
   "execution_count": 10,
   "metadata": {},
   "outputs": [
    {
     "data": {
      "text/html": [
       "<h2>Cohort validation</h2>\n",
       "<p>Errors found with 1 of 3 phenopackets.</p>\n",
       "<table style=\"border: 2px solid black; align: \"left\">\n",
       "<caption>Error counts</caption>\n",
       "<tr><th style=\"text-align: left;font-weight: bold;\">Level</th><th style=\"text-align: left;font-weight: bold;\">Error category</th><th style=\"text-align: left;font-weight: bold;\">Count</th></tr>\n",
       "<tr><td style=\"text-align: left;\">WARNING</td><td style=\"text-align: left;\">REDUNDANT</td><td style=\"text-align: left;\">1</td></tr>\n",
       "</table>\n",
       "<p>A total of 1 issues were fixed and no individual was removed from the cohort.</p>"
      ],
      "text/plain": [
       "<IPython.core.display.HTML object>"
      ]
     },
     "metadata": {},
     "output_type": "display_data"
    }
   ],
   "source": [
    "qc = QcVisualizer(cohort_validator=cvalidator)\n",
    "display(HTML(qc.to_summary_html()))"
   ]
  },
  {
   "cell_type": "code",
   "execution_count": 11,
   "metadata": {},
   "outputs": [
    {
     "data": {
      "text/html": [
       "<table style=\"border: 2px solid black; align: \"left\">\n",
       "<caption>3 phenopackets - PMID:28065471 (n=3)</caption>\n",
       "<tr><th style=\"text-align: left;font-weight: bold;\">Individual</th><th style=\"text-align: left;font-weight: bold;\">Disease</th><th style=\"text-align: left;font-weight: bold;\">Genotype</th><th style=\"text-align: left;font-weight: bold;\">Phenotypic features</th></tr>\n",
       "<tr><td style=\"text-align: left;\">PIII:1 (MALE; P15Y)</td><td style=\"text-align: left;\">Cutis laxa, autosomal recessive, type IID (OMIM:617403)</td><td style=\"text-align: left;\">NM_001690.4:c.1012C>T (homozygous)</td><td style=\"text-align: left;\">Cutis laxa (HP:0000973); Downslanted palpebral fissures (HP:0000494); Macrotia (HP:0000400); Hypertrophic cardiomyopathy (HP:0001639); Delayed speech and language development (HP:0000750); Seizure (HP:0001250); Gliosis (HP:0002171); Motor delay (HP:0001270); Hip dislocation (HP:0002827); Hypotonia (HP:0001252); Cataract (HP:0000518); Disproportionate tall stature (HP:0001519); Failure to thrive (HP:0001508); excluded: Entropion (HP:0000621); excluded: Hypertelorism (HP:0000316); excluded: Mask-like facies (HP:0000298); excluded: Triangular face (HP:0000325); excluded: Simple ear (HP:0020206); excluded: Wide nasal bridge (HP:0000431); excluded: Narrow naris (HP:0009933); excluded: Cryptorchidism (HP:0000028); excluded: Micropenis (HP:0000054); excluded: Low-set ears (HP:0000369); excluded: Aortic tortuosity (HP:0006687); excluded: Ascending tubular aorta aneurysm (HP:0004970); excluded: Ventricular septal defect (HP:0001629); excluded: Atrial septal defect (HP:0001631); excluded: Talipes equinovarus (HP:0001762); excluded: Thin corpus callosum (HP:0033725); excluded: Joint contracture (HP:0034392); excluded: Inguinal hernia (HP:0000023); excluded: Kyphoscoliosis (HP:0002751); excluded: Single transverse palmar crease (HP:0000954)</td></tr>\n",
       "<tr><td style=\"text-align: left;\">PIV:1 (MALE; P3M)</td><td style=\"text-align: left;\">Cutis laxa, autosomal recessive, type IID (OMIM:617403)</td><td style=\"text-align: left;\">NM_001690.4:c.215G>A (homozygous)</td><td style=\"text-align: left;\">Cutis laxa (HP:0000973); Hypertelorism (HP:0000316); Mask-like facies (HP:0000298); Triangular face (HP:0000325); Simple ear (HP:0020206); Bulbous nose (HP:0000414); Wide nasal bridge (HP:0000431); Narrow naris (HP:0009933); Cryptorchidism (HP:0000028); Micropenis (HP:0000054); Low-set ears (HP:0000369); Aortic tortuosity (HP:0006687); Ascending tubular aorta aneurysm (HP:0004970); Ventricular septal defect (HP:0001629); Atrial septal defect (HP:0001631); Talipes equinovarus (HP:0001762); Ventriculomegaly (HP:0002119); Seizure (HP:0001250); Thin corpus callosum (HP:0033725); Camptodactyly (HP:0012385); Hypotonia (HP:0001252); Inguinal hernia (HP:0000023); Single transverse palmar crease (HP:0000954); Hypsarrhythmia (HP:0002521); excluded: Entropion (HP:0000621); excluded: Hypertrophic cardiomyopathy (HP:0001639); excluded: Hip dislocation (HP:0002827); excluded: Cataract (HP:0000518); excluded: Disproportionate tall stature (HP:0001519); excluded: Kyphoscoliosis (HP:0002751)</td></tr>\n",
       "<tr><td style=\"text-align: left;\">PV:1 (MALE; n/a)</td><td style=\"text-align: left;\">Cutis laxa, autosomal recessive, type IID (OMIM:617403)</td><td style=\"text-align: left;\">NM_001690.4:c.215G>A (homozygous)</td><td style=\"text-align: left;\">Cutis laxa (HP:0000973); Entropion (HP:0000621); Hypertelorism (HP:0000316); Mask-like facies (HP:0000298); Triangular face (HP:0000325); Wide nasal bridge (HP:0000431); Narrow naris (HP:0009933); Blepharophimosis (HP:0000581); Low-set ears (HP:0000369); Ventricular septal defect (HP:0001629); Hip dislocation (HP:0002827); Hypotonia (HP:0001252); excluded: Simple ear (HP:0020206); excluded: Cryptorchidism (HP:0000028); excluded: Micropenis (HP:0000054); excluded: Aortic tortuosity (HP:0006687); excluded: Ascending tubular aorta aneurysm (HP:0004970); excluded: Atrial septal defect (HP:0001631); excluded: Hypertrophic cardiomyopathy (HP:0001639); excluded: Talipes equinovarus (HP:0001762); excluded: Thin corpus callosum (HP:0033725); excluded: Joint contracture (HP:0034392); excluded: Cataract (HP:0000518); excluded: Disproportionate tall stature (HP:0001519); excluded: Inguinal hernia (HP:0000023); excluded: Kyphoscoliosis (HP:0002751); excluded: Single transverse palmar crease (HP:0000954)</td></tr>\n",
       "</table>"
      ],
      "text/plain": [
       "<IPython.core.display.HTML object>"
      ]
     },
     "metadata": {},
     "output_type": "display_data"
    }
   ],
   "source": [
    "table = IndividualTable(cvalidator.get_error_free_individual_list())\n",
    "display(HTML(table.to_html()))"
   ]
  },
  {
   "cell_type": "code",
   "execution_count": 12,
   "metadata": {},
   "outputs": [
    {
     "name": "stdout",
     "output_type": "stream",
     "text": [
      "[pyphetools] Ingested 3 GA4GH phenopackets.\n",
      "\tCutis laxa, autosomal recessive, type IID (OMIM:617403): n=3\n",
      "We found a total of 38 unique HPO terms\n",
      "Extracted disease: Cutis laxa, autosomal recessive, type IID (OMIM:617403)\n",
      "Wrote HPOA disease file to OMIM-617403.tab\n"
     ]
    }
   ],
   "source": [
    "pmid = \"PMID:28065471\"\n",
    "df = timporter.create_hpoa_from_phenopackets(pmid=pmid, moi=\"Autosomal recessive\")"
   ]
  }
 ],
 "metadata": {
  "kernelspec": {
   "display_name": "ps24venv",
   "language": "python",
   "name": "python3"
  },
  "language_info": {
   "codemirror_mode": {
    "name": "ipython",
    "version": 3
   },
   "file_extension": ".py",
   "mimetype": "text/x-python",
   "name": "python",
   "nbconvert_exporter": "python",
   "pygments_lexer": "ipython3",
   "version": "3.9.6"
  }
 },
 "nbformat": 4,
 "nbformat_minor": 2
}
