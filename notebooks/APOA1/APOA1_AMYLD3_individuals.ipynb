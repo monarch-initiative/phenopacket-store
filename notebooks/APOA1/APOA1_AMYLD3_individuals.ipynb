{
 "cells": [
  {
   "cell_type": "markdown",
   "metadata": {},
   "source": [
    "# APOA1\n",
    "\n",
    "[Hereditary systemic amyloidosis-3 (AMYLD3)](https://omim.org/entry/620657) is caused by heterozygous mutation in the apolipoprotein A1 gene (APOA1)."
   ]
  },
  {
   "cell_type": "code",
   "execution_count": 1,
   "metadata": {},
   "outputs": [
    {
     "name": "stdout",
     "output_type": "stream",
     "text": [
      "Using pyphetools version 0.9.113\n"
     ]
    }
   ],
   "source": [
    "from pyphetools.creation import TemplateImporter, Moi\n",
    "from pyphetools.visualization import IndividualTable, QcVisualizer\n",
    "from IPython.display import display, HTML\n",
    "import pyphetools\n",
    "print(f\"Using pyphetools version {pyphetools.__version__}\")"
   ]
  },
  {
   "cell_type": "code",
   "execution_count": 3,
   "metadata": {},
   "outputs": [
    {
     "name": "stdout",
     "output_type": "stream",
     "text": [
      "HPO version 2024-12-12\n",
      "Created encoders for 53 fields\n",
      "Importing OMIM:620657, Amyloidosis, hereditary systemic 3, HGNC:600, APOA1,  NM_000039.3\n",
      "[INFO] encoding variant \"c.251T>G\"\n",
      "https://rest.variantvalidator.org/VariantValidator/variantvalidator/hg38/NM_000039.3%3Ac.251T>G/NM_000039.3?content-type=application%2Fjson\n",
      "[INFO] encoding variant \"c.595G>C\"\n",
      "https://rest.variantvalidator.org/VariantValidator/variantvalidator/hg38/NM_000039.3%3Ac.595G>C/NM_000039.3?content-type=application%2Fjson\n",
      "[INFO] encoding variant \"c.220T>C\"\n",
      "https://rest.variantvalidator.org/VariantValidator/variantvalidator/hg38/NM_000039.3%3Ac.220T>C/NM_000039.3?content-type=application%2Fjson\n",
      "[INFO] encoding variant \"c.518G>C\"\n",
      "https://rest.variantvalidator.org/VariantValidator/variantvalidator/hg38/NM_000039.3%3Ac.518G>C/NM_000039.3?content-type=application%2Fjson\n",
      "[INFO] encoding variant \"c.250_284delinsGTCAC\"\n",
      "https://rest.variantvalidator.org/VariantValidator/variantvalidator/hg38/NM_000039.3%3Ac.250_284delinsGTCAC/NM_000039.3?content-type=application%2Fjson\n",
      "[INFO] encoding variant \"c.341T>C\"\n",
      "https://rest.variantvalidator.org/VariantValidator/variantvalidator/hg38/NM_000039.3%3Ac.341T>C/NM_000039.3?content-type=application%2Fjson\n",
      "[INFO] encoding variant \"c.593T>C\"\n",
      "https://rest.variantvalidator.org/VariantValidator/variantvalidator/hg38/NM_000039.3%3Ac.593T>C/NM_000039.3?content-type=application%2Fjson\n",
      "We output 10 GA4GH phenopackets to the directory phenopackets\n"
     ]
    }
   ],
   "source": [
    "template = \"input/APOA1_AMYLD3_individuals.xlsx\"\n",
    "created_by = \"0000-0002-0736-9199\"\n",
    "timporter = TemplateImporter(template=template,  created_by=created_by)\n",
    "individual_list, cvalidator = timporter.import_phenopackets_from_template()"
   ]
  },
  {
   "cell_type": "code",
   "execution_count": 4,
   "metadata": {},
   "outputs": [
    {
     "data": {
      "text/html": [
       "<h2>Cohort validation</h2>\n",
       "<p>No errors found for the cohort with 10 individuals</p>"
      ],
      "text/plain": [
       "<IPython.core.display.HTML object>"
      ]
     },
     "metadata": {},
     "output_type": "display_data"
    }
   ],
   "source": [
    "qc = QcVisualizer(cohort_validator=cvalidator)\n",
    "display(HTML(qc.to_summary_html()))"
   ]
  },
  {
   "cell_type": "code",
   "execution_count": 5,
   "metadata": {},
   "outputs": [
    {
     "data": {
      "text/html": [
       "<table style=\"border: 2px solid black; align: \"left\">\n",
       "<caption>10 phenopackets - PMID:3142462 (n=1); PMID:7493166 (n=1); PMID:8675681 (n=1); PMID:9916936 (n=3); PMID:10198255 (n=2); PMID:10487826 (n=1); PMID:12050338 (n=1)</caption>\n",
       "<tr><th style=\"text-align: left;font-weight: bold;\">Individual</th><th style=\"text-align: left;font-weight: bold;\">Disease</th><th style=\"text-align: left;font-weight: bold;\">Genotype</th><th style=\"text-align: left;font-weight: bold;\">Phenotypic features</th></tr>\n",
       "<tr><td style=\"text-align: left;\">nan (MALE)</td><td style=\"text-align: left;\">Amyloidosis, hereditary systemic 3 (OMIM:620657)</td><td style=\"text-align: left;\">NM_000039.3:c.251T>G (heterozygous)</td><td style=\"text-align: left;\"><b>TimeElement(element=Age(iso8601duration=P24Y))</b>: Hepatic amyloidosis (HP:0012280): onset age {\n",
       "  iso8601duration: \"P24Y\"\n",
       "}\n",
       "<br/><b>TimeElement(element=OntologyClass(id=HP:0025710, label=Late young adult onset))</b>: Hypertension (HP:0000822): onset ontology_class {\n",
       "  id: \"HP:0025710\"\n",
       "  label: \"Late young adult onset\"\n",
       "}\n",
       "; Thrombocytopenia (HP:0001873): onset ontology_class {\n",
       "  id: \"HP:0025710\"\n",
       "  label: \"Late young adult onset\"\n",
       "}\n",
       "; Bruising susceptibility (HP:0000978): onset ontology_class {\n",
       "  id: \"HP:0025710\"\n",
       "  label: \"Late young adult onset\"\n",
       "}\n",
       "</td></tr>\n",
       "<tr><td style=\"text-align: left;\">proband (MALE; P45Y)</td><td style=\"text-align: left;\">Amyloidosis, hereditary systemic 3 (OMIM:620657)</td><td style=\"text-align: left;\">NM_000039.3:c.220T>C (heterozygous)</td><td style=\"text-align: left;\">Diarrhea (HP:0002014): onset ; excluded: Cardiomyopathy (HP:0001638): onset <br/><b>TimeElement(element=Age(iso8601duration=P34Y))</b>: Proteinuria (HP:0000093): onset age {\n",
       "  iso8601duration: \"P34Y\"\n",
       "}\n",
       "; Microscopic hematuria (HP:0002907): onset age {\n",
       "  iso8601duration: \"P34Y\"\n",
       "}\n",
       "; Hepatomegaly (HP:0002240): onset age {\n",
       "  iso8601duration: \"P34Y\"\n",
       "}\n",
       "; Elevated circulating alkaline phosphatase concentration (HP:0003155): onset age {\n",
       "  iso8601duration: \"P34Y\"\n",
       "}\n",
       "<br/><b>TimeElement(element=Age(iso8601duration=P36Y))</b>: Renal amyloidosis (HP:0001917): onset age {\n",
       "  iso8601duration: \"P36Y\"\n",
       "}\n",
       "<br/><b>TimeElement(element=Age(iso8601duration=P42Y))</b>: Hepatic amyloidosis (HP:0012280): onset age {\n",
       "  iso8601duration: \"P42Y\"\n",
       "}\n",
       "<br/><b>TimeElement(element=Age(iso8601duration=P44Y))</b>: Stage 5 chronic kidney disease (HP:0003774): onset age {\n",
       "  iso8601duration: \"P44Y\"\n",
       "}\n",
       "</td></tr>\n",
       "<tr><td style=\"text-align: left;\">male proband (MALE; P61Y)</td><td style=\"text-align: left;\">Amyloidosis, hereditary systemic 3 (OMIM:620657)</td><td style=\"text-align: left;\">NM_000039.3:c.250_284delinsGTCAC (heterozygous)</td><td style=\"text-align: left;\">Hepatic amyloidosis (HP:0012280): onset ; Renal amyloidosis (HP:0001917): onset ; Cardiac amyloidosis (HP:0030843): onset <br/><b>TimeElement(element=Age(iso8601duration=P61Y))</b>: Hepatic failure (HP:0001399): onset age {\n",
       "  iso8601duration: \"P61Y\"\n",
       "}\n",
       "</td></tr>\n",
       "<tr><td style=\"text-align: left;\">propositus IV:8 (FEMALE; P54Y)</td><td style=\"text-align: left;\">Amyloidosis, hereditary systemic 3 (OMIM:620657)</td><td style=\"text-align: left;\">NM_000039.3:c.341T>C (heterozygous)</td><td style=\"text-align: left;\">Congestive heart failure (HP:0001635): onset ; Cardiomegaly (HP:0001640): onset <br/><b>TimeElement(element=Age(iso8601duration=P48Y))</b>: Cardiac amyloidosis (HP:0030843): onset age {\n",
       "  iso8601duration: \"P48Y\"\n",
       "}\n",
       "; Cutaneous amyloidosis (HP:0012309): onset age {\n",
       "  iso8601duration: \"P48Y\"\n",
       "}\n",
       "<br/><b>TimeElement(element=Age(iso8601duration=P54Y))</b>: Cardiomyopathy (HP:0001638): onset age {\n",
       "  iso8601duration: \"P54Y\"\n",
       "}\n",
       "</td></tr>\n",
       "<tr><td style=\"text-align: left;\">second cousin IV:3 (FEMALE; P57Y)</td><td style=\"text-align: left;\">Amyloidosis, hereditary systemic 3 (OMIM:620657)</td><td style=\"text-align: left;\">NM_000039.3:c.341T>C (heterozygous)</td><td style=\"text-align: left;\">Congestive heart failure (HP:0001635): onset ; Cardiomegaly (HP:0001640): onset <br/><b>TimeElement(element=Age(iso8601duration=P40Y))</b>: Cutaneous amyloidosis (HP:0012309): onset age {\n",
       "  iso8601duration: \"P40Y\"\n",
       "}\n",
       "; Conjunctival amyloidosis (HP:0010637): onset age {\n",
       "  iso8601duration: \"P40Y\"\n",
       "}\n",
       "</td></tr>\n",
       "<tr><td style=\"text-align: left;\">brother of IV:3 IV:1 (MALE; P57Y)</td><td style=\"text-align: left;\">Amyloidosis, hereditary systemic 3 (OMIM:620657)</td><td style=\"text-align: left;\">NM_000039.3:c.341T>C (heterozygous)</td><td style=\"text-align: left;\"><b>TimeElement(element=Age(iso8601duration=P51Y))</b>: Cardiac amyloidosis (HP:0030843): onset age {\n",
       "  iso8601duration: \"P51Y\"\n",
       "}\n",
       "; Cutaneous amyloidosis (HP:0012309): onset age {\n",
       "  iso8601duration: \"P51Y\"\n",
       "}\n",
       "; Congestive heart failure (HP:0001635): onset age {\n",
       "  iso8601duration: \"P51Y\"\n",
       "}\n",
       "</td></tr>\n",
       "<tr><td style=\"text-align: left;\">proband IV:17 (FEMALE; P33Y)</td><td style=\"text-align: left;\">Amyloidosis, hereditary systemic 3 (OMIM:620657)</td><td style=\"text-align: left;\">NM_000039.3:c.518G>C (heterozygous)</td><td style=\"text-align: left;\"><b>TimeElement(element=Age(iso8601duration=P33Y))</b>: Cardiac amyloidosis (HP:0030843): onset age {\n",
       "  iso8601duration: \"P33Y\"\n",
       "}\n",
       "; Acanthosis nigricans (HP:0000956): onset age {\n",
       "  iso8601duration: \"P33Y\"\n",
       "}\n",
       "</td></tr>\n",
       "<tr><td style=\"text-align: left;\">proband father (MALE; P63Y)</td><td style=\"text-align: left;\">Amyloidosis, hereditary systemic 3 (OMIM:620657)</td><td style=\"text-align: left;\">NM_000039.3:c.518G>C (heterozygous)</td><td style=\"text-align: left;\">Generalized amyloid deposition (HP:0003216): onset <br/><b>TimeElement(element=Age(iso8601duration=P37Y))</b>: Dilatation of the cerebral artery (HP:0004944): onset age {\n",
       "  iso8601duration: \"P37Y\"\n",
       "}\n",
       "<br/><b>TimeElement(element=Age(iso8601duration=P63Y))</b>: Stage 5 chronic kidney disease (HP:0003774): onset age {\n",
       "  iso8601duration: \"P63Y\"\n",
       "}\n",
       "; Cardiomyopathy (HP:0001638): onset age {\n",
       "  iso8601duration: \"P63Y\"\n",
       "}\n",
       "; Congestive heart failure (HP:0001635): onset age {\n",
       "  iso8601duration: \"P63Y\"\n",
       "}\n",
       "</td></tr>\n",
       "<tr><td style=\"text-align: left;\">proband (MALE; P56Y)</td><td style=\"text-align: left;\">Amyloidosis, hereditary systemic 3 (OMIM:620657)</td><td style=\"text-align: left;\">NM_000039.3:c.593T>C (heterozygous)</td><td style=\"text-align: left;\">Amyloidosis (HP:0011034): onset ; Decreased circulating apolipoprotein A-I concentration (HP:0031799): onset ; Decreased HDL cholesterol concentration (HP:0003233): onset <br/><b>TimeElement(element=Age(iso8601duration=P48Y))</b>: Dyspnea (HP:0002094): onset age {\n",
       "  iso8601duration: \"P48Y\"\n",
       "}\n",
       "<br/><b>TimeElement(element=Age(iso8601duration=P50Y))</b>: Congestive heart failure (HP:0001635): onset age {\n",
       "  iso8601duration: \"P50Y\"\n",
       "}\n",
       "</td></tr>\n",
       "<tr><td style=\"text-align: left;\">patient 16 (MALE)</td><td style=\"text-align: left;\">Amyloidosis, hereditary systemic 3 (OMIM:620657)</td><td style=\"text-align: left;\">NM_000039.3:c.595G>C (heterozygous)</td><td style=\"text-align: left;\">Hoarse voice (HP:0001609): onset ; Infertility (HP:0000789): onset <br/><b>TimeElement(element=Age(iso8601duration=P35Y))</b>: Renal amyloidosis (HP:0001917): onset age {\n",
       "  iso8601duration: \"P35Y\"\n",
       "}\n",
       "</td></tr>\n",
       "</table>"
      ],
      "text/plain": [
       "<IPython.core.display.HTML object>"
      ]
     },
     "metadata": {},
     "output_type": "display_data"
    }
   ],
   "source": [
    "table = IndividualTable(cvalidator.get_error_free_individual_list())\n",
    "display(HTML(table.to_html()))"
   ]
  },
  {
   "cell_type": "code",
   "execution_count": 6,
   "metadata": {},
   "outputs": [
    {
     "name": "stdout",
     "output_type": "stream",
     "text": [
      "[pyphetools] Ingested 10 GA4GH phenopackets.\n",
      "[INFO] Extracted 10 from 10 phenopackets with OMIM:620657\n",
      "\n",
      "\tAmyloidosis, hereditary systemic 3 (OMIM:620657): n=10\n",
      "We found a total of 27 unique HPO terms\n",
      "Extracted disease: Amyloidosis, hereditary systemic 3 (OMIM:620657)\n",
      "Wrote HPOA disease file to OMIM-620657.tab\n"
     ]
    }
   ],
   "source": [
    "pmid = \"PMID:3142462\"\n",
    "df = timporter.create_hpoa_from_phenopackets(pmid=pmid, mode_of_inheritance=Moi.AD, target=\"OMIM:620657\")"
   ]
  }
 ],
 "metadata": {
  "kernelspec": {
   "display_name": "ps24venv",
   "language": "python",
   "name": "python3"
  },
  "language_info": {
   "codemirror_mode": {
    "name": "ipython",
    "version": 3
   },
   "file_extension": ".py",
   "mimetype": "text/x-python",
   "name": "python",
   "nbconvert_exporter": "python",
   "pygments_lexer": "ipython3",
   "version": "3.12.4"
  }
 },
 "nbformat": 4,
 "nbformat_minor": 2
}
