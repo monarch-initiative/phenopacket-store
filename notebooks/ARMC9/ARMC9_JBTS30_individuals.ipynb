{
 "cells": [
  {
   "cell_type": "markdown",
   "metadata": {},
   "source": [
    "# ARMC9\n",
    "[Joubert syndrome-30 (JBTS30)](https://omim.org/entry/617622) is caused by homozygous or compound heterozygous mutation in the ARMC9 gene."
   ]
  },
  {
   "cell_type": "code",
   "execution_count": 5,
   "metadata": {},
   "outputs": [
    {
     "name": "stdout",
     "output_type": "stream",
     "text": [
      "Using pyphetools version 0.9.91\n"
     ]
    }
   ],
   "source": [
    "from pyphetools.creation import TemplateImporter\n",
    "from pyphetools.visualization import IndividualTable, QcVisualizer\n",
    "from IPython.display import display, HTML\n",
    "import pyphetools\n",
    "print(f\"Using pyphetools version {pyphetools.__version__}\")"
   ]
  },
  {
   "cell_type": "code",
   "execution_count": 6,
   "metadata": {},
   "outputs": [],
   "source": [
    "template = \"input/ARMC9_JBTS30_individuals.xlsx\"\n",
    "created_by = \"0000-0002-0736-9199\""
   ]
  },
  {
   "cell_type": "code",
   "execution_count": 12,
   "metadata": {},
   "outputs": [
    {
     "name": "stdout",
     "output_type": "stream",
     "text": [
      "HPO version 2024-04-26\n",
      "Created encoders for 41 fields\n",
      "Importing OMIM:617622, Joubert syndrome 30, HGNC:20730, ARMC9,  NM_001352754.2\n",
      "[INFO] encoding variant \"c.1027C>A\"\n",
      "https://rest.variantvalidator.org/VariantValidator/variantvalidator/hg38/NM_001352754.2%3Ac.1027C>A/NM_001352754.2?content-type=application%2Fjson\n",
      "[INFO] encoding variant \"c.1474+1G>C\"\n",
      "https://rest.variantvalidator.org/VariantValidator/variantvalidator/hg38/NM_001352754.2%3Ac.1474+1G>C/NM_001352754.2?content-type=application%2Fjson\n",
      "[INFO] encoding variant \"c.1559C>T\"\n",
      "https://rest.variantvalidator.org/VariantValidator/variantvalidator/hg38/NM_001352754.2%3Ac.1559C>T/NM_001352754.2?content-type=application%2Fjson\n",
      "[INFO] encoding variant \"c.1336C>T\"\n",
      "https://rest.variantvalidator.org/VariantValidator/variantvalidator/hg38/NM_001352754.2%3Ac.1336C>T/NM_001352754.2?content-type=application%2Fjson\n",
      "[INFO] encoding variant \"c.1474G>A\"\n",
      "https://rest.variantvalidator.org/VariantValidator/variantvalidator/hg38/NM_001352754.2%3Ac.1474G>A/NM_001352754.2?content-type=application%2Fjson\n",
      "[INFO] encoding variant \"c.205G>A\"\n",
      "https://rest.variantvalidator.org/VariantValidator/variantvalidator/hg38/NM_001352754.2%3Ac.205G>A/NM_001352754.2?content-type=application%2Fjson\n",
      "[INFO] encoding variant \"c.1211_1334del\"\n",
      "https://rest.variantvalidator.org/VariantValidator/variantvalidator/hg38/NM_001352754.2%3Ac.1211_1334del/NM_001352754.2?content-type=application%2Fjson\n",
      "[INFO] encoding variant \"c.51+5G>T\"\n",
      "https://rest.variantvalidator.org/VariantValidator/variantvalidator/hg38/NM_001352754.2%3Ac.51+5G>T/NM_001352754.2?content-type=application%2Fjson\n",
      "[INFO] encoding variant \"c.259C>T\"\n",
      "https://rest.variantvalidator.org/VariantValidator/variantvalidator/hg38/NM_001352754.2%3Ac.259C>T/NM_001352754.2?content-type=application%2Fjson\n",
      "[INFO] encoding variant \"c.1027C>T\"\n",
      "https://rest.variantvalidator.org/VariantValidator/variantvalidator/hg38/NM_001352754.2%3Ac.1027C>T/NM_001352754.2?content-type=application%2Fjson\n",
      "We output 11 GA4GH phenopackets to the directory phenopackets\n"
     ]
    }
   ],
   "source": [
    "timporter = TemplateImporter(template=template,  created_by=created_by)\n",
    "individual_list, cvalidator = timporter.import_phenopackets_from_template()"
   ]
  },
  {
   "cell_type": "code",
   "execution_count": 14,
   "metadata": {},
   "outputs": [
    {
     "data": {
      "text/html": [
       "<h2>Cohort validation</h2>\n",
       "<p>No errors found for the cohort with 11 individuals</p>"
      ],
      "text/plain": [
       "<IPython.core.display.HTML object>"
      ]
     },
     "metadata": {},
     "output_type": "display_data"
    }
   ],
   "source": [
    "qc = QcVisualizer(cohort_validator=cvalidator)\n",
    "display(HTML(qc.to_summary_html()))"
   ]
  },
  {
   "cell_type": "code",
   "execution_count": 15,
   "metadata": {},
   "outputs": [
    {
     "data": {
      "text/html": [
       "<table style=\"border: 2px solid black; align: \"left\">\n",
       "<caption>11 phenopackets - PMID:28625504 (n=11)</caption>\n",
       "<tr><th style=\"text-align: left;font-weight: bold;\">Individual</th><th style=\"text-align: left;font-weight: bold;\">Disease</th><th style=\"text-align: left;font-weight: bold;\">Genotype</th><th style=\"text-align: left;font-weight: bold;\">Phenotypic features</th></tr>\n",
       "<tr><td style=\"text-align: left;\">UW132-3 (FEMALE; n/a)</td><td style=\"text-align: left;\">Joubert syndrome 30 (OMIM:617622)</td><td style=\"text-align: left;\"><ul> <li>NM_001352754.2:c.205G>A (heterozygous)</li> <li>NM_001352754.2:c.1336C>T (heterozygous)</li> </ul></td><td style=\"text-align: left;\">Seizure (HP:0001250); Molar tooth sign on MRI (HP:0002419); Global developmental delay (HP:0001263); Abnormality of eye movement (HP:0000496); excluded: Ptosis (HP:0000508); excluded: Retinal dystrophy (HP:0000556); excluded: Coloboma (HP:0000589); excluded: Polydactyly (HP:0010442); excluded: Tachypnea (HP:0002789); excluded: Apnea (HP:0002104); excluded: Micrognathia (HP:0000347); excluded: High palate (HP:0000218); excluded: Bifid uvula (HP:0000193); excluded: Optic nerve hypoplasia (HP:0000609); excluded: Dandy-Walker malformation (HP:0001305); excluded: Wide nasal bridge (HP:0000431); excluded: Thin upper lip vermilion (HP:0000219); excluded: 2-3 toe syndactyly (HP:0004691)</td></tr>\n",
       "<tr><td style=\"text-align: left;\">UW132-4 (MALE; n/a)</td><td style=\"text-align: left;\">Joubert syndrome 30 (OMIM:617622)</td><td style=\"text-align: left;\"><ul> <li>NM_001352754.2:c.205G>A (heterozygous)</li> <li>NM_001352754.2:c.1336C>T (heterozygous)</li> </ul></td><td style=\"text-align: left;\">Molar tooth sign on MRI (HP:0002419); Global developmental delay (HP:0001263); Ptosis (HP:0000508); Abnormality of eye movement (HP:0000496); Polydactyly (HP:0010442); excluded: Seizure (HP:0001250); excluded: Micropenis (HP:0000054); excluded: Retinal dystrophy (HP:0000556); excluded: Coloboma (HP:0000589); excluded: Tachypnea (HP:0002789); excluded: Apnea (HP:0002104); excluded: Micrognathia (HP:0000347); excluded: High palate (HP:0000218); excluded: Bifid uvula (HP:0000193); excluded: Optic nerve hypoplasia (HP:0000609); excluded: Dandy-Walker malformation (HP:0001305); excluded: Wide nasal bridge (HP:0000431); excluded: Thin upper lip vermilion (HP:0000219); excluded: 2-3 toe syndactyly (HP:0004691)</td></tr>\n",
       "<tr><td style=\"text-align: left;\">UW348-3 (FEMALE; n/a)</td><td style=\"text-align: left;\">Joubert syndrome 30 (OMIM:617622)</td><td style=\"text-align: left;\">NM_001352754.2:c.51+5G>T (homozygous)</td><td style=\"text-align: left;\">Molar tooth sign on MRI (HP:0002419); Global developmental delay (HP:0001263); Retinal dystrophy (HP:0000556); Abnormality of eye movement (HP:0000496); excluded: Micrognathia (HP:0000347); excluded: High palate (HP:0000218); excluded: Bifid uvula (HP:0000193); excluded: Optic nerve hypoplasia (HP:0000609); excluded: Dandy-Walker malformation (HP:0001305); excluded: Wide nasal bridge (HP:0000431); excluded: Thin upper lip vermilion (HP:0000219); excluded: 2-3 toe syndactyly (HP:0004691)</td></tr>\n",
       "<tr><td style=\"text-align: left;\">UW116-3 (FEMALE; n/a)</td><td style=\"text-align: left;\">Joubert syndrome 30 (OMIM:617622)</td><td style=\"text-align: left;\"><ul> <li>NM_001352754.2:c.1027C>T (heterozygous)</li> <li>NM_001352754.2:c.1213_1334+2del (heterozygous)</li> </ul></td><td style=\"text-align: left;\">Seizure (HP:0001250); Molar tooth sign on MRI (HP:0002419); Global developmental delay (HP:0001263); Ptosis (HP:0000508); Abnormality of eye movement (HP:0000496); Tachypnea (HP:0002789); Apnea (HP:0002104); excluded: Retinal dystrophy (HP:0000556); excluded: Coloboma (HP:0000589); excluded: Polydactyly (HP:0010442); excluded: Micrognathia (HP:0000347); excluded: High palate (HP:0000218); excluded: Bifid uvula (HP:0000193); excluded: Optic nerve hypoplasia (HP:0000609); excluded: Dandy-Walker malformation (HP:0001305); excluded: Wide nasal bridge (HP:0000431); excluded: Thin upper lip vermilion (HP:0000219); excluded: 2-3 toe syndactyly (HP:0004691)</td></tr>\n",
       "<tr><td style=\"text-align: left;\">UW335-3 (FEMALE; n/a)</td><td style=\"text-align: left;\">Joubert syndrome 30 (OMIM:617622)</td><td style=\"text-align: left;\"><ul> <li>NM_001352754.2:c.259C>T (heterozygous)</li> <li>NM_001352754.2:c.1027C>A (heterozygous)</li> </ul></td><td style=\"text-align: left;\">Molar tooth sign on MRI (HP:0002419); Global developmental delay (HP:0001263); Abnormality of eye movement (HP:0000496); Tachypnea (HP:0002789); Apnea (HP:0002104); excluded: Seizure (HP:0001250); excluded: Ptosis (HP:0000508); excluded: Retinal dystrophy (HP:0000556); excluded: Coloboma (HP:0000589); excluded: Polydactyly (HP:0010442); excluded: Micrognathia (HP:0000347); excluded: High palate (HP:0000218); excluded: Bifid uvula (HP:0000193); excluded: Optic nerve hypoplasia (HP:0000609); excluded: Dandy-Walker malformation (HP:0001305); excluded: Wide nasal bridge (HP:0000431); excluded: Thin upper lip vermilion (HP:0000219); excluded: 2-3 toe syndactyly (HP:0004691)</td></tr>\n",
       "<tr><td style=\"text-align: left;\">UW335-4 (MALE; n/a)</td><td style=\"text-align: left;\">Joubert syndrome 30 (OMIM:617622)</td><td style=\"text-align: left;\"><ul> <li>NM_001352754.2:c.259C>T (heterozygous)</li> <li>NM_001352754.2:c.1027C>A (heterozygous)</li> </ul></td><td style=\"text-align: left;\">Molar tooth sign on MRI (HP:0002419); Gray matter heterotopia (HP:0002282); Global developmental delay (HP:0001263); Abnormality of eye movement (HP:0000496); excluded: Seizure (HP:0001250); excluded: Micropenis (HP:0000054); excluded: Ptosis (HP:0000508); excluded: Retinal dystrophy (HP:0000556); excluded: Coloboma (HP:0000589); excluded: Polydactyly (HP:0010442); excluded: Tachypnea (HP:0002789); excluded: Apnea (HP:0002104); excluded: Micrognathia (HP:0000347); excluded: High palate (HP:0000218); excluded: Bifid uvula (HP:0000193); excluded: Optic nerve hypoplasia (HP:0000609); excluded: Dandy-Walker malformation (HP:0001305); excluded: Wide nasal bridge (HP:0000431); excluded: Thin upper lip vermilion (HP:0000219); excluded: 2-3 toe syndactyly (HP:0004691)</td></tr>\n",
       "<tr><td style=\"text-align: left;\">UW349-3 (MALE; n/a)</td><td style=\"text-align: left;\">Joubert syndrome 30 (OMIM:617622)</td><td style=\"text-align: left;\"><ul> <li>NM_001352754.2:c.1474+1G>C (heterozygous)</li> <li>NM_001352754.2:c.1027C>T (heterozygous)</li> </ul></td><td style=\"text-align: left;\">Molar tooth sign on MRI (HP:0002419); Micropenis (HP:0000054); Global developmental delay (HP:0001263); Ptosis (HP:0000508); Abnormality of eye movement (HP:0000496); Apnea (HP:0002104); Micrognathia (HP:0000347); High palate (HP:0000218); Bifid uvula (HP:0000193); Optic nerve hypoplasia (HP:0000609); excluded: Seizure (HP:0001250); excluded: Retinal dystrophy (HP:0000556); excluded: Coloboma (HP:0000589); excluded: Polydactyly (HP:0010442); excluded: Tachypnea (HP:0002789); excluded: Dandy-Walker malformation (HP:0001305); excluded: Wide nasal bridge (HP:0000431); excluded: Thin upper lip vermilion (HP:0000219); excluded: 2-3 toe syndactyly (HP:0004691)</td></tr>\n",
       "<tr><td style=\"text-align: left;\">LR09-023 (MALE; n/a)</td><td style=\"text-align: left;\">Joubert syndrome 30 (OMIM:617622)</td><td style=\"text-align: left;\"><ul> <li>NM_001352754.2:c.1474G>A (heterozygous)</li> <li>NM_001352754.2:c.1027C>T (heterozygous)</li> </ul></td><td style=\"text-align: left;\">Molar tooth sign on MRI (HP:0002419); Global developmental delay (HP:0001263); Ptosis (HP:0000508); Tachypnea (HP:0002789); Dandy-Walker malformation (HP:0001305); excluded: Seizure (HP:0001250); excluded: Micropenis (HP:0000054); excluded: Polydactyly (HP:0010442); excluded: Apnea (HP:0002104); excluded: Micrognathia (HP:0000347); excluded: High palate (HP:0000218); excluded: Bifid uvula (HP:0000193); excluded: Optic nerve hypoplasia (HP:0000609); excluded: Wide nasal bridge (HP:0000431); excluded: Thin upper lip vermilion (HP:0000219); excluded: 2-3 toe syndactyly (HP:0004691)</td></tr>\n",
       "<tr><td style=\"text-align: left;\">SA1-3 (MALE; n/a)</td><td style=\"text-align: left;\">Joubert syndrome 30 (OMIM:617622)</td><td style=\"text-align: left;\">NM_001352754.2:c.1027C>T (homozygous)</td><td style=\"text-align: left;\">Molar tooth sign on MRI (HP:0002419); Global developmental delay (HP:0001263); Ptosis (HP:0000508); Abnormality of eye movement (HP:0000496); excluded: Seizure (HP:0001250); excluded: Micropenis (HP:0000054); excluded: Polydactyly (HP:0010442); excluded: Micrognathia (HP:0000347); excluded: High palate (HP:0000218); excluded: Bifid uvula (HP:0000193); excluded: Optic nerve hypoplasia (HP:0000609); excluded: Dandy-Walker malformation (HP:0001305); excluded: Wide nasal bridge (HP:0000431); excluded: Thin upper lip vermilion (HP:0000219); excluded: 2-3 toe syndactyly (HP:0004691)</td></tr>\n",
       "<tr><td style=\"text-align: left;\">SA2-3 (FEMALE; n/a)</td><td style=\"text-align: left;\">Joubert syndrome 30 (OMIM:617622)</td><td style=\"text-align: left;\">NM_001352754.2:c.1559C>T (homozygous)</td><td style=\"text-align: left;\">Molar tooth sign on MRI (HP:0002419); Global developmental delay (HP:0001263); Ptosis (HP:0000508); Retinal dystrophy (HP:0000556); Abnormality of eye movement (HP:0000496); Polydactyly (HP:0010442); Wide nasal bridge (HP:0000431); Thin upper lip vermilion (HP:0000219); 2-3 toe syndactyly (HP:0004691); excluded: Seizure (HP:0001250); excluded: Coloboma (HP:0000589); excluded: Tachypnea (HP:0002789); excluded: Apnea (HP:0002104); excluded: Micrognathia (HP:0000347); excluded: High palate (HP:0000218); excluded: Bifid uvula (HP:0000193); excluded: Optic nerve hypoplasia (HP:0000609); excluded: Dandy-Walker malformation (HP:0001305)</td></tr>\n",
       "<tr><td style=\"text-align: left;\">SA2-4 (MALE; n/a)</td><td style=\"text-align: left;\">Joubert syndrome 30 (OMIM:617622)</td><td style=\"text-align: left;\">NM_001352754.2:c.1559C>T (homozygous)</td><td style=\"text-align: left;\">Molar tooth sign on MRI (HP:0002419); Global developmental delay (HP:0001263); Ptosis (HP:0000508); excluded: Seizure (HP:0001250); excluded: Micropenis (HP:0000054); excluded: Retinal dystrophy (HP:0000556); excluded: Coloboma (HP:0000589); excluded: Abnormality of eye movement (HP:0000496); excluded: Polydactyly (HP:0010442); excluded: Micrognathia (HP:0000347); excluded: High palate (HP:0000218); excluded: Bifid uvula (HP:0000193); excluded: Optic nerve hypoplasia (HP:0000609); excluded: Dandy-Walker malformation (HP:0001305); excluded: Wide nasal bridge (HP:0000431); excluded: Thin upper lip vermilion (HP:0000219); excluded: 2-3 toe syndactyly (HP:0004691)</td></tr>\n",
       "</table>"
      ],
      "text/plain": [
       "<IPython.core.display.HTML object>"
      ]
     },
     "metadata": {},
     "output_type": "display_data"
    }
   ],
   "source": [
    "table = IndividualTable(cvalidator.get_error_free_individual_list())\n",
    "display(HTML(table.to_html()))"
   ]
  },
  {
   "cell_type": "code",
   "execution_count": 16,
   "metadata": {},
   "outputs": [
    {
     "name": "stdout",
     "output_type": "stream",
     "text": [
      "[pyphetools] Ingested 11 GA4GH phenopackets.\n",
      "[INFO] Extracted 11 from 11 phenopackets with OMIM:617622\n",
      "\n",
      "\tJoubert syndrome 30 (OMIM:617622): n=11\n",
      "We found a total of 20 unique HPO terms\n",
      "Extracted disease: Joubert syndrome 30 (OMIM:617622)\n",
      "Wrote HPOA disease file to OMIM-617622.tab\n"
     ]
    }
   ],
   "source": [
    "pmid = \"PMID:28625504\"\n",
    "df = timporter.create_hpoa_from_phenopackets(pmid=pmid, moi=\"Autosomal recessive\", target=\"OMIM:617622\")"
   ]
  }
 ],
 "metadata": {
  "kernelspec": {
   "display_name": "ps24venv",
   "language": "python",
   "name": "python3"
  },
  "language_info": {
   "codemirror_mode": {
    "name": "ipython",
    "version": 3
   },
   "file_extension": ".py",
   "mimetype": "text/x-python",
   "name": "python",
   "nbconvert_exporter": "python",
   "pygments_lexer": "ipython3",
   "version": "3.9.6"
  }
 },
 "nbformat": 4,
 "nbformat_minor": 2
}
