{
 "cells": [
  {
   "cell_type": "markdown",
   "metadata": {},
   "source": [
    "# CYLC1\n",
    "[X-linked spermatogenic failure-8 (SPGFX8)](https://omim.org/entry/301119) can be conferred by hemizygous mutation in the CYLC1 gene."
   ]
  },
  {
   "cell_type": "code",
   "execution_count": 4,
   "metadata": {},
   "outputs": [
    {
     "name": "stdout",
     "output_type": "stream",
     "text": [
      "Using pyphetools version 0.9.97\n"
     ]
    }
   ],
   "source": [
    "from pyphetools.creation import TemplateImporter, Moi\n",
    "from pyphetools.visualization import IndividualTable, QcVisualizer\n",
    "from IPython.display import display, HTML\n",
    "import pyphetools\n",
    "print(f\"Using pyphetools version {pyphetools.__version__}\")"
   ]
  },
  {
   "cell_type": "code",
   "execution_count": 5,
   "metadata": {},
   "outputs": [],
   "source": [
    "template = \"input/CYLC1_SPGFX8_individuals.xlsx\"\n",
    "created_by = \"0000-0002-0736-9199\""
   ]
  },
  {
   "cell_type": "code",
   "execution_count": 8,
   "metadata": {},
   "outputs": [
    {
     "name": "stdout",
     "output_type": "stream",
     "text": [
      "HPO version 2024-07-01\n",
      "Created encoders for 22 fields\n",
      "Importing OMIM:301119, Spermatogenic failure, X-linked, 8, susceptibility to, HGNC:2582, CYLC1,  NM_021118.3\n",
      "[INFO] encoding variant \"c.1377G>T\"\n",
      "https://rest.variantvalidator.org/VariantValidator/variantvalidator/hg38/NM_021118.3%3Ac.1377G>T/NM_021118.3?content-type=application%2Fjson\n",
      "[INFO] encoding variant \"c.1720G>C\"\n",
      "https://rest.variantvalidator.org/VariantValidator/variantvalidator/hg38/NM_021118.3%3Ac.1720G>C/NM_021118.3?content-type=application%2Fjson\n",
      "We output 2 GA4GH phenopackets to the directory phenopackets\n"
     ]
    }
   ],
   "source": [
    "timporter = TemplateImporter(template=template,  created_by=created_by)\n",
    "individual_list, cvalidator = timporter.import_phenopackets_from_template()"
   ]
  },
  {
   "cell_type": "code",
   "execution_count": 9,
   "metadata": {},
   "outputs": [
    {
     "data": {
      "text/html": [
       "<h2>Cohort validation</h2>\n",
       "<p>No errors found for the cohort with 2 individuals</p>"
      ],
      "text/plain": [
       "<IPython.core.display.HTML object>"
      ]
     },
     "metadata": {},
     "output_type": "display_data"
    }
   ],
   "source": [
    "qc = QcVisualizer(cohort_validator=cvalidator)\n",
    "display(HTML(qc.to_summary_html()))"
   ]
  },
  {
   "cell_type": "code",
   "execution_count": 10,
   "metadata": {},
   "outputs": [
    {
     "data": {
      "text/html": [
       "<table style=\"border: 2px solid black; align: \"left\">\n",
       "<caption>2 phenopackets - PMID:38013430 (n=1); PMID:38573307 (n=1)</caption>\n",
       "<tr><th style=\"text-align: left;font-weight: bold;\">Individual</th><th style=\"text-align: left;font-weight: bold;\">Disease</th><th style=\"text-align: left;font-weight: bold;\">Genotype</th><th style=\"text-align: left;font-weight: bold;\">Phenotypic features</th></tr>\n",
       "<tr><td style=\"text-align: left;\">M2270 (MALE; P40Y)</td><td style=\"text-align: left;\">Spermatogenic failure, X-linked, 8, susceptibility to (OMIM:301119)</td><td style=\"text-align: left;\">NM_021118.3:c.1720G>C (heterozygous)</td><td style=\"text-align: left;\">Reduced progressive sperm motility (HP:0034011); Male infertility (HP:0003251); Coiled sperm flagella (HP:0032560); Oligozoospermia (HP:0000798); Abnormal sperm head morphology (HP:0012865)</td></tr>\n",
       "<tr><td style=\"text-align: left;\">AAX765 (MALE; n/a)</td><td style=\"text-align: left;\">Spermatogenic failure, X-linked, 8, susceptibility to (OMIM:301119)</td><td style=\"text-align: left;\">NM_021118.3:c.1377G>T (heterozygous)</td><td style=\"text-align: left;\">Reduced progressive sperm motility (HP:0034011); Male infertility (HP:0003251); Oligozoospermia (HP:0000798); Abnormal sperm head morphology (HP:0012865)</td></tr>\n",
       "</table>"
      ],
      "text/plain": [
       "<IPython.core.display.HTML object>"
      ]
     },
     "metadata": {},
     "output_type": "display_data"
    }
   ],
   "source": [
    "table = IndividualTable(cvalidator.get_error_free_individual_list())\n",
    "display(HTML(table.to_html()))"
   ]
  },
  {
   "cell_type": "code",
   "execution_count": 11,
   "metadata": {},
   "outputs": [
    {
     "name": "stdout",
     "output_type": "stream",
     "text": [
      "[pyphetools] Ingested 2 GA4GH phenopackets.\n",
      "[INFO] Extracted 2 from 2 phenopackets with OMIM:301119\n",
      "\n",
      "\tSpermatogenic failure, X-linked, 8, susceptibility to (OMIM:301119): n=2\n",
      "We found a total of 5 unique HPO terms\n",
      "Extracted disease: Spermatogenic failure, X-linked, 8, susceptibility to (OMIM:301119)\n",
      "Wrote HPOA disease file to OMIM-301119.tab\n"
     ]
    }
   ],
   "source": [
    "pmid = \"PMID:38013430\"\n",
    "df = timporter.create_hpoa_from_phenopackets(pmid=pmid, mode_of_inheritance=Moi.XLI, target=\"OMIM:301119\")"
   ]
  }
 ],
 "metadata": {
  "kernelspec": {
   "display_name": "ps24venv",
   "language": "python",
   "name": "python3"
  },
  "language_info": {
   "codemirror_mode": {
    "name": "ipython",
    "version": 3
   },
   "file_extension": ".py",
   "mimetype": "text/x-python",
   "name": "python",
   "nbconvert_exporter": "python",
   "pygments_lexer": "ipython3",
   "version": "3.12.4"
  }
 },
 "nbformat": 4,
 "nbformat_minor": 2
}
