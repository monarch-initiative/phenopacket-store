{
 "cells": [
  {
   "cell_type": "markdown",
   "metadata": {},
   "source": [
    "# MCOLN1\n",
    "[mucolipidosis IV (ML4)](https://omim.org/entry/252650) is caused by homozygous or compound heterozygous mutation in the MCOLN1 gene."
   ]
  },
  {
   "cell_type": "code",
   "execution_count": 1,
   "metadata": {},
   "outputs": [
    {
     "name": "stdout",
     "output_type": "stream",
     "text": [
      "Using pyphetools version 0.9.79\n"
     ]
    },
    {
     "name": "stderr",
     "output_type": "stream",
     "text": [
      "/Users/robin/GIT/phenopacket-store/ps24venv/lib/python3.9/site-packages/urllib3/__init__.py:35: NotOpenSSLWarning: urllib3 v2 only supports OpenSSL 1.1.1+, currently the 'ssl' module is compiled with 'LibreSSL 2.8.3'. See: https://github.com/urllib3/urllib3/issues/3020\n",
      "  warnings.warn(\n"
     ]
    }
   ],
   "source": [
    "from pyphetools.creation import TemplateImporter\n",
    "from pyphetools.visualization import IndividualTable, QcVisualizer\n",
    "from IPython.display import display, HTML\n",
    "import pyphetools\n",
    "print(f\"Using pyphetools version {pyphetools.__version__}\")"
   ]
  },
  {
   "cell_type": "code",
   "execution_count": 2,
   "metadata": {},
   "outputs": [],
   "source": [
    "template = \"input/MCOLN1_ML4_individuals.xlsx\"\n",
    "hp_json = \"../hp.json\"\n",
    "created_by = \"0000-0002-0736-9199\""
   ]
  },
  {
   "cell_type": "code",
   "execution_count": 4,
   "metadata": {},
   "outputs": [
    {
     "name": "stdout",
     "output_type": "stream",
     "text": [
      "HPO version 2024-04-04\n",
      "Created encoders for 49 fields\n",
      "Importing OMIM:252650, Mucolipidosis IV, HGNC:13356, MCOLN1,  NM_020533.3\n",
      "[INFO] encoding variant \"c.1207C>T\"\n",
      "https://rest.variantvalidator.org/VariantValidator/variantvalidator/hg38/NM_020533.3%3Ac.1207C>T/NM_020533.3?content-type=application%2Fjson\n",
      "[INFO] encoding variant \"c.771dup\"\n",
      "https://rest.variantvalidator.org/VariantValidator/variantvalidator/hg38/NM_020533.3%3Ac.771dup/NM_020533.3?content-type=application%2Fjson\n",
      "[INFO] encoding variant \"c.236_237insCCATTATGTAAAATCCATTGTCGCATCCACCTTTATTATCAGTCTCTTCCCCACAACAATATTCATGTGCCTAGACCAAGAAGTTATTATCTCG\"\n",
      "https://rest.variantvalidator.org/VariantValidator/variantvalidator/hg38/NM_020533.3%3Ac.236_237insCCATTATGTAAAATCCATTGTCGCATCCACCTTTATTATCAGTCTCTTCCCCACAACAATATTCATGTGCCTAGACCAAGAAGTTATTATCTCG/NM_020533.3?content-type=application%2Fjson\n",
      "We output 2 GA4GH phenopackets to the directory phenopackets\n"
     ]
    }
   ],
   "source": [
    "timporter = TemplateImporter(template=template, hp_json=hp_json, created_by=created_by)\n",
    "individual_list, cvalidator = timporter.import_phenopackets_from_template()"
   ]
  },
  {
   "cell_type": "code",
   "execution_count": 5,
   "metadata": {},
   "outputs": [
    {
     "data": {
      "text/html": [
       "<h2>Cohort validation</h2>\n",
       "<p>No errors found for the cohort with 2 individuals</p>"
      ],
      "text/plain": [
       "<IPython.core.display.HTML object>"
      ]
     },
     "metadata": {},
     "output_type": "display_data"
    }
   ],
   "source": [
    "qc = QcVisualizer(cohort_validator=cvalidator)\n",
    "display(HTML(qc.to_summary_html()))"
   ]
  },
  {
   "cell_type": "code",
   "execution_count": 6,
   "metadata": {},
   "outputs": [
    {
     "data": {
      "text/html": [
       "<table style=\"border: 2px solid black; align: \"left\">\n",
       "<caption>2 phenopackets - PMID:15523648 (n=1); PMID:28620732 (n=1)</caption>\n",
       "<tr><th style=\"text-align: left;font-weight: bold;\">Individual</th><th style=\"text-align: left;font-weight: bold;\">Disease</th><th style=\"text-align: left;font-weight: bold;\">Genotype</th><th style=\"text-align: left;font-weight: bold;\">Phenotypic features</th></tr>\n",
       "<tr><td style=\"text-align: left;\">A four-year-old female (FEMALE; P4Y)</td><td style=\"text-align: left;\">Mucolipidosis IV (OMIM:252650)</td><td style=\"text-align: left;\"><ul> <li>NM_020533.3:c.1207C>T (heterozygous)</li> <li>NM_020533.3:c.236_237insCCATTATGTAAAATCCATTGTCGCATCCACCTTTATTATCAGTCTCTTCCCCACAACAATATTCATGTGCCTAGACCAAGAAGTTATTATCTCG (heterozygous)</li> </ul></td><td style=\"text-align: left;\"><b>P4Y</b>: Short stature (HP:0004322); Coarse facial features (HP:0000280)<br/>Intellectual disability (HP:0001249); Absent speech (HP:0001344); Global developmental delay (HP:0001263); Hypotonia (HP:0001252); Ataxia (HP:0001251); Thin corpus callosum (HP:0033725); Cerebral dysmyelination (HP:0007266); Corneal opacity (HP:0007957); Drooling (HP:0002307); Hypergastrinemia (HP:0500167); Decreased circulating ferritin concentration (HP:0012343)</td></tr>\n",
       "<tr><td style=\"text-align: left;\"> 6-y-old boy (MALE; P6Y)</td><td style=\"text-align: left;\">Mucolipidosis IV (OMIM:252650)</td><td style=\"text-align: left;\">NM_020533.3:c.771dup (homozygous)</td><td style=\"text-align: left;\">Global developmental delay (HP:0001263); Reduced cerebral white matter volume (HP:0034295); Hyperintensity of cerebral white matter on MRI (HP:0030890); Thin corpus callosum (HP:0033725); Progressive neurologic deterioration (HP:0002344); Cerebellar atrophy (HP:0001272); Megalocornea (HP:0000485); Nystagmus (HP:0000639); Optic disc pallor (HP:0000543); Microcephaly (HP:0000252)</td></tr>\n",
       "</table>"
      ],
      "text/plain": [
       "<IPython.core.display.HTML object>"
      ]
     },
     "metadata": {},
     "output_type": "display_data"
    }
   ],
   "source": [
    "table = IndividualTable(cvalidator.get_error_free_individual_list())\n",
    "display(HTML(table.to_html()))"
   ]
  }
 ],
 "metadata": {
  "kernelspec": {
   "display_name": "ps24venv",
   "language": "python",
   "name": "python3"
  },
  "language_info": {
   "codemirror_mode": {
    "name": "ipython",
    "version": 3
   },
   "file_extension": ".py",
   "mimetype": "text/x-python",
   "name": "python",
   "nbconvert_exporter": "python",
   "pygments_lexer": "ipython3",
   "version": "3.9.6"
  }
 },
 "nbformat": 4,
 "nbformat_minor": 2
}
