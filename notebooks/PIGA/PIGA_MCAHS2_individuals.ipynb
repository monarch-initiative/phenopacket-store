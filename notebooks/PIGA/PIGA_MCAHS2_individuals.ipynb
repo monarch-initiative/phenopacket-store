{
 "cells": [
  {
   "cell_type": "markdown",
   "metadata": {},
   "source": [
    "# PIGA\n",
    "[multiple congenital anomalies-hypotonia-seizures syndrome-2 (MCAHS2)](https://omim.org/entry/300868) is caused by mutation in the PIGA gene."
   ]
  },
  {
   "cell_type": "code",
   "execution_count": 1,
   "metadata": {},
   "outputs": [
    {
     "name": "stdout",
     "output_type": "stream",
     "text": [
      "Using pyphetools version 0.9.94\n"
     ]
    },
    {
     "name": "stderr",
     "output_type": "stream",
     "text": [
      "/Users/robin/GIT/phenopacket-store/ps24venv/lib/python3.9/site-packages/urllib3/__init__.py:35: NotOpenSSLWarning: urllib3 v2 only supports OpenSSL 1.1.1+, currently the 'ssl' module is compiled with 'LibreSSL 2.8.3'. See: https://github.com/urllib3/urllib3/issues/3020\n",
      "  warnings.warn(\n"
     ]
    }
   ],
   "source": [
    "from pyphetools.creation import TemplateImporter, Moi\n",
    "from pyphetools.visualization import IndividualTable, QcVisualizer\n",
    "from IPython.display import display, HTML\n",
    "import pyphetools\n",
    "print(f\"Using pyphetools version {pyphetools.__version__}\")"
   ]
  },
  {
   "cell_type": "code",
   "execution_count": 2,
   "metadata": {},
   "outputs": [],
   "source": [
    "template = \"input/PIGA_MCAHS2_individuals.xlsx\"\n",
    "created_by = \"0000-0002-0736-9199\""
   ]
  },
  {
   "cell_type": "code",
   "execution_count": 3,
   "metadata": {},
   "outputs": [
    {
     "name": "stdout",
     "output_type": "stream",
     "text": [
      "HPO version 2024-07-01\n",
      "Created encoders for 197 fields\n",
      "Importing OMIM:300868, Multiple congenital anomalies-hypotonia-seizures syndrome 2, HGNC:8957, PIGA,  NM_002641.4\n",
      "We output 21 GA4GH phenopackets to the directory phenopackets\n"
     ]
    }
   ],
   "source": [
    "timporter = TemplateImporter(template=template,  created_by=created_by)\n",
    "individual_list, cvalidator = timporter.import_phenopackets_from_template()"
   ]
  },
  {
   "cell_type": "code",
   "execution_count": 4,
   "metadata": {},
   "outputs": [
    {
     "data": {
      "text/html": [
       "<h2>Cohort validation</h2>\n",
       "<p>Errors found with 13 of 21 phenopackets.</p>\n",
       "<table style=\"border: 2px solid black; align: \"left\">\n",
       "<caption>Error counts</caption>\n",
       "<tr><th style=\"text-align: left;font-weight: bold;\">Level</th><th style=\"text-align: left;font-weight: bold;\">Error category</th><th style=\"text-align: left;font-weight: bold;\">Count</th></tr>\n",
       "<tr><td style=\"text-align: left;\">WARNING</td><td style=\"text-align: left;\">REDUNDANT</td><td style=\"text-align: left;\">20</td></tr>\n",
       "</table>\n",
       "<p>A total of 20 issues were fixed and no individual was removed from the cohort.</p>"
      ],
      "text/plain": [
       "<IPython.core.display.HTML object>"
      ]
     },
     "metadata": {},
     "output_type": "display_data"
    }
   ],
   "source": [
    "qc = QcVisualizer(cohort_validator=cvalidator)\n",
    "display(HTML(qc.to_summary_html()))"
   ]
  },
  {
   "cell_type": "code",
   "execution_count": 5,
   "metadata": {},
   "outputs": [
    {
     "data": {
      "text/html": [
       "<table style=\"border: 2px solid black; align: \"left\">\n",
       "<caption>21 phenopackets - PMID:24357517 (n=5); PMID:22305531 (n=2); PMID:24706016 (n=7); PMID:24259288 (n=3); PMID:25885527 (n=1); PMID:24259184 (n=1); PMID:29502866 (n=2)</caption>\n",
       "<tr><th style=\"text-align: left;font-weight: bold;\">Individual</th><th style=\"text-align: left;font-weight: bold;\">Disease</th><th style=\"text-align: left;font-weight: bold;\">Genotype</th><th style=\"text-align: left;font-weight: bold;\">Phenotypic features</th></tr>\n",
       "<tr><td style=\"text-align: left;\">III-7/Family B (MALE; P1Y5M)</td><td style=\"text-align: left;\">Multiple congenital anomalies-hypotonia-seizures syndrome 2 (OMIM:300868)</td><td style=\"text-align: left;\">NM_002641.4:c.76dup (heterozygous)</td><td style=\"text-align: left;\"><b>P7M</b>: Infantile spasms (HP:0012469); Hypsarrhythmia (HP:0002521)<br/>Global developmental delay (HP:0001263); Cerebral cortical atrophy (HP:0002120); excluded: Pierre-Robin sequence (HP:0000201)</td></tr>\n",
       "<tr><td style=\"text-align: left;\">III-13/Family B (MALE; P5Y)</td><td style=\"text-align: left;\">Multiple congenital anomalies-hypotonia-seizures syndrome 2 (OMIM:300868)</td><td style=\"text-align: left;\">NM_002641.4:c.76dup (heterozygous)</td><td style=\"text-align: left;\"><b>P6M</b>: Seizure (HP:0001250)<br/><b>P1Y3M</b>: Hypsarrhythmia (HP:0002521)<br/><b>P5Y</b>: Respiratory tract infection (HP:0011947)<br/>Global developmental delay (HP:0001263); excluded: Infantile spasms (HP:0012469); excluded: Pierre-Robin sequence (HP:0000201)</td></tr>\n",
       "<tr><td style=\"text-align: left;\">III-11/Family B (MALE; P18Y)</td><td style=\"text-align: left;\">Multiple congenital anomalies-hypotonia-seizures syndrome 2 (OMIM:300868)</td><td style=\"text-align: left;\">NM_002641.4:c.76dup (heterozygous)</td><td style=\"text-align: left;\"><b>P6M</b>: Bilateral tonic-clonic seizure (HP:0002069)<br/><b>P9M</b>: Hypsarrhythmia (HP:0002521)<br/><b>P18Y</b>: Status epilepticus (HP:0002133)<br/>Global developmental delay (HP:0001263); Edema (HP:0000969); excluded: Infantile spasms (HP:0012469); excluded: Pierre-Robin sequence (HP:0000201)</td></tr>\n",
       "<tr><td style=\"text-align: left;\">III-8/Family B (MALE; P21Y)</td><td style=\"text-align: left;\">Multiple congenital anomalies-hypotonia-seizures syndrome 2 (OMIM:300868)</td><td style=\"text-align: left;\">NM_002641.4:c.76dup (heterozygous)</td><td style=\"text-align: left;\"><b>P5M</b>: Infantile spasms (HP:0012469); Hypsarrhythmia (HP:0002521)<br/>Global developmental delay (HP:0001263); Cerebellar atrophy (HP:0001272); Abnormal cerebral white matter morphology (HP:0002500); Pneumonia (HP:0002090); excluded: Pierre-Robin sequence (HP:0000201)</td></tr>\n",
       "<tr><td style=\"text-align: left;\">IV-2/Family B (MALE; P7Y)</td><td style=\"text-align: left;\">Multiple congenital anomalies-hypotonia-seizures syndrome 2 (OMIM:300868)</td><td style=\"text-align: left;\">NM_002641.4:c.76dup (heterozygous)</td><td style=\"text-align: left;\"><b>P6M</b>: Axial hypotonia (HP:0008936); Generalized myoclonic seizure (HP:0002123)<br/><b>P7M</b>: Hypsarrhythmia (HP:0002521)<br/>Global developmental delay (HP:0001263); Pneumonia (HP:0002090); Motor delay (HP:0001270); Myoclonus (HP:0001336); excluded: Infantile spasms (HP:0012469); excluded: Breech presentation (HP:0001623); excluded: Depressed nasal bridge (HP:0005280); excluded: Downturned corners of mouth (HP:0002714); excluded: Malar flattening (HP:0000272); excluded: Pierre-Robin sequence (HP:0000201)</td></tr>\n",
       "<tr><td style=\"text-align: left;\">IV-4 (MALE; P2M)</td><td style=\"text-align: left;\">Multiple congenital anomalies-hypotonia-seizures syndrome 2 (OMIM:300868)</td><td style=\"text-align: left;\">NM_002641.4:c.1234C>T (heterozygous)</td><td style=\"text-align: left;\">Polyhydramnios (HP:0001561); Hypoplasia of the corpus callosum (HP:0002079); Generalized myoclonic seizure (HP:0002123); Breech presentation (HP:0001623); Patent ductus arteriosus (HP:0001643); Respiratory failure (HP:0002878); Arrhinencephaly (HP:0002139); Elevated circulating alkaline phosphatase concentration (HP:0003155); High, narrow palate (HP:0002705); Flexion contracture (HP:0001371); Hypotonia (HP:0001252); Cerebellar hypoplasia (HP:0001321); Fetal distress (HP:0025116); Metopic synostosis (HP:0011330); Microvesicular hepatic steatosis (HP:0001414); Brisk reflexes (HP:0001348); excluded: Pierre-Robin sequence (HP:0000201)</td></tr>\n",
       "<tr><td style=\"text-align: left;\">IV-2 (MALE; P2M)</td><td style=\"text-align: left;\">Multiple congenital anomalies-hypotonia-seizures syndrome 2 (OMIM:300868)</td><td style=\"text-align: left;\">NM_002641.4:c.1234C>T (heterozygous)</td><td style=\"text-align: left;\">Pierre-Robin sequence (HP:0000201); Pneumonia (HP:0002090); Motor delay (HP:0001270); Hypoplasia of the corpus callosum (HP:0002079); Breech presentation (HP:0001623); Cerebellar hypoplasia (HP:0001321); Brisk reflexes (HP:0001348); Lateral ventricle dilatation (HP:0006956); Depressed nasal bridge (HP:0005280); Vesicoureteral reflux (HP:0000076); Atrial septal defect (HP:0001631); Small nail (HP:0001792); Apnea (HP:0002104); Downturned corners of mouth (HP:0002714); Knee flexion contracture (HP:0006380); Hip contracture (HP:0003273); Gingival overgrowth (HP:0000212); Absent septum pellucidum (HP:0001331); Short finger (HP:0009381); Broad palm (HP:0001169); Malar flattening (HP:0000272); Short neck (HP:0000470); Narrow mouth (HP:0000160); Elbow flexion contracture (HP:0002987); Large fontanelles (HP:0000239); Prominent occiput (HP:0000269); Anteverted nares (HP:0000463); Overfolded helix (HP:0000396); Upslanted palpebral fissure (HP:0000582); Duplicated collecting system (HP:0000081); excluded: Polyhydramnios (HP:0001561)</td></tr>\n",
       "<tr><td style=\"text-align: left;\">individual IV-4 (MALE; n/a)</td><td style=\"text-align: left;\">Multiple congenital anomalies-hypotonia-seizures syndrome 2 (OMIM:300868)</td><td style=\"text-align: left;\">NM_002641.4:c.1234C>T (heterozygous)</td><td style=\"text-align: left;\">Hypoplasia of the corpus callosum (HP:0002079); Generalized myoclonic seizure (HP:0002123); Elevated circulating alkaline phosphatase concentration (HP:0003155); Flexion contracture (HP:0001371); Polyhydramnios (HP:0001561); Vesicoureteral reflux (HP:0000076); EEG with burst suppression (HP:0010851); Hyperreflexia (HP:0001347); Cerebral white matter hypoplasia (HP:0012430); Abnormality of the face (HP:0000271); Abnormal joint morphology (HP:0001367)</td></tr>\n",
       "<tr><td style=\"text-align: left;\">individual 5 (MALE; n/a)</td><td style=\"text-align: left;\">Multiple congenital anomalies-hypotonia-seizures syndrome 2 (OMIM:300868)</td><td style=\"text-align: left;\">NM_002641.4:c.355C>T (heterozygous)</td><td style=\"text-align: left;\">Hypsarrhythmia (HP:0002521); Hypoplasia of the corpus callosum (HP:0002079); Elevated circulating alkaline phosphatase concentration (HP:0003155); Hyperreflexia (HP:0001347); Abnormality of the face (HP:0000271); Intellectual disability, profound (HP:0002187); Tetraplegia (HP:0002445)</td></tr>\n",
       "<tr><td style=\"text-align: left;\">individual 4 (MALE; n/a)</td><td style=\"text-align: left;\">Multiple congenital anomalies-hypotonia-seizures syndrome 2 (OMIM:300868)</td><td style=\"text-align: left;\">NM_002641.4:c.230G>T (heterozygous)</td><td style=\"text-align: left;\">Hypsarrhythmia (HP:0002521); Seizure (HP:0001250); Hypoplasia of the corpus callosum (HP:0002079); Elevated circulating alkaline phosphatase concentration (HP:0003155); Flexion contracture (HP:0001371); Abnormality of the face (HP:0000271); Abnormal joint morphology (HP:0001367); Intellectual disability, moderate (HP:0002342); Spastic tetraplegia (HP:0002510); CNS hypomyelination (HP:0003429); Autism (HP:0000717)</td></tr>\n",
       "<tr><td style=\"text-align: left;\">individual 3 (MALE; n/a)</td><td style=\"text-align: left;\">Multiple congenital anomalies-hypotonia-seizures syndrome 2 (OMIM:300868)</td><td style=\"text-align: left;\">NM_002641.4:c.230G>T (heterozygous)</td><td style=\"text-align: left;\">Intellectual disability, profound (HP:0002187); Autism (HP:0000717); Generalized tonic seizure (HP:0010818)</td></tr>\n",
       "<tr><td style=\"text-align: left;\">individual 2 (MALE; n/a)</td><td style=\"text-align: left;\">Multiple congenital anomalies-hypotonia-seizures syndrome 2 (OMIM:300868)</td><td style=\"text-align: left;\">NM_002641.4:c.616A>T (heterozygous)</td><td style=\"text-align: left;\">Hypsarrhythmia (HP:0002521); Myoclonus (HP:0001336); Hypoplasia of the corpus callosum (HP:0002079); Generalized myoclonic seizure (HP:0002123); Elevated circulating alkaline phosphatase concentration (HP:0003155); Cerebral white matter hypoplasia (HP:0012430); Abnormality of the face (HP:0000271); Abnormal joint morphology (HP:0001367); Intellectual disability, profound (HP:0002187); Spastic tetraplegia (HP:0002510)</td></tr>\n",
       "<tr><td style=\"text-align: left;\">individual 1 (MALE; n/a)</td><td style=\"text-align: left;\">Multiple congenital anomalies-hypotonia-seizures syndrome 2 (OMIM:300868)</td><td style=\"text-align: left;\">NM_002641.4:c.1234C>T (heterozygous)</td><td style=\"text-align: left;\">Hypoplasia of the corpus callosum (HP:0002079); Flexion contracture (HP:0001371); Polyhydramnios (HP:0001561); Vesicoureteral reflux (HP:0000076); EEG with burst suppression (HP:0010851); Cerebral white matter hypoplasia (HP:0012430); Abnormality of the face (HP:0000271); Intellectual disability, profound (HP:0002187); Tetraplegia (HP:0002445); Generalized tonic seizure (HP:0010818)</td></tr>\n",
       "<tr><td style=\"text-align: left;\">individual IV-2 (MALE; n/a)</td><td style=\"text-align: left;\">Multiple congenital anomalies-hypotonia-seizures syndrome 2 (OMIM:300868)</td><td style=\"text-align: left;\">NM_002641.4:c.1234C>T (heterozygous)</td><td style=\"text-align: left;\">Hypoplasia of the corpus callosum (HP:0002079); Generalized myoclonic seizure (HP:0002123); Flexion contracture (HP:0001371); Vesicoureteral reflux (HP:0000076); EEG with burst suppression (HP:0010851); Hyperreflexia (HP:0001347); Cerebral white matter hypoplasia (HP:0012430); Abnormality of the face (HP:0000271)</td></tr>\n",
       "<tr><td style=\"text-align: left;\">IV-3 (MALE; P15Y)</td><td style=\"text-align: left;\">Multiple congenital anomalies-hypotonia-seizures syndrome 2 (OMIM:300868)</td><td style=\"text-align: left;\">NM_002641.4:c.1030_1032del (heterozygous)</td><td style=\"text-align: left;\">Seizure (HP:0001250); Limb joint contracture (HP:0003121); Hepatosplenomegaly (HP:0001433); Babinski sign (HP:0003487); Generalized amyotrophy (HP:0003700); Spasticity (HP:0001257); Hepatic steatosis (HP:0001397); Hearing impairment (HP:0000365); Truncal ataxia (HP:0002078); Abnormality of eye movement (HP:0000496); Delayed eruption of teeth (HP:0000684); Encephalopathy (HP:0001298); Brachycephaly (HP:0000248); Dystonia (HP:0001332); Increased circulating ferritin concentration (HP:0003281); Cerebral visual impairment (HP:0100704); Abnormal circulating iron concentration (HP:0040130)</td></tr>\n",
       "<tr><td style=\"text-align: left;\">III-10 (MALE; P16Y)</td><td style=\"text-align: left;\">Multiple congenital anomalies-hypotonia-seizures syndrome 2 (OMIM:300868)</td><td style=\"text-align: left;\">NM_002641.4:c.1030_1032del (heterozygous)</td><td style=\"text-align: left;\"><b>P7M</b>: Seizure (HP:0001250)<br/>Flexion contracture (HP:0001371); Spasticity (HP:0001257); Abnormality of eye movement (HP:0000496); Hepatomegaly (HP:0002240); Delayed eruption of teeth (HP:0000684); Encephalopathy (HP:0001298); Cerebral visual impairment (HP:0100704); Abnormal hepatic iron concentration (HP:0040134); Left ventricular hypertrophy (HP:0001712); Splenomegaly (HP:0001744); Postural tremor (HP:0002174); Abnormality of the mitochondrion (HP:0012103); Thrombocytopenia (HP:0001873); Abnormal foot morphology (HP:0001760); Neuronal loss in the cerebral cortex (HP:0007190); Papule (HP:0200034); Uplifted earlobe (HP:0009909); Neuronal loss in central nervous system (HP:0002529); Acute aspiration pneumonia (HP:0011952); Ascites (HP:0001541); Secondary microcephaly (HP:0005484); Hepatic failure (HP:0001399); Plagiocephaly (HP:0001357); Agenesis of permanent teeth (HP:0006349); Short stature (HP:0004322); Scoliosis (HP:0002650); Thin bony cortex (HP:0002753); Ventriculomegaly (HP:0002119); Head titubation (HP:0002599); Testicular atrophy (HP:0000029); Skeletal muscle atrophy (HP:0003202); Widely spaced teeth (HP:0000687); Microdontia (HP:0000691); Psoriasiform dermatitis (HP:0003765); Pallor (HP:0000980); Micronodular cirrhosis (HP:0001413); Gliosis (HP:0002171)</td></tr>\n",
       "<tr><td style=\"text-align: left;\">III-9 (MALE; P7Y)</td><td style=\"text-align: left;\">Multiple congenital anomalies-hypotonia-seizures syndrome 2 (OMIM:300868)</td><td style=\"text-align: left;\">NM_002641.4:c.1030_1032del (heterozygous)</td><td style=\"text-align: left;\"><b>P9M</b>: Seizure (HP:0001250)<br/>Axial hypotonia (HP:0008936); Myoclonus (HP:0001336); Brisk reflexes (HP:0001348); Hepatosplenomegaly (HP:0001433); Hearing impairment (HP:0000365); Cerebral visual impairment (HP:0100704); Secondary microcephaly (HP:0005484); Cerebral cortical atrophy (HP:0002120); Inability to walk (HP:0002540); Grasp reflex (HP:0030903); Tapered finger (HP:0001182); Aspiration pneumonia (HP:0011951); Absent speech (HP:0001344); Alveolar ridge overgrowth (HP:0009085); Coarse facial features (HP:0000280)</td></tr>\n",
       "<tr><td style=\"text-align: left;\">II:2 (MALE; P3Y4M)</td><td style=\"text-align: left;\">Multiple congenital anomalies-hypotonia-seizures syndrome 2 (OMIM:300868)</td><td style=\"text-align: left;\">NM_002641.4:c.989G>A (heterozygous)</td><td style=\"text-align: left;\">Infantile spasms (HP:0012469); Hypsarrhythmia (HP:0002521); Axial hypotonia (HP:0008936); Generalized myoclonic seizure (HP:0002123); Elevated circulating alkaline phosphatase concentration (HP:0003155); High, narrow palate (HP:0002705); Apnea (HP:0002104); Hearing impairment (HP:0000365); Hepatomegaly (HP:0002240); Brachycephaly (HP:0000248); Secondary microcephaly (HP:0005484); Plagiocephaly (HP:0001357); Large for gestational age (HP:0001520); Profound global developmental delay (HP:0012736); Camptodactyly (HP:0012385); Frontal upsweep of hair (HP:0002236); Deep palmar crease (HP:0006191); Rigidity (HP:0002063); Short palpebral fissure (HP:0012745); Facial asymmetry (HP:0000324); Long palpebral fissure (HP:0000637); Decreased facial expression (HP:0004673); Redundant neck skin (HP:0005989); Hypertelorism (HP:0000316); Exaggerated startle response (HP:0002267); Thickened nuchal skin fold (HP:0000474); Flat occiput (HP:0005469); Round face (HP:0000311); Broad forehead (HP:0000337); Abnormality of the supraorbital ridges (HP:0100538); Abnormality of the glabella (HP:0002056); Bilateral ptosis (HP:0001488); Aspiration (HP:0002835); Myopia (HP:0000545); Ventricular arrhythmia (HP:0004308); Cerebral atrophy (HP:0002059); Hydronephrosis (HP:0000126); Stomatocytosis (HP:0004446); Diffuse leukoencephalopathy (HP:0006994); Right ventricular hypertrophy (HP:0001667); Optic disc pallor (HP:0000543); Aplasia/Hypoplasia of the corpus callosum (HP:0007370); Moderately reduced visual acuity (HP:0030515); Retinal dystrophy (HP:0000556); Abnormal macular morphology (HP:0001103); Starry sky appearance on hepatic sonography (HP:0031145)</td></tr>\n",
       "<tr><td style=\"text-align: left;\">III-1 (MALE; n/a)</td><td style=\"text-align: left;\">Multiple congenital anomalies-hypotonia-seizures syndrome 2 (OMIM:300868)</td><td style=\"text-align: left;\">NM_002641.4:c.278C>T (heterozygous)</td><td style=\"text-align: left;\">Global developmental delay (HP:0001263); Axial hypotonia (HP:0008936); Hypoplasia of the corpus callosum (HP:0002079); Elevated circulating alkaline phosphatase concentration (HP:0003155); Polyhydramnios (HP:0001561); Atrial septal defect (HP:0001631); Apnea (HP:0002104); Upslanted palpebral fissure (HP:0000582); Generalized-onset seizure (HP:0002197); Ventriculomegaly (HP:0002119); Alveolar ridge overgrowth (HP:0009085); Cerebral atrophy (HP:0002059); High anterior hairline (HP:0009890); Developmental regression (HP:0002376); Cardiac arrest (HP:0001695); Anodontia (HP:0000674); Abnormality of the philtrum (HP:0000288); Widened subarachnoid space (HP:0012704); Aplasia/Hypoplasia of the cerebral white matter (HP:0012429); Febrile seizure (within the age range of 3 months to 6 years) (HP:0002373); Focal clonic seizure (HP:0002266); Abdominal distention (HP:0003270); Epileptic encephalopathy (HP:0200134); Thin vermilion border (HP:0000233)</td></tr>\n",
       "<tr><td style=\"text-align: left;\">Older twin (MALE; P1Y2M)</td><td style=\"text-align: left;\">Multiple congenital anomalies-hypotonia-seizures syndrome 2 (OMIM:300868)</td><td style=\"text-align: left;\">NM_002641.4:c.110T>C (heterozygous)</td><td style=\"text-align: left;\">Status epilepticus (HP:0002133); Bilateral tonic-clonic seizure (HP:0002069); Generalized myoclonic seizure (HP:0002123); Hypotonia (HP:0001252); Depressed nasal bridge (HP:0005280); Anteverted nares (HP:0000463); Hypertelorism (HP:0000316); Developmental regression (HP:0002376); Opisthotonus (HP:0002179); Poor head control (HP:0002421); Abnormal visual fixation (HP:0025404); EEG with generalized polyspikes (HP:0012001); Reduced eye contact (HP:0000817); Focal seizure with eyelid myoclonia (HP:0011168)</td></tr>\n",
       "<tr><td style=\"text-align: left;\">Younger twin (MALE; P1Y2M)</td><td style=\"text-align: left;\">Multiple congenital anomalies-hypotonia-seizures syndrome 2 (OMIM:300868)</td><td style=\"text-align: left;\">NM_002641.4:c.110T>C (heterozygous)</td><td style=\"text-align: left;\">Status epilepticus (HP:0002133); Bilateral tonic-clonic seizure (HP:0002069); Hypotonia (HP:0001252); Depressed nasal bridge (HP:0005280); Anteverted nares (HP:0000463); Hypertelorism (HP:0000316); Developmental regression (HP:0002376); Opisthotonus (HP:0002179); Poor head control (HP:0002421); Abnormal visual fixation (HP:0025404); EEG with generalized polyspikes (HP:0012001); Reduced eye contact (HP:0000817)</td></tr>\n",
       "</table>"
      ],
      "text/plain": [
       "<IPython.core.display.HTML object>"
      ]
     },
     "metadata": {},
     "output_type": "display_data"
    }
   ],
   "source": [
    "table = IndividualTable(cvalidator.get_error_free_individual_list())\n",
    "display(HTML(table.to_html()))"
   ]
  },
  {
   "cell_type": "code",
   "execution_count": 6,
   "metadata": {},
   "outputs": [
    {
     "name": "stdout",
     "output_type": "stream",
     "text": [
      "[pyphetools] Ingested 21 GA4GH phenopackets.\n",
      "[INFO] Extracted 21 from 21 phenopackets with OMIM:300868\n",
      "\n",
      "\tMultiple congenital anomalies-hypotonia-seizures syndrome 2 (OMIM:300868): n=21\n",
      "We found a total of 174 unique HPO terms\n",
      "Extracted disease: Multiple congenital anomalies-hypotonia-seizures syndrome 2 (OMIM:300868)\n",
      "Wrote HPOA disease file to OMIM-300868.tab\n"
     ]
    },
    {
     "data": {
      "text/html": [
       "<div>\n",
       "<style scoped>\n",
       "    .dataframe tbody tr th:only-of-type {\n",
       "        vertical-align: middle;\n",
       "    }\n",
       "\n",
       "    .dataframe tbody tr th {\n",
       "        vertical-align: top;\n",
       "    }\n",
       "\n",
       "    .dataframe thead th {\n",
       "        text-align: right;\n",
       "    }\n",
       "</style>\n",
       "<table border=\"1\" class=\"dataframe\">\n",
       "  <thead>\n",
       "    <tr style=\"text-align: right;\">\n",
       "      <th></th>\n",
       "      <th>#diseaseID</th>\n",
       "      <th>diseaseName</th>\n",
       "      <th>phenotypeID</th>\n",
       "      <th>phenotypeName</th>\n",
       "      <th>onsetID</th>\n",
       "      <th>onsetName</th>\n",
       "      <th>frequency</th>\n",
       "      <th>sex</th>\n",
       "      <th>negation</th>\n",
       "      <th>modifier</th>\n",
       "      <th>description</th>\n",
       "      <th>publication</th>\n",
       "      <th>evidence</th>\n",
       "      <th>biocuration</th>\n",
       "    </tr>\n",
       "  </thead>\n",
       "  <tbody>\n",
       "    <tr>\n",
       "      <th>0</th>\n",
       "      <td>OMIM:300868</td>\n",
       "      <td>Multiple congenital anomalies-hypotonia-seizur...</td>\n",
       "      <td>HP:0002079</td>\n",
       "      <td>Hypoplasia of the corpus callosum</td>\n",
       "      <td></td>\n",
       "      <td></td>\n",
       "      <td>6/6</td>\n",
       "      <td></td>\n",
       "      <td></td>\n",
       "      <td></td>\n",
       "      <td></td>\n",
       "      <td>PMID:24706016</td>\n",
       "      <td>PCS</td>\n",
       "      <td>ORCID:0000-0002-0736-9199[2024-07-30]</td>\n",
       "    </tr>\n",
       "    <tr>\n",
       "      <th>1</th>\n",
       "      <td>OMIM:300868</td>\n",
       "      <td>Multiple congenital anomalies-hypotonia-seizur...</td>\n",
       "      <td>HP:0002123</td>\n",
       "      <td>Generalized myoclonic seizure</td>\n",
       "      <td></td>\n",
       "      <td></td>\n",
       "      <td>3/3</td>\n",
       "      <td></td>\n",
       "      <td></td>\n",
       "      <td></td>\n",
       "      <td></td>\n",
       "      <td>PMID:24706016</td>\n",
       "      <td>PCS</td>\n",
       "      <td>ORCID:0000-0002-0736-9199[2024-07-30]</td>\n",
       "    </tr>\n",
       "    <tr>\n",
       "      <th>2</th>\n",
       "      <td>OMIM:300868</td>\n",
       "      <td>Multiple congenital anomalies-hypotonia-seizur...</td>\n",
       "      <td>HP:0001371</td>\n",
       "      <td>Flexion contracture</td>\n",
       "      <td></td>\n",
       "      <td></td>\n",
       "      <td>4/4</td>\n",
       "      <td></td>\n",
       "      <td></td>\n",
       "      <td></td>\n",
       "      <td></td>\n",
       "      <td>PMID:24706016</td>\n",
       "      <td>PCS</td>\n",
       "      <td>ORCID:0000-0002-0736-9199[2024-07-30]</td>\n",
       "    </tr>\n",
       "    <tr>\n",
       "      <th>3</th>\n",
       "      <td>OMIM:300868</td>\n",
       "      <td>Multiple congenital anomalies-hypotonia-seizur...</td>\n",
       "      <td>HP:0000076</td>\n",
       "      <td>Vesicoureteral reflux</td>\n",
       "      <td></td>\n",
       "      <td></td>\n",
       "      <td>3/3</td>\n",
       "      <td></td>\n",
       "      <td></td>\n",
       "      <td></td>\n",
       "      <td></td>\n",
       "      <td>PMID:24706016</td>\n",
       "      <td>PCS</td>\n",
       "      <td>ORCID:0000-0002-0736-9199[2024-07-30]</td>\n",
       "    </tr>\n",
       "    <tr>\n",
       "      <th>4</th>\n",
       "      <td>OMIM:300868</td>\n",
       "      <td>Multiple congenital anomalies-hypotonia-seizur...</td>\n",
       "      <td>HP:0010851</td>\n",
       "      <td>EEG with burst suppression</td>\n",
       "      <td></td>\n",
       "      <td></td>\n",
       "      <td>3/3</td>\n",
       "      <td></td>\n",
       "      <td></td>\n",
       "      <td></td>\n",
       "      <td></td>\n",
       "      <td>PMID:24706016</td>\n",
       "      <td>PCS</td>\n",
       "      <td>ORCID:0000-0002-0736-9199[2024-07-30]</td>\n",
       "    </tr>\n",
       "  </tbody>\n",
       "</table>\n",
       "</div>"
      ],
      "text/plain": [
       "    #diseaseID                                        diseaseName phenotypeID  \\\n",
       "0  OMIM:300868  Multiple congenital anomalies-hypotonia-seizur...  HP:0002079   \n",
       "1  OMIM:300868  Multiple congenital anomalies-hypotonia-seizur...  HP:0002123   \n",
       "2  OMIM:300868  Multiple congenital anomalies-hypotonia-seizur...  HP:0001371   \n",
       "3  OMIM:300868  Multiple congenital anomalies-hypotonia-seizur...  HP:0000076   \n",
       "4  OMIM:300868  Multiple congenital anomalies-hypotonia-seizur...  HP:0010851   \n",
       "\n",
       "                       phenotypeName onsetID onsetName frequency sex negation  \\\n",
       "0  Hypoplasia of the corpus callosum                         6/6                \n",
       "1      Generalized myoclonic seizure                         3/3                \n",
       "2                Flexion contracture                         4/4                \n",
       "3              Vesicoureteral reflux                         3/3                \n",
       "4         EEG with burst suppression                         3/3                \n",
       "\n",
       "  modifier description    publication evidence  \\\n",
       "0                       PMID:24706016      PCS   \n",
       "1                       PMID:24706016      PCS   \n",
       "2                       PMID:24706016      PCS   \n",
       "3                       PMID:24706016      PCS   \n",
       "4                       PMID:24706016      PCS   \n",
       "\n",
       "                             biocuration  \n",
       "0  ORCID:0000-0002-0736-9199[2024-07-30]  \n",
       "1  ORCID:0000-0002-0736-9199[2024-07-30]  \n",
       "2  ORCID:0000-0002-0736-9199[2024-07-30]  \n",
       "3  ORCID:0000-0002-0736-9199[2024-07-30]  \n",
       "4  ORCID:0000-0002-0736-9199[2024-07-30]  "
      ]
     },
     "execution_count": 6,
     "metadata": {},
     "output_type": "execute_result"
    }
   ],
   "source": [
    "pmid = \"PMID:24357517\"\n",
    "df = timporter.create_hpoa_from_phenopackets(pmid=pmid, mode_of_inheritance=Moi.AR, target=\"OMIM:300868\")\n",
    "df.head()"
   ]
  },
  {
   "cell_type": "code",
   "execution_count": null,
   "metadata": {},
   "outputs": [],
   "source": []
  }
 ],
 "metadata": {
  "kernelspec": {
   "display_name": "ps24venv",
   "language": "python",
   "name": "python3"
  },
  "language_info": {
   "codemirror_mode": {
    "name": "ipython",
    "version": 3
   },
   "file_extension": ".py",
   "mimetype": "text/x-python",
   "name": "python",
   "nbconvert_exporter": "python",
   "pygments_lexer": "ipython3",
   "version": "3.9.6"
  }
 },
 "nbformat": 4,
 "nbformat_minor": 2
}
