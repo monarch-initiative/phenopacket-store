{
 "cells": [
  {
   "cell_type": "markdown",
   "metadata": {},
   "source": [
    "# PIGA\n",
    "[neurodevelopmental disorder with epilepsy and hemochromatosis (NEDEPH)](https://omim.org/entry/301072) is caused by hemizygous mutation in the PIGA gene."
   ]
  },
  {
   "cell_type": "code",
   "execution_count": 7,
   "metadata": {},
   "outputs": [
    {
     "name": "stdout",
     "output_type": "stream",
     "text": [
      "Using pyphetools version 0.9.94\n"
     ]
    }
   ],
   "source": [
    "from pyphetools.creation import TemplateImporter, Moi\n",
    "from pyphetools.visualization import IndividualTable, QcVisualizer\n",
    "from IPython.display import display, HTML\n",
    "import pyphetools\n",
    "print(f\"Using pyphetools version {pyphetools.__version__}\")"
   ]
  },
  {
   "cell_type": "code",
   "execution_count": 8,
   "metadata": {},
   "outputs": [],
   "source": [
    "template = \"input/PIGA_NEDEPH_individuals.xlsx\"\n",
    "created_by = \"0000-0002-0736-9199\""
   ]
  },
  {
   "cell_type": "code",
   "execution_count": 9,
   "metadata": {},
   "outputs": [
    {
     "name": "stdout",
     "output_type": "stream",
     "text": [
      "HPO version 2024-07-01\n",
      "Created encoders for 64 fields\n",
      "Importing OMIM:301072, Neurodevelopmental disorder with epilepsy and hemochromatosis, HGNC:8957, PIGA,  NM_002641.4\n",
      "We output 6 GA4GH phenopackets to the directory phenopackets\n"
     ]
    }
   ],
   "source": [
    "timporter = TemplateImporter(template=template,  created_by=created_by)\n",
    "individual_list, cvalidator = timporter.import_phenopackets_from_template()"
   ]
  },
  {
   "cell_type": "code",
   "execution_count": 10,
   "metadata": {},
   "outputs": [
    {
     "data": {
      "text/html": [
       "<h2>Cohort validation</h2>\n",
       "<p>Errors found with 3 of 6 phenopackets.</p>\n",
       "<table style=\"border: 2px solid black; align: \"left\">\n",
       "<caption>Error counts</caption>\n",
       "<tr><th style=\"text-align: left;font-weight: bold;\">Level</th><th style=\"text-align: left;font-weight: bold;\">Error category</th><th style=\"text-align: left;font-weight: bold;\">Count</th></tr>\n",
       "<tr><td style=\"text-align: left;\">WARNING</td><td style=\"text-align: left;\">REDUNDANT</td><td style=\"text-align: left;\">4</td></tr>\n",
       "</table>\n",
       "<p>A total of 4 issues were fixed and no individual was removed from the cohort.</p>"
      ],
      "text/plain": [
       "<IPython.core.display.HTML object>"
      ]
     },
     "metadata": {},
     "output_type": "display_data"
    }
   ],
   "source": [
    "qc = QcVisualizer(cohort_validator=cvalidator)\n",
    "display(HTML(qc.to_summary_html()))"
   ]
  },
  {
   "cell_type": "code",
   "execution_count": 11,
   "metadata": {},
   "outputs": [
    {
     "data": {
      "text/html": [
       "<table style=\"border: 2px solid black; align: \"left\">\n",
       "<caption>6 phenopackets - PMID:24259288 (n=3); PMID:34875027 (n=3)</caption>\n",
       "<tr><th style=\"text-align: left;font-weight: bold;\">Individual</th><th style=\"text-align: left;font-weight: bold;\">Disease</th><th style=\"text-align: left;font-weight: bold;\">Genotype</th><th style=\"text-align: left;font-weight: bold;\">Phenotypic features</th></tr>\n",
       "<tr><td style=\"text-align: left;\">propositus III-9 (MALE; P7Y)</td><td style=\"text-align: left;\">Neurodevelopmental disorder with epilepsy and hemochromatosis (OMIM:301072)</td><td style=\"text-align: left;\">NM_002641.4:c.1030_1032del (heterozygous)</td><td style=\"text-align: left;\"><b>P7M</b>: Seizure (HP:0001250)<br/><b>P3Y6M</b>: Gingival overgrowth (HP:0000212); Babinski sign (HP:0003487); Coarse facial features (HP:0000280); Tapered finger (HP:0001182); Lower limb hypertonia (HP:0006895)<br/><b>P4Y6M</b>: Hepatomegaly (HP:0002240); Cerebral visual impairment (HP:0100704); Microcephaly (HP:0000252); Myoclonus (HP:0001336)<br/><b>P7Y</b>: Splenomegaly (HP:0001744); Cerebellar atrophy (HP:0001272); Cerebral atrophy (HP:0002059)<br/>Widely spaced teeth (HP:0000687); Microdontia (HP:0000691); Axial hypotonia (HP:0008936); Ichthyosis (HP:0008064); Absent speech (HP:0001344); Seborrheic dermatitis (HP:0001051); Hyperreflexia (HP:0001347); Hearing impairment (HP:0000365); Global developmental delay (HP:0001263); excluded: Spasticity (HP:0001257); excluded: Overgrowth (HP:0001548); excluded: Ataxia (HP:0001251); excluded: Developmental regression (HP:0002376); excluded: Scoliosis (HP:0002650); excluded: Hypospadias (HP:0000047); excluded: Cryptorchidism (HP:0000028); excluded: Plagiocephaly (HP:0001357); excluded: Postural tremor (HP:0002174); excluded: Thrombocytopenia (HP:0001873); excluded: Flexion contracture (HP:0001371); excluded: Hepatic failure (HP:0001399); excluded: Generalized amyotrophy (HP:0003700)</td></tr>\n",
       "<tr><td style=\"text-align: left;\">Patient III-10 (MALE; P16Y)</td><td style=\"text-align: left;\">Neurodevelopmental disorder with epilepsy and hemochromatosis (OMIM:301072)</td><td style=\"text-align: left;\">NM_002641.4:c.1030_1032del (heterozygous)</td><td style=\"text-align: left;\"><b>P1Y6M</b>: Spasticity (HP:0001257); Hepatomegaly (HP:0002240); Widely spaced teeth (HP:0000687); Microdontia (HP:0000691); Plagiocephaly (HP:0001357)<br/><b>P2Y6M</b>: Cerebral visual impairment (HP:0100704); Microcephaly (HP:0000252); Postural tremor (HP:0002174)<br/><b>P10Y</b>: Splenomegaly (HP:0001744)<br/><b>P14Y</b>: Thrombocytopenia (HP:0001873); Flexion contracture (HP:0001371)<br/><b>P15Y</b>: Cirrhosis (HP:0001394); Scoliosis (HP:0002650)<br/><b>P16Y</b>: Hepatic failure (HP:0001399); Generalized amyotrophy (HP:0003700)<br/>Gingival overgrowth (HP:0000212); Cerebellar atrophy (HP:0001272); Hypotonia (HP:0001252); Cerebral atrophy (HP:0002059); Ichthyosis (HP:0008064); Status epilepticus (HP:0002133); Increased CSF glutamate concentration (HP:0500200); Seborrheic dermatitis (HP:0001051); Global developmental delay (HP:0001263); Elevated hepatic iron concentration (HP:0012465); excluded: Overgrowth (HP:0001548); excluded: Ataxia (HP:0001251); excluded: Babinski sign (HP:0003487); excluded: Developmental regression (HP:0002376); excluded: Hyperreflexia (HP:0001347); excluded: Hearing impairment (HP:0000365); excluded: Coarse facial features (HP:0000280); excluded: Hypospadias (HP:0000047); excluded: Cryptorchidism (HP:0000028); excluded: Tapered finger (HP:0001182); excluded: Lower limb hypertonia (HP:0006895); excluded: Myoclonus (HP:0001336)</td></tr>\n",
       "<tr><td style=\"text-align: left;\">Patient IV-3 (MALE; P15Y)</td><td style=\"text-align: left;\">Neurodevelopmental disorder with epilepsy and hemochromatosis (OMIM:301072)</td><td style=\"text-align: left;\">NM_002641.4:c.1030_1032del (heterozygous)</td><td style=\"text-align: left;\"><b>P6M</b>: Ataxia (HP:0001251)<br/><b>P9M</b>: Spasticity (HP:0001257); Hepatomegaly (HP:0002240); Seizure (HP:0001250); Babinski sign (HP:0003487); Global developmental delay (HP:0001263); Generalized amyotrophy (HP:0003700)<br/><b>P6Y</b>: Splenomegaly (HP:0001744)<br/><b>P15Y</b>: Cerebral visual impairment (HP:0100704); Flexion contracture (HP:0001371)<br/>Widely spaced teeth (HP:0000687); Microdontia (HP:0000691); Gingival overgrowth (HP:0000212); Cerebellar atrophy (HP:0001272); Axial hypotonia (HP:0008936); Cerebral atrophy (HP:0002059); Ichthyosis (HP:0008064); Developmental regression (HP:0002376); Seborrheic dermatitis (HP:0001051); Elevated transferrin saturation (HP:0012463); Increased circulating iron concentration (HP:0003452); Increased circulating ferritin concentration (HP:0003281); Hearing impairment (HP:0000365); excluded: Cirrhosis (HP:0001394); excluded: Overgrowth (HP:0001548); excluded: Status epilepticus (HP:0002133); excluded: Hyperreflexia (HP:0001347); excluded: Scoliosis (HP:0002650); excluded: Microcephaly (HP:0000252); excluded: Coarse facial features (HP:0000280); excluded: Hypospadias (HP:0000047); excluded: Cryptorchidism (HP:0000028); excluded: Tapered finger (HP:0001182); excluded: Lower limb hypertonia (HP:0006895); excluded: Myoclonus (HP:0001336); excluded: Plagiocephaly (HP:0001357); excluded: Postural tremor (HP:0002174); excluded: Thrombocytopenia (HP:0001873); excluded: Hepatic failure (HP:0001399)</td></tr>\n",
       "<tr><td style=\"text-align: left;\">Patient 1 (MALE; P13Y)</td><td style=\"text-align: left;\">Neurodevelopmental disorder with epilepsy and hemochromatosis (OMIM:301072)</td><td style=\"text-align: left;\">NM_002641.4:c.230G>A (heterozygous)</td><td style=\"text-align: left;\"><b>P11M</b>: Seizure (HP:0001250)<br/>Decreased circulating hepcidin concentration (HP:0031876); Elevated transferrin saturation (HP:0012463); Increased circulating iron concentration (HP:0003452); Increased circulating ferritin concentration (HP:0003281); Global developmental delay (HP:0001263); Hypospadias (HP:0000047); excluded: Spasticity (HP:0001257); excluded: Cirrhosis (HP:0001394); excluded: Splenomegaly (HP:0001744); excluded: Hepatomegaly (HP:0002240); excluded: Overgrowth (HP:0001548); excluded: Widely spaced teeth (HP:0000687); excluded: Microdontia (HP:0000691); excluded: Gingival overgrowth (HP:0000212); excluded: Cerebellar atrophy (HP:0001272); excluded: Hypotonia (HP:0001252); excluded: Ataxia (HP:0001251); excluded: Cerebral atrophy (HP:0002059); excluded: Ichthyosis (HP:0008064); excluded: Status epilepticus (HP:0002133); excluded: Babinski sign (HP:0003487); excluded: Developmental regression (HP:0002376); excluded: Elevated circulating alkaline phosphatase concentration (HP:0003155); excluded: Seborrheic dermatitis (HP:0001051); excluded: Hyperreflexia (HP:0001347); excluded: Cerebral visual impairment (HP:0100704); excluded: Scoliosis (HP:0002650); excluded: Hearing impairment (HP:0000365); excluded: Microcephaly (HP:0000252); excluded: Coarse facial features (HP:0000280); excluded: Cryptorchidism (HP:0000028); excluded: Tapered finger (HP:0001182); excluded: Lower limb hypertonia (HP:0006895); excluded: Myoclonus (HP:0001336); excluded: Plagiocephaly (HP:0001357); excluded: Postural tremor (HP:0002174); excluded: Thrombocytopenia (HP:0001873); excluded: Flexion contracture (HP:0001371); excluded: Hepatic failure (HP:0001399); excluded: Generalized amyotrophy (HP:0003700)</td></tr>\n",
       "<tr><td style=\"text-align: left;\">Patient 2 (MALE; P7Y)</td><td style=\"text-align: left;\">Neurodevelopmental disorder with epilepsy and hemochromatosis (OMIM:301072)</td><td style=\"text-align: left;\">NM_002641.4:c.1031T>C (heterozygous)</td><td style=\"text-align: left;\"><b>P9M</b>: Seizure (HP:0001250)<br/>Widely spaced teeth (HP:0000687); Hypotonia (HP:0001252); Ichthyosis (HP:0008064); Cerebral visual impairment (HP:0100704); Decreased circulating hepcidin concentration (HP:0031876); Elevated transferrin saturation (HP:0012463); Increased circulating iron concentration (HP:0003452); Global developmental delay (HP:0001263); Cryptorchidism (HP:0000028); excluded: Spasticity (HP:0001257); excluded: Cirrhosis (HP:0001394); excluded: Splenomegaly (HP:0001744); excluded: Hepatomegaly (HP:0002240); excluded: Overgrowth (HP:0001548); excluded: Microdontia (HP:0000691); excluded: Gingival overgrowth (HP:0000212); excluded: Cerebellar atrophy (HP:0001272); excluded: Ataxia (HP:0001251); excluded: Cerebral atrophy (HP:0002059); excluded: Status epilepticus (HP:0002133); excluded: Babinski sign (HP:0003487); excluded: Developmental regression (HP:0002376); excluded: Elevated circulating alkaline phosphatase concentration (HP:0003155); excluded: Seborrheic dermatitis (HP:0001051); excluded: Hyperreflexia (HP:0001347); excluded: Scoliosis (HP:0002650); excluded: Increased circulating ferritin concentration (HP:0003281); excluded: Hearing impairment (HP:0000365); excluded: Microcephaly (HP:0000252); excluded: Coarse facial features (HP:0000280); excluded: Hypospadias (HP:0000047); excluded: Tapered finger (HP:0001182); excluded: Lower limb hypertonia (HP:0006895); excluded: Myoclonus (HP:0001336); excluded: Plagiocephaly (HP:0001357); excluded: Postural tremor (HP:0002174); excluded: Thrombocytopenia (HP:0001873); excluded: Flexion contracture (HP:0001371); excluded: Hepatic failure (HP:0001399); excluded: Generalized amyotrophy (HP:0003700)</td></tr>\n",
       "<tr><td style=\"text-align: left;\">Patient 3 (MALE; P2Y)</td><td style=\"text-align: left;\">Neurodevelopmental disorder with epilepsy and hemochromatosis (OMIM:301072)</td><td style=\"text-align: left;\">NM_002641.4:c.380C>T (heterozygous)</td><td style=\"text-align: left;\"><b>P6M</b>: Seizure (HP:0001250)<br/>Overgrowth (HP:0001548); Hypotonia (HP:0001252); Elevated circulating alkaline phosphatase concentration (HP:0003155); Seborrheic dermatitis (HP:0001051); Decreased circulating hepcidin concentration (HP:0031876); Elevated transferrin saturation (HP:0012463); Increased circulating iron concentration (HP:0003452); Increased circulating ferritin concentration (HP:0003281); Global developmental delay (HP:0001263); excluded: Spasticity (HP:0001257); excluded: Cirrhosis (HP:0001394); excluded: Splenomegaly (HP:0001744); excluded: Hepatomegaly (HP:0002240); excluded: Widely spaced teeth (HP:0000687); excluded: Microdontia (HP:0000691); excluded: Gingival overgrowth (HP:0000212); excluded: Cerebellar atrophy (HP:0001272); excluded: Ataxia (HP:0001251); excluded: Cerebral atrophy (HP:0002059); excluded: Ichthyosis (HP:0008064); excluded: Status epilepticus (HP:0002133); excluded: Babinski sign (HP:0003487); excluded: Developmental regression (HP:0002376); excluded: Hyperreflexia (HP:0001347); excluded: Cerebral visual impairment (HP:0100704); excluded: Scoliosis (HP:0002650); excluded: Hearing impairment (HP:0000365); excluded: Microcephaly (HP:0000252); excluded: Coarse facial features (HP:0000280); excluded: Hypospadias (HP:0000047); excluded: Cryptorchidism (HP:0000028); excluded: Tapered finger (HP:0001182); excluded: Lower limb hypertonia (HP:0006895); excluded: Myoclonus (HP:0001336); excluded: Plagiocephaly (HP:0001357); excluded: Postural tremor (HP:0002174); excluded: Thrombocytopenia (HP:0001873); excluded: Flexion contracture (HP:0001371); excluded: Hepatic failure (HP:0001399); excluded: Generalized amyotrophy (HP:0003700)</td></tr>\n",
       "</table>"
      ],
      "text/plain": [
       "<IPython.core.display.HTML object>"
      ]
     },
     "metadata": {},
     "output_type": "display_data"
    }
   ],
   "source": [
    "table = IndividualTable(cvalidator.get_error_free_individual_list())\n",
    "display(HTML(table.to_html()))"
   ]
  },
  {
   "cell_type": "code",
   "execution_count": 12,
   "metadata": {},
   "outputs": [
    {
     "name": "stdout",
     "output_type": "stream",
     "text": [
      "[pyphetools] Ingested 27 GA4GH phenopackets.\n",
      "[INFO] Extracted 6 from 27 phenopackets with OMIM:301072\n",
      "\n",
      "\tNeurodevelopmental disorder with epilepsy and hemochromatosis (OMIM:301072): n=6\n",
      "We found a total of 45 unique HPO terms\n",
      "Extracted disease: Neurodevelopmental disorder with epilepsy and hemochromatosis (OMIM:301072)\n",
      "Wrote HPOA disease file to OMIM-301072.tab\n"
     ]
    },
    {
     "data": {
      "text/html": [
       "<div>\n",
       "<style scoped>\n",
       "    .dataframe tbody tr th:only-of-type {\n",
       "        vertical-align: middle;\n",
       "    }\n",
       "\n",
       "    .dataframe tbody tr th {\n",
       "        vertical-align: top;\n",
       "    }\n",
       "\n",
       "    .dataframe thead th {\n",
       "        text-align: right;\n",
       "    }\n",
       "</style>\n",
       "<table border=\"1\" class=\"dataframe\">\n",
       "  <thead>\n",
       "    <tr style=\"text-align: right;\">\n",
       "      <th></th>\n",
       "      <th>#diseaseID</th>\n",
       "      <th>diseaseName</th>\n",
       "      <th>phenotypeID</th>\n",
       "      <th>phenotypeName</th>\n",
       "      <th>onsetID</th>\n",
       "      <th>onsetName</th>\n",
       "      <th>frequency</th>\n",
       "      <th>sex</th>\n",
       "      <th>negation</th>\n",
       "      <th>modifier</th>\n",
       "      <th>description</th>\n",
       "      <th>publication</th>\n",
       "      <th>evidence</th>\n",
       "      <th>biocuration</th>\n",
       "    </tr>\n",
       "  </thead>\n",
       "  <tbody>\n",
       "    <tr>\n",
       "      <th>0</th>\n",
       "      <td>OMIM:301072</td>\n",
       "      <td>Neurodevelopmental disorder with epilepsy and ...</td>\n",
       "      <td>HP:0001250</td>\n",
       "      <td>Seizure</td>\n",
       "      <td></td>\n",
       "      <td></td>\n",
       "      <td>3/3</td>\n",
       "      <td></td>\n",
       "      <td></td>\n",
       "      <td></td>\n",
       "      <td></td>\n",
       "      <td>PMID:34875027</td>\n",
       "      <td>PCS</td>\n",
       "      <td>ORCID:0000-0002-0736-9199[2024-07-30]</td>\n",
       "    </tr>\n",
       "    <tr>\n",
       "      <th>1</th>\n",
       "      <td>OMIM:301072</td>\n",
       "      <td>Neurodevelopmental disorder with epilepsy and ...</td>\n",
       "      <td>HP:0000687</td>\n",
       "      <td>Widely spaced teeth</td>\n",
       "      <td></td>\n",
       "      <td></td>\n",
       "      <td>1/3</td>\n",
       "      <td></td>\n",
       "      <td></td>\n",
       "      <td></td>\n",
       "      <td></td>\n",
       "      <td>PMID:34875027</td>\n",
       "      <td>PCS</td>\n",
       "      <td>ORCID:0000-0002-0736-9199[2024-07-30]</td>\n",
       "    </tr>\n",
       "    <tr>\n",
       "      <th>2</th>\n",
       "      <td>OMIM:301072</td>\n",
       "      <td>Neurodevelopmental disorder with epilepsy and ...</td>\n",
       "      <td>HP:0001252</td>\n",
       "      <td>Hypotonia</td>\n",
       "      <td></td>\n",
       "      <td></td>\n",
       "      <td>2/3</td>\n",
       "      <td></td>\n",
       "      <td></td>\n",
       "      <td></td>\n",
       "      <td></td>\n",
       "      <td>PMID:34875027</td>\n",
       "      <td>PCS</td>\n",
       "      <td>ORCID:0000-0002-0736-9199[2024-07-30]</td>\n",
       "    </tr>\n",
       "    <tr>\n",
       "      <th>3</th>\n",
       "      <td>OMIM:301072</td>\n",
       "      <td>Neurodevelopmental disorder with epilepsy and ...</td>\n",
       "      <td>HP:0008064</td>\n",
       "      <td>Ichthyosis</td>\n",
       "      <td></td>\n",
       "      <td></td>\n",
       "      <td>1/3</td>\n",
       "      <td></td>\n",
       "      <td></td>\n",
       "      <td></td>\n",
       "      <td></td>\n",
       "      <td>PMID:34875027</td>\n",
       "      <td>PCS</td>\n",
       "      <td>ORCID:0000-0002-0736-9199[2024-07-30]</td>\n",
       "    </tr>\n",
       "    <tr>\n",
       "      <th>4</th>\n",
       "      <td>OMIM:301072</td>\n",
       "      <td>Neurodevelopmental disorder with epilepsy and ...</td>\n",
       "      <td>HP:0100704</td>\n",
       "      <td>Cerebral visual impairment</td>\n",
       "      <td></td>\n",
       "      <td></td>\n",
       "      <td>1/3</td>\n",
       "      <td></td>\n",
       "      <td></td>\n",
       "      <td></td>\n",
       "      <td></td>\n",
       "      <td>PMID:34875027</td>\n",
       "      <td>PCS</td>\n",
       "      <td>ORCID:0000-0002-0736-9199[2024-07-30]</td>\n",
       "    </tr>\n",
       "  </tbody>\n",
       "</table>\n",
       "</div>"
      ],
      "text/plain": [
       "    #diseaseID                                        diseaseName phenotypeID  \\\n",
       "0  OMIM:301072  Neurodevelopmental disorder with epilepsy and ...  HP:0001250   \n",
       "1  OMIM:301072  Neurodevelopmental disorder with epilepsy and ...  HP:0000687   \n",
       "2  OMIM:301072  Neurodevelopmental disorder with epilepsy and ...  HP:0001252   \n",
       "3  OMIM:301072  Neurodevelopmental disorder with epilepsy and ...  HP:0008064   \n",
       "4  OMIM:301072  Neurodevelopmental disorder with epilepsy and ...  HP:0100704   \n",
       "\n",
       "                phenotypeName onsetID onsetName frequency sex negation  \\\n",
       "0                     Seizure                         3/3                \n",
       "1         Widely spaced teeth                         1/3                \n",
       "2                   Hypotonia                         2/3                \n",
       "3                  Ichthyosis                         1/3                \n",
       "4  Cerebral visual impairment                         1/3                \n",
       "\n",
       "  modifier description    publication evidence  \\\n",
       "0                       PMID:34875027      PCS   \n",
       "1                       PMID:34875027      PCS   \n",
       "2                       PMID:34875027      PCS   \n",
       "3                       PMID:34875027      PCS   \n",
       "4                       PMID:34875027      PCS   \n",
       "\n",
       "                             biocuration  \n",
       "0  ORCID:0000-0002-0736-9199[2024-07-30]  \n",
       "1  ORCID:0000-0002-0736-9199[2024-07-30]  \n",
       "2  ORCID:0000-0002-0736-9199[2024-07-30]  \n",
       "3  ORCID:0000-0002-0736-9199[2024-07-30]  \n",
       "4  ORCID:0000-0002-0736-9199[2024-07-30]  "
      ]
     },
     "execution_count": 12,
     "metadata": {},
     "output_type": "execute_result"
    }
   ],
   "source": [
    "pmid = \"PMID:24259288\"\n",
    "df = timporter.create_hpoa_from_phenopackets(pmid=pmid, mode_of_inheritance=Moi.XLR, target=\"OMIM:301072\")\n",
    "df.head()"
   ]
  }
 ],
 "metadata": {
  "kernelspec": {
   "display_name": "ps24venv",
   "language": "python",
   "name": "python3"
  },
  "language_info": {
   "codemirror_mode": {
    "name": "ipython",
    "version": 3
   },
   "file_extension": ".py",
   "mimetype": "text/x-python",
   "name": "python",
   "nbconvert_exporter": "python",
   "pygments_lexer": "ipython3",
   "version": "3.9.6"
  }
 },
 "nbformat": 4,
 "nbformat_minor": 2
}
