{
 "cells": [
  {
   "cell_type": "markdown",
   "metadata": {},
   "source": [
    "# HMGCR\n",
    "\n",
    "[Autosomal recessive limb-girdle muscular dystrophy-28 (LGMDR28)]() is caused by homozygous or compound heterozygous mutation in the HMGCR gene."
   ]
  },
  {
   "cell_type": "code",
   "execution_count": 1,
   "metadata": {},
   "outputs": [
    {
     "name": "stdout",
     "output_type": "stream",
     "text": [
      "Using pyphetools version 0.9.117\n"
     ]
    }
   ],
   "source": [
    "from pyphetools.creation import TemplateImporter, Moi\n",
    "from pyphetools.visualization import IndividualTable, QcVisualizer\n",
    "from IPython.display import display, HTML\n",
    "import pyphetools\n",
    "print(f\"Using pyphetools version {pyphetools.__version__}\")"
   ]
  },
  {
   "cell_type": "code",
   "execution_count": 2,
   "metadata": {},
   "outputs": [
    {
     "name": "stdout",
     "output_type": "stream",
     "text": [
      "HPO version 2024-12-12\n",
      "Created encoders for 64 fields\n",
      "Importing OMIM:620375, Muscular dystrophy, limb-girdle, autosomal recessive 28, HGNC:5006, HMGCR,  NM_000859.3\n",
      "We output 15 GA4GH phenopackets to the directory phenopackets\n"
     ]
    }
   ],
   "source": [
    "template = \"input/HMGCR_LGMDR28_individuals.xlsx\"\n",
    "created_by = \"0000-0002-0736-9199\"\n",
    "timporter = TemplateImporter(template=template,  created_by=created_by)\n",
    "individual_list, cvalidator = timporter.import_phenopackets_from_template()"
   ]
  },
  {
   "cell_type": "code",
   "execution_count": 3,
   "metadata": {},
   "outputs": [
    {
     "data": {
      "text/html": [
       "<h2>Cohort validation</h2>\n",
       "<p>Errors found with 7 of 15 phenopackets.</p>\n",
       "<table style=\"border: 2px solid black; align: \"left\">\n",
       "<caption>Error counts</caption>\n",
       "<tr><th style=\"text-align: left;font-weight: bold;\">Level</th><th style=\"text-align: left;font-weight: bold;\">Error category</th><th style=\"text-align: left;font-weight: bold;\">Count</th></tr>\n",
       "<tr><td style=\"text-align: left;\">WARNING</td><td style=\"text-align: left;\">REDUNDANT</td><td style=\"text-align: left;\">7</td></tr>\n",
       "</table>\n",
       "<p>A total of 7 issues were fixed and no individual was removed from the cohort.</p>"
      ],
      "text/plain": [
       "<IPython.core.display.HTML object>"
      ]
     },
     "metadata": {},
     "output_type": "display_data"
    }
   ],
   "source": [
    "qc = QcVisualizer(cohort_validator=cvalidator)\n",
    "display(HTML(qc.to_summary_html()))"
   ]
  },
  {
   "cell_type": "code",
   "execution_count": 4,
   "metadata": {},
   "outputs": [
    {
     "data": {
      "text/html": [
       "<table style=\"border: 2px solid black; align: \"left\">\n",
       "<caption>15 phenopackets - PMID:36745799 (n=6); PMID:37167966 (n=9)</caption>\n",
       "<tr><th style=\"text-align: left;font-weight: bold;\">Individual</th><th style=\"text-align: left;font-weight: bold;\">Disease</th><th style=\"text-align: left;font-weight: bold;\">Genotype</th><th style=\"text-align: left;font-weight: bold;\">Phenotypic features</th></tr>\n",
       "<tr><td style=\"text-align: left;\">Individual V:2 (FEMALE; P49Y)</td><td style=\"text-align: left;\">Muscular dystrophy, limb-girdle, autosomal recessive 28 (OMIM:620375)</td><td style=\"text-align: left;\">NM_000859.3:c.2465G>A (homozygous)</td><td style=\"text-align: left;\">Upper limb amyotrophy (HP:0009129): onset ; Lower limb amyotrophy (HP:0007210): onset ; Increased circulating troponin T concentration (HP:0410174): onset ; Areflexia (HP:0001284): onset ; Elevated circulating alkaline phosphatase concentration (HP:0003155): onset ; Proximal muscle weakness in lower limbs (HP:0008994): onset ; Proximal muscle weakness in upper limbs (HP:0008997): onset ; EMG: myopathic abnormalities (HP:0003458): onset ; Loss of ambulation (HP:0002505): onset ; Exercise-induced myalgia (HP:0003738): onset ; Respiratory failure requiring assisted ventilation (HP:0004887): onset ; Respiratory insufficiency due to muscle weakness (HP:0002747): onset ; Impaired fasting glucose (HP:0025691): onset ; excluded: Hyporeflexia (HP:0001265): onset ; excluded: Dysphagia (HP:0002015): onset ; excluded: Left ventricular diastolic dysfunction (HP:0025168): onset ; excluded: Elevated circulating creatine kinase concentration (HP:0003236): onset ; excluded: Elevated circulating aspartate aminotransferase concentration (HP:0031956): onset ; excluded: Elevated circulating alanine aminotransferase concentration (HP:0031964): onset ; excluded: Joint contracture (HP:0034392): onset ; excluded: Weakness of facial musculature (HP:0030319): onset </td></tr>\n",
       "<tr><td style=\"text-align: left;\">Individual V:5 (MALE; P58Y)</td><td style=\"text-align: left;\">Muscular dystrophy, limb-girdle, autosomal recessive 28 (OMIM:620375)</td><td style=\"text-align: left;\">NM_000859.3:c.2465G>A (homozygous)</td><td style=\"text-align: left;\">Upper limb amyotrophy (HP:0009129): onset ; Lower limb amyotrophy (HP:0007210): onset ; Increased circulating troponin T concentration (HP:0410174): onset ; Hyporeflexia (HP:0001265): onset ; Left ventricular diastolic dysfunction (HP:0025168): onset ; Elevated circulating creatine kinase concentration (HP:0003236): onset ; Elevated circulating aspartate aminotransferase concentration (HP:0031956): onset ; Elevated circulating alanine aminotransferase concentration (HP:0031964): onset ; Proximal muscle weakness in lower limbs (HP:0008994): onset ; Proximal muscle weakness in upper limbs (HP:0008997): onset ; EMG: myopathic abnormalities (HP:0003458): onset ; Loss of ambulation (HP:0002505): onset ; Exercise-induced myalgia (HP:0003738): onset ; Respiratory insufficiency due to muscle weakness (HP:0002747): onset ; Impaired fasting glucose (HP:0025691): onset ; excluded: Areflexia (HP:0001284): onset ; excluded: Dysphagia (HP:0002015): onset ; excluded: Elevated circulating alkaline phosphatase concentration (HP:0003155): onset ; excluded: Respiratory failure requiring assisted ventilation (HP:0004887): onset ; excluded: Joint contracture (HP:0034392): onset ; excluded: Weakness of facial musculature (HP:0030319): onset </td></tr>\n",
       "<tr><td style=\"text-align: left;\">Individual V:8 (MALE; P37Y)</td><td style=\"text-align: left;\">Muscular dystrophy, limb-girdle, autosomal recessive 28 (OMIM:620375)</td><td style=\"text-align: left;\">NM_000859.3:c.2465G>A (homozygous)</td><td style=\"text-align: left;\">Elevated circulating creatine kinase concentration (HP:0003236): onset ; Elevated circulating aspartate aminotransferase concentration (HP:0031956): onset ; Elevated circulating alanine aminotransferase concentration (HP:0031964): onset ; Proximal muscle weakness in lower limbs (HP:0008994): onset ; Proximal muscle weakness in upper limbs (HP:0008997): onset ; Exercise-induced myalgia (HP:0003738): onset ; Impaired fasting glucose (HP:0025691): onset ; excluded: Upper limb amyotrophy (HP:0009129): onset ; excluded: Lower limb amyotrophy (HP:0007210): onset ; excluded: Areflexia (HP:0001284): onset ; excluded: Hyporeflexia (HP:0001265): onset ; excluded: Dysphagia (HP:0002015): onset ; excluded: Left ventricular diastolic dysfunction (HP:0025168): onset ; excluded: Elevated circulating alkaline phosphatase concentration (HP:0003155): onset ; excluded: Loss of ambulation (HP:0002505): onset ; excluded: Respiratory failure requiring assisted ventilation (HP:0004887): onset ; excluded: Respiratory insufficiency due to muscle weakness (HP:0002747): onset ; excluded: Joint contracture (HP:0034392): onset ; excluded: Weakness of facial musculature (HP:0030319): onset </td></tr>\n",
       "<tr><td style=\"text-align: left;\">Individual V:9 (MALE; P42Y)</td><td style=\"text-align: left;\">Muscular dystrophy, limb-girdle, autosomal recessive 28 (OMIM:620375)</td><td style=\"text-align: left;\">NM_000859.3:c.2465G>A (homozygous)</td><td style=\"text-align: left;\">Increased circulating troponin T concentration (HP:0410174): onset ; Elevated circulating creatine kinase concentration (HP:0003236): onset ; Proximal muscle weakness in lower limbs (HP:0008994): onset ; Proximal muscle weakness in upper limbs (HP:0008997): onset ; Exercise-induced myalgia (HP:0003738): onset ; Impaired fasting glucose (HP:0025691): onset ; excluded: Upper limb amyotrophy (HP:0009129): onset ; excluded: Lower limb amyotrophy (HP:0007210): onset ; excluded: Areflexia (HP:0001284): onset ; excluded: Hyporeflexia (HP:0001265): onset ; excluded: Dysphagia (HP:0002015): onset ; excluded: Left ventricular diastolic dysfunction (HP:0025168): onset ; excluded: Elevated circulating aspartate aminotransferase concentration (HP:0031956): onset ; excluded: Elevated circulating alanine aminotransferase concentration (HP:0031964): onset ; excluded: Elevated circulating alkaline phosphatase concentration (HP:0003155): onset ; excluded: Loss of ambulation (HP:0002505): onset ; excluded: Respiratory failure requiring assisted ventilation (HP:0004887): onset ; excluded: Respiratory insufficiency due to muscle weakness (HP:0002747): onset ; excluded: Joint contracture (HP:0034392): onset ; excluded: Weakness of facial musculature (HP:0030319): onset </td></tr>\n",
       "<tr><td style=\"text-align: left;\">Individual V:12 (FEMALE; P51Y)</td><td style=\"text-align: left;\">Muscular dystrophy, limb-girdle, autosomal recessive 28 (OMIM:620375)</td><td style=\"text-align: left;\">NM_000859.3:c.2465G>A (homozygous)</td><td style=\"text-align: left;\">Upper limb amyotrophy (HP:0009129): onset ; Lower limb amyotrophy (HP:0007210): onset ; Increased circulating troponin T concentration (HP:0410174): onset ; Hyporeflexia (HP:0001265): onset ; Elevated circulating creatine kinase concentration (HP:0003236): onset ; Elevated circulating aspartate aminotransferase concentration (HP:0031956): onset ; Proximal muscle weakness in lower limbs (HP:0008994): onset ; Proximal muscle weakness in upper limbs (HP:0008997): onset ; EMG: myopathic abnormalities (HP:0003458): onset ; Loss of ambulation (HP:0002505): onset ; Exercise-induced myalgia (HP:0003738): onset ; Respiratory insufficiency due to muscle weakness (HP:0002747): onset ; Impaired fasting glucose (HP:0025691): onset ; excluded: Areflexia (HP:0001284): onset ; excluded: Dysphagia (HP:0002015): onset ; excluded: Elevated circulating alanine aminotransferase concentration (HP:0031964): onset ; excluded: Elevated circulating alkaline phosphatase concentration (HP:0003155): onset ; excluded: Respiratory failure requiring assisted ventilation (HP:0004887): onset ; excluded: Joint contracture (HP:0034392): onset ; excluded: Weakness of facial musculature (HP:0030319): onset </td></tr>\n",
       "</table>"
      ],
      "text/plain": [
       "<IPython.core.display.HTML object>"
      ]
     },
     "metadata": {},
     "output_type": "display_data"
    }
   ],
   "source": [
    "table = IndividualTable(cvalidator.get_error_free_individual_list())\n",
    "display(HTML(table.to_html(max_rows_to_show=5)))"
   ]
  },
  {
   "cell_type": "code",
   "execution_count": 5,
   "metadata": {},
   "outputs": [
    {
     "name": "stdout",
     "output_type": "stream",
     "text": [
      "[pyphetools] Ingested 15 GA4GH phenopackets.\n",
      "[INFO] Extracted 15 from 15 phenopackets with OMIM:620375\n",
      "\n",
      "\tMuscular dystrophy, limb-girdle, autosomal recessive 28 (OMIM:620375): n=15\n",
      "We found a total of 40 unique HPO terms\n",
      "Extracted disease: Muscular dystrophy, limb-girdle, autosomal recessive 28 (OMIM:620375)\n",
      "Wrote HPOA disease file to OMIM-620375.tab\n"
     ]
    }
   ],
   "source": [
    "pmid = \"PMID:36745799\"\n",
    "df = timporter.create_hpoa_from_phenopackets(pmid=pmid, mode_of_inheritance=Moi.AR, target=\"OMIM:620375\")"
   ]
  }
 ],
 "metadata": {
  "kernelspec": {
   "display_name": "ps24venv",
   "language": "python",
   "name": "python3"
  },
  "language_info": {
   "codemirror_mode": {
    "name": "ipython",
    "version": 3
   },
   "file_extension": ".py",
   "mimetype": "text/x-python",
   "name": "python",
   "nbconvert_exporter": "python",
   "pygments_lexer": "ipython3",
   "version": "3.12.8"
  }
 },
 "nbformat": 4,
 "nbformat_minor": 2
}
