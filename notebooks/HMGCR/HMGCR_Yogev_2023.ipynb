{
 "cells": [
  {
   "cell_type": "markdown",
   "id": "66f55366-7848-47a4-9658-6d6f7176e3ab",
   "metadata": {},
   "source": [
    "# HMGCR Yogev et al. (2023)\n",
    "\n",
    "Data derived from [Yogev Y, et al. (2023) Limb girdle muscular disease caused by HMGCR mutation and statin myopathy treatable with mevalonolactone. Proc Natl Acad Sci U S A.;120(7):e2217831120. PMID:36745799](https://pubmed.ncbi.nlm.nih.gov/36745799/)\n",
    "\n",
    "Six individuals of a single consanguineous Bedouin kindred (Fig. 1A) were affected with apparently autosomal recessive progressive limb girdle muscle disease. The disease initially manifested during the fourth decade of life with pain on exertion, followed by muscle fatigue and weakness, affecting mostly the proximal and axial muscles, and culminating with involvement of respiratory muscles. \n",
    "\n",
    "g.5:75359992G>A (GRCh38/hg38); NM_000859.3:c.2465G>A; p.(G822D) in HMGCR"
   ]
  },
  {
   "cell_type": "code",
   "execution_count": 1,
   "id": "f79827bb-6dbd-408a-9a9c-456e4e91a198",
   "metadata": {},
   "outputs": [
    {
     "name": "stdout",
     "output_type": "stream",
     "text": [
      "Using pyphetools version 0.9.78\n"
     ]
    },
    {
     "name": "stderr",
     "output_type": "stream",
     "text": [
      "/Users/robin/GIT/phenopacket-store/ps24venv/lib/python3.9/site-packages/urllib3/__init__.py:35: NotOpenSSLWarning: urllib3 v2 only supports OpenSSL 1.1.1+, currently the 'ssl' module is compiled with 'LibreSSL 2.8.3'. See: https://github.com/urllib3/urllib3/issues/3020\n",
      "  warnings.warn(\n"
     ]
    }
   ],
   "source": [
    "import pandas as pd\n",
    "pd.set_option('display.max_colwidth', None) # show entire column contents, important!\n",
    "from IPython.display import HTML, display\n",
    "from pyphetools.creation import *\n",
    "from pyphetools.visualization import *\n",
    "from pyphetools.validation import *\n",
    "import importlib.metadata\n",
    "__version__ = importlib.metadata.version(\"pyphetools\")\n",
    "print(f\"Using pyphetools version {__version__}\")"
   ]
  },
  {
   "cell_type": "code",
   "execution_count": 2,
   "id": "9a861594-c364-40ab-9c6c-f25e1bff8bf8",
   "metadata": {},
   "outputs": [
    {
     "name": "stdout",
     "output_type": "stream",
     "text": [
      "HPO version 2024-04-04\n"
     ]
    }
   ],
   "source": [
    "PMID=\"PMID:36745799\"\n",
    "title = \"Limb girdle muscular disease caused by HMGCR mutation and statin myopathy treatable with mevalonolactone\"\n",
    "cite = Citation(pmid=PMID, title=title)\n",
    "parser = HpoParser(hpo_json_file=\"../hp.json\")\n",
    "hpo_cr = parser.get_hpo_concept_recognizer()\n",
    "hpo_version = parser.get_version()\n",
    "hpo_ontology = parser.get_ontology()\n",
    "metadata = MetaData(created_by=\"ORCID:0000-0002-0736-9199\", citation=cite)\n",
    "metadata.default_versions_with_hpo(version=hpo_version)\n",
    "print(f\"HPO version {hpo_version}\")"
   ]
  },
  {
   "cell_type": "code",
   "execution_count": 3,
   "id": "92f65bdd-3625-46ac-94aa-fec93231168f",
   "metadata": {},
   "outputs": [
    {
     "data": {
      "text/html": [
       "<div>\n",
       "<style scoped>\n",
       "    .dataframe tbody tr th:only-of-type {\n",
       "        vertical-align: middle;\n",
       "    }\n",
       "\n",
       "    .dataframe tbody tr th {\n",
       "        vertical-align: top;\n",
       "    }\n",
       "\n",
       "    .dataframe thead th {\n",
       "        text-align: right;\n",
       "    }\n",
       "</style>\n",
       "<table border=\"1\" class=\"dataframe\">\n",
       "  <thead>\n",
       "    <tr style=\"text-align: right;\">\n",
       "      <th>INDIVIDUAL</th>\n",
       "      <th>SEX</th>\n",
       "      <th>AGE AT EXAMINATION</th>\n",
       "      <th>AGE AT ONSET</th>\n",
       "      <th>PROXIMAL STRENGTH UPPER LIMB</th>\n",
       "      <th>PROXIMAL STRENGTH LOWER LIMB</th>\n",
       "      <th>ATROPHY UPPER LIMB</th>\n",
       "      <th>ATROPHY LOWER LIMB</th>\n",
       "      <th>DEEP TENDON REFLEXES</th>\n",
       "      <th>PAIN ON EXERTION</th>\n",
       "      <th>AMBULATORY</th>\n",
       "      <th>...</th>\n",
       "      <th>TRIGLYCERIDES (RECOMMENDED&lt;150MG/DL)</th>\n",
       "      <th>HDL (RECOMMENDED &gt;60MG/DL)</th>\n",
       "      <th>LDL (RECOMMENDED &lt;100MG/DL)</th>\n",
       "      <th>VLDL</th>\n",
       "      <th>FASTING BLOOD SUGAR</th>\n",
       "      <th>ABNORMAL BRAIN IMAGING</th>\n",
       "      <th>MYOPATHIC CHANGERS IN EMG</th>\n",
       "      <th>MUSCLE BIOPSY-NORMAL DYSTROPHIN, NADH, SDH, COX, ATPASES, ELECTRON MICROSCOPY</th>\n",
       "      <th>COMORBIDITIES</th>\n",
       "      <th>individual_id</th>\n",
       "    </tr>\n",
       "  </thead>\n",
       "  <tbody>\n",
       "    <tr>\n",
       "      <th>V:2</th>\n",
       "      <td>F</td>\n",
       "      <td>49</td>\n",
       "      <td>P31Y</td>\n",
       "      <td>0/5</td>\n",
       "      <td>0/5</td>\n",
       "      <td>Marked</td>\n",
       "      <td>Marked</td>\n",
       "      <td>Absent</td>\n",
       "      <td>+</td>\n",
       "      <td>-</td>\n",
       "      <td>...</td>\n",
       "      <td>87</td>\n",
       "      <td>49</td>\n",
       "      <td>80</td>\n",
       "      <td>17</td>\n",
       "      <td>390</td>\n",
       "      <td>-</td>\n",
       "      <td>+</td>\n",
       "      <td>Mild type 2 fiber deficiency</td>\n",
       "      <td>Insulin-dependent diabetes mellitus, onset age 19</td>\n",
       "      <td>V:2</td>\n",
       "    </tr>\n",
       "    <tr>\n",
       "      <th>V:5</th>\n",
       "      <td>M</td>\n",
       "      <td>58</td>\n",
       "      <td>P39Y</td>\n",
       "      <td>3/5</td>\n",
       "      <td>2/5</td>\n",
       "      <td>Marked</td>\n",
       "      <td>Marked</td>\n",
       "      <td>Diminished</td>\n",
       "      <td>+</td>\n",
       "      <td>-</td>\n",
       "      <td>...</td>\n",
       "      <td>123</td>\n",
       "      <td>49</td>\n",
       "      <td>87</td>\n",
       "      <td>25</td>\n",
       "      <td>123</td>\n",
       "      <td>-</td>\n",
       "      <td>+</td>\n",
       "      <td>+</td>\n",
       "      <td>COPD, diastolic dysfunction, ICRBBB, lymphocytosis</td>\n",
       "      <td>V:5</td>\n",
       "    </tr>\n",
       "    <tr>\n",
       "      <th>V:8</th>\n",
       "      <td>M</td>\n",
       "      <td>37</td>\n",
       "      <td>P24Y</td>\n",
       "      <td>5/5</td>\n",
       "      <td>5/5</td>\n",
       "      <td>-</td>\n",
       "      <td>-</td>\n",
       "      <td>+</td>\n",
       "      <td>+</td>\n",
       "      <td>+</td>\n",
       "      <td>...</td>\n",
       "      <td>95.5</td>\n",
       "      <td>38</td>\n",
       "      <td>77</td>\n",
       "      <td>19</td>\n",
       "      <td>127</td>\n",
       "      <td>NaN</td>\n",
       "      <td>NaN</td>\n",
       "      <td>NaN</td>\n",
       "      <td>-</td>\n",
       "      <td>V:8</td>\n",
       "    </tr>\n",
       "    <tr>\n",
       "      <th>V:9</th>\n",
       "      <td>M</td>\n",
       "      <td>42</td>\n",
       "      <td>P33Y</td>\n",
       "      <td>5/5</td>\n",
       "      <td>4/5</td>\n",
       "      <td>-</td>\n",
       "      <td>-</td>\n",
       "      <td>+</td>\n",
       "      <td>+</td>\n",
       "      <td>+</td>\n",
       "      <td>...</td>\n",
       "      <td>108</td>\n",
       "      <td>45</td>\n",
       "      <td>67</td>\n",
       "      <td>22</td>\n",
       "      <td>111</td>\n",
       "      <td>-</td>\n",
       "      <td>NaN</td>\n",
       "      <td>NaN</td>\n",
       "      <td>ICRBBB</td>\n",
       "      <td>V:9</td>\n",
       "    </tr>\n",
       "    <tr>\n",
       "      <th>V:12</th>\n",
       "      <td>F</td>\n",
       "      <td>51</td>\n",
       "      <td>P31Y</td>\n",
       "      <td>2/5</td>\n",
       "      <td>2/5</td>\n",
       "      <td>Evident</td>\n",
       "      <td>Evident</td>\n",
       "      <td>Diminished</td>\n",
       "      <td>+</td>\n",
       "      <td>-</td>\n",
       "      <td>...</td>\n",
       "      <td>149</td>\n",
       "      <td>55</td>\n",
       "      <td>82.5</td>\n",
       "      <td>30</td>\n",
       "      <td>124</td>\n",
       "      <td>-</td>\n",
       "      <td>+</td>\n",
       "      <td>+</td>\n",
       "      <td>single kidney</td>\n",
       "      <td>V:12</td>\n",
       "    </tr>\n",
       "  </tbody>\n",
       "</table>\n",
       "<p>5 rows × 31 columns</p>\n",
       "</div>"
      ],
      "text/plain": [
       "INDIVIDUAL SEX AGE AT EXAMINATION AGE AT ONSET PROXIMAL STRENGTH UPPER LIMB  \\\n",
       "V:2          F                 49         P31Y                          0/5   \n",
       "V:5          M                 58         P39Y                          3/5   \n",
       "V:8          M                 37         P24Y                          5/5   \n",
       "V:9          M                 42         P33Y                          5/5   \n",
       "V:12         F                 51         P31Y                          2/5   \n",
       "\n",
       "INDIVIDUAL PROXIMAL STRENGTH LOWER LIMB ATROPHY UPPER LIMB ATROPHY LOWER LIMB  \\\n",
       "V:2                                 0/5             Marked             Marked   \n",
       "V:5                                 2/5             Marked             Marked   \n",
       "V:8                                 5/5                  -                  -   \n",
       "V:9                                 4/5                  -                  -   \n",
       "V:12                                2/5            Evident            Evident   \n",
       "\n",
       "INDIVIDUAL DEEP TENDON REFLEXES PAIN ON EXERTION AMBULATORY  ...  \\\n",
       "V:2                      Absent                +          -  ...   \n",
       "V:5                  Diminished                +          -  ...   \n",
       "V:8                           +                +          +  ...   \n",
       "V:9                           +                +          +  ...   \n",
       "V:12                 Diminished                +          -  ...   \n",
       "\n",
       "INDIVIDUAL TRIGLYCERIDES (RECOMMENDED<150MG/DL) HDL (RECOMMENDED >60MG/DL)  \\\n",
       "V:2                                          87                         49   \n",
       "V:5                                         123                         49   \n",
       "V:8                                        95.5                         38   \n",
       "V:9                                         108                         45   \n",
       "V:12                                        149                         55   \n",
       "\n",
       "INDIVIDUAL LDL (RECOMMENDED <100MG/DL) VLDL FASTING BLOOD SUGAR  \\\n",
       "V:2                                 80   17                 390   \n",
       "V:5                                 87   25                 123   \n",
       "V:8                                 77   19                 127   \n",
       "V:9                                 67   22                 111   \n",
       "V:12                              82.5   30                 124   \n",
       "\n",
       "INDIVIDUAL ABNORMAL BRAIN IMAGING MYOPATHIC CHANGERS IN EMG  \\\n",
       "V:2                             -                         +   \n",
       "V:5                             -                         +   \n",
       "V:8                           NaN                       NaN   \n",
       "V:9                             -                       NaN   \n",
       "V:12                            -                         +   \n",
       "\n",
       "INDIVIDUAL MUSCLE BIOPSY-NORMAL DYSTROPHIN, NADH, SDH, COX, ATPASES, ELECTRON MICROSCOPY  \\\n",
       "V:2                                                         Mild type 2 fiber deficiency   \n",
       "V:5                                                                                    +   \n",
       "V:8                                                                                  NaN   \n",
       "V:9                                                                                  NaN   \n",
       "V:12                                                                                   +   \n",
       "\n",
       "INDIVIDUAL                                       COMORBIDITIES individual_id  \n",
       "V:2         Insulin-dependent diabetes mellitus, onset age 19            V:2  \n",
       "V:5         COPD, diastolic dysfunction, ICRBBB, lymphocytosis           V:5  \n",
       "V:8                                                          -           V:8  \n",
       "V:9                                                     ICRBBB           V:9  \n",
       "V:12                                             single kidney          V:12  \n",
       "\n",
       "[5 rows x 31 columns]"
      ]
     },
     "execution_count": 3,
     "metadata": {},
     "output_type": "execute_result"
    }
   ],
   "source": [
    "df = pd.read_excel(\"input/HMGCR_Yogev_HMGCR.xlsx\")\n",
    "dft = df.transpose()\n",
    "dft.columns = dft.iloc[0]\n",
    "dft.drop(dft.index[0], inplace=True)\n",
    "dft['individual_id'] = dft.index  # Set the new column 'patient_id' to be identical to the contents of the index\n",
    "dft.head() # check the transposed table"
   ]
  },
  {
   "cell_type": "code",
   "execution_count": 4,
   "id": "69581b99-73c1-4346-b784-98a81183a9a2",
   "metadata": {},
   "outputs": [
    {
     "data": {
      "text/html": [
       "<table style=\"border: 2px solid black;\">\n",
       "\n",
       "<tr>\n",
       "            <th>Result</th>\n",
       "            <th>Columns</th>\n",
       "        </tr>\n",
       "        \n",
       "<tr><td>Mapped</td><td>RESPIRATORY DIFFICULTIES; DYSPHAGIA; ABNORMAL BRAIN IMAGING</td></tr>\n",
       "<tr><td>Unmapped</td><td><q>SEX</q>; <q>AGE AT EXAMINATION</q>; <q>AGE AT ONSET</q>; <q>PROXIMAL STRENGTH UPPER LIMB</q>; <q>PROXIMAL STRENGTH LOWER LIMB</q>; <q>ATROPHY UPPER LIMB</q>; <q>ATROPHY LOWER LIMB</q>; <q>DEEP TENDON REFLEXES</q>; <q>PAIN ON EXERTION</q>; <q>AMBULATORY</q>; <q>ABULATORY MOBILITY RESTRICTION</q>; <q>ECHOCARDIOGRAPHY</q>; <q>CPK (reference 20-180 U/L)</q>; <q>MAXIMAL TROPONIN T (0-14NG/L)</q>; <q>CREATININE</q>; <q>AST (REFERENCE 0-35 U/L)</q>; <q>ALT (REFERENCE 0-45 U/L)</q>; <q>ALKALINE PHOSPHATASE (REFERENCE 30-120 U/L)</q>; <q>TOTAL CHOLESTEROL (RECOMMENDED <200 MG/DL)</q>; <q>TRIGLYCERIDES (RECOMMENDED<150MG/DL)</q>; <q>HDL (RECOMMENDED >60MG/DL)</q>; <q>LDL (RECOMMENDED <100MG/DL)</q>; <q>VLDL</q>; <q>FASTING BLOOD SUGAR</q>; <q>MYOPATHIC CHANGERS IN EMG</q>; <q>MUSCLE BIOPSY-NORMAL DYSTROPHIN, NADH, SDH, COX, ATPASES, ELECTRON MICROSCOPY</q>; <q>COMORBIDITIES</q>; <q>individual_id</q></td></tr>\n",
       "</table>\n"
      ],
      "text/plain": [
       "<IPython.core.display.HTML object>"
      ]
     },
     "metadata": {},
     "output_type": "display_data"
    }
   ],
   "source": [
    "generator = SimpleColumnMapperGenerator(df=dft, observed=\"+\", excluded=\"-\", hpo_cr=hpo_cr)\n",
    "column_mapper_list = generator.try_mapping_columns()\n",
    "display(HTML(generator.to_html()))"
   ]
  },
  {
   "cell_type": "code",
   "execution_count": 5,
   "id": "228db13b-4958-4002-9b78-f5c81a447a97",
   "metadata": {},
   "outputs": [],
   "source": [
    "#res = OptionColumnMapper.autoformat(df=dft, concept_recognizer=hpo_cr, omit_columns=generator.get_mapped_columns())\n",
    "#print(res)"
   ]
  },
  {
   "cell_type": "code",
   "execution_count": 6,
   "id": "b9774683-77c2-4bbc-bdaf-df4d4da49d74",
   "metadata": {},
   "outputs": [
    {
     "data": {
      "text/html": [
       "<div>\n",
       "<style scoped>\n",
       "    .dataframe tbody tr th:only-of-type {\n",
       "        vertical-align: middle;\n",
       "    }\n",
       "\n",
       "    .dataframe tbody tr th {\n",
       "        vertical-align: top;\n",
       "    }\n",
       "\n",
       "    .dataframe thead th {\n",
       "        text-align: right;\n",
       "    }\n",
       "</style>\n",
       "<table border=\"1\" class=\"dataframe\">\n",
       "  <thead>\n",
       "    <tr style=\"text-align: right;\">\n",
       "      <th></th>\n",
       "      <th>mapping</th>\n",
       "      <th>count</th>\n",
       "    </tr>\n",
       "  </thead>\n",
       "  <tbody>\n",
       "    <tr>\n",
       "      <th>0</th>\n",
       "      <td>Proximal muscle weakness in upper limbs (HP:0008997) (observed)</td>\n",
       "      <td>4</td>\n",
       "    </tr>\n",
       "    <tr>\n",
       "      <th>1</th>\n",
       "      <td>Proximal muscle weakness in upper limbs (HP:0008997) (excluded)</td>\n",
       "      <td>2</td>\n",
       "    </tr>\n",
       "  </tbody>\n",
       "</table>\n",
       "</div>"
      ],
      "text/plain": [
       "                                                           mapping count\n",
       "0  Proximal muscle weakness in upper limbs (HP:0008997) (observed)     4\n",
       "1  Proximal muscle weakness in upper limbs (HP:0008997) (excluded)     2"
      ]
     },
     "execution_count": 6,
     "metadata": {},
     "output_type": "execute_result"
    }
   ],
   "source": [
    "proximal_strength_upper_limb_d = {'0/5': 'Proximal muscle weakness in upper limbs',\n",
    " '3/5': 'Proximal muscle weakness in upper limbs',\n",
    " '2/5': 'Proximal muscle weakness in upper limbs'}\n",
    "excluded = {'5/5': 'Proximal muscle weakness in upper limbs',}\n",
    "proximalMapper = OptionColumnMapper(column_name=\"PROXIMAL STRENGTH UPPER LIMB\", \n",
    "                                    concept_recognizer=hpo_cr, \n",
    "                                    option_d=proximal_strength_upper_limb_d,\n",
    "                                   excluded_d=excluded)\n",
    "column_mapper_list.append(proximalMapper)\n",
    "proximalMapper.preview_column(dft)"
   ]
  },
  {
   "cell_type": "code",
   "execution_count": 7,
   "id": "87f5f55c-f96b-43f2-8ef6-811b54f10ba7",
   "metadata": {},
   "outputs": [
    {
     "data": {
      "text/html": [
       "<div>\n",
       "<style scoped>\n",
       "    .dataframe tbody tr th:only-of-type {\n",
       "        vertical-align: middle;\n",
       "    }\n",
       "\n",
       "    .dataframe tbody tr th {\n",
       "        vertical-align: top;\n",
       "    }\n",
       "\n",
       "    .dataframe thead th {\n",
       "        text-align: right;\n",
       "    }\n",
       "</style>\n",
       "<table border=\"1\" class=\"dataframe\">\n",
       "  <thead>\n",
       "    <tr style=\"text-align: right;\">\n",
       "      <th></th>\n",
       "      <th>mapping</th>\n",
       "      <th>count</th>\n",
       "    </tr>\n",
       "  </thead>\n",
       "  <tbody>\n",
       "    <tr>\n",
       "      <th>0</th>\n",
       "      <td>Proximal muscle weakness in lower limbs (HP:0008994) (observed)</td>\n",
       "      <td>5</td>\n",
       "    </tr>\n",
       "    <tr>\n",
       "      <th>1</th>\n",
       "      <td>Proximal muscle weakness in lower limbs (HP:0008994) (excluded)</td>\n",
       "      <td>1</td>\n",
       "    </tr>\n",
       "  </tbody>\n",
       "</table>\n",
       "</div>"
      ],
      "text/plain": [
       "                                                           mapping count\n",
       "0  Proximal muscle weakness in lower limbs (HP:0008994) (observed)     5\n",
       "1  Proximal muscle weakness in lower limbs (HP:0008994) (excluded)     1"
      ]
     },
     "execution_count": 7,
     "metadata": {},
     "output_type": "execute_result"
    }
   ],
   "source": [
    "proximal_strength_lower_limb_d = {'0/5': 'Proximal muscle weakness in lower limbs',\n",
    " '2/5': 'Proximal muscle weakness in lower limbs',\n",
    " '4/5': 'Proximal muscle weakness in lower limbs'}\n",
    "excluded = { '5/5': 'Proximal muscle weakness in lower limbs',}\n",
    "proximal_strength_lower_limbMapper = OptionColumnMapper(column_name=\"PROXIMAL STRENGTH LOWER LIMB\", \n",
    "                                                        concept_recognizer=hpo_cr, \n",
    "                                                        option_d=proximal_strength_lower_limb_d,\n",
    "                                                       excluded_d=excluded)\n",
    "column_mapper_list.append(proximal_strength_lower_limbMapper)\n",
    "proximal_strength_lower_limbMapper.preview_column(dft)"
   ]
  },
  {
   "cell_type": "code",
   "execution_count": 8,
   "id": "7f8058cb-e22f-4337-917f-5c36b5ae7a29",
   "metadata": {},
   "outputs": [
    {
     "data": {
      "text/html": [
       "<div>\n",
       "<style scoped>\n",
       "    .dataframe tbody tr th:only-of-type {\n",
       "        vertical-align: middle;\n",
       "    }\n",
       "\n",
       "    .dataframe tbody tr th {\n",
       "        vertical-align: top;\n",
       "    }\n",
       "\n",
       "    .dataframe thead th {\n",
       "        text-align: right;\n",
       "    }\n",
       "</style>\n",
       "<table border=\"1\" class=\"dataframe\">\n",
       "  <thead>\n",
       "    <tr style=\"text-align: right;\">\n",
       "      <th></th>\n",
       "      <th>mapping</th>\n",
       "      <th>count</th>\n",
       "    </tr>\n",
       "  </thead>\n",
       "  <tbody>\n",
       "    <tr>\n",
       "      <th>0</th>\n",
       "      <td>Upper limb amyotrophy (HP:0009129) (observed)</td>\n",
       "      <td>4</td>\n",
       "    </tr>\n",
       "  </tbody>\n",
       "</table>\n",
       "</div>"
      ],
      "text/plain": [
       "                                         mapping count\n",
       "0  Upper limb amyotrophy (HP:0009129) (observed)     4"
      ]
     },
     "execution_count": 8,
     "metadata": {},
     "output_type": "execute_result"
    }
   ],
   "source": [
    "atrophy_upper_limb_d = {'Marked': 'Upper limb amyotrophy',\n",
    " 'Evident': 'Upper limb amyotrophy'}\n",
    "atrophy_upper_limbMapper = OptionColumnMapper(column_name=\"ATROPHY UPPER LIMB\", concept_recognizer=hpo_cr, option_d=atrophy_upper_limb_d)\n",
    "column_mapper_list.append(atrophy_upper_limbMapper)\n",
    "atrophy_upper_limbMapper.preview_column(dft)"
   ]
  },
  {
   "cell_type": "code",
   "execution_count": 9,
   "id": "e1170882-b2b0-40c4-a9c6-f54fdb55b0d5",
   "metadata": {},
   "outputs": [
    {
     "data": {
      "text/html": [
       "<div>\n",
       "<style scoped>\n",
       "    .dataframe tbody tr th:only-of-type {\n",
       "        vertical-align: middle;\n",
       "    }\n",
       "\n",
       "    .dataframe tbody tr th {\n",
       "        vertical-align: top;\n",
       "    }\n",
       "\n",
       "    .dataframe thead th {\n",
       "        text-align: right;\n",
       "    }\n",
       "</style>\n",
       "<table border=\"1\" class=\"dataframe\">\n",
       "  <thead>\n",
       "    <tr style=\"text-align: right;\">\n",
       "      <th></th>\n",
       "      <th>mapping</th>\n",
       "      <th>count</th>\n",
       "    </tr>\n",
       "  </thead>\n",
       "  <tbody>\n",
       "    <tr>\n",
       "      <th>0</th>\n",
       "      <td>Lower limb amyotrophy (HP:0007210) (observed)</td>\n",
       "      <td>3</td>\n",
       "    </tr>\n",
       "  </tbody>\n",
       "</table>\n",
       "</div>"
      ],
      "text/plain": [
       "                                         mapping count\n",
       "0  Lower limb amyotrophy (HP:0007210) (observed)     3"
      ]
     },
     "execution_count": 9,
     "metadata": {},
     "output_type": "execute_result"
    }
   ],
   "source": [
    "atrophy_lower_limb_d = {'Marked': 'Lower limb amyotrophy',\n",
    " 'Evident': 'Lower limb amyotrophy'}\n",
    "atrophy_lower_limbMapper = OptionColumnMapper(column_name=\"ATROPHY LOWER LIMB\", concept_recognizer=hpo_cr, option_d=atrophy_lower_limb_d)\n",
    "column_mapper_list.append(atrophy_lower_limbMapper)\n",
    "atrophy_lower_limbMapper.preview_column(dft)"
   ]
  },
  {
   "cell_type": "code",
   "execution_count": 10,
   "id": "12a41507-050a-4912-a9e4-9fc3546523ef",
   "metadata": {},
   "outputs": [
    {
     "data": {
      "text/html": [
       "<div>\n",
       "<style scoped>\n",
       "    .dataframe tbody tr th:only-of-type {\n",
       "        vertical-align: middle;\n",
       "    }\n",
       "\n",
       "    .dataframe tbody tr th {\n",
       "        vertical-align: top;\n",
       "    }\n",
       "\n",
       "    .dataframe thead th {\n",
       "        text-align: right;\n",
       "    }\n",
       "</style>\n",
       "<table border=\"1\" class=\"dataframe\">\n",
       "  <thead>\n",
       "    <tr style=\"text-align: right;\">\n",
       "      <th></th>\n",
       "      <th>mapping</th>\n",
       "      <th>count</th>\n",
       "    </tr>\n",
       "  </thead>\n",
       "  <tbody>\n",
       "    <tr>\n",
       "      <th>0</th>\n",
       "      <td>Areflexia (HP:0001284) (observed)</td>\n",
       "      <td>1</td>\n",
       "    </tr>\n",
       "    <tr>\n",
       "      <th>1</th>\n",
       "      <td>Hyporeflexia (HP:0001265) (observed)</td>\n",
       "      <td>3</td>\n",
       "    </tr>\n",
       "  </tbody>\n",
       "</table>\n",
       "</div>"
      ],
      "text/plain": [
       "                                mapping count\n",
       "0     Areflexia (HP:0001284) (observed)     1\n",
       "1  Hyporeflexia (HP:0001265) (observed)     3"
      ]
     },
     "execution_count": 10,
     "metadata": {},
     "output_type": "execute_result"
    }
   ],
   "source": [
    "deep_tendon_reflexes_d = {'Absent': 'Areflexia',\n",
    " 'Diminished': 'Hyporeflexia'}\n",
    "deep_tendon_reflexesMapper = OptionColumnMapper(column_name=\"DEEP TENDON REFLEXES\", concept_recognizer=hpo_cr, option_d=deep_tendon_reflexes_d)\n",
    "column_mapper_list.append(deep_tendon_reflexesMapper)\n",
    "deep_tendon_reflexesMapper.preview_column(dft)"
   ]
  },
  {
   "cell_type": "code",
   "execution_count": 11,
   "id": "04eb235e-558c-40c6-b3e3-e5d2312fe11a",
   "metadata": {},
   "outputs": [
    {
     "data": {
      "text/html": [
       "<div>\n",
       "<style scoped>\n",
       "    .dataframe tbody tr th:only-of-type {\n",
       "        vertical-align: middle;\n",
       "    }\n",
       "\n",
       "    .dataframe tbody tr th {\n",
       "        vertical-align: top;\n",
       "    }\n",
       "\n",
       "    .dataframe thead th {\n",
       "        text-align: right;\n",
       "    }\n",
       "</style>\n",
       "<table border=\"1\" class=\"dataframe\">\n",
       "  <thead>\n",
       "    <tr style=\"text-align: right;\">\n",
       "      <th></th>\n",
       "      <th>mapping</th>\n",
       "      <th>count</th>\n",
       "    </tr>\n",
       "  </thead>\n",
       "  <tbody>\n",
       "    <tr>\n",
       "      <th>0</th>\n",
       "      <td>original value: \"+\" -&gt; HP: Exercise-induced myalgia (HP:0003738) (observed)</td>\n",
       "      <td>6</td>\n",
       "    </tr>\n",
       "  </tbody>\n",
       "</table>\n",
       "</div>"
      ],
      "text/plain": [
       "                                                                       mapping  \\\n",
       "0  original value: \"+\" -> HP: Exercise-induced myalgia (HP:0003738) (observed)   \n",
       "\n",
       "  count  \n",
       "0     6  "
      ]
     },
     "execution_count": 11,
     "metadata": {},
     "output_type": "execute_result"
    }
   ],
   "source": [
    "pain_on_exertionMapper = SimpleColumnMapper(column_name=\"PAIN ON EXERTION\", \n",
    "                                            hpo_id=\"HP:0003738\",\n",
    "                                            hpo_label=\"Exercise-induced myalgia\",\n",
    "                                            observed=\"+\",\n",
    "                                            excluded=\"-\")\n",
    "column_mapper_list.append(pain_on_exertionMapper)\n",
    "pain_on_exertionMapper.preview_column(dft)"
   ]
  },
  {
   "cell_type": "code",
   "execution_count": 12,
   "id": "0621a534-7fe2-47e2-a628-e4c3e9677204",
   "metadata": {},
   "outputs": [
    {
     "data": {
      "text/html": [
       "<div>\n",
       "<style scoped>\n",
       "    .dataframe tbody tr th:only-of-type {\n",
       "        vertical-align: middle;\n",
       "    }\n",
       "\n",
       "    .dataframe tbody tr th {\n",
       "        vertical-align: top;\n",
       "    }\n",
       "\n",
       "    .dataframe thead th {\n",
       "        text-align: right;\n",
       "    }\n",
       "</style>\n",
       "<table border=\"1\" class=\"dataframe\">\n",
       "  <thead>\n",
       "    <tr style=\"text-align: right;\">\n",
       "      <th></th>\n",
       "      <th>mapping</th>\n",
       "      <th>count</th>\n",
       "    </tr>\n",
       "  </thead>\n",
       "  <tbody>\n",
       "    <tr>\n",
       "      <th>0</th>\n",
       "      <td>original value: \"-\" -&gt; HP: Loss of ambulation (HP:0002505) (excluded)</td>\n",
       "      <td>3</td>\n",
       "    </tr>\n",
       "    <tr>\n",
       "      <th>1</th>\n",
       "      <td>original value: \"+\" -&gt; HP: Loss of ambulation (HP:0002505) (observed)</td>\n",
       "      <td>3</td>\n",
       "    </tr>\n",
       "  </tbody>\n",
       "</table>\n",
       "</div>"
      ],
      "text/plain": [
       "                                                                 mapping count\n",
       "0  original value: \"-\" -> HP: Loss of ambulation (HP:0002505) (excluded)     3\n",
       "1  original value: \"+\" -> HP: Loss of ambulation (HP:0002505) (observed)     3"
      ]
     },
     "execution_count": 12,
     "metadata": {},
     "output_type": "execute_result"
    }
   ],
   "source": [
    "# dft[\"AMBULATORY\"] \"+\" means can still ambulate, \"-\" is loss\n",
    "# Loss of ambulation HP:0002505\n",
    "ambulatoryMapper = SimpleColumnMapper(column_name=\"AMBULATORY\", \n",
    "                                            hpo_id=\"HP:0002505\",\n",
    "                                            hpo_label=\"Loss of ambulation\",\n",
    "                                            observed=\"+\",\n",
    "                                            excluded=\"-\")\n",
    "column_mapper_list.append(ambulatoryMapper)\n",
    "ambulatoryMapper.preview_column(dft)"
   ]
  },
  {
   "cell_type": "code",
   "execution_count": 13,
   "id": "3ef49480-65f4-474f-b5e1-f0a33c1580b1",
   "metadata": {},
   "outputs": [
    {
     "data": {
      "text/html": [
       "<div>\n",
       "<style scoped>\n",
       "    .dataframe tbody tr th:only-of-type {\n",
       "        vertical-align: middle;\n",
       "    }\n",
       "\n",
       "    .dataframe tbody tr th {\n",
       "        vertical-align: top;\n",
       "    }\n",
       "\n",
       "    .dataframe thead th {\n",
       "        text-align: right;\n",
       "    }\n",
       "</style>\n",
       "<table border=\"1\" class=\"dataframe\">\n",
       "  <thead>\n",
       "    <tr style=\"text-align: right;\">\n",
       "      <th></th>\n",
       "      <th>mapping</th>\n",
       "      <th>count</th>\n",
       "    </tr>\n",
       "  </thead>\n",
       "  <tbody>\n",
       "    <tr>\n",
       "      <th>0</th>\n",
       "      <td>Respiratory failure requiring assisted ventilation (HP:0004887) (observed)</td>\n",
       "      <td>1</td>\n",
       "    </tr>\n",
       "    <tr>\n",
       "      <th>1</th>\n",
       "      <td>Respiratory insufficiency (HP:0002093) (observed)</td>\n",
       "      <td>2</td>\n",
       "    </tr>\n",
       "    <tr>\n",
       "      <th>2</th>\n",
       "      <td>Respiratory insufficiency (HP:0002093) (excluded)</td>\n",
       "      <td>3</td>\n",
       "    </tr>\n",
       "  </tbody>\n",
       "</table>\n",
       "</div>"
      ],
      "text/plain": [
       "                                                                      mapping  \\\n",
       "0  Respiratory failure requiring assisted ventilation (HP:0004887) (observed)   \n",
       "1                           Respiratory insufficiency (HP:0002093) (observed)   \n",
       "2                           Respiratory insufficiency (HP:0002093) (excluded)   \n",
       "\n",
       "  count  \n",
       "0     1  \n",
       "1     2  \n",
       "2     3  "
      ]
     },
     "execution_count": 13,
     "metadata": {},
     "output_type": "execute_result"
    }
   ],
   "source": [
    "respiratory_d = {'ventilated through tracheostomy': 'Respiratory failure requiring assisted ventilation',\n",
    "                             '+':\"Respiratory insufficiency\"}\n",
    "excluded = {\"-\" :\"Respiratory insufficiency\"}\n",
    "respiratoryMapper = OptionColumnMapper(column_name=\"RESPIRATORY DIFFICULTIES\", concept_recognizer=hpo_cr, option_d=respiratory_d, excluded_d=excluded)\n",
    "column_mapper_list.append(respiratoryMapper)\n",
    "respiratoryMapper.preview_column(dft)"
   ]
  },
  {
   "cell_type": "code",
   "execution_count": 14,
   "id": "889d0f9c-cb07-4062-92f4-1955821c0ffe",
   "metadata": {},
   "outputs": [
    {
     "data": {
      "text/html": [
       "<div>\n",
       "<style scoped>\n",
       "    .dataframe tbody tr th:only-of-type {\n",
       "        vertical-align: middle;\n",
       "    }\n",
       "\n",
       "    .dataframe tbody tr th {\n",
       "        vertical-align: top;\n",
       "    }\n",
       "\n",
       "    .dataframe thead th {\n",
       "        text-align: right;\n",
       "    }\n",
       "</style>\n",
       "<table border=\"1\" class=\"dataframe\">\n",
       "  <thead>\n",
       "    <tr style=\"text-align: right;\">\n",
       "      <th></th>\n",
       "      <th>mapping</th>\n",
       "      <th>count</th>\n",
       "    </tr>\n",
       "  </thead>\n",
       "  <tbody>\n",
       "    <tr>\n",
       "      <th>0</th>\n",
       "      <td>original value: \"-\" -&gt; HP: Dysphagia (HP:0002015) (excluded)</td>\n",
       "      <td>6</td>\n",
       "    </tr>\n",
       "  </tbody>\n",
       "</table>\n",
       "</div>"
      ],
      "text/plain": [
       "                                                        mapping count\n",
       "0  original value: \"-\" -> HP: Dysphagia (HP:0002015) (excluded)     6"
      ]
     },
     "execution_count": 14,
     "metadata": {},
     "output_type": "execute_result"
    }
   ],
   "source": [
    "dysphagiaMapper = SimpleColumnMapper(column_name=\"DYSPHAGIA\", \n",
    "                                            hpo_id=\"HP:0002015\",\n",
    "                                            hpo_label=\"Dysphagia\",\n",
    "                                            observed=\"+\",\n",
    "                                            excluded=\"-\")\n",
    "column_mapper_list.append(dysphagiaMapper)\n",
    "dysphagiaMapper.preview_column(dft)"
   ]
  },
  {
   "cell_type": "code",
   "execution_count": 15,
   "id": "87c9134c-1b4e-4e38-9422-98599df41b7a",
   "metadata": {},
   "outputs": [
    {
     "data": {
      "text/html": [
       "<div>\n",
       "<style scoped>\n",
       "    .dataframe tbody tr th:only-of-type {\n",
       "        vertical-align: middle;\n",
       "    }\n",
       "\n",
       "    .dataframe tbody tr th {\n",
       "        vertical-align: top;\n",
       "    }\n",
       "\n",
       "    .dataframe thead th {\n",
       "        text-align: right;\n",
       "    }\n",
       "</style>\n",
       "<table border=\"1\" class=\"dataframe\">\n",
       "  <thead>\n",
       "    <tr style=\"text-align: right;\">\n",
       "      <th></th>\n",
       "      <th>mapping</th>\n",
       "      <th>count</th>\n",
       "    </tr>\n",
       "  </thead>\n",
       "  <tbody>\n",
       "    <tr>\n",
       "      <th>0</th>\n",
       "      <td>Left ventricular diastolic dysfunction (HP:0025168) (excluded)</td>\n",
       "      <td>3</td>\n",
       "    </tr>\n",
       "    <tr>\n",
       "      <th>1</th>\n",
       "      <td>Left ventricular diastolic dysfunction (HP:0025168) (observed)</td>\n",
       "      <td>1</td>\n",
       "    </tr>\n",
       "  </tbody>\n",
       "</table>\n",
       "</div>"
      ],
      "text/plain": [
       "                                                          mapping count\n",
       "0  Left ventricular diastolic dysfunction (HP:0025168) (excluded)     3\n",
       "1  Left ventricular diastolic dysfunction (HP:0025168) (observed)     1"
      ]
     },
     "execution_count": 15,
     "metadata": {},
     "output_type": "execute_result"
    }
   ],
   "source": [
    "echocardiography_d = {\n",
    " 'Mild diastolic dysfunction': 'Left ventricular diastolic dysfunction',\n",
    "}\n",
    "excluded = {'Normal': 'Left ventricular diastolic dysfunction'}\n",
    "echocardiographyMapper = OptionColumnMapper(column_name=\"ECHOCARDIOGRAPHY\", \n",
    "                                            concept_recognizer=hpo_cr, \n",
    "                                            option_d=echocardiography_d, \n",
    "                                            excluded_d=excluded)\n",
    "column_mapper_list.append(echocardiographyMapper)\n",
    "echocardiographyMapper.preview_column(dft)"
   ]
  },
  {
   "cell_type": "code",
   "execution_count": 16,
   "id": "51a95a89-97ce-4d8f-b91f-090fe89855f1",
   "metadata": {},
   "outputs": [
    {
     "data": {
      "text/html": [
       "<div>\n",
       "<style scoped>\n",
       "    .dataframe tbody tr th:only-of-type {\n",
       "        vertical-align: middle;\n",
       "    }\n",
       "\n",
       "    .dataframe tbody tr th {\n",
       "        vertical-align: top;\n",
       "    }\n",
       "\n",
       "    .dataframe thead th {\n",
       "        text-align: right;\n",
       "    }\n",
       "</style>\n",
       "<table border=\"1\" class=\"dataframe\">\n",
       "  <thead>\n",
       "    <tr style=\"text-align: right;\">\n",
       "      <th></th>\n",
       "      <th>mapping: 20.0-180.0 U/L</th>\n",
       "      <th>count</th>\n",
       "    </tr>\n",
       "  </thead>\n",
       "  <tbody>\n",
       "    <tr>\n",
       "      <th>0</th>\n",
       "      <td>Abnormal circulating creatine kinase concentration (HP:0040081): excluded</td>\n",
       "      <td>1</td>\n",
       "    </tr>\n",
       "    <tr>\n",
       "      <th>1</th>\n",
       "      <td>Elevated circulating creatine kinase concentration (HP:0003236): observed</td>\n",
       "      <td>5</td>\n",
       "    </tr>\n",
       "  </tbody>\n",
       "</table>\n",
       "</div>"
      ],
      "text/plain": [
       "                                                     mapping: 20.0-180.0 U/L  \\\n",
       "0  Abnormal circulating creatine kinase concentration (HP:0040081): excluded   \n",
       "1  Elevated circulating creatine kinase concentration (HP:0003236): observed   \n",
       "\n",
       "  count  \n",
       "0     1  \n",
       "1     5  "
      ]
     },
     "execution_count": 16,
     "metadata": {},
     "output_type": "execute_result"
    }
   ],
   "source": [
    "#Elevated circulating creatine kinase concentration HP:0003236\n",
    "# Values were'1501' '9065' '477''542' '3797'\n",
    "\n",
    "cpk = Thresholder.creatine_kinase_blood(unit=\"U/L\", high_thresh=180, low_thresh=20)\n",
    "cpk_Mapper = ThresholdedColumnMapper(column_name=\"CPK (reference 20-180 U/L)\", \n",
    "                                    thresholder=cpk)\n",
    "column_mapper_list.append(cpk_Mapper)\n",
    "cpk_Mapper.preview_column(dft)"
   ]
  },
  {
   "cell_type": "code",
   "execution_count": 17,
   "id": "6381213b-13b3-4844-affb-0e5d0a63c892",
   "metadata": {},
   "outputs": [
    {
     "data": {
      "text/html": [
       "<div>\n",
       "<style scoped>\n",
       "    .dataframe tbody tr th:only-of-type {\n",
       "        vertical-align: middle;\n",
       "    }\n",
       "\n",
       "    .dataframe tbody tr th {\n",
       "        vertical-align: top;\n",
       "    }\n",
       "\n",
       "    .dataframe thead th {\n",
       "        text-align: right;\n",
       "    }\n",
       "</style>\n",
       "<table border=\"1\" class=\"dataframe\">\n",
       "  <thead>\n",
       "    <tr style=\"text-align: right;\">\n",
       "      <th></th>\n",
       "      <th>mapping: 0.0-14.0 ng/L</th>\n",
       "      <th>count</th>\n",
       "    </tr>\n",
       "  </thead>\n",
       "  <tbody>\n",
       "    <tr>\n",
       "      <th>0</th>\n",
       "      <td>Increased circulating troponin T concentration (HP:0410174): observed</td>\n",
       "      <td>4</td>\n",
       "    </tr>\n",
       "    <tr>\n",
       "      <th>1</th>\n",
       "      <td>Increased circulating troponin T concentration (HP:0410174): not measured</td>\n",
       "      <td>2</td>\n",
       "    </tr>\n",
       "  </tbody>\n",
       "</table>\n",
       "</div>"
      ],
      "text/plain": [
       "                                                      mapping: 0.0-14.0 ng/L  \\\n",
       "0      Increased circulating troponin T concentration (HP:0410174): observed   \n",
       "1  Increased circulating troponin T concentration (HP:0410174): not measured   \n",
       "\n",
       "  count  \n",
       "0     4  \n",
       "1     2  "
      ]
     },
     "execution_count": 17,
     "metadata": {},
     "output_type": "execute_result"
    }
   ],
   "source": [
    "#Increased circulating troponin T concentration HP:0410174\n",
    "#values were '32.06' '18.59' '64.82''23.39'\n",
    "\n",
    "troponin_t = Thresholder.troponin_t_blood(unit=\"ng/L\", low_thresh=0, high_thresh=14)\n",
    "maximal_troponin_tMapper = ThresholdedColumnMapper(column_name=\"MAXIMAL TROPONIN T (0-14NG/L)\",  thresholder=troponin_t)\n",
    "column_mapper_list.append(maximal_troponin_tMapper)\n",
    "maximal_troponin_tMapper.preview_column(dft)"
   ]
  },
  {
   "cell_type": "code",
   "execution_count": 18,
   "id": "2db44e7f-4dbc-4a1d-96e8-a368e219f756",
   "metadata": {},
   "outputs": [
    {
     "data": {
      "text/html": [
       "<div>\n",
       "<style scoped>\n",
       "    .dataframe tbody tr th:only-of-type {\n",
       "        vertical-align: middle;\n",
       "    }\n",
       "\n",
       "    .dataframe tbody tr th {\n",
       "        vertical-align: top;\n",
       "    }\n",
       "\n",
       "    .dataframe thead th {\n",
       "        text-align: right;\n",
       "    }\n",
       "</style>\n",
       "<table border=\"1\" class=\"dataframe\">\n",
       "  <thead>\n",
       "    <tr style=\"text-align: right;\">\n",
       "      <th></th>\n",
       "      <th>mapping: 0.0-35.0 U/L</th>\n",
       "      <th>count</th>\n",
       "    </tr>\n",
       "  </thead>\n",
       "  <tbody>\n",
       "    <tr>\n",
       "      <th>0</th>\n",
       "      <td>Elevated circulating aspartate aminotransferase concentration (HP:0031956): excluded</td>\n",
       "      <td>2</td>\n",
       "    </tr>\n",
       "    <tr>\n",
       "      <th>1</th>\n",
       "      <td>Elevated circulating aspartate aminotransferase concentration (HP:0031956): observed</td>\n",
       "      <td>4</td>\n",
       "    </tr>\n",
       "  </tbody>\n",
       "</table>\n",
       "</div>"
      ],
      "text/plain": [
       "                                                                  mapping: 0.0-35.0 U/L  \\\n",
       "0  Elevated circulating aspartate aminotransferase concentration (HP:0031956): excluded   \n",
       "1  Elevated circulating aspartate aminotransferase concentration (HP:0031956): observed   \n",
       "\n",
       "  count  \n",
       "0     2  \n",
       "1     4  "
      ]
     },
     "execution_count": 18,
     "metadata": {},
     "output_type": "execute_result"
    }
   ],
   "source": [
    "ast = Thresholder.AST_blood(unit=\"U/L\", low_thresh=0, high_thresh=35)\n",
    "astMapper = ThresholdedColumnMapper(column_name=\"AST (REFERENCE 0-35 U/L)\", thresholder=ast)\n",
    "column_mapper_list.append(astMapper)\n",
    "astMapper.preview_column(dft)"
   ]
  },
  {
   "cell_type": "code",
   "execution_count": 19,
   "id": "bf22e056-e015-46bf-866f-9a96bad66a28",
   "metadata": {},
   "outputs": [
    {
     "data": {
      "text/html": [
       "<div>\n",
       "<style scoped>\n",
       "    .dataframe tbody tr th:only-of-type {\n",
       "        vertical-align: middle;\n",
       "    }\n",
       "\n",
       "    .dataframe tbody tr th {\n",
       "        vertical-align: top;\n",
       "    }\n",
       "\n",
       "    .dataframe thead th {\n",
       "        text-align: right;\n",
       "    }\n",
       "</style>\n",
       "<table border=\"1\" class=\"dataframe\">\n",
       "  <thead>\n",
       "    <tr style=\"text-align: right;\">\n",
       "      <th></th>\n",
       "      <th>mapping: 0.0-45.0 U/L</th>\n",
       "      <th>count</th>\n",
       "    </tr>\n",
       "  </thead>\n",
       "  <tbody>\n",
       "    <tr>\n",
       "      <th>0</th>\n",
       "      <td>Elevated circulating alanine aminotransferase concentration (HP:0031964): excluded</td>\n",
       "      <td>3</td>\n",
       "    </tr>\n",
       "    <tr>\n",
       "      <th>1</th>\n",
       "      <td>Elevated circulating alanine aminotransferase concentration (HP:0031964): observed</td>\n",
       "      <td>3</td>\n",
       "    </tr>\n",
       "  </tbody>\n",
       "</table>\n",
       "</div>"
      ],
      "text/plain": [
       "                                                                mapping: 0.0-45.0 U/L  \\\n",
       "0  Elevated circulating alanine aminotransferase concentration (HP:0031964): excluded   \n",
       "1  Elevated circulating alanine aminotransferase concentration (HP:0031964): observed   \n",
       "\n",
       "  count  \n",
       "0     3  \n",
       "1     3  "
      ]
     },
     "execution_count": 19,
     "metadata": {},
     "output_type": "execute_result"
    }
   ],
   "source": [
    "alt = Thresholder.ALT_blood(unit=\"U/L\", low_thresh=0, high_thresh=45)\n",
    "altMapper = ThresholdedColumnMapper(column_name=\"ALT (REFERENCE 0-45 U/L)\", thresholder=alt)\n",
    "column_mapper_list.append(altMapper)\n",
    "altMapper.preview_column(dft)"
   ]
  },
  {
   "cell_type": "code",
   "execution_count": 20,
   "id": "b1767872-0ebd-43b2-8506-dfcef959ff19",
   "metadata": {},
   "outputs": [
    {
     "data": {
      "text/html": [
       "<div>\n",
       "<style scoped>\n",
       "    .dataframe tbody tr th:only-of-type {\n",
       "        vertical-align: middle;\n",
       "    }\n",
       "\n",
       "    .dataframe tbody tr th {\n",
       "        vertical-align: top;\n",
       "    }\n",
       "\n",
       "    .dataframe thead th {\n",
       "        text-align: right;\n",
       "    }\n",
       "</style>\n",
       "<table border=\"1\" class=\"dataframe\">\n",
       "  <thead>\n",
       "    <tr style=\"text-align: right;\">\n",
       "      <th></th>\n",
       "      <th>mapping: 30.0-120.0 U/L</th>\n",
       "      <th>count</th>\n",
       "    </tr>\n",
       "  </thead>\n",
       "  <tbody>\n",
       "    <tr>\n",
       "      <th>0</th>\n",
       "      <td>Elevated circulating alkaline phosphatase concentration (HP:0003155): observed</td>\n",
       "      <td>1</td>\n",
       "    </tr>\n",
       "    <tr>\n",
       "      <th>1</th>\n",
       "      <td>Abnormality of alkaline phosphatase level (HP:0004379): excluded</td>\n",
       "      <td>5</td>\n",
       "    </tr>\n",
       "  </tbody>\n",
       "</table>\n",
       "</div>"
      ],
      "text/plain": [
       "                                                          mapping: 30.0-120.0 U/L  \\\n",
       "0  Elevated circulating alkaline phosphatase concentration (HP:0003155): observed   \n",
       "1                Abnormality of alkaline phosphatase level (HP:0004379): excluded   \n",
       "\n",
       "  count  \n",
       "0     1  \n",
       "1     5  "
      ]
     },
     "execution_count": 20,
     "metadata": {},
     "output_type": "execute_result"
    }
   ],
   "source": [
    "#Elevated circulating alkaline phosphatase concentration\n",
    "ap = Thresholder.alkaline_phophatase_blood(unit=\"U/L\", low_thresh=30, high_thresh=120)\n",
    "apMapper = ThresholdedColumnMapper(column_name=\"ALKALINE PHOSPHATASE (REFERENCE 30-120 U/L)\", thresholder=ap)\n",
    "column_mapper_list.append(apMapper)\n",
    "apMapper.preview_column(dft)"
   ]
  },
  {
   "cell_type": "code",
   "execution_count": 21,
   "id": "e11f8111-130f-424d-be84-27e5582f02f6",
   "metadata": {},
   "outputs": [
    {
     "data": {
      "text/html": [
       "<div>\n",
       "<style scoped>\n",
       "    .dataframe tbody tr th:only-of-type {\n",
       "        vertical-align: middle;\n",
       "    }\n",
       "\n",
       "    .dataframe tbody tr th {\n",
       "        vertical-align: top;\n",
       "    }\n",
       "\n",
       "    .dataframe thead th {\n",
       "        text-align: right;\n",
       "    }\n",
       "</style>\n",
       "<table border=\"1\" class=\"dataframe\">\n",
       "  <thead>\n",
       "    <tr style=\"text-align: right;\">\n",
       "      <th></th>\n",
       "      <th>mapping: None-200.0 mg/dl</th>\n",
       "      <th>count</th>\n",
       "    </tr>\n",
       "  </thead>\n",
       "  <tbody>\n",
       "    <tr>\n",
       "      <th>0</th>\n",
       "      <td>Hypercholesterolemia (HP:0003124): not measured</td>\n",
       "      <td>6</td>\n",
       "    </tr>\n",
       "  </tbody>\n",
       "</table>\n",
       "</div>"
      ],
      "text/plain": [
       "                         mapping: None-200.0 mg/dl count\n",
       "0  Hypercholesterolemia (HP:0003124): not measured     6"
      ]
     },
     "execution_count": 21,
     "metadata": {},
     "output_type": "execute_result"
    }
   ],
   "source": [
    "cholesterol = Thresholder.total_cholesterol_blood(unit=\"mg/dl\", high_thresh=200)\n",
    "total_cholesterolMapper = ThresholdedColumnMapper(column_name=\"TOTAL CHOLESTEROL (RECOMMENDED <200 MG/DL)\", thresholder=cholesterol)\n",
    "column_mapper_list.append(total_cholesterolMapper)\n",
    "total_cholesterolMapper.preview_column(dft)"
   ]
  },
  {
   "cell_type": "code",
   "execution_count": 22,
   "id": "8ef40faa-71d5-477c-b72b-90af7c56902b",
   "metadata": {},
   "outputs": [
    {
     "data": {
      "text/plain": [
       "V:2     146\n",
       "V:5     159\n",
       "V:8     128\n",
       "V:9     136\n",
       "V:12    171\n",
       "V:13    128\n",
       "Name: TOTAL CHOLESTEROL (RECOMMENDED <200 MG/DL), dtype: object"
      ]
     },
     "execution_count": 22,
     "metadata": {},
     "output_type": "execute_result"
    }
   ],
   "source": [
    "dft[\"TOTAL CHOLESTEROL (RECOMMENDED <200 MG/DL)\"]"
   ]
  },
  {
   "cell_type": "markdown",
   "id": "3f5da1d3-2063-4b2b-ac53-d4c307061d3b",
   "metadata": {},
   "source": [
    "# Variant\n",
    "NM_000859.3:c.2465G>A; p.(G822D) in HMGCR"
   ]
  },
  {
   "cell_type": "code",
   "execution_count": 23,
   "id": "39922450-5902-4ce9-9a16-4a4b2c520659",
   "metadata": {},
   "outputs": [
    {
     "name": "stdout",
     "output_type": "stream",
     "text": [
      "https://rest.variantvalidator.org/VariantValidator/variantvalidator/hg38/NM_000859.3%3Ac.2465G>A/NM_000859.3?content-type=application%2Fjson\n"
     ]
    }
   ],
   "source": [
    "HMGCR_transcript = \"NM_000859.3\"\n",
    "vvalidator = VariantValidator(genome_build=\"hg38\", transcript=HMGCR_transcript)\n",
    "var = vvalidator.encode_hgvs(\"c.2465G>A\")\n",
    "var.set_homozygous()"
   ]
  },
  {
   "cell_type": "code",
   "execution_count": 24,
   "id": "6845eb45-35b4-41cb-9584-273d84fc97de",
   "metadata": {},
   "outputs": [],
   "source": [
    "ageMapper = AgeColumnMapper.iso8601(column_name=\"AGE AT ONSET\")\n",
    "#ageMapper.preview_column(dft)\n",
    "ageExamMapper = AgeColumnMapper.by_year(column_name=\"AGE AT EXAMINATION\")\n",
    "#ageExamMapper.preview_column(dft)"
   ]
  },
  {
   "cell_type": "code",
   "execution_count": 25,
   "id": "d61867d9-5207-49e4-8b5f-a7071af1edc9",
   "metadata": {},
   "outputs": [],
   "source": [
    "sexMapper = SexColumnMapper(column_name='SEX', male_symbol=\"M\", female_symbol=\"F\")\n",
    "#sexMapper.preview_column(dft)"
   ]
  },
  {
   "cell_type": "code",
   "execution_count": 26,
   "id": "32696e29-333f-4c69-8eaf-2b6a3d05d5ef",
   "metadata": {},
   "outputs": [],
   "source": [
    "encoder = CohortEncoder(df=dft, \n",
    "                        hpo_cr=hpo_cr,\n",
    "                        column_mapper_list=column_mapper_list, \n",
    "                        individual_column_name=\"individual_id\",\n",
    "                        sexmapper=sexMapper,\n",
    "                        age_of_onset_mapper=ageMapper,\n",
    "                        age_at_last_encounter_mapper=ageExamMapper,\n",
    "                        metadata=metadata)\n",
    "LGMDR28 = Disease(disease_id='OMIM:620375', disease_label='Muscular dystrophy, limb-girdle, autosomal recessive 28')\n",
    "encoder.set_disease(LGMDR28)"
   ]
  },
  {
   "cell_type": "code",
   "execution_count": 27,
   "id": "3167475f-4f0d-4a0b-92bf-d9c6dec675df",
   "metadata": {},
   "outputs": [],
   "source": [
    "individuals = encoder.get_individuals()\n",
    "for i in individuals:\n",
    "    i.add_variant(var)"
   ]
  },
  {
   "cell_type": "code",
   "execution_count": 28,
   "id": "a8c4dc44-3b56-4fae-b16e-6a03084421d7",
   "metadata": {},
   "outputs": [
    {
     "data": {
      "text/html": [
       "<h2>Cohort validation</h2>\n",
       "<p>Errors found with 6 of 6 phenopackets.</p>\n",
       "<table style=\"border: 2px solid black; align: \"left\">\n",
       "<caption>Error counts</caption>\n",
       "<tr><th style=\"text-align: left;font-weight: bold;\">Level</th><th style=\"text-align: left;font-weight: bold;\">Error category</th><th style=\"text-align: left;font-weight: bold;\">Count</th></tr>\n",
       "<tr><td style=\"text-align: left;\">INFORMATION</td><td style=\"text-align: left;\">NOT_MEASURED</td><td style=\"text-align: left;\">10</td></tr>\n",
       "</table>\n",
       "<p>A total of 16 issues were fixed and no individual was removed from the cohort.</p>"
      ],
      "text/plain": [
       "<IPython.core.display.HTML object>"
      ]
     },
     "metadata": {},
     "output_type": "display_data"
    }
   ],
   "source": [
    "cvalidator = CohortValidator(cohort=individuals, ontology=hpo_ontology, min_hpo=1, allelic_requirement=AllelicRequirement.BI_ALLELIC)\n",
    "qc = QcVisualizer(cohort_validator=cvalidator)\n",
    "display(HTML(qc.to_summary_html()))"
   ]
  },
  {
   "cell_type": "code",
   "execution_count": 29,
   "id": "bdf85c06-1c75-4e5e-8481-bd9afd6572b5",
   "metadata": {},
   "outputs": [
    {
     "data": {
      "text/html": [
       "<table style=\"border: 2px solid black; align: \"left\">\n",
       "<caption>6 phenopackets - PMID:36745799 (n=6)</caption>\n",
       "<tr><th style=\"text-align: left;font-weight: bold;\">Individual</th><th style=\"text-align: left;font-weight: bold;\">Disease</th><th style=\"text-align: left;font-weight: bold;\">Genotype</th><th style=\"text-align: left;font-weight: bold;\">Phenotypic features</th></tr>\n",
       "<tr><td style=\"text-align: left;\">V:2 (FEMALE; P49Y)</td><td style=\"text-align: left;\">Muscular dystrophy, limb-girdle, autosomal recessive 28 (OMIM:620375)</td><td style=\"text-align: left;\">NM_000859.3:c.2465G>A (homozygous)</td><td style=\"text-align: left;\">Proximal muscle weakness in upper limbs (HP:0008997); Proximal muscle weakness in lower limbs (HP:0008994); Upper limb amyotrophy (HP:0009129); Lower limb amyotrophy (HP:0007210); Areflexia (HP:0001284); Exercise-induced myalgia (HP:0003738); Respiratory failure requiring assisted ventilation (HP:0004887); Increased circulating troponin T concentration (HP:0410174); Elevated circulating alkaline phosphatase concentration (HP:0003155); excluded: Loss of ambulation (HP:0002505); excluded: Elevated circulating alanine aminotransferase concentration (HP:0031964); excluded: Abnormal circulating creatine kinase concentration (HP:0040081); excluded: Brain imaging abnormality (HP:0410263); excluded: Elevated circulating aspartate aminotransferase concentration (HP:0031956); excluded: Left ventricular diastolic dysfunction (HP:0025168); excluded: Dysphagia (HP:0002015)</td></tr>\n",
       "<tr><td style=\"text-align: left;\">V:5 (MALE; P58Y)</td><td style=\"text-align: left;\">Muscular dystrophy, limb-girdle, autosomal recessive 28 (OMIM:620375)</td><td style=\"text-align: left;\">NM_000859.3:c.2465G>A (homozygous)</td><td style=\"text-align: left;\">Respiratory distress (HP:0002098); Proximal muscle weakness in upper limbs (HP:0008997); Proximal muscle weakness in lower limbs (HP:0008994); Upper limb amyotrophy (HP:0009129); Lower limb amyotrophy (HP:0007210); Hyporeflexia (HP:0001265); Exercise-induced myalgia (HP:0003738); Respiratory insufficiency (HP:0002093); Left ventricular diastolic dysfunction (HP:0025168); Elevated circulating creatine kinase concentration (HP:0003236); Increased circulating troponin T concentration (HP:0410174); Elevated circulating aspartate aminotransferase concentration (HP:0031956); Elevated circulating alanine aminotransferase concentration (HP:0031964); excluded: Loss of ambulation (HP:0002505); excluded: Brain imaging abnormality (HP:0410263); excluded: Abnormality of alkaline phosphatase level (HP:0004379); excluded: Dysphagia (HP:0002015)</td></tr>\n",
       "<tr><td style=\"text-align: left;\">V:8 (MALE; P37Y)</td><td style=\"text-align: left;\">Muscular dystrophy, limb-girdle, autosomal recessive 28 (OMIM:620375)</td><td style=\"text-align: left;\">NM_000859.3:c.2465G>A (homozygous)</td><td style=\"text-align: left;\">Exercise-induced myalgia (HP:0003738); Loss of ambulation (HP:0002505); Elevated circulating creatine kinase concentration (HP:0003236); Elevated circulating aspartate aminotransferase concentration (HP:0031956); Elevated circulating alanine aminotransferase concentration (HP:0031964); excluded: Respiratory distress (HP:0002098); excluded: Proximal muscle weakness in upper limbs (HP:0008997); excluded: Left ventricular diastolic dysfunction (HP:0025168); excluded: Proximal muscle weakness in lower limbs (HP:0008994); excluded: Abnormality of alkaline phosphatase level (HP:0004379); excluded: Respiratory insufficiency (HP:0002093); excluded: Dysphagia (HP:0002015)</td></tr>\n",
       "<tr><td style=\"text-align: left;\">V:9 (MALE; P42Y)</td><td style=\"text-align: left;\">Muscular dystrophy, limb-girdle, autosomal recessive 28 (OMIM:620375)</td><td style=\"text-align: left;\">NM_000859.3:c.2465G>A (homozygous)</td><td style=\"text-align: left;\">Proximal muscle weakness in lower limbs (HP:0008994); Exercise-induced myalgia (HP:0003738); Loss of ambulation (HP:0002505); Elevated circulating creatine kinase concentration (HP:0003236); Increased circulating troponin T concentration (HP:0410174); excluded: Respiratory distress (HP:0002098); excluded: Elevated circulating alanine aminotransferase concentration (HP:0031964); excluded: Brain imaging abnormality (HP:0410263); excluded: Elevated circulating aspartate aminotransferase concentration (HP:0031956); excluded: Proximal muscle weakness in upper limbs (HP:0008997); excluded: Left ventricular diastolic dysfunction (HP:0025168); excluded: Abnormality of alkaline phosphatase level (HP:0004379); excluded: Respiratory insufficiency (HP:0002093); excluded: Dysphagia (HP:0002015)</td></tr>\n",
       "<tr><td style=\"text-align: left;\">V:12 (FEMALE; P51Y)</td><td style=\"text-align: left;\">Muscular dystrophy, limb-girdle, autosomal recessive 28 (OMIM:620375)</td><td style=\"text-align: left;\">NM_000859.3:c.2465G>A (homozygous)</td><td style=\"text-align: left;\">Respiratory distress (HP:0002098); Proximal muscle weakness in upper limbs (HP:0008997); Proximal muscle weakness in lower limbs (HP:0008994); Upper limb amyotrophy (HP:0009129); Lower limb amyotrophy (HP:0007210); Hyporeflexia (HP:0001265); Exercise-induced myalgia (HP:0003738); Respiratory insufficiency (HP:0002093); Elevated circulating creatine kinase concentration (HP:0003236); Increased circulating troponin T concentration (HP:0410174); Elevated circulating aspartate aminotransferase concentration (HP:0031956); excluded: Loss of ambulation (HP:0002505); excluded: Elevated circulating alanine aminotransferase concentration (HP:0031964); excluded: Brain imaging abnormality (HP:0410263); excluded: Abnormality of alkaline phosphatase level (HP:0004379); excluded: Dysphagia (HP:0002015)</td></tr>\n",
       "<tr><td style=\"text-align: left;\">V:13 (MALE; P41Y)</td><td style=\"text-align: left;\">Muscular dystrophy, limb-girdle, autosomal recessive 28 (OMIM:620375)</td><td style=\"text-align: left;\">NM_000859.3:c.2465G>A (homozygous)</td><td style=\"text-align: left;\">Proximal muscle weakness in upper limbs (HP:0008997); Proximal muscle weakness in lower limbs (HP:0008994); Upper limb amyotrophy (HP:0009129); Hyporeflexia (HP:0001265); Exercise-induced myalgia (HP:0003738); Loss of ambulation (HP:0002505); Elevated circulating creatine kinase concentration (HP:0003236); Elevated circulating aspartate aminotransferase concentration (HP:0031956); Elevated circulating alanine aminotransferase concentration (HP:0031964); excluded: Respiratory distress (HP:0002098); excluded: Brain imaging abnormality (HP:0410263); excluded: Abnormality of alkaline phosphatase level (HP:0004379); excluded: Respiratory insufficiency (HP:0002093); excluded: Dysphagia (HP:0002015)</td></tr>\n",
       "</table>"
      ],
      "text/plain": [
       "<IPython.core.display.HTML object>"
      ]
     },
     "metadata": {},
     "output_type": "display_data"
    }
   ],
   "source": [
    "individuals = cvalidator.get_error_free_individual_list()\n",
    "table = PhenopacketTable(individual_list=individuals, metadata=metadata)\n",
    "display(HTML(table.to_html()))"
   ]
  },
  {
   "cell_type": "code",
   "execution_count": 30,
   "id": "d2b040cd-49b5-4fc1-87d0-35ab23b49c3b",
   "metadata": {},
   "outputs": [
    {
     "name": "stdout",
     "output_type": "stream",
     "text": [
      "We output 6 GA4GH phenopackets to the directory phenopackets\n"
     ]
    }
   ],
   "source": [
    "Individual.output_individuals_as_phenopackets(individuals, metadata)"
   ]
  },
  {
   "cell_type": "code",
   "execution_count": null,
   "id": "5e161f3b-7dae-4dae-86ce-7a61a5350a8c",
   "metadata": {},
   "outputs": [],
   "source": []
  }
 ],
 "metadata": {
  "kernelspec": {
   "display_name": "ps24venv",
   "language": "python",
   "name": "ps24venv"
  },
  "language_info": {
   "codemirror_mode": {
    "name": "ipython",
    "version": 3
   },
   "file_extension": ".py",
   "mimetype": "text/x-python",
   "name": "python",
   "nbconvert_exporter": "python",
   "pygments_lexer": "ipython3",
   "version": "3.9.6"
  }
 },
 "nbformat": 4,
 "nbformat_minor": 5
}
