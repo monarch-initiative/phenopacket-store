{
 "cells": [
  {
   "cell_type": "markdown",
   "id": "f5df03ac-c352-42db-80c3-42444c2a5293",
   "metadata": {},
   "source": [
    "# HMGCR, Morales-Rosado (2023)\n",
    "\n",
    "Data derived from [Morales-Rosado JA, et al. (2023) Bi-allelic variants in HMGCR cause an autosomal-recessive progressive limb-girdle muscular dystrophy. Am J Hum Genet;110(6):989-997. PMID:37167966](https://pubmed.ncbi.nlm.nih.gov/37167966/)\n",
    "\n"
   ]
  },
  {
   "cell_type": "code",
   "execution_count": 1,
   "id": "b1ff3de6",
   "metadata": {},
   "outputs": [
    {
     "name": "stdout",
     "output_type": "stream",
     "text": [
      "Using pyphetools version 0.9.64\n"
     ]
    }
   ],
   "source": [
    "import pandas as pd\n",
    "pd.set_option('display.max_colwidth', None) # show entire column contents, important!\n",
    "from IPython.display import HTML, display\n",
    "from pyphetools.creation import *\n",
    "from pyphetools.visualization import *\n",
    "from pyphetools.validation import *\n",
    "import importlib.metadata\n",
    "__version__ = importlib.metadata.version(\"pyphetools\")\n",
    "print(f\"Using pyphetools version {__version__}\")"
   ]
  },
  {
   "cell_type": "code",
   "execution_count": 2,
   "id": "e198b2a8",
   "metadata": {},
   "outputs": [
    {
     "name": "stdout",
     "output_type": "stream",
     "text": [
      "HPO version 2024-02-27\n"
     ]
    }
   ],
   "source": [
    "PMID=\"PMID:37167966\"\n",
    "title = \"Bi-allelic variants in HMGCR cause an autosomal-recessive progressive limb-girdle muscular dystrophy\"\n",
    "cite = Citation(pmid=PMID, title=title)\n",
    "parser = HpoParser(hpo_json_file=\"../hp.json\")\n",
    "hpo_cr = parser.get_hpo_concept_recognizer()\n",
    "hpo_version = parser.get_version()\n",
    "hpo_ontology = parser.get_ontology()\n",
    "metadata = MetaData(created_by=\"ORCID:0000-0002-0736-9199\", citation=cite)\n",
    "metadata.default_versions_with_hpo(version=hpo_version)\n",
    "print(f\"HPO version {hpo_version}\")"
   ]
  },
  {
   "cell_type": "code",
   "execution_count": 3,
   "id": "f072b6b1",
   "metadata": {},
   "outputs": [],
   "source": [
    "df = pd.read_excel(\"input/HMGCR_Morales_2023.xlsx\")"
   ]
  },
  {
   "cell_type": "code",
   "execution_count": 4,
   "id": "04cfb31c",
   "metadata": {},
   "outputs": [
    {
     "data": {
      "text/html": [
       "<div>\n",
       "<style scoped>\n",
       "    .dataframe tbody tr th:only-of-type {\n",
       "        vertical-align: middle;\n",
       "    }\n",
       "\n",
       "    .dataframe tbody tr th {\n",
       "        vertical-align: top;\n",
       "    }\n",
       "\n",
       "    .dataframe thead th {\n",
       "        text-align: right;\n",
       "    }\n",
       "</style>\n",
       "<table border=\"1\" class=\"dataframe\">\n",
       "  <thead>\n",
       "    <tr style=\"text-align: right;\">\n",
       "      <th>individual_id</th>\n",
       "      <th>Age (yr)</th>\n",
       "      <th>Sex</th>\n",
       "      <th>cDNA (NM_000859.2)</th>\n",
       "      <th>Protein (NP_00850.1)</th>\n",
       "      <th>Age of first elevated CK</th>\n",
       "      <th>CK values (HP:0003236)</th>\n",
       "      <th>Proximal weakness (HP:0003701)</th>\n",
       "      <th>Axial weakness (HP:0003327)</th>\n",
       "      <th>Muscle atrophy (HP:0003202)</th>\n",
       "      <th>Calf hypertrophy (HP:0008981)</th>\n",
       "      <th>...</th>\n",
       "      <th>SDH</th>\n",
       "      <th>Porin+CompII</th>\n",
       "      <th>Porin+Comp II</th>\n",
       "      <th>Porin+CompIII</th>\n",
       "      <th>Porin+CompIV-1</th>\n",
       "      <th>Porin+CompIV-1I</th>\n",
       "      <th>Porin+PDH</th>\n",
       "      <th>Porin</th>\n",
       "      <th>ETC deficiency</th>\n",
       "      <th>individual_id</th>\n",
       "    </tr>\n",
       "  </thead>\n",
       "  <tbody>\n",
       "    <tr>\n",
       "      <th>F1-II:1</th>\n",
       "      <td>35</td>\n",
       "      <td>M</td>\n",
       "      <td>c.1328G&gt;A, c.1867 G&gt;A</td>\n",
       "      <td>p.Arg443Gln, p.Asp623Asn</td>\n",
       "      <td>P6Y</td>\n",
       "      <td>1,378–4,325</td>\n",
       "      <td>+</td>\n",
       "      <td>+</td>\n",
       "      <td>+, proximal</td>\n",
       "      <td>+</td>\n",
       "      <td>...</td>\n",
       "      <td>NaN</td>\n",
       "      <td>NaN</td>\n",
       "      <td>NaN</td>\n",
       "      <td>NaN</td>\n",
       "      <td>NaN</td>\n",
       "      <td>NaN</td>\n",
       "      <td>NaN</td>\n",
       "      <td>NaN</td>\n",
       "      <td>NaN</td>\n",
       "      <td>F1-II:1</td>\n",
       "    </tr>\n",
       "    <tr>\n",
       "      <th>F1-II:2</th>\n",
       "      <td>37</td>\n",
       "      <td>M</td>\n",
       "      <td>c.1328G&gt;A, c.1867 G&gt;A</td>\n",
       "      <td>p.Arg443Gln, p.Asp623Asn</td>\n",
       "      <td>P8Y</td>\n",
       "      <td>NaN</td>\n",
       "      <td>+</td>\n",
       "      <td>+</td>\n",
       "      <td>NaN</td>\n",
       "      <td>−</td>\n",
       "      <td>...</td>\n",
       "      <td>+/-</td>\n",
       "      <td>n.r.</td>\n",
       "      <td>n.r.</td>\n",
       "      <td>n.r.</td>\n",
       "      <td>n.r.</td>\n",
       "      <td>n.r.</td>\n",
       "      <td>---</td>\n",
       "      <td>n.r.</td>\n",
       "      <td>n.r.</td>\n",
       "      <td>F1-II:2</td>\n",
       "    </tr>\n",
       "    <tr>\n",
       "      <th>F1-II:3</th>\n",
       "      <td>39</td>\n",
       "      <td>M</td>\n",
       "      <td>c.1328G&gt;A, c.1867 G&gt;A</td>\n",
       "      <td>p.Arg443Gln, p.Asp623Asn</td>\n",
       "      <td>P10Y</td>\n",
       "      <td>NaN</td>\n",
       "      <td>+</td>\n",
       "      <td>NaN</td>\n",
       "      <td>NaN</td>\n",
       "      <td>−</td>\n",
       "      <td>...</td>\n",
       "      <td>NaN</td>\n",
       "      <td>NaN</td>\n",
       "      <td>NaN</td>\n",
       "      <td>NaN</td>\n",
       "      <td>NaN</td>\n",
       "      <td>NaN</td>\n",
       "      <td>NaN</td>\n",
       "      <td>NaN</td>\n",
       "      <td>NaN</td>\n",
       "      <td>F1-II:3</td>\n",
       "    </tr>\n",
       "    <tr>\n",
       "      <th>F2-II:1</th>\n",
       "      <td>19</td>\n",
       "      <td>F</td>\n",
       "      <td>c.365+4A&gt;G, c.2375A&gt;G</td>\n",
       "      <td>?, p.Tyr792Cys</td>\n",
       "      <td>P7Y</td>\n",
       "      <td>8,500–12,600</td>\n",
       "      <td>+</td>\n",
       "      <td>−</td>\n",
       "      <td>−</td>\n",
       "      <td>−</td>\n",
       "      <td>...</td>\n",
       "      <td>n.r.</td>\n",
       "      <td>---</td>\n",
       "      <td>---</td>\n",
       "      <td>---</td>\n",
       "      <td>---</td>\n",
       "      <td>---</td>\n",
       "      <td>n.r.</td>\n",
       "      <td>+/-</td>\n",
       "      <td>+/-</td>\n",
       "      <td>F2-II:1</td>\n",
       "    </tr>\n",
       "    <tr>\n",
       "      <th>F2-II:2</th>\n",
       "      <td>22</td>\n",
       "      <td>M</td>\n",
       "      <td>c.365+4A&gt;G, c.2375A&gt;G</td>\n",
       "      <td>?, p.Tyr792Cys</td>\n",
       "      <td>P13Y</td>\n",
       "      <td>2,000–3,000</td>\n",
       "      <td>+</td>\n",
       "      <td>+</td>\n",
       "      <td>+, diffuse</td>\n",
       "      <td>−</td>\n",
       "      <td>...</td>\n",
       "      <td>+/-</td>\n",
       "      <td>n.r.</td>\n",
       "      <td>n.r.</td>\n",
       "      <td>n.r.</td>\n",
       "      <td>n.r.</td>\n",
       "      <td>n.r.</td>\n",
       "      <td>n.r.</td>\n",
       "      <td>n.r.</td>\n",
       "      <td>+/-</td>\n",
       "      <td>F2-II:2</td>\n",
       "    </tr>\n",
       "  </tbody>\n",
       "</table>\n",
       "<p>5 rows × 72 columns</p>\n",
       "</div>"
      ],
      "text/plain": [
       "individual_id Age (yr) Sex     cDNA (NM_000859.2)      Protein (NP_00850.1)  \\\n",
       "F1-II:1             35   M  c.1328G>A, c.1867 G>A  p.Arg443Gln, p.Asp623Asn   \n",
       "F1-II:2             37   M  c.1328G>A, c.1867 G>A  p.Arg443Gln, p.Asp623Asn   \n",
       "F1-II:3             39   M  c.1328G>A, c.1867 G>A  p.Arg443Gln, p.Asp623Asn   \n",
       "F2-II:1             19   F  c.365+4A>G, c.2375A>G            ?, p.Tyr792Cys   \n",
       "F2-II:2             22   M  c.365+4A>G, c.2375A>G            ?, p.Tyr792Cys   \n",
       "\n",
       "individual_id Age of first elevated CK CK values (HP:0003236)  \\\n",
       "F1-II:1                            P6Y            1,378–4,325   \n",
       "F1-II:2                            P8Y                    NaN   \n",
       "F1-II:3                           P10Y                    NaN   \n",
       "F2-II:1                            P7Y           8,500–12,600   \n",
       "F2-II:2                           P13Y            2,000–3,000   \n",
       "\n",
       "individual_id Proximal weakness (HP:0003701) Axial weakness (HP:0003327)  \\\n",
       "F1-II:1                                    +                           +   \n",
       "F1-II:2                                    +                           +   \n",
       "F1-II:3                                    +                         NaN   \n",
       "F2-II:1                                    +                           −   \n",
       "F2-II:2                                    +                           +   \n",
       "\n",
       "individual_id Muscle atrophy (HP:0003202) Calf hypertrophy (HP:0008981)  ...  \\\n",
       "F1-II:1                       +, proximal                             +  ...   \n",
       "F1-II:2                               NaN                             −  ...   \n",
       "F1-II:3                               NaN                             −  ...   \n",
       "F2-II:1                                 −                             −  ...   \n",
       "F2-II:2                        +, diffuse                             −  ...   \n",
       "\n",
       "individual_id   SDH Porin+CompII Porin+Comp II Porin+CompIII Porin+CompIV-1  \\\n",
       "F1-II:1         NaN          NaN           NaN           NaN            NaN   \n",
       "F1-II:2         +/-         n.r.          n.r.          n.r.           n.r.   \n",
       "F1-II:3         NaN          NaN           NaN           NaN            NaN   \n",
       "F2-II:1        n.r.          ---           ---           ---            ---   \n",
       "F2-II:2         +/-         n.r.          n.r.          n.r.           n.r.   \n",
       "\n",
       "individual_id Porin+CompIV-1I Porin+PDH Porin ETC deficiency individual_id  \n",
       "F1-II:1                   NaN       NaN   NaN            NaN       F1-II:1  \n",
       "F1-II:2                  n.r.       ---  n.r.           n.r.       F1-II:2  \n",
       "F1-II:3                   NaN       NaN   NaN            NaN       F1-II:3  \n",
       "F2-II:1                   ---      n.r.   +/-            +/-       F2-II:1  \n",
       "F2-II:2                  n.r.      n.r.  n.r.            +/-       F2-II:2  \n",
       "\n",
       "[5 rows x 72 columns]"
      ]
     },
     "execution_count": 4,
     "metadata": {},
     "output_type": "execute_result"
    }
   ],
   "source": [
    "dft = df.transpose()\n",
    "dft.columns = dft.iloc[0]\n",
    "dft.drop(dft.index[0], inplace=True)\n",
    "dft['individual_id'] = dft.index  # Set the new column 'patient_id' to be identical to the contents of the index\n",
    "dft.head() # check the transposed table"
   ]
  },
  {
   "cell_type": "code",
   "execution_count": 5,
   "id": "8e6228b5",
   "metadata": {},
   "outputs": [],
   "source": [
    "# add each allele to its own column\n",
    "def get_allele(cell_contents, n):\n",
    "    fields = cell_contents.split(\",\")\n",
    "    if len(fields) == 1:\n",
    "        return fields[0].strip()\n",
    "    return fields[n].strip()\n",
    "dft[\"allele_1\"] = dft[\"cDNA (NM_000859.2)\"].apply(lambda x: get_allele(x,0))\n",
    "dft[\"allele_2\"] = dft[\"cDNA (NM_000859.2)\"].apply(lambda x: get_allele(x,1))\n",
    "#dft.head()"
   ]
  },
  {
   "cell_type": "code",
   "execution_count": 6,
   "id": "aa0de8db",
   "metadata": {},
   "outputs": [
    {
     "data": {
      "text/html": [
       "<table style=\"border: 2px solid black;\">\n",
       "\n",
       "<tr>\n",
       "            <th>Result</th>\n",
       "            <th>Columns</th>\n",
       "        </tr>\n",
       "        \n",
       "<tr><td>Mapped</td><td>CK values (HP:0003236); Proximal weakness (HP:0003701); Axial weakness (HP:0003327); Muscle atrophy (HP:0003202); Calf hypertrophy (HP:0008981); Myalgias (HP:0003326); Reduced deep tendon reflexes (HP:0001315); Gait disturbance (HP:0001288); Loss of ambulation (HP:0002505); Reduced respiratory function (HP:0002747); Cardiac abnormalities (HP:0001627)</td></tr>\n",
       "<tr><td>Unmapped</td><td><q>Age (yr)</q>; <q>Sex</q>; <q>cDNA (NM_000859.2)</q>; <q>Protein (NP_00850.1)</q>; <q>Age of first elevated CK</q>; <q>Disease progression:</q>; <q>Myofiber granular inclusions (1 per fascile)</q>; <q>Degenerating fibers</q>; <q>Rare split fibers</q>; <q>Myofibers with centralized/internalized nuclei</q>; <q>Inflammation</q>; <q>Myonecrosis</q>; <q>Endomysial connective tissue</q>; <q>Fiber size variation</q>; <q>Hypertrophy</q>; <q>Fiber atrophy</q>; <q>Target or targetoid fibers</q>; <q>Ragged red fibers</q>; <q>Rimmed vaculoes</q>; <q>Central core</q>; <q>Whorled fibers</q>; <q>Myelin Bodies </q>; <q>Membrane turnover</q>; <q>Tubulofilamentous bodies</q>; <q>Mitochondrial features</q>; <q>Glycogen granules</q>; <q>Lipid droplets</q>; <q>Additional Information </q>; <q>Myosin ATPase (ph 9.4, 4.6 and 4.3)</q>; <q>Type 1:2 Abundance of ratio</q>; <q>PAS</q>; <q>NSE (non-specific esterase)</q>; <q>Myophosphorylase</q>; <q>Acid phosphatase</q>; <q>Collagen VI</q>; <q>Desmin</q>; <q>Dystrophin</q>; <q>Dysferlin</q>; <q>Calpain 3</q>; <q>Caveolin 3</q>; <q>Merosin (laminin alpha 2)</q>; <q>Alpha-dystroglycan</q>; <q>Beta dystroglycan</q>; <q>Beta sarcoglycan</q>; <q>Delta sarcoglycan</q>; <q>Gamma-sarcoglycan</q>; <q>Adhalin</q>; <q>Emerin</q>; <q>Utrophin</q>; <q>NADH</q>; <q>COX</q>; <q>SDH</q>; <q>Porin+CompII</q>; <q>Porin+Comp II</q>; <q>Porin+CompIII</q>; <q>Porin+CompIV-1</q>; <q>Porin+CompIV-1I</q>; <q>Porin+PDH</q>; <q>Porin</q>; <q>ETC deficiency</q>; <q>individual_id</q>; <q>allele_1</q>; <q>allele_2</q></td></tr>\n",
       "</table>\n"
      ],
      "text/plain": [
       "<IPython.core.display.HTML object>"
      ]
     },
     "metadata": {},
     "output_type": "display_data"
    }
   ],
   "source": [
    "generator = SimpleColumnMapperGenerator(df=dft, observed=\"+\", excluded=\"-\", hpo_cr=hpo_cr)\n",
    "column_mapper_list = generator.try_mapping_columns()\n",
    "display(HTML(generator.to_html()))"
   ]
  },
  {
   "cell_type": "code",
   "execution_count": 7,
   "id": "c48d84fb",
   "metadata": {},
   "outputs": [],
   "source": [
    "ageMapper = AgeColumnMapper.by_year(column_name=\"Age (yr)\")\n",
    "sexMapper = SexColumnMapper(column_name=\"Sex\", male_symbol=\"M\", female_symbol=\"F\")"
   ]
  },
  {
   "cell_type": "code",
   "execution_count": 8,
   "id": "0c0cede7",
   "metadata": {},
   "outputs": [
    {
     "data": {
      "text/html": [
       "<div>\n",
       "<style scoped>\n",
       "    .dataframe tbody tr th:only-of-type {\n",
       "        vertical-align: middle;\n",
       "    }\n",
       "\n",
       "    .dataframe tbody tr th {\n",
       "        vertical-align: top;\n",
       "    }\n",
       "\n",
       "    .dataframe thead th {\n",
       "        text-align: right;\n",
       "    }\n",
       "</style>\n",
       "<table border=\"1\" class=\"dataframe\">\n",
       "  <thead>\n",
       "    <tr style=\"text-align: right;\">\n",
       "      <th></th>\n",
       "      <th>mapping</th>\n",
       "      <th>count</th>\n",
       "    </tr>\n",
       "  </thead>\n",
       "  <tbody>\n",
       "    <tr>\n",
       "      <th>0</th>\n",
       "      <td>original value: \"nan\" -&gt; HP: Centrally nucleated skeletal muscle fibers (HP:0003687) (not measured)</td>\n",
       "      <td>4</td>\n",
       "    </tr>\n",
       "    <tr>\n",
       "      <th>1</th>\n",
       "      <td>original value: \"+++\" -&gt; HP: Centrally nucleated skeletal muscle fibers (HP:0003687) (observed)</td>\n",
       "      <td>3</td>\n",
       "    </tr>\n",
       "    <tr>\n",
       "      <th>2</th>\n",
       "      <td>original value: \"n.r.\" -&gt; HP: Centrally nucleated skeletal muscle fibers (HP:0003687) (not measured)</td>\n",
       "      <td>1</td>\n",
       "    </tr>\n",
       "    <tr>\n",
       "      <th>3</th>\n",
       "      <td>original value: \"+/-\" -&gt; HP: Centrally nucleated skeletal muscle fibers (HP:0003687) (not measured)</td>\n",
       "      <td>1</td>\n",
       "    </tr>\n",
       "  </tbody>\n",
       "</table>\n",
       "</div>"
      ],
      "text/plain": [
       "                                                                                                mapping  \\\n",
       "0   original value: \"nan\" -> HP: Centrally nucleated skeletal muscle fibers (HP:0003687) (not measured)   \n",
       "1       original value: \"+++\" -> HP: Centrally nucleated skeletal muscle fibers (HP:0003687) (observed)   \n",
       "2  original value: \"n.r.\" -> HP: Centrally nucleated skeletal muscle fibers (HP:0003687) (not measured)   \n",
       "3   original value: \"+/-\" -> HP: Centrally nucleated skeletal muscle fibers (HP:0003687) (not measured)   \n",
       "\n",
       "  count  \n",
       "0     4  \n",
       "1     3  \n",
       "2     1  \n",
       "3     1  "
      ]
     },
     "execution_count": 8,
     "metadata": {},
     "output_type": "execute_result"
    }
   ],
   "source": [
    "centralized_internalized_nuclei_dMapper = SimpleColumnMapper(column_name='Myofibers with centralized/internalized nuclei',\n",
    "                                                            hpo_id=\"HP:0003687\", hpo_label=\"Centrally nucleated skeletal muscle fibers\",\n",
    "                                                            observed=\"+++\", excluded=\"-\")\n",
    "column_mapper_list.append(centralized_internalized_nuclei_dMapper)\n",
    "centralized_internalized_nuclei_dMapper.preview_column(dft)"
   ]
  },
  {
   "cell_type": "code",
   "execution_count": 9,
   "id": "38739367",
   "metadata": {},
   "outputs": [
    {
     "data": {
      "text/html": [
       "<div>\n",
       "<style scoped>\n",
       "    .dataframe tbody tr th:only-of-type {\n",
       "        vertical-align: middle;\n",
       "    }\n",
       "\n",
       "    .dataframe tbody tr th {\n",
       "        vertical-align: top;\n",
       "    }\n",
       "\n",
       "    .dataframe thead th {\n",
       "        text-align: right;\n",
       "    }\n",
       "</style>\n",
       "<table border=\"1\" class=\"dataframe\">\n",
       "  <thead>\n",
       "    <tr style=\"text-align: right;\">\n",
       "      <th></th>\n",
       "      <th>mapping</th>\n",
       "      <th>count</th>\n",
       "    </tr>\n",
       "  </thead>\n",
       "  <tbody>\n",
       "    <tr>\n",
       "      <th>0</th>\n",
       "      <td>original value: \"nan\" -&gt; HP: Increased endomysial connective tissue (HP:0100297) (not measured)</td>\n",
       "      <td>4</td>\n",
       "    </tr>\n",
       "    <tr>\n",
       "      <th>1</th>\n",
       "      <td>original value: \"+/-\" -&gt; HP: Increased endomysial connective tissue (HP:0100297) (not measured)</td>\n",
       "      <td>2</td>\n",
       "    </tr>\n",
       "    <tr>\n",
       "      <th>2</th>\n",
       "      <td>original value: \"+++\" -&gt; HP: Increased endomysial connective tissue (HP:0100297) (observed)</td>\n",
       "      <td>2</td>\n",
       "    </tr>\n",
       "    <tr>\n",
       "      <th>3</th>\n",
       "      <td>original value: \"-\" -&gt; HP: Increased endomysial connective tissue (HP:0100297) (excluded)</td>\n",
       "      <td>1</td>\n",
       "    </tr>\n",
       "  </tbody>\n",
       "</table>\n",
       "</div>"
      ],
      "text/plain": [
       "                                                                                           mapping  \\\n",
       "0  original value: \"nan\" -> HP: Increased endomysial connective tissue (HP:0100297) (not measured)   \n",
       "1  original value: \"+/-\" -> HP: Increased endomysial connective tissue (HP:0100297) (not measured)   \n",
       "2      original value: \"+++\" -> HP: Increased endomysial connective tissue (HP:0100297) (observed)   \n",
       "3        original value: \"-\" -> HP: Increased endomysial connective tissue (HP:0100297) (excluded)   \n",
       "\n",
       "  count  \n",
       "0     4  \n",
       "1     2  \n",
       "2     2  \n",
       "3     1  "
      ]
     },
     "execution_count": 9,
     "metadata": {},
     "output_type": "execute_result"
    }
   ],
   "source": [
    "endomysialMapper = SimpleColumnMapper(column_name='Endomysial connective tissue',\n",
    "                                    hpo_id=\"HP:0100297\", hpo_label=\"Increased endomysial connective tissue\", observed=\"+++\", excluded=\"-\")\n",
    "column_mapper_list.append(endomysialMapper)\n",
    "endomysialMapper.preview_column(dft)"
   ]
  },
  {
   "cell_type": "code",
   "execution_count": 10,
   "id": "261044c4",
   "metadata": {},
   "outputs": [
    {
     "data": {
      "text/html": [
       "<div>\n",
       "<style scoped>\n",
       "    .dataframe tbody tr th:only-of-type {\n",
       "        vertical-align: middle;\n",
       "    }\n",
       "\n",
       "    .dataframe tbody tr th {\n",
       "        vertical-align: top;\n",
       "    }\n",
       "\n",
       "    .dataframe thead th {\n",
       "        text-align: right;\n",
       "    }\n",
       "</style>\n",
       "<table border=\"1\" class=\"dataframe\">\n",
       "  <thead>\n",
       "    <tr style=\"text-align: right;\">\n",
       "      <th></th>\n",
       "      <th>mapping</th>\n",
       "      <th>count</th>\n",
       "    </tr>\n",
       "  </thead>\n",
       "  <tbody>\n",
       "    <tr>\n",
       "      <th>0</th>\n",
       "      <td>original value: \"nan\" -&gt; HP: Increased intramyocellular lipid droplets (HP:0012240) (not measured)</td>\n",
       "      <td>4</td>\n",
       "    </tr>\n",
       "    <tr>\n",
       "      <th>1</th>\n",
       "      <td>original value: \"n.r.\" -&gt; HP: Increased intramyocellular lipid droplets (HP:0012240) (not measured)</td>\n",
       "      <td>1</td>\n",
       "    </tr>\n",
       "    <tr>\n",
       "      <th>2</th>\n",
       "      <td>original value: \"+++\" -&gt; HP: Increased intramyocellular lipid droplets (HP:0012240) (observed)</td>\n",
       "      <td>1</td>\n",
       "    </tr>\n",
       "    <tr>\n",
       "      <th>3</th>\n",
       "      <td>original value: \"+/-\" -&gt; HP: Increased intramyocellular lipid droplets (HP:0012240) (not measured)</td>\n",
       "      <td>1</td>\n",
       "    </tr>\n",
       "    <tr>\n",
       "      <th>4</th>\n",
       "      <td>original value: \"-\" -&gt; HP: Increased intramyocellular lipid droplets (HP:0012240) (excluded)</td>\n",
       "      <td>2</td>\n",
       "    </tr>\n",
       "  </tbody>\n",
       "</table>\n",
       "</div>"
      ],
      "text/plain": [
       "                                                                                               mapping  \\\n",
       "0   original value: \"nan\" -> HP: Increased intramyocellular lipid droplets (HP:0012240) (not measured)   \n",
       "1  original value: \"n.r.\" -> HP: Increased intramyocellular lipid droplets (HP:0012240) (not measured)   \n",
       "2       original value: \"+++\" -> HP: Increased intramyocellular lipid droplets (HP:0012240) (observed)   \n",
       "3   original value: \"+/-\" -> HP: Increased intramyocellular lipid droplets (HP:0012240) (not measured)   \n",
       "4         original value: \"-\" -> HP: Increased intramyocellular lipid droplets (HP:0012240) (excluded)   \n",
       "\n",
       "  count  \n",
       "0     4  \n",
       "1     1  \n",
       "2     1  \n",
       "3     1  \n",
       "4     2  "
      ]
     },
     "execution_count": 10,
     "metadata": {},
     "output_type": "execute_result"
    }
   ],
   "source": [
    "dropletMapper = SimpleColumnMapper(column_name='Lipid droplets',\n",
    "                                hpo_id=\"HP:0012240\", hpo_label=\"Increased intramyocellular lipid droplets\", observed=\"+++\", excluded=\"-\")\n",
    "column_mapper_list.append(dropletMapper)\n",
    "dropletMapper.preview_column(dft)"
   ]
  },
  {
   "cell_type": "code",
   "execution_count": 11,
   "id": "2048dfc8",
   "metadata": {},
   "outputs": [
    {
     "data": {
      "text/html": [
       "<div>\n",
       "<style scoped>\n",
       "    .dataframe tbody tr th:only-of-type {\n",
       "        vertical-align: middle;\n",
       "    }\n",
       "\n",
       "    .dataframe tbody tr th {\n",
       "        vertical-align: top;\n",
       "    }\n",
       "\n",
       "    .dataframe thead th {\n",
       "        text-align: right;\n",
       "    }\n",
       "</style>\n",
       "<table border=\"1\" class=\"dataframe\">\n",
       "  <thead>\n",
       "    <tr style=\"text-align: right;\">\n",
       "      <th></th>\n",
       "      <th>mapping</th>\n",
       "      <th>count</th>\n",
       "    </tr>\n",
       "  </thead>\n",
       "  <tbody>\n",
       "    <tr>\n",
       "      <th>0</th>\n",
       "      <td>Type 2 muscle fiber predominance (HP:0010602) (observed)</td>\n",
       "      <td>1</td>\n",
       "    </tr>\n",
       "    <tr>\n",
       "      <th>1</th>\n",
       "      <td>Type 1 muscle fiber predominance (HP:0003803) (observed)</td>\n",
       "      <td>4</td>\n",
       "    </tr>\n",
       "  </tbody>\n",
       "</table>\n",
       "</div>"
      ],
      "text/plain": [
       "                                                    mapping count\n",
       "0  Type 2 muscle fiber predominance (HP:0010602) (observed)     1\n",
       "1  Type 1 muscle fiber predominance (HP:0003803) (observed)     4"
      ]
     },
     "execution_count": 11,
     "metadata": {},
     "output_type": "execute_result"
    }
   ],
   "source": [
    "type_d = {\n",
    " '1<2': 'Type 2 muscle fiber predominance',\n",
    " '1>2': 'Type 1 muscle fiber predominance'}\n",
    "type_ratioMapper = OptionColumnMapper(column_name='Type 1:2 Abundance of ratio',concept_recognizer=hpo_cr, option_d=type_d)\n",
    "column_mapper_list.append(type_ratioMapper)\n",
    "type_ratioMapper.preview_column(dft)"
   ]
  },
  {
   "cell_type": "code",
   "execution_count": 12,
   "id": "328744fc",
   "metadata": {},
   "outputs": [
    {
     "data": {
      "text/html": [
       "<div>\n",
       "<style scoped>\n",
       "    .dataframe tbody tr th:only-of-type {\n",
       "        vertical-align: middle;\n",
       "    }\n",
       "\n",
       "    .dataframe tbody tr th {\n",
       "        vertical-align: top;\n",
       "    }\n",
       "\n",
       "    .dataframe thead th {\n",
       "        text-align: right;\n",
       "    }\n",
       "</style>\n",
       "<table border=\"1\" class=\"dataframe\">\n",
       "  <thead>\n",
       "    <tr style=\"text-align: right;\">\n",
       "      <th></th>\n",
       "      <th>mapping</th>\n",
       "      <th>count</th>\n",
       "    </tr>\n",
       "  </thead>\n",
       "  <tbody>\n",
       "    <tr>\n",
       "      <th>0</th>\n",
       "      <td>original value: \"nan\" -&gt; HP: Reduced muscle fiber alpha dystroglycan (HP:0030099) (not measured)</td>\n",
       "      <td>4</td>\n",
       "    </tr>\n",
       "    <tr>\n",
       "      <th>1</th>\n",
       "      <td>original value: \"+/-\" -&gt; HP: Reduced muscle fiber alpha dystroglycan (HP:0030099) (not measured)</td>\n",
       "      <td>3</td>\n",
       "    </tr>\n",
       "    <tr>\n",
       "      <th>2</th>\n",
       "      <td>original value: \"---\" -&gt; HP: Reduced muscle fiber alpha dystroglycan (HP:0030099) (observed)</td>\n",
       "      <td>1</td>\n",
       "    </tr>\n",
       "    <tr>\n",
       "      <th>3</th>\n",
       "      <td>original value: \"n.r.\" -&gt; HP: Reduced muscle fiber alpha dystroglycan (HP:0030099) (not measured)</td>\n",
       "      <td>1</td>\n",
       "    </tr>\n",
       "  </tbody>\n",
       "</table>\n",
       "</div>"
      ],
      "text/plain": [
       "                                                                                             mapping  \\\n",
       "0   original value: \"nan\" -> HP: Reduced muscle fiber alpha dystroglycan (HP:0030099) (not measured)   \n",
       "1   original value: \"+/-\" -> HP: Reduced muscle fiber alpha dystroglycan (HP:0030099) (not measured)   \n",
       "2       original value: \"---\" -> HP: Reduced muscle fiber alpha dystroglycan (HP:0030099) (observed)   \n",
       "3  original value: \"n.r.\" -> HP: Reduced muscle fiber alpha dystroglycan (HP:0030099) (not measured)   \n",
       "\n",
       "  count  \n",
       "0     4  \n",
       "1     3  \n",
       "2     1  \n",
       "3     1  "
      ]
     },
     "execution_count": 12,
     "metadata": {},
     "output_type": "execute_result"
    }
   ],
   "source": [
    "dystroglycanMapper = SimpleColumnMapper(column_name='Alpha-dystroglycan',\n",
    "                                        hpo_id=\"HP:0030099\", hpo_label=\"Reduced muscle fiber alpha dystroglycan\",\n",
    "                                        observed=\"---\", excluded=\"+\")\n",
    "column_mapper_list.append(dystroglycanMapper)\n",
    "dystroglycanMapper.preview_column(dft)"
   ]
  },
  {
   "cell_type": "code",
   "execution_count": 13,
   "id": "3b28ec17",
   "metadata": {},
   "outputs": [
    {
     "ename": "ValueError",
     "evalue": "onset argument must be PyPheToolsAge or subclass but was <class 'str'>",
     "output_type": "error",
     "traceback": [
      "\u001b[0;31m---------------------------------------------------------------------------\u001b[0m",
      "\u001b[0;31mValueError\u001b[0m                                Traceback (most recent call last)",
      "Cell \u001b[0;32mIn[13], line 5\u001b[0m\n\u001b[1;32m      1\u001b[0m elevatedCKmapper \u001b[38;5;241m=\u001b[39m SimpleColumnMapper(column_name\u001b[38;5;241m=\u001b[39m\u001b[38;5;124m\"\u001b[39m\u001b[38;5;124mAge of first elevated CK\u001b[39m\u001b[38;5;124m\"\u001b[39m, hpo_id\u001b[38;5;241m=\u001b[39m\u001b[38;5;124m\"\u001b[39m\u001b[38;5;124mHP:0003236\u001b[39m\u001b[38;5;124m\"\u001b[39m,\n\u001b[1;32m      2\u001b[0m                                     hpo_label\u001b[38;5;241m=\u001b[39m\u001b[38;5;124m\"\u001b[39m\u001b[38;5;124mElevated circulating creatine kinase concentration\u001b[39m\u001b[38;5;124m\"\u001b[39m,\n\u001b[1;32m      3\u001b[0m                                     observed\u001b[38;5;241m=\u001b[39m\u001b[38;5;124m\"\u001b[39m\u001b[38;5;124m+\u001b[39m\u001b[38;5;124m\"\u001b[39m, excluded\u001b[38;5;241m=\u001b[39m\u001b[38;5;124m\"\u001b[39m\u001b[38;5;124m-\u001b[39m\u001b[38;5;124m\"\u001b[39m)\n\u001b[1;32m      4\u001b[0m column_mapper_list\u001b[38;5;241m.\u001b[39mappend(elevatedCKmapper)\n\u001b[0;32m----> 5\u001b[0m \u001b[43melevatedCKmapper\u001b[49m\u001b[38;5;241;43m.\u001b[39;49m\u001b[43mpreview_column\u001b[49m\u001b[43m(\u001b[49m\u001b[43mdft\u001b[49m\u001b[43m)\u001b[49m\n",
      "File \u001b[0;32m~/GIT/phenopacket-store/ps24venv/lib/python3.8/site-packages/pyphetools/creation/simple_column_mapper.py:84\u001b[0m, in \u001b[0;36mSimpleColumnMapper.preview_column\u001b[0;34m(self, df)\u001b[0m\n\u001b[1;32m     82\u001b[0m \u001b[38;5;28;01mfor\u001b[39;00m _, value \u001b[38;5;129;01min\u001b[39;00m column\u001b[38;5;241m.\u001b[39mitems():\n\u001b[1;32m     83\u001b[0m     cell_contents \u001b[38;5;241m=\u001b[39m \u001b[38;5;28mstr\u001b[39m(value)\n\u001b[0;32m---> 84\u001b[0m     value \u001b[38;5;241m=\u001b[39m \u001b[38;5;28;43mself\u001b[39;49m\u001b[38;5;241;43m.\u001b[39;49m\u001b[43mmap_cell\u001b[49m\u001b[43m(\u001b[49m\u001b[43mcell_contents\u001b[49m\u001b[43m)\u001b[49m\n\u001b[1;32m     85\u001b[0m     hpterm \u001b[38;5;241m=\u001b[39m value[\u001b[38;5;241m0\u001b[39m]\n\u001b[1;32m     86\u001b[0m     mapped \u001b[38;5;241m=\u001b[39m \u001b[38;5;124mf\u001b[39m\u001b[38;5;124m\"\u001b[39m\u001b[38;5;124moriginal value: \u001b[39m\u001b[38;5;130;01m\\\"\u001b[39;00m\u001b[38;5;132;01m{\u001b[39;00mcell_contents\u001b[38;5;132;01m}\u001b[39;00m\u001b[38;5;130;01m\\\"\u001b[39;00m\u001b[38;5;124m -> HP: \u001b[39m\u001b[38;5;132;01m{\u001b[39;00mhpterm\u001b[38;5;241m.\u001b[39mhpo_term_and_id\u001b[38;5;132;01m}\u001b[39;00m\u001b[38;5;124m (\u001b[39m\u001b[38;5;132;01m{\u001b[39;00mhpterm\u001b[38;5;241m.\u001b[39mdisplay_value\u001b[38;5;132;01m}\u001b[39;00m\u001b[38;5;124m)\u001b[39m\u001b[38;5;124m\"\u001b[39m\n",
      "File \u001b[0;32m~/GIT/phenopacket-store/ps24venv/lib/python3.8/site-packages/pyphetools/creation/simple_column_mapper.py:69\u001b[0m, in \u001b[0;36mSimpleColumnMapper.map_cell\u001b[0;34m(self, cell_contents)\u001b[0m\n\u001b[1;32m     67\u001b[0m \u001b[38;5;66;03m# first check if the cell contents represent a valid iso8601, which represents age of onset.\u001b[39;00m\n\u001b[1;32m     68\u001b[0m \u001b[38;5;28;01mif\u001b[39;00m ColumnMapper\u001b[38;5;241m.\u001b[39mis_valid_iso8601(contents):\n\u001b[0;32m---> 69\u001b[0m     \u001b[38;5;28;01mreturn\u001b[39;00m [\u001b[43mHpTerm\u001b[49m\u001b[43m(\u001b[49m\u001b[43mhpo_id\u001b[49m\u001b[38;5;241;43m=\u001b[39;49m\u001b[38;5;28;43mself\u001b[39;49m\u001b[38;5;241;43m.\u001b[39;49m\u001b[43m_hpo_id\u001b[49m\u001b[43m,\u001b[49m\u001b[43m \u001b[49m\u001b[43mlabel\u001b[49m\u001b[38;5;241;43m=\u001b[39;49m\u001b[38;5;28;43mself\u001b[39;49m\u001b[38;5;241;43m.\u001b[39;49m\u001b[43m_hpo_label\u001b[49m\u001b[43m,\u001b[49m\u001b[43m \u001b[49m\u001b[43monset\u001b[49m\u001b[38;5;241;43m=\u001b[39;49m\u001b[43mcontents\u001b[49m\u001b[43m)\u001b[49m]\n\u001b[1;32m     70\u001b[0m \u001b[38;5;28;01mif\u001b[39;00m contents \u001b[38;5;129;01min\u001b[39;00m \u001b[38;5;28mself\u001b[39m\u001b[38;5;241m.\u001b[39m_observed:\n\u001b[1;32m     71\u001b[0m     \u001b[38;5;28;01mreturn\u001b[39;00m [HpTerm(hpo_id\u001b[38;5;241m=\u001b[39m\u001b[38;5;28mself\u001b[39m\u001b[38;5;241m.\u001b[39m_hpo_id, label\u001b[38;5;241m=\u001b[39m\u001b[38;5;28mself\u001b[39m\u001b[38;5;241m.\u001b[39m_hpo_label)]\n",
      "File \u001b[0;32m~/GIT/phenopacket-store/ps24venv/lib/python3.8/site-packages/pyphetools/creation/hp_term.py:34\u001b[0m, in \u001b[0;36mHpTerm.__init__\u001b[0;34m(self, hpo_id, label, observed, measured, onset, resolution)\u001b[0m\n\u001b[1;32m     32\u001b[0m \u001b[38;5;28mself\u001b[39m\u001b[38;5;241m.\u001b[39m_measured \u001b[38;5;241m=\u001b[39m measured\n\u001b[1;32m     33\u001b[0m \u001b[38;5;28;01mif\u001b[39;00m \u001b[38;5;129;01mnot\u001b[39;00m \u001b[38;5;28misinstance\u001b[39m(onset, PyPheToolsAge):\n\u001b[0;32m---> 34\u001b[0m     \u001b[38;5;28;01mraise\u001b[39;00m \u001b[38;5;167;01mValueError\u001b[39;00m(\u001b[38;5;124mf\u001b[39m\u001b[38;5;124m\"\u001b[39m\u001b[38;5;124monset argument must be PyPheToolsAge or subclass but was \u001b[39m\u001b[38;5;132;01m{\u001b[39;00m\u001b[38;5;28mtype\u001b[39m(onset)\u001b[38;5;132;01m}\u001b[39;00m\u001b[38;5;124m\"\u001b[39m)\n\u001b[1;32m     35\u001b[0m \u001b[38;5;28mself\u001b[39m\u001b[38;5;241m.\u001b[39m_onset \u001b[38;5;241m=\u001b[39m onset\n\u001b[1;32m     36\u001b[0m \u001b[38;5;28mself\u001b[39m\u001b[38;5;241m.\u001b[39m_resolution \u001b[38;5;241m=\u001b[39m resolution\n",
      "\u001b[0;31mValueError\u001b[0m: onset argument must be PyPheToolsAge or subclass but was <class 'str'>"
     ]
    }
   ],
   "source": [
    "elevatedCKmapper = SimpleColumnMapper(column_name=\"Age of first elevated CK\", hpo_id=\"HP:0003236\",\n",
    "                                    hpo_label=\"Elevated circulating creatine kinase concentration\",\n",
    "                                    observed=\"+\", excluded=\"-\")\n",
    "column_mapper_list.append(elevatedCKmapper)\n",
    "elevatedCKmapper.preview_column(dft)"
   ]
  },
  {
   "cell_type": "code",
   "execution_count": null,
   "id": "3433d5b2",
   "metadata": {},
   "outputs": [],
   "source": [
    "disease = Disease(disease_id=\"OMIM:620375\", disease_label=\"Muscular dystrophy, limb-girdle, autosomal recessive 28\")\n",
    "encoder = CohortEncoder(df=dft,\n",
    "                        hpo_cr=hpo_cr,\n",
    "                        column_mapper_list=column_mapper_list,\n",
    "                        individual_column_name=\"individual_id\",\n",
    "                        metadata=metadata,\n",
    "                        agemapper=ageMapper,\n",
    "                        sexmapper=sexMapper)\n",
    "encoder.set_disease(disease=disease)"
   ]
  },
  {
   "cell_type": "code",
   "execution_count": null,
   "id": "a00297d4",
   "metadata": {},
   "outputs": [],
   "source": [
    "vmanager = VariantManager(df=dft, individual_column_name=\"individual_id\", gene_symbol=\"HMGCR\", \n",
    "                          allele_1_column_name=\"allele_1\", allele_2_column_name=\"allele_2\", transcript=\"NM_000859.2\")\n",
    "individuals = encoder.get_individuals()\n",
    "var_d = vmanager.get_variant_d()\n",
    "for k, v in var_d.items():\n",
    "    print(k,v)"
   ]
  },
  {
   "cell_type": "code",
   "execution_count": null,
   "id": "79c2dd7f-69a9-4bea-b0be-1e23e8d3fd8c",
   "metadata": {},
   "outputs": [],
   "source": [
    "dft[\"individual_id\"]"
   ]
  },
  {
   "cell_type": "code",
   "execution_count": null,
   "id": "01582bfd",
   "metadata": {},
   "outputs": [],
   "source": [
    "cvalidator = CohortValidator(cohort=individuals, ontology=hpo_ontology, min_hpo=1, allelic_requirement=AllelicRequirement.BI_ALLELIC)\n",
    "qc = QcVisualizer(cohort_validator=cvalidator)\n",
    "display(HTML(qc.to_summary_html()))"
   ]
  },
  {
   "cell_type": "code",
   "execution_count": null,
   "id": "b61ff861",
   "metadata": {},
   "outputs": [],
   "source": [
    "table = IndividualTable(individual_list=individuals, metadata=metadata)\n",
    "display(HTML(table.to_html()))"
   ]
  },
  {
   "cell_type": "code",
   "execution_count": null,
   "id": "3d653cc5",
   "metadata": {},
   "outputs": [],
   "source": [
    "Individual.output_individuals_as_phenopackets(individual_list=individuals, metadata=metadata)"
   ]
  },
  {
   "cell_type": "code",
   "execution_count": null,
   "id": "a8aaf483",
   "metadata": {},
   "outputs": [],
   "source": []
  },
  {
   "cell_type": "code",
   "execution_count": null,
   "id": "0bfeb6a6",
   "metadata": {},
   "outputs": [],
   "source": []
  }
 ],
 "metadata": {
  "kernelspec": {
   "display_name": "Python 3 (ipykernel)",
   "language": "python",
   "name": "python3"
  },
  "language_info": {
   "codemirror_mode": {
    "name": "ipython",
    "version": 3
   },
   "file_extension": ".py",
   "mimetype": "text/x-python",
   "name": "python",
   "nbconvert_exporter": "python",
   "pygments_lexer": "ipython3",
   "version": "3.8.10"
  }
 },
 "nbformat": 4,
 "nbformat_minor": 5
}
