{
 "cells": [
  {
   "cell_type": "markdown",
   "metadata": {},
   "source": [
    "# INPPL1\n",
    "[opsismodysplasia (OPSMD)](https://omim.org/entry/258480) is caused by homozygous or compound heterozygous mutation in the INPPL1 gene. "
   ]
  },
  {
   "cell_type": "code",
   "execution_count": 3,
   "metadata": {},
   "outputs": [
    {
     "name": "stdout",
     "output_type": "stream",
     "text": [
      "Using pyphetools version 0.9.86\n"
     ]
    }
   ],
   "source": [
    "from pyphetools.creation import TemplateImporter\n",
    "from pyphetools.visualization import IndividualTable, QcVisualizer\n",
    "from IPython.display import display, HTML\n",
    "import pyphetools\n",
    "print(f\"Using pyphetools version {pyphetools.__version__}\")"
   ]
  },
  {
   "cell_type": "code",
   "execution_count": 5,
   "metadata": {},
   "outputs": [],
   "source": [
    "template = \"input/INPPL1_OPSMD_individuals.xlsx\"\n",
    "created_by = \"0000-0002-0736-9199\""
   ]
  },
  {
   "cell_type": "code",
   "execution_count": 11,
   "metadata": {},
   "outputs": [
    {
     "name": "stdout",
     "output_type": "stream",
     "text": [
      "HPO version 2024-04-26\n",
      "Created encoders for 58 fields\n",
      "Importing OMIM:258480, Opsismodysplasia, HGNC:6080, INPPL1,  NM_001567.4\n",
      "We output 9 GA4GH phenopackets to the directory phenopackets\n"
     ]
    }
   ],
   "source": [
    "timporter = TemplateImporter(template=template,  created_by=created_by)\n",
    "individual_list, cvalidator = timporter.import_phenopackets_from_template()"
   ]
  },
  {
   "cell_type": "code",
   "execution_count": 12,
   "metadata": {},
   "outputs": [
    {
     "data": {
      "text/html": [
       "<h2>Cohort validation</h2>\n",
       "<p>Errors found with 5 of 9 phenopackets.</p>\n",
       "<table style=\"border: 2px solid black; align: \"left\">\n",
       "<caption>Error counts</caption>\n",
       "<tr><th style=\"text-align: left;font-weight: bold;\">Level</th><th style=\"text-align: left;font-weight: bold;\">Error category</th><th style=\"text-align: left;font-weight: bold;\">Count</th></tr>\n",
       "<tr><td style=\"text-align: left;\">WARNING</td><td style=\"text-align: left;\">REDUNDANT</td><td style=\"text-align: left;\">5</td></tr>\n",
       "</table>\n",
       "<p>A total of 5 issues were fixed and no individual was removed from the cohort.</p>"
      ],
      "text/plain": [
       "<IPython.core.display.HTML object>"
      ]
     },
     "metadata": {},
     "output_type": "display_data"
    }
   ],
   "source": [
    "qc = QcVisualizer(cohort_validator=cvalidator)\n",
    "display(HTML(qc.to_summary_html()))"
   ]
  },
  {
   "cell_type": "code",
   "execution_count": 13,
   "metadata": {},
   "outputs": [
    {
     "data": {
      "text/html": [
       "<table style=\"border: 2px solid black; align: \"left\">\n",
       "<caption>9 phenopackets - PMID:23273567 (n=9)</caption>\n",
       "<tr><th style=\"text-align: left;font-weight: bold;\">Individual</th><th style=\"text-align: left;font-weight: bold;\">Disease</th><th style=\"text-align: left;font-weight: bold;\">Genotype</th><th style=\"text-align: left;font-weight: bold;\">Phenotypic features</th></tr>\n",
       "<tr><td style=\"text-align: left;\">individual AII-1 (UNKNOWN; P8Y8M)</td><td style=\"text-align: left;\">Opsismodysplasia (OMIM:258480)</td><td style=\"text-align: left;\">NM_001567.4:c.1976C>T (homozygous)</td><td style=\"text-align: left;\">Hypertelorism (HP:0000316); Short foot (HP:0001773); Metaphyseal cupping (HP:0003021); Delayed epiphyseal ossification (HP:0002663); Short palm (HP:0004279); Respiratory insufficiency (HP:0002093); Soft, doughy skin (HP:0001027); Short nose (HP:0003196); Depressed nasal bridge (HP:0005280); Proptosis (HP:0000520); Long palpebral fissure (HP:0000637); Large fontanelles (HP:0000239); Prominent forehead (HP:0011220); High forehead (HP:0000348); Severe short stature (HP:0003510); Short long bone (HP:0003026); Hypophosphatemia (HP:0002148); Renal phosphate wasting (HP:0000117); excluded: Relative macrocephaly (HP:0004482); excluded: Low-set ears (HP:0000369); excluded: Posteriorly rotated ears (HP:0000358)</td></tr>\n",
       "<tr><td style=\"text-align: left;\">individual AII-2 (UNKNOWN; P2Y9M)</td><td style=\"text-align: left;\">Opsismodysplasia (OMIM:258480)</td><td style=\"text-align: left;\">NM_001567.4:c.1976C>T (homozygous)</td><td style=\"text-align: left;\">Short foot (HP:0001773); Metaphyseal cupping (HP:0003021); Delayed epiphyseal ossification (HP:0002663); Short palm (HP:0004279); Respiratory insufficiency (HP:0002093); Soft, doughy skin (HP:0001027); Short nose (HP:0003196); Depressed nasal bridge (HP:0005280); Large fontanelles (HP:0000239); Macrocephaly (HP:0000256); Prominent forehead (HP:0011220); Severe short stature (HP:0003510); Short long bone (HP:0003026); excluded: Hypertelorism (HP:0000316); excluded: Proptosis (HP:0000520); excluded: Long palpebral fissure (HP:0000637); excluded: High forehead (HP:0000348); excluded: Low-set ears (HP:0000369); excluded: Posteriorly rotated ears (HP:0000358); excluded: Hypophosphatemia (HP:0002148); excluded: Renal phosphate wasting (HP:0000117)</td></tr>\n",
       "<tr><td style=\"text-align: left;\">individual BII-1 (UNKNOWN; P1Y7M)</td><td style=\"text-align: left;\">Opsismodysplasia (OMIM:258480)</td><td style=\"text-align: left;\">NM_001567.4:c.768del (homozygous)</td><td style=\"text-align: left;\">Short foot (HP:0001773); Metaphyseal cupping (HP:0003021); Delayed epiphyseal ossification (HP:0002663); Short palm (HP:0004279); Respiratory insufficiency (HP:0002093); Short nose (HP:0003196); Depressed nasal bridge (HP:0005280); Proptosis (HP:0000520); Large fontanelles (HP:0000239); Relative macrocephaly (HP:0004482); Prominent forehead (HP:0011220); High forehead (HP:0000348); Short long bone (HP:0003026); excluded: Hypertelorism (HP:0000316); excluded: Soft, doughy skin (HP:0001027); excluded: Long palpebral fissure (HP:0000637)</td></tr>\n",
       "<tr><td style=\"text-align: left;\">individual CII-1 (UNKNOWN; P1Y4M)</td><td style=\"text-align: left;\">Opsismodysplasia (OMIM:258480)</td><td style=\"text-align: left;\"><ul> <li>NM_001567.4:c.768del (heterozygous)</li> <li>NM_001567.4:c.2415+1G>A (heterozygous)</li> </ul></td><td style=\"text-align: left;\">Hypertelorism (HP:0000316); Short foot (HP:0001773); Metaphyseal cupping (HP:0003021); Delayed epiphyseal ossification (HP:0002663); Short palm (HP:0004279); Respiratory insufficiency (HP:0002093); Short nose (HP:0003196); Proptosis (HP:0000520); Relative macrocephaly (HP:0004482); Prominent forehead (HP:0011220); High forehead (HP:0000348); Short long bone (HP:0003026); Hypophosphatemia (HP:0002148); Renal phosphate wasting (HP:0000117)</td></tr>\n",
       "<tr><td style=\"text-align: left;\">individual DII-1 (UNKNOWN; Congenital onset (HP:0003577))</td><td style=\"text-align: left;\">Opsismodysplasia (OMIM:258480)</td><td style=\"text-align: left;\"><ul> <li>NM_001567.4:c.35dup (heterozygous)</li> <li>NM_001567.4:c.1687_1691del (heterozygous)</li> </ul></td><td style=\"text-align: left;\">Short foot (HP:0001773); Metaphyseal cupping (HP:0003021); Delayed epiphyseal ossification (HP:0002663); Short palm (HP:0004279); Respiratory insufficiency (HP:0002093); Short nose (HP:0003196); Depressed nasal bridge (HP:0005280); Relative macrocephaly (HP:0004482); Low-set ears (HP:0000369); Short long bone (HP:0003026); excluded: Prominent forehead (HP:0011220); excluded: High forehead (HP:0000348)</td></tr>\n",
       "<tr><td style=\"text-align: left;\">individual EII-1 (UNKNOWN; P3Y)</td><td style=\"text-align: left;\">Opsismodysplasia (OMIM:258480)</td><td style=\"text-align: left;\">NM_001567.4:c.545C>A (homozygous)</td><td style=\"text-align: left;\">Hypertelorism (HP:0000316); Short foot (HP:0001773); Metaphyseal cupping (HP:0003021); Delayed epiphyseal ossification (HP:0002663); Short palm (HP:0004279); Respiratory insufficiency (HP:0002093); Soft, doughy skin (HP:0001027); Short nose (HP:0003196); Depressed nasal bridge (HP:0005280); Proptosis (HP:0000520); Long palpebral fissure (HP:0000637); Large fontanelles (HP:0000239); High forehead (HP:0000348); Short long bone (HP:0003026); Hypophosphatemia (HP:0002148); Renal phosphate wasting (HP:0000117); excluded: Relative macrocephaly (HP:0004482); excluded: Prominent forehead (HP:0011220)</td></tr>\n",
       "<tr><td style=\"text-align: left;\">individual FII-1 (UNKNOWN; P24Y)</td><td style=\"text-align: left;\">Opsismodysplasia (OMIM:258480)</td><td style=\"text-align: left;\"><ul> <li>NM_001567.4:c.24_39del (heterozygous)</li> <li>NM_001567.4:c.753G>C (heterozygous)</li> </ul></td><td style=\"text-align: left;\">Hypertelorism (HP:0000316); Short foot (HP:0001773); Metaphyseal cupping (HP:0003021); Delayed epiphyseal ossification (HP:0002663); Severe platyspondyly (HP:0004565); Short palm (HP:0004279); Respiratory insufficiency (HP:0002093); Short nose (HP:0003196); Depressed nasal bridge (HP:0005280); Proptosis (HP:0000520); Large fontanelles (HP:0000239); Prominent forehead (HP:0011220); High forehead (HP:0000348); Posteriorly rotated ears (HP:0000358); Severe short stature (HP:0003510); Short long bone (HP:0003026); Hypophosphatemia (HP:0002148); Renal phosphate wasting (HP:0000117); excluded: Soft, doughy skin (HP:0001027); excluded: Relative macrocephaly (HP:0004482); excluded: Low-set ears (HP:0000369)</td></tr>\n",
       "<tr><td style=\"text-align: left;\">individual FII-2 (UNKNOWN; P18Y)</td><td style=\"text-align: left;\">Opsismodysplasia (OMIM:258480)</td><td style=\"text-align: left;\"><ul> <li>NM_001567.4:c.24_39del (heterozygous)</li> <li>NM_001567.4:c.753G>C (heterozygous)</li> </ul></td><td style=\"text-align: left;\">Hypertelorism (HP:0000316); Short foot (HP:0001773); Metaphyseal cupping (HP:0003021); Delayed epiphyseal ossification (HP:0002663); Severe platyspondyly (HP:0004565); Short palm (HP:0004279); Respiratory insufficiency (HP:0002093); Short nose (HP:0003196); Depressed nasal bridge (HP:0005280); Proptosis (HP:0000520); Large fontanelles (HP:0000239); Prominent forehead (HP:0011220); High forehead (HP:0000348); Short long bone (HP:0003026); Hypophosphatemia (HP:0002148); Renal phosphate wasting (HP:0000117); excluded: Soft, doughy skin (HP:0001027); excluded: Long palpebral fissure (HP:0000637); excluded: Relative macrocephaly (HP:0004482); excluded: Low-set ears (HP:0000369); excluded: Posteriorly rotated ears (HP:0000358)</td></tr>\n",
       "<tr><td style=\"text-align: left;\">individual GII-2 (UNKNOWN; n/a)</td><td style=\"text-align: left;\">Opsismodysplasia (OMIM:258480)</td><td style=\"text-align: left;\">NM_001567.4:c.2071C>T (homozygous)</td><td style=\"text-align: left;\">Hypertelorism (HP:0000316); Short foot (HP:0001773); Metaphyseal cupping (HP:0003021); Severe platyspondyly (HP:0004565); Short palm (HP:0004279); Short nose (HP:0003196); Depressed nasal bridge (HP:0005280); Proptosis (HP:0000520); Large fontanelles (HP:0000239); Prominent forehead (HP:0011220); High forehead (HP:0000348); Short long bone (HP:0003026); excluded: Relative macrocephaly (HP:0004482); excluded: Low-set ears (HP:0000369); excluded: Posteriorly rotated ears (HP:0000358)</td></tr>\n",
       "</table>"
      ],
      "text/plain": [
       "<IPython.core.display.HTML object>"
      ]
     },
     "metadata": {},
     "output_type": "display_data"
    }
   ],
   "source": [
    "table = IndividualTable(cvalidator.get_error_free_individual_list())\n",
    "display(HTML(table.to_html()))"
   ]
  },
  {
   "cell_type": "code",
   "execution_count": 14,
   "metadata": {},
   "outputs": [
    {
     "name": "stdout",
     "output_type": "stream",
     "text": [
      "[pyphetools] Ingested 9 GA4GH phenopackets.\n",
      "\tOpsismodysplasia (OMIM:258480): n=9\n",
      "We found a total of 23 unique HPO terms\n",
      "Extracted disease: Opsismodysplasia (OMIM:258480)\n",
      "Wrote HPOA disease file to OMIM-258480.tab\n"
     ]
    }
   ],
   "source": [
    "pmid = \"PMID:23273567\"\n",
    "df = timporter.create_hpoa_from_phenopackets(pmid=pmid, moi=\"Autosomal recessive\")"
   ]
  }
 ],
 "metadata": {
  "kernelspec": {
   "display_name": "ps24venv",
   "language": "python",
   "name": "python3"
  },
  "language_info": {
   "codemirror_mode": {
    "name": "ipython",
    "version": 3
   },
   "file_extension": ".py",
   "mimetype": "text/x-python",
   "name": "python",
   "nbconvert_exporter": "python",
   "pygments_lexer": "ipython3",
   "version": "3.9.6"
  }
 },
 "nbformat": 4,
 "nbformat_minor": 2
}
