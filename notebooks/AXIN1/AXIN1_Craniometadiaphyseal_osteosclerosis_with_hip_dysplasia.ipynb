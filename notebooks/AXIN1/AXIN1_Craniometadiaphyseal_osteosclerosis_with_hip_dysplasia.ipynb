{
 "cells": [
  {
   "cell_type": "markdown",
   "id": "9a27582f-0306-4825-a547-90549871ca2b",
   "metadata": {},
   "source": [
    "# AXIN1 Craniometadiaphyseal osteosclerosis with hip dysplasia  individuals\n",
    "Date derived from [Terhal P, et al. AXIN1 bi-allelic variants disrupting the C-terminal DIX domain cause craniometadiaphyseal osteosclerosis with hip dysplasia. Am J Hum Genet. 2023](https://pubmed.ncbi.nlm.nih.gov/37582359/)"
   ]
  },
  {
   "cell_type": "code",
   "execution_count": 12,
   "id": "91e2d3f5-d20c-4f77-945b-ab05e7088890",
   "metadata": {},
   "outputs": [
    {
     "name": "stdout",
     "output_type": "stream",
     "text": [
      "Using pyphetools version 0.9.61\n"
     ]
    }
   ],
   "source": [
    "from pyphetools.creation import TemplateImporter\n",
    "import pyphetools\n",
    "print(f\"Using pyphetools version {pyphetools.__version__}\")"
   ]
  },
  {
   "cell_type": "code",
   "execution_count": 16,
   "id": "cad516e3-d4dc-4357-9ebc-8e69a7a04abc",
   "metadata": {},
   "outputs": [],
   "source": [
    "hp_json=\"../hp.json\"\n",
    "created_by=\"0000-0002-0736-9199\"\n",
    "timporter = TemplateImporter(template=\"input/AXIN1_individuals.xlsx\",hp_json=hp_json,created_by=created_by)"
   ]
  },
  {
   "cell_type": "code",
   "execution_count": 21,
   "id": "21f33f3d-f257-4ab7-ba04-f2e745915bc8",
   "metadata": {},
   "outputs": [
    {
     "name": "stdout",
     "output_type": "stream",
     "text": [
      "HPO version 2024-02-27\n",
      "Created encoders for 41 fields\n",
      " we got OMIM:620558  NM_003502.4\n",
      "We output 7 GA4GH phenopackets to the directory phenopackets\n"
     ]
    }
   ],
   "source": [
    "individuals, cvalidator = timporter.import_phenopackets_from_template()"
   ]
  },
  {
   "cell_type": "code",
   "execution_count": 22,
   "id": "a6695b49-6ebc-4427-91d4-9e2c2f265f46",
   "metadata": {},
   "outputs": [
    {
     "data": {
      "text/html": [
       "<h2>Cohort validation</h2>\n",
       "<p>No errors found for the cohort with 7 individuals</p>"
      ],
      "text/plain": [
       "<IPython.core.display.HTML object>"
      ]
     },
     "metadata": {},
     "output_type": "display_data"
    }
   ],
   "source": [
    "cvalidator = CohortValidator(cohort=individuals, ontology=hpo_ontology, min_hpo=1,\n",
    "                                allelic_requirement=AllelicRequirement.BI_ALLELIC)\n",
    "qc = QcVisualizer(cohort_validator=cvalidator)\n",
    "display(HTML(qc.to_summary_html()))"
   ]
  },
  {
   "cell_type": "code",
   "execution_count": 24,
   "id": "0422e11a-eb89-4deb-aafb-41b1b0957f5c",
   "metadata": {},
   "outputs": [
    {
     "name": "stdout",
     "output_type": "stream",
     "text": [
      "[pyphetools] Ingested 7 GA4GH phenopackets.\n",
      "\tCraniometadiaphyseal osteosclerosis with hip dysplasia (OMIM:620558): n=7\n",
      "We found a total of 28 unique HPO terms\n",
      "Extracted disease: Craniometadiaphyseal osteosclerosis with hip dysplasia (OMIM:620558)\n",
      "Wrote HPOA disease file to OMIM-620558.tab\n"
     ]
    }
   ],
   "source": [
    "PMID = \"PMID:37582359\" # Terhal et al., 2023\n",
    "df = timporter.create_hpoa_from_phenopackets(pmid=PMID, moi=\"Autosomal recessive\")"
   ]
  }
 ],
 "metadata": {
  "kernelspec": {
   "display_name": "Python 3 (ipykernel)",
   "language": "python",
   "name": "python3"
  },
  "language_info": {
   "codemirror_mode": {
    "name": "ipython",
    "version": 3
   },
   "file_extension": ".py",
   "mimetype": "text/x-python",
   "name": "python",
   "nbconvert_exporter": "python",
   "pygments_lexer": "ipython3",
   "version": "3.8.10"
  }
 },
 "nbformat": 4,
 "nbformat_minor": 5
}
