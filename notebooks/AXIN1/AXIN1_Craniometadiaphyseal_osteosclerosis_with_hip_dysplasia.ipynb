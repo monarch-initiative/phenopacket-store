{
 "cells": [
  {
   "cell_type": "markdown",
   "id": "9a27582f-0306-4825-a547-90549871ca2b",
   "metadata": {},
   "source": [
    "# AXIN1 Craniometadiaphyseal osteosclerosis with hip dysplasia  individuals\n",
    "Date derived from [Terhal P, et al. AXIN1 bi-allelic variants disrupting the C-terminal DIX domain cause craniometadiaphyseal osteosclerosis with hip dysplasia. Am J Hum Genet. 2023](https://pubmed.ncbi.nlm.nih.gov/37582359/)"
   ]
  },
  {
   "cell_type": "code",
   "execution_count": 1,
   "id": "91e2d3f5-d20c-4f77-945b-ab05e7088890",
   "metadata": {},
   "outputs": [
    {
     "name": "stdout",
     "output_type": "stream",
     "text": [
      "Using pyphetools version 0.9.54\n"
     ]
    }
   ],
   "source": [
    "import pandas as pd\n",
    "from IPython.display import display, HTML\n",
    "pd.set_option('display.max_colwidth', None) # show entire column contents, important!\n",
    "from collections import defaultdict\n",
    "from pyphetools.creation import *\n",
    "from pyphetools.visualization import *\n",
    "from pyphetools.validation import *\n",
    "import pyphetools\n",
    "print(f\"Using pyphetools version {pyphetools.__version__}\")"
   ]
  },
  {
   "cell_type": "code",
   "execution_count": 2,
   "id": "cad516e3-d4dc-4357-9ebc-8e69a7a04abc",
   "metadata": {},
   "outputs": [
    {
     "name": "stdout",
     "output_type": "stream",
     "text": [
      "HPO version 2024-02-27\n"
     ]
    }
   ],
   "source": [
    "parser = HpoParser(hpo_json_file=\"../hp.json\")\n",
    "hpo_cr = parser.get_hpo_concept_recognizer()\n",
    "hpo_version = parser.get_version()\n",
    "hpo_ontology = parser.get_ontology()\n",
    "created_by=\"ORCID:0000-0002-0736-9199\"\n",
    "print(f\"HPO version {hpo_version}\")"
   ]
  },
  {
   "cell_type": "code",
   "execution_count": 3,
   "id": "21f33f3d-f257-4ab7-ba04-f2e745915bc8",
   "metadata": {},
   "outputs": [
    {
     "data": {
      "text/html": [
       "<div>\n",
       "<style scoped>\n",
       "    .dataframe tbody tr th:only-of-type {\n",
       "        vertical-align: middle;\n",
       "    }\n",
       "\n",
       "    .dataframe tbody tr th {\n",
       "        vertical-align: top;\n",
       "    }\n",
       "\n",
       "    .dataframe thead th {\n",
       "        text-align: right;\n",
       "    }\n",
       "</style>\n",
       "<table border=\"1\" class=\"dataframe\">\n",
       "  <thead>\n",
       "    <tr style=\"text-align: right;\">\n",
       "      <th></th>\n",
       "      <th>PMID</th>\n",
       "      <th>title</th>\n",
       "      <th>individual_id</th>\n",
       "      <th>comment</th>\n",
       "      <th>disease_id</th>\n",
       "      <th>disease_label</th>\n",
       "      <th>transcript</th>\n",
       "      <th>allele_1</th>\n",
       "      <th>allele_2</th>\n",
       "      <th>variant.comment</th>\n",
       "      <th>...</th>\n",
       "      <th>Hypoplasia of the corpus callosum</th>\n",
       "      <th>Ectopic anterior pituitary gland</th>\n",
       "      <th>Arachnoid cyst</th>\n",
       "      <th>Brain atrophy</th>\n",
       "      <th>Macrocephaly</th>\n",
       "      <th>Relative macrocephaly</th>\n",
       "      <th>Selective mutism</th>\n",
       "      <th>Increased bone mineral density</th>\n",
       "      <th>Choanal stenosis</th>\n",
       "      <th>Miscellaneous</th>\n",
       "    </tr>\n",
       "  </thead>\n",
       "  <tbody>\n",
       "    <tr>\n",
       "      <th>0</th>\n",
       "      <td>str</td>\n",
       "      <td>str</td>\n",
       "      <td>str</td>\n",
       "      <td>optional str</td>\n",
       "      <td>str</td>\n",
       "      <td>str</td>\n",
       "      <td>str</td>\n",
       "      <td>str</td>\n",
       "      <td>str</td>\n",
       "      <td>optional str</td>\n",
       "      <td>...</td>\n",
       "      <td>HP:0002079</td>\n",
       "      <td>HP:0012731</td>\n",
       "      <td>HP:0100702</td>\n",
       "      <td>HP:0012444</td>\n",
       "      <td>HP:0000256</td>\n",
       "      <td>HP:0004482</td>\n",
       "      <td>HP:5200001</td>\n",
       "      <td>HP:0011001</td>\n",
       "      <td>HP:0000452</td>\n",
       "      <td>Miscellaneous</td>\n",
       "    </tr>\n",
       "    <tr>\n",
       "      <th>1</th>\n",
       "      <td>PMID:37582359</td>\n",
       "      <td>AXIN1 bi-allelic variants disrupting the C-terminal DIX domain cause craniometadiaphyseal osteosclerosis with hip dysplasia</td>\n",
       "      <td>F1-II-1</td>\n",
       "      <td>NaN</td>\n",
       "      <td>OMIM:620558</td>\n",
       "      <td>Craniometadiaphyseal osteosclerosis with hip dysplasia</td>\n",
       "      <td>NM_003502.4</td>\n",
       "      <td>c.2395dup</td>\n",
       "      <td>c.2395dup</td>\n",
       "      <td>NM_181050.3:c.2395dupG</td>\n",
       "      <td>...</td>\n",
       "      <td>excluded</td>\n",
       "      <td>excluded</td>\n",
       "      <td>excluded</td>\n",
       "      <td>excluded</td>\n",
       "      <td>observed</td>\n",
       "      <td>na</td>\n",
       "      <td>observed</td>\n",
       "      <td>observed</td>\n",
       "      <td>observed</td>\n",
       "      <td>NaN</td>\n",
       "    </tr>\n",
       "  </tbody>\n",
       "</table>\n",
       "<p>2 rows × 39 columns</p>\n",
       "</div>"
      ],
      "text/plain": [
       "            PMID  \\\n",
       "0            str   \n",
       "1  PMID:37582359   \n",
       "\n",
       "                                                                                                                         title  \\\n",
       "0                                                                                                                          str   \n",
       "1  AXIN1 bi-allelic variants disrupting the C-terminal DIX domain cause craniometadiaphyseal osteosclerosis with hip dysplasia   \n",
       "\n",
       "  individual_id       comment   disease_id  \\\n",
       "0           str  optional str          str   \n",
       "1       F1-II-1           NaN  OMIM:620558   \n",
       "\n",
       "                                            disease_label   transcript  \\\n",
       "0                                                     str          str   \n",
       "1  Craniometadiaphyseal osteosclerosis with hip dysplasia  NM_003502.4   \n",
       "\n",
       "    allele_1   allele_2         variant.comment  ...  \\\n",
       "0        str        str            optional str  ...   \n",
       "1  c.2395dup  c.2395dup  NM_181050.3:c.2395dupG  ...   \n",
       "\n",
       "  Hypoplasia of the corpus callosum Ectopic anterior pituitary gland  \\\n",
       "0                        HP:0002079                       HP:0012731   \n",
       "1                          excluded                         excluded   \n",
       "\n",
       "  Arachnoid cyst Brain atrophy Macrocephaly Relative macrocephaly  \\\n",
       "0     HP:0100702    HP:0012444   HP:0000256            HP:0004482   \n",
       "1       excluded      excluded     observed                    na   \n",
       "\n",
       "  Selective mutism Increased bone mineral density Choanal stenosis  \\\n",
       "0       HP:5200001                     HP:0011001       HP:0000452   \n",
       "1         observed                       observed         observed   \n",
       "\n",
       "   Miscellaneous  \n",
       "0  Miscellaneous  \n",
       "1            NaN  \n",
       "\n",
       "[2 rows x 39 columns]"
      ]
     },
     "execution_count": 3,
     "metadata": {},
     "output_type": "execute_result"
    }
   ],
   "source": [
    "df = pd.read_excel(\"input/AXIN1_individuals.xlsx\")\n",
    "df.head(2)"
   ]
  },
  {
   "cell_type": "code",
   "execution_count": 4,
   "id": "1295daaf-ae6c-4c6e-a327-104fd0e1f075",
   "metadata": {},
   "outputs": [
    {
     "name": "stdout",
     "output_type": "stream",
     "text": [
      "Created encoders for 39 fields\n"
     ]
    }
   ],
   "source": [
    "encoder = CaseTemplateEncoder(df=df, hpo_cr=hpo_cr, created_by=created_by)\n",
    "individuals = encoder.get_individuals()"
   ]
  },
  {
   "cell_type": "code",
   "execution_count": 5,
   "id": "22569a96-e31b-43a2-bbe8-5994e8426d3b",
   "metadata": {},
   "outputs": [],
   "source": [
    "AXIN1_transcript = \"NM_003502.4\"\n",
    "vmanager = VariantManager(df=df,\n",
    "                          individual_column_name=\"individual_id\",\n",
    "                          gene_symbol=\"AXIN1\",\n",
    "                          transcript=AXIN1_transcript,\n",
    "                          allele_1_column_name=\"allele_1\",\n",
    "                          allele_2_column_name=\"allele_2\")"
   ]
  },
  {
   "cell_type": "code",
   "execution_count": 6,
   "id": "8f68d737-e1fb-4efc-ac2a-baf841ac10f3",
   "metadata": {},
   "outputs": [
    {
     "data": {
      "text/html": [
       "<div>\n",
       "<style scoped>\n",
       "    .dataframe tbody tr th:only-of-type {\n",
       "        vertical-align: middle;\n",
       "    }\n",
       "\n",
       "    .dataframe tbody tr th {\n",
       "        vertical-align: top;\n",
       "    }\n",
       "\n",
       "    .dataframe thead th {\n",
       "        text-align: right;\n",
       "    }\n",
       "</style>\n",
       "<table border=\"1\" class=\"dataframe\">\n",
       "  <thead>\n",
       "    <tr style=\"text-align: right;\">\n",
       "      <th></th>\n",
       "      <th>status</th>\n",
       "      <th>count</th>\n",
       "      <th>alleles</th>\n",
       "    </tr>\n",
       "  </thead>\n",
       "  <tbody>\n",
       "    <tr>\n",
       "      <th>0</th>\n",
       "      <td>mapped</td>\n",
       "      <td>3</td>\n",
       "      <td>c.2521C&gt;T, c.2167C&gt;T, c.2395dup</td>\n",
       "    </tr>\n",
       "    <tr>\n",
       "      <th>1</th>\n",
       "      <td>unmapped</td>\n",
       "      <td>0</td>\n",
       "      <td></td>\n",
       "    </tr>\n",
       "  </tbody>\n",
       "</table>\n",
       "</div>"
      ],
      "text/plain": [
       "     status  count                          alleles\n",
       "0    mapped      3  c.2521C>T, c.2167C>T, c.2395dup\n",
       "1  unmapped      0                                 "
      ]
     },
     "execution_count": 6,
     "metadata": {},
     "output_type": "execute_result"
    }
   ],
   "source": [
    "vmanager.to_summary()"
   ]
  },
  {
   "cell_type": "code",
   "execution_count": 7,
   "id": "05b86973-91cf-45ce-b083-e4d812fcc66f",
   "metadata": {},
   "outputs": [],
   "source": [
    "vmanager.add_variants_to_individuals(individuals)"
   ]
  },
  {
   "cell_type": "code",
   "execution_count": 8,
   "id": "a6695b49-6ebc-4427-91d4-9e2c2f265f46",
   "metadata": {},
   "outputs": [
    {
     "data": {
      "text/html": [
       "<h2>Cohort validation</h2>\n",
       "<p>Errors found with 2 of 7 phenopackets.</p>\n",
       "<table style=\"border: 2px solid black; align: \"left\">\n",
       "<caption>Error counts</caption>\n",
       "<tr><th style=\"text-align: left;font-weight: bold;\">Level</th><th style=\"text-align: left;font-weight: bold;\">Error category</th><th style=\"text-align: left;font-weight: bold;\">Count</th></tr>\n",
       "<tr><td style=\"text-align: left;\">ERROR</td><td style=\"text-align: left;\">CONFLICT</td><td style=\"text-align: left;\">2</td></tr>\n",
       "</table>\n",
       "<p>A total of 2 issues were fixed and no individual was removed from the cohort.</p>"
      ],
      "text/plain": [
       "<IPython.core.display.HTML object>"
      ]
     },
     "metadata": {},
     "output_type": "display_data"
    }
   ],
   "source": [
    "cvalidator = CohortValidator(cohort=individuals, ontology=hpo_ontology, min_hpo=1,\n",
    "                                allelic_requirement=AllelicRequirement.BI_ALLELIC)\n",
    "qc = QcVisualizer(cohort_validator=cvalidator)\n",
    "display(HTML(qc.to_summary_html()))"
   ]
  },
  {
   "cell_type": "code",
   "execution_count": 9,
   "id": "0422e11a-eb89-4deb-aafb-41b1b0957f5c",
   "metadata": {},
   "outputs": [
    {
     "data": {
      "text/html": [
       "<table style=\"border: 2px solid black; align: \"left\">\n",
       "<caption>7 phenopackets - PMID:37582359 (n=7)</caption>\n",
       "<tr><th style=\"text-align: left;font-weight: bold;\">Individual</th><th style=\"text-align: left;font-weight: bold;\">Disease</th><th style=\"text-align: left;font-weight: bold;\">Genotype</th><th style=\"text-align: left;font-weight: bold;\">Phenotypic features</th></tr>\n",
       "<tr><td style=\"text-align: left;\">F1-II-1 (FEMALE; P15Y6M)</td><td style=\"text-align: left;\">Craniometadiaphyseal osteosclerosis with hip dysplasia (OMIM:620558)</td><td style=\"text-align: left;\">NM_003502.4:c.2395dup (homozygous)</td><td style=\"text-align: left;\">Hypertelorism (HP:0000316); Depressed nasal bridge (HP:0005280); Hip dysplasia (HP:0001385); Patent ductus arteriosus (HP:0001643); Thickened calvaria (HP:0002684); Sandwich appearance of vertebral bodies (HP:0004618); Thickened cortex of long bones (HP:0000935); Flared metaphysis (HP:0003015); Coarse metaphyseal trabecularization (HP:0100670); Pachygyria (HP:0001302); Macrocephaly (HP:0000256); Selective mutism (HP:5200001); Increased bone mineral density (HP:0011001); Choanal stenosis (HP:0000452); excluded: Global developmental delay (HP:0001263); excluded: Atrial septal defect (HP:0001631); excluded: Ventricular septal defect (HP:0001629); excluded: Cephalohematoma (HP:0012541); excluded: Hypoplasia of the corpus callosum (HP:0002079); excluded: Ectopic anterior pituitary gland (HP:0012731); excluded: Arachnoid cyst (HP:0100702); excluded: Brain atrophy (HP:0012444)</td></tr>\n",
       "<tr><td style=\"text-align: left;\">F1-II-4 (FEMALE; P8Y3M)</td><td style=\"text-align: left;\">Craniometadiaphyseal osteosclerosis with hip dysplasia (OMIM:620558)</td><td style=\"text-align: left;\">NM_003502.4:c.2395dup (homozygous)</td><td style=\"text-align: left;\">Hypertelorism (HP:0000316); Depressed nasal bridge (HP:0005280); Hip dysplasia (HP:0001385); Thickened calvaria (HP:0002684); Sandwich appearance of vertebral bodies (HP:0004618); Thickened cortex of long bones (HP:0000935); Flared metaphysis (HP:0003015); Coarse metaphyseal trabecularization (HP:0100670); Cephalohematoma (HP:0012541); Macrocephaly (HP:0000256); Selective mutism (HP:5200001); Increased bone mineral density (HP:0011001); excluded: Global developmental delay (HP:0001263); excluded: Patent ductus arteriosus (HP:0001643); excluded: Atrial septal defect (HP:0001631); excluded: Ventricular septal defect (HP:0001629); excluded: Pachygyria (HP:0001302); excluded: Hypoplasia of the corpus callosum (HP:0002079); excluded: Ectopic anterior pituitary gland (HP:0012731); excluded: Arachnoid cyst (HP:0100702); excluded: Brain atrophy (HP:0012444); excluded: Choanal stenosis (HP:0000452)</td></tr>\n",
       "<tr><td style=\"text-align: left;\">F2-III-2 (MALE; P7Y1M)</td><td style=\"text-align: left;\">Craniometadiaphyseal osteosclerosis with hip dysplasia (OMIM:620558)</td><td style=\"text-align: left;\">NM_003502.4:c.2167C>T (homozygous)</td><td style=\"text-align: left;\">Global developmental delay (HP:0001263); Hypertelorism (HP:0000316); Depressed nasal bridge (HP:0005280); Atrial septal defect (HP:0001631); Ventricular septal defect (HP:0001629); Sandwich appearance of vertebral bodies (HP:0004618); Coarse metaphyseal trabecularization (HP:0100670); Hypoplasia of the corpus callosum (HP:0002079); Ectopic anterior pituitary gland (HP:0012731); Macrocephaly (HP:0000256); Increased bone mineral density (HP:0011001); excluded: Hip dysplasia (HP:0001385); excluded: Patent ductus arteriosus (HP:0001643); excluded: Pachygyria (HP:0001302); excluded: Cephalohematoma (HP:0012541); excluded: Arachnoid cyst (HP:0100702); excluded: Brain atrophy (HP:0012444); excluded: Selective mutism (HP:5200001); excluded: Choanal stenosis (HP:0000452)</td></tr>\n",
       "<tr><td style=\"text-align: left;\">F3-III-1 (FEMALE; P15Y6M)</td><td style=\"text-align: left;\">Craniometadiaphyseal osteosclerosis with hip dysplasia (OMIM:620558)</td><td style=\"text-align: left;\">NM_003502.4:c.2521C>T (homozygous)</td><td style=\"text-align: left;\">Hypertelorism (HP:0000316); Depressed nasal bridge (HP:0005280); Hip dysplasia (HP:0001385); Thickened calvaria (HP:0002684); Sandwich appearance of vertebral bodies (HP:0004618); Thickened cortex of long bones (HP:0000935); Coarse metaphyseal trabecularization (HP:0100670); Arachnoid cyst (HP:0100702); Macrocephaly (HP:0000256); Increased bone mineral density (HP:0011001); excluded: Global developmental delay (HP:0001263); excluded: Motor delay (HP:0001270); excluded: Patent ductus arteriosus (HP:0001643); excluded: Atrial septal defect (HP:0001631); excluded: Ventricular septal defect (HP:0001629); excluded: Pachygyria (HP:0001302); excluded: Cephalohematoma (HP:0012541); excluded: Hypoplasia of the corpus callosum (HP:0002079); excluded: Ectopic anterior pituitary gland (HP:0012731); excluded: Brain atrophy (HP:0012444); excluded: Selective mutism (HP:5200001); excluded: Choanal stenosis (HP:0000452)</td></tr>\n",
       "<tr><td style=\"text-align: left;\">F4-III-1 (FEMALE; P3Y)</td><td style=\"text-align: left;\">Craniometadiaphyseal osteosclerosis with hip dysplasia (OMIM:620558)</td><td style=\"text-align: left;\">NM_003502.4:c.2167C>T (homozygous)</td><td style=\"text-align: left;\">Global developmental delay (HP:0001263); Hypertelorism (HP:0000316); Depressed nasal bridge (HP:0005280); Hip dysplasia (HP:0001385); Thickened calvaria (HP:0002684); Sandwich appearance of vertebral bodies (HP:0004618); Thickened cortex of long bones (HP:0000935); Coarse metaphyseal trabecularization (HP:0100670); Brain atrophy (HP:0012444); Increased bone mineral density (HP:0011001); Anteverted nares (HP:0000463); Frontal bossing (HP:0002007); Proptosis (HP:0000520); Narrow forehead (HP:0000341); excluded: Patent ductus arteriosus (HP:0001643); excluded: Atrial septal defect (HP:0001631); excluded: Ventricular septal defect (HP:0001629); excluded: Pachygyria (HP:0001302); excluded: Cephalohematoma (HP:0012541); excluded: Hypoplasia of the corpus callosum (HP:0002079); excluded: Ectopic anterior pituitary gland (HP:0012731); excluded: Arachnoid cyst (HP:0100702); excluded: Selective mutism (HP:5200001); excluded: Choanal stenosis (HP:0000452)</td></tr>\n",
       "<tr><td style=\"text-align: left;\">F4-III-3 (FEMALE; P3Y)</td><td style=\"text-align: left;\">Craniometadiaphyseal osteosclerosis with hip dysplasia (OMIM:620558)</td><td style=\"text-align: left;\">NM_003502.4:c.2167C>T (homozygous)</td><td style=\"text-align: left;\">Global developmental delay (HP:0001263); Hypertelorism (HP:0000316); Depressed nasal bridge (HP:0005280); Hip dysplasia (HP:0001385); Thickened calvaria (HP:0002684); Sandwich appearance of vertebral bodies (HP:0004618); Thickened cortex of long bones (HP:0000935); Flared metaphysis (HP:0003015); Coarse metaphyseal trabecularization (HP:0100670); Relative macrocephaly (HP:0004482); Increased bone mineral density (HP:0011001); excluded: Patent ductus arteriosus (HP:0001643); excluded: Atrial septal defect (HP:0001631); excluded: Ventricular septal defect (HP:0001629); excluded: Selective mutism (HP:5200001); excluded: Choanal stenosis (HP:0000452)</td></tr>\n",
       "<tr><td style=\"text-align: left;\">F4-III-4 (MALE; P3M)</td><td style=\"text-align: left;\">Craniometadiaphyseal osteosclerosis with hip dysplasia (OMIM:620558)</td><td style=\"text-align: left;\">NM_003502.4:c.2167C>T (homozygous)</td><td style=\"text-align: left;\">Motor delay (HP:0001270); Hypertelorism (HP:0000316); Depressed nasal bridge (HP:0005280); Atrial septal defect (HP:0001631); Ventricular septal defect (HP:0001629); Relative macrocephaly (HP:0004482); Increased bone mineral density (HP:0011001); excluded: Global developmental delay (HP:0001263); excluded: Patent ductus arteriosus (HP:0001643); excluded: Pachygyria (HP:0001302); excluded: Cephalohematoma (HP:0012541); excluded: Hypoplasia of the corpus callosum (HP:0002079); excluded: Ectopic anterior pituitary gland (HP:0012731); excluded: Arachnoid cyst (HP:0100702); excluded: Brain atrophy (HP:0012444); excluded: Selective mutism (HP:5200001); excluded: Choanal stenosis (HP:0000452)</td></tr>\n",
       "</table>"
      ],
      "text/plain": [
       "<IPython.core.display.HTML object>"
      ]
     },
     "metadata": {},
     "output_type": "display_data"
    }
   ],
   "source": [
    "individuals = cvalidator.get_error_free_individual_list()\n",
    "table = IndividualTable(individuals)\n",
    "display(HTML(table.to_html()))"
   ]
  },
  {
   "cell_type": "code",
   "execution_count": 10,
   "id": "05e4b625-b87c-4f4b-a7bb-775e6866ada5",
   "metadata": {},
   "outputs": [
    {
     "name": "stdout",
     "output_type": "stream",
     "text": [
      "We output 7 GA4GH phenopackets to the directory phenopackets\n"
     ]
    }
   ],
   "source": [
    "encoder.output_individuals_as_phenopackets(individual_list=individuals)"
   ]
  },
  {
   "cell_type": "code",
   "execution_count": 11,
   "id": "cead9e56-497e-456d-9ad2-0ef7bd014bf8",
   "metadata": {},
   "outputs": [
    {
     "name": "stdout",
     "output_type": "stream",
     "text": [
      "[pyphetools] Ingested 7 GA4GH phenopackets.\n"
     ]
    }
   ],
   "source": [
    "ingestor = PhenopacketIngestor(indir=\"phenopackets\")\n",
    "ppkt_d = ingestor.get_phenopacket_dictionary()\n",
    "ppkt_list = list(ppkt_d.values())\n"
   ]
  },
  {
   "cell_type": "code",
   "execution_count": 12,
   "id": "55b50a86-d7a8-418e-a8de-37f20a0895d3",
   "metadata": {},
   "outputs": [],
   "source": [
    "builder = HpoaTableBuilder(phenopacket_list=ppkt_list)"
   ]
  },
  {
   "cell_type": "code",
   "execution_count": 13,
   "id": "06e50cad-c663-48d4-b830-7d471b68e9d5",
   "metadata": {},
   "outputs": [
    {
     "name": "stdout",
     "output_type": "stream",
     "text": [
      "We found a total of 28 unique HPO terms\n",
      "Extracted disease: Craniometadiaphyseal osteosclerosis with hip dysplasia (OMIM:620558)\n"
     ]
    }
   ],
   "source": [
    "PMID = \"PMID:37582359\" # Terhal et al., 2023\n",
    "builder.autosomal_recessive(PMID)\n",
    "hpoa_table_creator = builder.build()\n",
    "df = hpoa_table_creator.get_dataframe()"
   ]
  },
  {
   "cell_type": "code",
   "execution_count": 14,
   "id": "d0e82667-8e03-4770-8dd3-e40da25c51dc",
   "metadata": {},
   "outputs": [
    {
     "name": "stdout",
     "output_type": "stream",
     "text": [
      "Wrote HPOA disease file to OMIM-620558.tab\n"
     ]
    }
   ],
   "source": [
    "hpoa_table_creator.write_data_frame()"
   ]
  }
 ],
 "metadata": {
  "kernelspec": {
   "display_name": "Python 3 (ipykernel)",
   "language": "python",
   "name": "python3"
  },
  "language_info": {
   "codemirror_mode": {
    "name": "ipython",
    "version": 3
   },
   "file_extension": ".py",
   "mimetype": "text/x-python",
   "name": "python",
   "nbconvert_exporter": "python",
   "pygments_lexer": "ipython3",
   "version": "3.8.10"
  }
 },
 "nbformat": 4,
 "nbformat_minor": 5
}
