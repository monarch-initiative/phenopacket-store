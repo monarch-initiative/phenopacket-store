{
 "cells": [
  {
   "cell_type": "markdown",
   "metadata": {},
   "source": [
    "# BRPF1\n",
    "[ intellectual developmental disorder with dysmorphic facies and ptosis (IDDDFP)](https://omim.org/entry/617333#2) is caused by heterozygous mutation in the BRPF1 gene."
   ]
  },
  {
   "cell_type": "code",
   "execution_count": 3,
   "metadata": {},
   "outputs": [
    {
     "name": "stdout",
     "output_type": "stream",
     "text": [
      "Using pyphetools version 0.9.92\n"
     ]
    }
   ],
   "source": [
    "from pyphetools.creation import TemplateImporter\n",
    "from pyphetools.visualization import IndividualTable, QcVisualizer\n",
    "from IPython.display import display, HTML\n",
    "import pyphetools\n",
    "print(f\"Using pyphetools version {pyphetools.__version__}\")"
   ]
  },
  {
   "cell_type": "code",
   "execution_count": 4,
   "metadata": {},
   "outputs": [],
   "source": [
    "template = \"input/BRPF1_IDDDFP_individuals.xlsx\"\n",
    "created_by = \"0000-0002-0736-9199\""
   ]
  },
  {
   "cell_type": "code",
   "execution_count": 8,
   "metadata": {},
   "outputs": [
    {
     "name": "stdout",
     "output_type": "stream",
     "text": [
      "HPO version 2024-07-01\n",
      "Created encoders for 52 fields\n",
      "Importing OMIM:617333, Intellectual developmental disorder with dysmorphic facies and ptosis, HGNC:14255, BRPF1,  NM_001003694.2\n",
      "[INFO] encoding variant \"c.2915dup\"\n",
      "https://rest.variantvalidator.org/VariantValidator/variantvalidator/hg38/NM_001003694.2%3Ac.2915dup/NM_001003694.2?content-type=application%2Fjson\n",
      "[INFO] encoding variant \"c.3298C>T\"\n",
      "https://rest.variantvalidator.org/VariantValidator/variantvalidator/hg38/NM_001003694.2%3Ac.3298C>T/NM_001003694.2?content-type=application%2Fjson\n",
      "[INFO] encoding variant \"c.1363C>T\"\n",
      "https://rest.variantvalidator.org/VariantValidator/variantvalidator/hg38/NM_001003694.2%3Ac.1363C>T/NM_001003694.2?content-type=application%2Fjson\n",
      "[INFO] encoding variant \"c.942_955del\"\n",
      "https://rest.variantvalidator.org/VariantValidator/variantvalidator/hg38/NM_001003694.2%3Ac.942_955del/NM_001003694.2?content-type=application%2Fjson\n",
      "[INFO] encoding variant \"c.1108C>T\"\n",
      "https://rest.variantvalidator.org/VariantValidator/variantvalidator/hg38/NM_001003694.2%3Ac.1108C>T/NM_001003694.2?content-type=application%2Fjson\n",
      "[INFO] encoding variant \"c.2497C>T\"\n",
      "https://rest.variantvalidator.org/VariantValidator/variantvalidator/hg38/NM_001003694.2%3Ac.2497C>T/NM_001003694.2?content-type=application%2Fjson\n",
      "[INFO] encoding variant \"c.362_363del\"\n",
      "https://rest.variantvalidator.org/VariantValidator/variantvalidator/hg38/NM_001003694.2%3Ac.362_363del/NM_001003694.2?content-type=application%2Fjson\n",
      "[INFO] encoding variant \"c.1883_1886dup\"\n",
      "https://rest.variantvalidator.org/VariantValidator/variantvalidator/hg38/NM_001003694.2%3Ac.1883_1886dup/NM_001003694.2?content-type=application%2Fjson\n",
      "[INFO] encoding variant \"c.1688_1689del\"\n",
      "https://rest.variantvalidator.org/VariantValidator/variantvalidator/hg38/NM_001003694.2%3Ac.1688_1689del/NM_001003694.2?content-type=application%2Fjson\n",
      "We output 10 GA4GH phenopackets to the directory phenopackets\n"
     ]
    }
   ],
   "source": [
    "timporter = TemplateImporter(template=template,  created_by=created_by)\n",
    "individual_list, cvalidator = timporter.import_phenopackets_from_template()"
   ]
  },
  {
   "cell_type": "code",
   "execution_count": 9,
   "metadata": {},
   "outputs": [
    {
     "data": {
      "text/html": [
       "<h2>Cohort validation</h2>\n",
       "<p>Errors found with 10 of 10 phenopackets.</p>\n",
       "<table style=\"border: 2px solid black; align: \"left\">\n",
       "<caption>Error counts</caption>\n",
       "<tr><th style=\"text-align: left;font-weight: bold;\">Level</th><th style=\"text-align: left;font-weight: bold;\">Error category</th><th style=\"text-align: left;font-weight: bold;\">Count</th></tr>\n",
       "<tr><td style=\"text-align: left;\">WARNING</td><td style=\"text-align: left;\">REDUNDANT</td><td style=\"text-align: left;\">16</td></tr>\n",
       "</table>\n",
       "<p>A total of 16 issues were fixed and no individual was removed from the cohort.</p>"
      ],
      "text/plain": [
       "<IPython.core.display.HTML object>"
      ]
     },
     "metadata": {},
     "output_type": "display_data"
    }
   ],
   "source": [
    "qc = QcVisualizer(cohort_validator=cvalidator)\n",
    "display(HTML(qc.to_summary_html()))"
   ]
  },
  {
   "cell_type": "code",
   "execution_count": 10,
   "metadata": {},
   "outputs": [
    {
     "data": {
      "text/html": [
       "<table style=\"border: 2px solid black; align: \"left\">\n",
       "<caption>10 phenopackets - PMID:27939640 (n=10)</caption>\n",
       "<tr><th style=\"text-align: left;font-weight: bold;\">Individual</th><th style=\"text-align: left;font-weight: bold;\">Disease</th><th style=\"text-align: left;font-weight: bold;\">Genotype</th><th style=\"text-align: left;font-weight: bold;\">Phenotypic features</th></tr>\n",
       "<tr><td style=\"text-align: left;\">individual P1 (FEMALE; P6Y6M)</td><td style=\"text-align: left;\">Intellectual developmental disorder with dysmorphic facies and ptosis (OMIM:617333)</td><td style=\"text-align: left;\">NM_001003694.2:c.362_363del (heterozygous)</td><td style=\"text-align: left;\">Wide nasal bridge (HP:0000431); Joint hypermobility (HP:0001382); Hypotonia (HP:0001252); Ptosis (HP:0000508); Flat face (HP:0012368); Hypertelorism (HP:0000316); Round face (HP:0000311); Hyperintensity of cerebral white matter on MRI (HP:0030890); Global developmental delay (HP:0001263); Delayed speech and language development (HP:0000750); Delayed fine motor development (HP:0010862); Delayed ability to walk (HP:0031936); excluded: Feeding difficulties (HP:0011968); excluded: Downslanted palpebral fissures (HP:0000494); excluded: Short stature (HP:0004322); excluded: Long philtrum (HP:0000343); excluded: Strabismus (HP:0000486); excluded: Microcephaly (HP:0000252); excluded: Narrow mouth (HP:0000160); excluded: Wide mouth (HP:0000154); excluded: Talipes equinovarus (HP:0001762); excluded: Broad forehead (HP:0000337); excluded: Intrauterine growth retardation (HP:0001511); excluded: Seizure (HP:0001250); excluded: Low-set ears (HP:0000369); excluded: Thin corpus callosum (HP:0033725); excluded: Reduced cerebral white matter volume (HP:0034295); excluded: Downturned corners of mouth (HP:0002714); excluded: Short philtrum (HP:0000322)</td></tr>\n",
       "<tr><td style=\"text-align: left;\">individual P2 (MALE; P13Y3M)</td><td style=\"text-align: left;\">Intellectual developmental disorder with dysmorphic facies and ptosis (OMIM:617333)</td><td style=\"text-align: left;\">NM_001003694.2:c.944_957del (heterozygous)</td><td style=\"text-align: left;\">Feeding difficulties (HP:0011968); Downslanted palpebral fissures (HP:0000494); Wide nasal bridge (HP:0000431); Narrow mouth (HP:0000160); Hypotonia (HP:0001252); Hypertelorism (HP:0000316); Seizure (HP:0001250); Round face (HP:0000311); Thin corpus callosum (HP:0033725); Reduced cerebral white matter volume (HP:0034295); Global developmental delay (HP:0001263); Delayed speech and language development (HP:0000750); Short philtrum (HP:0000322); Delayed fine motor development (HP:0010862); Delayed gross motor development (HP:0002194); excluded: Short stature (HP:0004322); excluded: Long philtrum (HP:0000343); excluded: Joint hypermobility (HP:0001382); excluded: Strabismus (HP:0000486); excluded: Microcephaly (HP:0000252); excluded: Wide mouth (HP:0000154); excluded: Talipes equinovarus (HP:0001762); excluded: Ptosis (HP:0000508); excluded: Blepharophimosis (HP:0000581); excluded: Flat face (HP:0012368); excluded: Broad forehead (HP:0000337); excluded: Intrauterine growth retardation (HP:0001511); excluded: Low-set ears (HP:0000369); excluded: Hyperintensity of cerebral white matter on MRI (HP:0030890); excluded: Downturned corners of mouth (HP:0002714); excluded: Delayed ability to walk (HP:0031936)</td></tr>\n",
       "<tr><td style=\"text-align: left;\">individual P3 (FEMALE; P13Y)</td><td style=\"text-align: left;\">Intellectual developmental disorder with dysmorphic facies and ptosis (OMIM:617333)</td><td style=\"text-align: left;\">NM_001003694.2:c.944_957del (heterozygous)</td><td style=\"text-align: left;\">Wide nasal bridge (HP:0000431); Ptosis (HP:0000508); Blepharophimosis (HP:0000581); Flat face (HP:0012368); Broad forehead (HP:0000337); Hypertelorism (HP:0000316); Seizure (HP:0001250); Round face (HP:0000311); Global developmental delay (HP:0001263); Delayed speech and language development (HP:0000750); Short philtrum (HP:0000322); Delayed fine motor development (HP:0010862); Delayed gross motor development (HP:0002194); excluded: Feeding difficulties (HP:0011968); excluded: Downslanted palpebral fissures (HP:0000494); excluded: Short stature (HP:0004322); excluded: Long philtrum (HP:0000343); excluded: Joint hypermobility (HP:0001382); excluded: Strabismus (HP:0000486); excluded: Microcephaly (HP:0000252); excluded: Narrow mouth (HP:0000160); excluded: Wide mouth (HP:0000154); excluded: Talipes equinovarus (HP:0001762); excluded: Intrauterine growth retardation (HP:0001511); excluded: Low-set ears (HP:0000369); excluded: Thin corpus callosum (HP:0033725); excluded: Reduced cerebral white matter volume (HP:0034295); excluded: Hyperintensity of cerebral white matter on MRI (HP:0030890); excluded: Downturned corners of mouth (HP:0002714); excluded: Intellectual disability (HP:0001249); excluded: Delayed ability to walk (HP:0031936)</td></tr>\n",
       "<tr><td style=\"text-align: left;\">individual P4 (MALE; P11Y2M)</td><td style=\"text-align: left;\">Intellectual developmental disorder with dysmorphic facies and ptosis (OMIM:617333)</td><td style=\"text-align: left;\">NM_001003694.2:c.1108C>T (heterozygous)</td><td style=\"text-align: left;\">Feeding difficulties (HP:0011968); Wide nasal bridge (HP:0000431); Narrow mouth (HP:0000160); Hypotonia (HP:0001252); Blepharophimosis (HP:0000581); Flat face (HP:0012368); Hypertelorism (HP:0000316); Intellectual disability (HP:0001249); Global developmental delay (HP:0001263); Delayed speech and language development (HP:0000750); Delayed gross motor development (HP:0002194); excluded: Downslanted palpebral fissures (HP:0000494); excluded: Short stature (HP:0004322); excluded: Long philtrum (HP:0000343); excluded: Joint hypermobility (HP:0001382); excluded: Strabismus (HP:0000486); excluded: Microcephaly (HP:0000252); excluded: Wide mouth (HP:0000154); excluded: Talipes equinovarus (HP:0001762); excluded: Ptosis (HP:0000508); excluded: Broad forehead (HP:0000337); excluded: Intrauterine growth retardation (HP:0001511); excluded: Seizure (HP:0001250); excluded: Low-set ears (HP:0000369); excluded: Round face (HP:0000311); excluded: Thin corpus callosum (HP:0033725); excluded: Reduced cerebral white matter volume (HP:0034295); excluded: Hyperintensity of cerebral white matter on MRI (HP:0030890); excluded: Downturned corners of mouth (HP:0002714); excluded: Short philtrum (HP:0000322); excluded: Delayed fine motor development (HP:0010862); excluded: Delayed ability to walk (HP:0031936)</td></tr>\n",
       "<tr><td style=\"text-align: left;\">individual P5 (FEMALE; P8Y)</td><td style=\"text-align: left;\">Intellectual developmental disorder with dysmorphic facies and ptosis (OMIM:617333)</td><td style=\"text-align: left;\">NM_001003694.2:c.1363C>T (heterozygous)</td><td style=\"text-align: left;\">Wide nasal bridge (HP:0000431); Joint hypermobility (HP:0001382); Narrow mouth (HP:0000160); Hypotonia (HP:0001252); Ptosis (HP:0000508); Blepharophimosis (HP:0000581); Flat face (HP:0012368); Hypertelorism (HP:0000316); Seizure (HP:0001250); Round face (HP:0000311); Downturned corners of mouth (HP:0002714); Intellectual disability (HP:0001249); Global developmental delay (HP:0001263); Delayed speech and language development (HP:0000750); Delayed fine motor development (HP:0010862); Delayed gross motor development (HP:0002194); excluded: Feeding difficulties (HP:0011968); excluded: Downslanted palpebral fissures (HP:0000494); excluded: Short stature (HP:0004322); excluded: Long philtrum (HP:0000343); excluded: Strabismus (HP:0000486); excluded: Microcephaly (HP:0000252); excluded: Wide mouth (HP:0000154); excluded: Talipes equinovarus (HP:0001762); excluded: Broad forehead (HP:0000337); excluded: Intrauterine growth retardation (HP:0001511); excluded: Low-set ears (HP:0000369); excluded: Thin corpus callosum (HP:0033725); excluded: Reduced cerebral white matter volume (HP:0034295); excluded: Hyperintensity of cerebral white matter on MRI (HP:0030890); excluded: Short philtrum (HP:0000322)</td></tr>\n",
       "<tr><td style=\"text-align: left;\">individual P6 (MALE; P13Y)</td><td style=\"text-align: left;\">Intellectual developmental disorder with dysmorphic facies and ptosis (OMIM:617333)</td><td style=\"text-align: left;\">NM_001003694.2:c.1688_1689del (heterozygous)</td><td style=\"text-align: left;\">Joint hypermobility (HP:0001382); Hypotonia (HP:0001252); Ptosis (HP:0000508); Global developmental delay (HP:0001263); Delayed speech and language development (HP:0000750); Delayed ability to walk (HP:0031936); excluded: Feeding difficulties (HP:0011968); excluded: Downslanted palpebral fissures (HP:0000494); excluded: Short stature (HP:0004322); excluded: Long philtrum (HP:0000343); excluded: Wide nasal bridge (HP:0000431); excluded: Strabismus (HP:0000486); excluded: Microcephaly (HP:0000252); excluded: Narrow mouth (HP:0000160); excluded: Wide mouth (HP:0000154); excluded: Talipes equinovarus (HP:0001762); excluded: Blepharophimosis (HP:0000581); excluded: Flat face (HP:0012368); excluded: Broad forehead (HP:0000337); excluded: Intrauterine growth retardation (HP:0001511); excluded: Hypertelorism (HP:0000316); excluded: Seizure (HP:0001250); excluded: Low-set ears (HP:0000369); excluded: Round face (HP:0000311); excluded: Downturned corners of mouth (HP:0002714); excluded: Intellectual disability (HP:0001249); excluded: Short philtrum (HP:0000322); excluded: Delayed fine motor development (HP:0010862)</td></tr>\n",
       "<tr><td style=\"text-align: left;\">individual P7 (MALE; P15Y)</td><td style=\"text-align: left;\">Intellectual developmental disorder with dysmorphic facies and ptosis (OMIM:617333)</td><td style=\"text-align: left;\">NM_001003694.2:c.1883_1886dup (heterozygous)</td><td style=\"text-align: left;\">Feeding difficulties (HP:0011968); Downslanted palpebral fissures (HP:0000494); Wide nasal bridge (HP:0000431); Joint hypermobility (HP:0001382); Ptosis (HP:0000508); Hypertelorism (HP:0000316); Seizure (HP:0001250); Round face (HP:0000311); Intellectual disability (HP:0001249); Global developmental delay (HP:0001263); Delayed speech and language development (HP:0000750); Delayed ability to walk (HP:0031936); excluded: Short stature (HP:0004322); excluded: Long philtrum (HP:0000343); excluded: Strabismus (HP:0000486); excluded: Microcephaly (HP:0000252); excluded: Narrow mouth (HP:0000160); excluded: Wide mouth (HP:0000154); excluded: Talipes equinovarus (HP:0001762); excluded: Broad forehead (HP:0000337); excluded: Intrauterine growth retardation (HP:0001511); excluded: Low-set ears (HP:0000369); excluded: Downturned corners of mouth (HP:0002714); excluded: Short philtrum (HP:0000322)</td></tr>\n",
       "<tr><td style=\"text-align: left;\">individual P8 (FEMALE; P8Y)</td><td style=\"text-align: left;\">Intellectual developmental disorder with dysmorphic facies and ptosis (OMIM:617333)</td><td style=\"text-align: left;\">NM_001003694.2:c.2497C>T (heterozygous)</td><td style=\"text-align: left;\">Wide nasal bridge (HP:0000431); Joint hypermobility (HP:0001382); Flat face (HP:0012368); Broad forehead (HP:0000337); Hypertelorism (HP:0000316); Low-set ears (HP:0000369); Round face (HP:0000311); Intellectual disability (HP:0001249); Global developmental delay (HP:0001263); Delayed speech and language development (HP:0000750); Delayed fine motor development (HP:0010862); excluded: Feeding difficulties (HP:0011968); excluded: Downslanted palpebral fissures (HP:0000494); excluded: Short stature (HP:0004322); excluded: Long philtrum (HP:0000343); excluded: Strabismus (HP:0000486); excluded: Microcephaly (HP:0000252); excluded: Narrow mouth (HP:0000160); excluded: Wide mouth (HP:0000154); excluded: Hypotonia (HP:0001252); excluded: Talipes equinovarus (HP:0001762); excluded: Ptosis (HP:0000508); excluded: Blepharophimosis (HP:0000581); excluded: Intrauterine growth retardation (HP:0001511); excluded: Seizure (HP:0001250); excluded: Downturned corners of mouth (HP:0002714); excluded: Short philtrum (HP:0000322); excluded: Delayed ability to walk (HP:0031936)</td></tr>\n",
       "<tr><td style=\"text-align: left;\">individual P9 (FEMALE; P17Y)</td><td style=\"text-align: left;\">Intellectual developmental disorder with dysmorphic facies and ptosis (OMIM:617333)</td><td style=\"text-align: left;\">NM_001003694.2:c.2915dup (heterozygous)</td><td style=\"text-align: left;\">Downslanted palpebral fissures (HP:0000494); Wide nasal bridge (HP:0000431); Joint hypermobility (HP:0001382); Wide mouth (HP:0000154); Hypotonia (HP:0001252); Flat face (HP:0012368); Hypertelorism (HP:0000316); Seizure (HP:0001250); Low-set ears (HP:0000369); Reduced cerebral white matter volume (HP:0034295); Intellectual disability (HP:0001249); Global developmental delay (HP:0001263); Delayed speech and language development (HP:0000750); Short philtrum (HP:0000322); Delayed fine motor development (HP:0010862); Delayed ability to walk (HP:0031936); excluded: Feeding difficulties (HP:0011968); excluded: Short stature (HP:0004322); excluded: Long philtrum (HP:0000343); excluded: Strabismus (HP:0000486); excluded: Microcephaly (HP:0000252); excluded: Narrow mouth (HP:0000160); excluded: Talipes equinovarus (HP:0001762); excluded: Ptosis (HP:0000508); excluded: Blepharophimosis (HP:0000581); excluded: Broad forehead (HP:0000337); excluded: Intrauterine growth retardation (HP:0001511); excluded: Round face (HP:0000311); excluded: Thin corpus callosum (HP:0033725); excluded: Hyperintensity of cerebral white matter on MRI (HP:0030890); excluded: Downturned corners of mouth (HP:0002714)</td></tr>\n",
       "<tr><td style=\"text-align: left;\">individual P10 (FEMALE; P12Y)</td><td style=\"text-align: left;\">Intellectual developmental disorder with dysmorphic facies and ptosis (OMIM:617333)</td><td style=\"text-align: left;\">NM_001003694.2:c.3298C>T (heterozygous)</td><td style=\"text-align: left;\">Feeding difficulties (HP:0011968); Downslanted palpebral fissures (HP:0000494); Wide nasal bridge (HP:0000431); Hypotonia (HP:0001252); Ptosis (HP:0000508); Blepharophimosis (HP:0000581); Flat face (HP:0012368); Broad forehead (HP:0000337); Hypertelorism (HP:0000316); Round face (HP:0000311); Intellectual disability (HP:0001249); Global developmental delay (HP:0001263); Delayed speech and language development (HP:0000750); Delayed ability to walk (HP:0031936); excluded: Short stature (HP:0004322); excluded: Long philtrum (HP:0000343); excluded: Joint hypermobility (HP:0001382); excluded: Strabismus (HP:0000486); excluded: Microcephaly (HP:0000252); excluded: Narrow mouth (HP:0000160); excluded: Wide mouth (HP:0000154); excluded: Talipes equinovarus (HP:0001762); excluded: Intrauterine growth retardation (HP:0001511); excluded: Seizure (HP:0001250); excluded: Low-set ears (HP:0000369); excluded: Thin corpus callosum (HP:0033725); excluded: Reduced cerebral white matter volume (HP:0034295); excluded: Hyperintensity of cerebral white matter on MRI (HP:0030890); excluded: Downturned corners of mouth (HP:0002714); excluded: Short philtrum (HP:0000322)</td></tr>\n",
       "</table>"
      ],
      "text/plain": [
       "<IPython.core.display.HTML object>"
      ]
     },
     "metadata": {},
     "output_type": "display_data"
    }
   ],
   "source": [
    "table = IndividualTable(cvalidator.get_error_free_individual_list())\n",
    "display(HTML(table.to_html()))"
   ]
  },
  {
   "cell_type": "code",
   "execution_count": 12,
   "metadata": {},
   "outputs": [
    {
     "name": "stdout",
     "output_type": "stream",
     "text": [
      "[pyphetools] Ingested 10 GA4GH phenopackets.\n",
      "[INFO] Extracted 10 from 10 phenopackets with OMIM:617333\n",
      "\n",
      "\tIntellectual developmental disorder with dysmorphic facies and ptosis (OMIM:617333): n=10\n",
      "We found a total of 32 unique HPO terms\n",
      "Extracted disease: Intellectual developmental disorder with dysmorphic facies and ptosis (OMIM:617333)\n",
      "Wrote HPOA disease file to OMIM-617333.tab\n"
     ]
    }
   ],
   "source": [
    "pmid = \"PMID:27939640\"\n",
    "df = timporter.create_hpoa_from_phenopackets(pmid=pmid, moi=\"Autosomal dominant\", target=\"OMIM:617333\")"
   ]
  }
 ],
 "metadata": {
  "kernelspec": {
   "display_name": "ps24venv",
   "language": "python",
   "name": "python3"
  },
  "language_info": {
   "codemirror_mode": {
    "name": "ipython",
    "version": 3
   },
   "file_extension": ".py",
   "mimetype": "text/x-python",
   "name": "python",
   "nbconvert_exporter": "python",
   "pygments_lexer": "ipython3",
   "version": "3.9.6"
  }
 },
 "nbformat": 4,
 "nbformat_minor": 2
}
