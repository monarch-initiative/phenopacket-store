{
 "cells": [
  {
   "cell_type": "markdown",
   "metadata": {},
   "source": [
    "# CASP2\n",
    "[ autosomal recessive intellectual developmental disorder-80 with variant lissencephaly (MRT80)](https://omim.org/entry/620653) is caused by homozygous or compound heterozygous mutation in the CASP2 gene."
   ]
  },
  {
   "cell_type": "code",
   "execution_count": 4,
   "metadata": {},
   "outputs": [
    {
     "name": "stdout",
     "output_type": "stream",
     "text": [
      "Using pyphetools version 0.9.82\n"
     ]
    }
   ],
   "source": [
    "from pyphetools.creation import TemplateImporter\n",
    "from pyphetools.visualization import IndividualTable, QcVisualizer\n",
    "from IPython.display import display, HTML\n",
    "import pyphetools\n",
    "print(f\"Using pyphetools version {pyphetools.__version__}\")"
   ]
  },
  {
   "cell_type": "code",
   "execution_count": 6,
   "metadata": {},
   "outputs": [],
   "source": [
    "template = \"input/CASP2_MRT80_individuals.xlsx\"\n",
    "created_by = \"0000-0002-0736-9199\""
   ]
  },
  {
   "cell_type": "code",
   "execution_count": 8,
   "metadata": {},
   "outputs": [
    {
     "name": "stdout",
     "output_type": "stream",
     "text": [
      "HPO version 2024-04-26\n",
      "Created encoders for 40 fields\n",
      "Importing OMIM:620653, Intellectual developmental disorder, autosomal recessive 80, with variant lissencephaly, HGNC:1503, CASP2,  NM_032982.4\n",
      "[INFO] encoding variant \"c.130C>T\"\n",
      "https://rest.variantvalidator.org/VariantValidator/variantvalidator/hg38/NM_032982.4%3Ac.130C>T/NM_032982.4?content-type=application%2Fjson\n",
      "[INFO] encoding variant \"c.1156del\"\n",
      "https://rest.variantvalidator.org/VariantValidator/variantvalidator/hg38/NM_032982.4%3Ac.1156del/NM_032982.4?content-type=application%2Fjson\n",
      "[INFO] encoding variant \"c.876+1G>T\"\n",
      "https://rest.variantvalidator.org/VariantValidator/variantvalidator/hg38/NM_032982.4%3Ac.876+1G>T/NM_032982.4?content-type=application%2Fjson\n",
      "[INFO] encoding variant \"c.1174C>T\"\n",
      "https://rest.variantvalidator.org/VariantValidator/variantvalidator/hg38/NM_032982.4%3Ac.1174C>T/NM_032982.4?content-type=application%2Fjson\n",
      "We output 7 GA4GH phenopackets to the directory phenopackets\n"
     ]
    }
   ],
   "source": [
    "timporter = TemplateImporter(template=template,  created_by=created_by)\n",
    "individual_list, cvalidator = timporter.import_phenopackets_from_template()"
   ]
  },
  {
   "cell_type": "code",
   "execution_count": 9,
   "metadata": {},
   "outputs": [
    {
     "data": {
      "text/html": [
       "<h2>Cohort validation</h2>\n",
       "<p>No errors found for the cohort with 7 individuals</p>"
      ],
      "text/plain": [
       "<IPython.core.display.HTML object>"
      ]
     },
     "metadata": {},
     "output_type": "display_data"
    }
   ],
   "source": [
    "qc = QcVisualizer(cohort_validator=cvalidator)\n",
    "display(HTML(qc.to_summary_html()))"
   ]
  },
  {
   "cell_type": "code",
   "execution_count": 10,
   "metadata": {},
   "outputs": [
    {
     "data": {
      "text/html": [
       "<table style=\"border: 2px solid black; align: \"left\">\n",
       "<caption>7 phenopackets - PMID:37880421 (n=7)</caption>\n",
       "<tr><th style=\"text-align: left;font-weight: bold;\">Individual</th><th style=\"text-align: left;font-weight: bold;\">Disease</th><th style=\"text-align: left;font-weight: bold;\">Genotype</th><th style=\"text-align: left;font-weight: bold;\">Phenotypic features</th></tr>\n",
       "<tr><td style=\"text-align: left;\">Family 1 II-3 (FEMALE; P8Y)</td><td style=\"text-align: left;\">Intellectual developmental disorder, autosomal recessive 80, with variant lissencephaly (OMIM:620653)</td><td style=\"text-align: left;\">NM_032982.4:c.1156del (homozygous)</td><td style=\"text-align: left;\"><b>P5Y10M</b>: Attention deficit hyperactivity disorder (HP:0007018)<br/>Delayed speech and language development (HP:0000750); Global developmental delay (HP:0001263); Intellectual disability (HP:0001249); Pachygyria (HP:0001302); Synophrys (HP:0000664); Broad lateral eyebrow (HP:0007933); Upslanted palpebral fissure (HP:0000582); Prominent nasal tip (HP:0005274); Thin upper lip vermilion (HP:0000219); Dimple chin (HP:0010751); Posteriorly rotated ears (HP:0000358); Thin ear helix (HP:0009905); excluded: Autistic behavior (HP:0000729); excluded: Seizure (HP:0001250); excluded: Aggressive behavior (HP:0000718); excluded: Hydrocephalus (HP:0000238); excluded: Spasticity (HP:0001257); excluded: Hypotonia (HP:0001252); excluded: Muscle weakness (HP:0001324); excluded: Optic atrophy (HP:0000648)</td></tr>\n",
       "<tr><td style=\"text-align: left;\">Family 2 II-1 (MALE; P26Y)</td><td style=\"text-align: left;\">Intellectual developmental disorder, autosomal recessive 80, with variant lissencephaly (OMIM:620653)</td><td style=\"text-align: left;\"><ul> <li>NM_032982.4:c.130C>T (heterozygous)</li> <li>NM_032982.4:c.876+1G>T (heterozygous)</li> </ul></td><td style=\"text-align: left;\"><b>P2Y</b>: Developmental regression (HP:0002376)<br/><b>P2Y6M</b>: Hypotonia (HP:0001252)<br/><b>P7Y</b>: Pachygyria (HP:0001302)<br/>Delayed speech and language development (HP:0000750); Global developmental delay (HP:0001263); Intellectual disability (HP:0001249); Autistic behavior (HP:0000729); Hyperreflexia (HP:0001347); Aggressive behavior (HP:0000718); Spasticity (HP:0001257); Muscle weakness (HP:0001324); excluded: Seizure (HP:0001250); excluded: Hydrocephalus (HP:0000238); excluded: Optic atrophy (HP:0000648); excluded: Attention deficit hyperactivity disorder (HP:0007018); excluded: Synophrys (HP:0000664); excluded: Broad lateral eyebrow (HP:0007933); excluded: Upslanted palpebral fissure (HP:0000582); excluded: Prominent nasal tip (HP:0005274); excluded: Thin upper lip vermilion (HP:0000219); excluded: Dimple chin (HP:0010751); excluded: Posteriorly rotated ears (HP:0000358); excluded: Thin ear helix (HP:0009905)</td></tr>\n",
       "<tr><td style=\"text-align: left;\">Family 3 II1 (FEMALE; n/a)</td><td style=\"text-align: left;\">Intellectual developmental disorder, autosomal recessive 80, with variant lissencephaly (OMIM:620653)</td><td style=\"text-align: left;\">NM_032982.4:c.1174C>T (homozygous)</td><td style=\"text-align: left;\">Intellectual disability (HP:0001249)</td></tr>\n",
       "<tr><td style=\"text-align: left;\">Family 3 II-2 (MALE; n/a)</td><td style=\"text-align: left;\">Intellectual developmental disorder, autosomal recessive 80, with variant lissencephaly (OMIM:620653)</td><td style=\"text-align: left;\">NM_032982.4:c.1174C>T (homozygous)</td><td style=\"text-align: left;\">Intellectual disability (HP:0001249)</td></tr>\n",
       "<tr><td style=\"text-align: left;\">Family 4 II-1 (FEMALE; n/a)</td><td style=\"text-align: left;\">Intellectual developmental disorder, autosomal recessive 80, with variant lissencephaly (OMIM:620653)</td><td style=\"text-align: left;\">NM_032982.4:c.1174C>T (homozygous)</td><td style=\"text-align: left;\">Intellectual disability (HP:0001249)</td></tr>\n",
       "<tr><td style=\"text-align: left;\">Family 4 II-2 (MALE; n/a)</td><td style=\"text-align: left;\">Intellectual developmental disorder, autosomal recessive 80, with variant lissencephaly (OMIM:620653)</td><td style=\"text-align: left;\">NM_032982.4:c.1174C>T (homozygous)</td><td style=\"text-align: left;\">Intellectual disability (HP:0001249)</td></tr>\n",
       "<tr><td style=\"text-align: left;\">Family 5 II-1 (MALE; P6Y)</td><td style=\"text-align: left;\">Intellectual developmental disorder, autosomal recessive 80, with variant lissencephaly (OMIM:620653)</td><td style=\"text-align: left;\">NM_032982.4:c.1174C>T (homozygous)</td><td style=\"text-align: left;\">Global developmental delay (HP:0001263); Seizure (HP:0001250); Hydrocephalus (HP:0000238); Pachygyria (HP:0001302); Hypotonia (HP:0001252); Optic atrophy (HP:0000648); excluded: Autistic behavior (HP:0000729); excluded: Aggressive behavior (HP:0000718); excluded: Spasticity (HP:0001257); excluded: Muscle weakness (HP:0001324); excluded: Attention deficit hyperactivity disorder (HP:0007018); excluded: Synophrys (HP:0000664); excluded: Broad lateral eyebrow (HP:0007933); excluded: Upslanted palpebral fissure (HP:0000582); excluded: Prominent nasal tip (HP:0005274); excluded: Thin upper lip vermilion (HP:0000219); excluded: Dimple chin (HP:0010751); excluded: Posteriorly rotated ears (HP:0000358); excluded: Thin ear helix (HP:0009905)</td></tr>\n",
       "</table>"
      ],
      "text/plain": [
       "<IPython.core.display.HTML object>"
      ]
     },
     "metadata": {},
     "output_type": "display_data"
    }
   ],
   "source": [
    "table = IndividualTable(cvalidator.get_error_free_individual_list())\n",
    "display(HTML(table.to_html()))"
   ]
  },
  {
   "cell_type": "code",
   "execution_count": 11,
   "metadata": {},
   "outputs": [
    {
     "name": "stdout",
     "output_type": "stream",
     "text": [
      "[pyphetools] Ingested 7 GA4GH phenopackets.\n",
      "\tIntellectual developmental disorder, autosomal recessive 80, with variant lissencephaly (OMIM:620653): n=7\n",
      "We found a total of 23 unique HPO terms\n",
      "Extracted disease: Intellectual developmental disorder, autosomal recessive 80, with variant lissencephaly (OMIM:620653)\n",
      "Wrote HPOA disease file to OMIM-620653.tab\n"
     ]
    }
   ],
   "source": [
    "pmid = \"PMID:37880421\"\n",
    "df = timporter.create_hpoa_from_phenopackets(pmid=pmid, moi=\"Autosomal recessive\")"
   ]
  }
 ],
 "metadata": {
  "kernelspec": {
   "display_name": "ps24venv",
   "language": "python",
   "name": "python3"
  },
  "language_info": {
   "codemirror_mode": {
    "name": "ipython",
    "version": 3
   },
   "file_extension": ".py",
   "mimetype": "text/x-python",
   "name": "python",
   "nbconvert_exporter": "python",
   "pygments_lexer": "ipython3",
   "version": "3.9.6"
  }
 },
 "nbformat": 4,
 "nbformat_minor": 2
}
