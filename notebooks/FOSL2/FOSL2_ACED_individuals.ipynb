{
 "cells": [
  {
   "cell_type": "markdown",
   "metadata": {},
   "source": [
    "# FOSL2\n",
    "[aplasia cutis-enamel dysplasia syndrome (ACED)](https://omim.org/entry/620789) is caused by heterozygous mutation in the FOSL2 gene."
   ]
  },
  {
   "cell_type": "code",
   "execution_count": 3,
   "metadata": {},
   "outputs": [
    {
     "name": "stdout",
     "output_type": "stream",
     "text": [
      "Using pyphetools version 0.9.94\n"
     ]
    }
   ],
   "source": [
    "from pyphetools.creation import TemplateImporter, Moi\n",
    "from pyphetools.visualization import IndividualTable, QcVisualizer\n",
    "from IPython.display import display, HTML\n",
    "import pyphetools\n",
    "print(f\"Using pyphetools version {pyphetools.__version__}\")"
   ]
  },
  {
   "cell_type": "code",
   "execution_count": 4,
   "metadata": {},
   "outputs": [],
   "source": [
    "template = \"input/FOSL2_ACED_individuals.xlsx\"\n",
    "created_by = \"0000-0002-0736-9199\""
   ]
  },
  {
   "cell_type": "code",
   "execution_count": 9,
   "metadata": {},
   "outputs": [
    {
     "name": "stdout",
     "output_type": "stream",
     "text": [
      "HPO version 2024-07-01\n",
      "Created encoders for 35 fields\n",
      "Importing OMIM:620789, Aplasia cutis-enamel dysplasia syndrome, HGNC:3798, FOSL2,  NM_005253.4\n",
      "[INFO] encoding variant \"c.662_663del\"\n",
      "https://rest.variantvalidator.org/VariantValidator/variantvalidator/hg38/NM_005253.4%3Ac.662_663del/NM_005253.4?content-type=application%2Fjson\n",
      "[INFO] encoding variant \"c.579_589del\"\n",
      "https://rest.variantvalidator.org/VariantValidator/variantvalidator/hg38/NM_005253.4%3Ac.579_589del/NM_005253.4?content-type=application%2Fjson\n",
      "[INFO] encoding variant \"c.667C>T\"\n",
      "https://rest.variantvalidator.org/VariantValidator/variantvalidator/hg38/NM_005253.4%3Ac.667C>T/NM_005253.4?content-type=application%2Fjson\n",
      "[INFO] encoding variant \"c.605del\"\n",
      "https://rest.variantvalidator.org/VariantValidator/variantvalidator/hg38/NM_005253.4%3Ac.605del/NM_005253.4?content-type=application%2Fjson\n",
      "[INFO] encoding variant \"c.619C>T\"\n",
      "https://rest.variantvalidator.org/VariantValidator/variantvalidator/hg38/NM_005253.4%3Ac.619C>T/NM_005253.4?content-type=application%2Fjson\n",
      "[INFO] encoding variant \"c.595C>T\"\n",
      "https://rest.variantvalidator.org/VariantValidator/variantvalidator/hg38/NM_005253.4%3Ac.595C>T/NM_005253.4?content-type=application%2Fjson\n",
      "[INFO] encoding variant \"c.810_811del\"\n",
      "https://rest.variantvalidator.org/VariantValidator/variantvalidator/hg38/NM_005253.4%3Ac.810_811del/NM_005253.4?content-type=application%2Fjson\n",
      "We output 11 GA4GH phenopackets to the directory phenopackets\n"
     ]
    }
   ],
   "source": [
    "timporter = TemplateImporter(template=template,  created_by=created_by)\n",
    "individual_list, cvalidator = timporter.import_phenopackets_from_template()"
   ]
  },
  {
   "cell_type": "code",
   "execution_count": 10,
   "metadata": {},
   "outputs": [
    {
     "data": {
      "text/html": [
       "<h2>Cohort validation</h2>\n",
       "<p>No errors found for the cohort with 11 individuals</p>"
      ],
      "text/plain": [
       "<IPython.core.display.HTML object>"
      ]
     },
     "metadata": {},
     "output_type": "display_data"
    }
   ],
   "source": [
    "qc = QcVisualizer(cohort_validator=cvalidator)\n",
    "display(HTML(qc.to_summary_html()))"
   ]
  },
  {
   "cell_type": "code",
   "execution_count": 11,
   "metadata": {},
   "outputs": [
    {
     "data": {
      "text/html": [
       "<table style=\"border: 2px solid black; align: \"left\">\n",
       "<caption>11 phenopackets - PMID:36197437 (n=11)</caption>\n",
       "<tr><th style=\"text-align: left;font-weight: bold;\">Individual</th><th style=\"text-align: left;font-weight: bold;\">Disease</th><th style=\"text-align: left;font-weight: bold;\">Genotype</th><th style=\"text-align: left;font-weight: bold;\">Phenotypic features</th></tr>\n",
       "<tr><td style=\"text-align: left;\">case 1 (UNKNOWN; n/a)</td><td style=\"text-align: left;\">Aplasia cutis-enamel dysplasia syndrome (OMIM:620789)</td><td style=\"text-align: left;\">NM_005253.4:c.595C>T (heterozygous)</td><td style=\"text-align: left;\">Aplasia cutis congenita of scalp (HP:0007385); Intrauterine growth retardation (HP:0001511); Postnatal growth retardation (HP:0008897); Global developmental delay (HP:0001263); Autistic behavior (HP:0000729); Enamel hypoplasia (HP:0006297); excluded: Cataract (HP:0000518); excluded: Seizure (HP:0001250); excluded: Short corpus callosum (HP:0200012); excluded: Cerebellar vermis hypoplasia (HP:0001320)</td></tr>\n",
       "<tr><td style=\"text-align: left;\">case 2 (UNKNOWN; n/a)</td><td style=\"text-align: left;\">Aplasia cutis-enamel dysplasia syndrome (OMIM:620789)</td><td style=\"text-align: left;\">NM_005253.4:c.595C>T (heterozygous)</td><td style=\"text-align: left;\">Aplasia cutis congenita of scalp (HP:0007385); Seizure (HP:0001250); Intrauterine growth retardation (HP:0001511); Postnatal growth retardation (HP:0008897); Global developmental delay (HP:0001263); Enamel hypoplasia (HP:0006297); excluded: Cataract (HP:0000518); excluded: Autistic behavior (HP:0000729); excluded: Short corpus callosum (HP:0200012); excluded: Cerebellar vermis hypoplasia (HP:0001320)</td></tr>\n",
       "<tr><td style=\"text-align: left;\">case 3 (UNKNOWN; n/a)</td><td style=\"text-align: left;\">Aplasia cutis-enamel dysplasia syndrome (OMIM:620789)</td><td style=\"text-align: left;\">NM_005253.4:c.595C>T (heterozygous)</td><td style=\"text-align: left;\">Aplasia cutis congenita of scalp (HP:0007385); Enamel hypoplasia (HP:0006297); excluded: Cataract (HP:0000518); excluded: Seizure (HP:0001250); excluded: Postnatal growth retardation (HP:0008897); excluded: Global developmental delay (HP:0001263); excluded: Autistic behavior (HP:0000729); excluded: Short corpus callosum (HP:0200012); excluded: Cerebellar vermis hypoplasia (HP:0001320)</td></tr>\n",
       "<tr><td style=\"text-align: left;\">case 4 (UNKNOWN; n/a)</td><td style=\"text-align: left;\">Aplasia cutis-enamel dysplasia syndrome (OMIM:620789)</td><td style=\"text-align: left;\">NM_005253.4:c.619C>T (heterozygous)</td><td style=\"text-align: left;\">Cataract (HP:0000518); Aplasia cutis congenita of scalp (HP:0007385); Intrauterine growth retardation (HP:0001511); Autistic behavior (HP:0000729); Enamel hypoplasia (HP:0006297); excluded: Seizure (HP:0001250); excluded: Postnatal growth retardation (HP:0008897); excluded: Global developmental delay (HP:0001263); excluded: Short corpus callosum (HP:0200012); excluded: Cerebellar vermis hypoplasia (HP:0001320)</td></tr>\n",
       "<tr><td style=\"text-align: left;\">case 5 (UNKNOWN; n/a)</td><td style=\"text-align: left;\">Aplasia cutis-enamel dysplasia syndrome (OMIM:620789)</td><td style=\"text-align: left;\">NM_005253.4:c.619C>T (heterozygous)</td><td style=\"text-align: left;\"><b>P4M</b>: Cataract (HP:0000518)<br/>Aplasia cutis congenita of scalp (HP:0007385); excluded: Intrauterine growth retardation (HP:0001511); excluded: Short corpus callosum (HP:0200012); excluded: Cerebellar vermis hypoplasia (HP:0001320)</td></tr>\n",
       "<tr><td style=\"text-align: left;\">case 6 (UNKNOWN; n/a)</td><td style=\"text-align: left;\">Aplasia cutis-enamel dysplasia syndrome (OMIM:620789)</td><td style=\"text-align: left;\">NM_005253.4:c.579_589del (heterozygous)</td><td style=\"text-align: left;\"><b>P1Y</b>: Cataract (HP:0000518)<br/>Aplasia cutis congenita of scalp (HP:0007385); Postnatal growth retardation (HP:0008897); Global developmental delay (HP:0001263); Autistic behavior (HP:0000729); Enamel hypoplasia (HP:0006297); excluded: Seizure (HP:0001250); excluded: Intrauterine growth retardation (HP:0001511); excluded: Short corpus callosum (HP:0200012); excluded: Cerebellar vermis hypoplasia (HP:0001320)</td></tr>\n",
       "<tr><td style=\"text-align: left;\">case 7 (UNKNOWN; n/a)</td><td style=\"text-align: left;\">Aplasia cutis-enamel dysplasia syndrome (OMIM:620789)</td><td style=\"text-align: left;\">NM_005253.4:c.605del (heterozygous)</td><td style=\"text-align: left;\">Cataract (HP:0000518); Aplasia cutis congenita of scalp (HP:0007385); Intrauterine growth retardation (HP:0001511); Global developmental delay (HP:0001263); Autistic behavior (HP:0000729); Enamel hypoplasia (HP:0006297); excluded: Postnatal growth retardation (HP:0008897); excluded: Short corpus callosum (HP:0200012); excluded: Cerebellar vermis hypoplasia (HP:0001320)</td></tr>\n",
       "<tr><td style=\"text-align: left;\">case 8 (UNKNOWN; n/a)</td><td style=\"text-align: left;\">Aplasia cutis-enamel dysplasia syndrome (OMIM:620789)</td><td style=\"text-align: left;\">NM_005253.4:c.605del (heterozygous)</td><td style=\"text-align: left;\">Cataract (HP:0000518); Aplasia cutis congenita of scalp (HP:0007385); Intrauterine growth retardation (HP:0001511); Postnatal growth retardation (HP:0008897); Global developmental delay (HP:0001263); Autistic behavior (HP:0000729); Enamel hypoplasia (HP:0006297); excluded: Seizure (HP:0001250); excluded: Short corpus callosum (HP:0200012); excluded: Cerebellar vermis hypoplasia (HP:0001320)</td></tr>\n",
       "<tr><td style=\"text-align: left;\">case 9 (UNKNOWN; n/a)</td><td style=\"text-align: left;\">Aplasia cutis-enamel dysplasia syndrome (OMIM:620789)</td><td style=\"text-align: left;\">NM_005253.4:c.662_663del (heterozygous)</td><td style=\"text-align: left;\">Aplasia cutis congenita of scalp (HP:0007385); Seizure (HP:0001250); Intrauterine growth retardation (HP:0001511); Postnatal growth retardation (HP:0008897); Global developmental delay (HP:0001263); Enamel hypoplasia (HP:0006297); Short corpus callosum (HP:0200012); Cerebellar vermis hypoplasia (HP:0001320); excluded: Cataract (HP:0000518); excluded: Autistic behavior (HP:0000729)</td></tr>\n",
       "<tr><td style=\"text-align: left;\">case 10 (UNKNOWN; n/a)</td><td style=\"text-align: left;\">Aplasia cutis-enamel dysplasia syndrome (OMIM:620789)</td><td style=\"text-align: left;\">NM_005253.4:c.667C>T (heterozygous)</td><td style=\"text-align: left;\">Aplasia cutis congenita of scalp (HP:0007385); excluded: Short corpus callosum (HP:0200012); excluded: Cerebellar vermis hypoplasia (HP:0001320)</td></tr>\n",
       "<tr><td style=\"text-align: left;\">case 11 (UNKNOWN; n/a)</td><td style=\"text-align: left;\">Aplasia cutis-enamel dysplasia syndrome (OMIM:620789)</td><td style=\"text-align: left;\">NM_005253.4:c.810_811del (heterozygous)</td><td style=\"text-align: left;\">Global developmental delay (HP:0001263); Autistic behavior (HP:0000729); Enamel hypoplasia (HP:0006297); excluded: Aplasia cutis congenita of scalp (HP:0007385); excluded: Cataract (HP:0000518); excluded: Seizure (HP:0001250); excluded: Intrauterine growth retardation (HP:0001511); excluded: Postnatal growth retardation (HP:0008897); excluded: Short corpus callosum (HP:0200012); excluded: Cerebellar vermis hypoplasia (HP:0001320)</td></tr>\n",
       "</table>"
      ],
      "text/plain": [
       "<IPython.core.display.HTML object>"
      ]
     },
     "metadata": {},
     "output_type": "display_data"
    }
   ],
   "source": [
    "table = IndividualTable(cvalidator.get_error_free_individual_list())\n",
    "display(HTML(table.to_html()))"
   ]
  },
  {
   "cell_type": "code",
   "execution_count": 12,
   "metadata": {},
   "outputs": [
    {
     "name": "stdout",
     "output_type": "stream",
     "text": [
      "[pyphetools] Ingested 11 GA4GH phenopackets.\n",
      "[INFO] Extracted 11 from 11 phenopackets with OMIM:620789\n",
      "\n",
      "\tAplasia cutis-enamel dysplasia syndrome (OMIM:620789): n=11\n",
      "We found a total of 10 unique HPO terms\n",
      "Extracted disease: Aplasia cutis-enamel dysplasia syndrome (OMIM:620789)\n",
      "Wrote HPOA disease file to OMIM-620789.tab\n"
     ]
    }
   ],
   "source": [
    "pmid = \"PMID:36197437\"\n",
    "df = timporter.create_hpoa_from_phenopackets(pmid=pmid, mode_of_inheritance=Moi.AD, target=\"OMIM:620789\")"
   ]
  }
 ],
 "metadata": {
  "kernelspec": {
   "display_name": "ps24venv",
   "language": "python",
   "name": "python3"
  },
  "language_info": {
   "codemirror_mode": {
    "name": "ipython",
    "version": 3
   },
   "file_extension": ".py",
   "mimetype": "text/x-python",
   "name": "python",
   "nbconvert_exporter": "python",
   "pygments_lexer": "ipython3",
   "version": "3.9.6"
  }
 },
 "nbformat": 4,
 "nbformat_minor": 2
}
