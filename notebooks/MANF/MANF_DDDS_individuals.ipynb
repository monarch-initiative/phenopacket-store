{
 "cells": [
  {
   "cell_type": "markdown",
   "id": "6f2a6116-840d-452d-a1ba-847a68e1ef64",
   "metadata": {},
   "source": [
    "# MANF\n",
    "[Diabetes, deafness, developmental delay, and short stature syndrome (DDDS)](https://omim.org/entry/620651) is caused by homozygous mutation in the MANF gene."
   ]
  },
  {
   "cell_type": "code",
   "execution_count": 5,
   "id": "716b6412-6b9b-4245-827b-028847f21a7a",
   "metadata": {},
   "outputs": [
    {
     "name": "stdout",
     "output_type": "stream",
     "text": [
      "Using pyphetools version 0.9.73\n"
     ]
    }
   ],
   "source": [
    "from pyphetools.creation import TemplateImporter\n",
    "from pyphetools.visualization import IndividualTable, QcVisualizer\n",
    "from IPython.display import display, HTML\n",
    "import pyphetools\n",
    "print(f\"Using pyphetools version {pyphetools.__version__}\")"
   ]
  },
  {
   "cell_type": "code",
   "execution_count": 10,
   "id": "3cdacf4f-931d-42f0-b8c1-892730786a3d",
   "metadata": {},
   "outputs": [],
   "source": [
    "template = \"input/MANF_DDDS_individuals.xlsx\"\n",
    "hp_json = \"../hp.json\"\n",
    "created_by = \"0000-0002-0736-9199\""
   ]
  },
  {
   "cell_type": "code",
   "execution_count": 13,
   "id": "313c96e7-0518-4968-8954-fa07c29ec6b8",
   "metadata": {},
   "outputs": [
    {
     "name": "stdout",
     "output_type": "stream",
     "text": [
      "HPO version 2024-03-06\n",
      "Created encoders for 31 fields\n",
      "Importing OMIM:620651, Diabetes, deafness, developmental delay, and short stature syndrome, HGNC:15461, MANF,  NM_006010.6\n",
      "We output 2 GA4GH phenopackets to the directory phenopackets\n"
     ]
    }
   ],
   "source": [
    "timporter = TemplateImporter(template=template, hp_json=hp_json, created_by=created_by)\n",
    "individual_list, cvalidator = timporter.import_phenopackets_from_template()"
   ]
  },
  {
   "cell_type": "code",
   "execution_count": 14,
   "id": "83409ee9-2005-40d8-a505-7b0b536065d8",
   "metadata": {},
   "outputs": [
    {
     "data": {
      "text/html": [
       "<h2>Cohort validation</h2>\n",
       "<p>No errors found for the cohort with 2 individuals</p>"
      ],
      "text/plain": [
       "<IPython.core.display.HTML object>"
      ]
     },
     "metadata": {},
     "output_type": "display_data"
    }
   ],
   "source": [
    "qc = QcVisualizer(cohort_validator=cvalidator)\n",
    "display(HTML(qc.to_summary_html()))"
   ]
  },
  {
   "cell_type": "code",
   "execution_count": 15,
   "id": "20fb91f4-26eb-4ce6-9300-2009ef307369",
   "metadata": {},
   "outputs": [
    {
     "data": {
      "text/html": [
       "<table style=\"border: 2px solid black; align: \"left\">\n",
       "<caption>2 phenopackets - PMID:33500254 (n=2)</caption>\n",
       "<tr><th style=\"text-align: left;font-weight: bold;\">Individual</th><th style=\"text-align: left;font-weight: bold;\">Disease</th><th style=\"text-align: left;font-weight: bold;\">Genotype</th><th style=\"text-align: left;font-weight: bold;\">Phenotypic features</th></tr>\n",
       "<tr><td style=\"text-align: left;\">Case 1 (FEMALE; P14Y)</td><td style=\"text-align: left;\">Diabetes, deafness, developmental delay, and short stature syndrome (OMIM:620651)</td><td style=\"text-align: left;\">NM_006010.6:c.83_94+1del (homozygous)</td><td style=\"text-align: left;\"><b>P10Y</b>: Type II diabetes mellitus (HP:0005978)<br/>Hypopituitarism (HP:0040075); Global developmental delay (HP:0001263); Microcephaly (HP:0000252); Sensorineural hearing impairment (HP:0000407); Alopecia (HP:0001596); Hypergonadotropic hypogonadism (HP:0000815); Short stature (HP:0004322); High myopia (HP:0011003); excluded: Reduced circulating growth hormone concentration (HP:0034323); excluded: Decreased thyroid-stimulating hormone level (HP:0031098); excluded: Decreased circulating luteinizing hormone level (HP:0030344); excluded: Decreased circulating follicle stimulating hormone concentration (HP:0030341); excluded: Scoliosis (HP:0002650)</td></tr>\n",
       "<tr><td style=\"text-align: left;\">Case 2 (FEMALE; P22Y)</td><td style=\"text-align: left;\">Diabetes, deafness, developmental delay, and short stature syndrome (OMIM:620651)</td><td style=\"text-align: left;\">NM_006010.6:c.94+1G>T (homozygous)</td><td style=\"text-align: left;\"><b>P17Y</b>: Type II diabetes mellitus (HP:0005978)<br/>Global developmental delay (HP:0001263); Reduced circulating growth hormone concentration (HP:0034323); Decreased thyroid-stimulating hormone level (HP:0031098); Decreased circulating luteinizing hormone level (HP:0030344); Decreased circulating follicle stimulating hormone concentration (HP:0030341); Microcephaly (HP:0000252); Sensorineural hearing impairment (HP:0000407); Short stature (HP:0004322); Scoliosis (HP:0002650); excluded: Hypopituitarism (HP:0040075); excluded: Alopecia (HP:0001596); excluded: Hypergonadotropic hypogonadism (HP:0000815); excluded: High myopia (HP:0011003)</td></tr>\n",
       "</table>"
      ],
      "text/plain": [
       "<IPython.core.display.HTML object>"
      ]
     },
     "metadata": {},
     "output_type": "display_data"
    }
   ],
   "source": [
    "table = IndividualTable(cvalidator.get_error_free_individual_list())\n",
    "display(HTML(table.to_html()))"
   ]
  },
  {
   "cell_type": "code",
   "execution_count": 16,
   "id": "3291428e-ec9c-47e0-888a-69e18e97db03",
   "metadata": {},
   "outputs": [
    {
     "name": "stdout",
     "output_type": "stream",
     "text": [
      "[pyphetools] Ingested 2 GA4GH phenopackets.\n",
      "\tDiabetes, deafness, developmental delay, and short stature syndrome (OMIM:620651): n=2\n",
      "We found a total of 14 unique HPO terms\n",
      "Extracted disease: Diabetes, deafness, developmental delay, and short stature syndrome (OMIM:620651)\n",
      "Wrote HPOA disease file to OMIM-620651.tab\n"
     ]
    }
   ],
   "source": [
    "pmid = \"PMID:33500254\"\n",
    "df = timporter.create_hpoa_from_phenopackets(pmid=pmid, moi=\"Autosomal recessive\")"
   ]
  },
  {
   "cell_type": "code",
   "execution_count": null,
   "id": "64b5a39a-70d5-4300-bba7-7912a004dd78",
   "metadata": {},
   "outputs": [],
   "source": []
  }
 ],
 "metadata": {
  "kernelspec": {
   "display_name": "Python 3 (ipykernel)",
   "language": "python",
   "name": "python3"
  },
  "language_info": {
   "codemirror_mode": {
    "name": "ipython",
    "version": 3
   },
   "file_extension": ".py",
   "mimetype": "text/x-python",
   "name": "python",
   "nbconvert_exporter": "python",
   "pygments_lexer": "ipython3",
   "version": "3.8.10"
  }
 },
 "nbformat": 4,
 "nbformat_minor": 5
}
