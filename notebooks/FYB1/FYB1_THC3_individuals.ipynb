{
 "cells": [
  {
   "cell_type": "markdown",
   "metadata": {},
   "source": [
    "# FYB1\n",
    "[ thrombocytopenia-3 (THC3)](https://omim.org/entry/273900) is caused by homozygous mutation in the FYB gene (FYB1)."
   ]
  },
  {
   "cell_type": "code",
   "execution_count": 1,
   "metadata": {},
   "outputs": [
    {
     "name": "stdout",
     "output_type": "stream",
     "text": [
      "Using pyphetools version 0.9.82\n"
     ]
    },
    {
     "name": "stderr",
     "output_type": "stream",
     "text": [
      "/Users/robin/GIT/phenopacket-store/ps24venv/lib/python3.9/site-packages/urllib3/__init__.py:35: NotOpenSSLWarning: urllib3 v2 only supports OpenSSL 1.1.1+, currently the 'ssl' module is compiled with 'LibreSSL 2.8.3'. See: https://github.com/urllib3/urllib3/issues/3020\n",
      "  warnings.warn(\n"
     ]
    }
   ],
   "source": [
    "from pyphetools.creation import TemplateImporter\n",
    "from pyphetools.visualization import IndividualTable, QcVisualizer\n",
    "from IPython.display import display, HTML\n",
    "import pyphetools\n",
    "print(f\"Using pyphetools version {pyphetools.__version__}\")"
   ]
  },
  {
   "cell_type": "code",
   "execution_count": 2,
   "metadata": {},
   "outputs": [],
   "source": [
    "template = \"input/FYB1_THC3_individuals.xlsx\"\n",
    "created_by = \"0000-0002-0736-9199\""
   ]
  },
  {
   "cell_type": "code",
   "execution_count": 3,
   "metadata": {},
   "outputs": [
    {
     "name": "stdout",
     "output_type": "stream",
     "text": [
      "HPO version 2024-04-26\n",
      "Created encoders for 28 fields\n",
      "Importing OMIM:273900, Thrombocytopenia 3, HGNC:4036, FYB1,  NM_001465.6\n",
      "We output 8 GA4GH phenopackets to the directory phenopackets\n"
     ]
    }
   ],
   "source": [
    "timporter = TemplateImporter(template=template,  created_by=created_by)\n",
    "individual_list, cvalidator = timporter.import_phenopackets_from_template()"
   ]
  },
  {
   "cell_type": "code",
   "execution_count": 4,
   "metadata": {},
   "outputs": [
    {
     "data": {
      "text/html": [
       "<h2>Cohort validation</h2>\n",
       "<p>No errors found for the cohort with 8 individuals</p>"
      ],
      "text/plain": [
       "<IPython.core.display.HTML object>"
      ]
     },
     "metadata": {},
     "output_type": "display_data"
    }
   ],
   "source": [
    "qc = QcVisualizer(cohort_validator=cvalidator)\n",
    "display(HTML(qc.to_summary_html()))"
   ]
  },
  {
   "cell_type": "code",
   "execution_count": 5,
   "metadata": {},
   "outputs": [
    {
     "data": {
      "text/html": [
       "<table style=\"border: 2px solid black; align: \"left\">\n",
       "<caption>8 phenopackets - PMID:25516138 (n=3); PMID:25876182 (n=5)</caption>\n",
       "<tr><th style=\"text-align: left;font-weight: bold;\">Individual</th><th style=\"text-align: left;font-weight: bold;\">Disease</th><th style=\"text-align: left;font-weight: bold;\">Genotype</th><th style=\"text-align: left;font-weight: bold;\">Phenotypic features</th></tr>\n",
       "<tr><td style=\"text-align: left;\">IV:5 (FEMALE; P6Y6M)</td><td style=\"text-align: left;\">Thrombocytopenia 3 (OMIM:273900)</td><td style=\"text-align: left;\">NM_001465.6:c.1385_1386del (homozygous)</td><td style=\"text-align: left;\"><b>P1Y6M</b>: Thrombocytopenia (HP:0001873); Decreased mean platelet volume (HP:0005537); Petechiae (HP:0000967)<br/>excluded: Epistaxis (HP:0000421); excluded: Megakaryocytopenia (HP:0005548)</td></tr>\n",
       "<tr><td style=\"text-align: left;\">IV:6 (FEMALE; P4Y)</td><td style=\"text-align: left;\">Thrombocytopenia 3 (OMIM:273900)</td><td style=\"text-align: left;\">NM_001465.6:c.1385_1386del (homozygous)</td><td style=\"text-align: left;\"><b>P4Y</b>: Thrombocytopenia (HP:0001873); Decreased mean platelet volume (HP:0005537); Epistaxis (HP:0000421); Petechiae (HP:0000967)<br/>excluded: Megakaryocytopenia (HP:0005548)</td></tr>\n",
       "<tr><td style=\"text-align: left;\">IV:3 (MALE; P5Y)</td><td style=\"text-align: left;\">Thrombocytopenia 3 (OMIM:273900)</td><td style=\"text-align: left;\">NM_001465.6:c.1385_1386del (homozygous)</td><td style=\"text-align: left;\"><b>P5Y</b>: Thrombocytopenia (HP:0001873); Decreased mean platelet volume (HP:0005537); Petechiae (HP:0000967)<br/>excluded: Epistaxis (HP:0000421); excluded: Megakaryocytopenia (HP:0005548)</td></tr>\n",
       "<tr><td style=\"text-align: left;\">Patient VI-1 (FEMALE; P16Y)</td><td style=\"text-align: left;\">Thrombocytopenia 3 (OMIM:273900)</td><td style=\"text-align: left;\">NM_001465.6:c.393G>A (homozygous)</td><td style=\"text-align: left;\"><b>P3M</b>: Thrombocytopenia (HP:0001873); Petechiae (HP:0000967)<br/><b>P13Y</b>: Gingival bleeding (HP:0000225)<br/>Decreased mean platelet volume (HP:0005537); Menorrhagia (HP:0000132); Prolonged bleeding time (HP:0003010); excluded: Epistaxis (HP:0000421); excluded: Spontaneous hematomas (HP:0007420); excluded: Splenomegaly (HP:0001744)</td></tr>\n",
       "<tr><td style=\"text-align: left;\">Patient VI-2 (FEMALE; P13Y)</td><td style=\"text-align: left;\">Thrombocytopenia 3 (OMIM:273900)</td><td style=\"text-align: left;\">NM_001465.6:c.393G>A (homozygous)</td><td style=\"text-align: left;\"><b>P7M</b>: Thrombocytopenia (HP:0001873); Decreased mean platelet volume (HP:0005537); Spontaneous hematomas (HP:0007420)<br/>Menorrhagia (HP:0000132); Prolonged bleeding time (HP:0003010); excluded: Epistaxis (HP:0000421); excluded: Petechiae (HP:0000967); excluded: Gingival bleeding (HP:0000225); excluded: Splenomegaly (HP:0001744)</td></tr>\n",
       "<tr><td style=\"text-align: left;\">Patient VI-3 (MALE; P8Y)</td><td style=\"text-align: left;\">Thrombocytopenia 3 (OMIM:273900)</td><td style=\"text-align: left;\">NM_001465.6:c.393G>A (homozygous)</td><td style=\"text-align: left;\">Abnormal bleeding (HP:0001892); Thrombocytopenia (HP:0001873); Decreased mean platelet volume (HP:0005537); excluded: Epistaxis (HP:0000421); excluded: Petechiae (HP:0000967); excluded: Prolonged bleeding time (HP:0003010); excluded: Gingival bleeding (HP:0000225); excluded: Spontaneous hematomas (HP:0007420); excluded: Splenomegaly (HP:0001744)</td></tr>\n",
       "<tr><td style=\"text-align: left;\">Patient VI-5 (MALE; P4Y)</td><td style=\"text-align: left;\">Thrombocytopenia 3 (OMIM:273900)</td><td style=\"text-align: left;\">NM_001465.6:c.393G>A (homozygous)</td><td style=\"text-align: left;\"><b>P1M</b>: Thrombocytopenia (HP:0001873); Decreased mean platelet volume (HP:0005537)<br/>Abnormal bleeding (HP:0001892); excluded: Epistaxis (HP:0000421); excluded: Petechiae (HP:0000967); excluded: Megakaryocytopenia (HP:0005548); excluded: Gingival bleeding (HP:0000225); excluded: Spontaneous hematomas (HP:0007420); excluded: Splenomegaly (HP:0001744)</td></tr>\n",
       "<tr><td style=\"text-align: left;\">Patient VI-6 (FEMALE; P10M)</td><td style=\"text-align: left;\">Thrombocytopenia 3 (OMIM:273900)</td><td style=\"text-align: left;\">NM_001465.6:c.393G>A (homozygous)</td><td style=\"text-align: left;\"><b>P1M</b>: Thrombocytopenia (HP:0001873); Decreased mean platelet volume (HP:0005537)<br/>excluded: Epistaxis (HP:0000421); excluded: Petechiae (HP:0000967); excluded: Gingival bleeding (HP:0000225); excluded: Spontaneous hematomas (HP:0007420); excluded: Splenomegaly (HP:0001744)</td></tr>\n",
       "</table>"
      ],
      "text/plain": [
       "<IPython.core.display.HTML object>"
      ]
     },
     "metadata": {},
     "output_type": "display_data"
    }
   ],
   "source": [
    "table = IndividualTable(cvalidator.get_error_free_individual_list())\n",
    "display(HTML(table.to_html()))"
   ]
  },
  {
   "cell_type": "code",
   "execution_count": 6,
   "metadata": {},
   "outputs": [
    {
     "name": "stdout",
     "output_type": "stream",
     "text": [
      "[pyphetools] Ingested 8 GA4GH phenopackets.\n",
      "\tThrombocytopenia 3 (OMIM:273900): n=8\n",
      "We found a total of 11 unique HPO terms\n",
      "Extracted disease: Thrombocytopenia 3 (OMIM:273900)\n",
      "Wrote HPOA disease file to OMIM-273900.tab\n"
     ]
    }
   ],
   "source": [
    "pmid = \"PMID:25516138\"\n",
    "df = timporter.create_hpoa_from_phenopackets(pmid=pmid, moi=\"Autosomal recessive\")"
   ]
  },
  {
   "cell_type": "code",
   "execution_count": null,
   "metadata": {},
   "outputs": [],
   "source": []
  }
 ],
 "metadata": {
  "kernelspec": {
   "display_name": "ps24venv",
   "language": "python",
   "name": "python3"
  },
  "language_info": {
   "codemirror_mode": {
    "name": "ipython",
    "version": 3
   },
   "file_extension": ".py",
   "mimetype": "text/x-python",
   "name": "python",
   "nbconvert_exporter": "python",
   "pygments_lexer": "ipython3",
   "version": "3.9.6"
  }
 },
 "nbformat": 4,
 "nbformat_minor": 2
}
