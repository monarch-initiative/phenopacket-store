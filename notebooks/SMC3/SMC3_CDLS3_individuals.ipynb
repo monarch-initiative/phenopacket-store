{
 "cells": [
  {
   "cell_type": "markdown",
   "metadata": {},
   "source": [
    "# SMC3\n",
    "[Cornelia de Lange syndrome-3 with or without midline brain defects (CDLS3)](https://omim.org/entry/610759) is caused by heterozygous mutation in the SMC3 gene.\n"
   ]
  },
  {
   "cell_type": "code",
   "execution_count": 1,
   "metadata": {},
   "outputs": [
    {
     "name": "stdout",
     "output_type": "stream",
     "text": [
      "Using pyphetools version 0.9.84\n"
     ]
    },
    {
     "name": "stderr",
     "output_type": "stream",
     "text": [
      "/Users/robin/GIT/phenopacket-store/ps24venv/lib/python3.9/site-packages/urllib3/__init__.py:35: NotOpenSSLWarning: urllib3 v2 only supports OpenSSL 1.1.1+, currently the 'ssl' module is compiled with 'LibreSSL 2.8.3'. See: https://github.com/urllib3/urllib3/issues/3020\n",
      "  warnings.warn(\n"
     ]
    }
   ],
   "source": [
    "from pyphetools.creation import TemplateImporter\n",
    "from pyphetools.visualization import IndividualTable, QcVisualizer\n",
    "from IPython.display import display, HTML\n",
    "import pyphetools\n",
    "print(f\"Using pyphetools version {pyphetools.__version__}\")"
   ]
  },
  {
   "cell_type": "code",
   "execution_count": 2,
   "metadata": {},
   "outputs": [],
   "source": [
    "template = \"input/SMC3_CDLS3_individuals.xlsx\"\n",
    "created_by = \"0000-0002-0736-9199\""
   ]
  },
  {
   "cell_type": "code",
   "execution_count": 5,
   "metadata": {},
   "outputs": [
    {
     "name": "stdout",
     "output_type": "stream",
     "text": [
      "HPO version 2024-04-26\n",
      "Created encoders for 55 fields\n",
      "Importing OMIM:610759, Cornelia de Lange syndrome 3, HGNC:2468, SMC3,  NM_005445.4\n",
      "[INFO] encoding variant \"c.1464_1466del\"\n",
      "https://rest.variantvalidator.org/VariantValidator/variantvalidator/hg38/NM_005445.4%3Ac.1464_1466del/NM_005445.4?content-type=application%2Fjson\n",
      "We output 3 GA4GH phenopackets to the directory phenopackets\n"
     ]
    }
   ],
   "source": [
    "timporter = TemplateImporter(template=template,  created_by=created_by)\n",
    "individual_list, cvalidator = timporter.import_phenopackets_from_template()"
   ]
  },
  {
   "cell_type": "code",
   "execution_count": 6,
   "metadata": {},
   "outputs": [
    {
     "data": {
      "text/html": [
       "<h2>Cohort validation</h2>\n",
       "<p>Errors found with 3 of 3 phenopackets.</p>\n",
       "<table style=\"border: 2px solid black; align: \"left\">\n",
       "<caption>Error counts</caption>\n",
       "<tr><th style=\"text-align: left;font-weight: bold;\">Level</th><th style=\"text-align: left;font-weight: bold;\">Error category</th><th style=\"text-align: left;font-weight: bold;\">Count</th></tr>\n",
       "<tr><td style=\"text-align: left;\">WARNING</td><td style=\"text-align: left;\">REDUNDANT</td><td style=\"text-align: left;\">3</td></tr>\n",
       "</table>\n",
       "<p>A total of 3 issues were fixed and no individual was removed from the cohort.</p>"
      ],
      "text/plain": [
       "<IPython.core.display.HTML object>"
      ]
     },
     "metadata": {},
     "output_type": "display_data"
    }
   ],
   "source": [
    "qc = QcVisualizer(cohort_validator=cvalidator)\n",
    "display(HTML(qc.to_summary_html()))"
   ]
  },
  {
   "cell_type": "code",
   "execution_count": 7,
   "metadata": {},
   "outputs": [
    {
     "data": {
      "text/html": [
       "<table style=\"border: 2px solid black; align: \"left\">\n",
       "<caption>3 phenopackets - PMID:28781842 (n=2); PMID:17273969 (n=1)</caption>\n",
       "<tr><th style=\"text-align: left;font-weight: bold;\">Individual</th><th style=\"text-align: left;font-weight: bold;\">Disease</th><th style=\"text-align: left;font-weight: bold;\">Genotype</th><th style=\"text-align: left;font-weight: bold;\">Phenotypic features</th></tr>\n",
       "<tr><td style=\"text-align: left;\">patient 1 (FEMALE; P1Y3M)</td><td style=\"text-align: left;\">Cornelia de Lange syndrome 3 (OMIM:610759)</td><td style=\"text-align: left;\">NM_005445.4:c.1433_1435dup (heterozygous)</td><td style=\"text-align: left;\"><b>P7M</b>: Microcephaly (HP:0000252); Failure to thrive (HP:0001508)<br/>Feeding difficulties (HP:0011968); Global developmental delay (HP:0001263); Epicanthus (HP:0000286); High palate (HP:0000218); Low-set ears (HP:0000369); Thick eyebrow (HP:0000574); Downturned corners of mouth (HP:0002714); Depressed nasal bridge (HP:0005280); Anteverted nares (HP:0000463); Highly arched eyebrow (HP:0002553); Retrognathia (HP:0000278); Short neck (HP:0000470); Short chin (HP:0000331); Narrow forehead (HP:0000341); Long eyelashes (HP:0000527); Curly eyelashes (HP:0007665); Dermatochalasis (HP:0010750); Synophrys (HP:0000664); Clinodactyly of the 5th finger (HP:0004209); Short 4th metacarpal (HP:0010044); 2-3 toe syndactyly (HP:0004691); Short 5th finger (HP:0009237); Short 5th metacarpal (HP:0010047); Proximal placement of thumb (HP:0009623); Ptosis (HP:0000508); Delayed gross motor development (HP:0002194); Low anterior hairline (HP:0000294); Patent foramen ovale (HP:0001655); Cutis marmorata (HP:0000965); excluded: Prominent nasal bridge (HP:0000426); excluded: Broad nasal tip (HP:0000455); excluded: Hirsutism (HP:0001007)</td></tr>\n",
       "<tr><td style=\"text-align: left;\">patient 2 (FEMALE; P22Y)</td><td style=\"text-align: left;\">Cornelia de Lange syndrome 3 (OMIM:610759)</td><td style=\"text-align: left;\">NM_005445.4:c.1433_1435dup (heterozygous)</td><td style=\"text-align: left;\">Global developmental delay (HP:0001263); Epicanthus (HP:0000286); Thick eyebrow (HP:0000574); Widely spaced teeth (HP:0000687); Broad nasal tip (HP:0000455); Highly arched eyebrow (HP:0002553); Retrognathia (HP:0000278); Narrow forehead (HP:0000341); Long eyelashes (HP:0000527); Curly eyelashes (HP:0007665); Synophrys (HP:0000664); 2-3 toe syndactyly (HP:0004691); Short 5th finger (HP:0009237); Proximal placement of thumb (HP:0009623); Ptosis (HP:0000508); Hirsutism (HP:0001007); Low anterior hairline (HP:0000294); Cutis marmorata (HP:0000965); excluded: High palate (HP:0000218); excluded: Low-set ears (HP:0000369); excluded: Microcephaly (HP:0000252); excluded: Downturned corners of mouth (HP:0002714); excluded: Depressed nasal bridge (HP:0005280); excluded: Anteverted nares (HP:0000463); excluded: Short neck (HP:0000470); excluded: Short chin (HP:0000331); excluded: Dermatochalasis (HP:0010750); excluded: Abnormal renal morphology (HP:0012210); excluded: Feeding difficulties in infancy (HP:0008872); excluded: Clinodactyly of the 5th finger (HP:0004209); excluded: Short 5th metacarpal (HP:0010047); excluded: Failure to thrive (HP:0001508); excluded: Delayed gross motor development (HP:0002194)</td></tr>\n",
       "<tr><td style=\"text-align: left;\">Patient 2P (MALE; n/a)</td><td style=\"text-align: left;\">Cornelia de Lange syndrome 3 (OMIM:610759)</td><td style=\"text-align: left;\">NM_005445.4:c.1464_1466del (heterozygous)</td><td style=\"text-align: left;\">High palate (HP:0000218); Thin vermilion border (HP:0000233); Prominent nasal bridge (HP:0000426); Highly arched eyebrow (HP:0002553); Long eyelashes (HP:0000527); Synophrys (HP:0000664); Clinodactyly of the 5th finger (HP:0004209); Proximal placement of thumb (HP:0009623); Hirsutism (HP:0001007); excluded: Epicanthus (HP:0000286); excluded: Low-set ears (HP:0000369); excluded: Thick eyebrow (HP:0000574); excluded: Microcephaly (HP:0000252); excluded: Downturned corners of mouth (HP:0002714); excluded: Depressed nasal bridge (HP:0005280); excluded: Broad nasal tip (HP:0000455); excluded: Anteverted nares (HP:0000463); excluded: Retrognathia (HP:0000278); excluded: Short neck (HP:0000470); excluded: Short chin (HP:0000331); excluded: Narrow forehead (HP:0000341); excluded: Dermatochalasis (HP:0010750); excluded: Feeding difficulties in infancy (HP:0008872); excluded: Failure to thrive (HP:0001508); excluded: Ptosis (HP:0000508); excluded: Delayed gross motor development (HP:0002194); excluded: Low anterior hairline (HP:0000294); excluded: Cutis marmorata (HP:0000965)</td></tr>\n",
       "</table>"
      ],
      "text/plain": [
       "<IPython.core.display.HTML object>"
      ]
     },
     "metadata": {},
     "output_type": "display_data"
    }
   ],
   "source": [
    "table = IndividualTable(cvalidator.get_error_free_individual_list())\n",
    "display(HTML(table.to_html()))"
   ]
  },
  {
   "cell_type": "code",
   "execution_count": 8,
   "metadata": {},
   "outputs": [
    {
     "name": "stdout",
     "output_type": "stream",
     "text": [
      "[pyphetools] Ingested 3 GA4GH phenopackets.\n",
      "\tCornelia de Lange syndrome 3 (OMIM:610759): n=3\n",
      "We found a total of 38 unique HPO terms\n",
      "Extracted disease: Cornelia de Lange syndrome 3 (OMIM:610759)\n",
      "Wrote HPOA disease file to OMIM-610759.tab\n"
     ]
    }
   ],
   "source": [
    "pmid = \"PMID:28781842\"\n",
    "df = timporter.create_hpoa_from_phenopackets(pmid=pmid, moi=\"Autosomal dominant\")"
   ]
  }
 ],
 "metadata": {
  "kernelspec": {
   "display_name": "ps24venv",
   "language": "python",
   "name": "python3"
  },
  "language_info": {
   "codemirror_mode": {
    "name": "ipython",
    "version": 3
   },
   "file_extension": ".py",
   "mimetype": "text/x-python",
   "name": "python",
   "nbconvert_exporter": "python",
   "pygments_lexer": "ipython3",
   "version": "3.9.6"
  }
 },
 "nbformat": 4,
 "nbformat_minor": 2
}
