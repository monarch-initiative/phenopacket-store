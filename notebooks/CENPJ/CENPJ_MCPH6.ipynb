{
 "cells": [
  {
   "cell_type": "markdown",
   "id": "3d0c7e18-4fa8-49da-a9f5-4ecc78a03c05",
   "metadata": {},
   "source": [
    "# CENPJ\n",
    "[primary microcephaly-6 (MCPH6)](https://www.omim.org/entry/608393) is caused by homozygous mutation in the gene encoding centromeric protein J (CENPJ)."
   ]
  },
  {
   "cell_type": "code",
   "execution_count": 1,
   "id": "e61349ae-6551-46b6-b021-a593eb3366d9",
   "metadata": {},
   "outputs": [
    {
     "name": "stdout",
     "output_type": "stream",
     "text": [
      "Using pyphetools version 0.9.78\n"
     ]
    },
    {
     "name": "stderr",
     "output_type": "stream",
     "text": [
      "/Users/robin/GIT/phenopacket-store/ps24venv/lib/python3.9/site-packages/urllib3/__init__.py:35: NotOpenSSLWarning: urllib3 v2 only supports OpenSSL 1.1.1+, currently the 'ssl' module is compiled with 'LibreSSL 2.8.3'. See: https://github.com/urllib3/urllib3/issues/3020\n",
      "  warnings.warn(\n"
     ]
    }
   ],
   "source": [
    "from pyphetools.creation import TemplateImporter\n",
    "from pyphetools.visualization import IndividualTable, QcVisualizer\n",
    "from IPython.display import display, HTML\n",
    "import pyphetools\n",
    "print(f\"Using pyphetools version {pyphetools.__version__}\")"
   ]
  },
  {
   "cell_type": "code",
   "execution_count": 2,
   "id": "52ed46cf-5656-4dc2-b990-a1106481bd3c",
   "metadata": {},
   "outputs": [],
   "source": [
    "template = \"input/CENPJ_MCPH6_individuals.xlsx\"\n",
    "hp_json = \"../hp.json\"\n",
    "created_by = \"0000-0002-0736-9199\""
   ]
  },
  {
   "cell_type": "code",
   "execution_count": 3,
   "id": "c5f0e7b6-16c7-4334-ab20-0ecd6bddb7e4",
   "metadata": {},
   "outputs": [
    {
     "name": "stdout",
     "output_type": "stream",
     "text": [
      "HPO version 2024-04-04\n",
      "Created encoders for 21 fields\n",
      "Importing OMIM:608393, Microcephaly 6, primary, autosomal recessive, HGNC:17272, CENPJ,  NM_018451.5\n",
      "We output 3 GA4GH phenopackets to the directory phenopackets\n"
     ]
    }
   ],
   "source": [
    "timporter = TemplateImporter(template=template, hp_json=hp_json, created_by=created_by)\n",
    "individual_list, cvalidator = timporter.import_phenopackets_from_template()"
   ]
  },
  {
   "cell_type": "code",
   "execution_count": 4,
   "id": "a0a1d784-709b-472a-a6c6-810b35b5f4e7",
   "metadata": {},
   "outputs": [
    {
     "data": {
      "text/html": [
       "<h2>Cohort validation</h2>\n",
       "<p>No errors found for the cohort with 3 individuals</p>"
      ],
      "text/plain": [
       "<IPython.core.display.HTML object>"
      ]
     },
     "metadata": {},
     "output_type": "display_data"
    }
   ],
   "source": [
    "qc = QcVisualizer(cohort_validator=cvalidator)\n",
    "display(HTML(qc.to_summary_html()))"
   ]
  },
  {
   "cell_type": "code",
   "execution_count": 5,
   "id": "f39b9844-3a37-41ff-a169-e6494772b108",
   "metadata": {},
   "outputs": [
    {
     "data": {
      "text/html": [
       "<table style=\"border: 2px solid black; align: \"left\">\n",
       "<caption>3 phenopackets - PMID:16900296 (n=3)</caption>\n",
       "<tr><th style=\"text-align: left;font-weight: bold;\">Individual</th><th style=\"text-align: left;font-weight: bold;\">Disease</th><th style=\"text-align: left;font-weight: bold;\">Genotype</th><th style=\"text-align: left;font-weight: bold;\">Phenotypic features</th></tr>\n",
       "<tr><td style=\"text-align: left;\">IV-3 (MALE; P13Y)</td><td style=\"text-align: left;\">Microcephaly 6, primary, autosomal recessive (OMIM:608393)</td><td style=\"text-align: left;\">NM_018451.5:c.3243_3246del (homozygous)</td><td style=\"text-align: left;\">Primary microcephaly (HP:0011451); Intellectual disability (HP:0001249); Sloping forehead (HP:0000340)</td></tr>\n",
       "<tr><td style=\"text-align: left;\">IV-4 (FEMALE; n/a)</td><td style=\"text-align: left;\">Microcephaly 6, primary, autosomal recessive (OMIM:608393)</td><td style=\"text-align: left;\">NM_018451.5:c.3243_3246del (homozygous)</td><td style=\"text-align: left;\">Primary microcephaly (HP:0011451); Intellectual disability (HP:0001249); Sloping forehead (HP:0000340)</td></tr>\n",
       "<tr><td style=\"text-align: left;\">IV-5 (FEMALE; P8Y)</td><td style=\"text-align: left;\">Microcephaly 6, primary, autosomal recessive (OMIM:608393)</td><td style=\"text-align: left;\">NM_018451.5:c.3243_3246del (homozygous)</td><td style=\"text-align: left;\">Primary microcephaly (HP:0011451); Intellectual disability (HP:0001249); Sloping forehead (HP:0000340)</td></tr>\n",
       "</table>"
      ],
      "text/plain": [
       "<IPython.core.display.HTML object>"
      ]
     },
     "metadata": {},
     "output_type": "display_data"
    }
   ],
   "source": [
    "table = IndividualTable(cvalidator.get_error_free_individual_list())\n",
    "display(HTML(table.to_html()))"
   ]
  },
  {
   "cell_type": "code",
   "execution_count": 6,
   "id": "e7822810-0e7d-4d0b-9331-acc9f88fe614",
   "metadata": {},
   "outputs": [
    {
     "name": "stdout",
     "output_type": "stream",
     "text": [
      "[pyphetools] Ingested 3 GA4GH phenopackets.\n",
      "\tMicrocephaly 6, primary, autosomal recessive (OMIM:608393): n=3\n",
      "We found a total of 3 unique HPO terms\n",
      "Extracted disease: Microcephaly 6, primary, autosomal recessive (OMIM:608393)\n",
      "Wrote HPOA disease file to OMIM-608393.tab\n"
     ]
    }
   ],
   "source": [
    "pmid = \"PMID:16900296\"\n",
    "df = timporter.create_hpoa_from_phenopackets(pmid=pmid, moi=\"Autosomal recessive\")"
   ]
  },
  {
   "cell_type": "code",
   "execution_count": null,
   "id": "a4c1484e-b198-48e4-8a7f-50b004b1d8a4",
   "metadata": {},
   "outputs": [],
   "source": []
  }
 ],
 "metadata": {
  "kernelspec": {
   "display_name": "ps24venv",
   "language": "python",
   "name": "ps24venv"
  },
  "language_info": {
   "codemirror_mode": {
    "name": "ipython",
    "version": 3
   },
   "file_extension": ".py",
   "mimetype": "text/x-python",
   "name": "python",
   "nbconvert_exporter": "python",
   "pygments_lexer": "ipython3",
   "version": "3.9.6"
  }
 },
 "nbformat": 4,
 "nbformat_minor": 5
}
