{
 "cells": [
  {
   "cell_type": "markdown",
   "id": "79d87427-f860-40b3-a9d8-8ad9ad714b64",
   "metadata": {},
   "source": [
    "# HNRNPC\n",
    "[Autosomal dominant intellectual developmental disorder-74 (MRD74)](https://omim.org/entry/620688) is caused by heterozygous mutation in the HNRNPC gene."
   ]
  },
  {
   "cell_type": "code",
   "execution_count": 7,
   "id": "c8717b08-da54-4bde-afae-f15c1be81fc4",
   "metadata": {},
   "outputs": [
    {
     "name": "stdout",
     "output_type": "stream",
     "text": [
      "Using pyphetools version 0.9.74\n"
     ]
    }
   ],
   "source": [
    "from pyphetools.creation import TemplateImporter\n",
    "from pyphetools.visualization import IndividualTable, QcVisualizer\n",
    "from IPython.display import display, HTML\n",
    "import pyphetools\n",
    "print(f\"Using pyphetools version {pyphetools.__version__}\")"
   ]
  },
  {
   "cell_type": "code",
   "execution_count": 8,
   "id": "37e1b743-5678-4494-af79-1763cc522f7a",
   "metadata": {},
   "outputs": [],
   "source": [
    "template = \"input/HNRNPC_MRD74_individuals.xlsx\"\n",
    "hp_json = \"../hp.json\"\n",
    "created_by = \"0000-0002-0736-9199\""
   ]
  },
  {
   "cell_type": "code",
   "execution_count": 11,
   "id": "1e7fd355-8c4d-42da-929e-42075bcc8dbb",
   "metadata": {},
   "outputs": [
    {
     "name": "stdout",
     "output_type": "stream",
     "text": [
      "HPO version 2024-03-06\n",
      "Created encoders for 48 fields\n",
      "Importing OMIM:620688, Intellectual developmental disorder, autosomal dominant 74, HGNC:5035, HNRNPC,  NM_004500.4\n",
      "We output 13 GA4GH phenopackets to the directory phenopackets\n"
     ]
    }
   ],
   "source": [
    "dels = {\"NC_000014.9:g.21220392_21352183del(NM_004500.4:c.-82945_366-7272del)\"}\n",
    "timporter = TemplateImporter(template=template, hp_json=hp_json, created_by=created_by)\n",
    "individual_list, cvalidator = timporter.import_phenopackets_from_template(deletions=dels)"
   ]
  },
  {
   "cell_type": "code",
   "execution_count": 12,
   "id": "6a898223-103a-4c96-8686-4a1d0bf927f0",
   "metadata": {},
   "outputs": [
    {
     "data": {
      "text/html": [
       "<h2>Cohort validation</h2>\n",
       "<p>Errors found with 11 of 13 phenopackets.</p>\n",
       "<table style=\"border: 2px solid black; align: \"left\">\n",
       "<caption>Error counts</caption>\n",
       "<tr><th style=\"text-align: left;font-weight: bold;\">Level</th><th style=\"text-align: left;font-weight: bold;\">Error category</th><th style=\"text-align: left;font-weight: bold;\">Count</th></tr>\n",
       "<tr><td style=\"text-align: left;\">ERROR</td><td style=\"text-align: left;\">CONFLICT</td><td style=\"text-align: left;\">3</td></tr>\n",
       "<tr><td style=\"text-align: left;\">WARNING</td><td style=\"text-align: left;\">REDUNDANT</td><td style=\"text-align: left;\">12</td></tr>\n",
       "</table>\n",
       "<p>A total of 15 issues were fixed and no individual was removed from the cohort.</p>"
      ],
      "text/plain": [
       "<IPython.core.display.HTML object>"
      ]
     },
     "metadata": {},
     "output_type": "display_data"
    }
   ],
   "source": [
    "qc = QcVisualizer(cohort_validator=cvalidator)\n",
    "display(HTML(qc.to_summary_html()))"
   ]
  },
  {
   "cell_type": "code",
   "execution_count": 13,
   "id": "3bc07027-4570-4f37-8d8e-4faf48782c2a",
   "metadata": {},
   "outputs": [
    {
     "data": {
      "text/html": [
       "<table style=\"border: 2px solid black; align: \"left\">\n",
       "<caption>13 phenopackets - PMID:37541189 (n=13)</caption>\n",
       "<tr><th style=\"text-align: left;font-weight: bold;\">Individual</th><th style=\"text-align: left;font-weight: bold;\">Disease</th><th style=\"text-align: left;font-weight: bold;\">Genotype</th><th style=\"text-align: left;font-weight: bold;\">Phenotypic features</th></tr>\n",
       "<tr><td style=\"text-align: left;\">Individual 1 (MALE; P12Y)</td><td style=\"text-align: left;\">Intellectual developmental disorder, autosomal dominant 74 (OMIM:620688)</td><td style=\"text-align: left;\">NM_004500.4:c.850_876del (heterozygous)</td><td style=\"text-align: left;\">Brachycephaly (HP:0000248); Thin upper lip vermilion (HP:0000219); Smooth philtrum (HP:0000319); Deeply set eye (HP:0000490); Hypotelorism (HP:0000601); Delayed speech and language development (HP:0000750); Happy demeanor (HP:0040082); Sleep abnormality (HP:0002360); Diminished ability to concentrate (HP:0031987); Global developmental delay (HP:0001263); Intellectual disability, mild (HP:0001256); Delayed gross motor development (HP:0002194); Delayed fine motor development (HP:0010862); Feeding difficulties (HP:0011968); excluded: Prominent nose (HP:0000448); excluded: Microcephaly (HP:0000252); excluded: Round face (HP:0000311); excluded: Hypertelorism (HP:0000316); excluded: Downslanted palpebral fissures (HP:0000494); excluded: Typical absence seizure (HP:0011147); excluded: Bilateral tonic-clonic seizure (HP:0002069); excluded: Delayed ability to walk (HP:0031936); excluded: Absent speech (HP:0001344); excluded: Obstructive sleep apnea (HP:0002870); excluded: Motor tics (HP:0100034); excluded: Hypotonia (HP:0001252); excluded: Hypertonia (HP:0001276); excluded: Intrauterine growth retardation (HP:0001511); excluded: Delayed CNS myelination (HP:0002188)</td></tr>\n",
       "<tr><td style=\"text-align: left;\">Individual 2 (FEMALE; P5Y)</td><td style=\"text-align: left;\">Intellectual developmental disorder, autosomal dominant 74 (OMIM:620688)</td><td style=\"text-align: left;\">NM_004500.4:c.850_876del (heterozygous)</td><td style=\"text-align: left;\">Microcephaly (HP:0000252); Thin upper lip vermilion (HP:0000219); Smooth philtrum (HP:0000319); Delayed ability to walk (HP:0031936); Delayed speech and language development (HP:0000750); Happy demeanor (HP:0040082); Sleep abnormality (HP:0002360); Diminished ability to concentrate (HP:0031987); Motor tics (HP:0100034); Global developmental delay (HP:0001263); Delayed fine motor development (HP:0010862); Hypotonia (HP:0001252); Feeding difficulties (HP:0011968); excluded: Brachycephaly (HP:0000248); excluded: Prominent nose (HP:0000448); excluded: Round face (HP:0000311); excluded: Deeply set eye (HP:0000490); excluded: Hypotelorism (HP:0000601); excluded: Hypertelorism (HP:0000316); excluded: Downslanted palpebral fissures (HP:0000494); excluded: Typical absence seizure (HP:0011147); excluded: Bilateral tonic-clonic seizure (HP:0002069); excluded: Absent speech (HP:0001344); excluded: Obstructive sleep apnea (HP:0002870); excluded: Hypertonia (HP:0001276); excluded: Intrauterine growth retardation (HP:0001511); excluded: Delayed CNS myelination (HP:0002188)</td></tr>\n",
       "<tr><td style=\"text-align: left;\">Individual 3 (FEMALE; P7Y)</td><td style=\"text-align: left;\">Intellectual developmental disorder, autosomal dominant 74 (OMIM:620688)</td><td style=\"text-align: left;\">NM_004500.4:c.850_876del (heterozygous)</td><td style=\"text-align: left;\">Microcephaly (HP:0000252); Smooth philtrum (HP:0000319); Delayed ability to walk (HP:0031936); Delayed speech and language development (HP:0000750); Sleep abnormality (HP:0002360); Global developmental delay (HP:0001263); Delayed fine motor development (HP:0010862); Hypertonia (HP:0001276); Feeding difficulties (HP:0011968); excluded: Brachycephaly (HP:0000248); excluded: Prominent nose (HP:0000448); excluded: Thin upper lip vermilion (HP:0000219); excluded: Round face (HP:0000311); excluded: Deeply set eye (HP:0000490); excluded: Hypotelorism (HP:0000601); excluded: Hypertelorism (HP:0000316); excluded: Downslanted palpebral fissures (HP:0000494); excluded: Typical absence seizure (HP:0011147); excluded: Bilateral tonic-clonic seizure (HP:0002069); excluded: Absent speech (HP:0001344); excluded: Happy demeanor (HP:0040082); excluded: Obstructive sleep apnea (HP:0002870); excluded: Diminished ability to concentrate (HP:0031987); excluded: Motor tics (HP:0100034); excluded: Hypotonia (HP:0001252); excluded: Intrauterine growth retardation (HP:0001511); excluded: Delayed CNS myelination (HP:0002188)</td></tr>\n",
       "<tr><td style=\"text-align: left;\">Individual 4 (FEMALE; P4Y)</td><td style=\"text-align: left;\">Intellectual developmental disorder, autosomal dominant 74 (OMIM:620688)</td><td style=\"text-align: left;\">NM_004500.4:c.850_876del (heterozygous)</td><td style=\"text-align: left;\">Thin upper lip vermilion (HP:0000219); Deeply set eye (HP:0000490); Delayed speech and language development (HP:0000750); Diminished ability to concentrate (HP:0031987); Motor tics (HP:0100034); Global developmental delay (HP:0001263); Delayed gross motor development (HP:0002194); Delayed fine motor development (HP:0010862); Hypotonia (HP:0001252); Feeding difficulties (HP:0011968); excluded: Brachycephaly (HP:0000248); excluded: Prominent nose (HP:0000448); excluded: Microcephaly (HP:0000252); excluded: Smooth philtrum (HP:0000319); excluded: Round face (HP:0000311); excluded: Hypotelorism (HP:0000601); excluded: Hypertelorism (HP:0000316); excluded: Downslanted palpebral fissures (HP:0000494); excluded: Typical absence seizure (HP:0011147); excluded: Bilateral tonic-clonic seizure (HP:0002069); excluded: Delayed ability to walk (HP:0031936); excluded: Absent speech (HP:0001344); excluded: Happy demeanor (HP:0040082); excluded: Obstructive sleep apnea (HP:0002870); excluded: Hypertonia (HP:0001276); excluded: Intrauterine growth retardation (HP:0001511)</td></tr>\n",
       "<tr><td style=\"text-align: left;\">Individual 5 (FEMALE; P11Y)</td><td style=\"text-align: left;\">Intellectual developmental disorder, autosomal dominant 74 (OMIM:620688)</td><td style=\"text-align: left;\">NM_004500.4:c.850_876del (heterozygous)</td><td style=\"text-align: left;\">Prominent nose (HP:0000448); Thin upper lip vermilion (HP:0000219); Deeply set eye (HP:0000490); Sleep abnormality (HP:0002360); Global developmental delay (HP:0001263); Intellectual disability, mild (HP:0001256); Delayed gross motor development (HP:0002194); Delayed fine motor development (HP:0010862); Hypotonia (HP:0001252); excluded: Brachycephaly (HP:0000248); excluded: Microcephaly (HP:0000252); excluded: Smooth philtrum (HP:0000319); excluded: Round face (HP:0000311); excluded: Hypotelorism (HP:0000601); excluded: Hypertelorism (HP:0000316); excluded: Downslanted palpebral fissures (HP:0000494); excluded: Typical absence seizure (HP:0011147); excluded: Bilateral tonic-clonic seizure (HP:0002069); excluded: Delayed ability to walk (HP:0031936); excluded: Absent speech (HP:0001344); excluded: Happy demeanor (HP:0040082); excluded: Obstructive sleep apnea (HP:0002870); excluded: Diminished ability to concentrate (HP:0031987); excluded: Motor tics (HP:0100034); excluded: Hypertonia (HP:0001276); excluded: Feeding difficulties (HP:0011968); excluded: Intrauterine growth retardation (HP:0001511); excluded: Delayed CNS myelination (HP:0002188)</td></tr>\n",
       "<tr><td style=\"text-align: left;\">Individual 6  (MALE; P4Y)</td><td style=\"text-align: left;\">Intellectual developmental disorder, autosomal dominant 74 (OMIM:620688)</td><td style=\"text-align: left;\">NM_004500.4:c.54_55del (heterozygous)</td><td style=\"text-align: left;\">Thin upper lip vermilion (HP:0000219); Smooth philtrum (HP:0000319); Round face (HP:0000311); Deeply set eye (HP:0000490); Downslanted palpebral fissures (HP:0000494); Delayed ability to walk (HP:0031936); Delayed speech and language development (HP:0000750); Happy demeanor (HP:0040082); Obstructive sleep apnea (HP:0002870); Global developmental delay (HP:0001263); Intellectual disability, moderate (HP:0002342); Delayed fine motor development (HP:0010862); Hypotonia (HP:0001252); Feeding difficulties (HP:0011968); excluded: Brachycephaly (HP:0000248); excluded: Prominent nose (HP:0000448); excluded: Microcephaly (HP:0000252); excluded: Hypotelorism (HP:0000601); excluded: Hypertelorism (HP:0000316); excluded: Typical absence seizure (HP:0011147); excluded: Bilateral tonic-clonic seizure (HP:0002069); excluded: Absent speech (HP:0001344); excluded: Diminished ability to concentrate (HP:0031987); excluded: Motor tics (HP:0100034); excluded: Hypertonia (HP:0001276); excluded: Intrauterine growth retardation (HP:0001511)</td></tr>\n",
       "<tr><td style=\"text-align: left;\">Individual 7 (FEMALE; P1Y5M)</td><td style=\"text-align: left;\">Intellectual developmental disorder, autosomal dominant 74 (OMIM:620688)</td><td style=\"text-align: left;\">NM_004500.4:c.825dup (heterozygous)</td><td style=\"text-align: left;\">Thin upper lip vermilion (HP:0000219); Smooth philtrum (HP:0000319); Round face (HP:0000311); Deeply set eye (HP:0000490); Hypertelorism (HP:0000316); Delayed ability to walk (HP:0031936); Absent speech (HP:0001344); Obstructive sleep apnea (HP:0002870); Global developmental delay (HP:0001263); Delayed fine motor development (HP:0010862); Hypotonia (HP:0001252); Feeding difficulties (HP:0011968); excluded: Brachycephaly (HP:0000248); excluded: Prominent nose (HP:0000448); excluded: Microcephaly (HP:0000252); excluded: Hypotelorism (HP:0000601); excluded: Downslanted palpebral fissures (HP:0000494); excluded: Typical absence seizure (HP:0011147); excluded: Bilateral tonic-clonic seizure (HP:0002069); excluded: Happy demeanor (HP:0040082); excluded: Diminished ability to concentrate (HP:0031987); excluded: Motor tics (HP:0100034); excluded: Hypertonia (HP:0001276); excluded: Intrauterine growth retardation (HP:0001511); excluded: Delayed CNS myelination (HP:0002188)</td></tr>\n",
       "<tr><td style=\"text-align: left;\">Individual 8 (MALE; P7Y)</td><td style=\"text-align: left;\">Intellectual developmental disorder, autosomal dominant 74 (OMIM:620688)</td><td style=\"text-align: left;\">NM_004500.4:c.754del (heterozygous)</td><td style=\"text-align: left;\">Brachycephaly (HP:0000248); Hypertelorism (HP:0000316); Downslanted palpebral fissures (HP:0000494); Typical absence seizure (HP:0011147); Bilateral tonic-clonic seizure (HP:0002069); Delayed ability to walk (HP:0031936); Absent speech (HP:0001344); Happy demeanor (HP:0040082); Obstructive sleep apnea (HP:0002870); Global developmental delay (HP:0001263); Intellectual disability, severe (HP:0010864); Delayed fine motor development (HP:0010862); Hypotonia (HP:0001252); Feeding difficulties (HP:0011968); Intrauterine growth retardation (HP:0001511); Delayed CNS myelination (HP:0002188); excluded: Prominent nose (HP:0000448); excluded: Microcephaly (HP:0000252); excluded: Thin upper lip vermilion (HP:0000219); excluded: Smooth philtrum (HP:0000319); excluded: Round face (HP:0000311); excluded: Deeply set eye (HP:0000490); excluded: Hypotelorism (HP:0000601); excluded: Diminished ability to concentrate (HP:0031987); excluded: Motor tics (HP:0100034); excluded: Hypertonia (HP:0001276)</td></tr>\n",
       "<tr><td style=\"text-align: left;\">Individual 9 (MALE; P6Y)</td><td style=\"text-align: left;\">Intellectual developmental disorder, autosomal dominant 74 (OMIM:620688)</td><td style=\"text-align: left;\">NM_004500.4:c.724_730del (heterozygous)</td><td style=\"text-align: left;\">Microcephaly (HP:0000252); Global developmental delay (HP:0001263); excluded: Brachycephaly (HP:0000248); excluded: Prominent nose (HP:0000448); excluded: Thin upper lip vermilion (HP:0000219); excluded: Smooth philtrum (HP:0000319); excluded: Round face (HP:0000311); excluded: Deeply set eye (HP:0000490); excluded: Hypotelorism (HP:0000601); excluded: Hypertelorism (HP:0000316); excluded: Downslanted palpebral fissures (HP:0000494); excluded: Typical absence seizure (HP:0011147); excluded: Bilateral tonic-clonic seizure (HP:0002069); excluded: Diminished ability to concentrate (HP:0031987); excluded: Motor tics (HP:0100034)</td></tr>\n",
       "<tr><td style=\"text-align: left;\">Individual 10 (MALE; P15Y)</td><td style=\"text-align: left;\">Intellectual developmental disorder, autosomal dominant 74 (OMIM:620688)</td><td style=\"text-align: left;\">NC_000014.9:g.21220392_21352183del(NM_004500.4:c.-82945_366-7272del): chromosomal_deletion (SO:1000029)</td><td style=\"text-align: left;\">Thin upper lip vermilion (HP:0000219); Delayed ability to walk (HP:0031936); Delayed speech and language development (HP:0000750); Happy demeanor (HP:0040082); Sleep abnormality (HP:0002360); Diminished ability to concentrate (HP:0031987); Global developmental delay (HP:0001263); Intellectual disability, mild (HP:0001256); Delayed fine motor development (HP:0010862); Feeding difficulties (HP:0011968); excluded: Brachycephaly (HP:0000248); excluded: Prominent nose (HP:0000448); excluded: Microcephaly (HP:0000252); excluded: Smooth philtrum (HP:0000319); excluded: Round face (HP:0000311); excluded: Deeply set eye (HP:0000490); excluded: Hypotelorism (HP:0000601); excluded: Hypertelorism (HP:0000316); excluded: Downslanted palpebral fissures (HP:0000494); excluded: Typical absence seizure (HP:0011147); excluded: Bilateral tonic-clonic seizure (HP:0002069); excluded: Absent speech (HP:0001344); excluded: Obstructive sleep apnea (HP:0002870); excluded: Motor tics (HP:0100034); excluded: Hypotonia (HP:0001252); excluded: Hypertonia (HP:0001276); excluded: Intrauterine growth retardation (HP:0001511); excluded: Delayed CNS myelination (HP:0002188)</td></tr>\n",
       "<tr><td style=\"text-align: left;\">Individual 11 (FEMALE; P4Y5M)</td><td style=\"text-align: left;\">Intellectual developmental disorder, autosomal dominant 74 (OMIM:620688)</td><td style=\"text-align: left;\">NM_004500.4:c.296G>A (heterozygous)</td><td style=\"text-align: left;\">Thin upper lip vermilion (HP:0000219); Smooth philtrum (HP:0000319); Deeply set eye (HP:0000490); Delayed ability to walk (HP:0031936); Delayed speech and language development (HP:0000750); Global developmental delay (HP:0001263); Intellectual disability, mild (HP:0001256); excluded: Brachycephaly (HP:0000248); excluded: Prominent nose (HP:0000448); excluded: Microcephaly (HP:0000252); excluded: Round face (HP:0000311); excluded: Hypotelorism (HP:0000601); excluded: Hypertelorism (HP:0000316); excluded: Downslanted palpebral fissures (HP:0000494); excluded: Typical absence seizure (HP:0011147); excluded: Bilateral tonic-clonic seizure (HP:0002069); excluded: Absent speech (HP:0001344); excluded: Happy demeanor (HP:0040082); excluded: Obstructive sleep apnea (HP:0002870); excluded: Diminished ability to concentrate (HP:0031987); excluded: Motor tics (HP:0100034); excluded: Delayed fine motor development (HP:0010862); excluded: Hypotonia (HP:0001252); excluded: Hypertonia (HP:0001276); excluded: Feeding difficulties (HP:0011968); excluded: Intrauterine growth retardation (HP:0001511); excluded: Delayed CNS myelination (HP:0002188)</td></tr>\n",
       "<tr><td style=\"text-align: left;\">Individual 12  (MALE; P4Y)</td><td style=\"text-align: left;\">Intellectual developmental disorder, autosomal dominant 74 (OMIM:620688)</td><td style=\"text-align: left;\">NM_004500.4:c.317+5G>A (heterozygous)</td><td style=\"text-align: left;\">Thin upper lip vermilion (HP:0000219); Deeply set eye (HP:0000490); Bilateral tonic-clonic seizure (HP:0002069); Delayed ability to walk (HP:0031936); Absent speech (HP:0001344); Happy demeanor (HP:0040082); Sleep abnormality (HP:0002360); Global developmental delay (HP:0001263); Intellectual disability, severe (HP:0010864); Delayed fine motor development (HP:0010862); Hypotonia (HP:0001252); Feeding difficulties (HP:0011968); excluded: Brachycephaly (HP:0000248); excluded: Prominent nose (HP:0000448); excluded: Microcephaly (HP:0000252); excluded: Smooth philtrum (HP:0000319); excluded: Round face (HP:0000311); excluded: Hypotelorism (HP:0000601); excluded: Hypertelorism (HP:0000316); excluded: Downslanted palpebral fissures (HP:0000494); excluded: Typical absence seizure (HP:0011147); excluded: Obstructive sleep apnea (HP:0002870); excluded: Diminished ability to concentrate (HP:0031987); excluded: Hypertonia (HP:0001276); excluded: Intrauterine growth retardation (HP:0001511); excluded: Delayed CNS myelination (HP:0002188)</td></tr>\n",
       "<tr><td style=\"text-align: left;\">Individual 13 (MALE; P12Y9M)</td><td style=\"text-align: left;\">Intellectual developmental disorder, autosomal dominant 74 (OMIM:620688)</td><td style=\"text-align: left;\">NM_004500.4:c.190C>T (heterozygous)</td><td style=\"text-align: left;\">Thin upper lip vermilion (HP:0000219); Delayed speech and language development (HP:0000750); Happy demeanor (HP:0040082); Diminished ability to concentrate (HP:0031987); Global developmental delay (HP:0001263); Intellectual disability, moderate (HP:0002342); Delayed gross motor development (HP:0002194); Delayed fine motor development (HP:0010862); excluded: Brachycephaly (HP:0000248); excluded: Prominent nose (HP:0000448); excluded: Microcephaly (HP:0000252); excluded: Smooth philtrum (HP:0000319); excluded: Round face (HP:0000311); excluded: Deeply set eye (HP:0000490); excluded: Hypotelorism (HP:0000601); excluded: Hypertelorism (HP:0000316); excluded: Downslanted palpebral fissures (HP:0000494); excluded: Typical absence seizure (HP:0011147); excluded: Bilateral tonic-clonic seizure (HP:0002069); excluded: Delayed ability to walk (HP:0031936); excluded: Obstructive sleep apnea (HP:0002870); excluded: Motor tics (HP:0100034); excluded: Hypotonia (HP:0001252); excluded: Hypertonia (HP:0001276); excluded: Feeding difficulties (HP:0011968); excluded: Intrauterine growth retardation (HP:0001511); excluded: Delayed CNS myelination (HP:0002188)</td></tr>\n",
       "</table>"
      ],
      "text/plain": [
       "<IPython.core.display.HTML object>"
      ]
     },
     "metadata": {},
     "output_type": "display_data"
    }
   ],
   "source": [
    "table = IndividualTable(cvalidator.get_error_free_individual_list())\n",
    "display(HTML(table.to_html()))"
   ]
  },
  {
   "cell_type": "code",
   "execution_count": 14,
   "id": "d4a94af9-ffbd-4de5-9971-4753c755dae3",
   "metadata": {},
   "outputs": [
    {
     "name": "stdout",
     "output_type": "stream",
     "text": [
      "[pyphetools] Ingested 13 GA4GH phenopackets.\n",
      "\tIntellectual developmental disorder, autosomal dominant 74 (OMIM:620688): n=13\n",
      "We found a total of 31 unique HPO terms\n",
      "Extracted disease: Intellectual developmental disorder, autosomal dominant 74 (OMIM:620688)\n",
      "Wrote HPOA disease file to OMIM-620688.tab\n"
     ]
    }
   ],
   "source": [
    "PMID=\"PMID:37541189\"\n",
    "df = timporter.create_hpoa_from_phenopackets(pmid=PMID, moi=\"Autosomal dominant\")"
   ]
  },
  {
   "cell_type": "code",
   "execution_count": null,
   "id": "70b20ab8-7392-42eb-a3dc-d60cc1aea25a",
   "metadata": {},
   "outputs": [],
   "source": []
  }
 ],
 "metadata": {
  "kernelspec": {
   "display_name": "Python 3 (ipykernel)",
   "language": "python",
   "name": "python3"
  },
  "language_info": {
   "codemirror_mode": {
    "name": "ipython",
    "version": 3
   },
   "file_extension": ".py",
   "mimetype": "text/x-python",
   "name": "python",
   "nbconvert_exporter": "python",
   "pygments_lexer": "ipython3",
   "version": "3.8.10"
  }
 },
 "nbformat": 4,
 "nbformat_minor": 5
}
