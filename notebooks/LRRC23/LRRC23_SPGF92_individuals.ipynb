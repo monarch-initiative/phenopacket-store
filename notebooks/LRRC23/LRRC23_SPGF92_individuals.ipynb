{
 "cells": [
  {
   "cell_type": "markdown",
   "metadata": {},
   "source": [
    "# LRRC23\n",
    "[Spermatogenic failure-92 (SPGF92)](https://omim.org/entry/620848) is caused by homozygous mutation in the LRRC23 gene."
   ]
  },
  {
   "cell_type": "code",
   "execution_count": 4,
   "metadata": {},
   "outputs": [
    {
     "name": "stdout",
     "output_type": "stream",
     "text": [
      "Using pyphetools version 0.9.113\n"
     ]
    }
   ],
   "source": [
    "from pyphetools.creation import TemplateImporter, Moi\n",
    "from pyphetools.visualization import IndividualTable, QcVisualizer\n",
    "from IPython.display import display, HTML\n",
    "import pyphetools\n",
    "print(f\"Using pyphetools version {pyphetools.__version__}\")"
   ]
  },
  {
   "cell_type": "code",
   "execution_count": 6,
   "metadata": {},
   "outputs": [
    {
     "name": "stdout",
     "output_type": "stream",
     "text": [
      "HPO version 2024-12-12\n",
      "Created encoders for 25 fields\n",
      "Importing OMIM:620848, Spermatogenic failure 92, HGNC:19138, LRRC23,  NM_001135217.2\n",
      "[INFO] encoding variant \"c.621+1G>A\"\n",
      "https://rest.variantvalidator.org/VariantValidator/variantvalidator/hg38/NM_001135217.2%3Ac.621+1G>A/NM_001135217.2?content-type=application%2Fjson\n",
      "[INFO] encoding variant \"c.376C>T\"\n",
      "https://rest.variantvalidator.org/VariantValidator/variantvalidator/hg38/NM_001135217.2%3Ac.376C>T/NM_001135217.2?content-type=application%2Fjson\n",
      "We output 3 GA4GH phenopackets to the directory phenopackets\n"
     ]
    }
   ],
   "source": [
    "template = \"input/LRRC23_SPGF92_individuals.xlsx\"\n",
    "created_by = \"0000-0002-0736-9199\"\n",
    "timporter = TemplateImporter(template=template,  created_by=created_by)\n",
    "individual_list, cvalidator = timporter.import_phenopackets_from_template()"
   ]
  },
  {
   "cell_type": "code",
   "execution_count": 7,
   "metadata": {},
   "outputs": [
    {
     "data": {
      "text/html": [
       "<h2>Cohort validation</h2>\n",
       "<p>No errors found for the cohort with 3 individuals</p>"
      ],
      "text/plain": [
       "<IPython.core.display.HTML object>"
      ]
     },
     "metadata": {},
     "output_type": "display_data"
    }
   ],
   "source": [
    "qc = QcVisualizer(cohort_validator=cvalidator)\n",
    "display(HTML(qc.to_summary_html()))"
   ]
  },
  {
   "cell_type": "code",
   "execution_count": 8,
   "metadata": {},
   "outputs": [
    {
     "data": {
      "text/html": [
       "<table style=\"border: 2px solid black; align: \"left\">\n",
       "<caption>3 phenopackets - PMID:37804054 (n=1); PMID:38091523 (n=2)</caption>\n",
       "<tr><th style=\"text-align: left;font-weight: bold;\">Individual</th><th style=\"text-align: left;font-weight: bold;\">Disease</th><th style=\"text-align: left;font-weight: bold;\">Genotype</th><th style=\"text-align: left;font-weight: bold;\">Phenotypic features</th></tr>\n",
       "<tr><td style=\"text-align: left;\">proband AC027 (MALE)</td><td style=\"text-align: left;\">Spermatogenic failure 92 (OMIM:620848)</td><td style=\"text-align: left;\">NM_001135217.2:c.376C>T (homozygous)</td><td style=\"text-align: left;\">Male infertility (HP:0003251): onset ; Reduced progressive sperm motility (HP:0034011): onset ; Reduced sperm motility (HP:0012207): onset ; Coiled sperm flagella (HP:0032560): onset ; Short sperm flagella (HP:0032559): onset ; excluded: Oligozoospermia (HP:0000798): onset ; excluded: Bent sperm flagella (HP:0034811): onset ; excluded: Absent sperm flagella (HP:0032558): onset </td></tr>\n",
       "<tr><td style=\"text-align: left;\">IV-1 (MALE; P49Y)</td><td style=\"text-align: left;\">Spermatogenic failure 92 (OMIM:620848)</td><td style=\"text-align: left;\">NM_001135217.2:c.621+1G>A (homozygous)</td><td style=\"text-align: left;\">Male infertility (HP:0003251): onset ; Reduced progressive sperm motility (HP:0034011): onset ; excluded: Reduced sperm motility (HP:0012207): onset ; excluded: Oligozoospermia (HP:0000798): onset </td></tr>\n",
       "<tr><td style=\"text-align: left;\">IV-2 (MALE; P36Y)</td><td style=\"text-align: left;\">Spermatogenic failure 92 (OMIM:620848)</td><td style=\"text-align: left;\">NM_001135217.2:c.621+1G>A (homozygous)</td><td style=\"text-align: left;\">Male infertility (HP:0003251): onset ; Reduced progressive sperm motility (HP:0034011): onset ; Reduced sperm motility (HP:0012207): onset ; excluded: Oligozoospermia (HP:0000798): onset </td></tr>\n",
       "</table>"
      ],
      "text/plain": [
       "<IPython.core.display.HTML object>"
      ]
     },
     "metadata": {},
     "output_type": "display_data"
    }
   ],
   "source": [
    "table = IndividualTable(cvalidator.get_error_free_individual_list())\n",
    "display(HTML(table.to_html()))"
   ]
  },
  {
   "cell_type": "code",
   "execution_count": 9,
   "metadata": {},
   "outputs": [
    {
     "name": "stdout",
     "output_type": "stream",
     "text": [
      "[pyphetools] Ingested 3 GA4GH phenopackets.\n",
      "[INFO] Extracted 3 from 3 phenopackets with OMIM:620848\n",
      "\n",
      "\tSpermatogenic failure 92 (OMIM:620848): n=3\n",
      "We found a total of 8 unique HPO terms\n",
      "Extracted disease: Spermatogenic failure 92 (OMIM:620848)\n",
      "Wrote HPOA disease file to OMIM-620848.tab\n"
     ]
    }
   ],
   "source": [
    "pmid = \"PMID:37804054\"\n",
    "df = timporter.create_hpoa_from_phenopackets(pmid=pmid, mode_of_inheritance=Moi.AR, target=\"OMIM:620848\")"
   ]
  }
 ],
 "metadata": {
  "kernelspec": {
   "display_name": "ps24venv",
   "language": "python",
   "name": "python3"
  },
  "language_info": {
   "codemirror_mode": {
    "name": "ipython",
    "version": 3
   },
   "file_extension": ".py",
   "mimetype": "text/x-python",
   "name": "python",
   "nbconvert_exporter": "python",
   "pygments_lexer": "ipython3",
   "version": "3.12.4"
  }
 },
 "nbformat": 4,
 "nbformat_minor": 2
}
