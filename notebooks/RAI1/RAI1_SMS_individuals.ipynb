{
 "cells": [
  {
   "cell_type": "markdown",
   "metadata": {},
   "source": [
    "# RAI1\n",
    "[Smith-Magenis syndrome (SMS)](https://omim.org/entry/182290) is caused in most cases (90%) by a 3.7-Mb interstitial deletion in chromosome 17p11.2. The disorder can also be caused by mutations in the RAI1 gene (607642), which is within the Smith-Magenis chromosome region."
   ]
  },
  {
   "cell_type": "code",
   "execution_count": 3,
   "metadata": {},
   "outputs": [
    {
     "name": "stdout",
     "output_type": "stream",
     "text": [
      "Using pyphetools version 0.9.91\n"
     ]
    }
   ],
   "source": [
    "from pyphetools.creation import TemplateImporter\n",
    "from pyphetools.visualization import IndividualTable, QcVisualizer\n",
    "from IPython.display import display, HTML\n",
    "import pyphetools\n",
    "print(f\"Using pyphetools version {pyphetools.__version__}\")"
   ]
  },
  {
   "cell_type": "code",
   "execution_count": 4,
   "metadata": {},
   "outputs": [],
   "source": [
    "template = \"input/RAI1_SMS_individuals.xlsx\"\n",
    "created_by = \"0000-0002-0736-9199\""
   ]
  },
  {
   "cell_type": "code",
   "execution_count": 8,
   "metadata": {},
   "outputs": [
    {
     "name": "stdout",
     "output_type": "stream",
     "text": [
      "HPO version 2024-04-26\n",
      "Created encoders for 56 fields\n",
      "Importing OMIM:182290, Smith-Magenis syndrome, HGNC:9834, RAI1,  NM_030665.4\n",
      "We output 2 GA4GH phenopackets to the directory phenopackets\n"
     ]
    }
   ],
   "source": [
    "timporter = TemplateImporter(template=template,  created_by=created_by)\n",
    "individual_list, cvalidator = timporter.import_phenopackets_from_template()"
   ]
  },
  {
   "cell_type": "code",
   "execution_count": 9,
   "metadata": {},
   "outputs": [
    {
     "data": {
      "text/html": [
       "<h2>Cohort validation</h2>\n",
       "<p>Errors found with 2 of 2 phenopackets.</p>\n",
       "<table style=\"border: 2px solid black; align: \"left\">\n",
       "<caption>Error counts</caption>\n",
       "<tr><th style=\"text-align: left;font-weight: bold;\">Level</th><th style=\"text-align: left;font-weight: bold;\">Error category</th><th style=\"text-align: left;font-weight: bold;\">Count</th></tr>\n",
       "<tr><td style=\"text-align: left;\">WARNING</td><td style=\"text-align: left;\">REDUNDANT</td><td style=\"text-align: left;\">3</td></tr>\n",
       "</table>\n",
       "<p>A total of 3 issues were fixed and no individual was removed from the cohort.</p>"
      ],
      "text/plain": [
       "<IPython.core.display.HTML object>"
      ]
     },
     "metadata": {},
     "output_type": "display_data"
    }
   ],
   "source": [
    "qc = QcVisualizer(cohort_validator=cvalidator)\n",
    "display(HTML(qc.to_summary_html()))"
   ]
  },
  {
   "cell_type": "code",
   "execution_count": 10,
   "metadata": {},
   "outputs": [
    {
     "data": {
      "text/html": [
       "<table style=\"border: 2px solid black; align: \"left\">\n",
       "<caption>2 phenopackets - PMID:20932317 (n=2)</caption>\n",
       "<tr><th style=\"text-align: left;font-weight: bold;\">Individual</th><th style=\"text-align: left;font-weight: bold;\">Disease</th><th style=\"text-align: left;font-weight: bold;\">Genotype</th><th style=\"text-align: left;font-weight: bold;\">Phenotypic features</th></tr>\n",
       "<tr><td style=\"text-align: left;\">SMS324 (MALE; P18Y)</td><td style=\"text-align: left;\">Smith-Magenis syndrome (OMIM:182290)</td><td style=\"text-align: left;\">NM_030665.4:c.3103del (heterozygous)</td><td style=\"text-align: left;\"><b>P3Y</b>: Head-banging (HP:0012168)<br/>Failure to thrive (HP:0001508); Gastroesophageal reflux (HP:0002020); Intellectual disability (HP:0001249); Strabismus (HP:0000486); Myopia (HP:0000545); Delayed speech and language development (HP:0000750); Hypotonia (HP:0001252); Sleep abnormality (HP:0002360); Generalized non-motor (absence) seizure (HP:0002121); Polyembolokoilamania (HP:0032508); Spontaneous pneumothorax (HP:0002108); Hoarse voice (HP:0001609); Broad face (HP:0000283); Downturned corners of mouth (HP:0002714); Upslanted palpebral fissure (HP:0000582); Midface retrusion (HP:0011800); Brachycephaly (HP:0000248); Hearing impairment (HP:0000365); Mild global developmental delay (HP:0011342); Scoliosis (HP:0002650); Square face (HP:0000321); Synophrys (HP:0000664); Clinodactyly of the 5th finger (HP:0004209); Short middle phalanx of the 5th finger (HP:0004220); Short stature (HP:0004322); Pes planus (HP:0001763); Truncal obesity (HP:0001956); excluded: Onychotillomania (HP:0032509); excluded: Motor delay (HP:0001270); excluded: Mandibular prognathia (HP:0000303); excluded: Chronic otitis media (HP:0000389)</td></tr>\n",
       "<tr><td style=\"text-align: left;\">SMS335 (FEMALE; P16Y)</td><td style=\"text-align: left;\">Smith-Magenis syndrome (OMIM:182290)</td><td style=\"text-align: left;\">NM_030665.4:c.3103del (heterozygous)</td><td style=\"text-align: left;\">Intellectual disability (HP:0001249); Onychotillomania (HP:0032509); Strabismus (HP:0000486); Delayed speech and language development (HP:0000750); Motor delay (HP:0001270); Hypotonia (HP:0001252); Sleep abnormality (HP:0002360); Broad face (HP:0000283); Midface retrusion (HP:0011800); Brachycephaly (HP:0000248); Hearing impairment (HP:0000365); Mild global developmental delay (HP:0011342); Brachydactyly (HP:0001156); Scoliosis (HP:0002650); Square face (HP:0000321); Chronic otitis media (HP:0000389); Truncal obesity (HP:0001956); excluded: Head-banging (HP:0012168); excluded: Myopia (HP:0000545); excluded: Generalized non-motor (absence) seizure (HP:0002121); excluded: Polyembolokoilamania (HP:0032508); excluded: Spontaneous pneumothorax (HP:0002108); excluded: Hoarse voice (HP:0001609); excluded: Downturned corners of mouth (HP:0002714); excluded: Upslanted palpebral fissure (HP:0000582); excluded: Mandibular prognathia (HP:0000303); excluded: Failure to thrive (HP:0001508); excluded: Gastroesophageal reflux (HP:0002020); excluded: Synophrys (HP:0000664); excluded: Clinodactyly of the 5th finger (HP:0004209); excluded: Short middle phalanx of the 5th finger (HP:0004220); excluded: Short stature (HP:0004322)</td></tr>\n",
       "</table>"
      ],
      "text/plain": [
       "<IPython.core.display.HTML object>"
      ]
     },
     "metadata": {},
     "output_type": "display_data"
    }
   ],
   "source": [
    "table = IndividualTable(cvalidator.get_error_free_individual_list())\n",
    "display(HTML(table.to_html()))"
   ]
  },
  {
   "cell_type": "code",
   "execution_count": 11,
   "metadata": {},
   "outputs": [
    {
     "name": "stdout",
     "output_type": "stream",
     "text": [
      "[pyphetools] Ingested 2 GA4GH phenopackets.\n",
      "[INFO] Extracted 2 from 2 phenopackets with OMIM:182290\n",
      "\n",
      "\tSmith-Magenis syndrome (OMIM:182290): n=2\n",
      "We found a total of 33 unique HPO terms\n",
      "Extracted disease: Smith-Magenis syndrome (OMIM:182290)\n",
      "Wrote HPOA disease file to OMIM-182290.tab\n"
     ]
    }
   ],
   "source": [
    "pmid = \"PMID:20932317\"\n",
    "df = timporter.create_hpoa_from_phenopackets(pmid=pmid, moi=\"Autosomal dominant\", target=\"OMIM:182290\")"
   ]
  }
 ],
 "metadata": {
  "kernelspec": {
   "display_name": "ps24venv",
   "language": "python",
   "name": "python3"
  },
  "language_info": {
   "codemirror_mode": {
    "name": "ipython",
    "version": 3
   },
   "file_extension": ".py",
   "mimetype": "text/x-python",
   "name": "python",
   "nbconvert_exporter": "python",
   "pygments_lexer": "ipython3",
   "version": "3.9.6"
  }
 },
 "nbformat": 4,
 "nbformat_minor": 2
}
