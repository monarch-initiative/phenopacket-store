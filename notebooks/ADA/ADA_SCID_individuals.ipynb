{
 "cells": [
  {
   "cell_type": "markdown",
   "metadata": {},
   "source": [
    "# ADA\n",
    "[T cell-negative (T-), B cell-negative (B-), natural killer cell-negative (NK-) severe combined immunodeficiency (SCID) ](https://omim.org/entry/102700) is caused by homozygous or compound heterozygous mutation in the adenosine deaminase gene (ADA)."
   ]
  },
  {
   "cell_type": "code",
   "execution_count": 3,
   "metadata": {},
   "outputs": [
    {
     "name": "stdout",
     "output_type": "stream",
     "text": [
      "Using pyphetools version 0.9.86\n"
     ]
    }
   ],
   "source": [
    "from pyphetools.creation import TemplateImporter\n",
    "from pyphetools.visualization import IndividualTable, QcVisualizer\n",
    "from IPython.display import display, HTML\n",
    "import pyphetools\n",
    "print(f\"Using pyphetools version {pyphetools.__version__}\")"
   ]
  },
  {
   "cell_type": "code",
   "execution_count": 5,
   "metadata": {},
   "outputs": [],
   "source": [
    "template = \"input/ADA_SCID_individuals.xlsx\"\n",
    "created_by = \"0000-0002-0736-9199\""
   ]
  },
  {
   "cell_type": "code",
   "execution_count": 7,
   "metadata": {},
   "outputs": [
    {
     "name": "stdout",
     "output_type": "stream",
     "text": [
      "HPO version 2024-04-26\n",
      "Created encoders for 30 fields\n",
      "Importing OMIM:102700, Severe combined immunodeficiency due to ADA deficiency, HGNC:186, ADA,  NM_000022.4\n",
      "[INFO] encoding variant \"c.478+3G>C\"\n",
      "https://rest.variantvalidator.org/VariantValidator/variantvalidator/hg38/NM_000022.4%3Ac.478+3G>C/NM_000022.4?content-type=application%2Fjson\n",
      "[INFO] encoding variant \"c.646G>A\"\n",
      "https://rest.variantvalidator.org/VariantValidator/variantvalidator/hg38/NM_000022.4%3Ac.646G>A/NM_000022.4?content-type=application%2Fjson\n",
      "We output 2 GA4GH phenopackets to the directory phenopackets\n"
     ]
    }
   ],
   "source": [
    "timporter = TemplateImporter(template=template,  created_by=created_by)\n",
    "individual_list, cvalidator = timporter.import_phenopackets_from_template()"
   ]
  },
  {
   "cell_type": "code",
   "execution_count": 8,
   "metadata": {},
   "outputs": [
    {
     "data": {
      "text/html": [
       "<h2>Cohort validation</h2>\n",
       "<p>No errors found for the cohort with 2 individuals</p>"
      ],
      "text/plain": [
       "<IPython.core.display.HTML object>"
      ]
     },
     "metadata": {},
     "output_type": "display_data"
    }
   ],
   "source": [
    "qc = QcVisualizer(cohort_validator=cvalidator)\n",
    "display(HTML(qc.to_summary_html()))"
   ]
  },
  {
   "cell_type": "code",
   "execution_count": 9,
   "metadata": {},
   "outputs": [
    {
     "data": {
      "text/html": [
       "<table style=\"border: 2px solid black; align: \"left\">\n",
       "<caption>2 phenopackets - PMID:1680289 (n=1); PMID:28823388 (n=1)</caption>\n",
       "<tr><th style=\"text-align: left;font-weight: bold;\">Individual</th><th style=\"text-align: left;font-weight: bold;\">Disease</th><th style=\"text-align: left;font-weight: bold;\">Genotype</th><th style=\"text-align: left;font-weight: bold;\">Phenotypic features</th></tr>\n",
       "<tr><td style=\"text-align: left;\">patient (MALE; P2Y)</td><td style=\"text-align: left;\">Severe combined immunodeficiency due to ADA deficiency (OMIM:102700)</td><td style=\"text-align: left;\">NM_000022.4:c.646G>A (homozygous)</td><td style=\"text-align: left;\"><b>P3D</b>: Lymphopenia (HP:0001888); Pneumonia (HP:0002090)<br/><b>P1M</b>: Decreased lymphocyte proliferation in response to mitogen (HP:0031381); Decreased circulating IgA level (HP:0002720); Decreased circulating total IgM (HP:0002850)<br/>Severe combined immunodeficiency (HP:0004430)</td></tr>\n",
       "<tr><td style=\"text-align: left;\">3-month-old girl (FEMALE; P3M)</td><td style=\"text-align: left;\">Severe combined immunodeficiency due to ADA deficiency (OMIM:102700)</td><td style=\"text-align: left;\">NM_000022.4:c.478+3G>C (homozygous)</td><td style=\"text-align: left;\">Lymphopenia (HP:0001888); Decreased circulating IgA level (HP:0002720); Severe combined immunodeficiency (HP:0004430); Recurrent fever (HP:0001954); Decreased circulating total IgM (HP:0002850); Recurrent pneumonia (HP:0006532); Failure to thrive (HP:0001508); Motor delay (HP:0001270); Chronic oral candidiasis (HP:0009098); Aplasia of the thymus (HP:0005359); Reduced red cell adenosine deaminase level (HP:0030273)</td></tr>\n",
       "</table>"
      ],
      "text/plain": [
       "<IPython.core.display.HTML object>"
      ]
     },
     "metadata": {},
     "output_type": "display_data"
    }
   ],
   "source": [
    "table = IndividualTable(cvalidator.get_error_free_individual_list())\n",
    "display(HTML(table.to_html()))"
   ]
  }
 ],
 "metadata": {
  "kernelspec": {
   "display_name": "ps24venv",
   "language": "python",
   "name": "python3"
  },
  "language_info": {
   "codemirror_mode": {
    "name": "ipython",
    "version": 3
   },
   "file_extension": ".py",
   "mimetype": "text/x-python",
   "name": "python",
   "nbconvert_exporter": "python",
   "pygments_lexer": "ipython3",
   "version": "3.9.6"
  }
 },
 "nbformat": 4,
 "nbformat_minor": 2
}
