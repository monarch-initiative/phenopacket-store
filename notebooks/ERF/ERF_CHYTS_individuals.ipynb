{
 "cells": [
  {
   "cell_type": "markdown",
   "metadata": {},
   "source": [
    "# ERF\n",
    "[Chitayat syndrome (CHYTS)](https://omim.org/entry/617180) is caused by heterozygous mutation in the ERF gene."
   ]
  },
  {
   "cell_type": "code",
   "execution_count": 1,
   "metadata": {},
   "outputs": [
    {
     "name": "stdout",
     "output_type": "stream",
     "text": [
      "Using pyphetools version 0.9.88\n"
     ]
    },
    {
     "name": "stderr",
     "output_type": "stream",
     "text": [
      "/Users/robin/GIT/phenopacket-store/ps24venv/lib/python3.9/site-packages/urllib3/__init__.py:35: NotOpenSSLWarning: urllib3 v2 only supports OpenSSL 1.1.1+, currently the 'ssl' module is compiled with 'LibreSSL 2.8.3'. See: https://github.com/urllib3/urllib3/issues/3020\n",
      "  warnings.warn(\n"
     ]
    }
   ],
   "source": [
    "from pyphetools.creation import TemplateImporter\n",
    "from pyphetools.visualization import IndividualTable, QcVisualizer\n",
    "from IPython.display import display, HTML\n",
    "import pyphetools\n",
    "print(f\"Using pyphetools version {pyphetools.__version__}\")"
   ]
  },
  {
   "cell_type": "code",
   "execution_count": 2,
   "metadata": {},
   "outputs": [],
   "source": [
    "template = \"input/ERF_CHYTS_individuals.xlsx\"\n",
    "created_by = \"0000-0002-0736-9199\""
   ]
  },
  {
   "cell_type": "code",
   "execution_count": 3,
   "metadata": {},
   "outputs": [
    {
     "name": "stdout",
     "output_type": "stream",
     "text": [
      "HPO version 2024-04-26\n",
      "Created encoders for 49 fields\n",
      "Importing OMIM:617180, Chitayat syndrome, HGNC:3444, ERF,  NM_006494.4\n",
      "We output 6 GA4GH phenopackets to the directory phenopackets\n"
     ]
    }
   ],
   "source": [
    "timporter = TemplateImporter(template=template,  created_by=created_by)\n",
    "individual_list, cvalidator = timporter.import_phenopackets_from_template()"
   ]
  },
  {
   "cell_type": "code",
   "execution_count": 4,
   "metadata": {},
   "outputs": [
    {
     "data": {
      "text/html": [
       "<h2>Cohort validation</h2>\n",
       "<p>Errors found with 1 of 6 phenopackets.</p>\n",
       "<table style=\"border: 2px solid black; align: \"left\">\n",
       "<caption>Error counts</caption>\n",
       "<tr><th style=\"text-align: left;font-weight: bold;\">Level</th><th style=\"text-align: left;font-weight: bold;\">Error category</th><th style=\"text-align: left;font-weight: bold;\">Count</th></tr>\n",
       "<tr><td style=\"text-align: left;\">WARNING</td><td style=\"text-align: left;\">REDUNDANT</td><td style=\"text-align: left;\">1</td></tr>\n",
       "</table>\n",
       "<p>A total of 1 issues were fixed and no individual was removed from the cohort.</p>"
      ],
      "text/plain": [
       "<IPython.core.display.HTML object>"
      ]
     },
     "metadata": {},
     "output_type": "display_data"
    }
   ],
   "source": [
    "qc = QcVisualizer(cohort_validator=cvalidator)\n",
    "display(HTML(qc.to_summary_html()))"
   ]
  },
  {
   "cell_type": "code",
   "execution_count": 5,
   "metadata": {},
   "outputs": [
    {
     "data": {
      "text/html": [
       "<table style=\"border: 2px solid black; align: \"left\">\n",
       "<caption>6 phenopackets - PMID:27738187 (n=5); PMID:30569521 (n=1)</caption>\n",
       "<tr><th style=\"text-align: left;font-weight: bold;\">Individual</th><th style=\"text-align: left;font-weight: bold;\">Disease</th><th style=\"text-align: left;font-weight: bold;\">Genotype</th><th style=\"text-align: left;font-weight: bold;\">Phenotypic features</th></tr>\n",
       "<tr><td style=\"text-align: left;\">Patient 1 (MALE; P21Y)</td><td style=\"text-align: left;\">Chitayat syndrome (OMIM:617180)</td><td style=\"text-align: left;\">NM_006494.4:c.266A>G (heterozygous)</td><td style=\"text-align: left;\">Diaphragmatic eventration (HP:0009110); Bronchomalacia (HP:0002780); Thick vermilion border (HP:0012471); Long philtrum (HP:0000343); Anteverted nares (HP:0000463); Depressed nasal bridge (HP:0005280); Hallux valgus (HP:0001822); Finger hyperphalangy (HP:0030367); Hypertelorism (HP:0000316); Proptosis (HP:0000520); Respiratory distress (HP:0002098); Motor delay (HP:0001270); Recurrent respiratory infections (HP:0002205); excluded: Global developmental delay (HP:0001263); excluded: Polyhydramnios (HP:0001561); excluded: Patent ductus arteriosus (HP:0001643); excluded: Tracheomalacia (HP:0002779); excluded: Overfolded helix (HP:0000396); excluded: Wide nasal bridge (HP:0000431); excluded: Flat occiput (HP:0005469); excluded: Narrow forehead (HP:0000341); excluded: Pectus excavatum (HP:0000767); excluded: Hypotonia (HP:0001252); excluded: Interstitial emphysema (HP:0032965); excluded: Gastroesophageal reflux (HP:0002020)</td></tr>\n",
       "<tr><td style=\"text-align: left;\">Patient 2 (FEMALE; P5Y6M)</td><td style=\"text-align: left;\">Chitayat syndrome (OMIM:617180)</td><td style=\"text-align: left;\">NM_006494.4:c.266A>G (heterozygous)</td><td style=\"text-align: left;\"><b>P2M</b>: Anteverted nares (HP:0000463); Depressed nasal bridge (HP:0005280); Hallux valgus (HP:0001822); Short 2nd finger (HP:0009536); Hypertelorism (HP:0000316); Interstitial emphysema (HP:0032965)<br/><b>P5Y6M</b>: Pectus excavatum (HP:0000767)<br/>Polyhydramnios (HP:0001561); Respiratory distress (HP:0002098); Patent ductus arteriosus (HP:0001643); Recurrent respiratory infections (HP:0002205); excluded: Diaphragmatic eventration (HP:0009110); excluded: Motor delay (HP:0001270); excluded: Global developmental delay (HP:0001263); excluded: Tracheomalacia (HP:0002779); excluded: Bronchomalacia (HP:0002780); excluded: Long philtrum (HP:0000343); excluded: Overfolded helix (HP:0000396); excluded: Wide nasal bridge (HP:0000431); excluded: Flat occiput (HP:0005469); excluded: Narrow forehead (HP:0000341); excluded: Finger hyperphalangy (HP:0030367); excluded: Hypotonia (HP:0001252); excluded: Proptosis (HP:0000520); excluded: Gastroesophageal reflux (HP:0002020)</td></tr>\n",
       "<tr><td style=\"text-align: left;\">Patient 3 (MALE; P6Y)</td><td style=\"text-align: left;\">Chitayat syndrome (OMIM:617180)</td><td style=\"text-align: left;\">NM_006494.4:c.266A>G (heterozygous)</td><td style=\"text-align: left;\"><b>P19D</b>: Anteverted nares (HP:0000463); Depressed nasal bridge (HP:0005280); Pectus excavatum (HP:0000767); Hallux valgus (HP:0001822); Short 2nd finger (HP:0009536); Hypotonia (HP:0001252); Hypertelorism (HP:0000316)<br/>Polyhydramnios (HP:0001561); Respiratory distress (HP:0002098); Motor delay (HP:0001270); Patent ductus arteriosus (HP:0001643); Finger hyperphalangy (HP:0030367); excluded: Diaphragmatic eventration (HP:0009110); excluded: Global developmental delay (HP:0001263); excluded: Tracheomalacia (HP:0002779); excluded: Recurrent respiratory infections (HP:0002205); excluded: Bronchomalacia (HP:0002780); excluded: Long philtrum (HP:0000343); excluded: Overfolded helix (HP:0000396); excluded: Wide nasal bridge (HP:0000431); excluded: Flat occiput (HP:0005469); excluded: Narrow forehead (HP:0000341); excluded: Proptosis (HP:0000520); excluded: Interstitial emphysema (HP:0032965); excluded: Gastroesophageal reflux (HP:0002020)</td></tr>\n",
       "<tr><td style=\"text-align: left;\">Patient 4 (MALE; P4Y)</td><td style=\"text-align: left;\">Chitayat syndrome (OMIM:617180)</td><td style=\"text-align: left;\">NM_006494.4:c.266A>G (heterozygous)</td><td style=\"text-align: left;\">Polyhydramnios (HP:0001561); Respiratory distress (HP:0002098); Overfolded helix (HP:0000396); Wide nasal bridge (HP:0000431); Pectus excavatum (HP:0000767); Hallux valgus (HP:0001822); Clinodactyly of the 5th finger (HP:0004209); Hypertelorism (HP:0000316); Motor delay (HP:0001270); Global developmental delay (HP:0001263); Tracheomalacia (HP:0002779); Recurrent respiratory infections (HP:0002205); Bronchomalacia (HP:0002780); Short middle phalanx of the 2nd finger (HP:0009577); Short middle phalanx of the 5th finger (HP:0004220); Short proximal phalanx of hallux (HP:0010107); excluded: Diaphragmatic eventration (HP:0009110); excluded: Patent ductus arteriosus (HP:0001643); excluded: Long philtrum (HP:0000343); excluded: Anteverted nares (HP:0000463); excluded: Flat occiput (HP:0005469); excluded: Narrow forehead (HP:0000341); excluded: Finger hyperphalangy (HP:0030367); excluded: Hypotonia (HP:0001252); excluded: Proptosis (HP:0000520); excluded: Interstitial emphysema (HP:0032965); excluded: Gastroesophageal reflux (HP:0002020)</td></tr>\n",
       "<tr><td style=\"text-align: left;\">Patient 5 (MALE; P40Y)</td><td style=\"text-align: left;\">Chitayat syndrome (OMIM:617180)</td><td style=\"text-align: left;\">NM_006494.4:c.266A>G (heterozygous)</td><td style=\"text-align: left;\">Respiratory distress (HP:0002098); Pectus excavatum (HP:0000767); Hallux valgus (HP:0001822); Short middle phalanx of the 2nd finger (HP:0009577); Short middle phalanx of the 5th finger (HP:0004220); Short proximal phalanx of hallux (HP:0010107); excluded: Diaphragmatic eventration (HP:0009110); excluded: Motor delay (HP:0001270); excluded: Global developmental delay (HP:0001263); excluded: Polyhydramnios (HP:0001561); excluded: Patent ductus arteriosus (HP:0001643); excluded: Tracheomalacia (HP:0002779); excluded: Recurrent respiratory infections (HP:0002205); excluded: Bronchomalacia (HP:0002780); excluded: Long philtrum (HP:0000343); excluded: Overfolded helix (HP:0000396); excluded: Anteverted nares (HP:0000463); excluded: Wide nasal bridge (HP:0000431); excluded: Flat occiput (HP:0005469); excluded: Narrow forehead (HP:0000341); excluded: Finger hyperphalangy (HP:0030367); excluded: Hypotonia (HP:0001252); excluded: Proptosis (HP:0000520); excluded: Interstitial emphysema (HP:0032965); excluded: Gastroesophageal reflux (HP:0002020)</td></tr>\n",
       "<tr><td style=\"text-align: left;\">proband (MALE; P3Y)</td><td style=\"text-align: left;\">Chitayat syndrome (OMIM:617180)</td><td style=\"text-align: left;\">NM_006494.4:c.266A>G (heterozygous)</td><td style=\"text-align: left;\"><b>P2Y8M</b>: Wide nasal bridge (HP:0000431); Depressed nasal bridge (HP:0005280); Flat occiput (HP:0005469); Narrow forehead (HP:0000341); Short middle phalanx of the 2nd finger (HP:0009577); Short middle phalanx of the 5th finger (HP:0004220); Clinodactyly of the 5th finger (HP:0004209); Hypertelorism (HP:0000316); Proptosis (HP:0000520)<br/>Respiratory distress (HP:0002098); Motor delay (HP:0001270); Global developmental delay (HP:0001263); Gastroesophageal reflux (HP:0002020); excluded: Diaphragmatic eventration (HP:0009110); excluded: Polyhydramnios (HP:0001561); excluded: Patent ductus arteriosus (HP:0001643); excluded: Tracheomalacia (HP:0002779); excluded: Recurrent respiratory infections (HP:0002205); excluded: Bronchomalacia (HP:0002780); excluded: Long philtrum (HP:0000343); excluded: Overfolded helix (HP:0000396); excluded: Anteverted nares (HP:0000463); excluded: Pectus excavatum (HP:0000767); excluded: Finger hyperphalangy (HP:0030367); excluded: Hypotonia (HP:0001252); excluded: Interstitial emphysema (HP:0032965)</td></tr>\n",
       "</table>"
      ],
      "text/plain": [
       "<IPython.core.display.HTML object>"
      ]
     },
     "metadata": {},
     "output_type": "display_data"
    }
   ],
   "source": [
    "table = IndividualTable(cvalidator.get_error_free_individual_list())\n",
    "display(HTML(table.to_html()))"
   ]
  },
  {
   "cell_type": "code",
   "execution_count": 6,
   "metadata": {},
   "outputs": [
    {
     "name": "stdout",
     "output_type": "stream",
     "text": [
      "[pyphetools] Ingested 6 GA4GH phenopackets.\n",
      "[INFO] Extracted 6 from 6 phenopackets with OMIM:617180\n",
      "\n",
      "\tChitayat syndrome (OMIM:617180): n=6\n",
      "We found a total of 30 unique HPO terms\n",
      "Extracted disease: Chitayat syndrome (OMIM:617180)\n",
      "Wrote HPOA disease file to OMIM-617180.tab\n"
     ]
    }
   ],
   "source": [
    "pmid = \"PMID:27738187\"\n",
    "df = timporter.create_hpoa_from_phenopackets(pmid=pmid, moi=\"Autosomal dominant\", target=\"OMIM:617180\")"
   ]
  }
 ],
 "metadata": {
  "kernelspec": {
   "display_name": "ps24venv",
   "language": "python",
   "name": "python3"
  },
  "language_info": {
   "codemirror_mode": {
    "name": "ipython",
    "version": 3
   },
   "file_extension": ".py",
   "mimetype": "text/x-python",
   "name": "python",
   "nbconvert_exporter": "python",
   "pygments_lexer": "ipython3",
   "version": "3.9.6"
  }
 },
 "nbformat": 4,
 "nbformat_minor": 2
}
