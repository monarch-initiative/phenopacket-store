{
 "cells": [
  {
   "cell_type": "markdown",
   "metadata": {},
   "source": [
    "# PPIB\n",
    "[osteogenesis imperfecta type IX (OI9)](https://omim.org/entry/259440) is caused by homozygous or compound heterozygous mutation in the PPIB gene."
   ]
  },
  {
   "cell_type": "code",
   "execution_count": 3,
   "metadata": {},
   "outputs": [
    {
     "name": "stdout",
     "output_type": "stream",
     "text": [
      "Using pyphetools version 0.9.91\n"
     ]
    }
   ],
   "source": [
    "from pyphetools.creation import TemplateImporter\n",
    "from pyphetools.visualization import IndividualTable, QcVisualizer\n",
    "from IPython.display import display, HTML\n",
    "import pyphetools\n",
    "print(f\"Using pyphetools version {pyphetools.__version__}\")"
   ]
  },
  {
   "cell_type": "code",
   "execution_count": 5,
   "metadata": {},
   "outputs": [],
   "source": [
    "template = \"input/PPIB_OI9_individuals.xlsx\"\n",
    "created_by = \"0000-0002-0736-9199\""
   ]
  },
  {
   "cell_type": "code",
   "execution_count": 7,
   "metadata": {},
   "outputs": [
    {
     "name": "stdout",
     "output_type": "stream",
     "text": [
      "HPO version 2024-06-25\n",
      "Created encoders for 42 fields\n",
      "Importing OMIM:259440, Osteogenesis imperfecta, type IX, HGNC:9255, PPIB,  NM_000942.5\n",
      "[INFO] encoding variant \"c.451C>T\"\n",
      "https://rest.variantvalidator.org/VariantValidator/variantvalidator/hg38/NM_000942.5%3Ac.451C>T/NM_000942.5?content-type=application%2Fjson\n",
      "[INFO] encoding variant \"c.26T>G\"\n",
      "https://rest.variantvalidator.org/VariantValidator/variantvalidator/hg38/NM_000942.5%3Ac.26T>G/NM_000942.5?content-type=application%2Fjson\n",
      "[INFO] encoding variant \"c.556_559del\"\n",
      "https://rest.variantvalidator.org/VariantValidator/variantvalidator/hg38/NM_000942.5%3Ac.556_559del/NM_000942.5?content-type=application%2Fjson\n",
      "We output 6 GA4GH phenopackets to the directory phenopackets\n"
     ]
    }
   ],
   "source": [
    "timporter = TemplateImporter(template=template,  created_by=created_by)\n",
    "individual_list, cvalidator = timporter.import_phenopackets_from_template()"
   ]
  },
  {
   "cell_type": "code",
   "execution_count": 8,
   "metadata": {},
   "outputs": [
    {
     "data": {
      "text/html": [
       "<h2>Cohort validation</h2>\n",
       "<p>No errors found for the cohort with 6 individuals</p>"
      ],
      "text/plain": [
       "<IPython.core.display.HTML object>"
      ]
     },
     "metadata": {},
     "output_type": "display_data"
    }
   ],
   "source": [
    "qc = QcVisualizer(cohort_validator=cvalidator)\n",
    "display(HTML(qc.to_summary_html()))"
   ]
  },
  {
   "cell_type": "code",
   "execution_count": 9,
   "metadata": {},
   "outputs": [
    {
     "data": {
      "text/html": [
       "<table style=\"border: 2px solid black; align: \"left\">\n",
       "<caption>6 phenopackets - PMID:19781681 (n=4); PMID:20089953 (n=2)</caption>\n",
       "<tr><th style=\"text-align: left;font-weight: bold;\">Individual</th><th style=\"text-align: left;font-weight: bold;\">Disease</th><th style=\"text-align: left;font-weight: bold;\">Genotype</th><th style=\"text-align: left;font-weight: bold;\">Phenotypic features</th></tr>\n",
       "<tr><td style=\"text-align: left;\">Proband P1-1 (UNKNOWN; Second trimester onset (HP:0034198))</td><td style=\"text-align: left;\">Osteogenesis imperfecta, type IX (OMIM:259440)</td><td style=\"text-align: left;\">NM_000942.5:c.556_559del (homozygous)</td><td style=\"text-align: left;\">Bowing of limbs due to multiple fractures (HP:0003023); Multiple prenatal fractures (HP:0005855)</td></tr>\n",
       "<tr><td style=\"text-align: left;\">Proband P1-2 (UNKNOWN; Second trimester onset (HP:0034198))</td><td style=\"text-align: left;\">Osteogenesis imperfecta, type IX (OMIM:259440)</td><td style=\"text-align: left;\">NM_000942.5:c.556_559del (homozygous)</td><td style=\"text-align: left;\">Osteopenia (HP:0000938); Bowing of limbs due to multiple fractures (HP:0003023); Multiple prenatal fractures (HP:0005855)</td></tr>\n",
       "<tr><td style=\"text-align: left;\">Proband P2-1 (UNKNOWN; P7Y)</td><td style=\"text-align: left;\">Osteogenesis imperfecta, type IX (OMIM:259440)</td><td style=\"text-align: left;\">NM_000942.5:c.451C>T (homozygous)</td><td style=\"text-align: left;\"><b>P2Y</b>: Osteopenia (HP:0000938); Wormian bones (HP:0002645)<br/><b>P4Y6M</b>: Disproportionate short-limb short stature (HP:0008873); Kyphosis (HP:0002808); Scoliosis (HP:0002650)<br/><b>P7Y</b>: Inability to walk (HP:0002540)<br/>Bowing of limbs due to multiple fractures (HP:0003023); Blue sclerae (HP:0000592); Wide anterior fontanel (HP:0000260); Hip joint hypermobility (HP:0045087); Finger joint hypermobility (HP:0006094); Multiple prenatal fractures (HP:0005855); Delayed gross motor development (HP:0002194); Recurrent fractures (HP:0002757); excluded: Osteoporosis (HP:0000939); excluded: Dentinogenesis imperfecta (HP:0000703); excluded: Umbilical hernia (HP:0001537)</td></tr>\n",
       "<tr><td style=\"text-align: left;\">Proband P2-2 (UNKNOWN; P6M)</td><td style=\"text-align: left;\">Osteogenesis imperfecta, type IX (OMIM:259440)</td><td style=\"text-align: left;\">NM_000942.5:c.451C>T (homozygous)</td><td style=\"text-align: left;\"><b>P6M</b>: Disproportionate short-limb short stature (HP:0008873)<br/>Bowing of limbs due to multiple fractures (HP:0003023); Wide anterior fontanel (HP:0000260); Multiple prenatal fractures (HP:0005855); Recurrent fractures (HP:0002757); excluded: Kyphosis (HP:0002808); excluded: Scoliosis (HP:0002650); excluded: Umbilical hernia (HP:0001537)</td></tr>\n",
       "<tr><td style=\"text-align: left;\">Patient III-4 (FEMALE; P4Y)</td><td style=\"text-align: left;\">Osteogenesis imperfecta, type IX (OMIM:259440)</td><td style=\"text-align: left;\">NM_000942.5:c.26T>G (homozygous)</td><td style=\"text-align: left;\"><b>P5M</b>: Umbilical hernia (HP:0001537); Pes planus (HP:0001763); Diaphyseal undertubulation (HP:0005019); Bowing of the long bones (HP:0006487)<br/><b>P2Y4M</b>: Disproportionate short-limb short stature (HP:0008873)<br/>Osteoporosis (HP:0000939); Wide anterior fontanel (HP:0000260); Delayed gross motor development (HP:0002194); Multiple prenatal fractures (HP:0005855); Triangular face (HP:0000325); Proptosis (HP:0000520); Recurrent fractures (HP:0002757); Vertebral compression fracture (HP:0002953); excluded: Osteopenia (HP:0000938); excluded: Inability to walk (HP:0002540)</td></tr>\n",
       "<tr><td style=\"text-align: left;\">Patient III-1 (MALE; P12Y)</td><td style=\"text-align: left;\">Osteogenesis imperfecta, type IX (OMIM:259440)</td><td style=\"text-align: left;\">NM_000942.5:c.26T>G (homozygous)</td><td style=\"text-align: left;\"><b>P3M</b>: Recurrent fractures (HP:0002757)<br/><b>P12Y</b>: Osteopenia (HP:0000938)<br/>Delayed gross motor development (HP:0002194); Proptosis (HP:0000520); Pes planus (HP:0001763); Diaphyseal undertubulation (HP:0005019); Flat occiput (HP:0005469); Narrow chest (HP:0000774); excluded: Multiple prenatal fractures (HP:0005855); excluded: Osteoporosis (HP:0000939); excluded: Vertebral compression fracture (HP:0002953)</td></tr>\n",
       "</table>"
      ],
      "text/plain": [
       "<IPython.core.display.HTML object>"
      ]
     },
     "metadata": {},
     "output_type": "display_data"
    }
   ],
   "source": [
    "table = IndividualTable(cvalidator.get_error_free_individual_list())\n",
    "display(HTML(table.to_html()))"
   ]
  },
  {
   "cell_type": "code",
   "execution_count": 10,
   "metadata": {},
   "outputs": [
    {
     "name": "stdout",
     "output_type": "stream",
     "text": [
      "[pyphetools] Ingested 6 GA4GH phenopackets.\n",
      "[INFO] Extracted 6 from 6 phenopackets with OMIM:259440\n",
      "\n",
      "\tOsteogenesis imperfecta, type IX (OMIM:259440): n=6\n",
      "We found a total of 25 unique HPO terms\n",
      "Extracted disease: Osteogenesis imperfecta, type IX (OMIM:259440)\n",
      "Wrote HPOA disease file to OMIM-259440.tab\n"
     ]
    }
   ],
   "source": [
    "pmid = \"PMID:19781681\"\n",
    "df = timporter.create_hpoa_from_phenopackets(pmid=pmid, moi=\"Autosomal recessive\", target=\"OMIM:259440\")"
   ]
  },
  {
   "cell_type": "code",
   "execution_count": null,
   "metadata": {},
   "outputs": [],
   "source": []
  }
 ],
 "metadata": {
  "kernelspec": {
   "display_name": "ps24venv",
   "language": "python",
   "name": "python3"
  },
  "language_info": {
   "codemirror_mode": {
    "name": "ipython",
    "version": 3
   },
   "file_extension": ".py",
   "mimetype": "text/x-python",
   "name": "python",
   "nbconvert_exporter": "python",
   "pygments_lexer": "ipython3",
   "version": "3.9.6"
  }
 },
 "nbformat": 4,
 "nbformat_minor": 2
}
