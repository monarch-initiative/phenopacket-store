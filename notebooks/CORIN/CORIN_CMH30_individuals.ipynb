{
 "cells": [
  {
   "cell_type": "markdown",
   "id": "feea4767-52c1-4ec4-8f10-1d99c39e5036",
   "metadata": {},
   "source": [
    "# \n",
    "CORIN\n",
    "[Familial atrial hypertrophic cardiomyopathy-30 (CMH30)](https://omim.org/entry/620734) is caused by homozygous mutation in the CORIN gene."
   ]
  },
  {
   "cell_type": "code",
   "execution_count": 1,
   "id": "b7e19b56-a812-434d-9d9e-a4460dc99d49",
   "metadata": {},
   "outputs": [
    {
     "name": "stdout",
     "output_type": "stream",
     "text": [
      "Using pyphetools version 0.9.74\n"
     ]
    }
   ],
   "source": [
    "from pyphetools.creation import TemplateImporter\n",
    "from pyphetools.visualization import IndividualTable, QcVisualizer\n",
    "from IPython.display import display, HTML\n",
    "import pyphetools\n",
    "print(f\"Using pyphetools version {pyphetools.__version__}\")"
   ]
  },
  {
   "cell_type": "code",
   "execution_count": 2,
   "id": "a37a8429-dfcf-48b4-98ba-fad790f24174",
   "metadata": {},
   "outputs": [],
   "source": [
    "template = \"input/CORIN_CMH30_individuals.xlsx\"\n",
    "hp_json = \"../hp.json\"\n",
    "created_by = \"0000-0002-0736-9199\""
   ]
  },
  {
   "cell_type": "code",
   "execution_count": 3,
   "id": "078423b6-2de4-4eb7-9957-1a0aa8c594e6",
   "metadata": {},
   "outputs": [
    {
     "name": "stdout",
     "output_type": "stream",
     "text": [
      "HPO version 2024-04-03\n",
      "Created encoders for 25 fields\n",
      "Importing OMIM:620734, Cardiomyopathy, familial hypertrophic, 30, atrial, HGNC:19012, CORIN,  NM_006587.4\n",
      "We output 2 GA4GH phenopackets to the directory phenopackets\n"
     ]
    }
   ],
   "source": [
    "timporter = TemplateImporter(template=template, hp_json=hp_json, created_by=created_by)\n",
    "individual_list, cvalidator = timporter.import_phenopackets_from_template()"
   ]
  },
  {
   "cell_type": "code",
   "execution_count": 4,
   "id": "6327f9c2-eded-40dd-abc2-7423f5bb2aca",
   "metadata": {},
   "outputs": [
    {
     "data": {
      "text/html": [
       "<h2>Cohort validation</h2>\n",
       "<p>No errors found for the cohort with 2 individuals</p>"
      ],
      "text/plain": [
       "<IPython.core.display.HTML object>"
      ]
     },
     "metadata": {},
     "output_type": "display_data"
    }
   ],
   "source": [
    "qc = QcVisualizer(cohort_validator=cvalidator)\n",
    "display(HTML(qc.to_summary_html()))"
   ]
  },
  {
   "cell_type": "code",
   "execution_count": 5,
   "id": "febcff2f-6aba-4d36-a2fb-eaf981349bd0",
   "metadata": {},
   "outputs": [
    {
     "data": {
      "text/html": [
       "<table style=\"border: 2px solid black; align: \"left\">\n",
       "<caption>2 phenopackets - PMID:37913506 (n=2)</caption>\n",
       "<tr><th style=\"text-align: left;font-weight: bold;\">Individual</th><th style=\"text-align: left;font-weight: bold;\">Disease</th><th style=\"text-align: left;font-weight: bold;\">Genotype</th><th style=\"text-align: left;font-weight: bold;\">Phenotypic features</th></tr>\n",
       "<tr><td style=\"text-align: left;\">II-6 (FEMALE; P48Y)</td><td style=\"text-align: left;\">Cardiomyopathy, familial hypertrophic, 30, atrial (OMIM:620734)</td><td style=\"text-align: left;\">NM_006587.4:c.684dup (homozygous)</td><td style=\"text-align: left;\">Hypertension (HP:0000822); Atrial fibrillation (HP:0005110); Left atrial enlargement (HP:0031295); Increased circulating brain natriuretic peptide concentration (HP:0033534); Reduced circulating NT-proANP concentration (HP:6000693); Left atrial fibrosis (HP:6000691); excluded: Atrial flutter (HP:0004749); excluded: Reduced left ventricular ejection fraction (HP:0012664)</td></tr>\n",
       "<tr><td style=\"text-align: left;\">II-3 (MALE; P53Y)</td><td style=\"text-align: left;\">Cardiomyopathy, familial hypertrophic, 30, atrial (OMIM:620734)</td><td style=\"text-align: left;\">NM_006587.4:c.684dup (homozygous)</td><td style=\"text-align: left;\">Hypertension (HP:0000822); Atrial flutter (HP:0004749); Left atrial enlargement (HP:0031295); Left atrial fibrosis (HP:6000691); excluded: Atrial fibrillation (HP:0005110); excluded: Reduced left ventricular ejection fraction (HP:0012664)</td></tr>\n",
       "</table>"
      ],
      "text/plain": [
       "<IPython.core.display.HTML object>"
      ]
     },
     "metadata": {},
     "output_type": "display_data"
    }
   ],
   "source": [
    "table = IndividualTable(cvalidator.get_error_free_individual_list())\n",
    "display(HTML(table.to_html()))"
   ]
  },
  {
   "cell_type": "code",
   "execution_count": 6,
   "id": "fe100580-4323-496a-b8b2-a1ab01f6c71f",
   "metadata": {},
   "outputs": [
    {
     "name": "stdout",
     "output_type": "stream",
     "text": [
      "[pyphetools] Ingested 2 GA4GH phenopackets.\n",
      "\tCardiomyopathy, familial hypertrophic, 30, atrial (OMIM:620734): n=2\n",
      "We found a total of 8 unique HPO terms\n",
      "Extracted disease: Cardiomyopathy, familial hypertrophic, 30, atrial (OMIM:620734)\n",
      "Wrote HPOA disease file to OMIM-620734.tab\n"
     ]
    }
   ],
   "source": [
    "pmid = \"PMID:37913506\"\n",
    "df = timporter.create_hpoa_from_phenopackets(pmid=pmid, moi=\"Autosomal recessive\")"
   ]
  },
  {
   "cell_type": "code",
   "execution_count": null,
   "id": "a7da830b-abb4-40bf-bf5b-75af1a6e7f0b",
   "metadata": {},
   "outputs": [],
   "source": []
  }
 ],
 "metadata": {
  "kernelspec": {
   "display_name": "Python 3 (ipykernel)",
   "language": "python",
   "name": "python3"
  },
  "language_info": {
   "codemirror_mode": {
    "name": "ipython",
    "version": 3
   },
   "file_extension": ".py",
   "mimetype": "text/x-python",
   "name": "python",
   "nbconvert_exporter": "python",
   "pygments_lexer": "ipython3",
   "version": "3.8.10"
  }
 },
 "nbformat": 4,
 "nbformat_minor": 5
}
