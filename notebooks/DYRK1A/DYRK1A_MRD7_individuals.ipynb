{
 "cells": [
  {
   "cell_type": "markdown",
   "metadata": {},
   "source": [
    "# DYRK1A\n",
    "[autosomal dominant intellectual developmental disorder-7 (MRD7)](https://omim.org/entry/614104) is caused by heterozygous disruption of the DYRK1A gene."
   ]
  },
  {
   "cell_type": "code",
   "execution_count": 3,
   "metadata": {},
   "outputs": [
    {
     "name": "stdout",
     "output_type": "stream",
     "text": [
      "Using pyphetools version 0.9.92\n"
     ]
    }
   ],
   "source": [
    "from pyphetools.creation import TemplateImporter\n",
    "from pyphetools.visualization import IndividualTable, QcVisualizer\n",
    "from IPython.display import display, HTML\n",
    "import pyphetools\n",
    "print(f\"Using pyphetools version {pyphetools.__version__}\")"
   ]
  },
  {
   "cell_type": "code",
   "execution_count": 4,
   "metadata": {},
   "outputs": [],
   "source": [
    "template = \"input/DYRK1A_MRD7_individuals.xlsx\"\n",
    "created_by = \"0000-0002-0736-9199\""
   ]
  },
  {
   "cell_type": "code",
   "execution_count": 5,
   "metadata": {},
   "outputs": [
    {
     "name": "stdout",
     "output_type": "stream",
     "text": [
      "HPO version 2024-06-25\n",
      "Created encoders for 61 fields\n",
      "Importing OMIM:614104, Intellectual developmental disorder, autosomal dominant 7, HGNC:3091, DYRK1A,  NM_001347721.2\n",
      "[INFO] encoding variant \"c.924+4_924+7del\"\n",
      "https://rest.variantvalidator.org/VariantValidator/variantvalidator/hg38/NM_001347721.2%3Ac.924+4_924+7del/NM_001347721.2?content-type=application%2Fjson\n",
      "[INFO] encoding variant \"c.760C>T\"\n",
      "https://rest.variantvalidator.org/VariantValidator/variantvalidator/hg38/NM_001347721.2%3Ac.760C>T/NM_001347721.2?content-type=application%2Fjson\n",
      "We output 2 GA4GH phenopackets to the directory phenopackets\n"
     ]
    }
   ],
   "source": [
    "timporter = TemplateImporter(template=template,  created_by=created_by)\n",
    "individual_list, cvalidator = timporter.import_phenopackets_from_template()"
   ]
  },
  {
   "cell_type": "code",
   "execution_count": 6,
   "metadata": {},
   "outputs": [
    {
     "data": {
      "text/html": [
       "<h2>Cohort validation</h2>\n",
       "<p>No errors found for the cohort with 2 individuals</p>"
      ],
      "text/plain": [
       "<IPython.core.display.HTML object>"
      ]
     },
     "metadata": {},
     "output_type": "display_data"
    }
   ],
   "source": [
    "qc = QcVisualizer(cohort_validator=cvalidator)\n",
    "display(HTML(qc.to_summary_html()))"
   ]
  },
  {
   "cell_type": "code",
   "execution_count": 7,
   "metadata": {},
   "outputs": [
    {
     "data": {
      "text/html": [
       "<table style=\"border: 2px solid black; align: \"left\">\n",
       "<caption>2 phenopackets - PMID:26922654 (n=2)</caption>\n",
       "<tr><th style=\"text-align: left;font-weight: bold;\">Individual</th><th style=\"text-align: left;font-weight: bold;\">Disease</th><th style=\"text-align: left;font-weight: bold;\">Genotype</th><th style=\"text-align: left;font-weight: bold;\">Phenotypic features</th></tr>\n",
       "<tr><td style=\"text-align: left;\">Patient 1 (MALE; P1Y1M)</td><td style=\"text-align: left;\">Intellectual developmental disorder, autosomal dominant 7 (OMIM:614104)</td><td style=\"text-align: left;\">NM_001347721.2:c.924+4_924+7del (heterozygous)</td><td style=\"text-align: left;\"><b>P14D</b>: Enlarged cisterna magna (HP:0002280); Thin corpus callosum (HP:0033725)<br/><b>P10M</b>: Ventriculomegaly (HP:0002119)<br/><b>P1Y9M</b>: Delayed speech and language development (HP:0000750); Global developmental delay (HP:0001263)<br/>Intrauterine growth retardation (HP:0001511); Sacral dimple (HP:0000960); Limb hypertonia (HP:0002509); Primary microcephaly (HP:0011451); Patent ductus arteriosus (HP:0001643); Feeding difficulties (HP:0011968); Downslanted palpebral fissures (HP:0000494); Deeply set eye (HP:0000490); Low-set ears (HP:0000369); Narrow forehead (HP:0000341); Downturned corners of mouth (HP:0002714); Optic atrophy (HP:0000648); Hydronephrosis (HP:0000126); Recurrent otitis media (HP:0000403); excluded: Gait disturbance (HP:0001288); excluded: Ataxia (HP:0001251); excluded: Stereotypical hand wringing (HP:0012171); excluded: Prominent occiput (HP:0000269); excluded: Prominent nasal bridge (HP:0000426); excluded: Bulbous nose (HP:0000414); excluded: Smooth philtrum (HP:0000319); excluded: Long face (HP:0000276); excluded: Widely spaced teeth (HP:0000687); excluded: Febrile seizure (within the age range of 3 months to 6 years) (HP:0002373); excluded: Bilateral tonic-clonic seizure (HP:0002069); excluded: Pectus excavatum (HP:0000767); excluded: Secondary microcephaly (HP:0005484); excluded: Tongue thrusting (HP:0100703); excluded: Tapered finger (HP:0001182)</td></tr>\n",
       "<tr><td style=\"text-align: left;\">Patient 2 (FEMALE; P8Y)</td><td style=\"text-align: left;\">Intellectual developmental disorder, autosomal dominant 7 (OMIM:614104)</td><td style=\"text-align: left;\">NM_001347721.2:c.760C>T (heterozygous)</td><td style=\"text-align: left;\"><b>P7M</b>: Prominent occiput (HP:0000269); Deeply set eye (HP:0000490); Low-set ears (HP:0000369); Narrow forehead (HP:0000341)<br/><b>P1Y3M</b>: Febrile seizure (within the age range of 3 months to 6 years) (HP:0002373)<br/><b>P8Y</b>: Gait disturbance (HP:0001288); Ataxia (HP:0001251); Stereotypical hand wringing (HP:0012171)<br/><b>P12Y</b>: Prominent nasal bridge (HP:0000426); Bulbous nose (HP:0000414); Smooth philtrum (HP:0000319); Long face (HP:0000276); Widely spaced teeth (HP:0000687); Pectus excavatum (HP:0000767); Tapered finger (HP:0001182)<br/>Bilateral tonic-clonic seizure (HP:0002069); Secondary microcephaly (HP:0005484); Tongue thrusting (HP:0100703); excluded: Enlarged cisterna magna (HP:0002280); excluded: Primary microcephaly (HP:0011451); excluded: Thin corpus callosum (HP:0033725); excluded: Ventriculomegaly (HP:0002119)</td></tr>\n",
       "</table>"
      ],
      "text/plain": [
       "<IPython.core.display.HTML object>"
      ]
     },
     "metadata": {},
     "output_type": "display_data"
    }
   ],
   "source": [
    "table = IndividualTable(cvalidator.get_error_free_individual_list())\n",
    "display(HTML(table.to_html()))"
   ]
  },
  {
   "cell_type": "code",
   "execution_count": 8,
   "metadata": {},
   "outputs": [
    {
     "name": "stdout",
     "output_type": "stream",
     "text": [
      "[pyphetools] Ingested 2 GA4GH phenopackets.\n",
      "[INFO] Extracted 2 from 2 phenopackets with OMIM:614104\n",
      "\n",
      "\tIntellectual developmental disorder, autosomal dominant 7 (OMIM:614104): n=2\n",
      "We found a total of 34 unique HPO terms\n",
      "Extracted disease: Intellectual developmental disorder, autosomal dominant 7 (OMIM:614104)\n",
      "Wrote HPOA disease file to OMIM-614104.tab\n"
     ]
    }
   ],
   "source": [
    "pmid = \"PMID:26922654\"\n",
    "df = timporter.create_hpoa_from_phenopackets(pmid=pmid, moi=\"Autosomal dominant\", target=\"OMIM:614104\")"
   ]
  }
 ],
 "metadata": {
  "kernelspec": {
   "display_name": "ps24venv",
   "language": "python",
   "name": "python3"
  },
  "language_info": {
   "codemirror_mode": {
    "name": "ipython",
    "version": 3
   },
   "file_extension": ".py",
   "mimetype": "text/x-python",
   "name": "python",
   "nbconvert_exporter": "python",
   "pygments_lexer": "ipython3",
   "version": "3.9.6"
  }
 },
 "nbformat": 4,
 "nbformat_minor": 2
}
