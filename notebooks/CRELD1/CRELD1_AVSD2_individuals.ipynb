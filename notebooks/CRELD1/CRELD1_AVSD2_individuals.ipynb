{
 "cells": [
  {
   "cell_type": "markdown",
   "metadata": {},
   "source": [
    "# CRELD1\n",
    "[susceptibility to atrioventricular septal defect-2 (AVSD2)](https://omim.org/entry/606217) is conferred by heterozygous mutation in the gene encoding cell adhesion molecule CRELD1. With the exception of the group with heterotaxy, the subjects did not have extracardiac abnormalities. "
   ]
  },
  {
   "cell_type": "code",
   "execution_count": 1,
   "metadata": {},
   "outputs": [
    {
     "name": "stdout",
     "output_type": "stream",
     "text": [
      "Using pyphetools version 0.9.94\n"
     ]
    },
    {
     "name": "stderr",
     "output_type": "stream",
     "text": [
      "/Users/robin/GIT/phenopacket-store/ps24venv/lib/python3.9/site-packages/urllib3/__init__.py:35: NotOpenSSLWarning: urllib3 v2 only supports OpenSSL 1.1.1+, currently the 'ssl' module is compiled with 'LibreSSL 2.8.3'. See: https://github.com/urllib3/urllib3/issues/3020\n",
      "  warnings.warn(\n"
     ]
    }
   ],
   "source": [
    "from pyphetools.creation import TemplateImporter, Moi\n",
    "from pyphetools.visualization import IndividualTable, QcVisualizer\n",
    "from IPython.display import display, HTML\n",
    "import pyphetools\n",
    "print(f\"Using pyphetools version {pyphetools.__version__}\")"
   ]
  },
  {
   "cell_type": "code",
   "execution_count": 2,
   "metadata": {},
   "outputs": [],
   "source": [
    "template = \"input/CRELD1_AVSD2_individuals.xlsx\"\n",
    "created_by = \"0000-0002-0736-9199\""
   ]
  },
  {
   "cell_type": "code",
   "execution_count": 3,
   "metadata": {},
   "outputs": [
    {
     "name": "stdout",
     "output_type": "stream",
     "text": [
      "HPO version 2024-07-01\n",
      "Created encoders for 21 fields\n",
      "Importing OMIM:606217, Atrioventricular septal defect, partial, with heterotaxy syndrome, HGNC:14630, CRELD1,  NM_001077415.3\n",
      "We output 3 GA4GH phenopackets to the directory phenopackets\n"
     ]
    }
   ],
   "source": [
    "timporter = TemplateImporter(template=template,  created_by=created_by)\n",
    "individual_list, cvalidator = timporter.import_phenopackets_from_template()"
   ]
  },
  {
   "cell_type": "code",
   "execution_count": 4,
   "metadata": {},
   "outputs": [
    {
     "data": {
      "text/html": [
       "<h2>Cohort validation</h2>\n",
       "<p>No errors found for the cohort with 3 individuals</p>"
      ],
      "text/plain": [
       "<IPython.core.display.HTML object>"
      ]
     },
     "metadata": {},
     "output_type": "display_data"
    }
   ],
   "source": [
    "qc = QcVisualizer(cohort_validator=cvalidator)\n",
    "display(HTML(qc.to_summary_html()))"
   ]
  },
  {
   "cell_type": "code",
   "execution_count": 5,
   "metadata": {},
   "outputs": [
    {
     "data": {
      "text/html": [
       "<table style=\"border: 2px solid black; align: \"left\">\n",
       "<caption>3 phenopackets - PMID:12632326 (n=3)</caption>\n",
       "<tr><th style=\"text-align: left;font-weight: bold;\">Individual</th><th style=\"text-align: left;font-weight: bold;\">Disease</th><th style=\"text-align: left;font-weight: bold;\">Genotype</th><th style=\"text-align: left;font-weight: bold;\">Phenotypic features</th></tr>\n",
       "<tr><td style=\"text-align: left;\">subject 1 (UNKNOWN; n/a)</td><td style=\"text-align: left;\">Atrioventricular septal defect, partial, with heterotaxy syndrome (OMIM:606217)</td><td style=\"text-align: left;\">NM_001077415.3:c.985C>T (heterozygous)</td><td style=\"text-align: left;\">Partial atrioventricular canal defect (HP:0011577); excluded: Dextrocardia (HP:0001651); excluded: Pulmonary valve atresia (HP:0010882); excluded: Right aortic arch (HP:0012020)</td></tr>\n",
       "<tr><td style=\"text-align: left;\">subject 2 (UNKNOWN; n/a)</td><td style=\"text-align: left;\">Atrioventricular septal defect, partial, with heterotaxy syndrome (OMIM:606217)</td><td style=\"text-align: left;\">NM_001077415.3:c.932C>T (heterozygous)</td><td style=\"text-align: left;\">Partial atrioventricular canal defect (HP:0011577); excluded: Dextrocardia (HP:0001651); excluded: Pulmonary valve atresia (HP:0010882); excluded: Right aortic arch (HP:0012020)</td></tr>\n",
       "<tr><td style=\"text-align: left;\">subject 3 (UNKNOWN; n/a)</td><td style=\"text-align: left;\">Atrioventricular septal defect, partial, with heterotaxy syndrome (OMIM:606217)</td><td style=\"text-align: left;\">NM_001077415.3:c.320G>A (heterozygous)</td><td style=\"text-align: left;\">Partial atrioventricular canal defect (HP:0011577); Dextrocardia (HP:0001651); Pulmonary valve atresia (HP:0010882); Right aortic arch (HP:0012020)</td></tr>\n",
       "</table>"
      ],
      "text/plain": [
       "<IPython.core.display.HTML object>"
      ]
     },
     "metadata": {},
     "output_type": "display_data"
    }
   ],
   "source": [
    "table = IndividualTable(cvalidator.get_error_free_individual_list())\n",
    "display(HTML(table.to_html()))"
   ]
  },
  {
   "cell_type": "code",
   "execution_count": 6,
   "metadata": {},
   "outputs": [
    {
     "name": "stdout",
     "output_type": "stream",
     "text": [
      "[pyphetools] Ingested 21 GA4GH phenopackets.\n",
      "[INFO] Extracted 3 from 21 phenopackets with OMIM:606217\n",
      "\n",
      "\tAtrioventricular septal defect, partial, with heterotaxy syndrome (OMIM:606217): n=3\n",
      "We found a total of 4 unique HPO terms\n",
      "Extracted disease: Atrioventricular septal defect, partial, with heterotaxy syndrome (OMIM:606217)\n",
      "Wrote HPOA disease file to OMIM-606217.tab\n"
     ]
    },
    {
     "data": {
      "text/html": [
       "<div>\n",
       "<style scoped>\n",
       "    .dataframe tbody tr th:only-of-type {\n",
       "        vertical-align: middle;\n",
       "    }\n",
       "\n",
       "    .dataframe tbody tr th {\n",
       "        vertical-align: top;\n",
       "    }\n",
       "\n",
       "    .dataframe thead th {\n",
       "        text-align: right;\n",
       "    }\n",
       "</style>\n",
       "<table border=\"1\" class=\"dataframe\">\n",
       "  <thead>\n",
       "    <tr style=\"text-align: right;\">\n",
       "      <th></th>\n",
       "      <th>#diseaseID</th>\n",
       "      <th>diseaseName</th>\n",
       "      <th>phenotypeID</th>\n",
       "      <th>phenotypeName</th>\n",
       "      <th>onsetID</th>\n",
       "      <th>onsetName</th>\n",
       "      <th>frequency</th>\n",
       "      <th>sex</th>\n",
       "      <th>negation</th>\n",
       "      <th>modifier</th>\n",
       "      <th>description</th>\n",
       "      <th>publication</th>\n",
       "      <th>evidence</th>\n",
       "      <th>biocuration</th>\n",
       "    </tr>\n",
       "  </thead>\n",
       "  <tbody>\n",
       "    <tr>\n",
       "      <th>0</th>\n",
       "      <td>OMIM:606217</td>\n",
       "      <td>Atrioventricular septal defect, partial, with ...</td>\n",
       "      <td>HP:0011577</td>\n",
       "      <td>Partial atrioventricular canal defect</td>\n",
       "      <td></td>\n",
       "      <td></td>\n",
       "      <td>3/3</td>\n",
       "      <td></td>\n",
       "      <td></td>\n",
       "      <td></td>\n",
       "      <td></td>\n",
       "      <td>PMID:12632326</td>\n",
       "      <td>PCS</td>\n",
       "      <td>ORCID:0000-0002-0736-9199[2024-07-21]</td>\n",
       "    </tr>\n",
       "    <tr>\n",
       "      <th>1</th>\n",
       "      <td>OMIM:606217</td>\n",
       "      <td>Atrioventricular septal defect, partial, with ...</td>\n",
       "      <td>HP:0001651</td>\n",
       "      <td>Dextrocardia</td>\n",
       "      <td></td>\n",
       "      <td></td>\n",
       "      <td>1/3</td>\n",
       "      <td></td>\n",
       "      <td></td>\n",
       "      <td></td>\n",
       "      <td></td>\n",
       "      <td>PMID:12632326</td>\n",
       "      <td>PCS</td>\n",
       "      <td>ORCID:0000-0002-0736-9199[2024-07-21]</td>\n",
       "    </tr>\n",
       "    <tr>\n",
       "      <th>2</th>\n",
       "      <td>OMIM:606217</td>\n",
       "      <td>Atrioventricular septal defect, partial, with ...</td>\n",
       "      <td>HP:0010882</td>\n",
       "      <td>Pulmonary valve atresia</td>\n",
       "      <td></td>\n",
       "      <td></td>\n",
       "      <td>1/3</td>\n",
       "      <td></td>\n",
       "      <td></td>\n",
       "      <td></td>\n",
       "      <td></td>\n",
       "      <td>PMID:12632326</td>\n",
       "      <td>PCS</td>\n",
       "      <td>ORCID:0000-0002-0736-9199[2024-07-21]</td>\n",
       "    </tr>\n",
       "    <tr>\n",
       "      <th>3</th>\n",
       "      <td>OMIM:606217</td>\n",
       "      <td>Atrioventricular septal defect, partial, with ...</td>\n",
       "      <td>HP:0012020</td>\n",
       "      <td>Right aortic arch</td>\n",
       "      <td></td>\n",
       "      <td></td>\n",
       "      <td>1/3</td>\n",
       "      <td></td>\n",
       "      <td></td>\n",
       "      <td></td>\n",
       "      <td></td>\n",
       "      <td>PMID:12632326</td>\n",
       "      <td>PCS</td>\n",
       "      <td>ORCID:0000-0002-0736-9199[2024-07-21]</td>\n",
       "    </tr>\n",
       "    <tr>\n",
       "      <th>4</th>\n",
       "      <td>OMIM:606217</td>\n",
       "      <td>Atrioventricular septal defect, partial, with ...</td>\n",
       "      <td>HP:0000006</td>\n",
       "      <td>Autosomal dominant inheritance</td>\n",
       "      <td></td>\n",
       "      <td></td>\n",
       "      <td></td>\n",
       "      <td></td>\n",
       "      <td></td>\n",
       "      <td></td>\n",
       "      <td></td>\n",
       "      <td>PMID:12632326</td>\n",
       "      <td>PCS</td>\n",
       "      <td>ORCID:0000-0002-0736-9199[2024-07-21]</td>\n",
       "    </tr>\n",
       "  </tbody>\n",
       "</table>\n",
       "</div>"
      ],
      "text/plain": [
       "    #diseaseID                                        diseaseName phenotypeID  \\\n",
       "0  OMIM:606217  Atrioventricular septal defect, partial, with ...  HP:0011577   \n",
       "1  OMIM:606217  Atrioventricular septal defect, partial, with ...  HP:0001651   \n",
       "2  OMIM:606217  Atrioventricular septal defect, partial, with ...  HP:0010882   \n",
       "3  OMIM:606217  Atrioventricular septal defect, partial, with ...  HP:0012020   \n",
       "4  OMIM:606217  Atrioventricular septal defect, partial, with ...  HP:0000006   \n",
       "\n",
       "                           phenotypeName onsetID onsetName frequency sex  \\\n",
       "0  Partial atrioventricular canal defect                         3/3       \n",
       "1                           Dextrocardia                         1/3       \n",
       "2                Pulmonary valve atresia                         1/3       \n",
       "3                      Right aortic arch                         1/3       \n",
       "4         Autosomal dominant inheritance                                   \n",
       "\n",
       "  negation modifier description    publication evidence  \\\n",
       "0                                PMID:12632326      PCS   \n",
       "1                                PMID:12632326      PCS   \n",
       "2                                PMID:12632326      PCS   \n",
       "3                                PMID:12632326      PCS   \n",
       "4                                PMID:12632326      PCS   \n",
       "\n",
       "                             biocuration  \n",
       "0  ORCID:0000-0002-0736-9199[2024-07-21]  \n",
       "1  ORCID:0000-0002-0736-9199[2024-07-21]  \n",
       "2  ORCID:0000-0002-0736-9199[2024-07-21]  \n",
       "3  ORCID:0000-0002-0736-9199[2024-07-21]  \n",
       "4  ORCID:0000-0002-0736-9199[2024-07-21]  "
      ]
     },
     "execution_count": 6,
     "metadata": {},
     "output_type": "execute_result"
    }
   ],
   "source": [
    "pmid = \"PMID:12632326\"\n",
    "df = timporter.create_hpoa_from_phenopackets(pmid=pmid, mode_of_inheritance=Moi.AD, target=\"OMIM:606217\")\n",
    "df.head()"
   ]
  }
 ],
 "metadata": {
  "kernelspec": {
   "display_name": "ps24venv",
   "language": "python",
   "name": "python3"
  },
  "language_info": {
   "codemirror_mode": {
    "name": "ipython",
    "version": 3
   },
   "file_extension": ".py",
   "mimetype": "text/x-python",
   "name": "python",
   "nbconvert_exporter": "python",
   "pygments_lexer": "ipython3",
   "version": "3.12.4"
  }
 },
 "nbformat": 4,
 "nbformat_minor": 2
}
