{
 "cells": [
  {
   "cell_type": "markdown",
   "metadata": {},
   "source": [
    "# NIPBL\n",
    "[Cornelia de Lange syndrome-1 (CDLS1)](https://omim.org/entry/122470) is caused by heterozygous mutation in the NIPBL gene."
   ]
  },
  {
   "cell_type": "code",
   "execution_count": 3,
   "metadata": {},
   "outputs": [
    {
     "name": "stdout",
     "output_type": "stream",
     "text": [
      "Using pyphetools version 0.9.92\n"
     ]
    }
   ],
   "source": [
    "from pyphetools.creation import TemplateImporter\n",
    "from pyphetools.visualization import IndividualTable, QcVisualizer\n",
    "from IPython.display import display, HTML\n",
    "import pyphetools\n",
    "print(f\"Using pyphetools version {pyphetools.__version__}\")"
   ]
  },
  {
   "cell_type": "code",
   "execution_count": 4,
   "metadata": {},
   "outputs": [],
   "source": [
    "template = \"input/NIPBL_CDLS1_individuals.xlsx\"\n",
    "created_by = \"0000-0002-0736-9199\""
   ]
  },
  {
   "cell_type": "code",
   "execution_count": 7,
   "metadata": {},
   "outputs": [
    {
     "name": "stdout",
     "output_type": "stream",
     "text": [
      "HPO version 2024-07-01\n",
      "Created encoders for 69 fields\n",
      "Importing OMIM:122470, Cornelia de Lange syndrome 1, HGNC:28862, NIPBL,  NM_133433.4\n",
      "[INFO] encoding variant \"c.1672del\"\n",
      "https://rest.variantvalidator.org/VariantValidator/variantvalidator/hg38/NM_133433.4%3Ac.1672del/NM_133433.4?content-type=application%2Fjson\n",
      "[INFO] encoding variant \"c.2479del\"\n",
      "https://rest.variantvalidator.org/VariantValidator/variantvalidator/hg38/NM_133433.4%3Ac.2479del/NM_133433.4?content-type=application%2Fjson\n",
      "[INFO] encoding variant \"c.6272G>T\"\n",
      "https://rest.variantvalidator.org/VariantValidator/variantvalidator/hg38/NM_133433.4%3Ac.6272G>T/NM_133433.4?content-type=application%2Fjson\n",
      "We output 3 GA4GH phenopackets to the directory phenopackets\n"
     ]
    }
   ],
   "source": [
    "timporter = TemplateImporter(template=template,  created_by=created_by)\n",
    "individual_list, cvalidator = timporter.import_phenopackets_from_template()"
   ]
  },
  {
   "cell_type": "code",
   "execution_count": 8,
   "metadata": {},
   "outputs": [
    {
     "data": {
      "text/html": [
       "<h2>Cohort validation</h2>\n",
       "<p>No errors found for the cohort with 3 individuals</p>"
      ],
      "text/plain": [
       "<IPython.core.display.HTML object>"
      ]
     },
     "metadata": {},
     "output_type": "display_data"
    }
   ],
   "source": [
    "qc = QcVisualizer(cohort_validator=cvalidator)\n",
    "display(HTML(qc.to_summary_html()))"
   ]
  },
  {
   "cell_type": "code",
   "execution_count": 9,
   "metadata": {},
   "outputs": [
    {
     "data": {
      "text/html": [
       "<table style=\"border: 2px solid black; align: \"left\">\n",
       "<caption>3 phenopackets - PMID:25447906 (n=3)</caption>\n",
       "<tr><th style=\"text-align: left;font-weight: bold;\">Individual</th><th style=\"text-align: left;font-weight: bold;\">Disease</th><th style=\"text-align: left;font-weight: bold;\">Genotype</th><th style=\"text-align: left;font-weight: bold;\">Phenotypic features</th></tr>\n",
       "<tr><td style=\"text-align: left;\">Patient 1 (MALE; P7Y)</td><td style=\"text-align: left;\">Cornelia de Lange syndrome 1 (OMIM:122470)</td><td style=\"text-align: left;\">NM_133433.4:c.2479del (heterozygous)</td><td style=\"text-align: left;\">Postnatal growth retardation (HP:0008897); Intellectual disability (HP:0001249); Hirsutism (HP:0001007); Delayed speech and language development (HP:0000750); Thin upper lip vermilion (HP:0000219); Curly eyelashes (HP:0007665); Cleft palate (HP:0000175); Low posterior hairline (HP:0002162); Depressed nasal bridge (HP:0005280); Long philtrum (HP:0000343); Single transverse palmar crease (HP:0000954); Synophrys (HP:0000664); Microcephaly (HP:0000252); Low-set ears (HP:0000369)</td></tr>\n",
       "<tr><td style=\"text-align: left;\">Patient 2 (FEMALE; P6Y)</td><td style=\"text-align: left;\">Cornelia de Lange syndrome 1 (OMIM:122470)</td><td style=\"text-align: left;\">NM_133433.4:c.6272G>T (heterozygous)</td><td style=\"text-align: left;\">Postnatal growth retardation (HP:0008897); Intellectual disability (HP:0001249); Delayed speech and language development (HP:0000750); Thin upper lip vermilion (HP:0000219); Curly eyelashes (HP:0007665); Low posterior hairline (HP:0002162); Depressed nasal bridge (HP:0005280); Long philtrum (HP:0000343); Synophrys (HP:0000664); Microcephaly (HP:0000252); excluded: Hirsutism (HP:0001007); excluded: Cleft palate (HP:0000175); excluded: Single transverse palmar crease (HP:0000954); excluded: Low-set ears (HP:0000369)</td></tr>\n",
       "<tr><td style=\"text-align: left;\">Patient 3 (FEMALE; P2Y)</td><td style=\"text-align: left;\">Cornelia de Lange syndrome 1 (OMIM:122470)</td><td style=\"text-align: left;\">NM_133433.4:c.1672del (heterozygous)</td><td style=\"text-align: left;\">Postnatal growth retardation (HP:0008897); Intellectual disability (HP:0001249); Hirsutism (HP:0001007); Delayed speech and language development (HP:0000750); Thin upper lip vermilion (HP:0000219); Curly eyelashes (HP:0007665); Low posterior hairline (HP:0002162); Depressed nasal bridge (HP:0005280); Long philtrum (HP:0000343); Single transverse palmar crease (HP:0000954); Synophrys (HP:0000664); Microcephaly (HP:0000252); Low-set ears (HP:0000369); excluded: Cleft palate (HP:0000175)</td></tr>\n",
       "</table>"
      ],
      "text/plain": [
       "<IPython.core.display.HTML object>"
      ]
     },
     "metadata": {},
     "output_type": "display_data"
    }
   ],
   "source": [
    "table = IndividualTable(cvalidator.get_error_free_individual_list())\n",
    "display(HTML(table.to_html()))"
   ]
  },
  {
   "cell_type": "code",
   "execution_count": 10,
   "metadata": {},
   "outputs": [
    {
     "name": "stdout",
     "output_type": "stream",
     "text": [
      "[pyphetools] Ingested 3 GA4GH phenopackets.\n",
      "[INFO] Extracted 3 from 3 phenopackets with OMIM:122470\n",
      "\n",
      "\tCornelia de Lange syndrome 1 (OMIM:122470): n=3\n",
      "We found a total of 14 unique HPO terms\n",
      "Extracted disease: Cornelia de Lange syndrome 1 (OMIM:122470)\n",
      "Wrote HPOA disease file to OMIM-122470.tab\n"
     ]
    }
   ],
   "source": [
    "pmid = \"PMID:25447906\"\n",
    "df = timporter.create_hpoa_from_phenopackets(pmid=pmid, moi=\"Autosomal dominant\", target=\"OMIM:122470\")"
   ]
  }
 ],
 "metadata": {
  "kernelspec": {
   "display_name": "ps24venv",
   "language": "python",
   "name": "python3"
  },
  "language_info": {
   "codemirror_mode": {
    "name": "ipython",
    "version": 3
   },
   "file_extension": ".py",
   "mimetype": "text/x-python",
   "name": "python",
   "nbconvert_exporter": "python",
   "pygments_lexer": "ipython3",
   "version": "3.9.6"
  }
 },
 "nbformat": 4,
 "nbformat_minor": 2
}
