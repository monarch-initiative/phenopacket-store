{
 "cells": [
  {
   "cell_type": "markdown",
   "metadata": {},
   "source": [
    "# NIPBL\n",
    "[Cornelia de Lange syndrome-1 (CDLS1)](https://omim.org/entry/122470) is caused by heterozygous mutation in the NIPBL gene."
   ]
  },
  {
   "cell_type": "code",
   "execution_count": 1,
   "metadata": {},
   "outputs": [
    {
     "name": "stdout",
     "output_type": "stream",
     "text": [
      "Using pyphetools version 0.9.105\n"
     ]
    }
   ],
   "source": [
    "from pyphetools.creation import TemplateImporter, Moi\n",
    "from pyphetools.visualization import IndividualTable, QcVisualizer\n",
    "from IPython.display import display, HTML\n",
    "import pyphetools\n",
    "print(f\"Using pyphetools version {pyphetools.__version__}\")"
   ]
  },
  {
   "cell_type": "code",
   "execution_count": 2,
   "metadata": {},
   "outputs": [],
   "source": [
    "template = \"input/NIPBL_CDLS1_individuals.xlsx\"\n",
    "created_by = \"0000-0002-0736-9199\""
   ]
  },
  {
   "cell_type": "code",
   "execution_count": 3,
   "metadata": {},
   "outputs": [
    {
     "name": "stdout",
     "output_type": "stream",
     "text": [
      "HPO version 2024-08-13\n",
      "Created encoders for 97 fields\n",
      "Importing OMIM:122470, Cornelia de Lange syndrome 1, HGNC:28862, NIPBL,  NM_133433.4\n",
      "We output 22 GA4GH phenopackets to the directory phenopackets\n"
     ]
    }
   ],
   "source": [
    "timporter = TemplateImporter(template=template,  created_by=created_by)\n",
    "individual_list, cvalidator = timporter.import_phenopackets_from_template()"
   ]
  },
  {
   "cell_type": "code",
   "execution_count": 4,
   "metadata": {},
   "outputs": [
    {
     "data": {
      "text/html": [
       "<h2>Cohort validation</h2>\n",
       "<p>Errors found with 11 of 22 phenopackets.</p>\n",
       "<table style=\"border: 2px solid black; align: \"left\">\n",
       "<caption>Error counts</caption>\n",
       "<tr><th style=\"text-align: left;font-weight: bold;\">Level</th><th style=\"text-align: left;font-weight: bold;\">Error category</th><th style=\"text-align: left;font-weight: bold;\">Count</th></tr>\n",
       "<tr><td style=\"text-align: left;\">WARNING</td><td style=\"text-align: left;\">REDUNDANT</td><td style=\"text-align: left;\">11</td></tr>\n",
       "</table>\n",
       "<p>A total of 11 issues were fixed and no individual was removed from the cohort.</p>"
      ],
      "text/plain": [
       "<IPython.core.display.HTML object>"
      ]
     },
     "metadata": {},
     "output_type": "display_data"
    }
   ],
   "source": [
    "qc = QcVisualizer(cohort_validator=cvalidator)\n",
    "display(HTML(qc.to_summary_html()))"
   ]
  },
  {
   "cell_type": "code",
   "execution_count": 5,
   "metadata": {},
   "outputs": [
    {
     "data": {
      "text/html": [
       "<table style=\"border: 2px solid black; align: \"left\">\n",
       "<caption>22 phenopackets - PMID:25447906 (n=3); PMID:38284454 (n=8); PMID:20358602 (n=11)</caption>\n",
       "<tr><th style=\"text-align: left;font-weight: bold;\">Individual</th><th style=\"text-align: left;font-weight: bold;\">Disease</th><th style=\"text-align: left;font-weight: bold;\">Genotype</th><th style=\"text-align: left;font-weight: bold;\">Phenotypic features</th></tr>\n",
       "<tr><td style=\"text-align: left;\">Patient 1 (MALE; P7Y)</td><td style=\"text-align: left;\">Cornelia de Lange syndrome 1 (OMIM:122470)</td><td style=\"text-align: left;\">NM_133433.4:c.2479del (heterozygous)</td><td style=\"text-align: left;\">Postnatal growth retardation (HP:0008897): onset ; Intellectual disability (HP:0001249): onset ; Hirsutism (HP:0001007): onset ; Delayed speech and language development (HP:0000750): onset ; Thin upper lip vermilion (HP:0000219): onset ; Curly eyelashes (HP:0007665): onset ; Cleft palate (HP:0000175): onset ; Low posterior hairline (HP:0002162): onset ; Depressed nasal bridge (HP:0005280): onset ; Long philtrum (HP:0000343): onset ; Single transverse palmar crease (HP:0000954): onset ; Synophrys (HP:0000664): onset ; Microcephaly (HP:0000252): onset ; Low-set ears (HP:0000369): onset </td></tr>\n",
       "<tr><td style=\"text-align: left;\">Patient 2 (FEMALE; P6Y)</td><td style=\"text-align: left;\">Cornelia de Lange syndrome 1 (OMIM:122470)</td><td style=\"text-align: left;\">NM_133433.4:c.6272G>T (heterozygous)</td><td style=\"text-align: left;\">Postnatal growth retardation (HP:0008897): onset ; Intellectual disability (HP:0001249): onset ; Delayed speech and language development (HP:0000750): onset ; Thin upper lip vermilion (HP:0000219): onset ; Curly eyelashes (HP:0007665): onset ; Low posterior hairline (HP:0002162): onset ; Depressed nasal bridge (HP:0005280): onset ; Long philtrum (HP:0000343): onset ; Synophrys (HP:0000664): onset ; Microcephaly (HP:0000252): onset ; excluded: Hirsutism (HP:0001007): onset ; excluded: Cleft palate (HP:0000175): onset ; excluded: Single transverse palmar crease (HP:0000954): onset ; excluded: Low-set ears (HP:0000369): onset </td></tr>\n",
       "<tr><td style=\"text-align: left;\">Patient 3 (FEMALE; P2Y)</td><td style=\"text-align: left;\">Cornelia de Lange syndrome 1 (OMIM:122470)</td><td style=\"text-align: left;\">NM_133433.4:c.1672del (heterozygous)</td><td style=\"text-align: left;\">Postnatal growth retardation (HP:0008897): onset ; Intellectual disability (HP:0001249): onset ; Hirsutism (HP:0001007): onset ; Delayed speech and language development (HP:0000750): onset ; Thin upper lip vermilion (HP:0000219): onset ; Curly eyelashes (HP:0007665): onset ; Low posterior hairline (HP:0002162): onset ; Depressed nasal bridge (HP:0005280): onset ; Long philtrum (HP:0000343): onset ; Single transverse palmar crease (HP:0000954): onset ; Synophrys (HP:0000664): onset ; Microcephaly (HP:0000252): onset ; Low-set ears (HP:0000369): onset ; excluded: Cleft palate (HP:0000175): onset </td></tr>\n",
       "<tr><td style=\"text-align: left;\">Patient 1 (UNKNOWN)</td><td style=\"text-align: left;\">Cornelia de Lange syndrome 1 (OMIM:122470)</td><td style=\"text-align: left;\">NM_133433.4:c.6027_6030del (heterozygous)</td><td style=\"text-align: left;\">Postnatal growth retardation (HP:0008897): onset ; Intellectual disability (HP:0001249): onset ; Curly eyelashes (HP:0007665): onset ; Long eyelashes (HP:0000527): onset ; Depressed nasal bridge (HP:0005280): onset ; Downturned corners of mouth (HP:0002714): onset ; Long philtrum (HP:0000343): onset ; Smooth philtrum (HP:0000319): onset ; Anteverted nares (HP:0000463): onset ; Short stature (HP:0004322): onset ; Brachycephaly (HP:0000248): onset ; Sensorineural hearing impairment (HP:0000407): onset ; Synophrys (HP:0000664): onset ; Microcephaly (HP:0000252): onset ; Small hand (HP:0200055): onset ; Duplication of phalanx of hallux (HP:0010066): onset ; Oligodactyly (HP:0012165): onset </td></tr>\n",
       "<tr><td style=\"text-align: left;\">Patient 3 (UNKNOWN)</td><td style=\"text-align: left;\">Cornelia de Lange syndrome 1 (OMIM:122470)</td><td style=\"text-align: left;\">NM_133433.4:c.2479_2480del (heterozygous)</td><td style=\"text-align: left;\">Postnatal growth retardation (HP:0008897): onset ; Intellectual disability (HP:0001249): onset ; Proximal placement of thumb (HP:0009623): onset ; Hirsutism (HP:0001007): onset ; Curly eyelashes (HP:0007665): onset ; Long eyelashes (HP:0000527): onset ; Low anterior hairline (HP:0000294): onset ; Depressed nasal bridge (HP:0005280): onset ; Downturned corners of mouth (HP:0002714): onset ; Anteverted nares (HP:0000463): onset ; Short stature (HP:0004322): onset ; Widely spaced teeth (HP:0000687): onset ; Synophrys (HP:0000664): onset ; Microcephaly (HP:0000252): onset ; Intrauterine growth retardation (HP:0001511): onset ; Low-set ears (HP:0000369): onset ; Clinodactyly of the 5th finger (HP:0004209): onset ; Thick eyebrow (HP:0000574): onset ; Highly arched eyebrow (HP:0002553): onset ; Short nose (HP:0003196): onset ; Broad nasal tip (HP:0000455): onset ; Small hand (HP:0200055): onset ; Short foot (HP:0001773): onset ; Oligodactyly (HP:0012165): onset ; excluded: Thin upper lip vermilion (HP:0000219): onset ; excluded: High palate (HP:0000218): onset ; excluded: Cryptorchidism (HP:0000028): onset ; excluded: Long philtrum (HP:0000343): onset ; excluded: Smooth philtrum (HP:0000319): onset ; excluded: Brachycephaly (HP:0000248): onset ; excluded: Sensorineural hearing impairment (HP:0000407): onset ; excluded: Congenital diaphragmatic hernia (HP:0000776): onset ; excluded: Duplication of phalanx of hallux (HP:0010066): onset </td></tr>\n",
       "<tr><td style=\"text-align: left;\">Patient 4 (UNKNOWN)</td><td style=\"text-align: left;\">Cornelia de Lange syndrome 1 (OMIM:122470)</td><td style=\"text-align: left;\">NM_133433.4:c.3932G>A (heterozygous)</td><td style=\"text-align: left;\">Intellectual disability (HP:0001249): onset ; Hirsutism (HP:0001007): onset ; Curly eyelashes (HP:0007665): onset ; Long eyelashes (HP:0000527): onset ; Depressed nasal bridge (HP:0005280): onset ; Anteverted nares (HP:0000463): onset ; Short stature (HP:0004322): onset ; Widely spaced teeth (HP:0000687): onset ; Synophrys (HP:0000664): onset ; Microcephaly (HP:0000252): onset ; Clinodactyly of the 5th finger (HP:0004209): onset ; Short nose (HP:0003196): onset ; Short foot (HP:0001773): onset ; excluded: Sensorineural hearing impairment (HP:0000407): onset ; excluded: Duplication of phalanx of hallux (HP:0010066): onset </td></tr>\n",
       "<tr><td style=\"text-align: left;\">Patient 9 (UNKNOWN)</td><td style=\"text-align: left;\">Cornelia de Lange syndrome 1 (OMIM:122470)</td><td style=\"text-align: left;\">NM_133433.4:c.6955-2A>C (heterozygous)</td><td style=\"text-align: left;\">Postnatal growth retardation (HP:0008897): onset ; Intellectual disability (HP:0001249): onset ; Hirsutism (HP:0001007): onset ; Curly eyelashes (HP:0007665): onset ; Long eyelashes (HP:0000527): onset ; Depressed nasal bridge (HP:0005280): onset ; Downturned corners of mouth (HP:0002714): onset ; Long philtrum (HP:0000343): onset ; Smooth philtrum (HP:0000319): onset ; Short stature (HP:0004322): onset ; Widely spaced teeth (HP:0000687): onset ; Synophrys (HP:0000664): onset ; Microcephaly (HP:0000252): onset ; Small hand (HP:0200055): onset ; Oligodactyly (HP:0012165): onset ; excluded: Sensorineural hearing impairment (HP:0000407): onset ; excluded: Duplication of phalanx of hallux (HP:0010066): onset </td></tr>\n",
       "<tr><td style=\"text-align: left;\">Patient 10 (UNKNOWN)</td><td style=\"text-align: left;\">Cornelia de Lange syndrome 1 (OMIM:122470)</td><td style=\"text-align: left;\">NM_133433.4:c.5639_5642del (heterozygous)</td><td style=\"text-align: left;\">Postnatal growth retardation (HP:0008897): onset ; Proximal placement of thumb (HP:0009623): onset ; Hirsutism (HP:0001007): onset ; Thin upper lip vermilion (HP:0000219): onset ; Curly eyelashes (HP:0007665): onset ; Long eyelashes (HP:0000527): onset ; High palate (HP:0000218): onset ; Low anterior hairline (HP:0000294): onset ; Depressed nasal bridge (HP:0005280): onset ; Downturned corners of mouth (HP:0002714): onset ; Long philtrum (HP:0000343): onset ; Smooth philtrum (HP:0000319): onset ; Anteverted nares (HP:0000463): onset ; Short stature (HP:0004322): onset ; Congenital diaphragmatic hernia (HP:0000776): onset ; Synophrys (HP:0000664): onset ; Microcephaly (HP:0000252): onset ; Micrognathia (HP:0000347): onset ; Intrauterine growth retardation (HP:0001511): onset ; Low-set ears (HP:0000369): onset ; Clinodactyly of the 5th finger (HP:0004209): onset ; Thick eyebrow (HP:0000574): onset ; Highly arched eyebrow (HP:0002553): onset ; Short nose (HP:0003196): onset ; Broad nasal tip (HP:0000455): onset ; Small hand (HP:0200055): onset ; Oligodactyly (HP:0012165): onset ; excluded: Sensorineural hearing impairment (HP:0000407): onset ; excluded: Duplication of phalanx of hallux (HP:0010066): onset </td></tr>\n",
       "<tr><td style=\"text-align: left;\">Patient 11 (UNKNOWN)</td><td style=\"text-align: left;\">Cornelia de Lange syndrome 1 (OMIM:122470)</td><td style=\"text-align: left;\">NM_133433.4:c.302_311del (heterozygous)</td><td style=\"text-align: left;\">Postnatal growth retardation (HP:0008897): onset ; Hirsutism (HP:0001007): onset ; Curly eyelashes (HP:0007665): onset ; Long eyelashes (HP:0000527): onset ; High palate (HP:0000218): onset ; Low anterior hairline (HP:0000294): onset ; Depressed nasal bridge (HP:0005280): onset ; Cryptorchidism (HP:0000028): onset ; Long philtrum (HP:0000343): onset ; Smooth philtrum (HP:0000319): onset ; Short stature (HP:0004322): onset ; Synophrys (HP:0000664): onset ; Microcephaly (HP:0000252): onset ; Low-set ears (HP:0000369): onset ; Clinodactyly of the 5th finger (HP:0004209): onset ; Thick eyebrow (HP:0000574): onset ; Highly arched eyebrow (HP:0002553): onset ; Short nose (HP:0003196): onset ; Broad nasal tip (HP:0000455): onset ; excluded: Sensorineural hearing impairment (HP:0000407): onset ; excluded: Intrauterine growth retardation (HP:0001511): onset ; excluded: Duplication of phalanx of hallux (HP:0010066): onset </td></tr>\n",
       "<tr><td style=\"text-align: left;\">Patient 13 (UNKNOWN)</td><td style=\"text-align: left;\">Cornelia de Lange syndrome 1 (OMIM:122470)</td><td style=\"text-align: left;\">NM_133433.4:c.7834dup (heterozygous)</td><td style=\"text-align: left;\">Curly eyelashes (HP:0007665): onset ; Long eyelashes (HP:0000527): onset ; Depressed nasal bridge (HP:0005280): onset ; Downturned corners of mouth (HP:0002714): onset ; Synophrys (HP:0000664): onset ; Microcephaly (HP:0000252): onset ; Intrauterine growth retardation (HP:0001511): onset ; Low-set ears (HP:0000369): onset ; Small hand (HP:0200055): onset ; Oligodactyly (HP:0012165): onset ; excluded: Sensorineural hearing impairment (HP:0000407): onset ; excluded: Duplication of phalanx of hallux (HP:0010066): onset </td></tr>\n",
       "<tr><td style=\"text-align: left;\">Patient 14 (UNKNOWN)</td><td style=\"text-align: left;\">Cornelia de Lange syndrome 1 (OMIM:122470)</td><td style=\"text-align: left;\">NM_133433.4:c.5465A>G (heterozygous)</td><td style=\"text-align: left;\">Postnatal growth retardation (HP:0008897): onset ; Proximal placement of thumb (HP:0009623): onset ; Hirsutism (HP:0001007): onset ; Thin upper lip vermilion (HP:0000219): onset ; Curly eyelashes (HP:0007665): onset ; Long eyelashes (HP:0000527): onset ; High palate (HP:0000218): onset ; Depressed nasal bridge (HP:0005280): onset ; Long philtrum (HP:0000343): onset ; Smooth philtrum (HP:0000319): onset ; Anteverted nares (HP:0000463): onset ; Short stature (HP:0004322): onset ; Brachycephaly (HP:0000248): onset ; Synophrys (HP:0000664): onset ; Microcephaly (HP:0000252): onset ; Intrauterine growth retardation (HP:0001511): onset ; Low-set ears (HP:0000369): onset ; Clinodactyly of the 5th finger (HP:0004209): onset ; Thick eyebrow (HP:0000574): onset ; Highly arched eyebrow (HP:0002553): onset ; Short nose (HP:0003196): onset ; Broad nasal tip (HP:0000455): onset ; Small hand (HP:0200055): onset ; Oligodactyly (HP:0012165): onset ; excluded: Sensorineural hearing impairment (HP:0000407): onset ; excluded: Duplication of phalanx of hallux (HP:0010066): onset </td></tr>\n",
       "<tr><td style=\"text-align: left;\">Patient C5 (FEMALE; P5Y)</td><td style=\"text-align: left;\">Cornelia de Lange syndrome 1 (OMIM:122470)</td><td style=\"text-align: left;\">NM_133433.4:c.4321G>T (heterozygous)</td><td style=\"text-align: left;\">Postnatal growth retardation (HP:0008897): onset ; Intellectual disability (HP:0001249): onset ; Global developmental delay (HP:0001263): onset ; Micrognathia (HP:0000347): onset ; Intrauterine growth retardation (HP:0001511): onset ; Small hand (HP:0200055): onset ; Seizure (HP:0001250): onset ; Cerebral cortical atrophy (HP:0002120): onset ; excluded: Proximal placement of thumb (HP:0009623): onset ; excluded: Hirsutism (HP:0001007): onset ; excluded: Cleft palate (HP:0000175): onset ; excluded: High palate (HP:0000218): onset ; excluded: Renal cyst (HP:0000107): onset ; excluded: Sensorineural hearing impairment (HP:0000407): onset ; excluded: Gastroesophageal reflux (HP:0002020): onset ; excluded: Feeding difficulties (HP:0011968): onset ; excluded: Hypotonia (HP:0001252): onset ; excluded: Anteriorly placed anus (HP:0001545): onset ; excluded: Horseshoe kidney (HP:0000085): onset ; excluded: Hypoplastic labia minora (HP:0000064): onset ; excluded: Camptodactyly (HP:0012385): onset ; excluded: Oligodactyly (HP:0012165): onset ; excluded: Syndactyly (HP:0001159): onset ; excluded: Clinodactyly (HP:0030084): onset ; excluded: Brachydactyly (HP:0001156): onset ; excluded: Patent foramen ovale (HP:0001655): onset ; excluded: Pulmonic stenosis (HP:0001642): onset ; excluded: Heart murmur (HP:0030148): onset ; excluded: Cardiomegaly (HP:0001640): onset ; excluded: Ventricular septal defect (HP:0001629): onset </td></tr>\n",
       "<tr><td style=\"text-align: left;\">Patient C8 (MALE; P9Y)</td><td style=\"text-align: left;\">Cornelia de Lange syndrome 1 (OMIM:122470)</td><td style=\"text-align: left;\">NM_133433.4:c.6242G>C (heterozygous)</td><td style=\"text-align: left;\">Postnatal growth retardation (HP:0008897): onset ; Intellectual disability (HP:0001249): onset ; Global developmental delay (HP:0001263): onset ; Hirsutism (HP:0001007): onset ; Sensorineural hearing impairment (HP:0000407): onset ; Micrognathia (HP:0000347): onset ; Syndactyly (HP:0001159): onset ; Ventricular septal defect (HP:0001629): onset ; excluded: Proximal placement of thumb (HP:0009623): onset ; excluded: Cleft palate (HP:0000175): onset ; excluded: High palate (HP:0000218): onset ; excluded: Renal cyst (HP:0000107): onset ; excluded: Cryptorchidism (HP:0000028): onset ; excluded: Intrauterine growth retardation (HP:0001511): onset ; excluded: Gastroesophageal reflux (HP:0002020): onset ; excluded: Small hand (HP:0200055): onset ; excluded: Feeding difficulties (HP:0011968): onset ; excluded: Cerebral cortical atrophy (HP:0002120): onset ; excluded: Hypotonia (HP:0001252): onset ; excluded: Anteriorly placed anus (HP:0001545): onset ; excluded: Horseshoe kidney (HP:0000085): onset ; excluded: Hypoplastic labia minora (HP:0000064): onset ; excluded: Camptodactyly (HP:0012385): onset ; excluded: Oligodactyly (HP:0012165): onset ; excluded: Clinodactyly (HP:0030084): onset ; excluded: Brachydactyly (HP:0001156): onset ; excluded: Patent foramen ovale (HP:0001655): onset ; excluded: Pulmonic stenosis (HP:0001642): onset ; excluded: Heart murmur (HP:0030148): onset ; excluded: Cardiomegaly (HP:0001640): onset </td></tr>\n",
       "<tr><td style=\"text-align: left;\">Patient C10 (MALE; P6Y)</td><td style=\"text-align: left;\">Cornelia de Lange syndrome 1 (OMIM:122470)</td><td style=\"text-align: left;\">NM_133433.4:c.230+1G>A (heterozygous)</td><td style=\"text-align: left;\">Postnatal growth retardation (HP:0008897): onset ; Intellectual disability (HP:0001249): onset ; Global developmental delay (HP:0001263): onset ; Hirsutism (HP:0001007): onset ; Cryptorchidism (HP:0000028): onset ; Intrauterine growth retardation (HP:0001511): onset ; Syndactyly (HP:0001159): onset ; Brachydactyly (HP:0001156): onset ; Heart murmur (HP:0030148): onset ; excluded: Proximal placement of thumb (HP:0009623): onset ; excluded: Cleft palate (HP:0000175): onset ; excluded: High palate (HP:0000218): onset ; excluded: Renal cyst (HP:0000107): onset ; excluded: Sensorineural hearing impairment (HP:0000407): onset ; excluded: Micrognathia (HP:0000347): onset ; excluded: Gastroesophageal reflux (HP:0002020): onset ; excluded: Small hand (HP:0200055): onset ; excluded: Feeding difficulties (HP:0011968): onset ; excluded: Seizure (HP:0001250): onset ; excluded: Cerebral cortical atrophy (HP:0002120): onset ; excluded: Hypotonia (HP:0001252): onset ; excluded: Anteriorly placed anus (HP:0001545): onset ; excluded: Horseshoe kidney (HP:0000085): onset ; excluded: Hypoplastic labia minora (HP:0000064): onset ; excluded: Camptodactyly (HP:0012385): onset ; excluded: Oligodactyly (HP:0012165): onset ; excluded: Clinodactyly (HP:0030084): onset ; excluded: Patent foramen ovale (HP:0001655): onset ; excluded: Pulmonic stenosis (HP:0001642): onset ; excluded: Cardiomegaly (HP:0001640): onset ; excluded: Ventricular septal defect (HP:0001629): onset </td></tr>\n",
       "<tr><td style=\"text-align: left;\">Patient C14 (FEMALE; P7Y)</td><td style=\"text-align: left;\">Cornelia de Lange syndrome 1 (OMIM:122470)</td><td style=\"text-align: left;\">NM_133433.4:c.2146C>T (heterozygous)</td><td style=\"text-align: left;\">Postnatal growth retardation (HP:0008897): onset ; Global developmental delay (HP:0001263): onset ; Hirsutism (HP:0001007): onset ; Sensorineural hearing impairment (HP:0000407): onset ; Micrognathia (HP:0000347): onset ; Intrauterine growth retardation (HP:0001511): onset ; Small hand (HP:0200055): onset ; Syndactyly (HP:0001159): onset ; Clinodactyly (HP:0030084): onset ; Pulmonic stenosis (HP:0001642): onset ; excluded: Proximal placement of thumb (HP:0009623): onset ; excluded: Cleft palate (HP:0000175): onset ; excluded: High palate (HP:0000218): onset ; excluded: Renal cyst (HP:0000107): onset ; excluded: Gastroesophageal reflux (HP:0002020): onset ; excluded: Feeding difficulties (HP:0011968): onset ; excluded: Seizure (HP:0001250): onset ; excluded: Cerebral cortical atrophy (HP:0002120): onset ; excluded: Hypotonia (HP:0001252): onset ; excluded: Anteriorly placed anus (HP:0001545): onset ; excluded: Horseshoe kidney (HP:0000085): onset ; excluded: Hypoplastic labia minora (HP:0000064): onset ; excluded: Camptodactyly (HP:0012385): onset ; excluded: Oligodactyly (HP:0012165): onset ; excluded: Brachydactyly (HP:0001156): onset ; excluded: Patent foramen ovale (HP:0001655): onset ; excluded: Heart murmur (HP:0030148): onset ; excluded: Cardiomegaly (HP:0001640): onset ; excluded: Ventricular septal defect (HP:0001629): onset </td></tr>\n",
       "<tr><td style=\"text-align: left;\">Patient C18 (FEMALE; P7Y)</td><td style=\"text-align: left;\">Cornelia de Lange syndrome 1 (OMIM:122470)</td><td style=\"text-align: left;\">NM_133433.4:c.6449T>C (heterozygous)</td><td style=\"text-align: left;\">Postnatal growth retardation (HP:0008897): onset ; Global developmental delay (HP:0001263): onset ; Hirsutism (HP:0001007): onset ; Cleft palate (HP:0000175): onset ; Sensorineural hearing impairment (HP:0000407): onset ; Micrognathia (HP:0000347): onset ; Intrauterine growth retardation (HP:0001511): onset ; Gastroesophageal reflux (HP:0002020): onset ; Feeding difficulties (HP:0011968): onset ; Anteriorly placed anus (HP:0001545): onset ; excluded: Proximal placement of thumb (HP:0009623): onset ; excluded: High palate (HP:0000218): onset ; excluded: Renal cyst (HP:0000107): onset ; excluded: Small hand (HP:0200055): onset ; excluded: Seizure (HP:0001250): onset ; excluded: Cerebral cortical atrophy (HP:0002120): onset ; excluded: Hypotonia (HP:0001252): onset ; excluded: Horseshoe kidney (HP:0000085): onset ; excluded: Hypoplastic labia minora (HP:0000064): onset ; excluded: Camptodactyly (HP:0012385): onset ; excluded: Oligodactyly (HP:0012165): onset ; excluded: Syndactyly (HP:0001159): onset ; excluded: Clinodactyly (HP:0030084): onset ; excluded: Brachydactyly (HP:0001156): onset ; excluded: Patent foramen ovale (HP:0001655): onset ; excluded: Pulmonic stenosis (HP:0001642): onset ; excluded: Heart murmur (HP:0030148): onset ; excluded: Cardiomegaly (HP:0001640): onset ; excluded: Ventricular septal defect (HP:0001629): onset </td></tr>\n",
       "<tr><td style=\"text-align: left;\">Patient C20 (FEMALE; P12Y)</td><td style=\"text-align: left;\">Cornelia de Lange syndrome 1 (OMIM:122470)</td><td style=\"text-align: left;\">NM_133433.4:c.2479_2480del (heterozygous)</td><td style=\"text-align: left;\">Postnatal growth retardation (HP:0008897): onset ; Intellectual disability (HP:0001249): onset ; Global developmental delay (HP:0001263): onset ; Sensorineural hearing impairment (HP:0000407): onset ; Micrognathia (HP:0000347): onset ; Intrauterine growth retardation (HP:0001511): onset ; Feeding difficulties (HP:0011968): onset ; Syndactyly (HP:0001159): onset ; Patent foramen ovale (HP:0001655): onset ; Heart murmur (HP:0030148): onset ; Cardiomegaly (HP:0001640): onset ; excluded: Proximal placement of thumb (HP:0009623): onset ; excluded: Hirsutism (HP:0001007): onset ; excluded: Cleft palate (HP:0000175): onset ; excluded: High palate (HP:0000218): onset ; excluded: Renal cyst (HP:0000107): onset ; excluded: Gastroesophageal reflux (HP:0002020): onset ; excluded: Small hand (HP:0200055): onset ; excluded: Seizure (HP:0001250): onset ; excluded: Cerebral cortical atrophy (HP:0002120): onset ; excluded: Hypotonia (HP:0001252): onset ; excluded: Anteriorly placed anus (HP:0001545): onset ; excluded: Horseshoe kidney (HP:0000085): onset ; excluded: Hypoplastic labia minora (HP:0000064): onset ; excluded: Camptodactyly (HP:0012385): onset ; excluded: Oligodactyly (HP:0012165): onset ; excluded: Clinodactyly (HP:0030084): onset ; excluded: Brachydactyly (HP:0001156): onset ; excluded: Pulmonic stenosis (HP:0001642): onset ; excluded: Ventricular septal defect (HP:0001629): onset </td></tr>\n",
       "<tr><td style=\"text-align: left;\">Patient C21 (MALE; P13Y)</td><td style=\"text-align: left;\">Cornelia de Lange syndrome 1 (OMIM:122470)</td><td style=\"text-align: left;\">NM_133433.4:c.5689_5691del (heterozygous)</td><td style=\"text-align: left;\">Intellectual disability (HP:0001249): onset ; Hirsutism (HP:0001007): onset ; Delayed speech and language development (HP:0000750): onset ; Renal cyst (HP:0000107): onset ; Cryptorchidism (HP:0000028): onset ; Micrognathia (HP:0000347): onset ; Gastroesophageal reflux (HP:0002020): onset ; Clinodactyly (HP:0030084): onset ; Heart murmur (HP:0030148): onset ; excluded: Postnatal growth retardation (HP:0008897): onset ; excluded: Global developmental delay (HP:0001263): onset ; excluded: Proximal placement of thumb (HP:0009623): onset ; excluded: Cleft palate (HP:0000175): onset ; excluded: High palate (HP:0000218): onset ; excluded: Sensorineural hearing impairment (HP:0000407): onset ; excluded: Intrauterine growth retardation (HP:0001511): onset ; excluded: Small hand (HP:0200055): onset ; excluded: Feeding difficulties (HP:0011968): onset ; excluded: Seizure (HP:0001250): onset ; excluded: Cerebral cortical atrophy (HP:0002120): onset ; excluded: Hypotonia (HP:0001252): onset ; excluded: Anteriorly placed anus (HP:0001545): onset ; excluded: Horseshoe kidney (HP:0000085): onset ; excluded: Hypoplastic labia minora (HP:0000064): onset ; excluded: Camptodactyly (HP:0012385): onset ; excluded: Oligodactyly (HP:0012165): onset ; excluded: Syndactyly (HP:0001159): onset ; excluded: Brachydactyly (HP:0001156): onset ; excluded: Patent foramen ovale (HP:0001655): onset ; excluded: Pulmonic stenosis (HP:0001642): onset ; excluded: Cardiomegaly (HP:0001640): onset ; excluded: Ventricular septal defect (HP:0001629): onset </td></tr>\n",
       "<tr><td style=\"text-align: left;\">Patient C25 (FEMALE; P10Y)</td><td style=\"text-align: left;\">Cornelia de Lange syndrome 1 (OMIM:122470)</td><td style=\"text-align: left;\">NM_133433.4:c.6880C>T (heterozygous)</td><td style=\"text-align: left;\">Postnatal growth retardation (HP:0008897): onset ; Intellectual disability (HP:0001249): onset ; Global developmental delay (HP:0001263): onset ; Micrognathia (HP:0000347): onset ; Intrauterine growth retardation (HP:0001511): onset ; Hypotonia (HP:0001252): onset ; Heart murmur (HP:0030148): onset ; excluded: Proximal placement of thumb (HP:0009623): onset ; excluded: Hirsutism (HP:0001007): onset ; excluded: Cleft palate (HP:0000175): onset ; excluded: High palate (HP:0000218): onset ; excluded: Renal cyst (HP:0000107): onset ; excluded: Sensorineural hearing impairment (HP:0000407): onset ; excluded: Gastroesophageal reflux (HP:0002020): onset ; excluded: Small hand (HP:0200055): onset ; excluded: Feeding difficulties (HP:0011968): onset ; excluded: Seizure (HP:0001250): onset ; excluded: Cerebral cortical atrophy (HP:0002120): onset ; excluded: Anteriorly placed anus (HP:0001545): onset ; excluded: Horseshoe kidney (HP:0000085): onset ; excluded: Hypoplastic labia minora (HP:0000064): onset ; excluded: Camptodactyly (HP:0012385): onset ; excluded: Oligodactyly (HP:0012165): onset ; excluded: Syndactyly (HP:0001159): onset ; excluded: Clinodactyly (HP:0030084): onset ; excluded: Brachydactyly (HP:0001156): onset ; excluded: Patent foramen ovale (HP:0001655): onset ; excluded: Pulmonic stenosis (HP:0001642): onset ; excluded: Cardiomegaly (HP:0001640): onset ; excluded: Ventricular septal defect (HP:0001629): onset </td></tr>\n",
       "<tr><td style=\"text-align: left;\">Patient C26 (FEMALE; P10Y)</td><td style=\"text-align: left;\">Cornelia de Lange syndrome 1 (OMIM:122470)</td><td style=\"text-align: left;\">NM_133433.4:c.7439_7440del (heterozygous)</td><td style=\"text-align: left;\">Postnatal growth retardation (HP:0008897): onset ; Intellectual disability (HP:0001249): onset ; Global developmental delay (HP:0001263): onset ; Hirsutism (HP:0001007): onset ; High palate (HP:0000218): onset ; Intrauterine growth retardation (HP:0001511): onset ; Gastroesophageal reflux (HP:0002020): onset ; Feeding difficulties (HP:0011968): onset ; Seizure (HP:0001250): onset ; Horseshoe kidney (HP:0000085): onset ; Brachydactyly (HP:0001156): onset ; Heart murmur (HP:0030148): onset ; excluded: Proximal placement of thumb (HP:0009623): onset ; excluded: Cleft palate (HP:0000175): onset ; excluded: Renal cyst (HP:0000107): onset ; excluded: Sensorineural hearing impairment (HP:0000407): onset ; excluded: Micrognathia (HP:0000347): onset ; excluded: Small hand (HP:0200055): onset ; excluded: Cerebral cortical atrophy (HP:0002120): onset ; excluded: Hypotonia (HP:0001252): onset ; excluded: Anteriorly placed anus (HP:0001545): onset ; excluded: Hypoplastic labia minora (HP:0000064): onset ; excluded: Camptodactyly (HP:0012385): onset ; excluded: Oligodactyly (HP:0012165): onset ; excluded: Syndactyly (HP:0001159): onset ; excluded: Clinodactyly (HP:0030084): onset ; excluded: Patent foramen ovale (HP:0001655): onset ; excluded: Pulmonic stenosis (HP:0001642): onset ; excluded: Cardiomegaly (HP:0001640): onset ; excluded: Ventricular septal defect (HP:0001629): onset </td></tr>\n",
       "<tr><td style=\"text-align: left;\">Patient C28 (MALE; P2Y)</td><td style=\"text-align: left;\">Cornelia de Lange syndrome 1 (OMIM:122470)</td><td style=\"text-align: left;\">NM_133433.4:c.4320+5G>C (heterozygous)</td><td style=\"text-align: left;\">Postnatal growth retardation (HP:0008897): onset ; Global developmental delay (HP:0001263): onset ; Cleft palate (HP:0000175): onset ; Cryptorchidism (HP:0000028): onset ; Sensorineural hearing impairment (HP:0000407): onset ; Micrognathia (HP:0000347): onset ; Intrauterine growth retardation (HP:0001511): onset ; Oligodactyly (HP:0012165): onset ; Syndactyly (HP:0001159): onset ; Clinodactyly (HP:0030084): onset ; Brachydactyly (HP:0001156): onset ; excluded: Proximal placement of thumb (HP:0009623): onset ; excluded: Hirsutism (HP:0001007): onset ; excluded: High palate (HP:0000218): onset ; excluded: Renal cyst (HP:0000107): onset ; excluded: Gastroesophageal reflux (HP:0002020): onset ; excluded: Small hand (HP:0200055): onset ; excluded: Feeding difficulties (HP:0011968): onset ; excluded: Seizure (HP:0001250): onset ; excluded: Cerebral cortical atrophy (HP:0002120): onset ; excluded: Hypotonia (HP:0001252): onset ; excluded: Anteriorly placed anus (HP:0001545): onset ; excluded: Horseshoe kidney (HP:0000085): onset ; excluded: Hypoplastic labia minora (HP:0000064): onset ; excluded: Camptodactyly (HP:0012385): onset ; excluded: Patent foramen ovale (HP:0001655): onset ; excluded: Pulmonic stenosis (HP:0001642): onset ; excluded: Heart murmur (HP:0030148): onset ; excluded: Cardiomegaly (HP:0001640): onset ; excluded: Ventricular septal defect (HP:0001629): onset </td></tr>\n",
       "<tr><td style=\"text-align: left;\">Patient C29 (FEMALE; P3Y)</td><td style=\"text-align: left;\">Cornelia de Lange syndrome 1 (OMIM:122470)</td><td style=\"text-align: left;\">NM_133433.4:c.6269G>T (heterozygous)</td><td style=\"text-align: left;\">Postnatal growth retardation (HP:0008897): onset ; Global developmental delay (HP:0001263): onset ; Proximal placement of thumb (HP:0009623): onset ; Hirsutism (HP:0001007): onset ; Cleft palate (HP:0000175): onset ; Sensorineural hearing impairment (HP:0000407): onset ; Micrognathia (HP:0000347): onset ; Intrauterine growth retardation (HP:0001511): onset ; Gastroesophageal reflux (HP:0002020): onset ; Feeding difficulties (HP:0011968): onset ; Hypoplastic labia minora (HP:0000064): onset ; Camptodactyly (HP:0012385): onset ; excluded: High palate (HP:0000218): onset ; excluded: Renal cyst (HP:0000107): onset ; excluded: Small hand (HP:0200055): onset ; excluded: Seizure (HP:0001250): onset ; excluded: Cerebral cortical atrophy (HP:0002120): onset ; excluded: Hypotonia (HP:0001252): onset ; excluded: Anteriorly placed anus (HP:0001545): onset ; excluded: Horseshoe kidney (HP:0000085): onset ; excluded: Oligodactyly (HP:0012165): onset ; excluded: Syndactyly (HP:0001159): onset ; excluded: Clinodactyly (HP:0030084): onset ; excluded: Brachydactyly (HP:0001156): onset ; excluded: Patent foramen ovale (HP:0001655): onset ; excluded: Pulmonic stenosis (HP:0001642): onset ; excluded: Heart murmur (HP:0030148): onset ; excluded: Cardiomegaly (HP:0001640): onset ; excluded: Ventricular septal defect (HP:0001629): onset </td></tr>\n",
       "</table>"
      ],
      "text/plain": [
       "<IPython.core.display.HTML object>"
      ]
     },
     "metadata": {},
     "output_type": "display_data"
    }
   ],
   "source": [
    "table = IndividualTable(cvalidator.get_error_free_individual_list())\n",
    "display(HTML(table.to_html()))"
   ]
  },
  {
   "cell_type": "code",
   "execution_count": 6,
   "metadata": {},
   "outputs": [
    {
     "name": "stdout",
     "output_type": "stream",
     "text": [
      "[pyphetools] Ingested 22 GA4GH phenopackets.\n",
      "[INFO] Extracted 22 from 22 phenopackets with OMIM:122470\n",
      "\n",
      "\tCornelia de Lange syndrome 1 (OMIM:122470): n=22\n",
      "We found a total of 57 unique HPO terms\n",
      "Extracted disease: Cornelia de Lange syndrome 1 (OMIM:122470)\n",
      "Wrote HPOA disease file to OMIM-122470.tab\n"
     ]
    },
    {
     "data": {
      "text/html": [
       "<div>\n",
       "<style scoped>\n",
       "    .dataframe tbody tr th:only-of-type {\n",
       "        vertical-align: middle;\n",
       "    }\n",
       "\n",
       "    .dataframe tbody tr th {\n",
       "        vertical-align: top;\n",
       "    }\n",
       "\n",
       "    .dataframe thead th {\n",
       "        text-align: right;\n",
       "    }\n",
       "</style>\n",
       "<table border=\"1\" class=\"dataframe\">\n",
       "  <thead>\n",
       "    <tr style=\"text-align: right;\">\n",
       "      <th></th>\n",
       "      <th>#diseaseID</th>\n",
       "      <th>diseaseName</th>\n",
       "      <th>phenotypeID</th>\n",
       "      <th>phenotypeName</th>\n",
       "      <th>onsetID</th>\n",
       "      <th>onsetName</th>\n",
       "      <th>frequency</th>\n",
       "      <th>sex</th>\n",
       "      <th>negation</th>\n",
       "      <th>modifier</th>\n",
       "      <th>description</th>\n",
       "      <th>publication</th>\n",
       "      <th>evidence</th>\n",
       "      <th>biocuration</th>\n",
       "    </tr>\n",
       "  </thead>\n",
       "  <tbody>\n",
       "    <tr>\n",
       "      <th>0</th>\n",
       "      <td>OMIM:122470</td>\n",
       "      <td>Cornelia de Lange syndrome 1</td>\n",
       "      <td>HP:0001249</td>\n",
       "      <td>Intellectual disability</td>\n",
       "      <td></td>\n",
       "      <td></td>\n",
       "      <td>7/7</td>\n",
       "      <td></td>\n",
       "      <td></td>\n",
       "      <td></td>\n",
       "      <td></td>\n",
       "      <td>PMID:20358602</td>\n",
       "      <td>PCS</td>\n",
       "      <td>ORCID:0000-0002-0736-9199[2024-10-01]</td>\n",
       "    </tr>\n",
       "    <tr>\n",
       "      <th>1</th>\n",
       "      <td>OMIM:122470</td>\n",
       "      <td>Cornelia de Lange syndrome 1</td>\n",
       "      <td>HP:0001007</td>\n",
       "      <td>Hirsutism</td>\n",
       "      <td></td>\n",
       "      <td></td>\n",
       "      <td>7/11</td>\n",
       "      <td></td>\n",
       "      <td></td>\n",
       "      <td></td>\n",
       "      <td></td>\n",
       "      <td>PMID:20358602</td>\n",
       "      <td>PCS</td>\n",
       "      <td>ORCID:0000-0002-0736-9199[2024-10-01]</td>\n",
       "    </tr>\n",
       "    <tr>\n",
       "      <th>2</th>\n",
       "      <td>OMIM:122470</td>\n",
       "      <td>Cornelia de Lange syndrome 1</td>\n",
       "      <td>HP:0000750</td>\n",
       "      <td>Delayed speech and language development</td>\n",
       "      <td></td>\n",
       "      <td></td>\n",
       "      <td>1/1</td>\n",
       "      <td></td>\n",
       "      <td></td>\n",
       "      <td></td>\n",
       "      <td></td>\n",
       "      <td>PMID:20358602</td>\n",
       "      <td>PCS</td>\n",
       "      <td>ORCID:0000-0002-0736-9199[2024-10-01]</td>\n",
       "    </tr>\n",
       "    <tr>\n",
       "      <th>3</th>\n",
       "      <td>OMIM:122470</td>\n",
       "      <td>Cornelia de Lange syndrome 1</td>\n",
       "      <td>HP:0000107</td>\n",
       "      <td>Renal cyst</td>\n",
       "      <td></td>\n",
       "      <td></td>\n",
       "      <td>1/11</td>\n",
       "      <td></td>\n",
       "      <td></td>\n",
       "      <td></td>\n",
       "      <td></td>\n",
       "      <td>PMID:20358602</td>\n",
       "      <td>PCS</td>\n",
       "      <td>ORCID:0000-0002-0736-9199[2024-10-01]</td>\n",
       "    </tr>\n",
       "    <tr>\n",
       "      <th>4</th>\n",
       "      <td>OMIM:122470</td>\n",
       "      <td>Cornelia de Lange syndrome 1</td>\n",
       "      <td>HP:0000028</td>\n",
       "      <td>Cryptorchidism</td>\n",
       "      <td></td>\n",
       "      <td></td>\n",
       "      <td>3/4</td>\n",
       "      <td></td>\n",
       "      <td></td>\n",
       "      <td></td>\n",
       "      <td></td>\n",
       "      <td>PMID:20358602</td>\n",
       "      <td>PCS</td>\n",
       "      <td>ORCID:0000-0002-0736-9199[2024-10-01]</td>\n",
       "    </tr>\n",
       "  </tbody>\n",
       "</table>\n",
       "</div>"
      ],
      "text/plain": [
       "    #diseaseID                   diseaseName phenotypeID  \\\n",
       "0  OMIM:122470  Cornelia de Lange syndrome 1  HP:0001249   \n",
       "1  OMIM:122470  Cornelia de Lange syndrome 1  HP:0001007   \n",
       "2  OMIM:122470  Cornelia de Lange syndrome 1  HP:0000750   \n",
       "3  OMIM:122470  Cornelia de Lange syndrome 1  HP:0000107   \n",
       "4  OMIM:122470  Cornelia de Lange syndrome 1  HP:0000028   \n",
       "\n",
       "                             phenotypeName onsetID onsetName frequency sex  \\\n",
       "0                  Intellectual disability                         7/7       \n",
       "1                                Hirsutism                        7/11       \n",
       "2  Delayed speech and language development                         1/1       \n",
       "3                               Renal cyst                        1/11       \n",
       "4                           Cryptorchidism                         3/4       \n",
       "\n",
       "  negation modifier description    publication evidence  \\\n",
       "0                                PMID:20358602      PCS   \n",
       "1                                PMID:20358602      PCS   \n",
       "2                                PMID:20358602      PCS   \n",
       "3                                PMID:20358602      PCS   \n",
       "4                                PMID:20358602      PCS   \n",
       "\n",
       "                             biocuration  \n",
       "0  ORCID:0000-0002-0736-9199[2024-10-01]  \n",
       "1  ORCID:0000-0002-0736-9199[2024-10-01]  \n",
       "2  ORCID:0000-0002-0736-9199[2024-10-01]  \n",
       "3  ORCID:0000-0002-0736-9199[2024-10-01]  \n",
       "4  ORCID:0000-0002-0736-9199[2024-10-01]  "
      ]
     },
     "execution_count": 6,
     "metadata": {},
     "output_type": "execute_result"
    }
   ],
   "source": [
    "pmid = \"PMID:25447906\"\n",
    "df = timporter.create_hpoa_from_phenopackets(pmid=pmid, mode_of_inheritance=Moi.AD, target=\"OMIM:122470\")\n",
    "df.head()"
   ]
  }
 ],
 "metadata": {
  "kernelspec": {
   "display_name": "ps24venv",
   "language": "python",
   "name": "python3"
  },
  "language_info": {
   "codemirror_mode": {
    "name": "ipython",
    "version": 3
   },
   "file_extension": ".py",
   "mimetype": "text/x-python",
   "name": "python",
   "nbconvert_exporter": "python",
   "pygments_lexer": "ipython3",
   "version": "3.12.4"
  }
 },
 "nbformat": 4,
 "nbformat_minor": 2
}
