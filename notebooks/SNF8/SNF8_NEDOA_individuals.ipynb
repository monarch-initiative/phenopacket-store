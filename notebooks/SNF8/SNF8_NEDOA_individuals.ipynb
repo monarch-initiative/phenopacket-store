{
 "cells": [
  {
   "cell_type": "markdown",
   "metadata": {},
   "source": [
    "# SNF8\n",
    "[neurodevelopmental disorder plus optic atrophy (NEDOA)](https://omim.org/entry/620784) is caused by compound heterozygous mutation in the SNF8 gene."
   ]
  },
  {
   "cell_type": "code",
   "execution_count": 3,
   "metadata": {},
   "outputs": [
    {
     "name": "stdout",
     "output_type": "stream",
     "text": [
      "Using pyphetools version 0.9.94\n"
     ]
    }
   ],
   "source": [
    "from pyphetools.creation import TemplateImporter, Moi\n",
    "from pyphetools.visualization import IndividualTable, QcVisualizer\n",
    "from IPython.display import display, HTML\n",
    "import pyphetools\n",
    "print(f\"Using pyphetools version {pyphetools.__version__}\")"
   ]
  },
  {
   "cell_type": "code",
   "execution_count": 4,
   "metadata": {},
   "outputs": [],
   "source": [
    "template = \"input/SNF8_NEDOA_individuals.xlsx\"\n",
    "created_by = \"0000-0002-0736-9199\""
   ]
  },
  {
   "cell_type": "code",
   "execution_count": 8,
   "metadata": {},
   "outputs": [
    {
     "name": "stdout",
     "output_type": "stream",
     "text": [
      "HPO version 2024-07-01\n",
      "Created encoders for 37 fields\n",
      "Importing OMIM:620784, Neurodevelopmental disorder plus optic atrophy, HGNC:17028, SNF8,  NM_007241.4\n",
      "[INFO] encoding variant \"c.236C>T\"\n",
      "https://rest.variantvalidator.org/VariantValidator/variantvalidator/hg38/NM_007241.4%3Ac.236C>T/NM_007241.4?content-type=application%2Fjson\n",
      "[INFO] encoding variant \"c.423-1G>C\"\n",
      "https://rest.variantvalidator.org/VariantValidator/variantvalidator/hg38/NM_007241.4%3Ac.423-1G>C/NM_007241.4?content-type=application%2Fjson\n",
      "[INFO] encoding variant \"c.304G>A\"\n",
      "https://rest.variantvalidator.org/VariantValidator/variantvalidator/hg38/NM_007241.4%3Ac.304G>A/NM_007241.4?content-type=application%2Fjson\n",
      "[INFO] encoding variant \"c.673_683delinsTGGA\"\n",
      "https://rest.variantvalidator.org/VariantValidator/variantvalidator/hg38/NM_007241.4%3Ac.673_683delinsTGGA/NM_007241.4?content-type=application%2Fjson\n",
      "We output 4 GA4GH phenopackets to the directory phenopackets\n"
     ]
    }
   ],
   "source": [
    "timporter = TemplateImporter(template=template,  created_by=created_by)\n",
    "individual_list, cvalidator = timporter.import_phenopackets_from_template()"
   ]
  },
  {
   "cell_type": "code",
   "execution_count": 9,
   "metadata": {},
   "outputs": [
    {
     "data": {
      "text/html": [
       "<h2>Cohort validation</h2>\n",
       "<p>Errors found with 2 of 4 phenopackets.</p>\n",
       "<table style=\"border: 2px solid black; align: \"left\">\n",
       "<caption>Error counts</caption>\n",
       "<tr><th style=\"text-align: left;font-weight: bold;\">Level</th><th style=\"text-align: left;font-weight: bold;\">Error category</th><th style=\"text-align: left;font-weight: bold;\">Count</th></tr>\n",
       "<tr><td style=\"text-align: left;\">WARNING</td><td style=\"text-align: left;\">REDUNDANT</td><td style=\"text-align: left;\">2</td></tr>\n",
       "</table>\n",
       "<p>A total of 2 issues were fixed and no individual was removed from the cohort.</p>"
      ],
      "text/plain": [
       "<IPython.core.display.HTML object>"
      ]
     },
     "metadata": {},
     "output_type": "display_data"
    }
   ],
   "source": [
    "qc = QcVisualizer(cohort_validator=cvalidator)\n",
    "display(HTML(qc.to_summary_html()))"
   ]
  },
  {
   "cell_type": "code",
   "execution_count": 10,
   "metadata": {},
   "outputs": [
    {
     "data": {
      "text/html": [
       "<table style=\"border: 2px solid black; align: \"left\">\n",
       "<caption>4 phenopackets - PMID:38423010 (n=4)</caption>\n",
       "<tr><th style=\"text-align: left;font-weight: bold;\">Individual</th><th style=\"text-align: left;font-weight: bold;\">Disease</th><th style=\"text-align: left;font-weight: bold;\">Genotype</th><th style=\"text-align: left;font-weight: bold;\">Phenotypic features</th></tr>\n",
       "<tr><td style=\"text-align: left;\">individual D1 (MALE; P18Y)</td><td style=\"text-align: left;\">Neurodevelopmental disorder plus optic atrophy (OMIM:620784)</td><td style=\"text-align: left;\"><ul> <li>NM_007241.4:c.423-1G>C (heterozygous)</li> <li>NM_007241.4:c.304G>A (heterozygous)</li> </ul></td><td style=\"text-align: left;\">Global brain atrophy (HP:0002283); Cerebellar cortical atrophy (HP:0008278); Nystagmus (HP:0000639); Intellectual disability (HP:0001249); Optic atrophy (HP:0000648); Delayed speech and language development (HP:0000750); Abnormality of visual evoked potentials (HP:0000649); excluded: Ataxia (HP:0001251); excluded: Hypoplasia of the corpus callosum (HP:0002079); excluded: Agenesis of corpus callosum (HP:0001274); excluded: Dysplastic corpus callosum (HP:0006989); excluded: Mild global developmental delay (HP:0011342); excluded: Seizure (HP:0001250); excluded: Conductive hearing impairment (HP:0000405); excluded: Dysphagia (HP:0002015); excluded: Tube feeding (HP:0033454); excluded: EEG abnormality (HP:0002353); excluded: Microcephaly (HP:0000252)</td></tr>\n",
       "<tr><td style=\"text-align: left;\">individual E1 (MALE; P27Y)</td><td style=\"text-align: left;\">Neurodevelopmental disorder plus optic atrophy (OMIM:620784)</td><td style=\"text-align: left;\"><ul> <li>NM_007241.4:c.673_683delinsTGGA (heterozygous)</li> <li>NM_007241.4:c.304G>A (heterozygous)</li> </ul></td><td style=\"text-align: left;\">Global brain atrophy (HP:0002283); Cerebellar cortical atrophy (HP:0008278); Nystagmus (HP:0000639); Intellectual disability (HP:0001249); Mild global developmental delay (HP:0011342); Optic atrophy (HP:0000648); Delayed speech and language development (HP:0000750); Abnormality of visual evoked potentials (HP:0000649); Microcephaly (HP:0000252); excluded: Ataxia (HP:0001251); excluded: Hypoplasia of the corpus callosum (HP:0002079); excluded: Agenesis of corpus callosum (HP:0001274); excluded: Dysplastic corpus callosum (HP:0006989); excluded: Seizure (HP:0001250); excluded: Conductive hearing impairment (HP:0000405); excluded: Dysphagia (HP:0002015); excluded: Tube feeding (HP:0033454); excluded: EEG abnormality (HP:0002353)</td></tr>\n",
       "<tr><td style=\"text-align: left;\">individual E2 (MALE; P17Y)</td><td style=\"text-align: left;\">Neurodevelopmental disorder plus optic atrophy (OMIM:620784)</td><td style=\"text-align: left;\"><ul> <li>NM_007241.4:c.673_683delinsTGGA (heterozygous)</li> <li>NM_007241.4:c.304G>A (heterozygous)</li> </ul></td><td style=\"text-align: left;\">Nystagmus (HP:0000639); Intellectual disability (HP:0001249); Mild global developmental delay (HP:0011342); Optic atrophy (HP:0000648); Delayed speech and language development (HP:0000750); Conductive hearing impairment (HP:0000405); Abnormality of visual evoked potentials (HP:0000649); excluded: Ataxia (HP:0001251); excluded: Global brain atrophy (HP:0002283); excluded: Cerebellar cortical atrophy (HP:0008278); excluded: Hypoplasia of the corpus callosum (HP:0002079); excluded: Agenesis of corpus callosum (HP:0001274); excluded: Dysplastic corpus callosum (HP:0006989); excluded: Seizure (HP:0001250); excluded: Dysphagia (HP:0002015); excluded: Tube feeding (HP:0033454); excluded: EEG abnormality (HP:0002353); excluded: Microcephaly (HP:0000252)</td></tr>\n",
       "<tr><td style=\"text-align: left;\">individual F1 (FEMALE; P4Y)</td><td style=\"text-align: left;\">Neurodevelopmental disorder plus optic atrophy (OMIM:620784)</td><td style=\"text-align: left;\"><ul> <li>NM_007241.4:c.236C>T (heterozygous)</li> <li>NM_007241.4:c.304G>A (heterozygous)</li> </ul></td><td style=\"text-align: left;\">Ataxia (HP:0001251); Cerebellar atrophy (HP:0001272); Dysplastic corpus callosum (HP:0006989); Intellectual disability (HP:0001249); Mild global developmental delay (HP:0011342); excluded: Global brain atrophy (HP:0002283); excluded: Cerebellar cortical atrophy (HP:0008278); excluded: Hypoplasia of the corpus callosum (HP:0002079); excluded: Agenesis of corpus callosum (HP:0001274); excluded: Nystagmus (HP:0000639); excluded: Seizure (HP:0001250); excluded: Optic atrophy (HP:0000648); excluded: Conductive hearing impairment (HP:0000405); excluded: Dysphagia (HP:0002015); excluded: Tube feeding (HP:0033454); excluded: EEG abnormality (HP:0002353); excluded: Microcephaly (HP:0000252)</td></tr>\n",
       "</table>"
      ],
      "text/plain": [
       "<IPython.core.display.HTML object>"
      ]
     },
     "metadata": {},
     "output_type": "display_data"
    }
   ],
   "source": [
    "table = IndividualTable(cvalidator.get_error_free_individual_list())\n",
    "display(HTML(table.to_html()))"
   ]
  },
  {
   "cell_type": "code",
   "execution_count": 11,
   "metadata": {},
   "outputs": [
    {
     "name": "stdout",
     "output_type": "stream",
     "text": [
      "[pyphetools] Ingested 4 GA4GH phenopackets.\n",
      "[INFO] Extracted 4 from 4 phenopackets with OMIM:620784\n",
      "\n",
      "\tNeurodevelopmental disorder plus optic atrophy (OMIM:620784): n=4\n",
      "We found a total of 19 unique HPO terms\n",
      "Extracted disease: Neurodevelopmental disorder plus optic atrophy (OMIM:620784)\n",
      "Wrote HPOA disease file to OMIM-620784.tab\n"
     ]
    }
   ],
   "source": [
    "pmid = \"PMID:38423010\"\n",
    "df = timporter.create_hpoa_from_phenopackets(pmid=pmid, mode_of_inheritance=Moi.AD, target=\"OMIM:620784\")"
   ]
  }
 ],
 "metadata": {
  "kernelspec": {
   "display_name": "ps24venv",
   "language": "python",
   "name": "python3"
  },
  "language_info": {
   "codemirror_mode": {
    "name": "ipython",
    "version": 3
   },
   "file_extension": ".py",
   "mimetype": "text/x-python",
   "name": "python",
   "nbconvert_exporter": "python",
   "pygments_lexer": "ipython3",
   "version": "3.9.6"
  }
 },
 "nbformat": 4,
 "nbformat_minor": 2
}
