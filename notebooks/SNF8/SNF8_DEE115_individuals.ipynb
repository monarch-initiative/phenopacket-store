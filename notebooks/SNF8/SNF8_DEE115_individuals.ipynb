{
 "cells": [
  {
   "cell_type": "markdown",
   "metadata": {},
   "source": [
    "# SNF8\n",
    "[developmental and epileptic encephalopathy-115 (DEE115)](https://omim.org/entry/620783) is caused by homozygous or compound heterozygous mutation in the SNF8 gene."
   ]
  },
  {
   "cell_type": "code",
   "execution_count": 4,
   "metadata": {},
   "outputs": [
    {
     "name": "stdout",
     "output_type": "stream",
     "text": [
      "Using pyphetools version 0.9.94\n"
     ]
    }
   ],
   "source": [
    "from pyphetools.creation import TemplateImporter, Moi\n",
    "from pyphetools.visualization import IndividualTable, QcVisualizer\n",
    "from IPython.display import display, HTML\n",
    "import pyphetools\n",
    "print(f\"Using pyphetools version {pyphetools.__version__}\")"
   ]
  },
  {
   "cell_type": "code",
   "execution_count": 5,
   "metadata": {},
   "outputs": [],
   "source": [
    "template = \"input/SNF8_DEE115_individuals.xlsx\"\n",
    "created_by = \"0000-0002-0736-9199\""
   ]
  },
  {
   "cell_type": "code",
   "execution_count": 8,
   "metadata": {},
   "outputs": [
    {
     "name": "stdout",
     "output_type": "stream",
     "text": [
      "HPO version 2024-07-01\n",
      "Created encoders for 37 fields\n",
      "Importing OMIM:620783, Developmental and epileptic encephalopathy 115, HGNC:17028, SNF8,  NM_007241.4\n",
      "[INFO] encoding variant \"c.572G>A\"\n",
      "https://rest.variantvalidator.org/VariantValidator/variantvalidator/hg38/NM_007241.4%3Ac.572G>A/NM_007241.4?content-type=application%2Fjson\n",
      "[INFO] encoding variant \"c.501C>A\"\n",
      "https://rest.variantvalidator.org/VariantValidator/variantvalidator/hg38/NM_007241.4%3Ac.501C>A/NM_007241.4?content-type=application%2Fjson\n",
      "[INFO] encoding variant \"c.623G>T\"\n",
      "https://rest.variantvalidator.org/VariantValidator/variantvalidator/hg38/NM_007241.4%3Ac.623G>T/NM_007241.4?content-type=application%2Fjson\n",
      "We output 5 GA4GH phenopackets to the directory phenopackets\n"
     ]
    }
   ],
   "source": [
    "timporter = TemplateImporter(template=template,  created_by=created_by)\n",
    "individual_list, cvalidator = timporter.import_phenopackets_from_template()"
   ]
  },
  {
   "cell_type": "code",
   "execution_count": 9,
   "metadata": {},
   "outputs": [
    {
     "data": {
      "text/html": [
       "<h2>Cohort validation</h2>\n",
       "<p>Errors found with 5 of 5 phenopackets.</p>\n",
       "<table style=\"border: 2px solid black; align: \"left\">\n",
       "<caption>Error counts</caption>\n",
       "<tr><th style=\"text-align: left;font-weight: bold;\">Level</th><th style=\"text-align: left;font-weight: bold;\">Error category</th><th style=\"text-align: left;font-weight: bold;\">Count</th></tr>\n",
       "<tr><td style=\"text-align: left;\">WARNING</td><td style=\"text-align: left;\">REDUNDANT</td><td style=\"text-align: left;\">7</td></tr>\n",
       "</table>\n",
       "<p>A total of 7 issues were fixed and no individual was removed from the cohort.</p>"
      ],
      "text/plain": [
       "<IPython.core.display.HTML object>"
      ]
     },
     "metadata": {},
     "output_type": "display_data"
    }
   ],
   "source": [
    "qc = QcVisualizer(cohort_validator=cvalidator)\n",
    "display(HTML(qc.to_summary_html()))"
   ]
  },
  {
   "cell_type": "code",
   "execution_count": 10,
   "metadata": {},
   "outputs": [
    {
     "data": {
      "text/html": [
       "<table style=\"border: 2px solid black; align: \"left\">\n",
       "<caption>5 phenopackets - PMID:38423010 (n=5)</caption>\n",
       "<tr><th style=\"text-align: left;font-weight: bold;\">Individual</th><th style=\"text-align: left;font-weight: bold;\">Disease</th><th style=\"text-align: left;font-weight: bold;\">Genotype</th><th style=\"text-align: left;font-weight: bold;\">Phenotypic features</th></tr>\n",
       "<tr><td style=\"text-align: left;\">individual A1 (FEMALE; P8M)</td><td style=\"text-align: left;\">Developmental and epileptic encephalopathy 115 (OMIM:620783)</td><td style=\"text-align: left;\"><ul> <li>NM_007241.4:c.501C>A (heterozygous)</li> <li>NM_007241.4:c.572G>A (heterozygous)</li> </ul></td><td style=\"text-align: left;\">Seizure (HP:0001250); Feeding difficulties (HP:0011968); Dysphagia (HP:0002015); Leukoencephalopathy (HP:0002352); Global developmental delay (HP:0001263); Developmental regression (HP:0002376); Nystagmus (HP:0000639); Global brain atrophy (HP:0002283); Hypoplasia of the corpus callosum (HP:0002079); EEG abnormality (HP:0002353); excluded: Tube feeding (HP:0033454); excluded: Pachygyria (HP:0001302); excluded: Intellectual disability (HP:0001249); excluded: Cerebellar cortical atrophy (HP:0008278); excluded: Agenesis of corpus callosum (HP:0001274); excluded: Dysplastic corpus callosum (HP:0006989)</td></tr>\n",
       "<tr><td style=\"text-align: left;\">individual A2 (FEMALE; P3M)</td><td style=\"text-align: left;\">Developmental and epileptic encephalopathy 115 (OMIM:620783)</td><td style=\"text-align: left;\"><ul> <li>NM_007241.4:c.501C>A (heterozygous)</li> <li>NM_007241.4:c.572G>A (heterozygous)</li> </ul></td><td style=\"text-align: left;\">Dysphagia (HP:0002015); Tube feeding (HP:0033454); Hypotonia (HP:0001252); Pachygyria (HP:0001302); Global developmental delay (HP:0001263); Global brain atrophy (HP:0002283); Hypoplasia of the corpus callosum (HP:0002079); excluded: Seizure (HP:0001250); excluded: Intellectual disability (HP:0001249); excluded: Developmental regression (HP:0002376); excluded: Cerebellar cortical atrophy (HP:0008278); excluded: Agenesis of corpus callosum (HP:0001274); excluded: Dysplastic corpus callosum (HP:0006989); excluded: EEG abnormality (HP:0002353)</td></tr>\n",
       "<tr><td style=\"text-align: left;\">individual B1 (MALE; P4Y6M)</td><td style=\"text-align: left;\">Developmental and epileptic encephalopathy 115 (OMIM:620783)</td><td style=\"text-align: left;\"><ul> <li>NM_007241.4:c.236C>T (heterozygous)</li> <li>NM_007241.4:c.572G>A (heterozygous)</li> </ul></td><td style=\"text-align: left;\">Seizure (HP:0001250); Dysphagia (HP:0002015); Tube feeding (HP:0033454); Global developmental delay (HP:0001263); Nystagmus (HP:0000639); Global brain atrophy (HP:0002283); Agenesis of corpus callosum (HP:0001274); EEG abnormality (HP:0002353); excluded: Pachygyria (HP:0001302); excluded: Intellectual disability (HP:0001249); excluded: Developmental regression (HP:0002376); excluded: Cerebellar cortical atrophy (HP:0008278); excluded: Hypoplasia of the corpus callosum (HP:0002079); excluded: Dysplastic corpus callosum (HP:0006989)</td></tr>\n",
       "<tr><td style=\"text-align: left;\">individual C1 (MALE; n/a)</td><td style=\"text-align: left;\">Developmental and epileptic encephalopathy 115 (OMIM:620783)</td><td style=\"text-align: left;\">NM_007241.4:c.623G>T (homozygous)</td><td style=\"text-align: left;\">Dysplastic corpus callosum (HP:0006989); excluded: Pachygyria (HP:0001302); excluded: Global brain atrophy (HP:0002283); excluded: Cerebellar cortical atrophy (HP:0008278); excluded: Hypoplasia of the corpus callosum (HP:0002079); excluded: Agenesis of corpus callosum (HP:0001274); excluded: EEG abnormality (HP:0002353); excluded: Abnormality of visual evoked potentials (HP:0000649)</td></tr>\n",
       "<tr><td style=\"text-align: left;\">individual C2 (FEMALE; P2M)</td><td style=\"text-align: left;\">Developmental and epileptic encephalopathy 115 (OMIM:620783)</td><td style=\"text-align: left;\">NM_007241.4:c.623G>T (homozygous)</td><td style=\"text-align: left;\">Dysphagia (HP:0002015); Tube feeding (HP:0033454); Optic nerve hypoplasia (HP:0000609); Hypotonia (HP:0001252); Global brain atrophy (HP:0002283); Cerebellar atrophy (HP:0001272); Agenesis of corpus callosum (HP:0001274); excluded: Seizure (HP:0001250); excluded: Pachygyria (HP:0001302); excluded: Intellectual disability (HP:0001249); excluded: Global developmental delay (HP:0001263); excluded: Developmental regression (HP:0002376); excluded: Cerebellar cortical atrophy (HP:0008278); excluded: Hypoplasia of the corpus callosum (HP:0002079); excluded: Dysplastic corpus callosum (HP:0006989)</td></tr>\n",
       "</table>"
      ],
      "text/plain": [
       "<IPython.core.display.HTML object>"
      ]
     },
     "metadata": {},
     "output_type": "display_data"
    }
   ],
   "source": [
    "table = IndividualTable(cvalidator.get_error_free_individual_list())\n",
    "display(HTML(table.to_html()))"
   ]
  },
  {
   "cell_type": "code",
   "execution_count": 11,
   "metadata": {},
   "outputs": [
    {
     "name": "stdout",
     "output_type": "stream",
     "text": [
      "[pyphetools] Ingested 9 GA4GH phenopackets.\n",
      "[INFO] Extracted 5 from 9 phenopackets with OMIM:620783\n",
      "\n",
      "\tDevelopmental and epileptic encephalopathy 115 (OMIM:620783): n=5\n",
      "We found a total of 20 unique HPO terms\n",
      "Extracted disease: Developmental and epileptic encephalopathy 115 (OMIM:620783)\n",
      "Wrote HPOA disease file to OMIM-620783.tab\n"
     ]
    },
    {
     "data": {
      "text/html": [
       "<div>\n",
       "<style scoped>\n",
       "    .dataframe tbody tr th:only-of-type {\n",
       "        vertical-align: middle;\n",
       "    }\n",
       "\n",
       "    .dataframe tbody tr th {\n",
       "        vertical-align: top;\n",
       "    }\n",
       "\n",
       "    .dataframe thead th {\n",
       "        text-align: right;\n",
       "    }\n",
       "</style>\n",
       "<table border=\"1\" class=\"dataframe\">\n",
       "  <thead>\n",
       "    <tr style=\"text-align: right;\">\n",
       "      <th></th>\n",
       "      <th>#diseaseID</th>\n",
       "      <th>diseaseName</th>\n",
       "      <th>phenotypeID</th>\n",
       "      <th>phenotypeName</th>\n",
       "      <th>onsetID</th>\n",
       "      <th>onsetName</th>\n",
       "      <th>frequency</th>\n",
       "      <th>sex</th>\n",
       "      <th>negation</th>\n",
       "      <th>modifier</th>\n",
       "      <th>description</th>\n",
       "      <th>publication</th>\n",
       "      <th>evidence</th>\n",
       "      <th>biocuration</th>\n",
       "    </tr>\n",
       "  </thead>\n",
       "  <tbody>\n",
       "    <tr>\n",
       "      <th>0</th>\n",
       "      <td>OMIM:620783</td>\n",
       "      <td>Developmental and epileptic encephalopathy 115</td>\n",
       "      <td>HP:0001250</td>\n",
       "      <td>Seizure</td>\n",
       "      <td></td>\n",
       "      <td></td>\n",
       "      <td>2/4</td>\n",
       "      <td></td>\n",
       "      <td></td>\n",
       "      <td></td>\n",
       "      <td></td>\n",
       "      <td>PMID:38423010</td>\n",
       "      <td>PCS</td>\n",
       "      <td>ORCID:0000-0002-0736-9199[2024-07-29]</td>\n",
       "    </tr>\n",
       "    <tr>\n",
       "      <th>1</th>\n",
       "      <td>OMIM:620783</td>\n",
       "      <td>Developmental and epileptic encephalopathy 115</td>\n",
       "      <td>HP:0011968</td>\n",
       "      <td>Feeding difficulties</td>\n",
       "      <td></td>\n",
       "      <td></td>\n",
       "      <td>1/1</td>\n",
       "      <td></td>\n",
       "      <td></td>\n",
       "      <td></td>\n",
       "      <td></td>\n",
       "      <td>PMID:38423010</td>\n",
       "      <td>PCS</td>\n",
       "      <td>ORCID:0000-0002-0736-9199[2024-07-29]</td>\n",
       "    </tr>\n",
       "    <tr>\n",
       "      <th>2</th>\n",
       "      <td>OMIM:620783</td>\n",
       "      <td>Developmental and epileptic encephalopathy 115</td>\n",
       "      <td>HP:0002015</td>\n",
       "      <td>Dysphagia</td>\n",
       "      <td></td>\n",
       "      <td></td>\n",
       "      <td>4/4</td>\n",
       "      <td></td>\n",
       "      <td></td>\n",
       "      <td></td>\n",
       "      <td></td>\n",
       "      <td>PMID:38423010</td>\n",
       "      <td>PCS</td>\n",
       "      <td>ORCID:0000-0002-0736-9199[2024-07-29]</td>\n",
       "    </tr>\n",
       "    <tr>\n",
       "      <th>3</th>\n",
       "      <td>OMIM:620783</td>\n",
       "      <td>Developmental and epileptic encephalopathy 115</td>\n",
       "      <td>HP:0002352</td>\n",
       "      <td>Leukoencephalopathy</td>\n",
       "      <td></td>\n",
       "      <td></td>\n",
       "      <td>1/1</td>\n",
       "      <td></td>\n",
       "      <td></td>\n",
       "      <td></td>\n",
       "      <td></td>\n",
       "      <td>PMID:38423010</td>\n",
       "      <td>PCS</td>\n",
       "      <td>ORCID:0000-0002-0736-9199[2024-07-29]</td>\n",
       "    </tr>\n",
       "    <tr>\n",
       "      <th>4</th>\n",
       "      <td>OMIM:620783</td>\n",
       "      <td>Developmental and epileptic encephalopathy 115</td>\n",
       "      <td>HP:0001263</td>\n",
       "      <td>Global developmental delay</td>\n",
       "      <td></td>\n",
       "      <td></td>\n",
       "      <td>3/4</td>\n",
       "      <td></td>\n",
       "      <td></td>\n",
       "      <td></td>\n",
       "      <td></td>\n",
       "      <td>PMID:38423010</td>\n",
       "      <td>PCS</td>\n",
       "      <td>ORCID:0000-0002-0736-9199[2024-07-29]</td>\n",
       "    </tr>\n",
       "  </tbody>\n",
       "</table>\n",
       "</div>"
      ],
      "text/plain": [
       "    #diseaseID                                     diseaseName phenotypeID  \\\n",
       "0  OMIM:620783  Developmental and epileptic encephalopathy 115  HP:0001250   \n",
       "1  OMIM:620783  Developmental and epileptic encephalopathy 115  HP:0011968   \n",
       "2  OMIM:620783  Developmental and epileptic encephalopathy 115  HP:0002015   \n",
       "3  OMIM:620783  Developmental and epileptic encephalopathy 115  HP:0002352   \n",
       "4  OMIM:620783  Developmental and epileptic encephalopathy 115  HP:0001263   \n",
       "\n",
       "                phenotypeName onsetID onsetName frequency sex negation  \\\n",
       "0                     Seizure                         2/4                \n",
       "1        Feeding difficulties                         1/1                \n",
       "2                   Dysphagia                         4/4                \n",
       "3         Leukoencephalopathy                         1/1                \n",
       "4  Global developmental delay                         3/4                \n",
       "\n",
       "  modifier description    publication evidence  \\\n",
       "0                       PMID:38423010      PCS   \n",
       "1                       PMID:38423010      PCS   \n",
       "2                       PMID:38423010      PCS   \n",
       "3                       PMID:38423010      PCS   \n",
       "4                       PMID:38423010      PCS   \n",
       "\n",
       "                             biocuration  \n",
       "0  ORCID:0000-0002-0736-9199[2024-07-29]  \n",
       "1  ORCID:0000-0002-0736-9199[2024-07-29]  \n",
       "2  ORCID:0000-0002-0736-9199[2024-07-29]  \n",
       "3  ORCID:0000-0002-0736-9199[2024-07-29]  \n",
       "4  ORCID:0000-0002-0736-9199[2024-07-29]  "
      ]
     },
     "execution_count": 11,
     "metadata": {},
     "output_type": "execute_result"
    }
   ],
   "source": [
    "pmid = \"PMID:38423010\"\n",
    "df = timporter.create_hpoa_from_phenopackets(pmid=pmid, mode_of_inheritance=Moi.AD, target=\"OMIM:620783\")\n",
    "df.head()"
   ]
  },
  {
   "cell_type": "code",
   "execution_count": null,
   "metadata": {},
   "outputs": [],
   "source": []
  }
 ],
 "metadata": {
  "kernelspec": {
   "display_name": "ps24venv",
   "language": "python",
   "name": "python3"
  },
  "language_info": {
   "codemirror_mode": {
    "name": "ipython",
    "version": 3
   },
   "file_extension": ".py",
   "mimetype": "text/x-python",
   "name": "python",
   "nbconvert_exporter": "python",
   "pygments_lexer": "ipython3",
   "version": "3.9.6"
  }
 },
 "nbformat": 4,
 "nbformat_minor": 2
}
