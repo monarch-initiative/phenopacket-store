{
 "cells": [
  {
   "cell_type": "markdown",
   "metadata": {},
   "source": [
    "#CARD9\n",
    "[immunodeficiency-103 (IMD103)](https://omim.org/entry/212050) is caused by homozygous or compound heterozygous mutation in the CARD9 gene."
   ]
  },
  {
   "cell_type": "code",
   "execution_count": 1,
   "metadata": {},
   "outputs": [],
   "source": [
    "from pyphetools.creation import *\n",
    "tc = TemplateCreator()"
   ]
  },
  {
   "cell_type": "code",
   "execution_count": 4,
   "metadata": {},
   "outputs": [
    {
     "name": "stdout",
     "output_type": "stream",
     "text": [
      "Using pyphetools version 0.9.88\n"
     ]
    }
   ],
   "source": [
    "from pyphetools.creation import TemplateImporter\n",
    "from pyphetools.visualization import IndividualTable, QcVisualizer\n",
    "from IPython.display import display, HTML\n",
    "import pyphetools\n",
    "print(f\"Using pyphetools version {pyphetools.__version__}\")"
   ]
  },
  {
   "cell_type": "code",
   "execution_count": 3,
   "metadata": {},
   "outputs": [
    {
     "name": "stdout",
     "output_type": "stream",
     "text": [
      "[INFO] Add 6 HPO terms to template.\n",
      "Wrote Excel pyphetools template file to OMIM_212050_individuals.xlsx\n"
     ]
    }
   ],
   "source": [
    "tc.create_template(disease_id=\"OMIM:212050\",\n",
    "                         disease_label=\"Immunodeficiency 103, susceptibility to fungal infection\",\n",
    "                         gene_symbol=\"CARD9\",\n",
    "                         HGNC_id=\"HGNC:16391\",\n",
    "                         transcript=\"NM_052813.5\")\n"
   ]
  },
  {
   "cell_type": "code",
   "execution_count": 7,
   "metadata": {},
   "outputs": [],
   "source": [
    "template = \"input/CARD9_IMD103_individuals.xlsx\"\n",
    "created_by = \"0000-0002-0736-9199\""
   ]
  },
  {
   "cell_type": "code",
   "execution_count": 13,
   "metadata": {},
   "outputs": [
    {
     "name": "stdout",
     "output_type": "stream",
     "text": [
      "HPO version 2024-04-26\n",
      "Created encoders for 33 fields\n",
      "Importing OMIM:212050, Immunodeficiency 103, susceptibility to fungal infection, HGNC:16391, CARD9,  NM_052813.5\n",
      "We output 6 GA4GH phenopackets to the directory phenopackets\n"
     ]
    }
   ],
   "source": [
    "timporter = TemplateImporter(template=template,  created_by=created_by)\n",
    "individual_list, cvalidator = timporter.import_phenopackets_from_template()"
   ]
  },
  {
   "cell_type": "code",
   "execution_count": 14,
   "metadata": {},
   "outputs": [
    {
     "data": {
      "text/html": [
       "<h2>Cohort validation</h2>\n",
       "<p>Errors found with 5 of 6 phenopackets.</p>\n",
       "<table style=\"border: 2px solid black; align: \"left\">\n",
       "<caption>Error counts</caption>\n",
       "<tr><th style=\"text-align: left;font-weight: bold;\">Level</th><th style=\"text-align: left;font-weight: bold;\">Error category</th><th style=\"text-align: left;font-weight: bold;\">Count</th></tr>\n",
       "<tr><td style=\"text-align: left;\">WARNING</td><td style=\"text-align: left;\">REDUNDANT</td><td style=\"text-align: left;\">10</td></tr>\n",
       "</table>\n",
       "<p>A total of 10 issues were fixed and no individual was removed from the cohort.</p>"
      ],
      "text/plain": [
       "<IPython.core.display.HTML object>"
      ]
     },
     "metadata": {},
     "output_type": "display_data"
    }
   ],
   "source": [
    "qc = QcVisualizer(cohort_validator=cvalidator)\n",
    "display(HTML(qc.to_summary_html()))"
   ]
  },
  {
   "cell_type": "code",
   "execution_count": 15,
   "metadata": {},
   "outputs": [
    {
     "data": {
      "text/html": [
       "<table style=\"border: 2px solid black; align: \"left\">\n",
       "<caption>6 phenopackets - PMID:19864672 (n=5); PMID:26044242 (n=1)</caption>\n",
       "<tr><th style=\"text-align: left;font-weight: bold;\">Individual</th><th style=\"text-align: left;font-weight: bold;\">Disease</th><th style=\"text-align: left;font-weight: bold;\">Genotype</th><th style=\"text-align: left;font-weight: bold;\">Phenotypic features</th></tr>\n",
       "<tr><td style=\"text-align: left;\">Patient 2B2 (MALE; P19Y)</td><td style=\"text-align: left;\">Immunodeficiency 103, susceptibility to fungal infection (OMIM:212050)</td><td style=\"text-align: left;\">NM_052813.5:c.883C>T (homozygous)</td><td style=\"text-align: left;\"><b>P3Y</b>: Chronic oral candidiasis (HP:0009098)<br/>excluded: Fungal meningitis (HP:0032159); excluded: Increased circulating IgE level (HP:0003212); excluded: Eosinophilia (HP:0001880); excluded: Increased circulating IgG level (HP:0003237); excluded: Lymphopenia (HP:0001888); excluded: Abnormal proportion of CD8-positive T cells (HP:0031393); excluded: Abnormal proportion of CD4-positive T cells (HP:0031392)</td></tr>\n",
       "<tr><td style=\"text-align: left;\">Patient 2B1 (MALE; P18Y)</td><td style=\"text-align: left;\">Immunodeficiency 103, susceptibility to fungal infection (OMIM:212050)</td><td style=\"text-align: left;\">NM_052813.5:c.883C>T (homozygous)</td><td style=\"text-align: left;\"><b>P18Y</b>: Fungal meningitis (HP:0032159)<br/>Chronic oral candidiasis (HP:0009098); excluded: Increased circulating IgE level (HP:0003212); excluded: Eosinophilia (HP:0001880); excluded: Increased circulating IgG level (HP:0003237); excluded: Lymphopenia (HP:0001888); excluded: Abnormal proportion of CD8-positive T cells (HP:0031393); excluded: Abnormal proportion of CD4-positive T cells (HP:0031392)</td></tr>\n",
       "<tr><td style=\"text-align: left;\">Patient 2M (FEMALE; P50Y)</td><td style=\"text-align: left;\">Immunodeficiency 103, susceptibility to fungal infection (OMIM:212050)</td><td style=\"text-align: left;\">NM_052813.5:c.883C>T (homozygous)</td><td style=\"text-align: left;\"><b>P42Y</b>: Recurrent vulvovaginal candidiasis (HP:0012204)<br/><b>P45Y</b>: Deep dermatophytosis (HP:0032515)<br/>excluded: Chronic oral candidiasis (HP:0009098); excluded: Fungal meningitis (HP:0032159); excluded: Increased circulating IgE level (HP:0003212); excluded: Eosinophilia (HP:0001880); excluded: Increased circulating IgG level (HP:0003237); excluded: Lymphopenia (HP:0001888); excluded: Abnormal proportion of CD8-positive T cells (HP:0031393); excluded: Abnormal proportion of CD4-positive T cells (HP:0031392)</td></tr>\n",
       "<tr><td style=\"text-align: left;\">Patient 1M (FEMALE; n/a)</td><td style=\"text-align: left;\">Immunodeficiency 103, susceptibility to fungal infection (OMIM:212050)</td><td style=\"text-align: left;\">NM_052813.5:c.883C>T (homozygous)</td><td style=\"text-align: left;\">Recurrent vulvovaginal candidiasis (HP:0012204); Chronic tinea infection (HP:0032259); excluded: Chronic oral candidiasis (HP:0009098); excluded: Fungal meningitis (HP:0032159); excluded: Increased circulating IgE level (HP:0003212); excluded: Eosinophilia (HP:0001880); excluded: Increased circulating IgG level (HP:0003237); excluded: Lymphopenia (HP:0001888); excluded: Abnormal proportion of CD8-positive T cells (HP:0031393); excluded: Abnormal proportion of CD4-positive T cells (HP:0031392)</td></tr>\n",
       "<tr><td style=\"text-align: left;\">Patient 5F (MALE; n/a)</td><td style=\"text-align: left;\">Immunodeficiency 103, susceptibility to fungal infection (OMIM:212050)</td><td style=\"text-align: left;\">NM_052813.5:c.883C>T (homozygous)</td><td style=\"text-align: left;\">Deep dermatophytosis (HP:0032515); excluded: Chronic oral candidiasis (HP:0009098); excluded: Fungal meningitis (HP:0032159); excluded: Increased circulating IgE level (HP:0003212); excluded: Eosinophilia (HP:0001880); excluded: Increased circulating IgG level (HP:0003237); excluded: Lymphopenia (HP:0001888); excluded: Abnormal proportion of CD8-positive T cells (HP:0031393); excluded: Abnormal proportion of CD4-positive T cells (HP:0031392)</td></tr>\n",
       "<tr><td style=\"text-align: left;\"> 24-year-old Caucasian male (MALE; P24Y)</td><td style=\"text-align: left;\">Immunodeficiency 103, susceptibility to fungal infection (OMIM:212050)</td><td style=\"text-align: left;\">NM_052813.5:c.302G>T (homozygous)</td><td style=\"text-align: left;\"><b>P3Y</b>: Chronic oral candidiasis (HP:0009098)<br/>Deep dermatophytosis (HP:0032515); Nail dystrophy (HP:0008404); Increased circulating IgE level (HP:0003212); Eosinophilia (HP:0001880); Increased circulating IgG level (HP:0003237); Lymphopenia (HP:0001888); excluded: Fungal meningitis (HP:0032159); excluded: Abnormal proportion of CD8-positive T cells (HP:0031393); excluded: Abnormal proportion of CD4-positive T cells (HP:0031392)</td></tr>\n",
       "</table>"
      ],
      "text/plain": [
       "<IPython.core.display.HTML object>"
      ]
     },
     "metadata": {},
     "output_type": "display_data"
    }
   ],
   "source": [
    "table = IndividualTable(cvalidator.get_error_free_individual_list())\n",
    "display(HTML(table.to_html()))"
   ]
  }
 ],
 "metadata": {
  "kernelspec": {
   "display_name": "ps24venv",
   "language": "python",
   "name": "python3"
  },
  "language_info": {
   "codemirror_mode": {
    "name": "ipython",
    "version": 3
   },
   "file_extension": ".py",
   "mimetype": "text/x-python",
   "name": "python",
   "nbconvert_exporter": "python",
   "pygments_lexer": "ipython3",
   "version": "3.9.6"
  }
 },
 "nbformat": 4,
 "nbformat_minor": 2
}
