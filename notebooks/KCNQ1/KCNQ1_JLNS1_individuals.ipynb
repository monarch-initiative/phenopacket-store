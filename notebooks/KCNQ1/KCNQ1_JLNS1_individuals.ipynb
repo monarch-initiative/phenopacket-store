{
 "cells": [
  {
   "cell_type": "markdown",
   "metadata": {},
   "source": [
    "# KCNQ1\n",
    "[Jervell and Lange-Nielsen syndrome (JLNS1)](https://omim.org/entry/220400) is caused by homozygous or compound heterozygous mutations in the KCNQ1 gene."
   ]
  },
  {
   "cell_type": "code",
   "execution_count": 3,
   "metadata": {},
   "outputs": [
    {
     "name": "stdout",
     "output_type": "stream",
     "text": [
      "Using pyphetools version 0.9.91\n"
     ]
    }
   ],
   "source": [
    "from pyphetools.creation import TemplateImporter\n",
    "from pyphetools.visualization import IndividualTable, QcVisualizer\n",
    "from IPython.display import display, HTML\n",
    "import pyphetools\n",
    "print(f\"Using pyphetools version {pyphetools.__version__}\")"
   ]
  },
  {
   "cell_type": "code",
   "execution_count": 4,
   "metadata": {},
   "outputs": [],
   "source": [
    "template = \"input/KCNQ1_JLNS1_individuals.xlsx\"\n",
    "created_by = \"0000-0002-0736-9199\""
   ]
  },
  {
   "cell_type": "code",
   "execution_count": 7,
   "metadata": {},
   "outputs": [
    {
     "name": "stdout",
     "output_type": "stream",
     "text": [
      "HPO version 2024-04-26\n",
      "Created encoders for 25 fields\n",
      "Importing OMIM:220400, Jervell and Lange-Nielsen syndrome, HGNC:6294, KCNQ1,  NM_000218.3\n",
      "[INFO] encoding variant \"c.1097G>A\"\n",
      "https://rest.variantvalidator.org/VariantValidator/variantvalidator/hg38/NM_000218.3%3Ac.1097G>A/NM_000218.3?content-type=application%2Fjson\n",
      "[INFO] encoding variant \"c.477+1G>A\"\n",
      "https://rest.variantvalidator.org/VariantValidator/variantvalidator/hg38/NM_000218.3%3Ac.477+1G>A/NM_000218.3?content-type=application%2Fjson\n",
      "[INFO] encoding variant \"c.520C>T\"\n",
      "https://rest.variantvalidator.org/VariantValidator/variantvalidator/hg38/NM_000218.3%3Ac.520C>T/NM_000218.3?content-type=application%2Fjson\n",
      "[INFO] encoding variant \"c.728G>A\"\n",
      "https://rest.variantvalidator.org/VariantValidator/variantvalidator/hg38/NM_000218.3%3Ac.728G>A/NM_000218.3?content-type=application%2Fjson\n",
      "We output 3 GA4GH phenopackets to the directory phenopackets\n"
     ]
    }
   ],
   "source": [
    "timporter = TemplateImporter(template=template,  created_by=created_by)\n",
    "individual_list, cvalidator = timporter.import_phenopackets_from_template()"
   ]
  },
  {
   "cell_type": "code",
   "execution_count": 8,
   "metadata": {},
   "outputs": [
    {
     "data": {
      "text/html": [
       "<h2>Cohort validation</h2>\n",
       "<p>No errors found for the cohort with 3 individuals</p>"
      ],
      "text/plain": [
       "<IPython.core.display.HTML object>"
      ]
     },
     "metadata": {},
     "output_type": "display_data"
    }
   ],
   "source": [
    "qc = QcVisualizer(cohort_validator=cvalidator)\n",
    "display(HTML(qc.to_summary_html()))"
   ]
  },
  {
   "cell_type": "code",
   "execution_count": 9,
   "metadata": {},
   "outputs": [
    {
     "data": {
      "text/html": [
       "<table style=\"border: 2px solid black; align: \"left\">\n",
       "<caption>3 phenopackets - PMID:29037160 (n=3)</caption>\n",
       "<tr><th style=\"text-align: left;font-weight: bold;\">Individual</th><th style=\"text-align: left;font-weight: bold;\">Disease</th><th style=\"text-align: left;font-weight: bold;\">Genotype</th><th style=\"text-align: left;font-weight: bold;\">Phenotypic features</th></tr>\n",
       "<tr><td style=\"text-align: left;\">Case 1 (family-I) (FEMALE; P3Y6M)</td><td style=\"text-align: left;\">Jervell and Lange-Nielsen syndrome (OMIM:220400)</td><td style=\"text-align: left;\">NM_000218.3:c.728G>A (homozygous)</td><td style=\"text-align: left;\"><b>P1Y6M</b>: Seizure (HP:0001250)<br/><b>P3Y6M</b>: Prolonged QT interval (HP:0001657); Polymorphic ventricular tachycardia (HP:0031677)<br/>Congenital sensorineural hearing impairment (HP:0008527)</td></tr>\n",
       "<tr><td style=\"text-align: left;\">Case 2 (family II) (FEMALE; P1M2D)</td><td style=\"text-align: left;\">Jervell and Lange-Nielsen syndrome (OMIM:220400)</td><td style=\"text-align: left;\"><ul> <li>NM_000218.3:c.477+1G>A (heterozygous)</li> <li>NM_000218.3:c.520C>T (heterozygous)</li> </ul></td><td style=\"text-align: left;\"><b>P1M2D</b>: Prolonged QT interval (HP:0001657)<br/>Congenital sensorineural hearing impairment (HP:0008527)</td></tr>\n",
       "<tr><td style=\"text-align: left;\">Case 3 (family III) (MALE; P5Y)</td><td style=\"text-align: left;\">Jervell and Lange-Nielsen syndrome (OMIM:220400)</td><td style=\"text-align: left;\">NM_000218.3:c.1097G>A (homozygous)</td><td style=\"text-align: left;\"><b>P1D</b>: Prolonged QT interval (HP:0001657); Bradycardia (HP:0001662)<br/>Congenital sensorineural hearing impairment (HP:0008527)</td></tr>\n",
       "</table>"
      ],
      "text/plain": [
       "<IPython.core.display.HTML object>"
      ]
     },
     "metadata": {},
     "output_type": "display_data"
    }
   ],
   "source": [
    "table = IndividualTable(cvalidator.get_error_free_individual_list())\n",
    "display(HTML(table.to_html()))"
   ]
  }
 ],
 "metadata": {
  "kernelspec": {
   "display_name": "ps24venv",
   "language": "python",
   "name": "python3"
  },
  "language_info": {
   "codemirror_mode": {
    "name": "ipython",
    "version": 3
   },
   "file_extension": ".py",
   "mimetype": "text/x-python",
   "name": "python",
   "nbconvert_exporter": "python",
   "pygments_lexer": "ipython3",
   "version": "3.9.6"
  }
 },
 "nbformat": 4,
 "nbformat_minor": 2
}
