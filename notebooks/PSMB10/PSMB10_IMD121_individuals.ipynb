{
 "cells": [
  {
   "cell_type": "markdown",
   "metadata": {},
   "source": [
    "# PSMB10\n",
    "[Immunodeficiency-121 with autoinflammation (IMD121)](https://omim.org/entry/620807) is caused by heterozygous mutation in the PSMB10 gene."
   ]
  },
  {
   "cell_type": "code",
   "execution_count": 1,
   "metadata": {},
   "outputs": [
    {
     "name": "stdout",
     "output_type": "stream",
     "text": [
      "Using pyphetools version 0.9.113\n"
     ]
    }
   ],
   "source": [
    "from pyphetools.creation import TemplateImporter, Moi\n",
    "from pyphetools.visualization import IndividualTable, QcVisualizer\n",
    "from IPython.display import display, HTML\n",
    "import pyphetools\n",
    "print(f\"Using pyphetools version {pyphetools.__version__}\")"
   ]
  },
  {
   "cell_type": "code",
   "execution_count": 3,
   "metadata": {},
   "outputs": [
    {
     "name": "stdout",
     "output_type": "stream",
     "text": [
      "HPO version 2024-12-12\n",
      "Created encoders for 42 fields\n",
      "Importing OMIM:620807, Immunodeficiency 121 with autoinflammation, HGNC:9538, PSMB10,  NM_002801.4\n",
      "[INFO] encoding variant \"c.601G>A\"\n",
      "https://rest.variantvalidator.org/VariantValidator/variantvalidator/hg38/NM_002801.4%3Ac.601G>A/NM_002801.4?content-type=application%2Fjson\n",
      "[INFO] encoding variant \"c.166G>C\"\n",
      "https://rest.variantvalidator.org/VariantValidator/variantvalidator/hg38/NM_002801.4%3Ac.166G>C/NM_002801.4?content-type=application%2Fjson\n",
      "We output 6 GA4GH phenopackets to the directory phenopackets\n"
     ]
    }
   ],
   "source": [
    "template = \"input/PSMB10_IMD121_individuals.xlsx\"\n",
    "created_by = \"0000-0002-0736-9199\"\n",
    "timporter = TemplateImporter(template=template,  created_by=created_by)\n",
    "individual_list, cvalidator = timporter.import_phenopackets_from_template()"
   ]
  },
  {
   "cell_type": "code",
   "execution_count": 4,
   "metadata": {},
   "outputs": [
    {
     "data": {
      "text/html": [
       "<h2>Cohort validation</h2>\n",
       "<p>Errors found with 4 of 6 phenopackets.</p>\n",
       "<table style=\"border: 2px solid black; align: \"left\">\n",
       "<caption>Error counts</caption>\n",
       "<tr><th style=\"text-align: left;font-weight: bold;\">Level</th><th style=\"text-align: left;font-weight: bold;\">Error category</th><th style=\"text-align: left;font-weight: bold;\">Count</th></tr>\n",
       "<tr><td style=\"text-align: left;\">WARNING</td><td style=\"text-align: left;\">REDUNDANT</td><td style=\"text-align: left;\">4</td></tr>\n",
       "</table>\n",
       "<p>A total of 4 issues were fixed and no individual was removed from the cohort.</p>"
      ],
      "text/plain": [
       "<IPython.core.display.HTML object>"
      ]
     },
     "metadata": {},
     "output_type": "display_data"
    }
   ],
   "source": [
    "qc = QcVisualizer(cohort_validator=cvalidator)\n",
    "display(HTML(qc.to_summary_html()))"
   ]
  },
  {
   "cell_type": "code",
   "execution_count": 5,
   "metadata": {},
   "outputs": [
    {
     "data": {
      "text/html": [
       "<table style=\"border: 2px solid black; align: \"left\">\n",
       "<caption>6 phenopackets - PMID:38503300 (n=6)</caption>\n",
       "<tr><th style=\"text-align: left;font-weight: bold;\">Individual</th><th style=\"text-align: left;font-weight: bold;\">Disease</th><th style=\"text-align: left;font-weight: bold;\">Genotype</th><th style=\"text-align: left;font-weight: bold;\">Phenotypic features</th></tr>\n",
       "<tr><td style=\"text-align: left;\">Individual 1 (MALE; P18Y)</td><td style=\"text-align: left;\">Immunodeficiency 121 with autoinflammation (OMIM:620807)</td><td style=\"text-align: left;\">NM_002801.4:c.601G>A (heterozygous)</td><td style=\"text-align: left;\">Failure to thrive (HP:0001508): onset ; Chronic oral candidiasis (HP:0009098): onset ; T lymphocytopenia (HP:0005403): onset ; B lymphocytopenia (HP:0010976): onset ; Decreased proportion of naive CD4 T cells (HP:0410378): onset ; Decreased lymphocyte proliferation in response to mitogen (HP:0031381): onset ; Increased CD4:CD8 ratio (HP:0033221): onset ; Erythroderma (HP:0001019): onset ; Immunodeficiency (HP:0002721): onset ; Eosinophilia (HP:0001880): onset ; Alopecia (HP:0001596): onset ; Lymphadenopathy (HP:0002716): onset ; Diarrhea (HP:0002014): onset ; Decreased circulating total IgG concentration (HP:0032132): onset ; excluded: Colitis (HP:0002583): onset ; excluded: Pneumocystis jirovecii pneumonia (HP:0020102): onset ; excluded: Hepatomegaly (HP:0002240): onset ; excluded: Decreased circulating IgA concentration (HP:0002720): onset ; excluded: Decreased circulating total IgM (HP:0002850): onset </td></tr>\n",
       "<tr><td style=\"text-align: left;\">Individual 2 (MALE; P2Y)</td><td style=\"text-align: left;\">Immunodeficiency 121 with autoinflammation (OMIM:620807)</td><td style=\"text-align: left;\">NM_002801.4:c.601G>A (heterozygous)</td><td style=\"text-align: left;\">Recurrent infections (HP:0002719): onset ; Failure to thrive (HP:0001508): onset ; Colitis (HP:0002583): onset ; T lymphocytopenia (HP:0005403): onset ; B lymphocytopenia (HP:0010976): onset ; Decreased proportion of naive CD4 T cells (HP:0410378): onset ; Decreased lymphocyte proliferation in response to mitogen (HP:0031381): onset ; Erythroderma (HP:0001019): onset ; Immunodeficiency (HP:0002721): onset ; Eosinophilia (HP:0001880): onset ; Alopecia (HP:0001596): onset ; Diarrhea (HP:0002014): onset ; Decreased circulating total IgG concentration (HP:0032132): onset ; Decreased circulating IgA concentration (HP:0002720): onset ; Decreased circulating total IgM (HP:0002850): onset ; Protruding ear (HP:0000411): onset ; Pointed chin (HP:0000307): onset ; Hypospadias (HP:0000047): onset ; excluded: Chronic oral candidiasis (HP:0009098): onset ; excluded: Pneumocystis jirovecii pneumonia (HP:0020102): onset ; excluded: Increased CD4:CD8 ratio (HP:0033221): onset ; excluded: Lymphadenopathy (HP:0002716): onset ; excluded: Hepatomegaly (HP:0002240): onset </td></tr>\n",
       "<tr><td style=\"text-align: left;\">Individual 3 (MALE; P16Y)</td><td style=\"text-align: left;\">Immunodeficiency 121 with autoinflammation (OMIM:620807)</td><td style=\"text-align: left;\">NM_002801.4:c.601G>A (heterozygous)</td><td style=\"text-align: left;\">Failure to thrive (HP:0001508): onset ; Chronic oral candidiasis (HP:0009098): onset ; T lymphocytopenia (HP:0005403): onset ; B lymphocytopenia (HP:0010976): onset ; Decreased proportion of naive CD4 T cells (HP:0410378): onset ; Decreased lymphocyte proliferation in response to mitogen (HP:0031381): onset ; Increased CD4:CD8 ratio (HP:0033221): onset ; Erythroderma (HP:0001019): onset ; Immunodeficiency (HP:0002721): onset ; Eosinophilia (HP:0001880): onset ; Alopecia (HP:0001596): onset ; Diarrhea (HP:0002014): onset ; Hepatomegaly (HP:0002240): onset ; Decreased circulating total IgG concentration (HP:0032132): onset ; excluded: Colitis (HP:0002583): onset ; excluded: Pneumocystis jirovecii pneumonia (HP:0020102): onset ; excluded: Abnormal facial shape (HP:0001999): onset ; excluded: Lymphadenopathy (HP:0002716): onset ; excluded: Decreased circulating IgA concentration (HP:0002720): onset ; excluded: Decreased circulating total IgM (HP:0002850): onset ; excluded: Protruding ear (HP:0000411): onset ; excluded: Pointed chin (HP:0000307): onset ; excluded: Hypospadias (HP:0000047): onset </td></tr>\n",
       "<tr><td style=\"text-align: left;\">Individual 4 (FEMALE; P11Y)</td><td style=\"text-align: left;\">Immunodeficiency 121 with autoinflammation (OMIM:620807)</td><td style=\"text-align: left;\">NM_002801.4:c.601G>A (heterozygous)</td><td style=\"text-align: left;\">Failure to thrive (HP:0001508): onset ; Chronic oral candidiasis (HP:0009098): onset ; Pneumocystis jirovecii pneumonia (HP:0020102): onset ; T lymphocytopenia (HP:0005403): onset ; B lymphocytopenia (HP:0010976): onset ; Decreased proportion of naive CD4 T cells (HP:0410378): onset ; Decreased lymphocyte proliferation in response to mitogen (HP:0031381): onset ; Increased CD4:CD8 ratio (HP:0033221): onset ; Erythroderma (HP:0001019): onset ; Immunodeficiency (HP:0002721): onset ; Eosinophilia (HP:0001880): onset ; Alopecia (HP:0001596): onset ; Diarrhea (HP:0002014): onset ; Hepatomegaly (HP:0002240): onset ; Decreased circulating total IgG concentration (HP:0032132): onset ; excluded: Colitis (HP:0002583): onset ; excluded: Abnormal facial shape (HP:0001999): onset ; excluded: Lymphadenopathy (HP:0002716): onset ; excluded: Decreased circulating IgA concentration (HP:0002720): onset ; excluded: Decreased circulating total IgM (HP:0002850): onset ; excluded: Protruding ear (HP:0000411): onset ; excluded: Pointed chin (HP:0000307): onset </td></tr>\n",
       "<tr><td style=\"text-align: left;\">Individual 5 (MALE; P4Y)</td><td style=\"text-align: left;\">Immunodeficiency 121 with autoinflammation (OMIM:620807)</td><td style=\"text-align: left;\">NM_002801.4:c.166G>C (heterozygous)</td><td style=\"text-align: left;\">Recurrent infections (HP:0002719): onset ; Failure to thrive (HP:0001508): onset ; T lymphocytopenia (HP:0005403): onset ; B lymphocytopenia (HP:0010976): onset ; Decreased proportion of naive CD4 T cells (HP:0410378): onset ; Decreased lymphocyte proliferation in response to mitogen (HP:0031381): onset ; Increased CD4:CD8 ratio (HP:0033221): onset ; Erythroderma (HP:0001019): onset ; Immunodeficiency (HP:0002721): onset ; Lymphadenopathy (HP:0002716): onset ; Diarrhea (HP:0002014): onset ; excluded: Colitis (HP:0002583): onset ; excluded: Chronic oral candidiasis (HP:0009098): onset ; excluded: Pneumocystis jirovecii pneumonia (HP:0020102): onset ; excluded: Eosinophilia (HP:0001880): onset ; excluded: Abnormal facial shape (HP:0001999): onset ; excluded: Hepatomegaly (HP:0002240): onset ; excluded: Decreased circulating total IgG concentration (HP:0032132): onset ; excluded: Decreased circulating IgA concentration (HP:0002720): onset ; excluded: Decreased circulating total IgM (HP:0002850): onset ; excluded: Protruding ear (HP:0000411): onset ; excluded: Pointed chin (HP:0000307): onset ; excluded: Hypospadias (HP:0000047): onset </td></tr>\n",
       "<tr><td style=\"text-align: left;\">Individual 6 (MALE; P1Y)</td><td style=\"text-align: left;\">Immunodeficiency 121 with autoinflammation (OMIM:620807)</td><td style=\"text-align: left;\">NM_002801.4:c.601G>A (heterozygous)</td><td style=\"text-align: left;\">Abnormally low T cell receptor excision circle level (HP:0031545): onset ; T lymphocytopenia (HP:0005403): onset ; B lymphocytopenia (HP:0010976): onset ; Decreased proportion of naive CD4 T cells (HP:0410378): onset ; Decreased lymphocyte proliferation in response to mitogen (HP:0031381): onset ; Increased CD4:CD8 ratio (HP:0033221): onset ; Erythroderma (HP:0001019): onset ; Immunodeficiency (HP:0002721): onset ; Eosinophilia (HP:0001880): onset ; Diarrhea (HP:0002014): onset ; Decreased circulating total IgG concentration (HP:0032132): onset ; Decreased circulating total IgM (HP:0002850): onset ; excluded: Failure to thrive (HP:0001508): onset ; excluded: Colitis (HP:0002583): onset ; excluded: Chronic oral candidiasis (HP:0009098): onset ; excluded: Pneumocystis jirovecii pneumonia (HP:0020102): onset ; excluded: Abnormal facial shape (HP:0001999): onset ; excluded: Alopecia (HP:0001596): onset ; excluded: Lymphadenopathy (HP:0002716): onset ; excluded: Hepatomegaly (HP:0002240): onset ; excluded: Decreased circulating IgA concentration (HP:0002720): onset ; excluded: Protruding ear (HP:0000411): onset ; excluded: Pointed chin (HP:0000307): onset ; excluded: Hypospadias (HP:0000047): onset </td></tr>\n",
       "</table>"
      ],
      "text/plain": [
       "<IPython.core.display.HTML object>"
      ]
     },
     "metadata": {},
     "output_type": "display_data"
    }
   ],
   "source": [
    "table = IndividualTable(cvalidator.get_error_free_individual_list())\n",
    "display(HTML(table.to_html()))"
   ]
  },
  {
   "cell_type": "code",
   "execution_count": 6,
   "metadata": {},
   "outputs": [
    {
     "name": "stdout",
     "output_type": "stream",
     "text": [
      "[pyphetools] Ingested 6 GA4GH phenopackets.\n",
      "[INFO] Extracted 6 from 6 phenopackets with OMIM:620807\n",
      "\n",
      "\tImmunodeficiency 121 with autoinflammation (OMIM:620807): n=6\n",
      "We found a total of 25 unique HPO terms\n",
      "Extracted disease: Immunodeficiency 121 with autoinflammation (OMIM:620807)\n",
      "Wrote HPOA disease file to OMIM-620807.tab\n"
     ]
    }
   ],
   "source": [
    "pmid = \"PMID:38503300\"\n",
    "df = timporter.create_hpoa_from_phenopackets(pmid=pmid, mode_of_inheritance=Moi.AD, target=\"OMIM:620807\")"
   ]
  }
 ],
 "metadata": {
  "kernelspec": {
   "display_name": "ps24venv",
   "language": "python",
   "name": "python3"
  },
  "language_info": {
   "codemirror_mode": {
    "name": "ipython",
    "version": 3
   },
   "file_extension": ".py",
   "mimetype": "text/x-python",
   "name": "python",
   "nbconvert_exporter": "python",
   "pygments_lexer": "ipython3",
   "version": "3.12.4"
  }
 },
 "nbformat": 4,
 "nbformat_minor": 2
}
