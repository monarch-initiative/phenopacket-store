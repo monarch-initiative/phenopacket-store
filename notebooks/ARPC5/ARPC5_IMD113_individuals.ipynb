{
 "cells": [
  {
   "cell_type": "markdown",
   "id": "b547ba0f-3c34-4859-87e8-6e6261802940",
   "metadata": {},
   "source": [
    "# ARPC5\n",
    "[Immunodeficiency-113 with autoimmunity and autoinflammation (IMD113)](https://omim.org/entry/620565) is caused by homozygous mutation in the ARPC5 gene (604227) on chromosome 1q25."
   ]
  },
  {
   "cell_type": "code",
   "execution_count": 5,
   "id": "c16456a7-37de-4694-905e-d55932da9e4d",
   "metadata": {},
   "outputs": [
    {
     "name": "stdout",
     "output_type": "stream",
     "text": [
      "Using pyphetools version 0.9.72\n"
     ]
    }
   ],
   "source": [
    "from pyphetools.creation import TemplateImporter\n",
    "from pyphetools.visualization import IndividualTable, QcVisualizer\n",
    "from IPython.display import display, HTML\n",
    "import pyphetools\n",
    "print(f\"Using pyphetools version {pyphetools.__version__}\")"
   ]
  },
  {
   "cell_type": "code",
   "execution_count": 8,
   "id": "b5faf817-8338-45fd-a976-be5f4f0d5ab5",
   "metadata": {},
   "outputs": [],
   "source": [
    "template = \"input/ARPC5_IMD113_individuals.xlsx\"\n",
    "hp_json = \"../hp.json\"\n",
    "created_by = \"0000-0002-0736-9199\""
   ]
  },
  {
   "cell_type": "code",
   "execution_count": 9,
   "id": "b2058982-3eac-41dc-8df8-17b50b888354",
   "metadata": {},
   "outputs": [
    {
     "name": "stdout",
     "output_type": "stream",
     "text": [
      "HPO version 2024-03-06\n",
      "Created encoders for 51 fields\n",
      "Importing OMIM:620565, Immunodeficiency 133 with autoimmunity and autoinflammation, HGNC:708, ARPC5,  NM_005717.4\n",
      "[INFO] encoding variant \"c.11_12insTG\"\n",
      "https://rest.variantvalidator.org/VariantValidator/variantvalidator/hg38/NM_005717.4%3Ac.11_12insTG/NM_005717.4?content-type=application%2Fjson\n",
      "[INFO] encoding variant \"c.23C>A\"\n",
      "https://rest.variantvalidator.org/VariantValidator/variantvalidator/hg38/NM_005717.4%3Ac.23C>A/NM_005717.4?content-type=application%2Fjson\n",
      "We output 2 GA4GH phenopackets to the directory phenopackets\n"
     ]
    }
   ],
   "source": [
    "timporter = TemplateImporter(template=template, hp_json=hp_json, created_by=created_by)\n",
    "individual_list, cvalidator = timporter.import_phenopackets_from_template()"
   ]
  },
  {
   "cell_type": "code",
   "execution_count": 10,
   "id": "a8690e21-e2f0-4dc8-944a-fa9ded2da3c1",
   "metadata": {},
   "outputs": [
    {
     "data": {
      "text/html": [
       "<h2>Cohort validation</h2>\n",
       "<p>Errors found with 2 of 2 phenopackets.</p>\n",
       "<table style=\"border: 2px solid black; align: \"left\">\n",
       "<caption>Error counts</caption>\n",
       "<tr><th style=\"text-align: left;font-weight: bold;\">Level</th><th style=\"text-align: left;font-weight: bold;\">Error category</th><th style=\"text-align: left;font-weight: bold;\">Count</th></tr>\n",
       "<tr><td style=\"text-align: left;\">WARNING</td><td style=\"text-align: left;\">REDUNDANT</td><td style=\"text-align: left;\">4</td></tr>\n",
       "</table>\n",
       "<p>A total of 4 issues were fixed and no individual was removed from the cohort.</p>"
      ],
      "text/plain": [
       "<IPython.core.display.HTML object>"
      ]
     },
     "metadata": {},
     "output_type": "display_data"
    }
   ],
   "source": [
    "qc = QcVisualizer(cohort_validator=cvalidator)\n",
    "display(HTML(qc.to_summary_html()))"
   ]
  },
  {
   "cell_type": "code",
   "execution_count": 11,
   "id": "fd89f771-1ab5-4fb3-bf1a-159b592282f8",
   "metadata": {},
   "outputs": [
    {
     "data": {
      "text/html": [
       "<table style=\"border: 2px solid black; align: \"left\">\n",
       "<caption>2 phenopackets - PMID:37349293 (n=2)</caption>\n",
       "<tr><th style=\"text-align: left;font-weight: bold;\">Individual</th><th style=\"text-align: left;font-weight: bold;\">Disease</th><th style=\"text-align: left;font-weight: bold;\">Genotype</th><th style=\"text-align: left;font-weight: bold;\">Phenotypic features</th></tr>\n",
       "<tr><td style=\"text-align: left;\">Patient 1 (FEMALE; P15Y)</td><td style=\"text-align: left;\">Immunodeficiency 133 with autoimmunity and autoinflammation (OMIM:620565)</td><td style=\"text-align: left;\">NM_005717.4:c.23C>A (homozygous)</td><td style=\"text-align: left;\">Recurrent bacterial infections (HP:0002718); Recurrent viral infections (HP:0004429); Recurrent fungal infections (HP:0002841); Immunodeficiency (HP:0002721); Celiac disease (HP:0002608); Hepatitis (HP:0012115); Myositis (HP:0100614); Minimal change glomerulonephritis (HP:0012579); Autoimmune thrombocytopenia (HP:0001973); Monocytosis (HP:0012311); Neutrophilia (HP:0011897); Autoimmune hemolytic anemia (HP:0001890); Leukocytosis (HP:0001974); Splenomegaly (HP:0001744); Hepatomegaly (HP:0002240); Hematochezia (HP:0002573); Paralytic ileus (HP:0002590); Intraalveolar phospholipid accumulation (HP:0006517); Recurrent respiratory infections (HP:0002205); Hemoptysis (HP:0002105); Poor wound healing (HP:0001058); Eczematoid dermatitis (HP:0000964); Scoliosis (HP:0002650); Short stature (HP:0004322); Intrauterine growth retardation (HP:0001511); Elevated circulating C-reactive protein concentration (HP:0011227); Pulmonary pneumatocele (HP:0025419); Increased circulating IgA level (HP:0003261); excluded: Spasticity (HP:0001257); excluded: Global developmental delay (HP:0001263); excluded: Increased circulating IgE level (HP:0003212); excluded: Neonatal omphalitis (HP:0032435)</td></tr>\n",
       "<tr><td style=\"text-align: left;\">Patient 2 (FEMALE; P1Y)</td><td style=\"text-align: left;\">Immunodeficiency 133 with autoimmunity and autoinflammation (OMIM:620565)</td><td style=\"text-align: left;\">NM_005717.4:c.11_12insTG (homozygous)</td><td style=\"text-align: left;\">Neonatal omphalitis (HP:0032435); Recurrent bacterial infections (HP:0002718); Immunodeficiency (HP:0002721); Spasticity (HP:0001257); Global developmental delay (HP:0001263); Monocytosis (HP:0012311); Neutrophilia (HP:0011897); Leukocytosis (HP:0001974); Splenomegaly (HP:0001744); Hepatomegaly (HP:0002240); Hematochezia (HP:0002573); Recurrent respiratory infections (HP:0002205); Poor wound healing (HP:0001058); Scoliosis (HP:0002650); Elevated circulating C-reactive protein concentration (HP:0011227); Pulmonary pneumatocele (HP:0025419); Increased circulating IgA level (HP:0003261); Increased circulating IgE level (HP:0003212); excluded: Recurrent viral infections (HP:0004429); excluded: Recurrent fungal infections (HP:0002841); excluded: Celiac disease (HP:0002608); excluded: Hepatitis (HP:0012115); excluded: Myositis (HP:0100614); excluded: Minimal change glomerulonephritis (HP:0012579); excluded: Autoimmune thrombocytopenia (HP:0001973); excluded: Autoimmune hemolytic anemia (HP:0001890); excluded: Paralytic ileus (HP:0002590); excluded: Intraalveolar phospholipid accumulation (HP:0006517); excluded: Hemoptysis (HP:0002105); excluded: Eczematoid dermatitis (HP:0000964); excluded: Short stature (HP:0004322); excluded: Intrauterine growth retardation (HP:0001511)</td></tr>\n",
       "</table>"
      ],
      "text/plain": [
       "<IPython.core.display.HTML object>"
      ]
     },
     "metadata": {},
     "output_type": "display_data"
    }
   ],
   "source": [
    "table = IndividualTable(cvalidator.get_error_free_individual_list())\n",
    "display(HTML(table.to_html()))"
   ]
  },
  {
   "cell_type": "code",
   "execution_count": 12,
   "id": "9f6e349b-6394-4761-8fa5-fbae46f0e9a8",
   "metadata": {},
   "outputs": [
    {
     "name": "stdout",
     "output_type": "stream",
     "text": [
      "[pyphetools] Ingested 2 GA4GH phenopackets.\n",
      "\tImmunodeficiency 133 with autoimmunity and autoinflammation (OMIM:620565): n=2\n",
      "We found a total of 32 unique HPO terms\n",
      "Extracted disease: Immunodeficiency 133 with autoimmunity and autoinflammation (OMIM:620565)\n",
      "Wrote HPOA disease file to OMIM-620565.tab\n"
     ]
    }
   ],
   "source": [
    "pmid = \"PMID:37349293\"\n",
    "df = timporter.create_hpoa_from_phenopackets(pmid=pmid, moi=\"Autosomal recessive\")"
   ]
  },
  {
   "cell_type": "code",
   "execution_count": null,
   "id": "5c25f1c1-fdac-4d0f-8a8a-521554899100",
   "metadata": {},
   "outputs": [],
   "source": []
  }
 ],
 "metadata": {
  "kernelspec": {
   "display_name": "Python 3 (ipykernel)",
   "language": "python",
   "name": "python3"
  },
  "language_info": {
   "codemirror_mode": {
    "name": "ipython",
    "version": 3
   },
   "file_extension": ".py",
   "mimetype": "text/x-python",
   "name": "python",
   "nbconvert_exporter": "python",
   "pygments_lexer": "ipython3",
   "version": "3.8.10"
  }
 },
 "nbformat": 4,
 "nbformat_minor": 5
}
