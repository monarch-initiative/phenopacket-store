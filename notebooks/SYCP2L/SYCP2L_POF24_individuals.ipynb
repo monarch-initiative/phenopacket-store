{
 "cells": [
  {
   "cell_type": "markdown",
   "metadata": {},
   "source": [
    "# SYCP2L\n",
    "[premature ovarian failure-24 (POF24)]() is caused by homozygous mutation in the SYCP2L gene."
   ]
  },
  {
   "cell_type": "code",
   "execution_count": 3,
   "metadata": {},
   "outputs": [
    {
     "name": "stdout",
     "output_type": "stream",
     "text": [
      "Using pyphetools version 0.9.92\n"
     ]
    }
   ],
   "source": [
    "from pyphetools.creation import TemplateImporter\n",
    "from pyphetools.visualization import IndividualTable, QcVisualizer\n",
    "from IPython.display import display, HTML\n",
    "import pyphetools\n",
    "print(f\"Using pyphetools version {pyphetools.__version__}\")"
   ]
  },
  {
   "cell_type": "code",
   "execution_count": 4,
   "metadata": {},
   "outputs": [],
   "source": [
    "template = \"input/SYCP2L_POF24_individuals.xlsx\"\n",
    "created_by = \"0000-0002-0736-9199\""
   ]
  },
  {
   "cell_type": "code",
   "execution_count": 6,
   "metadata": {},
   "outputs": [
    {
     "name": "stdout",
     "output_type": "stream",
     "text": [
      "HPO version 2024-06-25\n",
      "Created encoders for 25 fields\n",
      "Importing OMIM:620840, Premature ovarian failure 24, HGNC:21537, SYCP2L,  NM_001040274.3\n",
      "[INFO] encoding variant \"c.150_151del\"\n",
      "https://rest.variantvalidator.org/VariantValidator/variantvalidator/hg38/NM_001040274.3%3Ac.150_151del/NM_001040274.3?content-type=application%2Fjson\n",
      "[INFO] encoding variant \"c.999A>G\"\n",
      "https://rest.variantvalidator.org/VariantValidator/variantvalidator/hg38/NM_001040274.3%3Ac.999A>G/NM_001040274.3?content-type=application%2Fjson\n",
      "We output 2 GA4GH phenopackets to the directory phenopackets\n"
     ]
    }
   ],
   "source": [
    "timporter = TemplateImporter(template=template,  created_by=created_by)\n",
    "individual_list, cvalidator = timporter.import_phenopackets_from_template()"
   ]
  },
  {
   "cell_type": "code",
   "execution_count": 7,
   "metadata": {},
   "outputs": [
    {
     "data": {
      "text/html": [
       "<h2>Cohort validation</h2>\n",
       "<p>No errors found for the cohort with 2 individuals</p>"
      ],
      "text/plain": [
       "<IPython.core.display.HTML object>"
      ]
     },
     "metadata": {},
     "output_type": "display_data"
    }
   ],
   "source": [
    "qc = QcVisualizer(cohort_validator=cvalidator)\n",
    "display(HTML(qc.to_summary_html()))"
   ]
  },
  {
   "cell_type": "code",
   "execution_count": 8,
   "metadata": {},
   "outputs": [
    {
     "data": {
      "text/html": [
       "<table style=\"border: 2px solid black; align: \"left\">\n",
       "<caption>2 phenopackets - PMID:32303603 (n=2)</caption>\n",
       "<tr><th style=\"text-align: left;font-weight: bold;\">Individual</th><th style=\"text-align: left;font-weight: bold;\">Disease</th><th style=\"text-align: left;font-weight: bold;\">Genotype</th><th style=\"text-align: left;font-weight: bold;\">Phenotypic features</th></tr>\n",
       "<tr><td style=\"text-align: left;\">family P0001 IV-2 (FEMALE; P31Y)</td><td style=\"text-align: left;\">Premature ovarian failure 24 (OMIM:620840)</td><td style=\"text-align: left;\">NM_001040274.3:c.154_155del (homozygous)</td><td style=\"text-align: left;\"><b>P28Y</b>: Female infertility (HP:0008222)<br/><b>P30Y</b>: Secondary amenorrhea (HP:0000869)<br/><b>P31Y</b>: Elevated circulating follicle stimulating hormone level (HP:0008232); Elevated circulating luteinizing hormone level (HP:0011969); Decreased cirrculating antimullerian hormone circulation (HP:0031103); Decreased serum estradiol (HP:0008214); Reduced antral follicle count (HP:0033085)<br/>excluded: Oligomenorrhea (HP:0000876)</td></tr>\n",
       "<tr><td style=\"text-align: left;\">family P0005 IV-2 (FEMALE; P31Y)</td><td style=\"text-align: left;\">Premature ovarian failure 24 (OMIM:620840)</td><td style=\"text-align: left;\">NM_001040274.3:c.999A>G (homozygous)</td><td style=\"text-align: left;\"><b>P26Y</b>: Oligomenorrhea (HP:0000876)<br/><b>P31Y</b>: Elevated circulating follicle stimulating hormone level (HP:0008232); Decreased cirrculating antimullerian hormone circulation (HP:0031103)<br/>Female infertility (HP:0008222); excluded: Secondary amenorrhea (HP:0000869); excluded: Elevated circulating luteinizing hormone level (HP:0011969); excluded: Decreased serum estradiol (HP:0008214); excluded: Reduced antral follicle count (HP:0033085)</td></tr>\n",
       "</table>"
      ],
      "text/plain": [
       "<IPython.core.display.HTML object>"
      ]
     },
     "metadata": {},
     "output_type": "display_data"
    }
   ],
   "source": [
    "table = IndividualTable(cvalidator.get_error_free_individual_list())\n",
    "display(HTML(table.to_html()))"
   ]
  },
  {
   "cell_type": "code",
   "execution_count": 9,
   "metadata": {},
   "outputs": [
    {
     "name": "stdout",
     "output_type": "stream",
     "text": [
      "[pyphetools] Ingested 2 GA4GH phenopackets.\n",
      "[INFO] Extracted 2 from 2 phenopackets with OMIM:620840\n",
      "\n",
      "\tPremature ovarian failure 24 (OMIM:620840): n=2\n",
      "We found a total of 8 unique HPO terms\n",
      "Extracted disease: Premature ovarian failure 24 (OMIM:620840)\n",
      "Wrote HPOA disease file to OMIM-620840.tab\n"
     ]
    }
   ],
   "source": [
    "pmid = \"PMID:32303603\"\n",
    "df = timporter.create_hpoa_from_phenopackets(pmid=pmid, moi=\"Autosomal recessive\", target=\"OMIM:620840\")"
   ]
  },
  {
   "cell_type": "code",
   "execution_count": null,
   "metadata": {},
   "outputs": [],
   "source": []
  }
 ],
 "metadata": {
  "kernelspec": {
   "display_name": "ps24venv",
   "language": "python",
   "name": "python3"
  },
  "language_info": {
   "codemirror_mode": {
    "name": "ipython",
    "version": 3
   },
   "file_extension": ".py",
   "mimetype": "text/x-python",
   "name": "python",
   "nbconvert_exporter": "python",
   "pygments_lexer": "ipython3",
   "version": "3.9.6"
  }
 },
 "nbformat": 4,
 "nbformat_minor": 2
}
