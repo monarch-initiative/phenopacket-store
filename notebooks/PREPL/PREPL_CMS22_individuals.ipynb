{
 "cells": [
  {
   "cell_type": "markdown",
   "metadata": {},
   "source": [
    "# PREPL\n",
    "[congenital myasthenic syndrome-22 (CMS22)](https://omim.org/entry/616224) is caused by homozygous or compound heterozygous mutation in the PREPL gene."
   ]
  },
  {
   "cell_type": "code",
   "execution_count": 1,
   "metadata": {},
   "outputs": [
    {
     "name": "stdout",
     "output_type": "stream",
     "text": [
      "Using pyphetools version 0.9.91\n"
     ]
    },
    {
     "name": "stderr",
     "output_type": "stream",
     "text": [
      "/Users/robin/GIT/phenopacket-store/ps24venv/lib/python3.9/site-packages/urllib3/__init__.py:35: NotOpenSSLWarning: urllib3 v2 only supports OpenSSL 1.1.1+, currently the 'ssl' module is compiled with 'LibreSSL 2.8.3'. See: https://github.com/urllib3/urllib3/issues/3020\n",
      "  warnings.warn(\n"
     ]
    }
   ],
   "source": [
    "from pyphetools.creation import TemplateImporter\n",
    "from pyphetools.visualization import IndividualTable, QcVisualizer\n",
    "from IPython.display import display, HTML\n",
    "import pyphetools\n",
    "print(f\"Using pyphetools version {pyphetools.__version__}\")"
   ]
  },
  {
   "cell_type": "code",
   "execution_count": 2,
   "metadata": {},
   "outputs": [],
   "source": [
    "template = \"input/PREPL_CMS22_individuals.xlsx\"\n",
    "created_by = \"0000-0002-0736-9199\""
   ]
  },
  {
   "cell_type": "code",
   "execution_count": 3,
   "metadata": {},
   "outputs": [
    {
     "name": "stdout",
     "output_type": "stream",
     "text": [
      "HPO version 2024-04-26\n",
      "Created encoders for 43 fields\n",
      "Could not parse contents of HPO column Limb muscle weakness: ‚ because of Could not parse HPO column cell_contents: \\”Could not parse \"‚\" as age.\"\n"
     ]
    },
    {
     "ename": "ValueError",
     "evalue": "Could not parse contents of HPO column Limb muscle weakness: ‚ because of Could not parse HPO column cell_contents: \\”Could not parse \"‚\" as age.\"",
     "output_type": "error",
     "traceback": [
      "\u001b[0;31m---------------------------------------------------------------------------\u001b[0m",
      "\u001b[0;31mValueError\u001b[0m                                Traceback (most recent call last)",
      "File \u001b[0;32m~/GIT/phenopacket-store/ps24venv/lib/python3.9/site-packages/pyphetools/creation/case_template_encoder.py:129\u001b[0m, in \u001b[0;36mHpoEncoder.encode\u001b[0;34m(self, cell_contents)\u001b[0m\n\u001b[1;32m    128\u001b[0m \u001b[38;5;28;01mtry\u001b[39;00m:\n\u001b[0;32m--> 129\u001b[0m     onset \u001b[38;5;241m=\u001b[39m \u001b[43mPyPheToolsAge\u001b[49m\u001b[38;5;241;43m.\u001b[39;49m\u001b[43mget_age\u001b[49m\u001b[43m(\u001b[49m\u001b[43mcell_contents\u001b[49m\u001b[43m)\u001b[49m\n\u001b[1;32m    130\u001b[0m     \u001b[38;5;28;01mif\u001b[39;00m onset\u001b[38;5;241m.\u001b[39mis_valid(): \u001b[38;5;66;03m# valid OSO8601 age of onset\u001b[39;00m\n",
      "File \u001b[0;32m~/GIT/phenopacket-store/ps24venv/lib/python3.9/site-packages/pyphetools/creation/pyphetools_age.py:115\u001b[0m, in \u001b[0;36mPyPheToolsAge.get_age\u001b[0;34m(age_string)\u001b[0m\n\u001b[1;32m    114\u001b[0m \u001b[38;5;28;01mif\u001b[39;00m age_string \u001b[38;5;241m!=\u001b[39m \u001b[38;5;124m'\u001b[39m\u001b[38;5;124mna\u001b[39m\u001b[38;5;124m'\u001b[39m:\n\u001b[0;32m--> 115\u001b[0m     \u001b[38;5;28;01mraise\u001b[39;00m \u001b[38;5;167;01mValueError\u001b[39;00m(\u001b[38;5;124mf\u001b[39m\u001b[38;5;124m\"\u001b[39m\u001b[38;5;124mCould not parse \u001b[39m\u001b[38;5;130;01m\\\"\u001b[39;00m\u001b[38;5;132;01m{\u001b[39;00mage_string\u001b[38;5;132;01m}\u001b[39;00m\u001b[38;5;130;01m\\\"\u001b[39;00m\u001b[38;5;124m as age.\u001b[39m\u001b[38;5;124m\"\u001b[39m)\n\u001b[1;32m    116\u001b[0m \u001b[38;5;28;01mreturn\u001b[39;00m NoneAge(age_string\u001b[38;5;241m=\u001b[39mage_string)\n",
      "\u001b[0;31mValueError\u001b[0m: Could not parse \"‚\" as age.",
      "\nDuring handling of the above exception, another exception occurred:\n",
      "\u001b[0;31mValueError\u001b[0m                                Traceback (most recent call last)",
      "File \u001b[0;32m~/GIT/phenopacket-store/ps24venv/lib/python3.9/site-packages/pyphetools/creation/case_template_encoder.py:358\u001b[0m, in \u001b[0;36mCaseTemplateEncoder._parse_individual\u001b[0;34m(self, row)\u001b[0m\n\u001b[1;32m    357\u001b[0m \u001b[38;5;28;01mtry\u001b[39;00m:\n\u001b[0;32m--> 358\u001b[0m     hpoterm \u001b[38;5;241m=\u001b[39m \u001b[43mencoder\u001b[49m\u001b[38;5;241;43m.\u001b[39;49m\u001b[43mencode\u001b[49m\u001b[43m(\u001b[49m\u001b[43mcell_contents\u001b[49m\u001b[43m)\u001b[49m\n\u001b[1;32m    359\u001b[0m     \u001b[38;5;28;01mif\u001b[39;00m hpoterm \u001b[38;5;129;01mis\u001b[39;00m \u001b[38;5;129;01mnot\u001b[39;00m \u001b[38;5;28;01mNone\u001b[39;00m:\n",
      "File \u001b[0;32m~/GIT/phenopacket-store/ps24venv/lib/python3.9/site-packages/pyphetools/creation/case_template_encoder.py:133\u001b[0m, in \u001b[0;36mHpoEncoder.encode\u001b[0;34m(self, cell_contents)\u001b[0m\n\u001b[1;32m    132\u001b[0m     \u001b[38;5;28;01mexcept\u001b[39;00m \u001b[38;5;167;01mException\u001b[39;00m \u001b[38;5;28;01mas\u001b[39;00m parse_error:\n\u001b[0;32m--> 133\u001b[0m         \u001b[38;5;28;01mraise\u001b[39;00m \u001b[38;5;167;01mValueError\u001b[39;00m(\u001b[38;5;124mf\u001b[39m\u001b[38;5;124m\"\u001b[39m\u001b[38;5;124mCould not parse HPO column cell_contents: \u001b[39m\u001b[38;5;124m\\\u001b[39m\u001b[38;5;124m”\u001b[39m\u001b[38;5;132;01m{\u001b[39;00m\u001b[38;5;28mstr\u001b[39m(parse_error)\u001b[38;5;132;01m}\u001b[39;00m\u001b[38;5;130;01m\\\"\u001b[39;00m\u001b[38;5;124m\"\u001b[39m)\n\u001b[1;32m    134\u001b[0m     \u001b[38;5;66;03m# if we cannot parse successfully, there is probably an error in the format. Drop down to end of function to warn user\u001b[39;00m\n\u001b[1;32m    135\u001b[0m \u001b[38;5;28;01melse\u001b[39;00m:\n",
      "\u001b[0;31mValueError\u001b[0m: Could not parse HPO column cell_contents: \\”Could not parse \"‚\" as age.\"",
      "\nDuring handling of the above exception, another exception occurred:\n",
      "\u001b[0;31mValueError\u001b[0m                                Traceback (most recent call last)",
      "Cell \u001b[0;32mIn[3], line 2\u001b[0m\n\u001b[1;32m      1\u001b[0m timporter \u001b[38;5;241m=\u001b[39m TemplateImporter(template\u001b[38;5;241m=\u001b[39mtemplate,  created_by\u001b[38;5;241m=\u001b[39mcreated_by)\n\u001b[0;32m----> 2\u001b[0m individual_list, cvalidator \u001b[38;5;241m=\u001b[39m \u001b[43mtimporter\u001b[49m\u001b[38;5;241;43m.\u001b[39;49m\u001b[43mimport_phenopackets_from_template\u001b[49m\u001b[43m(\u001b[49m\u001b[43m)\u001b[49m\n",
      "File \u001b[0;32m~/GIT/phenopacket-store/ps24venv/lib/python3.9/site-packages/pyphetools/creation/import_template.py:156\u001b[0m, in \u001b[0;36mTemplateImporter.import_phenopackets_from_template\u001b[0;34m(self, deletions, duplications, inversions, translocations, hemizygous, leniant_MOI)\u001b[0m\n\u001b[1;32m    154\u001b[0m \u001b[38;5;28mprint\u001b[39m(\u001b[38;5;124mf\u001b[39m\u001b[38;5;124m\"\u001b[39m\u001b[38;5;124mHPO version \u001b[39m\u001b[38;5;132;01m{\u001b[39;00mhpo_ontology\u001b[38;5;241m.\u001b[39mversion\u001b[38;5;132;01m}\u001b[39;00m\u001b[38;5;124m\"\u001b[39m)\n\u001b[1;32m    155\u001b[0m df \u001b[38;5;241m=\u001b[39m pd\u001b[38;5;241m.\u001b[39mread_excel(\u001b[38;5;28mself\u001b[39m\u001b[38;5;241m.\u001b[39m_template)\n\u001b[0;32m--> 156\u001b[0m encoder \u001b[38;5;241m=\u001b[39m \u001b[43mCaseTemplateEncoder\u001b[49m\u001b[43m(\u001b[49m\u001b[43mdf\u001b[49m\u001b[38;5;241;43m=\u001b[39;49m\u001b[43mdf\u001b[49m\u001b[43m,\u001b[49m\u001b[43m \u001b[49m\u001b[43mhpo_cr\u001b[49m\u001b[38;5;241;43m=\u001b[39;49m\u001b[43mhpo_cr\u001b[49m\u001b[43m,\u001b[49m\u001b[43m \u001b[49m\u001b[43mcreated_by\u001b[49m\u001b[38;5;241;43m=\u001b[39;49m\u001b[38;5;28;43mself\u001b[39;49m\u001b[38;5;241;43m.\u001b[39;49m\u001b[43m_created_by\u001b[49m\u001b[43m,\u001b[49m\u001b[43m \u001b[49m\u001b[43mhpo_ontology\u001b[49m\u001b[38;5;241;43m=\u001b[39;49m\u001b[43mhpo_ontology\u001b[49m\u001b[43m)\u001b[49m\n\u001b[1;32m    157\u001b[0m individuals \u001b[38;5;241m=\u001b[39m encoder\u001b[38;5;241m.\u001b[39mget_individuals()\n\u001b[1;32m    158\u001b[0m disease_id, disease_label, HGNC_id, gene_symbol, transcript \u001b[38;5;241m=\u001b[39m TemplateImporter\u001b[38;5;241m.\u001b[39m_get_data_from_template(df)\n",
      "File \u001b[0;32m~/GIT/phenopacket-store/ps24venv/lib/python3.9/site-packages/pyphetools/creation/case_template_encoder.py:252\u001b[0m, in \u001b[0;36mCaseTemplateEncoder.__init__\u001b[0;34m(self, df, hpo_cr, created_by, hpo_ontology)\u001b[0m\n\u001b[1;32m    250\u001b[0m \u001b[38;5;28mself\u001b[39m\u001b[38;5;241m.\u001b[39m_allele2_d \u001b[38;5;241m=\u001b[39m {}\n\u001b[1;32m    251\u001b[0m \u001b[38;5;28;01mfor\u001b[39;00m _, row \u001b[38;5;129;01min\u001b[39;00m data_df\u001b[38;5;241m.\u001b[39miterrows():\n\u001b[0;32m--> 252\u001b[0m     individual \u001b[38;5;241m=\u001b[39m \u001b[38;5;28;43mself\u001b[39;49m\u001b[38;5;241;43m.\u001b[39;49m\u001b[43m_parse_individual\u001b[49m\u001b[43m(\u001b[49m\u001b[43mrow\u001b[49m\u001b[43m)\u001b[49m\n\u001b[1;32m    253\u001b[0m     \u001b[38;5;28mself\u001b[39m\u001b[38;5;241m.\u001b[39m_individuals\u001b[38;5;241m.\u001b[39mappend(individual)\n\u001b[1;32m    254\u001b[0m     \u001b[38;5;28mself\u001b[39m\u001b[38;5;241m.\u001b[39m_allele1_d[individual\u001b[38;5;241m.\u001b[39mid] \u001b[38;5;241m=\u001b[39m row[\u001b[38;5;124m\"\u001b[39m\u001b[38;5;124mallele_1\u001b[39m\u001b[38;5;124m\"\u001b[39m]\n",
      "File \u001b[0;32m~/GIT/phenopacket-store/ps24venv/lib/python3.9/site-packages/pyphetools/creation/case_template_encoder.py:364\u001b[0m, in \u001b[0;36mCaseTemplateEncoder._parse_individual\u001b[0;34m(self, row)\u001b[0m\n\u001b[1;32m    362\u001b[0m         errr \u001b[38;5;241m=\u001b[39m \u001b[38;5;124mf\u001b[39m\u001b[38;5;124m\"\u001b[39m\u001b[38;5;124mCould not parse contents of HPO column \u001b[39m\u001b[38;5;132;01m{\u001b[39;00mencoder\u001b[38;5;241m.\u001b[39mname\u001b[38;5;132;01m}\u001b[39;00m\u001b[38;5;124m: \u001b[39m\u001b[38;5;132;01m{\u001b[39;00mcell_contents\u001b[38;5;132;01m}\u001b[39;00m\u001b[38;5;124m because of \u001b[39m\u001b[38;5;132;01m{\u001b[39;00m\u001b[38;5;28mstr\u001b[39m(hpo_parse_exception)\u001b[38;5;132;01m}\u001b[39;00m\u001b[38;5;124m\"\u001b[39m\n\u001b[1;32m    363\u001b[0m         \u001b[38;5;28mprint\u001b[39m(errr)\n\u001b[0;32m--> 364\u001b[0m         \u001b[38;5;28;01mraise\u001b[39;00m \u001b[38;5;167;01mValueError\u001b[39;00m(errr)\n\u001b[1;32m    365\u001b[0m \u001b[38;5;28;01melif\u001b[39;00m encoder_type \u001b[38;5;241m==\u001b[39m CellType\u001b[38;5;241m.\u001b[39mMISC:\n\u001b[1;32m    366\u001b[0m     term_list \u001b[38;5;241m=\u001b[39m encoder\u001b[38;5;241m.\u001b[39mencode(cell_contents\u001b[38;5;241m=\u001b[39mcell_contents)\n",
      "\u001b[0;31mValueError\u001b[0m: Could not parse contents of HPO column Limb muscle weakness: ‚ because of Could not parse HPO column cell_contents: \\”Could not parse \"‚\" as age.\""
     ]
    }
   ],
   "source": [
    "timporter = TemplateImporter(template=template,  created_by=created_by)\n",
    "individual_list, cvalidator = timporter.import_phenopackets_from_template()"
   ]
  },
  {
   "cell_type": "code",
   "execution_count": null,
   "metadata": {},
   "outputs": [
    {
     "data": {
      "text/html": [
       "<h2>Cohort validation</h2>\n",
       "<p>No errors found for the cohort with 1 individuals</p>"
      ],
      "text/plain": [
       "<IPython.core.display.HTML object>"
      ]
     },
     "metadata": {},
     "output_type": "display_data"
    }
   ],
   "source": [
    "qc = QcVisualizer(cohort_validator=cvalidator)\n",
    "display(HTML(qc.to_summary_html()))"
   ]
  },
  {
   "cell_type": "code",
   "execution_count": null,
   "metadata": {},
   "outputs": [
    {
     "data": {
      "text/html": [
       "<table style=\"border: 2px solid black; align: \"left\">\n",
       "<caption>1 phenopacket - PMID:29483676 (n=1)</caption>\n",
       "<tr><th style=\"text-align: left;font-weight: bold;\">Individual</th><th style=\"text-align: left;font-weight: bold;\">Disease</th><th style=\"text-align: left;font-weight: bold;\">Genotype</th><th style=\"text-align: left;font-weight: bold;\">Phenotypic features</th></tr>\n",
       "<tr><td style=\"text-align: left;\">proband (FEMALE; P10Y)</td><td style=\"text-align: left;\">Myasthenic syndrome, congenital, 22 (OMIM:616224)</td><td style=\"text-align: left;\">NM_001171613.2:c.75del (homozygous)</td><td style=\"text-align: left;\"><b>P10M</b>: Limb muscle weakness (HP:0003690); Nystagmus (HP:0000639)<br/><b>P1Y</b>: Hypernasal speech (HP:0001611)<br/><b>P4Y</b>: Gowers sign (HP:0003391); Polyphagia (HP:0002591); Open mouth (HP:0000194); Tented upper lip vermilion (HP:0010804); Weakness of facial musculature (HP:0030319)<br/><b>P7Y</b>: Intellectual disability (HP:0001249)<br/><b>P10Y</b>: Generalized muscle weakness (HP:0003324); Scoliosis (HP:0002650)<br/>Ptosis (HP:0000508); Dolichocephaly (HP:0000268); Protruding ear (HP:0000411); Long palpebral fissure (HP:0000637); High palate (HP:0000218); Hypotonia (HP:0001252); Feeding difficulties (HP:0011968); Failure to thrive (HP:0001508); Motor delay (HP:0001270); Global developmental delay (HP:0001263)</td></tr>\n",
       "</table>"
      ],
      "text/plain": [
       "<IPython.core.display.HTML object>"
      ]
     },
     "metadata": {},
     "output_type": "display_data"
    }
   ],
   "source": [
    "table = IndividualTable(cvalidator.get_error_free_individual_list())\n",
    "display(HTML(table.to_html()))"
   ]
  }
 ],
 "metadata": {
  "kernelspec": {
   "display_name": "ps24venv",
   "language": "python",
   "name": "python3"
  },
  "language_info": {
   "codemirror_mode": {
    "name": "ipython",
    "version": 3
   },
   "file_extension": ".py",
   "mimetype": "text/x-python",
   "name": "python",
   "nbconvert_exporter": "python",
   "pygments_lexer": "ipython3",
   "version": "3.9.6"
  }
 },
 "nbformat": 4,
 "nbformat_minor": 2
}
