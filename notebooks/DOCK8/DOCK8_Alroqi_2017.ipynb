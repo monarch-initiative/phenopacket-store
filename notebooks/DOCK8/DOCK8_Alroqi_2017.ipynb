{
 "cells": [
  {
   "cell_type": "markdown",
   "id": "8a0f223f-995b-4b35-b11b-3cc1acecce75",
   "metadata": {},
   "source": [
    "# DOCK8\n",
    "\n",
    "Data taken from [Alroqi FJ, et al. (2017) DOCK8 Deficiency Presenting as an IPEX-Like Disorder. J Clin Immunol. 2017 Nov;37(8):811-819. doi: 10.1007/s10875-017-0451-1. Epub 2017 Oct 23. PMID:29058101](https://pubmed.ncbi.nlm.nih.gov/29058101/). The authors present patients with loss of function DOCK8 mutations with profound immune dysregulation suggestive of an Immune dysregulation, polyendocrinopathy, enteropathy, X-linked (IPEX)-like disorder.\n",
    "\n",
    "Note that did not inlude individuals P3 and P4 because the variant indicated in the original publication, c.2402-1G>A, is incorrect - it dos not correspond to the intron/exon boundary of DOCK8 (NM_203447.4).\n"
   ]
  },
  {
   "cell_type": "code",
   "execution_count": 15,
   "id": "adcfe74f-ddd3-4690-a3d4-a4d493b34cb6",
   "metadata": {},
   "outputs": [],
   "source": [
    "from pyphetools.creation import TemplateImporter"
   ]
  },
  {
   "cell_type": "code",
   "execution_count": 16,
   "id": "ed923731-0334-4835-a7aa-b32622934129",
   "metadata": {},
   "outputs": [],
   "source": [
    "hpo_json_file=\"../hp.json\"\n",
    "created_by=\"ORCID:0000-0002-0736-9199\"\n",
    "template = \"input/DOCK8_individuals.xlsx\"\n",
    "timporter = TemplateImporter(template=template, hp_json=hpo_json_file, created_by=created_by)"
   ]
  },
  {
   "cell_type": "code",
   "execution_count": 17,
   "id": "2df6eed3-0d59-4291-9eca-2b9ac1e2722a",
   "metadata": {},
   "outputs": [
    {
     "name": "stdout",
     "output_type": "stream",
     "text": [
      "HPO version 2024-02-27\n",
      "Created encoders for 32 fields\n",
      " we got OMIM:243700  NM_203447.4\n",
      "We output 2 GA4GH phenopackets to the directory phenopackets\n"
     ]
    }
   ],
   "source": [
    "PMID = \"PMID:29058101\"\n",
    "individuals, cvalidator = timporter.import_phenopackets_from_template()"
   ]
  },
  {
   "cell_type": "code",
   "execution_count": 18,
   "id": "601ded1b-b07a-463a-9c21-7b426103951c",
   "metadata": {},
   "outputs": [
    {
     "data": {
      "text/html": [
       "<h2>Cohort validation</h2>\n",
       "<p>Errors found with 2 of 2 phenopackets.</p>\n",
       "<table style=\"border: 2px solid black; align: \"left\">\n",
       "<caption>Error counts</caption>\n",
       "<tr><th style=\"text-align: left;font-weight: bold;\">Level</th><th style=\"text-align: left;font-weight: bold;\">Error category</th><th style=\"text-align: left;font-weight: bold;\">Count</th></tr>\n",
       "<tr><td style=\"text-align: left;\">WARNING</td><td style=\"text-align: left;\">REDUNDANT</td><td style=\"text-align: left;\">3</td></tr>\n",
       "</table>\n",
       "<p>A total of 3 issues were fixed and no individual was removed from the cohort.</p>"
      ],
      "text/plain": [
       "<IPython.core.display.HTML object>"
      ]
     },
     "metadata": {},
     "output_type": "display_data"
    }
   ],
   "source": [
    "qc = QcVisualizer(cohort_validator=cvalidator)\n",
    "display(HTML(qc.to_summary_html()))"
   ]
  },
  {
   "cell_type": "code",
   "execution_count": null,
   "id": "85429297-f608-4191-bfff-77a851face90",
   "metadata": {},
   "outputs": [],
   "source": []
  }
 ],
 "metadata": {
  "kernelspec": {
   "display_name": "ps24venv",
   "language": "python",
   "name": "ps24venv"
  },
  "language_info": {
   "codemirror_mode": {
    "name": "ipython",
    "version": 3
   },
   "file_extension": ".py",
   "mimetype": "text/x-python",
   "name": "python",
   "nbconvert_exporter": "python",
   "pygments_lexer": "ipython3",
   "version": "3.8.10"
  }
 },
 "nbformat": 4,
 "nbformat_minor": 5
}
