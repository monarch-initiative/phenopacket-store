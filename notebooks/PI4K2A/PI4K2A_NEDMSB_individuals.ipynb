{
 "cells": [
  {
   "cell_type": "markdown",
   "metadata": {},
   "source": [
    "# PI4K2A\n",
    "[neurodevelopmental disorder with hyperkinetic movements, seizures, and structural brain abnormalities (NEDMSB)](https://omim.org/entry/620732) is caused by homozygous mutation in the PI4K2A gene."
   ]
  },
  {
   "cell_type": "code",
   "execution_count": 3,
   "metadata": {},
   "outputs": [
    {
     "name": "stdout",
     "output_type": "stream",
     "text": [
      "Using pyphetools version 0.9.84\n"
     ]
    }
   ],
   "source": [
    "from pyphetools.creation import TemplateImporter\n",
    "from pyphetools.visualization import IndividualTable, QcVisualizer\n",
    "from IPython.display import display, HTML\n",
    "import pyphetools\n",
    "print(f\"Using pyphetools version {pyphetools.__version__}\")"
   ]
  },
  {
   "cell_type": "code",
   "execution_count": 5,
   "metadata": {},
   "outputs": [],
   "source": [
    "template = \"input/PI4K2A_NEDMSB_individuals.xlsx\"\n",
    "created_by = \"0000-0002-0736-9199\""
   ]
  },
  {
   "cell_type": "code",
   "execution_count": 6,
   "metadata": {},
   "outputs": [
    {
     "name": "stdout",
     "output_type": "stream",
     "text": [
      "HPO version 2024-04-26\n",
      "Created encoders for 59 fields\n",
      "Importing OMIM:620732, Neurodevelopmental disorder with hyperkinetic movements, seizures and structural brain abnormalities, HGNC:30031, PI4K2A,  NM_018425.4\n",
      "[INFO] encoding variant \"c.925C>T\"\n",
      "https://rest.variantvalidator.org/VariantValidator/variantvalidator/hg38/NM_018425.4%3Ac.925C>T/NM_018425.4?content-type=application%2Fjson\n",
      "[INFO] encoding variant \"c.65C>A\"\n",
      "https://rest.variantvalidator.org/VariantValidator/variantvalidator/hg38/NM_018425.4%3Ac.65C>A/NM_018425.4?content-type=application%2Fjson\n",
      "We output 4 GA4GH phenopackets to the directory phenopackets\n"
     ]
    }
   ],
   "source": [
    "timporter = TemplateImporter(template=template,  created_by=created_by)\n",
    "individual_list, cvalidator = timporter.import_phenopackets_from_template()"
   ]
  },
  {
   "cell_type": "code",
   "execution_count": 7,
   "metadata": {},
   "outputs": [
    {
     "data": {
      "text/html": [
       "<h2>Cohort validation</h2>\n",
       "<p>Errors found with 4 of 4 phenopackets.</p>\n",
       "<table style=\"border: 2px solid black; align: \"left\">\n",
       "<caption>Error counts</caption>\n",
       "<tr><th style=\"text-align: left;font-weight: bold;\">Level</th><th style=\"text-align: left;font-weight: bold;\">Error category</th><th style=\"text-align: left;font-weight: bold;\">Count</th></tr>\n",
       "<tr><td style=\"text-align: left;\">WARNING</td><td style=\"text-align: left;\">REDUNDANT</td><td style=\"text-align: left;\">4</td></tr>\n",
       "</table>\n",
       "<p>A total of 4 issues were fixed and no individual was removed from the cohort.</p>"
      ],
      "text/plain": [
       "<IPython.core.display.HTML object>"
      ]
     },
     "metadata": {},
     "output_type": "display_data"
    }
   ],
   "source": [
    "qc = QcVisualizer(cohort_validator=cvalidator)\n",
    "display(HTML(qc.to_summary_html()))"
   ]
  },
  {
   "cell_type": "code",
   "execution_count": 8,
   "metadata": {},
   "outputs": [
    {
     "data": {
      "text/html": [
       "<table style=\"border: 2px solid black; align: \"left\">\n",
       "<caption>4 phenopackets - PMID:30564627 (n=2); PMID:35880319 (n=2)</caption>\n",
       "<tr><th style=\"text-align: left;font-weight: bold;\">Individual</th><th style=\"text-align: left;font-weight: bold;\">Disease</th><th style=\"text-align: left;font-weight: bold;\">Genotype</th><th style=\"text-align: left;font-weight: bold;\">Phenotypic features</th></tr>\n",
       "<tr><td style=\"text-align: left;\">Subject II-8 (MALE; P14Y)</td><td style=\"text-align: left;\">Neurodevelopmental disorder with hyperkinetic movements, seizures and structural brain abnormalities (OMIM:620732)</td><td style=\"text-align: left;\">NM_018425.4:c.65C>A (homozygous)</td><td style=\"text-align: left;\"><b>P9Y</b>: Myoclonus (HP:0001336); Generalized-onset seizure (HP:0002197)<br/>Global developmental delay (HP:0001263); Akathisia (HP:0031943); Hypoplasia of the brainstem (HP:0002365); Hypoplasia of the pons (HP:0012110); Hypoplasia of the corpus callosum (HP:0002079); Enlarged cisterna magna (HP:0002280); Irritability (HP:0000737); Arm dystonia (HP:0031960); Opisthotonus (HP:0002179); Pes cavus (HP:0001761); Motor delay (HP:0001270); Inability to walk (HP:0002540); Brisk reflexes (HP:0001348); Orofacial dyskinesia (HP:0002310); Absent speech (HP:0001344); Sensory neuropathy (HP:0000763); Axial hypotonia (HP:0008936); Limb hypertonia (HP:0002509); Heat intolerance (HP:0002046); Sleep onset insomnia (HP:0031354); Feeding difficulties (HP:0011968); Hypotelorism (HP:0000601); Failure to thrive (HP:0001508); Micrognathia (HP:0000347); Protruding ear (HP:0000411); excluded: Hypoplastic anterior commissure (HP:0030303); excluded: Reduced cerebral white matter volume (HP:0034295); excluded: Ventriculomegaly (HP:0002119); excluded: Tonic seizure (HP:0032792); excluded: Myoclonic seizure (HP:0032794); excluded: Epileptic spasm (HP:0011097); excluded: Hypsarrhythmia (HP:0002521); excluded: Skeletal muscle atrophy (HP:0003202); excluded: Recurrent infections (HP:0002719); excluded: Microcephaly (HP:0000252)</td></tr>\n",
       "<tr><td style=\"text-align: left;\">Subject II-9 (MALE; P9Y)</td><td style=\"text-align: left;\">Neurodevelopmental disorder with hyperkinetic movements, seizures and structural brain abnormalities (OMIM:620732)</td><td style=\"text-align: left;\">NM_018425.4:c.65C>A (homozygous)</td><td style=\"text-align: left;\"><b>P9Y</b>: Myoclonus (HP:0001336); Generalized-onset seizure (HP:0002197)<br/>Global developmental delay (HP:0001263); Akathisia (HP:0031943); Irritability (HP:0000737); Arm dystonia (HP:0031960); Opisthotonus (HP:0002179); Pes cavus (HP:0001761); Motor delay (HP:0001270); Inability to walk (HP:0002540); Brisk reflexes (HP:0001348); Orofacial dyskinesia (HP:0002310); Absent speech (HP:0001344); Sensory neuropathy (HP:0000763); Axial hypotonia (HP:0008936); Limb hypertonia (HP:0002509); Heat intolerance (HP:0002046); Sleep onset insomnia (HP:0031354); Feeding difficulties (HP:0011968); Hypotelorism (HP:0000601); Failure to thrive (HP:0001508); Micrognathia (HP:0000347); Protruding ear (HP:0000411); excluded: Tonic seizure (HP:0032792); excluded: Myoclonic seizure (HP:0032794); excluded: Epileptic spasm (HP:0011097); excluded: Hypsarrhythmia (HP:0002521); excluded: Skeletal muscle atrophy (HP:0003202); excluded: Recurrent infections (HP:0002719); excluded: Microcephaly (HP:0000252)</td></tr>\n",
       "<tr><td style=\"text-align: left;\">Family 1 (FEMALE; P3Y10M)</td><td style=\"text-align: left;\">Neurodevelopmental disorder with hyperkinetic movements, seizures and structural brain abnormalities (OMIM:620732)</td><td style=\"text-align: left;\">NM_018425.4:c.925C>T (homozygous)</td><td style=\"text-align: left;\"><b>P1Y4M</b>: Tonic seizure (HP:0032792); Myoclonic seizure (HP:0032794)<br/>Hypoplasia of the corpus callosum (HP:0002079); Global developmental delay (HP:0001263); Motor delay (HP:0001270); Inability to walk (HP:0002540); Akathisia (HP:0031943); Hypoplasia of the brainstem (HP:0002365); Hypoplasia of the pons (HP:0012110); Hypoplastic anterior commissure (HP:0030303); Reduced cerebral white matter volume (HP:0034295); Ventriculomegaly (HP:0002119); Enlarged cisterna magna (HP:0002280); Irritability (HP:0000737); Brisk reflexes (HP:0001348); Orofacial dyskinesia (HP:0002310); Absent speech (HP:0001344); Arm dystonia (HP:0031960); Axial hypotonia (HP:0008936); Skeletal muscle atrophy (HP:0003202); Spasticity (HP:0001257); Recurrent infections (HP:0002719); Failure to thrive (HP:0001508); excluded: Pes cavus (HP:0001761); excluded: Myoclonus (HP:0001336); excluded: Sensory neuropathy (HP:0000763); excluded: Epileptic spasm (HP:0011097); excluded: Hypsarrhythmia (HP:0002521); excluded: Opisthotonus (HP:0002179); excluded: Feeding difficulties (HP:0011968); excluded: Hypotelorism (HP:0000601); excluded: Micrognathia (HP:0000347); excluded: Protruding ear (HP:0000411); excluded: Microcephaly (HP:0000252)</td></tr>\n",
       "<tr><td style=\"text-align: left;\">Family 2 (FEMALE; P2Y)</td><td style=\"text-align: left;\">Neurodevelopmental disorder with hyperkinetic movements, seizures and structural brain abnormalities (OMIM:620732)</td><td style=\"text-align: left;\">NM_018425.4:c.925C>T (homozygous)</td><td style=\"text-align: left;\"><b>P6M</b>: Epileptic spasm (HP:0011097)<br/>Global developmental delay (HP:0001263); Motor delay (HP:0001270); Inability to walk (HP:0002540); Akathisia (HP:0031943); Hypoplasia of the brainstem (HP:0002365); Hypoplasia of the pons (HP:0012110); Hypoplasia of the corpus callosum (HP:0002079); Reduced cerebral white matter volume (HP:0034295); Enlarged cisterna magna (HP:0002280); Irritability (HP:0000737); Brisk reflexes (HP:0001348); Orofacial dyskinesia (HP:0002310); Absent speech (HP:0001344); Hypsarrhythmia (HP:0002521); Axial hypotonia (HP:0008936); Skeletal muscle atrophy (HP:0003202); Spasticity (HP:0001257); Feeding difficulties (HP:0011968); Failure to thrive (HP:0001508); excluded: Pes cavus (HP:0001761); excluded: Hypoplastic anterior commissure (HP:0030303); excluded: Ventriculomegaly (HP:0002119); excluded: Myoclonus (HP:0001336); excluded: Sensory neuropathy (HP:0000763); excluded: Tonic seizure (HP:0032792); excluded: Myoclonic seizure (HP:0032794); excluded: Opisthotonus (HP:0002179); excluded: Recurrent infections (HP:0002719); excluded: Hypotelorism (HP:0000601); excluded: Micrognathia (HP:0000347); excluded: Protruding ear (HP:0000411); excluded: Microcephaly (HP:0000252)</td></tr>\n",
       "</table>"
      ],
      "text/plain": [
       "<IPython.core.display.HTML object>"
      ]
     },
     "metadata": {},
     "output_type": "display_data"
    }
   ],
   "source": [
    "table = IndividualTable(cvalidator.get_error_free_individual_list())\n",
    "display(HTML(table.to_html()))"
   ]
  },
  {
   "cell_type": "code",
   "execution_count": 9,
   "metadata": {},
   "outputs": [
    {
     "name": "stdout",
     "output_type": "stream",
     "text": [
      "[pyphetools] Ingested 4 GA4GH phenopackets.\n",
      "\tNeurodevelopmental disorder with hyperkinetic movements, seizures and structural brain abnormalities (OMIM:620732): n=4\n",
      "We found a total of 38 unique HPO terms\n",
      "Extracted disease: Neurodevelopmental disorder with hyperkinetic movements, seizures and structural brain abnormalities (OMIM:620732)\n",
      "Wrote HPOA disease file to OMIM-620732.tab\n"
     ]
    }
   ],
   "source": [
    "pmid = \"PMID:30564627\"\n",
    "df = timporter.create_hpoa_from_phenopackets(pmid=pmid, moi=\"Autosomal recessive\")"
   ]
  }
 ],
 "metadata": {
  "kernelspec": {
   "display_name": "ps24venv",
   "language": "python",
   "name": "python3"
  },
  "language_info": {
   "codemirror_mode": {
    "name": "ipython",
    "version": 3
   },
   "file_extension": ".py",
   "mimetype": "text/x-python",
   "name": "python",
   "nbconvert_exporter": "python",
   "pygments_lexer": "ipython3",
   "version": "3.9.6"
  }
 },
 "nbformat": 4,
 "nbformat_minor": 2
}
