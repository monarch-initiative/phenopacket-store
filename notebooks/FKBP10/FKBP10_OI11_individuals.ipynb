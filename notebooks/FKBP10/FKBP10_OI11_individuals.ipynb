{
 "cells": [
  {
   "cell_type": "markdown",
   "metadata": {},
   "source": [
    "# FKBP10\n",
    "[osteogenesis imperfecta type XI (OI11)](https://omim.org/entry/610968) is caused by homozygous or compound heterozygous mutation in the FKBP10 gene."
   ]
  },
  {
   "cell_type": "code",
   "execution_count": 1,
   "metadata": {},
   "outputs": [
    {
     "name": "stdout",
     "output_type": "stream",
     "text": [
      "Using pyphetools version 0.9.84\n"
     ]
    },
    {
     "name": "stderr",
     "output_type": "stream",
     "text": [
      "/Users/robin/GIT/phenopacket-store/ps24venv/lib/python3.9/site-packages/urllib3/__init__.py:35: NotOpenSSLWarning: urllib3 v2 only supports OpenSSL 1.1.1+, currently the 'ssl' module is compiled with 'LibreSSL 2.8.3'. See: https://github.com/urllib3/urllib3/issues/3020\n",
      "  warnings.warn(\n"
     ]
    }
   ],
   "source": [
    "from pyphetools.creation import TemplateImporter\n",
    "from pyphetools.visualization import IndividualTable, QcVisualizer\n",
    "from IPython.display import display, HTML\n",
    "import pyphetools\n",
    "print(f\"Using pyphetools version {pyphetools.__version__}\")"
   ]
  },
  {
   "cell_type": "code",
   "execution_count": 3,
   "metadata": {},
   "outputs": [],
   "source": [
    "template = \"input/FKBP10_OI11_individuals.xlsx\"\n",
    "created_by = \"0000-0002-0736-9199\""
   ]
  },
  {
   "cell_type": "code",
   "execution_count": 6,
   "metadata": {},
   "outputs": [
    {
     "name": "stdout",
     "output_type": "stream",
     "text": [
      "HPO version 2024-04-26\n",
      "Created encoders for 30 fields\n",
      "Importing OMIM:610968, Osteogenesis imperfecta, type XI, HGNC:18169, FKBP10,  NM_021939.4\n",
      "[INFO] encoding variant \"c.122_156del\"\n",
      "https://rest.variantvalidator.org/VariantValidator/variantvalidator/hg38/NM_021939.4%3Ac.122_156del/NM_021939.4?content-type=application%2Fjson\n",
      "We output 2 GA4GH phenopackets to the directory phenopackets\n"
     ]
    }
   ],
   "source": [
    "timporter = TemplateImporter(template=template,  created_by=created_by)\n",
    "individual_list, cvalidator = timporter.import_phenopackets_from_template()"
   ]
  },
  {
   "cell_type": "code",
   "execution_count": 7,
   "metadata": {},
   "outputs": [
    {
     "data": {
      "text/html": [
       "<h2>Cohort validation</h2>\n",
       "<p>No errors found for the cohort with 2 individuals</p>"
      ],
      "text/plain": [
       "<IPython.core.display.HTML object>"
      ]
     },
     "metadata": {},
     "output_type": "display_data"
    }
   ],
   "source": [
    "qc = QcVisualizer(cohort_validator=cvalidator)\n",
    "display(HTML(qc.to_summary_html()))"
   ]
  },
  {
   "cell_type": "code",
   "execution_count": 8,
   "metadata": {},
   "outputs": [
    {
     "data": {
      "text/html": [
       "<table style=\"border: 2px solid black; align: \"left\">\n",
       "<caption>2 phenopackets - PMID:29801479 (n=1); PMID:20839288 (n=1)</caption>\n",
       "<tr><th style=\"text-align: left;font-weight: bold;\">Individual</th><th style=\"text-align: left;font-weight: bold;\">Disease</th><th style=\"text-align: left;font-weight: bold;\">Genotype</th><th style=\"text-align: left;font-weight: bold;\">Phenotypic features</th></tr>\n",
       "<tr><td style=\"text-align: left;\">proband (MALE; P8Y)</td><td style=\"text-align: left;\">Osteogenesis imperfecta, type XI (OMIM:610968)</td><td style=\"text-align: left;\">NM_021939.4:c.1257-2A>G (homozygous)</td><td style=\"text-align: left;\"><b>P2M</b>: Recurrent fractures (HP:0002757)<br/>Fractured elbow (HP:0041219); Reduced bone mineral density (HP:0004349); Blue sclerae (HP:0000592); Short stature (HP:0004322); excluded: Joint contracture (HP:0034392); excluded: Elevated circulating alkaline phosphatase concentration (HP:0003155); excluded: Hepatosplenomegaly (HP:0001433); excluded: Hearing impairment (HP:0000365); excluded: Intellectual disability (HP:0001249)</td></tr>\n",
       "<tr><td style=\"text-align: left;\">Case 2 (FEMALE; P22Y)</td><td style=\"text-align: left;\">Osteogenesis imperfecta, type XI (OMIM:610968)</td><td style=\"text-align: left;\">NM_021939.4:c.122_156del (homozygous)</td><td style=\"text-align: left;\"><b>P3Y</b>: Recurrent fractures (HP:0002757)<br/><b>P5Y</b>: Blue sclerae (HP:0000592); Short stature (HP:0004322)<br/><b>P22Y</b>: Wormian bones (HP:0002645); Slender long bone (HP:0003100); Kyphoscoliosis (HP:0002751)<br/>excluded: Joint contracture (HP:0034392); excluded: Hepatosplenomegaly (HP:0001433); excluded: Hearing impairment (HP:0000365); excluded: Intellectual disability (HP:0001249)</td></tr>\n",
       "</table>"
      ],
      "text/plain": [
       "<IPython.core.display.HTML object>"
      ]
     },
     "metadata": {},
     "output_type": "display_data"
    }
   ],
   "source": [
    "table = IndividualTable(cvalidator.get_error_free_individual_list())\n",
    "display(HTML(table.to_html()))"
   ]
  }
 ],
 "metadata": {
  "kernelspec": {
   "display_name": "ps24venv",
   "language": "python",
   "name": "python3"
  },
  "language_info": {
   "codemirror_mode": {
    "name": "ipython",
    "version": 3
   },
   "file_extension": ".py",
   "mimetype": "text/x-python",
   "name": "python",
   "nbconvert_exporter": "python",
   "pygments_lexer": "ipython3",
   "version": "3.9.6"
  }
 },
 "nbformat": 4,
 "nbformat_minor": 2
}
