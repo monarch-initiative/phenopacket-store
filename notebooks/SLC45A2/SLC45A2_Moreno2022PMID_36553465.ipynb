{
 "cells": [
  {
   "cell_type": "markdown",
   "id": "fc403054",
   "metadata": {},
   "source": [
    "<H1>SLC45A2: Oculo-Cutaneous Albinism Type 4 (OCA4) - Moreno-Artero et al., 2022</H1>\n",
    "<p>Extract clinical data from <a href=\"https://pubmed.ncbi.nlm.nih.gov/36553465/\" target=\"__blank\">\n",
    "Moreno-Artero E, et al. (2022). Oculo-Cutaneous Albinism Type 4 (OCA4): Phenotype-Genotype Correlation. Genes (Basel). 2022 Nov 23;13(12):2198</a>:  PMID:36553465.</p>\n",
    "<p>The authors classify patients 1-20 as group 1 and patients 21-30 as group 2. The describe the following genotype-phenotype correlation: The first, found in 20 patients, is clinically indistinguishable from the classical OCA1 phenotype. The genotype-to-phenotype correlation suggests that <b>this phenotype is associated with homozygous or compound heterozygous nonsense or deletion variants with frameshift</b> leading to translation interruption in the SLC45A2 gene. The second phenotype, found in 10 patients, is characterized by very mild hypopigmentation of the hair (light brown or even dark hair) and skin that is similar to the general population. In this group, visual acuity is variable, but it can be subnormal, foveal hypoplasia can be low grade or even normal, and nystagmus may be lacking. These <b>mild to moderate phenotypes are associated with at least one missense mutation in SLC45A2</b>.</p>"
   ]
  },
  {
   "cell_type": "code",
   "execution_count": 1,
   "id": "27e10ee3",
   "metadata": {},
   "outputs": [
    {
     "name": "stdout",
     "output_type": "stream",
     "text": [
      "Using pyphetools version 0.9.66\n"
     ]
    }
   ],
   "source": [
    "import pandas as pd\n",
    "pd.set_option('display.max_colwidth', None) # show entire column contents, important!\n",
    "from IPython.display import display, HTML\n",
    "from pyphetools.creation import *\n",
    "from pyphetools.visualization import *\n",
    "from pyphetools.validation import *\n",
    "import pyphetools\n",
    "print(f\"Using pyphetools version {pyphetools.__version__}\")"
   ]
  },
  {
   "cell_type": "code",
   "execution_count": 2,
   "id": "b516b93b",
   "metadata": {},
   "outputs": [
    {
     "name": "stdout",
     "output_type": "stream",
     "text": [
      "HPO version 2024-03-06\n"
     ]
    }
   ],
   "source": [
    "PMID = \"PMID:36553465\"\n",
    "title = \"Oculo-Cutaneous Albinism Type 4 (OCA4): Phenotype-Genotype Correlation\"\n",
    "cite = Citation(pmid=PMID, title=title)\n",
    "parser = HpoParser(hpo_json_file=\"../hp.json\")\n",
    "hpo_cr = parser.get_hpo_concept_recognizer()\n",
    "hpo_version = parser.get_version()\n",
    "hpo_ontology = parser.get_ontology()\n",
    "metadata = MetaData(created_by=\"ORCID:0000-0002-5648-2155\", citation=cite)\n",
    "metadata.default_versions_with_hpo(version=hpo_version)\n",
    "print(f\"HPO version {hpo_version}\")"
   ]
  },
  {
   "cell_type": "markdown",
   "id": "41b70a70",
   "metadata": {},
   "source": [
    "<h3>Ingest the data</h3>\n",
    "<p>The clinical and variant data were copied from Table 1 of the publication. For ease of parsing, we manually split the Gender,Age column into two columns.</p>"
   ]
  },
  {
   "cell_type": "code",
   "execution_count": 3,
   "id": "283b2848",
   "metadata": {},
   "outputs": [],
   "source": [
    "df = pd.read_excel('input/Moreno-Artero2022_table1.xlsx')"
   ]
  },
  {
   "cell_type": "code",
   "execution_count": 4,
   "id": "2fe6934e",
   "metadata": {},
   "outputs": [
    {
     "data": {
      "text/html": [
       "<div>\n",
       "<style scoped>\n",
       "    .dataframe tbody tr th:only-of-type {\n",
       "        vertical-align: middle;\n",
       "    }\n",
       "\n",
       "    .dataframe tbody tr th {\n",
       "        vertical-align: top;\n",
       "    }\n",
       "\n",
       "    .dataframe thead th {\n",
       "        text-align: right;\n",
       "    }\n",
       "</style>\n",
       "<table border=\"1\" class=\"dataframe\">\n",
       "  <thead>\n",
       "    <tr style=\"text-align: right;\">\n",
       "      <th></th>\n",
       "      <th>Patients</th>\n",
       "      <th>Gender</th>\n",
       "      <th>Age (Years)</th>\n",
       "      <th>Genetic Background</th>\n",
       "      <th>Consanguinity</th>\n",
       "      <th>Nevi</th>\n",
       "      <th>Eyes</th>\n",
       "      <th>Hair</th>\n",
       "      <th>Eyebrows</th>\n",
       "      <th>Eyelashes</th>\n",
       "      <th>Nystagmus</th>\n",
       "      <th>Strabismus</th>\n",
       "      <th>VA</th>\n",
       "      <th>Refraction</th>\n",
       "      <th>ITI</th>\n",
       "      <th>MT</th>\n",
       "      <th>FHP</th>\n",
       "      <th>Variant 1 (SLC45A2 NM_016180.5)</th>\n",
       "      <th>Variant 2 (SLC45A2 NM_016180.5)</th>\n",
       "    </tr>\n",
       "  </thead>\n",
       "  <tbody>\n",
       "    <tr>\n",
       "      <th>0</th>\n",
       "      <td>P1</td>\n",
       "      <td>M</td>\n",
       "      <td>20</td>\n",
       "      <td>Morocco</td>\n",
       "      <td>Yes</td>\n",
       "      <td>Present, amelanotic</td>\n",
       "      <td>Blue</td>\n",
       "      <td>White</td>\n",
       "      <td>White</td>\n",
       "      <td>White</td>\n",
       "      <td>Yes</td>\n",
       "      <td>Yes, esotropia</td>\n",
       "      <td>1.6/10 RE; 2/10 LE</td>\n",
       "      <td>Hypermetropia astigmatism</td>\n",
       "      <td>NaN</td>\n",
       "      <td>NaN</td>\n",
       "      <td>Grade IV</td>\n",
       "      <td>NM_016180.5(SLC45A2):c.267_271del\\nChr5(GRCh37):g.33984422_33984426del\\np.(Ser90Glnfs*42)</td>\n",
       "      <td>NM_016180.5(SLC45A2):c.267_271del\\nChr5(GRCh37):g.33984422_33984426del\\np.(Ser90Glnfs*42)</td>\n",
       "    </tr>\n",
       "    <tr>\n",
       "      <th>1</th>\n",
       "      <td>P2</td>\n",
       "      <td>F</td>\n",
       "      <td>7</td>\n",
       "      <td>Morocco</td>\n",
       "      <td>Yes</td>\n",
       "      <td>Present, pigmented</td>\n",
       "      <td>Blue</td>\n",
       "      <td>White blond</td>\n",
       "      <td>White</td>\n",
       "      <td>White</td>\n",
       "      <td>Yes</td>\n",
       "      <td>Yes, left exotropia</td>\n",
       "      <td>1/20 RE; 1/20 LE</td>\n",
       "      <td>Hypermetropia Astigmatism</td>\n",
       "      <td>Grade IV</td>\n",
       "      <td>Grade II</td>\n",
       "      <td>Grade IV</td>\n",
       "      <td>NM_016180.5(SLC45A2):c.1028_1029del\\nChr5(GRCh37):g.33954469_33954470del\\np.(Gly343Alafs*10)</td>\n",
       "      <td>NM_016180.5(SLC45A2):c.1028_1029del\\nChr5(GRCh37):g.33954469_33954470del\\np.(Gly343Alafs*10)</td>\n",
       "    </tr>\n",
       "  </tbody>\n",
       "</table>\n",
       "</div>"
      ],
      "text/plain": [
       "  Patients Gender  Age (Years) Genetic Background Consanguinity  \\\n",
       "0       P1      M           20            Morocco           Yes   \n",
       "1       P2      F            7            Morocco           Yes   \n",
       "\n",
       "                  Nevi  Eyes         Hair Eyebrows Eyelashes Nystagmus  \\\n",
       "0  Present, amelanotic  Blue        White    White     White       Yes   \n",
       "1   Present, pigmented  Blue  White blond    White     White       Yes   \n",
       "\n",
       "            Strabismus                  VA                 Refraction  \\\n",
       "0       Yes, esotropia  1.6/10 RE; 2/10 LE  Hypermetropia astigmatism   \n",
       "1  Yes, left exotropia    1/20 RE; 1/20 LE  Hypermetropia Astigmatism   \n",
       "\n",
       "        ITI        MT       FHP  \\\n",
       "0       NaN       NaN  Grade IV   \n",
       "1  Grade IV  Grade II  Grade IV   \n",
       "\n",
       "                                                                Variant 1 (SLC45A2 NM_016180.5)  \\\n",
       "0     NM_016180.5(SLC45A2):c.267_271del\\nChr5(GRCh37):g.33984422_33984426del\\np.(Ser90Glnfs*42)   \n",
       "1  NM_016180.5(SLC45A2):c.1028_1029del\\nChr5(GRCh37):g.33954469_33954470del\\np.(Gly343Alafs*10)   \n",
       "\n",
       "                                                                Variant 2 (SLC45A2 NM_016180.5)  \n",
       "0     NM_016180.5(SLC45A2):c.267_271del\\nChr5(GRCh37):g.33984422_33984426del\\np.(Ser90Glnfs*42)  \n",
       "1  NM_016180.5(SLC45A2):c.1028_1029del\\nChr5(GRCh37):g.33954469_33954470del\\np.(Gly343Alafs*10)  "
      ]
     },
     "execution_count": 4,
     "metadata": {},
     "output_type": "execute_result"
    }
   ],
   "source": [
    "df.head(2)"
   ]
  },
  {
   "cell_type": "code",
   "execution_count": 5,
   "id": "ef571760",
   "metadata": {},
   "outputs": [
    {
     "data": {
      "text/html": [
       "<div>\n",
       "<style scoped>\n",
       "    .dataframe tbody tr th:only-of-type {\n",
       "        vertical-align: middle;\n",
       "    }\n",
       "\n",
       "    .dataframe tbody tr th {\n",
       "        vertical-align: top;\n",
       "    }\n",
       "\n",
       "    .dataframe thead th {\n",
       "        text-align: right;\n",
       "    }\n",
       "</style>\n",
       "<table border=\"1\" class=\"dataframe\">\n",
       "  <thead>\n",
       "    <tr style=\"text-align: right;\">\n",
       "      <th></th>\n",
       "      <th>mapping</th>\n",
       "      <th>count</th>\n",
       "    </tr>\n",
       "  </thead>\n",
       "  <tbody>\n",
       "    <tr>\n",
       "      <th>0</th>\n",
       "      <td>original value: \"Yes\" -&gt; HP: Nystagmus (HP:0000639) (observed)</td>\n",
       "      <td>28</td>\n",
       "    </tr>\n",
       "    <tr>\n",
       "      <th>1</th>\n",
       "      <td>original value: \"No\" -&gt; HP: Nystagmus (HP:0000639) (excluded)</td>\n",
       "      <td>2</td>\n",
       "    </tr>\n",
       "  </tbody>\n",
       "</table>\n",
       "</div>"
      ],
      "text/plain": [
       "                                                          mapping count\n",
       "0  original value: \"Yes\" -> HP: Nystagmus (HP:0000639) (observed)    28\n",
       "1   original value: \"No\" -> HP: Nystagmus (HP:0000639) (excluded)     2"
      ]
     },
     "execution_count": 5,
     "metadata": {},
     "output_type": "execute_result"
    }
   ],
   "source": [
    "column_mapper_list = list()\n",
    "nystagmusMapper = SimpleColumnMapper(column_name=\"Nystagmus\",hpo_id=\"HP:0000639\", hpo_label=\"Nystagmus\",observed='Yes',excluded='No')\n",
    "column_mapper_list.append(nystagmusMapper)\n",
    "nystagmusMapper.preview_column(df)"
   ]
  },
  {
   "cell_type": "code",
   "execution_count": 6,
   "id": "58292f97",
   "metadata": {},
   "outputs": [],
   "source": [
    "# This was used to conveniently generate OptionColumnMapper code, but is not longer needed.\n",
    "#result = OptionColumnMapper.autoformat(df, hpo_cr)\n",
    "#print(result)"
   ]
  },
  {
   "cell_type": "code",
   "execution_count": 7,
   "id": "a764b235",
   "metadata": {},
   "outputs": [
    {
     "data": {
      "text/html": [
       "<div>\n",
       "<style scoped>\n",
       "    .dataframe tbody tr th:only-of-type {\n",
       "        vertical-align: middle;\n",
       "    }\n",
       "\n",
       "    .dataframe tbody tr th {\n",
       "        vertical-align: top;\n",
       "    }\n",
       "\n",
       "    .dataframe thead th {\n",
       "        text-align: right;\n",
       "    }\n",
       "</style>\n",
       "<table border=\"1\" class=\"dataframe\">\n",
       "  <thead>\n",
       "    <tr style=\"text-align: right;\">\n",
       "      <th></th>\n",
       "      <th>mapping</th>\n",
       "      <th>count</th>\n",
       "    </tr>\n",
       "  </thead>\n",
       "  <tbody>\n",
       "    <tr>\n",
       "      <th>0</th>\n",
       "      <td>Nevus (HP:0003764) (observed)</td>\n",
       "      <td>32</td>\n",
       "    </tr>\n",
       "    <tr>\n",
       "      <th>1</th>\n",
       "      <td>Melanocytic nevus (HP:0000995) (observed)</td>\n",
       "      <td>12</td>\n",
       "    </tr>\n",
       "    <tr>\n",
       "      <th>2</th>\n",
       "      <td>Nevus (HP:0003764) (excluded)</td>\n",
       "      <td>8</td>\n",
       "    </tr>\n",
       "  </tbody>\n",
       "</table>\n",
       "</div>"
      ],
      "text/plain": [
       "                                     mapping count\n",
       "0              Nevus (HP:0003764) (observed)    32\n",
       "1  Melanocytic nevus (HP:0000995) (observed)    12\n",
       "2              Nevus (HP:0003764) (excluded)     8"
      ]
     },
     "execution_count": 7,
     "metadata": {},
     "output_type": "execute_result"
    }
   ],
   "source": [
    "nevi_d = {'Present': 'Nevus',\n",
    " 'amelanotic': 'Nevus',  ## TODO needs new HPO term\n",
    " 'pigmented': 'Melanocytic nevus',\n",
    "}\n",
    "excluded = {\"Absent\": \"Nevus\"}\n",
    "neviMapper = OptionColumnMapper(column_name='Nevi',concept_recognizer=hpo_cr, option_d=nevi_d, excluded_d=excluded)\n",
    "column_mapper_list.append(neviMapper)\n",
    "neviMapper.preview_column(df)"
   ]
  },
  {
   "cell_type": "code",
   "execution_count": 8,
   "id": "f66b3591",
   "metadata": {},
   "outputs": [
    {
     "data": {
      "text/html": [
       "<div>\n",
       "<style scoped>\n",
       "    .dataframe tbody tr th:only-of-type {\n",
       "        vertical-align: middle;\n",
       "    }\n",
       "\n",
       "    .dataframe tbody tr th {\n",
       "        vertical-align: top;\n",
       "    }\n",
       "\n",
       "    .dataframe thead th {\n",
       "        text-align: right;\n",
       "    }\n",
       "</style>\n",
       "<table border=\"1\" class=\"dataframe\">\n",
       "  <thead>\n",
       "    <tr style=\"text-align: right;\">\n",
       "      <th></th>\n",
       "      <th>mapping</th>\n",
       "      <th>count</th>\n",
       "    </tr>\n",
       "  </thead>\n",
       "  <tbody>\n",
       "    <tr>\n",
       "      <th>0</th>\n",
       "      <td>Iris hypopigmentation (HP:0007730) (observed)</td>\n",
       "      <td>28</td>\n",
       "    </tr>\n",
       "    <tr>\n",
       "      <th>1</th>\n",
       "      <td>Iris hypopigmentation (HP:0007730) (excluded)</td>\n",
       "      <td>2</td>\n",
       "    </tr>\n",
       "  </tbody>\n",
       "</table>\n",
       "</div>"
      ],
      "text/plain": [
       "                                         mapping count\n",
       "0  Iris hypopigmentation (HP:0007730) (observed)    28\n",
       "1  Iris hypopigmentation (HP:0007730) (excluded)     2"
      ]
     },
     "execution_count": 8,
     "metadata": {},
     "output_type": "execute_result"
    }
   ],
   "source": [
    "eyes_d = {'Blue': 'Iris hypopigmentation',\n",
    " 'Blue grey': 'Iris hypopigmentation',}\n",
    "excluded = {\"Brown\": \"Iris hypopigmentation\"}\n",
    "eyesMapper = OptionColumnMapper(column_name='Eyes',concept_recognizer=hpo_cr, option_d=eyes_d,excluded_d=excluded)\n",
    "column_mapper_list.append(eyesMapper)\n",
    "eyesMapper.preview_column(df)"
   ]
  },
  {
   "cell_type": "code",
   "execution_count": 9,
   "id": "054e5f53",
   "metadata": {},
   "outputs": [
    {
     "data": {
      "text/html": [
       "<div>\n",
       "<style scoped>\n",
       "    .dataframe tbody tr th:only-of-type {\n",
       "        vertical-align: middle;\n",
       "    }\n",
       "\n",
       "    .dataframe tbody tr th {\n",
       "        vertical-align: top;\n",
       "    }\n",
       "\n",
       "    .dataframe thead th {\n",
       "        text-align: right;\n",
       "    }\n",
       "</style>\n",
       "<table border=\"1\" class=\"dataframe\">\n",
       "  <thead>\n",
       "    <tr style=\"text-align: right;\">\n",
       "      <th></th>\n",
       "      <th>mapping</th>\n",
       "      <th>count</th>\n",
       "    </tr>\n",
       "  </thead>\n",
       "  <tbody>\n",
       "    <tr>\n",
       "      <th>0</th>\n",
       "      <td>Hypopigmentation of hair (HP:0005599) (observed)</td>\n",
       "      <td>30</td>\n",
       "    </tr>\n",
       "  </tbody>\n",
       "</table>\n",
       "</div>"
      ],
      "text/plain": [
       "                                            mapping count\n",
       "0  Hypopigmentation of hair (HP:0005599) (observed)    30"
      ]
     },
     "execution_count": 9,
     "metadata": {},
     "output_type": "execute_result"
    }
   ],
   "source": [
    "hair_d = {'White': 'Hypopigmentation of hair',\n",
    " 'White blond': 'Hypopigmentation of hair',\n",
    " 'Blond': 'Hypopigmentation of hair',\n",
    " 'Dark blond': 'Hypopigmentation of hair',\n",
    " 'Red blond': 'Hypopigmentation of hair'}\n",
    "hairMapper = OptionColumnMapper(column_name='Hair',concept_recognizer=hpo_cr, option_d=hair_d)\n",
    "column_mapper_list.append(hairMapper)\n",
    "hairMapper.preview_column(df)"
   ]
  },
  {
   "cell_type": "code",
   "execution_count": 10,
   "id": "695d30d5",
   "metadata": {},
   "outputs": [
    {
     "data": {
      "text/html": [
       "<div>\n",
       "<style scoped>\n",
       "    .dataframe tbody tr th:only-of-type {\n",
       "        vertical-align: middle;\n",
       "    }\n",
       "\n",
       "    .dataframe tbody tr th {\n",
       "        vertical-align: top;\n",
       "    }\n",
       "\n",
       "    .dataframe thead th {\n",
       "        text-align: right;\n",
       "    }\n",
       "</style>\n",
       "<table border=\"1\" class=\"dataframe\">\n",
       "  <thead>\n",
       "    <tr style=\"text-align: right;\">\n",
       "      <th></th>\n",
       "      <th>mapping</th>\n",
       "      <th>count</th>\n",
       "    </tr>\n",
       "  </thead>\n",
       "  <tbody>\n",
       "    <tr>\n",
       "      <th>0</th>\n",
       "      <td>White eyebrow (HP:0002226) (observed)</td>\n",
       "      <td>29</td>\n",
       "    </tr>\n",
       "    <tr>\n",
       "      <th>1</th>\n",
       "      <td>White eyebrow (HP:0002226) (excluded)</td>\n",
       "      <td>1</td>\n",
       "    </tr>\n",
       "  </tbody>\n",
       "</table>\n",
       "</div>"
      ],
      "text/plain": [
       "                                 mapping count\n",
       "0  White eyebrow (HP:0002226) (observed)    29\n",
       "1  White eyebrow (HP:0002226) (excluded)     1"
      ]
     },
     "execution_count": 10,
     "metadata": {},
     "output_type": "execute_result"
    }
   ],
   "source": [
    "eyebrows_d = {'White': 'White eyebrow',\n",
    " 'Blond': 'White eyebrow',\n",
    " 'White + Blond': 'White eyebrow'}\n",
    "excluded = {\"Brown\": \"White eyebrow\"}\n",
    "eyebrowsMapper = OptionColumnMapper(column_name='Eyebrows',concept_recognizer=hpo_cr, option_d=eyebrows_d,  excluded_d=excluded)\n",
    "column_mapper_list.append(eyebrowsMapper)\n",
    "eyebrowsMapper.preview_column(df)"
   ]
  },
  {
   "cell_type": "code",
   "execution_count": 11,
   "id": "5aac7d11",
   "metadata": {},
   "outputs": [
    {
     "data": {
      "text/html": [
       "<div>\n",
       "<style scoped>\n",
       "    .dataframe tbody tr th:only-of-type {\n",
       "        vertical-align: middle;\n",
       "    }\n",
       "\n",
       "    .dataframe tbody tr th {\n",
       "        vertical-align: top;\n",
       "    }\n",
       "\n",
       "    .dataframe thead th {\n",
       "        text-align: right;\n",
       "    }\n",
       "</style>\n",
       "<table border=\"1\" class=\"dataframe\">\n",
       "  <thead>\n",
       "    <tr style=\"text-align: right;\">\n",
       "      <th></th>\n",
       "      <th>mapping</th>\n",
       "      <th>count</th>\n",
       "    </tr>\n",
       "  </thead>\n",
       "  <tbody>\n",
       "    <tr>\n",
       "      <th>0</th>\n",
       "      <td>White eyelashes (HP:0002227) (observed)</td>\n",
       "      <td>29</td>\n",
       "    </tr>\n",
       "  </tbody>\n",
       "</table>\n",
       "</div>"
      ],
      "text/plain": [
       "                                   mapping count\n",
       "0  White eyelashes (HP:0002227) (observed)    29"
      ]
     },
     "execution_count": 11,
     "metadata": {},
     "output_type": "execute_result"
    }
   ],
   "source": [
    "eyelashes_d = {'White': 'White eyelashes',\n",
    " 'Blond': 'White eyelashes',\n",
    " 'White + Blond': 'White eyelashes'}\n",
    "eyelashesMapper = OptionColumnMapper(column_name='Eyelashes',concept_recognizer=hpo_cr, option_d=eyelashes_d)\n",
    "column_mapper_list.append(eyelashesMapper)\n",
    "eyelashesMapper.preview_column(df)"
   ]
  },
  {
   "cell_type": "code",
   "execution_count": 12,
   "id": "73a0affe",
   "metadata": {},
   "outputs": [
    {
     "data": {
      "text/html": [
       "<div>\n",
       "<style scoped>\n",
       "    .dataframe tbody tr th:only-of-type {\n",
       "        vertical-align: middle;\n",
       "    }\n",
       "\n",
       "    .dataframe tbody tr th {\n",
       "        vertical-align: top;\n",
       "    }\n",
       "\n",
       "    .dataframe thead th {\n",
       "        text-align: right;\n",
       "    }\n",
       "</style>\n",
       "<table border=\"1\" class=\"dataframe\">\n",
       "  <thead>\n",
       "    <tr style=\"text-align: right;\">\n",
       "      <th></th>\n",
       "      <th>mapping</th>\n",
       "      <th>count</th>\n",
       "    </tr>\n",
       "  </thead>\n",
       "  <tbody>\n",
       "    <tr>\n",
       "      <th>0</th>\n",
       "      <td>Strabismus (HP:0000486) (observed)</td>\n",
       "      <td>12</td>\n",
       "    </tr>\n",
       "    <tr>\n",
       "      <th>1</th>\n",
       "      <td>Esotropia (HP:0000565) (observed)</td>\n",
       "      <td>9</td>\n",
       "    </tr>\n",
       "    <tr>\n",
       "      <th>2</th>\n",
       "      <td>Exotropia (HP:0000577) (observed)</td>\n",
       "      <td>4</td>\n",
       "    </tr>\n",
       "    <tr>\n",
       "      <th>3</th>\n",
       "      <td>Strabismus (HP:0000486) (excluded)</td>\n",
       "      <td>17</td>\n",
       "    </tr>\n",
       "  </tbody>\n",
       "</table>\n",
       "</div>"
      ],
      "text/plain": [
       "                              mapping count\n",
       "0  Strabismus (HP:0000486) (observed)    12\n",
       "1   Esotropia (HP:0000565) (observed)     9\n",
       "2   Exotropia (HP:0000577) (observed)     4\n",
       "3  Strabismus (HP:0000486) (excluded)    17"
      ]
     },
     "execution_count": 12,
     "metadata": {},
     "output_type": "execute_result"
    }
   ],
   "source": [
    "strabismus_d = {'Yes': 'Strabismus',\n",
    " 'esotropia': 'Esotropia',\n",
    " 'left exotropia': 'Exotropia',\n",
    " 'exotropia': 'Exotropia',\n",
    " 'Yes microexotropia': 'Exotropia'}\n",
    "excluded = {\"No\": 'Strabismus'}\n",
    "strabismusMapper = OptionColumnMapper(column_name='Strabismus',concept_recognizer=hpo_cr, option_d=strabismus_d, excluded_d=excluded)\n",
    "column_mapper_list.append(strabismusMapper)\n",
    "strabismusMapper.preview_column(df)"
   ]
  },
  {
   "cell_type": "markdown",
   "id": "eb30914b-72de-4b40-9fc7-aeff43b07365",
   "metadata": {},
   "source": [
    "<h2>reduced visual acuity</h2>\n",
    "<p>For reduced visual acuity, the representation of the features uses slash and semicolon, which pyphetools interprets as being\n",
    "delimiters. For this reason, we only use the numerator (the denominator is always ten) for the abnormal findings. We do not distinguish between left and right here.</p>"
   ]
  },
  {
   "cell_type": "code",
   "execution_count": 13,
   "id": "de0812bd",
   "metadata": {},
   "outputs": [
    {
     "data": {
      "text/html": [
       "<div>\n",
       "<style scoped>\n",
       "    .dataframe tbody tr th:only-of-type {\n",
       "        vertical-align: middle;\n",
       "    }\n",
       "\n",
       "    .dataframe tbody tr th {\n",
       "        vertical-align: top;\n",
       "    }\n",
       "\n",
       "    .dataframe thead th {\n",
       "        text-align: right;\n",
       "    }\n",
       "</style>\n",
       "<table border=\"1\" class=\"dataframe\">\n",
       "  <thead>\n",
       "    <tr style=\"text-align: right;\">\n",
       "      <th></th>\n",
       "      <th>mapping</th>\n",
       "      <th>count</th>\n",
       "    </tr>\n",
       "  </thead>\n",
       "  <tbody>\n",
       "    <tr>\n",
       "      <th>0</th>\n",
       "      <td>Reduced visual acuity (HP:0007663) (observed)</td>\n",
       "      <td>104</td>\n",
       "    </tr>\n",
       "  </tbody>\n",
       "</table>\n",
       "</div>"
      ],
      "text/plain": [
       "                                         mapping count\n",
       "0  Reduced visual acuity (HP:0007663) (observed)   104"
      ]
     },
     "execution_count": 13,
     "metadata": {},
     "output_type": "execute_result"
    }
   ],
   "source": [
    "va_d = {'1.6': 'Reduced visual acuity',\n",
    "        '2': 'Reduced visual acuity',\n",
    "         '1': 'Reduced visual acuity',\n",
    "        '3': 'Reduced visual acuity',\n",
    "         '5': 'Reduced visual acuity',\n",
    "         '7': 'Reduced visual acuity',\n",
    "         '1.2': 'Reduced visual acuity',\n",
    "         '1.4': 'Reduced visual acuity'}\n",
    "vaMapper = OptionColumnMapper(column_name='VA',concept_recognizer=hpo_cr, option_d=va_d)\n",
    "column_mapper_list.append(vaMapper)\n",
    "vaMapper.preview_column(df)"
   ]
  },
  {
   "cell_type": "code",
   "execution_count": 14,
   "id": "cc2b3f8f",
   "metadata": {},
   "outputs": [
    {
     "data": {
      "text/html": [
       "<div>\n",
       "<style scoped>\n",
       "    .dataframe tbody tr th:only-of-type {\n",
       "        vertical-align: middle;\n",
       "    }\n",
       "\n",
       "    .dataframe tbody tr th {\n",
       "        vertical-align: top;\n",
       "    }\n",
       "\n",
       "    .dataframe thead th {\n",
       "        text-align: right;\n",
       "    }\n",
       "</style>\n",
       "<table border=\"1\" class=\"dataframe\">\n",
       "  <thead>\n",
       "    <tr style=\"text-align: right;\">\n",
       "      <th></th>\n",
       "      <th>mapping</th>\n",
       "      <th>count</th>\n",
       "    </tr>\n",
       "  </thead>\n",
       "  <tbody>\n",
       "    <tr>\n",
       "      <th>0</th>\n",
       "      <td>Hypermetropia (HP:0000540) (observed)</td>\n",
       "      <td>5</td>\n",
       "    </tr>\n",
       "    <tr>\n",
       "      <th>1</th>\n",
       "      <td>Astigmatism (HP:0000483) (observed)</td>\n",
       "      <td>9</td>\n",
       "    </tr>\n",
       "    <tr>\n",
       "      <th>2</th>\n",
       "      <td>Myopia (HP:0000545) (observed)</td>\n",
       "      <td>1</td>\n",
       "    </tr>\n",
       "  </tbody>\n",
       "</table>\n",
       "</div>"
      ],
      "text/plain": [
       "                                 mapping count\n",
       "0  Hypermetropia (HP:0000540) (observed)     5\n",
       "1    Astigmatism (HP:0000483) (observed)     9\n",
       "2         Myopia (HP:0000545) (observed)     1"
      ]
     },
     "execution_count": 14,
     "metadata": {},
     "output_type": "execute_result"
    }
   ],
   "source": [
    "refraction_d = {'Hypermetropia astigmatism': 'Hypermetropia',\n",
    " 'Hypermetropia Astigmatism': 'Astigmatism',\n",
    " 'Hypermetropia\\nAstigmatism': 'Astigmatism',\n",
    " 'Hypermetropia': 'Hypermetropia',\n",
    " 'HypermetropiaAstigmatism': 'Hypermetropia',\n",
    " 'Myopia Astigmatism': 'Myopia'}\n",
    "refractionMapper = OptionColumnMapper(column_name='Refraction',concept_recognizer=hpo_cr, option_d=refraction_d)\n",
    "column_mapper_list.append(refractionMapper)\n",
    "refractionMapper.preview_column(df)"
   ]
  },
  {
   "cell_type": "code",
   "execution_count": 15,
   "id": "1e9d0a9a",
   "metadata": {},
   "outputs": [
    {
     "data": {
      "text/html": [
       "<div>\n",
       "<style scoped>\n",
       "    .dataframe tbody tr th:only-of-type {\n",
       "        vertical-align: middle;\n",
       "    }\n",
       "\n",
       "    .dataframe tbody tr th {\n",
       "        vertical-align: top;\n",
       "    }\n",
       "\n",
       "    .dataframe thead th {\n",
       "        text-align: right;\n",
       "    }\n",
       "</style>\n",
       "<table border=\"1\" class=\"dataframe\">\n",
       "  <thead>\n",
       "    <tr style=\"text-align: right;\">\n",
       "      <th></th>\n",
       "      <th>mapping</th>\n",
       "      <th>count</th>\n",
       "    </tr>\n",
       "  </thead>\n",
       "  <tbody>\n",
       "    <tr>\n",
       "      <th>0</th>\n",
       "      <td>Iris transillumination defect (HP:0012805) (observed)</td>\n",
       "      <td>24</td>\n",
       "    </tr>\n",
       "    <tr>\n",
       "      <th>1</th>\n",
       "      <td>Iris transillumination defect (HP:0012805) (excluded)</td>\n",
       "      <td>4</td>\n",
       "    </tr>\n",
       "  </tbody>\n",
       "</table>\n",
       "</div>"
      ],
      "text/plain": [
       "                                                 mapping count\n",
       "0  Iris transillumination defect (HP:0012805) (observed)    24\n",
       "1  Iris transillumination defect (HP:0012805) (excluded)     4"
      ]
     },
     "execution_count": 15,
     "metadata": {},
     "output_type": "execute_result"
    }
   ],
   "source": [
    "iti_d = {\n",
    " 'Grade IV': 'Iris transillumination defect',\n",
    " 'Grade III': 'Iris transillumination defect',\n",
    " 'Grade II': 'Iris transillumination defect',\n",
    " 'Grade I': 'Iris transillumination defect'}\n",
    "excluded = {\"No\": \"Iris transillumination defect\"}\n",
    "itiMapper = OptionColumnMapper(column_name='ITI',concept_recognizer=hpo_cr, option_d=iti_d, excluded_d=excluded)\n",
    "column_mapper_list.append(itiMapper)\n",
    "itiMapper.preview_column(df)"
   ]
  },
  {
   "cell_type": "code",
   "execution_count": 16,
   "id": "6f69cbba",
   "metadata": {},
   "outputs": [],
   "source": [
    "mt_d = {'nan': 'PLACEHOLDER',\n",
    " 'Grade II': 'PLACEHOLDER',\n",
    " 'Grade III': 'PLACEHOLDER',\n",
    " 'Grade I': 'PLACEHOLDER'}\n",
    "#mtMapper = OptionColumnMapper(colname='MT',concept_recognizer=hpo_cr, option_d=mt_d)\n",
    "#mtMapper.preview_column(df))\n",
    "#column_mapper_list.append(mtMapper)\n",
    "# Macular transparency -- need HPO term"
   ]
  },
  {
   "cell_type": "code",
   "execution_count": 17,
   "id": "0405c7a5",
   "metadata": {},
   "outputs": [
    {
     "data": {
      "text/html": [
       "<div>\n",
       "<style scoped>\n",
       "    .dataframe tbody tr th:only-of-type {\n",
       "        vertical-align: middle;\n",
       "    }\n",
       "\n",
       "    .dataframe tbody tr th {\n",
       "        vertical-align: top;\n",
       "    }\n",
       "\n",
       "    .dataframe thead th {\n",
       "        text-align: right;\n",
       "    }\n",
       "</style>\n",
       "<table border=\"1\" class=\"dataframe\">\n",
       "  <thead>\n",
       "    <tr style=\"text-align: right;\">\n",
       "      <th></th>\n",
       "      <th>mapping</th>\n",
       "      <th>count</th>\n",
       "    </tr>\n",
       "  </thead>\n",
       "  <tbody>\n",
       "    <tr>\n",
       "      <th>0</th>\n",
       "      <td>Hypoplasia of the fovea (HP:0007750) (observed)</td>\n",
       "      <td>26</td>\n",
       "    </tr>\n",
       "  </tbody>\n",
       "</table>\n",
       "</div>"
      ],
      "text/plain": [
       "                                           mapping count\n",
       "0  Hypoplasia of the fovea (HP:0007750) (observed)    26"
      ]
     },
     "execution_count": 17,
     "metadata": {},
     "output_type": "execute_result"
    }
   ],
   "source": [
    "fhp_d = {'Grade IV': 'Hypoplasia of the fovea',\n",
    " 'Grade III': 'Hypoplasia of the fovea',\n",
    " 'Grade II': 'Hypoplasia of the fovea',\n",
    " 'Grade I': 'Hypoplasia of the fovea'}\n",
    "fhpMapper = OptionColumnMapper(column_name='FHP',concept_recognizer=hpo_cr, option_d=fhp_d)\n",
    "column_mapper_list.append(fhpMapper)\n",
    "fhpMapper.preview_column(df)"
   ]
  },
  {
   "cell_type": "markdown",
   "id": "392347e2",
   "metadata": {},
   "source": [
    "<h2>Variants</h2>\n",
    "<p>The original table describes variants like this: <tt>NM_016180.5(SLC45A2):c.267_271del\\nChr5(GRCh37):g.33984422_33984426del\\np.(Ser90Glnfs*42)</tt>.\n",
    "    The following code extracts the transcript variant - c.267_271del in this example.</p>"
   ]
  },
  {
   "cell_type": "code",
   "execution_count": 18,
   "id": "ced51a42",
   "metadata": {},
   "outputs": [],
   "source": [
    "def extract_var(cell_contents):\n",
    "    if not cell_contents.startswith(\"NM_016180.5(SLC45A2):\"):\n",
    "        return cell_contents\n",
    "    cell_contents = cell_contents[21:] # remove the above string\n",
    "    if '\\n' in cell_contents:\n",
    "        return cell_contents.split('\\n')[0]\n",
    "    else:\n",
    "        return cell_contents"
   ]
  },
  {
   "cell_type": "code",
   "execution_count": 19,
   "id": "82f31d9a",
   "metadata": {},
   "outputs": [],
   "source": [
    "df[\"var1\"] = df[\"Variant 1 (SLC45A2 NM_016180.5)\"].transform(lambda x: extract_var(x))\n",
    "df[\"var2\"] = df[\"Variant 2 (SLC45A2 NM_016180.5)\"].transform(lambda x: extract_var(x))"
   ]
  },
  {
   "cell_type": "code",
   "execution_count": 20,
   "id": "05490925",
   "metadata": {},
   "outputs": [],
   "source": [
    "gene_symbol=\"SLC45A2\"\n",
    "gene_id=\"HGNC:16472\"\n",
    "transcript=\"NM_016180.5\"\n",
    "vman = VariantManager(df=df, individual_column_name=\"Patients\", allele_1_column_name=\"var1\",\n",
    "                      allele_2_column_name=\"var2\", gene_id=gene_id, gene_symbol=gene_symbol, transcript=transcript)"
   ]
  },
  {
   "cell_type": "code",
   "execution_count": 21,
   "id": "44c3839c-5090-4b28-97a7-edf7d6c1235c",
   "metadata": {},
   "outputs": [
    {
     "data": {
      "text/html": [
       "<div>\n",
       "<style scoped>\n",
       "    .dataframe tbody tr th:only-of-type {\n",
       "        vertical-align: middle;\n",
       "    }\n",
       "\n",
       "    .dataframe tbody tr th {\n",
       "        vertical-align: top;\n",
       "    }\n",
       "\n",
       "    .dataframe thead th {\n",
       "        text-align: right;\n",
       "    }\n",
       "</style>\n",
       "<table border=\"1\" class=\"dataframe\">\n",
       "  <thead>\n",
       "    <tr style=\"text-align: right;\">\n",
       "      <th></th>\n",
       "      <th>status</th>\n",
       "      <th>count</th>\n",
       "      <th>alleles</th>\n",
       "    </tr>\n",
       "  </thead>\n",
       "  <tbody>\n",
       "    <tr>\n",
       "      <th>0</th>\n",
       "      <td>mapped</td>\n",
       "      <td>27</td>\n",
       "      <td>c.806G&gt;A, c.1518C&gt;T, c.258del, c.1255C&gt;A, c.1466T&gt;C, c.1045G&gt;A, c.950A&gt;G, c.1506del, c.130G&gt;A, c.267_271del, c.1028_1029del, c.1532C&gt;T, c.179T&gt;G, c.1471G&gt;A, c.533_534dup, c.977T&gt;A, c.147C&gt;G, c.273del, c.1068C&gt;G, c.606G&gt;C, c.1532C&gt;A, c.1036G&gt;T, c.1166_1167del, c.1033-6_1033-3del, c.1273del, c.953G&gt;A, c.986del</td>\n",
       "    </tr>\n",
       "    <tr>\n",
       "      <th>1</th>\n",
       "      <td>unmapped</td>\n",
       "      <td>1</td>\n",
       "      <td>Deletion exons 1-4</td>\n",
       "    </tr>\n",
       "  </tbody>\n",
       "</table>\n",
       "</div>"
      ],
      "text/plain": [
       "     status  count  \\\n",
       "0    mapped     27   \n",
       "1  unmapped      1   \n",
       "\n",
       "                                                                                                                                                                                                                                                                                                                 alleles  \n",
       "0  c.806G>A, c.1518C>T, c.258del, c.1255C>A, c.1466T>C, c.1045G>A, c.950A>G, c.1506del, c.130G>A, c.267_271del, c.1028_1029del, c.1532C>T, c.179T>G, c.1471G>A, c.533_534dup, c.977T>A, c.147C>G, c.273del, c.1068C>G, c.606G>C, c.1532C>A, c.1036G>T, c.1166_1167del, c.1033-6_1033-3del, c.1273del, c.953G>A, c.986del  \n",
       "1                                                                                                                                                                                                                                                                                                     Deletion exons 1-4  "
      ]
     },
     "execution_count": 21,
     "metadata": {},
     "output_type": "execute_result"
    }
   ],
   "source": [
    "vman.to_summary()"
   ]
  },
  {
   "cell_type": "code",
   "execution_count": 22,
   "id": "09190ddc-61e8-43cb-b400-7f2445eeab5f",
   "metadata": {},
   "outputs": [],
   "source": [
    "vman.code_as_chromosomal_deletion({'Deletion exons 1-4'})"
   ]
  },
  {
   "cell_type": "code",
   "execution_count": 23,
   "id": "9ada7f6f",
   "metadata": {},
   "outputs": [
    {
     "name": "stdout",
     "output_type": "stream",
     "text": [
      "We got 28 variant objects\n"
     ]
    }
   ],
   "source": [
    "validated_var_d = vman.get_variant_d()\n",
    "print(f\"We got {len(validated_var_d)} variant objects\")"
   ]
  },
  {
   "cell_type": "code",
   "execution_count": 24,
   "id": "19a6d915",
   "metadata": {},
   "outputs": [],
   "source": [
    "ageMapper = AgeColumnMapper.by_year('Age (Years)')\n",
    "#ageMapper.preview_column(df)\n",
    "sexMapper = SexColumnMapper(male_symbol='M', female_symbol='F', column_name='Gender')\n",
    "#sexMapper.preview_column(df)"
   ]
  },
  {
   "cell_type": "code",
   "execution_count": 25,
   "id": "37e18c14",
   "metadata": {},
   "outputs": [],
   "source": [
    "encoder = CohortEncoder(df=df, \n",
    "                        hpo_cr=hpo_cr, \n",
    "                        column_mapper_list=column_mapper_list, \n",
    "                        individual_column_name=\"Patients\", \n",
    "                        age_at_last_encounter_mapper=ageMapper, \n",
    "                        sexmapper=sexMapper,\n",
    "                        metadata=metadata)\n",
    "oca4 = Disease(disease_id='OMIM:606574',  disease_label='Albinism, oculocutaneous, type IV')\n",
    "encoder.set_disease(oca4)"
   ]
  },
  {
   "cell_type": "code",
   "execution_count": 26,
   "id": "891a9bde",
   "metadata": {},
   "outputs": [],
   "source": [
    "individuals = encoder.get_individuals()"
   ]
  },
  {
   "cell_type": "code",
   "execution_count": 27,
   "id": "b969626f",
   "metadata": {},
   "outputs": [],
   "source": [
    "for i in individuals:\n",
    "    rows = df.loc[df['Patients'] == i.id]\n",
    "    if len(rows) != 1:\n",
    "        raise ValueError(f\"Got {len(rows)} rows but expected only 1\")\n",
    "    var1 = rows.iloc[0]['var1']\n",
    "    var2 = rows.iloc[0]['var2']\n",
    "    if var1 == var2:\n",
    "        # homozygous\n",
    "        var_object = validated_var_d.get(var1)\n",
    "        var_object.set_homozygous()\n",
    "        i.add_variant(var_object)\n",
    "    else:\n",
    "        var1_object  = validated_var_d.get(var1) \n",
    "        var2_object  = validated_var_d.get(var2)\n",
    "        var1_object.set_heterozygous()\n",
    "        var2_object.set_heterozygous()\n",
    "        i.add_variant(var1_object)\n",
    "        i.add_variant(var2_object)"
   ]
  },
  {
   "cell_type": "code",
   "execution_count": 28,
   "id": "48253aa6",
   "metadata": {},
   "outputs": [
    {
     "data": {
      "text/html": [
       "<h2>Cohort validation</h2>\n",
       "<p>Errors found with 27 of 30 phenopackets.</p>\n",
       "<table style=\"border: 2px solid black; align: \"left\">\n",
       "<caption>Error counts</caption>\n",
       "<tr><th style=\"text-align: left;font-weight: bold;\">Level</th><th style=\"text-align: left;font-weight: bold;\">Error category</th><th style=\"text-align: left;font-weight: bold;\">Count</th></tr>\n",
       "<tr><td style=\"text-align: left;\">WARNING</td><td style=\"text-align: left;\">REDUNDANT</td><td style=\"text-align: left;\">24</td></tr>\n",
       "</table>\n",
       "<p>A total of 60 issues were fixed and no individual was removed from the cohort.</p>"
      ],
      "text/plain": [
       "<IPython.core.display.HTML object>"
      ]
     },
     "metadata": {},
     "output_type": "display_data"
    }
   ],
   "source": [
    "cvalidator = CohortValidator(cohort=individuals, ontology=hpo_ontology, min_hpo=1, allelic_requirement=AllelicRequirement.BI_ALLELIC)\n",
    "qc = QcVisualizer(cohort_validator=cvalidator)\n",
    "display(HTML(qc.to_summary_html()))"
   ]
  },
  {
   "cell_type": "code",
   "execution_count": 29,
   "id": "feefdf7d-2fd5-447f-adb3-afb6699d2728",
   "metadata": {},
   "outputs": [
    {
     "data": {
      "text/html": [
       "<h2>Cohort validation</h2>\n",
       "<p>No errors found for the cohort with 30 individuals</p>"
      ],
      "text/plain": [
       "<IPython.core.display.HTML object>"
      ]
     },
     "metadata": {},
     "output_type": "display_data"
    }
   ],
   "source": [
    "individuals = cvalidator.get_error_free_individual_list()\n",
    "cvalidator = CohortValidator(cohort=individuals, ontology=hpo_ontology, min_hpo=1, allelic_requirement=AllelicRequirement.BI_ALLELIC)\n",
    "qc = QcVisualizer(cohort_validator=cvalidator)\n",
    "display(HTML(qc.to_summary_html()))"
   ]
  },
  {
   "cell_type": "code",
   "execution_count": 30,
   "id": "b2fe15eb",
   "metadata": {},
   "outputs": [
    {
     "data": {
      "text/html": [
       "<table style=\"border: 2px solid black; align: \"left\">\n",
       "<caption>30 phenopackets - PMID:36553465 (n=30)</caption>\n",
       "<tr><th style=\"text-align: left;font-weight: bold;\">Individual</th><th style=\"text-align: left;font-weight: bold;\">Disease</th><th style=\"text-align: left;font-weight: bold;\">Genotype</th><th style=\"text-align: left;font-weight: bold;\">Phenotypic features</th></tr>\n",
       "<tr><td style=\"text-align: left;\">P1 (MALE; P20Y)</td><td style=\"text-align: left;\">Albinism, oculocutaneous, type IV (OMIM:606574)</td><td style=\"text-align: left;\">NM_016180.5:c.267_271del (homozygous)</td><td style=\"text-align: left;\">Nevus (HP:0003764); White eyelashes (HP:0002227); White eyebrow (HP:0002226); Reduced visual acuity (HP:0007663); Esotropia (HP:0000565); Hypermetropia (HP:0000540); Nystagmus (HP:0000639); Iris hypopigmentation (HP:0007730); Hypopigmentation of hair (HP:0005599); Hypoplasia of the fovea (HP:0007750)</td></tr>\n",
       "<tr><td style=\"text-align: left;\">P2 (FEMALE; P7Y)</td><td style=\"text-align: left;\">Albinism, oculocutaneous, type IV (OMIM:606574)</td><td style=\"text-align: left;\">NM_016180.5:c.1028_1029del (homozygous)</td><td style=\"text-align: left;\">Melanocytic nevus (HP:0000995); Iris transillumination defect (HP:0012805); White eyelashes (HP:0002227); White eyebrow (HP:0002226); Reduced visual acuity (HP:0007663); Exotropia (HP:0000577); Astigmatism (HP:0000483); Nystagmus (HP:0000639); Iris hypopigmentation (HP:0007730); Hypopigmentation of hair (HP:0005599); Hypoplasia of the fovea (HP:0007750)</td></tr>\n",
       "<tr><td style=\"text-align: left;\">P3 (MALE; P7Y)</td><td style=\"text-align: left;\">Albinism, oculocutaneous, type IV (OMIM:606574)</td><td style=\"text-align: left;\">NM_016180.5:c.1028_1029del (homozygous)</td><td style=\"text-align: left;\">Nystagmus (HP:0000639); Melanocytic nevus (HP:0000995); Iris hypopigmentation (HP:0007730); Hypopigmentation of hair (HP:0005599); White eyebrow (HP:0002226); White eyelashes (HP:0002227); Astigmatism (HP:0000483); Iris transillumination defect (HP:0012805); Hypoplasia of the fovea (HP:0007750); excluded: Strabismus (HP:0000486)</td></tr>\n",
       "<tr><td style=\"text-align: left;\">P4 (FEMALE; P49Y)</td><td style=\"text-align: left;\">Albinism, oculocutaneous, type IV (OMIM:606574)</td><td style=\"text-align: left;\"><ul> <li>NM_016180.5:c.273del (heterozygous)</li> <li>NM_016180.5:c.1068C>G (heterozygous)</li> </ul></td><td style=\"text-align: left;\">Iris transillumination defect (HP:0012805); White eyelashes (HP:0002227); White eyebrow (HP:0002226); Reduced visual acuity (HP:0007663); Nystagmus (HP:0000639); Iris hypopigmentation (HP:0007730); Hypopigmentation of hair (HP:0005599); Hypoplasia of the fovea (HP:0007750); excluded: Nevus (HP:0003764); excluded: Strabismus (HP:0000486)</td></tr>\n",
       "<tr><td style=\"text-align: left;\">P5 (FEMALE; P63Y)</td><td style=\"text-align: left;\">Albinism, oculocutaneous, type IV (OMIM:606574)</td><td style=\"text-align: left;\"><ul> <li>NM_016180.5:c.986del (heterozygous)</li> <li>NM_016180.5:c.1036G>T (heterozygous)</li> </ul></td><td style=\"text-align: left;\">Nevus (HP:0003764); Iris transillumination defect (HP:0012805); White eyelashes (HP:0002227); White eyebrow (HP:0002226); Reduced visual acuity (HP:0007663); Nystagmus (HP:0000639); Iris hypopigmentation (HP:0007730); Hypopigmentation of hair (HP:0005599); Hypoplasia of the fovea (HP:0007750); excluded: Strabismus (HP:0000486)</td></tr>\n",
       "<tr><td style=\"text-align: left;\">P6 (MALE; P18Y)</td><td style=\"text-align: left;\">Albinism, oculocutaneous, type IV (OMIM:606574)</td><td style=\"text-align: left;\"><ul> <li>NM_016180.5:c.986del (heterozygous)</li> <li>NM_016180.5:c.1471G>A (heterozygous)</li> </ul></td><td style=\"text-align: left;\">Melanocytic nevus (HP:0000995); Iris transillumination defect (HP:0012805); White eyelashes (HP:0002227); White eyebrow (HP:0002226); Reduced visual acuity (HP:0007663); Nystagmus (HP:0000639); Iris hypopigmentation (HP:0007730); Hypopigmentation of hair (HP:0005599); Hypoplasia of the fovea (HP:0007750); excluded: Strabismus (HP:0000486)</td></tr>\n",
       "<tr><td style=\"text-align: left;\">P7 (MALE; P9Y)</td><td style=\"text-align: left;\">Albinism, oculocutaneous, type IV (OMIM:606574)</td><td style=\"text-align: left;\"><ul> <li>NM_016180.5:c.986del (heterozygous)</li> <li>NM_016180.5:c.1471G>A (heterozygous)</li> </ul></td><td style=\"text-align: left;\">Iris transillumination defect (HP:0012805); White eyelashes (HP:0002227); White eyebrow (HP:0002226); Reduced visual acuity (HP:0007663); Nystagmus (HP:0000639); Iris hypopigmentation (HP:0007730); Hypopigmentation of hair (HP:0005599); Hypoplasia of the fovea (HP:0007750); excluded: Nevus (HP:0003764); excluded: Strabismus (HP:0000486)</td></tr>\n",
       "<tr><td style=\"text-align: left;\">P8 (MALE; P7Y)</td><td style=\"text-align: left;\">Albinism, oculocutaneous, type IV (OMIM:606574)</td><td style=\"text-align: left;\"><ul> <li>NM_016180.5:c.986del (heterozygous)</li> <li>NM_016180.5:c.1036G>T (heterozygous)</li> </ul></td><td style=\"text-align: left;\">Iris transillumination defect (HP:0012805); White eyelashes (HP:0002227); White eyebrow (HP:0002226); Reduced visual acuity (HP:0007663); Esotropia (HP:0000565); Nystagmus (HP:0000639); Iris hypopigmentation (HP:0007730); Hypopigmentation of hair (HP:0005599); Hypoplasia of the fovea (HP:0007750); excluded: Nevus (HP:0003764)</td></tr>\n",
       "<tr><td style=\"text-align: left;\">P9 (MALE; P16Y)</td><td style=\"text-align: left;\">Albinism, oculocutaneous, type IV (OMIM:606574)</td><td style=\"text-align: left;\">NM_016180.5:c.986del (homozygous)</td><td style=\"text-align: left;\">Melanocytic nevus (HP:0000995); Iris transillumination defect (HP:0012805); White eyelashes (HP:0002227); White eyebrow (HP:0002226); Reduced visual acuity (HP:0007663); Nystagmus (HP:0000639); Iris hypopigmentation (HP:0007730); Hypopigmentation of hair (HP:0005599); Hypoplasia of the fovea (HP:0007750); excluded: Strabismus (HP:0000486)</td></tr>\n",
       "<tr><td style=\"text-align: left;\">P10 (FEMALE; P52Y)</td><td style=\"text-align: left;\">Albinism, oculocutaneous, type IV (OMIM:606574)</td><td style=\"text-align: left;\"><ul> <li>NM_016180.5:c.986del (heterozygous)</li> <li>NM_016180.5:c.1166_1167del (heterozygous)</li> </ul></td><td style=\"text-align: left;\">Iris transillumination defect (HP:0012805); White eyelashes (HP:0002227); White eyebrow (HP:0002226); Reduced visual acuity (HP:0007663); Esotropia (HP:0000565); Nystagmus (HP:0000639); Iris hypopigmentation (HP:0007730); Hypopigmentation of hair (HP:0005599); Hypoplasia of the fovea (HP:0007750); excluded: Nevus (HP:0003764)</td></tr>\n",
       "<tr><td style=\"text-align: left;\">P11 (FEMALE; P50Y)</td><td style=\"text-align: left;\">Albinism, oculocutaneous, type IV (OMIM:606574)</td><td style=\"text-align: left;\"><ul> <li>NM_016180.5:c.986del (heterozygous)</li> <li>NM_016180.5:c.1166_1167del (heterozygous)</li> </ul></td><td style=\"text-align: left;\">Nevus (HP:0003764); Iris transillumination defect (HP:0012805); White eyelashes (HP:0002227); White eyebrow (HP:0002226); Reduced visual acuity (HP:0007663); Nystagmus (HP:0000639); Iris hypopigmentation (HP:0007730); Hypopigmentation of hair (HP:0005599); Hypoplasia of the fovea (HP:0007750); excluded: Strabismus (HP:0000486)</td></tr>\n",
       "<tr><td style=\"text-align: left;\">P12 (MALE; P65Y)</td><td style=\"text-align: left;\">Albinism, oculocutaneous, type IV (OMIM:606574)</td><td style=\"text-align: left;\"><ul> <li>NM_016180.5:c.1273del (heterozygous)</li> <li>NM_016180.5:c.1506del (heterozygous)</li> </ul></td><td style=\"text-align: left;\">Nevus (HP:0003764); Iris transillumination defect (HP:0012805); White eyelashes (HP:0002227); White eyebrow (HP:0002226); Reduced visual acuity (HP:0007663); Esotropia (HP:0000565); Nystagmus (HP:0000639); Iris hypopigmentation (HP:0007730); Hypopigmentation of hair (HP:0005599); Hypoplasia of the fovea (HP:0007750)</td></tr>\n",
       "<tr><td style=\"text-align: left;\">P13 (FEMALE; P62Y)</td><td style=\"text-align: left;\">Albinism, oculocutaneous, type IV (OMIM:606574)</td><td style=\"text-align: left;\"><ul> <li>NM_016180.5:c.1273del (heterozygous)</li> <li>NM_016180.5:c.1506del (heterozygous)</li> </ul></td><td style=\"text-align: left;\">Nevus (HP:0003764); Iris transillumination defect (HP:0012805); White eyelashes (HP:0002227); White eyebrow (HP:0002226); Reduced visual acuity (HP:0007663); Esotropia (HP:0000565); Nystagmus (HP:0000639); Iris hypopigmentation (HP:0007730); Hypopigmentation of hair (HP:0005599); Hypoplasia of the fovea (HP:0007750)</td></tr>\n",
       "<tr><td style=\"text-align: left;\">P14 (FEMALE; P38Y)</td><td style=\"text-align: left;\">Albinism, oculocutaneous, type IV (OMIM:606574)</td><td style=\"text-align: left;\">NM_016180.5:c.147C>G (homozygous)</td><td style=\"text-align: left;\">Nevus (HP:0003764); Iris transillumination defect (HP:0012805); White eyelashes (HP:0002227); White eyebrow (HP:0002226); Reduced visual acuity (HP:0007663); Esotropia (HP:0000565); Nystagmus (HP:0000639); Iris hypopigmentation (HP:0007730); Hypopigmentation of hair (HP:0005599); Hypoplasia of the fovea (HP:0007750)</td></tr>\n",
       "<tr><td style=\"text-align: left;\">P15 (MALE; P42Y)</td><td style=\"text-align: left;\">Albinism, oculocutaneous, type IV (OMIM:606574)</td><td style=\"text-align: left;\"><ul> <li>NM_016180.5:c.986del (heterozygous)</li> <li>NM_016180.5:c.1466T>C (heterozygous)</li> </ul></td><td style=\"text-align: left;\">Nevus (HP:0003764); Iris transillumination defect (HP:0012805); White eyelashes (HP:0002227); White eyebrow (HP:0002226); Reduced visual acuity (HP:0007663); Esotropia (HP:0000565); Nystagmus (HP:0000639); Iris hypopigmentation (HP:0007730); Hypopigmentation of hair (HP:0005599); Hypoplasia of the fovea (HP:0007750)</td></tr>\n",
       "<tr><td style=\"text-align: left;\">P16 (FEMALE; P30Y)</td><td style=\"text-align: left;\">Albinism, oculocutaneous, type IV (OMIM:606574)</td><td style=\"text-align: left;\">NM_016180.5:c.179T>G (homozygous)</td><td style=\"text-align: left;\">Nevus (HP:0003764); Iris transillumination defect (HP:0012805); White eyelashes (HP:0002227); White eyebrow (HP:0002226); Reduced visual acuity (HP:0007663); Astigmatism (HP:0000483); Nystagmus (HP:0000639); Iris hypopigmentation (HP:0007730); Hypopigmentation of hair (HP:0005599); Hypoplasia of the fovea (HP:0007750); excluded: Strabismus (HP:0000486)</td></tr>\n",
       "<tr><td style=\"text-align: left;\">P17 (FEMALE; P42Y)</td><td style=\"text-align: left;\">Albinism, oculocutaneous, type IV (OMIM:606574)</td><td style=\"text-align: left;\"><ul> <li>NM_016180.5:c.986del (heterozygous)</li> <li>NM_016180.5:c.1532C>A (heterozygous)</li> </ul></td><td style=\"text-align: left;\">Melanocytic nevus (HP:0000995); Iris transillumination defect (HP:0012805); White eyelashes (HP:0002227); White eyebrow (HP:0002226); Reduced visual acuity (HP:0007663); Esotropia (HP:0000565); Astigmatism (HP:0000483); Nystagmus (HP:0000639); Iris hypopigmentation (HP:0007730); Hypopigmentation of hair (HP:0005599); Hypoplasia of the fovea (HP:0007750)</td></tr>\n",
       "<tr><td style=\"text-align: left;\">P18 (FEMALE; P66Y)</td><td style=\"text-align: left;\">Albinism, oculocutaneous, type IV (OMIM:606574)</td><td style=\"text-align: left;\">NM_016180.5:c.986del (homozygous)</td><td style=\"text-align: left;\">Nevus (HP:0003764); Iris transillumination defect (HP:0012805); White eyelashes (HP:0002227); White eyebrow (HP:0002226); Reduced visual acuity (HP:0007663); Exotropia (HP:0000577); Astigmatism (HP:0000483); Nystagmus (HP:0000639); Iris hypopigmentation (HP:0007730); Hypopigmentation of hair (HP:0005599); Hypoplasia of the fovea (HP:0007750)</td></tr>\n",
       "<tr><td style=\"text-align: left;\">P19 (MALE; P2Y)</td><td style=\"text-align: left;\">Albinism, oculocutaneous, type IV (OMIM:606574)</td><td style=\"text-align: left;\"><ul> <li>NM_016180.5:c.130G>A (heterozygous)</li> <li>NM_016180.5:c.986del (heterozygous)</li> </ul></td><td style=\"text-align: left;\">Nystagmus (HP:0000639); Iris hypopigmentation (HP:0007730); Hypopigmentation of hair (HP:0005599); White eyebrow (HP:0002226); White eyelashes (HP:0002227); Iris transillumination defect (HP:0012805); excluded: Nevus (HP:0003764); excluded: Strabismus (HP:0000486)</td></tr>\n",
       "<tr><td style=\"text-align: left;\">P20 (FEMALE; P3Y)</td><td style=\"text-align: left;\">Albinism, oculocutaneous, type IV (OMIM:606574)</td><td style=\"text-align: left;\"><ul> <li>NM_016180.5:c.1033-6_1033-3del (heterozygous)</li> <li>NM_016180.5:c.986del (heterozygous)</li> </ul></td><td style=\"text-align: left;\">Nystagmus (HP:0000639); Iris hypopigmentation (HP:0007730); Hypopigmentation of hair (HP:0005599); White eyebrow (HP:0002226); White eyelashes (HP:0002227); Iris transillumination defect (HP:0012805); Hypoplasia of the fovea (HP:0007750); excluded: Nevus (HP:0003764); excluded: Strabismus (HP:0000486)</td></tr>\n",
       "<tr><td style=\"text-align: left;\">P21 (MALE; P11Y)</td><td style=\"text-align: left;\">Albinism, oculocutaneous, type IV (OMIM:606574)</td><td style=\"text-align: left;\"><ul> <li>NM_016180.5:c.533_534dup (heterozygous)</li> <li>NM_016180.5:c.977T>A (heterozygous)</li> </ul></td><td style=\"text-align: left;\">Melanocytic nevus (HP:0000995); White eyelashes (HP:0002227); White eyebrow (HP:0002226); Reduced visual acuity (HP:0007663); Exotropia (HP:0000577); Astigmatism (HP:0000483); Nystagmus (HP:0000639); Iris hypopigmentation (HP:0007730); Hypopigmentation of hair (HP:0005599)</td></tr>\n",
       "<tr><td style=\"text-align: left;\">P22 (MALE; P7Y)</td><td style=\"text-align: left;\">Albinism, oculocutaneous, type IV (OMIM:606574)</td><td style=\"text-align: left;\"><ul> <li>NM_016180.5:c.1045G>A (heterozygous)</li> <li>NM_016180.5:c.1255C>A (heterozygous)</li> </ul></td><td style=\"text-align: left;\">Melanocytic nevus (HP:0000995); Reduced visual acuity (HP:0007663); Esotropia (HP:0000565); Hypermetropia (HP:0000540); Hypopigmentation of hair (HP:0005599); Hypoplasia of the fovea (HP:0007750); excluded: Nystagmus (HP:0000639); excluded: Iris hypopigmentation (HP:0007730); excluded: White eyebrow (HP:0002226); excluded: Iris transillumination defect (HP:0012805)</td></tr>\n",
       "<tr><td style=\"text-align: left;\">P23 (MALE; P3Y)</td><td style=\"text-align: left;\">Albinism, oculocutaneous, type IV (OMIM:606574)</td><td style=\"text-align: left;\"><ul> <li>NM_016180.5:c.1166_1167del (heterozygous)</li> <li>NM_016180.5:c.1471G>A (heterozygous)</li> </ul></td><td style=\"text-align: left;\">Melanocytic nevus (HP:0000995); Iris transillumination defect (HP:0012805); White eyelashes (HP:0002227); White eyebrow (HP:0002226); Reduced visual acuity (HP:0007663); Astigmatism (HP:0000483); Nystagmus (HP:0000639); Iris hypopigmentation (HP:0007730); Hypopigmentation of hair (HP:0005599); Hypoplasia of the fovea (HP:0007750); excluded: Strabismus (HP:0000486)</td></tr>\n",
       "<tr><td style=\"text-align: left;\">P24 (FEMALE; P10Y)</td><td style=\"text-align: left;\">Albinism, oculocutaneous, type IV (OMIM:606574)</td><td style=\"text-align: left;\"><ul> <li>Deletion exons 1-4: chromosomal_deletion (SO:1000029)</li> <li>NM_016180.5:c.1518C>T (heterozygous)</li> </ul></td><td style=\"text-align: left;\">Iris transillumination defect (HP:0012805); White eyelashes (HP:0002227); White eyebrow (HP:0002226); Reduced visual acuity (HP:0007663); Hypermetropia (HP:0000540); Nystagmus (HP:0000639); Iris hypopigmentation (HP:0007730); Hypopigmentation of hair (HP:0005599); excluded: Nevus (HP:0003764); excluded: Strabismus (HP:0000486)</td></tr>\n",
       "<tr><td style=\"text-align: left;\">P25 (FEMALE; P50Y)</td><td style=\"text-align: left;\">Albinism, oculocutaneous, type IV (OMIM:606574)</td><td style=\"text-align: left;\"><ul> <li>NM_016180.5:c.606G>C (heterozygous)</li> <li>NM_016180.5:c.1532C>A (heterozygous)</li> </ul></td><td style=\"text-align: left;\">Nevus (HP:0003764); Iris transillumination defect (HP:0012805); White eyelashes (HP:0002227); White eyebrow (HP:0002226); Reduced visual acuity (HP:0007663); Nystagmus (HP:0000639); Iris hypopigmentation (HP:0007730); Hypopigmentation of hair (HP:0005599); Hypoplasia of the fovea (HP:0007750); excluded: Strabismus (HP:0000486)</td></tr>\n",
       "<tr><td style=\"text-align: left;\">P26 (FEMALE; P30Y)</td><td style=\"text-align: left;\">Albinism, oculocutaneous, type IV (OMIM:606574)</td><td style=\"text-align: left;\"><ul> <li>NM_016180.5:c.258del (heterozygous)</li> <li>NM_016180.5:c.950A>G (heterozygous)</li> </ul></td><td style=\"text-align: left;\">Melanocytic nevus (HP:0000995); White eyelashes (HP:0002227); White eyebrow (HP:0002226); Reduced visual acuity (HP:0007663); Astigmatism (HP:0000483); Nystagmus (HP:0000639); Iris hypopigmentation (HP:0007730); Hypopigmentation of hair (HP:0005599); Hypoplasia of the fovea (HP:0007750); excluded: Strabismus (HP:0000486); excluded: Iris transillumination defect (HP:0012805)</td></tr>\n",
       "<tr><td style=\"text-align: left;\">P27 (FEMALE; P27Y)</td><td style=\"text-align: left;\">Albinism, oculocutaneous, type IV (OMIM:606574)</td><td style=\"text-align: left;\"><ul> <li>NM_016180.5:c.258del (heterozygous)</li> <li>NM_016180.5:c.950A>G (heterozygous)</li> </ul></td><td style=\"text-align: left;\">Melanocytic nevus (HP:0000995); White eyelashes (HP:0002227); White eyebrow (HP:0002226); Reduced visual acuity (HP:0007663); Hypermetropia (HP:0000540); Nystagmus (HP:0000639); Iris hypopigmentation (HP:0007730); Hypopigmentation of hair (HP:0005599); Hypoplasia of the fovea (HP:0007750); excluded: Strabismus (HP:0000486); excluded: Iris transillumination defect (HP:0012805)</td></tr>\n",
       "<tr><td style=\"text-align: left;\">P28 (FEMALE; P4Y)</td><td style=\"text-align: left;\">Albinism, oculocutaneous, type IV (OMIM:606574)</td><td style=\"text-align: left;\"><ul> <li>NM_016180.5:c.953G>A (heterozygous)</li> <li>NM_016180.5:c.1518C>T (heterozygous)</li> </ul></td><td style=\"text-align: left;\">Iris hypopigmentation (HP:0007730); Hypopigmentation of hair (HP:0005599); White eyebrow (HP:0002226); White eyelashes (HP:0002227); Astigmatism (HP:0000483); Hypoplasia of the fovea (HP:0007750); excluded: Nystagmus (HP:0000639); excluded: Nevus (HP:0003764); excluded: Strabismus (HP:0000486); excluded: Iris transillumination defect (HP:0012805)</td></tr>\n",
       "<tr><td style=\"text-align: left;\">P29 (FEMALE; P41Y)</td><td style=\"text-align: left;\">Albinism, oculocutaneous, type IV (OMIM:606574)</td><td style=\"text-align: left;\">NM_016180.5:c.1532C>T (homozygous)</td><td style=\"text-align: left;\">Melanocytic nevus (HP:0000995); Myopia (HP:0000545); Iris transillumination defect (HP:0012805); White eyelashes (HP:0002227); White eyebrow (HP:0002226); Reduced visual acuity (HP:0007663); Exotropia (HP:0000577); Nystagmus (HP:0000639); Hypopigmentation of hair (HP:0005599); Hypoplasia of the fovea (HP:0007750); excluded: Iris hypopigmentation (HP:0007730)</td></tr>\n",
       "<tr><td style=\"text-align: left;\">P30 (MALE; P30Y)</td><td style=\"text-align: left;\">Albinism, oculocutaneous, type IV (OMIM:606574)</td><td style=\"text-align: left;\"><ul> <li>NM_016180.5:c.806G>A (heterozygous)</li> <li>NM_016180.5:c.1471G>A (heterozygous)</li> </ul></td><td style=\"text-align: left;\">Melanocytic nevus (HP:0000995); Iris transillumination defect (HP:0012805); White eyelashes (HP:0002227); White eyebrow (HP:0002226); Reduced visual acuity (HP:0007663); Hypermetropia (HP:0000540); Nystagmus (HP:0000639); Iris hypopigmentation (HP:0007730); Hypopigmentation of hair (HP:0005599); excluded: Strabismus (HP:0000486)</td></tr>\n",
       "</table>"
      ],
      "text/plain": [
       "<IPython.core.display.HTML object>"
      ]
     },
     "metadata": {},
     "output_type": "display_data"
    }
   ],
   "source": [
    "individuals = cvalidator.get_error_free_individual_list()\n",
    "table = PhenopacketTable(individual_list=individuals, metadata=metadata)\n",
    "display(HTML(table.to_html()))"
   ]
  },
  {
   "cell_type": "code",
   "execution_count": 31,
   "id": "97d4d962",
   "metadata": {},
   "outputs": [
    {
     "name": "stdout",
     "output_type": "stream",
     "text": [
      "We output 30 GA4GH phenopackets to the directory phenopackets\n"
     ]
    }
   ],
   "source": [
    "output_dir = \"phenopackets\"\n",
    "Individual.output_individuals_as_phenopackets(individual_list=individuals,\n",
    "                                             metadata=metadata,\n",
    "                                             outdir=output_dir)"
   ]
  },
  {
   "cell_type": "code",
   "execution_count": null,
   "id": "3131ed60-faa6-46ab-904e-b280e4b35221",
   "metadata": {},
   "outputs": [],
   "source": []
  }
 ],
 "metadata": {
  "kernelspec": {
   "display_name": "Python 3 (ipykernel)",
   "language": "python",
   "name": "python3"
  },
  "language_info": {
   "codemirror_mode": {
    "name": "ipython",
    "version": 3
   },
   "file_extension": ".py",
   "mimetype": "text/x-python",
   "name": "python",
   "nbconvert_exporter": "python",
   "pygments_lexer": "ipython3",
   "version": "3.8.10"
  }
 },
 "nbformat": 4,
 "nbformat_minor": 5
}
