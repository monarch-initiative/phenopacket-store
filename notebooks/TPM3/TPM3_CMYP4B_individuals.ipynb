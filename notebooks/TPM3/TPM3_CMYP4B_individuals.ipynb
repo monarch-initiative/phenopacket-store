{
 "cells": [
  {
   "cell_type": "markdown",
   "metadata": {},
   "source": [
    "# TPM3\n",
    "[autosomal recessive congenital myopathy-4B (CMYP4B)](https://omim.org/entry/609284) is caused by homozygous or compound heterozygous mutation in the alpha-tropomyosin-3 gene (TPM3)."
   ]
  },
  {
   "cell_type": "code",
   "execution_count": 3,
   "metadata": {},
   "outputs": [
    {
     "name": "stdout",
     "output_type": "stream",
     "text": [
      "Using pyphetools version 0.9.91\n"
     ]
    }
   ],
   "source": [
    "from pyphetools.creation import TemplateImporter\n",
    "from pyphetools.visualization import IndividualTable, QcVisualizer\n",
    "from IPython.display import display, HTML\n",
    "import pyphetools\n",
    "print(f\"Using pyphetools version {pyphetools.__version__}\")"
   ]
  },
  {
   "cell_type": "code",
   "execution_count": 4,
   "metadata": {},
   "outputs": [],
   "source": [
    "template = \"input/TPM3_CMYP4B_individuals.xlsx\"\n",
    "created_by = \"0000-0002-0736-9199\""
   ]
  },
  {
   "cell_type": "code",
   "execution_count": 9,
   "metadata": {},
   "outputs": [
    {
     "name": "stdout",
     "output_type": "stream",
     "text": [
      "HPO version 2024-04-26\n",
      "Created encoders for 62 fields\n",
      "Importing OMIM:609284, Congenital myopathy 4B, autosomal recessive, HGNC:12012, TPM3,  NM_152263.4\n",
      "We output 1 GA4GH phenopackets to the directory phenopackets\n"
     ]
    }
   ],
   "source": [
    "timporter = TemplateImporter(template=template,  created_by=created_by)\n",
    "individual_list, cvalidator = timporter.import_phenopackets_from_template()"
   ]
  },
  {
   "cell_type": "code",
   "execution_count": 10,
   "metadata": {},
   "outputs": [
    {
     "data": {
      "text/html": [
       "<h2>Cohort validation</h2>\n",
       "<p>No errors found for the cohort with 1 individuals</p>"
      ],
      "text/plain": [
       "<IPython.core.display.HTML object>"
      ]
     },
     "metadata": {},
     "output_type": "display_data"
    }
   ],
   "source": [
    "qc = QcVisualizer(cohort_validator=cvalidator)\n",
    "display(HTML(qc.to_summary_html()))"
   ]
  },
  {
   "cell_type": "code",
   "execution_count": 11,
   "metadata": {},
   "outputs": [
    {
     "data": {
      "text/html": [
       "<table style=\"border: 2px solid black; align: \"left\">\n",
       "<caption>1 phenopacket - PMID:24239060 (n=1)</caption>\n",
       "<tr><th style=\"text-align: left;font-weight: bold;\">Individual</th><th style=\"text-align: left;font-weight: bold;\">Disease</th><th style=\"text-align: left;font-weight: bold;\">Genotype</th><th style=\"text-align: left;font-weight: bold;\">Phenotypic features</th></tr>\n",
       "<tr><td style=\"text-align: left;\">index patient II.2 (FEMALE; P45Y)</td><td style=\"text-align: left;\">Congenital myopathy 4B, autosomal recessive (OMIM:609284)</td><td style=\"text-align: left;\">NM_152263.4:c.445C>A (heterozygous)</td><td style=\"text-align: left;\"><b>P13Y</b>: Scoliosis (HP:0002650)<br/><b>P45Y</b>: Neck muscle weakness (HP:0000467); Scapular winging (HP:0003691); Micrognathia (HP:0000347); Narrow face (HP:0000275); High palate (HP:0000218); Long face (HP:0000276); Hyporeflexia (HP:0001265); Impaired heel-walking ability (HP:6000490); Difficulty running (HP:0009046); Difficulty climbing stairs (HP:0003551); Waddling gait (HP:0002515); Distal lower limb muscle weakness (HP:0009053); Type 1 muscle fiber predominance (HP:0003803); Fatty replacement of skeletal muscle (HP:0012548)<br/>Motor delay (HP:0001270); Frequent falls (HP:0002359); Proximal muscle weakness (HP:0003701); excluded: Impaired toe-walking ability (HP:0034052); excluded: Dysarthria (HP:0001260); excluded: Myoglobinuria (HP:0002913); excluded: Diplopia (HP:0000651); excluded: Myalgia (HP:0003326); excluded: Ptosis (HP:0000508); excluded: Weakness of facial musculature (HP:0030319); excluded: Ophthalmoparesis (HP:0000597); excluded: Impaired vibratory sensation (HP:0002495); excluded: Impaired tactile sensation (HP:0010830); excluded: Gowers sign (HP:0003391); excluded: Increased endomysial connective tissue (HP:0100297); excluded: Abnormal circulating creatine kinase concentration (HP:0040081)</td></tr>\n",
       "</table>"
      ],
      "text/plain": [
       "<IPython.core.display.HTML object>"
      ]
     },
     "metadata": {},
     "output_type": "display_data"
    }
   ],
   "source": [
    "table = IndividualTable(cvalidator.get_error_free_individual_list())\n",
    "display(HTML(table.to_html()))"
   ]
  }
 ],
 "metadata": {
  "kernelspec": {
   "display_name": "ps24venv",
   "language": "python",
   "name": "python3"
  },
  "language_info": {
   "codemirror_mode": {
    "name": "ipython",
    "version": 3
   },
   "file_extension": ".py",
   "mimetype": "text/x-python",
   "name": "python",
   "nbconvert_exporter": "python",
   "pygments_lexer": "ipython3",
   "version": "3.9.6"
  }
 },
 "nbformat": 4,
 "nbformat_minor": 2
}
