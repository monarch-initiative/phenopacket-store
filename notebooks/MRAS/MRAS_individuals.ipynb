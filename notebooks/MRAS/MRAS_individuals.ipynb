{
 "cells": [
  {
   "cell_type": "markdown",
   "metadata": {},
   "source": [
    "# MRAS -  Noonan syndrome 11\n",
    "\n",
    "Variants in MRAS are associated with [Noonan syndrome 11](https://omim.org/entry/618499)."
   ]
  },
  {
   "cell_type": "code",
   "execution_count": 2,
   "metadata": {},
   "outputs": [],
   "source": [
    "from pyphetools.creation import TemplateImporter"
   ]
  },
  {
   "cell_type": "code",
   "execution_count": 3,
   "metadata": {},
   "outputs": [],
   "source": [
    "timporter = TemplateImporter(\n",
    "    template=\"input/OMIM_618499_individuals.xlsx\",\n",
    "    hp_json=\"../hp.json\",\n",
    "    created_by=\"ORCID:0000-0001-5535-2845\")"
   ]
  },
  {
   "cell_type": "code",
   "execution_count": 4,
   "metadata": {},
   "outputs": [
    {
     "name": "stdout",
     "output_type": "stream",
     "text": [
      "HPO version 2024-03-06\n",
      "Created encoders for 40 fields\n",
      "Importing OMIM:618499, Noonan syndrome-11, HGNC:7227, MRAS,  NM_001085049.3\n",
      "[INFO] encoding variant \"c.203C>T\"\n",
      "https://rest.variantvalidator.org/VariantValidator/variantvalidator/hg38/NM_001085049.3%3Ac.203C>T/NM_001085049.3?content-type=application%2Fjson\n",
      "[INFO] encoding variant \"c.212A>G\"\n",
      "https://rest.variantvalidator.org/VariantValidator/variantvalidator/hg38/NM_001085049.3%3Ac.212A>G/NM_001085049.3?content-type=application%2Fjson\n",
      "[INFO] encoding variant \"c.68G>T\"\n",
      "https://rest.variantvalidator.org/VariantValidator/variantvalidator/hg38/NM_001085049.3%3Ac.68G>T/NM_001085049.3?content-type=application%2Fjson\n",
      "We output 3 GA4GH phenopackets to the directory phenopackets\n"
     ]
    }
   ],
   "source": [
    "individuals, cvalidator = timporter.import_phenopackets_from_template()"
   ]
  },
  {
   "cell_type": "markdown",
   "metadata": {},
   "source": [
    "### Quality control and summary for each phenopacket"
   ]
  },
  {
   "cell_type": "code",
   "execution_count": 5,
   "metadata": {},
   "outputs": [],
   "source": [
    "from pyphetools.visualization import IndividualTable, QcVisualizer\n",
    "qc = QcVisualizer(cohort_validator=cvalidator)\n",
    "from IPython.display import display, HTML"
   ]
  },
  {
   "cell_type": "code",
   "execution_count": 6,
   "metadata": {},
   "outputs": [
    {
     "data": {
      "text/html": [
       "<h2>Cohort validation</h2>\n",
       "<p>No errors found for the cohort with 3 individuals</p>"
      ],
      "text/plain": [
       "<IPython.core.display.HTML object>"
      ]
     },
     "metadata": {},
     "output_type": "display_data"
    }
   ],
   "source": [
    "# Display quality assessment data\n",
    "display(HTML(qc.to_summary_html()))"
   ]
  },
  {
   "cell_type": "code",
   "execution_count": 7,
   "metadata": {},
   "outputs": [
    {
     "data": {
      "text/html": [
       "<table style=\"border: 2px solid black; align: \"left\">\n",
       "<caption>3 phenopackets - PMID:28289718 (n=2); PMID:31173466 (n=1)</caption>\n",
       "<tr><th style=\"text-align: left;font-weight: bold;\">Individual</th><th style=\"text-align: left;font-weight: bold;\">Disease</th><th style=\"text-align: left;font-weight: bold;\">Genotype</th><th style=\"text-align: left;font-weight: bold;\">Phenotypic features</th></tr>\n",
       "<tr><td style=\"text-align: left;\">Higgins-Patient-1 (FEMALE; P17Y)</td><td style=\"text-align: left;\">Noonan syndrome-11 (OMIM:618499)</td><td style=\"text-align: left;\">NM_001085049.3:c.68G>T (heterozygous)</td><td style=\"text-align: left;\">Ventricular hypertrophy (HP:0001714); Heart murmur (HP:0030148); Hypertrophic cardiomyopathy (HP:0001639); Short stature (HP:0004322); Hypertelorism (HP:0000316); Low-set ears (HP:0000369); Posteriorly rotated ears (HP:0000358); Global developmental delay (HP:0001263); Cognitive impairment (HP:0100543); excluded: Cardiac arrest (HP:0001695)</td></tr>\n",
       "<tr><td style=\"text-align: left;\">Higgins-Patient-2 (FEMALE; P6Y)</td><td style=\"text-align: left;\">Noonan syndrome-11 (OMIM:618499)</td><td style=\"text-align: left;\">NM_001085049.3:c.203C>T (heterozygous)</td><td style=\"text-align: left;\">Ventricular hypertrophy (HP:0001714); Hypertelorism (HP:0000316); Low-set ears (HP:0000369); Posteriorly rotated ears (HP:0000358); Global developmental delay (HP:0001263); Cognitive impairment (HP:0100543); Pectus excavatum (HP:0000767); Excessive wrinkling of palmar skin (HP:0007605); Joint hypermobility (HP:0001382); Ptosis (HP:0000508); Hypotonia (HP:0001252); Pulmonic stenosis (HP:0001642); Atrial septal defect (HP:0001631); excluded: Cardiac arrest (HP:0001695)</td></tr>\n",
       "<tr><td style=\"text-align: left;\">Suzuki-Patient-1 (MALE; P6Y)</td><td style=\"text-align: left;\">Noonan syndrome-11 (OMIM:618499)</td><td style=\"text-align: left;\">NM_001085049.3:c.212A>G (heterozygous)</td><td style=\"text-align: left;\">Ventricular hypertrophy (HP:0001714); Hypertrophic cardiomyopathy (HP:0001639); Short stature (HP:0004322); Hypertelorism (HP:0000316); Low-set ears (HP:0000369); Global developmental delay (HP:0001263); Cognitive impairment (HP:0100543); Cardiac arrest (HP:0001695); Bilateral sensorineural hearing impairment (HP:0008619); Downslanted palpebral fissures (HP:0000494); Depressed nasal bridge (HP:0005280); Bulbous nose (HP:0000414); Large earlobe (HP:0009748); Thick vermilion border (HP:0012471)</td></tr>\n",
       "</table>"
      ],
      "text/plain": [
       "<IPython.core.display.HTML object>"
      ]
     },
     "metadata": {},
     "output_type": "display_data"
    }
   ],
   "source": [
    "# Display summary of each phenopacket\n",
    "table = IndividualTable(cvalidator.get_error_free_individual_list())\n",
    "display(HTML(table.to_html()))"
   ]
  },
  {
   "cell_type": "code",
   "execution_count": 9,
   "metadata": {},
   "outputs": [
    {
     "name": "stdout",
     "output_type": "stream",
     "text": [
      "[pyphetools] Ingested 3 GA4GH phenopackets.\n",
      "\tNoonan syndrome-11 (OMIM:618499): n=3\n",
      "We found a total of 23 unique HPO terms\n",
      "Extracted disease: Noonan syndrome-11 (OMIM:618499)\n",
      "Wrote HPOA disease file to OMIM-618499.tab\n"
     ]
    }
   ],
   "source": [
    "pmid = \"PMID:28289718\"\n",
    "df = timporter.create_hpoa_from_phenopackets(pmid=pmid, moi=\"Autosomal dominant\")"
   ]
  },
  {
   "cell_type": "code",
   "execution_count": null,
   "metadata": {},
   "outputs": [],
   "source": []
  }
 ],
 "metadata": {
  "kernelspec": {
   "display_name": "Python 3 (ipykernel)",
   "language": "python",
   "name": "python3"
  },
  "language_info": {
   "codemirror_mode": {
    "name": "ipython",
    "version": 3
   },
   "file_extension": ".py",
   "mimetype": "text/x-python",
   "name": "python",
   "nbconvert_exporter": "python",
   "pygments_lexer": "ipython3",
   "version": "3.8.10"
  }
 },
 "nbformat": 4,
 "nbformat_minor": 4
}
