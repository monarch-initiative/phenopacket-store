{
 "cells": [
  {
   "cell_type": "markdown",
   "metadata": {},
   "source": [
    "# MRAS -  Noonan syndrome 11\n",
    "\n",
    "* Based on OMIM entry: https://omim.org/entry/618499\n",
    "\n",
    "* Number of individuals: 3\n",
    "\n",
    "* Number of publications/reports: 2"
   ]
  },
  {
   "cell_type": "markdown",
   "metadata": {},
   "source": [
    "If you are using `pyphetools` for the first time, first create a Python virtual environment (e.g. in the root of this repository) and a Jupyter kernel by running the following commands:"
   ]
  },
  {
   "cell_type": "code",
   "execution_count": 1,
   "metadata": {},
   "outputs": [],
   "source": [
    "#python3 -m venv pyphetools_venv\n",
    "#source pyphetools_venv/bin/activate\n",
    "#pip install --upgrade pip\n",
    "#pip install pyphetools jupyter ipykernel setuptools\n",
    "#python -m ipykernel install --name pyphetools_venv --user"
   ]
  },
  {
   "cell_type": "markdown",
   "metadata": {},
   "source": [
    "Make sure to choose the kernel called `pyphetools_venv` in notebooks."
   ]
  },
  {
   "cell_type": "markdown",
   "metadata": {},
   "source": [
    "Download latest HPO version from here: https://hpo.jax.org/app/data/ontology\n",
    "\n",
    "Place the downloaded `hp.json` file in the root directory of this repository."
   ]
  },
  {
   "cell_type": "code",
   "execution_count": 2,
   "metadata": {},
   "outputs": [],
   "source": [
    "from pyphetools.creation import TemplateCreator"
   ]
  },
  {
   "cell_type": "code",
   "execution_count": 3,
   "metadata": {},
   "outputs": [],
   "source": [
    "tcreator = TemplateCreator(hp_json=\"../hp.json\")"
   ]
  },
  {
   "cell_type": "markdown",
   "metadata": {},
   "source": [
    "The `add_seed_terms()` function is passed a string describing patient phenotypes in natural language. The function automatically extracts corresponding HPO terms and saves them in the TemplateCreator object. The Excel template that will be exported later contains one column for each extracted HPO term.\n",
    "\n",
    "The texts from the *Clinical Features* section of OMIM entries are well suited for this purpose. But the string that is passed to the function can also contain additional suitable text fragments, for example from the underlying publications. The syntactic structure of the string does not matter."
   ]
  },
  {
   "cell_type": "code",
   "execution_count": 4,
   "metadata": {},
   "outputs": [],
   "source": [
    "tcreator.add_seed_terms(\"\"\"\n",
    "Higgins et al. (2017) reported 2 patients with a clinical diagnosis of Noonan syndrome with concomitant cardiac hypertrophy who were negative for mutations in known Noonan syndrome genes. The first was a 15-year-old girl who presented in infancy with biventricular hypertrophic cardiomyopathy and required surgical myectomy for biventricular outflow tract obstruction at age 8. She had short stature, hypertelorism, and mildly posteriorly rotated ears. She had a static pattern of global developmental delay and cognitive disability. Her parents were unaffected, and there was no family history of Noonan syndrome or related disorders. The second patient was a 6-year-old girl with low-set and posteriorly rotated ears, mild pectus excavatum, wrinkled palms, hyperextensible small joints, ptosis, and hypotonia. In addition, she had cardiac hypertrophy, pulmonary valve stenosis, and atrial septal defect. She had moderate developmental delay, with walking at 2.5 years and first words at age 4, and was not fully toilet trained at 6 years. \n",
    "Suzuki et al. (2019) reported a 2-year-old boy with Noonan syndrome who was born by forceps delivery at 37 weeks to nonconsanguineous Japanese parents. He presented with cyanosis, tachycardia, and excessive sweating after crying, and was diagnosed with cardiac hypertrophy. His course was complicated by cardiac arrest, necessitating tracheostomy and long-term ventilation. At 4 months of age, he had feeding difficulty and was diagnosed with bilateral sensorineural hearing loss. At 32 months, he could sit alone for brief periods but could not stand. He did not use sign language. At 15 months, his height was -3.0 SD, but OFC was -1.5 SD, demonstrating relative macrocephaly. He had downslanting palpebral fissures, hypertelorism, depressed nasal bridge, bulbous nasal tip, low-set ears with thick lobes, and full lips.\n",
    "\"\"\")"
   ]
  },
  {
   "cell_type": "markdown",
   "metadata": {},
   "source": [
    "After the HPO terms have been extracted, an Excel template can be created. Information about the disease, gene and transcripts must be provided."
   ]
  },
  {
   "cell_type": "code",
   "execution_count": 5,
   "metadata": {},
   "outputs": [
    {
     "name": "stdout",
     "output_type": "stream",
     "text": [
      "[INFO] Add 22 HPO terms to template.\n",
      "Write excel pyphetools template file to OMIM_618499_individuals.xlsx\n"
     ]
    }
   ],
   "source": [
    "tcreator.create_template(disease_id=\"OMIM:618499\",\n",
    "                         disease_label=\"Noonan syndrome-11\",\n",
    "                         gene_symbol=\"MRAS\",\n",
    "                         HGNC_id=\"HGNC:7227\",\n",
    "                         transcript=\"NM_001085049.2\")"
   ]
  },
  {
   "cell_type": "markdown",
   "metadata": {},
   "source": [
    "This template must be completed and adapted in the following, which represents the actual curation work. To protect this work from being accidentally overwritten, create an `input` folder and move the template there.\n",
    "\n",
    "Documentation for curation can be found here:\n",
    "\n",
    "* https://monarch-initiative.github.io/pyphetools/user-guide/tips_for_curation/\n",
    "* https://monarch-initiative.github.io/pyphetools/user-guide/variant_notation/"
   ]
  },
  {
   "cell_type": "code",
   "execution_count": 6,
   "metadata": {},
   "outputs": [],
   "source": [
    "from pyphetools.creation import TemplateImporter"
   ]
  },
  {
   "cell_type": "code",
   "execution_count": 7,
   "metadata": {},
   "outputs": [],
   "source": [
    "timporter = TemplateImporter(\n",
    "    template=\"input/OMIM_618499_individuals.xlsx\",\n",
    "    hp_json=\"../hp.json\",\n",
    "    created_by=\"ORCID:0000-0001-5535-2845\")"
   ]
  },
  {
   "cell_type": "code",
   "execution_count": 8,
   "metadata": {},
   "outputs": [
    {
     "name": "stdout",
     "output_type": "stream",
     "text": [
      "HPO version 2024-03-06\n",
      "Created encoders for 40 fields\n",
      "Importing OMIM:618499, Noonan syndrome-11, HGNC:7227, MRAS,  NM_001085049.3\n",
      "We output 3 GA4GH phenopackets to the directory phenopackets\n"
     ]
    }
   ],
   "source": [
    "individuals, cvalidator = timporter.import_phenopackets_from_template()"
   ]
  },
  {
   "cell_type": "markdown",
   "metadata": {},
   "source": [
    "### Quality control and summary for each phenopacket"
   ]
  },
  {
   "cell_type": "code",
   "execution_count": 9,
   "metadata": {},
   "outputs": [],
   "source": [
    "from pyphetools.visualization import IndividualTable, QcVisualizer\n",
    "qc = QcVisualizer(cohort_validator=cvalidator)\n",
    "from IPython.display import display, HTML"
   ]
  },
  {
   "cell_type": "code",
   "execution_count": 10,
   "metadata": {},
   "outputs": [
    {
     "data": {
      "text/html": [
       "<h2>Cohort validation</h2>\n",
       "<p>No errors found for the cohort with 3 individuals</p>"
      ],
      "text/plain": [
       "<IPython.core.display.HTML object>"
      ]
     },
     "metadata": {},
     "output_type": "display_data"
    }
   ],
   "source": [
    "# Display quality assessment data\n",
    "display(HTML(qc.to_summary_html()))"
   ]
  },
  {
   "cell_type": "code",
   "execution_count": 11,
   "metadata": {},
   "outputs": [
    {
     "data": {
      "text/html": [
       "<table style=\"border: 2px solid black; align: \"left\">\n",
       "<caption>3 phenopackets - PMID:28289718 (n=2); PMID:31173466 (n=1)</caption>\n",
       "<tr><th style=\"text-align: left;font-weight: bold;\">Individual</th><th style=\"text-align: left;font-weight: bold;\">Disease</th><th style=\"text-align: left;font-weight: bold;\">Genotype</th><th style=\"text-align: left;font-weight: bold;\">Phenotypic features</th></tr>\n",
       "<tr><td style=\"text-align: left;\">Higgins-Patient-1 (FEMALE; P17Y)</td><td style=\"text-align: left;\">Noonan syndrome-11 (OMIM:618499)</td><td style=\"text-align: left;\">NM_001085049.3:c.68G>T (heterozygous)</td><td style=\"text-align: left;\">Ventricular hypertrophy (HP:0001714); Heart murmur (HP:0030148); Hypertrophic cardiomyopathy (HP:0001639); Short stature (HP:0004322); Hypertelorism (HP:0000316); Low-set ears (HP:0000369); Posteriorly rotated ears (HP:0000358); Global developmental delay (HP:0001263); Cognitive impairment (HP:0100543); excluded: Cardiac arrest (HP:0001695)</td></tr>\n",
       "<tr><td style=\"text-align: left;\">Higgins-Patient-2 (FEMALE; P6Y)</td><td style=\"text-align: left;\">Noonan syndrome-11 (OMIM:618499)</td><td style=\"text-align: left;\">NM_001085049.3:c.203C>T (heterozygous)</td><td style=\"text-align: left;\">Ventricular hypertrophy (HP:0001714); Hypertelorism (HP:0000316); Low-set ears (HP:0000369); Posteriorly rotated ears (HP:0000358); Global developmental delay (HP:0001263); Cognitive impairment (HP:0100543); Pectus excavatum (HP:0000767); Excessive wrinkling of palmar skin (HP:0007605); Joint hypermobility (HP:0001382); Ptosis (HP:0000508); Hypotonia (HP:0001252); Pulmonic stenosis (HP:0001642); Atrial septal defect (HP:0001631); excluded: Cardiac arrest (HP:0001695)</td></tr>\n",
       "<tr><td style=\"text-align: left;\">Suzuki-Patient-1 (MALE; P6Y)</td><td style=\"text-align: left;\">Noonan syndrome-11 (OMIM:618499)</td><td style=\"text-align: left;\">NM_001085049.3:c.212A>G (heterozygous)</td><td style=\"text-align: left;\">Ventricular hypertrophy (HP:0001714); Hypertrophic cardiomyopathy (HP:0001639); Short stature (HP:0004322); Hypertelorism (HP:0000316); Low-set ears (HP:0000369); Global developmental delay (HP:0001263); Cognitive impairment (HP:0100543); Cardiac arrest (HP:0001695); Bilateral sensorineural hearing impairment (HP:0008619); Downslanted palpebral fissures (HP:0000494); Depressed nasal bridge (HP:0005280); Bulbous nose (HP:0000414); Large earlobe (HP:0009748); Thick vermilion border (HP:0012471)</td></tr>\n",
       "</table>"
      ],
      "text/plain": [
       "<IPython.core.display.HTML object>"
      ]
     },
     "metadata": {},
     "output_type": "display_data"
    }
   ],
   "source": [
    "# Display summary of each phenopacket\n",
    "table = IndividualTable(cvalidator.get_error_free_individual_list())\n",
    "display(HTML(table.to_html()))"
   ]
  },
  {
   "cell_type": "markdown",
   "metadata": {},
   "source": [
    "## Creation of additional Excel templates for testing purposes."
   ]
  },
  {
   "cell_type": "markdown",
   "metadata": {},
   "source": [
    "### For OMIM *Clinical features* text of Higgins report only"
   ]
  },
  {
   "cell_type": "code",
   "execution_count": 12,
   "metadata": {},
   "outputs": [],
   "source": [
    "tcreator_higgins = TemplateCreator(hp_json=\"../hp.json\")"
   ]
  },
  {
   "cell_type": "code",
   "execution_count": 13,
   "metadata": {},
   "outputs": [],
   "source": [
    "tcreator_higgins.add_seed_terms(\"\"\"\n",
    "Higgins et al. (2017) reported 2 patients with a clinical diagnosis of Noonan syndrome with concomitant cardiac hypertrophy who were negative for mutations in known Noonan syndrome genes. The first was a 15-year-old girl who presented in infancy with biventricular hypertrophic cardiomyopathy and required surgical myectomy for biventricular outflow tract obstruction at age 8. She had short stature, hypertelorism, and mildly posteriorly rotated ears. She had a static pattern of global developmental delay and cognitive disability. Her parents were unaffected, and there was no family history of Noonan syndrome or related disorders. The second patient was a 6-year-old girl with low-set and posteriorly rotated ears, mild pectus excavatum, wrinkled palms, hyperextensible small joints, ptosis, and hypotonia. In addition, she had cardiac hypertrophy, pulmonary valve stenosis, and atrial septal defect. She had moderate developmental delay, with walking at 2.5 years and first words at age 4, and was not fully toilet trained at 6 years. \n",
    "\"\"\")"
   ]
  },
  {
   "cell_type": "code",
   "execution_count": 14,
   "metadata": {},
   "outputs": [
    {
     "name": "stdout",
     "output_type": "stream",
     "text": [
      "[INFO] Add 10 HPO terms to template.\n",
      "Write excel pyphetools template file to OMIM_618499_Higgins_individuals.xlsx\n"
     ]
    }
   ],
   "source": [
    "tcreator_higgins.create_template(disease_id=\"OMIM:618499_Higgins\",\n",
    "                         disease_label=\"Noonan syndrome-11\",\n",
    "                         gene_symbol=\"MRAS\",\n",
    "                         HGNC_id=\"HGNC:7227\",\n",
    "                         transcript=\"NM_001085049.2\")"
   ]
  },
  {
   "cell_type": "markdown",
   "metadata": {},
   "source": [
    "### For OMIM *Clinical features* text of Suzuki report only"
   ]
  },
  {
   "cell_type": "code",
   "execution_count": 15,
   "metadata": {},
   "outputs": [],
   "source": [
    "tcreator_suzuki = TemplateCreator(hp_json=\"../hp.json\")"
   ]
  },
  {
   "cell_type": "code",
   "execution_count": 16,
   "metadata": {},
   "outputs": [],
   "source": [
    "tcreator_suzuki.add_seed_terms(\"\"\"\n",
    "Suzuki et al. (2019) reported a 2-year-old boy with Noonan syndrome who was born by forceps delivery at 37 weeks to nonconsanguineous Japanese parents. He presented with cyanosis, tachycardia, and excessive sweating after crying, and was diagnosed with cardiac hypertrophy. His course was complicated by cardiac arrest, necessitating tracheostomy and long-term ventilation. At 4 months of age, he had feeding difficulty and was diagnosed with bilateral sensorineural hearing loss. At 32 months, he could sit alone for brief periods but could not stand. He did not use sign language. At 15 months, his height was -3.0 SD, but OFC was -1.5 SD, demonstrating relative macrocephaly. He had downslanting palpebral fissures, hypertelorism, depressed nasal bridge, bulbous nasal tip, low-set ears with thick lobes, and full lips.\n",
    "\"\"\")"
   ]
  },
  {
   "cell_type": "code",
   "execution_count": 17,
   "metadata": {},
   "outputs": [
    {
     "name": "stdout",
     "output_type": "stream",
     "text": [
      "[INFO] Add 13 HPO terms to template.\n",
      "Write excel pyphetools template file to OMIM_618499_Suzuki_individuals.xlsx\n"
     ]
    }
   ],
   "source": [
    "tcreator_suzuki.create_template(disease_id=\"OMIM:618499_Suzuki\",\n",
    "                         disease_label=\"Noonan syndrome-11\",\n",
    "                         gene_symbol=\"MRAS\",\n",
    "                         HGNC_id=\"HGNC:7227\",\n",
    "                         transcript=\"NM_001085049.2\")"
   ]
  }
 ],
 "metadata": {
  "kernelspec": {
   "display_name": "pyphetools_venv",
   "language": "python",
   "name": "pyphetools_venv"
  },
  "language_info": {
   "codemirror_mode": {
    "name": "ipython",
    "version": 3
   },
   "file_extension": ".py",
   "mimetype": "text/x-python",
   "name": "python",
   "nbconvert_exporter": "python",
   "pygments_lexer": "ipython3",
   "version": "3.12.2"
  }
 },
 "nbformat": 4,
 "nbformat_minor": 2
}
