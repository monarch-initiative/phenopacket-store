{
 "cells": [
  {
   "cell_type": "markdown",
   "metadata": {},
   "source": [
    "# FGFR2\n",
    "[Apert syndrome](https://omim.org/entry/101200) is caused by heterozygous mutation in the FGFR2 gene."
   ]
  },
  {
   "cell_type": "code",
   "execution_count": 5,
   "metadata": {},
   "outputs": [
    {
     "name": "stdout",
     "output_type": "stream",
     "text": [
      "Using pyphetools version 0.9.78\n"
     ]
    }
   ],
   "source": [
    "from pyphetools.creation import TemplateImporter\n",
    "from pyphetools.visualization import IndividualTable, QcVisualizer\n",
    "from IPython.display import display, HTML\n",
    "import pyphetools\n",
    "print(f\"Using pyphetools version {pyphetools.__version__}\")"
   ]
  },
  {
   "cell_type": "code",
   "execution_count": 8,
   "metadata": {},
   "outputs": [],
   "source": [
    "template = \"input/FGFR2_Apert_individuals.xlsx\"\n",
    "hp_json = \"../hp.json\"\n",
    "created_by = \"0000-0002-0736-9199\""
   ]
  },
  {
   "cell_type": "code",
   "execution_count": 12,
   "metadata": {},
   "outputs": [
    {
     "name": "stdout",
     "output_type": "stream",
     "text": [
      "HPO version 2024-04-04\n",
      "Created encoders for 73 fields\n",
      "Importing OMIM:101200, Apert syndrome, HGNC:3689, FGFR2,  NM_000141.5\n",
      "We output 2 GA4GH phenopackets to the directory phenopackets\n"
     ]
    }
   ],
   "source": [
    "timporter = TemplateImporter(template=template, hp_json=hp_json, created_by=created_by)\n",
    "individual_list, cvalidator = timporter.import_phenopackets_from_template()"
   ]
  },
  {
   "cell_type": "code",
   "execution_count": 13,
   "metadata": {},
   "outputs": [
    {
     "data": {
      "text/html": [
       "<h2>Cohort validation</h2>\n",
       "<p>No errors found for the cohort with 2 individuals</p>"
      ],
      "text/plain": [
       "<IPython.core.display.HTML object>"
      ]
     },
     "metadata": {},
     "output_type": "display_data"
    }
   ],
   "source": [
    "qc = QcVisualizer(cohort_validator=cvalidator)\n",
    "display(HTML(qc.to_summary_html()))"
   ]
  },
  {
   "cell_type": "code",
   "execution_count": 14,
   "metadata": {},
   "outputs": [
    {
     "data": {
      "text/html": [
       "<table style=\"border: 2px solid black; align: \"left\">\n",
       "<caption>2 phenopackets - PMID:23546041 (n=2)</caption>\n",
       "<tr><th style=\"text-align: left;font-weight: bold;\">Individual</th><th style=\"text-align: left;font-weight: bold;\">Disease</th><th style=\"text-align: left;font-weight: bold;\">Genotype</th><th style=\"text-align: left;font-weight: bold;\">Phenotypic features</th></tr>\n",
       "<tr><td style=\"text-align: left;\">Patient 1 (MALE; P11M)</td><td style=\"text-align: left;\">Apert syndrome (OMIM:101200)</td><td style=\"text-align: left;\">NM_000141.5:c.755C>G (heterozygous)</td><td style=\"text-align: left;\">Midface retrusion (HP:0011800); High palate (HP:0000218); Prominent forehead (HP:0011220); Brachyturricephaly (HP:0000244); Frontal bossing (HP:0002007); Large fontanelles (HP:0000239); Downslanted palpebral fissures (HP:0000494); Proptosis (HP:0000520); Low-set ears (HP:0000369); Posteriorly rotated ears (HP:0000358); Cutaneous syndactyly of toes (HP:0010621); Cutaneous finger syndactyly (HP:0010554); Cryptorchidism (HP:0000028); Broad hallux (HP:0010055); Polyhydramnios (HP:0001561); Wide intermamillary distance (HP:0006610); excluded: Depressed nasal bridge (HP:0005280); excluded: Thin upper lip vermilion (HP:0000219); excluded: Hypertelorism (HP:0000316); excluded: Anteverted nares (HP:0000463)</td></tr>\n",
       "<tr><td style=\"text-align: left;\">Patient 2 (MALE; P1Y6M)</td><td style=\"text-align: left;\">Apert syndrome (OMIM:101200)</td><td style=\"text-align: left;\">NM_000141.5:c.758C>G (heterozygous)</td><td style=\"text-align: left;\">Depressed nasal bridge (HP:0005280); Midface retrusion (HP:0011800); Thin upper lip vermilion (HP:0000219); High palate (HP:0000218); Prominent forehead (HP:0011220); Brachyturricephaly (HP:0000244); Frontal bossing (HP:0002007); Hypertelorism (HP:0000316); Proptosis (HP:0000520); Anteverted nares (HP:0000463); Cutaneous syndactyly of toes (HP:0010621); Cutaneous finger syndactyly (HP:0010554); Broad hallux (HP:0010055); excluded: Downslanted palpebral fissures (HP:0000494); excluded: Low-set ears (HP:0000369); excluded: Posteriorly rotated ears (HP:0000358); excluded: Cryptorchidism (HP:0000028); excluded: Polyhydramnios (HP:0001561); excluded: Wide intermamillary distance (HP:0006610)</td></tr>\n",
       "</table>"
      ],
      "text/plain": [
       "<IPython.core.display.HTML object>"
      ]
     },
     "metadata": {},
     "output_type": "display_data"
    }
   ],
   "source": [
    "table = IndividualTable(cvalidator.get_error_free_individual_list())\n",
    "display(HTML(table.to_html()))"
   ]
  },
  {
   "cell_type": "code",
   "execution_count": 15,
   "metadata": {},
   "outputs": [
    {
     "name": "stdout",
     "output_type": "stream",
     "text": [
      "[pyphetools] Ingested 2 GA4GH phenopackets.\n",
      "\tApert syndrome (OMIM:101200): n=2\n",
      "We found a total of 20 unique HPO terms\n",
      "Extracted disease: Apert syndrome (OMIM:101200)\n",
      "Wrote HPOA disease file to OMIM-101200.tab\n"
     ]
    }
   ],
   "source": [
    "pmid = \"PMID:23546041\"\n",
    "df = timporter.create_hpoa_from_phenopackets(pmid=pmid, moi=\"Autosomal dominant\")"
   ]
  }
 ],
 "metadata": {
  "kernelspec": {
   "display_name": "ps24venv",
   "language": "python",
   "name": "python3"
  },
  "language_info": {
   "codemirror_mode": {
    "name": "ipython",
    "version": 3
   },
   "file_extension": ".py",
   "mimetype": "text/x-python",
   "name": "python",
   "nbconvert_exporter": "python",
   "pygments_lexer": "ipython3",
   "version": "3.9.6"
  }
 },
 "nbformat": 4,
 "nbformat_minor": 2
}
