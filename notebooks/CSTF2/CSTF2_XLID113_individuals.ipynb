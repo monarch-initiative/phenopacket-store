{
 "cells": [
  {
   "cell_type": "markdown",
   "metadata": {},
   "source": [
    "# CSTF2\n",
    "[X-linked intellectual developmental disorder-113 (XLID113)](https://omim.org/entry/301116) is caused by hemizygous mutation in the CSTF2 gene."
   ]
  },
  {
   "cell_type": "code",
   "execution_count": 8,
   "metadata": {},
   "outputs": [
    {
     "name": "stdout",
     "output_type": "stream",
     "text": [
      "Using pyphetools version 0.9.78\n"
     ]
    }
   ],
   "source": [
    "from pyphetools.creation import TemplateImporter\n",
    "from pyphetools.visualization import IndividualTable, QcVisualizer\n",
    "from IPython.display import display, HTML\n",
    "import pyphetools\n",
    "print(f\"Using pyphetools version {pyphetools.__version__}\")"
   ]
  },
  {
   "cell_type": "code",
   "execution_count": 10,
   "metadata": {},
   "outputs": [],
   "source": [
    "template = \"input/CSTF2_XLID113_individuals.xlsx\"\n",
    "hp_json = \"../hp.json\"\n",
    "created_by = \"0000-0002-0736-9199\""
   ]
  },
  {
   "cell_type": "code",
   "execution_count": 12,
   "metadata": {},
   "outputs": [
    {
     "name": "stdout",
     "output_type": "stream",
     "text": [
      "HPO version 2024-04-04\n",
      "Created encoders for 20 fields\n",
      "Importing OMIM:301116, Intellectual developmental disorder, X-linked 113, HGNC:2484, CSTF2,  NM_001325.3\n",
      "[INFO] encoding variant \"c.149A>C\"\n",
      "https://rest.variantvalidator.org/VariantValidator/variantvalidator/hg38/NM_001325.3%3Ac.149A>C/NM_001325.3?content-type=application%2Fjson\n",
      "We output 3 GA4GH phenopackets to the directory phenopackets\n"
     ]
    }
   ],
   "source": [
    "timporter = TemplateImporter(template=template, hp_json=hp_json, created_by=created_by)\n",
    "individual_list, cvalidator = timporter.import_phenopackets_from_template()"
   ]
  },
  {
   "cell_type": "code",
   "execution_count": 13,
   "metadata": {},
   "outputs": [
    {
     "data": {
      "text/html": [
       "<h2>Cohort validation</h2>\n",
       "<p>No errors found for the cohort with 3 individuals</p>"
      ],
      "text/plain": [
       "<IPython.core.display.HTML object>"
      ]
     },
     "metadata": {},
     "output_type": "display_data"
    }
   ],
   "source": [
    "qc = QcVisualizer(cohort_validator=cvalidator)\n",
    "display(HTML(qc.to_summary_html()))"
   ]
  },
  {
   "cell_type": "code",
   "execution_count": 14,
   "metadata": {},
   "outputs": [
    {
     "data": {
      "text/html": [
       "<table style=\"border: 2px solid black; align: \"left\">\n",
       "<caption>3 phenopackets - PMID:32816001 (n=3)</caption>\n",
       "<tr><th style=\"text-align: left;font-weight: bold;\">Individual</th><th style=\"text-align: left;font-weight: bold;\">Disease</th><th style=\"text-align: left;font-weight: bold;\">Genotype</th><th style=\"text-align: left;font-weight: bold;\">Phenotypic features</th></tr>\n",
       "<tr><td style=\"text-align: left;\">II:1 (MALE; P44Y)</td><td style=\"text-align: left;\">Intellectual developmental disorder, X-linked 113 (OMIM:301116)</td><td style=\"text-align: left;\">NM_001325.3:c.149A>C (heterozygous)</td><td style=\"text-align: left;\">Intellectual disability, mild (HP:0001256); excluded: Motor delay (HP:0001270)</td></tr>\n",
       "<tr><td style=\"text-align: left;\">III:1 (MALE; P6Y)</td><td style=\"text-align: left;\">Intellectual developmental disorder, X-linked 113 (OMIM:301116)</td><td style=\"text-align: left;\">NM_001325.3:c.149A>C (heterozygous)</td><td style=\"text-align: left;\">Delayed speech and language development (HP:0000750); Intellectual disability, mild (HP:0001256); excluded: Motor delay (HP:0001270)</td></tr>\n",
       "<tr><td style=\"text-align: left;\">II:2 (MALE; P46Y)</td><td style=\"text-align: left;\">Intellectual developmental disorder, X-linked 113 (OMIM:301116)</td><td style=\"text-align: left;\">NM_001325.3:c.149A>C (heterozygous)</td><td style=\"text-align: left;\">Intellectual disability, mild (HP:0001256); excluded: Motor delay (HP:0001270)</td></tr>\n",
       "</table>"
      ],
      "text/plain": [
       "<IPython.core.display.HTML object>"
      ]
     },
     "metadata": {},
     "output_type": "display_data"
    }
   ],
   "source": [
    "table = IndividualTable(cvalidator.get_error_free_individual_list())\n",
    "display(HTML(table.to_html()))"
   ]
  },
  {
   "cell_type": "code",
   "execution_count": 15,
   "metadata": {},
   "outputs": [
    {
     "name": "stdout",
     "output_type": "stream",
     "text": [
      "[pyphetools] Ingested 3 GA4GH phenopackets.\n",
      "\tIntellectual developmental disorder, X-linked 113 (OMIM:301116): n=3\n",
      "We found a total of 3 unique HPO terms\n",
      "Extracted disease: Intellectual developmental disorder, X-linked 113 (OMIM:301116)\n",
      "Wrote HPOA disease file to OMIM-301116.tab\n"
     ]
    },
    {
     "data": {
      "text/html": [
       "<div>\n",
       "<style scoped>\n",
       "    .dataframe tbody tr th:only-of-type {\n",
       "        vertical-align: middle;\n",
       "    }\n",
       "\n",
       "    .dataframe tbody tr th {\n",
       "        vertical-align: top;\n",
       "    }\n",
       "\n",
       "    .dataframe thead th {\n",
       "        text-align: right;\n",
       "    }\n",
       "</style>\n",
       "<table border=\"1\" class=\"dataframe\">\n",
       "  <thead>\n",
       "    <tr style=\"text-align: right;\">\n",
       "      <th></th>\n",
       "      <th>#diseaseID</th>\n",
       "      <th>diseaseName</th>\n",
       "      <th>phenotypeID</th>\n",
       "      <th>phenotypeName</th>\n",
       "      <th>onsetID</th>\n",
       "      <th>onsetName</th>\n",
       "      <th>frequency</th>\n",
       "      <th>sex</th>\n",
       "      <th>negation</th>\n",
       "      <th>modifier</th>\n",
       "      <th>description</th>\n",
       "      <th>publication</th>\n",
       "      <th>evidence</th>\n",
       "      <th>biocuration</th>\n",
       "    </tr>\n",
       "  </thead>\n",
       "  <tbody>\n",
       "    <tr>\n",
       "      <th>0</th>\n",
       "      <td>OMIM:301116</td>\n",
       "      <td>Intellectual developmental disorder, X-linked 113</td>\n",
       "      <td>HP:0001256</td>\n",
       "      <td>Intellectual disability, mild</td>\n",
       "      <td></td>\n",
       "      <td></td>\n",
       "      <td>3/3</td>\n",
       "      <td></td>\n",
       "      <td></td>\n",
       "      <td></td>\n",
       "      <td></td>\n",
       "      <td>PMID:32816001</td>\n",
       "      <td>PCS</td>\n",
       "      <td>ORCID:0000-0002-0736-9199[2024-04-26]</td>\n",
       "    </tr>\n",
       "    <tr>\n",
       "      <th>1</th>\n",
       "      <td>OMIM:301116</td>\n",
       "      <td>Intellectual developmental disorder, X-linked 113</td>\n",
       "      <td>HP:0001270</td>\n",
       "      <td>Motor delay</td>\n",
       "      <td></td>\n",
       "      <td></td>\n",
       "      <td>0/3</td>\n",
       "      <td></td>\n",
       "      <td></td>\n",
       "      <td></td>\n",
       "      <td></td>\n",
       "      <td>PMID:32816001</td>\n",
       "      <td>PCS</td>\n",
       "      <td>ORCID:0000-0002-0736-9199[2024-04-26]</td>\n",
       "    </tr>\n",
       "    <tr>\n",
       "      <th>2</th>\n",
       "      <td>OMIM:301116</td>\n",
       "      <td>Intellectual developmental disorder, X-linked 113</td>\n",
       "      <td>HP:0000750</td>\n",
       "      <td>Delayed speech and language development</td>\n",
       "      <td></td>\n",
       "      <td></td>\n",
       "      <td>1/1</td>\n",
       "      <td></td>\n",
       "      <td></td>\n",
       "      <td></td>\n",
       "      <td></td>\n",
       "      <td>PMID:32816001</td>\n",
       "      <td>PCS</td>\n",
       "      <td>ORCID:0000-0002-0736-9199[2024-04-26]</td>\n",
       "    </tr>\n",
       "    <tr>\n",
       "      <th>3</th>\n",
       "      <td>OMIM:301116</td>\n",
       "      <td>Intellectual developmental disorder, X-linked 113</td>\n",
       "      <td>HP:0011463</td>\n",
       "      <td>Childhood onset</td>\n",
       "      <td></td>\n",
       "      <td></td>\n",
       "      <td>3/3</td>\n",
       "      <td></td>\n",
       "      <td></td>\n",
       "      <td></td>\n",
       "      <td></td>\n",
       "      <td>PMID:32816001</td>\n",
       "      <td>PCS</td>\n",
       "      <td>ORCID:0000-0002-0736-9199[2024-04-26]</td>\n",
       "    </tr>\n",
       "    <tr>\n",
       "      <th>4</th>\n",
       "      <td>OMIM:301116</td>\n",
       "      <td>Intellectual developmental disorder, X-linked 113</td>\n",
       "      <td>HP:0001419</td>\n",
       "      <td>X-linked recessive inheritance</td>\n",
       "      <td></td>\n",
       "      <td></td>\n",
       "      <td></td>\n",
       "      <td></td>\n",
       "      <td></td>\n",
       "      <td></td>\n",
       "      <td></td>\n",
       "      <td>PMID:32816001</td>\n",
       "      <td>PCS</td>\n",
       "      <td>ORCID:0000-0002-0736-9199[2024-04-26]</td>\n",
       "    </tr>\n",
       "  </tbody>\n",
       "</table>\n",
       "</div>"
      ],
      "text/plain": [
       "    #diseaseID                                        diseaseName phenotypeID  \\\n",
       "0  OMIM:301116  Intellectual developmental disorder, X-linked 113  HP:0001256   \n",
       "1  OMIM:301116  Intellectual developmental disorder, X-linked 113  HP:0001270   \n",
       "2  OMIM:301116  Intellectual developmental disorder, X-linked 113  HP:0000750   \n",
       "3  OMIM:301116  Intellectual developmental disorder, X-linked 113  HP:0011463   \n",
       "4  OMIM:301116  Intellectual developmental disorder, X-linked 113  HP:0001419   \n",
       "\n",
       "                             phenotypeName onsetID onsetName frequency sex  \\\n",
       "0            Intellectual disability, mild                         3/3       \n",
       "1                              Motor delay                         0/3       \n",
       "2  Delayed speech and language development                         1/1       \n",
       "3                          Childhood onset                         3/3       \n",
       "4           X-linked recessive inheritance                                   \n",
       "\n",
       "  negation modifier description    publication evidence  \\\n",
       "0                                PMID:32816001      PCS   \n",
       "1                                PMID:32816001      PCS   \n",
       "2                                PMID:32816001      PCS   \n",
       "3                                PMID:32816001      PCS   \n",
       "4                                PMID:32816001      PCS   \n",
       "\n",
       "                             biocuration  \n",
       "0  ORCID:0000-0002-0736-9199[2024-04-26]  \n",
       "1  ORCID:0000-0002-0736-9199[2024-04-26]  \n",
       "2  ORCID:0000-0002-0736-9199[2024-04-26]  \n",
       "3  ORCID:0000-0002-0736-9199[2024-04-26]  \n",
       "4  ORCID:0000-0002-0736-9199[2024-04-26]  "
      ]
     },
     "execution_count": 15,
     "metadata": {},
     "output_type": "execute_result"
    }
   ],
   "source": [
    "pmid = \"PMID:32816001\"\n",
    "timporter.create_hpoa_from_phenopackets(pmid=pmid, moi=\"X-linked recessive inheritance\")"
   ]
  },
  {
   "cell_type": "code",
   "execution_count": null,
   "metadata": {},
   "outputs": [],
   "source": []
  }
 ],
 "metadata": {
  "kernelspec": {
   "display_name": "ps24venv",
   "language": "python",
   "name": "python3"
  },
  "language_info": {
   "codemirror_mode": {
    "name": "ipython",
    "version": 3
   },
   "file_extension": ".py",
   "mimetype": "text/x-python",
   "name": "python",
   "nbconvert_exporter": "python",
   "pygments_lexer": "ipython3",
   "version": "3.9.6"
  }
 },
 "nbformat": 4,
 "nbformat_minor": 2
}
