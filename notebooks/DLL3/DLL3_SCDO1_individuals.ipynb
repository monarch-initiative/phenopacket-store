{
 "cells": [
  {
   "cell_type": "markdown",
   "metadata": {},
   "source": [
    "# DLL3\n",
    "[autosomal recessive spondylocostal dysostosis-1 (SCDO1)](https://omim.org/entry/277300) is caused by homozygous or compound heterozygous mutation in the DLL3 gene. "
   ]
  },
  {
   "cell_type": "code",
   "execution_count": 1,
   "metadata": {},
   "outputs": [
    {
     "name": "stderr",
     "output_type": "stream",
     "text": [
      "/Users/robin/GIT/phenopacket-store/ps24venv/lib/python3.9/site-packages/urllib3/__init__.py:35: NotOpenSSLWarning: urllib3 v2 only supports OpenSSL 1.1.1+, currently the 'ssl' module is compiled with 'LibreSSL 2.8.3'. See: https://github.com/urllib3/urllib3/issues/3020\n",
      "  warnings.warn(\n"
     ]
    }
   ],
   "source": [
    "from pyphetools.creation import TemplateImporter\n",
    "from pyphetools.visualization import IndividualTable, QcVisualizer\n",
    "from IPython.display import display, HTML\n",
    "import pyphetools"
   ]
  },
  {
   "cell_type": "code",
   "execution_count": 2,
   "metadata": {},
   "outputs": [],
   "source": [
    "template = \"input/DLL3_SCDO1_individuals.xlsx\"\n",
    "created_by = \"0000-0002-0736-9199\""
   ]
  },
  {
   "cell_type": "code",
   "execution_count": 3,
   "metadata": {},
   "outputs": [
    {
     "name": "stdout",
     "output_type": "stream",
     "text": [
      "HPO version 2024-04-26\n",
      "Created encoders for 27 fields\n",
      "Importing OMIM:277300, Spondylocostal dysostosis 1, autosomal recessive, HGNC:2909, DLL3,  NM_203486.3\n",
      "We output 3 GA4GH phenopackets to the directory phenopackets\n"
     ]
    }
   ],
   "source": [
    "timporter = TemplateImporter(template=template,  created_by=created_by)\n",
    "individual_list, cvalidator = timporter.import_phenopackets_from_template()"
   ]
  },
  {
   "cell_type": "code",
   "execution_count": 4,
   "metadata": {},
   "outputs": [
    {
     "data": {
      "text/html": [
       "<h2>Cohort validation</h2>\n",
       "<p>No errors found for the cohort with 3 individuals</p>"
      ],
      "text/plain": [
       "<IPython.core.display.HTML object>"
      ]
     },
     "metadata": {},
     "output_type": "display_data"
    }
   ],
   "source": [
    "qc = QcVisualizer(cohort_validator=cvalidator)\n",
    "display(HTML(qc.to_summary_html()))"
   ]
  },
  {
   "cell_type": "code",
   "execution_count": 5,
   "metadata": {},
   "outputs": [
    {
     "data": {
      "text/html": [
       "<table style=\"border: 2px solid black; align: \"left\">\n",
       "<caption>3 phenopackets - PMID:15200511 (n=3)</caption>\n",
       "<tr><th style=\"text-align: left;font-weight: bold;\">Individual</th><th style=\"text-align: left;font-weight: bold;\">Disease</th><th style=\"text-align: left;font-weight: bold;\">Genotype</th><th style=\"text-align: left;font-weight: bold;\">Phenotypic features</th></tr>\n",
       "<tr><td style=\"text-align: left;\">individual  I.1 (MALE; P82Y)</td><td style=\"text-align: left;\">Spondylocostal dysostosis 1, autosomal recessive (OMIM:277300)</td><td style=\"text-align: left;\">NM_203486.3:c.1440del (homozygous)</td><td style=\"text-align: left;\">Disproportionate short-trunk short stature (HP:0003521); excluded: Kyphoscoliosis (HP:0002751); excluded: Back pain (HP:0003418)</td></tr>\n",
       "<tr><td style=\"text-align: left;\">individual II.5 (FEMALE; P41Y)</td><td style=\"text-align: left;\">Spondylocostal dysostosis 1, autosomal recessive (OMIM:277300)</td><td style=\"text-align: left;\"><ul> <li>NM_203486.3:c.1440del (heterozygous)</li> <li>NM_203486.3:c.1511G>A (heterozygous)</li> </ul></td><td style=\"text-align: left;\">Vertebral fusion (HP:0002948); Hemivertebrae (HP:0002937); Short neck (HP:0000470); Disproportionate short-trunk short stature (HP:0003521); Kyphoscoliosis (HP:0002751); Back pain (HP:0003418)</td></tr>\n",
       "<tr><td style=\"text-align: left;\">individual II.6 (FEMALE; P40Y)</td><td style=\"text-align: left;\">Spondylocostal dysostosis 1, autosomal recessive (OMIM:277300)</td><td style=\"text-align: left;\"><ul> <li>NM_203486.3:c.1440del (heterozygous)</li> <li>NM_203486.3:c.1511G>A (heterozygous)</li> </ul></td><td style=\"text-align: left;\">Vertebral fusion (HP:0002948); Hemivertebrae (HP:0002937); Disproportionate short-trunk short stature (HP:0003521); Back pain (HP:0003418)</td></tr>\n",
       "</table>"
      ],
      "text/plain": [
       "<IPython.core.display.HTML object>"
      ]
     },
     "metadata": {},
     "output_type": "display_data"
    }
   ],
   "source": [
    "table = IndividualTable(cvalidator.get_error_free_individual_list())\n",
    "display(HTML(table.to_html()))"
   ]
  }
 ],
 "metadata": {
  "kernelspec": {
   "display_name": "ps24venv",
   "language": "python",
   "name": "python3"
  },
  "language_info": {
   "codemirror_mode": {
    "name": "ipython",
    "version": 3
   },
   "file_extension": ".py",
   "mimetype": "text/x-python",
   "name": "python",
   "nbconvert_exporter": "python",
   "pygments_lexer": "ipython3",
   "version": "3.9.6"
  }
 },
 "nbformat": 4,
 "nbformat_minor": 2
}
