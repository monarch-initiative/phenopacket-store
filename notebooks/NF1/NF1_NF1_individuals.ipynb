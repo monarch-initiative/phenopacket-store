{
 "cells": [
  {
   "cell_type": "markdown",
   "metadata": {},
   "source": [
    "# NF1\n",
    "[neurofibromatosis type I (NF1)](https://omim.org/entry/162200) is caused by heterozygous mutation in the neurofibromin gene (NF1)."
   ]
  },
  {
   "cell_type": "code",
   "execution_count": 1,
   "metadata": {},
   "outputs": [
    {
     "name": "stdout",
     "output_type": "stream",
     "text": [
      "Using pyphetools version 0.9.82\n"
     ]
    },
    {
     "name": "stderr",
     "output_type": "stream",
     "text": [
      "/Users/robin/GIT/phenopacket-store/ps24venv/lib/python3.9/site-packages/urllib3/__init__.py:35: NotOpenSSLWarning: urllib3 v2 only supports OpenSSL 1.1.1+, currently the 'ssl' module is compiled with 'LibreSSL 2.8.3'. See: https://github.com/urllib3/urllib3/issues/3020\n",
      "  warnings.warn(\n"
     ]
    }
   ],
   "source": [
    "from pyphetools.creation import TemplateImporter\n",
    "from pyphetools.visualization import IndividualTable, QcVisualizer\n",
    "from IPython.display import display, HTML\n",
    "import pyphetools\n",
    "print(f\"Using pyphetools version {pyphetools.__version__}\")"
   ]
  },
  {
   "cell_type": "code",
   "execution_count": 2,
   "metadata": {},
   "outputs": [],
   "source": [
    "template = \"input/NF1_NF1_individuals.xlsx\"\n",
    "created_by = \"0000-0002-0736-9199\""
   ]
  },
  {
   "cell_type": "code",
   "execution_count": 3,
   "metadata": {},
   "outputs": [
    {
     "name": "stdout",
     "output_type": "stream",
     "text": [
      "HPO version 2024-04-26\n",
      "Created encoders for 29 fields\n",
      "Importing OMIM:162200, Neurofibromatosis, type 1, HGNC:7765, NF1,  NM_001042492.3\n",
      "[INFO] encoding variant \"c.1541_1542del\"\n",
      "https://rest.variantvalidator.org/VariantValidator/variantvalidator/hg38/NM_001042492.3%3Ac.1541_1542del/NM_001042492.3?content-type=application%2Fjson\n",
      "[INFO] encoding variant \"c.6855C>A\"\n",
      "https://rest.variantvalidator.org/VariantValidator/variantvalidator/hg38/NM_001042492.3%3Ac.6855C>A/NM_001042492.3?content-type=application%2Fjson\n",
      "We output 7 GA4GH phenopackets to the directory phenopackets\n"
     ]
    }
   ],
   "source": [
    "timporter = TemplateImporter(template=template,  created_by=created_by)\n",
    "individual_list, cvalidator = timporter.import_phenopackets_from_template()"
   ]
  },
  {
   "cell_type": "code",
   "execution_count": 4,
   "metadata": {},
   "outputs": [
    {
     "data": {
      "text/html": [
       "<h2>Cohort validation</h2>\n",
       "<p>No errors found for the cohort with 7 individuals</p>"
      ],
      "text/plain": [
       "<IPython.core.display.HTML object>"
      ]
     },
     "metadata": {},
     "output_type": "display_data"
    }
   ],
   "source": [
    "qc = QcVisualizer(cohort_validator=cvalidator)\n",
    "display(HTML(qc.to_summary_html()))"
   ]
  },
  {
   "cell_type": "code",
   "execution_count": 5,
   "metadata": {},
   "outputs": [
    {
     "data": {
      "text/html": [
       "<table style=\"border: 2px solid black; align: \"left\">\n",
       "<caption>7 phenopackets - PMID:9101303 (n=1); PMID:36659944 (n=1); PMID:7607663 (n=2); PMID:8664912 (n=3)</caption>\n",
       "<tr><th style=\"text-align: left;font-weight: bold;\">Individual</th><th style=\"text-align: left;font-weight: bold;\">Disease</th><th style=\"text-align: left;font-weight: bold;\">Genotype</th><th style=\"text-align: left;font-weight: bold;\">Phenotypic features</th></tr>\n",
       "<tr><td style=\"text-align: left;\">patient (MALE; P2Y)</td><td style=\"text-align: left;\">Neurofibromatosis, type 1 (OMIM:162200)</td><td style=\"text-align: left;\">NM_001042492.3:c.6852_6853dup (heterozygous)</td><td style=\"text-align: left;\">Neurofibrosarcoma (HP:0100697); Axillary freckling (HP:0000997); Multiple cafe-au-lait spots (HP:0007565); Inguinal freckling (HP:0030052); Pectus excavatum (HP:0000767); Kyphosis (HP:0002808); Scoliosis (HP:0002650); excluded: Plexiform neurofibroma (HP:0009732)</td></tr>\n",
       "<tr><td style=\"text-align: left;\">Patient (MALE; P13Y)</td><td style=\"text-align: left;\">Neurofibromatosis, type 1 (OMIM:162200)</td><td style=\"text-align: left;\">NM_001042492.3:c.4552dup (heterozygous)</td><td style=\"text-align: left;\">Plexiform neurofibroma (HP:0009732); Axillary freckling (HP:0000997); Multiple cafe-au-lait spots (HP:0007565); Inguinal freckling (HP:0030052); Lisch nodules (HP:0009737); excluded: Pectus excavatum (HP:0000767); excluded: Kyphosis (HP:0002808); excluded: Scoliosis (HP:0002650)</td></tr>\n",
       "<tr><td style=\"text-align: left;\">Patient 0541 (FEMALE; n/a)</td><td style=\"text-align: left;\">Neurofibromatosis, type 1 (OMIM:162200)</td><td style=\"text-align: left;\">NM_001042492.3:c.6855C>A (heterozygous)</td><td style=\"text-align: left;\">Neurofibrosarcoma (HP:0100697); Axillary freckling (HP:0000997); Multiple cafe-au-lait spots (HP:0007565); Lisch nodules (HP:0009737); excluded: Pectus excavatum (HP:0000767); excluded: Kyphosis (HP:0002808); excluded: Scoliosis (HP:0002650)</td></tr>\n",
       "<tr><td style=\"text-align: left;\">Patient 0542 (FEMALE; n/a)</td><td style=\"text-align: left;\">Neurofibromatosis, type 1 (OMIM:162200)</td><td style=\"text-align: left;\">NM_001042492.3:c.6855C>A (heterozygous)</td><td style=\"text-align: left;\">Neurofibrosarcoma (HP:0100697); Multiple cafe-au-lait spots (HP:0007565); Lisch nodules (HP:0009737); Scoliosis (HP:0002650); excluded: Axillary freckling (HP:0000997); excluded: Pectus excavatum (HP:0000767); excluded: Kyphosis (HP:0002808)</td></tr>\n",
       "<tr><td style=\"text-align: left;\">Patient 0544 twin 1 (FEMALE; P12Y)</td><td style=\"text-align: left;\">Neurofibromatosis, type 1 (OMIM:162200)</td><td style=\"text-align: left;\">NM_001042492.3:c.1541_1542del (heterozygous)</td><td style=\"text-align: left;\">Optic nerve glioma (HP:0009734); Neurofibrosarcoma (HP:0100697); Axillary freckling (HP:0000997); Multiple cafe-au-lait spots (HP:0007565); Inguinal freckling (HP:0030052); Lisch nodules (HP:0009737); excluded: Pectus excavatum (HP:0000767); excluded: Kyphosis (HP:0002808); excluded: Scoliosis (HP:0002650)</td></tr>\n",
       "<tr><td style=\"text-align: left;\">Patient 0544 twin 2 (FEMALE; P12Y)</td><td style=\"text-align: left;\">Neurofibromatosis, type 1 (OMIM:162200)</td><td style=\"text-align: left;\">NM_001042492.3:c.1541_1542del (heterozygous)</td><td style=\"text-align: left;\">Neurofibrosarcoma (HP:0100697); Axillary freckling (HP:0000997); Multiple cafe-au-lait spots (HP:0007565); Inguinal freckling (HP:0030052); Lisch nodules (HP:0009737); excluded: Optic nerve glioma (HP:0009734); excluded: Pectus excavatum (HP:0000767); excluded: Kyphosis (HP:0002808); excluded: Scoliosis (HP:0002650)</td></tr>\n",
       "<tr><td style=\"text-align: left;\">Patient 0545 (MALE; P55Y)</td><td style=\"text-align: left;\">Neurofibromatosis, type 1 (OMIM:162200)</td><td style=\"text-align: left;\">NM_001042492.3:c.1541_1542del (heterozygous)</td><td style=\"text-align: left;\">Neurofibrosarcoma (HP:0100697); Axillary freckling (HP:0000997); Multiple cafe-au-lait spots (HP:0007565); Lisch nodules (HP:0009737); excluded: Optic nerve glioma (HP:0009734)</td></tr>\n",
       "</table>"
      ],
      "text/plain": [
       "<IPython.core.display.HTML object>"
      ]
     },
     "metadata": {},
     "output_type": "display_data"
    }
   ],
   "source": [
    "table = IndividualTable(cvalidator.get_error_free_individual_list())\n",
    "display(HTML(table.to_html()))"
   ]
  }
 ],
 "metadata": {
  "kernelspec": {
   "display_name": "ps24venv",
   "language": "python",
   "name": "python3"
  },
  "language_info": {
   "codemirror_mode": {
    "name": "ipython",
    "version": 3
   },
   "file_extension": ".py",
   "mimetype": "text/x-python",
   "name": "python",
   "nbconvert_exporter": "python",
   "pygments_lexer": "ipython3",
   "version": "3.9.6"
  }
 },
 "nbformat": 4,
 "nbformat_minor": 2
}
