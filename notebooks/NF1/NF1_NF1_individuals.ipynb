{
 "cells": [
  {
   "cell_type": "markdown",
   "metadata": {},
   "source": [
    "# NF1\n",
    "[neurofibromatosis type I (NF1)](https://omim.org/entry/162200) is caused by heterozygous mutation in the neurofibromin gene (NF1).\n",
    "\n",
    "We have imported data from several publications.\n",
    "- We did not include UAB-R9236 ** from PMID:29290338 because the phenotypic information was lacking. We also did not include UAB-R1002-C1 and UAB-R1002-C2 because they were assessed as newborns. In one case, no features were observed, in the other, no data was available."
   ]
  },
  {
   "cell_type": "code",
   "execution_count": 1,
   "metadata": {},
   "outputs": [
    {
     "name": "stdout",
     "output_type": "stream",
     "text": [
      "Using pyphetools version 0.9.99\n"
     ]
    }
   ],
   "source": [
    "from pyphetools.creation import TemplateImporter\n",
    "from pyphetools.visualization import IndividualTable, QcVisualizer\n",
    "from IPython.display import display, HTML\n",
    "import pyphetools\n",
    "print(f\"Using pyphetools version {pyphetools.__version__}\")"
   ]
  },
  {
   "cell_type": "code",
   "execution_count": 2,
   "metadata": {},
   "outputs": [],
   "source": [
    "template = \"input/NF1_NF1_individuals.xlsx\"\n",
    "created_by = \"0000-0002-0736-9199\""
   ]
  },
  {
   "cell_type": "code",
   "execution_count": 17,
   "metadata": {},
   "outputs": [
    {
     "name": "stdout",
     "output_type": "stream",
     "text": [
      "HPO version 2024-08-13\n",
      "Created encoders for 51 fields\n",
      "Importing OMIM:162200, Neurofibromatosis, type 1, HGNC:7765, NF1,  NM_001042492.3\n",
      "Removed 2 individuals with unfixable errors\n",
      "We output 166 GA4GH phenopackets to the directory phenopackets\n"
     ]
    }
   ],
   "source": [
    "timporter = TemplateImporter(template=template,  created_by=created_by)\n",
    "individual_list, cvalidator = timporter.import_phenopackets_from_template()"
   ]
  },
  {
   "cell_type": "code",
   "execution_count": 18,
   "metadata": {},
   "outputs": [
    {
     "data": {
      "text/html": [
       "<h2>Cohort validation</h2>\n",
       "<p>Errors found with 161 of 168 phenopackets.</p>\n",
       "<table style=\"border: 2px solid black; align: \"left\">\n",
       "<caption>Error counts</caption>\n",
       "<tr><th style=\"text-align: left;font-weight: bold;\">Level</th><th style=\"text-align: left;font-weight: bold;\">Error category</th><th style=\"text-align: left;font-weight: bold;\">Count</th></tr>\n",
       "<tr><td style=\"text-align: left;\">ERROR</td><td style=\"text-align: left;\">CONFLICT</td><td style=\"text-align: left;\">12</td></tr>\n",
       "<tr><td style=\"text-align: left;\">ERROR</td><td style=\"text-align: left;\">INSUFFICIENT_HPOS</td><td style=\"text-align: left;\">2</td></tr>\n",
       "<tr><td style=\"text-align: left;\">WARNING</td><td style=\"text-align: left;\">REDUNDANT</td><td style=\"text-align: left;\">430</td></tr>\n",
       "</table>\n",
       "<p>A total of 444 issues were fixed and 2 individuals were removed from the cohort because of irreparable errors. The cohort validator will return 166 individual objects without errors.</p>\n",
       "<p>The following redundant terms were found: <b>Astrocytoma</b> is redundant because of <b>Pilocytic astrocytoma</b>; <b>Neurofibroma</b> is redundant because of <b>Plexiform neurofibroma</b>; <b>Glioma</b> is redundant because of <b>Optic nerve glioma</b>; <b>Glioma</b> is redundant because of <b>Astrocytoma</b>; <b>Freckling</b> is redundant because of <b>Inguinal freckling</b>; <b>Neurofibroma</b> is redundant because of <b>Spinal neurofibroma</b>; <b>Glioma</b> is redundant because of <b>Cerebellar glioma</b>. Redundant terms will be removed, keeping only one instance of the most specific term.</p>\n",
       "<p>The following excluded terms were found to have a conflict with an observed descendent term: Plexiform neurofibroma (HP:0009732) conflicts with the excluded term excluded: Neurofibroma (HP:0001067) ; Pilocytic astrocytoma (HP:0033680) conflicts with the excluded term excluded: Astrocytoma (HP:0009592) . The ancestor terms will be removed.</p>\n",
       "<h2>Individuals with unfixable errors</h2>\n",
       "<table style=\"border: 2px solid black; align: \"left\">\n",
       "<caption>Error analysis</caption>\n",
       "<tr><th style=\"text-align: left;font-weight: bold;\">ID</th><th style=\"text-align: left;font-weight: bold;\">Level</th><th style=\"text-align: left;font-weight: bold;\">Category</th><th style=\"text-align: left;font-weight: bold;\">Message</th><th style=\"text-align: left;font-weight: bold;\">HPO Term</th></tr>\n",
       "<tr><td style=\"text-align: left;\">PMID_29290338_Family_UAB_R1002_C1___individual_F</td><td style=\"text-align: left;\">ERROR</td><td style=\"text-align: left;\">INSUFFICIENT_HPOS</td><td style=\"text-align: left;\">Minimum HPO terms required 1 but only 0 found</td><td style=\"text-align: left;\"></td></tr>\n",
       "<tr><td style=\"text-align: left;\">PMID_29290338_Family_UAB_R1002_C2___individual_F</td><td style=\"text-align: left;\">ERROR</td><td style=\"text-align: left;\">INSUFFICIENT_HPOS</td><td style=\"text-align: left;\">Minimum HPO terms required 1 but only 0 found</td><td style=\"text-align: left;\"></td></tr>\n",
       "</table>"
      ],
      "text/plain": [
       "<IPython.core.display.HTML object>"
      ]
     },
     "metadata": {},
     "output_type": "display_data"
    }
   ],
   "source": [
    "qc = QcVisualizer(cohort_validator=cvalidator)\n",
    "display(HTML(qc.to_summary_html()))"
   ]
  },
  {
   "cell_type": "code",
   "execution_count": 5,
   "metadata": {},
   "outputs": [
    {
     "data": {
      "text/html": [
       "<table style=\"border: 2px solid black; align: \"left\">\n",
       "<caption>7 phenopackets - PMID:9101303 (n=1); PMID:36659944 (n=1); PMID:7607663 (n=2); PMID:8664912 (n=3)</caption>\n",
       "<tr><th style=\"text-align: left;font-weight: bold;\">Individual</th><th style=\"text-align: left;font-weight: bold;\">Disease</th><th style=\"text-align: left;font-weight: bold;\">Genotype</th><th style=\"text-align: left;font-weight: bold;\">Phenotypic features</th></tr>\n",
       "<tr><td style=\"text-align: left;\">patient (MALE; P2Y)</td><td style=\"text-align: left;\">Neurofibromatosis, type 1 (OMIM:162200)</td><td style=\"text-align: left;\">NM_001042492.3:c.6852_6853dup (heterozygous)</td><td style=\"text-align: left;\">Neurofibrosarcoma (HP:0100697); Axillary freckling (HP:0000997); Multiple cafe-au-lait spots (HP:0007565); Inguinal freckling (HP:0030052); Pectus excavatum (HP:0000767); Kyphosis (HP:0002808); Scoliosis (HP:0002650); excluded: Plexiform neurofibroma (HP:0009732)</td></tr>\n",
       "<tr><td style=\"text-align: left;\">Patient (MALE; P13Y)</td><td style=\"text-align: left;\">Neurofibromatosis, type 1 (OMIM:162200)</td><td style=\"text-align: left;\">NM_001042492.3:c.4552dup (heterozygous)</td><td style=\"text-align: left;\">Plexiform neurofibroma (HP:0009732); Axillary freckling (HP:0000997); Multiple cafe-au-lait spots (HP:0007565); Inguinal freckling (HP:0030052); Lisch nodules (HP:0009737); excluded: Pectus excavatum (HP:0000767); excluded: Kyphosis (HP:0002808); excluded: Scoliosis (HP:0002650)</td></tr>\n",
       "<tr><td style=\"text-align: left;\">Patient 0541 (FEMALE; n/a)</td><td style=\"text-align: left;\">Neurofibromatosis, type 1 (OMIM:162200)</td><td style=\"text-align: left;\">NM_001042492.3:c.6855C>A (heterozygous)</td><td style=\"text-align: left;\">Neurofibrosarcoma (HP:0100697); Axillary freckling (HP:0000997); Multiple cafe-au-lait spots (HP:0007565); Lisch nodules (HP:0009737); excluded: Pectus excavatum (HP:0000767); excluded: Kyphosis (HP:0002808); excluded: Scoliosis (HP:0002650)</td></tr>\n",
       "<tr><td style=\"text-align: left;\">Patient 0542 (FEMALE; n/a)</td><td style=\"text-align: left;\">Neurofibromatosis, type 1 (OMIM:162200)</td><td style=\"text-align: left;\">NM_001042492.3:c.6855C>A (heterozygous)</td><td style=\"text-align: left;\">Neurofibrosarcoma (HP:0100697); Multiple cafe-au-lait spots (HP:0007565); Lisch nodules (HP:0009737); Scoliosis (HP:0002650); excluded: Axillary freckling (HP:0000997); excluded: Pectus excavatum (HP:0000767); excluded: Kyphosis (HP:0002808)</td></tr>\n",
       "<tr><td style=\"text-align: left;\">Patient 0544 twin 1 (FEMALE; P12Y)</td><td style=\"text-align: left;\">Neurofibromatosis, type 1 (OMIM:162200)</td><td style=\"text-align: left;\">NM_001042492.3:c.1541_1542del (heterozygous)</td><td style=\"text-align: left;\">Optic nerve glioma (HP:0009734); Neurofibrosarcoma (HP:0100697); Axillary freckling (HP:0000997); Multiple cafe-au-lait spots (HP:0007565); Inguinal freckling (HP:0030052); Lisch nodules (HP:0009737); excluded: Pectus excavatum (HP:0000767); excluded: Kyphosis (HP:0002808); excluded: Scoliosis (HP:0002650)</td></tr>\n",
       "<tr><td style=\"text-align: left;\">Patient 0544 twin 2 (FEMALE; P12Y)</td><td style=\"text-align: left;\">Neurofibromatosis, type 1 (OMIM:162200)</td><td style=\"text-align: left;\">NM_001042492.3:c.1541_1542del (heterozygous)</td><td style=\"text-align: left;\">Neurofibrosarcoma (HP:0100697); Axillary freckling (HP:0000997); Multiple cafe-au-lait spots (HP:0007565); Inguinal freckling (HP:0030052); Lisch nodules (HP:0009737); excluded: Optic nerve glioma (HP:0009734); excluded: Pectus excavatum (HP:0000767); excluded: Kyphosis (HP:0002808); excluded: Scoliosis (HP:0002650)</td></tr>\n",
       "<tr><td style=\"text-align: left;\">Patient 0545 (MALE; P55Y)</td><td style=\"text-align: left;\">Neurofibromatosis, type 1 (OMIM:162200)</td><td style=\"text-align: left;\">NM_001042492.3:c.1541_1542del (heterozygous)</td><td style=\"text-align: left;\">Neurofibrosarcoma (HP:0100697); Axillary freckling (HP:0000997); Multiple cafe-au-lait spots (HP:0007565); Lisch nodules (HP:0009737); excluded: Optic nerve glioma (HP:0009734)</td></tr>\n",
       "</table>"
      ],
      "text/plain": [
       "<IPython.core.display.HTML object>"
      ]
     },
     "metadata": {},
     "output_type": "display_data"
    }
   ],
   "source": [
    "table = IndividualTable(cvalidator.get_error_free_individual_list())\n",
    "display(HTML(table.to_html()))"
   ]
  }
 ],
 "metadata": {
  "kernelspec": {
   "display_name": "ps24venv",
   "language": "python",
   "name": "python3"
  },
  "language_info": {
   "codemirror_mode": {
    "name": "ipython",
    "version": 3
   },
   "file_extension": ".py",
   "mimetype": "text/x-python",
   "name": "python",
   "nbconvert_exporter": "python",
   "pygments_lexer": "ipython3",
   "version": "3.12.4"
  }
 },
 "nbformat": 4,
 "nbformat_minor": 2
}
