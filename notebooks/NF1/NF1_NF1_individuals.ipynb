{
 "cells": [
  {
   "cell_type": "markdown",
   "metadata": {},
   "source": [
    "# NF1\n",
    "[neurofibromatosis type I (NF1)](https://omim.org/entry/162200) is caused by heterozygous mutation in the neurofibromin gene (NF1).\n",
    "\n",
    "We have imported data from several publications.\n",
    "- We did not include UAB-R9236 ** from PMID:29290338 because the phenotypic information was lacking. We also did not include UAB-R1002-C1 and UAB-R1002-C2 because they were assessed as newborns. In one case, no features were observed, in the other, no data was available."
   ]
  },
  {
   "cell_type": "code",
   "execution_count": 1,
   "metadata": {},
   "outputs": [
    {
     "name": "stdout",
     "output_type": "stream",
     "text": [
      "Using pyphetools version 0.9.99\n"
     ]
    }
   ],
   "source": [
    "from pyphetools.creation import TemplateImporter\n",
    "from pyphetools.visualization import IndividualTable, QcVisualizer\n",
    "from IPython.display import display, HTML\n",
    "import pyphetools\n",
    "print(f\"Using pyphetools version {pyphetools.__version__}\")"
   ]
  },
  {
   "cell_type": "code",
   "execution_count": 23,
   "metadata": {},
   "outputs": [],
   "source": [
    "template = \"input/NF1_NF1_individuals.xlsx\"\n",
    "created_by = \"0000-0002-0736-9199\""
   ]
  },
  {
   "cell_type": "code",
   "execution_count": 27,
   "metadata": {},
   "outputs": [
    {
     "name": "stdout",
     "output_type": "stream",
     "text": [
      "HPO version 2024-08-13\n",
      "Created encoders for 55 fields\n",
      "Importing OMIM:162200, Neurofibromatosis, type 1, HGNC:7765, NF1,  NM_001042492.3\n",
      "We output 181 GA4GH phenopackets to the directory phenopackets\n"
     ]
    }
   ],
   "source": [
    "del_set = {\"Type 3 deletion\", \"Type 1 deletion\", \"Two exon deletion\"}\n",
    "timporter = TemplateImporter(template=template,  created_by=created_by)\n",
    "individual_list, cvalidator = timporter.import_phenopackets_from_template(deletions=del_set)"
   ]
  },
  {
   "cell_type": "code",
   "execution_count": 28,
   "metadata": {},
   "outputs": [
    {
     "data": {
      "text/html": [
       "<h2>Cohort validation</h2>\n",
       "<p>Errors found with 174 of 181 phenopackets.</p>\n",
       "<table style=\"border: 2px solid black; align: \"left\">\n",
       "<caption>Error counts</caption>\n",
       "<tr><th style=\"text-align: left;font-weight: bold;\">Level</th><th style=\"text-align: left;font-weight: bold;\">Error category</th><th style=\"text-align: left;font-weight: bold;\">Count</th></tr>\n",
       "<tr><td style=\"text-align: left;\">ERROR</td><td style=\"text-align: left;\">CONFLICT</td><td style=\"text-align: left;\">12</td></tr>\n",
       "<tr><td style=\"text-align: left;\">WARNING</td><td style=\"text-align: left;\">REDUNDANT</td><td style=\"text-align: left;\">454</td></tr>\n",
       "</table>\n",
       "<p>A total of 466 issues were fixed and no individual was removed from the cohort.</p>"
      ],
      "text/plain": [
       "<IPython.core.display.HTML object>"
      ]
     },
     "metadata": {},
     "output_type": "display_data"
    }
   ],
   "source": [
    "qc = QcVisualizer(cohort_validator=cvalidator)\n",
    "display(HTML(qc.to_summary_html()))"
   ]
  },
  {
   "cell_type": "code",
   "execution_count": 21,
   "metadata": {},
   "outputs": [
    {
     "ename": "TypeError",
     "evalue": "can only concatenate str (not \"TimeElement\") to str",
     "output_type": "error",
     "traceback": [
      "\u001b[0;31m---------------------------------------------------------------------------\u001b[0m",
      "\u001b[0;31mTypeError\u001b[0m                                 Traceback (most recent call last)",
      "Cell \u001b[0;32mIn[21], line 2\u001b[0m\n\u001b[1;32m      1\u001b[0m table \u001b[38;5;241m=\u001b[39m IndividualTable(cvalidator\u001b[38;5;241m.\u001b[39mget_error_free_individual_list())\n\u001b[0;32m----> 2\u001b[0m display(HTML(\u001b[43mtable\u001b[49m\u001b[38;5;241;43m.\u001b[39;49m\u001b[43mto_html\u001b[49m\u001b[43m(\u001b[49m\u001b[43m)\u001b[49m))\n",
      "File \u001b[0;32m~/GIT/phenopacket-store/ps24venv/lib/python3.12/site-packages/pyphetools/visualization/individual_table.py:81\u001b[0m, in \u001b[0;36mIndividualTable.to_html\u001b[0;34m(self)\u001b[0m\n\u001b[1;32m     79\u001b[0m rows \u001b[38;5;241m=\u001b[39m []\n\u001b[1;32m     80\u001b[0m \u001b[38;5;28;01mfor\u001b[39;00m spat \u001b[38;5;129;01min\u001b[39;00m \u001b[38;5;28mself\u001b[39m\u001b[38;5;241m.\u001b[39m_spat_list:\n\u001b[0;32m---> 81\u001b[0m     rows\u001b[38;5;241m.\u001b[39mappend(\u001b[38;5;28;43mself\u001b[39;49m\u001b[38;5;241;43m.\u001b[39;49m\u001b[43m_simple_patient_to_table_row\u001b[49m\u001b[43m(\u001b[49m\u001b[43mspat\u001b[49m\u001b[43m)\u001b[49m)\n\u001b[1;32m     82\u001b[0m generator \u001b[38;5;241m=\u001b[39m HtmlTableGenerator(caption\u001b[38;5;241m=\u001b[39m\u001b[38;5;28mself\u001b[39m\u001b[38;5;241m.\u001b[39m_caption, header_items\u001b[38;5;241m=\u001b[39mheader_items, rows\u001b[38;5;241m=\u001b[39mrows)\n\u001b[1;32m     83\u001b[0m \u001b[38;5;28;01mreturn\u001b[39;00m generator\u001b[38;5;241m.\u001b[39mget_html()\n",
      "File \u001b[0;32m~/GIT/phenopacket-store/ps24venv/lib/python3.12/site-packages/pyphetools/visualization/individual_table.py:130\u001b[0m, in \u001b[0;36mIndividualTable._simple_patient_to_table_row\u001b[0;34m(self, spat)\u001b[0m\n\u001b[1;32m    128\u001b[0m \u001b[38;5;66;03m# Patient information\u001b[39;00m\n\u001b[1;32m    129\u001b[0m age_string \u001b[38;5;241m=\u001b[39m spat\u001b[38;5;241m.\u001b[39mget_age() \u001b[38;5;129;01mor\u001b[39;00m \u001b[38;5;124m\"\u001b[39m\u001b[38;5;124mage: n/a\u001b[39m\u001b[38;5;124m\"\u001b[39m\n\u001b[0;32m--> 130\u001b[0m pat_info \u001b[38;5;241m=\u001b[39m \u001b[43mspat\u001b[49m\u001b[38;5;241;43m.\u001b[39;49m\u001b[43mget_subject_id\u001b[49m\u001b[43m(\u001b[49m\u001b[43m)\u001b[49m\u001b[43m \u001b[49m\u001b[38;5;241;43m+\u001b[39;49m\u001b[43m \u001b[49m\u001b[38;5;124;43m\"\u001b[39;49m\u001b[38;5;124;43m (\u001b[39;49m\u001b[38;5;124;43m\"\u001b[39;49m\u001b[43m \u001b[49m\u001b[38;5;241;43m+\u001b[39;49m\u001b[43m \u001b[49m\u001b[43mspat\u001b[49m\u001b[38;5;241;43m.\u001b[39;49m\u001b[43mget_sex\u001b[49m\u001b[43m(\u001b[49m\u001b[43m)\u001b[49m\u001b[43m \u001b[49m\u001b[38;5;241;43m+\u001b[39;49m\u001b[43m \u001b[49m\u001b[38;5;124;43m\"\u001b[39;49m\u001b[38;5;124;43m; \u001b[39;49m\u001b[38;5;124;43m\"\u001b[39;49m\u001b[43m \u001b[49m\u001b[38;5;241;43m+\u001b[39;49m\u001b[43m \u001b[49m\u001b[43mage_string\u001b[49m \u001b[38;5;241m+\u001b[39m \u001b[38;5;124m\"\u001b[39m\u001b[38;5;124m)\u001b[39m\u001b[38;5;124m\"\u001b[39m\n\u001b[1;32m    131\u001b[0m row_items\u001b[38;5;241m.\u001b[39mappend( pat_info)\n\u001b[1;32m    132\u001b[0m row_items\u001b[38;5;241m.\u001b[39mappend( spat\u001b[38;5;241m.\u001b[39mget_disease())\n",
      "\u001b[0;31mTypeError\u001b[0m: can only concatenate str (not \"TimeElement\") to str"
     ]
    }
   ],
   "source": [
    "table = IndividualTable(cvalidator.get_error_free_individual_list())\n",
    "display(HTML(table.to_html()))"
   ]
  }
 ],
 "metadata": {
  "kernelspec": {
   "display_name": "ps24venv",
   "language": "python",
   "name": "python3"
  },
  "language_info": {
   "codemirror_mode": {
    "name": "ipython",
    "version": 3
   },
   "file_extension": ".py",
   "mimetype": "text/x-python",
   "name": "python",
   "nbconvert_exporter": "python",
   "pygments_lexer": "ipython3",
   "version": "3.12.4"
  }
 },
 "nbformat": 4,
 "nbformat_minor": 2
}
