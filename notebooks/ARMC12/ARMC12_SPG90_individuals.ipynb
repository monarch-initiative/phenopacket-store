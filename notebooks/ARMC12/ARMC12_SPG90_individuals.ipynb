{
 "cells": [
  {
   "cell_type": "markdown",
   "metadata": {},
   "source": [
    "# ARMC12\n",
    "[spermatogenic failure-90 (SPGF90)](https://omim.org/entry/620744) is caused by homozygous or compound heterozygous mutation in the ARMC12 gene."
   ]
  },
  {
   "cell_type": "code",
   "execution_count": 1,
   "metadata": {},
   "outputs": [
    {
     "name": "stdout",
     "output_type": "stream",
     "text": [
      "Using pyphetools version 0.9.84\n"
     ]
    },
    {
     "name": "stderr",
     "output_type": "stream",
     "text": [
      "/Users/robin/GIT/phenopacket-store/ps24venv/lib/python3.9/site-packages/urllib3/__init__.py:35: NotOpenSSLWarning: urllib3 v2 only supports OpenSSL 1.1.1+, currently the 'ssl' module is compiled with 'LibreSSL 2.8.3'. See: https://github.com/urllib3/urllib3/issues/3020\n",
      "  warnings.warn(\n"
     ]
    }
   ],
   "source": [
    "from pyphetools.creation import TemplateImporter\n",
    "from pyphetools.visualization import IndividualTable, QcVisualizer\n",
    "from IPython.display import display, HTML\n",
    "import pyphetools\n",
    "print(f\"Using pyphetools version {pyphetools.__version__}\")"
   ]
  },
  {
   "cell_type": "code",
   "execution_count": 2,
   "metadata": {},
   "outputs": [],
   "source": [
    "template = \"input/ARMC12_SPG90_individuals.xlsx\"\n",
    "created_by = \"0000-0002-0736-9199\""
   ]
  },
  {
   "cell_type": "code",
   "execution_count": 3,
   "metadata": {},
   "outputs": [
    {
     "name": "stdout",
     "output_type": "stream",
     "text": [
      "HPO version 2024-04-26\n",
      "Created encoders for 22 fields\n",
      "Importing OMIM:620744, Spermatogenic failure 90, HGNC:21099, ARMC12,  NM_001286574.2\n",
      "We output 3 GA4GH phenopackets to the directory phenopackets\n"
     ]
    }
   ],
   "source": [
    "timporter = TemplateImporter(template=template,  created_by=created_by)\n",
    "individual_list, cvalidator = timporter.import_phenopackets_from_template()"
   ]
  },
  {
   "cell_type": "code",
   "execution_count": 4,
   "metadata": {},
   "outputs": [
    {
     "data": {
      "text/html": [
       "<h2>Cohort validation</h2>\n",
       "<p>No errors found for the cohort with 3 individuals</p>"
      ],
      "text/plain": [
       "<IPython.core.display.HTML object>"
      ]
     },
     "metadata": {},
     "output_type": "display_data"
    }
   ],
   "source": [
    "qc = QcVisualizer(cohort_validator=cvalidator)\n",
    "display(HTML(qc.to_summary_html()))"
   ]
  },
  {
   "cell_type": "code",
   "execution_count": 5,
   "metadata": {},
   "outputs": [
    {
     "data": {
      "text/html": [
       "<table style=\"border: 2px solid black; align: \"left\">\n",
       "<caption>3 phenopackets - PMID:35534203 (n=3)</caption>\n",
       "<tr><th style=\"text-align: left;font-weight: bold;\">Individual</th><th style=\"text-align: left;font-weight: bold;\">Disease</th><th style=\"text-align: left;font-weight: bold;\">Genotype</th><th style=\"text-align: left;font-weight: bold;\">Phenotypic features</th></tr>\n",
       "<tr><td style=\"text-align: left;\">Family R0036/II-1 (MALE; n/a)</td><td style=\"text-align: left;\">Spermatogenic failure 90 (OMIM:620744)</td><td style=\"text-align: left;\">NM_001286574.2:c.635T>C (homozygous)</td><td style=\"text-align: left;\">Male infertility (HP:0003251); Reduced progressive sperm motility (HP:0034011); excluded: Abnormal circulating follicle-stimulating hormone concentration (HP:0030346); excluded: Abnormal circulating luteinizing hormone concentration (HP:0030345); excluded: Oligozoospermia (HP:0000798)</td></tr>\n",
       "<tr><td style=\"text-align: left;\">R0036/II-3 [P2] (MALE; n/a)</td><td style=\"text-align: left;\">Spermatogenic failure 90 (OMIM:620744)</td><td style=\"text-align: left;\">NM_001286574.2:c.635T>C (homozygous)</td><td style=\"text-align: left;\">Male infertility (HP:0003251); Reduced progressive sperm motility (HP:0034011); excluded: Abnormal circulating follicle-stimulating hormone concentration (HP:0030346); excluded: Abnormal circulating luteinizing hormone concentration (HP:0030345); excluded: Oligozoospermia (HP:0000798)</td></tr>\n",
       "<tr><td style=\"text-align: left;\">Family W0031/II-1 [P3] (MALE; n/a)</td><td style=\"text-align: left;\">Spermatogenic failure 90 (OMIM:620744)</td><td style=\"text-align: left;\"><ul> <li>NM_001286574.2:c.632G>A (heterozygous)</li> <li>NM_001286574.2:c.686G>A (heterozygous)</li> </ul></td><td style=\"text-align: left;\">Male infertility (HP:0003251); Reduced progressive sperm motility (HP:0034011); excluded: Abnormal circulating follicle-stimulating hormone concentration (HP:0030346); excluded: Abnormal circulating luteinizing hormone concentration (HP:0030345); excluded: Oligozoospermia (HP:0000798)</td></tr>\n",
       "</table>"
      ],
      "text/plain": [
       "<IPython.core.display.HTML object>"
      ]
     },
     "metadata": {},
     "output_type": "display_data"
    }
   ],
   "source": [
    "table = IndividualTable(cvalidator.get_error_free_individual_list())\n",
    "display(HTML(table.to_html()))"
   ]
  },
  {
   "cell_type": "code",
   "execution_count": 6,
   "metadata": {},
   "outputs": [
    {
     "name": "stdout",
     "output_type": "stream",
     "text": [
      "[pyphetools] Ingested 3 GA4GH phenopackets.\n",
      "\tSpermatogenic failure 90 (OMIM:620744): n=3\n",
      "We found a total of 5 unique HPO terms\n",
      "Extracted disease: Spermatogenic failure 90 (OMIM:620744)\n",
      "Wrote HPOA disease file to OMIM-620744.tab\n"
     ]
    },
    {
     "data": {
      "text/html": [
       "<div>\n",
       "<style scoped>\n",
       "    .dataframe tbody tr th:only-of-type {\n",
       "        vertical-align: middle;\n",
       "    }\n",
       "\n",
       "    .dataframe tbody tr th {\n",
       "        vertical-align: top;\n",
       "    }\n",
       "\n",
       "    .dataframe thead th {\n",
       "        text-align: right;\n",
       "    }\n",
       "</style>\n",
       "<table border=\"1\" class=\"dataframe\">\n",
       "  <thead>\n",
       "    <tr style=\"text-align: right;\">\n",
       "      <th></th>\n",
       "      <th>#diseaseID</th>\n",
       "      <th>diseaseName</th>\n",
       "      <th>phenotypeID</th>\n",
       "      <th>phenotypeName</th>\n",
       "      <th>onsetID</th>\n",
       "      <th>onsetName</th>\n",
       "      <th>frequency</th>\n",
       "      <th>sex</th>\n",
       "      <th>negation</th>\n",
       "      <th>modifier</th>\n",
       "      <th>description</th>\n",
       "      <th>publication</th>\n",
       "      <th>evidence</th>\n",
       "      <th>biocuration</th>\n",
       "    </tr>\n",
       "  </thead>\n",
       "  <tbody>\n",
       "    <tr>\n",
       "      <th>0</th>\n",
       "      <td>OMIM:620744</td>\n",
       "      <td>Spermatogenic failure 90</td>\n",
       "      <td>HP:0003251</td>\n",
       "      <td>Male infertility</td>\n",
       "      <td></td>\n",
       "      <td></td>\n",
       "      <td>3/3</td>\n",
       "      <td></td>\n",
       "      <td></td>\n",
       "      <td></td>\n",
       "      <td></td>\n",
       "      <td>PMID:35534203</td>\n",
       "      <td>PCS</td>\n",
       "      <td>ORCID:0000-0002-0736-9199[2024-05-08]</td>\n",
       "    </tr>\n",
       "    <tr>\n",
       "      <th>1</th>\n",
       "      <td>OMIM:620744</td>\n",
       "      <td>Spermatogenic failure 90</td>\n",
       "      <td>HP:0034011</td>\n",
       "      <td>Reduced progressive sperm motility</td>\n",
       "      <td></td>\n",
       "      <td></td>\n",
       "      <td>3/3</td>\n",
       "      <td></td>\n",
       "      <td></td>\n",
       "      <td></td>\n",
       "      <td></td>\n",
       "      <td>PMID:35534203</td>\n",
       "      <td>PCS</td>\n",
       "      <td>ORCID:0000-0002-0736-9199[2024-05-08]</td>\n",
       "    </tr>\n",
       "    <tr>\n",
       "      <th>2</th>\n",
       "      <td>OMIM:620744</td>\n",
       "      <td>Spermatogenic failure 90</td>\n",
       "      <td>HP:0030346</td>\n",
       "      <td>Abnormal circulating follicle-stimulating horm...</td>\n",
       "      <td></td>\n",
       "      <td></td>\n",
       "      <td>0/3</td>\n",
       "      <td></td>\n",
       "      <td></td>\n",
       "      <td></td>\n",
       "      <td></td>\n",
       "      <td>PMID:35534203</td>\n",
       "      <td>PCS</td>\n",
       "      <td>ORCID:0000-0002-0736-9199[2024-05-08]</td>\n",
       "    </tr>\n",
       "    <tr>\n",
       "      <th>3</th>\n",
       "      <td>OMIM:620744</td>\n",
       "      <td>Spermatogenic failure 90</td>\n",
       "      <td>HP:0030345</td>\n",
       "      <td>Abnormal circulating luteinizing hormone conce...</td>\n",
       "      <td></td>\n",
       "      <td></td>\n",
       "      <td>0/3</td>\n",
       "      <td></td>\n",
       "      <td></td>\n",
       "      <td></td>\n",
       "      <td></td>\n",
       "      <td>PMID:35534203</td>\n",
       "      <td>PCS</td>\n",
       "      <td>ORCID:0000-0002-0736-9199[2024-05-08]</td>\n",
       "    </tr>\n",
       "    <tr>\n",
       "      <th>4</th>\n",
       "      <td>OMIM:620744</td>\n",
       "      <td>Spermatogenic failure 90</td>\n",
       "      <td>HP:0000798</td>\n",
       "      <td>Oligozoospermia</td>\n",
       "      <td></td>\n",
       "      <td></td>\n",
       "      <td>0/3</td>\n",
       "      <td></td>\n",
       "      <td></td>\n",
       "      <td></td>\n",
       "      <td></td>\n",
       "      <td>PMID:35534203</td>\n",
       "      <td>PCS</td>\n",
       "      <td>ORCID:0000-0002-0736-9199[2024-05-08]</td>\n",
       "    </tr>\n",
       "    <tr>\n",
       "      <th>5</th>\n",
       "      <td>OMIM:620744</td>\n",
       "      <td>Spermatogenic failure 90</td>\n",
       "      <td>HP:0011462</td>\n",
       "      <td>Young adult onset</td>\n",
       "      <td></td>\n",
       "      <td></td>\n",
       "      <td>3/3</td>\n",
       "      <td></td>\n",
       "      <td></td>\n",
       "      <td></td>\n",
       "      <td></td>\n",
       "      <td>PMID:35534203</td>\n",
       "      <td>PCS</td>\n",
       "      <td>ORCID:0000-0002-0736-9199[2024-05-08]</td>\n",
       "    </tr>\n",
       "    <tr>\n",
       "      <th>6</th>\n",
       "      <td>OMIM:620744</td>\n",
       "      <td>Spermatogenic failure 90</td>\n",
       "      <td>HP:0000007</td>\n",
       "      <td>Autosomal recessive inheritance</td>\n",
       "      <td></td>\n",
       "      <td></td>\n",
       "      <td></td>\n",
       "      <td></td>\n",
       "      <td></td>\n",
       "      <td></td>\n",
       "      <td></td>\n",
       "      <td>PMID:35534203</td>\n",
       "      <td>PCS</td>\n",
       "      <td>ORCID:0000-0002-0736-9199[2024-05-08]</td>\n",
       "    </tr>\n",
       "  </tbody>\n",
       "</table>\n",
       "</div>"
      ],
      "text/plain": [
       "    #diseaseID               diseaseName phenotypeID  \\\n",
       "0  OMIM:620744  Spermatogenic failure 90  HP:0003251   \n",
       "1  OMIM:620744  Spermatogenic failure 90  HP:0034011   \n",
       "2  OMIM:620744  Spermatogenic failure 90  HP:0030346   \n",
       "3  OMIM:620744  Spermatogenic failure 90  HP:0030345   \n",
       "4  OMIM:620744  Spermatogenic failure 90  HP:0000798   \n",
       "5  OMIM:620744  Spermatogenic failure 90  HP:0011462   \n",
       "6  OMIM:620744  Spermatogenic failure 90  HP:0000007   \n",
       "\n",
       "                                       phenotypeName onsetID onsetName  \\\n",
       "0                                   Male infertility                     \n",
       "1                 Reduced progressive sperm motility                     \n",
       "2  Abnormal circulating follicle-stimulating horm...                     \n",
       "3  Abnormal circulating luteinizing hormone conce...                     \n",
       "4                                    Oligozoospermia                     \n",
       "5                                  Young adult onset                     \n",
       "6                    Autosomal recessive inheritance                     \n",
       "\n",
       "  frequency sex negation modifier description    publication evidence  \\\n",
       "0       3/3                                    PMID:35534203      PCS   \n",
       "1       3/3                                    PMID:35534203      PCS   \n",
       "2       0/3                                    PMID:35534203      PCS   \n",
       "3       0/3                                    PMID:35534203      PCS   \n",
       "4       0/3                                    PMID:35534203      PCS   \n",
       "5       3/3                                    PMID:35534203      PCS   \n",
       "6                                              PMID:35534203      PCS   \n",
       "\n",
       "                             biocuration  \n",
       "0  ORCID:0000-0002-0736-9199[2024-05-08]  \n",
       "1  ORCID:0000-0002-0736-9199[2024-05-08]  \n",
       "2  ORCID:0000-0002-0736-9199[2024-05-08]  \n",
       "3  ORCID:0000-0002-0736-9199[2024-05-08]  \n",
       "4  ORCID:0000-0002-0736-9199[2024-05-08]  \n",
       "5  ORCID:0000-0002-0736-9199[2024-05-08]  \n",
       "6  ORCID:0000-0002-0736-9199[2024-05-08]  "
      ]
     },
     "execution_count": 6,
     "metadata": {},
     "output_type": "execute_result"
    }
   ],
   "source": [
    "pmid = \"PMID:35534203\"\n",
    "timporter.create_hpoa_from_phenopackets(pmid=pmid, moi=\"Autosomal recessive\")"
   ]
  }
 ],
 "metadata": {
  "kernelspec": {
   "display_name": "ps24venv",
   "language": "python",
   "name": "python3"
  },
  "language_info": {
   "codemirror_mode": {
    "name": "ipython",
    "version": 3
   },
   "file_extension": ".py",
   "mimetype": "text/x-python",
   "name": "python",
   "nbconvert_exporter": "python",
   "pygments_lexer": "ipython3",
   "version": "3.9.6"
  }
 },
 "nbformat": 4,
 "nbformat_minor": 2
}
