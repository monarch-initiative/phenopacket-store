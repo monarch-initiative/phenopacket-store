{
 "cells": [
  {
   "cell_type": "markdown",
   "metadata": {},
   "source": [
    "# PGN\n",
    "[ spastic paraplegia-7 (SPG7)](https://omim.org/entry/607259) is caused by homozygous or compound heterozygous mutation in the paraplegin gene."
   ]
  },
  {
   "cell_type": "code",
   "execution_count": 1,
   "metadata": {},
   "outputs": [
    {
     "name": "stdout",
     "output_type": "stream",
     "text": [
      "Using pyphetools version 0.9.91\n"
     ]
    },
    {
     "name": "stderr",
     "output_type": "stream",
     "text": [
      "/Users/robin/GIT/phenopacket-store/ps24venv/lib/python3.9/site-packages/urllib3/__init__.py:35: NotOpenSSLWarning: urllib3 v2 only supports OpenSSL 1.1.1+, currently the 'ssl' module is compiled with 'LibreSSL 2.8.3'. See: https://github.com/urllib3/urllib3/issues/3020\n",
      "  warnings.warn(\n"
     ]
    }
   ],
   "source": [
    "from pyphetools.creation import TemplateImporter\n",
    "from pyphetools.visualization import IndividualTable, QcVisualizer\n",
    "from IPython.display import display, HTML\n",
    "import pyphetools\n",
    "print(f\"Using pyphetools version {pyphetools.__version__}\")"
   ]
  },
  {
   "cell_type": "code",
   "execution_count": 2,
   "metadata": {},
   "outputs": [],
   "source": [
    "template = \"input/SPG7_SPG7_individuals.xlsx\"\n",
    "created_by = \"0000-0002-0736-9199\""
   ]
  },
  {
   "cell_type": "code",
   "execution_count": 3,
   "metadata": {},
   "outputs": [
    {
     "name": "stdout",
     "output_type": "stream",
     "text": [
      "HPO version 2024-04-26\n",
      "Created encoders for 50 fields\n",
      "ERROR: Error: Did not recognize heaeder fields: - \"Abnormal motor evoked potentials\" -- \" HP:0012896\"\n",
      "Importing OMIM:607259, Spastic paraplegia 7, autosomal recessive, HGNC:11237, SPG7,  NM_003119.4\n",
      "[INFO] encoding variant \"c.2075G>C\"\n",
      "https://rest.variantvalidator.org/VariantValidator/variantvalidator/hg38/NM_003119.4%3Ac.2075G>C/NM_003119.4?content-type=application%2Fjson\n",
      "We output 3 GA4GH phenopackets to the directory phenopackets\n"
     ]
    }
   ],
   "source": [
    "timporter = TemplateImporter(template=template,  created_by=created_by)\n",
    "individual_list, cvalidator = timporter.import_phenopackets_from_template()"
   ]
  },
  {
   "cell_type": "code",
   "execution_count": 4,
   "metadata": {},
   "outputs": [
    {
     "data": {
      "text/html": [
       "<h2>Cohort validation</h2>\n",
       "<p>Errors found with 3 of 3 phenopackets.</p>\n",
       "<table style=\"border: 2px solid black; align: \"left\">\n",
       "<caption>Error counts</caption>\n",
       "<tr><th style=\"text-align: left;font-weight: bold;\">Level</th><th style=\"text-align: left;font-weight: bold;\">Error category</th><th style=\"text-align: left;font-weight: bold;\">Count</th></tr>\n",
       "<tr><td style=\"text-align: left;\">ERROR</td><td style=\"text-align: left;\">CONFLICT</td><td style=\"text-align: left;\">2</td></tr>\n",
       "<tr><td style=\"text-align: left;\">WARNING</td><td style=\"text-align: left;\">REDUNDANT</td><td style=\"text-align: left;\">1</td></tr>\n",
       "</table>\n",
       "<p>A total of 3 issues were fixed and no individual was removed from the cohort.</p>"
      ],
      "text/plain": [
       "<IPython.core.display.HTML object>"
      ]
     },
     "metadata": {},
     "output_type": "display_data"
    }
   ],
   "source": [
    "qc = QcVisualizer(cohort_validator=cvalidator)\n",
    "display(HTML(qc.to_summary_html()))"
   ]
  },
  {
   "cell_type": "code",
   "execution_count": 5,
   "metadata": {},
   "outputs": [
    {
     "data": {
      "text/html": [
       "<table style=\"border: 2px solid black; align: \"left\">\n",
       "<caption>3 phenopackets - PMID:17646629 (n=3)</caption>\n",
       "<tr><th style=\"text-align: left;font-weight: bold;\">Individual</th><th style=\"text-align: left;font-weight: bold;\">Disease</th><th style=\"text-align: left;font-weight: bold;\">Genotype</th><th style=\"text-align: left;font-weight: bold;\">Phenotypic features</th></tr>\n",
       "<tr><td style=\"text-align: left;\">index patient (II-3) (FEMALE; P38Y)</td><td style=\"text-align: left;\">Spastic paraplegia 7, autosomal recessive (OMIM:607259)</td><td style=\"text-align: left;\">NM_003119.4:c.2075G>C (homozygous)</td><td style=\"text-align: left;\"><b>P16Y</b>: Difficulty walking (HP:0002355)<br/>Lower limb spasticity (HP:0002061); Lower limb hyperreflexia (HP:0002395); Supranuclear gaze palsy (HP:0000605); Cerebellar atrophy (HP:0001272); Impaired executive functioning (HP:0033051); Dysarthria (HP:0001260); Nystagmus (HP:0000639); excluded: Upper limb spasticity (HP:0006986); excluded: Upper limb muscle weakness (HP:0003484); excluded: Hyperreflexia in upper limbs (HP:0007350); excluded: Babinski sign (HP:0003487); excluded: Lower limb muscle weakness (HP:0007340); excluded: Limb ataxia (HP:0002070); excluded: Abnormality of somatosensory evoked potentials (HP:0007377); excluded: Memory impairment (HP:0002354); excluded: Urinary incontinence (HP:0000020)</td></tr>\n",
       "<tr><td style=\"text-align: left;\">brother II-4 (MALE; P43Y)</td><td style=\"text-align: left;\">Spastic paraplegia 7, autosomal recessive (OMIM:607259)</td><td style=\"text-align: left;\">NM_003119.4:c.2075G>C (homozygous)</td><td style=\"text-align: left;\"><b>P10Y</b>: Difficulty walking (HP:0002355)<br/>Babinski sign (HP:0003487); Lower limb spasticity (HP:0002061); Limb ataxia (HP:0002070); Lower limb hyperreflexia (HP:0002395); Supranuclear gaze palsy (HP:0000605); Cerebellar atrophy (HP:0001272); Impaired executive functioning (HP:0033051); Memory impairment (HP:0002354); Dysarthria (HP:0001260); Nystagmus (HP:0000639); excluded: Upper limb spasticity (HP:0006986); excluded: Upper limb muscle weakness (HP:0003484); excluded: Hyperreflexia in upper limbs (HP:0007350); excluded: Lower limb muscle weakness (HP:0007340); excluded: Abnormality of somatosensory evoked potentials (HP:0007377); excluded: Urinary incontinence (HP:0000020)</td></tr>\n",
       "<tr><td style=\"text-align: left;\">brother II-1 (MALE; P33Y)</td><td style=\"text-align: left;\">Spastic paraplegia 7, autosomal recessive (OMIM:607259)</td><td style=\"text-align: left;\">NM_003119.4:c.2075G>C (homozygous)</td><td style=\"text-align: left;\"><b>P29Y</b>: Difficulty walking (HP:0002355)<br/>Babinski sign (HP:0003487); Lower limb spasticity (HP:0002061); Lower limb muscle weakness (HP:0007340); Limb ataxia (HP:0002070); Lower limb hyperreflexia (HP:0002395); Supranuclear gaze palsy (HP:0000605); Cerebellar atrophy (HP:0001272); Impaired executive functioning (HP:0033051); Memory impairment (HP:0002354); Dysarthria (HP:0001260); Urinary incontinence (HP:0000020); Nystagmus (HP:0000639); excluded: Upper limb spasticity (HP:0006986); excluded: Upper limb muscle weakness (HP:0003484); excluded: Hyperreflexia in upper limbs (HP:0007350); excluded: Abnormality of somatosensory evoked potentials (HP:0007377)</td></tr>\n",
       "</table>"
      ],
      "text/plain": [
       "<IPython.core.display.HTML object>"
      ]
     },
     "metadata": {},
     "output_type": "display_data"
    }
   ],
   "source": [
    "table = IndividualTable(cvalidator.get_error_free_individual_list())\n",
    "display(HTML(table.to_html()))"
   ]
  },
  {
   "cell_type": "code",
   "execution_count": 6,
   "metadata": {},
   "outputs": [
    {
     "name": "stdout",
     "output_type": "stream",
     "text": [
      "[pyphetools] Ingested 3 GA4GH phenopackets.\n",
      "[INFO] Extracted 3 from 3 phenopackets with OMIM:607259\n",
      "\n",
      "\tSpastic paraplegia 7, autosomal recessive (OMIM:607259): n=3\n",
      "We found a total of 17 unique HPO terms\n",
      "Extracted disease: Spastic paraplegia 7, autosomal recessive (OMIM:607259)\n",
      "Wrote HPOA disease file to OMIM-607259.tab\n"
     ]
    }
   ],
   "source": [
    "pmid = \"PMID:17646629\"\n",
    "df = timporter.create_hpoa_from_phenopackets(pmid=pmid, moi=\"Autosomal recessive\", target=\"OMIM:607259\")"
   ]
  }
 ],
 "metadata": {
  "kernelspec": {
   "display_name": "ps24venv",
   "language": "python",
   "name": "python3"
  },
  "language_info": {
   "codemirror_mode": {
    "name": "ipython",
    "version": 3
   },
   "file_extension": ".py",
   "mimetype": "text/x-python",
   "name": "python",
   "nbconvert_exporter": "python",
   "pygments_lexer": "ipython3",
   "version": "3.9.6"
  }
 },
 "nbformat": 4,
 "nbformat_minor": 2
}
