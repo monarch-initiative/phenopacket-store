{
 "cells": [
  {
   "cell_type": "markdown",
   "id": "e76cfc8d-de9c-4d1f-86fe-afa5715037bb",
   "metadata": {},
   "source": [
    "# SCO2 Myopia 6 "
   ]
  },
  {
   "cell_type": "code",
   "execution_count": 1,
   "id": "75020d50-bb78-4e7f-967f-56d3335cf6ef",
   "metadata": {},
   "outputs": [
    {
     "name": "stdout",
     "output_type": "stream",
     "text": [
      "Using pyphetools version 0.9.110\n"
     ]
    }
   ],
   "source": [
    "from pyphetools.creation import TemplateImporter, Moi\n",
    "from pyphetools.visualization import IndividualTable, QcVisualizer\n",
    "from IPython.display import display, HTML\n",
    "import pyphetools\n",
    "print(f\"Using pyphetools version {pyphetools.__version__}\")"
   ]
  },
  {
   "cell_type": "code",
   "execution_count": 2,
   "id": "b709d4f2-34bc-488e-b583-e9b3efa85189",
   "metadata": {},
   "outputs": [],
   "source": [
    "template = \"input/SCO2_MYP6_individuals.xlsx\"\n",
    "created_by = \"0000-0002-0736-9199\""
   ]
  },
  {
   "cell_type": "code",
   "execution_count": 3,
   "id": "251d59c4-03c8-4aee-89f5-61717d4ac8d6",
   "metadata": {},
   "outputs": [
    {
     "name": "stdout",
     "output_type": "stream",
     "text": [
      "HPO version 2024-08-13\n",
      "Created encoders for 34 fields\n",
      "Importing OMIM:608908, Myopia 6, HGNC:10604, SCO2,  NM_005138.3\n",
      "We output 6 GA4GH phenopackets to the directory phenopackets\n"
     ]
    }
   ],
   "source": [
    "timporter = TemplateImporter(template=template, created_by=created_by)\n",
    "individual_list, cvalidator = timporter.import_phenopackets_from_template()"
   ]
  },
  {
   "cell_type": "code",
   "execution_count": 4,
   "id": "0ee4b655-f35e-4539-8cab-ab6c7a8db0c3",
   "metadata": {},
   "outputs": [
    {
     "data": {
      "text/html": [
       "<h2>Cohort validation</h2>\n",
       "<p>No errors found for the cohort with 6 individuals</p>"
      ],
      "text/plain": [
       "<IPython.core.display.HTML object>"
      ]
     },
     "metadata": {},
     "output_type": "display_data"
    }
   ],
   "source": [
    "qc = QcVisualizer(cohort_validator=cvalidator)\n",
    "display(HTML(qc.to_summary_html()))"
   ]
  },
  {
   "cell_type": "code",
   "execution_count": 5,
   "id": "bd5d340d-c877-4592-800a-62fd6764ac35",
   "metadata": {},
   "outputs": [
    {
     "data": {
      "text/html": [
       "<table style=\"border: 2px solid black; align: \"left\">\n",
       "<caption>6 phenopackets - PMID:25525168 (n=2); PMID:23643385 (n=4)</caption>\n",
       "<tr><th style=\"text-align: left;font-weight: bold;\">Individual</th><th style=\"text-align: left;font-weight: bold;\">Disease</th><th style=\"text-align: left;font-weight: bold;\">Genotype</th><th style=\"text-align: left;font-weight: bold;\">Phenotypic features</th></tr>\n",
       "<tr><td style=\"text-align: left;\">HM640 (FEMALE; P32Y)</td><td style=\"text-align: left;\">Myopia 6 (OMIM:608908)</td><td style=\"text-align: left;\">NM_005138.3:c.334C>T (heterozygous)</td><td style=\"text-align: left;\">High myopia (HP:0011003): onset ; Reduced visual acuity (HP:0007663): onset ; Increased axial length of the globe (HP:0007800): onset ; Abnormal fundus morphology (HP:0001098): onset ; excluded: Congestive heart failure (HP:0001635): onset ; excluded: Respiratory failure (HP:0002878): onset ; excluded: Failure to thrive (HP:0001508): onset ; excluded: Seizure (HP:0001250): onset ; excluded: Hearing impairment (HP:0000365): onset ; excluded: Muscle weakness (HP:0001324): onset ; excluded: Ataxia (HP:0001251): onset ; excluded: Skeletal muscle atrophy (HP:0003202): onset ; excluded: Intellectual disability (HP:0001249): onset </td></tr>\n",
       "<tr><td style=\"text-align: left;\">HM789 (FEMALE; P6Y)</td><td style=\"text-align: left;\">Myopia 6 (OMIM:608908)</td><td style=\"text-align: left;\">NM_005138.3:c.358C>T (heterozygous)</td><td style=\"text-align: left;\">High myopia (HP:0011003): onset ; Reduced visual acuity (HP:0007663): onset ; Increased axial length of the globe (HP:0007800): onset ; Abnormal fundus morphology (HP:0001098): onset ; excluded: Congestive heart failure (HP:0001635): onset ; excluded: Respiratory failure (HP:0002878): onset ; excluded: Failure to thrive (HP:0001508): onset ; excluded: Seizure (HP:0001250): onset ; excluded: Hearing impairment (HP:0000365): onset ; excluded: Muscle weakness (HP:0001324): onset ; excluded: Ataxia (HP:0001251): onset ; excluded: Skeletal muscle atrophy (HP:0003202): onset ; excluded: Intellectual disability (HP:0001249): onset </td></tr>\n",
       "<tr><td style=\"text-align: left;\">family CHP-6 IV:3 (UNKNOWN)</td><td style=\"text-align: left;\">Myopia 6 (OMIM:608908)</td><td style=\"text-align: left;\">NM_005138.3:c.157C>T (heterozygous)</td><td style=\"text-align: left;\">High myopia (HP:0011003): onset ; excluded: Congestive heart failure (HP:0001635): onset ; excluded: Respiratory failure (HP:0002878): onset ; excluded: Motor delay (HP:0001270): onset ; excluded: Failure to thrive (HP:0001508): onset ; excluded: Hypotonia (HP:0001252): onset ; excluded: Seizure (HP:0001250): onset ; excluded: Hearing impairment (HP:0000365): onset ; excluded: Muscle weakness (HP:0001324): onset ; excluded: Ataxia (HP:0001251): onset ; excluded: Skeletal muscle atrophy (HP:0003202): onset ; excluded: Intellectual disability (HP:0001249): onset </td></tr>\n",
       "<tr><td style=\"text-align: left;\">CHP-150 (UNKNOWN)</td><td style=\"text-align: left;\">Myopia 6 (OMIM:608908)</td><td style=\"text-align: left;\">NM_005138.3:c.341G>A (heterozygous)</td><td style=\"text-align: left;\">High myopia (HP:0011003): onset ; excluded: Congestive heart failure (HP:0001635): onset ; excluded: Respiratory failure (HP:0002878): onset ; excluded: Motor delay (HP:0001270): onset ; excluded: Failure to thrive (HP:0001508): onset ; excluded: Hypotonia (HP:0001252): onset ; excluded: Seizure (HP:0001250): onset ; excluded: Hearing impairment (HP:0000365): onset ; excluded: Muscle weakness (HP:0001324): onset ; excluded: Ataxia (HP:0001251): onset ; excluded: Skeletal muscle atrophy (HP:0003202): onset ; excluded: Intellectual disability (HP:0001249): onset </td></tr>\n",
       "<tr><td style=\"text-align: left;\">CHP-162 (UNKNOWN)</td><td style=\"text-align: left;\">Myopia 6 (OMIM:608908)</td><td style=\"text-align: left;\">NM_005138.3:c.418G>A (heterozygous)</td><td style=\"text-align: left;\">High myopia (HP:0011003): onset ; excluded: Congestive heart failure (HP:0001635): onset ; excluded: Respiratory failure (HP:0002878): onset ; excluded: Motor delay (HP:0001270): onset ; excluded: Failure to thrive (HP:0001508): onset ; excluded: Hypotonia (HP:0001252): onset ; excluded: Seizure (HP:0001250): onset ; excluded: Hearing impairment (HP:0000365): onset ; excluded: Muscle weakness (HP:0001324): onset ; excluded: Ataxia (HP:0001251): onset ; excluded: Skeletal muscle atrophy (HP:0003202): onset ; excluded: Intellectual disability (HP:0001249): onset </td></tr>\n",
       "<tr><td style=\"text-align: left;\">CHP-84 (UNKNOWN)</td><td style=\"text-align: left;\">Myopia 6 (OMIM:608908)</td><td style=\"text-align: left;\">NM_005138.3:c.776C>T (heterozygous)</td><td style=\"text-align: left;\">High myopia (HP:0011003): onset ; excluded: Congestive heart failure (HP:0001635): onset ; excluded: Respiratory failure (HP:0002878): onset ; excluded: Motor delay (HP:0001270): onset ; excluded: Failure to thrive (HP:0001508): onset ; excluded: Hypotonia (HP:0001252): onset ; excluded: Seizure (HP:0001250): onset ; excluded: Hearing impairment (HP:0000365): onset ; excluded: Muscle weakness (HP:0001324): onset ; excluded: Ataxia (HP:0001251): onset ; excluded: Skeletal muscle atrophy (HP:0003202): onset ; excluded: Intellectual disability (HP:0001249): onset </td></tr>\n",
       "</table>"
      ],
      "text/plain": [
       "<IPython.core.display.HTML object>"
      ]
     },
     "metadata": {},
     "output_type": "display_data"
    }
   ],
   "source": [
    "table = IndividualTable(cvalidator.get_error_free_individual_list())\n",
    "display(HTML(table.to_html()))"
   ]
  },
  {
   "cell_type": "code",
   "execution_count": 7,
   "id": "3af8e09c",
   "metadata": {},
   "outputs": [
    {
     "name": "stdout",
     "output_type": "stream",
     "text": [
      "[pyphetools] Ingested 6 GA4GH phenopackets.\n",
      "[INFO] Extracted 6 from 6 phenopackets with OMIM:608908\n",
      "\n",
      "\tMyopia 6 (OMIM:608908): n=6\n",
      "We found a total of 15 unique HPO terms\n",
      "Extracted disease: Myopia 6 (OMIM:608908)\n",
      "Wrote HPOA disease file to OMIM-608908.tab\n"
     ]
    },
    {
     "data": {
      "text/html": [
       "<div>\n",
       "<style scoped>\n",
       "    .dataframe tbody tr th:only-of-type {\n",
       "        vertical-align: middle;\n",
       "    }\n",
       "\n",
       "    .dataframe tbody tr th {\n",
       "        vertical-align: top;\n",
       "    }\n",
       "\n",
       "    .dataframe thead th {\n",
       "        text-align: right;\n",
       "    }\n",
       "</style>\n",
       "<table border=\"1\" class=\"dataframe\">\n",
       "  <thead>\n",
       "    <tr style=\"text-align: right;\">\n",
       "      <th></th>\n",
       "      <th>#diseaseID</th>\n",
       "      <th>diseaseName</th>\n",
       "      <th>phenotypeID</th>\n",
       "      <th>phenotypeName</th>\n",
       "      <th>onsetID</th>\n",
       "      <th>onsetName</th>\n",
       "      <th>frequency</th>\n",
       "      <th>sex</th>\n",
       "      <th>negation</th>\n",
       "      <th>modifier</th>\n",
       "      <th>description</th>\n",
       "      <th>publication</th>\n",
       "      <th>evidence</th>\n",
       "      <th>biocuration</th>\n",
       "    </tr>\n",
       "  </thead>\n",
       "  <tbody>\n",
       "    <tr>\n",
       "      <th>0</th>\n",
       "      <td>OMIM:608908</td>\n",
       "      <td>Myopia 6</td>\n",
       "      <td>HP:0011003</td>\n",
       "      <td>High myopia</td>\n",
       "      <td></td>\n",
       "      <td></td>\n",
       "      <td>4/4</td>\n",
       "      <td></td>\n",
       "      <td></td>\n",
       "      <td></td>\n",
       "      <td></td>\n",
       "      <td>PMID:23643385</td>\n",
       "      <td>PCS</td>\n",
       "      <td>ORCID:0000-0002-0736-9199[2024-10-31]</td>\n",
       "    </tr>\n",
       "    <tr>\n",
       "      <th>1</th>\n",
       "      <td>OMIM:608908</td>\n",
       "      <td>Myopia 6</td>\n",
       "      <td>HP:0001635</td>\n",
       "      <td>Congestive heart failure</td>\n",
       "      <td></td>\n",
       "      <td></td>\n",
       "      <td>0/4</td>\n",
       "      <td></td>\n",
       "      <td></td>\n",
       "      <td></td>\n",
       "      <td></td>\n",
       "      <td>PMID:23643385</td>\n",
       "      <td>PCS</td>\n",
       "      <td>ORCID:0000-0002-0736-9199[2024-10-31]</td>\n",
       "    </tr>\n",
       "    <tr>\n",
       "      <th>2</th>\n",
       "      <td>OMIM:608908</td>\n",
       "      <td>Myopia 6</td>\n",
       "      <td>HP:0002878</td>\n",
       "      <td>Respiratory failure</td>\n",
       "      <td></td>\n",
       "      <td></td>\n",
       "      <td>0/4</td>\n",
       "      <td></td>\n",
       "      <td></td>\n",
       "      <td></td>\n",
       "      <td></td>\n",
       "      <td>PMID:23643385</td>\n",
       "      <td>PCS</td>\n",
       "      <td>ORCID:0000-0002-0736-9199[2024-10-31]</td>\n",
       "    </tr>\n",
       "    <tr>\n",
       "      <th>3</th>\n",
       "      <td>OMIM:608908</td>\n",
       "      <td>Myopia 6</td>\n",
       "      <td>HP:0001270</td>\n",
       "      <td>Motor delay</td>\n",
       "      <td></td>\n",
       "      <td></td>\n",
       "      <td>0/4</td>\n",
       "      <td></td>\n",
       "      <td></td>\n",
       "      <td></td>\n",
       "      <td></td>\n",
       "      <td>PMID:23643385</td>\n",
       "      <td>PCS</td>\n",
       "      <td>ORCID:0000-0002-0736-9199[2024-10-31]</td>\n",
       "    </tr>\n",
       "    <tr>\n",
       "      <th>4</th>\n",
       "      <td>OMIM:608908</td>\n",
       "      <td>Myopia 6</td>\n",
       "      <td>HP:0001508</td>\n",
       "      <td>Failure to thrive</td>\n",
       "      <td></td>\n",
       "      <td></td>\n",
       "      <td>0/4</td>\n",
       "      <td></td>\n",
       "      <td></td>\n",
       "      <td></td>\n",
       "      <td></td>\n",
       "      <td>PMID:23643385</td>\n",
       "      <td>PCS</td>\n",
       "      <td>ORCID:0000-0002-0736-9199[2024-10-31]</td>\n",
       "    </tr>\n",
       "  </tbody>\n",
       "</table>\n",
       "</div>"
      ],
      "text/plain": [
       "    #diseaseID diseaseName phenotypeID             phenotypeName onsetID  \\\n",
       "0  OMIM:608908    Myopia 6  HP:0011003               High myopia           \n",
       "1  OMIM:608908    Myopia 6  HP:0001635  Congestive heart failure           \n",
       "2  OMIM:608908    Myopia 6  HP:0002878       Respiratory failure           \n",
       "3  OMIM:608908    Myopia 6  HP:0001270               Motor delay           \n",
       "4  OMIM:608908    Myopia 6  HP:0001508         Failure to thrive           \n",
       "\n",
       "  onsetName frequency sex negation modifier description    publication  \\\n",
       "0                 4/4                                    PMID:23643385   \n",
       "1                 0/4                                    PMID:23643385   \n",
       "2                 0/4                                    PMID:23643385   \n",
       "3                 0/4                                    PMID:23643385   \n",
       "4                 0/4                                    PMID:23643385   \n",
       "\n",
       "  evidence                            biocuration  \n",
       "0      PCS  ORCID:0000-0002-0736-9199[2024-10-31]  \n",
       "1      PCS  ORCID:0000-0002-0736-9199[2024-10-31]  \n",
       "2      PCS  ORCID:0000-0002-0736-9199[2024-10-31]  \n",
       "3      PCS  ORCID:0000-0002-0736-9199[2024-10-31]  \n",
       "4      PCS  ORCID:0000-0002-0736-9199[2024-10-31]  "
      ]
     },
     "execution_count": 7,
     "metadata": {},
     "output_type": "execute_result"
    }
   ],
   "source": [
    "pmid = \"PMID:25525168\"\n",
    "df = timporter.create_hpoa_from_phenopackets(pmid=pmid, mode_of_inheritance=Moi.AD, target=\"OMIM:608908\")\n",
    "df.head()"
   ]
  },
  {
   "cell_type": "code",
   "execution_count": null,
   "id": "8216f9a8",
   "metadata": {},
   "outputs": [],
   "source": []
  }
 ],
 "metadata": {
  "kernelspec": {
   "display_name": "ps24venv",
   "language": "python",
   "name": "python3"
  },
  "language_info": {
   "codemirror_mode": {
    "name": "ipython",
    "version": 3
   },
   "file_extension": ".py",
   "mimetype": "text/x-python",
   "name": "python",
   "nbconvert_exporter": "python",
   "pygments_lexer": "ipython3",
   "version": "3.12.4"
  }
 },
 "nbformat": 4,
 "nbformat_minor": 5
}
