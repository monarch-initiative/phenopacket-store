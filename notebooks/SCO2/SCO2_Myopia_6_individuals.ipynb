{
 "cells": [
  {
   "cell_type": "markdown",
   "id": "e76cfc8d-de9c-4d1f-86fe-afa5715037bb",
   "metadata": {},
   "source": [
    "# SCO2 Myopia 6 "
   ]
  },
  {
   "cell_type": "code",
   "execution_count": 1,
   "id": "75020d50-bb78-4e7f-967f-56d3335cf6ef",
   "metadata": {},
   "outputs": [
    {
     "name": "stdout",
     "output_type": "stream",
     "text": [
      "Using pyphetools version 0.9.95\n"
     ]
    }
   ],
   "source": [
    "from pyphetools.creation import TemplateImporter, Moi\n",
    "from pyphetools.visualization import IndividualTable, QcVisualizer\n",
    "from IPython.display import display, HTML\n",
    "import pyphetools\n",
    "print(f\"Using pyphetools version {pyphetools.__version__}\")"
   ]
  },
  {
   "cell_type": "code",
   "execution_count": 2,
   "id": "b709d4f2-34bc-488e-b583-e9b3efa85189",
   "metadata": {},
   "outputs": [],
   "source": [
    "template = \"input/SCO2_MYP6_individuals.xlsx\"\n",
    "created_by = \"0000-0002-0736-9199\""
   ]
  },
  {
   "cell_type": "code",
   "execution_count": 3,
   "id": "251d59c4-03c8-4aee-89f5-61717d4ac8d6",
   "metadata": {},
   "outputs": [
    {
     "name": "stdout",
     "output_type": "stream",
     "text": [
      "HPO version 2024-07-01\n",
      "Created encoders for 34 fields\n",
      "Importing OMIM:608908, Myopia 6, HGNC:10604, SCO2,  NM_005138.3\n",
      "[INFO] encoding variant \"c.157C>T\"\n",
      "https://rest.variantvalidator.org/VariantValidator/variantvalidator/hg38/NM_005138.3%3Ac.157C>T/NM_005138.3?content-type=application%2Fjson\n",
      "[INFO] encoding variant \"c.341G>A\"\n",
      "https://rest.variantvalidator.org/VariantValidator/variantvalidator/hg38/NM_005138.3%3Ac.341G>A/NM_005138.3?content-type=application%2Fjson\n",
      "[INFO] encoding variant \"c.334C>T\"\n",
      "https://rest.variantvalidator.org/VariantValidator/variantvalidator/hg38/NM_005138.3%3Ac.334C>T/NM_005138.3?content-type=application%2Fjson\n",
      "[INFO] encoding variant \"c.776C>T\"\n",
      "https://rest.variantvalidator.org/VariantValidator/variantvalidator/hg38/NM_005138.3%3Ac.776C>T/NM_005138.3?content-type=application%2Fjson\n",
      "[INFO] encoding variant \"c.358C>T\"\n",
      "https://rest.variantvalidator.org/VariantValidator/variantvalidator/hg38/NM_005138.3%3Ac.358C>T/NM_005138.3?content-type=application%2Fjson\n",
      "[INFO] encoding variant \"c.418G>A\"\n",
      "https://rest.variantvalidator.org/VariantValidator/variantvalidator/hg38/NM_005138.3%3Ac.418G>A/NM_005138.3?content-type=application%2Fjson\n",
      "We output 6 GA4GH phenopackets to the directory phenopackets\n"
     ]
    }
   ],
   "source": [
    "timporter = TemplateImporter(template=template, created_by=created_by)\n",
    "individual_list, cvalidator = timporter.import_phenopackets_from_template()"
   ]
  },
  {
   "cell_type": "code",
   "execution_count": 4,
   "id": "0ee4b655-f35e-4539-8cab-ab6c7a8db0c3",
   "metadata": {},
   "outputs": [
    {
     "data": {
      "text/html": [
       "<h2>Cohort validation</h2>\n",
       "<p>No errors found for the cohort with 6 individuals</p>"
      ],
      "text/plain": [
       "<IPython.core.display.HTML object>"
      ]
     },
     "metadata": {},
     "output_type": "display_data"
    }
   ],
   "source": [
    "qc = QcVisualizer(cohort_validator=cvalidator)\n",
    "display(HTML(qc.to_summary_html()))"
   ]
  },
  {
   "cell_type": "code",
   "execution_count": 5,
   "id": "bd5d340d-c877-4592-800a-62fd6764ac35",
   "metadata": {},
   "outputs": [
    {
     "data": {
      "text/html": [
       "<table style=\"border: 2px solid black; align: \"left\">\n",
       "<caption>6 phenopackets - PMID:25525168 (n=2); PMID:23643385 (n=4)</caption>\n",
       "<tr><th style=\"text-align: left;font-weight: bold;\">Individual</th><th style=\"text-align: left;font-weight: bold;\">Disease</th><th style=\"text-align: left;font-weight: bold;\">Genotype</th><th style=\"text-align: left;font-weight: bold;\">Phenotypic features</th></tr>\n",
       "<tr><td style=\"text-align: left;\">HM640 (FEMALE; P32Y)</td><td style=\"text-align: left;\">Myopia 6 (OMIM:608908)</td><td style=\"text-align: left;\">NM_005138.3:c.334C>T (heterozygous)</td><td style=\"text-align: left;\">High myopia (HP:0011003); Reduced visual acuity (HP:0007663); Increased axial length of the globe (HP:0007800); Abnormal fundus morphology (HP:0001098); excluded: Congestive heart failure (HP:0001635); excluded: Failure to thrive (HP:0001508); excluded: Seizure (HP:0001250); excluded: Hearing impairment (HP:0000365); excluded: Muscle weakness (HP:0001324); excluded: Intellectual disability (HP:0001249)</td></tr>\n",
       "<tr><td style=\"text-align: left;\">HM789 (FEMALE; P6Y)</td><td style=\"text-align: left;\">Myopia 6 (OMIM:608908)</td><td style=\"text-align: left;\">NM_005138.3:c.358C>T (heterozygous)</td><td style=\"text-align: left;\">High myopia (HP:0011003); Reduced visual acuity (HP:0007663); Increased axial length of the globe (HP:0007800); Abnormal fundus morphology (HP:0001098); excluded: Failure to thrive (HP:0001508); excluded: Seizure (HP:0001250); excluded: Hearing impairment (HP:0000365); excluded: Muscle weakness (HP:0001324); excluded: Intellectual disability (HP:0001249)</td></tr>\n",
       "<tr><td style=\"text-align: left;\">family CHP-6 IV:3 (UNKNOWN; n/a)</td><td style=\"text-align: left;\">Myopia 6 (OMIM:608908)</td><td style=\"text-align: left;\">NM_005138.3:c.157C>T (heterozygous)</td><td style=\"text-align: left;\">High myopia (HP:0011003); excluded: Failure to thrive (HP:0001508); excluded: Seizure (HP:0001250); excluded: Hearing impairment (HP:0000365); excluded: Muscle weakness (HP:0001324); excluded: Intellectual disability (HP:0001249)</td></tr>\n",
       "<tr><td style=\"text-align: left;\">CHP-150 (UNKNOWN; n/a)</td><td style=\"text-align: left;\">Myopia 6 (OMIM:608908)</td><td style=\"text-align: left;\">NM_005138.3:c.341G>A (heterozygous)</td><td style=\"text-align: left;\">High myopia (HP:0011003); excluded: Failure to thrive (HP:0001508); excluded: Seizure (HP:0001250); excluded: Hearing impairment (HP:0000365); excluded: Muscle weakness (HP:0001324); excluded: Intellectual disability (HP:0001249)</td></tr>\n",
       "<tr><td style=\"text-align: left;\">CHP-162 (UNKNOWN; n/a)</td><td style=\"text-align: left;\">Myopia 6 (OMIM:608908)</td><td style=\"text-align: left;\">NM_005138.3:c.418G>A (heterozygous)</td><td style=\"text-align: left;\">High myopia (HP:0011003); excluded: Failure to thrive (HP:0001508); excluded: Seizure (HP:0001250); excluded: Hearing impairment (HP:0000365); excluded: Muscle weakness (HP:0001324); excluded: Intellectual disability (HP:0001249)</td></tr>\n",
       "<tr><td style=\"text-align: left;\">CHP-84 (UNKNOWN; n/a)</td><td style=\"text-align: left;\">Myopia 6 (OMIM:608908)</td><td style=\"text-align: left;\">NM_005138.3:c.776C>T (heterozygous)</td><td style=\"text-align: left;\">High myopia (HP:0011003); excluded: Failure to thrive (HP:0001508); excluded: Seizure (HP:0001250); excluded: Hearing impairment (HP:0000365); excluded: Muscle weakness (HP:0001324); excluded: Intellectual disability (HP:0001249)</td></tr>\n",
       "</table>"
      ],
      "text/plain": [
       "<IPython.core.display.HTML object>"
      ]
     },
     "metadata": {},
     "output_type": "display_data"
    }
   ],
   "source": [
    "table = IndividualTable(cvalidator.get_error_free_individual_list())\n",
    "display(HTML(table.to_html()))"
   ]
  }
 ],
 "metadata": {
  "kernelspec": {
   "display_name": "Python 3 (ipykernel)",
   "language": "python",
   "name": "python3"
  },
  "language_info": {
   "codemirror_mode": {
    "name": "ipython",
    "version": 3
   },
   "file_extension": ".py",
   "mimetype": "text/x-python",
   "name": "python",
   "nbconvert_exporter": "python",
   "pygments_lexer": "ipython3",
   "version": "3.12.4"
  }
 },
 "nbformat": 4,
 "nbformat_minor": 5
}
