{
 "cells": [
  {
   "cell_type": "markdown",
   "id": "2d297791-5f54-4c40-86b1-8d45f1c9600c",
   "metadata": {},
   "source": [
    "# SCO2 Mitochondrial complex IV deficiency, nuclear type 2"
   ]
  },
  {
   "cell_type": "code",
   "execution_count": 1,
   "id": "4a5f7e51-f985-478b-932d-6b69486d1fce",
   "metadata": {},
   "outputs": [
    {
     "name": "stdout",
     "output_type": "stream",
     "text": [
      "Using pyphetools version 0.9.66\n"
     ]
    }
   ],
   "source": [
    "from pyphetools.creation import TemplateImporter\n",
    "from pyphetools.visualization import IndividualTable, QcVisualizer\n",
    "from IPython.display import display, HTML\n",
    "import pyphetools\n",
    "print(f\"Using pyphetools version {pyphetools.__version__}\")"
   ]
  },
  {
   "cell_type": "code",
   "execution_count": 4,
   "id": "2a56e7fc-1452-43a8-bbcb-0401e490d9ca",
   "metadata": {},
   "outputs": [],
   "source": [
    "template = \"input/SCO2_MC4DN2_individuals.xlsx\"\n",
    "hp_json = \"../hp.json\"\n",
    "created_by = \"0000-0002-0736-9199\""
   ]
  },
  {
   "cell_type": "code",
   "execution_count": 6,
   "id": "10213bd6-f1fc-449c-b5d5-968a4130ad82",
   "metadata": {},
   "outputs": [
    {
     "name": "stdout",
     "output_type": "stream",
     "text": [
      "HPO version 2024-03-06\n",
      "Created encoders for 113 fields\n",
      " we got OMIM:604377  NM_005138.3\n",
      "We output 31 GA4GH phenopackets to the directory phenopackets\n"
     ]
    }
   ],
   "source": [
    "timporter = TemplateImporter(template=template, hp_json=hp_json, created_by=created_by)\n",
    "dels = {\"chr22:g.49275958_49362964del(NCBI Build 36.1)\"}\n",
    "individual_list, cvalidator = timporter.import_phenopackets_from_template(deletions=dels)"
   ]
  },
  {
   "cell_type": "code",
   "execution_count": 7,
   "id": "7a9c27d8-e250-4210-87c0-b613d6297b89",
   "metadata": {},
   "outputs": [
    {
     "data": {
      "text/html": [
       "<h2>Cohort validation</h2>\n",
       "<p>Errors found with 5 of 31 phenopackets.</p>\n",
       "<table style=\"border: 2px solid black; align: \"left\">\n",
       "<caption>Error counts</caption>\n",
       "<tr><th style=\"text-align: left;font-weight: bold;\">Level</th><th style=\"text-align: left;font-weight: bold;\">Error category</th><th style=\"text-align: left;font-weight: bold;\">Count</th></tr>\n",
       "<tr><td style=\"text-align: left;\">WARNING</td><td style=\"text-align: left;\">REDUNDANT</td><td style=\"text-align: left;\">5</td></tr>\n",
       "</table>\n",
       "<p>A total of 5 issues were fixed and no individual was removed from the cohort.</p>"
      ],
      "text/plain": [
       "<IPython.core.display.HTML object>"
      ]
     },
     "metadata": {},
     "output_type": "display_data"
    }
   ],
   "source": [
    "qc = QcVisualizer(cohort_validator=cvalidator)\n",
    "display(HTML(qc.to_summary_html()))"
   ]
  },
  {
   "cell_type": "code",
   "execution_count": 8,
   "id": "2952167d-0507-4b3b-b6b4-5f47ee547bea",
   "metadata": {},
   "outputs": [
    {
     "data": {
      "text/html": [
       "<table style=\"border: 2px solid black; align: \"left\">\n",
       "<caption>31 phenopackets - PMID:35112411 (n=2); PMID:31844624 (n=2); PMID:29351582 (n=2); PMID:34746378 (n=1); PMID:23364397 (n=3); PMID:23407777 (n=1); PMID:10805329 (n=3); PMID:23838601 (n=1); PMID:20159436 (n=1); PMID:14994243 (n=1); PMID:15210538 (n=1); PMID:15499950 (n=6); PMID:16765077 (n=1); PMID:17187620 (n=1); PMID:18924171 (n=1); PMID:19353847 (n=1); PMID:10749987 (n=3)</caption>\n",
       "<tr><th style=\"text-align: left;font-weight: bold;\">Individual</th><th style=\"text-align: left;font-weight: bold;\">Disease</th><th style=\"text-align: left;font-weight: bold;\">Genotype</th><th style=\"text-align: left;font-weight: bold;\">Phenotypic features</th></tr>\n",
       "<tr><td style=\"text-align: left;\">35112411_P1 (MALE; P14Y)</td><td style=\"text-align: left;\">Mitochondrial complex IV deficiency, nuclear type 2 (OMIM:604377)</td><td style=\"text-align: left;\">NM_005138.3:c.361G>C (homozygous)</td><td style=\"text-align: left;\">Tremor (HP:0001337); Diffuse white matter abnormalities (HP:0007204); Frequent falls (HP:0002359); Limited ankle dorsiflexion (HP:0033526); Distal lower limb amyotrophy (HP:0008944); Hand muscle atrophy (HP:0009130)</td></tr>\n",
       "<tr><td style=\"text-align: left;\">35112411_P2 (MALE; P6Y)</td><td style=\"text-align: left;\">Mitochondrial complex IV deficiency, nuclear type 2 (OMIM:604377)</td><td style=\"text-align: left;\">NM_005138.3:c.361G>C (homozygous)</td><td style=\"text-align: left;\">Tremor (HP:0001337); Motor delay (HP:0001270); Intellectual disability, mild (HP:0001256)</td></tr>\n",
       "<tr><td style=\"text-align: left;\">31844624_P1 (MALE; n/a)</td><td style=\"text-align: left;\">Mitochondrial complex IV deficiency, nuclear type 2 (OMIM:604377)</td><td style=\"text-align: left;\">NM_005138.3:c.763C>T (homozygous)</td><td style=\"text-align: left;\">Tremor (HP:0001337); Peripheral axonal neuropathy (HP:0003477); Dysmetria (HP:0001310); Frequent falls (HP:0002359); Distal amyotrophy (HP:0003693); Gait ataxia (HP:0002066); Cerebellar atrophy (HP:0001272); Increased circulating lactate concentration (HP:0002151); Increased CSF lactate (HP:0002490)</td></tr>\n",
       "<tr><td style=\"text-align: left;\">31844624_P2 (FEMALE; n/a)</td><td style=\"text-align: left;\">Mitochondrial complex IV deficiency, nuclear type 2 (OMIM:604377)</td><td style=\"text-align: left;\">NM_005138.3:c.763C>T (homozygous)</td><td style=\"text-align: left;\">Tremor (HP:0001337); Strabismus (HP:0000486); Distal amyotrophy (HP:0003693); Gait ataxia (HP:0002066); Cerebellar atrophy (HP:0001272)</td></tr>\n",
       "<tr><td style=\"text-align: left;\">29351582_P1 (FEMALE; P9Y)</td><td style=\"text-align: left;\">Mitochondrial complex IV deficiency, nuclear type 2 (OMIM:604377)</td><td style=\"text-align: left;\"><ul> <li>NM_005138.3:c.418G>A (heterozygous)</li> <li>NM_005138.3:c.505C>A (heterozygous)</li> </ul></td><td style=\"text-align: left;\">Delayed gross motor development (HP:0002194); Areflexia (HP:0001284); Frequent falls (HP:0002359); Ptosis (HP:0000508); Facial-lingual fasciculations (HP:0007089); Skeletal muscle atrophy (HP:0003202); Weakness of facial musculature (HP:0030319); Motor axonal neuropathy (HP:0007002); Dysarthria (HP:0001260); Pes cavus (HP:0001761)</td></tr>\n",
       "<tr><td style=\"text-align: left;\">29351582_P2 (MALE; P26Y)</td><td style=\"text-align: left;\">Mitochondrial complex IV deficiency, nuclear type 2 (OMIM:604377)</td><td style=\"text-align: left;\"><ul> <li>NM_005138.3:c.404A>G (heterozygous)</li> <li>NM_005138.3:c.512G>A (heterozygous)</li> </ul></td><td style=\"text-align: left;\">Lower limb muscle weakness (HP:0007340); Mixed demyelinating and axonal polyneuropathy (HP:0007327); Areflexia (HP:0001284); Impaired vibratory sensation (HP:0002495); Distal lower limb amyotrophy (HP:0008944); Pes planus (HP:0001763)</td></tr>\n",
       "<tr><td style=\"text-align: left;\">34746378_P1 (MALE; n/a)</td><td style=\"text-align: left;\">Mitochondrial complex IV deficiency, nuclear type 2 (OMIM:604377)</td><td style=\"text-align: left;\"><ul> <li>NM_005138.3:c.179G>A (heterozygous)</li> <li>NM_005138.3:c.577G>A (heterozygous)</li> </ul></td><td style=\"text-align: left;\">Lower limb pain (HP:0012514); Positive Romberg sign (HP:0002403); Hemeralopia (HP:0012047); Cerebral cortical atrophy (HP:0002120); Abnormal circulating creatine kinase concentration (HP:0040081); Memory impairment (HP:0002354); Areflexia (HP:0001284); Ataxia (HP:0001251); Hearing impairment (HP:0000365); Abnormal cerebral white matter morphology (HP:0002500); Visual impairment (HP:0000505)</td></tr>\n",
       "<tr><td style=\"text-align: left;\">23364397_P1 (MALE; P5M)</td><td style=\"text-align: left;\">Mitochondrial complex IV deficiency, nuclear type 2 (OMIM:604377)</td><td style=\"text-align: left;\"><ul> <li>NM_005138.3:c.479T>C (heterozygous)</li> <li>NM_005138.3:c.697C>A (heterozygous)</li> </ul></td><td style=\"text-align: left;\">Malignant hyperthermia (HP:0002047)</td></tr>\n",
       "<tr><td style=\"text-align: left;\">23364397_P2 (MALE; P9M)</td><td style=\"text-align: left;\">Mitochondrial complex IV deficiency, nuclear type 2 (OMIM:604377)</td><td style=\"text-align: left;\"><ul> <li>NM_005138.3:c.479T>C (heterozygous)</li> <li>NM_005138.3:c.697C>A (heterozygous)</li> </ul></td><td style=\"text-align: left;\">Limb hypertonia (HP:0002509); Neurodevelopmental delay (HP:0012758); Muscle weakness (HP:0001324); Malignant hyperthermia (HP:0002047)</td></tr>\n",
       "<tr><td style=\"text-align: left;\">23364397_P3 (MALE; P10M)</td><td style=\"text-align: left;\">Mitochondrial complex IV deficiency, nuclear type 2 (OMIM:604377)</td><td style=\"text-align: left;\"><ul> <li>NM_005138.3:c.479T>C (heterozygous)</li> <li>NM_005138.3:c.697C>A (heterozygous)</li> </ul></td><td style=\"text-align: left;\">Malignant hyperthermia (HP:0002047)</td></tr>\n",
       "<tr><td style=\"text-align: left;\">23407777_P1 (FEMALE; P1M14D)</td><td style=\"text-align: left;\">Mitochondrial complex IV deficiency, nuclear type 2 (OMIM:604377)</td><td style=\"text-align: left;\"><ul> <li>NM_005138.3:c.418G>A (heterozygous)</li> <li>NM_005138.3:c.402_413del (heterozygous)</li> </ul></td><td style=\"text-align: left;\">Peripheral axonal neuropathy (HP:0003477); Inspiratory stridor (HP:0005348); Lactic acidosis (HP:0003128); Upper limb hypertonia (HP:0200049); Respiratory insufficiency due to muscle weakness (HP:0002747); Cardiomegaly (HP:0001640); Neonatal hypotonia (HP:0001319)</td></tr>\n",
       "<tr><td style=\"text-align: left;\">10805329_P1 (MALE; P5M)</td><td style=\"text-align: left;\">Mitochondrial complex IV deficiency, nuclear type 2 (OMIM:604377)</td><td style=\"text-align: left;\"><ul> <li>NM_005138.3:c.157C>T (heterozygous)</li> <li>NM_005138.3:c.418G>A (heterozygous)</li> </ul></td><td style=\"text-align: left;\">EMG: myopathic abnormalities (HP:0003458); Congestive heart failure (HP:0001635); Respiratory failure requiring assisted ventilation (HP:0004887); Respiratory distress (HP:0002098); Hypotonia (HP:0001252); Abnormal facial shape (HP:0001999); Nystagmus (HP:0000639); Metabolic acidosis (HP:0001942); Cardiorespiratory arrest (HP:0006543); Hypertrophic cardiomyopathy (HP:0001639); Peripheral neuropathy (HP:0009830); Limb dystonia (HP:0002451); Hyporeflexia (HP:0001265)</td></tr>\n",
       "<tr><td style=\"text-align: left;\">10805329_P2 (FEMALE; P7M)</td><td style=\"text-align: left;\">Mitochondrial complex IV deficiency, nuclear type 2 (OMIM:604377)</td><td style=\"text-align: left;\"><ul> <li>NM_005138.3:c.157C>T (heterozygous)</li> <li>NM_005138.3:c.418G>A (heterozygous)</li> </ul></td><td style=\"text-align: left;\">EMG: myopathic abnormalities (HP:0003458); Congestive heart failure (HP:0001635); Respiratory failure requiring assisted ventilation (HP:0004887); Respiratory distress (HP:0002098); Hypotonia (HP:0001252); Abnormal facial shape (HP:0001999); Nystagmus (HP:0000639); Metabolic acidosis (HP:0001942); Cardiorespiratory arrest (HP:0006543); Hypertrophic cardiomyopathy (HP:0001639); Peripheral neuropathy (HP:0009830); Limb dystonia (HP:0002451); Hyporeflexia (HP:0001265)</td></tr>\n",
       "<tr><td style=\"text-align: left;\">10805329_P3 (FEMALE; P6M)</td><td style=\"text-align: left;\">Mitochondrial complex IV deficiency, nuclear type 2 (OMIM:604377)</td><td style=\"text-align: left;\"><ul> <li>NM_005138.3:c.418G>A (heterozygous)</li> <li>NM_005138.3:c.674C>T (heterozygous)</li> </ul></td><td style=\"text-align: left;\">EMG: myopathic abnormalities (HP:0003458); Congestive heart failure (HP:0001635); Respiratory failure requiring assisted ventilation (HP:0004887); Respiratory distress (HP:0002098); Hypotonia (HP:0001252); Abnormal facial shape (HP:0001999); Nystagmus (HP:0000639); Metabolic acidosis (HP:0001942); Cardiorespiratory arrest (HP:0006543); Hypertrophic cardiomyopathy (HP:0001639); Peripheral neuropathy (HP:0009830); Limb dystonia (HP:0002451); Hyporeflexia (HP:0001265)</td></tr>\n",
       "<tr><td style=\"text-align: left;\">23838601_P1 (MALE; P1Y8M)</td><td style=\"text-align: left;\">Mitochondrial complex IV deficiency, nuclear type 2 (OMIM:604377)</td><td style=\"text-align: left;\"><ul> <li>NM_005138.3:c.667G>A (heterozygous)</li> <li>chr22:g.49275958_49362964del(NCBI Build 36.1): chromosomal_deletion (SO:1000029)</li> </ul></td><td style=\"text-align: left;\">Developmental regression (HP:0002376)</td></tr>\n",
       "<tr><td style=\"text-align: left;\">20159436_P1 (MALE; P4M)</td><td style=\"text-align: left;\">Mitochondrial complex IV deficiency, nuclear type 2 (OMIM:604377)</td><td style=\"text-align: left;\"><ul> <li>NM_005138.3:c.418G>A (heterozygous)</li> <li>NM_005138.3:c.16_17insAGCATGCAGCAGTGACTCA (heterozygous)</li> </ul></td><td style=\"text-align: left;\">Jaundice (HP:0000952); Abnormal calvaria morphology (HP:0002683); Respiratory failure requiring assisted ventilation (HP:0004887); Wide nasal bridge (HP:0000431); Failure to thrive (HP:0001508); Hypotonia (HP:0001252); Apathy (HP:0000741); Lactic acidosis (HP:0003128); Hepatomegaly (HP:0002240); Microretrognathia (HP:0000308); Hypertrophic cardiomyopathy (HP:0001639); Abnormal brainstem MRI signal intensity (HP:0012747); Feeding difficulties (HP:0011968); Focal T2 hyperintense basal ganglia lesion (HP:0007183)</td></tr>\n",
       "<tr><td style=\"text-align: left;\">14994243_P1 (MALE; P1M14D)</td><td style=\"text-align: left;\">Mitochondrial complex IV deficiency, nuclear type 2 (OMIM:604377)</td><td style=\"text-align: left;\"><ul> <li>NM_005138.3:c.418G>A (heterozygous)</li> <li>NM_005138.3:c.398G>A (heterozygous)</li> </ul></td><td style=\"text-align: left;\">Respiratory failure requiring assisted ventilation (HP:0004887); Hypotonia (HP:0001252); Right ventricular hypertrophy (HP:0001667); Areflexia (HP:0001284); Lactic acidosis (HP:0003128); Stridor (HP:0010307)</td></tr>\n",
       "<tr><td style=\"text-align: left;\">15210538_P1 (FEMALE; P1M23D)</td><td style=\"text-align: left;\">Mitochondrial complex IV deficiency, nuclear type 2 (OMIM:604377)</td><td style=\"text-align: left;\"><ul> <li>NM_005138.3:c.418G>A (heterozygous)</li> <li>NM_005138.3:c.157C>T (heterozygous)</li> </ul></td><td style=\"text-align: left;\">Respiratory failure requiring assisted ventilation (HP:0004887); Respiratory distress (HP:0002098); Hypotonia (HP:0001252); Heart murmur (HP:0030148); Lactic acidosis (HP:0003128); Hypertrophic cardiomyopathy (HP:0001639)</td></tr>\n",
       "<tr><td style=\"text-align: left;\">15499950_P1 (MALE; P8M)</td><td style=\"text-align: left;\">Mitochondrial complex IV deficiency, nuclear type 2 (OMIM:604377)</td><td style=\"text-align: left;\">NM_005138.3:c.418G>A (homozygous)</td><td style=\"text-align: left;\">Hypotonia (HP:0001252); Inspiratory stridor (HP:0005348); Microcephaly (HP:0000252); Encephalopathy (HP:0001298)</td></tr>\n",
       "<tr><td style=\"text-align: left;\">15499950_P2 (MALE; P1Y8M)</td><td style=\"text-align: left;\">Mitochondrial complex IV deficiency, nuclear type 2 (OMIM:604377)</td><td style=\"text-align: left;\">NM_005138.3:c.418G>A (homozygous)</td><td style=\"text-align: left;\">Hypotonia (HP:0001252); Hypertrophic cardiomyopathy (HP:0001639); Encephalopathy (HP:0001298)</td></tr>\n",
       "<tr><td style=\"text-align: left;\">15499950_P3 (MALE; P1Y3M)</td><td style=\"text-align: left;\">Mitochondrial complex IV deficiency, nuclear type 2 (OMIM:604377)</td><td style=\"text-align: left;\">NM_005138.3:c.418G>A (homozygous)</td><td style=\"text-align: left;\">Hypotonia (HP:0001252); Inspiratory stridor (HP:0005348); Brain atrophy (HP:0012444); Encephalopathy (HP:0001298)</td></tr>\n",
       "<tr><td style=\"text-align: left;\">15499950_P4 (MALE; P8M)</td><td style=\"text-align: left;\">Mitochondrial complex IV deficiency, nuclear type 2 (OMIM:604377)</td><td style=\"text-align: left;\">NM_005138.3:c.418G>A (homozygous)</td><td style=\"text-align: left;\">Hypotonia (HP:0001252); Inspiratory stridor (HP:0005348); Brain atrophy (HP:0012444); Encephalopathy (HP:0001298)</td></tr>\n",
       "<tr><td style=\"text-align: left;\">15499950_P5 (MALE; P9M)</td><td style=\"text-align: left;\">Mitochondrial complex IV deficiency, nuclear type 2 (OMIM:604377)</td><td style=\"text-align: left;\">NM_005138.3:c.418G>A (homozygous)</td><td style=\"text-align: left;\">Brain atrophy (HP:0012444); Hypertonia (HP:0001276); Encephalopathy (HP:0001298)</td></tr>\n",
       "<tr><td style=\"text-align: left;\">15499950_P6 (MALE; P1M21D)</td><td style=\"text-align: left;\">Mitochondrial complex IV deficiency, nuclear type 2 (OMIM:604377)</td><td style=\"text-align: left;\"><ul> <li>NM_005138.3:c.418G>A (heterozygous)</li> <li>NM_005138.3:c.157C>T (heterozygous)</li> </ul></td><td style=\"text-align: left;\">Hypotonia (HP:0001252); Brain atrophy (HP:0012444); Hypertrophic cardiomyopathy (HP:0001639); Encephalopathy (HP:0001298)</td></tr>\n",
       "<tr><td style=\"text-align: left;\">16765077_P1 (MALE; P2M)</td><td style=\"text-align: left;\">Mitochondrial complex IV deficiency, nuclear type 2 (OMIM:604377)</td><td style=\"text-align: left;\">NM_005138.3:c.418G>A (homozygous)</td><td style=\"text-align: left;\">Respiratory failure requiring assisted ventilation (HP:0004887); Intrauterine growth retardation (HP:0001511); Muscle weakness (HP:0001324); Lactic acidosis (HP:0003128); Ptosis (HP:0000508); Hypertrophic cardiomyopathy (HP:0001639); Peripheral neuropathy (HP:0009830); Feeding difficulties (HP:0011968)</td></tr>\n",
       "<tr><td style=\"text-align: left;\">17187620_P1 (FEMALE; P4M)</td><td style=\"text-align: left;\">Mitochondrial complex IV deficiency, nuclear type 2 (OMIM:604377)</td><td style=\"text-align: left;\"><ul> <li>NM_005138.3:c.418G>A (heterozygous)</li> <li>NM_005138.3:c.479T>G (heterozygous)</li> </ul></td><td style=\"text-align: left;\">Respiratory failure requiring assisted ventilation (HP:0004887); Hypotonia (HP:0001252); Tachypnea (HP:0002789); Hypertrophic cardiomyopathy (HP:0001639); Neutropenia (HP:0001875); Encephalopathy (HP:0001298); Dyspnea (HP:0002094)</td></tr>\n",
       "<tr><td style=\"text-align: left;\">18924171_P1 (MALE; P25D)</td><td style=\"text-align: left;\">Mitochondrial complex IV deficiency, nuclear type 2 (OMIM:604377)</td><td style=\"text-align: left;\"><ul> <li>NM_005138.3:c.418G>A (heterozygous)</li> <li>NM_005138.3:c.107G>A (heterozygous)</li> </ul></td><td style=\"text-align: left;\">Bradycardia (HP:0001662); Respiratory failure requiring assisted ventilation (HP:0004887); Abnormal corpus callosum morphology (HP:0001273); Hypotonia (HP:0001252); Vocal cord paralysis (HP:0001605); Abnormal periventricular white matter morphology (HP:0002518); Areflexia (HP:0001284); Muscle weakness (HP:0001324); Inspiratory stridor (HP:0005348); Hypertrophic cardiomyopathy (HP:0001639); Abnormal brainstem morphology (HP:0002363)</td></tr>\n",
       "<tr><td style=\"text-align: left;\">19353847_P1 (FEMALE; P1M)</td><td style=\"text-align: left;\">Mitochondrial complex IV deficiency, nuclear type 2 (OMIM:604377)</td><td style=\"text-align: left;\">NM_005138.3:c.577G>A (homozygous)</td><td style=\"text-align: left;\">Intrauterine growth retardation (HP:0001511); Low-set ears (HP:0000369)</td></tr>\n",
       "<tr><td style=\"text-align: left;\">10749987_P1 (MALE; P4M)</td><td style=\"text-align: left;\">Mitochondrial complex IV deficiency, nuclear type 2 (OMIM:604377)</td><td style=\"text-align: left;\"><ul> <li>NM_005138.3:c.418G>A (heterozygous)</li> <li>NM_005138.3:c.511C>T (heterozygous)</li> </ul></td><td style=\"text-align: left;\">Respiratory failure (HP:0002878); Hypotonia (HP:0001252); Seizure (HP:0001250); Hypertrophic cardiomyopathy (HP:0001639)</td></tr>\n",
       "<tr><td style=\"text-align: left;\">10749987_P2 (MALE; P1M)</td><td style=\"text-align: left;\">Mitochondrial complex IV deficiency, nuclear type 2 (OMIM:604377)</td><td style=\"text-align: left;\"><ul> <li>NM_005138.3:c.418G>A (heterozygous)</li> <li>NM_005138.3:c.268C>T (heterozygous)</li> </ul></td><td style=\"text-align: left;\">Respiratory failure (HP:0002878); Hypotonia (HP:0001252); Seizure (HP:0001250); Hypertrophic cardiomyopathy (HP:0001639)</td></tr>\n",
       "<tr><td style=\"text-align: left;\">10749987_P3 (MALE; P1M)</td><td style=\"text-align: left;\">Mitochondrial complex IV deficiency, nuclear type 2 (OMIM:604377)</td><td style=\"text-align: left;\"><ul> <li>NM_005138.3:c.418G>A (heterozygous)</li> <li>NM_005138.3:c.268C>T (heterozygous)</li> </ul></td><td style=\"text-align: left;\">Respiratory failure (HP:0002878); Hypotonia (HP:0001252); Seizure (HP:0001250); Hypertrophic cardiomyopathy (HP:0001639)</td></tr>\n",
       "</table>"
      ],
      "text/plain": [
       "<IPython.core.display.HTML object>"
      ]
     },
     "metadata": {},
     "output_type": "display_data"
    }
   ],
   "source": [
    "table = IndividualTable(cvalidator.get_error_free_individual_list())\n",
    "display(HTML(table.to_html()))"
   ]
  },
  {
   "cell_type": "code",
   "execution_count": null,
   "id": "f47beb0c-d971-44e4-b63e-81a820bcc938",
   "metadata": {},
   "outputs": [],
   "source": []
  }
 ],
 "metadata": {
  "kernelspec": {
   "display_name": "Python 3 (ipykernel)",
   "language": "python",
   "name": "python3"
  },
  "language_info": {
   "codemirror_mode": {
    "name": "ipython",
    "version": 3
   },
   "file_extension": ".py",
   "mimetype": "text/x-python",
   "name": "python",
   "nbconvert_exporter": "python",
   "pygments_lexer": "ipython3",
   "version": "3.8.10"
  }
 },
 "nbformat": 4,
 "nbformat_minor": 5
}
