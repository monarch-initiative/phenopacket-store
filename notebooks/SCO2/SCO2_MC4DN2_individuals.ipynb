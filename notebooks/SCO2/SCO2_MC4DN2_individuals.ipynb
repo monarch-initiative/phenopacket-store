{
 "cells": [
  {
   "cell_type": "markdown",
   "id": "2d297791-5f54-4c40-86b1-8d45f1c9600c",
   "metadata": {},
   "source": [
    "# SCO2 Mitochondrial complex IV deficiency, nuclear type 2"
   ]
  },
  {
   "cell_type": "code",
   "execution_count": 1,
   "id": "4a5f7e51-f985-478b-932d-6b69486d1fce",
   "metadata": {},
   "outputs": [
    {
     "name": "stdout",
     "output_type": "stream",
     "text": [
      "Using pyphetools version 0.9.110\n"
     ]
    }
   ],
   "source": [
    "from pyphetools.creation import TemplateImporter, Moi\n",
    "from pyphetools.visualization import IndividualTable, QcVisualizer\n",
    "from IPython.display import display, HTML\n",
    "import pyphetools\n",
    "print(f\"Using pyphetools version {pyphetools.__version__}\")"
   ]
  },
  {
   "cell_type": "code",
   "execution_count": 2,
   "id": "2a56e7fc-1452-43a8-bbcb-0401e490d9ca",
   "metadata": {},
   "outputs": [],
   "source": [
    "template = \"input/SCO2_MC4DN2_individuals.xlsx\"\n",
    "created_by = \"0000-0002-0736-9199\""
   ]
  },
  {
   "cell_type": "code",
   "execution_count": 6,
   "id": "10213bd6-f1fc-449c-b5d5-968a4130ad82",
   "metadata": {},
   "outputs": [
    {
     "name": "stdout",
     "output_type": "stream",
     "text": [
      "HPO version 2024-08-13\n",
      "Created encoders for 127 fields\n",
      "Importing OMIM:604377, Mitochondrial complex IV deficiency, nuclear type 2, HGNC:10604, SCO2,  NM_005138.3\n",
      "We output 31 GA4GH phenopackets to the directory phenopackets\n"
     ]
    }
   ],
   "source": [
    "timporter = TemplateImporter(template=template, created_by=created_by)\n",
    "dels = {\"chr22:g.49275958_49362964del(NCBI Build 36.1)\"}\n",
    "individual_list, cvalidator = timporter.import_phenopackets_from_template(deletions=dels)"
   ]
  },
  {
   "cell_type": "code",
   "execution_count": 7,
   "id": "7a9c27d8-e250-4210-87c0-b613d6297b89",
   "metadata": {},
   "outputs": [
    {
     "data": {
      "text/html": [
       "<h2>Cohort validation</h2>\n",
       "<p>Errors found with 11 of 31 phenopackets.</p>\n",
       "<table style=\"border: 2px solid black; align: \"left\">\n",
       "<caption>Error counts</caption>\n",
       "<tr><th style=\"text-align: left;font-weight: bold;\">Level</th><th style=\"text-align: left;font-weight: bold;\">Error category</th><th style=\"text-align: left;font-weight: bold;\">Count</th></tr>\n",
       "<tr><td style=\"text-align: left;\">WARNING</td><td style=\"text-align: left;\">REDUNDANT</td><td style=\"text-align: left;\">24</td></tr>\n",
       "</table>\n",
       "<p>A total of 24 issues were fixed and no individual was removed from the cohort.</p>"
      ],
      "text/plain": [
       "<IPython.core.display.HTML object>"
      ]
     },
     "metadata": {},
     "output_type": "display_data"
    }
   ],
   "source": [
    "qc = QcVisualizer(cohort_validator=cvalidator)\n",
    "display(HTML(qc.to_summary_html()))"
   ]
  },
  {
   "cell_type": "code",
   "execution_count": 5,
   "id": "2952167d-0507-4b3b-b6b4-5f47ee547bea",
   "metadata": {},
   "outputs": [
    {
     "data": {
      "text/html": [
       "<table style=\"border: 2px solid black; align: \"left\">\n",
       "<caption>31 phenopackets - PMID:35112411 (n=2); PMID:31844624 (n=2); PMID:29351582 (n=2); PMID:34746378 (n=1); PMID:23364397 (n=3); PMID:23407777 (n=1); PMID:10805329 (n=3); PMID:23838601 (n=1); PMID:20159436 (n=1); PMID:14994243 (n=1); PMID:15210538 (n=1); PMID:15499950 (n=6); PMID:16765077 (n=1); PMID:17187620 (n=1); PMID:18924171 (n=1); PMID:19353847 (n=1); PMID:10749987 (n=3)</caption>\n",
       "<tr><th style=\"text-align: left;font-weight: bold;\">Individual</th><th style=\"text-align: left;font-weight: bold;\">Disease</th><th style=\"text-align: left;font-weight: bold;\">Genotype</th><th style=\"text-align: left;font-weight: bold;\">Phenotypic features</th></tr>\n",
       "<tr><td style=\"text-align: left;\">Patient 5 Index II.1 (MALE; P14Y)</td><td style=\"text-align: left;\">Mitochondrial complex IV deficiency, nuclear type 2 (OMIM:604377)</td><td style=\"text-align: left;\">NM_005138.3:c.361G>C (homozygous)</td><td style=\"text-align: left;\">Tremor (HP:0001337): onset ; Lower limb muscle weakness (HP:0007340): onset ; Peripheral axonal neuropathy (HP:0003477): onset ; Diffuse white matter abnormalities (HP:0007204): onset ; Absent Achilles reflex (HP:0003438): onset ; Limited ankle dorsiflexion (HP:0033526): onset ; Distal lower limb amyotrophy (HP:0008944): onset ; Hand muscle atrophy (HP:0009130): onset ; excluded: Congestive heart failure (HP:0001635): onset ; excluded: Respiratory failure (HP:0002878): onset ; excluded: Respiratory failure requiring assisted ventilation (HP:0004887): onset ; excluded: Bradycardia (HP:0001662): onset ; excluded: Right ventricular hypertrophy (HP:0001667): onset ; excluded: Seizure (HP:0001250): onset ; excluded: Delayed speech and language development (HP:0000750): onset ; excluded: Lactic acidosis (HP:0003128): onset ; excluded: Increased circulating lactate concentration (HP:0002151): onset <br/><b>TimeElement(element=Age(iso8601duration=P6Y))</b>: Frequent falls (HP:0002359): onset age {\n",
       "  iso8601duration: \"P6Y\"\n",
       "}\n",
       "</td></tr>\n",
       "<tr><td style=\"text-align: left;\">Patient 6 brother II.4 (MALE; P6Y)</td><td style=\"text-align: left;\">Mitochondrial complex IV deficiency, nuclear type 2 (OMIM:604377)</td><td style=\"text-align: left;\">NM_005138.3:c.361G>C (homozygous)</td><td style=\"text-align: left;\">Tremor (HP:0001337): onset ; Motor delay (HP:0001270): onset ; Intellectual disability, mild (HP:0001256): onset ; Delayed speech and language development (HP:0000750): onset ; excluded: Absent Achilles reflex (HP:0003438): onset ; excluded: Hyporeflexia (HP:0001265): onset </td></tr>\n",
       "<tr><td style=\"text-align: left;\">31844624_P1 (MALE)</td><td style=\"text-align: left;\">Mitochondrial complex IV deficiency, nuclear type 2 (OMIM:604377)</td><td style=\"text-align: left;\">NM_005138.3:c.763C>T (homozygous)</td><td style=\"text-align: left;\">Tremor (HP:0001337): onset ; Peripheral axonal neuropathy (HP:0003477): onset ; Dysmetria (HP:0001310): onset ; Frequent falls (HP:0002359): onset ; Distal amyotrophy (HP:0003693): onset ; Gait ataxia (HP:0002066): onset ; Cerebellar atrophy (HP:0001272): onset ; Increased circulating lactate concentration (HP:0002151): onset ; Increased CSF lactate (HP:0002490): onset </td></tr>\n",
       "<tr><td style=\"text-align: left;\">31844624_P2 (FEMALE)</td><td style=\"text-align: left;\">Mitochondrial complex IV deficiency, nuclear type 2 (OMIM:604377)</td><td style=\"text-align: left;\">NM_005138.3:c.763C>T (homozygous)</td><td style=\"text-align: left;\">Tremor (HP:0001337): onset ; Strabismus (HP:0000486): onset ; Distal amyotrophy (HP:0003693): onset ; Gait ataxia (HP:0002066): onset ; Cerebellar atrophy (HP:0001272): onset </td></tr>\n",
       "<tr><td style=\"text-align: left;\">29351582_P1 (FEMALE; P9Y)</td><td style=\"text-align: left;\">Mitochondrial complex IV deficiency, nuclear type 2 (OMIM:604377)</td><td style=\"text-align: left;\"><ul> <li>NM_005138.3:c.418G>A (heterozygous)</li> <li>NM_005138.3:c.505C>A (heterozygous)</li> </ul></td><td style=\"text-align: left;\">Delayed gross motor development (HP:0002194): onset ; Areflexia (HP:0001284): onset ; Frequent falls (HP:0002359): onset ; Ptosis (HP:0000508): onset ; Facial-lingual fasciculations (HP:0007089): onset ; Skeletal muscle atrophy (HP:0003202): onset ; Weakness of facial musculature (HP:0030319): onset ; Motor axonal neuropathy (HP:0007002): onset ; Dysarthria (HP:0001260): onset ; Pes cavus (HP:0001761): onset </td></tr>\n",
       "<tr><td style=\"text-align: left;\">29351582_P2 (MALE; P26Y)</td><td style=\"text-align: left;\">Mitochondrial complex IV deficiency, nuclear type 2 (OMIM:604377)</td><td style=\"text-align: left;\"><ul> <li>NM_005138.3:c.404A>G (heterozygous)</li> <li>NM_005138.3:c.512G>A (heterozygous)</li> </ul></td><td style=\"text-align: left;\">Lower limb muscle weakness (HP:0007340): onset ; Mixed demyelinating and axonal polyneuropathy (HP:0007327): onset ; Areflexia (HP:0001284): onset ; Impaired vibratory sensation (HP:0002495): onset ; Distal lower limb amyotrophy (HP:0008944): onset ; Pes planus (HP:0001763): onset </td></tr>\n",
       "<tr><td style=\"text-align: left;\">34746378_P1 (MALE)</td><td style=\"text-align: left;\">Mitochondrial complex IV deficiency, nuclear type 2 (OMIM:604377)</td><td style=\"text-align: left;\"><ul> <li>NM_005138.3:c.179G>A (heterozygous)</li> <li>NM_005138.3:c.577G>A (heterozygous)</li> </ul></td><td style=\"text-align: left;\">Lower limb pain (HP:0012514): onset ; Positive Romberg sign (HP:0002403): onset ; Hemeralopia (HP:0012047): onset ; Cerebral cortical atrophy (HP:0002120): onset ; Abnormal circulating creatine kinase concentration (HP:0040081): onset ; Memory impairment (HP:0002354): onset ; Areflexia (HP:0001284): onset ; Ataxia (HP:0001251): onset ; Hearing impairment (HP:0000365): onset ; Abnormal cerebral white matter morphology (HP:0002500): onset ; Visual impairment (HP:0000505): onset </td></tr>\n",
       "<tr><td style=\"text-align: left;\">23364397_P1 (MALE; P5M)</td><td style=\"text-align: left;\">Mitochondrial complex IV deficiency, nuclear type 2 (OMIM:604377)</td><td style=\"text-align: left;\"><ul> <li>NM_005138.3:c.479T>C (heterozygous)</li> <li>NM_005138.3:c.697C>A (heterozygous)</li> </ul></td><td style=\"text-align: left;\">Malignant hyperthermia (HP:0002047): onset </td></tr>\n",
       "<tr><td style=\"text-align: left;\">23364397_P2 (MALE; P9M)</td><td style=\"text-align: left;\">Mitochondrial complex IV deficiency, nuclear type 2 (OMIM:604377)</td><td style=\"text-align: left;\"><ul> <li>NM_005138.3:c.479T>C (heterozygous)</li> <li>NM_005138.3:c.697C>A (heterozygous)</li> </ul></td><td style=\"text-align: left;\">Limb hypertonia (HP:0002509): onset ; Neurodevelopmental delay (HP:0012758): onset ; Muscle weakness (HP:0001324): onset ; Malignant hyperthermia (HP:0002047): onset </td></tr>\n",
       "<tr><td style=\"text-align: left;\">23364397_P3 (MALE; P10M)</td><td style=\"text-align: left;\">Mitochondrial complex IV deficiency, nuclear type 2 (OMIM:604377)</td><td style=\"text-align: left;\"><ul> <li>NM_005138.3:c.479T>C (heterozygous)</li> <li>NM_005138.3:c.697C>A (heterozygous)</li> </ul></td><td style=\"text-align: left;\">Malignant hyperthermia (HP:0002047): onset </td></tr>\n",
       "<tr><td style=\"text-align: left;\">23407777_P1 (FEMALE; P1M14D)</td><td style=\"text-align: left;\">Mitochondrial complex IV deficiency, nuclear type 2 (OMIM:604377)</td><td style=\"text-align: left;\"><ul> <li>NM_005138.3:c.418G>A (heterozygous)</li> <li>NM_005138.3:c.402_413del (heterozygous)</li> </ul></td><td style=\"text-align: left;\">Respiratory insufficiency due to muscle weakness (HP:0002747): onset ; Peripheral axonal neuropathy (HP:0003477): onset ; Inspiratory stridor (HP:0005348): onset ; Lactic acidosis (HP:0003128): onset ; Upper limb hypertonia (HP:0200049): onset ; Cardiomegaly (HP:0001640): onset ; Neonatal hypotonia (HP:0001319): onset </td></tr>\n",
       "<tr><td style=\"text-align: left;\">10805329_P1 (MALE; P5M)</td><td style=\"text-align: left;\">Mitochondrial complex IV deficiency, nuclear type 2 (OMIM:604377)</td><td style=\"text-align: left;\"><ul> <li>NM_005138.3:c.157C>T (heterozygous)</li> <li>NM_005138.3:c.418G>A (heterozygous)</li> </ul></td><td style=\"text-align: left;\">EMG: myopathic abnormalities (HP:0003458): onset ; Congestive heart failure (HP:0001635): onset ; Respiratory failure requiring assisted ventilation (HP:0004887): onset ; Respiratory distress (HP:0002098): onset ; Hypotonia (HP:0001252): onset ; Abnormal facial shape (HP:0001999): onset ; Hyporeflexia (HP:0001265): onset ; Nystagmus (HP:0000639): onset ; Metabolic acidosis (HP:0001942): onset ; Cardiorespiratory arrest (HP:0006543): onset ; Hypertrophic cardiomyopathy (HP:0001639): onset ; Peripheral neuropathy (HP:0009830): onset ; Limb dystonia (HP:0002451): onset </td></tr>\n",
       "<tr><td style=\"text-align: left;\">10805329_P2 (FEMALE; P7M)</td><td style=\"text-align: left;\">Mitochondrial complex IV deficiency, nuclear type 2 (OMIM:604377)</td><td style=\"text-align: left;\"><ul> <li>NM_005138.3:c.157C>T (heterozygous)</li> <li>NM_005138.3:c.418G>A (heterozygous)</li> </ul></td><td style=\"text-align: left;\">EMG: myopathic abnormalities (HP:0003458): onset ; Congestive heart failure (HP:0001635): onset ; Respiratory failure requiring assisted ventilation (HP:0004887): onset ; Respiratory distress (HP:0002098): onset ; Hypotonia (HP:0001252): onset ; Abnormal facial shape (HP:0001999): onset ; Hyporeflexia (HP:0001265): onset ; Nystagmus (HP:0000639): onset ; Metabolic acidosis (HP:0001942): onset ; Cardiorespiratory arrest (HP:0006543): onset ; Hypertrophic cardiomyopathy (HP:0001639): onset ; Peripheral neuropathy (HP:0009830): onset ; Limb dystonia (HP:0002451): onset </td></tr>\n",
       "<tr><td style=\"text-align: left;\">10805329_P3 (FEMALE; P6M)</td><td style=\"text-align: left;\">Mitochondrial complex IV deficiency, nuclear type 2 (OMIM:604377)</td><td style=\"text-align: left;\"><ul> <li>NM_005138.3:c.418G>A (heterozygous)</li> <li>NM_005138.3:c.674C>T (heterozygous)</li> </ul></td><td style=\"text-align: left;\">EMG: myopathic abnormalities (HP:0003458): onset ; Congestive heart failure (HP:0001635): onset ; Respiratory failure requiring assisted ventilation (HP:0004887): onset ; Respiratory distress (HP:0002098): onset ; Hypotonia (HP:0001252): onset ; Abnormal facial shape (HP:0001999): onset ; Hyporeflexia (HP:0001265): onset ; Nystagmus (HP:0000639): onset ; Metabolic acidosis (HP:0001942): onset ; Cardiorespiratory arrest (HP:0006543): onset ; Hypertrophic cardiomyopathy (HP:0001639): onset ; Peripheral neuropathy (HP:0009830): onset ; Limb dystonia (HP:0002451): onset </td></tr>\n",
       "<tr><td style=\"text-align: left;\">23838601_P1 (MALE; P1Y8M)</td><td style=\"text-align: left;\">Mitochondrial complex IV deficiency, nuclear type 2 (OMIM:604377)</td><td style=\"text-align: left;\"><ul> <li>NM_005138.3:c.667G>A (heterozygous)</li> <li>chr22:g.49275958_49362964del(NCBI Build 36.1): chromosomal_deletion (SO:1000029)</li> </ul></td><td style=\"text-align: left;\">Developmental regression (HP:0002376): onset </td></tr>\n",
       "<tr><td style=\"text-align: left;\">20159436_P1 (MALE; P4M)</td><td style=\"text-align: left;\">Mitochondrial complex IV deficiency, nuclear type 2 (OMIM:604377)</td><td style=\"text-align: left;\"><ul> <li>NM_005138.3:c.418G>A (heterozygous)</li> <li>NM_005138.3:c.16_17insAGCATGCAGCAGTGACTCA (heterozygous)</li> </ul></td><td style=\"text-align: left;\">Jaundice (HP:0000952): onset ; Abnormal calvaria morphology (HP:0002683): onset ; Respiratory failure requiring assisted ventilation (HP:0004887): onset ; Wide nasal bridge (HP:0000431): onset ; Failure to thrive (HP:0001508): onset ; Hypotonia (HP:0001252): onset ; Apathy (HP:0000741): onset ; Lactic acidosis (HP:0003128): onset ; Hepatomegaly (HP:0002240): onset ; Microretrognathia (HP:0000308): onset ; Hypertrophic cardiomyopathy (HP:0001639): onset ; Abnormal brainstem MRI signal intensity (HP:0012747): onset ; Feeding difficulties (HP:0011968): onset ; Focal T2 hyperintense basal ganglia lesion (HP:0007183): onset </td></tr>\n",
       "<tr><td style=\"text-align: left;\">14994243_P1 (MALE; P1M14D)</td><td style=\"text-align: left;\">Mitochondrial complex IV deficiency, nuclear type 2 (OMIM:604377)</td><td style=\"text-align: left;\"><ul> <li>NM_005138.3:c.418G>A (heterozygous)</li> <li>NM_005138.3:c.398G>A (heterozygous)</li> </ul></td><td style=\"text-align: left;\">Respiratory failure requiring assisted ventilation (HP:0004887): onset ; Hypotonia (HP:0001252): onset ; Right ventricular hypertrophy (HP:0001667): onset ; Areflexia (HP:0001284): onset ; Lactic acidosis (HP:0003128): onset ; Stridor (HP:0010307): onset </td></tr>\n",
       "<tr><td style=\"text-align: left;\">15210538_P1 (FEMALE; P1M23D)</td><td style=\"text-align: left;\">Mitochondrial complex IV deficiency, nuclear type 2 (OMIM:604377)</td><td style=\"text-align: left;\"><ul> <li>NM_005138.3:c.418G>A (heterozygous)</li> <li>NM_005138.3:c.157C>T (heterozygous)</li> </ul></td><td style=\"text-align: left;\">Respiratory failure requiring assisted ventilation (HP:0004887): onset ; Respiratory distress (HP:0002098): onset ; Hypotonia (HP:0001252): onset ; Heart murmur (HP:0030148): onset ; Lactic acidosis (HP:0003128): onset ; Hypertrophic cardiomyopathy (HP:0001639): onset </td></tr>\n",
       "<tr><td style=\"text-align: left;\">15499950_P1 (MALE; P8M)</td><td style=\"text-align: left;\">Mitochondrial complex IV deficiency, nuclear type 2 (OMIM:604377)</td><td style=\"text-align: left;\">NM_005138.3:c.418G>A (homozygous)</td><td style=\"text-align: left;\">Hypotonia (HP:0001252): onset ; Inspiratory stridor (HP:0005348): onset ; Microcephaly (HP:0000252): onset ; Encephalopathy (HP:0001298): onset </td></tr>\n",
       "<tr><td style=\"text-align: left;\">15499950_P2 (MALE; P1Y8M)</td><td style=\"text-align: left;\">Mitochondrial complex IV deficiency, nuclear type 2 (OMIM:604377)</td><td style=\"text-align: left;\">NM_005138.3:c.418G>A (homozygous)</td><td style=\"text-align: left;\">Hypotonia (HP:0001252): onset ; Hypertrophic cardiomyopathy (HP:0001639): onset ; Encephalopathy (HP:0001298): onset </td></tr>\n",
       "<tr><td style=\"text-align: left;\">15499950_P3 (MALE; P1Y3M)</td><td style=\"text-align: left;\">Mitochondrial complex IV deficiency, nuclear type 2 (OMIM:604377)</td><td style=\"text-align: left;\">NM_005138.3:c.418G>A (homozygous)</td><td style=\"text-align: left;\">Hypotonia (HP:0001252): onset ; Inspiratory stridor (HP:0005348): onset ; Brain atrophy (HP:0012444): onset ; Encephalopathy (HP:0001298): onset </td></tr>\n",
       "<tr><td style=\"text-align: left;\">15499950_P4 (MALE; P8M)</td><td style=\"text-align: left;\">Mitochondrial complex IV deficiency, nuclear type 2 (OMIM:604377)</td><td style=\"text-align: left;\">NM_005138.3:c.418G>A (homozygous)</td><td style=\"text-align: left;\">Hypotonia (HP:0001252): onset ; Inspiratory stridor (HP:0005348): onset ; Brain atrophy (HP:0012444): onset ; Encephalopathy (HP:0001298): onset </td></tr>\n",
       "<tr><td style=\"text-align: left;\">15499950_P5 (MALE; P9M)</td><td style=\"text-align: left;\">Mitochondrial complex IV deficiency, nuclear type 2 (OMIM:604377)</td><td style=\"text-align: left;\">NM_005138.3:c.418G>A (homozygous)</td><td style=\"text-align: left;\">Brain atrophy (HP:0012444): onset ; Hypertonia (HP:0001276): onset ; Encephalopathy (HP:0001298): onset </td></tr>\n",
       "<tr><td style=\"text-align: left;\">15499950_P6 (MALE; P1M21D)</td><td style=\"text-align: left;\">Mitochondrial complex IV deficiency, nuclear type 2 (OMIM:604377)</td><td style=\"text-align: left;\"><ul> <li>NM_005138.3:c.418G>A (heterozygous)</li> <li>NM_005138.3:c.157C>T (heterozygous)</li> </ul></td><td style=\"text-align: left;\">Hypotonia (HP:0001252): onset ; Brain atrophy (HP:0012444): onset ; Hypertrophic cardiomyopathy (HP:0001639): onset ; Encephalopathy (HP:0001298): onset </td></tr>\n",
       "<tr><td style=\"text-align: left;\">16765077_P1 (MALE; P2M)</td><td style=\"text-align: left;\">Mitochondrial complex IV deficiency, nuclear type 2 (OMIM:604377)</td><td style=\"text-align: left;\">NM_005138.3:c.418G>A (homozygous)</td><td style=\"text-align: left;\">Respiratory failure requiring assisted ventilation (HP:0004887): onset ; Intrauterine growth retardation (HP:0001511): onset ; Muscle weakness (HP:0001324): onset ; Lactic acidosis (HP:0003128): onset ; Ptosis (HP:0000508): onset ; Hypertrophic cardiomyopathy (HP:0001639): onset ; Peripheral neuropathy (HP:0009830): onset ; Feeding difficulties (HP:0011968): onset </td></tr>\n",
       "<tr><td style=\"text-align: left;\">17187620_P1 (FEMALE; P4M)</td><td style=\"text-align: left;\">Mitochondrial complex IV deficiency, nuclear type 2 (OMIM:604377)</td><td style=\"text-align: left;\"><ul> <li>NM_005138.3:c.418G>A (heterozygous)</li> <li>NM_005138.3:c.479T>G (heterozygous)</li> </ul></td><td style=\"text-align: left;\">Respiratory failure requiring assisted ventilation (HP:0004887): onset ; Hypotonia (HP:0001252): onset ; Tachypnea (HP:0002789): onset ; Hypertrophic cardiomyopathy (HP:0001639): onset ; Neutropenia (HP:0001875): onset ; Encephalopathy (HP:0001298): onset ; Dyspnea (HP:0002094): onset </td></tr>\n",
       "<tr><td style=\"text-align: left;\">18924171_P1 (MALE; P25D)</td><td style=\"text-align: left;\">Mitochondrial complex IV deficiency, nuclear type 2 (OMIM:604377)</td><td style=\"text-align: left;\"><ul> <li>NM_005138.3:c.418G>A (heterozygous)</li> <li>NM_005138.3:c.107G>A (heterozygous)</li> </ul></td><td style=\"text-align: left;\">Respiratory failure requiring assisted ventilation (HP:0004887): onset ; Bradycardia (HP:0001662): onset ; Abnormal corpus callosum morphology (HP:0001273): onset ; Hypotonia (HP:0001252): onset ; Vocal cord paralysis (HP:0001605): onset ; Abnormal periventricular white matter morphology (HP:0002518): onset ; Areflexia (HP:0001284): onset ; Muscle weakness (HP:0001324): onset ; Inspiratory stridor (HP:0005348): onset ; Hypertrophic cardiomyopathy (HP:0001639): onset ; Abnormal brainstem morphology (HP:0002363): onset </td></tr>\n",
       "<tr><td style=\"text-align: left;\">19353847_P1 (FEMALE; P1M)</td><td style=\"text-align: left;\">Mitochondrial complex IV deficiency, nuclear type 2 (OMIM:604377)</td><td style=\"text-align: left;\">NM_005138.3:c.577G>A (homozygous)</td><td style=\"text-align: left;\">Intrauterine growth retardation (HP:0001511): onset ; Low-set ears (HP:0000369): onset </td></tr>\n",
       "<tr><td style=\"text-align: left;\">10749987_P1 (MALE; P4M)</td><td style=\"text-align: left;\">Mitochondrial complex IV deficiency, nuclear type 2 (OMIM:604377)</td><td style=\"text-align: left;\"><ul> <li>NM_005138.3:c.418G>A (heterozygous)</li> <li>NM_005138.3:c.511C>T (heterozygous)</li> </ul></td><td style=\"text-align: left;\">Respiratory failure (HP:0002878): onset ; Hypotonia (HP:0001252): onset ; Seizure (HP:0001250): onset ; Hypertrophic cardiomyopathy (HP:0001639): onset </td></tr>\n",
       "<tr><td style=\"text-align: left;\">10749987_P2 (MALE; P1M)</td><td style=\"text-align: left;\">Mitochondrial complex IV deficiency, nuclear type 2 (OMIM:604377)</td><td style=\"text-align: left;\"><ul> <li>NM_005138.3:c.418G>A (heterozygous)</li> <li>NM_005138.3:c.268C>T (heterozygous)</li> </ul></td><td style=\"text-align: left;\">Respiratory failure (HP:0002878): onset ; Hypotonia (HP:0001252): onset ; Seizure (HP:0001250): onset ; Hypertrophic cardiomyopathy (HP:0001639): onset </td></tr>\n",
       "<tr><td style=\"text-align: left;\">10749987_P3 (MALE; P1M)</td><td style=\"text-align: left;\">Mitochondrial complex IV deficiency, nuclear type 2 (OMIM:604377)</td><td style=\"text-align: left;\"><ul> <li>NM_005138.3:c.418G>A (heterozygous)</li> <li>NM_005138.3:c.268C>T (heterozygous)</li> </ul></td><td style=\"text-align: left;\">Respiratory failure (HP:0002878): onset ; Hypotonia (HP:0001252): onset ; Seizure (HP:0001250): onset ; Hypertrophic cardiomyopathy (HP:0001639): onset </td></tr>\n",
       "</table>"
      ],
      "text/plain": [
       "<IPython.core.display.HTML object>"
      ]
     },
     "metadata": {},
     "output_type": "display_data"
    }
   ],
   "source": [
    "table = IndividualTable(cvalidator.get_error_free_individual_list())\n",
    "display(HTML(table.to_html()))"
   ]
  },
  {
   "cell_type": "code",
   "execution_count": 8,
   "id": "f47beb0c-d971-44e4-b63e-81a820bcc938",
   "metadata": {},
   "outputs": [
    {
     "name": "stdout",
     "output_type": "stream",
     "text": [
      "[pyphetools] Ingested 37 GA4GH phenopackets.\n",
      "[INFO] Extracted 31 from 37 phenopackets with OMIM:604377\n",
      "\n",
      "\tMitochondrial complex IV deficiency, nuclear type 2 (OMIM:604377): n=31\n",
      "We found a total of 100 unique HPO terms\n",
      "Extracted disease: Mitochondrial complex IV deficiency, nuclear type 2 (OMIM:604377)\n",
      "Wrote HPOA disease file to OMIM-604377.tab\n"
     ]
    },
    {
     "data": {
      "text/html": [
       "<div>\n",
       "<style scoped>\n",
       "    .dataframe tbody tr th:only-of-type {\n",
       "        vertical-align: middle;\n",
       "    }\n",
       "\n",
       "    .dataframe tbody tr th {\n",
       "        vertical-align: top;\n",
       "    }\n",
       "\n",
       "    .dataframe thead th {\n",
       "        text-align: right;\n",
       "    }\n",
       "</style>\n",
       "<table border=\"1\" class=\"dataframe\">\n",
       "  <thead>\n",
       "    <tr style=\"text-align: right;\">\n",
       "      <th></th>\n",
       "      <th>#diseaseID</th>\n",
       "      <th>diseaseName</th>\n",
       "      <th>phenotypeID</th>\n",
       "      <th>phenotypeName</th>\n",
       "      <th>onsetID</th>\n",
       "      <th>onsetName</th>\n",
       "      <th>frequency</th>\n",
       "      <th>sex</th>\n",
       "      <th>negation</th>\n",
       "      <th>modifier</th>\n",
       "      <th>description</th>\n",
       "      <th>publication</th>\n",
       "      <th>evidence</th>\n",
       "      <th>biocuration</th>\n",
       "    </tr>\n",
       "  </thead>\n",
       "  <tbody>\n",
       "    <tr>\n",
       "      <th>0</th>\n",
       "      <td>OMIM:604377</td>\n",
       "      <td>Mitochondrial complex IV deficiency, nuclear t...</td>\n",
       "      <td>HP:0003458</td>\n",
       "      <td>EMG: myopathic abnormalities</td>\n",
       "      <td></td>\n",
       "      <td></td>\n",
       "      <td>3/3</td>\n",
       "      <td></td>\n",
       "      <td></td>\n",
       "      <td></td>\n",
       "      <td></td>\n",
       "      <td>PMID:10805329</td>\n",
       "      <td>PCS</td>\n",
       "      <td>ORCID:0000-0002-0736-9199[2024-10-31]</td>\n",
       "    </tr>\n",
       "    <tr>\n",
       "      <th>1</th>\n",
       "      <td>OMIM:604377</td>\n",
       "      <td>Mitochondrial complex IV deficiency, nuclear t...</td>\n",
       "      <td>HP:0001635</td>\n",
       "      <td>Congestive heart failure</td>\n",
       "      <td></td>\n",
       "      <td></td>\n",
       "      <td>3/3</td>\n",
       "      <td></td>\n",
       "      <td></td>\n",
       "      <td></td>\n",
       "      <td></td>\n",
       "      <td>PMID:10805329</td>\n",
       "      <td>PCS</td>\n",
       "      <td>ORCID:0000-0002-0736-9199[2024-10-31]</td>\n",
       "    </tr>\n",
       "    <tr>\n",
       "      <th>2</th>\n",
       "      <td>OMIM:604377</td>\n",
       "      <td>Mitochondrial complex IV deficiency, nuclear t...</td>\n",
       "      <td>HP:0004887</td>\n",
       "      <td>Respiratory failure requiring assisted ventila...</td>\n",
       "      <td></td>\n",
       "      <td></td>\n",
       "      <td>3/3</td>\n",
       "      <td></td>\n",
       "      <td></td>\n",
       "      <td></td>\n",
       "      <td></td>\n",
       "      <td>PMID:10805329</td>\n",
       "      <td>PCS</td>\n",
       "      <td>ORCID:0000-0002-0736-9199[2024-10-31]</td>\n",
       "    </tr>\n",
       "    <tr>\n",
       "      <th>3</th>\n",
       "      <td>OMIM:604377</td>\n",
       "      <td>Mitochondrial complex IV deficiency, nuclear t...</td>\n",
       "      <td>HP:0002098</td>\n",
       "      <td>Respiratory distress</td>\n",
       "      <td></td>\n",
       "      <td></td>\n",
       "      <td>3/3</td>\n",
       "      <td></td>\n",
       "      <td></td>\n",
       "      <td></td>\n",
       "      <td></td>\n",
       "      <td>PMID:10805329</td>\n",
       "      <td>PCS</td>\n",
       "      <td>ORCID:0000-0002-0736-9199[2024-10-31]</td>\n",
       "    </tr>\n",
       "    <tr>\n",
       "      <th>4</th>\n",
       "      <td>OMIM:604377</td>\n",
       "      <td>Mitochondrial complex IV deficiency, nuclear t...</td>\n",
       "      <td>HP:0001252</td>\n",
       "      <td>Hypotonia</td>\n",
       "      <td></td>\n",
       "      <td></td>\n",
       "      <td>3/3</td>\n",
       "      <td></td>\n",
       "      <td></td>\n",
       "      <td></td>\n",
       "      <td></td>\n",
       "      <td>PMID:10805329</td>\n",
       "      <td>PCS</td>\n",
       "      <td>ORCID:0000-0002-0736-9199[2024-10-31]</td>\n",
       "    </tr>\n",
       "  </tbody>\n",
       "</table>\n",
       "</div>"
      ],
      "text/plain": [
       "    #diseaseID                                        diseaseName phenotypeID  \\\n",
       "0  OMIM:604377  Mitochondrial complex IV deficiency, nuclear t...  HP:0003458   \n",
       "1  OMIM:604377  Mitochondrial complex IV deficiency, nuclear t...  HP:0001635   \n",
       "2  OMIM:604377  Mitochondrial complex IV deficiency, nuclear t...  HP:0004887   \n",
       "3  OMIM:604377  Mitochondrial complex IV deficiency, nuclear t...  HP:0002098   \n",
       "4  OMIM:604377  Mitochondrial complex IV deficiency, nuclear t...  HP:0001252   \n",
       "\n",
       "                                       phenotypeName onsetID onsetName  \\\n",
       "0                       EMG: myopathic abnormalities                     \n",
       "1                           Congestive heart failure                     \n",
       "2  Respiratory failure requiring assisted ventila...                     \n",
       "3                               Respiratory distress                     \n",
       "4                                          Hypotonia                     \n",
       "\n",
       "  frequency sex negation modifier description    publication evidence  \\\n",
       "0       3/3                                    PMID:10805329      PCS   \n",
       "1       3/3                                    PMID:10805329      PCS   \n",
       "2       3/3                                    PMID:10805329      PCS   \n",
       "3       3/3                                    PMID:10805329      PCS   \n",
       "4       3/3                                    PMID:10805329      PCS   \n",
       "\n",
       "                             biocuration  \n",
       "0  ORCID:0000-0002-0736-9199[2024-10-31]  \n",
       "1  ORCID:0000-0002-0736-9199[2024-10-31]  \n",
       "2  ORCID:0000-0002-0736-9199[2024-10-31]  \n",
       "3  ORCID:0000-0002-0736-9199[2024-10-31]  \n",
       "4  ORCID:0000-0002-0736-9199[2024-10-31]  "
      ]
     },
     "execution_count": 8,
     "metadata": {},
     "output_type": "execute_result"
    }
   ],
   "source": [
    "pmid = \"PMID:35112411\"\n",
    "df = timporter.create_hpoa_from_phenopackets(pmid=pmid, mode_of_inheritance=Moi.AR, target=\"OMIM:604377\")\n",
    "df.head()"
   ]
  }
 ],
 "metadata": {
  "kernelspec": {
   "display_name": "ps24venv",
   "language": "python",
   "name": "python3"
  },
  "language_info": {
   "codemirror_mode": {
    "name": "ipython",
    "version": 3
   },
   "file_extension": ".py",
   "mimetype": "text/x-python",
   "name": "python",
   "nbconvert_exporter": "python",
   "pygments_lexer": "ipython3",
   "version": "3.12.4"
  }
 },
 "nbformat": 4,
 "nbformat_minor": 5
}
