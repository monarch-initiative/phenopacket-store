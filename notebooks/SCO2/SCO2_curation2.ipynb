{
 "cells": [
  {
   "cell_type": "markdown",
   "id": "e936bf5e-e6cb-444d-95b1-4b4022d05484",
   "metadata": {},
   "source": [
    "# SCO2\n",
    "Variants in SCO2 are associated with [Mitochondrial complex IV deficiency, nuclear type 2](https://omim.org/entry/604377) as well as\n",
    "[Myopia 6](https://omim.org/entry/608908).  This notebook collects clinical data from several publications.\n",
    "\n",
    "\n",
    "Note that we have revised incorrect HGVS nomenclature in the original publications as follows\n",
    "- 12–base pair (bp) deletion at c.1519-1530 (PMID:23407777): NM_005138.3:c.402_413del\n",
    "- c.1541G A (PMID:23407777):  c.418G>A\n",
    "- c.398G> (PMID:14994243): c.398G>A\n",
    "- c.17INS19bp (PMID:20159436): NM_005138.3(SCO2):c.16_17insAGCATGCAGCAGTGACTCA (p.Arg6fs) (See clinvar variation id 222816)."
   ]
  },
  {
   "cell_type": "code",
   "execution_count": null,
   "id": "bc58ef03-6864-453a-9def-4ad53641b514",
   "metadata": {},
   "outputs": [],
   "source": []
  },
  {
   "cell_type": "code",
   "execution_count": 9,
   "id": "cad86bb2-92c5-4f8f-a531-246b7b3ee489",
   "metadata": {},
   "outputs": [],
   "source": [
    "tc = TemplateCreator(\"../hp.json\")"
   ]
  },
  {
   "cell_type": "code",
   "execution_count": 10,
   "id": "e480df8c-598d-4f77-bf82-294956ef71d5",
   "metadata": {},
   "outputs": [
    {
     "name": "stdout",
     "output_type": "stream",
     "text": [
      "[INFO] Add 81 HPO terms to template.\n"
     ]
    }
   ],
   "source": [
    "tc.add_seed_terms(\"\"\"\n",
    "35112411_P1 Frequent falls HP:0002359, Limited ankle dorsiflexion HP:0033526, Distal lower limb amyotrophy HP:0008944, Hand muscle atrophy HP:0009130, Tremor HP:0001337\n",
    "35112411_P2 Motor delay HP:0001270Intel, lectual disability, mild HP:0001256, Tremor HP:0001337\n",
    "31844624_P1 Frequent falls HP:0002359, Gait ataxia HP:0002066, Tremor HP:0001337, Distal amyotrophy HP:0003693, Dysmetria HP:0001310, Peripheral axonal neuropathy HP:0003477, Increased serum lactate HP:0002151, Increased CSF lactate HP:0002490\n",
    "31844624_P2 Gait ataxia HP:0002066, Tremor HP:0001337, Distal amyotrophy HP:0003693, Strabismus HP:0000486\n",
    "29351582_P1 Ptosis HP:0000508, Weakness of facial musculature HP:0030319, Facial-lingual fasciculations HP:0007089, Dysarthria HP:0001260, Delayed gross motor development HP:0002194, Frequent falls HP:0002359, Skeletal muscle atrophy HP:0003202, Motor axonal neuropathy HP:0007002, Areflexia HP:0001284, Pes cavus HP:0001761\n",
    "29351582_P2 Lower limb muscle weakness HP:0007340, Areflexia HP:0001284, Impaired vibratory sensation HP:0002495, Mixed demyelinating and axonal polyneuropathy HP:0007327, Distal lower limb amyotrophy HP:0008944, Pes planus HP:0001763, Muscle weakness HP:0001324\n",
    "34746378_P1 Visual impairment HP:0000505, Hemeralopia HP:0012047, Memory impairment HP:0002354, Lower limb pain HP:0012514, Ataxia HP:0001251, Areflexia HP:0001284, Positive Romberg sign HP:0002403, Hearing impairment HP:0000365, Abnormal circulating creatine kinase concentration HP:0040081\n",
    "25525168_P1 Abnormal fundus morphology HP:0001098, High myopia HP:0011003\n",
    "25525168_P2 Abnormal fundus morphology HP:0001098, High myopia HP:0011003\n",
    "23364397_P1 Malignant hyperthermia HP:0002047\n",
    "23364397_P2 Malignant hyperthermia HP:0002047, Muscle weakness HP:0001324, Neurodevelopmental delay HP:0012758, Limb hypertonia HP:0002509\n",
    "23364397_P3 Malignant hyperthermia HP:0002047\n",
    "23407777_P1 Inspiratory stridor HP:0005348, Neonatal hypotonia HP:0001319, Upper limb hypertonia HP:0200049, Cardiomegaly HP:0001640, Respiratory insufficiency due to muscle weakness HP:0002747, Lactic acidosis HP:0003128, Peripheral axonal neuropathy HP:0003477\n",
    "10805329_P1 Respiratory distress HP:0002098, Metabolic acidosis HP:0001942, Respiratory failure requiring assisted ventilation HP:0004887, Hypotonia HP:0001252, Hyporeflexia HP:0001265, Nystagmus HP:0000639, Limb dystonia HP:0002451, Abnormal facial shape HP:0001999, Peripheral neuropathy HP:0009830, EMG: myopathic abnormalities HP:0003458, Hypertrophic cardiomyopathy HP:0001639, Congestive heart failure HP:0001635, Cardiorespiratory arrest HP:0006543\n",
    "10805329_P2 Respiratory distress HP:0002098, Metabolic acidosis HP:0001942, Respiratory failure requiring assisted ventilation HP:0004887, Hypotonia HP:0001252, Hyporeflexia HP:0001265, Nystagmus HP:0000639, Limb dystonia HP:0002451, Abnormal facial shape HP:0001999, Peripheral neuropathy HP:0009830, EMG: myopathic abnormalities HP:0003458, Hypertrophic cardiomyopathy HP:0001639, Congestive heart failure HP:0001635, Cardiorespiratory arrest HP:0006543\n",
    "10805329_P3 Respiratory distress HP:0002098, Metabolic acidosis HP:0001942, Respiratory failure requiring assisted ventilation HP:0004887, Hypotonia HP:0001252, Hyporeflexia HP:0001265, Nystagmus HP:0000639, Limb dystonia HP:0002451, Abnormal facial shape HP:0001999, Peripheral neuropathy HP:0009830, EMG: myopathic abnormalities HP:0003458, Hypertrophic cardiomyopathy HP:0001639, Congestive heart failure HP:0001635, Cardiorespiratory arrest HP:0006543\n",
    "23838601_P1 HP:0002376\n",
    "20159436_P1 Failure to thrive HP:0001508, Hypotonia HP:0001252, Hepatomegaly HP:0002240, Apathy HP:0000741, Jaundice HP:0000952, Abnormality of calvarial morphology HP:0002648, Wide nasal bridge HP:0000431, Microretrognathia HP:0000308, Hypertrophic cardiomyopathy HP:0001639, Lactic acidosis HP:0003128, Feeding difficulties HP:0011968, Respiratory failure requiring assisted ventilation HP:0004887\n",
    "14994243_P1 Stridor HP:0010307, Hypotonia HP:0001252, Respiratory failure requiring assisted ventilation HP:0004887, Areflexia HP:0001284, Lactic acidosis HP:0003128, Right ventricular hypertrophy HP:0001667\n",
    "15210538_P1 Hypotonia HP:0001252, Heart murmur HP:0030148, Respiratory distress HP:0002098, Respiratory failure requiring assisted ventilation HP:0004887, Lactic acidosis HP:0003128, Hypertrophic cardiomyopathy HP:0001639\n",
    "15499950_P1 Inspiratory stridor HP:0005348, Hypotonia HP:0001252, Encephalopathy HP:0001298, Microcephaly HP:0000252\n",
    "15499950_P2 Encephalopathy HP:0001298, Hypotonia HP:0001252, Hypertrophic cardiomyopathy HP:0001639\n",
    "15499950_P3 Inspiratory stridor HP:0005348, Hypotonia HP:0001252, Encephalopathy HP:0001298, Brain atrophy HP:0012444\n",
    "15499950_P4 Inspiratory stridor HP:0005348, Hypotonia HP:0001252, Encephalopathy HP:0001298, Brain atrophy HP:0012444\n",
    "15499950_P5 Hypertonia HP:0001276, Encephalopathy HP:0001298, Brain atrophy HP:0012444\n",
    "15499950_P6 Encephalopathy HP:0001298, Hypotonia HP:0001252, Hypertrophic cardiomyopathy HP:0001639, Brain atrophy HP:0012444\n",
    "16765077_P1 Respiratory failure requiring assisted ventilation HP:0004887, Feeding difficulties HP:0011968, Ptosis HP:0000508, Muscle weakness HP:0001324, Hypertrophic cardiomyopathy HP:0001639, Lactic acidosis HP:0003128, Peripheral neuropathy HP:0009830\n",
    "17187620_P1 Hypotonia HP:0001252, Tachypnea HP:0002789, Respiratory failure requiring assisted ventilation HP:0004887, Dyspnea HP:0002094, Hypertrophic cardiomyopathy HP:0001639, Encephalopathy HP:0001298, Neutropenia HP:0001875\n",
    "18924171_P1 Bradycardia HP:0001662, Hypotonia HP:0001252, Inspiratory stridor HP:0005348, Respiratory failure requiring assisted ventilation HP:0004887, Muscle weakness HP:0001324, Vocal cord paralysis HP:0001605, Areflexia HP:0001284, Hypertrophic cardiomyopathy HP:0001639\n",
    "19353847_P1 HP:0000369\n",
    "23643385_P1 High myopia HP:0011003\n",
    "23643385_P2 High myopia HP:0011003\n",
    "23643385_P3 High myopia HP:0011003\n",
    "23643385_P4 High myopia HP:0011003\n",
    "10749987_P1 Hypertrophic cardiomyopathy HP:0001639, Seizure HP:0001250, Hypotonia HP:0001252, Respiratory insufficiency HP:0002093, Respiratory failure HP:0002878\n",
    "10749987_P2 Hypertrophic cardiomyopathy HP:0001639, Seizure HP:0001250, Hypotonia HP:0001252, Respiratory insufficiency HP:0002093, Respiratory failure HP:0002878\n",
    "10749987_P3 Hypertrophic cardiomyopathy HP:0001639, Seizure HP:0001250, Hypotonia HP:0001252, Respiratory insufficiency HP:0002093, Respiratory failure HP:0002878\n",
    "\"\"\")"
   ]
  },
  {
   "cell_type": "code",
   "execution_count": 11,
   "id": "b34dc5aa-cf2e-486c-b67d-1eb973242098",
   "metadata": {},
   "outputs": [
    {
     "name": "stdout",
     "output_type": "stream",
     "text": [
      "Write excel pyphetools template file to OMIM_604377_individuals.xlsx\n"
     ]
    }
   ],
   "source": [
    "SCO2_transcript = \"NM_005138.3\"\n",
    "SCO2_id=\"HGNC:10604\"\n",
    "SCO2_symbol=\"SCO2\"\n",
    "tc.create_template(disease_id=\"OMIM:604377\", disease_label=\"Mitochondrial complex IV deficiency, nuclear type 2\",\n",
    "                   gene_symbol=\"SCO2\", HGNC_id=\"HGNC:10604\", transcript=SCO2_transcript)"
   ]
  },
  {
   "cell_type": "code",
   "execution_count": 2,
   "id": "62dfcd17-2be3-44ba-b603-3ac0b7b41ad2",
   "metadata": {},
   "outputs": [
    {
     "name": "stdout",
     "output_type": "stream",
     "text": [
      "Using pyphetools version 0.9.66\n"
     ]
    }
   ],
   "source": [
    "import pandas as pd\n",
    "pd.set_option('display.max_colwidth', None) # show entire column contents, important!\n",
    "from collections import defaultdict\n",
    "from IPython.display import display, HTML\n",
    "import pyphetools\n",
    "from pyphetools.creation import *\n",
    "from pyphetools.visualization import *\n",
    "from pyphetools.validation import CohortValidator\n",
    "print(f\"Using pyphetools version {pyphetools.__version__}\")"
   ]
  },
  {
   "cell_type": "code",
   "execution_count": 2,
   "id": "f80c85bb-dbaa-4aa3-a829-e2ef291ccf3c",
   "metadata": {},
   "outputs": [
    {
     "name": "stdout",
     "output_type": "stream",
     "text": [
      "HPO version 2024-01-16\n"
     ]
    }
   ],
   "source": [
    "import ssl\n",
    "ssl._create_default_https_context = ssl._create_unverified_context\n",
    "parser = HpoParser(hpo_json_file=\"../hp.json\")\n",
    "hpo_cr = parser.get_hpo_concept_recognizer()\n",
    "hpo_version = parser.get_version()\n",
    "hpo_ontology = parser.get_ontology()\n",
    "metadata = MetaData(created_by=\"ORCID:0000-0002-0736-9199\")\n",
    "metadata.default_versions_with_hpo(version=hpo_version)\n",
    "print(f\"HPO version {hpo_version}\")"
   ]
  },
  {
   "cell_type": "code",
   "execution_count": 3,
   "id": "55212b38-cf4a-4949-a67d-6b6f488db24d",
   "metadata": {},
   "outputs": [],
   "source": [
    "df = pd.read_excel('input/SCO2_curation.xlsx')\n",
    "df = df.astype(str)"
   ]
  },
  {
   "cell_type": "code",
   "execution_count": 4,
   "id": "bd015992-253c-400b-ba99-373335a8bbd5",
   "metadata": {},
   "outputs": [
    {
     "data": {
      "text/html": [
       "<div>\n",
       "<style scoped>\n",
       "    .dataframe tbody tr th:only-of-type {\n",
       "        vertical-align: middle;\n",
       "    }\n",
       "\n",
       "    .dataframe tbody tr th {\n",
       "        vertical-align: top;\n",
       "    }\n",
       "\n",
       "    .dataframe thead th {\n",
       "        text-align: right;\n",
       "    }\n",
       "</style>\n",
       "<table border=\"1\" class=\"dataframe\">\n",
       "  <thead>\n",
       "    <tr style=\"text-align: right;\">\n",
       "      <th></th>\n",
       "      <th>id</th>\n",
       "      <th>omim_id</th>\n",
       "      <th>omim_title</th>\n",
       "      <th>omim_name</th>\n",
       "      <th>hgnc_id</th>\n",
       "      <th>gene_symbol</th>\n",
       "      <th>Zigosity</th>\n",
       "      <th>Location</th>\n",
       "      <th>Variant annotation</th>\n",
       "      <th>Consequence</th>\n",
       "      <th>...</th>\n",
       "      <th>Age at death</th>\n",
       "      <th>Phenotype</th>\n",
       "      <th>Prenatal ultrasound phenotype</th>\n",
       "      <th>MRI phenotype</th>\n",
       "      <th>Cardiac phenotype</th>\n",
       "      <th>Family history</th>\n",
       "      <th>Source</th>\n",
       "      <th>PMID</th>\n",
       "      <th>title</th>\n",
       "      <th>individual_id</th>\n",
       "    </tr>\n",
       "  </thead>\n",
       "  <tbody>\n",
       "    <tr>\n",
       "      <th>0</th>\n",
       "      <td>35112411_P1</td>\n",
       "      <td>604377</td>\n",
       "      <td>MITOCHONDRIAL COMPLEX IV DEFICIENCY, NUCLEAR TYPE 2</td>\n",
       "      <td>Mitochondrial complex IV deficiency, nuclear type 2</td>\n",
       "      <td>HGNC:10604</td>\n",
       "      <td>SCO2</td>\n",
       "      <td>homozygous</td>\n",
       "      <td>nan</td>\n",
       "      <td>c.361G&gt;C(p.Gly121Arg)</td>\n",
       "      <td>missense</td>\n",
       "      <td>...</td>\n",
       "      <td>alive</td>\n",
       "      <td>Frequent falls HP:0002359, Limited ankle dorsiflexion HP:0033526, Distal lower limb amyotrophy HP:0008944, Hand muscle atrophy HP:0009130, Tremor HP:0001337</td>\n",
       "      <td>nan</td>\n",
       "      <td>Diffuse white matter abnormalities HP:0007204</td>\n",
       "      <td>nan</td>\n",
       "      <td>Non-consanguineous. 1 sibling affected</td>\n",
       "      <td>https://doi.org/10.1002/humu.24338</td>\n",
       "      <td>PMID:35112411</td>\n",
       "      <td>Identification of a novel homozygous synthesis of cytochrome c oxidase 2 variant in siblings with early-onset axonal Charcot-Marie-Tooth disease</td>\n",
       "      <td>0</td>\n",
       "    </tr>\n",
       "    <tr>\n",
       "      <th>1</th>\n",
       "      <td>35112411_P2</td>\n",
       "      <td>604377</td>\n",
       "      <td>MITOCHONDRIAL COMPLEX IV DEFICIENCY, NUCLEAR TYPE 2</td>\n",
       "      <td>Mitochondrial complex IV deficiency, nuclear type 2</td>\n",
       "      <td>HGNC:10604</td>\n",
       "      <td>SCO2</td>\n",
       "      <td>homozygous</td>\n",
       "      <td>nan</td>\n",
       "      <td>c.361G&gt;C(p.Gly121Arg)</td>\n",
       "      <td>missense</td>\n",
       "      <td>...</td>\n",
       "      <td>alive</td>\n",
       "      <td>Motor delay HP:0001270Intel, lectual disability, mild HP:0001256, Tremor HP:0001337</td>\n",
       "      <td>nan</td>\n",
       "      <td>nan</td>\n",
       "      <td>nan</td>\n",
       "      <td>Non-consanguineous. 1 sibling affected</td>\n",
       "      <td>https://doi.org/10.1002/humu.24338</td>\n",
       "      <td>PMID:35112411</td>\n",
       "      <td>Identification of a novel homozygous synthesis of cytochrome c oxidase 2 variant in siblings with early-onset axonal Charcot-Marie-Tooth disease</td>\n",
       "      <td>1</td>\n",
       "    </tr>\n",
       "  </tbody>\n",
       "</table>\n",
       "<p>2 rows × 27 columns</p>\n",
       "</div>"
      ],
      "text/plain": [
       "            id omim_id                                           omim_title  \\\n",
       "0  35112411_P1  604377  MITOCHONDRIAL COMPLEX IV DEFICIENCY, NUCLEAR TYPE 2   \n",
       "1  35112411_P2  604377  MITOCHONDRIAL COMPLEX IV DEFICIENCY, NUCLEAR TYPE 2   \n",
       "\n",
       "                                             omim_name     hgnc_id  \\\n",
       "0  Mitochondrial complex IV deficiency, nuclear type 2  HGNC:10604   \n",
       "1  Mitochondrial complex IV deficiency, nuclear type 2  HGNC:10604   \n",
       "\n",
       "  gene_symbol    Zigosity Location     Variant annotation Consequence  ...  \\\n",
       "0        SCO2  homozygous      nan  c.361G>C(p.Gly121Arg)    missense  ...   \n",
       "1        SCO2  homozygous      nan  c.361G>C(p.Gly121Arg)    missense  ...   \n",
       "\n",
       "  Age at death  \\\n",
       "0        alive   \n",
       "1        alive   \n",
       "\n",
       "                                                                                                                                                      Phenotype  \\\n",
       "0  Frequent falls HP:0002359, Limited ankle dorsiflexion HP:0033526, Distal lower limb amyotrophy HP:0008944, Hand muscle atrophy HP:0009130, Tremor HP:0001337   \n",
       "1                                                                           Motor delay HP:0001270Intel, lectual disability, mild HP:0001256, Tremor HP:0001337   \n",
       "\n",
       "  Prenatal ultrasound phenotype  \\\n",
       "0                           nan   \n",
       "1                           nan   \n",
       "\n",
       "                                   MRI phenotype Cardiac phenotype  \\\n",
       "0  Diffuse white matter abnormalities HP:0007204               nan   \n",
       "1                                            nan               nan   \n",
       "\n",
       "                           Family history                              Source  \\\n",
       "0  Non-consanguineous. 1 sibling affected  https://doi.org/10.1002/humu.24338   \n",
       "1  Non-consanguineous. 1 sibling affected  https://doi.org/10.1002/humu.24338   \n",
       "\n",
       "            PMID  \\\n",
       "0  PMID:35112411   \n",
       "1  PMID:35112411   \n",
       "\n",
       "                                                                                                                                              title  \\\n",
       "0  Identification of a novel homozygous synthesis of cytochrome c oxidase 2 variant in siblings with early-onset axonal Charcot-Marie-Tooth disease   \n",
       "1  Identification of a novel homozygous synthesis of cytochrome c oxidase 2 variant in siblings with early-onset axonal Charcot-Marie-Tooth disease   \n",
       "\n",
       "  individual_id  \n",
       "0             0  \n",
       "1             1  \n",
       "\n",
       "[2 rows x 27 columns]"
      ]
     },
     "execution_count": 4,
     "metadata": {},
     "output_type": "execute_result"
    }
   ],
   "source": [
    "df['individual_id'] = df.index\n",
    "df.head(2)"
   ]
  },
  {
   "cell_type": "code",
   "execution_count": 5,
   "id": "183b2185-a535-4486-9eb2-7b4d5604b655",
   "metadata": {},
   "outputs": [
    {
     "data": {
      "text/plain": [
       "array(['c.361G>C(p.Gly121Arg)', 'c.763C>T(p.Arg255Trp)',\n",
       "       'c.418G>A(p.Glu140Lys)/c.505C>A(p.Pro169Thr)',\n",
       "       'c.404A>G(p.Asp135Gly)/c.512G>A(p.Arg171Gln)',\n",
       "       'c.179G>A p.(Arg60Gln)/c.577G>A p.(Gly193Ser)',\n",
       "       'c.334C>T(p.Arg112Trp)', 'c.358C>T(p.Arg120Trp)',\n",
       "       'c.479T>C(p.Val160Ala)/c.697C>A(p.Pro233Thr)',\n",
       "       'c.418G>A(p.Glu140Lys)/c.402_413del',\n",
       "       'c.157C>T(p.Gln53*)/c.418G>A(p.Glu140Lys)',\n",
       "       'c.418G>A(p.Glu140Lys)/c.674C>T(p.Ser225Phe)',\n",
       "       'c.667G>A(p.Asp223Asn)/chr22:g.49275958_49362964del(NCBI Build 36.1)',\n",
       "       'c.418G>A(p.Glu140Lys)/c.16_17insAGCATGCAGCAGTGACTCA',\n",
       "       'c.418G>A(p.Glu140Lys)/c.398G>A(p.Cys133Tyr)',\n",
       "       'c.418G>A(p.Glu140Lys)/c.157C>T(p.Gln53Ter)',\n",
       "       'c.418G>A(p.Glu140Lys)',\n",
       "       'c.418G>A(p.Glu140Lys)/c.479T>G(p.Val160Gly)',\n",
       "       'c.418G>A(p.Glu140Lys)/c.107G>A(p.Trp36*)',\n",
       "       'c.577G>A(p.Gly193Ser)', 'c.157C>T (p.Gln53*)',\n",
       "       'c.341G>A(p.Arg114His)', 'c.776C>T(p.Ala259Val)',\n",
       "       'c.418G>A(p.Glu140Lys)/c.511C>T(p.Arg171Trp)',\n",
       "       'c.418G>A(p.Glu140Lys)/c.268C>T(p.Arg90*)'], dtype=object)"
      ]
     },
     "execution_count": 5,
     "metadata": {},
     "output_type": "execute_result"
    }
   ],
   "source": [
    "df['Variant annotation'].unique()"
   ]
  },
  {
   "cell_type": "code",
   "execution_count": 6,
   "id": "36060d7d-39b5-4cf1-9857-cb967a2c3348",
   "metadata": {},
   "outputs": [],
   "source": [
    "def extract_cdna(variant):\n",
    "    \"\"\"\n",
    "    split strings like c.772G>T(p.Gly258*) on the open-parenthesis symbol and return the first part\n",
    "    \"\"\"\n",
    "    v = variant.split(\"(\")[0]\n",
    "    v = v.replace(\" \", \"\").replace(\"p.\",\"\")\n",
    "    return v\n",
    "    \n",
    "def extract_variant_1(variants):\n",
    "    \"\"\"\n",
    "    Split on the slash (\"/\") and return the first part (or entire string for homozygous)\n",
    "    \"\"\"\n",
    "    if isinstance(variants, float):\n",
    "        return \"nan\"\n",
    "    v1 = variants.split(\"/\")[0]\n",
    "    return extract_cdna(v1)\n",
    "\n",
    "def extract_variant_2(variants):\n",
    "    \"\"\"\n",
    "    Split on the slash (\"/\") and return the second part (or entire string for homozygous)\n",
    "    \"\"\"\n",
    "    if isinstance(variants, float):\n",
    "        return \"nan\"\n",
    "    fields = variants.split(\"/\")\n",
    "    if len(fields) == 2:\n",
    "        return extract_cdna(fields[1])\n",
    "    else:\n",
    "        # there was only one variant\n",
    "        return extract_cdna(variants)\n",
    "\n",
    "df[\"var1\"] = df['Variant annotation'].apply(lambda x: extract_variant_1(x))\n",
    "df[\"var2\"] = df['Variant annotation'].apply(lambda x: extract_variant_2(x))"
   ]
  },
  {
   "cell_type": "code",
   "execution_count": 7,
   "id": "4e3dc74b-4d0b-4f05-ac6c-f8c6c6761117",
   "metadata": {},
   "outputs": [],
   "source": [
    "SCO2_transcript = \"NM_005138.3\"\n",
    "SCO2_id=\"HGNC:10604\"\n",
    "SCO2_symbol=\"SCO2\"\n",
    "vman = VariantManager(df=df, individual_column_name=\"individual_id\", allele_1_column_name=\"var1\", allele_2_column_name=\"var2\",\n",
    "                      gene_id=SCO2_id, gene_symbol=SCO2_symbol, transcript=SCO2_transcript)"
   ]
  },
  {
   "cell_type": "code",
   "execution_count": 8,
   "id": "4a17ada7-6037-4f60-a4ab-0ce2babdccfe",
   "metadata": {},
   "outputs": [
    {
     "name": "stdout",
     "output_type": "stream",
     "text": [
      "extracted 24 variants with VariantValidator\n"
     ]
    }
   ],
   "source": [
    "variant_d = vman.get_variant_d()\n",
    "print(f\"extracted {len(variant_d)} variants with VariantValidator\")"
   ]
  },
  {
   "cell_type": "code",
   "execution_count": 9,
   "id": "15f1c7e0-c5dc-4907-9c4d-18e143b7405c",
   "metadata": {},
   "outputs": [
    {
     "data": {
      "text/html": [
       "<div>\n",
       "<style scoped>\n",
       "    .dataframe tbody tr th:only-of-type {\n",
       "        vertical-align: middle;\n",
       "    }\n",
       "\n",
       "    .dataframe tbody tr th {\n",
       "        vertical-align: top;\n",
       "    }\n",
       "\n",
       "    .dataframe thead th {\n",
       "        text-align: right;\n",
       "    }\n",
       "</style>\n",
       "<table border=\"1\" class=\"dataframe\">\n",
       "  <thead>\n",
       "    <tr style=\"text-align: right;\">\n",
       "      <th></th>\n",
       "      <th>status</th>\n",
       "      <th>count</th>\n",
       "      <th>alleles</th>\n",
       "    </tr>\n",
       "  </thead>\n",
       "  <tbody>\n",
       "    <tr>\n",
       "      <th>0</th>\n",
       "      <td>mapped</td>\n",
       "      <td>24</td>\n",
       "      <td>c.107G&gt;A, c.512G&gt;A, c.479T&gt;C, c.577G&gt;A, c.157C&gt;T, c.402_413del, c.358C&gt;T, c.179G&gt;A, c.334C&gt;T, c.511C&gt;T, c.16_17insAGCATGCAGCAGTGACTCA, c.341G&gt;A, c.479T&gt;G, c.505C&gt;A, c.398G&gt;A, c.361G&gt;C, c.418G&gt;A, c.268C&gt;T, c.404A&gt;G, c.776C&gt;T, c.763C&gt;T, c.697C&gt;A, c.667G&gt;A, c.674C&gt;T</td>\n",
       "    </tr>\n",
       "    <tr>\n",
       "      <th>1</th>\n",
       "      <td>unmapped</td>\n",
       "      <td>1</td>\n",
       "      <td>chr22:g.49275958_49362964del</td>\n",
       "    </tr>\n",
       "  </tbody>\n",
       "</table>\n",
       "</div>"
      ],
      "text/plain": [
       "     status  count  \\\n",
       "0    mapped     24   \n",
       "1  unmapped      1   \n",
       "\n",
       "                                                                                                                                                                                                                                                                   alleles  \n",
       "0  c.107G>A, c.512G>A, c.479T>C, c.577G>A, c.157C>T, c.402_413del, c.358C>T, c.179G>A, c.334C>T, c.511C>T, c.16_17insAGCATGCAGCAGTGACTCA, c.341G>A, c.479T>G, c.505C>A, c.398G>A, c.361G>C, c.418G>A, c.268C>T, c.404A>G, c.776C>T, c.763C>T, c.697C>A, c.667G>A, c.674C>T  \n",
       "1                                                                                                                                                                                                                                             chr22:g.49275958_49362964del  "
      ]
     },
     "execution_count": 9,
     "metadata": {},
     "output_type": "execute_result"
    }
   ],
   "source": [
    "vman.to_summary()"
   ]
  },
  {
   "cell_type": "code",
   "execution_count": 10,
   "id": "39df2086-5d73-42e1-964b-43691962811a",
   "metadata": {},
   "outputs": [
    {
     "data": {
      "text/html": [
       "<div>\n",
       "<style scoped>\n",
       "    .dataframe tbody tr th:only-of-type {\n",
       "        vertical-align: middle;\n",
       "    }\n",
       "\n",
       "    .dataframe tbody tr th {\n",
       "        vertical-align: top;\n",
       "    }\n",
       "\n",
       "    .dataframe thead th {\n",
       "        text-align: right;\n",
       "    }\n",
       "</style>\n",
       "<table border=\"1\" class=\"dataframe\">\n",
       "  <thead>\n",
       "    <tr style=\"text-align: right;\">\n",
       "      <th></th>\n",
       "      <th>status</th>\n",
       "      <th>count</th>\n",
       "      <th>alleles</th>\n",
       "    </tr>\n",
       "  </thead>\n",
       "  <tbody>\n",
       "    <tr>\n",
       "      <th>0</th>\n",
       "      <td>mapped</td>\n",
       "      <td>25</td>\n",
       "      <td>c.107G&gt;A, c.512G&gt;A, c.479T&gt;C, c.577G&gt;A, c.157C&gt;T, c.402_413del, c.358C&gt;T, c.179G&gt;A, c.334C&gt;T, c.511C&gt;T, c.16_17insAGCATGCAGCAGTGACTCA, c.341G&gt;A, c.479T&gt;G, c.505C&gt;A, c.398G&gt;A, c.361G&gt;C, c.418G&gt;A, c.268C&gt;T, c.404A&gt;G, c.776C&gt;T, c.763C&gt;T, c.697C&gt;A, c.667G&gt;A, c.674C&gt;T, chr22:g.49275958_49362964del</td>\n",
       "    </tr>\n",
       "    <tr>\n",
       "      <th>1</th>\n",
       "      <td>unmapped</td>\n",
       "      <td>0</td>\n",
       "      <td></td>\n",
       "    </tr>\n",
       "  </tbody>\n",
       "</table>\n",
       "</div>"
      ],
      "text/plain": [
       "     status  count  \\\n",
       "0    mapped     25   \n",
       "1  unmapped      0   \n",
       "\n",
       "                                                                                                                                                                                                                                                                                                 alleles  \n",
       "0  c.107G>A, c.512G>A, c.479T>C, c.577G>A, c.157C>T, c.402_413del, c.358C>T, c.179G>A, c.334C>T, c.511C>T, c.16_17insAGCATGCAGCAGTGACTCA, c.341G>A, c.479T>G, c.505C>A, c.398G>A, c.361G>C, c.418G>A, c.268C>T, c.404A>G, c.776C>T, c.763C>T, c.697C>A, c.667G>A, c.674C>T, chr22:g.49275958_49362964del  \n",
       "1                                                                                                                                                                                                                                                                                                         "
      ]
     },
     "execution_count": 10,
     "metadata": {},
     "output_type": "execute_result"
    }
   ],
   "source": [
    "vman.code_as_chromosomal_deletion({\"chr22:g.49275958_49362964del\"})\n",
    "vman.to_summary()"
   ]
  },
  {
   "cell_type": "code",
   "execution_count": 11,
   "id": "94c40396-861d-430b-83a7-9dac394b9933",
   "metadata": {},
   "outputs": [],
   "source": [
    "import re\n",
    "def convert_year(y):\n",
    "    if y == '19 months':\n",
    "        return \"P1Y7M\"\n",
    "    elif y == '28 months':\n",
    "        return \"P2Y4M\"\n",
    "    elif y == \"birth\":\n",
    "        return \"P1D\"\n",
    "    match = re.search(r'(\\d+) year', y)\n",
    "    \n",
    "    if match:\n",
    "        years = match.group(1)\n",
    "        return f\"P{years}Y\"\n",
    "    match = re.search(r'(\\d+) month', y) \n",
    "    if match:\n",
    "        months = match.group(1)\n",
    "        return f\"P{months}M\"\n",
    "    match = re.search(r'(\\d+) weeks', y) \n",
    "    if match:\n",
    "        w = match.group(1)\n",
    "        return f\"P{w}W\"\n",
    "    else:\n",
    "        return \"n/a\"\n",
    "\n",
    "df['age'] = df['Age of diagnosis'].apply(lambda x: convert_year(x))"
   ]
  },
  {
   "cell_type": "code",
   "execution_count": 12,
   "id": "ba79a25f-2cb6-498c-9200-c2d729794e0d",
   "metadata": {},
   "outputs": [],
   "source": [
    "ageMapper = AgeColumnMapper.iso8601(column_name='age')\n",
    "# ageMapper.preview_column(df['age'])"
   ]
  },
  {
   "cell_type": "code",
   "execution_count": 13,
   "id": "5781fa96-c74f-4dc3-b5ef-66dc8f73a406",
   "metadata": {},
   "outputs": [],
   "source": [
    "sexMapper = SexColumnMapper(male_symbol=\"M\", female_symbol=\"F\", column_name='Gender')\n",
    "# sexMapper.preview_column(df[\"Gender\"])"
   ]
  },
  {
   "cell_type": "code",
   "execution_count": 14,
   "id": "4f3234e6-06e6-4522-a25a-ddf9f2125e50",
   "metadata": {},
   "outputs": [
    {
     "data": {
      "text/plain": [
       "Index(['id', 'omim_id', 'omim_title', 'omim_name', 'hgnc_id', 'gene_symbol',\n",
       "       'Zigosity', 'Location', 'Variant annotation', 'Consequence', 'Refseq',\n",
       "       'Protein ID', 'Unnamed: 12', 'ACGM classification', 'Protein structure',\n",
       "       'Age of diagnosis', 'Gender', 'Age at death', 'Phenotype',\n",
       "       'Prenatal ultrasound phenotype', 'MRI phenotype', 'Cardiac phenotype',\n",
       "       'Family history', 'Source', 'PMID', 'title', 'individual_id', 'var1',\n",
       "       'var2', 'age'],\n",
       "      dtype='object')"
      ]
     },
     "execution_count": 14,
     "metadata": {},
     "output_type": "execute_result"
    }
   ],
   "source": [
    "df.columns"
   ]
  },
  {
   "cell_type": "code",
   "execution_count": 15,
   "id": "8633b048-5b92-442b-919e-b3f1a42154e9",
   "metadata": {},
   "outputs": [
    {
     "data": {
      "text/html": [
       "<div>\n",
       "<style scoped>\n",
       "    .dataframe tbody tr th:only-of-type {\n",
       "        vertical-align: middle;\n",
       "    }\n",
       "\n",
       "    .dataframe tbody tr th {\n",
       "        vertical-align: top;\n",
       "    }\n",
       "\n",
       "    .dataframe thead th {\n",
       "        text-align: right;\n",
       "    }\n",
       "</style>\n",
       "<table border=\"1\" class=\"dataframe\">\n",
       "  <thead>\n",
       "    <tr style=\"text-align: right;\">\n",
       "      <th></th>\n",
       "      <th>mapping</th>\n",
       "      <th>count</th>\n",
       "    </tr>\n",
       "  </thead>\n",
       "  <tbody>\n",
       "    <tr>\n",
       "      <th>0</th>\n",
       "      <td>Frequent falls (HP:0002359) (observed)</td>\n",
       "      <td>3</td>\n",
       "    </tr>\n",
       "    <tr>\n",
       "      <th>1</th>\n",
       "      <td>Limited ankle dorsiflexion (HP:0033526) (observed)</td>\n",
       "      <td>1</td>\n",
       "    </tr>\n",
       "    <tr>\n",
       "      <th>2</th>\n",
       "      <td>Distal lower limb amyotrophy (HP:0008944) (observed)</td>\n",
       "      <td>2</td>\n",
       "    </tr>\n",
       "    <tr>\n",
       "      <th>3</th>\n",
       "      <td>Hand muscle atrophy (HP:0009130) (observed)</td>\n",
       "      <td>1</td>\n",
       "    </tr>\n",
       "    <tr>\n",
       "      <th>4</th>\n",
       "      <td>Tremor (HP:0001337) (observed)</td>\n",
       "      <td>4</td>\n",
       "    </tr>\n",
       "    <tr>\n",
       "      <th>...</th>\n",
       "      <td>...</td>\n",
       "      <td>...</td>\n",
       "    </tr>\n",
       "    <tr>\n",
       "      <th>76</th>\n",
       "      <td>Bradycardia (HP:0001662) (observed)</td>\n",
       "      <td>1</td>\n",
       "    </tr>\n",
       "    <tr>\n",
       "      <th>77</th>\n",
       "      <td>Vocal cord paralysis (HP:0001605) (observed)</td>\n",
       "      <td>1</td>\n",
       "    </tr>\n",
       "    <tr>\n",
       "      <th>78</th>\n",
       "      <td>Seizure (HP:0001250) (observed)</td>\n",
       "      <td>3</td>\n",
       "    </tr>\n",
       "    <tr>\n",
       "      <th>79</th>\n",
       "      <td>Respiratory insufficiency (HP:0002093) (observed)</td>\n",
       "      <td>3</td>\n",
       "    </tr>\n",
       "    <tr>\n",
       "      <th>80</th>\n",
       "      <td>Respiratory failure (HP:0002878) (observed)</td>\n",
       "      <td>3</td>\n",
       "    </tr>\n",
       "  </tbody>\n",
       "</table>\n",
       "<p>81 rows × 2 columns</p>\n",
       "</div>"
      ],
      "text/plain": [
       "                                                 mapping count\n",
       "0                 Frequent falls (HP:0002359) (observed)     3\n",
       "1     Limited ankle dorsiflexion (HP:0033526) (observed)     1\n",
       "2   Distal lower limb amyotrophy (HP:0008944) (observed)     2\n",
       "3            Hand muscle atrophy (HP:0009130) (observed)     1\n",
       "4                         Tremor (HP:0001337) (observed)     4\n",
       "..                                                   ...   ...\n",
       "76                   Bradycardia (HP:0001662) (observed)     1\n",
       "77          Vocal cord paralysis (HP:0001605) (observed)     1\n",
       "78                       Seizure (HP:0001250) (observed)     3\n",
       "79     Respiratory insufficiency (HP:0002093) (observed)     3\n",
       "80           Respiratory failure (HP:0002878) (observed)     3\n",
       "\n",
       "[81 rows x 2 columns]"
      ]
     },
     "execution_count": 15,
     "metadata": {},
     "output_type": "execute_result"
    }
   ],
   "source": [
    "column_mapper_list = list()\n",
    "phenotypeColumnMapper = OptionColumnMapper(column_name='Phenotype',concept_recognizer=hpo_cr, option_d={})\n",
    "column_mapper_list.append(phenotypeColumnMapper)\n",
    "phenotypeColumnMapper.preview_column(df)"
   ]
  },
  {
   "cell_type": "code",
   "execution_count": 16,
   "id": "4e5b1509-b6d9-47ea-9394-729ece28ddda",
   "metadata": {},
   "outputs": [
    {
     "data": {
      "text/html": [
       "<div>\n",
       "<style scoped>\n",
       "    .dataframe tbody tr th:only-of-type {\n",
       "        vertical-align: middle;\n",
       "    }\n",
       "\n",
       "    .dataframe tbody tr th {\n",
       "        vertical-align: top;\n",
       "    }\n",
       "\n",
       "    .dataframe thead th {\n",
       "        text-align: right;\n",
       "    }\n",
       "</style>\n",
       "<table border=\"1\" class=\"dataframe\">\n",
       "  <thead>\n",
       "    <tr style=\"text-align: right;\">\n",
       "      <th></th>\n",
       "      <th>mapping</th>\n",
       "      <th>count</th>\n",
       "    </tr>\n",
       "  </thead>\n",
       "  <tbody>\n",
       "    <tr>\n",
       "      <th>0</th>\n",
       "      <td>Intrauterine growth retardation (HP:0001511) (observed)</td>\n",
       "      <td>2</td>\n",
       "    </tr>\n",
       "  </tbody>\n",
       "</table>\n",
       "</div>"
      ],
      "text/plain": [
       "                                                   mapping count\n",
       "0  Intrauterine growth retardation (HP:0001511) (observed)     2"
      ]
     },
     "execution_count": 16,
     "metadata": {},
     "output_type": "execute_result"
    }
   ],
   "source": [
    "prenatalUSmapper =  OptionColumnMapper(column_name='Prenatal ultrasound phenotype',concept_recognizer=hpo_cr, option_d={})\n",
    "column_mapper_list.append(prenatalUSmapper)\n",
    "prenatalUSmapper.preview_column(df)"
   ]
  },
  {
   "cell_type": "code",
   "execution_count": 17,
   "id": "b9790312-91ef-4bfa-92f5-a30312bef581",
   "metadata": {},
   "outputs": [
    {
     "data": {
      "text/html": [
       "<div>\n",
       "<style scoped>\n",
       "    .dataframe tbody tr th:only-of-type {\n",
       "        vertical-align: middle;\n",
       "    }\n",
       "\n",
       "    .dataframe tbody tr th {\n",
       "        vertical-align: top;\n",
       "    }\n",
       "\n",
       "    .dataframe thead th {\n",
       "        text-align: right;\n",
       "    }\n",
       "</style>\n",
       "<table border=\"1\" class=\"dataframe\">\n",
       "  <thead>\n",
       "    <tr style=\"text-align: right;\">\n",
       "      <th></th>\n",
       "      <th>mapping</th>\n",
       "      <th>count</th>\n",
       "    </tr>\n",
       "  </thead>\n",
       "  <tbody>\n",
       "    <tr>\n",
       "      <th>0</th>\n",
       "      <td>Diffuse white matter abnormalities (HP:0007204) (observed)</td>\n",
       "      <td>1</td>\n",
       "    </tr>\n",
       "    <tr>\n",
       "      <th>1</th>\n",
       "      <td>Cerebellar atrophy (HP:0001272) (observed)</td>\n",
       "      <td>2</td>\n",
       "    </tr>\n",
       "    <tr>\n",
       "      <th>2</th>\n",
       "      <td>Abnormal cerebral white matter morphology (HP:0002500) (observed)</td>\n",
       "      <td>1</td>\n",
       "    </tr>\n",
       "    <tr>\n",
       "      <th>3</th>\n",
       "      <td>Cerebral cortical atrophy (HP:0002120) (observed)</td>\n",
       "      <td>1</td>\n",
       "    </tr>\n",
       "    <tr>\n",
       "      <th>4</th>\n",
       "      <td>Focal T2 hyperintense basal ganglia lesion (HP:0007183) (observed)</td>\n",
       "      <td>1</td>\n",
       "    </tr>\n",
       "    <tr>\n",
       "      <th>5</th>\n",
       "      <td>Abnormal brainstem MRI signal intensity (HP:0012747) (observed)</td>\n",
       "      <td>1</td>\n",
       "    </tr>\n",
       "    <tr>\n",
       "      <th>6</th>\n",
       "      <td>Abnormal basal ganglia MRI signal intensity (HP:0012751) (observed)</td>\n",
       "      <td>1</td>\n",
       "    </tr>\n",
       "    <tr>\n",
       "      <th>7</th>\n",
       "      <td>Abnormal brainstem morphology (HP:0002363) (observed)</td>\n",
       "      <td>1</td>\n",
       "    </tr>\n",
       "    <tr>\n",
       "      <th>8</th>\n",
       "      <td>Abnormal periventricular white matter morphology (HP:0002518) (observed)</td>\n",
       "      <td>1</td>\n",
       "    </tr>\n",
       "    <tr>\n",
       "      <th>9</th>\n",
       "      <td>Abnormal corpus callosum morphology (HP:0001273) (observed)</td>\n",
       "      <td>1</td>\n",
       "    </tr>\n",
       "  </tbody>\n",
       "</table>\n",
       "</div>"
      ],
      "text/plain": [
       "                                                                    mapping  \\\n",
       "0                Diffuse white matter abnormalities (HP:0007204) (observed)   \n",
       "1                                Cerebellar atrophy (HP:0001272) (observed)   \n",
       "2         Abnormal cerebral white matter morphology (HP:0002500) (observed)   \n",
       "3                         Cerebral cortical atrophy (HP:0002120) (observed)   \n",
       "4        Focal T2 hyperintense basal ganglia lesion (HP:0007183) (observed)   \n",
       "5           Abnormal brainstem MRI signal intensity (HP:0012747) (observed)   \n",
       "6       Abnormal basal ganglia MRI signal intensity (HP:0012751) (observed)   \n",
       "7                     Abnormal brainstem morphology (HP:0002363) (observed)   \n",
       "8  Abnormal periventricular white matter morphology (HP:0002518) (observed)   \n",
       "9               Abnormal corpus callosum morphology (HP:0001273) (observed)   \n",
       "\n",
       "  count  \n",
       "0     1  \n",
       "1     2  \n",
       "2     1  \n",
       "3     1  \n",
       "4     1  \n",
       "5     1  \n",
       "6     1  \n",
       "7     1  \n",
       "8     1  \n",
       "9     1  "
      ]
     },
     "execution_count": 17,
     "metadata": {},
     "output_type": "execute_result"
    }
   ],
   "source": [
    "mriMapper = OptionColumnMapper(column_name='MRI phenotype',concept_recognizer=hpo_cr, option_d={})\n",
    "column_mapper_list.append(mriMapper)\n",
    "mriMapper.preview_column(df)"
   ]
  },
  {
   "cell_type": "code",
   "execution_count": 18,
   "id": "adf9d40c-6f75-43b7-adab-3549ff3d6521",
   "metadata": {},
   "outputs": [],
   "source": [
    "# No entries for cardiac\n",
    "#cardiacMapper = OptionColumnMapper(concept_recognizer=hpo_cr, option_d={})\n",
    "#cardiacMapper.preview_column(df['Cardiac phenotype'])"
   ]
  },
  {
   "cell_type": "code",
   "execution_count": 19,
   "id": "c572da7d-5647-4d9e-9bcc-1453d38735ef",
   "metadata": {},
   "outputs": [],
   "source": [
    "aod_d = {\n",
    "    \"5 months\": \"P5M\",\n",
    "    \"9 months\": \"P9M\",\n",
    "    \"10 months\": \"P10M\",\n",
    "    \"45 days\": \"P1M15D\",\n",
    "     \"7 months\": \"P7M\",\n",
    "     \"6 months\": \"P6M\",\n",
    "    \"20 months\": \"P1Y8M\",\n",
    "    \"13 weeks\": \"P4M1W\", \n",
    "    \"4 weeks\": \"P1M\",\n",
    "    \"53 days\": \"P1M3W2D\",\n",
    "     \"8 months\": \"P8M\",\n",
    "     \"12 months\": \"P1Y\",\n",
    "     \"15 months\": \"P1Y3M\",\n",
    "    \"7 weeks\": \"P1M3W\",\n",
    "    \"8 weeks\": \"P2M\",\n",
    "     \"4 months\": \"P4M\",\n",
    "     \"25 days\": \"P3W4D\",\n",
    "    \"1 month\": \"P1M\",\n",
    "    \"14 months\": \"P1Y2M\",\n",
    "    \"6.5 months\": \"P6M2W\",\n",
    "     \"4.5 months\": \"P4M2W\",\n",
    "    \"5 months\": \"P5M\",\n",
    "    \"11 months\": \"P11M\",\n",
    "     \"16 months\": \"P1Y4M\",\n",
    "    \"22 months\": \"P1Y10M\",\n",
    "    \"30 months\": \"P2Y6M\",\n",
    "     \"28 months\": \"P2Y4M\",\n",
    "}\n",
    "aodMapper = AgeOfDeathColumnMapper(column_name='Age at death', string_to_iso_d=aod_d)"
   ]
  },
  {
   "cell_type": "code",
   "execution_count": 20,
   "id": "936bf05c-3862-4e73-85ae-3ab940f0bf0a",
   "metadata": {},
   "outputs": [],
   "source": [
    "MC4DN2 = Disease(disease_id=\"OMIM:604377\", disease_label=\"Mitochondrial complex IV deficiency, nuclear type 2\")\n",
    "disease_d = {}\n",
    "disease_d[\"604377\"] = MC4DN2\n",
    "myopia6 = Disease(disease_id=\"OMIM:608908\", disease_label=\"Myopia 6\")\n",
    "disease_d[\"608908\"] = myopia6\n",
    "diseaseMapper = DiseaseIdColumnMapper(column_name=\"omim_id\", disease_id_map=disease_d)"
   ]
  },
  {
   "cell_type": "code",
   "execution_count": 21,
   "id": "b46e0970-12f6-4eca-a3a7-818c02834386",
   "metadata": {},
   "outputs": [],
   "source": [
    "encoder = MixedCohortEncoder(df=df,\n",
    "                            hpo_cr=hpo_cr,\n",
    "                             column_mapper_list=column_mapper_list,\n",
    "                             individual_column_name=\"individual_id\",\n",
    "                             disease_id_mapper=diseaseMapper,\n",
    "                             pmid_column=\"PMID\",\n",
    "                             title_column=\"title\",\n",
    "                             sexmapper=sexMapper,\n",
    "                             agemapper=ageMapper,\n",
    "                             age_of_death_mapper=aodMapper,\n",
    "                             metadata=metadata\n",
    "                        )"
   ]
  },
  {
   "cell_type": "code",
   "execution_count": 22,
   "id": "95de5b21-86a2-4eac-8a3f-93b469a42430",
   "metadata": {},
   "outputs": [],
   "source": [
    "individuals = encoder.get_individuals()"
   ]
  },
  {
   "cell_type": "code",
   "execution_count": 23,
   "id": "eb3f7a7a-7283-42f4-a0b8-ab91572c2273",
   "metadata": {},
   "outputs": [],
   "source": [
    "vman.add_variants_to_individuals(individuals)"
   ]
  },
  {
   "cell_type": "code",
   "execution_count": null,
   "id": "1eb5e09f-6739-4273-82bb-0923dd197429",
   "metadata": {},
   "outputs": [],
   "source": []
  },
  {
   "cell_type": "code",
   "execution_count": 24,
   "id": "7161208c-81b2-40d7-a37d-630b47dff653",
   "metadata": {},
   "outputs": [
    {
     "data": {
      "text/html": [
       "<h2>Cohort validation</h2>\n",
       "<p>Errors found with 6 of 37 phenopackets.</p>\n",
       "<table style=\"border: 2px solid black; align: \"left\">\n",
       "<caption>Error counts</caption>\n",
       "<tr><th style=\"text-align: left;font-weight: bold;\">Level</th><th style=\"text-align: left;font-weight: bold;\">Error category</th><th style=\"text-align: left;font-weight: bold;\">Count</th></tr>\n",
       "<tr><td style=\"text-align: left;\">ERROR</td><td style=\"text-align: left;\">INSUFFICIENT_HPOS</td><td style=\"text-align: left;\">1</td></tr>\n",
       "<tr><td style=\"text-align: left;\">WARNING</td><td style=\"text-align: left;\">REDUNDANT</td><td style=\"text-align: left;\">5</td></tr>\n",
       "</table>\n",
       "<p>A total of 6 issues were fixed and 1 individuals were removed from the cohort because of irreparable errors. The cohort validator will return 36 individual objects without errors.</p>\n",
       "<p>The following redundant terms were found: <b>Abnormal basal ganglia MRI signal intensity</b> is redundant because of <b>Focal T2 hyperintense basal ganglia lesion</b>; <b>Respiratory insufficiency</b> is redundant because of <b>Respiratory failure</b>; <b>Muscle weakness</b> is redundant because of <b>Lower limb muscle weakness</b>. Redundant terms will be removed, keeping only one instance of the most specific term.</p>\n",
       "<h2>Individuals with unfixable errors</h2>\n",
       "<table style=\"border: 2px solid black; align: \"left\">\n",
       "<caption>Error analysis</caption>\n",
       "<tr><th style=\"text-align: left;font-weight: bold;\">ID</th><th style=\"text-align: left;font-weight: bold;\">Level</th><th style=\"text-align: left;font-weight: bold;\">Category</th><th style=\"text-align: left;font-weight: bold;\">Message</th><th style=\"text-align: left;font-weight: bold;\">HPO Term</th></tr>\n",
       "<tr><td style=\"text-align: left;\">PMID_23838601_16</td><td style=\"text-align: left;\">ERROR</td><td style=\"text-align: left;\">INSUFFICIENT_HPOS</td><td style=\"text-align: left;\">Minimum HPO terms required 1 but only 0 found</td><td style=\"text-align: left;\"></td></tr>\n",
       "</table>"
      ],
      "text/plain": [
       "<IPython.core.display.HTML object>"
      ]
     },
     "metadata": {},
     "output_type": "display_data"
    }
   ],
   "source": [
    "cvalidator = CohortValidator(cohort=individuals, ontology=hpo_ontology, min_hpo=1, allelic_requirement=AllelicRequirement.BI_ALLELIC)\n",
    "qc = QcVisualizer(cohort_validator=cvalidator)\n",
    "display(HTML(qc.to_summary_html()))"
   ]
  },
  {
   "cell_type": "code",
   "execution_count": 25,
   "id": "b5497820-3483-4ccf-9a29-2c9fcc21b169",
   "metadata": {},
   "outputs": [
    {
     "data": {
      "text/html": [
       "<table style=\"border: 2px solid black; align: \"left\">\n",
       "<caption>36 phenopackets - PMID:35112411 (n=2); PMID:31844624 (n=2); PMID:29351582 (n=2); PMID:34746378 (n=1); PMID:25525168 (n=2); PMID:23364397 (n=3); PMID:23407777 (n=1); PMID:10805329 (n=3); PMID:20159436 (n=1); PMID:14994243 (n=1); PMID:15210538 (n=1); PMID:15499950 (n=6); PMID:16765077 (n=1); PMID:17187620 (n=1); PMID:18924171 (n=1); PMID:19353847 (n=1); PMID:23643385 (n=4); PMID:10749987 (n=3)</caption>\n",
       "<tr><th style=\"text-align: left;font-weight: bold;\">Individual</th><th style=\"text-align: left;font-weight: bold;\">Disease</th><th style=\"text-align: left;font-weight: bold;\">Genotype</th><th style=\"text-align: left;font-weight: bold;\">Phenotypic features</th></tr>\n",
       "<tr><td style=\"text-align: left;\">0 (MALE; P14Y)</td><td style=\"text-align: left;\">Mitochondrial complex IV deficiency, nuclear type 2 (OMIM:604377)</td><td style=\"text-align: left;\">NM_005138.3:c.361G>C (homozygous)</td><td style=\"text-align: left;\">Frequent falls (HP:0002359); Limited ankle dorsiflexion (HP:0033526); Distal lower limb amyotrophy (HP:0008944); Hand muscle atrophy (HP:0009130); Tremor (HP:0001337); Diffuse white matter abnormalities (HP:0007204)</td></tr>\n",
       "<tr><td style=\"text-align: left;\">1 (MALE; P6Y)</td><td style=\"text-align: left;\">Mitochondrial complex IV deficiency, nuclear type 2 (OMIM:604377)</td><td style=\"text-align: left;\">NM_005138.3:c.361G>C (homozygous)</td><td style=\"text-align: left;\">Motor delay (HP:0001270); Tremor (HP:0001337)</td></tr>\n",
       "<tr><td style=\"text-align: left;\">2 (MALE; P1Y7M)</td><td style=\"text-align: left;\">Mitochondrial complex IV deficiency, nuclear type 2 (OMIM:604377)</td><td style=\"text-align: left;\">NM_005138.3:c.763C>T (homozygous)</td><td style=\"text-align: left;\">Frequent falls (HP:0002359); Gait ataxia (HP:0002066); Tremor (HP:0001337); Distal amyotrophy (HP:0003693); Dysmetria (HP:0001310); Peripheral axonal neuropathy (HP:0003477); Increased serum lactate (HP:0002151); Increased CSF lactate (HP:0002490); Cerebellar atrophy (HP:0001272)</td></tr>\n",
       "<tr><td style=\"text-align: left;\">3 (FEMALE; P2Y4M)</td><td style=\"text-align: left;\">Mitochondrial complex IV deficiency, nuclear type 2 (OMIM:604377)</td><td style=\"text-align: left;\">NM_005138.3:c.763C>T (homozygous)</td><td style=\"text-align: left;\">Gait ataxia (HP:0002066); Tremor (HP:0001337); Distal amyotrophy (HP:0003693); Strabismus (HP:0000486); Cerebellar atrophy (HP:0001272)</td></tr>\n",
       "<tr><td style=\"text-align: left;\">4 (FEMALE; P6M)</td><td style=\"text-align: left;\">Mitochondrial complex IV deficiency, nuclear type 2 (OMIM:604377)</td><td style=\"text-align: left;\"><ul> <li>NM_005138.3:c.418G>A (heterozygous)</li> <li>NM_005138.3:c.505C>A (heterozygous)</li> </ul></td><td style=\"text-align: left;\">Ptosis (HP:0000508); Weakness of facial musculature (HP:0030319); Facial-lingual fasciculations (HP:0007089); Dysarthria (HP:0001260); Delayed gross motor development (HP:0002194); Frequent falls (HP:0002359); Skeletal muscle atrophy (HP:0003202); Motor axonal neuropathy (HP:0007002); Areflexia (HP:0001284); Pes cavus (HP:0001761)</td></tr>\n",
       "<tr><td style=\"text-align: left;\">5 (MALE; P12Y)</td><td style=\"text-align: left;\">Mitochondrial complex IV deficiency, nuclear type 2 (OMIM:604377)</td><td style=\"text-align: left;\"><ul> <li>NM_005138.3:c.404A>G (heterozygous)</li> <li>NM_005138.3:c.512G>A (heterozygous)</li> </ul></td><td style=\"text-align: left;\">Lower limb muscle weakness (HP:0007340); Areflexia (HP:0001284); Impaired vibratory sensation (HP:0002495); Mixed demyelinating and axonal polyneuropathy (HP:0007327); Distal lower limb amyotrophy (HP:0008944); Pes planus (HP:0001763)</td></tr>\n",
       "<tr><td style=\"text-align: left;\">6 (MALE; P48Y)</td><td style=\"text-align: left;\">Mitochondrial complex IV deficiency, nuclear type 2 (OMIM:604377)</td><td style=\"text-align: left;\"><ul> <li>NM_005138.3:c.179G>A (heterozygous)</li> <li>NM_005138.3:c.577G>A (heterozygous)</li> </ul></td><td style=\"text-align: left;\">Visual impairment (HP:0000505); Hemeralopia (HP:0012047); Memory impairment (HP:0002354); Lower limb pain (HP:0012514); Ataxia (HP:0001251); Areflexia (HP:0001284); Positive Romberg sign (HP:0002403); Hearing impairment (HP:0000365); Abnormal circulating creatine kinase concentration (HP:0040081); Abnormal cerebral white matter morphology (HP:0002500); Cerebral cortical atrophy (HP:0002120)</td></tr>\n",
       "<tr><td style=\"text-align: left;\">7 (FEMALE; P32Y)</td><td style=\"text-align: left;\">Myopia 6 (OMIM:608908)</td><td style=\"text-align: left;\">NM_005138.3:c.334C>T (homozygous)</td><td style=\"text-align: left;\">Abnormal fundus morphology (HP:0001098); High myopia (HP:0011003)</td></tr>\n",
       "<tr><td style=\"text-align: left;\">8 (FEMALE; P6Y)</td><td style=\"text-align: left;\">Myopia 6 (OMIM:608908)</td><td style=\"text-align: left;\">NM_005138.3:c.358C>T (homozygous)</td><td style=\"text-align: left;\">Abnormal fundus morphology (HP:0001098); High myopia (HP:0011003)</td></tr>\n",
       "<tr><td style=\"text-align: left;\">9 (MALE; P4M)</td><td style=\"text-align: left;\">Mitochondrial complex IV deficiency, nuclear type 2 (OMIM:604377)</td><td style=\"text-align: left;\"><ul> <li>NM_005138.3:c.479T>C (heterozygous)</li> <li>NM_005138.3:c.697C>A (heterozygous)</li> </ul></td><td style=\"text-align: left;\">Malignant hyperthermia (HP:0002047)</td></tr>\n",
       "<tr><td style=\"text-align: left;\">10 (MALE; P8M)</td><td style=\"text-align: left;\">Mitochondrial complex IV deficiency, nuclear type 2 (OMIM:604377)</td><td style=\"text-align: left;\"><ul> <li>NM_005138.3:c.479T>C (heterozygous)</li> <li>NM_005138.3:c.697C>A (heterozygous)</li> </ul></td><td style=\"text-align: left;\">Malignant hyperthermia (HP:0002047); Muscle weakness (HP:0001324); Neurodevelopmental delay (HP:0012758); Limb hypertonia (HP:0002509)</td></tr>\n",
       "<tr><td style=\"text-align: left;\">11 (MALE; P9M)</td><td style=\"text-align: left;\">Mitochondrial complex IV deficiency, nuclear type 2 (OMIM:604377)</td><td style=\"text-align: left;\"><ul> <li>NM_005138.3:c.479T>C (heterozygous)</li> <li>NM_005138.3:c.697C>A (heterozygous)</li> </ul></td><td style=\"text-align: left;\">Malignant hyperthermia (HP:0002047)</td></tr>\n",
       "<tr><td style=\"text-align: left;\">12 (FEMALE; P1M)</td><td style=\"text-align: left;\">Mitochondrial complex IV deficiency, nuclear type 2 (OMIM:604377)</td><td style=\"text-align: left;\"><ul> <li>NM_005138.3:c.418G>A (heterozygous)</li> <li>NM_005138.3:c.402_413del (heterozygous)</li> </ul></td><td style=\"text-align: left;\">Inspiratory stridor (HP:0005348); Neonatal hypotonia (HP:0001319); Upper limb hypertonia (HP:0200049); Cardiomegaly (HP:0001640); Respiratory insufficiency due to muscle weakness (HP:0002747); Lactic acidosis (HP:0003128); Peripheral axonal neuropathy (HP:0003477)</td></tr>\n",
       "<tr><td style=\"text-align: left;\">13 (MALE; P1M)</td><td style=\"text-align: left;\">Mitochondrial complex IV deficiency, nuclear type 2 (OMIM:604377)</td><td style=\"text-align: left;\"><ul> <li>NM_005138.3:c.157C>T (heterozygous)</li> <li>NM_005138.3:c.418G>A (heterozygous)</li> </ul></td><td style=\"text-align: left;\">Respiratory distress (HP:0002098); Metabolic acidosis (HP:0001942); Respiratory failure requiring assisted ventilation (HP:0004887); Hypotonia (HP:0001252); Hyporeflexia (HP:0001265); Nystagmus (HP:0000639); Limb dystonia (HP:0002451); Abnormal facial shape (HP:0001999); Peripheral neuropathy (HP:0009830); EMG: myopathic abnormalities (HP:0003458); Hypertrophic cardiomyopathy (HP:0001639); Congestive heart failure (HP:0001635); Cardiorespiratory arrest (HP:0006543)</td></tr>\n",
       "<tr><td style=\"text-align: left;\">14 (FEMALE; P1M)</td><td style=\"text-align: left;\">Mitochondrial complex IV deficiency, nuclear type 2 (OMIM:604377)</td><td style=\"text-align: left;\"><ul> <li>NM_005138.3:c.157C>T (heterozygous)</li> <li>NM_005138.3:c.418G>A (heterozygous)</li> </ul></td><td style=\"text-align: left;\">Respiratory distress (HP:0002098); Metabolic acidosis (HP:0001942); Respiratory failure requiring assisted ventilation (HP:0004887); Hypotonia (HP:0001252); Hyporeflexia (HP:0001265); Nystagmus (HP:0000639); Limb dystonia (HP:0002451); Abnormal facial shape (HP:0001999); Peripheral neuropathy (HP:0009830); EMG: myopathic abnormalities (HP:0003458); Hypertrophic cardiomyopathy (HP:0001639); Congestive heart failure (HP:0001635); Cardiorespiratory arrest (HP:0006543)</td></tr>\n",
       "<tr><td style=\"text-align: left;\">15 (FEMALE; P1M)</td><td style=\"text-align: left;\">Mitochondrial complex IV deficiency, nuclear type 2 (OMIM:604377)</td><td style=\"text-align: left;\"><ul> <li>NM_005138.3:c.418G>A (heterozygous)</li> <li>NM_005138.3:c.674C>T (heterozygous)</li> </ul></td><td style=\"text-align: left;\">Respiratory distress (HP:0002098); Metabolic acidosis (HP:0001942); Respiratory failure requiring assisted ventilation (HP:0004887); Hypotonia (HP:0001252); Hyporeflexia (HP:0001265); Nystagmus (HP:0000639); Limb dystonia (HP:0002451); Abnormal facial shape (HP:0001999); Peripheral neuropathy (HP:0009830); EMG: myopathic abnormalities (HP:0003458); Hypertrophic cardiomyopathy (HP:0001639); Congestive heart failure (HP:0001635); Cardiorespiratory arrest (HP:0006543)</td></tr>\n",
       "<tr><td style=\"text-align: left;\">17 (MALE; P3W)</td><td style=\"text-align: left;\">Mitochondrial complex IV deficiency, nuclear type 2 (OMIM:604377)</td><td style=\"text-align: left;\"><ul> <li>NM_005138.3:c.418G>A (heterozygous)</li> <li>NM_005138.3:c.16_17insAGCATGCAGCAGTGACTCA (heterozygous)</li> </ul></td><td style=\"text-align: left;\">Failure to thrive (HP:0001508); Hypotonia (HP:0001252); Hepatomegaly (HP:0002240); Apathy (HP:0000741); Jaundice (HP:0000952); Wide nasal bridge (HP:0000431); Microretrognathia (HP:0000308); Hypertrophic cardiomyopathy (HP:0001639); Lactic acidosis (HP:0003128); Feeding difficulties (HP:0011968); Respiratory failure requiring assisted ventilation (HP:0004887); Focal T2 hyperintense basal ganglia lesion (HP:0007183); Abnormal brainstem MRI signal intensity (HP:0012747)</td></tr>\n",
       "<tr><td style=\"text-align: left;\">18 (MALE; P1D)</td><td style=\"text-align: left;\">Mitochondrial complex IV deficiency, nuclear type 2 (OMIM:604377)</td><td style=\"text-align: left;\"><ul> <li>NM_005138.3:c.418G>A (heterozygous)</li> <li>NM_005138.3:c.398G>A (heterozygous)</li> </ul></td><td style=\"text-align: left;\">Stridor (HP:0010307); Hypotonia (HP:0001252); Respiratory failure requiring assisted ventilation (HP:0004887); Areflexia (HP:0001284); Lactic acidosis (HP:0003128); Right ventricular hypertrophy (HP:0001667)</td></tr>\n",
       "<tr><td style=\"text-align: left;\">19 (FEMALE; P1D)</td><td style=\"text-align: left;\">Mitochondrial complex IV deficiency, nuclear type 2 (OMIM:604377)</td><td style=\"text-align: left;\"><ul> <li>NM_005138.3:c.418G>A (heterozygous)</li> <li>NM_005138.3:c.157C>T (heterozygous)</li> </ul></td><td style=\"text-align: left;\">Hypotonia (HP:0001252); Heart murmur (HP:0030148); Respiratory distress (HP:0002098); Respiratory failure requiring assisted ventilation (HP:0004887); Lactic acidosis (HP:0003128); Hypertrophic cardiomyopathy (HP:0001639)</td></tr>\n",
       "<tr><td style=\"text-align: left;\">20 (MALE; P3M)</td><td style=\"text-align: left;\">Mitochondrial complex IV deficiency, nuclear type 2 (OMIM:604377)</td><td style=\"text-align: left;\">NM_005138.3:c.418G>A (homozygous)</td><td style=\"text-align: left;\">Inspiratory stridor (HP:0005348); Hypotonia (HP:0001252); Encephalopathy (HP:0001298); Microcephaly (HP:0000252)</td></tr>\n",
       "<tr><td style=\"text-align: left;\">21 (MALE; P6M)</td><td style=\"text-align: left;\">Mitochondrial complex IV deficiency, nuclear type 2 (OMIM:604377)</td><td style=\"text-align: left;\">NM_005138.3:c.418G>A (homozygous)</td><td style=\"text-align: left;\">Encephalopathy (HP:0001298); Hypotonia (HP:0001252); Hypertrophic cardiomyopathy (HP:0001639)</td></tr>\n",
       "<tr><td style=\"text-align: left;\">22 (MALE; P4M)</td><td style=\"text-align: left;\">Mitochondrial complex IV deficiency, nuclear type 2 (OMIM:604377)</td><td style=\"text-align: left;\">NM_005138.3:c.418G>A (homozygous)</td><td style=\"text-align: left;\">Inspiratory stridor (HP:0005348); Hypotonia (HP:0001252); Encephalopathy (HP:0001298); Brain atrophy (HP:0012444)</td></tr>\n",
       "<tr><td style=\"text-align: left;\">23 (MALE; P6M)</td><td style=\"text-align: left;\">Mitochondrial complex IV deficiency, nuclear type 2 (OMIM:604377)</td><td style=\"text-align: left;\">NM_005138.3:c.418G>A (homozygous)</td><td style=\"text-align: left;\">Inspiratory stridor (HP:0005348); Hypotonia (HP:0001252); Encephalopathy (HP:0001298); Brain atrophy (HP:0012444)</td></tr>\n",
       "<tr><td style=\"text-align: left;\">24 (MALE; P5M)</td><td style=\"text-align: left;\">Mitochondrial complex IV deficiency, nuclear type 2 (OMIM:604377)</td><td style=\"text-align: left;\">NM_005138.3:c.418G>A (homozygous)</td><td style=\"text-align: left;\">Hypertonia (HP:0001276); Encephalopathy (HP:0001298); Brain atrophy (HP:0012444)</td></tr>\n",
       "<tr><td style=\"text-align: left;\">25 (MALE; P1D)</td><td style=\"text-align: left;\">Mitochondrial complex IV deficiency, nuclear type 2 (OMIM:604377)</td><td style=\"text-align: left;\"><ul> <li>NM_005138.3:c.418G>A (heterozygous)</li> <li>NM_005138.3:c.157C>T (heterozygous)</li> </ul></td><td style=\"text-align: left;\">Encephalopathy (HP:0001298); Hypotonia (HP:0001252); Hypertrophic cardiomyopathy (HP:0001639); Brain atrophy (HP:0012444)</td></tr>\n",
       "<tr><td style=\"text-align: left;\">26 (MALE; P1D)</td><td style=\"text-align: left;\">Mitochondrial complex IV deficiency, nuclear type 2 (OMIM:604377)</td><td style=\"text-align: left;\">NM_005138.3:c.418G>A (homozygous)</td><td style=\"text-align: left;\">Respiratory failure requiring assisted ventilation (HP:0004887); Feeding difficulties (HP:0011968); Ptosis (HP:0000508); Muscle weakness (HP:0001324); Hypertrophic cardiomyopathy (HP:0001639); Lactic acidosis (HP:0003128); Peripheral neuropathy (HP:0009830); Intrauterine growth retardation (HP:0001511)</td></tr>\n",
       "<tr><td style=\"text-align: left;\">27 (FEMALE; P4W)</td><td style=\"text-align: left;\">Mitochondrial complex IV deficiency, nuclear type 2 (OMIM:604377)</td><td style=\"text-align: left;\"><ul> <li>NM_005138.3:c.418G>A (heterozygous)</li> <li>NM_005138.3:c.479T>G (heterozygous)</li> </ul></td><td style=\"text-align: left;\">Hypotonia (HP:0001252); Tachypnea (HP:0002789); Respiratory failure requiring assisted ventilation (HP:0004887); Dyspnea (HP:0002094); Hypertrophic cardiomyopathy (HP:0001639); Encephalopathy (HP:0001298); Neutropenia (HP:0001875)</td></tr>\n",
       "<tr><td style=\"text-align: left;\">28 (MALE; P1D)</td><td style=\"text-align: left;\">Mitochondrial complex IV deficiency, nuclear type 2 (OMIM:604377)</td><td style=\"text-align: left;\"><ul> <li>NM_005138.3:c.418G>A (heterozygous)</li> <li>NM_005138.3:c.107G>A (heterozygous)</li> </ul></td><td style=\"text-align: left;\">Bradycardia (HP:0001662); Hypotonia (HP:0001252); Inspiratory stridor (HP:0005348); Respiratory failure requiring assisted ventilation (HP:0004887); Muscle weakness (HP:0001324); Vocal cord paralysis (HP:0001605); Areflexia (HP:0001284); Hypertrophic cardiomyopathy (HP:0001639); Abnormal brainstem morphology (HP:0002363); Abnormal periventricular white matter morphology (HP:0002518); Abnormal corpus callosum morphology (HP:0001273)</td></tr>\n",
       "<tr><td style=\"text-align: left;\">29 (FEMALE; P1D)</td><td style=\"text-align: left;\">Mitochondrial complex IV deficiency, nuclear type 2 (OMIM:604377)</td><td style=\"text-align: left;\">NM_005138.3:c.577G>A (homozygous)</td><td style=\"text-align: left;\">Intrauterine growth retardation (HP:0001511)</td></tr>\n",
       "<tr><td style=\"text-align: left;\">30 (UNKNOWN; )</td><td style=\"text-align: left;\">Myopia 6 (OMIM:608908)</td><td style=\"text-align: left;\">NM_005138.3:c.157C>T (homozygous)</td><td style=\"text-align: left;\">High myopia (HP:0011003)</td></tr>\n",
       "<tr><td style=\"text-align: left;\">31 (UNKNOWN; )</td><td style=\"text-align: left;\">Myopia 6 (OMIM:608908)</td><td style=\"text-align: left;\">NM_005138.3:c.341G>A (homozygous)</td><td style=\"text-align: left;\">High myopia (HP:0011003)</td></tr>\n",
       "<tr><td style=\"text-align: left;\">32 (UNKNOWN; )</td><td style=\"text-align: left;\">Myopia 6 (OMIM:608908)</td><td style=\"text-align: left;\">NM_005138.3:c.418G>A (homozygous)</td><td style=\"text-align: left;\">High myopia (HP:0011003)</td></tr>\n",
       "<tr><td style=\"text-align: left;\">33 (UNKNOWN; )</td><td style=\"text-align: left;\">Myopia 6 (OMIM:608908)</td><td style=\"text-align: left;\">NM_005138.3:c.776C>T (homozygous)</td><td style=\"text-align: left;\">High myopia (HP:0011003)</td></tr>\n",
       "<tr><td style=\"text-align: left;\">34 (MALE; P1D)</td><td style=\"text-align: left;\">Mitochondrial complex IV deficiency, nuclear type 2 (OMIM:604377)</td><td style=\"text-align: left;\"><ul> <li>NM_005138.3:c.418G>A (heterozygous)</li> <li>NM_005138.3:c.511C>T (heterozygous)</li> </ul></td><td style=\"text-align: left;\">Hypertrophic cardiomyopathy (HP:0001639); Seizure (HP:0001250); Hypotonia (HP:0001252); Respiratory failure (HP:0002878)</td></tr>\n",
       "<tr><td style=\"text-align: left;\">35 (MALE; P1D)</td><td style=\"text-align: left;\">Mitochondrial complex IV deficiency, nuclear type 2 (OMIM:604377)</td><td style=\"text-align: left;\"><ul> <li>NM_005138.3:c.418G>A (heterozygous)</li> <li>NM_005138.3:c.268C>T (heterozygous)</li> </ul></td><td style=\"text-align: left;\">Hypertrophic cardiomyopathy (HP:0001639); Seizure (HP:0001250); Hypotonia (HP:0001252); Respiratory failure (HP:0002878)</td></tr>\n",
       "<tr><td style=\"text-align: left;\">36 (MALE; P1D)</td><td style=\"text-align: left;\">Mitochondrial complex IV deficiency, nuclear type 2 (OMIM:604377)</td><td style=\"text-align: left;\"><ul> <li>NM_005138.3:c.418G>A (heterozygous)</li> <li>NM_005138.3:c.268C>T (heterozygous)</li> </ul></td><td style=\"text-align: left;\">Hypertrophic cardiomyopathy (HP:0001639); Seizure (HP:0001250); Hypotonia (HP:0001252); Respiratory failure (HP:0002878)</td></tr>\n",
       "</table>"
      ],
      "text/plain": [
       "<IPython.core.display.HTML object>"
      ]
     },
     "metadata": {},
     "output_type": "display_data"
    }
   ],
   "source": [
    "individuals = cvalidator.get_error_free_individual_list()\n",
    "table = PhenopacketTable(individual_list=individuals, metadata=metadata)\n",
    "display(HTML(table.to_html()))"
   ]
  },
  {
   "cell_type": "code",
   "execution_count": 26,
   "id": "a006ebcc-ce08-4235-9fd6-5cbfe1a1cb42",
   "metadata": {},
   "outputs": [
    {
     "name": "stdout",
     "output_type": "stream",
     "text": [
      "We output 36 GA4GH phenopackets to the directory phenopackets\n"
     ]
    }
   ],
   "source": [
    "MixedCohortEncoder.output_individuals_as_phenopackets(individual_list=individuals)"
   ]
  },
  {
   "cell_type": "code",
   "execution_count": 3,
   "id": "8433c6df-82fb-4f5c-82c3-a4ff2b9539dc",
   "metadata": {},
   "outputs": [],
   "source": [
    "df = pd.read_excel('input/SCO2_curation.xlsx')\n"
   ]
  },
  {
   "cell_type": "code",
   "execution_count": 4,
   "id": "db91ee37-e29f-4adc-954c-3025f6788a13",
   "metadata": {},
   "outputs": [
    {
     "data": {
      "text/plain": [
       "Index(['id', 'omim_id', 'omim_title', 'omim_name', 'hgnc_id', 'gene_symbol',\n",
       "       'Zigosity', 'Location', 'Variant annotation', 'Consequence', 'Refseq',\n",
       "       'Protein ID', 'Unnamed: 12', 'ACGM classification', 'Protein structure',\n",
       "       'Age of diagnosis', 'Gender', 'Age at death', 'Phenotype',\n",
       "       'Prenatal ultrasound phenotype', 'MRI phenotype', 'Cardiac phenotype',\n",
       "       'Family history', 'Source', 'PMID', 'title'],\n",
       "      dtype='object')"
      ]
     },
     "execution_count": 4,
     "metadata": {},
     "output_type": "execute_result"
    }
   ],
   "source": [
    "df.columns"
   ]
  },
  {
   "cell_type": "code",
   "execution_count": 42,
   "id": "a4f79774-3d85-4316-b474-503440bb2273",
   "metadata": {},
   "outputs": [
    {
     "name": "stdout",
     "output_type": "stream",
     "text": [
      "got 96 HPOs\n"
     ]
    }
   ],
   "source": [
    "import re\n",
    "def get_all_hpo(pt):\n",
    "    if isinstance(pt, float) or \"HP\" not in pt:\n",
    "        return []\n",
    "    return re.findall( r'(HP:\\d+)', pt)\n",
    "\n",
    "\n",
    "class Patient:\n",
    "    def __init__(self, row):\n",
    "        self._pat_id = row['id']\n",
    "        pt = row['Phenotype']\n",
    "        self._omim_id = row['omim_id']\n",
    "        self._omim_label = row['omim_title']\n",
    "        self._all_hpos = get_all_hpo(pt)\n",
    "        prenat = row['Prenatal ultrasound phenotype']\n",
    "        prenat_hpo = get_all_hpo(prenat)\n",
    "        if len(prenat_hpo) > 0:\n",
    "            self._all_hpos.extend(prenat_hpo)\n",
    "        mri = row['MRI phenotype']\n",
    "        mri_hpos = get_all_hpo(mri)\n",
    "        if len(mri_hpos) > 0:\n",
    "            self._all_hpos.extend(mri_hpos)\n",
    "        self._age_dx = row['Age of diagnosis']\n",
    "        self._sex = row['Gender']\n",
    "        self._age_dth = row['Age at death'] \n",
    "        self._vars = row['Variant annotation']\n",
    "        self._pmid = row['PMID']\n",
    "        self._title = row['title']\n",
    "\n",
    "    def get_hpos(self):\n",
    "        return self._all_hpos\n",
    "        # no cardiac\n",
    "\n",
    "    def is_observed(self, hpo_id):\n",
    "        return hpo_id in self._all_hpos\n",
    "\n",
    "pat_d = dict()\n",
    "for i, row in df.iterrows():\n",
    "    pat_id = row['id']\n",
    "    pat_d[pat_id] = Patient(row)\n",
    "    \n",
    "all_hpos = set()\n",
    "for k,v in  pat_d.items():\n",
    "    all_hpos.update(v.get_hpos())\n",
    "print(f\"got {len(all_hpos)} HPOs\")\n",
    "    \n",
    "##\n",
    "\n",
    "h1 = [\"PMID\",\"title\",\"individual_id\",\"disease_id\",\"disease_label\",\"HGNC_id\",\"gene_symbol\",\"transcript\",\n",
    "      \"allele_1\",\"allele_2\",\"variant.comment\",\"age_of_onset\",\"age_at_last_encounter\",\"deceased\",\"sex\",\"HPO\"]\n",
    "h2 = [\"CURIE\",\"str\",\"str\",\"optional\",\"CURIE\",\"str\",\"CURIE\",\"str\",\"str\",\"str\",\"str\",\"optional\",\"age\",\"age\",\"yes/no/na\",\"M:F:O:U\",\"na\"]\n",
    "\n"
   ]
  },
  {
   "cell_type": "code",
   "execution_count": 43,
   "id": "40afa4a6-7cd2-4110-bd61-4cdd9ca4ff51",
   "metadata": {},
   "outputs": [
    {
     "name": "stdout",
     "output_type": "stream",
     "text": [
      "could not find  HP:0002648\n"
     ]
    }
   ],
   "source": [
    "parser = HpoParser(hpo_json_file=\"../hp.json\")\n",
    "hpo_cr = parser.get_hpo_concept_recognizer()\n",
    "hpo_list = list(all_hpos)\n",
    "hpo_label_list = list()\n",
    "for hpo_id in hpo_list:\n",
    "    try:\n",
    "        term = hpo_cr.get_term_from_id(hpo_id)\n",
    "        hpo_label_list.append(term.label)\n",
    "    except Exception:\n",
    "        hpo_label_list.append(\"?\")\n",
    "        print(\"could not find \", hpo_id)"
   ]
  },
  {
   "cell_type": "code",
   "execution_count": 48,
   "id": "b77d6d2a-05bb-42ed-a973-ef1cd9353c40",
   "metadata": {},
   "outputs": [],
   "source": [
    "h1.extend(hpo_list)\n",
    "h2.extend(hpo_label_list)\n",
    "fh = open(\"SCO2.tsv\", \"wt\")\n",
    "mini_h1 = [\"PMID\",\"title\",\"individual_id\",\"disease_id\",\"disease_label\",\"agedx\", \"sex\", \"death\", \"vars\"]\n",
    "mini_h2 = [\"PMID\",\"title\",\"individual_id\",\"disease_id\",\"disease_label\",\"agedx\",\"sex\",  \"death\", \"vars\"]\n",
    "fh.write(\"\\t\".join(mini_h1) + \"\\t\" + \"\\t\".join(hpo_list)+ \"\\n\")\n",
    "fh.write(\"\\t\".join(mini_h1) + \"\\t\" + \"\\t\".join(hpo_label_list)+ \"\\n\")\n",
    "for k,v in pat_d.items():\n",
    "    items = [v._pmid,v._title,v._pat_id,v._omim_id, v._omim_label, str(v._age_dx),str(v._sex), str(v._age_dth) ,str(v._vars) ]\n",
    "    for hpo_id in hpo_list:\n",
    "        if v.is_observed(hpo_id):\n",
    "            items.append(\"observed\")\n",
    "        else:\n",
    "            items.append(\"na\")\n",
    "    items = [str(x) for x in items]\n",
    "    fh.write(\"\\t\".join(items) + \"\\n\")\n",
    "fh.close()"
   ]
  },
  {
   "cell_type": "code",
   "execution_count": null,
   "id": "0e5d597d-3ea8-47e9-82a2-0546a2a28175",
   "metadata": {},
   "outputs": [],
   "source": []
  },
  {
   "cell_type": "code",
   "execution_count": null,
   "id": "fd42c4df-bd4f-49eb-8aa4-4ba4dc7bc095",
   "metadata": {},
   "outputs": [],
   "source": []
  }
 ],
 "metadata": {
  "kernelspec": {
   "display_name": "Python 3 (ipykernel)",
   "language": "python",
   "name": "python3"
  },
  "language_info": {
   "codemirror_mode": {
    "name": "ipython",
    "version": 3
   },
   "file_extension": ".py",
   "mimetype": "text/x-python",
   "name": "python",
   "nbconvert_exporter": "python",
   "pygments_lexer": "ipython3",
   "version": "3.8.10"
  }
 },
 "nbformat": 4,
 "nbformat_minor": 5
}
