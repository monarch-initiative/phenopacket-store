{
 "cells": [
  {
   "cell_type": "markdown",
   "id": "452e55c4",
   "metadata": {},
   "source": [
    "<h1>Mutation pattern and genotype-phenotype correlations of SETD2 in neurodevelopmental disorders</h1>\n",
    "<p>Generate phenopackets from the data reported in <a href=\"https://pubmed.ncbi.nlm.nih.gov/33766796/\">Chen et al., (2021)</a>.</p>\n",
    "<p>The authors report: To analyze the correlations between SETD2 mutations and corresponding phenotypes, we systematically review the reported individuals with de novo SETD2 variants, classify the pathogenicity, and analyze the detailed phenotypes. We subsequently manually curate 17 SETD2 de novo variants in 17 individuals from published literature. Individuals with de novo SETD2 variants present common phenotypes including speech and motor delay, intellectual disability, macrocephaly, ASD, overgrowth and recurrent otitis media. </p>"
   ]
  },
  {
   "cell_type": "code",
   "execution_count": 1,
   "id": "3c1f6f7e",
   "metadata": {},
   "outputs": [
    {
     "name": "stdout",
     "output_type": "stream",
     "text": [
      "Using pyphetools version 0.9.76\n"
     ]
    }
   ],
   "source": [
    "import pandas as pd\n",
    "from IPython.display import HTML, display\n",
    "pd.set_option('display.max_colwidth', None) # show entire column contents, important!\n",
    "from collections import defaultdict\n",
    "from pyphetools.creation import *\n",
    "from pyphetools.visualization import PhenopacketTable, QcVisualizer\n",
    "from pyphetools.validation import *\n",
    "import pyphetools\n",
    "print(f\"Using pyphetools version {pyphetools.__version__}\")"
   ]
  },
  {
   "cell_type": "code",
   "execution_count": 2,
   "id": "588c29dc",
   "metadata": {},
   "outputs": [
    {
     "name": "stdout",
     "output_type": "stream",
     "text": [
      "HPO version 2024-04-03\n"
     ]
    }
   ],
   "source": [
    "PMID = \"PMID:33766796\"  # Chen et al, 2021\n",
    "title = \"Mutation pattern and genotype-phenotype correlations of SETD2 in neurodevelopmental disorders\"\n",
    "cite = Citation(pmid=PMID, title=title)\n",
    "parser = HpoParser(hpo_json_file=\"../hp.json\")\n",
    "hpo_cr = parser.get_hpo_concept_recognizer()\n",
    "hpo_version = parser.get_version()\n",
    "hpo_ontology = parser.get_ontology()\n",
    "metadata = MetaData(created_by=\"ORCID:0000-0002-0736-9199\", citation=cite)\n",
    "metadata.default_versions_with_hpo(version=hpo_version)\n",
    "print(f\"HPO version {hpo_version}\")"
   ]
  },
  {
   "cell_type": "code",
   "execution_count": 3,
   "id": "e43b7fa2",
   "metadata": {},
   "outputs": [
    {
     "data": {
      "text/html": [
       "<div>\n",
       "<style scoped>\n",
       "    .dataframe tbody tr th:only-of-type {\n",
       "        vertical-align: middle;\n",
       "    }\n",
       "\n",
       "    .dataframe tbody tr th {\n",
       "        vertical-align: top;\n",
       "    }\n",
       "\n",
       "    .dataframe thead th {\n",
       "        text-align: right;\n",
       "    }\n",
       "</style>\n",
       "<table border=\"1\" class=\"dataframe\">\n",
       "  <thead>\n",
       "    <tr style=\"text-align: right;\">\n",
       "      <th></th>\n",
       "      <th>Patient</th>\n",
       "      <th>1</th>\n",
       "      <th>2</th>\n",
       "      <th>3</th>\n",
       "      <th>4</th>\n",
       "      <th>5</th>\n",
       "      <th>8</th>\n",
       "      <th>9</th>\n",
       "      <th>10</th>\n",
       "      <th>11</th>\n",
       "      <th>12</th>\n",
       "      <th>14</th>\n",
       "      <th>16</th>\n",
       "      <th>17</th>\n",
       "      <th>19</th>\n",
       "    </tr>\n",
       "  </thead>\n",
       "  <tbody>\n",
       "    <tr>\n",
       "      <th>0</th>\n",
       "      <td>Sex</td>\n",
       "      <td>female</td>\n",
       "      <td>male</td>\n",
       "      <td>female</td>\n",
       "      <td>male</td>\n",
       "      <td>male</td>\n",
       "      <td>male</td>\n",
       "      <td>female</td>\n",
       "      <td>male</td>\n",
       "      <td>male</td>\n",
       "      <td>male</td>\n",
       "      <td>male</td>\n",
       "      <td>male</td>\n",
       "      <td>female</td>\n",
       "      <td>male</td>\n",
       "    </tr>\n",
       "    <tr>\n",
       "      <th>1</th>\n",
       "      <td>Weight.age.measured</td>\n",
       "      <td>nan</td>\n",
       "      <td>+10.28SD</td>\n",
       "      <td>+3SD</td>\n",
       "      <td>nan</td>\n",
       "      <td>1.14SD</td>\n",
       "      <td>-2SD</td>\n",
       "      <td>nan</td>\n",
       "      <td>0.2SD</td>\n",
       "      <td>+1.79SD</td>\n",
       "      <td>4SD</td>\n",
       "      <td>–</td>\n",
       "      <td>+1.5SD</td>\n",
       "      <td>+0.96SD</td>\n",
       "      <td>nan</td>\n",
       "    </tr>\n",
       "    <tr>\n",
       "      <th>2</th>\n",
       "      <td>Height.age.measured</td>\n",
       "      <td>+0.5SD</td>\n",
       "      <td>+3.14SD</td>\n",
       "      <td>nan</td>\n",
       "      <td>+3SD</td>\n",
       "      <td>+0.25SD</td>\n",
       "      <td>+2SD</td>\n",
       "      <td>nan</td>\n",
       "      <td>+2.5SD</td>\n",
       "      <td>1.14SD</td>\n",
       "      <td>2.8SD</td>\n",
       "      <td>0.61SD</td>\n",
       "      <td>+2.5SD</td>\n",
       "      <td>+1.79SD</td>\n",
       "      <td>+0.53SD</td>\n",
       "    </tr>\n",
       "    <tr>\n",
       "      <th>3</th>\n",
       "      <td>Speech delay</td>\n",
       "      <td>+</td>\n",
       "      <td>+</td>\n",
       "      <td>nan</td>\n",
       "      <td>+</td>\n",
       "      <td>+</td>\n",
       "      <td>+</td>\n",
       "      <td>+</td>\n",
       "      <td>+</td>\n",
       "      <td>nan</td>\n",
       "      <td>+</td>\n",
       "      <td>+</td>\n",
       "      <td>+</td>\n",
       "      <td>+</td>\n",
       "      <td>–</td>\n",
       "    </tr>\n",
       "    <tr>\n",
       "      <th>4</th>\n",
       "      <td>Motor delay</td>\n",
       "      <td>+</td>\n",
       "      <td>+</td>\n",
       "      <td>+</td>\n",
       "      <td>+</td>\n",
       "      <td>–</td>\n",
       "      <td>–</td>\n",
       "      <td>+</td>\n",
       "      <td>+</td>\n",
       "      <td>–</td>\n",
       "      <td>nan</td>\n",
       "      <td>+</td>\n",
       "      <td>+</td>\n",
       "      <td>–</td>\n",
       "      <td>nan</td>\n",
       "    </tr>\n",
       "  </tbody>\n",
       "</table>\n",
       "</div>"
      ],
      "text/plain": [
       "               Patient       1         2       3     4        5     8       9  \\\n",
       "0                  Sex  female      male  female  male     male  male  female   \n",
       "1  Weight.age.measured     nan  +10.28SD    +3SD   nan   1.14SD  -2SD     nan   \n",
       "2  Height.age.measured  +0.5SD   +3.14SD     nan  +3SD  +0.25SD  +2SD     nan   \n",
       "3         Speech delay       +         +     nan     +        +     +       +   \n",
       "4          Motor delay       +         +       +     +        –     –       +   \n",
       "\n",
       "       10       11     12      14      16       17       19  \n",
       "0    male     male   male    male    male   female     male  \n",
       "1   0.2SD  +1.79SD    4SD       –  +1.5SD  +0.96SD      nan  \n",
       "2  +2.5SD   1.14SD  2.8SD  0.61SD  +2.5SD  +1.79SD  +0.53SD  \n",
       "3       +      nan      +       +       +        +        –  \n",
       "4       +        –    nan       +       +        –      nan  "
      ]
     },
     "execution_count": 3,
     "metadata": {},
     "output_type": "execute_result"
    }
   ],
   "source": [
    "df = pd.read_table('./input/chen21_setd2.tsv', sep=\"\\t\").astype(str)\n",
    "df.head()"
   ]
  },
  {
   "cell_type": "code",
   "execution_count": 4,
   "id": "7b4fc0c5",
   "metadata": {},
   "outputs": [
    {
     "data": {
      "text/html": [
       "<div>\n",
       "<style scoped>\n",
       "    .dataframe tbody tr th:only-of-type {\n",
       "        vertical-align: middle;\n",
       "    }\n",
       "\n",
       "    .dataframe tbody tr th {\n",
       "        vertical-align: top;\n",
       "    }\n",
       "\n",
       "    .dataframe thead th {\n",
       "        text-align: right;\n",
       "    }\n",
       "</style>\n",
       "<table border=\"1\" class=\"dataframe\">\n",
       "  <thead>\n",
       "    <tr style=\"text-align: right;\">\n",
       "      <th>Patient</th>\n",
       "      <th>Sex</th>\n",
       "      <th>Weight.age.measured</th>\n",
       "      <th>Height.age.measured</th>\n",
       "      <th>Speech delay</th>\n",
       "      <th>Motor delay</th>\n",
       "      <th>Intellectual disability</th>\n",
       "      <th>Macrocephaly</th>\n",
       "      <th>ASD</th>\n",
       "      <th>Recurrent otitis media</th>\n",
       "      <th>Seizure</th>\n",
       "      <th>...</th>\n",
       "      <th>Accelerated osseous maturation</th>\n",
       "      <th>Anxiety</th>\n",
       "      <th>ADHD</th>\n",
       "      <th>Obsessive behavior</th>\n",
       "      <th>Aggressive behavior</th>\n",
       "      <th>Self-injury behavior</th>\n",
       "      <th>Gastrointestinal disturbance</th>\n",
       "      <th>Variant</th>\n",
       "      <th>primary_dx</th>\n",
       "      <th>individual_id</th>\n",
       "    </tr>\n",
       "  </thead>\n",
       "  <tbody>\n",
       "    <tr>\n",
       "      <th>1</th>\n",
       "      <td>female</td>\n",
       "      <td>nan</td>\n",
       "      <td>+0.5SD</td>\n",
       "      <td>+</td>\n",
       "      <td>+</td>\n",
       "      <td>nan</td>\n",
       "      <td>+</td>\n",
       "      <td>–</td>\n",
       "      <td>+</td>\n",
       "      <td>nan</td>\n",
       "      <td>...</td>\n",
       "      <td>+</td>\n",
       "      <td>nan</td>\n",
       "      <td>nan</td>\n",
       "      <td>nan</td>\n",
       "      <td>+</td>\n",
       "      <td>+</td>\n",
       "      <td>nan</td>\n",
       "      <td>c.6775del</td>\n",
       "      <td>LLS</td>\n",
       "      <td>1</td>\n",
       "    </tr>\n",
       "    <tr>\n",
       "      <th>2</th>\n",
       "      <td>male</td>\n",
       "      <td>+10.28SD</td>\n",
       "      <td>+3.14SD</td>\n",
       "      <td>+</td>\n",
       "      <td>+</td>\n",
       "      <td>+</td>\n",
       "      <td>+</td>\n",
       "      <td>+</td>\n",
       "      <td>nan</td>\n",
       "      <td>–</td>\n",
       "      <td>...</td>\n",
       "      <td>nan</td>\n",
       "      <td>nan</td>\n",
       "      <td>nan</td>\n",
       "      <td>+</td>\n",
       "      <td>+</td>\n",
       "      <td>nan</td>\n",
       "      <td>nan</td>\n",
       "      <td>c.6471T&gt;A</td>\n",
       "      <td>ASD, ID</td>\n",
       "      <td>2</td>\n",
       "    </tr>\n",
       "    <tr>\n",
       "      <th>3</th>\n",
       "      <td>female</td>\n",
       "      <td>+3SD</td>\n",
       "      <td>nan</td>\n",
       "      <td>nan</td>\n",
       "      <td>+</td>\n",
       "      <td>nan</td>\n",
       "      <td>+</td>\n",
       "      <td>+</td>\n",
       "      <td>+</td>\n",
       "      <td>+</td>\n",
       "      <td>...</td>\n",
       "      <td>nan</td>\n",
       "      <td>nan</td>\n",
       "      <td>nan</td>\n",
       "      <td>nan</td>\n",
       "      <td>nan</td>\n",
       "      <td>nan</td>\n",
       "      <td>+</td>\n",
       "      <td>c.6341del</td>\n",
       "      <td>ASD</td>\n",
       "      <td>3</td>\n",
       "    </tr>\n",
       "    <tr>\n",
       "      <th>4</th>\n",
       "      <td>male</td>\n",
       "      <td>nan</td>\n",
       "      <td>+3SD</td>\n",
       "      <td>+</td>\n",
       "      <td>+</td>\n",
       "      <td>+</td>\n",
       "      <td>+</td>\n",
       "      <td>–</td>\n",
       "      <td>nan</td>\n",
       "      <td>nan</td>\n",
       "      <td>...</td>\n",
       "      <td>+</td>\n",
       "      <td>nan</td>\n",
       "      <td>nan</td>\n",
       "      <td>nan</td>\n",
       "      <td>nan</td>\n",
       "      <td>nan</td>\n",
       "      <td>nan</td>\n",
       "      <td>c.5285_5286del</td>\n",
       "      <td>Sotos</td>\n",
       "      <td>4</td>\n",
       "    </tr>\n",
       "    <tr>\n",
       "      <th>5</th>\n",
       "      <td>male</td>\n",
       "      <td>1.14SD</td>\n",
       "      <td>+0.25SD</td>\n",
       "      <td>+</td>\n",
       "      <td>–</td>\n",
       "      <td>+</td>\n",
       "      <td>–</td>\n",
       "      <td>+</td>\n",
       "      <td>nan</td>\n",
       "      <td>–</td>\n",
       "      <td>...</td>\n",
       "      <td>nan</td>\n",
       "      <td>-</td>\n",
       "      <td>+</td>\n",
       "      <td>+</td>\n",
       "      <td>+</td>\n",
       "      <td>-</td>\n",
       "      <td>-</td>\n",
       "      <td>c.4715+1G&gt;A</td>\n",
       "      <td>ASD</td>\n",
       "      <td>5</td>\n",
       "    </tr>\n",
       "  </tbody>\n",
       "</table>\n",
       "<p>5 rows × 22 columns</p>\n",
       "</div>"
      ],
      "text/plain": [
       "Patient     Sex Weight.age.measured Height.age.measured Speech delay  \\\n",
       "1        female                 nan              +0.5SD            +   \n",
       "2          male            +10.28SD             +3.14SD            +   \n",
       "3        female                +3SD                 nan          nan   \n",
       "4          male                 nan                +3SD            +   \n",
       "5          male              1.14SD             +0.25SD            +   \n",
       "\n",
       "Patient Motor delay Intellectual disability Macrocephaly ASD  \\\n",
       "1                 +                     nan            +   –   \n",
       "2                 +                       +            +   +   \n",
       "3                 +                     nan            +   +   \n",
       "4                 +                       +            +   –   \n",
       "5                 –                       +            –   +   \n",
       "\n",
       "Patient Recurrent otitis media Seizure  ... Accelerated osseous maturation  \\\n",
       "1                            +     nan  ...                              +   \n",
       "2                          nan       –  ...                            nan   \n",
       "3                            +       +  ...                            nan   \n",
       "4                          nan     nan  ...                              +   \n",
       "5                          nan       –  ...                            nan   \n",
       "\n",
       "Patient Anxiety ADHD Obsessive behavior Aggressive behavior  \\\n",
       "1           nan  nan                nan                   +   \n",
       "2           nan  nan                  +                   +   \n",
       "3           nan  nan                nan                 nan   \n",
       "4           nan  nan                nan                 nan   \n",
       "5             -    +                  +                   +   \n",
       "\n",
       "Patient Self-injury behavior Gastrointestinal disturbance         Variant  \\\n",
       "1                          +                          nan       c.6775del   \n",
       "2                        nan                          nan       c.6471T>A   \n",
       "3                        nan                            +       c.6341del   \n",
       "4                        nan                          nan  c.5285_5286del   \n",
       "5                          -                            -     c.4715+1G>A   \n",
       "\n",
       "Patient primary_dx individual_id  \n",
       "1              LLS             1  \n",
       "2          ASD, ID             2  \n",
       "3              ASD             3  \n",
       "4            Sotos             4  \n",
       "5              ASD             5  \n",
       "\n",
       "[5 rows x 22 columns]"
      ]
     },
     "execution_count": 4,
     "metadata": {},
     "output_type": "execute_result"
    }
   ],
   "source": [
    "dft = df.transpose()\n",
    "dft.columns = dft.iloc[0]\n",
    "dft.drop(dft.index[0], inplace=True)\n",
    "dft['individual_id'] = dft.index\n",
    "dft.head()"
   ]
  },
  {
   "cell_type": "code",
   "execution_count": 5,
   "id": "8f93e9ae",
   "metadata": {},
   "outputs": [
    {
     "name": "stdout",
     "output_type": "stream",
     "text": [
      "We created 15 simple column mappers\n"
     ]
    }
   ],
   "source": [
    "items = {\n",
    "    'Speech delay': [\"Delayed speech and language development\", \"HP:0000750\"],\n",
    "    'Motor delay': ['Motor delay', 'HP:0001270'],\n",
    "    'Intellectual disability': ['Intellectual disability', 'HP:0001249'],\n",
    "    'Macrocephaly': ['Macrocephaly', 'HP:0000256'],\n",
    "    'ASD': ['Autism', 'HP:0000717'],\n",
    "    'Recurrent otitis media': ['Recurrent otitis media','HP:0000403'],\n",
    "    'Seizure': ['Seizure', 'HP:0001250'],\n",
    "    'Facial deformity': ['Abnormal facial shape', 'HP:0001999'],\n",
    "    'Hypotonia': ['Hypotonia', 'HP:0001252'],\n",
    "    'Accelerated osseous maturation': ['Accelerated skeletal maturation','HP:0005616'],\n",
    "    'Anxiety': ['Anxiety','HP:0000739'],\n",
    "    'ADHD': ['Attention deficit hyperactivity disorder','HP:0007018'],\n",
    "    'Obsessive behavior': ['Compulsive behaviors','HP:0000722'],\n",
    "    'Aggressive behavior': ['Aggressive behavior','HP:0000718'],\n",
    "    'Self-injury behavior': ['Self-injurious behavior','HP:0100716'],\n",
    "}\n",
    "column_mapper_d = hpo_cr.initialize_simple_column_maps(column_name_to_hpo_label_map=items, observed='+',\n",
    "    excluded='-')\n",
    "column_mapper_list = list(column_mapper_d.values())\n",
    "print(f\"We created {len(column_mapper_list)} simple column mappers\")"
   ]
  },
  {
   "cell_type": "markdown",
   "id": "30de9379",
   "metadata": {},
   "source": [
    "<h2>Transcript/Variant mapping</h2>"
   ]
  },
  {
   "cell_type": "code",
   "execution_count": 6,
   "id": "dfc10f61-d0be-4283-87ca-2e2d4db8a1d6",
   "metadata": {},
   "outputs": [],
   "source": [
    "setd2_transcript = \"NM_014159.7\"\n",
    "setd2_id = \"HGNC:18420\"\n",
    "setd2_symbol = \"SETD2\"\n",
    "vman = VariantManager(df=dft, individual_column_name=\"individual_id\", allele_1_column_name=\"Variant\",\n",
    "                     gene_id=setd2_id, gene_symbol=setd2_symbol, transcript=setd2_transcript)"
   ]
  },
  {
   "cell_type": "code",
   "execution_count": 7,
   "id": "1a2d2a2c-36bc-479c-bfdd-94ba1230413d",
   "metadata": {},
   "outputs": [
    {
     "data": {
      "text/html": [
       "<div>\n",
       "<style scoped>\n",
       "    .dataframe tbody tr th:only-of-type {\n",
       "        vertical-align: middle;\n",
       "    }\n",
       "\n",
       "    .dataframe tbody tr th {\n",
       "        vertical-align: top;\n",
       "    }\n",
       "\n",
       "    .dataframe thead th {\n",
       "        text-align: right;\n",
       "    }\n",
       "</style>\n",
       "<table border=\"1\" class=\"dataframe\">\n",
       "  <thead>\n",
       "    <tr style=\"text-align: right;\">\n",
       "      <th></th>\n",
       "      <th>status</th>\n",
       "      <th>count</th>\n",
       "      <th>alleles</th>\n",
       "    </tr>\n",
       "  </thead>\n",
       "  <tbody>\n",
       "    <tr>\n",
       "      <th>0</th>\n",
       "      <td>mapped</td>\n",
       "      <td>14</td>\n",
       "      <td>c.5444T&gt;G, c.4404dupA, c.4715+1G&gt;A, c.5285_5286del, c.6895G&gt;A, c.3185C&gt;T, c.4644_4646del, c.6775del, c.6341del, c.6471T&gt;A, c.4997A&gt;G, c.121A&gt;T, c.1647_1667delinsAC, c.2028del</td>\n",
       "    </tr>\n",
       "    <tr>\n",
       "      <th>1</th>\n",
       "      <td>unmapped</td>\n",
       "      <td>0</td>\n",
       "      <td></td>\n",
       "    </tr>\n",
       "  </tbody>\n",
       "</table>\n",
       "</div>"
      ],
      "text/plain": [
       "     status  count  \\\n",
       "0    mapped     14   \n",
       "1  unmapped      0   \n",
       "\n",
       "                                                                                                                                                                          alleles  \n",
       "0  c.5444T>G, c.4404dupA, c.4715+1G>A, c.5285_5286del, c.6895G>A, c.3185C>T, c.4644_4646del, c.6775del, c.6341del, c.6471T>A, c.4997A>G, c.121A>T, c.1647_1667delinsAC, c.2028del  \n",
       "1                                                                                                                                                                                  "
      ]
     },
     "execution_count": 7,
     "metadata": {},
     "output_type": "execute_result"
    }
   ],
   "source": [
    "vman.to_summary()"
   ]
  },
  {
   "cell_type": "code",
   "execution_count": 8,
   "id": "41893df9",
   "metadata": {},
   "outputs": [
    {
     "name": "stdout",
     "output_type": "stream",
     "text": [
      "We get 14 unique variants\n"
     ]
    }
   ],
   "source": [
    "variant_d = vman.get_variant_d()\n",
    "print(f\"We get {len(variant_d)} unique variants\")"
   ]
  },
  {
   "cell_type": "code",
   "execution_count": 9,
   "id": "f68cd2bd-c6b3-4b14-83d2-d411ab738587",
   "metadata": {},
   "outputs": [],
   "source": [
    "varMapper = VariantColumnMapper(variant_d=variant_d,\n",
    "                                variant_column_name='Variant',\n",
    "                                default_genotype=\"heterozygous\")"
   ]
  },
  {
   "cell_type": "code",
   "execution_count": 10,
   "id": "c8be0fe0",
   "metadata": {},
   "outputs": [],
   "source": [
    "sexMapper = SexColumnMapper(male_symbol='male', female_symbol='female', column_name='Sex')\n",
    "#sexMapper.preview_column(dft)"
   ]
  },
  {
   "cell_type": "markdown",
   "id": "0a67e465-3526-4f16-8d2f-b91ce422bb67",
   "metadata": {},
   "source": [
    "<h2>SETD2</h2>\n",
    "<p>Variants in SETD2 are associated with three diseases in OMIM</p>\n",
    "<ul>\n",
    "    <li>Intellectual developmental disorder, autosomal dominant 70 \t(OMIM:620157)</li>\n",
    "     <li>Luscan-Lumish syndrome \t(OMIM:616831)</li>\n",
    "     <li>Rabin-Pappas syndrome \t(OMIM:620155)</li>\n",
    "</ul>"
   ]
  },
  {
   "cell_type": "markdown",
   "id": "278b8a73-ae48-444e-a6d5-6bbb7567dc80",
   "metadata": {},
   "source": [
    "## Diagnosis\n",
    "\n",
    "Mutation in SETD2 is associated with three diseases in OMIM:\n",
    "\n",
    "- autosomal dominant intellectual developmental disorder-70 (MRD70), characterized by  is characterized by mild global developmental delay, moderately impaired intellectual disability with speech difficulties, and behavioral abnormalities. \n",
    "- Luscan-Lumish syndrome (LLS), which is characterized by macrocephaly, intellectual disability, speech delay, low sociability, and behavioral problems. More variable features include postnatal overgrowth, obesity, advanced carpal ossification, developmental delay, and seizures\n",
    "- Rabin-Pappas syndrome (RAPAS) is a multisystemic disorder characterized by severely impaired global development apparent from infancy, feeding difficulties with failure to thrive, small head circumference, and dysmorphic facial features. Affected individuals have impaired intellectual development and hypotonia; they do not achieve walking or meaningful speech. Other neurologic findings may include seizures, hearing loss, ophthalmologic defects, and brain imaging abnormalities. \n",
    "\n",
    "In the publication by Chen et al., individuals are described with features similar to Sotos syndrome. There is no OMIM code for this. We will code this as Luscan-Lumish syndrome since in the original publication (PMID:24852293) about the disease that came to be known as Luscan-Lumish syndrome individuals were described as having Sotos like features. Similarly, we will code the individuals in the Chen et al., publication described as predominantly having autism spectrum disorder-like features as MRD70.\n",
    "\n"
   ]
  },
  {
   "cell_type": "code",
   "execution_count": 11,
   "id": "551bb98e-b8b9-471d-97a7-0995bb541bdb",
   "metadata": {},
   "outputs": [],
   "source": [
    "disease_d = {}\n",
    "LLS = Disease(disease_id='OMIM:616831', disease_label='Luscan-Lumish syndrome')\n",
    "\n",
    "disease_d['LLS'] = LLS\n",
    "MRD70 = Disease(disease_id='OMIM:620157', disease_label='Intellectual developmental disorder, autosomal dominant 70')\n",
    "disease_d['ID'] = MRD70\n",
    "disease_d['ASD, ID'] = MRD70\n",
    "# No OMIM/Mondo ID available\n",
    "disease_d['Sotos'] = LLS\n",
    "disease_d['ASD']= MRD70\n",
    "disease_map = {}\n",
    "for _, row in dft[['individual_id','primary_dx']].iterrows():\n",
    "    id = row['individual_id']\n",
    "    dx = row['primary_dx']\n",
    "    disease_map[id] = disease_d.get(dx)"
   ]
  },
  {
   "cell_type": "code",
   "execution_count": 12,
   "id": "1088a9ab-7d51-4330-ada1-deb41e8e0e9d",
   "metadata": {},
   "outputs": [],
   "source": [
    "encoder = CohortEncoder(df=dft,\n",
    "                        hpo_cr=hpo_cr,\n",
    "                        column_mapper_list=column_mapper_list,\n",
    "                        individual_column_name=\"individual_id\",\n",
    "                        sexmapper=sexMapper,\n",
    "                        variant_mapper=varMapper,\n",
    "                        metadata=metadata)\n",
    "encoder.set_disease_dictionary(disease_map)"
   ]
  },
  {
   "cell_type": "code",
   "execution_count": 13,
   "id": "0323ac4d",
   "metadata": {},
   "outputs": [
    {
     "data": {
      "text/html": [
       "<h2>Cohort validation</h2>\n",
       "<p>Errors found with 14 of 14 phenopackets.</p>\n",
       "<table style=\"border: 2px solid black; align: \"left\">\n",
       "<caption>Error counts</caption>\n",
       "<tr><th style=\"text-align: left;font-weight: bold;\">Level</th><th style=\"text-align: left;font-weight: bold;\">Error category</th><th style=\"text-align: left;font-weight: bold;\">Count</th></tr>\n",
       "<tr><td style=\"text-align: left;\">INFORMATION</td><td style=\"text-align: left;\">NOT_MEASURED</td><td style=\"text-align: left;\">126</td></tr>\n",
       "</table>\n",
       "<p>A total of 126 issues were fixed and no individual was removed from the cohort.</p>"
      ],
      "text/plain": [
       "<IPython.core.display.HTML object>"
      ]
     },
     "metadata": {},
     "output_type": "display_data"
    }
   ],
   "source": [
    "individuals = encoder.get_individuals()\n",
    "cvalidator = CohortValidator(cohort=individuals, ontology=hpo_ontology, min_hpo=1, allelic_requirement=AllelicRequirement.MONO_ALLELIC)\n",
    "qc = QcVisualizer(cvalidator)\n",
    "display(HTML(qc.to_summary_html()))"
   ]
  },
  {
   "cell_type": "code",
   "execution_count": 14,
   "id": "3faefa93-d40d-418d-9060-464c73f32ad7",
   "metadata": {},
   "outputs": [
    {
     "data": {
      "text/html": [
       "<table style=\"border: 2px solid black; align: \"left\">\n",
       "<caption>14 phenopackets - PMID:33766796 (n=14)</caption>\n",
       "<tr><th style=\"text-align: left;font-weight: bold;\">Individual</th><th style=\"text-align: left;font-weight: bold;\">Disease</th><th style=\"text-align: left;font-weight: bold;\">Genotype</th><th style=\"text-align: left;font-weight: bold;\">Phenotypic features</th></tr>\n",
       "<tr><td style=\"text-align: left;\">1 (FEMALE; n/a)</td><td style=\"text-align: left;\">Luscan-Lumish syndrome (OMIM:616831)</td><td style=\"text-align: left;\">NM_014159.7:c.6775del (heterozygous)</td><td style=\"text-align: left;\">Delayed speech and language development (HP:0000750); Motor delay (HP:0001270); Macrocephaly (HP:0000256); Recurrent otitis media (HP:0000403); Abnormal facial shape (HP:0001999); Accelerated skeletal maturation (HP:0005616); Aggressive behavior (HP:0000718); Self-injurious behavior (HP:0100716)</td></tr>\n",
       "<tr><td style=\"text-align: left;\">2 (MALE; n/a)</td><td style=\"text-align: left;\">Intellectual developmental disorder, autosomal dominant 70 (OMIM:620157)</td><td style=\"text-align: left;\">NM_014159.7:c.6471T>A (heterozygous)</td><td style=\"text-align: left;\">Delayed speech and language development (HP:0000750); Motor delay (HP:0001270); Intellectual disability (HP:0001249); Macrocephaly (HP:0000256); Autism (HP:0000717); Abnormal facial shape (HP:0001999); Compulsive behaviors (HP:0000722); Aggressive behavior (HP:0000718)</td></tr>\n",
       "<tr><td style=\"text-align: left;\">3 (FEMALE; n/a)</td><td style=\"text-align: left;\">Intellectual developmental disorder, autosomal dominant 70 (OMIM:620157)</td><td style=\"text-align: left;\">NM_014159.7:c.6341del (heterozygous)</td><td style=\"text-align: left;\">Motor delay (HP:0001270); Macrocephaly (HP:0000256); Autism (HP:0000717); Recurrent otitis media (HP:0000403); Seizure (HP:0001250); Hypotonia (HP:0001252)</td></tr>\n",
       "<tr><td style=\"text-align: left;\">4 (MALE; n/a)</td><td style=\"text-align: left;\">Luscan-Lumish syndrome (OMIM:616831)</td><td style=\"text-align: left;\">NM_014159.7:c.5285_5286del (heterozygous)</td><td style=\"text-align: left;\">Delayed speech and language development (HP:0000750); Motor delay (HP:0001270); Intellectual disability (HP:0001249); Macrocephaly (HP:0000256); Abnormal facial shape (HP:0001999); Hypotonia (HP:0001252); Accelerated skeletal maturation (HP:0005616)</td></tr>\n",
       "<tr><td style=\"text-align: left;\">5 (MALE; n/a)</td><td style=\"text-align: left;\">Intellectual developmental disorder, autosomal dominant 70 (OMIM:620157)</td><td style=\"text-align: left;\">NM_014159.7:c.4715+1G>A (heterozygous)</td><td style=\"text-align: left;\">Delayed speech and language development (HP:0000750); Intellectual disability (HP:0001249); Autism (HP:0000717); Attention deficit hyperactivity disorder (HP:0007018); Compulsive behaviors (HP:0000722); Aggressive behavior (HP:0000718); excluded: Anxiety (HP:0000739); excluded: Self-injurious behavior (HP:0100716)</td></tr>\n",
       "<tr><td style=\"text-align: left;\">8 (MALE; n/a)</td><td style=\"text-align: left;\">Intellectual developmental disorder, autosomal dominant 70 (OMIM:620157)</td><td style=\"text-align: left;\">NM_014159.7:c.4405dup (heterozygous)</td><td style=\"text-align: left;\">Delayed speech and language development (HP:0000750); Intellectual disability (HP:0001249); Macrocephaly (HP:0000256); Abnormal facial shape (HP:0001999)</td></tr>\n",
       "<tr><td style=\"text-align: left;\">9 (FEMALE; n/a)</td><td style=\"text-align: left;\">Intellectual developmental disorder, autosomal dominant 70 (OMIM:620157)</td><td style=\"text-align: left;\">NM_014159.7:c.2028del (heterozygous)</td><td style=\"text-align: left;\">Delayed speech and language development (HP:0000750); Motor delay (HP:0001270); Intellectual disability (HP:0001249); Macrocephaly (HP:0000256); Autism (HP:0000717); Seizure (HP:0001250); Hypotonia (HP:0001252); Anxiety (HP:0000739); Attention deficit hyperactivity disorder (HP:0007018)</td></tr>\n",
       "<tr><td style=\"text-align: left;\">10 (MALE; n/a)</td><td style=\"text-align: left;\">Luscan-Lumish syndrome (OMIM:616831)</td><td style=\"text-align: left;\">NM_014159.7:c.1647_1667delinsAC (heterozygous)</td><td style=\"text-align: left;\">Delayed speech and language development (HP:0000750); Motor delay (HP:0001270); Macrocephaly (HP:0000256); Recurrent otitis media (HP:0000403); Abnormal facial shape (HP:0001999); Aggressive behavior (HP:0000718)</td></tr>\n",
       "<tr><td style=\"text-align: left;\">11 (MALE; n/a)</td><td style=\"text-align: left;\">Intellectual developmental disorder, autosomal dominant 70 (OMIM:620157)</td><td style=\"text-align: left;\">NM_014159.7:c.6895G>A (heterozygous)</td><td style=\"text-align: left;\">Intellectual disability (HP:0001249); Autism (HP:0000717); Recurrent otitis media (HP:0000403); Anxiety (HP:0000739)</td></tr>\n",
       "<tr><td style=\"text-align: left;\">12 (MALE; n/a)</td><td style=\"text-align: left;\">Luscan-Lumish syndrome (OMIM:616831)</td><td style=\"text-align: left;\">NM_014159.7:c.5444T>G (heterozygous)</td><td style=\"text-align: left;\">Delayed speech and language development (HP:0000750); Macrocephaly (HP:0000256); Abnormal facial shape (HP:0001999); Accelerated skeletal maturation (HP:0005616)</td></tr>\n",
       "<tr><td style=\"text-align: left;\">14 (MALE; n/a)</td><td style=\"text-align: left;\">Intellectual developmental disorder, autosomal dominant 70 (OMIM:620157)</td><td style=\"text-align: left;\">NM_014159.7:c.4997A>G (heterozygous)</td><td style=\"text-align: left;\">Delayed speech and language development (HP:0000750); Motor delay (HP:0001270); Intellectual disability (HP:0001249); Autism (HP:0000717); Abnormal facial shape (HP:0001999)</td></tr>\n",
       "<tr><td style=\"text-align: left;\">16 (MALE; n/a)</td><td style=\"text-align: left;\">Intellectual developmental disorder, autosomal dominant 70 (OMIM:620157)</td><td style=\"text-align: left;\">NM_014159.7:c.4644_4646del (heterozygous)</td><td style=\"text-align: left;\">Delayed speech and language development (HP:0000750); Motor delay (HP:0001270); Macrocephaly (HP:0000256); Abnormal facial shape (HP:0001999); Accelerated skeletal maturation (HP:0005616); Aggressive behavior (HP:0000718)</td></tr>\n",
       "<tr><td style=\"text-align: left;\">17 (FEMALE; n/a)</td><td style=\"text-align: left;\">Intellectual developmental disorder, autosomal dominant 70 (OMIM:620157)</td><td style=\"text-align: left;\">NM_014159.7:c.3185C>T (heterozygous)</td><td style=\"text-align: left;\">Delayed speech and language development (HP:0000750); Autism (HP:0000717); Attention deficit hyperactivity disorder (HP:0007018); excluded: Seizure (HP:0001250); excluded: Compulsive behaviors (HP:0000722); excluded: Self-injurious behavior (HP:0100716)</td></tr>\n",
       "<tr><td style=\"text-align: left;\">19 (MALE; n/a)</td><td style=\"text-align: left;\">Intellectual developmental disorder, autosomal dominant 70 (OMIM:620157)</td><td style=\"text-align: left;\">NM_014159.7:c.121A>T (heterozygous)</td><td style=\"text-align: left;\">Macrocephaly (HP:0000256); Autism (HP:0000717); Recurrent otitis media (HP:0000403)</td></tr>\n",
       "</table>"
      ],
      "text/plain": [
       "<IPython.core.display.HTML object>"
      ]
     },
     "metadata": {},
     "output_type": "display_data"
    }
   ],
   "source": [
    "individuals = cvalidator.get_error_free_individual_list()\n",
    "table = PhenopacketTable(individual_list=individuals, metadata=metadata)\n",
    "display(HTML(table.to_html()))"
   ]
  },
  {
   "cell_type": "code",
   "execution_count": 15,
   "id": "5c4403b7",
   "metadata": {},
   "outputs": [
    {
     "name": "stdout",
     "output_type": "stream",
     "text": [
      "We output 14 GA4GH phenopackets to the directory phenopackets\n"
     ]
    }
   ],
   "source": [
    "output_directory = \"phenopackets\"\n",
    "Individual.output_individuals_as_phenopackets(individual_list=individuals,\n",
    "                                              metadata=metadata,\n",
    "                                              outdir=output_directory)"
   ]
  },
  {
   "cell_type": "code",
   "execution_count": 16,
   "id": "e97e8f13",
   "metadata": {},
   "outputs": [],
   "source": [
    "# pxf validate --hpo hp.json *.json\n",
    "# No errrors"
   ]
  }
 ],
 "metadata": {
  "kernelspec": {
   "display_name": "Python 3 (ipykernel)",
   "language": "python",
   "name": "python3"
  },
  "language_info": {
   "codemirror_mode": {
    "name": "ipython",
    "version": 3
   },
   "file_extension": ".py",
   "mimetype": "text/x-python",
   "name": "python",
   "nbconvert_exporter": "python",
   "pygments_lexer": "ipython3",
   "version": "3.8.10"
  }
 },
 "nbformat": 4,
 "nbformat_minor": 5
}
