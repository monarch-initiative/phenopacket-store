{
 "cells": [
  {
   "cell_type": "markdown",
   "metadata": {},
   "source": [
    "# SETD2 Rabin-Pappas syndrome"
   ]
  },
  {
   "cell_type": "code",
   "execution_count": 1,
   "metadata": {},
   "outputs": [
    {
     "name": "stdout",
     "output_type": "stream",
     "text": [
      "Using pyphetools version 0.9.113\n"
     ]
    }
   ],
   "source": [
    "from pyphetools.creation import TemplateImporter, Moi\n",
    "from pyphetools.visualization import IndividualTable, QcVisualizer\n",
    "from IPython.display import display, HTML\n",
    "import pyphetools\n",
    "print(f\"Using pyphetools version {pyphetools.__version__}\")"
   ]
  },
  {
   "cell_type": "code",
   "execution_count": 2,
   "metadata": {},
   "outputs": [
    {
     "name": "stdout",
     "output_type": "stream",
     "text": [
      "HPO version 2024-08-13\n",
      "Created encoders for 182 fields\n",
      "ERROR: Error: Did not recognize heaeder fields: - \"HP:0001249\" -- \"Intellectual disability\"\n",
      "ERROR: Error: Did not recognize heaeder fields: - \"HP:0000729\" -- \"Autism spectrum disorder\"\n",
      "Importing OMIM:620155, Rabin-Pappas syndrome, HGNC:18420, SETD2,  NM_014159.7\n",
      "We output 14 GA4GH phenopackets to the directory phenopackets\n"
     ]
    }
   ],
   "source": [
    "template = \"input/SETD2_RAPAS_individuals.xlsx\"\n",
    "created_by = \"0000-0002-0736-9199\"\n",
    "timporter = TemplateImporter(template=template,  created_by=created_by)\n",
    "individual_list, cvalidator = timporter.import_phenopackets_from_template()"
   ]
  },
  {
   "cell_type": "code",
   "execution_count": 3,
   "metadata": {},
   "outputs": [
    {
     "data": {
      "text/html": [
       "<h2>Cohort validation</h2>\n",
       "<p>Errors found with 12 of 14 phenopackets.</p>\n",
       "<table style=\"border: 2px solid black; align: \"left\">\n",
       "<caption>Error counts</caption>\n",
       "<tr><th style=\"text-align: left;font-weight: bold;\">Level</th><th style=\"text-align: left;font-weight: bold;\">Error category</th><th style=\"text-align: left;font-weight: bold;\">Count</th></tr>\n",
       "<tr><td style=\"text-align: left;\">ERROR</td><td style=\"text-align: left;\">CONFLICT</td><td style=\"text-align: left;\">2</td></tr>\n",
       "<tr><td style=\"text-align: left;\">WARNING</td><td style=\"text-align: left;\">REDUNDANT</td><td style=\"text-align: left;\">36</td></tr>\n",
       "</table>\n",
       "<p>A total of 38 issues were fixed and no individual was removed from the cohort.</p>"
      ],
      "text/plain": [
       "<IPython.core.display.HTML object>"
      ]
     },
     "metadata": {},
     "output_type": "display_data"
    }
   ],
   "source": [
    "qc = QcVisualizer(cohort_validator=cvalidator)\n",
    "display(HTML(qc.to_summary_html()))"
   ]
  },
  {
   "cell_type": "code",
   "execution_count": 4,
   "metadata": {},
   "outputs": [
    {
     "data": {
      "text/html": [
       "<table style=\"border: 2px solid black; align: \"left\">\n",
       "<caption>14 phenopackets - PMID:32710489 (n=12); PMID:37372360 (n=2)</caption>\n",
       "<tr><th style=\"text-align: left;font-weight: bold;\">Individual</th><th style=\"text-align: left;font-weight: bold;\">Disease</th><th style=\"text-align: left;font-weight: bold;\">Genotype</th><th style=\"text-align: left;font-weight: bold;\">Phenotypic features</th></tr>\n",
       "<tr><td style=\"text-align: left;\">Group 1 Patient 1 (MALE; P1Y4M)</td><td style=\"text-align: left;\">Rabin-Pappas syndrome (OMIM:620155)</td><td style=\"text-align: left;\">NM_014159.7:c.5218C>T (heterozygous)</td><td style=\"text-align: left;\">Caesarian section (HP:0011410): onset ; Severe global developmental delay (HP:0011344): onset ; Delayed ability to walk (HP:0031936): onset ; Delayed ability to sit (HP:0025336): onset ; Delayed speech and language development (HP:0000750): onset ; Large fontanelles (HP:0000239): onset ; Upslanted palpebral fissure (HP:0000582): onset ; Narrow palpebral fissure (HP:0045025): onset ; Highly arched eyebrow (HP:0002553): onset ; Hypertelorism (HP:0000316): onset ; Micrognathia (HP:0000347): onset ; Coarctation of aorta (HP:0001680): onset ; Ventricular septal defect (HP:0001629): onset ; Atrial septal defect (HP:0001631): onset ; Patent ductus arteriosus (HP:0001643): onset ; Bradycardia (HP:0001662): onset ; Respiratory distress (HP:0002098): onset ; Intestinal malrotation (HP:0002566): onset ; Tube feeding (HP:0033454): onset ; Renal malrotation (HP:0004712): onset ; Cryptorchidism (HP:0000028): onset ; Shawl scrotum (HP:0000049): onset ; Hypotonia (HP:0001252): onset ; Scoliosis (HP:0002650): onset ; Hypoplasia of the pons (HP:0012110): onset ; Dysplastic corpus callosum (HP:0006989): onset ; Enlarged cisterna magna (HP:0002280): onset ; Low-set ears (HP:0000369): onset ; Auricular pit (HP:0030025): onset ; Camptodactyly (HP:0012385): onset ; Brachydactyly (HP:0001156): onset ; Single transverse palmar crease (HP:0000954): onset ; 2-3 toe syndactyly (HP:0004691): onset ; Ptosis (HP:0000508): onset ; Optic nerve hypoplasia (HP:0000609): onset ; Retinal detachment (HP:0000541): onset ; excluded: Polyhydramnios (HP:0001561): onset ; excluded: Premature birth (HP:0001622): onset ; excluded: Large for gestational age (HP:0001520): onset ; excluded: Tall stature (HP:0000098): onset ; excluded: Short stature (HP:0004322): onset ; excluded: Obesity (HP:0001513): onset ; excluded: Macrocephaly (HP:0000256): onset ; excluded: Bifid uvula (HP:0000193): onset ; excluded: Pierre-Robin sequence (HP:0000201): onset ; excluded: Cleft palate (HP:0000175): onset ; excluded: Pulmonic stenosis (HP:0001642): onset ; excluded: Pulmonary artery stenosis (HP:0004415): onset ; excluded: Tetralogy of Fallot (HP:0001636): onset ; excluded: Pulmonary artery hypoplasia (HP:0004971): onset ; excluded: Quadricuspid aortic valve (HP:0031655): onset ; excluded: Patent foramen ovale (HP:0001655): onset ; excluded: Persistent left superior vena cava (HP:0005301): onset ; excluded: Double outlet right ventricle (HP:0001719): onset ; excluded: Gastroesophageal reflux (HP:0002020): onset ; excluded: Multicystic kidney dysplasia (HP:0000003): onset ; excluded: Stage 5 chronic kidney disease (HP:0003774): onset ; excluded: Inguinal hernia (HP:0000023): onset ; excluded: Micropenis (HP:0000054): onset ; excluded: Penoscrotal transposition (HP:0100600): onset ; excluded: Anteriorly placed anus (HP:0001545): onset ; excluded: Talipes equinovarus (HP:0001762): onset ; excluded: Simplified gyral pattern (HP:0009879): onset ; excluded: Microcephaly (HP:0000252): onset ; excluded: Delayed CNS myelination (HP:0002188): onset ; excluded: Hypothalamic hamartoma (HP:0002444): onset ; excluded: Dandy-Walker malformation (HP:0001305): onset ; excluded: Posteriorly rotated ears (HP:0000358): onset ; excluded: Macrotia (HP:0000400): onset ; excluded: Preauricular skin tag (HP:0000384): onset ; excluded: Attached earlobe (HP:0009907): onset ; excluded: Stenosis of the external auditory canal (HP:0000402): onset ; excluded: Rocker bottom foot (HP:0001838): onset ; excluded: Broad thumb (HP:0011304): onset ; excluded: Broad hallux (HP:0010055): onset ; excluded: Finger clinodactyly (HP:0040019): onset ; excluded: Triphalangeal thumb (HP:0001199): onset <br/><b>TimeElement(element=OntologyClass(id=HP:0003577, label=Congenital onset))</b>: Hip dysplasia (HP:0001385): onset ontology_class {\n",
       "  id: \"HP:0003577\"\n",
       "  label: \"Congenital onset\"\n",
       "}\n",
       "<br/><b>TimeElement(element=OntologyClass(id=HP:0003593, label=Infantile onset))</b>: Mixed hearing impairment (HP:0000410): onset ontology_class {\n",
       "  id: \"HP:0003593\"\n",
       "  label: \"Infantile onset\"\n",
       "}\n",
       "; Hyponatremia (HP:0002902): onset ontology_class {\n",
       "  id: \"HP:0003593\"\n",
       "  label: \"Infantile onset\"\n",
       "}\n",
       "; Inappropriate antidiuretic hormone secretion (HP:0031218): onset ontology_class {\n",
       "  id: \"HP:0003593\"\n",
       "  label: \"Infantile onset\"\n",
       "}\n",
       "<br/><b>TimeElement(element=Age(iso8601duration=P5M))</b>: Seizure (HP:0001250): onset age {\n",
       "  iso8601duration: \"P5M\"\n",
       "}\n",
       "</td></tr>\n",
       "<tr><td style=\"text-align: left;\">Group 1 Patient 2 (MALE; P10Y)</td><td style=\"text-align: left;\">Rabin-Pappas syndrome (OMIM:620155)</td><td style=\"text-align: left;\">NM_014159.7:c.5218C>T (heterozygous)</td><td style=\"text-align: left;\"><b>TimeElement(element=OntologyClass(id=HP:0034197, label=Third trimester onset))</b>: Polyhydramnios (HP:0001561): onset ontology_class {\n",
       "  id: \"HP:0034197\"\n",
       "  label: \"Third trimester onset\"\n",
       "}\n",
       "<br/>Severe global developmental delay (HP:0011344): onset ; Delayed ability to walk (HP:0031936): onset ; Delayed ability to sit (HP:0025336): onset ; Delayed speech and language development (HP:0000750): onset ; Midface retrusion (HP:0011800): onset ; Wide nasal bridge (HP:0000431): onset ; Broad nasal tip (HP:0000455): onset ; Low hanging columella (HP:0009765): onset ; Narrow palpebral fissure (HP:0045025): onset ; Periorbital fullness (HP:0000629): onset ; Highly arched eyebrow (HP:0002553): onset ; Hypertelorism (HP:0000316): onset ; Cleft palate (HP:0000175): onset ; Micrognathia (HP:0000347): onset ; Mixed hearing impairment (HP:0000410): onset ; Apnea (HP:0002104): onset ; Tracheomalacia (HP:0002779): onset ; Gastroesophageal reflux (HP:0002020): onset ; Constipation (HP:0002019): onset ; Tube feeding (HP:0033454): onset ; Hydronephrosis (HP:0000126): onset ; Cryptorchidism (HP:0000028): onset ; Penoscrotal transposition (HP:0100600): onset ; Hip dysplasia (HP:0001385): onset ; Spastic paraplegia (HP:0001258): onset ; Scoliosis (HP:0002650): onset ; Simplified gyral pattern (HP:0009879): onset ; Cerebellar hypoplasia (HP:0001321): onset ; Dysplastic corpus callosum (HP:0006989): onset ; Microcephaly (HP:0000252): onset ; Enlarged cisterna magna (HP:0002280): onset ; Single transverse palmar crease (HP:0000954): onset ; Triphalangeal thumb (HP:0001199): onset ; Optic nerve hypoplasia (HP:0000609): onset ; Cataract (HP:0000518): onset ; excluded: Premature birth (HP:0001622): onset ; excluded: Caesarian section (HP:0011410): onset ; excluded: Large for gestational age (HP:0001520): onset ; excluded: Tall stature (HP:0000098): onset ; excluded: Short stature (HP:0004322): onset ; excluded: Obesity (HP:0001513): onset ; excluded: Macrocephaly (HP:0000256): onset ; excluded: Bifid uvula (HP:0000193): onset ; excluded: Pierre-Robin sequence (HP:0000201): onset ; excluded: Hyponatremia (HP:0002902): onset ; excluded: Coarctation of aorta (HP:0001680): onset ; excluded: Pulmonic stenosis (HP:0001642): onset ; excluded: Pulmonary artery stenosis (HP:0004415): onset ; excluded: Tetralogy of Fallot (HP:0001636): onset ; excluded: Pulmonary artery hypoplasia (HP:0004971): onset ; excluded: Quadricuspid aortic valve (HP:0031655): onset ; excluded: Ventricular septal defect (HP:0001629): onset ; excluded: Patent ductus arteriosus (HP:0001643): onset ; excluded: Patent foramen ovale (HP:0001655): onset ; excluded: Persistent left superior vena cava (HP:0005301): onset ; excluded: Double outlet right ventricle (HP:0001719): onset ; excluded: Renal malrotation (HP:0004712): onset ; excluded: Stage 5 chronic kidney disease (HP:0003774): onset ; excluded: Inguinal hernia (HP:0000023): onset ; excluded: Micropenis (HP:0000054): onset ; excluded: Anteriorly placed anus (HP:0001545): onset ; excluded: Talipes equinovarus (HP:0001762): onset ; excluded: Delayed CNS myelination (HP:0002188): onset ; excluded: Hypothalamic hamartoma (HP:0002444): onset ; excluded: Dandy-Walker malformation (HP:0001305): onset ; excluded: Posteriorly rotated ears (HP:0000358): onset ; excluded: Macrotia (HP:0000400): onset ; excluded: Low-set ears (HP:0000369): onset ; excluded: Preauricular skin tag (HP:0000384): onset ; excluded: Auricular pit (HP:0030025): onset ; excluded: Attached earlobe (HP:0009907): onset ; excluded: Stenosis of the external auditory canal (HP:0000402): onset ; excluded: Rocker bottom foot (HP:0001838): onset ; excluded: Camptodactyly (HP:0012385): onset ; excluded: Brachydactyly (HP:0001156): onset ; excluded: Broad thumb (HP:0011304): onset ; excluded: Broad hallux (HP:0010055): onset ; excluded: 2-3 toe syndactyly (HP:0004691): onset ; excluded: Finger clinodactyly (HP:0040019): onset <br/><b>TimeElement(element=Age(iso8601duration=P4M))</b>: Seizure (HP:0001250): onset age {\n",
       "  iso8601duration: \"P4M\"\n",
       "}\n",
       "</td></tr>\n",
       "<tr><td style=\"text-align: left;\">Group 1 Patient 3 (MALE; P1M)</td><td style=\"text-align: left;\">Rabin-Pappas syndrome (OMIM:620155)</td><td style=\"text-align: left;\">NM_014159.7:c.5218C>T (heterozygous)</td><td style=\"text-align: left;\"><b>TimeElement(element=OntologyClass(id=HP:0034197, label=Third trimester onset))</b>: Ventriculomegaly (HP:0002119): onset ontology_class {\n",
       "  id: \"HP:0034197\"\n",
       "  label: \"Third trimester onset\"\n",
       "}\n",
       "<br/>Caesarian section (HP:0011410): onset ; Hypertelorism (HP:0000316): onset ; Cleft palate (HP:0000175): onset ; Micrognathia (HP:0000347): onset ; Hyponatremia (HP:0002902): onset ; Pulmonary artery hypoplasia (HP:0004971): onset ; Ventricular septal defect (HP:0001629): onset ; Respiratory distress (HP:0002098): onset ; Hypoventilation (HP:0002791): onset ; Tracheomalacia (HP:0002779): onset ; Cryptorchidism (HP:0000028): onset ; Shawl scrotum (HP:0000049): onset ; EEG abnormality (HP:0002353): onset ; Hypoplasia of the pons (HP:0012110): onset ; Thin corpus callosum (HP:0033725): onset ; Rocker bottom foot (HP:0001838): onset ; excluded: Polyhydramnios (HP:0001561): onset ; excluded: Premature birth (HP:0001622): onset ; excluded: Large for gestational age (HP:0001520): onset ; excluded: Macrocephaly (HP:0000256): onset ; excluded: Bifid uvula (HP:0000193): onset ; excluded: Pierre-Robin sequence (HP:0000201): onset ; excluded: Mixed hearing impairment (HP:0000410): onset ; excluded: Coarctation of aorta (HP:0001680): onset ; excluded: Pulmonic stenosis (HP:0001642): onset ; excluded: Pulmonary artery stenosis (HP:0004415): onset ; excluded: Tetralogy of Fallot (HP:0001636): onset ; excluded: Quadricuspid aortic valve (HP:0031655): onset ; excluded: Patent ductus arteriosus (HP:0001643): onset ; excluded: Patent foramen ovale (HP:0001655): onset ; excluded: Persistent left superior vena cava (HP:0005301): onset ; excluded: Double outlet right ventricle (HP:0001719): onset ; excluded: Gastroesophageal reflux (HP:0002020): onset ; excluded: Stage 5 chronic kidney disease (HP:0003774): onset ; excluded: Inguinal hernia (HP:0000023): onset ; excluded: Micropenis (HP:0000054): onset ; excluded: Penoscrotal transposition (HP:0100600): onset ; excluded: Anteriorly placed anus (HP:0001545): onset ; excluded: Talipes equinovarus (HP:0001762): onset ; excluded: Seizure (HP:0001250): onset ; excluded: Simplified gyral pattern (HP:0009879): onset ; excluded: Posteriorly rotated ears (HP:0000358): onset ; excluded: Macrotia (HP:0000400): onset ; excluded: Low-set ears (HP:0000369): onset ; excluded: Preauricular skin tag (HP:0000384): onset ; excluded: Auricular pit (HP:0030025): onset ; excluded: Attached earlobe (HP:0009907): onset ; excluded: Stenosis of the external auditory canal (HP:0000402): onset ; excluded: Broad thumb (HP:0011304): onset ; excluded: Broad hallux (HP:0010055): onset ; excluded: Single transverse palmar crease (HP:0000954): onset ; excluded: 2-3 toe syndactyly (HP:0004691): onset ; excluded: Finger clinodactyly (HP:0040019): onset ; excluded: Triphalangeal thumb (HP:0001199): onset ; excluded: Cataract (HP:0000518): onset ; excluded: Retinal detachment (HP:0000541): onset </td></tr>\n",
       "<tr><td style=\"text-align: left;\">Group 1 Patient 4 (FEMALE; P3M)</td><td style=\"text-align: left;\">Rabin-Pappas syndrome (OMIM:620155)</td><td style=\"text-align: left;\">NM_014159.7:c.5218C>T (heterozygous)</td><td style=\"text-align: left;\">Short stature (HP:0004322): onset ; Frontal bossing (HP:0002007): onset ; Midface retrusion (HP:0011800): onset ; Wide nasal bridge (HP:0000431): onset ; Broad nasal tip (HP:0000455): onset ; Low hanging columella (HP:0009765): onset ; Upslanted palpebral fissure (HP:0000582): onset ; Narrow palpebral fissure (HP:0045025): onset ; Periorbital fullness (HP:0000629): onset ; Highly arched eyebrow (HP:0002553): onset ; Hypertelorism (HP:0000316): onset ; Pierre-Robin sequence (HP:0000201): onset ; Micrognathia (HP:0000347): onset ; Hyponatremia (HP:0002902): onset ; Inappropriate antidiuretic hormone secretion (HP:0031218): onset ; Tetralogy of Fallot (HP:0001636): onset ; Aspiration pneumonia (HP:0011951): onset ; Tube feeding (HP:0033454): onset ; Multicystic kidney dysplasia (HP:0000003): onset ; Sacral dimple (HP:0000960): onset ; Narrow chest (HP:0000774): onset ; Poor suck (HP:0002033): onset ; Dandy-Walker malformation (HP:0001305): onset ; Posteriorly rotated ears (HP:0000358): onset ; Low-set ears (HP:0000369): onset ; Camptodactyly (HP:0012385): onset ; Iris coloboma (HP:0000612): onset ; Retinal detachment (HP:0000541): onset ; excluded: Polyhydramnios (HP:0001561): onset ; excluded: Premature birth (HP:0001622): onset ; excluded: Caesarian section (HP:0011410): onset ; excluded: Large for gestational age (HP:0001520): onset ; excluded: Tall stature (HP:0000098): onset ; excluded: Obesity (HP:0001513): onset ; excluded: Macrocephaly (HP:0000256): onset ; excluded: Bifid uvula (HP:0000193): onset ; excluded: Cleft palate (HP:0000175): onset ; excluded: Mixed hearing impairment (HP:0000410): onset ; excluded: Coarctation of aorta (HP:0001680): onset ; excluded: Pulmonic stenosis (HP:0001642): onset ; excluded: Pulmonary artery stenosis (HP:0004415): onset ; excluded: Pulmonary artery hypoplasia (HP:0004971): onset ; excluded: Quadricuspid aortic valve (HP:0031655): onset ; excluded: Ventricular septal defect (HP:0001629): onset ; excluded: Patent ductus arteriosus (HP:0001643): onset ; excluded: Patent foramen ovale (HP:0001655): onset ; excluded: Persistent left superior vena cava (HP:0005301): onset ; excluded: Double outlet right ventricle (HP:0001719): onset ; excluded: Gastroesophageal reflux (HP:0002020): onset ; excluded: Renal malrotation (HP:0004712): onset ; excluded: Stage 5 chronic kidney disease (HP:0003774): onset ; excluded: Anteriorly placed anus (HP:0001545): onset ; excluded: Talipes equinovarus (HP:0001762): onset ; excluded: Tethered cord (HP:0002144): onset ; excluded: Seizure (HP:0001250): onset ; excluded: Hypothalamic hamartoma (HP:0002444): onset ; excluded: Macrotia (HP:0000400): onset ; excluded: Preauricular skin tag (HP:0000384): onset ; excluded: Auricular pit (HP:0030025): onset ; excluded: Attached earlobe (HP:0009907): onset ; excluded: Stenosis of the external auditory canal (HP:0000402): onset ; excluded: Rocker bottom foot (HP:0001838): onset ; excluded: Brachydactyly (HP:0001156): onset ; excluded: Broad thumb (HP:0011304): onset ; excluded: Broad hallux (HP:0010055): onset ; excluded: Single transverse palmar crease (HP:0000954): onset ; excluded: 2-3 toe syndactyly (HP:0004691): onset ; excluded: Finger clinodactyly (HP:0040019): onset ; excluded: Triphalangeal thumb (HP:0001199): onset ; excluded: Glaucoma (HP:0000501): onset ; excluded: Cataract (HP:0000518): onset </td></tr>\n",
       "<tr><td style=\"text-align: left;\">Group 1 Patient 5 (FEMALE; P3Y6M)</td><td style=\"text-align: left;\">Rabin-Pappas syndrome (OMIM:620155)</td><td style=\"text-align: left;\">NM_014159.7:c.5218C>T (heterozygous)</td><td style=\"text-align: left;\"><b>TimeElement(element=OntologyClass(id=HP:0034197, label=Third trimester onset))</b>: Ventriculomegaly (HP:0002119): onset ontology_class {\n",
       "  id: \"HP:0034197\"\n",
       "  label: \"Third trimester onset\"\n",
       "}\n",
       "<br/>Premature birth (HP:0001622): onset ; Severe global developmental delay (HP:0011344): onset ; Delayed ability to walk (HP:0031936): onset ; Delayed ability to sit (HP:0025336): onset ; Delayed speech and language development (HP:0000750): onset ; Midface retrusion (HP:0011800): onset ; Wide nasal bridge (HP:0000431): onset ; Broad nasal tip (HP:0000455): onset ; Low hanging columella (HP:0009765): onset ; Narrow palpebral fissure (HP:0045025): onset ; Periorbital fullness (HP:0000629): onset ; Highly arched eyebrow (HP:0002553): onset ; Hypertelorism (HP:0000316): onset ; Bifid uvula (HP:0000193): onset ; Cleft palate (HP:0000175): onset ; Micrognathia (HP:0000347): onset ; Conductive hearing impairment (HP:0000405): onset ; Tube feeding (HP:0033454): onset ; Osteopenia (HP:0000938): onset ; Dislocated radial head (HP:0003083): onset ; Hypotonia (HP:0001252): onset ; Scoliosis (HP:0002650): onset ; Seizure (HP:0001250): onset ; Cerebellar hypoplasia (HP:0001321): onset ; Thin corpus callosum (HP:0033725): onset ; Enlarged cisterna magna (HP:0002280): onset ; Reduced cerebral white matter volume (HP:0034295): onset ; Hippocampal malrotation (HP:0034396): onset ; Macrotia (HP:0000400): onset ; Auricular pit (HP:0030025): onset ; Stenosis of the external auditory canal (HP:0000402): onset ; Broad thumb (HP:0011304): onset ; Single transverse palmar crease (HP:0000954): onset ; Short foot (HP:0001773): onset ; Small nail (HP:0001792): onset ; Short distal phalanx of finger (HP:0009882): onset ; Cataract (HP:0000518): onset ; excluded: Polyhydramnios (HP:0001561): onset ; excluded: Caesarian section (HP:0011410): onset ; excluded: Large for gestational age (HP:0001520): onset ; excluded: Tall stature (HP:0000098): onset ; excluded: Short stature (HP:0004322): onset ; excluded: Obesity (HP:0001513): onset ; excluded: Macrocephaly (HP:0000256): onset ; excluded: Pierre-Robin sequence (HP:0000201): onset ; excluded: Persistent left superior vena cava (HP:0005301): onset ; excluded: Double outlet right ventricle (HP:0001719): onset ; excluded: Gastroesophageal reflux (HP:0002020): onset ; excluded: Stage 5 chronic kidney disease (HP:0003774): onset ; excluded: Anteriorly placed anus (HP:0001545): onset ; excluded: Accelerated skeletal maturation (HP:0005616): onset ; excluded: Talipes equinovarus (HP:0001762): onset ; excluded: Simplified gyral pattern (HP:0009879): onset ; excluded: Delayed CNS myelination (HP:0002188): onset ; excluded: Hypothalamic hamartoma (HP:0002444): onset ; excluded: Dandy-Walker malformation (HP:0001305): onset ; excluded: Posteriorly rotated ears (HP:0000358): onset ; excluded: Low-set ears (HP:0000369): onset ; excluded: Preauricular skin tag (HP:0000384): onset ; excluded: Attached earlobe (HP:0009907): onset ; excluded: Rocker bottom foot (HP:0001838): onset ; excluded: Broad hallux (HP:0010055): onset ; excluded: Broad nail (HP:0001821): onset ; excluded: Finger clinodactyly (HP:0040019): onset ; excluded: Triphalangeal thumb (HP:0001199): onset <br/><b>TimeElement(element=OntologyClass(id=HP:0003577, label=Congenital onset))</b>: Heart block (HP:0012722): onset ontology_class {\n",
       "  id: \"HP:0003577\"\n",
       "  label: \"Congenital onset\"\n",
       "}\n",
       "</td></tr>\n",
       "<tr><td style=\"text-align: left;\">Group 1 Patient 6 (FEMALE; P4Y)</td><td style=\"text-align: left;\">Rabin-Pappas syndrome (OMIM:620155)</td><td style=\"text-align: left;\">NM_014159.7:c.5218C>T (heterozygous)</td><td style=\"text-align: left;\">Premature birth (HP:0001622): onset ; Severe global developmental delay (HP:0011344): onset ; Delayed ability to walk (HP:0031936): onset ; Delayed ability to sit (HP:0025336): onset ; Delayed speech and language development (HP:0000750): onset ; Large fontanelles (HP:0000239): onset ; Midface retrusion (HP:0011800): onset ; Wide nasal bridge (HP:0000431): onset ; Broad nasal tip (HP:0000455): onset ; Low hanging columella (HP:0009765): onset ; Narrow palpebral fissure (HP:0045025): onset ; Periorbital fullness (HP:0000629): onset ; Highly arched eyebrow (HP:0002553): onset ; Hypertelorism (HP:0000316): onset ; Pierre-Robin sequence (HP:0000201): onset ; Micrognathia (HP:0000347): onset ; Mixed hearing impairment (HP:0000410): onset ; Hyponatremia (HP:0002902): onset ; Inappropriate antidiuretic hormone secretion (HP:0031218): onset ; Ventricular septal defect (HP:0001629): onset ; Patent ductus arteriosus (HP:0001643): onset ; Patent foramen ovale (HP:0001655): onset ; Central apnea (HP:0002871): onset ; Respiratory distress (HP:0002098): onset ; Restrictive ventilatory defect (HP:0002091): onset ; Tracheomalacia (HP:0002779): onset ; Gastroesophageal reflux (HP:0002020): onset ; Intestinal malrotation (HP:0002566): onset ; Tube feeding (HP:0033454): onset ; Hip subluxation (HP:0030043): onset ; Sacral dimple (HP:0000960): onset ; Tethered cord (HP:0002144): onset ; Seizure (HP:0001250): onset ; Cerebellar hypoplasia (HP:0001321): onset ; Hypoplasia of the pons (HP:0012110): onset ; Thin corpus callosum (HP:0033725): onset ; Delayed CNS myelination (HP:0002188): onset ; Enlarged cisterna magna (HP:0002280): onset ; Preauricular skin tag (HP:0000384): onset ; Broad hallux (HP:0010055): onset ; 2-3 toe syndactyly (HP:0004691): onset ; excluded: Polyhydramnios (HP:0001561): onset ; excluded: Caesarian section (HP:0011410): onset ; excluded: Large for gestational age (HP:0001520): onset ; excluded: Tall stature (HP:0000098): onset ; excluded: Short stature (HP:0004322): onset ; excluded: Obesity (HP:0001513): onset ; excluded: Macrocephaly (HP:0000256): onset ; excluded: Bifid uvula (HP:0000193): onset ; excluded: Cleft palate (HP:0000175): onset ; excluded: Pulmonary artery hypoplasia (HP:0004971): onset ; excluded: Persistent left superior vena cava (HP:0005301): onset ; excluded: Double outlet right ventricle (HP:0001719): onset ; excluded: Stage 5 chronic kidney disease (HP:0003774): onset ; excluded: Anteriorly placed anus (HP:0001545): onset ; excluded: Talipes equinovarus (HP:0001762): onset ; excluded: Hypothalamic hamartoma (HP:0002444): onset ; excluded: Dandy-Walker malformation (HP:0001305): onset ; excluded: Posteriorly rotated ears (HP:0000358): onset ; excluded: Macrotia (HP:0000400): onset ; excluded: Low-set ears (HP:0000369): onset ; excluded: Auricular pit (HP:0030025): onset ; excluded: Attached earlobe (HP:0009907): onset ; excluded: Stenosis of the external auditory canal (HP:0000402): onset ; excluded: Rocker bottom foot (HP:0001838): onset ; excluded: Broad thumb (HP:0011304): onset ; excluded: Single transverse palmar crease (HP:0000954): onset ; excluded: Finger clinodactyly (HP:0040019): onset ; excluded: Triphalangeal thumb (HP:0001199): onset </td></tr>\n",
       "<tr><td style=\"text-align: left;\">Group 1 Patient 7 (MALE; P5M14D)</td><td style=\"text-align: left;\">Rabin-Pappas syndrome (OMIM:620155)</td><td style=\"text-align: left;\">NM_014159.7:c.5218C>T (heterozygous)</td><td style=\"text-align: left;\">Premature birth (HP:0001622): onset ; Short stature (HP:0004322): onset ; Severe global developmental delay (HP:0011344): onset ; Midface retrusion (HP:0011800): onset ; Wide nasal bridge (HP:0000431): onset ; Broad nasal tip (HP:0000455): onset ; Low hanging columella (HP:0009765): onset ; Narrow palpebral fissure (HP:0045025): onset ; Periorbital fullness (HP:0000629): onset ; Highly arched eyebrow (HP:0002553): onset ; Hypertelorism (HP:0000316): onset ; Cleft palate (HP:0000175): onset ; Micrognathia (HP:0000347): onset ; Hyponatremia (HP:0002902): onset ; Quadricuspid aortic valve (HP:0031655): onset ; Persistent left superior vena cava (HP:0005301): onset ; Apnea (HP:0002104): onset ; Gastroesophageal reflux (HP:0002020): onset ; Tube feeding (HP:0033454): onset ; Renal dysplasia (HP:0000110): onset ; Inguinal hernia (HP:0000023): onset ; Micropenis (HP:0000054): onset ; Cryptorchidism (HP:0000028): onset ; Shawl scrotum (HP:0000049): onset ; Talipes equinovarus (HP:0001762): onset ; Cerebellar hypoplasia (HP:0001321): onset ; Hypoplasia of the pons (HP:0012110): onset ; Thin corpus callosum (HP:0033725): onset ; Enlarged cisterna magna (HP:0002280): onset ; Posteriorly rotated ears (HP:0000358): onset ; Low-set ears (HP:0000369): onset ; Single transverse palmar crease (HP:0000954): onset ; Retinopathy of prematurity (HP:0500049): onset ; Retinal hemorrhage (HP:0000573): onset ; excluded: Polyhydramnios (HP:0001561): onset ; excluded: Caesarian section (HP:0011410): onset ; excluded: Large for gestational age (HP:0001520): onset ; excluded: Tall stature (HP:0000098): onset ; excluded: Obesity (HP:0001513): onset ; excluded: Macrocephaly (HP:0000256): onset ; excluded: Bifid uvula (HP:0000193): onset ; excluded: Pierre-Robin sequence (HP:0000201): onset ; excluded: Coarctation of aorta (HP:0001680): onset ; excluded: Pulmonic stenosis (HP:0001642): onset ; excluded: Pulmonary artery stenosis (HP:0004415): onset ; excluded: Tetralogy of Fallot (HP:0001636): onset ; excluded: Pulmonary artery hypoplasia (HP:0004971): onset ; excluded: Ventricular septal defect (HP:0001629): onset ; excluded: Patent ductus arteriosus (HP:0001643): onset ; excluded: Patent foramen ovale (HP:0001655): onset ; excluded: Double outlet right ventricle (HP:0001719): onset ; excluded: Renal malrotation (HP:0004712): onset ; excluded: Stage 5 chronic kidney disease (HP:0003774): onset ; excluded: Penoscrotal transposition (HP:0100600): onset ; excluded: Anteriorly placed anus (HP:0001545): onset ; excluded: Seizure (HP:0001250): onset ; excluded: Dandy-Walker malformation (HP:0001305): onset ; excluded: Macrotia (HP:0000400): onset ; excluded: Preauricular skin tag (HP:0000384): onset ; excluded: Auricular pit (HP:0030025): onset ; excluded: Attached earlobe (HP:0009907): onset ; excluded: Stenosis of the external auditory canal (HP:0000402): onset ; excluded: Rocker bottom foot (HP:0001838): onset ; excluded: Finger clinodactyly (HP:0040019): onset ; excluded: Triphalangeal thumb (HP:0001199): onset <br/><b>TimeElement(element=Age(iso8601duration=P7M))</b>: Hearing impairment (HP:0000365): onset age {\n",
       "  iso8601duration: \"P7M\"\n",
       "}\n",
       "</td></tr>\n",
       "<tr><td style=\"text-align: left;\">Group 1 Patient 8 (FEMALE; P13Y)</td><td style=\"text-align: left;\">Rabin-Pappas syndrome (OMIM:620155)</td><td style=\"text-align: left;\">NM_014159.7:c.5218C>T (heterozygous)</td><td style=\"text-align: left;\">Premature birth (HP:0001622): onset ; Short stature (HP:0004322): onset ; Severe global developmental delay (HP:0011344): onset ; Delayed ability to walk (HP:0031936): onset ; Delayed ability to sit (HP:0025336): onset ; Delayed speech and language development (HP:0000750): onset ; Midface retrusion (HP:0011800): onset ; Wide nasal bridge (HP:0000431): onset ; Broad nasal tip (HP:0000455): onset ; Low hanging columella (HP:0009765): onset ; Narrow palpebral fissure (HP:0045025): onset ; Periorbital fullness (HP:0000629): onset ; Highly arched eyebrow (HP:0002553): onset ; Hypertelorism (HP:0000316): onset ; Micrognathia (HP:0000347): onset ; Mixed hearing impairment (HP:0000410): onset ; Pulmonary artery stenosis (HP:0004415): onset ; Dysphagia (HP:0002015): onset ; Tube feeding (HP:0033454): onset ; Hydroureter (HP:0000072): onset ; Generalized myoclonic seizure (HP:0002123): onset ; Generalized non-motor (absence) seizure (HP:0002121): onset ; Scoliosis (HP:0002650): onset ; Thin corpus callosum (HP:0033725): onset ; Reduced cerebral white matter volume (HP:0034295): onset ; Retinal telangiectasia (HP:0007763): onset ; Retinal detachment (HP:0000541): onset ; excluded: Polyhydramnios (HP:0001561): onset ; excluded: Caesarian section (HP:0011410): onset ; excluded: Large for gestational age (HP:0001520): onset ; excluded: Tall stature (HP:0000098): onset ; excluded: Obesity (HP:0001513): onset ; excluded: Macrocephaly (HP:0000256): onset ; excluded: Bifid uvula (HP:0000193): onset ; excluded: Pierre-Robin sequence (HP:0000201): onset ; excluded: Cleft palate (HP:0000175): onset ; excluded: Hyponatremia (HP:0002902): onset ; excluded: Coarctation of aorta (HP:0001680): onset ; excluded: Pulmonic stenosis (HP:0001642): onset ; excluded: Tetralogy of Fallot (HP:0001636): onset ; excluded: Pulmonary artery hypoplasia (HP:0004971): onset ; excluded: Quadricuspid aortic valve (HP:0031655): onset ; excluded: Ventricular septal defect (HP:0001629): onset ; excluded: Patent ductus arteriosus (HP:0001643): onset ; excluded: Patent foramen ovale (HP:0001655): onset ; excluded: Persistent left superior vena cava (HP:0005301): onset ; excluded: Double outlet right ventricle (HP:0001719): onset ; excluded: Gastroesophageal reflux (HP:0002020): onset ; excluded: Renal malrotation (HP:0004712): onset ; excluded: Stage 5 chronic kidney disease (HP:0003774): onset ; excluded: Anteriorly placed anus (HP:0001545): onset ; excluded: Accelerated skeletal maturation (HP:0005616): onset ; excluded: Talipes equinovarus (HP:0001762): onset ; excluded: Delayed CNS myelination (HP:0002188): onset ; excluded: Hypothalamic hamartoma (HP:0002444): onset ; excluded: Dandy-Walker malformation (HP:0001305): onset ; excluded: Posteriorly rotated ears (HP:0000358): onset ; excluded: Macrotia (HP:0000400): onset ; excluded: Low-set ears (HP:0000369): onset ; excluded: Preauricular skin tag (HP:0000384): onset ; excluded: Auricular pit (HP:0030025): onset ; excluded: Attached earlobe (HP:0009907): onset ; excluded: Stenosis of the external auditory canal (HP:0000402): onset ; excluded: Rocker bottom foot (HP:0001838): onset ; excluded: Finger clinodactyly (HP:0040019): onset ; excluded: Triphalangeal thumb (HP:0001199): onset </td></tr>\n",
       "<tr><td style=\"text-align: left;\">Group 1 Patient 9 (FEMALE; P7Y)</td><td style=\"text-align: left;\">Rabin-Pappas syndrome (OMIM:620155)</td><td style=\"text-align: left;\">NM_014159.7:c.5218C>T (heterozygous)</td><td style=\"text-align: left;\">Premature birth (HP:0001622): onset ; Severe global developmental delay (HP:0011344): onset ; Delayed ability to walk (HP:0031936): onset ; Delayed speech and language development (HP:0000750): onset ; Midface retrusion (HP:0011800): onset ; Wide nasal bridge (HP:0000431): onset ; Broad nasal tip (HP:0000455): onset ; Low hanging columella (HP:0009765): onset ; Periorbital fullness (HP:0000629): onset ; Highly arched eyebrow (HP:0002553): onset ; Hypertelorism (HP:0000316): onset ; Cleft palate (HP:0000175): onset ; Micrognathia (HP:0000347): onset ; Conductive hearing impairment (HP:0000405): onset ; Ventricular septal defect (HP:0001629): onset ; Double outlet right ventricle (HP:0001719): onset ; Sleep apnea (HP:0010535): onset ; Tube feeding (HP:0033454): onset ; Thin corpus callosum (HP:0033725): onset ; Delayed CNS myelination (HP:0002188): onset ; Brachydactyly (HP:0001156): onset ; Broad thumb (HP:0011304): onset ; Short foot (HP:0001773): onset ; Short toe (HP:0001831): onset ; Glaucoma (HP:0000501): onset ; Retinal dysplasia (HP:0007973): onset ; excluded: Polyhydramnios (HP:0001561): onset ; excluded: Caesarian section (HP:0011410): onset ; excluded: Large for gestational age (HP:0001520): onset ; excluded: Tall stature (HP:0000098): onset ; excluded: Short stature (HP:0004322): onset ; excluded: Obesity (HP:0001513): onset ; excluded: Macrocephaly (HP:0000256): onset ; excluded: Bifid uvula (HP:0000193): onset ; excluded: Pierre-Robin sequence (HP:0000201): onset ; excluded: Persistent left superior vena cava (HP:0005301): onset ; excluded: Gastroesophageal reflux (HP:0002020): onset ; excluded: Stage 5 chronic kidney disease (HP:0003774): onset ; excluded: Anteriorly placed anus (HP:0001545): onset ; excluded: Talipes equinovarus (HP:0001762): onset ; excluded: Seizure (HP:0001250): onset ; excluded: Hypothalamic hamartoma (HP:0002444): onset ; excluded: Dandy-Walker malformation (HP:0001305): onset ; excluded: Posteriorly rotated ears (HP:0000358): onset ; excluded: Macrotia (HP:0000400): onset ; excluded: Low-set ears (HP:0000369): onset ; excluded: Preauricular skin tag (HP:0000384): onset ; excluded: Auricular pit (HP:0030025): onset ; excluded: Attached earlobe (HP:0009907): onset ; excluded: Stenosis of the external auditory canal (HP:0000402): onset ; excluded: Rocker bottom foot (HP:0001838): onset ; excluded: Finger clinodactyly (HP:0040019): onset ; excluded: Triphalangeal thumb (HP:0001199): onset ; excluded: Long toe (HP:0010511): onset ; excluded: Iris coloboma (HP:0000612): onset <br/><b>TimeElement(element=OntologyClass(id=HP:0003593, label=Infantile onset))</b>: Hyponatremia (HP:0002902): onset ontology_class {\n",
       "  id: \"HP:0003593\"\n",
       "  label: \"Infantile onset\"\n",
       "}\n",
       "</td></tr>\n",
       "<tr><td style=\"text-align: left;\">Group 1 Patient 10 (MALE; P1M4D)</td><td style=\"text-align: left;\">Rabin-Pappas syndrome (OMIM:620155)</td><td style=\"text-align: left;\">NM_014159.7:c.5218C>T (heterozygous)</td><td style=\"text-align: left;\">Premature birth (HP:0001622): onset ; Midface retrusion (HP:0011800): onset ; Wide nasal bridge (HP:0000431): onset ; Broad nasal tip (HP:0000455): onset ; Low hanging columella (HP:0009765): onset ; Narrow palpebral fissure (HP:0045025): onset ; Periorbital fullness (HP:0000629): onset ; Highly arched eyebrow (HP:0002553): onset ; Hypertelorism (HP:0000316): onset ; Cleft palate (HP:0000175): onset ; Micrognathia (HP:0000347): onset ; Hyponatremia (HP:0002902): onset ; Pulmonic stenosis (HP:0001642): onset ; Ventricular septal defect (HP:0001629): onset ; Double outlet right ventricle (HP:0001719): onset ; Respiratory distress (HP:0002098): onset ; Feeding difficulties (HP:0011968): onset ; Polycystic kidney dysplasia (HP:0000113): onset ; Micropenis (HP:0000054): onset ; Cryptorchidism (HP:0000028): onset ; Myoclonus (HP:0001336): onset ; Cerebellar hypoplasia (HP:0001321): onset ; Enlarged cisterna magna (HP:0002280): onset ; excluded: Polyhydramnios (HP:0001561): onset ; excluded: Caesarian section (HP:0011410): onset ; excluded: Large for gestational age (HP:0001520): onset ; excluded: Bifid uvula (HP:0000193): onset ; excluded: Pierre-Robin sequence (HP:0000201): onset ; excluded: Mixed hearing impairment (HP:0000410): onset ; excluded: Coarctation of aorta (HP:0001680): onset ; excluded: Pulmonary artery stenosis (HP:0004415): onset ; excluded: Tetralogy of Fallot (HP:0001636): onset ; excluded: Pulmonary artery hypoplasia (HP:0004971): onset ; excluded: Quadricuspid aortic valve (HP:0031655): onset ; excluded: Patent ductus arteriosus (HP:0001643): onset ; excluded: Patent foramen ovale (HP:0001655): onset ; excluded: Persistent left superior vena cava (HP:0005301): onset ; excluded: Gastroesophageal reflux (HP:0002020): onset ; excluded: Tube feeding (HP:0033454): onset ; excluded: Stage 5 chronic kidney disease (HP:0003774): onset ; excluded: Penoscrotal transposition (HP:0100600): onset ; excluded: Shawl scrotum (HP:0000049): onset ; excluded: Anteriorly placed anus (HP:0001545): onset ; excluded: Talipes equinovarus (HP:0001762): onset ; excluded: Seizure (HP:0001250): onset ; excluded: Delayed CNS myelination (HP:0002188): onset ; excluded: Hypothalamic hamartoma (HP:0002444): onset ; excluded: Dandy-Walker malformation (HP:0001305): onset ; excluded: Posteriorly rotated ears (HP:0000358): onset ; excluded: Macrotia (HP:0000400): onset ; excluded: Low-set ears (HP:0000369): onset ; excluded: Preauricular skin tag (HP:0000384): onset ; excluded: Auricular pit (HP:0030025): onset ; excluded: Attached earlobe (HP:0009907): onset ; excluded: Stenosis of the external auditory canal (HP:0000402): onset ; excluded: Rocker bottom foot (HP:0001838): onset ; excluded: Finger clinodactyly (HP:0040019): onset ; excluded: Triphalangeal thumb (HP:0001199): onset </td></tr>\n",
       "<tr><td style=\"text-align: left;\">Group 1 Patient 11 (FEMALE; P7Y)</td><td style=\"text-align: left;\">Rabin-Pappas syndrome (OMIM:620155)</td><td style=\"text-align: left;\">NM_014159.7:c.5218C>T (heterozygous)</td><td style=\"text-align: left;\">Caesarian section (HP:0011410): onset ; Severe global developmental delay (HP:0011344): onset ; Delayed ability to walk (HP:0031936): onset ; Delayed ability to sit (HP:0025336): onset ; Delayed speech and language development (HP:0000750): onset ; Prominent metopic ridge (HP:0005487): onset ; Wide nasal bridge (HP:0000431): onset ; Broad nasal tip (HP:0000455): onset ; Low hanging columella (HP:0009765): onset ; Highly arched eyebrow (HP:0002553): onset ; Pierre-Robin sequence (HP:0000201): onset ; Cleft palate (HP:0000175): onset ; Micrognathia (HP:0000347): onset ; Hyponatremia (HP:0002902): onset ; Ventricular septal defect (HP:0001629): onset ; Patent ductus arteriosus (HP:0001643): onset ; Patent foramen ovale (HP:0001655): onset ; Obstructive sleep apnea (HP:0002870): onset ; Tube feeding (HP:0033454): onset ; Cystic renal dysplasia (HP:0000800): onset ; Stage 5 chronic kidney disease (HP:0003774): onset ; Cervical agenesis (HP:0030008): onset ; Hip dysplasia (HP:0001385): onset ; Thoracic dysplasia (HP:0006644): onset ; Scoliosis (HP:0002650): onset ; Hypothalamic hamartoma (HP:0002444): onset ; Dandy-Walker malformation (HP:0001305): onset ; Brachydactyly (HP:0001156): onset ; Broad nail (HP:0001821): onset ; Retinal dysplasia (HP:0007973): onset ; Retinal detachment (HP:0000541): onset ; excluded: Polyhydramnios (HP:0001561): onset ; excluded: Premature birth (HP:0001622): onset ; excluded: Large for gestational age (HP:0001520): onset ; excluded: Tall stature (HP:0000098): onset ; excluded: Short stature (HP:0004322): onset ; excluded: Obesity (HP:0001513): onset ; excluded: Macrocephaly (HP:0000256): onset ; excluded: Bifid uvula (HP:0000193): onset ; excluded: Mixed hearing impairment (HP:0000410): onset ; excluded: Coarctation of aorta (HP:0001680): onset ; excluded: Pulmonic stenosis (HP:0001642): onset ; excluded: Pulmonary artery stenosis (HP:0004415): onset ; excluded: Tetralogy of Fallot (HP:0001636): onset ; excluded: Pulmonary artery hypoplasia (HP:0004971): onset ; excluded: Quadricuspid aortic valve (HP:0031655): onset ; excluded: Persistent left superior vena cava (HP:0005301): onset ; excluded: Double outlet right ventricle (HP:0001719): onset ; excluded: Gastroesophageal reflux (HP:0002020): onset ; excluded: Anteriorly placed anus (HP:0001545): onset ; excluded: Talipes equinovarus (HP:0001762): onset ; excluded: Seizure (HP:0001250): onset ; excluded: Posteriorly rotated ears (HP:0000358): onset ; excluded: Macrotia (HP:0000400): onset ; excluded: Low-set ears (HP:0000369): onset ; excluded: Preauricular skin tag (HP:0000384): onset ; excluded: Auricular pit (HP:0030025): onset ; excluded: Attached earlobe (HP:0009907): onset ; excluded: Stenosis of the external auditory canal (HP:0000402): onset ; excluded: Rocker bottom foot (HP:0001838): onset ; excluded: Small nail (HP:0001792): onset ; excluded: Finger clinodactyly (HP:0040019): onset ; excluded: Triphalangeal thumb (HP:0001199): onset </td></tr>\n",
       "<tr><td style=\"text-align: left;\">Group 1 Patient 12 (FEMALE; P6Y)</td><td style=\"text-align: left;\">Rabin-Pappas syndrome (OMIM:620155)</td><td style=\"text-align: left;\">NM_014159.7:c.5218C>T (heterozygous)</td><td style=\"text-align: left;\">Severe global developmental delay (HP:0011344): onset ; Delayed ability to walk (HP:0031936): onset ; Delayed ability to sit (HP:0025336): onset ; Delayed speech and language development (HP:0000750): onset ; Prominent metopic ridge (HP:0005487): onset ; Midface retrusion (HP:0011800): onset ; Upslanted palpebral fissure (HP:0000582): onset ; Highly arched eyebrow (HP:0002553): onset ; Hypertelorism (HP:0000316): onset ; Cleft palate (HP:0000175): onset ; Hearing impairment (HP:0000365): onset ; Ventricular septal defect (HP:0001629): onset ; Atrial septal defect (HP:0001631): onset ; Patent ductus arteriosus (HP:0001643): onset ; Chronic cough (HP:0034315): onset ; Tube feeding (HP:0033454): onset ; Anteriorly placed anus (HP:0001545): onset ; Scoliosis (HP:0002650): onset ; Thin corpus callosum (HP:0033725): onset ; Macrotia (HP:0000400): onset ; Attached earlobe (HP:0009907): onset ; Long fingers (HP:0100807): onset ; Small hand (HP:0200055): onset ; Long toe (HP:0010511): onset ; Talipes (HP:0001883): onset ; Retinopathy (HP:0000488): onset ; Retinal detachment (HP:0000541): onset ; excluded: Polyhydramnios (HP:0001561): onset ; excluded: Premature birth (HP:0001622): onset ; excluded: Caesarian section (HP:0011410): onset ; excluded: Large for gestational age (HP:0001520): onset ; excluded: Macrocephaly (HP:0000256): onset ; excluded: Bifid uvula (HP:0000193): onset ; excluded: Pierre-Robin sequence (HP:0000201): onset ; excluded: Micrognathia (HP:0000347): onset ; excluded: Hyponatremia (HP:0002902): onset ; excluded: Coarctation of aorta (HP:0001680): onset ; excluded: Pulmonic stenosis (HP:0001642): onset ; excluded: Pulmonary artery stenosis (HP:0004415): onset ; excluded: Tetralogy of Fallot (HP:0001636): onset ; excluded: Pulmonary artery hypoplasia (HP:0004971): onset ; excluded: Quadricuspid aortic valve (HP:0031655): onset ; excluded: Patent foramen ovale (HP:0001655): onset ; excluded: Persistent left superior vena cava (HP:0005301): onset ; excluded: Double outlet right ventricle (HP:0001719): onset ; excluded: Gastroesophageal reflux (HP:0002020): onset ; excluded: Stage 5 chronic kidney disease (HP:0003774): onset ; excluded: Talipes equinovarus (HP:0001762): onset ; excluded: Seizure (HP:0001250): onset ; excluded: Posteriorly rotated ears (HP:0000358): onset ; excluded: Low-set ears (HP:0000369): onset ; excluded: Preauricular skin tag (HP:0000384): onset ; excluded: Auricular pit (HP:0030025): onset ; excluded: Stenosis of the external auditory canal (HP:0000402): onset ; excluded: Rocker bottom foot (HP:0001838): onset ; excluded: Finger clinodactyly (HP:0040019): onset ; excluded: Triphalangeal thumb (HP:0001199): onset ; excluded: Short toe (HP:0001831): onset </td></tr>\n",
       "<tr><td style=\"text-align: left;\">P13 (MALE; P15Y)</td><td style=\"text-align: left;\">Rabin-Pappas syndrome (OMIM:620155)</td><td style=\"text-align: left;\">NM_014159.7:c.3769A>T (heterozygous)</td><td style=\"text-align: left;\"><b>TimeElement(element=OntologyClass(id=HP:0011461, label=Fetal onset))</b>: Enlarged cisterna magna (HP:0002280): onset ontology_class {\n",
       "  id: \"HP:0011461\"\n",
       "  label: \"Fetal onset\"\n",
       "}\n",
       "<br/>Global developmental delay (HP:0001263): onset ; Delayed speech and language development (HP:0000750): onset ; Sleep apnea (HP:0010535): onset ; Laryngomalacia (HP:0001601): onset ; Accelerated skeletal maturation (HP:0005616): onset ; Hypotonia (HP:0001252): onset ; Seizure (HP:0001250): onset ; Microcephaly (HP:0000252): onset ; Retinal telangiectasia (HP:0007763): onset ; Abnormal heart morphology (HP:0001627): onset ; excluded: Tall stature (HP:0000098): onset ; excluded: Obesity (HP:0001513): onset ; excluded: Macrocephaly (HP:0000256): onset ; excluded: Frontal bossing (HP:0002007): onset ; excluded: Hypertelorism (HP:0000316): onset ; excluded: Scoliosis (HP:0002650): onset ; excluded: Ventriculomegaly (HP:0002119): onset ; excluded: Prominent forehead (HP:0011220): onset ; excluded: Broad forehead (HP:0000337): onset ; excluded: Astigmatism (HP:0000483): onset ; excluded: High anterior hairline (HP:0009890): onset ; excluded: Anxiety (HP:0000739): onset ; excluded: Attention deficit hyperactivity disorder (HP:0007018): onset ; excluded: Large hands (HP:0001176): onset ; excluded: Nevus (HP:0003764): onset ; excluded: Strabismus (HP:0000486): onset ; excluded: Retrognathia (HP:0000278): onset ; excluded: Abnormality of the neck (HP:0000464): onset </td></tr>\n",
       "<tr><td style=\"text-align: left;\">P18 (MALE; P15Y)</td><td style=\"text-align: left;\">Rabin-Pappas syndrome (OMIM:620155)</td><td style=\"text-align: left;\">NM_014159.7:c.1182T>A (heterozygous)</td><td style=\"text-align: left;\">Tall stature (HP:0000098): onset ; Macrocephaly (HP:0000256): onset ; Global developmental delay (HP:0001263): onset ; Sleep apnea (HP:0010535): onset ; Accelerated skeletal maturation (HP:0005616): onset ; Hypotonia (HP:0001252): onset ; Microcephaly (HP:0000252): onset ; Prominent forehead (HP:0011220): onset ; Broad forehead (HP:0000337): onset ; Retrognathia (HP:0000278): onset ; excluded: Short stature (HP:0004322): onset ; excluded: Obesity (HP:0001513): onset ; excluded: Delayed speech and language development (HP:0000750): onset ; excluded: Frontal bossing (HP:0002007): onset ; excluded: Hypertelorism (HP:0000316): onset ; excluded: Laryngomalacia (HP:0001601): onset ; excluded: Scoliosis (HP:0002650): onset ; excluded: Seizure (HP:0001250): onset ; excluded: Ventriculomegaly (HP:0002119): onset ; excluded: Enlarged cisterna magna (HP:0002280): onset ; excluded: Abnormal heart morphology (HP:0001627): onset ; excluded: Astigmatism (HP:0000483): onset ; excluded: High anterior hairline (HP:0009890): onset ; excluded: Anxiety (HP:0000739): onset ; excluded: Attention deficit hyperactivity disorder (HP:0007018): onset ; excluded: Large hands (HP:0001176): onset ; excluded: Nevus (HP:0003764): onset ; excluded: Strabismus (HP:0000486): onset ; excluded: Abnormality of the neck (HP:0000464): onset </td></tr>\n",
       "</table>"
      ],
      "text/plain": [
       "<IPython.core.display.HTML object>"
      ]
     },
     "metadata": {},
     "output_type": "display_data"
    }
   ],
   "source": [
    "table = IndividualTable(cvalidator.get_error_free_individual_list())\n",
    "display(HTML(table.to_html()))"
   ]
  },
  {
   "cell_type": "code",
   "execution_count": 5,
   "metadata": {},
   "outputs": [
    {
     "name": "stdout",
     "output_type": "stream",
     "text": [
      "[pyphetools] Ingested 17 GA4GH phenopackets.\n",
      "[INFO] Extracted 14 from 17 phenopackets with OMIM:620155\n",
      "\n",
      "\tRabin-Pappas syndrome (OMIM:620155): n=14\n",
      "We found a total of 160 unique HPO terms\n",
      "Extracted disease: Rabin-Pappas syndrome (OMIM:620155)\n",
      "Wrote HPOA disease file to OMIM-620155.tab\n"
     ]
    },
    {
     "data": {
      "text/html": [
       "<div>\n",
       "<style scoped>\n",
       "    .dataframe tbody tr th:only-of-type {\n",
       "        vertical-align: middle;\n",
       "    }\n",
       "\n",
       "    .dataframe tbody tr th {\n",
       "        vertical-align: top;\n",
       "    }\n",
       "\n",
       "    .dataframe thead th {\n",
       "        text-align: right;\n",
       "    }\n",
       "</style>\n",
       "<table border=\"1\" class=\"dataframe\">\n",
       "  <thead>\n",
       "    <tr style=\"text-align: right;\">\n",
       "      <th></th>\n",
       "      <th>#diseaseID</th>\n",
       "      <th>diseaseName</th>\n",
       "      <th>phenotypeID</th>\n",
       "      <th>phenotypeName</th>\n",
       "      <th>onsetID</th>\n",
       "      <th>onsetName</th>\n",
       "      <th>frequency</th>\n",
       "      <th>sex</th>\n",
       "      <th>negation</th>\n",
       "      <th>modifier</th>\n",
       "      <th>description</th>\n",
       "      <th>publication</th>\n",
       "      <th>evidence</th>\n",
       "      <th>biocuration</th>\n",
       "    </tr>\n",
       "  </thead>\n",
       "  <tbody>\n",
       "    <tr>\n",
       "      <th>0</th>\n",
       "      <td>OMIM:620155</td>\n",
       "      <td>Rabin-Pappas syndrome</td>\n",
       "      <td>HP:0002280</td>\n",
       "      <td>Enlarged cisterna magna</td>\n",
       "      <td></td>\n",
       "      <td></td>\n",
       "      <td>1/2</td>\n",
       "      <td></td>\n",
       "      <td></td>\n",
       "      <td></td>\n",
       "      <td></td>\n",
       "      <td>PMID:37372360</td>\n",
       "      <td>PCS</td>\n",
       "      <td>ORCID:0000-0002-0736-9199[2024-12-02]</td>\n",
       "    </tr>\n",
       "    <tr>\n",
       "      <th>1</th>\n",
       "      <td>OMIM:620155</td>\n",
       "      <td>Rabin-Pappas syndrome</td>\n",
       "      <td>HP:0001263</td>\n",
       "      <td>Global developmental delay</td>\n",
       "      <td></td>\n",
       "      <td></td>\n",
       "      <td>2/2</td>\n",
       "      <td></td>\n",
       "      <td></td>\n",
       "      <td></td>\n",
       "      <td></td>\n",
       "      <td>PMID:37372360</td>\n",
       "      <td>PCS</td>\n",
       "      <td>ORCID:0000-0002-0736-9199[2024-12-02]</td>\n",
       "    </tr>\n",
       "    <tr>\n",
       "      <th>2</th>\n",
       "      <td>OMIM:620155</td>\n",
       "      <td>Rabin-Pappas syndrome</td>\n",
       "      <td>HP:0000750</td>\n",
       "      <td>Delayed speech and language development</td>\n",
       "      <td></td>\n",
       "      <td></td>\n",
       "      <td>1/2</td>\n",
       "      <td></td>\n",
       "      <td></td>\n",
       "      <td></td>\n",
       "      <td></td>\n",
       "      <td>PMID:37372360</td>\n",
       "      <td>PCS</td>\n",
       "      <td>ORCID:0000-0002-0736-9199[2024-12-02]</td>\n",
       "    </tr>\n",
       "    <tr>\n",
       "      <th>3</th>\n",
       "      <td>OMIM:620155</td>\n",
       "      <td>Rabin-Pappas syndrome</td>\n",
       "      <td>HP:0010535</td>\n",
       "      <td>Sleep apnea</td>\n",
       "      <td></td>\n",
       "      <td></td>\n",
       "      <td>2/2</td>\n",
       "      <td></td>\n",
       "      <td></td>\n",
       "      <td></td>\n",
       "      <td></td>\n",
       "      <td>PMID:37372360</td>\n",
       "      <td>PCS</td>\n",
       "      <td>ORCID:0000-0002-0736-9199[2024-12-02]</td>\n",
       "    </tr>\n",
       "    <tr>\n",
       "      <th>4</th>\n",
       "      <td>OMIM:620155</td>\n",
       "      <td>Rabin-Pappas syndrome</td>\n",
       "      <td>HP:0001601</td>\n",
       "      <td>Laryngomalacia</td>\n",
       "      <td></td>\n",
       "      <td></td>\n",
       "      <td>1/2</td>\n",
       "      <td></td>\n",
       "      <td></td>\n",
       "      <td></td>\n",
       "      <td></td>\n",
       "      <td>PMID:37372360</td>\n",
       "      <td>PCS</td>\n",
       "      <td>ORCID:0000-0002-0736-9199[2024-12-02]</td>\n",
       "    </tr>\n",
       "  </tbody>\n",
       "</table>\n",
       "</div>"
      ],
      "text/plain": [
       "    #diseaseID            diseaseName phenotypeID  \\\n",
       "0  OMIM:620155  Rabin-Pappas syndrome  HP:0002280   \n",
       "1  OMIM:620155  Rabin-Pappas syndrome  HP:0001263   \n",
       "2  OMIM:620155  Rabin-Pappas syndrome  HP:0000750   \n",
       "3  OMIM:620155  Rabin-Pappas syndrome  HP:0010535   \n",
       "4  OMIM:620155  Rabin-Pappas syndrome  HP:0001601   \n",
       "\n",
       "                             phenotypeName onsetID onsetName frequency sex  \\\n",
       "0                  Enlarged cisterna magna                         1/2       \n",
       "1               Global developmental delay                         2/2       \n",
       "2  Delayed speech and language development                         1/2       \n",
       "3                              Sleep apnea                         2/2       \n",
       "4                           Laryngomalacia                         1/2       \n",
       "\n",
       "  negation modifier description    publication evidence  \\\n",
       "0                                PMID:37372360      PCS   \n",
       "1                                PMID:37372360      PCS   \n",
       "2                                PMID:37372360      PCS   \n",
       "3                                PMID:37372360      PCS   \n",
       "4                                PMID:37372360      PCS   \n",
       "\n",
       "                             biocuration  \n",
       "0  ORCID:0000-0002-0736-9199[2024-12-02]  \n",
       "1  ORCID:0000-0002-0736-9199[2024-12-02]  \n",
       "2  ORCID:0000-0002-0736-9199[2024-12-02]  \n",
       "3  ORCID:0000-0002-0736-9199[2024-12-02]  \n",
       "4  ORCID:0000-0002-0736-9199[2024-12-02]  "
      ]
     },
     "execution_count": 5,
     "metadata": {},
     "output_type": "execute_result"
    }
   ],
   "source": [
    "pmid=\"PMID:32710489\"\n",
    "df = timporter.create_hpoa_from_phenopackets(pmid=pmid, mode_of_inheritance=Moi.AD, target=\"OMIM:620155\")\n",
    "df.head()"
   ]
  },
  {
   "cell_type": "code",
   "execution_count": null,
   "metadata": {},
   "outputs": [],
   "source": []
  }
 ],
 "metadata": {
  "kernelspec": {
   "display_name": "ps24venv",
   "language": "python",
   "name": "python3"
  },
  "language_info": {
   "codemirror_mode": {
    "name": "ipython",
    "version": 3
   },
   "file_extension": ".py",
   "mimetype": "text/x-python",
   "name": "python",
   "nbconvert_exporter": "python",
   "pygments_lexer": "ipython3",
   "version": "3.12.4"
  }
 },
 "nbformat": 4,
 "nbformat_minor": 2
}
