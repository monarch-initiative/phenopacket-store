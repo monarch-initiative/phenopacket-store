{
 "cells": [
  {
   "cell_type": "markdown",
   "metadata": {},
   "source": [
    "# SETD2"
   ]
  },
  {
   "cell_type": "code",
   "execution_count": 2,
   "metadata": {},
   "outputs": [
    {
     "name": "stdout",
     "output_type": "stream",
     "text": [
      "Using pyphetools version 0.9.113\n"
     ]
    }
   ],
   "source": [
    "from pyphetools.creation import TemplateImporter, Moi\n",
    "from pyphetools.visualization import IndividualTable, QcVisualizer\n",
    "from IPython.display import display, HTML\n",
    "import pyphetools\n",
    "print(f\"Using pyphetools version {pyphetools.__version__}\")"
   ]
  },
  {
   "cell_type": "code",
   "execution_count": 3,
   "metadata": {},
   "outputs": [
    {
     "name": "stdout",
     "output_type": "stream",
     "text": [
      "HPO version 2024-08-13\n",
      "Created encoders for 91 fields\n",
      "Importing OMIM:620157, Intellectual developmental disorder, autosomal dominant 70, HGNC:18420, SETD2,  NM_014159.7\n",
      "We output 3 GA4GH phenopackets to the directory phenopackets\n"
     ]
    }
   ],
   "source": [
    "template = \"input/SETD2_MRD70_individuals.xlsx\"\n",
    "created_by = \"0000-0002-0736-9199\"\n",
    "timporter = TemplateImporter(template=template,  created_by=created_by)\n",
    "individual_list, cvalidator = timporter.import_phenopackets_from_template()"
   ]
  },
  {
   "cell_type": "code",
   "execution_count": 4,
   "metadata": {},
   "outputs": [
    {
     "data": {
      "text/html": [
       "<h2>Cohort validation</h2>\n",
       "<p>Errors found with 2 of 3 phenopackets.</p>\n",
       "<table style=\"border: 2px solid black; align: \"left\">\n",
       "<caption>Error counts</caption>\n",
       "<tr><th style=\"text-align: left;font-weight: bold;\">Level</th><th style=\"text-align: left;font-weight: bold;\">Error category</th><th style=\"text-align: left;font-weight: bold;\">Count</th></tr>\n",
       "<tr><td style=\"text-align: left;\">WARNING</td><td style=\"text-align: left;\">REDUNDANT</td><td style=\"text-align: left;\">5</td></tr>\n",
       "</table>\n",
       "<p>A total of 5 issues were fixed and no individual was removed from the cohort.</p>"
      ],
      "text/plain": [
       "<IPython.core.display.HTML object>"
      ]
     },
     "metadata": {},
     "output_type": "display_data"
    }
   ],
   "source": [
    "qc = QcVisualizer(cohort_validator=cvalidator)\n",
    "display(HTML(qc.to_summary_html()))"
   ]
  },
  {
   "cell_type": "code",
   "execution_count": 5,
   "metadata": {},
   "outputs": [
    {
     "data": {
      "text/html": [
       "<table style=\"border: 2px solid black; align: \"left\">\n",
       "<caption>3 phenopackets - PMID:32710489 (n=3)</caption>\n",
       "<tr><th style=\"text-align: left;font-weight: bold;\">Individual</th><th style=\"text-align: left;font-weight: bold;\">Disease</th><th style=\"text-align: left;font-weight: bold;\">Genotype</th><th style=\"text-align: left;font-weight: bold;\">Phenotypic features</th></tr>\n",
       "<tr><td style=\"text-align: left;\">Group 2 Patient 1 (MALE; P15Y)</td><td style=\"text-align: left;\">Intellectual developmental disorder, autosomal dominant 70 (OMIM:620157)</td><td style=\"text-align: left;\">NM_014159.7:c.5219G>A (heterozygous)</td><td style=\"text-align: left;\">Global developmental delay (HP:0001263): onset ; Delayed speech and language development (HP:0000750): onset ; Brachycephaly (HP:0000248): onset ; Broad nasal tip (HP:0000455): onset ; Upslanted palpebral fissure (HP:0000582): onset ; Laryngomalacia (HP:0001601): onset ; Constipation (HP:0002019): onset ; Attached earlobe (HP:0009907): onset ; Finger clinodactyly (HP:0040019): onset ; Triphalangeal thumb (HP:0001199): onset ; Camptodactyly (HP:0012385): onset ; excluded: Premature birth (HP:0001622): onset ; excluded: Caesarian section (HP:0011410): onset ; excluded: Large for gestational age (HP:0001520): onset ; excluded: Tall stature (HP:0000098): onset ; excluded: Short stature (HP:0004322): onset ; excluded: Obesity (HP:0001513): onset ; excluded: Macrocephaly (HP:0000256): onset ; excluded: Delayed ability to walk (HP:0031936): onset ; excluded: Delayed ability to sit (HP:0025336): onset ; excluded: Hyponatremia (HP:0002902): onset ; excluded: Gastroesophageal reflux (HP:0002020): onset ; excluded: Tube feeding (HP:0033454): onset ; excluded: Stage 5 chronic kidney disease (HP:0003774): onset ; excluded: Anteriorly placed anus (HP:0001545): onset ; excluded: Talipes equinovarus (HP:0001762): onset ; excluded: Seizure (HP:0001250): onset ; excluded: Posteriorly rotated ears (HP:0000358): onset ; excluded: Macrotia (HP:0000400): onset ; excluded: Low-set ears (HP:0000369): onset ; excluded: Preauricular skin tag (HP:0000384): onset ; excluded: Auricular pit (HP:0030025): onset ; excluded: Stenosis of the external auditory canal (HP:0000402): onset ; excluded: Rocker bottom foot (HP:0001838): onset </td></tr>\n",
       "<tr><td style=\"text-align: left;\">Group 2 Patient 2 (MALE; P4Y6M)</td><td style=\"text-align: left;\">Intellectual developmental disorder, autosomal dominant 70 (OMIM:620157)</td><td style=\"text-align: left;\">NM_014159.7:c.5219G>A (heterozygous)</td><td style=\"text-align: left;\">Delayed ability to walk (HP:0031936): onset ; Delayed speech and language development (HP:0000750): onset ; Accelerated skeletal maturation (HP:0005616): onset ; Hypotonia (HP:0001252): onset ; Strabismus (HP:0000486): onset ; excluded: Premature birth (HP:0001622): onset ; excluded: Caesarian section (HP:0011410): onset ; excluded: Large for gestational age (HP:0001520): onset ; excluded: Tall stature (HP:0000098): onset ; excluded: Short stature (HP:0004322): onset ; excluded: Obesity (HP:0001513): onset ; excluded: Macrocephaly (HP:0000256): onset ; excluded: Global developmental delay (HP:0001263): onset ; excluded: Delayed ability to sit (HP:0025336): onset ; excluded: Mixed hearing impairment (HP:0000410): onset ; excluded: Hyponatremia (HP:0002902): onset ; excluded: Stage 5 chronic kidney disease (HP:0003774): onset ; excluded: Anteriorly placed anus (HP:0001545): onset ; excluded: Talipes equinovarus (HP:0001762): onset ; excluded: Seizure (HP:0001250): onset ; excluded: Simplified gyral pattern (HP:0009879): onset ; excluded: Hypoplasia of the pons (HP:0012110): onset ; excluded: Thin corpus callosum (HP:0033725): onset ; excluded: Dysplastic corpus callosum (HP:0006989): onset ; excluded: Microcephaly (HP:0000252): onset ; excluded: Delayed CNS myelination (HP:0002188): onset ; excluded: Hypothalamic hamartoma (HP:0002444): onset ; excluded: Enlarged cisterna magna (HP:0002280): onset ; excluded: Dandy-Walker malformation (HP:0001305): onset ; excluded: Reduced cerebral white matter volume (HP:0034295): onset ; excluded: Hippocampal malrotation (HP:0034396): onset ; excluded: Posteriorly rotated ears (HP:0000358): onset ; excluded: Macrotia (HP:0000400): onset ; excluded: Low-set ears (HP:0000369): onset ; excluded: Preauricular skin tag (HP:0000384): onset ; excluded: Auricular pit (HP:0030025): onset ; excluded: Attached earlobe (HP:0009907): onset ; excluded: Stenosis of the external auditory canal (HP:0000402): onset ; excluded: Rocker bottom foot (HP:0001838): onset ; excluded: Finger clinodactyly (HP:0040019): onset ; excluded: Triphalangeal thumb (HP:0001199): onset </td></tr>\n",
       "<tr><td style=\"text-align: left;\">Group 2 Patient 3 (FEMALE; P7Y8M)</td><td style=\"text-align: left;\">Intellectual developmental disorder, autosomal dominant 70 (OMIM:620157)</td><td style=\"text-align: left;\">NM_014159.7:c.5219G>A (heterozygous)</td><td style=\"text-align: left;\">Global developmental delay (HP:0001263): onset ; Hypotonia (HP:0001252): onset ; Myopia (HP:0000545): onset ; excluded: Premature birth (HP:0001622): onset ; excluded: Caesarian section (HP:0011410): onset ; excluded: Large for gestational age (HP:0001520): onset ; excluded: Tall stature (HP:0000098): onset ; excluded: Short stature (HP:0004322): onset ; excluded: Obesity (HP:0001513): onset ; excluded: Macrocephaly (HP:0000256): onset ; excluded: Delayed ability to walk (HP:0031936): onset ; excluded: Delayed ability to sit (HP:0025336): onset ; excluded: Delayed speech and language development (HP:0000750): onset ; excluded: Hyponatremia (HP:0002902): onset ; excluded: Stage 5 chronic kidney disease (HP:0003774): onset ; excluded: Anteriorly placed anus (HP:0001545): onset ; excluded: Talipes equinovarus (HP:0001762): onset ; excluded: Seizure (HP:0001250): onset ; excluded: Posteriorly rotated ears (HP:0000358): onset ; excluded: Macrotia (HP:0000400): onset ; excluded: Low-set ears (HP:0000369): onset ; excluded: Preauricular skin tag (HP:0000384): onset ; excluded: Auricular pit (HP:0030025): onset ; excluded: Attached earlobe (HP:0009907): onset ; excluded: Stenosis of the external auditory canal (HP:0000402): onset ; excluded: Rocker bottom foot (HP:0001838): onset ; excluded: Finger clinodactyly (HP:0040019): onset ; excluded: Triphalangeal thumb (HP:0001199): onset </td></tr>\n",
       "</table>"
      ],
      "text/plain": [
       "<IPython.core.display.HTML object>"
      ]
     },
     "metadata": {},
     "output_type": "display_data"
    }
   ],
   "source": [
    "table = IndividualTable(cvalidator.get_error_free_individual_list())\n",
    "display(HTML(table.to_html()))"
   ]
  },
  {
   "cell_type": "code",
   "execution_count": 7,
   "metadata": {},
   "outputs": [
    {
     "name": "stdout",
     "output_type": "stream",
     "text": [
      "[pyphetools] Ingested 3 GA4GH phenopackets.\n",
      "[INFO] Extracted 3 from 3 phenopackets with OMIM:620157\n",
      "\n",
      "\tIntellectual developmental disorder, autosomal dominant 70 (OMIM:620157): n=3\n",
      "We found a total of 50 unique HPO terms\n",
      "Extracted disease: Intellectual developmental disorder, autosomal dominant 70 (OMIM:620157)\n",
      "Wrote HPOA disease file to OMIM-620157.tab\n"
     ]
    },
    {
     "data": {
      "text/html": [
       "<div>\n",
       "<style scoped>\n",
       "    .dataframe tbody tr th:only-of-type {\n",
       "        vertical-align: middle;\n",
       "    }\n",
       "\n",
       "    .dataframe tbody tr th {\n",
       "        vertical-align: top;\n",
       "    }\n",
       "\n",
       "    .dataframe thead th {\n",
       "        text-align: right;\n",
       "    }\n",
       "</style>\n",
       "<table border=\"1\" class=\"dataframe\">\n",
       "  <thead>\n",
       "    <tr style=\"text-align: right;\">\n",
       "      <th></th>\n",
       "      <th>#diseaseID</th>\n",
       "      <th>diseaseName</th>\n",
       "      <th>phenotypeID</th>\n",
       "      <th>phenotypeName</th>\n",
       "      <th>onsetID</th>\n",
       "      <th>onsetName</th>\n",
       "      <th>frequency</th>\n",
       "      <th>sex</th>\n",
       "      <th>negation</th>\n",
       "      <th>modifier</th>\n",
       "      <th>description</th>\n",
       "      <th>publication</th>\n",
       "      <th>evidence</th>\n",
       "      <th>biocuration</th>\n",
       "    </tr>\n",
       "  </thead>\n",
       "  <tbody>\n",
       "    <tr>\n",
       "      <th>0</th>\n",
       "      <td>OMIM:620157</td>\n",
       "      <td>Intellectual developmental disorder, autosomal...</td>\n",
       "      <td>HP:0001263</td>\n",
       "      <td>Global developmental delay</td>\n",
       "      <td></td>\n",
       "      <td></td>\n",
       "      <td>2/3</td>\n",
       "      <td></td>\n",
       "      <td></td>\n",
       "      <td></td>\n",
       "      <td></td>\n",
       "      <td>PMID:32710489</td>\n",
       "      <td>PCS</td>\n",
       "      <td>ORCID:0000-0002-0736-9199[2024-12-02]</td>\n",
       "    </tr>\n",
       "    <tr>\n",
       "      <th>1</th>\n",
       "      <td>OMIM:620157</td>\n",
       "      <td>Intellectual developmental disorder, autosomal...</td>\n",
       "      <td>HP:0000750</td>\n",
       "      <td>Delayed speech and language development</td>\n",
       "      <td></td>\n",
       "      <td></td>\n",
       "      <td>2/3</td>\n",
       "      <td></td>\n",
       "      <td></td>\n",
       "      <td></td>\n",
       "      <td></td>\n",
       "      <td>PMID:32710489</td>\n",
       "      <td>PCS</td>\n",
       "      <td>ORCID:0000-0002-0736-9199[2024-12-02]</td>\n",
       "    </tr>\n",
       "    <tr>\n",
       "      <th>2</th>\n",
       "      <td>OMIM:620157</td>\n",
       "      <td>Intellectual developmental disorder, autosomal...</td>\n",
       "      <td>HP:0000248</td>\n",
       "      <td>Brachycephaly</td>\n",
       "      <td></td>\n",
       "      <td></td>\n",
       "      <td>1/1</td>\n",
       "      <td></td>\n",
       "      <td></td>\n",
       "      <td></td>\n",
       "      <td></td>\n",
       "      <td>PMID:32710489</td>\n",
       "      <td>PCS</td>\n",
       "      <td>ORCID:0000-0002-0736-9199[2024-12-02]</td>\n",
       "    </tr>\n",
       "    <tr>\n",
       "      <th>3</th>\n",
       "      <td>OMIM:620157</td>\n",
       "      <td>Intellectual developmental disorder, autosomal...</td>\n",
       "      <td>HP:0000455</td>\n",
       "      <td>Broad nasal tip</td>\n",
       "      <td></td>\n",
       "      <td></td>\n",
       "      <td>1/1</td>\n",
       "      <td></td>\n",
       "      <td></td>\n",
       "      <td></td>\n",
       "      <td></td>\n",
       "      <td>PMID:32710489</td>\n",
       "      <td>PCS</td>\n",
       "      <td>ORCID:0000-0002-0736-9199[2024-12-02]</td>\n",
       "    </tr>\n",
       "    <tr>\n",
       "      <th>4</th>\n",
       "      <td>OMIM:620157</td>\n",
       "      <td>Intellectual developmental disorder, autosomal...</td>\n",
       "      <td>HP:0000582</td>\n",
       "      <td>Upslanted palpebral fissure</td>\n",
       "      <td></td>\n",
       "      <td></td>\n",
       "      <td>1/1</td>\n",
       "      <td></td>\n",
       "      <td></td>\n",
       "      <td></td>\n",
       "      <td></td>\n",
       "      <td>PMID:32710489</td>\n",
       "      <td>PCS</td>\n",
       "      <td>ORCID:0000-0002-0736-9199[2024-12-02]</td>\n",
       "    </tr>\n",
       "  </tbody>\n",
       "</table>\n",
       "</div>"
      ],
      "text/plain": [
       "    #diseaseID                                        diseaseName phenotypeID  \\\n",
       "0  OMIM:620157  Intellectual developmental disorder, autosomal...  HP:0001263   \n",
       "1  OMIM:620157  Intellectual developmental disorder, autosomal...  HP:0000750   \n",
       "2  OMIM:620157  Intellectual developmental disorder, autosomal...  HP:0000248   \n",
       "3  OMIM:620157  Intellectual developmental disorder, autosomal...  HP:0000455   \n",
       "4  OMIM:620157  Intellectual developmental disorder, autosomal...  HP:0000582   \n",
       "\n",
       "                             phenotypeName onsetID onsetName frequency sex  \\\n",
       "0               Global developmental delay                         2/3       \n",
       "1  Delayed speech and language development                         2/3       \n",
       "2                            Brachycephaly                         1/1       \n",
       "3                          Broad nasal tip                         1/1       \n",
       "4              Upslanted palpebral fissure                         1/1       \n",
       "\n",
       "  negation modifier description    publication evidence  \\\n",
       "0                                PMID:32710489      PCS   \n",
       "1                                PMID:32710489      PCS   \n",
       "2                                PMID:32710489      PCS   \n",
       "3                                PMID:32710489      PCS   \n",
       "4                                PMID:32710489      PCS   \n",
       "\n",
       "                             biocuration  \n",
       "0  ORCID:0000-0002-0736-9199[2024-12-02]  \n",
       "1  ORCID:0000-0002-0736-9199[2024-12-02]  \n",
       "2  ORCID:0000-0002-0736-9199[2024-12-02]  \n",
       "3  ORCID:0000-0002-0736-9199[2024-12-02]  \n",
       "4  ORCID:0000-0002-0736-9199[2024-12-02]  "
      ]
     },
     "execution_count": 7,
     "metadata": {},
     "output_type": "execute_result"
    }
   ],
   "source": [
    "pmid = \"PMID:32710489\"\n",
    "df = timporter.create_hpoa_from_phenopackets(pmid=pmid, mode_of_inheritance=Moi.AD, target=\"OMIM:620157\")\n",
    "df.head()"
   ]
  }
 ],
 "metadata": {
  "kernelspec": {
   "display_name": "ps24venv",
   "language": "python",
   "name": "python3"
  },
  "language_info": {
   "codemirror_mode": {
    "name": "ipython",
    "version": 3
   },
   "file_extension": ".py",
   "mimetype": "text/x-python",
   "name": "python",
   "nbconvert_exporter": "python",
   "pygments_lexer": "ipython3",
   "version": "3.12.4"
  }
 },
 "nbformat": 4,
 "nbformat_minor": 2
}
