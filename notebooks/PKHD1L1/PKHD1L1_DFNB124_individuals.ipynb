{
 "cells": [
  {
   "cell_type": "markdown",
   "metadata": {},
   "source": [
    "# PKHD1L1\n",
    "[autosomal recessive deafness-124 (DFNB124)]() is caused by homozygous or compound heterozygous mutation in the PKHD1L1 gene."
   ]
  },
  {
   "cell_type": "code",
   "execution_count": 3,
   "metadata": {},
   "outputs": [
    {
     "name": "stdout",
     "output_type": "stream",
     "text": [
      "Using pyphetools version 0.9.94\n"
     ]
    }
   ],
   "source": [
    "from pyphetools.creation import TemplateImporter, Moi\n",
    "from pyphetools.visualization import IndividualTable, QcVisualizer\n",
    "from IPython.display import display, HTML\n",
    "import pyphetools\n",
    "print(f\"Using pyphetools version {pyphetools.__version__}\")"
   ]
  },
  {
   "cell_type": "code",
   "execution_count": 4,
   "metadata": {},
   "outputs": [],
   "source": [
    "template = \"input/PKHD1L1_DFNB124_individuals.xlsx\"\n",
    "created_by = \"0000-0002-0736-9199\""
   ]
  },
  {
   "cell_type": "code",
   "execution_count": 5,
   "metadata": {},
   "outputs": [
    {
     "name": "stdout",
     "output_type": "stream",
     "text": [
      "HPO version 2024-07-01\n",
      "Created encoders for 22 fields\n",
      "Importing OMIM:620794, Deafness, autosomal recessive 124, HGNC:20313, PKHD1L1,  NM_177531.6\n",
      "[INFO] encoding variant \"c.3941G>T\"\n",
      "https://rest.variantvalidator.org/VariantValidator/variantvalidator/hg38/NM_177531.6%3Ac.3941G>T/NM_177531.6?content-type=application%2Fjson\n",
      "[INFO] encoding variant \"c.8452_8468del\"\n",
      "https://rest.variantvalidator.org/VariantValidator/variantvalidator/hg38/NM_177531.6%3Ac.8452_8468del/NM_177531.6?content-type=application%2Fjson\n",
      "[INFO] encoding variant \"c.10141C>T\"\n",
      "https://rest.variantvalidator.org/VariantValidator/variantvalidator/hg38/NM_177531.6%3Ac.10141C>T/NM_177531.6?content-type=application%2Fjson\n",
      "[INFO] encoding variant \"c.1813G>A\"\n",
      "https://rest.variantvalidator.org/VariantValidator/variantvalidator/hg38/NM_177531.6%3Ac.1813G>A/NM_177531.6?content-type=application%2Fjson\n",
      "[INFO] encoding variant \"c.7437C>A\"\n",
      "https://rest.variantvalidator.org/VariantValidator/variantvalidator/hg38/NM_177531.6%3Ac.7437C>A/NM_177531.6?content-type=application%2Fjson\n",
      "[INFO] encoding variant \"c.385G>A\"\n",
      "https://rest.variantvalidator.org/VariantValidator/variantvalidator/hg38/NM_177531.6%3Ac.385G>A/NM_177531.6?content-type=application%2Fjson\n",
      "We output 4 GA4GH phenopackets to the directory phenopackets\n"
     ]
    }
   ],
   "source": [
    "timporter = TemplateImporter(template=template,  created_by=created_by)\n",
    "individual_list, cvalidator = timporter.import_phenopackets_from_template()"
   ]
  },
  {
   "cell_type": "code",
   "execution_count": 6,
   "metadata": {},
   "outputs": [
    {
     "data": {
      "text/html": [
       "<h2>Cohort validation</h2>\n",
       "<p>No errors found for the cohort with 4 individuals</p>"
      ],
      "text/plain": [
       "<IPython.core.display.HTML object>"
      ]
     },
     "metadata": {},
     "output_type": "display_data"
    }
   ],
   "source": [
    "qc = QcVisualizer(cohort_validator=cvalidator)\n",
    "display(HTML(qc.to_summary_html()))"
   ]
  },
  {
   "cell_type": "code",
   "execution_count": 7,
   "metadata": {},
   "outputs": [
    {
     "data": {
      "text/html": [
       "<table style=\"border: 2px solid black; align: \"left\">\n",
       "<caption>4 phenopackets - PMID:38459354 (n=4)</caption>\n",
       "<tr><th style=\"text-align: left;font-weight: bold;\">Individual</th><th style=\"text-align: left;font-weight: bold;\">Disease</th><th style=\"text-align: left;font-weight: bold;\">Genotype</th><th style=\"text-align: left;font-weight: bold;\">Phenotypic features</th></tr>\n",
       "<tr><td style=\"text-align: left;\">Family 1 proband (FEMALE; P13Y)</td><td style=\"text-align: left;\">Deafness, autosomal recessive 124 (OMIM:620794)</td><td style=\"text-align: left;\"><ul> <li>NM_177531.6:c.385G>A (heterozygous)</li> <li>NM_177531.6:c.3941G>T (heterozygous)</li> </ul></td><td style=\"text-align: left;\">Sensorineural hearing impairment (HP:0000407); excluded: Abnormality of the eye (HP:0000478); excluded: Intellectual disability (HP:0001249); excluded: Abnormality of the cardiovascular system (HP:0001626)</td></tr>\n",
       "<tr><td style=\"text-align: left;\">Family 2 proband (MALE; P9Y)</td><td style=\"text-align: left;\">Deafness, autosomal recessive 124 (OMIM:620794)</td><td style=\"text-align: left;\">NM_177531.6:c.10141C>T (homozygous)</td><td style=\"text-align: left;\">Sensorineural hearing impairment (HP:0000407); excluded: Abnormal vestibular function (HP:0001751)</td></tr>\n",
       "<tr><td style=\"text-align: left;\">Family 3 proband (MALE; P13Y)</td><td style=\"text-align: left;\">Deafness, autosomal recessive 124 (OMIM:620794)</td><td style=\"text-align: left;\">NM_177531.6:c.7437C>A (homozygous)</td><td style=\"text-align: left;\">Sensorineural hearing impairment (HP:0000407)</td></tr>\n",
       "<tr><td style=\"text-align: left;\">Family 4 proband (MALE; P8Y)</td><td style=\"text-align: left;\">Deafness, autosomal recessive 124 (OMIM:620794)</td><td style=\"text-align: left;\"><ul> <li>NM_177531.6:c.1813G>A (heterozygous)</li> <li>NM_177531.6:c.8452_8468del (heterozygous)</li> </ul></td><td style=\"text-align: left;\">Sensorineural hearing impairment (HP:0000407)</td></tr>\n",
       "</table>"
      ],
      "text/plain": [
       "<IPython.core.display.HTML object>"
      ]
     },
     "metadata": {},
     "output_type": "display_data"
    }
   ],
   "source": [
    "table = IndividualTable(cvalidator.get_error_free_individual_list())\n",
    "display(HTML(table.to_html()))"
   ]
  },
  {
   "cell_type": "code",
   "execution_count": 8,
   "metadata": {},
   "outputs": [
    {
     "name": "stdout",
     "output_type": "stream",
     "text": [
      "[pyphetools] Ingested 4 GA4GH phenopackets.\n",
      "[INFO] Extracted 4 from 4 phenopackets with OMIM:620794\n",
      "\n",
      "\tDeafness, autosomal recessive 124 (OMIM:620794): n=4\n",
      "We found a total of 5 unique HPO terms\n",
      "Extracted disease: Deafness, autosomal recessive 124 (OMIM:620794)\n",
      "Wrote HPOA disease file to OMIM-620794.tab\n"
     ]
    },
    {
     "data": {
      "text/html": [
       "<div>\n",
       "<style scoped>\n",
       "    .dataframe tbody tr th:only-of-type {\n",
       "        vertical-align: middle;\n",
       "    }\n",
       "\n",
       "    .dataframe tbody tr th {\n",
       "        vertical-align: top;\n",
       "    }\n",
       "\n",
       "    .dataframe thead th {\n",
       "        text-align: right;\n",
       "    }\n",
       "</style>\n",
       "<table border=\"1\" class=\"dataframe\">\n",
       "  <thead>\n",
       "    <tr style=\"text-align: right;\">\n",
       "      <th></th>\n",
       "      <th>#diseaseID</th>\n",
       "      <th>diseaseName</th>\n",
       "      <th>phenotypeID</th>\n",
       "      <th>phenotypeName</th>\n",
       "      <th>onsetID</th>\n",
       "      <th>onsetName</th>\n",
       "      <th>frequency</th>\n",
       "      <th>sex</th>\n",
       "      <th>negation</th>\n",
       "      <th>modifier</th>\n",
       "      <th>description</th>\n",
       "      <th>publication</th>\n",
       "      <th>evidence</th>\n",
       "      <th>biocuration</th>\n",
       "    </tr>\n",
       "  </thead>\n",
       "  <tbody>\n",
       "    <tr>\n",
       "      <th>0</th>\n",
       "      <td>OMIM:620794</td>\n",
       "      <td>Deafness, autosomal recessive 124</td>\n",
       "      <td>HP:0000407</td>\n",
       "      <td>Sensorineural hearing impairment</td>\n",
       "      <td></td>\n",
       "      <td></td>\n",
       "      <td>4/4</td>\n",
       "      <td></td>\n",
       "      <td></td>\n",
       "      <td></td>\n",
       "      <td></td>\n",
       "      <td>PMID:38459354</td>\n",
       "      <td>PCS</td>\n",
       "      <td>ORCID:0000-0002-0736-9199[2024-07-22]</td>\n",
       "    </tr>\n",
       "    <tr>\n",
       "      <th>1</th>\n",
       "      <td>OMIM:620794</td>\n",
       "      <td>Deafness, autosomal recessive 124</td>\n",
       "      <td>HP:0000478</td>\n",
       "      <td>Abnormality of the eye</td>\n",
       "      <td></td>\n",
       "      <td></td>\n",
       "      <td>0/1</td>\n",
       "      <td></td>\n",
       "      <td></td>\n",
       "      <td></td>\n",
       "      <td></td>\n",
       "      <td>PMID:38459354</td>\n",
       "      <td>PCS</td>\n",
       "      <td>ORCID:0000-0002-0736-9199[2024-07-22]</td>\n",
       "    </tr>\n",
       "    <tr>\n",
       "      <th>2</th>\n",
       "      <td>OMIM:620794</td>\n",
       "      <td>Deafness, autosomal recessive 124</td>\n",
       "      <td>HP:0001249</td>\n",
       "      <td>Intellectual disability</td>\n",
       "      <td></td>\n",
       "      <td></td>\n",
       "      <td>0/1</td>\n",
       "      <td></td>\n",
       "      <td></td>\n",
       "      <td></td>\n",
       "      <td></td>\n",
       "      <td>PMID:38459354</td>\n",
       "      <td>PCS</td>\n",
       "      <td>ORCID:0000-0002-0736-9199[2024-07-22]</td>\n",
       "    </tr>\n",
       "    <tr>\n",
       "      <th>3</th>\n",
       "      <td>OMIM:620794</td>\n",
       "      <td>Deafness, autosomal recessive 124</td>\n",
       "      <td>HP:0001626</td>\n",
       "      <td>Abnormality of the cardiovascular system</td>\n",
       "      <td></td>\n",
       "      <td></td>\n",
       "      <td>0/1</td>\n",
       "      <td></td>\n",
       "      <td></td>\n",
       "      <td></td>\n",
       "      <td></td>\n",
       "      <td>PMID:38459354</td>\n",
       "      <td>PCS</td>\n",
       "      <td>ORCID:0000-0002-0736-9199[2024-07-22]</td>\n",
       "    </tr>\n",
       "    <tr>\n",
       "      <th>4</th>\n",
       "      <td>OMIM:620794</td>\n",
       "      <td>Deafness, autosomal recessive 124</td>\n",
       "      <td>HP:0001751</td>\n",
       "      <td>Abnormal vestibular function</td>\n",
       "      <td></td>\n",
       "      <td></td>\n",
       "      <td>0/1</td>\n",
       "      <td></td>\n",
       "      <td></td>\n",
       "      <td></td>\n",
       "      <td></td>\n",
       "      <td>PMID:38459354</td>\n",
       "      <td>PCS</td>\n",
       "      <td>ORCID:0000-0002-0736-9199[2024-07-22]</td>\n",
       "    </tr>\n",
       "  </tbody>\n",
       "</table>\n",
       "</div>"
      ],
      "text/plain": [
       "    #diseaseID  ...                            biocuration\n",
       "0  OMIM:620794  ...  ORCID:0000-0002-0736-9199[2024-07-22]\n",
       "1  OMIM:620794  ...  ORCID:0000-0002-0736-9199[2024-07-22]\n",
       "2  OMIM:620794  ...  ORCID:0000-0002-0736-9199[2024-07-22]\n",
       "3  OMIM:620794  ...  ORCID:0000-0002-0736-9199[2024-07-22]\n",
       "4  OMIM:620794  ...  ORCID:0000-0002-0736-9199[2024-07-22]\n",
       "\n",
       "[5 rows x 14 columns]"
      ]
     },
     "execution_count": 8,
     "metadata": {},
     "output_type": "execute_result"
    }
   ],
   "source": [
    "pmid = \"PMID:38459354\"\n",
    "df = timporter.create_hpoa_from_phenopackets(pmid=pmid, mode_of_inheritance=Moi.AR, target=\"OMIM:620794\")\n",
    "df.head()"
   ]
  },
  {
   "cell_type": "code",
   "execution_count": null,
   "metadata": {},
   "outputs": [],
   "source": []
  }
 ],
 "metadata": {
  "kernelspec": {
   "display_name": "ps24venv",
   "language": "python",
   "name": "python3"
  },
  "language_info": {
   "codemirror_mode": {
    "name": "ipython",
    "version": 3
   },
   "file_extension": ".py",
   "mimetype": "text/x-python",
   "name": "python",
   "nbconvert_exporter": "python",
   "pygments_lexer": "ipython3",
   "version": "3.9.6"
  }
 },
 "nbformat": 4,
 "nbformat_minor": 2
}
