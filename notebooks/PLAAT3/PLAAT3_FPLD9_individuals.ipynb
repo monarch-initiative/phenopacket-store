{
 "cells": [
  {
   "cell_type": "markdown",
   "metadata": {},
   "source": [
    "# PLAAT3\n",
    "[familial partial lipodystrophy type 9 (FPLD9)](https://omim.org/entry/620683) is caused by homozygous mutation in the PLAAT3 gene."
   ]
  },
  {
   "cell_type": "code",
   "execution_count": 3,
   "metadata": {},
   "outputs": [
    {
     "name": "stdout",
     "output_type": "stream",
     "text": [
      "Using pyphetools version 0.9.80\n"
     ]
    }
   ],
   "source": [
    "from pyphetools.creation import TemplateImporter\n",
    "from pyphetools.visualization import IndividualTable, QcVisualizer\n",
    "from IPython.display import display, HTML\n",
    "import pyphetools\n",
    "print(f\"Using pyphetools version {pyphetools.__version__}\")"
   ]
  },
  {
   "cell_type": "code",
   "execution_count": 7,
   "metadata": {},
   "outputs": [],
   "source": [
    "template = \"input/PLAAT3_FPLD9_individuals.xlsx\"\n",
    "created_by = \"0000-0002-0736-9199\""
   ]
  },
  {
   "cell_type": "code",
   "execution_count": 9,
   "metadata": {},
   "outputs": [
    {
     "name": "stdout",
     "output_type": "stream",
     "text": [
      "HPO version 2024-04-26\n",
      "Created encoders for 61 fields\n",
      "Importing OMIM:620683, Lipodystrophy, familial partial, type 9, HGNC:17825, PLAAT3,  NM_001128203.2\n",
      "[INFO] encoding variant \"c.16-4823_118+167del\"\n",
      "https://rest.variantvalidator.org/VariantValidator/variantvalidator/hg38/NM_001128203.2%3Ac.16-4823_118+167del/NM_001128203.2?content-type=application%2Fjson\n",
      "We output 7 GA4GH phenopackets to the directory phenopackets\n"
     ]
    }
   ],
   "source": [
    "timporter = TemplateImporter(template=template,  created_by=created_by)\n",
    "individual_list, cvalidator = timporter.import_phenopackets_from_template()"
   ]
  },
  {
   "cell_type": "code",
   "execution_count": 10,
   "metadata": {},
   "outputs": [
    {
     "data": {
      "text/html": [
       "<h2>Cohort validation</h2>\n",
       "<p>Errors found with 6 of 7 phenopackets.</p>\n",
       "<table style=\"border: 2px solid black; align: \"left\">\n",
       "<caption>Error counts</caption>\n",
       "<tr><th style=\"text-align: left;font-weight: bold;\">Level</th><th style=\"text-align: left;font-weight: bold;\">Error category</th><th style=\"text-align: left;font-weight: bold;\">Count</th></tr>\n",
       "<tr><td style=\"text-align: left;\">WARNING</td><td style=\"text-align: left;\">REDUNDANT</td><td style=\"text-align: left;\">6</td></tr>\n",
       "</table>\n",
       "<p>A total of 6 issues were fixed and no individual was removed from the cohort.</p>"
      ],
      "text/plain": [
       "<IPython.core.display.HTML object>"
      ]
     },
     "metadata": {},
     "output_type": "display_data"
    }
   ],
   "source": [
    "qc = QcVisualizer(cohort_validator=cvalidator)\n",
    "display(HTML(qc.to_summary_html()))"
   ]
  },
  {
   "cell_type": "code",
   "execution_count": 12,
   "metadata": {},
   "outputs": [
    {
     "data": {
      "text/html": [
       "<table style=\"border: 2px solid black; align: \"left\">\n",
       "<caption>7 phenopackets - PMID:37919452 (n=7)</caption>\n",
       "<tr><th style=\"text-align: left;font-weight: bold;\">Individual</th><th style=\"text-align: left;font-weight: bold;\">Disease</th><th style=\"text-align: left;font-weight: bold;\">Genotype</th><th style=\"text-align: left;font-weight: bold;\">Phenotypic features</th></tr>\n",
       "<tr><td style=\"text-align: left;\">Family 1: patient 1 (FEMALE; P38Y)</td><td style=\"text-align: left;\">Lipodystrophy, familial partial, type 9 (OMIM:620683)</td><td style=\"text-align: left;\">NM_001128203.2:c.16-4823_118+167del (homozygous)</td><td style=\"text-align: left;\">Demyelinating peripheral neuropathy (HP:0007108); Migraine (HP:0002076); Polycystic ovaries (HP:0000147); Lipoatrophy (HP:0100578); Skeletal muscle hypertrophy (HP:0003712); Hypertension (HP:0000822); Arthralgia (HP:0002829); Myalgia (HP:0003326); Hyperinsulinemia (HP:0000842); Insulin-resistant diabetes mellitus (HP:0000831); Short stature (HP:0004322); Prominent nose (HP:0000448); Acral overgrowth (HP:0033794); Hepatic steatosis (HP:0001397); Hepatomegaly (HP:0002240); Hypertriglyceridemia (HP:0002155); Decreased HDL cholesterol concentration (HP:0003233); Hyperglycemia (HP:0003074); Elevated hemoglobin A1c (HP:0040217); Hirsutism (HP:0001007); excluded: Intellectual disability (HP:0001249); excluded: Global developmental delay (HP:0001263); excluded: Chiari type I malformation (HP:0007099); excluded: Tip-toe gait (HP:0030051); excluded: Pes cavus (HP:0001761); excluded: Areflexia (HP:0001284); excluded: Spastic gait (HP:0002064); excluded: Hyperlordosis (HP:0003307); excluded: Scoliosis (HP:0002650); excluded: Genu valgum (HP:0002857); excluded: 2-3 toe syndactyly (HP:0004691); excluded: Achilles tendon contracture (HP:0001771); excluded: Kyphosis (HP:0002808); excluded: Precocious puberty (HP:0000826); excluded: Hypothyroidism (HP:0000821); excluded: Short neck (HP:0000470); excluded: Flat forehead (HP:0004425); excluded: Convex nasal ridge (HP:0000444); excluded: Deeply set eye (HP:0000490); excluded: Mandibular prognathia (HP:0000303); excluded: Acanthosis nigricans (HP:0000956); excluded: Low-set ears (HP:0000369)</td></tr>\n",
       "<tr><td style=\"text-align: left;\">Family 1: patient 2 (FEMALE; P37Y)</td><td style=\"text-align: left;\">Lipodystrophy, familial partial, type 9 (OMIM:620683)</td><td style=\"text-align: left;\">NM_001128203.2:c.16-4823_118+167del (homozygous)</td><td style=\"text-align: left;\">Intellectual disability (HP:0001249); Global developmental delay (HP:0001263); Lipoatrophy (HP:0100578); Skeletal muscle hypertrophy (HP:0003712); Insulin-resistant diabetes mellitus (HP:0000831); Short stature (HP:0004322); Hepatic steatosis (HP:0001397); Hepatomegaly (HP:0002240); Hypertriglyceridemia (HP:0002155); Decreased HDL cholesterol concentration (HP:0003233); Hyperglycemia (HP:0003074); Elevated hemoglobin A1c (HP:0040217); Acanthosis nigricans (HP:0000956); Hirsutism (HP:0001007); excluded: Tip-toe gait (HP:0030051); excluded: Pes cavus (HP:0001761); excluded: Migraine (HP:0002076); excluded: Areflexia (HP:0001284); excluded: Spastic gait (HP:0002064); excluded: Hyperlordosis (HP:0003307); excluded: Scoliosis (HP:0002650); excluded: Genu valgum (HP:0002857); excluded: 2-3 toe syndactyly (HP:0004691); excluded: Achilles tendon contracture (HP:0001771); excluded: Kyphosis (HP:0002808); excluded: Precocious puberty (HP:0000826); excluded: Hypothyroidism (HP:0000821); excluded: Short neck (HP:0000470); excluded: Flat forehead (HP:0004425); excluded: Convex nasal ridge (HP:0000444); excluded: Deeply set eye (HP:0000490); excluded: Prominent nose (HP:0000448); excluded: Mandibular prognathia (HP:0000303); excluded: Acral overgrowth (HP:0033794); excluded: Low-set ears (HP:0000369)</td></tr>\n",
       "<tr><td style=\"text-align: left;\">Family 1: patient 3 (FEMALE; P25Y)</td><td style=\"text-align: left;\">Lipodystrophy, familial partial, type 9 (OMIM:620683)</td><td style=\"text-align: left;\">NM_001128203.2:c.16-4823_118+167del (homozygous)</td><td style=\"text-align: left;\">Polycystic ovaries (HP:0000147); Lipoatrophy (HP:0100578); Skeletal muscle hypertrophy (HP:0003712); Hypertension (HP:0000822); Arthralgia (HP:0002829); Myalgia (HP:0003326); Hyperinsulinemia (HP:0000842); Precocious puberty (HP:0000826); Insulin-resistant diabetes mellitus (HP:0000831); Hypothyroidism (HP:0000821); Short stature (HP:0004322); Prominent nose (HP:0000448); Acral overgrowth (HP:0033794); Hepatic steatosis (HP:0001397); Hepatomegaly (HP:0002240); Hypertriglyceridemia (HP:0002155); Decreased HDL cholesterol concentration (HP:0003233); Hyperglycemia (HP:0003074); Elevated hemoglobin A1c (HP:0040217); Hirsutism (HP:0001007); excluded: Intellectual disability (HP:0001249); excluded: Global developmental delay (HP:0001263); excluded: Tip-toe gait (HP:0030051); excluded: Pes cavus (HP:0001761); excluded: Migraine (HP:0002076); excluded: Areflexia (HP:0001284); excluded: Spastic gait (HP:0002064); excluded: Hyperlordosis (HP:0003307); excluded: Scoliosis (HP:0002650); excluded: Genu valgum (HP:0002857); excluded: 2-3 toe syndactyly (HP:0004691); excluded: Achilles tendon contracture (HP:0001771); excluded: Kyphosis (HP:0002808); excluded: Short neck (HP:0000470); excluded: Flat forehead (HP:0004425); excluded: Convex nasal ridge (HP:0000444); excluded: Deeply set eye (HP:0000490); excluded: Mandibular prognathia (HP:0000303); excluded: Acanthosis nigricans (HP:0000956); excluded: Low-set ears (HP:0000369)</td></tr>\n",
       "<tr><td style=\"text-align: left;\">Family 2: patient 4 (FEMALE; P42Y)</td><td style=\"text-align: left;\">Lipodystrophy, familial partial, type 9 (OMIM:620683)</td><td style=\"text-align: left;\">NM_001128203.2:c.286dup (homozygous)</td><td style=\"text-align: left;\">Demyelinating peripheral neuropathy (HP:0007108); Polycystic ovaries (HP:0000147); Lipoatrophy (HP:0100578); Skeletal muscle hypertrophy (HP:0003712); Hypertension (HP:0000822); Arthralgia (HP:0002829); Myalgia (HP:0003326); Hyperinsulinemia (HP:0000842); Insulin-resistant diabetes mellitus (HP:0000831); Hypothyroidism (HP:0000821); Hepatic steatosis (HP:0001397); Hepatomegaly (HP:0002240); Hypertriglyceridemia (HP:0002155); Decreased HDL cholesterol concentration (HP:0003233); Hyperglycemia (HP:0003074); Elevated hemoglobin A1c (HP:0040217); Acanthosis nigricans (HP:0000956); Hirsutism (HP:0001007); excluded: Intellectual disability (HP:0001249); excluded: Global developmental delay (HP:0001263); excluded: Tip-toe gait (HP:0030051); excluded: Pes cavus (HP:0001761); excluded: Migraine (HP:0002076); excluded: Areflexia (HP:0001284); excluded: Spastic gait (HP:0002064); excluded: Hyperlordosis (HP:0003307); excluded: Scoliosis (HP:0002650); excluded: Genu valgum (HP:0002857); excluded: 2-3 toe syndactyly (HP:0004691); excluded: Achilles tendon contracture (HP:0001771); excluded: Kyphosis (HP:0002808); excluded: Precocious puberty (HP:0000826); excluded: Short stature (HP:0004322); excluded: Short neck (HP:0000470); excluded: Flat forehead (HP:0004425); excluded: Convex nasal ridge (HP:0000444); excluded: Deeply set eye (HP:0000490); excluded: Prominent nose (HP:0000448); excluded: Mandibular prognathia (HP:0000303); excluded: Acral overgrowth (HP:0033794); excluded: Low-set ears (HP:0000369)</td></tr>\n",
       "<tr><td style=\"text-align: left;\">Family 3: patient 5 (MALE; P22Y)</td><td style=\"text-align: left;\">Lipodystrophy, familial partial, type 9 (OMIM:620683)</td><td style=\"text-align: left;\">NM_001128203.2:c.339C>A (homozygous)</td><td style=\"text-align: left;\">Intellectual disability (HP:0001249); Global developmental delay (HP:0001263); Demyelinating peripheral neuropathy (HP:0007108); Tip-toe gait (HP:0030051); Pes cavus (HP:0001761); Spastic gait (HP:0002064); Scoliosis (HP:0002650); Genu valgum (HP:0002857); 2-3 toe syndactyly (HP:0004691); Achilles tendon contracture (HP:0001771); Kyphosis (HP:0002808); Lipodystrophy (HP:0009125); Skeletal muscle hypertrophy (HP:0003712); Insulin-resistant diabetes mellitus (HP:0000831); Short stature (HP:0004322); Gynecomastia (HP:0000771); Flat forehead (HP:0004425); Convex nasal ridge (HP:0000444); Deeply set eye (HP:0000490); Mandibular prognathia (HP:0000303); Hepatic steatosis (HP:0001397); Hepatomegaly (HP:0002240); Hyperglycemia (HP:0003074); Elevated hemoglobin A1c (HP:0040217); Acanthosis nigricans (HP:0000956); Low-set ears (HP:0000369); excluded: Chiari type I malformation (HP:0007099); excluded: Migraine (HP:0002076); excluded: Areflexia (HP:0001284); excluded: Hyperlordosis (HP:0003307); excluded: Lipoatrophy (HP:0100578); excluded: Hypertension (HP:0000822); excluded: Arthralgia (HP:0002829); excluded: Myalgia (HP:0003326); excluded: Precocious puberty (HP:0000826); excluded: Hypothyroidism (HP:0000821); excluded: Short neck (HP:0000470); excluded: Prominent nose (HP:0000448); excluded: Acral overgrowth (HP:0033794); excluded: Hypertriglyceridemia (HP:0002155); excluded: Decreased HDL cholesterol concentration (HP:0003233)</td></tr>\n",
       "<tr><td style=\"text-align: left;\">Family 4: patient 6 (MALE; P15Y)</td><td style=\"text-align: left;\">Lipodystrophy, familial partial, type 9 (OMIM:620683)</td><td style=\"text-align: left;\">NM_001128203.2:c.339C>A (homozygous)</td><td style=\"text-align: left;\">Intellectual disability (HP:0001249); Global developmental delay (HP:0001263); Demyelinating peripheral neuropathy (HP:0007108); Chiari type I malformation (HP:0007099); Tip-toe gait (HP:0030051); Pes cavus (HP:0001761); Areflexia (HP:0001284); Hyperlordosis (HP:0003307); Scoliosis (HP:0002650); Achilles tendon contracture (HP:0001771); Kyphosis (HP:0002808); Lipoatrophy (HP:0100578); Skeletal muscle hypertrophy (HP:0003712); Arthralgia (HP:0002829); Myalgia (HP:0003326); Insulin-resistant diabetes mellitus (HP:0000831); Gynecomastia (HP:0000771); Short neck (HP:0000470); Acral overgrowth (HP:0033794); Hepatic steatosis (HP:0001397); Hypertriglyceridemia (HP:0002155); Decreased HDL cholesterol concentration (HP:0003233); Hyperglycemia (HP:0003074); Elevated hemoglobin A1c (HP:0040217); Acanthosis nigricans (HP:0000956); excluded: Migraine (HP:0002076); excluded: Spastic gait (HP:0002064); excluded: Genu valgum (HP:0002857); excluded: 2-3 toe syndactyly (HP:0004691); excluded: Hypertension (HP:0000822); excluded: Precocious puberty (HP:0000826); excluded: Hypothyroidism (HP:0000821); excluded: Short stature (HP:0004322); excluded: Flat forehead (HP:0004425); excluded: Convex nasal ridge (HP:0000444); excluded: Deeply set eye (HP:0000490); excluded: Prominent nose (HP:0000448); excluded: Mandibular prognathia (HP:0000303); excluded: Hepatomegaly (HP:0002240); excluded: Low-set ears (HP:0000369)</td></tr>\n",
       "<tr><td style=\"text-align: left;\">Family 4: patient 7 (MALE; P11Y)</td><td style=\"text-align: left;\">Lipodystrophy, familial partial, type 9 (OMIM:620683)</td><td style=\"text-align: left;\">NM_001128203.2:c.339C>A (homozygous)</td><td style=\"text-align: left;\">Demyelinating peripheral neuropathy (HP:0007108); Tip-toe gait (HP:0030051); Pes cavus (HP:0001761); Areflexia (HP:0001284); Hyperlordosis (HP:0003307); Scoliosis (HP:0002650); Achilles tendon contracture (HP:0001771); Kyphosis (HP:0002808); Lipoatrophy (HP:0100578); Skeletal muscle hypertrophy (HP:0003712); Arthralgia (HP:0002829); Myalgia (HP:0003326); Insulin-resistant diabetes mellitus (HP:0000831); Gynecomastia (HP:0000771); Short neck (HP:0000470); Acral overgrowth (HP:0033794); Hepatic steatosis (HP:0001397); Decreased HDL cholesterol concentration (HP:0003233); Hyperglycemia (HP:0003074); Elevated hemoglobin A1c (HP:0040217); Acanthosis nigricans (HP:0000956); excluded: Intellectual disability (HP:0001249); excluded: Global developmental delay (HP:0001263); excluded: Chiari type I malformation (HP:0007099); excluded: Migraine (HP:0002076); excluded: Spastic gait (HP:0002064); excluded: Genu valgum (HP:0002857); excluded: 2-3 toe syndactyly (HP:0004691); excluded: Hypertension (HP:0000822); excluded: Precocious puberty (HP:0000826); excluded: Hypothyroidism (HP:0000821); excluded: Short stature (HP:0004322); excluded: Flat forehead (HP:0004425); excluded: Convex nasal ridge (HP:0000444); excluded: Deeply set eye (HP:0000490); excluded: Prominent nose (HP:0000448); excluded: Mandibular prognathia (HP:0000303); excluded: Hepatomegaly (HP:0002240); excluded: Hypertriglyceridemia (HP:0002155); excluded: Low-set ears (HP:0000369)</td></tr>\n",
       "</table>"
      ],
      "text/plain": [
       "<IPython.core.display.HTML object>"
      ]
     },
     "metadata": {},
     "output_type": "display_data"
    }
   ],
   "source": [
    "table = IndividualTable(cvalidator.get_error_free_individual_list())\n",
    "display(HTML(table.to_html()))"
   ]
  },
  {
   "cell_type": "code",
   "execution_count": 13,
   "metadata": {},
   "outputs": [
    {
     "name": "stdout",
     "output_type": "stream",
     "text": [
      "[pyphetools] Ingested 7 GA4GH phenopackets.\n",
      "\tLipodystrophy, familial partial, type 9 (OMIM:620683): n=7\n",
      "We found a total of 44 unique HPO terms\n",
      "Extracted disease: Lipodystrophy, familial partial, type 9 (OMIM:620683)\n",
      "Wrote HPOA disease file to OMIM-620683.tab\n"
     ]
    }
   ],
   "source": [
    "pmid = \"PMID:37919452\"\n",
    "df = timporter.create_hpoa_from_phenopackets(pmid=pmid, moi=\"Autosomal recessive\")"
   ]
  }
 ],
 "metadata": {
  "kernelspec": {
   "display_name": "ps24venv",
   "language": "python",
   "name": "python3"
  },
  "language_info": {
   "codemirror_mode": {
    "name": "ipython",
    "version": 3
   },
   "file_extension": ".py",
   "mimetype": "text/x-python",
   "name": "python",
   "nbconvert_exporter": "python",
   "pygments_lexer": "ipython3",
   "version": "3.9.6"
  }
 },
 "nbformat": 4,
 "nbformat_minor": 2
}
