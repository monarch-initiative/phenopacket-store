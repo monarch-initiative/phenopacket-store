{
 "cells": [
  {
   "cell_type": "markdown",
   "metadata": {},
   "source": [
    "# CMPK2\n",
    "[autosomal recessive idiopathic basal ganglia calcification-10 (IBGC10)](https://omim.org/entry/621018) is caused by homozygous or compound heterozygous mutation in the mitochondrial cytidine monophosphate (UMP-CMP) kinase-2 gene (CMPK2)."
   ]
  },
  {
   "cell_type": "code",
   "execution_count": 1,
   "metadata": {},
   "outputs": [
    {
     "name": "stdout",
     "output_type": "stream",
     "text": [
      "Using pyphetools version 0.9.115\n"
     ]
    }
   ],
   "source": [
    "from pyphetools.creation import TemplateImporter, Moi\n",
    "from pyphetools.visualization import IndividualTable, QcVisualizer\n",
    "from IPython.display import display, HTML\n",
    "import pyphetools\n",
    "print(f\"Using pyphetools version {pyphetools.__version__}\")"
   ]
  },
  {
   "cell_type": "code",
   "execution_count": 2,
   "metadata": {},
   "outputs": [],
   "source": [
    "template = \"input/CMPK2_IBGC10_individuals.xlsx\"\n",
    "created_by = \"0000-0002-0736-9199\""
   ]
  },
  {
   "cell_type": "code",
   "execution_count": 3,
   "metadata": {},
   "outputs": [
    {
     "name": "stdout",
     "output_type": "stream",
     "text": [
      "HPO version 2024-12-12\n",
      "Created encoders for 32 fields\n",
      "Importing OMIM:621018, Basal ganglia calcification, idiopathic, 10, autosomal recessive, HGNC:27015, CMPK2,  NM_207315.4\n",
      "[INFO] encoding variant \"c.1241A>G\"\n",
      "https://rest.variantvalidator.org/VariantValidator/variantvalidator/hg38/NM_207315.4%3Ac.1241A>G/NM_207315.4?content-type=application%2Fjson\n",
      "[INFO] encoding variant \"c.1A>C\"\n",
      "https://rest.variantvalidator.org/VariantValidator/variantvalidator/hg38/NM_207315.4%3Ac.1A>C/NM_207315.4?content-type=application%2Fjson\n",
      "[INFO] encoding variant \"c.2T>C\"\n",
      "https://rest.variantvalidator.org/VariantValidator/variantvalidator/hg38/NM_207315.4%3Ac.2T>C/NM_207315.4?content-type=application%2Fjson\n",
      "We output 3 GA4GH phenopackets to the directory phenopackets\n"
     ]
    }
   ],
   "source": [
    "timporter = TemplateImporter(template=template,  created_by=created_by)\n",
    "individual_list, cvalidator = timporter.import_phenopackets_from_template()"
   ]
  },
  {
   "cell_type": "code",
   "execution_count": 4,
   "metadata": {},
   "outputs": [
    {
     "data": {
      "text/html": [
       "<h2>Cohort validation</h2>\n",
       "<p>No errors found for the cohort with 3 individuals</p>"
      ],
      "text/plain": [
       "<IPython.core.display.HTML object>"
      ]
     },
     "metadata": {},
     "output_type": "display_data"
    }
   ],
   "source": [
    "qc = QcVisualizer(cohort_validator=cvalidator)\n",
    "display(HTML(qc.to_summary_html()))"
   ]
  },
  {
   "cell_type": "code",
   "execution_count": 5,
   "metadata": {},
   "outputs": [
    {
     "data": {
      "text/html": [
       "<table style=\"border: 2px solid black; align: \"left\">\n",
       "<caption>3 phenopackets - PMID:36443312 (n=3)</caption>\n",
       "<tr><th style=\"text-align: left;font-weight: bold;\">Individual</th><th style=\"text-align: left;font-weight: bold;\">Disease</th><th style=\"text-align: left;font-weight: bold;\">Genotype</th><th style=\"text-align: left;font-weight: bold;\">Phenotypic features</th></tr>\n",
       "<tr><td style=\"text-align: left;\">Family 1 II-3 (MALE; P44Y)</td><td style=\"text-align: left;\">Basal ganglia calcification, idiopathic, 10, autosomal recessive (OMIM:621018)</td><td style=\"text-align: left;\">NM_207315.4:c.2T>C (homozygous)</td><td style=\"text-align: left;\">Globus pallidus calcification (HP:0031627): onset ; Thalamic calcification (HP:0025041): onset ; Cerebellar calcifications (HP:0007352): onset ; excluded: Cognitive impairment (HP:0100543): onset ; excluded: Ataxia (HP:0001251): onset ; excluded: Dysarthria (HP:0001260): onset ; excluded: Seizure (HP:0001250): onset ; excluded: Headache (HP:0002315): onset ; excluded: Intracerebral periventricular calcifications (HP:0007229): onset ; excluded: Stroke-like episode (HP:0002401): onset ; excluded: Antinuclear antibody positivity (HP:0003493): onset ; excluded: Abnormal circulating calcium concentration (HP:0004363): onset ; excluded: Abnormal blood phosphate concentration (HP:0100529): onset </td></tr>\n",
       "<tr><td style=\"text-align: left;\">Family 1 II-5 (FEMALE; P42Y)</td><td style=\"text-align: left;\">Basal ganglia calcification, idiopathic, 10, autosomal recessive (OMIM:621018)</td><td style=\"text-align: left;\">NM_207315.4:c.2T>C (homozygous)</td><td style=\"text-align: left;\">Cognitive impairment (HP:0100543): onset ; Ataxia (HP:0001251): onset ; Dysarthria (HP:0001260): onset ; Globus pallidus calcification (HP:0031627): onset ; Thalamic calcification (HP:0025041): onset ; Cerebellar calcifications (HP:0007352): onset ; Intracerebral periventricular calcifications (HP:0007229): onset ; CSF pleocytosis (HP:0012229): onset ; excluded: Seizure (HP:0001250): onset ; excluded: Headache (HP:0002315): onset ; excluded: Stroke-like episode (HP:0002401): onset ; excluded: Antinuclear antibody positivity (HP:0003493): onset ; excluded: Abnormal circulating calcium concentration (HP:0004363): onset ; excluded: Abnormal blood phosphate concentration (HP:0100529): onset ; excluded: Elevated circulating parathyroid hormone level (HP:0003165): onset </td></tr>\n",
       "<tr><td style=\"text-align: left;\">Family 2 II-1 (FEMALE; P39Y)</td><td style=\"text-align: left;\">Basal ganglia calcification, idiopathic, 10, autosomal recessive (OMIM:621018)</td><td style=\"text-align: left;\"><ul> <li>NM_207315.4:c.1A>C (heterozygous)</li> <li>NM_207315.4:c.1241A>G (heterozygous)</li> </ul></td><td style=\"text-align: left;\">Ataxia (HP:0001251): onset ; Globus pallidus calcification (HP:0031627): onset ; Thalamic calcification (HP:0025041): onset ; Cerebellar calcifications (HP:0007352): onset ; Intracerebral periventricular calcifications (HP:0007229): onset ; Antinuclear antibody positivity (HP:0003493): onset ; excluded: Seizure (HP:0001250): onset ; excluded: Headache (HP:0002315): onset ; excluded: Stroke-like episode (HP:0002401): onset ; excluded: Abnormal circulating calcium concentration (HP:0004363): onset ; excluded: Abnormal blood phosphate concentration (HP:0100529): onset ; excluded: Elevated circulating parathyroid hormone level (HP:0003165): onset <br/><b>TimeElement(element=Age(iso8601duration=P32Y))</b>: Cognitive impairment (HP:0100543): onset age {\n",
       "  iso8601duration: \"P32Y\"\n",
       "}\n",
       "; Dysarthria (HP:0001260): onset age {\n",
       "  iso8601duration: \"P32Y\"\n",
       "}\n",
       "</td></tr>\n",
       "</table>"
      ],
      "text/plain": [
       "<IPython.core.display.HTML object>"
      ]
     },
     "metadata": {},
     "output_type": "display_data"
    }
   ],
   "source": [
    "table = IndividualTable(cvalidator.get_error_free_individual_list())\n",
    "display(HTML(table.to_html()))"
   ]
  },
  {
   "cell_type": "code",
   "execution_count": 6,
   "metadata": {},
   "outputs": [
    {
     "name": "stdout",
     "output_type": "stream",
     "text": [
      "[pyphetools] Ingested 3 GA4GH phenopackets.\n",
      "[INFO] Extracted 3 from 3 phenopackets with OMIM:621018\n",
      "\n",
      "\tBasal ganglia calcification, idiopathic, 10, autosomal recessive (OMIM:621018): n=3\n",
      "We found a total of 15 unique HPO terms\n",
      "Extracted disease: Basal ganglia calcification, idiopathic, 10, autosomal recessive (OMIM:621018)\n",
      "Wrote HPOA disease file to OMIM-621018.tab\n"
     ]
    }
   ],
   "source": [
    "pmid = \"PMID:36443312\"\n",
    "df = timporter.create_hpoa_from_phenopackets(pmid=pmid, mode_of_inheritance=Moi.AR, target=\"OMIM:621018\")"
   ]
  }
 ],
 "metadata": {
  "kernelspec": {
   "display_name": "ps24venv",
   "language": "python",
   "name": "python3"
  },
  "language_info": {
   "codemirror_mode": {
    "name": "ipython",
    "version": 3
   },
   "file_extension": ".py",
   "mimetype": "text/x-python",
   "name": "python",
   "nbconvert_exporter": "python",
   "pygments_lexer": "ipython3",
   "version": "3.12.4"
  }
 },
 "nbformat": 4,
 "nbformat_minor": 2
}
