{
 "cells": [
  {
   "cell_type": "markdown",
   "metadata": {},
   "source": [
    "# B3GALT6\n",
    "[Ehlers-Danlos syndrome spondylodysplastic type 2 (EDSSPD2)](https://omim.org/entry/615349) is caused by compound heterozygous or homozygous mutation in the B3GALT6 gene."
   ]
  },
  {
   "cell_type": "code",
   "execution_count": 3,
   "metadata": {},
   "outputs": [
    {
     "name": "stdout",
     "output_type": "stream",
     "text": [
      "Using pyphetools version 0.9.92\n"
     ]
    }
   ],
   "source": [
    "from pyphetools.creation import TemplateImporter\n",
    "from pyphetools.visualization import IndividualTable, QcVisualizer\n",
    "from IPython.display import display, HTML\n",
    "import pyphetools\n",
    "print(f\"Using pyphetools version {pyphetools.__version__}\")"
   ]
  },
  {
   "cell_type": "code",
   "execution_count": 4,
   "metadata": {},
   "outputs": [],
   "source": [
    "template = \"input/B3GALT6_EDSSPD2_individuals.xlsx\"\n",
    "created_by = \"0000-0002-0736-9199\""
   ]
  },
  {
   "cell_type": "code",
   "execution_count": 5,
   "metadata": {},
   "outputs": [
    {
     "name": "stdout",
     "output_type": "stream",
     "text": [
      "HPO version 2024-07-01\n",
      "Created encoders for 90 fields\n",
      "Importing OMIM:615349, Ehlers-Danlos syndrome, spondylodysplastic type, 2, HGNC:17978, B3GALT6,  NM_080605.4\n",
      "[INFO] encoding variant \"c.925T>A\"\n",
      "https://rest.variantvalidator.org/VariantValidator/variantvalidator/hg38/NM_080605.4%3Ac.925T>A/NM_080605.4?content-type=application%2Fjson\n",
      "[INFO] encoding variant \"c.588del\"\n",
      "https://rest.variantvalidator.org/VariantValidator/variantvalidator/hg38/NM_080605.4%3Ac.588del/NM_080605.4?content-type=application%2Fjson\n",
      "[INFO] encoding variant \"c.16C>T\"\n",
      "https://rest.variantvalidator.org/VariantValidator/variantvalidator/hg38/NM_080605.4%3Ac.16C>T/NM_080605.4?content-type=application%2Fjson\n",
      "[INFO] encoding variant \"c.415_423del\"\n",
      "https://rest.variantvalidator.org/VariantValidator/variantvalidator/hg38/NM_080605.4%3Ac.415_423del/NM_080605.4?content-type=application%2Fjson\n",
      "[INFO] encoding variant \"c.353del\"\n",
      "https://rest.variantvalidator.org/VariantValidator/variantvalidator/hg38/NM_080605.4%3Ac.353del/NM_080605.4?content-type=application%2Fjson\n",
      "We output 4 GA4GH phenopackets to the directory phenopackets\n"
     ]
    }
   ],
   "source": [
    "timporter = TemplateImporter(template=template,  created_by=created_by)\n",
    "individual_list, cvalidator = timporter.import_phenopackets_from_template()"
   ]
  },
  {
   "cell_type": "code",
   "execution_count": 6,
   "metadata": {},
   "outputs": [
    {
     "data": {
      "text/html": [
       "<h2>Cohort validation</h2>\n",
       "<p>No errors found for the cohort with 4 individuals</p>"
      ],
      "text/plain": [
       "<IPython.core.display.HTML object>"
      ]
     },
     "metadata": {},
     "output_type": "display_data"
    }
   ],
   "source": [
    "qc = QcVisualizer(cohort_validator=cvalidator)\n",
    "display(HTML(qc.to_summary_html()))"
   ]
  },
  {
   "cell_type": "code",
   "execution_count": 7,
   "metadata": {},
   "outputs": [
    {
     "data": {
      "text/html": [
       "<table style=\"border: 2px solid black; align: \"left\">\n",
       "<caption>4 phenopackets - PMID:23664117 (n=4)</caption>\n",
       "<tr><th style=\"text-align: left;font-weight: bold;\">Individual</th><th style=\"text-align: left;font-weight: bold;\">Disease</th><th style=\"text-align: left;font-weight: bold;\">Genotype</th><th style=\"text-align: left;font-weight: bold;\">Phenotypic features</th></tr>\n",
       "<tr><td style=\"text-align: left;\">family F8 subject P9 (MALE; P8M)</td><td style=\"text-align: left;\">Ehlers-Danlos syndrome, spondylodysplastic type, 2 (OMIM:615349)</td><td style=\"text-align: left;\">NM_080605.4:c.353del (homozygous)</td><td style=\"text-align: left;\"><b>P6M</b>: Kyphoscoliosis (HP:0002751)<br/>Blue sclerae (HP:0000592); Large joint hypermobilty (HP:0430047); Finger joint hypermobility (HP:0006094); Spatulate thumbs (HP:0001222); Hyperextensible skin (HP:0000974); Soft, doughy skin (HP:0001027); Cutis laxa (HP:0000973); Hypoplastic iliac body (HP:0008824); Flared metaphysis (HP:0003015); Hyperplasia of the femoral trochanters (HP:0002822); Prominent forehead (HP:0011220); Flat face (HP:0012368); Advanced ossification of carpal bones (HP:0004233); Sparse scalp hair (HP:0002209); Limited elbow movement (HP:0002996); Hypotonia (HP:0001252); Proptosis (HP:0000520); Platyspondyly (HP:0000926); Beaking of vertebral bodies (HP:0004568); Long upper lip (HP:0011341); excluded: Dysplasia of the femoral head (HP:0010575); excluded: Talipes equinovarus (HP:0001762); excluded: Hip dislocation (HP:0002827); excluded: Cleft palate (HP:0000175); excluded: Carpal synostosis (HP:0009702); excluded: Short metacarpal (HP:0010049); excluded: Joint contracture of the hand (HP:0009473); excluded: Micrognathia (HP:0000347)</td></tr>\n",
       "<tr><td style=\"text-align: left;\">family F9 subject P10 (FEMALE; P7Y)</td><td style=\"text-align: left;\">Ehlers-Danlos syndrome, spondylodysplastic type, 2 (OMIM:615349)</td><td style=\"text-align: left;\"><ul> <li>NM_080605.4:c.925T>A (heterozygous)</li> <li>NM_080605.4:c.588del (heterozygous)</li> </ul></td><td style=\"text-align: left;\">Kyphoscoliosis (HP:0002751); Talipes equinovarus (HP:0001762); Blue sclerae (HP:0000592); Hip dislocation (HP:0002827); Large joint hypermobilty (HP:0430047); Finger joint hypermobility (HP:0006094); Spatulate thumbs (HP:0001222); Hyperextensible skin (HP:0000974); Soft, doughy skin (HP:0001027); Cutis laxa (HP:0000973); Hypoplastic iliac body (HP:0008824); Hyperplasia of the femoral trochanters (HP:0002822); Prominent forehead (HP:0011220); Flat face (HP:0012368); Sparse scalp hair (HP:0002209); Limited elbow movement (HP:0002996); Joint contracture of the hand (HP:0009473); Hypotonia (HP:0001252); Proptosis (HP:0000520); Platyspondyly (HP:0000926); Beaking of vertebral bodies (HP:0004568); Long upper lip (HP:0011341); excluded: Dysplasia of the femoral head (HP:0010575); excluded: Flared metaphysis (HP:0003015); excluded: Cleft palate (HP:0000175); excluded: Carpal synostosis (HP:0009702); excluded: Advanced ossification of carpal bones (HP:0004233); excluded: Short metacarpal (HP:0010049); excluded: Micrognathia (HP:0000347)</td></tr>\n",
       "<tr><td style=\"text-align: left;\">family F9 subject P11 (FEMALE; P1M)</td><td style=\"text-align: left;\">Ehlers-Danlos syndrome, spondylodysplastic type, 2 (OMIM:615349)</td><td style=\"text-align: left;\"><ul> <li>NM_080605.4:c.925T>A (heterozygous)</li> <li>NM_080605.4:c.588del (heterozygous)</li> </ul></td><td style=\"text-align: left;\">Kyphoscoliosis (HP:0002751); Dysplasia of the femoral head (HP:0010575); Talipes equinovarus (HP:0001762); Blue sclerae (HP:0000592); Hip dislocation (HP:0002827); Large joint hypermobilty (HP:0430047); Finger joint hypermobility (HP:0006094); Spatulate thumbs (HP:0001222); Hyperextensible skin (HP:0000974); Soft, doughy skin (HP:0001027); Hypoplastic iliac body (HP:0008824); Flared metaphysis (HP:0003015); Hyperplasia of the femoral trochanters (HP:0002822); Prominent forehead (HP:0011220); Flat face (HP:0012368); Short metacarpal (HP:0010049); Sparse scalp hair (HP:0002209); Limited elbow movement (HP:0002996); Joint contracture of the hand (HP:0009473); Hypotonia (HP:0001252); Proptosis (HP:0000520); Platyspondyly (HP:0000926); Beaking of vertebral bodies (HP:0004568); Long upper lip (HP:0011341); excluded: Cutis laxa (HP:0000973); excluded: Cleft palate (HP:0000175); excluded: Carpal synostosis (HP:0009702); excluded: Advanced ossification of carpal bones (HP:0004233); excluded: Micrognathia (HP:0000347)</td></tr>\n",
       "<tr><td style=\"text-align: left;\">family F10 subject P12 (FEMALE; P5Y1M)</td><td style=\"text-align: left;\">Ehlers-Danlos syndrome, spondylodysplastic type, 2 (OMIM:615349)</td><td style=\"text-align: left;\"><ul> <li>NM_080605.4:c.16C>T (heterozygous)</li> <li>NM_080605.4:c.415_423del (heterozygous)</li> </ul></td><td style=\"text-align: left;\"><b>P2Y</b>: Kyphoscoliosis (HP:0002751)<br/>Dysplasia of the femoral head (HP:0010575); Hip dislocation (HP:0002827); Large joint hypermobilty (HP:0430047); Finger joint hypermobility (HP:0006094); Soft, doughy skin (HP:0001027); Cutis laxa (HP:0000973); Hypoplastic iliac body (HP:0008824); Flared metaphysis (HP:0003015); Hyperplasia of the femoral trochanters (HP:0002822); Prominent forehead (HP:0011220); Flat face (HP:0012368); Cleft palate (HP:0000175); Limited elbow movement (HP:0002996); Hypotonia (HP:0001252); Proptosis (HP:0000520); Platyspondyly (HP:0000926); Beaking of vertebral bodies (HP:0004568); excluded: Talipes equinovarus (HP:0001762); excluded: Blue sclerae (HP:0000592); excluded: Spatulate thumbs (HP:0001222); excluded: Hyperextensible skin (HP:0000974); excluded: Carpal synostosis (HP:0009702); excluded: Advanced ossification of carpal bones (HP:0004233); excluded: Short metacarpal (HP:0010049); excluded: Sparse scalp hair (HP:0002209); excluded: Joint contracture of the hand (HP:0009473); excluded: Micrognathia (HP:0000347); excluded: Long upper lip (HP:0011341)</td></tr>\n",
       "</table>"
      ],
      "text/plain": [
       "<IPython.core.display.HTML object>"
      ]
     },
     "metadata": {},
     "output_type": "display_data"
    }
   ],
   "source": [
    "table = IndividualTable(cvalidator.get_error_free_individual_list())\n",
    "display(HTML(table.to_html()))"
   ]
  },
  {
   "cell_type": "code",
   "execution_count": 8,
   "metadata": {},
   "outputs": [
    {
     "name": "stdout",
     "output_type": "stream",
     "text": [
      "[pyphetools] Ingested 11 GA4GH phenopackets.\n",
      "[INFO] Extracted 4 from 11 phenopackets with OMIM:615349\n",
      "\n",
      "\tEhlers-Danlos syndrome, spondylodysplastic type, 2 (OMIM:615349): n=4\n",
      "We found a total of 29 unique HPO terms\n",
      "Extracted disease: Ehlers-Danlos syndrome, spondylodysplastic type, 2 (OMIM:615349)\n",
      "Wrote HPOA disease file to OMIM-615349.tab\n"
     ]
    }
   ],
   "source": [
    "pmid = \"PMID:23664117\"\n",
    "df = timporter.create_hpoa_from_phenopackets(pmid=pmid, moi=\"Autosomal recessive\", target=\"OMIM:615349\")"
   ]
  }
 ],
 "metadata": {
  "kernelspec": {
   "display_name": "ps24venv",
   "language": "python",
   "name": "python3"
  },
  "language_info": {
   "codemirror_mode": {
    "name": "ipython",
    "version": 3
   },
   "file_extension": ".py",
   "mimetype": "text/x-python",
   "name": "python",
   "nbconvert_exporter": "python",
   "pygments_lexer": "ipython3",
   "version": "3.9.6"
  }
 },
 "nbformat": 4,
 "nbformat_minor": 2
}
