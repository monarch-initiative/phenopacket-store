{
 "cells": [
  {
   "cell_type": "markdown",
   "metadata": {},
   "source": [
    "# B3GALT6\n",
    "[spondyloepimetaphyseal dysplasia with joint laxity type 1 with or without fractures (SEMDJL1)](https://omim.org/entry/271640)  is caused by homozygous or compound heterozygous mutation in the B3GALT6 gene"
   ]
  },
  {
   "cell_type": "code",
   "execution_count": 3,
   "metadata": {},
   "outputs": [
    {
     "name": "stdout",
     "output_type": "stream",
     "text": [
      "Using pyphetools version 0.9.92\n"
     ]
    }
   ],
   "source": [
    "from pyphetools.creation import TemplateImporter\n",
    "from pyphetools.visualization import IndividualTable, QcVisualizer\n",
    "from IPython.display import display, HTML\n",
    "import pyphetools\n",
    "print(f\"Using pyphetools version {pyphetools.__version__}\")"
   ]
  },
  {
   "cell_type": "code",
   "execution_count": 5,
   "metadata": {},
   "outputs": [],
   "source": [
    "template = \"input/B3GALT6_SEMDJL1_individuals.xlsx\"\n",
    "created_by = \"0000-0002-0736-9199\""
   ]
  },
  {
   "cell_type": "code",
   "execution_count": 14,
   "metadata": {},
   "outputs": [
    {
     "name": "stdout",
     "output_type": "stream",
     "text": [
      "HPO version 2024-07-01\n",
      "Created encoders for 90 fields\n",
      "Importing OMIM:271640, Spondyloepimetaphyseal dysplasia with joint laxity, type 1, with or without fractures, HGNC:17978, B3GALT6,  NM_080605.4\n",
      "We output 7 GA4GH phenopackets to the directory phenopackets\n"
     ]
    }
   ],
   "source": [
    "timporter = TemplateImporter(template=template,  created_by=created_by)\n",
    "individual_list, cvalidator = timporter.import_phenopackets_from_template()"
   ]
  },
  {
   "cell_type": "code",
   "execution_count": 15,
   "metadata": {},
   "outputs": [
    {
     "data": {
      "text/html": [
       "<h2>Cohort validation</h2>\n",
       "<p>No errors found for the cohort with 7 individuals</p>"
      ],
      "text/plain": [
       "<IPython.core.display.HTML object>"
      ]
     },
     "metadata": {},
     "output_type": "display_data"
    }
   ],
   "source": [
    "qc = QcVisualizer(cohort_validator=cvalidator)\n",
    "display(HTML(qc.to_summary_html()))"
   ]
  },
  {
   "cell_type": "code",
   "execution_count": 16,
   "metadata": {},
   "outputs": [
    {
     "data": {
      "text/html": [
       "<table style=\"border: 2px solid black; align: \"left\">\n",
       "<caption>7 phenopackets - PMID:23664117 (n=7)</caption>\n",
       "<tr><th style=\"text-align: left;font-weight: bold;\">Individual</th><th style=\"text-align: left;font-weight: bold;\">Disease</th><th style=\"text-align: left;font-weight: bold;\">Genotype</th><th style=\"text-align: left;font-weight: bold;\">Phenotypic features</th></tr>\n",
       "<tr><td style=\"text-align: left;\">family F1 subject P1 (MALE; P34Y)</td><td style=\"text-align: left;\">Spondyloepimetaphyseal dysplasia with joint laxity, type 1, with or without fractures (OMIM:271640)</td><td style=\"text-align: left;\"><ul> <li>NM_080605.4:c.1A>G (heterozygous)</li> <li>NM_080605.4:c.694C>T (heterozygous)</li> </ul></td><td style=\"text-align: left;\"><b>P7M</b>: Kyphoscoliosis (HP:0002751)<br/>Hypoplastic iliac body (HP:0008824); Flared metaphysis (HP:0003015); Hyperplasia of the femoral trochanters (HP:0002822); Limited elbow movement (HP:0002996); Platyspondyly (HP:0000926); Beaking of vertebral bodies (HP:0004568); excluded: Dysplasia of the femoral head (HP:0010575); excluded: Talipes equinovarus (HP:0001762); excluded: Hip dislocation (HP:0002827); excluded: Spatulate thumbs (HP:0001222); excluded: Advanced ossification of carpal bones (HP:0004233); excluded: Joint contracture of the hand (HP:0009473); excluded: Hypotonia (HP:0001252)</td></tr>\n",
       "<tr><td style=\"text-align: left;\">family F1 subject P2 (MALE; P31Y)</td><td style=\"text-align: left;\">Spondyloepimetaphyseal dysplasia with joint laxity, type 1, with or without fractures (OMIM:271640)</td><td style=\"text-align: left;\"><ul> <li>NM_080605.4:c.1A>G (heterozygous)</li> <li>NM_080605.4:c.694C>T (heterozygous)</li> </ul></td><td style=\"text-align: left;\"><b>P1Y2M</b>: Kyphoscoliosis (HP:0002751)<br/>Hypoplastic iliac body (HP:0008824); Flared metaphysis (HP:0003015); Hyperplasia of the femoral trochanters (HP:0002822); Platyspondyly (HP:0000926); Beaking of vertebral bodies (HP:0004568); excluded: Dysplasia of the femoral head (HP:0010575); excluded: Talipes equinovarus (HP:0001762); excluded: Hip dislocation (HP:0002827); excluded: Joint contracture of the hand (HP:0009473); excluded: Hypotonia (HP:0001252)</td></tr>\n",
       "<tr><td style=\"text-align: left;\">family F2 subject P3 (FEMALE; P12Y7M)</td><td style=\"text-align: left;\">Spondyloepimetaphyseal dysplasia with joint laxity, type 1, with or without fractures (OMIM:271640)</td><td style=\"text-align: left;\"><ul> <li>NM_080605.4:c.1A>G (heterozygous)</li> <li>NM_080605.4:c.466G>A (heterozygous)</li> </ul></td><td style=\"text-align: left;\"><b>P8M</b>: Kyphoscoliosis (HP:0002751)<br/>Talipes equinovarus (HP:0001762); Blue sclerae (HP:0000592); Large joint hypermobilty (HP:0430047); Finger joint hypermobility (HP:0006094); Spatulate thumbs (HP:0001222); Hyperextensible skin (HP:0000974); Soft, doughy skin (HP:0001027); Hypoplastic iliac body (HP:0008824); Flared metaphysis (HP:0003015); Hyperplasia of the femoral trochanters (HP:0002822); Prominent forehead (HP:0011220); Flat face (HP:0012368); Carpal synostosis (HP:0009702); Short metacarpal (HP:0010049); Limited elbow movement (HP:0002996); Hypotonia (HP:0001252); Micrognathia (HP:0000347); Proptosis (HP:0000520); Platyspondyly (HP:0000926); excluded: Dysplasia of the femoral head (HP:0010575); excluded: Hip dislocation (HP:0002827); excluded: Cutis laxa (HP:0000973); excluded: Cleft palate (HP:0000175); excluded: Advanced ossification of carpal bones (HP:0004233); excluded: Sparse scalp hair (HP:0002209); excluded: Joint contracture of the hand (HP:0009473); excluded: Beaking of vertebral bodies (HP:0004568); excluded: Long upper lip (HP:0011341)</td></tr>\n",
       "<tr><td style=\"text-align: left;\">family F4 subject P5 (FEMALE; P5Y1M)</td><td style=\"text-align: left;\">Spondyloepimetaphyseal dysplasia with joint laxity, type 1, with or without fractures (OMIM:271640)</td><td style=\"text-align: left;\"><ul> <li>NM_080605.4:c.1A>G (heterozygous)</li> <li>NM_080605.4:c.694C>T (heterozygous)</li> </ul></td><td style=\"text-align: left;\"><b>P2Y</b>: Kyphoscoliosis (HP:0002751)<br/>Blue sclerae (HP:0000592); Spatulate thumbs (HP:0001222); Hypoplastic iliac body (HP:0008824); Flared metaphysis (HP:0003015); Hyperplasia of the femoral trochanters (HP:0002822); Prominent forehead (HP:0011220); Flat face (HP:0012368); Advanced ossification of carpal bones (HP:0004233); Short metacarpal (HP:0010049); Limited elbow movement (HP:0002996); Micrognathia (HP:0000347); Platyspondyly (HP:0000926); Beaking of vertebral bodies (HP:0004568); Long upper lip (HP:0011341); excluded: Dysplasia of the femoral head (HP:0010575); excluded: Talipes equinovarus (HP:0001762); excluded: Hip dislocation (HP:0002827); excluded: Large joint hypermobilty (HP:0430047); excluded: Finger joint hypermobility (HP:0006094); excluded: Hyperextensible skin (HP:0000974); excluded: Soft, doughy skin (HP:0001027); excluded: Cutis laxa (HP:0000973); excluded: Cleft palate (HP:0000175); excluded: Carpal synostosis (HP:0009702); excluded: Sparse scalp hair (HP:0002209); excluded: Joint contracture of the hand (HP:0009473); excluded: Hypotonia (HP:0001252); excluded: Proptosis (HP:0000520)</td></tr>\n",
       "<tr><td style=\"text-align: left;\">family F5 subject P6 (FEMALE; P12Y7M)</td><td style=\"text-align: left;\">Spondyloepimetaphyseal dysplasia with joint laxity, type 1, with or without fractures (OMIM:271640)</td><td style=\"text-align: left;\"><ul> <li>NM_080605.4:c.694C>T (heterozygous)</li> <li>NM_080605.4:c.899G>C (heterozygous)</li> </ul></td><td style=\"text-align: left;\"><b>P3M</b>: Kyphoscoliosis (HP:0002751)<br/>Dysplasia of the femoral head (HP:0010575); Hip dislocation (HP:0002827); Spatulate thumbs (HP:0001222); Hypoplastic iliac body (HP:0008824); Flared metaphysis (HP:0003015); Hyperplasia of the femoral trochanters (HP:0002822); Prominent forehead (HP:0011220); Flat face (HP:0012368); Advanced ossification of carpal bones (HP:0004233); Short metacarpal (HP:0010049); Joint contracture of the hand (HP:0009473); Micrognathia (HP:0000347); Proptosis (HP:0000520); Platyspondyly (HP:0000926); Beaking of vertebral bodies (HP:0004568); excluded: Talipes equinovarus (HP:0001762); excluded: Blue sclerae (HP:0000592); excluded: Large joint hypermobilty (HP:0430047); excluded: Finger joint hypermobility (HP:0006094); excluded: Hyperextensible skin (HP:0000974); excluded: Soft, doughy skin (HP:0001027); excluded: Cutis laxa (HP:0000973); excluded: Cleft palate (HP:0000175); excluded: Carpal synostosis (HP:0009702); excluded: Sparse scalp hair (HP:0002209); excluded: Limited elbow movement (HP:0002996); excluded: Hypotonia (HP:0001252); excluded: Long upper lip (HP:0011341)</td></tr>\n",
       "<tr><td style=\"text-align: left;\">family F6 subject P7 (MALE; P2Y9M)</td><td style=\"text-align: left;\">Spondyloepimetaphyseal dysplasia with joint laxity, type 1, with or without fractures (OMIM:271640)</td><td style=\"text-align: left;\"><ul> <li>NM_080605.4:c.1A>G (heterozygous)</li> <li>NM_080605.4:c.193A>G (heterozygous)</li> </ul></td><td style=\"text-align: left;\"><b>P8M</b>: Kyphoscoliosis (HP:0002751)<br/>Talipes equinovarus (HP:0001762); Blue sclerae (HP:0000592); Large joint hypermobilty (HP:0430047); Finger joint hypermobility (HP:0006094); Hyperextensible skin (HP:0000974); Soft, doughy skin (HP:0001027); Hypoplastic iliac body (HP:0008824); Flared metaphysis (HP:0003015); Hyperplasia of the femoral trochanters (HP:0002822); Prominent forehead (HP:0011220); Flat face (HP:0012368); Advanced ossification of carpal bones (HP:0004233); Short metacarpal (HP:0010049); Proptosis (HP:0000520); Platyspondyly (HP:0000926); Beaking of vertebral bodies (HP:0004568); Long upper lip (HP:0011341); excluded: Dysplasia of the femoral head (HP:0010575); excluded: Hip dislocation (HP:0002827); excluded: Spatulate thumbs (HP:0001222); excluded: Cutis laxa (HP:0000973); excluded: Cleft palate (HP:0000175); excluded: Carpal synostosis (HP:0009702); excluded: Sparse scalp hair (HP:0002209); excluded: Limited elbow movement (HP:0002996); excluded: Joint contracture of the hand (HP:0009473); excluded: Hypotonia (HP:0001252); excluded: Micrognathia (HP:0000347)</td></tr>\n",
       "<tr><td style=\"text-align: left;\">family F7 subject P8 (MALE; P34Y)</td><td style=\"text-align: left;\">Spondyloepimetaphyseal dysplasia with joint laxity, type 1, with or without fractures (OMIM:271640)</td><td style=\"text-align: left;\"><ul> <li>NM_080605.4:c.200C>T (heterozygous)</li> <li>NM_080605.4:c.694C>T (heterozygous)</li> </ul></td><td style=\"text-align: left;\"><b>P1Y</b>: Kyphoscoliosis (HP:0002751)<br/>Hypoplastic iliac body (HP:0008824); Flared metaphysis (HP:0003015); Hyperplasia of the femoral trochanters (HP:0002822); Short metacarpal (HP:0010049); Limited elbow movement (HP:0002996); Micrognathia (HP:0000347); Platyspondyly (HP:0000926); Long upper lip (HP:0011341); excluded: Dysplasia of the femoral head (HP:0010575); excluded: Talipes equinovarus (HP:0001762); excluded: Blue sclerae (HP:0000592); excluded: Hip dislocation (HP:0002827); excluded: Large joint hypermobilty (HP:0430047); excluded: Finger joint hypermobility (HP:0006094); excluded: Spatulate thumbs (HP:0001222); excluded: Hyperextensible skin (HP:0000974); excluded: Soft, doughy skin (HP:0001027); excluded: Cutis laxa (HP:0000973); excluded: Prominent forehead (HP:0011220); excluded: Flat face (HP:0012368); excluded: Cleft palate (HP:0000175); excluded: Carpal synostosis (HP:0009702); excluded: Sparse scalp hair (HP:0002209); excluded: Joint contracture of the hand (HP:0009473); excluded: Hypotonia (HP:0001252); excluded: Proptosis (HP:0000520); excluded: Beaking of vertebral bodies (HP:0004568)</td></tr>\n",
       "</table>"
      ],
      "text/plain": [
       "<IPython.core.display.HTML object>"
      ]
     },
     "metadata": {},
     "output_type": "display_data"
    }
   ],
   "source": [
    "table = IndividualTable(cvalidator.get_error_free_individual_list())\n",
    "display(HTML(table.to_html()))"
   ]
  },
  {
   "cell_type": "code",
   "execution_count": 17,
   "metadata": {},
   "outputs": [
    {
     "name": "stdout",
     "output_type": "stream",
     "text": [
      "[pyphetools] Ingested 7 GA4GH phenopackets.\n",
      "[INFO] Extracted 7 from 7 phenopackets with OMIM:271640\n",
      "\n",
      "\tSpondyloepimetaphyseal dysplasia with joint laxity, type 1, with or without fractures (OMIM:271640): n=7\n",
      "We found a total of 29 unique HPO terms\n",
      "Extracted disease: Spondyloepimetaphyseal dysplasia with joint laxity, type 1, with or without fractures (OMIM:271640)\n",
      "Wrote HPOA disease file to OMIM-271640.tab\n"
     ]
    }
   ],
   "source": [
    "pmid = \"PMID:23664117\"\n",
    "df = timporter.create_hpoa_from_phenopackets(pmid=pmid, moi=\"Autosomal recessive\", target=\"OMIM:271640\")"
   ]
  },
  {
   "cell_type": "code",
   "execution_count": null,
   "metadata": {},
   "outputs": [],
   "source": []
  }
 ],
 "metadata": {
  "kernelspec": {
   "display_name": "ps24venv",
   "language": "python",
   "name": "python3"
  },
  "language_info": {
   "codemirror_mode": {
    "name": "ipython",
    "version": 3
   },
   "file_extension": ".py",
   "mimetype": "text/x-python",
   "name": "python",
   "nbconvert_exporter": "python",
   "pygments_lexer": "ipython3",
   "version": "3.9.6"
  }
 },
 "nbformat": 4,
 "nbformat_minor": 2
}
