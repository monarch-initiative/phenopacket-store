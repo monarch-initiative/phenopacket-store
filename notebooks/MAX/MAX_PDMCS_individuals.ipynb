{
 "cells": [
  {
   "cell_type": "markdown",
   "metadata": {},
   "source": [
    "# MAX\n",
    "[polydactyly-macrocephaly syndrome (PDMCS)](https://omim.org/entry/620712) is caused by heterozygous mutation in the MAX gene."
   ]
  },
  {
   "cell_type": "code",
   "execution_count": 3,
   "metadata": {},
   "outputs": [
    {
     "name": "stdout",
     "output_type": "stream",
     "text": [
      "Using pyphetools version 0.9.86\n"
     ]
    }
   ],
   "source": [
    "from pyphetools.creation import TemplateImporter\n",
    "from pyphetools.visualization import IndividualTable, QcVisualizer\n",
    "from IPython.display import display, HTML\n",
    "import pyphetools\n",
    "print(f\"Using pyphetools version {pyphetools.__version__}\")"
   ]
  },
  {
   "cell_type": "code",
   "execution_count": 5,
   "metadata": {},
   "outputs": [],
   "source": [
    "template = \"input/MAX_PDMCS_individuals.xlsx\"\n",
    "created_by = \"0000-0002-0736-9199\""
   ]
  },
  {
   "cell_type": "code",
   "execution_count": 7,
   "metadata": {},
   "outputs": [
    {
     "name": "stdout",
     "output_type": "stream",
     "text": [
      "HPO version 2024-04-26\n",
      "Created encoders for 36 fields\n",
      "Importing OMIM:620712, Polydactyly-macrocephaly syndrome, HGNC:6913, MAX,  NM_002382.5\n",
      "[INFO] encoding variant \"c.179G>A\"\n",
      "https://rest.variantvalidator.org/VariantValidator/variantvalidator/hg38/NM_002382.5%3Ac.179G>A/NM_002382.5?content-type=application%2Fjson\n",
      "We output 3 GA4GH phenopackets to the directory phenopackets\n"
     ]
    }
   ],
   "source": [
    "timporter = TemplateImporter(template=template,  created_by=created_by)\n",
    "individual_list, cvalidator = timporter.import_phenopackets_from_template()"
   ]
  },
  {
   "cell_type": "code",
   "execution_count": 8,
   "metadata": {},
   "outputs": [
    {
     "data": {
      "text/html": [
       "<h2>Cohort validation</h2>\n",
       "<p>Errors found with 2 of 3 phenopackets.</p>\n",
       "<table style=\"border: 2px solid black; align: \"left\">\n",
       "<caption>Error counts</caption>\n",
       "<tr><th style=\"text-align: left;font-weight: bold;\">Level</th><th style=\"text-align: left;font-weight: bold;\">Error category</th><th style=\"text-align: left;font-weight: bold;\">Count</th></tr>\n",
       "<tr><td style=\"text-align: left;\">ERROR</td><td style=\"text-align: left;\">CONFLICT</td><td style=\"text-align: left;\">1</td></tr>\n",
       "<tr><td style=\"text-align: left;\">WARNING</td><td style=\"text-align: left;\">REDUNDANT</td><td style=\"text-align: left;\">1</td></tr>\n",
       "</table>\n",
       "<p>A total of 2 issues were fixed and no individual was removed from the cohort.</p>"
      ],
      "text/plain": [
       "<IPython.core.display.HTML object>"
      ]
     },
     "metadata": {},
     "output_type": "display_data"
    }
   ],
   "source": [
    "qc = QcVisualizer(cohort_validator=cvalidator)\n",
    "display(HTML(qc.to_summary_html()))"
   ]
  },
  {
   "cell_type": "code",
   "execution_count": 9,
   "metadata": {},
   "outputs": [
    {
     "data": {
      "text/html": [
       "<table style=\"border: 2px solid black; align: \"left\">\n",
       "<caption>3 phenopackets - PMID:38141607 (n=3)</caption>\n",
       "<tr><th style=\"text-align: left;font-weight: bold;\">Individual</th><th style=\"text-align: left;font-weight: bold;\">Disease</th><th style=\"text-align: left;font-weight: bold;\">Genotype</th><th style=\"text-align: left;font-weight: bold;\">Phenotypic features</th></tr>\n",
       "<tr><td style=\"text-align: left;\">Individuals 1 (P1-DDD:304967) (MALE; P7Y)</td><td style=\"text-align: left;\">Polydactyly-macrocephaly syndrome (OMIM:620712)</td><td style=\"text-align: left;\">NM_002382.5:c.179G>A (heterozygous)</td><td style=\"text-align: left;\"><b>P7Y</b>: Macrocephaly (HP:0000256)<br/>Postaxial hand polydactyly (HP:0001162); Postaxial foot polydactyly (HP:0001830); Autistic behavior (HP:0000729); Ventriculomegaly (HP:0002119); Cataract (HP:0000518); Chorioretinal coloboma (HP:0000567); Microphthalmia (HP:0000568); Exudative retinopathy (HP:0007898); Patent foramen ovale (HP:0001655); Pectus carinatum (HP:0000768); excluded: Global developmental delay (HP:0001263); excluded: Perianal abscess (HP:0009789); excluded: Hypospadias (HP:0000047); excluded: Renal agenesis (HP:0000104); excluded: Single umbilical artery (HP:0001195); excluded: Thoracic platyspondyly (HP:0004592)</td></tr>\n",
       "<tr><td style=\"text-align: left;\">Individuals 2 (P2-DDD:303133) (MALE; P9Y11M)</td><td style=\"text-align: left;\">Polydactyly-macrocephaly syndrome (OMIM:620712)</td><td style=\"text-align: left;\">NM_002382.5:c.179G>A (heterozygous)</td><td style=\"text-align: left;\"><b>P2Y6M</b>: Macrocephaly (HP:0000256)<br/><b>P4Y</b>: Perianal abscess (HP:0009789)<br/>Postaxial hand polydactyly (HP:0001162); Postaxial foot polydactyly (HP:0001830); Autistic behavior (HP:0000729); Global developmental delay (HP:0001263); excluded: Ventriculomegaly (HP:0002119); excluded: Cataract (HP:0000518); excluded: Chorioretinal coloboma (HP:0000567); excluded: Microphthalmia (HP:0000568); excluded: Exudative retinopathy (HP:0007898); excluded: Patent foramen ovale (HP:0001655); excluded: Pectus carinatum (HP:0000768); excluded: Hypospadias (HP:0000047); excluded: Renal agenesis (HP:0000104); excluded: Single umbilical artery (HP:0001195); excluded: Thoracic platyspondyly (HP:0004592)</td></tr>\n",
       "<tr><td style=\"text-align: left;\">Individuals 3 (P3) (MALE; P1D)</td><td style=\"text-align: left;\">Polydactyly-macrocephaly syndrome (OMIM:620712)</td><td style=\"text-align: left;\">NM_002382.5:c.179G>A (heterozygous)</td><td style=\"text-align: left;\">Postaxial hand polydactyly (HP:0001162); Postaxial foot polydactyly (HP:0001830); Renal agenesis (HP:0000104); Single umbilical artery (HP:0001195); Thoracic platyspondyly (HP:0004592); Atrial septal defect (HP:0001631); Hypospadias (HP:0000047); excluded: Ventriculomegaly (HP:0002119); excluded: Macrocephaly (HP:0000256); excluded: Patent foramen ovale (HP:0001655); excluded: Pectus carinatum (HP:0000768); excluded: Perianal abscess (HP:0009789)</td></tr>\n",
       "</table>"
      ],
      "text/plain": [
       "<IPython.core.display.HTML object>"
      ]
     },
     "metadata": {},
     "output_type": "display_data"
    }
   ],
   "source": [
    "table = IndividualTable(cvalidator.get_error_free_individual_list())\n",
    "display(HTML(table.to_html()))"
   ]
  },
  {
   "cell_type": "code",
   "execution_count": 10,
   "metadata": {},
   "outputs": [
    {
     "name": "stdout",
     "output_type": "stream",
     "text": [
      "[pyphetools] Ingested 3 GA4GH phenopackets.\n",
      "\tPolydactyly-macrocephaly syndrome (OMIM:620712): n=3\n",
      "We found a total of 18 unique HPO terms\n",
      "Extracted disease: Polydactyly-macrocephaly syndrome (OMIM:620712)\n",
      "Wrote HPOA disease file to OMIM-620712.tab\n"
     ]
    }
   ],
   "source": [
    "pmid = \"PMID:38141607\"\n",
    "df = timporter.create_hpoa_from_phenopackets(pmid=pmid, moi=\"Autosomal dominant\")"
   ]
  }
 ],
 "metadata": {
  "kernelspec": {
   "display_name": "ps24venv",
   "language": "python",
   "name": "python3"
  },
  "language_info": {
   "codemirror_mode": {
    "name": "ipython",
    "version": 3
   },
   "file_extension": ".py",
   "mimetype": "text/x-python",
   "name": "python",
   "nbconvert_exporter": "python",
   "pygments_lexer": "ipython3",
   "version": "3.9.6"
  }
 },
 "nbformat": 4,
 "nbformat_minor": 2
}
