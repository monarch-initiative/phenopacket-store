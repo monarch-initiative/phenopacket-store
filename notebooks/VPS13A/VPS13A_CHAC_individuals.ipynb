{
 "cells": [
  {
   "cell_type": "markdown",
   "metadata": {},
   "source": [
    "# VPS13A\n",
    "[choreoacanthocytosis (CHAC)](https://omim.org/entry/200150) is caused by homozygous or compound heterozygous mutation in the VPS13A gene."
   ]
  },
  {
   "cell_type": "code",
   "execution_count": 4,
   "metadata": {},
   "outputs": [
    {
     "name": "stdout",
     "output_type": "stream",
     "text": [
      "Using pyphetools version 0.9.91\n"
     ]
    }
   ],
   "source": [
    "from pyphetools.creation import TemplateImporter\n",
    "from pyphetools.visualization import IndividualTable, QcVisualizer\n",
    "from IPython.display import display, HTML\n",
    "import pyphetools\n",
    "print(f\"Using pyphetools version {pyphetools.__version__}\")"
   ]
  },
  {
   "cell_type": "code",
   "execution_count": 5,
   "metadata": {},
   "outputs": [],
   "source": [
    "template = \"input/VPS13A_CHAC_individuals.xlsx\"\n",
    "created_by = \"0000-0002-0736-9199\""
   ]
  },
  {
   "cell_type": "code",
   "execution_count": 8,
   "metadata": {},
   "outputs": [
    {
     "name": "stdout",
     "output_type": "stream",
     "text": [
      "HPO version 2024-04-26\n",
      "Created encoders for 51 fields\n",
      "Importing OMIM:200150, Choreoacanthocytosis, HGNC:1908, VPS13A,  NM_033305.3\n",
      "We output 2 GA4GH phenopackets to the directory phenopackets\n"
     ]
    }
   ],
   "source": [
    "timporter = TemplateImporter(template=template,  created_by=created_by)\n",
    "individual_list, cvalidator = timporter.import_phenopackets_from_template()"
   ]
  },
  {
   "cell_type": "code",
   "execution_count": 9,
   "metadata": {},
   "outputs": [
    {
     "data": {
      "text/html": [
       "<h2>Cohort validation</h2>\n",
       "<p>No errors found for the cohort with 2 individuals</p>"
      ],
      "text/plain": [
       "<IPython.core.display.HTML object>"
      ]
     },
     "metadata": {},
     "output_type": "display_data"
    }
   ],
   "source": [
    "qc = QcVisualizer(cohort_validator=cvalidator)\n",
    "display(HTML(qc.to_summary_html()))"
   ]
  },
  {
   "cell_type": "code",
   "execution_count": 10,
   "metadata": {},
   "outputs": [
    {
     "data": {
      "text/html": [
       "<table style=\"border: 2px solid black; align: \"left\">\n",
       "<caption>2 phenopackets - PMID:28446873 (n=2)</caption>\n",
       "<tr><th style=\"text-align: left;font-weight: bold;\">Individual</th><th style=\"text-align: left;font-weight: bold;\">Disease</th><th style=\"text-align: left;font-weight: bold;\">Genotype</th><th style=\"text-align: left;font-weight: bold;\">Phenotypic features</th></tr>\n",
       "<tr><td style=\"text-align: left;\">Case 1 (MALE; P37Y)</td><td style=\"text-align: left;\">Choreoacanthocytosis (OMIM:200150)</td><td style=\"text-align: left;\"><ul> <li>NM_033305.3:c.8282C>G (heterozygous)</li> <li>NM_033305.3:c.9276-1G>A (heterozygous)</li> </ul></td><td style=\"text-align: left;\"><b>P30Y</b>: Bilateral tonic-clonic seizure (HP:0002069)<br/><b>P37Y</b>: Areflexia (HP:0001284); Depression (HP:0000716); Apathy (HP:0000741); Caudate atrophy (HP:0002340); Lateral ventricle dilatation (HP:0006956); Orofacial dyskinesia (HP:0002310); Chorea (HP:0002072); Peripheral axonal neuropathy (HP:0003477); Increased circulating lactate dehydrogenase concentration (HP:0025435); Elevated circulating creatine kinase concentration (HP:0003236)<br/>excluded: Anxiety (HP:0000739); excluded: Hyporeflexia (HP:0001265)</td></tr>\n",
       "<tr><td style=\"text-align: left;\">Case 2 (FEMALE; P45Y)</td><td style=\"text-align: left;\">Choreoacanthocytosis (OMIM:200150)</td><td style=\"text-align: left;\"><ul> <li>NM_033305.3:c.7280_7284del (heterozygous)</li> <li>NM_033305.3:c.8278C>T (heterozygous)</li> </ul></td><td style=\"text-align: left;\"><b>P45Y</b>: Dysphagia (HP:0002015); Dysarthria (HP:0001260); Apathy (HP:0000741); Anxiety (HP:0000739); Self-mutilation of tongue and lips due to involuntary movements (HP:0008767); Caudate atrophy (HP:0002340); Lateral ventricle dilatation (HP:0006956); Hypotonia (HP:0001252); Hyporeflexia (HP:0001265); Orofacial dyskinesia (HP:0002310); Chorea (HP:0002072); Peripheral axonal neuropathy (HP:0003477); Bruxism (HP:0003763); Acanthocytosis (HP:0001927)<br/>excluded: Bilateral tonic-clonic seizure (HP:0002069); excluded: Areflexia (HP:0001284); excluded: Depression (HP:0000716); excluded: Increased circulating lactate dehydrogenase concentration (HP:0025435); excluded: Elevated circulating creatine kinase concentration (HP:0003236)</td></tr>\n",
       "</table>"
      ],
      "text/plain": [
       "<IPython.core.display.HTML object>"
      ]
     },
     "metadata": {},
     "output_type": "display_data"
    }
   ],
   "source": [
    "table = IndividualTable(cvalidator.get_error_free_individual_list())\n",
    "display(HTML(table.to_html()))"
   ]
  },
  {
   "cell_type": "code",
   "execution_count": 11,
   "metadata": {},
   "outputs": [
    {
     "name": "stdout",
     "output_type": "stream",
     "text": [
      "[pyphetools] Ingested 2 GA4GH phenopackets.\n",
      "[INFO] Extracted 2 from 2 phenopackets with OMIM:200150\n",
      "\n",
      "\tChoreoacanthocytosis (OMIM:200150): n=2\n",
      "We found a total of 19 unique HPO terms\n",
      "Extracted disease: Choreoacanthocytosis (OMIM:200150)\n",
      "Wrote HPOA disease file to OMIM-200150.tab\n"
     ]
    }
   ],
   "source": [
    "pmid = \"PMID:28446873\"\n",
    "df = timporter.create_hpoa_from_phenopackets(pmid=pmid, moi=\"Autosomal recessive\", target=\"OMIM:200150\")"
   ]
  }
 ],
 "metadata": {
  "kernelspec": {
   "display_name": "ps24venv",
   "language": "python",
   "name": "python3"
  },
  "language_info": {
   "codemirror_mode": {
    "name": "ipython",
    "version": 3
   },
   "file_extension": ".py",
   "mimetype": "text/x-python",
   "name": "python",
   "nbconvert_exporter": "python",
   "pygments_lexer": "ipython3",
   "version": "3.9.6"
  }
 },
 "nbformat": 4,
 "nbformat_minor": 2
}
