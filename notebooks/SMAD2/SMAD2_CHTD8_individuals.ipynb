{
 "cells": [
  {
   "cell_type": "markdown",
   "metadata": {},
   "source": [
    "# SMAD2\n",
    "[congenital heart defects-8 with or without heterotaxy (CHTD8)](https://omim.org/entry/619657)  is caused by heterozygous mutation in the SMAD2"
   ]
  },
  {
   "cell_type": "code",
   "execution_count": 8,
   "metadata": {},
   "outputs": [
    {
     "name": "stdout",
     "output_type": "stream",
     "text": [
      "Using pyphetools version 0.9.108\n"
     ]
    }
   ],
   "source": [
    "from pyphetools.creation import TemplateImporter, Moi\n",
    "from pyphetools.visualization import IndividualTable, QcVisualizer\n",
    "from IPython.display import display, HTML\n",
    "import pyphetools\n",
    "print(f\"Using pyphetools version {pyphetools.__version__}\")"
   ]
  },
  {
   "cell_type": "code",
   "execution_count": 9,
   "metadata": {},
   "outputs": [],
   "source": [
    "template = \"input/SMAD2_CHTD8_individuals.xlsx\"\n",
    "hp_json = \"../hp.json\"\n",
    "created_by = \"0000-0002-0736-9199\""
   ]
  },
  {
   "cell_type": "code",
   "execution_count": 10,
   "metadata": {},
   "outputs": [
    {
     "name": "stdout",
     "output_type": "stream",
     "text": [
      "HPO version 2024-08-13\n",
      "Created encoders for 57 fields\n",
      "ERROR: Error - Malformed HPO id: \\”HP:001077\" (Partial anomalous pulmonary venous return)\n",
      "Importing OMIM:619657, Congenital heart defects, multiple types, 8, with or without heterotaxy, HGNC:6768, SMAD2,  NM_005901.6\n",
      "We output 5 GA4GH phenopackets to the directory phenopackets\n"
     ]
    }
   ],
   "source": [
    "timporter = TemplateImporter(template=template, hp_json=hp_json, created_by=created_by)\n",
    "individual_list, cvalidator = timporter.import_phenopackets_from_template()"
   ]
  },
  {
   "cell_type": "code",
   "execution_count": 11,
   "metadata": {},
   "outputs": [
    {
     "data": {
      "text/html": [
       "<h2>Cohort validation</h2>\n",
       "<p>No errors found for the cohort with 5 individuals</p>"
      ],
      "text/plain": [
       "<IPython.core.display.HTML object>"
      ]
     },
     "metadata": {},
     "output_type": "display_data"
    }
   ],
   "source": [
    "qc = QcVisualizer(cohort_validator=cvalidator)\n",
    "display(HTML(qc.to_summary_html()))"
   ]
  },
  {
   "cell_type": "code",
   "execution_count": 12,
   "metadata": {},
   "outputs": [
    {
     "data": {
      "text/html": [
       "<table style=\"border: 2px solid black; align: \"left\">\n",
       "<caption>5 phenopackets - PMID:23665959 (n=2); PMID:30157302 (n=3)</caption>\n",
       "<tr><th style=\"text-align: left;font-weight: bold;\">Individual</th><th style=\"text-align: left;font-weight: bold;\">Disease</th><th style=\"text-align: left;font-weight: bold;\">Genotype</th><th style=\"text-align: left;font-weight: bold;\">Phenotypic features</th></tr>\n",
       "<tr><td style=\"text-align: left;\">Patient 1-02020 (UNKNOWN)</td><td style=\"text-align: left;\">Congenital heart defects, multiple types, 8, with or without heterotaxy (OMIM:619657)</td><td style=\"text-align: left;\">NM_005901.6:c.784+1G>A (heterozygous)</td><td style=\"text-align: left;\">Asplenia (HP:0001746): onset ; Unbalanced atrioventricular canal defect (HP:0011579): onset ; Atrial septal defect (HP:0001631): onset ; Double outlet right ventricle (HP:0001719): onset ; Dextrotransposition of the great arteries (HP:0031348): onset ; Dextrocardia (HP:0001651): onset ; Pulmonic stenosis (HP:0001642): onset ; excluded: Short stature (HP:0004322): onset ; excluded: Intestinal malrotation (HP:0002566): onset ; excluded: Seizure (HP:0001250): onset ; excluded: Failure to thrive (HP:0001508): onset ; excluded: Mitral atresia (HP:0011560): onset ; excluded: Global developmental delay (HP:0001263): onset ; excluded: Ventricular septal defect (HP:0001629): onset ; excluded: Pulmonary valve atresia (HP:0010882): onset ; excluded: Persistent left superior vena cava (HP:0005301): onset ; excluded: Anomalous pulmonary venous return (HP:0010772): onset ; excluded: Toe syndactyly (HP:0001770): onset </td></tr>\n",
       "<tr><td style=\"text-align: left;\">Patient 1-02621 (UNKNOWN)</td><td style=\"text-align: left;\">Congenital heart defects, multiple types, 8, with or without heterotaxy (OMIM:619657)</td><td style=\"text-align: left;\">NM_005901.6:c.822G>C (heterozygous)</td><td style=\"text-align: left;\">Unbalanced atrioventricular canal defect (HP:0011579): onset ; Intestinal malrotation (HP:0002566): onset ; Atrial septal defect (HP:0001631): onset ; Double outlet right ventricle (HP:0001719): onset ; Dextrotransposition of the great arteries (HP:0031348): onset ; Dextrocardia (HP:0001651): onset ; Persistent left superior vena cava (HP:0005301): onset ; Anomalous pulmonary venous return (HP:0010772): onset ; Pulmonic stenosis (HP:0001642): onset ; Toe syndactyly (HP:0001770): onset ; excluded: Asplenia (HP:0001746): onset ; excluded: Short stature (HP:0004322): onset ; excluded: Seizure (HP:0001250): onset ; excluded: Failure to thrive (HP:0001508): onset ; excluded: Mitral atresia (HP:0011560): onset ; excluded: Ventricular septal defect (HP:0001629): onset ; excluded: Pulmonary valve atresia (HP:0010882): onset </td></tr>\n",
       "<tr><td style=\"text-align: left;\">Patient 1 (FEMALE; P2Y)</td><td style=\"text-align: left;\">Congenital heart defects, multiple types, 8, with or without heterotaxy (OMIM:619657)</td><td style=\"text-align: left;\">NM_005901.6:c.475G>T (heterozygous)</td><td style=\"text-align: left;\">Micrognathia (HP:0000347): onset ; High palate (HP:0000218): onset ; Midface retrusion (HP:0011800): onset ; Broad forehead (HP:0000337): onset ; Low-set ears (HP:0000369): onset ; Posteriorly rotated ears (HP:0000358): onset ; Short nose (HP:0003196): onset ; Depressed nasal bridge (HP:0005280): onset ; Short stature (HP:0004322): onset ; Dental crowding (HP:0000678): onset ; Single transverse palmar crease (HP:0000954): onset ; Laryngomalacia (HP:0001601): onset ; Failure to thrive (HP:0001508): onset ; Global developmental delay (HP:0001263): onset ; Patent ductus arteriosus (HP:0001643): onset ; Meckel diverticulum (HP:0002245): onset ; Lateral ventricle dilatation (HP:0006956): onset ; Anterior pituitary hypoplasia (HP:0010627): onset ; Ectopic posterior pituitary (HP:0011755): onset ; Solitary median maxillary central incisor (HP:0006315): onset ; excluded: Asplenia (HP:0001746): onset ; excluded: Unbalanced atrioventricular canal defect (HP:0011579): onset ; excluded: Intestinal malrotation (HP:0002566): onset ; excluded: Seizure (HP:0001250): onset ; excluded: Dextrocardia (HP:0001651): onset ; excluded: Persistent left superior vena cava (HP:0005301): onset ; excluded: Anomalous pulmonary venous return (HP:0010772): onset ; excluded: Abdominal situs ambiguus (HP:0031565): onset <br/><b>TimeElement(element=OntologyClass(id=HP:0003577, label=Congenital onset))</b>: Atrial septal defect (HP:0001631): onset ontology_class {\n",
       "  id: \"HP:0003577\"\n",
       "  label: \"Congenital onset\"\n",
       "}\n",
       "; Mitral atresia (HP:0011560): onset ontology_class {\n",
       "  id: \"HP:0003577\"\n",
       "  label: \"Congenital onset\"\n",
       "}\n",
       "; Double outlet right ventricle (HP:0001719): onset ontology_class {\n",
       "  id: \"HP:0003577\"\n",
       "  label: \"Congenital onset\"\n",
       "}\n",
       "; Ventricular septal defect (HP:0001629): onset ontology_class {\n",
       "  id: \"HP:0003577\"\n",
       "  label: \"Congenital onset\"\n",
       "}\n",
       "; Dextrotransposition of the great arteries (HP:0031348): onset ontology_class {\n",
       "  id: \"HP:0003577\"\n",
       "  label: \"Congenital onset\"\n",
       "}\n",
       "; Pulmonary valve atresia (HP:0010882): onset ontology_class {\n",
       "  id: \"HP:0003577\"\n",
       "  label: \"Congenital onset\"\n",
       "}\n",
       "</td></tr>\n",
       "<tr><td style=\"text-align: left;\">Patient 2 (FEMALE; P10Y)</td><td style=\"text-align: left;\">Congenital heart defects, multiple types, 8, with or without heterotaxy (OMIM:619657)</td><td style=\"text-align: left;\">NM_005901.6:c.935G>C (heterozygous)</td><td style=\"text-align: left;\">High palate (HP:0000218): onset ; Midface retrusion (HP:0011800): onset ; Short stature (HP:0004322): onset ; Seizure (HP:0001250): onset ; Failure to thrive (HP:0001508): onset ; Global developmental delay (HP:0001263): onset ; excluded: Micrognathia (HP:0000347): onset ; excluded: Broad forehead (HP:0000337): onset ; excluded: Low-set ears (HP:0000369): onset ; excluded: Posteriorly rotated ears (HP:0000358): onset ; excluded: Short nose (HP:0003196): onset ; excluded: Depressed nasal bridge (HP:0005280): onset ; excluded: Asplenia (HP:0001746): onset ; excluded: Unbalanced atrioventricular canal defect (HP:0011579): onset ; excluded: Dental crowding (HP:0000678): onset ; excluded: Intestinal malrotation (HP:0002566): onset ; excluded: Single transverse palmar crease (HP:0000954): onset ; excluded: Laryngomalacia (HP:0001601): onset ; excluded: Mitral atresia (HP:0011560): onset ; excluded: Dextrotransposition of the great arteries (HP:0031348): onset ; excluded: Pulmonary valve atresia (HP:0010882): onset ; excluded: Dextrocardia (HP:0001651): onset ; excluded: Persistent left superior vena cava (HP:0005301): onset ; excluded: Anomalous pulmonary venous return (HP:0010772): onset ; excluded: Abdominal situs ambiguus (HP:0031565): onset <br/><b>TimeElement(element=OntologyClass(id=HP:0003577, label=Congenital onset))</b>: Atrial septal defect (HP:0001631): onset ontology_class {\n",
       "  id: \"HP:0003577\"\n",
       "  label: \"Congenital onset\"\n",
       "}\n",
       "; Patent ductus arteriosus (HP:0001643): onset ontology_class {\n",
       "  id: \"HP:0003577\"\n",
       "  label: \"Congenital onset\"\n",
       "}\n",
       "; Double outlet right ventricle (HP:0001719): onset ontology_class {\n",
       "  id: \"HP:0003577\"\n",
       "  label: \"Congenital onset\"\n",
       "}\n",
       "; Ventricular septal defect (HP:0001629): onset ontology_class {\n",
       "  id: \"HP:0003577\"\n",
       "  label: \"Congenital onset\"\n",
       "}\n",
       "</td></tr>\n",
       "<tr><td style=\"text-align: left;\">Patient 3 (FEMALE)</td><td style=\"text-align: left;\">Congenital heart defects, multiple types, 8, with or without heterotaxy (OMIM:619657)</td><td style=\"text-align: left;\">NM_005901.6:c.237-12A>G (heterozygous)</td><td style=\"text-align: left;\"><b>TimeElement(element=OntologyClass(id=HP:0011461, label=Fetal onset))</b>: Unbalanced atrioventricular canal defect (HP:0011579): onset ontology_class {\n",
       "  id: \"HP:0011461\"\n",
       "  label: \"Fetal onset\"\n",
       "}\n",
       "; Atrial septal defect (HP:0001631): onset ontology_class {\n",
       "  id: \"HP:0011461\"\n",
       "  label: \"Fetal onset\"\n",
       "}\n",
       "; Ventricular septal defect (HP:0001629): onset ontology_class {\n",
       "  id: \"HP:0011461\"\n",
       "  label: \"Fetal onset\"\n",
       "}\n",
       "; Dextrocardia (HP:0001651): onset ontology_class {\n",
       "  id: \"HP:0011461\"\n",
       "  label: \"Fetal onset\"\n",
       "}\n",
       "; Anomalous pulmonary venous return (HP:0010772): onset ontology_class {\n",
       "  id: \"HP:0011461\"\n",
       "  label: \"Fetal onset\"\n",
       "}\n",
       "; Truncus arteriosus (HP:0001660): onset ontology_class {\n",
       "  id: \"HP:0011461\"\n",
       "  label: \"Fetal onset\"\n",
       "}\n",
       "<br/>Abdominal situs ambiguus (HP:0031565): onset ; excluded: Micrognathia (HP:0000347): onset ; excluded: High palate (HP:0000218): onset ; excluded: Midface retrusion (HP:0011800): onset ; excluded: Broad forehead (HP:0000337): onset ; excluded: Low-set ears (HP:0000369): onset ; excluded: Posteriorly rotated ears (HP:0000358): onset ; excluded: Short nose (HP:0003196): onset ; excluded: Depressed nasal bridge (HP:0005280): onset ; excluded: Intestinal malrotation (HP:0002566): onset ; excluded: Mitral atresia (HP:0011560): onset ; excluded: Double outlet right ventricle (HP:0001719): onset ; excluded: Dextrotransposition of the great arteries (HP:0031348): onset ; excluded: Pulmonary valve atresia (HP:0010882): onset ; excluded: Persistent left superior vena cava (HP:0005301): onset </td></tr>\n",
       "</table>"
      ],
      "text/plain": [
       "<IPython.core.display.HTML object>"
      ]
     },
     "metadata": {},
     "output_type": "display_data"
    }
   ],
   "source": [
    "table = IndividualTable(cvalidator.get_error_free_individual_list())\n",
    "display(HTML(table.to_html()))"
   ]
  },
  {
   "cell_type": "code",
   "execution_count": 13,
   "metadata": {},
   "outputs": [
    {
     "name": "stdout",
     "output_type": "stream",
     "text": [
      "[pyphetools] Ingested 23 GA4GH phenopackets.\n",
      "[INFO] Extracted 5 from 23 phenopackets with OMIM:619657\n",
      "\n",
      "\tCongenital heart defects, multiple types, 8, with or without heterotaxy (OMIM:619657): n=5\n",
      "We found a total of 37 unique HPO terms\n",
      "Extracted disease: Congenital heart defects, multiple types, 8, with or without heterotaxy (OMIM:619657)\n",
      "Wrote HPOA disease file to OMIM-619657.tab\n"
     ]
    },
    {
     "data": {
      "text/html": [
       "<div>\n",
       "<style scoped>\n",
       "    .dataframe tbody tr th:only-of-type {\n",
       "        vertical-align: middle;\n",
       "    }\n",
       "\n",
       "    .dataframe tbody tr th {\n",
       "        vertical-align: top;\n",
       "    }\n",
       "\n",
       "    .dataframe thead th {\n",
       "        text-align: right;\n",
       "    }\n",
       "</style>\n",
       "<table border=\"1\" class=\"dataframe\">\n",
       "  <thead>\n",
       "    <tr style=\"text-align: right;\">\n",
       "      <th></th>\n",
       "      <th>#diseaseID</th>\n",
       "      <th>diseaseName</th>\n",
       "      <th>phenotypeID</th>\n",
       "      <th>phenotypeName</th>\n",
       "      <th>onsetID</th>\n",
       "      <th>onsetName</th>\n",
       "      <th>frequency</th>\n",
       "      <th>sex</th>\n",
       "      <th>negation</th>\n",
       "      <th>modifier</th>\n",
       "      <th>description</th>\n",
       "      <th>publication</th>\n",
       "      <th>evidence</th>\n",
       "      <th>biocuration</th>\n",
       "    </tr>\n",
       "  </thead>\n",
       "  <tbody>\n",
       "    <tr>\n",
       "      <th>0</th>\n",
       "      <td>OMIM:619657</td>\n",
       "      <td>Congenital heart defects, multiple types, 8, w...</td>\n",
       "      <td>HP:0011579</td>\n",
       "      <td>Unbalanced atrioventricular canal defect</td>\n",
       "      <td></td>\n",
       "      <td></td>\n",
       "      <td>2/2</td>\n",
       "      <td></td>\n",
       "      <td></td>\n",
       "      <td></td>\n",
       "      <td></td>\n",
       "      <td>PMID:23665959</td>\n",
       "      <td>PCS</td>\n",
       "      <td>ORCID:0000-0002-0736-9199[2024-10-04]</td>\n",
       "    </tr>\n",
       "    <tr>\n",
       "      <th>1</th>\n",
       "      <td>OMIM:619657</td>\n",
       "      <td>Congenital heart defects, multiple types, 8, w...</td>\n",
       "      <td>HP:0002566</td>\n",
       "      <td>Intestinal malrotation</td>\n",
       "      <td></td>\n",
       "      <td></td>\n",
       "      <td>1/2</td>\n",
       "      <td></td>\n",
       "      <td></td>\n",
       "      <td></td>\n",
       "      <td></td>\n",
       "      <td>PMID:23665959</td>\n",
       "      <td>PCS</td>\n",
       "      <td>ORCID:0000-0002-0736-9199[2024-10-04]</td>\n",
       "    </tr>\n",
       "    <tr>\n",
       "      <th>2</th>\n",
       "      <td>OMIM:619657</td>\n",
       "      <td>Congenital heart defects, multiple types, 8, w...</td>\n",
       "      <td>HP:0001631</td>\n",
       "      <td>Atrial septal defect</td>\n",
       "      <td></td>\n",
       "      <td></td>\n",
       "      <td>2/2</td>\n",
       "      <td></td>\n",
       "      <td></td>\n",
       "      <td></td>\n",
       "      <td></td>\n",
       "      <td>PMID:23665959</td>\n",
       "      <td>PCS</td>\n",
       "      <td>ORCID:0000-0002-0736-9199[2024-10-04]</td>\n",
       "    </tr>\n",
       "    <tr>\n",
       "      <th>3</th>\n",
       "      <td>OMIM:619657</td>\n",
       "      <td>Congenital heart defects, multiple types, 8, w...</td>\n",
       "      <td>HP:0001719</td>\n",
       "      <td>Double outlet right ventricle</td>\n",
       "      <td></td>\n",
       "      <td></td>\n",
       "      <td>2/2</td>\n",
       "      <td></td>\n",
       "      <td></td>\n",
       "      <td></td>\n",
       "      <td></td>\n",
       "      <td>PMID:23665959</td>\n",
       "      <td>PCS</td>\n",
       "      <td>ORCID:0000-0002-0736-9199[2024-10-04]</td>\n",
       "    </tr>\n",
       "    <tr>\n",
       "      <th>4</th>\n",
       "      <td>OMIM:619657</td>\n",
       "      <td>Congenital heart defects, multiple types, 8, w...</td>\n",
       "      <td>HP:0031348</td>\n",
       "      <td>Dextrotransposition of the great arteries</td>\n",
       "      <td></td>\n",
       "      <td></td>\n",
       "      <td>2/2</td>\n",
       "      <td></td>\n",
       "      <td></td>\n",
       "      <td></td>\n",
       "      <td></td>\n",
       "      <td>PMID:23665959</td>\n",
       "      <td>PCS</td>\n",
       "      <td>ORCID:0000-0002-0736-9199[2024-10-04]</td>\n",
       "    </tr>\n",
       "  </tbody>\n",
       "</table>\n",
       "</div>"
      ],
      "text/plain": [
       "    #diseaseID                                        diseaseName phenotypeID  \\\n",
       "0  OMIM:619657  Congenital heart defects, multiple types, 8, w...  HP:0011579   \n",
       "1  OMIM:619657  Congenital heart defects, multiple types, 8, w...  HP:0002566   \n",
       "2  OMIM:619657  Congenital heart defects, multiple types, 8, w...  HP:0001631   \n",
       "3  OMIM:619657  Congenital heart defects, multiple types, 8, w...  HP:0001719   \n",
       "4  OMIM:619657  Congenital heart defects, multiple types, 8, w...  HP:0031348   \n",
       "\n",
       "                               phenotypeName onsetID onsetName frequency sex  \\\n",
       "0   Unbalanced atrioventricular canal defect                         2/2       \n",
       "1                     Intestinal malrotation                         1/2       \n",
       "2                       Atrial septal defect                         2/2       \n",
       "3              Double outlet right ventricle                         2/2       \n",
       "4  Dextrotransposition of the great arteries                         2/2       \n",
       "\n",
       "  negation modifier description    publication evidence  \\\n",
       "0                                PMID:23665959      PCS   \n",
       "1                                PMID:23665959      PCS   \n",
       "2                                PMID:23665959      PCS   \n",
       "3                                PMID:23665959      PCS   \n",
       "4                                PMID:23665959      PCS   \n",
       "\n",
       "                             biocuration  \n",
       "0  ORCID:0000-0002-0736-9199[2024-10-04]  \n",
       "1  ORCID:0000-0002-0736-9199[2024-10-04]  \n",
       "2  ORCID:0000-0002-0736-9199[2024-10-04]  \n",
       "3  ORCID:0000-0002-0736-9199[2024-10-04]  \n",
       "4  ORCID:0000-0002-0736-9199[2024-10-04]  "
      ]
     },
     "execution_count": 13,
     "metadata": {},
     "output_type": "execute_result"
    }
   ],
   "source": [
    "pmid = \"PMID:26247899\"\n",
    "df = timporter.create_hpoa_from_phenopackets(pmid=pmid, mode_of_inheritance=Moi.AD, target=\"OMIM:619657\")\n",
    "df.head()"
   ]
  }
 ],
 "metadata": {
  "kernelspec": {
   "display_name": "ps24venv",
   "language": "python",
   "name": "python3"
  },
  "language_info": {
   "codemirror_mode": {
    "name": "ipython",
    "version": 3
   },
   "file_extension": ".py",
   "mimetype": "text/x-python",
   "name": "python",
   "nbconvert_exporter": "python",
   "pygments_lexer": "ipython3",
   "version": "3.12.4"
  }
 },
 "nbformat": 4,
 "nbformat_minor": 2
}
