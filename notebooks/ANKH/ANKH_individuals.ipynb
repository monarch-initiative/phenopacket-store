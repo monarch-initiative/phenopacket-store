{
 "cells": [
  {
   "cell_type": "markdown",
   "id": "b2d3deaf-9d6b-4c2e-b467-e4fde14028f2",
   "metadata": {},
   "source": [
    "# ANKH\n",
    "\n",
    "Several case reports with variants in ANKH"
   ]
  },
  {
   "cell_type": "code",
   "execution_count": 1,
   "id": "206b80c3-5864-474f-a608-d8297aa2626a",
   "metadata": {},
   "outputs": [
    {
     "name": "stdout",
     "output_type": "stream",
     "text": [
      "Using pyphetools version 0.9.53\n"
     ]
    }
   ],
   "source": [
    "import pandas as pd\n",
    "from IPython.display import display, HTML\n",
    "pd.set_option('display.max_colwidth', None) # show entire column contents, important!\n",
    "from collections import defaultdict\n",
    "from pyphetools.creation import *\n",
    "from pyphetools.visualization import *\n",
    "from pyphetools.validation import *\n",
    "import pyphetools\n",
    "print(f\"Using pyphetools version {pyphetools.__version__}\")"
   ]
  },
  {
   "cell_type": "code",
   "execution_count": 2,
   "id": "7addfc5b-a1d6-450e-9742-9e0221f6f592",
   "metadata": {},
   "outputs": [
    {
     "name": "stdout",
     "output_type": "stream",
     "text": [
      "HPO version 2024-02-27\n"
     ]
    }
   ],
   "source": [
    "parser = HpoParser(hpo_json_file=\"../hp.json\")\n",
    "hpo_cr = parser.get_hpo_concept_recognizer()\n",
    "hpo_version = parser.get_version()\n",
    "hpo_ontology = parser.get_ontology()\n",
    "created_by=\"ORCID:0000-0002-0736-9199\"\n",
    "print(f\"HPO version {hpo_version}\")"
   ]
  },
  {
   "cell_type": "code",
   "execution_count": 3,
   "id": "fee28e55-d4b5-4929-81b5-444977a028e1",
   "metadata": {},
   "outputs": [
    {
     "data": {
      "text/html": [
       "<div>\n",
       "<style scoped>\n",
       "    .dataframe tbody tr th:only-of-type {\n",
       "        vertical-align: middle;\n",
       "    }\n",
       "\n",
       "    .dataframe tbody tr th {\n",
       "        vertical-align: top;\n",
       "    }\n",
       "\n",
       "    .dataframe thead th {\n",
       "        text-align: right;\n",
       "    }\n",
       "</style>\n",
       "<table border=\"1\" class=\"dataframe\">\n",
       "  <thead>\n",
       "    <tr style=\"text-align: right;\">\n",
       "      <th></th>\n",
       "      <th>PMID</th>\n",
       "      <th>title</th>\n",
       "      <th>individual_id</th>\n",
       "      <th>comment</th>\n",
       "      <th>disease_id</th>\n",
       "      <th>disease_label</th>\n",
       "      <th>transcript</th>\n",
       "      <th>allele_1</th>\n",
       "      <th>allele_2</th>\n",
       "      <th>variant.comment</th>\n",
       "      <th>...</th>\n",
       "      <th>Polyarticular arthropathy</th>\n",
       "      <th>Polyarticular chondrocalcinosis</th>\n",
       "      <th>Elevated circulating parathyroid hormone level</th>\n",
       "      <th>Hypercalciuria</th>\n",
       "      <th>Hyperphosphaturia</th>\n",
       "      <th>Secondary hyperparathyroidism</th>\n",
       "      <th>Intervertebral disk calcification</th>\n",
       "      <th>Miscellaneous</th>\n",
       "      <th>Dental crowding</th>\n",
       "      <th>Choanal stenosis</th>\n",
       "    </tr>\n",
       "  </thead>\n",
       "  <tbody>\n",
       "    <tr>\n",
       "      <th>0</th>\n",
       "      <td>str</td>\n",
       "      <td>str</td>\n",
       "      <td>str</td>\n",
       "      <td>optional str</td>\n",
       "      <td>str</td>\n",
       "      <td>str</td>\n",
       "      <td>str</td>\n",
       "      <td>str</td>\n",
       "      <td>str</td>\n",
       "      <td>optional str</td>\n",
       "      <td>...</td>\n",
       "      <td>HP:0005195</td>\n",
       "      <td>HP:0005017</td>\n",
       "      <td>HP:0003165</td>\n",
       "      <td>HP:0002150</td>\n",
       "      <td>HP:0003109</td>\n",
       "      <td>HP:0000867</td>\n",
       "      <td>HP:0005645</td>\n",
       "      <td>Miscellaneous</td>\n",
       "      <td>HP:0000678</td>\n",
       "      <td>HP:0000452</td>\n",
       "    </tr>\n",
       "    <tr>\n",
       "      <th>1</th>\n",
       "      <td>PMID:22150416</td>\n",
       "      <td>Two novel large ANKH deletion mutations in sporadic cases with craniometaphyseal dysplasia</td>\n",
       "      <td>Patient 1</td>\n",
       "      <td>NaN</td>\n",
       "      <td>OMIM:123000</td>\n",
       "      <td>Craniometaphyseal dysplasia</td>\n",
       "      <td>NM_054027.6</td>\n",
       "      <td>c.853_870del</td>\n",
       "      <td>na</td>\n",
       "      <td>NaN</td>\n",
       "      <td>...</td>\n",
       "      <td>NaN</td>\n",
       "      <td>excluded</td>\n",
       "      <td>NaN</td>\n",
       "      <td>NaN</td>\n",
       "      <td>NaN</td>\n",
       "      <td>excluded</td>\n",
       "      <td>excluded</td>\n",
       "      <td>NaN</td>\n",
       "      <td>NaN</td>\n",
       "      <td>NaN</td>\n",
       "    </tr>\n",
       "  </tbody>\n",
       "</table>\n",
       "<p>2 rows × 58 columns</p>\n",
       "</div>"
      ],
      "text/plain": [
       "            PMID  \\\n",
       "0            str   \n",
       "1  PMID:22150416   \n",
       "\n",
       "                                                                                        title  \\\n",
       "0                                                                                         str   \n",
       "1  Two novel large ANKH deletion mutations in sporadic cases with craniometaphyseal dysplasia   \n",
       "\n",
       "  individual_id       comment   disease_id                disease_label  \\\n",
       "0           str  optional str          str                          str   \n",
       "1     Patient 1           NaN  OMIM:123000  Craniometaphyseal dysplasia   \n",
       "\n",
       "    transcript      allele_1 allele_2 variant.comment  ...  \\\n",
       "0          str           str      str    optional str  ...   \n",
       "1  NM_054027.6  c.853_870del       na             NaN  ...   \n",
       "\n",
       "  Polyarticular arthropathy Polyarticular chondrocalcinosis  \\\n",
       "0                HP:0005195                      HP:0005017   \n",
       "1                       NaN                        excluded   \n",
       "\n",
       "  Elevated circulating parathyroid hormone level Hypercalciuria  \\\n",
       "0                                     HP:0003165     HP:0002150   \n",
       "1                                            NaN            NaN   \n",
       "\n",
       "  Hyperphosphaturia Secondary hyperparathyroidism  \\\n",
       "0        HP:0003109                    HP:0000867   \n",
       "1               NaN                      excluded   \n",
       "\n",
       "  Intervertebral disk calcification  Miscellaneous Dental crowding  \\\n",
       "0                        HP:0005645  Miscellaneous      HP:0000678   \n",
       "1                          excluded            NaN             NaN   \n",
       "\n",
       "  Choanal stenosis  \n",
       "0       HP:0000452  \n",
       "1              NaN  \n",
       "\n",
       "[2 rows x 58 columns]"
      ]
     },
     "execution_count": 3,
     "metadata": {},
     "output_type": "execute_result"
    }
   ],
   "source": [
    "df = pd.read_excel(\"input/ANKH_individuals.xlsx\")\n",
    "df.head(2)"
   ]
  },
  {
   "cell_type": "code",
   "execution_count": 4,
   "id": "78b445c2-a18b-4d9c-9765-22a6490120e6",
   "metadata": {},
   "outputs": [
    {
     "name": "stdout",
     "output_type": "stream",
     "text": [
      "Created encoders for 58 fields\n"
     ]
    }
   ],
   "source": [
    "encoder = CaseTemplateEncoder(df=df, hpo_cr=hpo_cr, created_by=created_by)\n",
    "individuals = encoder.get_individuals()"
   ]
  },
  {
   "cell_type": "code",
   "execution_count": 5,
   "id": "1f893a11-e4a6-4230-abcd-b7d5aac64b71",
   "metadata": {},
   "outputs": [],
   "source": [
    "vmanager = VariantManager(df=df,\n",
    "                          individual_column_name=\"individual_id\",\n",
    "                          gene_symbol=\"ANKH\",\n",
    "                          transcript=\"NM_054027.6\",\n",
    "                          allele_1_column_name=\"allele_1\")"
   ]
  },
  {
   "cell_type": "code",
   "execution_count": 6,
   "id": "e60ffcd5-365b-4657-8846-962a34ac2ee3",
   "metadata": {},
   "outputs": [
    {
     "data": {
      "text/html": [
       "<div>\n",
       "<style scoped>\n",
       "    .dataframe tbody tr th:only-of-type {\n",
       "        vertical-align: middle;\n",
       "    }\n",
       "\n",
       "    .dataframe tbody tr th {\n",
       "        vertical-align: top;\n",
       "    }\n",
       "\n",
       "    .dataframe thead th {\n",
       "        text-align: right;\n",
       "    }\n",
       "</style>\n",
       "<table border=\"1\" class=\"dataframe\">\n",
       "  <thead>\n",
       "    <tr style=\"text-align: right;\">\n",
       "      <th></th>\n",
       "      <th>status</th>\n",
       "      <th>count</th>\n",
       "      <th>alleles</th>\n",
       "    </tr>\n",
       "  </thead>\n",
       "  <tbody>\n",
       "    <tr>\n",
       "      <th>0</th>\n",
       "      <td>mapped</td>\n",
       "      <td>7</td>\n",
       "      <td>c.1172T&gt;C, c.13C&gt;T, c.853_870del, c.1178_1189del, c.942_953del, c.1001T&gt;G, c.1015T&gt;C</td>\n",
       "    </tr>\n",
       "    <tr>\n",
       "      <th>1</th>\n",
       "      <td>unmapped</td>\n",
       "      <td>0</td>\n",
       "      <td></td>\n",
       "    </tr>\n",
       "  </tbody>\n",
       "</table>\n",
       "</div>"
      ],
      "text/plain": [
       "     status  count  \\\n",
       "0    mapped      7   \n",
       "1  unmapped      0   \n",
       "\n",
       "                                                                                alleles  \n",
       "0  c.1172T>C, c.13C>T, c.853_870del, c.1178_1189del, c.942_953del, c.1001T>G, c.1015T>C  \n",
       "1                                                                                        "
      ]
     },
     "execution_count": 6,
     "metadata": {},
     "output_type": "execute_result"
    }
   ],
   "source": [
    "vmanager.to_summary()"
   ]
  },
  {
   "cell_type": "code",
   "execution_count": 7,
   "id": "e38dd635-55ff-4240-aaeb-7110a6c3ffbd",
   "metadata": {},
   "outputs": [],
   "source": [
    "vmanager.add_variants_to_individuals(individuals)"
   ]
  },
  {
   "cell_type": "code",
   "execution_count": 8,
   "id": "9a046b5e-c7a7-44ab-8821-0fbc20df6e65",
   "metadata": {},
   "outputs": [
    {
     "data": {
      "text/html": [
       "<h2>Cohort validation</h2>\n",
       "<p>Errors found with 1 of 7 phenopackets.</p>\n",
       "<table style=\"border: 2px solid black; align: \"left\">\n",
       "<caption>Error counts</caption>\n",
       "<tr><th style=\"text-align: left;font-weight: bold;\">Level</th><th style=\"text-align: left;font-weight: bold;\">Error category</th><th style=\"text-align: left;font-weight: bold;\">Count</th></tr>\n",
       "<tr><td style=\"text-align: left;\">WARNING</td><td style=\"text-align: left;\">REDUNDANT</td><td style=\"text-align: left;\">2</td></tr>\n",
       "</table>\n",
       "<p>A total of 2 issues were fixed and no individual was removed from the cohort.</p>"
      ],
      "text/plain": [
       "<IPython.core.display.HTML object>"
      ]
     },
     "metadata": {},
     "output_type": "display_data"
    }
   ],
   "source": [
    "cvalidator = CohortValidator(cohort=individuals, ontology=hpo_ontology, min_hpo=1, allelic_requirement=AllelicRequirement.MONO_ALLELIC)\n",
    "qc = QcVisualizer(cohort_validator=cvalidator)\n",
    "display(HTML(qc.to_summary_html()))"
   ]
  },
  {
   "cell_type": "code",
   "execution_count": 9,
   "id": "b5d0da8c-b58f-41c2-a65f-79321d2ed830",
   "metadata": {},
   "outputs": [
    {
     "data": {
      "text/html": [
       "<table style=\"border: 2px solid black; align: \"left\">\n",
       "<caption>7 phenopackets - PMID:22150416 (n=2); PMID:22647861 (n=1); PMID:20358596 (n=3); PMID:20186813 (n=1)</caption>\n",
       "<tr><th style=\"text-align: left;font-weight: bold;\">Individual</th><th style=\"text-align: left;font-weight: bold;\">Disease</th><th style=\"text-align: left;font-weight: bold;\">Genotype</th><th style=\"text-align: left;font-weight: bold;\">Phenotypic features</th></tr>\n",
       "<tr><td style=\"text-align: left;\">Patient 1 (FEMALE; P2M)</td><td style=\"text-align: left;\">Craniometaphyseal dysplasia (OMIM:123000)</td><td style=\"text-align: left;\">NM_054027.6:c.854_871del (heterozygous)</td><td style=\"text-align: left;\"><b>P2M</b>: Hypophosphatemia (HP:0002148)<br/><b>P8M</b>: Sclerosis of skull base (HP:0002694); Hypercalcemia (HP:0003072)<br/><b>P9M</b>: Hearing impairment (HP:0000365)<br/><b>P10M</b>: Exotropia (HP:0000577); Optic atrophy (HP:0000648); Visual fixation instability (HP:0025405)<br/><b>P1Y</b>: Nystagmus (HP:0000639)<br/><b>P1Y5M</b>: Elevated circulating alkaline phosphatase concentration (HP:0003155); Facial palsy (HP:0010628); Flared metaphysis (HP:0003015); Frontal bossing (HP:0002007); Gingival overgrowth (HP:0000212); Macrocephaly (HP:0000256)<br/>Cranial hyperostosis (HP:0004437); excluded: Hydrocephalus (HP:0000238); excluded: Small foramen magnum (HP:0002677); excluded: Polyarticular chondrocalcinosis (HP:0005017); excluded: Secondary hyperparathyroidism (HP:0000867); excluded: Intervertebral disk calcification (HP:0005645)</td></tr>\n",
       "<tr><td style=\"text-align: left;\">Patient 2 (MALE; P2Y)</td><td style=\"text-align: left;\">Craniometaphyseal dysplasia (OMIM:123000)</td><td style=\"text-align: left;\">NM_054027.6:c.1179_1190del (heterozygous)</td><td style=\"text-align: left;\"><b>P2Y</b>: Hearing impairment (HP:0000365)<br/><b>P5Y</b>: Elevated circulating alkaline phosphatase concentration (HP:0003155); Macrocephaly (HP:0000256); Alveolar ridge overgrowth (HP:0009085); Bony paranasal bossing (HP:0004407); Broad forehead (HP:0000337); Epiblepharon (HP:0011225); Hypertelorism (HP:0000316); Long face (HP:0000276); Low-set ears (HP:0000369); Narrow internal auditory canal (HP:0011386); Posteriorly rotated ears (HP:0000358); Telecanthus (HP:0000506); Thickened calvaria (HP:0002684)<br/>Sclerosis of skull base (HP:0002694); Cranial hyperostosis (HP:0004437); Facial palsy (HP:0010628); Flared metaphysis (HP:0003015); Frontal bossing (HP:0002007); excluded: Hypophosphatemia (HP:0002148); excluded: Hypercalcemia (HP:0003072); excluded: Exotropia (HP:0000577); excluded: Optic atrophy (HP:0000648); excluded: Nystagmus (HP:0000639); excluded: Hydrocephalus (HP:0000238); excluded: Polyarticular chondrocalcinosis (HP:0005017); excluded: Secondary hyperparathyroidism (HP:0000867); excluded: Intervertebral disk calcification (HP:0005645)</td></tr>\n",
       "<tr><td style=\"text-align: left;\">41-year-old woman (FEMALE; )</td><td style=\"text-align: left;\">Chondrocalcinosis 2 (OMIM:118600)</td><td style=\"text-align: left;\">NM_054027.6:c.13C>T (heterozygous)</td><td style=\"text-align: left;\"><b>P22Y</b>: Ankle pain (HP:0030840); Ankle swelling (HP:0001785); Low back pain (HP:0003419); Polyarticular arthropathy (HP:0005195); Polyarticular chondrocalcinosis (HP:0005017)<br/><b>P42Y</b>: Hypophosphatemia (HP:0002148); Elevated circulating parathyroid hormone level (HP:0003165); Hypercalciuria (HP:0002150); Hyperphosphaturia (HP:0003109); Secondary hyperparathyroidism (HP:0000867); Intervertebral disk calcification (HP:0005645)<br/>excluded: Facial palsy (HP:0010628); excluded: Flared metaphysis (HP:0003015); excluded: Frontal bossing (HP:0002007); excluded: Macrocephaly (HP:0000256); excluded: Abnormal circulating calcium concentration (HP:0004363); excluded: Bony paranasal bossing (HP:0004407); excluded: Broad forehead (HP:0000337); excluded: Epiblepharon (HP:0011225); excluded: Hypertelorism (HP:0000316); excluded: Long face (HP:0000276); excluded: Low-set ears (HP:0000369); excluded: Posteriorly rotated ears (HP:0000358); excluded: Telecanthus (HP:0000506); excluded: Thickened calvaria (HP:0002684)</td></tr>\n",
       "<tr><td style=\"text-align: left;\">Patient A (MALE; )</td><td style=\"text-align: left;\">Craniometaphyseal dysplasia (OMIM:123000)</td><td style=\"text-align: left;\">NM_054027.6:c.1015T>C (heterozygous)</td><td style=\"text-align: left;\"><b>P0D</b>: Hypertelorism (HP:0000316)<br/><b>P1Y</b>: Cranial hyperostosis (HP:0004437)<br/><b>P2Y6M</b>: Hearing impairment (HP:0000365)<br/><b>P6Y</b>: Increased circulating osteocalcin level (HP:0031428); Elevated circulating alkaline phosphatase concentration (HP:0003155); Macrocephaly (HP:0000256)<br/>Facial palsy (HP:0010628); Alveolar ridge overgrowth (HP:0009085); Feeding difficulties (HP:0011968); Dental malocclusion (HP:0000689); Dental crowding (HP:0000678); excluded: Choanal stenosis (HP:0000452)</td></tr>\n",
       "<tr><td style=\"text-align: left;\">Patient B (MALE; P2M)</td><td style=\"text-align: left;\">Craniometaphyseal dysplasia (OMIM:123000)</td><td style=\"text-align: left;\">NM_054027.6:c.1172T>C (heterozygous)</td><td style=\"text-align: left;\"><b>P2M</b>: Facial palsy (HP:0010628)<br/><b>P23Y</b>: Sclerosis of skull base (HP:0002694); Hearing impairment (HP:0000365); Cranial hyperostosis (HP:0004437); Optic atrophy (HP:0000648); Flared metaphysis (HP:0003015); Hypertelorism (HP:0000316)<br/>Macrocephaly (HP:0000256); Delayed pneumatization of the mastoid process (HP:0005906); Mandibular prognathia (HP:0000303); Dental crowding (HP:0000678); excluded: Choanal stenosis (HP:0000452)</td></tr>\n",
       "<tr><td style=\"text-align: left;\">```` (MALE; )</td><td style=\"text-align: left;\">Craniometaphyseal dysplasia (OMIM:123000)</td><td style=\"text-align: left;\">NM_054027.6:c.1001T>G (heterozygous)</td><td style=\"text-align: left;\"><b>P2Y</b>: Choanal stenosis (HP:0000452)<br/><b>P14Y</b>: Cranial hyperostosis (HP:0004437)<br/>Bony paranasal bossing (HP:0004407); Hypertelorism (HP:0000316); Dental malocclusion (HP:0000689); Delayed eruption of primary teeth (HP:0000680); Thin bony cortex (HP:0002753); Thickened calvaria (HP:0002684); Tinnitus (HP:0000360)</td></tr>\n",
       "<tr><td style=\"text-align: left;\">6-year-old male (MALE; P6Y)</td><td style=\"text-align: left;\">Craniometaphyseal dysplasia (OMIM:123000)</td><td style=\"text-align: left;\">NM_054027.6:c.942_953del (heterozygous)</td><td style=\"text-align: left;\"><b>P9Y</b>: Sclerosis of skull base (HP:0002694); Thickened calvaria (HP:0002684)<br/>Prominence of the zygomatic bone (HP:0012370); Prominent nasal bridge (HP:0000426); Wide nasal bridge (HP:0000431); Delayed eruption of permanent teeth (HP:0000696); excluded: Hearing impairment (HP:0000365)</td></tr>\n",
       "</table>"
      ],
      "text/plain": [
       "<IPython.core.display.HTML object>"
      ]
     },
     "metadata": {},
     "output_type": "display_data"
    }
   ],
   "source": [
    "individuals = cvalidator.get_error_free_individual_list()\n",
    "table = IndividualTable(individuals)\n",
    "display(HTML(table.to_html()))"
   ]
  },
  {
   "cell_type": "code",
   "execution_count": 10,
   "id": "52dcc280-e70a-48f2-a217-1fbaaf91551b",
   "metadata": {},
   "outputs": [
    {
     "name": "stdout",
     "output_type": "stream",
     "text": [
      "We output 7 GA4GH phenopackets to the directory phenopackets\n"
     ]
    }
   ],
   "source": [
    "encoder.output_individuals_as_phenopackets(individual_list=individuals)"
   ]
  },
  {
   "cell_type": "code",
   "execution_count": null,
   "id": "e74863d6-df36-4bc1-a292-674592298aa9",
   "metadata": {},
   "outputs": [],
   "source": []
  }
 ],
 "metadata": {
  "kernelspec": {
   "display_name": "Python 3 (ipykernel)",
   "language": "python",
   "name": "python3"
  },
  "language_info": {
   "codemirror_mode": {
    "name": "ipython",
    "version": 3
   },
   "file_extension": ".py",
   "mimetype": "text/x-python",
   "name": "python",
   "nbconvert_exporter": "python",
   "pygments_lexer": "ipython3",
   "version": "3.8.10"
  }
 },
 "nbformat": 4,
 "nbformat_minor": 5
}
