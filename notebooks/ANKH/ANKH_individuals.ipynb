{
 "cells": [
  {
   "cell_type": "markdown",
   "id": "b2d3deaf-9d6b-4c2e-b467-e4fde14028f2",
   "metadata": {},
   "source": [
    "# ANKH\n",
    "\n",
    "Several case reports with variants in ANKH"
   ]
  },
  {
   "cell_type": "code",
   "execution_count": 1,
   "id": "206b80c3-5864-474f-a608-d8297aa2626a",
   "metadata": {},
   "outputs": [
    {
     "name": "stdout",
     "output_type": "stream",
     "text": [
      "Using pyphetools version 0.9.97\n"
     ]
    }
   ],
   "source": [
    "from pyphetools.creation import TemplateImporter, Moi\n",
    "from pyphetools.visualization import IndividualTable, QcVisualizer\n",
    "from IPython.display import display, HTML\n",
    "import pyphetools\n",
    "print(f\"Using pyphetools version {pyphetools.__version__}\")"
   ]
  },
  {
   "cell_type": "code",
   "execution_count": 2,
   "id": "7addfc5b-a1d6-450e-9742-9e0221f6f592",
   "metadata": {},
   "outputs": [],
   "source": [
    "template = \"input/ANKH_individuals.xlsx\"\n",
    "created_by = \"0000-0002-0736-9199\""
   ]
  },
  {
   "cell_type": "code",
   "execution_count": 3,
   "id": "fee28e55-d4b5-4929-81b5-444977a028e1",
   "metadata": {},
   "outputs": [
    {
     "name": "stdout",
     "output_type": "stream",
     "text": [
      "HPO version 2024-07-01\n",
      "Created encoders for 60 fields\n",
      "Importing OMIM:118600, Chondrocalcinosis 2, HGNC:15492, ANKH,  NM_054027.6\n",
      "[INFO] encoding variant \"c.1015T>C\"\n",
      "https://rest.variantvalidator.org/VariantValidator/variantvalidator/hg38/NM_054027.6%3Ac.1015T>C/NM_054027.6?content-type=application%2Fjson\n",
      "[INFO] encoding variant \"c.1172T>C\"\n",
      "https://rest.variantvalidator.org/VariantValidator/variantvalidator/hg38/NM_054027.6%3Ac.1172T>C/NM_054027.6?content-type=application%2Fjson\n",
      "[INFO] encoding variant \"c.942_953del\"\n",
      "https://rest.variantvalidator.org/VariantValidator/variantvalidator/hg38/NM_054027.6%3Ac.942_953del/NM_054027.6?content-type=application%2Fjson\n",
      "[INFO] encoding variant \"c.13C>T\"\n",
      "https://rest.variantvalidator.org/VariantValidator/variantvalidator/hg38/NM_054027.6%3Ac.13C>T/NM_054027.6?content-type=application%2Fjson\n",
      "[INFO] encoding variant \"c.1001T>G\"\n",
      "https://rest.variantvalidator.org/VariantValidator/variantvalidator/hg38/NM_054027.6%3Ac.1001T>G/NM_054027.6?content-type=application%2Fjson\n",
      "[INFO] encoding variant \"c.1178_1189del\"\n",
      "https://rest.variantvalidator.org/VariantValidator/variantvalidator/hg38/NM_054027.6%3Ac.1178_1189del/NM_054027.6?content-type=application%2Fjson\n",
      "[INFO] encoding variant \"c.853_870del\"\n",
      "https://rest.variantvalidator.org/VariantValidator/variantvalidator/hg38/NM_054027.6%3Ac.853_870del/NM_054027.6?content-type=application%2Fjson\n",
      "We output 7 GA4GH phenopackets to the directory phenopackets\n"
     ]
    }
   ],
   "source": [
    "timporter = TemplateImporter(template=template,  created_by=created_by)\n",
    "individual_list, cvalidator = timporter.import_phenopackets_from_template()"
   ]
  },
  {
   "cell_type": "code",
   "execution_count": 4,
   "id": "78b445c2-a18b-4d9c-9765-22a6490120e6",
   "metadata": {},
   "outputs": [
    {
     "data": {
      "text/html": [
       "<h2>Cohort validation</h2>\n",
       "<p>Errors found with 1 of 7 phenopackets.</p>\n",
       "<table style=\"border: 2px solid black; align: \"left\">\n",
       "<caption>Error counts</caption>\n",
       "<tr><th style=\"text-align: left;font-weight: bold;\">Level</th><th style=\"text-align: left;font-weight: bold;\">Error category</th><th style=\"text-align: left;font-weight: bold;\">Count</th></tr>\n",
       "<tr><td style=\"text-align: left;\">WARNING</td><td style=\"text-align: left;\">REDUNDANT</td><td style=\"text-align: left;\">2</td></tr>\n",
       "</table>\n",
       "<p>A total of 2 issues were fixed and no individual was removed from the cohort.</p>"
      ],
      "text/plain": [
       "<IPython.core.display.HTML object>"
      ]
     },
     "metadata": {},
     "output_type": "display_data"
    }
   ],
   "source": [
    "qc = QcVisualizer(cohort_validator=cvalidator)\n",
    "display(HTML(qc.to_summary_html()))"
   ]
  },
  {
   "cell_type": "code",
   "execution_count": 5,
   "id": "1f893a11-e4a6-4230-abcd-b7d5aac64b71",
   "metadata": {},
   "outputs": [
    {
     "data": {
      "text/html": [
       "<table style=\"border: 2px solid black; align: \"left\">\n",
       "<caption>7 phenopackets - PMID:22150416 (n=2); PMID:22647861 (n=1); PMID:20358596 (n=3); PMID:20186813 (n=1)</caption>\n",
       "<tr><th style=\"text-align: left;font-weight: bold;\">Individual</th><th style=\"text-align: left;font-weight: bold;\">Disease</th><th style=\"text-align: left;font-weight: bold;\">Genotype</th><th style=\"text-align: left;font-weight: bold;\">Phenotypic features</th></tr>\n",
       "<tr><td style=\"text-align: left;\">Patient 1 (FEMALE; P1Y5M)</td><td style=\"text-align: left;\">Craniometaphyseal dysplasia (OMIM:123000)</td><td style=\"text-align: left;\">NM_054027.6:c.854_871del (heterozygous)</td><td style=\"text-align: left;\"><b>P2M</b>: Hypophosphatemia (HP:0002148)<br/><b>P8M</b>: Sclerosis of skull base (HP:0002694); Hypercalcemia (HP:0003072)<br/><b>P9M</b>: Hearing impairment (HP:0000365)<br/><b>P10M</b>: Exotropia (HP:0000577); Optic atrophy (HP:0000648); Visual fixation instability (HP:0025405)<br/><b>P1Y</b>: Nystagmus (HP:0000639)<br/><b>P1Y5M</b>: Elevated circulating alkaline phosphatase concentration (HP:0003155); Facial palsy (HP:0010628); Flared metaphysis (HP:0003015); Frontal bossing (HP:0002007); Gingival overgrowth (HP:0000212); Macrocephaly (HP:0000256)<br/>Cranial hyperostosis (HP:0004437); excluded: Hydrocephalus (HP:0000238); excluded: Small foramen magnum (HP:0002677); excluded: Polyarticular chondrocalcinosis (HP:0005017); excluded: Secondary hyperparathyroidism (HP:0000867); excluded: Intervertebral disk calcification (HP:0005645)</td></tr>\n",
       "<tr><td style=\"text-align: left;\">Patient 2 (MALE; P5Y)</td><td style=\"text-align: left;\">Craniometaphyseal dysplasia (OMIM:123000)</td><td style=\"text-align: left;\">NM_054027.6:c.1179_1190del (heterozygous)</td><td style=\"text-align: left;\"><b>P2Y</b>: Hearing impairment (HP:0000365)<br/><b>P5Y</b>: Elevated circulating alkaline phosphatase concentration (HP:0003155); Macrocephaly (HP:0000256); Alveolar ridge overgrowth (HP:0009085); Bony paranasal bossing (HP:0004407); Broad forehead (HP:0000337); Epiblepharon (HP:0011225); Hypertelorism (HP:0000316); Long face (HP:0000276); Low-set ears (HP:0000369); Narrow internal auditory canal (HP:0011386); Posteriorly rotated ears (HP:0000358); Telecanthus (HP:0000506); Thickened calvaria (HP:0002684)<br/>Sclerosis of skull base (HP:0002694); Cranial hyperostosis (HP:0004437); Facial palsy (HP:0010628); Flared metaphysis (HP:0003015); Frontal bossing (HP:0002007); excluded: Hypophosphatemia (HP:0002148); excluded: Hypercalcemia (HP:0003072); excluded: Exotropia (HP:0000577); excluded: Optic atrophy (HP:0000648); excluded: Nystagmus (HP:0000639); excluded: Hydrocephalus (HP:0000238); excluded: Polyarticular chondrocalcinosis (HP:0005017); excluded: Secondary hyperparathyroidism (HP:0000867); excluded: Intervertebral disk calcification (HP:0005645)</td></tr>\n",
       "<tr><td style=\"text-align: left;\">41-year-old woman (FEMALE; P42Y)</td><td style=\"text-align: left;\">Chondrocalcinosis 2 (OMIM:118600)</td><td style=\"text-align: left;\">NM_054027.6:c.13C>T (heterozygous)</td><td style=\"text-align: left;\"><b>P22Y</b>: Ankle pain (HP:0030840); Ankle swelling (HP:0001785); Low back pain (HP:0003419); Polyarticular arthropathy (HP:0005195); Polyarticular chondrocalcinosis (HP:0005017)<br/><b>P42Y</b>: Hypophosphatemia (HP:0002148); Elevated circulating parathyroid hormone level (HP:0003165); Hypercalciuria (HP:0002150); Hyperphosphaturia (HP:0003109); Secondary hyperparathyroidism (HP:0000867); Intervertebral disk calcification (HP:0005645)<br/>excluded: Facial palsy (HP:0010628); excluded: Flared metaphysis (HP:0003015); excluded: Frontal bossing (HP:0002007); excluded: Macrocephaly (HP:0000256); excluded: Abnormal circulating calcium concentration (HP:0004363); excluded: Bony paranasal bossing (HP:0004407); excluded: Broad forehead (HP:0000337); excluded: Epiblepharon (HP:0011225); excluded: Hypertelorism (HP:0000316); excluded: Long face (HP:0000276); excluded: Low-set ears (HP:0000369); excluded: Posteriorly rotated ears (HP:0000358); excluded: Telecanthus (HP:0000506); excluded: Thickened calvaria (HP:0002684)</td></tr>\n",
       "<tr><td style=\"text-align: left;\">Patient A (MALE; P12Y)</td><td style=\"text-align: left;\">Craniometaphyseal dysplasia (OMIM:123000)</td><td style=\"text-align: left;\">NM_054027.6:c.1015T>C (heterozygous)</td><td style=\"text-align: left;\"><b>P0D</b>: Hypertelorism (HP:0000316)<br/><b>P1Y</b>: Cranial hyperostosis (HP:0004437)<br/><b>P2Y6M</b>: Hearing impairment (HP:0000365)<br/><b>P6Y</b>: Increased circulating osteocalcin level (HP:0031428); Elevated circulating alkaline phosphatase concentration (HP:0003155); Macrocephaly (HP:0000256)<br/>Facial palsy (HP:0010628); Alveolar ridge overgrowth (HP:0009085); Feeding difficulties (HP:0011968); Dental malocclusion (HP:0000689); Dental crowding (HP:0000678); excluded: Choanal stenosis (HP:0000452)</td></tr>\n",
       "<tr><td style=\"text-align: left;\">Patient B (MALE; P23Y)</td><td style=\"text-align: left;\">Craniometaphyseal dysplasia (OMIM:123000)</td><td style=\"text-align: left;\">NM_054027.6:c.1172T>C (heterozygous)</td><td style=\"text-align: left;\"><b>P2M</b>: Facial palsy (HP:0010628)<br/><b>P23Y</b>: Sclerosis of skull base (HP:0002694); Hearing impairment (HP:0000365); Cranial hyperostosis (HP:0004437); Optic atrophy (HP:0000648); Flared metaphysis (HP:0003015); Hypertelorism (HP:0000316)<br/>Macrocephaly (HP:0000256); Delayed pneumatization of the mastoid process (HP:0005906); Mandibular prognathia (HP:0000303); Dental crowding (HP:0000678); excluded: Choanal stenosis (HP:0000452)</td></tr>\n",
       "<tr><td style=\"text-align: left;\">Patient C (MALE; P43Y)</td><td style=\"text-align: left;\">Craniometaphyseal dysplasia (OMIM:123000)</td><td style=\"text-align: left;\">NM_054027.6:c.1001T>G (heterozygous)</td><td style=\"text-align: left;\"><b>P2Y</b>: Choanal stenosis (HP:0000452)<br/><b>P14Y</b>: Cranial hyperostosis (HP:0004437)<br/>Bony paranasal bossing (HP:0004407); Hypertelorism (HP:0000316); Dental malocclusion (HP:0000689); Delayed eruption of primary teeth (HP:0000680); Thin bony cortex (HP:0002753); Thickened calvaria (HP:0002684); Tinnitus (HP:0000360)</td></tr>\n",
       "<tr><td style=\"text-align: left;\">6-year-old male (MALE; P9Y)</td><td style=\"text-align: left;\">Craniometaphyseal dysplasia (OMIM:123000)</td><td style=\"text-align: left;\">NM_054027.6:c.942_953del (heterozygous)</td><td style=\"text-align: left;\"><b>P9Y</b>: Sclerosis of skull base (HP:0002694); Thickened calvaria (HP:0002684)<br/>Prominence of the zygomatic bone (HP:0012370); Prominent nasal bridge (HP:0000426); Wide nasal bridge (HP:0000431); Delayed eruption of permanent teeth (HP:0000696); excluded: Hearing impairment (HP:0000365)</td></tr>\n",
       "</table>"
      ],
      "text/plain": [
       "<IPython.core.display.HTML object>"
      ]
     },
     "metadata": {},
     "output_type": "display_data"
    }
   ],
   "source": [
    "table = IndividualTable(cvalidator.get_error_free_individual_list())\n",
    "display(HTML(table.to_html()))"
   ]
  },
  {
   "cell_type": "code",
   "execution_count": 6,
   "id": "52dcc280-e70a-48f2-a217-1fbaaf91551b",
   "metadata": {},
   "outputs": [
    {
     "name": "stdout",
     "output_type": "stream",
     "text": [
      "[pyphetools] Ingested 7 GA4GH phenopackets.\n",
      "[INFO] Extracted 6 from 7 phenopackets with OMIM:123000\n",
      "\n",
      "\tCraniometaphyseal dysplasia (OMIM:123000): n=6\n",
      "We found a total of 45 unique HPO terms\n",
      "Extracted disease: Craniometaphyseal dysplasia (OMIM:123000)\n",
      "Wrote HPOA disease file to OMIM-123000.tab\n"
     ]
    },
    {
     "data": {
      "text/html": [
       "<div>\n",
       "<style scoped>\n",
       "    .dataframe tbody tr th:only-of-type {\n",
       "        vertical-align: middle;\n",
       "    }\n",
       "\n",
       "    .dataframe tbody tr th {\n",
       "        vertical-align: top;\n",
       "    }\n",
       "\n",
       "    .dataframe thead th {\n",
       "        text-align: right;\n",
       "    }\n",
       "</style>\n",
       "<table border=\"1\" class=\"dataframe\">\n",
       "  <thead>\n",
       "    <tr style=\"text-align: right;\">\n",
       "      <th></th>\n",
       "      <th>#diseaseID</th>\n",
       "      <th>diseaseName</th>\n",
       "      <th>phenotypeID</th>\n",
       "      <th>phenotypeName</th>\n",
       "      <th>onsetID</th>\n",
       "      <th>onsetName</th>\n",
       "      <th>frequency</th>\n",
       "      <th>sex</th>\n",
       "      <th>negation</th>\n",
       "      <th>modifier</th>\n",
       "      <th>description</th>\n",
       "      <th>publication</th>\n",
       "      <th>evidence</th>\n",
       "      <th>biocuration</th>\n",
       "    </tr>\n",
       "  </thead>\n",
       "  <tbody>\n",
       "    <tr>\n",
       "      <th>0</th>\n",
       "      <td>OMIM:123000</td>\n",
       "      <td>Craniometaphyseal dysplasia</td>\n",
       "      <td>HP:0000365</td>\n",
       "      <td>Hearing impairment</td>\n",
       "      <td></td>\n",
       "      <td></td>\n",
       "      <td>2/2</td>\n",
       "      <td></td>\n",
       "      <td></td>\n",
       "      <td></td>\n",
       "      <td></td>\n",
       "      <td>PMID:20358596</td>\n",
       "      <td>PCS</td>\n",
       "      <td>ORCID:0000-0002-0736-9199[2024-08-05]</td>\n",
       "    </tr>\n",
       "    <tr>\n",
       "      <th>1</th>\n",
       "      <td>OMIM:123000</td>\n",
       "      <td>Craniometaphyseal dysplasia</td>\n",
       "      <td>HP:0004437</td>\n",
       "      <td>Cranial hyperostosis</td>\n",
       "      <td></td>\n",
       "      <td></td>\n",
       "      <td>3/3</td>\n",
       "      <td></td>\n",
       "      <td></td>\n",
       "      <td></td>\n",
       "      <td></td>\n",
       "      <td>PMID:20358596</td>\n",
       "      <td>PCS</td>\n",
       "      <td>ORCID:0000-0002-0736-9199[2024-08-05]</td>\n",
       "    </tr>\n",
       "    <tr>\n",
       "      <th>2</th>\n",
       "      <td>OMIM:123000</td>\n",
       "      <td>Craniometaphyseal dysplasia</td>\n",
       "      <td>HP:0031428</td>\n",
       "      <td>Increased circulating osteocalcin level</td>\n",
       "      <td></td>\n",
       "      <td></td>\n",
       "      <td>1/1</td>\n",
       "      <td></td>\n",
       "      <td></td>\n",
       "      <td></td>\n",
       "      <td></td>\n",
       "      <td>PMID:20358596</td>\n",
       "      <td>PCS</td>\n",
       "      <td>ORCID:0000-0002-0736-9199[2024-08-05]</td>\n",
       "    </tr>\n",
       "    <tr>\n",
       "      <th>3</th>\n",
       "      <td>OMIM:123000</td>\n",
       "      <td>Craniometaphyseal dysplasia</td>\n",
       "      <td>HP:0003155</td>\n",
       "      <td>Elevated circulating alkaline phosphatase conc...</td>\n",
       "      <td></td>\n",
       "      <td></td>\n",
       "      <td>1/1</td>\n",
       "      <td></td>\n",
       "      <td></td>\n",
       "      <td></td>\n",
       "      <td></td>\n",
       "      <td>PMID:20358596</td>\n",
       "      <td>PCS</td>\n",
       "      <td>ORCID:0000-0002-0736-9199[2024-08-05]</td>\n",
       "    </tr>\n",
       "    <tr>\n",
       "      <th>4</th>\n",
       "      <td>OMIM:123000</td>\n",
       "      <td>Craniometaphyseal dysplasia</td>\n",
       "      <td>HP:0000256</td>\n",
       "      <td>Macrocephaly</td>\n",
       "      <td></td>\n",
       "      <td></td>\n",
       "      <td>2/2</td>\n",
       "      <td></td>\n",
       "      <td></td>\n",
       "      <td></td>\n",
       "      <td></td>\n",
       "      <td>PMID:20358596</td>\n",
       "      <td>PCS</td>\n",
       "      <td>ORCID:0000-0002-0736-9199[2024-08-05]</td>\n",
       "    </tr>\n",
       "  </tbody>\n",
       "</table>\n",
       "</div>"
      ],
      "text/plain": [
       "    #diseaseID                  diseaseName phenotypeID  \\\n",
       "0  OMIM:123000  Craniometaphyseal dysplasia  HP:0000365   \n",
       "1  OMIM:123000  Craniometaphyseal dysplasia  HP:0004437   \n",
       "2  OMIM:123000  Craniometaphyseal dysplasia  HP:0031428   \n",
       "3  OMIM:123000  Craniometaphyseal dysplasia  HP:0003155   \n",
       "4  OMIM:123000  Craniometaphyseal dysplasia  HP:0000256   \n",
       "\n",
       "                                       phenotypeName onsetID onsetName  \\\n",
       "0                                 Hearing impairment                     \n",
       "1                               Cranial hyperostosis                     \n",
       "2            Increased circulating osteocalcin level                     \n",
       "3  Elevated circulating alkaline phosphatase conc...                     \n",
       "4                                       Macrocephaly                     \n",
       "\n",
       "  frequency sex negation modifier description    publication evidence  \\\n",
       "0       2/2                                    PMID:20358596      PCS   \n",
       "1       3/3                                    PMID:20358596      PCS   \n",
       "2       1/1                                    PMID:20358596      PCS   \n",
       "3       1/1                                    PMID:20358596      PCS   \n",
       "4       2/2                                    PMID:20358596      PCS   \n",
       "\n",
       "                             biocuration  \n",
       "0  ORCID:0000-0002-0736-9199[2024-08-05]  \n",
       "1  ORCID:0000-0002-0736-9199[2024-08-05]  \n",
       "2  ORCID:0000-0002-0736-9199[2024-08-05]  \n",
       "3  ORCID:0000-0002-0736-9199[2024-08-05]  \n",
       "4  ORCID:0000-0002-0736-9199[2024-08-05]  "
      ]
     },
     "execution_count": 6,
     "metadata": {},
     "output_type": "execute_result"
    }
   ],
   "source": [
    "pmid = \"PMID:22150416\"\n",
    "df = timporter.create_hpoa_from_phenopackets(pmid=pmid, mode_of_inheritance=Moi.AD, target=\"OMIM:123000\")\n",
    "df.head()"
   ]
  }
 ],
 "metadata": {
  "kernelspec": {
   "display_name": "Python 3 (ipykernel)",
   "language": "python",
   "name": "python3"
  },
  "language_info": {
   "codemirror_mode": {
    "name": "ipython",
    "version": 3
   },
   "file_extension": ".py",
   "mimetype": "text/x-python",
   "name": "python",
   "nbconvert_exporter": "python",
   "pygments_lexer": "ipython3",
   "version": "3.12.4"
  }
 },
 "nbformat": 4,
 "nbformat_minor": 5
}
