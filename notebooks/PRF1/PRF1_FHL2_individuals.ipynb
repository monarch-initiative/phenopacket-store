{
 "cells": [
  {
   "cell_type": "markdown",
   "metadata": {},
   "source": [
    "# PRF1\n",
    "[familial hemophagocytic lymphohistiocytosis-2 (FHL2)](https://omim.org/entry/603553) is caused by homozygous or compound heterozygous mutation in the gene encoding perforin (PRF1)."
   ]
  },
  {
   "cell_type": "code",
   "execution_count": 3,
   "metadata": {},
   "outputs": [
    {
     "name": "stdout",
     "output_type": "stream",
     "text": [
      "Using pyphetools version 0.9.83\n"
     ]
    }
   ],
   "source": [
    "from pyphetools.creation import TemplateImporter\n",
    "from pyphetools.visualization import IndividualTable, QcVisualizer\n",
    "from IPython.display import display, HTML\n",
    "import pyphetools\n",
    "print(f\"Using pyphetools version {pyphetools.__version__}\")"
   ]
  },
  {
   "cell_type": "code",
   "execution_count": 5,
   "metadata": {},
   "outputs": [],
   "source": [
    "template = \"input/PRF1_FHL2_individuals.xlsx\"\n",
    "created_by = \"0000-0002-0736-9199\""
   ]
  },
  {
   "cell_type": "code",
   "execution_count": 6,
   "metadata": {},
   "outputs": [
    {
     "name": "stdout",
     "output_type": "stream",
     "text": [
      "HPO version 2024-04-26\n",
      "Created encoders for 36 fields\n",
      "Importing OMIM:603553, Hemophagocytic lymphohistiocytosis, familial, 2, HGNC:9360, PRF1,  NM_001083116.3\n",
      "[INFO] encoding variant \"c.1122G>A\"\n",
      "https://rest.variantvalidator.org/VariantValidator/variantvalidator/hg38/NM_001083116.3%3Ac.1122G>A/NM_001083116.3?content-type=application%2Fjson\n",
      "[INFO] encoding variant \"c.1120T>G\"\n",
      "https://rest.variantvalidator.org/VariantValidator/variantvalidator/hg38/NM_001083116.3%3Ac.1120T>G/NM_001083116.3?content-type=application%2Fjson\n",
      "[INFO] encoding variant \"c.272C>T\"\n",
      "https://rest.variantvalidator.org/VariantValidator/variantvalidator/hg38/NM_001083116.3%3Ac.272C>T/NM_001083116.3?content-type=application%2Fjson\n",
      "We output 3 GA4GH phenopackets to the directory phenopackets\n"
     ]
    }
   ],
   "source": [
    "timporter = TemplateImporter(template=template,  created_by=created_by)\n",
    "individual_list, cvalidator = timporter.import_phenopackets_from_template()"
   ]
  },
  {
   "cell_type": "code",
   "execution_count": 7,
   "metadata": {},
   "outputs": [
    {
     "data": {
      "text/html": [
       "<h2>Cohort validation</h2>\n",
       "<p>No errors found for the cohort with 3 individuals</p>"
      ],
      "text/plain": [
       "<IPython.core.display.HTML object>"
      ]
     },
     "metadata": {},
     "output_type": "display_data"
    }
   ],
   "source": [
    "qc = QcVisualizer(cohort_validator=cvalidator)\n",
    "display(HTML(qc.to_summary_html()))"
   ]
  },
  {
   "cell_type": "code",
   "execution_count": 8,
   "metadata": {},
   "outputs": [
    {
     "data": {
      "text/html": [
       "<table style=\"border: 2px solid black; align: \"left\">\n",
       "<caption>3 phenopackets - PMID:12229880 (n=2); PMID:28468610 (n=1)</caption>\n",
       "<tr><th style=\"text-align: left;font-weight: bold;\">Individual</th><th style=\"text-align: left;font-weight: bold;\">Disease</th><th style=\"text-align: left;font-weight: bold;\">Genotype</th><th style=\"text-align: left;font-weight: bold;\">Phenotypic features</th></tr>\n",
       "<tr><td style=\"text-align: left;\">Case 1 (MALE; P27Y)</td><td style=\"text-align: left;\">Hemophagocytic lymphohistiocytosis, familial, 2 (OMIM:603553)</td><td style=\"text-align: left;\"><ul> <li>NM_001083116.3:c.1122G>A (heterozygous)</li> <li>NM_001083116.3:c.272C>T (heterozygous)</li> </ul></td><td style=\"text-align: left;\"><b>P22Y</b>: Elevated circulating aspartate aminotransferase concentration (HP:0031956); Elevated circulating alanine aminotransferase concentration (HP:0031964); Upper limb muscle weakness (HP:0003484); Lymphadenopathy (HP:0002716); Pancytopenia (HP:0001876); Hemiplegia (HP:0002301); Drowsiness (HP:0002329); CNS demyelination (HP:0007305)<br/><b>P24Y</b>: Hepatomegaly (HP:0002240); Splenomegaly (HP:0001744); Hypofibrinogenemia (HP:0011900); Hypertriglyceridemia (HP:0002155); Increased circulating ferritin concentration (HP:0003281); Sepsis (HP:0100806); Hemophagocytosis (HP:0012156); Reduced natural killer cell activity (HP:0012178)<br/>excluded: T-cell lymphoma (HP:0012190)</td></tr>\n",
       "<tr><td style=\"text-align: left;\">Case 2 (FEMALE; P25Y6M)</td><td style=\"text-align: left;\">Hemophagocytic lymphohistiocytosis, familial, 2 (OMIM:603553)</td><td style=\"text-align: left;\"><ul> <li>NM_001083116.3:c.1122G>A (heterozygous)</li> <li>NM_001083116.3:c.272C>T (heterozygous)</li> </ul></td><td style=\"text-align: left;\"><b>P21Y</b>: Pancytopenia (HP:0001876); Hepatomegaly (HP:0002240); Splenomegaly (HP:0001744); Hypofibrinogenemia (HP:0011900); Hypertriglyceridemia (HP:0002155); Increased circulating ferritin concentration (HP:0003281); Reduced natural killer cell activity (HP:0012178); T-cell lymphoma (HP:0012190)</td></tr>\n",
       "<tr><td style=\"text-align: left;\">8-year-old boy (MALE; P8Y)</td><td style=\"text-align: left;\">Hemophagocytic lymphohistiocytosis, familial, 2 (OMIM:603553)</td><td style=\"text-align: left;\">NM_001083116.3:c.1120T>G (homozygous)</td><td style=\"text-align: left;\"><b>P8Y</b>: Hyperintensity of cerebral white matter on MRI (HP:0030890); Elevated circulating aspartate aminotransferase concentration (HP:0031956); Elevated circulating alanine aminotransferase concentration (HP:0031964); Pancytopenia (HP:0001876); Hepatomegaly (HP:0002240); Splenomegaly (HP:0001744); Increased circulating ferritin concentration (HP:0003281)<br/>excluded: Abnormal circulating copper concentration (HP:0010836)</td></tr>\n",
       "</table>"
      ],
      "text/plain": [
       "<IPython.core.display.HTML object>"
      ]
     },
     "metadata": {},
     "output_type": "display_data"
    }
   ],
   "source": [
    "table = IndividualTable(cvalidator.get_error_free_individual_list())\n",
    "display(HTML(table.to_html()))"
   ]
  }
 ],
 "metadata": {
  "kernelspec": {
   "display_name": "ps24venv",
   "language": "python",
   "name": "python3"
  },
  "language_info": {
   "codemirror_mode": {
    "name": "ipython",
    "version": 3
   },
   "file_extension": ".py",
   "mimetype": "text/x-python",
   "name": "python",
   "nbconvert_exporter": "python",
   "pygments_lexer": "ipython3",
   "version": "3.9.6"
  }
 },
 "nbformat": 4,
 "nbformat_minor": 2
}
