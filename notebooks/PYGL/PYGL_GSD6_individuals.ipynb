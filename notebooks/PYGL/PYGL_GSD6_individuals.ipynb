{
 "cells": [
  {
   "cell_type": "markdown",
   "metadata": {},
   "source": [
    "# PYGL\n",
    "[glycogen storage disease VI (GSD6)](https://omim.org/entry/232700) is caused by homozygous or compound heterozygous mutation in the PYGL gene."
   ]
  },
  {
   "cell_type": "code",
   "execution_count": null,
   "metadata": {},
   "outputs": [],
   "source": [
    "from pyphetools.creation import TemplateImporter\n",
    "from pyphetools.visualization import IndividualTable, QcVisualizer\n",
    "from IPython.display import display, HTML\n",
    "import pyphetools\n",
    "print(f\"Using pyphetools version {pyphetools.__version__}\")"
   ]
  },
  {
   "cell_type": "code",
   "execution_count": null,
   "metadata": {},
   "outputs": [],
   "source": [
    "template = \"input/PYGL_GSD6_individuals.xlsx\"\n",
    "created_by = \"0000-0002-0736-9199\""
   ]
  },
  {
   "cell_type": "code",
   "execution_count": 7,
   "metadata": {},
   "outputs": [
    {
     "name": "stdout",
     "output_type": "stream",
     "text": [
      "HPO version 2024-04-26\n",
      "Created encoders for 39 fields\n",
      "Importing OMIM:232700, Glycogen storage disease VI, HGNC:9725, PYGL,  NM_002863.5\n",
      "[INFO] encoding variant \"c.1297G>T\"\n",
      "https://rest.variantvalidator.org/VariantValidator/variantvalidator/hg38/NM_002863.5%3Ac.1297G>T/NM_002863.5?content-type=application%2Fjson\n",
      "We output 1 GA4GH phenopackets to the directory phenopackets\n"
     ]
    }
   ],
   "source": [
    "timporter = TemplateImporter(template=template,  created_by=created_by)\n",
    "individual_list, cvalidator = timporter.import_phenopackets_from_template()"
   ]
  },
  {
   "cell_type": "code",
   "execution_count": 8,
   "metadata": {},
   "outputs": [
    {
     "data": {
      "text/html": [
       "<h2>Cohort validation</h2>\n",
       "<p>No errors found for the cohort with 1 individuals</p>"
      ],
      "text/plain": [
       "<IPython.core.display.HTML object>"
      ]
     },
     "metadata": {},
     "output_type": "display_data"
    }
   ],
   "source": [
    "qc = QcVisualizer(cohort_validator=cvalidator)\n",
    "display(HTML(qc.to_summary_html()))"
   ]
  },
  {
   "cell_type": "code",
   "execution_count": 9,
   "metadata": {},
   "outputs": [
    {
     "data": {
      "text/html": [
       "<table style=\"border: 2px solid black; align: \"left\">\n",
       "<caption>1 phenopacket - PMID:28984260 (n=1)</caption>\n",
       "<tr><th style=\"text-align: left;font-weight: bold;\">Individual</th><th style=\"text-align: left;font-weight: bold;\">Disease</th><th style=\"text-align: left;font-weight: bold;\">Genotype</th><th style=\"text-align: left;font-weight: bold;\">Phenotypic features</th></tr>\n",
       "<tr><td style=\"text-align: left;\">child (FEMALE; P2Y5M)</td><td style=\"text-align: left;\">Glycogen storage disease VI (OMIM:232700)</td><td style=\"text-align: left;\">NM_002863.5:c.1297G>T (homozygous)</td><td style=\"text-align: left;\"><b>P1Y</b>: Abdominal distention (HP:0003270)<br/><b>P2Y5M</b>: Hypercholesterolemia (HP:0003124); Hypertriglyceridemia (HP:0002155); Elevated circulating alkaline phosphatase concentration (HP:0003155); Elevated circulating aspartate aminotransferase concentration (HP:0031956); Elevated circulating alanine aminotransferase concentration (HP:0031964); Jaundice (HP:0000952); Hepatic bridging fibrosis (HP:0012852); Hepatomegaly (HP:0002240); Short stature (HP:0004322)<br/>Failure to thrive (HP:0001508); excluded: Splenomegaly (HP:0001744); excluded: Global developmental delay (HP:0001263); excluded: Abnormal bleeding (HP:0001892); excluded: Seizure (HP:0001250); excluded: Vomiting (HP:0002013); excluded: Recurrent fever (HP:0001954)</td></tr>\n",
       "</table>"
      ],
      "text/plain": [
       "<IPython.core.display.HTML object>"
      ]
     },
     "metadata": {},
     "output_type": "display_data"
    }
   ],
   "source": [
    "table = IndividualTable(cvalidator.get_error_free_individual_list())\n",
    "display(HTML(table.to_html()))"
   ]
  }
 ],
 "metadata": {
  "kernelspec": {
   "display_name": "ps24venv",
   "language": "python",
   "name": "python3"
  },
  "language_info": {
   "codemirror_mode": {
    "name": "ipython",
    "version": 3
   },
   "file_extension": ".py",
   "mimetype": "text/x-python",
   "name": "python",
   "nbconvert_exporter": "python",
   "pygments_lexer": "ipython3",
   "version": "3.9.6"
  }
 },
 "nbformat": 4,
 "nbformat_minor": 2
}
