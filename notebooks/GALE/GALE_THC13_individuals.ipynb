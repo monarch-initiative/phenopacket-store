{
 "cells": [
  {
   "cell_type": "markdown",
   "metadata": {},
   "source": [
    "# GALE\n",
    "\n",
    "[syndromic thrombocytopenia-13 (THC13)](https://omim.org/entry/620776) is caused by homozygous or compound heterozygous mutation in the GALE gene"
   ]
  },
  {
   "cell_type": "code",
   "execution_count": 4,
   "metadata": {},
   "outputs": [
    {
     "name": "stdout",
     "output_type": "stream",
     "text": [
      "Using pyphetools version 0.9.105\n"
     ]
    }
   ],
   "source": [
    "from pyphetools.creation import TemplateImporter, Moi\n",
    "from pyphetools.visualization import IndividualTable, QcVisualizer\n",
    "from IPython.display import display, HTML\n",
    "import pyphetools\n",
    "print(f\"Using pyphetools version {pyphetools.__version__}\")"
   ]
  },
  {
   "cell_type": "code",
   "execution_count": 5,
   "metadata": {},
   "outputs": [],
   "source": [
    "template = \"input/GALE_THC13_individuals.xlsx\"\n",
    "created_by = \"0000-0002-0736-9199\""
   ]
  },
  {
   "cell_type": "code",
   "execution_count": 11,
   "metadata": {},
   "outputs": [
    {
     "name": "stdout",
     "output_type": "stream",
     "text": [
      "HPO version 2024-08-13\n",
      "Created encoders for 44 fields\n",
      "Importing OMIM:620776, Thrombocytopenia 13, syndromic, HGNC:4116, GALE,  NM_001008216.2\n",
      "We output 10 GA4GH phenopackets to the directory phenopackets\n"
     ]
    }
   ],
   "source": [
    "timporter = TemplateImporter(template=template,  created_by=created_by)\n",
    "individual_list, cvalidator = timporter.import_phenopackets_from_template()"
   ]
  },
  {
   "cell_type": "code",
   "execution_count": 12,
   "metadata": {},
   "outputs": [
    {
     "data": {
      "text/html": [
       "<h2>Cohort validation</h2>\n",
       "<p>Errors found with 8 of 10 phenopackets.</p>\n",
       "<table style=\"border: 2px solid black; align: \"left\">\n",
       "<caption>Error counts</caption>\n",
       "<tr><th style=\"text-align: left;font-weight: bold;\">Level</th><th style=\"text-align: left;font-weight: bold;\">Error category</th><th style=\"text-align: left;font-weight: bold;\">Count</th></tr>\n",
       "<tr><td style=\"text-align: left;\">WARNING</td><td style=\"text-align: left;\">REDUNDANT</td><td style=\"text-align: left;\">11</td></tr>\n",
       "</table>\n",
       "<p>A total of 11 issues were fixed and no individual was removed from the cohort.</p>"
      ],
      "text/plain": [
       "<IPython.core.display.HTML object>"
      ]
     },
     "metadata": {},
     "output_type": "display_data"
    }
   ],
   "source": [
    "qc = QcVisualizer(cohort_validator=cvalidator)\n",
    "display(HTML(qc.to_summary_html()))"
   ]
  },
  {
   "cell_type": "code",
   "execution_count": 13,
   "metadata": {},
   "outputs": [
    {
     "data": {
      "text/html": [
       "<table style=\"border: 2px solid black; align: \"left\">\n",
       "<caption>10 phenopackets - PMID:30247636 (n=5); PMID:33510604 (n=1); PMID:34159722 (n=1); PMID:36395340 (n=3)</caption>\n",
       "<tr><th style=\"text-align: left;font-weight: bold;\">Individual</th><th style=\"text-align: left;font-weight: bold;\">Disease</th><th style=\"text-align: left;font-weight: bold;\">Genotype</th><th style=\"text-align: left;font-weight: bold;\">Phenotypic features</th></tr>\n",
       "<tr><td style=\"text-align: left;\">kindred AH proband IV.1 (FEMALE; P1Y1M)</td><td style=\"text-align: left;\">Thrombocytopenia 13, syndromic (OMIM:620776)</td><td style=\"text-align: left;\">NM_001008216.2:c.151C>T (homozygous)</td><td style=\"text-align: left;\">excluded: Tricuspid valve prolapse (HP:0001704): onset ; excluded: Mitral valve prolapse (HP:0001634): onset ; excluded: Lymphopenia (HP:0001888): onset ; excluded: Anemia (HP:0001903): onset ; excluded: Reticulocytosis (HP:0001923): onset ; excluded: Leukopenia (HP:0001882): onset ; excluded: Pancytopenia (HP:0001876): onset ; excluded: Bone marrow hypocellularity (HP:0005528): onset ; excluded: Pyloric stenosis (HP:0002021): onset ; excluded: Cerebral hemorrhage (HP:0001342): onset <br/><b>TimeElement(element=Age(iso8601duration=P1Y1M))</b>: Macrothrombocytopenia (HP:0040185): onset age {\n",
       "  iso8601duration: \"P1Y1M\"\n",
       "}\n",
       "; Neutropenia (HP:0001875): onset age {\n",
       "  iso8601duration: \"P1Y1M\"\n",
       "}\n",
       "; Megakaryocyte nucleus hypolobulation (HP:0031385): onset age {\n",
       "  iso8601duration: \"P1Y1M\"\n",
       "}\n",
       "; Megakaryocyte dysplasia (HP:0031689): onset age {\n",
       "  iso8601duration: \"P1Y1M\"\n",
       "}\n",
       "; Abnormal bleeding (HP:0001892): onset age {\n",
       "  iso8601duration: \"P1Y1M\"\n",
       "}\n",
       "</td></tr>\n",
       "<tr><td style=\"text-align: left;\">PMID:12930321 Patient 1 (FEMALE; P12Y)</td><td style=\"text-align: left;\">Thrombocytopenia 13, syndromic (OMIM:620776)</td><td style=\"text-align: left;\">NM_001008216.2:c.151C>T (homozygous)</td><td style=\"text-align: left;\">Giant platelets (HP:0001902): onset ; Megakaryocyte dysplasia (HP:0031689): onset ; excluded: Tricuspid valve prolapse (HP:0001704): onset ; excluded: Mitral valve prolapse (HP:0001634): onset ; excluded: Leukopenia (HP:0001882): onset ; excluded: Pancytopenia (HP:0001876): onset ; excluded: Pyloric stenosis (HP:0002021): onset ; excluded: Antinuclear antibody positivity (HP:0003493): onset <br/><b>TimeElement(element=OntologyClass(id=HP:0003623, label=Neonatal onset))</b>: Anemia (HP:0001903): onset ontology_class {\n",
       "  id: \"HP:0003623\"\n",
       "  label: \"Neonatal onset\"\n",
       "}\n",
       "; Reticulocytosis (HP:0001923): onset ontology_class {\n",
       "  id: \"HP:0003623\"\n",
       "  label: \"Neonatal onset\"\n",
       "}\n",
       "<br/><b>TimeElement(element=Age(iso8601duration=P21D))</b>: Thrombocytopenia (HP:0001873): onset age {\n",
       "  iso8601duration: \"P21D\"\n",
       "}\n",
       "<br/><b>TimeElement(element=Age(iso8601duration=P28D))</b>: Neutropenia (HP:0001875): onset age {\n",
       "  iso8601duration: \"P28D\"\n",
       "}\n",
       "<br/><b>TimeElement(element=Age(iso8601duration=P4Y))</b>: Cerebral hemorrhage (HP:0001342): onset age {\n",
       "  iso8601duration: \"P4Y\"\n",
       "}\n",
       "</td></tr>\n",
       "<tr><td style=\"text-align: left;\">PMID:12930321 Patient 2 IV:8 (FEMALE; P9Y)</td><td style=\"text-align: left;\">Thrombocytopenia 13, syndromic (OMIM:620776)</td><td style=\"text-align: left;\">NM_001008216.2:c.151C>T (homozygous)</td><td style=\"text-align: left;\">Giant platelets (HP:0001902): onset ; Neutropenia (HP:0001875): onset ; Megakaryocyte dysplasia (HP:0031689): onset ; excluded: Tricuspid valve prolapse (HP:0001704): onset ; excluded: Mitral valve prolapse (HP:0001634): onset ; excluded: Leukopenia (HP:0001882): onset ; excluded: Pancytopenia (HP:0001876): onset ; excluded: Pyloric stenosis (HP:0002021): onset ; excluded: Antinuclear antibody positivity (HP:0003493): onset <br/><b>TimeElement(element=OntologyClass(id=HP:0003623, label=Neonatal onset))</b>: Thrombocytopenia (HP:0001873): onset ontology_class {\n",
       "  id: \"HP:0003623\"\n",
       "  label: \"Neonatal onset\"\n",
       "}\n",
       "; Anemia (HP:0001903): onset ontology_class {\n",
       "  id: \"HP:0003623\"\n",
       "  label: \"Neonatal onset\"\n",
       "}\n",
       "<br/><b>TimeElement(element=Age(iso8601duration=P1Y6M))</b>: Cerebral hemorrhage (HP:0001342): onset age {\n",
       "  iso8601duration: \"P1Y6M\"\n",
       "}\n",
       "</td></tr>\n",
       "<tr><td style=\"text-align: left;\">PMID:12930321 Patient 3 IV:6 (FEMALE; P2Y)</td><td style=\"text-align: left;\">Thrombocytopenia 13, syndromic (OMIM:620776)</td><td style=\"text-align: left;\">NM_001008216.2:c.151C>T (homozygous)</td><td style=\"text-align: left;\">Giant platelets (HP:0001902): onset ; Megakaryocyte dysplasia (HP:0031689): onset ; excluded: Tricuspid valve prolapse (HP:0001704): onset ; excluded: Mitral valve prolapse (HP:0001634): onset ; excluded: Leukopenia (HP:0001882): onset ; excluded: Pyloric stenosis (HP:0002021): onset ; excluded: Antinuclear antibody positivity (HP:0003493): onset <br/><b>TimeElement(element=Age(iso8601duration=P21D))</b>: Thrombocytopenia (HP:0001873): onset age {\n",
       "  iso8601duration: \"P21D\"\n",
       "}\n",
       "; Anemia (HP:0001903): onset age {\n",
       "  iso8601duration: \"P21D\"\n",
       "}\n",
       "<br/><b>TimeElement(element=Age(iso8601duration=P1M21D))</b>: Neutropenia (HP:0001875): onset age {\n",
       "  iso8601duration: \"P1M21D\"\n",
       "}\n",
       "; Pancytopenia (HP:0001876): onset age {\n",
       "  iso8601duration: \"P1M21D\"\n",
       "}\n",
       "<br/><b>TimeElement(element=Age(iso8601duration=P1Y10M))</b>: Cerebral hemorrhage (HP:0001342): onset age {\n",
       "  iso8601duration: \"P1Y10M\"\n",
       "}\n",
       "</td></tr>\n",
       "<tr><td style=\"text-align: left;\">PMID:12930321 Patient 4 IV:13 (FEMALE; P5M)</td><td style=\"text-align: left;\">Thrombocytopenia 13, syndromic (OMIM:620776)</td><td style=\"text-align: left;\">NM_001008216.2:c.151C>T (homozygous)</td><td style=\"text-align: left;\">Giant platelets (HP:0001902): onset ; Neutropenia (HP:0001875): onset ; Megakaryocyte dysplasia (HP:0031689): onset ; Abnormal bleeding (HP:0001892): onset ; excluded: Tricuspid valve prolapse (HP:0001704): onset ; excluded: Mitral valve prolapse (HP:0001634): onset ; excluded: Leukopenia (HP:0001882): onset ; excluded: Pancytopenia (HP:0001876): onset ; excluded: Pyloric stenosis (HP:0002021): onset ; excluded: Cerebral hemorrhage (HP:0001342): onset ; excluded: Antinuclear antibody positivity (HP:0003493): onset <br/><b>TimeElement(element=OntologyClass(id=HP:0003623, label=Neonatal onset))</b>: Thrombocytopenia (HP:0001873): onset ontology_class {\n",
       "  id: \"HP:0003623\"\n",
       "  label: \"Neonatal onset\"\n",
       "}\n",
       "<br/><b>TimeElement(element=OntologyClass(id=HP:0003593, label=Infantile onset))</b>: Anemia (HP:0001903): onset ontology_class {\n",
       "  id: \"HP:0003593\"\n",
       "  label: \"Infantile onset\"\n",
       "}\n",
       "</td></tr>\n",
       "<tr><td style=\"text-align: left;\">Case Presentation (MALE; P2Y)</td><td style=\"text-align: left;\">Thrombocytopenia 13, syndromic (OMIM:620776)</td><td style=\"text-align: left;\"><ul> <li>NM_001008216.2:c.710G>A (heterozygous)</li> <li>NM_001008216.2:c.151C>T (heterozygous)</li> </ul></td><td style=\"text-align: left;\">Megakaryocyte dysplasia (HP:0031689): onset <br/><b>TimeElement(element=Age(iso8601duration=P2Y))</b>: Tricuspid valve prolapse (HP:0001704): onset age {\n",
       "  iso8601duration: \"P2Y\"\n",
       "}\n",
       "; Mitral valve prolapse (HP:0001634): onset age {\n",
       "  iso8601duration: \"P2Y\"\n",
       "}\n",
       "; Thrombocytopenia (HP:0001873): onset age {\n",
       "  iso8601duration: \"P2Y\"\n",
       "}\n",
       "; Anemia (HP:0001903): onset age {\n",
       "  iso8601duration: \"P2Y\"\n",
       "}\n",
       "; Leukopenia (HP:0001882): onset age {\n",
       "  iso8601duration: \"P2Y\"\n",
       "}\n",
       "; Neutropenia (HP:0001875): onset age {\n",
       "  iso8601duration: \"P2Y\"\n",
       "}\n",
       "; Pancytopenia (HP:0001876): onset age {\n",
       "  iso8601duration: \"P2Y\"\n",
       "}\n",
       "; Megakaryocyte nucleus hypolobulation (HP:0031385): onset age {\n",
       "  iso8601duration: \"P2Y\"\n",
       "}\n",
       "; Pyloric stenosis (HP:0002021): onset age {\n",
       "  iso8601duration: \"P2Y\"\n",
       "}\n",
       "</td></tr>\n",
       "<tr><td style=\"text-align: left;\">patient (FEMALE; P19Y)</td><td style=\"text-align: left;\">Thrombocytopenia 13, syndromic (OMIM:620776)</td><td style=\"text-align: left;\">NM_001008216.2:c.449C>T (homozygous)</td><td style=\"text-align: left;\">Megakaryocyte dysplasia (HP:0031689): onset ; Epistaxis (HP:0000421): onset ; Gingival bleeding (HP:0000225): onset ; excluded: Reduced erythrocyte galactose-1-phosphate uridylyltransferase activity (HP:4000208): onset ; excluded: Intellectual disability (HP:0001249): onset ; excluded: Hepatomegaly (HP:0002240): onset ; excluded: Cataract (HP:0000518): onset <br/><b>TimeElement(element=Age(iso8601duration=P13D))</b>: Hypergalactosemia (HP:0012024): onset age {\n",
       "  iso8601duration: \"P13D\"\n",
       "}\n",
       "<br/><b>TimeElement(element=Age(iso8601duration=P2Y5M))</b>: Macrothrombocytopenia (HP:0040185): onset age {\n",
       "  iso8601duration: \"P2Y5M\"\n",
       "}\n",
       "; Lymphopenia (HP:0001888): onset age {\n",
       "  iso8601duration: \"P2Y5M\"\n",
       "}\n",
       "; Anemia (HP:0001903): onset age {\n",
       "  iso8601duration: \"P2Y5M\"\n",
       "}\n",
       "; Leukopenia (HP:0001882): onset age {\n",
       "  iso8601duration: \"P2Y5M\"\n",
       "}\n",
       "</td></tr>\n",
       "<tr><td style=\"text-align: left;\">Pedigree A. II.1 (MALE; P45Y)</td><td style=\"text-align: left;\">Thrombocytopenia 13, syndromic (OMIM:620776)</td><td style=\"text-align: left;\"><ul> <li>NM_001008216.2:c.449C>T (heterozygous)</li> <li>NM_001008216.2:c.230_231insTGTT (heterozygous)</li> </ul></td><td style=\"text-align: left;\">Mitral valve prolapse (HP:0001634): onset ; Macrothrombocytopenia (HP:0040185): onset ; Giant platelets (HP:0001902): onset ; Megakaryocyte dysplasia (HP:0031689): onset ; Epistaxis (HP:0000421): onset ; Intellectual disability (HP:0001249): onset ; Hepatomegaly (HP:0002240): onset ; Cataract (HP:0000518): onset ; excluded: Tricuspid valve prolapse (HP:0001704): onset ; excluded: Anemia (HP:0001903): onset ; excluded: Leukopenia (HP:0001882): onset ; excluded: Neutropenia (HP:0001875): onset </td></tr>\n",
       "<tr><td style=\"text-align: left;\">Pedigree A. II.4 (FEMALE; P37Y)</td><td style=\"text-align: left;\">Thrombocytopenia 13, syndromic (OMIM:620776)</td><td style=\"text-align: left;\"><ul> <li>NM_001008216.2:c.449C>T (heterozygous)</li> <li>NM_001008216.2:c.230_231insTGTT (heterozygous)</li> </ul></td><td style=\"text-align: left;\">Mitral valve prolapse (HP:0001634): onset ; Macrothrombocytopenia (HP:0040185): onset ; Giant platelets (HP:0001902): onset ; Anemia (HP:0001903): onset ; Leukopenia (HP:0001882): onset ; Megakaryocyte dysplasia (HP:0031689): onset ; Epistaxis (HP:0000421): onset ; Intellectual disability (HP:0001249): onset ; Hepatomegaly (HP:0002240): onset ; Cataract (HP:0000518): onset ; excluded: Tricuspid valve prolapse (HP:0001704): onset ; excluded: Neutropenia (HP:0001875): onset </td></tr>\n",
       "<tr><td style=\"text-align: left;\">Pedigree B. II.2 (MALE; P38Y)</td><td style=\"text-align: left;\">Thrombocytopenia 13, syndromic (OMIM:620776)</td><td style=\"text-align: left;\"><ul> <li>NM_001008216.2:c.382G>A (heterozygous)</li> <li>NM_001008216.2:c.668T>C (heterozygous)</li> </ul></td><td style=\"text-align: left;\">Mitral valve prolapse (HP:0001634): onset ; Macrothrombocytopenia (HP:0040185): onset ; Giant platelets (HP:0001902): onset ; Megakaryocyte dysplasia (HP:0031689): onset ; Abnormal bleeding (HP:0001892): onset ; excluded: Tricuspid valve prolapse (HP:0001704): onset ; excluded: Anemia (HP:0001903): onset ; excluded: Leukopenia (HP:0001882): onset ; excluded: Neutropenia (HP:0001875): onset ; excluded: Epistaxis (HP:0000421): onset ; excluded: Intellectual disability (HP:0001249): onset ; excluded: Hepatomegaly (HP:0002240): onset ; excluded: Cataract (HP:0000518): onset </td></tr>\n",
       "</table>"
      ],
      "text/plain": [
       "<IPython.core.display.HTML object>"
      ]
     },
     "metadata": {},
     "output_type": "display_data"
    }
   ],
   "source": [
    "table = IndividualTable(cvalidator.get_error_free_individual_list())\n",
    "display(HTML(table.to_html()))"
   ]
  },
  {
   "cell_type": "code",
   "execution_count": 14,
   "metadata": {},
   "outputs": [
    {
     "name": "stdout",
     "output_type": "stream",
     "text": [
      "[pyphetools] Ingested 10 GA4GH phenopackets.\n",
      "[INFO] Extracted 10 from 10 phenopackets with OMIM:620776\n",
      "\n",
      "\tThrombocytopenia 13, syndromic (OMIM:620776): n=10\n",
      "We found a total of 25 unique HPO terms\n",
      "Extracted disease: Thrombocytopenia 13, syndromic (OMIM:620776)\n",
      "Wrote HPOA disease file to OMIM-620776.tab\n"
     ]
    },
    {
     "data": {
      "text/html": [
       "<div>\n",
       "<style scoped>\n",
       "    .dataframe tbody tr th:only-of-type {\n",
       "        vertical-align: middle;\n",
       "    }\n",
       "\n",
       "    .dataframe tbody tr th {\n",
       "        vertical-align: top;\n",
       "    }\n",
       "\n",
       "    .dataframe thead th {\n",
       "        text-align: right;\n",
       "    }\n",
       "</style>\n",
       "<table border=\"1\" class=\"dataframe\">\n",
       "  <thead>\n",
       "    <tr style=\"text-align: right;\">\n",
       "      <th></th>\n",
       "      <th>#diseaseID</th>\n",
       "      <th>diseaseName</th>\n",
       "      <th>phenotypeID</th>\n",
       "      <th>phenotypeName</th>\n",
       "      <th>onsetID</th>\n",
       "      <th>onsetName</th>\n",
       "      <th>frequency</th>\n",
       "      <th>sex</th>\n",
       "      <th>negation</th>\n",
       "      <th>modifier</th>\n",
       "      <th>description</th>\n",
       "      <th>publication</th>\n",
       "      <th>evidence</th>\n",
       "      <th>biocuration</th>\n",
       "    </tr>\n",
       "  </thead>\n",
       "  <tbody>\n",
       "    <tr>\n",
       "      <th>0</th>\n",
       "      <td>OMIM:620776</td>\n",
       "      <td>Thrombocytopenia 13, syndromic</td>\n",
       "      <td>HP:0001873</td>\n",
       "      <td>Thrombocytopenia</td>\n",
       "      <td></td>\n",
       "      <td></td>\n",
       "      <td>4/4</td>\n",
       "      <td></td>\n",
       "      <td></td>\n",
       "      <td></td>\n",
       "      <td></td>\n",
       "      <td>PMID:30247636</td>\n",
       "      <td>PCS</td>\n",
       "      <td>ORCID:0000-0002-0736-9199[2024-09-21]</td>\n",
       "    </tr>\n",
       "    <tr>\n",
       "      <th>1</th>\n",
       "      <td>OMIM:620776</td>\n",
       "      <td>Thrombocytopenia 13, syndromic</td>\n",
       "      <td>HP:0001903</td>\n",
       "      <td>Anemia</td>\n",
       "      <td></td>\n",
       "      <td></td>\n",
       "      <td>4/5</td>\n",
       "      <td></td>\n",
       "      <td></td>\n",
       "      <td></td>\n",
       "      <td></td>\n",
       "      <td>PMID:30247636</td>\n",
       "      <td>PCS</td>\n",
       "      <td>ORCID:0000-0002-0736-9199[2024-09-21]</td>\n",
       "    </tr>\n",
       "    <tr>\n",
       "      <th>2</th>\n",
       "      <td>OMIM:620776</td>\n",
       "      <td>Thrombocytopenia 13, syndromic</td>\n",
       "      <td>HP:0001875</td>\n",
       "      <td>Neutropenia</td>\n",
       "      <td></td>\n",
       "      <td></td>\n",
       "      <td>5/5</td>\n",
       "      <td></td>\n",
       "      <td></td>\n",
       "      <td></td>\n",
       "      <td></td>\n",
       "      <td>PMID:30247636</td>\n",
       "      <td>PCS</td>\n",
       "      <td>ORCID:0000-0002-0736-9199[2024-09-21]</td>\n",
       "    </tr>\n",
       "    <tr>\n",
       "      <th>3</th>\n",
       "      <td>OMIM:620776</td>\n",
       "      <td>Thrombocytopenia 13, syndromic</td>\n",
       "      <td>HP:0001876</td>\n",
       "      <td>Pancytopenia</td>\n",
       "      <td></td>\n",
       "      <td></td>\n",
       "      <td>1/5</td>\n",
       "      <td></td>\n",
       "      <td></td>\n",
       "      <td></td>\n",
       "      <td></td>\n",
       "      <td>PMID:30247636</td>\n",
       "      <td>PCS</td>\n",
       "      <td>ORCID:0000-0002-0736-9199[2024-09-21]</td>\n",
       "    </tr>\n",
       "    <tr>\n",
       "      <th>4</th>\n",
       "      <td>OMIM:620776</td>\n",
       "      <td>Thrombocytopenia 13, syndromic</td>\n",
       "      <td>HP:0001342</td>\n",
       "      <td>Cerebral hemorrhage</td>\n",
       "      <td></td>\n",
       "      <td></td>\n",
       "      <td>3/5</td>\n",
       "      <td></td>\n",
       "      <td></td>\n",
       "      <td></td>\n",
       "      <td></td>\n",
       "      <td>PMID:30247636</td>\n",
       "      <td>PCS</td>\n",
       "      <td>ORCID:0000-0002-0736-9199[2024-09-21]</td>\n",
       "    </tr>\n",
       "  </tbody>\n",
       "</table>\n",
       "</div>"
      ],
      "text/plain": [
       "    #diseaseID                     diseaseName phenotypeID  \\\n",
       "0  OMIM:620776  Thrombocytopenia 13, syndromic  HP:0001873   \n",
       "1  OMIM:620776  Thrombocytopenia 13, syndromic  HP:0001903   \n",
       "2  OMIM:620776  Thrombocytopenia 13, syndromic  HP:0001875   \n",
       "3  OMIM:620776  Thrombocytopenia 13, syndromic  HP:0001876   \n",
       "4  OMIM:620776  Thrombocytopenia 13, syndromic  HP:0001342   \n",
       "\n",
       "         phenotypeName onsetID onsetName frequency sex negation modifier  \\\n",
       "0     Thrombocytopenia                         4/4                         \n",
       "1               Anemia                         4/5                         \n",
       "2          Neutropenia                         5/5                         \n",
       "3         Pancytopenia                         1/5                         \n",
       "4  Cerebral hemorrhage                         3/5                         \n",
       "\n",
       "  description    publication evidence                            biocuration  \n",
       "0              PMID:30247636      PCS  ORCID:0000-0002-0736-9199[2024-09-21]  \n",
       "1              PMID:30247636      PCS  ORCID:0000-0002-0736-9199[2024-09-21]  \n",
       "2              PMID:30247636      PCS  ORCID:0000-0002-0736-9199[2024-09-21]  \n",
       "3              PMID:30247636      PCS  ORCID:0000-0002-0736-9199[2024-09-21]  \n",
       "4              PMID:30247636      PCS  ORCID:0000-0002-0736-9199[2024-09-21]  "
      ]
     },
     "execution_count": 14,
     "metadata": {},
     "output_type": "execute_result"
    }
   ],
   "source": [
    "pmid=\"PMID:30247636\"\n",
    "df = timporter.create_hpoa_from_phenopackets(pmid=pmid, mode_of_inheritance=Moi.AR, target=\"OMIM:620776\")\n",
    "df.head()"
   ]
  },
  {
   "cell_type": "code",
   "execution_count": null,
   "metadata": {},
   "outputs": [],
   "source": []
  }
 ],
 "metadata": {
  "kernelspec": {
   "display_name": "ps24venv",
   "language": "python",
   "name": "python3"
  },
  "language_info": {
   "codemirror_mode": {
    "name": "ipython",
    "version": 3
   },
   "file_extension": ".py",
   "mimetype": "text/x-python",
   "name": "python",
   "nbconvert_exporter": "python",
   "pygments_lexer": "ipython3",
   "version": "3.12.4"
  }
 },
 "nbformat": 4,
 "nbformat_minor": 2
}
