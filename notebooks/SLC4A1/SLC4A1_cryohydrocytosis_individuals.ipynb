{
 "cells": [
  {
   "cell_type": "markdown",
   "id": "359c51da-aaaa-4bbb-ac44-cf4d40383adf",
   "metadata": {},
   "source": [
    "# SLC4A1 Cryohydrocytosis \tIndividuals\n",
    "See [OMIM:185020](https://omim.org/entry/185020)."
   ]
  },
  {
   "cell_type": "code",
   "execution_count": 1,
   "id": "494e0bb0-ee64-413f-ae7c-398b859a057e",
   "metadata": {},
   "outputs": [
    {
     "name": "stdout",
     "output_type": "stream",
     "text": [
      "Using pyphetools version 0.9.79\n"
     ]
    },
    {
     "name": "stderr",
     "output_type": "stream",
     "text": [
      "/Users/robin/GIT/phenopacket-store/ps24venv/lib/python3.9/site-packages/urllib3/__init__.py:35: NotOpenSSLWarning: urllib3 v2 only supports OpenSSL 1.1.1+, currently the 'ssl' module is compiled with 'LibreSSL 2.8.3'. See: https://github.com/urllib3/urllib3/issues/3020\n",
      "  warnings.warn(\n"
     ]
    }
   ],
   "source": [
    "from pyphetools.creation import TemplateImporter\n",
    "from pyphetools.visualization import IndividualTable, QcVisualizer\n",
    "from IPython.display import display, HTML\n",
    "import pyphetools\n",
    "print(f\"Using pyphetools version {pyphetools.__version__}\")"
   ]
  },
  {
   "cell_type": "code",
   "execution_count": 2,
   "id": "389e1126-c77a-4624-a70c-fbdebee3a40e",
   "metadata": {},
   "outputs": [],
   "source": [
    "template = \"input/slc4a1_cryohydrosis_individuals.xlsx\"\n",
    "hp_json = \"../hp.json\"\n",
    "created_by = \"0000-0002-0736-9199\""
   ]
  },
  {
   "cell_type": "code",
   "execution_count": 3,
   "id": "a96566cf-336c-402a-b559-14364a147710",
   "metadata": {},
   "outputs": [
    {
     "name": "stdout",
     "output_type": "stream",
     "text": [
      "HPO version 2024-04-04\n",
      "Created encoders for 28 fields\n",
      "Importing OMIM:185020, Cryohydrocytosis, HGNC:11027, SLC4A1,  NM_000342.4\n",
      "[INFO] encoding variant \"c.2201A>G\"\n",
      "https://rest.variantvalidator.org/VariantValidator/variantvalidator/hg38/NM_000342.4%3Ac.2201A>G/NM_000342.4?content-type=application%2Fjson\n",
      "We output 1 GA4GH phenopackets to the directory phenopackets\n"
     ]
    }
   ],
   "source": [
    "timporter = TemplateImporter(template=template, hp_json=hp_json, created_by=created_by)\n",
    "individual_list, cvalidator = timporter.import_phenopackets_from_template()"
   ]
  },
  {
   "cell_type": "code",
   "execution_count": 4,
   "id": "15645a8b-b44a-458e-a267-10771e2a1e57",
   "metadata": {},
   "outputs": [
    {
     "data": {
      "text/html": [
       "<h2>Cohort validation</h2>\n",
       "<p>No errors found for the cohort with 1 individuals</p>"
      ],
      "text/plain": [
       "<IPython.core.display.HTML object>"
      ]
     },
     "metadata": {},
     "output_type": "display_data"
    }
   ],
   "source": [
    "qc = QcVisualizer(cohort_validator=cvalidator)\n",
    "display(HTML(qc.to_summary_html()))"
   ]
  },
  {
   "cell_type": "code",
   "execution_count": 5,
   "id": "72356ba0-9e00-4eb5-ae57-01439d904bf7",
   "metadata": {},
   "outputs": [
    {
     "data": {
      "text/html": [
       "<table style=\"border: 2px solid black; align: \"left\">\n",
       "<caption>1 phenopacket - PMID:20015879 (n=1)</caption>\n",
       "<tr><th style=\"text-align: left;font-weight: bold;\">Individual</th><th style=\"text-align: left;font-weight: bold;\">Disease</th><th style=\"text-align: left;font-weight: bold;\">Genotype</th><th style=\"text-align: left;font-weight: bold;\">Phenotypic features</th></tr>\n",
       "<tr><td style=\"text-align: left;\">Patient (MALE; n/a)</td><td style=\"text-align: left;\">Cryohydrocytosis (OMIM:185020)</td><td style=\"text-align: left;\">NM_000342.4:c.2201A>G (heterozygous)</td><td style=\"text-align: left;\">Hemolytic anemia (HP:0001878); Stomatocytosis (HP:0004446); Anisocytosis (HP:0011273); Microcytic anemia (HP:0001935); Increased red cell osmotic fragility (HP:0005502); Reticulocytosis (HP:0001923); Hypersplenism (HP:0001971); Paroxysmal vertigo (HP:0010532); Chronic fatigue (HP:0012432); excluded: Coombs-positive hemolytic anemia (HP:0004844)</td></tr>\n",
       "</table>"
      ],
      "text/plain": [
       "<IPython.core.display.HTML object>"
      ]
     },
     "metadata": {},
     "output_type": "display_data"
    }
   ],
   "source": [
    "table = IndividualTable(cvalidator.get_error_free_individual_list())\n",
    "display(HTML(table.to_html()))"
   ]
  },
  {
   "cell_type": "code",
   "execution_count": null,
   "id": "3b819f45-4a92-442e-8840-e7c698ca17fe",
   "metadata": {},
   "outputs": [],
   "source": []
  }
 ],
 "metadata": {
  "kernelspec": {
   "display_name": "ps24venv",
   "language": "python",
   "name": "python3"
  },
  "language_info": {
   "codemirror_mode": {
    "name": "ipython",
    "version": 3
   },
   "file_extension": ".py",
   "mimetype": "text/x-python",
   "name": "python",
   "nbconvert_exporter": "python",
   "pygments_lexer": "ipython3",
   "version": "3.9.6"
  }
 },
 "nbformat": 4,
 "nbformat_minor": 5
}
