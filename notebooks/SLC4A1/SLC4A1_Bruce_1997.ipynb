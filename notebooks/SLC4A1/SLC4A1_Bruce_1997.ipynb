{
 "cells": [
  {
   "cell_type": "markdown",
   "id": "ecbc4171-bb59-40cd-aec2-a66df216ddd4",
   "metadata": {},
   "source": [
    "# SLC4A1 Bruce et al., 1997. Distal renal tubular acidosis 1 \t179800 \n",
    "\n",
    "Data derived from [Bruce LJ (1997) Familial distal renal tubular acidosis is associated with mutations in the red cell anion exchanger (Band 3, AE1) gene. J Clin Invest 100:1693-707. PMID: 9312167](https://pubmed.ncbi.nlm.nih.gov/9312167/)\n",
    "\n",
    "Variants were encoded as follows\n",
    "\n",
    "-  family A: G->A mutation at 1766 (R589H) - NM_000342.4(SLC4A1):c.1766G>A (p.Arg589His)\n",
    "-  family B: G->A mutation at 1766 (R589H) - NM_000342.4(SLC4A1):c.1766G>A (p.Arg589His)\n",
    "-  family C: C->T mutation at 1765 (R589C) - NM_000342.4(SLC4A1):c.1765C>T (p.Arg589Cys)\n",
    "-  family D: C->T mutation at 1838 (S613F) - NM_000342.4(SLC4A1):c.1838C>T (p.Ser613Phe) "
   ]
  },
  {
   "cell_type": "code",
   "execution_count": 1,
   "id": "376949fd-aa8c-4fca-9916-c58703d7b1db",
   "metadata": {},
   "outputs": [
    {
     "name": "stdout",
     "output_type": "stream",
     "text": [
      "Using pyphetools version 0.9.79\n"
     ]
    },
    {
     "name": "stderr",
     "output_type": "stream",
     "text": [
      "/Users/robin/GIT/phenopacket-store/ps24venv/lib/python3.9/site-packages/urllib3/__init__.py:35: NotOpenSSLWarning: urllib3 v2 only supports OpenSSL 1.1.1+, currently the 'ssl' module is compiled with 'LibreSSL 2.8.3'. See: https://github.com/urllib3/urllib3/issues/3020\n",
      "  warnings.warn(\n"
     ]
    }
   ],
   "source": [
    "import pandas as pd\n",
    "from IPython.display import display, HTML\n",
    "pd.set_option('display.max_colwidth', None) # show entire column contents, important!\n",
    "from collections import defaultdict\n",
    "from pyphetools.creation import *\n",
    "from pyphetools.visualization import PhenopacketTable, QcVisualizer\n",
    "from pyphetools.validation import *\n",
    "import pyphetools\n",
    "print(f\"Using pyphetools version {pyphetools.__version__}\")"
   ]
  },
  {
   "cell_type": "code",
   "execution_count": 2,
   "id": "c20678c6-82e6-48d7-8ad2-1cd4ebef886d",
   "metadata": {},
   "outputs": [
    {
     "name": "stdout",
     "output_type": "stream",
     "text": [
      "HPO version 2024-04-04\n"
     ]
    }
   ],
   "source": [
    "PMID=\"PMID:9312167\"\n",
    "title = \"Familial distal renal tubular acidosis is associated with mutations in the red cell anion exchanger (Band 3, AE1) gene\"\n",
    "cite = Citation(pmid=PMID, title=title)\n",
    "parser = HpoParser(hpo_json_file=\"../hp.json\")\n",
    "hpo_cr = parser.get_hpo_concept_recognizer()\n",
    "hpo_version = parser.get_version()\n",
    "hpo_ontology = parser.get_ontology()\n",
    "metadata = MetaData(created_by=\"ORCID:0000-0002-0736-9199\", citation=cite)\n",
    "metadata.default_versions_with_hpo(version=hpo_version)\n",
    "print(f\"HPO version {hpo_version}\")"
   ]
  },
  {
   "cell_type": "code",
   "execution_count": 3,
   "id": "607003c6-507e-4fe9-801b-c1040e87592f",
   "metadata": {},
   "outputs": [],
   "source": [
    "df = pd.read_csv(\"input/bruce_SLC4A1.tsv\", sep='\\t')"
   ]
  },
  {
   "cell_type": "code",
   "execution_count": 4,
   "id": "4f01e7ee-cf2b-4b15-9ef5-ada33ac1e061",
   "metadata": {},
   "outputs": [
    {
     "data": {
      "text/html": [
       "<div>\n",
       "<style scoped>\n",
       "    .dataframe tbody tr th:only-of-type {\n",
       "        vertical-align: middle;\n",
       "    }\n",
       "\n",
       "    .dataframe tbody tr th {\n",
       "        vertical-align: top;\n",
       "    }\n",
       "\n",
       "    .dataframe thead th {\n",
       "        text-align: right;\n",
       "    }\n",
       "</style>\n",
       "<table border=\"1\" class=\"dataframe\">\n",
       "  <thead>\n",
       "    <tr style=\"text-align: right;\">\n",
       "      <th></th>\n",
       "      <th>individual</th>\n",
       "      <th>Sex/Age</th>\n",
       "      <th>Creatinine(plasma)</th>\n",
       "      <th>HCO3(plasma)</th>\n",
       "      <th>K(Plasma)</th>\n",
       "      <th>min_pH(urine)</th>\n",
       "      <th>maximumOsm(urine)</th>\n",
       "      <th>Age</th>\n",
       "      <th>nephrocalcinosis</th>\n",
       "      <th>kidney stones</th>\n",
       "      <th>dRTA</th>\n",
       "      <th>raised hemoglobin</th>\n",
       "      <th>raised hematocrti</th>\n",
       "      <th>NM_000342.4</th>\n",
       "    </tr>\n",
       "  </thead>\n",
       "  <tbody>\n",
       "    <tr>\n",
       "      <th>0</th>\n",
       "      <td>A:I:1</td>\n",
       "      <td>F/60</td>\n",
       "      <td>74</td>\n",
       "      <td>24</td>\n",
       "      <td>4.1</td>\n",
       "      <td>6.26</td>\n",
       "      <td>635</td>\n",
       "      <td>74</td>\n",
       "      <td>No</td>\n",
       "      <td>Yes</td>\n",
       "      <td>Yes</td>\n",
       "      <td>No</td>\n",
       "      <td>No</td>\n",
       "      <td>c.1766G&gt;A</td>\n",
       "    </tr>\n",
       "    <tr>\n",
       "      <th>1</th>\n",
       "      <td>A:I:2</td>\n",
       "      <td>F/40</td>\n",
       "      <td>86</td>\n",
       "      <td>18</td>\n",
       "      <td>3.4</td>\n",
       "      <td>6.35</td>\n",
       "      <td>572</td>\n",
       "      <td>71</td>\n",
       "      <td>Yes</td>\n",
       "      <td>Yes</td>\n",
       "      <td>No</td>\n",
       "      <td>No</td>\n",
       "      <td>No</td>\n",
       "      <td>c.1766G&gt;A</td>\n",
       "    </tr>\n",
       "  </tbody>\n",
       "</table>\n",
       "</div>"
      ],
      "text/plain": [
       "  individual Sex/Age  Creatinine(plasma)  HCO3(plasma)  K(Plasma)  \\\n",
       "0      A:I:1    F/60                  74            24        4.1   \n",
       "1      A:I:2    F/40                  86            18        3.4   \n",
       "\n",
       "  min_pH(urine) maximumOsm(urine) Age nephrocalcinosis kidney stones dRTA  \\\n",
       "0          6.26               635  74               No           Yes  Yes   \n",
       "1          6.35               572  71              Yes           Yes   No   \n",
       "\n",
       "  raised hemoglobin raised hematocrti NM_000342.4  \n",
       "0                No                No   c.1766G>A  \n",
       "1                No                No   c.1766G>A  "
      ]
     },
     "execution_count": 4,
     "metadata": {},
     "output_type": "execute_result"
    }
   ],
   "source": [
    "df.head(2)"
   ]
  },
  {
   "cell_type": "code",
   "execution_count": 5,
   "id": "ec1244f3-b54e-46ea-abff-fceb52764fd5",
   "metadata": {},
   "outputs": [
    {
     "data": {
      "text/html": [
       "<table style=\"border: 2px solid black;\">\n",
       "\n",
       "<tr>\n",
       "            <th>Result</th>\n",
       "            <th>Columns</th>\n",
       "        </tr>\n",
       "        \n",
       "<tr><td>Mapped</td><td>nephrocalcinosis; kidney stones</td></tr>\n",
       "<tr><td>Unmapped</td><td><q>individual</q>; <q>Sex/Age</q>; <q>Creatinine(plasma)</q>; <q>HCO3(plasma)</q>; <q>K(Plasma)</q>; <q>min_pH(urine)</q>; <q>maximumOsm(urine)</q>; <q>Age</q>; <q>dRTA</q>; <q>raised hemoglobin</q>; <q>raised hematocrti</q>; <q>NM_000342.4</q></td></tr>\n",
       "</table>\n"
      ],
      "text/plain": [
       "<IPython.core.display.HTML object>"
      ]
     },
     "metadata": {},
     "output_type": "display_data"
    }
   ],
   "source": [
    "generator = SimpleColumnMapperGenerator(df=df, hpo_cr=hpo_cr, observed=\"Yes\", excluded=\"No\")\n",
    "column_mapper_list = generator.try_mapping_columns()\n",
    "display(HTML(generator.to_html()))"
   ]
  },
  {
   "cell_type": "code",
   "execution_count": 6,
   "id": "880049bb-3ce9-4f21-bb77-01d8ee9eddc4",
   "metadata": {},
   "outputs": [
    {
     "data": {
      "text/html": [
       "<div>\n",
       "<style scoped>\n",
       "    .dataframe tbody tr th:only-of-type {\n",
       "        vertical-align: middle;\n",
       "    }\n",
       "\n",
       "    .dataframe tbody tr th {\n",
       "        vertical-align: top;\n",
       "    }\n",
       "\n",
       "    .dataframe thead th {\n",
       "        text-align: right;\n",
       "    }\n",
       "</style>\n",
       "<table border=\"1\" class=\"dataframe\">\n",
       "  <thead>\n",
       "    <tr style=\"text-align: right;\">\n",
       "      <th></th>\n",
       "      <th>mapping: 50.0-125.0 micromole/L</th>\n",
       "      <th>count</th>\n",
       "    </tr>\n",
       "  </thead>\n",
       "  <tbody>\n",
       "    <tr>\n",
       "      <th>0</th>\n",
       "      <td>Abnormal circulating creatinine concentration (HP:0012100): excluded</td>\n",
       "      <td>16</td>\n",
       "    </tr>\n",
       "    <tr>\n",
       "      <th>1</th>\n",
       "      <td>Elevated circulating creatinine concentration (HP:0003259): observed</td>\n",
       "      <td>2</td>\n",
       "    </tr>\n",
       "  </tbody>\n",
       "</table>\n",
       "</div>"
      ],
      "text/plain": [
       "                                        mapping: 50.0-125.0 micromole/L count\n",
       "0  Abnormal circulating creatinine concentration (HP:0012100): excluded    16\n",
       "1  Elevated circulating creatinine concentration (HP:0003259): observed     2"
      ]
     },
     "execution_count": 6,
     "metadata": {},
     "output_type": "execute_result"
    }
   ],
   "source": [
    "# Creatinine(plasma). Normal 50–125 mmol/liter\n",
    "# Elevated circulating creatinine concentration HP:0003259\n",
    "crea = Thresholder.creatinine_blood(unit=\"micromole/L\", low_thresh=50, high_thresh=125)\n",
    "creaTM = ThresholdedColumnMapper(column_name=\"Creatinine(plasma)\", thresholder=crea)\n",
    "column_mapper_list.append(creaTM)\n",
    "creaTM.preview_column(df)"
   ]
  },
  {
   "cell_type": "code",
   "execution_count": 7,
   "id": "caf52335-112c-4358-9188-f71f94b5318a",
   "metadata": {},
   "outputs": [
    {
     "data": {
      "text/html": [
       "<div>\n",
       "<style scoped>\n",
       "    .dataframe tbody tr th:only-of-type {\n",
       "        vertical-align: middle;\n",
       "    }\n",
       "\n",
       "    .dataframe tbody tr th {\n",
       "        vertical-align: top;\n",
       "    }\n",
       "\n",
       "    .dataframe thead th {\n",
       "        text-align: right;\n",
       "    }\n",
       "</style>\n",
       "<table border=\"1\" class=\"dataframe\">\n",
       "  <thead>\n",
       "    <tr style=\"text-align: right;\">\n",
       "      <th></th>\n",
       "      <th>mapping: 22.0-31.0 mmol/liter</th>\n",
       "      <th>count</th>\n",
       "    </tr>\n",
       "  </thead>\n",
       "  <tbody>\n",
       "    <tr>\n",
       "      <th>0</th>\n",
       "      <td>Decreased serum bicarbonate concentration (HP:0032066): excluded</td>\n",
       "      <td>7</td>\n",
       "    </tr>\n",
       "    <tr>\n",
       "      <th>1</th>\n",
       "      <td>Decreased serum bicarbonate concentration (HP:0032066): observed</td>\n",
       "      <td>11</td>\n",
       "    </tr>\n",
       "  </tbody>\n",
       "</table>\n",
       "</div>"
      ],
      "text/plain": [
       "                                      mapping: 22.0-31.0 mmol/liter count\n",
       "0  Decreased serum bicarbonate concentration (HP:0032066): excluded     7\n",
       "1  Decreased serum bicarbonate concentration (HP:0032066): observed    11"
      ]
     },
     "execution_count": 7,
     "metadata": {},
     "output_type": "execute_result"
    }
   ],
   "source": [
    "# HCO3(plasma) 22–31 \n",
    "bicarb_low = HpTerm(hpo_id=\"HP:0032066\", label=\"Decreased serum bicarbonate concentration\")\n",
    "bicarb = Thresholder(unit=\"mmol/liter\", threshold_low=22, threshold_high=31, hpo_term_low=bicarb_low, hpo_term_abn=bicarb_low)\n",
    "bicarbTM = ThresholdedColumnMapper(column_name=\"HCO3(plasma)\", thresholder=bicarb)\n",
    "column_mapper_list.append(bicarbTM)\n",
    "bicarbTM.preview_column(df)"
   ]
  },
  {
   "cell_type": "code",
   "execution_count": 8,
   "id": "6c89859e-cb18-4532-aa9d-c2654dce58b3",
   "metadata": {},
   "outputs": [
    {
     "data": {
      "text/html": [
       "<div>\n",
       "<style scoped>\n",
       "    .dataframe tbody tr th:only-of-type {\n",
       "        vertical-align: middle;\n",
       "    }\n",
       "\n",
       "    .dataframe tbody tr th {\n",
       "        vertical-align: top;\n",
       "    }\n",
       "\n",
       "    .dataframe thead th {\n",
       "        text-align: right;\n",
       "    }\n",
       "</style>\n",
       "<table border=\"1\" class=\"dataframe\">\n",
       "  <thead>\n",
       "    <tr style=\"text-align: right;\">\n",
       "      <th></th>\n",
       "      <th>mapping: 3.5-5.2 mEq/L</th>\n",
       "      <th>count</th>\n",
       "    </tr>\n",
       "  </thead>\n",
       "  <tbody>\n",
       "    <tr>\n",
       "      <th>0</th>\n",
       "      <td>Abnormal blood potassium concentration (HP:0011042): excluded</td>\n",
       "      <td>12</td>\n",
       "    </tr>\n",
       "    <tr>\n",
       "      <th>1</th>\n",
       "      <td>Hypokalemia (HP:0002900): observed</td>\n",
       "      <td>6</td>\n",
       "    </tr>\n",
       "  </tbody>\n",
       "</table>\n",
       "</div>"
      ],
      "text/plain": [
       "                                          mapping: 3.5-5.2 mEq/L count\n",
       "0  Abnormal blood potassium concentration (HP:0011042): excluded    12\n",
       "1                             Hypokalemia (HP:0002900): observed     6"
      ]
     },
     "execution_count": 8,
     "metadata": {},
     "output_type": "execute_result"
    }
   ],
   "source": [
    "potassium = Thresholder.potassium_blood()\n",
    "kTM = ThresholdedColumnMapper(column_name=\"K(Plasma)\", thresholder=potassium)\n",
    "column_mapper_list.append( kTM)\n",
    "kTM.preview_column(df)"
   ]
  },
  {
   "cell_type": "code",
   "execution_count": 9,
   "id": "374c62b3-7392-4243-aca6-da093393bc35",
   "metadata": {},
   "outputs": [
    {
     "data": {
      "text/html": [
       "<div>\n",
       "<style scoped>\n",
       "    .dataframe tbody tr th:only-of-type {\n",
       "        vertical-align: middle;\n",
       "    }\n",
       "\n",
       "    .dataframe tbody tr th {\n",
       "        vertical-align: top;\n",
       "    }\n",
       "\n",
       "    .dataframe thead th {\n",
       "        text-align: right;\n",
       "    }\n",
       "</style>\n",
       "<table border=\"1\" class=\"dataframe\">\n",
       "  <thead>\n",
       "    <tr style=\"text-align: right;\">\n",
       "      <th></th>\n",
       "      <th>mapping: None-5.3 pH</th>\n",
       "      <th>count</th>\n",
       "    </tr>\n",
       "  </thead>\n",
       "  <tbody>\n",
       "    <tr>\n",
       "      <th>0</th>\n",
       "      <td>Alkaline urine (HP:0032944): observed</td>\n",
       "      <td>17</td>\n",
       "    </tr>\n",
       "    <tr>\n",
       "      <th>1</th>\n",
       "      <td>Alkaline urine (HP:0032944): not measured</td>\n",
       "      <td>1</td>\n",
       "    </tr>\n",
       "  </tbody>\n",
       "</table>\n",
       "</div>"
      ],
      "text/plain": [
       "                        mapping: None-5.3 pH count\n",
       "0      Alkaline urine (HP:0032944): observed    17\n",
       "1  Alkaline urine (HP:0032944): not measured     1"
      ]
     },
     "execution_count": 9,
     "metadata": {},
     "output_type": "execute_result"
    }
   ],
   "source": [
    "# min_pH(urine) < 5.30\n",
    "alku = HpTerm(hpo_id=\"HP:0032944\", label=\"Alkaline urine\")\n",
    "alkUrine = Thresholder(unit=\"pH\", threshold_high=5.30, hpo_term_high=alku, hpo_term_abn=alku)\n",
    "alkU_TM = ThresholdedColumnMapper(column_name=\"min_pH(urine)\", thresholder=alkUrine)\n",
    "column_mapper_list.append(alkU_TM)\n",
    "alkU_TM.preview_column(df)"
   ]
  },
  {
   "cell_type": "code",
   "execution_count": 10,
   "id": "027ed770-fb0b-46c2-9261-d94046ecfaf0",
   "metadata": {},
   "outputs": [
    {
     "data": {
      "text/html": [
       "<div>\n",
       "<style scoped>\n",
       "    .dataframe tbody tr th:only-of-type {\n",
       "        vertical-align: middle;\n",
       "    }\n",
       "\n",
       "    .dataframe tbody tr th {\n",
       "        vertical-align: top;\n",
       "    }\n",
       "\n",
       "    .dataframe thead th {\n",
       "        text-align: right;\n",
       "    }\n",
       "</style>\n",
       "<table border=\"1\" class=\"dataframe\">\n",
       "  <thead>\n",
       "    <tr style=\"text-align: right;\">\n",
       "      <th></th>\n",
       "      <th>mapping: 940.0-None mOsm/kg</th>\n",
       "      <th>count</th>\n",
       "    </tr>\n",
       "  </thead>\n",
       "  <tbody>\n",
       "    <tr>\n",
       "      <th>0</th>\n",
       "      <td>Impaired renal concentrating ability (HP:0004727): observed</td>\n",
       "      <td>13</td>\n",
       "    </tr>\n",
       "    <tr>\n",
       "      <th>1</th>\n",
       "      <td>Impaired renal concentrating ability (HP:0004727): not measured</td>\n",
       "      <td>5</td>\n",
       "    </tr>\n",
       "  </tbody>\n",
       "</table>\n",
       "</div>"
      ],
      "text/plain": [
       "                                       mapping: 940.0-None mOsm/kg count\n",
       "0      Impaired renal concentrating ability (HP:0004727): observed    13\n",
       "1  Impaired renal concentrating ability (HP:0004727): not measured     5"
      ]
     },
     "execution_count": 10,
     "metadata": {},
     "output_type": "execute_result"
    }
   ],
   "source": [
    "# maximumOsm(urine) >  940\n",
    "conc = HpTerm(hpo_id=\"HP:0004727\", label=\"Impaired renal concentrating ability\")\n",
    "concT = Thresholder(unit=\"mOsm/kg\", threshold_low=940, hpo_term_low=conc)\n",
    "concTM = ThresholdedColumnMapper(column_name=\"maximumOsm(urine)\", thresholder=concT)\n",
    "column_mapper_list.append(concTM)\n",
    "concTM.preview_column(df)"
   ]
  },
  {
   "cell_type": "code",
   "execution_count": 11,
   "id": "2d56e8c1-a248-402a-a56a-10cd446cd476",
   "metadata": {},
   "outputs": [
    {
     "data": {
      "text/html": [
       "<div>\n",
       "<style scoped>\n",
       "    .dataframe tbody tr th:only-of-type {\n",
       "        vertical-align: middle;\n",
       "    }\n",
       "\n",
       "    .dataframe tbody tr th {\n",
       "        vertical-align: top;\n",
       "    }\n",
       "\n",
       "    .dataframe thead th {\n",
       "        text-align: right;\n",
       "    }\n",
       "</style>\n",
       "<table border=\"1\" class=\"dataframe\">\n",
       "  <thead>\n",
       "    <tr style=\"text-align: right;\">\n",
       "      <th></th>\n",
       "      <th>mapping</th>\n",
       "      <th>count</th>\n",
       "    </tr>\n",
       "  </thead>\n",
       "  <tbody>\n",
       "    <tr>\n",
       "      <th>0</th>\n",
       "      <td>original value: \"Yes\" -&gt; HP: Distal renal tubular acidosis (HP:0008341) (observed)</td>\n",
       "      <td>17</td>\n",
       "    </tr>\n",
       "    <tr>\n",
       "      <th>1</th>\n",
       "      <td>original value: \"No\" -&gt; HP: Distal renal tubular acidosis (HP:0008341) (excluded)</td>\n",
       "      <td>1</td>\n",
       "    </tr>\n",
       "  </tbody>\n",
       "</table>\n",
       "</div>"
      ],
      "text/plain": [
       "                                                                              mapping  \\\n",
       "0  original value: \"Yes\" -> HP: Distal renal tubular acidosis (HP:0008341) (observed)   \n",
       "1   original value: \"No\" -> HP: Distal renal tubular acidosis (HP:0008341) (excluded)   \n",
       "\n",
       "  count  \n",
       "0    17  \n",
       "1     1  "
      ]
     },
     "execution_count": 11,
     "metadata": {},
     "output_type": "execute_result"
    }
   ],
   "source": [
    "#  HP:0008341 Distal renal tubular acidosis\n",
    "dRTA = SimpleColumnMapper(column_name=\"dRTA\", hpo_id=\"HP:0008341\", hpo_label=\"Distal renal tubular acidosis\", observed=\"Yes\", excluded=\"No\")\n",
    "column_mapper_list.append(dRTA)\n",
    "dRTA.preview_column(df)"
   ]
  },
  {
   "cell_type": "code",
   "execution_count": 12,
   "id": "aea1933f-348e-4904-bb13-96b8145a9dc6",
   "metadata": {},
   "outputs": [],
   "source": [
    "df[\"Sex\"] =  df[\"Sex/Age\"].apply(lambda x: x.split(\"/\")[0])\n",
    "df[\"Age\"] =  df[\"Sex/Age\"].apply(lambda x: x.split(\"/\")[1])\n",
    "ageMapper = AgeColumnMapper.by_year(column_name=\"Age\")\n",
    "sexMapper = SexColumnMapper(male_symbol=\"M\", female_symbol=\"F\", column_name=\"Sex\")"
   ]
  },
  {
   "cell_type": "code",
   "execution_count": 13,
   "id": "72a73199-8e6f-48e4-b68b-df57c04966e2",
   "metadata": {},
   "outputs": [
    {
     "name": "stdout",
     "output_type": "stream",
     "text": [
      "https://rest.variantvalidator.org/VariantValidator/variantvalidator/hg38/NM_000342.4%3Ac.1766G>A/NM_000342.4?content-type=application%2Fjson\n",
      "https://rest.variantvalidator.org/VariantValidator/variantvalidator/hg38/NM_000342.4%3Ac.1765C>T/NM_000342.4?content-type=application%2Fjson\n",
      "https://rest.variantvalidator.org/VariantValidator/variantvalidator/hg38/NM_000342.4%3Ac.1838C>T/NM_000342.4?content-type=application%2Fjson\n"
     ]
    }
   ],
   "source": [
    "SLC4A1_transcript = \"NM_000342.4\"\n",
    "vvalidator = VariantValidator(genome_build=\"hg38\", transcript=SLC4A1_transcript)\n",
    "var_d = {}\n",
    "for v in df[\"NM_000342.4\"].unique():\n",
    "    var = vvalidator.encode_hgvs(v)\n",
    "    var_d[v] = var\n",
    "varMapper = VariantColumnMapper(variant_column_name=\"NM_000342.4\", variant_d=var_d, default_genotype=\"heterozygous\")"
   ]
  },
  {
   "cell_type": "code",
   "execution_count": 14,
   "id": "b8b81d12-1f08-4af9-b7ed-a1516b9e21ba",
   "metadata": {},
   "outputs": [],
   "source": [
    "encoder = CohortEncoder(df=df, \n",
    "                        hpo_cr=hpo_cr, \n",
    "                        column_mapper_list=column_mapper_list,\n",
    "                        individual_column_name=\"individual\", \n",
    "                        age_at_last_encounter_mapper=ageMapper, \n",
    "                        sexmapper=sexMapper,\n",
    "                        variant_mapper=varMapper,\n",
    "                        metadata=metadata)\n",
    " \t \n",
    "rta1 = Disease(disease_id='OMIM:179800', disease_label='Distal renal tubular acidosis 1')\n",
    "encoder.set_disease(rta1)"
   ]
  },
  {
   "cell_type": "code",
   "execution_count": 15,
   "id": "98d3cccc-39c1-4703-ba2e-8493dc4d3d22",
   "metadata": {},
   "outputs": [],
   "source": [
    "individuals = encoder.get_individuals()"
   ]
  },
  {
   "cell_type": "code",
   "execution_count": 16,
   "id": "97bb72c9-824a-4597-9848-845edbbfb5e9",
   "metadata": {},
   "outputs": [
    {
     "data": {
      "text/html": [
       "<h2>Cohort validation</h2>\n",
       "<p>Errors found with 5 of 18 phenopackets.</p>\n",
       "<table style=\"border: 2px solid black; align: \"left\">\n",
       "<caption>Error counts</caption>\n",
       "<tr><th style=\"text-align: left;font-weight: bold;\">Level</th><th style=\"text-align: left;font-weight: bold;\">Error category</th><th style=\"text-align: left;font-weight: bold;\">Count</th></tr>\n",
       "<tr><td style=\"text-align: left;\">INFORMATION</td><td style=\"text-align: left;\">NOT_MEASURED</td><td style=\"text-align: left;\">6</td></tr>\n",
       "</table>\n",
       "<p>A total of 6 issues were fixed and no individual was removed from the cohort.</p>"
      ],
      "text/plain": [
       "<IPython.core.display.HTML object>"
      ]
     },
     "metadata": {},
     "output_type": "display_data"
    }
   ],
   "source": [
    "cvalidator = CohortValidator(cohort=individuals, ontology=hpo_ontology, min_hpo=1, allelic_requirement=AllelicRequirement.MONO_ALLELIC)\n",
    "qc = QcVisualizer(cohort_validator=cvalidator)\n",
    "display(HTML(qc.to_summary_html()))"
   ]
  },
  {
   "cell_type": "code",
   "execution_count": 17,
   "id": "3c9c435e-3186-4b3f-8e8d-cc5c00f455e3",
   "metadata": {},
   "outputs": [
    {
     "data": {
      "text/html": [
       "<table style=\"border: 2px solid black; align: \"left\">\n",
       "<caption>18 phenopackets - PMID:9312167 (n=18)</caption>\n",
       "<tr><th style=\"text-align: left;font-weight: bold;\">Individual</th><th style=\"text-align: left;font-weight: bold;\">Disease</th><th style=\"text-align: left;font-weight: bold;\">Genotype</th><th style=\"text-align: left;font-weight: bold;\">Phenotypic features</th></tr>\n",
       "<tr><td style=\"text-align: left;\">A:I:1 (FEMALE; P60Y)</td><td style=\"text-align: left;\">Distal renal tubular acidosis 1 (OMIM:179800)</td><td style=\"text-align: left;\">NM_000342.4:c.1766G>A (heterozygous)</td><td style=\"text-align: left;\">Nephrolithiasis (HP:0000787); Alkaline urine (HP:0032944); Impaired renal concentrating ability (HP:0004727); Distal renal tubular acidosis (HP:0008341); excluded: Nephrocalcinosis (HP:0000121); excluded: Abnormal circulating creatinine concentration (HP:0012100); excluded: Decreased serum bicarbonate concentration (HP:0032066); excluded: Abnormal blood potassium concentration (HP:0011042)</td></tr>\n",
       "<tr><td style=\"text-align: left;\">A:I:2 (FEMALE; P40Y)</td><td style=\"text-align: left;\">Distal renal tubular acidosis 1 (OMIM:179800)</td><td style=\"text-align: left;\">NM_000342.4:c.1766G>A (heterozygous)</td><td style=\"text-align: left;\">Nephrocalcinosis (HP:0000121); Nephrolithiasis (HP:0000787); Decreased serum bicarbonate concentration (HP:0032066); Hypokalemia (HP:0002900); Alkaline urine (HP:0032944); Impaired renal concentrating ability (HP:0004727); excluded: Abnormal circulating creatinine concentration (HP:0012100); excluded: Distal renal tubular acidosis (HP:0008341)</td></tr>\n",
       "<tr><td style=\"text-align: left;\">A:I:3 (FEMALE; P44Y)</td><td style=\"text-align: left;\">Distal renal tubular acidosis 1 (OMIM:179800)</td><td style=\"text-align: left;\">NM_000342.4:c.1766G>A (heterozygous)</td><td style=\"text-align: left;\">Nephrocalcinosis (HP:0000121); Elevated circulating creatinine concentration (HP:0003259); Decreased serum bicarbonate concentration (HP:0032066); Alkaline urine (HP:0032944); Distal renal tubular acidosis (HP:0008341); excluded: Nephrolithiasis (HP:0000787); excluded: Abnormal blood potassium concentration (HP:0011042)</td></tr>\n",
       "<tr><td style=\"text-align: left;\">A:II:3 (MALE; P27Y)</td><td style=\"text-align: left;\">Distal renal tubular acidosis 1 (OMIM:179800)</td><td style=\"text-align: left;\">NM_000342.4:c.1766G>A (heterozygous)</td><td style=\"text-align: left;\">Nephrocalcinosis (HP:0000121); Nephrolithiasis (HP:0000787); Hypokalemia (HP:0002900); Alkaline urine (HP:0032944); Impaired renal concentrating ability (HP:0004727); Distal renal tubular acidosis (HP:0008341); excluded: Abnormal circulating creatinine concentration (HP:0012100); excluded: Decreased serum bicarbonate concentration (HP:0032066)</td></tr>\n",
       "<tr><td style=\"text-align: left;\">A:II:5 (FEMALE; P35Y)</td><td style=\"text-align: left;\">Distal renal tubular acidosis 1 (OMIM:179800)</td><td style=\"text-align: left;\">NM_000342.4:c.1766G>A (heterozygous)</td><td style=\"text-align: left;\">Alkaline urine (HP:0032944); Impaired renal concentrating ability (HP:0004727); Distal renal tubular acidosis (HP:0008341); excluded: Nephrocalcinosis (HP:0000121); excluded: Nephrolithiasis (HP:0000787); excluded: Abnormal circulating creatinine concentration (HP:0012100); excluded: Decreased serum bicarbonate concentration (HP:0032066); excluded: Abnormal blood potassium concentration (HP:0011042)</td></tr>\n",
       "<tr><td style=\"text-align: left;\">A:II:6 (MALE; P36Y)</td><td style=\"text-align: left;\">Distal renal tubular acidosis 1 (OMIM:179800)</td><td style=\"text-align: left;\">NM_000342.4:c.1766G>A (heterozygous)</td><td style=\"text-align: left;\">Nephrocalcinosis (HP:0000121); Decreased serum bicarbonate concentration (HP:0032066); Hypokalemia (HP:0002900); Alkaline urine (HP:0032944); Impaired renal concentrating ability (HP:0004727); Distal renal tubular acidosis (HP:0008341); excluded: Nephrolithiasis (HP:0000787); excluded: Abnormal circulating creatinine concentration (HP:0012100)</td></tr>\n",
       "<tr><td style=\"text-align: left;\">A:II:8 (MALE; P34Y)</td><td style=\"text-align: left;\">Distal renal tubular acidosis 1 (OMIM:179800)</td><td style=\"text-align: left;\">NM_000342.4:c.1766G>A (heterozygous)</td><td style=\"text-align: left;\">Nephrocalcinosis (HP:0000121); Nephrolithiasis (HP:0000787); Elevated circulating creatinine concentration (HP:0003259); Alkaline urine (HP:0032944); Impaired renal concentrating ability (HP:0004727); Distal renal tubular acidosis (HP:0008341); excluded: Decreased serum bicarbonate concentration (HP:0032066); excluded: Abnormal blood potassium concentration (HP:0011042)</td></tr>\n",
       "<tr><td style=\"text-align: left;\">A:II:9 (MALE; P31Y)</td><td style=\"text-align: left;\">Distal renal tubular acidosis 1 (OMIM:179800)</td><td style=\"text-align: left;\">NM_000342.4:c.1766G>A (heterozygous)</td><td style=\"text-align: left;\">Nephrolithiasis (HP:0000787); Alkaline urine (HP:0032944); Impaired renal concentrating ability (HP:0004727); Distal renal tubular acidosis (HP:0008341); excluded: Nephrocalcinosis (HP:0000121); excluded: Abnormal circulating creatinine concentration (HP:0012100); excluded: Decreased serum bicarbonate concentration (HP:0032066); excluded: Abnormal blood potassium concentration (HP:0011042)</td></tr>\n",
       "<tr><td style=\"text-align: left;\">A:III:1 (MALE; P9Y)</td><td style=\"text-align: left;\">Distal renal tubular acidosis 1 (OMIM:179800)</td><td style=\"text-align: left;\">NM_000342.4:c.1766G>A (heterozygous)</td><td style=\"text-align: left;\">Alkaline urine (HP:0032944); Distal renal tubular acidosis (HP:0008341); excluded: Nephrocalcinosis (HP:0000121); excluded: Nephrolithiasis (HP:0000787); excluded: Abnormal circulating creatinine concentration (HP:0012100); excluded: Decreased serum bicarbonate concentration (HP:0032066); excluded: Abnormal blood potassium concentration (HP:0011042)</td></tr>\n",
       "<tr><td style=\"text-align: left;\">A:III:2 (FEMALE; P6Y)</td><td style=\"text-align: left;\">Distal renal tubular acidosis 1 (OMIM:179800)</td><td style=\"text-align: left;\">NM_000342.4:c.1766G>A (heterozygous)</td><td style=\"text-align: left;\">Decreased serum bicarbonate concentration (HP:0032066); Alkaline urine (HP:0032944); Distal renal tubular acidosis (HP:0008341); excluded: Nephrocalcinosis (HP:0000121); excluded: Nephrolithiasis (HP:0000787); excluded: Abnormal circulating creatinine concentration (HP:0012100); excluded: Abnormal blood potassium concentration (HP:0011042)</td></tr>\n",
       "<tr><td style=\"text-align: left;\">B:I:4 (FEMALE; P10Y)</td><td style=\"text-align: left;\">Distal renal tubular acidosis 1 (OMIM:179800)</td><td style=\"text-align: left;\">NM_000342.4:c.1766G>A (heterozygous)</td><td style=\"text-align: left;\">Nephrocalcinosis (HP:0000121); Nephrolithiasis (HP:0000787); Decreased serum bicarbonate concentration (HP:0032066); Hypokalemia (HP:0002900); Alkaline urine (HP:0032944); Impaired renal concentrating ability (HP:0004727); Distal renal tubular acidosis (HP:0008341); excluded: Abnormal circulating creatinine concentration (HP:0012100)</td></tr>\n",
       "<tr><td style=\"text-align: left;\">B:II:2 (FEMALE; P11Y)</td><td style=\"text-align: left;\">Distal renal tubular acidosis 1 (OMIM:179800)</td><td style=\"text-align: left;\">NM_000342.4:c.1766G>A (heterozygous)</td><td style=\"text-align: left;\">Nephrocalcinosis (HP:0000121); Nephrolithiasis (HP:0000787); Decreased serum bicarbonate concentration (HP:0032066); Alkaline urine (HP:0032944); Impaired renal concentrating ability (HP:0004727); Distal renal tubular acidosis (HP:0008341); excluded: Abnormal circulating creatinine concentration (HP:0012100); excluded: Abnormal blood potassium concentration (HP:0011042)</td></tr>\n",
       "<tr><td style=\"text-align: left;\">B:II:3 (FEMALE; P8Y)</td><td style=\"text-align: left;\">Distal renal tubular acidosis 1 (OMIM:179800)</td><td style=\"text-align: left;\">NM_000342.4:c.1766G>A (heterozygous)</td><td style=\"text-align: left;\">Nephrocalcinosis (HP:0000121); Nephrolithiasis (HP:0000787); Decreased serum bicarbonate concentration (HP:0032066); Alkaline urine (HP:0032944); Impaired renal concentrating ability (HP:0004727); Distal renal tubular acidosis (HP:0008341); excluded: Abnormal circulating creatinine concentration (HP:0012100); excluded: Abnormal blood potassium concentration (HP:0011042)</td></tr>\n",
       "<tr><td style=\"text-align: left;\">B:II:4 (MALE; P6Y)</td><td style=\"text-align: left;\">Distal renal tubular acidosis 1 (OMIM:179800)</td><td style=\"text-align: left;\">NM_000342.4:c.1766G>A (heterozygous)</td><td style=\"text-align: left;\">Nephrocalcinosis (HP:0000121); Nephrolithiasis (HP:0000787); Decreased serum bicarbonate concentration (HP:0032066); Alkaline urine (HP:0032944); Impaired renal concentrating ability (HP:0004727); Distal renal tubular acidosis (HP:0008341); excluded: Abnormal circulating creatinine concentration (HP:0012100); excluded: Abnormal blood potassium concentration (HP:0011042)</td></tr>\n",
       "<tr><td style=\"text-align: left;\">C:I:1 (MALE; P22Y)</td><td style=\"text-align: left;\">Distal renal tubular acidosis 1 (OMIM:179800)</td><td style=\"text-align: left;\">NM_000342.4:c.1765C>T (heterozygous)</td><td style=\"text-align: left;\">Nephrocalcinosis (HP:0000121); Nephrolithiasis (HP:0000787); Decreased serum bicarbonate concentration (HP:0032066); Hypokalemia (HP:0002900); Alkaline urine (HP:0032944); Impaired renal concentrating ability (HP:0004727); Distal renal tubular acidosis (HP:0008341); excluded: Abnormal circulating creatinine concentration (HP:0012100)</td></tr>\n",
       "<tr><td style=\"text-align: left;\">C:II:2 (MALE; P2Y)</td><td style=\"text-align: left;\">Distal renal tubular acidosis 1 (OMIM:179800)</td><td style=\"text-align: left;\">NM_000342.4:c.1765C>T (heterozygous)</td><td style=\"text-align: left;\">Nephrocalcinosis (HP:0000121); Decreased serum bicarbonate concentration (HP:0032066); Hypokalemia (HP:0002900); Distal renal tubular acidosis (HP:0008341); excluded: Nephrolithiasis (HP:0000787); excluded: Abnormal circulating creatinine concentration (HP:0012100)</td></tr>\n",
       "<tr><td style=\"text-align: left;\">D:I:1 (MALE; P27Y)</td><td style=\"text-align: left;\">Distal renal tubular acidosis 1 (OMIM:179800)</td><td style=\"text-align: left;\">NM_000342.4:c.1838C>T (heterozygous)</td><td style=\"text-align: left;\">Nephrocalcinosis (HP:0000121); Decreased serum bicarbonate concentration (HP:0032066); Alkaline urine (HP:0032944); Distal renal tubular acidosis (HP:0008341); excluded: Nephrolithiasis (HP:0000787); excluded: Abnormal circulating creatinine concentration (HP:0012100); excluded: Abnormal blood potassium concentration (HP:0011042)</td></tr>\n",
       "<tr><td style=\"text-align: left;\">D:II:2 (FEMALE; P19Y)</td><td style=\"text-align: left;\">Distal renal tubular acidosis 1 (OMIM:179800)</td><td style=\"text-align: left;\">NM_000342.4:c.1838C>T (heterozygous)</td><td style=\"text-align: left;\">Nephrocalcinosis (HP:0000121); Alkaline urine (HP:0032944); Impaired renal concentrating ability (HP:0004727); Distal renal tubular acidosis (HP:0008341); excluded: Nephrolithiasis (HP:0000787); excluded: Abnormal circulating creatinine concentration (HP:0012100); excluded: Decreased serum bicarbonate concentration (HP:0032066); excluded: Abnormal blood potassium concentration (HP:0011042)</td></tr>\n",
       "</table>"
      ],
      "text/plain": [
       "<IPython.core.display.HTML object>"
      ]
     },
     "metadata": {},
     "output_type": "display_data"
    }
   ],
   "source": [
    "individuals = cvalidator.get_error_free_individual_list()\n",
    "table = PhenopacketTable(individual_list=individuals, metadata=metadata)\n",
    "display(HTML(table.to_html()))"
   ]
  },
  {
   "cell_type": "code",
   "execution_count": 18,
   "id": "0651211f-8173-47ce-9fae-7472f36382e4",
   "metadata": {},
   "outputs": [
    {
     "name": "stdout",
     "output_type": "stream",
     "text": [
      "We output 18 GA4GH phenopackets to the directory phenopackets\n"
     ]
    }
   ],
   "source": [
    "Individual.output_individuals_as_phenopackets(individual_list=individuals, metadata=metadata)"
   ]
  },
  {
   "cell_type": "code",
   "execution_count": null,
   "id": "c07a74ba-3e5c-42e6-94f4-4fc2503ab38b",
   "metadata": {},
   "outputs": [],
   "source": []
  }
 ],
 "metadata": {
  "kernelspec": {
   "display_name": "ps24venv",
   "language": "python",
   "name": "python3"
  },
  "language_info": {
   "codemirror_mode": {
    "name": "ipython",
    "version": 3
   },
   "file_extension": ".py",
   "mimetype": "text/x-python",
   "name": "python",
   "nbconvert_exporter": "python",
   "pygments_lexer": "ipython3",
   "version": "3.9.6"
  }
 },
 "nbformat": 4,
 "nbformat_minor": 5
}
