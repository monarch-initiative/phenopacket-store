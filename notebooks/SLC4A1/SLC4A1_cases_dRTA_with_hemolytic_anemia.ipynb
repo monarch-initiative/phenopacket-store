{
 "cells": [
  {
   "cell_type": "markdown",
   "id": "fe722687-7d3c-4cef-9ae9-d8f333d2353c",
   "metadata": {},
   "source": [
    "# SLC4A1\n",
    "Distal renal tubular acidosis 4 with hemolytic anemia \t[OMIM:611590](https://www.omim.org/entry/611590)\n",
    "\n",
    "Data summarized from several publications with case reports or small cohorts."
   ]
  },
  {
   "cell_type": "code",
   "execution_count": 1,
   "id": "015f0237-6c15-47da-98e0-2adaa8ea1345",
   "metadata": {},
   "outputs": [
    {
     "name": "stderr",
     "output_type": "stream",
     "text": [
      "/Users/robin/GIT/phenopacket-store/ps24venv/lib/python3.9/site-packages/urllib3/__init__.py:35: NotOpenSSLWarning: urllib3 v2 only supports OpenSSL 1.1.1+, currently the 'ssl' module is compiled with 'LibreSSL 2.8.3'. See: https://github.com/urllib3/urllib3/issues/3020\n",
      "  warnings.warn(\n"
     ]
    },
    {
     "name": "stdout",
     "output_type": "stream",
     "text": [
      "Using pyphetools version 0.9.79\n"
     ]
    }
   ],
   "source": [
    "from pyphetools.creation import TemplateImporter\n",
    "from pyphetools.visualization import IndividualTable, QcVisualizer\n",
    "from IPython.display import display, HTML\n",
    "import pyphetools\n",
    "print(f\"Using pyphetools version {pyphetools.__version__}\")"
   ]
  },
  {
   "cell_type": "code",
   "execution_count": 2,
   "id": "9aa6f0ab-06f1-4b56-a08f-8bb11402e926",
   "metadata": {},
   "outputs": [],
   "source": [
    "template = \"input/slc4a1_rta_individuals.xlsx\"\n",
    "hp_json = \"../hp.json\"\n",
    "created_by = \"0000-0002-0736-9199\""
   ]
  },
  {
   "cell_type": "code",
   "execution_count": 4,
   "id": "cb7c5af9-2f25-4e7d-86a2-d7ce29c63ef7",
   "metadata": {},
   "outputs": [
    {
     "name": "stdout",
     "output_type": "stream",
     "text": [
      "HPO version 2024-04-04\n",
      "Created encoders for 46 fields\n",
      "Importing OMIM:611590, Distal renal tubular acidosis 4 with hemolytic anemia, HGNC:11027, SLC4A1,  NM_000342.4\n",
      "[INFO] encoding variant \"c.2573C>A\"\n",
      "https://rest.variantvalidator.org/VariantValidator/variantvalidator/hg38/NM_000342.4%3Ac.2573C>A/NM_000342.4?content-type=application%2Fjson\n",
      "[INFO] encoding variant \"c.2102G>A\"\n",
      "https://rest.variantvalidator.org/VariantValidator/variantvalidator/hg38/NM_000342.4%3Ac.2102G>A/NM_000342.4?content-type=application%2Fjson\n",
      "[INFO] encoding variant \"c.1462G>A\"\n",
      "https://rest.variantvalidator.org/VariantValidator/variantvalidator/hg38/NM_000342.4%3Ac.1462G>A/NM_000342.4?content-type=application%2Fjson\n",
      "[INFO] encoding variant \"c.1199_1225del\"\n",
      "https://rest.variantvalidator.org/VariantValidator/variantvalidator/hg38/NM_000342.4%3Ac.1199_1225del/NM_000342.4?content-type=application%2Fjson\n",
      "We output 7 GA4GH phenopackets to the directory phenopackets\n"
     ]
    }
   ],
   "source": [
    "timporter = TemplateImporter(template=template, hp_json=hp_json, created_by=created_by)\n",
    "individual_list, cvalidator = timporter.import_phenopackets_from_template()"
   ]
  },
  {
   "cell_type": "code",
   "execution_count": 5,
   "id": "5e36487e-0120-4b0c-83d8-ee1c97057c07",
   "metadata": {},
   "outputs": [
    {
     "data": {
      "text/html": [
       "<h2>Cohort validation</h2>\n",
       "<p>Errors found with 2 of 7 phenopackets.</p>\n",
       "<table style=\"border: 2px solid black; align: \"left\">\n",
       "<caption>Error counts</caption>\n",
       "<tr><th style=\"text-align: left;font-weight: bold;\">Level</th><th style=\"text-align: left;font-weight: bold;\">Error category</th><th style=\"text-align: left;font-weight: bold;\">Count</th></tr>\n",
       "<tr><td style=\"text-align: left;\">WARNING</td><td style=\"text-align: left;\">REDUNDANT</td><td style=\"text-align: left;\">2</td></tr>\n",
       "</table>\n",
       "<p>A total of 2 issues were fixed and no individual was removed from the cohort.</p>"
      ],
      "text/plain": [
       "<IPython.core.display.HTML object>"
      ]
     },
     "metadata": {},
     "output_type": "display_data"
    }
   ],
   "source": [
    "qc = QcVisualizer(cohort_validator=cvalidator)\n",
    "display(HTML(qc.to_summary_html()))"
   ]
  },
  {
   "cell_type": "code",
   "execution_count": 6,
   "id": "d69863bb-1c70-47be-9b42-df4a51038f16",
   "metadata": {},
   "outputs": [
    {
     "data": {
      "text/html": [
       "<table style=\"border: 2px solid black; align: \"left\">\n",
       "<caption>7 phenopackets - PMID:9854053 (n=2); PMID:10942416 (n=1); PMID:20799361 (n=2); PMID:10571775 (n=2)</caption>\n",
       "<tr><th style=\"text-align: left;font-weight: bold;\">Individual</th><th style=\"text-align: left;font-weight: bold;\">Disease</th><th style=\"text-align: left;font-weight: bold;\">Genotype</th><th style=\"text-align: left;font-weight: bold;\">Phenotypic features</th></tr>\n",
       "<tr><td style=\"text-align: left;\">II:2 (MALE; n/a)</td><td style=\"text-align: left;\">Distal renal tubular acidosis 4 with hemolytic anemia (OMIM:611590)</td><td style=\"text-align: left;\">NM_000342.4:c.2102G>A (homozygous)</td><td style=\"text-align: left;\"><b>P3Y6M</b>: Short stature (HP:0004322); Decreased body weight (HP:0004325); Pallor (HP:0000980); Splenomegaly (HP:0001744); Hepatomegaly (HP:0002240); Hypokalemia (HP:0002900); Hyperchloremic metabolic acidosis (HP:0004918); Hyposthenuria (HP:0003158); Alkaline urine (HP:0032944); Nephrocalcinosis (HP:0000121); Hemolytic anemia (HP:0001878); Decreased mean corpuscular volume (HP:0025066); Reticulocytosis (HP:0001923)<br/>Lethargy (HP:0001254); Distal renal tubular acidosis (HP:0008341); Stomatocytosis (HP:0004446); Polychromasia (HP:0034609); Impaired urinary acidification (HP:0031033); excluded: Elevated circulating creatinine concentration (HP:0003259); excluded: Generalized edema (HP:0007430); excluded: Ascites (HP:0001541); excluded: Neonatal hyperbilirubinemia (HP:0003265)</td></tr>\n",
       "<tr><td style=\"text-align: left;\">II:3 (FEMALE; n/a)</td><td style=\"text-align: left;\">Distal renal tubular acidosis 4 with hemolytic anemia (OMIM:611590)</td><td style=\"text-align: left;\">NM_000342.4:c.2102G>A (homozygous)</td><td style=\"text-align: left;\"><b>P1Y</b>: Short stature (HP:0004322); Decreased body weight (HP:0004325); Hypokalemia (HP:0002900); Hyperchloremic metabolic acidosis (HP:0004918); Hyposthenuria (HP:0003158); Alkaline urine (HP:0032944); Nephrocalcinosis (HP:0000121); Hemolytic anemia (HP:0001878); Decreased mean corpuscular volume (HP:0025066); Reticulocytosis (HP:0001923)<br/>Distal renal tubular acidosis (HP:0008341); Stomatocytosis (HP:0004446); Polychromasia (HP:0034609); Impaired urinary acidification (HP:0031033); excluded: Generalized edema (HP:0007430); excluded: Ascites (HP:0001541); excluded: Neonatal hyperbilirubinemia (HP:0003265)</td></tr>\n",
       "<tr><td style=\"text-align: left;\">Patient (FEMALE; P3Y)</td><td style=\"text-align: left;\">Distal renal tubular acidosis 4 with hemolytic anemia (OMIM:611590)</td><td style=\"text-align: left;\">NM_000342.4:c.1462G>A (homozygous)</td><td style=\"text-align: left;\"><b>P1D</b>: Neonatal hyperbilirubinemia (HP:0003265)<br/><b>P3M</b>: Hypokalemia (HP:0002900); Hyperchloremic metabolic acidosis (HP:0004918); Nephrocalcinosis (HP:0000121)<br/>Generalized edema (HP:0007430); Ascites (HP:0001541); Fetal pericardial effusion (HP:0025671); Alkaline urine (HP:0032944); Distal renal tubular acidosis (HP:0008341); Impaired urinary acidification (HP:0031033)</td></tr>\n",
       "<tr><td style=\"text-align: left;\">Patient 1 (UNKNOWN; P9Y)</td><td style=\"text-align: left;\">Distal renal tubular acidosis 4 with hemolytic anemia (OMIM:611590)</td><td style=\"text-align: left;\">NM_000342.4:c.2573C>A (homozygous)</td><td style=\"text-align: left;\"><b>P6Y</b>: Splenomegaly (HP:0001744); Alkaline urine (HP:0032944); Nephrocalcinosis (HP:0000121); Distal renal tubular acidosis (HP:0008341)<br/><b>P15Y</b>: Hemolytic anemia (HP:0001878); Reticulocytosis (HP:0001923); Stomatocytosis (HP:0004446); Hyperbilirubinemia (HP:0002904); Elevated circulating alkaline phosphatase concentration (HP:0003155)<br/>Growth delay (HP:0001510); Elliptocytosis (HP:0004445); Impaired urinary acidification (HP:0031033); excluded: Hepatomegaly (HP:0002240); excluded: Elevated circulating creatinine concentration (HP:0003259); excluded: Decreased mean corpuscular volume (HP:0025066)</td></tr>\n",
       "<tr><td style=\"text-align: left;\">Patient 2 (MALE; P6Y)</td><td style=\"text-align: left;\">Distal renal tubular acidosis 4 with hemolytic anemia (OMIM:611590)</td><td style=\"text-align: left;\">NM_000342.4:c.2573C>A (homozygous)</td><td style=\"text-align: left;\"><b>P1Y4M</b>: Splenomegaly (HP:0001744); Hepatomegaly (HP:0002240); Hyperchloremic metabolic acidosis (HP:0004918); Nephrocalcinosis (HP:0000121); Hemolytic anemia (HP:0001878); Distal renal tubular acidosis (HP:0008341); Stomatocytosis (HP:0004446)<br/><b>P6Y</b>: Short stature (HP:0004322); Decreased body weight (HP:0004325); Reticulocytosis (HP:0001923); Elevated circulating alkaline phosphatase concentration (HP:0003155)<br/>Elliptocytosis (HP:0004445); Impaired urinary acidification (HP:0031033)</td></tr>\n",
       "<tr><td style=\"text-align: left;\">KSN-II-1 (FEMALE; n/a)</td><td style=\"text-align: left;\">Distal renal tubular acidosis 4 with hemolytic anemia (OMIM:611590)</td><td style=\"text-align: left;\"><ul> <li>NM_000342.4:c.2102G>A (heterozygous)</li> <li>NM_000342.4:c.1199_1225del (heterozygous)</li> </ul></td><td style=\"text-align: left;\">Growth delay (HP:0001510); Hypokalemia (HP:0002900); Hyperchloremic metabolic acidosis (HP:0004918); Alkaline urine (HP:0032944); Distal renal tubular acidosis (HP:0008341); Elliptocytosis (HP:0004445); Impaired urinary acidification (HP:0031033); Decreased serum bicarbonate concentration (HP:0032066); excluded: Elevated circulating creatinine concentration (HP:0003259)</td></tr>\n",
       "<tr><td style=\"text-align: left;\">YAT-II-1 (MALE; n/a)</td><td style=\"text-align: left;\">Distal renal tubular acidosis 4 with hemolytic anemia (OMIM:611590)</td><td style=\"text-align: left;\"><ul> <li>NM_000342.4:c.2102G>A (heterozygous)</li> <li>NM_000342.4:c.1199_1225del (heterozygous)</li> </ul></td><td style=\"text-align: left;\">Growth delay (HP:0001510); Hypokalemia (HP:0002900); Hyperchloremic metabolic acidosis (HP:0004918); Alkaline urine (HP:0032944); Distal renal tubular acidosis (HP:0008341); Elliptocytosis (HP:0004445); Impaired urinary acidification (HP:0031033); Decreased serum bicarbonate concentration (HP:0032066); excluded: Elevated circulating creatinine concentration (HP:0003259)</td></tr>\n",
       "</table>"
      ],
      "text/plain": [
       "<IPython.core.display.HTML object>"
      ]
     },
     "metadata": {},
     "output_type": "display_data"
    }
   ],
   "source": [
    "table = IndividualTable(cvalidator.get_error_free_individual_list())\n",
    "display(HTML(table.to_html()))"
   ]
  },
  {
   "cell_type": "code",
   "execution_count": null,
   "id": "65edf5cd-8793-4587-9bb9-e95ca1dcbb45",
   "metadata": {},
   "outputs": [],
   "source": []
  }
 ],
 "metadata": {
  "kernelspec": {
   "display_name": "ps24venv",
   "language": "python",
   "name": "python3"
  },
  "language_info": {
   "codemirror_mode": {
    "name": "ipython",
    "version": 3
   },
   "file_extension": ".py",
   "mimetype": "text/x-python",
   "name": "python",
   "nbconvert_exporter": "python",
   "pygments_lexer": "ipython3",
   "version": "3.9.6"
  }
 },
 "nbformat": 4,
 "nbformat_minor": 5
}
