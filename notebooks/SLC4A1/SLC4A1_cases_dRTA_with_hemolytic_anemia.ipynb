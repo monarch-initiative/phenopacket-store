{
 "cells": [
  {
   "cell_type": "markdown",
   "id": "fe722687-7d3c-4cef-9ae9-d8f333d2353c",
   "metadata": {},
   "source": [
    "# SLC4A1\n",
    "Distal renal tubular acidosis 4 with hemolytic anemia \t[OMIM:611590](https://www.omim.org/entry/611590)\n",
    "\n",
    "Data summarized from several publications with case reports or small cohorts."
   ]
  },
  {
   "cell_type": "code",
   "execution_count": 1,
   "id": "015f0237-6c15-47da-98e0-2adaa8ea1345",
   "metadata": {},
   "outputs": [
    {
     "name": "stdout",
     "output_type": "stream",
     "text": [
      "Using pyphetools version 0.9.66\n"
     ]
    }
   ],
   "source": [
    "import pandas as pd\n",
    "from IPython.display import display, HTML\n",
    "pd.set_option('display.max_colwidth', None) # show entire column contents, important!\n",
    "from collections import defaultdict\n",
    "from pyphetools.creation import *\n",
    "from pyphetools.visualization import IndividualTable, QcVisualizer\n",
    "from pyphetools.validation import *\n",
    "import pyphetools\n",
    "print(f\"Using pyphetools version {pyphetools.__version__}\")"
   ]
  },
  {
   "cell_type": "code",
   "execution_count": 2,
   "id": "9aa6f0ab-06f1-4b56-a08f-8bb11402e926",
   "metadata": {},
   "outputs": [
    {
     "name": "stdout",
     "output_type": "stream",
     "text": [
      "HPO version 2024-01-16\n"
     ]
    }
   ],
   "source": [
    "parser = HpoParser(hpo_json_file=\"../hp.json\")\n",
    "hpo_cr = parser.get_hpo_concept_recognizer()\n",
    "hpo_version = parser.get_version()\n",
    "hpo_ontology = parser.get_ontology()\n",
    "created_by=\"ORCID:0000-0002-0736-9199\"\n",
    "print(f\"HPO version {hpo_version}\")"
   ]
  },
  {
   "cell_type": "code",
   "execution_count": 3,
   "id": "cb7c5af9-2f25-4e7d-86a2-d7ce29c63ef7",
   "metadata": {},
   "outputs": [
    {
     "data": {
      "text/html": [
       "<div>\n",
       "<style scoped>\n",
       "    .dataframe tbody tr th:only-of-type {\n",
       "        vertical-align: middle;\n",
       "    }\n",
       "\n",
       "    .dataframe tbody tr th {\n",
       "        vertical-align: top;\n",
       "    }\n",
       "\n",
       "    .dataframe thead th {\n",
       "        text-align: right;\n",
       "    }\n",
       "</style>\n",
       "<table border=\"1\" class=\"dataframe\">\n",
       "  <thead>\n",
       "    <tr style=\"text-align: right;\">\n",
       "      <th></th>\n",
       "      <th>PMID</th>\n",
       "      <th>title</th>\n",
       "      <th>individual_id</th>\n",
       "      <th>Comment</th>\n",
       "      <th>disease_id</th>\n",
       "      <th>disease_label</th>\n",
       "      <th>transcript</th>\n",
       "      <th>allele_1</th>\n",
       "      <th>allele_2</th>\n",
       "      <th>variant.comment</th>\n",
       "      <th>...</th>\n",
       "      <th>Polychromasia</th>\n",
       "      <th>Generalized edema</th>\n",
       "      <th>Ascites</th>\n",
       "      <th>Neonatal hyperbilirubinemia</th>\n",
       "      <th>Hyperbilirubinemia</th>\n",
       "      <th>Elevated circulating alkaline phosphatase concentration</th>\n",
       "      <th>Elliptocytosis</th>\n",
       "      <th>Impaired urinary acidification</th>\n",
       "      <th>Decreased serum bicarbonate concentration</th>\n",
       "      <th>Failure to thrive</th>\n",
       "    </tr>\n",
       "  </thead>\n",
       "  <tbody>\n",
       "    <tr>\n",
       "      <th>0</th>\n",
       "      <td>str</td>\n",
       "      <td>str</td>\n",
       "      <td>str</td>\n",
       "      <td>optional str</td>\n",
       "      <td>str</td>\n",
       "      <td>str</td>\n",
       "      <td>str</td>\n",
       "      <td>HGVS str</td>\n",
       "      <td>HGVS str</td>\n",
       "      <td>optional str</td>\n",
       "      <td>...</td>\n",
       "      <td>HP:0034609</td>\n",
       "      <td>HP:0007430</td>\n",
       "      <td>HP:0001541</td>\n",
       "      <td>HP:0003265</td>\n",
       "      <td>HP:0002904</td>\n",
       "      <td>HP:0003155</td>\n",
       "      <td>HP:0004445</td>\n",
       "      <td>HP:0031033</td>\n",
       "      <td>HP:0032066</td>\n",
       "      <td>HP:0001508</td>\n",
       "    </tr>\n",
       "    <tr>\n",
       "      <th>1</th>\n",
       "      <td>PMID:9854053</td>\n",
       "      <td>Novel AE1 mutations in recessive distal renal tubular acidosis. Loss-of-function is rescued by glycophorin A</td>\n",
       "      <td>II:2</td>\n",
       "      <td>coexisting Hb E/E</td>\n",
       "      <td>OMIM:611590</td>\n",
       "      <td>Renal tubular acidosis, distal, with hemolytic anemia</td>\n",
       "      <td>NM_000342.4</td>\n",
       "      <td>c.2102G&gt;A</td>\n",
       "      <td>c.2102G&gt;A</td>\n",
       "      <td>NM_000342.4(SLC4A1):c.2102G&gt;A (p.Gly701Asp)</td>\n",
       "      <td>...</td>\n",
       "      <td>observed</td>\n",
       "      <td>excluded</td>\n",
       "      <td>excluded</td>\n",
       "      <td>excluded</td>\n",
       "      <td>NaN</td>\n",
       "      <td>NaN</td>\n",
       "      <td>NaN</td>\n",
       "      <td>observed</td>\n",
       "      <td>NaN</td>\n",
       "      <td>NaN</td>\n",
       "    </tr>\n",
       "  </tbody>\n",
       "</table>\n",
       "<p>2 rows × 41 columns</p>\n",
       "</div>"
      ],
      "text/plain": [
       "           PMID  \\\n",
       "0           str   \n",
       "1  PMID:9854053   \n",
       "\n",
       "                                                                                                          title  \\\n",
       "0                                                                                                           str   \n",
       "1  Novel AE1 mutations in recessive distal renal tubular acidosis. Loss-of-function is rescued by glycophorin A   \n",
       "\n",
       "  individual_id            Comment   disease_id  \\\n",
       "0           str       optional str          str   \n",
       "1          II:2  coexisting Hb E/E  OMIM:611590   \n",
       "\n",
       "                                           disease_label   transcript  \\\n",
       "0                                                    str          str   \n",
       "1  Renal tubular acidosis, distal, with hemolytic anemia  NM_000342.4   \n",
       "\n",
       "    allele_1   allele_2                               variant.comment  ...  \\\n",
       "0   HGVS str   HGVS str                                  optional str  ...   \n",
       "1  c.2102G>A  c.2102G>A  NM_000342.4(SLC4A1):c.2102G>A (p.Gly701Asp)   ...   \n",
       "\n",
       "  Polychromasia Generalized edema     Ascites Neonatal hyperbilirubinemia  \\\n",
       "0    HP:0034609        HP:0007430  HP:0001541                  HP:0003265   \n",
       "1      observed          excluded    excluded                    excluded   \n",
       "\n",
       "  Hyperbilirubinemia Elevated circulating alkaline phosphatase concentration  \\\n",
       "0         HP:0002904                                              HP:0003155   \n",
       "1                NaN                                                     NaN   \n",
       "\n",
       "  Elliptocytosis Impaired urinary acidification  \\\n",
       "0     HP:0004445                     HP:0031033   \n",
       "1            NaN                       observed   \n",
       "\n",
       "  Decreased serum bicarbonate concentration Failure to thrive  \n",
       "0                                HP:0032066        HP:0001508  \n",
       "1                                       NaN               NaN  \n",
       "\n",
       "[2 rows x 41 columns]"
      ]
     },
     "execution_count": 3,
     "metadata": {},
     "output_type": "execute_result"
    }
   ],
   "source": [
    "df = pd.read_excel(\"input/slc4a1_rta_individuals.xlsx\")\n",
    "df.head(2)"
   ]
  },
  {
   "cell_type": "code",
   "execution_count": 4,
   "id": "5e36487e-0120-4b0c-83d8-ee1c97057c07",
   "metadata": {},
   "outputs": [
    {
     "name": "stdout",
     "output_type": "stream",
     "text": [
      "Created encoders for 41 fields\n"
     ]
    }
   ],
   "source": [
    "from pyphetools.creation import CaseTemplateEncoder\n",
    "encoder = CaseTemplateEncoder(df=df, hpo_cr=hpo_cr, created_by=created_by)"
   ]
  },
  {
   "cell_type": "code",
   "execution_count": 5,
   "id": "d69863bb-1c70-47be-9b42-df4a51038f16",
   "metadata": {},
   "outputs": [],
   "source": [
    "individuals = encoder.get_individuals()"
   ]
  },
  {
   "cell_type": "code",
   "execution_count": 6,
   "id": "fce3c1e6-736c-45a5-9ced-4b501aa91a07",
   "metadata": {},
   "outputs": [],
   "source": [
    "vmanager = VariantManager(df=df,\n",
    "                          individual_column_name=\"individual_id\",\n",
    "                          cohort_name=\"SLC4A1\",\n",
    "                          transcript=\"NM_000342.4\",\n",
    "                          allele_1_column_name=\"allele_1\",\n",
    "                          allele_2_column_name=\"allele_2\")"
   ]
  },
  {
   "cell_type": "code",
   "execution_count": 7,
   "id": "0a663f8f-9e36-48c3-a7c3-00c20ef8843a",
   "metadata": {},
   "outputs": [
    {
     "data": {
      "text/html": [
       "<div>\n",
       "<style scoped>\n",
       "    .dataframe tbody tr th:only-of-type {\n",
       "        vertical-align: middle;\n",
       "    }\n",
       "\n",
       "    .dataframe tbody tr th {\n",
       "        vertical-align: top;\n",
       "    }\n",
       "\n",
       "    .dataframe thead th {\n",
       "        text-align: right;\n",
       "    }\n",
       "</style>\n",
       "<table border=\"1\" class=\"dataframe\">\n",
       "  <thead>\n",
       "    <tr style=\"text-align: right;\">\n",
       "      <th></th>\n",
       "      <th>status</th>\n",
       "      <th>count</th>\n",
       "      <th>alleles</th>\n",
       "    </tr>\n",
       "  </thead>\n",
       "  <tbody>\n",
       "    <tr>\n",
       "      <th>0</th>\n",
       "      <td>mapped</td>\n",
       "      <td>7</td>\n",
       "      <td>c.1462G&gt;A, c.2573C&gt;A, c.2102G&gt;A, c.1199_1225del, c.448C&gt;T, c.1985G&gt;A, c.2201A&gt;G</td>\n",
       "    </tr>\n",
       "    <tr>\n",
       "      <th>1</th>\n",
       "      <td>unmapped</td>\n",
       "      <td>0</td>\n",
       "      <td></td>\n",
       "    </tr>\n",
       "  </tbody>\n",
       "</table>\n",
       "</div>"
      ],
      "text/plain": [
       "     status  count  \\\n",
       "0    mapped      7   \n",
       "1  unmapped      0   \n",
       "\n",
       "                                                                           alleles  \n",
       "0  c.1462G>A, c.2573C>A, c.2102G>A, c.1199_1225del, c.448C>T, c.1985G>A, c.2201A>G  \n",
       "1                                                                                   "
      ]
     },
     "execution_count": 7,
     "metadata": {},
     "output_type": "execute_result"
    }
   ],
   "source": [
    "vmanager.to_summary()"
   ]
  },
  {
   "cell_type": "code",
   "execution_count": 8,
   "id": "3615fdd9-9ead-416b-912c-7a1be5620f2a",
   "metadata": {},
   "outputs": [
    {
     "data": {
      "text/html": [
       "<h2>Cohort validation</h2>\n",
       "<p>Errors found with 2 of 7 phenopackets.</p>\n",
       "<table style=\"border: 2px solid black; align: \"left\">\n",
       "<caption>Error counts</caption>\n",
       "<tr><th style=\"text-align: left;font-weight: bold;\">Level</th><th style=\"text-align: left;font-weight: bold;\">Error category</th><th style=\"text-align: left;font-weight: bold;\">Count</th></tr>\n",
       "<tr><td style=\"text-align: left;\">WARNING</td><td style=\"text-align: left;\">REDUNDANT</td><td style=\"text-align: left;\">2</td></tr>\n",
       "</table>\n",
       "<p>A total of 2 issues were fixed and no individual was removed from the cohort.</p>"
      ],
      "text/plain": [
       "<IPython.core.display.HTML object>"
      ]
     },
     "metadata": {},
     "output_type": "display_data"
    }
   ],
   "source": [
    "vmanager.add_variants_to_individuals(individuals)\n",
    "cvalidator = CohortValidator(cohort=individuals, ontology=hpo_ontology, min_hpo=1, allelic_requirement=AllelicRequirement.BI_ALLELIC)\n",
    "qc = QcVisualizer(cohort_validator=cvalidator)\n",
    "display(HTML(qc.to_summary_html()))"
   ]
  },
  {
   "cell_type": "code",
   "execution_count": 9,
   "id": "f19e75f9-c9c9-4b07-adfb-44a0da105d04",
   "metadata": {},
   "outputs": [
    {
     "data": {
      "text/html": [
       "<table style=\"border: 2px solid black; align: \"left\">\n",
       "<caption>7 phenopackets - PMID:9854053 (n=2); PMID:10942416 (n=1); PMID:20799361 (n=2); PMID:10571775 (n=2)</caption>\n",
       "<tr><th style=\"text-align: left;font-weight: bold;\">Individual</th><th style=\"text-align: left;font-weight: bold;\">Disease</th><th style=\"text-align: left;font-weight: bold;\">Genotype</th><th style=\"text-align: left;font-weight: bold;\">Phenotypic features</th></tr>\n",
       "<tr><td style=\"text-align: left;\">II:2 (MALE; )</td><td style=\"text-align: left;\">Renal tubular acidosis, distal, with hemolytic anemia (OMIM:611590)</td><td style=\"text-align: left;\">NM_000342.4:c.2102G>A (homozygous)</td><td style=\"text-align: left;\"><b>P3Y6M</b>: Short stature (HP:0004322); Decreased body weight (HP:0004325); Pallor (HP:0000980); Splenomegaly (HP:0001744); Hepatomegaly (HP:0002240); Hypokalemia (HP:0002900); Hyperchloremic metabolic acidosis (HP:0004918); Hyposthenuria (HP:0003158); Alkaline urine (HP:0032944); Nephrocalcinosis (HP:0000121); Hemolytic anemia (HP:0001878); Decreased mean corpuscular volume (HP:0025066); Reticulocytosis (HP:0001923)<br/>Lethargy (HP:0001254); Distal renal tubular acidosis (HP:0008341); Stomatocytosis (HP:0004446); Polychromasia (HP:0034609); Impaired urinary acidification (HP:0031033); excluded: Elevated circulating creatinine concentration (HP:0003259); excluded: Generalized edema (HP:0007430); excluded: Ascites (HP:0001541); excluded: Neonatal hyperbilirubinemia (HP:0003265)</td></tr>\n",
       "<tr><td style=\"text-align: left;\">II:3 (FEMALE; )</td><td style=\"text-align: left;\">Renal tubular acidosis, distal, with hemolytic anemia (OMIM:611590)</td><td style=\"text-align: left;\">NM_000342.4:c.2102G>A (homozygous)</td><td style=\"text-align: left;\"><b>P1Y</b>: Short stature (HP:0004322); Decreased body weight (HP:0004325); Hypokalemia (HP:0002900); Hyperchloremic metabolic acidosis (HP:0004918); Hyposthenuria (HP:0003158); Alkaline urine (HP:0032944); Nephrocalcinosis (HP:0000121); Hemolytic anemia (HP:0001878); Decreased mean corpuscular volume (HP:0025066); Reticulocytosis (HP:0001923)<br/>Distal renal tubular acidosis (HP:0008341); Stomatocytosis (HP:0004446); Polychromasia (HP:0034609); Impaired urinary acidification (HP:0031033); excluded: Generalized edema (HP:0007430); excluded: Ascites (HP:0001541); excluded: Neonatal hyperbilirubinemia (HP:0003265)</td></tr>\n",
       "<tr><td style=\"text-align: left;\">Patient (UNKNOWN; )</td><td style=\"text-align: left;\">Renal tubular acidosis, distal, with hemolytic anemia (OMIM:611590)</td><td style=\"text-align: left;\">NM_000342.4:c.1462G>A (homozygous)</td><td style=\"text-align: left;\"><b>P1D</b>: Generalized edema (HP:0007430); Ascites (HP:0001541); Neonatal hyperbilirubinemia (HP:0003265)<br/><b>P3M</b>: Hypokalemia (HP:0002900); Hyperchloremic metabolic acidosis (HP:0004918); Nephrocalcinosis (HP:0000121)<br/>Alkaline urine (HP:0032944); Distal renal tubular acidosis (HP:0008341); Impaired urinary acidification (HP:0031033)</td></tr>\n",
       "<tr><td style=\"text-align: left;\">Patient 1 (UNKNOWN; )</td><td style=\"text-align: left;\">Renal tubular acidosis, distal, with hemolytic anemia (OMIM:611590)</td><td style=\"text-align: left;\">NM_000342.4:c.2573C>A (homozygous)</td><td style=\"text-align: left;\"><b>P6Y</b>: Splenomegaly (HP:0001744); Alkaline urine (HP:0032944); Nephrocalcinosis (HP:0000121); Distal renal tubular acidosis (HP:0008341)<br/><b>P15Y</b>: Hemolytic anemia (HP:0001878); Reticulocytosis (HP:0001923); Stomatocytosis (HP:0004446); Hyperbilirubinemia (HP:0002904); Elevated circulating alkaline phosphatase concentration (HP:0003155)<br/>Growth delay (HP:0001510); Elliptocytosis (HP:0004445); Impaired urinary acidification (HP:0031033); excluded: Hepatomegaly (HP:0002240); excluded: Elevated circulating creatinine concentration (HP:0003259); excluded: Decreased mean corpuscular volume (HP:0025066)</td></tr>\n",
       "<tr><td style=\"text-align: left;\">Patient 2 (MALE; )</td><td style=\"text-align: left;\">Renal tubular acidosis, distal, with hemolytic anemia (OMIM:611590)</td><td style=\"text-align: left;\">NM_000342.4:c.2573C>A (homozygous)</td><td style=\"text-align: left;\"><b>P1Y4M</b>: Splenomegaly (HP:0001744); Hepatomegaly (HP:0002240); Hyperchloremic metabolic acidosis (HP:0004918); Nephrocalcinosis (HP:0000121); Hemolytic anemia (HP:0001878); Distal renal tubular acidosis (HP:0008341); Stomatocytosis (HP:0004446)<br/><b>P6Y</b>: Short stature (HP:0004322); Decreased body weight (HP:0004325); Reticulocytosis (HP:0001923); Elevated circulating alkaline phosphatase concentration (HP:0003155)<br/>Elliptocytosis (HP:0004445); Impaired urinary acidification (HP:0031033)</td></tr>\n",
       "<tr><td style=\"text-align: left;\">KSN-II-1 (FEMALE; )</td><td style=\"text-align: left;\">Renal tubular acidosis, distal, with hemolytic anemia (OMIM:611590)</td><td style=\"text-align: left;\"><ul> <li>NM_000342.4:c.2102G>A (heterozygous)</li> <li>NM_000342.4:c.1199_1225del (heterozygous)</li> </ul></td><td style=\"text-align: left;\">Growth delay (HP:0001510); Hypokalemia (HP:0002900); Hyperchloremic metabolic acidosis (HP:0004918); Alkaline urine (HP:0032944); Distal renal tubular acidosis (HP:0008341); Elliptocytosis (HP:0004445); Impaired urinary acidification (HP:0031033); Decreased serum bicarbonate concentration (HP:0032066); excluded: Elevated circulating creatinine concentration (HP:0003259)</td></tr>\n",
       "<tr><td style=\"text-align: left;\">YAT-II-1 (MALE; )</td><td style=\"text-align: left;\">Renal tubular acidosis, distal, with hemolytic anemia (OMIM:611590)</td><td style=\"text-align: left;\"><ul> <li>NM_000342.4:c.2102G>A (heterozygous)</li> <li>NM_000342.4:c.1199_1225del (heterozygous)</li> </ul></td><td style=\"text-align: left;\">Growth delay (HP:0001510); Hypokalemia (HP:0002900); Hyperchloremic metabolic acidosis (HP:0004918); Alkaline urine (HP:0032944); Distal renal tubular acidosis (HP:0008341); Elliptocytosis (HP:0004445); Impaired urinary acidification (HP:0031033); Decreased serum bicarbonate concentration (HP:0032066); excluded: Elevated circulating creatinine concentration (HP:0003259)</td></tr>\n",
       "</table>"
      ],
      "text/plain": [
       "<IPython.core.display.HTML object>"
      ]
     },
     "metadata": {},
     "output_type": "display_data"
    }
   ],
   "source": [
    "individuals = cvalidator.get_error_free_individual_list()\n",
    "table = IndividualTable(individuals)\n",
    "display(HTML(table.to_html()))"
   ]
  },
  {
   "cell_type": "code",
   "execution_count": 10,
   "id": "a77ceaf6-0030-4bcd-bf51-059d05dee0df",
   "metadata": {},
   "outputs": [
    {
     "name": "stdout",
     "output_type": "stream",
     "text": [
      "We output 7 GA4GH phenopackets to the directory phenopackets\n"
     ]
    }
   ],
   "source": [
    "encoder.output_individuals_as_phenopackets(individuals)"
   ]
  },
  {
   "cell_type": "code",
   "execution_count": null,
   "id": "65edf5cd-8793-4587-9bb9-e95ca1dcbb45",
   "metadata": {},
   "outputs": [],
   "source": []
  }
 ],
 "metadata": {
  "kernelspec": {
   "display_name": "ps24venv",
   "language": "python",
   "name": "ps24venv"
  },
  "language_info": {
   "codemirror_mode": {
    "name": "ipython",
    "version": 3
   },
   "file_extension": ".py",
   "mimetype": "text/x-python",
   "name": "python",
   "nbconvert_exporter": "python",
   "pygments_lexer": "ipython3",
   "version": "3.8.10"
  }
 },
 "nbformat": 4,
 "nbformat_minor": 5
}
