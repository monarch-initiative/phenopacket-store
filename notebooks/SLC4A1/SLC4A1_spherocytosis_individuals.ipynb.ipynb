{
 "cells": [
  {
   "cell_type": "markdown",
   "id": "c8f6a3fe-7102-41ec-963d-9906f654bfce",
   "metadata": {},
   "source": [
    "# SLC4A1 Spherocytosis, type 4 \tIndividuals\n",
    "See [OMIM:612653](https://omim.org/entry/612653)."
   ]
  },
  {
   "cell_type": "code",
   "execution_count": 8,
   "id": "af44cf4c-ac57-41b0-bb7a-95dbd4a9c40f",
   "metadata": {},
   "outputs": [
    {
     "name": "stdout",
     "output_type": "stream",
     "text": [
      "Using pyphetools version 0.9.66\n"
     ]
    }
   ],
   "source": [
    "from pyphetools.creation import TemplateImporter\n",
    "from pyphetools.visualization import IndividualTable, QcVisualizer\n",
    "from IPython.display import display, HTML\n",
    "import pyphetools\n",
    "print(f\"Using pyphetools version {pyphetools.__version__}\")"
   ]
  },
  {
   "cell_type": "code",
   "execution_count": 9,
   "id": "d811c896-7dea-4508-b12e-1932567a42dd",
   "metadata": {},
   "outputs": [],
   "source": [
    "template = \"input/slc4a1_SPH4_individuals.xlsx\"\n",
    "hp_json = \"../hp.json\"\n",
    "created_by = \"0000-0002-0736-9199\""
   ]
  },
  {
   "cell_type": "code",
   "execution_count": 11,
   "id": "092e78be-2847-4c86-8b57-ddde9d5e997e",
   "metadata": {},
   "outputs": [
    {
     "name": "stdout",
     "output_type": "stream",
     "text": [
      "HPO version 2024-03-06\n",
      "Created encoders for 34 fields\n",
      " we got OMIM:612653  NM_000342.4\n",
      "[INFO] encoding variant \"c.2464_2465insCACCCAGATG\"\n",
      "https://rest.variantvalidator.org/VariantValidator/variantvalidator/hg38/NM_000342.4%3Ac.2464_2465insCACCCAGATG/NM_000342.4?content-type=application%2Fjson\n",
      "We output 7 GA4GH phenopackets to the directory phenopackets\n"
     ]
    }
   ],
   "source": [
    "timporter = TemplateImporter(template=template, hp_json=hp_json, created_by=created_by)\n",
    "individual_list, cvalidator = timporter.import_phenopackets_from_template()"
   ]
  },
  {
   "cell_type": "code",
   "execution_count": 12,
   "id": "6f8f7ec7-a8e2-47a2-8a58-73b9d8f25a31",
   "metadata": {},
   "outputs": [
    {
     "data": {
      "text/html": [
       "<h2>Cohort validation</h2>\n",
       "<p>No errors found for the cohort with 7 individuals</p>"
      ],
      "text/plain": [
       "<IPython.core.display.HTML object>"
      ]
     },
     "metadata": {},
     "output_type": "display_data"
    }
   ],
   "source": [
    "qc = QcVisualizer(cohort_validator=cvalidator)\n",
    "display(HTML(qc.to_summary_html()))"
   ]
  },
  {
   "cell_type": "code",
   "execution_count": 13,
   "id": "37aa0698-2b42-4104-aa72-ebc98d67c04e",
   "metadata": {},
   "outputs": [
    {
     "data": {
      "text/html": [
       "<table style=\"border: 2px solid black; align: \"left\">\n",
       "<caption>7 phenopackets - PMID:8704215 (n=1); PMID:36463227 (n=1); PMID:8282779 (n=5)</caption>\n",
       "<tr><th style=\"text-align: left;font-weight: bold;\">Individual</th><th style=\"text-align: left;font-weight: bold;\">Disease</th><th style=\"text-align: left;font-weight: bold;\">Genotype</th><th style=\"text-align: left;font-weight: bold;\">Phenotypic features</th></tr>\n",
       "<tr><td style=\"text-align: left;\">proband_18y (MALE; n/a)</td><td style=\"text-align: left;\">Spherocytosis, type 4 (OMIM:612653)</td><td style=\"text-align: left;\">NM_000342.4:c.448C>T (heterozygous)</td><td style=\"text-align: left;\">Anemia (HP:0001903); Anemic pallor (HP:0001017); Conjunctival icterus (HP:0032106); Splenomegaly (HP:0001744); Anisocytosis (HP:0011273); Decreased mean corpuscular volume (HP:0025066); Spherocytosis (HP:0004444); Reduced haptoglobin level (HP:0020181); Reticulocytosis (HP:0001923); Asthenia (HP:0025406); Increased red cell osmotic fragility (HP:0005502); Cholelithiasis (HP:0001081); Increased total bilirubin (HP:0003573); excluded: Hepatomegaly (HP:0002240)</td></tr>\n",
       "<tr><td style=\"text-align: left;\">case (MALE; n/a)</td><td style=\"text-align: left;\">Spherocytosis, type 4 (OMIM:612653)</td><td style=\"text-align: left;\">NM_000342.4:c.1985G>A (heterozygous)</td><td style=\"text-align: left;\">Anemia (HP:0001903); Splenomegaly (HP:0001744); Reticulocytosis (HP:0001923); Increased red cell osmotic fragility (HP:0005502); Cholelithiasis (HP:0001081); Increased total bilirubin (HP:0003573); Unconjugated hyperbilirubinemia (HP:0008282); Jaundice (HP:0000952); excluded: Coombs-positive hemolytic anemia (HP:0004844)</td></tr>\n",
       "<tr><td style=\"text-align: left;\">I/1 (FEMALE; P65Y)</td><td style=\"text-align: left;\">Spherocytosis, type 4 (OMIM:612653)</td><td style=\"text-align: left;\">NM_000342.4:c.2455_2464dup (heterozygous)</td><td style=\"text-align: left;\">Hemolytic anemia (HP:0001878); Spherocytosis (HP:0004444); Reticulocytosis (HP:0001923); Increased red cell osmotic fragility (HP:0005502); Increased total bilirubin (HP:0003573); excluded: Decreased mean corpuscular volume (HP:0025066)</td></tr>\n",
       "<tr><td style=\"text-align: left;\">II/1 (FEMALE; P40Y)</td><td style=\"text-align: left;\">Spherocytosis, type 4 (OMIM:612653)</td><td style=\"text-align: left;\">NM_000342.4:c.2455_2464dup (heterozygous)</td><td style=\"text-align: left;\">Hemolytic anemia (HP:0001878); Spherocytosis (HP:0004444); Reticulocytosis (HP:0001923); Increased red cell osmotic fragility (HP:0005502); Increased total bilirubin (HP:0003573); excluded: Decreased mean corpuscular volume (HP:0025066)</td></tr>\n",
       "<tr><td style=\"text-align: left;\">II/2 (FEMALE; P38Y)</td><td style=\"text-align: left;\">Spherocytosis, type 4 (OMIM:612653)</td><td style=\"text-align: left;\">NM_000342.4:c.2455_2464dup (heterozygous)</td><td style=\"text-align: left;\">Hemolytic anemia (HP:0001878); Decreased mean corpuscular volume (HP:0025066); Spherocytosis (HP:0004444); Reticulocytosis (HP:0001923); Increased red cell osmotic fragility (HP:0005502); Increased total bilirubin (HP:0003573)</td></tr>\n",
       "<tr><td style=\"text-align: left;\">III/I (FEMALE; P16Y)</td><td style=\"text-align: left;\">Spherocytosis, type 4 (OMIM:612653)</td><td style=\"text-align: left;\">NM_000342.4:c.2455_2464dup (heterozygous)</td><td style=\"text-align: left;\">Hemolytic anemia (HP:0001878); Decreased mean corpuscular volume (HP:0025066); Spherocytosis (HP:0004444); Reticulocytosis (HP:0001923); Increased red cell osmotic fragility (HP:0005502); Increased total bilirubin (HP:0003573)</td></tr>\n",
       "<tr><td style=\"text-align: left;\">III/2 (MALE; P14Y)</td><td style=\"text-align: left;\">Spherocytosis, type 4 (OMIM:612653)</td><td style=\"text-align: left;\">NM_000342.4:c.2455_2464dup (heterozygous)</td><td style=\"text-align: left;\">Hemolytic anemia (HP:0001878); Decreased mean corpuscular volume (HP:0025066); Spherocytosis (HP:0004444); Reticulocytosis (HP:0001923); Increased red cell osmotic fragility (HP:0005502); Increased total bilirubin (HP:0003573)</td></tr>\n",
       "</table>"
      ],
      "text/plain": [
       "<IPython.core.display.HTML object>"
      ]
     },
     "metadata": {},
     "output_type": "display_data"
    }
   ],
   "source": [
    "table = IndividualTable(cvalidator.get_error_free_individual_list())\n",
    "display(HTML(table.to_html()))"
   ]
  },
  {
   "cell_type": "code",
   "execution_count": null,
   "id": "c1ac5ce5-b61c-4b62-8954-7adcb890559a",
   "metadata": {},
   "outputs": [],
   "source": []
  }
 ],
 "metadata": {
  "kernelspec": {
   "display_name": "ps24venv",
   "language": "python",
   "name": "ps24venv"
  },
  "language_info": {
   "codemirror_mode": {
    "name": "ipython",
    "version": 3
   },
   "file_extension": ".py",
   "mimetype": "text/x-python",
   "name": "python",
   "nbconvert_exporter": "python",
   "pygments_lexer": "ipython3",
   "version": "3.8.10"
  }
 },
 "nbformat": 4,
 "nbformat_minor": 5
}
