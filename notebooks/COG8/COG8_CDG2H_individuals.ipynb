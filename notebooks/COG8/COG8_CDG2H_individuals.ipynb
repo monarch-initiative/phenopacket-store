{
 "cells": [
  {
   "cell_type": "markdown",
   "metadata": {},
   "source": [
    "# COG8\n",
    "[congenital disorder of glycosylation type IIh (CDG IIh, CDG2H)](https://omim.org/entry/611182) is caused by homozygous or compound heterozygous mutation in the COG8 gene."
   ]
  },
  {
   "cell_type": "code",
   "execution_count": 5,
   "metadata": {},
   "outputs": [
    {
     "name": "stdout",
     "output_type": "stream",
     "text": [
      "Using pyphetools version 0.9.78\n"
     ]
    }
   ],
   "source": [
    "from pyphetools.creation import TemplateImporter\n",
    "from pyphetools.visualization import IndividualTable, QcVisualizer\n",
    "from IPython.display import display, HTML\n",
    "import pyphetools\n",
    "print(f\"Using pyphetools version {pyphetools.__version__}\")"
   ]
  },
  {
   "cell_type": "code",
   "execution_count": 7,
   "metadata": {},
   "outputs": [],
   "source": [
    "template = \"input/COG8_CDG2H_individuals.xlsx\"\n",
    "hp_json = \"../hp.json\"\n",
    "created_by = \"0000-0002-0736-9199\""
   ]
  },
  {
   "cell_type": "code",
   "execution_count": 14,
   "metadata": {},
   "outputs": [
    {
     "name": "stdout",
     "output_type": "stream",
     "text": [
      "HPO version 2024-04-04\n",
      "Created encoders for 71 fields\n",
      "Importing OMIM:611182, Congenital disorder of glycosylation, type IIh, HGNC:18623, COG8,  NM_032382.5\n",
      "We output 4 GA4GH phenopackets to the directory phenopackets\n"
     ]
    }
   ],
   "source": [
    "timporter = TemplateImporter(template=template, hp_json=hp_json, created_by=created_by)\n",
    "individual_list, cvalidator = timporter.import_phenopackets_from_template()"
   ]
  },
  {
   "cell_type": "code",
   "execution_count": 15,
   "metadata": {},
   "outputs": [
    {
     "data": {
      "text/html": [
       "<h2>Cohort validation</h2>\n",
       "<p>Errors found with 3 of 4 phenopackets.</p>\n",
       "<table style=\"border: 2px solid black; align: \"left\">\n",
       "<caption>Error counts</caption>\n",
       "<tr><th style=\"text-align: left;font-weight: bold;\">Level</th><th style=\"text-align: left;font-weight: bold;\">Error category</th><th style=\"text-align: left;font-weight: bold;\">Count</th></tr>\n",
       "<tr><td style=\"text-align: left;\">WARNING</td><td style=\"text-align: left;\">REDUNDANT</td><td style=\"text-align: left;\">5</td></tr>\n",
       "</table>\n",
       "<p>A total of 5 issues were fixed and no individual was removed from the cohort.</p>"
      ],
      "text/plain": [
       "<IPython.core.display.HTML object>"
      ]
     },
     "metadata": {},
     "output_type": "display_data"
    }
   ],
   "source": [
    "qc = QcVisualizer(cohort_validator=cvalidator)\n",
    "display(HTML(qc.to_summary_html()))"
   ]
  },
  {
   "cell_type": "code",
   "execution_count": 16,
   "metadata": {},
   "outputs": [
    {
     "data": {
      "text/html": [
       "<table style=\"border: 2px solid black; align: \"left\">\n",
       "<caption>4 phenopackets - PMID:17220172 (n=1); PMID:17331980 (n=1); PMID:28619360 (n=1); PMID:30690882 (n=1)</caption>\n",
       "<tr><th style=\"text-align: left;font-weight: bold;\">Individual</th><th style=\"text-align: left;font-weight: bold;\">Disease</th><th style=\"text-align: left;font-weight: bold;\">Genotype</th><th style=\"text-align: left;font-weight: bold;\">Phenotypic features</th></tr>\n",
       "<tr><td style=\"text-align: left;\">patient (FEMALE; P8Y)</td><td style=\"text-align: left;\">Congenital disorder of glycosylation, type IIh (OMIM:611182)</td><td style=\"text-align: left;\">NM_032382.5:c.1611C>G (homozygous)</td><td style=\"text-align: left;\"><b>P6M</b>: Acute encephalopathy (HP:0006846); Alternating esotropia (HP:0001137); Hypotonia (HP:0001252); Global developmental delay (HP:0001263); Developmental regression (HP:0002376)<br/><b>P1Y5M</b>: Lethargy (HP:0001254); Status epilepticus (HP:0002133); Atrophy/Degeneration affecting the brainstem (HP:0007366)<br/><b>P6Y</b>: Cerebellar atrophy (HP:0001272)<br/><b>P7Y</b>: Oculomotor apraxia (HP:0000657); Absent Achilles reflex (HP:0003438)<br/>Action myoclonus (HP:0034360); Intellectual disability (HP:0001249); Dysmetria (HP:0001310); Secondary microcephaly (HP:0005484); Epicanthus (HP:0000286); Spontaneous hematomas (HP:0007420); Failure to thrive (HP:0001508); Elevated circulating creatine kinase concentration (HP:0003236); Elevated circulating hepatic transaminase concentration (HP:0002910); Reduced protein S activity (HP:0004855); Type II transferrin isoform profile (HP:0012301); excluded: Anteverted nares (HP:0000463); excluded: Short nose (HP:0003196); excluded: Thin vermilion border (HP:0000233); excluded: Upslanted palpebral fissure (HP:0000582); excluded: Micrognathia (HP:0000347); excluded: Increased nuchal translucency (HP:0010880); excluded: Thickened nuchal skin fold (HP:0000474); excluded: Wide nose (HP:0000445); excluded: Deep philtrum (HP:0002002); excluded: Depressed nasal bridge (HP:0005280); excluded: Hypertelorism (HP:0000316); excluded: Low-set ears (HP:0000369); excluded: Camptodactyly (HP:0012385); excluded: Hand clenching (HP:0001188); excluded: Claw hand deformity (HP:0034337); excluded: Talipes equinovarus (HP:0001762); excluded: Scoliosis (HP:0002650); excluded: Coxa valga (HP:0002673); excluded: Knee flexion contracture (HP:0006380); excluded: Ankle flexion contracture (HP:0006466); excluded: Intrauterine growth retardation (HP:0001511); excluded: Wide anterior fontanel (HP:0000260); excluded: Short neck (HP:0000470)</td></tr>\n",
       "<tr><td style=\"text-align: left;\">patient (MALE; P8Y6M)</td><td style=\"text-align: left;\">Congenital disorder of glycosylation, type IIh (OMIM:611182)</td><td style=\"text-align: left;\"><ul> <li>NM_032382.5:c.1413+1G>A (heterozygous)</li> <li>NM_032382.5:c.1687_1688del (heterozygous)</li> </ul></td><td style=\"text-align: left;\"><b>P7M</b>: Chronic axonal neuropathy (HP:0007267); Hypotonia (HP:0001252); Poor head control (HP:0002421); Global developmental delay (HP:0001263)<br/>Myoclonus (HP:0001336); Intellectual disability (HP:0001249); Seizure (HP:0001250); Type II transferrin isoform profile (HP:0012301); excluded: Action myoclonus (HP:0034360); excluded: Status epilepticus (HP:0002133); excluded: Acute encephalopathy (HP:0006846); excluded: Anteverted nares (HP:0000463); excluded: Short nose (HP:0003196); excluded: Epicanthus (HP:0000286); excluded: Thin vermilion border (HP:0000233); excluded: Upslanted palpebral fissure (HP:0000582); excluded: Micrognathia (HP:0000347); excluded: Increased nuchal translucency (HP:0010880); excluded: Thickened nuchal skin fold (HP:0000474); excluded: Alternating esotropia (HP:0001137); excluded: Wide nose (HP:0000445); excluded: Deep philtrum (HP:0002002); excluded: Depressed nasal bridge (HP:0005280); excluded: Hypertelorism (HP:0000316); excluded: Low-set ears (HP:0000369); excluded: Camptodactyly (HP:0012385); excluded: Spontaneous hematomas (HP:0007420); excluded: Hand clenching (HP:0001188); excluded: Developmental regression (HP:0002376); excluded: Absent Achilles reflex (HP:0003438); excluded: Failure to thrive (HP:0001508); excluded: Claw hand deformity (HP:0034337); excluded: Talipes equinovarus (HP:0001762); excluded: Scoliosis (HP:0002650); excluded: Coxa valga (HP:0002673); excluded: Knee flexion contracture (HP:0006380); excluded: Ankle flexion contracture (HP:0006466); excluded: Intrauterine growth retardation (HP:0001511); excluded: Wide anterior fontanel (HP:0000260); excluded: Short neck (HP:0000470)</td></tr>\n",
       "<tr><td style=\"text-align: left;\">probadn (MALE; P9Y)</td><td style=\"text-align: left;\">Congenital disorder of glycosylation, type IIh (OMIM:611182)</td><td style=\"text-align: left;\"><ul> <li>NM_032382.5:c.171dup (heterozygous)</li> <li>NM_032382.5:c.1656dup (heterozygous)</li> </ul></td><td style=\"text-align: left;\"><b>P10M</b>: Hypotonia (HP:0001252); Global developmental delay (HP:0001263)<br/><b>P3Y</b>: Cerebellar atrophy (HP:0001272); Elevated circulating creatine kinase concentration (HP:0003236); Elevated circulating hepatic transaminase concentration (HP:0002910)<br/>Intellectual disability (HP:0001249); Micrognathia (HP:0000347); Wide nose (HP:0000445); Depressed nasal bridge (HP:0005280); Type II transferrin isoform profile (HP:0012301); Claw hand deformity (HP:0034337); Talipes equinovarus (HP:0001762); Scoliosis (HP:0002650); Coxa valga (HP:0002673); excluded: Action myoclonus (HP:0034360); excluded: Status epilepticus (HP:0002133); excluded: Acute encephalopathy (HP:0006846); excluded: Anteverted nares (HP:0000463); excluded: Short nose (HP:0003196); excluded: Epicanthus (HP:0000286); excluded: Thin vermilion border (HP:0000233); excluded: Upslanted palpebral fissure (HP:0000582); excluded: Increased nuchal translucency (HP:0010880); excluded: Thickened nuchal skin fold (HP:0000474); excluded: Alternating esotropia (HP:0001137); excluded: Deep philtrum (HP:0002002); excluded: Hypertelorism (HP:0000316); excluded: Low-set ears (HP:0000369); excluded: Camptodactyly (HP:0012385); excluded: Spontaneous hematomas (HP:0007420); excluded: Hand clenching (HP:0001188); excluded: Developmental regression (HP:0002376); excluded: Absent Achilles reflex (HP:0003438); excluded: Failure to thrive (HP:0001508); excluded: Knee flexion contracture (HP:0006380); excluded: Ankle flexion contracture (HP:0006466); excluded: Intrauterine growth retardation (HP:0001511); excluded: Wide anterior fontanel (HP:0000260); excluded: Short neck (HP:0000470)</td></tr>\n",
       "<tr><td style=\"text-align: left;\">nan (MALE; P2D)</td><td style=\"text-align: left;\">Congenital disorder of glycosylation, type IIh (OMIM:611182)</td><td style=\"text-align: left;\">NM_032382.5:c.1583-1G>A (homozygous)</td><td style=\"text-align: left;\">Agenesis of corpus callosum (HP:0001274); Agenesis of cerebellar vermis (HP:0002335); Anteverted nares (HP:0000463); Short nose (HP:0003196); Thin vermilion border (HP:0000233); Upslanted palpebral fissure (HP:0000582); Micrognathia (HP:0000347); Deep philtrum (HP:0002002); Depressed nasal bridge (HP:0005280); Hypertelorism (HP:0000316); Low-set ears (HP:0000369); Camptodactyly (HP:0012385); Hand clenching (HP:0001188); Knee flexion contracture (HP:0006380); Ankle flexion contracture (HP:0006466); Intrauterine growth retardation (HP:0001511); Wide anterior fontanel (HP:0000260); Short neck (HP:0000470); Dandy-Walker malformation (HP:0001305); Increased nuchal translucency (HP:0010880); Thickened nuchal skin fold (HP:0000474); excluded: Epicanthus (HP:0000286); excluded: Wide nose (HP:0000445)</td></tr>\n",
       "</table>"
      ],
      "text/plain": [
       "<IPython.core.display.HTML object>"
      ]
     },
     "metadata": {},
     "output_type": "display_data"
    }
   ],
   "source": [
    "table = IndividualTable(cvalidator.get_error_free_individual_list())\n",
    "display(HTML(table.to_html()))"
   ]
  },
  {
   "cell_type": "code",
   "execution_count": 17,
   "metadata": {},
   "outputs": [
    {
     "name": "stdout",
     "output_type": "stream",
     "text": [
      "[pyphetools] Ingested 4 GA4GH phenopackets.\n",
      "\tCongenital disorder of glycosylation, type IIh (OMIM:611182): n=4\n",
      "We found a total of 52 unique HPO terms\n",
      "Extracted disease: Congenital disorder of glycosylation, type IIh (OMIM:611182)\n",
      "Wrote HPOA disease file to OMIM-611182.tab\n"
     ]
    }
   ],
   "source": [
    "pmid = \"PMID:17220172\"\n",
    "df = timporter.create_hpoa_from_phenopackets(pmid=pmid, moi=\"Autosomal recessive\")"
   ]
  },
  {
   "cell_type": "code",
   "execution_count": null,
   "metadata": {},
   "outputs": [],
   "source": []
  }
 ],
 "metadata": {
  "kernelspec": {
   "display_name": "ps24venv",
   "language": "python",
   "name": "python3"
  },
  "language_info": {
   "codemirror_mode": {
    "name": "ipython",
    "version": 3
   },
   "file_extension": ".py",
   "mimetype": "text/x-python",
   "name": "python",
   "nbconvert_exporter": "python",
   "pygments_lexer": "ipython3",
   "version": "3.9.6"
  }
 },
 "nbformat": 4,
 "nbformat_minor": 2
}
