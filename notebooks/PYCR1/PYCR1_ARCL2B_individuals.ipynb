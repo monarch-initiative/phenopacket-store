{
 "cells": [
  {
   "cell_type": "markdown",
   "metadata": {},
   "source": [
    "# PYCR1\n",
    "[autosomal recessive cutis laxa type IIB (ARCL2B)](https://omim.org/entry/612940) is caused by homozygous or compound heterozygous mutation in the PYCR1 gene."
   ]
  },
  {
   "cell_type": "code",
   "execution_count": 3,
   "metadata": {},
   "outputs": [
    {
     "name": "stdout",
     "output_type": "stream",
     "text": [
      "Using pyphetools version 0.9.92\n"
     ]
    }
   ],
   "source": [
    "from pyphetools.creation import TemplateImporter\n",
    "from pyphetools.visualization import IndividualTable, QcVisualizer\n",
    "from IPython.display import display, HTML\n",
    "import pyphetools\n",
    "print(f\"Using pyphetools version {pyphetools.__version__}\")"
   ]
  },
  {
   "cell_type": "code",
   "execution_count": 4,
   "metadata": {},
   "outputs": [],
   "source": [
    "template = \"input/PYCR1_ARCL2B_individuals.xlsx\"\n",
    "created_by = \"0000-0002-0736-9199\""
   ]
  },
  {
   "cell_type": "code",
   "execution_count": 6,
   "metadata": {},
   "outputs": [
    {
     "name": "stdout",
     "output_type": "stream",
     "text": [
      "HPO version 2024-06-25\n",
      "Created encoders for 57 fields\n",
      "Importing OMIM:612940, Cutis laxa, autosomal recessive, type IIB, HGNC:9721, PYCR1,  NM_006907.4\n",
      "We output 6 GA4GH phenopackets to the directory phenopackets\n"
     ]
    }
   ],
   "source": [
    "del_set = {\"deletion of entire PYCR1 gene\"}\n",
    "timporter = TemplateImporter(template=template,  created_by=created_by)\n",
    "individual_list, cvalidator = timporter.import_phenopackets_from_template(deletions=del_set)"
   ]
  },
  {
   "cell_type": "code",
   "execution_count": 7,
   "metadata": {},
   "outputs": [
    {
     "data": {
      "text/html": [
       "<h2>Cohort validation</h2>\n",
       "<p>No errors found for the cohort with 6 individuals</p>"
      ],
      "text/plain": [
       "<IPython.core.display.HTML object>"
      ]
     },
     "metadata": {},
     "output_type": "display_data"
    }
   ],
   "source": [
    "qc = QcVisualizer(cohort_validator=cvalidator)\n",
    "display(HTML(qc.to_summary_html()))"
   ]
  },
  {
   "cell_type": "code",
   "execution_count": 8,
   "metadata": {},
   "outputs": [
    {
     "data": {
      "text/html": [
       "<table style=\"border: 2px solid black; align: \"left\">\n",
       "<caption>6 phenopackets - PMID:21487760 (n=6)</caption>\n",
       "<tr><th style=\"text-align: left;font-weight: bold;\">Individual</th><th style=\"text-align: left;font-weight: bold;\">Disease</th><th style=\"text-align: left;font-weight: bold;\">Genotype</th><th style=\"text-align: left;font-weight: bold;\">Phenotypic features</th></tr>\n",
       "<tr><td style=\"text-align: left;\">Patient 1 (MALE; P5Y)</td><td style=\"text-align: left;\">Cutis laxa, autosomal recessive, type IIB (OMIM:612940)</td><td style=\"text-align: left;\">deletion of entire PYCR1 gene: chromosomal_deletion (SO:1000029)</td><td style=\"text-align: left;\"><b>P5Y</b>: Joint hypermobility (HP:0001382); Dermal translucency (HP:0010648); Thin skin (HP:0000963); Excessive wrinkled skin (HP:0007392); Talipes equinovarus (HP:0001762); Pes planus (HP:0001763); Hallux valgus (HP:0001822); Pectus excavatum (HP:0000767); Low-set ears (HP:0000369); Narrow nose (HP:0000460); Deeply set eye (HP:0000490); High palate (HP:0000218); Microdontia (HP:0000691); Triangular face (HP:0000325)<br/>Intrauterine growth retardation (HP:0001511); Cutis laxa (HP:0000973); Motor delay (HP:0001270); Congenital hip dislocation (HP:0001374); excluded: Blue sclerae (HP:0000592); excluded: Intellectual disability (HP:0001249)</td></tr>\n",
       "<tr><td style=\"text-align: left;\">Patient 2 (MALE; P49Y)</td><td style=\"text-align: left;\">Cutis laxa, autosomal recessive, type IIB (OMIM:612940)</td><td style=\"text-align: left;\">deletion of entire PYCR1 gene: chromosomal_deletion (SO:1000029)</td><td style=\"text-align: left;\">Intrauterine growth retardation (HP:0001511); Joint hypermobility (HP:0001382); Dermal translucency (HP:0010648); Thin skin (HP:0000963); Excessive wrinkled skin (HP:0007392); Cutis laxa (HP:0000973); Pes planus (HP:0001763); Narrow nose (HP:0000460); Motor delay (HP:0001270); excluded: Blue sclerae (HP:0000592); excluded: Pectus excavatum (HP:0000767); excluded: Low-set ears (HP:0000369); excluded: Intellectual disability (HP:0001249); excluded: Congenital hip dislocation (HP:0001374); excluded: Triangular face (HP:0000325)</td></tr>\n",
       "<tr><td style=\"text-align: left;\">Patient 3 (FEMALE; P54Y)</td><td style=\"text-align: left;\">Cutis laxa, autosomal recessive, type IIB (OMIM:612940)</td><td style=\"text-align: left;\">deletion of entire PYCR1 gene: chromosomal_deletion (SO:1000029)</td><td style=\"text-align: left;\">Intrauterine growth retardation (HP:0001511); Dermal translucency (HP:0010648); Thin skin (HP:0000963); Excessive wrinkled skin (HP:0007392); Cutis laxa (HP:0000973); Pes planus (HP:0001763); Narrow nose (HP:0000460); Motor delay (HP:0001270); excluded: Blue sclerae (HP:0000592); excluded: Pectus excavatum (HP:0000767); excluded: Low-set ears (HP:0000369); excluded: Intellectual disability (HP:0001249); excluded: Congenital hip dislocation (HP:0001374); excluded: Triangular face (HP:0000325)</td></tr>\n",
       "<tr><td style=\"text-align: left;\">Patient 4 (MALE; P5Y)</td><td style=\"text-align: left;\">Cutis laxa, autosomal recessive, type IIB (OMIM:612940)</td><td style=\"text-align: left;\">NM_006907.4:c.616G>A (homozygous)</td><td style=\"text-align: left;\">Intrauterine growth retardation (HP:0001511); Joint hypermobility (HP:0001382); Dermal translucency (HP:0010648); Thin skin (HP:0000963); Excessive wrinkled skin (HP:0007392); Cutis laxa (HP:0000973); Pes planus (HP:0001763); Low-set ears (HP:0000369); Intellectual disability (HP:0001249); Motor delay (HP:0001270); Congenital hip dislocation (HP:0001374); excluded: Blue sclerae (HP:0000592); excluded: Pectus excavatum (HP:0000767); excluded: Triangular face (HP:0000325)</td></tr>\n",
       "<tr><td style=\"text-align: left;\">Patient 5 (MALE; P7Y)</td><td style=\"text-align: left;\">Cutis laxa, autosomal recessive, type IIB (OMIM:612940)</td><td style=\"text-align: left;\">NM_006907.4:c.89T>A (homozygous)</td><td style=\"text-align: left;\">Intrauterine growth retardation (HP:0001511); Joint hypermobility (HP:0001382); Dermal translucency (HP:0010648); Thin skin (HP:0000963); Excessive wrinkled skin (HP:0007392); Cutis laxa (HP:0000973); Pes planus (HP:0001763); Intellectual disability (HP:0001249); Motor delay (HP:0001270); Congenital hip dislocation (HP:0001374); Triangular face (HP:0000325); excluded: Blue sclerae (HP:0000592); excluded: Pectus excavatum (HP:0000767)</td></tr>\n",
       "<tr><td style=\"text-align: left;\">Patient 6 (MALE; P1Y4M)</td><td style=\"text-align: left;\">Cutis laxa, autosomal recessive, type IIB (OMIM:612940)</td><td style=\"text-align: left;\">NM_006907.4:c.572G>A (homozygous)</td><td style=\"text-align: left;\">Intrauterine growth retardation (HP:0001511); Joint hypermobility (HP:0001382); Dermal translucency (HP:0010648); Thin skin (HP:0000963); Excessive wrinkled skin (HP:0007392); Cutis laxa (HP:0000973); Blue sclerae (HP:0000592); Pectus excavatum (HP:0000767); Narrow nose (HP:0000460); Deeply set eye (HP:0000490); Intellectual disability (HP:0001249); Motor delay (HP:0001270); Congenital hip dislocation (HP:0001374)</td></tr>\n",
       "</table>"
      ],
      "text/plain": [
       "<IPython.core.display.HTML object>"
      ]
     },
     "metadata": {},
     "output_type": "display_data"
    }
   ],
   "source": [
    "table = IndividualTable(cvalidator.get_error_free_individual_list())\n",
    "display(HTML(table.to_html()))"
   ]
  },
  {
   "cell_type": "code",
   "execution_count": 9,
   "metadata": {},
   "outputs": [
    {
     "name": "stdout",
     "output_type": "stream",
     "text": [
      "[pyphetools] Ingested 6 GA4GH phenopackets.\n",
      "[INFO] Extracted 6 from 6 phenopackets with OMIM:612940\n",
      "\n",
      "\tCutis laxa, autosomal recessive, type IIB (OMIM:612940): n=6\n",
      "We found a total of 20 unique HPO terms\n",
      "Extracted disease: Cutis laxa, autosomal recessive, type IIB (OMIM:612940)\n",
      "Wrote HPOA disease file to OMIM-612940.tab\n"
     ]
    }
   ],
   "source": [
    "pmid = \"PMID:21487760\"\n",
    "df = timporter.create_hpoa_from_phenopackets(pmid=pmid, moi=\"Autosomal recessive\", target=\"OMIM:612940\")"
   ]
  },
  {
   "cell_type": "code",
   "execution_count": null,
   "metadata": {},
   "outputs": [],
   "source": []
  }
 ],
 "metadata": {
  "kernelspec": {
   "display_name": "ps24venv",
   "language": "python",
   "name": "python3"
  },
  "language_info": {
   "codemirror_mode": {
    "name": "ipython",
    "version": 3
   },
   "file_extension": ".py",
   "mimetype": "text/x-python",
   "name": "python",
   "nbconvert_exporter": "python",
   "pygments_lexer": "ipython3",
   "version": "3.9.6"
  }
 },
 "nbformat": 4,
 "nbformat_minor": 2
}
