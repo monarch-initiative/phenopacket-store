{
 "cells": [
  {
   "cell_type": "markdown",
   "id": "ba61e408-3f1f-42b6-9523-23164fc5f8d7",
   "metadata": {},
   "source": [
    "# LAMB2 NPHS5\n",
    "[nephrotic syndrome type 5 (NPHS5)](https://omim.org/entry/614199), can be caused by homozygous or compound heterozygous mutation in the LAMB2 gene."
   ]
  },
  {
   "cell_type": "code",
   "execution_count": 1,
   "id": "144936ee-381f-4171-a36d-560e52af9ea7",
   "metadata": {},
   "outputs": [
    {
     "name": "stdout",
     "output_type": "stream",
     "text": [
      "Using pyphetools version 0.9.74\n"
     ]
    }
   ],
   "source": [
    "from pyphetools.creation import TemplateImporter\n",
    "from pyphetools.visualization import IndividualTable, QcVisualizer\n",
    "from IPython.display import display, HTML\n",
    "import pyphetools\n",
    "print(f\"Using pyphetools version {pyphetools.__version__}\")"
   ]
  },
  {
   "cell_type": "code",
   "execution_count": 2,
   "id": "023a8364-0ed7-409e-aa3d-b5d5a91a504a",
   "metadata": {},
   "outputs": [],
   "source": [
    "template = \"input/LAMB2_NPHS5_individuals.xlsx\"\n",
    "hp_json = \"../hp.json\"\n",
    "created_by = \"0000-0002-0736-9199\""
   ]
  },
  {
   "cell_type": "code",
   "execution_count": 6,
   "id": "86050add-b731-4c1b-83de-6a85603a13e7",
   "metadata": {},
   "outputs": [
    {
     "name": "stdout",
     "output_type": "stream",
     "text": [
      "HPO version 2024-04-03\n",
      "Created encoders for 40 fields\n",
      "Importing OMIM:614201, NEPHROTIC SYNDROME, TYPE 8, HGNC:6487, LAMB2,  NM_002292.4\n",
      "[INFO] encoding variant \"c.440A>G\"\n",
      "https://rest.variantvalidator.org/VariantValidator/variantvalidator/hg38/NM_002292.4%3Ac.440A>G/NM_002292.4?content-type=application%2Fjson\n",
      "[INFO] encoding variant \"c.961T>C\"\n",
      "https://rest.variantvalidator.org/VariantValidator/variantvalidator/hg38/NM_002292.4%3Ac.961T>C/NM_002292.4?content-type=application%2Fjson\n",
      "[INFO] encoding variant \"c.4140C>A and c.4177\"\n",
      "https://rest.variantvalidator.org/VariantValidator/variantvalidator/hg38/NM_002292.4%3Ac.4140C>A and c.4177/NM_002292.4?content-type=application%2Fjson\n",
      "[INFO] encoding variant \"c.737G>A\"\n",
      "https://rest.variantvalidator.org/VariantValidator/variantvalidator/hg38/NM_002292.4%3Ac.737G>A/NM_002292.4?content-type=application%2Fjson\n",
      "We output 13 GA4GH phenopackets to the directory phenopackets\n"
     ]
    }
   ],
   "source": [
    "timporter = TemplateImporter(template=template, hp_json=hp_json, created_by=created_by)\n",
    "individual_list, cvalidator = timporter.import_phenopackets_from_template()"
   ]
  },
  {
   "cell_type": "code",
   "execution_count": 7,
   "id": "65774301-596f-4ed1-87cc-5bacb9bcd4bc",
   "metadata": {},
   "outputs": [
    {
     "data": {
      "text/html": [
       "<h2>Cohort validation</h2>\n",
       "<p>No errors found for the cohort with 13 individuals</p>"
      ],
      "text/plain": [
       "<IPython.core.display.HTML object>"
      ]
     },
     "metadata": {},
     "output_type": "display_data"
    }
   ],
   "source": [
    "qc = QcVisualizer(cohort_validator=cvalidator)\n",
    "display(HTML(qc.to_summary_html()))"
   ]
  },
  {
   "cell_type": "code",
   "execution_count": 8,
   "id": "ae8a3418-ffed-4726-926a-e89ded9f1f6d",
   "metadata": {},
   "outputs": [
    {
     "data": {
      "text/html": [
       "<table style=\"border: 2px solid black; align: \"left\">\n",
       "<caption>13 phenopackets - 16912710 (n=4); 21236492 (n=4); 21236493 (n=1); 21236494 (n=1); 21236495 (n=1); 21236496 (n=1); 21236497 (n=1)</caption>\n",
       "<tr><th style=\"text-align: left;font-weight: bold;\">Individual</th><th style=\"text-align: left;font-weight: bold;\">Disease</th><th style=\"text-align: left;font-weight: bold;\">Genotype</th><th style=\"text-align: left;font-weight: bold;\">Phenotypic features</th></tr>\n",
       "<tr><td style=\"text-align: left;\">F1012 (II-1) (FEMALE; P5Y)</td><td style=\"text-align: left;\">NEPHROTIC SYNDROME, TYPE 5 (OMIM:614199)</td><td style=\"text-align: left;\">NM_002292.4:c.737G>A (homozygous)</td><td style=\"text-align: left;\"><b>P1M</b>: Nephrotic syndrome (HP:0000100)<br/>Stage 5 chronic kidney disease (HP:0003774); Focal segmental glomerulosclerosis (HP:0000097); Proteinuria (HP:0000093); excluded: Blindness (HP:0000618); excluded: Cataract (HP:0000518); excluded: Nystagmus (HP:0000639); excluded: Strabismus (HP:0000486); excluded: Hypopigmentation of the fundus (HP:0007894)</td></tr>\n",
       "<tr><td style=\"text-align: left;\">F1012 (II-2) (MALE; P3Y)</td><td style=\"text-align: left;\">NEPHROTIC SYNDROME, TYPE 5 (OMIM:614199)</td><td style=\"text-align: left;\">NM_002292.4:c.737G>A (homozygous)</td><td style=\"text-align: left;\"><b>P1M</b>: Nephrotic syndrome (HP:0000100)<br/>Stage 5 chronic kidney disease (HP:0003774); Proteinuria (HP:0000093); excluded: Blindness (HP:0000618); excluded: Cataract (HP:0000518); excluded: Nystagmus (HP:0000639); excluded: Strabismus (HP:0000486); excluded: Hypopigmentation of the fundus (HP:0007894)</td></tr>\n",
       "<tr><td style=\"text-align: left;\">F1234 (II-1) (FEMALE; P3Y)</td><td style=\"text-align: left;\">NEPHROTIC SYNDROME, TYPE 5 (OMIM:614199)</td><td style=\"text-align: left;\"><ul> <li>NM_002292.4:c.961T>C (heterozygous)</li> <li>NM_002292.4:c.4139_4140insAAND (heterozygous)</li> </ul></td><td style=\"text-align: left;\"><b>P3M</b>: Nephrotic syndrome (HP:0000100); Nystagmus (HP:0000639)<br/>Stage 5 chronic kidney disease (HP:0003774); Strabismus (HP:0000486); Myopia (HP:0000545); excluded: Cataract (HP:0000518); excluded: Hypopigmentation of the fundus (HP:0007894)</td></tr>\n",
       "<tr><td style=\"text-align: left;\">F1234 (II-2) (MALE; P9M)</td><td style=\"text-align: left;\">NEPHROTIC SYNDROME, TYPE 5 (OMIM:614199)</td><td style=\"text-align: left;\"><ul> <li>NM_002292.4:c.961T>C (heterozygous)</li> <li>NM_002292.4:c.4139_4140insAAND (heterozygous)</li> </ul></td><td style=\"text-align: left;\"><b>P3M</b>: Nephrotic syndrome (HP:0000100)<br/>Stage 5 chronic kidney disease (HP:0003774); Hypopigmentation of the fundus (HP:0007894); excluded: Cataract (HP:0000518); excluded: Nystagmus (HP:0000639); excluded: Strabismus (HP:0000486); excluded: Myopia (HP:0000545)</td></tr>\n",
       "<tr><td style=\"text-align: left;\">P1 (FEMALE; n/a)</td><td style=\"text-align: left;\">NEPHROTIC SYNDROME, TYPE 5 (OMIM:614199)</td><td style=\"text-align: left;\">NM_002292.4:c.440A>G (homozygous)</td><td style=\"text-align: left;\">Proteinuria (HP:0000093); Nystagmus (HP:0000639); Microphthalmia (HP:0000568)</td></tr>\n",
       "<tr><td style=\"text-align: left;\">P2 (MALE; n/a)</td><td style=\"text-align: left;\">NEPHROTIC SYNDROME, TYPE 5 (OMIM:614199)</td><td style=\"text-align: left;\">NM_002292.4:c.440A>G (homozygous)</td><td style=\"text-align: left;\">Proteinuria (HP:0000093); Nystagmus (HP:0000639); Optic nerve hypoplasia (HP:0000609); Macular hypoplasia (HP:0001104)</td></tr>\n",
       "<tr><td style=\"text-align: left;\">P3 (FEMALE; P3Y7M)</td><td style=\"text-align: left;\">NEPHROTIC SYNDROME, TYPE 5 (OMIM:614199)</td><td style=\"text-align: left;\">NM_002292.4:c.440A>G (homozygous)</td><td style=\"text-align: left;\">Nephrotic syndrome (HP:0000100); Cataract (HP:0000518); Glomerulonephritis (HP:0000099); Mesangial hypercellularity (HP:0012574); Retinal detachment (HP:0000541)</td></tr>\n",
       "<tr><td style=\"text-align: left;\">P4 (FEMALE; n/a)</td><td style=\"text-align: left;\">NEPHROTIC SYNDROME, TYPE 5 (OMIM:614199)</td><td style=\"text-align: left;\">NM_002292.4:c.440A>G (homozygous)</td><td style=\"text-align: left;\">Proteinuria (HP:0000093); Hypertension (HP:0000822); Retinal detachment (HP:0000541)</td></tr>\n",
       "<tr><td style=\"text-align: left;\">P5 (MALE; n/a)</td><td style=\"text-align: left;\">NEPHROTIC SYNDROME, TYPE 6 (OMIM:614200)</td><td style=\"text-align: left;\">NM_002292.4:c.440A>G (homozygous)</td><td style=\"text-align: left;\">Pigmentary retinopathy (HP:0000580); Retinal detachment (HP:0000541)</td></tr>\n",
       "<tr><td style=\"text-align: left;\">P6 (FEMALE; P12Y)</td><td style=\"text-align: left;\">NEPHROTIC SYNDROME, TYPE 7 (OMIM:614201)</td><td style=\"text-align: left;\">NM_002292.4:c.440A>G (homozygous)</td><td style=\"text-align: left;\">Proteinuria (HP:0000093); Nephrotic syndrome (HP:0000100); Glomerulonephritis (HP:0000099); Hypertension (HP:0000822); Pigmentary retinopathy (HP:0000580); Hematuria (HP:0000790); Mesangial hypercellularity (HP:0012574); Rod-cone dystrophy (HP:0000510); Retinal detachment (HP:0000541); Podocyte foot process effacement (HP:0031266); excluded: Focal segmental glomerulosclerosis (HP:0000097); excluded: Nystagmus (HP:0000639)</td></tr>\n",
       "<tr><td style=\"text-align: left;\">P7 (MALE; n/a)</td><td style=\"text-align: left;\">NEPHROTIC SYNDROME, TYPE 8 (OMIM:614202)</td><td style=\"text-align: left;\">NM_002292.4:c.440A>G (homozygous)</td><td style=\"text-align: left;\">Stage 5 chronic kidney disease (HP:0003774); Cataract (HP:0000518); Glomerulonephritis (HP:0000099); Retinal detachment (HP:0000541)</td></tr>\n",
       "<tr><td style=\"text-align: left;\">P8 (FEMALE; n/a)</td><td style=\"text-align: left;\">NEPHROTIC SYNDROME, TYPE 9 (OMIM:614203)</td><td style=\"text-align: left;\">NM_002292.4:c.440A>G (homozygous)</td><td style=\"text-align: left;\">Stage 5 chronic kidney disease (HP:0003774); Glomerulonephritis (HP:0000099); Pigmentary retinopathy (HP:0000580)</td></tr>\n",
       "<tr><td style=\"text-align: left;\">P10 (MALE; n/a)</td><td style=\"text-align: left;\">NEPHROTIC SYNDROME, TYPE 10 (OMIM:614204)</td><td style=\"text-align: left;\">NM_002292.4:c.440A>G (homozygous)</td><td style=\"text-align: left;\">Stage 5 chronic kidney disease (HP:0003774); Cataract (HP:0000518); Pigmentary retinopathy (HP:0000580)</td></tr>\n",
       "</table>"
      ],
      "text/plain": [
       "<IPython.core.display.HTML object>"
      ]
     },
     "metadata": {},
     "output_type": "display_data"
    }
   ],
   "source": [
    "table = IndividualTable(cvalidator.get_error_free_individual_list())\n",
    "display(HTML(table.to_html()))"
   ]
  },
  {
   "cell_type": "code",
   "execution_count": null,
   "id": "3a7179de-5797-4862-a63a-7084fe788ddf",
   "metadata": {},
   "outputs": [],
   "source": []
  }
 ],
 "metadata": {
  "kernelspec": {
   "display_name": "Python 3 (ipykernel)",
   "language": "python",
   "name": "python3"
  },
  "language_info": {
   "codemirror_mode": {
    "name": "ipython",
    "version": 3
   },
   "file_extension": ".py",
   "mimetype": "text/x-python",
   "name": "python",
   "nbconvert_exporter": "python",
   "pygments_lexer": "ipython3",
   "version": "3.8.10"
  }
 },
 "nbformat": 4,
 "nbformat_minor": 5
}
