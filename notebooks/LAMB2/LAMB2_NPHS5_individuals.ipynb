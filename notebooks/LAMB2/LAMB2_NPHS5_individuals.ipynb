{
 "cells": [
  {
   "cell_type": "markdown",
   "id": "ba61e408-3f1f-42b6-9523-23164fc5f8d7",
   "metadata": {},
   "source": [
    "# LAMB2 NPHS5\n",
    "[nephrotic syndrome type 5 (NPHS5)](https://omim.org/entry/614199), can be caused by homozygous or compound heterozygous mutation in the LAMB2 gene."
   ]
  },
  {
   "cell_type": "code",
   "execution_count": 1,
   "id": "144936ee-381f-4171-a36d-560e52af9ea7",
   "metadata": {},
   "outputs": [
    {
     "name": "stdout",
     "output_type": "stream",
     "text": [
      "Using pyphetools version 0.9.78\n"
     ]
    },
    {
     "name": "stderr",
     "output_type": "stream",
     "text": [
      "/Users/robin/GIT/phenopacket-store/ps24venv/lib/python3.9/site-packages/urllib3/__init__.py:35: NotOpenSSLWarning: urllib3 v2 only supports OpenSSL 1.1.1+, currently the 'ssl' module is compiled with 'LibreSSL 2.8.3'. See: https://github.com/urllib3/urllib3/issues/3020\n",
      "  warnings.warn(\n"
     ]
    }
   ],
   "source": [
    "from pyphetools.creation import TemplateImporter\n",
    "from pyphetools.visualization import IndividualTable, QcVisualizer\n",
    "from IPython.display import display, HTML\n",
    "import pyphetools\n",
    "print(f\"Using pyphetools version {pyphetools.__version__}\")"
   ]
  },
  {
   "cell_type": "code",
   "execution_count": 2,
   "id": "023a8364-0ed7-409e-aa3d-b5d5a91a504a",
   "metadata": {},
   "outputs": [],
   "source": [
    "template = \"input/LAMB2_NPHS5_individuals.xlsx\"\n",
    "hp_json = \"../hp.json\"\n",
    "created_by = \"0000-0002-0736-9199\""
   ]
  },
  {
   "cell_type": "code",
   "execution_count": 3,
   "id": "86050add-b731-4c1b-83de-6a85603a13e7",
   "metadata": {},
   "outputs": [
    {
     "name": "stdout",
     "output_type": "stream",
     "text": [
      "HPO version 2024-04-04\n",
      "Created encoders for 38 fields\n",
      "Importing OMIM:614199, Nephrotic syndrome, type 5, with or without ocular abnormalities, HGNC:6487, LAMB2,  NM_002292.4\n",
      "We output 13 GA4GH phenopackets to the directory phenopackets\n"
     ]
    }
   ],
   "source": [
    "timporter = TemplateImporter(template=template, hp_json=hp_json, created_by=created_by)\n",
    "individual_list, cvalidator = timporter.import_phenopackets_from_template()"
   ]
  },
  {
   "cell_type": "code",
   "execution_count": 4,
   "id": "65774301-596f-4ed1-87cc-5bacb9bcd4bc",
   "metadata": {},
   "outputs": [
    {
     "data": {
      "text/html": [
       "<h2>Cohort validation</h2>\n",
       "<p>Errors found with 3 of 13 phenopackets.</p>\n",
       "<table style=\"border: 2px solid black; align: \"left\">\n",
       "<caption>Error counts</caption>\n",
       "<tr><th style=\"text-align: left;font-weight: bold;\">Level</th><th style=\"text-align: left;font-weight: bold;\">Error category</th><th style=\"text-align: left;font-weight: bold;\">Count</th></tr>\n",
       "<tr><td style=\"text-align: left;\">WARNING</td><td style=\"text-align: left;\">REDUNDANT</td><td style=\"text-align: left;\">3</td></tr>\n",
       "</table>\n",
       "<p>A total of 3 issues were fixed and no individual was removed from the cohort.</p>"
      ],
      "text/plain": [
       "<IPython.core.display.HTML object>"
      ]
     },
     "metadata": {},
     "output_type": "display_data"
    }
   ],
   "source": [
    "qc = QcVisualizer(cohort_validator=cvalidator)\n",
    "display(HTML(qc.to_summary_html()))"
   ]
  },
  {
   "cell_type": "code",
   "execution_count": 5,
   "id": "ae8a3418-ffed-4726-926a-e89ded9f1f6d",
   "metadata": {},
   "outputs": [
    {
     "data": {
      "text/html": [
       "<table style=\"border: 2px solid black; align: \"left\">\n",
       "<caption>13 phenopackets - PMID:16912710 (n=4); PMID:21236492 (n=9)</caption>\n",
       "<tr><th style=\"text-align: left;font-weight: bold;\">Individual</th><th style=\"text-align: left;font-weight: bold;\">Disease</th><th style=\"text-align: left;font-weight: bold;\">Genotype</th><th style=\"text-align: left;font-weight: bold;\">Phenotypic features</th></tr>\n",
       "<tr><td style=\"text-align: left;\">Individual F1012 (II-1) (FEMALE; P5Y)</td><td style=\"text-align: left;\">Nephrotic syndrome, type 5, with or without ocular abnormalities (OMIM:614199)</td><td style=\"text-align: left;\">NM_002292.4:c.737G>A (homozygous)</td><td style=\"text-align: left;\"><b>P1M</b>: Nephrotic syndrome (HP:0000100)<br/>Stage 5 chronic kidney disease (HP:0003774); Focal segmental glomerulosclerosis (HP:0000097); Proteinuria (HP:0000093); excluded: Cataract (HP:0000518); excluded: Nystagmus (HP:0000639)</td></tr>\n",
       "<tr><td style=\"text-align: left;\">Individual F1012 (II-2) (MALE; P3Y)</td><td style=\"text-align: left;\">Nephrotic syndrome, type 5, with or without ocular abnormalities (OMIM:614199)</td><td style=\"text-align: left;\">NM_002292.4:c.737G>A (homozygous)</td><td style=\"text-align: left;\"><b>P1M</b>: Nephrotic syndrome (HP:0000100)<br/>Stage 5 chronic kidney disease (HP:0003774); Proteinuria (HP:0000093); excluded: Cataract (HP:0000518); excluded: Nystagmus (HP:0000639)</td></tr>\n",
       "<tr><td style=\"text-align: left;\">Individual F1234 (II-1) (FEMALE; P3Y)</td><td style=\"text-align: left;\">Nephrotic syndrome, type 5, with or without ocular abnormalities (OMIM:614199)</td><td style=\"text-align: left;\"><ul> <li>NM_002292.4:c.961T>C (heterozygous)</li> <li>NM_002292.4:c.4140C>A (heterozygous)</li> </ul></td><td style=\"text-align: left;\"><b>P3M</b>: Nephrotic syndrome (HP:0000100); Nystagmus (HP:0000639)<br/>Stage 5 chronic kidney disease (HP:0003774); excluded: Cataract (HP:0000518)</td></tr>\n",
       "<tr><td style=\"text-align: left;\">Individual F1234 (II-2) (MALE; P9M)</td><td style=\"text-align: left;\">Nephrotic syndrome, type 5, with or without ocular abnormalities (OMIM:614199)</td><td style=\"text-align: left;\"><ul> <li>NM_002292.4:c.961T>C (heterozygous)</li> <li>NM_002292.4:c.4140C>A (heterozygous)</li> </ul></td><td style=\"text-align: left;\"><b>P3M</b>: Nephrotic syndrome (HP:0000100)<br/>Stage 5 chronic kidney disease (HP:0003774); excluded: Cataract (HP:0000518); excluded: Nystagmus (HP:0000639)</td></tr>\n",
       "<tr><td style=\"text-align: left;\">Individual P1 (FEMALE; n/a)</td><td style=\"text-align: left;\">Nephrotic syndrome, type 5, with or without ocular abnormalities (OMIM:614199)</td><td style=\"text-align: left;\">NM_002292.4:c.440A>G (homozygous)</td><td style=\"text-align: left;\">Renal insufficiency (HP:0000083); Proteinuria (HP:0000093); Nystagmus (HP:0000639); Microphthalmia (HP:0000568); Reduced visual acuity (HP:0007663); excluded: Cataract (HP:0000518); excluded: Pigmentary retinopathy (HP:0000580); excluded: Retinal detachment (HP:0000541); excluded: Optic nerve hypoplasia (HP:0000609); excluded: Macular hypoplasia (HP:0001104)</td></tr>\n",
       "<tr><td style=\"text-align: left;\">Individual P2 (MALE; n/a)</td><td style=\"text-align: left;\">Nephrotic syndrome, type 5, with or without ocular abnormalities (OMIM:614199)</td><td style=\"text-align: left;\">NM_002292.4:c.440A>G (homozygous)</td><td style=\"text-align: left;\">Renal insufficiency (HP:0000083); Proteinuria (HP:0000093); Nystagmus (HP:0000639); Optic nerve hypoplasia (HP:0000609); Macular hypoplasia (HP:0001104); excluded: Cataract (HP:0000518); excluded: Pigmentary retinopathy (HP:0000580); excluded: Retinal detachment (HP:0000541); excluded: Microphthalmia (HP:0000568)</td></tr>\n",
       "<tr><td style=\"text-align: left;\">Individual P3 (FEMALE; P3Y7M)</td><td style=\"text-align: left;\">Nephrotic syndrome, type 5, with or without ocular abnormalities (OMIM:614199)</td><td style=\"text-align: left;\">NM_002292.4:c.440A>G (homozygous)</td><td style=\"text-align: left;\">Focal segmental glomerulosclerosis (HP:0000097); Renal insufficiency (HP:0000083); Nephrotic syndrome (HP:0000100); Mesangial hypercellularity (HP:0012574); Cataract (HP:0000518); Glomerulonephritis (HP:0000099); Retinal detachment (HP:0000541); Reduced visual acuity (HP:0007663); excluded: Podocyte foot process effacement (HP:0031266); excluded: Renal interstitial foam cells (HP:0032582); excluded: Nystagmus (HP:0000639); excluded: Pigmentary retinopathy (HP:0000580); excluded: Microphthalmia (HP:0000568); excluded: Optic nerve hypoplasia (HP:0000609); excluded: Macular hypoplasia (HP:0001104)</td></tr>\n",
       "<tr><td style=\"text-align: left;\">Individual P4 (FEMALE; n/a)</td><td style=\"text-align: left;\">Nephrotic syndrome, type 5, with or without ocular abnormalities (OMIM:614199)</td><td style=\"text-align: left;\">NM_002292.4:c.440A>G (homozygous)</td><td style=\"text-align: left;\">Renal insufficiency (HP:0000083); Proteinuria (HP:0000093); Hypertension (HP:0000822); Retinal detachment (HP:0000541); Reduced visual acuity (HP:0007663); excluded: Cataract (HP:0000518); excluded: Nystagmus (HP:0000639); excluded: Pigmentary retinopathy (HP:0000580); excluded: Microphthalmia (HP:0000568); excluded: Optic nerve hypoplasia (HP:0000609); excluded: Macular hypoplasia (HP:0001104)</td></tr>\n",
       "<tr><td style=\"text-align: left;\">Individual P5 (MALE; n/a)</td><td style=\"text-align: left;\">Nephrotic syndrome, type 5, with or without ocular abnormalities (OMIM:614199)</td><td style=\"text-align: left;\">NM_002292.4:c.440A>G (homozygous)</td><td style=\"text-align: left;\">Renal insufficiency (HP:0000083); Pigmentary retinopathy (HP:0000580); Retinal detachment (HP:0000541); Reduced visual acuity (HP:0007663); excluded: Podocyte foot process effacement (HP:0031266); excluded: Renal interstitial foam cells (HP:0032582); excluded: Mesangial hypercellularity (HP:0012574); excluded: Cataract (HP:0000518); excluded: Nystagmus (HP:0000639); excluded: Microphthalmia (HP:0000568); excluded: Optic nerve hypoplasia (HP:0000609); excluded: Macular hypoplasia (HP:0001104)</td></tr>\n",
       "<tr><td style=\"text-align: left;\">Individual P6 (FEMALE; P12Y)</td><td style=\"text-align: left;\">Nephrotic syndrome, type 5, with or without ocular abnormalities (OMIM:614199)</td><td style=\"text-align: left;\">NM_002292.4:c.440A>G (homozygous)</td><td style=\"text-align: left;\">Diffuse mesangial sclerosis (HP:0001967); Renal insufficiency (HP:0000083); Proteinuria (HP:0000093); Nephrotic syndrome (HP:0000100); Podocyte foot process effacement (HP:0031266); Renal interstitial foam cells (HP:0032582); Mesangial hypercellularity (HP:0012574); Hematuria (HP:0000790); Glomerulonephritis (HP:0000099); Hypertension (HP:0000822); Rod-cone dystrophy (HP:0000510); Retinal detachment (HP:0000541); Reduced visual acuity (HP:0007663); excluded: Focal segmental glomerulosclerosis (HP:0000097); excluded: Cataract (HP:0000518); excluded: Nystagmus (HP:0000639); excluded: Pigmentary retinopathy (HP:0000580); excluded: Microphthalmia (HP:0000568); excluded: Optic nerve hypoplasia (HP:0000609); excluded: Macular hypoplasia (HP:0001104)</td></tr>\n",
       "<tr><td style=\"text-align: left;\">Individual P7 (MALE; n/a)</td><td style=\"text-align: left;\">Nephrotic syndrome, type 5, with or without ocular abnormalities (OMIM:614199)</td><td style=\"text-align: left;\">NM_002292.4:c.440A>G (homozygous)</td><td style=\"text-align: left;\">Stage 5 chronic kidney disease (HP:0003774); Mesangial hypercellularity (HP:0012574); Cataract (HP:0000518); Glomerulonephritis (HP:0000099); Retinal detachment (HP:0000541); Reduced visual acuity (HP:0007663); excluded: Podocyte foot process effacement (HP:0031266); excluded: Renal interstitial foam cells (HP:0032582); excluded: Nystagmus (HP:0000639); excluded: Pigmentary retinopathy (HP:0000580); excluded: Microphthalmia (HP:0000568); excluded: Optic nerve hypoplasia (HP:0000609); excluded: Macular hypoplasia (HP:0001104)</td></tr>\n",
       "<tr><td style=\"text-align: left;\">Individual P8 (FEMALE; n/a)</td><td style=\"text-align: left;\">Nephrotic syndrome, type 5, with or without ocular abnormalities (OMIM:614199)</td><td style=\"text-align: left;\">NM_002292.4:c.440A>G (homozygous)</td><td style=\"text-align: left;\">Stage 5 chronic kidney disease (HP:0003774); Mesangial hypercellularity (HP:0012574); Glomerulonephritis (HP:0000099); Pigmentary retinopathy (HP:0000580); Reduced visual acuity (HP:0007663); excluded: Podocyte foot process effacement (HP:0031266); excluded: Renal interstitial foam cells (HP:0032582); excluded: Nystagmus (HP:0000639); excluded: Retinal detachment (HP:0000541); excluded: Microphthalmia (HP:0000568); excluded: Optic nerve hypoplasia (HP:0000609); excluded: Macular hypoplasia (HP:0001104)</td></tr>\n",
       "<tr><td style=\"text-align: left;\">Individual P10 (MALE; n/a)</td><td style=\"text-align: left;\">Nephrotic syndrome, type 5, with or without ocular abnormalities (OMIM:614199)</td><td style=\"text-align: left;\">NM_002292.4:c.440A>G (homozygous)</td><td style=\"text-align: left;\">Stage 5 chronic kidney disease (HP:0003774); Cataract (HP:0000518); Pigmentary retinopathy (HP:0000580); Reduced visual acuity (HP:0007663); excluded: Nystagmus (HP:0000639); excluded: Retinal detachment (HP:0000541); excluded: Microphthalmia (HP:0000568); excluded: Optic nerve hypoplasia (HP:0000609); excluded: Macular hypoplasia (HP:0001104)</td></tr>\n",
       "</table>"
      ],
      "text/plain": [
       "<IPython.core.display.HTML object>"
      ]
     },
     "metadata": {},
     "output_type": "display_data"
    }
   ],
   "source": [
    "table = IndividualTable(cvalidator.get_error_free_individual_list())\n",
    "display(HTML(table.to_html()))"
   ]
  },
  {
   "cell_type": "code",
   "execution_count": 6,
   "id": "3a7179de-5797-4862-a63a-7084fe788ddf",
   "metadata": {},
   "outputs": [
    {
     "name": "stdout",
     "output_type": "stream",
     "text": [
      "[pyphetools] Ingested 13 GA4GH phenopackets.\n",
      "\tNephrotic syndrome, type 5, with or without ocular abnormalities (OMIM:614199): n=13\n",
      "We found a total of 21 unique HPO terms\n",
      "Extracted disease: Nephrotic syndrome, type 5, with or without ocular abnormalities (OMIM:614199)\n",
      "Wrote HPOA disease file to OMIM-614199.tab\n"
     ]
    }
   ],
   "source": [
    "pmid = \"PMID:16912710\"\n",
    "df = timporter.create_hpoa_from_phenopackets(pmid=pmid, moi=\"Autosomal recessive\")"
   ]
  },
  {
   "cell_type": "code",
   "execution_count": null,
   "id": "cc2798d1-d764-4c53-8555-6585f4b22fd6",
   "metadata": {},
   "outputs": [],
   "source": []
  }
 ],
 "metadata": {
  "kernelspec": {
   "display_name": "Python 3 (ipykernel)",
   "language": "python",
   "name": "python3"
  },
  "language_info": {
   "codemirror_mode": {
    "name": "ipython",
    "version": 3
   },
   "file_extension": ".py",
   "mimetype": "text/x-python",
   "name": "python",
   "nbconvert_exporter": "python",
   "pygments_lexer": "ipython3",
   "version": "3.9.6"
  }
 },
 "nbformat": 4,
 "nbformat_minor": 5
}
