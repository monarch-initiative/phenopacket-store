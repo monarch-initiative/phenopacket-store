{
 "cells": [
  {
   "cell_type": "markdown",
   "id": "1e1b6998-517a-4091-967e-ed16828d560e",
   "metadata": {},
   "source": [
    "# BRD4\n",
    "Deleterious variants in BRD4 are associated with [Cornelia de Lange syndrome 6](https://omim.org/entry/620568)."
   ]
  },
  {
   "cell_type": "code",
   "execution_count": 6,
   "id": "5ed8c977-fa45-4e31-a582-fb89ed4cedc7",
   "metadata": {},
   "outputs": [],
   "source": [
    "from pyphetools.creation import import_phenopackets_from_template, create_hpoa_from_phenopackets\n",
    "template = \"input/BRD4_individuals.xlsx\"\n",
    "hp_json = \"../hp.json\"\n",
    "deletions = {\"del 46 kb\", \"del 2.2 Mb\", \"del 1.3 Mb\", \"del 1.1 Mb\",  \"del 1.9 Mb\", \"1.04 Mb deletion at 19p13.12\"}"
   ]
  },
  {
   "cell_type": "code",
   "execution_count": 9,
   "id": "d9f810ea-5891-4fda-ad94-f7ccb3c25e28",
   "metadata": {},
   "outputs": [
    {
     "name": "stdout",
     "output_type": "stream",
     "text": [
      "HPO version 2024-02-27\n",
      "Created encoders for 38 fields\n",
      " we got OMIM:620568  NM_001379291.1\n",
      "We output 18 GA4GH phenopackets to the directory phenopackets\n"
     ]
    }
   ],
   "source": [
    "individuals, cvalidator = import_phenopackets_from_template(template, hp_json, deletions=deletions)"
   ]
  },
  {
   "cell_type": "code",
   "execution_count": 10,
   "id": "d11da204-54d5-475e-8588-08a6264ea45b",
   "metadata": {},
   "outputs": [
    {
     "data": {
      "text/html": [
       "<h2>Cohort validation</h2>\n",
       "<p>No errors found for the cohort with 18 individuals</p>"
      ],
      "text/plain": [
       "<IPython.core.display.HTML object>"
      ]
     },
     "metadata": {},
     "output_type": "display_data"
    }
   ],
   "source": [
    "### Here, we begin QC and display\n",
    "from pyphetools.visualization import IndividualTable, QcVisualizer\n",
    "from IPython.display import display, HTML\n",
    "qc = QcVisualizer(cohort_validator=cvalidator)\n",
    "display(HTML(qc.to_summary_html()))"
   ]
  },
  {
   "cell_type": "code",
   "execution_count": 13,
   "id": "ee851948-1e39-444a-9e9c-0b1052164667",
   "metadata": {},
   "outputs": [
    {
     "name": "stdout",
     "output_type": "stream",
     "text": [
      "[pyphetools] Ingested 18 GA4GH phenopackets.\n",
      "\tCornelia de Lange syndrome 6 (OMIM:620568): n=18\n",
      "We found a total of 40 unique HPO terms\n",
      "Extracted disease: Cornelia de Lange syndrome 6 (OMIM:620568)\n",
      "Wrote HPOA disease file to OMIM-620568.tab\n"
     ]
    }
   ],
   "source": [
    "# Olley G, et al. BRD4 interacts with NIPBL and BRD4 is mutated in a Cornelia de Lange-like syndrome. \n",
    "# Nat Genet. 2018 Mar;50(3):329-332.PMID: 29379197\n",
    "PMID = \"PMID:29379197\"\n",
    "df = create_hpoa_from_phenopackets(pmid=PMID, moi=\"Autosomal dominant\")"
   ]
  },
  {
   "cell_type": "code",
   "execution_count": null,
   "id": "65ec629c-a4c0-40e4-aaa9-23a2dd984067",
   "metadata": {},
   "outputs": [],
   "source": []
  }
 ],
 "metadata": {
  "kernelspec": {
   "display_name": "Python 3 (ipykernel)",
   "language": "python",
   "name": "python3"
  },
  "language_info": {
   "codemirror_mode": {
    "name": "ipython",
    "version": 3
   },
   "file_extension": ".py",
   "mimetype": "text/x-python",
   "name": "python",
   "nbconvert_exporter": "python",
   "pygments_lexer": "ipython3",
   "version": "3.8.10"
  }
 },
 "nbformat": 4,
 "nbformat_minor": 5
}
