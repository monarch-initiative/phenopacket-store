{
 "cells": [
  {
   "cell_type": "markdown",
   "metadata": {},
   "source": [
    "# B2M\n",
    "[hereditary systemic amyloidosis-6 (AMYLD6)](https://omim.org/entry/620659) is caused by heterozygous mutation in the B2M gene."
   ]
  },
  {
   "cell_type": "code",
   "execution_count": 1,
   "metadata": {},
   "outputs": [
    {
     "name": "stdout",
     "output_type": "stream",
     "text": [
      "Using pyphetools version 0.9.113\n"
     ]
    }
   ],
   "source": [
    "from pyphetools.creation import TemplateImporter, Moi\n",
    "from pyphetools.visualization import IndividualTable, QcVisualizer\n",
    "from IPython.display import display, HTML\n",
    "import pyphetools\n",
    "print(f\"Using pyphetools version {pyphetools.__version__}\")"
   ]
  },
  {
   "cell_type": "code",
   "execution_count": 4,
   "metadata": {},
   "outputs": [
    {
     "name": "stdout",
     "output_type": "stream",
     "text": [
      "HPO version 2024-12-12\n",
      "Created encoders for 37 fields\n",
      "Importing OMIM:620659, Amyloidosis, hereditary systemic 6, HGNC:914, B2M,  NM_004048.4\n",
      "[INFO] encoding variant \"c.286G>A\"\n",
      "https://rest.variantvalidator.org/VariantValidator/variantvalidator/hg38/NM_004048.4%3Ac.286G>A/NM_004048.4?content-type=application%2Fjson\n",
      "We output 4 GA4GH phenopackets to the directory phenopackets\n"
     ]
    }
   ],
   "source": [
    "template = \"input/B2M_AMYLD6_individuals.xlsx\"\n",
    "created_by = \"0000-0002-0736-9199\"\n",
    "timporter = TemplateImporter(template=template,  created_by=created_by)\n",
    "individual_list, cvalidator = timporter.import_phenopackets_from_template()"
   ]
  },
  {
   "cell_type": "code",
   "execution_count": 5,
   "metadata": {},
   "outputs": [
    {
     "data": {
      "text/html": [
       "<h2>Cohort validation</h2>\n",
       "<p>No errors found for the cohort with 4 individuals</p>"
      ],
      "text/plain": [
       "<IPython.core.display.HTML object>"
      ]
     },
     "metadata": {},
     "output_type": "display_data"
    }
   ],
   "source": [
    "qc = QcVisualizer(cohort_validator=cvalidator)\n",
    "display(HTML(qc.to_summary_html()))"
   ]
  },
  {
   "cell_type": "code",
   "execution_count": 6,
   "metadata": {},
   "outputs": [
    {
     "data": {
      "text/html": [
       "<table style=\"border: 2px solid black; align: \"left\">\n",
       "<caption>4 phenopackets - PMID:22693999 (n=4)</caption>\n",
       "<tr><th style=\"text-align: left;font-weight: bold;\">Individual</th><th style=\"text-align: left;font-weight: bold;\">Disease</th><th style=\"text-align: left;font-weight: bold;\">Genotype</th><th style=\"text-align: left;font-weight: bold;\">Phenotypic features</th></tr>\n",
       "<tr><td style=\"text-align: left;\">proband II-7 (FEMALE; P62Y)</td><td style=\"text-align: left;\">Amyloidosis, hereditary systemic 6 (OMIM:620659)</td><td style=\"text-align: left;\">NM_004048.4:c.286G>A (heterozygous)</td><td style=\"text-align: left;\">Amyloidosis of peripheral nerves (HP:0100292): onset ; Chronic diarrhea (HP:0002028): onset ; Chronic constipation (HP:0012450): onset ; excluded: Weight loss (HP:0001824): onset ; excluded: Dyspnea (HP:0002094): onset ; excluded: Edema (HP:0000969): onset </td></tr>\n",
       "<tr><td style=\"text-align: left;\">family member II-1 (FEMALE; P70Y)</td><td style=\"text-align: left;\">Amyloidosis, hereditary systemic 6 (OMIM:620659)</td><td style=\"text-align: left;\">NM_004048.4:c.286G>A (heterozygous)</td><td style=\"text-align: left;\">Hepatic amyloidosis (HP:0012280): onset ; Cardiac amyloidosis (HP:0030843): onset ; Amyloidosis of peripheral nerves (HP:0100292): onset ; Weight loss (HP:0001824): onset ; Orthostatic hypotension (HP:0001278): onset ; Polyneuropathy (HP:0001271): onset </td></tr>\n",
       "<tr><td style=\"text-align: left;\">family member II-9 (FEMALE; P56Y)</td><td style=\"text-align: left;\">Amyloidosis, hereditary systemic 6 (OMIM:620659)</td><td style=\"text-align: left;\">NM_004048.4:c.286G>A (heterozygous)</td><td style=\"text-align: left;\">Amyloidosis of peripheral nerves (HP:0100292): onset ; Weight loss (HP:0001824): onset ; Chronic diarrhea (HP:0002028): onset </td></tr>\n",
       "<tr><td style=\"text-align: left;\">family member III-2 (MALE; P48Y)</td><td style=\"text-align: left;\">Amyloidosis, hereditary systemic 6 (OMIM:620659)</td><td style=\"text-align: left;\">NM_004048.4:c.286G>A (heterozygous)</td><td style=\"text-align: left;\">Amyloidosis of peripheral nerves (HP:0100292): onset ; Chronic diarrhea (HP:0002028): onset </td></tr>\n",
       "</table>"
      ],
      "text/plain": [
       "<IPython.core.display.HTML object>"
      ]
     },
     "metadata": {},
     "output_type": "display_data"
    }
   ],
   "source": [
    "table = IndividualTable(cvalidator.get_error_free_individual_list())\n",
    "display(HTML(table.to_html()))"
   ]
  },
  {
   "cell_type": "code",
   "execution_count": 7,
   "metadata": {},
   "outputs": [
    {
     "name": "stdout",
     "output_type": "stream",
     "text": [
      "[pyphetools] Ingested 4 GA4GH phenopackets.\n",
      "[INFO] Extracted 4 from 4 phenopackets with OMIM:620659\n",
      "\n",
      "\tAmyloidosis, hereditary systemic 6 (OMIM:620659): n=4\n",
      "We found a total of 10 unique HPO terms\n",
      "Extracted disease: Amyloidosis, hereditary systemic 6 (OMIM:620659)\n",
      "Wrote HPOA disease file to OMIM-620659.tab\n"
     ]
    }
   ],
   "source": [
    "pmid = \"PMID:22693999\"\n",
    "df = timporter.create_hpoa_from_phenopackets(pmid=pmid, mode_of_inheritance=Moi.AD, target=\"OMIM:620659\")"
   ]
  }
 ],
 "metadata": {
  "kernelspec": {
   "display_name": "ps24venv",
   "language": "python",
   "name": "python3"
  },
  "language_info": {
   "codemirror_mode": {
    "name": "ipython",
    "version": 3
   },
   "file_extension": ".py",
   "mimetype": "text/x-python",
   "name": "python",
   "nbconvert_exporter": "python",
   "pygments_lexer": "ipython3",
   "version": "3.12.4"
  }
 },
 "nbformat": 4,
 "nbformat_minor": 2
}
