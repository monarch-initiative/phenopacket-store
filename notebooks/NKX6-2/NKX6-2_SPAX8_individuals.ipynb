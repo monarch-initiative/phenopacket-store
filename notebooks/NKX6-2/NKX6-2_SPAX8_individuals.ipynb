{
 "cells": [
  {
   "cell_type": "markdown",
   "metadata": {},
   "source": [
    "# NKX6-2\n",
    "[autosomal recessive spastic ataxia-8 (SPAX8) with hypomyelinating leukodystrophy](https://omim.org/entry/617560) is caused by homozygous mutation in the NKX6-2 gene."
   ]
  },
  {
   "cell_type": "code",
   "execution_count": 3,
   "metadata": {},
   "outputs": [
    {
     "name": "stdout",
     "output_type": "stream",
     "text": [
      "Using pyphetools version 0.9.82\n"
     ]
    }
   ],
   "source": [
    "from pyphetools.creation import TemplateImporter\n",
    "from pyphetools.visualization import IndividualTable, QcVisualizer\n",
    "from IPython.display import display, HTML\n",
    "import pyphetools\n",
    "print(f\"Using pyphetools version {pyphetools.__version__}\")"
   ]
  },
  {
   "cell_type": "code",
   "execution_count": 10,
   "metadata": {},
   "outputs": [],
   "source": [
    "template = \"input/NKX6-2_SPAX8_individuals.xlsx\"\n",
    "created_by = \"0000-0002-0736-9199\""
   ]
  },
  {
   "cell_type": "code",
   "execution_count": 13,
   "metadata": {},
   "outputs": [
    {
     "name": "stdout",
     "output_type": "stream",
     "text": [
      "HPO version 2024-04-26\n",
      "Created encoders for 54 fields\n",
      "Importing OMIM:617560, Spastic ataxia 8, autosomal recessive, with hypomyelinating leukodystrophy, HGNC:19321, NKX6-2,  NM_177400.3\n",
      "[INFO] encoding variant \"c.196del\"\n",
      "https://rest.variantvalidator.org/VariantValidator/variantvalidator/hg38/NM_177400.3%3Ac.196del/NM_177400.3?content-type=application%2Fjson\n",
      "[INFO] encoding variant \"c.121A>T\"\n",
      "https://rest.variantvalidator.org/VariantValidator/variantvalidator/hg38/NM_177400.3%3Ac.121A>T/NM_177400.3?content-type=application%2Fjson\n",
      "[INFO] encoding variant \"c.608G>A\"\n",
      "https://rest.variantvalidator.org/VariantValidator/variantvalidator/hg38/NM_177400.3%3Ac.608G>A/NM_177400.3?content-type=application%2Fjson\n",
      "[INFO] encoding variant \"c.487C>G\"\n",
      "https://rest.variantvalidator.org/VariantValidator/variantvalidator/hg38/NM_177400.3%3Ac.487C>G/NM_177400.3?content-type=application%2Fjson\n",
      "We output 17 GA4GH phenopackets to the directory phenopackets\n"
     ]
    }
   ],
   "source": [
    "timporter = TemplateImporter(template=template,  created_by=created_by)\n",
    "individual_list, cvalidator = timporter.import_phenopackets_from_template()"
   ]
  },
  {
   "cell_type": "code",
   "execution_count": 14,
   "metadata": {},
   "outputs": [
    {
     "data": {
      "text/html": [
       "<h2>Cohort validation</h2>\n",
       "<p>No errors found for the cohort with 17 individuals</p>"
      ],
      "text/plain": [
       "<IPython.core.display.HTML object>"
      ]
     },
     "metadata": {},
     "output_type": "display_data"
    }
   ],
   "source": [
    "qc = QcVisualizer(cohort_validator=cvalidator)\n",
    "display(HTML(qc.to_summary_html()))"
   ]
  },
  {
   "cell_type": "code",
   "execution_count": 15,
   "metadata": {},
   "outputs": [
    {
     "data": {
      "text/html": [
       "<table style=\"border: 2px solid black; align: \"left\">\n",
       "<caption>17 phenopackets - PMID:28575651 (n=7); PMID:29388673 (n=10)</caption>\n",
       "<tr><th style=\"text-align: left;font-weight: bold;\">Individual</th><th style=\"text-align: left;font-weight: bold;\">Disease</th><th style=\"text-align: left;font-weight: bold;\">Genotype</th><th style=\"text-align: left;font-weight: bold;\">Phenotypic features</th></tr>\n",
       "<tr><td style=\"text-align: left;\">Individual 1 (FEMALE; P27Y)</td><td style=\"text-align: left;\">Spastic ataxia 8, autosomal recessive, with hypomyelinating leukodystrophy (OMIM:617560)</td><td style=\"text-align: left;\">NM_177400.3:c.121A>T (homozygous)</td><td style=\"text-align: left;\"><b>P4M</b>: Nystagmus (HP:0000639)<br/>Torticollis (HP:0000473); Limb dystonia (HP:0002451); Cerebellar atrophy (HP:0001272); CNS hypomyelination (HP:0003429); Loss of ambulation (HP:0002505); Head titubation (HP:0002599); Ataxia (HP:0001251); Spasticity (HP:0001257); Dysarthria (HP:0001260); Upgaze palsy (HP:0025331); Abnormal pyramidal sign (HP:0007256); excluded: Cognitive impairment (HP:0100543); excluded: Thin corpus callosum (HP:0033725); excluded: Abnormal exteroceptive sensation (HP:0033747); excluded: Hypometric saccades (HP:0000571); excluded: Global developmental delay (HP:0001263)</td></tr>\n",
       "<tr><td style=\"text-align: left;\">Individual 2 (MALE; P23Y)</td><td style=\"text-align: left;\">Spastic ataxia 8, autosomal recessive, with hypomyelinating leukodystrophy (OMIM:617560)</td><td style=\"text-align: left;\">NM_177400.3:c.121A>T (homozygous)</td><td style=\"text-align: left;\"><b>P5Y</b>: Ataxia (HP:0001251)<br/>Torticollis (HP:0000473); Limb dystonia (HP:0002451); Cerebellar atrophy (HP:0001272); CNS hypomyelination (HP:0003429); Loss of ambulation (HP:0002505); Spasticity (HP:0001257); Dysarthria (HP:0001260); Abnormal pyramidal sign (HP:0007256); Nystagmus (HP:0000639); Hypometric saccades (HP:0000571); excluded: Cognitive impairment (HP:0100543); excluded: Thin corpus callosum (HP:0033725); excluded: Abnormal exteroceptive sensation (HP:0033747); excluded: Global developmental delay (HP:0001263)</td></tr>\n",
       "<tr><td style=\"text-align: left;\">Individual 3 (MALE; P8Y)</td><td style=\"text-align: left;\">Spastic ataxia 8, autosomal recessive, with hypomyelinating leukodystrophy (OMIM:617560)</td><td style=\"text-align: left;\">NM_177400.3:c.121A>T (homozygous)</td><td style=\"text-align: left;\"><b>P7M</b>: Nystagmus (HP:0000639)<br/>Limb dystonia (HP:0002451); Cerebellar atrophy (HP:0001272); CNS hypomyelination (HP:0003429); Loss of ambulation (HP:0002505); Ataxia (HP:0001251); Spasticity (HP:0001257); Dysarthria (HP:0001260); Abnormal pyramidal sign (HP:0007256); Hypometric saccades (HP:0000571); Hypotonia (HP:0001252); excluded: Torticollis (HP:0000473); excluded: Cognitive impairment (HP:0100543); excluded: Thin corpus callosum (HP:0033725); excluded: Abnormal exteroceptive sensation (HP:0033747); excluded: Global developmental delay (HP:0001263)</td></tr>\n",
       "<tr><td style=\"text-align: left;\">Individual 4 (FEMALE; P44Y)</td><td style=\"text-align: left;\">Spastic ataxia 8, autosomal recessive, with hypomyelinating leukodystrophy (OMIM:617560)</td><td style=\"text-align: left;\">NM_177400.3:c.121A>T (homozygous)</td><td style=\"text-align: left;\"><b>P1Y</b>: Nystagmus (HP:0000639)<br/>Torticollis (HP:0000473); Limb dystonia (HP:0002451); Cerebellar atrophy (HP:0001272); CNS hypomyelination (HP:0003429); Thin corpus callosum (HP:0033725); Loss of ambulation (HP:0002505); Head titubation (HP:0002599); Ataxia (HP:0001251); Spasticity (HP:0001257); Upgaze palsy (HP:0025331); Abnormal pyramidal sign (HP:0007256); Hyperreflexia (HP:0001347); excluded: Cognitive impairment (HP:0100543); excluded: Abnormal exteroceptive sensation (HP:0033747); excluded: Hypometric saccades (HP:0000571); excluded: Global developmental delay (HP:0001263)</td></tr>\n",
       "<tr><td style=\"text-align: left;\">Individual 5 (MALE; P30Y)</td><td style=\"text-align: left;\">Spastic ataxia 8, autosomal recessive, with hypomyelinating leukodystrophy (OMIM:617560)</td><td style=\"text-align: left;\">NM_177400.3:c.121A>T (homozygous)</td><td style=\"text-align: left;\"><b>P3Y</b>: Nystagmus (HP:0000639)<br/>Loss of ambulation (HP:0002505); Head titubation (HP:0002599); Ataxia (HP:0001251); Spasticity (HP:0001257); Upgaze palsy (HP:0025331); Abnormal pyramidal sign (HP:0007256); Hyperreflexia (HP:0001347); Hypometric saccades (HP:0000571); excluded: Torticollis (HP:0000473); excluded: Limb dystonia (HP:0002451); excluded: Cognitive impairment (HP:0100543); excluded: Abnormal exteroceptive sensation (HP:0033747); excluded: Global developmental delay (HP:0001263)</td></tr>\n",
       "<tr><td style=\"text-align: left;\">Individual 6 (FEMALE; P6Y)</td><td style=\"text-align: left;\">Spastic ataxia 8, autosomal recessive, with hypomyelinating leukodystrophy (OMIM:617560)</td><td style=\"text-align: left;\">NM_177400.3:c.487C>G (homozygous)</td><td style=\"text-align: left;\"><b>P1M</b>: Nystagmus (HP:0000639)<br/>CNS hypomyelination (HP:0003429); Cognitive impairment (HP:0100543); Spasticity (HP:0001257); Abnormal pyramidal sign (HP:0007256); Hypometric saccades (HP:0000571); Hypotonia (HP:0001252); Global developmental delay (HP:0001263); excluded: Torticollis (HP:0000473); excluded: Limb dystonia (HP:0002451); excluded: Thin corpus callosum (HP:0033725); excluded: Loss of ambulation (HP:0002505); excluded: Abnormal exteroceptive sensation (HP:0033747)</td></tr>\n",
       "<tr><td style=\"text-align: left;\">Individual 7 (MALE; P4Y)</td><td style=\"text-align: left;\">Spastic ataxia 8, autosomal recessive, with hypomyelinating leukodystrophy (OMIM:617560)</td><td style=\"text-align: left;\">NM_177400.3:c.487C>G (homozygous)</td><td style=\"text-align: left;\"><b>P1M</b>: Nystagmus (HP:0000639)<br/>CNS hypomyelination (HP:0003429); Cognitive impairment (HP:0100543); Spasticity (HP:0001257); Abnormal pyramidal sign (HP:0007256); Hypometric saccades (HP:0000571); Hypotonia (HP:0001252); Global developmental delay (HP:0001263); excluded: Torticollis (HP:0000473); excluded: Limb dystonia (HP:0002451); excluded: Thin corpus callosum (HP:0033725); excluded: Loss of ambulation (HP:0002505); excluded: Abnormal exteroceptive sensation (HP:0033747)</td></tr>\n",
       "<tr><td style=\"text-align: left;\">Fam. 1 III:3 (MALE; P1Y7M)</td><td style=\"text-align: left;\">Spastic ataxia 8, autosomal recessive, with hypomyelinating leukodystrophy (OMIM:617560)</td><td style=\"text-align: left;\">NM_177400.3:c.196del (homozygous)</td><td style=\"text-align: left;\">CNS hypomyelination (HP:0003429); Motor delay (HP:0001270); Spasticity (HP:0001257); Nystagmus (HP:0000639); Developmental regression (HP:0002376); Global developmental delay (HP:0001263); excluded: Brain atrophy (HP:0012444); excluded: Thin corpus callosum (HP:0033725); excluded: Seizure (HP:0001250); excluded: Joint contracture (HP:0034392); excluded: Frontal bossing (HP:0002007); excluded: Bulbous nose (HP:0000414); excluded: Hypodontia (HP:0000668); excluded: Synophrys (HP:0000664); excluded: Long face (HP:0000276); excluded: Gingival overgrowth (HP:0000212); excluded: High palate (HP:0000218); excluded: Dental crowding (HP:0000678)</td></tr>\n",
       "<tr><td style=\"text-align: left;\">Fam. 2, II:1 (FEMALE; P4Y7M)</td><td style=\"text-align: left;\">Spastic ataxia 8, autosomal recessive, with hypomyelinating leukodystrophy (OMIM:617560)</td><td style=\"text-align: left;\">NM_177400.3:c.196del (homozygous)</td><td style=\"text-align: left;\">CNS hypomyelination (HP:0003429); Leukodystrophy (HP:0002415); Motor delay (HP:0001270); Spasticity (HP:0001257); Hyperreflexia (HP:0001347); Nystagmus (HP:0000639); Hypotonia (HP:0001252); Developmental regression (HP:0002376); Global developmental delay (HP:0001263); Joint contracture (HP:0034392); excluded: Seizure (HP:0001250); excluded: Scoliosis (HP:0002650)</td></tr>\n",
       "<tr><td style=\"text-align: left;\">Fam. 3, III:1 (MALE; P10Y)</td><td style=\"text-align: left;\">Spastic ataxia 8, autosomal recessive, with hypomyelinating leukodystrophy (OMIM:617560)</td><td style=\"text-align: left;\">NM_177400.3:c.196del (homozygous)</td><td style=\"text-align: left;\">Brain atrophy (HP:0012444); CNS hypomyelination (HP:0003429); Thin corpus callosum (HP:0033725); Motor delay (HP:0001270); Spasticity (HP:0001257); Hyperreflexia (HP:0001347); Global developmental delay (HP:0001263)</td></tr>\n",
       "<tr><td style=\"text-align: left;\">Fam. 3, III:2 (MALE; P6Y)</td><td style=\"text-align: left;\">Spastic ataxia 8, autosomal recessive, with hypomyelinating leukodystrophy (OMIM:617560)</td><td style=\"text-align: left;\">NM_177400.3:c.196del (homozygous)</td><td style=\"text-align: left;\">Brain atrophy (HP:0012444); CNS hypomyelination (HP:0003429); Thin corpus callosum (HP:0033725); Motor delay (HP:0001270); Spasticity (HP:0001257); Hyperreflexia (HP:0001347); Global developmental delay (HP:0001263)</td></tr>\n",
       "<tr><td style=\"text-align: left;\">Fam. 4, III:1 (FEMALE; P10Y)</td><td style=\"text-align: left;\">Spastic ataxia 8, autosomal recessive, with hypomyelinating leukodystrophy (OMIM:617560)</td><td style=\"text-align: left;\">NM_177400.3:c.487C>G (homozygous)</td><td style=\"text-align: left;\">Brain atrophy (HP:0012444); CNS hypomyelination (HP:0003429); Thin corpus callosum (HP:0033725); Motor delay (HP:0001270); Spasticity (HP:0001257); Seizure (HP:0001250); Hyperreflexia (HP:0001347); Nystagmus (HP:0000639); Hypotonia (HP:0001252); Global developmental delay (HP:0001263); Joint contracture (HP:0034392); Frontal bossing (HP:0002007); Bulbous nose (HP:0000414); Hypodontia (HP:0000668); Synophrys (HP:0000664); excluded: Developmental regression (HP:0002376); excluded: Long face (HP:0000276); excluded: Gingival overgrowth (HP:0000212); excluded: High palate (HP:0000218); excluded: Dental crowding (HP:0000678)</td></tr>\n",
       "<tr><td style=\"text-align: left;\">Fam. 4, III:2 (MALE; P2Y2M)</td><td style=\"text-align: left;\">Spastic ataxia 8, autosomal recessive, with hypomyelinating leukodystrophy (OMIM:617560)</td><td style=\"text-align: left;\">NM_177400.3:c.487C>G (homozygous)</td><td style=\"text-align: left;\">Motor delay (HP:0001270); Spasticity (HP:0001257); Seizure (HP:0001250); Nystagmus (HP:0000639); Hypotonia (HP:0001252); Global developmental delay (HP:0001263); excluded: Frontal bossing (HP:0002007); excluded: Bulbous nose (HP:0000414); excluded: Hypodontia (HP:0000668); excluded: Synophrys (HP:0000664); excluded: Long face (HP:0000276); excluded: Gingival overgrowth (HP:0000212); excluded: High palate (HP:0000218); excluded: Dental crowding (HP:0000678)</td></tr>\n",
       "<tr><td style=\"text-align: left;\">Fam. 5, III:1 (MALE; P1Y2M)</td><td style=\"text-align: left;\">Spastic ataxia 8, autosomal recessive, with hypomyelinating leukodystrophy (OMIM:617560)</td><td style=\"text-align: left;\">NM_177400.3:c.487C>G (homozygous)</td><td style=\"text-align: left;\">Spasticity (HP:0001257); Hyperreflexia (HP:0001347); Nystagmus (HP:0000639); Hypotonia (HP:0001252); Global developmental delay (HP:0001263); excluded: Brain atrophy (HP:0012444); excluded: CNS hypomyelination (HP:0003429); excluded: Leukodystrophy (HP:0002415); excluded: Thin corpus callosum (HP:0033725); excluded: Seizure (HP:0001250); excluded: Developmental regression (HP:0002376); excluded: Frontal bossing (HP:0002007); excluded: Bulbous nose (HP:0000414); excluded: Hypodontia (HP:0000668); excluded: Synophrys (HP:0000664); excluded: Long face (HP:0000276); excluded: Gingival overgrowth (HP:0000212); excluded: High palate (HP:0000218); excluded: Dental crowding (HP:0000678)</td></tr>\n",
       "<tr><td style=\"text-align: left;\">Fam. 5, III:2 (FEMALE; n/a)</td><td style=\"text-align: left;\">Spastic ataxia 8, autosomal recessive, with hypomyelinating leukodystrophy (OMIM:617560)</td><td style=\"text-align: left;\">NM_177400.3:c.487C>G (homozygous)</td><td style=\"text-align: left;\">Hypotonia (HP:0001252); excluded: Brain atrophy (HP:0012444); excluded: CNS hypomyelination (HP:0003429); excluded: Leukodystrophy (HP:0002415); excluded: Thin corpus callosum (HP:0033725); excluded: Frontal bossing (HP:0002007); excluded: Bulbous nose (HP:0000414); excluded: Hypodontia (HP:0000668); excluded: Synophrys (HP:0000664); excluded: Long face (HP:0000276); excluded: Gingival overgrowth (HP:0000212); excluded: High palate (HP:0000218); excluded: Dental crowding (HP:0000678)</td></tr>\n",
       "<tr><td style=\"text-align: left;\">Fam. 6, II:2 (FEMALE; P12Y6M)</td><td style=\"text-align: left;\">Spastic ataxia 8, autosomal recessive, with hypomyelinating leukodystrophy (OMIM:617560)</td><td style=\"text-align: left;\">NM_177400.3:c.608G>A (homozygous)</td><td style=\"text-align: left;\">Dystonia (HP:0001332); Brain atrophy (HP:0012444); CNS hypomyelination (HP:0003429); Leukodystrophy (HP:0002415); Thin corpus callosum (HP:0033725); Motor delay (HP:0001270); Spasticity (HP:0001257); Hyperreflexia (HP:0001347); Scoliosis (HP:0002650); Nystagmus (HP:0000639); Hypotonia (HP:0001252); Developmental regression (HP:0002376); Global developmental delay (HP:0001263); Joint contracture (HP:0034392); Long face (HP:0000276); Gingival overgrowth (HP:0000212); High palate (HP:0000218); Dental crowding (HP:0000678); excluded: Seizure (HP:0001250); excluded: Frontal bossing (HP:0002007); excluded: Bulbous nose (HP:0000414); excluded: Hypodontia (HP:0000668); excluded: Synophrys (HP:0000664)</td></tr>\n",
       "<tr><td style=\"text-align: left;\">Fam. 6, II:3 (FEMALE; P12Y6M)</td><td style=\"text-align: left;\">Spastic ataxia 8, autosomal recessive, with hypomyelinating leukodystrophy (OMIM:617560)</td><td style=\"text-align: left;\">NM_177400.3:c.608G>A (homozygous)</td><td style=\"text-align: left;\">Dystonia (HP:0001332); Brain atrophy (HP:0012444); CNS hypomyelination (HP:0003429); Leukodystrophy (HP:0002415); Thin corpus callosum (HP:0033725); Motor delay (HP:0001270); Spasticity (HP:0001257); Hyperreflexia (HP:0001347); Scoliosis (HP:0002650); Nystagmus (HP:0000639); Hypotonia (HP:0001252); Developmental regression (HP:0002376); Global developmental delay (HP:0001263); Joint contracture (HP:0034392); Long face (HP:0000276); Gingival overgrowth (HP:0000212); High palate (HP:0000218); Dental crowding (HP:0000678); excluded: Frontal bossing (HP:0002007); excluded: Bulbous nose (HP:0000414); excluded: Hypodontia (HP:0000668); excluded: Synophrys (HP:0000664)</td></tr>\n",
       "</table>"
      ],
      "text/plain": [
       "<IPython.core.display.HTML object>"
      ]
     },
     "metadata": {},
     "output_type": "display_data"
    }
   ],
   "source": [
    "table = IndividualTable(cvalidator.get_error_free_individual_list())\n",
    "display(HTML(table.to_html()))"
   ]
  },
  {
   "cell_type": "code",
   "execution_count": 16,
   "metadata": {},
   "outputs": [
    {
     "name": "stdout",
     "output_type": "stream",
     "text": [
      "[pyphetools] Ingested 17 GA4GH phenopackets.\n",
      "\tSpastic ataxia 8, autosomal recessive, with hypomyelinating leukodystrophy (OMIM:617560): n=17\n",
      "We found a total of 35 unique HPO terms\n",
      "Extracted disease: Spastic ataxia 8, autosomal recessive, with hypomyelinating leukodystrophy (OMIM:617560)\n",
      "Wrote HPOA disease file to OMIM-617560.tab\n"
     ]
    }
   ],
   "source": [
    "pmid = \"PMID:28575651\"\n",
    "df = timporter.create_hpoa_from_phenopackets(pmid=pmid, moi=\"Autosomal recessive\")"
   ]
  },
  {
   "cell_type": "code",
   "execution_count": null,
   "metadata": {},
   "outputs": [],
   "source": []
  }
 ],
 "metadata": {
  "kernelspec": {
   "display_name": "ps24venv",
   "language": "python",
   "name": "python3"
  },
  "language_info": {
   "codemirror_mode": {
    "name": "ipython",
    "version": 3
   },
   "file_extension": ".py",
   "mimetype": "text/x-python",
   "name": "python",
   "nbconvert_exporter": "python",
   "pygments_lexer": "ipython3",
   "version": "3.9.6"
  }
 },
 "nbformat": 4,
 "nbformat_minor": 2
}
