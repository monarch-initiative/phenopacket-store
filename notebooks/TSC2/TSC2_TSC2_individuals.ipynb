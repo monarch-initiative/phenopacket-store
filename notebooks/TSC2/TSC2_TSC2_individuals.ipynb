{
 "cells": [
  {
   "cell_type": "markdown",
   "metadata": {},
   "source": [
    "# TSC2\n",
    "[tuberous sclerosis-2 (TSC2)](https://omim.org/entry/613254) is caused by heterozygous mutation in the TSC2 gene."
   ]
  },
  {
   "cell_type": "code",
   "execution_count": 1,
   "metadata": {},
   "outputs": [
    {
     "name": "stdout",
     "output_type": "stream",
     "text": [
      "Using pyphetools version 0.9.90\n"
     ]
    },
    {
     "name": "stderr",
     "output_type": "stream",
     "text": [
      "/Users/robin/GIT/phenopacket-store/ps24venv/lib/python3.9/site-packages/urllib3/__init__.py:35: NotOpenSSLWarning: urllib3 v2 only supports OpenSSL 1.1.1+, currently the 'ssl' module is compiled with 'LibreSSL 2.8.3'. See: https://github.com/urllib3/urllib3/issues/3020\n",
      "  warnings.warn(\n"
     ]
    }
   ],
   "source": [
    "from pyphetools.creation import TemplateImporter\n",
    "from pyphetools.visualization import IndividualTable, QcVisualizer\n",
    "from IPython.display import display, HTML\n",
    "import pyphetools\n",
    "print(f\"Using pyphetools version {pyphetools.__version__}\")"
   ]
  },
  {
   "cell_type": "code",
   "execution_count": 2,
   "metadata": {},
   "outputs": [],
   "source": [
    "template = \"input/TSC2_TSC2_individuals.xlsx\"\n",
    "created_by = \"0000-0002-0736-9199\""
   ]
  },
  {
   "cell_type": "code",
   "execution_count": 3,
   "metadata": {},
   "outputs": [
    {
     "name": "stdout",
     "output_type": "stream",
     "text": [
      "HPO version 2024-04-26\n",
      "Created encoders for 45 fields\n",
      "Importing OMIM:613254, Tuberous sclerosis-2, HGNC:12363, TSC2,  NM_000548.5\n",
      "We output 9 GA4GH phenopackets to the directory phenopackets\n"
     ]
    }
   ],
   "source": [
    "timporter = TemplateImporter(template=template,  created_by=created_by)\n",
    "individual_list, cvalidator = timporter.import_phenopackets_from_template()"
   ]
  },
  {
   "cell_type": "code",
   "execution_count": 4,
   "metadata": {},
   "outputs": [
    {
     "data": {
      "text/html": [
       "<h2>Cohort validation</h2>\n",
       "<p>Errors found with 5 of 9 phenopackets.</p>\n",
       "<table style=\"border: 2px solid black; align: \"left\">\n",
       "<caption>Error counts</caption>\n",
       "<tr><th style=\"text-align: left;font-weight: bold;\">Level</th><th style=\"text-align: left;font-weight: bold;\">Error category</th><th style=\"text-align: left;font-weight: bold;\">Count</th></tr>\n",
       "<tr><td style=\"text-align: left;\">WARNING</td><td style=\"text-align: left;\">REDUNDANT</td><td style=\"text-align: left;\">5</td></tr>\n",
       "</table>\n",
       "<p>A total of 5 issues were fixed and no individual was removed from the cohort.</p>"
      ],
      "text/plain": [
       "<IPython.core.display.HTML object>"
      ]
     },
     "metadata": {},
     "output_type": "display_data"
    }
   ],
   "source": [
    "qc = QcVisualizer(cohort_validator=cvalidator)\n",
    "display(HTML(qc.to_summary_html()))"
   ]
  },
  {
   "cell_type": "code",
   "execution_count": null,
   "metadata": {},
   "outputs": [],
   "source": []
  },
  {
   "cell_type": "code",
   "execution_count": 5,
   "metadata": {},
   "outputs": [
    {
     "data": {
      "text/html": [
       "<table style=\"border: 2px solid black; align: \"left\">\n",
       "<caption>9 phenopackets - PMID:8825048 (n=2); PMID:29196670 (n=7)</caption>\n",
       "<tr><th style=\"text-align: left;font-weight: bold;\">Individual</th><th style=\"text-align: left;font-weight: bold;\">Disease</th><th style=\"text-align: left;font-weight: bold;\">Genotype</th><th style=\"text-align: left;font-weight: bold;\">Phenotypic features</th></tr>\n",
       "<tr><td style=\"text-align: left;\">index case (MALE; P3M)</td><td style=\"text-align: left;\">Tuberous sclerosis-2 (OMIM:613254)</td><td style=\"text-align: left;\">NM_000548.5:c.34A>T (heterozygous)</td><td style=\"text-align: left;\"><b>P1M</b>: Hypomelanotic macule (HP:0009719)<br/>Cardiac rhabdomyoma (HP:0009729); Bradycardia (HP:0001662)</td></tr>\n",
       "<tr><td style=\"text-align: left;\">father (MALE; P30Y)</td><td style=\"text-align: left;\">Tuberous sclerosis-2 (OMIM:613254)</td><td style=\"text-align: left;\">NM_000548.5:c.34A>T (heterozygous)</td><td style=\"text-align: left;\"><b>P30Y</b>: Dental enamel pits (HP:0009722); Gingival fibromatosis (HP:0000169)<br/>excluded: Hypomelanotic macule (HP:0009719); excluded: Cardiac rhabdomyoma (HP:0009729); excluded: Bradycardia (HP:0001662)</td></tr>\n",
       "<tr><td style=\"text-align: left;\">Patient 1 (FEMALE; n/a)</td><td style=\"text-align: left;\">Tuberous sclerosis-2 (OMIM:613254)</td><td style=\"text-align: left;\">NM_000548.5:c.826del (heterozygous)</td><td style=\"text-align: left;\">Subependymal nodules (HP:0009716); Autism (HP:0000717); Infantile spasms (HP:0012469); Retinal hamartoma (HP:0009594); Angiofibromas (HP:0010615); Intellectual disability (HP:0001249); Hypomelanotic macule (HP:0009719); Renal angiomyolipoma (HP:0006772); excluded: Pulmonary lymphangiomyomatosis (HP:0012798); excluded: Cortical tubers (HP:0009717); excluded: Shagreen patch (HP:0009721)</td></tr>\n",
       "<tr><td style=\"text-align: left;\">Patient 2 (MALE; n/a)</td><td style=\"text-align: left;\">Tuberous sclerosis-2 (OMIM:613254)</td><td style=\"text-align: left;\">NM_000548.5:c.2206_2210dup (heterozygous)</td><td style=\"text-align: left;\">Subependymal nodules (HP:0009716); Autism (HP:0000717); Infantile spasms (HP:0012469); Retinal hamartoma (HP:0009594); Angiofibromas (HP:0010615); Cortical tubers (HP:0009717); Intellectual disability (HP:0001249); Hypomelanotic macule (HP:0009719); Shagreen patch (HP:0009721); Renal angiomyolipoma (HP:0006772); excluded: Pulmonary lymphangiomyomatosis (HP:0012798)</td></tr>\n",
       "<tr><td style=\"text-align: left;\">Patient 5 (FEMALE; n/a)</td><td style=\"text-align: left;\">Tuberous sclerosis-2 (OMIM:613254)</td><td style=\"text-align: left;\">NM_000548.5:c.4942A>T (heterozygous)</td><td style=\"text-align: left;\">Subependymal nodules (HP:0009716); Autism (HP:0000717); Pulmonary lymphangiomyomatosis (HP:0012798); Infantile spasms (HP:0012469); Retinal hamartoma (HP:0009594); Angiofibromas (HP:0010615); Cortical tubers (HP:0009717); Intellectual disability (HP:0001249); Renal angiomyolipoma (HP:0006772); excluded: Hypomelanotic macule (HP:0009719); excluded: Shagreen patch (HP:0009721)</td></tr>\n",
       "<tr><td style=\"text-align: left;\">Patient 8 (FEMALE; n/a)</td><td style=\"text-align: left;\">Tuberous sclerosis-2 (OMIM:613254)</td><td style=\"text-align: left;\">NM_000548.5:c.2221-2A>G (heterozygous)</td><td style=\"text-align: left;\">Subependymal nodules (HP:0009716); Autism (HP:0000717); Infantile spasms (HP:0012469); Angiofibromas (HP:0010615); Cortical tubers (HP:0009717); Intellectual disability (HP:0001249); Hypomelanotic macule (HP:0009719); excluded: Pulmonary lymphangiomyomatosis (HP:0012798); excluded: Retinal hamartoma (HP:0009594); excluded: Shagreen patch (HP:0009721); excluded: Renal angiomyolipoma (HP:0006772)</td></tr>\n",
       "<tr><td style=\"text-align: left;\">Patient 9 (MALE; n/a)</td><td style=\"text-align: left;\">Tuberous sclerosis-2 (OMIM:613254)</td><td style=\"text-align: left;\">NM_000548.5:c.2713C>T (heterozygous)</td><td style=\"text-align: left;\">Subependymal nodules (HP:0009716); Autism (HP:0000717); Infantile spasms (HP:0012469); Intellectual disability (HP:0001249); Shagreen patch (HP:0009721); excluded: Pulmonary lymphangiomyomatosis (HP:0012798); excluded: Retinal hamartoma (HP:0009594); excluded: Angiofibromas (HP:0010615); excluded: Cortical tubers (HP:0009717); excluded: Hypomelanotic macule (HP:0009719); excluded: Renal angiomyolipoma (HP:0006772)</td></tr>\n",
       "<tr><td style=\"text-align: left;\">Patient 11 (FEMALE; n/a)</td><td style=\"text-align: left;\">Tuberous sclerosis-2 (OMIM:613254)</td><td style=\"text-align: left;\">NM_000548.5:c.5160+5G>T (heterozygous)</td><td style=\"text-align: left;\">Subependymal nodules (HP:0009716); Seizure (HP:0001250); Cortical tubers (HP:0009717); Hypomelanotic macule (HP:0009719); excluded: Pulmonary lymphangiomyomatosis (HP:0012798); excluded: Retinal hamartoma (HP:0009594); excluded: Angiofibromas (HP:0010615); excluded: Shagreen patch (HP:0009721); excluded: Renal angiomyolipoma (HP:0006772)</td></tr>\n",
       "<tr><td style=\"text-align: left;\">Patient 19 (MALE; n/a)</td><td style=\"text-align: left;\">Tuberous sclerosis-2 (OMIM:613254)</td><td style=\"text-align: left;\">NM_000548.5:c.648+1G>T (heterozygous)</td><td style=\"text-align: left;\">Seizure (HP:0001250); Cortical tubers (HP:0009717); Hypomelanotic macule (HP:0009719); excluded: Subependymal nodules (HP:0009716); excluded: Pulmonary lymphangiomyomatosis (HP:0012798); excluded: Infantile spasms (HP:0012469); excluded: Retinal hamartoma (HP:0009594); excluded: Angiofibromas (HP:0010615); excluded: Intellectual disability (HP:0001249); excluded: Shagreen patch (HP:0009721); excluded: Renal angiomyolipoma (HP:0006772)</td></tr>\n",
       "</table>"
      ],
      "text/plain": [
       "<IPython.core.display.HTML object>"
      ]
     },
     "metadata": {},
     "output_type": "display_data"
    }
   ],
   "source": [
    "table = IndividualTable(cvalidator.get_error_free_individual_list())\n",
    "display(HTML(table.to_html()))"
   ]
  },
  {
   "cell_type": "code",
   "execution_count": 6,
   "metadata": {},
   "outputs": [
    {
     "name": "stdout",
     "output_type": "stream",
     "text": [
      "[pyphetools] Ingested 9 GA4GH phenopackets.\n",
      "[INFO] Extracted 9 from 9 phenopackets with OMIM:613254\n",
      "\n",
      "\tTuberous sclerosis-2 (OMIM:613254): n=9\n",
      "We found a total of 16 unique HPO terms\n",
      "Extracted disease: Tuberous sclerosis-2 (OMIM:613254)\n",
      "Wrote HPOA disease file to OMIM-613254.tab\n"
     ]
    }
   ],
   "source": [
    "pmid = \"PMID:8825048\"\n",
    "df = timporter.create_hpoa_from_phenopackets(pmid=pmid, moi=\"Autosomal dominant\", target=\"OMIM:613254\")"
   ]
  }
 ],
 "metadata": {
  "kernelspec": {
   "display_name": "ps24venv",
   "language": "python",
   "name": "python3"
  },
  "language_info": {
   "codemirror_mode": {
    "name": "ipython",
    "version": 3
   },
   "file_extension": ".py",
   "mimetype": "text/x-python",
   "name": "python",
   "nbconvert_exporter": "python",
   "pygments_lexer": "ipython3",
   "version": "3.9.6"
  }
 },
 "nbformat": 4,
 "nbformat_minor": 2
}
