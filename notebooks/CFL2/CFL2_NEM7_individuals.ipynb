{
 "cells": [
  {
   "cell_type": "markdown",
   "metadata": {},
   "source": [
    "# CFL2\n",
    "[nemaline myopathy-7 (NEM7)](https://omim.org/entry/610687) is caused by homozygous mutation in the CFL2 gene."
   ]
  },
  {
   "cell_type": "code",
   "execution_count": 3,
   "metadata": {},
   "outputs": [
    {
     "name": "stdout",
     "output_type": "stream",
     "text": [
      "Using pyphetools version 0.9.91\n"
     ]
    }
   ],
   "source": [
    "from pyphetools.creation import TemplateImporter\n",
    "from pyphetools.visualization import IndividualTable, QcVisualizer\n",
    "from IPython.display import display, HTML\n",
    "import pyphetools\n",
    "print(f\"Using pyphetools version {pyphetools.__version__}\")"
   ]
  },
  {
   "cell_type": "code",
   "execution_count": 4,
   "metadata": {},
   "outputs": [],
   "source": [
    "template = \"input/CFL2_NEM7_individuals.xlsx\"\n",
    "created_by = \"0000-0002-0736-9199\""
   ]
  },
  {
   "cell_type": "code",
   "execution_count": 5,
   "metadata": {},
   "outputs": [
    {
     "name": "stdout",
     "output_type": "stream",
     "text": [
      "HPO version 2024-04-26\n",
      "Created encoders for 44 fields\n",
      "Importing OMIM:610687, Nemaline myopathy 7, autosomal recessive, HGNC:1875, CFL2,  NM_138638.5\n",
      "[INFO] encoding variant \"c.19G>A\"\n",
      "https://rest.variantvalidator.org/VariantValidator/variantvalidator/hg38/NM_138638.5%3Ac.19G>A/NM_138638.5?content-type=application%2Fjson\n",
      "We output 2 GA4GH phenopackets to the directory phenopackets\n"
     ]
    }
   ],
   "source": [
    "timporter = TemplateImporter(template=template,  created_by=created_by)\n",
    "individual_list, cvalidator = timporter.import_phenopackets_from_template()"
   ]
  },
  {
   "cell_type": "code",
   "execution_count": 6,
   "metadata": {},
   "outputs": [
    {
     "data": {
      "text/html": [
       "<h2>Cohort validation</h2>\n",
       "<p>No errors found for the cohort with 2 individuals</p>"
      ],
      "text/plain": [
       "<IPython.core.display.HTML object>"
      ]
     },
     "metadata": {},
     "output_type": "display_data"
    }
   ],
   "source": [
    "qc = QcVisualizer(cohort_validator=cvalidator)\n",
    "display(HTML(qc.to_summary_html()))"
   ]
  },
  {
   "cell_type": "code",
   "execution_count": 7,
   "metadata": {},
   "outputs": [
    {
     "data": {
      "text/html": [
       "<table style=\"border: 2px solid black; align: \"left\">\n",
       "<caption>2 phenopackets - PMID:22560515 (n=2)</caption>\n",
       "<tr><th style=\"text-align: left;font-weight: bold;\">Individual</th><th style=\"text-align: left;font-weight: bold;\">Disease</th><th style=\"text-align: left;font-weight: bold;\">Genotype</th><th style=\"text-align: left;font-weight: bold;\">Phenotypic features</th></tr>\n",
       "<tr><td style=\"text-align: left;\">Patient 1 (FEMALE; P21Y)</td><td style=\"text-align: left;\">Nemaline myopathy 7, autosomal recessive (OMIM:610687)</td><td style=\"text-align: left;\">NM_138638.5:c.19G>A (homozygous)</td><td style=\"text-align: left;\"><b>P13Y</b>: Kyphoscoliosis (HP:0002751); Neck muscle weakness (HP:0000467); Centrally nucleated skeletal muscle fibers (HP:0003687); Type 1 muscle fiber predominance (HP:0003803); Increased variability in muscle fiber diameter (HP:0003557); Increased endomysial connective tissue (HP:0100297)<br/><b>P15Y</b>: Abnormally low-pitched voice (HP:0010300); Weakness of facial musculature (HP:0030319); Shoulder girdle muscle weakness (HP:0003547); Gowers sign (HP:0003391); Upper limb muscle weakness (HP:0003484); Lower limb muscle weakness (HP:0007340); Knee contracture (HP:0034671); High palate (HP:0000218); Fatty replacement of skeletal muscle (HP:0012548)<br/><b>P21Y</b>: Respiratory insufficiency due to muscle weakness (HP:0002747)<br/>Delayed ability to walk (HP:0031936); excluded: Pes planus (HP:0001763); excluded: Nemaline bodies (HP:0003798); excluded: Waddling gait (HP:0002515); excluded: Elevated circulating creatine kinase concentration (HP:0003236)</td></tr>\n",
       "<tr><td style=\"text-align: left;\">Patient 2 (FEMALE; P5Y)</td><td style=\"text-align: left;\">Nemaline myopathy 7, autosomal recessive (OMIM:610687)</td><td style=\"text-align: left;\">NM_138638.5:c.19G>A (homozygous)</td><td style=\"text-align: left;\"><b>P2Y7M</b>: Motor delay (HP:0001270); Gowers sign (HP:0003391); Pes planus (HP:0001763); Waddling gait (HP:0002515)<br/><b>P3Y3M</b>: Centrally nucleated skeletal muscle fibers (HP:0003687); Z-band streaming (HP:0020203); Type 1 muscle fiber predominance (HP:0003803); Increased variability in muscle fiber diameter (HP:0003557); Nemaline bodies (HP:0003798)<br/><b>P5Y</b>: Neck muscle weakness (HP:0000467); Shoulder girdle muscle weakness (HP:0003547); Upper limb muscle weakness (HP:0003484); Lower limb muscle weakness (HP:0007340)<br/>excluded: Kyphoscoliosis (HP:0002751); excluded: Abnormally low-pitched voice (HP:0010300); excluded: Weakness of facial musculature (HP:0030319); excluded: Increased endomysial connective tissue (HP:0100297); excluded: Knee contracture (HP:0034671); excluded: Respiratory insufficiency due to muscle weakness (HP:0002747); excluded: High palate (HP:0000218); excluded: Elevated circulating creatine kinase concentration (HP:0003236); excluded: Fatty replacement of skeletal muscle (HP:0012548)</td></tr>\n",
       "</table>"
      ],
      "text/plain": [
       "<IPython.core.display.HTML object>"
      ]
     },
     "metadata": {},
     "output_type": "display_data"
    }
   ],
   "source": [
    "table = IndividualTable(cvalidator.get_error_free_individual_list())\n",
    "display(HTML(table.to_html()))"
   ]
  },
  {
   "cell_type": "code",
   "execution_count": 8,
   "metadata": {},
   "outputs": [
    {
     "name": "stdout",
     "output_type": "stream",
     "text": [
      "[pyphetools] Ingested 2 GA4GH phenopackets.\n",
      "[INFO] Extracted 2 from 2 phenopackets with OMIM:610687\n",
      "\n",
      "\tNemaline myopathy 7, autosomal recessive (OMIM:610687): n=2\n",
      "We found a total of 23 unique HPO terms\n",
      "Extracted disease: Nemaline myopathy 7, autosomal recessive (OMIM:610687)\n",
      "Wrote HPOA disease file to OMIM-610687.tab\n"
     ]
    }
   ],
   "source": [
    "pmid = \"PMID:22560515\"\n",
    "df = timporter.create_hpoa_from_phenopackets(pmid=pmid, moi=\"Autosomal recessive\", target=\"OMIM:610687\")"
   ]
  }
 ],
 "metadata": {
  "kernelspec": {
   "display_name": "ps24venv",
   "language": "python",
   "name": "python3"
  },
  "language_info": {
   "codemirror_mode": {
    "name": "ipython",
    "version": 3
   },
   "file_extension": ".py",
   "mimetype": "text/x-python",
   "name": "python",
   "nbconvert_exporter": "python",
   "pygments_lexer": "ipython3",
   "version": "3.9.6"
  }
 },
 "nbformat": 4,
 "nbformat_minor": 2
}
