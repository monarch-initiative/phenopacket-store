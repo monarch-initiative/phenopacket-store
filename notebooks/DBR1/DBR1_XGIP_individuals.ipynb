{
 "cells": [
  {
   "cell_type": "markdown",
   "id": "8002e33d-5258-4812-9dae-050bbd36b79c",
   "metadata": {},
   "source": [
    "# DBR1 XGIP individuals\n",
    "variants in DBR1 are associated with several diseases including [Xerosis and growth failure with immune and pulmonary dysfunction syndrome](https://omim.org/entry/620510)"
   ]
  },
  {
   "cell_type": "code",
   "execution_count": 1,
   "id": "7588fc00-5dc4-410e-b8ee-dcb657b47650",
   "metadata": {},
   "outputs": [
    {
     "name": "stdout",
     "output_type": "stream",
     "text": [
      "Using pyphetools version 0.9.56\n"
     ]
    }
   ],
   "source": [
    "import pandas as pd\n",
    "from IPython.display import display, HTML\n",
    "pd.set_option('display.max_colwidth', None) # show entire column contents, important!\n",
    "from collections import defaultdict\n",
    "from pyphetools.creation import *\n",
    "from pyphetools.visualization import *\n",
    "from pyphetools.validation import *\n",
    "import pyphetools\n",
    "print(f\"Using pyphetools version {pyphetools.__version__}\")"
   ]
  },
  {
   "cell_type": "code",
   "execution_count": 2,
   "id": "dab60de5-54bd-4160-94d8-c96e9c68cbaa",
   "metadata": {},
   "outputs": [
    {
     "name": "stdout",
     "output_type": "stream",
     "text": [
      "HPO version 2024-02-27\n"
     ]
    }
   ],
   "source": [
    "parser = HpoParser(hpo_json_file=\"../hp.json\")\n",
    "hpo_cr = parser.get_hpo_concept_recognizer()\n",
    "hpo_version = parser.get_version()\n",
    "hpo_ontology = parser.get_ontology()\n",
    "created_by=\"ORCID:0000-0002-0736-9199\"\n",
    "print(f\"HPO version {hpo_version}\")"
   ]
  },
  {
   "cell_type": "code",
   "execution_count": 3,
   "id": "0f930d6b-7ab5-4558-9c66-3ca660bc9eeb",
   "metadata": {},
   "outputs": [
    {
     "data": {
      "text/html": [
       "<div>\n",
       "<style scoped>\n",
       "    .dataframe tbody tr th:only-of-type {\n",
       "        vertical-align: middle;\n",
       "    }\n",
       "\n",
       "    .dataframe tbody tr th {\n",
       "        vertical-align: top;\n",
       "    }\n",
       "\n",
       "    .dataframe thead th {\n",
       "        text-align: right;\n",
       "    }\n",
       "</style>\n",
       "<table border=\"1\" class=\"dataframe\">\n",
       "  <thead>\n",
       "    <tr style=\"text-align: right;\">\n",
       "      <th></th>\n",
       "      <th>PMID</th>\n",
       "      <th>title</th>\n",
       "      <th>individual_id</th>\n",
       "      <th>comment</th>\n",
       "      <th>disease_id</th>\n",
       "      <th>disease_label</th>\n",
       "      <th>transcript</th>\n",
       "      <th>allele_1</th>\n",
       "      <th>allele_2</th>\n",
       "      <th>variant.comment</th>\n",
       "      <th>...</th>\n",
       "      <th>Retrognathia</th>\n",
       "      <th>Long philtrum</th>\n",
       "      <th>Shallow orbits</th>\n",
       "      <th>Microtia</th>\n",
       "      <th>Anterior polar cataract</th>\n",
       "      <th>Atrial septal defect</th>\n",
       "      <th>Left-to-right shunt</th>\n",
       "      <th>Left ventricular hypertrophy</th>\n",
       "      <th>Reduced bone mineral density</th>\n",
       "      <th>Dilatation of the renal pelvis</th>\n",
       "    </tr>\n",
       "  </thead>\n",
       "  <tbody>\n",
       "    <tr>\n",
       "      <th>0</th>\n",
       "      <td>str</td>\n",
       "      <td>str</td>\n",
       "      <td>str</td>\n",
       "      <td>optional str</td>\n",
       "      <td>str</td>\n",
       "      <td>str</td>\n",
       "      <td>str</td>\n",
       "      <td>str</td>\n",
       "      <td>str</td>\n",
       "      <td>optional str</td>\n",
       "      <td>...</td>\n",
       "      <td>HP:0000278</td>\n",
       "      <td>HP:0000343</td>\n",
       "      <td>HP:0000586</td>\n",
       "      <td>HP:0008551</td>\n",
       "      <td>HP:0001134</td>\n",
       "      <td>HP:0001631</td>\n",
       "      <td>HP:0012382</td>\n",
       "      <td>HP:0001712</td>\n",
       "      <td>HP:0004349</td>\n",
       "      <td>HP:0010946</td>\n",
       "    </tr>\n",
       "    <tr>\n",
       "      <th>1</th>\n",
       "      <td>PMID:37656279</td>\n",
       "      <td>A founder DBR1 variant causes a lethal form of congenital ichthyosis</td>\n",
       "      <td>Pedigree A II:3</td>\n",
       "      <td>NaN</td>\n",
       "      <td>OMIM:620510</td>\n",
       "      <td>Xerosis and growth failure with immune and pulmonary dysfunction syndrome</td>\n",
       "      <td>NM_016216.4</td>\n",
       "      <td>c.200A&gt;G</td>\n",
       "      <td>c.200A&gt;G</td>\n",
       "      <td>p.(Tyr67Cys)</td>\n",
       "      <td>...</td>\n",
       "      <td>excluded</td>\n",
       "      <td>excluded</td>\n",
       "      <td>excluded</td>\n",
       "      <td>excluded</td>\n",
       "      <td>excluded</td>\n",
       "      <td>observed</td>\n",
       "      <td>observed</td>\n",
       "      <td>excluded</td>\n",
       "      <td>observed</td>\n",
       "      <td>observed</td>\n",
       "    </tr>\n",
       "  </tbody>\n",
       "</table>\n",
       "<p>2 rows × 42 columns</p>\n",
       "</div>"
      ],
      "text/plain": [
       "            PMID  \\\n",
       "0            str   \n",
       "1  PMID:37656279   \n",
       "\n",
       "                                                                  title  \\\n",
       "0                                                                   str   \n",
       "1  A founder DBR1 variant causes a lethal form of congenital ichthyosis   \n",
       "\n",
       "     individual_id       comment   disease_id  \\\n",
       "0              str  optional str          str   \n",
       "1  Pedigree A II:3           NaN  OMIM:620510   \n",
       "\n",
       "                                                               disease_label  \\\n",
       "0                                                                        str   \n",
       "1  Xerosis and growth failure with immune and pulmonary dysfunction syndrome   \n",
       "\n",
       "    transcript  allele_1  allele_2 variant.comment  ... Retrognathia  \\\n",
       "0          str       str       str    optional str  ...   HP:0000278   \n",
       "1  NM_016216.4  c.200A>G  c.200A>G    p.(Tyr67Cys)  ...     excluded   \n",
       "\n",
       "  Long philtrum Shallow orbits    Microtia Anterior polar cataract  \\\n",
       "0    HP:0000343     HP:0000586  HP:0008551              HP:0001134   \n",
       "1      excluded       excluded    excluded                excluded   \n",
       "\n",
       "  Atrial septal defect Left-to-right shunt Left ventricular hypertrophy  \\\n",
       "0           HP:0001631          HP:0012382                   HP:0001712   \n",
       "1             observed            observed                     excluded   \n",
       "\n",
       "  Reduced bone mineral density Dilatation of the renal pelvis  \n",
       "0                   HP:0004349                     HP:0010946  \n",
       "1                     observed                       observed  \n",
       "\n",
       "[2 rows x 42 columns]"
      ]
     },
     "execution_count": 3,
     "metadata": {},
     "output_type": "execute_result"
    }
   ],
   "source": [
    "df = pd.read_excel(\"input/DBR1_XGIP_individuals.xlsx\")\n",
    "df.head(2)"
   ]
  },
  {
   "cell_type": "code",
   "execution_count": 4,
   "id": "63bd5d99-ff52-440b-8d0b-1f1e3666ccef",
   "metadata": {},
   "outputs": [
    {
     "name": "stdout",
     "output_type": "stream",
     "text": [
      "Created encoders for 42 fields\n"
     ]
    }
   ],
   "source": [
    "encoder = CaseTemplateEncoder(df=df, hpo_cr=hpo_cr, created_by=created_by)\n",
    "individuals = encoder.get_individuals()"
   ]
  },
  {
   "cell_type": "code",
   "execution_count": 5,
   "id": "8b20e607-ddff-4472-897c-8186981e2fe5",
   "metadata": {},
   "outputs": [],
   "source": [
    "DBR1_transcript = \"NM_016216.4\" \n",
    "vmanager = VariantManager(df=df,\n",
    "                          individual_column_name=\"individual_id\",\n",
    "                          gene_symbol=\"DBR1\",\n",
    "                          transcript=DBR1_transcript,\n",
    "                          allele_1_column_name=\"allele_1\",\n",
    "                          allele_2_column_name=\"allele_2\")"
   ]
  },
  {
   "cell_type": "code",
   "execution_count": 6,
   "id": "ad07f19f-07a2-4485-9d1c-9eef7a546eea",
   "metadata": {},
   "outputs": [
    {
     "data": {
      "text/html": [
       "<div>\n",
       "<style scoped>\n",
       "    .dataframe tbody tr th:only-of-type {\n",
       "        vertical-align: middle;\n",
       "    }\n",
       "\n",
       "    .dataframe tbody tr th {\n",
       "        vertical-align: top;\n",
       "    }\n",
       "\n",
       "    .dataframe thead th {\n",
       "        text-align: right;\n",
       "    }\n",
       "</style>\n",
       "<table border=\"1\" class=\"dataframe\">\n",
       "  <thead>\n",
       "    <tr style=\"text-align: right;\">\n",
       "      <th></th>\n",
       "      <th>status</th>\n",
       "      <th>count</th>\n",
       "      <th>alleles</th>\n",
       "    </tr>\n",
       "  </thead>\n",
       "  <tbody>\n",
       "    <tr>\n",
       "      <th>0</th>\n",
       "      <td>mapped</td>\n",
       "      <td>1</td>\n",
       "      <td>c.200A&gt;G</td>\n",
       "    </tr>\n",
       "    <tr>\n",
       "      <th>1</th>\n",
       "      <td>unmapped</td>\n",
       "      <td>0</td>\n",
       "      <td></td>\n",
       "    </tr>\n",
       "  </tbody>\n",
       "</table>\n",
       "</div>"
      ],
      "text/plain": [
       "     status  count   alleles\n",
       "0    mapped      1  c.200A>G\n",
       "1  unmapped      0          "
      ]
     },
     "execution_count": 6,
     "metadata": {},
     "output_type": "execute_result"
    }
   ],
   "source": [
    "vmanager.to_summary()"
   ]
  },
  {
   "cell_type": "code",
   "execution_count": 7,
   "id": "27e273c0-ebd7-4699-a5ad-565a01f8620a",
   "metadata": {},
   "outputs": [],
   "source": [
    "vmanager.add_variants_to_individuals(individuals)"
   ]
  },
  {
   "cell_type": "code",
   "execution_count": 8,
   "id": "2f6f7b9b-d760-4944-b529-cc6b36bce01a",
   "metadata": {},
   "outputs": [
    {
     "data": {
      "text/html": [
       "<h2>Cohort validation</h2>\n",
       "<p>Errors found with 4 of 4 phenopackets.</p>\n",
       "<table style=\"border: 2px solid black; align: \"left\">\n",
       "<caption>Error counts</caption>\n",
       "<tr><th style=\"text-align: left;font-weight: bold;\">Level</th><th style=\"text-align: left;font-weight: bold;\">Error category</th><th style=\"text-align: left;font-weight: bold;\">Count</th></tr>\n",
       "<tr><td style=\"text-align: left;\">WARNING</td><td style=\"text-align: left;\">REDUNDANT</td><td style=\"text-align: left;\">4</td></tr>\n",
       "</table>\n",
       "<p>A total of 4 issues were fixed and no individual was removed from the cohort.</p>"
      ],
      "text/plain": [
       "<IPython.core.display.HTML object>"
      ]
     },
     "metadata": {},
     "output_type": "display_data"
    }
   ],
   "source": [
    "cvalidator = CohortValidator(cohort=individuals, ontology=hpo_ontology, min_hpo=1,\n",
    "                                allelic_requirement=AllelicRequirement.BI_ALLELIC)\n",
    "qc = QcVisualizer(cohort_validator=cvalidator)\n",
    "display(HTML(qc.to_summary_html()))"
   ]
  },
  {
   "cell_type": "code",
   "execution_count": 9,
   "id": "7055dfc9-a7a1-458e-b48e-b2ac91b81501",
   "metadata": {},
   "outputs": [
    {
     "data": {
      "text/html": [
       "<table style=\"border: 2px solid black; align: \"left\">\n",
       "<caption>4 phenopackets - PMID:37656279 (n=4)</caption>\n",
       "<tr><th style=\"text-align: left;font-weight: bold;\">Individual</th><th style=\"text-align: left;font-weight: bold;\">Disease</th><th style=\"text-align: left;font-weight: bold;\">Genotype</th><th style=\"text-align: left;font-weight: bold;\">Phenotypic features</th></tr>\n",
       "<tr><td style=\"text-align: left;\">Pedigree A II:3 (FEMALE; P5M)</td><td style=\"text-align: left;\">Xerosis and growth failure with immune and pulmonary dysfunction syndrome (OMIM:620510)</td><td style=\"text-align: left;\">NM_016216.4:c.200A>G (homozygous)</td><td style=\"text-align: left;\">Intrauterine growth retardation (HP:0001511); Congenital nonbullous ichthyosiform erythroderma (HP:0007479); Moderate to late preterm birth (HP:0025664); Postnatal growth retardation (HP:0008897); Ectropion (HP:0000656); Eclabion (HP:0012472); Dry skin (HP:0000958); Retinopathy of prematurity (HP:0500049); Feeding difficulties (HP:0011968); Hypoplastic nasal bridge (HP:0005281); Atrial septal defect (HP:0001631); Left-to-right shunt (HP:0012382); Reduced bone mineral density (HP:0004349); Dilatation of the renal pelvis (HP:0010946); excluded: Seizure (HP:0001250); excluded: Encephalopathy (HP:0001298); excluded: Cerebral edema (HP:0002181); excluded: Hypertelorism (HP:0000316); excluded: Downslanted palpebral fissures (HP:0000494); excluded: Retrognathia (HP:0000278); excluded: Long philtrum (HP:0000343); excluded: Shallow orbits (HP:0000586); excluded: Microtia (HP:0008551); excluded: Anterior polar cataract (HP:0001134); excluded: Left ventricular hypertrophy (HP:0001712)</td></tr>\n",
       "<tr><td style=\"text-align: left;\">Pedigree B II:1 (FEMALE; P4M)</td><td style=\"text-align: left;\">Xerosis and growth failure with immune and pulmonary dysfunction syndrome (OMIM:620510)</td><td style=\"text-align: left;\">NM_016216.4:c.200A>G (homozygous)</td><td style=\"text-align: left;\">Seizure (HP:0001250); Moderate to late preterm birth (HP:0025664); Postnatal growth retardation (HP:0008897); Erythema (HP:0010783); Encephalopathy (HP:0001298); Retinopathy of prematurity (HP:0500049); Hyperreflexia (HP:0001347); Hypertelorism (HP:0000316); Downslanted palpebral fissures (HP:0000494); Retrognathia (HP:0000278); Long philtrum (HP:0000343); Atrial septal defect (HP:0001631); Reduced bone mineral density (HP:0004349); excluded: Ectropion (HP:0000656); excluded: Eclabion (HP:0012472); excluded: Congenital nonbullous ichthyosiform erythroderma (HP:0007479); excluded: Hypoplastic nasal bridge (HP:0005281); excluded: Shallow orbits (HP:0000586); excluded: Microtia (HP:0008551); excluded: Anterior polar cataract (HP:0001134); excluded: Left-to-right shunt (HP:0012382); excluded: Left ventricular hypertrophy (HP:0001712); excluded: Dilatation of the renal pelvis (HP:0010946)</td></tr>\n",
       "<tr><td style=\"text-align: left;\">Pedigree C II:4 (MALE; P6M)</td><td style=\"text-align: left;\">Xerosis and growth failure with immune and pulmonary dysfunction syndrome (OMIM:620510)</td><td style=\"text-align: left;\">NM_016216.4:c.200A>G (homozygous)</td><td style=\"text-align: left;\">Congenital nonbullous ichthyosiform erythroderma (HP:0007479); Moderate to late preterm birth (HP:0025664); Postnatal growth retardation (HP:0008897); Ectropion (HP:0000656); Seizure (HP:0001250); Encephalopathy (HP:0001298); Cerebral edema (HP:0002181); Hyperreflexia (HP:0001347); Shallow orbits (HP:0000586); Microtia (HP:0008551); Left ventricular hypertrophy (HP:0001712); excluded: Eclabion (HP:0012472); excluded: Retinopathy of prematurity (HP:0500049); excluded: Hypoplastic nasal bridge (HP:0005281); excluded: Hypertelorism (HP:0000316); excluded: Downslanted palpebral fissures (HP:0000494); excluded: Retrognathia (HP:0000278); excluded: Long philtrum (HP:0000343); excluded: Anterior polar cataract (HP:0001134); excluded: Atrial septal defect (HP:0001631); excluded: Left-to-right shunt (HP:0012382); excluded: Reduced bone mineral density (HP:0004349); excluded: Dilatation of the renal pelvis (HP:0010946)</td></tr>\n",
       "<tr><td style=\"text-align: left;\">Pedigree D II:4 (MALE; P1Y)</td><td style=\"text-align: left;\">Xerosis and growth failure with immune and pulmonary dysfunction syndrome (OMIM:620510)</td><td style=\"text-align: left;\">NM_016216.4:c.200A>G (homozygous)</td><td style=\"text-align: left;\">Congenital nonbullous ichthyosiform erythroderma (HP:0007479); Moderate to late preterm birth (HP:0025664); Postnatal growth retardation (HP:0008897); Ectropion (HP:0000656); Eclabion (HP:0012472); Feeding difficulties (HP:0011968); Long philtrum (HP:0000343); Anterior polar cataract (HP:0001134); Atrial septal defect (HP:0001631); excluded: Seizure (HP:0001250); excluded: Encephalopathy (HP:0001298); excluded: Retinopathy of prematurity (HP:0500049); excluded: Cerebral edema (HP:0002181); excluded: Hyperreflexia (HP:0001347); excluded: Hypoplastic nasal bridge (HP:0005281); excluded: Hypertelorism (HP:0000316); excluded: Downslanted palpebral fissures (HP:0000494); excluded: Retrognathia (HP:0000278); excluded: Shallow orbits (HP:0000586); excluded: Microtia (HP:0008551); excluded: Left-to-right shunt (HP:0012382); excluded: Left ventricular hypertrophy (HP:0001712); excluded: Reduced bone mineral density (HP:0004349); excluded: Dilatation of the renal pelvis (HP:0010946)</td></tr>\n",
       "</table>"
      ],
      "text/plain": [
       "<IPython.core.display.HTML object>"
      ]
     },
     "metadata": {},
     "output_type": "display_data"
    }
   ],
   "source": [
    "individuals = cvalidator.get_error_free_individual_list()\n",
    "table = IndividualTable(individuals)\n",
    "display(HTML(table.to_html()))"
   ]
  },
  {
   "cell_type": "code",
   "execution_count": 10,
   "id": "c12fa69f-a21e-44c3-9591-378a8cb2260e",
   "metadata": {},
   "outputs": [
    {
     "name": "stdout",
     "output_type": "stream",
     "text": [
      "We output 4 GA4GH phenopackets to the directory phenopackets\n"
     ]
    }
   ],
   "source": [
    "encoder.output_individuals_as_phenopackets(individual_list=individuals)"
   ]
  },
  {
   "cell_type": "markdown",
   "id": "53890466-f871-47cb-ac1c-8e983fa6eebb",
   "metadata": {},
   "source": [
    "# HPOA file"
   ]
  },
  {
   "cell_type": "code",
   "execution_count": 11,
   "id": "a2880499-be75-4651-8e48-115180f63b6f",
   "metadata": {},
   "outputs": [
    {
     "name": "stdout",
     "output_type": "stream",
     "text": [
      "[pyphetools] Ingested 4 GA4GH phenopackets.\n"
     ]
    }
   ],
   "source": [
    "ingestor = PhenopacketIngestor(indir=\"phenopackets\")\n",
    "ppkt_d = ingestor.get_phenopacket_dictionary()\n",
    "ppkt_list = list(ppkt_d.values())"
   ]
  },
  {
   "cell_type": "code",
   "execution_count": 12,
   "id": "0caa1bb8-fcd7-4475-9067-0041c6ca8b69",
   "metadata": {},
   "outputs": [
    {
     "name": "stdout",
     "output_type": "stream",
     "text": [
      "We found a total of 27 unique HPO terms\n",
      "Extracted disease: Xerosis and growth failure with immune and pulmonary dysfunction syndrome (OMIM:620510)\n"
     ]
    }
   ],
   "source": [
    "builder = HpoaTableBuilder(phenopacket_list=ppkt_list)\n",
    "PMID = \"PMID:37656279\" # Shamseldin, 2023\n",
    "hpoa_table_creator = builder.autosomal_recessive(PMID).build()"
   ]
  },
  {
   "cell_type": "code",
   "execution_count": 13,
   "id": "370edfe4-16ae-45d6-8c9f-f72395a39e41",
   "metadata": {},
   "outputs": [
    {
     "data": {
      "text/html": [
       "<div>\n",
       "<style scoped>\n",
       "    .dataframe tbody tr th:only-of-type {\n",
       "        vertical-align: middle;\n",
       "    }\n",
       "\n",
       "    .dataframe tbody tr th {\n",
       "        vertical-align: top;\n",
       "    }\n",
       "\n",
       "    .dataframe thead th {\n",
       "        text-align: right;\n",
       "    }\n",
       "</style>\n",
       "<table border=\"1\" class=\"dataframe\">\n",
       "  <thead>\n",
       "    <tr style=\"text-align: right;\">\n",
       "      <th></th>\n",
       "      <th>#diseaseID</th>\n",
       "      <th>diseaseName</th>\n",
       "      <th>phenotypeID</th>\n",
       "      <th>phenotypeName</th>\n",
       "      <th>onsetID</th>\n",
       "      <th>onsetName</th>\n",
       "      <th>frequency</th>\n",
       "      <th>sex</th>\n",
       "      <th>negation</th>\n",
       "      <th>modifier</th>\n",
       "      <th>description</th>\n",
       "      <th>publication</th>\n",
       "      <th>evidence</th>\n",
       "      <th>biocuration</th>\n",
       "    </tr>\n",
       "  </thead>\n",
       "  <tbody>\n",
       "    <tr>\n",
       "      <th>0</th>\n",
       "      <td>OMIM:620510</td>\n",
       "      <td>Xerosis and growth failure with immune and pulmonary dysfunction syndrome</td>\n",
       "      <td>HP:0007479</td>\n",
       "      <td>Congenital nonbullous ichthyosiform erythroderma</td>\n",
       "      <td></td>\n",
       "      <td></td>\n",
       "      <td>3/4</td>\n",
       "      <td></td>\n",
       "      <td></td>\n",
       "      <td></td>\n",
       "      <td></td>\n",
       "      <td>PMID:37656279</td>\n",
       "      <td>PCS</td>\n",
       "      <td>ORCID:0000-0002-0736-9199</td>\n",
       "    </tr>\n",
       "    <tr>\n",
       "      <th>1</th>\n",
       "      <td>OMIM:620510</td>\n",
       "      <td>Xerosis and growth failure with immune and pulmonary dysfunction syndrome</td>\n",
       "      <td>HP:0025664</td>\n",
       "      <td>Moderate to late preterm birth</td>\n",
       "      <td></td>\n",
       "      <td></td>\n",
       "      <td>4/4</td>\n",
       "      <td></td>\n",
       "      <td></td>\n",
       "      <td></td>\n",
       "      <td></td>\n",
       "      <td>PMID:37656279</td>\n",
       "      <td>PCS</td>\n",
       "      <td>ORCID:0000-0002-0736-9199</td>\n",
       "    </tr>\n",
       "    <tr>\n",
       "      <th>2</th>\n",
       "      <td>OMIM:620510</td>\n",
       "      <td>Xerosis and growth failure with immune and pulmonary dysfunction syndrome</td>\n",
       "      <td>HP:0008897</td>\n",
       "      <td>Postnatal growth retardation</td>\n",
       "      <td></td>\n",
       "      <td></td>\n",
       "      <td>4/4</td>\n",
       "      <td></td>\n",
       "      <td></td>\n",
       "      <td></td>\n",
       "      <td></td>\n",
       "      <td>PMID:37656279</td>\n",
       "      <td>PCS</td>\n",
       "      <td>ORCID:0000-0002-0736-9199</td>\n",
       "    </tr>\n",
       "    <tr>\n",
       "      <th>3</th>\n",
       "      <td>OMIM:620510</td>\n",
       "      <td>Xerosis and growth failure with immune and pulmonary dysfunction syndrome</td>\n",
       "      <td>HP:0000656</td>\n",
       "      <td>Ectropion</td>\n",
       "      <td></td>\n",
       "      <td></td>\n",
       "      <td>3/4</td>\n",
       "      <td></td>\n",
       "      <td></td>\n",
       "      <td></td>\n",
       "      <td></td>\n",
       "      <td>PMID:37656279</td>\n",
       "      <td>PCS</td>\n",
       "      <td>ORCID:0000-0002-0736-9199</td>\n",
       "    </tr>\n",
       "    <tr>\n",
       "      <th>4</th>\n",
       "      <td>OMIM:620510</td>\n",
       "      <td>Xerosis and growth failure with immune and pulmonary dysfunction syndrome</td>\n",
       "      <td>HP:0001250</td>\n",
       "      <td>Seizure</td>\n",
       "      <td></td>\n",
       "      <td></td>\n",
       "      <td>2/4</td>\n",
       "      <td></td>\n",
       "      <td></td>\n",
       "      <td></td>\n",
       "      <td></td>\n",
       "      <td>PMID:37656279</td>\n",
       "      <td>PCS</td>\n",
       "      <td>ORCID:0000-0002-0736-9199</td>\n",
       "    </tr>\n",
       "    <tr>\n",
       "      <th>5</th>\n",
       "      <td>OMIM:620510</td>\n",
       "      <td>Xerosis and growth failure with immune and pulmonary dysfunction syndrome</td>\n",
       "      <td>HP:0001298</td>\n",
       "      <td>Encephalopathy</td>\n",
       "      <td></td>\n",
       "      <td></td>\n",
       "      <td>2/4</td>\n",
       "      <td></td>\n",
       "      <td></td>\n",
       "      <td></td>\n",
       "      <td></td>\n",
       "      <td>PMID:37656279</td>\n",
       "      <td>PCS</td>\n",
       "      <td>ORCID:0000-0002-0736-9199</td>\n",
       "    </tr>\n",
       "    <tr>\n",
       "      <th>6</th>\n",
       "      <td>OMIM:620510</td>\n",
       "      <td>Xerosis and growth failure with immune and pulmonary dysfunction syndrome</td>\n",
       "      <td>HP:0002181</td>\n",
       "      <td>Cerebral edema</td>\n",
       "      <td></td>\n",
       "      <td></td>\n",
       "      <td>1/3</td>\n",
       "      <td></td>\n",
       "      <td></td>\n",
       "      <td></td>\n",
       "      <td></td>\n",
       "      <td>PMID:37656279</td>\n",
       "      <td>PCS</td>\n",
       "      <td>ORCID:0000-0002-0736-9199</td>\n",
       "    </tr>\n",
       "    <tr>\n",
       "      <th>7</th>\n",
       "      <td>OMIM:620510</td>\n",
       "      <td>Xerosis and growth failure with immune and pulmonary dysfunction syndrome</td>\n",
       "      <td>HP:0001347</td>\n",
       "      <td>Hyperreflexia</td>\n",
       "      <td></td>\n",
       "      <td></td>\n",
       "      <td>2/3</td>\n",
       "      <td></td>\n",
       "      <td></td>\n",
       "      <td></td>\n",
       "      <td></td>\n",
       "      <td>PMID:37656279</td>\n",
       "      <td>PCS</td>\n",
       "      <td>ORCID:0000-0002-0736-9199</td>\n",
       "    </tr>\n",
       "    <tr>\n",
       "      <th>8</th>\n",
       "      <td>OMIM:620510</td>\n",
       "      <td>Xerosis and growth failure with immune and pulmonary dysfunction syndrome</td>\n",
       "      <td>HP:0000586</td>\n",
       "      <td>Shallow orbits</td>\n",
       "      <td></td>\n",
       "      <td></td>\n",
       "      <td>1/4</td>\n",
       "      <td></td>\n",
       "      <td></td>\n",
       "      <td></td>\n",
       "      <td></td>\n",
       "      <td>PMID:37656279</td>\n",
       "      <td>PCS</td>\n",
       "      <td>ORCID:0000-0002-0736-9199</td>\n",
       "    </tr>\n",
       "    <tr>\n",
       "      <th>9</th>\n",
       "      <td>OMIM:620510</td>\n",
       "      <td>Xerosis and growth failure with immune and pulmonary dysfunction syndrome</td>\n",
       "      <td>HP:0008551</td>\n",
       "      <td>Microtia</td>\n",
       "      <td></td>\n",
       "      <td></td>\n",
       "      <td>1/4</td>\n",
       "      <td></td>\n",
       "      <td></td>\n",
       "      <td></td>\n",
       "      <td></td>\n",
       "      <td>PMID:37656279</td>\n",
       "      <td>PCS</td>\n",
       "      <td>ORCID:0000-0002-0736-9199</td>\n",
       "    </tr>\n",
       "  </tbody>\n",
       "</table>\n",
       "</div>"
      ],
      "text/plain": [
       "    #diseaseID  \\\n",
       "0  OMIM:620510   \n",
       "1  OMIM:620510   \n",
       "2  OMIM:620510   \n",
       "3  OMIM:620510   \n",
       "4  OMIM:620510   \n",
       "5  OMIM:620510   \n",
       "6  OMIM:620510   \n",
       "7  OMIM:620510   \n",
       "8  OMIM:620510   \n",
       "9  OMIM:620510   \n",
       "\n",
       "                                                                 diseaseName  \\\n",
       "0  Xerosis and growth failure with immune and pulmonary dysfunction syndrome   \n",
       "1  Xerosis and growth failure with immune and pulmonary dysfunction syndrome   \n",
       "2  Xerosis and growth failure with immune and pulmonary dysfunction syndrome   \n",
       "3  Xerosis and growth failure with immune and pulmonary dysfunction syndrome   \n",
       "4  Xerosis and growth failure with immune and pulmonary dysfunction syndrome   \n",
       "5  Xerosis and growth failure with immune and pulmonary dysfunction syndrome   \n",
       "6  Xerosis and growth failure with immune and pulmonary dysfunction syndrome   \n",
       "7  Xerosis and growth failure with immune and pulmonary dysfunction syndrome   \n",
       "8  Xerosis and growth failure with immune and pulmonary dysfunction syndrome   \n",
       "9  Xerosis and growth failure with immune and pulmonary dysfunction syndrome   \n",
       "\n",
       "  phenotypeID                                     phenotypeName onsetID  \\\n",
       "0  HP:0007479  Congenital nonbullous ichthyosiform erythroderma           \n",
       "1  HP:0025664                    Moderate to late preterm birth           \n",
       "2  HP:0008897                      Postnatal growth retardation           \n",
       "3  HP:0000656                                         Ectropion           \n",
       "4  HP:0001250                                           Seizure           \n",
       "5  HP:0001298                                    Encephalopathy           \n",
       "6  HP:0002181                                    Cerebral edema           \n",
       "7  HP:0001347                                     Hyperreflexia           \n",
       "8  HP:0000586                                    Shallow orbits           \n",
       "9  HP:0008551                                          Microtia           \n",
       "\n",
       "  onsetName frequency sex negation modifier description    publication  \\\n",
       "0                 3/4                                    PMID:37656279   \n",
       "1                 4/4                                    PMID:37656279   \n",
       "2                 4/4                                    PMID:37656279   \n",
       "3                 3/4                                    PMID:37656279   \n",
       "4                 2/4                                    PMID:37656279   \n",
       "5                 2/4                                    PMID:37656279   \n",
       "6                 1/3                                    PMID:37656279   \n",
       "7                 2/3                                    PMID:37656279   \n",
       "8                 1/4                                    PMID:37656279   \n",
       "9                 1/4                                    PMID:37656279   \n",
       "\n",
       "  evidence                biocuration  \n",
       "0      PCS  ORCID:0000-0002-0736-9199  \n",
       "1      PCS  ORCID:0000-0002-0736-9199  \n",
       "2      PCS  ORCID:0000-0002-0736-9199  \n",
       "3      PCS  ORCID:0000-0002-0736-9199  \n",
       "4      PCS  ORCID:0000-0002-0736-9199  \n",
       "5      PCS  ORCID:0000-0002-0736-9199  \n",
       "6      PCS  ORCID:0000-0002-0736-9199  \n",
       "7      PCS  ORCID:0000-0002-0736-9199  \n",
       "8      PCS  ORCID:0000-0002-0736-9199  \n",
       "9      PCS  ORCID:0000-0002-0736-9199  "
      ]
     },
     "execution_count": 13,
     "metadata": {},
     "output_type": "execute_result"
    }
   ],
   "source": [
    "df = hpoa_table_creator.get_dataframe()\n",
    "df.head(10)"
   ]
  },
  {
   "cell_type": "code",
   "execution_count": 14,
   "id": "c794cd19-7f9f-4ba0-8f69-787796f8fe11",
   "metadata": {},
   "outputs": [
    {
     "name": "stdout",
     "output_type": "stream",
     "text": [
      "Wrote HPOA disease file to OMIM-620510.tab\n"
     ]
    }
   ],
   "source": [
    "hpoa_table_creator.write_data_frame()"
   ]
  },
  {
   "cell_type": "code",
   "execution_count": null,
   "id": "1ccb9dec-1da9-410a-ac9e-4a32938935bd",
   "metadata": {},
   "outputs": [],
   "source": []
  }
 ],
 "metadata": {
  "kernelspec": {
   "display_name": "Python 3 (ipykernel)",
   "language": "python",
   "name": "python3"
  },
  "language_info": {
   "codemirror_mode": {
    "name": "ipython",
    "version": 3
   },
   "file_extension": ".py",
   "mimetype": "text/x-python",
   "name": "python",
   "nbconvert_exporter": "python",
   "pygments_lexer": "ipython3",
   "version": "3.8.10"
  }
 },
 "nbformat": 4,
 "nbformat_minor": 5
}
