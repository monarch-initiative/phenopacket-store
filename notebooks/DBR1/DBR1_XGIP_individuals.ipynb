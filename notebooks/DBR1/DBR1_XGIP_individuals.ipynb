{
 "cells": [
  {
   "cell_type": "markdown",
   "id": "8002e33d-5258-4812-9dae-050bbd36b79c",
   "metadata": {},
   "source": [
    "# DBR1 XGIP individuals\n",
    "variants in DBR1 are associated with several diseases including [Xerosis and growth failure with immune and pulmonary dysfunction syndrome](https://omim.org/entry/620510)"
   ]
  },
  {
   "cell_type": "code",
   "execution_count": 1,
   "id": "7588fc00-5dc4-410e-b8ee-dcb657b47650",
   "metadata": {},
   "outputs": [
    {
     "name": "stdout",
     "output_type": "stream",
     "text": [
      "Using pyphetools version 0.9.63\n"
     ]
    }
   ],
   "source": [
    "from pyphetools.creation import TemplateImporter\n",
    "from pyphetools.visualization import QcVisualizer\n",
    "from IPython.display import HTML, display\n",
    "import pyphetools\n",
    "print(f\"Using pyphetools version {pyphetools.__version__}\")"
   ]
  },
  {
   "cell_type": "code",
   "execution_count": 2,
   "id": "dab60de5-54bd-4160-94d8-c96e9c68cbaa",
   "metadata": {},
   "outputs": [],
   "source": [
    "hpo_json_file=\"../hp.json\"\n",
    "created_by=\"ORCID:0000-0002-0736-9199\"\n",
    "template = \"input/DBR1_XGIP_individuals.xlsx\"\n",
    "timporter = TemplateImporter(template=template, hp_json=hpo_json_file, created_by=created_by)"
   ]
  },
  {
   "cell_type": "code",
   "execution_count": 3,
   "id": "7055dfc9-a7a1-458e-b48e-b2ac91b81501",
   "metadata": {},
   "outputs": [
    {
     "name": "stdout",
     "output_type": "stream",
     "text": [
      "HPO version 2024-02-27\n",
      "Created encoders for 44 fields\n",
      " we got OMIM:620510  NM_016216.4\n",
      "[INFO] encoding variant \"c.200A>G\"\n",
      "https://rest.variantvalidator.org/VariantValidator/variantvalidator/hg38/NM_016216.4%3Ac.200A>G/NM_016216.4?content-type=application%2Fjson\n",
      "We output 4 GA4GH phenopackets to the directory phenopackets\n"
     ]
    }
   ],
   "source": [
    "individuals, cvalidator = timporter.import_phenopackets_from_template()"
   ]
  },
  {
   "cell_type": "code",
   "execution_count": 4,
   "id": "62f76f9c-f874-4b5c-b6f1-d50652a5e8af",
   "metadata": {},
   "outputs": [
    {
     "data": {
      "text/html": [
       "<h2>Cohort validation</h2>\n",
       "<p>Errors found with 4 of 4 phenopackets.</p>\n",
       "<table style=\"border: 2px solid black; align: \"left\">\n",
       "<caption>Error counts</caption>\n",
       "<tr><th style=\"text-align: left;font-weight: bold;\">Level</th><th style=\"text-align: left;font-weight: bold;\">Error category</th><th style=\"text-align: left;font-weight: bold;\">Count</th></tr>\n",
       "<tr><td style=\"text-align: left;\">WARNING</td><td style=\"text-align: left;\">REDUNDANT</td><td style=\"text-align: left;\">4</td></tr>\n",
       "</table>\n",
       "<p>A total of 4 issues were fixed and no individual was removed from the cohort.</p>"
      ],
      "text/plain": [
       "<IPython.core.display.HTML object>"
      ]
     },
     "metadata": {},
     "output_type": "display_data"
    }
   ],
   "source": [
    "qc = QcVisualizer(cohort_validator=cvalidator)\n",
    "display(HTML(qc.to_summary_html()))"
   ]
  },
  {
   "cell_type": "code",
   "execution_count": 7,
   "id": "c12fa69f-a21e-44c3-9591-378a8cb2260e",
   "metadata": {},
   "outputs": [
    {
     "name": "stdout",
     "output_type": "stream",
     "text": [
      "[pyphetools] Ingested 4 GA4GH phenopackets.\n",
      "\tXerosis and growth failure with immune and pulmonary dysfunction syndrome (OMIM:620510): n=4\n",
      "We found a total of 27 unique HPO terms\n",
      "Extracted disease: Xerosis and growth failure with immune and pulmonary dysfunction syndrome (OMIM:620510)\n",
      "Wrote HPOA disease file to OMIM-620510.tab\n"
     ]
    }
   ],
   "source": [
    "PMID = \"PMID:37656279\" # Shamseldin, 2023\n",
    "ar = \"Autosomal recessive\"\n",
    "df = timporter.create_hpoa_from_phenopackets(pmid=PMID, moi=ar)"
   ]
  }
 ],
 "metadata": {
  "kernelspec": {
   "display_name": "Python 3 (ipykernel)",
   "language": "python",
   "name": "python3"
  },
  "language_info": {
   "codemirror_mode": {
    "name": "ipython",
    "version": 3
   },
   "file_extension": ".py",
   "mimetype": "text/x-python",
   "name": "python",
   "nbconvert_exporter": "python",
   "pygments_lexer": "ipython3",
   "version": "3.8.10"
  }
 },
 "nbformat": 4,
 "nbformat_minor": 5
}
