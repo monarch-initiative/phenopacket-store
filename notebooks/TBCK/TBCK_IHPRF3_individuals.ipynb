{
 "cells": [
  {
   "cell_type": "markdown",
   "metadata": {},
   "source": [
    "# TBCK\n",
    "[infantile hypotonia with psychomotor retardation and characteristic facies-3 (IHPRF3)](https://omim.org/entry/616900) is caused by homozygous or compound heterozygous mutation in the TBCK gene."
   ]
  },
  {
   "cell_type": "code",
   "execution_count": 9,
   "metadata": {},
   "outputs": [
    {
     "name": "stdout",
     "output_type": "stream",
     "text": [
      "Using pyphetools version 0.9.108\n"
     ]
    }
   ],
   "source": [
    "from pyphetools.creation import TemplateImporter, Moi   \n",
    "from pyphetools.visualization import IndividualTable, QcVisualizer\n",
    "from IPython.display import display, HTML\n",
    "import pyphetools\n",
    "print(f\"Using pyphetools version {pyphetools.__version__}\")"
   ]
  },
  {
   "cell_type": "code",
   "execution_count": 10,
   "metadata": {},
   "outputs": [],
   "source": [
    "template = \"input/TBCK_IHPRF3_individuals.xlsx\"\n",
    "created_by = \"0000-0002-0736-9199\""
   ]
  },
  {
   "cell_type": "code",
   "execution_count": 11,
   "metadata": {},
   "outputs": [
    {
     "name": "stdout",
     "output_type": "stream",
     "text": [
      "HPO version 2024-08-13\n",
      "Created encoders for 91 fields\n",
      "Importing OMIM:616900, Hypotonia, infantile, with psychomotor retardation and characteristic facies 3, HGNC:28261, TBCK,  NM_001163435.3\n",
      "[INFO] encoding variant \"c.490C>T\"\n",
      "https://rest.variantvalidator.org/VariantValidator/variantvalidator/hg38/NM_001163435.3%3Ac.490C>T/NM_001163435.3?content-type=application%2Fjson\n",
      "We output 27 GA4GH phenopackets to the directory phenopackets\n"
     ]
    }
   ],
   "source": [
    "del_set = {\"DELc.(658observed1_ 659-1)_ (2059observed1_2060-1del\"}\n",
    "timporter = TemplateImporter(template=template,  created_by=created_by)\n",
    "individual_list, cvalidator = timporter.import_phenopackets_from_template(deletions=del_set)"
   ]
  },
  {
   "cell_type": "code",
   "execution_count": 12,
   "metadata": {},
   "outputs": [
    {
     "data": {
      "text/html": [
       "<h2>Cohort validation</h2>\n",
       "<p>Errors found with 12 of 27 phenopackets.</p>\n",
       "<table style=\"border: 2px solid black; align: \"left\">\n",
       "<caption>Error counts</caption>\n",
       "<tr><th style=\"text-align: left;font-weight: bold;\">Level</th><th style=\"text-align: left;font-weight: bold;\">Error category</th><th style=\"text-align: left;font-weight: bold;\">Count</th></tr>\n",
       "<tr><td style=\"text-align: left;\">WARNING</td><td style=\"text-align: left;\">REDUNDANT</td><td style=\"text-align: left;\">14</td></tr>\n",
       "</table>\n",
       "<p>A total of 14 issues were fixed and no individual was removed from the cohort.</p>"
      ],
      "text/plain": [
       "<IPython.core.display.HTML object>"
      ]
     },
     "metadata": {},
     "output_type": "display_data"
    }
   ],
   "source": [
    "qc = QcVisualizer(cohort_validator=cvalidator)\n",
    "display(HTML(qc.to_summary_html()))"
   ]
  },
  {
   "cell_type": "code",
   "execution_count": 13,
   "metadata": {},
   "outputs": [
    {
     "data": {
      "text/html": [
       "<table style=\"border: 2px solid black; align: \"left\">\n",
       "<caption>27 phenopackets - PMID:27040691 (n=13); PMID:27040692 (n=5); PMID:27275012 (n=3); PMID:30103036 (n=2); PMID:36273129 (n=1); PMID:32363625 (n=2); PMID:37876076 (n=1)</caption>\n",
       "<tr><th style=\"text-align: left;font-weight: bold;\">Individual</th><th style=\"text-align: left;font-weight: bold;\">Disease</th><th style=\"text-align: left;font-weight: bold;\">Genotype</th><th style=\"text-align: left;font-weight: bold;\">Phenotypic features</th></tr>\n",
       "<tr><td style=\"text-align: left;\">Individual 1-1a (MALE; P5Y)</td><td style=\"text-align: left;\">Hypotonia, infantile, with psychomotor retardation and characteristic facies 3 (OMIM:616900)</td><td style=\"text-align: left;\">NM_001163435.3:c.1897+1G>A (homozygous)</td><td style=\"text-align: left;\">Sloping forehead (HP:0000340): onset ; Tented upper lip vermilion (HP:0010804): onset ; Upslanted palpebral fissure (HP:0000582): onset ; Bulbous nose (HP:0000414): onset ; Global brain atrophy (HP:0002283): onset ; Delayed speech and language development (HP:0000750): onset ; Motor delay (HP:0001270): onset ; Global developmental delay (HP:0001263): onset ; Hyporeflexia (HP:0001265): onset ; Seizure (HP:0001250): onset ; Hypotonia (HP:0001252): onset ; Decreased fetal movement (HP:0001558): onset ; Oligohydramnios (HP:0001562): onset ; excluded: Macroglossia (HP:0000158): onset ; excluded: Coarse facial features (HP:0000280): onset ; excluded: 11 pairs of ribs (HP:0000878): onset ; excluded: Long philtrum (HP:0000343): onset ; excluded: Epicanthus (HP:0000286): onset ; excluded: Mandibular prognathia (HP:0000303): onset ; excluded: Long eyelashes (HP:0000527): onset ; excluded: Synophrys (HP:0000664): onset ; excluded: Broad forehead (HP:0000337): onset ; excluded: Wide nasal bridge (HP:0000431): onset ; excluded: Open mouth (HP:0000194): onset ; excluded: Thick vermilion border (HP:0012471): onset ; excluded: Prominent metopic ridge (HP:0005487): onset ; excluded: Hirsutism (HP:0001007): onset ; excluded: Microcephaly (HP:0000252): onset ; excluded: Macrocephaly (HP:0000256): onset ; excluded: Short neck (HP:0000470): onset ; excluded: Corneal opacity (HP:0007957): onset ; excluded: Scoliosis (HP:0002650): onset ; excluded: Hearing impairment (HP:0000365): onset ; excluded: Periventricular leukomalacia (HP:0006970): onset ; excluded: Absent speech (HP:0001344): onset ; excluded: Developmental regression (HP:0002376): onset ; excluded: Deeply set eye (HP:0000490): onset </td></tr>\n",
       "<tr><td style=\"text-align: left;\">Individual 1-2a (FEMALE; P11Y)</td><td style=\"text-align: left;\">Hypotonia, infantile, with psychomotor retardation and characteristic facies 3 (OMIM:616900)</td><td style=\"text-align: left;\">NM_001163435.3:c.1897+1G>A (homozygous)</td><td style=\"text-align: left;\">Sloping forehead (HP:0000340): onset ; Tented upper lip vermilion (HP:0010804): onset ; Bulbous nose (HP:0000414): onset ; Periventricular leukomalacia (HP:0006970): onset ; Absent speech (HP:0001344): onset ; Motor delay (HP:0001270): onset ; Global developmental delay (HP:0001263): onset ; Hyporeflexia (HP:0001265): onset ; Seizure (HP:0001250): onset ; Hypotonia (HP:0001252): onset ; excluded: Macroglossia (HP:0000158): onset ; excluded: Coarse facial features (HP:0000280): onset ; excluded: 11 pairs of ribs (HP:0000878): onset ; excluded: Long philtrum (HP:0000343): onset ; excluded: Upslanted palpebral fissure (HP:0000582): onset ; excluded: Epicanthus (HP:0000286): onset ; excluded: Mandibular prognathia (HP:0000303): onset ; excluded: Long eyelashes (HP:0000527): onset ; excluded: Synophrys (HP:0000664): onset ; excluded: Broad forehead (HP:0000337): onset ; excluded: Wide nasal bridge (HP:0000431): onset ; excluded: Open mouth (HP:0000194): onset ; excluded: Thick vermilion border (HP:0012471): onset ; excluded: Prominent metopic ridge (HP:0005487): onset ; excluded: Hirsutism (HP:0001007): onset ; excluded: Microcephaly (HP:0000252): onset ; excluded: Macrocephaly (HP:0000256): onset ; excluded: Short neck (HP:0000470): onset ; excluded: Corneal opacity (HP:0007957): onset ; excluded: Scoliosis (HP:0002650): onset ; excluded: Hearing impairment (HP:0000365): onset ; excluded: Global brain atrophy (HP:0002283): onset ; excluded: Developmental regression (HP:0002376): onset ; excluded: Deeply set eye (HP:0000490): onset ; excluded: Decreased fetal movement (HP:0001558): onset ; excluded: Oligohydramnios (HP:0001562): onset </td></tr>\n",
       "<tr><td style=\"text-align: left;\">Individual 2-1 (MALE; P5Y)</td><td style=\"text-align: left;\">Hypotonia, infantile, with psychomotor retardation and characteristic facies 3 (OMIM:616900)</td><td style=\"text-align: left;\">NM_001163435.3:c.831_832insTA (homozygous)</td><td style=\"text-align: left;\">Macrocephaly (HP:0000256): onset ; Absent speech (HP:0001344): onset ; Motor delay (HP:0001270): onset ; Global developmental delay (HP:0001263): onset ; Hyporeflexia (HP:0001265): onset ; Seizure (HP:0001250): onset ; Hypotonia (HP:0001252): onset ; excluded: Macroglossia (HP:0000158): onset ; excluded: Coarse facial features (HP:0000280): onset ; excluded: Sloping forehead (HP:0000340): onset ; excluded: 11 pairs of ribs (HP:0000878): onset ; excluded: Long philtrum (HP:0000343): onset ; excluded: Tented upper lip vermilion (HP:0010804): onset ; excluded: Upslanted palpebral fissure (HP:0000582): onset ; excluded: Epicanthus (HP:0000286): onset ; excluded: Mandibular prognathia (HP:0000303): onset ; excluded: Long eyelashes (HP:0000527): onset ; excluded: Synophrys (HP:0000664): onset ; excluded: Broad forehead (HP:0000337): onset ; excluded: Wide nasal bridge (HP:0000431): onset ; excluded: Bulbous nose (HP:0000414): onset ; excluded: Open mouth (HP:0000194): onset ; excluded: Thick vermilion border (HP:0012471): onset ; excluded: Prominent metopic ridge (HP:0005487): onset ; excluded: Hirsutism (HP:0001007): onset ; excluded: Microcephaly (HP:0000252): onset ; excluded: Short neck (HP:0000470): onset ; excluded: Corneal opacity (HP:0007957): onset ; excluded: Scoliosis (HP:0002650): onset ; excluded: Hearing impairment (HP:0000365): onset ; excluded: Global brain atrophy (HP:0002283): onset ; excluded: Periventricular leukomalacia (HP:0006970): onset ; excluded: Developmental regression (HP:0002376): onset ; excluded: Deeply set eye (HP:0000490): onset ; excluded: Decreased fetal movement (HP:0001558): onset ; excluded: Oligohydramnios (HP:0001562): onset </td></tr>\n",
       "<tr><td style=\"text-align: left;\">Individual 3-1 (MALE; P11Y)</td><td style=\"text-align: left;\">Hypotonia, infantile, with psychomotor retardation and characteristic facies 3 (OMIM:616900)</td><td style=\"text-align: left;\">NM_001163435.3:c.1652T>C (homozygous)</td><td style=\"text-align: left;\">Epicanthus (HP:0000286): onset ; Wide nasal bridge (HP:0000431): onset ; Scoliosis (HP:0002650): onset ; Delayed speech and language development (HP:0000750): onset ; Motor delay (HP:0001270): onset ; Global developmental delay (HP:0001263): onset ; Deeply set eye (HP:0000490): onset ; Hypotonia (HP:0001252): onset ; excluded: Macroglossia (HP:0000158): onset ; excluded: Coarse facial features (HP:0000280): onset ; excluded: Sloping forehead (HP:0000340): onset ; excluded: 11 pairs of ribs (HP:0000878): onset ; excluded: Long philtrum (HP:0000343): onset ; excluded: Tented upper lip vermilion (HP:0010804): onset ; excluded: Upslanted palpebral fissure (HP:0000582): onset ; excluded: Mandibular prognathia (HP:0000303): onset ; excluded: Long eyelashes (HP:0000527): onset ; excluded: Synophrys (HP:0000664): onset ; excluded: Broad forehead (HP:0000337): onset ; excluded: Bulbous nose (HP:0000414): onset ; excluded: Open mouth (HP:0000194): onset ; excluded: Thick vermilion border (HP:0012471): onset ; excluded: Prominent metopic ridge (HP:0005487): onset ; excluded: Hirsutism (HP:0001007): onset ; excluded: Microcephaly (HP:0000252): onset ; excluded: Macrocephaly (HP:0000256): onset ; excluded: Short neck (HP:0000470): onset ; excluded: Corneal opacity (HP:0007957): onset ; excluded: Hearing impairment (HP:0000365): onset ; excluded: Global brain atrophy (HP:0002283): onset ; excluded: Periventricular leukomalacia (HP:0006970): onset ; excluded: Absent speech (HP:0001344): onset ; excluded: Developmental regression (HP:0002376): onset ; excluded: Hyporeflexia (HP:0001265): onset ; excluded: Seizure (HP:0001250): onset ; excluded: Decreased fetal movement (HP:0001558): onset ; excluded: Oligohydramnios (HP:0001562): onset </td></tr>\n",
       "<tr><td style=\"text-align: left;\">Individual 4-1 (FEMALE; P4Y)</td><td style=\"text-align: left;\">Hypotonia, infantile, with psychomotor retardation and characteristic facies 3 (OMIM:616900)</td><td style=\"text-align: left;\"><ul> <li>NM_001163435.3:c.2060-2A>G (heterozygous)</li> <li>NM_001163435.3:c.803_806del (heterozygous)</li> </ul></td><td style=\"text-align: left;\">Macrocephaly (HP:0000256): onset ; Delayed speech and language development (HP:0000750): onset ; Global developmental delay (HP:0001263): onset ; Hyporeflexia (HP:0001265): onset ; Hypotonia (HP:0001252): onset ; excluded: Macroglossia (HP:0000158): onset ; excluded: Coarse facial features (HP:0000280): onset ; excluded: Sloping forehead (HP:0000340): onset ; excluded: 11 pairs of ribs (HP:0000878): onset ; excluded: Long philtrum (HP:0000343): onset ; excluded: Tented upper lip vermilion (HP:0010804): onset ; excluded: Upslanted palpebral fissure (HP:0000582): onset ; excluded: Epicanthus (HP:0000286): onset ; excluded: Mandibular prognathia (HP:0000303): onset ; excluded: Long eyelashes (HP:0000527): onset ; excluded: Synophrys (HP:0000664): onset ; excluded: Broad forehead (HP:0000337): onset ; excluded: Wide nasal bridge (HP:0000431): onset ; excluded: Bulbous nose (HP:0000414): onset ; excluded: Open mouth (HP:0000194): onset ; excluded: Thick vermilion border (HP:0012471): onset ; excluded: Prominent metopic ridge (HP:0005487): onset ; excluded: Hirsutism (HP:0001007): onset ; excluded: Microcephaly (HP:0000252): onset ; excluded: Short neck (HP:0000470): onset ; excluded: Corneal opacity (HP:0007957): onset ; excluded: Scoliosis (HP:0002650): onset ; excluded: Hearing impairment (HP:0000365): onset ; excluded: Global brain atrophy (HP:0002283): onset ; excluded: Periventricular leukomalacia (HP:0006970): onset ; excluded: Absent speech (HP:0001344): onset ; excluded: Motor delay (HP:0001270): onset ; excluded: Developmental regression (HP:0002376): onset ; excluded: Seizure (HP:0001250): onset ; excluded: Deeply set eye (HP:0000490): onset </td></tr>\n",
       "<tr><td style=\"text-align: left;\">Individual 4-2 (FEMALE; P2Y)</td><td style=\"text-align: left;\">Hypotonia, infantile, with psychomotor retardation and characteristic facies 3 (OMIM:616900)</td><td style=\"text-align: left;\"><ul> <li>NM_001163435.3:c.2060-2A>G (heterozygous)</li> <li>NM_001163435.3:c.803_806del (heterozygous)</li> </ul></td><td style=\"text-align: left;\">Global brain atrophy (HP:0002283): onset ; Delayed speech and language development (HP:0000750): onset ; Motor delay (HP:0001270): onset ; Global developmental delay (HP:0001263): onset ; Hyporeflexia (HP:0001265): onset ; Hypotonia (HP:0001252): onset ; excluded: Macroglossia (HP:0000158): onset ; excluded: Coarse facial features (HP:0000280): onset ; excluded: Sloping forehead (HP:0000340): onset ; excluded: 11 pairs of ribs (HP:0000878): onset ; excluded: Long philtrum (HP:0000343): onset ; excluded: Tented upper lip vermilion (HP:0010804): onset ; excluded: Upslanted palpebral fissure (HP:0000582): onset ; excluded: Epicanthus (HP:0000286): onset ; excluded: Mandibular prognathia (HP:0000303): onset ; excluded: Long eyelashes (HP:0000527): onset ; excluded: Synophrys (HP:0000664): onset ; excluded: Broad forehead (HP:0000337): onset ; excluded: Wide nasal bridge (HP:0000431): onset ; excluded: Bulbous nose (HP:0000414): onset ; excluded: Open mouth (HP:0000194): onset ; excluded: Thick vermilion border (HP:0012471): onset ; excluded: Prominent metopic ridge (HP:0005487): onset ; excluded: Hirsutism (HP:0001007): onset ; excluded: Microcephaly (HP:0000252): onset ; excluded: Macrocephaly (HP:0000256): onset ; excluded: Short neck (HP:0000470): onset ; excluded: Corneal opacity (HP:0007957): onset ; excluded: Scoliosis (HP:0002650): onset ; excluded: Hearing impairment (HP:0000365): onset ; excluded: Periventricular leukomalacia (HP:0006970): onset ; excluded: Absent speech (HP:0001344): onset ; excluded: Developmental regression (HP:0002376): onset ; excluded: Seizure (HP:0001250): onset ; excluded: Deeply set eye (HP:0000490): onset ; excluded: Decreased fetal movement (HP:0001558): onset ; excluded: Oligohydramnios (HP:0001562): onset </td></tr>\n",
       "<tr><td style=\"text-align: left;\">Individual 5-1 (FEMALE; P10Y)</td><td style=\"text-align: left;\">Hypotonia, infantile, with psychomotor retardation and characteristic facies 3 (OMIM:616900)</td><td style=\"text-align: left;\">NM_001163435.3:c.376C>T (homozygous)</td><td style=\"text-align: left;\">Coarse facial features (HP:0000280): onset ; Long eyelashes (HP:0000527): onset ; Synophrys (HP:0000664): onset ; Hirsutism (HP:0001007): onset ; Microcephaly (HP:0000252): onset ; Corneal opacity (HP:0007957): onset ; Scoliosis (HP:0002650): onset ; Absent speech (HP:0001344): onset ; Motor delay (HP:0001270): onset ; Global developmental delay (HP:0001263): onset ; Developmental regression (HP:0002376): onset ; Hyporeflexia (HP:0001265): onset ; Seizure (HP:0001250): onset ; Hypotonia (HP:0001252): onset ; excluded: Macroglossia (HP:0000158): onset ; excluded: Sloping forehead (HP:0000340): onset ; excluded: 11 pairs of ribs (HP:0000878): onset ; excluded: Long philtrum (HP:0000343): onset ; excluded: Tented upper lip vermilion (HP:0010804): onset ; excluded: Upslanted palpebral fissure (HP:0000582): onset ; excluded: Epicanthus (HP:0000286): onset ; excluded: Mandibular prognathia (HP:0000303): onset ; excluded: Broad forehead (HP:0000337): onset ; excluded: Wide nasal bridge (HP:0000431): onset ; excluded: Bulbous nose (HP:0000414): onset ; excluded: Open mouth (HP:0000194): onset ; excluded: Thick vermilion border (HP:0012471): onset ; excluded: Prominent metopic ridge (HP:0005487): onset ; excluded: Macrocephaly (HP:0000256): onset ; excluded: Short neck (HP:0000470): onset ; excluded: Hearing impairment (HP:0000365): onset ; excluded: Global brain atrophy (HP:0002283): onset ; excluded: Periventricular leukomalacia (HP:0006970): onset ; excluded: Deeply set eye (HP:0000490): onset ; excluded: Decreased fetal movement (HP:0001558): onset ; excluded: Oligohydramnios (HP:0001562): onset </td></tr>\n",
       "<tr><td style=\"text-align: left;\">Individual 6-1 (MALE; P12Y)</td><td style=\"text-align: left;\">Hypotonia, infantile, with psychomotor retardation and characteristic facies 3 (OMIM:616900)</td><td style=\"text-align: left;\">NM_001163435.3:c.1370del (homozygous)</td><td style=\"text-align: left;\">Mandibular prognathia (HP:0000303): onset ; Broad forehead (HP:0000337): onset ; Bulbous nose (HP:0000414): onset ; Open mouth (HP:0000194): onset ; Thick vermilion border (HP:0012471): onset ; Delayed skeletal maturation (HP:0002750): onset ; Hearing impairment (HP:0000365): onset ; Absent speech (HP:0001344): onset ; Motor delay (HP:0001270): onset ; Global developmental delay (HP:0001263): onset ; Hypotonia (HP:0001252): onset ; excluded: Macroglossia (HP:0000158): onset ; excluded: Coarse facial features (HP:0000280): onset ; excluded: Sloping forehead (HP:0000340): onset ; excluded: 11 pairs of ribs (HP:0000878): onset ; excluded: Long philtrum (HP:0000343): onset ; excluded: Tented upper lip vermilion (HP:0010804): onset ; excluded: Upslanted palpebral fissure (HP:0000582): onset ; excluded: Epicanthus (HP:0000286): onset ; excluded: Long eyelashes (HP:0000527): onset ; excluded: Synophrys (HP:0000664): onset ; excluded: Wide nasal bridge (HP:0000431): onset ; excluded: Prominent metopic ridge (HP:0005487): onset ; excluded: Hirsutism (HP:0001007): onset ; excluded: Microcephaly (HP:0000252): onset ; excluded: Macrocephaly (HP:0000256): onset ; excluded: Short neck (HP:0000470): onset ; excluded: Corneal opacity (HP:0007957): onset ; excluded: Scoliosis (HP:0002650): onset ; excluded: Global brain atrophy (HP:0002283): onset ; excluded: Periventricular leukomalacia (HP:0006970): onset ; excluded: Developmental regression (HP:0002376): onset ; excluded: Hyporeflexia (HP:0001265): onset ; excluded: Seizure (HP:0001250): onset ; excluded: Deeply set eye (HP:0000490): onset ; excluded: Decreased fetal movement (HP:0001558): onset ; excluded: Oligohydramnios (HP:0001562): onset </td></tr>\n",
       "<tr><td style=\"text-align: left;\">Individual 6-2 (FEMALE; P3Y)</td><td style=\"text-align: left;\">Hypotonia, infantile, with psychomotor retardation and characteristic facies 3 (OMIM:616900)</td><td style=\"text-align: left;\">NM_001163435.3:c.1370del (homozygous)</td><td style=\"text-align: left;\">Broad forehead (HP:0000337): onset ; Macrocephaly (HP:0000256): onset ; Short neck (HP:0000470): onset ; Delayed skeletal maturation (HP:0002750): onset ; Delayed speech and language development (HP:0000750): onset ; Motor delay (HP:0001270): onset ; Global developmental delay (HP:0001263): onset ; Hypotonia (HP:0001252): onset ; excluded: Macroglossia (HP:0000158): onset ; excluded: Coarse facial features (HP:0000280): onset ; excluded: Sloping forehead (HP:0000340): onset ; excluded: 11 pairs of ribs (HP:0000878): onset ; excluded: Long philtrum (HP:0000343): onset ; excluded: Tented upper lip vermilion (HP:0010804): onset ; excluded: Upslanted palpebral fissure (HP:0000582): onset ; excluded: Epicanthus (HP:0000286): onset ; excluded: Mandibular prognathia (HP:0000303): onset ; excluded: Long eyelashes (HP:0000527): onset ; excluded: Synophrys (HP:0000664): onset ; excluded: Wide nasal bridge (HP:0000431): onset ; excluded: Bulbous nose (HP:0000414): onset ; excluded: Open mouth (HP:0000194): onset ; excluded: Thick vermilion border (HP:0012471): onset ; excluded: Prominent metopic ridge (HP:0005487): onset ; excluded: Hirsutism (HP:0001007): onset ; excluded: Microcephaly (HP:0000252): onset ; excluded: Corneal opacity (HP:0007957): onset ; excluded: Scoliosis (HP:0002650): onset ; excluded: Hearing impairment (HP:0000365): onset ; excluded: Global brain atrophy (HP:0002283): onset ; excluded: Periventricular leukomalacia (HP:0006970): onset ; excluded: Absent speech (HP:0001344): onset ; excluded: Developmental regression (HP:0002376): onset ; excluded: Hyporeflexia (HP:0001265): onset ; excluded: Seizure (HP:0001250): onset ; excluded: Deeply set eye (HP:0000490): onset ; excluded: Decreased fetal movement (HP:0001558): onset ; excluded: Oligohydramnios (HP:0001562): onset </td></tr>\n",
       "<tr><td style=\"text-align: left;\">Individual 7-1 (MALE; P6Y)</td><td style=\"text-align: left;\">Hypotonia, infantile, with psychomotor retardation and characteristic facies 3 (OMIM:616900)</td><td style=\"text-align: left;\">NM_001163435.3:c.455+4A>G (homozygous)</td><td style=\"text-align: left;\">Delayed speech and language development (HP:0000750): onset ; Motor delay (HP:0001270): onset ; Global developmental delay (HP:0001263): onset ; Hyporeflexia (HP:0001265): onset ; Hypotonia (HP:0001252): onset ; excluded: Macroglossia (HP:0000158): onset ; excluded: Coarse facial features (HP:0000280): onset ; excluded: Sloping forehead (HP:0000340): onset ; excluded: 11 pairs of ribs (HP:0000878): onset ; excluded: Long philtrum (HP:0000343): onset ; excluded: Tented upper lip vermilion (HP:0010804): onset ; excluded: Upslanted palpebral fissure (HP:0000582): onset ; excluded: Epicanthus (HP:0000286): onset ; excluded: Mandibular prognathia (HP:0000303): onset ; excluded: Long eyelashes (HP:0000527): onset ; excluded: Synophrys (HP:0000664): onset ; excluded: Broad forehead (HP:0000337): onset ; excluded: Wide nasal bridge (HP:0000431): onset ; excluded: Bulbous nose (HP:0000414): onset ; excluded: Open mouth (HP:0000194): onset ; excluded: Thick vermilion border (HP:0012471): onset ; excluded: Prominent metopic ridge (HP:0005487): onset ; excluded: Hirsutism (HP:0001007): onset ; excluded: Microcephaly (HP:0000252): onset ; excluded: Macrocephaly (HP:0000256): onset ; excluded: Short neck (HP:0000470): onset ; excluded: Corneal opacity (HP:0007957): onset ; excluded: Scoliosis (HP:0002650): onset ; excluded: Hearing impairment (HP:0000365): onset ; excluded: Global brain atrophy (HP:0002283): onset ; excluded: Periventricular leukomalacia (HP:0006970): onset ; excluded: Absent speech (HP:0001344): onset ; excluded: Developmental regression (HP:0002376): onset ; excluded: Seizure (HP:0001250): onset ; excluded: Deeply set eye (HP:0000490): onset ; excluded: Decreased fetal movement (HP:0001558): onset ; excluded: Oligohydramnios (HP:0001562): onset </td></tr>\n",
       "<tr><td style=\"text-align: left;\">Individual 8-1 (FEMALE; P12Y)</td><td style=\"text-align: left;\">Hypotonia, infantile, with psychomotor retardation and characteristic facies 3 (OMIM:616900)</td><td style=\"text-align: left;\">NM_001163435.3:c.376C>T (homozygous)</td><td style=\"text-align: left;\">Macroglossia (HP:0000158): onset ; Coarse facial features (HP:0000280): onset ; Macrocephaly (HP:0000256): onset ; Scoliosis (HP:0002650): onset ; Absent speech (HP:0001344): onset ; Motor delay (HP:0001270): onset ; Global developmental delay (HP:0001263): onset ; Hyporeflexia (HP:0001265): onset ; Seizure (HP:0001250): onset ; Hypotonia (HP:0001252): onset ; excluded: Sloping forehead (HP:0000340): onset ; excluded: 11 pairs of ribs (HP:0000878): onset ; excluded: Long philtrum (HP:0000343): onset ; excluded: Tented upper lip vermilion (HP:0010804): onset ; excluded: Upslanted palpebral fissure (HP:0000582): onset ; excluded: Epicanthus (HP:0000286): onset ; excluded: Mandibular prognathia (HP:0000303): onset ; excluded: Long eyelashes (HP:0000527): onset ; excluded: Synophrys (HP:0000664): onset ; excluded: Broad forehead (HP:0000337): onset ; excluded: Wide nasal bridge (HP:0000431): onset ; excluded: Bulbous nose (HP:0000414): onset ; excluded: Open mouth (HP:0000194): onset ; excluded: Thick vermilion border (HP:0012471): onset ; excluded: Prominent metopic ridge (HP:0005487): onset ; excluded: Hirsutism (HP:0001007): onset ; excluded: Microcephaly (HP:0000252): onset ; excluded: Short neck (HP:0000470): onset ; excluded: Corneal opacity (HP:0007957): onset ; excluded: Hearing impairment (HP:0000365): onset ; excluded: Global brain atrophy (HP:0002283): onset ; excluded: Periventricular leukomalacia (HP:0006970): onset ; excluded: Developmental regression (HP:0002376): onset ; excluded: Deeply set eye (HP:0000490): onset ; excluded: Decreased fetal movement (HP:0001558): onset ; excluded: Oligohydramnios (HP:0001562): onset </td></tr>\n",
       "<tr><td style=\"text-align: left;\">Individual 9-1 (FEMALE; P10Y)</td><td style=\"text-align: left;\">Hypotonia, infantile, with psychomotor retardation and characteristic facies 3 (OMIM:616900)</td><td style=\"text-align: left;\"><ul> <li>DELc.(658observed1_ 659-1)_ (2059observed1_2060-1del: chromosomal_deletion (SO:1000029)</li> <li>NM_001163435.3:c.376C>T (heterozygous)</li> </ul></td><td style=\"text-align: left;\">Prominent metopic ridge (HP:0005487): onset ; Absent speech (HP:0001344): onset ; Motor delay (HP:0001270): onset ; Global developmental delay (HP:0001263): onset ; Hypotonia (HP:0001252): onset ; excluded: Macroglossia (HP:0000158): onset ; excluded: Coarse facial features (HP:0000280): onset ; excluded: Sloping forehead (HP:0000340): onset ; excluded: 11 pairs of ribs (HP:0000878): onset ; excluded: Long philtrum (HP:0000343): onset ; excluded: Tented upper lip vermilion (HP:0010804): onset ; excluded: Upslanted palpebral fissure (HP:0000582): onset ; excluded: Epicanthus (HP:0000286): onset ; excluded: Mandibular prognathia (HP:0000303): onset ; excluded: Long eyelashes (HP:0000527): onset ; excluded: Synophrys (HP:0000664): onset ; excluded: Broad forehead (HP:0000337): onset ; excluded: Wide nasal bridge (HP:0000431): onset ; excluded: Bulbous nose (HP:0000414): onset ; excluded: Open mouth (HP:0000194): onset ; excluded: Thick vermilion border (HP:0012471): onset ; excluded: Hirsutism (HP:0001007): onset ; excluded: Microcephaly (HP:0000252): onset ; excluded: Macrocephaly (HP:0000256): onset ; excluded: Short neck (HP:0000470): onset ; excluded: Corneal opacity (HP:0007957): onset ; excluded: Scoliosis (HP:0002650): onset ; excluded: Hearing impairment (HP:0000365): onset ; excluded: Global brain atrophy (HP:0002283): onset ; excluded: Periventricular leukomalacia (HP:0006970): onset ; excluded: Developmental regression (HP:0002376): onset ; excluded: Seizure (HP:0001250): onset ; excluded: Deeply set eye (HP:0000490): onset </td></tr>\n",
       "<tr><td style=\"text-align: left;\">Individual 9-2 (MALE; P2Y)</td><td style=\"text-align: left;\">Hypotonia, infantile, with psychomotor retardation and characteristic facies 3 (OMIM:616900)</td><td style=\"text-align: left;\"><ul> <li>DELc.(658observed1_ 659-1)_ (2059observed1_2060-1del: chromosomal_deletion (SO:1000029)</li> <li>NM_001163435.3:c.376C>T (heterozygous)</li> </ul></td><td style=\"text-align: left;\">Coarse facial features (HP:0000280): onset ; 11 pairs of ribs (HP:0000878): onset ; Long philtrum (HP:0000343): onset ; Tented upper lip vermilion (HP:0010804): onset ; Epicanthus (HP:0000286): onset ; Hirsutism (HP:0001007): onset ; Absent speech (HP:0001344): onset ; Motor delay (HP:0001270): onset ; Global developmental delay (HP:0001263): onset ; Hypotonia (HP:0001252): onset ; excluded: Macroglossia (HP:0000158): onset ; excluded: Sloping forehead (HP:0000340): onset ; excluded: Upslanted palpebral fissure (HP:0000582): onset ; excluded: Mandibular prognathia (HP:0000303): onset ; excluded: Long eyelashes (HP:0000527): onset ; excluded: Synophrys (HP:0000664): onset ; excluded: Broad forehead (HP:0000337): onset ; excluded: Wide nasal bridge (HP:0000431): onset ; excluded: Bulbous nose (HP:0000414): onset ; excluded: Open mouth (HP:0000194): onset ; excluded: Thick vermilion border (HP:0012471): onset ; excluded: Prominent metopic ridge (HP:0005487): onset ; excluded: Microcephaly (HP:0000252): onset ; excluded: Macrocephaly (HP:0000256): onset ; excluded: Short neck (HP:0000470): onset ; excluded: Corneal opacity (HP:0007957): onset ; excluded: Scoliosis (HP:0002650): onset ; excluded: Hearing impairment (HP:0000365): onset ; excluded: Global brain atrophy (HP:0002283): onset ; excluded: Periventricular leukomalacia (HP:0006970): onset ; excluded: Developmental regression (HP:0002376): onset ; excluded: Seizure (HP:0001250): onset ; excluded: Deeply set eye (HP:0000490): onset ; excluded: Decreased fetal movement (HP:0001558): onset ; excluded: Oligohydramnios (HP:0001562): onset </td></tr>\n",
       "<tr><td style=\"text-align: left;\">A-II-1 (MALE; P14Y)</td><td style=\"text-align: left;\">Hypotonia, infantile, with psychomotor retardation and characteristic facies 3 (OMIM:616900)</td><td style=\"text-align: left;\">NM_001163435.3:c.376C>T (homozygous)</td><td style=\"text-align: left;\">Macroglossia (HP:0000158): onset ; Gingival overgrowth (HP:0000212): onset ; Coarse facial features (HP:0000280): onset ; Highly arched eyebrow (HP:0002553): onset ; Prominent nasal bridge (HP:0000426): onset ; Exaggerated cupid's bow (HP:0002263): onset ; Anteverted nares (HP:0000463): onset ; Narrow forehead (HP:0000341): onset ; Global developmental delay (HP:0001263): onset ; Developmental regression (HP:0002376): onset ; Hyporeflexia (HP:0001265): onset ; Hypotonia (HP:0001252): onset ; Cerebral visual impairment (HP:0100704): onset ; Ptosis (HP:0000508): onset ; Cataract (HP:0000518): onset ; Respiratory insufficiency (HP:0002093): onset ; Tube feeding (HP:0033454): onset ; Osteoporosis (HP:0000939): onset ; excluded: 11 pairs of ribs (HP:0000878): onset ; excluded: Hearing impairment (HP:0000365): onset ; excluded: Deeply set eye (HP:0000490): onset ; excluded: Esotropia (HP:0000565): onset ; excluded: Right aortic arch (HP:0012020): onset <br/><b>TimeElement(element=Age(iso8601duration=P2Y6M))</b>: Seizure (HP:0001250): onset age {\n",
       "  iso8601duration: \"P2Y6M\"\n",
       "}\n",
       "</td></tr>\n",
       "<tr><td style=\"text-align: left;\">B-IV-4 (FEMALE; P4Y)</td><td style=\"text-align: left;\">Hypotonia, infantile, with psychomotor retardation and characteristic facies 3 (OMIM:616900)</td><td style=\"text-align: left;\">NM_001163435.3:c.1363A>T (homozygous)</td><td style=\"text-align: left;\">Gingival overgrowth (HP:0000212): onset ; Highly arched eyebrow (HP:0002553): onset ; Prominent nasal bridge (HP:0000426): onset ; Exaggerated cupid's bow (HP:0002263): onset ; Anteverted nares (HP:0000463): onset ; Narrow forehead (HP:0000341): onset ; Global developmental delay (HP:0001263): onset ; Developmental regression (HP:0002376): onset ; Hyporeflexia (HP:0001265): onset ; Deeply set eye (HP:0000490): onset ; Hypotonia (HP:0001252): onset ; Cerebral visual impairment (HP:0100704): onset ; Respiratory insufficiency (HP:0002093): onset ; Tube feeding (HP:0033454): onset ; Osteoporosis (HP:0000939): onset ; excluded: Macroglossia (HP:0000158): onset ; excluded: Coarse facial features (HP:0000280): onset ; excluded: 11 pairs of ribs (HP:0000878): onset ; excluded: Hearing impairment (HP:0000365): onset ; excluded: Ptosis (HP:0000508): onset ; excluded: Cataract (HP:0000518): onset ; excluded: Esotropia (HP:0000565): onset ; excluded: Right aortic arch (HP:0012020): onset <br/><b>TimeElement(element=Age(iso8601duration=P2Y1M))</b>: Seizure (HP:0001250): onset age {\n",
       "  iso8601duration: \"P2Y1M\"\n",
       "}\n",
       "</td></tr>\n",
       "<tr><td style=\"text-align: left;\">B-IV-6 (FEMALE; P10Y)</td><td style=\"text-align: left;\">Hypotonia, infantile, with psychomotor retardation and characteristic facies 3 (OMIM:616900)</td><td style=\"text-align: left;\">NM_001163435.3:c.1363A>T (homozygous)</td><td style=\"text-align: left;\">Highly arched eyebrow (HP:0002553): onset ; Prominent nasal bridge (HP:0000426): onset ; Exaggerated cupid's bow (HP:0002263): onset ; Anteverted nares (HP:0000463): onset ; Narrow forehead (HP:0000341): onset ; Global developmental delay (HP:0001263): onset ; Developmental regression (HP:0002376): onset ; Deeply set eye (HP:0000490): onset ; Hypotonia (HP:0001252): onset ; Respiratory insufficiency (HP:0002093): onset ; Tube feeding (HP:0033454): onset ; Osteoporosis (HP:0000939): onset ; excluded: Macroglossia (HP:0000158): onset ; excluded: Coarse facial features (HP:0000280): onset ; excluded: 11 pairs of ribs (HP:0000878): onset ; excluded: Hearing impairment (HP:0000365): onset ; excluded: Cerebral visual impairment (HP:0100704): onset ; excluded: Ptosis (HP:0000508): onset ; excluded: Cataract (HP:0000518): onset ; excluded: Esotropia (HP:0000565): onset ; excluded: Right aortic arch (HP:0012020): onset <br/><b>TimeElement(element=Age(iso8601duration=P6Y))</b>: Seizure (HP:0001250): onset age {\n",
       "  iso8601duration: \"P6Y\"\n",
       "}\n",
       "</td></tr>\n",
       "<tr><td style=\"text-align: left;\">C-II-1 (MALE; P2Y)</td><td style=\"text-align: left;\">Hypotonia, infantile, with psychomotor retardation and characteristic facies 3 (OMIM:616900)</td><td style=\"text-align: left;\">NM_001163435.3:c.1532G>A (homozygous)</td><td style=\"text-align: left;\">Coarse facial features (HP:0000280): onset ; 11 pairs of ribs (HP:0000878): onset ; Prominent nasal bridge (HP:0000426): onset ; Exaggerated cupid's bow (HP:0002263): onset ; Anteverted nares (HP:0000463): onset ; Narrow forehead (HP:0000341): onset ; Global developmental delay (HP:0001263): onset ; Hyporeflexia (HP:0001265): onset ; Hypotonia (HP:0001252): onset ; Esotropia (HP:0000565): onset ; Tube feeding (HP:0033454): onset ; Right aortic arch (HP:0012020): onset ; excluded: Macroglossia (HP:0000158): onset ; excluded: Highly arched eyebrow (HP:0002553): onset ; excluded: Hearing impairment (HP:0000365): onset ; excluded: Developmental regression (HP:0002376): onset ; excluded: Seizure (HP:0001250): onset ; excluded: Deeply set eye (HP:0000490): onset ; excluded: Cerebral visual impairment (HP:0100704): onset ; excluded: Ptosis (HP:0000508): onset ; excluded: Cataract (HP:0000518): onset ; excluded: Respiratory insufficiency (HP:0002093): onset ; excluded: Osteoporosis (HP:0000939): onset </td></tr>\n",
       "<tr><td style=\"text-align: left;\">D-II-1 (MALE; P14Y)</td><td style=\"text-align: left;\">Hypotonia, infantile, with psychomotor retardation and characteristic facies 3 (OMIM:616900)</td><td style=\"text-align: left;\">NM_001163435.3:c.376C>T (homozygous)</td><td style=\"text-align: left;\">Macroglossia (HP:0000158): onset ; Coarse facial features (HP:0000280): onset ; Highly arched eyebrow (HP:0002553): onset ; Prominent nasal bridge (HP:0000426): onset ; Exaggerated cupid's bow (HP:0002263): onset ; Narrow forehead (HP:0000341): onset ; Global developmental delay (HP:0001263): onset ; Developmental regression (HP:0002376): onset ; Hyporeflexia (HP:0001265): onset ; Deeply set eye (HP:0000490): onset ; Hypotonia (HP:0001252): onset ; Cerebral visual impairment (HP:0100704): onset ; Respiratory insufficiency (HP:0002093): onset ; Tube feeding (HP:0033454): onset ; Osteoporosis (HP:0000939): onset ; excluded: Gingival overgrowth (HP:0000212): onset ; excluded: 11 pairs of ribs (HP:0000878): onset ; excluded: Anteverted nares (HP:0000463): onset ; excluded: Hearing impairment (HP:0000365): onset ; excluded: Ptosis (HP:0000508): onset ; excluded: Cataract (HP:0000518): onset ; excluded: Esotropia (HP:0000565): onset ; excluded: Right aortic arch (HP:0012020): onset <br/><b>TimeElement(element=Age(iso8601duration=P1Y3M))</b>: Seizure (HP:0001250): onset age {\n",
       "  iso8601duration: \"P1Y3M\"\n",
       "}\n",
       "</td></tr>\n",
       "<tr><td style=\"text-align: left;\">Patient 1 (MALE; P9Y)</td><td style=\"text-align: left;\">Hypotonia, infantile, with psychomotor retardation and characteristic facies 3 (OMIM:616900)</td><td style=\"text-align: left;\">NM_001163435.3:c.614_617del (homozygous)</td><td style=\"text-align: left;\">Brachycephaly (HP:0000248): onset ; Motor delay (HP:0001270): onset ; Global developmental delay (HP:0001263): onset ; Hypotonia (HP:0001252): onset ; Cerebral visual impairment (HP:0100704): onset ; Strabismus (HP:0000486): onset ; Proptosis (HP:0000520): onset ; Single transverse palmar crease (HP:0000954): onset ; Overlapping toe (HP:0001845): onset ; excluded: Cerebellar atrophy (HP:0001272): onset <br/><b>TimeElement(element=Age(iso8601duration=P9M))</b>: Seizure (HP:0001250): onset age {\n",
       "  iso8601duration: \"P9M\"\n",
       "}\n",
       "</td></tr>\n",
       "<tr><td style=\"text-align: left;\">Patient 2 (MALE; P16Y)</td><td style=\"text-align: left;\">Hypotonia, infantile, with psychomotor retardation and characteristic facies 3 (OMIM:616900)</td><td style=\"text-align: left;\">NM_001163435.3:c.614_617del (homozygous)</td><td style=\"text-align: left;\">Brachycephaly (HP:0000248): onset ; Motor delay (HP:0001270): onset ; Global developmental delay (HP:0001263): onset ; Hypotonia (HP:0001252): onset ; Strabismus (HP:0000486): onset ; Proptosis (HP:0000520): onset ; Single transverse palmar crease (HP:0000954): onset ; Overlapping toe (HP:0001845): onset ; excluded: Cerebellar atrophy (HP:0001272): onset <br/><b>TimeElement(element=Age(iso8601duration=P2Y11M))</b>: Seizure (HP:0001250): onset age {\n",
       "  iso8601duration: \"P2Y11M\"\n",
       "}\n",
       "</td></tr>\n",
       "<tr><td style=\"text-align: left;\">Patient 3 (FEMALE; P11Y)</td><td style=\"text-align: left;\">Hypotonia, infantile, with psychomotor retardation and characteristic facies 3 (OMIM:616900)</td><td style=\"text-align: left;\">NM_001163435.3:c.614_617del (homozygous)</td><td style=\"text-align: left;\">Brachycephaly (HP:0000248): onset ; Cerebellar atrophy (HP:0001272): onset ; Global developmental delay (HP:0001263): onset ; Hypotonia (HP:0001252): onset ; Strabismus (HP:0000486): onset ; Proptosis (HP:0000520): onset ; Single transverse palmar crease (HP:0000954): onset ; Overlapping toe (HP:0001845): onset <br/><b>TimeElement(element=Age(iso8601duration=P1Y6M))</b>: Seizure (HP:0001250): onset age {\n",
       "  iso8601duration: \"P1Y6M\"\n",
       "}\n",
       "</td></tr>\n",
       "<tr><td style=\"text-align: left;\">Patient 1 (FEMALE; P5Y)</td><td style=\"text-align: left;\">Hypotonia, infantile, with psychomotor retardation and characteristic facies 3 (OMIM:616900)</td><td style=\"text-align: left;\">NM_001163435.3:c.753dup (homozygous)</td><td style=\"text-align: left;\">Long philtrum (HP:0000343): onset ; Open mouth (HP:0000194): onset ; Brachycephaly (HP:0000248): onset ; Absent speech (HP:0001344): onset ; Motor delay (HP:0001270): onset ; Global developmental delay (HP:0001263): onset ; EMG: myokymic discharges (HP:0100288): onset ; Deeply set eye (HP:0000490): onset ; Hypotonia (HP:0001252): onset ; excluded: Narrow forehead (HP:0000341): onset ; excluded: Macrocephaly (HP:0000256): onset ; excluded: Scoliosis (HP:0002650): onset ; excluded: Strabismus (HP:0000486): onset ; excluded: Respiratory insufficiency (HP:0002093): onset <br/><b>TimeElement(element=Age(iso8601duration=P2Y))</b>: Seizure (HP:0001250): onset age {\n",
       "  iso8601duration: \"P2Y\"\n",
       "}\n",
       "</td></tr>\n",
       "<tr><td style=\"text-align: left;\">Patient 2 (FEMALE; P3Y)</td><td style=\"text-align: left;\">Hypotonia, infantile, with psychomotor retardation and characteristic facies 3 (OMIM:616900)</td><td style=\"text-align: left;\">NM_001163435.3:c.753dup (homozygous)</td><td style=\"text-align: left;\">Long philtrum (HP:0000343): onset ; Open mouth (HP:0000194): onset ; Brachycephaly (HP:0000248): onset ; Absent speech (HP:0001344): onset ; Motor delay (HP:0001270): onset ; Global developmental delay (HP:0001263): onset ; Deeply set eye (HP:0000490): onset ; Hypotonia (HP:0001252): onset ; Strabismus (HP:0000486): onset ; excluded: Narrow forehead (HP:0000341): onset ; excluded: Macrocephaly (HP:0000256): onset ; excluded: Scoliosis (HP:0002650): onset ; excluded: EMG: myokymic discharges (HP:0100288): onset ; excluded: Status epilepticus (HP:0002133): onset ; excluded: Respiratory insufficiency (HP:0002093): onset </td></tr>\n",
       "<tr><td style=\"text-align: left;\">patient (MALE; P1Y3M)</td><td style=\"text-align: left;\">Hypotonia, infantile, with psychomotor retardation and characteristic facies 3 (OMIM:616900)</td><td style=\"text-align: left;\">NM_001163435.3:c.247C>T (homozygous)</td><td style=\"text-align: left;\">Macroglossia (HP:0000158): onset ; Coarse facial features (HP:0000280): onset ; Tented upper lip vermilion (HP:0010804): onset ; Highly arched eyebrow (HP:0002553): onset ; Hypertelorism (HP:0000316): onset ; Exaggerated cupid's bow (HP:0002263): onset ; Open mouth (HP:0000194): onset ; Delayed speech and language development (HP:0000750): onset ; Motor delay (HP:0001270): onset ; Hyporeflexia (HP:0001265): onset ; Cryptorchidism (HP:0000028): onset ; Pectus excavatum (HP:0000767): onset ; excluded: Gingival overgrowth (HP:0000212): onset ; excluded: Sloping forehead (HP:0000340): onset ; excluded: Long philtrum (HP:0000343): onset ; excluded: Upslanted palpebral fissure (HP:0000582): onset ; excluded: Epicanthus (HP:0000286): onset ; excluded: Mandibular prognathia (HP:0000303): onset ; excluded: Long eyelashes (HP:0000527): onset ; excluded: Synophrys (HP:0000664): onset ; excluded: Broad forehead (HP:0000337): onset ; excluded: Prominent nasal bridge (HP:0000426): onset ; excluded: Wide nasal bridge (HP:0000431): onset ; excluded: Anteverted nares (HP:0000463): onset ; excluded: Bulbous nose (HP:0000414): onset ; excluded: Thick vermilion border (HP:0012471): onset ; excluded: Prominent metopic ridge (HP:0005487): onset ; excluded: Hirsutism (HP:0001007): onset ; excluded: Cerebellar atrophy (HP:0001272): onset ; excluded: Periventricular leukomalacia (HP:0006970): onset ; excluded: Seizure (HP:0001250): onset ; excluded: Deeply set eye (HP:0000490): onset <br/><b>TimeElement(element=OntologyClass(id=HP:0003577, label=Congenital onset))</b>: Macrocephaly (HP:0000256): onset ontology_class {\n",
       "  id: \"HP:0003577\"\n",
       "  label: \"Congenital onset\"\n",
       "}\n",
       "<br/><b>TimeElement(element=OntologyClass(id=HP:0003623, label=Neonatal onset))</b>: Hypotonia (HP:0001252): onset ontology_class {\n",
       "  id: \"HP:0003623\"\n",
       "  label: \"Neonatal onset\"\n",
       "}\n",
       "<br/><b>TimeElement(element=Age(iso8601duration=P5M))</b>: Global brain atrophy (HP:0002283): onset age {\n",
       "  iso8601duration: \"P5M\"\n",
       "}\n",
       "</td></tr>\n",
       "<tr><td style=\"text-align: left;\">Individual P1 (FEMALE; P13Y)</td><td style=\"text-align: left;\">Hypotonia, infantile, with psychomotor retardation and characteristic facies 3 (OMIM:616900)</td><td style=\"text-align: left;\">NM_001163435.3:c.535_554del (homozygous)</td><td style=\"text-align: left;\">Hirsutism (HP:0001007): onset ; Tapered finger (HP:0001182): onset ; Scoliosis (HP:0002650): onset ; Joint contracture (HP:0034392): onset ; Thin corpus callosum (HP:0033725): onset ; Ventriculomegaly (HP:0002119): onset ; Enlarged cisterna magna (HP:0002280): onset ; Absent speech (HP:0001344): onset ; Motor delay (HP:0001270): onset ; Global developmental delay (HP:0001263): onset ; Hyporeflexia (HP:0001265): onset ; Increased variability in muscle fiber diameter (HP:0003557): onset ; Mildly elevated creatine kinase (HP:0008180): onset ; Limb muscle weakness (HP:0003690): onset ; Axial muscle weakness (HP:0003327): onset ; excluded: Cerebellar atrophy (HP:0001272): onset ; excluded: Global brain atrophy (HP:0002283): onset ; excluded: Developmental regression (HP:0002376): onset ; excluded: Status epilepticus (HP:0002133): onset <br/><b>TimeElement(element=OntologyClass(id=HP:0003623, label=Neonatal onset))</b>: Hypotonia (HP:0001252): onset ontology_class {\n",
       "  id: \"HP:0003623\"\n",
       "  label: \"Neonatal onset\"\n",
       "}\n",
       "<br/><b>TimeElement(element=Age(iso8601duration=P1Y4M))</b>: Macrocephaly (HP:0000256): onset age {\n",
       "  iso8601duration: \"P1Y4M\"\n",
       "}\n",
       "; Bilateral tonic-clonic seizure with focal onset (HP:0007334): onset age {\n",
       "  iso8601duration: \"P1Y4M\"\n",
       "}\n",
       "</td></tr>\n",
       "<tr><td style=\"text-align: left;\">Individual P2 (FEMALE; P8Y)</td><td style=\"text-align: left;\">Hypotonia, infantile, with psychomotor retardation and characteristic facies 3 (OMIM:616900)</td><td style=\"text-align: left;\">NM_001163435.3:c.535_554del (homozygous)</td><td style=\"text-align: left;\">Thin corpus callosum (HP:0033725): onset ; Ventriculomegaly (HP:0002119): onset ; Absent speech (HP:0001344): onset ; Motor delay (HP:0001270): onset ; Global developmental delay (HP:0001263): onset ; Hyporeflexia (HP:0001265): onset ; Increased variability in muscle fiber diameter (HP:0003557): onset ; Limb muscle weakness (HP:0003690): onset ; Axial muscle weakness (HP:0003327): onset ; Hypotonia (HP:0001252): onset ; excluded: Hirsutism (HP:0001007): onset ; excluded: Tapered finger (HP:0001182): onset ; excluded: Scoliosis (HP:0002650): onset ; excluded: Joint contracture (HP:0034392): onset ; excluded: Cerebellar atrophy (HP:0001272): onset ; excluded: Global brain atrophy (HP:0002283): onset ; excluded: Developmental regression (HP:0002376): onset ; excluded: Status epilepticus (HP:0002133): onset <br/><b>TimeElement(element=OntologyClass(id=HP:0003623, label=Neonatal onset))</b>: Mildly elevated creatine kinase (HP:0008180): onset ontology_class {\n",
       "  id: \"HP:0003623\"\n",
       "  label: \"Neonatal onset\"\n",
       "}\n",
       "<br/><b>TimeElement(element=Age(iso8601duration=P9M))</b>: Bilateral tonic-clonic seizure with focal onset (HP:0007334): onset age {\n",
       "  iso8601duration: \"P9M\"\n",
       "}\n",
       "</td></tr>\n",
       "<tr><td style=\"text-align: left;\">patient (FEMALE; P6Y6M)</td><td style=\"text-align: left;\">Hypotonia, infantile, with psychomotor retardation and characteristic facies 3 (OMIM:616900)</td><td style=\"text-align: left;\">NM_001163435.3:c.490C>T (homozygous)</td><td style=\"text-align: left;\">Thick vermilion border (HP:0012471): onset ; Narrow forehead (HP:0000341): onset ; Periventricular leukomalacia (HP:0006970): onset ; Absent speech (HP:0001344): onset ; Motor delay (HP:0001270): onset ; Global developmental delay (HP:0001263): onset ; Hyporeflexia (HP:0001265): onset ; Hypotonia (HP:0001252): onset ; Feeding difficulties (HP:0011968): onset ; excluded: Macroglossia (HP:0000158): onset ; excluded: Gingival overgrowth (HP:0000212): onset ; excluded: Coarse facial features (HP:0000280): onset ; excluded: Sloping forehead (HP:0000340): onset ; excluded: Tented upper lip vermilion (HP:0010804): onset ; excluded: Upslanted palpebral fissure (HP:0000582): onset ; excluded: Epicanthus (HP:0000286): onset ; excluded: Hypertelorism (HP:0000316): onset ; excluded: Synophrys (HP:0000664): onset ; excluded: Prominent nasal bridge (HP:0000426): onset ; excluded: Wide nasal bridge (HP:0000431): onset ; excluded: Exaggerated cupid's bow (HP:0002263): onset ; excluded: Anteverted nares (HP:0000463): onset ; excluded: Bulbous nose (HP:0000414): onset ; excluded: Prominent metopic ridge (HP:0005487): onset ; excluded: Brachycephaly (HP:0000248): onset </td></tr>\n",
       "</table>"
      ],
      "text/plain": [
       "<IPython.core.display.HTML object>"
      ]
     },
     "metadata": {},
     "output_type": "display_data"
    }
   ],
   "source": [
    "table = IndividualTable(cvalidator.get_error_free_individual_list())\n",
    "display(HTML(table.to_html()))"
   ]
  },
  {
   "cell_type": "code",
   "execution_count": 14,
   "metadata": {},
   "outputs": [
    {
     "name": "stdout",
     "output_type": "stream",
     "text": [
      "[pyphetools] Ingested 27 GA4GH phenopackets.\n",
      "[INFO] Extracted 27 from 27 phenopackets with OMIM:616900\n",
      "\n",
      "\tHypotonia, infantile, with psychomotor retardation and characteristic facies 3 (OMIM:616900): n=27\n",
      "We found a total of 74 unique HPO terms\n",
      "Extracted disease: Hypotonia, infantile, with psychomotor retardation and characteristic facies 3 (OMIM:616900)\n",
      "Wrote HPOA disease file to OMIM-616900.tab\n"
     ]
    },
    {
     "data": {
      "text/html": [
       "<div>\n",
       "<style scoped>\n",
       "    .dataframe tbody tr th:only-of-type {\n",
       "        vertical-align: middle;\n",
       "    }\n",
       "\n",
       "    .dataframe tbody tr th {\n",
       "        vertical-align: top;\n",
       "    }\n",
       "\n",
       "    .dataframe thead th {\n",
       "        text-align: right;\n",
       "    }\n",
       "</style>\n",
       "<table border=\"1\" class=\"dataframe\">\n",
       "  <thead>\n",
       "    <tr style=\"text-align: right;\">\n",
       "      <th></th>\n",
       "      <th>#diseaseID</th>\n",
       "      <th>diseaseName</th>\n",
       "      <th>phenotypeID</th>\n",
       "      <th>phenotypeName</th>\n",
       "      <th>onsetID</th>\n",
       "      <th>onsetName</th>\n",
       "      <th>frequency</th>\n",
       "      <th>sex</th>\n",
       "      <th>negation</th>\n",
       "      <th>modifier</th>\n",
       "      <th>description</th>\n",
       "      <th>publication</th>\n",
       "      <th>evidence</th>\n",
       "      <th>biocuration</th>\n",
       "    </tr>\n",
       "  </thead>\n",
       "  <tbody>\n",
       "    <tr>\n",
       "      <th>0</th>\n",
       "      <td>OMIM:616900</td>\n",
       "      <td>Hypotonia, infantile, with psychomotor retarda...</td>\n",
       "      <td>HP:0000256</td>\n",
       "      <td>Macrocephaly</td>\n",
       "      <td></td>\n",
       "      <td></td>\n",
       "      <td>4/13</td>\n",
       "      <td></td>\n",
       "      <td></td>\n",
       "      <td></td>\n",
       "      <td></td>\n",
       "      <td>PMID:27040691</td>\n",
       "      <td>PCS</td>\n",
       "      <td>ORCID:0000-0002-0736-9199[2024-10-04]</td>\n",
       "    </tr>\n",
       "    <tr>\n",
       "      <th>1</th>\n",
       "      <td>OMIM:616900</td>\n",
       "      <td>Hypotonia, infantile, with psychomotor retarda...</td>\n",
       "      <td>HP:0001344</td>\n",
       "      <td>Absent speech</td>\n",
       "      <td></td>\n",
       "      <td></td>\n",
       "      <td>7/13</td>\n",
       "      <td></td>\n",
       "      <td></td>\n",
       "      <td></td>\n",
       "      <td></td>\n",
       "      <td>PMID:27040691</td>\n",
       "      <td>PCS</td>\n",
       "      <td>ORCID:0000-0002-0736-9199[2024-10-04]</td>\n",
       "    </tr>\n",
       "    <tr>\n",
       "      <th>2</th>\n",
       "      <td>OMIM:616900</td>\n",
       "      <td>Hypotonia, infantile, with psychomotor retarda...</td>\n",
       "      <td>HP:0001270</td>\n",
       "      <td>Motor delay</td>\n",
       "      <td></td>\n",
       "      <td></td>\n",
       "      <td>12/13</td>\n",
       "      <td></td>\n",
       "      <td></td>\n",
       "      <td></td>\n",
       "      <td></td>\n",
       "      <td>PMID:27040691</td>\n",
       "      <td>PCS</td>\n",
       "      <td>ORCID:0000-0002-0736-9199[2024-10-04]</td>\n",
       "    </tr>\n",
       "    <tr>\n",
       "      <th>3</th>\n",
       "      <td>OMIM:616900</td>\n",
       "      <td>Hypotonia, infantile, with psychomotor retarda...</td>\n",
       "      <td>HP:0001263</td>\n",
       "      <td>Global developmental delay</td>\n",
       "      <td></td>\n",
       "      <td></td>\n",
       "      <td>13/13</td>\n",
       "      <td></td>\n",
       "      <td></td>\n",
       "      <td></td>\n",
       "      <td></td>\n",
       "      <td>PMID:27040691</td>\n",
       "      <td>PCS</td>\n",
       "      <td>ORCID:0000-0002-0736-9199[2024-10-04]</td>\n",
       "    </tr>\n",
       "    <tr>\n",
       "      <th>4</th>\n",
       "      <td>OMIM:616900</td>\n",
       "      <td>Hypotonia, infantile, with psychomotor retarda...</td>\n",
       "      <td>HP:0001265</td>\n",
       "      <td>Hyporeflexia</td>\n",
       "      <td></td>\n",
       "      <td></td>\n",
       "      <td>8/11</td>\n",
       "      <td></td>\n",
       "      <td></td>\n",
       "      <td></td>\n",
       "      <td></td>\n",
       "      <td>PMID:27040691</td>\n",
       "      <td>PCS</td>\n",
       "      <td>ORCID:0000-0002-0736-9199[2024-10-04]</td>\n",
       "    </tr>\n",
       "  </tbody>\n",
       "</table>\n",
       "</div>"
      ],
      "text/plain": [
       "    #diseaseID                                        diseaseName phenotypeID  \\\n",
       "0  OMIM:616900  Hypotonia, infantile, with psychomotor retarda...  HP:0000256   \n",
       "1  OMIM:616900  Hypotonia, infantile, with psychomotor retarda...  HP:0001344   \n",
       "2  OMIM:616900  Hypotonia, infantile, with psychomotor retarda...  HP:0001270   \n",
       "3  OMIM:616900  Hypotonia, infantile, with psychomotor retarda...  HP:0001263   \n",
       "4  OMIM:616900  Hypotonia, infantile, with psychomotor retarda...  HP:0001265   \n",
       "\n",
       "                phenotypeName onsetID onsetName frequency sex negation  \\\n",
       "0                Macrocephaly                        4/13                \n",
       "1               Absent speech                        7/13                \n",
       "2                 Motor delay                       12/13                \n",
       "3  Global developmental delay                       13/13                \n",
       "4                Hyporeflexia                        8/11                \n",
       "\n",
       "  modifier description    publication evidence  \\\n",
       "0                       PMID:27040691      PCS   \n",
       "1                       PMID:27040691      PCS   \n",
       "2                       PMID:27040691      PCS   \n",
       "3                       PMID:27040691      PCS   \n",
       "4                       PMID:27040691      PCS   \n",
       "\n",
       "                             biocuration  \n",
       "0  ORCID:0000-0002-0736-9199[2024-10-04]  \n",
       "1  ORCID:0000-0002-0736-9199[2024-10-04]  \n",
       "2  ORCID:0000-0002-0736-9199[2024-10-04]  \n",
       "3  ORCID:0000-0002-0736-9199[2024-10-04]  \n",
       "4  ORCID:0000-0002-0736-9199[2024-10-04]  "
      ]
     },
     "execution_count": 14,
     "metadata": {},
     "output_type": "execute_result"
    }
   ],
   "source": [
    "pmid = \"PMID:26805781\"\n",
    "df = timporter.create_hpoa_from_phenopackets(pmid=pmid, mode_of_inheritance=Moi.AR, target=\"OMIM:616900\")\n",
    "df.head()"
   ]
  },
  {
   "cell_type": "code",
   "execution_count": null,
   "metadata": {},
   "outputs": [],
   "source": []
  }
 ],
 "metadata": {
  "kernelspec": {
   "display_name": "ps24venv",
   "language": "python",
   "name": "python3"
  },
  "language_info": {
   "codemirror_mode": {
    "name": "ipython",
    "version": 3
   },
   "file_extension": ".py",
   "mimetype": "text/x-python",
   "name": "python",
   "nbconvert_exporter": "python",
   "pygments_lexer": "ipython3",
   "version": "3.12.4"
  }
 },
 "nbformat": 4,
 "nbformat_minor": 2
}
