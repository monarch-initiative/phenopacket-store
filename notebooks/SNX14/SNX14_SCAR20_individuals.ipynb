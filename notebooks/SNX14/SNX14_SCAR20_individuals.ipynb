{
 "cells": [
  {
   "cell_type": "markdown",
   "metadata": {},
   "source": [
    "# SNX14\n",
    "[spinocerebellar ataxia-20 (SCAR20)](https://omim.org/entry/616354) is caused by homozygous mutation in the SNX14 gene"
   ]
  },
  {
   "cell_type": "code",
   "execution_count": 5,
   "metadata": {},
   "outputs": [
    {
     "name": "stdout",
     "output_type": "stream",
     "text": [
      "Using pyphetools version 0.9.78\n"
     ]
    }
   ],
   "source": [
    "from pyphetools.creation import TemplateImporter\n",
    "from pyphetools.visualization import IndividualTable, QcVisualizer\n",
    "from IPython.display import display, HTML\n",
    "import pyphetools\n",
    "print(f\"Using pyphetools version {pyphetools.__version__}\")"
   ]
  },
  {
   "cell_type": "code",
   "execution_count": 7,
   "metadata": {},
   "outputs": [],
   "source": [
    "template = \"input/SNX14_SCAR20_individuals.xlsx\"\n",
    "hp_json = \"../hp.json\"\n",
    "created_by = \"0000-0002-0736-9199\""
   ]
  },
  {
   "cell_type": "code",
   "execution_count": 14,
   "metadata": {},
   "outputs": [
    {
     "name": "stdout",
     "output_type": "stream",
     "text": [
      "HPO version 2024-04-04\n",
      "Created encoders for 67 fields\n",
      "Importing OMIM:616354, Spinocerebellar ataxia, autosomal recessive 20, HGNC:14977, SNX14,  NM_153816.6\n",
      "We output 9 GA4GH phenopackets to the directory phenopackets\n"
     ]
    }
   ],
   "source": [
    "timporter = TemplateImporter(template=template, hp_json=hp_json, created_by=created_by)\n",
    "individual_list, cvalidator = timporter.import_phenopackets_from_template()"
   ]
  },
  {
   "cell_type": "code",
   "execution_count": 15,
   "metadata": {},
   "outputs": [
    {
     "data": {
      "text/html": [
       "<h2>Cohort validation</h2>\n",
       "<p>No errors found for the cohort with 9 individuals</p>"
      ],
      "text/plain": [
       "<IPython.core.display.HTML object>"
      ]
     },
     "metadata": {},
     "output_type": "display_data"
    }
   ],
   "source": [
    "qc = QcVisualizer(cohort_validator=cvalidator)\n",
    "display(HTML(qc.to_summary_html()))"
   ]
  },
  {
   "cell_type": "code",
   "execution_count": 16,
   "metadata": {},
   "outputs": [
    {
     "data": {
      "text/html": [
       "<table style=\"border: 2px solid black; align: \"left\">\n",
       "<caption>9 phenopackets - PMID:25439728 (n=7); PMID:30473892 (n=2)</caption>\n",
       "<tr><th style=\"text-align: left;font-weight: bold;\">Individual</th><th style=\"text-align: left;font-weight: bold;\">Disease</th><th style=\"text-align: left;font-weight: bold;\">Genotype</th><th style=\"text-align: left;font-weight: bold;\">Phenotypic features</th></tr>\n",
       "<tr><td style=\"text-align: left;\">IV.3 (FEMALE; P26Y)</td><td style=\"text-align: left;\">Spinocerebellar ataxia, autosomal recessive 20 (OMIM:616354)</td><td style=\"text-align: left;\">NM_153816.6:c.2596C>T (homozygous)</td><td style=\"text-align: left;\">Intellectual disability (HP:0001249); Delayed ability to sit (HP:0025336); Delayed ability to walk (HP:0031936); Hyporeflexia (HP:0001265); Cerebellar atrophy (HP:0001272); Absent speech (HP:0001344); Ataxia (HP:0001251); Contracture of the proximal interphalangeal joint of the 5th finger (HP:0009185); Hypotonia (HP:0001252); Brachydactyly (HP:0001156); Limited elbow movement (HP:0002996); Thick vermilion border (HP:0012471); Short palpebral fissure (HP:0012745); Long philtrum (HP:0000343); Bulbous nose (HP:0000414); Coarse facial features (HP:0000280); Sensorineural hearing impairment (HP:0000407); Talipes equinovarus (HP:0001762); excluded: Scoliosis (HP:0002650)</td></tr>\n",
       "<tr><td style=\"text-align: left;\">IV.6 (FEMALE; P14Y)</td><td style=\"text-align: left;\">Spinocerebellar ataxia, autosomal recessive 20 (OMIM:616354)</td><td style=\"text-align: left;\">NM_153816.6:c.2596C>T (homozygous)</td><td style=\"text-align: left;\">Intellectual disability (HP:0001249); Delayed ability to sit (HP:0025336); Delayed ability to walk (HP:0031936); Hyporeflexia (HP:0001265); Cerebellar atrophy (HP:0001272); Ataxia (HP:0001251); Contracture of the proximal interphalangeal joint of the 5th finger (HP:0009185); Hypotonia (HP:0001252); Brachydactyly (HP:0001156); Limited elbow movement (HP:0002996); Thick vermilion border (HP:0012471); Short palpebral fissure (HP:0012745); Long philtrum (HP:0000343); Bulbous nose (HP:0000414); Coarse facial features (HP:0000280); Sensorineural hearing impairment (HP:0000407); Talipes equinovarus (HP:0001762); excluded: Absent speech (HP:0001344); excluded: Scoliosis (HP:0002650)</td></tr>\n",
       "<tr><td style=\"text-align: left;\">IV.1 (FEMALE; P32Y)</td><td style=\"text-align: left;\">Spinocerebellar ataxia, autosomal recessive 20 (OMIM:616354)</td><td style=\"text-align: left;\">NM_153816.6:c.1108+1181_2108-2342del (homozygous)</td><td style=\"text-align: left;\">Intellectual disability (HP:0001249); Delayed ability to sit (HP:0025336); Delayed ability to walk (HP:0031936); Hyporeflexia (HP:0001265); Cerebellar atrophy (HP:0001272); Absent speech (HP:0001344); Contracture of the proximal interphalangeal joint of the 5th finger (HP:0009185); Scoliosis (HP:0002650); Brachydactyly (HP:0001156); Thick vermilion border (HP:0012471); Short palpebral fissure (HP:0012745); Long philtrum (HP:0000343); Bulbous nose (HP:0000414); Coarse facial features (HP:0000280); Talipes equinovarus (HP:0001762); excluded: Hypotonia (HP:0001252); excluded: Sensorineural hearing impairment (HP:0000407)</td></tr>\n",
       "<tr><td style=\"text-align: left;\">IV.2 (MALE; P16Y)</td><td style=\"text-align: left;\">Spinocerebellar ataxia, autosomal recessive 20 (OMIM:616354)</td><td style=\"text-align: left;\">NM_153816.6:c.1108+1181_2108-2342del (homozygous)</td><td style=\"text-align: left;\">Intellectual disability (HP:0001249); Delayed ability to sit (HP:0025336); Delayed ability to walk (HP:0031936); Hyporeflexia (HP:0001265); Absent speech (HP:0001344); Contracture of the proximal interphalangeal joint of the 5th finger (HP:0009185); Scoliosis (HP:0002650); Hypotonia (HP:0001252); Brachydactyly (HP:0001156); Thick vermilion border (HP:0012471); Short palpebral fissure (HP:0012745); Long philtrum (HP:0000343); Bulbous nose (HP:0000414); Coarse facial features (HP:0000280); Sensorineural hearing impairment (HP:0000407); excluded: Cerebellar atrophy (HP:0001272); excluded: Limited elbow movement (HP:0002996)</td></tr>\n",
       "<tr><td style=\"text-align: left;\">V.1 (FEMALE; P10Y)</td><td style=\"text-align: left;\">Spinocerebellar ataxia, autosomal recessive 20 (OMIM:616354)</td><td style=\"text-align: left;\">NM_153816.6:c.1108+1181_2108-2342del (homozygous)</td><td style=\"text-align: left;\">Intellectual disability (HP:0001249); Delayed ability to walk (HP:0031936); Cerebellar atrophy (HP:0001272); Absent speech (HP:0001344); Ataxia (HP:0001251); Contracture of the proximal interphalangeal joint of the 5th finger (HP:0009185); Hypotonia (HP:0001252); Brachydactyly (HP:0001156); Thick vermilion border (HP:0012471); Short palpebral fissure (HP:0012745); Long philtrum (HP:0000343); Bulbous nose (HP:0000414); Coarse facial features (HP:0000280); Sensorineural hearing impairment (HP:0000407); excluded: Delayed ability to sit (HP:0025336); excluded: Hyporeflexia (HP:0001265); excluded: Scoliosis (HP:0002650); excluded: Limited elbow movement (HP:0002996); excluded: Talipes equinovarus (HP:0001762)</td></tr>\n",
       "<tr><td style=\"text-align: left;\">V.2 (MALE; P3Y)</td><td style=\"text-align: left;\">Spinocerebellar ataxia, autosomal recessive 20 (OMIM:616354)</td><td style=\"text-align: left;\">NM_153816.6:c.1108+1181_2108-2342del (homozygous)</td><td style=\"text-align: left;\">Delayed ability to sit (HP:0025336); Absent speech (HP:0001344); Hypotonia (HP:0001252); Brachydactyly (HP:0001156); Thick vermilion border (HP:0012471); Short palpebral fissure (HP:0012745); Long philtrum (HP:0000343); Bulbous nose (HP:0000414); Coarse facial features (HP:0000280); excluded: Delayed ability to walk (HP:0031936); excluded: Cerebellar atrophy (HP:0001272); excluded: Contracture of the proximal interphalangeal joint of the 5th finger (HP:0009185); excluded: Scoliosis (HP:0002650); excluded: Limited elbow movement (HP:0002996); excluded: Sensorineural hearing impairment (HP:0000407); excluded: Talipes equinovarus (HP:0001762)</td></tr>\n",
       "<tr><td style=\"text-align: left;\">III.2 (FEMALE; P23Y)</td><td style=\"text-align: left;\">Spinocerebellar ataxia, autosomal recessive 20 (OMIM:616354)</td><td style=\"text-align: left;\">NM_153816.6:c.1894+1G>A (homozygous)</td><td style=\"text-align: left;\">Intellectual disability (HP:0001249); Delayed ability to sit (HP:0025336); Hyporeflexia (HP:0001265); Cerebellar atrophy (HP:0001272); Ataxia (HP:0001251); Contracture of the proximal interphalangeal joint of the 5th finger (HP:0009185); Hypotonia (HP:0001252); Brachydactyly (HP:0001156); Limited elbow movement (HP:0002996); Thick vermilion border (HP:0012471); Bulbous nose (HP:0000414); Coarse facial features (HP:0000280); Sensorineural hearing impairment (HP:0000407); excluded: Delayed ability to walk (HP:0031936); excluded: Absent speech (HP:0001344); excluded: Scoliosis (HP:0002650); excluded: Short palpebral fissure (HP:0012745); excluded: Long philtrum (HP:0000343); excluded: Talipes equinovarus (HP:0001762)</td></tr>\n",
       "<tr><td style=\"text-align: left;\">index patient IV-1 (FEMALE; P6Y9M)</td><td style=\"text-align: left;\">Spinocerebellar ataxia, autosomal recessive 20 (OMIM:616354)</td><td style=\"text-align: left;\">NM_153816.6:c.2319_2322del (homozygous)</td><td style=\"text-align: left;\"><b>P4M</b>: Recurrent lower respiratory tract infections (HP:0002783)<br/>Cerebellar atrophy (HP:0001272); Hypotonia (HP:0001252); Depressed nasal bridge (HP:0005280); Epicanthus (HP:0000286); Hypertelorism (HP:0000316); Coarse facial features (HP:0000280); Nystagmus (HP:0000639); Bronchomalacia (HP:0002780); Secundum atrial septal defect (HP:0001684); excluded: Seizure (HP:0001250); excluded: Narrow forehead (HP:0000341); excluded: Sensorineural hearing impairment (HP:0000407); excluded: Hepatomegaly (HP:0002240); excluded: Splenomegaly (HP:0001744)</td></tr>\n",
       "<tr><td style=\"text-align: left;\">IV-2 sister (FEMALE; P3Y)</td><td style=\"text-align: left;\">Spinocerebellar ataxia, autosomal recessive 20 (OMIM:616354)</td><td style=\"text-align: left;\">NM_153816.6:c.2319_2322del (homozygous)</td><td style=\"text-align: left;\">Hyporeflexia (HP:0001265); Hypotonia (HP:0001252); Narrow forehead (HP:0000341); Depressed nasal bridge (HP:0005280); Coarse facial features (HP:0000280); Sensorineural hearing impairment (HP:0000407); Hepatomegaly (HP:0002240); Splenomegaly (HP:0001744); excluded: Seizure (HP:0001250)</td></tr>\n",
       "</table>"
      ],
      "text/plain": [
       "<IPython.core.display.HTML object>"
      ]
     },
     "metadata": {},
     "output_type": "display_data"
    }
   ],
   "source": [
    "table = IndividualTable(cvalidator.get_error_free_individual_list())\n",
    "display(HTML(table.to_html()))"
   ]
  },
  {
   "cell_type": "code",
   "execution_count": 17,
   "metadata": {},
   "outputs": [
    {
     "name": "stdout",
     "output_type": "stream",
     "text": [
      "[pyphetools] Ingested 9 GA4GH phenopackets.\n",
      "\tSpinocerebellar ataxia, autosomal recessive 20 (OMIM:616354): n=9\n",
      "We found a total of 30 unique HPO terms\n",
      "Extracted disease: Spinocerebellar ataxia, autosomal recessive 20 (OMIM:616354)\n",
      "Wrote HPOA disease file to OMIM-616354.tab\n"
     ]
    }
   ],
   "source": [
    "pmid = \"PMID:25439728\"\n",
    "df = timporter.create_hpoa_from_phenopackets(pmid=pmid, moi=\"Autosomal recessive\")"
   ]
  }
 ],
 "metadata": {
  "kernelspec": {
   "display_name": "ps24venv",
   "language": "python",
   "name": "python3"
  },
  "language_info": {
   "codemirror_mode": {
    "name": "ipython",
    "version": 3
   },
   "file_extension": ".py",
   "mimetype": "text/x-python",
   "name": "python",
   "nbconvert_exporter": "python",
   "pygments_lexer": "ipython3",
   "version": "3.9.6"
  }
 },
 "nbformat": 4,
 "nbformat_minor": 2
}
