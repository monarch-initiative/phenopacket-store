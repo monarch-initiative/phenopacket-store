{
 "cells": [
  {
   "cell_type": "markdown",
   "metadata": {},
   "source": [
    "# CD28\n",
    "[immunodeficiency-123 with HPV-related verrucosis (IMD123)](https://omim.org/entry/620901) is caused by homozygous mutation in the CD28 gene."
   ]
  },
  {
   "cell_type": "code",
   "execution_count": 1,
   "metadata": {},
   "outputs": [
    {
     "name": "stdout",
     "output_type": "stream",
     "text": [
      "Using pyphetools version 0.9.115\n"
     ]
    }
   ],
   "source": [
    "from pyphetools.creation import TemplateImporter, Moi\n",
    "from pyphetools.visualization import IndividualTable, QcVisualizer\n",
    "from IPython.display import display, HTML\n",
    "import pyphetools\n",
    "print(f\"Using pyphetools version {pyphetools.__version__}\")"
   ]
  },
  {
   "cell_type": "code",
   "execution_count": 2,
   "metadata": {},
   "outputs": [],
   "source": [
    "template = \"input/CD28_IMD123_individuals.xlsx\"\n",
    "created_by = \"0000-0002-0736-9199\""
   ]
  },
  {
   "cell_type": "code",
   "execution_count": 3,
   "metadata": {},
   "outputs": [
    {
     "name": "stdout",
     "output_type": "stream",
     "text": [
      "HPO version 2024-12-12\n",
      "Created encoders for 27 fields\n",
      "Importing OMIM:620901, Immunodeficiency 123 with HPV-related verrucosis, HGNC:1653, CD28,  NM_006139.4\n",
      "[INFO] encoding variant \"c.52G>A\"\n",
      "https://rest.variantvalidator.org/VariantValidator/variantvalidator/hg38/NM_006139.4%3Ac.52G>A/NM_006139.4?content-type=application%2Fjson\n",
      "We output 3 GA4GH phenopackets to the directory phenopackets\n"
     ]
    }
   ],
   "source": [
    "timporter = TemplateImporter(template=template,  created_by=created_by)\n",
    "individual_list, cvalidator = timporter.import_phenopackets_from_template()"
   ]
  },
  {
   "cell_type": "code",
   "execution_count": 4,
   "metadata": {},
   "outputs": [
    {
     "data": {
      "text/html": [
       "<h2>Cohort validation</h2>\n",
       "<p>Errors found with 2 of 3 phenopackets.</p>\n",
       "<table style=\"border: 2px solid black; align: \"left\">\n",
       "<caption>Error counts</caption>\n",
       "<tr><th style=\"text-align: left;font-weight: bold;\">Level</th><th style=\"text-align: left;font-weight: bold;\">Error category</th><th style=\"text-align: left;font-weight: bold;\">Count</th></tr>\n",
       "<tr><td style=\"text-align: left;\">WARNING</td><td style=\"text-align: left;\">REDUNDANT</td><td style=\"text-align: left;\">3</td></tr>\n",
       "</table>\n",
       "<p>A total of 3 issues were fixed and no individual was removed from the cohort.</p>"
      ],
      "text/plain": [
       "<IPython.core.display.HTML object>"
      ]
     },
     "metadata": {},
     "output_type": "display_data"
    }
   ],
   "source": [
    "qc = QcVisualizer(cohort_validator=cvalidator)\n",
    "display(HTML(qc.to_summary_html()))"
   ]
  },
  {
   "cell_type": "code",
   "execution_count": 5,
   "metadata": {},
   "outputs": [
    {
     "data": {
      "text/html": [
       "<table style=\"border: 2px solid black; align: \"left\">\n",
       "<caption>3 phenopackets - PMID:34214472 (n=3)</caption>\n",
       "<tr><th style=\"text-align: left;font-weight: bold;\">Individual</th><th style=\"text-align: left;font-weight: bold;\">Disease</th><th style=\"text-align: left;font-weight: bold;\">Genotype</th><th style=\"text-align: left;font-weight: bold;\">Phenotypic features</th></tr>\n",
       "<tr><td style=\"text-align: left;\">patient P1 (MALE; P30Y)</td><td style=\"text-align: left;\">Immunodeficiency 123 with HPV-related verrucosis (OMIM:620901)</td><td style=\"text-align: left;\">NM_006139.4:c.52G>A (homozygous)</td><td style=\"text-align: left;\">Cutaneous horn (HP:0033510): onset ; Disseminated cutaneous warts (HP:0032215): onset ; Persistent CMV viremia (HP:0032247): onset ; Persistent EBV viremia (HP:0020072): onset ; excluded: Recurrent otitis media (HP:0000403): onset ; excluded: Molluscum contagiosum (HP:0032163): onset ; excluded: Genital warts (HP:0032301): onset ; excluded: Verruca plana (HP:0550004): onset </td></tr>\n",
       "<tr><td style=\"text-align: left;\">patient P2 (MALE; P40Y)</td><td style=\"text-align: left;\">Immunodeficiency 123 with HPV-related verrucosis (OMIM:620901)</td><td style=\"text-align: left;\">NM_006139.4:c.52G>A (homozygous)</td><td style=\"text-align: left;\">Verrucae (HP:0200043): onset ; Recurrent otitis media (HP:0000403): onset ; Persistent CMV viremia (HP:0032247): onset ; Persistent EBV viremia (HP:0020072): onset ; excluded: Cutaneous horn (HP:0033510): onset ; excluded: Disseminated cutaneous warts (HP:0032215): onset ; excluded: Molluscum contagiosum (HP:0032163): onset ; excluded: Genital warts (HP:0032301): onset ; excluded: Verruca plana (HP:0550004): onset </td></tr>\n",
       "<tr><td style=\"text-align: left;\">patient P3 (FEMALE; P12Y)</td><td style=\"text-align: left;\">Immunodeficiency 123 with HPV-related verrucosis (OMIM:620901)</td><td style=\"text-align: left;\">NM_006139.4:c.52G>A (homozygous)</td><td style=\"text-align: left;\">Verrucae (HP:0200043): onset ; Persistent EBV viremia (HP:0020072): onset ; excluded: Cutaneous horn (HP:0033510): onset ; excluded: Recurrent otitis media (HP:0000403): onset ; excluded: Disseminated cutaneous warts (HP:0032215): onset ; excluded: Molluscum contagiosum (HP:0032163): onset ; excluded: Genital warts (HP:0032301): onset ; excluded: Verruca plana (HP:0550004): onset </td></tr>\n",
       "</table>"
      ],
      "text/plain": [
       "<IPython.core.display.HTML object>"
      ]
     },
     "metadata": {},
     "output_type": "display_data"
    }
   ],
   "source": [
    "table = IndividualTable(cvalidator.get_error_free_individual_list())\n",
    "display(HTML(table.to_html()))"
   ]
  },
  {
   "cell_type": "code",
   "execution_count": 6,
   "metadata": {},
   "outputs": [
    {
     "name": "stdout",
     "output_type": "stream",
     "text": [
      "[pyphetools] Ingested 3 GA4GH phenopackets.\n",
      "[INFO] Extracted 3 from 3 phenopackets with OMIM:620901\n",
      "\n",
      "\tImmunodeficiency 123 with HPV-related verrucosis (OMIM:620901): n=3\n",
      "We found a total of 9 unique HPO terms\n",
      "Extracted disease: Immunodeficiency 123 with HPV-related verrucosis (OMIM:620901)\n",
      "Wrote HPOA disease file to OMIM-620901.tab\n"
     ]
    }
   ],
   "source": [
    "pmid = \"PMID:34214472\"\n",
    "df = timporter.create_hpoa_from_phenopackets(pmid=pmid, mode_of_inheritance=Moi.AR, target=\"OMIM:620901\")"
   ]
  }
 ],
 "metadata": {
  "kernelspec": {
   "display_name": "ps24venv",
   "language": "python",
   "name": "python3"
  },
  "language_info": {
   "codemirror_mode": {
    "name": "ipython",
    "version": 3
   },
   "file_extension": ".py",
   "mimetype": "text/x-python",
   "name": "python",
   "nbconvert_exporter": "python",
   "pygments_lexer": "ipython3",
   "version": "3.12.4"
  }
 },
 "nbformat": 4,
 "nbformat_minor": 2
}
