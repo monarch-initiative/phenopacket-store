{
 "cells": [
  {
   "cell_type": "markdown",
   "metadata": {},
   "source": [
    "# NFU1\n",
    "[autosomal recessive spastic paraplegia-93 (SPG93) ](https://omim.org/entry/620938) is caused by homozygous or compound heterozygous mutation in the NFU1 gene."
   ]
  },
  {
   "cell_type": "code",
   "execution_count": 1,
   "metadata": {},
   "outputs": [
    {
     "name": "stdout",
     "output_type": "stream",
     "text": [
      "Using pyphetools version 0.9.115\n"
     ]
    }
   ],
   "source": [
    "from pyphetools.creation import TemplateImporter, Moi\n",
    "from pyphetools.visualization import IndividualTable, QcVisualizer\n",
    "from IPython.display import display, HTML\n",
    "import pyphetools\n",
    "print(f\"Using pyphetools version {pyphetools.__version__}\")"
   ]
  },
  {
   "cell_type": "code",
   "execution_count": 2,
   "metadata": {},
   "outputs": [],
   "source": [
    "template = \"input/NFU1_SPG93_individuals.xlsx\"\n",
    "created_by = \"0000-0002-0736-9199\""
   ]
  },
  {
   "cell_type": "code",
   "execution_count": 28,
   "metadata": {},
   "outputs": [
    {
     "name": "stdout",
     "output_type": "stream",
     "text": [
      "HPO version 2024-12-12\n",
      "Created encoders for 63 fields\n",
      "Importing OMIM:620938, Spastic paraplegia 93, autosomal recessive, HGNC:16287, NFU1,  NM_001002755.4\n",
      "We output 21 GA4GH phenopackets to the directory phenopackets\n"
     ]
    }
   ],
   "source": [
    "timporter = TemplateImporter(template=template,  created_by=created_by)\n",
    "individual_list, cvalidator = timporter.import_phenopackets_from_template()"
   ]
  },
  {
   "cell_type": "code",
   "execution_count": 29,
   "metadata": {},
   "outputs": [
    {
     "data": {
      "text/html": [
       "<h2>Cohort validation</h2>\n",
       "<p>Errors found with 17 of 21 phenopackets.</p>\n",
       "<table style=\"border: 2px solid black; align: \"left\">\n",
       "<caption>Error counts</caption>\n",
       "<tr><th style=\"text-align: left;font-weight: bold;\">Level</th><th style=\"text-align: left;font-weight: bold;\">Error category</th><th style=\"text-align: left;font-weight: bold;\">Count</th></tr>\n",
       "<tr><td style=\"text-align: left;\">WARNING</td><td style=\"text-align: left;\">REDUNDANT</td><td style=\"text-align: left;\">21</td></tr>\n",
       "</table>\n",
       "<p>A total of 21 issues were fixed and no individual was removed from the cohort.</p>"
      ],
      "text/plain": [
       "<IPython.core.display.HTML object>"
      ]
     },
     "metadata": {},
     "output_type": "display_data"
    }
   ],
   "source": [
    "qc = QcVisualizer(cohort_validator=cvalidator)\n",
    "display(HTML(qc.to_summary_html()))"
   ]
  },
  {
   "cell_type": "code",
   "execution_count": 30,
   "metadata": {},
   "outputs": [
    {
     "data": {
      "text/html": [
       "<table style=\"border: 2px solid black; align: \"left\">\n",
       "<caption>21 phenopackets - PMID:36256512 (n=19); PMID:25758857 (n=1); PMID:32747156 (n=1)</caption>\n",
       "<tr><th style=\"text-align: left;font-weight: bold;\">Individual</th><th style=\"text-align: left;font-weight: bold;\">Disease</th><th style=\"text-align: left;font-weight: bold;\">Genotype</th><th style=\"text-align: left;font-weight: bold;\">Phenotypic features</th></tr>\n",
       "<tr><td style=\"text-align: left;\">F1-II:1  (FEMALE; P17Y)</td><td style=\"text-align: left;\">Spastic paraplegia 93, autosomal recessive (OMIM:620938)</td><td style=\"text-align: left;\">NM_001002755.4:c.721G>C (homozygous)</td><td style=\"text-align: left;\">Developmental regression (HP:0002376): onset ; Strabismus (HP:0000486): onset ; External ophthalmoplegia (HP:0000544): onset ; Brisk reflexes (HP:0001348): onset ; Hypoplasia of the corpus callosum (HP:0002079): onset ; Enlarged cisterna magna (HP:0002280): onset ; excluded: Global developmental delay (HP:0001263): onset ; excluded: Lactic acidosis (HP:0003128): onset ; excluded: Nystagmus (HP:0000639): onset ; excluded: Optic atrophy (HP:0000648): onset ; excluded: Ptosis (HP:0000508): onset ; excluded: Knee clonus (HP:0011449): onset ; excluded: Ankle clonus (HP:0011448): onset ; excluded: Babinski sign (HP:0003487): onset ; excluded: Reduced cerebral white matter volume (HP:0034295): onset ; excluded: Peripheral demyelination (HP:0011096): onset ; excluded: Encephalopathy (HP:0001298): onset ; excluded: Talipes equinovarus (HP:0001762): onset ; excluded: Peripheral neuropathy (HP:0009830): onset <br/><b>TimeElement(element=Age(iso8601duration=P9M14D))</b>: Spastic paraplegia (HP:0001258): onset age {\n",
       "  iso8601duration: \"P9M14D\"\n",
       "}\n",
       "</td></tr>\n",
       "<tr><td style=\"text-align: left;\">F1-II:2  (FEMALE; P10Y)</td><td style=\"text-align: left;\">Spastic paraplegia 93, autosomal recessive (OMIM:620938)</td><td style=\"text-align: left;\">NM_001002755.4:c.721G>C (homozygous)</td><td style=\"text-align: left;\">Delayed ability to walk (HP:0031936): onset ; Strabismus (HP:0000486): onset ; Hypertonia (HP:0001276): onset ; Brisk reflexes (HP:0001348): onset ; Reduced cerebral white matter volume (HP:0034295): onset ; Hypoplasia of the corpus callosum (HP:0002079): onset ; Enlarged cisterna magna (HP:0002280): onset ; excluded: Global developmental delay (HP:0001263): onset ; excluded: Lactic acidosis (HP:0003128): onset ; excluded: Developmental regression (HP:0002376): onset ; excluded: Nystagmus (HP:0000639): onset ; excluded: Optic atrophy (HP:0000648): onset ; excluded: Ptosis (HP:0000508): onset ; excluded: External ophthalmoplegia (HP:0000544): onset ; excluded: Knee clonus (HP:0011449): onset ; excluded: Ankle clonus (HP:0011448): onset ; excluded: Babinski sign (HP:0003487): onset ; excluded: Peripheral demyelination (HP:0011096): onset ; excluded: Encephalopathy (HP:0001298): onset ; excluded: Talipes equinovarus (HP:0001762): onset ; excluded: Peripheral neuropathy (HP:0009830): onset <br/><b>TimeElement(element=Age(iso8601duration=P6M))</b>: Paraplegia (HP:0010550): onset age {\n",
       "  iso8601duration: \"P6M\"\n",
       "}\n",
       "</td></tr>\n",
       "<tr><td style=\"text-align: left;\">F2-II:1 (MALE; P25Y)</td><td style=\"text-align: left;\">Spastic paraplegia 93, autosomal recessive (OMIM:620938)</td><td style=\"text-align: left;\"><ul> <li>NM_001002755.4:c.298G>C (heterozygous)</li> <li>NM_001002755.4:c.301A>G (heterozygous)</li> </ul></td><td style=\"text-align: left;\">Developmental regression (HP:0002376): onset ; Hypertonia (HP:0001276): onset ; Brisk reflexes (HP:0001348): onset ; Clonus (HP:0002169): onset ; excluded: Gait ataxia (HP:0002066): onset ; excluded: Global developmental delay (HP:0001263): onset ; excluded: Lactic acidosis (HP:0003128): onset ; excluded: Babinski sign (HP:0003487): onset ; excluded: Reduced cerebral white matter volume (HP:0034295): onset ; excluded: Hypoplasia of the corpus callosum (HP:0002079): onset ; excluded: Peripheral demyelination (HP:0011096): onset ; excluded: Enlarged cisterna magna (HP:0002280): onset ; excluded: Encephalopathy (HP:0001298): onset ; excluded: Talipes equinovarus (HP:0001762): onset ; excluded: Peripheral neuropathy (HP:0009830): onset <br/><b>TimeElement(element=Age(iso8601duration=P1Y))</b>: Paraplegia (HP:0010550): onset age {\n",
       "  iso8601duration: \"P1Y\"\n",
       "}\n",
       "</td></tr>\n",
       "<tr><td style=\"text-align: left;\">F3-II:1  (FEMALE; P12Y)</td><td style=\"text-align: left;\">Spastic paraplegia 93, autosomal recessive (OMIM:620938)</td><td style=\"text-align: left;\">NM_001002755.4:c.362T>C (homozygous)</td><td style=\"text-align: left;\">Global developmental delay (HP:0001263): onset ; Delayed ability to walk (HP:0031936): onset ; Hypertonia (HP:0001276): onset ; Brisk reflexes (HP:0001348): onset ; Knee clonus (HP:0011449): onset ; excluded: Gait ataxia (HP:0002066): onset ; excluded: Lactic acidosis (HP:0003128): onset ; excluded: Developmental regression (HP:0002376): onset ; excluded: Ankle clonus (HP:0011448): onset ; excluded: Babinski sign (HP:0003487): onset ; excluded: Reduced cerebral white matter volume (HP:0034295): onset ; excluded: Hypoplasia of the corpus callosum (HP:0002079): onset ; excluded: Peripheral demyelination (HP:0011096): onset ; excluded: Enlarged cisterna magna (HP:0002280): onset ; excluded: Encephalopathy (HP:0001298): onset ; excluded: Talipes equinovarus (HP:0001762): onset ; excluded: Peripheral neuropathy (HP:0009830): onset <br/><b>TimeElement(element=Age(iso8601duration=P1Y))</b>: Paraplegia (HP:0010550): onset age {\n",
       "  iso8601duration: \"P1Y\"\n",
       "}\n",
       "</td></tr>\n",
       "<tr><td style=\"text-align: left;\">F3-II:2  (MALE; P9Y)</td><td style=\"text-align: left;\">Spastic paraplegia 93, autosomal recessive (OMIM:620938)</td><td style=\"text-align: left;\">NM_001002755.4:c.362T>C (homozygous)</td><td style=\"text-align: left;\">Global developmental delay (HP:0001263): onset ; Delayed ability to walk (HP:0031936): onset ; Hypertonia (HP:0001276): onset ; Brisk reflexes (HP:0001348): onset ; Knee clonus (HP:0011449): onset ; excluded: Gait ataxia (HP:0002066): onset ; excluded: Lactic acidosis (HP:0003128): onset ; excluded: Developmental regression (HP:0002376): onset ; excluded: Ankle clonus (HP:0011448): onset ; excluded: Babinski sign (HP:0003487): onset ; excluded: Talipes equinovarus (HP:0001762): onset ; excluded: Peripheral neuropathy (HP:0009830): onset <br/><b>TimeElement(element=Age(iso8601duration=P1Y))</b>: Paraplegia (HP:0010550): onset age {\n",
       "  iso8601duration: \"P1Y\"\n",
       "}\n",
       "</td></tr>\n",
       "<tr><td style=\"text-align: left;\">F4-II:4  (FEMALE; P2Y)</td><td style=\"text-align: left;\">Spastic paraplegia 93, autosomal recessive (OMIM:620938)</td><td style=\"text-align: left;\">NM_001002755.4:c.362T>C (homozygous)</td><td style=\"text-align: left;\">Developmental regression (HP:0002376): onset ; Delayed ability to walk (HP:0031936): onset ; Hypertonia (HP:0001276): onset ; Brisk reflexes (HP:0001348): onset ; Knee clonus (HP:0011449): onset ; Ankle clonus (HP:0011448): onset ; excluded: Gait ataxia (HP:0002066): onset ; excluded: Lactic acidosis (HP:0003128): onset ; excluded: Babinski sign (HP:0003487): onset ; excluded: Talipes equinovarus (HP:0001762): onset ; excluded: Peripheral neuropathy (HP:0009830): onset <br/><b>TimeElement(element=Age(iso8601duration=P2Y9M))</b>: Paraplegia (HP:0010550): onset age {\n",
       "  iso8601duration: \"P2Y9M\"\n",
       "}\n",
       "</td></tr>\n",
       "<tr><td style=\"text-align: left;\">F4-II:5  (FEMALE; P6Y)</td><td style=\"text-align: left;\">Spastic paraplegia 93, autosomal recessive (OMIM:620938)</td><td style=\"text-align: left;\">NM_001002755.4:c.362T>C (homozygous)</td><td style=\"text-align: left;\">Hypertonia (HP:0001276): onset ; Brisk reflexes (HP:0001348): onset ; Knee clonus (HP:0011449): onset ; Ankle clonus (HP:0011448): onset ; Reduced cerebral white matter volume (HP:0034295): onset ; Hypoplasia of the corpus callosum (HP:0002079): onset ; Enlarged cisterna magna (HP:0002280): onset ; excluded: Gait ataxia (HP:0002066): onset ; excluded: Global developmental delay (HP:0001263): onset ; excluded: Lactic acidosis (HP:0003128): onset ; excluded: Developmental regression (HP:0002376): onset ; excluded: Babinski sign (HP:0003487): onset ; excluded: Peripheral demyelination (HP:0011096): onset ; excluded: Encephalopathy (HP:0001298): onset ; excluded: Talipes equinovarus (HP:0001762): onset ; excluded: Peripheral neuropathy (HP:0009830): onset <br/><b>TimeElement(element=Age(iso8601duration=P11M))</b>: Paraplegia (HP:0010550): onset age {\n",
       "  iso8601duration: \"P11M\"\n",
       "}\n",
       "</td></tr>\n",
       "<tr><td style=\"text-align: left;\">F4-II:6  (FEMALE; P2Y6M)</td><td style=\"text-align: left;\">Spastic paraplegia 93, autosomal recessive (OMIM:620938)</td><td style=\"text-align: left;\">NM_001002755.4:c.362T>C (homozygous)</td><td style=\"text-align: left;\">Global developmental delay (HP:0001263): onset ; Developmental regression (HP:0002376): onset ; Delayed ability to walk (HP:0031936): onset ; Hypertonia (HP:0001276): onset ; Brisk reflexes (HP:0001348): onset ; Knee clonus (HP:0011449): onset ; Ankle clonus (HP:0011448): onset ; Reduced cerebral white matter volume (HP:0034295): onset ; Hypoplasia of the corpus callosum (HP:0002079): onset ; Enlarged cisterna magna (HP:0002280): onset ; excluded: Gait ataxia (HP:0002066): onset ; excluded: Lactic acidosis (HP:0003128): onset ; excluded: Babinski sign (HP:0003487): onset ; excluded: Peripheral demyelination (HP:0011096): onset ; excluded: Encephalopathy (HP:0001298): onset ; excluded: Talipes equinovarus (HP:0001762): onset ; excluded: Peripheral neuropathy (HP:0009830): onset <br/><b>TimeElement(element=Age(iso8601duration=P1Y))</b>: Paraplegia (HP:0010550): onset age {\n",
       "  iso8601duration: \"P1Y\"\n",
       "}\n",
       "</td></tr>\n",
       "<tr><td style=\"text-align: left;\">F5-II:1  (FEMALE; P6M)</td><td style=\"text-align: left;\">Spastic paraplegia 93, autosomal recessive (OMIM:620938)</td><td style=\"text-align: left;\">NM_001002755.4:c.362T>C (homozygous)</td><td style=\"text-align: left;\">Developmental regression (HP:0002376): onset ; Brisk reflexes (HP:0001348): onset ; Reduced cerebral white matter volume (HP:0034295): onset ; excluded: Gait ataxia (HP:0002066): onset ; excluded: Hypertonia (HP:0001276): onset ; excluded: Knee clonus (HP:0011449): onset ; excluded: Ankle clonus (HP:0011448): onset ; excluded: Babinski sign (HP:0003487): onset ; excluded: Hypoplasia of the corpus callosum (HP:0002079): onset ; excluded: Peripheral demyelination (HP:0011096): onset ; excluded: Enlarged cisterna magna (HP:0002280): onset ; excluded: Encephalopathy (HP:0001298): onset ; excluded: Talipes equinovarus (HP:0001762): onset ; excluded: Peripheral neuropathy (HP:0009830): onset <br/><b>TimeElement(element=Age(iso8601duration=P5M))</b>: Fever (HP:0001945): onset age {\n",
       "  iso8601duration: \"P5M\"\n",
       "}\n",
       "; Hypotonia (HP:0001252): onset age {\n",
       "  iso8601duration: \"P5M\"\n",
       "}\n",
       "; Respiratory failure (HP:0002878): onset age {\n",
       "  iso8601duration: \"P5M\"\n",
       "}\n",
       "; Acidosis (HP:0001941): onset age {\n",
       "  iso8601duration: \"P5M\"\n",
       "}\n",
       "</td></tr>\n",
       "<tr><td style=\"text-align: left;\">F5-II:2  (MALE; P4Y7M)</td><td style=\"text-align: left;\">Spastic paraplegia 93, autosomal recessive (OMIM:620938)</td><td style=\"text-align: left;\">NM_001002755.4:c.362T>C (homozygous)</td><td style=\"text-align: left;\">Developmental regression (HP:0002376): onset ; Delayed ability to walk (HP:0031936): onset ; Hypertonia (HP:0001276): onset ; Brisk reflexes (HP:0001348): onset ; Reduced cerebral white matter volume (HP:0034295): onset ; Hypoplasia of the corpus callosum (HP:0002079): onset ; Enlarged cisterna magna (HP:0002280): onset ; excluded: Gait ataxia (HP:0002066): onset ; excluded: Lactic acidosis (HP:0003128): onset ; excluded: Knee clonus (HP:0011449): onset ; excluded: Ankle clonus (HP:0011448): onset ; excluded: Babinski sign (HP:0003487): onset ; excluded: Peripheral demyelination (HP:0011096): onset ; excluded: Encephalopathy (HP:0001298): onset ; excluded: Talipes equinovarus (HP:0001762): onset ; excluded: Peripheral neuropathy (HP:0009830): onset <br/><b>TimeElement(element=Age(iso8601duration=P1Y2M))</b>: Paraplegia (HP:0010550): onset age {\n",
       "  iso8601duration: \"P1Y2M\"\n",
       "}\n",
       "</td></tr>\n",
       "<tr><td style=\"text-align: left;\">F6-II:2  (MALE; P3Y)</td><td style=\"text-align: left;\">Spastic paraplegia 93, autosomal recessive (OMIM:620938)</td><td style=\"text-align: left;\">NM_001002755.4:c.362T>C (homozygous)</td><td style=\"text-align: left;\">Lactic acidosis (HP:0003128): onset ; Developmental regression (HP:0002376): onset ; Brisk reflexes (HP:0001348): onset ; Knee clonus (HP:0011449): onset ; Ankle clonus (HP:0011448): onset ; Babinski sign (HP:0003487): onset ; Reduced cerebral white matter volume (HP:0034295): onset ; Hypoplasia of the corpus callosum (HP:0002079): onset ; Enlarged cisterna magna (HP:0002280): onset ; excluded: Gait ataxia (HP:0002066): onset ; excluded: Strabismus (HP:0000486): onset ; excluded: Nystagmus (HP:0000639): onset ; excluded: Optic atrophy (HP:0000648): onset ; excluded: Ptosis (HP:0000508): onset ; excluded: External ophthalmoplegia (HP:0000544): onset ; excluded: Peripheral demyelination (HP:0011096): onset ; excluded: Encephalopathy (HP:0001298): onset ; excluded: Talipes equinovarus (HP:0001762): onset ; excluded: Peripheral neuropathy (HP:0009830): onset <br/><b>TimeElement(element=Age(iso8601duration=P1Y))</b>: Gait disturbance (HP:0001288): onset age {\n",
       "  iso8601duration: \"P1Y\"\n",
       "}\n",
       "; Progressive spastic paraplegia (HP:0007020): onset age {\n",
       "  iso8601duration: \"P1Y\"\n",
       "}\n",
       "</td></tr>\n",
       "<tr><td style=\"text-align: left;\">F6-II:3  (MALE; P2Y3M)</td><td style=\"text-align: left;\">Spastic paraplegia 93, autosomal recessive (OMIM:620938)</td><td style=\"text-align: left;\">NM_001002755.4:c.362T>C (homozygous)</td><td style=\"text-align: left;\">Lactic acidosis (HP:0003128): onset ; Developmental regression (HP:0002376): onset ; Brisk reflexes (HP:0001348): onset ; Knee clonus (HP:0011449): onset ; Ankle clonus (HP:0011448): onset ; Babinski sign (HP:0003487): onset ; excluded: Gait ataxia (HP:0002066): onset ; excluded: Strabismus (HP:0000486): onset ; excluded: Nystagmus (HP:0000639): onset ; excluded: Optic atrophy (HP:0000648): onset ; excluded: Ptosis (HP:0000508): onset ; excluded: External ophthalmoplegia (HP:0000544): onset ; excluded: Hypoplasia of the corpus callosum (HP:0002079): onset ; excluded: Peripheral demyelination (HP:0011096): onset ; excluded: Enlarged cisterna magna (HP:0002280): onset ; excluded: Encephalopathy (HP:0001298): onset ; excluded: Talipes equinovarus (HP:0001762): onset ; excluded: Peripheral neuropathy (HP:0009830): onset <br/><b>TimeElement(element=Age(iso8601duration=P10M))</b>: Lower limb spasticity (HP:0002061): onset age {\n",
       "  iso8601duration: \"P10M\"\n",
       "}\n",
       "</td></tr>\n",
       "<tr><td style=\"text-align: left;\">F7-II:1  (MALE; P10Y)</td><td style=\"text-align: left;\">Spastic paraplegia 93, autosomal recessive (OMIM:620938)</td><td style=\"text-align: left;\">NM_001002755.4:c.295C>G (homozygous)</td><td style=\"text-align: left;\">Delayed ability to walk (HP:0031936): onset ; Hypertonia (HP:0001276): onset ; Brisk reflexes (HP:0001348): onset ; Hypoplasia of the corpus callosum (HP:0002079): onset ; Enlarged cisterna magna (HP:0002280): onset ; Talipes equinovarus (HP:0001762): onset ; excluded: Gait ataxia (HP:0002066): onset ; excluded: Lactic acidosis (HP:0003128): onset ; excluded: Developmental regression (HP:0002376): onset ; excluded: Knee clonus (HP:0011449): onset ; excluded: Ankle clonus (HP:0011448): onset ; excluded: Babinski sign (HP:0003487): onset ; excluded: Reduced cerebral white matter volume (HP:0034295): onset ; excluded: Peripheral demyelination (HP:0011096): onset ; excluded: Encephalopathy (HP:0001298): onset ; excluded: Peripheral neuropathy (HP:0009830): onset <br/><b>TimeElement(element=Age(iso8601duration=P3M))</b>: Paraplegia (HP:0010550): onset age {\n",
       "  iso8601duration: \"P3M\"\n",
       "}\n",
       "</td></tr>\n",
       "<tr><td style=\"text-align: left;\">F7-II:2  (MALE; P6Y)</td><td style=\"text-align: left;\">Spastic paraplegia 93, autosomal recessive (OMIM:620938)</td><td style=\"text-align: left;\">NM_001002755.4:c.295C>G (homozygous)</td><td style=\"text-align: left;\">Delayed ability to walk (HP:0031936): onset ; Hypertonia (HP:0001276): onset ; Brisk reflexes (HP:0001348): onset ; Talipes equinovarus (HP:0001762): onset ; excluded: Gait ataxia (HP:0002066): onset ; excluded: Lactic acidosis (HP:0003128): onset ; excluded: Developmental regression (HP:0002376): onset ; excluded: Knee clonus (HP:0011449): onset ; excluded: Ankle clonus (HP:0011448): onset ; excluded: Babinski sign (HP:0003487): onset ; excluded: Reduced cerebral white matter volume (HP:0034295): onset ; excluded: Hypoplasia of the corpus callosum (HP:0002079): onset ; excluded: Peripheral demyelination (HP:0011096): onset ; excluded: Enlarged cisterna magna (HP:0002280): onset ; excluded: Encephalopathy (HP:0001298): onset ; excluded: Peripheral neuropathy (HP:0009830): onset <br/><b>TimeElement(element=Age(iso8601duration=P3M))</b>: Paraplegia (HP:0010550): onset age {\n",
       "  iso8601duration: \"P3M\"\n",
       "}\n",
       "</td></tr>\n",
       "<tr><td style=\"text-align: left;\">F8-II:5 (MALE; P7Y7M)</td><td style=\"text-align: left;\">Spastic paraplegia 93, autosomal recessive (OMIM:620938)</td><td style=\"text-align: left;\">NM_001002755.4:c.263T>C (homozygous)</td><td style=\"text-align: left;\">Developmental regression (HP:0002376): onset ; Hypertonia (HP:0001276): onset ; Brisk reflexes (HP:0001348): onset ; excluded: Gait ataxia (HP:0002066): onset ; excluded: Lactic acidosis (HP:0003128): onset ; excluded: Strabismus (HP:0000486): onset ; excluded: Nystagmus (HP:0000639): onset ; excluded: Optic atrophy (HP:0000648): onset ; excluded: Ptosis (HP:0000508): onset ; excluded: External ophthalmoplegia (HP:0000544): onset ; excluded: Knee clonus (HP:0011449): onset ; excluded: Ankle clonus (HP:0011448): onset ; excluded: Babinski sign (HP:0003487): onset ; excluded: Talipes equinovarus (HP:0001762): onset ; excluded: Peripheral neuropathy (HP:0009830): onset <br/><b>TimeElement(element=Age(iso8601duration=P1Y6M))</b>: Frequent falls (HP:0002359): onset age {\n",
       "  iso8601duration: \"P1Y6M\"\n",
       "}\n",
       "</td></tr>\n",
       "<tr><td style=\"text-align: left;\">F8-II:6 (MALE; P6Y6M)</td><td style=\"text-align: left;\">Spastic paraplegia 93, autosomal recessive (OMIM:620938)</td><td style=\"text-align: left;\">NM_001002755.4:c.263T>C (homozygous)</td><td style=\"text-align: left;\">Developmental regression (HP:0002376): onset ; Hypertonia (HP:0001276): onset ; Brisk reflexes (HP:0001348): onset ; excluded: Gait ataxia (HP:0002066): onset ; excluded: Lactic acidosis (HP:0003128): onset ; excluded: Strabismus (HP:0000486): onset ; excluded: Nystagmus (HP:0000639): onset ; excluded: Optic atrophy (HP:0000648): onset ; excluded: Ptosis (HP:0000508): onset ; excluded: External ophthalmoplegia (HP:0000544): onset ; excluded: Knee clonus (HP:0011449): onset ; excluded: Ankle clonus (HP:0011448): onset ; excluded: Babinski sign (HP:0003487): onset ; excluded: Talipes equinovarus (HP:0001762): onset ; excluded: Peripheral neuropathy (HP:0009830): onset <br/><b>TimeElement(element=Age(iso8601duration=P1Y6M))</b>: Frequent falls (HP:0002359): onset age {\n",
       "  iso8601duration: \"P1Y6M\"\n",
       "}\n",
       "</td></tr>\n",
       "<tr><td style=\"text-align: left;\">F9-II:1  (MALE; P12Y)</td><td style=\"text-align: left;\">Spastic paraplegia 93, autosomal recessive (OMIM:620938)</td><td style=\"text-align: left;\"><ul> <li>NM_001002755.4:c.548C>G (heterozygous)</li> <li>NM_001002755.4:c.629G>T (heterozygous)</li> </ul></td><td style=\"text-align: left;\">Developmental regression (HP:0002376): onset ; Ptosis (HP:0000508): onset ; Peripheral neuropathy (HP:0009830): onset ; excluded: Gait ataxia (HP:0002066): onset ; excluded: Lactic acidosis (HP:0003128): onset ; excluded: Strabismus (HP:0000486): onset ; excluded: Nystagmus (HP:0000639): onset ; excluded: Optic atrophy (HP:0000648): onset ; excluded: External ophthalmoplegia (HP:0000544): onset ; excluded: Reduced cerebral white matter volume (HP:0034295): onset ; excluded: Hypoplasia of the corpus callosum (HP:0002079): onset ; excluded: Peripheral demyelination (HP:0011096): onset ; excluded: Enlarged cisterna magna (HP:0002280): onset ; excluded: Encephalopathy (HP:0001298): onset ; excluded: Talipes equinovarus (HP:0001762): onset </td></tr>\n",
       "<tr><td style=\"text-align: left;\">F10-II:1  (MALE; P12M)</td><td style=\"text-align: left;\">Spastic paraplegia 93, autosomal recessive (OMIM:620938)</td><td style=\"text-align: left;\"><ul> <li>NM_001002755.4:c.629G>T (heterozygous)</li> <li>NM_001002755.4:c.398T>C (heterozygous)</li> </ul></td><td style=\"text-align: left;\">Global developmental delay (HP:0001263): onset ; Developmental regression (HP:0002376): onset ; Reduced cerebral white matter volume (HP:0034295): onset ; Hypoplasia of the corpus callosum (HP:0002079): onset ; Peripheral demyelination (HP:0011096): onset ; Enlarged cisterna magna (HP:0002280): onset ; Encephalopathy (HP:0001298): onset ; excluded: Lactic acidosis (HP:0003128): onset ; excluded: Hypertonia (HP:0001276): onset ; excluded: Brisk reflexes (HP:0001348): onset ; excluded: Knee clonus (HP:0011449): onset ; excluded: Ankle clonus (HP:0011448): onset ; excluded: Babinski sign (HP:0003487): onset ; excluded: Talipes equinovarus (HP:0001762): onset ; excluded: Peripheral neuropathy (HP:0009830): onset <br/><b>TimeElement(element=Age(iso8601duration=P6M))</b>: Hypotonia (HP:0001252): onset age {\n",
       "  iso8601duration: \"P6M\"\n",
       "}\n",
       "; Generalized-onset seizure (HP:0002197): onset age {\n",
       "  iso8601duration: \"P6M\"\n",
       "}\n",
       "; Status epilepticus (HP:0002133): onset age {\n",
       "  iso8601duration: \"P6M\"\n",
       "}\n",
       "</td></tr>\n",
       "<tr><td style=\"text-align: left;\">F10-II:2 (FEMALE; P2Y)</td><td style=\"text-align: left;\">Spastic paraplegia 93, autosomal recessive (OMIM:620938)</td><td style=\"text-align: left;\"><ul> <li>NM_001002755.4:c.629G>T (heterozygous)</li> <li>NM_001002755.4:c.398T>C (heterozygous)</li> </ul></td><td style=\"text-align: left;\">Global developmental delay (HP:0001263): onset ; Developmental regression (HP:0002376): onset ; Nystagmus (HP:0000639): onset ; Optic atrophy (HP:0000648): onset ; Reduced cerebral white matter volume (HP:0034295): onset ; Hypoplasia of the corpus callosum (HP:0002079): onset ; Enlarged cisterna magna (HP:0002280): onset ; excluded: Lactic acidosis (HP:0003128): onset ; excluded: Strabismus (HP:0000486): onset ; excluded: External ophthalmoplegia (HP:0000544): onset ; excluded: Peripheral demyelination (HP:0011096): onset ; excluded: Encephalopathy (HP:0001298): onset ; excluded: Talipes equinovarus (HP:0001762): onset ; excluded: Peripheral neuropathy (HP:0009830): onset <br/><b>TimeElement(element=Age(iso8601duration=P3M))</b>: Hypotonia (HP:0001252): onset age {\n",
       "  iso8601duration: \"P3M\"\n",
       "}\n",
       "<br/><b>TimeElement(element=Age(iso8601duration=P2Y))</b>: Lower limb spasticity (HP:0002061): onset age {\n",
       "  iso8601duration: \"P2Y\"\n",
       "}\n",
       "</td></tr>\n",
       "<tr><td style=\"text-align: left;\">Clinical data (MALE; P30Y)</td><td style=\"text-align: left;\">Spastic paraplegia 93, autosomal recessive (OMIM:620938)</td><td style=\"text-align: left;\"><ul> <li>NM_001002755.4:c.146del (heterozygous)</li> <li>NM_001002755.4:c.565G>A (heterozygous)</li> </ul></td><td style=\"text-align: left;\">Global developmental delay (HP:0001263): onset ; Spastic paraplegia (HP:0001258): onset ; Brisk reflexes (HP:0001348): onset ; Peripheral neuropathy (HP:0009830): onset ; Scoliosis (HP:0002650): onset ; Hypoesthesia (HP:0033748): onset ; excluded: Lactic acidosis (HP:0003128): onset ; excluded: Knee clonus (HP:0011449): onset ; excluded: Ankle clonus (HP:0011448): onset ; excluded: Babinski sign (HP:0003487): onset ; excluded: Reduced cerebral white matter volume (HP:0034295): onset ; excluded: Hypoplasia of the corpus callosum (HP:0002079): onset ; excluded: Peripheral demyelination (HP:0011096): onset ; excluded: Enlarged cisterna magna (HP:0002280): onset ; excluded: Encephalopathy (HP:0001298): onset ; excluded: Talipes equinovarus (HP:0001762): onset <br/><b>TimeElement(element=Age(iso8601duration=P1Y6M))</b>: Developmental regression (HP:0002376): onset age {\n",
       "  iso8601duration: \"P1Y6M\"\n",
       "}\n",
       "; Spastic tetraplegia (HP:0002510): onset age {\n",
       "  iso8601duration: \"P1Y6M\"\n",
       "}\n",
       "<br/><b>TimeElement(element=Age(iso8601duration=P30Y))</b>: Corpus callosum atrophy (HP:0007371): onset age {\n",
       "  iso8601duration: \"P30Y\"\n",
       "}\n",
       "; Reduced brain N-acetyl aspartate level by MRS (HP:0012708): onset age {\n",
       "  iso8601duration: \"P30Y\"\n",
       "}\n",
       "; Elevated brain choline level by MRS (HP:0012706): onset age {\n",
       "  iso8601duration: \"P30Y\"\n",
       "}\n",
       "; Elevated brain lactate level by MRS (HP:0012707): onset age {\n",
       "  iso8601duration: \"P30Y\"\n",
       "}\n",
       "</td></tr>\n",
       "<tr><td style=\"text-align: left;\">patient (FEMALE; P3Y6M)</td><td style=\"text-align: left;\">Spastic paraplegia 93, autosomal recessive (OMIM:620938)</td><td style=\"text-align: left;\">NM_001002755.4:c.565G>A (homozygous)</td><td style=\"text-align: left;\">Global developmental delay (HP:0001263): onset ; Developmental regression (HP:0002376): onset ; excluded: Gait ataxia (HP:0002066): onset ; excluded: Lactic acidosis (HP:0003128): onset ; excluded: Reduced cerebral white matter volume (HP:0034295): onset ; excluded: Hypoplasia of the corpus callosum (HP:0002079): onset ; excluded: Peripheral demyelination (HP:0011096): onset ; excluded: Enlarged cisterna magna (HP:0002280): onset ; excluded: Encephalopathy (HP:0001298): onset ; excluded: Talipes equinovarus (HP:0001762): onset ; excluded: Peripheral neuropathy (HP:0009830): onset <br/><b>TimeElement(element=Age(iso8601duration=P1Y11M))</b>: Loss of ambulation (HP:0002505): onset age {\n",
       "  iso8601duration: \"P1Y11M\"\n",
       "}\n",
       "</td></tr>\n",
       "</table>"
      ],
      "text/plain": [
       "<IPython.core.display.HTML object>"
      ]
     },
     "metadata": {},
     "output_type": "display_data"
    }
   ],
   "source": [
    "table = IndividualTable(cvalidator.get_error_free_individual_list())\n",
    "display(HTML(table.to_html()))"
   ]
  },
  {
   "cell_type": "code",
   "execution_count": 31,
   "metadata": {},
   "outputs": [
    {
     "name": "stdout",
     "output_type": "stream",
     "text": [
      "[pyphetools] Ingested 21 GA4GH phenopackets.\n",
      "[INFO] Extracted 21 from 21 phenopackets with OMIM:620938\n",
      "\n",
      "\tSpastic paraplegia 93, autosomal recessive (OMIM:620938): n=21\n",
      "We found a total of 43 unique HPO terms\n",
      "Extracted disease: Spastic paraplegia 93, autosomal recessive (OMIM:620938)\n",
      "Wrote HPOA disease file to OMIM-620938.tab\n"
     ]
    }
   ],
   "source": [
    "pmid = \"PMID:36256512\"\n",
    "df = timporter.create_hpoa_from_phenopackets(pmid=pmid, mode_of_inheritance=Moi.AR, target=\"OMIM:620938\")"
   ]
  },
  {
   "cell_type": "code",
   "execution_count": null,
   "metadata": {},
   "outputs": [],
   "source": []
  }
 ],
 "metadata": {
  "kernelspec": {
   "display_name": "ps24venv",
   "language": "python",
   "name": "python3"
  },
  "language_info": {
   "codemirror_mode": {
    "name": "ipython",
    "version": 3
   },
   "file_extension": ".py",
   "mimetype": "text/x-python",
   "name": "python",
   "nbconvert_exporter": "python",
   "pygments_lexer": "ipython3",
   "version": "3.12.8"
  }
 },
 "nbformat": 4,
 "nbformat_minor": 2
}
