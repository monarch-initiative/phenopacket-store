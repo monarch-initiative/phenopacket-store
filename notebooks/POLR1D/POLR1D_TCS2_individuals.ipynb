{
 "cells": [
  {
   "cell_type": "markdown",
   "metadata": {},
   "source": [
    "# POLR1D\n",
    "[Treacher Collins syndrome-2 (TSC2)](https://omim.org/entry/613717) is caused by heterozygous mutation in the POLR1D gene.\n"
   ]
  },
  {
   "cell_type": "code",
   "execution_count": 3,
   "metadata": {},
   "outputs": [
    {
     "name": "stdout",
     "output_type": "stream",
     "text": [
      "Using pyphetools version 0.9.84\n"
     ]
    }
   ],
   "source": [
    "from pyphetools.creation import TemplateImporter\n",
    "from pyphetools.visualization import IndividualTable, QcVisualizer\n",
    "from IPython.display import display, HTML\n",
    "import pyphetools\n",
    "print(f\"Using pyphetools version {pyphetools.__version__}\")"
   ]
  },
  {
   "cell_type": "code",
   "execution_count": 5,
   "metadata": {},
   "outputs": [],
   "source": [
    "template = \"input/POLR1D_TCS2_individuals.xlsx\"\n",
    "created_by = \"0000-0002-0736-9199\""
   ]
  },
  {
   "cell_type": "code",
   "execution_count": 9,
   "metadata": {},
   "outputs": [
    {
     "name": "stdout",
     "output_type": "stream",
     "text": [
      "HPO version 2024-04-26\n",
      "Created encoders for 30 fields\n",
      "Importing OMIM:613717, Treacher Collins syndrome 2, HGNC:20422, POLR1D,  NM_015972.4\n",
      "[INFO] encoding variant \"c.232_233del\"\n",
      "https://rest.variantvalidator.org/VariantValidator/variantvalidator/hg38/NM_015972.4%3Ac.232_233del/NM_015972.4?content-type=application%2Fjson\n",
      "We output 10 GA4GH phenopackets to the directory phenopackets\n"
     ]
    }
   ],
   "source": [
    "del_set = {\"156-kb de novo deletion\"}\n",
    "timporter = TemplateImporter(template=template,  created_by=created_by)\n",
    "individual_list, cvalidator = timporter.import_phenopackets_from_template(deletions=del_set, leniant_MOI=True)"
   ]
  },
  {
   "cell_type": "code",
   "execution_count": 10,
   "metadata": {},
   "outputs": [
    {
     "data": {
      "text/html": [
       "<h2>Cohort validation</h2>\n",
       "<p>No errors found for the cohort with 10 individuals</p>"
      ],
      "text/plain": [
       "<IPython.core.display.HTML object>"
      ]
     },
     "metadata": {},
     "output_type": "display_data"
    }
   ],
   "source": [
    "qc = QcVisualizer(cohort_validator=cvalidator)\n",
    "display(HTML(qc.to_summary_html()))"
   ]
  },
  {
   "cell_type": "code",
   "execution_count": 11,
   "metadata": {},
   "outputs": [
    {
     "data": {
      "text/html": [
       "<table style=\"border: 2px solid black; align: \"left\">\n",
       "<caption>10 phenopackets - PMID:21131976 (n=9); PMID:24603435 (n=1)</caption>\n",
       "<tr><th style=\"text-align: left;font-weight: bold;\">Individual</th><th style=\"text-align: left;font-weight: bold;\">Disease</th><th style=\"text-align: left;font-weight: bold;\">Genotype</th><th style=\"text-align: left;font-weight: bold;\">Phenotypic features</th></tr>\n",
       "<tr><td style=\"text-align: left;\">Lei1 (MALE; n/a)</td><td style=\"text-align: left;\">Treacher Collins syndrome 2 (OMIM:613717)</td><td style=\"text-align: left;\">156-kb de novo deletion: chromosomal_deletion (SO:1000029)</td><td style=\"text-align: left;\">Micrognathia (HP:0000347); Downslanted palpebral fissures (HP:0000494); Microtia (HP:0008551); Hypoplasia of the zygomatic bone (HP:0010669); Conductive hearing impairment (HP:0000405); excluded: Choanal stenosis (HP:0000452); excluded: Cleft palate (HP:0000175); excluded: Lower eyelid coloboma (HP:0000652); excluded: Motor delay (HP:0001270); excluded: Delayed speech and language development (HP:0000750)</td></tr>\n",
       "<tr><td style=\"text-align: left;\">EsM10408 (FEMALE; n/a)</td><td style=\"text-align: left;\">Treacher Collins syndrome 2 (OMIM:613717)</td><td style=\"text-align: left;\">NM_015972.4:c.136G>T (heterozygous)</td><td style=\"text-align: left;\">Micrognathia (HP:0000347); Downslanted palpebral fissures (HP:0000494); Microtia (HP:0008551); Hypoplasia of the zygomatic bone (HP:0010669); Conductive hearing impairment (HP:0000405); excluded: Cleft palate (HP:0000175); excluded: Lower eyelid coloboma (HP:0000652); excluded: Motor delay (HP:0001270); excluded: Delayed speech and language development (HP:0000750)</td></tr>\n",
       "<tr><td style=\"text-align: left;\">EsM6195 (MALE; n/a)</td><td style=\"text-align: left;\">Treacher Collins syndrome 2 (OMIM:613717)</td><td style=\"text-align: left;\">NM_015972.4:c.139G>A (heterozygous)</td><td style=\"text-align: left;\">Choanal stenosis (HP:0000452); Micrognathia (HP:0000347); Downslanted palpebral fissures (HP:0000494); Microtia (HP:0008551); Hypoplasia of the zygomatic bone (HP:0010669); Conductive hearing impairment (HP:0000405); excluded: Cleft palate (HP:0000175); excluded: Lower eyelid coloboma (HP:0000652)</td></tr>\n",
       "<tr><td style=\"text-align: left;\">EsM6227 (FEMALE; n/a)</td><td style=\"text-align: left;\">Treacher Collins syndrome 2 (OMIM:613717)</td><td style=\"text-align: left;\">NM_015972.4:c.152T>G (heterozygous)</td><td style=\"text-align: left;\">Micrognathia (HP:0000347); Downslanted palpebral fissures (HP:0000494); Microtia (HP:0008551); excluded: Choanal stenosis (HP:0000452); excluded: Cleft palate (HP:0000175); excluded: Lower eyelid coloboma (HP:0000652); excluded: Hypoplasia of the zygomatic bone (HP:0010669); excluded: Conductive hearing impairment (HP:0000405); excluded: Motor delay (HP:0001270); excluded: Delayed speech and language development (HP:0000750)</td></tr>\n",
       "<tr><td style=\"text-align: left;\">EsM5850 (MALE; n/a)</td><td style=\"text-align: left;\">Treacher Collins syndrome 2 (OMIM:613717)</td><td style=\"text-align: left;\">NM_015972.4:c.166C>T (heterozygous)</td><td style=\"text-align: left;\">Micrognathia (HP:0000347); Cleft palate (HP:0000175); Lower eyelid coloboma (HP:0000652); Downslanted palpebral fissures (HP:0000494); Microtia (HP:0008551); Hypoplasia of the zygomatic bone (HP:0010669); Conductive hearing impairment (HP:0000405); Delayed speech and language development (HP:0000750); excluded: Motor delay (HP:0001270)</td></tr>\n",
       "<tr><td style=\"text-align: left;\">EsM5513 (UNKNOWN; n/a)</td><td style=\"text-align: left;\">Treacher Collins syndrome 2 (OMIM:613717)</td><td style=\"text-align: left;\">NM_015972.4:c.232_233del (heterozygous)</td><td style=\"text-align: left;\">Micrognathia (HP:0000347); Cleft palate (HP:0000175); Microtia (HP:0008551)</td></tr>\n",
       "<tr><td style=\"text-align: left;\">EsM42160 (MALE; n/a)</td><td style=\"text-align: left;\">Treacher Collins syndrome 2 (OMIM:613717)</td><td style=\"text-align: left;\">NM_015972.4:c.259C>T (heterozygous)</td><td style=\"text-align: left;\">Micrognathia (HP:0000347); Cleft palate (HP:0000175); Lower eyelid coloboma (HP:0000652); Downslanted palpebral fissures (HP:0000494); Microtia (HP:0008551); Hypoplasia of the zygomatic bone (HP:0010669); Conductive hearing impairment (HP:0000405); Motor delay (HP:0001270); Delayed speech and language development (HP:0000750); excluded: Choanal stenosis (HP:0000452)</td></tr>\n",
       "<tr><td style=\"text-align: left;\">Man33 (FEMALE; n/a)</td><td style=\"text-align: left;\">Treacher Collins syndrome 2 (OMIM:613717)</td><td style=\"text-align: left;\">NM_015972.4:c.259C>T (heterozygous)</td><td style=\"text-align: left;\">Micrognathia (HP:0000347); Lower eyelid coloboma (HP:0000652); Downslanted palpebral fissures (HP:0000494); Hypoplasia of the zygomatic bone (HP:0010669); excluded: Cleft palate (HP:0000175); excluded: Microtia (HP:0008551); excluded: Conductive hearing impairment (HP:0000405); excluded: Motor delay (HP:0001270); excluded: Delayed speech and language development (HP:0000750)</td></tr>\n",
       "<tr><td style=\"text-align: left;\">EsM3422 (MALE; n/a)</td><td style=\"text-align: left;\">Treacher Collins syndrome 2 (OMIM:613717)</td><td style=\"text-align: left;\">NM_015972.4:c.326_327del (heterozygous)</td><td style=\"text-align: left;\">Micrognathia (HP:0000347); excluded: Choanal stenosis (HP:0000452); excluded: Cleft palate (HP:0000175); excluded: Lower eyelid coloboma (HP:0000652); excluded: Downslanted palpebral fissures (HP:0000494); excluded: Microtia (HP:0008551); excluded: Hypoplasia of the zygomatic bone (HP:0010669); excluded: Conductive hearing impairment (HP:0000405); excluded: Motor delay (HP:0001270); excluded: Delayed speech and language development (HP:0000750)</td></tr>\n",
       "<tr><td style=\"text-align: left;\">Family 1 affected individual (FEMALE; n/a)</td><td style=\"text-align: left;\">Treacher Collins syndrome 2 (OMIM:613717)</td><td style=\"text-align: left;\">NM_015972.4:c.163C>G (homozygous)</td><td style=\"text-align: left;\"><b>P3Y</b>: Conductive hearing impairment (HP:0000405)<br/>Micrognathia (HP:0000347); Downslanted palpebral fissures (HP:0000494); Malar flattening (HP:0000272); Preauricular pit (HP:0004467); excluded: Microtia (HP:0008551); excluded: Motor delay (HP:0001270); excluded: Delayed speech and language development (HP:0000750)</td></tr>\n",
       "</table>"
      ],
      "text/plain": [
       "<IPython.core.display.HTML object>"
      ]
     },
     "metadata": {},
     "output_type": "display_data"
    }
   ],
   "source": [
    "table = IndividualTable(cvalidator.get_error_free_individual_list())\n",
    "display(HTML(table.to_html()))"
   ]
  }
 ],
 "metadata": {
  "kernelspec": {
   "display_name": "ps24venv",
   "language": "python",
   "name": "python3"
  },
  "language_info": {
   "codemirror_mode": {
    "name": "ipython",
    "version": 3
   },
   "file_extension": ".py",
   "mimetype": "text/x-python",
   "name": "python",
   "nbconvert_exporter": "python",
   "pygments_lexer": "ipython3",
   "version": "3.9.6"
  }
 },
 "nbformat": 4,
 "nbformat_minor": 2
}
