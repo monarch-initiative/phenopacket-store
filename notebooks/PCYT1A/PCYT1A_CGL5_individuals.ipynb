{
 "cells": [
  {
   "cell_type": "markdown",
   "metadata": {},
   "source": [
    "# PCYT1A\n",
    "[congenital generalized lipodystrophy type 5 (CGL5)](https://omim.org/entry/620680) is caused by compound heterozygous mutation in the PCYT1A gene."
   ]
  },
  {
   "cell_type": "code",
   "execution_count": 1,
   "metadata": {},
   "outputs": [
    {
     "name": "stdout",
     "output_type": "stream",
     "text": [
      "Using pyphetools version 0.9.86\n"
     ]
    },
    {
     "name": "stderr",
     "output_type": "stream",
     "text": [
      "/Users/robin/GIT/phenopacket-store/ps24venv/lib/python3.9/site-packages/urllib3/__init__.py:35: NotOpenSSLWarning: urllib3 v2 only supports OpenSSL 1.1.1+, currently the 'ssl' module is compiled with 'LibreSSL 2.8.3'. See: https://github.com/urllib3/urllib3/issues/3020\n",
      "  warnings.warn(\n"
     ]
    }
   ],
   "source": [
    "from pyphetools.creation import TemplateImporter\n",
    "from pyphetools.visualization import IndividualTable, QcVisualizer\n",
    "from IPython.display import display, HTML\n",
    "import pyphetools\n",
    "print(f\"Using pyphetools version {pyphetools.__version__}\")"
   ]
  },
  {
   "cell_type": "code",
   "execution_count": 2,
   "metadata": {},
   "outputs": [],
   "source": [
    "template = \"input/PCYT1A_CGL5_individuals.xlsx\"\n",
    "created_by = \"0000-0002-0736-9199\""
   ]
  },
  {
   "cell_type": "code",
   "execution_count": 3,
   "metadata": {},
   "outputs": [
    {
     "name": "stdout",
     "output_type": "stream",
     "text": [
      "HPO version 2024-04-26\n",
      "Created encoders for 30 fields\n",
      "Importing OMIM:620680, Lipodystrophy, congenital generalized, type 5, HGNC:8754, PCYT1A,  NM_001312673.2\n",
      "We output 2 GA4GH phenopackets to the directory phenopackets\n"
     ]
    }
   ],
   "source": [
    "timporter = TemplateImporter(template=template,  created_by=created_by)\n",
    "individual_list, cvalidator = timporter.import_phenopackets_from_template()"
   ]
  },
  {
   "cell_type": "code",
   "execution_count": 4,
   "metadata": {},
   "outputs": [
    {
     "data": {
      "text/html": [
       "<h2>Cohort validation</h2>\n",
       "<p>No errors found for the cohort with 2 individuals</p>"
      ],
      "text/plain": [
       "<IPython.core.display.HTML object>"
      ]
     },
     "metadata": {},
     "output_type": "display_data"
    }
   ],
   "source": [
    "qc = QcVisualizer(cohort_validator=cvalidator)\n",
    "display(HTML(qc.to_summary_html()))"
   ]
  },
  {
   "cell_type": "code",
   "execution_count": 5,
   "metadata": {},
   "outputs": [
    {
     "data": {
      "text/html": [
       "<table style=\"border: 2px solid black; align: \"left\">\n",
       "<caption>2 phenopackets - PMID:24889630 (n=2)</caption>\n",
       "<tr><th style=\"text-align: left;font-weight: bold;\">Individual</th><th style=\"text-align: left;font-weight: bold;\">Disease</th><th style=\"text-align: left;font-weight: bold;\">Genotype</th><th style=\"text-align: left;font-weight: bold;\">Phenotypic features</th></tr>\n",
       "<tr><td style=\"text-align: left;\">Proband 1 (FEMALE; P18Y)</td><td style=\"text-align: left;\">Lipodystrophy, congenital generalized, type 5 (OMIM:620680)</td><td style=\"text-align: left;\"><ul> <li>NM_001312673.2:c.838_840del (heterozygous)</li> <li>NM_001312673.2:c.424G>A (heterozygous)</li> </ul></td><td style=\"text-align: left;\"><b>P18Y</b>: Hypertriglyceridemia (HP:0002155); Insulin resistance (HP:0000855); Hepatic steatosis (HP:0001397); Short stature (HP:0004322); Type II diabetes mellitus (HP:0005978)<br/>Lipodystrophy (HP:0009125); Hyperglycemia (HP:0003074); Hyperinsulinemia (HP:0000842); Decreased HDL cholesterol concentration (HP:0003233); Decreased adiponectin level (HP:0030685); Decreased body fat percentage (HP:0041079); Loss of subcutaneous adipose tissue in limbs (HP:0003635)</td></tr>\n",
       "<tr><td style=\"text-align: left;\">Proband 2 (FEMALE; P10Y10M)</td><td style=\"text-align: left;\">Lipodystrophy, congenital generalized, type 5 (OMIM:620680)</td><td style=\"text-align: left;\"><ul> <li>NM_001312673.2:c.838_840del (heterozygous)</li> <li>NM_001312673.2:c.996del (heterozygous)</li> </ul></td><td style=\"text-align: left;\"><b>P3M</b>: Hepatic steatosis (HP:0001397)<br/><b>P9Y</b>: Loss of subcutaneous adipose tissue in limbs (HP:0003635)<br/>Short stature (HP:0004322); Hypertriglyceridemia (HP:0002155); Elevated circulating hepatic transaminase concentration (HP:0002910); Insulin resistance (HP:0000855); Lipodystrophy (HP:0009125); Hyperglycemia (HP:0003074); Hyperinsulinemia (HP:0000842); Decreased HDL cholesterol concentration (HP:0003233); Decreased body fat percentage (HP:0041079); excluded: Type II diabetes mellitus (HP:0005978)</td></tr>\n",
       "</table>"
      ],
      "text/plain": [
       "<IPython.core.display.HTML object>"
      ]
     },
     "metadata": {},
     "output_type": "display_data"
    }
   ],
   "source": [
    "table = IndividualTable(cvalidator.get_error_free_individual_list())\n",
    "display(HTML(table.to_html()))"
   ]
  },
  {
   "cell_type": "code",
   "execution_count": 6,
   "metadata": {},
   "outputs": [
    {
     "name": "stdout",
     "output_type": "stream",
     "text": [
      "[pyphetools] Ingested 2 GA4GH phenopackets.\n",
      "[INFO] Extracted 2 from 2 phenopackets with OMIM:620680\n",
      "\n",
      "\tLipodystrophy, congenital generalized, type 5 (OMIM:620680): n=2\n",
      "We found a total of 13 unique HPO terms\n",
      "Extracted disease: Lipodystrophy, congenital generalized, type 5 (OMIM:620680)\n",
      "Wrote HPOA disease file to OMIM-620680.tab\n"
     ]
    }
   ],
   "source": [
    "pmid = \"PMID:24889630\"\n",
    "df = timporter.create_hpoa_from_phenopackets(pmid=pmid, moi=\"Autosomal recessive\", target=\"OMIM:620680\")"
   ]
  },
  {
   "cell_type": "code",
   "execution_count": null,
   "metadata": {},
   "outputs": [],
   "source": []
  }
 ],
 "metadata": {
  "kernelspec": {
   "display_name": "ps24venv",
   "language": "python",
   "name": "python3"
  },
  "language_info": {
   "codemirror_mode": {
    "name": "ipython",
    "version": 3
   },
   "file_extension": ".py",
   "mimetype": "text/x-python",
   "name": "python",
   "nbconvert_exporter": "python",
   "pygments_lexer": "ipython3",
   "version": "3.9.6"
  }
 },
 "nbformat": 4,
 "nbformat_minor": 2
}
