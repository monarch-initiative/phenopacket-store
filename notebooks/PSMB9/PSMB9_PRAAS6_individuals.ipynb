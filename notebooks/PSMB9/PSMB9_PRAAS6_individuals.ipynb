{
 "cells": [
  {
   "cell_type": "markdown",
   "metadata": {},
   "source": [
    "# PSMB9\n",
    "[proteasome-associated autoinflammatory syndrome-6 (PRAAS6)](https://omim.org/entry/620796) is caused by heterozygous mutation in the PSMB9 gene."
   ]
  },
  {
   "cell_type": "code",
   "execution_count": 3,
   "metadata": {},
   "outputs": [
    {
     "name": "stdout",
     "output_type": "stream",
     "text": [
      "Using pyphetools version 0.9.94\n"
     ]
    }
   ],
   "source": [
    "from pyphetools.creation import TemplateImporter, Moi\n",
    "from pyphetools.visualization import IndividualTable, QcVisualizer\n",
    "from IPython.display import display, HTML\n",
    "import pyphetools\n",
    "print(f\"Using pyphetools version {pyphetools.__version__}\")"
   ]
  },
  {
   "cell_type": "code",
   "execution_count": 4,
   "metadata": {},
   "outputs": [],
   "source": [
    "template = \"input/PSMB9_PRAAS6_individuals.xlsx\"\n",
    "created_by = \"0000-0002-0736-9199\""
   ]
  },
  {
   "cell_type": "code",
   "execution_count": 7,
   "metadata": {},
   "outputs": [
    {
     "name": "stdout",
     "output_type": "stream",
     "text": [
      "HPO version 2024-07-01\n",
      "Created encoders for 57 fields\n",
      "Importing OMIM:620796, Proteasome-associated autoinflammatory syndrome 6, HGNC:9546, PSMB9,  NM_002800.5\n",
      "[INFO] encoding variant \"c.467G>A\"\n",
      "https://rest.variantvalidator.org/VariantValidator/variantvalidator/hg38/NM_002800.5%3Ac.467G>A/NM_002800.5?content-type=application%2Fjson\n",
      "We output 3 GA4GH phenopackets to the directory phenopackets\n"
     ]
    }
   ],
   "source": [
    "timporter = TemplateImporter(template=template,  created_by=created_by)\n",
    "individual_list, cvalidator = timporter.import_phenopackets_from_template()"
   ]
  },
  {
   "cell_type": "code",
   "execution_count": 8,
   "metadata": {},
   "outputs": [
    {
     "data": {
      "text/html": [
       "<h2>Cohort validation</h2>\n",
       "<p>Errors found with 2 of 3 phenopackets.</p>\n",
       "<table style=\"border: 2px solid black; align: \"left\">\n",
       "<caption>Error counts</caption>\n",
       "<tr><th style=\"text-align: left;font-weight: bold;\">Level</th><th style=\"text-align: left;font-weight: bold;\">Error category</th><th style=\"text-align: left;font-weight: bold;\">Count</th></tr>\n",
       "<tr><td style=\"text-align: left;\">ERROR</td><td style=\"text-align: left;\">CONFLICT</td><td style=\"text-align: left;\">1</td></tr>\n",
       "<tr><td style=\"text-align: left;\">WARNING</td><td style=\"text-align: left;\">REDUNDANT</td><td style=\"text-align: left;\">1</td></tr>\n",
       "</table>\n",
       "<p>A total of 2 issues were fixed and no individual was removed from the cohort.</p>"
      ],
      "text/plain": [
       "<IPython.core.display.HTML object>"
      ]
     },
     "metadata": {},
     "output_type": "display_data"
    }
   ],
   "source": [
    "qc = QcVisualizer(cohort_validator=cvalidator)\n",
    "display(HTML(qc.to_summary_html()))"
   ]
  },
  {
   "cell_type": "code",
   "execution_count": 9,
   "metadata": {},
   "outputs": [
    {
     "data": {
      "text/html": [
       "<table style=\"border: 2px solid black; align: \"left\">\n",
       "<caption>3 phenopackets - PMID:34819510 (n=2); PMID:33727065 (n=1)</caption>\n",
       "<tr><th style=\"text-align: left;font-weight: bold;\">Individual</th><th style=\"text-align: left;font-weight: bold;\">Disease</th><th style=\"text-align: left;font-weight: bold;\">Genotype</th><th style=\"text-align: left;font-weight: bold;\">Phenotypic features</th></tr>\n",
       "<tr><td style=\"text-align: left;\">Patient 1 (MALE; P11Y)</td><td style=\"text-align: left;\">Proteasome-associated autoinflammatory syndrome 6 (OMIM:620796)</td><td style=\"text-align: left;\">NM_002800.5:c.467G>A (heterozygous)</td><td style=\"text-align: left;\"><b>P14D</b>: Skin rash (HP:0000988); Fever (HP:0001945)<br/><b>P1M</b>: Elevated circulating C-reactive protein concentration (HP:0011227); Elevated circulating aspartate aminotransferase concentration (HP:0031956); Elevated circulating alanine aminotransferase concentration (HP:0031964)<br/><b>P4M</b>: Basal ganglia calcification (HP:0002135); Simple febrile seizure (HP:0011171)<br/><b>P7M</b>: Portal hypertension (HP:0001409); Myositis (HP:0100614); Cirrhosis (HP:0001394); Elevated circulating creatine kinase concentration (HP:0003236); Decreased circulating IgG level (HP:0004315); Increased circulating NT-proBNP concentration (HP:0031185); Pulmonary arterial hypertension (HP:0002092); Cardiogenic shock (HP:0030149); Increased circulating interleukin 1beta concentration (HP:6000374); Increased circulating interleukin 6 concentration (HP:0030783); Increased circulating interleukin 18 concentration (HP:0034447); Elevated circulating tumor necrosis factor alpha concentration (HP:6000239); Increased circulating interferon-gamma concentration (HP:0030356)<br/><b>P10Y</b>: Lymphopenia (HP:0001888); Decreased proportion of gamma-delta T cells (HP:0500271)<br/>excluded: Pancytopenia (HP:0001876); excluded: Pneumonia (HP:0002090); excluded: Splenomegaly (HP:0001744); excluded: Leukocytosis (HP:0001974); excluded: Cardiomegaly (HP:0001640); excluded: Increased circulating interleukin 10 concentration (HP:0033199); excluded: Reduced natural killer cell count (HP:0040218); excluded: Abnormally low T cell receptor excision circle level (HP:0031545)</td></tr>\n",
       "<tr><td style=\"text-align: left;\">Patient 2 (MALE; P3M)</td><td style=\"text-align: left;\">Proteasome-associated autoinflammatory syndrome 6 (OMIM:620796)</td><td style=\"text-align: left;\">NM_002800.5:c.467G>A (heterozygous)</td><td style=\"text-align: left;\"><b>P25D</b>: Skin rash (HP:0000988); Increased CSF protein concentration (HP:0002922); Elevated circulating creatine kinase concentration (HP:0003236); Fever (HP:0001945); Elevated circulating C-reactive protein concentration (HP:0011227); Elevated circulating aspartate aminotransferase concentration (HP:0031956); Elevated circulating alanine aminotransferase concentration (HP:0031964)<br/><b>P1M12D</b>: Pancytopenia (HP:0001876); Splenomegaly (HP:0001744); Increased circulating ferritin concentration (HP:0003281); Elevated circulating soluble CD25 concentration (HP:0033833)<br/><b>P2M</b>: Pneumonia (HP:0002090); Basal ganglia calcification (HP:0002135); Pulmonary arterial hypertension (HP:0002092); Increased circulating interleukin 6 concentration (HP:0030783); Increased circulating interleukin 18 concentration (HP:0034447); Increased circulating interleukin 10 concentration (HP:0033199); Increased circulating interferon-gamma concentration (HP:0030356); Reduced natural killer cell count (HP:0040218)<br/><b>P3M</b>: Myositis (HP:0100614); Leukocytosis (HP:0001974); Decreased proportion of gamma-delta T cells (HP:0500271)<br/>excluded: Portal hypertension (HP:0001409); excluded: Cirrhosis (HP:0001394); excluded: Lymphopenia (HP:0001888); excluded: Cardiomegaly (HP:0001640); excluded: Decreased circulating IgG level (HP:0004315); excluded: Increased circulating NT-proBNP concentration (HP:0031185); excluded: Simple febrile seizure (HP:0011171); excluded: Cardiogenic shock (HP:0030149); excluded: Increased circulating interleukin 1beta concentration (HP:6000374); excluded: Elevated circulating tumor necrosis factor alpha concentration (HP:6000239); excluded: Abnormally low T cell receptor excision circle level (HP:0031545)</td></tr>\n",
       "<tr><td style=\"text-align: left;\">boy (MALE; P2Y7M)</td><td style=\"text-align: left;\">Proteasome-associated autoinflammatory syndrome 6 (OMIM:620796)</td><td style=\"text-align: left;\">NM_002800.5:c.467G>A (heterozygous)</td><td style=\"text-align: left;\"><b>P1M</b>: Pancytopenia (HP:0001876); Skin rash (HP:0000988); Myositis (HP:0100614); Increased CSF protein concentration (HP:0002922); Lymphopenia (HP:0001888); Seizure (HP:0001250); Cardiomegaly (HP:0001640); Basal ganglia calcification (HP:0002135); Elevated circulating creatine kinase concentration (HP:0003236); Pulmonary arterial hypertension (HP:0002092); Fever (HP:0001945); Increased circulating ferritin concentration (HP:0003281); Elevated circulating C-reactive protein concentration (HP:0011227); Elevated circulating aspartate aminotransferase concentration (HP:0031956); Elevated circulating alanine aminotransferase concentration (HP:0031964); Increased circulating interferon-gamma concentration (HP:0030356); Increased circulating lactate dehydrogenase concentration (HP:0025435); Elevated circulating myoglobin concentration (HP:0033438); Increased circulating troponin T concentration (HP:0410174); Prolonged prothrombin time (HP:0008151); Elevated circulating D-dimer concentration (HP:0033106)<br/><b>P2Y7M</b>: Leukocytosis (HP:0001974)<br/>excluded: Portal hypertension (HP:0001409); excluded: Pneumonia (HP:0002090); excluded: Splenomegaly (HP:0001744); excluded: Cirrhosis (HP:0001394); excluded: Decreased circulating IgG level (HP:0004315); excluded: Simple febrile seizure (HP:0011171); excluded: Cardiogenic shock (HP:0030149)</td></tr>\n",
       "</table>"
      ],
      "text/plain": [
       "<IPython.core.display.HTML object>"
      ]
     },
     "metadata": {},
     "output_type": "display_data"
    }
   ],
   "source": [
    "table = IndividualTable(cvalidator.get_error_free_individual_list())\n",
    "display(HTML(table.to_html()))"
   ]
  },
  {
   "cell_type": "code",
   "execution_count": 10,
   "metadata": {},
   "outputs": [
    {
     "name": "stdout",
     "output_type": "stream",
     "text": [
      "[pyphetools] Ingested 3 GA4GH phenopackets.\n",
      "[INFO] Extracted 3 from 3 phenopackets with OMIM:620796\n",
      "\n",
      "\tProteasome-associated autoinflammatory syndrome 6 (OMIM:620796): n=3\n",
      "We found a total of 39 unique HPO terms\n",
      "Extracted disease: Proteasome-associated autoinflammatory syndrome 6 (OMIM:620796)\n",
      "Wrote HPOA disease file to OMIM-620796.tab\n"
     ]
    },
    {
     "data": {
      "text/html": [
       "<div>\n",
       "<style scoped>\n",
       "    .dataframe tbody tr th:only-of-type {\n",
       "        vertical-align: middle;\n",
       "    }\n",
       "\n",
       "    .dataframe tbody tr th {\n",
       "        vertical-align: top;\n",
       "    }\n",
       "\n",
       "    .dataframe thead th {\n",
       "        text-align: right;\n",
       "    }\n",
       "</style>\n",
       "<table border=\"1\" class=\"dataframe\">\n",
       "  <thead>\n",
       "    <tr style=\"text-align: right;\">\n",
       "      <th></th>\n",
       "      <th>#diseaseID</th>\n",
       "      <th>diseaseName</th>\n",
       "      <th>phenotypeID</th>\n",
       "      <th>phenotypeName</th>\n",
       "      <th>onsetID</th>\n",
       "      <th>onsetName</th>\n",
       "      <th>frequency</th>\n",
       "      <th>sex</th>\n",
       "      <th>negation</th>\n",
       "      <th>modifier</th>\n",
       "      <th>description</th>\n",
       "      <th>publication</th>\n",
       "      <th>evidence</th>\n",
       "      <th>biocuration</th>\n",
       "    </tr>\n",
       "  </thead>\n",
       "  <tbody>\n",
       "    <tr>\n",
       "      <th>0</th>\n",
       "      <td>OMIM:620796</td>\n",
       "      <td>Proteasome-associated autoinflammatory syndrome 6</td>\n",
       "      <td>HP:0001876</td>\n",
       "      <td>Pancytopenia</td>\n",
       "      <td></td>\n",
       "      <td></td>\n",
       "      <td>1/2</td>\n",
       "      <td></td>\n",
       "      <td></td>\n",
       "      <td></td>\n",
       "      <td></td>\n",
       "      <td>PMID:34819510</td>\n",
       "      <td>PCS</td>\n",
       "      <td>ORCID:0000-0002-0736-9199[2024-07-22]</td>\n",
       "    </tr>\n",
       "    <tr>\n",
       "      <th>1</th>\n",
       "      <td>OMIM:620796</td>\n",
       "      <td>Proteasome-associated autoinflammatory syndrome 6</td>\n",
       "      <td>HP:0001744</td>\n",
       "      <td>Splenomegaly</td>\n",
       "      <td></td>\n",
       "      <td></td>\n",
       "      <td>1/2</td>\n",
       "      <td></td>\n",
       "      <td></td>\n",
       "      <td></td>\n",
       "      <td></td>\n",
       "      <td>PMID:34819510</td>\n",
       "      <td>PCS</td>\n",
       "      <td>ORCID:0000-0002-0736-9199[2024-07-22]</td>\n",
       "    </tr>\n",
       "    <tr>\n",
       "      <th>2</th>\n",
       "      <td>OMIM:620796</td>\n",
       "      <td>Proteasome-associated autoinflammatory syndrome 6</td>\n",
       "      <td>HP:0003281</td>\n",
       "      <td>Increased circulating ferritin concentration</td>\n",
       "      <td></td>\n",
       "      <td></td>\n",
       "      <td>1/1</td>\n",
       "      <td></td>\n",
       "      <td></td>\n",
       "      <td></td>\n",
       "      <td></td>\n",
       "      <td>PMID:34819510</td>\n",
       "      <td>PCS</td>\n",
       "      <td>ORCID:0000-0002-0736-9199[2024-07-22]</td>\n",
       "    </tr>\n",
       "    <tr>\n",
       "      <th>3</th>\n",
       "      <td>OMIM:620796</td>\n",
       "      <td>Proteasome-associated autoinflammatory syndrome 6</td>\n",
       "      <td>HP:0033833</td>\n",
       "      <td>Elevated circulating soluble CD25 concentration</td>\n",
       "      <td></td>\n",
       "      <td></td>\n",
       "      <td>1/1</td>\n",
       "      <td></td>\n",
       "      <td></td>\n",
       "      <td></td>\n",
       "      <td></td>\n",
       "      <td>PMID:34819510</td>\n",
       "      <td>PCS</td>\n",
       "      <td>ORCID:0000-0002-0736-9199[2024-07-22]</td>\n",
       "    </tr>\n",
       "    <tr>\n",
       "      <th>4</th>\n",
       "      <td>OMIM:620796</td>\n",
       "      <td>Proteasome-associated autoinflammatory syndrome 6</td>\n",
       "      <td>HP:0000988</td>\n",
       "      <td>Skin rash</td>\n",
       "      <td></td>\n",
       "      <td></td>\n",
       "      <td>2/2</td>\n",
       "      <td></td>\n",
       "      <td></td>\n",
       "      <td></td>\n",
       "      <td></td>\n",
       "      <td>PMID:34819510</td>\n",
       "      <td>PCS</td>\n",
       "      <td>ORCID:0000-0002-0736-9199[2024-07-22]</td>\n",
       "    </tr>\n",
       "  </tbody>\n",
       "</table>\n",
       "</div>"
      ],
      "text/plain": [
       "    #diseaseID  ...                            biocuration\n",
       "0  OMIM:620796  ...  ORCID:0000-0002-0736-9199[2024-07-22]\n",
       "1  OMIM:620796  ...  ORCID:0000-0002-0736-9199[2024-07-22]\n",
       "2  OMIM:620796  ...  ORCID:0000-0002-0736-9199[2024-07-22]\n",
       "3  OMIM:620796  ...  ORCID:0000-0002-0736-9199[2024-07-22]\n",
       "4  OMIM:620796  ...  ORCID:0000-0002-0736-9199[2024-07-22]\n",
       "\n",
       "[5 rows x 14 columns]"
      ]
     },
     "execution_count": 10,
     "metadata": {},
     "output_type": "execute_result"
    }
   ],
   "source": [
    "pmid = \"PMID:34819510\"\n",
    "df = timporter.create_hpoa_from_phenopackets(pmid=pmid, mode_of_inheritance=Moi.AD, target=\"OMIM:620796\")\n",
    "df.head()"
   ]
  },
  {
   "cell_type": "code",
   "execution_count": null,
   "metadata": {},
   "outputs": [],
   "source": []
  }
 ],
 "metadata": {
  "kernelspec": {
   "display_name": "ps24venv",
   "language": "python",
   "name": "python3"
  },
  "language_info": {
   "codemirror_mode": {
    "name": "ipython",
    "version": 3
   },
   "file_extension": ".py",
   "mimetype": "text/x-python",
   "name": "python",
   "nbconvert_exporter": "python",
   "pygments_lexer": "ipython3",
   "version": "3.9.6"
  }
 },
 "nbformat": 4,
 "nbformat_minor": 2
}
