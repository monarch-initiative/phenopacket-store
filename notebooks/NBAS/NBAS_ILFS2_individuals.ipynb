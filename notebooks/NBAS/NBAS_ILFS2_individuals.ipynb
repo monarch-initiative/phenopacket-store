{
 "cells": [
  {
   "cell_type": "markdown",
   "metadata": {},
   "source": [
    "# NBAS\n",
    "[infantile liver failure syndrome-2 (ILFS2)](https://www.omim.org/entry/616483) is caused by homozygous or compound heterozygous mutation in the NBAS gene."
   ]
  },
  {
   "cell_type": "code",
   "execution_count": 2,
   "metadata": {},
   "outputs": [
    {
     "name": "stdout",
     "output_type": "stream",
     "text": [
      "Using pyphetools version 0.9.100\n"
     ]
    }
   ],
   "source": [
    "from pyphetools.creation import TemplateImporter, Moi\n",
    "from pyphetools.visualization import IndividualTable, QcVisualizer\n",
    "from IPython.display import display, HTML\n",
    "import pyphetools\n",
    "print(f\"Using pyphetools version {pyphetools.__version__}\")"
   ]
  },
  {
   "cell_type": "code",
   "execution_count": 3,
   "metadata": {},
   "outputs": [
    {
     "name": "stdout",
     "output_type": "stream",
     "text": [
      "HPO version 2024-08-13\n"
     ]
    },
    {
     "name": "stderr",
     "output_type": "stream",
     "text": [
      "/Users/robin/GIT/phenopacket-store/ps24venv/lib/python3.12/site-packages/pyphetools/creation/case_template_encoder.py:535: SyntaxWarning: invalid escape sequence '\\_'\n",
      "  fname = re.sub('[^A-Za-z0-9\\_\\-]', '', fname)  # remove any illegal characters from filename\n"
     ]
    },
    {
     "ename": "ValueError",
     "evalue": "second header was parsed as float which usually means it was empty: h1=\"Unnamed: 19\", h2=\"nan\"",
     "output_type": "error",
     "traceback": [
      "\u001b[0;31m---------------------------------------------------------------------------\u001b[0m",
      "\u001b[0;31mValueError\u001b[0m                                Traceback (most recent call last)",
      "Cell \u001b[0;32mIn[3], line 4\u001b[0m\n\u001b[1;32m      2\u001b[0m created_by \u001b[38;5;241m=\u001b[39m \u001b[38;5;124m\"\u001b[39m\u001b[38;5;124m0000-0002-0736-9199\u001b[39m\u001b[38;5;124m\"\u001b[39m\n\u001b[1;32m      3\u001b[0m timporter \u001b[38;5;241m=\u001b[39m TemplateImporter(template\u001b[38;5;241m=\u001b[39mtemplate,  created_by\u001b[38;5;241m=\u001b[39mcreated_by)\n\u001b[0;32m----> 4\u001b[0m individual_list, cvalidator \u001b[38;5;241m=\u001b[39m \u001b[43mtimporter\u001b[49m\u001b[38;5;241;43m.\u001b[39;49m\u001b[43mimport_phenopackets_from_template\u001b[49m\u001b[43m(\u001b[49m\u001b[43m)\u001b[49m\n",
      "File \u001b[0;32m~/GIT/phenopacket-store/ps24venv/lib/python3.12/site-packages/pyphetools/creation/import_template.py:159\u001b[0m, in \u001b[0;36mTemplateImporter.import_phenopackets_from_template\u001b[0;34m(self, deletions, duplications, inversions, translocations, hemizygous, leniant_MOI)\u001b[0m\n\u001b[1;32m    157\u001b[0m \u001b[38;5;28mprint\u001b[39m(\u001b[38;5;124mf\u001b[39m\u001b[38;5;124m\"\u001b[39m\u001b[38;5;124mHPO version \u001b[39m\u001b[38;5;132;01m{\u001b[39;00mhpo_ontology\u001b[38;5;241m.\u001b[39mversion\u001b[38;5;132;01m}\u001b[39;00m\u001b[38;5;124m\"\u001b[39m)\n\u001b[1;32m    158\u001b[0m df \u001b[38;5;241m=\u001b[39m pd\u001b[38;5;241m.\u001b[39mread_excel(\u001b[38;5;28mself\u001b[39m\u001b[38;5;241m.\u001b[39m_template)\n\u001b[0;32m--> 159\u001b[0m encoder \u001b[38;5;241m=\u001b[39m \u001b[43mCaseTemplateEncoder\u001b[49m\u001b[43m(\u001b[49m\u001b[43mdf\u001b[49m\u001b[38;5;241;43m=\u001b[39;49m\u001b[43mdf\u001b[49m\u001b[43m,\u001b[49m\u001b[43m \u001b[49m\u001b[43mhpo_cr\u001b[49m\u001b[38;5;241;43m=\u001b[39;49m\u001b[43mhpo_cr\u001b[49m\u001b[43m,\u001b[49m\u001b[43m \u001b[49m\u001b[43mcreated_by\u001b[49m\u001b[38;5;241;43m=\u001b[39;49m\u001b[38;5;28;43mself\u001b[39;49m\u001b[38;5;241;43m.\u001b[39;49m\u001b[43m_created_by\u001b[49m\u001b[43m,\u001b[49m\u001b[43m \u001b[49m\u001b[43mhpo_ontology\u001b[49m\u001b[38;5;241;43m=\u001b[39;49m\u001b[43mhpo_ontology\u001b[49m\u001b[43m)\u001b[49m\n\u001b[1;32m    160\u001b[0m individuals \u001b[38;5;241m=\u001b[39m encoder\u001b[38;5;241m.\u001b[39mget_individuals()\n\u001b[1;32m    161\u001b[0m disease_id, disease_label, HGNC_id, gene_symbol, transcript \u001b[38;5;241m=\u001b[39m TemplateImporter\u001b[38;5;241m.\u001b[39m_get_data_from_template(df)\n",
      "File \u001b[0;32m~/GIT/phenopacket-store/ps24venv/lib/python3.12/site-packages/pyphetools/creation/case_template_encoder.py:248\u001b[0m, in \u001b[0;36mCaseTemplateEncoder.__init__\u001b[0;34m(self, df, hpo_cr, created_by, hpo_ontology)\u001b[0m\n\u001b[1;32m    246\u001b[0m \u001b[38;5;28mself\u001b[39m\u001b[38;5;241m.\u001b[39m_header_fields_1 \u001b[38;5;241m=\u001b[39m header_1\n\u001b[1;32m    247\u001b[0m \u001b[38;5;28mself\u001b[39m\u001b[38;5;241m.\u001b[39m_n_columns \u001b[38;5;241m=\u001b[39m \u001b[38;5;28mlen\u001b[39m(header_1)\n\u001b[0;32m--> 248\u001b[0m \u001b[38;5;28mself\u001b[39m\u001b[38;5;241m.\u001b[39m_index_to_decoder \u001b[38;5;241m=\u001b[39m \u001b[38;5;28;43mself\u001b[39;49m\u001b[38;5;241;43m.\u001b[39;49m\u001b[43m_process_header\u001b[49m\u001b[43m(\u001b[49m\u001b[43mheader_1\u001b[49m\u001b[38;5;241;43m=\u001b[39;49m\u001b[43mheader_1\u001b[49m\u001b[43m,\u001b[49m\u001b[43m \u001b[49m\u001b[43mheader_2\u001b[49m\u001b[38;5;241;43m=\u001b[39;49m\u001b[43mheader_2\u001b[49m\u001b[43m,\u001b[49m\u001b[43m \u001b[49m\u001b[43mhpo_cr\u001b[49m\u001b[38;5;241;43m=\u001b[39;49m\u001b[43mhpo_cr\u001b[49m\u001b[43m)\u001b[49m\n\u001b[1;32m    249\u001b[0m data_df \u001b[38;5;241m=\u001b[39m df\u001b[38;5;241m.\u001b[39miloc[\u001b[38;5;241m1\u001b[39m:]\n\u001b[1;32m    250\u001b[0m \u001b[38;5;28mself\u001b[39m\u001b[38;5;241m.\u001b[39m_check_for_duplicate_individual_ids(data_df)\n",
      "File \u001b[0;32m~/GIT/phenopacket-store/ps24venv/lib/python3.12/site-packages/pyphetools/creation/case_template_encoder.py:295\u001b[0m, in \u001b[0;36mCaseTemplateEncoder._process_header\u001b[0;34m(self, header_1, header_2, hpo_cr)\u001b[0m\n\u001b[1;32m    293\u001b[0m \u001b[38;5;28;01melif\u001b[39;00m in_hpo_range:\n\u001b[1;32m    294\u001b[0m     ntr \u001b[38;5;241m=\u001b[39m  h2 \u001b[38;5;241m==\u001b[39m \u001b[38;5;124m\"\u001b[39m\u001b[38;5;124mNTR\u001b[39m\u001b[38;5;124m\"\u001b[39m\n\u001b[0;32m--> 295\u001b[0m     encoder \u001b[38;5;241m=\u001b[39m \u001b[43mHpoEncoder\u001b[49m\u001b[43m(\u001b[49m\u001b[43mh1\u001b[49m\u001b[38;5;241;43m=\u001b[39;49m\u001b[43mh1\u001b[49m\u001b[43m,\u001b[49m\u001b[43m \u001b[49m\u001b[43mh2\u001b[49m\u001b[38;5;241;43m=\u001b[39;49m\u001b[43mh2\u001b[49m\u001b[43m,\u001b[49m\u001b[43m \u001b[49m\u001b[43mntr\u001b[49m\u001b[38;5;241;43m=\u001b[39;49m\u001b[43mntr\u001b[49m\u001b[43m)\u001b[49m\n\u001b[1;32m    296\u001b[0m     \u001b[38;5;28;01mif\u001b[39;00m ntr:\n\u001b[1;32m    297\u001b[0m         \u001b[38;5;28mself\u001b[39m\u001b[38;5;241m.\u001b[39m_ntr_set\u001b[38;5;241m.\u001b[39madd(h1)\n",
      "File \u001b[0;32m~/GIT/phenopacket-store/ps24venv/lib/python3.12/site-packages/pyphetools/creation/case_template_encoder.py:81\u001b[0m, in \u001b[0;36mHpoEncoder.__init__\u001b[0;34m(self, h1, h2, ntr)\u001b[0m\n\u001b[1;32m     79\u001b[0m     \u001b[38;5;28mself\u001b[39m\u001b[38;5;241m.\u001b[39m_error \u001b[38;5;241m=\u001b[39m \u001b[38;5;124mf\u001b[39m\u001b[38;5;124m\"\u001b[39m\u001b[38;5;124mError - HPO label ends with whitespace: \u001b[39m\u001b[38;5;124m\\\u001b[39m\u001b[38;5;124m”\u001b[39m\u001b[38;5;132;01m{\u001b[39;00mh1\u001b[38;5;132;01m}\u001b[39;00m\u001b[38;5;130;01m\\\"\u001b[39;00m\u001b[38;5;124m\"\u001b[39m\n\u001b[1;32m     80\u001b[0m \u001b[38;5;28;01melif\u001b[39;00m \u001b[38;5;28misinstance\u001b[39m(h2, \u001b[38;5;28mfloat\u001b[39m):\n\u001b[0;32m---> 81\u001b[0m     \u001b[38;5;28;01mraise\u001b[39;00m \u001b[38;5;167;01mValueError\u001b[39;00m(\u001b[38;5;124mf\u001b[39m\u001b[38;5;124m\"\u001b[39m\u001b[38;5;124msecond header was parsed as float which usually means it was empty: h1=\u001b[39m\u001b[38;5;130;01m\\\"\u001b[39;00m\u001b[38;5;132;01m{\u001b[39;00mh1\u001b[38;5;132;01m}\u001b[39;00m\u001b[38;5;130;01m\\\"\u001b[39;00m\u001b[38;5;124m, h2=\u001b[39m\u001b[38;5;130;01m\\\"\u001b[39;00m\u001b[38;5;132;01m{\u001b[39;00mh2\u001b[38;5;132;01m}\u001b[39;00m\u001b[38;5;130;01m\\\"\u001b[39;00m\u001b[38;5;124m\"\u001b[39m)\n\u001b[1;32m     82\u001b[0m \u001b[38;5;28;01melif\u001b[39;00m h2\u001b[38;5;241m.\u001b[39mstartswith(\u001b[38;5;124m\"\u001b[39m\u001b[38;5;124mHP:\u001b[39m\u001b[38;5;124m\"\u001b[39m) \u001b[38;5;129;01mand\u001b[39;00m \u001b[38;5;28mlen\u001b[39m(h2) \u001b[38;5;241m!=\u001b[39m \u001b[38;5;241m10\u001b[39m:\n\u001b[1;32m     83\u001b[0m     \u001b[38;5;28mself\u001b[39m\u001b[38;5;241m.\u001b[39m_error \u001b[38;5;241m=\u001b[39m \u001b[38;5;124mf\u001b[39m\u001b[38;5;124m\"\u001b[39m\u001b[38;5;124mError - Malformed HPO id: \u001b[39m\u001b[38;5;124m\\\u001b[39m\u001b[38;5;124m”\u001b[39m\u001b[38;5;132;01m{\u001b[39;00mh2\u001b[38;5;132;01m}\u001b[39;00m\u001b[38;5;130;01m\\\"\u001b[39;00m\u001b[38;5;124m (\u001b[39m\u001b[38;5;132;01m{\u001b[39;00mh1\u001b[38;5;132;01m}\u001b[39;00m\u001b[38;5;124m)\u001b[39m\u001b[38;5;124m\"\u001b[39m\n",
      "\u001b[0;31mValueError\u001b[0m: second header was parsed as float which usually means it was empty: h1=\"Unnamed: 19\", h2=\"nan\""
     ]
    }
   ],
   "source": [
    "template = \"input/NBAS_ILFS2_individuals.xlsx\"\n",
    "created_by = \"0000-0002-0736-9199\"\n",
    "timporter = TemplateImporter(template=template,  created_by=created_by)\n",
    "individual_list, cvalidator = timporter.import_phenopackets_from_template()"
   ]
  },
  {
   "cell_type": "code",
   "execution_count": null,
   "metadata": {},
   "outputs": [],
   "source": [
    "\n"
   ]
  },
  {
   "cell_type": "code",
   "execution_count": null,
   "metadata": {},
   "outputs": [],
   "source": []
  }
 ],
 "metadata": {
  "kernelspec": {
   "display_name": "ps24venv",
   "language": "python",
   "name": "python3"
  },
  "language_info": {
   "codemirror_mode": {
    "name": "ipython",
    "version": 3
   },
   "file_extension": ".py",
   "mimetype": "text/x-python",
   "name": "python",
   "nbconvert_exporter": "python",
   "pygments_lexer": "ipython3",
   "version": "3.12.4"
  }
 },
 "nbformat": 4,
 "nbformat_minor": 2
}
