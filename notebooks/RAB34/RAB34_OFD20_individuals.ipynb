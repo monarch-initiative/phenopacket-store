{
 "cells": [
  {
   "cell_type": "markdown",
   "metadata": {},
   "source": [
    "# RAB34\n",
    "[orofaciodigital syndrome-20 (OFD20)](https://omim.org/entry/620718) is caused by homozygous or compound heterozygous mutation in the RAB34 gene."
   ]
  },
  {
   "cell_type": "code",
   "execution_count": 3,
   "metadata": {},
   "outputs": [
    {
     "name": "stdout",
     "output_type": "stream",
     "text": [
      "Using pyphetools version 0.9.92\n"
     ]
    }
   ],
   "source": [
    "from pyphetools.creation import TemplateImporter\n",
    "from pyphetools.visualization import IndividualTable, QcVisualizer\n",
    "from IPython.display import display, HTML\n",
    "import pyphetools\n",
    "print(f\"Using pyphetools version {pyphetools.__version__}\")"
   ]
  },
  {
   "cell_type": "code",
   "execution_count": 4,
   "metadata": {},
   "outputs": [],
   "source": [
    "template = \"input/RAB34_OFD20_individuals.xlsx\"\n",
    "created_by = \"0000-0002-0736-9199\""
   ]
  },
  {
   "cell_type": "code",
   "execution_count": 9,
   "metadata": {},
   "outputs": [
    {
     "name": "stdout",
     "output_type": "stream",
     "text": [
      "HPO version 2024-06-25\n",
      "Created encoders for 56 fields\n",
      "Importing OMIM:620718, Orofaciodigital syndrome XX, HGNC:16519, RAB34,  NM_031934.6\n",
      "We output 5 GA4GH phenopackets to the directory phenopackets\n"
     ]
    }
   ],
   "source": [
    "timporter = TemplateImporter(template=template,  created_by=created_by)\n",
    "individual_list, cvalidator = timporter.import_phenopackets_from_template()"
   ]
  },
  {
   "cell_type": "code",
   "execution_count": 10,
   "metadata": {},
   "outputs": [
    {
     "data": {
      "text/html": [
       "<h2>Cohort validation</h2>\n",
       "<p>No errors found for the cohort with 5 individuals</p>"
      ],
      "text/plain": [
       "<IPython.core.display.HTML object>"
      ]
     },
     "metadata": {},
     "output_type": "display_data"
    }
   ],
   "source": [
    "qc = QcVisualizer(cohort_validator=cvalidator)\n",
    "display(HTML(qc.to_summary_html()))"
   ]
  },
  {
   "cell_type": "code",
   "execution_count": 11,
   "metadata": {},
   "outputs": [
    {
     "data": {
      "text/html": [
       "<table style=\"border: 2px solid black; align: \"left\">\n",
       "<caption>5 phenopackets - PMID:37384395 (n=4); PMID:37619988 (n=1)</caption>\n",
       "<tr><th style=\"text-align: left;font-weight: bold;\">Individual</th><th style=\"text-align: left;font-weight: bold;\">Disease</th><th style=\"text-align: left;font-weight: bold;\">Genotype</th><th style=\"text-align: left;font-weight: bold;\">Phenotypic features</th></tr>\n",
       "<tr><td style=\"text-align: left;\">F1 (MALE; n/a)</td><td style=\"text-align: left;\">Orofaciodigital syndrome XX (OMIM:620718)</td><td style=\"text-align: left;\">NM_031934.6:c.632G>A (homozygous)</td><td style=\"text-align: left;\">Short femur (HP:0003097); Hypertelorism (HP:0000316); Preaxial hand polydactyly (HP:0001177); Preaxial foot polydactyly (HP:0001841); Anal atresia (HP:0002023); Cleft palate (HP:0000175); Agenesis of corpus callosum (HP:0001274); Ventricular septal defect (HP:0001629); Cerebellar hypoplasia (HP:0001321); Microtia (HP:0008551); excluded: Low-set ears (HP:0000369); excluded: Wide nasal bridge (HP:0000431); excluded: Mesoaxial hand polydactyly (HP:0006159); excluded: Postaxial hand polydactyly (HP:0001162); excluded: Mesoaxial foot polydactyly (HP:0010112); excluded: Postaxial foot polydactyly (HP:0001830); excluded: Synophrys (HP:0000664); excluded: Cleft lip (HP:0410030); excluded: Lobulated tongue (HP:0000180); excluded: Turricephaly (HP:0000262); excluded: Retrognathia (HP:0000278); excluded: Macrocephaly (HP:0000256); excluded: Polyhydramnios (HP:0001561); excluded: Broad forehead (HP:0000337); excluded: Truncus arteriosus (HP:0001660); excluded: Atrioventricular canal defect (HP:0006695); excluded: Micrognathia (HP:0000347); excluded: Bilobed right lung (HP:0033183)</td></tr>\n",
       "<tr><td style=\"text-align: left;\">F2.1 (MALE; n/a)</td><td style=\"text-align: left;\">Orofaciodigital syndrome XX (OMIM:620718)</td><td style=\"text-align: left;\">NM_031934.6:c.605G>T (homozygous)</td><td style=\"text-align: left;\">Mesoaxial hand polydactyly (HP:0006159); Preaxial hand polydactyly (HP:0001177); Postaxial hand polydactyly (HP:0001162); Mesoaxial foot polydactyly (HP:0010112); Preaxial foot polydactyly (HP:0001841); Postaxial foot polydactyly (HP:0001830); Cleft palate (HP:0000175); Turricephaly (HP:0000262); Micrognathia (HP:0000347); excluded: Hypertelorism (HP:0000316); excluded: Low-set ears (HP:0000369); excluded: Wide nasal bridge (HP:0000431); excluded: Synophrys (HP:0000664); excluded: Short femur (HP:0003097); excluded: Anal atresia (HP:0002023); excluded: Cleft lip (HP:0410030); excluded: Lobulated tongue (HP:0000180); excluded: Agenesis of corpus callosum (HP:0001274); excluded: Retrognathia (HP:0000278); excluded: Macrocephaly (HP:0000256); excluded: Polyhydramnios (HP:0001561); excluded: Broad forehead (HP:0000337); excluded: Truncus arteriosus (HP:0001660); excluded: Atrioventricular canal defect (HP:0006695); excluded: Ventricular septal defect (HP:0001629); excluded: Microtia (HP:0008551); excluded: Bilobed right lung (HP:0033183)</td></tr>\n",
       "<tr><td style=\"text-align: left;\">F2.2 (MALE; n/a)</td><td style=\"text-align: left;\">Orofaciodigital syndrome XX (OMIM:620718)</td><td style=\"text-align: left;\">NM_031934.6:c.605G>T (homozygous)</td><td style=\"text-align: left;\">Hypertelorism (HP:0000316); Low-set ears (HP:0000369); Mesoaxial hand polydactyly (HP:0006159); Preaxial hand polydactyly (HP:0001177); Mesoaxial foot polydactyly (HP:0010112); Preaxial foot polydactyly (HP:0001841); Synophrys (HP:0000664); Anal atresia (HP:0002023); Cleft palate (HP:0000175); Truncus arteriosus (HP:0001660); Micrognathia (HP:0000347); Bilobed right lung (HP:0033183); excluded: Wide nasal bridge (HP:0000431); excluded: Postaxial hand polydactyly (HP:0001162); excluded: Postaxial foot polydactyly (HP:0001830); excluded: Short femur (HP:0003097); excluded: Cleft lip (HP:0410030); excluded: Lobulated tongue (HP:0000180); excluded: Turricephaly (HP:0000262); excluded: Agenesis of corpus callosum (HP:0001274); excluded: Retrognathia (HP:0000278); excluded: Macrocephaly (HP:0000256); excluded: Polyhydramnios (HP:0001561); excluded: Broad forehead (HP:0000337); excluded: Atrioventricular canal defect (HP:0006695); excluded: Ventricular septal defect (HP:0001629); excluded: Microtia (HP:0008551)</td></tr>\n",
       "<tr><td style=\"text-align: left;\">F3 (MALE; P3M)</td><td style=\"text-align: left;\">Orofaciodigital syndrome XX (OMIM:620718)</td><td style=\"text-align: left;\">NM_031934.6:c.652G>A (homozygous)</td><td style=\"text-align: left;\">Cleft lip (HP:0410030); Agenesis of corpus callosum (HP:0001274); Polyhydramnios (HP:0001561); Atrioventricular canal defect (HP:0006695); Wide nasal bridge (HP:0000431); Preaxial hand polydactyly (HP:0001177); Preaxial foot polydactyly (HP:0001841); Cleft palate (HP:0000175); Lobulated tongue (HP:0000180); Retrognathia (HP:0000278); Macrocephaly (HP:0000256); Broad forehead (HP:0000337); excluded: Hypertelorism (HP:0000316); excluded: Low-set ears (HP:0000369); excluded: Mesoaxial hand polydactyly (HP:0006159); excluded: Postaxial hand polydactyly (HP:0001162); excluded: Mesoaxial foot polydactyly (HP:0010112); excluded: Postaxial foot polydactyly (HP:0001830); excluded: Synophrys (HP:0000664); excluded: Short femur (HP:0003097); excluded: Anal atresia (HP:0002023); excluded: Turricephaly (HP:0000262); excluded: Truncus arteriosus (HP:0001660); excluded: Ventricular septal defect (HP:0001629); excluded: Microtia (HP:0008551); excluded: Micrognathia (HP:0000347); excluded: Bilobed right lung (HP:0033183)</td></tr>\n",
       "<tr><td style=\"text-align: left;\">nan (UNKNOWN; n/a)</td><td style=\"text-align: left;\">Orofaciodigital syndrome XX (OMIM:620718)</td><td style=\"text-align: left;\"><ul> <li>NM_031934.6:c.254T>C (heterozygous)</li> <li>NM_031934.6:c.691C>T (heterozygous)</li> </ul></td><td style=\"text-align: left;\">Low-set ears (HP:0000369); Increased nuchal translucency (HP:0010880); Postaxial hand polydactyly (HP:0001162); Postaxial foot polydactyly (HP:0001830); Cleft lip (HP:0410030); Cleft palate (HP:0000175); Atrioventricular canal defect (HP:0006695); Micrognathia (HP:0000347)</td></tr>\n",
       "</table>"
      ],
      "text/plain": [
       "<IPython.core.display.HTML object>"
      ]
     },
     "metadata": {},
     "output_type": "display_data"
    }
   ],
   "source": [
    "table = IndividualTable(cvalidator.get_error_free_individual_list())\n",
    "display(HTML(table.to_html()))"
   ]
  },
  {
   "cell_type": "code",
   "execution_count": 12,
   "metadata": {},
   "outputs": [
    {
     "name": "stdout",
     "output_type": "stream",
     "text": [
      "[pyphetools] Ingested 5 GA4GH phenopackets.\n",
      "[INFO] Extracted 5 from 5 phenopackets with OMIM:620718\n",
      "\n",
      "\tOrofaciodigital syndrome XX (OMIM:620718): n=5\n",
      "We found a total of 29 unique HPO terms\n",
      "Extracted disease: Orofaciodigital syndrome XX (OMIM:620718)\n",
      "Wrote HPOA disease file to OMIM-620718.tab\n"
     ]
    }
   ],
   "source": [
    "pmid = \"PMID:37384395\"\n",
    "df = timporter.create_hpoa_from_phenopackets(pmid=pmid, moi=\"Autosomal recessive\", target=\"OMIM:620718\")"
   ]
  },
  {
   "cell_type": "code",
   "execution_count": null,
   "metadata": {},
   "outputs": [],
   "source": []
  }
 ],
 "metadata": {
  "kernelspec": {
   "display_name": "ps24venv",
   "language": "python",
   "name": "python3"
  },
  "language_info": {
   "codemirror_mode": {
    "name": "ipython",
    "version": 3
   },
   "file_extension": ".py",
   "mimetype": "text/x-python",
   "name": "python",
   "nbconvert_exporter": "python",
   "pygments_lexer": "ipython3",
   "version": "3.9.6"
  }
 },
 "nbformat": 4,
 "nbformat_minor": 2
}
