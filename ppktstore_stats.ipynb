{
 "cells": [
  {
   "cell_type": "markdown",
   "metadata": {},
   "source": [
    "# Phenopacket store statistics\n",
    "\n",
    "This notebook performs quality assessment and calculate descriptive statistics about a phenopacket-store release. \n",
    "\n",
    "The input file is the zip file that is or will be added to each release."
   ]
  },
  {
   "cell_type": "code",
   "execution_count": 1,
   "metadata": {},
   "outputs": [],
   "source": [
    "from ppktstore.stats import PPKtStoreStats\n",
    "import pandas as pd\n",
    "pd.set_option('display.max_colwidth', None)\n",
    "pd.set_option('display.max_rows', None)\n",
    "pd.set_option('display.max_columns', None)"
   ]
  },
  {
   "cell_type": "code",
   "execution_count": 2,
   "metadata": {},
   "outputs": [
    {
     "name": "stdout",
     "output_type": "stream",
     "text": [
      "Extracted 4374 phenoapckets in 185 cohorts.\n"
     ]
    }
   ],
   "source": [
    "stats = PPKtStoreStats(input_zipfile=\"all_phenopackets.zip\")"
   ]
  },
  {
   "cell_type": "code",
   "execution_count": 3,
   "metadata": {},
   "outputs": [
    {
     "data": {
      "text/html": [
       "<div>\n",
       "<style scoped>\n",
       "    .dataframe tbody tr th:only-of-type {\n",
       "        vertical-align: middle;\n",
       "    }\n",
       "\n",
       "    .dataframe tbody tr th {\n",
       "        vertical-align: top;\n",
       "    }\n",
       "\n",
       "    .dataframe thead th {\n",
       "        text-align: right;\n",
       "    }\n",
       "</style>\n",
       "<table border=\"1\" class=\"dataframe\">\n",
       "  <thead>\n",
       "    <tr style=\"text-align: right;\">\n",
       "      <th></th>\n",
       "      <th>disease</th>\n",
       "      <th>disease_id</th>\n",
       "      <th>patient_id</th>\n",
       "      <th>gene</th>\n",
       "      <th>allele_1</th>\n",
       "      <th>allele_2</th>\n",
       "      <th>PMID</th>\n",
       "    </tr>\n",
       "  </thead>\n",
       "  <tbody>\n",
       "    <tr>\n",
       "      <th>0</th>\n",
       "      <td>Neurodevelopmental disorder with intracranial hemorrhage, seizures, and spasticity</td>\n",
       "      <td>OMIM:620371</td>\n",
       "      <td>Individual KCHYD24-1</td>\n",
       "      <td>ESAM</td>\n",
       "      <td>NM_138961.3:c.605T&gt;G</td>\n",
       "      <td></td>\n",
       "      <td>PMID:36996813</td>\n",
       "    </tr>\n",
       "    <tr>\n",
       "      <th>1</th>\n",
       "      <td>Neurodevelopmental disorder with intracranial hemorrhage, seizures, and spasticity</td>\n",
       "      <td>OMIM:620371</td>\n",
       "      <td>Individual 1</td>\n",
       "      <td>ESAM</td>\n",
       "      <td>NM_138961.3:c.115del</td>\n",
       "      <td></td>\n",
       "      <td>PMID:36996813</td>\n",
       "    </tr>\n",
       "  </tbody>\n",
       "</table>\n",
       "</div>"
      ],
      "text/plain": [
       "                                                                              disease  \\\n",
       "0  Neurodevelopmental disorder with intracranial hemorrhage, seizures, and spasticity   \n",
       "1  Neurodevelopmental disorder with intracranial hemorrhage, seizures, and spasticity   \n",
       "\n",
       "    disease_id            patient_id  gene              allele_1 allele_2  \\\n",
       "0  OMIM:620371  Individual KCHYD24-1  ESAM  NM_138961.3:c.605T>G            \n",
       "1  OMIM:620371          Individual 1  ESAM  NM_138961.3:c.115del            \n",
       "\n",
       "            PMID  \n",
       "0  PMID:36996813  \n",
       "1  PMID:36996813  "
      ]
     },
     "execution_count": 3,
     "metadata": {},
     "output_type": "execute_result"
    }
   ],
   "source": [
    "df = stats.get_df()\n",
    "df.head(2)"
   ]
  },
  {
   "cell_type": "code",
   "execution_count": 4,
   "metadata": {},
   "outputs": [
    {
     "name": "stdout",
     "output_type": "stream",
     "text": [
      "Got 2555 unique HPOs\n"
     ]
    },
    {
     "data": {
      "text/html": [
       "<div>\n",
       "<style scoped>\n",
       "    .dataframe tbody tr th:only-of-type {\n",
       "        vertical-align: middle;\n",
       "    }\n",
       "\n",
       "    .dataframe tbody tr th {\n",
       "        vertical-align: top;\n",
       "    }\n",
       "\n",
       "    .dataframe thead th {\n",
       "        text-align: right;\n",
       "    }\n",
       "</style>\n",
       "<table border=\"1\" class=\"dataframe\">\n",
       "  <thead>\n",
       "    <tr style=\"text-align: right;\">\n",
       "      <th></th>\n",
       "      <th>item</th>\n",
       "      <th>value</th>\n",
       "    </tr>\n",
       "  </thead>\n",
       "  <tbody>\n",
       "    <tr>\n",
       "      <th>0</th>\n",
       "      <td>phenopackets</td>\n",
       "      <td>4374</td>\n",
       "    </tr>\n",
       "    <tr>\n",
       "      <th>1</th>\n",
       "      <td>diseases</td>\n",
       "      <td>223</td>\n",
       "    </tr>\n",
       "    <tr>\n",
       "      <th>2</th>\n",
       "      <td>genes</td>\n",
       "      <td>186</td>\n",
       "    </tr>\n",
       "    <tr>\n",
       "      <th>3</th>\n",
       "      <td>alleles</td>\n",
       "      <td>2502</td>\n",
       "    </tr>\n",
       "    <tr>\n",
       "      <th>4</th>\n",
       "      <td>PMIDs</td>\n",
       "      <td>514</td>\n",
       "    </tr>\n",
       "    <tr>\n",
       "      <th>5</th>\n",
       "      <td>individuals per disease (max)</td>\n",
       "      <td>463</td>\n",
       "    </tr>\n",
       "    <tr>\n",
       "      <th>6</th>\n",
       "      <td>individuals per disease (min)</td>\n",
       "      <td>1</td>\n",
       "    </tr>\n",
       "    <tr>\n",
       "      <th>7</th>\n",
       "      <td>individuals per disease (mean)</td>\n",
       "      <td>19.61435</td>\n",
       "    </tr>\n",
       "    <tr>\n",
       "      <th>8</th>\n",
       "      <td>individuals per disease (median)</td>\n",
       "      <td>8.0</td>\n",
       "    </tr>\n",
       "    <tr>\n",
       "      <th>9</th>\n",
       "      <td>individuals per disease (n&gt;=10)</td>\n",
       "      <td>99</td>\n",
       "    </tr>\n",
       "    <tr>\n",
       "      <th>10</th>\n",
       "      <td>individuals per disease (n&gt;=20)</td>\n",
       "      <td>50</td>\n",
       "    </tr>\n",
       "    <tr>\n",
       "      <th>11</th>\n",
       "      <td>individuals per disease (n&gt;=50)</td>\n",
       "      <td>15</td>\n",
       "    </tr>\n",
       "    <tr>\n",
       "      <th>12</th>\n",
       "      <td>individuals per disease (n&gt;=100)</td>\n",
       "      <td>5</td>\n",
       "    </tr>\n",
       "    <tr>\n",
       "      <th>13</th>\n",
       "      <td>genes associated with a single disease</td>\n",
       "      <td>0</td>\n",
       "    </tr>\n",
       "    <tr>\n",
       "      <th>14</th>\n",
       "      <td>genes associated with two diseases</td>\n",
       "      <td>1</td>\n",
       "    </tr>\n",
       "    <tr>\n",
       "      <th>15</th>\n",
       "      <td>genes associated with multiple diseases</td>\n",
       "      <td>2</td>\n",
       "    </tr>\n",
       "    <tr>\n",
       "      <th>16</th>\n",
       "      <td>gene with maximum number of diseases</td>\n",
       "      <td>1 with 221 associated diseases</td>\n",
       "    </tr>\n",
       "    <tr>\n",
       "      <th>17</th>\n",
       "      <td>individuals per gene (max)</td>\n",
       "      <td>463</td>\n",
       "    </tr>\n",
       "    <tr>\n",
       "      <th>18</th>\n",
       "      <td>individuals per gene (min)</td>\n",
       "      <td>1</td>\n",
       "    </tr>\n",
       "    <tr>\n",
       "      <th>19</th>\n",
       "      <td>individuals per gene (mean)</td>\n",
       "      <td>23.516129</td>\n",
       "    </tr>\n",
       "    <tr>\n",
       "      <th>20</th>\n",
       "      <td>individuals per gene (median)</td>\n",
       "      <td>7.5</td>\n",
       "    </tr>\n",
       "    <tr>\n",
       "      <th>21</th>\n",
       "      <td>individuals per gene (n&gt;=10)</td>\n",
       "      <td>83</td>\n",
       "    </tr>\n",
       "    <tr>\n",
       "      <th>22</th>\n",
       "      <td>individuals per gene (n&gt;=20)</td>\n",
       "      <td>46</td>\n",
       "    </tr>\n",
       "    <tr>\n",
       "      <th>23</th>\n",
       "      <td>individuals per gene (n&gt;=50)</td>\n",
       "      <td>17</td>\n",
       "    </tr>\n",
       "    <tr>\n",
       "      <th>24</th>\n",
       "      <td>individuals per gene (n&gt;=100)</td>\n",
       "      <td>7</td>\n",
       "    </tr>\n",
       "    <tr>\n",
       "      <th>25</th>\n",
       "      <td>total HPO terms used</td>\n",
       "      <td>2555</td>\n",
       "    </tr>\n",
       "  </tbody>\n",
       "</table>\n",
       "</div>"
      ],
      "text/plain": [
       "                                       item                           value\n",
       "0                              phenopackets                            4374\n",
       "1                                  diseases                             223\n",
       "2                                     genes                             186\n",
       "3                                   alleles                            2502\n",
       "4                                     PMIDs                             514\n",
       "5             individuals per disease (max)                             463\n",
       "6             individuals per disease (min)                               1\n",
       "7            individuals per disease (mean)                        19.61435\n",
       "8          individuals per disease (median)                             8.0\n",
       "9           individuals per disease (n>=10)                              99\n",
       "10          individuals per disease (n>=20)                              50\n",
       "11          individuals per disease (n>=50)                              15\n",
       "12         individuals per disease (n>=100)                               5\n",
       "13   genes associated with a single disease                               0\n",
       "14       genes associated with two diseases                               1\n",
       "15  genes associated with multiple diseases                               2\n",
       "16     gene with maximum number of diseases  1 with 221 associated diseases\n",
       "17               individuals per gene (max)                             463\n",
       "18               individuals per gene (min)                               1\n",
       "19              individuals per gene (mean)                       23.516129\n",
       "20            individuals per gene (median)                             7.5\n",
       "21             individuals per gene (n>=10)                              83\n",
       "22             individuals per gene (n>=20)                              46\n",
       "23             individuals per gene (n>=50)                              17\n",
       "24            individuals per gene (n>=100)                               7\n",
       "25                     total HPO terms used                            2555"
      ]
     },
     "execution_count": 4,
     "metadata": {},
     "output_type": "execute_result"
    }
   ],
   "source": [
    "stats_d = stats.get_descriptive_stats()\n",
    "items = list()\n",
    "for k,v in stats_d.items():\n",
    "    items.append({\"item\": k, \"value\": v})\n",
    "df = pd.DataFrame(items)\n",
    "df.head(30)"
   ]
  },
  {
   "cell_type": "markdown",
   "metadata": {},
   "source": [
    "# Display distribution of counts of phenopackets per disease"
   ]
  },
  {
   "cell_type": "code",
   "execution_count": 5,
   "metadata": {},
   "outputs": [
    {
     "data": {
      "text/html": [
       "<div>\n",
       "<style scoped>\n",
       "    .dataframe tbody tr th:only-of-type {\n",
       "        vertical-align: middle;\n",
       "    }\n",
       "\n",
       "    .dataframe tbody tr th {\n",
       "        vertical-align: top;\n",
       "    }\n",
       "\n",
       "    .dataframe thead th {\n",
       "        text-align: right;\n",
       "    }\n",
       "</style>\n",
       "<table border=\"1\" class=\"dataframe\">\n",
       "  <thead>\n",
       "    <tr style=\"text-align: right;\">\n",
       "      <th></th>\n",
       "      <th>disease</th>\n",
       "      <th>count</th>\n",
       "    </tr>\n",
       "  </thead>\n",
       "  <tbody>\n",
       "    <tr>\n",
       "      <th>0</th>\n",
       "      <td>OMIM:620371</td>\n",
       "      <td>14</td>\n",
       "    </tr>\n",
       "    <tr>\n",
       "      <th>1</th>\n",
       "      <td>OMIM:150250</td>\n",
       "      <td>3</td>\n",
       "    </tr>\n",
       "  </tbody>\n",
       "</table>\n",
       "</div>"
      ],
      "text/plain": [
       "       disease  count\n",
       "0  OMIM:620371     14\n",
       "1  OMIM:150250      3"
      ]
     },
     "execution_count": 5,
     "metadata": {},
     "output_type": "execute_result"
    }
   ],
   "source": [
    "counts_per_disease = stats.get_counts_per_disease_df()\n",
    "counts_per_disease.head(2)"
   ]
  },
  {
   "cell_type": "code",
   "execution_count": 6,
   "metadata": {},
   "outputs": [],
   "source": [
    "import matplotlib.pyplot as plt\n",
    "import pandas as pd\n",
    "\n",
    "def plot_with_max(\n",
    "        disease_counts: pd.Series,\n",
    "        max_val: int,\n",
    "        ax=None,\n",
    "        ):\n",
    "    assert isinstance(max_val, int) and max_val > 0, '`max_val` must be a positive `int`'\n",
    "\n",
    "    if ax is None:\n",
    "        _, ax = plt.subplots(figsize=(7, 4), dpi=300)\n",
    "\n",
    "    bins = list(range(max_val + 1)) + [disease_counts.max() + 1]\n",
    "    labels = list(map(str, bins[:-2])) + [f'  ≥{max_val}']\n",
    "    cats = pd.cut(\n",
    "        x=disease_counts,\n",
    "        bins=bins,\n",
    "        labels=labels,\n",
    "        right=False,\n",
    "    )\n",
    "    cat_count = cats.value_counts().sort_index()\n",
    "    ax.bar(x=cat_count.index, height=cat_count.values)\n",
    "    ax.set(\n",
    "        xlabel='Number of cases',\n",
    "        ylabel='Disease count',\n",
    "    )\n",
    "    ax.grid(axis='y')\n"
   ]
  },
  {
   "cell_type": "code",
   "execution_count": 7,
   "metadata": {},
   "outputs": [
    {
     "data": {
      "image/png": "[encoded data removed]",
      "text/plain": [
       "<Figure size 2100x1200 with 1 Axes>"
      ]
     },
     "metadata": {},
     "output_type": "display_data"
    }
   ],
   "source": [
    "plot_with_max(\n",
    "    disease_counts=counts_per_disease[\"count\"],\n",
    "    max_val=25,\n",
    ")\n",
    "plt.savefig('counts_per_disease.png')"
   ]
  },
  {
   "cell_type": "markdown",
   "metadata": {},
   "source": [
    "# Check all disease identifiers\n",
    "They should all be CURIEs with the prefixes OMIM or MONDO. There should be no whitespace between the colon and the suffix."
   ]
  },
  {
   "cell_type": "code",
   "execution_count": 8,
   "metadata": {},
   "outputs": [
    {
     "name": "stdout",
     "output_type": "stream",
     "text": [
      "No problems found.\n"
     ]
    }
   ],
   "source": [
    "df = stats.check_disease_id()"
   ]
  },
  {
   "cell_type": "markdown",
   "metadata": {},
   "source": [
    "# Check for duplicates\n",
    "In some cases, duplicate phenopackets were inadvertently added to some of the initial cohorts at earlier stages of the project. This function lists phenopacket identifers arranged according to variant and allows us to more easily check for this kind of error."
   ]
  },
  {
   "cell_type": "code",
   "execution_count": 9,
   "metadata": {},
   "outputs": [
    {
     "ename": "NameError",
     "evalue": "name 'input_zipfile' is not defined",
     "output_type": "error",
     "traceback": [
      "\u001b[0;31m---------------------------------------------------------------------------\u001b[0m",
      "\u001b[0;31mNameError\u001b[0m                                 Traceback (most recent call last)",
      "Cell \u001b[0;32mIn[9], line 1\u001b[0m\n\u001b[0;32m----> 1\u001b[0m df \u001b[38;5;241m=\u001b[39m stats\u001b[38;5;241m.\u001b[39mshow_possible_duplicates_by_variant(\u001b[43minput_zipfile\u001b[49m, \u001b[38;5;124m\"\u001b[39m\u001b[38;5;124mERI1\u001b[39m\u001b[38;5;124m\"\u001b[39m)\n",
      "\u001b[0;31mNameError\u001b[0m: name 'input_zipfile' is not defined"
     ]
    }
   ],
   "source": [
    "df = stats.show_possible_duplicates_by_variant(input_zipfile, \"ERI1\")"
   ]
  },
  {
   "cell_type": "markdown",
   "metadata": {},
   "source": [
    "# Quality control\n",
    "The following commands perform several consistency checks."
   ]
  },
  {
   "cell_type": "code",
   "execution_count": null,
   "metadata": {},
   "outputs": [
    {
     "name": "stdout",
     "output_type": "stream",
     "text": [
      "All phenopackets had at least one variant\n"
     ]
    }
   ],
   "source": [
    "df = stats.find_phenopackets_with_no_variants(input_zipfile=input_zipfile)"
   ]
  },
  {
   "cell_type": "code",
   "execution_count": null,
   "metadata": {},
   "outputs": [
    {
     "name": "stdout",
     "output_type": "stream",
     "text": [
      "No candidate duplicates found for ARPC5\n"
     ]
    },
    {
     "data": {
      "text/html": [
       "<div>\n",
       "<style scoped>\n",
       "    .dataframe tbody tr th:only-of-type {\n",
       "        vertical-align: middle;\n",
       "    }\n",
       "\n",
       "    .dataframe tbody tr th {\n",
       "        vertical-align: top;\n",
       "    }\n",
       "\n",
       "    .dataframe thead th {\n",
       "        text-align: right;\n",
       "    }\n",
       "</style>\n",
       "<table border=\"1\" class=\"dataframe\">\n",
       "  <thead>\n",
       "    <tr style=\"text-align: right;\">\n",
       "      <th></th>\n",
       "    </tr>\n",
       "  </thead>\n",
       "  <tbody>\n",
       "  </tbody>\n",
       "</table>\n",
       "</div>"
      ],
      "text/plain": [
       "Empty DataFrame\n",
       "Columns: []\n",
       "Index: []"
      ]
     },
     "execution_count": 16,
     "metadata": {},
     "output_type": "execute_result"
    }
   ],
   "source": [
    "stats.show_possible_duplicates_by_variant(input_zipfile, \"ARPC5\")"
   ]
  },
  {
   "cell_type": "code",
   "execution_count": null,
   "metadata": {},
   "outputs": [
    {
     "name": "stdout",
     "output_type": "stream",
     "text": [
      "All phenopackets had a disease diagnosis\n"
     ]
    },
    {
     "data": {
      "text/html": [
       "<div>\n",
       "<style scoped>\n",
       "    .dataframe tbody tr th:only-of-type {\n",
       "        vertical-align: middle;\n",
       "    }\n",
       "\n",
       "    .dataframe tbody tr th {\n",
       "        vertical-align: top;\n",
       "    }\n",
       "\n",
       "    .dataframe thead th {\n",
       "        text-align: right;\n",
       "    }\n",
       "</style>\n",
       "<table border=\"1\" class=\"dataframe\">\n",
       "  <thead>\n",
       "    <tr style=\"text-align: right;\">\n",
       "      <th></th>\n",
       "    </tr>\n",
       "  </thead>\n",
       "  <tbody>\n",
       "  </tbody>\n",
       "</table>\n",
       "</div>"
      ],
      "text/plain": [
       "Empty DataFrame\n",
       "Columns: []\n",
       "Index: []"
      ]
     },
     "execution_count": 17,
     "metadata": {},
     "output_type": "execute_result"
    }
   ],
   "source": [
    "stats.find_phenopackets_with_no_disease(input_zipfile)"
   ]
  },
  {
   "cell_type": "markdown",
   "metadata": {},
   "source": []
  }
 ],
 "metadata": {
  "kernelspec": {
   "display_name": "Python 3 (ipykernel)",
   "language": "python",
   "name": "python3"
  },
  "language_info": {
   "codemirror_mode": {
    "name": "ipython",
    "version": 3
   },
   "file_extension": ".py",
   "mimetype": "text/x-python",
   "name": "python",
   "nbconvert_exporter": "python",
   "pygments_lexer": "ipython3",
   "version": "3.9.6"
  }
 },
 "nbformat": 4,
 "nbformat_minor": 4
}
