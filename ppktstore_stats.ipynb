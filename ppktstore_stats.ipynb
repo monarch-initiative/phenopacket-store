{
 "cells": [
  {
   "cell_type": "markdown",
   "metadata": {},
   "source": [
    "# ppkt statistics\n",
    "\n",
    "This notebook performs quality assessment and calculate descriptive statistics about a phenopacket-store release. \n",
    "The input file is the zip file that is or will be added to each release."
   ]
  },
  {
   "cell_type": "code",
   "execution_count": 1,
   "metadata": {},
   "outputs": [],
   "source": [
    "from ppktstore.stats import PPKtStoreStats"
   ]
  },
  {
   "cell_type": "code",
   "execution_count": 2,
   "metadata": {},
   "outputs": [],
   "source": [
    "stats = PPKtStoreStats(input_zipfile=\"all_phenopackets.zip\")"
   ]
  },
  {
   "cell_type": "code",
   "execution_count": 3,
   "metadata": {},
   "outputs": [
    {
     "data": {
      "text/html": [
       "<div>\n",
       "<style scoped>\n",
       "    .dataframe tbody tr th:only-of-type {\n",
       "        vertical-align: middle;\n",
       "    }\n",
       "\n",
       "    .dataframe tbody tr th {\n",
       "        vertical-align: top;\n",
       "    }\n",
       "\n",
       "    .dataframe thead th {\n",
       "        text-align: right;\n",
       "    }\n",
       "</style>\n",
       "<table border=\"1\" class=\"dataframe\">\n",
       "  <thead>\n",
       "    <tr style=\"text-align: right;\">\n",
       "      <th></th>\n",
       "      <th>disease</th>\n",
       "      <th>disease_id</th>\n",
       "      <th>patient_id</th>\n",
       "      <th>gene</th>\n",
       "      <th>allele_1</th>\n",
       "      <th>allele_2</th>\n",
       "      <th>PMID</th>\n",
       "    </tr>\n",
       "  </thead>\n",
       "  <tbody>\n",
       "    <tr>\n",
       "      <th>0</th>\n",
       "      <td>Neurodevelopmental disorder with intracranial ...</td>\n",
       "      <td>OMIM:620371</td>\n",
       "      <td>Individual KCHYD24-1</td>\n",
       "      <td>ESAM</td>\n",
       "      <td>NM_138961.3:c.605T&gt;G</td>\n",
       "      <td></td>\n",
       "      <td>PMID:36996813</td>\n",
       "    </tr>\n",
       "    <tr>\n",
       "      <th>1</th>\n",
       "      <td>Neurodevelopmental disorder with intracranial ...</td>\n",
       "      <td>OMIM:620371</td>\n",
       "      <td>Individual 1</td>\n",
       "      <td>ESAM</td>\n",
       "      <td>NM_138961.3:c.115del</td>\n",
       "      <td></td>\n",
       "      <td>PMID:36996813</td>\n",
       "    </tr>\n",
       "    <tr>\n",
       "      <th>2</th>\n",
       "      <td>Neurodevelopmental disorder with intracranial ...</td>\n",
       "      <td>OMIM:620371</td>\n",
       "      <td>Individual 13</td>\n",
       "      <td>ESAM</td>\n",
       "      <td>NM_138961.3:c.451+1G&gt;A</td>\n",
       "      <td></td>\n",
       "      <td>PMID:36996813</td>\n",
       "    </tr>\n",
       "    <tr>\n",
       "      <th>3</th>\n",
       "      <td>Neurodevelopmental disorder with intracranial ...</td>\n",
       "      <td>OMIM:620371</td>\n",
       "      <td>Individual 7</td>\n",
       "      <td>ESAM</td>\n",
       "      <td>NM_138961.3:c.115del</td>\n",
       "      <td></td>\n",
       "      <td>PMID:36996813</td>\n",
       "    </tr>\n",
       "    <tr>\n",
       "      <th>4</th>\n",
       "      <td>Neurodevelopmental disorder with intracranial ...</td>\n",
       "      <td>OMIM:620371</td>\n",
       "      <td>Individual 12</td>\n",
       "      <td>ESAM</td>\n",
       "      <td>NM_138961.3:c.451+1G&gt;A</td>\n",
       "      <td></td>\n",
       "      <td>PMID:36996813</td>\n",
       "    </tr>\n",
       "  </tbody>\n",
       "</table>\n",
       "</div>"
      ],
      "text/plain": [
       "                                             disease   disease_id  \\\n",
       "0  Neurodevelopmental disorder with intracranial ...  OMIM:620371   \n",
       "1  Neurodevelopmental disorder with intracranial ...  OMIM:620371   \n",
       "2  Neurodevelopmental disorder with intracranial ...  OMIM:620371   \n",
       "3  Neurodevelopmental disorder with intracranial ...  OMIM:620371   \n",
       "4  Neurodevelopmental disorder with intracranial ...  OMIM:620371   \n",
       "\n",
       "             patient_id  gene                allele_1 allele_2           PMID  \n",
       "0  Individual KCHYD24-1  ESAM    NM_138961.3:c.605T>G           PMID:36996813  \n",
       "1          Individual 1  ESAM    NM_138961.3:c.115del           PMID:36996813  \n",
       "2         Individual 13  ESAM  NM_138961.3:c.451+1G>A           PMID:36996813  \n",
       "3          Individual 7  ESAM    NM_138961.3:c.115del           PMID:36996813  \n",
       "4         Individual 12  ESAM  NM_138961.3:c.451+1G>A           PMID:36996813  "
      ]
     },
     "execution_count": 3,
     "metadata": {},
     "output_type": "execute_result"
    }
   ],
   "source": [
    "df = stats.get_df()\n",
    "df.head()"
   ]
  },
  {
   "cell_type": "code",
   "execution_count": 4,
   "metadata": {},
   "outputs": [
    {
     "name": "stdout",
     "output_type": "stream",
     "text": [
      "phenopackets 4188\n",
      "diseases 386\n",
      "genes 343\n",
      "alleles 2054\n",
      "PMIDs 616\n",
      "individuals per disease (max) 464\n",
      "individuals per disease (min) 1\n",
      "individuals per disease (mean) 10.849740932642487\n",
      "individuals per disease (median) 1.0\n",
      "individuals per disease (n>=10) 88\n",
      "individuals per disease (n>=20) 45\n",
      "individuals per disease (n>=50) 18\n",
      "individuals per disease (n>=100) 6\n",
      "genes associated with a single disease 321\n",
      "genes associated with two diseases 13\n",
      "genes associated with multiple diseases 22\n",
      "gene with maximum number of diseases SCO2 with 7 associated diseases\n",
      "individuals per gene (max) 464\n",
      "individuals per gene (min) 1\n",
      "individuals per gene (mean) 12.209912536443149\n",
      "individuals per gene (median) 1.0\n",
      "individuals per gene (n>=10) 69\n",
      "individuals per gene (n>=20) 42\n",
      "individuals per gene (n>=50) 20\n",
      "individuals per gene (n>=100) 8\n"
     ]
    }
   ],
   "source": [
    "stats_d = stats.get_descriptive_stats()\n",
    "for k,v in stats_d.items():\n",
    "    print(k,v)"
   ]
  },
  {
   "cell_type": "code",
   "execution_count": 5,
   "metadata": {},
   "outputs": [],
   "source": [
    "counts_per_disease = stats.get_counts_per_disease()"
   ]
  },
  {
   "cell_type": "code",
   "execution_count": 12,
   "metadata": {},
   "outputs": [],
   "source": [
    "import seaborn as sns\n",
    "import matplotlib.pyplot as plt\n",
    "import numpy as np"
   ]
  },
  {
   "cell_type": "code",
   "execution_count": 66,
   "metadata": {},
   "outputs": [],
   "source": [
    "def plot_with_max(count_list, max_val, colors=None):\n",
    "    teal_color = \"#298c8c\"\n",
    "    purple_color = \"#800074\"\n",
    "    if colors is None:\n",
    "        colors = (teal_color, purple_color)\n",
    "    truncated_list = [min(x, max_val) for x in count_list]\n",
    "    ax = sns.histplot(truncated_list, bins=max_val, color=colors[0])\n",
    "    counts, bins = np.histogram(truncated_list, bins=max_val)\n",
    "    increment = 0.05 * np.max(counts) # distance from top of bar to text\n",
    "    x = bins[-1]\n",
    "    y = counts[-1] + increment\n",
    "    ax.text(x, y, f\"≥{max_val}\",\n",
    "       fontsize = 12,\n",
    "       fontstyle = \"normal\",\n",
    "       fontweight = \"bold\",\n",
    "       color = colors[1],\n",
    "       ha = \"right\", # Horizontal alignment\n",
    "       va = \"center\") # Vertical alignment\n",
    "\n"
   ]
  },
  {
   "cell_type": "code",
   "execution_count": 67,
   "metadata": {},
   "outputs": [
    {
     "data": {
      "image/png": "[encoded data removed]",
      "text/plain": [
       "<Figure size 640x480 with 1 Axes>"
      ]
     },
     "metadata": {},
     "output_type": "display_data"
    }
   ],
   "source": [
    "plot_with_max(count_list=counts_per_disease, max_val=25)"
   ]
  }
 ],
 "metadata": {
  "kernelspec": {
   "display_name": "ps24venv",
   "language": "python",
   "name": "python3"
  },
  "language_info": {
   "codemirror_mode": {
    "name": "ipython",
    "version": 3
   },
   "file_extension": ".py",
   "mimetype": "text/x-python",
   "name": "python",
   "nbconvert_exporter": "python",
   "pygments_lexer": "ipython3",
   "version": "3.8.10"
  }
 },
 "nbformat": 4,
 "nbformat_minor": 2
}
