{
 "cells": [
  {
   "cell_type": "markdown",
   "metadata": {},
   "source": [
    "# Phenopacket store statistics\n",
    "\n",
    "This notebook performs quality assessment and calculate descriptive statistics about a phenopacket-store release. \n",
    "\n",
    "The input file is the zip file that is or will be added to each release."
   ]
  },
  {
   "cell_type": "code",
   "execution_count": 1,
   "metadata": {},
   "outputs": [],
   "source": [
    "from ppktstore.stats import PPKtStoreStats"
   ]
  },
  {
   "cell_type": "code",
   "execution_count": 2,
   "metadata": {},
   "outputs": [],
   "source": [
    "stats = PPKtStoreStats(input_zipfile=\"all_phenopackets.zip\")"
   ]
  },
  {
   "cell_type": "code",
   "execution_count": 3,
   "metadata": {},
   "outputs": [
    {
     "data": {
      "text/html": [
       "<div>\n",
       "<style scoped>\n",
       "    .dataframe tbody tr th:only-of-type {\n",
       "        vertical-align: middle;\n",
       "    }\n",
       "\n",
       "    .dataframe tbody tr th {\n",
       "        vertical-align: top;\n",
       "    }\n",
       "\n",
       "    .dataframe thead th {\n",
       "        text-align: right;\n",
       "    }\n",
       "</style>\n",
       "<table border=\"1\" class=\"dataframe\">\n",
       "  <thead>\n",
       "    <tr style=\"text-align: right;\">\n",
       "      <th></th>\n",
       "      <th>disease</th>\n",
       "      <th>disease_id</th>\n",
       "      <th>patient_id</th>\n",
       "      <th>gene</th>\n",
       "      <th>allele_1</th>\n",
       "      <th>allele_2</th>\n",
       "      <th>PMID</th>\n",
       "    </tr>\n",
       "  </thead>\n",
       "  <tbody>\n",
       "    <tr>\n",
       "      <th>0</th>\n",
       "      <td>Cardiac, facial, and digital anomalies with de...</td>\n",
       "      <td>OMIM:618164</td>\n",
       "      <td>37</td>\n",
       "      <td>TRAF7</td>\n",
       "      <td>NM_032271.3:c.1964G&gt;A</td>\n",
       "      <td></td>\n",
       "      <td>PMID:32376980</td>\n",
       "    </tr>\n",
       "    <tr>\n",
       "      <th>1</th>\n",
       "      <td>Cardiac, facial, and digital anomalies with de...</td>\n",
       "      <td>OMIM:618164</td>\n",
       "      <td>43</td>\n",
       "      <td>TRAF7</td>\n",
       "      <td>NM_032271.3:c.1964G&gt;A</td>\n",
       "      <td></td>\n",
       "      <td>PMID:32376980</td>\n",
       "    </tr>\n",
       "    <tr>\n",
       "      <th>2</th>\n",
       "      <td>Cardiac, facial, and digital anomalies with de...</td>\n",
       "      <td>OMIM:618164</td>\n",
       "      <td>6 (= patient DDD4K.01539 in DDD study, Nature,...</td>\n",
       "      <td>TRAF7</td>\n",
       "      <td>NM_032271.3:c.1204C&gt;G</td>\n",
       "      <td></td>\n",
       "      <td>PMID:32376980</td>\n",
       "    </tr>\n",
       "    <tr>\n",
       "      <th>3</th>\n",
       "      <td>Cardiac, facial, and digital anomalies with de...</td>\n",
       "      <td>OMIM:618164</td>\n",
       "      <td>25</td>\n",
       "      <td>TRAF7</td>\n",
       "      <td>NM_032271.3:c.1851C&gt;G</td>\n",
       "      <td></td>\n",
       "      <td>PMID:32376980</td>\n",
       "    </tr>\n",
       "    <tr>\n",
       "      <th>4</th>\n",
       "      <td>Cardiac, facial, and digital anomalies with de...</td>\n",
       "      <td>OMIM:618164</td>\n",
       "      <td>30</td>\n",
       "      <td>TRAF7</td>\n",
       "      <td>NM_032271.3:c.1885A&gt;C</td>\n",
       "      <td></td>\n",
       "      <td>PMID:32376980</td>\n",
       "    </tr>\n",
       "  </tbody>\n",
       "</table>\n",
       "</div>"
      ],
      "text/plain": [
       "                                             disease   disease_id  \\\n",
       "0  Cardiac, facial, and digital anomalies with de...  OMIM:618164   \n",
       "1  Cardiac, facial, and digital anomalies with de...  OMIM:618164   \n",
       "2  Cardiac, facial, and digital anomalies with de...  OMIM:618164   \n",
       "3  Cardiac, facial, and digital anomalies with de...  OMIM:618164   \n",
       "4  Cardiac, facial, and digital anomalies with de...  OMIM:618164   \n",
       "\n",
       "                                          patient_id   gene  \\\n",
       "0                                                 37  TRAF7   \n",
       "1                                                 43  TRAF7   \n",
       "2  6 (= patient DDD4K.01539 in DDD study, Nature,...  TRAF7   \n",
       "3                                                 25  TRAF7   \n",
       "4                                                 30  TRAF7   \n",
       "\n",
       "                allele_1 allele_2           PMID  \n",
       "0  NM_032271.3:c.1964G>A           PMID:32376980  \n",
       "1  NM_032271.3:c.1964G>A           PMID:32376980  \n",
       "2  NM_032271.3:c.1204C>G           PMID:32376980  \n",
       "3  NM_032271.3:c.1851C>G           PMID:32376980  \n",
       "4  NM_032271.3:c.1885A>C           PMID:32376980  "
      ]
     },
     "execution_count": 3,
     "metadata": {},
     "output_type": "execute_result"
    }
   ],
   "source": [
    "df = stats.get_df()\n",
    "df.head()"
   ]
  },
  {
   "cell_type": "code",
   "execution_count": 4,
   "metadata": {},
   "outputs": [
    {
     "name": "stdout",
     "output_type": "stream",
     "text": [
      "phenopackets 4188\n",
      "diseases 388\n",
      "genes 347\n",
      "alleles 2089\n",
      "PMIDs 615\n",
      "individuals per disease (max) 464\n",
      "individuals per disease (min) 1\n",
      "individuals per disease (mean) 10.793814432989691\n",
      "individuals per disease (median) 1.0\n",
      "individuals per disease (n>=10) 88\n",
      "individuals per disease (n>=20) 45\n",
      "individuals per disease (n>=50) 17\n",
      "individuals per disease (n>=100) 6\n",
      "genes associated with a single disease 326\n",
      "genes associated with two diseases 13\n",
      "genes associated with multiple diseases 21\n",
      "gene with maximum number of diseases SCO2 with 7 associated diseases\n",
      "individuals per gene (max) 464\n",
      "individuals per gene (min) 1\n",
      "individuals per gene (mean) 12.069164265129682\n",
      "individuals per gene (median) 1.0\n",
      "individuals per gene (n>=10) 68\n",
      "individuals per gene (n>=20) 42\n",
      "individuals per gene (n>=50) 19\n",
      "individuals per gene (n>=100) 8\n"
     ]
    }
   ],
   "source": [
    "stats_d = stats.get_descriptive_stats()\n",
    "for k,v in stats_d.items():\n",
    "    print(k,v)"
   ]
  },
  {
   "cell_type": "code",
   "execution_count": 5,
   "metadata": {},
   "outputs": [
    {
     "data": {
      "text/plain": [
       "disease_id\n",
       "OMIM:612164    464\n",
       "OMIM:613721    343\n",
       "OMIM:148050    328\n",
       "OMIM:613826    191\n",
       "OMIM:615471    125\n",
       "Name: count, dtype: int64"
      ]
     },
     "execution_count": 5,
     "metadata": {},
     "output_type": "execute_result"
    }
   ],
   "source": [
    "counts_per_disease = stats.get_counts_per_disease()\n",
    "counts_per_disease.head()"
   ]
  },
  {
   "cell_type": "code",
   "execution_count": 6,
   "metadata": {},
   "outputs": [],
   "source": [
    "import matplotlib.pyplot as plt\n",
    "import pandas as pd\n",
    "\n",
    "def plot_with_max(\n",
    "        disease_counts: pd.Series, \n",
    "        max_val: int, \n",
    "        ax=None,\n",
    "        ):\n",
    "    assert isinstance(max_val, int) and max_val > 0, '`max_val` must be a positive `int`'\n",
    "\n",
    "    if ax is None:\n",
    "        _, ax = plt.subplots(figsize=(7, 4), dpi=100)\n",
    "\n",
    "    bins = list(range(max_val + 1)) + [disease_counts.max() + 1]\n",
    "    labels = list(map(str, bins[:-2])) + [f'≥{max_val}']\n",
    "    cats = pd.cut(\n",
    "        x=disease_counts, \n",
    "        bins=bins, \n",
    "        labels=labels,\n",
    "        right=False,\n",
    "    )\n",
    "    cat_count = cats.value_counts().sort_index()\n",
    "    ax.bar(x=cat_count.index, height=cat_count.values)\n",
    "    ax.set(\n",
    "        xlabel='Number of cases',\n",
    "        ylabel='Disease count',\n",
    "    )\n",
    "    ax.grid(axis='y')\n"
   ]
  },
  {
   "cell_type": "code",
   "execution_count": 7,
   "metadata": {},
   "outputs": [
    {
     "data": {
      "image/png": "[encoded data removed]",
      "text/plain": [
       "<Figure size 700x400 with 1 Axes>"
      ]
     },
     "metadata": {},
     "output_type": "display_data"
    }
   ],
   "source": [
    "plot_with_max(\n",
    "    disease_counts=counts_per_disease, \n",
    "    max_val=25,\n",
    ")"
   ]
  },
  {
   "cell_type": "markdown",
   "metadata": {},
   "source": [
    "EOF"
   ]
  }
 ],
 "metadata": {
  "kernelspec": {
   "display_name": "ps24venv",
   "language": "python",
   "name": "python3"
  },
  "language_info": {
   "codemirror_mode": {
    "name": "ipython",
    "version": 3
   },
   "file_extension": ".py",
   "mimetype": "text/x-python",
   "name": "python",
   "nbconvert_exporter": "python",
   "pygments_lexer": "ipython3",
   "version": "3.10.12"
  }
 },
 "nbformat": 4,
 "nbformat_minor": 2
}
