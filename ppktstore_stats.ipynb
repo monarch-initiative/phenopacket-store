{
 "cells": [
  {
   "cell_type": "markdown",
   "metadata": {},
   "source": [
    "# Phenopacket store statistics\n",
    "\n",
    "This notebook performs quality assessment and calculate descriptive statistics about a phenopacket-store release. \n",
    "\n",
    "The input file is the zip file that is or will be added to each release."
   ]
  },
  {
   "cell_type": "code",
   "execution_count": 1,
   "metadata": {},
   "outputs": [],
   "source": [
    "from ppktstore.stats import PPKtStoreStats\n",
    "import pandas as pd\n",
    "pd.set_option('display.max_colwidth', None)\n",
    "pd.set_option('display.max_rows', None)\n",
    "pd.set_option('display.max_columns', None)"
   ]
  },
  {
   "cell_type": "code",
   "execution_count": 2,
   "metadata": {},
   "outputs": [
    {
     "ename": "FileNotFoundError",
     "evalue": "Not a file: all_phenopackets.zip",
     "output_type": "error",
     "traceback": [
      "\u001b[0;31m---------------------------------------------------------------------------\u001b[0m",
      "\u001b[0;31mFileNotFoundError\u001b[0m                         Traceback (most recent call last)",
      "Cell \u001b[0;32mIn[2], line 1\u001b[0m\n\u001b[0;32m----> 1\u001b[0m stats \u001b[38;5;241m=\u001b[39m \u001b[43mPPKtStoreStats\u001b[49m\u001b[43m(\u001b[49m\u001b[43minput_zipfile\u001b[49m\u001b[38;5;241;43m=\u001b[39;49m\u001b[38;5;124;43m\"\u001b[39;49m\u001b[38;5;124;43mall_phenopackets.zip\u001b[39;49m\u001b[38;5;124;43m\"\u001b[39;49m\u001b[43m)\u001b[49m\n",
      "File \u001b[0;32m~/GIT/phenopacket-store/src/ppktstore/stats/_ppkt_store_stats.py:31\u001b[0m, in \u001b[0;36mPPKtStoreStats.__init__\u001b[0;34m(self, input_zipfile)\u001b[0m\n\u001b[1;32m     20\u001b[0m \u001b[38;5;250m\u001b[39m\u001b[38;5;124;03m\"\"\"input a dataframe with the data about the release\u001b[39;00m\n\u001b[1;32m     21\u001b[0m \u001b[38;5;124;03mIn a typical use case this class would be used to check the release prior to uploading the file to GitHub.\u001b[39;00m\n\u001b[1;32m     22\u001b[0m \n\u001b[0;32m   (...)\u001b[0m\n\u001b[1;32m     28\u001b[0m \u001b[38;5;124;03m    ValueError: if the file does not end with the suffix \".zip\"\u001b[39;00m\n\u001b[1;32m     29\u001b[0m \u001b[38;5;124;03m\"\"\"\u001b[39;00m\n\u001b[1;32m     30\u001b[0m \u001b[38;5;28;01mif\u001b[39;00m \u001b[38;5;129;01mnot\u001b[39;00m os\u001b[38;5;241m.\u001b[39mpath\u001b[38;5;241m.\u001b[39misfile(input_zipfile):\n\u001b[0;32m---> 31\u001b[0m     \u001b[38;5;28;01mraise\u001b[39;00m \u001b[38;5;167;01mFileNotFoundError\u001b[39;00m(\u001b[38;5;124mf\u001b[39m\u001b[38;5;124m\"\u001b[39m\u001b[38;5;124mNot a file: \u001b[39m\u001b[38;5;132;01m{\u001b[39;00minput_zipfile\u001b[38;5;132;01m}\u001b[39;00m\u001b[38;5;124m\"\u001b[39m)\n\u001b[1;32m     32\u001b[0m \u001b[38;5;28;01mif\u001b[39;00m \u001b[38;5;129;01mnot\u001b[39;00m input_zipfile\u001b[38;5;241m.\u001b[39mendswith(\u001b[38;5;124m\"\u001b[39m\u001b[38;5;124m.zip\u001b[39m\u001b[38;5;124m\"\u001b[39m):\n\u001b[1;32m     33\u001b[0m     \u001b[38;5;28;01mraise\u001b[39;00m \u001b[38;5;167;01mValueError\u001b[39;00m(\u001b[38;5;124mf\u001b[39m\u001b[38;5;124m\"\u001b[39m\u001b[38;5;124m`input_zipfile` must point to a ZIP archive with suffix .zip, but was \u001b[39m\u001b[38;5;130;01m\\\"\u001b[39;00m\u001b[38;5;132;01m{\u001b[39;00minput_zipfile\u001b[38;5;132;01m}\u001b[39;00m\u001b[38;5;130;01m\\\"\u001b[39;00m\u001b[38;5;124m\"\u001b[39m)\n",
      "\u001b[0;31mFileNotFoundError\u001b[0m: Not a file: all_phenopackets.zip"
     ]
    }
   ],
   "source": [
    "stats = PPKtStoreStats(input_zipfile=\"all_phenopackets.zip\")"
   ]
  },
  {
   "cell_type": "code",
   "execution_count": null,
   "metadata": {},
   "outputs": [],
   "source": [
    "df = stats.get_df()\n",
    "df.head(2)"
   ]
  },
  {
   "cell_type": "code",
   "execution_count": null,
   "metadata": {},
   "outputs": [],
   "source": [
    "stats_d = stats.get_descriptive_stats()\n",
    "items = list()\n",
    "for k,v in stats_d.items():\n",
    "    items.append({\"item\": k, \"value\": v})\n",
    "df = pd.DataFrame(items)\n",
    "df.head(30)"
   ]
  },
  {
   "cell_type": "markdown",
   "metadata": {},
   "source": [
    "# Display distribution of counts of phenopackets per disease"
   ]
  },
  {
   "cell_type": "code",
   "execution_count": null,
   "metadata": {},
   "outputs": [],
   "source": [
    "counts_per_disease = stats.get_counts_per_disease_df()\n",
    "counts_per_disease.head(2)"
   ]
  },
  {
   "cell_type": "code",
   "execution_count": null,
   "metadata": {},
   "outputs": [],
   "source": [
    "import matplotlib.pyplot as plt\n",
    "import pandas as pd\n",
    "import numpy as np\n",
    "\n",
    "def plot_with_max(\n",
    "        disease_counts: pd.Series,\n",
    "        max_val: int,\n",
    "        ax=None,\n",
    "        ):\n",
    "    assert isinstance(max_val, int) and max_val > 0, '`max_val` must be a positive `int`'\n",
    "\n",
    "    if ax is None:\n",
    "        _, ax = plt.subplots(figsize=(7, 4), dpi=300)\n",
    "\n",
    "    bins = list(range(1, max_val + 1)) + [disease_counts.max() + 1]\n",
    "    labels = list(map(str, bins[:-2])) + [f'  ≥{max_val}']\n",
    "    cats = pd.cut(\n",
    "        x=disease_counts,\n",
    "        bins=bins,\n",
    "        labels=labels,\n",
    "        right=False,\n",
    "    )\n",
    "    cat_count = cats.value_counts().sort_index()\n",
    "    ax.bar(x=cat_count.index, height=cat_count.values)\n",
    "    ax.set(\n",
    "        xlabel='Number of cases',\n",
    "        ylabel='Disease count',\n",
    "    )\n",
    "    ax.grid(axis='y')\n",
    "    plt.xticks(np.arange(0, max_val, step=1))\n"
   ]
  },
  {
   "cell_type": "code",
   "execution_count": null,
   "metadata": {},
   "outputs": [],
   "source": [
    "plot_with_max(\n",
    "    disease_counts=counts_per_disease[\"count\"],\n",
    "    max_val=25,\n",
    ")\n",
    "plt.savefig('counts_per_disease.png')"
   ]
  },
  {
   "cell_type": "markdown",
   "metadata": {},
   "source": [
    "# Check all disease identifiers\n",
    "They should all be CURIEs with the prefixes OMIM or MONDO. There should be no whitespace between the colon and the suffix."
   ]
  },
  {
   "cell_type": "code",
   "execution_count": null,
   "metadata": {},
   "outputs": [],
   "source": [
    "df = stats.check_disease_id()"
   ]
  },
  {
   "cell_type": "markdown",
   "metadata": {},
   "source": [
    "# Check for duplicates\n",
    "In some cases, duplicate phenopackets were inadvertently added to some of the initial cohorts at earlier stages of the project. This function lists phenopacket identifers arranged according to variant and allows us to more easily check for this kind of error."
   ]
  },
  {
   "cell_type": "code",
   "execution_count": null,
   "metadata": {},
   "outputs": [],
   "source": [
    "input_zipfile=\"all_phenopackets.zip\"\n",
    "df = stats.show_possible_duplicates_by_variant(\"ERI1\")"
   ]
  },
  {
   "cell_type": "markdown",
   "metadata": {},
   "source": [
    "# Quality control\n",
    "The following commands perform several consistency checks."
   ]
  },
  {
   "cell_type": "code",
   "execution_count": null,
   "metadata": {},
   "outputs": [],
   "source": [
    "df = stats.find_phenopackets_with_no_variants()"
   ]
  },
  {
   "cell_type": "code",
   "execution_count": null,
   "metadata": {},
   "outputs": [],
   "source": [
    "stats.show_possible_duplicates_by_variant( \"ARPC5\")"
   ]
  },
  {
   "cell_type": "code",
   "execution_count": null,
   "metadata": {},
   "outputs": [],
   "source": [
    "stats.find_phenopackets_with_no_disease()"
   ]
  },
  {
   "cell_type": "markdown",
   "metadata": {},
   "source": []
  }
 ],
 "metadata": {
  "kernelspec": {
   "display_name": "Python 3 (ipykernel)",
   "language": "python",
   "name": "python3"
  },
  "language_info": {
   "codemirror_mode": {
    "name": "ipython",
    "version": 3
   },
   "file_extension": ".py",
   "mimetype": "text/x-python",
   "name": "python",
   "nbconvert_exporter": "python",
   "pygments_lexer": "ipython3",
   "version": "3.9.6"
  }
 },
 "nbformat": 4,
 "nbformat_minor": 4
}
